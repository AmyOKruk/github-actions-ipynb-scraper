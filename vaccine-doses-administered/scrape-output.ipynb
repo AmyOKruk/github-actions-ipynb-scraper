{
 "cells": [
  {
   "cell_type": "markdown",
   "metadata": {},
   "source": [
    "# California COVID vaccinations scrape"
   ]
  },
  {
   "cell_type": "markdown",
   "metadata": {},
   "source": [
    "By [Amy O'Kruk](https://twitter.com/amyokruk)"
   ]
  },
  {
   "cell_type": "markdown",
   "metadata": {},
   "source": [
    "Downloads data on vaccine doses administered by county and statewide from a Tableau-powered dashboard from the California Department of Public Health."
   ]
  },
  {
   "cell_type": "code",
   "execution_count": 1,
   "metadata": {
    "execution": {
     "iopub.execute_input": "2021-03-17T02:17:30.090410Z",
     "iopub.status.busy": "2021-03-17T02:17:30.089849Z",
     "iopub.status.idle": "2021-03-17T02:17:30.444544Z",
     "shell.execute_reply": "2021-03-17T02:17:30.443990Z"
    }
   },
   "outputs": [],
   "source": [
    "import pandas as pd\n",
    "import requests\n",
    "from bs4 import BeautifulSoup\n",
    "import json\n",
    "import re\n",
    "import time\n",
    "from time import gmtime, strftime \n",
    "import os\n",
    "import pytz\n",
    "from datetime import datetime"
   ]
  },
  {
   "cell_type": "markdown",
   "metadata": {},
   "source": [
    "Scrape the dashboard page"
   ]
  },
  {
   "cell_type": "code",
   "execution_count": 2,
   "metadata": {
    "execution": {
     "iopub.execute_input": "2021-03-17T02:17:30.449283Z",
     "iopub.status.busy": "2021-03-17T02:17:30.447818Z",
     "iopub.status.idle": "2021-03-17T02:17:30.879626Z",
     "shell.execute_reply": "2021-03-17T02:17:30.879195Z"
    }
   },
   "outputs": [],
   "source": [
    "url = \"https://public.tableau.com/interactive/views/COVID-19VaccineDashboardPublic/Vaccine?:embed=y&:showVizHome=n&:apiID=host0\"\n",
    "\n",
    "r = requests.get(url)\n",
    "soup = BeautifulSoup(r.text, \"html.parser\")"
   ]
  },
  {
   "cell_type": "code",
   "execution_count": 3,
   "metadata": {
    "execution": {
     "iopub.execute_input": "2021-03-17T02:17:30.883791Z",
     "iopub.status.busy": "2021-03-17T02:17:30.883341Z",
     "iopub.status.idle": "2021-03-17T02:17:30.885952Z",
     "shell.execute_reply": "2021-03-17T02:17:30.886300Z"
    }
   },
   "outputs": [],
   "source": [
    "tableauData = json.loads(soup.find(\"textarea\",{\"id\": \"tsConfigContainer\"}).text)"
   ]
  },
  {
   "cell_type": "markdown",
   "metadata": {},
   "source": [
    "Get the link to the Tableau data"
   ]
  },
  {
   "cell_type": "code",
   "execution_count": 4,
   "metadata": {
    "execution": {
     "iopub.execute_input": "2021-03-17T02:17:30.889717Z",
     "iopub.status.busy": "2021-03-17T02:17:30.888953Z",
     "iopub.status.idle": "2021-03-17T02:17:30.890905Z",
     "shell.execute_reply": "2021-03-17T02:17:30.890450Z"
    }
   },
   "outputs": [],
   "source": [
    "dataUrl = f'https://public.tableau.com{tableauData[\"vizql_root\"]}/bootstrapSession/sessions/{tableauData[\"sessionid\"]}'"
   ]
  },
  {
   "cell_type": "code",
   "execution_count": 5,
   "metadata": {
    "execution": {
     "iopub.execute_input": "2021-03-17T02:17:30.895724Z",
     "iopub.status.busy": "2021-03-17T02:17:30.894118Z",
     "iopub.status.idle": "2021-03-17T02:17:31.194119Z",
     "shell.execute_reply": "2021-03-17T02:17:31.193621Z"
    }
   },
   "outputs": [],
   "source": [
    "r = requests.post(dataUrl, data= {\n",
    "    \"sheet_id\": tableauData[\"sheetId\"],\n",
    "})\n",
    "\n",
    "dataReg = re.search('\\d+;({.*})\\d+;({.*})', r.text, re.MULTILINE)\n",
    "data1 = json.loads(dataReg.group(2))\n",
    "\n",
    "dataJson = data1[\"secondaryInfo\"][\"presModelMap\"][\"dataDictionary\"][\"presModelHolder\"][\"genDataDictionaryPresModel\"][\"dataSegments\"][\"0\"][\"dataColumns\"]"
   ]
  },
  {
   "cell_type": "markdown",
   "metadata": {},
   "source": [
    "Isolate what you want"
   ]
  },
  {
   "cell_type": "code",
   "execution_count": 6,
   "metadata": {
    "execution": {
     "iopub.execute_input": "2021-03-17T02:17:31.197890Z",
     "iopub.status.busy": "2021-03-17T02:17:31.197436Z",
     "iopub.status.idle": "2021-03-17T02:17:31.200257Z",
     "shell.execute_reply": "2021-03-17T02:17:31.200632Z"
    }
   },
   "outputs": [],
   "source": [
    "counties = dataJson[2]['dataValues'][:58]"
   ]
  },
  {
   "cell_type": "code",
   "execution_count": 7,
   "metadata": {
    "execution": {
     "iopub.execute_input": "2021-03-17T02:17:31.204066Z",
     "iopub.status.busy": "2021-03-17T02:17:31.203625Z",
     "iopub.status.idle": "2021-03-17T02:17:31.206517Z",
     "shell.execute_reply": "2021-03-17T02:17:31.206145Z"
    }
   },
   "outputs": [],
   "source": [
    "doses = dataJson[0]['dataValues'][3:61]"
   ]
  },
  {
   "cell_type": "markdown",
   "metadata": {},
   "source": [
    "Data formatting"
   ]
  },
  {
   "cell_type": "code",
   "execution_count": 8,
   "metadata": {
    "execution": {
     "iopub.execute_input": "2021-03-17T02:17:31.209590Z",
     "iopub.status.busy": "2021-03-17T02:17:31.209143Z",
     "iopub.status.idle": "2021-03-17T02:17:31.212093Z",
     "shell.execute_reply": "2021-03-17T02:17:31.211727Z"
    }
   },
   "outputs": [],
   "source": [
    "zipped = dict(zip(counties, doses))"
   ]
  },
  {
   "cell_type": "code",
   "execution_count": 9,
   "metadata": {
    "execution": {
     "iopub.execute_input": "2021-03-17T02:17:31.217043Z",
     "iopub.status.busy": "2021-03-17T02:17:31.216605Z",
     "iopub.status.idle": "2021-03-17T02:17:31.219583Z",
     "shell.execute_reply": "2021-03-17T02:17:31.219209Z"
    }
   },
   "outputs": [],
   "source": [
    "df = pd.Series(zipped).reset_index()"
   ]
  },
  {
   "cell_type": "code",
   "execution_count": 10,
   "metadata": {
    "execution": {
     "iopub.execute_input": "2021-03-17T02:17:31.222655Z",
     "iopub.status.busy": "2021-03-17T02:17:31.222217Z",
     "iopub.status.idle": "2021-03-17T02:17:31.225605Z",
     "shell.execute_reply": "2021-03-17T02:17:31.225219Z"
    }
   },
   "outputs": [],
   "source": [
    "df.columns = ['location','doses']"
   ]
  },
  {
   "cell_type": "markdown",
   "metadata": {},
   "source": [
    "Grab the overall California total"
   ]
  },
  {
   "cell_type": "code",
   "execution_count": 11,
   "metadata": {
    "execution": {
     "iopub.execute_input": "2021-03-17T02:17:31.228707Z",
     "iopub.status.busy": "2021-03-17T02:17:31.228264Z",
     "iopub.status.idle": "2021-03-17T02:17:31.231248Z",
     "shell.execute_reply": "2021-03-17T02:17:31.230838Z"
    }
   },
   "outputs": [],
   "source": [
    "add = {'location':'California','doses':dataJson[0]['dataValues'][2]}"
   ]
  },
  {
   "cell_type": "code",
   "execution_count": 12,
   "metadata": {
    "execution": {
     "iopub.execute_input": "2021-03-17T02:17:31.236551Z",
     "iopub.status.busy": "2021-03-17T02:17:31.236110Z",
     "iopub.status.idle": "2021-03-17T02:17:31.239065Z",
     "shell.execute_reply": "2021-03-17T02:17:31.238678Z"
    }
   },
   "outputs": [],
   "source": [
    "df = df.append(add, ignore_index=True)"
   ]
  },
  {
   "cell_type": "code",
   "execution_count": 13,
   "metadata": {
    "execution": {
     "iopub.execute_input": "2021-03-17T02:17:31.242687Z",
     "iopub.status.busy": "2021-03-17T02:17:31.242248Z",
     "iopub.status.idle": "2021-03-17T02:17:31.245216Z",
     "shell.execute_reply": "2021-03-17T02:17:31.244832Z"
    }
   },
   "outputs": [],
   "source": [
    "df = df.sort_values(by='location')"
   ]
  },
  {
   "cell_type": "code",
   "execution_count": 14,
   "metadata": {
    "execution": {
     "iopub.execute_input": "2021-03-17T02:17:31.250096Z",
     "iopub.status.busy": "2021-03-17T02:17:31.249658Z",
     "iopub.status.idle": "2021-03-17T02:17:31.252249Z",
     "shell.execute_reply": "2021-03-17T02:17:31.252618Z"
    }
   },
   "outputs": [],
   "source": [
    "df = df[df.location == 'California'].append(df[df.location != 'California']).reset_index(drop=True)"
   ]
  },
  {
   "cell_type": "code",
   "execution_count": null,
   "metadata": {},
   "outputs": [],
   "source": []
  },
  {
   "cell_type": "code",
   "execution_count": 15,
   "metadata": {
    "execution": {
     "iopub.execute_input": "2021-03-17T02:17:31.255561Z",
     "iopub.status.busy": "2021-03-17T02:17:31.255082Z",
     "iopub.status.idle": "2021-03-17T02:17:31.271552Z",
     "shell.execute_reply": "2021-03-17T02:17:31.271078Z"
    }
   },
   "outputs": [],
   "source": [
    "tz = pytz.timezone(\"America/New_York\")"
   ]
  },
  {
   "cell_type": "code",
   "execution_count": 16,
   "metadata": {
    "execution": {
     "iopub.execute_input": "2021-03-17T02:17:31.274484Z",
     "iopub.status.busy": "2021-03-17T02:17:31.274045Z",
     "iopub.status.idle": "2021-03-17T02:17:31.277031Z",
     "shell.execute_reply": "2021-03-17T02:17:31.276636Z"
    }
   },
   "outputs": [],
   "source": [
    "today = datetime.now(tz).date()"
   ]
  },
  {
   "cell_type": "code",
   "execution_count": 17,
   "metadata": {
    "execution": {
     "iopub.execute_input": "2021-03-17T02:17:31.280132Z",
     "iopub.status.busy": "2021-03-17T02:17:31.279692Z",
     "iopub.status.idle": "2021-03-17T02:17:31.282633Z",
     "shell.execute_reply": "2021-03-17T02:17:31.282249Z"
    }
   },
   "outputs": [],
   "source": [
    "data_dir = os.path.join(os.path.abspath(\"\"), \"data\")"
   ]
  },
  {
   "cell_type": "code",
   "execution_count": 18,
   "metadata": {
    "execution": {
     "iopub.execute_input": "2021-03-17T02:17:31.286127Z",
     "iopub.status.busy": "2021-03-17T02:17:31.285677Z",
     "iopub.status.idle": "2021-03-17T02:17:31.290539Z",
     "shell.execute_reply": "2021-03-17T02:17:31.290154Z"
    }
   },
   "outputs": [],
   "source": [
    "df.to_csv(os.path.join(data_dir, f\"{today}.csv\"), index=False)"
   ]
  },
  {
   "cell_type": "code",
   "execution_count": null,
   "metadata": {},
   "outputs": [],
   "source": []
  }
 ],
 "metadata": {
  "kernelspec": {
   "display_name": "Python 3",
   "language": "python",
   "name": "python3"
  },
  "language_info": {
   "codemirror_mode": {
    "name": "ipython",
    "version": 3
   },
   "file_extension": ".py",
   "mimetype": "text/x-python",
   "name": "python",
   "nbconvert_exporter": "python",
   "pygments_lexer": "ipython3",
   "version": "3.8.8"
  }
 },
 "nbformat": 4,
 "nbformat_minor": 4
}
