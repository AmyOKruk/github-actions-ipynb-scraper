{
 "cells": [
  {
   "cell_type": "markdown",
   "metadata": {},
   "source": [
    "# California COVID vaccinations scrape"
   ]
  },
  {
   "cell_type": "markdown",
   "metadata": {},
   "source": [
    "By [Amy O'Kruk](https://twitter.com/amyokruk)"
   ]
  },
  {
   "cell_type": "markdown",
   "metadata": {},
   "source": [
    "Downloads data on vaccine doses administered by county and statewide from a Tableau-powered dashboard from the California Department of Public Health."
   ]
  },
  {
   "cell_type": "code",
   "execution_count": 1,
   "metadata": {
    "execution": {
     "iopub.execute_input": "2021-03-16T15:13:12.663451Z",
     "iopub.status.busy": "2021-03-16T15:13:12.662828Z",
     "iopub.status.idle": "2021-03-16T15:13:13.072213Z",
     "shell.execute_reply": "2021-03-16T15:13:13.071497Z"
    }
   },
   "outputs": [],
   "source": [
    "import pandas as pd\n",
    "import requests\n",
    "from bs4 import BeautifulSoup\n",
    "import json\n",
    "import re\n",
    "import time\n",
    "from time import gmtime, strftime \n",
    "import os\n",
    "import pytz\n",
    "from datetime import datetime"
   ]
  },
  {
   "cell_type": "markdown",
   "metadata": {},
   "source": [
    "Scrape the dashboard page"
   ]
  },
  {
   "cell_type": "code",
   "execution_count": 2,
   "metadata": {
    "execution": {
     "iopub.execute_input": "2021-03-16T15:13:13.079414Z",
     "iopub.status.busy": "2021-03-16T15:13:13.078812Z",
     "iopub.status.idle": "2021-03-16T15:13:13.429486Z",
     "shell.execute_reply": "2021-03-16T15:13:13.428829Z"
    }
   },
   "outputs": [],
   "source": [
    "url = \"https://public.tableau.com/interactive/views/COVID-19VaccineDashboardPublic/Vaccine?:embed=y&:showVizHome=n&:apiID=host0\"\n",
    "\n",
    "r = requests.get(url)\n",
    "soup = BeautifulSoup(r.text, \"html.parser\")"
   ]
  },
  {
   "cell_type": "code",
   "execution_count": 3,
   "metadata": {
    "execution": {
     "iopub.execute_input": "2021-03-16T15:13:13.434935Z",
     "iopub.status.busy": "2021-03-16T15:13:13.434340Z",
     "iopub.status.idle": "2021-03-16T15:13:13.438081Z",
     "shell.execute_reply": "2021-03-16T15:13:13.438605Z"
    }
   },
   "outputs": [],
   "source": [
    "tableauData = json.loads(soup.find(\"textarea\",{\"id\": \"tsConfigContainer\"}).text)"
   ]
  },
  {
   "cell_type": "markdown",
   "metadata": {},
   "source": [
    "Get the link to the Tableau data"
   ]
  },
  {
   "cell_type": "code",
   "execution_count": 4,
   "metadata": {
    "execution": {
     "iopub.execute_input": "2021-03-16T15:13:13.443141Z",
     "iopub.status.busy": "2021-03-16T15:13:13.442506Z",
     "iopub.status.idle": "2021-03-16T15:13:13.446932Z",
     "shell.execute_reply": "2021-03-16T15:13:13.446388Z"
    }
   },
   "outputs": [],
   "source": [
    "dataUrl = f'https://public.tableau.com{tableauData[\"vizql_root\"]}/bootstrapSession/sessions/{tableauData[\"sessionid\"]}'"
   ]
  },
  {
   "cell_type": "code",
   "execution_count": 5,
   "metadata": {
    "execution": {
     "iopub.execute_input": "2021-03-16T15:13:13.454661Z",
     "iopub.status.busy": "2021-03-16T15:13:13.453769Z",
     "iopub.status.idle": "2021-03-16T15:13:13.714356Z",
     "shell.execute_reply": "2021-03-16T15:13:13.713805Z"
    }
   },
   "outputs": [],
   "source": [
    "r = requests.post(dataUrl, data= {\n",
    "    \"sheet_id\": tableauData[\"sheetId\"],\n",
    "})\n",
    "\n",
    "dataReg = re.search('\\d+;({.*})\\d+;({.*})', r.text, re.MULTILINE)\n",
    "data1 = json.loads(dataReg.group(2))\n",
    "\n",
    "dataJson = data1[\"secondaryInfo\"][\"presModelMap\"][\"dataDictionary\"][\"presModelHolder\"][\"genDataDictionaryPresModel\"][\"dataSegments\"][\"0\"][\"dataColumns\"]"
   ]
  },
  {
   "cell_type": "markdown",
   "metadata": {},
   "source": [
    "Isolate what you want"
   ]
  },
  {
   "cell_type": "code",
   "execution_count": 6,
   "metadata": {
    "execution": {
     "iopub.execute_input": "2021-03-16T15:13:13.719439Z",
     "iopub.status.busy": "2021-03-16T15:13:13.718047Z",
     "iopub.status.idle": "2021-03-16T15:13:13.720034Z",
     "shell.execute_reply": "2021-03-16T15:13:13.720768Z"
    }
   },
   "outputs": [],
   "source": [
    "counties = dataJson[2]['dataValues'][:58]"
   ]
  },
  {
   "cell_type": "code",
   "execution_count": 7,
   "metadata": {
    "execution": {
     "iopub.execute_input": "2021-03-16T15:13:13.725718Z",
     "iopub.status.busy": "2021-03-16T15:13:13.724351Z",
     "iopub.status.idle": "2021-03-16T15:13:13.726519Z",
     "shell.execute_reply": "2021-03-16T15:13:13.726995Z"
    }
   },
   "outputs": [],
   "source": [
    "doses = dataJson[0]['dataValues'][3:61]"
   ]
  },
  {
   "cell_type": "markdown",
   "metadata": {},
   "source": [
    "Data formatting"
   ]
  },
  {
   "cell_type": "code",
   "execution_count": 8,
   "metadata": {
    "execution": {
     "iopub.execute_input": "2021-03-16T15:13:13.731728Z",
     "iopub.status.busy": "2021-03-16T15:13:13.730313Z",
     "iopub.status.idle": "2021-03-16T15:13:13.732354Z",
     "shell.execute_reply": "2021-03-16T15:13:13.732813Z"
    }
   },
   "outputs": [],
   "source": [
    "zipped = dict(zip(counties, doses))"
   ]
  },
  {
   "cell_type": "code",
   "execution_count": 9,
   "metadata": {
    "execution": {
     "iopub.execute_input": "2021-03-16T15:13:13.740876Z",
     "iopub.status.busy": "2021-03-16T15:13:13.739446Z",
     "iopub.status.idle": "2021-03-16T15:13:13.741584Z",
     "shell.execute_reply": "2021-03-16T15:13:13.742030Z"
    }
   },
   "outputs": [],
   "source": [
    "df = pd.Series(zipped).reset_index()"
   ]
  },
  {
   "cell_type": "code",
   "execution_count": 10,
   "metadata": {
    "execution": {
     "iopub.execute_input": "2021-03-16T15:13:13.746849Z",
     "iopub.status.busy": "2021-03-16T15:13:13.745610Z",
     "iopub.status.idle": "2021-03-16T15:13:13.747569Z",
     "shell.execute_reply": "2021-03-16T15:13:13.748008Z"
    }
   },
   "outputs": [],
   "source": [
    "df.columns = ['location','doses']"
   ]
  },
  {
   "cell_type": "markdown",
   "metadata": {},
   "source": [
    "Grab the overall California total"
   ]
  },
  {
   "cell_type": "code",
   "execution_count": 11,
   "metadata": {
    "execution": {
     "iopub.execute_input": "2021-03-16T15:13:13.752921Z",
     "iopub.status.busy": "2021-03-16T15:13:13.751631Z",
     "iopub.status.idle": "2021-03-16T15:13:13.753710Z",
     "shell.execute_reply": "2021-03-16T15:13:13.754189Z"
    }
   },
   "outputs": [],
   "source": [
    "add = {'location':'California','doses':dataJson[0]['dataValues'][2]}"
   ]
  },
  {
   "cell_type": "code",
   "execution_count": 12,
   "metadata": {
    "execution": {
     "iopub.execute_input": "2021-03-16T15:13:13.761686Z",
     "iopub.status.busy": "2021-03-16T15:13:13.760429Z",
     "iopub.status.idle": "2021-03-16T15:13:13.762476Z",
     "shell.execute_reply": "2021-03-16T15:13:13.762935Z"
    }
   },
   "outputs": [],
   "source": [
    "df = df.append(add, ignore_index=True)"
   ]
  },
  {
   "cell_type": "code",
   "execution_count": 13,
   "metadata": {
    "execution": {
     "iopub.execute_input": "2021-03-16T15:13:13.767721Z",
     "iopub.status.busy": "2021-03-16T15:13:13.766729Z",
     "iopub.status.idle": "2021-03-16T15:13:13.768404Z",
     "shell.execute_reply": "2021-03-16T15:13:13.769068Z"
    }
   },
   "outputs": [],
   "source": [
    "df = df.sort_values(by='location')"
   ]
  },
  {
   "cell_type": "code",
   "execution_count": 14,
   "metadata": {
    "execution": {
     "iopub.execute_input": "2021-03-16T15:13:13.776940Z",
     "iopub.status.busy": "2021-03-16T15:13:13.775572Z",
     "iopub.status.idle": "2021-03-16T15:13:13.777543Z",
     "shell.execute_reply": "2021-03-16T15:13:13.777979Z"
    }
   },
   "outputs": [],
   "source": [
    "df = df[df.location == 'California'].append(df[df.location != 'California']).reset_index(drop=True)"
   ]
  },
  {
   "cell_type": "code",
   "execution_count": null,
   "metadata": {},
   "outputs": [],
   "source": []
  },
  {
   "cell_type": "code",
   "execution_count": 15,
   "metadata": {
    "execution": {
     "iopub.execute_input": "2021-03-16T15:13:13.782007Z",
     "iopub.status.busy": "2021-03-16T15:13:13.781329Z",
     "iopub.status.idle": "2021-03-16T15:13:13.801624Z",
     "shell.execute_reply": "2021-03-16T15:13:13.802089Z"
    }
   },
   "outputs": [],
   "source": [
    "tz = pytz.timezone(\"America/New_York\")"
   ]
  },
  {
   "cell_type": "code",
   "execution_count": 16,
   "metadata": {
    "execution": {
     "iopub.execute_input": "2021-03-16T15:13:13.806932Z",
     "iopub.status.busy": "2021-03-16T15:13:13.805553Z",
     "iopub.status.idle": "2021-03-16T15:13:13.807647Z",
     "shell.execute_reply": "2021-03-16T15:13:13.808102Z"
    }
   },
   "outputs": [],
   "source": [
    "today = datetime.now(tz).date()"
   ]
  },
  {
   "cell_type": "code",
   "execution_count": 17,
   "metadata": {
    "execution": {
     "iopub.execute_input": "2021-03-16T15:13:13.812785Z",
     "iopub.status.busy": "2021-03-16T15:13:13.811448Z",
     "iopub.status.idle": "2021-03-16T15:13:13.813375Z",
     "shell.execute_reply": "2021-03-16T15:13:13.813803Z"
    }
   },
   "outputs": [],
   "source": [
    "data_dir = os.path.join(os.path.abspath(\"\"), \"data\")"
   ]
  },
  {
   "cell_type": "code",
   "execution_count": 18,
   "metadata": {
    "execution": {
     "iopub.execute_input": "2021-03-16T15:13:13.820187Z",
     "iopub.status.busy": "2021-03-16T15:13:13.817192Z",
     "iopub.status.idle": "2021-03-16T15:13:13.822070Z",
     "shell.execute_reply": "2021-03-16T15:13:13.822553Z"
    }
   },
   "outputs": [],
   "source": [
    "df.to_csv(os.path.join(data_dir, f\"{today}.csv\"), index=False)"
   ]
  },
  {
   "cell_type": "code",
   "execution_count": null,
   "metadata": {},
   "outputs": [],
   "source": []
  }
 ],
 "metadata": {
  "kernelspec": {
   "display_name": "Python 3",
   "language": "python",
   "name": "python3"
  },
  "language_info": {
   "codemirror_mode": {
    "name": "ipython",
    "version": 3
   },
   "file_extension": ".py",
   "mimetype": "text/x-python",
   "name": "python",
   "nbconvert_exporter": "python",
   "pygments_lexer": "ipython3",
   "version": "3.8.8"
  }
 },
 "nbformat": 4,
 "nbformat_minor": 4
}
