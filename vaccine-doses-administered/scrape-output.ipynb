{
 "cells": [
  {
   "cell_type": "markdown",
   "metadata": {},
   "source": [
    "# California COVID vaccinations scrape"
   ]
  },
  {
   "cell_type": "markdown",
   "metadata": {},
   "source": [
    "By [Amy O'Kruk](https://twitter.com/amyokruk)"
   ]
  },
  {
   "cell_type": "markdown",
   "metadata": {},
   "source": [
    "Downloads data on vaccine doses administered by county and statewide from a Tableau-powered dashboard from the California Department of Public Health."
   ]
  },
  {
   "cell_type": "code",
   "execution_count": 1,
   "metadata": {
    "execution": {
     "iopub.execute_input": "2021-03-16T17:13:40.824174Z",
     "iopub.status.busy": "2021-03-16T17:13:40.823429Z",
     "iopub.status.idle": "2021-03-16T17:13:41.226035Z",
     "shell.execute_reply": "2021-03-16T17:13:41.224991Z"
    }
   },
   "outputs": [],
   "source": [
    "import pandas as pd\n",
    "import requests\n",
    "from bs4 import BeautifulSoup\n",
    "import json\n",
    "import re\n",
    "import time\n",
    "from time import gmtime, strftime \n",
    "import os\n",
    "import pytz\n",
    "from datetime import datetime"
   ]
  },
  {
   "cell_type": "markdown",
   "metadata": {},
   "source": [
    "Scrape the dashboard page"
   ]
  },
  {
   "cell_type": "code",
   "execution_count": 2,
   "metadata": {
    "execution": {
     "iopub.execute_input": "2021-03-16T17:13:41.230819Z",
     "iopub.status.busy": "2021-03-16T17:13:41.230207Z",
     "iopub.status.idle": "2021-03-16T17:13:41.528496Z",
     "shell.execute_reply": "2021-03-16T17:13:41.528982Z"
    }
   },
   "outputs": [],
   "source": [
    "url = \"https://public.tableau.com/interactive/views/COVID-19VaccineDashboardPublic/Vaccine?:embed=y&:showVizHome=n&:apiID=host0\"\n",
    "\n",
    "r = requests.get(url)\n",
    "soup = BeautifulSoup(r.text, \"html.parser\")"
   ]
  },
  {
   "cell_type": "code",
   "execution_count": 3,
   "metadata": {
    "execution": {
     "iopub.execute_input": "2021-03-16T17:13:41.533859Z",
     "iopub.status.busy": "2021-03-16T17:13:41.533342Z",
     "iopub.status.idle": "2021-03-16T17:13:41.536482Z",
     "shell.execute_reply": "2021-03-16T17:13:41.536888Z"
    }
   },
   "outputs": [],
   "source": [
    "tableauData = json.loads(soup.find(\"textarea\",{\"id\": \"tsConfigContainer\"}).text)"
   ]
  },
  {
   "cell_type": "markdown",
   "metadata": {},
   "source": [
    "Get the link to the Tableau data"
   ]
  },
  {
   "cell_type": "code",
   "execution_count": 4,
   "metadata": {
    "execution": {
     "iopub.execute_input": "2021-03-16T17:13:41.541304Z",
     "iopub.status.busy": "2021-03-16T17:13:41.540178Z",
     "iopub.status.idle": "2021-03-16T17:13:41.542222Z",
     "shell.execute_reply": "2021-03-16T17:13:41.542870Z"
    }
   },
   "outputs": [],
   "source": [
    "dataUrl = f'https://public.tableau.com{tableauData[\"vizql_root\"]}/bootstrapSession/sessions/{tableauData[\"sessionid\"]}'"
   ]
  },
  {
   "cell_type": "code",
   "execution_count": 5,
   "metadata": {
    "execution": {
     "iopub.execute_input": "2021-03-16T17:13:41.549826Z",
     "iopub.status.busy": "2021-03-16T17:13:41.549281Z",
     "iopub.status.idle": "2021-03-16T17:13:42.051500Z",
     "shell.execute_reply": "2021-03-16T17:13:42.050630Z"
    }
   },
   "outputs": [],
   "source": [
    "r = requests.post(dataUrl, data= {\n",
    "    \"sheet_id\": tableauData[\"sheetId\"],\n",
    "})\n",
    "\n",
    "dataReg = re.search('\\d+;({.*})\\d+;({.*})', r.text, re.MULTILINE)\n",
    "data1 = json.loads(dataReg.group(2))\n",
    "\n",
    "dataJson = data1[\"secondaryInfo\"][\"presModelMap\"][\"dataDictionary\"][\"presModelHolder\"][\"genDataDictionaryPresModel\"][\"dataSegments\"][\"0\"][\"dataColumns\"]"
   ]
  },
  {
   "cell_type": "markdown",
   "metadata": {},
   "source": [
    "Isolate what you want"
   ]
  },
  {
   "cell_type": "code",
   "execution_count": 6,
   "metadata": {
    "execution": {
     "iopub.execute_input": "2021-03-16T17:13:42.057706Z",
     "iopub.status.busy": "2021-03-16T17:13:42.056416Z",
     "iopub.status.idle": "2021-03-16T17:13:42.058677Z",
     "shell.execute_reply": "2021-03-16T17:13:42.058205Z"
    }
   },
   "outputs": [],
   "source": [
    "counties = dataJson[2]['dataValues'][:58]"
   ]
  },
  {
   "cell_type": "code",
   "execution_count": 7,
   "metadata": {
    "execution": {
     "iopub.execute_input": "2021-03-16T17:13:42.063046Z",
     "iopub.status.busy": "2021-03-16T17:13:42.061858Z",
     "iopub.status.idle": "2021-03-16T17:13:42.063707Z",
     "shell.execute_reply": "2021-03-16T17:13:42.064137Z"
    }
   },
   "outputs": [],
   "source": [
    "doses = dataJson[0]['dataValues'][3:61]"
   ]
  },
  {
   "cell_type": "markdown",
   "metadata": {},
   "source": [
    "Data formatting"
   ]
  },
  {
   "cell_type": "code",
   "execution_count": 8,
   "metadata": {
    "execution": {
     "iopub.execute_input": "2021-03-16T17:13:42.068556Z",
     "iopub.status.busy": "2021-03-16T17:13:42.067381Z",
     "iopub.status.idle": "2021-03-16T17:13:42.069156Z",
     "shell.execute_reply": "2021-03-16T17:13:42.069585Z"
    }
   },
   "outputs": [],
   "source": [
    "zipped = dict(zip(counties, doses))"
   ]
  },
  {
   "cell_type": "code",
   "execution_count": 9,
   "metadata": {
    "execution": {
     "iopub.execute_input": "2021-03-16T17:13:42.076036Z",
     "iopub.status.busy": "2021-03-16T17:13:42.074881Z",
     "iopub.status.idle": "2021-03-16T17:13:42.076636Z",
     "shell.execute_reply": "2021-03-16T17:13:42.077062Z"
    }
   },
   "outputs": [],
   "source": [
    "df = pd.Series(zipped).reset_index()"
   ]
  },
  {
   "cell_type": "code",
   "execution_count": 10,
   "metadata": {
    "execution": {
     "iopub.execute_input": "2021-03-16T17:13:42.081365Z",
     "iopub.status.busy": "2021-03-16T17:13:42.080303Z",
     "iopub.status.idle": "2021-03-16T17:13:42.082021Z",
     "shell.execute_reply": "2021-03-16T17:13:42.082471Z"
    }
   },
   "outputs": [],
   "source": [
    "df.columns = ['location','doses']"
   ]
  },
  {
   "cell_type": "markdown",
   "metadata": {},
   "source": [
    "Grab the overall California total"
   ]
  },
  {
   "cell_type": "code",
   "execution_count": 11,
   "metadata": {
    "execution": {
     "iopub.execute_input": "2021-03-16T17:13:42.086843Z",
     "iopub.status.busy": "2021-03-16T17:13:42.085666Z",
     "iopub.status.idle": "2021-03-16T17:13:42.087562Z",
     "shell.execute_reply": "2021-03-16T17:13:42.087991Z"
    }
   },
   "outputs": [],
   "source": [
    "add = {'location':'California','doses':dataJson[0]['dataValues'][2]}"
   ]
  },
  {
   "cell_type": "code",
   "execution_count": 12,
   "metadata": {
    "execution": {
     "iopub.execute_input": "2021-03-16T17:13:42.095103Z",
     "iopub.status.busy": "2021-03-16T17:13:42.093911Z",
     "iopub.status.idle": "2021-03-16T17:13:42.095699Z",
     "shell.execute_reply": "2021-03-16T17:13:42.096124Z"
    }
   },
   "outputs": [],
   "source": [
    "df = df.append(add, ignore_index=True)"
   ]
  },
  {
   "cell_type": "code",
   "execution_count": 13,
   "metadata": {
    "execution": {
     "iopub.execute_input": "2021-03-16T17:13:42.101093Z",
     "iopub.status.busy": "2021-03-16T17:13:42.099954Z",
     "iopub.status.idle": "2021-03-16T17:13:42.101796Z",
     "shell.execute_reply": "2021-03-16T17:13:42.102228Z"
    }
   },
   "outputs": [],
   "source": [
    "df = df.sort_values(by='location')"
   ]
  },
  {
   "cell_type": "code",
   "execution_count": 14,
   "metadata": {
    "execution": {
     "iopub.execute_input": "2021-03-16T17:13:42.108776Z",
     "iopub.status.busy": "2021-03-16T17:13:42.107596Z",
     "iopub.status.idle": "2021-03-16T17:13:42.109375Z",
     "shell.execute_reply": "2021-03-16T17:13:42.109802Z"
    }
   },
   "outputs": [],
   "source": [
    "df = df[df.location == 'California'].append(df[df.location != 'California']).reset_index(drop=True)"
   ]
  },
  {
   "cell_type": "code",
   "execution_count": null,
   "metadata": {},
   "outputs": [],
   "source": []
  },
  {
   "cell_type": "code",
   "execution_count": 15,
   "metadata": {
    "execution": {
     "iopub.execute_input": "2021-03-16T17:13:42.113135Z",
     "iopub.status.busy": "2021-03-16T17:13:42.112625Z",
     "iopub.status.idle": "2021-03-16T17:13:42.130218Z",
     "shell.execute_reply": "2021-03-16T17:13:42.129729Z"
    }
   },
   "outputs": [],
   "source": [
    "tz = pytz.timezone(\"America/New_York\")"
   ]
  },
  {
   "cell_type": "code",
   "execution_count": 16,
   "metadata": {
    "execution": {
     "iopub.execute_input": "2021-03-16T17:13:42.134688Z",
     "iopub.status.busy": "2021-03-16T17:13:42.133419Z",
     "iopub.status.idle": "2021-03-16T17:13:42.135302Z",
     "shell.execute_reply": "2021-03-16T17:13:42.135734Z"
    }
   },
   "outputs": [],
   "source": [
    "today = datetime.now(tz).date()"
   ]
  },
  {
   "cell_type": "code",
   "execution_count": 17,
   "metadata": {
    "execution": {
     "iopub.execute_input": "2021-03-16T17:13:42.140387Z",
     "iopub.status.busy": "2021-03-16T17:13:42.138949Z",
     "iopub.status.idle": "2021-03-16T17:13:42.140979Z",
     "shell.execute_reply": "2021-03-16T17:13:42.141403Z"
    }
   },
   "outputs": [],
   "source": [
    "data_dir = os.path.join(os.path.abspath(\"\"), \"data\")"
   ]
  },
  {
   "cell_type": "code",
   "execution_count": 18,
   "metadata": {
    "execution": {
     "iopub.execute_input": "2021-03-16T17:13:42.145765Z",
     "iopub.status.busy": "2021-03-16T17:13:42.144713Z",
     "iopub.status.idle": "2021-03-16T17:13:42.149108Z",
     "shell.execute_reply": "2021-03-16T17:13:42.148673Z"
    }
   },
   "outputs": [],
   "source": [
    "df.to_csv(os.path.join(data_dir, f\"{today}.csv\"), index=False)"
   ]
  },
  {
   "cell_type": "code",
   "execution_count": null,
   "metadata": {},
   "outputs": [],
   "source": []
  }
 ],
 "metadata": {
  "kernelspec": {
   "display_name": "Python 3",
   "language": "python",
   "name": "python3"
  },
  "language_info": {
   "codemirror_mode": {
    "name": "ipython",
    "version": 3
   },
   "file_extension": ".py",
   "mimetype": "text/x-python",
   "name": "python",
   "nbconvert_exporter": "python",
   "pygments_lexer": "ipython3",
   "version": "3.8.8"
  }
 },
 "nbformat": 4,
 "nbformat_minor": 4
}
