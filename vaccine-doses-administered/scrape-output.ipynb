{
 "cells": [
  {
   "cell_type": "markdown",
   "metadata": {},
   "source": [
    "# California COVID vaccinations scrape"
   ]
  },
  {
   "cell_type": "markdown",
   "metadata": {},
   "source": [
    "By [Amy O'Kruk](https://twitter.com/amyokruk)"
   ]
  },
  {
   "cell_type": "markdown",
   "metadata": {},
   "source": [
    "Downloads data on vaccine doses administered by county and statewide from a Tableau-powered dashboard from the California Department of Public Health."
   ]
  },
  {
   "cell_type": "code",
   "execution_count": 1,
   "metadata": {
    "execution": {
     "iopub.execute_input": "2021-03-19T10:14:28.969402Z",
     "iopub.status.busy": "2021-03-19T10:14:28.968738Z",
     "iopub.status.idle": "2021-03-19T10:14:29.370973Z",
     "shell.execute_reply": "2021-03-19T10:14:29.371698Z"
    }
   },
   "outputs": [],
   "source": [
    "import pandas as pd\n",
    "import requests\n",
    "from bs4 import BeautifulSoup\n",
    "import json\n",
    "import re\n",
    "import time\n",
    "from time import gmtime, strftime \n",
    "import os\n",
    "import pytz\n",
    "from datetime import datetime"
   ]
  },
  {
   "cell_type": "markdown",
   "metadata": {},
   "source": [
    "Scrape the dashboard page"
   ]
  },
  {
   "cell_type": "code",
   "execution_count": 2,
   "metadata": {
    "execution": {
     "iopub.execute_input": "2021-03-19T10:14:29.376388Z",
     "iopub.status.busy": "2021-03-19T10:14:29.375854Z",
     "iopub.status.idle": "2021-03-19T10:14:29.780329Z",
     "shell.execute_reply": "2021-03-19T10:14:29.779731Z"
    }
   },
   "outputs": [],
   "source": [
    "url = \"https://public.tableau.com/interactive/views/COVID-19VaccineDashboardPublic/Vaccine?:embed=y&:showVizHome=n&:apiID=host0\"\n",
    "\n",
    "r = requests.get(url)\n",
    "soup = BeautifulSoup(r.text, \"html.parser\")"
   ]
  },
  {
   "cell_type": "code",
   "execution_count": 3,
   "metadata": {
    "execution": {
     "iopub.execute_input": "2021-03-19T10:14:29.786194Z",
     "iopub.status.busy": "2021-03-19T10:14:29.785005Z",
     "iopub.status.idle": "2021-03-19T10:14:29.786811Z",
     "shell.execute_reply": "2021-03-19T10:14:29.787255Z"
    }
   },
   "outputs": [],
   "source": [
    "tableauData = json.loads(soup.find(\"textarea\",{\"id\": \"tsConfigContainer\"}).text)"
   ]
  },
  {
   "cell_type": "markdown",
   "metadata": {},
   "source": [
    "Get the link to the Tableau data"
   ]
  },
  {
   "cell_type": "code",
   "execution_count": 4,
   "metadata": {
    "execution": {
     "iopub.execute_input": "2021-03-19T10:14:29.791653Z",
     "iopub.status.busy": "2021-03-19T10:14:29.790446Z",
     "iopub.status.idle": "2021-03-19T10:14:29.792316Z",
     "shell.execute_reply": "2021-03-19T10:14:29.792747Z"
    }
   },
   "outputs": [],
   "source": [
    "dataUrl = f'https://public.tableau.com{tableauData[\"vizql_root\"]}/bootstrapSession/sessions/{tableauData[\"sessionid\"]}'"
   ]
  },
  {
   "cell_type": "code",
   "execution_count": 5,
   "metadata": {
    "execution": {
     "iopub.execute_input": "2021-03-19T10:14:29.799933Z",
     "iopub.status.busy": "2021-03-19T10:14:29.799396Z",
     "iopub.status.idle": "2021-03-19T10:14:30.236530Z",
     "shell.execute_reply": "2021-03-19T10:14:30.236058Z"
    }
   },
   "outputs": [],
   "source": [
    "r = requests.post(dataUrl, data= {\n",
    "    \"sheet_id\": tableauData[\"sheetId\"],\n",
    "})\n",
    "\n",
    "dataReg = re.search('\\d+;({.*})\\d+;({.*})', r.text, re.MULTILINE)\n",
    "data1 = json.loads(dataReg.group(2))\n",
    "\n",
    "dataJson = data1[\"secondaryInfo\"][\"presModelMap\"][\"dataDictionary\"][\"presModelHolder\"][\"genDataDictionaryPresModel\"][\"dataSegments\"][\"0\"][\"dataColumns\"]"
   ]
  },
  {
   "cell_type": "markdown",
   "metadata": {},
   "source": [
    "Isolate what you want"
   ]
  },
  {
   "cell_type": "code",
   "execution_count": 6,
   "metadata": {
    "execution": {
     "iopub.execute_input": "2021-03-19T10:14:30.241140Z",
     "iopub.status.busy": "2021-03-19T10:14:30.240033Z",
     "iopub.status.idle": "2021-03-19T10:14:30.241752Z",
     "shell.execute_reply": "2021-03-19T10:14:30.242244Z"
    }
   },
   "outputs": [],
   "source": [
    "counties = dataJson[2]['dataValues'][:58]"
   ]
  },
  {
   "cell_type": "code",
   "execution_count": 7,
   "metadata": {
    "execution": {
     "iopub.execute_input": "2021-03-19T10:14:30.246645Z",
     "iopub.status.busy": "2021-03-19T10:14:30.245446Z",
     "iopub.status.idle": "2021-03-19T10:14:30.247233Z",
     "shell.execute_reply": "2021-03-19T10:14:30.247657Z"
    }
   },
   "outputs": [],
   "source": [
    "doses = dataJson[0]['dataValues'][3:61]"
   ]
  },
  {
   "cell_type": "markdown",
   "metadata": {},
   "source": [
    "Data formatting"
   ]
  },
  {
   "cell_type": "code",
   "execution_count": 8,
   "metadata": {
    "execution": {
     "iopub.execute_input": "2021-03-19T10:14:30.252063Z",
     "iopub.status.busy": "2021-03-19T10:14:30.250957Z",
     "iopub.status.idle": "2021-03-19T10:14:30.252660Z",
     "shell.execute_reply": "2021-03-19T10:14:30.253084Z"
    }
   },
   "outputs": [],
   "source": [
    "zipped = dict(zip(counties, doses))"
   ]
  },
  {
   "cell_type": "code",
   "execution_count": 9,
   "metadata": {
    "execution": {
     "iopub.execute_input": "2021-03-19T10:14:30.259524Z",
     "iopub.status.busy": "2021-03-19T10:14:30.258317Z",
     "iopub.status.idle": "2021-03-19T10:14:30.260119Z",
     "shell.execute_reply": "2021-03-19T10:14:30.260544Z"
    }
   },
   "outputs": [],
   "source": [
    "df = pd.Series(zipped).reset_index()"
   ]
  },
  {
   "cell_type": "code",
   "execution_count": 10,
   "metadata": {
    "execution": {
     "iopub.execute_input": "2021-03-19T10:14:30.264781Z",
     "iopub.status.busy": "2021-03-19T10:14:30.263849Z",
     "iopub.status.idle": "2021-03-19T10:14:30.265701Z",
     "shell.execute_reply": "2021-03-19T10:14:30.266136Z"
    }
   },
   "outputs": [],
   "source": [
    "df.columns = ['location','doses']"
   ]
  },
  {
   "cell_type": "markdown",
   "metadata": {},
   "source": [
    "Grab the overall California total"
   ]
  },
  {
   "cell_type": "code",
   "execution_count": 11,
   "metadata": {
    "execution": {
     "iopub.execute_input": "2021-03-19T10:14:30.270323Z",
     "iopub.status.busy": "2021-03-19T10:14:30.269201Z",
     "iopub.status.idle": "2021-03-19T10:14:30.270918Z",
     "shell.execute_reply": "2021-03-19T10:14:30.271342Z"
    }
   },
   "outputs": [],
   "source": [
    "add = {'location':'California','doses':dataJson[0]['dataValues'][2]}"
   ]
  },
  {
   "cell_type": "code",
   "execution_count": 12,
   "metadata": {
    "execution": {
     "iopub.execute_input": "2021-03-19T10:14:30.277721Z",
     "iopub.status.busy": "2021-03-19T10:14:30.277139Z",
     "iopub.status.idle": "2021-03-19T10:14:30.279939Z",
     "shell.execute_reply": "2021-03-19T10:14:30.279512Z"
    }
   },
   "outputs": [],
   "source": [
    "df = df.append(add, ignore_index=True)"
   ]
  },
  {
   "cell_type": "code",
   "execution_count": 13,
   "metadata": {
    "execution": {
     "iopub.execute_input": "2021-03-19T10:14:30.284893Z",
     "iopub.status.busy": "2021-03-19T10:14:30.283713Z",
     "iopub.status.idle": "2021-03-19T10:14:30.285580Z",
     "shell.execute_reply": "2021-03-19T10:14:30.286013Z"
    }
   },
   "outputs": [],
   "source": [
    "df = df.sort_values(by='location')"
   ]
  },
  {
   "cell_type": "code",
   "execution_count": 14,
   "metadata": {
    "execution": {
     "iopub.execute_input": "2021-03-19T10:14:30.292835Z",
     "iopub.status.busy": "2021-03-19T10:14:30.291574Z",
     "iopub.status.idle": "2021-03-19T10:14:30.293469Z",
     "shell.execute_reply": "2021-03-19T10:14:30.293909Z"
    }
   },
   "outputs": [],
   "source": [
    "df = df[df.location == 'California'].append(df[df.location != 'California']).reset_index(drop=True)"
   ]
  },
  {
   "cell_type": "code",
   "execution_count": null,
   "metadata": {},
   "outputs": [],
   "source": []
  },
  {
   "cell_type": "code",
   "execution_count": 15,
   "metadata": {
    "execution": {
     "iopub.execute_input": "2021-03-19T10:14:30.297479Z",
     "iopub.status.busy": "2021-03-19T10:14:30.296942Z",
     "iopub.status.idle": "2021-03-19T10:14:30.317021Z",
     "shell.execute_reply": "2021-03-19T10:14:30.316520Z"
    }
   },
   "outputs": [],
   "source": [
    "tz = pytz.timezone(\"America/New_York\")"
   ]
  },
  {
   "cell_type": "code",
   "execution_count": 16,
   "metadata": {
    "execution": {
     "iopub.execute_input": "2021-03-19T10:14:30.321769Z",
     "iopub.status.busy": "2021-03-19T10:14:30.321202Z",
     "iopub.status.idle": "2021-03-19T10:14:30.323985Z",
     "shell.execute_reply": "2021-03-19T10:14:30.323524Z"
    }
   },
   "outputs": [],
   "source": [
    "today = datetime.now(tz).date()"
   ]
  },
  {
   "cell_type": "code",
   "execution_count": 17,
   "metadata": {
    "execution": {
     "iopub.execute_input": "2021-03-19T10:14:30.328380Z",
     "iopub.status.busy": "2021-03-19T10:14:30.327191Z",
     "iopub.status.idle": "2021-03-19T10:14:30.329061Z",
     "shell.execute_reply": "2021-03-19T10:14:30.329508Z"
    }
   },
   "outputs": [],
   "source": [
    "data_dir = os.path.join(os.path.abspath(\"\"), \"data\")"
   ]
  },
  {
   "cell_type": "code",
   "execution_count": 18,
   "metadata": {
    "execution": {
     "iopub.execute_input": "2021-03-19T10:14:30.333230Z",
     "iopub.status.busy": "2021-03-19T10:14:30.332707Z",
     "iopub.status.idle": "2021-03-19T10:14:30.446451Z",
     "shell.execute_reply": "2021-03-19T10:14:30.447511Z"
    }
   },
   "outputs": [],
   "source": [
    "df.to_csv(os.path.join(data_dir, f\"{today}.csv\"), index=False)"
   ]
  },
  {
   "cell_type": "code",
   "execution_count": null,
   "metadata": {},
   "outputs": [],
   "source": []
  }
 ],
 "metadata": {
  "kernelspec": {
   "display_name": "Python 3",
   "language": "python",
   "name": "python3"
  },
  "language_info": {
   "codemirror_mode": {
    "name": "ipython",
    "version": 3
   },
   "file_extension": ".py",
   "mimetype": "text/x-python",
   "name": "python",
   "nbconvert_exporter": "python",
   "pygments_lexer": "ipython3",
   "version": "3.8.8"
  }
 },
 "nbformat": 4,
 "nbformat_minor": 4
}
