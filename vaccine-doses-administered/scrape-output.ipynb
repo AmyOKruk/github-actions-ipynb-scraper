{
 "cells": [
  {
   "cell_type": "markdown",
   "metadata": {},
   "source": [
    "# California COVID vaccinations scrape"
   ]
  },
  {
   "cell_type": "markdown",
   "metadata": {},
   "source": [
    "By [Amy O'Kruk](https://twitter.com/amyokruk)"
   ]
  },
  {
   "cell_type": "markdown",
   "metadata": {},
   "source": [
    "Downloads data on vaccine doses administered by county and statewide from a Tableau-powered dashboard from the California Department of Public Health."
   ]
  },
  {
   "cell_type": "code",
   "execution_count": 1,
   "metadata": {
    "execution": {
     "iopub.execute_input": "2021-03-21T04:51:54.769407Z",
     "iopub.status.busy": "2021-03-21T04:51:54.768795Z",
     "iopub.status.idle": "2021-03-21T04:51:55.205888Z",
     "shell.execute_reply": "2021-03-21T04:51:55.204775Z"
    }
   },
   "outputs": [],
   "source": [
    "import pandas as pd\n",
    "import requests\n",
    "from bs4 import BeautifulSoup\n",
    "import json\n",
    "import re\n",
    "import time\n",
    "from time import gmtime, strftime \n",
    "import os\n",
    "import pytz\n",
    "from datetime import datetime"
   ]
  },
  {
   "cell_type": "markdown",
   "metadata": {},
   "source": [
    "Scrape the dashboard page"
   ]
  },
  {
   "cell_type": "code",
   "execution_count": 2,
   "metadata": {
    "execution": {
     "iopub.execute_input": "2021-03-21T04:51:55.211773Z",
     "iopub.status.busy": "2021-03-21T04:51:55.209874Z",
     "iopub.status.idle": "2021-03-21T04:51:55.586067Z",
     "shell.execute_reply": "2021-03-21T04:51:55.585261Z"
    }
   },
   "outputs": [],
   "source": [
    "url = \"https://public.tableau.com/interactive/views/COVID-19VaccineDashboardPublic/Vaccine?:embed=y&:showVizHome=n&:apiID=host0\"\n",
    "\n",
    "r = requests.get(url)\n",
    "soup = BeautifulSoup(r.text, \"html.parser\")"
   ]
  },
  {
   "cell_type": "code",
   "execution_count": 3,
   "metadata": {
    "execution": {
     "iopub.execute_input": "2021-03-21T04:51:55.595585Z",
     "iopub.status.busy": "2021-03-21T04:51:55.594432Z",
     "iopub.status.idle": "2021-03-21T04:51:55.596207Z",
     "shell.execute_reply": "2021-03-21T04:51:55.596637Z"
    }
   },
   "outputs": [],
   "source": [
    "tableauData = json.loads(soup.find(\"textarea\",{\"id\": \"tsConfigContainer\"}).text)"
   ]
  },
  {
   "cell_type": "markdown",
   "metadata": {},
   "source": [
    "Get the link to the Tableau data"
   ]
  },
  {
   "cell_type": "code",
   "execution_count": 4,
   "metadata": {
    "execution": {
     "iopub.execute_input": "2021-03-21T04:51:55.602600Z",
     "iopub.status.busy": "2021-03-21T04:51:55.600316Z",
     "iopub.status.idle": "2021-03-21T04:51:55.603243Z",
     "shell.execute_reply": "2021-03-21T04:51:55.603705Z"
    }
   },
   "outputs": [],
   "source": [
    "dataUrl = f'https://public.tableau.com{tableauData[\"vizql_root\"]}/bootstrapSession/sessions/{tableauData[\"sessionid\"]}'"
   ]
  },
  {
   "cell_type": "code",
   "execution_count": 5,
   "metadata": {
    "execution": {
     "iopub.execute_input": "2021-03-21T04:51:55.610781Z",
     "iopub.status.busy": "2021-03-21T04:51:55.610218Z",
     "iopub.status.idle": "2021-03-21T04:51:55.771915Z",
     "shell.execute_reply": "2021-03-21T04:51:55.771022Z"
    }
   },
   "outputs": [],
   "source": [
    "r = requests.post(dataUrl, data= {\n",
    "    \"sheet_id\": tableauData[\"sheetId\"],\n",
    "})\n",
    "\n",
    "dataReg = re.search('\\d+;({.*})\\d+;({.*})', r.text, re.MULTILINE)\n",
    "data1 = json.loads(dataReg.group(2))\n",
    "\n",
    "dataJson = data1[\"secondaryInfo\"][\"presModelMap\"][\"dataDictionary\"][\"presModelHolder\"][\"genDataDictionaryPresModel\"][\"dataSegments\"][\"0\"][\"dataColumns\"]"
   ]
  },
  {
   "cell_type": "markdown",
   "metadata": {},
   "source": [
    "Isolate what you want"
   ]
  },
  {
   "cell_type": "code",
   "execution_count": 6,
   "metadata": {
    "execution": {
     "iopub.execute_input": "2021-03-21T04:51:55.777978Z",
     "iopub.status.busy": "2021-03-21T04:51:55.777021Z",
     "iopub.status.idle": "2021-03-21T04:51:55.778554Z",
     "shell.execute_reply": "2021-03-21T04:51:55.778985Z"
    }
   },
   "outputs": [],
   "source": [
    "counties = dataJson[2]['dataValues'][:58]"
   ]
  },
  {
   "cell_type": "code",
   "execution_count": 7,
   "metadata": {
    "execution": {
     "iopub.execute_input": "2021-03-21T04:51:55.784103Z",
     "iopub.status.busy": "2021-03-21T04:51:55.782885Z",
     "iopub.status.idle": "2021-03-21T04:51:55.784762Z",
     "shell.execute_reply": "2021-03-21T04:51:55.785193Z"
    }
   },
   "outputs": [],
   "source": [
    "doses = dataJson[0]['dataValues'][3:61]"
   ]
  },
  {
   "cell_type": "markdown",
   "metadata": {},
   "source": [
    "Data formatting"
   ]
  },
  {
   "cell_type": "code",
   "execution_count": 8,
   "metadata": {
    "execution": {
     "iopub.execute_input": "2021-03-21T04:51:55.789703Z",
     "iopub.status.busy": "2021-03-21T04:51:55.788506Z",
     "iopub.status.idle": "2021-03-21T04:51:55.790313Z",
     "shell.execute_reply": "2021-03-21T04:51:55.790748Z"
    }
   },
   "outputs": [],
   "source": [
    "zipped = dict(zip(counties, doses))"
   ]
  },
  {
   "cell_type": "code",
   "execution_count": 9,
   "metadata": {
    "execution": {
     "iopub.execute_input": "2021-03-21T04:51:55.797682Z",
     "iopub.status.busy": "2021-03-21T04:51:55.796364Z",
     "iopub.status.idle": "2021-03-21T04:51:55.798291Z",
     "shell.execute_reply": "2021-03-21T04:51:55.798726Z"
    }
   },
   "outputs": [],
   "source": [
    "df = pd.Series(zipped).reset_index()"
   ]
  },
  {
   "cell_type": "code",
   "execution_count": 10,
   "metadata": {
    "execution": {
     "iopub.execute_input": "2021-03-21T04:51:55.803364Z",
     "iopub.status.busy": "2021-03-21T04:51:55.802260Z",
     "iopub.status.idle": "2021-03-21T04:51:55.804000Z",
     "shell.execute_reply": "2021-03-21T04:51:55.804435Z"
    }
   },
   "outputs": [],
   "source": [
    "df.columns = ['location','doses']"
   ]
  },
  {
   "cell_type": "markdown",
   "metadata": {},
   "source": [
    "Grab the overall California total"
   ]
  },
  {
   "cell_type": "code",
   "execution_count": 11,
   "metadata": {
    "execution": {
     "iopub.execute_input": "2021-03-21T04:51:55.808939Z",
     "iopub.status.busy": "2021-03-21T04:51:55.807959Z",
     "iopub.status.idle": "2021-03-21T04:51:55.810368Z",
     "shell.execute_reply": "2021-03-21T04:51:55.809817Z"
    }
   },
   "outputs": [],
   "source": [
    "add = {'location':'California','doses':dataJson[0]['dataValues'][2]}"
   ]
  },
  {
   "cell_type": "code",
   "execution_count": 12,
   "metadata": {
    "execution": {
     "iopub.execute_input": "2021-03-21T04:51:55.817595Z",
     "iopub.status.busy": "2021-03-21T04:51:55.816630Z",
     "iopub.status.idle": "2021-03-21T04:51:55.818567Z",
     "shell.execute_reply": "2021-03-21T04:51:55.818970Z"
    }
   },
   "outputs": [],
   "source": [
    "df = df.append(add, ignore_index=True)"
   ]
  },
  {
   "cell_type": "code",
   "execution_count": 13,
   "metadata": {
    "execution": {
     "iopub.execute_input": "2021-03-21T04:51:55.826999Z",
     "iopub.status.busy": "2021-03-21T04:51:55.825537Z",
     "iopub.status.idle": "2021-03-21T04:51:55.827634Z",
     "shell.execute_reply": "2021-03-21T04:51:55.828125Z"
    }
   },
   "outputs": [],
   "source": [
    "df = df.sort_values(by='location')"
   ]
  },
  {
   "cell_type": "code",
   "execution_count": 14,
   "metadata": {
    "execution": {
     "iopub.execute_input": "2021-03-21T04:51:55.834659Z",
     "iopub.status.busy": "2021-03-21T04:51:55.833829Z",
     "iopub.status.idle": "2021-03-21T04:51:55.837815Z",
     "shell.execute_reply": "2021-03-21T04:51:55.837329Z"
    }
   },
   "outputs": [],
   "source": [
    "df = df[df.location == 'California'].append(df[df.location != 'California']).reset_index(drop=True)"
   ]
  },
  {
   "cell_type": "code",
   "execution_count": null,
   "metadata": {},
   "outputs": [],
   "source": []
  },
  {
   "cell_type": "code",
   "execution_count": 15,
   "metadata": {
    "execution": {
     "iopub.execute_input": "2021-03-21T04:51:55.841356Z",
     "iopub.status.busy": "2021-03-21T04:51:55.840833Z",
     "iopub.status.idle": "2021-03-21T04:51:55.860021Z",
     "shell.execute_reply": "2021-03-21T04:51:55.859513Z"
    }
   },
   "outputs": [],
   "source": [
    "tz = pytz.timezone(\"America/New_York\")"
   ]
  },
  {
   "cell_type": "code",
   "execution_count": 16,
   "metadata": {
    "execution": {
     "iopub.execute_input": "2021-03-21T04:51:55.864604Z",
     "iopub.status.busy": "2021-03-21T04:51:55.863412Z",
     "iopub.status.idle": "2021-03-21T04:51:55.865209Z",
     "shell.execute_reply": "2021-03-21T04:51:55.865643Z"
    }
   },
   "outputs": [],
   "source": [
    "today = datetime.now(tz).date()"
   ]
  },
  {
   "cell_type": "code",
   "execution_count": 17,
   "metadata": {
    "execution": {
     "iopub.execute_input": "2021-03-21T04:51:55.870574Z",
     "iopub.status.busy": "2021-03-21T04:51:55.869421Z",
     "iopub.status.idle": "2021-03-21T04:51:55.871175Z",
     "shell.execute_reply": "2021-03-21T04:51:55.871603Z"
    }
   },
   "outputs": [],
   "source": [
    "data_dir = os.path.join(os.path.abspath(\"\"), \"data\")"
   ]
  },
  {
   "cell_type": "code",
   "execution_count": 18,
   "metadata": {
    "execution": {
     "iopub.execute_input": "2021-03-21T04:51:55.876240Z",
     "iopub.status.busy": "2021-03-21T04:51:55.874986Z",
     "iopub.status.idle": "2021-03-21T04:51:55.879629Z",
     "shell.execute_reply": "2021-03-21T04:51:55.879189Z"
    }
   },
   "outputs": [],
   "source": [
    "df.to_csv(os.path.join(data_dir, f\"{today}.csv\"), index=False)"
   ]
  },
  {
   "cell_type": "code",
   "execution_count": null,
   "metadata": {},
   "outputs": [],
   "source": []
  }
 ],
 "metadata": {
  "kernelspec": {
   "display_name": "Python 3",
   "language": "python",
   "name": "python3"
  },
  "language_info": {
   "codemirror_mode": {
    "name": "ipython",
    "version": 3
   },
   "file_extension": ".py",
   "mimetype": "text/x-python",
   "name": "python",
   "nbconvert_exporter": "python",
   "pygments_lexer": "ipython3",
   "version": "3.8.8"
  }
 },
 "nbformat": 4,
 "nbformat_minor": 4
}
