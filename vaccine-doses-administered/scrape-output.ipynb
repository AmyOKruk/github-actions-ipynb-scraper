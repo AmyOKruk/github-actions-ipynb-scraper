{
 "cells": [
  {
   "cell_type": "markdown",
   "metadata": {},
   "source": [
    "# California COVID vaccinations scrape"
   ]
  },
  {
   "cell_type": "markdown",
   "metadata": {},
   "source": [
    "By [Amy O'Kruk](https://twitter.com/amyokruk)"
   ]
  },
  {
   "cell_type": "markdown",
   "metadata": {},
   "source": [
    "Downloads data on vaccine doses administered by county and statewide from a Tableau-powered dashboard from the California Department of Public Health."
   ]
  },
  {
   "cell_type": "code",
   "execution_count": 1,
   "metadata": {
    "execution": {
     "iopub.execute_input": "2021-03-13T13:40:17.099835Z",
     "iopub.status.busy": "2021-03-13T13:40:17.097176Z",
     "iopub.status.idle": "2021-03-13T13:40:17.464685Z",
     "shell.execute_reply": "2021-03-13T13:40:17.463481Z"
    }
   },
   "outputs": [],
   "source": [
    "import pandas as pd\n",
    "import requests\n",
    "from bs4 import BeautifulSoup\n",
    "import json\n",
    "import re\n",
    "import time\n",
    "from time import gmtime, strftime \n",
    "import os\n",
    "import pytz\n",
    "from datetime import datetime"
   ]
  },
  {
   "cell_type": "markdown",
   "metadata": {},
   "source": [
    "Scrape the dashboard page"
   ]
  },
  {
   "cell_type": "code",
   "execution_count": 2,
   "metadata": {
    "execution": {
     "iopub.execute_input": "2021-03-13T13:40:17.471400Z",
     "iopub.status.busy": "2021-03-13T13:40:17.468590Z",
     "iopub.status.idle": "2021-03-13T13:40:18.038017Z",
     "shell.execute_reply": "2021-03-13T13:40:18.036923Z"
    }
   },
   "outputs": [],
   "source": [
    "url = \"https://public.tableau.com/interactive/views/COVID-19VaccineDashboardPublic/Vaccine?:embed=y&:showVizHome=n&:apiID=host0\"\n",
    "\n",
    "r = requests.get(url)\n",
    "soup = BeautifulSoup(r.text, \"html.parser\")"
   ]
  },
  {
   "cell_type": "code",
   "execution_count": 3,
   "metadata": {
    "execution": {
     "iopub.execute_input": "2021-03-13T13:40:18.042732Z",
     "iopub.status.busy": "2021-03-13T13:40:18.042159Z",
     "iopub.status.idle": "2021-03-13T13:40:18.045314Z",
     "shell.execute_reply": "2021-03-13T13:40:18.044537Z"
    }
   },
   "outputs": [],
   "source": [
    "tableauData = json.loads(soup.find(\"textarea\",{\"id\": \"tsConfigContainer\"}).text)"
   ]
  },
  {
   "cell_type": "markdown",
   "metadata": {},
   "source": [
    "Get the link to the Tableau data"
   ]
  },
  {
   "cell_type": "code",
   "execution_count": 4,
   "metadata": {
    "execution": {
     "iopub.execute_input": "2021-03-13T13:40:18.048755Z",
     "iopub.status.busy": "2021-03-13T13:40:18.048244Z",
     "iopub.status.idle": "2021-03-13T13:40:18.051738Z",
     "shell.execute_reply": "2021-03-13T13:40:18.051308Z"
    }
   },
   "outputs": [],
   "source": [
    "dataUrl = f'https://public.tableau.com{tableauData[\"vizql_root\"]}/bootstrapSession/sessions/{tableauData[\"sessionid\"]}'"
   ]
  },
  {
   "cell_type": "code",
   "execution_count": 5,
   "metadata": {
    "execution": {
     "iopub.execute_input": "2021-03-13T13:40:18.057993Z",
     "iopub.status.busy": "2021-03-13T13:40:18.057474Z",
     "iopub.status.idle": "2021-03-13T13:40:18.417915Z",
     "shell.execute_reply": "2021-03-13T13:40:18.416863Z"
    }
   },
   "outputs": [],
   "source": [
    "r = requests.post(dataUrl, data= {\n",
    "    \"sheet_id\": tableauData[\"sheetId\"],\n",
    "})\n",
    "\n",
    "dataReg = re.search('\\d+;({.*})\\d+;({.*})', r.text, re.MULTILINE)\n",
    "data1 = json.loads(dataReg.group(2))\n",
    "\n",
    "dataJson = data1[\"secondaryInfo\"][\"presModelMap\"][\"dataDictionary\"][\"presModelHolder\"][\"genDataDictionaryPresModel\"][\"dataSegments\"][\"0\"][\"dataColumns\"]"
   ]
  },
  {
   "cell_type": "markdown",
   "metadata": {},
   "source": [
    "Isolate what you want"
   ]
  },
  {
   "cell_type": "code",
   "execution_count": 6,
   "metadata": {
    "execution": {
     "iopub.execute_input": "2021-03-13T13:40:18.421494Z",
     "iopub.status.busy": "2021-03-13T13:40:18.420972Z",
     "iopub.status.idle": "2021-03-13T13:40:18.424412Z",
     "shell.execute_reply": "2021-03-13T13:40:18.424810Z"
    }
   },
   "outputs": [],
   "source": [
    "counties = dataJson[2]['dataValues'][:58]"
   ]
  },
  {
   "cell_type": "code",
   "execution_count": 7,
   "metadata": {
    "execution": {
     "iopub.execute_input": "2021-03-13T13:40:18.428472Z",
     "iopub.status.busy": "2021-03-13T13:40:18.427963Z",
     "iopub.status.idle": "2021-03-13T13:40:18.429928Z",
     "shell.execute_reply": "2021-03-13T13:40:18.430356Z"
    }
   },
   "outputs": [],
   "source": [
    "doses = dataJson[0]['dataValues'][3:61]"
   ]
  },
  {
   "cell_type": "markdown",
   "metadata": {},
   "source": [
    "Data formatting"
   ]
  },
  {
   "cell_type": "code",
   "execution_count": 8,
   "metadata": {
    "execution": {
     "iopub.execute_input": "2021-03-13T13:40:18.434473Z",
     "iopub.status.busy": "2021-03-13T13:40:18.433347Z",
     "iopub.status.idle": "2021-03-13T13:40:18.435061Z",
     "shell.execute_reply": "2021-03-13T13:40:18.435484Z"
    }
   },
   "outputs": [],
   "source": [
    "zipped = dict(zip(counties, doses))"
   ]
  },
  {
   "cell_type": "code",
   "execution_count": 9,
   "metadata": {
    "execution": {
     "iopub.execute_input": "2021-03-13T13:40:18.441825Z",
     "iopub.status.busy": "2021-03-13T13:40:18.440648Z",
     "iopub.status.idle": "2021-03-13T13:40:18.442495Z",
     "shell.execute_reply": "2021-03-13T13:40:18.442920Z"
    }
   },
   "outputs": [],
   "source": [
    "df = pd.Series(zipped).reset_index()"
   ]
  },
  {
   "cell_type": "code",
   "execution_count": 10,
   "metadata": {
    "execution": {
     "iopub.execute_input": "2021-03-13T13:40:18.447144Z",
     "iopub.status.busy": "2021-03-13T13:40:18.445961Z",
     "iopub.status.idle": "2021-03-13T13:40:18.447792Z",
     "shell.execute_reply": "2021-03-13T13:40:18.448215Z"
    }
   },
   "outputs": [],
   "source": [
    "df.columns = ['location','doses']"
   ]
  },
  {
   "cell_type": "markdown",
   "metadata": {},
   "source": [
    "Grab the overall California total"
   ]
  },
  {
   "cell_type": "code",
   "execution_count": 11,
   "metadata": {
    "execution": {
     "iopub.execute_input": "2021-03-13T13:40:18.452444Z",
     "iopub.status.busy": "2021-03-13T13:40:18.451344Z",
     "iopub.status.idle": "2021-03-13T13:40:18.453030Z",
     "shell.execute_reply": "2021-03-13T13:40:18.453452Z"
    }
   },
   "outputs": [],
   "source": [
    "add = {'location':'California','doses':dataJson[0]['dataValues'][2]}"
   ]
  },
  {
   "cell_type": "code",
   "execution_count": 12,
   "metadata": {
    "execution": {
     "iopub.execute_input": "2021-03-13T13:40:18.460307Z",
     "iopub.status.busy": "2021-03-13T13:40:18.459155Z",
     "iopub.status.idle": "2021-03-13T13:40:18.460950Z",
     "shell.execute_reply": "2021-03-13T13:40:18.461374Z"
    }
   },
   "outputs": [],
   "source": [
    "df = df.append(add, ignore_index=True)"
   ]
  },
  {
   "cell_type": "code",
   "execution_count": 13,
   "metadata": {
    "execution": {
     "iopub.execute_input": "2021-03-13T13:40:18.466206Z",
     "iopub.status.busy": "2021-03-13T13:40:18.465098Z",
     "iopub.status.idle": "2021-03-13T13:40:18.466811Z",
     "shell.execute_reply": "2021-03-13T13:40:18.467239Z"
    }
   },
   "outputs": [],
   "source": [
    "df = df.sort_values(by='location')"
   ]
  },
  {
   "cell_type": "code",
   "execution_count": 14,
   "metadata": {
    "execution": {
     "iopub.execute_input": "2021-03-13T13:40:18.473425Z",
     "iopub.status.busy": "2021-03-13T13:40:18.472323Z",
     "iopub.status.idle": "2021-03-13T13:40:18.474011Z",
     "shell.execute_reply": "2021-03-13T13:40:18.474456Z"
    }
   },
   "outputs": [],
   "source": [
    "df = df[df.location == 'California'].append(df[df.location != 'California']).reset_index(drop=True)"
   ]
  },
  {
   "cell_type": "code",
   "execution_count": null,
   "metadata": {},
   "outputs": [],
   "source": []
  },
  {
   "cell_type": "code",
   "execution_count": 15,
   "metadata": {
    "execution": {
     "iopub.execute_input": "2021-03-13T13:40:18.477630Z",
     "iopub.status.busy": "2021-03-13T13:40:18.477127Z",
     "iopub.status.idle": "2021-03-13T13:40:18.494252Z",
     "shell.execute_reply": "2021-03-13T13:40:18.493765Z"
    }
   },
   "outputs": [],
   "source": [
    "tz = pytz.timezone(\"America/New_York\")"
   ]
  },
  {
   "cell_type": "code",
   "execution_count": 16,
   "metadata": {
    "execution": {
     "iopub.execute_input": "2021-03-13T13:40:18.498232Z",
     "iopub.status.busy": "2021-03-13T13:40:18.497137Z",
     "iopub.status.idle": "2021-03-13T13:40:18.498840Z",
     "shell.execute_reply": "2021-03-13T13:40:18.499262Z"
    }
   },
   "outputs": [],
   "source": [
    "today = datetime.now(tz).date()"
   ]
  },
  {
   "cell_type": "code",
   "execution_count": 17,
   "metadata": {
    "execution": {
     "iopub.execute_input": "2021-03-13T13:40:18.503365Z",
     "iopub.status.busy": "2021-03-13T13:40:18.502240Z",
     "iopub.status.idle": "2021-03-13T13:40:18.503962Z",
     "shell.execute_reply": "2021-03-13T13:40:18.504387Z"
    }
   },
   "outputs": [],
   "source": [
    "data_dir = os.path.join(os.path.abspath(\"\"), \"data\")"
   ]
  },
  {
   "cell_type": "code",
   "execution_count": 18,
   "metadata": {
    "execution": {
     "iopub.execute_input": "2021-03-13T13:40:18.508141Z",
     "iopub.status.busy": "2021-03-13T13:40:18.507456Z",
     "iopub.status.idle": "2021-03-13T13:40:18.511634Z",
     "shell.execute_reply": "2021-03-13T13:40:18.511204Z"
    }
   },
   "outputs": [],
   "source": [
    "df.to_csv(os.path.join(data_dir, f\"{today}.csv\"), index=False)"
   ]
  },
  {
   "cell_type": "code",
   "execution_count": null,
   "metadata": {},
   "outputs": [],
   "source": []
  }
 ],
 "metadata": {
  "kernelspec": {
   "display_name": "Python 3",
   "language": "python",
   "name": "python3"
  },
  "language_info": {
   "codemirror_mode": {
    "name": "ipython",
    "version": 3
   },
   "file_extension": ".py",
   "mimetype": "text/x-python",
   "name": "python",
   "nbconvert_exporter": "python",
   "pygments_lexer": "ipython3",
   "version": "3.8.8"
  }
 },
 "nbformat": 4,
 "nbformat_minor": 4
}
