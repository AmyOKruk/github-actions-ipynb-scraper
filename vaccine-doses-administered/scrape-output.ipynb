{
 "cells": [
  {
   "cell_type": "markdown",
   "metadata": {},
   "source": [
    "# California COVID vaccinations scrape"
   ]
  },
  {
   "cell_type": "markdown",
   "metadata": {},
   "source": [
    "By [Amy O'Kruk](https://twitter.com/amyokruk)"
   ]
  },
  {
   "cell_type": "markdown",
   "metadata": {},
   "source": [
    "Downloads data on vaccine doses administered by county and statewide from a Tableau-powered dashboard from the California Department of Public Health."
   ]
  },
  {
   "cell_type": "code",
   "execution_count": 1,
   "metadata": {
    "execution": {
     "iopub.execute_input": "2021-03-10T05:12:59.804829Z",
     "iopub.status.busy": "2021-03-10T05:12:59.803994Z",
     "iopub.status.idle": "2021-03-10T05:13:00.211051Z",
     "shell.execute_reply": "2021-03-10T05:13:00.209778Z"
    }
   },
   "outputs": [],
   "source": [
    "import pandas as pd\n",
    "import requests\n",
    "from bs4 import BeautifulSoup\n",
    "import json\n",
    "import re\n",
    "import time\n",
    "from time import gmtime, strftime \n",
    "import os\n",
    "import pytz\n",
    "from datetime import datetime"
   ]
  },
  {
   "cell_type": "markdown",
   "metadata": {},
   "source": [
    "Scrape the dashboard page"
   ]
  },
  {
   "cell_type": "code",
   "execution_count": 2,
   "metadata": {
    "execution": {
     "iopub.execute_input": "2021-03-10T05:13:00.216788Z",
     "iopub.status.busy": "2021-03-10T05:13:00.214562Z",
     "iopub.status.idle": "2021-03-10T05:13:00.779535Z",
     "shell.execute_reply": "2021-03-10T05:13:00.778725Z"
    }
   },
   "outputs": [],
   "source": [
    "url = \"https://public.tableau.com/interactive/views/COVID-19VaccineDashboardPublic/Vaccine?:embed=y&:showVizHome=n&:apiID=host0\"\n",
    "\n",
    "r = requests.get(url)\n",
    "soup = BeautifulSoup(r.text, \"html.parser\")"
   ]
  },
  {
   "cell_type": "code",
   "execution_count": 3,
   "metadata": {
    "execution": {
     "iopub.execute_input": "2021-03-10T05:13:00.785803Z",
     "iopub.status.busy": "2021-03-10T05:13:00.784904Z",
     "iopub.status.idle": "2021-03-10T05:13:00.788968Z",
     "shell.execute_reply": "2021-03-10T05:13:00.788517Z"
    }
   },
   "outputs": [],
   "source": [
    "tableauData = json.loads(soup.find(\"textarea\",{\"id\": \"tsConfigContainer\"}).text)"
   ]
  },
  {
   "cell_type": "markdown",
   "metadata": {},
   "source": [
    "Get the link to the Tableau data"
   ]
  },
  {
   "cell_type": "code",
   "execution_count": 4,
   "metadata": {
    "execution": {
     "iopub.execute_input": "2021-03-10T05:13:00.792443Z",
     "iopub.status.busy": "2021-03-10T05:13:00.791940Z",
     "iopub.status.idle": "2021-03-10T05:13:00.794826Z",
     "shell.execute_reply": "2021-03-10T05:13:00.794422Z"
    }
   },
   "outputs": [],
   "source": [
    "dataUrl = f'https://public.tableau.com{tableauData[\"vizql_root\"]}/bootstrapSession/sessions/{tableauData[\"sessionid\"]}'"
   ]
  },
  {
   "cell_type": "code",
   "execution_count": 5,
   "metadata": {
    "execution": {
     "iopub.execute_input": "2021-03-10T05:13:00.801027Z",
     "iopub.status.busy": "2021-03-10T05:13:00.800540Z",
     "iopub.status.idle": "2021-03-10T05:13:01.369118Z",
     "shell.execute_reply": "2021-03-10T05:13:01.369845Z"
    }
   },
   "outputs": [],
   "source": [
    "r = requests.post(dataUrl, data= {\n",
    "    \"sheet_id\": tableauData[\"sheetId\"],\n",
    "})\n",
    "\n",
    "dataReg = re.search('\\d+;({.*})\\d+;({.*})', r.text, re.MULTILINE)\n",
    "data1 = json.loads(dataReg.group(2))\n",
    "\n",
    "dataJson = data1[\"secondaryInfo\"][\"presModelMap\"][\"dataDictionary\"][\"presModelHolder\"][\"genDataDictionaryPresModel\"][\"dataSegments\"][\"0\"][\"dataColumns\"]"
   ]
  },
  {
   "cell_type": "markdown",
   "metadata": {},
   "source": [
    "Isolate what you want"
   ]
  },
  {
   "cell_type": "code",
   "execution_count": 6,
   "metadata": {
    "execution": {
     "iopub.execute_input": "2021-03-10T05:13:01.375778Z",
     "iopub.status.busy": "2021-03-10T05:13:01.375038Z",
     "iopub.status.idle": "2021-03-10T05:13:01.376673Z",
     "shell.execute_reply": "2021-03-10T05:13:01.376252Z"
    }
   },
   "outputs": [],
   "source": [
    "counties = dataJson[2]['dataValues'][:58]"
   ]
  },
  {
   "cell_type": "code",
   "execution_count": 7,
   "metadata": {
    "execution": {
     "iopub.execute_input": "2021-03-10T05:13:01.380644Z",
     "iopub.status.busy": "2021-03-10T05:13:01.379672Z",
     "iopub.status.idle": "2021-03-10T05:13:01.381479Z",
     "shell.execute_reply": "2021-03-10T05:13:01.382215Z"
    }
   },
   "outputs": [],
   "source": [
    "doses = dataJson[0]['dataValues'][3:61]"
   ]
  },
  {
   "cell_type": "markdown",
   "metadata": {},
   "source": [
    "Data formatting"
   ]
  },
  {
   "cell_type": "code",
   "execution_count": 8,
   "metadata": {
    "execution": {
     "iopub.execute_input": "2021-03-10T05:13:01.386905Z",
     "iopub.status.busy": "2021-03-10T05:13:01.385584Z",
     "iopub.status.idle": "2021-03-10T05:13:01.387539Z",
     "shell.execute_reply": "2021-03-10T05:13:01.387963Z"
    }
   },
   "outputs": [],
   "source": [
    "zipped = dict(zip(counties, doses))"
   ]
  },
  {
   "cell_type": "code",
   "execution_count": 9,
   "metadata": {
    "execution": {
     "iopub.execute_input": "2021-03-10T05:13:01.393962Z",
     "iopub.status.busy": "2021-03-10T05:13:01.392878Z",
     "iopub.status.idle": "2021-03-10T05:13:01.394610Z",
     "shell.execute_reply": "2021-03-10T05:13:01.395013Z"
    }
   },
   "outputs": [],
   "source": [
    "df = pd.Series(zipped).reset_index()"
   ]
  },
  {
   "cell_type": "code",
   "execution_count": 10,
   "metadata": {
    "execution": {
     "iopub.execute_input": "2021-03-10T05:13:01.399551Z",
     "iopub.status.busy": "2021-03-10T05:13:01.398391Z",
     "iopub.status.idle": "2021-03-10T05:13:01.400108Z",
     "shell.execute_reply": "2021-03-10T05:13:01.400504Z"
    }
   },
   "outputs": [],
   "source": [
    "df.columns = ['location','doses']"
   ]
  },
  {
   "cell_type": "markdown",
   "metadata": {},
   "source": [
    "Grab the overall California total"
   ]
  },
  {
   "cell_type": "code",
   "execution_count": 11,
   "metadata": {
    "execution": {
     "iopub.execute_input": "2021-03-10T05:13:01.404415Z",
     "iopub.status.busy": "2021-03-10T05:13:01.403447Z",
     "iopub.status.idle": "2021-03-10T05:13:01.405022Z",
     "shell.execute_reply": "2021-03-10T05:13:01.405418Z"
    }
   },
   "outputs": [],
   "source": [
    "add = {'location':'California','doses':dataJson[0]['dataValues'][2]}"
   ]
  },
  {
   "cell_type": "code",
   "execution_count": 12,
   "metadata": {
    "execution": {
     "iopub.execute_input": "2021-03-10T05:13:01.411824Z",
     "iopub.status.busy": "2021-03-10T05:13:01.410796Z",
     "iopub.status.idle": "2021-03-10T05:13:01.412375Z",
     "shell.execute_reply": "2021-03-10T05:13:01.412770Z"
    }
   },
   "outputs": [],
   "source": [
    "df = df.append(add, ignore_index=True)"
   ]
  },
  {
   "cell_type": "code",
   "execution_count": 13,
   "metadata": {
    "execution": {
     "iopub.execute_input": "2021-03-10T05:13:01.416893Z",
     "iopub.status.busy": "2021-03-10T05:13:01.416370Z",
     "iopub.status.idle": "2021-03-10T05:13:01.418375Z",
     "shell.execute_reply": "2021-03-10T05:13:01.417930Z"
    }
   },
   "outputs": [],
   "source": [
    "df = df.sort_values(by='location')"
   ]
  },
  {
   "cell_type": "code",
   "execution_count": 14,
   "metadata": {
    "execution": {
     "iopub.execute_input": "2021-03-10T05:13:01.424445Z",
     "iopub.status.busy": "2021-03-10T05:13:01.423331Z",
     "iopub.status.idle": "2021-03-10T05:13:01.424995Z",
     "shell.execute_reply": "2021-03-10T05:13:01.425403Z"
    }
   },
   "outputs": [],
   "source": [
    "df = df[df.location == 'California'].append(df[df.location != 'California']).reset_index(drop=True)"
   ]
  },
  {
   "cell_type": "code",
   "execution_count": null,
   "metadata": {},
   "outputs": [],
   "source": []
  },
  {
   "cell_type": "code",
   "execution_count": 15,
   "metadata": {
    "execution": {
     "iopub.execute_input": "2021-03-10T05:13:01.428418Z",
     "iopub.status.busy": "2021-03-10T05:13:01.427917Z",
     "iopub.status.idle": "2021-03-10T05:13:01.445407Z",
     "shell.execute_reply": "2021-03-10T05:13:01.444909Z"
    }
   },
   "outputs": [],
   "source": [
    "tz = pytz.timezone(\"America/New_York\")"
   ]
  },
  {
   "cell_type": "code",
   "execution_count": 16,
   "metadata": {
    "execution": {
     "iopub.execute_input": "2021-03-10T05:13:01.449084Z",
     "iopub.status.busy": "2021-03-10T05:13:01.448055Z",
     "iopub.status.idle": "2021-03-10T05:13:01.449666Z",
     "shell.execute_reply": "2021-03-10T05:13:01.450016Z"
    }
   },
   "outputs": [],
   "source": [
    "today = datetime.now(tz).date()"
   ]
  },
  {
   "cell_type": "code",
   "execution_count": 17,
   "metadata": {
    "execution": {
     "iopub.execute_input": "2021-03-10T05:13:01.453966Z",
     "iopub.status.busy": "2021-03-10T05:13:01.452808Z",
     "iopub.status.idle": "2021-03-10T05:13:01.454606Z",
     "shell.execute_reply": "2021-03-10T05:13:01.454980Z"
    }
   },
   "outputs": [],
   "source": [
    "data_dir = os.path.join(os.path.abspath(\"\"), \"data\")"
   ]
  },
  {
   "cell_type": "code",
   "execution_count": 18,
   "metadata": {
    "execution": {
     "iopub.execute_input": "2021-03-10T05:13:01.458896Z",
     "iopub.status.busy": "2021-03-10T05:13:01.457840Z",
     "iopub.status.idle": "2021-03-10T05:13:01.462007Z",
     "shell.execute_reply": "2021-03-10T05:13:01.461611Z"
    }
   },
   "outputs": [],
   "source": [
    "df.to_csv(os.path.join(data_dir, f\"{today}.csv\"), index=False)"
   ]
  },
  {
   "cell_type": "code",
   "execution_count": null,
   "metadata": {},
   "outputs": [],
   "source": []
  }
 ],
 "metadata": {
  "kernelspec": {
   "display_name": "Python 3",
   "language": "python",
   "name": "python3"
  },
  "language_info": {
   "codemirror_mode": {
    "name": "ipython",
    "version": 3
   },
   "file_extension": ".py",
   "mimetype": "text/x-python",
   "name": "python",
   "nbconvert_exporter": "python",
   "pygments_lexer": "ipython3",
   "version": "3.8.8"
  }
 },
 "nbformat": 4,
 "nbformat_minor": 4
}
