{
 "cells": [
  {
   "cell_type": "markdown",
   "metadata": {},
   "source": [
    "# California COVID vaccinations scrape"
   ]
  },
  {
   "cell_type": "markdown",
   "metadata": {},
   "source": [
    "By [Amy O'Kruk](https://twitter.com/amyokruk)"
   ]
  },
  {
   "cell_type": "markdown",
   "metadata": {},
   "source": [
    "Downloads data on vaccine doses administered by county and statewide from a Tableau-powered dashboard from the California Department of Public Health."
   ]
  },
  {
   "cell_type": "code",
   "execution_count": 1,
   "metadata": {
    "execution": {
     "iopub.execute_input": "2021-03-10T18:15:22.749576Z",
     "iopub.status.busy": "2021-03-10T18:15:22.748252Z",
     "iopub.status.idle": "2021-03-10T18:15:23.190752Z",
     "shell.execute_reply": "2021-03-10T18:15:23.189738Z"
    }
   },
   "outputs": [],
   "source": [
    "import pandas as pd\n",
    "import requests\n",
    "from bs4 import BeautifulSoup\n",
    "import json\n",
    "import re\n",
    "import time\n",
    "from time import gmtime, strftime \n",
    "import os\n",
    "import pytz\n",
    "from datetime import datetime"
   ]
  },
  {
   "cell_type": "markdown",
   "metadata": {},
   "source": [
    "Scrape the dashboard page"
   ]
  },
  {
   "cell_type": "code",
   "execution_count": 2,
   "metadata": {
    "execution": {
     "iopub.execute_input": "2021-03-10T18:15:23.197702Z",
     "iopub.status.busy": "2021-03-10T18:15:23.197122Z",
     "iopub.status.idle": "2021-03-10T18:15:23.751318Z",
     "shell.execute_reply": "2021-03-10T18:15:23.750462Z"
    }
   },
   "outputs": [],
   "source": [
    "url = \"https://public.tableau.com/interactive/views/COVID-19VaccineDashboardPublic/Vaccine?:embed=y&:showVizHome=n&:apiID=host0\"\n",
    "\n",
    "r = requests.get(url)\n",
    "soup = BeautifulSoup(r.text, \"html.parser\")"
   ]
  },
  {
   "cell_type": "code",
   "execution_count": 3,
   "metadata": {
    "execution": {
     "iopub.execute_input": "2021-03-10T18:15:23.756592Z",
     "iopub.status.busy": "2021-03-10T18:15:23.756071Z",
     "iopub.status.idle": "2021-03-10T18:15:23.759708Z",
     "shell.execute_reply": "2021-03-10T18:15:23.758996Z"
    }
   },
   "outputs": [],
   "source": [
    "tableauData = json.loads(soup.find(\"textarea\",{\"id\": \"tsConfigContainer\"}).text)"
   ]
  },
  {
   "cell_type": "markdown",
   "metadata": {},
   "source": [
    "Get the link to the Tableau data"
   ]
  },
  {
   "cell_type": "code",
   "execution_count": 4,
   "metadata": {
    "execution": {
     "iopub.execute_input": "2021-03-10T18:15:23.764041Z",
     "iopub.status.busy": "2021-03-10T18:15:23.762883Z",
     "iopub.status.idle": "2021-03-10T18:15:23.764730Z",
     "shell.execute_reply": "2021-03-10T18:15:23.765157Z"
    }
   },
   "outputs": [],
   "source": [
    "dataUrl = f'https://public.tableau.com{tableauData[\"vizql_root\"]}/bootstrapSession/sessions/{tableauData[\"sessionid\"]}'"
   ]
  },
  {
   "cell_type": "code",
   "execution_count": 5,
   "metadata": {
    "execution": {
     "iopub.execute_input": "2021-03-10T18:15:23.771909Z",
     "iopub.status.busy": "2021-03-10T18:15:23.771351Z",
     "iopub.status.idle": "2021-03-10T18:15:24.062160Z",
     "shell.execute_reply": "2021-03-10T18:15:24.061320Z"
    }
   },
   "outputs": [],
   "source": [
    "r = requests.post(dataUrl, data= {\n",
    "    \"sheet_id\": tableauData[\"sheetId\"],\n",
    "})\n",
    "\n",
    "dataReg = re.search('\\d+;({.*})\\d+;({.*})', r.text, re.MULTILINE)\n",
    "data1 = json.loads(dataReg.group(2))\n",
    "\n",
    "dataJson = data1[\"secondaryInfo\"][\"presModelMap\"][\"dataDictionary\"][\"presModelHolder\"][\"genDataDictionaryPresModel\"][\"dataSegments\"][\"0\"][\"dataColumns\"]"
   ]
  },
  {
   "cell_type": "markdown",
   "metadata": {},
   "source": [
    "Isolate what you want"
   ]
  },
  {
   "cell_type": "code",
   "execution_count": 6,
   "metadata": {
    "execution": {
     "iopub.execute_input": "2021-03-10T18:15:24.067471Z",
     "iopub.status.busy": "2021-03-10T18:15:24.066278Z",
     "iopub.status.idle": "2021-03-10T18:15:24.068077Z",
     "shell.execute_reply": "2021-03-10T18:15:24.068512Z"
    }
   },
   "outputs": [],
   "source": [
    "counties = dataJson[2]['dataValues'][:58]"
   ]
  },
  {
   "cell_type": "code",
   "execution_count": 7,
   "metadata": {
    "execution": {
     "iopub.execute_input": "2021-03-10T18:15:24.072998Z",
     "iopub.status.busy": "2021-03-10T18:15:24.072466Z",
     "iopub.status.idle": "2021-03-10T18:15:24.076431Z",
     "shell.execute_reply": "2021-03-10T18:15:24.075885Z"
    }
   },
   "outputs": [],
   "source": [
    "doses = dataJson[0]['dataValues'][3:61]"
   ]
  },
  {
   "cell_type": "markdown",
   "metadata": {},
   "source": [
    "Data formatting"
   ]
  },
  {
   "cell_type": "code",
   "execution_count": 8,
   "metadata": {
    "execution": {
     "iopub.execute_input": "2021-03-10T18:15:24.080396Z",
     "iopub.status.busy": "2021-03-10T18:15:24.079879Z",
     "iopub.status.idle": "2021-03-10T18:15:24.083426Z",
     "shell.execute_reply": "2021-03-10T18:15:24.082957Z"
    }
   },
   "outputs": [],
   "source": [
    "zipped = dict(zip(counties, doses))"
   ]
  },
  {
   "cell_type": "code",
   "execution_count": 9,
   "metadata": {
    "execution": {
     "iopub.execute_input": "2021-03-10T18:15:24.089709Z",
     "iopub.status.busy": "2021-03-10T18:15:24.089170Z",
     "iopub.status.idle": "2021-03-10T18:15:24.092814Z",
     "shell.execute_reply": "2021-03-10T18:15:24.092339Z"
    }
   },
   "outputs": [],
   "source": [
    "df = pd.Series(zipped).reset_index()"
   ]
  },
  {
   "cell_type": "code",
   "execution_count": 10,
   "metadata": {
    "execution": {
     "iopub.execute_input": "2021-03-10T18:15:24.097051Z",
     "iopub.status.busy": "2021-03-10T18:15:24.096534Z",
     "iopub.status.idle": "2021-03-10T18:15:24.100059Z",
     "shell.execute_reply": "2021-03-10T18:15:24.099571Z"
    }
   },
   "outputs": [],
   "source": [
    "df.columns = ['location','doses']"
   ]
  },
  {
   "cell_type": "markdown",
   "metadata": {},
   "source": [
    "Grab the overall California total"
   ]
  },
  {
   "cell_type": "code",
   "execution_count": 11,
   "metadata": {
    "execution": {
     "iopub.execute_input": "2021-03-10T18:15:24.104121Z",
     "iopub.status.busy": "2021-03-10T18:15:24.103609Z",
     "iopub.status.idle": "2021-03-10T18:15:24.107172Z",
     "shell.execute_reply": "2021-03-10T18:15:24.106633Z"
    }
   },
   "outputs": [],
   "source": [
    "add = {'location':'California','doses':dataJson[0]['dataValues'][2]}"
   ]
  },
  {
   "cell_type": "code",
   "execution_count": 12,
   "metadata": {
    "execution": {
     "iopub.execute_input": "2021-03-10T18:15:24.114153Z",
     "iopub.status.busy": "2021-03-10T18:15:24.113621Z",
     "iopub.status.idle": "2021-03-10T18:15:24.116946Z",
     "shell.execute_reply": "2021-03-10T18:15:24.117388Z"
    }
   },
   "outputs": [],
   "source": [
    "df = df.append(add, ignore_index=True)"
   ]
  },
  {
   "cell_type": "code",
   "execution_count": 13,
   "metadata": {
    "execution": {
     "iopub.execute_input": "2021-03-10T18:15:24.122329Z",
     "iopub.status.busy": "2021-03-10T18:15:24.121786Z",
     "iopub.status.idle": "2021-03-10T18:15:24.125323Z",
     "shell.execute_reply": "2021-03-10T18:15:24.124857Z"
    }
   },
   "outputs": [],
   "source": [
    "df = df.sort_values(by='location')"
   ]
  },
  {
   "cell_type": "code",
   "execution_count": 14,
   "metadata": {
    "execution": {
     "iopub.execute_input": "2021-03-10T18:15:24.131794Z",
     "iopub.status.busy": "2021-03-10T18:15:24.131255Z",
     "iopub.status.idle": "2021-03-10T18:15:24.134934Z",
     "shell.execute_reply": "2021-03-10T18:15:24.134380Z"
    }
   },
   "outputs": [],
   "source": [
    "df = df[df.location == 'California'].append(df[df.location != 'California']).reset_index(drop=True)"
   ]
  },
  {
   "cell_type": "code",
   "execution_count": null,
   "metadata": {},
   "outputs": [],
   "source": []
  },
  {
   "cell_type": "code",
   "execution_count": 15,
   "metadata": {
    "execution": {
     "iopub.execute_input": "2021-03-10T18:15:24.139195Z",
     "iopub.status.busy": "2021-03-10T18:15:24.138335Z",
     "iopub.status.idle": "2021-03-10T18:15:24.158270Z",
     "shell.execute_reply": "2021-03-10T18:15:24.157764Z"
    }
   },
   "outputs": [],
   "source": [
    "tz = pytz.timezone(\"America/New_York\")"
   ]
  },
  {
   "cell_type": "code",
   "execution_count": 16,
   "metadata": {
    "execution": {
     "iopub.execute_input": "2021-03-10T18:15:24.162319Z",
     "iopub.status.busy": "2021-03-10T18:15:24.161777Z",
     "iopub.status.idle": "2021-03-10T18:15:24.165433Z",
     "shell.execute_reply": "2021-03-10T18:15:24.165850Z"
    }
   },
   "outputs": [],
   "source": [
    "today = datetime.now(tz).date()"
   ]
  },
  {
   "cell_type": "code",
   "execution_count": 17,
   "metadata": {
    "execution": {
     "iopub.execute_input": "2021-03-10T18:15:24.169939Z",
     "iopub.status.busy": "2021-03-10T18:15:24.169418Z",
     "iopub.status.idle": "2021-03-10T18:15:24.172637Z",
     "shell.execute_reply": "2021-03-10T18:15:24.173035Z"
    }
   },
   "outputs": [],
   "source": [
    "data_dir = os.path.join(os.path.abspath(\"\"), \"data\")"
   ]
  },
  {
   "cell_type": "code",
   "execution_count": 18,
   "metadata": {
    "execution": {
     "iopub.execute_input": "2021-03-10T18:15:24.178066Z",
     "iopub.status.busy": "2021-03-10T18:15:24.176865Z",
     "iopub.status.idle": "2021-03-10T18:15:24.181311Z",
     "shell.execute_reply": "2021-03-10T18:15:24.181723Z"
    }
   },
   "outputs": [],
   "source": [
    "df.to_csv(os.path.join(data_dir, f\"{today}.csv\"), index=False)"
   ]
  },
  {
   "cell_type": "code",
   "execution_count": null,
   "metadata": {},
   "outputs": [],
   "source": []
  }
 ],
 "metadata": {
  "kernelspec": {
   "display_name": "Python 3",
   "language": "python",
   "name": "python3"
  },
  "language_info": {
   "codemirror_mode": {
    "name": "ipython",
    "version": 3
   },
   "file_extension": ".py",
   "mimetype": "text/x-python",
   "name": "python",
   "nbconvert_exporter": "python",
   "pygments_lexer": "ipython3",
   "version": "3.8.8"
  }
 },
 "nbformat": 4,
 "nbformat_minor": 4
}
