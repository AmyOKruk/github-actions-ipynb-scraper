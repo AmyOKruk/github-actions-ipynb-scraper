{
 "cells": [
  {
   "cell_type": "markdown",
   "metadata": {},
   "source": [
    "# California COVID vaccinations scrape"
   ]
  },
  {
   "cell_type": "markdown",
   "metadata": {},
   "source": [
    "By [Amy O'Kruk](https://twitter.com/amyokruk)"
   ]
  },
  {
   "cell_type": "markdown",
   "metadata": {},
   "source": [
    "Downloads data on vaccine doses administered by county and statewide from a Tableau-powered dashboard from the California Department of Public Health."
   ]
  },
  {
   "cell_type": "code",
   "execution_count": 1,
   "metadata": {
    "execution": {
     "iopub.execute_input": "2021-03-17T07:40:24.399197Z",
     "iopub.status.busy": "2021-03-17T07:40:24.398358Z",
     "iopub.status.idle": "2021-03-17T07:40:24.861913Z",
     "shell.execute_reply": "2021-03-17T07:40:24.861260Z"
    }
   },
   "outputs": [],
   "source": [
    "import pandas as pd\n",
    "import requests\n",
    "from bs4 import BeautifulSoup\n",
    "import json\n",
    "import re\n",
    "import time\n",
    "from time import gmtime, strftime \n",
    "import os\n",
    "import pytz\n",
    "from datetime import datetime"
   ]
  },
  {
   "cell_type": "markdown",
   "metadata": {},
   "source": [
    "Scrape the dashboard page"
   ]
  },
  {
   "cell_type": "code",
   "execution_count": 2,
   "metadata": {
    "execution": {
     "iopub.execute_input": "2021-03-17T07:40:24.869685Z",
     "iopub.status.busy": "2021-03-17T07:40:24.869068Z",
     "iopub.status.idle": "2021-03-17T07:40:25.295885Z",
     "shell.execute_reply": "2021-03-17T07:40:25.295367Z"
    }
   },
   "outputs": [],
   "source": [
    "url = \"https://public.tableau.com/interactive/views/COVID-19VaccineDashboardPublic/Vaccine?:embed=y&:showVizHome=n&:apiID=host0\"\n",
    "\n",
    "r = requests.get(url)\n",
    "soup = BeautifulSoup(r.text, \"html.parser\")"
   ]
  },
  {
   "cell_type": "code",
   "execution_count": 3,
   "metadata": {
    "execution": {
     "iopub.execute_input": "2021-03-17T07:40:25.301178Z",
     "iopub.status.busy": "2021-03-17T07:40:25.300525Z",
     "iopub.status.idle": "2021-03-17T07:40:25.304560Z",
     "shell.execute_reply": "2021-03-17T07:40:25.304066Z"
    }
   },
   "outputs": [],
   "source": [
    "tableauData = json.loads(soup.find(\"textarea\",{\"id\": \"tsConfigContainer\"}).text)"
   ]
  },
  {
   "cell_type": "markdown",
   "metadata": {},
   "source": [
    "Get the link to the Tableau data"
   ]
  },
  {
   "cell_type": "code",
   "execution_count": 4,
   "metadata": {
    "execution": {
     "iopub.execute_input": "2021-03-17T07:40:25.309503Z",
     "iopub.status.busy": "2021-03-17T07:40:25.308151Z",
     "iopub.status.idle": "2021-03-17T07:40:25.310141Z",
     "shell.execute_reply": "2021-03-17T07:40:25.310624Z"
    }
   },
   "outputs": [],
   "source": [
    "dataUrl = f'https://public.tableau.com{tableauData[\"vizql_root\"]}/bootstrapSession/sessions/{tableauData[\"sessionid\"]}'"
   ]
  },
  {
   "cell_type": "code",
   "execution_count": 5,
   "metadata": {
    "execution": {
     "iopub.execute_input": "2021-03-17T07:40:25.318164Z",
     "iopub.status.busy": "2021-03-17T07:40:25.317506Z",
     "iopub.status.idle": "2021-03-17T07:40:25.664390Z",
     "shell.execute_reply": "2021-03-17T07:40:25.663807Z"
    }
   },
   "outputs": [],
   "source": [
    "r = requests.post(dataUrl, data= {\n",
    "    \"sheet_id\": tableauData[\"sheetId\"],\n",
    "})\n",
    "\n",
    "dataReg = re.search('\\d+;({.*})\\d+;({.*})', r.text, re.MULTILINE)\n",
    "data1 = json.loads(dataReg.group(2))\n",
    "\n",
    "dataJson = data1[\"secondaryInfo\"][\"presModelMap\"][\"dataDictionary\"][\"presModelHolder\"][\"genDataDictionaryPresModel\"][\"dataSegments\"][\"0\"][\"dataColumns\"]"
   ]
  },
  {
   "cell_type": "markdown",
   "metadata": {},
   "source": [
    "Isolate what you want"
   ]
  },
  {
   "cell_type": "code",
   "execution_count": 6,
   "metadata": {
    "execution": {
     "iopub.execute_input": "2021-03-17T07:40:25.669787Z",
     "iopub.status.busy": "2021-03-17T07:40:25.668238Z",
     "iopub.status.idle": "2021-03-17T07:40:25.670469Z",
     "shell.execute_reply": "2021-03-17T07:40:25.671021Z"
    }
   },
   "outputs": [],
   "source": [
    "counties = dataJson[2]['dataValues'][:58]"
   ]
  },
  {
   "cell_type": "code",
   "execution_count": 7,
   "metadata": {
    "execution": {
     "iopub.execute_input": "2021-03-17T07:40:25.676106Z",
     "iopub.status.busy": "2021-03-17T07:40:25.674620Z",
     "iopub.status.idle": "2021-03-17T07:40:25.676909Z",
     "shell.execute_reply": "2021-03-17T07:40:25.677532Z"
    }
   },
   "outputs": [],
   "source": [
    "doses = dataJson[0]['dataValues'][3:61]"
   ]
  },
  {
   "cell_type": "markdown",
   "metadata": {},
   "source": [
    "Data formatting"
   ]
  },
  {
   "cell_type": "code",
   "execution_count": 8,
   "metadata": {
    "execution": {
     "iopub.execute_input": "2021-03-17T07:40:25.682759Z",
     "iopub.status.busy": "2021-03-17T07:40:25.681155Z",
     "iopub.status.idle": "2021-03-17T07:40:25.683439Z",
     "shell.execute_reply": "2021-03-17T07:40:25.683932Z"
    }
   },
   "outputs": [],
   "source": [
    "zipped = dict(zip(counties, doses))"
   ]
  },
  {
   "cell_type": "code",
   "execution_count": 9,
   "metadata": {
    "execution": {
     "iopub.execute_input": "2021-03-17T07:40:25.691984Z",
     "iopub.status.busy": "2021-03-17T07:40:25.689924Z",
     "iopub.status.idle": "2021-03-17T07:40:25.692691Z",
     "shell.execute_reply": "2021-03-17T07:40:25.693331Z"
    }
   },
   "outputs": [],
   "source": [
    "df = pd.Series(zipped).reset_index()"
   ]
  },
  {
   "cell_type": "code",
   "execution_count": 10,
   "metadata": {
    "execution": {
     "iopub.execute_input": "2021-03-17T07:40:25.698842Z",
     "iopub.status.busy": "2021-03-17T07:40:25.697264Z",
     "iopub.status.idle": "2021-03-17T07:40:25.699664Z",
     "shell.execute_reply": "2021-03-17T07:40:25.700179Z"
    }
   },
   "outputs": [],
   "source": [
    "df.columns = ['location','doses']"
   ]
  },
  {
   "cell_type": "markdown",
   "metadata": {},
   "source": [
    "Grab the overall California total"
   ]
  },
  {
   "cell_type": "code",
   "execution_count": 11,
   "metadata": {
    "execution": {
     "iopub.execute_input": "2021-03-17T07:40:25.705403Z",
     "iopub.status.busy": "2021-03-17T07:40:25.703911Z",
     "iopub.status.idle": "2021-03-17T07:40:25.706244Z",
     "shell.execute_reply": "2021-03-17T07:40:25.706833Z"
    }
   },
   "outputs": [],
   "source": [
    "add = {'location':'California','doses':dataJson[0]['dataValues'][2]}"
   ]
  },
  {
   "cell_type": "code",
   "execution_count": 12,
   "metadata": {
    "execution": {
     "iopub.execute_input": "2021-03-17T07:40:25.715674Z",
     "iopub.status.busy": "2021-03-17T07:40:25.714178Z",
     "iopub.status.idle": "2021-03-17T07:40:25.716365Z",
     "shell.execute_reply": "2021-03-17T07:40:25.716856Z"
    }
   },
   "outputs": [],
   "source": [
    "df = df.append(add, ignore_index=True)"
   ]
  },
  {
   "cell_type": "code",
   "execution_count": 13,
   "metadata": {
    "execution": {
     "iopub.execute_input": "2021-03-17T07:40:25.722434Z",
     "iopub.status.busy": "2021-03-17T07:40:25.720934Z",
     "iopub.status.idle": "2021-03-17T07:40:25.723284Z",
     "shell.execute_reply": "2021-03-17T07:40:25.723788Z"
    }
   },
   "outputs": [],
   "source": [
    "df = df.sort_values(by='location')"
   ]
  },
  {
   "cell_type": "code",
   "execution_count": 14,
   "metadata": {
    "execution": {
     "iopub.execute_input": "2021-03-17T07:40:25.731216Z",
     "iopub.status.busy": "2021-03-17T07:40:25.729701Z",
     "iopub.status.idle": "2021-03-17T07:40:25.731939Z",
     "shell.execute_reply": "2021-03-17T07:40:25.732450Z"
    }
   },
   "outputs": [],
   "source": [
    "df = df[df.location == 'California'].append(df[df.location != 'California']).reset_index(drop=True)"
   ]
  },
  {
   "cell_type": "code",
   "execution_count": null,
   "metadata": {},
   "outputs": [],
   "source": []
  },
  {
   "cell_type": "code",
   "execution_count": 15,
   "metadata": {
    "execution": {
     "iopub.execute_input": "2021-03-17T07:40:25.736108Z",
     "iopub.status.busy": "2021-03-17T07:40:25.735462Z",
     "iopub.status.idle": "2021-03-17T07:40:25.756460Z",
     "shell.execute_reply": "2021-03-17T07:40:25.755913Z"
    }
   },
   "outputs": [],
   "source": [
    "tz = pytz.timezone(\"America/New_York\")"
   ]
  },
  {
   "cell_type": "code",
   "execution_count": 16,
   "metadata": {
    "execution": {
     "iopub.execute_input": "2021-03-17T07:40:25.761924Z",
     "iopub.status.busy": "2021-03-17T07:40:25.760345Z",
     "iopub.status.idle": "2021-03-17T07:40:25.762607Z",
     "shell.execute_reply": "2021-03-17T07:40:25.763255Z"
    }
   },
   "outputs": [],
   "source": [
    "today = datetime.now(tz).date()"
   ]
  },
  {
   "cell_type": "code",
   "execution_count": 17,
   "metadata": {
    "execution": {
     "iopub.execute_input": "2021-03-17T07:40:25.768228Z",
     "iopub.status.busy": "2021-03-17T07:40:25.766775Z",
     "iopub.status.idle": "2021-03-17T07:40:25.769058Z",
     "shell.execute_reply": "2021-03-17T07:40:25.769575Z"
    }
   },
   "outputs": [],
   "source": [
    "data_dir = os.path.join(os.path.abspath(\"\"), \"data\")"
   ]
  },
  {
   "cell_type": "code",
   "execution_count": 18,
   "metadata": {
    "execution": {
     "iopub.execute_input": "2021-03-17T07:40:25.775967Z",
     "iopub.status.busy": "2021-03-17T07:40:25.773152Z",
     "iopub.status.idle": "2021-03-17T07:40:25.778108Z",
     "shell.execute_reply": "2021-03-17T07:40:25.778592Z"
    }
   },
   "outputs": [],
   "source": [
    "df.to_csv(os.path.join(data_dir, f\"{today}.csv\"), index=False)"
   ]
  },
  {
   "cell_type": "code",
   "execution_count": null,
   "metadata": {},
   "outputs": [],
   "source": []
  }
 ],
 "metadata": {
  "kernelspec": {
   "display_name": "Python 3",
   "language": "python",
   "name": "python3"
  },
  "language_info": {
   "codemirror_mode": {
    "name": "ipython",
    "version": 3
   },
   "file_extension": ".py",
   "mimetype": "text/x-python",
   "name": "python",
   "nbconvert_exporter": "python",
   "pygments_lexer": "ipython3",
   "version": "3.8.8"
  }
 },
 "nbformat": 4,
 "nbformat_minor": 4
}
