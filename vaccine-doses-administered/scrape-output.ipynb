{
 "cells": [
  {
   "cell_type": "markdown",
   "metadata": {},
   "source": [
    "# California COVID vaccinations scrape"
   ]
  },
  {
   "cell_type": "markdown",
   "metadata": {},
   "source": [
    "By [Amy O'Kruk](https://twitter.com/amyokruk)"
   ]
  },
  {
   "cell_type": "markdown",
   "metadata": {},
   "source": [
    "Downloads data on vaccine doses administered by county and statewide from a Tableau-powered dashboard from the California Department of Public Health."
   ]
  },
  {
   "cell_type": "code",
   "execution_count": 1,
   "metadata": {
    "execution": {
     "iopub.execute_input": "2021-03-10T17:55:47.339758Z",
     "iopub.status.busy": "2021-03-10T17:55:47.339133Z",
     "iopub.status.idle": "2021-03-10T17:55:47.700318Z",
     "shell.execute_reply": "2021-03-10T17:55:47.699382Z"
    }
   },
   "outputs": [],
   "source": [
    "import pandas as pd\n",
    "import requests\n",
    "from bs4 import BeautifulSoup\n",
    "import json\n",
    "import re\n",
    "import time\n",
    "from time import gmtime, strftime \n",
    "import os\n",
    "import pytz\n",
    "from datetime import datetime"
   ]
  },
  {
   "cell_type": "markdown",
   "metadata": {},
   "source": [
    "Scrape the dashboard page"
   ]
  },
  {
   "cell_type": "code",
   "execution_count": 2,
   "metadata": {
    "execution": {
     "iopub.execute_input": "2021-03-10T17:55:47.706122Z",
     "iopub.status.busy": "2021-03-10T17:55:47.704456Z",
     "iopub.status.idle": "2021-03-10T17:55:48.041861Z",
     "shell.execute_reply": "2021-03-10T17:55:48.041185Z"
    }
   },
   "outputs": [],
   "source": [
    "url = \"https://public.tableau.com/interactive/views/COVID-19VaccineDashboardPublic/Vaccine?:embed=y&:showVizHome=n&:apiID=host0\"\n",
    "\n",
    "r = requests.get(url)\n",
    "soup = BeautifulSoup(r.text, \"html.parser\")"
   ]
  },
  {
   "cell_type": "code",
   "execution_count": 3,
   "metadata": {
    "execution": {
     "iopub.execute_input": "2021-03-10T17:55:48.047340Z",
     "iopub.status.busy": "2021-03-10T17:55:48.046594Z",
     "iopub.status.idle": "2021-03-10T17:55:48.051379Z",
     "shell.execute_reply": "2021-03-10T17:55:48.050747Z"
    }
   },
   "outputs": [],
   "source": [
    "tableauData = json.loads(soup.find(\"textarea\",{\"id\": \"tsConfigContainer\"}).text)"
   ]
  },
  {
   "cell_type": "markdown",
   "metadata": {},
   "source": [
    "Get the link to the Tableau data"
   ]
  },
  {
   "cell_type": "code",
   "execution_count": 4,
   "metadata": {
    "execution": {
     "iopub.execute_input": "2021-03-10T17:55:48.056025Z",
     "iopub.status.busy": "2021-03-10T17:55:48.055092Z",
     "iopub.status.idle": "2021-03-10T17:55:48.057090Z",
     "shell.execute_reply": "2021-03-10T17:55:48.057488Z"
    }
   },
   "outputs": [],
   "source": [
    "dataUrl = f'https://public.tableau.com{tableauData[\"vizql_root\"]}/bootstrapSession/sessions/{tableauData[\"sessionid\"]}'"
   ]
  },
  {
   "cell_type": "code",
   "execution_count": 5,
   "metadata": {
    "execution": {
     "iopub.execute_input": "2021-03-10T17:55:48.064811Z",
     "iopub.status.busy": "2021-03-10T17:55:48.064277Z",
     "iopub.status.idle": "2021-03-10T17:55:48.305625Z",
     "shell.execute_reply": "2021-03-10T17:55:48.304994Z"
    }
   },
   "outputs": [],
   "source": [
    "r = requests.post(dataUrl, data= {\n",
    "    \"sheet_id\": tableauData[\"sheetId\"],\n",
    "})\n",
    "\n",
    "dataReg = re.search('\\d+;({.*})\\d+;({.*})', r.text, re.MULTILINE)\n",
    "data1 = json.loads(dataReg.group(2))\n",
    "\n",
    "dataJson = data1[\"secondaryInfo\"][\"presModelMap\"][\"dataDictionary\"][\"presModelHolder\"][\"genDataDictionaryPresModel\"][\"dataSegments\"][\"0\"][\"dataColumns\"]"
   ]
  },
  {
   "cell_type": "markdown",
   "metadata": {},
   "source": [
    "Isolate what you want"
   ]
  },
  {
   "cell_type": "code",
   "execution_count": 6,
   "metadata": {
    "execution": {
     "iopub.execute_input": "2021-03-10T17:55:48.310989Z",
     "iopub.status.busy": "2021-03-10T17:55:48.309383Z",
     "iopub.status.idle": "2021-03-10T17:55:48.311738Z",
     "shell.execute_reply": "2021-03-10T17:55:48.312296Z"
    }
   },
   "outputs": [],
   "source": [
    "counties = dataJson[2]['dataValues'][:58]"
   ]
  },
  {
   "cell_type": "code",
   "execution_count": 7,
   "metadata": {
    "execution": {
     "iopub.execute_input": "2021-03-10T17:55:48.316886Z",
     "iopub.status.busy": "2021-03-10T17:55:48.315505Z",
     "iopub.status.idle": "2021-03-10T17:55:48.317487Z",
     "shell.execute_reply": "2021-03-10T17:55:48.317918Z"
    }
   },
   "outputs": [],
   "source": [
    "doses = dataJson[0]['dataValues'][3:61]"
   ]
  },
  {
   "cell_type": "markdown",
   "metadata": {},
   "source": [
    "Data formatting"
   ]
  },
  {
   "cell_type": "code",
   "execution_count": 8,
   "metadata": {
    "execution": {
     "iopub.execute_input": "2021-03-10T17:55:48.322832Z",
     "iopub.status.busy": "2021-03-10T17:55:48.322349Z",
     "iopub.status.idle": "2021-03-10T17:55:48.324502Z",
     "shell.execute_reply": "2021-03-10T17:55:48.324875Z"
    }
   },
   "outputs": [],
   "source": [
    "zipped = dict(zip(counties, doses))"
   ]
  },
  {
   "cell_type": "code",
   "execution_count": 9,
   "metadata": {
    "execution": {
     "iopub.execute_input": "2021-03-10T17:55:48.331252Z",
     "iopub.status.busy": "2021-03-10T17:55:48.330043Z",
     "iopub.status.idle": "2021-03-10T17:55:48.331912Z",
     "shell.execute_reply": "2021-03-10T17:55:48.332343Z"
    }
   },
   "outputs": [],
   "source": [
    "df = pd.Series(zipped).reset_index()"
   ]
  },
  {
   "cell_type": "code",
   "execution_count": 10,
   "metadata": {
    "execution": {
     "iopub.execute_input": "2021-03-10T17:55:48.337305Z",
     "iopub.status.busy": "2021-03-10T17:55:48.335561Z",
     "iopub.status.idle": "2021-03-10T17:55:48.337913Z",
     "shell.execute_reply": "2021-03-10T17:55:48.338383Z"
    }
   },
   "outputs": [],
   "source": [
    "df.columns = ['location','doses']"
   ]
  },
  {
   "cell_type": "markdown",
   "metadata": {},
   "source": [
    "Grab the overall California total"
   ]
  },
  {
   "cell_type": "code",
   "execution_count": 11,
   "metadata": {
    "execution": {
     "iopub.execute_input": "2021-03-10T17:55:48.342673Z",
     "iopub.status.busy": "2021-03-10T17:55:48.341533Z",
     "iopub.status.idle": "2021-03-10T17:55:48.343285Z",
     "shell.execute_reply": "2021-03-10T17:55:48.343689Z"
    }
   },
   "outputs": [],
   "source": [
    "add = {'location':'California','doses':dataJson[0]['dataValues'][2]}"
   ]
  },
  {
   "cell_type": "code",
   "execution_count": 12,
   "metadata": {
    "execution": {
     "iopub.execute_input": "2021-03-10T17:55:48.350965Z",
     "iopub.status.busy": "2021-03-10T17:55:48.349764Z",
     "iopub.status.idle": "2021-03-10T17:55:48.351540Z",
     "shell.execute_reply": "2021-03-10T17:55:48.351966Z"
    }
   },
   "outputs": [],
   "source": [
    "df = df.append(add, ignore_index=True)"
   ]
  },
  {
   "cell_type": "code",
   "execution_count": 13,
   "metadata": {
    "execution": {
     "iopub.execute_input": "2021-03-10T17:55:48.356734Z",
     "iopub.status.busy": "2021-03-10T17:55:48.355671Z",
     "iopub.status.idle": "2021-03-10T17:55:48.357288Z",
     "shell.execute_reply": "2021-03-10T17:55:48.357726Z"
    }
   },
   "outputs": [],
   "source": [
    "df = df.sort_values(by='location')"
   ]
  },
  {
   "cell_type": "code",
   "execution_count": 14,
   "metadata": {
    "execution": {
     "iopub.execute_input": "2021-03-10T17:55:48.364211Z",
     "iopub.status.busy": "2021-03-10T17:55:48.363031Z",
     "iopub.status.idle": "2021-03-10T17:55:48.364818Z",
     "shell.execute_reply": "2021-03-10T17:55:48.365242Z"
    }
   },
   "outputs": [],
   "source": [
    "df = df[df.location == 'California'].append(df[df.location != 'California']).reset_index(drop=True)"
   ]
  },
  {
   "cell_type": "code",
   "execution_count": null,
   "metadata": {},
   "outputs": [],
   "source": []
  },
  {
   "cell_type": "code",
   "execution_count": 15,
   "metadata": {
    "execution": {
     "iopub.execute_input": "2021-03-10T17:55:48.368594Z",
     "iopub.status.busy": "2021-03-10T17:55:48.368087Z",
     "iopub.status.idle": "2021-03-10T17:55:48.385500Z",
     "shell.execute_reply": "2021-03-10T17:55:48.384985Z"
    }
   },
   "outputs": [],
   "source": [
    "tz = pytz.timezone(\"America/New_York\")"
   ]
  },
  {
   "cell_type": "code",
   "execution_count": 16,
   "metadata": {
    "execution": {
     "iopub.execute_input": "2021-03-10T17:55:48.389684Z",
     "iopub.status.busy": "2021-03-10T17:55:48.388481Z",
     "iopub.status.idle": "2021-03-10T17:55:48.390305Z",
     "shell.execute_reply": "2021-03-10T17:55:48.390738Z"
    }
   },
   "outputs": [],
   "source": [
    "today = datetime.now(tz).date()"
   ]
  },
  {
   "cell_type": "code",
   "execution_count": 17,
   "metadata": {
    "execution": {
     "iopub.execute_input": "2021-03-10T17:55:48.394830Z",
     "iopub.status.busy": "2021-03-10T17:55:48.393882Z",
     "iopub.status.idle": "2021-03-10T17:55:48.395604Z",
     "shell.execute_reply": "2021-03-10T17:55:48.396043Z"
    }
   },
   "outputs": [],
   "source": [
    "data_dir = os.path.join(os.path.abspath(\"\"), \"data\")"
   ]
  },
  {
   "cell_type": "code",
   "execution_count": 18,
   "metadata": {
    "execution": {
     "iopub.execute_input": "2021-03-10T17:55:48.400105Z",
     "iopub.status.busy": "2021-03-10T17:55:48.398931Z",
     "iopub.status.idle": "2021-03-10T17:55:48.403449Z",
     "shell.execute_reply": "2021-03-10T17:55:48.402936Z"
    }
   },
   "outputs": [],
   "source": [
    "df.to_csv(os.path.join(data_dir, f\"{today}.csv\"), index=False)"
   ]
  },
  {
   "cell_type": "code",
   "execution_count": null,
   "metadata": {},
   "outputs": [],
   "source": []
  }
 ],
 "metadata": {
  "kernelspec": {
   "display_name": "Python 3",
   "language": "python",
   "name": "python3"
  },
  "language_info": {
   "codemirror_mode": {
    "name": "ipython",
    "version": 3
   },
   "file_extension": ".py",
   "mimetype": "text/x-python",
   "name": "python",
   "nbconvert_exporter": "python",
   "pygments_lexer": "ipython3",
   "version": "3.8.8"
  }
 },
 "nbformat": 4,
 "nbformat_minor": 4
}
