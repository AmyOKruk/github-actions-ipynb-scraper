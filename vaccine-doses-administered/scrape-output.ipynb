{
 "cells": [
  {
   "cell_type": "markdown",
   "metadata": {},
   "source": [
    "# California COVID vaccinations scrape"
   ]
  },
  {
   "cell_type": "markdown",
   "metadata": {},
   "source": [
    "By [Amy O'Kruk](https://twitter.com/amyokruk)"
   ]
  },
  {
   "cell_type": "markdown",
   "metadata": {},
   "source": [
    "Downloads data on vaccine doses administered by county and statewide from a Tableau-powered dashboard from the California Department of Public Health."
   ]
  },
  {
   "cell_type": "code",
   "execution_count": 1,
   "metadata": {
    "execution": {
     "iopub.execute_input": "2021-03-20T12:53:51.801927Z",
     "iopub.status.busy": "2021-03-20T12:53:51.800957Z",
     "iopub.status.idle": "2021-03-20T12:53:52.208543Z",
     "shell.execute_reply": "2021-03-20T12:53:52.207412Z"
    }
   },
   "outputs": [],
   "source": [
    "import pandas as pd\n",
    "import requests\n",
    "from bs4 import BeautifulSoup\n",
    "import json\n",
    "import re\n",
    "import time\n",
    "from time import gmtime, strftime \n",
    "import os\n",
    "import pytz\n",
    "from datetime import datetime"
   ]
  },
  {
   "cell_type": "markdown",
   "metadata": {},
   "source": [
    "Scrape the dashboard page"
   ]
  },
  {
   "cell_type": "code",
   "execution_count": 2,
   "metadata": {
    "execution": {
     "iopub.execute_input": "2021-03-20T12:53:52.212699Z",
     "iopub.status.busy": "2021-03-20T12:53:52.212207Z",
     "iopub.status.idle": "2021-03-20T12:53:52.951404Z",
     "shell.execute_reply": "2021-03-20T12:53:52.950685Z"
    }
   },
   "outputs": [],
   "source": [
    "url = \"https://public.tableau.com/interactive/views/COVID-19VaccineDashboardPublic/Vaccine?:embed=y&:showVizHome=n&:apiID=host0\"\n",
    "\n",
    "r = requests.get(url)\n",
    "soup = BeautifulSoup(r.text, \"html.parser\")"
   ]
  },
  {
   "cell_type": "code",
   "execution_count": 3,
   "metadata": {
    "execution": {
     "iopub.execute_input": "2021-03-20T12:53:52.958428Z",
     "iopub.status.busy": "2021-03-20T12:53:52.957012Z",
     "iopub.status.idle": "2021-03-20T12:53:52.959481Z",
     "shell.execute_reply": "2021-03-20T12:53:52.959052Z"
    }
   },
   "outputs": [],
   "source": [
    "tableauData = json.loads(soup.find(\"textarea\",{\"id\": \"tsConfigContainer\"}).text)"
   ]
  },
  {
   "cell_type": "markdown",
   "metadata": {},
   "source": [
    "Get the link to the Tableau data"
   ]
  },
  {
   "cell_type": "code",
   "execution_count": 4,
   "metadata": {
    "execution": {
     "iopub.execute_input": "2021-03-20T12:53:52.963468Z",
     "iopub.status.busy": "2021-03-20T12:53:52.962332Z",
     "iopub.status.idle": "2021-03-20T12:53:52.964067Z",
     "shell.execute_reply": "2021-03-20T12:53:52.964489Z"
    }
   },
   "outputs": [],
   "source": [
    "dataUrl = f'https://public.tableau.com{tableauData[\"vizql_root\"]}/bootstrapSession/sessions/{tableauData[\"sessionid\"]}'"
   ]
  },
  {
   "cell_type": "code",
   "execution_count": 5,
   "metadata": {
    "execution": {
     "iopub.execute_input": "2021-03-20T12:53:52.970968Z",
     "iopub.status.busy": "2021-03-20T12:53:52.970435Z",
     "iopub.status.idle": "2021-03-20T12:53:53.247323Z",
     "shell.execute_reply": "2021-03-20T12:53:53.246489Z"
    }
   },
   "outputs": [],
   "source": [
    "r = requests.post(dataUrl, data= {\n",
    "    \"sheet_id\": tableauData[\"sheetId\"],\n",
    "})\n",
    "\n",
    "dataReg = re.search('\\d+;({.*})\\d+;({.*})', r.text, re.MULTILINE)\n",
    "data1 = json.loads(dataReg.group(2))\n",
    "\n",
    "dataJson = data1[\"secondaryInfo\"][\"presModelMap\"][\"dataDictionary\"][\"presModelHolder\"][\"genDataDictionaryPresModel\"][\"dataSegments\"][\"0\"][\"dataColumns\"]"
   ]
  },
  {
   "cell_type": "markdown",
   "metadata": {},
   "source": [
    "Isolate what you want"
   ]
  },
  {
   "cell_type": "code",
   "execution_count": 6,
   "metadata": {
    "execution": {
     "iopub.execute_input": "2021-03-20T12:53:53.253529Z",
     "iopub.status.busy": "2021-03-20T12:53:53.252429Z",
     "iopub.status.idle": "2021-03-20T12:53:53.254697Z",
     "shell.execute_reply": "2021-03-20T12:53:53.254265Z"
    }
   },
   "outputs": [],
   "source": [
    "counties = dataJson[2]['dataValues'][:58]"
   ]
  },
  {
   "cell_type": "code",
   "execution_count": 7,
   "metadata": {
    "execution": {
     "iopub.execute_input": "2021-03-20T12:53:53.258795Z",
     "iopub.status.busy": "2021-03-20T12:53:53.257685Z",
     "iopub.status.idle": "2021-03-20T12:53:53.259393Z",
     "shell.execute_reply": "2021-03-20T12:53:53.259781Z"
    }
   },
   "outputs": [],
   "source": [
    "doses = dataJson[0]['dataValues'][3:61]"
   ]
  },
  {
   "cell_type": "markdown",
   "metadata": {},
   "source": [
    "Data formatting"
   ]
  },
  {
   "cell_type": "code",
   "execution_count": 8,
   "metadata": {
    "execution": {
     "iopub.execute_input": "2021-03-20T12:53:53.263775Z",
     "iopub.status.busy": "2021-03-20T12:53:53.262641Z",
     "iopub.status.idle": "2021-03-20T12:53:53.264443Z",
     "shell.execute_reply": "2021-03-20T12:53:53.264866Z"
    }
   },
   "outputs": [],
   "source": [
    "zipped = dict(zip(counties, doses))"
   ]
  },
  {
   "cell_type": "code",
   "execution_count": 9,
   "metadata": {
    "execution": {
     "iopub.execute_input": "2021-03-20T12:53:53.271262Z",
     "iopub.status.busy": "2021-03-20T12:53:53.270147Z",
     "iopub.status.idle": "2021-03-20T12:53:53.271811Z",
     "shell.execute_reply": "2021-03-20T12:53:53.272202Z"
    }
   },
   "outputs": [],
   "source": [
    "df = pd.Series(zipped).reset_index()"
   ]
  },
  {
   "cell_type": "code",
   "execution_count": 10,
   "metadata": {
    "execution": {
     "iopub.execute_input": "2021-03-20T12:53:53.276491Z",
     "iopub.status.busy": "2021-03-20T12:53:53.275454Z",
     "iopub.status.idle": "2021-03-20T12:53:53.277684Z",
     "shell.execute_reply": "2021-03-20T12:53:53.277220Z"
    }
   },
   "outputs": [],
   "source": [
    "df.columns = ['location','doses']"
   ]
  },
  {
   "cell_type": "markdown",
   "metadata": {},
   "source": [
    "Grab the overall California total"
   ]
  },
  {
   "cell_type": "code",
   "execution_count": 11,
   "metadata": {
    "execution": {
     "iopub.execute_input": "2021-03-20T12:53:53.281998Z",
     "iopub.status.busy": "2021-03-20T12:53:53.280826Z",
     "iopub.status.idle": "2021-03-20T12:53:53.282674Z",
     "shell.execute_reply": "2021-03-20T12:53:53.283101Z"
    }
   },
   "outputs": [],
   "source": [
    "add = {'location':'California','doses':dataJson[0]['dataValues'][2]}"
   ]
  },
  {
   "cell_type": "code",
   "execution_count": 12,
   "metadata": {
    "execution": {
     "iopub.execute_input": "2021-03-20T12:53:53.289949Z",
     "iopub.status.busy": "2021-03-20T12:53:53.288833Z",
     "iopub.status.idle": "2021-03-20T12:53:53.290566Z",
     "shell.execute_reply": "2021-03-20T12:53:53.290991Z"
    }
   },
   "outputs": [],
   "source": [
    "df = df.append(add, ignore_index=True)"
   ]
  },
  {
   "cell_type": "code",
   "execution_count": 13,
   "metadata": {
    "execution": {
     "iopub.execute_input": "2021-03-20T12:53:53.295728Z",
     "iopub.status.busy": "2021-03-20T12:53:53.294629Z",
     "iopub.status.idle": "2021-03-20T12:53:53.296297Z",
     "shell.execute_reply": "2021-03-20T12:53:53.296686Z"
    }
   },
   "outputs": [],
   "source": [
    "df = df.sort_values(by='location')"
   ]
  },
  {
   "cell_type": "code",
   "execution_count": 14,
   "metadata": {
    "execution": {
     "iopub.execute_input": "2021-03-20T12:53:53.302891Z",
     "iopub.status.busy": "2021-03-20T12:53:53.301771Z",
     "iopub.status.idle": "2021-03-20T12:53:53.303447Z",
     "shell.execute_reply": "2021-03-20T12:53:53.303882Z"
    }
   },
   "outputs": [],
   "source": [
    "df = df[df.location == 'California'].append(df[df.location != 'California']).reset_index(drop=True)"
   ]
  },
  {
   "cell_type": "code",
   "execution_count": null,
   "metadata": {},
   "outputs": [],
   "source": []
  },
  {
   "cell_type": "code",
   "execution_count": 15,
   "metadata": {
    "execution": {
     "iopub.execute_input": "2021-03-20T12:53:53.307230Z",
     "iopub.status.busy": "2021-03-20T12:53:53.306713Z",
     "iopub.status.idle": "2021-03-20T12:53:53.324234Z",
     "shell.execute_reply": "2021-03-20T12:53:53.323769Z"
    }
   },
   "outputs": [],
   "source": [
    "tz = pytz.timezone(\"America/New_York\")"
   ]
  },
  {
   "cell_type": "code",
   "execution_count": 16,
   "metadata": {
    "execution": {
     "iopub.execute_input": "2021-03-20T12:53:53.328500Z",
     "iopub.status.busy": "2021-03-20T12:53:53.327406Z",
     "iopub.status.idle": "2021-03-20T12:53:53.329089Z",
     "shell.execute_reply": "2021-03-20T12:53:53.329516Z"
    }
   },
   "outputs": [],
   "source": [
    "today = datetime.now(tz).date()"
   ]
  },
  {
   "cell_type": "code",
   "execution_count": 17,
   "metadata": {
    "execution": {
     "iopub.execute_input": "2021-03-20T12:53:53.333829Z",
     "iopub.status.busy": "2021-03-20T12:53:53.332650Z",
     "iopub.status.idle": "2021-03-20T12:53:53.334444Z",
     "shell.execute_reply": "2021-03-20T12:53:53.334899Z"
    }
   },
   "outputs": [],
   "source": [
    "data_dir = os.path.join(os.path.abspath(\"\"), \"data\")"
   ]
  },
  {
   "cell_type": "code",
   "execution_count": 18,
   "metadata": {
    "execution": {
     "iopub.execute_input": "2021-03-20T12:53:53.338803Z",
     "iopub.status.busy": "2021-03-20T12:53:53.338242Z",
     "iopub.status.idle": "2021-03-20T12:53:53.342673Z",
     "shell.execute_reply": "2021-03-20T12:53:53.342135Z"
    }
   },
   "outputs": [],
   "source": [
    "df.to_csv(os.path.join(data_dir, f\"{today}.csv\"), index=False)"
   ]
  },
  {
   "cell_type": "code",
   "execution_count": null,
   "metadata": {},
   "outputs": [],
   "source": []
  }
 ],
 "metadata": {
  "kernelspec": {
   "display_name": "Python 3",
   "language": "python",
   "name": "python3"
  },
  "language_info": {
   "codemirror_mode": {
    "name": "ipython",
    "version": 3
   },
   "file_extension": ".py",
   "mimetype": "text/x-python",
   "name": "python",
   "nbconvert_exporter": "python",
   "pygments_lexer": "ipython3",
   "version": "3.8.8"
  }
 },
 "nbformat": 4,
 "nbformat_minor": 4
}
