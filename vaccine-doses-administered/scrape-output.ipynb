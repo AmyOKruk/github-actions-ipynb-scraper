{
 "cells": [
  {
   "cell_type": "markdown",
   "metadata": {},
   "source": [
    "# California COVID vaccinations scrape"
   ]
  },
  {
   "cell_type": "markdown",
   "metadata": {},
   "source": [
    "By [Amy O'Kruk](https://twitter.com/amyokruk)"
   ]
  },
  {
   "cell_type": "markdown",
   "metadata": {},
   "source": [
    "Downloads data on vaccine doses administered by county and statewide from a Tableau-powered dashboard from the California Department of Public Health."
   ]
  },
  {
   "cell_type": "code",
   "execution_count": 1,
   "metadata": {
    "execution": {
     "iopub.execute_input": "2021-03-12T03:14:18.074124Z",
     "iopub.status.busy": "2021-03-12T03:14:18.073342Z",
     "iopub.status.idle": "2021-03-12T03:14:18.515428Z",
     "shell.execute_reply": "2021-03-12T03:14:18.514788Z"
    }
   },
   "outputs": [],
   "source": [
    "import pandas as pd\n",
    "import requests\n",
    "from bs4 import BeautifulSoup\n",
    "import json\n",
    "import re\n",
    "import time\n",
    "from time import gmtime, strftime \n",
    "import os\n",
    "import pytz\n",
    "from datetime import datetime"
   ]
  },
  {
   "cell_type": "markdown",
   "metadata": {},
   "source": [
    "Scrape the dashboard page"
   ]
  },
  {
   "cell_type": "code",
   "execution_count": 2,
   "metadata": {
    "execution": {
     "iopub.execute_input": "2021-03-12T03:14:18.521737Z",
     "iopub.status.busy": "2021-03-12T03:14:18.519195Z",
     "iopub.status.idle": "2021-03-12T03:14:19.113237Z",
     "shell.execute_reply": "2021-03-12T03:14:19.112606Z"
    }
   },
   "outputs": [],
   "source": [
    "url = \"https://public.tableau.com/interactive/views/COVID-19VaccineDashboardPublic/Vaccine?:embed=y&:showVizHome=n&:apiID=host0\"\n",
    "\n",
    "r = requests.get(url)\n",
    "soup = BeautifulSoup(r.text, \"html.parser\")"
   ]
  },
  {
   "cell_type": "code",
   "execution_count": 3,
   "metadata": {
    "execution": {
     "iopub.execute_input": "2021-03-12T03:14:19.118973Z",
     "iopub.status.busy": "2021-03-12T03:14:19.118178Z",
     "iopub.status.idle": "2021-03-12T03:14:19.122372Z",
     "shell.execute_reply": "2021-03-12T03:14:19.121845Z"
    }
   },
   "outputs": [],
   "source": [
    "tableauData = json.loads(soup.find(\"textarea\",{\"id\": \"tsConfigContainer\"}).text)"
   ]
  },
  {
   "cell_type": "markdown",
   "metadata": {},
   "source": [
    "Get the link to the Tableau data"
   ]
  },
  {
   "cell_type": "code",
   "execution_count": 4,
   "metadata": {
    "execution": {
     "iopub.execute_input": "2021-03-12T03:14:19.127511Z",
     "iopub.status.busy": "2021-03-12T03:14:19.125915Z",
     "iopub.status.idle": "2021-03-12T03:14:19.128239Z",
     "shell.execute_reply": "2021-03-12T03:14:19.128733Z"
    }
   },
   "outputs": [],
   "source": [
    "dataUrl = f'https://public.tableau.com{tableauData[\"vizql_root\"]}/bootstrapSession/sessions/{tableauData[\"sessionid\"]}'"
   ]
  },
  {
   "cell_type": "code",
   "execution_count": 5,
   "metadata": {
    "execution": {
     "iopub.execute_input": "2021-03-12T03:14:19.135900Z",
     "iopub.status.busy": "2021-03-12T03:14:19.135240Z",
     "iopub.status.idle": "2021-03-12T03:14:19.311984Z",
     "shell.execute_reply": "2021-03-12T03:14:19.312763Z"
    }
   },
   "outputs": [],
   "source": [
    "r = requests.post(dataUrl, data= {\n",
    "    \"sheet_id\": tableauData[\"sheetId\"],\n",
    "})\n",
    "\n",
    "dataReg = re.search('\\d+;({.*})\\d+;({.*})', r.text, re.MULTILINE)\n",
    "data1 = json.loads(dataReg.group(2))\n",
    "\n",
    "dataJson = data1[\"secondaryInfo\"][\"presModelMap\"][\"dataDictionary\"][\"presModelHolder\"][\"genDataDictionaryPresModel\"][\"dataSegments\"][\"0\"][\"dataColumns\"]"
   ]
  },
  {
   "cell_type": "markdown",
   "metadata": {},
   "source": [
    "Isolate what you want"
   ]
  },
  {
   "cell_type": "code",
   "execution_count": 6,
   "metadata": {
    "execution": {
     "iopub.execute_input": "2021-03-12T03:14:19.317879Z",
     "iopub.status.busy": "2021-03-12T03:14:19.316757Z",
     "iopub.status.idle": "2021-03-12T03:14:19.318906Z",
     "shell.execute_reply": "2021-03-12T03:14:19.319507Z"
    }
   },
   "outputs": [],
   "source": [
    "counties = dataJson[2]['dataValues'][:58]"
   ]
  },
  {
   "cell_type": "code",
   "execution_count": 7,
   "metadata": {
    "execution": {
     "iopub.execute_input": "2021-03-12T03:14:19.327767Z",
     "iopub.status.busy": "2021-03-12T03:14:19.326283Z",
     "iopub.status.idle": "2021-03-12T03:14:19.328457Z",
     "shell.execute_reply": "2021-03-12T03:14:19.329116Z"
    }
   },
   "outputs": [],
   "source": [
    "doses = dataJson[0]['dataValues'][3:61]"
   ]
  },
  {
   "cell_type": "markdown",
   "metadata": {},
   "source": [
    "Data formatting"
   ]
  },
  {
   "cell_type": "code",
   "execution_count": 8,
   "metadata": {
    "execution": {
     "iopub.execute_input": "2021-03-12T03:14:19.334172Z",
     "iopub.status.busy": "2021-03-12T03:14:19.332779Z",
     "iopub.status.idle": "2021-03-12T03:14:19.334825Z",
     "shell.execute_reply": "2021-03-12T03:14:19.335375Z"
    }
   },
   "outputs": [],
   "source": [
    "zipped = dict(zip(counties, doses))"
   ]
  },
  {
   "cell_type": "code",
   "execution_count": 9,
   "metadata": {
    "execution": {
     "iopub.execute_input": "2021-03-12T03:14:19.344429Z",
     "iopub.status.busy": "2021-03-12T03:14:19.343261Z",
     "iopub.status.idle": "2021-03-12T03:14:19.346451Z",
     "shell.execute_reply": "2021-03-12T03:14:19.346961Z"
    }
   },
   "outputs": [],
   "source": [
    "df = pd.Series(zipped).reset_index()"
   ]
  },
  {
   "cell_type": "code",
   "execution_count": 10,
   "metadata": {
    "execution": {
     "iopub.execute_input": "2021-03-12T03:14:19.351307Z",
     "iopub.status.busy": "2021-03-12T03:14:19.350573Z",
     "iopub.status.idle": "2021-03-12T03:14:19.354914Z",
     "shell.execute_reply": "2021-03-12T03:14:19.354348Z"
    }
   },
   "outputs": [],
   "source": [
    "df.columns = ['location','doses']"
   ]
  },
  {
   "cell_type": "markdown",
   "metadata": {},
   "source": [
    "Grab the overall California total"
   ]
  },
  {
   "cell_type": "code",
   "execution_count": 11,
   "metadata": {
    "execution": {
     "iopub.execute_input": "2021-03-12T03:14:19.359833Z",
     "iopub.status.busy": "2021-03-12T03:14:19.358534Z",
     "iopub.status.idle": "2021-03-12T03:14:19.360495Z",
     "shell.execute_reply": "2021-03-12T03:14:19.361007Z"
    }
   },
   "outputs": [],
   "source": [
    "add = {'location':'California','doses':dataJson[0]['dataValues'][2]}"
   ]
  },
  {
   "cell_type": "code",
   "execution_count": 12,
   "metadata": {
    "execution": {
     "iopub.execute_input": "2021-03-12T03:14:19.369507Z",
     "iopub.status.busy": "2021-03-12T03:14:19.368029Z",
     "iopub.status.idle": "2021-03-12T03:14:19.370269Z",
     "shell.execute_reply": "2021-03-12T03:14:19.370797Z"
    }
   },
   "outputs": [],
   "source": [
    "df = df.append(add, ignore_index=True)"
   ]
  },
  {
   "cell_type": "code",
   "execution_count": 13,
   "metadata": {
    "execution": {
     "iopub.execute_input": "2021-03-12T03:14:19.384335Z",
     "iopub.status.busy": "2021-03-12T03:14:19.382939Z",
     "iopub.status.idle": "2021-03-12T03:14:19.385489Z",
     "shell.execute_reply": "2021-03-12T03:14:19.386561Z"
    }
   },
   "outputs": [],
   "source": [
    "df = df.sort_values(by='location')"
   ]
  },
  {
   "cell_type": "code",
   "execution_count": 14,
   "metadata": {
    "execution": {
     "iopub.execute_input": "2021-03-12T03:14:19.394677Z",
     "iopub.status.busy": "2021-03-12T03:14:19.393958Z",
     "iopub.status.idle": "2021-03-12T03:14:19.397410Z",
     "shell.execute_reply": "2021-03-12T03:14:19.397911Z"
    }
   },
   "outputs": [],
   "source": [
    "df = df[df.location == 'California'].append(df[df.location != 'California']).reset_index(drop=True)"
   ]
  },
  {
   "cell_type": "code",
   "execution_count": null,
   "metadata": {},
   "outputs": [],
   "source": []
  },
  {
   "cell_type": "code",
   "execution_count": 15,
   "metadata": {
    "execution": {
     "iopub.execute_input": "2021-03-12T03:14:19.403017Z",
     "iopub.status.busy": "2021-03-12T03:14:19.402390Z",
     "iopub.status.idle": "2021-03-12T03:14:19.426210Z",
     "shell.execute_reply": "2021-03-12T03:14:19.425595Z"
    }
   },
   "outputs": [],
   "source": [
    "tz = pytz.timezone(\"America/New_York\")"
   ]
  },
  {
   "cell_type": "code",
   "execution_count": 16,
   "metadata": {
    "execution": {
     "iopub.execute_input": "2021-03-12T03:14:19.430320Z",
     "iopub.status.busy": "2021-03-12T03:14:19.429648Z",
     "iopub.status.idle": "2021-03-12T03:14:19.433906Z",
     "shell.execute_reply": "2021-03-12T03:14:19.434451Z"
    }
   },
   "outputs": [],
   "source": [
    "today = datetime.now(tz).date()"
   ]
  },
  {
   "cell_type": "code",
   "execution_count": 17,
   "metadata": {
    "execution": {
     "iopub.execute_input": "2021-03-12T03:14:19.439950Z",
     "iopub.status.busy": "2021-03-12T03:14:19.438185Z",
     "iopub.status.idle": "2021-03-12T03:14:19.440649Z",
     "shell.execute_reply": "2021-03-12T03:14:19.441157Z"
    }
   },
   "outputs": [],
   "source": [
    "data_dir = os.path.join(os.path.abspath(\"\"), \"data\")"
   ]
  },
  {
   "cell_type": "code",
   "execution_count": 18,
   "metadata": {
    "execution": {
     "iopub.execute_input": "2021-03-12T03:14:19.445858Z",
     "iopub.status.busy": "2021-03-12T03:14:19.444963Z",
     "iopub.status.idle": "2021-03-12T03:14:19.459938Z",
     "shell.execute_reply": "2021-03-12T03:14:19.459378Z"
    }
   },
   "outputs": [],
   "source": [
    "df.to_csv(os.path.join(data_dir, f\"{today}.csv\"), index=False)"
   ]
  },
  {
   "cell_type": "code",
   "execution_count": null,
   "metadata": {},
   "outputs": [],
   "source": []
  }
 ],
 "metadata": {
  "kernelspec": {
   "display_name": "Python 3",
   "language": "python",
   "name": "python3"
  },
  "language_info": {
   "codemirror_mode": {
    "name": "ipython",
    "version": 3
   },
   "file_extension": ".py",
   "mimetype": "text/x-python",
   "name": "python",
   "nbconvert_exporter": "python",
   "pygments_lexer": "ipython3",
   "version": "3.8.8"
  }
 },
 "nbformat": 4,
 "nbformat_minor": 4
}
