{
 "cells": [
  {
   "cell_type": "markdown",
   "metadata": {},
   "source": [
    "# California COVID vaccinations scrape"
   ]
  },
  {
   "cell_type": "markdown",
   "metadata": {},
   "source": [
    "By [Amy O'Kruk](https://twitter.com/amyokruk)"
   ]
  },
  {
   "cell_type": "markdown",
   "metadata": {},
   "source": [
    "Downloads data on vaccine doses administered by county and statewide from a Tableau-powered dashboard from the California Department of Public Health."
   ]
  },
  {
   "cell_type": "code",
   "execution_count": 1,
   "metadata": {
    "execution": {
     "iopub.execute_input": "2021-03-12T01:29:18.341843Z",
     "iopub.status.busy": "2021-03-12T01:29:18.341255Z",
     "iopub.status.idle": "2021-03-12T01:29:18.711767Z",
     "shell.execute_reply": "2021-03-12T01:29:18.710763Z"
    }
   },
   "outputs": [],
   "source": [
    "import pandas as pd\n",
    "import requests\n",
    "from bs4 import BeautifulSoup\n",
    "import json\n",
    "import re\n",
    "import time\n",
    "from time import gmtime, strftime \n",
    "import os\n",
    "import pytz\n",
    "from datetime import datetime"
   ]
  },
  {
   "cell_type": "markdown",
   "metadata": {},
   "source": [
    "Scrape the dashboard page"
   ]
  },
  {
   "cell_type": "code",
   "execution_count": 2,
   "metadata": {
    "execution": {
     "iopub.execute_input": "2021-03-12T01:29:18.718326Z",
     "iopub.status.busy": "2021-03-12T01:29:18.717157Z",
     "iopub.status.idle": "2021-03-12T01:29:19.981820Z",
     "shell.execute_reply": "2021-03-12T01:29:19.980994Z"
    }
   },
   "outputs": [],
   "source": [
    "url = \"https://public.tableau.com/interactive/views/COVID-19VaccineDashboardPublic/Vaccine?:embed=y&:showVizHome=n&:apiID=host0\"\n",
    "\n",
    "r = requests.get(url)\n",
    "soup = BeautifulSoup(r.text, \"html.parser\")"
   ]
  },
  {
   "cell_type": "code",
   "execution_count": 3,
   "metadata": {
    "execution": {
     "iopub.execute_input": "2021-03-12T01:29:19.987307Z",
     "iopub.status.busy": "2021-03-12T01:29:19.986391Z",
     "iopub.status.idle": "2021-03-12T01:29:19.988214Z",
     "shell.execute_reply": "2021-03-12T01:29:19.988672Z"
    }
   },
   "outputs": [],
   "source": [
    "tableauData = json.loads(soup.find(\"textarea\",{\"id\": \"tsConfigContainer\"}).text)"
   ]
  },
  {
   "cell_type": "markdown",
   "metadata": {},
   "source": [
    "Get the link to the Tableau data"
   ]
  },
  {
   "cell_type": "code",
   "execution_count": 4,
   "metadata": {
    "execution": {
     "iopub.execute_input": "2021-03-12T01:29:19.992753Z",
     "iopub.status.busy": "2021-03-12T01:29:19.991671Z",
     "iopub.status.idle": "2021-03-12T01:29:19.993426Z",
     "shell.execute_reply": "2021-03-12T01:29:19.993848Z"
    }
   },
   "outputs": [],
   "source": [
    "dataUrl = f'https://public.tableau.com{tableauData[\"vizql_root\"]}/bootstrapSession/sessions/{tableauData[\"sessionid\"]}'"
   ]
  },
  {
   "cell_type": "code",
   "execution_count": 5,
   "metadata": {
    "execution": {
     "iopub.execute_input": "2021-03-12T01:29:19.999668Z",
     "iopub.status.busy": "2021-03-12T01:29:19.999162Z",
     "iopub.status.idle": "2021-03-12T01:29:20.266634Z",
     "shell.execute_reply": "2021-03-12T01:29:20.266162Z"
    }
   },
   "outputs": [],
   "source": [
    "r = requests.post(dataUrl, data= {\n",
    "    \"sheet_id\": tableauData[\"sheetId\"],\n",
    "})\n",
    "\n",
    "dataReg = re.search('\\d+;({.*})\\d+;({.*})', r.text, re.MULTILINE)\n",
    "data1 = json.loads(dataReg.group(2))\n",
    "\n",
    "dataJson = data1[\"secondaryInfo\"][\"presModelMap\"][\"dataDictionary\"][\"presModelHolder\"][\"genDataDictionaryPresModel\"][\"dataSegments\"][\"0\"][\"dataColumns\"]"
   ]
  },
  {
   "cell_type": "markdown",
   "metadata": {},
   "source": [
    "Isolate what you want"
   ]
  },
  {
   "cell_type": "code",
   "execution_count": 6,
   "metadata": {
    "execution": {
     "iopub.execute_input": "2021-03-12T01:29:20.271280Z",
     "iopub.status.busy": "2021-03-12T01:29:20.270051Z",
     "iopub.status.idle": "2021-03-12T01:29:20.271868Z",
     "shell.execute_reply": "2021-03-12T01:29:20.272290Z"
    }
   },
   "outputs": [],
   "source": [
    "counties = dataJson[2]['dataValues'][:58]"
   ]
  },
  {
   "cell_type": "code",
   "execution_count": 7,
   "metadata": {
    "execution": {
     "iopub.execute_input": "2021-03-12T01:29:20.276563Z",
     "iopub.status.busy": "2021-03-12T01:29:20.275365Z",
     "iopub.status.idle": "2021-03-12T01:29:20.277159Z",
     "shell.execute_reply": "2021-03-12T01:29:20.277584Z"
    }
   },
   "outputs": [],
   "source": [
    "doses = dataJson[0]['dataValues'][3:61]"
   ]
  },
  {
   "cell_type": "markdown",
   "metadata": {},
   "source": [
    "Data formatting"
   ]
  },
  {
   "cell_type": "code",
   "execution_count": 8,
   "metadata": {
    "execution": {
     "iopub.execute_input": "2021-03-12T01:29:20.281861Z",
     "iopub.status.busy": "2021-03-12T01:29:20.280653Z",
     "iopub.status.idle": "2021-03-12T01:29:20.282447Z",
     "shell.execute_reply": "2021-03-12T01:29:20.282870Z"
    }
   },
   "outputs": [],
   "source": [
    "zipped = dict(zip(counties, doses))"
   ]
  },
  {
   "cell_type": "code",
   "execution_count": 9,
   "metadata": {
    "execution": {
     "iopub.execute_input": "2021-03-12T01:29:20.289507Z",
     "iopub.status.busy": "2021-03-12T01:29:20.288205Z",
     "iopub.status.idle": "2021-03-12T01:29:20.290104Z",
     "shell.execute_reply": "2021-03-12T01:29:20.290530Z"
    }
   },
   "outputs": [],
   "source": [
    "df = pd.Series(zipped).reset_index()"
   ]
  },
  {
   "cell_type": "code",
   "execution_count": 10,
   "metadata": {
    "execution": {
     "iopub.execute_input": "2021-03-12T01:29:20.294951Z",
     "iopub.status.busy": "2021-03-12T01:29:20.293857Z",
     "iopub.status.idle": "2021-03-12T01:29:20.295544Z",
     "shell.execute_reply": "2021-03-12T01:29:20.295965Z"
    }
   },
   "outputs": [],
   "source": [
    "df.columns = ['location','doses']"
   ]
  },
  {
   "cell_type": "markdown",
   "metadata": {},
   "source": [
    "Grab the overall California total"
   ]
  },
  {
   "cell_type": "code",
   "execution_count": 11,
   "metadata": {
    "execution": {
     "iopub.execute_input": "2021-03-12T01:29:20.300368Z",
     "iopub.status.busy": "2021-03-12T01:29:20.299182Z",
     "iopub.status.idle": "2021-03-12T01:29:20.301045Z",
     "shell.execute_reply": "2021-03-12T01:29:20.301470Z"
    }
   },
   "outputs": [],
   "source": [
    "add = {'location':'California','doses':dataJson[0]['dataValues'][2]}"
   ]
  },
  {
   "cell_type": "code",
   "execution_count": 12,
   "metadata": {
    "execution": {
     "iopub.execute_input": "2021-03-12T01:29:20.308456Z",
     "iopub.status.busy": "2021-03-12T01:29:20.307364Z",
     "iopub.status.idle": "2021-03-12T01:29:20.309005Z",
     "shell.execute_reply": "2021-03-12T01:29:20.309397Z"
    }
   },
   "outputs": [],
   "source": [
    "df = df.append(add, ignore_index=True)"
   ]
  },
  {
   "cell_type": "code",
   "execution_count": 13,
   "metadata": {
    "execution": {
     "iopub.execute_input": "2021-03-12T01:29:20.314290Z",
     "iopub.status.busy": "2021-03-12T01:29:20.313070Z",
     "iopub.status.idle": "2021-03-12T01:29:20.314877Z",
     "shell.execute_reply": "2021-03-12T01:29:20.315307Z"
    }
   },
   "outputs": [],
   "source": [
    "df = df.sort_values(by='location')"
   ]
  },
  {
   "cell_type": "code",
   "execution_count": 14,
   "metadata": {
    "execution": {
     "iopub.execute_input": "2021-03-12T01:29:20.321482Z",
     "iopub.status.busy": "2021-03-12T01:29:20.320483Z",
     "iopub.status.idle": "2021-03-12T01:29:20.322267Z",
     "shell.execute_reply": "2021-03-12T01:29:20.322692Z"
    }
   },
   "outputs": [],
   "source": [
    "df = df[df.location == 'California'].append(df[df.location != 'California']).reset_index(drop=True)"
   ]
  },
  {
   "cell_type": "code",
   "execution_count": null,
   "metadata": {},
   "outputs": [],
   "source": []
  },
  {
   "cell_type": "code",
   "execution_count": 15,
   "metadata": {
    "execution": {
     "iopub.execute_input": "2021-03-12T01:29:20.325991Z",
     "iopub.status.busy": "2021-03-12T01:29:20.325481Z",
     "iopub.status.idle": "2021-03-12T01:29:20.342468Z",
     "shell.execute_reply": "2021-03-12T01:29:20.341942Z"
    }
   },
   "outputs": [],
   "source": [
    "tz = pytz.timezone(\"America/New_York\")"
   ]
  },
  {
   "cell_type": "code",
   "execution_count": 16,
   "metadata": {
    "execution": {
     "iopub.execute_input": "2021-03-12T01:29:20.346592Z",
     "iopub.status.busy": "2021-03-12T01:29:20.345392Z",
     "iopub.status.idle": "2021-03-12T01:29:20.347188Z",
     "shell.execute_reply": "2021-03-12T01:29:20.347612Z"
    }
   },
   "outputs": [],
   "source": [
    "today = datetime.now(tz).date()"
   ]
  },
  {
   "cell_type": "code",
   "execution_count": 17,
   "metadata": {
    "execution": {
     "iopub.execute_input": "2021-03-12T01:29:20.351800Z",
     "iopub.status.busy": "2021-03-12T01:29:20.350714Z",
     "iopub.status.idle": "2021-03-12T01:29:20.352406Z",
     "shell.execute_reply": "2021-03-12T01:29:20.352856Z"
    }
   },
   "outputs": [],
   "source": [
    "data_dir = os.path.join(os.path.abspath(\"\"), \"data\")"
   ]
  },
  {
   "cell_type": "code",
   "execution_count": 18,
   "metadata": {
    "execution": {
     "iopub.execute_input": "2021-03-12T01:29:20.357111Z",
     "iopub.status.busy": "2021-03-12T01:29:20.356019Z",
     "iopub.status.idle": "2021-03-12T01:29:20.360489Z",
     "shell.execute_reply": "2021-03-12T01:29:20.359951Z"
    }
   },
   "outputs": [],
   "source": [
    "df.to_csv(os.path.join(data_dir, f\"{today}.csv\"), index=False)"
   ]
  },
  {
   "cell_type": "code",
   "execution_count": null,
   "metadata": {},
   "outputs": [],
   "source": []
  }
 ],
 "metadata": {
  "kernelspec": {
   "display_name": "Python 3",
   "language": "python",
   "name": "python3"
  },
  "language_info": {
   "codemirror_mode": {
    "name": "ipython",
    "version": 3
   },
   "file_extension": ".py",
   "mimetype": "text/x-python",
   "name": "python",
   "nbconvert_exporter": "python",
   "pygments_lexer": "ipython3",
   "version": "3.8.8"
  }
 },
 "nbformat": 4,
 "nbformat_minor": 4
}
