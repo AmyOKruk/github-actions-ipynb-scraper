{
 "cells": [
  {
   "cell_type": "markdown",
   "metadata": {},
   "source": [
    "# California COVID vaccinations scrape"
   ]
  },
  {
   "cell_type": "markdown",
   "metadata": {},
   "source": [
    "By [Amy O'Kruk](https://twitter.com/amyokruk)"
   ]
  },
  {
   "cell_type": "markdown",
   "metadata": {},
   "source": [
    "Downloads data on vaccine doses administered by county and statewide from a Tableau-powered dashboard from the California Department of Public Health."
   ]
  },
  {
   "cell_type": "code",
   "execution_count": 1,
   "metadata": {
    "execution": {
     "iopub.execute_input": "2021-03-25T22:17:08.032707Z",
     "iopub.status.busy": "2021-03-25T22:17:08.032065Z",
     "iopub.status.idle": "2021-03-25T22:17:08.482209Z",
     "shell.execute_reply": "2021-03-25T22:17:08.481629Z"
    }
   },
   "outputs": [],
   "source": [
    "import pandas as pd\n",
    "import requests\n",
    "from bs4 import BeautifulSoup\n",
    "import json\n",
    "import re\n",
    "import time\n",
    "from time import gmtime, strftime \n",
    "import os\n",
    "import pytz\n",
    "from datetime import datetime"
   ]
  },
  {
   "cell_type": "markdown",
   "metadata": {},
   "source": [
    "Scrape the dashboard page"
   ]
  },
  {
   "cell_type": "code",
   "execution_count": 2,
   "metadata": {
    "execution": {
     "iopub.execute_input": "2021-03-25T22:17:08.488960Z",
     "iopub.status.busy": "2021-03-25T22:17:08.486016Z",
     "iopub.status.idle": "2021-03-25T22:17:08.857591Z",
     "shell.execute_reply": "2021-03-25T22:17:08.857102Z"
    }
   },
   "outputs": [],
   "source": [
    "url = \"https://public.tableau.com/interactive/views/COVID-19VaccineDashboardPublic/Vaccine?:embed=y&:showVizHome=n&:apiID=host0\"\n",
    "\n",
    "r = requests.get(url)\n",
    "soup = BeautifulSoup(r.text, \"html.parser\")"
   ]
  },
  {
   "cell_type": "code",
   "execution_count": 3,
   "metadata": {
    "execution": {
     "iopub.execute_input": "2021-03-25T22:17:08.864018Z",
     "iopub.status.busy": "2021-03-25T22:17:08.862496Z",
     "iopub.status.idle": "2021-03-25T22:17:08.864883Z",
     "shell.execute_reply": "2021-03-25T22:17:08.865393Z"
    }
   },
   "outputs": [],
   "source": [
    "tableauData = json.loads(soup.find(\"textarea\",{\"id\": \"tsConfigContainer\"}).text)"
   ]
  },
  {
   "cell_type": "markdown",
   "metadata": {},
   "source": [
    "Get the link to the Tableau data"
   ]
  },
  {
   "cell_type": "code",
   "execution_count": 4,
   "metadata": {
    "execution": {
     "iopub.execute_input": "2021-03-25T22:17:08.870606Z",
     "iopub.status.busy": "2021-03-25T22:17:08.869459Z",
     "iopub.status.idle": "2021-03-25T22:17:08.872758Z",
     "shell.execute_reply": "2021-03-25T22:17:08.872269Z"
    }
   },
   "outputs": [],
   "source": [
    "dataUrl = f'https://public.tableau.com{tableauData[\"vizql_root\"]}/bootstrapSession/sessions/{tableauData[\"sessionid\"]}'"
   ]
  },
  {
   "cell_type": "code",
   "execution_count": 5,
   "metadata": {
    "execution": {
     "iopub.execute_input": "2021-03-25T22:17:08.879632Z",
     "iopub.status.busy": "2021-03-25T22:17:08.879056Z",
     "iopub.status.idle": "2021-03-25T22:17:09.148050Z",
     "shell.execute_reply": "2021-03-25T22:17:09.147491Z"
    }
   },
   "outputs": [],
   "source": [
    "r = requests.post(dataUrl, data= {\n",
    "    \"sheet_id\": tableauData[\"sheetId\"],\n",
    "})\n",
    "\n",
    "dataReg = re.search('\\d+;({.*})\\d+;({.*})', r.text, re.MULTILINE)\n",
    "data1 = json.loads(dataReg.group(2))\n",
    "\n",
    "dataJson = data1[\"secondaryInfo\"][\"presModelMap\"][\"dataDictionary\"][\"presModelHolder\"][\"genDataDictionaryPresModel\"][\"dataSegments\"][\"0\"][\"dataColumns\"]"
   ]
  },
  {
   "cell_type": "markdown",
   "metadata": {},
   "source": [
    "Isolate what you want"
   ]
  },
  {
   "cell_type": "code",
   "execution_count": 6,
   "metadata": {
    "execution": {
     "iopub.execute_input": "2021-03-25T22:17:09.152908Z",
     "iopub.status.busy": "2021-03-25T22:17:09.151538Z",
     "iopub.status.idle": "2021-03-25T22:17:09.153911Z",
     "shell.execute_reply": "2021-03-25T22:17:09.154323Z"
    }
   },
   "outputs": [],
   "source": [
    "counties = dataJson[2]['dataValues'][:58]"
   ]
  },
  {
   "cell_type": "code",
   "execution_count": 7,
   "metadata": {
    "execution": {
     "iopub.execute_input": "2021-03-25T22:17:09.159111Z",
     "iopub.status.busy": "2021-03-25T22:17:09.157811Z",
     "iopub.status.idle": "2021-03-25T22:17:09.159865Z",
     "shell.execute_reply": "2021-03-25T22:17:09.160417Z"
    }
   },
   "outputs": [],
   "source": [
    "doses = dataJson[0]['dataValues'][3:61]"
   ]
  },
  {
   "cell_type": "markdown",
   "metadata": {},
   "source": [
    "Data formatting"
   ]
  },
  {
   "cell_type": "code",
   "execution_count": 8,
   "metadata": {
    "execution": {
     "iopub.execute_input": "2021-03-25T22:17:09.165087Z",
     "iopub.status.busy": "2021-03-25T22:17:09.163577Z",
     "iopub.status.idle": "2021-03-25T22:17:09.165729Z",
     "shell.execute_reply": "2021-03-25T22:17:09.166192Z"
    }
   },
   "outputs": [],
   "source": [
    "zipped = dict(zip(counties, doses))"
   ]
  },
  {
   "cell_type": "code",
   "execution_count": 9,
   "metadata": {
    "execution": {
     "iopub.execute_input": "2021-03-25T22:17:09.173477Z",
     "iopub.status.busy": "2021-03-25T22:17:09.172227Z",
     "iopub.status.idle": "2021-03-25T22:17:09.174155Z",
     "shell.execute_reply": "2021-03-25T22:17:09.174610Z"
    }
   },
   "outputs": [],
   "source": [
    "df = pd.Series(zipped).reset_index()"
   ]
  },
  {
   "cell_type": "code",
   "execution_count": 10,
   "metadata": {
    "execution": {
     "iopub.execute_input": "2021-03-25T22:17:09.178904Z",
     "iopub.status.busy": "2021-03-25T22:17:09.177948Z",
     "iopub.status.idle": "2021-03-25T22:17:09.179928Z",
     "shell.execute_reply": "2021-03-25T22:17:09.180523Z"
    }
   },
   "outputs": [],
   "source": [
    "df.columns = ['location','doses']"
   ]
  },
  {
   "cell_type": "markdown",
   "metadata": {},
   "source": [
    "Grab the overall California total"
   ]
  },
  {
   "cell_type": "code",
   "execution_count": 11,
   "metadata": {
    "execution": {
     "iopub.execute_input": "2021-03-25T22:17:09.185224Z",
     "iopub.status.busy": "2021-03-25T22:17:09.184015Z",
     "iopub.status.idle": "2021-03-25T22:17:09.185831Z",
     "shell.execute_reply": "2021-03-25T22:17:09.186343Z"
    }
   },
   "outputs": [],
   "source": [
    "add = {'location':'California','doses':dataJson[0]['dataValues'][2]}"
   ]
  },
  {
   "cell_type": "code",
   "execution_count": 12,
   "metadata": {
    "execution": {
     "iopub.execute_input": "2021-03-25T22:17:09.194236Z",
     "iopub.status.busy": "2021-03-25T22:17:09.192785Z",
     "iopub.status.idle": "2021-03-25T22:17:09.194815Z",
     "shell.execute_reply": "2021-03-25T22:17:09.195311Z"
    }
   },
   "outputs": [],
   "source": [
    "df = df.append(add, ignore_index=True)"
   ]
  },
  {
   "cell_type": "code",
   "execution_count": 13,
   "metadata": {
    "execution": {
     "iopub.execute_input": "2021-03-25T22:17:09.201279Z",
     "iopub.status.busy": "2021-03-25T22:17:09.199747Z",
     "iopub.status.idle": "2021-03-25T22:17:09.201999Z",
     "shell.execute_reply": "2021-03-25T22:17:09.202536Z"
    }
   },
   "outputs": [],
   "source": [
    "df = df.sort_values(by='location')"
   ]
  },
  {
   "cell_type": "code",
   "execution_count": 14,
   "metadata": {
    "execution": {
     "iopub.execute_input": "2021-03-25T22:17:09.209134Z",
     "iopub.status.busy": "2021-03-25T22:17:09.207716Z",
     "iopub.status.idle": "2021-03-25T22:17:09.209761Z",
     "shell.execute_reply": "2021-03-25T22:17:09.210212Z"
    }
   },
   "outputs": [],
   "source": [
    "df = df[df.location == 'California'].append(df[df.location != 'California']).reset_index(drop=True)"
   ]
  },
  {
   "cell_type": "code",
   "execution_count": null,
   "metadata": {},
   "outputs": [],
   "source": []
  },
  {
   "cell_type": "code",
   "execution_count": 15,
   "metadata": {
    "execution": {
     "iopub.execute_input": "2021-03-25T22:17:09.214373Z",
     "iopub.status.busy": "2021-03-25T22:17:09.213558Z",
     "iopub.status.idle": "2021-03-25T22:17:09.240268Z",
     "shell.execute_reply": "2021-03-25T22:17:09.239764Z"
    }
   },
   "outputs": [],
   "source": [
    "tz = pytz.timezone(\"America/New_York\")"
   ]
  },
  {
   "cell_type": "code",
   "execution_count": 16,
   "metadata": {
    "execution": {
     "iopub.execute_input": "2021-03-25T22:17:09.244742Z",
     "iopub.status.busy": "2021-03-25T22:17:09.243465Z",
     "iopub.status.idle": "2021-03-25T22:17:09.245289Z",
     "shell.execute_reply": "2021-03-25T22:17:09.245928Z"
    }
   },
   "outputs": [],
   "source": [
    "today = datetime.now(tz).date()"
   ]
  },
  {
   "cell_type": "code",
   "execution_count": 17,
   "metadata": {
    "execution": {
     "iopub.execute_input": "2021-03-25T22:17:09.251921Z",
     "iopub.status.busy": "2021-03-25T22:17:09.250479Z",
     "iopub.status.idle": "2021-03-25T22:17:09.252571Z",
     "shell.execute_reply": "2021-03-25T22:17:09.253034Z"
    }
   },
   "outputs": [],
   "source": [
    "data_dir = os.path.join(os.path.abspath(\"\"), \"data\")"
   ]
  },
  {
   "cell_type": "code",
   "execution_count": 18,
   "metadata": {
    "execution": {
     "iopub.execute_input": "2021-03-25T22:17:09.257581Z",
     "iopub.status.busy": "2021-03-25T22:17:09.256541Z",
     "iopub.status.idle": "2021-03-25T22:17:09.262065Z",
     "shell.execute_reply": "2021-03-25T22:17:09.261546Z"
    }
   },
   "outputs": [],
   "source": [
    "df.to_csv(os.path.join(data_dir, f\"{today}.csv\"), index=False)"
   ]
  },
  {
   "cell_type": "code",
   "execution_count": null,
   "metadata": {},
   "outputs": [],
   "source": []
  }
 ],
 "metadata": {
  "kernelspec": {
   "display_name": "Python 3",
   "language": "python",
   "name": "python3"
  },
  "language_info": {
   "codemirror_mode": {
    "name": "ipython",
    "version": 3
   },
   "file_extension": ".py",
   "mimetype": "text/x-python",
   "name": "python",
   "nbconvert_exporter": "python",
   "pygments_lexer": "ipython3",
   "version": "3.8.8"
  }
 },
 "nbformat": 4,
 "nbformat_minor": 4
}
