{
 "cells": [
  {
   "cell_type": "markdown",
   "metadata": {},
   "source": [
    "# California COVID vaccinations scrape"
   ]
  },
  {
   "cell_type": "markdown",
   "metadata": {},
   "source": [
    "By [Amy O'Kruk](https://twitter.com/amyokruk)"
   ]
  },
  {
   "cell_type": "markdown",
   "metadata": {},
   "source": [
    "Downloads data on vaccine doses administered by county and statewide from a Tableau-powered dashboard from the California Department of Public Health."
   ]
  },
  {
   "cell_type": "code",
   "execution_count": 1,
   "metadata": {
    "execution": {
     "iopub.execute_input": "2021-03-16T23:43:05.546364Z",
     "iopub.status.busy": "2021-03-16T23:43:05.544561Z",
     "iopub.status.idle": "2021-03-16T23:43:05.935033Z",
     "shell.execute_reply": "2021-03-16T23:43:05.933969Z"
    }
   },
   "outputs": [],
   "source": [
    "import pandas as pd\n",
    "import requests\n",
    "from bs4 import BeautifulSoup\n",
    "import json\n",
    "import re\n",
    "import time\n",
    "from time import gmtime, strftime \n",
    "import os\n",
    "import pytz\n",
    "from datetime import datetime"
   ]
  },
  {
   "cell_type": "markdown",
   "metadata": {},
   "source": [
    "Scrape the dashboard page"
   ]
  },
  {
   "cell_type": "code",
   "execution_count": 2,
   "metadata": {
    "execution": {
     "iopub.execute_input": "2021-03-16T23:43:05.940359Z",
     "iopub.status.busy": "2021-03-16T23:43:05.938246Z",
     "iopub.status.idle": "2021-03-16T23:43:06.346013Z",
     "shell.execute_reply": "2021-03-16T23:43:06.345161Z"
    }
   },
   "outputs": [],
   "source": [
    "url = \"https://public.tableau.com/interactive/views/COVID-19VaccineDashboardPublic/Vaccine?:embed=y&:showVizHome=n&:apiID=host0\"\n",
    "\n",
    "r = requests.get(url)\n",
    "soup = BeautifulSoup(r.text, \"html.parser\")"
   ]
  },
  {
   "cell_type": "code",
   "execution_count": 3,
   "metadata": {
    "execution": {
     "iopub.execute_input": "2021-03-16T23:43:06.352140Z",
     "iopub.status.busy": "2021-03-16T23:43:06.351254Z",
     "iopub.status.idle": "2021-03-16T23:43:06.354099Z",
     "shell.execute_reply": "2021-03-16T23:43:06.353605Z"
    }
   },
   "outputs": [],
   "source": [
    "tableauData = json.loads(soup.find(\"textarea\",{\"id\": \"tsConfigContainer\"}).text)"
   ]
  },
  {
   "cell_type": "markdown",
   "metadata": {},
   "source": [
    "Get the link to the Tableau data"
   ]
  },
  {
   "cell_type": "code",
   "execution_count": 4,
   "metadata": {
    "execution": {
     "iopub.execute_input": "2021-03-16T23:43:06.358250Z",
     "iopub.status.busy": "2021-03-16T23:43:06.357151Z",
     "iopub.status.idle": "2021-03-16T23:43:06.358831Z",
     "shell.execute_reply": "2021-03-16T23:43:06.359223Z"
    }
   },
   "outputs": [],
   "source": [
    "dataUrl = f'https://public.tableau.com{tableauData[\"vizql_root\"]}/bootstrapSession/sessions/{tableauData[\"sessionid\"]}'"
   ]
  },
  {
   "cell_type": "code",
   "execution_count": 5,
   "metadata": {
    "execution": {
     "iopub.execute_input": "2021-03-16T23:43:06.365469Z",
     "iopub.status.busy": "2021-03-16T23:43:06.364914Z",
     "iopub.status.idle": "2021-03-16T23:43:06.634009Z",
     "shell.execute_reply": "2021-03-16T23:43:06.633036Z"
    }
   },
   "outputs": [],
   "source": [
    "r = requests.post(dataUrl, data= {\n",
    "    \"sheet_id\": tableauData[\"sheetId\"],\n",
    "})\n",
    "\n",
    "dataReg = re.search('\\d+;({.*})\\d+;({.*})', r.text, re.MULTILINE)\n",
    "data1 = json.loads(dataReg.group(2))\n",
    "\n",
    "dataJson = data1[\"secondaryInfo\"][\"presModelMap\"][\"dataDictionary\"][\"presModelHolder\"][\"genDataDictionaryPresModel\"][\"dataSegments\"][\"0\"][\"dataColumns\"]"
   ]
  },
  {
   "cell_type": "markdown",
   "metadata": {},
   "source": [
    "Isolate what you want"
   ]
  },
  {
   "cell_type": "code",
   "execution_count": 6,
   "metadata": {
    "execution": {
     "iopub.execute_input": "2021-03-16T23:43:06.638955Z",
     "iopub.status.busy": "2021-03-16T23:43:06.637687Z",
     "iopub.status.idle": "2021-03-16T23:43:06.639556Z",
     "shell.execute_reply": "2021-03-16T23:43:06.639992Z"
    }
   },
   "outputs": [],
   "source": [
    "counties = dataJson[2]['dataValues'][:58]"
   ]
  },
  {
   "cell_type": "code",
   "execution_count": 7,
   "metadata": {
    "execution": {
     "iopub.execute_input": "2021-03-16T23:43:06.644414Z",
     "iopub.status.busy": "2021-03-16T23:43:06.643253Z",
     "iopub.status.idle": "2021-03-16T23:43:06.645018Z",
     "shell.execute_reply": "2021-03-16T23:43:06.645474Z"
    }
   },
   "outputs": [],
   "source": [
    "doses = dataJson[0]['dataValues'][3:61]"
   ]
  },
  {
   "cell_type": "markdown",
   "metadata": {},
   "source": [
    "Data formatting"
   ]
  },
  {
   "cell_type": "code",
   "execution_count": 8,
   "metadata": {
    "execution": {
     "iopub.execute_input": "2021-03-16T23:43:06.649740Z",
     "iopub.status.busy": "2021-03-16T23:43:06.648548Z",
     "iopub.status.idle": "2021-03-16T23:43:06.650322Z",
     "shell.execute_reply": "2021-03-16T23:43:06.650715Z"
    }
   },
   "outputs": [],
   "source": [
    "zipped = dict(zip(counties, doses))"
   ]
  },
  {
   "cell_type": "code",
   "execution_count": 9,
   "metadata": {
    "execution": {
     "iopub.execute_input": "2021-03-16T23:43:06.657164Z",
     "iopub.status.busy": "2021-03-16T23:43:06.656017Z",
     "iopub.status.idle": "2021-03-16T23:43:06.657745Z",
     "shell.execute_reply": "2021-03-16T23:43:06.658138Z"
    }
   },
   "outputs": [],
   "source": [
    "df = pd.Series(zipped).reset_index()"
   ]
  },
  {
   "cell_type": "code",
   "execution_count": 10,
   "metadata": {
    "execution": {
     "iopub.execute_input": "2021-03-16T23:43:06.662364Z",
     "iopub.status.busy": "2021-03-16T23:43:06.661144Z",
     "iopub.status.idle": "2021-03-16T23:43:06.662958Z",
     "shell.execute_reply": "2021-03-16T23:43:06.663380Z"
    }
   },
   "outputs": [],
   "source": [
    "df.columns = ['location','doses']"
   ]
  },
  {
   "cell_type": "markdown",
   "metadata": {},
   "source": [
    "Grab the overall California total"
   ]
  },
  {
   "cell_type": "code",
   "execution_count": 11,
   "metadata": {
    "execution": {
     "iopub.execute_input": "2021-03-16T23:43:06.667537Z",
     "iopub.status.busy": "2021-03-16T23:43:06.666447Z",
     "iopub.status.idle": "2021-03-16T23:43:06.668244Z",
     "shell.execute_reply": "2021-03-16T23:43:06.668639Z"
    }
   },
   "outputs": [],
   "source": [
    "add = {'location':'California','doses':dataJson[0]['dataValues'][2]}"
   ]
  },
  {
   "cell_type": "code",
   "execution_count": 12,
   "metadata": {
    "execution": {
     "iopub.execute_input": "2021-03-16T23:43:06.675451Z",
     "iopub.status.busy": "2021-03-16T23:43:06.674330Z",
     "iopub.status.idle": "2021-03-16T23:43:06.676002Z",
     "shell.execute_reply": "2021-03-16T23:43:06.676394Z"
    }
   },
   "outputs": [],
   "source": [
    "df = df.append(add, ignore_index=True)"
   ]
  },
  {
   "cell_type": "code",
   "execution_count": 13,
   "metadata": {
    "execution": {
     "iopub.execute_input": "2021-03-16T23:43:06.681290Z",
     "iopub.status.busy": "2021-03-16T23:43:06.680128Z",
     "iopub.status.idle": "2021-03-16T23:43:06.681997Z",
     "shell.execute_reply": "2021-03-16T23:43:06.682418Z"
    }
   },
   "outputs": [],
   "source": [
    "df = df.sort_values(by='location')"
   ]
  },
  {
   "cell_type": "code",
   "execution_count": 14,
   "metadata": {
    "execution": {
     "iopub.execute_input": "2021-03-16T23:43:06.688664Z",
     "iopub.status.busy": "2021-03-16T23:43:06.687534Z",
     "iopub.status.idle": "2021-03-16T23:43:06.689219Z",
     "shell.execute_reply": "2021-03-16T23:43:06.689638Z"
    }
   },
   "outputs": [],
   "source": [
    "df = df[df.location == 'California'].append(df[df.location != 'California']).reset_index(drop=True)"
   ]
  },
  {
   "cell_type": "code",
   "execution_count": null,
   "metadata": {},
   "outputs": [],
   "source": []
  },
  {
   "cell_type": "code",
   "execution_count": 15,
   "metadata": {
    "execution": {
     "iopub.execute_input": "2021-03-16T23:43:06.692685Z",
     "iopub.status.busy": "2021-03-16T23:43:06.692214Z",
     "iopub.status.idle": "2021-03-16T23:43:06.708487Z",
     "shell.execute_reply": "2021-03-16T23:43:06.708889Z"
    }
   },
   "outputs": [],
   "source": [
    "tz = pytz.timezone(\"America/New_York\")"
   ]
  },
  {
   "cell_type": "code",
   "execution_count": 16,
   "metadata": {
    "execution": {
     "iopub.execute_input": "2021-03-16T23:43:06.713070Z",
     "iopub.status.busy": "2021-03-16T23:43:06.711953Z",
     "iopub.status.idle": "2021-03-16T23:43:06.713685Z",
     "shell.execute_reply": "2021-03-16T23:43:06.714285Z"
    }
   },
   "outputs": [],
   "source": [
    "today = datetime.now(tz).date()"
   ]
  },
  {
   "cell_type": "code",
   "execution_count": 17,
   "metadata": {
    "execution": {
     "iopub.execute_input": "2021-03-16T23:43:06.718515Z",
     "iopub.status.busy": "2021-03-16T23:43:06.717369Z",
     "iopub.status.idle": "2021-03-16T23:43:06.719064Z",
     "shell.execute_reply": "2021-03-16T23:43:06.719452Z"
    }
   },
   "outputs": [],
   "source": [
    "data_dir = os.path.join(os.path.abspath(\"\"), \"data\")"
   ]
  },
  {
   "cell_type": "code",
   "execution_count": 18,
   "metadata": {
    "execution": {
     "iopub.execute_input": "2021-03-16T23:43:06.723606Z",
     "iopub.status.busy": "2021-03-16T23:43:06.722449Z",
     "iopub.status.idle": "2021-03-16T23:43:06.727081Z",
     "shell.execute_reply": "2021-03-16T23:43:06.726580Z"
    }
   },
   "outputs": [],
   "source": [
    "df.to_csv(os.path.join(data_dir, f\"{today}.csv\"), index=False)"
   ]
  },
  {
   "cell_type": "code",
   "execution_count": null,
   "metadata": {},
   "outputs": [],
   "source": []
  }
 ],
 "metadata": {
  "kernelspec": {
   "display_name": "Python 3",
   "language": "python",
   "name": "python3"
  },
  "language_info": {
   "codemirror_mode": {
    "name": "ipython",
    "version": 3
   },
   "file_extension": ".py",
   "mimetype": "text/x-python",
   "name": "python",
   "nbconvert_exporter": "python",
   "pygments_lexer": "ipython3",
   "version": "3.8.8"
  }
 },
 "nbformat": 4,
 "nbformat_minor": 4
}
