{
 "cells": [
  {
   "cell_type": "markdown",
   "metadata": {},
   "source": [
    "# California COVID vaccinations scrape"
   ]
  },
  {
   "cell_type": "markdown",
   "metadata": {},
   "source": [
    "By [Amy O'Kruk](https://twitter.com/amyokruk)"
   ]
  },
  {
   "cell_type": "markdown",
   "metadata": {},
   "source": [
    "Downloads data on vaccine doses administered by county and statewide from a Tableau-powered dashboard from the California Department of Public Health."
   ]
  },
  {
   "cell_type": "code",
   "execution_count": 1,
   "metadata": {
    "execution": {
     "iopub.execute_input": "2021-03-17T01:29:58.299528Z",
     "iopub.status.busy": "2021-03-17T01:29:58.298300Z",
     "iopub.status.idle": "2021-03-17T01:29:58.732774Z",
     "shell.execute_reply": "2021-03-17T01:29:58.731594Z"
    }
   },
   "outputs": [],
   "source": [
    "import pandas as pd\n",
    "import requests\n",
    "from bs4 import BeautifulSoup\n",
    "import json\n",
    "import re\n",
    "import time\n",
    "from time import gmtime, strftime \n",
    "import os\n",
    "import pytz\n",
    "from datetime import datetime"
   ]
  },
  {
   "cell_type": "markdown",
   "metadata": {},
   "source": [
    "Scrape the dashboard page"
   ]
  },
  {
   "cell_type": "code",
   "execution_count": 2,
   "metadata": {
    "execution": {
     "iopub.execute_input": "2021-03-17T01:29:58.736997Z",
     "iopub.status.busy": "2021-03-17T01:29:58.736456Z",
     "iopub.status.idle": "2021-03-17T01:29:59.095574Z",
     "shell.execute_reply": "2021-03-17T01:29:59.094520Z"
    }
   },
   "outputs": [],
   "source": [
    "url = \"https://public.tableau.com/interactive/views/COVID-19VaccineDashboardPublic/Vaccine?:embed=y&:showVizHome=n&:apiID=host0\"\n",
    "\n",
    "r = requests.get(url)\n",
    "soup = BeautifulSoup(r.text, \"html.parser\")"
   ]
  },
  {
   "cell_type": "code",
   "execution_count": 3,
   "metadata": {
    "execution": {
     "iopub.execute_input": "2021-03-17T01:29:59.100522Z",
     "iopub.status.busy": "2021-03-17T01:29:59.099971Z",
     "iopub.status.idle": "2021-03-17T01:29:59.103174Z",
     "shell.execute_reply": "2021-03-17T01:29:59.102430Z"
    }
   },
   "outputs": [],
   "source": [
    "tableauData = json.loads(soup.find(\"textarea\",{\"id\": \"tsConfigContainer\"}).text)"
   ]
  },
  {
   "cell_type": "markdown",
   "metadata": {},
   "source": [
    "Get the link to the Tableau data"
   ]
  },
  {
   "cell_type": "code",
   "execution_count": 4,
   "metadata": {
    "execution": {
     "iopub.execute_input": "2021-03-17T01:29:59.106803Z",
     "iopub.status.busy": "2021-03-17T01:29:59.106263Z",
     "iopub.status.idle": "2021-03-17T01:29:59.110383Z",
     "shell.execute_reply": "2021-03-17T01:29:59.109911Z"
    }
   },
   "outputs": [],
   "source": [
    "dataUrl = f'https://public.tableau.com{tableauData[\"vizql_root\"]}/bootstrapSession/sessions/{tableauData[\"sessionid\"]}'"
   ]
  },
  {
   "cell_type": "code",
   "execution_count": 5,
   "metadata": {
    "execution": {
     "iopub.execute_input": "2021-03-17T01:29:59.117262Z",
     "iopub.status.busy": "2021-03-17T01:29:59.116723Z",
     "iopub.status.idle": "2021-03-17T01:29:59.481106Z",
     "shell.execute_reply": "2021-03-17T01:29:59.479984Z"
    }
   },
   "outputs": [],
   "source": [
    "r = requests.post(dataUrl, data= {\n",
    "    \"sheet_id\": tableauData[\"sheetId\"],\n",
    "})\n",
    "\n",
    "dataReg = re.search('\\d+;({.*})\\d+;({.*})', r.text, re.MULTILINE)\n",
    "data1 = json.loads(dataReg.group(2))\n",
    "\n",
    "dataJson = data1[\"secondaryInfo\"][\"presModelMap\"][\"dataDictionary\"][\"presModelHolder\"][\"genDataDictionaryPresModel\"][\"dataSegments\"][\"0\"][\"dataColumns\"]"
   ]
  },
  {
   "cell_type": "markdown",
   "metadata": {},
   "source": [
    "Isolate what you want"
   ]
  },
  {
   "cell_type": "code",
   "execution_count": 6,
   "metadata": {
    "execution": {
     "iopub.execute_input": "2021-03-17T01:29:59.484999Z",
     "iopub.status.busy": "2021-03-17T01:29:59.484450Z",
     "iopub.status.idle": "2021-03-17T01:29:59.488038Z",
     "shell.execute_reply": "2021-03-17T01:29:59.487528Z"
    }
   },
   "outputs": [],
   "source": [
    "counties = dataJson[2]['dataValues'][:58]"
   ]
  },
  {
   "cell_type": "code",
   "execution_count": 7,
   "metadata": {
    "execution": {
     "iopub.execute_input": "2021-03-17T01:29:59.491715Z",
     "iopub.status.busy": "2021-03-17T01:29:59.491177Z",
     "iopub.status.idle": "2021-03-17T01:29:59.494139Z",
     "shell.execute_reply": "2021-03-17T01:29:59.494599Z"
    }
   },
   "outputs": [],
   "source": [
    "doses = dataJson[0]['dataValues'][3:61]"
   ]
  },
  {
   "cell_type": "markdown",
   "metadata": {},
   "source": [
    "Data formatting"
   ]
  },
  {
   "cell_type": "code",
   "execution_count": 8,
   "metadata": {
    "execution": {
     "iopub.execute_input": "2021-03-17T01:29:59.498359Z",
     "iopub.status.busy": "2021-03-17T01:29:59.497829Z",
     "iopub.status.idle": "2021-03-17T01:29:59.501383Z",
     "shell.execute_reply": "2021-03-17T01:29:59.500913Z"
    }
   },
   "outputs": [],
   "source": [
    "zipped = dict(zip(counties, doses))"
   ]
  },
  {
   "cell_type": "code",
   "execution_count": 9,
   "metadata": {
    "execution": {
     "iopub.execute_input": "2021-03-17T01:29:59.507231Z",
     "iopub.status.busy": "2021-03-17T01:29:59.506664Z",
     "iopub.status.idle": "2021-03-17T01:29:59.510135Z",
     "shell.execute_reply": "2021-03-17T01:29:59.509657Z"
    }
   },
   "outputs": [],
   "source": [
    "df = pd.Series(zipped).reset_index()"
   ]
  },
  {
   "cell_type": "code",
   "execution_count": 10,
   "metadata": {
    "execution": {
     "iopub.execute_input": "2021-03-17T01:29:59.513913Z",
     "iopub.status.busy": "2021-03-17T01:29:59.513383Z",
     "iopub.status.idle": "2021-03-17T01:29:59.516978Z",
     "shell.execute_reply": "2021-03-17T01:29:59.516507Z"
    }
   },
   "outputs": [],
   "source": [
    "df.columns = ['location','doses']"
   ]
  },
  {
   "cell_type": "markdown",
   "metadata": {},
   "source": [
    "Grab the overall California total"
   ]
  },
  {
   "cell_type": "code",
   "execution_count": 11,
   "metadata": {
    "execution": {
     "iopub.execute_input": "2021-03-17T01:29:59.520678Z",
     "iopub.status.busy": "2021-03-17T01:29:59.520151Z",
     "iopub.status.idle": "2021-03-17T01:29:59.523178Z",
     "shell.execute_reply": "2021-03-17T01:29:59.523636Z"
    }
   },
   "outputs": [],
   "source": [
    "add = {'location':'California','doses':dataJson[0]['dataValues'][2]}"
   ]
  },
  {
   "cell_type": "code",
   "execution_count": 12,
   "metadata": {
    "execution": {
     "iopub.execute_input": "2021-03-17T01:29:59.530190Z",
     "iopub.status.busy": "2021-03-17T01:29:59.529651Z",
     "iopub.status.idle": "2021-03-17T01:29:59.532437Z",
     "shell.execute_reply": "2021-03-17T01:29:59.533176Z"
    }
   },
   "outputs": [],
   "source": [
    "df = df.append(add, ignore_index=True)"
   ]
  },
  {
   "cell_type": "code",
   "execution_count": 13,
   "metadata": {
    "execution": {
     "iopub.execute_input": "2021-03-17T01:29:59.537573Z",
     "iopub.status.busy": "2021-03-17T01:29:59.537041Z",
     "iopub.status.idle": "2021-03-17T01:29:59.540750Z",
     "shell.execute_reply": "2021-03-17T01:29:59.540055Z"
    }
   },
   "outputs": [],
   "source": [
    "df = df.sort_values(by='location')"
   ]
  },
  {
   "cell_type": "code",
   "execution_count": 14,
   "metadata": {
    "execution": {
     "iopub.execute_input": "2021-03-17T01:29:59.547679Z",
     "iopub.status.busy": "2021-03-17T01:29:59.547141Z",
     "iopub.status.idle": "2021-03-17T01:29:59.550125Z",
     "shell.execute_reply": "2021-03-17T01:29:59.550579Z"
    }
   },
   "outputs": [],
   "source": [
    "df = df[df.location == 'California'].append(df[df.location != 'California']).reset_index(drop=True)"
   ]
  },
  {
   "cell_type": "code",
   "execution_count": null,
   "metadata": {},
   "outputs": [],
   "source": []
  },
  {
   "cell_type": "code",
   "execution_count": 15,
   "metadata": {
    "execution": {
     "iopub.execute_input": "2021-03-17T01:29:59.554050Z",
     "iopub.status.busy": "2021-03-17T01:29:59.553509Z",
     "iopub.status.idle": "2021-03-17T01:29:59.572514Z",
     "shell.execute_reply": "2021-03-17T01:29:59.572974Z"
    }
   },
   "outputs": [],
   "source": [
    "tz = pytz.timezone(\"America/New_York\")"
   ]
  },
  {
   "cell_type": "code",
   "execution_count": 16,
   "metadata": {
    "execution": {
     "iopub.execute_input": "2021-03-17T01:29:59.576993Z",
     "iopub.status.busy": "2021-03-17T01:29:59.576458Z",
     "iopub.status.idle": "2021-03-17T01:29:59.580216Z",
     "shell.execute_reply": "2021-03-17T01:29:59.579728Z"
    }
   },
   "outputs": [],
   "source": [
    "today = datetime.now(tz).date()"
   ]
  },
  {
   "cell_type": "code",
   "execution_count": 17,
   "metadata": {
    "execution": {
     "iopub.execute_input": "2021-03-17T01:29:59.584089Z",
     "iopub.status.busy": "2021-03-17T01:29:59.583548Z",
     "iopub.status.idle": "2021-03-17T01:29:59.587125Z",
     "shell.execute_reply": "2021-03-17T01:29:59.586626Z"
    }
   },
   "outputs": [],
   "source": [
    "data_dir = os.path.join(os.path.abspath(\"\"), \"data\")"
   ]
  },
  {
   "cell_type": "code",
   "execution_count": 18,
   "metadata": {
    "execution": {
     "iopub.execute_input": "2021-03-17T01:29:59.592512Z",
     "iopub.status.busy": "2021-03-17T01:29:59.590698Z",
     "iopub.status.idle": "2021-03-17T01:29:59.633948Z",
     "shell.execute_reply": "2021-03-17T01:29:59.632976Z"
    }
   },
   "outputs": [],
   "source": [
    "df.to_csv(os.path.join(data_dir, f\"{today}.csv\"), index=False)"
   ]
  },
  {
   "cell_type": "code",
   "execution_count": null,
   "metadata": {},
   "outputs": [],
   "source": []
  }
 ],
 "metadata": {
  "kernelspec": {
   "display_name": "Python 3",
   "language": "python",
   "name": "python3"
  },
  "language_info": {
   "codemirror_mode": {
    "name": "ipython",
    "version": 3
   },
   "file_extension": ".py",
   "mimetype": "text/x-python",
   "name": "python",
   "nbconvert_exporter": "python",
   "pygments_lexer": "ipython3",
   "version": "3.8.8"
  }
 },
 "nbformat": 4,
 "nbformat_minor": 4
}
