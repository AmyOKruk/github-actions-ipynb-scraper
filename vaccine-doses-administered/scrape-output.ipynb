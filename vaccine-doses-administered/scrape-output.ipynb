{
 "cells": [
  {
   "cell_type": "markdown",
   "metadata": {},
   "source": [
    "# California COVID vaccinations scrape"
   ]
  },
  {
   "cell_type": "markdown",
   "metadata": {},
   "source": [
    "By [Amy O'Kruk](https://twitter.com/amyokruk)"
   ]
  },
  {
   "cell_type": "markdown",
   "metadata": {},
   "source": [
    "Downloads data on vaccine doses administered by county and statewide from a Tableau-powered dashboard from the California Department of Public Health."
   ]
  },
  {
   "cell_type": "code",
   "execution_count": 1,
   "metadata": {
    "execution": {
     "iopub.execute_input": "2021-03-17T00:30:39.609755Z",
     "iopub.status.busy": "2021-03-17T00:30:39.609118Z",
     "iopub.status.idle": "2021-03-17T00:30:40.021969Z",
     "shell.execute_reply": "2021-03-17T00:30:40.020971Z"
    }
   },
   "outputs": [],
   "source": [
    "import pandas as pd\n",
    "import requests\n",
    "from bs4 import BeautifulSoup\n",
    "import json\n",
    "import re\n",
    "import time\n",
    "from time import gmtime, strftime \n",
    "import os\n",
    "import pytz\n",
    "from datetime import datetime"
   ]
  },
  {
   "cell_type": "markdown",
   "metadata": {},
   "source": [
    "Scrape the dashboard page"
   ]
  },
  {
   "cell_type": "code",
   "execution_count": 2,
   "metadata": {
    "execution": {
     "iopub.execute_input": "2021-03-17T00:30:40.026529Z",
     "iopub.status.busy": "2021-03-17T00:30:40.026029Z",
     "iopub.status.idle": "2021-03-17T00:30:40.528093Z",
     "shell.execute_reply": "2021-03-17T00:30:40.527654Z"
    }
   },
   "outputs": [],
   "source": [
    "url = \"https://public.tableau.com/interactive/views/COVID-19VaccineDashboardPublic/Vaccine?:embed=y&:showVizHome=n&:apiID=host0\"\n",
    "\n",
    "r = requests.get(url)\n",
    "soup = BeautifulSoup(r.text, \"html.parser\")"
   ]
  },
  {
   "cell_type": "code",
   "execution_count": 3,
   "metadata": {
    "execution": {
     "iopub.execute_input": "2021-03-17T00:30:40.533749Z",
     "iopub.status.busy": "2021-03-17T00:30:40.533234Z",
     "iopub.status.idle": "2021-03-17T00:30:40.536758Z",
     "shell.execute_reply": "2021-03-17T00:30:40.537344Z"
    }
   },
   "outputs": [],
   "source": [
    "tableauData = json.loads(soup.find(\"textarea\",{\"id\": \"tsConfigContainer\"}).text)"
   ]
  },
  {
   "cell_type": "markdown",
   "metadata": {},
   "source": [
    "Get the link to the Tableau data"
   ]
  },
  {
   "cell_type": "code",
   "execution_count": 4,
   "metadata": {
    "execution": {
     "iopub.execute_input": "2021-03-17T00:30:40.541644Z",
     "iopub.status.busy": "2021-03-17T00:30:40.540976Z",
     "iopub.status.idle": "2021-03-17T00:30:40.544672Z",
     "shell.execute_reply": "2021-03-17T00:30:40.545209Z"
    }
   },
   "outputs": [],
   "source": [
    "dataUrl = f'https://public.tableau.com{tableauData[\"vizql_root\"]}/bootstrapSession/sessions/{tableauData[\"sessionid\"]}'"
   ]
  },
  {
   "cell_type": "code",
   "execution_count": 5,
   "metadata": {
    "execution": {
     "iopub.execute_input": "2021-03-17T00:30:40.551336Z",
     "iopub.status.busy": "2021-03-17T00:30:40.550816Z",
     "iopub.status.idle": "2021-03-17T00:30:49.825747Z",
     "shell.execute_reply": "2021-03-17T00:30:49.825186Z"
    }
   },
   "outputs": [],
   "source": [
    "r = requests.post(dataUrl, data= {\n",
    "    \"sheet_id\": tableauData[\"sheetId\"],\n",
    "})\n",
    "\n",
    "dataReg = re.search('\\d+;({.*})\\d+;({.*})', r.text, re.MULTILINE)\n",
    "data1 = json.loads(dataReg.group(2))\n",
    "\n",
    "dataJson = data1[\"secondaryInfo\"][\"presModelMap\"][\"dataDictionary\"][\"presModelHolder\"][\"genDataDictionaryPresModel\"][\"dataSegments\"][\"0\"][\"dataColumns\"]"
   ]
  },
  {
   "cell_type": "markdown",
   "metadata": {},
   "source": [
    "Isolate what you want"
   ]
  },
  {
   "cell_type": "code",
   "execution_count": 6,
   "metadata": {
    "execution": {
     "iopub.execute_input": "2021-03-17T00:30:49.831410Z",
     "iopub.status.busy": "2021-03-17T00:30:49.830913Z",
     "iopub.status.idle": "2021-03-17T00:30:49.834146Z",
     "shell.execute_reply": "2021-03-17T00:30:49.834722Z"
    }
   },
   "outputs": [],
   "source": [
    "counties = dataJson[2]['dataValues'][:58]"
   ]
  },
  {
   "cell_type": "code",
   "execution_count": 7,
   "metadata": {
    "execution": {
     "iopub.execute_input": "2021-03-17T00:30:49.839289Z",
     "iopub.status.busy": "2021-03-17T00:30:49.838057Z",
     "iopub.status.idle": "2021-03-17T00:30:49.840234Z",
     "shell.execute_reply": "2021-03-17T00:30:49.840927Z"
    }
   },
   "outputs": [],
   "source": [
    "doses = dataJson[0]['dataValues'][3:61]"
   ]
  },
  {
   "cell_type": "markdown",
   "metadata": {},
   "source": [
    "Data formatting"
   ]
  },
  {
   "cell_type": "code",
   "execution_count": 8,
   "metadata": {
    "execution": {
     "iopub.execute_input": "2021-03-17T00:30:49.846683Z",
     "iopub.status.busy": "2021-03-17T00:30:49.845001Z",
     "iopub.status.idle": "2021-03-17T00:30:49.847243Z",
     "shell.execute_reply": "2021-03-17T00:30:49.848740Z"
    }
   },
   "outputs": [],
   "source": [
    "zipped = dict(zip(counties, doses))"
   ]
  },
  {
   "cell_type": "code",
   "execution_count": 9,
   "metadata": {
    "execution": {
     "iopub.execute_input": "2021-03-17T00:30:49.856112Z",
     "iopub.status.busy": "2021-03-17T00:30:49.854789Z",
     "iopub.status.idle": "2021-03-17T00:30:49.856827Z",
     "shell.execute_reply": "2021-03-17T00:30:49.857254Z"
    }
   },
   "outputs": [],
   "source": [
    "df = pd.Series(zipped).reset_index()"
   ]
  },
  {
   "cell_type": "code",
   "execution_count": 10,
   "metadata": {
    "execution": {
     "iopub.execute_input": "2021-03-17T00:30:49.862231Z",
     "iopub.status.busy": "2021-03-17T00:30:49.861055Z",
     "iopub.status.idle": "2021-03-17T00:30:49.862754Z",
     "shell.execute_reply": "2021-03-17T00:30:49.863134Z"
    }
   },
   "outputs": [],
   "source": [
    "df.columns = ['location','doses']"
   ]
  },
  {
   "cell_type": "markdown",
   "metadata": {},
   "source": [
    "Grab the overall California total"
   ]
  },
  {
   "cell_type": "code",
   "execution_count": 11,
   "metadata": {
    "execution": {
     "iopub.execute_input": "2021-03-17T00:30:49.867949Z",
     "iopub.status.busy": "2021-03-17T00:30:49.866399Z",
     "iopub.status.idle": "2021-03-17T00:30:49.868732Z",
     "shell.execute_reply": "2021-03-17T00:30:49.869279Z"
    }
   },
   "outputs": [],
   "source": [
    "add = {'location':'California','doses':dataJson[0]['dataValues'][2]}"
   ]
  },
  {
   "cell_type": "code",
   "execution_count": 12,
   "metadata": {
    "execution": {
     "iopub.execute_input": "2021-03-17T00:30:49.878449Z",
     "iopub.status.busy": "2021-03-17T00:30:49.875532Z",
     "iopub.status.idle": "2021-03-17T00:30:49.879370Z",
     "shell.execute_reply": "2021-03-17T00:30:49.879770Z"
    }
   },
   "outputs": [],
   "source": [
    "df = df.append(add, ignore_index=True)"
   ]
  },
  {
   "cell_type": "code",
   "execution_count": 13,
   "metadata": {
    "execution": {
     "iopub.execute_input": "2021-03-17T00:30:49.886031Z",
     "iopub.status.busy": "2021-03-17T00:30:49.884375Z",
     "iopub.status.idle": "2021-03-17T00:30:49.886642Z",
     "shell.execute_reply": "2021-03-17T00:30:49.887056Z"
    }
   },
   "outputs": [],
   "source": [
    "df = df.sort_values(by='location')"
   ]
  },
  {
   "cell_type": "code",
   "execution_count": 14,
   "metadata": {
    "execution": {
     "iopub.execute_input": "2021-03-17T00:30:49.893407Z",
     "iopub.status.busy": "2021-03-17T00:30:49.892521Z",
     "iopub.status.idle": "2021-03-17T00:30:49.894296Z",
     "shell.execute_reply": "2021-03-17T00:30:49.894703Z"
    }
   },
   "outputs": [],
   "source": [
    "df = df[df.location == 'California'].append(df[df.location != 'California']).reset_index(drop=True)"
   ]
  },
  {
   "cell_type": "code",
   "execution_count": null,
   "metadata": {},
   "outputs": [],
   "source": []
  },
  {
   "cell_type": "code",
   "execution_count": 15,
   "metadata": {
    "execution": {
     "iopub.execute_input": "2021-03-17T00:30:49.897778Z",
     "iopub.status.busy": "2021-03-17T00:30:49.897261Z",
     "iopub.status.idle": "2021-03-17T00:30:49.913710Z",
     "shell.execute_reply": "2021-03-17T00:30:49.914175Z"
    }
   },
   "outputs": [],
   "source": [
    "tz = pytz.timezone(\"America/New_York\")"
   ]
  },
  {
   "cell_type": "code",
   "execution_count": 16,
   "metadata": {
    "execution": {
     "iopub.execute_input": "2021-03-17T00:30:49.918806Z",
     "iopub.status.busy": "2021-03-17T00:30:49.917268Z",
     "iopub.status.idle": "2021-03-17T00:30:49.919400Z",
     "shell.execute_reply": "2021-03-17T00:30:49.919865Z"
    }
   },
   "outputs": [],
   "source": [
    "today = datetime.now(tz).date()"
   ]
  },
  {
   "cell_type": "code",
   "execution_count": 17,
   "metadata": {
    "execution": {
     "iopub.execute_input": "2021-03-17T00:30:49.927184Z",
     "iopub.status.busy": "2021-03-17T00:30:49.925653Z",
     "iopub.status.idle": "2021-03-17T00:30:49.927817Z",
     "shell.execute_reply": "2021-03-17T00:30:49.928322Z"
    }
   },
   "outputs": [],
   "source": [
    "data_dir = os.path.join(os.path.abspath(\"\"), \"data\")"
   ]
  },
  {
   "cell_type": "code",
   "execution_count": 18,
   "metadata": {
    "execution": {
     "iopub.execute_input": "2021-03-17T00:30:49.933574Z",
     "iopub.status.busy": "2021-03-17T00:30:49.932349Z",
     "iopub.status.idle": "2021-03-17T00:30:49.937561Z",
     "shell.execute_reply": "2021-03-17T00:30:49.938048Z"
    }
   },
   "outputs": [],
   "source": [
    "df.to_csv(os.path.join(data_dir, f\"{today}.csv\"), index=False)"
   ]
  },
  {
   "cell_type": "code",
   "execution_count": null,
   "metadata": {},
   "outputs": [],
   "source": []
  }
 ],
 "metadata": {
  "kernelspec": {
   "display_name": "Python 3",
   "language": "python",
   "name": "python3"
  },
  "language_info": {
   "codemirror_mode": {
    "name": "ipython",
    "version": 3
   },
   "file_extension": ".py",
   "mimetype": "text/x-python",
   "name": "python",
   "nbconvert_exporter": "python",
   "pygments_lexer": "ipython3",
   "version": "3.8.8"
  }
 },
 "nbformat": 4,
 "nbformat_minor": 4
}
