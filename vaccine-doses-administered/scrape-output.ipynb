{
 "cells": [
  {
   "cell_type": "markdown",
   "metadata": {},
   "source": [
    "# California COVID vaccinations scrape"
   ]
  },
  {
   "cell_type": "markdown",
   "metadata": {},
   "source": [
    "By [Amy O'Kruk](https://twitter.com/amyokruk)"
   ]
  },
  {
   "cell_type": "markdown",
   "metadata": {},
   "source": [
    "Downloads data on vaccine doses administered by county and statewide from a Tableau-powered dashboard from the California Department of Public Health."
   ]
  },
  {
   "cell_type": "code",
   "execution_count": 1,
   "metadata": {
    "execution": {
     "iopub.execute_input": "2021-03-22T16:21:15.273911Z",
     "iopub.status.busy": "2021-03-22T16:21:15.273126Z",
     "iopub.status.idle": "2021-03-22T16:21:15.665199Z",
     "shell.execute_reply": "2021-03-22T16:21:15.664554Z"
    }
   },
   "outputs": [],
   "source": [
    "import pandas as pd\n",
    "import requests\n",
    "from bs4 import BeautifulSoup\n",
    "import json\n",
    "import re\n",
    "import time\n",
    "from time import gmtime, strftime \n",
    "import os\n",
    "import pytz\n",
    "from datetime import datetime"
   ]
  },
  {
   "cell_type": "markdown",
   "metadata": {},
   "source": [
    "Scrape the dashboard page"
   ]
  },
  {
   "cell_type": "code",
   "execution_count": 2,
   "metadata": {
    "execution": {
     "iopub.execute_input": "2021-03-22T16:21:15.671929Z",
     "iopub.status.busy": "2021-03-22T16:21:15.668973Z",
     "iopub.status.idle": "2021-03-22T16:21:16.938696Z",
     "shell.execute_reply": "2021-03-22T16:21:16.938202Z"
    }
   },
   "outputs": [],
   "source": [
    "url = \"https://public.tableau.com/interactive/views/COVID-19VaccineDashboardPublic/Vaccine?:embed=y&:showVizHome=n&:apiID=host0\"\n",
    "\n",
    "r = requests.get(url)\n",
    "soup = BeautifulSoup(r.text, \"html.parser\")"
   ]
  },
  {
   "cell_type": "code",
   "execution_count": 3,
   "metadata": {
    "execution": {
     "iopub.execute_input": "2021-03-22T16:21:16.945061Z",
     "iopub.status.busy": "2021-03-22T16:21:16.943621Z",
     "iopub.status.idle": "2021-03-22T16:21:16.945682Z",
     "shell.execute_reply": "2021-03-22T16:21:16.946189Z"
    }
   },
   "outputs": [],
   "source": [
    "tableauData = json.loads(soup.find(\"textarea\",{\"id\": \"tsConfigContainer\"}).text)"
   ]
  },
  {
   "cell_type": "markdown",
   "metadata": {},
   "source": [
    "Get the link to the Tableau data"
   ]
  },
  {
   "cell_type": "code",
   "execution_count": 4,
   "metadata": {
    "execution": {
     "iopub.execute_input": "2021-03-22T16:21:16.950823Z",
     "iopub.status.busy": "2021-03-22T16:21:16.949592Z",
     "iopub.status.idle": "2021-03-22T16:21:16.951439Z",
     "shell.execute_reply": "2021-03-22T16:21:16.951869Z"
    }
   },
   "outputs": [],
   "source": [
    "dataUrl = f'https://public.tableau.com{tableauData[\"vizql_root\"]}/bootstrapSession/sessions/{tableauData[\"sessionid\"]}'"
   ]
  },
  {
   "cell_type": "code",
   "execution_count": 5,
   "metadata": {
    "execution": {
     "iopub.execute_input": "2021-03-22T16:21:16.959476Z",
     "iopub.status.busy": "2021-03-22T16:21:16.958905Z",
     "iopub.status.idle": "2021-03-22T16:21:17.217832Z",
     "shell.execute_reply": "2021-03-22T16:21:17.218398Z"
    }
   },
   "outputs": [],
   "source": [
    "r = requests.post(dataUrl, data= {\n",
    "    \"sheet_id\": tableauData[\"sheetId\"],\n",
    "})\n",
    "\n",
    "dataReg = re.search('\\d+;({.*})\\d+;({.*})', r.text, re.MULTILINE)\n",
    "data1 = json.loads(dataReg.group(2))\n",
    "\n",
    "dataJson = data1[\"secondaryInfo\"][\"presModelMap\"][\"dataDictionary\"][\"presModelHolder\"][\"genDataDictionaryPresModel\"][\"dataSegments\"][\"0\"][\"dataColumns\"]"
   ]
  },
  {
   "cell_type": "markdown",
   "metadata": {},
   "source": [
    "Isolate what you want"
   ]
  },
  {
   "cell_type": "code",
   "execution_count": 6,
   "metadata": {
    "execution": {
     "iopub.execute_input": "2021-03-22T16:21:17.223426Z",
     "iopub.status.busy": "2021-03-22T16:21:17.222180Z",
     "iopub.status.idle": "2021-03-22T16:21:17.224221Z",
     "shell.execute_reply": "2021-03-22T16:21:17.224689Z"
    }
   },
   "outputs": [],
   "source": [
    "counties = dataJson[2]['dataValues'][:58]"
   ]
  },
  {
   "cell_type": "code",
   "execution_count": 7,
   "metadata": {
    "execution": {
     "iopub.execute_input": "2021-03-22T16:21:17.228973Z",
     "iopub.status.busy": "2021-03-22T16:21:17.227957Z",
     "iopub.status.idle": "2021-03-22T16:21:17.230006Z",
     "shell.execute_reply": "2021-03-22T16:21:17.230411Z"
    }
   },
   "outputs": [],
   "source": [
    "doses = dataJson[0]['dataValues'][3:61]"
   ]
  },
  {
   "cell_type": "markdown",
   "metadata": {},
   "source": [
    "Data formatting"
   ]
  },
  {
   "cell_type": "code",
   "execution_count": 8,
   "metadata": {
    "execution": {
     "iopub.execute_input": "2021-03-22T16:21:17.234912Z",
     "iopub.status.busy": "2021-03-22T16:21:17.233639Z",
     "iopub.status.idle": "2021-03-22T16:21:17.235590Z",
     "shell.execute_reply": "2021-03-22T16:21:17.236023Z"
    }
   },
   "outputs": [],
   "source": [
    "zipped = dict(zip(counties, doses))"
   ]
  },
  {
   "cell_type": "code",
   "execution_count": 9,
   "metadata": {
    "execution": {
     "iopub.execute_input": "2021-03-22T16:21:17.243210Z",
     "iopub.status.busy": "2021-03-22T16:21:17.241850Z",
     "iopub.status.idle": "2021-03-22T16:21:17.243826Z",
     "shell.execute_reply": "2021-03-22T16:21:17.244256Z"
    }
   },
   "outputs": [],
   "source": [
    "df = pd.Series(zipped).reset_index()"
   ]
  },
  {
   "cell_type": "code",
   "execution_count": 10,
   "metadata": {
    "execution": {
     "iopub.execute_input": "2021-03-22T16:21:17.248959Z",
     "iopub.status.busy": "2021-03-22T16:21:17.247755Z",
     "iopub.status.idle": "2021-03-22T16:21:17.249574Z",
     "shell.execute_reply": "2021-03-22T16:21:17.250004Z"
    }
   },
   "outputs": [],
   "source": [
    "df.columns = ['location','doses']"
   ]
  },
  {
   "cell_type": "markdown",
   "metadata": {},
   "source": [
    "Grab the overall California total"
   ]
  },
  {
   "cell_type": "code",
   "execution_count": 11,
   "metadata": {
    "execution": {
     "iopub.execute_input": "2021-03-22T16:21:17.254546Z",
     "iopub.status.busy": "2021-03-22T16:21:17.253370Z",
     "iopub.status.idle": "2021-03-22T16:21:17.255806Z",
     "shell.execute_reply": "2021-03-22T16:21:17.255337Z"
    }
   },
   "outputs": [],
   "source": [
    "add = {'location':'California','doses':dataJson[0]['dataValues'][2]}"
   ]
  },
  {
   "cell_type": "code",
   "execution_count": 12,
   "metadata": {
    "execution": {
     "iopub.execute_input": "2021-03-22T16:21:17.263068Z",
     "iopub.status.busy": "2021-03-22T16:21:17.262055Z",
     "iopub.status.idle": "2021-03-22T16:21:17.266370Z",
     "shell.execute_reply": "2021-03-22T16:21:17.265872Z"
    }
   },
   "outputs": [],
   "source": [
    "df = df.append(add, ignore_index=True)"
   ]
  },
  {
   "cell_type": "code",
   "execution_count": 13,
   "metadata": {
    "execution": {
     "iopub.execute_input": "2021-03-22T16:21:17.271951Z",
     "iopub.status.busy": "2021-03-22T16:21:17.271309Z",
     "iopub.status.idle": "2021-03-22T16:21:17.273743Z",
     "shell.execute_reply": "2021-03-22T16:21:17.274148Z"
    }
   },
   "outputs": [],
   "source": [
    "df = df.sort_values(by='location')"
   ]
  },
  {
   "cell_type": "code",
   "execution_count": 14,
   "metadata": {
    "execution": {
     "iopub.execute_input": "2021-03-22T16:21:17.281945Z",
     "iopub.status.busy": "2021-03-22T16:21:17.280698Z",
     "iopub.status.idle": "2021-03-22T16:21:17.282550Z",
     "shell.execute_reply": "2021-03-22T16:21:17.282983Z"
    }
   },
   "outputs": [],
   "source": [
    "df = df[df.location == 'California'].append(df[df.location != 'California']).reset_index(drop=True)"
   ]
  },
  {
   "cell_type": "code",
   "execution_count": null,
   "metadata": {},
   "outputs": [],
   "source": []
  },
  {
   "cell_type": "code",
   "execution_count": 15,
   "metadata": {
    "execution": {
     "iopub.execute_input": "2021-03-22T16:21:17.287160Z",
     "iopub.status.busy": "2021-03-22T16:21:17.286630Z",
     "iopub.status.idle": "2021-03-22T16:21:17.305900Z",
     "shell.execute_reply": "2021-03-22T16:21:17.305377Z"
    }
   },
   "outputs": [],
   "source": [
    "tz = pytz.timezone(\"America/New_York\")"
   ]
  },
  {
   "cell_type": "code",
   "execution_count": 16,
   "metadata": {
    "execution": {
     "iopub.execute_input": "2021-03-22T16:21:17.310719Z",
     "iopub.status.busy": "2021-03-22T16:21:17.309504Z",
     "iopub.status.idle": "2021-03-22T16:21:17.311319Z",
     "shell.execute_reply": "2021-03-22T16:21:17.311747Z"
    }
   },
   "outputs": [],
   "source": [
    "today = datetime.now(tz).date()"
   ]
  },
  {
   "cell_type": "code",
   "execution_count": 17,
   "metadata": {
    "execution": {
     "iopub.execute_input": "2021-03-22T16:21:17.316410Z",
     "iopub.status.busy": "2021-03-22T16:21:17.315208Z",
     "iopub.status.idle": "2021-03-22T16:21:17.317120Z",
     "shell.execute_reply": "2021-03-22T16:21:17.317574Z"
    }
   },
   "outputs": [],
   "source": [
    "data_dir = os.path.join(os.path.abspath(\"\"), \"data\")"
   ]
  },
  {
   "cell_type": "code",
   "execution_count": 18,
   "metadata": {
    "execution": {
     "iopub.execute_input": "2021-03-22T16:21:17.322164Z",
     "iopub.status.busy": "2021-03-22T16:21:17.321409Z",
     "iopub.status.idle": "2021-03-22T16:21:17.326426Z",
     "shell.execute_reply": "2021-03-22T16:21:17.325917Z"
    }
   },
   "outputs": [],
   "source": [
    "df.to_csv(os.path.join(data_dir, f\"{today}.csv\"), index=False)"
   ]
  },
  {
   "cell_type": "code",
   "execution_count": null,
   "metadata": {},
   "outputs": [],
   "source": []
  }
 ],
 "metadata": {
  "kernelspec": {
   "display_name": "Python 3",
   "language": "python",
   "name": "python3"
  },
  "language_info": {
   "codemirror_mode": {
    "name": "ipython",
    "version": 3
   },
   "file_extension": ".py",
   "mimetype": "text/x-python",
   "name": "python",
   "nbconvert_exporter": "python",
   "pygments_lexer": "ipython3",
   "version": "3.8.8"
  }
 },
 "nbformat": 4,
 "nbformat_minor": 4
}
