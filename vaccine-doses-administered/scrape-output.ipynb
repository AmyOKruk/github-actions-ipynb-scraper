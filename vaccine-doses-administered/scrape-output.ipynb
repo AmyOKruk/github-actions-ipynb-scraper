{
 "cells": [
  {
   "cell_type": "markdown",
   "metadata": {},
   "source": [
    "# California COVID vaccinations scrape"
   ]
  },
  {
   "cell_type": "markdown",
   "metadata": {},
   "source": [
    "By [Amy O'Kruk](https://twitter.com/amyokruk)"
   ]
  },
  {
   "cell_type": "markdown",
   "metadata": {},
   "source": [
    "Downloads data on vaccine doses administered by county and statewide from a Tableau-powered dashboard from the California Department of Public Health."
   ]
  },
  {
   "cell_type": "code",
   "execution_count": 1,
   "metadata": {
    "execution": {
     "iopub.execute_input": "2021-03-23T06:14:30.994254Z",
     "iopub.status.busy": "2021-03-23T06:14:30.993371Z",
     "iopub.status.idle": "2021-03-23T06:14:31.507027Z",
     "shell.execute_reply": "2021-03-23T06:14:31.505987Z"
    }
   },
   "outputs": [],
   "source": [
    "import pandas as pd\n",
    "import requests\n",
    "from bs4 import BeautifulSoup\n",
    "import json\n",
    "import re\n",
    "import time\n",
    "from time import gmtime, strftime \n",
    "import os\n",
    "import pytz\n",
    "from datetime import datetime"
   ]
  },
  {
   "cell_type": "markdown",
   "metadata": {},
   "source": [
    "Scrape the dashboard page"
   ]
  },
  {
   "cell_type": "code",
   "execution_count": 2,
   "metadata": {
    "execution": {
     "iopub.execute_input": "2021-03-23T06:14:31.516831Z",
     "iopub.status.busy": "2021-03-23T06:14:31.511093Z",
     "iopub.status.idle": "2021-03-23T06:14:32.361166Z",
     "shell.execute_reply": "2021-03-23T06:14:32.360610Z"
    }
   },
   "outputs": [],
   "source": [
    "url = \"https://public.tableau.com/interactive/views/COVID-19VaccineDashboardPublic/Vaccine?:embed=y&:showVizHome=n&:apiID=host0\"\n",
    "\n",
    "r = requests.get(url)\n",
    "soup = BeautifulSoup(r.text, \"html.parser\")"
   ]
  },
  {
   "cell_type": "code",
   "execution_count": 3,
   "metadata": {
    "execution": {
     "iopub.execute_input": "2021-03-23T06:14:32.366018Z",
     "iopub.status.busy": "2021-03-23T06:14:32.365515Z",
     "iopub.status.idle": "2021-03-23T06:14:32.369704Z",
     "shell.execute_reply": "2021-03-23T06:14:32.369152Z"
    }
   },
   "outputs": [],
   "source": [
    "tableauData = json.loads(soup.find(\"textarea\",{\"id\": \"tsConfigContainer\"}).text)"
   ]
  },
  {
   "cell_type": "markdown",
   "metadata": {},
   "source": [
    "Get the link to the Tableau data"
   ]
  },
  {
   "cell_type": "code",
   "execution_count": 4,
   "metadata": {
    "execution": {
     "iopub.execute_input": "2021-03-23T06:14:32.379880Z",
     "iopub.status.busy": "2021-03-23T06:14:32.378974Z",
     "iopub.status.idle": "2021-03-23T06:14:32.384146Z",
     "shell.execute_reply": "2021-03-23T06:14:32.383488Z"
    }
   },
   "outputs": [],
   "source": [
    "dataUrl = f'https://public.tableau.com{tableauData[\"vizql_root\"]}/bootstrapSession/sessions/{tableauData[\"sessionid\"]}'"
   ]
  },
  {
   "cell_type": "code",
   "execution_count": 5,
   "metadata": {
    "execution": {
     "iopub.execute_input": "2021-03-23T06:14:32.391126Z",
     "iopub.status.busy": "2021-03-23T06:14:32.390415Z",
     "iopub.status.idle": "2021-03-23T06:14:32.699315Z",
     "shell.execute_reply": "2021-03-23T06:14:32.698266Z"
    }
   },
   "outputs": [],
   "source": [
    "r = requests.post(dataUrl, data= {\n",
    "    \"sheet_id\": tableauData[\"sheetId\"],\n",
    "})\n",
    "\n",
    "dataReg = re.search('\\d+;({.*})\\d+;({.*})', r.text, re.MULTILINE)\n",
    "data1 = json.loads(dataReg.group(2))\n",
    "\n",
    "dataJson = data1[\"secondaryInfo\"][\"presModelMap\"][\"dataDictionary\"][\"presModelHolder\"][\"genDataDictionaryPresModel\"][\"dataSegments\"][\"0\"][\"dataColumns\"]"
   ]
  },
  {
   "cell_type": "markdown",
   "metadata": {},
   "source": [
    "Isolate what you want"
   ]
  },
  {
   "cell_type": "code",
   "execution_count": 6,
   "metadata": {
    "execution": {
     "iopub.execute_input": "2021-03-23T06:14:32.705226Z",
     "iopub.status.busy": "2021-03-23T06:14:32.704519Z",
     "iopub.status.idle": "2021-03-23T06:14:32.708993Z",
     "shell.execute_reply": "2021-03-23T06:14:32.708081Z"
    }
   },
   "outputs": [],
   "source": [
    "counties = dataJson[2]['dataValues'][:58]"
   ]
  },
  {
   "cell_type": "code",
   "execution_count": 7,
   "metadata": {
    "execution": {
     "iopub.execute_input": "2021-03-23T06:14:32.714538Z",
     "iopub.status.busy": "2021-03-23T06:14:32.712902Z",
     "iopub.status.idle": "2021-03-23T06:14:32.715246Z",
     "shell.execute_reply": "2021-03-23T06:14:32.716214Z"
    }
   },
   "outputs": [],
   "source": [
    "doses = dataJson[0]['dataValues'][3:61]"
   ]
  },
  {
   "cell_type": "markdown",
   "metadata": {},
   "source": [
    "Data formatting"
   ]
  },
  {
   "cell_type": "code",
   "execution_count": 8,
   "metadata": {
    "execution": {
     "iopub.execute_input": "2021-03-23T06:14:32.723365Z",
     "iopub.status.busy": "2021-03-23T06:14:32.721870Z",
     "iopub.status.idle": "2021-03-23T06:14:32.724144Z",
     "shell.execute_reply": "2021-03-23T06:14:32.724765Z"
    }
   },
   "outputs": [],
   "source": [
    "zipped = dict(zip(counties, doses))"
   ]
  },
  {
   "cell_type": "code",
   "execution_count": 9,
   "metadata": {
    "execution": {
     "iopub.execute_input": "2021-03-23T06:14:32.732508Z",
     "iopub.status.busy": "2021-03-23T06:14:32.730782Z",
     "iopub.status.idle": "2021-03-23T06:14:32.733182Z",
     "shell.execute_reply": "2021-03-23T06:14:32.733671Z"
    }
   },
   "outputs": [],
   "source": [
    "df = pd.Series(zipped).reset_index()"
   ]
  },
  {
   "cell_type": "code",
   "execution_count": 10,
   "metadata": {
    "execution": {
     "iopub.execute_input": "2021-03-23T06:14:32.738542Z",
     "iopub.status.busy": "2021-03-23T06:14:32.737152Z",
     "iopub.status.idle": "2021-03-23T06:14:32.739150Z",
     "shell.execute_reply": "2021-03-23T06:14:32.739608Z"
    }
   },
   "outputs": [],
   "source": [
    "df.columns = ['location','doses']"
   ]
  },
  {
   "cell_type": "markdown",
   "metadata": {},
   "source": [
    "Grab the overall California total"
   ]
  },
  {
   "cell_type": "code",
   "execution_count": 11,
   "metadata": {
    "execution": {
     "iopub.execute_input": "2021-03-23T06:14:32.744927Z",
     "iopub.status.busy": "2021-03-23T06:14:32.743491Z",
     "iopub.status.idle": "2021-03-23T06:14:32.745662Z",
     "shell.execute_reply": "2021-03-23T06:14:32.746153Z"
    }
   },
   "outputs": [],
   "source": [
    "add = {'location':'California','doses':dataJson[0]['dataValues'][2]}"
   ]
  },
  {
   "cell_type": "code",
   "execution_count": 12,
   "metadata": {
    "execution": {
     "iopub.execute_input": "2021-03-23T06:14:32.753999Z",
     "iopub.status.busy": "2021-03-23T06:14:32.752764Z",
     "iopub.status.idle": "2021-03-23T06:14:32.754704Z",
     "shell.execute_reply": "2021-03-23T06:14:32.755193Z"
    }
   },
   "outputs": [],
   "source": [
    "df = df.append(add, ignore_index=True)"
   ]
  },
  {
   "cell_type": "code",
   "execution_count": 13,
   "metadata": {
    "execution": {
     "iopub.execute_input": "2021-03-23T06:14:32.760943Z",
     "iopub.status.busy": "2021-03-23T06:14:32.759757Z",
     "iopub.status.idle": "2021-03-23T06:14:32.761614Z",
     "shell.execute_reply": "2021-03-23T06:14:32.762073Z"
    }
   },
   "outputs": [],
   "source": [
    "df = df.sort_values(by='location')"
   ]
  },
  {
   "cell_type": "code",
   "execution_count": 14,
   "metadata": {
    "execution": {
     "iopub.execute_input": "2021-03-23T06:14:32.770658Z",
     "iopub.status.busy": "2021-03-23T06:14:32.769157Z",
     "iopub.status.idle": "2021-03-23T06:14:32.771365Z",
     "shell.execute_reply": "2021-03-23T06:14:32.771875Z"
    }
   },
   "outputs": [],
   "source": [
    "df = df[df.location == 'California'].append(df[df.location != 'California']).reset_index(drop=True)"
   ]
  },
  {
   "cell_type": "code",
   "execution_count": null,
   "metadata": {},
   "outputs": [],
   "source": []
  },
  {
   "cell_type": "code",
   "execution_count": 15,
   "metadata": {
    "execution": {
     "iopub.execute_input": "2021-03-23T06:14:32.775518Z",
     "iopub.status.busy": "2021-03-23T06:14:32.774983Z",
     "iopub.status.idle": "2021-03-23T06:14:32.796603Z",
     "shell.execute_reply": "2021-03-23T06:14:32.796037Z"
    }
   },
   "outputs": [],
   "source": [
    "tz = pytz.timezone(\"America/New_York\")"
   ]
  },
  {
   "cell_type": "code",
   "execution_count": 16,
   "metadata": {
    "execution": {
     "iopub.execute_input": "2021-03-23T06:14:32.801737Z",
     "iopub.status.busy": "2021-03-23T06:14:32.800207Z",
     "iopub.status.idle": "2021-03-23T06:14:32.802598Z",
     "shell.execute_reply": "2021-03-23T06:14:32.803114Z"
    }
   },
   "outputs": [],
   "source": [
    "today = datetime.now(tz).date()"
   ]
  },
  {
   "cell_type": "code",
   "execution_count": 17,
   "metadata": {
    "execution": {
     "iopub.execute_input": "2021-03-23T06:14:32.808379Z",
     "iopub.status.busy": "2021-03-23T06:14:32.806946Z",
     "iopub.status.idle": "2021-03-23T06:14:32.809057Z",
     "shell.execute_reply": "2021-03-23T06:14:32.810873Z"
    }
   },
   "outputs": [],
   "source": [
    "data_dir = os.path.join(os.path.abspath(\"\"), \"data\")"
   ]
  },
  {
   "cell_type": "code",
   "execution_count": 18,
   "metadata": {
    "execution": {
     "iopub.execute_input": "2021-03-23T06:14:32.816225Z",
     "iopub.status.busy": "2021-03-23T06:14:32.814660Z",
     "iopub.status.idle": "2021-03-23T06:14:32.873110Z",
     "shell.execute_reply": "2021-03-23T06:14:32.872536Z"
    }
   },
   "outputs": [],
   "source": [
    "df.to_csv(os.path.join(data_dir, f\"{today}.csv\"), index=False)"
   ]
  },
  {
   "cell_type": "code",
   "execution_count": null,
   "metadata": {},
   "outputs": [],
   "source": []
  }
 ],
 "metadata": {
  "kernelspec": {
   "display_name": "Python 3",
   "language": "python",
   "name": "python3"
  },
  "language_info": {
   "codemirror_mode": {
    "name": "ipython",
    "version": 3
   },
   "file_extension": ".py",
   "mimetype": "text/x-python",
   "name": "python",
   "nbconvert_exporter": "python",
   "pygments_lexer": "ipython3",
   "version": "3.8.8"
  }
 },
 "nbformat": 4,
 "nbformat_minor": 4
}
