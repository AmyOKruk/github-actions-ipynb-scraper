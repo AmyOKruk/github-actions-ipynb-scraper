{
 "cells": [
  {
   "cell_type": "markdown",
   "metadata": {},
   "source": [
    "# California COVID vaccinations scrape"
   ]
  },
  {
   "cell_type": "markdown",
   "metadata": {},
   "source": [
    "By [Amy O'Kruk](https://twitter.com/amyokruk)"
   ]
  },
  {
   "cell_type": "markdown",
   "metadata": {},
   "source": [
    "Downloads data on vaccine doses administered by county and statewide from a Tableau-powered dashboard from the California Department of Public Health."
   ]
  },
  {
   "cell_type": "code",
   "execution_count": 1,
   "metadata": {
    "execution": {
     "iopub.execute_input": "2021-03-19T14:41:19.896047Z",
     "iopub.status.busy": "2021-03-19T14:41:19.895032Z",
     "iopub.status.idle": "2021-03-19T14:41:20.343285Z",
     "shell.execute_reply": "2021-03-19T14:41:20.342444Z"
    }
   },
   "outputs": [],
   "source": [
    "import pandas as pd\n",
    "import requests\n",
    "from bs4 import BeautifulSoup\n",
    "import json\n",
    "import re\n",
    "import time\n",
    "from time import gmtime, strftime \n",
    "import os\n",
    "import pytz\n",
    "from datetime import datetime"
   ]
  },
  {
   "cell_type": "markdown",
   "metadata": {},
   "source": [
    "Scrape the dashboard page"
   ]
  },
  {
   "cell_type": "code",
   "execution_count": 2,
   "metadata": {
    "execution": {
     "iopub.execute_input": "2021-03-19T14:41:20.348120Z",
     "iopub.status.busy": "2021-03-19T14:41:20.347417Z",
     "iopub.status.idle": "2021-03-19T14:41:20.716193Z",
     "shell.execute_reply": "2021-03-19T14:41:20.715642Z"
    }
   },
   "outputs": [],
   "source": [
    "url = \"https://public.tableau.com/interactive/views/COVID-19VaccineDashboardPublic/Vaccine?:embed=y&:showVizHome=n&:apiID=host0\"\n",
    "\n",
    "r = requests.get(url)\n",
    "soup = BeautifulSoup(r.text, \"html.parser\")"
   ]
  },
  {
   "cell_type": "code",
   "execution_count": 3,
   "metadata": {
    "execution": {
     "iopub.execute_input": "2021-03-19T14:41:20.721352Z",
     "iopub.status.busy": "2021-03-19T14:41:20.720835Z",
     "iopub.status.idle": "2021-03-19T14:41:20.725107Z",
     "shell.execute_reply": "2021-03-19T14:41:20.725639Z"
    }
   },
   "outputs": [],
   "source": [
    "tableauData = json.loads(soup.find(\"textarea\",{\"id\": \"tsConfigContainer\"}).text)"
   ]
  },
  {
   "cell_type": "markdown",
   "metadata": {},
   "source": [
    "Get the link to the Tableau data"
   ]
  },
  {
   "cell_type": "code",
   "execution_count": 4,
   "metadata": {
    "execution": {
     "iopub.execute_input": "2021-03-19T14:41:20.729340Z",
     "iopub.status.busy": "2021-03-19T14:41:20.728791Z",
     "iopub.status.idle": "2021-03-19T14:41:20.732301Z",
     "shell.execute_reply": "2021-03-19T14:41:20.731862Z"
    }
   },
   "outputs": [],
   "source": [
    "dataUrl = f'https://public.tableau.com{tableauData[\"vizql_root\"]}/bootstrapSession/sessions/{tableauData[\"sessionid\"]}'"
   ]
  },
  {
   "cell_type": "code",
   "execution_count": 5,
   "metadata": {
    "execution": {
     "iopub.execute_input": "2021-03-19T14:41:20.738974Z",
     "iopub.status.busy": "2021-03-19T14:41:20.736291Z",
     "iopub.status.idle": "2021-03-19T14:41:21.053502Z",
     "shell.execute_reply": "2021-03-19T14:41:21.052298Z"
    }
   },
   "outputs": [],
   "source": [
    "r = requests.post(dataUrl, data= {\n",
    "    \"sheet_id\": tableauData[\"sheetId\"],\n",
    "})\n",
    "\n",
    "dataReg = re.search('\\d+;({.*})\\d+;({.*})', r.text, re.MULTILINE)\n",
    "data1 = json.loads(dataReg.group(2))\n",
    "\n",
    "dataJson = data1[\"secondaryInfo\"][\"presModelMap\"][\"dataDictionary\"][\"presModelHolder\"][\"genDataDictionaryPresModel\"][\"dataSegments\"][\"0\"][\"dataColumns\"]"
   ]
  },
  {
   "cell_type": "markdown",
   "metadata": {},
   "source": [
    "Isolate what you want"
   ]
  },
  {
   "cell_type": "code",
   "execution_count": 6,
   "metadata": {
    "execution": {
     "iopub.execute_input": "2021-03-19T14:41:21.058535Z",
     "iopub.status.busy": "2021-03-19T14:41:21.057670Z",
     "iopub.status.idle": "2021-03-19T14:41:21.061677Z",
     "shell.execute_reply": "2021-03-19T14:41:21.062285Z"
    }
   },
   "outputs": [],
   "source": [
    "counties = dataJson[2]['dataValues'][:58]"
   ]
  },
  {
   "cell_type": "code",
   "execution_count": 7,
   "metadata": {
    "execution": {
     "iopub.execute_input": "2021-03-19T14:41:21.066685Z",
     "iopub.status.busy": "2021-03-19T14:41:21.066064Z",
     "iopub.status.idle": "2021-03-19T14:41:21.071008Z",
     "shell.execute_reply": "2021-03-19T14:41:21.070053Z"
    }
   },
   "outputs": [],
   "source": [
    "doses = dataJson[0]['dataValues'][3:61]"
   ]
  },
  {
   "cell_type": "markdown",
   "metadata": {},
   "source": [
    "Data formatting"
   ]
  },
  {
   "cell_type": "code",
   "execution_count": 8,
   "metadata": {
    "execution": {
     "iopub.execute_input": "2021-03-19T14:41:21.075772Z",
     "iopub.status.busy": "2021-03-19T14:41:21.074477Z",
     "iopub.status.idle": "2021-03-19T14:41:21.076532Z",
     "shell.execute_reply": "2021-03-19T14:41:21.077007Z"
    }
   },
   "outputs": [],
   "source": [
    "zipped = dict(zip(counties, doses))"
   ]
  },
  {
   "cell_type": "code",
   "execution_count": 9,
   "metadata": {
    "execution": {
     "iopub.execute_input": "2021-03-19T14:41:21.084395Z",
     "iopub.status.busy": "2021-03-19T14:41:21.082809Z",
     "iopub.status.idle": "2021-03-19T14:41:21.085129Z",
     "shell.execute_reply": "2021-03-19T14:41:21.085659Z"
    }
   },
   "outputs": [],
   "source": [
    "df = pd.Series(zipped).reset_index()"
   ]
  },
  {
   "cell_type": "code",
   "execution_count": 10,
   "metadata": {
    "execution": {
     "iopub.execute_input": "2021-03-19T14:41:21.090693Z",
     "iopub.status.busy": "2021-03-19T14:41:21.089273Z",
     "iopub.status.idle": "2021-03-19T14:41:21.091558Z",
     "shell.execute_reply": "2021-03-19T14:41:21.092028Z"
    }
   },
   "outputs": [],
   "source": [
    "df.columns = ['location','doses']"
   ]
  },
  {
   "cell_type": "markdown",
   "metadata": {},
   "source": [
    "Grab the overall California total"
   ]
  },
  {
   "cell_type": "code",
   "execution_count": 11,
   "metadata": {
    "execution": {
     "iopub.execute_input": "2021-03-19T14:41:21.096849Z",
     "iopub.status.busy": "2021-03-19T14:41:21.095558Z",
     "iopub.status.idle": "2021-03-19T14:41:21.097640Z",
     "shell.execute_reply": "2021-03-19T14:41:21.098180Z"
    }
   },
   "outputs": [],
   "source": [
    "add = {'location':'California','doses':dataJson[0]['dataValues'][2]}"
   ]
  },
  {
   "cell_type": "code",
   "execution_count": 12,
   "metadata": {
    "execution": {
     "iopub.execute_input": "2021-03-19T14:41:21.106150Z",
     "iopub.status.busy": "2021-03-19T14:41:21.104812Z",
     "iopub.status.idle": "2021-03-19T14:41:21.106836Z",
     "shell.execute_reply": "2021-03-19T14:41:21.107302Z"
    }
   },
   "outputs": [],
   "source": [
    "df = df.append(add, ignore_index=True)"
   ]
  },
  {
   "cell_type": "code",
   "execution_count": 13,
   "metadata": {
    "execution": {
     "iopub.execute_input": "2021-03-19T14:41:21.112625Z",
     "iopub.status.busy": "2021-03-19T14:41:21.111348Z",
     "iopub.status.idle": "2021-03-19T14:41:21.113242Z",
     "shell.execute_reply": "2021-03-19T14:41:21.113712Z"
    }
   },
   "outputs": [],
   "source": [
    "df = df.sort_values(by='location')"
   ]
  },
  {
   "cell_type": "code",
   "execution_count": 14,
   "metadata": {
    "execution": {
     "iopub.execute_input": "2021-03-19T14:41:21.122057Z",
     "iopub.status.busy": "2021-03-19T14:41:21.120680Z",
     "iopub.status.idle": "2021-03-19T14:41:21.122672Z",
     "shell.execute_reply": "2021-03-19T14:41:21.123105Z"
    }
   },
   "outputs": [],
   "source": [
    "df = df[df.location == 'California'].append(df[df.location != 'California']).reset_index(drop=True)"
   ]
  },
  {
   "cell_type": "code",
   "execution_count": null,
   "metadata": {},
   "outputs": [],
   "source": []
  },
  {
   "cell_type": "code",
   "execution_count": 15,
   "metadata": {
    "execution": {
     "iopub.execute_input": "2021-03-19T14:41:21.126872Z",
     "iopub.status.busy": "2021-03-19T14:41:21.126160Z",
     "iopub.status.idle": "2021-03-19T14:41:21.148253Z",
     "shell.execute_reply": "2021-03-19T14:41:21.147787Z"
    }
   },
   "outputs": [],
   "source": [
    "tz = pytz.timezone(\"America/New_York\")"
   ]
  },
  {
   "cell_type": "code",
   "execution_count": 16,
   "metadata": {
    "execution": {
     "iopub.execute_input": "2021-03-19T14:41:21.154557Z",
     "iopub.status.busy": "2021-03-19T14:41:21.153591Z",
     "iopub.status.idle": "2021-03-19T14:41:21.155612Z",
     "shell.execute_reply": "2021-03-19T14:41:21.155137Z"
    }
   },
   "outputs": [],
   "source": [
    "today = datetime.now(tz).date()"
   ]
  },
  {
   "cell_type": "code",
   "execution_count": 17,
   "metadata": {
    "execution": {
     "iopub.execute_input": "2021-03-19T14:41:21.161283Z",
     "iopub.status.busy": "2021-03-19T14:41:21.159796Z",
     "iopub.status.idle": "2021-03-19T14:41:21.162304Z",
     "shell.execute_reply": "2021-03-19T14:41:21.162794Z"
    }
   },
   "outputs": [],
   "source": [
    "data_dir = os.path.join(os.path.abspath(\"\"), \"data\")"
   ]
  },
  {
   "cell_type": "code",
   "execution_count": 18,
   "metadata": {
    "execution": {
     "iopub.execute_input": "2021-03-19T14:41:21.167933Z",
     "iopub.status.busy": "2021-03-19T14:41:21.167017Z",
     "iopub.status.idle": "2021-03-19T14:41:21.171029Z",
     "shell.execute_reply": "2021-03-19T14:41:21.171487Z"
    }
   },
   "outputs": [],
   "source": [
    "df.to_csv(os.path.join(data_dir, f\"{today}.csv\"), index=False)"
   ]
  },
  {
   "cell_type": "code",
   "execution_count": null,
   "metadata": {},
   "outputs": [],
   "source": []
  }
 ],
 "metadata": {
  "kernelspec": {
   "display_name": "Python 3",
   "language": "python",
   "name": "python3"
  },
  "language_info": {
   "codemirror_mode": {
    "name": "ipython",
    "version": 3
   },
   "file_extension": ".py",
   "mimetype": "text/x-python",
   "name": "python",
   "nbconvert_exporter": "python",
   "pygments_lexer": "ipython3",
   "version": "3.8.8"
  }
 },
 "nbformat": 4,
 "nbformat_minor": 4
}
