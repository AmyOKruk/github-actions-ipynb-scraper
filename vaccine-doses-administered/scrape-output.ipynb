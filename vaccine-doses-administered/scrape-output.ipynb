{
 "cells": [
  {
   "cell_type": "markdown",
   "metadata": {},
   "source": [
    "# California COVID vaccinations scrape"
   ]
  },
  {
   "cell_type": "markdown",
   "metadata": {},
   "source": [
    "By [Amy O'Kruk](https://twitter.com/amyokruk)"
   ]
  },
  {
   "cell_type": "markdown",
   "metadata": {},
   "source": [
    "Downloads data on vaccine doses administered by county and statewide from a Tableau-powered dashboard from the California Department of Public Health."
   ]
  },
  {
   "cell_type": "code",
   "execution_count": 1,
   "metadata": {
    "execution": {
     "iopub.execute_input": "2021-03-21T01:50:04.050454Z",
     "iopub.status.busy": "2021-03-21T01:50:04.049752Z",
     "iopub.status.idle": "2021-03-21T01:50:04.504677Z",
     "shell.execute_reply": "2021-03-21T01:50:04.504032Z"
    }
   },
   "outputs": [],
   "source": [
    "import pandas as pd\n",
    "import requests\n",
    "from bs4 import BeautifulSoup\n",
    "import json\n",
    "import re\n",
    "import time\n",
    "from time import gmtime, strftime \n",
    "import os\n",
    "import pytz\n",
    "from datetime import datetime"
   ]
  },
  {
   "cell_type": "markdown",
   "metadata": {},
   "source": [
    "Scrape the dashboard page"
   ]
  },
  {
   "cell_type": "code",
   "execution_count": 2,
   "metadata": {
    "execution": {
     "iopub.execute_input": "2021-03-21T01:50:04.510902Z",
     "iopub.status.busy": "2021-03-21T01:50:04.508674Z",
     "iopub.status.idle": "2021-03-21T01:50:04.798885Z",
     "shell.execute_reply": "2021-03-21T01:50:04.798050Z"
    }
   },
   "outputs": [],
   "source": [
    "url = \"https://public.tableau.com/interactive/views/COVID-19VaccineDashboardPublic/Vaccine?:embed=y&:showVizHome=n&:apiID=host0\"\n",
    "\n",
    "r = requests.get(url)\n",
    "soup = BeautifulSoup(r.text, \"html.parser\")"
   ]
  },
  {
   "cell_type": "code",
   "execution_count": 3,
   "metadata": {
    "execution": {
     "iopub.execute_input": "2021-03-21T01:50:04.805351Z",
     "iopub.status.busy": "2021-03-21T01:50:04.803856Z",
     "iopub.status.idle": "2021-03-21T01:50:04.806085Z",
     "shell.execute_reply": "2021-03-21T01:50:04.806567Z"
    }
   },
   "outputs": [],
   "source": [
    "tableauData = json.loads(soup.find(\"textarea\",{\"id\": \"tsConfigContainer\"}).text)"
   ]
  },
  {
   "cell_type": "markdown",
   "metadata": {},
   "source": [
    "Get the link to the Tableau data"
   ]
  },
  {
   "cell_type": "code",
   "execution_count": 4,
   "metadata": {
    "execution": {
     "iopub.execute_input": "2021-03-21T01:50:04.812078Z",
     "iopub.status.busy": "2021-03-21T01:50:04.810436Z",
     "iopub.status.idle": "2021-03-21T01:50:04.812954Z",
     "shell.execute_reply": "2021-03-21T01:50:04.813452Z"
    }
   },
   "outputs": [],
   "source": [
    "dataUrl = f'https://public.tableau.com{tableauData[\"vizql_root\"]}/bootstrapSession/sessions/{tableauData[\"sessionid\"]}'"
   ]
  },
  {
   "cell_type": "code",
   "execution_count": 5,
   "metadata": {
    "execution": {
     "iopub.execute_input": "2021-03-21T01:50:04.822207Z",
     "iopub.status.busy": "2021-03-21T01:50:04.820521Z",
     "iopub.status.idle": "2021-03-21T01:50:05.283600Z",
     "shell.execute_reply": "2021-03-21T01:50:05.283050Z"
    }
   },
   "outputs": [],
   "source": [
    "r = requests.post(dataUrl, data= {\n",
    "    \"sheet_id\": tableauData[\"sheetId\"],\n",
    "})\n",
    "\n",
    "dataReg = re.search('\\d+;({.*})\\d+;({.*})', r.text, re.MULTILINE)\n",
    "data1 = json.loads(dataReg.group(2))\n",
    "\n",
    "dataJson = data1[\"secondaryInfo\"][\"presModelMap\"][\"dataDictionary\"][\"presModelHolder\"][\"genDataDictionaryPresModel\"][\"dataSegments\"][\"0\"][\"dataColumns\"]"
   ]
  },
  {
   "cell_type": "markdown",
   "metadata": {},
   "source": [
    "Isolate what you want"
   ]
  },
  {
   "cell_type": "code",
   "execution_count": 6,
   "metadata": {
    "execution": {
     "iopub.execute_input": "2021-03-21T01:50:05.288922Z",
     "iopub.status.busy": "2021-03-21T01:50:05.287354Z",
     "iopub.status.idle": "2021-03-21T01:50:05.289715Z",
     "shell.execute_reply": "2021-03-21T01:50:05.290226Z"
    }
   },
   "outputs": [],
   "source": [
    "counties = dataJson[2]['dataValues'][:58]"
   ]
  },
  {
   "cell_type": "code",
   "execution_count": 7,
   "metadata": {
    "execution": {
     "iopub.execute_input": "2021-03-21T01:50:05.295706Z",
     "iopub.status.busy": "2021-03-21T01:50:05.294173Z",
     "iopub.status.idle": "2021-03-21T01:50:05.296443Z",
     "shell.execute_reply": "2021-03-21T01:50:05.297010Z"
    }
   },
   "outputs": [],
   "source": [
    "doses = dataJson[0]['dataValues'][3:61]"
   ]
  },
  {
   "cell_type": "markdown",
   "metadata": {},
   "source": [
    "Data formatting"
   ]
  },
  {
   "cell_type": "code",
   "execution_count": 8,
   "metadata": {
    "execution": {
     "iopub.execute_input": "2021-03-21T01:50:05.302388Z",
     "iopub.status.busy": "2021-03-21T01:50:05.300820Z",
     "iopub.status.idle": "2021-03-21T01:50:05.303058Z",
     "shell.execute_reply": "2021-03-21T01:50:05.303564Z"
    }
   },
   "outputs": [],
   "source": [
    "zipped = dict(zip(counties, doses))"
   ]
  },
  {
   "cell_type": "code",
   "execution_count": 9,
   "metadata": {
    "execution": {
     "iopub.execute_input": "2021-03-21T01:50:05.310978Z",
     "iopub.status.busy": "2021-03-21T01:50:05.309478Z",
     "iopub.status.idle": "2021-03-21T01:50:05.311644Z",
     "shell.execute_reply": "2021-03-21T01:50:05.312215Z"
    }
   },
   "outputs": [],
   "source": [
    "df = pd.Series(zipped).reset_index()"
   ]
  },
  {
   "cell_type": "code",
   "execution_count": 10,
   "metadata": {
    "execution": {
     "iopub.execute_input": "2021-03-21T01:50:05.317542Z",
     "iopub.status.busy": "2021-03-21T01:50:05.316162Z",
     "iopub.status.idle": "2021-03-21T01:50:05.318301Z",
     "shell.execute_reply": "2021-03-21T01:50:05.319009Z"
    }
   },
   "outputs": [],
   "source": [
    "df.columns = ['location','doses']"
   ]
  },
  {
   "cell_type": "markdown",
   "metadata": {},
   "source": [
    "Grab the overall California total"
   ]
  },
  {
   "cell_type": "code",
   "execution_count": 11,
   "metadata": {
    "execution": {
     "iopub.execute_input": "2021-03-21T01:50:05.324217Z",
     "iopub.status.busy": "2021-03-21T01:50:05.322840Z",
     "iopub.status.idle": "2021-03-21T01:50:05.324886Z",
     "shell.execute_reply": "2021-03-21T01:50:05.325459Z"
    }
   },
   "outputs": [],
   "source": [
    "add = {'location':'California','doses':dataJson[0]['dataValues'][2]}"
   ]
  },
  {
   "cell_type": "code",
   "execution_count": 12,
   "metadata": {
    "execution": {
     "iopub.execute_input": "2021-03-21T01:50:05.333637Z",
     "iopub.status.busy": "2021-03-21T01:50:05.332078Z",
     "iopub.status.idle": "2021-03-21T01:50:05.334304Z",
     "shell.execute_reply": "2021-03-21T01:50:05.334810Z"
    }
   },
   "outputs": [],
   "source": [
    "df = df.append(add, ignore_index=True)"
   ]
  },
  {
   "cell_type": "code",
   "execution_count": 13,
   "metadata": {
    "execution": {
     "iopub.execute_input": "2021-03-21T01:50:05.341000Z",
     "iopub.status.busy": "2021-03-21T01:50:05.339521Z",
     "iopub.status.idle": "2021-03-21T01:50:05.341870Z",
     "shell.execute_reply": "2021-03-21T01:50:05.342381Z"
    }
   },
   "outputs": [],
   "source": [
    "df = df.sort_values(by='location')"
   ]
  },
  {
   "cell_type": "code",
   "execution_count": 14,
   "metadata": {
    "execution": {
     "iopub.execute_input": "2021-03-21T01:50:05.350954Z",
     "iopub.status.busy": "2021-03-21T01:50:05.349159Z",
     "iopub.status.idle": "2021-03-21T01:50:05.351697Z",
     "shell.execute_reply": "2021-03-21T01:50:05.352327Z"
    }
   },
   "outputs": [],
   "source": [
    "df = df[df.location == 'California'].append(df[df.location != 'California']).reset_index(drop=True)"
   ]
  },
  {
   "cell_type": "code",
   "execution_count": null,
   "metadata": {},
   "outputs": [],
   "source": []
  },
  {
   "cell_type": "code",
   "execution_count": 15,
   "metadata": {
    "execution": {
     "iopub.execute_input": "2021-03-21T01:50:05.356526Z",
     "iopub.status.busy": "2021-03-21T01:50:05.355759Z",
     "iopub.status.idle": "2021-03-21T01:50:05.380469Z",
     "shell.execute_reply": "2021-03-21T01:50:05.379822Z"
    }
   },
   "outputs": [],
   "source": [
    "tz = pytz.timezone(\"America/New_York\")"
   ]
  },
  {
   "cell_type": "code",
   "execution_count": 16,
   "metadata": {
    "execution": {
     "iopub.execute_input": "2021-03-21T01:50:05.386134Z",
     "iopub.status.busy": "2021-03-21T01:50:05.384478Z",
     "iopub.status.idle": "2021-03-21T01:50:05.386975Z",
     "shell.execute_reply": "2021-03-21T01:50:05.387564Z"
    }
   },
   "outputs": [],
   "source": [
    "today = datetime.now(tz).date()"
   ]
  },
  {
   "cell_type": "code",
   "execution_count": 17,
   "metadata": {
    "execution": {
     "iopub.execute_input": "2021-03-21T01:50:05.393040Z",
     "iopub.status.busy": "2021-03-21T01:50:05.391447Z",
     "iopub.status.idle": "2021-03-21T01:50:05.393982Z",
     "shell.execute_reply": "2021-03-21T01:50:05.394543Z"
    }
   },
   "outputs": [],
   "source": [
    "data_dir = os.path.join(os.path.abspath(\"\"), \"data\")"
   ]
  },
  {
   "cell_type": "code",
   "execution_count": 18,
   "metadata": {
    "execution": {
     "iopub.execute_input": "2021-03-21T01:50:05.399689Z",
     "iopub.status.busy": "2021-03-21T01:50:05.398174Z",
     "iopub.status.idle": "2021-03-21T01:50:05.402997Z",
     "shell.execute_reply": "2021-03-21T01:50:05.403564Z"
    }
   },
   "outputs": [],
   "source": [
    "df.to_csv(os.path.join(data_dir, f\"{today}.csv\"), index=False)"
   ]
  },
  {
   "cell_type": "code",
   "execution_count": null,
   "metadata": {},
   "outputs": [],
   "source": []
  }
 ],
 "metadata": {
  "kernelspec": {
   "display_name": "Python 3",
   "language": "python",
   "name": "python3"
  },
  "language_info": {
   "codemirror_mode": {
    "name": "ipython",
    "version": 3
   },
   "file_extension": ".py",
   "mimetype": "text/x-python",
   "name": "python",
   "nbconvert_exporter": "python",
   "pygments_lexer": "ipython3",
   "version": "3.8.8"
  }
 },
 "nbformat": 4,
 "nbformat_minor": 4
}
