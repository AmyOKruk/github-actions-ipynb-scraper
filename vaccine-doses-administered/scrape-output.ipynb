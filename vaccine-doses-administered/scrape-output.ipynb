{
 "cells": [
  {
   "cell_type": "markdown",
   "metadata": {},
   "source": [
    "# California COVID vaccinations scrape"
   ]
  },
  {
   "cell_type": "markdown",
   "metadata": {},
   "source": [
    "By [Amy O'Kruk](https://twitter.com/amyokruk)"
   ]
  },
  {
   "cell_type": "markdown",
   "metadata": {},
   "source": [
    "Downloads data on vaccine doses administered by county and statewide from a Tableau-powered dashboard from the California Department of Public Health."
   ]
  },
  {
   "cell_type": "code",
   "execution_count": 1,
   "metadata": {
    "execution": {
     "iopub.execute_input": "2021-03-22T08:54:00.805414Z",
     "iopub.status.busy": "2021-03-22T08:54:00.804727Z",
     "iopub.status.idle": "2021-03-22T08:54:01.264156Z",
     "shell.execute_reply": "2021-03-22T08:54:01.263136Z"
    }
   },
   "outputs": [],
   "source": [
    "import pandas as pd\n",
    "import requests\n",
    "from bs4 import BeautifulSoup\n",
    "import json\n",
    "import re\n",
    "import time\n",
    "from time import gmtime, strftime \n",
    "import os\n",
    "import pytz\n",
    "from datetime import datetime"
   ]
  },
  {
   "cell_type": "markdown",
   "metadata": {},
   "source": [
    "Scrape the dashboard page"
   ]
  },
  {
   "cell_type": "code",
   "execution_count": 2,
   "metadata": {
    "execution": {
     "iopub.execute_input": "2021-03-22T08:54:01.268999Z",
     "iopub.status.busy": "2021-03-22T08:54:01.268389Z",
     "iopub.status.idle": "2021-03-22T08:54:01.978235Z",
     "shell.execute_reply": "2021-03-22T08:54:01.977661Z"
    }
   },
   "outputs": [],
   "source": [
    "url = \"https://public.tableau.com/interactive/views/COVID-19VaccineDashboardPublic/Vaccine?:embed=y&:showVizHome=n&:apiID=host0\"\n",
    "\n",
    "r = requests.get(url)\n",
    "soup = BeautifulSoup(r.text, \"html.parser\")"
   ]
  },
  {
   "cell_type": "code",
   "execution_count": 3,
   "metadata": {
    "execution": {
     "iopub.execute_input": "2021-03-22T08:54:01.983932Z",
     "iopub.status.busy": "2021-03-22T08:54:01.983397Z",
     "iopub.status.idle": "2021-03-22T08:54:01.987843Z",
     "shell.execute_reply": "2021-03-22T08:54:01.987380Z"
    }
   },
   "outputs": [],
   "source": [
    "tableauData = json.loads(soup.find(\"textarea\",{\"id\": \"tsConfigContainer\"}).text)"
   ]
  },
  {
   "cell_type": "markdown",
   "metadata": {},
   "source": [
    "Get the link to the Tableau data"
   ]
  },
  {
   "cell_type": "code",
   "execution_count": 4,
   "metadata": {
    "execution": {
     "iopub.execute_input": "2021-03-22T08:54:01.992164Z",
     "iopub.status.busy": "2021-03-22T08:54:01.991641Z",
     "iopub.status.idle": "2021-03-22T08:54:01.994674Z",
     "shell.execute_reply": "2021-03-22T08:54:01.995109Z"
    }
   },
   "outputs": [],
   "source": [
    "dataUrl = f'https://public.tableau.com{tableauData[\"vizql_root\"]}/bootstrapSession/sessions/{tableauData[\"sessionid\"]}'"
   ]
  },
  {
   "cell_type": "code",
   "execution_count": 5,
   "metadata": {
    "execution": {
     "iopub.execute_input": "2021-03-22T08:54:02.002085Z",
     "iopub.status.busy": "2021-03-22T08:54:02.000898Z",
     "iopub.status.idle": "2021-03-22T08:54:02.283142Z",
     "shell.execute_reply": "2021-03-22T08:54:02.283602Z"
    }
   },
   "outputs": [],
   "source": [
    "r = requests.post(dataUrl, data= {\n",
    "    \"sheet_id\": tableauData[\"sheetId\"],\n",
    "})\n",
    "\n",
    "dataReg = re.search('\\d+;({.*})\\d+;({.*})', r.text, re.MULTILINE)\n",
    "data1 = json.loads(dataReg.group(2))\n",
    "\n",
    "dataJson = data1[\"secondaryInfo\"][\"presModelMap\"][\"dataDictionary\"][\"presModelHolder\"][\"genDataDictionaryPresModel\"][\"dataSegments\"][\"0\"][\"dataColumns\"]"
   ]
  },
  {
   "cell_type": "markdown",
   "metadata": {},
   "source": [
    "Isolate what you want"
   ]
  },
  {
   "cell_type": "code",
   "execution_count": 6,
   "metadata": {
    "execution": {
     "iopub.execute_input": "2021-03-22T08:54:02.287756Z",
     "iopub.status.busy": "2021-03-22T08:54:02.287228Z",
     "iopub.status.idle": "2021-03-22T08:54:02.290336Z",
     "shell.execute_reply": "2021-03-22T08:54:02.290741Z"
    }
   },
   "outputs": [],
   "source": [
    "counties = dataJson[2]['dataValues'][:58]"
   ]
  },
  {
   "cell_type": "code",
   "execution_count": 7,
   "metadata": {
    "execution": {
     "iopub.execute_input": "2021-03-22T08:54:02.295298Z",
     "iopub.status.busy": "2021-03-22T08:54:02.294193Z",
     "iopub.status.idle": "2021-03-22T08:54:02.295898Z",
     "shell.execute_reply": "2021-03-22T08:54:02.296330Z"
    }
   },
   "outputs": [],
   "source": [
    "doses = dataJson[0]['dataValues'][3:61]"
   ]
  },
  {
   "cell_type": "markdown",
   "metadata": {},
   "source": [
    "Data formatting"
   ]
  },
  {
   "cell_type": "code",
   "execution_count": 8,
   "metadata": {
    "execution": {
     "iopub.execute_input": "2021-03-22T08:54:02.300194Z",
     "iopub.status.busy": "2021-03-22T08:54:02.299684Z",
     "iopub.status.idle": "2021-03-22T08:54:02.302134Z",
     "shell.execute_reply": "2021-03-22T08:54:02.301703Z"
    }
   },
   "outputs": [],
   "source": [
    "zipped = dict(zip(counties, doses))"
   ]
  },
  {
   "cell_type": "code",
   "execution_count": 9,
   "metadata": {
    "execution": {
     "iopub.execute_input": "2021-03-22T08:54:02.309090Z",
     "iopub.status.busy": "2021-03-22T08:54:02.307810Z",
     "iopub.status.idle": "2021-03-22T08:54:02.309717Z",
     "shell.execute_reply": "2021-03-22T08:54:02.310145Z"
    }
   },
   "outputs": [],
   "source": [
    "df = pd.Series(zipped).reset_index()"
   ]
  },
  {
   "cell_type": "code",
   "execution_count": 10,
   "metadata": {
    "execution": {
     "iopub.execute_input": "2021-03-22T08:54:02.314849Z",
     "iopub.status.busy": "2021-03-22T08:54:02.313548Z",
     "iopub.status.idle": "2021-03-22T08:54:02.315448Z",
     "shell.execute_reply": "2021-03-22T08:54:02.315871Z"
    }
   },
   "outputs": [],
   "source": [
    "df.columns = ['location','doses']"
   ]
  },
  {
   "cell_type": "markdown",
   "metadata": {},
   "source": [
    "Grab the overall California total"
   ]
  },
  {
   "cell_type": "code",
   "execution_count": 11,
   "metadata": {
    "execution": {
     "iopub.execute_input": "2021-03-22T08:54:02.320533Z",
     "iopub.status.busy": "2021-03-22T08:54:02.319462Z",
     "iopub.status.idle": "2021-03-22T08:54:02.321922Z",
     "shell.execute_reply": "2021-03-22T08:54:02.321293Z"
    }
   },
   "outputs": [],
   "source": [
    "add = {'location':'California','doses':dataJson[0]['dataValues'][2]}"
   ]
  },
  {
   "cell_type": "code",
   "execution_count": 12,
   "metadata": {
    "execution": {
     "iopub.execute_input": "2021-03-22T08:54:02.329196Z",
     "iopub.status.busy": "2021-03-22T08:54:02.328235Z",
     "iopub.status.idle": "2021-03-22T08:54:02.330325Z",
     "shell.execute_reply": "2021-03-22T08:54:02.330861Z"
    }
   },
   "outputs": [],
   "source": [
    "df = df.append(add, ignore_index=True)"
   ]
  },
  {
   "cell_type": "code",
   "execution_count": 13,
   "metadata": {
    "execution": {
     "iopub.execute_input": "2021-03-22T08:54:02.337430Z",
     "iopub.status.busy": "2021-03-22T08:54:02.336176Z",
     "iopub.status.idle": "2021-03-22T08:54:02.338192Z",
     "shell.execute_reply": "2021-03-22T08:54:02.338651Z"
    }
   },
   "outputs": [],
   "source": [
    "df = df.sort_values(by='location')"
   ]
  },
  {
   "cell_type": "code",
   "execution_count": 14,
   "metadata": {
    "execution": {
     "iopub.execute_input": "2021-03-22T08:54:02.345605Z",
     "iopub.status.busy": "2021-03-22T08:54:02.344311Z",
     "iopub.status.idle": "2021-03-22T08:54:02.346297Z",
     "shell.execute_reply": "2021-03-22T08:54:02.346725Z"
    }
   },
   "outputs": [],
   "source": [
    "df = df[df.location == 'California'].append(df[df.location != 'California']).reset_index(drop=True)"
   ]
  },
  {
   "cell_type": "code",
   "execution_count": null,
   "metadata": {},
   "outputs": [],
   "source": []
  },
  {
   "cell_type": "code",
   "execution_count": 15,
   "metadata": {
    "execution": {
     "iopub.execute_input": "2021-03-22T08:54:02.350305Z",
     "iopub.status.busy": "2021-03-22T08:54:02.349796Z",
     "iopub.status.idle": "2021-03-22T08:54:02.367774Z",
     "shell.execute_reply": "2021-03-22T08:54:02.367266Z"
    }
   },
   "outputs": [],
   "source": [
    "tz = pytz.timezone(\"America/New_York\")"
   ]
  },
  {
   "cell_type": "code",
   "execution_count": 16,
   "metadata": {
    "execution": {
     "iopub.execute_input": "2021-03-22T08:54:02.372586Z",
     "iopub.status.busy": "2021-03-22T08:54:02.371308Z",
     "iopub.status.idle": "2021-03-22T08:54:02.373236Z",
     "shell.execute_reply": "2021-03-22T08:54:02.373687Z"
    }
   },
   "outputs": [],
   "source": [
    "today = datetime.now(tz).date()"
   ]
  },
  {
   "cell_type": "code",
   "execution_count": 17,
   "metadata": {
    "execution": {
     "iopub.execute_input": "2021-03-22T08:54:02.378559Z",
     "iopub.status.busy": "2021-03-22T08:54:02.377293Z",
     "iopub.status.idle": "2021-03-22T08:54:02.379153Z",
     "shell.execute_reply": "2021-03-22T08:54:02.379582Z"
    }
   },
   "outputs": [],
   "source": [
    "data_dir = os.path.join(os.path.abspath(\"\"), \"data\")"
   ]
  },
  {
   "cell_type": "code",
   "execution_count": 18,
   "metadata": {
    "execution": {
     "iopub.execute_input": "2021-03-22T08:54:02.383758Z",
     "iopub.status.busy": "2021-03-22T08:54:02.383227Z",
     "iopub.status.idle": "2021-03-22T08:54:02.387745Z",
     "shell.execute_reply": "2021-03-22T08:54:02.387225Z"
    }
   },
   "outputs": [],
   "source": [
    "df.to_csv(os.path.join(data_dir, f\"{today}.csv\"), index=False)"
   ]
  },
  {
   "cell_type": "code",
   "execution_count": null,
   "metadata": {},
   "outputs": [],
   "source": []
  }
 ],
 "metadata": {
  "kernelspec": {
   "display_name": "Python 3",
   "language": "python",
   "name": "python3"
  },
  "language_info": {
   "codemirror_mode": {
    "name": "ipython",
    "version": 3
   },
   "file_extension": ".py",
   "mimetype": "text/x-python",
   "name": "python",
   "nbconvert_exporter": "python",
   "pygments_lexer": "ipython3",
   "version": "3.8.8"
  }
 },
 "nbformat": 4,
 "nbformat_minor": 4
}
