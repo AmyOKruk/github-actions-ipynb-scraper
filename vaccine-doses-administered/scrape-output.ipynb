{
 "cells": [
  {
   "cell_type": "markdown",
   "metadata": {},
   "source": [
    "# California COVID vaccinations scrape"
   ]
  },
  {
   "cell_type": "markdown",
   "metadata": {},
   "source": [
    "By [Amy O'Kruk](https://twitter.com/amyokruk)"
   ]
  },
  {
   "cell_type": "markdown",
   "metadata": {},
   "source": [
    "Downloads data on vaccine doses administered by county and statewide from a Tableau-powered dashboard from the California Department of Public Health."
   ]
  },
  {
   "cell_type": "code",
   "execution_count": 1,
   "metadata": {
    "execution": {
     "iopub.execute_input": "2021-03-13T15:43:39.484305Z",
     "iopub.status.busy": "2021-03-13T15:43:39.483454Z",
     "iopub.status.idle": "2021-03-13T15:43:39.874530Z",
     "shell.execute_reply": "2021-03-13T15:43:39.873604Z"
    }
   },
   "outputs": [],
   "source": [
    "import pandas as pd\n",
    "import requests\n",
    "from bs4 import BeautifulSoup\n",
    "import json\n",
    "import re\n",
    "import time\n",
    "from time import gmtime, strftime \n",
    "import os\n",
    "import pytz\n",
    "from datetime import datetime"
   ]
  },
  {
   "cell_type": "markdown",
   "metadata": {},
   "source": [
    "Scrape the dashboard page"
   ]
  },
  {
   "cell_type": "code",
   "execution_count": 2,
   "metadata": {
    "execution": {
     "iopub.execute_input": "2021-03-13T15:43:39.880400Z",
     "iopub.status.busy": "2021-03-13T15:43:39.878150Z",
     "iopub.status.idle": "2021-03-13T15:43:40.328042Z",
     "shell.execute_reply": "2021-03-13T15:43:40.327502Z"
    }
   },
   "outputs": [],
   "source": [
    "url = \"https://public.tableau.com/interactive/views/COVID-19VaccineDashboardPublic/Vaccine?:embed=y&:showVizHome=n&:apiID=host0\"\n",
    "\n",
    "r = requests.get(url)\n",
    "soup = BeautifulSoup(r.text, \"html.parser\")"
   ]
  },
  {
   "cell_type": "code",
   "execution_count": 3,
   "metadata": {
    "execution": {
     "iopub.execute_input": "2021-03-13T15:43:40.335948Z",
     "iopub.status.busy": "2021-03-13T15:43:40.335378Z",
     "iopub.status.idle": "2021-03-13T15:43:40.338620Z",
     "shell.execute_reply": "2021-03-13T15:43:40.339072Z"
    }
   },
   "outputs": [],
   "source": [
    "tableauData = json.loads(soup.find(\"textarea\",{\"id\": \"tsConfigContainer\"}).text)"
   ]
  },
  {
   "cell_type": "markdown",
   "metadata": {},
   "source": [
    "Get the link to the Tableau data"
   ]
  },
  {
   "cell_type": "code",
   "execution_count": 4,
   "metadata": {
    "execution": {
     "iopub.execute_input": "2021-03-13T15:43:40.343706Z",
     "iopub.status.busy": "2021-03-13T15:43:40.342199Z",
     "iopub.status.idle": "2021-03-13T15:43:40.344438Z",
     "shell.execute_reply": "2021-03-13T15:43:40.344924Z"
    }
   },
   "outputs": [],
   "source": [
    "dataUrl = f'https://public.tableau.com{tableauData[\"vizql_root\"]}/bootstrapSession/sessions/{tableauData[\"sessionid\"]}'"
   ]
  },
  {
   "cell_type": "code",
   "execution_count": 5,
   "metadata": {
    "execution": {
     "iopub.execute_input": "2021-03-13T15:43:40.351981Z",
     "iopub.status.busy": "2021-03-13T15:43:40.351284Z",
     "iopub.status.idle": "2021-03-13T15:43:40.560277Z",
     "shell.execute_reply": "2021-03-13T15:43:40.559683Z"
    }
   },
   "outputs": [],
   "source": [
    "r = requests.post(dataUrl, data= {\n",
    "    \"sheet_id\": tableauData[\"sheetId\"],\n",
    "})\n",
    "\n",
    "dataReg = re.search('\\d+;({.*})\\d+;({.*})', r.text, re.MULTILINE)\n",
    "data1 = json.loads(dataReg.group(2))\n",
    "\n",
    "dataJson = data1[\"secondaryInfo\"][\"presModelMap\"][\"dataDictionary\"][\"presModelHolder\"][\"genDataDictionaryPresModel\"][\"dataSegments\"][\"0\"][\"dataColumns\"]"
   ]
  },
  {
   "cell_type": "markdown",
   "metadata": {},
   "source": [
    "Isolate what you want"
   ]
  },
  {
   "cell_type": "code",
   "execution_count": 6,
   "metadata": {
    "execution": {
     "iopub.execute_input": "2021-03-13T15:43:40.565329Z",
     "iopub.status.busy": "2021-03-13T15:43:40.563863Z",
     "iopub.status.idle": "2021-03-13T15:43:40.565974Z",
     "shell.execute_reply": "2021-03-13T15:43:40.566659Z"
    }
   },
   "outputs": [],
   "source": [
    "counties = dataJson[2]['dataValues'][:58]"
   ]
  },
  {
   "cell_type": "code",
   "execution_count": 7,
   "metadata": {
    "execution": {
     "iopub.execute_input": "2021-03-13T15:43:40.571344Z",
     "iopub.status.busy": "2021-03-13T15:43:40.569926Z",
     "iopub.status.idle": "2021-03-13T15:43:40.572049Z",
     "shell.execute_reply": "2021-03-13T15:43:40.572549Z"
    }
   },
   "outputs": [],
   "source": [
    "doses = dataJson[0]['dataValues'][3:61]"
   ]
  },
  {
   "cell_type": "markdown",
   "metadata": {},
   "source": [
    "Data formatting"
   ]
  },
  {
   "cell_type": "code",
   "execution_count": 8,
   "metadata": {
    "execution": {
     "iopub.execute_input": "2021-03-13T15:43:40.577164Z",
     "iopub.status.busy": "2021-03-13T15:43:40.575732Z",
     "iopub.status.idle": "2021-03-13T15:43:40.577904Z",
     "shell.execute_reply": "2021-03-13T15:43:40.578400Z"
    }
   },
   "outputs": [],
   "source": [
    "zipped = dict(zip(counties, doses))"
   ]
  },
  {
   "cell_type": "code",
   "execution_count": 9,
   "metadata": {
    "execution": {
     "iopub.execute_input": "2021-03-13T15:43:40.585189Z",
     "iopub.status.busy": "2021-03-13T15:43:40.583844Z",
     "iopub.status.idle": "2021-03-13T15:43:40.585889Z",
     "shell.execute_reply": "2021-03-13T15:43:40.586376Z"
    }
   },
   "outputs": [],
   "source": [
    "df = pd.Series(zipped).reset_index()"
   ]
  },
  {
   "cell_type": "code",
   "execution_count": 10,
   "metadata": {
    "execution": {
     "iopub.execute_input": "2021-03-13T15:43:40.590984Z",
     "iopub.status.busy": "2021-03-13T15:43:40.589689Z",
     "iopub.status.idle": "2021-03-13T15:43:40.591673Z",
     "shell.execute_reply": "2021-03-13T15:43:40.592154Z"
    }
   },
   "outputs": [],
   "source": [
    "df.columns = ['location','doses']"
   ]
  },
  {
   "cell_type": "markdown",
   "metadata": {},
   "source": [
    "Grab the overall California total"
   ]
  },
  {
   "cell_type": "code",
   "execution_count": 11,
   "metadata": {
    "execution": {
     "iopub.execute_input": "2021-03-13T15:43:40.596760Z",
     "iopub.status.busy": "2021-03-13T15:43:40.595454Z",
     "iopub.status.idle": "2021-03-13T15:43:40.597423Z",
     "shell.execute_reply": "2021-03-13T15:43:40.597909Z"
    }
   },
   "outputs": [],
   "source": [
    "add = {'location':'California','doses':dataJson[0]['dataValues'][2]}"
   ]
  },
  {
   "cell_type": "code",
   "execution_count": 12,
   "metadata": {
    "execution": {
     "iopub.execute_input": "2021-03-13T15:43:40.605234Z",
     "iopub.status.busy": "2021-03-13T15:43:40.603961Z",
     "iopub.status.idle": "2021-03-13T15:43:40.605857Z",
     "shell.execute_reply": "2021-03-13T15:43:40.606336Z"
    }
   },
   "outputs": [],
   "source": [
    "df = df.append(add, ignore_index=True)"
   ]
  },
  {
   "cell_type": "code",
   "execution_count": 13,
   "metadata": {
    "execution": {
     "iopub.execute_input": "2021-03-13T15:43:40.611471Z",
     "iopub.status.busy": "2021-03-13T15:43:40.610238Z",
     "iopub.status.idle": "2021-03-13T15:43:40.612098Z",
     "shell.execute_reply": "2021-03-13T15:43:40.612575Z"
    }
   },
   "outputs": [],
   "source": [
    "df = df.sort_values(by='location')"
   ]
  },
  {
   "cell_type": "code",
   "execution_count": 14,
   "metadata": {
    "execution": {
     "iopub.execute_input": "2021-03-13T15:43:40.619271Z",
     "iopub.status.busy": "2021-03-13T15:43:40.618040Z",
     "iopub.status.idle": "2021-03-13T15:43:40.619902Z",
     "shell.execute_reply": "2021-03-13T15:43:40.620385Z"
    }
   },
   "outputs": [],
   "source": [
    "df = df[df.location == 'California'].append(df[df.location != 'California']).reset_index(drop=True)"
   ]
  },
  {
   "cell_type": "code",
   "execution_count": null,
   "metadata": {},
   "outputs": [],
   "source": []
  },
  {
   "cell_type": "code",
   "execution_count": 15,
   "metadata": {
    "execution": {
     "iopub.execute_input": "2021-03-13T15:43:40.623789Z",
     "iopub.status.busy": "2021-03-13T15:43:40.623224Z",
     "iopub.status.idle": "2021-03-13T15:43:40.642549Z",
     "shell.execute_reply": "2021-03-13T15:43:40.641963Z"
    }
   },
   "outputs": [],
   "source": [
    "tz = pytz.timezone(\"America/New_York\")"
   ]
  },
  {
   "cell_type": "code",
   "execution_count": 16,
   "metadata": {
    "execution": {
     "iopub.execute_input": "2021-03-13T15:43:40.646993Z",
     "iopub.status.busy": "2021-03-13T15:43:40.645661Z",
     "iopub.status.idle": "2021-03-13T15:43:40.647618Z",
     "shell.execute_reply": "2021-03-13T15:43:40.648096Z"
    }
   },
   "outputs": [],
   "source": [
    "today = datetime.now(tz).date()"
   ]
  },
  {
   "cell_type": "code",
   "execution_count": 17,
   "metadata": {
    "execution": {
     "iopub.execute_input": "2021-03-13T15:43:40.652758Z",
     "iopub.status.busy": "2021-03-13T15:43:40.651374Z",
     "iopub.status.idle": "2021-03-13T15:43:40.653413Z",
     "shell.execute_reply": "2021-03-13T15:43:40.653892Z"
    }
   },
   "outputs": [],
   "source": [
    "data_dir = os.path.join(os.path.abspath(\"\"), \"data\")"
   ]
  },
  {
   "cell_type": "code",
   "execution_count": 18,
   "metadata": {
    "execution": {
     "iopub.execute_input": "2021-03-13T15:43:40.658404Z",
     "iopub.status.busy": "2021-03-13T15:43:40.657194Z",
     "iopub.status.idle": "2021-03-13T15:43:40.662034Z",
     "shell.execute_reply": "2021-03-13T15:43:40.661448Z"
    }
   },
   "outputs": [],
   "source": [
    "df.to_csv(os.path.join(data_dir, f\"{today}.csv\"), index=False)"
   ]
  },
  {
   "cell_type": "code",
   "execution_count": null,
   "metadata": {},
   "outputs": [],
   "source": []
  }
 ],
 "metadata": {
  "kernelspec": {
   "display_name": "Python 3",
   "language": "python",
   "name": "python3"
  },
  "language_info": {
   "codemirror_mode": {
    "name": "ipython",
    "version": 3
   },
   "file_extension": ".py",
   "mimetype": "text/x-python",
   "name": "python",
   "nbconvert_exporter": "python",
   "pygments_lexer": "ipython3",
   "version": "3.8.8"
  }
 },
 "nbformat": 4,
 "nbformat_minor": 4
}
