{
 "cells": [
  {
   "cell_type": "markdown",
   "metadata": {},
   "source": [
    "# California COVID vaccinations scrape"
   ]
  },
  {
   "cell_type": "markdown",
   "metadata": {},
   "source": [
    "By [Amy O'Kruk](https://twitter.com/amyokruk)"
   ]
  },
  {
   "cell_type": "markdown",
   "metadata": {},
   "source": [
    "Downloads data on vaccine doses administered by county and statewide from a Tableau-powered dashboard from the California Department of Public Health."
   ]
  },
  {
   "cell_type": "code",
   "execution_count": 1,
   "metadata": {
    "execution": {
     "iopub.execute_input": "2021-03-18T05:13:42.117318Z",
     "iopub.status.busy": "2021-03-18T05:13:42.116213Z",
     "iopub.status.idle": "2021-03-18T05:13:42.635114Z",
     "shell.execute_reply": "2021-03-18T05:13:42.633963Z"
    }
   },
   "outputs": [],
   "source": [
    "import pandas as pd\n",
    "import requests\n",
    "from bs4 import BeautifulSoup\n",
    "import json\n",
    "import re\n",
    "import time\n",
    "from time import gmtime, strftime \n",
    "import os\n",
    "import pytz\n",
    "from datetime import datetime"
   ]
  },
  {
   "cell_type": "markdown",
   "metadata": {},
   "source": [
    "Scrape the dashboard page"
   ]
  },
  {
   "cell_type": "code",
   "execution_count": 2,
   "metadata": {
    "execution": {
     "iopub.execute_input": "2021-03-18T05:13:42.640710Z",
     "iopub.status.busy": "2021-03-18T05:13:42.638826Z",
     "iopub.status.idle": "2021-03-18T05:13:43.108597Z",
     "shell.execute_reply": "2021-03-18T05:13:43.109123Z"
    }
   },
   "outputs": [],
   "source": [
    "url = \"https://public.tableau.com/interactive/views/COVID-19VaccineDashboardPublic/Vaccine?:embed=y&:showVizHome=n&:apiID=host0\"\n",
    "\n",
    "r = requests.get(url)\n",
    "soup = BeautifulSoup(r.text, \"html.parser\")"
   ]
  },
  {
   "cell_type": "code",
   "execution_count": 3,
   "metadata": {
    "execution": {
     "iopub.execute_input": "2021-03-18T05:13:43.114951Z",
     "iopub.status.busy": "2021-03-18T05:13:43.111503Z",
     "iopub.status.idle": "2021-03-18T05:13:43.117911Z",
     "shell.execute_reply": "2021-03-18T05:13:43.117441Z"
    }
   },
   "outputs": [],
   "source": [
    "tableauData = json.loads(soup.find(\"textarea\",{\"id\": \"tsConfigContainer\"}).text)"
   ]
  },
  {
   "cell_type": "markdown",
   "metadata": {},
   "source": [
    "Get the link to the Tableau data"
   ]
  },
  {
   "cell_type": "code",
   "execution_count": 4,
   "metadata": {
    "execution": {
     "iopub.execute_input": "2021-03-18T05:13:43.121860Z",
     "iopub.status.busy": "2021-03-18T05:13:43.121339Z",
     "iopub.status.idle": "2021-03-18T05:13:43.124305Z",
     "shell.execute_reply": "2021-03-18T05:13:43.124705Z"
    }
   },
   "outputs": [],
   "source": [
    "dataUrl = f'https://public.tableau.com{tableauData[\"vizql_root\"]}/bootstrapSession/sessions/{tableauData[\"sessionid\"]}'"
   ]
  },
  {
   "cell_type": "code",
   "execution_count": 5,
   "metadata": {
    "execution": {
     "iopub.execute_input": "2021-03-18T05:13:43.132682Z",
     "iopub.status.busy": "2021-03-18T05:13:43.132067Z",
     "iopub.status.idle": "2021-03-18T05:13:43.425214Z",
     "shell.execute_reply": "2021-03-18T05:13:43.423940Z"
    }
   },
   "outputs": [],
   "source": [
    "r = requests.post(dataUrl, data= {\n",
    "    \"sheet_id\": tableauData[\"sheetId\"],\n",
    "})\n",
    "\n",
    "dataReg = re.search('\\d+;({.*})\\d+;({.*})', r.text, re.MULTILINE)\n",
    "data1 = json.loads(dataReg.group(2))\n",
    "\n",
    "dataJson = data1[\"secondaryInfo\"][\"presModelMap\"][\"dataDictionary\"][\"presModelHolder\"][\"genDataDictionaryPresModel\"][\"dataSegments\"][\"0\"][\"dataColumns\"]"
   ]
  },
  {
   "cell_type": "markdown",
   "metadata": {},
   "source": [
    "Isolate what you want"
   ]
  },
  {
   "cell_type": "code",
   "execution_count": 6,
   "metadata": {
    "execution": {
     "iopub.execute_input": "2021-03-18T05:13:43.428909Z",
     "iopub.status.busy": "2021-03-18T05:13:43.428390Z",
     "iopub.status.idle": "2021-03-18T05:13:43.432115Z",
     "shell.execute_reply": "2021-03-18T05:13:43.431487Z"
    }
   },
   "outputs": [],
   "source": [
    "counties = dataJson[2]['dataValues'][:58]"
   ]
  },
  {
   "cell_type": "code",
   "execution_count": 7,
   "metadata": {
    "execution": {
     "iopub.execute_input": "2021-03-18T05:13:43.436001Z",
     "iopub.status.busy": "2021-03-18T05:13:43.435330Z",
     "iopub.status.idle": "2021-03-18T05:13:43.438414Z",
     "shell.execute_reply": "2021-03-18T05:13:43.438826Z"
    }
   },
   "outputs": [],
   "source": [
    "doses = dataJson[0]['dataValues'][3:61]"
   ]
  },
  {
   "cell_type": "markdown",
   "metadata": {},
   "source": [
    "Data formatting"
   ]
  },
  {
   "cell_type": "code",
   "execution_count": 8,
   "metadata": {
    "execution": {
     "iopub.execute_input": "2021-03-18T05:13:43.442222Z",
     "iopub.status.busy": "2021-03-18T05:13:43.441695Z",
     "iopub.status.idle": "2021-03-18T05:13:43.445222Z",
     "shell.execute_reply": "2021-03-18T05:13:43.444791Z"
    }
   },
   "outputs": [],
   "source": [
    "zipped = dict(zip(counties, doses))"
   ]
  },
  {
   "cell_type": "code",
   "execution_count": 9,
   "metadata": {
    "execution": {
     "iopub.execute_input": "2021-03-18T05:13:43.450972Z",
     "iopub.status.busy": "2021-03-18T05:13:43.450418Z",
     "iopub.status.idle": "2021-03-18T05:13:43.453645Z",
     "shell.execute_reply": "2021-03-18T05:13:43.454021Z"
    }
   },
   "outputs": [],
   "source": [
    "df = pd.Series(zipped).reset_index()"
   ]
  },
  {
   "cell_type": "code",
   "execution_count": 10,
   "metadata": {
    "execution": {
     "iopub.execute_input": "2021-03-18T05:13:43.457788Z",
     "iopub.status.busy": "2021-03-18T05:13:43.457276Z",
     "iopub.status.idle": "2021-03-18T05:13:43.460643Z",
     "shell.execute_reply": "2021-03-18T05:13:43.460215Z"
    }
   },
   "outputs": [],
   "source": [
    "df.columns = ['location','doses']"
   ]
  },
  {
   "cell_type": "markdown",
   "metadata": {},
   "source": [
    "Grab the overall California total"
   ]
  },
  {
   "cell_type": "code",
   "execution_count": 11,
   "metadata": {
    "execution": {
     "iopub.execute_input": "2021-03-18T05:13:43.464200Z",
     "iopub.status.busy": "2021-03-18T05:13:43.463689Z",
     "iopub.status.idle": "2021-03-18T05:13:43.466698Z",
     "shell.execute_reply": "2021-03-18T05:13:43.467106Z"
    }
   },
   "outputs": [],
   "source": [
    "add = {'location':'California','doses':dataJson[0]['dataValues'][2]}"
   ]
  },
  {
   "cell_type": "code",
   "execution_count": 12,
   "metadata": {
    "execution": {
     "iopub.execute_input": "2021-03-18T05:13:43.474019Z",
     "iopub.status.busy": "2021-03-18T05:13:43.472802Z",
     "iopub.status.idle": "2021-03-18T05:13:43.474621Z",
     "shell.execute_reply": "2021-03-18T05:13:43.475059Z"
    }
   },
   "outputs": [],
   "source": [
    "df = df.append(add, ignore_index=True)"
   ]
  },
  {
   "cell_type": "code",
   "execution_count": 13,
   "metadata": {
    "execution": {
     "iopub.execute_input": "2021-03-18T05:13:43.480111Z",
     "iopub.status.busy": "2021-03-18T05:13:43.478890Z",
     "iopub.status.idle": "2021-03-18T05:13:43.480724Z",
     "shell.execute_reply": "2021-03-18T05:13:43.481151Z"
    }
   },
   "outputs": [],
   "source": [
    "df = df.sort_values(by='location')"
   ]
  },
  {
   "cell_type": "code",
   "execution_count": 14,
   "metadata": {
    "execution": {
     "iopub.execute_input": "2021-03-18T05:13:43.487531Z",
     "iopub.status.busy": "2021-03-18T05:13:43.486605Z",
     "iopub.status.idle": "2021-03-18T05:13:43.488967Z",
     "shell.execute_reply": "2021-03-18T05:13:43.488538Z"
    }
   },
   "outputs": [],
   "source": [
    "df = df[df.location == 'California'].append(df[df.location != 'California']).reset_index(drop=True)"
   ]
  },
  {
   "cell_type": "code",
   "execution_count": null,
   "metadata": {},
   "outputs": [],
   "source": []
  },
  {
   "cell_type": "code",
   "execution_count": 15,
   "metadata": {
    "execution": {
     "iopub.execute_input": "2021-03-18T05:13:43.492280Z",
     "iopub.status.busy": "2021-03-18T05:13:43.491769Z",
     "iopub.status.idle": "2021-03-18T05:13:43.513461Z",
     "shell.execute_reply": "2021-03-18T05:13:43.513005Z"
    }
   },
   "outputs": [],
   "source": [
    "tz = pytz.timezone(\"America/New_York\")"
   ]
  },
  {
   "cell_type": "code",
   "execution_count": 16,
   "metadata": {
    "execution": {
     "iopub.execute_input": "2021-03-18T05:13:43.517782Z",
     "iopub.status.busy": "2021-03-18T05:13:43.516559Z",
     "iopub.status.idle": "2021-03-18T05:13:43.518445Z",
     "shell.execute_reply": "2021-03-18T05:13:43.518879Z"
    }
   },
   "outputs": [],
   "source": [
    "today = datetime.now(tz).date()"
   ]
  },
  {
   "cell_type": "code",
   "execution_count": 17,
   "metadata": {
    "execution": {
     "iopub.execute_input": "2021-03-18T05:13:43.523126Z",
     "iopub.status.busy": "2021-03-18T05:13:43.522227Z",
     "iopub.status.idle": "2021-03-18T05:13:43.524561Z",
     "shell.execute_reply": "2021-03-18T05:13:43.524141Z"
    }
   },
   "outputs": [],
   "source": [
    "data_dir = os.path.join(os.path.abspath(\"\"), \"data\")"
   ]
  },
  {
   "cell_type": "code",
   "execution_count": 18,
   "metadata": {
    "execution": {
     "iopub.execute_input": "2021-03-18T05:13:43.529478Z",
     "iopub.status.busy": "2021-03-18T05:13:43.528072Z",
     "iopub.status.idle": "2021-03-18T05:13:43.532839Z",
     "shell.execute_reply": "2021-03-18T05:13:43.532406Z"
    }
   },
   "outputs": [],
   "source": [
    "df.to_csv(os.path.join(data_dir, f\"{today}.csv\"), index=False)"
   ]
  },
  {
   "cell_type": "code",
   "execution_count": null,
   "metadata": {},
   "outputs": [],
   "source": []
  }
 ],
 "metadata": {
  "kernelspec": {
   "display_name": "Python 3",
   "language": "python",
   "name": "python3"
  },
  "language_info": {
   "codemirror_mode": {
    "name": "ipython",
    "version": 3
   },
   "file_extension": ".py",
   "mimetype": "text/x-python",
   "name": "python",
   "nbconvert_exporter": "python",
   "pygments_lexer": "ipython3",
   "version": "3.8.8"
  }
 },
 "nbformat": 4,
 "nbformat_minor": 4
}
