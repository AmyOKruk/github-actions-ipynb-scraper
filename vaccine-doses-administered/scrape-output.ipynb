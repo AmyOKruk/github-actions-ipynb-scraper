{
 "cells": [
  {
   "cell_type": "markdown",
   "metadata": {},
   "source": [
    "# California COVID vaccinations scrape"
   ]
  },
  {
   "cell_type": "markdown",
   "metadata": {},
   "source": [
    "By [Amy O'Kruk](https://twitter.com/amyokruk)"
   ]
  },
  {
   "cell_type": "markdown",
   "metadata": {},
   "source": [
    "Downloads data on vaccine doses administered by county and statewide from a Tableau-powered dashboard from the California Department of Public Health."
   ]
  },
  {
   "cell_type": "code",
   "execution_count": 1,
   "metadata": {
    "execution": {
     "iopub.execute_input": "2021-03-15T02:54:02.244231Z",
     "iopub.status.busy": "2021-03-15T02:54:02.243651Z",
     "iopub.status.idle": "2021-03-15T02:54:02.598706Z",
     "shell.execute_reply": "2021-03-15T02:54:02.598132Z"
    }
   },
   "outputs": [],
   "source": [
    "import pandas as pd\n",
    "import requests\n",
    "from bs4 import BeautifulSoup\n",
    "import json\n",
    "import re\n",
    "import time\n",
    "from time import gmtime, strftime \n",
    "import os\n",
    "import pytz\n",
    "from datetime import datetime"
   ]
  },
  {
   "cell_type": "markdown",
   "metadata": {},
   "source": [
    "Scrape the dashboard page"
   ]
  },
  {
   "cell_type": "code",
   "execution_count": 2,
   "metadata": {
    "execution": {
     "iopub.execute_input": "2021-03-15T02:54:02.603717Z",
     "iopub.status.busy": "2021-03-15T02:54:02.601731Z",
     "iopub.status.idle": "2021-03-15T02:54:03.148230Z",
     "shell.execute_reply": "2021-03-15T02:54:03.147409Z"
    }
   },
   "outputs": [],
   "source": [
    "url = \"https://public.tableau.com/interactive/views/COVID-19VaccineDashboardPublic/Vaccine?:embed=y&:showVizHome=n&:apiID=host0\"\n",
    "\n",
    "r = requests.get(url)\n",
    "soup = BeautifulSoup(r.text, \"html.parser\")"
   ]
  },
  {
   "cell_type": "code",
   "execution_count": 3,
   "metadata": {
    "execution": {
     "iopub.execute_input": "2021-03-15T02:54:03.152702Z",
     "iopub.status.busy": "2021-03-15T02:54:03.152177Z",
     "iopub.status.idle": "2021-03-15T02:54:03.155294Z",
     "shell.execute_reply": "2021-03-15T02:54:03.154913Z"
    }
   },
   "outputs": [],
   "source": [
    "tableauData = json.loads(soup.find(\"textarea\",{\"id\": \"tsConfigContainer\"}).text)"
   ]
  },
  {
   "cell_type": "markdown",
   "metadata": {},
   "source": [
    "Get the link to the Tableau data"
   ]
  },
  {
   "cell_type": "code",
   "execution_count": 4,
   "metadata": {
    "execution": {
     "iopub.execute_input": "2021-03-15T02:54:03.158232Z",
     "iopub.status.busy": "2021-03-15T02:54:03.157763Z",
     "iopub.status.idle": "2021-03-15T02:54:03.160738Z",
     "shell.execute_reply": "2021-03-15T02:54:03.160375Z"
    }
   },
   "outputs": [],
   "source": [
    "dataUrl = f'https://public.tableau.com{tableauData[\"vizql_root\"]}/bootstrapSession/sessions/{tableauData[\"sessionid\"]}'"
   ]
  },
  {
   "cell_type": "code",
   "execution_count": 5,
   "metadata": {
    "execution": {
     "iopub.execute_input": "2021-03-15T02:54:03.166128Z",
     "iopub.status.busy": "2021-03-15T02:54:03.165648Z",
     "iopub.status.idle": "2021-03-15T02:54:03.734407Z",
     "shell.execute_reply": "2021-03-15T02:54:03.733930Z"
    }
   },
   "outputs": [],
   "source": [
    "r = requests.post(dataUrl, data= {\n",
    "    \"sheet_id\": tableauData[\"sheetId\"],\n",
    "})\n",
    "\n",
    "dataReg = re.search('\\d+;({.*})\\d+;({.*})', r.text, re.MULTILINE)\n",
    "data1 = json.loads(dataReg.group(2))\n",
    "\n",
    "dataJson = data1[\"secondaryInfo\"][\"presModelMap\"][\"dataDictionary\"][\"presModelHolder\"][\"genDataDictionaryPresModel\"][\"dataSegments\"][\"0\"][\"dataColumns\"]"
   ]
  },
  {
   "cell_type": "markdown",
   "metadata": {},
   "source": [
    "Isolate what you want"
   ]
  },
  {
   "cell_type": "code",
   "execution_count": 6,
   "metadata": {
    "execution": {
     "iopub.execute_input": "2021-03-15T02:54:03.737939Z",
     "iopub.status.busy": "2021-03-15T02:54:03.737441Z",
     "iopub.status.idle": "2021-03-15T02:54:03.740008Z",
     "shell.execute_reply": "2021-03-15T02:54:03.739522Z"
    }
   },
   "outputs": [],
   "source": [
    "counties = dataJson[2]['dataValues'][:58]"
   ]
  },
  {
   "cell_type": "code",
   "execution_count": 7,
   "metadata": {
    "execution": {
     "iopub.execute_input": "2021-03-15T02:54:03.743710Z",
     "iopub.status.busy": "2021-03-15T02:54:03.742643Z",
     "iopub.status.idle": "2021-03-15T02:54:03.744251Z",
     "shell.execute_reply": "2021-03-15T02:54:03.744623Z"
    }
   },
   "outputs": [],
   "source": [
    "doses = dataJson[0]['dataValues'][3:61]"
   ]
  },
  {
   "cell_type": "markdown",
   "metadata": {},
   "source": [
    "Data formatting"
   ]
  },
  {
   "cell_type": "code",
   "execution_count": 8,
   "metadata": {
    "execution": {
     "iopub.execute_input": "2021-03-15T02:54:03.749102Z",
     "iopub.status.busy": "2021-03-15T02:54:03.748267Z",
     "iopub.status.idle": "2021-03-15T02:54:03.749818Z",
     "shell.execute_reply": "2021-03-15T02:54:03.750221Z"
    }
   },
   "outputs": [],
   "source": [
    "zipped = dict(zip(counties, doses))"
   ]
  },
  {
   "cell_type": "code",
   "execution_count": 9,
   "metadata": {
    "execution": {
     "iopub.execute_input": "2021-03-15T02:54:03.755719Z",
     "iopub.status.busy": "2021-03-15T02:54:03.754735Z",
     "iopub.status.idle": "2021-03-15T02:54:03.756254Z",
     "shell.execute_reply": "2021-03-15T02:54:03.756625Z"
    }
   },
   "outputs": [],
   "source": [
    "df = pd.Series(zipped).reset_index()"
   ]
  },
  {
   "cell_type": "code",
   "execution_count": 10,
   "metadata": {
    "execution": {
     "iopub.execute_input": "2021-03-15T02:54:03.760115Z",
     "iopub.status.busy": "2021-03-15T02:54:03.759318Z",
     "iopub.status.idle": "2021-03-15T02:54:03.761434Z",
     "shell.execute_reply": "2021-03-15T02:54:03.761019Z"
    }
   },
   "outputs": [],
   "source": [
    "df.columns = ['location','doses']"
   ]
  },
  {
   "cell_type": "markdown",
   "metadata": {},
   "source": [
    "Grab the overall California total"
   ]
  },
  {
   "cell_type": "code",
   "execution_count": 11,
   "metadata": {
    "execution": {
     "iopub.execute_input": "2021-03-15T02:54:03.764877Z",
     "iopub.status.busy": "2021-03-15T02:54:03.764055Z",
     "iopub.status.idle": "2021-03-15T02:54:03.766116Z",
     "shell.execute_reply": "2021-03-15T02:54:03.765631Z"
    }
   },
   "outputs": [],
   "source": [
    "add = {'location':'California','doses':dataJson[0]['dataValues'][2]}"
   ]
  },
  {
   "cell_type": "code",
   "execution_count": 12,
   "metadata": {
    "execution": {
     "iopub.execute_input": "2021-03-15T02:54:03.771936Z",
     "iopub.status.busy": "2021-03-15T02:54:03.770954Z",
     "iopub.status.idle": "2021-03-15T02:54:03.772467Z",
     "shell.execute_reply": "2021-03-15T02:54:03.772836Z"
    }
   },
   "outputs": [],
   "source": [
    "df = df.append(add, ignore_index=True)"
   ]
  },
  {
   "cell_type": "code",
   "execution_count": 13,
   "metadata": {
    "execution": {
     "iopub.execute_input": "2021-03-15T02:54:03.777196Z",
     "iopub.status.busy": "2021-03-15T02:54:03.775947Z",
     "iopub.status.idle": "2021-03-15T02:54:03.777706Z",
     "shell.execute_reply": "2021-03-15T02:54:03.778099Z"
    }
   },
   "outputs": [],
   "source": [
    "df = df.sort_values(by='location')"
   ]
  },
  {
   "cell_type": "code",
   "execution_count": 14,
   "metadata": {
    "execution": {
     "iopub.execute_input": "2021-03-15T02:54:03.783392Z",
     "iopub.status.busy": "2021-03-15T02:54:03.782593Z",
     "iopub.status.idle": "2021-03-15T02:54:03.784156Z",
     "shell.execute_reply": "2021-03-15T02:54:03.784529Z"
    }
   },
   "outputs": [],
   "source": [
    "df = df[df.location == 'California'].append(df[df.location != 'California']).reset_index(drop=True)"
   ]
  },
  {
   "cell_type": "code",
   "execution_count": null,
   "metadata": {},
   "outputs": [],
   "source": []
  },
  {
   "cell_type": "code",
   "execution_count": 15,
   "metadata": {
    "execution": {
     "iopub.execute_input": "2021-03-15T02:54:03.787262Z",
     "iopub.status.busy": "2021-03-15T02:54:03.786818Z",
     "iopub.status.idle": "2021-03-15T02:54:03.801710Z",
     "shell.execute_reply": "2021-03-15T02:54:03.801292Z"
    }
   },
   "outputs": [],
   "source": [
    "tz = pytz.timezone(\"America/New_York\")"
   ]
  },
  {
   "cell_type": "code",
   "execution_count": 16,
   "metadata": {
    "execution": {
     "iopub.execute_input": "2021-03-15T02:54:03.805048Z",
     "iopub.status.busy": "2021-03-15T02:54:03.804223Z",
     "iopub.status.idle": "2021-03-15T02:54:03.805749Z",
     "shell.execute_reply": "2021-03-15T02:54:03.806150Z"
    }
   },
   "outputs": [],
   "source": [
    "today = datetime.now(tz).date()"
   ]
  },
  {
   "cell_type": "code",
   "execution_count": 17,
   "metadata": {
    "execution": {
     "iopub.execute_input": "2021-03-15T02:54:03.809847Z",
     "iopub.status.busy": "2021-03-15T02:54:03.808779Z",
     "iopub.status.idle": "2021-03-15T02:54:03.810474Z",
     "shell.execute_reply": "2021-03-15T02:54:03.810847Z"
    }
   },
   "outputs": [],
   "source": [
    "data_dir = os.path.join(os.path.abspath(\"\"), \"data\")"
   ]
  },
  {
   "cell_type": "code",
   "execution_count": 18,
   "metadata": {
    "execution": {
     "iopub.execute_input": "2021-03-15T02:54:03.814505Z",
     "iopub.status.busy": "2021-03-15T02:54:03.813547Z",
     "iopub.status.idle": "2021-03-15T02:54:03.817575Z",
     "shell.execute_reply": "2021-03-15T02:54:03.817135Z"
    }
   },
   "outputs": [],
   "source": [
    "df.to_csv(os.path.join(data_dir, f\"{today}.csv\"), index=False)"
   ]
  },
  {
   "cell_type": "code",
   "execution_count": null,
   "metadata": {},
   "outputs": [],
   "source": []
  }
 ],
 "metadata": {
  "kernelspec": {
   "display_name": "Python 3",
   "language": "python",
   "name": "python3"
  },
  "language_info": {
   "codemirror_mode": {
    "name": "ipython",
    "version": 3
   },
   "file_extension": ".py",
   "mimetype": "text/x-python",
   "name": "python",
   "nbconvert_exporter": "python",
   "pygments_lexer": "ipython3",
   "version": "3.8.8"
  }
 },
 "nbformat": 4,
 "nbformat_minor": 4
}
