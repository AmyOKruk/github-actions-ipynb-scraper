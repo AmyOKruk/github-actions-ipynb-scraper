{
 "cells": [
  {
   "cell_type": "markdown",
   "metadata": {},
   "source": [
    "# California COVID vaccinations scrape"
   ]
  },
  {
   "cell_type": "markdown",
   "metadata": {},
   "source": [
    "By [Amy O'Kruk](https://twitter.com/amyokruk)"
   ]
  },
  {
   "cell_type": "markdown",
   "metadata": {},
   "source": [
    "Downloads data on vaccine doses administered by county and statewide from a Tableau-powered dashboard from the California Department of Public Health."
   ]
  },
  {
   "cell_type": "code",
   "execution_count": 1,
   "metadata": {
    "execution": {
     "iopub.execute_input": "2021-03-14T16:19:44.791593Z",
     "iopub.status.busy": "2021-03-14T16:19:44.790810Z",
     "iopub.status.idle": "2021-03-14T16:19:45.154264Z",
     "shell.execute_reply": "2021-03-14T16:19:45.153689Z"
    }
   },
   "outputs": [],
   "source": [
    "import pandas as pd\n",
    "import requests\n",
    "from bs4 import BeautifulSoup\n",
    "import json\n",
    "import re\n",
    "import time\n",
    "from time import gmtime, strftime \n",
    "import os\n",
    "import pytz\n",
    "from datetime import datetime"
   ]
  },
  {
   "cell_type": "markdown",
   "metadata": {},
   "source": [
    "Scrape the dashboard page"
   ]
  },
  {
   "cell_type": "code",
   "execution_count": 2,
   "metadata": {
    "execution": {
     "iopub.execute_input": "2021-03-14T16:19:45.159458Z",
     "iopub.status.busy": "2021-03-14T16:19:45.157302Z",
     "iopub.status.idle": "2021-03-14T16:19:45.782545Z",
     "shell.execute_reply": "2021-03-14T16:19:45.781942Z"
    }
   },
   "outputs": [],
   "source": [
    "url = \"https://public.tableau.com/interactive/views/COVID-19VaccineDashboardPublic/Vaccine?:embed=y&:showVizHome=n&:apiID=host0\"\n",
    "\n",
    "r = requests.get(url)\n",
    "soup = BeautifulSoup(r.text, \"html.parser\")"
   ]
  },
  {
   "cell_type": "code",
   "execution_count": 3,
   "metadata": {
    "execution": {
     "iopub.execute_input": "2021-03-14T16:19:45.787772Z",
     "iopub.status.busy": "2021-03-14T16:19:45.787131Z",
     "iopub.status.idle": "2021-03-14T16:19:45.791085Z",
     "shell.execute_reply": "2021-03-14T16:19:45.791571Z"
    }
   },
   "outputs": [],
   "source": [
    "tableauData = json.loads(soup.find(\"textarea\",{\"id\": \"tsConfigContainer\"}).text)"
   ]
  },
  {
   "cell_type": "markdown",
   "metadata": {},
   "source": [
    "Get the link to the Tableau data"
   ]
  },
  {
   "cell_type": "code",
   "execution_count": 4,
   "metadata": {
    "execution": {
     "iopub.execute_input": "2021-03-14T16:19:45.796038Z",
     "iopub.status.busy": "2021-03-14T16:19:45.795424Z",
     "iopub.status.idle": "2021-03-14T16:19:45.799272Z",
     "shell.execute_reply": "2021-03-14T16:19:45.799746Z"
    }
   },
   "outputs": [],
   "source": [
    "dataUrl = f'https://public.tableau.com{tableauData[\"vizql_root\"]}/bootstrapSession/sessions/{tableauData[\"sessionid\"]}'"
   ]
  },
  {
   "cell_type": "code",
   "execution_count": 5,
   "metadata": {
    "execution": {
     "iopub.execute_input": "2021-03-14T16:19:45.807261Z",
     "iopub.status.busy": "2021-03-14T16:19:45.806622Z",
     "iopub.status.idle": "2021-03-14T16:19:45.984532Z",
     "shell.execute_reply": "2021-03-14T16:19:45.985059Z"
    }
   },
   "outputs": [],
   "source": [
    "r = requests.post(dataUrl, data= {\n",
    "    \"sheet_id\": tableauData[\"sheetId\"],\n",
    "})\n",
    "\n",
    "dataReg = re.search('\\d+;({.*})\\d+;({.*})', r.text, re.MULTILINE)\n",
    "data1 = json.loads(dataReg.group(2))\n",
    "\n",
    "dataJson = data1[\"secondaryInfo\"][\"presModelMap\"][\"dataDictionary\"][\"presModelHolder\"][\"genDataDictionaryPresModel\"][\"dataSegments\"][\"0\"][\"dataColumns\"]"
   ]
  },
  {
   "cell_type": "markdown",
   "metadata": {},
   "source": [
    "Isolate what you want"
   ]
  },
  {
   "cell_type": "code",
   "execution_count": 6,
   "metadata": {
    "execution": {
     "iopub.execute_input": "2021-03-14T16:19:45.989357Z",
     "iopub.status.busy": "2021-03-14T16:19:45.988722Z",
     "iopub.status.idle": "2021-03-14T16:19:45.991169Z",
     "shell.execute_reply": "2021-03-14T16:19:45.991675Z"
    }
   },
   "outputs": [],
   "source": [
    "counties = dataJson[2]['dataValues'][:58]"
   ]
  },
  {
   "cell_type": "code",
   "execution_count": 7,
   "metadata": {
    "execution": {
     "iopub.execute_input": "2021-03-14T16:19:45.997049Z",
     "iopub.status.busy": "2021-03-14T16:19:45.996353Z",
     "iopub.status.idle": "2021-03-14T16:19:46.000109Z",
     "shell.execute_reply": "2021-03-14T16:19:46.000606Z"
    }
   },
   "outputs": [],
   "source": [
    "doses = dataJson[0]['dataValues'][3:61]"
   ]
  },
  {
   "cell_type": "markdown",
   "metadata": {},
   "source": [
    "Data formatting"
   ]
  },
  {
   "cell_type": "code",
   "execution_count": 8,
   "metadata": {
    "execution": {
     "iopub.execute_input": "2021-03-14T16:19:46.006068Z",
     "iopub.status.busy": "2021-03-14T16:19:46.004542Z",
     "iopub.status.idle": "2021-03-14T16:19:46.006774Z",
     "shell.execute_reply": "2021-03-14T16:19:46.007287Z"
    }
   },
   "outputs": [],
   "source": [
    "zipped = dict(zip(counties, doses))"
   ]
  },
  {
   "cell_type": "code",
   "execution_count": 9,
   "metadata": {
    "execution": {
     "iopub.execute_input": "2021-03-14T16:19:46.014086Z",
     "iopub.status.busy": "2021-03-14T16:19:46.013387Z",
     "iopub.status.idle": "2021-03-14T16:19:46.015871Z",
     "shell.execute_reply": "2021-03-14T16:19:46.016361Z"
    }
   },
   "outputs": [],
   "source": [
    "df = pd.Series(zipped).reset_index()"
   ]
  },
  {
   "cell_type": "code",
   "execution_count": 10,
   "metadata": {
    "execution": {
     "iopub.execute_input": "2021-03-14T16:19:46.021523Z",
     "iopub.status.busy": "2021-03-14T16:19:46.019999Z",
     "iopub.status.idle": "2021-03-14T16:19:46.022227Z",
     "shell.execute_reply": "2021-03-14T16:19:46.022749Z"
    }
   },
   "outputs": [],
   "source": [
    "df.columns = ['location','doses']"
   ]
  },
  {
   "cell_type": "markdown",
   "metadata": {},
   "source": [
    "Grab the overall California total"
   ]
  },
  {
   "cell_type": "code",
   "execution_count": 11,
   "metadata": {
    "execution": {
     "iopub.execute_input": "2021-03-14T16:19:46.027774Z",
     "iopub.status.busy": "2021-03-14T16:19:46.026284Z",
     "iopub.status.idle": "2021-03-14T16:19:46.028437Z",
     "shell.execute_reply": "2021-03-14T16:19:46.028943Z"
    }
   },
   "outputs": [],
   "source": [
    "add = {'location':'California','doses':dataJson[0]['dataValues'][2]}"
   ]
  },
  {
   "cell_type": "code",
   "execution_count": 12,
   "metadata": {
    "execution": {
     "iopub.execute_input": "2021-03-14T16:19:46.035462Z",
     "iopub.status.busy": "2021-03-14T16:19:46.033313Z",
     "iopub.status.idle": "2021-03-14T16:19:46.038064Z",
     "shell.execute_reply": "2021-03-14T16:19:46.037416Z"
    }
   },
   "outputs": [],
   "source": [
    "df = df.append(add, ignore_index=True)"
   ]
  },
  {
   "cell_type": "code",
   "execution_count": 13,
   "metadata": {
    "execution": {
     "iopub.execute_input": "2021-03-14T16:19:46.043698Z",
     "iopub.status.busy": "2021-03-14T16:19:46.042234Z",
     "iopub.status.idle": "2021-03-14T16:19:46.044351Z",
     "shell.execute_reply": "2021-03-14T16:19:46.044847Z"
    }
   },
   "outputs": [],
   "source": [
    "df = df.sort_values(by='location')"
   ]
  },
  {
   "cell_type": "code",
   "execution_count": 14,
   "metadata": {
    "execution": {
     "iopub.execute_input": "2021-03-14T16:19:46.051830Z",
     "iopub.status.busy": "2021-03-14T16:19:46.050450Z",
     "iopub.status.idle": "2021-03-14T16:19:46.052475Z",
     "shell.execute_reply": "2021-03-14T16:19:46.052967Z"
    }
   },
   "outputs": [],
   "source": [
    "df = df[df.location == 'California'].append(df[df.location != 'California']).reset_index(drop=True)"
   ]
  },
  {
   "cell_type": "code",
   "execution_count": null,
   "metadata": {},
   "outputs": [],
   "source": []
  },
  {
   "cell_type": "code",
   "execution_count": 15,
   "metadata": {
    "execution": {
     "iopub.execute_input": "2021-03-14T16:19:46.056568Z",
     "iopub.status.busy": "2021-03-14T16:19:46.055959Z",
     "iopub.status.idle": "2021-03-14T16:19:46.075561Z",
     "shell.execute_reply": "2021-03-14T16:19:46.076008Z"
    }
   },
   "outputs": [],
   "source": [
    "tz = pytz.timezone(\"America/New_York\")"
   ]
  },
  {
   "cell_type": "code",
   "execution_count": 16,
   "metadata": {
    "execution": {
     "iopub.execute_input": "2021-03-14T16:19:46.080504Z",
     "iopub.status.busy": "2021-03-14T16:19:46.079245Z",
     "iopub.status.idle": "2021-03-14T16:19:46.081132Z",
     "shell.execute_reply": "2021-03-14T16:19:46.081640Z"
    }
   },
   "outputs": [],
   "source": [
    "today = datetime.now(tz).date()"
   ]
  },
  {
   "cell_type": "code",
   "execution_count": 17,
   "metadata": {
    "execution": {
     "iopub.execute_input": "2021-03-14T16:19:46.086209Z",
     "iopub.status.busy": "2021-03-14T16:19:46.084831Z",
     "iopub.status.idle": "2021-03-14T16:19:46.086826Z",
     "shell.execute_reply": "2021-03-14T16:19:46.087300Z"
    }
   },
   "outputs": [],
   "source": [
    "data_dir = os.path.join(os.path.abspath(\"\"), \"data\")"
   ]
  },
  {
   "cell_type": "code",
   "execution_count": 18,
   "metadata": {
    "execution": {
     "iopub.execute_input": "2021-03-14T16:19:46.091366Z",
     "iopub.status.busy": "2021-03-14T16:19:46.090805Z",
     "iopub.status.idle": "2021-03-14T16:19:46.094625Z",
     "shell.execute_reply": "2021-03-14T16:19:46.095062Z"
    }
   },
   "outputs": [],
   "source": [
    "df.to_csv(os.path.join(data_dir, f\"{today}.csv\"), index=False)"
   ]
  },
  {
   "cell_type": "code",
   "execution_count": null,
   "metadata": {},
   "outputs": [],
   "source": []
  }
 ],
 "metadata": {
  "kernelspec": {
   "display_name": "Python 3",
   "language": "python",
   "name": "python3"
  },
  "language_info": {
   "codemirror_mode": {
    "name": "ipython",
    "version": 3
   },
   "file_extension": ".py",
   "mimetype": "text/x-python",
   "name": "python",
   "nbconvert_exporter": "python",
   "pygments_lexer": "ipython3",
   "version": "3.8.8"
  }
 },
 "nbformat": 4,
 "nbformat_minor": 4
}
