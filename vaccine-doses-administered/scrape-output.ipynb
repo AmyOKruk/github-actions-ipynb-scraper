{
 "cells": [
  {
   "cell_type": "markdown",
   "metadata": {},
   "source": [
    "# California COVID vaccinations scrape"
   ]
  },
  {
   "cell_type": "markdown",
   "metadata": {},
   "source": [
    "By [Amy O'Kruk](https://twitter.com/amyokruk)"
   ]
  },
  {
   "cell_type": "markdown",
   "metadata": {},
   "source": [
    "Downloads data on vaccine doses administered by county and statewide from a Tableau-powered dashboard from the California Department of Public Health."
   ]
  },
  {
   "cell_type": "code",
   "execution_count": 1,
   "metadata": {
    "execution": {
     "iopub.execute_input": "2021-03-11T22:46:30.076724Z",
     "iopub.status.busy": "2021-03-11T22:46:30.076130Z",
     "iopub.status.idle": "2021-03-11T22:46:30.534414Z",
     "shell.execute_reply": "2021-03-11T22:46:30.533814Z"
    }
   },
   "outputs": [],
   "source": [
    "import pandas as pd\n",
    "import requests\n",
    "from bs4 import BeautifulSoup\n",
    "import json\n",
    "import re\n",
    "import time\n",
    "from time import gmtime, strftime \n",
    "import os\n",
    "import pytz\n",
    "from datetime import datetime"
   ]
  },
  {
   "cell_type": "markdown",
   "metadata": {},
   "source": [
    "Scrape the dashboard page"
   ]
  },
  {
   "cell_type": "code",
   "execution_count": 2,
   "metadata": {
    "execution": {
     "iopub.execute_input": "2021-03-11T22:46:30.539889Z",
     "iopub.status.busy": "2021-03-11T22:46:30.538969Z",
     "iopub.status.idle": "2021-03-11T22:46:30.827802Z",
     "shell.execute_reply": "2021-03-11T22:46:30.827314Z"
    }
   },
   "outputs": [],
   "source": [
    "url = \"https://public.tableau.com/interactive/views/COVID-19VaccineDashboardPublic/Vaccine?:embed=y&:showVizHome=n&:apiID=host0\"\n",
    "\n",
    "r = requests.get(url)\n",
    "soup = BeautifulSoup(r.text, \"html.parser\")"
   ]
  },
  {
   "cell_type": "code",
   "execution_count": 3,
   "metadata": {
    "execution": {
     "iopub.execute_input": "2021-03-11T22:46:30.834328Z",
     "iopub.status.busy": "2021-03-11T22:46:30.832999Z",
     "iopub.status.idle": "2021-03-11T22:46:30.835101Z",
     "shell.execute_reply": "2021-03-11T22:46:30.835619Z"
    }
   },
   "outputs": [],
   "source": [
    "tableauData = json.loads(soup.find(\"textarea\",{\"id\": \"tsConfigContainer\"}).text)"
   ]
  },
  {
   "cell_type": "markdown",
   "metadata": {},
   "source": [
    "Get the link to the Tableau data"
   ]
  },
  {
   "cell_type": "code",
   "execution_count": 4,
   "metadata": {
    "execution": {
     "iopub.execute_input": "2021-03-11T22:46:30.839998Z",
     "iopub.status.busy": "2021-03-11T22:46:30.838899Z",
     "iopub.status.idle": "2021-03-11T22:46:30.840668Z",
     "shell.execute_reply": "2021-03-11T22:46:30.841122Z"
    }
   },
   "outputs": [],
   "source": [
    "dataUrl = f'https://public.tableau.com{tableauData[\"vizql_root\"]}/bootstrapSession/sessions/{tableauData[\"sessionid\"]}'"
   ]
  },
  {
   "cell_type": "code",
   "execution_count": 5,
   "metadata": {
    "execution": {
     "iopub.execute_input": "2021-03-11T22:46:30.845769Z",
     "iopub.status.busy": "2021-03-11T22:46:30.845244Z",
     "iopub.status.idle": "2021-03-11T22:46:31.077971Z",
     "shell.execute_reply": "2021-03-11T22:46:31.077268Z"
    }
   },
   "outputs": [],
   "source": [
    "r = requests.post(dataUrl, data= {\n",
    "    \"sheet_id\": tableauData[\"sheetId\"],\n",
    "})\n",
    "\n",
    "dataReg = re.search('\\d+;({.*})\\d+;({.*})', r.text, re.MULTILINE)\n",
    "data1 = json.loads(dataReg.group(2))\n",
    "\n",
    "dataJson = data1[\"secondaryInfo\"][\"presModelMap\"][\"dataDictionary\"][\"presModelHolder\"][\"genDataDictionaryPresModel\"][\"dataSegments\"][\"0\"][\"dataColumns\"]"
   ]
  },
  {
   "cell_type": "markdown",
   "metadata": {},
   "source": [
    "Isolate what you want"
   ]
  },
  {
   "cell_type": "code",
   "execution_count": 6,
   "metadata": {
    "execution": {
     "iopub.execute_input": "2021-03-11T22:46:31.082753Z",
     "iopub.status.busy": "2021-03-11T22:46:31.081621Z",
     "iopub.status.idle": "2021-03-11T22:46:31.083356Z",
     "shell.execute_reply": "2021-03-11T22:46:31.083783Z"
    }
   },
   "outputs": [],
   "source": [
    "counties = dataJson[2]['dataValues'][:58]"
   ]
  },
  {
   "cell_type": "code",
   "execution_count": 7,
   "metadata": {
    "execution": {
     "iopub.execute_input": "2021-03-11T22:46:31.088257Z",
     "iopub.status.busy": "2021-03-11T22:46:31.087046Z",
     "iopub.status.idle": "2021-03-11T22:46:31.088918Z",
     "shell.execute_reply": "2021-03-11T22:46:31.089399Z"
    }
   },
   "outputs": [],
   "source": [
    "doses = dataJson[0]['dataValues'][3:61]"
   ]
  },
  {
   "cell_type": "markdown",
   "metadata": {},
   "source": [
    "Data formatting"
   ]
  },
  {
   "cell_type": "code",
   "execution_count": 8,
   "metadata": {
    "execution": {
     "iopub.execute_input": "2021-03-11T22:46:31.093302Z",
     "iopub.status.busy": "2021-03-11T22:46:31.092372Z",
     "iopub.status.idle": "2021-03-11T22:46:31.094582Z",
     "shell.execute_reply": "2021-03-11T22:46:31.094146Z"
    }
   },
   "outputs": [],
   "source": [
    "zipped = dict(zip(counties, doses))"
   ]
  },
  {
   "cell_type": "code",
   "execution_count": 9,
   "metadata": {
    "execution": {
     "iopub.execute_input": "2021-03-11T22:46:31.104146Z",
     "iopub.status.busy": "2021-03-11T22:46:31.103086Z",
     "iopub.status.idle": "2021-03-11T22:46:31.104841Z",
     "shell.execute_reply": "2021-03-11T22:46:31.105301Z"
    }
   },
   "outputs": [],
   "source": [
    "df = pd.Series(zipped).reset_index()"
   ]
  },
  {
   "cell_type": "code",
   "execution_count": 10,
   "metadata": {
    "execution": {
     "iopub.execute_input": "2021-03-11T22:46:31.109268Z",
     "iopub.status.busy": "2021-03-11T22:46:31.108722Z",
     "iopub.status.idle": "2021-03-11T22:46:31.113205Z",
     "shell.execute_reply": "2021-03-11T22:46:31.113622Z"
    }
   },
   "outputs": [],
   "source": [
    "df.columns = ['location','doses']"
   ]
  },
  {
   "cell_type": "markdown",
   "metadata": {},
   "source": [
    "Grab the overall California total"
   ]
  },
  {
   "cell_type": "code",
   "execution_count": 11,
   "metadata": {
    "execution": {
     "iopub.execute_input": "2021-03-11T22:46:31.117876Z",
     "iopub.status.busy": "2021-03-11T22:46:31.116832Z",
     "iopub.status.idle": "2021-03-11T22:46:31.118655Z",
     "shell.execute_reply": "2021-03-11T22:46:31.119087Z"
    }
   },
   "outputs": [],
   "source": [
    "add = {'location':'California','doses':dataJson[0]['dataValues'][2]}"
   ]
  },
  {
   "cell_type": "code",
   "execution_count": 12,
   "metadata": {
    "execution": {
     "iopub.execute_input": "2021-03-11T22:46:31.126876Z",
     "iopub.status.busy": "2021-03-11T22:46:31.125930Z",
     "iopub.status.idle": "2021-03-11T22:46:31.128159Z",
     "shell.execute_reply": "2021-03-11T22:46:31.127717Z"
    }
   },
   "outputs": [],
   "source": [
    "df = df.append(add, ignore_index=True)"
   ]
  },
  {
   "cell_type": "code",
   "execution_count": 13,
   "metadata": {
    "execution": {
     "iopub.execute_input": "2021-03-11T22:46:31.136461Z",
     "iopub.status.busy": "2021-03-11T22:46:31.135209Z",
     "iopub.status.idle": "2021-03-11T22:46:31.137093Z",
     "shell.execute_reply": "2021-03-11T22:46:31.137534Z"
    }
   },
   "outputs": [],
   "source": [
    "df = df.sort_values(by='location')"
   ]
  },
  {
   "cell_type": "code",
   "execution_count": 14,
   "metadata": {
    "execution": {
     "iopub.execute_input": "2021-03-11T22:46:31.144621Z",
     "iopub.status.busy": "2021-03-11T22:46:31.143352Z",
     "iopub.status.idle": "2021-03-11T22:46:31.145251Z",
     "shell.execute_reply": "2021-03-11T22:46:31.145689Z"
    }
   },
   "outputs": [],
   "source": [
    "df = df[df.location == 'California'].append(df[df.location != 'California']).reset_index(drop=True)"
   ]
  },
  {
   "cell_type": "code",
   "execution_count": null,
   "metadata": {},
   "outputs": [],
   "source": []
  },
  {
   "cell_type": "code",
   "execution_count": 15,
   "metadata": {
    "execution": {
     "iopub.execute_input": "2021-03-11T22:46:31.151341Z",
     "iopub.status.busy": "2021-03-11T22:46:31.150811Z",
     "iopub.status.idle": "2021-03-11T22:46:31.170115Z",
     "shell.execute_reply": "2021-03-11T22:46:31.169640Z"
    }
   },
   "outputs": [],
   "source": [
    "tz = pytz.timezone(\"America/New_York\")"
   ]
  },
  {
   "cell_type": "code",
   "execution_count": 16,
   "metadata": {
    "execution": {
     "iopub.execute_input": "2021-03-11T22:46:31.174797Z",
     "iopub.status.busy": "2021-03-11T22:46:31.173856Z",
     "iopub.status.idle": "2021-03-11T22:46:31.176191Z",
     "shell.execute_reply": "2021-03-11T22:46:31.175723Z"
    }
   },
   "outputs": [],
   "source": [
    "today = datetime.now(tz).date()"
   ]
  },
  {
   "cell_type": "code",
   "execution_count": 17,
   "metadata": {
    "execution": {
     "iopub.execute_input": "2021-03-11T22:46:31.182629Z",
     "iopub.status.busy": "2021-03-11T22:46:31.181411Z",
     "iopub.status.idle": "2021-03-11T22:46:31.183304Z",
     "shell.execute_reply": "2021-03-11T22:46:31.183737Z"
    }
   },
   "outputs": [],
   "source": [
    "data_dir = os.path.join(os.path.abspath(\"\"), \"data\")"
   ]
  },
  {
   "cell_type": "code",
   "execution_count": 18,
   "metadata": {
    "execution": {
     "iopub.execute_input": "2021-03-11T22:46:31.188565Z",
     "iopub.status.busy": "2021-03-11T22:46:31.187364Z",
     "iopub.status.idle": "2021-03-11T22:46:31.192186Z",
     "shell.execute_reply": "2021-03-11T22:46:31.191658Z"
    }
   },
   "outputs": [],
   "source": [
    "df.to_csv(os.path.join(data_dir, f\"{today}.csv\"), index=False)"
   ]
  },
  {
   "cell_type": "code",
   "execution_count": null,
   "metadata": {},
   "outputs": [],
   "source": []
  }
 ],
 "metadata": {
  "kernelspec": {
   "display_name": "Python 3",
   "language": "python",
   "name": "python3"
  },
  "language_info": {
   "codemirror_mode": {
    "name": "ipython",
    "version": 3
   },
   "file_extension": ".py",
   "mimetype": "text/x-python",
   "name": "python",
   "nbconvert_exporter": "python",
   "pygments_lexer": "ipython3",
   "version": "3.8.8"
  }
 },
 "nbformat": 4,
 "nbformat_minor": 4
}
