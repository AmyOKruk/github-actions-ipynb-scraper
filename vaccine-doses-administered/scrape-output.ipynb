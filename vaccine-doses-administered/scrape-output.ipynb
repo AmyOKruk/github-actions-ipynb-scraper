{
 "cells": [
  {
   "cell_type": "markdown",
   "metadata": {},
   "source": [
    "# California COVID vaccinations scrape"
   ]
  },
  {
   "cell_type": "markdown",
   "metadata": {},
   "source": [
    "By [Amy O'Kruk](https://twitter.com/amyokruk)"
   ]
  },
  {
   "cell_type": "markdown",
   "metadata": {},
   "source": [
    "Downloads data on vaccine doses administered by county and statewide from a Tableau-powered dashboard from the California Department of Public Health."
   ]
  },
  {
   "cell_type": "code",
   "execution_count": 1,
   "metadata": {
    "execution": {
     "iopub.execute_input": "2021-03-22T12:56:54.228119Z",
     "iopub.status.busy": "2021-03-22T12:56:54.225846Z",
     "iopub.status.idle": "2021-03-22T12:56:54.721711Z",
     "shell.execute_reply": "2021-03-22T12:56:54.720673Z"
    }
   },
   "outputs": [],
   "source": [
    "import pandas as pd\n",
    "import requests\n",
    "from bs4 import BeautifulSoup\n",
    "import json\n",
    "import re\n",
    "import time\n",
    "from time import gmtime, strftime \n",
    "import os\n",
    "import pytz\n",
    "from datetime import datetime"
   ]
  },
  {
   "cell_type": "markdown",
   "metadata": {},
   "source": [
    "Scrape the dashboard page"
   ]
  },
  {
   "cell_type": "code",
   "execution_count": 2,
   "metadata": {
    "execution": {
     "iopub.execute_input": "2021-03-22T12:56:54.729299Z",
     "iopub.status.busy": "2021-03-22T12:56:54.728569Z",
     "iopub.status.idle": "2021-03-22T12:56:55.193424Z",
     "shell.execute_reply": "2021-03-22T12:56:55.192917Z"
    }
   },
   "outputs": [],
   "source": [
    "url = \"https://public.tableau.com/interactive/views/COVID-19VaccineDashboardPublic/Vaccine?:embed=y&:showVizHome=n&:apiID=host0\"\n",
    "\n",
    "r = requests.get(url)\n",
    "soup = BeautifulSoup(r.text, \"html.parser\")"
   ]
  },
  {
   "cell_type": "code",
   "execution_count": 3,
   "metadata": {
    "execution": {
     "iopub.execute_input": "2021-03-22T12:56:55.198576Z",
     "iopub.status.busy": "2021-03-22T12:56:55.198034Z",
     "iopub.status.idle": "2021-03-22T12:56:55.201809Z",
     "shell.execute_reply": "2021-03-22T12:56:55.201354Z"
    }
   },
   "outputs": [],
   "source": [
    "tableauData = json.loads(soup.find(\"textarea\",{\"id\": \"tsConfigContainer\"}).text)"
   ]
  },
  {
   "cell_type": "markdown",
   "metadata": {},
   "source": [
    "Get the link to the Tableau data"
   ]
  },
  {
   "cell_type": "code",
   "execution_count": 4,
   "metadata": {
    "execution": {
     "iopub.execute_input": "2021-03-22T12:56:55.205582Z",
     "iopub.status.busy": "2021-03-22T12:56:55.205037Z",
     "iopub.status.idle": "2021-03-22T12:56:55.208770Z",
     "shell.execute_reply": "2021-03-22T12:56:55.208280Z"
    }
   },
   "outputs": [],
   "source": [
    "dataUrl = f'https://public.tableau.com{tableauData[\"vizql_root\"]}/bootstrapSession/sessions/{tableauData[\"sessionid\"]}'"
   ]
  },
  {
   "cell_type": "code",
   "execution_count": 5,
   "metadata": {
    "execution": {
     "iopub.execute_input": "2021-03-22T12:56:55.215593Z",
     "iopub.status.busy": "2021-03-22T12:56:55.214997Z",
     "iopub.status.idle": "2021-03-22T12:56:57.209799Z",
     "shell.execute_reply": "2021-03-22T12:56:57.210342Z"
    }
   },
   "outputs": [],
   "source": [
    "r = requests.post(dataUrl, data= {\n",
    "    \"sheet_id\": tableauData[\"sheetId\"],\n",
    "})\n",
    "\n",
    "dataReg = re.search('\\d+;({.*})\\d+;({.*})', r.text, re.MULTILINE)\n",
    "data1 = json.loads(dataReg.group(2))\n",
    "\n",
    "dataJson = data1[\"secondaryInfo\"][\"presModelMap\"][\"dataDictionary\"][\"presModelHolder\"][\"genDataDictionaryPresModel\"][\"dataSegments\"][\"0\"][\"dataColumns\"]"
   ]
  },
  {
   "cell_type": "markdown",
   "metadata": {},
   "source": [
    "Isolate what you want"
   ]
  },
  {
   "cell_type": "code",
   "execution_count": 6,
   "metadata": {
    "execution": {
     "iopub.execute_input": "2021-03-22T12:56:57.214559Z",
     "iopub.status.busy": "2021-03-22T12:56:57.214009Z",
     "iopub.status.idle": "2021-03-22T12:56:57.217463Z",
     "shell.execute_reply": "2021-03-22T12:56:57.217875Z"
    }
   },
   "outputs": [],
   "source": [
    "counties = dataJson[2]['dataValues'][:58]"
   ]
  },
  {
   "cell_type": "code",
   "execution_count": 7,
   "metadata": {
    "execution": {
     "iopub.execute_input": "2021-03-22T12:56:57.222395Z",
     "iopub.status.busy": "2021-03-22T12:56:57.221132Z",
     "iopub.status.idle": "2021-03-22T12:56:57.223115Z",
     "shell.execute_reply": "2021-03-22T12:56:57.223547Z"
    }
   },
   "outputs": [],
   "source": [
    "doses = dataJson[0]['dataValues'][3:61]"
   ]
  },
  {
   "cell_type": "markdown",
   "metadata": {},
   "source": [
    "Data formatting"
   ]
  },
  {
   "cell_type": "code",
   "execution_count": 8,
   "metadata": {
    "execution": {
     "iopub.execute_input": "2021-03-22T12:56:57.231523Z",
     "iopub.status.busy": "2021-03-22T12:56:57.230944Z",
     "iopub.status.idle": "2021-03-22T12:56:57.233559Z",
     "shell.execute_reply": "2021-03-22T12:56:57.233085Z"
    }
   },
   "outputs": [],
   "source": [
    "zipped = dict(zip(counties, doses))"
   ]
  },
  {
   "cell_type": "code",
   "execution_count": 9,
   "metadata": {
    "execution": {
     "iopub.execute_input": "2021-03-22T12:56:57.240923Z",
     "iopub.status.busy": "2021-03-22T12:56:57.239163Z",
     "iopub.status.idle": "2021-03-22T12:56:57.241619Z",
     "shell.execute_reply": "2021-03-22T12:56:57.242136Z"
    }
   },
   "outputs": [],
   "source": [
    "df = pd.Series(zipped).reset_index()"
   ]
  },
  {
   "cell_type": "code",
   "execution_count": 10,
   "metadata": {
    "execution": {
     "iopub.execute_input": "2021-03-22T12:56:57.246955Z",
     "iopub.status.busy": "2021-03-22T12:56:57.245547Z",
     "iopub.status.idle": "2021-03-22T12:56:57.247662Z",
     "shell.execute_reply": "2021-03-22T12:56:57.248110Z"
    }
   },
   "outputs": [],
   "source": [
    "df.columns = ['location','doses']"
   ]
  },
  {
   "cell_type": "markdown",
   "metadata": {},
   "source": [
    "Grab the overall California total"
   ]
  },
  {
   "cell_type": "code",
   "execution_count": 11,
   "metadata": {
    "execution": {
     "iopub.execute_input": "2021-03-22T12:56:57.254741Z",
     "iopub.status.busy": "2021-03-22T12:56:57.253011Z",
     "iopub.status.idle": "2021-03-22T12:56:57.255443Z",
     "shell.execute_reply": "2021-03-22T12:56:57.255934Z"
    }
   },
   "outputs": [],
   "source": [
    "add = {'location':'California','doses':dataJson[0]['dataValues'][2]}"
   ]
  },
  {
   "cell_type": "code",
   "execution_count": 12,
   "metadata": {
    "execution": {
     "iopub.execute_input": "2021-03-22T12:56:57.264005Z",
     "iopub.status.busy": "2021-03-22T12:56:57.262338Z",
     "iopub.status.idle": "2021-03-22T12:56:57.264928Z",
     "shell.execute_reply": "2021-03-22T12:56:57.265406Z"
    }
   },
   "outputs": [],
   "source": [
    "df = df.append(add, ignore_index=True)"
   ]
  },
  {
   "cell_type": "code",
   "execution_count": 13,
   "metadata": {
    "execution": {
     "iopub.execute_input": "2021-03-22T12:56:57.271445Z",
     "iopub.status.busy": "2021-03-22T12:56:57.270135Z",
     "iopub.status.idle": "2021-03-22T12:56:57.272301Z",
     "shell.execute_reply": "2021-03-22T12:56:57.272816Z"
    }
   },
   "outputs": [],
   "source": [
    "df = df.sort_values(by='location')"
   ]
  },
  {
   "cell_type": "code",
   "execution_count": 14,
   "metadata": {
    "execution": {
     "iopub.execute_input": "2021-03-22T12:56:57.279680Z",
     "iopub.status.busy": "2021-03-22T12:56:57.278217Z",
     "iopub.status.idle": "2021-03-22T12:56:57.280420Z",
     "shell.execute_reply": "2021-03-22T12:56:57.280911Z"
    }
   },
   "outputs": [],
   "source": [
    "df = df[df.location == 'California'].append(df[df.location != 'California']).reset_index(drop=True)"
   ]
  },
  {
   "cell_type": "code",
   "execution_count": null,
   "metadata": {},
   "outputs": [],
   "source": []
  },
  {
   "cell_type": "code",
   "execution_count": 15,
   "metadata": {
    "execution": {
     "iopub.execute_input": "2021-03-22T12:56:57.284320Z",
     "iopub.status.busy": "2021-03-22T12:56:57.283816Z",
     "iopub.status.idle": "2021-03-22T12:56:57.303944Z",
     "shell.execute_reply": "2021-03-22T12:56:57.303390Z"
    }
   },
   "outputs": [],
   "source": [
    "tz = pytz.timezone(\"America/New_York\")"
   ]
  },
  {
   "cell_type": "code",
   "execution_count": 16,
   "metadata": {
    "execution": {
     "iopub.execute_input": "2021-03-22T12:56:57.308704Z",
     "iopub.status.busy": "2021-03-22T12:56:57.307248Z",
     "iopub.status.idle": "2021-03-22T12:56:57.309375Z",
     "shell.execute_reply": "2021-03-22T12:56:57.309885Z"
    }
   },
   "outputs": [],
   "source": [
    "today = datetime.now(tz).date()"
   ]
  },
  {
   "cell_type": "code",
   "execution_count": 17,
   "metadata": {
    "execution": {
     "iopub.execute_input": "2021-03-22T12:56:57.314781Z",
     "iopub.status.busy": "2021-03-22T12:56:57.313403Z",
     "iopub.status.idle": "2021-03-22T12:56:57.315391Z",
     "shell.execute_reply": "2021-03-22T12:56:57.315847Z"
    }
   },
   "outputs": [],
   "source": [
    "data_dir = os.path.join(os.path.abspath(\"\"), \"data\")"
   ]
  },
  {
   "cell_type": "code",
   "execution_count": 18,
   "metadata": {
    "execution": {
     "iopub.execute_input": "2021-03-22T12:56:57.320437Z",
     "iopub.status.busy": "2021-03-22T12:56:57.319276Z",
     "iopub.status.idle": "2021-03-22T12:56:57.323348Z",
     "shell.execute_reply": "2021-03-22T12:56:57.323801Z"
    }
   },
   "outputs": [],
   "source": [
    "df.to_csv(os.path.join(data_dir, f\"{today}.csv\"), index=False)"
   ]
  },
  {
   "cell_type": "code",
   "execution_count": null,
   "metadata": {},
   "outputs": [],
   "source": []
  }
 ],
 "metadata": {
  "kernelspec": {
   "display_name": "Python 3",
   "language": "python",
   "name": "python3"
  },
  "language_info": {
   "codemirror_mode": {
    "name": "ipython",
    "version": 3
   },
   "file_extension": ".py",
   "mimetype": "text/x-python",
   "name": "python",
   "nbconvert_exporter": "python",
   "pygments_lexer": "ipython3",
   "version": "3.8.8"
  }
 },
 "nbformat": 4,
 "nbformat_minor": 4
}
