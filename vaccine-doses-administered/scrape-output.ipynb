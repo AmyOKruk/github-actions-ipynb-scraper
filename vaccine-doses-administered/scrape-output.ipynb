{
 "cells": [
  {
   "cell_type": "markdown",
   "metadata": {},
   "source": [
    "# California COVID vaccinations scrape"
   ]
  },
  {
   "cell_type": "markdown",
   "metadata": {},
   "source": [
    "By [Amy O'Kruk](https://twitter.com/amyokruk)"
   ]
  },
  {
   "cell_type": "markdown",
   "metadata": {},
   "source": [
    "Downloads data on vaccine doses administered by county and statewide from a Tableau-powered dashboard from the California Department of Public Health."
   ]
  },
  {
   "cell_type": "code",
   "execution_count": 1,
   "metadata": {
    "execution": {
     "iopub.execute_input": "2021-03-12T12:16:38.190250Z",
     "iopub.status.busy": "2021-03-12T12:16:38.189622Z",
     "iopub.status.idle": "2021-03-12T12:16:38.594860Z",
     "shell.execute_reply": "2021-03-12T12:16:38.595381Z"
    }
   },
   "outputs": [],
   "source": [
    "import pandas as pd\n",
    "import requests\n",
    "from bs4 import BeautifulSoup\n",
    "import json\n",
    "import re\n",
    "import time\n",
    "from time import gmtime, strftime \n",
    "import os\n",
    "import pytz\n",
    "from datetime import datetime"
   ]
  },
  {
   "cell_type": "markdown",
   "metadata": {},
   "source": [
    "Scrape the dashboard page"
   ]
  },
  {
   "cell_type": "code",
   "execution_count": 2,
   "metadata": {
    "execution": {
     "iopub.execute_input": "2021-03-12T12:16:38.602474Z",
     "iopub.status.busy": "2021-03-12T12:16:38.601894Z",
     "iopub.status.idle": "2021-03-12T12:16:38.942165Z",
     "shell.execute_reply": "2021-03-12T12:16:38.941640Z"
    }
   },
   "outputs": [],
   "source": [
    "url = \"https://public.tableau.com/interactive/views/COVID-19VaccineDashboardPublic/Vaccine?:embed=y&:showVizHome=n&:apiID=host0\"\n",
    "\n",
    "r = requests.get(url)\n",
    "soup = BeautifulSoup(r.text, \"html.parser\")"
   ]
  },
  {
   "cell_type": "code",
   "execution_count": 3,
   "metadata": {
    "execution": {
     "iopub.execute_input": "2021-03-12T12:16:38.948339Z",
     "iopub.status.busy": "2021-03-12T12:16:38.946981Z",
     "iopub.status.idle": "2021-03-12T12:16:38.948954Z",
     "shell.execute_reply": "2021-03-12T12:16:38.949385Z"
    }
   },
   "outputs": [],
   "source": [
    "tableauData = json.loads(soup.find(\"textarea\",{\"id\": \"tsConfigContainer\"}).text)"
   ]
  },
  {
   "cell_type": "markdown",
   "metadata": {},
   "source": [
    "Get the link to the Tableau data"
   ]
  },
  {
   "cell_type": "code",
   "execution_count": 4,
   "metadata": {
    "execution": {
     "iopub.execute_input": "2021-03-12T12:16:38.954251Z",
     "iopub.status.busy": "2021-03-12T12:16:38.952807Z",
     "iopub.status.idle": "2021-03-12T12:16:38.954860Z",
     "shell.execute_reply": "2021-03-12T12:16:38.955288Z"
    }
   },
   "outputs": [],
   "source": [
    "dataUrl = f'https://public.tableau.com{tableauData[\"vizql_root\"]}/bootstrapSession/sessions/{tableauData[\"sessionid\"]}'"
   ]
  },
  {
   "cell_type": "code",
   "execution_count": 5,
   "metadata": {
    "execution": {
     "iopub.execute_input": "2021-03-12T12:16:38.962187Z",
     "iopub.status.busy": "2021-03-12T12:16:38.961643Z",
     "iopub.status.idle": "2021-03-12T12:16:39.198521Z",
     "shell.execute_reply": "2021-03-12T12:16:39.197980Z"
    }
   },
   "outputs": [],
   "source": [
    "r = requests.post(dataUrl, data= {\n",
    "    \"sheet_id\": tableauData[\"sheetId\"],\n",
    "})\n",
    "\n",
    "dataReg = re.search('\\d+;({.*})\\d+;({.*})', r.text, re.MULTILINE)\n",
    "data1 = json.loads(dataReg.group(2))\n",
    "\n",
    "dataJson = data1[\"secondaryInfo\"][\"presModelMap\"][\"dataDictionary\"][\"presModelHolder\"][\"genDataDictionaryPresModel\"][\"dataSegments\"][\"0\"][\"dataColumns\"]"
   ]
  },
  {
   "cell_type": "markdown",
   "metadata": {},
   "source": [
    "Isolate what you want"
   ]
  },
  {
   "cell_type": "code",
   "execution_count": 6,
   "metadata": {
    "execution": {
     "iopub.execute_input": "2021-03-12T12:16:39.202496Z",
     "iopub.status.busy": "2021-03-12T12:16:39.201970Z",
     "iopub.status.idle": "2021-03-12T12:16:39.205435Z",
     "shell.execute_reply": "2021-03-12T12:16:39.205014Z"
    }
   },
   "outputs": [],
   "source": [
    "counties = dataJson[2]['dataValues'][:58]"
   ]
  },
  {
   "cell_type": "code",
   "execution_count": 7,
   "metadata": {
    "execution": {
     "iopub.execute_input": "2021-03-12T12:16:39.209738Z",
     "iopub.status.busy": "2021-03-12T12:16:39.208619Z",
     "iopub.status.idle": "2021-03-12T12:16:39.210405Z",
     "shell.execute_reply": "2021-03-12T12:16:39.210751Z"
    }
   },
   "outputs": [],
   "source": [
    "doses = dataJson[0]['dataValues'][3:61]"
   ]
  },
  {
   "cell_type": "markdown",
   "metadata": {},
   "source": [
    "Data formatting"
   ]
  },
  {
   "cell_type": "code",
   "execution_count": 8,
   "metadata": {
    "execution": {
     "iopub.execute_input": "2021-03-12T12:16:39.214078Z",
     "iopub.status.busy": "2021-03-12T12:16:39.213184Z",
     "iopub.status.idle": "2021-03-12T12:16:39.215457Z",
     "shell.execute_reply": "2021-03-12T12:16:39.215037Z"
    }
   },
   "outputs": [],
   "source": [
    "zipped = dict(zip(counties, doses))"
   ]
  },
  {
   "cell_type": "code",
   "execution_count": 9,
   "metadata": {
    "execution": {
     "iopub.execute_input": "2021-03-12T12:16:39.222179Z",
     "iopub.status.busy": "2021-03-12T12:16:39.220979Z",
     "iopub.status.idle": "2021-03-12T12:16:39.222760Z",
     "shell.execute_reply": "2021-03-12T12:16:39.223160Z"
    }
   },
   "outputs": [],
   "source": [
    "df = pd.Series(zipped).reset_index()"
   ]
  },
  {
   "cell_type": "code",
   "execution_count": 10,
   "metadata": {
    "execution": {
     "iopub.execute_input": "2021-03-12T12:16:39.227344Z",
     "iopub.status.busy": "2021-03-12T12:16:39.226176Z",
     "iopub.status.idle": "2021-03-12T12:16:39.227936Z",
     "shell.execute_reply": "2021-03-12T12:16:39.228376Z"
    }
   },
   "outputs": [],
   "source": [
    "df.columns = ['location','doses']"
   ]
  },
  {
   "cell_type": "markdown",
   "metadata": {},
   "source": [
    "Grab the overall California total"
   ]
  },
  {
   "cell_type": "code",
   "execution_count": 11,
   "metadata": {
    "execution": {
     "iopub.execute_input": "2021-03-12T12:16:39.232619Z",
     "iopub.status.busy": "2021-03-12T12:16:39.231434Z",
     "iopub.status.idle": "2021-03-12T12:16:39.233101Z",
     "shell.execute_reply": "2021-03-12T12:16:39.233407Z"
    }
   },
   "outputs": [],
   "source": [
    "add = {'location':'California','doses':dataJson[0]['dataValues'][2]}"
   ]
  },
  {
   "cell_type": "code",
   "execution_count": 12,
   "metadata": {
    "execution": {
     "iopub.execute_input": "2021-03-12T12:16:39.239853Z",
     "iopub.status.busy": "2021-03-12T12:16:39.239184Z",
     "iopub.status.idle": "2021-03-12T12:16:39.240949Z",
     "shell.execute_reply": "2021-03-12T12:16:39.240548Z"
    }
   },
   "outputs": [],
   "source": [
    "df = df.append(add, ignore_index=True)"
   ]
  },
  {
   "cell_type": "code",
   "execution_count": 13,
   "metadata": {
    "execution": {
     "iopub.execute_input": "2021-03-12T12:16:39.245616Z",
     "iopub.status.busy": "2021-03-12T12:16:39.244530Z",
     "iopub.status.idle": "2021-03-12T12:16:39.246474Z",
     "shell.execute_reply": "2021-03-12T12:16:39.246889Z"
    }
   },
   "outputs": [],
   "source": [
    "df = df.sort_values(by='location')"
   ]
  },
  {
   "cell_type": "code",
   "execution_count": 14,
   "metadata": {
    "execution": {
     "iopub.execute_input": "2021-03-12T12:16:39.252833Z",
     "iopub.status.busy": "2021-03-12T12:16:39.251523Z",
     "iopub.status.idle": "2021-03-12T12:16:39.253446Z",
     "shell.execute_reply": "2021-03-12T12:16:39.253868Z"
    }
   },
   "outputs": [],
   "source": [
    "df = df[df.location == 'California'].append(df[df.location != 'California']).reset_index(drop=True)"
   ]
  },
  {
   "cell_type": "code",
   "execution_count": null,
   "metadata": {},
   "outputs": [],
   "source": []
  },
  {
   "cell_type": "code",
   "execution_count": 15,
   "metadata": {
    "execution": {
     "iopub.execute_input": "2021-03-12T12:16:39.257296Z",
     "iopub.status.busy": "2021-03-12T12:16:39.256761Z",
     "iopub.status.idle": "2021-03-12T12:16:39.273688Z",
     "shell.execute_reply": "2021-03-12T12:16:39.273247Z"
    }
   },
   "outputs": [],
   "source": [
    "tz = pytz.timezone(\"America/New_York\")"
   ]
  },
  {
   "cell_type": "code",
   "execution_count": 16,
   "metadata": {
    "execution": {
     "iopub.execute_input": "2021-03-12T12:16:39.277661Z",
     "iopub.status.busy": "2021-03-12T12:16:39.276644Z",
     "iopub.status.idle": "2021-03-12T12:16:39.278183Z",
     "shell.execute_reply": "2021-03-12T12:16:39.278538Z"
    }
   },
   "outputs": [],
   "source": [
    "today = datetime.now(tz).date()"
   ]
  },
  {
   "cell_type": "code",
   "execution_count": 17,
   "metadata": {
    "execution": {
     "iopub.execute_input": "2021-03-12T12:16:39.282870Z",
     "iopub.status.busy": "2021-03-12T12:16:39.281691Z",
     "iopub.status.idle": "2021-03-12T12:16:39.283478Z",
     "shell.execute_reply": "2021-03-12T12:16:39.283909Z"
    }
   },
   "outputs": [],
   "source": [
    "data_dir = os.path.join(os.path.abspath(\"\"), \"data\")"
   ]
  },
  {
   "cell_type": "code",
   "execution_count": 18,
   "metadata": {
    "execution": {
     "iopub.execute_input": "2021-03-12T12:16:39.287866Z",
     "iopub.status.busy": "2021-03-12T12:16:39.287168Z",
     "iopub.status.idle": "2021-03-12T12:16:39.292237Z",
     "shell.execute_reply": "2021-03-12T12:16:39.291724Z"
    }
   },
   "outputs": [],
   "source": [
    "df.to_csv(os.path.join(data_dir, f\"{today}.csv\"), index=False)"
   ]
  },
  {
   "cell_type": "code",
   "execution_count": null,
   "metadata": {},
   "outputs": [],
   "source": []
  }
 ],
 "metadata": {
  "kernelspec": {
   "display_name": "Python 3",
   "language": "python",
   "name": "python3"
  },
  "language_info": {
   "codemirror_mode": {
    "name": "ipython",
    "version": 3
   },
   "file_extension": ".py",
   "mimetype": "text/x-python",
   "name": "python",
   "nbconvert_exporter": "python",
   "pygments_lexer": "ipython3",
   "version": "3.8.8"
  }
 },
 "nbformat": 4,
 "nbformat_minor": 4
}
