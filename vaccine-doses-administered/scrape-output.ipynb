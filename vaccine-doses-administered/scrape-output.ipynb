{
 "cells": [
  {
   "cell_type": "markdown",
   "metadata": {},
   "source": [
    "# California COVID vaccinations scrape"
   ]
  },
  {
   "cell_type": "markdown",
   "metadata": {},
   "source": [
    "By [Amy O'Kruk](https://twitter.com/amyokruk)"
   ]
  },
  {
   "cell_type": "markdown",
   "metadata": {},
   "source": [
    "Downloads data on vaccine doses administered by county and statewide from a Tableau-powered dashboard from the California Department of Public Health."
   ]
  },
  {
   "cell_type": "code",
   "execution_count": 1,
   "metadata": {
    "execution": {
     "iopub.execute_input": "2021-03-23T13:50:33.275344Z",
     "iopub.status.busy": "2021-03-23T13:50:33.274653Z",
     "iopub.status.idle": "2021-03-23T13:50:33.697504Z",
     "shell.execute_reply": "2021-03-23T13:50:33.696944Z"
    }
   },
   "outputs": [],
   "source": [
    "import pandas as pd\n",
    "import requests\n",
    "from bs4 import BeautifulSoup\n",
    "import json\n",
    "import re\n",
    "import time\n",
    "from time import gmtime, strftime \n",
    "import os\n",
    "import pytz\n",
    "from datetime import datetime"
   ]
  },
  {
   "cell_type": "markdown",
   "metadata": {},
   "source": [
    "Scrape the dashboard page"
   ]
  },
  {
   "cell_type": "code",
   "execution_count": 2,
   "metadata": {
    "execution": {
     "iopub.execute_input": "2021-03-23T13:50:33.703655Z",
     "iopub.status.busy": "2021-03-23T13:50:33.700958Z",
     "iopub.status.idle": "2021-03-23T13:50:34.046119Z",
     "shell.execute_reply": "2021-03-23T13:50:34.046486Z"
    }
   },
   "outputs": [],
   "source": [
    "url = \"https://public.tableau.com/interactive/views/COVID-19VaccineDashboardPublic/Vaccine?:embed=y&:showVizHome=n&:apiID=host0\"\n",
    "\n",
    "r = requests.get(url)\n",
    "soup = BeautifulSoup(r.text, \"html.parser\")"
   ]
  },
  {
   "cell_type": "code",
   "execution_count": 3,
   "metadata": {
    "execution": {
     "iopub.execute_input": "2021-03-23T13:50:34.051242Z",
     "iopub.status.busy": "2021-03-23T13:50:34.050646Z",
     "iopub.status.idle": "2021-03-23T13:50:34.054527Z",
     "shell.execute_reply": "2021-03-23T13:50:34.054063Z"
    }
   },
   "outputs": [],
   "source": [
    "tableauData = json.loads(soup.find(\"textarea\",{\"id\": \"tsConfigContainer\"}).text)"
   ]
  },
  {
   "cell_type": "markdown",
   "metadata": {},
   "source": [
    "Get the link to the Tableau data"
   ]
  },
  {
   "cell_type": "code",
   "execution_count": 4,
   "metadata": {
    "execution": {
     "iopub.execute_input": "2021-03-23T13:50:34.058319Z",
     "iopub.status.busy": "2021-03-23T13:50:34.057732Z",
     "iopub.status.idle": "2021-03-23T13:50:34.062580Z",
     "shell.execute_reply": "2021-03-23T13:50:34.062138Z"
    }
   },
   "outputs": [],
   "source": [
    "dataUrl = f'https://public.tableau.com{tableauData[\"vizql_root\"]}/bootstrapSession/sessions/{tableauData[\"sessionid\"]}'"
   ]
  },
  {
   "cell_type": "code",
   "execution_count": 5,
   "metadata": {
    "execution": {
     "iopub.execute_input": "2021-03-23T13:50:34.069827Z",
     "iopub.status.busy": "2021-03-23T13:50:34.069210Z",
     "iopub.status.idle": "2021-03-23T13:50:34.322440Z",
     "shell.execute_reply": "2021-03-23T13:50:34.323020Z"
    }
   },
   "outputs": [],
   "source": [
    "r = requests.post(dataUrl, data= {\n",
    "    \"sheet_id\": tableauData[\"sheetId\"],\n",
    "})\n",
    "\n",
    "dataReg = re.search('\\d+;({.*})\\d+;({.*})', r.text, re.MULTILINE)\n",
    "data1 = json.loads(dataReg.group(2))\n",
    "\n",
    "dataJson = data1[\"secondaryInfo\"][\"presModelMap\"][\"dataDictionary\"][\"presModelHolder\"][\"genDataDictionaryPresModel\"][\"dataSegments\"][\"0\"][\"dataColumns\"]"
   ]
  },
  {
   "cell_type": "markdown",
   "metadata": {},
   "source": [
    "Isolate what you want"
   ]
  },
  {
   "cell_type": "code",
   "execution_count": 6,
   "metadata": {
    "execution": {
     "iopub.execute_input": "2021-03-23T13:50:34.327825Z",
     "iopub.status.busy": "2021-03-23T13:50:34.326490Z",
     "iopub.status.idle": "2021-03-23T13:50:34.328330Z",
     "shell.execute_reply": "2021-03-23T13:50:34.328707Z"
    }
   },
   "outputs": [],
   "source": [
    "counties = dataJson[2]['dataValues'][:58]"
   ]
  },
  {
   "cell_type": "code",
   "execution_count": 7,
   "metadata": {
    "execution": {
     "iopub.execute_input": "2021-03-23T13:50:34.332863Z",
     "iopub.status.busy": "2021-03-23T13:50:34.331702Z",
     "iopub.status.idle": "2021-03-23T13:50:34.333437Z",
     "shell.execute_reply": "2021-03-23T13:50:34.333887Z"
    }
   },
   "outputs": [],
   "source": [
    "doses = dataJson[0]['dataValues'][3:61]"
   ]
  },
  {
   "cell_type": "markdown",
   "metadata": {},
   "source": [
    "Data formatting"
   ]
  },
  {
   "cell_type": "code",
   "execution_count": 8,
   "metadata": {
    "execution": {
     "iopub.execute_input": "2021-03-23T13:50:34.337868Z",
     "iopub.status.busy": "2021-03-23T13:50:34.336978Z",
     "iopub.status.idle": "2021-03-23T13:50:34.339030Z",
     "shell.execute_reply": "2021-03-23T13:50:34.339482Z"
    }
   },
   "outputs": [],
   "source": [
    "zipped = dict(zip(counties, doses))"
   ]
  },
  {
   "cell_type": "code",
   "execution_count": 9,
   "metadata": {
    "execution": {
     "iopub.execute_input": "2021-03-23T13:50:34.344819Z",
     "iopub.status.busy": "2021-03-23T13:50:34.344338Z",
     "iopub.status.idle": "2021-03-23T13:50:34.347197Z",
     "shell.execute_reply": "2021-03-23T13:50:34.346513Z"
    }
   },
   "outputs": [],
   "source": [
    "df = pd.Series(zipped).reset_index()"
   ]
  },
  {
   "cell_type": "code",
   "execution_count": 10,
   "metadata": {
    "execution": {
     "iopub.execute_input": "2021-03-23T13:50:34.352263Z",
     "iopub.status.busy": "2021-03-23T13:50:34.350652Z",
     "iopub.status.idle": "2021-03-23T13:50:34.353010Z",
     "shell.execute_reply": "2021-03-23T13:50:34.353471Z"
    }
   },
   "outputs": [],
   "source": [
    "df.columns = ['location','doses']"
   ]
  },
  {
   "cell_type": "markdown",
   "metadata": {},
   "source": [
    "Grab the overall California total"
   ]
  },
  {
   "cell_type": "code",
   "execution_count": 11,
   "metadata": {
    "execution": {
     "iopub.execute_input": "2021-03-23T13:50:34.357754Z",
     "iopub.status.busy": "2021-03-23T13:50:34.356767Z",
     "iopub.status.idle": "2021-03-23T13:50:34.358867Z",
     "shell.execute_reply": "2021-03-23T13:50:34.359353Z"
    }
   },
   "outputs": [],
   "source": [
    "add = {'location':'California','doses':dataJson[0]['dataValues'][2]}"
   ]
  },
  {
   "cell_type": "code",
   "execution_count": 12,
   "metadata": {
    "execution": {
     "iopub.execute_input": "2021-03-23T13:50:34.365209Z",
     "iopub.status.busy": "2021-03-23T13:50:34.363682Z",
     "iopub.status.idle": "2021-03-23T13:50:34.367620Z",
     "shell.execute_reply": "2021-03-23T13:50:34.367115Z"
    }
   },
   "outputs": [],
   "source": [
    "df = df.append(add, ignore_index=True)"
   ]
  },
  {
   "cell_type": "code",
   "execution_count": 13,
   "metadata": {
    "execution": {
     "iopub.execute_input": "2021-03-23T13:50:34.373061Z",
     "iopub.status.busy": "2021-03-23T13:50:34.371705Z",
     "iopub.status.idle": "2021-03-23T13:50:34.373569Z",
     "shell.execute_reply": "2021-03-23T13:50:34.373944Z"
    }
   },
   "outputs": [],
   "source": [
    "df = df.sort_values(by='location')"
   ]
  },
  {
   "cell_type": "code",
   "execution_count": 14,
   "metadata": {
    "execution": {
     "iopub.execute_input": "2021-03-23T13:50:34.381002Z",
     "iopub.status.busy": "2021-03-23T13:50:34.379848Z",
     "iopub.status.idle": "2021-03-23T13:50:34.381613Z",
     "shell.execute_reply": "2021-03-23T13:50:34.382001Z"
    }
   },
   "outputs": [],
   "source": [
    "df = df[df.location == 'California'].append(df[df.location != 'California']).reset_index(drop=True)"
   ]
  },
  {
   "cell_type": "code",
   "execution_count": null,
   "metadata": {},
   "outputs": [],
   "source": []
  },
  {
   "cell_type": "code",
   "execution_count": 15,
   "metadata": {
    "execution": {
     "iopub.execute_input": "2021-03-23T13:50:34.386113Z",
     "iopub.status.busy": "2021-03-23T13:50:34.385474Z",
     "iopub.status.idle": "2021-03-23T13:50:34.403258Z",
     "shell.execute_reply": "2021-03-23T13:50:34.403741Z"
    }
   },
   "outputs": [],
   "source": [
    "tz = pytz.timezone(\"America/New_York\")"
   ]
  },
  {
   "cell_type": "code",
   "execution_count": 16,
   "metadata": {
    "execution": {
     "iopub.execute_input": "2021-03-23T13:50:34.407949Z",
     "iopub.status.busy": "2021-03-23T13:50:34.406666Z",
     "iopub.status.idle": "2021-03-23T13:50:34.408489Z",
     "shell.execute_reply": "2021-03-23T13:50:34.409039Z"
    }
   },
   "outputs": [],
   "source": [
    "today = datetime.now(tz).date()"
   ]
  },
  {
   "cell_type": "code",
   "execution_count": 17,
   "metadata": {
    "execution": {
     "iopub.execute_input": "2021-03-23T13:50:34.414008Z",
     "iopub.status.busy": "2021-03-23T13:50:34.412639Z",
     "iopub.status.idle": "2021-03-23T13:50:34.414755Z",
     "shell.execute_reply": "2021-03-23T13:50:34.415395Z"
    }
   },
   "outputs": [],
   "source": [
    "data_dir = os.path.join(os.path.abspath(\"\"), \"data\")"
   ]
  },
  {
   "cell_type": "code",
   "execution_count": 18,
   "metadata": {
    "execution": {
     "iopub.execute_input": "2021-03-23T13:50:34.420900Z",
     "iopub.status.busy": "2021-03-23T13:50:34.419111Z",
     "iopub.status.idle": "2021-03-23T13:50:34.426912Z",
     "shell.execute_reply": "2021-03-23T13:50:34.426336Z"
    }
   },
   "outputs": [],
   "source": [
    "df.to_csv(os.path.join(data_dir, f\"{today}.csv\"), index=False)"
   ]
  },
  {
   "cell_type": "code",
   "execution_count": null,
   "metadata": {},
   "outputs": [],
   "source": []
  }
 ],
 "metadata": {
  "kernelspec": {
   "display_name": "Python 3",
   "language": "python",
   "name": "python3"
  },
  "language_info": {
   "codemirror_mode": {
    "name": "ipython",
    "version": 3
   },
   "file_extension": ".py",
   "mimetype": "text/x-python",
   "name": "python",
   "nbconvert_exporter": "python",
   "pygments_lexer": "ipython3",
   "version": "3.8.8"
  }
 },
 "nbformat": 4,
 "nbformat_minor": 4
}
