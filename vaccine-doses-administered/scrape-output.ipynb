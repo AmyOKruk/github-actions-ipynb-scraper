{
 "cells": [
  {
   "cell_type": "markdown",
   "metadata": {},
   "source": [
    "# California COVID vaccinations scrape"
   ]
  },
  {
   "cell_type": "markdown",
   "metadata": {},
   "source": [
    "By [Amy O'Kruk](https://twitter.com/amyokruk)"
   ]
  },
  {
   "cell_type": "markdown",
   "metadata": {},
   "source": [
    "Downloads data on vaccine doses administered by county and statewide from a Tableau-powered dashboard from the California Department of Public Health."
   ]
  },
  {
   "cell_type": "code",
   "execution_count": 1,
   "metadata": {
    "execution": {
     "iopub.execute_input": "2021-03-19T19:10:38.973152Z",
     "iopub.status.busy": "2021-03-19T19:10:38.971740Z",
     "iopub.status.idle": "2021-03-19T19:10:39.394454Z",
     "shell.execute_reply": "2021-03-19T19:10:39.393461Z"
    }
   },
   "outputs": [],
   "source": [
    "import pandas as pd\n",
    "import requests\n",
    "from bs4 import BeautifulSoup\n",
    "import json\n",
    "import re\n",
    "import time\n",
    "from time import gmtime, strftime \n",
    "import os\n",
    "import pytz\n",
    "from datetime import datetime"
   ]
  },
  {
   "cell_type": "markdown",
   "metadata": {},
   "source": [
    "Scrape the dashboard page"
   ]
  },
  {
   "cell_type": "code",
   "execution_count": 2,
   "metadata": {
    "execution": {
     "iopub.execute_input": "2021-03-19T19:10:39.400770Z",
     "iopub.status.busy": "2021-03-19T19:10:39.398455Z",
     "iopub.status.idle": "2021-03-19T19:10:39.869831Z",
     "shell.execute_reply": "2021-03-19T19:10:39.868933Z"
    }
   },
   "outputs": [],
   "source": [
    "url = \"https://public.tableau.com/interactive/views/COVID-19VaccineDashboardPublic/Vaccine?:embed=y&:showVizHome=n&:apiID=host0\"\n",
    "\n",
    "r = requests.get(url)\n",
    "soup = BeautifulSoup(r.text, \"html.parser\")"
   ]
  },
  {
   "cell_type": "code",
   "execution_count": 3,
   "metadata": {
    "execution": {
     "iopub.execute_input": "2021-03-19T19:10:39.874770Z",
     "iopub.status.busy": "2021-03-19T19:10:39.874263Z",
     "iopub.status.idle": "2021-03-19T19:10:39.877419Z",
     "shell.execute_reply": "2021-03-19T19:10:39.877842Z"
    }
   },
   "outputs": [],
   "source": [
    "tableauData = json.loads(soup.find(\"textarea\",{\"id\": \"tsConfigContainer\"}).text)"
   ]
  },
  {
   "cell_type": "markdown",
   "metadata": {},
   "source": [
    "Get the link to the Tableau data"
   ]
  },
  {
   "cell_type": "code",
   "execution_count": 4,
   "metadata": {
    "execution": {
     "iopub.execute_input": "2021-03-19T19:10:39.881886Z",
     "iopub.status.busy": "2021-03-19T19:10:39.881319Z",
     "iopub.status.idle": "2021-03-19T19:10:39.885099Z",
     "shell.execute_reply": "2021-03-19T19:10:39.884634Z"
    }
   },
   "outputs": [],
   "source": [
    "dataUrl = f'https://public.tableau.com{tableauData[\"vizql_root\"]}/bootstrapSession/sessions/{tableauData[\"sessionid\"]}'"
   ]
  },
  {
   "cell_type": "code",
   "execution_count": 5,
   "metadata": {
    "execution": {
     "iopub.execute_input": "2021-03-19T19:10:39.892106Z",
     "iopub.status.busy": "2021-03-19T19:10:39.891509Z",
     "iopub.status.idle": "2021-03-19T19:10:40.170680Z",
     "shell.execute_reply": "2021-03-19T19:10:40.170089Z"
    }
   },
   "outputs": [],
   "source": [
    "r = requests.post(dataUrl, data= {\n",
    "    \"sheet_id\": tableauData[\"sheetId\"],\n",
    "})\n",
    "\n",
    "dataReg = re.search('\\d+;({.*})\\d+;({.*})', r.text, re.MULTILINE)\n",
    "data1 = json.loads(dataReg.group(2))\n",
    "\n",
    "dataJson = data1[\"secondaryInfo\"][\"presModelMap\"][\"dataDictionary\"][\"presModelHolder\"][\"genDataDictionaryPresModel\"][\"dataSegments\"][\"0\"][\"dataColumns\"]"
   ]
  },
  {
   "cell_type": "markdown",
   "metadata": {},
   "source": [
    "Isolate what you want"
   ]
  },
  {
   "cell_type": "code",
   "execution_count": 6,
   "metadata": {
    "execution": {
     "iopub.execute_input": "2021-03-19T19:10:40.174932Z",
     "iopub.status.busy": "2021-03-19T19:10:40.174314Z",
     "iopub.status.idle": "2021-03-19T19:10:40.178090Z",
     "shell.execute_reply": "2021-03-19T19:10:40.178532Z"
    }
   },
   "outputs": [],
   "source": [
    "counties = dataJson[2]['dataValues'][:58]"
   ]
  },
  {
   "cell_type": "code",
   "execution_count": 7,
   "metadata": {
    "execution": {
     "iopub.execute_input": "2021-03-19T19:10:40.182083Z",
     "iopub.status.busy": "2021-03-19T19:10:40.181541Z",
     "iopub.status.idle": "2021-03-19T19:10:40.185049Z",
     "shell.execute_reply": "2021-03-19T19:10:40.185487Z"
    }
   },
   "outputs": [],
   "source": [
    "doses = dataJson[0]['dataValues'][3:61]"
   ]
  },
  {
   "cell_type": "markdown",
   "metadata": {},
   "source": [
    "Data formatting"
   ]
  },
  {
   "cell_type": "code",
   "execution_count": 8,
   "metadata": {
    "execution": {
     "iopub.execute_input": "2021-03-19T19:10:40.189183Z",
     "iopub.status.busy": "2021-03-19T19:10:40.188603Z",
     "iopub.status.idle": "2021-03-19T19:10:40.196756Z",
     "shell.execute_reply": "2021-03-19T19:10:40.195821Z"
    }
   },
   "outputs": [],
   "source": [
    "zipped = dict(zip(counties, doses))"
   ]
  },
  {
   "cell_type": "code",
   "execution_count": 9,
   "metadata": {
    "execution": {
     "iopub.execute_input": "2021-03-19T19:10:40.203232Z",
     "iopub.status.busy": "2021-03-19T19:10:40.202601Z",
     "iopub.status.idle": "2021-03-19T19:10:40.206389Z",
     "shell.execute_reply": "2021-03-19T19:10:40.205927Z"
    }
   },
   "outputs": [],
   "source": [
    "df = pd.Series(zipped).reset_index()"
   ]
  },
  {
   "cell_type": "code",
   "execution_count": 10,
   "metadata": {
    "execution": {
     "iopub.execute_input": "2021-03-19T19:10:40.210357Z",
     "iopub.status.busy": "2021-03-19T19:10:40.209850Z",
     "iopub.status.idle": "2021-03-19T19:10:40.213344Z",
     "shell.execute_reply": "2021-03-19T19:10:40.212854Z"
    }
   },
   "outputs": [],
   "source": [
    "df.columns = ['location','doses']"
   ]
  },
  {
   "cell_type": "markdown",
   "metadata": {},
   "source": [
    "Grab the overall California total"
   ]
  },
  {
   "cell_type": "code",
   "execution_count": 11,
   "metadata": {
    "execution": {
     "iopub.execute_input": "2021-03-19T19:10:40.217465Z",
     "iopub.status.busy": "2021-03-19T19:10:40.215123Z",
     "iopub.status.idle": "2021-03-19T19:10:40.219707Z",
     "shell.execute_reply": "2021-03-19T19:10:40.219233Z"
    }
   },
   "outputs": [],
   "source": [
    "add = {'location':'California','doses':dataJson[0]['dataValues'][2]}"
   ]
  },
  {
   "cell_type": "code",
   "execution_count": 12,
   "metadata": {
    "execution": {
     "iopub.execute_input": "2021-03-19T19:10:40.229328Z",
     "iopub.status.busy": "2021-03-19T19:10:40.228752Z",
     "iopub.status.idle": "2021-03-19T19:10:40.233911Z",
     "shell.execute_reply": "2021-03-19T19:10:40.234387Z"
    }
   },
   "outputs": [],
   "source": [
    "df = df.append(add, ignore_index=True)"
   ]
  },
  {
   "cell_type": "code",
   "execution_count": 13,
   "metadata": {
    "execution": {
     "iopub.execute_input": "2021-03-19T19:10:40.240016Z",
     "iopub.status.busy": "2021-03-19T19:10:40.238603Z",
     "iopub.status.idle": "2021-03-19T19:10:40.240605Z",
     "shell.execute_reply": "2021-03-19T19:10:40.241032Z"
    }
   },
   "outputs": [],
   "source": [
    "df = df.sort_values(by='location')"
   ]
  },
  {
   "cell_type": "code",
   "execution_count": 14,
   "metadata": {
    "execution": {
     "iopub.execute_input": "2021-03-19T19:10:40.247911Z",
     "iopub.status.busy": "2021-03-19T19:10:40.246619Z",
     "iopub.status.idle": "2021-03-19T19:10:40.248527Z",
     "shell.execute_reply": "2021-03-19T19:10:40.248986Z"
    }
   },
   "outputs": [],
   "source": [
    "df = df[df.location == 'California'].append(df[df.location != 'California']).reset_index(drop=True)"
   ]
  },
  {
   "cell_type": "code",
   "execution_count": null,
   "metadata": {},
   "outputs": [],
   "source": []
  },
  {
   "cell_type": "code",
   "execution_count": 15,
   "metadata": {
    "execution": {
     "iopub.execute_input": "2021-03-19T19:10:40.252589Z",
     "iopub.status.busy": "2021-03-19T19:10:40.252020Z",
     "iopub.status.idle": "2021-03-19T19:10:40.270549Z",
     "shell.execute_reply": "2021-03-19T19:10:40.271006Z"
    }
   },
   "outputs": [],
   "source": [
    "tz = pytz.timezone(\"America/New_York\")"
   ]
  },
  {
   "cell_type": "code",
   "execution_count": 16,
   "metadata": {
    "execution": {
     "iopub.execute_input": "2021-03-19T19:10:40.275252Z",
     "iopub.status.busy": "2021-03-19T19:10:40.274010Z",
     "iopub.status.idle": "2021-03-19T19:10:40.275997Z",
     "shell.execute_reply": "2021-03-19T19:10:40.276474Z"
    }
   },
   "outputs": [],
   "source": [
    "today = datetime.now(tz).date()"
   ]
  },
  {
   "cell_type": "code",
   "execution_count": 17,
   "metadata": {
    "execution": {
     "iopub.execute_input": "2021-03-19T19:10:40.281055Z",
     "iopub.status.busy": "2021-03-19T19:10:40.279858Z",
     "iopub.status.idle": "2021-03-19T19:10:40.281713Z",
     "shell.execute_reply": "2021-03-19T19:10:40.282115Z"
    }
   },
   "outputs": [],
   "source": [
    "data_dir = os.path.join(os.path.abspath(\"\"), \"data\")"
   ]
  },
  {
   "cell_type": "code",
   "execution_count": 18,
   "metadata": {
    "execution": {
     "iopub.execute_input": "2021-03-19T19:10:40.286698Z",
     "iopub.status.busy": "2021-03-19T19:10:40.285770Z",
     "iopub.status.idle": "2021-03-19T19:10:40.289862Z",
     "shell.execute_reply": "2021-03-19T19:10:40.290302Z"
    }
   },
   "outputs": [],
   "source": [
    "df.to_csv(os.path.join(data_dir, f\"{today}.csv\"), index=False)"
   ]
  },
  {
   "cell_type": "code",
   "execution_count": null,
   "metadata": {},
   "outputs": [],
   "source": []
  }
 ],
 "metadata": {
  "kernelspec": {
   "display_name": "Python 3",
   "language": "python",
   "name": "python3"
  },
  "language_info": {
   "codemirror_mode": {
    "name": "ipython",
    "version": 3
   },
   "file_extension": ".py",
   "mimetype": "text/x-python",
   "name": "python",
   "nbconvert_exporter": "python",
   "pygments_lexer": "ipython3",
   "version": "3.8.8"
  }
 },
 "nbformat": 4,
 "nbformat_minor": 4
}
