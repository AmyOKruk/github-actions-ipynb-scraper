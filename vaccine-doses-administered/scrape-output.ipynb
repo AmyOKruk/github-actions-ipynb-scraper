{
 "cells": [
  {
   "cell_type": "markdown",
   "metadata": {},
   "source": [
    "# California COVID vaccinations scrape"
   ]
  },
  {
   "cell_type": "markdown",
   "metadata": {},
   "source": [
    "By [Amy O'Kruk](https://twitter.com/amyokruk)"
   ]
  },
  {
   "cell_type": "markdown",
   "metadata": {},
   "source": [
    "Downloads data on vaccine doses administered by county and statewide from a Tableau-powered dashboard from the California Department of Public Health."
   ]
  },
  {
   "cell_type": "code",
   "execution_count": 1,
   "metadata": {
    "execution": {
     "iopub.execute_input": "2021-03-25T06:55:23.982660Z",
     "iopub.status.busy": "2021-03-25T06:55:23.982006Z",
     "iopub.status.idle": "2021-03-25T06:55:24.383896Z",
     "shell.execute_reply": "2021-03-25T06:55:24.382959Z"
    }
   },
   "outputs": [],
   "source": [
    "import pandas as pd\n",
    "import requests\n",
    "from bs4 import BeautifulSoup\n",
    "import json\n",
    "import re\n",
    "import time\n",
    "from time import gmtime, strftime \n",
    "import os\n",
    "import pytz\n",
    "from datetime import datetime"
   ]
  },
  {
   "cell_type": "markdown",
   "metadata": {},
   "source": [
    "Scrape the dashboard page"
   ]
  },
  {
   "cell_type": "code",
   "execution_count": 2,
   "metadata": {
    "execution": {
     "iopub.execute_input": "2021-03-25T06:55:24.389978Z",
     "iopub.status.busy": "2021-03-25T06:55:24.387519Z",
     "iopub.status.idle": "2021-03-25T06:55:24.865190Z",
     "shell.execute_reply": "2021-03-25T06:55:24.864252Z"
    }
   },
   "outputs": [],
   "source": [
    "url = \"https://public.tableau.com/interactive/views/COVID-19VaccineDashboardPublic/Vaccine?:embed=y&:showVizHome=n&:apiID=host0\"\n",
    "\n",
    "r = requests.get(url)\n",
    "soup = BeautifulSoup(r.text, \"html.parser\")"
   ]
  },
  {
   "cell_type": "code",
   "execution_count": 3,
   "metadata": {
    "execution": {
     "iopub.execute_input": "2021-03-25T06:55:24.870032Z",
     "iopub.status.busy": "2021-03-25T06:55:24.869506Z",
     "iopub.status.idle": "2021-03-25T06:55:24.872515Z",
     "shell.execute_reply": "2021-03-25T06:55:24.872927Z"
    }
   },
   "outputs": [],
   "source": [
    "tableauData = json.loads(soup.find(\"textarea\",{\"id\": \"tsConfigContainer\"}).text)"
   ]
  },
  {
   "cell_type": "markdown",
   "metadata": {},
   "source": [
    "Get the link to the Tableau data"
   ]
  },
  {
   "cell_type": "code",
   "execution_count": 4,
   "metadata": {
    "execution": {
     "iopub.execute_input": "2021-03-25T06:55:24.876521Z",
     "iopub.status.busy": "2021-03-25T06:55:24.875971Z",
     "iopub.status.idle": "2021-03-25T06:55:24.880354Z",
     "shell.execute_reply": "2021-03-25T06:55:24.879899Z"
    }
   },
   "outputs": [],
   "source": [
    "dataUrl = f'https://public.tableau.com{tableauData[\"vizql_root\"]}/bootstrapSession/sessions/{tableauData[\"sessionid\"]}'"
   ]
  },
  {
   "cell_type": "code",
   "execution_count": 5,
   "metadata": {
    "execution": {
     "iopub.execute_input": "2021-03-25T06:55:24.887035Z",
     "iopub.status.busy": "2021-03-25T06:55:24.886491Z",
     "iopub.status.idle": "2021-03-25T06:55:25.192991Z",
     "shell.execute_reply": "2021-03-25T06:55:25.192387Z"
    }
   },
   "outputs": [],
   "source": [
    "r = requests.post(dataUrl, data= {\n",
    "    \"sheet_id\": tableauData[\"sheetId\"],\n",
    "})\n",
    "\n",
    "dataReg = re.search('\\d+;({.*})\\d+;({.*})', r.text, re.MULTILINE)\n",
    "data1 = json.loads(dataReg.group(2))\n",
    "\n",
    "dataJson = data1[\"secondaryInfo\"][\"presModelMap\"][\"dataDictionary\"][\"presModelHolder\"][\"genDataDictionaryPresModel\"][\"dataSegments\"][\"0\"][\"dataColumns\"]"
   ]
  },
  {
   "cell_type": "markdown",
   "metadata": {},
   "source": [
    "Isolate what you want"
   ]
  },
  {
   "cell_type": "code",
   "execution_count": 6,
   "metadata": {
    "execution": {
     "iopub.execute_input": "2021-03-25T06:55:25.197812Z",
     "iopub.status.busy": "2021-03-25T06:55:25.196545Z",
     "iopub.status.idle": "2021-03-25T06:55:25.198399Z",
     "shell.execute_reply": "2021-03-25T06:55:25.198819Z"
    }
   },
   "outputs": [],
   "source": [
    "counties = dataJson[2]['dataValues'][:58]"
   ]
  },
  {
   "cell_type": "code",
   "execution_count": 7,
   "metadata": {
    "execution": {
     "iopub.execute_input": "2021-03-25T06:55:25.203002Z",
     "iopub.status.busy": "2021-03-25T06:55:25.201979Z",
     "iopub.status.idle": "2021-03-25T06:55:25.203584Z",
     "shell.execute_reply": "2021-03-25T06:55:25.204025Z"
    }
   },
   "outputs": [],
   "source": [
    "doses = dataJson[0]['dataValues'][3:61]"
   ]
  },
  {
   "cell_type": "markdown",
   "metadata": {},
   "source": [
    "Data formatting"
   ]
  },
  {
   "cell_type": "code",
   "execution_count": 8,
   "metadata": {
    "execution": {
     "iopub.execute_input": "2021-03-25T06:55:25.207911Z",
     "iopub.status.busy": "2021-03-25T06:55:25.206884Z",
     "iopub.status.idle": "2021-03-25T06:55:25.208531Z",
     "shell.execute_reply": "2021-03-25T06:55:25.208957Z"
    }
   },
   "outputs": [],
   "source": [
    "zipped = dict(zip(counties, doses))"
   ]
  },
  {
   "cell_type": "code",
   "execution_count": 9,
   "metadata": {
    "execution": {
     "iopub.execute_input": "2021-03-25T06:55:25.215507Z",
     "iopub.status.busy": "2021-03-25T06:55:25.214363Z",
     "iopub.status.idle": "2021-03-25T06:55:25.216051Z",
     "shell.execute_reply": "2021-03-25T06:55:25.216486Z"
    }
   },
   "outputs": [],
   "source": [
    "df = pd.Series(zipped).reset_index()"
   ]
  },
  {
   "cell_type": "code",
   "execution_count": 10,
   "metadata": {
    "execution": {
     "iopub.execute_input": "2021-03-25T06:55:25.220714Z",
     "iopub.status.busy": "2021-03-25T06:55:25.219518Z",
     "iopub.status.idle": "2021-03-25T06:55:25.221271Z",
     "shell.execute_reply": "2021-03-25T06:55:25.221663Z"
    }
   },
   "outputs": [],
   "source": [
    "df.columns = ['location','doses']"
   ]
  },
  {
   "cell_type": "markdown",
   "metadata": {},
   "source": [
    "Grab the overall California total"
   ]
  },
  {
   "cell_type": "code",
   "execution_count": 11,
   "metadata": {
    "execution": {
     "iopub.execute_input": "2021-03-25T06:55:25.225682Z",
     "iopub.status.busy": "2021-03-25T06:55:25.224668Z",
     "iopub.status.idle": "2021-03-25T06:55:25.226237Z",
     "shell.execute_reply": "2021-03-25T06:55:25.226630Z"
    }
   },
   "outputs": [],
   "source": [
    "add = {'location':'California','doses':dataJson[0]['dataValues'][2]}"
   ]
  },
  {
   "cell_type": "code",
   "execution_count": 12,
   "metadata": {
    "execution": {
     "iopub.execute_input": "2021-03-25T06:55:25.233408Z",
     "iopub.status.busy": "2021-03-25T06:55:25.232210Z",
     "iopub.status.idle": "2021-03-25T06:55:25.233992Z",
     "shell.execute_reply": "2021-03-25T06:55:25.234443Z"
    }
   },
   "outputs": [],
   "source": [
    "df = df.append(add, ignore_index=True)"
   ]
  },
  {
   "cell_type": "code",
   "execution_count": 13,
   "metadata": {
    "execution": {
     "iopub.execute_input": "2021-03-25T06:55:25.239185Z",
     "iopub.status.busy": "2021-03-25T06:55:25.238083Z",
     "iopub.status.idle": "2021-03-25T06:55:25.239766Z",
     "shell.execute_reply": "2021-03-25T06:55:25.240185Z"
    }
   },
   "outputs": [],
   "source": [
    "df = df.sort_values(by='location')"
   ]
  },
  {
   "cell_type": "code",
   "execution_count": 14,
   "metadata": {
    "execution": {
     "iopub.execute_input": "2021-03-25T06:55:25.247535Z",
     "iopub.status.busy": "2021-03-25T06:55:25.246330Z",
     "iopub.status.idle": "2021-03-25T06:55:25.248122Z",
     "shell.execute_reply": "2021-03-25T06:55:25.248570Z"
    }
   },
   "outputs": [],
   "source": [
    "df = df[df.location == 'California'].append(df[df.location != 'California']).reset_index(drop=True)"
   ]
  },
  {
   "cell_type": "code",
   "execution_count": null,
   "metadata": {},
   "outputs": [],
   "source": []
  },
  {
   "cell_type": "code",
   "execution_count": 15,
   "metadata": {
    "execution": {
     "iopub.execute_input": "2021-03-25T06:55:25.251894Z",
     "iopub.status.busy": "2021-03-25T06:55:25.251389Z",
     "iopub.status.idle": "2021-03-25T06:55:25.268586Z",
     "shell.execute_reply": "2021-03-25T06:55:25.268050Z"
    }
   },
   "outputs": [],
   "source": [
    "tz = pytz.timezone(\"America/New_York\")"
   ]
  },
  {
   "cell_type": "code",
   "execution_count": 16,
   "metadata": {
    "execution": {
     "iopub.execute_input": "2021-03-25T06:55:25.272591Z",
     "iopub.status.busy": "2021-03-25T06:55:25.271469Z",
     "iopub.status.idle": "2021-03-25T06:55:25.273183Z",
     "shell.execute_reply": "2021-03-25T06:55:25.273605Z"
    }
   },
   "outputs": [],
   "source": [
    "today = datetime.now(tz).date()"
   ]
  },
  {
   "cell_type": "code",
   "execution_count": 17,
   "metadata": {
    "execution": {
     "iopub.execute_input": "2021-03-25T06:55:25.277588Z",
     "iopub.status.busy": "2021-03-25T06:55:25.276659Z",
     "iopub.status.idle": "2021-03-25T06:55:25.279312Z",
     "shell.execute_reply": "2021-03-25T06:55:25.278869Z"
    }
   },
   "outputs": [],
   "source": [
    "data_dir = os.path.join(os.path.abspath(\"\"), \"data\")"
   ]
  },
  {
   "cell_type": "code",
   "execution_count": 18,
   "metadata": {
    "execution": {
     "iopub.execute_input": "2021-03-25T06:55:25.283417Z",
     "iopub.status.busy": "2021-03-25T06:55:25.282259Z",
     "iopub.status.idle": "2021-03-25T06:55:25.286537Z",
     "shell.execute_reply": "2021-03-25T06:55:25.286141Z"
    }
   },
   "outputs": [],
   "source": [
    "df.to_csv(os.path.join(data_dir, f\"{today}.csv\"), index=False)"
   ]
  },
  {
   "cell_type": "code",
   "execution_count": null,
   "metadata": {},
   "outputs": [],
   "source": []
  }
 ],
 "metadata": {
  "kernelspec": {
   "display_name": "Python 3",
   "language": "python",
   "name": "python3"
  },
  "language_info": {
   "codemirror_mode": {
    "name": "ipython",
    "version": 3
   },
   "file_extension": ".py",
   "mimetype": "text/x-python",
   "name": "python",
   "nbconvert_exporter": "python",
   "pygments_lexer": "ipython3",
   "version": "3.8.8"
  }
 },
 "nbformat": 4,
 "nbformat_minor": 4
}
