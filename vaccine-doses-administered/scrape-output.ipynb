{
 "cells": [
  {
   "cell_type": "markdown",
   "metadata": {},
   "source": [
    "# California COVID vaccinations scrape"
   ]
  },
  {
   "cell_type": "markdown",
   "metadata": {},
   "source": [
    "By [Amy O'Kruk](https://twitter.com/amyokruk)"
   ]
  },
  {
   "cell_type": "markdown",
   "metadata": {},
   "source": [
    "Downloads data on vaccine doses administered by county and statewide from a Tableau-powered dashboard from the California Department of Public Health."
   ]
  },
  {
   "cell_type": "code",
   "execution_count": 1,
   "metadata": {
    "execution": {
     "iopub.execute_input": "2021-03-17T20:13:57.348009Z",
     "iopub.status.busy": "2021-03-17T20:13:57.346755Z",
     "iopub.status.idle": "2021-03-17T20:13:57.834737Z",
     "shell.execute_reply": "2021-03-17T20:13:57.833773Z"
    }
   },
   "outputs": [],
   "source": [
    "import pandas as pd\n",
    "import requests\n",
    "from bs4 import BeautifulSoup\n",
    "import json\n",
    "import re\n",
    "import time\n",
    "from time import gmtime, strftime \n",
    "import os\n",
    "import pytz\n",
    "from datetime import datetime"
   ]
  },
  {
   "cell_type": "markdown",
   "metadata": {},
   "source": [
    "Scrape the dashboard page"
   ]
  },
  {
   "cell_type": "code",
   "execution_count": 2,
   "metadata": {
    "execution": {
     "iopub.execute_input": "2021-03-17T20:13:57.839162Z",
     "iopub.status.busy": "2021-03-17T20:13:57.838635Z",
     "iopub.status.idle": "2021-03-17T20:13:58.390978Z",
     "shell.execute_reply": "2021-03-17T20:13:58.389811Z"
    }
   },
   "outputs": [],
   "source": [
    "url = \"https://public.tableau.com/interactive/views/COVID-19VaccineDashboardPublic/Vaccine?:embed=y&:showVizHome=n&:apiID=host0\"\n",
    "\n",
    "r = requests.get(url)\n",
    "soup = BeautifulSoup(r.text, \"html.parser\")"
   ]
  },
  {
   "cell_type": "code",
   "execution_count": 3,
   "metadata": {
    "execution": {
     "iopub.execute_input": "2021-03-17T20:13:58.395856Z",
     "iopub.status.busy": "2021-03-17T20:13:58.395327Z",
     "iopub.status.idle": "2021-03-17T20:13:58.397673Z",
     "shell.execute_reply": "2021-03-17T20:13:58.398077Z"
    }
   },
   "outputs": [],
   "source": [
    "tableauData = json.loads(soup.find(\"textarea\",{\"id\": \"tsConfigContainer\"}).text)"
   ]
  },
  {
   "cell_type": "markdown",
   "metadata": {},
   "source": [
    "Get the link to the Tableau data"
   ]
  },
  {
   "cell_type": "code",
   "execution_count": 4,
   "metadata": {
    "execution": {
     "iopub.execute_input": "2021-03-17T20:13:58.402391Z",
     "iopub.status.busy": "2021-03-17T20:13:58.401261Z",
     "iopub.status.idle": "2021-03-17T20:13:58.402983Z",
     "shell.execute_reply": "2021-03-17T20:13:58.403431Z"
    }
   },
   "outputs": [],
   "source": [
    "dataUrl = f'https://public.tableau.com{tableauData[\"vizql_root\"]}/bootstrapSession/sessions/{tableauData[\"sessionid\"]}'"
   ]
  },
  {
   "cell_type": "code",
   "execution_count": 5,
   "metadata": {
    "execution": {
     "iopub.execute_input": "2021-03-17T20:13:58.409479Z",
     "iopub.status.busy": "2021-03-17T20:13:58.408938Z",
     "iopub.status.idle": "2021-03-17T20:13:58.707926Z",
     "shell.execute_reply": "2021-03-17T20:13:58.707026Z"
    }
   },
   "outputs": [],
   "source": [
    "r = requests.post(dataUrl, data= {\n",
    "    \"sheet_id\": tableauData[\"sheetId\"],\n",
    "})\n",
    "\n",
    "dataReg = re.search('\\d+;({.*})\\d+;({.*})', r.text, re.MULTILINE)\n",
    "data1 = json.loads(dataReg.group(2))\n",
    "\n",
    "dataJson = data1[\"secondaryInfo\"][\"presModelMap\"][\"dataDictionary\"][\"presModelHolder\"][\"genDataDictionaryPresModel\"][\"dataSegments\"][\"0\"][\"dataColumns\"]"
   ]
  },
  {
   "cell_type": "markdown",
   "metadata": {},
   "source": [
    "Isolate what you want"
   ]
  },
  {
   "cell_type": "code",
   "execution_count": 6,
   "metadata": {
    "execution": {
     "iopub.execute_input": "2021-03-17T20:13:58.713779Z",
     "iopub.status.busy": "2021-03-17T20:13:58.712865Z",
     "iopub.status.idle": "2021-03-17T20:13:58.716150Z",
     "shell.execute_reply": "2021-03-17T20:13:58.715719Z"
    }
   },
   "outputs": [],
   "source": [
    "counties = dataJson[2]['dataValues'][:58]"
   ]
  },
  {
   "cell_type": "code",
   "execution_count": 7,
   "metadata": {
    "execution": {
     "iopub.execute_input": "2021-03-17T20:13:58.721044Z",
     "iopub.status.busy": "2021-03-17T20:13:58.720519Z",
     "iopub.status.idle": "2021-03-17T20:13:58.723105Z",
     "shell.execute_reply": "2021-03-17T20:13:58.722667Z"
    }
   },
   "outputs": [],
   "source": [
    "doses = dataJson[0]['dataValues'][3:61]"
   ]
  },
  {
   "cell_type": "markdown",
   "metadata": {},
   "source": [
    "Data formatting"
   ]
  },
  {
   "cell_type": "code",
   "execution_count": 8,
   "metadata": {
    "execution": {
     "iopub.execute_input": "2021-03-17T20:13:58.728094Z",
     "iopub.status.busy": "2021-03-17T20:13:58.726869Z",
     "iopub.status.idle": "2021-03-17T20:13:58.728712Z",
     "shell.execute_reply": "2021-03-17T20:13:58.729145Z"
    }
   },
   "outputs": [],
   "source": [
    "zipped = dict(zip(counties, doses))"
   ]
  },
  {
   "cell_type": "code",
   "execution_count": 9,
   "metadata": {
    "execution": {
     "iopub.execute_input": "2021-03-17T20:13:58.735746Z",
     "iopub.status.busy": "2021-03-17T20:13:58.734529Z",
     "iopub.status.idle": "2021-03-17T20:13:58.736428Z",
     "shell.execute_reply": "2021-03-17T20:13:58.737015Z"
    }
   },
   "outputs": [],
   "source": [
    "df = pd.Series(zipped).reset_index()"
   ]
  },
  {
   "cell_type": "code",
   "execution_count": 10,
   "metadata": {
    "execution": {
     "iopub.execute_input": "2021-03-17T20:13:58.741414Z",
     "iopub.status.busy": "2021-03-17T20:13:58.740237Z",
     "iopub.status.idle": "2021-03-17T20:13:58.742015Z",
     "shell.execute_reply": "2021-03-17T20:13:58.742441Z"
    }
   },
   "outputs": [],
   "source": [
    "df.columns = ['location','doses']"
   ]
  },
  {
   "cell_type": "markdown",
   "metadata": {},
   "source": [
    "Grab the overall California total"
   ]
  },
  {
   "cell_type": "code",
   "execution_count": 11,
   "metadata": {
    "execution": {
     "iopub.execute_input": "2021-03-17T20:13:58.746781Z",
     "iopub.status.busy": "2021-03-17T20:13:58.745658Z",
     "iopub.status.idle": "2021-03-17T20:13:58.747404Z",
     "shell.execute_reply": "2021-03-17T20:13:58.747833Z"
    }
   },
   "outputs": [],
   "source": [
    "add = {'location':'California','doses':dataJson[0]['dataValues'][2]}"
   ]
  },
  {
   "cell_type": "code",
   "execution_count": 12,
   "metadata": {
    "execution": {
     "iopub.execute_input": "2021-03-17T20:13:58.754932Z",
     "iopub.status.busy": "2021-03-17T20:13:58.753698Z",
     "iopub.status.idle": "2021-03-17T20:13:58.755553Z",
     "shell.execute_reply": "2021-03-17T20:13:58.755981Z"
    }
   },
   "outputs": [],
   "source": [
    "df = df.append(add, ignore_index=True)"
   ]
  },
  {
   "cell_type": "code",
   "execution_count": 13,
   "metadata": {
    "execution": {
     "iopub.execute_input": "2021-03-17T20:13:58.760936Z",
     "iopub.status.busy": "2021-03-17T20:13:58.759772Z",
     "iopub.status.idle": "2021-03-17T20:13:58.761622Z",
     "shell.execute_reply": "2021-03-17T20:13:58.762052Z"
    }
   },
   "outputs": [],
   "source": [
    "df = df.sort_values(by='location')"
   ]
  },
  {
   "cell_type": "code",
   "execution_count": 14,
   "metadata": {
    "execution": {
     "iopub.execute_input": "2021-03-17T20:13:58.768587Z",
     "iopub.status.busy": "2021-03-17T20:13:58.767319Z",
     "iopub.status.idle": "2021-03-17T20:13:58.769190Z",
     "shell.execute_reply": "2021-03-17T20:13:58.769617Z"
    }
   },
   "outputs": [],
   "source": [
    "df = df[df.location == 'California'].append(df[df.location != 'California']).reset_index(drop=True)"
   ]
  },
  {
   "cell_type": "code",
   "execution_count": null,
   "metadata": {},
   "outputs": [],
   "source": []
  },
  {
   "cell_type": "code",
   "execution_count": 15,
   "metadata": {
    "execution": {
     "iopub.execute_input": "2021-03-17T20:13:58.772930Z",
     "iopub.status.busy": "2021-03-17T20:13:58.772419Z",
     "iopub.status.idle": "2021-03-17T20:13:58.789678Z",
     "shell.execute_reply": "2021-03-17T20:13:58.789161Z"
    }
   },
   "outputs": [],
   "source": [
    "tz = pytz.timezone(\"America/New_York\")"
   ]
  },
  {
   "cell_type": "code",
   "execution_count": 16,
   "metadata": {
    "execution": {
     "iopub.execute_input": "2021-03-17T20:13:58.793821Z",
     "iopub.status.busy": "2021-03-17T20:13:58.792707Z",
     "iopub.status.idle": "2021-03-17T20:13:58.794414Z",
     "shell.execute_reply": "2021-03-17T20:13:58.794843Z"
    }
   },
   "outputs": [],
   "source": [
    "today = datetime.now(tz).date()"
   ]
  },
  {
   "cell_type": "code",
   "execution_count": 17,
   "metadata": {
    "execution": {
     "iopub.execute_input": "2021-03-17T20:13:58.798961Z",
     "iopub.status.busy": "2021-03-17T20:13:58.797875Z",
     "iopub.status.idle": "2021-03-17T20:13:58.799582Z",
     "shell.execute_reply": "2021-03-17T20:13:58.800005Z"
    }
   },
   "outputs": [],
   "source": [
    "data_dir = os.path.join(os.path.abspath(\"\"), \"data\")"
   ]
  },
  {
   "cell_type": "code",
   "execution_count": 18,
   "metadata": {
    "execution": {
     "iopub.execute_input": "2021-03-17T20:13:58.804237Z",
     "iopub.status.busy": "2021-03-17T20:13:58.803088Z",
     "iopub.status.idle": "2021-03-17T20:13:58.807636Z",
     "shell.execute_reply": "2021-03-17T20:13:58.807091Z"
    }
   },
   "outputs": [],
   "source": [
    "df.to_csv(os.path.join(data_dir, f\"{today}.csv\"), index=False)"
   ]
  },
  {
   "cell_type": "code",
   "execution_count": null,
   "metadata": {},
   "outputs": [],
   "source": []
  }
 ],
 "metadata": {
  "kernelspec": {
   "display_name": "Python 3",
   "language": "python",
   "name": "python3"
  },
  "language_info": {
   "codemirror_mode": {
    "name": "ipython",
    "version": 3
   },
   "file_extension": ".py",
   "mimetype": "text/x-python",
   "name": "python",
   "nbconvert_exporter": "python",
   "pygments_lexer": "ipython3",
   "version": "3.8.8"
  }
 },
 "nbformat": 4,
 "nbformat_minor": 4
}
