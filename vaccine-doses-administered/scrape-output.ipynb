{
 "cells": [
  {
   "cell_type": "markdown",
   "metadata": {},
   "source": [
    "# California COVID vaccinations scrape"
   ]
  },
  {
   "cell_type": "markdown",
   "metadata": {},
   "source": [
    "By [Amy O'Kruk](https://twitter.com/amyokruk)"
   ]
  },
  {
   "cell_type": "markdown",
   "metadata": {},
   "source": [
    "Downloads data on vaccine doses administered by county and statewide from a Tableau-powered dashboard from the California Department of Public Health."
   ]
  },
  {
   "cell_type": "code",
   "execution_count": 1,
   "metadata": {
    "execution": {
     "iopub.execute_input": "2021-03-09T03:43:43.581927Z",
     "iopub.status.busy": "2021-03-09T03:43:43.580893Z",
     "iopub.status.idle": "2021-03-09T03:43:44.048008Z",
     "shell.execute_reply": "2021-03-09T03:43:44.046782Z"
    }
   },
   "outputs": [],
   "source": [
    "import pandas as pd\n",
    "import requests\n",
    "from bs4 import BeautifulSoup\n",
    "import json\n",
    "import re\n",
    "import time\n",
    "from time import gmtime, strftime \n",
    "import os\n",
    "import pytz\n",
    "from datetime import datetime"
   ]
  },
  {
   "cell_type": "markdown",
   "metadata": {},
   "source": [
    "Scrape the dashboard page"
   ]
  },
  {
   "cell_type": "code",
   "execution_count": 2,
   "metadata": {
    "execution": {
     "iopub.execute_input": "2021-03-09T03:43:44.053301Z",
     "iopub.status.busy": "2021-03-09T03:43:44.052392Z",
     "iopub.status.idle": "2021-03-09T03:43:51.568564Z",
     "shell.execute_reply": "2021-03-09T03:43:51.567886Z"
    }
   },
   "outputs": [],
   "source": [
    "url = \"https://public.tableau.com/interactive/views/COVID-19VaccineDashboardPublic/Vaccine?:embed=y&:showVizHome=n&:apiID=host0\"\n",
    "\n",
    "r = requests.get(url)\n",
    "soup = BeautifulSoup(r.text, \"html.parser\")"
   ]
  },
  {
   "cell_type": "code",
   "execution_count": 3,
   "metadata": {
    "execution": {
     "iopub.execute_input": "2021-03-09T03:43:51.573327Z",
     "iopub.status.busy": "2021-03-09T03:43:51.572796Z",
     "iopub.status.idle": "2021-03-09T03:43:51.576325Z",
     "shell.execute_reply": "2021-03-09T03:43:51.575773Z"
    }
   },
   "outputs": [],
   "source": [
    "tableauData = json.loads(soup.find(\"textarea\",{\"id\": \"tsConfigContainer\"}).text)"
   ]
  },
  {
   "cell_type": "markdown",
   "metadata": {},
   "source": [
    "Get the link to the Tableau data"
   ]
  },
  {
   "cell_type": "code",
   "execution_count": 4,
   "metadata": {
    "execution": {
     "iopub.execute_input": "2021-03-09T03:43:51.581520Z",
     "iopub.status.busy": "2021-03-09T03:43:51.581000Z",
     "iopub.status.idle": "2021-03-09T03:43:51.602574Z",
     "shell.execute_reply": "2021-03-09T03:43:51.602120Z"
    }
   },
   "outputs": [],
   "source": [
    "dataUrl = f'https://public.tableau.com{tableauData[\"vizql_root\"]}/bootstrapSession/sessions/{tableauData[\"sessionid\"]}'"
   ]
  },
  {
   "cell_type": "code",
   "execution_count": 5,
   "metadata": {
    "execution": {
     "iopub.execute_input": "2021-03-09T03:43:51.609100Z",
     "iopub.status.busy": "2021-03-09T03:43:51.608576Z",
     "iopub.status.idle": "2021-03-09T03:43:52.040169Z",
     "shell.execute_reply": "2021-03-09T03:43:52.039700Z"
    }
   },
   "outputs": [],
   "source": [
    "r = requests.post(dataUrl, data= {\n",
    "    \"sheet_id\": tableauData[\"sheetId\"],\n",
    "})\n",
    "\n",
    "dataReg = re.search('\\d+;({.*})\\d+;({.*})', r.text, re.MULTILINE)\n",
    "data1 = json.loads(dataReg.group(2))\n",
    "\n",
    "dataJson = data1[\"secondaryInfo\"][\"presModelMap\"][\"dataDictionary\"][\"presModelHolder\"][\"genDataDictionaryPresModel\"][\"dataSegments\"][\"0\"][\"dataColumns\"]"
   ]
  },
  {
   "cell_type": "markdown",
   "metadata": {},
   "source": [
    "Isolate what you want"
   ]
  },
  {
   "cell_type": "code",
   "execution_count": 6,
   "metadata": {
    "execution": {
     "iopub.execute_input": "2021-03-09T03:43:52.044074Z",
     "iopub.status.busy": "2021-03-09T03:43:52.043556Z",
     "iopub.status.idle": "2021-03-09T03:43:52.047111Z",
     "shell.execute_reply": "2021-03-09T03:43:52.046682Z"
    }
   },
   "outputs": [],
   "source": [
    "counties = dataJson[2]['dataValues'][:58]"
   ]
  },
  {
   "cell_type": "code",
   "execution_count": 7,
   "metadata": {
    "execution": {
     "iopub.execute_input": "2021-03-09T03:43:52.051326Z",
     "iopub.status.busy": "2021-03-09T03:43:52.050419Z",
     "iopub.status.idle": "2021-03-09T03:43:52.052724Z",
     "shell.execute_reply": "2021-03-09T03:43:52.052289Z"
    }
   },
   "outputs": [],
   "source": [
    "doses = dataJson[0]['dataValues'][3:61]"
   ]
  },
  {
   "cell_type": "markdown",
   "metadata": {},
   "source": [
    "Data formatting"
   ]
  },
  {
   "cell_type": "code",
   "execution_count": 8,
   "metadata": {
    "execution": {
     "iopub.execute_input": "2021-03-09T03:43:52.056702Z",
     "iopub.status.busy": "2021-03-09T03:43:52.055813Z",
     "iopub.status.idle": "2021-03-09T03:43:52.057595Z",
     "shell.execute_reply": "2021-03-09T03:43:52.058020Z"
    }
   },
   "outputs": [],
   "source": [
    "zipped = dict(zip(counties, doses))"
   ]
  },
  {
   "cell_type": "code",
   "execution_count": 9,
   "metadata": {
    "execution": {
     "iopub.execute_input": "2021-03-09T03:43:52.068649Z",
     "iopub.status.busy": "2021-03-09T03:43:52.068106Z",
     "iopub.status.idle": "2021-03-09T03:43:52.070093Z",
     "shell.execute_reply": "2021-03-09T03:43:52.070492Z"
    }
   },
   "outputs": [],
   "source": [
    "df = pd.Series(zipped).reset_index()"
   ]
  },
  {
   "cell_type": "code",
   "execution_count": 10,
   "metadata": {
    "execution": {
     "iopub.execute_input": "2021-03-09T03:43:52.074694Z",
     "iopub.status.busy": "2021-03-09T03:43:52.073606Z",
     "iopub.status.idle": "2021-03-09T03:43:52.075307Z",
     "shell.execute_reply": "2021-03-09T03:43:52.075735Z"
    }
   },
   "outputs": [],
   "source": [
    "df.columns = ['location','doses']"
   ]
  },
  {
   "cell_type": "markdown",
   "metadata": {},
   "source": [
    "Grab the overall California total"
   ]
  },
  {
   "cell_type": "code",
   "execution_count": 11,
   "metadata": {
    "execution": {
     "iopub.execute_input": "2021-03-09T03:43:52.080188Z",
     "iopub.status.busy": "2021-03-09T03:43:52.078966Z",
     "iopub.status.idle": "2021-03-09T03:43:52.080781Z",
     "shell.execute_reply": "2021-03-09T03:43:52.081204Z"
    }
   },
   "outputs": [],
   "source": [
    "add = {'location':'California','doses':dataJson[0]['dataValues'][2]}"
   ]
  },
  {
   "cell_type": "code",
   "execution_count": 12,
   "metadata": {
    "execution": {
     "iopub.execute_input": "2021-03-09T03:43:52.088182Z",
     "iopub.status.busy": "2021-03-09T03:43:52.086935Z",
     "iopub.status.idle": "2021-03-09T03:43:52.088782Z",
     "shell.execute_reply": "2021-03-09T03:43:52.089206Z"
    }
   },
   "outputs": [],
   "source": [
    "df = df.append(add, ignore_index=True)"
   ]
  },
  {
   "cell_type": "code",
   "execution_count": 13,
   "metadata": {
    "execution": {
     "iopub.execute_input": "2021-03-09T03:43:52.093500Z",
     "iopub.status.busy": "2021-03-09T03:43:52.092992Z",
     "iopub.status.idle": "2021-03-09T03:43:52.095318Z",
     "shell.execute_reply": "2021-03-09T03:43:52.094869Z"
    }
   },
   "outputs": [],
   "source": [
    "df = df.sort_values(by='location')"
   ]
  },
  {
   "cell_type": "code",
   "execution_count": 14,
   "metadata": {
    "execution": {
     "iopub.execute_input": "2021-03-09T03:43:52.101399Z",
     "iopub.status.busy": "2021-03-09T03:43:52.100310Z",
     "iopub.status.idle": "2021-03-09T03:43:52.101993Z",
     "shell.execute_reply": "2021-03-09T03:43:52.102413Z"
    }
   },
   "outputs": [],
   "source": [
    "df = df[df.location == 'California'].append(df[df.location != 'California']).reset_index(drop=True)"
   ]
  },
  {
   "cell_type": "code",
   "execution_count": null,
   "metadata": {},
   "outputs": [],
   "source": []
  },
  {
   "cell_type": "code",
   "execution_count": 15,
   "metadata": {
    "execution": {
     "iopub.execute_input": "2021-03-09T03:43:52.105633Z",
     "iopub.status.busy": "2021-03-09T03:43:52.105124Z",
     "iopub.status.idle": "2021-03-09T03:43:52.123263Z",
     "shell.execute_reply": "2021-03-09T03:43:52.122767Z"
    }
   },
   "outputs": [],
   "source": [
    "tz = pytz.timezone(\"America/New_York\")"
   ]
  },
  {
   "cell_type": "code",
   "execution_count": 16,
   "metadata": {
    "execution": {
     "iopub.execute_input": "2021-03-09T03:43:52.127486Z",
     "iopub.status.busy": "2021-03-09T03:43:52.126292Z",
     "iopub.status.idle": "2021-03-09T03:43:52.128126Z",
     "shell.execute_reply": "2021-03-09T03:43:52.128586Z"
    }
   },
   "outputs": [],
   "source": [
    "today = datetime.now(tz).date()"
   ]
  },
  {
   "cell_type": "code",
   "execution_count": 17,
   "metadata": {
    "execution": {
     "iopub.execute_input": "2021-03-09T03:43:52.132944Z",
     "iopub.status.busy": "2021-03-09T03:43:52.131608Z",
     "iopub.status.idle": "2021-03-09T03:43:52.133528Z",
     "shell.execute_reply": "2021-03-09T03:43:52.133945Z"
    }
   },
   "outputs": [],
   "source": [
    "data_dir = os.path.join(os.path.abspath(\"\"), \"data\")"
   ]
  },
  {
   "cell_type": "code",
   "execution_count": 18,
   "metadata": {
    "execution": {
     "iopub.execute_input": "2021-03-09T03:43:52.138138Z",
     "iopub.status.busy": "2021-03-09T03:43:52.137054Z",
     "iopub.status.idle": "2021-03-09T03:43:52.142418Z",
     "shell.execute_reply": "2021-03-09T03:43:52.141907Z"
    }
   },
   "outputs": [],
   "source": [
    "df.to_csv(os.path.join(data_dir, f\"{today}.csv\"), index=False)"
   ]
  },
  {
   "cell_type": "code",
   "execution_count": null,
   "metadata": {},
   "outputs": [],
   "source": []
  }
 ],
 "metadata": {
  "kernelspec": {
   "display_name": "Python 3",
   "language": "python",
   "name": "python3"
  },
  "language_info": {
   "codemirror_mode": {
    "name": "ipython",
    "version": 3
   },
   "file_extension": ".py",
   "mimetype": "text/x-python",
   "name": "python",
   "nbconvert_exporter": "python",
   "pygments_lexer": "ipython3",
   "version": "3.8.8"
  }
 },
 "nbformat": 4,
 "nbformat_minor": 4
}
