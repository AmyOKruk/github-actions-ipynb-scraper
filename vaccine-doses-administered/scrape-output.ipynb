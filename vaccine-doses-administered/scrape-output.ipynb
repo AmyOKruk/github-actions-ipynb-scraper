{
 "cells": [
  {
   "cell_type": "markdown",
   "metadata": {},
   "source": [
    "# California COVID vaccinations scrape"
   ]
  },
  {
   "cell_type": "markdown",
   "metadata": {},
   "source": [
    "By [Amy O'Kruk](https://twitter.com/amyokruk)"
   ]
  },
  {
   "cell_type": "markdown",
   "metadata": {},
   "source": [
    "Downloads data on vaccine doses administered by county and statewide from a Tableau-powered dashboard from the California Department of Public Health."
   ]
  },
  {
   "cell_type": "code",
   "execution_count": 1,
   "metadata": {
    "execution": {
     "iopub.execute_input": "2021-03-12T13:16:35.415111Z",
     "iopub.status.busy": "2021-03-12T13:16:35.414159Z",
     "iopub.status.idle": "2021-03-12T13:16:35.812046Z",
     "shell.execute_reply": "2021-03-12T13:16:35.811068Z"
    }
   },
   "outputs": [],
   "source": [
    "import pandas as pd\n",
    "import requests\n",
    "from bs4 import BeautifulSoup\n",
    "import json\n",
    "import re\n",
    "import time\n",
    "from time import gmtime, strftime \n",
    "import os\n",
    "import pytz\n",
    "from datetime import datetime"
   ]
  },
  {
   "cell_type": "markdown",
   "metadata": {},
   "source": [
    "Scrape the dashboard page"
   ]
  },
  {
   "cell_type": "code",
   "execution_count": 2,
   "metadata": {
    "execution": {
     "iopub.execute_input": "2021-03-12T13:16:35.818436Z",
     "iopub.status.busy": "2021-03-12T13:16:35.817891Z",
     "iopub.status.idle": "2021-03-12T13:16:36.151132Z",
     "shell.execute_reply": "2021-03-12T13:16:36.150593Z"
    }
   },
   "outputs": [],
   "source": [
    "url = \"https://public.tableau.com/interactive/views/COVID-19VaccineDashboardPublic/Vaccine?:embed=y&:showVizHome=n&:apiID=host0\"\n",
    "\n",
    "r = requests.get(url)\n",
    "soup = BeautifulSoup(r.text, \"html.parser\")"
   ]
  },
  {
   "cell_type": "code",
   "execution_count": 3,
   "metadata": {
    "execution": {
     "iopub.execute_input": "2021-03-12T13:16:36.156649Z",
     "iopub.status.busy": "2021-03-12T13:16:36.156026Z",
     "iopub.status.idle": "2021-03-12T13:16:36.159866Z",
     "shell.execute_reply": "2021-03-12T13:16:36.159009Z"
    }
   },
   "outputs": [],
   "source": [
    "tableauData = json.loads(soup.find(\"textarea\",{\"id\": \"tsConfigContainer\"}).text)"
   ]
  },
  {
   "cell_type": "markdown",
   "metadata": {},
   "source": [
    "Get the link to the Tableau data"
   ]
  },
  {
   "cell_type": "code",
   "execution_count": 4,
   "metadata": {
    "execution": {
     "iopub.execute_input": "2021-03-12T13:16:36.164542Z",
     "iopub.status.busy": "2021-03-12T13:16:36.163022Z",
     "iopub.status.idle": "2021-03-12T13:16:36.165220Z",
     "shell.execute_reply": "2021-03-12T13:16:36.165733Z"
    }
   },
   "outputs": [],
   "source": [
    "dataUrl = f'https://public.tableau.com{tableauData[\"vizql_root\"]}/bootstrapSession/sessions/{tableauData[\"sessionid\"]}'"
   ]
  },
  {
   "cell_type": "code",
   "execution_count": 5,
   "metadata": {
    "execution": {
     "iopub.execute_input": "2021-03-12T13:16:36.173031Z",
     "iopub.status.busy": "2021-03-12T13:16:36.172312Z",
     "iopub.status.idle": "2021-03-12T13:16:36.384338Z",
     "shell.execute_reply": "2021-03-12T13:16:36.383526Z"
    }
   },
   "outputs": [],
   "source": [
    "r = requests.post(dataUrl, data= {\n",
    "    \"sheet_id\": tableauData[\"sheetId\"],\n",
    "})\n",
    "\n",
    "dataReg = re.search('\\d+;({.*})\\d+;({.*})', r.text, re.MULTILINE)\n",
    "data1 = json.loads(dataReg.group(2))\n",
    "\n",
    "dataJson = data1[\"secondaryInfo\"][\"presModelMap\"][\"dataDictionary\"][\"presModelHolder\"][\"genDataDictionaryPresModel\"][\"dataSegments\"][\"0\"][\"dataColumns\"]"
   ]
  },
  {
   "cell_type": "markdown",
   "metadata": {},
   "source": [
    "Isolate what you want"
   ]
  },
  {
   "cell_type": "code",
   "execution_count": 6,
   "metadata": {
    "execution": {
     "iopub.execute_input": "2021-03-12T13:16:36.388210Z",
     "iopub.status.busy": "2021-03-12T13:16:36.387697Z",
     "iopub.status.idle": "2021-03-12T13:16:36.391099Z",
     "shell.execute_reply": "2021-03-12T13:16:36.390650Z"
    }
   },
   "outputs": [],
   "source": [
    "counties = dataJson[2]['dataValues'][:58]"
   ]
  },
  {
   "cell_type": "code",
   "execution_count": 7,
   "metadata": {
    "execution": {
     "iopub.execute_input": "2021-03-12T13:16:36.395287Z",
     "iopub.status.busy": "2021-03-12T13:16:36.394212Z",
     "iopub.status.idle": "2021-03-12T13:16:36.395940Z",
     "shell.execute_reply": "2021-03-12T13:16:36.396368Z"
    }
   },
   "outputs": [],
   "source": [
    "doses = dataJson[0]['dataValues'][3:61]"
   ]
  },
  {
   "cell_type": "markdown",
   "metadata": {},
   "source": [
    "Data formatting"
   ]
  },
  {
   "cell_type": "code",
   "execution_count": 8,
   "metadata": {
    "execution": {
     "iopub.execute_input": "2021-03-12T13:16:36.400128Z",
     "iopub.status.busy": "2021-03-12T13:16:36.399402Z",
     "iopub.status.idle": "2021-03-12T13:16:36.401763Z",
     "shell.execute_reply": "2021-03-12T13:16:36.401319Z"
    }
   },
   "outputs": [],
   "source": [
    "zipped = dict(zip(counties, doses))"
   ]
  },
  {
   "cell_type": "code",
   "execution_count": 9,
   "metadata": {
    "execution": {
     "iopub.execute_input": "2021-03-12T13:16:36.408296Z",
     "iopub.status.busy": "2021-03-12T13:16:36.407071Z",
     "iopub.status.idle": "2021-03-12T13:16:36.408896Z",
     "shell.execute_reply": "2021-03-12T13:16:36.409320Z"
    }
   },
   "outputs": [],
   "source": [
    "df = pd.Series(zipped).reset_index()"
   ]
  },
  {
   "cell_type": "code",
   "execution_count": 10,
   "metadata": {
    "execution": {
     "iopub.execute_input": "2021-03-12T13:16:36.413649Z",
     "iopub.status.busy": "2021-03-12T13:16:36.412474Z",
     "iopub.status.idle": "2021-03-12T13:16:36.414242Z",
     "shell.execute_reply": "2021-03-12T13:16:36.414666Z"
    }
   },
   "outputs": [],
   "source": [
    "df.columns = ['location','doses']"
   ]
  },
  {
   "cell_type": "markdown",
   "metadata": {},
   "source": [
    "Grab the overall California total"
   ]
  },
  {
   "cell_type": "code",
   "execution_count": 11,
   "metadata": {
    "execution": {
     "iopub.execute_input": "2021-03-12T13:16:36.419830Z",
     "iopub.status.busy": "2021-03-12T13:16:36.418616Z",
     "iopub.status.idle": "2021-03-12T13:16:36.420420Z",
     "shell.execute_reply": "2021-03-12T13:16:36.420843Z"
    }
   },
   "outputs": [],
   "source": [
    "add = {'location':'California','doses':dataJson[0]['dataValues'][2]}"
   ]
  },
  {
   "cell_type": "code",
   "execution_count": 12,
   "metadata": {
    "execution": {
     "iopub.execute_input": "2021-03-12T13:16:36.427735Z",
     "iopub.status.busy": "2021-03-12T13:16:36.426800Z",
     "iopub.status.idle": "2021-03-12T13:16:36.428612Z",
     "shell.execute_reply": "2021-03-12T13:16:36.429042Z"
    }
   },
   "outputs": [],
   "source": [
    "df = df.append(add, ignore_index=True)"
   ]
  },
  {
   "cell_type": "code",
   "execution_count": 13,
   "metadata": {
    "execution": {
     "iopub.execute_input": "2021-03-12T13:16:36.434256Z",
     "iopub.status.busy": "2021-03-12T13:16:36.433070Z",
     "iopub.status.idle": "2021-03-12T13:16:36.434853Z",
     "shell.execute_reply": "2021-03-12T13:16:36.435305Z"
    }
   },
   "outputs": [],
   "source": [
    "df = df.sort_values(by='location')"
   ]
  },
  {
   "cell_type": "code",
   "execution_count": 14,
   "metadata": {
    "execution": {
     "iopub.execute_input": "2021-03-12T13:16:36.440780Z",
     "iopub.status.busy": "2021-03-12T13:16:36.440275Z",
     "iopub.status.idle": "2021-03-12T13:16:36.443537Z",
     "shell.execute_reply": "2021-03-12T13:16:36.443940Z"
    }
   },
   "outputs": [],
   "source": [
    "df = df[df.location == 'California'].append(df[df.location != 'California']).reset_index(drop=True)"
   ]
  },
  {
   "cell_type": "code",
   "execution_count": null,
   "metadata": {},
   "outputs": [],
   "source": []
  },
  {
   "cell_type": "code",
   "execution_count": 15,
   "metadata": {
    "execution": {
     "iopub.execute_input": "2021-03-12T13:16:36.447367Z",
     "iopub.status.busy": "2021-03-12T13:16:36.446837Z",
     "iopub.status.idle": "2021-03-12T13:16:36.464608Z",
     "shell.execute_reply": "2021-03-12T13:16:36.464110Z"
    }
   },
   "outputs": [],
   "source": [
    "tz = pytz.timezone(\"America/New_York\")"
   ]
  },
  {
   "cell_type": "code",
   "execution_count": 16,
   "metadata": {
    "execution": {
     "iopub.execute_input": "2021-03-12T13:16:36.469037Z",
     "iopub.status.busy": "2021-03-12T13:16:36.467676Z",
     "iopub.status.idle": "2021-03-12T13:16:36.469625Z",
     "shell.execute_reply": "2021-03-12T13:16:36.470046Z"
    }
   },
   "outputs": [],
   "source": [
    "today = datetime.now(tz).date()"
   ]
  },
  {
   "cell_type": "code",
   "execution_count": 17,
   "metadata": {
    "execution": {
     "iopub.execute_input": "2021-03-12T13:16:36.474460Z",
     "iopub.status.busy": "2021-03-12T13:16:36.473277Z",
     "iopub.status.idle": "2021-03-12T13:16:36.475049Z",
     "shell.execute_reply": "2021-03-12T13:16:36.475499Z"
    }
   },
   "outputs": [],
   "source": [
    "data_dir = os.path.join(os.path.abspath(\"\"), \"data\")"
   ]
  },
  {
   "cell_type": "code",
   "execution_count": 18,
   "metadata": {
    "execution": {
     "iopub.execute_input": "2021-03-12T13:16:36.480957Z",
     "iopub.status.busy": "2021-03-12T13:16:36.478718Z",
     "iopub.status.idle": "2021-03-12T13:16:36.482704Z",
     "shell.execute_reply": "2021-03-12T13:16:36.483101Z"
    }
   },
   "outputs": [],
   "source": [
    "df.to_csv(os.path.join(data_dir, f\"{today}.csv\"), index=False)"
   ]
  },
  {
   "cell_type": "code",
   "execution_count": null,
   "metadata": {},
   "outputs": [],
   "source": []
  }
 ],
 "metadata": {
  "kernelspec": {
   "display_name": "Python 3",
   "language": "python",
   "name": "python3"
  },
  "language_info": {
   "codemirror_mode": {
    "name": "ipython",
    "version": 3
   },
   "file_extension": ".py",
   "mimetype": "text/x-python",
   "name": "python",
   "nbconvert_exporter": "python",
   "pygments_lexer": "ipython3",
   "version": "3.8.8"
  }
 },
 "nbformat": 4,
 "nbformat_minor": 4
}
