{
 "cells": [
  {
   "cell_type": "markdown",
   "metadata": {},
   "source": [
    "# California COVID vaccinations scrape"
   ]
  },
  {
   "cell_type": "markdown",
   "metadata": {},
   "source": [
    "By [Amy O'Kruk](https://twitter.com/amyokruk)"
   ]
  },
  {
   "cell_type": "markdown",
   "metadata": {},
   "source": [
    "Downloads data on vaccine doses administered by county and statewide from a Tableau-powered dashboard from the California Department of Public Health."
   ]
  },
  {
   "cell_type": "code",
   "execution_count": 1,
   "metadata": {
    "execution": {
     "iopub.execute_input": "2021-03-10T11:12:11.841447Z",
     "iopub.status.busy": "2021-03-10T11:12:11.840785Z",
     "iopub.status.idle": "2021-03-10T11:12:12.243827Z",
     "shell.execute_reply": "2021-03-10T11:12:12.242741Z"
    }
   },
   "outputs": [],
   "source": [
    "import pandas as pd\n",
    "import requests\n",
    "from bs4 import BeautifulSoup\n",
    "import json\n",
    "import re\n",
    "import time\n",
    "from time import gmtime, strftime \n",
    "import os\n",
    "import pytz\n",
    "from datetime import datetime"
   ]
  },
  {
   "cell_type": "markdown",
   "metadata": {},
   "source": [
    "Scrape the dashboard page"
   ]
  },
  {
   "cell_type": "code",
   "execution_count": 2,
   "metadata": {
    "execution": {
     "iopub.execute_input": "2021-03-10T11:12:12.248968Z",
     "iopub.status.busy": "2021-03-10T11:12:12.248444Z",
     "iopub.status.idle": "2021-03-10T11:12:12.735115Z",
     "shell.execute_reply": "2021-03-10T11:12:12.734211Z"
    }
   },
   "outputs": [],
   "source": [
    "url = \"https://public.tableau.com/interactive/views/COVID-19VaccineDashboardPublic/Vaccine?:embed=y&:showVizHome=n&:apiID=host0\"\n",
    "\n",
    "r = requests.get(url)\n",
    "soup = BeautifulSoup(r.text, \"html.parser\")"
   ]
  },
  {
   "cell_type": "code",
   "execution_count": 3,
   "metadata": {
    "execution": {
     "iopub.execute_input": "2021-03-10T11:12:12.739506Z",
     "iopub.status.busy": "2021-03-10T11:12:12.739024Z",
     "iopub.status.idle": "2021-03-10T11:12:12.742446Z",
     "shell.execute_reply": "2021-03-10T11:12:12.742000Z"
    }
   },
   "outputs": [],
   "source": [
    "tableauData = json.loads(soup.find(\"textarea\",{\"id\": \"tsConfigContainer\"}).text)"
   ]
  },
  {
   "cell_type": "markdown",
   "metadata": {},
   "source": [
    "Get the link to the Tableau data"
   ]
  },
  {
   "cell_type": "code",
   "execution_count": 4,
   "metadata": {
    "execution": {
     "iopub.execute_input": "2021-03-10T11:12:12.745895Z",
     "iopub.status.busy": "2021-03-10T11:12:12.745340Z",
     "iopub.status.idle": "2021-03-10T11:12:12.748668Z",
     "shell.execute_reply": "2021-03-10T11:12:12.748302Z"
    }
   },
   "outputs": [],
   "source": [
    "dataUrl = f'https://public.tableau.com{tableauData[\"vizql_root\"]}/bootstrapSession/sessions/{tableauData[\"sessionid\"]}'"
   ]
  },
  {
   "cell_type": "code",
   "execution_count": 5,
   "metadata": {
    "execution": {
     "iopub.execute_input": "2021-03-10T11:12:12.754549Z",
     "iopub.status.busy": "2021-03-10T11:12:12.754064Z",
     "iopub.status.idle": "2021-03-10T11:12:12.961679Z",
     "shell.execute_reply": "2021-03-10T11:12:12.960591Z"
    }
   },
   "outputs": [],
   "source": [
    "r = requests.post(dataUrl, data= {\n",
    "    \"sheet_id\": tableauData[\"sheetId\"],\n",
    "})\n",
    "\n",
    "dataReg = re.search('\\d+;({.*})\\d+;({.*})', r.text, re.MULTILINE)\n",
    "data1 = json.loads(dataReg.group(2))\n",
    "\n",
    "dataJson = data1[\"secondaryInfo\"][\"presModelMap\"][\"dataDictionary\"][\"presModelHolder\"][\"genDataDictionaryPresModel\"][\"dataSegments\"][\"0\"][\"dataColumns\"]"
   ]
  },
  {
   "cell_type": "markdown",
   "metadata": {},
   "source": [
    "Isolate what you want"
   ]
  },
  {
   "cell_type": "code",
   "execution_count": 6,
   "metadata": {
    "execution": {
     "iopub.execute_input": "2021-03-10T11:12:12.964979Z",
     "iopub.status.busy": "2021-03-10T11:12:12.964488Z",
     "iopub.status.idle": "2021-03-10T11:12:12.967732Z",
     "shell.execute_reply": "2021-03-10T11:12:12.967312Z"
    }
   },
   "outputs": [],
   "source": [
    "counties = dataJson[2]['dataValues'][:58]"
   ]
  },
  {
   "cell_type": "code",
   "execution_count": 7,
   "metadata": {
    "execution": {
     "iopub.execute_input": "2021-03-10T11:12:12.971160Z",
     "iopub.status.busy": "2021-03-10T11:12:12.970649Z",
     "iopub.status.idle": "2021-03-10T11:12:12.973944Z",
     "shell.execute_reply": "2021-03-10T11:12:12.973516Z"
    }
   },
   "outputs": [],
   "source": [
    "doses = dataJson[0]['dataValues'][3:61]"
   ]
  },
  {
   "cell_type": "markdown",
   "metadata": {},
   "source": [
    "Data formatting"
   ]
  },
  {
   "cell_type": "code",
   "execution_count": 8,
   "metadata": {
    "execution": {
     "iopub.execute_input": "2021-03-10T11:12:12.977318Z",
     "iopub.status.busy": "2021-03-10T11:12:12.976769Z",
     "iopub.status.idle": "2021-03-10T11:12:12.980034Z",
     "shell.execute_reply": "2021-03-10T11:12:12.979661Z"
    }
   },
   "outputs": [],
   "source": [
    "zipped = dict(zip(counties, doses))"
   ]
  },
  {
   "cell_type": "code",
   "execution_count": 9,
   "metadata": {
    "execution": {
     "iopub.execute_input": "2021-03-10T11:12:12.985434Z",
     "iopub.status.busy": "2021-03-10T11:12:12.984916Z",
     "iopub.status.idle": "2021-03-10T11:12:12.988157Z",
     "shell.execute_reply": "2021-03-10T11:12:12.987759Z"
    }
   },
   "outputs": [],
   "source": [
    "df = pd.Series(zipped).reset_index()"
   ]
  },
  {
   "cell_type": "code",
   "execution_count": 10,
   "metadata": {
    "execution": {
     "iopub.execute_input": "2021-03-10T11:12:12.991812Z",
     "iopub.status.busy": "2021-03-10T11:12:12.991303Z",
     "iopub.status.idle": "2021-03-10T11:12:12.994817Z",
     "shell.execute_reply": "2021-03-10T11:12:12.994369Z"
    }
   },
   "outputs": [],
   "source": [
    "df.columns = ['location','doses']"
   ]
  },
  {
   "cell_type": "markdown",
   "metadata": {},
   "source": [
    "Grab the overall California total"
   ]
  },
  {
   "cell_type": "code",
   "execution_count": 11,
   "metadata": {
    "execution": {
     "iopub.execute_input": "2021-03-10T11:12:12.998443Z",
     "iopub.status.busy": "2021-03-10T11:12:12.997930Z",
     "iopub.status.idle": "2021-03-10T11:12:13.000803Z",
     "shell.execute_reply": "2021-03-10T11:12:13.001268Z"
    }
   },
   "outputs": [],
   "source": [
    "add = {'location':'California','doses':dataJson[0]['dataValues'][2]}"
   ]
  },
  {
   "cell_type": "code",
   "execution_count": 12,
   "metadata": {
    "execution": {
     "iopub.execute_input": "2021-03-10T11:12:13.007350Z",
     "iopub.status.busy": "2021-03-10T11:12:13.006877Z",
     "iopub.status.idle": "2021-03-10T11:12:13.010239Z",
     "shell.execute_reply": "2021-03-10T11:12:13.009749Z"
    }
   },
   "outputs": [],
   "source": [
    "df = df.append(add, ignore_index=True)"
   ]
  },
  {
   "cell_type": "code",
   "execution_count": 13,
   "metadata": {
    "execution": {
     "iopub.execute_input": "2021-03-10T11:12:13.014402Z",
     "iopub.status.busy": "2021-03-10T11:12:13.013912Z",
     "iopub.status.idle": "2021-03-10T11:12:13.017131Z",
     "shell.execute_reply": "2021-03-10T11:12:13.016674Z"
    }
   },
   "outputs": [],
   "source": [
    "df = df.sort_values(by='location')"
   ]
  },
  {
   "cell_type": "code",
   "execution_count": 14,
   "metadata": {
    "execution": {
     "iopub.execute_input": "2021-03-10T11:12:13.022760Z",
     "iopub.status.busy": "2021-03-10T11:12:13.022250Z",
     "iopub.status.idle": "2021-03-10T11:12:13.025893Z",
     "shell.execute_reply": "2021-03-10T11:12:13.025227Z"
    }
   },
   "outputs": [],
   "source": [
    "df = df[df.location == 'California'].append(df[df.location != 'California']).reset_index(drop=True)"
   ]
  },
  {
   "cell_type": "code",
   "execution_count": null,
   "metadata": {},
   "outputs": [],
   "source": []
  },
  {
   "cell_type": "code",
   "execution_count": 15,
   "metadata": {
    "execution": {
     "iopub.execute_input": "2021-03-10T11:12:13.029221Z",
     "iopub.status.busy": "2021-03-10T11:12:13.028660Z",
     "iopub.status.idle": "2021-03-10T11:12:13.046918Z",
     "shell.execute_reply": "2021-03-10T11:12:13.046434Z"
    }
   },
   "outputs": [],
   "source": [
    "tz = pytz.timezone(\"America/New_York\")"
   ]
  },
  {
   "cell_type": "code",
   "execution_count": 16,
   "metadata": {
    "execution": {
     "iopub.execute_input": "2021-03-10T11:12:13.050334Z",
     "iopub.status.busy": "2021-03-10T11:12:13.049855Z",
     "iopub.status.idle": "2021-03-10T11:12:13.053187Z",
     "shell.execute_reply": "2021-03-10T11:12:13.052690Z"
    }
   },
   "outputs": [],
   "source": [
    "today = datetime.now(tz).date()"
   ]
  },
  {
   "cell_type": "code",
   "execution_count": 17,
   "metadata": {
    "execution": {
     "iopub.execute_input": "2021-03-10T11:12:13.056816Z",
     "iopub.status.busy": "2021-03-10T11:12:13.056301Z",
     "iopub.status.idle": "2021-03-10T11:12:13.059868Z",
     "shell.execute_reply": "2021-03-10T11:12:13.059212Z"
    }
   },
   "outputs": [],
   "source": [
    "data_dir = os.path.join(os.path.abspath(\"\"), \"data\")"
   ]
  },
  {
   "cell_type": "code",
   "execution_count": 18,
   "metadata": {
    "execution": {
     "iopub.execute_input": "2021-03-10T11:12:13.064787Z",
     "iopub.status.busy": "2021-03-10T11:12:13.063178Z",
     "iopub.status.idle": "2021-03-10T11:12:13.068917Z",
     "shell.execute_reply": "2021-03-10T11:12:13.068247Z"
    }
   },
   "outputs": [],
   "source": [
    "df.to_csv(os.path.join(data_dir, f\"{today}.csv\"), index=False)"
   ]
  },
  {
   "cell_type": "code",
   "execution_count": null,
   "metadata": {},
   "outputs": [],
   "source": []
  }
 ],
 "metadata": {
  "kernelspec": {
   "display_name": "Python 3",
   "language": "python",
   "name": "python3"
  },
  "language_info": {
   "codemirror_mode": {
    "name": "ipython",
    "version": 3
   },
   "file_extension": ".py",
   "mimetype": "text/x-python",
   "name": "python",
   "nbconvert_exporter": "python",
   "pygments_lexer": "ipython3",
   "version": "3.8.8"
  }
 },
 "nbformat": 4,
 "nbformat_minor": 4
}
