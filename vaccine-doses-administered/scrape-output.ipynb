{
 "cells": [
  {
   "cell_type": "markdown",
   "metadata": {},
   "source": [
    "# California COVID vaccinations scrape"
   ]
  },
  {
   "cell_type": "markdown",
   "metadata": {},
   "source": [
    "By [Amy O'Kruk](https://twitter.com/amyokruk)"
   ]
  },
  {
   "cell_type": "markdown",
   "metadata": {},
   "source": [
    "Downloads data on vaccine doses administered by county and statewide from a Tableau-powered dashboard from the California Department of Public Health."
   ]
  },
  {
   "cell_type": "code",
   "execution_count": 1,
   "metadata": {
    "execution": {
     "iopub.execute_input": "2021-03-21T21:42:12.409875Z",
     "iopub.status.busy": "2021-03-21T21:42:12.409252Z",
     "iopub.status.idle": "2021-03-21T21:42:12.882282Z",
     "shell.execute_reply": "2021-03-21T21:42:12.881508Z"
    }
   },
   "outputs": [],
   "source": [
    "import pandas as pd\n",
    "import requests\n",
    "from bs4 import BeautifulSoup\n",
    "import json\n",
    "import re\n",
    "import time\n",
    "from time import gmtime, strftime \n",
    "import os\n",
    "import pytz\n",
    "from datetime import datetime"
   ]
  },
  {
   "cell_type": "markdown",
   "metadata": {},
   "source": [
    "Scrape the dashboard page"
   ]
  },
  {
   "cell_type": "code",
   "execution_count": 2,
   "metadata": {
    "execution": {
     "iopub.execute_input": "2021-03-21T21:42:12.886401Z",
     "iopub.status.busy": "2021-03-21T21:42:12.885843Z",
     "iopub.status.idle": "2021-03-21T21:42:13.447491Z",
     "shell.execute_reply": "2021-03-21T21:42:13.446584Z"
    }
   },
   "outputs": [],
   "source": [
    "url = \"https://public.tableau.com/interactive/views/COVID-19VaccineDashboardPublic/Vaccine?:embed=y&:showVizHome=n&:apiID=host0\"\n",
    "\n",
    "r = requests.get(url)\n",
    "soup = BeautifulSoup(r.text, \"html.parser\")"
   ]
  },
  {
   "cell_type": "code",
   "execution_count": 3,
   "metadata": {
    "execution": {
     "iopub.execute_input": "2021-03-21T21:42:13.453113Z",
     "iopub.status.busy": "2021-03-21T21:42:13.452431Z",
     "iopub.status.idle": "2021-03-21T21:42:13.457052Z",
     "shell.execute_reply": "2021-03-21T21:42:13.456567Z"
    }
   },
   "outputs": [],
   "source": [
    "tableauData = json.loads(soup.find(\"textarea\",{\"id\": \"tsConfigContainer\"}).text)"
   ]
  },
  {
   "cell_type": "markdown",
   "metadata": {},
   "source": [
    "Get the link to the Tableau data"
   ]
  },
  {
   "cell_type": "code",
   "execution_count": 4,
   "metadata": {
    "execution": {
     "iopub.execute_input": "2021-03-21T21:42:13.461057Z",
     "iopub.status.busy": "2021-03-21T21:42:13.460313Z",
     "iopub.status.idle": "2021-03-21T21:42:13.462937Z",
     "shell.execute_reply": "2021-03-21T21:42:13.463325Z"
    }
   },
   "outputs": [],
   "source": [
    "dataUrl = f'https://public.tableau.com{tableauData[\"vizql_root\"]}/bootstrapSession/sessions/{tableauData[\"sessionid\"]}'"
   ]
  },
  {
   "cell_type": "code",
   "execution_count": 5,
   "metadata": {
    "execution": {
     "iopub.execute_input": "2021-03-21T21:42:13.470509Z",
     "iopub.status.busy": "2021-03-21T21:42:13.469533Z",
     "iopub.status.idle": "2021-03-21T21:42:13.720875Z",
     "shell.execute_reply": "2021-03-21T21:42:13.720290Z"
    }
   },
   "outputs": [],
   "source": [
    "r = requests.post(dataUrl, data= {\n",
    "    \"sheet_id\": tableauData[\"sheetId\"],\n",
    "})\n",
    "\n",
    "dataReg = re.search('\\d+;({.*})\\d+;({.*})', r.text, re.MULTILINE)\n",
    "data1 = json.loads(dataReg.group(2))\n",
    "\n",
    "dataJson = data1[\"secondaryInfo\"][\"presModelMap\"][\"dataDictionary\"][\"presModelHolder\"][\"genDataDictionaryPresModel\"][\"dataSegments\"][\"0\"][\"dataColumns\"]"
   ]
  },
  {
   "cell_type": "markdown",
   "metadata": {},
   "source": [
    "Isolate what you want"
   ]
  },
  {
   "cell_type": "code",
   "execution_count": 6,
   "metadata": {
    "execution": {
     "iopub.execute_input": "2021-03-21T21:42:13.724812Z",
     "iopub.status.busy": "2021-03-21T21:42:13.724276Z",
     "iopub.status.idle": "2021-03-21T21:42:13.727784Z",
     "shell.execute_reply": "2021-03-21T21:42:13.727368Z"
    }
   },
   "outputs": [],
   "source": [
    "counties = dataJson[2]['dataValues'][:58]"
   ]
  },
  {
   "cell_type": "code",
   "execution_count": 7,
   "metadata": {
    "execution": {
     "iopub.execute_input": "2021-03-21T21:42:13.730911Z",
     "iopub.status.busy": "2021-03-21T21:42:13.729826Z",
     "iopub.status.idle": "2021-03-21T21:42:13.733620Z",
     "shell.execute_reply": "2021-03-21T21:42:13.733055Z"
    }
   },
   "outputs": [],
   "source": [
    "doses = dataJson[0]['dataValues'][3:61]"
   ]
  },
  {
   "cell_type": "markdown",
   "metadata": {},
   "source": [
    "Data formatting"
   ]
  },
  {
   "cell_type": "code",
   "execution_count": 8,
   "metadata": {
    "execution": {
     "iopub.execute_input": "2021-03-21T21:42:13.738316Z",
     "iopub.status.busy": "2021-03-21T21:42:13.736922Z",
     "iopub.status.idle": "2021-03-21T21:42:13.738902Z",
     "shell.execute_reply": "2021-03-21T21:42:13.739530Z"
    }
   },
   "outputs": [],
   "source": [
    "zipped = dict(zip(counties, doses))"
   ]
  },
  {
   "cell_type": "code",
   "execution_count": 9,
   "metadata": {
    "execution": {
     "iopub.execute_input": "2021-03-21T21:42:13.746473Z",
     "iopub.status.busy": "2021-03-21T21:42:13.745051Z",
     "iopub.status.idle": "2021-03-21T21:42:13.747071Z",
     "shell.execute_reply": "2021-03-21T21:42:13.747499Z"
    }
   },
   "outputs": [],
   "source": [
    "df = pd.Series(zipped).reset_index()"
   ]
  },
  {
   "cell_type": "code",
   "execution_count": 10,
   "metadata": {
    "execution": {
     "iopub.execute_input": "2021-03-21T21:42:13.752735Z",
     "iopub.status.busy": "2021-03-21T21:42:13.750976Z",
     "iopub.status.idle": "2021-03-21T21:42:13.753380Z",
     "shell.execute_reply": "2021-03-21T21:42:13.753865Z"
    }
   },
   "outputs": [],
   "source": [
    "df.columns = ['location','doses']"
   ]
  },
  {
   "cell_type": "markdown",
   "metadata": {},
   "source": [
    "Grab the overall California total"
   ]
  },
  {
   "cell_type": "code",
   "execution_count": 11,
   "metadata": {
    "execution": {
     "iopub.execute_input": "2021-03-21T21:42:13.759192Z",
     "iopub.status.busy": "2021-03-21T21:42:13.757733Z",
     "iopub.status.idle": "2021-03-21T21:42:13.759857Z",
     "shell.execute_reply": "2021-03-21T21:42:13.760332Z"
    }
   },
   "outputs": [],
   "source": [
    "add = {'location':'California','doses':dataJson[0]['dataValues'][2]}"
   ]
  },
  {
   "cell_type": "code",
   "execution_count": 12,
   "metadata": {
    "execution": {
     "iopub.execute_input": "2021-03-21T21:42:13.765821Z",
     "iopub.status.busy": "2021-03-21T21:42:13.765293Z",
     "iopub.status.idle": "2021-03-21T21:42:13.769131Z",
     "shell.execute_reply": "2021-03-21T21:42:13.769540Z"
    }
   },
   "outputs": [],
   "source": [
    "df = df.append(add, ignore_index=True)"
   ]
  },
  {
   "cell_type": "code",
   "execution_count": 13,
   "metadata": {
    "execution": {
     "iopub.execute_input": "2021-03-21T21:42:13.774931Z",
     "iopub.status.busy": "2021-03-21T21:42:13.773801Z",
     "iopub.status.idle": "2021-03-21T21:42:13.775813Z",
     "shell.execute_reply": "2021-03-21T21:42:13.776309Z"
    }
   },
   "outputs": [],
   "source": [
    "df = df.sort_values(by='location')"
   ]
  },
  {
   "cell_type": "code",
   "execution_count": 14,
   "metadata": {
    "execution": {
     "iopub.execute_input": "2021-03-21T21:42:13.783865Z",
     "iopub.status.busy": "2021-03-21T21:42:13.783146Z",
     "iopub.status.idle": "2021-03-21T21:42:13.786475Z",
     "shell.execute_reply": "2021-03-21T21:42:13.785726Z"
    }
   },
   "outputs": [],
   "source": [
    "df = df[df.location == 'California'].append(df[df.location != 'California']).reset_index(drop=True)"
   ]
  },
  {
   "cell_type": "code",
   "execution_count": null,
   "metadata": {},
   "outputs": [],
   "source": []
  },
  {
   "cell_type": "code",
   "execution_count": 15,
   "metadata": {
    "execution": {
     "iopub.execute_input": "2021-03-21T21:42:13.790400Z",
     "iopub.status.busy": "2021-03-21T21:42:13.789848Z",
     "iopub.status.idle": "2021-03-21T21:42:13.810091Z",
     "shell.execute_reply": "2021-03-21T21:42:13.810557Z"
    }
   },
   "outputs": [],
   "source": [
    "tz = pytz.timezone(\"America/New_York\")"
   ]
  },
  {
   "cell_type": "code",
   "execution_count": 16,
   "metadata": {
    "execution": {
     "iopub.execute_input": "2021-03-21T21:42:13.816218Z",
     "iopub.status.busy": "2021-03-21T21:42:13.814824Z",
     "iopub.status.idle": "2021-03-21T21:42:13.816873Z",
     "shell.execute_reply": "2021-03-21T21:42:13.817335Z"
    }
   },
   "outputs": [],
   "source": [
    "today = datetime.now(tz).date()"
   ]
  },
  {
   "cell_type": "code",
   "execution_count": 17,
   "metadata": {
    "execution": {
     "iopub.execute_input": "2021-03-21T21:42:13.822575Z",
     "iopub.status.busy": "2021-03-21T21:42:13.821483Z",
     "iopub.status.idle": "2021-03-21T21:42:13.823781Z",
     "shell.execute_reply": "2021-03-21T21:42:13.825309Z"
    }
   },
   "outputs": [],
   "source": [
    "data_dir = os.path.join(os.path.abspath(\"\"), \"data\")"
   ]
  },
  {
   "cell_type": "code",
   "execution_count": 18,
   "metadata": {
    "execution": {
     "iopub.execute_input": "2021-03-21T21:42:13.832526Z",
     "iopub.status.busy": "2021-03-21T21:42:13.831938Z",
     "iopub.status.idle": "2021-03-21T21:42:13.834090Z",
     "shell.execute_reply": "2021-03-21T21:42:13.834519Z"
    }
   },
   "outputs": [],
   "source": [
    "df.to_csv(os.path.join(data_dir, f\"{today}.csv\"), index=False)"
   ]
  },
  {
   "cell_type": "code",
   "execution_count": null,
   "metadata": {},
   "outputs": [],
   "source": []
  }
 ],
 "metadata": {
  "kernelspec": {
   "display_name": "Python 3",
   "language": "python",
   "name": "python3"
  },
  "language_info": {
   "codemirror_mode": {
    "name": "ipython",
    "version": 3
   },
   "file_extension": ".py",
   "mimetype": "text/x-python",
   "name": "python",
   "nbconvert_exporter": "python",
   "pygments_lexer": "ipython3",
   "version": "3.8.8"
  }
 },
 "nbformat": 4,
 "nbformat_minor": 4
}
