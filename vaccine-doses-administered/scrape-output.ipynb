{
 "cells": [
  {
   "cell_type": "markdown",
   "metadata": {},
   "source": [
    "# California COVID vaccinations scrape"
   ]
  },
  {
   "cell_type": "markdown",
   "metadata": {},
   "source": [
    "By [Amy O'Kruk](https://twitter.com/amyokruk)"
   ]
  },
  {
   "cell_type": "markdown",
   "metadata": {},
   "source": [
    "Downloads data on vaccine doses administered by county and statewide from a Tableau-powered dashboard from the California Department of Public Health."
   ]
  },
  {
   "cell_type": "code",
   "execution_count": 1,
   "metadata": {
    "execution": {
     "iopub.execute_input": "2021-03-18T14:13:02.333218Z",
     "iopub.status.busy": "2021-03-18T14:13:02.332169Z",
     "iopub.status.idle": "2021-03-18T14:13:02.775643Z",
     "shell.execute_reply": "2021-03-18T14:13:02.774701Z"
    }
   },
   "outputs": [],
   "source": [
    "import pandas as pd\n",
    "import requests\n",
    "from bs4 import BeautifulSoup\n",
    "import json\n",
    "import re\n",
    "import time\n",
    "from time import gmtime, strftime \n",
    "import os\n",
    "import pytz\n",
    "from datetime import datetime"
   ]
  },
  {
   "cell_type": "markdown",
   "metadata": {},
   "source": [
    "Scrape the dashboard page"
   ]
  },
  {
   "cell_type": "code",
   "execution_count": 2,
   "metadata": {
    "execution": {
     "iopub.execute_input": "2021-03-18T14:13:02.780136Z",
     "iopub.status.busy": "2021-03-18T14:13:02.779656Z",
     "iopub.status.idle": "2021-03-18T14:13:03.326106Z",
     "shell.execute_reply": "2021-03-18T14:13:03.325671Z"
    }
   },
   "outputs": [],
   "source": [
    "url = \"https://public.tableau.com/interactive/views/COVID-19VaccineDashboardPublic/Vaccine?:embed=y&:showVizHome=n&:apiID=host0\"\n",
    "\n",
    "r = requests.get(url)\n",
    "soup = BeautifulSoup(r.text, \"html.parser\")"
   ]
  },
  {
   "cell_type": "code",
   "execution_count": 3,
   "metadata": {
    "execution": {
     "iopub.execute_input": "2021-03-18T14:13:03.330701Z",
     "iopub.status.busy": "2021-03-18T14:13:03.330202Z",
     "iopub.status.idle": "2021-03-18T14:13:03.333406Z",
     "shell.execute_reply": "2021-03-18T14:13:03.333798Z"
    }
   },
   "outputs": [],
   "source": [
    "tableauData = json.loads(soup.find(\"textarea\",{\"id\": \"tsConfigContainer\"}).text)"
   ]
  },
  {
   "cell_type": "markdown",
   "metadata": {},
   "source": [
    "Get the link to the Tableau data"
   ]
  },
  {
   "cell_type": "code",
   "execution_count": 4,
   "metadata": {
    "execution": {
     "iopub.execute_input": "2021-03-18T14:13:03.337220Z",
     "iopub.status.busy": "2021-03-18T14:13:03.336769Z",
     "iopub.status.idle": "2021-03-18T14:13:03.340309Z",
     "shell.execute_reply": "2021-03-18T14:13:03.339872Z"
    }
   },
   "outputs": [],
   "source": [
    "dataUrl = f'https://public.tableau.com{tableauData[\"vizql_root\"]}/bootstrapSession/sessions/{tableauData[\"sessionid\"]}'"
   ]
  },
  {
   "cell_type": "code",
   "execution_count": 5,
   "metadata": {
    "execution": {
     "iopub.execute_input": "2021-03-18T14:13:03.345330Z",
     "iopub.status.busy": "2021-03-18T14:13:03.344938Z",
     "iopub.status.idle": "2021-03-18T14:13:06.376222Z",
     "shell.execute_reply": "2021-03-18T14:13:06.375445Z"
    }
   },
   "outputs": [],
   "source": [
    "r = requests.post(dataUrl, data= {\n",
    "    \"sheet_id\": tableauData[\"sheetId\"],\n",
    "})\n",
    "\n",
    "dataReg = re.search('\\d+;({.*})\\d+;({.*})', r.text, re.MULTILINE)\n",
    "data1 = json.loads(dataReg.group(2))\n",
    "\n",
    "dataJson = data1[\"secondaryInfo\"][\"presModelMap\"][\"dataDictionary\"][\"presModelHolder\"][\"genDataDictionaryPresModel\"][\"dataSegments\"][\"0\"][\"dataColumns\"]"
   ]
  },
  {
   "cell_type": "markdown",
   "metadata": {},
   "source": [
    "Isolate what you want"
   ]
  },
  {
   "cell_type": "code",
   "execution_count": 6,
   "metadata": {
    "execution": {
     "iopub.execute_input": "2021-03-18T14:13:06.381243Z",
     "iopub.status.busy": "2021-03-18T14:13:06.380312Z",
     "iopub.status.idle": "2021-03-18T14:13:06.383264Z",
     "shell.execute_reply": "2021-03-18T14:13:06.382869Z"
    }
   },
   "outputs": [],
   "source": [
    "counties = dataJson[2]['dataValues'][:58]"
   ]
  },
  {
   "cell_type": "code",
   "execution_count": 7,
   "metadata": {
    "execution": {
     "iopub.execute_input": "2021-03-18T14:13:06.387228Z",
     "iopub.status.busy": "2021-03-18T14:13:06.386352Z",
     "iopub.status.idle": "2021-03-18T14:13:06.387988Z",
     "shell.execute_reply": "2021-03-18T14:13:06.388396Z"
    }
   },
   "outputs": [],
   "source": [
    "doses = dataJson[0]['dataValues'][3:61]"
   ]
  },
  {
   "cell_type": "markdown",
   "metadata": {},
   "source": [
    "Data formatting"
   ]
  },
  {
   "cell_type": "code",
   "execution_count": 8,
   "metadata": {
    "execution": {
     "iopub.execute_input": "2021-03-18T14:13:06.391863Z",
     "iopub.status.busy": "2021-03-18T14:13:06.391067Z",
     "iopub.status.idle": "2021-03-18T14:13:06.392477Z",
     "shell.execute_reply": "2021-03-18T14:13:06.392774Z"
    }
   },
   "outputs": [],
   "source": [
    "zipped = dict(zip(counties, doses))"
   ]
  },
  {
   "cell_type": "code",
   "execution_count": 9,
   "metadata": {
    "execution": {
     "iopub.execute_input": "2021-03-18T14:13:06.397685Z",
     "iopub.status.busy": "2021-03-18T14:13:06.396782Z",
     "iopub.status.idle": "2021-03-18T14:13:06.398902Z",
     "shell.execute_reply": "2021-03-18T14:13:06.398492Z"
    }
   },
   "outputs": [],
   "source": [
    "df = pd.Series(zipped).reset_index()"
   ]
  },
  {
   "cell_type": "code",
   "execution_count": 10,
   "metadata": {
    "execution": {
     "iopub.execute_input": "2021-03-18T14:13:06.402200Z",
     "iopub.status.busy": "2021-03-18T14:13:06.401603Z",
     "iopub.status.idle": "2021-03-18T14:13:06.403374Z",
     "shell.execute_reply": "2021-03-18T14:13:06.402985Z"
    }
   },
   "outputs": [],
   "source": [
    "df.columns = ['location','doses']"
   ]
  },
  {
   "cell_type": "markdown",
   "metadata": {},
   "source": [
    "Grab the overall California total"
   ]
  },
  {
   "cell_type": "code",
   "execution_count": 11,
   "metadata": {
    "execution": {
     "iopub.execute_input": "2021-03-18T14:13:06.406628Z",
     "iopub.status.busy": "2021-03-18T14:13:06.405936Z",
     "iopub.status.idle": "2021-03-18T14:13:06.407776Z",
     "shell.execute_reply": "2021-03-18T14:13:06.407346Z"
    }
   },
   "outputs": [],
   "source": [
    "add = {'location':'California','doses':dataJson[0]['dataValues'][2]}"
   ]
  },
  {
   "cell_type": "code",
   "execution_count": 12,
   "metadata": {
    "execution": {
     "iopub.execute_input": "2021-03-18T14:13:06.412281Z",
     "iopub.status.busy": "2021-03-18T14:13:06.411927Z",
     "iopub.status.idle": "2021-03-18T14:13:06.413726Z",
     "shell.execute_reply": "2021-03-18T14:13:06.414077Z"
    }
   },
   "outputs": [],
   "source": [
    "df = df.append(add, ignore_index=True)"
   ]
  },
  {
   "cell_type": "code",
   "execution_count": 13,
   "metadata": {
    "execution": {
     "iopub.execute_input": "2021-03-18T14:13:06.417504Z",
     "iopub.status.busy": "2021-03-18T14:13:06.417150Z",
     "iopub.status.idle": "2021-03-18T14:13:06.419051Z",
     "shell.execute_reply": "2021-03-18T14:13:06.418565Z"
    }
   },
   "outputs": [],
   "source": [
    "df = df.sort_values(by='location')"
   ]
  },
  {
   "cell_type": "code",
   "execution_count": 14,
   "metadata": {
    "execution": {
     "iopub.execute_input": "2021-03-18T14:13:06.424250Z",
     "iopub.status.busy": "2021-03-18T14:13:06.423646Z",
     "iopub.status.idle": "2021-03-18T14:13:06.425317Z",
     "shell.execute_reply": "2021-03-18T14:13:06.424935Z"
    }
   },
   "outputs": [],
   "source": [
    "df = df[df.location == 'California'].append(df[df.location != 'California']).reset_index(drop=True)"
   ]
  },
  {
   "cell_type": "code",
   "execution_count": null,
   "metadata": {},
   "outputs": [],
   "source": []
  },
  {
   "cell_type": "code",
   "execution_count": 15,
   "metadata": {
    "execution": {
     "iopub.execute_input": "2021-03-18T14:13:06.427757Z",
     "iopub.status.busy": "2021-03-18T14:13:06.427405Z",
     "iopub.status.idle": "2021-03-18T14:13:06.441865Z",
     "shell.execute_reply": "2021-03-18T14:13:06.441452Z"
    }
   },
   "outputs": [],
   "source": [
    "tz = pytz.timezone(\"America/New_York\")"
   ]
  },
  {
   "cell_type": "code",
   "execution_count": 16,
   "metadata": {
    "execution": {
     "iopub.execute_input": "2021-03-18T14:13:06.445069Z",
     "iopub.status.busy": "2021-03-18T14:13:06.444156Z",
     "iopub.status.idle": "2021-03-18T14:13:06.446096Z",
     "shell.execute_reply": "2021-03-18T14:13:06.445752Z"
    }
   },
   "outputs": [],
   "source": [
    "today = datetime.now(tz).date()"
   ]
  },
  {
   "cell_type": "code",
   "execution_count": 17,
   "metadata": {
    "execution": {
     "iopub.execute_input": "2021-03-18T14:13:06.448824Z",
     "iopub.status.busy": "2021-03-18T14:13:06.448449Z",
     "iopub.status.idle": "2021-03-18T14:13:06.450443Z",
     "shell.execute_reply": "2021-03-18T14:13:06.450023Z"
    }
   },
   "outputs": [],
   "source": [
    "data_dir = os.path.join(os.path.abspath(\"\"), \"data\")"
   ]
  },
  {
   "cell_type": "code",
   "execution_count": 18,
   "metadata": {
    "execution": {
     "iopub.execute_input": "2021-03-18T14:13:06.453757Z",
     "iopub.status.busy": "2021-03-18T14:13:06.452732Z",
     "iopub.status.idle": "2021-03-18T14:13:06.456380Z",
     "shell.execute_reply": "2021-03-18T14:13:06.456701Z"
    }
   },
   "outputs": [],
   "source": [
    "df.to_csv(os.path.join(data_dir, f\"{today}.csv\"), index=False)"
   ]
  },
  {
   "cell_type": "code",
   "execution_count": null,
   "metadata": {},
   "outputs": [],
   "source": []
  }
 ],
 "metadata": {
  "kernelspec": {
   "display_name": "Python 3",
   "language": "python",
   "name": "python3"
  },
  "language_info": {
   "codemirror_mode": {
    "name": "ipython",
    "version": 3
   },
   "file_extension": ".py",
   "mimetype": "text/x-python",
   "name": "python",
   "nbconvert_exporter": "python",
   "pygments_lexer": "ipython3",
   "version": "3.8.8"
  }
 },
 "nbformat": 4,
 "nbformat_minor": 4
}
