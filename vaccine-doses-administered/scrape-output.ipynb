{
 "cells": [
  {
   "cell_type": "markdown",
   "metadata": {},
   "source": [
    "# California COVID vaccinations scrape"
   ]
  },
  {
   "cell_type": "markdown",
   "metadata": {},
   "source": [
    "By [Amy O'Kruk](https://twitter.com/amyokruk)"
   ]
  },
  {
   "cell_type": "markdown",
   "metadata": {},
   "source": [
    "Downloads data on vaccine doses administered by county and statewide from a Tableau-powered dashboard from the California Department of Public Health."
   ]
  },
  {
   "cell_type": "code",
   "execution_count": 1,
   "metadata": {
    "execution": {
     "iopub.execute_input": "2021-03-13T17:55:32.601473Z",
     "iopub.status.busy": "2021-03-13T17:55:32.600850Z",
     "iopub.status.idle": "2021-03-13T17:55:32.996036Z",
     "shell.execute_reply": "2021-03-13T17:55:32.994921Z"
    }
   },
   "outputs": [],
   "source": [
    "import pandas as pd\n",
    "import requests\n",
    "from bs4 import BeautifulSoup\n",
    "import json\n",
    "import re\n",
    "import time\n",
    "from time import gmtime, strftime \n",
    "import os\n",
    "import pytz\n",
    "from datetime import datetime"
   ]
  },
  {
   "cell_type": "markdown",
   "metadata": {},
   "source": [
    "Scrape the dashboard page"
   ]
  },
  {
   "cell_type": "code",
   "execution_count": 2,
   "metadata": {
    "execution": {
     "iopub.execute_input": "2021-03-13T17:55:33.003570Z",
     "iopub.status.busy": "2021-03-13T17:55:33.000803Z",
     "iopub.status.idle": "2021-03-13T17:55:33.407857Z",
     "shell.execute_reply": "2021-03-13T17:55:33.406780Z"
    }
   },
   "outputs": [],
   "source": [
    "url = \"https://public.tableau.com/interactive/views/COVID-19VaccineDashboardPublic/Vaccine?:embed=y&:showVizHome=n&:apiID=host0\"\n",
    "\n",
    "r = requests.get(url)\n",
    "soup = BeautifulSoup(r.text, \"html.parser\")"
   ]
  },
  {
   "cell_type": "code",
   "execution_count": 3,
   "metadata": {
    "execution": {
     "iopub.execute_input": "2021-03-13T17:55:33.412113Z",
     "iopub.status.busy": "2021-03-13T17:55:33.411589Z",
     "iopub.status.idle": "2021-03-13T17:55:33.415384Z",
     "shell.execute_reply": "2021-03-13T17:55:33.414984Z"
    }
   },
   "outputs": [],
   "source": [
    "tableauData = json.loads(soup.find(\"textarea\",{\"id\": \"tsConfigContainer\"}).text)"
   ]
  },
  {
   "cell_type": "markdown",
   "metadata": {},
   "source": [
    "Get the link to the Tableau data"
   ]
  },
  {
   "cell_type": "code",
   "execution_count": 4,
   "metadata": {
    "execution": {
     "iopub.execute_input": "2021-03-13T17:55:33.418478Z",
     "iopub.status.busy": "2021-03-13T17:55:33.418114Z",
     "iopub.status.idle": "2021-03-13T17:55:33.419912Z",
     "shell.execute_reply": "2021-03-13T17:55:33.419570Z"
    }
   },
   "outputs": [],
   "source": [
    "dataUrl = f'https://public.tableau.com{tableauData[\"vizql_root\"]}/bootstrapSession/sessions/{tableauData[\"sessionid\"]}'"
   ]
  },
  {
   "cell_type": "code",
   "execution_count": 5,
   "metadata": {
    "execution": {
     "iopub.execute_input": "2021-03-13T17:55:33.424992Z",
     "iopub.status.busy": "2021-03-13T17:55:33.424551Z",
     "iopub.status.idle": "2021-03-13T17:55:33.850311Z",
     "shell.execute_reply": "2021-03-13T17:55:33.849455Z"
    }
   },
   "outputs": [],
   "source": [
    "r = requests.post(dataUrl, data= {\n",
    "    \"sheet_id\": tableauData[\"sheetId\"],\n",
    "})\n",
    "\n",
    "dataReg = re.search('\\d+;({.*})\\d+;({.*})', r.text, re.MULTILINE)\n",
    "data1 = json.loads(dataReg.group(2))\n",
    "\n",
    "dataJson = data1[\"secondaryInfo\"][\"presModelMap\"][\"dataDictionary\"][\"presModelHolder\"][\"genDataDictionaryPresModel\"][\"dataSegments\"][\"0\"][\"dataColumns\"]"
   ]
  },
  {
   "cell_type": "markdown",
   "metadata": {},
   "source": [
    "Isolate what you want"
   ]
  },
  {
   "cell_type": "code",
   "execution_count": 6,
   "metadata": {
    "execution": {
     "iopub.execute_input": "2021-03-13T17:55:33.855923Z",
     "iopub.status.busy": "2021-03-13T17:55:33.855064Z",
     "iopub.status.idle": "2021-03-13T17:55:33.856789Z",
     "shell.execute_reply": "2021-03-13T17:55:33.856382Z"
    }
   },
   "outputs": [],
   "source": [
    "counties = dataJson[2]['dataValues'][:58]"
   ]
  },
  {
   "cell_type": "code",
   "execution_count": 7,
   "metadata": {
    "execution": {
     "iopub.execute_input": "2021-03-13T17:55:33.860680Z",
     "iopub.status.busy": "2021-03-13T17:55:33.859786Z",
     "iopub.status.idle": "2021-03-13T17:55:33.861589Z",
     "shell.execute_reply": "2021-03-13T17:55:33.861992Z"
    }
   },
   "outputs": [],
   "source": [
    "doses = dataJson[0]['dataValues'][3:61]"
   ]
  },
  {
   "cell_type": "markdown",
   "metadata": {},
   "source": [
    "Data formatting"
   ]
  },
  {
   "cell_type": "code",
   "execution_count": 8,
   "metadata": {
    "execution": {
     "iopub.execute_input": "2021-03-13T17:55:33.865741Z",
     "iopub.status.busy": "2021-03-13T17:55:33.864780Z",
     "iopub.status.idle": "2021-03-13T17:55:33.866315Z",
     "shell.execute_reply": "2021-03-13T17:55:33.866664Z"
    }
   },
   "outputs": [],
   "source": [
    "zipped = dict(zip(counties, doses))"
   ]
  },
  {
   "cell_type": "code",
   "execution_count": 9,
   "metadata": {
    "execution": {
     "iopub.execute_input": "2021-03-13T17:55:33.872421Z",
     "iopub.status.busy": "2021-03-13T17:55:33.871559Z",
     "iopub.status.idle": "2021-03-13T17:55:33.873760Z",
     "shell.execute_reply": "2021-03-13T17:55:33.873319Z"
    }
   },
   "outputs": [],
   "source": [
    "df = pd.Series(zipped).reset_index()"
   ]
  },
  {
   "cell_type": "code",
   "execution_count": 10,
   "metadata": {
    "execution": {
     "iopub.execute_input": "2021-03-13T17:55:33.877831Z",
     "iopub.status.busy": "2021-03-13T17:55:33.876723Z",
     "iopub.status.idle": "2021-03-13T17:55:33.878419Z",
     "shell.execute_reply": "2021-03-13T17:55:33.878841Z"
    }
   },
   "outputs": [],
   "source": [
    "df.columns = ['location','doses']"
   ]
  },
  {
   "cell_type": "markdown",
   "metadata": {},
   "source": [
    "Grab the overall California total"
   ]
  },
  {
   "cell_type": "code",
   "execution_count": 11,
   "metadata": {
    "execution": {
     "iopub.execute_input": "2021-03-13T17:55:33.882295Z",
     "iopub.status.busy": "2021-03-13T17:55:33.881564Z",
     "iopub.status.idle": "2021-03-13T17:55:33.883511Z",
     "shell.execute_reply": "2021-03-13T17:55:33.883055Z"
    }
   },
   "outputs": [],
   "source": [
    "add = {'location':'California','doses':dataJson[0]['dataValues'][2]}"
   ]
  },
  {
   "cell_type": "code",
   "execution_count": 12,
   "metadata": {
    "execution": {
     "iopub.execute_input": "2021-03-13T17:55:33.889481Z",
     "iopub.status.busy": "2021-03-13T17:55:33.888552Z",
     "iopub.status.idle": "2021-03-13T17:55:33.890506Z",
     "shell.execute_reply": "2021-03-13T17:55:33.890158Z"
    }
   },
   "outputs": [],
   "source": [
    "df = df.append(add, ignore_index=True)"
   ]
  },
  {
   "cell_type": "code",
   "execution_count": 13,
   "metadata": {
    "execution": {
     "iopub.execute_input": "2021-03-13T17:55:33.895099Z",
     "iopub.status.busy": "2021-03-13T17:55:33.893987Z",
     "iopub.status.idle": "2021-03-13T17:55:33.895620Z",
     "shell.execute_reply": "2021-03-13T17:55:33.895988Z"
    }
   },
   "outputs": [],
   "source": [
    "df = df.sort_values(by='location')"
   ]
  },
  {
   "cell_type": "code",
   "execution_count": 14,
   "metadata": {
    "execution": {
     "iopub.execute_input": "2021-03-13T17:55:33.901232Z",
     "iopub.status.busy": "2021-03-13T17:55:33.900756Z",
     "iopub.status.idle": "2021-03-13T17:55:33.903622Z",
     "shell.execute_reply": "2021-03-13T17:55:33.904052Z"
    }
   },
   "outputs": [],
   "source": [
    "df = df[df.location == 'California'].append(df[df.location != 'California']).reset_index(drop=True)"
   ]
  },
  {
   "cell_type": "code",
   "execution_count": null,
   "metadata": {},
   "outputs": [],
   "source": []
  },
  {
   "cell_type": "code",
   "execution_count": 15,
   "metadata": {
    "execution": {
     "iopub.execute_input": "2021-03-13T17:55:33.907342Z",
     "iopub.status.busy": "2021-03-13T17:55:33.906614Z",
     "iopub.status.idle": "2021-03-13T17:55:33.923344Z",
     "shell.execute_reply": "2021-03-13T17:55:33.922406Z"
    }
   },
   "outputs": [],
   "source": [
    "tz = pytz.timezone(\"America/New_York\")"
   ]
  },
  {
   "cell_type": "code",
   "execution_count": 16,
   "metadata": {
    "execution": {
     "iopub.execute_input": "2021-03-13T17:55:33.926551Z",
     "iopub.status.busy": "2021-03-13T17:55:33.926083Z",
     "iopub.status.idle": "2021-03-13T17:55:33.929753Z",
     "shell.execute_reply": "2021-03-13T17:55:33.928819Z"
    }
   },
   "outputs": [],
   "source": [
    "today = datetime.now(tz).date()"
   ]
  },
  {
   "cell_type": "code",
   "execution_count": 17,
   "metadata": {
    "execution": {
     "iopub.execute_input": "2021-03-13T17:55:33.933067Z",
     "iopub.status.busy": "2021-03-13T17:55:33.932640Z",
     "iopub.status.idle": "2021-03-13T17:55:33.935674Z",
     "shell.execute_reply": "2021-03-13T17:55:33.935258Z"
    }
   },
   "outputs": [],
   "source": [
    "data_dir = os.path.join(os.path.abspath(\"\"), \"data\")"
   ]
  },
  {
   "cell_type": "code",
   "execution_count": 18,
   "metadata": {
    "execution": {
     "iopub.execute_input": "2021-03-13T17:55:33.941067Z",
     "iopub.status.busy": "2021-03-13T17:55:33.939028Z",
     "iopub.status.idle": "2021-03-13T17:55:33.944389Z",
     "shell.execute_reply": "2021-03-13T17:55:33.944019Z"
    }
   },
   "outputs": [],
   "source": [
    "df.to_csv(os.path.join(data_dir, f\"{today}.csv\"), index=False)"
   ]
  },
  {
   "cell_type": "code",
   "execution_count": null,
   "metadata": {},
   "outputs": [],
   "source": []
  }
 ],
 "metadata": {
  "kernelspec": {
   "display_name": "Python 3",
   "language": "python",
   "name": "python3"
  },
  "language_info": {
   "codemirror_mode": {
    "name": "ipython",
    "version": 3
   },
   "file_extension": ".py",
   "mimetype": "text/x-python",
   "name": "python",
   "nbconvert_exporter": "python",
   "pygments_lexer": "ipython3",
   "version": "3.8.8"
  }
 },
 "nbformat": 4,
 "nbformat_minor": 4
}
