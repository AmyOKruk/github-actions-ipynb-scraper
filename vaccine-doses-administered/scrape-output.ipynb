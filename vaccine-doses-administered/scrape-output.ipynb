{
 "cells": [
  {
   "cell_type": "markdown",
   "metadata": {},
   "source": [
    "# California COVID vaccinations scrape"
   ]
  },
  {
   "cell_type": "markdown",
   "metadata": {},
   "source": [
    "By [Amy O'Kruk](https://twitter.com/amyokruk)"
   ]
  },
  {
   "cell_type": "markdown",
   "metadata": {},
   "source": [
    "Downloads data on vaccine doses administered by county and statewide from a Tableau-powered dashboard from the California Department of Public Health."
   ]
  },
  {
   "cell_type": "code",
   "execution_count": 1,
   "metadata": {
    "execution": {
     "iopub.execute_input": "2021-03-24T00:31:09.592956Z",
     "iopub.status.busy": "2021-03-24T00:31:09.592116Z",
     "iopub.status.idle": "2021-03-24T00:31:09.918379Z",
     "shell.execute_reply": "2021-03-24T00:31:09.917216Z"
    }
   },
   "outputs": [],
   "source": [
    "import pandas as pd\n",
    "import requests\n",
    "from bs4 import BeautifulSoup\n",
    "import json\n",
    "import re\n",
    "import time\n",
    "from time import gmtime, strftime \n",
    "import os\n",
    "import pytz\n",
    "from datetime import datetime"
   ]
  },
  {
   "cell_type": "markdown",
   "metadata": {},
   "source": [
    "Scrape the dashboard page"
   ]
  },
  {
   "cell_type": "code",
   "execution_count": 2,
   "metadata": {
    "execution": {
     "iopub.execute_input": "2021-03-24T00:31:09.922943Z",
     "iopub.status.busy": "2021-03-24T00:31:09.921074Z",
     "iopub.status.idle": "2021-03-24T00:31:10.373276Z",
     "shell.execute_reply": "2021-03-24T00:31:10.372483Z"
    }
   },
   "outputs": [],
   "source": [
    "url = \"https://public.tableau.com/interactive/views/COVID-19VaccineDashboardPublic/Vaccine?:embed=y&:showVizHome=n&:apiID=host0\"\n",
    "\n",
    "r = requests.get(url)\n",
    "soup = BeautifulSoup(r.text, \"html.parser\")"
   ]
  },
  {
   "cell_type": "code",
   "execution_count": 3,
   "metadata": {
    "execution": {
     "iopub.execute_input": "2021-03-24T00:31:10.377644Z",
     "iopub.status.busy": "2021-03-24T00:31:10.377214Z",
     "iopub.status.idle": "2021-03-24T00:31:10.380347Z",
     "shell.execute_reply": "2021-03-24T00:31:10.380632Z"
    }
   },
   "outputs": [],
   "source": [
    "tableauData = json.loads(soup.find(\"textarea\",{\"id\": \"tsConfigContainer\"}).text)"
   ]
  },
  {
   "cell_type": "markdown",
   "metadata": {},
   "source": [
    "Get the link to the Tableau data"
   ]
  },
  {
   "cell_type": "code",
   "execution_count": 4,
   "metadata": {
    "execution": {
     "iopub.execute_input": "2021-03-24T00:31:10.383699Z",
     "iopub.status.busy": "2021-03-24T00:31:10.382908Z",
     "iopub.status.idle": "2021-03-24T00:31:10.384877Z",
     "shell.execute_reply": "2021-03-24T00:31:10.384511Z"
    }
   },
   "outputs": [],
   "source": [
    "dataUrl = f'https://public.tableau.com{tableauData[\"vizql_root\"]}/bootstrapSession/sessions/{tableauData[\"sessionid\"]}'"
   ]
  },
  {
   "cell_type": "code",
   "execution_count": 5,
   "metadata": {
    "execution": {
     "iopub.execute_input": "2021-03-24T00:31:10.390223Z",
     "iopub.status.busy": "2021-03-24T00:31:10.389742Z",
     "iopub.status.idle": "2021-03-24T00:31:10.738910Z",
     "shell.execute_reply": "2021-03-24T00:31:10.738556Z"
    }
   },
   "outputs": [],
   "source": [
    "r = requests.post(dataUrl, data= {\n",
    "    \"sheet_id\": tableauData[\"sheetId\"],\n",
    "})\n",
    "\n",
    "dataReg = re.search('\\d+;({.*})\\d+;({.*})', r.text, re.MULTILINE)\n",
    "data1 = json.loads(dataReg.group(2))\n",
    "\n",
    "dataJson = data1[\"secondaryInfo\"][\"presModelMap\"][\"dataDictionary\"][\"presModelHolder\"][\"genDataDictionaryPresModel\"][\"dataSegments\"][\"0\"][\"dataColumns\"]"
   ]
  },
  {
   "cell_type": "markdown",
   "metadata": {},
   "source": [
    "Isolate what you want"
   ]
  },
  {
   "cell_type": "code",
   "execution_count": 6,
   "metadata": {
    "execution": {
     "iopub.execute_input": "2021-03-24T00:31:10.741911Z",
     "iopub.status.busy": "2021-03-24T00:31:10.741543Z",
     "iopub.status.idle": "2021-03-24T00:31:10.744621Z",
     "shell.execute_reply": "2021-03-24T00:31:10.744300Z"
    }
   },
   "outputs": [],
   "source": [
    "counties = dataJson[2]['dataValues'][:58]"
   ]
  },
  {
   "cell_type": "code",
   "execution_count": 7,
   "metadata": {
    "execution": {
     "iopub.execute_input": "2021-03-24T00:31:10.747765Z",
     "iopub.status.busy": "2021-03-24T00:31:10.747292Z",
     "iopub.status.idle": "2021-03-24T00:31:10.750394Z",
     "shell.execute_reply": "2021-03-24T00:31:10.749965Z"
    }
   },
   "outputs": [],
   "source": [
    "doses = dataJson[0]['dataValues'][3:61]"
   ]
  },
  {
   "cell_type": "markdown",
   "metadata": {},
   "source": [
    "Data formatting"
   ]
  },
  {
   "cell_type": "code",
   "execution_count": 8,
   "metadata": {
    "execution": {
     "iopub.execute_input": "2021-03-24T00:31:10.753238Z",
     "iopub.status.busy": "2021-03-24T00:31:10.752823Z",
     "iopub.status.idle": "2021-03-24T00:31:10.756302Z",
     "shell.execute_reply": "2021-03-24T00:31:10.755983Z"
    }
   },
   "outputs": [],
   "source": [
    "zipped = dict(zip(counties, doses))"
   ]
  },
  {
   "cell_type": "code",
   "execution_count": 9,
   "metadata": {
    "execution": {
     "iopub.execute_input": "2021-03-24T00:31:10.760497Z",
     "iopub.status.busy": "2021-03-24T00:31:10.760139Z",
     "iopub.status.idle": "2021-03-24T00:31:10.763846Z",
     "shell.execute_reply": "2021-03-24T00:31:10.763429Z"
    }
   },
   "outputs": [],
   "source": [
    "df = pd.Series(zipped).reset_index()"
   ]
  },
  {
   "cell_type": "code",
   "execution_count": 10,
   "metadata": {
    "execution": {
     "iopub.execute_input": "2021-03-24T00:31:10.766425Z",
     "iopub.status.busy": "2021-03-24T00:31:10.766067Z",
     "iopub.status.idle": "2021-03-24T00:31:10.769211Z",
     "shell.execute_reply": "2021-03-24T00:31:10.769516Z"
    }
   },
   "outputs": [],
   "source": [
    "df.columns = ['location','doses']"
   ]
  },
  {
   "cell_type": "markdown",
   "metadata": {},
   "source": [
    "Grab the overall California total"
   ]
  },
  {
   "cell_type": "code",
   "execution_count": 11,
   "metadata": {
    "execution": {
     "iopub.execute_input": "2021-03-24T00:31:10.772707Z",
     "iopub.status.busy": "2021-03-24T00:31:10.772343Z",
     "iopub.status.idle": "2021-03-24T00:31:10.775430Z",
     "shell.execute_reply": "2021-03-24T00:31:10.775089Z"
    }
   },
   "outputs": [],
   "source": [
    "add = {'location':'California','doses':dataJson[0]['dataValues'][2]}"
   ]
  },
  {
   "cell_type": "code",
   "execution_count": 12,
   "metadata": {
    "execution": {
     "iopub.execute_input": "2021-03-24T00:31:10.780290Z",
     "iopub.status.busy": "2021-03-24T00:31:10.779928Z",
     "iopub.status.idle": "2021-03-24T00:31:10.782794Z",
     "shell.execute_reply": "2021-03-24T00:31:10.782325Z"
    }
   },
   "outputs": [],
   "source": [
    "df = df.append(add, ignore_index=True)"
   ]
  },
  {
   "cell_type": "code",
   "execution_count": 13,
   "metadata": {
    "execution": {
     "iopub.execute_input": "2021-03-24T00:31:10.786320Z",
     "iopub.status.busy": "2021-03-24T00:31:10.785851Z",
     "iopub.status.idle": "2021-03-24T00:31:10.789392Z",
     "shell.execute_reply": "2021-03-24T00:31:10.788914Z"
    }
   },
   "outputs": [],
   "source": [
    "df = df.sort_values(by='location')"
   ]
  },
  {
   "cell_type": "code",
   "execution_count": 14,
   "metadata": {
    "execution": {
     "iopub.execute_input": "2021-03-24T00:31:10.793768Z",
     "iopub.status.busy": "2021-03-24T00:31:10.793262Z",
     "iopub.status.idle": "2021-03-24T00:31:10.796402Z",
     "shell.execute_reply": "2021-03-24T00:31:10.796036Z"
    }
   },
   "outputs": [],
   "source": [
    "df = df[df.location == 'California'].append(df[df.location != 'California']).reset_index(drop=True)"
   ]
  },
  {
   "cell_type": "code",
   "execution_count": null,
   "metadata": {},
   "outputs": [],
   "source": []
  },
  {
   "cell_type": "code",
   "execution_count": 15,
   "metadata": {
    "execution": {
     "iopub.execute_input": "2021-03-24T00:31:10.799151Z",
     "iopub.status.busy": "2021-03-24T00:31:10.798739Z",
     "iopub.status.idle": "2021-03-24T00:31:10.815143Z",
     "shell.execute_reply": "2021-03-24T00:31:10.814510Z"
    }
   },
   "outputs": [],
   "source": [
    "tz = pytz.timezone(\"America/New_York\")"
   ]
  },
  {
   "cell_type": "code",
   "execution_count": 16,
   "metadata": {
    "execution": {
     "iopub.execute_input": "2021-03-24T00:31:10.818728Z",
     "iopub.status.busy": "2021-03-24T00:31:10.818370Z",
     "iopub.status.idle": "2021-03-24T00:31:10.821316Z",
     "shell.execute_reply": "2021-03-24T00:31:10.821990Z"
    }
   },
   "outputs": [],
   "source": [
    "today = datetime.now(tz).date()"
   ]
  },
  {
   "cell_type": "code",
   "execution_count": 17,
   "metadata": {
    "execution": {
     "iopub.execute_input": "2021-03-24T00:31:10.825015Z",
     "iopub.status.busy": "2021-03-24T00:31:10.824508Z",
     "iopub.status.idle": "2021-03-24T00:31:10.827667Z",
     "shell.execute_reply": "2021-03-24T00:31:10.827138Z"
    }
   },
   "outputs": [],
   "source": [
    "data_dir = os.path.join(os.path.abspath(\"\"), \"data\")"
   ]
  },
  {
   "cell_type": "code",
   "execution_count": 18,
   "metadata": {
    "execution": {
     "iopub.execute_input": "2021-03-24T00:31:10.830867Z",
     "iopub.status.busy": "2021-03-24T00:31:10.829895Z",
     "iopub.status.idle": "2021-03-24T00:31:10.834370Z",
     "shell.execute_reply": "2021-03-24T00:31:10.834005Z"
    }
   },
   "outputs": [],
   "source": [
    "df.to_csv(os.path.join(data_dir, f\"{today}.csv\"), index=False)"
   ]
  },
  {
   "cell_type": "code",
   "execution_count": null,
   "metadata": {},
   "outputs": [],
   "source": []
  }
 ],
 "metadata": {
  "kernelspec": {
   "display_name": "Python 3",
   "language": "python",
   "name": "python3"
  },
  "language_info": {
   "codemirror_mode": {
    "name": "ipython",
    "version": 3
   },
   "file_extension": ".py",
   "mimetype": "text/x-python",
   "name": "python",
   "nbconvert_exporter": "python",
   "pygments_lexer": "ipython3",
   "version": "3.8.8"
  }
 },
 "nbformat": 4,
 "nbformat_minor": 4
}
