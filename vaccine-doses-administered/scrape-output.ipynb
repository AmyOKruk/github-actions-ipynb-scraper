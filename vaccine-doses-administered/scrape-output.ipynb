{
 "cells": [
  {
   "cell_type": "markdown",
   "metadata": {},
   "source": [
    "# California COVID vaccinations scrape"
   ]
  },
  {
   "cell_type": "markdown",
   "metadata": {},
   "source": [
    "By [Amy O'Kruk](https://twitter.com/amyokruk)"
   ]
  },
  {
   "cell_type": "markdown",
   "metadata": {},
   "source": [
    "Downloads data on vaccine doses administered by county and statewide from a Tableau-powered dashboard from the California Department of Public Health."
   ]
  },
  {
   "cell_type": "code",
   "execution_count": 1,
   "metadata": {
    "execution": {
     "iopub.execute_input": "2021-03-17T16:20:06.751817Z",
     "iopub.status.busy": "2021-03-17T16:20:06.751213Z",
     "iopub.status.idle": "2021-03-17T16:20:07.147162Z",
     "shell.execute_reply": "2021-03-17T16:20:07.146079Z"
    }
   },
   "outputs": [],
   "source": [
    "import pandas as pd\n",
    "import requests\n",
    "from bs4 import BeautifulSoup\n",
    "import json\n",
    "import re\n",
    "import time\n",
    "from time import gmtime, strftime \n",
    "import os\n",
    "import pytz\n",
    "from datetime import datetime"
   ]
  },
  {
   "cell_type": "markdown",
   "metadata": {},
   "source": [
    "Scrape the dashboard page"
   ]
  },
  {
   "cell_type": "code",
   "execution_count": 2,
   "metadata": {
    "execution": {
     "iopub.execute_input": "2021-03-17T16:20:07.153452Z",
     "iopub.status.busy": "2021-03-17T16:20:07.151144Z",
     "iopub.status.idle": "2021-03-17T16:20:07.581191Z",
     "shell.execute_reply": "2021-03-17T16:20:07.580686Z"
    }
   },
   "outputs": [],
   "source": [
    "url = \"https://public.tableau.com/interactive/views/COVID-19VaccineDashboardPublic/Vaccine?:embed=y&:showVizHome=n&:apiID=host0\"\n",
    "\n",
    "r = requests.get(url)\n",
    "soup = BeautifulSoup(r.text, \"html.parser\")"
   ]
  },
  {
   "cell_type": "code",
   "execution_count": 3,
   "metadata": {
    "execution": {
     "iopub.execute_input": "2021-03-17T16:20:07.585661Z",
     "iopub.status.busy": "2021-03-17T16:20:07.585226Z",
     "iopub.status.idle": "2021-03-17T16:20:07.588326Z",
     "shell.execute_reply": "2021-03-17T16:20:07.587891Z"
    }
   },
   "outputs": [],
   "source": [
    "tableauData = json.loads(soup.find(\"textarea\",{\"id\": \"tsConfigContainer\"}).text)"
   ]
  },
  {
   "cell_type": "markdown",
   "metadata": {},
   "source": [
    "Get the link to the Tableau data"
   ]
  },
  {
   "cell_type": "code",
   "execution_count": 4,
   "metadata": {
    "execution": {
     "iopub.execute_input": "2021-03-17T16:20:07.591716Z",
     "iopub.status.busy": "2021-03-17T16:20:07.591207Z",
     "iopub.status.idle": "2021-03-17T16:20:07.594373Z",
     "shell.execute_reply": "2021-03-17T16:20:07.593955Z"
    }
   },
   "outputs": [],
   "source": [
    "dataUrl = f'https://public.tableau.com{tableauData[\"vizql_root\"]}/bootstrapSession/sessions/{tableauData[\"sessionid\"]}'"
   ]
  },
  {
   "cell_type": "code",
   "execution_count": 5,
   "metadata": {
    "execution": {
     "iopub.execute_input": "2021-03-17T16:20:07.600094Z",
     "iopub.status.busy": "2021-03-17T16:20:07.599545Z",
     "iopub.status.idle": "2021-03-17T16:20:07.828175Z",
     "shell.execute_reply": "2021-03-17T16:20:07.827654Z"
    }
   },
   "outputs": [],
   "source": [
    "r = requests.post(dataUrl, data= {\n",
    "    \"sheet_id\": tableauData[\"sheetId\"],\n",
    "})\n",
    "\n",
    "dataReg = re.search('\\d+;({.*})\\d+;({.*})', r.text, re.MULTILINE)\n",
    "data1 = json.loads(dataReg.group(2))\n",
    "\n",
    "dataJson = data1[\"secondaryInfo\"][\"presModelMap\"][\"dataDictionary\"][\"presModelHolder\"][\"genDataDictionaryPresModel\"][\"dataSegments\"][\"0\"][\"dataColumns\"]"
   ]
  },
  {
   "cell_type": "markdown",
   "metadata": {},
   "source": [
    "Isolate what you want"
   ]
  },
  {
   "cell_type": "code",
   "execution_count": 6,
   "metadata": {
    "execution": {
     "iopub.execute_input": "2021-03-17T16:20:07.831586Z",
     "iopub.status.busy": "2021-03-17T16:20:07.831161Z",
     "iopub.status.idle": "2021-03-17T16:20:07.833252Z",
     "shell.execute_reply": "2021-03-17T16:20:07.832711Z"
    }
   },
   "outputs": [],
   "source": [
    "counties = dataJson[2]['dataValues'][:58]"
   ]
  },
  {
   "cell_type": "code",
   "execution_count": 7,
   "metadata": {
    "execution": {
     "iopub.execute_input": "2021-03-17T16:20:07.838289Z",
     "iopub.status.busy": "2021-03-17T16:20:07.837286Z",
     "iopub.status.idle": "2021-03-17T16:20:07.838835Z",
     "shell.execute_reply": "2021-03-17T16:20:07.839227Z"
    }
   },
   "outputs": [],
   "source": [
    "doses = dataJson[0]['dataValues'][3:61]"
   ]
  },
  {
   "cell_type": "markdown",
   "metadata": {},
   "source": [
    "Data formatting"
   ]
  },
  {
   "cell_type": "code",
   "execution_count": 8,
   "metadata": {
    "execution": {
     "iopub.execute_input": "2021-03-17T16:20:07.843109Z",
     "iopub.status.busy": "2021-03-17T16:20:07.842080Z",
     "iopub.status.idle": "2021-03-17T16:20:07.844010Z",
     "shell.execute_reply": "2021-03-17T16:20:07.844436Z"
    }
   },
   "outputs": [],
   "source": [
    "zipped = dict(zip(counties, doses))"
   ]
  },
  {
   "cell_type": "code",
   "execution_count": 9,
   "metadata": {
    "execution": {
     "iopub.execute_input": "2021-03-17T16:20:07.850656Z",
     "iopub.status.busy": "2021-03-17T16:20:07.849454Z",
     "iopub.status.idle": "2021-03-17T16:20:07.851205Z",
     "shell.execute_reply": "2021-03-17T16:20:07.851598Z"
    }
   },
   "outputs": [],
   "source": [
    "df = pd.Series(zipped).reset_index()"
   ]
  },
  {
   "cell_type": "code",
   "execution_count": 10,
   "metadata": {
    "execution": {
     "iopub.execute_input": "2021-03-17T16:20:07.855652Z",
     "iopub.status.busy": "2021-03-17T16:20:07.854792Z",
     "iopub.status.idle": "2021-03-17T16:20:07.856479Z",
     "shell.execute_reply": "2021-03-17T16:20:07.856911Z"
    }
   },
   "outputs": [],
   "source": [
    "df.columns = ['location','doses']"
   ]
  },
  {
   "cell_type": "markdown",
   "metadata": {},
   "source": [
    "Grab the overall California total"
   ]
  },
  {
   "cell_type": "code",
   "execution_count": 11,
   "metadata": {
    "execution": {
     "iopub.execute_input": "2021-03-17T16:20:07.866856Z",
     "iopub.status.busy": "2021-03-17T16:20:07.865943Z",
     "iopub.status.idle": "2021-03-17T16:20:07.868141Z",
     "shell.execute_reply": "2021-03-17T16:20:07.867706Z"
    }
   },
   "outputs": [],
   "source": [
    "add = {'location':'California','doses':dataJson[0]['dataValues'][2]}"
   ]
  },
  {
   "cell_type": "code",
   "execution_count": 12,
   "metadata": {
    "execution": {
     "iopub.execute_input": "2021-03-17T16:20:07.876262Z",
     "iopub.status.busy": "2021-03-17T16:20:07.875338Z",
     "iopub.status.idle": "2021-03-17T16:20:07.877050Z",
     "shell.execute_reply": "2021-03-17T16:20:07.877447Z"
    }
   },
   "outputs": [],
   "source": [
    "df = df.append(add, ignore_index=True)"
   ]
  },
  {
   "cell_type": "code",
   "execution_count": 13,
   "metadata": {
    "execution": {
     "iopub.execute_input": "2021-03-17T16:20:07.882334Z",
     "iopub.status.busy": "2021-03-17T16:20:07.881277Z",
     "iopub.status.idle": "2021-03-17T16:20:07.882850Z",
     "shell.execute_reply": "2021-03-17T16:20:07.883209Z"
    }
   },
   "outputs": [],
   "source": [
    "df = df.sort_values(by='location')"
   ]
  },
  {
   "cell_type": "code",
   "execution_count": 14,
   "metadata": {
    "execution": {
     "iopub.execute_input": "2021-03-17T16:20:07.888631Z",
     "iopub.status.busy": "2021-03-17T16:20:07.887717Z",
     "iopub.status.idle": "2021-03-17T16:20:07.889302Z",
     "shell.execute_reply": "2021-03-17T16:20:07.889728Z"
    }
   },
   "outputs": [],
   "source": [
    "df = df[df.location == 'California'].append(df[df.location != 'California']).reset_index(drop=True)"
   ]
  },
  {
   "cell_type": "code",
   "execution_count": null,
   "metadata": {},
   "outputs": [],
   "source": []
  },
  {
   "cell_type": "code",
   "execution_count": 15,
   "metadata": {
    "execution": {
     "iopub.execute_input": "2021-03-17T16:20:07.892350Z",
     "iopub.status.busy": "2021-03-17T16:20:07.891905Z",
     "iopub.status.idle": "2021-03-17T16:20:07.909225Z",
     "shell.execute_reply": "2021-03-17T16:20:07.908419Z"
    }
   },
   "outputs": [],
   "source": [
    "tz = pytz.timezone(\"America/New_York\")"
   ]
  },
  {
   "cell_type": "code",
   "execution_count": 16,
   "metadata": {
    "execution": {
     "iopub.execute_input": "2021-03-17T16:20:07.914844Z",
     "iopub.status.busy": "2021-03-17T16:20:07.912875Z",
     "iopub.status.idle": "2021-03-17T16:20:07.915785Z",
     "shell.execute_reply": "2021-03-17T16:20:07.916414Z"
    }
   },
   "outputs": [],
   "source": [
    "today = datetime.now(tz).date()"
   ]
  },
  {
   "cell_type": "code",
   "execution_count": 17,
   "metadata": {
    "execution": {
     "iopub.execute_input": "2021-03-17T16:20:07.920664Z",
     "iopub.status.busy": "2021-03-17T16:20:07.919753Z",
     "iopub.status.idle": "2021-03-17T16:20:07.922043Z",
     "shell.execute_reply": "2021-03-17T16:20:07.921587Z"
    }
   },
   "outputs": [],
   "source": [
    "data_dir = os.path.join(os.path.abspath(\"\"), \"data\")"
   ]
  },
  {
   "cell_type": "code",
   "execution_count": 18,
   "metadata": {
    "execution": {
     "iopub.execute_input": "2021-03-17T16:20:07.926464Z",
     "iopub.status.busy": "2021-03-17T16:20:07.925388Z",
     "iopub.status.idle": "2021-03-17T16:20:07.930350Z",
     "shell.execute_reply": "2021-03-17T16:20:07.929859Z"
    }
   },
   "outputs": [],
   "source": [
    "df.to_csv(os.path.join(data_dir, f\"{today}.csv\"), index=False)"
   ]
  },
  {
   "cell_type": "code",
   "execution_count": null,
   "metadata": {},
   "outputs": [],
   "source": []
  }
 ],
 "metadata": {
  "kernelspec": {
   "display_name": "Python 3",
   "language": "python",
   "name": "python3"
  },
  "language_info": {
   "codemirror_mode": {
    "name": "ipython",
    "version": 3
   },
   "file_extension": ".py",
   "mimetype": "text/x-python",
   "name": "python",
   "nbconvert_exporter": "python",
   "pygments_lexer": "ipython3",
   "version": "3.8.8"
  }
 },
 "nbformat": 4,
 "nbformat_minor": 4
}
