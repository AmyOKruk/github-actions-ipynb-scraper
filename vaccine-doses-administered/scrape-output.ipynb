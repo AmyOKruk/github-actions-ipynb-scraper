{
 "cells": [
  {
   "cell_type": "markdown",
   "metadata": {},
   "source": [
    "# California COVID vaccinations scrape"
   ]
  },
  {
   "cell_type": "markdown",
   "metadata": {},
   "source": [
    "By [Amy O'Kruk](https://twitter.com/amyokruk)"
   ]
  },
  {
   "cell_type": "markdown",
   "metadata": {},
   "source": [
    "Downloads data on vaccine doses administered by county and statewide from a Tableau-powered dashboard from the California Department of Public Health."
   ]
  },
  {
   "cell_type": "code",
   "execution_count": 1,
   "metadata": {
    "execution": {
     "iopub.execute_input": "2021-03-13T12:53:39.010367Z",
     "iopub.status.busy": "2021-03-13T12:53:39.009734Z",
     "iopub.status.idle": "2021-03-13T12:53:39.444390Z",
     "shell.execute_reply": "2021-03-13T12:53:39.443744Z"
    }
   },
   "outputs": [],
   "source": [
    "import pandas as pd\n",
    "import requests\n",
    "from bs4 import BeautifulSoup\n",
    "import json\n",
    "import re\n",
    "import time\n",
    "from time import gmtime, strftime \n",
    "import os\n",
    "import pytz\n",
    "from datetime import datetime"
   ]
  },
  {
   "cell_type": "markdown",
   "metadata": {},
   "source": [
    "Scrape the dashboard page"
   ]
  },
  {
   "cell_type": "code",
   "execution_count": 2,
   "metadata": {
    "execution": {
     "iopub.execute_input": "2021-03-13T12:53:39.450863Z",
     "iopub.status.busy": "2021-03-13T12:53:39.450276Z",
     "iopub.status.idle": "2021-03-13T12:53:39.943171Z",
     "shell.execute_reply": "2021-03-13T12:53:39.942294Z"
    }
   },
   "outputs": [],
   "source": [
    "url = \"https://public.tableau.com/interactive/views/COVID-19VaccineDashboardPublic/Vaccine?:embed=y&:showVizHome=n&:apiID=host0\"\n",
    "\n",
    "r = requests.get(url)\n",
    "soup = BeautifulSoup(r.text, \"html.parser\")"
   ]
  },
  {
   "cell_type": "code",
   "execution_count": 3,
   "metadata": {
    "execution": {
     "iopub.execute_input": "2021-03-13T12:53:39.947623Z",
     "iopub.status.busy": "2021-03-13T12:53:39.947103Z",
     "iopub.status.idle": "2021-03-13T12:53:39.950563Z",
     "shell.execute_reply": "2021-03-13T12:53:39.950107Z"
    }
   },
   "outputs": [],
   "source": [
    "tableauData = json.loads(soup.find(\"textarea\",{\"id\": \"tsConfigContainer\"}).text)"
   ]
  },
  {
   "cell_type": "markdown",
   "metadata": {},
   "source": [
    "Get the link to the Tableau data"
   ]
  },
  {
   "cell_type": "code",
   "execution_count": 4,
   "metadata": {
    "execution": {
     "iopub.execute_input": "2021-03-13T12:53:39.954019Z",
     "iopub.status.busy": "2021-03-13T12:53:39.953487Z",
     "iopub.status.idle": "2021-03-13T12:53:39.958110Z",
     "shell.execute_reply": "2021-03-13T12:53:39.956854Z"
    }
   },
   "outputs": [],
   "source": [
    "dataUrl = f'https://public.tableau.com{tableauData[\"vizql_root\"]}/bootstrapSession/sessions/{tableauData[\"sessionid\"]}'"
   ]
  },
  {
   "cell_type": "code",
   "execution_count": 5,
   "metadata": {
    "execution": {
     "iopub.execute_input": "2021-03-13T12:53:39.965740Z",
     "iopub.status.busy": "2021-03-13T12:53:39.964799Z",
     "iopub.status.idle": "2021-03-13T12:53:40.478623Z",
     "shell.execute_reply": "2021-03-13T12:53:40.478137Z"
    }
   },
   "outputs": [],
   "source": [
    "r = requests.post(dataUrl, data= {\n",
    "    \"sheet_id\": tableauData[\"sheetId\"],\n",
    "})\n",
    "\n",
    "dataReg = re.search('\\d+;({.*})\\d+;({.*})', r.text, re.MULTILINE)\n",
    "data1 = json.loads(dataReg.group(2))\n",
    "\n",
    "dataJson = data1[\"secondaryInfo\"][\"presModelMap\"][\"dataDictionary\"][\"presModelHolder\"][\"genDataDictionaryPresModel\"][\"dataSegments\"][\"0\"][\"dataColumns\"]"
   ]
  },
  {
   "cell_type": "markdown",
   "metadata": {},
   "source": [
    "Isolate what you want"
   ]
  },
  {
   "cell_type": "code",
   "execution_count": 6,
   "metadata": {
    "execution": {
     "iopub.execute_input": "2021-03-13T12:53:40.483451Z",
     "iopub.status.busy": "2021-03-13T12:53:40.482046Z",
     "iopub.status.idle": "2021-03-13T12:53:40.484042Z",
     "shell.execute_reply": "2021-03-13T12:53:40.484478Z"
    }
   },
   "outputs": [],
   "source": [
    "counties = dataJson[2]['dataValues'][:58]"
   ]
  },
  {
   "cell_type": "code",
   "execution_count": 7,
   "metadata": {
    "execution": {
     "iopub.execute_input": "2021-03-13T12:53:40.489142Z",
     "iopub.status.busy": "2021-03-13T12:53:40.487736Z",
     "iopub.status.idle": "2021-03-13T12:53:40.489821Z",
     "shell.execute_reply": "2021-03-13T12:53:40.490242Z"
    }
   },
   "outputs": [],
   "source": [
    "doses = dataJson[0]['dataValues'][3:61]"
   ]
  },
  {
   "cell_type": "markdown",
   "metadata": {},
   "source": [
    "Data formatting"
   ]
  },
  {
   "cell_type": "code",
   "execution_count": 8,
   "metadata": {
    "execution": {
     "iopub.execute_input": "2021-03-13T12:53:40.494583Z",
     "iopub.status.busy": "2021-03-13T12:53:40.493386Z",
     "iopub.status.idle": "2021-03-13T12:53:40.495215Z",
     "shell.execute_reply": "2021-03-13T12:53:40.495671Z"
    }
   },
   "outputs": [],
   "source": [
    "zipped = dict(zip(counties, doses))"
   ]
  },
  {
   "cell_type": "code",
   "execution_count": 9,
   "metadata": {
    "execution": {
     "iopub.execute_input": "2021-03-13T12:53:40.502306Z",
     "iopub.status.busy": "2021-03-13T12:53:40.500940Z",
     "iopub.status.idle": "2021-03-13T12:53:40.503015Z",
     "shell.execute_reply": "2021-03-13T12:53:40.504423Z"
    }
   },
   "outputs": [],
   "source": [
    "df = pd.Series(zipped).reset_index()"
   ]
  },
  {
   "cell_type": "code",
   "execution_count": 10,
   "metadata": {
    "execution": {
     "iopub.execute_input": "2021-03-13T12:53:40.508693Z",
     "iopub.status.busy": "2021-03-13T12:53:40.507570Z",
     "iopub.status.idle": "2021-03-13T12:53:40.509249Z",
     "shell.execute_reply": "2021-03-13T12:53:40.509760Z"
    }
   },
   "outputs": [],
   "source": [
    "df.columns = ['location','doses']"
   ]
  },
  {
   "cell_type": "markdown",
   "metadata": {},
   "source": [
    "Grab the overall California total"
   ]
  },
  {
   "cell_type": "code",
   "execution_count": 11,
   "metadata": {
    "execution": {
     "iopub.execute_input": "2021-03-13T12:53:40.514471Z",
     "iopub.status.busy": "2021-03-13T12:53:40.513178Z",
     "iopub.status.idle": "2021-03-13T12:53:40.515095Z",
     "shell.execute_reply": "2021-03-13T12:53:40.515539Z"
    }
   },
   "outputs": [],
   "source": [
    "add = {'location':'California','doses':dataJson[0]['dataValues'][2]}"
   ]
  },
  {
   "cell_type": "code",
   "execution_count": 12,
   "metadata": {
    "execution": {
     "iopub.execute_input": "2021-03-13T12:53:40.521893Z",
     "iopub.status.busy": "2021-03-13T12:53:40.521237Z",
     "iopub.status.idle": "2021-03-13T12:53:40.530697Z",
     "shell.execute_reply": "2021-03-13T12:53:40.530147Z"
    }
   },
   "outputs": [],
   "source": [
    "df = df.append(add, ignore_index=True)"
   ]
  },
  {
   "cell_type": "code",
   "execution_count": 13,
   "metadata": {
    "execution": {
     "iopub.execute_input": "2021-03-13T12:53:40.536707Z",
     "iopub.status.busy": "2021-03-13T12:53:40.535484Z",
     "iopub.status.idle": "2021-03-13T12:53:40.537302Z",
     "shell.execute_reply": "2021-03-13T12:53:40.537772Z"
    }
   },
   "outputs": [],
   "source": [
    "df = df.sort_values(by='location')"
   ]
  },
  {
   "cell_type": "code",
   "execution_count": 14,
   "metadata": {
    "execution": {
     "iopub.execute_input": "2021-03-13T12:53:40.544773Z",
     "iopub.status.busy": "2021-03-13T12:53:40.543456Z",
     "iopub.status.idle": "2021-03-13T12:53:40.545406Z",
     "shell.execute_reply": "2021-03-13T12:53:40.545852Z"
    }
   },
   "outputs": [],
   "source": [
    "df = df[df.location == 'California'].append(df[df.location != 'California']).reset_index(drop=True)"
   ]
  },
  {
   "cell_type": "code",
   "execution_count": null,
   "metadata": {},
   "outputs": [],
   "source": []
  },
  {
   "cell_type": "code",
   "execution_count": 15,
   "metadata": {
    "execution": {
     "iopub.execute_input": "2021-03-13T12:53:40.549692Z",
     "iopub.status.busy": "2021-03-13T12:53:40.548974Z",
     "iopub.status.idle": "2021-03-13T12:53:40.567216Z",
     "shell.execute_reply": "2021-03-13T12:53:40.568957Z"
    }
   },
   "outputs": [],
   "source": [
    "tz = pytz.timezone(\"America/New_York\")"
   ]
  },
  {
   "cell_type": "code",
   "execution_count": 16,
   "metadata": {
    "execution": {
     "iopub.execute_input": "2021-03-13T12:53:40.574907Z",
     "iopub.status.busy": "2021-03-13T12:53:40.573705Z",
     "iopub.status.idle": "2021-03-13T12:53:40.575526Z",
     "shell.execute_reply": "2021-03-13T12:53:40.576005Z"
    }
   },
   "outputs": [],
   "source": [
    "today = datetime.now(tz).date()"
   ]
  },
  {
   "cell_type": "code",
   "execution_count": 17,
   "metadata": {
    "execution": {
     "iopub.execute_input": "2021-03-13T12:53:40.580451Z",
     "iopub.status.busy": "2021-03-13T12:53:40.579210Z",
     "iopub.status.idle": "2021-03-13T12:53:40.581120Z",
     "shell.execute_reply": "2021-03-13T12:53:40.581683Z"
    }
   },
   "outputs": [],
   "source": [
    "data_dir = os.path.join(os.path.abspath(\"\"), \"data\")"
   ]
  },
  {
   "cell_type": "code",
   "execution_count": 18,
   "metadata": {
    "execution": {
     "iopub.execute_input": "2021-03-13T12:53:40.585619Z",
     "iopub.status.busy": "2021-03-13T12:53:40.585031Z",
     "iopub.status.idle": "2021-03-13T12:53:40.589706Z",
     "shell.execute_reply": "2021-03-13T12:53:40.589182Z"
    }
   },
   "outputs": [],
   "source": [
    "df.to_csv(os.path.join(data_dir, f\"{today}.csv\"), index=False)"
   ]
  },
  {
   "cell_type": "code",
   "execution_count": null,
   "metadata": {},
   "outputs": [],
   "source": []
  }
 ],
 "metadata": {
  "kernelspec": {
   "display_name": "Python 3",
   "language": "python",
   "name": "python3"
  },
  "language_info": {
   "codemirror_mode": {
    "name": "ipython",
    "version": 3
   },
   "file_extension": ".py",
   "mimetype": "text/x-python",
   "name": "python",
   "nbconvert_exporter": "python",
   "pygments_lexer": "ipython3",
   "version": "3.8.8"
  }
 },
 "nbformat": 4,
 "nbformat_minor": 4
}
