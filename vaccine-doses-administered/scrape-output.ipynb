{
 "cells": [
  {
   "cell_type": "markdown",
   "metadata": {},
   "source": [
    "# California COVID vaccinations scrape"
   ]
  },
  {
   "cell_type": "markdown",
   "metadata": {},
   "source": [
    "By [Amy O'Kruk](https://twitter.com/amyokruk)"
   ]
  },
  {
   "cell_type": "markdown",
   "metadata": {},
   "source": [
    "Downloads data on vaccine doses administered by county and statewide from a Tableau-powered dashboard from the California Department of Public Health."
   ]
  },
  {
   "cell_type": "code",
   "execution_count": 1,
   "metadata": {
    "execution": {
     "iopub.execute_input": "2021-03-09T08:15:23.568901Z",
     "iopub.status.busy": "2021-03-09T08:15:23.568241Z",
     "iopub.status.idle": "2021-03-09T08:15:23.975273Z",
     "shell.execute_reply": "2021-03-09T08:15:23.974623Z"
    }
   },
   "outputs": [],
   "source": [
    "import pandas as pd\n",
    "import requests\n",
    "from bs4 import BeautifulSoup\n",
    "import json\n",
    "import re\n",
    "import time\n",
    "from time import gmtime, strftime \n",
    "import os\n",
    "import pytz\n",
    "from datetime import datetime"
   ]
  },
  {
   "cell_type": "markdown",
   "metadata": {},
   "source": [
    "Scrape the dashboard page"
   ]
  },
  {
   "cell_type": "code",
   "execution_count": 2,
   "metadata": {
    "execution": {
     "iopub.execute_input": "2021-03-09T08:15:23.981598Z",
     "iopub.status.busy": "2021-03-09T08:15:23.978841Z",
     "iopub.status.idle": "2021-03-09T08:15:24.497996Z",
     "shell.execute_reply": "2021-03-09T08:15:24.497452Z"
    }
   },
   "outputs": [],
   "source": [
    "url = \"https://public.tableau.com/interactive/views/COVID-19VaccineDashboardPublic/Vaccine?:embed=y&:showVizHome=n&:apiID=host0\"\n",
    "\n",
    "r = requests.get(url)\n",
    "soup = BeautifulSoup(r.text, \"html.parser\")"
   ]
  },
  {
   "cell_type": "code",
   "execution_count": 3,
   "metadata": {
    "execution": {
     "iopub.execute_input": "2021-03-09T08:15:24.503150Z",
     "iopub.status.busy": "2021-03-09T08:15:24.502300Z",
     "iopub.status.idle": "2021-03-09T08:15:24.505537Z",
     "shell.execute_reply": "2021-03-09T08:15:24.506050Z"
    }
   },
   "outputs": [],
   "source": [
    "tableauData = json.loads(soup.find(\"textarea\",{\"id\": \"tsConfigContainer\"}).text)"
   ]
  },
  {
   "cell_type": "markdown",
   "metadata": {},
   "source": [
    "Get the link to the Tableau data"
   ]
  },
  {
   "cell_type": "code",
   "execution_count": 4,
   "metadata": {
    "execution": {
     "iopub.execute_input": "2021-03-09T08:15:24.509933Z",
     "iopub.status.busy": "2021-03-09T08:15:24.509281Z",
     "iopub.status.idle": "2021-03-09T08:15:24.513201Z",
     "shell.execute_reply": "2021-03-09T08:15:24.512719Z"
    }
   },
   "outputs": [],
   "source": [
    "dataUrl = f'https://public.tableau.com{tableauData[\"vizql_root\"]}/bootstrapSession/sessions/{tableauData[\"sessionid\"]}'"
   ]
  },
  {
   "cell_type": "code",
   "execution_count": 5,
   "metadata": {
    "execution": {
     "iopub.execute_input": "2021-03-09T08:15:24.519824Z",
     "iopub.status.busy": "2021-03-09T08:15:24.519233Z",
     "iopub.status.idle": "2021-03-09T08:15:24.876509Z",
     "shell.execute_reply": "2021-03-09T08:15:24.876983Z"
    }
   },
   "outputs": [],
   "source": [
    "r = requests.post(dataUrl, data= {\n",
    "    \"sheet_id\": tableauData[\"sheetId\"],\n",
    "})\n",
    "\n",
    "dataReg = re.search('\\d+;({.*})\\d+;({.*})', r.text, re.MULTILINE)\n",
    "data1 = json.loads(dataReg.group(2))\n",
    "\n",
    "dataJson = data1[\"secondaryInfo\"][\"presModelMap\"][\"dataDictionary\"][\"presModelHolder\"][\"genDataDictionaryPresModel\"][\"dataSegments\"][\"0\"][\"dataColumns\"]"
   ]
  },
  {
   "cell_type": "markdown",
   "metadata": {},
   "source": [
    "Isolate what you want"
   ]
  },
  {
   "cell_type": "code",
   "execution_count": 6,
   "metadata": {
    "execution": {
     "iopub.execute_input": "2021-03-09T08:15:24.882060Z",
     "iopub.status.busy": "2021-03-09T08:15:24.880672Z",
     "iopub.status.idle": "2021-03-09T08:15:24.882730Z",
     "shell.execute_reply": "2021-03-09T08:15:24.883252Z"
    }
   },
   "outputs": [],
   "source": [
    "counties = dataJson[2]['dataValues'][:58]"
   ]
  },
  {
   "cell_type": "code",
   "execution_count": 7,
   "metadata": {
    "execution": {
     "iopub.execute_input": "2021-03-09T08:15:24.888969Z",
     "iopub.status.busy": "2021-03-09T08:15:24.887447Z",
     "iopub.status.idle": "2021-03-09T08:15:24.889906Z",
     "shell.execute_reply": "2021-03-09T08:15:24.890609Z"
    }
   },
   "outputs": [],
   "source": [
    "doses = dataJson[0]['dataValues'][3:61]"
   ]
  },
  {
   "cell_type": "markdown",
   "metadata": {},
   "source": [
    "Data formatting"
   ]
  },
  {
   "cell_type": "code",
   "execution_count": 8,
   "metadata": {
    "execution": {
     "iopub.execute_input": "2021-03-09T08:15:24.897303Z",
     "iopub.status.busy": "2021-03-09T08:15:24.894558Z",
     "iopub.status.idle": "2021-03-09T08:15:24.898130Z",
     "shell.execute_reply": "2021-03-09T08:15:24.898743Z"
    }
   },
   "outputs": [],
   "source": [
    "zipped = dict(zip(counties, doses))"
   ]
  },
  {
   "cell_type": "code",
   "execution_count": 9,
   "metadata": {
    "execution": {
     "iopub.execute_input": "2021-03-09T08:15:24.906044Z",
     "iopub.status.busy": "2021-03-09T08:15:24.904682Z",
     "iopub.status.idle": "2021-03-09T08:15:24.906709Z",
     "shell.execute_reply": "2021-03-09T08:15:24.907223Z"
    }
   },
   "outputs": [],
   "source": [
    "df = pd.Series(zipped).reset_index()"
   ]
  },
  {
   "cell_type": "code",
   "execution_count": 10,
   "metadata": {
    "execution": {
     "iopub.execute_input": "2021-03-09T08:15:24.912105Z",
     "iopub.status.busy": "2021-03-09T08:15:24.910758Z",
     "iopub.status.idle": "2021-03-09T08:15:24.912805Z",
     "shell.execute_reply": "2021-03-09T08:15:24.913289Z"
    }
   },
   "outputs": [],
   "source": [
    "df.columns = ['location','doses']"
   ]
  },
  {
   "cell_type": "markdown",
   "metadata": {},
   "source": [
    "Grab the overall California total"
   ]
  },
  {
   "cell_type": "code",
   "execution_count": 11,
   "metadata": {
    "execution": {
     "iopub.execute_input": "2021-03-09T08:15:24.918594Z",
     "iopub.status.busy": "2021-03-09T08:15:24.916721Z",
     "iopub.status.idle": "2021-03-09T08:15:24.919258Z",
     "shell.execute_reply": "2021-03-09T08:15:24.919794Z"
    }
   },
   "outputs": [],
   "source": [
    "add = {'location':'California','doses':dataJson[0]['dataValues'][2]}"
   ]
  },
  {
   "cell_type": "code",
   "execution_count": 12,
   "metadata": {
    "execution": {
     "iopub.execute_input": "2021-03-09T08:15:24.927431Z",
     "iopub.status.busy": "2021-03-09T08:15:24.926165Z",
     "iopub.status.idle": "2021-03-09T08:15:24.928163Z",
     "shell.execute_reply": "2021-03-09T08:15:24.928651Z"
    }
   },
   "outputs": [],
   "source": [
    "df = df.append(add, ignore_index=True)"
   ]
  },
  {
   "cell_type": "code",
   "execution_count": 13,
   "metadata": {
    "execution": {
     "iopub.execute_input": "2021-03-09T08:15:24.934285Z",
     "iopub.status.busy": "2021-03-09T08:15:24.932673Z",
     "iopub.status.idle": "2021-03-09T08:15:24.937409Z",
     "shell.execute_reply": "2021-03-09T08:15:24.936501Z"
    }
   },
   "outputs": [],
   "source": [
    "df = df.sort_values(by='location')"
   ]
  },
  {
   "cell_type": "code",
   "execution_count": 14,
   "metadata": {
    "execution": {
     "iopub.execute_input": "2021-03-09T08:15:24.945486Z",
     "iopub.status.busy": "2021-03-09T08:15:24.944070Z",
     "iopub.status.idle": "2021-03-09T08:15:24.946333Z",
     "shell.execute_reply": "2021-03-09T08:15:24.946981Z"
    }
   },
   "outputs": [],
   "source": [
    "df = df[df.location == 'California'].append(df[df.location != 'California']).reset_index(drop=True)"
   ]
  },
  {
   "cell_type": "code",
   "execution_count": null,
   "metadata": {},
   "outputs": [],
   "source": []
  },
  {
   "cell_type": "code",
   "execution_count": 15,
   "metadata": {
    "execution": {
     "iopub.execute_input": "2021-03-09T08:15:24.951871Z",
     "iopub.status.busy": "2021-03-09T08:15:24.951255Z",
     "iopub.status.idle": "2021-03-09T08:15:24.970674Z",
     "shell.execute_reply": "2021-03-09T08:15:24.971175Z"
    }
   },
   "outputs": [],
   "source": [
    "tz = pytz.timezone(\"America/New_York\")"
   ]
  },
  {
   "cell_type": "code",
   "execution_count": 16,
   "metadata": {
    "execution": {
     "iopub.execute_input": "2021-03-09T08:15:24.975966Z",
     "iopub.status.busy": "2021-03-09T08:15:24.974525Z",
     "iopub.status.idle": "2021-03-09T08:15:24.976629Z",
     "shell.execute_reply": "2021-03-09T08:15:24.977120Z"
    }
   },
   "outputs": [],
   "source": [
    "today = datetime.now(tz).date()"
   ]
  },
  {
   "cell_type": "code",
   "execution_count": 17,
   "metadata": {
    "execution": {
     "iopub.execute_input": "2021-03-09T08:15:24.982007Z",
     "iopub.status.busy": "2021-03-09T08:15:24.980587Z",
     "iopub.status.idle": "2021-03-09T08:15:24.982647Z",
     "shell.execute_reply": "2021-03-09T08:15:24.983178Z"
    }
   },
   "outputs": [],
   "source": [
    "data_dir = os.path.join(os.path.abspath(\"\"), \"data\")"
   ]
  },
  {
   "cell_type": "code",
   "execution_count": 18,
   "metadata": {
    "execution": {
     "iopub.execute_input": "2021-03-09T08:15:24.987205Z",
     "iopub.status.busy": "2021-03-09T08:15:24.986571Z",
     "iopub.status.idle": "2021-03-09T08:15:24.999490Z",
     "shell.execute_reply": "2021-03-09T08:15:25.000130Z"
    }
   },
   "outputs": [],
   "source": [
    "df.to_csv(os.path.join(data_dir, f\"{today}.csv\"), index=False)"
   ]
  },
  {
   "cell_type": "code",
   "execution_count": null,
   "metadata": {},
   "outputs": [],
   "source": []
  }
 ],
 "metadata": {
  "kernelspec": {
   "display_name": "Python 3",
   "language": "python",
   "name": "python3"
  },
  "language_info": {
   "codemirror_mode": {
    "name": "ipython",
    "version": 3
   },
   "file_extension": ".py",
   "mimetype": "text/x-python",
   "name": "python",
   "nbconvert_exporter": "python",
   "pygments_lexer": "ipython3",
   "version": "3.8.8"
  }
 },
 "nbformat": 4,
 "nbformat_minor": 4
}
