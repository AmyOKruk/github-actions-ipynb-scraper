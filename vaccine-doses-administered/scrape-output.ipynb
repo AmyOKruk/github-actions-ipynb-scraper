{
 "cells": [
  {
   "cell_type": "markdown",
   "metadata": {},
   "source": [
    "# California COVID vaccinations scrape"
   ]
  },
  {
   "cell_type": "markdown",
   "metadata": {},
   "source": [
    "By [Amy O'Kruk](https://twitter.com/amyokruk)"
   ]
  },
  {
   "cell_type": "markdown",
   "metadata": {},
   "source": [
    "Downloads data on vaccine doses administered by county and statewide from a Tableau-powered dashboard from the California Department of Public Health."
   ]
  },
  {
   "cell_type": "code",
   "execution_count": 1,
   "metadata": {
    "execution": {
     "iopub.execute_input": "2021-03-20T14:13:20.824914Z",
     "iopub.status.busy": "2021-03-20T14:13:20.824298Z",
     "iopub.status.idle": "2021-03-20T14:13:21.749016Z",
     "shell.execute_reply": "2021-03-20T14:13:21.747890Z"
    }
   },
   "outputs": [],
   "source": [
    "import pandas as pd\n",
    "import requests\n",
    "from bs4 import BeautifulSoup\n",
    "import json\n",
    "import re\n",
    "import time\n",
    "from time import gmtime, strftime \n",
    "import os\n",
    "import pytz\n",
    "from datetime import datetime"
   ]
  },
  {
   "cell_type": "markdown",
   "metadata": {},
   "source": [
    "Scrape the dashboard page"
   ]
  },
  {
   "cell_type": "code",
   "execution_count": 2,
   "metadata": {
    "execution": {
     "iopub.execute_input": "2021-03-20T14:13:21.756727Z",
     "iopub.status.busy": "2021-03-20T14:13:21.752880Z",
     "iopub.status.idle": "2021-03-20T14:13:22.349102Z",
     "shell.execute_reply": "2021-03-20T14:13:22.348048Z"
    }
   },
   "outputs": [],
   "source": [
    "url = \"https://public.tableau.com/interactive/views/COVID-19VaccineDashboardPublic/Vaccine?:embed=y&:showVizHome=n&:apiID=host0\"\n",
    "\n",
    "r = requests.get(url)\n",
    "soup = BeautifulSoup(r.text, \"html.parser\")"
   ]
  },
  {
   "cell_type": "code",
   "execution_count": 3,
   "metadata": {
    "execution": {
     "iopub.execute_input": "2021-03-20T14:13:22.354073Z",
     "iopub.status.busy": "2021-03-20T14:13:22.353536Z",
     "iopub.status.idle": "2021-03-20T14:13:22.357268Z",
     "shell.execute_reply": "2021-03-20T14:13:22.356805Z"
    }
   },
   "outputs": [],
   "source": [
    "tableauData = json.loads(soup.find(\"textarea\",{\"id\": \"tsConfigContainer\"}).text)"
   ]
  },
  {
   "cell_type": "markdown",
   "metadata": {},
   "source": [
    "Get the link to the Tableau data"
   ]
  },
  {
   "cell_type": "code",
   "execution_count": 4,
   "metadata": {
    "execution": {
     "iopub.execute_input": "2021-03-20T14:13:22.360762Z",
     "iopub.status.busy": "2021-03-20T14:13:22.360261Z",
     "iopub.status.idle": "2021-03-20T14:13:22.365306Z",
     "shell.execute_reply": "2021-03-20T14:13:22.364718Z"
    }
   },
   "outputs": [],
   "source": [
    "dataUrl = f'https://public.tableau.com{tableauData[\"vizql_root\"]}/bootstrapSession/sessions/{tableauData[\"sessionid\"]}'"
   ]
  },
  {
   "cell_type": "code",
   "execution_count": 5,
   "metadata": {
    "execution": {
     "iopub.execute_input": "2021-03-20T14:13:22.372939Z",
     "iopub.status.busy": "2021-03-20T14:13:22.372307Z",
     "iopub.status.idle": "2021-03-20T14:13:22.670656Z",
     "shell.execute_reply": "2021-03-20T14:13:22.669976Z"
    }
   },
   "outputs": [],
   "source": [
    "r = requests.post(dataUrl, data= {\n",
    "    \"sheet_id\": tableauData[\"sheetId\"],\n",
    "})\n",
    "\n",
    "dataReg = re.search('\\d+;({.*})\\d+;({.*})', r.text, re.MULTILINE)\n",
    "data1 = json.loads(dataReg.group(2))\n",
    "\n",
    "dataJson = data1[\"secondaryInfo\"][\"presModelMap\"][\"dataDictionary\"][\"presModelHolder\"][\"genDataDictionaryPresModel\"][\"dataSegments\"][\"0\"][\"dataColumns\"]"
   ]
  },
  {
   "cell_type": "markdown",
   "metadata": {},
   "source": [
    "Isolate what you want"
   ]
  },
  {
   "cell_type": "code",
   "execution_count": 6,
   "metadata": {
    "execution": {
     "iopub.execute_input": "2021-03-20T14:13:22.674715Z",
     "iopub.status.busy": "2021-03-20T14:13:22.674161Z",
     "iopub.status.idle": "2021-03-20T14:13:22.678805Z",
     "shell.execute_reply": "2021-03-20T14:13:22.679614Z"
    }
   },
   "outputs": [],
   "source": [
    "counties = dataJson[2]['dataValues'][:58]"
   ]
  },
  {
   "cell_type": "code",
   "execution_count": 7,
   "metadata": {
    "execution": {
     "iopub.execute_input": "2021-03-20T14:13:22.683430Z",
     "iopub.status.busy": "2021-03-20T14:13:22.682894Z",
     "iopub.status.idle": "2021-03-20T14:13:22.688138Z",
     "shell.execute_reply": "2021-03-20T14:13:22.687639Z"
    }
   },
   "outputs": [],
   "source": [
    "doses = dataJson[0]['dataValues'][3:61]"
   ]
  },
  {
   "cell_type": "markdown",
   "metadata": {},
   "source": [
    "Data formatting"
   ]
  },
  {
   "cell_type": "code",
   "execution_count": 8,
   "metadata": {
    "execution": {
     "iopub.execute_input": "2021-03-20T14:13:22.691990Z",
     "iopub.status.busy": "2021-03-20T14:13:22.691176Z",
     "iopub.status.idle": "2021-03-20T14:13:22.696066Z",
     "shell.execute_reply": "2021-03-20T14:13:22.695115Z"
    }
   },
   "outputs": [],
   "source": [
    "zipped = dict(zip(counties, doses))"
   ]
  },
  {
   "cell_type": "code",
   "execution_count": 9,
   "metadata": {
    "execution": {
     "iopub.execute_input": "2021-03-20T14:13:22.702369Z",
     "iopub.status.busy": "2021-03-20T14:13:22.701678Z",
     "iopub.status.idle": "2021-03-20T14:13:22.705569Z",
     "shell.execute_reply": "2021-03-20T14:13:22.705050Z"
    }
   },
   "outputs": [],
   "source": [
    "df = pd.Series(zipped).reset_index()"
   ]
  },
  {
   "cell_type": "code",
   "execution_count": 10,
   "metadata": {
    "execution": {
     "iopub.execute_input": "2021-03-20T14:13:22.711205Z",
     "iopub.status.busy": "2021-03-20T14:13:22.710614Z",
     "iopub.status.idle": "2021-03-20T14:13:22.716374Z",
     "shell.execute_reply": "2021-03-20T14:13:22.715877Z"
    }
   },
   "outputs": [],
   "source": [
    "df.columns = ['location','doses']"
   ]
  },
  {
   "cell_type": "markdown",
   "metadata": {},
   "source": [
    "Grab the overall California total"
   ]
  },
  {
   "cell_type": "code",
   "execution_count": 11,
   "metadata": {
    "execution": {
     "iopub.execute_input": "2021-03-20T14:13:22.720609Z",
     "iopub.status.busy": "2021-03-20T14:13:22.719979Z",
     "iopub.status.idle": "2021-03-20T14:13:22.727166Z",
     "shell.execute_reply": "2021-03-20T14:13:22.727923Z"
    }
   },
   "outputs": [],
   "source": [
    "add = {'location':'California','doses':dataJson[0]['dataValues'][2]}"
   ]
  },
  {
   "cell_type": "code",
   "execution_count": 12,
   "metadata": {
    "execution": {
     "iopub.execute_input": "2021-03-20T14:13:22.735798Z",
     "iopub.status.busy": "2021-03-20T14:13:22.735044Z",
     "iopub.status.idle": "2021-03-20T14:13:22.739598Z",
     "shell.execute_reply": "2021-03-20T14:13:22.739018Z"
    }
   },
   "outputs": [],
   "source": [
    "df = df.append(add, ignore_index=True)"
   ]
  },
  {
   "cell_type": "code",
   "execution_count": 13,
   "metadata": {
    "execution": {
     "iopub.execute_input": "2021-03-20T14:13:22.743867Z",
     "iopub.status.busy": "2021-03-20T14:13:22.743181Z",
     "iopub.status.idle": "2021-03-20T14:13:22.747299Z",
     "shell.execute_reply": "2021-03-20T14:13:22.746606Z"
    }
   },
   "outputs": [],
   "source": [
    "df = df.sort_values(by='location')"
   ]
  },
  {
   "cell_type": "code",
   "execution_count": 14,
   "metadata": {
    "execution": {
     "iopub.execute_input": "2021-03-20T14:13:22.753368Z",
     "iopub.status.busy": "2021-03-20T14:13:22.752734Z",
     "iopub.status.idle": "2021-03-20T14:13:22.760780Z",
     "shell.execute_reply": "2021-03-20T14:13:22.760177Z"
    }
   },
   "outputs": [],
   "source": [
    "df = df[df.location == 'California'].append(df[df.location != 'California']).reset_index(drop=True)"
   ]
  },
  {
   "cell_type": "code",
   "execution_count": null,
   "metadata": {},
   "outputs": [],
   "source": []
  },
  {
   "cell_type": "code",
   "execution_count": 15,
   "metadata": {
    "execution": {
     "iopub.execute_input": "2021-03-20T14:13:22.764845Z",
     "iopub.status.busy": "2021-03-20T14:13:22.763713Z",
     "iopub.status.idle": "2021-03-20T14:13:22.783685Z",
     "shell.execute_reply": "2021-03-20T14:13:22.784117Z"
    }
   },
   "outputs": [],
   "source": [
    "tz = pytz.timezone(\"America/New_York\")"
   ]
  },
  {
   "cell_type": "code",
   "execution_count": 16,
   "metadata": {
    "execution": {
     "iopub.execute_input": "2021-03-20T14:13:22.789328Z",
     "iopub.status.busy": "2021-03-20T14:13:22.788651Z",
     "iopub.status.idle": "2021-03-20T14:13:22.793312Z",
     "shell.execute_reply": "2021-03-20T14:13:22.793884Z"
    }
   },
   "outputs": [],
   "source": [
    "today = datetime.now(tz).date()"
   ]
  },
  {
   "cell_type": "code",
   "execution_count": 17,
   "metadata": {
    "execution": {
     "iopub.execute_input": "2021-03-20T14:13:22.799101Z",
     "iopub.status.busy": "2021-03-20T14:13:22.797673Z",
     "iopub.status.idle": "2021-03-20T14:13:22.799740Z",
     "shell.execute_reply": "2021-03-20T14:13:22.800247Z"
    }
   },
   "outputs": [],
   "source": [
    "data_dir = os.path.join(os.path.abspath(\"\"), \"data\")"
   ]
  },
  {
   "cell_type": "code",
   "execution_count": 18,
   "metadata": {
    "execution": {
     "iopub.execute_input": "2021-03-20T14:13:22.807275Z",
     "iopub.status.busy": "2021-03-20T14:13:22.806574Z",
     "iopub.status.idle": "2021-03-20T14:13:22.820600Z",
     "shell.execute_reply": "2021-03-20T14:13:22.821118Z"
    }
   },
   "outputs": [],
   "source": [
    "df.to_csv(os.path.join(data_dir, f\"{today}.csv\"), index=False)"
   ]
  },
  {
   "cell_type": "code",
   "execution_count": null,
   "metadata": {},
   "outputs": [],
   "source": []
  }
 ],
 "metadata": {
  "kernelspec": {
   "display_name": "Python 3",
   "language": "python",
   "name": "python3"
  },
  "language_info": {
   "codemirror_mode": {
    "name": "ipython",
    "version": 3
   },
   "file_extension": ".py",
   "mimetype": "text/x-python",
   "name": "python",
   "nbconvert_exporter": "python",
   "pygments_lexer": "ipython3",
   "version": "3.8.8"
  }
 },
 "nbformat": 4,
 "nbformat_minor": 4
}
