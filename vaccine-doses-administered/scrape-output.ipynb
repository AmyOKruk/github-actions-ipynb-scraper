{
 "cells": [
  {
   "cell_type": "markdown",
   "metadata": {},
   "source": [
    "# California COVID vaccinations scrape"
   ]
  },
  {
   "cell_type": "markdown",
   "metadata": {},
   "source": [
    "By [Amy O'Kruk](https://twitter.com/amyokruk)"
   ]
  },
  {
   "cell_type": "markdown",
   "metadata": {},
   "source": [
    "Downloads data on vaccine doses administered by county and statewide from a Tableau-powered dashboard from the California Department of Public Health."
   ]
  },
  {
   "cell_type": "code",
   "execution_count": 1,
   "metadata": {
    "execution": {
     "iopub.execute_input": "2021-03-24T03:16:48.859260Z",
     "iopub.status.busy": "2021-03-24T03:16:48.858561Z",
     "iopub.status.idle": "2021-03-24T03:16:49.262409Z",
     "shell.execute_reply": "2021-03-24T03:16:49.261770Z"
    }
   },
   "outputs": [],
   "source": [
    "import pandas as pd\n",
    "import requests\n",
    "from bs4 import BeautifulSoup\n",
    "import json\n",
    "import re\n",
    "import time\n",
    "from time import gmtime, strftime \n",
    "import os\n",
    "import pytz\n",
    "from datetime import datetime"
   ]
  },
  {
   "cell_type": "markdown",
   "metadata": {},
   "source": [
    "Scrape the dashboard page"
   ]
  },
  {
   "cell_type": "code",
   "execution_count": 2,
   "metadata": {
    "execution": {
     "iopub.execute_input": "2021-03-24T03:16:49.268426Z",
     "iopub.status.busy": "2021-03-24T03:16:49.266055Z",
     "iopub.status.idle": "2021-03-24T03:16:49.666030Z",
     "shell.execute_reply": "2021-03-24T03:16:49.665516Z"
    }
   },
   "outputs": [],
   "source": [
    "url = \"https://public.tableau.com/interactive/views/COVID-19VaccineDashboardPublic/Vaccine?:embed=y&:showVizHome=n&:apiID=host0\"\n",
    "\n",
    "r = requests.get(url)\n",
    "soup = BeautifulSoup(r.text, \"html.parser\")"
   ]
  },
  {
   "cell_type": "code",
   "execution_count": 3,
   "metadata": {
    "execution": {
     "iopub.execute_input": "2021-03-24T03:16:49.671714Z",
     "iopub.status.busy": "2021-03-24T03:16:49.671095Z",
     "iopub.status.idle": "2021-03-24T03:16:49.674401Z",
     "shell.execute_reply": "2021-03-24T03:16:49.674860Z"
    }
   },
   "outputs": [],
   "source": [
    "tableauData = json.loads(soup.find(\"textarea\",{\"id\": \"tsConfigContainer\"}).text)"
   ]
  },
  {
   "cell_type": "markdown",
   "metadata": {},
   "source": [
    "Get the link to the Tableau data"
   ]
  },
  {
   "cell_type": "code",
   "execution_count": 4,
   "metadata": {
    "execution": {
     "iopub.execute_input": "2021-03-24T03:16:49.679775Z",
     "iopub.status.busy": "2021-03-24T03:16:49.678355Z",
     "iopub.status.idle": "2021-03-24T03:16:49.680416Z",
     "shell.execute_reply": "2021-03-24T03:16:49.680872Z"
    }
   },
   "outputs": [],
   "source": [
    "dataUrl = f'https://public.tableau.com{tableauData[\"vizql_root\"]}/bootstrapSession/sessions/{tableauData[\"sessionid\"]}'"
   ]
  },
  {
   "cell_type": "code",
   "execution_count": 5,
   "metadata": {
    "execution": {
     "iopub.execute_input": "2021-03-24T03:16:49.687418Z",
     "iopub.status.busy": "2021-03-24T03:16:49.684910Z",
     "iopub.status.idle": "2021-03-24T03:16:49.870224Z",
     "shell.execute_reply": "2021-03-24T03:16:49.869628Z"
    }
   },
   "outputs": [],
   "source": [
    "r = requests.post(dataUrl, data= {\n",
    "    \"sheet_id\": tableauData[\"sheetId\"],\n",
    "})\n",
    "\n",
    "dataReg = re.search('\\d+;({.*})\\d+;({.*})', r.text, re.MULTILINE)\n",
    "data1 = json.loads(dataReg.group(2))\n",
    "\n",
    "dataJson = data1[\"secondaryInfo\"][\"presModelMap\"][\"dataDictionary\"][\"presModelHolder\"][\"genDataDictionaryPresModel\"][\"dataSegments\"][\"0\"][\"dataColumns\"]"
   ]
  },
  {
   "cell_type": "markdown",
   "metadata": {},
   "source": [
    "Isolate what you want"
   ]
  },
  {
   "cell_type": "code",
   "execution_count": 6,
   "metadata": {
    "execution": {
     "iopub.execute_input": "2021-03-24T03:16:49.875210Z",
     "iopub.status.busy": "2021-03-24T03:16:49.873812Z",
     "iopub.status.idle": "2021-03-24T03:16:49.875854Z",
     "shell.execute_reply": "2021-03-24T03:16:49.876310Z"
    }
   },
   "outputs": [],
   "source": [
    "counties = dataJson[2]['dataValues'][:58]"
   ]
  },
  {
   "cell_type": "code",
   "execution_count": 7,
   "metadata": {
    "execution": {
     "iopub.execute_input": "2021-03-24T03:16:49.881132Z",
     "iopub.status.busy": "2021-03-24T03:16:49.879638Z",
     "iopub.status.idle": "2021-03-24T03:16:49.881777Z",
     "shell.execute_reply": "2021-03-24T03:16:49.882258Z"
    }
   },
   "outputs": [],
   "source": [
    "doses = dataJson[0]['dataValues'][3:61]"
   ]
  },
  {
   "cell_type": "markdown",
   "metadata": {},
   "source": [
    "Data formatting"
   ]
  },
  {
   "cell_type": "code",
   "execution_count": 8,
   "metadata": {
    "execution": {
     "iopub.execute_input": "2021-03-24T03:16:49.886905Z",
     "iopub.status.busy": "2021-03-24T03:16:49.885542Z",
     "iopub.status.idle": "2021-03-24T03:16:49.887683Z",
     "shell.execute_reply": "2021-03-24T03:16:49.888140Z"
    }
   },
   "outputs": [],
   "source": [
    "zipped = dict(zip(counties, doses))"
   ]
  },
  {
   "cell_type": "code",
   "execution_count": 9,
   "metadata": {
    "execution": {
     "iopub.execute_input": "2021-03-24T03:16:49.894696Z",
     "iopub.status.busy": "2021-03-24T03:16:49.893656Z",
     "iopub.status.idle": "2021-03-24T03:16:49.895632Z",
     "shell.execute_reply": "2021-03-24T03:16:49.896118Z"
    }
   },
   "outputs": [],
   "source": [
    "df = pd.Series(zipped).reset_index()"
   ]
  },
  {
   "cell_type": "code",
   "execution_count": 10,
   "metadata": {
    "execution": {
     "iopub.execute_input": "2021-03-24T03:16:49.901192Z",
     "iopub.status.busy": "2021-03-24T03:16:49.899855Z",
     "iopub.status.idle": "2021-03-24T03:16:49.901816Z",
     "shell.execute_reply": "2021-03-24T03:16:49.902306Z"
    }
   },
   "outputs": [],
   "source": [
    "df.columns = ['location','doses']"
   ]
  },
  {
   "cell_type": "markdown",
   "metadata": {},
   "source": [
    "Grab the overall California total"
   ]
  },
  {
   "cell_type": "code",
   "execution_count": 11,
   "metadata": {
    "execution": {
     "iopub.execute_input": "2021-03-24T03:16:49.906975Z",
     "iopub.status.busy": "2021-03-24T03:16:49.905706Z",
     "iopub.status.idle": "2021-03-24T03:16:49.907634Z",
     "shell.execute_reply": "2021-03-24T03:16:49.908146Z"
    }
   },
   "outputs": [],
   "source": [
    "add = {'location':'California','doses':dataJson[0]['dataValues'][2]}"
   ]
  },
  {
   "cell_type": "code",
   "execution_count": 12,
   "metadata": {
    "execution": {
     "iopub.execute_input": "2021-03-24T03:16:49.915912Z",
     "iopub.status.busy": "2021-03-24T03:16:49.914538Z",
     "iopub.status.idle": "2021-03-24T03:16:49.916555Z",
     "shell.execute_reply": "2021-03-24T03:16:49.917038Z"
    }
   },
   "outputs": [],
   "source": [
    "df = df.append(add, ignore_index=True)"
   ]
  },
  {
   "cell_type": "code",
   "execution_count": 13,
   "metadata": {
    "execution": {
     "iopub.execute_input": "2021-03-24T03:16:49.922354Z",
     "iopub.status.busy": "2021-03-24T03:16:49.921067Z",
     "iopub.status.idle": "2021-03-24T03:16:49.922998Z",
     "shell.execute_reply": "2021-03-24T03:16:49.923510Z"
    }
   },
   "outputs": [],
   "source": [
    "df = df.sort_values(by='location')"
   ]
  },
  {
   "cell_type": "code",
   "execution_count": 14,
   "metadata": {
    "execution": {
     "iopub.execute_input": "2021-03-24T03:16:49.930512Z",
     "iopub.status.busy": "2021-03-24T03:16:49.929192Z",
     "iopub.status.idle": "2021-03-24T03:16:49.931157Z",
     "shell.execute_reply": "2021-03-24T03:16:49.931666Z"
    }
   },
   "outputs": [],
   "source": [
    "df = df[df.location == 'California'].append(df[df.location != 'California']).reset_index(drop=True)"
   ]
  },
  {
   "cell_type": "code",
   "execution_count": null,
   "metadata": {},
   "outputs": [],
   "source": []
  },
  {
   "cell_type": "code",
   "execution_count": 15,
   "metadata": {
    "execution": {
     "iopub.execute_input": "2021-03-24T03:16:49.935339Z",
     "iopub.status.busy": "2021-03-24T03:16:49.934736Z",
     "iopub.status.idle": "2021-03-24T03:16:49.957849Z",
     "shell.execute_reply": "2021-03-24T03:16:49.958316Z"
    }
   },
   "outputs": [],
   "source": [
    "tz = pytz.timezone(\"America/New_York\")"
   ]
  },
  {
   "cell_type": "code",
   "execution_count": 16,
   "metadata": {
    "execution": {
     "iopub.execute_input": "2021-03-24T03:16:49.963297Z",
     "iopub.status.busy": "2021-03-24T03:16:49.961913Z",
     "iopub.status.idle": "2021-03-24T03:16:49.964006Z",
     "shell.execute_reply": "2021-03-24T03:16:49.964490Z"
    }
   },
   "outputs": [],
   "source": [
    "today = datetime.now(tz).date()"
   ]
  },
  {
   "cell_type": "code",
   "execution_count": 17,
   "metadata": {
    "execution": {
     "iopub.execute_input": "2021-03-24T03:16:49.969346Z",
     "iopub.status.busy": "2021-03-24T03:16:49.967903Z",
     "iopub.status.idle": "2021-03-24T03:16:49.969990Z",
     "shell.execute_reply": "2021-03-24T03:16:49.970471Z"
    }
   },
   "outputs": [],
   "source": [
    "data_dir = os.path.join(os.path.abspath(\"\"), \"data\")"
   ]
  },
  {
   "cell_type": "code",
   "execution_count": 18,
   "metadata": {
    "execution": {
     "iopub.execute_input": "2021-03-24T03:16:49.976726Z",
     "iopub.status.busy": "2021-03-24T03:16:49.974107Z",
     "iopub.status.idle": "2021-03-24T03:16:49.979481Z",
     "shell.execute_reply": "2021-03-24T03:16:49.978870Z"
    }
   },
   "outputs": [],
   "source": [
    "df.to_csv(os.path.join(data_dir, f\"{today}.csv\"), index=False)"
   ]
  },
  {
   "cell_type": "code",
   "execution_count": null,
   "metadata": {},
   "outputs": [],
   "source": []
  }
 ],
 "metadata": {
  "kernelspec": {
   "display_name": "Python 3",
   "language": "python",
   "name": "python3"
  },
  "language_info": {
   "codemirror_mode": {
    "name": "ipython",
    "version": 3
   },
   "file_extension": ".py",
   "mimetype": "text/x-python",
   "name": "python",
   "nbconvert_exporter": "python",
   "pygments_lexer": "ipython3",
   "version": "3.8.8"
  }
 },
 "nbformat": 4,
 "nbformat_minor": 4
}
