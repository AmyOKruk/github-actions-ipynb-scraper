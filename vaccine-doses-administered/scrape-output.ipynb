{
 "cells": [
  {
   "cell_type": "markdown",
   "metadata": {},
   "source": [
    "# California COVID vaccinations scrape"
   ]
  },
  {
   "cell_type": "markdown",
   "metadata": {},
   "source": [
    "By [Amy O'Kruk](https://twitter.com/amyokruk)"
   ]
  },
  {
   "cell_type": "markdown",
   "metadata": {},
   "source": [
    "Downloads data on vaccine doses administered by county and statewide from a Tableau-powered dashboard from the California Department of Public Health."
   ]
  },
  {
   "cell_type": "code",
   "execution_count": 1,
   "metadata": {
    "execution": {
     "iopub.execute_input": "2021-03-11T19:37:00.865427Z",
     "iopub.status.busy": "2021-03-11T19:37:00.864703Z",
     "iopub.status.idle": "2021-03-11T19:37:01.339936Z",
     "shell.execute_reply": "2021-03-11T19:37:01.338746Z"
    }
   },
   "outputs": [],
   "source": [
    "import pandas as pd\n",
    "import requests\n",
    "from bs4 import BeautifulSoup\n",
    "import json\n",
    "import re\n",
    "import time\n",
    "from time import gmtime, strftime \n",
    "import os\n",
    "import pytz\n",
    "from datetime import datetime"
   ]
  },
  {
   "cell_type": "markdown",
   "metadata": {},
   "source": [
    "Scrape the dashboard page"
   ]
  },
  {
   "cell_type": "code",
   "execution_count": 2,
   "metadata": {
    "execution": {
     "iopub.execute_input": "2021-03-11T19:37:01.347779Z",
     "iopub.status.busy": "2021-03-11T19:37:01.344958Z",
     "iopub.status.idle": "2021-03-11T19:37:01.718686Z",
     "shell.execute_reply": "2021-03-11T19:37:01.717717Z"
    }
   },
   "outputs": [],
   "source": [
    "url = \"https://public.tableau.com/interactive/views/COVID-19VaccineDashboardPublic/Vaccine?:embed=y&:showVizHome=n&:apiID=host0\"\n",
    "\n",
    "r = requests.get(url)\n",
    "soup = BeautifulSoup(r.text, \"html.parser\")"
   ]
  },
  {
   "cell_type": "code",
   "execution_count": 3,
   "metadata": {
    "execution": {
     "iopub.execute_input": "2021-03-11T19:37:01.723674Z",
     "iopub.status.busy": "2021-03-11T19:37:01.723129Z",
     "iopub.status.idle": "2021-03-11T19:37:01.726856Z",
     "shell.execute_reply": "2021-03-11T19:37:01.726383Z"
    }
   },
   "outputs": [],
   "source": [
    "tableauData = json.loads(soup.find(\"textarea\",{\"id\": \"tsConfigContainer\"}).text)"
   ]
  },
  {
   "cell_type": "markdown",
   "metadata": {},
   "source": [
    "Get the link to the Tableau data"
   ]
  },
  {
   "cell_type": "code",
   "execution_count": 4,
   "metadata": {
    "execution": {
     "iopub.execute_input": "2021-03-11T19:37:01.730718Z",
     "iopub.status.busy": "2021-03-11T19:37:01.730188Z",
     "iopub.status.idle": "2021-03-11T19:37:01.733656Z",
     "shell.execute_reply": "2021-03-11T19:37:01.733208Z"
    }
   },
   "outputs": [],
   "source": [
    "dataUrl = f'https://public.tableau.com{tableauData[\"vizql_root\"]}/bootstrapSession/sessions/{tableauData[\"sessionid\"]}'"
   ]
  },
  {
   "cell_type": "code",
   "execution_count": 5,
   "metadata": {
    "execution": {
     "iopub.execute_input": "2021-03-11T19:37:01.742849Z",
     "iopub.status.busy": "2021-03-11T19:37:01.742286Z",
     "iopub.status.idle": "2021-03-11T19:37:01.941364Z",
     "shell.execute_reply": "2021-03-11T19:37:01.940866Z"
    }
   },
   "outputs": [],
   "source": [
    "r = requests.post(dataUrl, data= {\n",
    "    \"sheet_id\": tableauData[\"sheetId\"],\n",
    "})\n",
    "\n",
    "dataReg = re.search('\\d+;({.*})\\d+;({.*})', r.text, re.MULTILINE)\n",
    "data1 = json.loads(dataReg.group(2))\n",
    "\n",
    "dataJson = data1[\"secondaryInfo\"][\"presModelMap\"][\"dataDictionary\"][\"presModelHolder\"][\"genDataDictionaryPresModel\"][\"dataSegments\"][\"0\"][\"dataColumns\"]"
   ]
  },
  {
   "cell_type": "markdown",
   "metadata": {},
   "source": [
    "Isolate what you want"
   ]
  },
  {
   "cell_type": "code",
   "execution_count": 6,
   "metadata": {
    "execution": {
     "iopub.execute_input": "2021-03-11T19:37:01.946035Z",
     "iopub.status.busy": "2021-03-11T19:37:01.944813Z",
     "iopub.status.idle": "2021-03-11T19:37:01.946636Z",
     "shell.execute_reply": "2021-03-11T19:37:01.947063Z"
    }
   },
   "outputs": [],
   "source": [
    "counties = dataJson[2]['dataValues'][:58]"
   ]
  },
  {
   "cell_type": "code",
   "execution_count": 7,
   "metadata": {
    "execution": {
     "iopub.execute_input": "2021-03-11T19:37:01.952945Z",
     "iopub.status.busy": "2021-03-11T19:37:01.951680Z",
     "iopub.status.idle": "2021-03-11T19:37:01.953527Z",
     "shell.execute_reply": "2021-03-11T19:37:01.953961Z"
    }
   },
   "outputs": [],
   "source": [
    "doses = dataJson[0]['dataValues'][3:61]"
   ]
  },
  {
   "cell_type": "markdown",
   "metadata": {},
   "source": [
    "Data formatting"
   ]
  },
  {
   "cell_type": "code",
   "execution_count": 8,
   "metadata": {
    "execution": {
     "iopub.execute_input": "2021-03-11T19:37:01.958570Z",
     "iopub.status.busy": "2021-03-11T19:37:01.957285Z",
     "iopub.status.idle": "2021-03-11T19:37:01.959170Z",
     "shell.execute_reply": "2021-03-11T19:37:01.959603Z"
    }
   },
   "outputs": [],
   "source": [
    "zipped = dict(zip(counties, doses))"
   ]
  },
  {
   "cell_type": "code",
   "execution_count": 9,
   "metadata": {
    "execution": {
     "iopub.execute_input": "2021-03-11T19:37:01.966720Z",
     "iopub.status.busy": "2021-03-11T19:37:01.965489Z",
     "iopub.status.idle": "2021-03-11T19:37:01.967434Z",
     "shell.execute_reply": "2021-03-11T19:37:01.967880Z"
    }
   },
   "outputs": [],
   "source": [
    "df = pd.Series(zipped).reset_index()"
   ]
  },
  {
   "cell_type": "code",
   "execution_count": 10,
   "metadata": {
    "execution": {
     "iopub.execute_input": "2021-03-11T19:37:01.972948Z",
     "iopub.status.busy": "2021-03-11T19:37:01.971741Z",
     "iopub.status.idle": "2021-03-11T19:37:01.973536Z",
     "shell.execute_reply": "2021-03-11T19:37:01.973964Z"
    }
   },
   "outputs": [],
   "source": [
    "df.columns = ['location','doses']"
   ]
  },
  {
   "cell_type": "markdown",
   "metadata": {},
   "source": [
    "Grab the overall California total"
   ]
  },
  {
   "cell_type": "code",
   "execution_count": 11,
   "metadata": {
    "execution": {
     "iopub.execute_input": "2021-03-11T19:37:01.979613Z",
     "iopub.status.busy": "2021-03-11T19:37:01.977555Z",
     "iopub.status.idle": "2021-03-11T19:37:01.980214Z",
     "shell.execute_reply": "2021-03-11T19:37:01.980645Z"
    }
   },
   "outputs": [],
   "source": [
    "add = {'location':'California','doses':dataJson[0]['dataValues'][2]}"
   ]
  },
  {
   "cell_type": "code",
   "execution_count": 12,
   "metadata": {
    "execution": {
     "iopub.execute_input": "2021-03-11T19:37:01.988484Z",
     "iopub.status.busy": "2021-03-11T19:37:01.987193Z",
     "iopub.status.idle": "2021-03-11T19:37:01.989125Z",
     "shell.execute_reply": "2021-03-11T19:37:01.989556Z"
    }
   },
   "outputs": [],
   "source": [
    "df = df.append(add, ignore_index=True)"
   ]
  },
  {
   "cell_type": "code",
   "execution_count": 13,
   "metadata": {
    "execution": {
     "iopub.execute_input": "2021-03-11T19:37:01.995305Z",
     "iopub.status.busy": "2021-03-11T19:37:01.993806Z",
     "iopub.status.idle": "2021-03-11T19:37:01.995943Z",
     "shell.execute_reply": "2021-03-11T19:37:01.996423Z"
    }
   },
   "outputs": [],
   "source": [
    "df = df.sort_values(by='location')"
   ]
  },
  {
   "cell_type": "code",
   "execution_count": 14,
   "metadata": {
    "execution": {
     "iopub.execute_input": "2021-03-11T19:37:02.004144Z",
     "iopub.status.busy": "2021-03-11T19:37:02.002670Z",
     "iopub.status.idle": "2021-03-11T19:37:02.004815Z",
     "shell.execute_reply": "2021-03-11T19:37:02.005264Z"
    }
   },
   "outputs": [],
   "source": [
    "df = df[df.location == 'California'].append(df[df.location != 'California']).reset_index(drop=True)"
   ]
  },
  {
   "cell_type": "code",
   "execution_count": null,
   "metadata": {},
   "outputs": [],
   "source": []
  },
  {
   "cell_type": "code",
   "execution_count": 15,
   "metadata": {
    "execution": {
     "iopub.execute_input": "2021-03-11T19:37:02.008967Z",
     "iopub.status.busy": "2021-03-11T19:37:02.008456Z",
     "iopub.status.idle": "2021-03-11T19:37:02.026846Z",
     "shell.execute_reply": "2021-03-11T19:37:02.026188Z"
    }
   },
   "outputs": [],
   "source": [
    "tz = pytz.timezone(\"America/New_York\")"
   ]
  },
  {
   "cell_type": "code",
   "execution_count": 16,
   "metadata": {
    "execution": {
     "iopub.execute_input": "2021-03-11T19:37:02.033453Z",
     "iopub.status.busy": "2021-03-11T19:37:02.032170Z",
     "iopub.status.idle": "2021-03-11T19:37:02.034078Z",
     "shell.execute_reply": "2021-03-11T19:37:02.034523Z"
    }
   },
   "outputs": [],
   "source": [
    "today = datetime.now(tz).date()"
   ]
  },
  {
   "cell_type": "code",
   "execution_count": 17,
   "metadata": {
    "execution": {
     "iopub.execute_input": "2021-03-11T19:37:02.039466Z",
     "iopub.status.busy": "2021-03-11T19:37:02.038105Z",
     "iopub.status.idle": "2021-03-11T19:37:02.040116Z",
     "shell.execute_reply": "2021-03-11T19:37:02.040557Z"
    }
   },
   "outputs": [],
   "source": [
    "data_dir = os.path.join(os.path.abspath(\"\"), \"data\")"
   ]
  },
  {
   "cell_type": "code",
   "execution_count": 18,
   "metadata": {
    "execution": {
     "iopub.execute_input": "2021-03-11T19:37:02.046437Z",
     "iopub.status.busy": "2021-03-11T19:37:02.045054Z",
     "iopub.status.idle": "2021-03-11T19:37:02.050536Z",
     "shell.execute_reply": "2021-03-11T19:37:02.049795Z"
    }
   },
   "outputs": [],
   "source": [
    "df.to_csv(os.path.join(data_dir, f\"{today}.csv\"), index=False)"
   ]
  },
  {
   "cell_type": "code",
   "execution_count": null,
   "metadata": {},
   "outputs": [],
   "source": []
  }
 ],
 "metadata": {
  "kernelspec": {
   "display_name": "Python 3",
   "language": "python",
   "name": "python3"
  },
  "language_info": {
   "codemirror_mode": {
    "name": "ipython",
    "version": 3
   },
   "file_extension": ".py",
   "mimetype": "text/x-python",
   "name": "python",
   "nbconvert_exporter": "python",
   "pygments_lexer": "ipython3",
   "version": "3.8.8"
  }
 },
 "nbformat": 4,
 "nbformat_minor": 4
}
