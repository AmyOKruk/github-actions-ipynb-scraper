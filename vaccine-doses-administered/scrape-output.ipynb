{
 "cells": [
  {
   "cell_type": "markdown",
   "metadata": {},
   "source": [
    "# California COVID vaccinations scrape"
   ]
  },
  {
   "cell_type": "markdown",
   "metadata": {},
   "source": [
    "By [Amy O'Kruk](https://twitter.com/amyokruk)"
   ]
  },
  {
   "cell_type": "markdown",
   "metadata": {},
   "source": [
    "Downloads data on vaccine doses administered by county and statewide from a Tableau-powered dashboard from the California Department of Public Health."
   ]
  },
  {
   "cell_type": "code",
   "execution_count": 1,
   "metadata": {
    "execution": {
     "iopub.execute_input": "2021-03-14T11:39:32.285929Z",
     "iopub.status.busy": "2021-03-14T11:39:32.283256Z",
     "iopub.status.idle": "2021-03-14T11:39:32.736952Z",
     "shell.execute_reply": "2021-03-14T11:39:32.735861Z"
    }
   },
   "outputs": [],
   "source": [
    "import pandas as pd\n",
    "import requests\n",
    "from bs4 import BeautifulSoup\n",
    "import json\n",
    "import re\n",
    "import time\n",
    "from time import gmtime, strftime \n",
    "import os\n",
    "import pytz\n",
    "from datetime import datetime"
   ]
  },
  {
   "cell_type": "markdown",
   "metadata": {},
   "source": [
    "Scrape the dashboard page"
   ]
  },
  {
   "cell_type": "code",
   "execution_count": 2,
   "metadata": {
    "execution": {
     "iopub.execute_input": "2021-03-14T11:39:32.741925Z",
     "iopub.status.busy": "2021-03-14T11:39:32.740185Z",
     "iopub.status.idle": "2021-03-14T11:39:33.207099Z",
     "shell.execute_reply": "2021-03-14T11:39:33.206289Z"
    }
   },
   "outputs": [],
   "source": [
    "url = \"https://public.tableau.com/interactive/views/COVID-19VaccineDashboardPublic/Vaccine?:embed=y&:showVizHome=n&:apiID=host0\"\n",
    "\n",
    "r = requests.get(url)\n",
    "soup = BeautifulSoup(r.text, \"html.parser\")"
   ]
  },
  {
   "cell_type": "code",
   "execution_count": 3,
   "metadata": {
    "execution": {
     "iopub.execute_input": "2021-03-14T11:39:33.212705Z",
     "iopub.status.busy": "2021-03-14T11:39:33.211587Z",
     "iopub.status.idle": "2021-03-14T11:39:33.213323Z",
     "shell.execute_reply": "2021-03-14T11:39:33.213718Z"
    }
   },
   "outputs": [],
   "source": [
    "tableauData = json.loads(soup.find(\"textarea\",{\"id\": \"tsConfigContainer\"}).text)"
   ]
  },
  {
   "cell_type": "markdown",
   "metadata": {},
   "source": [
    "Get the link to the Tableau data"
   ]
  },
  {
   "cell_type": "code",
   "execution_count": 4,
   "metadata": {
    "execution": {
     "iopub.execute_input": "2021-03-14T11:39:33.217676Z",
     "iopub.status.busy": "2021-03-14T11:39:33.216734Z",
     "iopub.status.idle": "2021-03-14T11:39:33.218415Z",
     "shell.execute_reply": "2021-03-14T11:39:33.218810Z"
    }
   },
   "outputs": [],
   "source": [
    "dataUrl = f'https://public.tableau.com{tableauData[\"vizql_root\"]}/bootstrapSession/sessions/{tableauData[\"sessionid\"]}'"
   ]
  },
  {
   "cell_type": "code",
   "execution_count": 5,
   "metadata": {
    "execution": {
     "iopub.execute_input": "2021-03-14T11:39:33.224835Z",
     "iopub.status.busy": "2021-03-14T11:39:33.224300Z",
     "iopub.status.idle": "2021-03-14T11:39:33.509721Z",
     "shell.execute_reply": "2021-03-14T11:39:33.510156Z"
    }
   },
   "outputs": [],
   "source": [
    "r = requests.post(dataUrl, data= {\n",
    "    \"sheet_id\": tableauData[\"sheetId\"],\n",
    "})\n",
    "\n",
    "dataReg = re.search('\\d+;({.*})\\d+;({.*})', r.text, re.MULTILINE)\n",
    "data1 = json.loads(dataReg.group(2))\n",
    "\n",
    "dataJson = data1[\"secondaryInfo\"][\"presModelMap\"][\"dataDictionary\"][\"presModelHolder\"][\"genDataDictionaryPresModel\"][\"dataSegments\"][\"0\"][\"dataColumns\"]"
   ]
  },
  {
   "cell_type": "markdown",
   "metadata": {},
   "source": [
    "Isolate what you want"
   ]
  },
  {
   "cell_type": "code",
   "execution_count": 6,
   "metadata": {
    "execution": {
     "iopub.execute_input": "2021-03-14T11:39:33.514300Z",
     "iopub.status.busy": "2021-03-14T11:39:33.513241Z",
     "iopub.status.idle": "2021-03-14T11:39:33.514868Z",
     "shell.execute_reply": "2021-03-14T11:39:33.515258Z"
    }
   },
   "outputs": [],
   "source": [
    "counties = dataJson[2]['dataValues'][:58]"
   ]
  },
  {
   "cell_type": "code",
   "execution_count": 7,
   "metadata": {
    "execution": {
     "iopub.execute_input": "2021-03-14T11:39:33.519008Z",
     "iopub.status.busy": "2021-03-14T11:39:33.518121Z",
     "iopub.status.idle": "2021-03-14T11:39:33.519645Z",
     "shell.execute_reply": "2021-03-14T11:39:33.519998Z"
    }
   },
   "outputs": [],
   "source": [
    "doses = dataJson[0]['dataValues'][3:61]"
   ]
  },
  {
   "cell_type": "markdown",
   "metadata": {},
   "source": [
    "Data formatting"
   ]
  },
  {
   "cell_type": "code",
   "execution_count": 8,
   "metadata": {
    "execution": {
     "iopub.execute_input": "2021-03-14T11:39:33.524113Z",
     "iopub.status.busy": "2021-03-14T11:39:33.522868Z",
     "iopub.status.idle": "2021-03-14T11:39:33.524666Z",
     "shell.execute_reply": "2021-03-14T11:39:33.525059Z"
    }
   },
   "outputs": [],
   "source": [
    "zipped = dict(zip(counties, doses))"
   ]
  },
  {
   "cell_type": "code",
   "execution_count": 9,
   "metadata": {
    "execution": {
     "iopub.execute_input": "2021-03-14T11:39:33.531169Z",
     "iopub.status.busy": "2021-03-14T11:39:33.530050Z",
     "iopub.status.idle": "2021-03-14T11:39:33.531793Z",
     "shell.execute_reply": "2021-03-14T11:39:33.532194Z"
    }
   },
   "outputs": [],
   "source": [
    "df = pd.Series(zipped).reset_index()"
   ]
  },
  {
   "cell_type": "code",
   "execution_count": 10,
   "metadata": {
    "execution": {
     "iopub.execute_input": "2021-03-14T11:39:33.536155Z",
     "iopub.status.busy": "2021-03-14T11:39:33.535173Z",
     "iopub.status.idle": "2021-03-14T11:39:33.536951Z",
     "shell.execute_reply": "2021-03-14T11:39:33.537377Z"
    }
   },
   "outputs": [],
   "source": [
    "df.columns = ['location','doses']"
   ]
  },
  {
   "cell_type": "markdown",
   "metadata": {},
   "source": [
    "Grab the overall California total"
   ]
  },
  {
   "cell_type": "code",
   "execution_count": 11,
   "metadata": {
    "execution": {
     "iopub.execute_input": "2021-03-14T11:39:33.541416Z",
     "iopub.status.busy": "2021-03-14T11:39:33.540486Z",
     "iopub.status.idle": "2021-03-14T11:39:33.542168Z",
     "shell.execute_reply": "2021-03-14T11:39:33.542591Z"
    }
   },
   "outputs": [],
   "source": [
    "add = {'location':'California','doses':dataJson[0]['dataValues'][2]}"
   ]
  },
  {
   "cell_type": "code",
   "execution_count": 12,
   "metadata": {
    "execution": {
     "iopub.execute_input": "2021-03-14T11:39:33.548910Z",
     "iopub.status.busy": "2021-03-14T11:39:33.547883Z",
     "iopub.status.idle": "2021-03-14T11:39:33.549468Z",
     "shell.execute_reply": "2021-03-14T11:39:33.549863Z"
    }
   },
   "outputs": [],
   "source": [
    "df = df.append(add, ignore_index=True)"
   ]
  },
  {
   "cell_type": "code",
   "execution_count": 13,
   "metadata": {
    "execution": {
     "iopub.execute_input": "2021-03-14T11:39:33.554545Z",
     "iopub.status.busy": "2021-03-14T11:39:33.553318Z",
     "iopub.status.idle": "2021-03-14T11:39:33.555180Z",
     "shell.execute_reply": "2021-03-14T11:39:33.555606Z"
    }
   },
   "outputs": [],
   "source": [
    "df = df.sort_values(by='location')"
   ]
  },
  {
   "cell_type": "code",
   "execution_count": 14,
   "metadata": {
    "execution": {
     "iopub.execute_input": "2021-03-14T11:39:33.561294Z",
     "iopub.status.busy": "2021-03-14T11:39:33.560450Z",
     "iopub.status.idle": "2021-03-14T11:39:33.562144Z",
     "shell.execute_reply": "2021-03-14T11:39:33.562574Z"
    }
   },
   "outputs": [],
   "source": [
    "df = df[df.location == 'California'].append(df[df.location != 'California']).reset_index(drop=True)"
   ]
  },
  {
   "cell_type": "code",
   "execution_count": null,
   "metadata": {},
   "outputs": [],
   "source": []
  },
  {
   "cell_type": "code",
   "execution_count": 15,
   "metadata": {
    "execution": {
     "iopub.execute_input": "2021-03-14T11:39:33.565620Z",
     "iopub.status.busy": "2021-03-14T11:39:33.565151Z",
     "iopub.status.idle": "2021-03-14T11:39:33.580965Z",
     "shell.execute_reply": "2021-03-14T11:39:33.581340Z"
    }
   },
   "outputs": [],
   "source": [
    "tz = pytz.timezone(\"America/New_York\")"
   ]
  },
  {
   "cell_type": "code",
   "execution_count": 16,
   "metadata": {
    "execution": {
     "iopub.execute_input": "2021-03-14T11:39:33.585701Z",
     "iopub.status.busy": "2021-03-14T11:39:33.584279Z",
     "iopub.status.idle": "2021-03-14T11:39:33.586284Z",
     "shell.execute_reply": "2021-03-14T11:39:33.586707Z"
    }
   },
   "outputs": [],
   "source": [
    "today = datetime.now(tz).date()"
   ]
  },
  {
   "cell_type": "code",
   "execution_count": 17,
   "metadata": {
    "execution": {
     "iopub.execute_input": "2021-03-14T11:39:33.590927Z",
     "iopub.status.busy": "2021-03-14T11:39:33.589877Z",
     "iopub.status.idle": "2021-03-14T11:39:33.591535Z",
     "shell.execute_reply": "2021-03-14T11:39:33.591972Z"
    }
   },
   "outputs": [],
   "source": [
    "data_dir = os.path.join(os.path.abspath(\"\"), \"data\")"
   ]
  },
  {
   "cell_type": "code",
   "execution_count": 18,
   "metadata": {
    "execution": {
     "iopub.execute_input": "2021-03-14T11:39:33.595462Z",
     "iopub.status.busy": "2021-03-14T11:39:33.594972Z",
     "iopub.status.idle": "2021-03-14T11:39:33.599911Z",
     "shell.execute_reply": "2021-03-14T11:39:33.599451Z"
    }
   },
   "outputs": [],
   "source": [
    "df.to_csv(os.path.join(data_dir, f\"{today}.csv\"), index=False)"
   ]
  },
  {
   "cell_type": "code",
   "execution_count": null,
   "metadata": {},
   "outputs": [],
   "source": []
  }
 ],
 "metadata": {
  "kernelspec": {
   "display_name": "Python 3",
   "language": "python",
   "name": "python3"
  },
  "language_info": {
   "codemirror_mode": {
    "name": "ipython",
    "version": 3
   },
   "file_extension": ".py",
   "mimetype": "text/x-python",
   "name": "python",
   "nbconvert_exporter": "python",
   "pygments_lexer": "ipython3",
   "version": "3.8.8"
  }
 },
 "nbformat": 4,
 "nbformat_minor": 4
}
