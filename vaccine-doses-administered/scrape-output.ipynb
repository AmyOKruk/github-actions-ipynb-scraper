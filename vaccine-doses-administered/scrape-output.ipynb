{
 "cells": [
  {
   "cell_type": "markdown",
   "metadata": {},
   "source": [
    "# California COVID vaccinations scrape"
   ]
  },
  {
   "cell_type": "markdown",
   "metadata": {},
   "source": [
    "By [Amy O'Kruk](https://twitter.com/amyokruk)"
   ]
  },
  {
   "cell_type": "markdown",
   "metadata": {},
   "source": [
    "Downloads data on vaccine doses administered by county and statewide from a Tableau-powered dashboard from the California Department of Public Health."
   ]
  },
  {
   "cell_type": "code",
   "execution_count": 1,
   "metadata": {
    "execution": {
     "iopub.execute_input": "2021-03-23T05:15:44.554718Z",
     "iopub.status.busy": "2021-03-23T05:15:44.553989Z",
     "iopub.status.idle": "2021-03-23T05:15:45.014746Z",
     "shell.execute_reply": "2021-03-23T05:15:45.013740Z"
    }
   },
   "outputs": [],
   "source": [
    "import pandas as pd\n",
    "import requests\n",
    "from bs4 import BeautifulSoup\n",
    "import json\n",
    "import re\n",
    "import time\n",
    "from time import gmtime, strftime \n",
    "import os\n",
    "import pytz\n",
    "from datetime import datetime"
   ]
  },
  {
   "cell_type": "markdown",
   "metadata": {},
   "source": [
    "Scrape the dashboard page"
   ]
  },
  {
   "cell_type": "code",
   "execution_count": 2,
   "metadata": {
    "execution": {
     "iopub.execute_input": "2021-03-23T05:15:45.023610Z",
     "iopub.status.busy": "2021-03-23T05:15:45.018614Z",
     "iopub.status.idle": "2021-03-23T05:15:45.457994Z",
     "shell.execute_reply": "2021-03-23T05:15:45.457409Z"
    }
   },
   "outputs": [],
   "source": [
    "url = \"https://public.tableau.com/interactive/views/COVID-19VaccineDashboardPublic/Vaccine?:embed=y&:showVizHome=n&:apiID=host0\"\n",
    "\n",
    "r = requests.get(url)\n",
    "soup = BeautifulSoup(r.text, \"html.parser\")"
   ]
  },
  {
   "cell_type": "code",
   "execution_count": 3,
   "metadata": {
    "execution": {
     "iopub.execute_input": "2021-03-23T05:15:45.463926Z",
     "iopub.status.busy": "2021-03-23T05:15:45.463309Z",
     "iopub.status.idle": "2021-03-23T05:15:45.466824Z",
     "shell.execute_reply": "2021-03-23T05:15:45.467430Z"
    }
   },
   "outputs": [],
   "source": [
    "tableauData = json.loads(soup.find(\"textarea\",{\"id\": \"tsConfigContainer\"}).text)"
   ]
  },
  {
   "cell_type": "markdown",
   "metadata": {},
   "source": [
    "Get the link to the Tableau data"
   ]
  },
  {
   "cell_type": "code",
   "execution_count": 4,
   "metadata": {
    "execution": {
     "iopub.execute_input": "2021-03-23T05:15:45.470948Z",
     "iopub.status.busy": "2021-03-23T05:15:45.470424Z",
     "iopub.status.idle": "2021-03-23T05:15:45.473953Z",
     "shell.execute_reply": "2021-03-23T05:15:45.473527Z"
    }
   },
   "outputs": [],
   "source": [
    "dataUrl = f'https://public.tableau.com{tableauData[\"vizql_root\"]}/bootstrapSession/sessions/{tableauData[\"sessionid\"]}'"
   ]
  },
  {
   "cell_type": "code",
   "execution_count": 5,
   "metadata": {
    "execution": {
     "iopub.execute_input": "2021-03-23T05:15:45.480678Z",
     "iopub.status.busy": "2021-03-23T05:15:45.479924Z",
     "iopub.status.idle": "2021-03-23T05:15:45.965762Z",
     "shell.execute_reply": "2021-03-23T05:15:45.965159Z"
    }
   },
   "outputs": [],
   "source": [
    "r = requests.post(dataUrl, data= {\n",
    "    \"sheet_id\": tableauData[\"sheetId\"],\n",
    "})\n",
    "\n",
    "dataReg = re.search('\\d+;({.*})\\d+;({.*})', r.text, re.MULTILINE)\n",
    "data1 = json.loads(dataReg.group(2))\n",
    "\n",
    "dataJson = data1[\"secondaryInfo\"][\"presModelMap\"][\"dataDictionary\"][\"presModelHolder\"][\"genDataDictionaryPresModel\"][\"dataSegments\"][\"0\"][\"dataColumns\"]"
   ]
  },
  {
   "cell_type": "markdown",
   "metadata": {},
   "source": [
    "Isolate what you want"
   ]
  },
  {
   "cell_type": "code",
   "execution_count": 6,
   "metadata": {
    "execution": {
     "iopub.execute_input": "2021-03-23T05:15:45.969483Z",
     "iopub.status.busy": "2021-03-23T05:15:45.968982Z",
     "iopub.status.idle": "2021-03-23T05:15:45.972650Z",
     "shell.execute_reply": "2021-03-23T05:15:45.972223Z"
    }
   },
   "outputs": [],
   "source": [
    "counties = dataJson[2]['dataValues'][:58]"
   ]
  },
  {
   "cell_type": "code",
   "execution_count": 7,
   "metadata": {
    "execution": {
     "iopub.execute_input": "2021-03-23T05:15:45.976268Z",
     "iopub.status.busy": "2021-03-23T05:15:45.975795Z",
     "iopub.status.idle": "2021-03-23T05:15:45.979569Z",
     "shell.execute_reply": "2021-03-23T05:15:45.979076Z"
    }
   },
   "outputs": [],
   "source": [
    "doses = dataJson[0]['dataValues'][3:61]"
   ]
  },
  {
   "cell_type": "markdown",
   "metadata": {},
   "source": [
    "Data formatting"
   ]
  },
  {
   "cell_type": "code",
   "execution_count": 8,
   "metadata": {
    "execution": {
     "iopub.execute_input": "2021-03-23T05:15:45.984060Z",
     "iopub.status.busy": "2021-03-23T05:15:45.982645Z",
     "iopub.status.idle": "2021-03-23T05:15:45.984731Z",
     "shell.execute_reply": "2021-03-23T05:15:45.985168Z"
    }
   },
   "outputs": [],
   "source": [
    "zipped = dict(zip(counties, doses))"
   ]
  },
  {
   "cell_type": "code",
   "execution_count": 9,
   "metadata": {
    "execution": {
     "iopub.execute_input": "2021-03-23T05:15:45.991528Z",
     "iopub.status.busy": "2021-03-23T05:15:45.990707Z",
     "iopub.status.idle": "2021-03-23T05:15:45.993255Z",
     "shell.execute_reply": "2021-03-23T05:15:45.992705Z"
    }
   },
   "outputs": [],
   "source": [
    "df = pd.Series(zipped).reset_index()"
   ]
  },
  {
   "cell_type": "code",
   "execution_count": 10,
   "metadata": {
    "execution": {
     "iopub.execute_input": "2021-03-23T05:15:45.998535Z",
     "iopub.status.busy": "2021-03-23T05:15:45.996840Z",
     "iopub.status.idle": "2021-03-23T05:15:45.999184Z",
     "shell.execute_reply": "2021-03-23T05:15:45.999608Z"
    }
   },
   "outputs": [],
   "source": [
    "df.columns = ['location','doses']"
   ]
  },
  {
   "cell_type": "markdown",
   "metadata": {},
   "source": [
    "Grab the overall California total"
   ]
  },
  {
   "cell_type": "code",
   "execution_count": 11,
   "metadata": {
    "execution": {
     "iopub.execute_input": "2021-03-23T05:15:46.004205Z",
     "iopub.status.busy": "2021-03-23T05:15:46.002944Z",
     "iopub.status.idle": "2021-03-23T05:15:46.004793Z",
     "shell.execute_reply": "2021-03-23T05:15:46.005204Z"
    }
   },
   "outputs": [],
   "source": [
    "add = {'location':'California','doses':dataJson[0]['dataValues'][2]}"
   ]
  },
  {
   "cell_type": "code",
   "execution_count": 12,
   "metadata": {
    "execution": {
     "iopub.execute_input": "2021-03-23T05:15:46.013920Z",
     "iopub.status.busy": "2021-03-23T05:15:46.012291Z",
     "iopub.status.idle": "2021-03-23T05:15:46.014606Z",
     "shell.execute_reply": "2021-03-23T05:15:46.015084Z"
    }
   },
   "outputs": [],
   "source": [
    "df = df.append(add, ignore_index=True)"
   ]
  },
  {
   "cell_type": "code",
   "execution_count": 13,
   "metadata": {
    "execution": {
     "iopub.execute_input": "2021-03-23T05:15:46.020622Z",
     "iopub.status.busy": "2021-03-23T05:15:46.019370Z",
     "iopub.status.idle": "2021-03-23T05:15:46.021456Z",
     "shell.execute_reply": "2021-03-23T05:15:46.021978Z"
    }
   },
   "outputs": [],
   "source": [
    "df = df.sort_values(by='location')"
   ]
  },
  {
   "cell_type": "code",
   "execution_count": 14,
   "metadata": {
    "execution": {
     "iopub.execute_input": "2021-03-23T05:15:46.029959Z",
     "iopub.status.busy": "2021-03-23T05:15:46.028739Z",
     "iopub.status.idle": "2021-03-23T05:15:46.030528Z",
     "shell.execute_reply": "2021-03-23T05:15:46.030996Z"
    }
   },
   "outputs": [],
   "source": [
    "df = df[df.location == 'California'].append(df[df.location != 'California']).reset_index(drop=True)"
   ]
  },
  {
   "cell_type": "code",
   "execution_count": null,
   "metadata": {},
   "outputs": [],
   "source": []
  },
  {
   "cell_type": "code",
   "execution_count": 15,
   "metadata": {
    "execution": {
     "iopub.execute_input": "2021-03-23T05:15:46.034501Z",
     "iopub.status.busy": "2021-03-23T05:15:46.034007Z",
     "iopub.status.idle": "2021-03-23T05:15:46.051865Z",
     "shell.execute_reply": "2021-03-23T05:15:46.051438Z"
    }
   },
   "outputs": [],
   "source": [
    "tz = pytz.timezone(\"America/New_York\")"
   ]
  },
  {
   "cell_type": "code",
   "execution_count": 16,
   "metadata": {
    "execution": {
     "iopub.execute_input": "2021-03-23T05:15:46.056564Z",
     "iopub.status.busy": "2021-03-23T05:15:46.055909Z",
     "iopub.status.idle": "2021-03-23T05:15:46.058436Z",
     "shell.execute_reply": "2021-03-23T05:15:46.059016Z"
    }
   },
   "outputs": [],
   "source": [
    "today = datetime.now(tz).date()"
   ]
  },
  {
   "cell_type": "code",
   "execution_count": 17,
   "metadata": {
    "execution": {
     "iopub.execute_input": "2021-03-23T05:15:46.064009Z",
     "iopub.status.busy": "2021-03-23T05:15:46.062595Z",
     "iopub.status.idle": "2021-03-23T05:15:46.064768Z",
     "shell.execute_reply": "2021-03-23T05:15:46.065335Z"
    }
   },
   "outputs": [],
   "source": [
    "data_dir = os.path.join(os.path.abspath(\"\"), \"data\")"
   ]
  },
  {
   "cell_type": "code",
   "execution_count": 18,
   "metadata": {
    "execution": {
     "iopub.execute_input": "2021-03-23T05:15:46.069493Z",
     "iopub.status.busy": "2021-03-23T05:15:46.069003Z",
     "iopub.status.idle": "2021-03-23T05:15:46.073212Z",
     "shell.execute_reply": "2021-03-23T05:15:46.073601Z"
    }
   },
   "outputs": [],
   "source": [
    "df.to_csv(os.path.join(data_dir, f\"{today}.csv\"), index=False)"
   ]
  },
  {
   "cell_type": "code",
   "execution_count": null,
   "metadata": {},
   "outputs": [],
   "source": []
  }
 ],
 "metadata": {
  "kernelspec": {
   "display_name": "Python 3",
   "language": "python",
   "name": "python3"
  },
  "language_info": {
   "codemirror_mode": {
    "name": "ipython",
    "version": 3
   },
   "file_extension": ".py",
   "mimetype": "text/x-python",
   "name": "python",
   "nbconvert_exporter": "python",
   "pygments_lexer": "ipython3",
   "version": "3.8.8"
  }
 },
 "nbformat": 4,
 "nbformat_minor": 4
}
