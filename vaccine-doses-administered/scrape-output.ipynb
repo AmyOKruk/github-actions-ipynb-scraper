{
 "cells": [
  {
   "cell_type": "markdown",
   "metadata": {},
   "source": [
    "# California COVID vaccinations scrape"
   ]
  },
  {
   "cell_type": "markdown",
   "metadata": {},
   "source": [
    "By [Amy O'Kruk](https://twitter.com/amyokruk)"
   ]
  },
  {
   "cell_type": "markdown",
   "metadata": {},
   "source": [
    "Downloads data on vaccine doses administered by county and statewide from a Tableau-powered dashboard from the California Department of Public Health."
   ]
  },
  {
   "cell_type": "code",
   "execution_count": 1,
   "metadata": {
    "execution": {
     "iopub.execute_input": "2021-03-12T08:48:23.698235Z",
     "iopub.status.busy": "2021-03-12T08:48:23.697493Z",
     "iopub.status.idle": "2021-03-12T08:48:24.089611Z",
     "shell.execute_reply": "2021-03-12T08:48:24.088620Z"
    }
   },
   "outputs": [],
   "source": [
    "import pandas as pd\n",
    "import requests\n",
    "from bs4 import BeautifulSoup\n",
    "import json\n",
    "import re\n",
    "import time\n",
    "from time import gmtime, strftime \n",
    "import os\n",
    "import pytz\n",
    "from datetime import datetime"
   ]
  },
  {
   "cell_type": "markdown",
   "metadata": {},
   "source": [
    "Scrape the dashboard page"
   ]
  },
  {
   "cell_type": "code",
   "execution_count": 2,
   "metadata": {
    "execution": {
     "iopub.execute_input": "2021-03-12T08:48:24.094478Z",
     "iopub.status.busy": "2021-03-12T08:48:24.093879Z",
     "iopub.status.idle": "2021-03-12T08:48:24.642332Z",
     "shell.execute_reply": "2021-03-12T08:48:24.641773Z"
    }
   },
   "outputs": [],
   "source": [
    "url = \"https://public.tableau.com/interactive/views/COVID-19VaccineDashboardPublic/Vaccine?:embed=y&:showVizHome=n&:apiID=host0\"\n",
    "\n",
    "r = requests.get(url)\n",
    "soup = BeautifulSoup(r.text, \"html.parser\")"
   ]
  },
  {
   "cell_type": "code",
   "execution_count": 3,
   "metadata": {
    "execution": {
     "iopub.execute_input": "2021-03-12T08:48:24.647318Z",
     "iopub.status.busy": "2021-03-12T08:48:24.646736Z",
     "iopub.status.idle": "2021-03-12T08:48:24.650616Z",
     "shell.execute_reply": "2021-03-12T08:48:24.650129Z"
    }
   },
   "outputs": [],
   "source": [
    "tableauData = json.loads(soup.find(\"textarea\",{\"id\": \"tsConfigContainer\"}).text)"
   ]
  },
  {
   "cell_type": "markdown",
   "metadata": {},
   "source": [
    "Get the link to the Tableau data"
   ]
  },
  {
   "cell_type": "code",
   "execution_count": 4,
   "metadata": {
    "execution": {
     "iopub.execute_input": "2021-03-12T08:48:24.655347Z",
     "iopub.status.busy": "2021-03-12T08:48:24.653894Z",
     "iopub.status.idle": "2021-03-12T08:48:24.656164Z",
     "shell.execute_reply": "2021-03-12T08:48:24.656691Z"
    }
   },
   "outputs": [],
   "source": [
    "dataUrl = f'https://public.tableau.com{tableauData[\"vizql_root\"]}/bootstrapSession/sessions/{tableauData[\"sessionid\"]}'"
   ]
  },
  {
   "cell_type": "code",
   "execution_count": 5,
   "metadata": {
    "execution": {
     "iopub.execute_input": "2021-03-12T08:48:24.663831Z",
     "iopub.status.busy": "2021-03-12T08:48:24.663197Z",
     "iopub.status.idle": "2021-03-12T08:48:25.225263Z",
     "shell.execute_reply": "2021-03-12T08:48:25.222918Z"
    }
   },
   "outputs": [],
   "source": [
    "r = requests.post(dataUrl, data= {\n",
    "    \"sheet_id\": tableauData[\"sheetId\"],\n",
    "})\n",
    "\n",
    "dataReg = re.search('\\d+;({.*})\\d+;({.*})', r.text, re.MULTILINE)\n",
    "data1 = json.loads(dataReg.group(2))\n",
    "\n",
    "dataJson = data1[\"secondaryInfo\"][\"presModelMap\"][\"dataDictionary\"][\"presModelHolder\"][\"genDataDictionaryPresModel\"][\"dataSegments\"][\"0\"][\"dataColumns\"]"
   ]
  },
  {
   "cell_type": "markdown",
   "metadata": {},
   "source": [
    "Isolate what you want"
   ]
  },
  {
   "cell_type": "code",
   "execution_count": 6,
   "metadata": {
    "execution": {
     "iopub.execute_input": "2021-03-12T08:48:25.230397Z",
     "iopub.status.busy": "2021-03-12T08:48:25.229031Z",
     "iopub.status.idle": "2021-03-12T08:48:25.231035Z",
     "shell.execute_reply": "2021-03-12T08:48:25.231524Z"
    }
   },
   "outputs": [],
   "source": [
    "counties = dataJson[2]['dataValues'][:58]"
   ]
  },
  {
   "cell_type": "code",
   "execution_count": 7,
   "metadata": {
    "execution": {
     "iopub.execute_input": "2021-03-12T08:48:25.234641Z",
     "iopub.status.busy": "2021-03-12T08:48:25.233468Z",
     "iopub.status.idle": "2021-03-12T08:48:25.238878Z",
     "shell.execute_reply": "2021-03-12T08:48:25.239664Z"
    }
   },
   "outputs": [],
   "source": [
    "doses = dataJson[0]['dataValues'][3:61]"
   ]
  },
  {
   "cell_type": "markdown",
   "metadata": {},
   "source": [
    "Data formatting"
   ]
  },
  {
   "cell_type": "code",
   "execution_count": 8,
   "metadata": {
    "execution": {
     "iopub.execute_input": "2021-03-12T08:48:25.243374Z",
     "iopub.status.busy": "2021-03-12T08:48:25.242860Z",
     "iopub.status.idle": "2021-03-12T08:48:25.246828Z",
     "shell.execute_reply": "2021-03-12T08:48:25.246039Z"
    }
   },
   "outputs": [],
   "source": [
    "zipped = dict(zip(counties, doses))"
   ]
  },
  {
   "cell_type": "code",
   "execution_count": 9,
   "metadata": {
    "execution": {
     "iopub.execute_input": "2021-03-12T08:48:25.253252Z",
     "iopub.status.busy": "2021-03-12T08:48:25.252681Z",
     "iopub.status.idle": "2021-03-12T08:48:25.256382Z",
     "shell.execute_reply": "2021-03-12T08:48:25.256904Z"
    }
   },
   "outputs": [],
   "source": [
    "df = pd.Series(zipped).reset_index()"
   ]
  },
  {
   "cell_type": "code",
   "execution_count": 10,
   "metadata": {
    "execution": {
     "iopub.execute_input": "2021-03-12T08:48:25.260911Z",
     "iopub.status.busy": "2021-03-12T08:48:25.260374Z",
     "iopub.status.idle": "2021-03-12T08:48:25.264310Z",
     "shell.execute_reply": "2021-03-12T08:48:25.263849Z"
    }
   },
   "outputs": [],
   "source": [
    "df.columns = ['location','doses']"
   ]
  },
  {
   "cell_type": "markdown",
   "metadata": {},
   "source": [
    "Grab the overall California total"
   ]
  },
  {
   "cell_type": "code",
   "execution_count": 11,
   "metadata": {
    "execution": {
     "iopub.execute_input": "2021-03-12T08:48:25.268115Z",
     "iopub.status.busy": "2021-03-12T08:48:25.267580Z",
     "iopub.status.idle": "2021-03-12T08:48:25.271122Z",
     "shell.execute_reply": "2021-03-12T08:48:25.270557Z"
    }
   },
   "outputs": [],
   "source": [
    "add = {'location':'California','doses':dataJson[0]['dataValues'][2]}"
   ]
  },
  {
   "cell_type": "code",
   "execution_count": 12,
   "metadata": {
    "execution": {
     "iopub.execute_input": "2021-03-12T08:48:25.277673Z",
     "iopub.status.busy": "2021-03-12T08:48:25.277131Z",
     "iopub.status.idle": "2021-03-12T08:48:25.281163Z",
     "shell.execute_reply": "2021-03-12T08:48:25.280608Z"
    }
   },
   "outputs": [],
   "source": [
    "df = df.append(add, ignore_index=True)"
   ]
  },
  {
   "cell_type": "code",
   "execution_count": 13,
   "metadata": {
    "execution": {
     "iopub.execute_input": "2021-03-12T08:48:25.285749Z",
     "iopub.status.busy": "2021-03-12T08:48:25.285169Z",
     "iopub.status.idle": "2021-03-12T08:48:25.289263Z",
     "shell.execute_reply": "2021-03-12T08:48:25.288658Z"
    }
   },
   "outputs": [],
   "source": [
    "df = df.sort_values(by='location')"
   ]
  },
  {
   "cell_type": "code",
   "execution_count": 14,
   "metadata": {
    "execution": {
     "iopub.execute_input": "2021-03-12T08:48:25.301821Z",
     "iopub.status.busy": "2021-03-12T08:48:25.301231Z",
     "iopub.status.idle": "2021-03-12T08:48:25.305311Z",
     "shell.execute_reply": "2021-03-12T08:48:25.304743Z"
    }
   },
   "outputs": [],
   "source": [
    "df = df[df.location == 'California'].append(df[df.location != 'California']).reset_index(drop=True)"
   ]
  },
  {
   "cell_type": "code",
   "execution_count": null,
   "metadata": {},
   "outputs": [],
   "source": []
  },
  {
   "cell_type": "code",
   "execution_count": 15,
   "metadata": {
    "execution": {
     "iopub.execute_input": "2021-03-12T08:48:25.309743Z",
     "iopub.status.busy": "2021-03-12T08:48:25.308742Z",
     "iopub.status.idle": "2021-03-12T08:48:25.332290Z",
     "shell.execute_reply": "2021-03-12T08:48:25.331730Z"
    }
   },
   "outputs": [],
   "source": [
    "tz = pytz.timezone(\"America/New_York\")"
   ]
  },
  {
   "cell_type": "code",
   "execution_count": 16,
   "metadata": {
    "execution": {
     "iopub.execute_input": "2021-03-12T08:48:25.336517Z",
     "iopub.status.busy": "2021-03-12T08:48:25.335952Z",
     "iopub.status.idle": "2021-03-12T08:48:25.340016Z",
     "shell.execute_reply": "2021-03-12T08:48:25.339228Z"
    }
   },
   "outputs": [],
   "source": [
    "today = datetime.now(tz).date()"
   ]
  },
  {
   "cell_type": "code",
   "execution_count": 17,
   "metadata": {
    "execution": {
     "iopub.execute_input": "2021-03-12T08:48:25.344457Z",
     "iopub.status.busy": "2021-03-12T08:48:25.343816Z",
     "iopub.status.idle": "2021-03-12T08:48:25.348722Z",
     "shell.execute_reply": "2021-03-12T08:48:25.347915Z"
    }
   },
   "outputs": [],
   "source": [
    "data_dir = os.path.join(os.path.abspath(\"\"), \"data\")"
   ]
  },
  {
   "cell_type": "code",
   "execution_count": 18,
   "metadata": {
    "execution": {
     "iopub.execute_input": "2021-03-12T08:48:25.353474Z",
     "iopub.status.busy": "2021-03-12T08:48:25.352562Z",
     "iopub.status.idle": "2021-03-12T08:48:25.377248Z",
     "shell.execute_reply": "2021-03-12T08:48:25.376641Z"
    }
   },
   "outputs": [],
   "source": [
    "df.to_csv(os.path.join(data_dir, f\"{today}.csv\"), index=False)"
   ]
  },
  {
   "cell_type": "code",
   "execution_count": null,
   "metadata": {},
   "outputs": [],
   "source": []
  }
 ],
 "metadata": {
  "kernelspec": {
   "display_name": "Python 3",
   "language": "python",
   "name": "python3"
  },
  "language_info": {
   "codemirror_mode": {
    "name": "ipython",
    "version": 3
   },
   "file_extension": ".py",
   "mimetype": "text/x-python",
   "name": "python",
   "nbconvert_exporter": "python",
   "pygments_lexer": "ipython3",
   "version": "3.8.8"
  }
 },
 "nbformat": 4,
 "nbformat_minor": 4
}
