{
 "cells": [
  {
   "cell_type": "markdown",
   "metadata": {},
   "source": [
    "# California COVID vaccinations scrape"
   ]
  },
  {
   "cell_type": "markdown",
   "metadata": {},
   "source": [
    "By [Amy O'Kruk](https://twitter.com/amyokruk)"
   ]
  },
  {
   "cell_type": "markdown",
   "metadata": {},
   "source": [
    "Downloads data on vaccine doses administered by county and statewide from a Tableau-powered dashboard from the California Department of Public Health."
   ]
  },
  {
   "cell_type": "code",
   "execution_count": 1,
   "metadata": {
    "execution": {
     "iopub.execute_input": "2021-03-10T03:11:58.868165Z",
     "iopub.status.busy": "2021-03-10T03:11:58.867009Z",
     "iopub.status.idle": "2021-03-10T03:11:59.277828Z",
     "shell.execute_reply": "2021-03-10T03:11:59.276792Z"
    }
   },
   "outputs": [],
   "source": [
    "import pandas as pd\n",
    "import requests\n",
    "from bs4 import BeautifulSoup\n",
    "import json\n",
    "import re\n",
    "import time\n",
    "from time import gmtime, strftime \n",
    "import os\n",
    "import pytz\n",
    "from datetime import datetime"
   ]
  },
  {
   "cell_type": "markdown",
   "metadata": {},
   "source": [
    "Scrape the dashboard page"
   ]
  },
  {
   "cell_type": "code",
   "execution_count": 2,
   "metadata": {
    "execution": {
     "iopub.execute_input": "2021-03-10T03:11:59.284021Z",
     "iopub.status.busy": "2021-03-10T03:11:59.281481Z",
     "iopub.status.idle": "2021-03-10T03:11:59.673436Z",
     "shell.execute_reply": "2021-03-10T03:11:59.672841Z"
    }
   },
   "outputs": [],
   "source": [
    "url = \"https://public.tableau.com/interactive/views/COVID-19VaccineDashboardPublic/Vaccine?:embed=y&:showVizHome=n&:apiID=host0\"\n",
    "\n",
    "r = requests.get(url)\n",
    "soup = BeautifulSoup(r.text, \"html.parser\")"
   ]
  },
  {
   "cell_type": "code",
   "execution_count": 3,
   "metadata": {
    "execution": {
     "iopub.execute_input": "2021-03-10T03:11:59.678616Z",
     "iopub.status.busy": "2021-03-10T03:11:59.677920Z",
     "iopub.status.idle": "2021-03-10T03:11:59.682262Z",
     "shell.execute_reply": "2021-03-10T03:11:59.682793Z"
    }
   },
   "outputs": [],
   "source": [
    "tableauData = json.loads(soup.find(\"textarea\",{\"id\": \"tsConfigContainer\"}).text)"
   ]
  },
  {
   "cell_type": "markdown",
   "metadata": {},
   "source": [
    "Get the link to the Tableau data"
   ]
  },
  {
   "cell_type": "code",
   "execution_count": 4,
   "metadata": {
    "execution": {
     "iopub.execute_input": "2021-03-10T03:11:59.688231Z",
     "iopub.status.busy": "2021-03-10T03:11:59.686572Z",
     "iopub.status.idle": "2021-03-10T03:11:59.688942Z",
     "shell.execute_reply": "2021-03-10T03:11:59.689490Z"
    }
   },
   "outputs": [],
   "source": [
    "dataUrl = f'https://public.tableau.com{tableauData[\"vizql_root\"]}/bootstrapSession/sessions/{tableauData[\"sessionid\"]}'"
   ]
  },
  {
   "cell_type": "code",
   "execution_count": 5,
   "metadata": {
    "execution": {
     "iopub.execute_input": "2021-03-10T03:11:59.696841Z",
     "iopub.status.busy": "2021-03-10T03:11:59.696189Z",
     "iopub.status.idle": "2021-03-10T03:11:59.902580Z",
     "shell.execute_reply": "2021-03-10T03:11:59.901512Z"
    }
   },
   "outputs": [],
   "source": [
    "r = requests.post(dataUrl, data= {\n",
    "    \"sheet_id\": tableauData[\"sheetId\"],\n",
    "})\n",
    "\n",
    "dataReg = re.search('\\d+;({.*})\\d+;({.*})', r.text, re.MULTILINE)\n",
    "data1 = json.loads(dataReg.group(2))\n",
    "\n",
    "dataJson = data1[\"secondaryInfo\"][\"presModelMap\"][\"dataDictionary\"][\"presModelHolder\"][\"genDataDictionaryPresModel\"][\"dataSegments\"][\"0\"][\"dataColumns\"]"
   ]
  },
  {
   "cell_type": "markdown",
   "metadata": {},
   "source": [
    "Isolate what you want"
   ]
  },
  {
   "cell_type": "code",
   "execution_count": 6,
   "metadata": {
    "execution": {
     "iopub.execute_input": "2021-03-10T03:11:59.907316Z",
     "iopub.status.busy": "2021-03-10T03:11:59.906637Z",
     "iopub.status.idle": "2021-03-10T03:11:59.911179Z",
     "shell.execute_reply": "2021-03-10T03:11:59.910577Z"
    }
   },
   "outputs": [],
   "source": [
    "counties = dataJson[2]['dataValues'][:58]"
   ]
  },
  {
   "cell_type": "code",
   "execution_count": 7,
   "metadata": {
    "execution": {
     "iopub.execute_input": "2021-03-10T03:11:59.916877Z",
     "iopub.status.busy": "2021-03-10T03:11:59.915182Z",
     "iopub.status.idle": "2021-03-10T03:11:59.917709Z",
     "shell.execute_reply": "2021-03-10T03:11:59.918314Z"
    }
   },
   "outputs": [],
   "source": [
    "doses = dataJson[0]['dataValues'][3:61]"
   ]
  },
  {
   "cell_type": "markdown",
   "metadata": {},
   "source": [
    "Data formatting"
   ]
  },
  {
   "cell_type": "code",
   "execution_count": 8,
   "metadata": {
    "execution": {
     "iopub.execute_input": "2021-03-10T03:11:59.923701Z",
     "iopub.status.busy": "2021-03-10T03:11:59.922128Z",
     "iopub.status.idle": "2021-03-10T03:11:59.924418Z",
     "shell.execute_reply": "2021-03-10T03:11:59.924976Z"
    }
   },
   "outputs": [],
   "source": [
    "zipped = dict(zip(counties, doses))"
   ]
  },
  {
   "cell_type": "code",
   "execution_count": 9,
   "metadata": {
    "execution": {
     "iopub.execute_input": "2021-03-10T03:11:59.933940Z",
     "iopub.status.busy": "2021-03-10T03:11:59.932407Z",
     "iopub.status.idle": "2021-03-10T03:11:59.934710Z",
     "shell.execute_reply": "2021-03-10T03:11:59.935256Z"
    }
   },
   "outputs": [],
   "source": [
    "df = pd.Series(zipped).reset_index()"
   ]
  },
  {
   "cell_type": "code",
   "execution_count": 10,
   "metadata": {
    "execution": {
     "iopub.execute_input": "2021-03-10T03:11:59.940710Z",
     "iopub.status.busy": "2021-03-10T03:11:59.939233Z",
     "iopub.status.idle": "2021-03-10T03:11:59.941409Z",
     "shell.execute_reply": "2021-03-10T03:11:59.941961Z"
    }
   },
   "outputs": [],
   "source": [
    "df.columns = ['location','doses']"
   ]
  },
  {
   "cell_type": "markdown",
   "metadata": {},
   "source": [
    "Grab the overall California total"
   ]
  },
  {
   "cell_type": "code",
   "execution_count": 11,
   "metadata": {
    "execution": {
     "iopub.execute_input": "2021-03-10T03:11:59.947706Z",
     "iopub.status.busy": "2021-03-10T03:11:59.946174Z",
     "iopub.status.idle": "2021-03-10T03:11:59.948405Z",
     "shell.execute_reply": "2021-03-10T03:11:59.948938Z"
    }
   },
   "outputs": [],
   "source": [
    "add = {'location':'California','doses':dataJson[0]['dataValues'][2]}"
   ]
  },
  {
   "cell_type": "code",
   "execution_count": 12,
   "metadata": {
    "execution": {
     "iopub.execute_input": "2021-03-10T03:11:59.957442Z",
     "iopub.status.busy": "2021-03-10T03:11:59.955991Z",
     "iopub.status.idle": "2021-03-10T03:11:59.958130Z",
     "shell.execute_reply": "2021-03-10T03:11:59.958689Z"
    }
   },
   "outputs": [],
   "source": [
    "df = df.append(add, ignore_index=True)"
   ]
  },
  {
   "cell_type": "code",
   "execution_count": 13,
   "metadata": {
    "execution": {
     "iopub.execute_input": "2021-03-10T03:11:59.964567Z",
     "iopub.status.busy": "2021-03-10T03:11:59.963163Z",
     "iopub.status.idle": "2021-03-10T03:11:59.965247Z",
     "shell.execute_reply": "2021-03-10T03:11:59.965777Z"
    }
   },
   "outputs": [],
   "source": [
    "df = df.sort_values(by='location')"
   ]
  },
  {
   "cell_type": "code",
   "execution_count": 14,
   "metadata": {
    "execution": {
     "iopub.execute_input": "2021-03-10T03:11:59.973434Z",
     "iopub.status.busy": "2021-03-10T03:11:59.972006Z",
     "iopub.status.idle": "2021-03-10T03:11:59.974102Z",
     "shell.execute_reply": "2021-03-10T03:11:59.974658Z"
    }
   },
   "outputs": [],
   "source": [
    "df = df[df.location == 'California'].append(df[df.location != 'California']).reset_index(drop=True)"
   ]
  },
  {
   "cell_type": "code",
   "execution_count": null,
   "metadata": {},
   "outputs": [],
   "source": []
  },
  {
   "cell_type": "code",
   "execution_count": 15,
   "metadata": {
    "execution": {
     "iopub.execute_input": "2021-03-10T03:11:59.979113Z",
     "iopub.status.busy": "2021-03-10T03:11:59.978507Z",
     "iopub.status.idle": "2021-03-10T03:12:00.000534Z",
     "shell.execute_reply": "2021-03-10T03:11:59.999922Z"
    }
   },
   "outputs": [],
   "source": [
    "tz = pytz.timezone(\"America/New_York\")"
   ]
  },
  {
   "cell_type": "code",
   "execution_count": 16,
   "metadata": {
    "execution": {
     "iopub.execute_input": "2021-03-10T03:12:00.005546Z",
     "iopub.status.busy": "2021-03-10T03:12:00.004059Z",
     "iopub.status.idle": "2021-03-10T03:12:00.006204Z",
     "shell.execute_reply": "2021-03-10T03:12:00.006743Z"
    }
   },
   "outputs": [],
   "source": [
    "today = datetime.now(tz).date()"
   ]
  },
  {
   "cell_type": "code",
   "execution_count": 17,
   "metadata": {
    "execution": {
     "iopub.execute_input": "2021-03-10T03:12:00.011816Z",
     "iopub.status.busy": "2021-03-10T03:12:00.010326Z",
     "iopub.status.idle": "2021-03-10T03:12:00.012462Z",
     "shell.execute_reply": "2021-03-10T03:12:00.012960Z"
    }
   },
   "outputs": [],
   "source": [
    "data_dir = os.path.join(os.path.abspath(\"\"), \"data\")"
   ]
  },
  {
   "cell_type": "code",
   "execution_count": 18,
   "metadata": {
    "execution": {
     "iopub.execute_input": "2021-03-10T03:12:00.017621Z",
     "iopub.status.busy": "2021-03-10T03:12:00.016338Z",
     "iopub.status.idle": "2021-03-10T03:12:00.020817Z",
     "shell.execute_reply": "2021-03-10T03:12:00.021286Z"
    }
   },
   "outputs": [],
   "source": [
    "df.to_csv(os.path.join(data_dir, f\"{today}.csv\"), index=False)"
   ]
  },
  {
   "cell_type": "code",
   "execution_count": null,
   "metadata": {},
   "outputs": [],
   "source": []
  }
 ],
 "metadata": {
  "kernelspec": {
   "display_name": "Python 3",
   "language": "python",
   "name": "python3"
  },
  "language_info": {
   "codemirror_mode": {
    "name": "ipython",
    "version": 3
   },
   "file_extension": ".py",
   "mimetype": "text/x-python",
   "name": "python",
   "nbconvert_exporter": "python",
   "pygments_lexer": "ipython3",
   "version": "3.8.8"
  }
 },
 "nbformat": 4,
 "nbformat_minor": 4
}
