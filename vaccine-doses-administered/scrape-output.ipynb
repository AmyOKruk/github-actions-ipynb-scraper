{
 "cells": [
  {
   "cell_type": "markdown",
   "metadata": {},
   "source": [
    "# California COVID vaccinations scrape"
   ]
  },
  {
   "cell_type": "markdown",
   "metadata": {},
   "source": [
    "By [Amy O'Kruk](https://twitter.com/amyokruk)"
   ]
  },
  {
   "cell_type": "markdown",
   "metadata": {},
   "source": [
    "Downloads data on vaccine doses administered by county and statewide from a Tableau-powered dashboard from the California Department of Public Health."
   ]
  },
  {
   "cell_type": "code",
   "execution_count": 1,
   "metadata": {
    "execution": {
     "iopub.execute_input": "2021-03-11T07:13:07.073964Z",
     "iopub.status.busy": "2021-03-11T07:13:07.073260Z",
     "iopub.status.idle": "2021-03-11T07:13:07.503836Z",
     "shell.execute_reply": "2021-03-11T07:13:07.502727Z"
    }
   },
   "outputs": [],
   "source": [
    "import pandas as pd\n",
    "import requests\n",
    "from bs4 import BeautifulSoup\n",
    "import json\n",
    "import re\n",
    "import time\n",
    "from time import gmtime, strftime \n",
    "import os\n",
    "import pytz\n",
    "from datetime import datetime"
   ]
  },
  {
   "cell_type": "markdown",
   "metadata": {},
   "source": [
    "Scrape the dashboard page"
   ]
  },
  {
   "cell_type": "code",
   "execution_count": 2,
   "metadata": {
    "execution": {
     "iopub.execute_input": "2021-03-11T07:13:07.508813Z",
     "iopub.status.busy": "2021-03-11T07:13:07.508005Z",
     "iopub.status.idle": "2021-03-11T07:13:07.863037Z",
     "shell.execute_reply": "2021-03-11T07:13:07.863607Z"
    }
   },
   "outputs": [],
   "source": [
    "url = \"https://public.tableau.com/interactive/views/COVID-19VaccineDashboardPublic/Vaccine?:embed=y&:showVizHome=n&:apiID=host0\"\n",
    "\n",
    "r = requests.get(url)\n",
    "soup = BeautifulSoup(r.text, \"html.parser\")"
   ]
  },
  {
   "cell_type": "code",
   "execution_count": 3,
   "metadata": {
    "execution": {
     "iopub.execute_input": "2021-03-11T07:13:07.868895Z",
     "iopub.status.busy": "2021-03-11T07:13:07.868277Z",
     "iopub.status.idle": "2021-03-11T07:13:07.871684Z",
     "shell.execute_reply": "2021-03-11T07:13:07.872110Z"
    }
   },
   "outputs": [],
   "source": [
    "tableauData = json.loads(soup.find(\"textarea\",{\"id\": \"tsConfigContainer\"}).text)"
   ]
  },
  {
   "cell_type": "markdown",
   "metadata": {},
   "source": [
    "Get the link to the Tableau data"
   ]
  },
  {
   "cell_type": "code",
   "execution_count": 4,
   "metadata": {
    "execution": {
     "iopub.execute_input": "2021-03-11T07:13:07.875930Z",
     "iopub.status.busy": "2021-03-11T07:13:07.875152Z",
     "iopub.status.idle": "2021-03-11T07:13:07.879005Z",
     "shell.execute_reply": "2021-03-11T07:13:07.879445Z"
    }
   },
   "outputs": [],
   "source": [
    "dataUrl = f'https://public.tableau.com{tableauData[\"vizql_root\"]}/bootstrapSession/sessions/{tableauData[\"sessionid\"]}'"
   ]
  },
  {
   "cell_type": "code",
   "execution_count": 5,
   "metadata": {
    "execution": {
     "iopub.execute_input": "2021-03-11T07:13:07.886026Z",
     "iopub.status.busy": "2021-03-11T07:13:07.885491Z",
     "iopub.status.idle": "2021-03-11T07:13:08.065698Z",
     "shell.execute_reply": "2021-03-11T07:13:08.066575Z"
    }
   },
   "outputs": [],
   "source": [
    "r = requests.post(dataUrl, data= {\n",
    "    \"sheet_id\": tableauData[\"sheetId\"],\n",
    "})\n",
    "\n",
    "dataReg = re.search('\\d+;({.*})\\d+;({.*})', r.text, re.MULTILINE)\n",
    "data1 = json.loads(dataReg.group(2))\n",
    "\n",
    "dataJson = data1[\"secondaryInfo\"][\"presModelMap\"][\"dataDictionary\"][\"presModelHolder\"][\"genDataDictionaryPresModel\"][\"dataSegments\"][\"0\"][\"dataColumns\"]"
   ]
  },
  {
   "cell_type": "markdown",
   "metadata": {},
   "source": [
    "Isolate what you want"
   ]
  },
  {
   "cell_type": "code",
   "execution_count": 6,
   "metadata": {
    "execution": {
     "iopub.execute_input": "2021-03-11T07:13:08.071826Z",
     "iopub.status.busy": "2021-03-11T07:13:08.070503Z",
     "iopub.status.idle": "2021-03-11T07:13:08.072417Z",
     "shell.execute_reply": "2021-03-11T07:13:08.072867Z"
    }
   },
   "outputs": [],
   "source": [
    "counties = dataJson[2]['dataValues'][:58]"
   ]
  },
  {
   "cell_type": "code",
   "execution_count": 7,
   "metadata": {
    "execution": {
     "iopub.execute_input": "2021-03-11T07:13:08.077238Z",
     "iopub.status.busy": "2021-03-11T07:13:08.076181Z",
     "iopub.status.idle": "2021-03-11T07:13:08.078093Z",
     "shell.execute_reply": "2021-03-11T07:13:08.078587Z"
    }
   },
   "outputs": [],
   "source": [
    "doses = dataJson[0]['dataValues'][3:61]"
   ]
  },
  {
   "cell_type": "markdown",
   "metadata": {},
   "source": [
    "Data formatting"
   ]
  },
  {
   "cell_type": "code",
   "execution_count": 8,
   "metadata": {
    "execution": {
     "iopub.execute_input": "2021-03-11T07:13:08.083688Z",
     "iopub.status.busy": "2021-03-11T07:13:08.082626Z",
     "iopub.status.idle": "2021-03-11T07:13:08.085052Z",
     "shell.execute_reply": "2021-03-11T07:13:08.084514Z"
    }
   },
   "outputs": [],
   "source": [
    "zipped = dict(zip(counties, doses))"
   ]
  },
  {
   "cell_type": "code",
   "execution_count": 9,
   "metadata": {
    "execution": {
     "iopub.execute_input": "2021-03-11T07:13:08.092100Z",
     "iopub.status.busy": "2021-03-11T07:13:08.091102Z",
     "iopub.status.idle": "2021-03-11T07:13:08.093123Z",
     "shell.execute_reply": "2021-03-11T07:13:08.093707Z"
    }
   },
   "outputs": [],
   "source": [
    "df = pd.Series(zipped).reset_index()"
   ]
  },
  {
   "cell_type": "code",
   "execution_count": 10,
   "metadata": {
    "execution": {
     "iopub.execute_input": "2021-03-11T07:13:08.098601Z",
     "iopub.status.busy": "2021-03-11T07:13:08.097084Z",
     "iopub.status.idle": "2021-03-11T07:13:08.100241Z",
     "shell.execute_reply": "2021-03-11T07:13:08.099602Z"
    }
   },
   "outputs": [],
   "source": [
    "df.columns = ['location','doses']"
   ]
  },
  {
   "cell_type": "markdown",
   "metadata": {},
   "source": [
    "Grab the overall California total"
   ]
  },
  {
   "cell_type": "code",
   "execution_count": 11,
   "metadata": {
    "execution": {
     "iopub.execute_input": "2021-03-11T07:13:08.105094Z",
     "iopub.status.busy": "2021-03-11T07:13:08.103682Z",
     "iopub.status.idle": "2021-03-11T07:13:08.105864Z",
     "shell.execute_reply": "2021-03-11T07:13:08.106311Z"
    }
   },
   "outputs": [],
   "source": [
    "add = {'location':'California','doses':dataJson[0]['dataValues'][2]}"
   ]
  },
  {
   "cell_type": "code",
   "execution_count": 12,
   "metadata": {
    "execution": {
     "iopub.execute_input": "2021-03-11T07:13:08.115063Z",
     "iopub.status.busy": "2021-03-11T07:13:08.113452Z",
     "iopub.status.idle": "2021-03-11T07:13:08.115951Z",
     "shell.execute_reply": "2021-03-11T07:13:08.116478Z"
    }
   },
   "outputs": [],
   "source": [
    "df = df.append(add, ignore_index=True)"
   ]
  },
  {
   "cell_type": "code",
   "execution_count": 13,
   "metadata": {
    "execution": {
     "iopub.execute_input": "2021-03-11T07:13:08.123057Z",
     "iopub.status.busy": "2021-03-11T07:13:08.121636Z",
     "iopub.status.idle": "2021-03-11T07:13:08.123757Z",
     "shell.execute_reply": "2021-03-11T07:13:08.124245Z"
    }
   },
   "outputs": [],
   "source": [
    "df = df.sort_values(by='location')"
   ]
  },
  {
   "cell_type": "code",
   "execution_count": 14,
   "metadata": {
    "execution": {
     "iopub.execute_input": "2021-03-11T07:13:08.132429Z",
     "iopub.status.busy": "2021-03-11T07:13:08.130913Z",
     "iopub.status.idle": "2021-03-11T07:13:08.133251Z",
     "shell.execute_reply": "2021-03-11T07:13:08.133791Z"
    }
   },
   "outputs": [],
   "source": [
    "df = df[df.location == 'California'].append(df[df.location != 'California']).reset_index(drop=True)"
   ]
  },
  {
   "cell_type": "code",
   "execution_count": null,
   "metadata": {},
   "outputs": [],
   "source": []
  },
  {
   "cell_type": "code",
   "execution_count": 15,
   "metadata": {
    "execution": {
     "iopub.execute_input": "2021-03-11T07:13:08.137868Z",
     "iopub.status.busy": "2021-03-11T07:13:08.137203Z",
     "iopub.status.idle": "2021-03-11T07:13:08.157617Z",
     "shell.execute_reply": "2021-03-11T07:13:08.158142Z"
    }
   },
   "outputs": [],
   "source": [
    "tz = pytz.timezone(\"America/New_York\")"
   ]
  },
  {
   "cell_type": "code",
   "execution_count": 16,
   "metadata": {
    "execution": {
     "iopub.execute_input": "2021-03-11T07:13:08.167822Z",
     "iopub.status.busy": "2021-03-11T07:13:08.165392Z",
     "iopub.status.idle": "2021-03-11T07:13:08.168540Z",
     "shell.execute_reply": "2021-03-11T07:13:08.169082Z"
    }
   },
   "outputs": [],
   "source": [
    "today = datetime.now(tz).date()"
   ]
  },
  {
   "cell_type": "code",
   "execution_count": 17,
   "metadata": {
    "execution": {
     "iopub.execute_input": "2021-03-11T07:13:08.174482Z",
     "iopub.status.busy": "2021-03-11T07:13:08.173104Z",
     "iopub.status.idle": "2021-03-11T07:13:08.175124Z",
     "shell.execute_reply": "2021-03-11T07:13:08.175708Z"
    }
   },
   "outputs": [],
   "source": [
    "data_dir = os.path.join(os.path.abspath(\"\"), \"data\")"
   ]
  },
  {
   "cell_type": "code",
   "execution_count": 18,
   "metadata": {
    "execution": {
     "iopub.execute_input": "2021-03-11T07:13:08.180522Z",
     "iopub.status.busy": "2021-03-11T07:13:08.179224Z",
     "iopub.status.idle": "2021-03-11T07:13:08.217621Z",
     "shell.execute_reply": "2021-03-11T07:13:08.217087Z"
    }
   },
   "outputs": [],
   "source": [
    "df.to_csv(os.path.join(data_dir, f\"{today}.csv\"), index=False)"
   ]
  },
  {
   "cell_type": "code",
   "execution_count": null,
   "metadata": {},
   "outputs": [],
   "source": []
  }
 ],
 "metadata": {
  "kernelspec": {
   "display_name": "Python 3",
   "language": "python",
   "name": "python3"
  },
  "language_info": {
   "codemirror_mode": {
    "name": "ipython",
    "version": 3
   },
   "file_extension": ".py",
   "mimetype": "text/x-python",
   "name": "python",
   "nbconvert_exporter": "python",
   "pygments_lexer": "ipython3",
   "version": "3.8.8"
  }
 },
 "nbformat": 4,
 "nbformat_minor": 4
}
