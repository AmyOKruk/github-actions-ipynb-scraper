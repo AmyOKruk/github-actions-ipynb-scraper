{
 "cells": [
  {
   "cell_type": "markdown",
   "metadata": {},
   "source": [
    "# California COVID vaccinations scrape"
   ]
  },
  {
   "cell_type": "markdown",
   "metadata": {},
   "source": [
    "By [Amy O'Kruk](https://twitter.com/amyokruk)"
   ]
  },
  {
   "cell_type": "markdown",
   "metadata": {},
   "source": [
    "Downloads data on vaccine doses administered by county and statewide from a Tableau-powered dashboard from the California Department of Public Health."
   ]
  },
  {
   "cell_type": "code",
   "execution_count": 1,
   "metadata": {
    "execution": {
     "iopub.execute_input": "2021-03-24T20:48:55.798721Z",
     "iopub.status.busy": "2021-03-24T20:48:55.798060Z",
     "iopub.status.idle": "2021-03-24T20:48:56.274388Z",
     "shell.execute_reply": "2021-03-24T20:48:56.273401Z"
    }
   },
   "outputs": [],
   "source": [
    "import pandas as pd\n",
    "import requests\n",
    "from bs4 import BeautifulSoup\n",
    "import json\n",
    "import re\n",
    "import time\n",
    "from time import gmtime, strftime \n",
    "import os\n",
    "import pytz\n",
    "from datetime import datetime"
   ]
  },
  {
   "cell_type": "markdown",
   "metadata": {},
   "source": [
    "Scrape the dashboard page"
   ]
  },
  {
   "cell_type": "code",
   "execution_count": 2,
   "metadata": {
    "execution": {
     "iopub.execute_input": "2021-03-24T20:48:56.283173Z",
     "iopub.status.busy": "2021-03-24T20:48:56.278534Z",
     "iopub.status.idle": "2021-03-24T20:48:57.367659Z",
     "shell.execute_reply": "2021-03-24T20:48:57.366755Z"
    }
   },
   "outputs": [],
   "source": [
    "url = \"https://public.tableau.com/interactive/views/COVID-19VaccineDashboardPublic/Vaccine?:embed=y&:showVizHome=n&:apiID=host0\"\n",
    "\n",
    "r = requests.get(url)\n",
    "soup = BeautifulSoup(r.text, \"html.parser\")"
   ]
  },
  {
   "cell_type": "code",
   "execution_count": 3,
   "metadata": {
    "execution": {
     "iopub.execute_input": "2021-03-24T20:48:57.373305Z",
     "iopub.status.busy": "2021-03-24T20:48:57.372580Z",
     "iopub.status.idle": "2021-03-24T20:48:57.376903Z",
     "shell.execute_reply": "2021-03-24T20:48:57.376365Z"
    }
   },
   "outputs": [],
   "source": [
    "tableauData = json.loads(soup.find(\"textarea\",{\"id\": \"tsConfigContainer\"}).text)"
   ]
  },
  {
   "cell_type": "markdown",
   "metadata": {},
   "source": [
    "Get the link to the Tableau data"
   ]
  },
  {
   "cell_type": "code",
   "execution_count": 4,
   "metadata": {
    "execution": {
     "iopub.execute_input": "2021-03-24T20:48:57.381426Z",
     "iopub.status.busy": "2021-03-24T20:48:57.380819Z",
     "iopub.status.idle": "2021-03-24T20:48:57.384729Z",
     "shell.execute_reply": "2021-03-24T20:48:57.384125Z"
    }
   },
   "outputs": [],
   "source": [
    "dataUrl = f'https://public.tableau.com{tableauData[\"vizql_root\"]}/bootstrapSession/sessions/{tableauData[\"sessionid\"]}'"
   ]
  },
  {
   "cell_type": "code",
   "execution_count": 5,
   "metadata": {
    "execution": {
     "iopub.execute_input": "2021-03-24T20:48:57.392816Z",
     "iopub.status.busy": "2021-03-24T20:48:57.392010Z",
     "iopub.status.idle": "2021-03-24T20:48:57.773844Z",
     "shell.execute_reply": "2021-03-24T20:48:57.773119Z"
    }
   },
   "outputs": [],
   "source": [
    "r = requests.post(dataUrl, data= {\n",
    "    \"sheet_id\": tableauData[\"sheetId\"],\n",
    "})\n",
    "\n",
    "dataReg = re.search('\\d+;({.*})\\d+;({.*})', r.text, re.MULTILINE)\n",
    "data1 = json.loads(dataReg.group(2))\n",
    "\n",
    "dataJson = data1[\"secondaryInfo\"][\"presModelMap\"][\"dataDictionary\"][\"presModelHolder\"][\"genDataDictionaryPresModel\"][\"dataSegments\"][\"0\"][\"dataColumns\"]"
   ]
  },
  {
   "cell_type": "markdown",
   "metadata": {},
   "source": [
    "Isolate what you want"
   ]
  },
  {
   "cell_type": "code",
   "execution_count": 6,
   "metadata": {
    "execution": {
     "iopub.execute_input": "2021-03-24T20:48:57.778521Z",
     "iopub.status.busy": "2021-03-24T20:48:57.777922Z",
     "iopub.status.idle": "2021-03-24T20:48:57.781574Z",
     "shell.execute_reply": "2021-03-24T20:48:57.780487Z"
    }
   },
   "outputs": [],
   "source": [
    "counties = dataJson[2]['dataValues'][:58]"
   ]
  },
  {
   "cell_type": "code",
   "execution_count": 7,
   "metadata": {
    "execution": {
     "iopub.execute_input": "2021-03-24T20:48:57.785968Z",
     "iopub.status.busy": "2021-03-24T20:48:57.785338Z",
     "iopub.status.idle": "2021-03-24T20:48:57.788829Z",
     "shell.execute_reply": "2021-03-24T20:48:57.789312Z"
    }
   },
   "outputs": [],
   "source": [
    "doses = dataJson[0]['dataValues'][3:61]"
   ]
  },
  {
   "cell_type": "markdown",
   "metadata": {},
   "source": [
    "Data formatting"
   ]
  },
  {
   "cell_type": "code",
   "execution_count": 8,
   "metadata": {
    "execution": {
     "iopub.execute_input": "2021-03-24T20:48:57.794698Z",
     "iopub.status.busy": "2021-03-24T20:48:57.793041Z",
     "iopub.status.idle": "2021-03-24T20:48:57.795462Z",
     "shell.execute_reply": "2021-03-24T20:48:57.795972Z"
    }
   },
   "outputs": [],
   "source": [
    "zipped = dict(zip(counties, doses))"
   ]
  },
  {
   "cell_type": "code",
   "execution_count": 9,
   "metadata": {
    "execution": {
     "iopub.execute_input": "2021-03-24T20:48:57.803670Z",
     "iopub.status.busy": "2021-03-24T20:48:57.801994Z",
     "iopub.status.idle": "2021-03-24T20:48:57.804445Z",
     "shell.execute_reply": "2021-03-24T20:48:57.804915Z"
    }
   },
   "outputs": [],
   "source": [
    "df = pd.Series(zipped).reset_index()"
   ]
  },
  {
   "cell_type": "code",
   "execution_count": 10,
   "metadata": {
    "execution": {
     "iopub.execute_input": "2021-03-24T20:48:57.811343Z",
     "iopub.status.busy": "2021-03-24T20:48:57.809716Z",
     "iopub.status.idle": "2021-03-24T20:48:57.812100Z",
     "shell.execute_reply": "2021-03-24T20:48:57.812666Z"
    }
   },
   "outputs": [],
   "source": [
    "df.columns = ['location','doses']"
   ]
  },
  {
   "cell_type": "markdown",
   "metadata": {},
   "source": [
    "Grab the overall California total"
   ]
  },
  {
   "cell_type": "code",
   "execution_count": 11,
   "metadata": {
    "execution": {
     "iopub.execute_input": "2021-03-24T20:48:57.817685Z",
     "iopub.status.busy": "2021-03-24T20:48:57.816291Z",
     "iopub.status.idle": "2021-03-24T20:48:57.818348Z",
     "shell.execute_reply": "2021-03-24T20:48:57.818852Z"
    }
   },
   "outputs": [],
   "source": [
    "add = {'location':'California','doses':dataJson[0]['dataValues'][2]}"
   ]
  },
  {
   "cell_type": "code",
   "execution_count": 12,
   "metadata": {
    "execution": {
     "iopub.execute_input": "2021-03-24T20:48:57.828047Z",
     "iopub.status.busy": "2021-03-24T20:48:57.825822Z",
     "iopub.status.idle": "2021-03-24T20:48:57.828925Z",
     "shell.execute_reply": "2021-03-24T20:48:57.829437Z"
    }
   },
   "outputs": [],
   "source": [
    "df = df.append(add, ignore_index=True)"
   ]
  },
  {
   "cell_type": "code",
   "execution_count": 13,
   "metadata": {
    "execution": {
     "iopub.execute_input": "2021-03-24T20:48:57.835382Z",
     "iopub.status.busy": "2021-03-24T20:48:57.833978Z",
     "iopub.status.idle": "2021-03-24T20:48:57.836115Z",
     "shell.execute_reply": "2021-03-24T20:48:57.836732Z"
    }
   },
   "outputs": [],
   "source": [
    "df = df.sort_values(by='location')"
   ]
  },
  {
   "cell_type": "code",
   "execution_count": 14,
   "metadata": {
    "execution": {
     "iopub.execute_input": "2021-03-24T20:48:57.844096Z",
     "iopub.status.busy": "2021-03-24T20:48:57.842751Z",
     "iopub.status.idle": "2021-03-24T20:48:57.844804Z",
     "shell.execute_reply": "2021-03-24T20:48:57.845496Z"
    }
   },
   "outputs": [],
   "source": [
    "df = df[df.location == 'California'].append(df[df.location != 'California']).reset_index(drop=True)"
   ]
  },
  {
   "cell_type": "code",
   "execution_count": null,
   "metadata": {},
   "outputs": [],
   "source": []
  },
  {
   "cell_type": "code",
   "execution_count": 15,
   "metadata": {
    "execution": {
     "iopub.execute_input": "2021-03-24T20:48:57.851383Z",
     "iopub.status.busy": "2021-03-24T20:48:57.850784Z",
     "iopub.status.idle": "2021-03-24T20:48:57.871599Z",
     "shell.execute_reply": "2021-03-24T20:48:57.872079Z"
    }
   },
   "outputs": [],
   "source": [
    "tz = pytz.timezone(\"America/New_York\")"
   ]
  },
  {
   "cell_type": "code",
   "execution_count": 16,
   "metadata": {
    "execution": {
     "iopub.execute_input": "2021-03-24T20:48:57.877373Z",
     "iopub.status.busy": "2021-03-24T20:48:57.875799Z",
     "iopub.status.idle": "2021-03-24T20:48:57.878046Z",
     "shell.execute_reply": "2021-03-24T20:48:57.878693Z"
    }
   },
   "outputs": [],
   "source": [
    "today = datetime.now(tz).date()"
   ]
  },
  {
   "cell_type": "code",
   "execution_count": 17,
   "metadata": {
    "execution": {
     "iopub.execute_input": "2021-03-24T20:48:57.883891Z",
     "iopub.status.busy": "2021-03-24T20:48:57.882244Z",
     "iopub.status.idle": "2021-03-24T20:48:57.884598Z",
     "shell.execute_reply": "2021-03-24T20:48:57.885107Z"
    }
   },
   "outputs": [],
   "source": [
    "data_dir = os.path.join(os.path.abspath(\"\"), \"data\")"
   ]
  },
  {
   "cell_type": "code",
   "execution_count": 18,
   "metadata": {
    "execution": {
     "iopub.execute_input": "2021-03-24T20:48:57.894300Z",
     "iopub.status.busy": "2021-03-24T20:48:57.888493Z",
     "iopub.status.idle": "2021-03-24T20:48:57.942437Z",
     "shell.execute_reply": "2021-03-24T20:48:57.941909Z"
    }
   },
   "outputs": [],
   "source": [
    "df.to_csv(os.path.join(data_dir, f\"{today}.csv\"), index=False)"
   ]
  },
  {
   "cell_type": "code",
   "execution_count": null,
   "metadata": {},
   "outputs": [],
   "source": []
  }
 ],
 "metadata": {
  "kernelspec": {
   "display_name": "Python 3",
   "language": "python",
   "name": "python3"
  },
  "language_info": {
   "codemirror_mode": {
    "name": "ipython",
    "version": 3
   },
   "file_extension": ".py",
   "mimetype": "text/x-python",
   "name": "python",
   "nbconvert_exporter": "python",
   "pygments_lexer": "ipython3",
   "version": "3.8.8"
  }
 },
 "nbformat": 4,
 "nbformat_minor": 4
}
