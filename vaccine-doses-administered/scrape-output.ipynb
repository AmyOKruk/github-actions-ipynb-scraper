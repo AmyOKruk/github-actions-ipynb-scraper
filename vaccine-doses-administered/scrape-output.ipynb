{
 "cells": [
  {
   "cell_type": "markdown",
   "metadata": {},
   "source": [
    "# California COVID vaccinations scrape"
   ]
  },
  {
   "cell_type": "markdown",
   "metadata": {},
   "source": [
    "By [Amy O'Kruk](https://twitter.com/amyokruk)"
   ]
  },
  {
   "cell_type": "markdown",
   "metadata": {},
   "source": [
    "Downloads data on vaccine doses administered by county and statewide from a Tableau-powered dashboard from the California Department of Public Health."
   ]
  },
  {
   "cell_type": "code",
   "execution_count": 1,
   "metadata": {
    "execution": {
     "iopub.execute_input": "2021-03-19T23:43:30.203171Z",
     "iopub.status.busy": "2021-03-19T23:43:30.202553Z",
     "iopub.status.idle": "2021-03-19T23:43:30.644975Z",
     "shell.execute_reply": "2021-03-19T23:43:30.644036Z"
    }
   },
   "outputs": [],
   "source": [
    "import pandas as pd\n",
    "import requests\n",
    "from bs4 import BeautifulSoup\n",
    "import json\n",
    "import re\n",
    "import time\n",
    "from time import gmtime, strftime \n",
    "import os\n",
    "import pytz\n",
    "from datetime import datetime"
   ]
  },
  {
   "cell_type": "markdown",
   "metadata": {},
   "source": [
    "Scrape the dashboard page"
   ]
  },
  {
   "cell_type": "code",
   "execution_count": 2,
   "metadata": {
    "execution": {
     "iopub.execute_input": "2021-03-19T23:43:30.651178Z",
     "iopub.status.busy": "2021-03-19T23:43:30.648863Z",
     "iopub.status.idle": "2021-03-19T23:43:31.115343Z",
     "shell.execute_reply": "2021-03-19T23:43:31.115952Z"
    }
   },
   "outputs": [],
   "source": [
    "url = \"https://public.tableau.com/interactive/views/COVID-19VaccineDashboardPublic/Vaccine?:embed=y&:showVizHome=n&:apiID=host0\"\n",
    "\n",
    "r = requests.get(url)\n",
    "soup = BeautifulSoup(r.text, \"html.parser\")"
   ]
  },
  {
   "cell_type": "code",
   "execution_count": 3,
   "metadata": {
    "execution": {
     "iopub.execute_input": "2021-03-19T23:43:31.121728Z",
     "iopub.status.busy": "2021-03-19T23:43:31.120984Z",
     "iopub.status.idle": "2021-03-19T23:43:31.124367Z",
     "shell.execute_reply": "2021-03-19T23:43:31.124786Z"
    }
   },
   "outputs": [],
   "source": [
    "tableauData = json.loads(soup.find(\"textarea\",{\"id\": \"tsConfigContainer\"}).text)"
   ]
  },
  {
   "cell_type": "markdown",
   "metadata": {},
   "source": [
    "Get the link to the Tableau data"
   ]
  },
  {
   "cell_type": "code",
   "execution_count": 4,
   "metadata": {
    "execution": {
     "iopub.execute_input": "2021-03-19T23:43:31.129229Z",
     "iopub.status.busy": "2021-03-19T23:43:31.128018Z",
     "iopub.status.idle": "2021-03-19T23:43:31.129899Z",
     "shell.execute_reply": "2021-03-19T23:43:31.130357Z"
    }
   },
   "outputs": [],
   "source": [
    "dataUrl = f'https://public.tableau.com{tableauData[\"vizql_root\"]}/bootstrapSession/sessions/{tableauData[\"sessionid\"]}'"
   ]
  },
  {
   "cell_type": "code",
   "execution_count": 5,
   "metadata": {
    "execution": {
     "iopub.execute_input": "2021-03-19T23:43:31.136738Z",
     "iopub.status.busy": "2021-03-19T23:43:31.136190Z",
     "iopub.status.idle": "2021-03-19T23:43:31.671180Z",
     "shell.execute_reply": "2021-03-19T23:43:31.670652Z"
    }
   },
   "outputs": [],
   "source": [
    "r = requests.post(dataUrl, data= {\n",
    "    \"sheet_id\": tableauData[\"sheetId\"],\n",
    "})\n",
    "\n",
    "dataReg = re.search('\\d+;({.*})\\d+;({.*})', r.text, re.MULTILINE)\n",
    "data1 = json.loads(dataReg.group(2))\n",
    "\n",
    "dataJson = data1[\"secondaryInfo\"][\"presModelMap\"][\"dataDictionary\"][\"presModelHolder\"][\"genDataDictionaryPresModel\"][\"dataSegments\"][\"0\"][\"dataColumns\"]"
   ]
  },
  {
   "cell_type": "markdown",
   "metadata": {},
   "source": [
    "Isolate what you want"
   ]
  },
  {
   "cell_type": "code",
   "execution_count": 6,
   "metadata": {
    "execution": {
     "iopub.execute_input": "2021-03-19T23:43:31.675064Z",
     "iopub.status.busy": "2021-03-19T23:43:31.674523Z",
     "iopub.status.idle": "2021-03-19T23:43:31.678152Z",
     "shell.execute_reply": "2021-03-19T23:43:31.677701Z"
    }
   },
   "outputs": [],
   "source": [
    "counties = dataJson[2]['dataValues'][:58]"
   ]
  },
  {
   "cell_type": "code",
   "execution_count": 7,
   "metadata": {
    "execution": {
     "iopub.execute_input": "2021-03-19T23:43:31.682632Z",
     "iopub.status.busy": "2021-03-19T23:43:31.681403Z",
     "iopub.status.idle": "2021-03-19T23:43:31.683301Z",
     "shell.execute_reply": "2021-03-19T23:43:31.683745Z"
    }
   },
   "outputs": [],
   "source": [
    "doses = dataJson[0]['dataValues'][3:61]"
   ]
  },
  {
   "cell_type": "markdown",
   "metadata": {},
   "source": [
    "Data formatting"
   ]
  },
  {
   "cell_type": "code",
   "execution_count": 8,
   "metadata": {
    "execution": {
     "iopub.execute_input": "2021-03-19T23:43:31.688018Z",
     "iopub.status.busy": "2021-03-19T23:43:31.686896Z",
     "iopub.status.idle": "2021-03-19T23:43:31.688627Z",
     "shell.execute_reply": "2021-03-19T23:43:31.689061Z"
    }
   },
   "outputs": [],
   "source": [
    "zipped = dict(zip(counties, doses))"
   ]
  },
  {
   "cell_type": "code",
   "execution_count": 9,
   "metadata": {
    "execution": {
     "iopub.execute_input": "2021-03-19T23:43:31.695709Z",
     "iopub.status.busy": "2021-03-19T23:43:31.694466Z",
     "iopub.status.idle": "2021-03-19T23:43:31.696312Z",
     "shell.execute_reply": "2021-03-19T23:43:31.696747Z"
    }
   },
   "outputs": [],
   "source": [
    "df = pd.Series(zipped).reset_index()"
   ]
  },
  {
   "cell_type": "code",
   "execution_count": 10,
   "metadata": {
    "execution": {
     "iopub.execute_input": "2021-03-19T23:43:31.701245Z",
     "iopub.status.busy": "2021-03-19T23:43:31.700060Z",
     "iopub.status.idle": "2021-03-19T23:43:31.701929Z",
     "shell.execute_reply": "2021-03-19T23:43:31.702387Z"
    }
   },
   "outputs": [],
   "source": [
    "df.columns = ['location','doses']"
   ]
  },
  {
   "cell_type": "markdown",
   "metadata": {},
   "source": [
    "Grab the overall California total"
   ]
  },
  {
   "cell_type": "code",
   "execution_count": 11,
   "metadata": {
    "execution": {
     "iopub.execute_input": "2021-03-19T23:43:31.706753Z",
     "iopub.status.busy": "2021-03-19T23:43:31.705599Z",
     "iopub.status.idle": "2021-03-19T23:43:31.707359Z",
     "shell.execute_reply": "2021-03-19T23:43:31.707793Z"
    }
   },
   "outputs": [],
   "source": [
    "add = {'location':'California','doses':dataJson[0]['dataValues'][2]}"
   ]
  },
  {
   "cell_type": "code",
   "execution_count": 12,
   "metadata": {
    "execution": {
     "iopub.execute_input": "2021-03-19T23:43:31.715163Z",
     "iopub.status.busy": "2021-03-19T23:43:31.713816Z",
     "iopub.status.idle": "2021-03-19T23:43:31.715771Z",
     "shell.execute_reply": "2021-03-19T23:43:31.716206Z"
    }
   },
   "outputs": [],
   "source": [
    "df = df.append(add, ignore_index=True)"
   ]
  },
  {
   "cell_type": "code",
   "execution_count": 13,
   "metadata": {
    "execution": {
     "iopub.execute_input": "2021-03-19T23:43:31.721294Z",
     "iopub.status.busy": "2021-03-19T23:43:31.720077Z",
     "iopub.status.idle": "2021-03-19T23:43:31.721910Z",
     "shell.execute_reply": "2021-03-19T23:43:31.722367Z"
    }
   },
   "outputs": [],
   "source": [
    "df = df.sort_values(by='location')"
   ]
  },
  {
   "cell_type": "code",
   "execution_count": 14,
   "metadata": {
    "execution": {
     "iopub.execute_input": "2021-03-19T23:43:31.728863Z",
     "iopub.status.busy": "2021-03-19T23:43:31.727647Z",
     "iopub.status.idle": "2021-03-19T23:43:31.729467Z",
     "shell.execute_reply": "2021-03-19T23:43:31.729904Z"
    }
   },
   "outputs": [],
   "source": [
    "df = df[df.location == 'California'].append(df[df.location != 'California']).reset_index(drop=True)"
   ]
  },
  {
   "cell_type": "code",
   "execution_count": null,
   "metadata": {},
   "outputs": [],
   "source": []
  },
  {
   "cell_type": "code",
   "execution_count": 15,
   "metadata": {
    "execution": {
     "iopub.execute_input": "2021-03-19T23:43:31.733212Z",
     "iopub.status.busy": "2021-03-19T23:43:31.732690Z",
     "iopub.status.idle": "2021-03-19T23:43:31.750862Z",
     "shell.execute_reply": "2021-03-19T23:43:31.750316Z"
    }
   },
   "outputs": [],
   "source": [
    "tz = pytz.timezone(\"America/New_York\")"
   ]
  },
  {
   "cell_type": "code",
   "execution_count": 16,
   "metadata": {
    "execution": {
     "iopub.execute_input": "2021-03-19T23:43:31.755077Z",
     "iopub.status.busy": "2021-03-19T23:43:31.753850Z",
     "iopub.status.idle": "2021-03-19T23:43:31.760237Z",
     "shell.execute_reply": "2021-03-19T23:43:31.760687Z"
    }
   },
   "outputs": [],
   "source": [
    "today = datetime.now(tz).date()"
   ]
  },
  {
   "cell_type": "code",
   "execution_count": 17,
   "metadata": {
    "execution": {
     "iopub.execute_input": "2021-03-19T23:43:31.767419Z",
     "iopub.status.busy": "2021-03-19T23:43:31.766888Z",
     "iopub.status.idle": "2021-03-19T23:43:31.769205Z",
     "shell.execute_reply": "2021-03-19T23:43:31.768739Z"
    }
   },
   "outputs": [],
   "source": [
    "data_dir = os.path.join(os.path.abspath(\"\"), \"data\")"
   ]
  },
  {
   "cell_type": "code",
   "execution_count": 18,
   "metadata": {
    "execution": {
     "iopub.execute_input": "2021-03-19T23:43:31.773550Z",
     "iopub.status.busy": "2021-03-19T23:43:31.772389Z",
     "iopub.status.idle": "2021-03-19T23:43:31.776702Z",
     "shell.execute_reply": "2021-03-19T23:43:31.777113Z"
    }
   },
   "outputs": [],
   "source": [
    "df.to_csv(os.path.join(data_dir, f\"{today}.csv\"), index=False)"
   ]
  },
  {
   "cell_type": "code",
   "execution_count": null,
   "metadata": {},
   "outputs": [],
   "source": []
  }
 ],
 "metadata": {
  "kernelspec": {
   "display_name": "Python 3",
   "language": "python",
   "name": "python3"
  },
  "language_info": {
   "codemirror_mode": {
    "name": "ipython",
    "version": 3
   },
   "file_extension": ".py",
   "mimetype": "text/x-python",
   "name": "python",
   "nbconvert_exporter": "python",
   "pygments_lexer": "ipython3",
   "version": "3.8.8"
  }
 },
 "nbformat": 4,
 "nbformat_minor": 4
}
