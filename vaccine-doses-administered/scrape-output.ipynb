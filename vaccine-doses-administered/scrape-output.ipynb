{
 "cells": [
  {
   "cell_type": "markdown",
   "metadata": {},
   "source": [
    "# California COVID vaccinations scrape"
   ]
  },
  {
   "cell_type": "markdown",
   "metadata": {},
   "source": [
    "By [Amy O'Kruk](https://twitter.com/amyokruk)"
   ]
  },
  {
   "cell_type": "markdown",
   "metadata": {},
   "source": [
    "Downloads data on vaccine doses administered by county and statewide from a Tableau-powered dashboard from the California Department of Public Health."
   ]
  },
  {
   "cell_type": "code",
   "execution_count": 1,
   "metadata": {
    "execution": {
     "iopub.execute_input": "2021-03-25T08:22:23.365055Z",
     "iopub.status.busy": "2021-03-25T08:22:23.364440Z",
     "iopub.status.idle": "2021-03-25T08:22:24.069509Z",
     "shell.execute_reply": "2021-03-25T08:22:24.068852Z"
    }
   },
   "outputs": [],
   "source": [
    "import pandas as pd\n",
    "import requests\n",
    "from bs4 import BeautifulSoup\n",
    "import json\n",
    "import re\n",
    "import time\n",
    "from time import gmtime, strftime \n",
    "import os\n",
    "import pytz\n",
    "from datetime import datetime"
   ]
  },
  {
   "cell_type": "markdown",
   "metadata": {},
   "source": [
    "Scrape the dashboard page"
   ]
  },
  {
   "cell_type": "code",
   "execution_count": 2,
   "metadata": {
    "execution": {
     "iopub.execute_input": "2021-03-25T08:22:24.076040Z",
     "iopub.status.busy": "2021-03-25T08:22:24.075509Z",
     "iopub.status.idle": "2021-03-25T08:22:24.591823Z",
     "shell.execute_reply": "2021-03-25T08:22:24.591339Z"
    }
   },
   "outputs": [],
   "source": [
    "url = \"https://public.tableau.com/interactive/views/COVID-19VaccineDashboardPublic/Vaccine?:embed=y&:showVizHome=n&:apiID=host0\"\n",
    "\n",
    "r = requests.get(url)\n",
    "soup = BeautifulSoup(r.text, \"html.parser\")"
   ]
  },
  {
   "cell_type": "code",
   "execution_count": 3,
   "metadata": {
    "execution": {
     "iopub.execute_input": "2021-03-25T08:22:24.596652Z",
     "iopub.status.busy": "2021-03-25T08:22:24.596133Z",
     "iopub.status.idle": "2021-03-25T08:22:24.599940Z",
     "shell.execute_reply": "2021-03-25T08:22:24.599458Z"
    }
   },
   "outputs": [],
   "source": [
    "tableauData = json.loads(soup.find(\"textarea\",{\"id\": \"tsConfigContainer\"}).text)"
   ]
  },
  {
   "cell_type": "markdown",
   "metadata": {},
   "source": [
    "Get the link to the Tableau data"
   ]
  },
  {
   "cell_type": "code",
   "execution_count": 4,
   "metadata": {
    "execution": {
     "iopub.execute_input": "2021-03-25T08:22:24.604198Z",
     "iopub.status.busy": "2021-03-25T08:22:24.603030Z",
     "iopub.status.idle": "2021-03-25T08:22:24.604856Z",
     "shell.execute_reply": "2021-03-25T08:22:24.605462Z"
    }
   },
   "outputs": [],
   "source": [
    "dataUrl = f'https://public.tableau.com{tableauData[\"vizql_root\"]}/bootstrapSession/sessions/{tableauData[\"sessionid\"]}'"
   ]
  },
  {
   "cell_type": "code",
   "execution_count": 5,
   "metadata": {
    "execution": {
     "iopub.execute_input": "2021-03-25T08:22:24.612133Z",
     "iopub.status.busy": "2021-03-25T08:22:24.611577Z",
     "iopub.status.idle": "2021-03-25T08:22:24.955406Z",
     "shell.execute_reply": "2021-03-25T08:22:24.954492Z"
    }
   },
   "outputs": [],
   "source": [
    "r = requests.post(dataUrl, data= {\n",
    "    \"sheet_id\": tableauData[\"sheetId\"],\n",
    "})\n",
    "\n",
    "dataReg = re.search('\\d+;({.*})\\d+;({.*})', r.text, re.MULTILINE)\n",
    "data1 = json.loads(dataReg.group(2))\n",
    "\n",
    "dataJson = data1[\"secondaryInfo\"][\"presModelMap\"][\"dataDictionary\"][\"presModelHolder\"][\"genDataDictionaryPresModel\"][\"dataSegments\"][\"0\"][\"dataColumns\"]"
   ]
  },
  {
   "cell_type": "markdown",
   "metadata": {},
   "source": [
    "Isolate what you want"
   ]
  },
  {
   "cell_type": "code",
   "execution_count": 6,
   "metadata": {
    "execution": {
     "iopub.execute_input": "2021-03-25T08:22:24.961664Z",
     "iopub.status.busy": "2021-03-25T08:22:24.960324Z",
     "iopub.status.idle": "2021-03-25T08:22:24.962621Z",
     "shell.execute_reply": "2021-03-25T08:22:24.962167Z"
    }
   },
   "outputs": [],
   "source": [
    "counties = dataJson[2]['dataValues'][:58]"
   ]
  },
  {
   "cell_type": "code",
   "execution_count": 7,
   "metadata": {
    "execution": {
     "iopub.execute_input": "2021-03-25T08:22:24.966994Z",
     "iopub.status.busy": "2021-03-25T08:22:24.965965Z",
     "iopub.status.idle": "2021-03-25T08:22:24.968231Z",
     "shell.execute_reply": "2021-03-25T08:22:24.967715Z"
    }
   },
   "outputs": [],
   "source": [
    "doses = dataJson[0]['dataValues'][3:61]"
   ]
  },
  {
   "cell_type": "markdown",
   "metadata": {},
   "source": [
    "Data formatting"
   ]
  },
  {
   "cell_type": "code",
   "execution_count": 8,
   "metadata": {
    "execution": {
     "iopub.execute_input": "2021-03-25T08:22:24.972508Z",
     "iopub.status.busy": "2021-03-25T08:22:24.971350Z",
     "iopub.status.idle": "2021-03-25T08:22:24.973163Z",
     "shell.execute_reply": "2021-03-25T08:22:24.973633Z"
    }
   },
   "outputs": [],
   "source": [
    "zipped = dict(zip(counties, doses))"
   ]
  },
  {
   "cell_type": "code",
   "execution_count": 9,
   "metadata": {
    "execution": {
     "iopub.execute_input": "2021-03-25T08:22:24.980010Z",
     "iopub.status.busy": "2021-03-25T08:22:24.978821Z",
     "iopub.status.idle": "2021-03-25T08:22:24.980617Z",
     "shell.execute_reply": "2021-03-25T08:22:24.981112Z"
    }
   },
   "outputs": [],
   "source": [
    "df = pd.Series(zipped).reset_index()"
   ]
  },
  {
   "cell_type": "code",
   "execution_count": 10,
   "metadata": {
    "execution": {
     "iopub.execute_input": "2021-03-25T08:22:24.989260Z",
     "iopub.status.busy": "2021-03-25T08:22:24.988189Z",
     "iopub.status.idle": "2021-03-25T08:22:24.989908Z",
     "shell.execute_reply": "2021-03-25T08:22:24.990332Z"
    }
   },
   "outputs": [],
   "source": [
    "df.columns = ['location','doses']"
   ]
  },
  {
   "cell_type": "markdown",
   "metadata": {},
   "source": [
    "Grab the overall California total"
   ]
  },
  {
   "cell_type": "code",
   "execution_count": 11,
   "metadata": {
    "execution": {
     "iopub.execute_input": "2021-03-25T08:22:24.994598Z",
     "iopub.status.busy": "2021-03-25T08:22:24.993544Z",
     "iopub.status.idle": "2021-03-25T08:22:24.995932Z",
     "shell.execute_reply": "2021-03-25T08:22:24.995320Z"
    }
   },
   "outputs": [],
   "source": [
    "add = {'location':'California','doses':dataJson[0]['dataValues'][2]}"
   ]
  },
  {
   "cell_type": "code",
   "execution_count": 12,
   "metadata": {
    "execution": {
     "iopub.execute_input": "2021-03-25T08:22:25.002222Z",
     "iopub.status.busy": "2021-03-25T08:22:25.001707Z",
     "iopub.status.idle": "2021-03-25T08:22:25.003939Z",
     "shell.execute_reply": "2021-03-25T08:22:25.004338Z"
    }
   },
   "outputs": [],
   "source": [
    "df = df.append(add, ignore_index=True)"
   ]
  },
  {
   "cell_type": "code",
   "execution_count": 13,
   "metadata": {
    "execution": {
     "iopub.execute_input": "2021-03-25T08:22:25.009310Z",
     "iopub.status.busy": "2021-03-25T08:22:25.008111Z",
     "iopub.status.idle": "2021-03-25T08:22:25.009904Z",
     "shell.execute_reply": "2021-03-25T08:22:25.010326Z"
    }
   },
   "outputs": [],
   "source": [
    "df = df.sort_values(by='location')"
   ]
  },
  {
   "cell_type": "code",
   "execution_count": 14,
   "metadata": {
    "execution": {
     "iopub.execute_input": "2021-03-25T08:22:25.017603Z",
     "iopub.status.busy": "2021-03-25T08:22:25.016363Z",
     "iopub.status.idle": "2021-03-25T08:22:25.018371Z",
     "shell.execute_reply": "2021-03-25T08:22:25.018950Z"
    }
   },
   "outputs": [],
   "source": [
    "df = df[df.location == 'California'].append(df[df.location != 'California']).reset_index(drop=True)"
   ]
  },
  {
   "cell_type": "code",
   "execution_count": null,
   "metadata": {},
   "outputs": [],
   "source": []
  },
  {
   "cell_type": "code",
   "execution_count": 15,
   "metadata": {
    "execution": {
     "iopub.execute_input": "2021-03-25T08:22:25.022493Z",
     "iopub.status.busy": "2021-03-25T08:22:25.021973Z",
     "iopub.status.idle": "2021-03-25T08:22:25.038960Z",
     "shell.execute_reply": "2021-03-25T08:22:25.039401Z"
    }
   },
   "outputs": [],
   "source": [
    "tz = pytz.timezone(\"America/New_York\")"
   ]
  },
  {
   "cell_type": "code",
   "execution_count": 16,
   "metadata": {
    "execution": {
     "iopub.execute_input": "2021-03-25T08:22:25.043989Z",
     "iopub.status.busy": "2021-03-25T08:22:25.042725Z",
     "iopub.status.idle": "2021-03-25T08:22:25.044571Z",
     "shell.execute_reply": "2021-03-25T08:22:25.045001Z"
    }
   },
   "outputs": [],
   "source": [
    "today = datetime.now(tz).date()"
   ]
  },
  {
   "cell_type": "code",
   "execution_count": 17,
   "metadata": {
    "execution": {
     "iopub.execute_input": "2021-03-25T08:22:25.049284Z",
     "iopub.status.busy": "2021-03-25T08:22:25.048116Z",
     "iopub.status.idle": "2021-03-25T08:22:25.049951Z",
     "shell.execute_reply": "2021-03-25T08:22:25.050376Z"
    }
   },
   "outputs": [],
   "source": [
    "data_dir = os.path.join(os.path.abspath(\"\"), \"data\")"
   ]
  },
  {
   "cell_type": "code",
   "execution_count": 18,
   "metadata": {
    "execution": {
     "iopub.execute_input": "2021-03-25T08:22:25.054779Z",
     "iopub.status.busy": "2021-03-25T08:22:25.053621Z",
     "iopub.status.idle": "2021-03-25T08:22:25.057632Z",
     "shell.execute_reply": "2021-03-25T08:22:25.058791Z"
    }
   },
   "outputs": [],
   "source": [
    "df.to_csv(os.path.join(data_dir, f\"{today}.csv\"), index=False)"
   ]
  },
  {
   "cell_type": "code",
   "execution_count": null,
   "metadata": {},
   "outputs": [],
   "source": []
  }
 ],
 "metadata": {
  "kernelspec": {
   "display_name": "Python 3",
   "language": "python",
   "name": "python3"
  },
  "language_info": {
   "codemirror_mode": {
    "name": "ipython",
    "version": 3
   },
   "file_extension": ".py",
   "mimetype": "text/x-python",
   "name": "python",
   "nbconvert_exporter": "python",
   "pygments_lexer": "ipython3",
   "version": "3.8.8"
  }
 },
 "nbformat": 4,
 "nbformat_minor": 4
}
