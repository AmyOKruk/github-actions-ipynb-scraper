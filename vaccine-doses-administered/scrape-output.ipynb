{
 "cells": [
  {
   "cell_type": "markdown",
   "metadata": {},
   "source": [
    "# California COVID vaccinations scrape"
   ]
  },
  {
   "cell_type": "markdown",
   "metadata": {},
   "source": [
    "By [Amy O'Kruk](https://twitter.com/amyokruk)"
   ]
  },
  {
   "cell_type": "markdown",
   "metadata": {},
   "source": [
    "Downloads data on vaccine doses administered by county and statewide from a Tableau-powered dashboard from the California Department of Public Health."
   ]
  },
  {
   "cell_type": "code",
   "execution_count": 1,
   "metadata": {
    "execution": {
     "iopub.execute_input": "2021-03-11T20:13:31.281351Z",
     "iopub.status.busy": "2021-03-11T20:13:31.280559Z",
     "iopub.status.idle": "2021-03-11T20:13:31.668638Z",
     "shell.execute_reply": "2021-03-11T20:13:31.668124Z"
    }
   },
   "outputs": [],
   "source": [
    "import pandas as pd\n",
    "import requests\n",
    "from bs4 import BeautifulSoup\n",
    "import json\n",
    "import re\n",
    "import time\n",
    "from time import gmtime, strftime \n",
    "import os\n",
    "import pytz\n",
    "from datetime import datetime"
   ]
  },
  {
   "cell_type": "markdown",
   "metadata": {},
   "source": [
    "Scrape the dashboard page"
   ]
  },
  {
   "cell_type": "code",
   "execution_count": 2,
   "metadata": {
    "execution": {
     "iopub.execute_input": "2021-03-11T20:13:31.673668Z",
     "iopub.status.busy": "2021-03-11T20:13:31.671820Z",
     "iopub.status.idle": "2021-03-11T20:13:32.000994Z",
     "shell.execute_reply": "2021-03-11T20:13:32.000572Z"
    }
   },
   "outputs": [],
   "source": [
    "url = \"https://public.tableau.com/interactive/views/COVID-19VaccineDashboardPublic/Vaccine?:embed=y&:showVizHome=n&:apiID=host0\"\n",
    "\n",
    "r = requests.get(url)\n",
    "soup = BeautifulSoup(r.text, \"html.parser\")"
   ]
  },
  {
   "cell_type": "code",
   "execution_count": 3,
   "metadata": {
    "execution": {
     "iopub.execute_input": "2021-03-11T20:13:32.005265Z",
     "iopub.status.busy": "2021-03-11T20:13:32.004779Z",
     "iopub.status.idle": "2021-03-11T20:13:32.008177Z",
     "shell.execute_reply": "2021-03-11T20:13:32.007703Z"
    }
   },
   "outputs": [],
   "source": [
    "tableauData = json.loads(soup.find(\"textarea\",{\"id\": \"tsConfigContainer\"}).text)"
   ]
  },
  {
   "cell_type": "markdown",
   "metadata": {},
   "source": [
    "Get the link to the Tableau data"
   ]
  },
  {
   "cell_type": "code",
   "execution_count": 4,
   "metadata": {
    "execution": {
     "iopub.execute_input": "2021-03-11T20:13:32.011526Z",
     "iopub.status.busy": "2021-03-11T20:13:32.010999Z",
     "iopub.status.idle": "2021-03-11T20:13:32.014646Z",
     "shell.execute_reply": "2021-03-11T20:13:32.014218Z"
    }
   },
   "outputs": [],
   "source": [
    "dataUrl = f'https://public.tableau.com{tableauData[\"vizql_root\"]}/bootstrapSession/sessions/{tableauData[\"sessionid\"]}'"
   ]
  },
  {
   "cell_type": "code",
   "execution_count": 5,
   "metadata": {
    "execution": {
     "iopub.execute_input": "2021-03-11T20:13:32.020399Z",
     "iopub.status.busy": "2021-03-11T20:13:32.018157Z",
     "iopub.status.idle": "2021-03-11T20:13:32.218959Z",
     "shell.execute_reply": "2021-03-11T20:13:32.218435Z"
    }
   },
   "outputs": [],
   "source": [
    "r = requests.post(dataUrl, data= {\n",
    "    \"sheet_id\": tableauData[\"sheetId\"],\n",
    "})\n",
    "\n",
    "dataReg = re.search('\\d+;({.*})\\d+;({.*})', r.text, re.MULTILINE)\n",
    "data1 = json.loads(dataReg.group(2))\n",
    "\n",
    "dataJson = data1[\"secondaryInfo\"][\"presModelMap\"][\"dataDictionary\"][\"presModelHolder\"][\"genDataDictionaryPresModel\"][\"dataSegments\"][\"0\"][\"dataColumns\"]"
   ]
  },
  {
   "cell_type": "markdown",
   "metadata": {},
   "source": [
    "Isolate what you want"
   ]
  },
  {
   "cell_type": "code",
   "execution_count": 6,
   "metadata": {
    "execution": {
     "iopub.execute_input": "2021-03-11T20:13:32.223260Z",
     "iopub.status.busy": "2021-03-11T20:13:32.222221Z",
     "iopub.status.idle": "2021-03-11T20:13:32.224320Z",
     "shell.execute_reply": "2021-03-11T20:13:32.224684Z"
    }
   },
   "outputs": [],
   "source": [
    "counties = dataJson[2]['dataValues'][:58]"
   ]
  },
  {
   "cell_type": "code",
   "execution_count": 7,
   "metadata": {
    "execution": {
     "iopub.execute_input": "2021-03-11T20:13:32.231120Z",
     "iopub.status.busy": "2021-03-11T20:13:32.229930Z",
     "iopub.status.idle": "2021-03-11T20:13:32.231807Z",
     "shell.execute_reply": "2021-03-11T20:13:32.232283Z"
    }
   },
   "outputs": [],
   "source": [
    "doses = dataJson[0]['dataValues'][3:61]"
   ]
  },
  {
   "cell_type": "markdown",
   "metadata": {},
   "source": [
    "Data formatting"
   ]
  },
  {
   "cell_type": "code",
   "execution_count": 8,
   "metadata": {
    "execution": {
     "iopub.execute_input": "2021-03-11T20:13:32.236905Z",
     "iopub.status.busy": "2021-03-11T20:13:32.236016Z",
     "iopub.status.idle": "2021-03-11T20:13:32.238413Z",
     "shell.execute_reply": "2021-03-11T20:13:32.237822Z"
    }
   },
   "outputs": [],
   "source": [
    "zipped = dict(zip(counties, doses))"
   ]
  },
  {
   "cell_type": "code",
   "execution_count": 9,
   "metadata": {
    "execution": {
     "iopub.execute_input": "2021-03-11T20:13:32.245069Z",
     "iopub.status.busy": "2021-03-11T20:13:32.243897Z",
     "iopub.status.idle": "2021-03-11T20:13:32.245616Z",
     "shell.execute_reply": "2021-03-11T20:13:32.246004Z"
    }
   },
   "outputs": [],
   "source": [
    "df = pd.Series(zipped).reset_index()"
   ]
  },
  {
   "cell_type": "code",
   "execution_count": 10,
   "metadata": {
    "execution": {
     "iopub.execute_input": "2021-03-11T20:13:32.250005Z",
     "iopub.status.busy": "2021-03-11T20:13:32.249133Z",
     "iopub.status.idle": "2021-03-11T20:13:32.250872Z",
     "shell.execute_reply": "2021-03-11T20:13:32.251236Z"
    }
   },
   "outputs": [],
   "source": [
    "df.columns = ['location','doses']"
   ]
  },
  {
   "cell_type": "markdown",
   "metadata": {},
   "source": [
    "Grab the overall California total"
   ]
  },
  {
   "cell_type": "code",
   "execution_count": 11,
   "metadata": {
    "execution": {
     "iopub.execute_input": "2021-03-11T20:13:32.255621Z",
     "iopub.status.busy": "2021-03-11T20:13:32.254376Z",
     "iopub.status.idle": "2021-03-11T20:13:32.256150Z",
     "shell.execute_reply": "2021-03-11T20:13:32.256534Z"
    }
   },
   "outputs": [],
   "source": [
    "add = {'location':'California','doses':dataJson[0]['dataValues'][2]}"
   ]
  },
  {
   "cell_type": "code",
   "execution_count": 12,
   "metadata": {
    "execution": {
     "iopub.execute_input": "2021-03-11T20:13:32.262020Z",
     "iopub.status.busy": "2021-03-11T20:13:32.260312Z",
     "iopub.status.idle": "2021-03-11T20:13:32.263938Z",
     "shell.execute_reply": "2021-03-11T20:13:32.264305Z"
    }
   },
   "outputs": [],
   "source": [
    "df = df.append(add, ignore_index=True)"
   ]
  },
  {
   "cell_type": "code",
   "execution_count": 13,
   "metadata": {
    "execution": {
     "iopub.execute_input": "2021-03-11T20:13:32.269066Z",
     "iopub.status.busy": "2021-03-11T20:13:32.267869Z",
     "iopub.status.idle": "2021-03-11T20:13:32.271219Z",
     "shell.execute_reply": "2021-03-11T20:13:32.271717Z"
    }
   },
   "outputs": [],
   "source": [
    "df = df.sort_values(by='location')"
   ]
  },
  {
   "cell_type": "code",
   "execution_count": 14,
   "metadata": {
    "execution": {
     "iopub.execute_input": "2021-03-11T20:13:32.278189Z",
     "iopub.status.busy": "2021-03-11T20:13:32.277215Z",
     "iopub.status.idle": "2021-03-11T20:13:32.278872Z",
     "shell.execute_reply": "2021-03-11T20:13:32.279351Z"
    }
   },
   "outputs": [],
   "source": [
    "df = df[df.location == 'California'].append(df[df.location != 'California']).reset_index(drop=True)"
   ]
  },
  {
   "cell_type": "code",
   "execution_count": null,
   "metadata": {},
   "outputs": [],
   "source": []
  },
  {
   "cell_type": "code",
   "execution_count": 15,
   "metadata": {
    "execution": {
     "iopub.execute_input": "2021-03-11T20:13:32.282484Z",
     "iopub.status.busy": "2021-03-11T20:13:32.281953Z",
     "iopub.status.idle": "2021-03-11T20:13:32.299155Z",
     "shell.execute_reply": "2021-03-11T20:13:32.299575Z"
    }
   },
   "outputs": [],
   "source": [
    "tz = pytz.timezone(\"America/New_York\")"
   ]
  },
  {
   "cell_type": "code",
   "execution_count": 16,
   "metadata": {
    "execution": {
     "iopub.execute_input": "2021-03-11T20:13:32.303984Z",
     "iopub.status.busy": "2021-03-11T20:13:32.302712Z",
     "iopub.status.idle": "2021-03-11T20:13:32.304723Z",
     "shell.execute_reply": "2021-03-11T20:13:32.305147Z"
    }
   },
   "outputs": [],
   "source": [
    "today = datetime.now(tz).date()"
   ]
  },
  {
   "cell_type": "code",
   "execution_count": 17,
   "metadata": {
    "execution": {
     "iopub.execute_input": "2021-03-11T20:13:32.309235Z",
     "iopub.status.busy": "2021-03-11T20:13:32.308091Z",
     "iopub.status.idle": "2021-03-11T20:13:32.310423Z",
     "shell.execute_reply": "2021-03-11T20:13:32.310958Z"
    }
   },
   "outputs": [],
   "source": [
    "data_dir = os.path.join(os.path.abspath(\"\"), \"data\")"
   ]
  },
  {
   "cell_type": "code",
   "execution_count": 18,
   "metadata": {
    "execution": {
     "iopub.execute_input": "2021-03-11T20:13:32.314534Z",
     "iopub.status.busy": "2021-03-11T20:13:32.314033Z",
     "iopub.status.idle": "2021-03-11T20:13:32.318369Z",
     "shell.execute_reply": "2021-03-11T20:13:32.318780Z"
    }
   },
   "outputs": [],
   "source": [
    "df.to_csv(os.path.join(data_dir, f\"{today}.csv\"), index=False)"
   ]
  },
  {
   "cell_type": "code",
   "execution_count": null,
   "metadata": {},
   "outputs": [],
   "source": []
  }
 ],
 "metadata": {
  "kernelspec": {
   "display_name": "Python 3",
   "language": "python",
   "name": "python3"
  },
  "language_info": {
   "codemirror_mode": {
    "name": "ipython",
    "version": 3
   },
   "file_extension": ".py",
   "mimetype": "text/x-python",
   "name": "python",
   "nbconvert_exporter": "python",
   "pygments_lexer": "ipython3",
   "version": "3.8.8"
  }
 },
 "nbformat": 4,
 "nbformat_minor": 4
}
