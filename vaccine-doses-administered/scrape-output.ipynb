{
 "cells": [
  {
   "cell_type": "markdown",
   "metadata": {},
   "source": [
    "# California COVID vaccinations scrape"
   ]
  },
  {
   "cell_type": "markdown",
   "metadata": {},
   "source": [
    "By [Amy O'Kruk](https://twitter.com/amyokruk)"
   ]
  },
  {
   "cell_type": "markdown",
   "metadata": {},
   "source": [
    "Downloads data on vaccine doses administered by county and statewide from a Tableau-powered dashboard from the California Department of Public Health."
   ]
  },
  {
   "cell_type": "code",
   "execution_count": 1,
   "metadata": {
    "execution": {
     "iopub.execute_input": "2021-03-09T11:12:03.918104Z",
     "iopub.status.busy": "2021-03-09T11:12:03.917504Z",
     "iopub.status.idle": "2021-03-09T11:12:04.331310Z",
     "shell.execute_reply": "2021-03-09T11:12:04.330490Z"
    }
   },
   "outputs": [],
   "source": [
    "import pandas as pd\n",
    "import requests\n",
    "from bs4 import BeautifulSoup\n",
    "import json\n",
    "import re\n",
    "import time\n",
    "from time import gmtime, strftime \n",
    "import os\n",
    "import pytz\n",
    "from datetime import datetime"
   ]
  },
  {
   "cell_type": "markdown",
   "metadata": {},
   "source": [
    "Scrape the dashboard page"
   ]
  },
  {
   "cell_type": "code",
   "execution_count": 2,
   "metadata": {
    "execution": {
     "iopub.execute_input": "2021-03-09T11:12:04.336848Z",
     "iopub.status.busy": "2021-03-09T11:12:04.334726Z",
     "iopub.status.idle": "2021-03-09T11:12:04.825875Z",
     "shell.execute_reply": "2021-03-09T11:12:04.825081Z"
    }
   },
   "outputs": [],
   "source": [
    "url = \"https://public.tableau.com/interactive/views/COVID-19VaccineDashboardPublic/Vaccine?:embed=y&:showVizHome=n&:apiID=host0\"\n",
    "\n",
    "r = requests.get(url)\n",
    "soup = BeautifulSoup(r.text, \"html.parser\")"
   ]
  },
  {
   "cell_type": "code",
   "execution_count": 3,
   "metadata": {
    "execution": {
     "iopub.execute_input": "2021-03-09T11:12:04.830585Z",
     "iopub.status.busy": "2021-03-09T11:12:04.830062Z",
     "iopub.status.idle": "2021-03-09T11:12:04.833474Z",
     "shell.execute_reply": "2021-03-09T11:12:04.832997Z"
    }
   },
   "outputs": [],
   "source": [
    "tableauData = json.loads(soup.find(\"textarea\",{\"id\": \"tsConfigContainer\"}).text)"
   ]
  },
  {
   "cell_type": "markdown",
   "metadata": {},
   "source": [
    "Get the link to the Tableau data"
   ]
  },
  {
   "cell_type": "code",
   "execution_count": 4,
   "metadata": {
    "execution": {
     "iopub.execute_input": "2021-03-09T11:12:04.837323Z",
     "iopub.status.busy": "2021-03-09T11:12:04.836197Z",
     "iopub.status.idle": "2021-03-09T11:12:04.838005Z",
     "shell.execute_reply": "2021-03-09T11:12:04.838433Z"
    }
   },
   "outputs": [],
   "source": [
    "dataUrl = f'https://public.tableau.com{tableauData[\"vizql_root\"]}/bootstrapSession/sessions/{tableauData[\"sessionid\"]}'"
   ]
  },
  {
   "cell_type": "code",
   "execution_count": 5,
   "metadata": {
    "execution": {
     "iopub.execute_input": "2021-03-09T11:12:04.844451Z",
     "iopub.status.busy": "2021-03-09T11:12:04.843953Z",
     "iopub.status.idle": "2021-03-09T11:12:05.115064Z",
     "shell.execute_reply": "2021-03-09T11:12:05.114579Z"
    }
   },
   "outputs": [],
   "source": [
    "r = requests.post(dataUrl, data= {\n",
    "    \"sheet_id\": tableauData[\"sheetId\"],\n",
    "})\n",
    "\n",
    "dataReg = re.search('\\d+;({.*})\\d+;({.*})', r.text, re.MULTILINE)\n",
    "data1 = json.loads(dataReg.group(2))\n",
    "\n",
    "dataJson = data1[\"secondaryInfo\"][\"presModelMap\"][\"dataDictionary\"][\"presModelHolder\"][\"genDataDictionaryPresModel\"][\"dataSegments\"][\"0\"][\"dataColumns\"]"
   ]
  },
  {
   "cell_type": "markdown",
   "metadata": {},
   "source": [
    "Isolate what you want"
   ]
  },
  {
   "cell_type": "code",
   "execution_count": 6,
   "metadata": {
    "execution": {
     "iopub.execute_input": "2021-03-09T11:12:05.119385Z",
     "iopub.status.busy": "2021-03-09T11:12:05.118192Z",
     "iopub.status.idle": "2021-03-09T11:12:05.119994Z",
     "shell.execute_reply": "2021-03-09T11:12:05.120390Z"
    }
   },
   "outputs": [],
   "source": [
    "counties = dataJson[2]['dataValues'][:58]"
   ]
  },
  {
   "cell_type": "code",
   "execution_count": 7,
   "metadata": {
    "execution": {
     "iopub.execute_input": "2021-03-09T11:12:05.124689Z",
     "iopub.status.busy": "2021-03-09T11:12:05.123476Z",
     "iopub.status.idle": "2021-03-09T11:12:05.125257Z",
     "shell.execute_reply": "2021-03-09T11:12:05.125685Z"
    }
   },
   "outputs": [],
   "source": [
    "doses = dataJson[0]['dataValues'][3:61]"
   ]
  },
  {
   "cell_type": "markdown",
   "metadata": {},
   "source": [
    "Data formatting"
   ]
  },
  {
   "cell_type": "code",
   "execution_count": 8,
   "metadata": {
    "execution": {
     "iopub.execute_input": "2021-03-09T11:12:05.129788Z",
     "iopub.status.busy": "2021-03-09T11:12:05.128520Z",
     "iopub.status.idle": "2021-03-09T11:12:05.130384Z",
     "shell.execute_reply": "2021-03-09T11:12:05.130807Z"
    }
   },
   "outputs": [],
   "source": [
    "zipped = dict(zip(counties, doses))"
   ]
  },
  {
   "cell_type": "code",
   "execution_count": 9,
   "metadata": {
    "execution": {
     "iopub.execute_input": "2021-03-09T11:12:05.137022Z",
     "iopub.status.busy": "2021-03-09T11:12:05.135853Z",
     "iopub.status.idle": "2021-03-09T11:12:05.137782Z",
     "shell.execute_reply": "2021-03-09T11:12:05.138230Z"
    }
   },
   "outputs": [],
   "source": [
    "df = pd.Series(zipped).reset_index()"
   ]
  },
  {
   "cell_type": "code",
   "execution_count": 10,
   "metadata": {
    "execution": {
     "iopub.execute_input": "2021-03-09T11:12:05.142432Z",
     "iopub.status.busy": "2021-03-09T11:12:05.141271Z",
     "iopub.status.idle": "2021-03-09T11:12:05.143027Z",
     "shell.execute_reply": "2021-03-09T11:12:05.143448Z"
    }
   },
   "outputs": [],
   "source": [
    "df.columns = ['location','doses']"
   ]
  },
  {
   "cell_type": "markdown",
   "metadata": {},
   "source": [
    "Grab the overall California total"
   ]
  },
  {
   "cell_type": "code",
   "execution_count": 11,
   "metadata": {
    "execution": {
     "iopub.execute_input": "2021-03-09T11:12:05.147371Z",
     "iopub.status.busy": "2021-03-09T11:12:05.146547Z",
     "iopub.status.idle": "2021-03-09T11:12:05.148410Z",
     "shell.execute_reply": "2021-03-09T11:12:05.148808Z"
    }
   },
   "outputs": [],
   "source": [
    "add = {'location':'California','doses':dataJson[0]['dataValues'][2]}"
   ]
  },
  {
   "cell_type": "code",
   "execution_count": 12,
   "metadata": {
    "execution": {
     "iopub.execute_input": "2021-03-09T11:12:05.155443Z",
     "iopub.status.busy": "2021-03-09T11:12:05.154264Z",
     "iopub.status.idle": "2021-03-09T11:12:05.156000Z",
     "shell.execute_reply": "2021-03-09T11:12:05.156393Z"
    }
   },
   "outputs": [],
   "source": [
    "df = df.append(add, ignore_index=True)"
   ]
  },
  {
   "cell_type": "code",
   "execution_count": 13,
   "metadata": {
    "execution": {
     "iopub.execute_input": "2021-03-09T11:12:05.161098Z",
     "iopub.status.busy": "2021-03-09T11:12:05.159926Z",
     "iopub.status.idle": "2021-03-09T11:12:05.161739Z",
     "shell.execute_reply": "2021-03-09T11:12:05.162147Z"
    }
   },
   "outputs": [],
   "source": [
    "df = df.sort_values(by='location')"
   ]
  },
  {
   "cell_type": "code",
   "execution_count": 14,
   "metadata": {
    "execution": {
     "iopub.execute_input": "2021-03-09T11:12:05.168229Z",
     "iopub.status.busy": "2021-03-09T11:12:05.167105Z",
     "iopub.status.idle": "2021-03-09T11:12:05.169349Z",
     "shell.execute_reply": "2021-03-09T11:12:05.169806Z"
    }
   },
   "outputs": [],
   "source": [
    "df = df[df.location == 'California'].append(df[df.location != 'California']).reset_index(drop=True)"
   ]
  },
  {
   "cell_type": "code",
   "execution_count": null,
   "metadata": {},
   "outputs": [],
   "source": []
  },
  {
   "cell_type": "code",
   "execution_count": 15,
   "metadata": {
    "execution": {
     "iopub.execute_input": "2021-03-09T11:12:05.173159Z",
     "iopub.status.busy": "2021-03-09T11:12:05.172651Z",
     "iopub.status.idle": "2021-03-09T11:12:05.189644Z",
     "shell.execute_reply": "2021-03-09T11:12:05.189129Z"
    }
   },
   "outputs": [],
   "source": [
    "tz = pytz.timezone(\"America/New_York\")"
   ]
  },
  {
   "cell_type": "code",
   "execution_count": 16,
   "metadata": {
    "execution": {
     "iopub.execute_input": "2021-03-09T11:12:05.193736Z",
     "iopub.status.busy": "2021-03-09T11:12:05.192591Z",
     "iopub.status.idle": "2021-03-09T11:12:05.194295Z",
     "shell.execute_reply": "2021-03-09T11:12:05.194687Z"
    }
   },
   "outputs": [],
   "source": [
    "today = datetime.now(tz).date()"
   ]
  },
  {
   "cell_type": "code",
   "execution_count": 17,
   "metadata": {
    "execution": {
     "iopub.execute_input": "2021-03-09T11:12:05.198963Z",
     "iopub.status.busy": "2021-03-09T11:12:05.197715Z",
     "iopub.status.idle": "2021-03-09T11:12:05.199518Z",
     "shell.execute_reply": "2021-03-09T11:12:05.200052Z"
    }
   },
   "outputs": [],
   "source": [
    "data_dir = os.path.join(os.path.abspath(\"\"), \"data\")"
   ]
  },
  {
   "cell_type": "code",
   "execution_count": 18,
   "metadata": {
    "execution": {
     "iopub.execute_input": "2021-03-09T11:12:05.204292Z",
     "iopub.status.busy": "2021-03-09T11:12:05.203130Z",
     "iopub.status.idle": "2021-03-09T11:12:05.207436Z",
     "shell.execute_reply": "2021-03-09T11:12:05.207010Z"
    }
   },
   "outputs": [],
   "source": [
    "df.to_csv(os.path.join(data_dir, f\"{today}.csv\"), index=False)"
   ]
  },
  {
   "cell_type": "code",
   "execution_count": null,
   "metadata": {},
   "outputs": [],
   "source": []
  }
 ],
 "metadata": {
  "kernelspec": {
   "display_name": "Python 3",
   "language": "python",
   "name": "python3"
  },
  "language_info": {
   "codemirror_mode": {
    "name": "ipython",
    "version": 3
   },
   "file_extension": ".py",
   "mimetype": "text/x-python",
   "name": "python",
   "nbconvert_exporter": "python",
   "pygments_lexer": "ipython3",
   "version": "3.8.8"
  }
 },
 "nbformat": 4,
 "nbformat_minor": 4
}
