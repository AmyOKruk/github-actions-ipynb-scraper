{
 "cells": [
  {
   "cell_type": "markdown",
   "metadata": {},
   "source": [
    "# California COVID vaccinations scrape"
   ]
  },
  {
   "cell_type": "markdown",
   "metadata": {},
   "source": [
    "By [Amy O'Kruk](https://twitter.com/amyokruk)"
   ]
  },
  {
   "cell_type": "markdown",
   "metadata": {},
   "source": [
    "Downloads data on vaccine doses administered by county and statewide from a Tableau-powered dashboard from the California Department of Public Health."
   ]
  },
  {
   "cell_type": "code",
   "execution_count": 1,
   "metadata": {
    "execution": {
     "iopub.execute_input": "2021-03-11T12:16:38.956503Z",
     "iopub.status.busy": "2021-03-11T12:16:38.955873Z",
     "iopub.status.idle": "2021-03-11T12:16:39.333292Z",
     "shell.execute_reply": "2021-03-11T12:16:39.332405Z"
    }
   },
   "outputs": [],
   "source": [
    "import pandas as pd\n",
    "import requests\n",
    "from bs4 import BeautifulSoup\n",
    "import json\n",
    "import re\n",
    "import time\n",
    "from time import gmtime, strftime \n",
    "import os\n",
    "import pytz\n",
    "from datetime import datetime"
   ]
  },
  {
   "cell_type": "markdown",
   "metadata": {},
   "source": [
    "Scrape the dashboard page"
   ]
  },
  {
   "cell_type": "code",
   "execution_count": 2,
   "metadata": {
    "execution": {
     "iopub.execute_input": "2021-03-11T12:16:39.337292Z",
     "iopub.status.busy": "2021-03-11T12:16:39.336437Z",
     "iopub.status.idle": "2021-03-11T12:16:39.677302Z",
     "shell.execute_reply": "2021-03-11T12:16:39.676749Z"
    }
   },
   "outputs": [],
   "source": [
    "url = \"https://public.tableau.com/interactive/views/COVID-19VaccineDashboardPublic/Vaccine?:embed=y&:showVizHome=n&:apiID=host0\"\n",
    "\n",
    "r = requests.get(url)\n",
    "soup = BeautifulSoup(r.text, \"html.parser\")"
   ]
  },
  {
   "cell_type": "code",
   "execution_count": 3,
   "metadata": {
    "execution": {
     "iopub.execute_input": "2021-03-11T12:16:39.681786Z",
     "iopub.status.busy": "2021-03-11T12:16:39.681139Z",
     "iopub.status.idle": "2021-03-11T12:16:39.684421Z",
     "shell.execute_reply": "2021-03-11T12:16:39.684859Z"
    }
   },
   "outputs": [],
   "source": [
    "tableauData = json.loads(soup.find(\"textarea\",{\"id\": \"tsConfigContainer\"}).text)"
   ]
  },
  {
   "cell_type": "markdown",
   "metadata": {},
   "source": [
    "Get the link to the Tableau data"
   ]
  },
  {
   "cell_type": "code",
   "execution_count": 4,
   "metadata": {
    "execution": {
     "iopub.execute_input": "2021-03-11T12:16:39.688721Z",
     "iopub.status.busy": "2021-03-11T12:16:39.688140Z",
     "iopub.status.idle": "2021-03-11T12:16:39.692061Z",
     "shell.execute_reply": "2021-03-11T12:16:39.691513Z"
    }
   },
   "outputs": [],
   "source": [
    "dataUrl = f'https://public.tableau.com{tableauData[\"vizql_root\"]}/bootstrapSession/sessions/{tableauData[\"sessionid\"]}'"
   ]
  },
  {
   "cell_type": "code",
   "execution_count": 5,
   "metadata": {
    "execution": {
     "iopub.execute_input": "2021-03-11T12:16:39.699365Z",
     "iopub.status.busy": "2021-03-11T12:16:39.698466Z",
     "iopub.status.idle": "2021-03-11T12:16:39.985421Z",
     "shell.execute_reply": "2021-03-11T12:16:39.985918Z"
    }
   },
   "outputs": [],
   "source": [
    "r = requests.post(dataUrl, data= {\n",
    "    \"sheet_id\": tableauData[\"sheetId\"],\n",
    "})\n",
    "\n",
    "dataReg = re.search('\\d+;({.*})\\d+;({.*})', r.text, re.MULTILINE)\n",
    "data1 = json.loads(dataReg.group(2))\n",
    "\n",
    "dataJson = data1[\"secondaryInfo\"][\"presModelMap\"][\"dataDictionary\"][\"presModelHolder\"][\"genDataDictionaryPresModel\"][\"dataSegments\"][\"0\"][\"dataColumns\"]"
   ]
  },
  {
   "cell_type": "markdown",
   "metadata": {},
   "source": [
    "Isolate what you want"
   ]
  },
  {
   "cell_type": "code",
   "execution_count": 6,
   "metadata": {
    "execution": {
     "iopub.execute_input": "2021-03-11T12:16:39.989549Z",
     "iopub.status.busy": "2021-03-11T12:16:39.989018Z",
     "iopub.status.idle": "2021-03-11T12:16:39.992346Z",
     "shell.execute_reply": "2021-03-11T12:16:39.992800Z"
    }
   },
   "outputs": [],
   "source": [
    "counties = dataJson[2]['dataValues'][:58]"
   ]
  },
  {
   "cell_type": "code",
   "execution_count": 7,
   "metadata": {
    "execution": {
     "iopub.execute_input": "2021-03-11T12:16:39.997038Z",
     "iopub.status.busy": "2021-03-11T12:16:39.996491Z",
     "iopub.status.idle": "2021-03-11T12:16:39.999914Z",
     "shell.execute_reply": "2021-03-11T12:16:40.000414Z"
    }
   },
   "outputs": [],
   "source": [
    "doses = dataJson[0]['dataValues'][3:61]"
   ]
  },
  {
   "cell_type": "markdown",
   "metadata": {},
   "source": [
    "Data formatting"
   ]
  },
  {
   "cell_type": "code",
   "execution_count": 8,
   "metadata": {
    "execution": {
     "iopub.execute_input": "2021-03-11T12:16:40.004492Z",
     "iopub.status.busy": "2021-03-11T12:16:40.002858Z",
     "iopub.status.idle": "2021-03-11T12:16:40.008004Z",
     "shell.execute_reply": "2021-03-11T12:16:40.007270Z"
    }
   },
   "outputs": [],
   "source": [
    "zipped = dict(zip(counties, doses))"
   ]
  },
  {
   "cell_type": "code",
   "execution_count": 9,
   "metadata": {
    "execution": {
     "iopub.execute_input": "2021-03-11T12:16:40.013892Z",
     "iopub.status.busy": "2021-03-11T12:16:40.013243Z",
     "iopub.status.idle": "2021-03-11T12:16:40.016890Z",
     "shell.execute_reply": "2021-03-11T12:16:40.017658Z"
    }
   },
   "outputs": [],
   "source": [
    "df = pd.Series(zipped).reset_index()"
   ]
  },
  {
   "cell_type": "code",
   "execution_count": 10,
   "metadata": {
    "execution": {
     "iopub.execute_input": "2021-03-11T12:16:40.021720Z",
     "iopub.status.busy": "2021-03-11T12:16:40.021203Z",
     "iopub.status.idle": "2021-03-11T12:16:40.024959Z",
     "shell.execute_reply": "2021-03-11T12:16:40.024388Z"
    }
   },
   "outputs": [],
   "source": [
    "df.columns = ['location','doses']"
   ]
  },
  {
   "cell_type": "markdown",
   "metadata": {},
   "source": [
    "Grab the overall California total"
   ]
  },
  {
   "cell_type": "code",
   "execution_count": 11,
   "metadata": {
    "execution": {
     "iopub.execute_input": "2021-03-11T12:16:40.028572Z",
     "iopub.status.busy": "2021-03-11T12:16:40.028055Z",
     "iopub.status.idle": "2021-03-11T12:16:40.031634Z",
     "shell.execute_reply": "2021-03-11T12:16:40.031169Z"
    }
   },
   "outputs": [],
   "source": [
    "add = {'location':'California','doses':dataJson[0]['dataValues'][2]}"
   ]
  },
  {
   "cell_type": "code",
   "execution_count": 12,
   "metadata": {
    "execution": {
     "iopub.execute_input": "2021-03-11T12:16:40.037825Z",
     "iopub.status.busy": "2021-03-11T12:16:40.037309Z",
     "iopub.status.idle": "2021-03-11T12:16:40.041250Z",
     "shell.execute_reply": "2021-03-11T12:16:40.040342Z"
    }
   },
   "outputs": [],
   "source": [
    "df = df.append(add, ignore_index=True)"
   ]
  },
  {
   "cell_type": "code",
   "execution_count": 13,
   "metadata": {
    "execution": {
     "iopub.execute_input": "2021-03-11T12:16:40.046763Z",
     "iopub.status.busy": "2021-03-11T12:16:40.046163Z",
     "iopub.status.idle": "2021-03-11T12:16:40.049600Z",
     "shell.execute_reply": "2021-03-11T12:16:40.050134Z"
    }
   },
   "outputs": [],
   "source": [
    "df = df.sort_values(by='location')"
   ]
  },
  {
   "cell_type": "code",
   "execution_count": 14,
   "metadata": {
    "execution": {
     "iopub.execute_input": "2021-03-11T12:16:40.056276Z",
     "iopub.status.busy": "2021-03-11T12:16:40.055767Z",
     "iopub.status.idle": "2021-03-11T12:16:40.060006Z",
     "shell.execute_reply": "2021-03-11T12:16:40.059490Z"
    }
   },
   "outputs": [],
   "source": [
    "df = df[df.location == 'California'].append(df[df.location != 'California']).reset_index(drop=True)"
   ]
  },
  {
   "cell_type": "code",
   "execution_count": null,
   "metadata": {},
   "outputs": [],
   "source": []
  },
  {
   "cell_type": "code",
   "execution_count": 15,
   "metadata": {
    "execution": {
     "iopub.execute_input": "2021-03-11T12:16:40.064205Z",
     "iopub.status.busy": "2021-03-11T12:16:40.063130Z",
     "iopub.status.idle": "2021-03-11T12:16:40.083881Z",
     "shell.execute_reply": "2021-03-11T12:16:40.084303Z"
    }
   },
   "outputs": [],
   "source": [
    "tz = pytz.timezone(\"America/New_York\")"
   ]
  },
  {
   "cell_type": "code",
   "execution_count": 16,
   "metadata": {
    "execution": {
     "iopub.execute_input": "2021-03-11T12:16:40.088078Z",
     "iopub.status.busy": "2021-03-11T12:16:40.087390Z",
     "iopub.status.idle": "2021-03-11T12:16:40.093073Z",
     "shell.execute_reply": "2021-03-11T12:16:40.092603Z"
    }
   },
   "outputs": [],
   "source": [
    "today = datetime.now(tz).date()"
   ]
  },
  {
   "cell_type": "code",
   "execution_count": 17,
   "metadata": {
    "execution": {
     "iopub.execute_input": "2021-03-11T12:16:40.096565Z",
     "iopub.status.busy": "2021-03-11T12:16:40.096003Z",
     "iopub.status.idle": "2021-03-11T12:16:40.099504Z",
     "shell.execute_reply": "2021-03-11T12:16:40.100909Z"
    }
   },
   "outputs": [],
   "source": [
    "data_dir = os.path.join(os.path.abspath(\"\"), \"data\")"
   ]
  },
  {
   "cell_type": "code",
   "execution_count": 18,
   "metadata": {
    "execution": {
     "iopub.execute_input": "2021-03-11T12:16:40.106331Z",
     "iopub.status.busy": "2021-03-11T12:16:40.105292Z",
     "iopub.status.idle": "2021-03-11T12:16:40.109178Z",
     "shell.execute_reply": "2021-03-11T12:16:40.110204Z"
    }
   },
   "outputs": [],
   "source": [
    "df.to_csv(os.path.join(data_dir, f\"{today}.csv\"), index=False)"
   ]
  },
  {
   "cell_type": "code",
   "execution_count": null,
   "metadata": {},
   "outputs": [],
   "source": []
  }
 ],
 "metadata": {
  "kernelspec": {
   "display_name": "Python 3",
   "language": "python",
   "name": "python3"
  },
  "language_info": {
   "codemirror_mode": {
    "name": "ipython",
    "version": 3
   },
   "file_extension": ".py",
   "mimetype": "text/x-python",
   "name": "python",
   "nbconvert_exporter": "python",
   "pygments_lexer": "ipython3",
   "version": "3.8.8"
  }
 },
 "nbformat": 4,
 "nbformat_minor": 4
}
