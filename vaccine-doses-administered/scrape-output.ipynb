{
 "cells": [
  {
   "cell_type": "markdown",
   "metadata": {},
   "source": [
    "# California COVID vaccinations scrape"
   ]
  },
  {
   "cell_type": "markdown",
   "metadata": {},
   "source": [
    "By [Amy O'Kruk](https://twitter.com/amyokruk)"
   ]
  },
  {
   "cell_type": "markdown",
   "metadata": {},
   "source": [
    "Downloads data on vaccine doses administered by county and statewide from a Tableau-powered dashboard from the California Department of Public Health."
   ]
  },
  {
   "cell_type": "code",
   "execution_count": 1,
   "metadata": {
    "execution": {
     "iopub.execute_input": "2021-03-09T20:13:37.641727Z",
     "iopub.status.busy": "2021-03-09T20:13:37.641058Z",
     "iopub.status.idle": "2021-03-09T20:13:38.038826Z",
     "shell.execute_reply": "2021-03-09T20:13:38.038081Z"
    }
   },
   "outputs": [],
   "source": [
    "import pandas as pd\n",
    "import requests\n",
    "from bs4 import BeautifulSoup\n",
    "import json\n",
    "import re\n",
    "import time\n",
    "from time import gmtime, strftime \n",
    "import os\n",
    "import pytz\n",
    "from datetime import datetime"
   ]
  },
  {
   "cell_type": "markdown",
   "metadata": {},
   "source": [
    "Scrape the dashboard page"
   ]
  },
  {
   "cell_type": "code",
   "execution_count": 2,
   "metadata": {
    "execution": {
     "iopub.execute_input": "2021-03-09T20:13:38.045207Z",
     "iopub.status.busy": "2021-03-09T20:13:38.042539Z",
     "iopub.status.idle": "2021-03-09T20:13:38.366753Z",
     "shell.execute_reply": "2021-03-09T20:13:38.367221Z"
    }
   },
   "outputs": [],
   "source": [
    "url = \"https://public.tableau.com/interactive/views/COVID-19VaccineDashboardPublic/Vaccine?:embed=y&:showVizHome=n&:apiID=host0\"\n",
    "\n",
    "r = requests.get(url)\n",
    "soup = BeautifulSoup(r.text, \"html.parser\")"
   ]
  },
  {
   "cell_type": "code",
   "execution_count": 3,
   "metadata": {
    "execution": {
     "iopub.execute_input": "2021-03-09T20:13:38.372658Z",
     "iopub.status.busy": "2021-03-09T20:13:38.372004Z",
     "iopub.status.idle": "2021-03-09T20:13:38.376079Z",
     "shell.execute_reply": "2021-03-09T20:13:38.375575Z"
    }
   },
   "outputs": [],
   "source": [
    "tableauData = json.loads(soup.find(\"textarea\",{\"id\": \"tsConfigContainer\"}).text)"
   ]
  },
  {
   "cell_type": "markdown",
   "metadata": {},
   "source": [
    "Get the link to the Tableau data"
   ]
  },
  {
   "cell_type": "code",
   "execution_count": 4,
   "metadata": {
    "execution": {
     "iopub.execute_input": "2021-03-09T20:13:38.382462Z",
     "iopub.status.busy": "2021-03-09T20:13:38.381045Z",
     "iopub.status.idle": "2021-03-09T20:13:38.385749Z",
     "shell.execute_reply": "2021-03-09T20:13:38.386170Z"
    }
   },
   "outputs": [],
   "source": [
    "dataUrl = f'https://public.tableau.com{tableauData[\"vizql_root\"]}/bootstrapSession/sessions/{tableauData[\"sessionid\"]}'"
   ]
  },
  {
   "cell_type": "code",
   "execution_count": 5,
   "metadata": {
    "execution": {
     "iopub.execute_input": "2021-03-09T20:13:38.392757Z",
     "iopub.status.busy": "2021-03-09T20:13:38.392130Z",
     "iopub.status.idle": "2021-03-09T20:13:38.549799Z",
     "shell.execute_reply": "2021-03-09T20:13:38.548949Z"
    }
   },
   "outputs": [],
   "source": [
    "r = requests.post(dataUrl, data= {\n",
    "    \"sheet_id\": tableauData[\"sheetId\"],\n",
    "})\n",
    "\n",
    "dataReg = re.search('\\d+;({.*})\\d+;({.*})', r.text, re.MULTILINE)\n",
    "data1 = json.loads(dataReg.group(2))\n",
    "\n",
    "dataJson = data1[\"secondaryInfo\"][\"presModelMap\"][\"dataDictionary\"][\"presModelHolder\"][\"genDataDictionaryPresModel\"][\"dataSegments\"][\"0\"][\"dataColumns\"]"
   ]
  },
  {
   "cell_type": "markdown",
   "metadata": {},
   "source": [
    "Isolate what you want"
   ]
  },
  {
   "cell_type": "code",
   "execution_count": 6,
   "metadata": {
    "execution": {
     "iopub.execute_input": "2021-03-09T20:13:38.554810Z",
     "iopub.status.busy": "2021-03-09T20:13:38.553433Z",
     "iopub.status.idle": "2021-03-09T20:13:38.555454Z",
     "shell.execute_reply": "2021-03-09T20:13:38.555903Z"
    }
   },
   "outputs": [],
   "source": [
    "counties = dataJson[2]['dataValues'][:58]"
   ]
  },
  {
   "cell_type": "code",
   "execution_count": 7,
   "metadata": {
    "execution": {
     "iopub.execute_input": "2021-03-09T20:13:38.560575Z",
     "iopub.status.busy": "2021-03-09T20:13:38.559177Z",
     "iopub.status.idle": "2021-03-09T20:13:38.561268Z",
     "shell.execute_reply": "2021-03-09T20:13:38.561786Z"
    }
   },
   "outputs": [],
   "source": [
    "doses = dataJson[0]['dataValues'][3:61]"
   ]
  },
  {
   "cell_type": "markdown",
   "metadata": {},
   "source": [
    "Data formatting"
   ]
  },
  {
   "cell_type": "code",
   "execution_count": 8,
   "metadata": {
    "execution": {
     "iopub.execute_input": "2021-03-09T20:13:38.566856Z",
     "iopub.status.busy": "2021-03-09T20:13:38.565477Z",
     "iopub.status.idle": "2021-03-09T20:13:38.567489Z",
     "shell.execute_reply": "2021-03-09T20:13:38.568003Z"
    }
   },
   "outputs": [],
   "source": [
    "zipped = dict(zip(counties, doses))"
   ]
  },
  {
   "cell_type": "code",
   "execution_count": 9,
   "metadata": {
    "execution": {
     "iopub.execute_input": "2021-03-09T20:13:38.575111Z",
     "iopub.status.busy": "2021-03-09T20:13:38.573810Z",
     "iopub.status.idle": "2021-03-09T20:13:38.575764Z",
     "shell.execute_reply": "2021-03-09T20:13:38.576235Z"
    }
   },
   "outputs": [],
   "source": [
    "df = pd.Series(zipped).reset_index()"
   ]
  },
  {
   "cell_type": "code",
   "execution_count": 10,
   "metadata": {
    "execution": {
     "iopub.execute_input": "2021-03-09T20:13:38.584990Z",
     "iopub.status.busy": "2021-03-09T20:13:38.579529Z",
     "iopub.status.idle": "2021-03-09T20:13:38.586485Z",
     "shell.execute_reply": "2021-03-09T20:13:38.585948Z"
    }
   },
   "outputs": [],
   "source": [
    "df.columns = ['location','doses']"
   ]
  },
  {
   "cell_type": "markdown",
   "metadata": {},
   "source": [
    "Grab the overall California total"
   ]
  },
  {
   "cell_type": "code",
   "execution_count": 11,
   "metadata": {
    "execution": {
     "iopub.execute_input": "2021-03-09T20:13:38.591587Z",
     "iopub.status.busy": "2021-03-09T20:13:38.590182Z",
     "iopub.status.idle": "2021-03-09T20:13:38.592343Z",
     "shell.execute_reply": "2021-03-09T20:13:38.592791Z"
    }
   },
   "outputs": [],
   "source": [
    "add = {'location':'California','doses':dataJson[0]['dataValues'][2]}"
   ]
  },
  {
   "cell_type": "code",
   "execution_count": 12,
   "metadata": {
    "execution": {
     "iopub.execute_input": "2021-03-09T20:13:38.600735Z",
     "iopub.status.busy": "2021-03-09T20:13:38.599806Z",
     "iopub.status.idle": "2021-03-09T20:13:38.602357Z",
     "shell.execute_reply": "2021-03-09T20:13:38.601808Z"
    }
   },
   "outputs": [],
   "source": [
    "df = df.append(add, ignore_index=True)"
   ]
  },
  {
   "cell_type": "code",
   "execution_count": 13,
   "metadata": {
    "execution": {
     "iopub.execute_input": "2021-03-09T20:13:38.608208Z",
     "iopub.status.busy": "2021-03-09T20:13:38.606859Z",
     "iopub.status.idle": "2021-03-09T20:13:38.608943Z",
     "shell.execute_reply": "2021-03-09T20:13:38.609467Z"
    }
   },
   "outputs": [],
   "source": [
    "df = df.sort_values(by='location')"
   ]
  },
  {
   "cell_type": "code",
   "execution_count": 14,
   "metadata": {
    "execution": {
     "iopub.execute_input": "2021-03-09T20:13:38.617195Z",
     "iopub.status.busy": "2021-03-09T20:13:38.615792Z",
     "iopub.status.idle": "2021-03-09T20:13:38.617906Z",
     "shell.execute_reply": "2021-03-09T20:13:38.618376Z"
    }
   },
   "outputs": [],
   "source": [
    "df = df[df.location == 'California'].append(df[df.location != 'California']).reset_index(drop=True)"
   ]
  },
  {
   "cell_type": "code",
   "execution_count": null,
   "metadata": {},
   "outputs": [],
   "source": []
  },
  {
   "cell_type": "code",
   "execution_count": 15,
   "metadata": {
    "execution": {
     "iopub.execute_input": "2021-03-09T20:13:38.622068Z",
     "iopub.status.busy": "2021-03-09T20:13:38.621504Z",
     "iopub.status.idle": "2021-03-09T20:13:38.640872Z",
     "shell.execute_reply": "2021-03-09T20:13:38.641293Z"
    }
   },
   "outputs": [],
   "source": [
    "tz = pytz.timezone(\"America/New_York\")"
   ]
  },
  {
   "cell_type": "code",
   "execution_count": 16,
   "metadata": {
    "execution": {
     "iopub.execute_input": "2021-03-09T20:13:38.646794Z",
     "iopub.status.busy": "2021-03-09T20:13:38.645228Z",
     "iopub.status.idle": "2021-03-09T20:13:38.647416Z",
     "shell.execute_reply": "2021-03-09T20:13:38.647901Z"
    }
   },
   "outputs": [],
   "source": [
    "today = datetime.now(tz).date()"
   ]
  },
  {
   "cell_type": "code",
   "execution_count": 17,
   "metadata": {
    "execution": {
     "iopub.execute_input": "2021-03-09T20:13:38.652959Z",
     "iopub.status.busy": "2021-03-09T20:13:38.651518Z",
     "iopub.status.idle": "2021-03-09T20:13:38.653699Z",
     "shell.execute_reply": "2021-03-09T20:13:38.654170Z"
    }
   },
   "outputs": [],
   "source": [
    "data_dir = os.path.join(os.path.abspath(\"\"), \"data\")"
   ]
  },
  {
   "cell_type": "code",
   "execution_count": 18,
   "metadata": {
    "execution": {
     "iopub.execute_input": "2021-03-09T20:13:38.660661Z",
     "iopub.status.busy": "2021-03-09T20:13:38.657680Z",
     "iopub.status.idle": "2021-03-09T20:13:38.662727Z",
     "shell.execute_reply": "2021-03-09T20:13:38.663226Z"
    }
   },
   "outputs": [],
   "source": [
    "df.to_csv(os.path.join(data_dir, f\"{today}.csv\"), index=False)"
   ]
  },
  {
   "cell_type": "code",
   "execution_count": null,
   "metadata": {},
   "outputs": [],
   "source": []
  }
 ],
 "metadata": {
  "kernelspec": {
   "display_name": "Python 3",
   "language": "python",
   "name": "python3"
  },
  "language_info": {
   "codemirror_mode": {
    "name": "ipython",
    "version": 3
   },
   "file_extension": ".py",
   "mimetype": "text/x-python",
   "name": "python",
   "nbconvert_exporter": "python",
   "pygments_lexer": "ipython3",
   "version": "3.8.8"
  }
 },
 "nbformat": 4,
 "nbformat_minor": 4
}
