{
 "cells": [
  {
   "cell_type": "markdown",
   "metadata": {},
   "source": [
    "# California COVID vaccinations scrape"
   ]
  },
  {
   "cell_type": "markdown",
   "metadata": {},
   "source": [
    "By [Amy O'Kruk](https://twitter.com/amyokruk)"
   ]
  },
  {
   "cell_type": "markdown",
   "metadata": {},
   "source": [
    "Downloads data on vaccine doses administered by county and statewide from a Tableau-powered dashboard from the California Department of Public Health."
   ]
  },
  {
   "cell_type": "code",
   "execution_count": 1,
   "metadata": {
    "execution": {
     "iopub.execute_input": "2021-03-18T07:11:41.314763Z",
     "iopub.status.busy": "2021-03-18T07:11:41.314102Z",
     "iopub.status.idle": "2021-03-18T07:11:41.759584Z",
     "shell.execute_reply": "2021-03-18T07:11:41.759037Z"
    }
   },
   "outputs": [],
   "source": [
    "import pandas as pd\n",
    "import requests\n",
    "from bs4 import BeautifulSoup\n",
    "import json\n",
    "import re\n",
    "import time\n",
    "from time import gmtime, strftime \n",
    "import os\n",
    "import pytz\n",
    "from datetime import datetime"
   ]
  },
  {
   "cell_type": "markdown",
   "metadata": {},
   "source": [
    "Scrape the dashboard page"
   ]
  },
  {
   "cell_type": "code",
   "execution_count": 2,
   "metadata": {
    "execution": {
     "iopub.execute_input": "2021-03-18T07:11:41.764653Z",
     "iopub.status.busy": "2021-03-18T07:11:41.762946Z",
     "iopub.status.idle": "2021-03-18T07:11:42.009987Z",
     "shell.execute_reply": "2021-03-18T07:11:42.010765Z"
    }
   },
   "outputs": [],
   "source": [
    "url = \"https://public.tableau.com/interactive/views/COVID-19VaccineDashboardPublic/Vaccine?:embed=y&:showVizHome=n&:apiID=host0\"\n",
    "\n",
    "r = requests.get(url)\n",
    "soup = BeautifulSoup(r.text, \"html.parser\")"
   ]
  },
  {
   "cell_type": "code",
   "execution_count": 3,
   "metadata": {
    "execution": {
     "iopub.execute_input": "2021-03-18T07:11:42.015892Z",
     "iopub.status.busy": "2021-03-18T07:11:42.015041Z",
     "iopub.status.idle": "2021-03-18T07:11:42.016978Z",
     "shell.execute_reply": "2021-03-18T07:11:42.017428Z"
    }
   },
   "outputs": [],
   "source": [
    "tableauData = json.loads(soup.find(\"textarea\",{\"id\": \"tsConfigContainer\"}).text)"
   ]
  },
  {
   "cell_type": "markdown",
   "metadata": {},
   "source": [
    "Get the link to the Tableau data"
   ]
  },
  {
   "cell_type": "code",
   "execution_count": 4,
   "metadata": {
    "execution": {
     "iopub.execute_input": "2021-03-18T07:11:42.020953Z",
     "iopub.status.busy": "2021-03-18T07:11:42.020236Z",
     "iopub.status.idle": "2021-03-18T07:11:42.021923Z",
     "shell.execute_reply": "2021-03-18T07:11:42.022310Z"
    }
   },
   "outputs": [],
   "source": [
    "dataUrl = f'https://public.tableau.com{tableauData[\"vizql_root\"]}/bootstrapSession/sessions/{tableauData[\"sessionid\"]}'"
   ]
  },
  {
   "cell_type": "code",
   "execution_count": 5,
   "metadata": {
    "execution": {
     "iopub.execute_input": "2021-03-18T07:11:42.028058Z",
     "iopub.status.busy": "2021-03-18T07:11:42.027557Z",
     "iopub.status.idle": "2021-03-18T07:11:42.574840Z",
     "shell.execute_reply": "2021-03-18T07:11:42.573998Z"
    }
   },
   "outputs": [],
   "source": [
    "r = requests.post(dataUrl, data= {\n",
    "    \"sheet_id\": tableauData[\"sheetId\"],\n",
    "})\n",
    "\n",
    "dataReg = re.search('\\d+;({.*})\\d+;({.*})', r.text, re.MULTILINE)\n",
    "data1 = json.loads(dataReg.group(2))\n",
    "\n",
    "dataJson = data1[\"secondaryInfo\"][\"presModelMap\"][\"dataDictionary\"][\"presModelHolder\"][\"genDataDictionaryPresModel\"][\"dataSegments\"][\"0\"][\"dataColumns\"]"
   ]
  },
  {
   "cell_type": "markdown",
   "metadata": {},
   "source": [
    "Isolate what you want"
   ]
  },
  {
   "cell_type": "code",
   "execution_count": 6,
   "metadata": {
    "execution": {
     "iopub.execute_input": "2021-03-18T07:11:42.580639Z",
     "iopub.status.busy": "2021-03-18T07:11:42.580046Z",
     "iopub.status.idle": "2021-03-18T07:11:42.581518Z",
     "shell.execute_reply": "2021-03-18T07:11:42.581095Z"
    }
   },
   "outputs": [],
   "source": [
    "counties = dataJson[2]['dataValues'][:58]"
   ]
  },
  {
   "cell_type": "code",
   "execution_count": 7,
   "metadata": {
    "execution": {
     "iopub.execute_input": "2021-03-18T07:11:42.585934Z",
     "iopub.status.busy": "2021-03-18T07:11:42.584741Z",
     "iopub.status.idle": "2021-03-18T07:11:42.586562Z",
     "shell.execute_reply": "2021-03-18T07:11:42.587013Z"
    }
   },
   "outputs": [],
   "source": [
    "doses = dataJson[0]['dataValues'][3:61]"
   ]
  },
  {
   "cell_type": "markdown",
   "metadata": {},
   "source": [
    "Data formatting"
   ]
  },
  {
   "cell_type": "code",
   "execution_count": 8,
   "metadata": {
    "execution": {
     "iopub.execute_input": "2021-03-18T07:11:42.591314Z",
     "iopub.status.busy": "2021-03-18T07:11:42.590171Z",
     "iopub.status.idle": "2021-03-18T07:11:42.592087Z",
     "shell.execute_reply": "2021-03-18T07:11:42.592679Z"
    }
   },
   "outputs": [],
   "source": [
    "zipped = dict(zip(counties, doses))"
   ]
  },
  {
   "cell_type": "code",
   "execution_count": 9,
   "metadata": {
    "execution": {
     "iopub.execute_input": "2021-03-18T07:11:42.599231Z",
     "iopub.status.busy": "2021-03-18T07:11:42.598114Z",
     "iopub.status.idle": "2021-03-18T07:11:42.599778Z",
     "shell.execute_reply": "2021-03-18T07:11:42.600170Z"
    }
   },
   "outputs": [],
   "source": [
    "df = pd.Series(zipped).reset_index()"
   ]
  },
  {
   "cell_type": "code",
   "execution_count": 10,
   "metadata": {
    "execution": {
     "iopub.execute_input": "2021-03-18T07:11:42.604788Z",
     "iopub.status.busy": "2021-03-18T07:11:42.603712Z",
     "iopub.status.idle": "2021-03-18T07:11:42.605462Z",
     "shell.execute_reply": "2021-03-18T07:11:42.605886Z"
    }
   },
   "outputs": [],
   "source": [
    "df.columns = ['location','doses']"
   ]
  },
  {
   "cell_type": "markdown",
   "metadata": {},
   "source": [
    "Grab the overall California total"
   ]
  },
  {
   "cell_type": "code",
   "execution_count": 11,
   "metadata": {
    "execution": {
     "iopub.execute_input": "2021-03-18T07:11:42.610331Z",
     "iopub.status.busy": "2021-03-18T07:11:42.609078Z",
     "iopub.status.idle": "2021-03-18T07:11:42.611007Z",
     "shell.execute_reply": "2021-03-18T07:11:42.611435Z"
    }
   },
   "outputs": [],
   "source": [
    "add = {'location':'California','doses':dataJson[0]['dataValues'][2]}"
   ]
  },
  {
   "cell_type": "code",
   "execution_count": 12,
   "metadata": {
    "execution": {
     "iopub.execute_input": "2021-03-18T07:11:42.618149Z",
     "iopub.status.busy": "2021-03-18T07:11:42.616967Z",
     "iopub.status.idle": "2021-03-18T07:11:42.618793Z",
     "shell.execute_reply": "2021-03-18T07:11:42.619184Z"
    }
   },
   "outputs": [],
   "source": [
    "df = df.append(add, ignore_index=True)"
   ]
  },
  {
   "cell_type": "code",
   "execution_count": 13,
   "metadata": {
    "execution": {
     "iopub.execute_input": "2021-03-18T07:11:42.623850Z",
     "iopub.status.busy": "2021-03-18T07:11:42.622745Z",
     "iopub.status.idle": "2021-03-18T07:11:42.624408Z",
     "shell.execute_reply": "2021-03-18T07:11:42.624803Z"
    }
   },
   "outputs": [],
   "source": [
    "df = df.sort_values(by='location')"
   ]
  },
  {
   "cell_type": "code",
   "execution_count": 14,
   "metadata": {
    "execution": {
     "iopub.execute_input": "2021-03-18T07:11:42.630874Z",
     "iopub.status.busy": "2021-03-18T07:11:42.630028Z",
     "iopub.status.idle": "2021-03-18T07:11:42.631666Z",
     "shell.execute_reply": "2021-03-18T07:11:42.632035Z"
    }
   },
   "outputs": [],
   "source": [
    "df = df[df.location == 'California'].append(df[df.location != 'California']).reset_index(drop=True)"
   ]
  },
  {
   "cell_type": "code",
   "execution_count": null,
   "metadata": {},
   "outputs": [],
   "source": []
  },
  {
   "cell_type": "code",
   "execution_count": 15,
   "metadata": {
    "execution": {
     "iopub.execute_input": "2021-03-18T07:11:42.635051Z",
     "iopub.status.busy": "2021-03-18T07:11:42.634575Z",
     "iopub.status.idle": "2021-03-18T07:11:42.651186Z",
     "shell.execute_reply": "2021-03-18T07:11:42.650710Z"
    }
   },
   "outputs": [],
   "source": [
    "tz = pytz.timezone(\"America/New_York\")"
   ]
  },
  {
   "cell_type": "code",
   "execution_count": 16,
   "metadata": {
    "execution": {
     "iopub.execute_input": "2021-03-18T07:11:42.655476Z",
     "iopub.status.busy": "2021-03-18T07:11:42.654180Z",
     "iopub.status.idle": "2021-03-18T07:11:42.656034Z",
     "shell.execute_reply": "2021-03-18T07:11:42.656431Z"
    }
   },
   "outputs": [],
   "source": [
    "today = datetime.now(tz).date()"
   ]
  },
  {
   "cell_type": "code",
   "execution_count": 17,
   "metadata": {
    "execution": {
     "iopub.execute_input": "2021-03-18T07:11:42.660517Z",
     "iopub.status.busy": "2021-03-18T07:11:42.659657Z",
     "iopub.status.idle": "2021-03-18T07:11:42.661363Z",
     "shell.execute_reply": "2021-03-18T07:11:42.661756Z"
    }
   },
   "outputs": [],
   "source": [
    "data_dir = os.path.join(os.path.abspath(\"\"), \"data\")"
   ]
  },
  {
   "cell_type": "code",
   "execution_count": 18,
   "metadata": {
    "execution": {
     "iopub.execute_input": "2021-03-18T07:11:42.665871Z",
     "iopub.status.busy": "2021-03-18T07:11:42.664830Z",
     "iopub.status.idle": "2021-03-18T07:11:42.669261Z",
     "shell.execute_reply": "2021-03-18T07:11:42.668783Z"
    }
   },
   "outputs": [],
   "source": [
    "df.to_csv(os.path.join(data_dir, f\"{today}.csv\"), index=False)"
   ]
  },
  {
   "cell_type": "code",
   "execution_count": null,
   "metadata": {},
   "outputs": [],
   "source": []
  }
 ],
 "metadata": {
  "kernelspec": {
   "display_name": "Python 3",
   "language": "python",
   "name": "python3"
  },
  "language_info": {
   "codemirror_mode": {
    "name": "ipython",
    "version": 3
   },
   "file_extension": ".py",
   "mimetype": "text/x-python",
   "name": "python",
   "nbconvert_exporter": "python",
   "pygments_lexer": "ipython3",
   "version": "3.8.8"
  }
 },
 "nbformat": 4,
 "nbformat_minor": 4
}
