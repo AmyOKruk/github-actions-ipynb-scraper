{
 "cells": [
  {
   "cell_type": "markdown",
   "metadata": {},
   "source": [
    "# California COVID vaccinations scrape"
   ]
  },
  {
   "cell_type": "markdown",
   "metadata": {},
   "source": [
    "By [Amy O'Kruk](https://twitter.com/amyokruk)"
   ]
  },
  {
   "cell_type": "markdown",
   "metadata": {},
   "source": [
    "Downloads data on vaccine doses administered by county and statewide from a Tableau-powered dashboard from the California Department of Public Health."
   ]
  },
  {
   "cell_type": "code",
   "execution_count": 1,
   "metadata": {
    "execution": {
     "iopub.execute_input": "2021-03-18T09:13:47.132795Z",
     "iopub.status.busy": "2021-03-18T09:13:47.132102Z",
     "iopub.status.idle": "2021-03-18T09:13:47.749727Z",
     "shell.execute_reply": "2021-03-18T09:13:47.748673Z"
    }
   },
   "outputs": [],
   "source": [
    "import pandas as pd\n",
    "import requests\n",
    "from bs4 import BeautifulSoup\n",
    "import json\n",
    "import re\n",
    "import time\n",
    "from time import gmtime, strftime \n",
    "import os\n",
    "import pytz\n",
    "from datetime import datetime"
   ]
  },
  {
   "cell_type": "markdown",
   "metadata": {},
   "source": [
    "Scrape the dashboard page"
   ]
  },
  {
   "cell_type": "code",
   "execution_count": 2,
   "metadata": {
    "execution": {
     "iopub.execute_input": "2021-03-18T09:13:47.756893Z",
     "iopub.status.busy": "2021-03-18T09:13:47.753924Z",
     "iopub.status.idle": "2021-03-18T09:13:48.169157Z",
     "shell.execute_reply": "2021-03-18T09:13:48.168134Z"
    }
   },
   "outputs": [],
   "source": [
    "url = \"https://public.tableau.com/interactive/views/COVID-19VaccineDashboardPublic/Vaccine?:embed=y&:showVizHome=n&:apiID=host0\"\n",
    "\n",
    "r = requests.get(url)\n",
    "soup = BeautifulSoup(r.text, \"html.parser\")"
   ]
  },
  {
   "cell_type": "code",
   "execution_count": 3,
   "metadata": {
    "execution": {
     "iopub.execute_input": "2021-03-18T09:13:48.174102Z",
     "iopub.status.busy": "2021-03-18T09:13:48.173558Z",
     "iopub.status.idle": "2021-03-18T09:13:48.177167Z",
     "shell.execute_reply": "2021-03-18T09:13:48.176687Z"
    }
   },
   "outputs": [],
   "source": [
    "tableauData = json.loads(soup.find(\"textarea\",{\"id\": \"tsConfigContainer\"}).text)"
   ]
  },
  {
   "cell_type": "markdown",
   "metadata": {},
   "source": [
    "Get the link to the Tableau data"
   ]
  },
  {
   "cell_type": "code",
   "execution_count": 4,
   "metadata": {
    "execution": {
     "iopub.execute_input": "2021-03-18T09:13:48.180863Z",
     "iopub.status.busy": "2021-03-18T09:13:48.180322Z",
     "iopub.status.idle": "2021-03-18T09:13:48.183342Z",
     "shell.execute_reply": "2021-03-18T09:13:48.183816Z"
    }
   },
   "outputs": [],
   "source": [
    "dataUrl = f'https://public.tableau.com{tableauData[\"vizql_root\"]}/bootstrapSession/sessions/{tableauData[\"sessionid\"]}'"
   ]
  },
  {
   "cell_type": "code",
   "execution_count": 5,
   "metadata": {
    "execution": {
     "iopub.execute_input": "2021-03-18T09:13:48.190851Z",
     "iopub.status.busy": "2021-03-18T09:13:48.190312Z",
     "iopub.status.idle": "2021-03-18T09:13:48.739812Z",
     "shell.execute_reply": "2021-03-18T09:13:48.739258Z"
    }
   },
   "outputs": [],
   "source": [
    "r = requests.post(dataUrl, data= {\n",
    "    \"sheet_id\": tableauData[\"sheetId\"],\n",
    "})\n",
    "\n",
    "dataReg = re.search('\\d+;({.*})\\d+;({.*})', r.text, re.MULTILINE)\n",
    "data1 = json.loads(dataReg.group(2))\n",
    "\n",
    "dataJson = data1[\"secondaryInfo\"][\"presModelMap\"][\"dataDictionary\"][\"presModelHolder\"][\"genDataDictionaryPresModel\"][\"dataSegments\"][\"0\"][\"dataColumns\"]"
   ]
  },
  {
   "cell_type": "markdown",
   "metadata": {},
   "source": [
    "Isolate what you want"
   ]
  },
  {
   "cell_type": "code",
   "execution_count": 6,
   "metadata": {
    "execution": {
     "iopub.execute_input": "2021-03-18T09:13:48.743840Z",
     "iopub.status.busy": "2021-03-18T09:13:48.743272Z",
     "iopub.status.idle": "2021-03-18T09:13:48.746803Z",
     "shell.execute_reply": "2021-03-18T09:13:48.746266Z"
    }
   },
   "outputs": [],
   "source": [
    "counties = dataJson[2]['dataValues'][:58]"
   ]
  },
  {
   "cell_type": "code",
   "execution_count": 7,
   "metadata": {
    "execution": {
     "iopub.execute_input": "2021-03-18T09:13:48.750561Z",
     "iopub.status.busy": "2021-03-18T09:13:48.750031Z",
     "iopub.status.idle": "2021-03-18T09:13:48.753621Z",
     "shell.execute_reply": "2021-03-18T09:13:48.753150Z"
    }
   },
   "outputs": [],
   "source": [
    "doses = dataJson[0]['dataValues'][3:61]"
   ]
  },
  {
   "cell_type": "markdown",
   "metadata": {},
   "source": [
    "Data formatting"
   ]
  },
  {
   "cell_type": "code",
   "execution_count": 8,
   "metadata": {
    "execution": {
     "iopub.execute_input": "2021-03-18T09:13:48.757179Z",
     "iopub.status.busy": "2021-03-18T09:13:48.756645Z",
     "iopub.status.idle": "2021-03-18T09:13:48.760137Z",
     "shell.execute_reply": "2021-03-18T09:13:48.759575Z"
    }
   },
   "outputs": [],
   "source": [
    "zipped = dict(zip(counties, doses))"
   ]
  },
  {
   "cell_type": "code",
   "execution_count": 9,
   "metadata": {
    "execution": {
     "iopub.execute_input": "2021-03-18T09:13:48.765966Z",
     "iopub.status.busy": "2021-03-18T09:13:48.765435Z",
     "iopub.status.idle": "2021-03-18T09:13:48.770164Z",
     "shell.execute_reply": "2021-03-18T09:13:48.769483Z"
    }
   },
   "outputs": [],
   "source": [
    "df = pd.Series(zipped).reset_index()"
   ]
  },
  {
   "cell_type": "code",
   "execution_count": 10,
   "metadata": {
    "execution": {
     "iopub.execute_input": "2021-03-18T09:13:48.776420Z",
     "iopub.status.busy": "2021-03-18T09:13:48.775864Z",
     "iopub.status.idle": "2021-03-18T09:13:48.779895Z",
     "shell.execute_reply": "2021-03-18T09:13:48.779115Z"
    }
   },
   "outputs": [],
   "source": [
    "df.columns = ['location','doses']"
   ]
  },
  {
   "cell_type": "markdown",
   "metadata": {},
   "source": [
    "Grab the overall California total"
   ]
  },
  {
   "cell_type": "code",
   "execution_count": 11,
   "metadata": {
    "execution": {
     "iopub.execute_input": "2021-03-18T09:13:48.783323Z",
     "iopub.status.busy": "2021-03-18T09:13:48.782794Z",
     "iopub.status.idle": "2021-03-18T09:13:48.785427Z",
     "shell.execute_reply": "2021-03-18T09:13:48.784695Z"
    }
   },
   "outputs": [],
   "source": [
    "add = {'location':'California','doses':dataJson[0]['dataValues'][2]}"
   ]
  },
  {
   "cell_type": "code",
   "execution_count": 12,
   "metadata": {
    "execution": {
     "iopub.execute_input": "2021-03-18T09:13:48.791660Z",
     "iopub.status.busy": "2021-03-18T09:13:48.791129Z",
     "iopub.status.idle": "2021-03-18T09:13:48.794730Z",
     "shell.execute_reply": "2021-03-18T09:13:48.794286Z"
    }
   },
   "outputs": [],
   "source": [
    "df = df.append(add, ignore_index=True)"
   ]
  },
  {
   "cell_type": "code",
   "execution_count": 13,
   "metadata": {
    "execution": {
     "iopub.execute_input": "2021-03-18T09:13:48.799873Z",
     "iopub.status.busy": "2021-03-18T09:13:48.798710Z",
     "iopub.status.idle": "2021-03-18T09:13:48.800486Z",
     "shell.execute_reply": "2021-03-18T09:13:48.800924Z"
    }
   },
   "outputs": [],
   "source": [
    "df = df.sort_values(by='location')"
   ]
  },
  {
   "cell_type": "code",
   "execution_count": 14,
   "metadata": {
    "execution": {
     "iopub.execute_input": "2021-03-18T09:13:48.807788Z",
     "iopub.status.busy": "2021-03-18T09:13:48.806582Z",
     "iopub.status.idle": "2021-03-18T09:13:48.808404Z",
     "shell.execute_reply": "2021-03-18T09:13:48.808845Z"
    }
   },
   "outputs": [],
   "source": [
    "df = df[df.location == 'California'].append(df[df.location != 'California']).reset_index(drop=True)"
   ]
  },
  {
   "cell_type": "code",
   "execution_count": null,
   "metadata": {},
   "outputs": [],
   "source": []
  },
  {
   "cell_type": "code",
   "execution_count": 15,
   "metadata": {
    "execution": {
     "iopub.execute_input": "2021-03-18T09:13:48.812435Z",
     "iopub.status.busy": "2021-03-18T09:13:48.811822Z",
     "iopub.status.idle": "2021-03-18T09:13:48.829857Z",
     "shell.execute_reply": "2021-03-18T09:13:48.829392Z"
    }
   },
   "outputs": [],
   "source": [
    "tz = pytz.timezone(\"America/New_York\")"
   ]
  },
  {
   "cell_type": "code",
   "execution_count": 16,
   "metadata": {
    "execution": {
     "iopub.execute_input": "2021-03-18T09:13:48.834408Z",
     "iopub.status.busy": "2021-03-18T09:13:48.833255Z",
     "iopub.status.idle": "2021-03-18T09:13:48.835015Z",
     "shell.execute_reply": "2021-03-18T09:13:48.835456Z"
    }
   },
   "outputs": [],
   "source": [
    "today = datetime.now(tz).date()"
   ]
  },
  {
   "cell_type": "code",
   "execution_count": 17,
   "metadata": {
    "execution": {
     "iopub.execute_input": "2021-03-18T09:13:48.839820Z",
     "iopub.status.busy": "2021-03-18T09:13:48.838672Z",
     "iopub.status.idle": "2021-03-18T09:13:48.840428Z",
     "shell.execute_reply": "2021-03-18T09:13:48.840870Z"
    }
   },
   "outputs": [],
   "source": [
    "data_dir = os.path.join(os.path.abspath(\"\"), \"data\")"
   ]
  },
  {
   "cell_type": "code",
   "execution_count": 18,
   "metadata": {
    "execution": {
     "iopub.execute_input": "2021-03-18T09:13:48.846278Z",
     "iopub.status.busy": "2021-03-18T09:13:48.845295Z",
     "iopub.status.idle": "2021-03-18T09:13:48.848877Z",
     "shell.execute_reply": "2021-03-18T09:13:48.848336Z"
    }
   },
   "outputs": [],
   "source": [
    "df.to_csv(os.path.join(data_dir, f\"{today}.csv\"), index=False)"
   ]
  },
  {
   "cell_type": "code",
   "execution_count": null,
   "metadata": {},
   "outputs": [],
   "source": []
  }
 ],
 "metadata": {
  "kernelspec": {
   "display_name": "Python 3",
   "language": "python",
   "name": "python3"
  },
  "language_info": {
   "codemirror_mode": {
    "name": "ipython",
    "version": 3
   },
   "file_extension": ".py",
   "mimetype": "text/x-python",
   "name": "python",
   "nbconvert_exporter": "python",
   "pygments_lexer": "ipython3",
   "version": "3.8.8"
  }
 },
 "nbformat": 4,
 "nbformat_minor": 4
}
