{
 "cells": [
  {
   "cell_type": "markdown",
   "metadata": {},
   "source": [
    "# California COVID vaccinations scrape"
   ]
  },
  {
   "cell_type": "markdown",
   "metadata": {},
   "source": [
    "By [Amy O'Kruk](https://twitter.com/amyokruk)"
   ]
  },
  {
   "cell_type": "markdown",
   "metadata": {},
   "source": [
    "Downloads data on vaccine doses administered by county and statewide from a Tableau-powered dashboard from the California Department of Public Health."
   ]
  },
  {
   "cell_type": "code",
   "execution_count": 1,
   "metadata": {
    "execution": {
     "iopub.execute_input": "2021-03-11T09:13:39.283076Z",
     "iopub.status.busy": "2021-03-11T09:13:39.282470Z",
     "iopub.status.idle": "2021-03-11T09:13:39.652583Z",
     "shell.execute_reply": "2021-03-11T09:13:39.653020Z"
    }
   },
   "outputs": [],
   "source": [
    "import pandas as pd\n",
    "import requests\n",
    "from bs4 import BeautifulSoup\n",
    "import json\n",
    "import re\n",
    "import time\n",
    "from time import gmtime, strftime \n",
    "import os\n",
    "import pytz\n",
    "from datetime import datetime"
   ]
  },
  {
   "cell_type": "markdown",
   "metadata": {},
   "source": [
    "Scrape the dashboard page"
   ]
  },
  {
   "cell_type": "code",
   "execution_count": 2,
   "metadata": {
    "execution": {
     "iopub.execute_input": "2021-03-11T09:13:39.658531Z",
     "iopub.status.busy": "2021-03-11T09:13:39.656473Z",
     "iopub.status.idle": "2021-03-11T09:13:39.831512Z",
     "shell.execute_reply": "2021-03-11T09:13:39.831006Z"
    }
   },
   "outputs": [],
   "source": [
    "url = \"https://public.tableau.com/interactive/views/COVID-19VaccineDashboardPublic/Vaccine?:embed=y&:showVizHome=n&:apiID=host0\"\n",
    "\n",
    "r = requests.get(url)\n",
    "soup = BeautifulSoup(r.text, \"html.parser\")"
   ]
  },
  {
   "cell_type": "code",
   "execution_count": 3,
   "metadata": {
    "execution": {
     "iopub.execute_input": "2021-03-11T09:13:39.835492Z",
     "iopub.status.busy": "2021-03-11T09:13:39.835020Z",
     "iopub.status.idle": "2021-03-11T09:13:39.838313Z",
     "shell.execute_reply": "2021-03-11T09:13:39.837917Z"
    }
   },
   "outputs": [],
   "source": [
    "tableauData = json.loads(soup.find(\"textarea\",{\"id\": \"tsConfigContainer\"}).text)"
   ]
  },
  {
   "cell_type": "markdown",
   "metadata": {},
   "source": [
    "Get the link to the Tableau data"
   ]
  },
  {
   "cell_type": "code",
   "execution_count": 4,
   "metadata": {
    "execution": {
     "iopub.execute_input": "2021-03-11T09:13:39.841455Z",
     "iopub.status.busy": "2021-03-11T09:13:39.840960Z",
     "iopub.status.idle": "2021-03-11T09:13:39.844401Z",
     "shell.execute_reply": "2021-03-11T09:13:39.844007Z"
    }
   },
   "outputs": [],
   "source": [
    "dataUrl = f'https://public.tableau.com{tableauData[\"vizql_root\"]}/bootstrapSession/sessions/{tableauData[\"sessionid\"]}'"
   ]
  },
  {
   "cell_type": "code",
   "execution_count": 5,
   "metadata": {
    "execution": {
     "iopub.execute_input": "2021-03-11T09:13:39.849755Z",
     "iopub.status.busy": "2021-03-11T09:13:39.849272Z",
     "iopub.status.idle": "2021-03-11T09:13:40.171295Z",
     "shell.execute_reply": "2021-03-11T09:13:40.171754Z"
    }
   },
   "outputs": [],
   "source": [
    "r = requests.post(dataUrl, data= {\n",
    "    \"sheet_id\": tableauData[\"sheetId\"],\n",
    "})\n",
    "\n",
    "dataReg = re.search('\\d+;({.*})\\d+;({.*})', r.text, re.MULTILINE)\n",
    "data1 = json.loads(dataReg.group(2))\n",
    "\n",
    "dataJson = data1[\"secondaryInfo\"][\"presModelMap\"][\"dataDictionary\"][\"presModelHolder\"][\"genDataDictionaryPresModel\"][\"dataSegments\"][\"0\"][\"dataColumns\"]"
   ]
  },
  {
   "cell_type": "markdown",
   "metadata": {},
   "source": [
    "Isolate what you want"
   ]
  },
  {
   "cell_type": "code",
   "execution_count": 6,
   "metadata": {
    "execution": {
     "iopub.execute_input": "2021-03-11T09:13:40.176622Z",
     "iopub.status.busy": "2021-03-11T09:13:40.175458Z",
     "iopub.status.idle": "2021-03-11T09:13:40.177350Z",
     "shell.execute_reply": "2021-03-11T09:13:40.177761Z"
    }
   },
   "outputs": [],
   "source": [
    "counties = dataJson[2]['dataValues'][:58]"
   ]
  },
  {
   "cell_type": "code",
   "execution_count": 7,
   "metadata": {
    "execution": {
     "iopub.execute_input": "2021-03-11T09:13:40.181789Z",
     "iopub.status.busy": "2021-03-11T09:13:40.180675Z",
     "iopub.status.idle": "2021-03-11T09:13:40.182694Z",
     "shell.execute_reply": "2021-03-11T09:13:40.183110Z"
    }
   },
   "outputs": [],
   "source": [
    "doses = dataJson[0]['dataValues'][3:61]"
   ]
  },
  {
   "cell_type": "markdown",
   "metadata": {},
   "source": [
    "Data formatting"
   ]
  },
  {
   "cell_type": "code",
   "execution_count": 8,
   "metadata": {
    "execution": {
     "iopub.execute_input": "2021-03-11T09:13:40.187632Z",
     "iopub.status.busy": "2021-03-11T09:13:40.186393Z",
     "iopub.status.idle": "2021-03-11T09:13:40.188240Z",
     "shell.execute_reply": "2021-03-11T09:13:40.188626Z"
    }
   },
   "outputs": [],
   "source": [
    "zipped = dict(zip(counties, doses))"
   ]
  },
  {
   "cell_type": "code",
   "execution_count": 9,
   "metadata": {
    "execution": {
     "iopub.execute_input": "2021-03-11T09:13:40.194432Z",
     "iopub.status.busy": "2021-03-11T09:13:40.193529Z",
     "iopub.status.idle": "2021-03-11T09:13:40.195303Z",
     "shell.execute_reply": "2021-03-11T09:13:40.195691Z"
    }
   },
   "outputs": [],
   "source": [
    "df = pd.Series(zipped).reset_index()"
   ]
  },
  {
   "cell_type": "code",
   "execution_count": 10,
   "metadata": {
    "execution": {
     "iopub.execute_input": "2021-03-11T09:13:40.199714Z",
     "iopub.status.busy": "2021-03-11T09:13:40.198704Z",
     "iopub.status.idle": "2021-03-11T09:13:40.200363Z",
     "shell.execute_reply": "2021-03-11T09:13:40.200752Z"
    }
   },
   "outputs": [],
   "source": [
    "df.columns = ['location','doses']"
   ]
  },
  {
   "cell_type": "markdown",
   "metadata": {},
   "source": [
    "Grab the overall California total"
   ]
  },
  {
   "cell_type": "code",
   "execution_count": 11,
   "metadata": {
    "execution": {
     "iopub.execute_input": "2021-03-11T09:13:40.204905Z",
     "iopub.status.busy": "2021-03-11T09:13:40.204022Z",
     "iopub.status.idle": "2021-03-11T09:13:40.206545Z",
     "shell.execute_reply": "2021-03-11T09:13:40.206033Z"
    }
   },
   "outputs": [],
   "source": [
    "add = {'location':'California','doses':dataJson[0]['dataValues'][2]}"
   ]
  },
  {
   "cell_type": "code",
   "execution_count": 12,
   "metadata": {
    "execution": {
     "iopub.execute_input": "2021-03-11T09:13:40.213680Z",
     "iopub.status.busy": "2021-03-11T09:13:40.212454Z",
     "iopub.status.idle": "2021-03-11T09:13:40.214377Z",
     "shell.execute_reply": "2021-03-11T09:13:40.214909Z"
    }
   },
   "outputs": [],
   "source": [
    "df = df.append(add, ignore_index=True)"
   ]
  },
  {
   "cell_type": "code",
   "execution_count": 13,
   "metadata": {
    "execution": {
     "iopub.execute_input": "2021-03-11T09:13:40.220087Z",
     "iopub.status.busy": "2021-03-11T09:13:40.218918Z",
     "iopub.status.idle": "2021-03-11T09:13:40.220636Z",
     "shell.execute_reply": "2021-03-11T09:13:40.221023Z"
    }
   },
   "outputs": [],
   "source": [
    "df = df.sort_values(by='location')"
   ]
  },
  {
   "cell_type": "code",
   "execution_count": 14,
   "metadata": {
    "execution": {
     "iopub.execute_input": "2021-03-11T09:13:40.228930Z",
     "iopub.status.busy": "2021-03-11T09:13:40.226302Z",
     "iopub.status.idle": "2021-03-11T09:13:40.230103Z",
     "shell.execute_reply": "2021-03-11T09:13:40.230615Z"
    }
   },
   "outputs": [],
   "source": [
    "df = df[df.location == 'California'].append(df[df.location != 'California']).reset_index(drop=True)"
   ]
  },
  {
   "cell_type": "code",
   "execution_count": null,
   "metadata": {},
   "outputs": [],
   "source": []
  },
  {
   "cell_type": "code",
   "execution_count": 15,
   "metadata": {
    "execution": {
     "iopub.execute_input": "2021-03-11T09:13:40.235231Z",
     "iopub.status.busy": "2021-03-11T09:13:40.234152Z",
     "iopub.status.idle": "2021-03-11T09:13:40.251420Z",
     "shell.execute_reply": "2021-03-11T09:13:40.252000Z"
    }
   },
   "outputs": [],
   "source": [
    "tz = pytz.timezone(\"America/New_York\")"
   ]
  },
  {
   "cell_type": "code",
   "execution_count": 16,
   "metadata": {
    "execution": {
     "iopub.execute_input": "2021-03-11T09:13:40.256639Z",
     "iopub.status.busy": "2021-03-11T09:13:40.255410Z",
     "iopub.status.idle": "2021-03-11T09:13:40.257506Z",
     "shell.execute_reply": "2021-03-11T09:13:40.257921Z"
    }
   },
   "outputs": [],
   "source": [
    "today = datetime.now(tz).date()"
   ]
  },
  {
   "cell_type": "code",
   "execution_count": 17,
   "metadata": {
    "execution": {
     "iopub.execute_input": "2021-03-11T09:13:40.262625Z",
     "iopub.status.busy": "2021-03-11T09:13:40.261283Z",
     "iopub.status.idle": "2021-03-11T09:13:40.263501Z",
     "shell.execute_reply": "2021-03-11T09:13:40.264168Z"
    }
   },
   "outputs": [],
   "source": [
    "data_dir = os.path.join(os.path.abspath(\"\"), \"data\")"
   ]
  },
  {
   "cell_type": "code",
   "execution_count": 18,
   "metadata": {
    "execution": {
     "iopub.execute_input": "2021-03-11T09:13:40.268449Z",
     "iopub.status.busy": "2021-03-11T09:13:40.267607Z",
     "iopub.status.idle": "2021-03-11T09:13:40.273017Z",
     "shell.execute_reply": "2021-03-11T09:13:40.272501Z"
    }
   },
   "outputs": [],
   "source": [
    "df.to_csv(os.path.join(data_dir, f\"{today}.csv\"), index=False)"
   ]
  },
  {
   "cell_type": "code",
   "execution_count": null,
   "metadata": {},
   "outputs": [],
   "source": []
  }
 ],
 "metadata": {
  "kernelspec": {
   "display_name": "Python 3",
   "language": "python",
   "name": "python3"
  },
  "language_info": {
   "codemirror_mode": {
    "name": "ipython",
    "version": 3
   },
   "file_extension": ".py",
   "mimetype": "text/x-python",
   "name": "python",
   "nbconvert_exporter": "python",
   "pygments_lexer": "ipython3",
   "version": "3.8.8"
  }
 },
 "nbformat": 4,
 "nbformat_minor": 4
}
