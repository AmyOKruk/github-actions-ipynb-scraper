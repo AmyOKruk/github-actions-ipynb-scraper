{
 "cells": [
  {
   "cell_type": "markdown",
   "metadata": {},
   "source": [
    "# California COVID vaccinations scrape"
   ]
  },
  {
   "cell_type": "markdown",
   "metadata": {},
   "source": [
    "By [Amy O'Kruk](https://twitter.com/amyokruk)"
   ]
  },
  {
   "cell_type": "markdown",
   "metadata": {},
   "source": [
    "Downloads data on vaccine doses administered by county and statewide from a Tableau-powered dashboard from the California Department of Public Health."
   ]
  },
  {
   "cell_type": "code",
   "execution_count": 1,
   "metadata": {
    "execution": {
     "iopub.execute_input": "2021-03-19T21:11:59.359005Z",
     "iopub.status.busy": "2021-03-19T21:11:59.357972Z",
     "iopub.status.idle": "2021-03-19T21:11:59.734951Z",
     "shell.execute_reply": "2021-03-19T21:11:59.734375Z"
    }
   },
   "outputs": [],
   "source": [
    "import pandas as pd\n",
    "import requests\n",
    "from bs4 import BeautifulSoup\n",
    "import json\n",
    "import re\n",
    "import time\n",
    "from time import gmtime, strftime \n",
    "import os\n",
    "import pytz\n",
    "from datetime import datetime"
   ]
  },
  {
   "cell_type": "markdown",
   "metadata": {},
   "source": [
    "Scrape the dashboard page"
   ]
  },
  {
   "cell_type": "code",
   "execution_count": 2,
   "metadata": {
    "execution": {
     "iopub.execute_input": "2021-03-19T21:11:59.740206Z",
     "iopub.status.busy": "2021-03-19T21:11:59.738479Z",
     "iopub.status.idle": "2021-03-19T21:12:00.911809Z",
     "shell.execute_reply": "2021-03-19T21:12:00.910851Z"
    }
   },
   "outputs": [],
   "source": [
    "url = \"https://public.tableau.com/interactive/views/COVID-19VaccineDashboardPublic/Vaccine?:embed=y&:showVizHome=n&:apiID=host0\"\n",
    "\n",
    "r = requests.get(url)\n",
    "soup = BeautifulSoup(r.text, \"html.parser\")"
   ]
  },
  {
   "cell_type": "code",
   "execution_count": 3,
   "metadata": {
    "execution": {
     "iopub.execute_input": "2021-03-19T21:12:00.916174Z",
     "iopub.status.busy": "2021-03-19T21:12:00.913855Z",
     "iopub.status.idle": "2021-03-19T21:12:00.919024Z",
     "shell.execute_reply": "2021-03-19T21:12:00.918591Z"
    }
   },
   "outputs": [],
   "source": [
    "tableauData = json.loads(soup.find(\"textarea\",{\"id\": \"tsConfigContainer\"}).text)"
   ]
  },
  {
   "cell_type": "markdown",
   "metadata": {},
   "source": [
    "Get the link to the Tableau data"
   ]
  },
  {
   "cell_type": "code",
   "execution_count": 4,
   "metadata": {
    "execution": {
     "iopub.execute_input": "2021-03-19T21:12:00.922585Z",
     "iopub.status.busy": "2021-03-19T21:12:00.922079Z",
     "iopub.status.idle": "2021-03-19T21:12:00.925299Z",
     "shell.execute_reply": "2021-03-19T21:12:00.925701Z"
    }
   },
   "outputs": [],
   "source": [
    "dataUrl = f'https://public.tableau.com{tableauData[\"vizql_root\"]}/bootstrapSession/sessions/{tableauData[\"sessionid\"]}'"
   ]
  },
  {
   "cell_type": "code",
   "execution_count": 5,
   "metadata": {
    "execution": {
     "iopub.execute_input": "2021-03-19T21:12:00.932176Z",
     "iopub.status.busy": "2021-03-19T21:12:00.931161Z",
     "iopub.status.idle": "2021-03-19T21:12:01.160839Z",
     "shell.execute_reply": "2021-03-19T21:12:01.160340Z"
    }
   },
   "outputs": [],
   "source": [
    "r = requests.post(dataUrl, data= {\n",
    "    \"sheet_id\": tableauData[\"sheetId\"],\n",
    "})\n",
    "\n",
    "dataReg = re.search('\\d+;({.*})\\d+;({.*})', r.text, re.MULTILINE)\n",
    "data1 = json.loads(dataReg.group(2))\n",
    "\n",
    "dataJson = data1[\"secondaryInfo\"][\"presModelMap\"][\"dataDictionary\"][\"presModelHolder\"][\"genDataDictionaryPresModel\"][\"dataSegments\"][\"0\"][\"dataColumns\"]"
   ]
  },
  {
   "cell_type": "markdown",
   "metadata": {},
   "source": [
    "Isolate what you want"
   ]
  },
  {
   "cell_type": "code",
   "execution_count": 6,
   "metadata": {
    "execution": {
     "iopub.execute_input": "2021-03-19T21:12:01.164757Z",
     "iopub.status.busy": "2021-03-19T21:12:01.164241Z",
     "iopub.status.idle": "2021-03-19T21:12:01.168258Z",
     "shell.execute_reply": "2021-03-19T21:12:01.167794Z"
    }
   },
   "outputs": [],
   "source": [
    "counties = dataJson[2]['dataValues'][:58]"
   ]
  },
  {
   "cell_type": "code",
   "execution_count": 7,
   "metadata": {
    "execution": {
     "iopub.execute_input": "2021-03-19T21:12:01.172079Z",
     "iopub.status.busy": "2021-03-19T21:12:01.171571Z",
     "iopub.status.idle": "2021-03-19T21:12:01.174983Z",
     "shell.execute_reply": "2021-03-19T21:12:01.174524Z"
    }
   },
   "outputs": [],
   "source": [
    "doses = dataJson[0]['dataValues'][3:61]"
   ]
  },
  {
   "cell_type": "markdown",
   "metadata": {},
   "source": [
    "Data formatting"
   ]
  },
  {
   "cell_type": "code",
   "execution_count": 8,
   "metadata": {
    "execution": {
     "iopub.execute_input": "2021-03-19T21:12:01.178537Z",
     "iopub.status.busy": "2021-03-19T21:12:01.178027Z",
     "iopub.status.idle": "2021-03-19T21:12:01.182381Z",
     "shell.execute_reply": "2021-03-19T21:12:01.181013Z"
    }
   },
   "outputs": [],
   "source": [
    "zipped = dict(zip(counties, doses))"
   ]
  },
  {
   "cell_type": "code",
   "execution_count": 9,
   "metadata": {
    "execution": {
     "iopub.execute_input": "2021-03-19T21:12:01.188075Z",
     "iopub.status.busy": "2021-03-19T21:12:01.187562Z",
     "iopub.status.idle": "2021-03-19T21:12:01.191184Z",
     "shell.execute_reply": "2021-03-19T21:12:01.190665Z"
    }
   },
   "outputs": [],
   "source": [
    "df = pd.Series(zipped).reset_index()"
   ]
  },
  {
   "cell_type": "code",
   "execution_count": 10,
   "metadata": {
    "execution": {
     "iopub.execute_input": "2021-03-19T21:12:01.194960Z",
     "iopub.status.busy": "2021-03-19T21:12:01.194447Z",
     "iopub.status.idle": "2021-03-19T21:12:01.197818Z",
     "shell.execute_reply": "2021-03-19T21:12:01.197365Z"
    }
   },
   "outputs": [],
   "source": [
    "df.columns = ['location','doses']"
   ]
  },
  {
   "cell_type": "markdown",
   "metadata": {},
   "source": [
    "Grab the overall California total"
   ]
  },
  {
   "cell_type": "code",
   "execution_count": 11,
   "metadata": {
    "execution": {
     "iopub.execute_input": "2021-03-19T21:12:01.201513Z",
     "iopub.status.busy": "2021-03-19T21:12:01.200975Z",
     "iopub.status.idle": "2021-03-19T21:12:01.204321Z",
     "shell.execute_reply": "2021-03-19T21:12:01.203872Z"
    }
   },
   "outputs": [],
   "source": [
    "add = {'location':'California','doses':dataJson[0]['dataValues'][2]}"
   ]
  },
  {
   "cell_type": "code",
   "execution_count": 12,
   "metadata": {
    "execution": {
     "iopub.execute_input": "2021-03-19T21:12:01.210564Z",
     "iopub.status.busy": "2021-03-19T21:12:01.210046Z",
     "iopub.status.idle": "2021-03-19T21:12:01.212986Z",
     "shell.execute_reply": "2021-03-19T21:12:01.213615Z"
    }
   },
   "outputs": [],
   "source": [
    "df = df.append(add, ignore_index=True)"
   ]
  },
  {
   "cell_type": "code",
   "execution_count": 13,
   "metadata": {
    "execution": {
     "iopub.execute_input": "2021-03-19T21:12:01.217943Z",
     "iopub.status.busy": "2021-03-19T21:12:01.217430Z",
     "iopub.status.idle": "2021-03-19T21:12:01.220785Z",
     "shell.execute_reply": "2021-03-19T21:12:01.220329Z"
    }
   },
   "outputs": [],
   "source": [
    "df = df.sort_values(by='location')"
   ]
  },
  {
   "cell_type": "code",
   "execution_count": 14,
   "metadata": {
    "execution": {
     "iopub.execute_input": "2021-03-19T21:12:01.226523Z",
     "iopub.status.busy": "2021-03-19T21:12:01.226014Z",
     "iopub.status.idle": "2021-03-19T21:12:01.229415Z",
     "shell.execute_reply": "2021-03-19T21:12:01.228937Z"
    }
   },
   "outputs": [],
   "source": [
    "df = df[df.location == 'California'].append(df[df.location != 'California']).reset_index(drop=True)"
   ]
  },
  {
   "cell_type": "code",
   "execution_count": null,
   "metadata": {},
   "outputs": [],
   "source": []
  },
  {
   "cell_type": "code",
   "execution_count": 15,
   "metadata": {
    "execution": {
     "iopub.execute_input": "2021-03-19T21:12:01.232817Z",
     "iopub.status.busy": "2021-03-19T21:12:01.232311Z",
     "iopub.status.idle": "2021-03-19T21:12:01.250980Z",
     "shell.execute_reply": "2021-03-19T21:12:01.250526Z"
    }
   },
   "outputs": [],
   "source": [
    "tz = pytz.timezone(\"America/New_York\")"
   ]
  },
  {
   "cell_type": "code",
   "execution_count": 16,
   "metadata": {
    "execution": {
     "iopub.execute_input": "2021-03-19T21:12:01.254654Z",
     "iopub.status.busy": "2021-03-19T21:12:01.254138Z",
     "iopub.status.idle": "2021-03-19T21:12:01.257487Z",
     "shell.execute_reply": "2021-03-19T21:12:01.257000Z"
    }
   },
   "outputs": [],
   "source": [
    "today = datetime.now(tz).date()"
   ]
  },
  {
   "cell_type": "code",
   "execution_count": 17,
   "metadata": {
    "execution": {
     "iopub.execute_input": "2021-03-19T21:12:01.261177Z",
     "iopub.status.busy": "2021-03-19T21:12:01.260602Z",
     "iopub.status.idle": "2021-03-19T21:12:01.264021Z",
     "shell.execute_reply": "2021-03-19T21:12:01.263575Z"
    }
   },
   "outputs": [],
   "source": [
    "data_dir = os.path.join(os.path.abspath(\"\"), \"data\")"
   ]
  },
  {
   "cell_type": "code",
   "execution_count": 18,
   "metadata": {
    "execution": {
     "iopub.execute_input": "2021-03-19T21:12:01.269925Z",
     "iopub.status.busy": "2021-03-19T21:12:01.267413Z",
     "iopub.status.idle": "2021-03-19T21:12:01.273056Z",
     "shell.execute_reply": "2021-03-19T21:12:01.272607Z"
    }
   },
   "outputs": [],
   "source": [
    "df.to_csv(os.path.join(data_dir, f\"{today}.csv\"), index=False)"
   ]
  },
  {
   "cell_type": "code",
   "execution_count": null,
   "metadata": {},
   "outputs": [],
   "source": []
  }
 ],
 "metadata": {
  "kernelspec": {
   "display_name": "Python 3",
   "language": "python",
   "name": "python3"
  },
  "language_info": {
   "codemirror_mode": {
    "name": "ipython",
    "version": 3
   },
   "file_extension": ".py",
   "mimetype": "text/x-python",
   "name": "python",
   "nbconvert_exporter": "python",
   "pygments_lexer": "ipython3",
   "version": "3.8.8"
  }
 },
 "nbformat": 4,
 "nbformat_minor": 4
}
