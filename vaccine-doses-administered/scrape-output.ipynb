{
 "cells": [
  {
   "cell_type": "markdown",
   "metadata": {},
   "source": [
    "# California COVID vaccinations scrape"
   ]
  },
  {
   "cell_type": "markdown",
   "metadata": {},
   "source": [
    "By [Amy O'Kruk](https://twitter.com/amyokruk)"
   ]
  },
  {
   "cell_type": "markdown",
   "metadata": {},
   "source": [
    "Downloads data on vaccine doses administered by county and statewide from a Tableau-powered dashboard from the California Department of Public Health."
   ]
  },
  {
   "cell_type": "code",
   "execution_count": 1,
   "metadata": {
    "execution": {
     "iopub.execute_input": "2021-03-16T23:13:21.674008Z",
     "iopub.status.busy": "2021-03-16T23:13:21.673321Z",
     "iopub.status.idle": "2021-03-16T23:13:22.102838Z",
     "shell.execute_reply": "2021-03-16T23:13:22.102220Z"
    }
   },
   "outputs": [],
   "source": [
    "import pandas as pd\n",
    "import requests\n",
    "from bs4 import BeautifulSoup\n",
    "import json\n",
    "import re\n",
    "import time\n",
    "from time import gmtime, strftime \n",
    "import os\n",
    "import pytz\n",
    "from datetime import datetime"
   ]
  },
  {
   "cell_type": "markdown",
   "metadata": {},
   "source": [
    "Scrape the dashboard page"
   ]
  },
  {
   "cell_type": "code",
   "execution_count": 2,
   "metadata": {
    "execution": {
     "iopub.execute_input": "2021-03-16T23:13:22.109032Z",
     "iopub.status.busy": "2021-03-16T23:13:22.106438Z",
     "iopub.status.idle": "2021-03-16T23:13:22.560822Z",
     "shell.execute_reply": "2021-03-16T23:13:22.559890Z"
    }
   },
   "outputs": [],
   "source": [
    "url = \"https://public.tableau.com/interactive/views/COVID-19VaccineDashboardPublic/Vaccine?:embed=y&:showVizHome=n&:apiID=host0\"\n",
    "\n",
    "r = requests.get(url)\n",
    "soup = BeautifulSoup(r.text, \"html.parser\")"
   ]
  },
  {
   "cell_type": "code",
   "execution_count": 3,
   "metadata": {
    "execution": {
     "iopub.execute_input": "2021-03-16T23:13:22.565781Z",
     "iopub.status.busy": "2021-03-16T23:13:22.565181Z",
     "iopub.status.idle": "2021-03-16T23:13:22.569238Z",
     "shell.execute_reply": "2021-03-16T23:13:22.569711Z"
    }
   },
   "outputs": [],
   "source": [
    "tableauData = json.loads(soup.find(\"textarea\",{\"id\": \"tsConfigContainer\"}).text)"
   ]
  },
  {
   "cell_type": "markdown",
   "metadata": {},
   "source": [
    "Get the link to the Tableau data"
   ]
  },
  {
   "cell_type": "code",
   "execution_count": 4,
   "metadata": {
    "execution": {
     "iopub.execute_input": "2021-03-16T23:13:22.573711Z",
     "iopub.status.busy": "2021-03-16T23:13:22.573112Z",
     "iopub.status.idle": "2021-03-16T23:13:22.576653Z",
     "shell.execute_reply": "2021-03-16T23:13:22.577119Z"
    }
   },
   "outputs": [],
   "source": [
    "dataUrl = f'https://public.tableau.com{tableauData[\"vizql_root\"]}/bootstrapSession/sessions/{tableauData[\"sessionid\"]}'"
   ]
  },
  {
   "cell_type": "code",
   "execution_count": 5,
   "metadata": {
    "execution": {
     "iopub.execute_input": "2021-03-16T23:13:22.584408Z",
     "iopub.status.busy": "2021-03-16T23:13:22.581685Z",
     "iopub.status.idle": "2021-03-16T23:13:23.132705Z",
     "shell.execute_reply": "2021-03-16T23:13:23.132146Z"
    }
   },
   "outputs": [],
   "source": [
    "r = requests.post(dataUrl, data= {\n",
    "    \"sheet_id\": tableauData[\"sheetId\"],\n",
    "})\n",
    "\n",
    "dataReg = re.search('\\d+;({.*})\\d+;({.*})', r.text, re.MULTILINE)\n",
    "data1 = json.loads(dataReg.group(2))\n",
    "\n",
    "dataJson = data1[\"secondaryInfo\"][\"presModelMap\"][\"dataDictionary\"][\"presModelHolder\"][\"genDataDictionaryPresModel\"][\"dataSegments\"][\"0\"][\"dataColumns\"]"
   ]
  },
  {
   "cell_type": "markdown",
   "metadata": {},
   "source": [
    "Isolate what you want"
   ]
  },
  {
   "cell_type": "code",
   "execution_count": 6,
   "metadata": {
    "execution": {
     "iopub.execute_input": "2021-03-16T23:13:23.136816Z",
     "iopub.status.busy": "2021-03-16T23:13:23.136211Z",
     "iopub.status.idle": "2021-03-16T23:13:23.139924Z",
     "shell.execute_reply": "2021-03-16T23:13:23.139377Z"
    }
   },
   "outputs": [],
   "source": [
    "counties = dataJson[2]['dataValues'][:58]"
   ]
  },
  {
   "cell_type": "code",
   "execution_count": 7,
   "metadata": {
    "execution": {
     "iopub.execute_input": "2021-03-16T23:13:23.143753Z",
     "iopub.status.busy": "2021-03-16T23:13:23.143169Z",
     "iopub.status.idle": "2021-03-16T23:13:23.147348Z",
     "shell.execute_reply": "2021-03-16T23:13:23.147848Z"
    }
   },
   "outputs": [],
   "source": [
    "doses = dataJson[0]['dataValues'][3:61]"
   ]
  },
  {
   "cell_type": "markdown",
   "metadata": {},
   "source": [
    "Data formatting"
   ]
  },
  {
   "cell_type": "code",
   "execution_count": 8,
   "metadata": {
    "execution": {
     "iopub.execute_input": "2021-03-16T23:13:23.151718Z",
     "iopub.status.busy": "2021-03-16T23:13:23.151139Z",
     "iopub.status.idle": "2021-03-16T23:13:23.154921Z",
     "shell.execute_reply": "2021-03-16T23:13:23.154401Z"
    }
   },
   "outputs": [],
   "source": [
    "zipped = dict(zip(counties, doses))"
   ]
  },
  {
   "cell_type": "code",
   "execution_count": 9,
   "metadata": {
    "execution": {
     "iopub.execute_input": "2021-03-16T23:13:23.160920Z",
     "iopub.status.busy": "2021-03-16T23:13:23.160272Z",
     "iopub.status.idle": "2021-03-16T23:13:23.163776Z",
     "shell.execute_reply": "2021-03-16T23:13:23.164230Z"
    }
   },
   "outputs": [],
   "source": [
    "df = pd.Series(zipped).reset_index()"
   ]
  },
  {
   "cell_type": "code",
   "execution_count": 10,
   "metadata": {
    "execution": {
     "iopub.execute_input": "2021-03-16T23:13:23.168227Z",
     "iopub.status.busy": "2021-03-16T23:13:23.167652Z",
     "iopub.status.idle": "2021-03-16T23:13:23.170934Z",
     "shell.execute_reply": "2021-03-16T23:13:23.171418Z"
    }
   },
   "outputs": [],
   "source": [
    "df.columns = ['location','doses']"
   ]
  },
  {
   "cell_type": "markdown",
   "metadata": {},
   "source": [
    "Grab the overall California total"
   ]
  },
  {
   "cell_type": "code",
   "execution_count": 11,
   "metadata": {
    "execution": {
     "iopub.execute_input": "2021-03-16T23:13:23.175347Z",
     "iopub.status.busy": "2021-03-16T23:13:23.174778Z",
     "iopub.status.idle": "2021-03-16T23:13:23.178578Z",
     "shell.execute_reply": "2021-03-16T23:13:23.178044Z"
    }
   },
   "outputs": [],
   "source": [
    "add = {'location':'California','doses':dataJson[0]['dataValues'][2]}"
   ]
  },
  {
   "cell_type": "code",
   "execution_count": 12,
   "metadata": {
    "execution": {
     "iopub.execute_input": "2021-03-16T23:13:23.185159Z",
     "iopub.status.busy": "2021-03-16T23:13:23.184591Z",
     "iopub.status.idle": "2021-03-16T23:13:23.188357Z",
     "shell.execute_reply": "2021-03-16T23:13:23.187857Z"
    }
   },
   "outputs": [],
   "source": [
    "df = df.append(add, ignore_index=True)"
   ]
  },
  {
   "cell_type": "code",
   "execution_count": 13,
   "metadata": {
    "execution": {
     "iopub.execute_input": "2021-03-16T23:13:23.193312Z",
     "iopub.status.busy": "2021-03-16T23:13:23.192741Z",
     "iopub.status.idle": "2021-03-16T23:13:23.196619Z",
     "shell.execute_reply": "2021-03-16T23:13:23.196119Z"
    }
   },
   "outputs": [],
   "source": [
    "df = df.sort_values(by='location')"
   ]
  },
  {
   "cell_type": "code",
   "execution_count": 14,
   "metadata": {
    "execution": {
     "iopub.execute_input": "2021-03-16T23:13:23.202651Z",
     "iopub.status.busy": "2021-03-16T23:13:23.202052Z",
     "iopub.status.idle": "2021-03-16T23:13:23.205424Z",
     "shell.execute_reply": "2021-03-16T23:13:23.205906Z"
    }
   },
   "outputs": [],
   "source": [
    "df = df[df.location == 'California'].append(df[df.location != 'California']).reset_index(drop=True)"
   ]
  },
  {
   "cell_type": "code",
   "execution_count": null,
   "metadata": {},
   "outputs": [],
   "source": []
  },
  {
   "cell_type": "code",
   "execution_count": 15,
   "metadata": {
    "execution": {
     "iopub.execute_input": "2021-03-16T23:13:23.210139Z",
     "iopub.status.busy": "2021-03-16T23:13:23.209572Z",
     "iopub.status.idle": "2021-03-16T23:13:23.230791Z",
     "shell.execute_reply": "2021-03-16T23:13:23.229766Z"
    }
   },
   "outputs": [],
   "source": [
    "tz = pytz.timezone(\"America/New_York\")"
   ]
  },
  {
   "cell_type": "code",
   "execution_count": 16,
   "metadata": {
    "execution": {
     "iopub.execute_input": "2021-03-16T23:13:23.234266Z",
     "iopub.status.busy": "2021-03-16T23:13:23.233700Z",
     "iopub.status.idle": "2021-03-16T23:13:23.237486Z",
     "shell.execute_reply": "2021-03-16T23:13:23.236977Z"
    }
   },
   "outputs": [],
   "source": [
    "today = datetime.now(tz).date()"
   ]
  },
  {
   "cell_type": "code",
   "execution_count": 17,
   "metadata": {
    "execution": {
     "iopub.execute_input": "2021-03-16T23:13:23.241470Z",
     "iopub.status.busy": "2021-03-16T23:13:23.240903Z",
     "iopub.status.idle": "2021-03-16T23:13:23.244244Z",
     "shell.execute_reply": "2021-03-16T23:13:23.244727Z"
    }
   },
   "outputs": [],
   "source": [
    "data_dir = os.path.join(os.path.abspath(\"\"), \"data\")"
   ]
  },
  {
   "cell_type": "code",
   "execution_count": 18,
   "metadata": {
    "execution": {
     "iopub.execute_input": "2021-03-16T23:13:23.250677Z",
     "iopub.status.busy": "2021-03-16T23:13:23.249189Z",
     "iopub.status.idle": "2021-03-16T23:13:23.254392Z",
     "shell.execute_reply": "2021-03-16T23:13:23.253892Z"
    }
   },
   "outputs": [],
   "source": [
    "df.to_csv(os.path.join(data_dir, f\"{today}.csv\"), index=False)"
   ]
  },
  {
   "cell_type": "code",
   "execution_count": null,
   "metadata": {},
   "outputs": [],
   "source": []
  }
 ],
 "metadata": {
  "kernelspec": {
   "display_name": "Python 3",
   "language": "python",
   "name": "python3"
  },
  "language_info": {
   "codemirror_mode": {
    "name": "ipython",
    "version": 3
   },
   "file_extension": ".py",
   "mimetype": "text/x-python",
   "name": "python",
   "nbconvert_exporter": "python",
   "pygments_lexer": "ipython3",
   "version": "3.8.8"
  }
 },
 "nbformat": 4,
 "nbformat_minor": 4
}
