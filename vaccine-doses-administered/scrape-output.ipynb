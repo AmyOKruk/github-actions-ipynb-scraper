{
 "cells": [
  {
   "cell_type": "markdown",
   "metadata": {},
   "source": [
    "# California COVID vaccinations scrape"
   ]
  },
  {
   "cell_type": "markdown",
   "metadata": {},
   "source": [
    "By [Amy O'Kruk](https://twitter.com/amyokruk)"
   ]
  },
  {
   "cell_type": "markdown",
   "metadata": {},
   "source": [
    "Downloads data on vaccine doses administered by county and statewide from a Tableau-powered dashboard from the California Department of Public Health."
   ]
  },
  {
   "cell_type": "code",
   "execution_count": 1,
   "metadata": {
    "execution": {
     "iopub.execute_input": "2021-03-14T04:15:43.944739Z",
     "iopub.status.busy": "2021-03-14T04:15:43.944073Z",
     "iopub.status.idle": "2021-03-14T04:15:44.360554Z",
     "shell.execute_reply": "2021-03-14T04:15:44.359520Z"
    }
   },
   "outputs": [],
   "source": [
    "import pandas as pd\n",
    "import requests\n",
    "from bs4 import BeautifulSoup\n",
    "import json\n",
    "import re\n",
    "import time\n",
    "from time import gmtime, strftime \n",
    "import os\n",
    "import pytz\n",
    "from datetime import datetime"
   ]
  },
  {
   "cell_type": "markdown",
   "metadata": {},
   "source": [
    "Scrape the dashboard page"
   ]
  },
  {
   "cell_type": "code",
   "execution_count": 2,
   "metadata": {
    "execution": {
     "iopub.execute_input": "2021-03-14T04:15:44.367046Z",
     "iopub.status.busy": "2021-03-14T04:15:44.364377Z",
     "iopub.status.idle": "2021-03-14T04:15:44.791364Z",
     "shell.execute_reply": "2021-03-14T04:15:44.791908Z"
    }
   },
   "outputs": [],
   "source": [
    "url = \"https://public.tableau.com/interactive/views/COVID-19VaccineDashboardPublic/Vaccine?:embed=y&:showVizHome=n&:apiID=host0\"\n",
    "\n",
    "r = requests.get(url)\n",
    "soup = BeautifulSoup(r.text, \"html.parser\")"
   ]
  },
  {
   "cell_type": "code",
   "execution_count": 3,
   "metadata": {
    "execution": {
     "iopub.execute_input": "2021-03-14T04:15:44.797419Z",
     "iopub.status.busy": "2021-03-14T04:15:44.796810Z",
     "iopub.status.idle": "2021-03-14T04:15:44.800252Z",
     "shell.execute_reply": "2021-03-14T04:15:44.800721Z"
    }
   },
   "outputs": [],
   "source": [
    "tableauData = json.loads(soup.find(\"textarea\",{\"id\": \"tsConfigContainer\"}).text)"
   ]
  },
  {
   "cell_type": "markdown",
   "metadata": {},
   "source": [
    "Get the link to the Tableau data"
   ]
  },
  {
   "cell_type": "code",
   "execution_count": 4,
   "metadata": {
    "execution": {
     "iopub.execute_input": "2021-03-14T04:15:44.805614Z",
     "iopub.status.busy": "2021-03-14T04:15:44.804267Z",
     "iopub.status.idle": "2021-03-14T04:15:44.806358Z",
     "shell.execute_reply": "2021-03-14T04:15:44.806915Z"
    }
   },
   "outputs": [],
   "source": [
    "dataUrl = f'https://public.tableau.com{tableauData[\"vizql_root\"]}/bootstrapSession/sessions/{tableauData[\"sessionid\"]}'"
   ]
  },
  {
   "cell_type": "code",
   "execution_count": 5,
   "metadata": {
    "execution": {
     "iopub.execute_input": "2021-03-14T04:15:44.814042Z",
     "iopub.status.busy": "2021-03-14T04:15:44.813439Z",
     "iopub.status.idle": "2021-03-14T04:15:45.035595Z",
     "shell.execute_reply": "2021-03-14T04:15:45.034978Z"
    }
   },
   "outputs": [],
   "source": [
    "r = requests.post(dataUrl, data= {\n",
    "    \"sheet_id\": tableauData[\"sheetId\"],\n",
    "})\n",
    "\n",
    "dataReg = re.search('\\d+;({.*})\\d+;({.*})', r.text, re.MULTILINE)\n",
    "data1 = json.loads(dataReg.group(2))\n",
    "\n",
    "dataJson = data1[\"secondaryInfo\"][\"presModelMap\"][\"dataDictionary\"][\"presModelHolder\"][\"genDataDictionaryPresModel\"][\"dataSegments\"][\"0\"][\"dataColumns\"]"
   ]
  },
  {
   "cell_type": "markdown",
   "metadata": {},
   "source": [
    "Isolate what you want"
   ]
  },
  {
   "cell_type": "code",
   "execution_count": 6,
   "metadata": {
    "execution": {
     "iopub.execute_input": "2021-03-14T04:15:45.040784Z",
     "iopub.status.busy": "2021-03-14T04:15:45.039319Z",
     "iopub.status.idle": "2021-03-14T04:15:45.041435Z",
     "shell.execute_reply": "2021-03-14T04:15:45.041980Z"
    }
   },
   "outputs": [],
   "source": [
    "counties = dataJson[2]['dataValues'][:58]"
   ]
  },
  {
   "cell_type": "code",
   "execution_count": 7,
   "metadata": {
    "execution": {
     "iopub.execute_input": "2021-03-14T04:15:45.046906Z",
     "iopub.status.busy": "2021-03-14T04:15:45.045423Z",
     "iopub.status.idle": "2021-03-14T04:15:45.047551Z",
     "shell.execute_reply": "2021-03-14T04:15:45.048027Z"
    }
   },
   "outputs": [],
   "source": [
    "doses = dataJson[0]['dataValues'][3:61]"
   ]
  },
  {
   "cell_type": "markdown",
   "metadata": {},
   "source": [
    "Data formatting"
   ]
  },
  {
   "cell_type": "code",
   "execution_count": 8,
   "metadata": {
    "execution": {
     "iopub.execute_input": "2021-03-14T04:15:45.055200Z",
     "iopub.status.busy": "2021-03-14T04:15:45.051402Z",
     "iopub.status.idle": "2021-03-14T04:15:45.056027Z",
     "shell.execute_reply": "2021-03-14T04:15:45.056548Z"
    }
   },
   "outputs": [],
   "source": [
    "zipped = dict(zip(counties, doses))"
   ]
  },
  {
   "cell_type": "code",
   "execution_count": 9,
   "metadata": {
    "execution": {
     "iopub.execute_input": "2021-03-14T04:15:45.064356Z",
     "iopub.status.busy": "2021-03-14T04:15:45.063285Z",
     "iopub.status.idle": "2021-03-14T04:15:45.065765Z",
     "shell.execute_reply": "2021-03-14T04:15:45.065272Z"
    }
   },
   "outputs": [],
   "source": [
    "df = pd.Series(zipped).reset_index()"
   ]
  },
  {
   "cell_type": "code",
   "execution_count": 10,
   "metadata": {
    "execution": {
     "iopub.execute_input": "2021-03-14T04:15:45.070668Z",
     "iopub.status.busy": "2021-03-14T04:15:45.069505Z",
     "iopub.status.idle": "2021-03-14T04:15:45.071583Z",
     "shell.execute_reply": "2021-03-14T04:15:45.072093Z"
    }
   },
   "outputs": [],
   "source": [
    "df.columns = ['location','doses']"
   ]
  },
  {
   "cell_type": "markdown",
   "metadata": {},
   "source": [
    "Grab the overall California total"
   ]
  },
  {
   "cell_type": "code",
   "execution_count": 11,
   "metadata": {
    "execution": {
     "iopub.execute_input": "2021-03-14T04:15:45.076932Z",
     "iopub.status.busy": "2021-03-14T04:15:45.075592Z",
     "iopub.status.idle": "2021-03-14T04:15:45.077576Z",
     "shell.execute_reply": "2021-03-14T04:15:45.078071Z"
    }
   },
   "outputs": [],
   "source": [
    "add = {'location':'California','doses':dataJson[0]['dataValues'][2]}"
   ]
  },
  {
   "cell_type": "code",
   "execution_count": 12,
   "metadata": {
    "execution": {
     "iopub.execute_input": "2021-03-14T04:15:45.086734Z",
     "iopub.status.busy": "2021-03-14T04:15:45.085667Z",
     "iopub.status.idle": "2021-03-14T04:15:45.087663Z",
     "shell.execute_reply": "2021-03-14T04:15:45.088188Z"
    }
   },
   "outputs": [],
   "source": [
    "df = df.append(add, ignore_index=True)"
   ]
  },
  {
   "cell_type": "code",
   "execution_count": 13,
   "metadata": {
    "execution": {
     "iopub.execute_input": "2021-03-14T04:15:45.094224Z",
     "iopub.status.busy": "2021-03-14T04:15:45.092887Z",
     "iopub.status.idle": "2021-03-14T04:15:45.094896Z",
     "shell.execute_reply": "2021-03-14T04:15:45.095386Z"
    }
   },
   "outputs": [],
   "source": [
    "df = df.sort_values(by='location')"
   ]
  },
  {
   "cell_type": "code",
   "execution_count": 14,
   "metadata": {
    "execution": {
     "iopub.execute_input": "2021-03-14T04:15:45.102793Z",
     "iopub.status.busy": "2021-03-14T04:15:45.101332Z",
     "iopub.status.idle": "2021-03-14T04:15:45.103438Z",
     "shell.execute_reply": "2021-03-14T04:15:45.103957Z"
    }
   },
   "outputs": [],
   "source": [
    "df = df[df.location == 'California'].append(df[df.location != 'California']).reset_index(drop=True)"
   ]
  },
  {
   "cell_type": "code",
   "execution_count": null,
   "metadata": {},
   "outputs": [],
   "source": []
  },
  {
   "cell_type": "code",
   "execution_count": 15,
   "metadata": {
    "execution": {
     "iopub.execute_input": "2021-03-14T04:15:45.107691Z",
     "iopub.status.busy": "2021-03-14T04:15:45.107109Z",
     "iopub.status.idle": "2021-03-14T04:15:45.126451Z",
     "shell.execute_reply": "2021-03-14T04:15:45.126901Z"
    }
   },
   "outputs": [],
   "source": [
    "tz = pytz.timezone(\"America/New_York\")"
   ]
  },
  {
   "cell_type": "code",
   "execution_count": 16,
   "metadata": {
    "execution": {
     "iopub.execute_input": "2021-03-14T04:15:45.131924Z",
     "iopub.status.busy": "2021-03-14T04:15:45.130387Z",
     "iopub.status.idle": "2021-03-14T04:15:45.132591Z",
     "shell.execute_reply": "2021-03-14T04:15:45.133082Z"
    }
   },
   "outputs": [],
   "source": [
    "today = datetime.now(tz).date()"
   ]
  },
  {
   "cell_type": "code",
   "execution_count": 17,
   "metadata": {
    "execution": {
     "iopub.execute_input": "2021-03-14T04:15:45.137970Z",
     "iopub.status.busy": "2021-03-14T04:15:45.136482Z",
     "iopub.status.idle": "2021-03-14T04:15:45.138721Z",
     "shell.execute_reply": "2021-03-14T04:15:45.139224Z"
    }
   },
   "outputs": [],
   "source": [
    "data_dir = os.path.join(os.path.abspath(\"\"), \"data\")"
   ]
  },
  {
   "cell_type": "code",
   "execution_count": 18,
   "metadata": {
    "execution": {
     "iopub.execute_input": "2021-03-14T04:15:45.143829Z",
     "iopub.status.busy": "2021-03-14T04:15:45.142613Z",
     "iopub.status.idle": "2021-03-14T04:15:45.148891Z",
     "shell.execute_reply": "2021-03-14T04:15:45.148178Z"
    }
   },
   "outputs": [],
   "source": [
    "df.to_csv(os.path.join(data_dir, f\"{today}.csv\"), index=False)"
   ]
  },
  {
   "cell_type": "code",
   "execution_count": null,
   "metadata": {},
   "outputs": [],
   "source": []
  }
 ],
 "metadata": {
  "kernelspec": {
   "display_name": "Python 3",
   "language": "python",
   "name": "python3"
  },
  "language_info": {
   "codemirror_mode": {
    "name": "ipython",
    "version": 3
   },
   "file_extension": ".py",
   "mimetype": "text/x-python",
   "name": "python",
   "nbconvert_exporter": "python",
   "pygments_lexer": "ipython3",
   "version": "3.8.8"
  }
 },
 "nbformat": 4,
 "nbformat_minor": 4
}
