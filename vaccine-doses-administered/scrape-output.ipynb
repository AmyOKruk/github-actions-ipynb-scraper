{
 "cells": [
  {
   "cell_type": "markdown",
   "metadata": {},
   "source": [
    "# California COVID vaccinations scrape"
   ]
  },
  {
   "cell_type": "markdown",
   "metadata": {},
   "source": [
    "By [Amy O'Kruk](https://twitter.com/amyokruk)"
   ]
  },
  {
   "cell_type": "markdown",
   "metadata": {},
   "source": [
    "Downloads data on vaccine doses administered by county and statewide from a Tableau-powered dashboard from the California Department of Public Health."
   ]
  },
  {
   "cell_type": "code",
   "execution_count": 1,
   "metadata": {
    "execution": {
     "iopub.execute_input": "2021-03-09T12:53:56.308466Z",
     "iopub.status.busy": "2021-03-09T12:53:56.307769Z",
     "iopub.status.idle": "2021-03-09T12:53:56.672955Z",
     "shell.execute_reply": "2021-03-09T12:53:56.672151Z"
    }
   },
   "outputs": [],
   "source": [
    "import pandas as pd\n",
    "import requests\n",
    "from bs4 import BeautifulSoup\n",
    "import json\n",
    "import re\n",
    "import time\n",
    "from time import gmtime, strftime \n",
    "import os\n",
    "import pytz\n",
    "from datetime import datetime"
   ]
  },
  {
   "cell_type": "markdown",
   "metadata": {},
   "source": [
    "Scrape the dashboard page"
   ]
  },
  {
   "cell_type": "code",
   "execution_count": 2,
   "metadata": {
    "execution": {
     "iopub.execute_input": "2021-03-09T12:53:56.679190Z",
     "iopub.status.busy": "2021-03-09T12:53:56.676804Z",
     "iopub.status.idle": "2021-03-09T12:53:57.061035Z",
     "shell.execute_reply": "2021-03-09T12:53:57.060565Z"
    }
   },
   "outputs": [],
   "source": [
    "url = \"https://public.tableau.com/interactive/views/COVID-19VaccineDashboardPublic/Vaccine?:embed=y&:showVizHome=n&:apiID=host0\"\n",
    "\n",
    "r = requests.get(url)\n",
    "soup = BeautifulSoup(r.text, \"html.parser\")"
   ]
  },
  {
   "cell_type": "code",
   "execution_count": 3,
   "metadata": {
    "execution": {
     "iopub.execute_input": "2021-03-09T12:53:57.067447Z",
     "iopub.status.busy": "2021-03-09T12:53:57.065936Z",
     "iopub.status.idle": "2021-03-09T12:53:57.068120Z",
     "shell.execute_reply": "2021-03-09T12:53:57.068549Z"
    }
   },
   "outputs": [],
   "source": [
    "tableauData = json.loads(soup.find(\"textarea\",{\"id\": \"tsConfigContainer\"}).text)"
   ]
  },
  {
   "cell_type": "markdown",
   "metadata": {},
   "source": [
    "Get the link to the Tableau data"
   ]
  },
  {
   "cell_type": "code",
   "execution_count": 4,
   "metadata": {
    "execution": {
     "iopub.execute_input": "2021-03-09T12:53:57.073353Z",
     "iopub.status.busy": "2021-03-09T12:53:57.072173Z",
     "iopub.status.idle": "2021-03-09T12:53:57.074473Z",
     "shell.execute_reply": "2021-03-09T12:53:57.074913Z"
    }
   },
   "outputs": [],
   "source": [
    "dataUrl = f'https://public.tableau.com{tableauData[\"vizql_root\"]}/bootstrapSession/sessions/{tableauData[\"sessionid\"]}'"
   ]
  },
  {
   "cell_type": "code",
   "execution_count": 5,
   "metadata": {
    "execution": {
     "iopub.execute_input": "2021-03-09T12:53:57.081719Z",
     "iopub.status.busy": "2021-03-09T12:53:57.081190Z",
     "iopub.status.idle": "2021-03-09T12:53:57.310046Z",
     "shell.execute_reply": "2021-03-09T12:53:57.309404Z"
    }
   },
   "outputs": [],
   "source": [
    "r = requests.post(dataUrl, data= {\n",
    "    \"sheet_id\": tableauData[\"sheetId\"],\n",
    "})\n",
    "\n",
    "dataReg = re.search('\\d+;({.*})\\d+;({.*})', r.text, re.MULTILINE)\n",
    "data1 = json.loads(dataReg.group(2))\n",
    "\n",
    "dataJson = data1[\"secondaryInfo\"][\"presModelMap\"][\"dataDictionary\"][\"presModelHolder\"][\"genDataDictionaryPresModel\"][\"dataSegments\"][\"0\"][\"dataColumns\"]"
   ]
  },
  {
   "cell_type": "markdown",
   "metadata": {},
   "source": [
    "Isolate what you want"
   ]
  },
  {
   "cell_type": "code",
   "execution_count": 6,
   "metadata": {
    "execution": {
     "iopub.execute_input": "2021-03-09T12:53:57.315799Z",
     "iopub.status.busy": "2021-03-09T12:53:57.314135Z",
     "iopub.status.idle": "2021-03-09T12:53:57.316383Z",
     "shell.execute_reply": "2021-03-09T12:53:57.316815Z"
    }
   },
   "outputs": [],
   "source": [
    "counties = dataJson[2]['dataValues'][:58]"
   ]
  },
  {
   "cell_type": "code",
   "execution_count": 7,
   "metadata": {
    "execution": {
     "iopub.execute_input": "2021-03-09T12:53:57.321006Z",
     "iopub.status.busy": "2021-03-09T12:53:57.320323Z",
     "iopub.status.idle": "2021-03-09T12:53:57.322834Z",
     "shell.execute_reply": "2021-03-09T12:53:57.322139Z"
    }
   },
   "outputs": [],
   "source": [
    "doses = dataJson[0]['dataValues'][3:61]"
   ]
  },
  {
   "cell_type": "markdown",
   "metadata": {},
   "source": [
    "Data formatting"
   ]
  },
  {
   "cell_type": "code",
   "execution_count": 8,
   "metadata": {
    "execution": {
     "iopub.execute_input": "2021-03-09T12:53:57.328561Z",
     "iopub.status.busy": "2021-03-09T12:53:57.327324Z",
     "iopub.status.idle": "2021-03-09T12:53:57.329172Z",
     "shell.execute_reply": "2021-03-09T12:53:57.329655Z"
    }
   },
   "outputs": [],
   "source": [
    "zipped = dict(zip(counties, doses))"
   ]
  },
  {
   "cell_type": "code",
   "execution_count": 9,
   "metadata": {
    "execution": {
     "iopub.execute_input": "2021-03-09T12:53:57.337247Z",
     "iopub.status.busy": "2021-03-09T12:53:57.336042Z",
     "iopub.status.idle": "2021-03-09T12:53:57.337891Z",
     "shell.execute_reply": "2021-03-09T12:53:57.338352Z"
    }
   },
   "outputs": [],
   "source": [
    "df = pd.Series(zipped).reset_index()"
   ]
  },
  {
   "cell_type": "code",
   "execution_count": 10,
   "metadata": {
    "execution": {
     "iopub.execute_input": "2021-03-09T12:53:57.343235Z",
     "iopub.status.busy": "2021-03-09T12:53:57.342015Z",
     "iopub.status.idle": "2021-03-09T12:53:57.344151Z",
     "shell.execute_reply": "2021-03-09T12:53:57.344587Z"
    }
   },
   "outputs": [],
   "source": [
    "df.columns = ['location','doses']"
   ]
  },
  {
   "cell_type": "markdown",
   "metadata": {},
   "source": [
    "Grab the overall California total"
   ]
  },
  {
   "cell_type": "code",
   "execution_count": 11,
   "metadata": {
    "execution": {
     "iopub.execute_input": "2021-03-09T12:53:57.350017Z",
     "iopub.status.busy": "2021-03-09T12:53:57.348735Z",
     "iopub.status.idle": "2021-03-09T12:53:57.350689Z",
     "shell.execute_reply": "2021-03-09T12:53:57.351144Z"
    }
   },
   "outputs": [],
   "source": [
    "add = {'location':'California','doses':dataJson[0]['dataValues'][2]}"
   ]
  },
  {
   "cell_type": "code",
   "execution_count": 12,
   "metadata": {
    "execution": {
     "iopub.execute_input": "2021-03-09T12:53:57.358433Z",
     "iopub.status.busy": "2021-03-09T12:53:57.357445Z",
     "iopub.status.idle": "2021-03-09T12:53:57.359282Z",
     "shell.execute_reply": "2021-03-09T12:53:57.359777Z"
    }
   },
   "outputs": [],
   "source": [
    "df = df.append(add, ignore_index=True)"
   ]
  },
  {
   "cell_type": "code",
   "execution_count": 13,
   "metadata": {
    "execution": {
     "iopub.execute_input": "2021-03-09T12:53:57.365336Z",
     "iopub.status.busy": "2021-03-09T12:53:57.364034Z",
     "iopub.status.idle": "2021-03-09T12:53:57.366173Z",
     "shell.execute_reply": "2021-03-09T12:53:57.366666Z"
    }
   },
   "outputs": [],
   "source": [
    "df = df.sort_values(by='location')"
   ]
  },
  {
   "cell_type": "code",
   "execution_count": 14,
   "metadata": {
    "execution": {
     "iopub.execute_input": "2021-03-09T12:53:57.376092Z",
     "iopub.status.busy": "2021-03-09T12:53:57.374925Z",
     "iopub.status.idle": "2021-03-09T12:53:57.377663Z",
     "shell.execute_reply": "2021-03-09T12:53:57.377200Z"
    }
   },
   "outputs": [],
   "source": [
    "df = df[df.location == 'California'].append(df[df.location != 'California']).reset_index(drop=True)"
   ]
  },
  {
   "cell_type": "code",
   "execution_count": null,
   "metadata": {},
   "outputs": [],
   "source": []
  },
  {
   "cell_type": "code",
   "execution_count": 15,
   "metadata": {
    "execution": {
     "iopub.execute_input": "2021-03-09T12:53:57.381267Z",
     "iopub.status.busy": "2021-03-09T12:53:57.380655Z",
     "iopub.status.idle": "2021-03-09T12:53:57.398746Z",
     "shell.execute_reply": "2021-03-09T12:53:57.399136Z"
    }
   },
   "outputs": [],
   "source": [
    "tz = pytz.timezone(\"America/New_York\")"
   ]
  },
  {
   "cell_type": "code",
   "execution_count": 16,
   "metadata": {
    "execution": {
     "iopub.execute_input": "2021-03-09T12:53:57.403804Z",
     "iopub.status.busy": "2021-03-09T12:53:57.402300Z",
     "iopub.status.idle": "2021-03-09T12:53:57.404649Z",
     "shell.execute_reply": "2021-03-09T12:53:57.405181Z"
    }
   },
   "outputs": [],
   "source": [
    "today = datetime.now(tz).date()"
   ]
  },
  {
   "cell_type": "code",
   "execution_count": 17,
   "metadata": {
    "execution": {
     "iopub.execute_input": "2021-03-09T12:53:57.411119Z",
     "iopub.status.busy": "2021-03-09T12:53:57.409375Z",
     "iopub.status.idle": "2021-03-09T12:53:57.411740Z",
     "shell.execute_reply": "2021-03-09T12:53:57.412298Z"
    }
   },
   "outputs": [],
   "source": [
    "data_dir = os.path.join(os.path.abspath(\"\"), \"data\")"
   ]
  },
  {
   "cell_type": "code",
   "execution_count": 18,
   "metadata": {
    "execution": {
     "iopub.execute_input": "2021-03-09T12:53:57.417503Z",
     "iopub.status.busy": "2021-03-09T12:53:57.416190Z",
     "iopub.status.idle": "2021-03-09T12:53:57.420664Z",
     "shell.execute_reply": "2021-03-09T12:53:57.421075Z"
    }
   },
   "outputs": [],
   "source": [
    "df.to_csv(os.path.join(data_dir, f\"{today}.csv\"), index=False)"
   ]
  },
  {
   "cell_type": "code",
   "execution_count": null,
   "metadata": {},
   "outputs": [],
   "source": []
  }
 ],
 "metadata": {
  "kernelspec": {
   "display_name": "Python 3",
   "language": "python",
   "name": "python3"
  },
  "language_info": {
   "codemirror_mode": {
    "name": "ipython",
    "version": 3
   },
   "file_extension": ".py",
   "mimetype": "text/x-python",
   "name": "python",
   "nbconvert_exporter": "python",
   "pygments_lexer": "ipython3",
   "version": "3.8.8"
  }
 },
 "nbformat": 4,
 "nbformat_minor": 4
}
