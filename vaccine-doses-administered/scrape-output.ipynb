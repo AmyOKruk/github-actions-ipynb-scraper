{
 "cells": [
  {
   "cell_type": "markdown",
   "metadata": {},
   "source": [
    "# California COVID vaccinations scrape"
   ]
  },
  {
   "cell_type": "markdown",
   "metadata": {},
   "source": [
    "By [Amy O'Kruk](https://twitter.com/amyokruk)"
   ]
  },
  {
   "cell_type": "markdown",
   "metadata": {},
   "source": [
    "Downloads data on vaccine doses administered by county and statewide from a Tableau-powered dashboard from the California Department of Public Health."
   ]
  },
  {
   "cell_type": "code",
   "execution_count": 1,
   "metadata": {
    "execution": {
     "iopub.execute_input": "2021-03-13T22:13:26.263282Z",
     "iopub.status.busy": "2021-03-13T22:13:26.262700Z",
     "iopub.status.idle": "2021-03-13T22:13:26.616451Z",
     "shell.execute_reply": "2021-03-13T22:13:26.615345Z"
    }
   },
   "outputs": [],
   "source": [
    "import pandas as pd\n",
    "import requests\n",
    "from bs4 import BeautifulSoup\n",
    "import json\n",
    "import re\n",
    "import time\n",
    "from time import gmtime, strftime \n",
    "import os\n",
    "import pytz\n",
    "from datetime import datetime"
   ]
  },
  {
   "cell_type": "markdown",
   "metadata": {},
   "source": [
    "Scrape the dashboard page"
   ]
  },
  {
   "cell_type": "code",
   "execution_count": 2,
   "metadata": {
    "execution": {
     "iopub.execute_input": "2021-03-13T22:13:26.622055Z",
     "iopub.status.busy": "2021-03-13T22:13:26.620027Z",
     "iopub.status.idle": "2021-03-13T22:13:43.316384Z",
     "shell.execute_reply": "2021-03-13T22:13:43.315338Z"
    }
   },
   "outputs": [],
   "source": [
    "url = \"https://public.tableau.com/interactive/views/COVID-19VaccineDashboardPublic/Vaccine?:embed=y&:showVizHome=n&:apiID=host0\"\n",
    "\n",
    "r = requests.get(url)\n",
    "soup = BeautifulSoup(r.text, \"html.parser\")"
   ]
  },
  {
   "cell_type": "code",
   "execution_count": 3,
   "metadata": {
    "execution": {
     "iopub.execute_input": "2021-03-13T22:13:43.321376Z",
     "iopub.status.busy": "2021-03-13T22:13:43.320296Z",
     "iopub.status.idle": "2021-03-13T22:13:43.322025Z",
     "shell.execute_reply": "2021-03-13T22:13:43.322425Z"
    }
   },
   "outputs": [],
   "source": [
    "tableauData = json.loads(soup.find(\"textarea\",{\"id\": \"tsConfigContainer\"}).text)"
   ]
  },
  {
   "cell_type": "markdown",
   "metadata": {},
   "source": [
    "Get the link to the Tableau data"
   ]
  },
  {
   "cell_type": "code",
   "execution_count": 4,
   "metadata": {
    "execution": {
     "iopub.execute_input": "2021-03-13T22:13:43.326272Z",
     "iopub.status.busy": "2021-03-13T22:13:43.325369Z",
     "iopub.status.idle": "2021-03-13T22:13:43.327042Z",
     "shell.execute_reply": "2021-03-13T22:13:43.327467Z"
    }
   },
   "outputs": [],
   "source": [
    "dataUrl = f'https://public.tableau.com{tableauData[\"vizql_root\"]}/bootstrapSession/sessions/{tableauData[\"sessionid\"]}'"
   ]
  },
  {
   "cell_type": "code",
   "execution_count": 5,
   "metadata": {
    "execution": {
     "iopub.execute_input": "2021-03-13T22:13:43.333170Z",
     "iopub.status.busy": "2021-03-13T22:13:43.332673Z",
     "iopub.status.idle": "2021-03-13T22:13:43.523167Z",
     "shell.execute_reply": "2021-03-13T22:13:43.522347Z"
    }
   },
   "outputs": [],
   "source": [
    "r = requests.post(dataUrl, data= {\n",
    "    \"sheet_id\": tableauData[\"sheetId\"],\n",
    "})\n",
    "\n",
    "dataReg = re.search('\\d+;({.*})\\d+;({.*})', r.text, re.MULTILINE)\n",
    "data1 = json.loads(dataReg.group(2))\n",
    "\n",
    "dataJson = data1[\"secondaryInfo\"][\"presModelMap\"][\"dataDictionary\"][\"presModelHolder\"][\"genDataDictionaryPresModel\"][\"dataSegments\"][\"0\"][\"dataColumns\"]"
   ]
  },
  {
   "cell_type": "markdown",
   "metadata": {},
   "source": [
    "Isolate what you want"
   ]
  },
  {
   "cell_type": "code",
   "execution_count": 6,
   "metadata": {
    "execution": {
     "iopub.execute_input": "2021-03-13T22:13:43.528930Z",
     "iopub.status.busy": "2021-03-13T22:13:43.527943Z",
     "iopub.status.idle": "2021-03-13T22:13:43.529869Z",
     "shell.execute_reply": "2021-03-13T22:13:43.529406Z"
    }
   },
   "outputs": [],
   "source": [
    "counties = dataJson[2]['dataValues'][:58]"
   ]
  },
  {
   "cell_type": "code",
   "execution_count": 7,
   "metadata": {
    "execution": {
     "iopub.execute_input": "2021-03-13T22:13:43.533847Z",
     "iopub.status.busy": "2021-03-13T22:13:43.532732Z",
     "iopub.status.idle": "2021-03-13T22:13:43.534417Z",
     "shell.execute_reply": "2021-03-13T22:13:43.534820Z"
    }
   },
   "outputs": [],
   "source": [
    "doses = dataJson[0]['dataValues'][3:61]"
   ]
  },
  {
   "cell_type": "markdown",
   "metadata": {},
   "source": [
    "Data formatting"
   ]
  },
  {
   "cell_type": "code",
   "execution_count": 8,
   "metadata": {
    "execution": {
     "iopub.execute_input": "2021-03-13T22:13:43.538981Z",
     "iopub.status.busy": "2021-03-13T22:13:43.537780Z",
     "iopub.status.idle": "2021-03-13T22:13:43.539586Z",
     "shell.execute_reply": "2021-03-13T22:13:43.539982Z"
    }
   },
   "outputs": [],
   "source": [
    "zipped = dict(zip(counties, doses))"
   ]
  },
  {
   "cell_type": "code",
   "execution_count": 9,
   "metadata": {
    "execution": {
     "iopub.execute_input": "2021-03-13T22:13:43.546018Z",
     "iopub.status.busy": "2021-03-13T22:13:43.544861Z",
     "iopub.status.idle": "2021-03-13T22:13:43.546725Z",
     "shell.execute_reply": "2021-03-13T22:13:43.547156Z"
    }
   },
   "outputs": [],
   "source": [
    "df = pd.Series(zipped).reset_index()"
   ]
  },
  {
   "cell_type": "code",
   "execution_count": 10,
   "metadata": {
    "execution": {
     "iopub.execute_input": "2021-03-13T22:13:43.551018Z",
     "iopub.status.busy": "2021-03-13T22:13:43.550185Z",
     "iopub.status.idle": "2021-03-13T22:13:43.551868Z",
     "shell.execute_reply": "2021-03-13T22:13:43.552264Z"
    }
   },
   "outputs": [],
   "source": [
    "df.columns = ['location','doses']"
   ]
  },
  {
   "cell_type": "markdown",
   "metadata": {},
   "source": [
    "Grab the overall California total"
   ]
  },
  {
   "cell_type": "code",
   "execution_count": 11,
   "metadata": {
    "execution": {
     "iopub.execute_input": "2021-03-13T22:13:43.556125Z",
     "iopub.status.busy": "2021-03-13T22:13:43.555189Z",
     "iopub.status.idle": "2021-03-13T22:13:43.556802Z",
     "shell.execute_reply": "2021-03-13T22:13:43.557195Z"
    }
   },
   "outputs": [],
   "source": [
    "add = {'location':'California','doses':dataJson[0]['dataValues'][2]}"
   ]
  },
  {
   "cell_type": "code",
   "execution_count": 12,
   "metadata": {
    "execution": {
     "iopub.execute_input": "2021-03-13T22:13:43.563599Z",
     "iopub.status.busy": "2021-03-13T22:13:43.562564Z",
     "iopub.status.idle": "2021-03-13T22:13:43.564250Z",
     "shell.execute_reply": "2021-03-13T22:13:43.564646Z"
    }
   },
   "outputs": [],
   "source": [
    "df = df.append(add, ignore_index=True)"
   ]
  },
  {
   "cell_type": "code",
   "execution_count": 13,
   "metadata": {
    "execution": {
     "iopub.execute_input": "2021-03-13T22:13:43.569122Z",
     "iopub.status.busy": "2021-03-13T22:13:43.568193Z",
     "iopub.status.idle": "2021-03-13T22:13:43.569905Z",
     "shell.execute_reply": "2021-03-13T22:13:43.570306Z"
    }
   },
   "outputs": [],
   "source": [
    "df = df.sort_values(by='location')"
   ]
  },
  {
   "cell_type": "code",
   "execution_count": 14,
   "metadata": {
    "execution": {
     "iopub.execute_input": "2021-03-13T22:13:43.575861Z",
     "iopub.status.busy": "2021-03-13T22:13:43.575023Z",
     "iopub.status.idle": "2021-03-13T22:13:43.576778Z",
     "shell.execute_reply": "2021-03-13T22:13:43.577208Z"
    }
   },
   "outputs": [],
   "source": [
    "df = df[df.location == 'California'].append(df[df.location != 'California']).reset_index(drop=True)"
   ]
  },
  {
   "cell_type": "code",
   "execution_count": null,
   "metadata": {},
   "outputs": [],
   "source": []
  },
  {
   "cell_type": "code",
   "execution_count": 15,
   "metadata": {
    "execution": {
     "iopub.execute_input": "2021-03-13T22:13:43.580276Z",
     "iopub.status.busy": "2021-03-13T22:13:43.579803Z",
     "iopub.status.idle": "2021-03-13T22:13:43.595827Z",
     "shell.execute_reply": "2021-03-13T22:13:43.595387Z"
    }
   },
   "outputs": [],
   "source": [
    "tz = pytz.timezone(\"America/New_York\")"
   ]
  },
  {
   "cell_type": "code",
   "execution_count": 16,
   "metadata": {
    "execution": {
     "iopub.execute_input": "2021-03-13T22:13:43.599580Z",
     "iopub.status.busy": "2021-03-13T22:13:43.598659Z",
     "iopub.status.idle": "2021-03-13T22:13:43.600366Z",
     "shell.execute_reply": "2021-03-13T22:13:43.600764Z"
    }
   },
   "outputs": [],
   "source": [
    "today = datetime.now(tz).date()"
   ]
  },
  {
   "cell_type": "code",
   "execution_count": 17,
   "metadata": {
    "execution": {
     "iopub.execute_input": "2021-03-13T22:13:43.604652Z",
     "iopub.status.busy": "2021-03-13T22:13:43.603609Z",
     "iopub.status.idle": "2021-03-13T22:13:43.605294Z",
     "shell.execute_reply": "2021-03-13T22:13:43.605722Z"
    }
   },
   "outputs": [],
   "source": [
    "data_dir = os.path.join(os.path.abspath(\"\"), \"data\")"
   ]
  },
  {
   "cell_type": "code",
   "execution_count": 18,
   "metadata": {
    "execution": {
     "iopub.execute_input": "2021-03-13T22:13:43.609718Z",
     "iopub.status.busy": "2021-03-13T22:13:43.608692Z",
     "iopub.status.idle": "2021-03-13T22:13:43.613086Z",
     "shell.execute_reply": "2021-03-13T22:13:43.612615Z"
    }
   },
   "outputs": [],
   "source": [
    "df.to_csv(os.path.join(data_dir, f\"{today}.csv\"), index=False)"
   ]
  },
  {
   "cell_type": "code",
   "execution_count": null,
   "metadata": {},
   "outputs": [],
   "source": []
  }
 ],
 "metadata": {
  "kernelspec": {
   "display_name": "Python 3",
   "language": "python",
   "name": "python3"
  },
  "language_info": {
   "codemirror_mode": {
    "name": "ipython",
    "version": 3
   },
   "file_extension": ".py",
   "mimetype": "text/x-python",
   "name": "python",
   "nbconvert_exporter": "python",
   "pygments_lexer": "ipython3",
   "version": "3.8.8"
  }
 },
 "nbformat": 4,
 "nbformat_minor": 4
}
