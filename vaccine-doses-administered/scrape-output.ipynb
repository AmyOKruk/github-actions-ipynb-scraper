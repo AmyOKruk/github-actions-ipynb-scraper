{
 "cells": [
  {
   "cell_type": "markdown",
   "metadata": {},
   "source": [
    "# California COVID vaccinations scrape"
   ]
  },
  {
   "cell_type": "markdown",
   "metadata": {},
   "source": [
    "By [Amy O'Kruk](https://twitter.com/amyokruk)"
   ]
  },
  {
   "cell_type": "markdown",
   "metadata": {},
   "source": [
    "Downloads data on vaccine doses administered by county and statewide from a Tableau-powered dashboard from the California Department of Public Health."
   ]
  },
  {
   "cell_type": "code",
   "execution_count": 1,
   "metadata": {
    "execution": {
     "iopub.execute_input": "2021-03-17T14:42:00.339496Z",
     "iopub.status.busy": "2021-03-17T14:42:00.331641Z",
     "iopub.status.idle": "2021-03-17T14:42:00.813446Z",
     "shell.execute_reply": "2021-03-17T14:42:00.813928Z"
    }
   },
   "outputs": [],
   "source": [
    "import pandas as pd\n",
    "import requests\n",
    "from bs4 import BeautifulSoup\n",
    "import json\n",
    "import re\n",
    "import time\n",
    "from time import gmtime, strftime \n",
    "import os\n",
    "import pytz\n",
    "from datetime import datetime"
   ]
  },
  {
   "cell_type": "markdown",
   "metadata": {},
   "source": [
    "Scrape the dashboard page"
   ]
  },
  {
   "cell_type": "code",
   "execution_count": 2,
   "metadata": {
    "execution": {
     "iopub.execute_input": "2021-03-17T14:42:00.821409Z",
     "iopub.status.busy": "2021-03-17T14:42:00.818531Z",
     "iopub.status.idle": "2021-03-17T14:42:01.217548Z",
     "shell.execute_reply": "2021-03-17T14:42:01.215410Z"
    }
   },
   "outputs": [],
   "source": [
    "url = \"https://public.tableau.com/interactive/views/COVID-19VaccineDashboardPublic/Vaccine?:embed=y&:showVizHome=n&:apiID=host0\"\n",
    "\n",
    "r = requests.get(url)\n",
    "soup = BeautifulSoup(r.text, \"html.parser\")"
   ]
  },
  {
   "cell_type": "code",
   "execution_count": 3,
   "metadata": {
    "execution": {
     "iopub.execute_input": "2021-03-17T14:42:01.224946Z",
     "iopub.status.busy": "2021-03-17T14:42:01.224301Z",
     "iopub.status.idle": "2021-03-17T14:42:01.230343Z",
     "shell.execute_reply": "2021-03-17T14:42:01.229762Z"
    }
   },
   "outputs": [],
   "source": [
    "tableauData = json.loads(soup.find(\"textarea\",{\"id\": \"tsConfigContainer\"}).text)"
   ]
  },
  {
   "cell_type": "markdown",
   "metadata": {},
   "source": [
    "Get the link to the Tableau data"
   ]
  },
  {
   "cell_type": "code",
   "execution_count": 4,
   "metadata": {
    "execution": {
     "iopub.execute_input": "2021-03-17T14:42:01.236366Z",
     "iopub.status.busy": "2021-03-17T14:42:01.234921Z",
     "iopub.status.idle": "2021-03-17T14:42:01.237045Z",
     "shell.execute_reply": "2021-03-17T14:42:01.237565Z"
    }
   },
   "outputs": [],
   "source": [
    "dataUrl = f'https://public.tableau.com{tableauData[\"vizql_root\"]}/bootstrapSession/sessions/{tableauData[\"sessionid\"]}'"
   ]
  },
  {
   "cell_type": "code",
   "execution_count": 5,
   "metadata": {
    "execution": {
     "iopub.execute_input": "2021-03-17T14:42:01.245154Z",
     "iopub.status.busy": "2021-03-17T14:42:01.244537Z",
     "iopub.status.idle": "2021-03-17T14:42:01.793196Z",
     "shell.execute_reply": "2021-03-17T14:42:01.794221Z"
    }
   },
   "outputs": [],
   "source": [
    "r = requests.post(dataUrl, data= {\n",
    "    \"sheet_id\": tableauData[\"sheetId\"],\n",
    "})\n",
    "\n",
    "dataReg = re.search('\\d+;({.*})\\d+;({.*})', r.text, re.MULTILINE)\n",
    "data1 = json.loads(dataReg.group(2))\n",
    "\n",
    "dataJson = data1[\"secondaryInfo\"][\"presModelMap\"][\"dataDictionary\"][\"presModelHolder\"][\"genDataDictionaryPresModel\"][\"dataSegments\"][\"0\"][\"dataColumns\"]"
   ]
  },
  {
   "cell_type": "markdown",
   "metadata": {},
   "source": [
    "Isolate what you want"
   ]
  },
  {
   "cell_type": "code",
   "execution_count": 6,
   "metadata": {
    "execution": {
     "iopub.execute_input": "2021-03-17T14:42:01.806358Z",
     "iopub.status.busy": "2021-03-17T14:42:01.803817Z",
     "iopub.status.idle": "2021-03-17T14:42:01.807142Z",
     "shell.execute_reply": "2021-03-17T14:42:01.807638Z"
    }
   },
   "outputs": [],
   "source": [
    "counties = dataJson[2]['dataValues'][:58]"
   ]
  },
  {
   "cell_type": "code",
   "execution_count": 7,
   "metadata": {
    "execution": {
     "iopub.execute_input": "2021-03-17T14:42:01.813488Z",
     "iopub.status.busy": "2021-03-17T14:42:01.812062Z",
     "iopub.status.idle": "2021-03-17T14:42:01.814251Z",
     "shell.execute_reply": "2021-03-17T14:42:01.814754Z"
    }
   },
   "outputs": [],
   "source": [
    "doses = dataJson[0]['dataValues'][3:61]"
   ]
  },
  {
   "cell_type": "markdown",
   "metadata": {},
   "source": [
    "Data formatting"
   ]
  },
  {
   "cell_type": "code",
   "execution_count": 8,
   "metadata": {
    "execution": {
     "iopub.execute_input": "2021-03-17T14:42:01.822148Z",
     "iopub.status.busy": "2021-03-17T14:42:01.821257Z",
     "iopub.status.idle": "2021-03-17T14:42:01.823096Z",
     "shell.execute_reply": "2021-03-17T14:42:01.823589Z"
    }
   },
   "outputs": [],
   "source": [
    "zipped = dict(zip(counties, doses))"
   ]
  },
  {
   "cell_type": "code",
   "execution_count": 9,
   "metadata": {
    "execution": {
     "iopub.execute_input": "2021-03-17T14:42:01.832295Z",
     "iopub.status.busy": "2021-03-17T14:42:01.830897Z",
     "iopub.status.idle": "2021-03-17T14:42:01.832957Z",
     "shell.execute_reply": "2021-03-17T14:42:01.833518Z"
    }
   },
   "outputs": [],
   "source": [
    "df = pd.Series(zipped).reset_index()"
   ]
  },
  {
   "cell_type": "code",
   "execution_count": 10,
   "metadata": {
    "execution": {
     "iopub.execute_input": "2021-03-17T14:42:01.840334Z",
     "iopub.status.busy": "2021-03-17T14:42:01.839029Z",
     "iopub.status.idle": "2021-03-17T14:42:01.840990Z",
     "shell.execute_reply": "2021-03-17T14:42:01.841560Z"
    }
   },
   "outputs": [],
   "source": [
    "df.columns = ['location','doses']"
   ]
  },
  {
   "cell_type": "markdown",
   "metadata": {},
   "source": [
    "Grab the overall California total"
   ]
  },
  {
   "cell_type": "code",
   "execution_count": 11,
   "metadata": {
    "execution": {
     "iopub.execute_input": "2021-03-17T14:42:01.853310Z",
     "iopub.status.busy": "2021-03-17T14:42:01.852566Z",
     "iopub.status.idle": "2021-03-17T14:42:01.859076Z",
     "shell.execute_reply": "2021-03-17T14:42:01.859548Z"
    }
   },
   "outputs": [],
   "source": [
    "add = {'location':'California','doses':dataJson[0]['dataValues'][2]}"
   ]
  },
  {
   "cell_type": "code",
   "execution_count": 12,
   "metadata": {
    "execution": {
     "iopub.execute_input": "2021-03-17T14:42:01.868785Z",
     "iopub.status.busy": "2021-03-17T14:42:01.867389Z",
     "iopub.status.idle": "2021-03-17T14:42:01.869447Z",
     "shell.execute_reply": "2021-03-17T14:42:01.869951Z"
    }
   },
   "outputs": [],
   "source": [
    "df = df.append(add, ignore_index=True)"
   ]
  },
  {
   "cell_type": "code",
   "execution_count": 13,
   "metadata": {
    "execution": {
     "iopub.execute_input": "2021-03-17T14:42:01.875077Z",
     "iopub.status.busy": "2021-03-17T14:42:01.874432Z",
     "iopub.status.idle": "2021-03-17T14:42:01.877695Z",
     "shell.execute_reply": "2021-03-17T14:42:01.877141Z"
    }
   },
   "outputs": [],
   "source": [
    "df = df.sort_values(by='location')"
   ]
  },
  {
   "cell_type": "code",
   "execution_count": 14,
   "metadata": {
    "execution": {
     "iopub.execute_input": "2021-03-17T14:42:01.884457Z",
     "iopub.status.busy": "2021-03-17T14:42:01.883856Z",
     "iopub.status.idle": "2021-03-17T14:42:01.886193Z",
     "shell.execute_reply": "2021-03-17T14:42:01.885626Z"
    }
   },
   "outputs": [],
   "source": [
    "df = df[df.location == 'California'].append(df[df.location != 'California']).reset_index(drop=True)"
   ]
  },
  {
   "cell_type": "code",
   "execution_count": null,
   "metadata": {},
   "outputs": [],
   "source": []
  },
  {
   "cell_type": "code",
   "execution_count": 15,
   "metadata": {
    "execution": {
     "iopub.execute_input": "2021-03-17T14:42:01.890818Z",
     "iopub.status.busy": "2021-03-17T14:42:01.890223Z",
     "iopub.status.idle": "2021-03-17T14:42:01.911388Z",
     "shell.execute_reply": "2021-03-17T14:42:01.910740Z"
    }
   },
   "outputs": [],
   "source": [
    "tz = pytz.timezone(\"America/New_York\")"
   ]
  },
  {
   "cell_type": "code",
   "execution_count": 16,
   "metadata": {
    "execution": {
     "iopub.execute_input": "2021-03-17T14:42:01.916794Z",
     "iopub.status.busy": "2021-03-17T14:42:01.915298Z",
     "iopub.status.idle": "2021-03-17T14:42:01.917473Z",
     "shell.execute_reply": "2021-03-17T14:42:01.917991Z"
    }
   },
   "outputs": [],
   "source": [
    "today = datetime.now(tz).date()"
   ]
  },
  {
   "cell_type": "code",
   "execution_count": 17,
   "metadata": {
    "execution": {
     "iopub.execute_input": "2021-03-17T14:42:01.923689Z",
     "iopub.status.busy": "2021-03-17T14:42:01.922177Z",
     "iopub.status.idle": "2021-03-17T14:42:01.924364Z",
     "shell.execute_reply": "2021-03-17T14:42:01.924877Z"
    }
   },
   "outputs": [],
   "source": [
    "data_dir = os.path.join(os.path.abspath(\"\"), \"data\")"
   ]
  },
  {
   "cell_type": "code",
   "execution_count": 18,
   "metadata": {
    "execution": {
     "iopub.execute_input": "2021-03-17T14:42:01.930090Z",
     "iopub.status.busy": "2021-03-17T14:42:01.929242Z",
     "iopub.status.idle": "2021-03-17T14:42:01.935237Z",
     "shell.execute_reply": "2021-03-17T14:42:01.934679Z"
    }
   },
   "outputs": [],
   "source": [
    "df.to_csv(os.path.join(data_dir, f\"{today}.csv\"), index=False)"
   ]
  },
  {
   "cell_type": "code",
   "execution_count": null,
   "metadata": {},
   "outputs": [],
   "source": []
  }
 ],
 "metadata": {
  "kernelspec": {
   "display_name": "Python 3",
   "language": "python",
   "name": "python3"
  },
  "language_info": {
   "codemirror_mode": {
    "name": "ipython",
    "version": 3
   },
   "file_extension": ".py",
   "mimetype": "text/x-python",
   "name": "python",
   "nbconvert_exporter": "python",
   "pygments_lexer": "ipython3",
   "version": "3.8.8"
  }
 },
 "nbformat": 4,
 "nbformat_minor": 4
}
