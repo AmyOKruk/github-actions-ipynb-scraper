{
 "cells": [
  {
   "cell_type": "markdown",
   "metadata": {},
   "source": [
    "# California COVID vaccinations scrape"
   ]
  },
  {
   "cell_type": "markdown",
   "metadata": {},
   "source": [
    "By [Amy O'Kruk](https://twitter.com/amyokruk)"
   ]
  },
  {
   "cell_type": "markdown",
   "metadata": {},
   "source": [
    "Downloads data on vaccine doses administered by county and statewide from a Tableau-powered dashboard from the California Department of Public Health."
   ]
  },
  {
   "cell_type": "code",
   "execution_count": 1,
   "metadata": {
    "execution": {
     "iopub.execute_input": "2021-03-09T22:46:52.881252Z",
     "iopub.status.busy": "2021-03-09T22:46:52.880615Z",
     "iopub.status.idle": "2021-03-09T22:46:53.296400Z",
     "shell.execute_reply": "2021-03-09T22:46:53.295797Z"
    }
   },
   "outputs": [],
   "source": [
    "import pandas as pd\n",
    "import requests\n",
    "from bs4 import BeautifulSoup\n",
    "import json\n",
    "import re\n",
    "import time\n",
    "from time import gmtime, strftime \n",
    "import os\n",
    "import pytz\n",
    "from datetime import datetime"
   ]
  },
  {
   "cell_type": "markdown",
   "metadata": {},
   "source": [
    "Scrape the dashboard page"
   ]
  },
  {
   "cell_type": "code",
   "execution_count": 2,
   "metadata": {
    "execution": {
     "iopub.execute_input": "2021-03-09T22:46:53.301429Z",
     "iopub.status.busy": "2021-03-09T22:46:53.299322Z",
     "iopub.status.idle": "2021-03-09T22:46:53.664440Z",
     "shell.execute_reply": "2021-03-09T22:46:53.663643Z"
    }
   },
   "outputs": [],
   "source": [
    "url = \"https://public.tableau.com/interactive/views/COVID-19VaccineDashboardPublic/Vaccine?:embed=y&:showVizHome=n&:apiID=host0\"\n",
    "\n",
    "r = requests.get(url)\n",
    "soup = BeautifulSoup(r.text, \"html.parser\")"
   ]
  },
  {
   "cell_type": "code",
   "execution_count": 3,
   "metadata": {
    "execution": {
     "iopub.execute_input": "2021-03-09T22:46:53.668528Z",
     "iopub.status.busy": "2021-03-09T22:46:53.668076Z",
     "iopub.status.idle": "2021-03-09T22:46:53.671518Z",
     "shell.execute_reply": "2021-03-09T22:46:53.670778Z"
    }
   },
   "outputs": [],
   "source": [
    "tableauData = json.loads(soup.find(\"textarea\",{\"id\": \"tsConfigContainer\"}).text)"
   ]
  },
  {
   "cell_type": "markdown",
   "metadata": {},
   "source": [
    "Get the link to the Tableau data"
   ]
  },
  {
   "cell_type": "code",
   "execution_count": 4,
   "metadata": {
    "execution": {
     "iopub.execute_input": "2021-03-09T22:46:53.674474Z",
     "iopub.status.busy": "2021-03-09T22:46:53.674039Z",
     "iopub.status.idle": "2021-03-09T22:46:53.677479Z",
     "shell.execute_reply": "2021-03-09T22:46:53.677092Z"
    }
   },
   "outputs": [],
   "source": [
    "dataUrl = f'https://public.tableau.com{tableauData[\"vizql_root\"]}/bootstrapSession/sessions/{tableauData[\"sessionid\"]}'"
   ]
  },
  {
   "cell_type": "code",
   "execution_count": 5,
   "metadata": {
    "execution": {
     "iopub.execute_input": "2021-03-09T22:46:53.682826Z",
     "iopub.status.busy": "2021-03-09T22:46:53.682382Z",
     "iopub.status.idle": "2021-03-09T22:46:53.940312Z",
     "shell.execute_reply": "2021-03-09T22:46:53.939899Z"
    }
   },
   "outputs": [],
   "source": [
    "r = requests.post(dataUrl, data= {\n",
    "    \"sheet_id\": tableauData[\"sheetId\"],\n",
    "})\n",
    "\n",
    "dataReg = re.search('\\d+;({.*})\\d+;({.*})', r.text, re.MULTILINE)\n",
    "data1 = json.loads(dataReg.group(2))\n",
    "\n",
    "dataJson = data1[\"secondaryInfo\"][\"presModelMap\"][\"dataDictionary\"][\"presModelHolder\"][\"genDataDictionaryPresModel\"][\"dataSegments\"][\"0\"][\"dataColumns\"]"
   ]
  },
  {
   "cell_type": "markdown",
   "metadata": {},
   "source": [
    "Isolate what you want"
   ]
  },
  {
   "cell_type": "code",
   "execution_count": 6,
   "metadata": {
    "execution": {
     "iopub.execute_input": "2021-03-09T22:46:53.943576Z",
     "iopub.status.busy": "2021-03-09T22:46:53.943126Z",
     "iopub.status.idle": "2021-03-09T22:46:53.946384Z",
     "shell.execute_reply": "2021-03-09T22:46:53.945988Z"
    }
   },
   "outputs": [],
   "source": [
    "counties = dataJson[2]['dataValues'][:58]"
   ]
  },
  {
   "cell_type": "code",
   "execution_count": 7,
   "metadata": {
    "execution": {
     "iopub.execute_input": "2021-03-09T22:46:53.949529Z",
     "iopub.status.busy": "2021-03-09T22:46:53.949085Z",
     "iopub.status.idle": "2021-03-09T22:46:53.952062Z",
     "shell.execute_reply": "2021-03-09T22:46:53.952459Z"
    }
   },
   "outputs": [],
   "source": [
    "doses = dataJson[0]['dataValues'][3:61]"
   ]
  },
  {
   "cell_type": "markdown",
   "metadata": {},
   "source": [
    "Data formatting"
   ]
  },
  {
   "cell_type": "code",
   "execution_count": 8,
   "metadata": {
    "execution": {
     "iopub.execute_input": "2021-03-09T22:46:53.955636Z",
     "iopub.status.busy": "2021-03-09T22:46:53.955193Z",
     "iopub.status.idle": "2021-03-09T22:46:53.959161Z",
     "shell.execute_reply": "2021-03-09T22:46:53.958759Z"
    }
   },
   "outputs": [],
   "source": [
    "zipped = dict(zip(counties, doses))"
   ]
  },
  {
   "cell_type": "code",
   "execution_count": 9,
   "metadata": {
    "execution": {
     "iopub.execute_input": "2021-03-09T22:46:53.964302Z",
     "iopub.status.busy": "2021-03-09T22:46:53.963827Z",
     "iopub.status.idle": "2021-03-09T22:46:53.966748Z",
     "shell.execute_reply": "2021-03-09T22:46:53.967122Z"
    }
   },
   "outputs": [],
   "source": [
    "df = pd.Series(zipped).reset_index()"
   ]
  },
  {
   "cell_type": "code",
   "execution_count": 10,
   "metadata": {
    "execution": {
     "iopub.execute_input": "2021-03-09T22:46:53.970478Z",
     "iopub.status.busy": "2021-03-09T22:46:53.970038Z",
     "iopub.status.idle": "2021-03-09T22:46:53.973245Z",
     "shell.execute_reply": "2021-03-09T22:46:53.972831Z"
    }
   },
   "outputs": [],
   "source": [
    "df.columns = ['location','doses']"
   ]
  },
  {
   "cell_type": "markdown",
   "metadata": {},
   "source": [
    "Grab the overall California total"
   ]
  },
  {
   "cell_type": "code",
   "execution_count": 11,
   "metadata": {
    "execution": {
     "iopub.execute_input": "2021-03-09T22:46:53.976362Z",
     "iopub.status.busy": "2021-03-09T22:46:53.975908Z",
     "iopub.status.idle": "2021-03-09T22:46:53.979540Z",
     "shell.execute_reply": "2021-03-09T22:46:53.979151Z"
    }
   },
   "outputs": [],
   "source": [
    "add = {'location':'California','doses':dataJson[0]['dataValues'][2]}"
   ]
  },
  {
   "cell_type": "code",
   "execution_count": 12,
   "metadata": {
    "execution": {
     "iopub.execute_input": "2021-03-09T22:46:53.985047Z",
     "iopub.status.busy": "2021-03-09T22:46:53.984607Z",
     "iopub.status.idle": "2021-03-09T22:46:53.988177Z",
     "shell.execute_reply": "2021-03-09T22:46:53.987732Z"
    }
   },
   "outputs": [],
   "source": [
    "df = df.append(add, ignore_index=True)"
   ]
  },
  {
   "cell_type": "code",
   "execution_count": 13,
   "metadata": {
    "execution": {
     "iopub.execute_input": "2021-03-09T22:46:53.991787Z",
     "iopub.status.busy": "2021-03-09T22:46:53.991346Z",
     "iopub.status.idle": "2021-03-09T22:46:53.994324Z",
     "shell.execute_reply": "2021-03-09T22:46:53.993955Z"
    }
   },
   "outputs": [],
   "source": [
    "df = df.sort_values(by='location')"
   ]
  },
  {
   "cell_type": "code",
   "execution_count": 14,
   "metadata": {
    "execution": {
     "iopub.execute_input": "2021-03-09T22:46:53.999256Z",
     "iopub.status.busy": "2021-03-09T22:46:53.998814Z",
     "iopub.status.idle": "2021-03-09T22:46:54.001402Z",
     "shell.execute_reply": "2021-03-09T22:46:54.001773Z"
    }
   },
   "outputs": [],
   "source": [
    "df = df[df.location == 'California'].append(df[df.location != 'California']).reset_index(drop=True)"
   ]
  },
  {
   "cell_type": "code",
   "execution_count": null,
   "metadata": {},
   "outputs": [],
   "source": []
  },
  {
   "cell_type": "code",
   "execution_count": 15,
   "metadata": {
    "execution": {
     "iopub.execute_input": "2021-03-09T22:46:54.004907Z",
     "iopub.status.busy": "2021-03-09T22:46:54.004277Z",
     "iopub.status.idle": "2021-03-09T22:46:54.020541Z",
     "shell.execute_reply": "2021-03-09T22:46:54.020154Z"
    }
   },
   "outputs": [],
   "source": [
    "tz = pytz.timezone(\"America/New_York\")"
   ]
  },
  {
   "cell_type": "code",
   "execution_count": 16,
   "metadata": {
    "execution": {
     "iopub.execute_input": "2021-03-09T22:46:54.023461Z",
     "iopub.status.busy": "2021-03-09T22:46:54.023028Z",
     "iopub.status.idle": "2021-03-09T22:46:54.026026Z",
     "shell.execute_reply": "2021-03-09T22:46:54.025633Z"
    }
   },
   "outputs": [],
   "source": [
    "today = datetime.now(tz).date()"
   ]
  },
  {
   "cell_type": "code",
   "execution_count": 17,
   "metadata": {
    "execution": {
     "iopub.execute_input": "2021-03-09T22:46:54.029217Z",
     "iopub.status.busy": "2021-03-09T22:46:54.028780Z",
     "iopub.status.idle": "2021-03-09T22:46:54.031733Z",
     "shell.execute_reply": "2021-03-09T22:46:54.031341Z"
    }
   },
   "outputs": [],
   "source": [
    "data_dir = os.path.join(os.path.abspath(\"\"), \"data\")"
   ]
  },
  {
   "cell_type": "code",
   "execution_count": 18,
   "metadata": {
    "execution": {
     "iopub.execute_input": "2021-03-09T22:46:54.036059Z",
     "iopub.status.busy": "2021-03-09T22:46:54.034607Z",
     "iopub.status.idle": "2021-03-09T22:46:54.039497Z",
     "shell.execute_reply": "2021-03-09T22:46:54.039110Z"
    }
   },
   "outputs": [],
   "source": [
    "df.to_csv(os.path.join(data_dir, f\"{today}.csv\"), index=False)"
   ]
  },
  {
   "cell_type": "code",
   "execution_count": null,
   "metadata": {},
   "outputs": [],
   "source": []
  }
 ],
 "metadata": {
  "kernelspec": {
   "display_name": "Python 3",
   "language": "python",
   "name": "python3"
  },
  "language_info": {
   "codemirror_mode": {
    "name": "ipython",
    "version": 3
   },
   "file_extension": ".py",
   "mimetype": "text/x-python",
   "name": "python",
   "nbconvert_exporter": "python",
   "pygments_lexer": "ipython3",
   "version": "3.8.8"
  }
 },
 "nbformat": 4,
 "nbformat_minor": 4
}
