{
 "cells": [
  {
   "cell_type": "markdown",
   "metadata": {},
   "source": [
    "# California COVID vaccinations scrape"
   ]
  },
  {
   "cell_type": "markdown",
   "metadata": {},
   "source": [
    "By [Amy O'Kruk](https://twitter.com/amyokruk)"
   ]
  },
  {
   "cell_type": "markdown",
   "metadata": {},
   "source": [
    "Downloads data on vaccine doses administered by county and statewide from a Tableau-powered dashboard from the California Department of Public Health."
   ]
  },
  {
   "cell_type": "code",
   "execution_count": 1,
   "metadata": {
    "execution": {
     "iopub.execute_input": "2021-03-11T07:37:53.670041Z",
     "iopub.status.busy": "2021-03-11T07:37:53.669408Z",
     "iopub.status.idle": "2021-03-11T07:37:54.055788Z",
     "shell.execute_reply": "2021-03-11T07:37:54.054983Z"
    }
   },
   "outputs": [],
   "source": [
    "import pandas as pd\n",
    "import requests\n",
    "from bs4 import BeautifulSoup\n",
    "import json\n",
    "import re\n",
    "import time\n",
    "from time import gmtime, strftime \n",
    "import os\n",
    "import pytz\n",
    "from datetime import datetime"
   ]
  },
  {
   "cell_type": "markdown",
   "metadata": {},
   "source": [
    "Scrape the dashboard page"
   ]
  },
  {
   "cell_type": "code",
   "execution_count": 2,
   "metadata": {
    "execution": {
     "iopub.execute_input": "2021-03-11T07:37:54.062169Z",
     "iopub.status.busy": "2021-03-11T07:37:54.061258Z",
     "iopub.status.idle": "2021-03-11T07:37:54.710555Z",
     "shell.execute_reply": "2021-03-11T07:37:54.709623Z"
    }
   },
   "outputs": [],
   "source": [
    "url = \"https://public.tableau.com/interactive/views/COVID-19VaccineDashboardPublic/Vaccine?:embed=y&:showVizHome=n&:apiID=host0\"\n",
    "\n",
    "r = requests.get(url)\n",
    "soup = BeautifulSoup(r.text, \"html.parser\")"
   ]
  },
  {
   "cell_type": "code",
   "execution_count": 3,
   "metadata": {
    "execution": {
     "iopub.execute_input": "2021-03-11T07:37:54.715728Z",
     "iopub.status.busy": "2021-03-11T07:37:54.715180Z",
     "iopub.status.idle": "2021-03-11T07:37:54.718750Z",
     "shell.execute_reply": "2021-03-11T07:37:54.718261Z"
    }
   },
   "outputs": [],
   "source": [
    "tableauData = json.loads(soup.find(\"textarea\",{\"id\": \"tsConfigContainer\"}).text)"
   ]
  },
  {
   "cell_type": "markdown",
   "metadata": {},
   "source": [
    "Get the link to the Tableau data"
   ]
  },
  {
   "cell_type": "code",
   "execution_count": 4,
   "metadata": {
    "execution": {
     "iopub.execute_input": "2021-03-11T07:37:54.722594Z",
     "iopub.status.busy": "2021-03-11T07:37:54.722055Z",
     "iopub.status.idle": "2021-03-11T07:37:54.725624Z",
     "shell.execute_reply": "2021-03-11T07:37:54.725149Z"
    }
   },
   "outputs": [],
   "source": [
    "dataUrl = f'https://public.tableau.com{tableauData[\"vizql_root\"]}/bootstrapSession/sessions/{tableauData[\"sessionid\"]}'"
   ]
  },
  {
   "cell_type": "code",
   "execution_count": 5,
   "metadata": {
    "execution": {
     "iopub.execute_input": "2021-03-11T07:37:54.732286Z",
     "iopub.status.busy": "2021-03-11T07:37:54.731741Z",
     "iopub.status.idle": "2021-03-11T07:37:55.228742Z",
     "shell.execute_reply": "2021-03-11T07:37:55.228168Z"
    }
   },
   "outputs": [],
   "source": [
    "r = requests.post(dataUrl, data= {\n",
    "    \"sheet_id\": tableauData[\"sheetId\"],\n",
    "})\n",
    "\n",
    "dataReg = re.search('\\d+;({.*})\\d+;({.*})', r.text, re.MULTILINE)\n",
    "data1 = json.loads(dataReg.group(2))\n",
    "\n",
    "dataJson = data1[\"secondaryInfo\"][\"presModelMap\"][\"dataDictionary\"][\"presModelHolder\"][\"genDataDictionaryPresModel\"][\"dataSegments\"][\"0\"][\"dataColumns\"]"
   ]
  },
  {
   "cell_type": "markdown",
   "metadata": {},
   "source": [
    "Isolate what you want"
   ]
  },
  {
   "cell_type": "code",
   "execution_count": 6,
   "metadata": {
    "execution": {
     "iopub.execute_input": "2021-03-11T07:37:55.232507Z",
     "iopub.status.busy": "2021-03-11T07:37:55.231943Z",
     "iopub.status.idle": "2021-03-11T07:37:55.235676Z",
     "shell.execute_reply": "2021-03-11T07:37:55.235192Z"
    }
   },
   "outputs": [],
   "source": [
    "counties = dataJson[2]['dataValues'][:58]"
   ]
  },
  {
   "cell_type": "code",
   "execution_count": 7,
   "metadata": {
    "execution": {
     "iopub.execute_input": "2021-03-11T07:37:55.240182Z",
     "iopub.status.busy": "2021-03-11T07:37:55.238908Z",
     "iopub.status.idle": "2021-03-11T07:37:55.240833Z",
     "shell.execute_reply": "2021-03-11T07:37:55.241281Z"
    }
   },
   "outputs": [],
   "source": [
    "doses = dataJson[0]['dataValues'][3:61]"
   ]
  },
  {
   "cell_type": "markdown",
   "metadata": {},
   "source": [
    "Data formatting"
   ]
  },
  {
   "cell_type": "code",
   "execution_count": 8,
   "metadata": {
    "execution": {
     "iopub.execute_input": "2021-03-11T07:37:55.245764Z",
     "iopub.status.busy": "2021-03-11T07:37:55.244465Z",
     "iopub.status.idle": "2021-03-11T07:37:55.246383Z",
     "shell.execute_reply": "2021-03-11T07:37:55.246827Z"
    }
   },
   "outputs": [],
   "source": [
    "zipped = dict(zip(counties, doses))"
   ]
  },
  {
   "cell_type": "code",
   "execution_count": 9,
   "metadata": {
    "execution": {
     "iopub.execute_input": "2021-03-11T07:37:55.253491Z",
     "iopub.status.busy": "2021-03-11T07:37:55.252187Z",
     "iopub.status.idle": "2021-03-11T07:37:55.254109Z",
     "shell.execute_reply": "2021-03-11T07:37:55.254554Z"
    }
   },
   "outputs": [],
   "source": [
    "df = pd.Series(zipped).reset_index()"
   ]
  },
  {
   "cell_type": "code",
   "execution_count": 10,
   "metadata": {
    "execution": {
     "iopub.execute_input": "2021-03-11T07:37:55.259063Z",
     "iopub.status.busy": "2021-03-11T07:37:55.257897Z",
     "iopub.status.idle": "2021-03-11T07:37:55.259680Z",
     "shell.execute_reply": "2021-03-11T07:37:55.260124Z"
    }
   },
   "outputs": [],
   "source": [
    "df.columns = ['location','doses']"
   ]
  },
  {
   "cell_type": "markdown",
   "metadata": {},
   "source": [
    "Grab the overall California total"
   ]
  },
  {
   "cell_type": "code",
   "execution_count": 11,
   "metadata": {
    "execution": {
     "iopub.execute_input": "2021-03-11T07:37:55.271003Z",
     "iopub.status.busy": "2021-03-11T07:37:55.263282Z",
     "iopub.status.idle": "2021-03-11T07:37:55.271638Z",
     "shell.execute_reply": "2021-03-11T07:37:55.272085Z"
    }
   },
   "outputs": [],
   "source": [
    "add = {'location':'California','doses':dataJson[0]['dataValues'][2]}"
   ]
  },
  {
   "cell_type": "code",
   "execution_count": 12,
   "metadata": {
    "execution": {
     "iopub.execute_input": "2021-03-11T07:37:55.278434Z",
     "iopub.status.busy": "2021-03-11T07:37:55.277894Z",
     "iopub.status.idle": "2021-03-11T07:37:55.279741Z",
     "shell.execute_reply": "2021-03-11T07:37:55.280160Z"
    }
   },
   "outputs": [],
   "source": [
    "df = df.append(add, ignore_index=True)"
   ]
  },
  {
   "cell_type": "code",
   "execution_count": 13,
   "metadata": {
    "execution": {
     "iopub.execute_input": "2021-03-11T07:37:55.285363Z",
     "iopub.status.busy": "2021-03-11T07:37:55.284070Z",
     "iopub.status.idle": "2021-03-11T07:37:55.285978Z",
     "shell.execute_reply": "2021-03-11T07:37:55.286425Z"
    }
   },
   "outputs": [],
   "source": [
    "df = df.sort_values(by='location')"
   ]
  },
  {
   "cell_type": "code",
   "execution_count": 14,
   "metadata": {
    "execution": {
     "iopub.execute_input": "2021-03-11T07:37:55.293000Z",
     "iopub.status.busy": "2021-03-11T07:37:55.291814Z",
     "iopub.status.idle": "2021-03-11T07:37:55.293616Z",
     "shell.execute_reply": "2021-03-11T07:37:55.294063Z"
    }
   },
   "outputs": [],
   "source": [
    "df = df[df.location == 'California'].append(df[df.location != 'California']).reset_index(drop=True)"
   ]
  },
  {
   "cell_type": "code",
   "execution_count": null,
   "metadata": {},
   "outputs": [],
   "source": []
  },
  {
   "cell_type": "code",
   "execution_count": 15,
   "metadata": {
    "execution": {
     "iopub.execute_input": "2021-03-11T07:37:55.297618Z",
     "iopub.status.busy": "2021-03-11T07:37:55.297080Z",
     "iopub.status.idle": "2021-03-11T07:37:55.314841Z",
     "shell.execute_reply": "2021-03-11T07:37:55.314316Z"
    }
   },
   "outputs": [],
   "source": [
    "tz = pytz.timezone(\"America/New_York\")"
   ]
  },
  {
   "cell_type": "code",
   "execution_count": 16,
   "metadata": {
    "execution": {
     "iopub.execute_input": "2021-03-11T07:37:55.319163Z",
     "iopub.status.busy": "2021-03-11T07:37:55.317869Z",
     "iopub.status.idle": "2021-03-11T07:37:55.319792Z",
     "shell.execute_reply": "2021-03-11T07:37:55.320239Z"
    }
   },
   "outputs": [],
   "source": [
    "today = datetime.now(tz).date()"
   ]
  },
  {
   "cell_type": "code",
   "execution_count": 17,
   "metadata": {
    "execution": {
     "iopub.execute_input": "2021-03-11T07:37:55.324639Z",
     "iopub.status.busy": "2021-03-11T07:37:55.323419Z",
     "iopub.status.idle": "2021-03-11T07:37:55.325253Z",
     "shell.execute_reply": "2021-03-11T07:37:55.325890Z"
    }
   },
   "outputs": [],
   "source": [
    "data_dir = os.path.join(os.path.abspath(\"\"), \"data\")"
   ]
  },
  {
   "cell_type": "code",
   "execution_count": 18,
   "metadata": {
    "execution": {
     "iopub.execute_input": "2021-03-11T07:37:55.329935Z",
     "iopub.status.busy": "2021-03-11T07:37:55.329380Z",
     "iopub.status.idle": "2021-03-11T07:37:55.373254Z",
     "shell.execute_reply": "2021-03-11T07:37:55.372627Z"
    }
   },
   "outputs": [],
   "source": [
    "df.to_csv(os.path.join(data_dir, f\"{today}.csv\"), index=False)"
   ]
  },
  {
   "cell_type": "code",
   "execution_count": null,
   "metadata": {},
   "outputs": [],
   "source": []
  }
 ],
 "metadata": {
  "kernelspec": {
   "display_name": "Python 3",
   "language": "python",
   "name": "python3"
  },
  "language_info": {
   "codemirror_mode": {
    "name": "ipython",
    "version": 3
   },
   "file_extension": ".py",
   "mimetype": "text/x-python",
   "name": "python",
   "nbconvert_exporter": "python",
   "pygments_lexer": "ipython3",
   "version": "3.8.8"
  }
 },
 "nbformat": 4,
 "nbformat_minor": 4
}
