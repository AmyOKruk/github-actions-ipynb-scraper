{
 "cells": [
  {
   "cell_type": "markdown",
   "metadata": {},
   "source": [
    "# California COVID vaccinations scrape"
   ]
  },
  {
   "cell_type": "markdown",
   "metadata": {},
   "source": [
    "By [Amy O'Kruk](https://twitter.com/amyokruk)"
   ]
  },
  {
   "cell_type": "markdown",
   "metadata": {},
   "source": [
    "Downloads data on vaccine doses administered by county and statewide from a Tableau-powered dashboard from the California Department of Public Health."
   ]
  },
  {
   "cell_type": "code",
   "execution_count": 1,
   "metadata": {
    "execution": {
     "iopub.execute_input": "2021-03-15T04:48:58.215840Z",
     "iopub.status.busy": "2021-03-15T04:48:58.215176Z",
     "iopub.status.idle": "2021-03-15T04:48:58.608365Z",
     "shell.execute_reply": "2021-03-15T04:48:58.608810Z"
    }
   },
   "outputs": [],
   "source": [
    "import pandas as pd\n",
    "import requests\n",
    "from bs4 import BeautifulSoup\n",
    "import json\n",
    "import re\n",
    "import time\n",
    "from time import gmtime, strftime \n",
    "import os\n",
    "import pytz\n",
    "from datetime import datetime"
   ]
  },
  {
   "cell_type": "markdown",
   "metadata": {},
   "source": [
    "Scrape the dashboard page"
   ]
  },
  {
   "cell_type": "code",
   "execution_count": 2,
   "metadata": {
    "execution": {
     "iopub.execute_input": "2021-03-15T04:48:58.615544Z",
     "iopub.status.busy": "2021-03-15T04:48:58.613054Z",
     "iopub.status.idle": "2021-03-15T04:48:58.987885Z",
     "shell.execute_reply": "2021-03-15T04:48:58.987389Z"
    }
   },
   "outputs": [],
   "source": [
    "url = \"https://public.tableau.com/interactive/views/COVID-19VaccineDashboardPublic/Vaccine?:embed=y&:showVizHome=n&:apiID=host0\"\n",
    "\n",
    "r = requests.get(url)\n",
    "soup = BeautifulSoup(r.text, \"html.parser\")"
   ]
  },
  {
   "cell_type": "code",
   "execution_count": 3,
   "metadata": {
    "execution": {
     "iopub.execute_input": "2021-03-15T04:48:58.993550Z",
     "iopub.status.busy": "2021-03-15T04:48:58.992287Z",
     "iopub.status.idle": "2021-03-15T04:48:58.994162Z",
     "shell.execute_reply": "2021-03-15T04:48:58.994627Z"
    }
   },
   "outputs": [],
   "source": [
    "tableauData = json.loads(soup.find(\"textarea\",{\"id\": \"tsConfigContainer\"}).text)"
   ]
  },
  {
   "cell_type": "markdown",
   "metadata": {},
   "source": [
    "Get the link to the Tableau data"
   ]
  },
  {
   "cell_type": "code",
   "execution_count": 4,
   "metadata": {
    "execution": {
     "iopub.execute_input": "2021-03-15T04:48:58.999242Z",
     "iopub.status.busy": "2021-03-15T04:48:58.997846Z",
     "iopub.status.idle": "2021-03-15T04:48:58.999854Z",
     "shell.execute_reply": "2021-03-15T04:48:59.000561Z"
    }
   },
   "outputs": [],
   "source": [
    "dataUrl = f'https://public.tableau.com{tableauData[\"vizql_root\"]}/bootstrapSession/sessions/{tableauData[\"sessionid\"]}'"
   ]
  },
  {
   "cell_type": "code",
   "execution_count": 5,
   "metadata": {
    "execution": {
     "iopub.execute_input": "2021-03-15T04:48:59.007035Z",
     "iopub.status.busy": "2021-03-15T04:48:59.006450Z",
     "iopub.status.idle": "2021-03-15T04:48:59.253981Z",
     "shell.execute_reply": "2021-03-15T04:48:59.253366Z"
    }
   },
   "outputs": [],
   "source": [
    "r = requests.post(dataUrl, data= {\n",
    "    \"sheet_id\": tableauData[\"sheetId\"],\n",
    "})\n",
    "\n",
    "dataReg = re.search('\\d+;({.*})\\d+;({.*})', r.text, re.MULTILINE)\n",
    "data1 = json.loads(dataReg.group(2))\n",
    "\n",
    "dataJson = data1[\"secondaryInfo\"][\"presModelMap\"][\"dataDictionary\"][\"presModelHolder\"][\"genDataDictionaryPresModel\"][\"dataSegments\"][\"0\"][\"dataColumns\"]"
   ]
  },
  {
   "cell_type": "markdown",
   "metadata": {},
   "source": [
    "Isolate what you want"
   ]
  },
  {
   "cell_type": "code",
   "execution_count": 6,
   "metadata": {
    "execution": {
     "iopub.execute_input": "2021-03-15T04:48:59.258712Z",
     "iopub.status.busy": "2021-03-15T04:48:59.257399Z",
     "iopub.status.idle": "2021-03-15T04:48:59.259345Z",
     "shell.execute_reply": "2021-03-15T04:48:59.259848Z"
    }
   },
   "outputs": [],
   "source": [
    "counties = dataJson[2]['dataValues'][:58]"
   ]
  },
  {
   "cell_type": "code",
   "execution_count": 7,
   "metadata": {
    "execution": {
     "iopub.execute_input": "2021-03-15T04:48:59.264253Z",
     "iopub.status.busy": "2021-03-15T04:48:59.262944Z",
     "iopub.status.idle": "2021-03-15T04:48:59.264844Z",
     "shell.execute_reply": "2021-03-15T04:48:59.265280Z"
    }
   },
   "outputs": [],
   "source": [
    "doses = dataJson[0]['dataValues'][3:61]"
   ]
  },
  {
   "cell_type": "markdown",
   "metadata": {},
   "source": [
    "Data formatting"
   ]
  },
  {
   "cell_type": "code",
   "execution_count": 8,
   "metadata": {
    "execution": {
     "iopub.execute_input": "2021-03-15T04:48:59.269829Z",
     "iopub.status.busy": "2021-03-15T04:48:59.268501Z",
     "iopub.status.idle": "2021-03-15T04:48:59.270501Z",
     "shell.execute_reply": "2021-03-15T04:48:59.270930Z"
    }
   },
   "outputs": [],
   "source": [
    "zipped = dict(zip(counties, doses))"
   ]
  },
  {
   "cell_type": "code",
   "execution_count": 9,
   "metadata": {
    "execution": {
     "iopub.execute_input": "2021-03-15T04:48:59.277609Z",
     "iopub.status.busy": "2021-03-15T04:48:59.276292Z",
     "iopub.status.idle": "2021-03-15T04:48:59.278205Z",
     "shell.execute_reply": "2021-03-15T04:48:59.278631Z"
    }
   },
   "outputs": [],
   "source": [
    "df = pd.Series(zipped).reset_index()"
   ]
  },
  {
   "cell_type": "code",
   "execution_count": 10,
   "metadata": {
    "execution": {
     "iopub.execute_input": "2021-03-15T04:48:59.283454Z",
     "iopub.status.busy": "2021-03-15T04:48:59.282102Z",
     "iopub.status.idle": "2021-03-15T04:48:59.284102Z",
     "shell.execute_reply": "2021-03-15T04:48:59.284526Z"
    }
   },
   "outputs": [],
   "source": [
    "df.columns = ['location','doses']"
   ]
  },
  {
   "cell_type": "markdown",
   "metadata": {},
   "source": [
    "Grab the overall California total"
   ]
  },
  {
   "cell_type": "code",
   "execution_count": 11,
   "metadata": {
    "execution": {
     "iopub.execute_input": "2021-03-15T04:48:59.288936Z",
     "iopub.status.busy": "2021-03-15T04:48:59.287736Z",
     "iopub.status.idle": "2021-03-15T04:48:59.289558Z",
     "shell.execute_reply": "2021-03-15T04:48:59.290061Z"
    }
   },
   "outputs": [],
   "source": [
    "add = {'location':'California','doses':dataJson[0]['dataValues'][2]}"
   ]
  },
  {
   "cell_type": "code",
   "execution_count": 12,
   "metadata": {
    "execution": {
     "iopub.execute_input": "2021-03-15T04:48:59.297904Z",
     "iopub.status.busy": "2021-03-15T04:48:59.296419Z",
     "iopub.status.idle": "2021-03-15T04:48:59.298533Z",
     "shell.execute_reply": "2021-03-15T04:48:59.298983Z"
    }
   },
   "outputs": [],
   "source": [
    "df = df.append(add, ignore_index=True)"
   ]
  },
  {
   "cell_type": "code",
   "execution_count": 13,
   "metadata": {
    "execution": {
     "iopub.execute_input": "2021-03-15T04:48:59.304273Z",
     "iopub.status.busy": "2021-03-15T04:48:59.302932Z",
     "iopub.status.idle": "2021-03-15T04:48:59.304951Z",
     "shell.execute_reply": "2021-03-15T04:48:59.305376Z"
    }
   },
   "outputs": [],
   "source": [
    "df = df.sort_values(by='location')"
   ]
  },
  {
   "cell_type": "code",
   "execution_count": 14,
   "metadata": {
    "execution": {
     "iopub.execute_input": "2021-03-15T04:48:59.311949Z",
     "iopub.status.busy": "2021-03-15T04:48:59.310658Z",
     "iopub.status.idle": "2021-03-15T04:48:59.313065Z",
     "shell.execute_reply": "2021-03-15T04:48:59.313783Z"
    }
   },
   "outputs": [],
   "source": [
    "df = df[df.location == 'California'].append(df[df.location != 'California']).reset_index(drop=True)"
   ]
  },
  {
   "cell_type": "code",
   "execution_count": null,
   "metadata": {},
   "outputs": [],
   "source": []
  },
  {
   "cell_type": "code",
   "execution_count": 15,
   "metadata": {
    "execution": {
     "iopub.execute_input": "2021-03-15T04:48:59.317811Z",
     "iopub.status.busy": "2021-03-15T04:48:59.317223Z",
     "iopub.status.idle": "2021-03-15T04:48:59.337708Z",
     "shell.execute_reply": "2021-03-15T04:48:59.337184Z"
    }
   },
   "outputs": [],
   "source": [
    "tz = pytz.timezone(\"America/New_York\")"
   ]
  },
  {
   "cell_type": "code",
   "execution_count": 16,
   "metadata": {
    "execution": {
     "iopub.execute_input": "2021-03-15T04:48:59.342282Z",
     "iopub.status.busy": "2021-03-15T04:48:59.340928Z",
     "iopub.status.idle": "2021-03-15T04:48:59.342891Z",
     "shell.execute_reply": "2021-03-15T04:48:59.343402Z"
    }
   },
   "outputs": [],
   "source": [
    "today = datetime.now(tz).date()"
   ]
  },
  {
   "cell_type": "code",
   "execution_count": 17,
   "metadata": {
    "execution": {
     "iopub.execute_input": "2021-03-15T04:48:59.348104Z",
     "iopub.status.busy": "2021-03-15T04:48:59.346749Z",
     "iopub.status.idle": "2021-03-15T04:48:59.348767Z",
     "shell.execute_reply": "2021-03-15T04:48:59.349256Z"
    }
   },
   "outputs": [],
   "source": [
    "data_dir = os.path.join(os.path.abspath(\"\"), \"data\")"
   ]
  },
  {
   "cell_type": "code",
   "execution_count": 18,
   "metadata": {
    "execution": {
     "iopub.execute_input": "2021-03-15T04:48:59.353564Z",
     "iopub.status.busy": "2021-03-15T04:48:59.352432Z",
     "iopub.status.idle": "2021-03-15T04:48:59.357152Z",
     "shell.execute_reply": "2021-03-15T04:48:59.356707Z"
    }
   },
   "outputs": [],
   "source": [
    "df.to_csv(os.path.join(data_dir, f\"{today}.csv\"), index=False)"
   ]
  },
  {
   "cell_type": "code",
   "execution_count": null,
   "metadata": {},
   "outputs": [],
   "source": []
  }
 ],
 "metadata": {
  "kernelspec": {
   "display_name": "Python 3",
   "language": "python",
   "name": "python3"
  },
  "language_info": {
   "codemirror_mode": {
    "name": "ipython",
    "version": 3
   },
   "file_extension": ".py",
   "mimetype": "text/x-python",
   "name": "python",
   "nbconvert_exporter": "python",
   "pygments_lexer": "ipython3",
   "version": "3.8.8"
  }
 },
 "nbformat": 4,
 "nbformat_minor": 4
}
