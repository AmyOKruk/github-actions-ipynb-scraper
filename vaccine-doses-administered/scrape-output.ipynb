{
 "cells": [
  {
   "cell_type": "markdown",
   "metadata": {},
   "source": [
    "# California COVID vaccinations scrape"
   ]
  },
  {
   "cell_type": "markdown",
   "metadata": {},
   "source": [
    "By [Amy O'Kruk](https://twitter.com/amyokruk)"
   ]
  },
  {
   "cell_type": "markdown",
   "metadata": {},
   "source": [
    "Downloads data on vaccine doses administered by county and statewide from a Tableau-powered dashboard from the California Department of Public Health."
   ]
  },
  {
   "cell_type": "code",
   "execution_count": 1,
   "metadata": {
    "execution": {
     "iopub.execute_input": "2021-03-20T20:41:51.031636Z",
     "iopub.status.busy": "2021-03-20T20:41:51.030974Z",
     "iopub.status.idle": "2021-03-20T20:41:51.462633Z",
     "shell.execute_reply": "2021-03-20T20:41:51.461492Z"
    }
   },
   "outputs": [],
   "source": [
    "import pandas as pd\n",
    "import requests\n",
    "from bs4 import BeautifulSoup\n",
    "import json\n",
    "import re\n",
    "import time\n",
    "from time import gmtime, strftime \n",
    "import os\n",
    "import pytz\n",
    "from datetime import datetime"
   ]
  },
  {
   "cell_type": "markdown",
   "metadata": {},
   "source": [
    "Scrape the dashboard page"
   ]
  },
  {
   "cell_type": "code",
   "execution_count": 2,
   "metadata": {
    "execution": {
     "iopub.execute_input": "2021-03-20T20:41:51.468825Z",
     "iopub.status.busy": "2021-03-20T20:41:51.466215Z",
     "iopub.status.idle": "2021-03-20T20:41:52.120579Z",
     "shell.execute_reply": "2021-03-20T20:41:52.119663Z"
    }
   },
   "outputs": [],
   "source": [
    "url = \"https://public.tableau.com/interactive/views/COVID-19VaccineDashboardPublic/Vaccine?:embed=y&:showVizHome=n&:apiID=host0\"\n",
    "\n",
    "r = requests.get(url)\n",
    "soup = BeautifulSoup(r.text, \"html.parser\")"
   ]
  },
  {
   "cell_type": "code",
   "execution_count": 3,
   "metadata": {
    "execution": {
     "iopub.execute_input": "2021-03-20T20:41:52.125360Z",
     "iopub.status.busy": "2021-03-20T20:41:52.124846Z",
     "iopub.status.idle": "2021-03-20T20:41:52.128119Z",
     "shell.execute_reply": "2021-03-20T20:41:52.128528Z"
    }
   },
   "outputs": [],
   "source": [
    "tableauData = json.loads(soup.find(\"textarea\",{\"id\": \"tsConfigContainer\"}).text)"
   ]
  },
  {
   "cell_type": "markdown",
   "metadata": {},
   "source": [
    "Get the link to the Tableau data"
   ]
  },
  {
   "cell_type": "code",
   "execution_count": 4,
   "metadata": {
    "execution": {
     "iopub.execute_input": "2021-03-20T20:41:52.132984Z",
     "iopub.status.busy": "2021-03-20T20:41:52.131746Z",
     "iopub.status.idle": "2021-03-20T20:41:52.133581Z",
     "shell.execute_reply": "2021-03-20T20:41:52.134014Z"
    }
   },
   "outputs": [],
   "source": [
    "dataUrl = f'https://public.tableau.com{tableauData[\"vizql_root\"]}/bootstrapSession/sessions/{tableauData[\"sessionid\"]}'"
   ]
  },
  {
   "cell_type": "code",
   "execution_count": 5,
   "metadata": {
    "execution": {
     "iopub.execute_input": "2021-03-20T20:41:52.140581Z",
     "iopub.status.busy": "2021-03-20T20:41:52.140056Z",
     "iopub.status.idle": "2021-03-20T20:41:52.434416Z",
     "shell.execute_reply": "2021-03-20T20:41:52.433945Z"
    }
   },
   "outputs": [],
   "source": [
    "r = requests.post(dataUrl, data= {\n",
    "    \"sheet_id\": tableauData[\"sheetId\"],\n",
    "})\n",
    "\n",
    "dataReg = re.search('\\d+;({.*})\\d+;({.*})', r.text, re.MULTILINE)\n",
    "data1 = json.loads(dataReg.group(2))\n",
    "\n",
    "dataJson = data1[\"secondaryInfo\"][\"presModelMap\"][\"dataDictionary\"][\"presModelHolder\"][\"genDataDictionaryPresModel\"][\"dataSegments\"][\"0\"][\"dataColumns\"]"
   ]
  },
  {
   "cell_type": "markdown",
   "metadata": {},
   "source": [
    "Isolate what you want"
   ]
  },
  {
   "cell_type": "code",
   "execution_count": 6,
   "metadata": {
    "execution": {
     "iopub.execute_input": "2021-03-20T20:41:52.439041Z",
     "iopub.status.busy": "2021-03-20T20:41:52.437830Z",
     "iopub.status.idle": "2021-03-20T20:41:52.439719Z",
     "shell.execute_reply": "2021-03-20T20:41:52.440557Z"
    }
   },
   "outputs": [],
   "source": [
    "counties = dataJson[2]['dataValues'][:58]"
   ]
  },
  {
   "cell_type": "code",
   "execution_count": 7,
   "metadata": {
    "execution": {
     "iopub.execute_input": "2021-03-20T20:41:52.445015Z",
     "iopub.status.busy": "2021-03-20T20:41:52.443795Z",
     "iopub.status.idle": "2021-03-20T20:41:52.445598Z",
     "shell.execute_reply": "2021-03-20T20:41:52.446022Z"
    }
   },
   "outputs": [],
   "source": [
    "doses = dataJson[0]['dataValues'][3:61]"
   ]
  },
  {
   "cell_type": "markdown",
   "metadata": {},
   "source": [
    "Data formatting"
   ]
  },
  {
   "cell_type": "code",
   "execution_count": 8,
   "metadata": {
    "execution": {
     "iopub.execute_input": "2021-03-20T20:41:52.450384Z",
     "iopub.status.busy": "2021-03-20T20:41:52.449212Z",
     "iopub.status.idle": "2021-03-20T20:41:52.450976Z",
     "shell.execute_reply": "2021-03-20T20:41:52.451414Z"
    }
   },
   "outputs": [],
   "source": [
    "zipped = dict(zip(counties, doses))"
   ]
  },
  {
   "cell_type": "code",
   "execution_count": 9,
   "metadata": {
    "execution": {
     "iopub.execute_input": "2021-03-20T20:41:52.457939Z",
     "iopub.status.busy": "2021-03-20T20:41:52.456767Z",
     "iopub.status.idle": "2021-03-20T20:41:52.458548Z",
     "shell.execute_reply": "2021-03-20T20:41:52.458970Z"
    }
   },
   "outputs": [],
   "source": [
    "df = pd.Series(zipped).reset_index()"
   ]
  },
  {
   "cell_type": "code",
   "execution_count": 10,
   "metadata": {
    "execution": {
     "iopub.execute_input": "2021-03-20T20:41:52.463341Z",
     "iopub.status.busy": "2021-03-20T20:41:52.462185Z",
     "iopub.status.idle": "2021-03-20T20:41:52.464031Z",
     "shell.execute_reply": "2021-03-20T20:41:52.464488Z"
    }
   },
   "outputs": [],
   "source": [
    "df.columns = ['location','doses']"
   ]
  },
  {
   "cell_type": "markdown",
   "metadata": {},
   "source": [
    "Grab the overall California total"
   ]
  },
  {
   "cell_type": "code",
   "execution_count": 11,
   "metadata": {
    "execution": {
     "iopub.execute_input": "2021-03-20T20:41:52.468767Z",
     "iopub.status.busy": "2021-03-20T20:41:52.467703Z",
     "iopub.status.idle": "2021-03-20T20:41:52.469999Z",
     "shell.execute_reply": "2021-03-20T20:41:52.469516Z"
    }
   },
   "outputs": [],
   "source": [
    "add = {'location':'California','doses':dataJson[0]['dataValues'][2]}"
   ]
  },
  {
   "cell_type": "code",
   "execution_count": 12,
   "metadata": {
    "execution": {
     "iopub.execute_input": "2021-03-20T20:41:52.477045Z",
     "iopub.status.busy": "2021-03-20T20:41:52.475848Z",
     "iopub.status.idle": "2021-03-20T20:41:52.477709Z",
     "shell.execute_reply": "2021-03-20T20:41:52.478133Z"
    }
   },
   "outputs": [],
   "source": [
    "df = df.append(add, ignore_index=True)"
   ]
  },
  {
   "cell_type": "code",
   "execution_count": 13,
   "metadata": {
    "execution": {
     "iopub.execute_input": "2021-03-20T20:41:52.483015Z",
     "iopub.status.busy": "2021-03-20T20:41:52.481858Z",
     "iopub.status.idle": "2021-03-20T20:41:52.483640Z",
     "shell.execute_reply": "2021-03-20T20:41:52.484038Z"
    }
   },
   "outputs": [],
   "source": [
    "df = df.sort_values(by='location')"
   ]
  },
  {
   "cell_type": "code",
   "execution_count": 14,
   "metadata": {
    "execution": {
     "iopub.execute_input": "2021-03-20T20:41:52.490483Z",
     "iopub.status.busy": "2021-03-20T20:41:52.489327Z",
     "iopub.status.idle": "2021-03-20T20:41:52.491088Z",
     "shell.execute_reply": "2021-03-20T20:41:52.491546Z"
    }
   },
   "outputs": [],
   "source": [
    "df = df[df.location == 'California'].append(df[df.location != 'California']).reset_index(drop=True)"
   ]
  },
  {
   "cell_type": "code",
   "execution_count": null,
   "metadata": {},
   "outputs": [],
   "source": []
  },
  {
   "cell_type": "code",
   "execution_count": 15,
   "metadata": {
    "execution": {
     "iopub.execute_input": "2021-03-20T20:41:52.494942Z",
     "iopub.status.busy": "2021-03-20T20:41:52.494439Z",
     "iopub.status.idle": "2021-03-20T20:41:52.511803Z",
     "shell.execute_reply": "2021-03-20T20:41:52.511306Z"
    }
   },
   "outputs": [],
   "source": [
    "tz = pytz.timezone(\"America/New_York\")"
   ]
  },
  {
   "cell_type": "code",
   "execution_count": 16,
   "metadata": {
    "execution": {
     "iopub.execute_input": "2021-03-20T20:41:52.515819Z",
     "iopub.status.busy": "2021-03-20T20:41:52.514655Z",
     "iopub.status.idle": "2021-03-20T20:41:52.516418Z",
     "shell.execute_reply": "2021-03-20T20:41:52.516846Z"
    }
   },
   "outputs": [],
   "source": [
    "today = datetime.now(tz).date()"
   ]
  },
  {
   "cell_type": "code",
   "execution_count": 17,
   "metadata": {
    "execution": {
     "iopub.execute_input": "2021-03-20T20:41:52.521230Z",
     "iopub.status.busy": "2021-03-20T20:41:52.519950Z",
     "iopub.status.idle": "2021-03-20T20:41:52.521834Z",
     "shell.execute_reply": "2021-03-20T20:41:52.522257Z"
    }
   },
   "outputs": [],
   "source": [
    "data_dir = os.path.join(os.path.abspath(\"\"), \"data\")"
   ]
  },
  {
   "cell_type": "code",
   "execution_count": 18,
   "metadata": {
    "execution": {
     "iopub.execute_input": "2021-03-20T20:41:52.527552Z",
     "iopub.status.busy": "2021-03-20T20:41:52.526537Z",
     "iopub.status.idle": "2021-03-20T20:41:52.530151Z",
     "shell.execute_reply": "2021-03-20T20:41:52.529642Z"
    }
   },
   "outputs": [],
   "source": [
    "df.to_csv(os.path.join(data_dir, f\"{today}.csv\"), index=False)"
   ]
  },
  {
   "cell_type": "code",
   "execution_count": null,
   "metadata": {},
   "outputs": [],
   "source": []
  }
 ],
 "metadata": {
  "kernelspec": {
   "display_name": "Python 3",
   "language": "python",
   "name": "python3"
  },
  "language_info": {
   "codemirror_mode": {
    "name": "ipython",
    "version": 3
   },
   "file_extension": ".py",
   "mimetype": "text/x-python",
   "name": "python",
   "nbconvert_exporter": "python",
   "pygments_lexer": "ipython3",
   "version": "3.8.8"
  }
 },
 "nbformat": 4,
 "nbformat_minor": 4
}
