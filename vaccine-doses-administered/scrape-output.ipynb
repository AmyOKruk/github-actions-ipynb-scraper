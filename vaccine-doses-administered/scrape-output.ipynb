{
 "cells": [
  {
   "cell_type": "markdown",
   "metadata": {},
   "source": [
    "# California COVID vaccinations scrape"
   ]
  },
  {
   "cell_type": "markdown",
   "metadata": {},
   "source": [
    "By [Amy O'Kruk](https://twitter.com/amyokruk)"
   ]
  },
  {
   "cell_type": "markdown",
   "metadata": {},
   "source": [
    "Downloads data on vaccine doses administered by county and statewide from a Tableau-powered dashboard from the California Department of Public Health."
   ]
  },
  {
   "cell_type": "code",
   "execution_count": 1,
   "metadata": {
    "execution": {
     "iopub.execute_input": "2021-03-13T06:46:25.505404Z",
     "iopub.status.busy": "2021-03-13T06:46:25.504812Z",
     "iopub.status.idle": "2021-03-13T06:46:25.821352Z",
     "shell.execute_reply": "2021-03-13T06:46:25.820187Z"
    }
   },
   "outputs": [],
   "source": [
    "import pandas as pd\n",
    "import requests\n",
    "from bs4 import BeautifulSoup\n",
    "import json\n",
    "import re\n",
    "import time\n",
    "from time import gmtime, strftime \n",
    "import os\n",
    "import pytz\n",
    "from datetime import datetime"
   ]
  },
  {
   "cell_type": "markdown",
   "metadata": {},
   "source": [
    "Scrape the dashboard page"
   ]
  },
  {
   "cell_type": "code",
   "execution_count": 2,
   "metadata": {
    "execution": {
     "iopub.execute_input": "2021-03-13T06:46:25.825965Z",
     "iopub.status.busy": "2021-03-13T06:46:25.825530Z",
     "iopub.status.idle": "2021-03-13T06:46:26.436263Z",
     "shell.execute_reply": "2021-03-13T06:46:26.435360Z"
    }
   },
   "outputs": [],
   "source": [
    "url = \"https://public.tableau.com/interactive/views/COVID-19VaccineDashboardPublic/Vaccine?:embed=y&:showVizHome=n&:apiID=host0\"\n",
    "\n",
    "r = requests.get(url)\n",
    "soup = BeautifulSoup(r.text, \"html.parser\")"
   ]
  },
  {
   "cell_type": "code",
   "execution_count": 3,
   "metadata": {
    "execution": {
     "iopub.execute_input": "2021-03-13T06:46:26.439898Z",
     "iopub.status.busy": "2021-03-13T06:46:26.439521Z",
     "iopub.status.idle": "2021-03-13T06:46:26.442850Z",
     "shell.execute_reply": "2021-03-13T06:46:26.442270Z"
    }
   },
   "outputs": [],
   "source": [
    "tableauData = json.loads(soup.find(\"textarea\",{\"id\": \"tsConfigContainer\"}).text)"
   ]
  },
  {
   "cell_type": "markdown",
   "metadata": {},
   "source": [
    "Get the link to the Tableau data"
   ]
  },
  {
   "cell_type": "code",
   "execution_count": 4,
   "metadata": {
    "execution": {
     "iopub.execute_input": "2021-03-13T06:46:26.445352Z",
     "iopub.status.busy": "2021-03-13T06:46:26.444984Z",
     "iopub.status.idle": "2021-03-13T06:46:26.448311Z",
     "shell.execute_reply": "2021-03-13T06:46:26.448713Z"
    }
   },
   "outputs": [],
   "source": [
    "dataUrl = f'https://public.tableau.com{tableauData[\"vizql_root\"]}/bootstrapSession/sessions/{tableauData[\"sessionid\"]}'"
   ]
  },
  {
   "cell_type": "code",
   "execution_count": 5,
   "metadata": {
    "execution": {
     "iopub.execute_input": "2021-03-13T06:46:26.453735Z",
     "iopub.status.busy": "2021-03-13T06:46:26.453126Z",
     "iopub.status.idle": "2021-03-13T06:46:26.756677Z",
     "shell.execute_reply": "2021-03-13T06:46:26.756033Z"
    }
   },
   "outputs": [],
   "source": [
    "r = requests.post(dataUrl, data= {\n",
    "    \"sheet_id\": tableauData[\"sheetId\"],\n",
    "})\n",
    "\n",
    "dataReg = re.search('\\d+;({.*})\\d+;({.*})', r.text, re.MULTILINE)\n",
    "data1 = json.loads(dataReg.group(2))\n",
    "\n",
    "dataJson = data1[\"secondaryInfo\"][\"presModelMap\"][\"dataDictionary\"][\"presModelHolder\"][\"genDataDictionaryPresModel\"][\"dataSegments\"][\"0\"][\"dataColumns\"]"
   ]
  },
  {
   "cell_type": "markdown",
   "metadata": {},
   "source": [
    "Isolate what you want"
   ]
  },
  {
   "cell_type": "code",
   "execution_count": 6,
   "metadata": {
    "execution": {
     "iopub.execute_input": "2021-03-13T06:46:26.760237Z",
     "iopub.status.busy": "2021-03-13T06:46:26.759533Z",
     "iopub.status.idle": "2021-03-13T06:46:26.763849Z",
     "shell.execute_reply": "2021-03-13T06:46:26.763246Z"
    }
   },
   "outputs": [],
   "source": [
    "counties = dataJson[2]['dataValues'][:58]"
   ]
  },
  {
   "cell_type": "code",
   "execution_count": 7,
   "metadata": {
    "execution": {
     "iopub.execute_input": "2021-03-13T06:46:26.766826Z",
     "iopub.status.busy": "2021-03-13T06:46:26.766463Z",
     "iopub.status.idle": "2021-03-13T06:46:26.769378Z",
     "shell.execute_reply": "2021-03-13T06:46:26.768990Z"
    }
   },
   "outputs": [],
   "source": [
    "doses = dataJson[0]['dataValues'][3:61]"
   ]
  },
  {
   "cell_type": "markdown",
   "metadata": {},
   "source": [
    "Data formatting"
   ]
  },
  {
   "cell_type": "code",
   "execution_count": 8,
   "metadata": {
    "execution": {
     "iopub.execute_input": "2021-03-13T06:46:26.772269Z",
     "iopub.status.busy": "2021-03-13T06:46:26.771812Z",
     "iopub.status.idle": "2021-03-13T06:46:26.774716Z",
     "shell.execute_reply": "2021-03-13T06:46:26.774349Z"
    }
   },
   "outputs": [],
   "source": [
    "zipped = dict(zip(counties, doses))"
   ]
  },
  {
   "cell_type": "code",
   "execution_count": 9,
   "metadata": {
    "execution": {
     "iopub.execute_input": "2021-03-13T06:46:26.779947Z",
     "iopub.status.busy": "2021-03-13T06:46:26.779431Z",
     "iopub.status.idle": "2021-03-13T06:46:26.782759Z",
     "shell.execute_reply": "2021-03-13T06:46:26.782334Z"
    }
   },
   "outputs": [],
   "source": [
    "df = pd.Series(zipped).reset_index()"
   ]
  },
  {
   "cell_type": "code",
   "execution_count": 10,
   "metadata": {
    "execution": {
     "iopub.execute_input": "2021-03-13T06:46:26.786933Z",
     "iopub.status.busy": "2021-03-13T06:46:26.785931Z",
     "iopub.status.idle": "2021-03-13T06:46:26.787474Z",
     "shell.execute_reply": "2021-03-13T06:46:26.787824Z"
    }
   },
   "outputs": [],
   "source": [
    "df.columns = ['location','doses']"
   ]
  },
  {
   "cell_type": "markdown",
   "metadata": {},
   "source": [
    "Grab the overall California total"
   ]
  },
  {
   "cell_type": "code",
   "execution_count": 11,
   "metadata": {
    "execution": {
     "iopub.execute_input": "2021-03-13T06:46:26.791015Z",
     "iopub.status.busy": "2021-03-13T06:46:26.790443Z",
     "iopub.status.idle": "2021-03-13T06:46:26.792661Z",
     "shell.execute_reply": "2021-03-13T06:46:26.792118Z"
    }
   },
   "outputs": [],
   "source": [
    "add = {'location':'California','doses':dataJson[0]['dataValues'][2]}"
   ]
  },
  {
   "cell_type": "code",
   "execution_count": 12,
   "metadata": {
    "execution": {
     "iopub.execute_input": "2021-03-13T06:46:26.797541Z",
     "iopub.status.busy": "2021-03-13T06:46:26.797174Z",
     "iopub.status.idle": "2021-03-13T06:46:26.799083Z",
     "shell.execute_reply": "2021-03-13T06:46:26.798668Z"
    }
   },
   "outputs": [],
   "source": [
    "df = df.append(add, ignore_index=True)"
   ]
  },
  {
   "cell_type": "code",
   "execution_count": 13,
   "metadata": {
    "execution": {
     "iopub.execute_input": "2021-03-13T06:46:26.802541Z",
     "iopub.status.busy": "2021-03-13T06:46:26.801812Z",
     "iopub.status.idle": "2021-03-13T06:46:26.803651Z",
     "shell.execute_reply": "2021-03-13T06:46:26.803282Z"
    }
   },
   "outputs": [],
   "source": [
    "df = df.sort_values(by='location')"
   ]
  },
  {
   "cell_type": "code",
   "execution_count": 14,
   "metadata": {
    "execution": {
     "iopub.execute_input": "2021-03-13T06:46:26.809152Z",
     "iopub.status.busy": "2021-03-13T06:46:26.808034Z",
     "iopub.status.idle": "2021-03-13T06:46:26.809749Z",
     "shell.execute_reply": "2021-03-13T06:46:26.810175Z"
    }
   },
   "outputs": [],
   "source": [
    "df = df[df.location == 'California'].append(df[df.location != 'California']).reset_index(drop=True)"
   ]
  },
  {
   "cell_type": "code",
   "execution_count": null,
   "metadata": {},
   "outputs": [],
   "source": []
  },
  {
   "cell_type": "code",
   "execution_count": 15,
   "metadata": {
    "execution": {
     "iopub.execute_input": "2021-03-13T06:46:26.812942Z",
     "iopub.status.busy": "2021-03-13T06:46:26.812501Z",
     "iopub.status.idle": "2021-03-13T06:46:26.826487Z",
     "shell.execute_reply": "2021-03-13T06:46:26.826141Z"
    }
   },
   "outputs": [],
   "source": [
    "tz = pytz.timezone(\"America/New_York\")"
   ]
  },
  {
   "cell_type": "code",
   "execution_count": 16,
   "metadata": {
    "execution": {
     "iopub.execute_input": "2021-03-13T06:46:26.829406Z",
     "iopub.status.busy": "2021-03-13T06:46:26.828583Z",
     "iopub.status.idle": "2021-03-13T06:46:26.830625Z",
     "shell.execute_reply": "2021-03-13T06:46:26.830246Z"
    }
   },
   "outputs": [],
   "source": [
    "today = datetime.now(tz).date()"
   ]
  },
  {
   "cell_type": "code",
   "execution_count": 17,
   "metadata": {
    "execution": {
     "iopub.execute_input": "2021-03-13T06:46:26.833417Z",
     "iopub.status.busy": "2021-03-13T06:46:26.833028Z",
     "iopub.status.idle": "2021-03-13T06:46:26.834886Z",
     "shell.execute_reply": "2021-03-13T06:46:26.834482Z"
    }
   },
   "outputs": [],
   "source": [
    "data_dir = os.path.join(os.path.abspath(\"\"), \"data\")"
   ]
  },
  {
   "cell_type": "code",
   "execution_count": 18,
   "metadata": {
    "execution": {
     "iopub.execute_input": "2021-03-13T06:46:26.839620Z",
     "iopub.status.busy": "2021-03-13T06:46:26.837520Z",
     "iopub.status.idle": "2021-03-13T06:46:26.841372Z",
     "shell.execute_reply": "2021-03-13T06:46:26.841069Z"
    }
   },
   "outputs": [],
   "source": [
    "df.to_csv(os.path.join(data_dir, f\"{today}.csv\"), index=False)"
   ]
  },
  {
   "cell_type": "code",
   "execution_count": null,
   "metadata": {},
   "outputs": [],
   "source": []
  }
 ],
 "metadata": {
  "kernelspec": {
   "display_name": "Python 3",
   "language": "python",
   "name": "python3"
  },
  "language_info": {
   "codemirror_mode": {
    "name": "ipython",
    "version": 3
   },
   "file_extension": ".py",
   "mimetype": "text/x-python",
   "name": "python",
   "nbconvert_exporter": "python",
   "pygments_lexer": "ipython3",
   "version": "3.8.8"
  }
 },
 "nbformat": 4,
 "nbformat_minor": 4
}
