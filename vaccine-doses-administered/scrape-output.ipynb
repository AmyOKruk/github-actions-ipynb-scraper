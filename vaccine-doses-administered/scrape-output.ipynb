{
 "cells": [
  {
   "cell_type": "markdown",
   "metadata": {},
   "source": [
    "# California COVID vaccinations scrape"
   ]
  },
  {
   "cell_type": "markdown",
   "metadata": {},
   "source": [
    "By [Amy O'Kruk](https://twitter.com/amyokruk)"
   ]
  },
  {
   "cell_type": "markdown",
   "metadata": {},
   "source": [
    "Downloads data on vaccine doses administered by county and statewide from a Tableau-powered dashboard from the California Department of Public Health."
   ]
  },
  {
   "cell_type": "code",
   "execution_count": 1,
   "metadata": {
    "execution": {
     "iopub.execute_input": "2021-03-15T17:53:57.374597Z",
     "iopub.status.busy": "2021-03-15T17:53:57.374055Z",
     "iopub.status.idle": "2021-03-15T17:53:58.240581Z",
     "shell.execute_reply": "2021-03-15T17:53:58.239159Z"
    }
   },
   "outputs": [],
   "source": [
    "import pandas as pd\n",
    "import requests\n",
    "from bs4 import BeautifulSoup\n",
    "import json\n",
    "import re\n",
    "import time\n",
    "from time import gmtime, strftime \n",
    "import os\n",
    "import pytz\n",
    "from datetime import datetime"
   ]
  },
  {
   "cell_type": "markdown",
   "metadata": {},
   "source": [
    "Scrape the dashboard page"
   ]
  },
  {
   "cell_type": "code",
   "execution_count": 2,
   "metadata": {
    "execution": {
     "iopub.execute_input": "2021-03-15T17:53:58.246353Z",
     "iopub.status.busy": "2021-03-15T17:53:58.244185Z",
     "iopub.status.idle": "2021-03-15T17:53:58.674595Z",
     "shell.execute_reply": "2021-03-15T17:53:58.675213Z"
    }
   },
   "outputs": [],
   "source": [
    "url = \"https://public.tableau.com/interactive/views/COVID-19VaccineDashboardPublic/Vaccine?:embed=y&:showVizHome=n&:apiID=host0\"\n",
    "\n",
    "r = requests.get(url)\n",
    "soup = BeautifulSoup(r.text, \"html.parser\")"
   ]
  },
  {
   "cell_type": "code",
   "execution_count": 3,
   "metadata": {
    "execution": {
     "iopub.execute_input": "2021-03-15T17:53:58.680662Z",
     "iopub.status.busy": "2021-03-15T17:53:58.680162Z",
     "iopub.status.idle": "2021-03-15T17:53:58.683518Z",
     "shell.execute_reply": "2021-03-15T17:53:58.683931Z"
    }
   },
   "outputs": [],
   "source": [
    "tableauData = json.loads(soup.find(\"textarea\",{\"id\": \"tsConfigContainer\"}).text)"
   ]
  },
  {
   "cell_type": "markdown",
   "metadata": {},
   "source": [
    "Get the link to the Tableau data"
   ]
  },
  {
   "cell_type": "code",
   "execution_count": 4,
   "metadata": {
    "execution": {
     "iopub.execute_input": "2021-03-15T17:53:58.687706Z",
     "iopub.status.busy": "2021-03-15T17:53:58.687187Z",
     "iopub.status.idle": "2021-03-15T17:53:58.690781Z",
     "shell.execute_reply": "2021-03-15T17:53:58.690213Z"
    }
   },
   "outputs": [],
   "source": [
    "dataUrl = f'https://public.tableau.com{tableauData[\"vizql_root\"]}/bootstrapSession/sessions/{tableauData[\"sessionid\"]}'"
   ]
  },
  {
   "cell_type": "code",
   "execution_count": 5,
   "metadata": {
    "execution": {
     "iopub.execute_input": "2021-03-15T17:53:58.697415Z",
     "iopub.status.busy": "2021-03-15T17:53:58.696932Z",
     "iopub.status.idle": "2021-03-15T17:53:59.282664Z",
     "shell.execute_reply": "2021-03-15T17:53:59.282163Z"
    }
   },
   "outputs": [],
   "source": [
    "r = requests.post(dataUrl, data= {\n",
    "    \"sheet_id\": tableauData[\"sheetId\"],\n",
    "})\n",
    "\n",
    "dataReg = re.search('\\d+;({.*})\\d+;({.*})', r.text, re.MULTILINE)\n",
    "data1 = json.loads(dataReg.group(2))\n",
    "\n",
    "dataJson = data1[\"secondaryInfo\"][\"presModelMap\"][\"dataDictionary\"][\"presModelHolder\"][\"genDataDictionaryPresModel\"][\"dataSegments\"][\"0\"][\"dataColumns\"]"
   ]
  },
  {
   "cell_type": "markdown",
   "metadata": {},
   "source": [
    "Isolate what you want"
   ]
  },
  {
   "cell_type": "code",
   "execution_count": 6,
   "metadata": {
    "execution": {
     "iopub.execute_input": "2021-03-15T17:53:59.285551Z",
     "iopub.status.busy": "2021-03-15T17:53:59.285039Z",
     "iopub.status.idle": "2021-03-15T17:53:59.288315Z",
     "shell.execute_reply": "2021-03-15T17:53:59.287867Z"
    }
   },
   "outputs": [],
   "source": [
    "counties = dataJson[2]['dataValues'][:58]"
   ]
  },
  {
   "cell_type": "code",
   "execution_count": 7,
   "metadata": {
    "execution": {
     "iopub.execute_input": "2021-03-15T17:53:59.291726Z",
     "iopub.status.busy": "2021-03-15T17:53:59.291212Z",
     "iopub.status.idle": "2021-03-15T17:53:59.293493Z",
     "shell.execute_reply": "2021-03-15T17:53:59.292979Z"
    }
   },
   "outputs": [],
   "source": [
    "doses = dataJson[0]['dataValues'][3:61]"
   ]
  },
  {
   "cell_type": "markdown",
   "metadata": {},
   "source": [
    "Data formatting"
   ]
  },
  {
   "cell_type": "code",
   "execution_count": 8,
   "metadata": {
    "execution": {
     "iopub.execute_input": "2021-03-15T17:53:59.296830Z",
     "iopub.status.busy": "2021-03-15T17:53:59.296334Z",
     "iopub.status.idle": "2021-03-15T17:53:59.300060Z",
     "shell.execute_reply": "2021-03-15T17:53:59.299575Z"
    }
   },
   "outputs": [],
   "source": [
    "zipped = dict(zip(counties, doses))"
   ]
  },
  {
   "cell_type": "code",
   "execution_count": 9,
   "metadata": {
    "execution": {
     "iopub.execute_input": "2021-03-15T17:53:59.305601Z",
     "iopub.status.busy": "2021-03-15T17:53:59.305118Z",
     "iopub.status.idle": "2021-03-15T17:53:59.307256Z",
     "shell.execute_reply": "2021-03-15T17:53:59.306757Z"
    }
   },
   "outputs": [],
   "source": [
    "df = pd.Series(zipped).reset_index()"
   ]
  },
  {
   "cell_type": "code",
   "execution_count": 10,
   "metadata": {
    "execution": {
     "iopub.execute_input": "2021-03-15T17:53:59.310632Z",
     "iopub.status.busy": "2021-03-15T17:53:59.310159Z",
     "iopub.status.idle": "2021-03-15T17:53:59.312396Z",
     "shell.execute_reply": "2021-03-15T17:53:59.311945Z"
    }
   },
   "outputs": [],
   "source": [
    "df.columns = ['location','doses']"
   ]
  },
  {
   "cell_type": "markdown",
   "metadata": {},
   "source": [
    "Grab the overall California total"
   ]
  },
  {
   "cell_type": "code",
   "execution_count": 11,
   "metadata": {
    "execution": {
     "iopub.execute_input": "2021-03-15T17:53:59.316038Z",
     "iopub.status.busy": "2021-03-15T17:53:59.315529Z",
     "iopub.status.idle": "2021-03-15T17:53:59.318296Z",
     "shell.execute_reply": "2021-03-15T17:53:59.317849Z"
    }
   },
   "outputs": [],
   "source": [
    "add = {'location':'California','doses':dataJson[0]['dataValues'][2]}"
   ]
  },
  {
   "cell_type": "code",
   "execution_count": 12,
   "metadata": {
    "execution": {
     "iopub.execute_input": "2021-03-15T17:53:59.324499Z",
     "iopub.status.busy": "2021-03-15T17:53:59.324022Z",
     "iopub.status.idle": "2021-03-15T17:53:59.326103Z",
     "shell.execute_reply": "2021-03-15T17:53:59.325654Z"
    }
   },
   "outputs": [],
   "source": [
    "df = df.append(add, ignore_index=True)"
   ]
  },
  {
   "cell_type": "code",
   "execution_count": 13,
   "metadata": {
    "execution": {
     "iopub.execute_input": "2021-03-15T17:53:59.330082Z",
     "iopub.status.busy": "2021-03-15T17:53:59.329602Z",
     "iopub.status.idle": "2021-03-15T17:53:59.332675Z",
     "shell.execute_reply": "2021-03-15T17:53:59.333060Z"
    }
   },
   "outputs": [],
   "source": [
    "df = df.sort_values(by='location')"
   ]
  },
  {
   "cell_type": "code",
   "execution_count": 14,
   "metadata": {
    "execution": {
     "iopub.execute_input": "2021-03-15T17:53:59.339016Z",
     "iopub.status.busy": "2021-03-15T17:53:59.338170Z",
     "iopub.status.idle": "2021-03-15T17:53:59.340246Z",
     "shell.execute_reply": "2021-03-15T17:53:59.339828Z"
    }
   },
   "outputs": [],
   "source": [
    "df = df[df.location == 'California'].append(df[df.location != 'California']).reset_index(drop=True)"
   ]
  },
  {
   "cell_type": "code",
   "execution_count": null,
   "metadata": {},
   "outputs": [],
   "source": []
  },
  {
   "cell_type": "code",
   "execution_count": 15,
   "metadata": {
    "execution": {
     "iopub.execute_input": "2021-03-15T17:53:59.343501Z",
     "iopub.status.busy": "2021-03-15T17:53:59.343004Z",
     "iopub.status.idle": "2021-03-15T17:53:59.359903Z",
     "shell.execute_reply": "2021-03-15T17:53:59.360302Z"
    }
   },
   "outputs": [],
   "source": [
    "tz = pytz.timezone(\"America/New_York\")"
   ]
  },
  {
   "cell_type": "code",
   "execution_count": 16,
   "metadata": {
    "execution": {
     "iopub.execute_input": "2021-03-15T17:53:59.364514Z",
     "iopub.status.busy": "2021-03-15T17:53:59.363447Z",
     "iopub.status.idle": "2021-03-15T17:53:59.365101Z",
     "shell.execute_reply": "2021-03-15T17:53:59.365526Z"
    }
   },
   "outputs": [],
   "source": [
    "today = datetime.now(tz).date()"
   ]
  },
  {
   "cell_type": "code",
   "execution_count": 17,
   "metadata": {
    "execution": {
     "iopub.execute_input": "2021-03-15T17:53:59.369531Z",
     "iopub.status.busy": "2021-03-15T17:53:59.368592Z",
     "iopub.status.idle": "2021-03-15T17:53:59.370296Z",
     "shell.execute_reply": "2021-03-15T17:53:59.370727Z"
    }
   },
   "outputs": [],
   "source": [
    "data_dir = os.path.join(os.path.abspath(\"\"), \"data\")"
   ]
  },
  {
   "cell_type": "code",
   "execution_count": 18,
   "metadata": {
    "execution": {
     "iopub.execute_input": "2021-03-15T17:53:59.375196Z",
     "iopub.status.busy": "2021-03-15T17:53:59.373979Z",
     "iopub.status.idle": "2021-03-15T17:53:59.378604Z",
     "shell.execute_reply": "2021-03-15T17:53:59.378089Z"
    }
   },
   "outputs": [],
   "source": [
    "df.to_csv(os.path.join(data_dir, f\"{today}.csv\"), index=False)"
   ]
  },
  {
   "cell_type": "code",
   "execution_count": null,
   "metadata": {},
   "outputs": [],
   "source": []
  }
 ],
 "metadata": {
  "kernelspec": {
   "display_name": "Python 3",
   "language": "python",
   "name": "python3"
  },
  "language_info": {
   "codemirror_mode": {
    "name": "ipython",
    "version": 3
   },
   "file_extension": ".py",
   "mimetype": "text/x-python",
   "name": "python",
   "nbconvert_exporter": "python",
   "pygments_lexer": "ipython3",
   "version": "3.8.8"
  }
 },
 "nbformat": 4,
 "nbformat_minor": 4
}
