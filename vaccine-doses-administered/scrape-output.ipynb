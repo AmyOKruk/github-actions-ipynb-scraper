{
 "cells": [
  {
   "cell_type": "markdown",
   "metadata": {},
   "source": [
    "# California COVID vaccinations scrape"
   ]
  },
  {
   "cell_type": "markdown",
   "metadata": {},
   "source": [
    "By [Amy O'Kruk](https://twitter.com/amyokruk)"
   ]
  },
  {
   "cell_type": "markdown",
   "metadata": {},
   "source": [
    "Downloads data on vaccine doses administered by county and statewide from a Tableau-powered dashboard from the California Department of Public Health."
   ]
  },
  {
   "cell_type": "code",
   "execution_count": 1,
   "metadata": {
    "execution": {
     "iopub.execute_input": "2021-03-11T03:43:57.326081Z",
     "iopub.status.busy": "2021-03-11T03:43:57.325285Z",
     "iopub.status.idle": "2021-03-11T03:43:58.002557Z",
     "shell.execute_reply": "2021-03-11T03:43:58.001369Z"
    }
   },
   "outputs": [],
   "source": [
    "import pandas as pd\n",
    "import requests\n",
    "from bs4 import BeautifulSoup\n",
    "import json\n",
    "import re\n",
    "import time\n",
    "from time import gmtime, strftime \n",
    "import os\n",
    "import pytz\n",
    "from datetime import datetime"
   ]
  },
  {
   "cell_type": "markdown",
   "metadata": {},
   "source": [
    "Scrape the dashboard page"
   ]
  },
  {
   "cell_type": "code",
   "execution_count": 2,
   "metadata": {
    "execution": {
     "iopub.execute_input": "2021-03-11T03:43:58.009071Z",
     "iopub.status.busy": "2021-03-11T03:43:58.006485Z",
     "iopub.status.idle": "2021-03-11T03:43:58.258406Z",
     "shell.execute_reply": "2021-03-11T03:43:58.257831Z"
    }
   },
   "outputs": [],
   "source": [
    "url = \"https://public.tableau.com/interactive/views/COVID-19VaccineDashboardPublic/Vaccine?:embed=y&:showVizHome=n&:apiID=host0\"\n",
    "\n",
    "r = requests.get(url)\n",
    "soup = BeautifulSoup(r.text, \"html.parser\")"
   ]
  },
  {
   "cell_type": "code",
   "execution_count": 3,
   "metadata": {
    "execution": {
     "iopub.execute_input": "2021-03-11T03:43:58.264505Z",
     "iopub.status.busy": "2021-03-11T03:43:58.263606Z",
     "iopub.status.idle": "2021-03-11T03:43:58.268293Z",
     "shell.execute_reply": "2021-03-11T03:43:58.267627Z"
    }
   },
   "outputs": [],
   "source": [
    "tableauData = json.loads(soup.find(\"textarea\",{\"id\": \"tsConfigContainer\"}).text)"
   ]
  },
  {
   "cell_type": "markdown",
   "metadata": {},
   "source": [
    "Get the link to the Tableau data"
   ]
  },
  {
   "cell_type": "code",
   "execution_count": 4,
   "metadata": {
    "execution": {
     "iopub.execute_input": "2021-03-11T03:43:58.273668Z",
     "iopub.status.busy": "2021-03-11T03:43:58.272151Z",
     "iopub.status.idle": "2021-03-11T03:43:58.274684Z",
     "shell.execute_reply": "2021-03-11T03:43:58.275304Z"
    }
   },
   "outputs": [],
   "source": [
    "dataUrl = f'https://public.tableau.com{tableauData[\"vizql_root\"]}/bootstrapSession/sessions/{tableauData[\"sessionid\"]}'"
   ]
  },
  {
   "cell_type": "code",
   "execution_count": 5,
   "metadata": {
    "execution": {
     "iopub.execute_input": "2021-03-11T03:43:58.278628Z",
     "iopub.status.busy": "2021-03-11T03:43:58.277825Z",
     "iopub.status.idle": "2021-03-11T03:43:58.510829Z",
     "shell.execute_reply": "2021-03-11T03:43:58.510163Z"
    }
   },
   "outputs": [],
   "source": [
    "r = requests.post(dataUrl, data= {\n",
    "    \"sheet_id\": tableauData[\"sheetId\"],\n",
    "})\n",
    "\n",
    "dataReg = re.search('\\d+;({.*})\\d+;({.*})', r.text, re.MULTILINE)\n",
    "data1 = json.loads(dataReg.group(2))\n",
    "\n",
    "dataJson = data1[\"secondaryInfo\"][\"presModelMap\"][\"dataDictionary\"][\"presModelHolder\"][\"genDataDictionaryPresModel\"][\"dataSegments\"][\"0\"][\"dataColumns\"]"
   ]
  },
  {
   "cell_type": "markdown",
   "metadata": {},
   "source": [
    "Isolate what you want"
   ]
  },
  {
   "cell_type": "code",
   "execution_count": 6,
   "metadata": {
    "execution": {
     "iopub.execute_input": "2021-03-11T03:43:58.516608Z",
     "iopub.status.busy": "2021-03-11T03:43:58.515012Z",
     "iopub.status.idle": "2021-03-11T03:43:58.517448Z",
     "shell.execute_reply": "2021-03-11T03:43:58.517942Z"
    }
   },
   "outputs": [],
   "source": [
    "counties = dataJson[2]['dataValues'][:58]"
   ]
  },
  {
   "cell_type": "code",
   "execution_count": 7,
   "metadata": {
    "execution": {
     "iopub.execute_input": "2021-03-11T03:43:58.523190Z",
     "iopub.status.busy": "2021-03-11T03:43:58.521764Z",
     "iopub.status.idle": "2021-03-11T03:43:58.523868Z",
     "shell.execute_reply": "2021-03-11T03:43:58.524374Z"
    }
   },
   "outputs": [],
   "source": [
    "doses = dataJson[0]['dataValues'][3:61]"
   ]
  },
  {
   "cell_type": "markdown",
   "metadata": {},
   "source": [
    "Data formatting"
   ]
  },
  {
   "cell_type": "code",
   "execution_count": 8,
   "metadata": {
    "execution": {
     "iopub.execute_input": "2021-03-11T03:43:58.530618Z",
     "iopub.status.busy": "2021-03-11T03:43:58.528532Z",
     "iopub.status.idle": "2021-03-11T03:43:58.531496Z",
     "shell.execute_reply": "2021-03-11T03:43:58.532127Z"
    }
   },
   "outputs": [],
   "source": [
    "zipped = dict(zip(counties, doses))"
   ]
  },
  {
   "cell_type": "code",
   "execution_count": 9,
   "metadata": {
    "execution": {
     "iopub.execute_input": "2021-03-11T03:43:58.540173Z",
     "iopub.status.busy": "2021-03-11T03:43:58.538759Z",
     "iopub.status.idle": "2021-03-11T03:43:58.541033Z",
     "shell.execute_reply": "2021-03-11T03:43:58.541543Z"
    }
   },
   "outputs": [],
   "source": [
    "df = pd.Series(zipped).reset_index()"
   ]
  },
  {
   "cell_type": "code",
   "execution_count": 10,
   "metadata": {
    "execution": {
     "iopub.execute_input": "2021-03-11T03:43:58.546784Z",
     "iopub.status.busy": "2021-03-11T03:43:58.545286Z",
     "iopub.status.idle": "2021-03-11T03:43:58.547685Z",
     "shell.execute_reply": "2021-03-11T03:43:58.548199Z"
    }
   },
   "outputs": [],
   "source": [
    "df.columns = ['location','doses']"
   ]
  },
  {
   "cell_type": "markdown",
   "metadata": {},
   "source": [
    "Grab the overall California total"
   ]
  },
  {
   "cell_type": "code",
   "execution_count": 11,
   "metadata": {
    "execution": {
     "iopub.execute_input": "2021-03-11T03:43:58.553377Z",
     "iopub.status.busy": "2021-03-11T03:43:58.552035Z",
     "iopub.status.idle": "2021-03-11T03:43:58.554036Z",
     "shell.execute_reply": "2021-03-11T03:43:58.554521Z"
    }
   },
   "outputs": [],
   "source": [
    "add = {'location':'California','doses':dataJson[0]['dataValues'][2]}"
   ]
  },
  {
   "cell_type": "code",
   "execution_count": 12,
   "metadata": {
    "execution": {
     "iopub.execute_input": "2021-03-11T03:43:58.563068Z",
     "iopub.status.busy": "2021-03-11T03:43:58.561593Z",
     "iopub.status.idle": "2021-03-11T03:43:58.563806Z",
     "shell.execute_reply": "2021-03-11T03:43:58.564312Z"
    }
   },
   "outputs": [],
   "source": [
    "df = df.append(add, ignore_index=True)"
   ]
  },
  {
   "cell_type": "code",
   "execution_count": 13,
   "metadata": {
    "execution": {
     "iopub.execute_input": "2021-03-11T03:43:58.570014Z",
     "iopub.status.busy": "2021-03-11T03:43:58.568576Z",
     "iopub.status.idle": "2021-03-11T03:43:58.570766Z",
     "shell.execute_reply": "2021-03-11T03:43:58.571389Z"
    }
   },
   "outputs": [],
   "source": [
    "df = df.sort_values(by='location')"
   ]
  },
  {
   "cell_type": "code",
   "execution_count": 14,
   "metadata": {
    "execution": {
     "iopub.execute_input": "2021-03-11T03:43:58.579004Z",
     "iopub.status.busy": "2021-03-11T03:43:58.577546Z",
     "iopub.status.idle": "2021-03-11T03:43:58.579723Z",
     "shell.execute_reply": "2021-03-11T03:43:58.580321Z"
    }
   },
   "outputs": [],
   "source": [
    "df = df[df.location == 'California'].append(df[df.location != 'California']).reset_index(drop=True)"
   ]
  },
  {
   "cell_type": "code",
   "execution_count": null,
   "metadata": {},
   "outputs": [],
   "source": []
  },
  {
   "cell_type": "code",
   "execution_count": 15,
   "metadata": {
    "execution": {
     "iopub.execute_input": "2021-03-11T03:43:58.584351Z",
     "iopub.status.busy": "2021-03-11T03:43:58.583751Z",
     "iopub.status.idle": "2021-03-11T03:43:58.608146Z",
     "shell.execute_reply": "2021-03-11T03:43:58.607518Z"
    }
   },
   "outputs": [],
   "source": [
    "tz = pytz.timezone(\"America/New_York\")"
   ]
  },
  {
   "cell_type": "code",
   "execution_count": 16,
   "metadata": {
    "execution": {
     "iopub.execute_input": "2021-03-11T03:43:58.614609Z",
     "iopub.status.busy": "2021-03-11T03:43:58.612726Z",
     "iopub.status.idle": "2021-03-11T03:43:58.615405Z",
     "shell.execute_reply": "2021-03-11T03:43:58.615909Z"
    }
   },
   "outputs": [],
   "source": [
    "today = datetime.now(tz).date()"
   ]
  },
  {
   "cell_type": "code",
   "execution_count": 17,
   "metadata": {
    "execution": {
     "iopub.execute_input": "2021-03-11T03:43:58.622434Z",
     "iopub.status.busy": "2021-03-11T03:43:58.620819Z",
     "iopub.status.idle": "2021-03-11T03:43:58.623151Z",
     "shell.execute_reply": "2021-03-11T03:43:58.623718Z"
    }
   },
   "outputs": [],
   "source": [
    "data_dir = os.path.join(os.path.abspath(\"\"), \"data\")"
   ]
  },
  {
   "cell_type": "code",
   "execution_count": 18,
   "metadata": {
    "execution": {
     "iopub.execute_input": "2021-03-11T03:43:58.629382Z",
     "iopub.status.busy": "2021-03-11T03:43:58.627625Z",
     "iopub.status.idle": "2021-03-11T03:43:58.633995Z",
     "shell.execute_reply": "2021-03-11T03:43:58.633282Z"
    }
   },
   "outputs": [],
   "source": [
    "df.to_csv(os.path.join(data_dir, f\"{today}.csv\"), index=False)"
   ]
  },
  {
   "cell_type": "code",
   "execution_count": null,
   "metadata": {},
   "outputs": [],
   "source": []
  }
 ],
 "metadata": {
  "kernelspec": {
   "display_name": "Python 3",
   "language": "python",
   "name": "python3"
  },
  "language_info": {
   "codemirror_mode": {
    "name": "ipython",
    "version": 3
   },
   "file_extension": ".py",
   "mimetype": "text/x-python",
   "name": "python",
   "nbconvert_exporter": "python",
   "pygments_lexer": "ipython3",
   "version": "3.8.8"
  }
 },
 "nbformat": 4,
 "nbformat_minor": 4
}
