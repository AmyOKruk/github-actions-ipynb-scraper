{
 "cells": [
  {
   "cell_type": "markdown",
   "metadata": {},
   "source": [
    "# California COVID vaccinations scrape"
   ]
  },
  {
   "cell_type": "markdown",
   "metadata": {},
   "source": [
    "By [Amy O'Kruk](https://twitter.com/amyokruk)"
   ]
  },
  {
   "cell_type": "markdown",
   "metadata": {},
   "source": [
    "Downloads data on vaccine doses administered by county and statewide from a Tableau-powered dashboard from the California Department of Public Health."
   ]
  },
  {
   "cell_type": "code",
   "execution_count": 1,
   "metadata": {
    "execution": {
     "iopub.execute_input": "2021-03-21T07:40:42.521887Z",
     "iopub.status.busy": "2021-03-21T07:40:42.520774Z",
     "iopub.status.idle": "2021-03-21T07:40:43.402954Z",
     "shell.execute_reply": "2021-03-21T07:40:43.402295Z"
    }
   },
   "outputs": [],
   "source": [
    "import pandas as pd\n",
    "import requests\n",
    "from bs4 import BeautifulSoup\n",
    "import json\n",
    "import re\n",
    "import time\n",
    "from time import gmtime, strftime \n",
    "import os\n",
    "import pytz\n",
    "from datetime import datetime"
   ]
  },
  {
   "cell_type": "markdown",
   "metadata": {},
   "source": [
    "Scrape the dashboard page"
   ]
  },
  {
   "cell_type": "code",
   "execution_count": 2,
   "metadata": {
    "execution": {
     "iopub.execute_input": "2021-03-21T07:40:43.408585Z",
     "iopub.status.busy": "2021-03-21T07:40:43.406458Z",
     "iopub.status.idle": "2021-03-21T07:40:44.294235Z",
     "shell.execute_reply": "2021-03-21T07:40:44.293143Z"
    }
   },
   "outputs": [],
   "source": [
    "url = \"https://public.tableau.com/interactive/views/COVID-19VaccineDashboardPublic/Vaccine?:embed=y&:showVizHome=n&:apiID=host0\"\n",
    "\n",
    "r = requests.get(url)\n",
    "soup = BeautifulSoup(r.text, \"html.parser\")"
   ]
  },
  {
   "cell_type": "code",
   "execution_count": 3,
   "metadata": {
    "execution": {
     "iopub.execute_input": "2021-03-21T07:40:44.299942Z",
     "iopub.status.busy": "2021-03-21T07:40:44.298877Z",
     "iopub.status.idle": "2021-03-21T07:40:44.302844Z",
     "shell.execute_reply": "2021-03-21T07:40:44.302072Z"
    }
   },
   "outputs": [],
   "source": [
    "tableauData = json.loads(soup.find(\"textarea\",{\"id\": \"tsConfigContainer\"}).text)"
   ]
  },
  {
   "cell_type": "markdown",
   "metadata": {},
   "source": [
    "Get the link to the Tableau data"
   ]
  },
  {
   "cell_type": "code",
   "execution_count": 4,
   "metadata": {
    "execution": {
     "iopub.execute_input": "2021-03-21T07:40:44.307900Z",
     "iopub.status.busy": "2021-03-21T07:40:44.307237Z",
     "iopub.status.idle": "2021-03-21T07:40:44.311527Z",
     "shell.execute_reply": "2021-03-21T07:40:44.310801Z"
    }
   },
   "outputs": [],
   "source": [
    "dataUrl = f'https://public.tableau.com{tableauData[\"vizql_root\"]}/bootstrapSession/sessions/{tableauData[\"sessionid\"]}'"
   ]
  },
  {
   "cell_type": "code",
   "execution_count": 5,
   "metadata": {
    "execution": {
     "iopub.execute_input": "2021-03-21T07:40:44.318946Z",
     "iopub.status.busy": "2021-03-21T07:40:44.316216Z",
     "iopub.status.idle": "2021-03-21T07:40:44.915371Z",
     "shell.execute_reply": "2021-03-21T07:40:44.915917Z"
    }
   },
   "outputs": [],
   "source": [
    "r = requests.post(dataUrl, data= {\n",
    "    \"sheet_id\": tableauData[\"sheetId\"],\n",
    "})\n",
    "\n",
    "dataReg = re.search('\\d+;({.*})\\d+;({.*})', r.text, re.MULTILINE)\n",
    "data1 = json.loads(dataReg.group(2))\n",
    "\n",
    "dataJson = data1[\"secondaryInfo\"][\"presModelMap\"][\"dataDictionary\"][\"presModelHolder\"][\"genDataDictionaryPresModel\"][\"dataSegments\"][\"0\"][\"dataColumns\"]"
   ]
  },
  {
   "cell_type": "markdown",
   "metadata": {},
   "source": [
    "Isolate what you want"
   ]
  },
  {
   "cell_type": "code",
   "execution_count": 6,
   "metadata": {
    "execution": {
     "iopub.execute_input": "2021-03-21T07:40:44.921131Z",
     "iopub.status.busy": "2021-03-21T07:40:44.919697Z",
     "iopub.status.idle": "2021-03-21T07:40:44.921949Z",
     "shell.execute_reply": "2021-03-21T07:40:44.922443Z"
    }
   },
   "outputs": [],
   "source": [
    "counties = dataJson[2]['dataValues'][:58]"
   ]
  },
  {
   "cell_type": "code",
   "execution_count": 7,
   "metadata": {
    "execution": {
     "iopub.execute_input": "2021-03-21T07:40:44.927637Z",
     "iopub.status.busy": "2021-03-21T07:40:44.926006Z",
     "iopub.status.idle": "2021-03-21T07:40:44.928309Z",
     "shell.execute_reply": "2021-03-21T07:40:44.929088Z"
    }
   },
   "outputs": [],
   "source": [
    "doses = dataJson[0]['dataValues'][3:61]"
   ]
  },
  {
   "cell_type": "markdown",
   "metadata": {},
   "source": [
    "Data formatting"
   ]
  },
  {
   "cell_type": "code",
   "execution_count": 8,
   "metadata": {
    "execution": {
     "iopub.execute_input": "2021-03-21T07:40:44.934371Z",
     "iopub.status.busy": "2021-03-21T07:40:44.933048Z",
     "iopub.status.idle": "2021-03-21T07:40:44.935088Z",
     "shell.execute_reply": "2021-03-21T07:40:44.935621Z"
    }
   },
   "outputs": [],
   "source": [
    "zipped = dict(zip(counties, doses))"
   ]
  },
  {
   "cell_type": "code",
   "execution_count": 9,
   "metadata": {
    "execution": {
     "iopub.execute_input": "2021-03-21T07:40:44.943327Z",
     "iopub.status.busy": "2021-03-21T07:40:44.941567Z",
     "iopub.status.idle": "2021-03-21T07:40:44.944133Z",
     "shell.execute_reply": "2021-03-21T07:40:44.944698Z"
    }
   },
   "outputs": [],
   "source": [
    "df = pd.Series(zipped).reset_index()"
   ]
  },
  {
   "cell_type": "code",
   "execution_count": 10,
   "metadata": {
    "execution": {
     "iopub.execute_input": "2021-03-21T07:40:44.949732Z",
     "iopub.status.busy": "2021-03-21T07:40:44.948388Z",
     "iopub.status.idle": "2021-03-21T07:40:44.950383Z",
     "shell.execute_reply": "2021-03-21T07:40:44.950870Z"
    }
   },
   "outputs": [],
   "source": [
    "df.columns = ['location','doses']"
   ]
  },
  {
   "cell_type": "markdown",
   "metadata": {},
   "source": [
    "Grab the overall California total"
   ]
  },
  {
   "cell_type": "code",
   "execution_count": 11,
   "metadata": {
    "execution": {
     "iopub.execute_input": "2021-03-21T07:40:44.956202Z",
     "iopub.status.busy": "2021-03-21T07:40:44.954689Z",
     "iopub.status.idle": "2021-03-21T07:40:44.956883Z",
     "shell.execute_reply": "2021-03-21T07:40:44.957429Z"
    }
   },
   "outputs": [],
   "source": [
    "add = {'location':'California','doses':dataJson[0]['dataValues'][2]}"
   ]
  },
  {
   "cell_type": "code",
   "execution_count": 12,
   "metadata": {
    "execution": {
     "iopub.execute_input": "2021-03-21T07:40:44.966200Z",
     "iopub.status.busy": "2021-03-21T07:40:44.964756Z",
     "iopub.status.idle": "2021-03-21T07:40:44.966898Z",
     "shell.execute_reply": "2021-03-21T07:40:44.967595Z"
    }
   },
   "outputs": [],
   "source": [
    "df = df.append(add, ignore_index=True)"
   ]
  },
  {
   "cell_type": "code",
   "execution_count": 13,
   "metadata": {
    "execution": {
     "iopub.execute_input": "2021-03-21T07:40:44.973555Z",
     "iopub.status.busy": "2021-03-21T07:40:44.972053Z",
     "iopub.status.idle": "2021-03-21T07:40:44.974210Z",
     "shell.execute_reply": "2021-03-21T07:40:44.974701Z"
    }
   },
   "outputs": [],
   "source": [
    "df = df.sort_values(by='location')"
   ]
  },
  {
   "cell_type": "code",
   "execution_count": 14,
   "metadata": {
    "execution": {
     "iopub.execute_input": "2021-03-21T07:40:44.982462Z",
     "iopub.status.busy": "2021-03-21T07:40:44.981018Z",
     "iopub.status.idle": "2021-03-21T07:40:44.983294Z",
     "shell.execute_reply": "2021-03-21T07:40:44.983776Z"
    }
   },
   "outputs": [],
   "source": [
    "df = df[df.location == 'California'].append(df[df.location != 'California']).reset_index(drop=True)"
   ]
  },
  {
   "cell_type": "code",
   "execution_count": null,
   "metadata": {},
   "outputs": [],
   "source": []
  },
  {
   "cell_type": "code",
   "execution_count": 15,
   "metadata": {
    "execution": {
     "iopub.execute_input": "2021-03-21T07:40:44.987845Z",
     "iopub.status.busy": "2021-03-21T07:40:44.987123Z",
     "iopub.status.idle": "2021-03-21T07:40:45.007208Z",
     "shell.execute_reply": "2021-03-21T07:40:45.007723Z"
    }
   },
   "outputs": [],
   "source": [
    "tz = pytz.timezone(\"America/New_York\")"
   ]
  },
  {
   "cell_type": "code",
   "execution_count": 16,
   "metadata": {
    "execution": {
     "iopub.execute_input": "2021-03-21T07:40:45.012690Z",
     "iopub.status.busy": "2021-03-21T07:40:45.011318Z",
     "iopub.status.idle": "2021-03-21T07:40:45.013438Z",
     "shell.execute_reply": "2021-03-21T07:40:45.013933Z"
    }
   },
   "outputs": [],
   "source": [
    "today = datetime.now(tz).date()"
   ]
  },
  {
   "cell_type": "code",
   "execution_count": 17,
   "metadata": {
    "execution": {
     "iopub.execute_input": "2021-03-21T07:40:45.018909Z",
     "iopub.status.busy": "2021-03-21T07:40:45.017315Z",
     "iopub.status.idle": "2021-03-21T07:40:45.019678Z",
     "shell.execute_reply": "2021-03-21T07:40:45.020396Z"
    }
   },
   "outputs": [],
   "source": [
    "data_dir = os.path.join(os.path.abspath(\"\"), \"data\")"
   ]
  },
  {
   "cell_type": "code",
   "execution_count": 18,
   "metadata": {
    "execution": {
     "iopub.execute_input": "2021-03-21T07:40:45.025033Z",
     "iopub.status.busy": "2021-03-21T07:40:45.024343Z",
     "iopub.status.idle": "2021-03-21T07:40:45.028833Z",
     "shell.execute_reply": "2021-03-21T07:40:45.029391Z"
    }
   },
   "outputs": [],
   "source": [
    "df.to_csv(os.path.join(data_dir, f\"{today}.csv\"), index=False)"
   ]
  },
  {
   "cell_type": "code",
   "execution_count": null,
   "metadata": {},
   "outputs": [],
   "source": []
  }
 ],
 "metadata": {
  "kernelspec": {
   "display_name": "Python 3",
   "language": "python",
   "name": "python3"
  },
  "language_info": {
   "codemirror_mode": {
    "name": "ipython",
    "version": 3
   },
   "file_extension": ".py",
   "mimetype": "text/x-python",
   "name": "python",
   "nbconvert_exporter": "python",
   "pygments_lexer": "ipython3",
   "version": "3.8.8"
  }
 },
 "nbformat": 4,
 "nbformat_minor": 4
}
