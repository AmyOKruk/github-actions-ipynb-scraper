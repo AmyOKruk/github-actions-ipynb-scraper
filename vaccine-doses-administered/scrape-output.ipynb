{
 "cells": [
  {
   "cell_type": "markdown",
   "metadata": {},
   "source": [
    "# California COVID vaccinations scrape"
   ]
  },
  {
   "cell_type": "markdown",
   "metadata": {},
   "source": [
    "By [Amy O'Kruk](https://twitter.com/amyokruk)"
   ]
  },
  {
   "cell_type": "markdown",
   "metadata": {},
   "source": [
    "Downloads data on vaccine doses administered by county and statewide from a Tableau-powered dashboard from the California Department of Public Health."
   ]
  },
  {
   "cell_type": "code",
   "execution_count": 1,
   "metadata": {
    "execution": {
     "iopub.execute_input": "2021-03-23T04:15:31.499394Z",
     "iopub.status.busy": "2021-03-23T04:15:31.498808Z",
     "iopub.status.idle": "2021-03-23T04:15:31.950050Z",
     "shell.execute_reply": "2021-03-23T04:15:31.949150Z"
    }
   },
   "outputs": [],
   "source": [
    "import pandas as pd\n",
    "import requests\n",
    "from bs4 import BeautifulSoup\n",
    "import json\n",
    "import re\n",
    "import time\n",
    "from time import gmtime, strftime \n",
    "import os\n",
    "import pytz\n",
    "from datetime import datetime"
   ]
  },
  {
   "cell_type": "markdown",
   "metadata": {},
   "source": [
    "Scrape the dashboard page"
   ]
  },
  {
   "cell_type": "code",
   "execution_count": 2,
   "metadata": {
    "execution": {
     "iopub.execute_input": "2021-03-23T04:15:31.954414Z",
     "iopub.status.busy": "2021-03-23T04:15:31.953821Z",
     "iopub.status.idle": "2021-03-23T04:15:32.522957Z",
     "shell.execute_reply": "2021-03-23T04:15:32.521967Z"
    }
   },
   "outputs": [],
   "source": [
    "url = \"https://public.tableau.com/interactive/views/COVID-19VaccineDashboardPublic/Vaccine?:embed=y&:showVizHome=n&:apiID=host0\"\n",
    "\n",
    "r = requests.get(url)\n",
    "soup = BeautifulSoup(r.text, \"html.parser\")"
   ]
  },
  {
   "cell_type": "code",
   "execution_count": 3,
   "metadata": {
    "execution": {
     "iopub.execute_input": "2021-03-23T04:15:32.527941Z",
     "iopub.status.busy": "2021-03-23T04:15:32.527415Z",
     "iopub.status.idle": "2021-03-23T04:15:32.530577Z",
     "shell.execute_reply": "2021-03-23T04:15:32.530103Z"
    }
   },
   "outputs": [],
   "source": [
    "tableauData = json.loads(soup.find(\"textarea\",{\"id\": \"tsConfigContainer\"}).text)"
   ]
  },
  {
   "cell_type": "markdown",
   "metadata": {},
   "source": [
    "Get the link to the Tableau data"
   ]
  },
  {
   "cell_type": "code",
   "execution_count": 4,
   "metadata": {
    "execution": {
     "iopub.execute_input": "2021-03-23T04:15:32.535594Z",
     "iopub.status.busy": "2021-03-23T04:15:32.535056Z",
     "iopub.status.idle": "2021-03-23T04:15:32.537617Z",
     "shell.execute_reply": "2021-03-23T04:15:32.537179Z"
    }
   },
   "outputs": [],
   "source": [
    "dataUrl = f'https://public.tableau.com{tableauData[\"vizql_root\"]}/bootstrapSession/sessions/{tableauData[\"sessionid\"]}'"
   ]
  },
  {
   "cell_type": "code",
   "execution_count": 5,
   "metadata": {
    "execution": {
     "iopub.execute_input": "2021-03-23T04:15:32.545060Z",
     "iopub.status.busy": "2021-03-23T04:15:32.544511Z",
     "iopub.status.idle": "2021-03-23T04:15:32.758969Z",
     "shell.execute_reply": "2021-03-23T04:15:32.758408Z"
    }
   },
   "outputs": [],
   "source": [
    "r = requests.post(dataUrl, data= {\n",
    "    \"sheet_id\": tableauData[\"sheetId\"],\n",
    "})\n",
    "\n",
    "dataReg = re.search('\\d+;({.*})\\d+;({.*})', r.text, re.MULTILINE)\n",
    "data1 = json.loads(dataReg.group(2))\n",
    "\n",
    "dataJson = data1[\"secondaryInfo\"][\"presModelMap\"][\"dataDictionary\"][\"presModelHolder\"][\"genDataDictionaryPresModel\"][\"dataSegments\"][\"0\"][\"dataColumns\"]"
   ]
  },
  {
   "cell_type": "markdown",
   "metadata": {},
   "source": [
    "Isolate what you want"
   ]
  },
  {
   "cell_type": "code",
   "execution_count": 6,
   "metadata": {
    "execution": {
     "iopub.execute_input": "2021-03-23T04:15:32.764132Z",
     "iopub.status.busy": "2021-03-23T04:15:32.763135Z",
     "iopub.status.idle": "2021-03-23T04:15:32.767714Z",
     "shell.execute_reply": "2021-03-23T04:15:32.767258Z"
    }
   },
   "outputs": [],
   "source": [
    "counties = dataJson[2]['dataValues'][:58]"
   ]
  },
  {
   "cell_type": "code",
   "execution_count": 7,
   "metadata": {
    "execution": {
     "iopub.execute_input": "2021-03-23T04:15:32.772187Z",
     "iopub.status.busy": "2021-03-23T04:15:32.771072Z",
     "iopub.status.idle": "2021-03-23T04:15:32.772781Z",
     "shell.execute_reply": "2021-03-23T04:15:32.773343Z"
    }
   },
   "outputs": [],
   "source": [
    "doses = dataJson[0]['dataValues'][3:61]"
   ]
  },
  {
   "cell_type": "markdown",
   "metadata": {},
   "source": [
    "Data formatting"
   ]
  },
  {
   "cell_type": "code",
   "execution_count": 8,
   "metadata": {
    "execution": {
     "iopub.execute_input": "2021-03-23T04:15:32.778220Z",
     "iopub.status.busy": "2021-03-23T04:15:32.776802Z",
     "iopub.status.idle": "2021-03-23T04:15:32.778839Z",
     "shell.execute_reply": "2021-03-23T04:15:32.779267Z"
    }
   },
   "outputs": [],
   "source": [
    "zipped = dict(zip(counties, doses))"
   ]
  },
  {
   "cell_type": "code",
   "execution_count": 9,
   "metadata": {
    "execution": {
     "iopub.execute_input": "2021-03-23T04:15:32.786344Z",
     "iopub.status.busy": "2021-03-23T04:15:32.784974Z",
     "iopub.status.idle": "2021-03-23T04:15:32.786976Z",
     "shell.execute_reply": "2021-03-23T04:15:32.787402Z"
    }
   },
   "outputs": [],
   "source": [
    "df = pd.Series(zipped).reset_index()"
   ]
  },
  {
   "cell_type": "code",
   "execution_count": 10,
   "metadata": {
    "execution": {
     "iopub.execute_input": "2021-03-23T04:15:32.791848Z",
     "iopub.status.busy": "2021-03-23T04:15:32.790928Z",
     "iopub.status.idle": "2021-03-23T04:15:32.792733Z",
     "shell.execute_reply": "2021-03-23T04:15:32.793156Z"
    }
   },
   "outputs": [],
   "source": [
    "df.columns = ['location','doses']"
   ]
  },
  {
   "cell_type": "markdown",
   "metadata": {},
   "source": [
    "Grab the overall California total"
   ]
  },
  {
   "cell_type": "code",
   "execution_count": 11,
   "metadata": {
    "execution": {
     "iopub.execute_input": "2021-03-23T04:15:32.797567Z",
     "iopub.status.busy": "2021-03-23T04:15:32.796502Z",
     "iopub.status.idle": "2021-03-23T04:15:32.798161Z",
     "shell.execute_reply": "2021-03-23T04:15:32.798606Z"
    }
   },
   "outputs": [],
   "source": [
    "add = {'location':'California','doses':dataJson[0]['dataValues'][2]}"
   ]
  },
  {
   "cell_type": "code",
   "execution_count": 12,
   "metadata": {
    "execution": {
     "iopub.execute_input": "2021-03-23T04:15:32.805972Z",
     "iopub.status.busy": "2021-03-23T04:15:32.804716Z",
     "iopub.status.idle": "2021-03-23T04:15:32.806588Z",
     "shell.execute_reply": "2021-03-23T04:15:32.807261Z"
    }
   },
   "outputs": [],
   "source": [
    "df = df.append(add, ignore_index=True)"
   ]
  },
  {
   "cell_type": "code",
   "execution_count": 13,
   "metadata": {
    "execution": {
     "iopub.execute_input": "2021-03-23T04:15:32.812285Z",
     "iopub.status.busy": "2021-03-23T04:15:32.811182Z",
     "iopub.status.idle": "2021-03-23T04:15:32.812885Z",
     "shell.execute_reply": "2021-03-23T04:15:32.813307Z"
    }
   },
   "outputs": [],
   "source": [
    "df = df.sort_values(by='location')"
   ]
  },
  {
   "cell_type": "code",
   "execution_count": 14,
   "metadata": {
    "execution": {
     "iopub.execute_input": "2021-03-23T04:15:32.819369Z",
     "iopub.status.busy": "2021-03-23T04:15:32.818845Z",
     "iopub.status.idle": "2021-03-23T04:15:32.822522Z",
     "shell.execute_reply": "2021-03-23T04:15:32.821948Z"
    }
   },
   "outputs": [],
   "source": [
    "df = df[df.location == 'California'].append(df[df.location != 'California']).reset_index(drop=True)"
   ]
  },
  {
   "cell_type": "code",
   "execution_count": null,
   "metadata": {},
   "outputs": [],
   "source": []
  },
  {
   "cell_type": "code",
   "execution_count": 15,
   "metadata": {
    "execution": {
     "iopub.execute_input": "2021-03-23T04:15:32.826197Z",
     "iopub.status.busy": "2021-03-23T04:15:32.825681Z",
     "iopub.status.idle": "2021-03-23T04:15:32.844747Z",
     "shell.execute_reply": "2021-03-23T04:15:32.845322Z"
    }
   },
   "outputs": [],
   "source": [
    "tz = pytz.timezone(\"America/New_York\")"
   ]
  },
  {
   "cell_type": "code",
   "execution_count": 16,
   "metadata": {
    "execution": {
     "iopub.execute_input": "2021-03-23T04:15:32.850394Z",
     "iopub.status.busy": "2021-03-23T04:15:32.849867Z",
     "iopub.status.idle": "2021-03-23T04:15:32.852097Z",
     "shell.execute_reply": "2021-03-23T04:15:32.852628Z"
    }
   },
   "outputs": [],
   "source": [
    "today = datetime.now(tz).date()"
   ]
  },
  {
   "cell_type": "code",
   "execution_count": 17,
   "metadata": {
    "execution": {
     "iopub.execute_input": "2021-03-23T04:15:32.857243Z",
     "iopub.status.busy": "2021-03-23T04:15:32.856138Z",
     "iopub.status.idle": "2021-03-23T04:15:32.857837Z",
     "shell.execute_reply": "2021-03-23T04:15:32.858258Z"
    }
   },
   "outputs": [],
   "source": [
    "data_dir = os.path.join(os.path.abspath(\"\"), \"data\")"
   ]
  },
  {
   "cell_type": "code",
   "execution_count": 18,
   "metadata": {
    "execution": {
     "iopub.execute_input": "2021-03-23T04:15:32.862914Z",
     "iopub.status.busy": "2021-03-23T04:15:32.861750Z",
     "iopub.status.idle": "2021-03-23T04:15:32.866567Z",
     "shell.execute_reply": "2021-03-23T04:15:32.866021Z"
    }
   },
   "outputs": [],
   "source": [
    "df.to_csv(os.path.join(data_dir, f\"{today}.csv\"), index=False)"
   ]
  },
  {
   "cell_type": "code",
   "execution_count": null,
   "metadata": {},
   "outputs": [],
   "source": []
  }
 ],
 "metadata": {
  "kernelspec": {
   "display_name": "Python 3",
   "language": "python",
   "name": "python3"
  },
  "language_info": {
   "codemirror_mode": {
    "name": "ipython",
    "version": 3
   },
   "file_extension": ".py",
   "mimetype": "text/x-python",
   "name": "python",
   "nbconvert_exporter": "python",
   "pygments_lexer": "ipython3",
   "version": "3.8.8"
  }
 },
 "nbformat": 4,
 "nbformat_minor": 4
}
