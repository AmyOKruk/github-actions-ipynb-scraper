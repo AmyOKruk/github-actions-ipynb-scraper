{
 "cells": [
  {
   "cell_type": "markdown",
   "metadata": {},
   "source": [
    "# California COVID vaccinations scrape"
   ]
  },
  {
   "cell_type": "markdown",
   "metadata": {},
   "source": [
    "By [Amy O'Kruk](https://twitter.com/amyokruk)"
   ]
  },
  {
   "cell_type": "markdown",
   "metadata": {},
   "source": [
    "Downloads data on vaccine doses administered by county and statewide from a Tableau-powered dashboard from the California Department of Public Health."
   ]
  },
  {
   "cell_type": "code",
   "execution_count": 1,
   "metadata": {
    "execution": {
     "iopub.execute_input": "2021-03-19T15:13:27.016658Z",
     "iopub.status.busy": "2021-03-19T15:13:27.015767Z",
     "iopub.status.idle": "2021-03-19T15:13:27.870768Z",
     "shell.execute_reply": "2021-03-19T15:13:27.870152Z"
    }
   },
   "outputs": [],
   "source": [
    "import pandas as pd\n",
    "import requests\n",
    "from bs4 import BeautifulSoup\n",
    "import json\n",
    "import re\n",
    "import time\n",
    "from time import gmtime, strftime \n",
    "import os\n",
    "import pytz\n",
    "from datetime import datetime"
   ]
  },
  {
   "cell_type": "markdown",
   "metadata": {},
   "source": [
    "Scrape the dashboard page"
   ]
  },
  {
   "cell_type": "code",
   "execution_count": 2,
   "metadata": {
    "execution": {
     "iopub.execute_input": "2021-03-19T15:13:27.876965Z",
     "iopub.status.busy": "2021-03-19T15:13:27.874244Z",
     "iopub.status.idle": "2021-03-19T15:13:28.418767Z",
     "shell.execute_reply": "2021-03-19T15:13:28.418132Z"
    }
   },
   "outputs": [],
   "source": [
    "url = \"https://public.tableau.com/interactive/views/COVID-19VaccineDashboardPublic/Vaccine?:embed=y&:showVizHome=n&:apiID=host0\"\n",
    "\n",
    "r = requests.get(url)\n",
    "soup = BeautifulSoup(r.text, \"html.parser\")"
   ]
  },
  {
   "cell_type": "code",
   "execution_count": 3,
   "metadata": {
    "execution": {
     "iopub.execute_input": "2021-03-19T15:13:28.424595Z",
     "iopub.status.busy": "2021-03-19T15:13:28.423227Z",
     "iopub.status.idle": "2021-03-19T15:13:28.425231Z",
     "shell.execute_reply": "2021-03-19T15:13:28.425721Z"
    }
   },
   "outputs": [],
   "source": [
    "tableauData = json.loads(soup.find(\"textarea\",{\"id\": \"tsConfigContainer\"}).text)"
   ]
  },
  {
   "cell_type": "markdown",
   "metadata": {},
   "source": [
    "Get the link to the Tableau data"
   ]
  },
  {
   "cell_type": "code",
   "execution_count": 4,
   "metadata": {
    "execution": {
     "iopub.execute_input": "2021-03-19T15:13:28.430370Z",
     "iopub.status.busy": "2021-03-19T15:13:28.428990Z",
     "iopub.status.idle": "2021-03-19T15:13:28.431005Z",
     "shell.execute_reply": "2021-03-19T15:13:28.431487Z"
    }
   },
   "outputs": [],
   "source": [
    "dataUrl = f'https://public.tableau.com{tableauData[\"vizql_root\"]}/bootstrapSession/sessions/{tableauData[\"sessionid\"]}'"
   ]
  },
  {
   "cell_type": "code",
   "execution_count": 5,
   "metadata": {
    "execution": {
     "iopub.execute_input": "2021-03-19T15:13:28.438135Z",
     "iopub.status.busy": "2021-03-19T15:13:28.437534Z",
     "iopub.status.idle": "2021-03-19T15:13:28.718023Z",
     "shell.execute_reply": "2021-03-19T15:13:28.717491Z"
    }
   },
   "outputs": [],
   "source": [
    "r = requests.post(dataUrl, data= {\n",
    "    \"sheet_id\": tableauData[\"sheetId\"],\n",
    "})\n",
    "\n",
    "dataReg = re.search('\\d+;({.*})\\d+;({.*})', r.text, re.MULTILINE)\n",
    "data1 = json.loads(dataReg.group(2))\n",
    "\n",
    "dataJson = data1[\"secondaryInfo\"][\"presModelMap\"][\"dataDictionary\"][\"presModelHolder\"][\"genDataDictionaryPresModel\"][\"dataSegments\"][\"0\"][\"dataColumns\"]"
   ]
  },
  {
   "cell_type": "markdown",
   "metadata": {},
   "source": [
    "Isolate what you want"
   ]
  },
  {
   "cell_type": "code",
   "execution_count": 6,
   "metadata": {
    "execution": {
     "iopub.execute_input": "2021-03-19T15:13:28.722883Z",
     "iopub.status.busy": "2021-03-19T15:13:28.721447Z",
     "iopub.status.idle": "2021-03-19T15:13:28.723607Z",
     "shell.execute_reply": "2021-03-19T15:13:28.724111Z"
    }
   },
   "outputs": [],
   "source": [
    "counties = dataJson[2]['dataValues'][:58]"
   ]
  },
  {
   "cell_type": "code",
   "execution_count": 7,
   "metadata": {
    "execution": {
     "iopub.execute_input": "2021-03-19T15:13:28.728648Z",
     "iopub.status.busy": "2021-03-19T15:13:28.727260Z",
     "iopub.status.idle": "2021-03-19T15:13:28.729280Z",
     "shell.execute_reply": "2021-03-19T15:13:28.729765Z"
    }
   },
   "outputs": [],
   "source": [
    "doses = dataJson[0]['dataValues'][3:61]"
   ]
  },
  {
   "cell_type": "markdown",
   "metadata": {},
   "source": [
    "Data formatting"
   ]
  },
  {
   "cell_type": "code",
   "execution_count": 8,
   "metadata": {
    "execution": {
     "iopub.execute_input": "2021-03-19T15:13:28.734151Z",
     "iopub.status.busy": "2021-03-19T15:13:28.732879Z",
     "iopub.status.idle": "2021-03-19T15:13:28.734783Z",
     "shell.execute_reply": "2021-03-19T15:13:28.735268Z"
    }
   },
   "outputs": [],
   "source": [
    "zipped = dict(zip(counties, doses))"
   ]
  },
  {
   "cell_type": "code",
   "execution_count": 9,
   "metadata": {
    "execution": {
     "iopub.execute_input": "2021-03-19T15:13:28.742482Z",
     "iopub.status.busy": "2021-03-19T15:13:28.741625Z",
     "iopub.status.idle": "2021-03-19T15:13:28.745516Z",
     "shell.execute_reply": "2021-03-19T15:13:28.745972Z"
    }
   },
   "outputs": [],
   "source": [
    "df = pd.Series(zipped).reset_index()"
   ]
  },
  {
   "cell_type": "code",
   "execution_count": 10,
   "metadata": {
    "execution": {
     "iopub.execute_input": "2021-03-19T15:13:28.750629Z",
     "iopub.status.busy": "2021-03-19T15:13:28.749354Z",
     "iopub.status.idle": "2021-03-19T15:13:28.751260Z",
     "shell.execute_reply": "2021-03-19T15:13:28.751742Z"
    }
   },
   "outputs": [],
   "source": [
    "df.columns = ['location','doses']"
   ]
  },
  {
   "cell_type": "markdown",
   "metadata": {},
   "source": [
    "Grab the overall California total"
   ]
  },
  {
   "cell_type": "code",
   "execution_count": 11,
   "metadata": {
    "execution": {
     "iopub.execute_input": "2021-03-19T15:13:28.756428Z",
     "iopub.status.busy": "2021-03-19T15:13:28.755085Z",
     "iopub.status.idle": "2021-03-19T15:13:28.757063Z",
     "shell.execute_reply": "2021-03-19T15:13:28.757543Z"
    }
   },
   "outputs": [],
   "source": [
    "add = {'location':'California','doses':dataJson[0]['dataValues'][2]}"
   ]
  },
  {
   "cell_type": "code",
   "execution_count": 12,
   "metadata": {
    "execution": {
     "iopub.execute_input": "2021-03-19T15:13:28.765103Z",
     "iopub.status.busy": "2021-03-19T15:13:28.763708Z",
     "iopub.status.idle": "2021-03-19T15:13:28.765736Z",
     "shell.execute_reply": "2021-03-19T15:13:28.766219Z"
    }
   },
   "outputs": [],
   "source": [
    "df = df.append(add, ignore_index=True)"
   ]
  },
  {
   "cell_type": "code",
   "execution_count": 13,
   "metadata": {
    "execution": {
     "iopub.execute_input": "2021-03-19T15:13:28.771466Z",
     "iopub.status.busy": "2021-03-19T15:13:28.770135Z",
     "iopub.status.idle": "2021-03-19T15:13:28.772190Z",
     "shell.execute_reply": "2021-03-19T15:13:28.772678Z"
    }
   },
   "outputs": [],
   "source": [
    "df = df.sort_values(by='location')"
   ]
  },
  {
   "cell_type": "code",
   "execution_count": 14,
   "metadata": {
    "execution": {
     "iopub.execute_input": "2021-03-19T15:13:28.778176Z",
     "iopub.status.busy": "2021-03-19T15:13:28.776973Z",
     "iopub.status.idle": "2021-03-19T15:13:28.780392Z",
     "shell.execute_reply": "2021-03-19T15:13:28.779881Z"
    }
   },
   "outputs": [],
   "source": [
    "df = df[df.location == 'California'].append(df[df.location != 'California']).reset_index(drop=True)"
   ]
  },
  {
   "cell_type": "code",
   "execution_count": null,
   "metadata": {},
   "outputs": [],
   "source": []
  },
  {
   "cell_type": "code",
   "execution_count": 15,
   "metadata": {
    "execution": {
     "iopub.execute_input": "2021-03-19T15:13:28.783806Z",
     "iopub.status.busy": "2021-03-19T15:13:28.783236Z",
     "iopub.status.idle": "2021-03-19T15:13:28.808839Z",
     "shell.execute_reply": "2021-03-19T15:13:28.808292Z"
    }
   },
   "outputs": [],
   "source": [
    "tz = pytz.timezone(\"America/New_York\")"
   ]
  },
  {
   "cell_type": "code",
   "execution_count": 16,
   "metadata": {
    "execution": {
     "iopub.execute_input": "2021-03-19T15:13:28.813658Z",
     "iopub.status.busy": "2021-03-19T15:13:28.812262Z",
     "iopub.status.idle": "2021-03-19T15:13:28.814305Z",
     "shell.execute_reply": "2021-03-19T15:13:28.814800Z"
    }
   },
   "outputs": [],
   "source": [
    "today = datetime.now(tz).date()"
   ]
  },
  {
   "cell_type": "code",
   "execution_count": 17,
   "metadata": {
    "execution": {
     "iopub.execute_input": "2021-03-19T15:13:28.820015Z",
     "iopub.status.busy": "2021-03-19T15:13:28.818617Z",
     "iopub.status.idle": "2021-03-19T15:13:28.820689Z",
     "shell.execute_reply": "2021-03-19T15:13:28.821174Z"
    }
   },
   "outputs": [],
   "source": [
    "data_dir = os.path.join(os.path.abspath(\"\"), \"data\")"
   ]
  },
  {
   "cell_type": "code",
   "execution_count": 18,
   "metadata": {
    "execution": {
     "iopub.execute_input": "2021-03-19T15:13:28.825324Z",
     "iopub.status.busy": "2021-03-19T15:13:28.824499Z",
     "iopub.status.idle": "2021-03-19T15:13:28.852055Z",
     "shell.execute_reply": "2021-03-19T15:13:28.852712Z"
    }
   },
   "outputs": [],
   "source": [
    "df.to_csv(os.path.join(data_dir, f\"{today}.csv\"), index=False)"
   ]
  },
  {
   "cell_type": "code",
   "execution_count": null,
   "metadata": {},
   "outputs": [],
   "source": []
  }
 ],
 "metadata": {
  "kernelspec": {
   "display_name": "Python 3",
   "language": "python",
   "name": "python3"
  },
  "language_info": {
   "codemirror_mode": {
    "name": "ipython",
    "version": 3
   },
   "file_extension": ".py",
   "mimetype": "text/x-python",
   "name": "python",
   "nbconvert_exporter": "python",
   "pygments_lexer": "ipython3",
   "version": "3.8.8"
  }
 },
 "nbformat": 4,
 "nbformat_minor": 4
}
