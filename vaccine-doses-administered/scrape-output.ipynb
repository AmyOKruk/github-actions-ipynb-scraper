{
 "cells": [
  {
   "cell_type": "markdown",
   "metadata": {},
   "source": [
    "# California COVID vaccinations scrape"
   ]
  },
  {
   "cell_type": "markdown",
   "metadata": {},
   "source": [
    "By [Amy O'Kruk](https://twitter.com/amyokruk)"
   ]
  },
  {
   "cell_type": "markdown",
   "metadata": {},
   "source": [
    "Downloads data on vaccine doses administered by county and statewide from a Tableau-powered dashboard from the California Department of Public Health."
   ]
  },
  {
   "cell_type": "code",
   "execution_count": 1,
   "metadata": {
    "execution": {
     "iopub.execute_input": "2021-03-09T15:12:35.423558Z",
     "iopub.status.busy": "2021-03-09T15:12:35.422589Z",
     "iopub.status.idle": "2021-03-09T15:12:35.833476Z",
     "shell.execute_reply": "2021-03-09T15:12:35.832537Z"
    }
   },
   "outputs": [],
   "source": [
    "import pandas as pd\n",
    "import requests\n",
    "from bs4 import BeautifulSoup\n",
    "import json\n",
    "import re\n",
    "import time\n",
    "from time import gmtime, strftime \n",
    "import os\n",
    "import pytz\n",
    "from datetime import datetime"
   ]
  },
  {
   "cell_type": "markdown",
   "metadata": {},
   "source": [
    "Scrape the dashboard page"
   ]
  },
  {
   "cell_type": "code",
   "execution_count": 2,
   "metadata": {
    "execution": {
     "iopub.execute_input": "2021-03-09T15:12:35.840217Z",
     "iopub.status.busy": "2021-03-09T15:12:35.839689Z",
     "iopub.status.idle": "2021-03-09T15:12:36.075797Z",
     "shell.execute_reply": "2021-03-09T15:12:36.076237Z"
    }
   },
   "outputs": [],
   "source": [
    "url = \"https://public.tableau.com/interactive/views/COVID-19VaccineDashboardPublic/Vaccine?:embed=y&:showVizHome=n&:apiID=host0\"\n",
    "\n",
    "r = requests.get(url)\n",
    "soup = BeautifulSoup(r.text, \"html.parser\")"
   ]
  },
  {
   "cell_type": "code",
   "execution_count": 3,
   "metadata": {
    "execution": {
     "iopub.execute_input": "2021-03-09T15:12:36.083005Z",
     "iopub.status.busy": "2021-03-09T15:12:36.082477Z",
     "iopub.status.idle": "2021-03-09T15:12:36.085851Z",
     "shell.execute_reply": "2021-03-09T15:12:36.085415Z"
    }
   },
   "outputs": [],
   "source": [
    "tableauData = json.loads(soup.find(\"textarea\",{\"id\": \"tsConfigContainer\"}).text)"
   ]
  },
  {
   "cell_type": "markdown",
   "metadata": {},
   "source": [
    "Get the link to the Tableau data"
   ]
  },
  {
   "cell_type": "code",
   "execution_count": 4,
   "metadata": {
    "execution": {
     "iopub.execute_input": "2021-03-09T15:12:36.089331Z",
     "iopub.status.busy": "2021-03-09T15:12:36.088821Z",
     "iopub.status.idle": "2021-03-09T15:12:36.092155Z",
     "shell.execute_reply": "2021-03-09T15:12:36.091731Z"
    }
   },
   "outputs": [],
   "source": [
    "dataUrl = f'https://public.tableau.com{tableauData[\"vizql_root\"]}/bootstrapSession/sessions/{tableauData[\"sessionid\"]}'"
   ]
  },
  {
   "cell_type": "code",
   "execution_count": 5,
   "metadata": {
    "execution": {
     "iopub.execute_input": "2021-03-09T15:12:36.098253Z",
     "iopub.status.busy": "2021-03-09T15:12:36.097698Z",
     "iopub.status.idle": "2021-03-09T15:12:36.301284Z",
     "shell.execute_reply": "2021-03-09T15:12:36.302015Z"
    }
   },
   "outputs": [],
   "source": [
    "r = requests.post(dataUrl, data= {\n",
    "    \"sheet_id\": tableauData[\"sheetId\"],\n",
    "})\n",
    "\n",
    "dataReg = re.search('\\d+;({.*})\\d+;({.*})', r.text, re.MULTILINE)\n",
    "data1 = json.loads(dataReg.group(2))\n",
    "\n",
    "dataJson = data1[\"secondaryInfo\"][\"presModelMap\"][\"dataDictionary\"][\"presModelHolder\"][\"genDataDictionaryPresModel\"][\"dataSegments\"][\"0\"][\"dataColumns\"]"
   ]
  },
  {
   "cell_type": "markdown",
   "metadata": {},
   "source": [
    "Isolate what you want"
   ]
  },
  {
   "cell_type": "code",
   "execution_count": 6,
   "metadata": {
    "execution": {
     "iopub.execute_input": "2021-03-09T15:12:36.307142Z",
     "iopub.status.busy": "2021-03-09T15:12:36.305906Z",
     "iopub.status.idle": "2021-03-09T15:12:36.307736Z",
     "shell.execute_reply": "2021-03-09T15:12:36.308165Z"
    }
   },
   "outputs": [],
   "source": [
    "counties = dataJson[2]['dataValues'][:58]"
   ]
  },
  {
   "cell_type": "code",
   "execution_count": 7,
   "metadata": {
    "execution": {
     "iopub.execute_input": "2021-03-09T15:12:36.312604Z",
     "iopub.status.busy": "2021-03-09T15:12:36.311365Z",
     "iopub.status.idle": "2021-03-09T15:12:36.313202Z",
     "shell.execute_reply": "2021-03-09T15:12:36.313631Z"
    }
   },
   "outputs": [],
   "source": [
    "doses = dataJson[0]['dataValues'][3:61]"
   ]
  },
  {
   "cell_type": "markdown",
   "metadata": {},
   "source": [
    "Data formatting"
   ]
  },
  {
   "cell_type": "code",
   "execution_count": 8,
   "metadata": {
    "execution": {
     "iopub.execute_input": "2021-03-09T15:12:36.317838Z",
     "iopub.status.busy": "2021-03-09T15:12:36.316719Z",
     "iopub.status.idle": "2021-03-09T15:12:36.318432Z",
     "shell.execute_reply": "2021-03-09T15:12:36.318857Z"
    }
   },
   "outputs": [],
   "source": [
    "zipped = dict(zip(counties, doses))"
   ]
  },
  {
   "cell_type": "code",
   "execution_count": 9,
   "metadata": {
    "execution": {
     "iopub.execute_input": "2021-03-09T15:12:36.325346Z",
     "iopub.status.busy": "2021-03-09T15:12:36.324091Z",
     "iopub.status.idle": "2021-03-09T15:12:36.325947Z",
     "shell.execute_reply": "2021-03-09T15:12:36.326375Z"
    }
   },
   "outputs": [],
   "source": [
    "df = pd.Series(zipped).reset_index()"
   ]
  },
  {
   "cell_type": "code",
   "execution_count": 10,
   "metadata": {
    "execution": {
     "iopub.execute_input": "2021-03-09T15:12:36.330747Z",
     "iopub.status.busy": "2021-03-09T15:12:36.329645Z",
     "iopub.status.idle": "2021-03-09T15:12:36.331364Z",
     "shell.execute_reply": "2021-03-09T15:12:36.331797Z"
    }
   },
   "outputs": [],
   "source": [
    "df.columns = ['location','doses']"
   ]
  },
  {
   "cell_type": "markdown",
   "metadata": {},
   "source": [
    "Grab the overall California total"
   ]
  },
  {
   "cell_type": "code",
   "execution_count": 11,
   "metadata": {
    "execution": {
     "iopub.execute_input": "2021-03-09T15:12:36.336149Z",
     "iopub.status.busy": "2021-03-09T15:12:36.334920Z",
     "iopub.status.idle": "2021-03-09T15:12:36.336804Z",
     "shell.execute_reply": "2021-03-09T15:12:36.337228Z"
    }
   },
   "outputs": [],
   "source": [
    "add = {'location':'California','doses':dataJson[0]['dataValues'][2]}"
   ]
  },
  {
   "cell_type": "code",
   "execution_count": 12,
   "metadata": {
    "execution": {
     "iopub.execute_input": "2021-03-09T15:12:36.344089Z",
     "iopub.status.busy": "2021-03-09T15:12:36.342945Z",
     "iopub.status.idle": "2021-03-09T15:12:36.344680Z",
     "shell.execute_reply": "2021-03-09T15:12:36.345117Z"
    }
   },
   "outputs": [],
   "source": [
    "df = df.append(add, ignore_index=True)"
   ]
  },
  {
   "cell_type": "code",
   "execution_count": 13,
   "metadata": {
    "execution": {
     "iopub.execute_input": "2021-03-09T15:12:36.349896Z",
     "iopub.status.busy": "2021-03-09T15:12:36.348748Z",
     "iopub.status.idle": "2021-03-09T15:12:36.350591Z",
     "shell.execute_reply": "2021-03-09T15:12:36.351019Z"
    }
   },
   "outputs": [],
   "source": [
    "df = df.sort_values(by='location')"
   ]
  },
  {
   "cell_type": "code",
   "execution_count": 14,
   "metadata": {
    "execution": {
     "iopub.execute_input": "2021-03-09T15:12:36.357219Z",
     "iopub.status.busy": "2021-03-09T15:12:36.356114Z",
     "iopub.status.idle": "2021-03-09T15:12:36.357806Z",
     "shell.execute_reply": "2021-03-09T15:12:36.358232Z"
    }
   },
   "outputs": [],
   "source": [
    "df = df[df.location == 'California'].append(df[df.location != 'California']).reset_index(drop=True)"
   ]
  },
  {
   "cell_type": "code",
   "execution_count": null,
   "metadata": {},
   "outputs": [],
   "source": []
  },
  {
   "cell_type": "code",
   "execution_count": 15,
   "metadata": {
    "execution": {
     "iopub.execute_input": "2021-03-09T15:12:36.361534Z",
     "iopub.status.busy": "2021-03-09T15:12:36.361023Z",
     "iopub.status.idle": "2021-03-09T15:12:36.378137Z",
     "shell.execute_reply": "2021-03-09T15:12:36.377631Z"
    }
   },
   "outputs": [],
   "source": [
    "tz = pytz.timezone(\"America/New_York\")"
   ]
  },
  {
   "cell_type": "code",
   "execution_count": 16,
   "metadata": {
    "execution": {
     "iopub.execute_input": "2021-03-09T15:12:36.382254Z",
     "iopub.status.busy": "2021-03-09T15:12:36.381146Z",
     "iopub.status.idle": "2021-03-09T15:12:36.382846Z",
     "shell.execute_reply": "2021-03-09T15:12:36.383304Z"
    }
   },
   "outputs": [],
   "source": [
    "today = datetime.now(tz).date()"
   ]
  },
  {
   "cell_type": "code",
   "execution_count": 17,
   "metadata": {
    "execution": {
     "iopub.execute_input": "2021-03-09T15:12:36.387476Z",
     "iopub.status.busy": "2021-03-09T15:12:36.386321Z",
     "iopub.status.idle": "2021-03-09T15:12:36.388073Z",
     "shell.execute_reply": "2021-03-09T15:12:36.388499Z"
    }
   },
   "outputs": [],
   "source": [
    "data_dir = os.path.join(os.path.abspath(\"\"), \"data\")"
   ]
  },
  {
   "cell_type": "code",
   "execution_count": 18,
   "metadata": {
    "execution": {
     "iopub.execute_input": "2021-03-09T15:12:36.392261Z",
     "iopub.status.busy": "2021-03-09T15:12:36.391731Z",
     "iopub.status.idle": "2021-03-09T15:12:36.396145Z",
     "shell.execute_reply": "2021-03-09T15:12:36.395622Z"
    }
   },
   "outputs": [],
   "source": [
    "df.to_csv(os.path.join(data_dir, f\"{today}.csv\"), index=False)"
   ]
  },
  {
   "cell_type": "code",
   "execution_count": null,
   "metadata": {},
   "outputs": [],
   "source": []
  }
 ],
 "metadata": {
  "kernelspec": {
   "display_name": "Python 3",
   "language": "python",
   "name": "python3"
  },
  "language_info": {
   "codemirror_mode": {
    "name": "ipython",
    "version": 3
   },
   "file_extension": ".py",
   "mimetype": "text/x-python",
   "name": "python",
   "nbconvert_exporter": "python",
   "pygments_lexer": "ipython3",
   "version": "3.8.8"
  }
 },
 "nbformat": 4,
 "nbformat_minor": 4
}
