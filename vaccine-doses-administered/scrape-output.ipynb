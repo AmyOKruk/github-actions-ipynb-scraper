{
 "cells": [
  {
   "cell_type": "markdown",
   "metadata": {},
   "source": [
    "# California COVID vaccinations scrape"
   ]
  },
  {
   "cell_type": "markdown",
   "metadata": {},
   "source": [
    "By [Amy O'Kruk](https://twitter.com/amyokruk)"
   ]
  },
  {
   "cell_type": "markdown",
   "metadata": {},
   "source": [
    "Downloads data on vaccine doses administered by county and statewide from a Tableau-powered dashboard from the California Department of Public Health."
   ]
  },
  {
   "cell_type": "code",
   "execution_count": 1,
   "metadata": {
    "execution": {
     "iopub.execute_input": "2021-03-20T05:14:08.528546Z",
     "iopub.status.busy": "2021-03-20T05:14:08.528019Z",
     "iopub.status.idle": "2021-03-20T05:14:08.846783Z",
     "shell.execute_reply": "2021-03-20T05:14:08.846146Z"
    }
   },
   "outputs": [],
   "source": [
    "import pandas as pd\n",
    "import requests\n",
    "from bs4 import BeautifulSoup\n",
    "import json\n",
    "import re\n",
    "import time\n",
    "from time import gmtime, strftime \n",
    "import os\n",
    "import pytz\n",
    "from datetime import datetime"
   ]
  },
  {
   "cell_type": "markdown",
   "metadata": {},
   "source": [
    "Scrape the dashboard page"
   ]
  },
  {
   "cell_type": "code",
   "execution_count": 2,
   "metadata": {
    "execution": {
     "iopub.execute_input": "2021-03-20T05:14:08.850212Z",
     "iopub.status.busy": "2021-03-20T05:14:08.849693Z",
     "iopub.status.idle": "2021-03-20T05:14:09.658245Z",
     "shell.execute_reply": "2021-03-20T05:14:09.657763Z"
    }
   },
   "outputs": [],
   "source": [
    "url = \"https://public.tableau.com/interactive/views/COVID-19VaccineDashboardPublic/Vaccine?:embed=y&:showVizHome=n&:apiID=host0\"\n",
    "\n",
    "r = requests.get(url)\n",
    "soup = BeautifulSoup(r.text, \"html.parser\")"
   ]
  },
  {
   "cell_type": "code",
   "execution_count": 3,
   "metadata": {
    "execution": {
     "iopub.execute_input": "2021-03-20T05:14:09.662961Z",
     "iopub.status.busy": "2021-03-20T05:14:09.662463Z",
     "iopub.status.idle": "2021-03-20T05:14:09.665932Z",
     "shell.execute_reply": "2021-03-20T05:14:09.665481Z"
    }
   },
   "outputs": [],
   "source": [
    "tableauData = json.loads(soup.find(\"textarea\",{\"id\": \"tsConfigContainer\"}).text)"
   ]
  },
  {
   "cell_type": "markdown",
   "metadata": {},
   "source": [
    "Get the link to the Tableau data"
   ]
  },
  {
   "cell_type": "code",
   "execution_count": 4,
   "metadata": {
    "execution": {
     "iopub.execute_input": "2021-03-20T05:14:09.669296Z",
     "iopub.status.busy": "2021-03-20T05:14:09.668731Z",
     "iopub.status.idle": "2021-03-20T05:14:09.672474Z",
     "shell.execute_reply": "2021-03-20T05:14:09.672935Z"
    }
   },
   "outputs": [],
   "source": [
    "dataUrl = f'https://public.tableau.com{tableauData[\"vizql_root\"]}/bootstrapSession/sessions/{tableauData[\"sessionid\"]}'"
   ]
  },
  {
   "cell_type": "code",
   "execution_count": 5,
   "metadata": {
    "execution": {
     "iopub.execute_input": "2021-03-20T05:14:09.679641Z",
     "iopub.status.busy": "2021-03-20T05:14:09.678997Z",
     "iopub.status.idle": "2021-03-20T05:14:09.996055Z",
     "shell.execute_reply": "2021-03-20T05:14:09.994969Z"
    }
   },
   "outputs": [],
   "source": [
    "r = requests.post(dataUrl, data= {\n",
    "    \"sheet_id\": tableauData[\"sheetId\"],\n",
    "})\n",
    "\n",
    "dataReg = re.search('\\d+;({.*})\\d+;({.*})', r.text, re.MULTILINE)\n",
    "data1 = json.loads(dataReg.group(2))\n",
    "\n",
    "dataJson = data1[\"secondaryInfo\"][\"presModelMap\"][\"dataDictionary\"][\"presModelHolder\"][\"genDataDictionaryPresModel\"][\"dataSegments\"][\"0\"][\"dataColumns\"]"
   ]
  },
  {
   "cell_type": "markdown",
   "metadata": {},
   "source": [
    "Isolate what you want"
   ]
  },
  {
   "cell_type": "code",
   "execution_count": 6,
   "metadata": {
    "execution": {
     "iopub.execute_input": "2021-03-20T05:14:10.000170Z",
     "iopub.status.busy": "2021-03-20T05:14:09.999436Z",
     "iopub.status.idle": "2021-03-20T05:14:10.003573Z",
     "shell.execute_reply": "2021-03-20T05:14:10.003089Z"
    }
   },
   "outputs": [],
   "source": [
    "counties = dataJson[2]['dataValues'][:58]"
   ]
  },
  {
   "cell_type": "code",
   "execution_count": 7,
   "metadata": {
    "execution": {
     "iopub.execute_input": "2021-03-20T05:14:10.007231Z",
     "iopub.status.busy": "2021-03-20T05:14:10.006728Z",
     "iopub.status.idle": "2021-03-20T05:14:10.010315Z",
     "shell.execute_reply": "2021-03-20T05:14:10.009856Z"
    }
   },
   "outputs": [],
   "source": [
    "doses = dataJson[0]['dataValues'][3:61]"
   ]
  },
  {
   "cell_type": "markdown",
   "metadata": {},
   "source": [
    "Data formatting"
   ]
  },
  {
   "cell_type": "code",
   "execution_count": 8,
   "metadata": {
    "execution": {
     "iopub.execute_input": "2021-03-20T05:14:10.013955Z",
     "iopub.status.busy": "2021-03-20T05:14:10.013443Z",
     "iopub.status.idle": "2021-03-20T05:14:10.017232Z",
     "shell.execute_reply": "2021-03-20T05:14:10.017729Z"
    }
   },
   "outputs": [],
   "source": [
    "zipped = dict(zip(counties, doses))"
   ]
  },
  {
   "cell_type": "code",
   "execution_count": 9,
   "metadata": {
    "execution": {
     "iopub.execute_input": "2021-03-20T05:14:10.027107Z",
     "iopub.status.busy": "2021-03-20T05:14:10.026404Z",
     "iopub.status.idle": "2021-03-20T05:14:10.038499Z",
     "shell.execute_reply": "2021-03-20T05:14:10.029968Z"
    }
   },
   "outputs": [],
   "source": [
    "df = pd.Series(zipped).reset_index()"
   ]
  },
  {
   "cell_type": "code",
   "execution_count": 10,
   "metadata": {
    "execution": {
     "iopub.execute_input": "2021-03-20T05:14:10.042792Z",
     "iopub.status.busy": "2021-03-20T05:14:10.042221Z",
     "iopub.status.idle": "2021-03-20T05:14:10.046103Z",
     "shell.execute_reply": "2021-03-20T05:14:10.045062Z"
    }
   },
   "outputs": [],
   "source": [
    "df.columns = ['location','doses']"
   ]
  },
  {
   "cell_type": "markdown",
   "metadata": {},
   "source": [
    "Grab the overall California total"
   ]
  },
  {
   "cell_type": "code",
   "execution_count": 11,
   "metadata": {
    "execution": {
     "iopub.execute_input": "2021-03-20T05:14:10.049697Z",
     "iopub.status.busy": "2021-03-20T05:14:10.049190Z",
     "iopub.status.idle": "2021-03-20T05:14:10.052395Z",
     "shell.execute_reply": "2021-03-20T05:14:10.052801Z"
    }
   },
   "outputs": [],
   "source": [
    "add = {'location':'California','doses':dataJson[0]['dataValues'][2]}"
   ]
  },
  {
   "cell_type": "code",
   "execution_count": 12,
   "metadata": {
    "execution": {
     "iopub.execute_input": "2021-03-20T05:14:10.059051Z",
     "iopub.status.busy": "2021-03-20T05:14:10.058562Z",
     "iopub.status.idle": "2021-03-20T05:14:10.061427Z",
     "shell.execute_reply": "2021-03-20T05:14:10.062077Z"
    }
   },
   "outputs": [],
   "source": [
    "df = df.append(add, ignore_index=True)"
   ]
  },
  {
   "cell_type": "code",
   "execution_count": 13,
   "metadata": {
    "execution": {
     "iopub.execute_input": "2021-03-20T05:14:10.067357Z",
     "iopub.status.busy": "2021-03-20T05:14:10.066752Z",
     "iopub.status.idle": "2021-03-20T05:14:10.070584Z",
     "shell.execute_reply": "2021-03-20T05:14:10.070045Z"
    }
   },
   "outputs": [],
   "source": [
    "df = df.sort_values(by='location')"
   ]
  },
  {
   "cell_type": "code",
   "execution_count": 14,
   "metadata": {
    "execution": {
     "iopub.execute_input": "2021-03-20T05:14:10.077554Z",
     "iopub.status.busy": "2021-03-20T05:14:10.076880Z",
     "iopub.status.idle": "2021-03-20T05:14:10.080331Z",
     "shell.execute_reply": "2021-03-20T05:14:10.080745Z"
    }
   },
   "outputs": [],
   "source": [
    "df = df[df.location == 'California'].append(df[df.location != 'California']).reset_index(drop=True)"
   ]
  },
  {
   "cell_type": "code",
   "execution_count": null,
   "metadata": {},
   "outputs": [],
   "source": []
  },
  {
   "cell_type": "code",
   "execution_count": 15,
   "metadata": {
    "execution": {
     "iopub.execute_input": "2021-03-20T05:14:10.084359Z",
     "iopub.status.busy": "2021-03-20T05:14:10.083579Z",
     "iopub.status.idle": "2021-03-20T05:14:10.101308Z",
     "shell.execute_reply": "2021-03-20T05:14:10.100859Z"
    }
   },
   "outputs": [],
   "source": [
    "tz = pytz.timezone(\"America/New_York\")"
   ]
  },
  {
   "cell_type": "code",
   "execution_count": 16,
   "metadata": {
    "execution": {
     "iopub.execute_input": "2021-03-20T05:14:10.104215Z",
     "iopub.status.busy": "2021-03-20T05:14:10.103773Z",
     "iopub.status.idle": "2021-03-20T05:14:10.106616Z",
     "shell.execute_reply": "2021-03-20T05:14:10.106993Z"
    }
   },
   "outputs": [],
   "source": [
    "today = datetime.now(tz).date()"
   ]
  },
  {
   "cell_type": "code",
   "execution_count": 17,
   "metadata": {
    "execution": {
     "iopub.execute_input": "2021-03-20T05:14:10.110481Z",
     "iopub.status.busy": "2021-03-20T05:14:10.110038Z",
     "iopub.status.idle": "2021-03-20T05:14:10.113355Z",
     "shell.execute_reply": "2021-03-20T05:14:10.113943Z"
    }
   },
   "outputs": [],
   "source": [
    "data_dir = os.path.join(os.path.abspath(\"\"), \"data\")"
   ]
  },
  {
   "cell_type": "code",
   "execution_count": 18,
   "metadata": {
    "execution": {
     "iopub.execute_input": "2021-03-20T05:14:10.119351Z",
     "iopub.status.busy": "2021-03-20T05:14:10.117657Z",
     "iopub.status.idle": "2021-03-20T05:14:10.123883Z",
     "shell.execute_reply": "2021-03-20T05:14:10.123418Z"
    }
   },
   "outputs": [],
   "source": [
    "df.to_csv(os.path.join(data_dir, f\"{today}.csv\"), index=False)"
   ]
  },
  {
   "cell_type": "code",
   "execution_count": null,
   "metadata": {},
   "outputs": [],
   "source": []
  }
 ],
 "metadata": {
  "kernelspec": {
   "display_name": "Python 3",
   "language": "python",
   "name": "python3"
  },
  "language_info": {
   "codemirror_mode": {
    "name": "ipython",
    "version": 3
   },
   "file_extension": ".py",
   "mimetype": "text/x-python",
   "name": "python",
   "nbconvert_exporter": "python",
   "pygments_lexer": "ipython3",
   "version": "3.8.8"
  }
 },
 "nbformat": 4,
 "nbformat_minor": 4
}
