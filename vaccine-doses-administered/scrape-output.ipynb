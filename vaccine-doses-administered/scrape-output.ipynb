{
 "cells": [
  {
   "cell_type": "markdown",
   "metadata": {},
   "source": [
    "# California COVID vaccinations scrape"
   ]
  },
  {
   "cell_type": "markdown",
   "metadata": {},
   "source": [
    "By [Amy O'Kruk](https://twitter.com/amyokruk)"
   ]
  },
  {
   "cell_type": "markdown",
   "metadata": {},
   "source": [
    "Downloads data on vaccine doses administered by county and statewide from a Tableau-powered dashboard from the California Department of Public Health."
   ]
  },
  {
   "cell_type": "code",
   "execution_count": 1,
   "metadata": {
    "execution": {
     "iopub.execute_input": "2021-03-10T01:27:48.837083Z",
     "iopub.status.busy": "2021-03-10T01:27:48.836410Z",
     "iopub.status.idle": "2021-03-10T01:27:49.272220Z",
     "shell.execute_reply": "2021-03-10T01:27:49.271260Z"
    }
   },
   "outputs": [],
   "source": [
    "import pandas as pd\n",
    "import requests\n",
    "from bs4 import BeautifulSoup\n",
    "import json\n",
    "import re\n",
    "import time\n",
    "from time import gmtime, strftime \n",
    "import os\n",
    "import pytz\n",
    "from datetime import datetime"
   ]
  },
  {
   "cell_type": "markdown",
   "metadata": {},
   "source": [
    "Scrape the dashboard page"
   ]
  },
  {
   "cell_type": "code",
   "execution_count": 2,
   "metadata": {
    "execution": {
     "iopub.execute_input": "2021-03-10T01:27:49.277658Z",
     "iopub.status.busy": "2021-03-10T01:27:49.276689Z",
     "iopub.status.idle": "2021-03-10T01:27:49.723304Z",
     "shell.execute_reply": "2021-03-10T01:27:49.722219Z"
    }
   },
   "outputs": [],
   "source": [
    "url = \"https://public.tableau.com/interactive/views/COVID-19VaccineDashboardPublic/Vaccine?:embed=y&:showVizHome=n&:apiID=host0\"\n",
    "\n",
    "r = requests.get(url)\n",
    "soup = BeautifulSoup(r.text, \"html.parser\")"
   ]
  },
  {
   "cell_type": "code",
   "execution_count": 3,
   "metadata": {
    "execution": {
     "iopub.execute_input": "2021-03-10T01:27:49.728070Z",
     "iopub.status.busy": "2021-03-10T01:27:49.727558Z",
     "iopub.status.idle": "2021-03-10T01:27:49.731057Z",
     "shell.execute_reply": "2021-03-10T01:27:49.730613Z"
    }
   },
   "outputs": [],
   "source": [
    "tableauData = json.loads(soup.find(\"textarea\",{\"id\": \"tsConfigContainer\"}).text)"
   ]
  },
  {
   "cell_type": "markdown",
   "metadata": {},
   "source": [
    "Get the link to the Tableau data"
   ]
  },
  {
   "cell_type": "code",
   "execution_count": 4,
   "metadata": {
    "execution": {
     "iopub.execute_input": "2021-03-10T01:27:49.734379Z",
     "iopub.status.busy": "2021-03-10T01:27:49.733867Z",
     "iopub.status.idle": "2021-03-10T01:27:49.737216Z",
     "shell.execute_reply": "2021-03-10T01:27:49.736752Z"
    }
   },
   "outputs": [],
   "source": [
    "dataUrl = f'https://public.tableau.com{tableauData[\"vizql_root\"]}/bootstrapSession/sessions/{tableauData[\"sessionid\"]}'"
   ]
  },
  {
   "cell_type": "code",
   "execution_count": 5,
   "metadata": {
    "execution": {
     "iopub.execute_input": "2021-03-10T01:27:49.744083Z",
     "iopub.status.busy": "2021-03-10T01:27:49.743551Z",
     "iopub.status.idle": "2021-03-10T01:27:51.124243Z",
     "shell.execute_reply": "2021-03-10T01:27:51.123551Z"
    }
   },
   "outputs": [],
   "source": [
    "r = requests.post(dataUrl, data= {\n",
    "    \"sheet_id\": tableauData[\"sheetId\"],\n",
    "})\n",
    "\n",
    "dataReg = re.search('\\d+;({.*})\\d+;({.*})', r.text, re.MULTILINE)\n",
    "data1 = json.loads(dataReg.group(2))\n",
    "\n",
    "dataJson = data1[\"secondaryInfo\"][\"presModelMap\"][\"dataDictionary\"][\"presModelHolder\"][\"genDataDictionaryPresModel\"][\"dataSegments\"][\"0\"][\"dataColumns\"]"
   ]
  },
  {
   "cell_type": "markdown",
   "metadata": {},
   "source": [
    "Isolate what you want"
   ]
  },
  {
   "cell_type": "code",
   "execution_count": 6,
   "metadata": {
    "execution": {
     "iopub.execute_input": "2021-03-10T01:27:51.129599Z",
     "iopub.status.busy": "2021-03-10T01:27:51.128289Z",
     "iopub.status.idle": "2021-03-10T01:27:51.130174Z",
     "shell.execute_reply": "2021-03-10T01:27:51.130598Z"
    }
   },
   "outputs": [],
   "source": [
    "counties = dataJson[2]['dataValues'][:58]"
   ]
  },
  {
   "cell_type": "code",
   "execution_count": 7,
   "metadata": {
    "execution": {
     "iopub.execute_input": "2021-03-10T01:27:51.135007Z",
     "iopub.status.busy": "2021-03-10T01:27:51.133871Z",
     "iopub.status.idle": "2021-03-10T01:27:51.135604Z",
     "shell.execute_reply": "2021-03-10T01:27:51.136030Z"
    }
   },
   "outputs": [],
   "source": [
    "doses = dataJson[0]['dataValues'][3:61]"
   ]
  },
  {
   "cell_type": "markdown",
   "metadata": {},
   "source": [
    "Data formatting"
   ]
  },
  {
   "cell_type": "code",
   "execution_count": 8,
   "metadata": {
    "execution": {
     "iopub.execute_input": "2021-03-10T01:27:51.140317Z",
     "iopub.status.busy": "2021-03-10T01:27:51.139170Z",
     "iopub.status.idle": "2021-03-10T01:27:51.140995Z",
     "shell.execute_reply": "2021-03-10T01:27:51.141429Z"
    }
   },
   "outputs": [],
   "source": [
    "zipped = dict(zip(counties, doses))"
   ]
  },
  {
   "cell_type": "code",
   "execution_count": 9,
   "metadata": {
    "execution": {
     "iopub.execute_input": "2021-03-10T01:27:51.147933Z",
     "iopub.status.busy": "2021-03-10T01:27:51.146742Z",
     "iopub.status.idle": "2021-03-10T01:27:51.148585Z",
     "shell.execute_reply": "2021-03-10T01:27:51.149034Z"
    }
   },
   "outputs": [],
   "source": [
    "df = pd.Series(zipped).reset_index()"
   ]
  },
  {
   "cell_type": "code",
   "execution_count": 10,
   "metadata": {
    "execution": {
     "iopub.execute_input": "2021-03-10T01:27:51.153336Z",
     "iopub.status.busy": "2021-03-10T01:27:51.152290Z",
     "iopub.status.idle": "2021-03-10T01:27:51.153987Z",
     "shell.execute_reply": "2021-03-10T01:27:51.154378Z"
    }
   },
   "outputs": [],
   "source": [
    "df.columns = ['location','doses']"
   ]
  },
  {
   "cell_type": "markdown",
   "metadata": {},
   "source": [
    "Grab the overall California total"
   ]
  },
  {
   "cell_type": "code",
   "execution_count": 11,
   "metadata": {
    "execution": {
     "iopub.execute_input": "2021-03-10T01:27:51.158383Z",
     "iopub.status.busy": "2021-03-10T01:27:51.157374Z",
     "iopub.status.idle": "2021-03-10T01:27:51.159144Z",
     "shell.execute_reply": "2021-03-10T01:27:51.159572Z"
    }
   },
   "outputs": [],
   "source": [
    "add = {'location':'California','doses':dataJson[0]['dataValues'][2]}"
   ]
  },
  {
   "cell_type": "code",
   "execution_count": 12,
   "metadata": {
    "execution": {
     "iopub.execute_input": "2021-03-10T01:27:51.166796Z",
     "iopub.status.busy": "2021-03-10T01:27:51.165567Z",
     "iopub.status.idle": "2021-03-10T01:27:51.167391Z",
     "shell.execute_reply": "2021-03-10T01:27:51.167816Z"
    }
   },
   "outputs": [],
   "source": [
    "df = df.append(add, ignore_index=True)"
   ]
  },
  {
   "cell_type": "code",
   "execution_count": 13,
   "metadata": {
    "execution": {
     "iopub.execute_input": "2021-03-10T01:27:51.172881Z",
     "iopub.status.busy": "2021-03-10T01:27:51.171698Z",
     "iopub.status.idle": "2021-03-10T01:27:51.173531Z",
     "shell.execute_reply": "2021-03-10T01:27:51.173956Z"
    }
   },
   "outputs": [],
   "source": [
    "df = df.sort_values(by='location')"
   ]
  },
  {
   "cell_type": "code",
   "execution_count": 14,
   "metadata": {
    "execution": {
     "iopub.execute_input": "2021-03-10T01:27:51.180485Z",
     "iopub.status.busy": "2021-03-10T01:27:51.179321Z",
     "iopub.status.idle": "2021-03-10T01:27:51.181174Z",
     "shell.execute_reply": "2021-03-10T01:27:51.181606Z"
    }
   },
   "outputs": [],
   "source": [
    "df = df[df.location == 'California'].append(df[df.location != 'California']).reset_index(drop=True)"
   ]
  },
  {
   "cell_type": "code",
   "execution_count": null,
   "metadata": {},
   "outputs": [],
   "source": []
  },
  {
   "cell_type": "code",
   "execution_count": 15,
   "metadata": {
    "execution": {
     "iopub.execute_input": "2021-03-10T01:27:51.184935Z",
     "iopub.status.busy": "2021-03-10T01:27:51.184424Z",
     "iopub.status.idle": "2021-03-10T01:27:51.201281Z",
     "shell.execute_reply": "2021-03-10T01:27:51.200705Z"
    }
   },
   "outputs": [],
   "source": [
    "tz = pytz.timezone(\"America/New_York\")"
   ]
  },
  {
   "cell_type": "code",
   "execution_count": 16,
   "metadata": {
    "execution": {
     "iopub.execute_input": "2021-03-10T01:27:51.205358Z",
     "iopub.status.busy": "2021-03-10T01:27:51.204241Z",
     "iopub.status.idle": "2021-03-10T01:27:51.205955Z",
     "shell.execute_reply": "2021-03-10T01:27:51.206382Z"
    }
   },
   "outputs": [],
   "source": [
    "today = datetime.now(tz).date()"
   ]
  },
  {
   "cell_type": "code",
   "execution_count": 17,
   "metadata": {
    "execution": {
     "iopub.execute_input": "2021-03-10T01:27:51.210798Z",
     "iopub.status.busy": "2021-03-10T01:27:51.209652Z",
     "iopub.status.idle": "2021-03-10T01:27:51.211378Z",
     "shell.execute_reply": "2021-03-10T01:27:51.211799Z"
    }
   },
   "outputs": [],
   "source": [
    "data_dir = os.path.join(os.path.abspath(\"\"), \"data\")"
   ]
  },
  {
   "cell_type": "code",
   "execution_count": 18,
   "metadata": {
    "execution": {
     "iopub.execute_input": "2021-03-10T01:27:51.215635Z",
     "iopub.status.busy": "2021-03-10T01:27:51.215105Z",
     "iopub.status.idle": "2021-03-10T01:27:51.219572Z",
     "shell.execute_reply": "2021-03-10T01:27:51.219051Z"
    }
   },
   "outputs": [],
   "source": [
    "df.to_csv(os.path.join(data_dir, f\"{today}.csv\"), index=False)"
   ]
  },
  {
   "cell_type": "code",
   "execution_count": null,
   "metadata": {},
   "outputs": [],
   "source": []
  }
 ],
 "metadata": {
  "kernelspec": {
   "display_name": "Python 3",
   "language": "python",
   "name": "python3"
  },
  "language_info": {
   "codemirror_mode": {
    "name": "ipython",
    "version": 3
   },
   "file_extension": ".py",
   "mimetype": "text/x-python",
   "name": "python",
   "nbconvert_exporter": "python",
   "pygments_lexer": "ipython3",
   "version": "3.8.8"
  }
 },
 "nbformat": 4,
 "nbformat_minor": 4
}
