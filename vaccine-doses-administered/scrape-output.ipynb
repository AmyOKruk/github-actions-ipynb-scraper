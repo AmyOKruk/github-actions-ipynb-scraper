{
 "cells": [
  {
   "cell_type": "markdown",
   "metadata": {},
   "source": [
    "# California COVID vaccinations scrape"
   ]
  },
  {
   "cell_type": "markdown",
   "metadata": {},
   "source": [
    "By [Amy O'Kruk](https://twitter.com/amyokruk)"
   ]
  },
  {
   "cell_type": "markdown",
   "metadata": {},
   "source": [
    "Downloads data on vaccine doses administered by county and statewide from a Tableau-powered dashboard from the California Department of Public Health."
   ]
  },
  {
   "cell_type": "code",
   "execution_count": 1,
   "metadata": {
    "execution": {
     "iopub.execute_input": "2021-03-09T04:49:12.026513Z",
     "iopub.status.busy": "2021-03-09T04:49:12.025956Z",
     "iopub.status.idle": "2021-03-09T04:49:12.395960Z",
     "shell.execute_reply": "2021-03-09T04:49:12.395017Z"
    }
   },
   "outputs": [],
   "source": [
    "import pandas as pd\n",
    "import requests\n",
    "from bs4 import BeautifulSoup\n",
    "import json\n",
    "import re\n",
    "import time\n",
    "from time import gmtime, strftime \n",
    "import os\n",
    "import pytz\n",
    "from datetime import datetime"
   ]
  },
  {
   "cell_type": "markdown",
   "metadata": {},
   "source": [
    "Scrape the dashboard page"
   ]
  },
  {
   "cell_type": "code",
   "execution_count": 2,
   "metadata": {
    "execution": {
     "iopub.execute_input": "2021-03-09T04:49:12.401399Z",
     "iopub.status.busy": "2021-03-09T04:49:12.400459Z",
     "iopub.status.idle": "2021-03-09T04:49:12.964061Z",
     "shell.execute_reply": "2021-03-09T04:49:12.963182Z"
    }
   },
   "outputs": [],
   "source": [
    "url = \"https://public.tableau.com/interactive/views/COVID-19VaccineDashboardPublic/Vaccine?:embed=y&:showVizHome=n&:apiID=host0\"\n",
    "\n",
    "r = requests.get(url)\n",
    "soup = BeautifulSoup(r.text, \"html.parser\")"
   ]
  },
  {
   "cell_type": "code",
   "execution_count": 3,
   "metadata": {
    "execution": {
     "iopub.execute_input": "2021-03-09T04:49:12.971101Z",
     "iopub.status.busy": "2021-03-09T04:49:12.969899Z",
     "iopub.status.idle": "2021-03-09T04:49:12.971699Z",
     "shell.execute_reply": "2021-03-09T04:49:12.972157Z"
    }
   },
   "outputs": [],
   "source": [
    "tableauData = json.loads(soup.find(\"textarea\",{\"id\": \"tsConfigContainer\"}).text)"
   ]
  },
  {
   "cell_type": "markdown",
   "metadata": {},
   "source": [
    "Get the link to the Tableau data"
   ]
  },
  {
   "cell_type": "code",
   "execution_count": 4,
   "metadata": {
    "execution": {
     "iopub.execute_input": "2021-03-09T04:49:12.976577Z",
     "iopub.status.busy": "2021-03-09T04:49:12.975385Z",
     "iopub.status.idle": "2021-03-09T04:49:12.977189Z",
     "shell.execute_reply": "2021-03-09T04:49:12.977616Z"
    }
   },
   "outputs": [],
   "source": [
    "dataUrl = f'https://public.tableau.com{tableauData[\"vizql_root\"]}/bootstrapSession/sessions/{tableauData[\"sessionid\"]}'"
   ]
  },
  {
   "cell_type": "code",
   "execution_count": 5,
   "metadata": {
    "execution": {
     "iopub.execute_input": "2021-03-09T04:49:12.984281Z",
     "iopub.status.busy": "2021-03-09T04:49:12.983659Z",
     "iopub.status.idle": "2021-03-09T04:49:13.291876Z",
     "shell.execute_reply": "2021-03-09T04:49:13.292517Z"
    }
   },
   "outputs": [],
   "source": [
    "r = requests.post(dataUrl, data= {\n",
    "    \"sheet_id\": tableauData[\"sheetId\"],\n",
    "})\n",
    "\n",
    "dataReg = re.search('\\d+;({.*})\\d+;({.*})', r.text, re.MULTILINE)\n",
    "data1 = json.loads(dataReg.group(2))\n",
    "\n",
    "dataJson = data1[\"secondaryInfo\"][\"presModelMap\"][\"dataDictionary\"][\"presModelHolder\"][\"genDataDictionaryPresModel\"][\"dataSegments\"][\"0\"][\"dataColumns\"]"
   ]
  },
  {
   "cell_type": "markdown",
   "metadata": {},
   "source": [
    "Isolate what you want"
   ]
  },
  {
   "cell_type": "code",
   "execution_count": 6,
   "metadata": {
    "execution": {
     "iopub.execute_input": "2021-03-09T04:49:13.298116Z",
     "iopub.status.busy": "2021-03-09T04:49:13.296815Z",
     "iopub.status.idle": "2021-03-09T04:49:13.298766Z",
     "shell.execute_reply": "2021-03-09T04:49:13.299223Z"
    }
   },
   "outputs": [],
   "source": [
    "counties = dataJson[2]['dataValues'][:58]"
   ]
  },
  {
   "cell_type": "code",
   "execution_count": 7,
   "metadata": {
    "execution": {
     "iopub.execute_input": "2021-03-09T04:49:13.303791Z",
     "iopub.status.busy": "2021-03-09T04:49:13.302864Z",
     "iopub.status.idle": "2021-03-09T04:49:13.304663Z",
     "shell.execute_reply": "2021-03-09T04:49:13.305127Z"
    }
   },
   "outputs": [],
   "source": [
    "doses = dataJson[0]['dataValues'][3:61]"
   ]
  },
  {
   "cell_type": "markdown",
   "metadata": {},
   "source": [
    "Data formatting"
   ]
  },
  {
   "cell_type": "code",
   "execution_count": 8,
   "metadata": {
    "execution": {
     "iopub.execute_input": "2021-03-09T04:49:13.309876Z",
     "iopub.status.busy": "2021-03-09T04:49:13.308647Z",
     "iopub.status.idle": "2021-03-09T04:49:13.310486Z",
     "shell.execute_reply": "2021-03-09T04:49:13.310897Z"
    }
   },
   "outputs": [],
   "source": [
    "zipped = dict(zip(counties, doses))"
   ]
  },
  {
   "cell_type": "code",
   "execution_count": 9,
   "metadata": {
    "execution": {
     "iopub.execute_input": "2021-03-09T04:49:13.318781Z",
     "iopub.status.busy": "2021-03-09T04:49:13.317280Z",
     "iopub.status.idle": "2021-03-09T04:49:13.319398Z",
     "shell.execute_reply": "2021-03-09T04:49:13.319860Z"
    }
   },
   "outputs": [],
   "source": [
    "df = pd.Series(zipped).reset_index()"
   ]
  },
  {
   "cell_type": "code",
   "execution_count": 10,
   "metadata": {
    "execution": {
     "iopub.execute_input": "2021-03-09T04:49:13.325306Z",
     "iopub.status.busy": "2021-03-09T04:49:13.323943Z",
     "iopub.status.idle": "2021-03-09T04:49:13.325941Z",
     "shell.execute_reply": "2021-03-09T04:49:13.326389Z"
    }
   },
   "outputs": [],
   "source": [
    "df.columns = ['location','doses']"
   ]
  },
  {
   "cell_type": "markdown",
   "metadata": {},
   "source": [
    "Grab the overall California total"
   ]
  },
  {
   "cell_type": "code",
   "execution_count": 11,
   "metadata": {
    "execution": {
     "iopub.execute_input": "2021-03-09T04:49:13.332548Z",
     "iopub.status.busy": "2021-03-09T04:49:13.331218Z",
     "iopub.status.idle": "2021-03-09T04:49:13.333180Z",
     "shell.execute_reply": "2021-03-09T04:49:13.333618Z"
    }
   },
   "outputs": [],
   "source": [
    "add = {'location':'California','doses':dataJson[0]['dataValues'][2]}"
   ]
  },
  {
   "cell_type": "code",
   "execution_count": 12,
   "metadata": {
    "execution": {
     "iopub.execute_input": "2021-03-09T04:49:13.341891Z",
     "iopub.status.busy": "2021-03-09T04:49:13.340574Z",
     "iopub.status.idle": "2021-03-09T04:49:13.342485Z",
     "shell.execute_reply": "2021-03-09T04:49:13.342929Z"
    }
   },
   "outputs": [],
   "source": [
    "df = df.append(add, ignore_index=True)"
   ]
  },
  {
   "cell_type": "code",
   "execution_count": 13,
   "metadata": {
    "execution": {
     "iopub.execute_input": "2021-03-09T04:49:13.348433Z",
     "iopub.status.busy": "2021-03-09T04:49:13.347245Z",
     "iopub.status.idle": "2021-03-09T04:49:13.349041Z",
     "shell.execute_reply": "2021-03-09T04:49:13.349481Z"
    }
   },
   "outputs": [],
   "source": [
    "df = df.sort_values(by='location')"
   ]
  },
  {
   "cell_type": "code",
   "execution_count": 14,
   "metadata": {
    "execution": {
     "iopub.execute_input": "2021-03-09T04:49:13.357426Z",
     "iopub.status.busy": "2021-03-09T04:49:13.356009Z",
     "iopub.status.idle": "2021-03-09T04:49:13.358031Z",
     "shell.execute_reply": "2021-03-09T04:49:13.358497Z"
    }
   },
   "outputs": [],
   "source": [
    "df = df[df.location == 'California'].append(df[df.location != 'California']).reset_index(drop=True)"
   ]
  },
  {
   "cell_type": "code",
   "execution_count": null,
   "metadata": {},
   "outputs": [],
   "source": []
  },
  {
   "cell_type": "code",
   "execution_count": 15,
   "metadata": {
    "execution": {
     "iopub.execute_input": "2021-03-09T04:49:13.362463Z",
     "iopub.status.busy": "2021-03-09T04:49:13.361935Z",
     "iopub.status.idle": "2021-03-09T04:49:13.380128Z",
     "shell.execute_reply": "2021-03-09T04:49:13.379540Z"
    }
   },
   "outputs": [],
   "source": [
    "tz = pytz.timezone(\"America/New_York\")"
   ]
  },
  {
   "cell_type": "code",
   "execution_count": 16,
   "metadata": {
    "execution": {
     "iopub.execute_input": "2021-03-09T04:49:13.385095Z",
     "iopub.status.busy": "2021-03-09T04:49:13.383748Z",
     "iopub.status.idle": "2021-03-09T04:49:13.385835Z",
     "shell.execute_reply": "2021-03-09T04:49:13.386292Z"
    }
   },
   "outputs": [],
   "source": [
    "today = datetime.now(tz).date()"
   ]
  },
  {
   "cell_type": "code",
   "execution_count": 17,
   "metadata": {
    "execution": {
     "iopub.execute_input": "2021-03-09T04:49:13.390440Z",
     "iopub.status.busy": "2021-03-09T04:49:13.389900Z",
     "iopub.status.idle": "2021-03-09T04:49:13.392377Z",
     "shell.execute_reply": "2021-03-09T04:49:13.391881Z"
    }
   },
   "outputs": [],
   "source": [
    "data_dir = os.path.join(os.path.abspath(\"\"), \"data\")"
   ]
  },
  {
   "cell_type": "code",
   "execution_count": 18,
   "metadata": {
    "execution": {
     "iopub.execute_input": "2021-03-09T04:49:13.398423Z",
     "iopub.status.busy": "2021-03-09T04:49:13.395860Z",
     "iopub.status.idle": "2021-03-09T04:49:13.401168Z",
     "shell.execute_reply": "2021-03-09T04:49:13.400597Z"
    }
   },
   "outputs": [],
   "source": [
    "df.to_csv(os.path.join(data_dir, f\"{today}.csv\"), index=False)"
   ]
  },
  {
   "cell_type": "code",
   "execution_count": null,
   "metadata": {},
   "outputs": [],
   "source": []
  }
 ],
 "metadata": {
  "kernelspec": {
   "display_name": "Python 3",
   "language": "python",
   "name": "python3"
  },
  "language_info": {
   "codemirror_mode": {
    "name": "ipython",
    "version": 3
   },
   "file_extension": ".py",
   "mimetype": "text/x-python",
   "name": "python",
   "nbconvert_exporter": "python",
   "pygments_lexer": "ipython3",
   "version": "3.8.8"
  }
 },
 "nbformat": 4,
 "nbformat_minor": 4
}
