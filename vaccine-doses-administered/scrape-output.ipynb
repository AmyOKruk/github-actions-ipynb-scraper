{
 "cells": [
  {
   "cell_type": "markdown",
   "metadata": {},
   "source": [
    "# California COVID vaccinations scrape"
   ]
  },
  {
   "cell_type": "markdown",
   "metadata": {},
   "source": [
    "By [Amy O'Kruk](https://twitter.com/amyokruk)"
   ]
  },
  {
   "cell_type": "markdown",
   "metadata": {},
   "source": [
    "Downloads data on vaccine doses administered by county and statewide from a Tableau-powered dashboard from the California Department of Public Health."
   ]
  },
  {
   "cell_type": "code",
   "execution_count": 1,
   "metadata": {
    "execution": {
     "iopub.execute_input": "2021-03-15T13:15:18.467366Z",
     "iopub.status.busy": "2021-03-15T13:15:18.466720Z",
     "iopub.status.idle": "2021-03-15T13:15:18.874078Z",
     "shell.execute_reply": "2021-03-15T13:15:18.873079Z"
    }
   },
   "outputs": [],
   "source": [
    "import pandas as pd\n",
    "import requests\n",
    "from bs4 import BeautifulSoup\n",
    "import json\n",
    "import re\n",
    "import time\n",
    "from time import gmtime, strftime \n",
    "import os\n",
    "import pytz\n",
    "from datetime import datetime"
   ]
  },
  {
   "cell_type": "markdown",
   "metadata": {},
   "source": [
    "Scrape the dashboard page"
   ]
  },
  {
   "cell_type": "code",
   "execution_count": 2,
   "metadata": {
    "execution": {
     "iopub.execute_input": "2021-03-15T13:15:18.880301Z",
     "iopub.status.busy": "2021-03-15T13:15:18.877734Z",
     "iopub.status.idle": "2021-03-15T13:15:19.212697Z",
     "shell.execute_reply": "2021-03-15T13:15:19.211692Z"
    }
   },
   "outputs": [],
   "source": [
    "url = \"https://public.tableau.com/interactive/views/COVID-19VaccineDashboardPublic/Vaccine?:embed=y&:showVizHome=n&:apiID=host0\"\n",
    "\n",
    "r = requests.get(url)\n",
    "soup = BeautifulSoup(r.text, \"html.parser\")"
   ]
  },
  {
   "cell_type": "code",
   "execution_count": 3,
   "metadata": {
    "execution": {
     "iopub.execute_input": "2021-03-15T13:15:19.217560Z",
     "iopub.status.busy": "2021-03-15T13:15:19.217026Z",
     "iopub.status.idle": "2021-03-15T13:15:19.220119Z",
     "shell.execute_reply": "2021-03-15T13:15:19.220526Z"
    }
   },
   "outputs": [],
   "source": [
    "tableauData = json.loads(soup.find(\"textarea\",{\"id\": \"tsConfigContainer\"}).text)"
   ]
  },
  {
   "cell_type": "markdown",
   "metadata": {},
   "source": [
    "Get the link to the Tableau data"
   ]
  },
  {
   "cell_type": "code",
   "execution_count": 4,
   "metadata": {
    "execution": {
     "iopub.execute_input": "2021-03-15T13:15:19.224118Z",
     "iopub.status.busy": "2021-03-15T13:15:19.223613Z",
     "iopub.status.idle": "2021-03-15T13:15:19.227020Z",
     "shell.execute_reply": "2021-03-15T13:15:19.226585Z"
    }
   },
   "outputs": [],
   "source": [
    "dataUrl = f'https://public.tableau.com{tableauData[\"vizql_root\"]}/bootstrapSession/sessions/{tableauData[\"sessionid\"]}'"
   ]
  },
  {
   "cell_type": "code",
   "execution_count": 5,
   "metadata": {
    "execution": {
     "iopub.execute_input": "2021-03-15T13:15:19.233793Z",
     "iopub.status.busy": "2021-03-15T13:15:19.232977Z",
     "iopub.status.idle": "2021-03-15T13:15:19.453196Z",
     "shell.execute_reply": "2021-03-15T13:15:19.452691Z"
    }
   },
   "outputs": [],
   "source": [
    "r = requests.post(dataUrl, data= {\n",
    "    \"sheet_id\": tableauData[\"sheetId\"],\n",
    "})\n",
    "\n",
    "dataReg = re.search('\\d+;({.*})\\d+;({.*})', r.text, re.MULTILINE)\n",
    "data1 = json.loads(dataReg.group(2))\n",
    "\n",
    "dataJson = data1[\"secondaryInfo\"][\"presModelMap\"][\"dataDictionary\"][\"presModelHolder\"][\"genDataDictionaryPresModel\"][\"dataSegments\"][\"0\"][\"dataColumns\"]"
   ]
  },
  {
   "cell_type": "markdown",
   "metadata": {},
   "source": [
    "Isolate what you want"
   ]
  },
  {
   "cell_type": "code",
   "execution_count": 6,
   "metadata": {
    "execution": {
     "iopub.execute_input": "2021-03-15T13:15:19.457081Z",
     "iopub.status.busy": "2021-03-15T13:15:19.456571Z",
     "iopub.status.idle": "2021-03-15T13:15:19.460086Z",
     "shell.execute_reply": "2021-03-15T13:15:19.459633Z"
    }
   },
   "outputs": [],
   "source": [
    "counties = dataJson[2]['dataValues'][:58]"
   ]
  },
  {
   "cell_type": "code",
   "execution_count": 7,
   "metadata": {
    "execution": {
     "iopub.execute_input": "2021-03-15T13:15:19.463709Z",
     "iopub.status.busy": "2021-03-15T13:15:19.463202Z",
     "iopub.status.idle": "2021-03-15T13:15:19.466746Z",
     "shell.execute_reply": "2021-03-15T13:15:19.466284Z"
    }
   },
   "outputs": [],
   "source": [
    "doses = dataJson[0]['dataValues'][3:61]"
   ]
  },
  {
   "cell_type": "markdown",
   "metadata": {},
   "source": [
    "Data formatting"
   ]
  },
  {
   "cell_type": "code",
   "execution_count": 8,
   "metadata": {
    "execution": {
     "iopub.execute_input": "2021-03-15T13:15:19.470168Z",
     "iopub.status.busy": "2021-03-15T13:15:19.469638Z",
     "iopub.status.idle": "2021-03-15T13:15:19.472546Z",
     "shell.execute_reply": "2021-03-15T13:15:19.472975Z"
    }
   },
   "outputs": [],
   "source": [
    "zipped = dict(zip(counties, doses))"
   ]
  },
  {
   "cell_type": "code",
   "execution_count": 9,
   "metadata": {
    "execution": {
     "iopub.execute_input": "2021-03-15T13:15:19.478774Z",
     "iopub.status.busy": "2021-03-15T13:15:19.478253Z",
     "iopub.status.idle": "2021-03-15T13:15:19.481580Z",
     "shell.execute_reply": "2021-03-15T13:15:19.481097Z"
    }
   },
   "outputs": [],
   "source": [
    "df = pd.Series(zipped).reset_index()"
   ]
  },
  {
   "cell_type": "code",
   "execution_count": 10,
   "metadata": {
    "execution": {
     "iopub.execute_input": "2021-03-15T13:15:19.485205Z",
     "iopub.status.busy": "2021-03-15T13:15:19.484698Z",
     "iopub.status.idle": "2021-03-15T13:15:19.488152Z",
     "shell.execute_reply": "2021-03-15T13:15:19.487703Z"
    }
   },
   "outputs": [],
   "source": [
    "df.columns = ['location','doses']"
   ]
  },
  {
   "cell_type": "markdown",
   "metadata": {},
   "source": [
    "Grab the overall California total"
   ]
  },
  {
   "cell_type": "code",
   "execution_count": 11,
   "metadata": {
    "execution": {
     "iopub.execute_input": "2021-03-15T13:15:19.491800Z",
     "iopub.status.busy": "2021-03-15T13:15:19.491294Z",
     "iopub.status.idle": "2021-03-15T13:15:19.494285Z",
     "shell.execute_reply": "2021-03-15T13:15:19.494722Z"
    }
   },
   "outputs": [],
   "source": [
    "add = {'location':'California','doses':dataJson[0]['dataValues'][2]}"
   ]
  },
  {
   "cell_type": "code",
   "execution_count": 12,
   "metadata": {
    "execution": {
     "iopub.execute_input": "2021-03-15T13:15:19.501088Z",
     "iopub.status.busy": "2021-03-15T13:15:19.500579Z",
     "iopub.status.idle": "2021-03-15T13:15:19.504147Z",
     "shell.execute_reply": "2021-03-15T13:15:19.503690Z"
    }
   },
   "outputs": [],
   "source": [
    "df = df.append(add, ignore_index=True)"
   ]
  },
  {
   "cell_type": "code",
   "execution_count": 13,
   "metadata": {
    "execution": {
     "iopub.execute_input": "2021-03-15T13:15:19.508291Z",
     "iopub.status.busy": "2021-03-15T13:15:19.507782Z",
     "iopub.status.idle": "2021-03-15T13:15:19.510743Z",
     "shell.execute_reply": "2021-03-15T13:15:19.511172Z"
    }
   },
   "outputs": [],
   "source": [
    "df = df.sort_values(by='location')"
   ]
  },
  {
   "cell_type": "code",
   "execution_count": 14,
   "metadata": {
    "execution": {
     "iopub.execute_input": "2021-03-15T13:15:19.516938Z",
     "iopub.status.busy": "2021-03-15T13:15:19.516422Z",
     "iopub.status.idle": "2021-03-15T13:15:19.519885Z",
     "shell.execute_reply": "2021-03-15T13:15:19.519434Z"
    }
   },
   "outputs": [],
   "source": [
    "df = df[df.location == 'California'].append(df[df.location != 'California']).reset_index(drop=True)"
   ]
  },
  {
   "cell_type": "code",
   "execution_count": null,
   "metadata": {},
   "outputs": [],
   "source": []
  },
  {
   "cell_type": "code",
   "execution_count": 15,
   "metadata": {
    "execution": {
     "iopub.execute_input": "2021-03-15T13:15:19.523198Z",
     "iopub.status.busy": "2021-03-15T13:15:19.522690Z",
     "iopub.status.idle": "2021-03-15T13:15:19.551929Z",
     "shell.execute_reply": "2021-03-15T13:15:19.551416Z"
    }
   },
   "outputs": [],
   "source": [
    "tz = pytz.timezone(\"America/New_York\")"
   ]
  },
  {
   "cell_type": "code",
   "execution_count": 16,
   "metadata": {
    "execution": {
     "iopub.execute_input": "2021-03-15T13:15:19.555860Z",
     "iopub.status.busy": "2021-03-15T13:15:19.555351Z",
     "iopub.status.idle": "2021-03-15T13:15:19.558859Z",
     "shell.execute_reply": "2021-03-15T13:15:19.558395Z"
    }
   },
   "outputs": [],
   "source": [
    "today = datetime.now(tz).date()"
   ]
  },
  {
   "cell_type": "code",
   "execution_count": 17,
   "metadata": {
    "execution": {
     "iopub.execute_input": "2021-03-15T13:15:19.562684Z",
     "iopub.status.busy": "2021-03-15T13:15:19.561846Z",
     "iopub.status.idle": "2021-03-15T13:15:19.565110Z",
     "shell.execute_reply": "2021-03-15T13:15:19.565543Z"
    }
   },
   "outputs": [],
   "source": [
    "data_dir = os.path.join(os.path.abspath(\"\"), \"data\")"
   ]
  },
  {
   "cell_type": "code",
   "execution_count": 18,
   "metadata": {
    "execution": {
     "iopub.execute_input": "2021-03-15T13:15:19.569843Z",
     "iopub.status.busy": "2021-03-15T13:15:19.569045Z",
     "iopub.status.idle": "2021-03-15T13:15:19.574961Z",
     "shell.execute_reply": "2021-03-15T13:15:19.574498Z"
    }
   },
   "outputs": [],
   "source": [
    "df.to_csv(os.path.join(data_dir, f\"{today}.csv\"), index=False)"
   ]
  },
  {
   "cell_type": "code",
   "execution_count": null,
   "metadata": {},
   "outputs": [],
   "source": []
  }
 ],
 "metadata": {
  "kernelspec": {
   "display_name": "Python 3",
   "language": "python",
   "name": "python3"
  },
  "language_info": {
   "codemirror_mode": {
    "name": "ipython",
    "version": 3
   },
   "file_extension": ".py",
   "mimetype": "text/x-python",
   "name": "python",
   "nbconvert_exporter": "python",
   "pygments_lexer": "ipython3",
   "version": "3.8.8"
  }
 },
 "nbformat": 4,
 "nbformat_minor": 4
}
