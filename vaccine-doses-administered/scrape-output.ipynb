{
 "cells": [
  {
   "cell_type": "markdown",
   "metadata": {},
   "source": [
    "# California COVID vaccinations scrape"
   ]
  },
  {
   "cell_type": "markdown",
   "metadata": {},
   "source": [
    "By [Amy O'Kruk](https://twitter.com/amyokruk)"
   ]
  },
  {
   "cell_type": "markdown",
   "metadata": {},
   "source": [
    "Downloads data on vaccine doses administered by county and statewide from a Tableau-powered dashboard from the California Department of Public Health."
   ]
  },
  {
   "cell_type": "code",
   "execution_count": 1,
   "metadata": {
    "execution": {
     "iopub.execute_input": "2021-03-13T04:49:22.456701Z",
     "iopub.status.busy": "2021-03-13T04:49:22.456026Z",
     "iopub.status.idle": "2021-03-13T04:49:22.844333Z",
     "shell.execute_reply": "2021-03-13T04:49:22.843170Z"
    }
   },
   "outputs": [],
   "source": [
    "import pandas as pd\n",
    "import requests\n",
    "from bs4 import BeautifulSoup\n",
    "import json\n",
    "import re\n",
    "import time\n",
    "from time import gmtime, strftime \n",
    "import os\n",
    "import pytz\n",
    "from datetime import datetime"
   ]
  },
  {
   "cell_type": "markdown",
   "metadata": {},
   "source": [
    "Scrape the dashboard page"
   ]
  },
  {
   "cell_type": "code",
   "execution_count": 2,
   "metadata": {
    "execution": {
     "iopub.execute_input": "2021-03-13T04:49:22.850855Z",
     "iopub.status.busy": "2021-03-13T04:49:22.848716Z",
     "iopub.status.idle": "2021-03-13T04:49:23.357025Z",
     "shell.execute_reply": "2021-03-13T04:49:23.356426Z"
    }
   },
   "outputs": [],
   "source": [
    "url = \"https://public.tableau.com/interactive/views/COVID-19VaccineDashboardPublic/Vaccine?:embed=y&:showVizHome=n&:apiID=host0\"\n",
    "\n",
    "r = requests.get(url)\n",
    "soup = BeautifulSoup(r.text, \"html.parser\")"
   ]
  },
  {
   "cell_type": "code",
   "execution_count": 3,
   "metadata": {
    "execution": {
     "iopub.execute_input": "2021-03-13T04:49:23.362904Z",
     "iopub.status.busy": "2021-03-13T04:49:23.361613Z",
     "iopub.status.idle": "2021-03-13T04:49:23.363598Z",
     "shell.execute_reply": "2021-03-13T04:49:23.364072Z"
    }
   },
   "outputs": [],
   "source": [
    "tableauData = json.loads(soup.find(\"textarea\",{\"id\": \"tsConfigContainer\"}).text)"
   ]
  },
  {
   "cell_type": "markdown",
   "metadata": {},
   "source": [
    "Get the link to the Tableau data"
   ]
  },
  {
   "cell_type": "code",
   "execution_count": 4,
   "metadata": {
    "execution": {
     "iopub.execute_input": "2021-03-13T04:49:23.368450Z",
     "iopub.status.busy": "2021-03-13T04:49:23.367188Z",
     "iopub.status.idle": "2021-03-13T04:49:23.369064Z",
     "shell.execute_reply": "2021-03-13T04:49:23.369504Z"
    }
   },
   "outputs": [],
   "source": [
    "dataUrl = f'https://public.tableau.com{tableauData[\"vizql_root\"]}/bootstrapSession/sessions/{tableauData[\"sessionid\"]}'"
   ]
  },
  {
   "cell_type": "code",
   "execution_count": 5,
   "metadata": {
    "execution": {
     "iopub.execute_input": "2021-03-13T04:49:23.376421Z",
     "iopub.status.busy": "2021-03-13T04:49:23.375861Z",
     "iopub.status.idle": "2021-03-13T04:49:23.648101Z",
     "shell.execute_reply": "2021-03-13T04:49:23.649047Z"
    }
   },
   "outputs": [],
   "source": [
    "r = requests.post(dataUrl, data= {\n",
    "    \"sheet_id\": tableauData[\"sheetId\"],\n",
    "})\n",
    "\n",
    "dataReg = re.search('\\d+;({.*})\\d+;({.*})', r.text, re.MULTILINE)\n",
    "data1 = json.loads(dataReg.group(2))\n",
    "\n",
    "dataJson = data1[\"secondaryInfo\"][\"presModelMap\"][\"dataDictionary\"][\"presModelHolder\"][\"genDataDictionaryPresModel\"][\"dataSegments\"][\"0\"][\"dataColumns\"]"
   ]
  },
  {
   "cell_type": "markdown",
   "metadata": {},
   "source": [
    "Isolate what you want"
   ]
  },
  {
   "cell_type": "code",
   "execution_count": 6,
   "metadata": {
    "execution": {
     "iopub.execute_input": "2021-03-13T04:49:23.655156Z",
     "iopub.status.busy": "2021-03-13T04:49:23.654092Z",
     "iopub.status.idle": "2021-03-13T04:49:23.656350Z",
     "shell.execute_reply": "2021-03-13T04:49:23.655814Z"
    }
   },
   "outputs": [],
   "source": [
    "counties = dataJson[2]['dataValues'][:58]"
   ]
  },
  {
   "cell_type": "code",
   "execution_count": 7,
   "metadata": {
    "execution": {
     "iopub.execute_input": "2021-03-13T04:49:23.661490Z",
     "iopub.status.busy": "2021-03-13T04:49:23.660235Z",
     "iopub.status.idle": "2021-03-13T04:49:23.662172Z",
     "shell.execute_reply": "2021-03-13T04:49:23.662689Z"
    }
   },
   "outputs": [],
   "source": [
    "doses = dataJson[0]['dataValues'][3:61]"
   ]
  },
  {
   "cell_type": "markdown",
   "metadata": {},
   "source": [
    "Data formatting"
   ]
  },
  {
   "cell_type": "code",
   "execution_count": 8,
   "metadata": {
    "execution": {
     "iopub.execute_input": "2021-03-13T04:49:23.667707Z",
     "iopub.status.busy": "2021-03-13T04:49:23.666219Z",
     "iopub.status.idle": "2021-03-13T04:49:23.668435Z",
     "shell.execute_reply": "2021-03-13T04:49:23.668950Z"
    }
   },
   "outputs": [],
   "source": [
    "zipped = dict(zip(counties, doses))"
   ]
  },
  {
   "cell_type": "code",
   "execution_count": 9,
   "metadata": {
    "execution": {
     "iopub.execute_input": "2021-03-13T04:49:23.676167Z",
     "iopub.status.busy": "2021-03-13T04:49:23.674758Z",
     "iopub.status.idle": "2021-03-13T04:49:23.676913Z",
     "shell.execute_reply": "2021-03-13T04:49:23.677423Z"
    }
   },
   "outputs": [],
   "source": [
    "df = pd.Series(zipped).reset_index()"
   ]
  },
  {
   "cell_type": "code",
   "execution_count": 10,
   "metadata": {
    "execution": {
     "iopub.execute_input": "2021-03-13T04:49:23.682305Z",
     "iopub.status.busy": "2021-03-13T04:49:23.681010Z",
     "iopub.status.idle": "2021-03-13T04:49:23.682974Z",
     "shell.execute_reply": "2021-03-13T04:49:23.683491Z"
    }
   },
   "outputs": [],
   "source": [
    "df.columns = ['location','doses']"
   ]
  },
  {
   "cell_type": "markdown",
   "metadata": {},
   "source": [
    "Grab the overall California total"
   ]
  },
  {
   "cell_type": "code",
   "execution_count": 11,
   "metadata": {
    "execution": {
     "iopub.execute_input": "2021-03-13T04:49:23.688433Z",
     "iopub.status.busy": "2021-03-13T04:49:23.687125Z",
     "iopub.status.idle": "2021-03-13T04:49:23.689109Z",
     "shell.execute_reply": "2021-03-13T04:49:23.689625Z"
    }
   },
   "outputs": [],
   "source": [
    "add = {'location':'California','doses':dataJson[0]['dataValues'][2]}"
   ]
  },
  {
   "cell_type": "code",
   "execution_count": 12,
   "metadata": {
    "execution": {
     "iopub.execute_input": "2021-03-13T04:49:23.697230Z",
     "iopub.status.busy": "2021-03-13T04:49:23.695893Z",
     "iopub.status.idle": "2021-03-13T04:49:23.697899Z",
     "shell.execute_reply": "2021-03-13T04:49:23.698426Z"
    }
   },
   "outputs": [],
   "source": [
    "df = df.append(add, ignore_index=True)"
   ]
  },
  {
   "cell_type": "code",
   "execution_count": 13,
   "metadata": {
    "execution": {
     "iopub.execute_input": "2021-03-13T04:49:23.703805Z",
     "iopub.status.busy": "2021-03-13T04:49:23.702518Z",
     "iopub.status.idle": "2021-03-13T04:49:23.704482Z",
     "shell.execute_reply": "2021-03-13T04:49:23.704998Z"
    }
   },
   "outputs": [],
   "source": [
    "df = df.sort_values(by='location')"
   ]
  },
  {
   "cell_type": "code",
   "execution_count": 14,
   "metadata": {
    "execution": {
     "iopub.execute_input": "2021-03-13T04:49:23.712290Z",
     "iopub.status.busy": "2021-03-13T04:49:23.710957Z",
     "iopub.status.idle": "2021-03-13T04:49:23.712958Z",
     "shell.execute_reply": "2021-03-13T04:49:23.713476Z"
    }
   },
   "outputs": [],
   "source": [
    "df = df[df.location == 'California'].append(df[df.location != 'California']).reset_index(drop=True)"
   ]
  },
  {
   "cell_type": "code",
   "execution_count": null,
   "metadata": {},
   "outputs": [],
   "source": []
  },
  {
   "cell_type": "code",
   "execution_count": 15,
   "metadata": {
    "execution": {
     "iopub.execute_input": "2021-03-13T04:49:23.716993Z",
     "iopub.status.busy": "2021-03-13T04:49:23.716388Z",
     "iopub.status.idle": "2021-03-13T04:49:23.734068Z",
     "shell.execute_reply": "2021-03-13T04:49:23.734504Z"
    }
   },
   "outputs": [],
   "source": [
    "tz = pytz.timezone(\"America/New_York\")"
   ]
  },
  {
   "cell_type": "code",
   "execution_count": 16,
   "metadata": {
    "execution": {
     "iopub.execute_input": "2021-03-13T04:49:23.739213Z",
     "iopub.status.busy": "2021-03-13T04:49:23.737956Z",
     "iopub.status.idle": "2021-03-13T04:49:23.739864Z",
     "shell.execute_reply": "2021-03-13T04:49:23.740319Z"
    }
   },
   "outputs": [],
   "source": [
    "today = datetime.now(tz).date()"
   ]
  },
  {
   "cell_type": "code",
   "execution_count": 17,
   "metadata": {
    "execution": {
     "iopub.execute_input": "2021-03-13T04:49:23.744865Z",
     "iopub.status.busy": "2021-03-13T04:49:23.743508Z",
     "iopub.status.idle": "2021-03-13T04:49:23.745484Z",
     "shell.execute_reply": "2021-03-13T04:49:23.745927Z"
    }
   },
   "outputs": [],
   "source": [
    "data_dir = os.path.join(os.path.abspath(\"\"), \"data\")"
   ]
  },
  {
   "cell_type": "code",
   "execution_count": 18,
   "metadata": {
    "execution": {
     "iopub.execute_input": "2021-03-13T04:49:23.749953Z",
     "iopub.status.busy": "2021-03-13T04:49:23.749211Z",
     "iopub.status.idle": "2021-03-13T04:49:23.753772Z",
     "shell.execute_reply": "2021-03-13T04:49:23.753319Z"
    }
   },
   "outputs": [],
   "source": [
    "df.to_csv(os.path.join(data_dir, f\"{today}.csv\"), index=False)"
   ]
  },
  {
   "cell_type": "code",
   "execution_count": null,
   "metadata": {},
   "outputs": [],
   "source": []
  }
 ],
 "metadata": {
  "kernelspec": {
   "display_name": "Python 3",
   "language": "python",
   "name": "python3"
  },
  "language_info": {
   "codemirror_mode": {
    "name": "ipython",
    "version": 3
   },
   "file_extension": ".py",
   "mimetype": "text/x-python",
   "name": "python",
   "nbconvert_exporter": "python",
   "pygments_lexer": "ipython3",
   "version": "3.8.8"
  }
 },
 "nbformat": 4,
 "nbformat_minor": 4
}
