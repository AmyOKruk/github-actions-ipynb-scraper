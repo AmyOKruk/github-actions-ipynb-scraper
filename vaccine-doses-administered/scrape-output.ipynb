{
 "cells": [
  {
   "cell_type": "markdown",
   "metadata": {},
   "source": [
    "# California COVID vaccinations scrape"
   ]
  },
  {
   "cell_type": "markdown",
   "metadata": {},
   "source": [
    "By [Amy O'Kruk](https://twitter.com/amyokruk)"
   ]
  },
  {
   "cell_type": "markdown",
   "metadata": {},
   "source": [
    "Downloads data on vaccine doses administered by county and statewide from a Tableau-powered dashboard from the California Department of Public Health."
   ]
  },
  {
   "cell_type": "code",
   "execution_count": 1,
   "metadata": {
    "execution": {
     "iopub.execute_input": "2021-03-24T07:27:09.353773Z",
     "iopub.status.busy": "2021-03-24T07:27:09.352960Z",
     "iopub.status.idle": "2021-03-24T07:27:09.858176Z",
     "shell.execute_reply": "2021-03-24T07:27:09.857495Z"
    }
   },
   "outputs": [],
   "source": [
    "import pandas as pd\n",
    "import requests\n",
    "from bs4 import BeautifulSoup\n",
    "import json\n",
    "import re\n",
    "import time\n",
    "from time import gmtime, strftime \n",
    "import os\n",
    "import pytz\n",
    "from datetime import datetime"
   ]
  },
  {
   "cell_type": "markdown",
   "metadata": {},
   "source": [
    "Scrape the dashboard page"
   ]
  },
  {
   "cell_type": "code",
   "execution_count": 2,
   "metadata": {
    "execution": {
     "iopub.execute_input": "2021-03-24T07:27:09.864910Z",
     "iopub.status.busy": "2021-03-24T07:27:09.862580Z",
     "iopub.status.idle": "2021-03-24T07:27:10.199195Z",
     "shell.execute_reply": "2021-03-24T07:27:10.200028Z"
    }
   },
   "outputs": [],
   "source": [
    "url = \"https://public.tableau.com/interactive/views/COVID-19VaccineDashboardPublic/Vaccine?:embed=y&:showVizHome=n&:apiID=host0\"\n",
    "\n",
    "r = requests.get(url)\n",
    "soup = BeautifulSoup(r.text, \"html.parser\")"
   ]
  },
  {
   "cell_type": "code",
   "execution_count": 3,
   "metadata": {
    "execution": {
     "iopub.execute_input": "2021-03-24T07:27:10.203800Z",
     "iopub.status.busy": "2021-03-24T07:27:10.202609Z",
     "iopub.status.idle": "2021-03-24T07:27:10.209028Z",
     "shell.execute_reply": "2021-03-24T07:27:10.209536Z"
    }
   },
   "outputs": [],
   "source": [
    "tableauData = json.loads(soup.find(\"textarea\",{\"id\": \"tsConfigContainer\"}).text)"
   ]
  },
  {
   "cell_type": "markdown",
   "metadata": {},
   "source": [
    "Get the link to the Tableau data"
   ]
  },
  {
   "cell_type": "code",
   "execution_count": 4,
   "metadata": {
    "execution": {
     "iopub.execute_input": "2021-03-24T07:27:10.213754Z",
     "iopub.status.busy": "2021-03-24T07:27:10.213011Z",
     "iopub.status.idle": "2021-03-24T07:27:10.215574Z",
     "shell.execute_reply": "2021-03-24T07:27:10.214976Z"
    }
   },
   "outputs": [],
   "source": [
    "dataUrl = f'https://public.tableau.com{tableauData[\"vizql_root\"]}/bootstrapSession/sessions/{tableauData[\"sessionid\"]}'"
   ]
  },
  {
   "cell_type": "code",
   "execution_count": 5,
   "metadata": {
    "execution": {
     "iopub.execute_input": "2021-03-24T07:27:10.222703Z",
     "iopub.status.busy": "2021-03-24T07:27:10.222101Z",
     "iopub.status.idle": "2021-03-24T07:27:10.404593Z",
     "shell.execute_reply": "2021-03-24T07:27:10.403996Z"
    }
   },
   "outputs": [],
   "source": [
    "r = requests.post(dataUrl, data= {\n",
    "    \"sheet_id\": tableauData[\"sheetId\"],\n",
    "})\n",
    "\n",
    "dataReg = re.search('\\d+;({.*})\\d+;({.*})', r.text, re.MULTILINE)\n",
    "data1 = json.loads(dataReg.group(2))\n",
    "\n",
    "dataJson = data1[\"secondaryInfo\"][\"presModelMap\"][\"dataDictionary\"][\"presModelHolder\"][\"genDataDictionaryPresModel\"][\"dataSegments\"][\"0\"][\"dataColumns\"]"
   ]
  },
  {
   "cell_type": "markdown",
   "metadata": {},
   "source": [
    "Isolate what you want"
   ]
  },
  {
   "cell_type": "code",
   "execution_count": 6,
   "metadata": {
    "execution": {
     "iopub.execute_input": "2021-03-24T07:27:10.408928Z",
     "iopub.status.busy": "2021-03-24T07:27:10.408253Z",
     "iopub.status.idle": "2021-03-24T07:27:10.412550Z",
     "shell.execute_reply": "2021-03-24T07:27:10.411644Z"
    }
   },
   "outputs": [],
   "source": [
    "counties = dataJson[2]['dataValues'][:58]"
   ]
  },
  {
   "cell_type": "code",
   "execution_count": 7,
   "metadata": {
    "execution": {
     "iopub.execute_input": "2021-03-24T07:27:10.415322Z",
     "iopub.status.busy": "2021-03-24T07:27:10.414712Z",
     "iopub.status.idle": "2021-03-24T07:27:10.418677Z",
     "shell.execute_reply": "2021-03-24T07:27:10.419304Z"
    }
   },
   "outputs": [],
   "source": [
    "doses = dataJson[0]['dataValues'][3:61]"
   ]
  },
  {
   "cell_type": "markdown",
   "metadata": {},
   "source": [
    "Data formatting"
   ]
  },
  {
   "cell_type": "code",
   "execution_count": 8,
   "metadata": {
    "execution": {
     "iopub.execute_input": "2021-03-24T07:27:10.424281Z",
     "iopub.status.busy": "2021-03-24T07:27:10.423026Z",
     "iopub.status.idle": "2021-03-24T07:27:10.425166Z",
     "shell.execute_reply": "2021-03-24T07:27:10.425663Z"
    }
   },
   "outputs": [],
   "source": [
    "zipped = dict(zip(counties, doses))"
   ]
  },
  {
   "cell_type": "code",
   "execution_count": 9,
   "metadata": {
    "execution": {
     "iopub.execute_input": "2021-03-24T07:27:10.434072Z",
     "iopub.status.busy": "2021-03-24T07:27:10.432152Z",
     "iopub.status.idle": "2021-03-24T07:27:10.435081Z",
     "shell.execute_reply": "2021-03-24T07:27:10.435989Z"
    }
   },
   "outputs": [],
   "source": [
    "df = pd.Series(zipped).reset_index()"
   ]
  },
  {
   "cell_type": "code",
   "execution_count": 10,
   "metadata": {
    "execution": {
     "iopub.execute_input": "2021-03-24T07:27:10.441304Z",
     "iopub.status.busy": "2021-03-24T07:27:10.439934Z",
     "iopub.status.idle": "2021-03-24T07:27:10.442003Z",
     "shell.execute_reply": "2021-03-24T07:27:10.442500Z"
    }
   },
   "outputs": [],
   "source": [
    "df.columns = ['location','doses']"
   ]
  },
  {
   "cell_type": "markdown",
   "metadata": {},
   "source": [
    "Grab the overall California total"
   ]
  },
  {
   "cell_type": "code",
   "execution_count": 11,
   "metadata": {
    "execution": {
     "iopub.execute_input": "2021-03-24T07:27:10.447665Z",
     "iopub.status.busy": "2021-03-24T07:27:10.446257Z",
     "iopub.status.idle": "2021-03-24T07:27:10.448416Z",
     "shell.execute_reply": "2021-03-24T07:27:10.448909Z"
    }
   },
   "outputs": [],
   "source": [
    "add = {'location':'California','doses':dataJson[0]['dataValues'][2]}"
   ]
  },
  {
   "cell_type": "code",
   "execution_count": 12,
   "metadata": {
    "execution": {
     "iopub.execute_input": "2021-03-24T07:27:10.457775Z",
     "iopub.status.busy": "2021-03-24T07:27:10.456372Z",
     "iopub.status.idle": "2021-03-24T07:27:10.458554Z",
     "shell.execute_reply": "2021-03-24T07:27:10.459052Z"
    }
   },
   "outputs": [],
   "source": [
    "df = df.append(add, ignore_index=True)"
   ]
  },
  {
   "cell_type": "code",
   "execution_count": 13,
   "metadata": {
    "execution": {
     "iopub.execute_input": "2021-03-24T07:27:10.464650Z",
     "iopub.status.busy": "2021-03-24T07:27:10.463585Z",
     "iopub.status.idle": "2021-03-24T07:27:10.465600Z",
     "shell.execute_reply": "2021-03-24T07:27:10.466184Z"
    }
   },
   "outputs": [],
   "source": [
    "df = df.sort_values(by='location')"
   ]
  },
  {
   "cell_type": "code",
   "execution_count": 14,
   "metadata": {
    "execution": {
     "iopub.execute_input": "2021-03-24T07:27:10.474489Z",
     "iopub.status.busy": "2021-03-24T07:27:10.473046Z",
     "iopub.status.idle": "2021-03-24T07:27:10.475152Z",
     "shell.execute_reply": "2021-03-24T07:27:10.475646Z"
    }
   },
   "outputs": [],
   "source": [
    "df = df[df.location == 'California'].append(df[df.location != 'California']).reset_index(drop=True)"
   ]
  },
  {
   "cell_type": "code",
   "execution_count": null,
   "metadata": {},
   "outputs": [],
   "source": []
  },
  {
   "cell_type": "code",
   "execution_count": 15,
   "metadata": {
    "execution": {
     "iopub.execute_input": "2021-03-24T07:27:10.479721Z",
     "iopub.status.busy": "2021-03-24T07:27:10.479138Z",
     "iopub.status.idle": "2021-03-24T07:27:10.499916Z",
     "shell.execute_reply": "2021-03-24T07:27:10.500401Z"
    }
   },
   "outputs": [],
   "source": [
    "tz = pytz.timezone(\"America/New_York\")"
   ]
  },
  {
   "cell_type": "code",
   "execution_count": 16,
   "metadata": {
    "execution": {
     "iopub.execute_input": "2021-03-24T07:27:10.505649Z",
     "iopub.status.busy": "2021-03-24T07:27:10.504165Z",
     "iopub.status.idle": "2021-03-24T07:27:10.506342Z",
     "shell.execute_reply": "2021-03-24T07:27:10.506845Z"
    }
   },
   "outputs": [],
   "source": [
    "today = datetime.now(tz).date()"
   ]
  },
  {
   "cell_type": "code",
   "execution_count": 17,
   "metadata": {
    "execution": {
     "iopub.execute_input": "2021-03-24T07:27:10.512056Z",
     "iopub.status.busy": "2021-03-24T07:27:10.510572Z",
     "iopub.status.idle": "2021-03-24T07:27:10.512854Z",
     "shell.execute_reply": "2021-03-24T07:27:10.513364Z"
    }
   },
   "outputs": [],
   "source": [
    "data_dir = os.path.join(os.path.abspath(\"\"), \"data\")"
   ]
  },
  {
   "cell_type": "code",
   "execution_count": 18,
   "metadata": {
    "execution": {
     "iopub.execute_input": "2021-03-24T07:27:10.518681Z",
     "iopub.status.busy": "2021-03-24T07:27:10.517293Z",
     "iopub.status.idle": "2021-03-24T07:27:10.522118Z",
     "shell.execute_reply": "2021-03-24T07:27:10.522586Z"
    }
   },
   "outputs": [],
   "source": [
    "df.to_csv(os.path.join(data_dir, f\"{today}.csv\"), index=False)"
   ]
  },
  {
   "cell_type": "code",
   "execution_count": null,
   "metadata": {},
   "outputs": [],
   "source": []
  }
 ],
 "metadata": {
  "kernelspec": {
   "display_name": "Python 3",
   "language": "python",
   "name": "python3"
  },
  "language_info": {
   "codemirror_mode": {
    "name": "ipython",
    "version": 3
   },
   "file_extension": ".py",
   "mimetype": "text/x-python",
   "name": "python",
   "nbconvert_exporter": "python",
   "pygments_lexer": "ipython3",
   "version": "3.8.8"
  }
 },
 "nbformat": 4,
 "nbformat_minor": 4
}
