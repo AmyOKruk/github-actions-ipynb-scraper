{
 "cells": [
  {
   "cell_type": "markdown",
   "metadata": {},
   "source": [
    "# California COVID vaccinations scrape"
   ]
  },
  {
   "cell_type": "markdown",
   "metadata": {},
   "source": [
    "By [Amy O'Kruk](https://twitter.com/amyokruk)"
   ]
  },
  {
   "cell_type": "markdown",
   "metadata": {},
   "source": [
    "Downloads data on vaccine doses administered by county and statewide from a Tableau-powered dashboard from the California Department of Public Health."
   ]
  },
  {
   "cell_type": "code",
   "execution_count": 1,
   "metadata": {
    "execution": {
     "iopub.execute_input": "2021-03-20T12:16:57.054835Z",
     "iopub.status.busy": "2021-03-20T12:16:57.054252Z",
     "iopub.status.idle": "2021-03-20T12:16:57.487401Z",
     "shell.execute_reply": "2021-03-20T12:16:57.486824Z"
    }
   },
   "outputs": [],
   "source": [
    "import pandas as pd\n",
    "import requests\n",
    "from bs4 import BeautifulSoup\n",
    "import json\n",
    "import re\n",
    "import time\n",
    "from time import gmtime, strftime \n",
    "import os\n",
    "import pytz\n",
    "from datetime import datetime"
   ]
  },
  {
   "cell_type": "markdown",
   "metadata": {},
   "source": [
    "Scrape the dashboard page"
   ]
  },
  {
   "cell_type": "code",
   "execution_count": 2,
   "metadata": {
    "execution": {
     "iopub.execute_input": "2021-03-20T12:16:57.493061Z",
     "iopub.status.busy": "2021-03-20T12:16:57.490844Z",
     "iopub.status.idle": "2021-03-20T12:16:57.897829Z",
     "shell.execute_reply": "2021-03-20T12:16:57.896775Z"
    }
   },
   "outputs": [],
   "source": [
    "url = \"https://public.tableau.com/interactive/views/COVID-19VaccineDashboardPublic/Vaccine?:embed=y&:showVizHome=n&:apiID=host0\"\n",
    "\n",
    "r = requests.get(url)\n",
    "soup = BeautifulSoup(r.text, \"html.parser\")"
   ]
  },
  {
   "cell_type": "code",
   "execution_count": 3,
   "metadata": {
    "execution": {
     "iopub.execute_input": "2021-03-20T12:16:57.902728Z",
     "iopub.status.busy": "2021-03-20T12:16:57.902209Z",
     "iopub.status.idle": "2021-03-20T12:16:57.906887Z",
     "shell.execute_reply": "2021-03-20T12:16:57.906415Z"
    }
   },
   "outputs": [],
   "source": [
    "tableauData = json.loads(soup.find(\"textarea\",{\"id\": \"tsConfigContainer\"}).text)"
   ]
  },
  {
   "cell_type": "markdown",
   "metadata": {},
   "source": [
    "Get the link to the Tableau data"
   ]
  },
  {
   "cell_type": "code",
   "execution_count": 4,
   "metadata": {
    "execution": {
     "iopub.execute_input": "2021-03-20T12:16:57.910608Z",
     "iopub.status.busy": "2021-03-20T12:16:57.910094Z",
     "iopub.status.idle": "2021-03-20T12:16:57.913604Z",
     "shell.execute_reply": "2021-03-20T12:16:57.913135Z"
    }
   },
   "outputs": [],
   "source": [
    "dataUrl = f'https://public.tableau.com{tableauData[\"vizql_root\"]}/bootstrapSession/sessions/{tableauData[\"sessionid\"]}'"
   ]
  },
  {
   "cell_type": "code",
   "execution_count": 5,
   "metadata": {
    "execution": {
     "iopub.execute_input": "2021-03-20T12:16:57.920367Z",
     "iopub.status.busy": "2021-03-20T12:16:57.919828Z",
     "iopub.status.idle": "2021-03-20T12:16:58.093759Z",
     "shell.execute_reply": "2021-03-20T12:16:58.093275Z"
    }
   },
   "outputs": [],
   "source": [
    "r = requests.post(dataUrl, data= {\n",
    "    \"sheet_id\": tableauData[\"sheetId\"],\n",
    "})\n",
    "\n",
    "dataReg = re.search('\\d+;({.*})\\d+;({.*})', r.text, re.MULTILINE)\n",
    "data1 = json.loads(dataReg.group(2))\n",
    "\n",
    "dataJson = data1[\"secondaryInfo\"][\"presModelMap\"][\"dataDictionary\"][\"presModelHolder\"][\"genDataDictionaryPresModel\"][\"dataSegments\"][\"0\"][\"dataColumns\"]"
   ]
  },
  {
   "cell_type": "markdown",
   "metadata": {},
   "source": [
    "Isolate what you want"
   ]
  },
  {
   "cell_type": "code",
   "execution_count": 6,
   "metadata": {
    "execution": {
     "iopub.execute_input": "2021-03-20T12:16:58.097555Z",
     "iopub.status.busy": "2021-03-20T12:16:58.097046Z",
     "iopub.status.idle": "2021-03-20T12:16:58.100002Z",
     "shell.execute_reply": "2021-03-20T12:16:58.100402Z"
    }
   },
   "outputs": [],
   "source": [
    "counties = dataJson[2]['dataValues'][:58]"
   ]
  },
  {
   "cell_type": "code",
   "execution_count": 7,
   "metadata": {
    "execution": {
     "iopub.execute_input": "2021-03-20T12:16:58.104237Z",
     "iopub.status.busy": "2021-03-20T12:16:58.103729Z",
     "iopub.status.idle": "2021-03-20T12:16:58.107100Z",
     "shell.execute_reply": "2021-03-20T12:16:58.106587Z"
    }
   },
   "outputs": [],
   "source": [
    "doses = dataJson[0]['dataValues'][3:61]"
   ]
  },
  {
   "cell_type": "markdown",
   "metadata": {},
   "source": [
    "Data formatting"
   ]
  },
  {
   "cell_type": "code",
   "execution_count": 8,
   "metadata": {
    "execution": {
     "iopub.execute_input": "2021-03-20T12:16:58.112319Z",
     "iopub.status.busy": "2021-03-20T12:16:58.111810Z",
     "iopub.status.idle": "2021-03-20T12:16:58.115674Z",
     "shell.execute_reply": "2021-03-20T12:16:58.116112Z"
    }
   },
   "outputs": [],
   "source": [
    "zipped = dict(zip(counties, doses))"
   ]
  },
  {
   "cell_type": "code",
   "execution_count": 9,
   "metadata": {
    "execution": {
     "iopub.execute_input": "2021-03-20T12:16:58.121688Z",
     "iopub.status.busy": "2021-03-20T12:16:58.121204Z",
     "iopub.status.idle": "2021-03-20T12:16:58.125782Z",
     "shell.execute_reply": "2021-03-20T12:16:58.125358Z"
    }
   },
   "outputs": [],
   "source": [
    "df = pd.Series(zipped).reset_index()"
   ]
  },
  {
   "cell_type": "code",
   "execution_count": 10,
   "metadata": {
    "execution": {
     "iopub.execute_input": "2021-03-20T12:16:58.129271Z",
     "iopub.status.busy": "2021-03-20T12:16:58.128775Z",
     "iopub.status.idle": "2021-03-20T12:16:58.131749Z",
     "shell.execute_reply": "2021-03-20T12:16:58.132311Z"
    }
   },
   "outputs": [],
   "source": [
    "df.columns = ['location','doses']"
   ]
  },
  {
   "cell_type": "markdown",
   "metadata": {},
   "source": [
    "Grab the overall California total"
   ]
  },
  {
   "cell_type": "code",
   "execution_count": 11,
   "metadata": {
    "execution": {
     "iopub.execute_input": "2021-03-20T12:16:58.135956Z",
     "iopub.status.busy": "2021-03-20T12:16:58.135430Z",
     "iopub.status.idle": "2021-03-20T12:16:58.139276Z",
     "shell.execute_reply": "2021-03-20T12:16:58.139680Z"
    }
   },
   "outputs": [],
   "source": [
    "add = {'location':'California','doses':dataJson[0]['dataValues'][2]}"
   ]
  },
  {
   "cell_type": "code",
   "execution_count": 12,
   "metadata": {
    "execution": {
     "iopub.execute_input": "2021-03-20T12:16:58.146009Z",
     "iopub.status.busy": "2021-03-20T12:16:58.145513Z",
     "iopub.status.idle": "2021-03-20T12:16:58.148698Z",
     "shell.execute_reply": "2021-03-20T12:16:58.148300Z"
    }
   },
   "outputs": [],
   "source": [
    "df = df.append(add, ignore_index=True)"
   ]
  },
  {
   "cell_type": "code",
   "execution_count": 13,
   "metadata": {
    "execution": {
     "iopub.execute_input": "2021-03-20T12:16:58.152801Z",
     "iopub.status.busy": "2021-03-20T12:16:58.152278Z",
     "iopub.status.idle": "2021-03-20T12:16:58.156000Z",
     "shell.execute_reply": "2021-03-20T12:16:58.155365Z"
    }
   },
   "outputs": [],
   "source": [
    "df = df.sort_values(by='location')"
   ]
  },
  {
   "cell_type": "code",
   "execution_count": 14,
   "metadata": {
    "execution": {
     "iopub.execute_input": "2021-03-20T12:16:58.161493Z",
     "iopub.status.busy": "2021-03-20T12:16:58.160951Z",
     "iopub.status.idle": "2021-03-20T12:16:58.164330Z",
     "shell.execute_reply": "2021-03-20T12:16:58.163876Z"
    }
   },
   "outputs": [],
   "source": [
    "df = df[df.location == 'California'].append(df[df.location != 'California']).reset_index(drop=True)"
   ]
  },
  {
   "cell_type": "code",
   "execution_count": null,
   "metadata": {},
   "outputs": [],
   "source": []
  },
  {
   "cell_type": "code",
   "execution_count": 15,
   "metadata": {
    "execution": {
     "iopub.execute_input": "2021-03-20T12:16:58.167976Z",
     "iopub.status.busy": "2021-03-20T12:16:58.167216Z",
     "iopub.status.idle": "2021-03-20T12:16:58.186645Z",
     "shell.execute_reply": "2021-03-20T12:16:58.186191Z"
    }
   },
   "outputs": [],
   "source": [
    "tz = pytz.timezone(\"America/New_York\")"
   ]
  },
  {
   "cell_type": "code",
   "execution_count": 16,
   "metadata": {
    "execution": {
     "iopub.execute_input": "2021-03-20T12:16:58.190611Z",
     "iopub.status.busy": "2021-03-20T12:16:58.190108Z",
     "iopub.status.idle": "2021-03-20T12:16:58.193759Z",
     "shell.execute_reply": "2021-03-20T12:16:58.193028Z"
    }
   },
   "outputs": [],
   "source": [
    "today = datetime.now(tz).date()"
   ]
  },
  {
   "cell_type": "code",
   "execution_count": 17,
   "metadata": {
    "execution": {
     "iopub.execute_input": "2021-03-20T12:16:58.196926Z",
     "iopub.status.busy": "2021-03-20T12:16:58.196439Z",
     "iopub.status.idle": "2021-03-20T12:16:58.199566Z",
     "shell.execute_reply": "2021-03-20T12:16:58.199994Z"
    }
   },
   "outputs": [],
   "source": [
    "data_dir = os.path.join(os.path.abspath(\"\"), \"data\")"
   ]
  },
  {
   "cell_type": "code",
   "execution_count": 18,
   "metadata": {
    "execution": {
     "iopub.execute_input": "2021-03-20T12:16:58.203806Z",
     "iopub.status.busy": "2021-03-20T12:16:58.203295Z",
     "iopub.status.idle": "2021-03-20T12:16:58.207390Z",
     "shell.execute_reply": "2021-03-20T12:16:58.207025Z"
    }
   },
   "outputs": [],
   "source": [
    "df.to_csv(os.path.join(data_dir, f\"{today}.csv\"), index=False)"
   ]
  },
  {
   "cell_type": "code",
   "execution_count": null,
   "metadata": {},
   "outputs": [],
   "source": []
  }
 ],
 "metadata": {
  "kernelspec": {
   "display_name": "Python 3",
   "language": "python",
   "name": "python3"
  },
  "language_info": {
   "codemirror_mode": {
    "name": "ipython",
    "version": 3
   },
   "file_extension": ".py",
   "mimetype": "text/x-python",
   "name": "python",
   "nbconvert_exporter": "python",
   "pygments_lexer": "ipython3",
   "version": "3.8.8"
  }
 },
 "nbformat": 4,
 "nbformat_minor": 4
}
