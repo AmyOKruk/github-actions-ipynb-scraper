{
 "cells": [
  {
   "cell_type": "markdown",
   "metadata": {},
   "source": [
    "# California COVID vaccinations scrape"
   ]
  },
  {
   "cell_type": "markdown",
   "metadata": {},
   "source": [
    "By [Amy O'Kruk](https://twitter.com/amyokruk)"
   ]
  },
  {
   "cell_type": "markdown",
   "metadata": {},
   "source": [
    "Downloads data on vaccine doses administered by county and statewide from a Tableau-powered dashboard from the California Department of Public Health."
   ]
  },
  {
   "cell_type": "code",
   "execution_count": 1,
   "metadata": {
    "execution": {
     "iopub.execute_input": "2021-03-23T15:44:10.942995Z",
     "iopub.status.busy": "2021-03-23T15:44:10.941978Z",
     "iopub.status.idle": "2021-03-23T15:44:11.305597Z",
     "shell.execute_reply": "2021-03-23T15:44:11.304659Z"
    }
   },
   "outputs": [],
   "source": [
    "import pandas as pd\n",
    "import requests\n",
    "from bs4 import BeautifulSoup\n",
    "import json\n",
    "import re\n",
    "import time\n",
    "from time import gmtime, strftime \n",
    "import os\n",
    "import pytz\n",
    "from datetime import datetime"
   ]
  },
  {
   "cell_type": "markdown",
   "metadata": {},
   "source": [
    "Scrape the dashboard page"
   ]
  },
  {
   "cell_type": "code",
   "execution_count": 2,
   "metadata": {
    "execution": {
     "iopub.execute_input": "2021-03-23T15:44:11.312370Z",
     "iopub.status.busy": "2021-03-23T15:44:11.311819Z",
     "iopub.status.idle": "2021-03-23T15:44:11.778500Z",
     "shell.execute_reply": "2021-03-23T15:44:11.777985Z"
    }
   },
   "outputs": [],
   "source": [
    "url = \"https://public.tableau.com/interactive/views/COVID-19VaccineDashboardPublic/Vaccine?:embed=y&:showVizHome=n&:apiID=host0\"\n",
    "\n",
    "r = requests.get(url)\n",
    "soup = BeautifulSoup(r.text, \"html.parser\")"
   ]
  },
  {
   "cell_type": "code",
   "execution_count": 3,
   "metadata": {
    "execution": {
     "iopub.execute_input": "2021-03-23T15:44:11.784656Z",
     "iopub.status.busy": "2021-03-23T15:44:11.783495Z",
     "iopub.status.idle": "2021-03-23T15:44:11.785256Z",
     "shell.execute_reply": "2021-03-23T15:44:11.785688Z"
    }
   },
   "outputs": [],
   "source": [
    "tableauData = json.loads(soup.find(\"textarea\",{\"id\": \"tsConfigContainer\"}).text)"
   ]
  },
  {
   "cell_type": "markdown",
   "metadata": {},
   "source": [
    "Get the link to the Tableau data"
   ]
  },
  {
   "cell_type": "code",
   "execution_count": 4,
   "metadata": {
    "execution": {
     "iopub.execute_input": "2021-03-23T15:44:11.790718Z",
     "iopub.status.busy": "2021-03-23T15:44:11.789194Z",
     "iopub.status.idle": "2021-03-23T15:44:11.791512Z",
     "shell.execute_reply": "2021-03-23T15:44:11.793124Z"
    }
   },
   "outputs": [],
   "source": [
    "dataUrl = f'https://public.tableau.com{tableauData[\"vizql_root\"]}/bootstrapSession/sessions/{tableauData[\"sessionid\"]}'"
   ]
  },
  {
   "cell_type": "code",
   "execution_count": 5,
   "metadata": {
    "execution": {
     "iopub.execute_input": "2021-03-23T15:44:11.799818Z",
     "iopub.status.busy": "2021-03-23T15:44:11.799173Z",
     "iopub.status.idle": "2021-03-23T15:44:12.070017Z",
     "shell.execute_reply": "2021-03-23T15:44:12.068910Z"
    }
   },
   "outputs": [],
   "source": [
    "r = requests.post(dataUrl, data= {\n",
    "    \"sheet_id\": tableauData[\"sheetId\"],\n",
    "})\n",
    "\n",
    "dataReg = re.search('\\d+;({.*})\\d+;({.*})', r.text, re.MULTILINE)\n",
    "data1 = json.loads(dataReg.group(2))\n",
    "\n",
    "dataJson = data1[\"secondaryInfo\"][\"presModelMap\"][\"dataDictionary\"][\"presModelHolder\"][\"genDataDictionaryPresModel\"][\"dataSegments\"][\"0\"][\"dataColumns\"]"
   ]
  },
  {
   "cell_type": "markdown",
   "metadata": {},
   "source": [
    "Isolate what you want"
   ]
  },
  {
   "cell_type": "code",
   "execution_count": 6,
   "metadata": {
    "execution": {
     "iopub.execute_input": "2021-03-23T15:44:12.075092Z",
     "iopub.status.busy": "2021-03-23T15:44:12.074158Z",
     "iopub.status.idle": "2021-03-23T15:44:12.078599Z",
     "shell.execute_reply": "2021-03-23T15:44:12.078190Z"
    }
   },
   "outputs": [],
   "source": [
    "counties = dataJson[2]['dataValues'][:58]"
   ]
  },
  {
   "cell_type": "code",
   "execution_count": 7,
   "metadata": {
    "execution": {
     "iopub.execute_input": "2021-03-23T15:44:12.082745Z",
     "iopub.status.busy": "2021-03-23T15:44:12.082252Z",
     "iopub.status.idle": "2021-03-23T15:44:12.085250Z",
     "shell.execute_reply": "2021-03-23T15:44:12.085608Z"
    }
   },
   "outputs": [],
   "source": [
    "doses = dataJson[0]['dataValues'][3:61]"
   ]
  },
  {
   "cell_type": "markdown",
   "metadata": {},
   "source": [
    "Data formatting"
   ]
  },
  {
   "cell_type": "code",
   "execution_count": 8,
   "metadata": {
    "execution": {
     "iopub.execute_input": "2021-03-23T15:44:12.089676Z",
     "iopub.status.busy": "2021-03-23T15:44:12.089164Z",
     "iopub.status.idle": "2021-03-23T15:44:12.092438Z",
     "shell.execute_reply": "2021-03-23T15:44:12.092990Z"
    }
   },
   "outputs": [],
   "source": [
    "zipped = dict(zip(counties, doses))"
   ]
  },
  {
   "cell_type": "code",
   "execution_count": 9,
   "metadata": {
    "execution": {
     "iopub.execute_input": "2021-03-23T15:44:12.099919Z",
     "iopub.status.busy": "2021-03-23T15:44:12.099332Z",
     "iopub.status.idle": "2021-03-23T15:44:12.102520Z",
     "shell.execute_reply": "2021-03-23T15:44:12.103795Z"
    }
   },
   "outputs": [],
   "source": [
    "df = pd.Series(zipped).reset_index()"
   ]
  },
  {
   "cell_type": "code",
   "execution_count": 10,
   "metadata": {
    "execution": {
     "iopub.execute_input": "2021-03-23T15:44:12.107642Z",
     "iopub.status.busy": "2021-03-23T15:44:12.107076Z",
     "iopub.status.idle": "2021-03-23T15:44:12.111510Z",
     "shell.execute_reply": "2021-03-23T15:44:12.110808Z"
    }
   },
   "outputs": [],
   "source": [
    "df.columns = ['location','doses']"
   ]
  },
  {
   "cell_type": "markdown",
   "metadata": {},
   "source": [
    "Grab the overall California total"
   ]
  },
  {
   "cell_type": "code",
   "execution_count": 11,
   "metadata": {
    "execution": {
     "iopub.execute_input": "2021-03-23T15:44:12.115601Z",
     "iopub.status.busy": "2021-03-23T15:44:12.114980Z",
     "iopub.status.idle": "2021-03-23T15:44:12.118951Z",
     "shell.execute_reply": "2021-03-23T15:44:12.118479Z"
    }
   },
   "outputs": [],
   "source": [
    "add = {'location':'California','doses':dataJson[0]['dataValues'][2]}"
   ]
  },
  {
   "cell_type": "code",
   "execution_count": 12,
   "metadata": {
    "execution": {
     "iopub.execute_input": "2021-03-23T15:44:12.125939Z",
     "iopub.status.busy": "2021-03-23T15:44:12.125421Z",
     "iopub.status.idle": "2021-03-23T15:44:12.129192Z",
     "shell.execute_reply": "2021-03-23T15:44:12.129622Z"
    }
   },
   "outputs": [],
   "source": [
    "df = df.append(add, ignore_index=True)"
   ]
  },
  {
   "cell_type": "code",
   "execution_count": 13,
   "metadata": {
    "execution": {
     "iopub.execute_input": "2021-03-23T15:44:12.134093Z",
     "iopub.status.busy": "2021-03-23T15:44:12.133364Z",
     "iopub.status.idle": "2021-03-23T15:44:12.136761Z",
     "shell.execute_reply": "2021-03-23T15:44:12.137194Z"
    }
   },
   "outputs": [],
   "source": [
    "df = df.sort_values(by='location')"
   ]
  },
  {
   "cell_type": "code",
   "execution_count": 14,
   "metadata": {
    "execution": {
     "iopub.execute_input": "2021-03-23T15:44:12.143546Z",
     "iopub.status.busy": "2021-03-23T15:44:12.142898Z",
     "iopub.status.idle": "2021-03-23T15:44:12.147957Z",
     "shell.execute_reply": "2021-03-23T15:44:12.148850Z"
    }
   },
   "outputs": [],
   "source": [
    "df = df[df.location == 'California'].append(df[df.location != 'California']).reset_index(drop=True)"
   ]
  },
  {
   "cell_type": "code",
   "execution_count": null,
   "metadata": {},
   "outputs": [],
   "source": []
  },
  {
   "cell_type": "code",
   "execution_count": 15,
   "metadata": {
    "execution": {
     "iopub.execute_input": "2021-03-23T15:44:12.155306Z",
     "iopub.status.busy": "2021-03-23T15:44:12.154551Z",
     "iopub.status.idle": "2021-03-23T15:44:12.169448Z",
     "shell.execute_reply": "2021-03-23T15:44:12.168637Z"
    }
   },
   "outputs": [],
   "source": [
    "tz = pytz.timezone(\"America/New_York\")"
   ]
  },
  {
   "cell_type": "code",
   "execution_count": 16,
   "metadata": {
    "execution": {
     "iopub.execute_input": "2021-03-23T15:44:12.172769Z",
     "iopub.status.busy": "2021-03-23T15:44:12.172297Z",
     "iopub.status.idle": "2021-03-23T15:44:12.177354Z",
     "shell.execute_reply": "2021-03-23T15:44:12.176223Z"
    }
   },
   "outputs": [],
   "source": [
    "today = datetime.now(tz).date()"
   ]
  },
  {
   "cell_type": "code",
   "execution_count": 17,
   "metadata": {
    "execution": {
     "iopub.execute_input": "2021-03-23T15:44:12.180875Z",
     "iopub.status.busy": "2021-03-23T15:44:12.180258Z",
     "iopub.status.idle": "2021-03-23T15:44:12.183754Z",
     "shell.execute_reply": "2021-03-23T15:44:12.184192Z"
    }
   },
   "outputs": [],
   "source": [
    "data_dir = os.path.join(os.path.abspath(\"\"), \"data\")"
   ]
  },
  {
   "cell_type": "code",
   "execution_count": 18,
   "metadata": {
    "execution": {
     "iopub.execute_input": "2021-03-23T15:44:12.189615Z",
     "iopub.status.busy": "2021-03-23T15:44:12.187870Z",
     "iopub.status.idle": "2021-03-23T15:44:12.193687Z",
     "shell.execute_reply": "2021-03-23T15:44:12.193282Z"
    }
   },
   "outputs": [],
   "source": [
    "df.to_csv(os.path.join(data_dir, f\"{today}.csv\"), index=False)"
   ]
  },
  {
   "cell_type": "code",
   "execution_count": null,
   "metadata": {},
   "outputs": [],
   "source": []
  }
 ],
 "metadata": {
  "kernelspec": {
   "display_name": "Python 3",
   "language": "python",
   "name": "python3"
  },
  "language_info": {
   "codemirror_mode": {
    "name": "ipython",
    "version": 3
   },
   "file_extension": ".py",
   "mimetype": "text/x-python",
   "name": "python",
   "nbconvert_exporter": "python",
   "pygments_lexer": "ipython3",
   "version": "3.8.8"
  }
 },
 "nbformat": 4,
 "nbformat_minor": 4
}
