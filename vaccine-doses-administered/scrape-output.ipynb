{
 "cells": [
  {
   "cell_type": "markdown",
   "metadata": {},
   "source": [
    "# California COVID vaccinations scrape"
   ]
  },
  {
   "cell_type": "markdown",
   "metadata": {},
   "source": [
    "By [Amy O'Kruk](https://twitter.com/amyokruk)"
   ]
  },
  {
   "cell_type": "markdown",
   "metadata": {},
   "source": [
    "Downloads data on vaccine doses administered by county and statewide from a Tableau-powered dashboard from the California Department of Public Health."
   ]
  },
  {
   "cell_type": "code",
   "execution_count": 1,
   "metadata": {
    "execution": {
     "iopub.execute_input": "2021-03-12T09:43:44.894439Z",
     "iopub.status.busy": "2021-03-12T09:43:44.893902Z",
     "iopub.status.idle": "2021-03-12T09:43:45.232478Z",
     "shell.execute_reply": "2021-03-12T09:43:45.231939Z"
    }
   },
   "outputs": [],
   "source": [
    "import pandas as pd\n",
    "import requests\n",
    "from bs4 import BeautifulSoup\n",
    "import json\n",
    "import re\n",
    "import time\n",
    "from time import gmtime, strftime \n",
    "import os\n",
    "import pytz\n",
    "from datetime import datetime"
   ]
  },
  {
   "cell_type": "markdown",
   "metadata": {},
   "source": [
    "Scrape the dashboard page"
   ]
  },
  {
   "cell_type": "code",
   "execution_count": 2,
   "metadata": {
    "execution": {
     "iopub.execute_input": "2021-03-12T09:43:45.235908Z",
     "iopub.status.busy": "2021-03-12T09:43:45.235427Z",
     "iopub.status.idle": "2021-03-12T09:43:45.836524Z",
     "shell.execute_reply": "2021-03-12T09:43:45.835750Z"
    }
   },
   "outputs": [],
   "source": [
    "url = \"https://public.tableau.com/interactive/views/COVID-19VaccineDashboardPublic/Vaccine?:embed=y&:showVizHome=n&:apiID=host0\"\n",
    "\n",
    "r = requests.get(url)\n",
    "soup = BeautifulSoup(r.text, \"html.parser\")"
   ]
  },
  {
   "cell_type": "code",
   "execution_count": 3,
   "metadata": {
    "execution": {
     "iopub.execute_input": "2021-03-12T09:43:45.840723Z",
     "iopub.status.busy": "2021-03-12T09:43:45.840246Z",
     "iopub.status.idle": "2021-03-12T09:43:45.843463Z",
     "shell.execute_reply": "2021-03-12T09:43:45.843838Z"
    }
   },
   "outputs": [],
   "source": [
    "tableauData = json.loads(soup.find(\"textarea\",{\"id\": \"tsConfigContainer\"}).text)"
   ]
  },
  {
   "cell_type": "markdown",
   "metadata": {},
   "source": [
    "Get the link to the Tableau data"
   ]
  },
  {
   "cell_type": "code",
   "execution_count": 4,
   "metadata": {
    "execution": {
     "iopub.execute_input": "2021-03-12T09:43:45.847119Z",
     "iopub.status.busy": "2021-03-12T09:43:45.846636Z",
     "iopub.status.idle": "2021-03-12T09:43:45.850004Z",
     "shell.execute_reply": "2021-03-12T09:43:45.849587Z"
    }
   },
   "outputs": [],
   "source": [
    "dataUrl = f'https://public.tableau.com{tableauData[\"vizql_root\"]}/bootstrapSession/sessions/{tableauData[\"sessionid\"]}'"
   ]
  },
  {
   "cell_type": "code",
   "execution_count": 5,
   "metadata": {
    "execution": {
     "iopub.execute_input": "2021-03-12T09:43:45.856594Z",
     "iopub.status.busy": "2021-03-12T09:43:45.855673Z",
     "iopub.status.idle": "2021-03-12T09:43:46.058940Z",
     "shell.execute_reply": "2021-03-12T09:43:46.059475Z"
    }
   },
   "outputs": [],
   "source": [
    "r = requests.post(dataUrl, data= {\n",
    "    \"sheet_id\": tableauData[\"sheetId\"],\n",
    "})\n",
    "\n",
    "dataReg = re.search('\\d+;({.*})\\d+;({.*})', r.text, re.MULTILINE)\n",
    "data1 = json.loads(dataReg.group(2))\n",
    "\n",
    "dataJson = data1[\"secondaryInfo\"][\"presModelMap\"][\"dataDictionary\"][\"presModelHolder\"][\"genDataDictionaryPresModel\"][\"dataSegments\"][\"0\"][\"dataColumns\"]"
   ]
  },
  {
   "cell_type": "markdown",
   "metadata": {},
   "source": [
    "Isolate what you want"
   ]
  },
  {
   "cell_type": "code",
   "execution_count": 6,
   "metadata": {
    "execution": {
     "iopub.execute_input": "2021-03-12T09:43:46.062737Z",
     "iopub.status.busy": "2021-03-12T09:43:46.062264Z",
     "iopub.status.idle": "2021-03-12T09:43:46.064771Z",
     "shell.execute_reply": "2021-03-12T09:43:46.064034Z"
    }
   },
   "outputs": [],
   "source": [
    "counties = dataJson[2]['dataValues'][:58]"
   ]
  },
  {
   "cell_type": "code",
   "execution_count": 7,
   "metadata": {
    "execution": {
     "iopub.execute_input": "2021-03-12T09:43:46.067800Z",
     "iopub.status.busy": "2021-03-12T09:43:46.067289Z",
     "iopub.status.idle": "2021-03-12T09:43:46.069116Z",
     "shell.execute_reply": "2021-03-12T09:43:46.069491Z"
    }
   },
   "outputs": [],
   "source": [
    "doses = dataJson[0]['dataValues'][3:61]"
   ]
  },
  {
   "cell_type": "markdown",
   "metadata": {},
   "source": [
    "Data formatting"
   ]
  },
  {
   "cell_type": "code",
   "execution_count": 8,
   "metadata": {
    "execution": {
     "iopub.execute_input": "2021-03-12T09:43:46.072761Z",
     "iopub.status.busy": "2021-03-12T09:43:46.072284Z",
     "iopub.status.idle": "2021-03-12T09:43:46.075577Z",
     "shell.execute_reply": "2021-03-12T09:43:46.075123Z"
    }
   },
   "outputs": [],
   "source": [
    "zipped = dict(zip(counties, doses))"
   ]
  },
  {
   "cell_type": "code",
   "execution_count": 9,
   "metadata": {
    "execution": {
     "iopub.execute_input": "2021-03-12T09:43:46.080508Z",
     "iopub.status.busy": "2021-03-12T09:43:46.080038Z",
     "iopub.status.idle": "2021-03-12T09:43:46.083303Z",
     "shell.execute_reply": "2021-03-12T09:43:46.082879Z"
    }
   },
   "outputs": [],
   "source": [
    "df = pd.Series(zipped).reset_index()"
   ]
  },
  {
   "cell_type": "code",
   "execution_count": 10,
   "metadata": {
    "execution": {
     "iopub.execute_input": "2021-03-12T09:43:46.086592Z",
     "iopub.status.busy": "2021-03-12T09:43:46.086072Z",
     "iopub.status.idle": "2021-03-12T09:43:46.089569Z",
     "shell.execute_reply": "2021-03-12T09:43:46.089154Z"
    }
   },
   "outputs": [],
   "source": [
    "df.columns = ['location','doses']"
   ]
  },
  {
   "cell_type": "markdown",
   "metadata": {},
   "source": [
    "Grab the overall California total"
   ]
  },
  {
   "cell_type": "code",
   "execution_count": 11,
   "metadata": {
    "execution": {
     "iopub.execute_input": "2021-03-12T09:43:46.093400Z",
     "iopub.status.busy": "2021-03-12T09:43:46.092542Z",
     "iopub.status.idle": "2021-03-12T09:43:46.094160Z",
     "shell.execute_reply": "2021-03-12T09:43:46.094558Z"
    }
   },
   "outputs": [],
   "source": [
    "add = {'location':'California','doses':dataJson[0]['dataValues'][2]}"
   ]
  },
  {
   "cell_type": "code",
   "execution_count": 12,
   "metadata": {
    "execution": {
     "iopub.execute_input": "2021-03-12T09:43:46.101283Z",
     "iopub.status.busy": "2021-03-12T09:43:46.100262Z",
     "iopub.status.idle": "2021-03-12T09:43:46.102239Z",
     "shell.execute_reply": "2021-03-12T09:43:46.102773Z"
    }
   },
   "outputs": [],
   "source": [
    "df = df.append(add, ignore_index=True)"
   ]
  },
  {
   "cell_type": "code",
   "execution_count": 13,
   "metadata": {
    "execution": {
     "iopub.execute_input": "2021-03-12T09:43:46.109248Z",
     "iopub.status.busy": "2021-03-12T09:43:46.107771Z",
     "iopub.status.idle": "2021-03-12T09:43:46.109922Z",
     "shell.execute_reply": "2021-03-12T09:43:46.110376Z"
    }
   },
   "outputs": [],
   "source": [
    "df = df.sort_values(by='location')"
   ]
  },
  {
   "cell_type": "code",
   "execution_count": 14,
   "metadata": {
    "execution": {
     "iopub.execute_input": "2021-03-12T09:43:46.117371Z",
     "iopub.status.busy": "2021-03-12T09:43:46.116034Z",
     "iopub.status.idle": "2021-03-12T09:43:46.118087Z",
     "shell.execute_reply": "2021-03-12T09:43:46.118666Z"
    }
   },
   "outputs": [],
   "source": [
    "df = df[df.location == 'California'].append(df[df.location != 'California']).reset_index(drop=True)"
   ]
  },
  {
   "cell_type": "code",
   "execution_count": null,
   "metadata": {},
   "outputs": [],
   "source": []
  },
  {
   "cell_type": "code",
   "execution_count": 15,
   "metadata": {
    "execution": {
     "iopub.execute_input": "2021-03-12T09:43:46.122652Z",
     "iopub.status.busy": "2021-03-12T09:43:46.122133Z",
     "iopub.status.idle": "2021-03-12T09:43:46.139588Z",
     "shell.execute_reply": "2021-03-12T09:43:46.139982Z"
    }
   },
   "outputs": [],
   "source": [
    "tz = pytz.timezone(\"America/New_York\")"
   ]
  },
  {
   "cell_type": "code",
   "execution_count": 16,
   "metadata": {
    "execution": {
     "iopub.execute_input": "2021-03-12T09:43:46.143678Z",
     "iopub.status.busy": "2021-03-12T09:43:46.142794Z",
     "iopub.status.idle": "2021-03-12T09:43:46.144538Z",
     "shell.execute_reply": "2021-03-12T09:43:46.144941Z"
    }
   },
   "outputs": [],
   "source": [
    "today = datetime.now(tz).date()"
   ]
  },
  {
   "cell_type": "code",
   "execution_count": 17,
   "metadata": {
    "execution": {
     "iopub.execute_input": "2021-03-12T09:43:46.148954Z",
     "iopub.status.busy": "2021-03-12T09:43:46.147931Z",
     "iopub.status.idle": "2021-03-12T09:43:46.149887Z",
     "shell.execute_reply": "2021-03-12T09:43:46.150442Z"
    }
   },
   "outputs": [],
   "source": [
    "data_dir = os.path.join(os.path.abspath(\"\"), \"data\")"
   ]
  },
  {
   "cell_type": "code",
   "execution_count": 18,
   "metadata": {
    "execution": {
     "iopub.execute_input": "2021-03-12T09:43:46.154449Z",
     "iopub.status.busy": "2021-03-12T09:43:46.153477Z",
     "iopub.status.idle": "2021-03-12T09:43:46.158338Z",
     "shell.execute_reply": "2021-03-12T09:43:46.157797Z"
    }
   },
   "outputs": [],
   "source": [
    "df.to_csv(os.path.join(data_dir, f\"{today}.csv\"), index=False)"
   ]
  },
  {
   "cell_type": "code",
   "execution_count": null,
   "metadata": {},
   "outputs": [],
   "source": []
  }
 ],
 "metadata": {
  "kernelspec": {
   "display_name": "Python 3",
   "language": "python",
   "name": "python3"
  },
  "language_info": {
   "codemirror_mode": {
    "name": "ipython",
    "version": 3
   },
   "file_extension": ".py",
   "mimetype": "text/x-python",
   "name": "python",
   "nbconvert_exporter": "python",
   "pygments_lexer": "ipython3",
   "version": "3.8.8"
  }
 },
 "nbformat": 4,
 "nbformat_minor": 4
}
