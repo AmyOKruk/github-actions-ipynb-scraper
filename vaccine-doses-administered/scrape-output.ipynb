{
 "cells": [
  {
   "cell_type": "markdown",
   "metadata": {},
   "source": [
    "# California COVID vaccinations scrape"
   ]
  },
  {
   "cell_type": "markdown",
   "metadata": {},
   "source": [
    "By [Amy O'Kruk](https://twitter.com/amyokruk)"
   ]
  },
  {
   "cell_type": "markdown",
   "metadata": {},
   "source": [
    "Downloads data on vaccine doses administered by county and statewide from a Tableau-powered dashboard from the California Department of Public Health."
   ]
  },
  {
   "cell_type": "code",
   "execution_count": 1,
   "metadata": {
    "execution": {
     "iopub.execute_input": "2021-03-24T18:02:12.662959Z",
     "iopub.status.busy": "2021-03-24T18:02:12.662117Z",
     "iopub.status.idle": "2021-03-24T18:02:13.178406Z",
     "shell.execute_reply": "2021-03-24T18:02:13.178972Z"
    }
   },
   "outputs": [],
   "source": [
    "import pandas as pd\n",
    "import requests\n",
    "from bs4 import BeautifulSoup\n",
    "import json\n",
    "import re\n",
    "import time\n",
    "from time import gmtime, strftime \n",
    "import os\n",
    "import pytz\n",
    "from datetime import datetime"
   ]
  },
  {
   "cell_type": "markdown",
   "metadata": {},
   "source": [
    "Scrape the dashboard page"
   ]
  },
  {
   "cell_type": "code",
   "execution_count": 2,
   "metadata": {
    "execution": {
     "iopub.execute_input": "2021-03-24T18:02:13.182960Z",
     "iopub.status.busy": "2021-03-24T18:02:13.181616Z",
     "iopub.status.idle": "2021-03-24T18:02:13.719974Z",
     "shell.execute_reply": "2021-03-24T18:02:13.719342Z"
    }
   },
   "outputs": [],
   "source": [
    "url = \"https://public.tableau.com/interactive/views/COVID-19VaccineDashboardPublic/Vaccine?:embed=y&:showVizHome=n&:apiID=host0\"\n",
    "\n",
    "r = requests.get(url)\n",
    "soup = BeautifulSoup(r.text, \"html.parser\")"
   ]
  },
  {
   "cell_type": "code",
   "execution_count": 3,
   "metadata": {
    "execution": {
     "iopub.execute_input": "2021-03-24T18:02:13.725519Z",
     "iopub.status.busy": "2021-03-24T18:02:13.724846Z",
     "iopub.status.idle": "2021-03-24T18:02:13.728842Z",
     "shell.execute_reply": "2021-03-24T18:02:13.729360Z"
    }
   },
   "outputs": [],
   "source": [
    "tableauData = json.loads(soup.find(\"textarea\",{\"id\": \"tsConfigContainer\"}).text)"
   ]
  },
  {
   "cell_type": "markdown",
   "metadata": {},
   "source": [
    "Get the link to the Tableau data"
   ]
  },
  {
   "cell_type": "code",
   "execution_count": 4,
   "metadata": {
    "execution": {
     "iopub.execute_input": "2021-03-24T18:02:13.734695Z",
     "iopub.status.busy": "2021-03-24T18:02:13.733192Z",
     "iopub.status.idle": "2021-03-24T18:02:13.735453Z",
     "shell.execute_reply": "2021-03-24T18:02:13.736005Z"
    }
   },
   "outputs": [],
   "source": [
    "dataUrl = f'https://public.tableau.com{tableauData[\"vizql_root\"]}/bootstrapSession/sessions/{tableauData[\"sessionid\"]}'"
   ]
  },
  {
   "cell_type": "code",
   "execution_count": 5,
   "metadata": {
    "execution": {
     "iopub.execute_input": "2021-03-24T18:02:13.743764Z",
     "iopub.status.busy": "2021-03-24T18:02:13.743079Z",
     "iopub.status.idle": "2021-03-24T18:02:15.998552Z",
     "shell.execute_reply": "2021-03-24T18:02:15.997205Z"
    }
   },
   "outputs": [],
   "source": [
    "r = requests.post(dataUrl, data= {\n",
    "    \"sheet_id\": tableauData[\"sheetId\"],\n",
    "})\n",
    "\n",
    "dataReg = re.search('\\d+;({.*})\\d+;({.*})', r.text, re.MULTILINE)\n",
    "data1 = json.loads(dataReg.group(2))\n",
    "\n",
    "dataJson = data1[\"secondaryInfo\"][\"presModelMap\"][\"dataDictionary\"][\"presModelHolder\"][\"genDataDictionaryPresModel\"][\"dataSegments\"][\"0\"][\"dataColumns\"]"
   ]
  },
  {
   "cell_type": "markdown",
   "metadata": {},
   "source": [
    "Isolate what you want"
   ]
  },
  {
   "cell_type": "code",
   "execution_count": 6,
   "metadata": {
    "execution": {
     "iopub.execute_input": "2021-03-24T18:02:16.003490Z",
     "iopub.status.busy": "2021-03-24T18:02:16.002787Z",
     "iopub.status.idle": "2021-03-24T18:02:16.008697Z",
     "shell.execute_reply": "2021-03-24T18:02:16.006837Z"
    }
   },
   "outputs": [],
   "source": [
    "counties = dataJson[2]['dataValues'][:58]"
   ]
  },
  {
   "cell_type": "code",
   "execution_count": 7,
   "metadata": {
    "execution": {
     "iopub.execute_input": "2021-03-24T18:02:16.012895Z",
     "iopub.status.busy": "2021-03-24T18:02:16.012176Z",
     "iopub.status.idle": "2021-03-24T18:02:16.016455Z",
     "shell.execute_reply": "2021-03-24T18:02:16.016970Z"
    }
   },
   "outputs": [],
   "source": [
    "doses = dataJson[0]['dataValues'][3:61]"
   ]
  },
  {
   "cell_type": "markdown",
   "metadata": {},
   "source": [
    "Data formatting"
   ]
  },
  {
   "cell_type": "code",
   "execution_count": 8,
   "metadata": {
    "execution": {
     "iopub.execute_input": "2021-03-24T18:02:16.020941Z",
     "iopub.status.busy": "2021-03-24T18:02:16.020305Z",
     "iopub.status.idle": "2021-03-24T18:02:16.024691Z",
     "shell.execute_reply": "2021-03-24T18:02:16.024134Z"
    }
   },
   "outputs": [],
   "source": [
    "zipped = dict(zip(counties, doses))"
   ]
  },
  {
   "cell_type": "code",
   "execution_count": 9,
   "metadata": {
    "execution": {
     "iopub.execute_input": "2021-03-24T18:02:16.031359Z",
     "iopub.status.busy": "2021-03-24T18:02:16.030701Z",
     "iopub.status.idle": "2021-03-24T18:02:16.034902Z",
     "shell.execute_reply": "2021-03-24T18:02:16.034322Z"
    }
   },
   "outputs": [],
   "source": [
    "df = pd.Series(zipped).reset_index()"
   ]
  },
  {
   "cell_type": "code",
   "execution_count": 10,
   "metadata": {
    "execution": {
     "iopub.execute_input": "2021-03-24T18:02:16.039476Z",
     "iopub.status.busy": "2021-03-24T18:02:16.038610Z",
     "iopub.status.idle": "2021-03-24T18:02:16.045999Z",
     "shell.execute_reply": "2021-03-24T18:02:16.043762Z"
    }
   },
   "outputs": [],
   "source": [
    "df.columns = ['location','doses']"
   ]
  },
  {
   "cell_type": "markdown",
   "metadata": {},
   "source": [
    "Grab the overall California total"
   ]
  },
  {
   "cell_type": "code",
   "execution_count": 11,
   "metadata": {
    "execution": {
     "iopub.execute_input": "2021-03-24T18:02:16.050147Z",
     "iopub.status.busy": "2021-03-24T18:02:16.049515Z",
     "iopub.status.idle": "2021-03-24T18:02:16.053562Z",
     "shell.execute_reply": "2021-03-24T18:02:16.053024Z"
    }
   },
   "outputs": [],
   "source": [
    "add = {'location':'California','doses':dataJson[0]['dataValues'][2]}"
   ]
  },
  {
   "cell_type": "code",
   "execution_count": 12,
   "metadata": {
    "execution": {
     "iopub.execute_input": "2021-03-24T18:02:16.061522Z",
     "iopub.status.busy": "2021-03-24T18:02:16.060913Z",
     "iopub.status.idle": "2021-03-24T18:02:16.065094Z",
     "shell.execute_reply": "2021-03-24T18:02:16.064561Z"
    }
   },
   "outputs": [],
   "source": [
    "df = df.append(add, ignore_index=True)"
   ]
  },
  {
   "cell_type": "code",
   "execution_count": 13,
   "metadata": {
    "execution": {
     "iopub.execute_input": "2021-03-24T18:02:16.070210Z",
     "iopub.status.busy": "2021-03-24T18:02:16.069599Z",
     "iopub.status.idle": "2021-03-24T18:02:16.073678Z",
     "shell.execute_reply": "2021-03-24T18:02:16.073129Z"
    }
   },
   "outputs": [],
   "source": [
    "df = df.sort_values(by='location')"
   ]
  },
  {
   "cell_type": "code",
   "execution_count": 14,
   "metadata": {
    "execution": {
     "iopub.execute_input": "2021-03-24T18:02:16.080072Z",
     "iopub.status.busy": "2021-03-24T18:02:16.079473Z",
     "iopub.status.idle": "2021-03-24T18:02:16.083452Z",
     "shell.execute_reply": "2021-03-24T18:02:16.082862Z"
    }
   },
   "outputs": [],
   "source": [
    "df = df[df.location == 'California'].append(df[df.location != 'California']).reset_index(drop=True)"
   ]
  },
  {
   "cell_type": "code",
   "execution_count": null,
   "metadata": {},
   "outputs": [],
   "source": []
  },
  {
   "cell_type": "code",
   "execution_count": 15,
   "metadata": {
    "execution": {
     "iopub.execute_input": "2021-03-24T18:02:16.088242Z",
     "iopub.status.busy": "2021-03-24T18:02:16.087135Z",
     "iopub.status.idle": "2021-03-24T18:02:16.113050Z",
     "shell.execute_reply": "2021-03-24T18:02:16.112499Z"
    }
   },
   "outputs": [],
   "source": [
    "tz = pytz.timezone(\"America/New_York\")"
   ]
  },
  {
   "cell_type": "code",
   "execution_count": 16,
   "metadata": {
    "execution": {
     "iopub.execute_input": "2021-03-24T18:02:16.117166Z",
     "iopub.status.busy": "2021-03-24T18:02:16.116556Z",
     "iopub.status.idle": "2021-03-24T18:02:16.120636Z",
     "shell.execute_reply": "2021-03-24T18:02:16.120105Z"
    }
   },
   "outputs": [],
   "source": [
    "today = datetime.now(tz).date()"
   ]
  },
  {
   "cell_type": "code",
   "execution_count": 17,
   "metadata": {
    "execution": {
     "iopub.execute_input": "2021-03-24T18:02:16.124650Z",
     "iopub.status.busy": "2021-03-24T18:02:16.124058Z",
     "iopub.status.idle": "2021-03-24T18:02:16.128096Z",
     "shell.execute_reply": "2021-03-24T18:02:16.127352Z"
    }
   },
   "outputs": [],
   "source": [
    "data_dir = os.path.join(os.path.abspath(\"\"), \"data\")"
   ]
  },
  {
   "cell_type": "code",
   "execution_count": 18,
   "metadata": {
    "execution": {
     "iopub.execute_input": "2021-03-24T18:02:16.134080Z",
     "iopub.status.busy": "2021-03-24T18:02:16.131384Z",
     "iopub.status.idle": "2021-03-24T18:02:16.136118Z",
     "shell.execute_reply": "2021-03-24T18:02:16.136570Z"
    }
   },
   "outputs": [],
   "source": [
    "df.to_csv(os.path.join(data_dir, f\"{today}.csv\"), index=False)"
   ]
  },
  {
   "cell_type": "code",
   "execution_count": null,
   "metadata": {},
   "outputs": [],
   "source": []
  }
 ],
 "metadata": {
  "kernelspec": {
   "display_name": "Python 3",
   "language": "python",
   "name": "python3"
  },
  "language_info": {
   "codemirror_mode": {
    "name": "ipython",
    "version": 3
   },
   "file_extension": ".py",
   "mimetype": "text/x-python",
   "name": "python",
   "nbconvert_exporter": "python",
   "pygments_lexer": "ipython3",
   "version": "3.8.8"
  }
 },
 "nbformat": 4,
 "nbformat_minor": 4
}
