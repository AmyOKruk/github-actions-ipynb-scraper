{
 "cells": [
  {
   "cell_type": "markdown",
   "metadata": {},
   "source": [
    "# California COVID vaccinations scrape"
   ]
  },
  {
   "cell_type": "markdown",
   "metadata": {},
   "source": [
    "By [Amy O'Kruk](https://twitter.com/amyokruk)"
   ]
  },
  {
   "cell_type": "markdown",
   "metadata": {},
   "source": [
    "Downloads data on vaccine doses administered by county and statewide from a Tableau-powered dashboard from the California Department of Public Health."
   ]
  },
  {
   "cell_type": "code",
   "execution_count": 1,
   "metadata": {
    "execution": {
     "iopub.execute_input": "2021-03-16T03:12:29.390061Z",
     "iopub.status.busy": "2021-03-16T03:12:29.389479Z",
     "iopub.status.idle": "2021-03-16T03:12:29.768477Z",
     "shell.execute_reply": "2021-03-16T03:12:29.767969Z"
    }
   },
   "outputs": [],
   "source": [
    "import pandas as pd\n",
    "import requests\n",
    "from bs4 import BeautifulSoup\n",
    "import json\n",
    "import re\n",
    "import time\n",
    "from time import gmtime, strftime \n",
    "import os\n",
    "import pytz\n",
    "from datetime import datetime"
   ]
  },
  {
   "cell_type": "markdown",
   "metadata": {},
   "source": [
    "Scrape the dashboard page"
   ]
  },
  {
   "cell_type": "code",
   "execution_count": 2,
   "metadata": {
    "execution": {
     "iopub.execute_input": "2021-03-16T03:12:29.772258Z",
     "iopub.status.busy": "2021-03-16T03:12:29.771644Z",
     "iopub.status.idle": "2021-03-16T03:12:30.337609Z",
     "shell.execute_reply": "2021-03-16T03:12:30.337146Z"
    }
   },
   "outputs": [],
   "source": [
    "url = \"https://public.tableau.com/interactive/views/COVID-19VaccineDashboardPublic/Vaccine?:embed=y&:showVizHome=n&:apiID=host0\"\n",
    "\n",
    "r = requests.get(url)\n",
    "soup = BeautifulSoup(r.text, \"html.parser\")"
   ]
  },
  {
   "cell_type": "code",
   "execution_count": 3,
   "metadata": {
    "execution": {
     "iopub.execute_input": "2021-03-16T03:12:30.342449Z",
     "iopub.status.busy": "2021-03-16T03:12:30.341540Z",
     "iopub.status.idle": "2021-03-16T03:12:30.343031Z",
     "shell.execute_reply": "2021-03-16T03:12:30.343423Z"
    }
   },
   "outputs": [],
   "source": [
    "tableauData = json.loads(soup.find(\"textarea\",{\"id\": \"tsConfigContainer\"}).text)"
   ]
  },
  {
   "cell_type": "markdown",
   "metadata": {},
   "source": [
    "Get the link to the Tableau data"
   ]
  },
  {
   "cell_type": "code",
   "execution_count": 4,
   "metadata": {
    "execution": {
     "iopub.execute_input": "2021-03-16T03:12:30.346786Z",
     "iopub.status.busy": "2021-03-16T03:12:30.345992Z",
     "iopub.status.idle": "2021-03-16T03:12:30.348261Z",
     "shell.execute_reply": "2021-03-16T03:12:30.347515Z"
    }
   },
   "outputs": [],
   "source": [
    "dataUrl = f'https://public.tableau.com{tableauData[\"vizql_root\"]}/bootstrapSession/sessions/{tableauData[\"sessionid\"]}'"
   ]
  },
  {
   "cell_type": "code",
   "execution_count": 5,
   "metadata": {
    "execution": {
     "iopub.execute_input": "2021-03-16T03:12:30.354274Z",
     "iopub.status.busy": "2021-03-16T03:12:30.353785Z",
     "iopub.status.idle": "2021-03-16T03:12:30.578899Z",
     "shell.execute_reply": "2021-03-16T03:12:30.578439Z"
    }
   },
   "outputs": [],
   "source": [
    "r = requests.post(dataUrl, data= {\n",
    "    \"sheet_id\": tableauData[\"sheetId\"],\n",
    "})\n",
    "\n",
    "dataReg = re.search('\\d+;({.*})\\d+;({.*})', r.text, re.MULTILINE)\n",
    "data1 = json.loads(dataReg.group(2))\n",
    "\n",
    "dataJson = data1[\"secondaryInfo\"][\"presModelMap\"][\"dataDictionary\"][\"presModelHolder\"][\"genDataDictionaryPresModel\"][\"dataSegments\"][\"0\"][\"dataColumns\"]"
   ]
  },
  {
   "cell_type": "markdown",
   "metadata": {},
   "source": [
    "Isolate what you want"
   ]
  },
  {
   "cell_type": "code",
   "execution_count": 6,
   "metadata": {
    "execution": {
     "iopub.execute_input": "2021-03-16T03:12:30.582562Z",
     "iopub.status.busy": "2021-03-16T03:12:30.581987Z",
     "iopub.status.idle": "2021-03-16T03:12:30.584727Z",
     "shell.execute_reply": "2021-03-16T03:12:30.585099Z"
    }
   },
   "outputs": [],
   "source": [
    "counties = dataJson[2]['dataValues'][:58]"
   ]
  },
  {
   "cell_type": "code",
   "execution_count": 7,
   "metadata": {
    "execution": {
     "iopub.execute_input": "2021-03-16T03:12:30.588457Z",
     "iopub.status.busy": "2021-03-16T03:12:30.588018Z",
     "iopub.status.idle": "2021-03-16T03:12:30.591095Z",
     "shell.execute_reply": "2021-03-16T03:12:30.590703Z"
    }
   },
   "outputs": [],
   "source": [
    "doses = dataJson[0]['dataValues'][3:61]"
   ]
  },
  {
   "cell_type": "markdown",
   "metadata": {},
   "source": [
    "Data formatting"
   ]
  },
  {
   "cell_type": "code",
   "execution_count": 8,
   "metadata": {
    "execution": {
     "iopub.execute_input": "2021-03-16T03:12:30.594018Z",
     "iopub.status.busy": "2021-03-16T03:12:30.593580Z",
     "iopub.status.idle": "2021-03-16T03:12:30.596631Z",
     "shell.execute_reply": "2021-03-16T03:12:30.596245Z"
    }
   },
   "outputs": [],
   "source": [
    "zipped = dict(zip(counties, doses))"
   ]
  },
  {
   "cell_type": "code",
   "execution_count": 9,
   "metadata": {
    "execution": {
     "iopub.execute_input": "2021-03-16T03:12:30.601647Z",
     "iopub.status.busy": "2021-03-16T03:12:30.601211Z",
     "iopub.status.idle": "2021-03-16T03:12:30.605058Z",
     "shell.execute_reply": "2021-03-16T03:12:30.604676Z"
    }
   },
   "outputs": [],
   "source": [
    "df = pd.Series(zipped).reset_index()"
   ]
  },
  {
   "cell_type": "code",
   "execution_count": 10,
   "metadata": {
    "execution": {
     "iopub.execute_input": "2021-03-16T03:12:30.608130Z",
     "iopub.status.busy": "2021-03-16T03:12:30.607695Z",
     "iopub.status.idle": "2021-03-16T03:12:30.610713Z",
     "shell.execute_reply": "2021-03-16T03:12:30.610300Z"
    }
   },
   "outputs": [],
   "source": [
    "df.columns = ['location','doses']"
   ]
  },
  {
   "cell_type": "markdown",
   "metadata": {},
   "source": [
    "Grab the overall California total"
   ]
  },
  {
   "cell_type": "code",
   "execution_count": 11,
   "metadata": {
    "execution": {
     "iopub.execute_input": "2021-03-16T03:12:30.614050Z",
     "iopub.status.busy": "2021-03-16T03:12:30.613348Z",
     "iopub.status.idle": "2021-03-16T03:12:30.617347Z",
     "shell.execute_reply": "2021-03-16T03:12:30.616962Z"
    }
   },
   "outputs": [],
   "source": [
    "add = {'location':'California','doses':dataJson[0]['dataValues'][2]}"
   ]
  },
  {
   "cell_type": "code",
   "execution_count": 12,
   "metadata": {
    "execution": {
     "iopub.execute_input": "2021-03-16T03:12:30.622651Z",
     "iopub.status.busy": "2021-03-16T03:12:30.622187Z",
     "iopub.status.idle": "2021-03-16T03:12:30.624854Z",
     "shell.execute_reply": "2021-03-16T03:12:30.625224Z"
    }
   },
   "outputs": [],
   "source": [
    "df = df.append(add, ignore_index=True)"
   ]
  },
  {
   "cell_type": "code",
   "execution_count": 13,
   "metadata": {
    "execution": {
     "iopub.execute_input": "2021-03-16T03:12:30.628887Z",
     "iopub.status.busy": "2021-03-16T03:12:30.628453Z",
     "iopub.status.idle": "2021-03-16T03:12:30.631640Z",
     "shell.execute_reply": "2021-03-16T03:12:30.631247Z"
    }
   },
   "outputs": [],
   "source": [
    "df = df.sort_values(by='location')"
   ]
  },
  {
   "cell_type": "code",
   "execution_count": 14,
   "metadata": {
    "execution": {
     "iopub.execute_input": "2021-03-16T03:12:30.636466Z",
     "iopub.status.busy": "2021-03-16T03:12:30.636028Z",
     "iopub.status.idle": "2021-03-16T03:12:30.638974Z",
     "shell.execute_reply": "2021-03-16T03:12:30.638606Z"
    }
   },
   "outputs": [],
   "source": [
    "df = df[df.location == 'California'].append(df[df.location != 'California']).reset_index(drop=True)"
   ]
  },
  {
   "cell_type": "code",
   "execution_count": null,
   "metadata": {},
   "outputs": [],
   "source": []
  },
  {
   "cell_type": "code",
   "execution_count": 15,
   "metadata": {
    "execution": {
     "iopub.execute_input": "2021-03-16T03:12:30.642069Z",
     "iopub.status.busy": "2021-03-16T03:12:30.641437Z",
     "iopub.status.idle": "2021-03-16T03:12:30.658317Z",
     "shell.execute_reply": "2021-03-16T03:12:30.657897Z"
    }
   },
   "outputs": [],
   "source": [
    "tz = pytz.timezone(\"America/New_York\")"
   ]
  },
  {
   "cell_type": "code",
   "execution_count": 16,
   "metadata": {
    "execution": {
     "iopub.execute_input": "2021-03-16T03:12:30.661512Z",
     "iopub.status.busy": "2021-03-16T03:12:30.661075Z",
     "iopub.status.idle": "2021-03-16T03:12:30.664328Z",
     "shell.execute_reply": "2021-03-16T03:12:30.663643Z"
    }
   },
   "outputs": [],
   "source": [
    "today = datetime.now(tz).date()"
   ]
  },
  {
   "cell_type": "code",
   "execution_count": 17,
   "metadata": {
    "execution": {
     "iopub.execute_input": "2021-03-16T03:12:30.667488Z",
     "iopub.status.busy": "2021-03-16T03:12:30.666786Z",
     "iopub.status.idle": "2021-03-16T03:12:30.670064Z",
     "shell.execute_reply": "2021-03-16T03:12:30.669675Z"
    }
   },
   "outputs": [],
   "source": [
    "data_dir = os.path.join(os.path.abspath(\"\"), \"data\")"
   ]
  },
  {
   "cell_type": "code",
   "execution_count": 18,
   "metadata": {
    "execution": {
     "iopub.execute_input": "2021-03-16T03:12:30.673651Z",
     "iopub.status.busy": "2021-03-16T03:12:30.673069Z",
     "iopub.status.idle": "2021-03-16T03:12:30.678744Z",
     "shell.execute_reply": "2021-03-16T03:12:30.678318Z"
    }
   },
   "outputs": [],
   "source": [
    "df.to_csv(os.path.join(data_dir, f\"{today}.csv\"), index=False)"
   ]
  },
  {
   "cell_type": "code",
   "execution_count": null,
   "metadata": {},
   "outputs": [],
   "source": []
  }
 ],
 "metadata": {
  "kernelspec": {
   "display_name": "Python 3",
   "language": "python",
   "name": "python3"
  },
  "language_info": {
   "codemirror_mode": {
    "name": "ipython",
    "version": 3
   },
   "file_extension": ".py",
   "mimetype": "text/x-python",
   "name": "python",
   "nbconvert_exporter": "python",
   "pygments_lexer": "ipython3",
   "version": "3.8.8"
  }
 },
 "nbformat": 4,
 "nbformat_minor": 4
}
