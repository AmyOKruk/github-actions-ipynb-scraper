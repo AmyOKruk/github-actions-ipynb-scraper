{
 "cells": [
  {
   "cell_type": "markdown",
   "metadata": {},
   "source": [
    "# California COVID vaccinations scrape"
   ]
  },
  {
   "cell_type": "markdown",
   "metadata": {},
   "source": [
    "By [Amy O'Kruk](https://twitter.com/amyokruk)"
   ]
  },
  {
   "cell_type": "markdown",
   "metadata": {},
   "source": [
    "Downloads data on vaccine doses administered by county and statewide from a Tableau-powered dashboard from the California Department of Public Health."
   ]
  },
  {
   "cell_type": "code",
   "execution_count": 1,
   "metadata": {
    "execution": {
     "iopub.execute_input": "2021-03-20T04:51:19.714246Z",
     "iopub.status.busy": "2021-03-20T04:51:19.713505Z",
     "iopub.status.idle": "2021-03-20T04:51:20.136891Z",
     "shell.execute_reply": "2021-03-20T04:51:20.136297Z"
    }
   },
   "outputs": [],
   "source": [
    "import pandas as pd\n",
    "import requests\n",
    "from bs4 import BeautifulSoup\n",
    "import json\n",
    "import re\n",
    "import time\n",
    "from time import gmtime, strftime \n",
    "import os\n",
    "import pytz\n",
    "from datetime import datetime"
   ]
  },
  {
   "cell_type": "markdown",
   "metadata": {},
   "source": [
    "Scrape the dashboard page"
   ]
  },
  {
   "cell_type": "code",
   "execution_count": 2,
   "metadata": {
    "execution": {
     "iopub.execute_input": "2021-03-20T04:51:20.142792Z",
     "iopub.status.busy": "2021-03-20T04:51:20.142203Z",
     "iopub.status.idle": "2021-03-20T04:51:20.681166Z",
     "shell.execute_reply": "2021-03-20T04:51:20.680630Z"
    }
   },
   "outputs": [],
   "source": [
    "url = \"https://public.tableau.com/interactive/views/COVID-19VaccineDashboardPublic/Vaccine?:embed=y&:showVizHome=n&:apiID=host0\"\n",
    "\n",
    "r = requests.get(url)\n",
    "soup = BeautifulSoup(r.text, \"html.parser\")"
   ]
  },
  {
   "cell_type": "code",
   "execution_count": 3,
   "metadata": {
    "execution": {
     "iopub.execute_input": "2021-03-20T04:51:20.686089Z",
     "iopub.status.busy": "2021-03-20T04:51:20.685523Z",
     "iopub.status.idle": "2021-03-20T04:51:20.689830Z",
     "shell.execute_reply": "2021-03-20T04:51:20.689347Z"
    }
   },
   "outputs": [],
   "source": [
    "tableauData = json.loads(soup.find(\"textarea\",{\"id\": \"tsConfigContainer\"}).text)"
   ]
  },
  {
   "cell_type": "markdown",
   "metadata": {},
   "source": [
    "Get the link to the Tableau data"
   ]
  },
  {
   "cell_type": "code",
   "execution_count": 4,
   "metadata": {
    "execution": {
     "iopub.execute_input": "2021-03-20T04:51:20.693397Z",
     "iopub.status.busy": "2021-03-20T04:51:20.692831Z",
     "iopub.status.idle": "2021-03-20T04:51:20.696272Z",
     "shell.execute_reply": "2021-03-20T04:51:20.696734Z"
    }
   },
   "outputs": [],
   "source": [
    "dataUrl = f'https://public.tableau.com{tableauData[\"vizql_root\"]}/bootstrapSession/sessions/{tableauData[\"sessionid\"]}'"
   ]
  },
  {
   "cell_type": "code",
   "execution_count": 5,
   "metadata": {
    "execution": {
     "iopub.execute_input": "2021-03-20T04:51:20.703856Z",
     "iopub.status.busy": "2021-03-20T04:51:20.703266Z",
     "iopub.status.idle": "2021-03-20T04:51:20.978835Z",
     "shell.execute_reply": "2021-03-20T04:51:20.978218Z"
    }
   },
   "outputs": [],
   "source": [
    "r = requests.post(dataUrl, data= {\n",
    "    \"sheet_id\": tableauData[\"sheetId\"],\n",
    "})\n",
    "\n",
    "dataReg = re.search('\\d+;({.*})\\d+;({.*})', r.text, re.MULTILINE)\n",
    "data1 = json.loads(dataReg.group(2))\n",
    "\n",
    "dataJson = data1[\"secondaryInfo\"][\"presModelMap\"][\"dataDictionary\"][\"presModelHolder\"][\"genDataDictionaryPresModel\"][\"dataSegments\"][\"0\"][\"dataColumns\"]"
   ]
  },
  {
   "cell_type": "markdown",
   "metadata": {},
   "source": [
    "Isolate what you want"
   ]
  },
  {
   "cell_type": "code",
   "execution_count": 6,
   "metadata": {
    "execution": {
     "iopub.execute_input": "2021-03-20T04:51:20.984819Z",
     "iopub.status.busy": "2021-03-20T04:51:20.983228Z",
     "iopub.status.idle": "2021-03-20T04:51:20.985601Z",
     "shell.execute_reply": "2021-03-20T04:51:20.986131Z"
    }
   },
   "outputs": [],
   "source": [
    "counties = dataJson[2]['dataValues'][:58]"
   ]
  },
  {
   "cell_type": "code",
   "execution_count": 7,
   "metadata": {
    "execution": {
     "iopub.execute_input": "2021-03-20T04:51:20.990007Z",
     "iopub.status.busy": "2021-03-20T04:51:20.988611Z",
     "iopub.status.idle": "2021-03-20T04:51:20.992068Z",
     "shell.execute_reply": "2021-03-20T04:51:20.992555Z"
    }
   },
   "outputs": [],
   "source": [
    "doses = dataJson[0]['dataValues'][3:61]"
   ]
  },
  {
   "cell_type": "markdown",
   "metadata": {},
   "source": [
    "Data formatting"
   ]
  },
  {
   "cell_type": "code",
   "execution_count": 8,
   "metadata": {
    "execution": {
     "iopub.execute_input": "2021-03-20T04:51:20.997961Z",
     "iopub.status.busy": "2021-03-20T04:51:20.996466Z",
     "iopub.status.idle": "2021-03-20T04:51:20.998639Z",
     "shell.execute_reply": "2021-03-20T04:51:20.999141Z"
    }
   },
   "outputs": [],
   "source": [
    "zipped = dict(zip(counties, doses))"
   ]
  },
  {
   "cell_type": "code",
   "execution_count": 9,
   "metadata": {
    "execution": {
     "iopub.execute_input": "2021-03-20T04:51:21.006724Z",
     "iopub.status.busy": "2021-03-20T04:51:21.005280Z",
     "iopub.status.idle": "2021-03-20T04:51:21.007515Z",
     "shell.execute_reply": "2021-03-20T04:51:21.008024Z"
    }
   },
   "outputs": [],
   "source": [
    "df = pd.Series(zipped).reset_index()"
   ]
  },
  {
   "cell_type": "code",
   "execution_count": 10,
   "metadata": {
    "execution": {
     "iopub.execute_input": "2021-03-20T04:51:21.013051Z",
     "iopub.status.busy": "2021-03-20T04:51:21.011808Z",
     "iopub.status.idle": "2021-03-20T04:51:21.013626Z",
     "shell.execute_reply": "2021-03-20T04:51:21.014201Z"
    }
   },
   "outputs": [],
   "source": [
    "df.columns = ['location','doses']"
   ]
  },
  {
   "cell_type": "markdown",
   "metadata": {},
   "source": [
    "Grab the overall California total"
   ]
  },
  {
   "cell_type": "code",
   "execution_count": 11,
   "metadata": {
    "execution": {
     "iopub.execute_input": "2021-03-20T04:51:21.018372Z",
     "iopub.status.busy": "2021-03-20T04:51:21.017696Z",
     "iopub.status.idle": "2021-03-20T04:51:21.019828Z",
     "shell.execute_reply": "2021-03-20T04:51:21.020347Z"
    }
   },
   "outputs": [],
   "source": [
    "add = {'location':'California','doses':dataJson[0]['dataValues'][2]}"
   ]
  },
  {
   "cell_type": "code",
   "execution_count": 12,
   "metadata": {
    "execution": {
     "iopub.execute_input": "2021-03-20T04:51:21.027918Z",
     "iopub.status.busy": "2021-03-20T04:51:21.026601Z",
     "iopub.status.idle": "2021-03-20T04:51:21.029454Z",
     "shell.execute_reply": "2021-03-20T04:51:21.029958Z"
    }
   },
   "outputs": [],
   "source": [
    "df = df.append(add, ignore_index=True)"
   ]
  },
  {
   "cell_type": "code",
   "execution_count": 13,
   "metadata": {
    "execution": {
     "iopub.execute_input": "2021-03-20T04:51:21.034424Z",
     "iopub.status.busy": "2021-03-20T04:51:21.033863Z",
     "iopub.status.idle": "2021-03-20T04:51:21.036383Z",
     "shell.execute_reply": "2021-03-20T04:51:21.035884Z"
    }
   },
   "outputs": [],
   "source": [
    "df = df.sort_values(by='location')"
   ]
  },
  {
   "cell_type": "code",
   "execution_count": 14,
   "metadata": {
    "execution": {
     "iopub.execute_input": "2021-03-20T04:51:21.042391Z",
     "iopub.status.busy": "2021-03-20T04:51:21.041839Z",
     "iopub.status.idle": "2021-03-20T04:51:21.044612Z",
     "shell.execute_reply": "2021-03-20T04:51:21.044028Z"
    }
   },
   "outputs": [],
   "source": [
    "df = df[df.location == 'California'].append(df[df.location != 'California']).reset_index(drop=True)"
   ]
  },
  {
   "cell_type": "code",
   "execution_count": null,
   "metadata": {},
   "outputs": [],
   "source": []
  },
  {
   "cell_type": "code",
   "execution_count": 15,
   "metadata": {
    "execution": {
     "iopub.execute_input": "2021-03-20T04:51:21.047932Z",
     "iopub.status.busy": "2021-03-20T04:51:21.047351Z",
     "iopub.status.idle": "2021-03-20T04:51:21.069796Z",
     "shell.execute_reply": "2021-03-20T04:51:21.070279Z"
    }
   },
   "outputs": [],
   "source": [
    "tz = pytz.timezone(\"America/New_York\")"
   ]
  },
  {
   "cell_type": "code",
   "execution_count": 16,
   "metadata": {
    "execution": {
     "iopub.execute_input": "2021-03-20T04:51:21.076070Z",
     "iopub.status.busy": "2021-03-20T04:51:21.074591Z",
     "iopub.status.idle": "2021-03-20T04:51:21.076705Z",
     "shell.execute_reply": "2021-03-20T04:51:21.077199Z"
    }
   },
   "outputs": [],
   "source": [
    "today = datetime.now(tz).date()"
   ]
  },
  {
   "cell_type": "code",
   "execution_count": 17,
   "metadata": {
    "execution": {
     "iopub.execute_input": "2021-03-20T04:51:21.082015Z",
     "iopub.status.busy": "2021-03-20T04:51:21.080632Z",
     "iopub.status.idle": "2021-03-20T04:51:21.082672Z",
     "shell.execute_reply": "2021-03-20T04:51:21.083264Z"
    }
   },
   "outputs": [],
   "source": [
    "data_dir = os.path.join(os.path.abspath(\"\"), \"data\")"
   ]
  },
  {
   "cell_type": "code",
   "execution_count": 18,
   "metadata": {
    "execution": {
     "iopub.execute_input": "2021-03-20T04:51:21.087780Z",
     "iopub.status.busy": "2021-03-20T04:51:21.086488Z",
     "iopub.status.idle": "2021-03-20T04:51:21.092072Z",
     "shell.execute_reply": "2021-03-20T04:51:21.091399Z"
    }
   },
   "outputs": [],
   "source": [
    "df.to_csv(os.path.join(data_dir, f\"{today}.csv\"), index=False)"
   ]
  },
  {
   "cell_type": "code",
   "execution_count": null,
   "metadata": {},
   "outputs": [],
   "source": []
  }
 ],
 "metadata": {
  "kernelspec": {
   "display_name": "Python 3",
   "language": "python",
   "name": "python3"
  },
  "language_info": {
   "codemirror_mode": {
    "name": "ipython",
    "version": 3
   },
   "file_extension": ".py",
   "mimetype": "text/x-python",
   "name": "python",
   "nbconvert_exporter": "python",
   "pygments_lexer": "ipython3",
   "version": "3.8.8"
  }
 },
 "nbformat": 4,
 "nbformat_minor": 4
}
