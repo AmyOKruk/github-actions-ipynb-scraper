{
 "cells": [
  {
   "cell_type": "markdown",
   "metadata": {},
   "source": [
    "# California COVID vaccinations scrape"
   ]
  },
  {
   "cell_type": "markdown",
   "metadata": {},
   "source": [
    "By [Amy O'Kruk](https://twitter.com/amyokruk)"
   ]
  },
  {
   "cell_type": "markdown",
   "metadata": {},
   "source": [
    "Downloads data on vaccine doses administered by county and statewide from a Tableau-powered dashboard from the California Department of Public Health."
   ]
  },
  {
   "cell_type": "code",
   "execution_count": 1,
   "metadata": {
    "execution": {
     "iopub.execute_input": "2021-03-16T22:13:49.481242Z",
     "iopub.status.busy": "2021-03-16T22:13:49.480613Z",
     "iopub.status.idle": "2021-03-16T22:13:49.906013Z",
     "shell.execute_reply": "2021-03-16T22:13:49.905193Z"
    }
   },
   "outputs": [],
   "source": [
    "import pandas as pd\n",
    "import requests\n",
    "from bs4 import BeautifulSoup\n",
    "import json\n",
    "import re\n",
    "import time\n",
    "from time import gmtime, strftime \n",
    "import os\n",
    "import pytz\n",
    "from datetime import datetime"
   ]
  },
  {
   "cell_type": "markdown",
   "metadata": {},
   "source": [
    "Scrape the dashboard page"
   ]
  },
  {
   "cell_type": "code",
   "execution_count": 2,
   "metadata": {
    "execution": {
     "iopub.execute_input": "2021-03-16T22:13:49.911521Z",
     "iopub.status.busy": "2021-03-16T22:13:49.909619Z",
     "iopub.status.idle": "2021-03-16T22:13:50.673003Z",
     "shell.execute_reply": "2021-03-16T22:13:50.672449Z"
    }
   },
   "outputs": [],
   "source": [
    "url = \"https://public.tableau.com/interactive/views/COVID-19VaccineDashboardPublic/Vaccine?:embed=y&:showVizHome=n&:apiID=host0\"\n",
    "\n",
    "r = requests.get(url)\n",
    "soup = BeautifulSoup(r.text, \"html.parser\")"
   ]
  },
  {
   "cell_type": "code",
   "execution_count": 3,
   "metadata": {
    "execution": {
     "iopub.execute_input": "2021-03-16T22:13:50.679664Z",
     "iopub.status.busy": "2021-03-16T22:13:50.679123Z",
     "iopub.status.idle": "2021-03-16T22:13:50.682609Z",
     "shell.execute_reply": "2021-03-16T22:13:50.682149Z"
    }
   },
   "outputs": [],
   "source": [
    "tableauData = json.loads(soup.find(\"textarea\",{\"id\": \"tsConfigContainer\"}).text)"
   ]
  },
  {
   "cell_type": "markdown",
   "metadata": {},
   "source": [
    "Get the link to the Tableau data"
   ]
  },
  {
   "cell_type": "code",
   "execution_count": 4,
   "metadata": {
    "execution": {
     "iopub.execute_input": "2021-03-16T22:13:50.687828Z",
     "iopub.status.busy": "2021-03-16T22:13:50.686471Z",
     "iopub.status.idle": "2021-03-16T22:13:50.688747Z",
     "shell.execute_reply": "2021-03-16T22:13:50.689353Z"
    }
   },
   "outputs": [],
   "source": [
    "dataUrl = f'https://public.tableau.com{tableauData[\"vizql_root\"]}/bootstrapSession/sessions/{tableauData[\"sessionid\"]}'"
   ]
  },
  {
   "cell_type": "code",
   "execution_count": 5,
   "metadata": {
    "execution": {
     "iopub.execute_input": "2021-03-16T22:13:50.696982Z",
     "iopub.status.busy": "2021-03-16T22:13:50.696125Z",
     "iopub.status.idle": "2021-03-16T22:13:51.085244Z",
     "shell.execute_reply": "2021-03-16T22:13:51.084721Z"
    }
   },
   "outputs": [],
   "source": [
    "r = requests.post(dataUrl, data= {\n",
    "    \"sheet_id\": tableauData[\"sheetId\"],\n",
    "})\n",
    "\n",
    "dataReg = re.search('\\d+;({.*})\\d+;({.*})', r.text, re.MULTILINE)\n",
    "data1 = json.loads(dataReg.group(2))\n",
    "\n",
    "dataJson = data1[\"secondaryInfo\"][\"presModelMap\"][\"dataDictionary\"][\"presModelHolder\"][\"genDataDictionaryPresModel\"][\"dataSegments\"][\"0\"][\"dataColumns\"]"
   ]
  },
  {
   "cell_type": "markdown",
   "metadata": {},
   "source": [
    "Isolate what you want"
   ]
  },
  {
   "cell_type": "code",
   "execution_count": 6,
   "metadata": {
    "execution": {
     "iopub.execute_input": "2021-03-16T22:13:51.090969Z",
     "iopub.status.busy": "2021-03-16T22:13:51.088774Z",
     "iopub.status.idle": "2021-03-16T22:13:51.091811Z",
     "shell.execute_reply": "2021-03-16T22:13:51.092419Z"
    }
   },
   "outputs": [],
   "source": [
    "counties = dataJson[2]['dataValues'][:58]"
   ]
  },
  {
   "cell_type": "code",
   "execution_count": 7,
   "metadata": {
    "execution": {
     "iopub.execute_input": "2021-03-16T22:13:51.097465Z",
     "iopub.status.busy": "2021-03-16T22:13:51.096312Z",
     "iopub.status.idle": "2021-03-16T22:13:51.098075Z",
     "shell.execute_reply": "2021-03-16T22:13:51.098521Z"
    }
   },
   "outputs": [],
   "source": [
    "doses = dataJson[0]['dataValues'][3:61]"
   ]
  },
  {
   "cell_type": "markdown",
   "metadata": {},
   "source": [
    "Data formatting"
   ]
  },
  {
   "cell_type": "code",
   "execution_count": 8,
   "metadata": {
    "execution": {
     "iopub.execute_input": "2021-03-16T22:13:51.102870Z",
     "iopub.status.busy": "2021-03-16T22:13:51.101614Z",
     "iopub.status.idle": "2021-03-16T22:13:51.103482Z",
     "shell.execute_reply": "2021-03-16T22:13:51.103919Z"
    }
   },
   "outputs": [],
   "source": [
    "zipped = dict(zip(counties, doses))"
   ]
  },
  {
   "cell_type": "code",
   "execution_count": 9,
   "metadata": {
    "execution": {
     "iopub.execute_input": "2021-03-16T22:13:51.110937Z",
     "iopub.status.busy": "2021-03-16T22:13:51.109617Z",
     "iopub.status.idle": "2021-03-16T22:13:51.111555Z",
     "shell.execute_reply": "2021-03-16T22:13:51.111995Z"
    }
   },
   "outputs": [],
   "source": [
    "df = pd.Series(zipped).reset_index()"
   ]
  },
  {
   "cell_type": "code",
   "execution_count": 10,
   "metadata": {
    "execution": {
     "iopub.execute_input": "2021-03-16T22:13:51.116250Z",
     "iopub.status.busy": "2021-03-16T22:13:51.115319Z",
     "iopub.status.idle": "2021-03-16T22:13:51.117716Z",
     "shell.execute_reply": "2021-03-16T22:13:51.117277Z"
    }
   },
   "outputs": [],
   "source": [
    "df.columns = ['location','doses']"
   ]
  },
  {
   "cell_type": "markdown",
   "metadata": {},
   "source": [
    "Grab the overall California total"
   ]
  },
  {
   "cell_type": "code",
   "execution_count": 11,
   "metadata": {
    "execution": {
     "iopub.execute_input": "2021-03-16T22:13:51.123106Z",
     "iopub.status.busy": "2021-03-16T22:13:51.121574Z",
     "iopub.status.idle": "2021-03-16T22:13:51.123704Z",
     "shell.execute_reply": "2021-03-16T22:13:51.124135Z"
    }
   },
   "outputs": [],
   "source": [
    "add = {'location':'California','doses':dataJson[0]['dataValues'][2]}"
   ]
  },
  {
   "cell_type": "code",
   "execution_count": 12,
   "metadata": {
    "execution": {
     "iopub.execute_input": "2021-03-16T22:13:51.133311Z",
     "iopub.status.busy": "2021-03-16T22:13:51.132207Z",
     "iopub.status.idle": "2021-03-16T22:13:51.134435Z",
     "shell.execute_reply": "2021-03-16T22:13:51.133974Z"
    }
   },
   "outputs": [],
   "source": [
    "df = df.append(add, ignore_index=True)"
   ]
  },
  {
   "cell_type": "code",
   "execution_count": 13,
   "metadata": {
    "execution": {
     "iopub.execute_input": "2021-03-16T22:13:51.139842Z",
     "iopub.status.busy": "2021-03-16T22:13:51.138666Z",
     "iopub.status.idle": "2021-03-16T22:13:51.140449Z",
     "shell.execute_reply": "2021-03-16T22:13:51.140886Z"
    }
   },
   "outputs": [],
   "source": [
    "df = df.sort_values(by='location')"
   ]
  },
  {
   "cell_type": "code",
   "execution_count": 14,
   "metadata": {
    "execution": {
     "iopub.execute_input": "2021-03-16T22:13:51.147549Z",
     "iopub.status.busy": "2021-03-16T22:13:51.146320Z",
     "iopub.status.idle": "2021-03-16T22:13:51.148224Z",
     "shell.execute_reply": "2021-03-16T22:13:51.148865Z"
    }
   },
   "outputs": [],
   "source": [
    "df = df[df.location == 'California'].append(df[df.location != 'California']).reset_index(drop=True)"
   ]
  },
  {
   "cell_type": "code",
   "execution_count": null,
   "metadata": {},
   "outputs": [],
   "source": []
  },
  {
   "cell_type": "code",
   "execution_count": 15,
   "metadata": {
    "execution": {
     "iopub.execute_input": "2021-03-16T22:13:51.152914Z",
     "iopub.status.busy": "2021-03-16T22:13:51.152361Z",
     "iopub.status.idle": "2021-03-16T22:13:51.172429Z",
     "shell.execute_reply": "2021-03-16T22:13:51.171434Z"
    }
   },
   "outputs": [],
   "source": [
    "tz = pytz.timezone(\"America/New_York\")"
   ]
  },
  {
   "cell_type": "code",
   "execution_count": 16,
   "metadata": {
    "execution": {
     "iopub.execute_input": "2021-03-16T22:13:51.175933Z",
     "iopub.status.busy": "2021-03-16T22:13:51.175407Z",
     "iopub.status.idle": "2021-03-16T22:13:51.179123Z",
     "shell.execute_reply": "2021-03-16T22:13:51.178608Z"
    }
   },
   "outputs": [],
   "source": [
    "today = datetime.now(tz).date()"
   ]
  },
  {
   "cell_type": "code",
   "execution_count": 17,
   "metadata": {
    "execution": {
     "iopub.execute_input": "2021-03-16T22:13:51.182775Z",
     "iopub.status.busy": "2021-03-16T22:13:51.182213Z",
     "iopub.status.idle": "2021-03-16T22:13:51.185361Z",
     "shell.execute_reply": "2021-03-16T22:13:51.185773Z"
    }
   },
   "outputs": [],
   "source": [
    "data_dir = os.path.join(os.path.abspath(\"\"), \"data\")"
   ]
  },
  {
   "cell_type": "code",
   "execution_count": 18,
   "metadata": {
    "execution": {
     "iopub.execute_input": "2021-03-16T22:13:51.191196Z",
     "iopub.status.busy": "2021-03-16T22:13:51.190101Z",
     "iopub.status.idle": "2021-03-16T22:13:51.193542Z",
     "shell.execute_reply": "2021-03-16T22:13:51.193092Z"
    }
   },
   "outputs": [],
   "source": [
    "df.to_csv(os.path.join(data_dir, f\"{today}.csv\"), index=False)"
   ]
  },
  {
   "cell_type": "code",
   "execution_count": null,
   "metadata": {},
   "outputs": [],
   "source": []
  }
 ],
 "metadata": {
  "kernelspec": {
   "display_name": "Python 3",
   "language": "python",
   "name": "python3"
  },
  "language_info": {
   "codemirror_mode": {
    "name": "ipython",
    "version": 3
   },
   "file_extension": ".py",
   "mimetype": "text/x-python",
   "name": "python",
   "nbconvert_exporter": "python",
   "pygments_lexer": "ipython3",
   "version": "3.8.8"
  }
 },
 "nbformat": 4,
 "nbformat_minor": 4
}
