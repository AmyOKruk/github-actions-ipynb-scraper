{
 "cells": [
  {
   "cell_type": "markdown",
   "metadata": {},
   "source": [
    "# California COVID vaccinations scrape"
   ]
  },
  {
   "cell_type": "markdown",
   "metadata": {},
   "source": [
    "By [Amy O'Kruk](https://twitter.com/amyokruk)"
   ]
  },
  {
   "cell_type": "markdown",
   "metadata": {},
   "source": [
    "Downloads data on vaccine doses administered by county and statewide from a Tableau-powered dashboard from the California Department of Public Health."
   ]
  },
  {
   "cell_type": "code",
   "execution_count": 1,
   "metadata": {
    "execution": {
     "iopub.execute_input": "2021-03-14T12:53:48.879337Z",
     "iopub.status.busy": "2021-03-14T12:53:48.878629Z",
     "iopub.status.idle": "2021-03-14T12:53:49.271106Z",
     "shell.execute_reply": "2021-03-14T12:53:49.270512Z"
    }
   },
   "outputs": [],
   "source": [
    "import pandas as pd\n",
    "import requests\n",
    "from bs4 import BeautifulSoup\n",
    "import json\n",
    "import re\n",
    "import time\n",
    "from time import gmtime, strftime \n",
    "import os\n",
    "import pytz\n",
    "from datetime import datetime"
   ]
  },
  {
   "cell_type": "markdown",
   "metadata": {},
   "source": [
    "Scrape the dashboard page"
   ]
  },
  {
   "cell_type": "code",
   "execution_count": 2,
   "metadata": {
    "execution": {
     "iopub.execute_input": "2021-03-14T12:53:49.277112Z",
     "iopub.status.busy": "2021-03-14T12:53:49.275925Z",
     "iopub.status.idle": "2021-03-14T12:53:49.628907Z",
     "shell.execute_reply": "2021-03-14T12:53:49.629316Z"
    }
   },
   "outputs": [],
   "source": [
    "url = \"https://public.tableau.com/interactive/views/COVID-19VaccineDashboardPublic/Vaccine?:embed=y&:showVizHome=n&:apiID=host0\"\n",
    "\n",
    "r = requests.get(url)\n",
    "soup = BeautifulSoup(r.text, \"html.parser\")"
   ]
  },
  {
   "cell_type": "code",
   "execution_count": 3,
   "metadata": {
    "execution": {
     "iopub.execute_input": "2021-03-14T12:53:49.635959Z",
     "iopub.status.busy": "2021-03-14T12:53:49.635441Z",
     "iopub.status.idle": "2021-03-14T12:53:49.639152Z",
     "shell.execute_reply": "2021-03-14T12:53:49.638736Z"
    }
   },
   "outputs": [],
   "source": [
    "tableauData = json.loads(soup.find(\"textarea\",{\"id\": \"tsConfigContainer\"}).text)"
   ]
  },
  {
   "cell_type": "markdown",
   "metadata": {},
   "source": [
    "Get the link to the Tableau data"
   ]
  },
  {
   "cell_type": "code",
   "execution_count": 4,
   "metadata": {
    "execution": {
     "iopub.execute_input": "2021-03-14T12:53:49.642431Z",
     "iopub.status.busy": "2021-03-14T12:53:49.641922Z",
     "iopub.status.idle": "2021-03-14T12:53:49.645968Z",
     "shell.execute_reply": "2021-03-14T12:53:49.645547Z"
    }
   },
   "outputs": [],
   "source": [
    "dataUrl = f'https://public.tableau.com{tableauData[\"vizql_root\"]}/bootstrapSession/sessions/{tableauData[\"sessionid\"]}'"
   ]
  },
  {
   "cell_type": "code",
   "execution_count": 5,
   "metadata": {
    "execution": {
     "iopub.execute_input": "2021-03-14T12:53:49.651842Z",
     "iopub.status.busy": "2021-03-14T12:53:49.651348Z",
     "iopub.status.idle": "2021-03-14T12:53:49.995169Z",
     "shell.execute_reply": "2021-03-14T12:53:49.994283Z"
    }
   },
   "outputs": [],
   "source": [
    "r = requests.post(dataUrl, data= {\n",
    "    \"sheet_id\": tableauData[\"sheetId\"],\n",
    "})\n",
    "\n",
    "dataReg = re.search('\\d+;({.*})\\d+;({.*})', r.text, re.MULTILINE)\n",
    "data1 = json.loads(dataReg.group(2))\n",
    "\n",
    "dataJson = data1[\"secondaryInfo\"][\"presModelMap\"][\"dataDictionary\"][\"presModelHolder\"][\"genDataDictionaryPresModel\"][\"dataSegments\"][\"0\"][\"dataColumns\"]"
   ]
  },
  {
   "cell_type": "markdown",
   "metadata": {},
   "source": [
    "Isolate what you want"
   ]
  },
  {
   "cell_type": "code",
   "execution_count": 6,
   "metadata": {
    "execution": {
     "iopub.execute_input": "2021-03-14T12:53:50.000688Z",
     "iopub.status.busy": "2021-03-14T12:53:49.999785Z",
     "iopub.status.idle": "2021-03-14T12:53:50.001605Z",
     "shell.execute_reply": "2021-03-14T12:53:50.001188Z"
    }
   },
   "outputs": [],
   "source": [
    "counties = dataJson[2]['dataValues'][:58]"
   ]
  },
  {
   "cell_type": "code",
   "execution_count": 7,
   "metadata": {
    "execution": {
     "iopub.execute_input": "2021-03-14T12:53:50.005709Z",
     "iopub.status.busy": "2021-03-14T12:53:50.004649Z",
     "iopub.status.idle": "2021-03-14T12:53:50.006317Z",
     "shell.execute_reply": "2021-03-14T12:53:50.006782Z"
    }
   },
   "outputs": [],
   "source": [
    "doses = dataJson[0]['dataValues'][3:61]"
   ]
  },
  {
   "cell_type": "markdown",
   "metadata": {},
   "source": [
    "Data formatting"
   ]
  },
  {
   "cell_type": "code",
   "execution_count": 8,
   "metadata": {
    "execution": {
     "iopub.execute_input": "2021-03-14T12:53:50.010716Z",
     "iopub.status.busy": "2021-03-14T12:53:50.009659Z",
     "iopub.status.idle": "2021-03-14T12:53:50.011293Z",
     "shell.execute_reply": "2021-03-14T12:53:50.011721Z"
    }
   },
   "outputs": [],
   "source": [
    "zipped = dict(zip(counties, doses))"
   ]
  },
  {
   "cell_type": "code",
   "execution_count": 9,
   "metadata": {
    "execution": {
     "iopub.execute_input": "2021-03-14T12:53:50.018175Z",
     "iopub.status.busy": "2021-03-14T12:53:50.017047Z",
     "iopub.status.idle": "2021-03-14T12:53:50.018803Z",
     "shell.execute_reply": "2021-03-14T12:53:50.019207Z"
    }
   },
   "outputs": [],
   "source": [
    "df = pd.Series(zipped).reset_index()"
   ]
  },
  {
   "cell_type": "code",
   "execution_count": 10,
   "metadata": {
    "execution": {
     "iopub.execute_input": "2021-03-14T12:53:50.023463Z",
     "iopub.status.busy": "2021-03-14T12:53:50.022328Z",
     "iopub.status.idle": "2021-03-14T12:53:50.024022Z",
     "shell.execute_reply": "2021-03-14T12:53:50.024421Z"
    }
   },
   "outputs": [],
   "source": [
    "df.columns = ['location','doses']"
   ]
  },
  {
   "cell_type": "markdown",
   "metadata": {},
   "source": [
    "Grab the overall California total"
   ]
  },
  {
   "cell_type": "code",
   "execution_count": 11,
   "metadata": {
    "execution": {
     "iopub.execute_input": "2021-03-14T12:53:50.028646Z",
     "iopub.status.busy": "2021-03-14T12:53:50.027478Z",
     "iopub.status.idle": "2021-03-14T12:53:50.029331Z",
     "shell.execute_reply": "2021-03-14T12:53:50.029781Z"
    }
   },
   "outputs": [],
   "source": [
    "add = {'location':'California','doses':dataJson[0]['dataValues'][2]}"
   ]
  },
  {
   "cell_type": "code",
   "execution_count": 12,
   "metadata": {
    "execution": {
     "iopub.execute_input": "2021-03-14T12:53:50.036500Z",
     "iopub.status.busy": "2021-03-14T12:53:50.035466Z",
     "iopub.status.idle": "2021-03-14T12:53:50.037074Z",
     "shell.execute_reply": "2021-03-14T12:53:50.037458Z"
    }
   },
   "outputs": [],
   "source": [
    "df = df.append(add, ignore_index=True)"
   ]
  },
  {
   "cell_type": "code",
   "execution_count": 13,
   "metadata": {
    "execution": {
     "iopub.execute_input": "2021-03-14T12:53:50.041776Z",
     "iopub.status.busy": "2021-03-14T12:53:50.040768Z",
     "iopub.status.idle": "2021-03-14T12:53:50.042986Z",
     "shell.execute_reply": "2021-03-14T12:53:50.042551Z"
    }
   },
   "outputs": [],
   "source": [
    "df = df.sort_values(by='location')"
   ]
  },
  {
   "cell_type": "code",
   "execution_count": 14,
   "metadata": {
    "execution": {
     "iopub.execute_input": "2021-03-14T12:53:50.048741Z",
     "iopub.status.busy": "2021-03-14T12:53:50.047814Z",
     "iopub.status.idle": "2021-03-14T12:53:50.049635Z",
     "shell.execute_reply": "2021-03-14T12:53:50.050021Z"
    }
   },
   "outputs": [],
   "source": [
    "df = df[df.location == 'California'].append(df[df.location != 'California']).reset_index(drop=True)"
   ]
  },
  {
   "cell_type": "code",
   "execution_count": null,
   "metadata": {},
   "outputs": [],
   "source": []
  },
  {
   "cell_type": "code",
   "execution_count": 15,
   "metadata": {
    "execution": {
     "iopub.execute_input": "2021-03-14T12:53:50.053177Z",
     "iopub.status.busy": "2021-03-14T12:53:50.052686Z",
     "iopub.status.idle": "2021-03-14T12:53:50.069986Z",
     "shell.execute_reply": "2021-03-14T12:53:50.069323Z"
    }
   },
   "outputs": [],
   "source": [
    "tz = pytz.timezone(\"America/New_York\")"
   ]
  },
  {
   "cell_type": "code",
   "execution_count": 16,
   "metadata": {
    "execution": {
     "iopub.execute_input": "2021-03-14T12:53:50.073942Z",
     "iopub.status.busy": "2021-03-14T12:53:50.072818Z",
     "iopub.status.idle": "2021-03-14T12:53:50.074520Z",
     "shell.execute_reply": "2021-03-14T12:53:50.075047Z"
    }
   },
   "outputs": [],
   "source": [
    "today = datetime.now(tz).date()"
   ]
  },
  {
   "cell_type": "code",
   "execution_count": 17,
   "metadata": {
    "execution": {
     "iopub.execute_input": "2021-03-14T12:53:50.079037Z",
     "iopub.status.busy": "2021-03-14T12:53:50.077915Z",
     "iopub.status.idle": "2021-03-14T12:53:50.079596Z",
     "shell.execute_reply": "2021-03-14T12:53:50.079945Z"
    }
   },
   "outputs": [],
   "source": [
    "data_dir = os.path.join(os.path.abspath(\"\"), \"data\")"
   ]
  },
  {
   "cell_type": "code",
   "execution_count": 18,
   "metadata": {
    "execution": {
     "iopub.execute_input": "2021-03-14T12:53:50.083686Z",
     "iopub.status.busy": "2021-03-14T12:53:50.083032Z",
     "iopub.status.idle": "2021-03-14T12:53:50.086776Z",
     "shell.execute_reply": "2021-03-14T12:53:50.087144Z"
    }
   },
   "outputs": [],
   "source": [
    "df.to_csv(os.path.join(data_dir, f\"{today}.csv\"), index=False)"
   ]
  },
  {
   "cell_type": "code",
   "execution_count": null,
   "metadata": {},
   "outputs": [],
   "source": []
  }
 ],
 "metadata": {
  "kernelspec": {
   "display_name": "Python 3",
   "language": "python",
   "name": "python3"
  },
  "language_info": {
   "codemirror_mode": {
    "name": "ipython",
    "version": 3
   },
   "file_extension": ".py",
   "mimetype": "text/x-python",
   "name": "python",
   "nbconvert_exporter": "python",
   "pygments_lexer": "ipython3",
   "version": "3.8.8"
  }
 },
 "nbformat": 4,
 "nbformat_minor": 4
}
