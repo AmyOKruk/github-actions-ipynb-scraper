{
 "cells": [
  {
   "cell_type": "markdown",
   "metadata": {},
   "source": [
    "# California COVID vaccinations scrape"
   ]
  },
  {
   "cell_type": "markdown",
   "metadata": {},
   "source": [
    "By [Amy O'Kruk](https://twitter.com/amyokruk)"
   ]
  },
  {
   "cell_type": "markdown",
   "metadata": {},
   "source": [
    "Downloads data on vaccine doses administered by county and statewide from a Tableau-powered dashboard from the California Department of Public Health."
   ]
  },
  {
   "cell_type": "code",
   "execution_count": 1,
   "metadata": {
    "execution": {
     "iopub.execute_input": "2021-03-12T22:46:28.082044Z",
     "iopub.status.busy": "2021-03-12T22:46:28.081431Z",
     "iopub.status.idle": "2021-03-12T22:46:28.438552Z",
     "shell.execute_reply": "2021-03-12T22:46:28.437964Z"
    }
   },
   "outputs": [],
   "source": [
    "import pandas as pd\n",
    "import requests\n",
    "from bs4 import BeautifulSoup\n",
    "import json\n",
    "import re\n",
    "import time\n",
    "from time import gmtime, strftime \n",
    "import os\n",
    "import pytz\n",
    "from datetime import datetime"
   ]
  },
  {
   "cell_type": "markdown",
   "metadata": {},
   "source": [
    "Scrape the dashboard page"
   ]
  },
  {
   "cell_type": "code",
   "execution_count": 2,
   "metadata": {
    "execution": {
     "iopub.execute_input": "2021-03-12T22:46:28.444680Z",
     "iopub.status.busy": "2021-03-12T22:46:28.442497Z",
     "iopub.status.idle": "2021-03-12T22:46:28.882368Z",
     "shell.execute_reply": "2021-03-12T22:46:28.881862Z"
    }
   },
   "outputs": [],
   "source": [
    "url = \"https://public.tableau.com/interactive/views/COVID-19VaccineDashboardPublic/Vaccine?:embed=y&:showVizHome=n&:apiID=host0\"\n",
    "\n",
    "r = requests.get(url)\n",
    "soup = BeautifulSoup(r.text, \"html.parser\")"
   ]
  },
  {
   "cell_type": "code",
   "execution_count": 3,
   "metadata": {
    "execution": {
     "iopub.execute_input": "2021-03-12T22:46:28.887066Z",
     "iopub.status.busy": "2021-03-12T22:46:28.886547Z",
     "iopub.status.idle": "2021-03-12T22:46:28.889904Z",
     "shell.execute_reply": "2021-03-12T22:46:28.889468Z"
    }
   },
   "outputs": [],
   "source": [
    "tableauData = json.loads(soup.find(\"textarea\",{\"id\": \"tsConfigContainer\"}).text)"
   ]
  },
  {
   "cell_type": "markdown",
   "metadata": {},
   "source": [
    "Get the link to the Tableau data"
   ]
  },
  {
   "cell_type": "code",
   "execution_count": 4,
   "metadata": {
    "execution": {
     "iopub.execute_input": "2021-03-12T22:46:28.894143Z",
     "iopub.status.busy": "2021-03-12T22:46:28.892932Z",
     "iopub.status.idle": "2021-03-12T22:46:28.894731Z",
     "shell.execute_reply": "2021-03-12T22:46:28.895126Z"
    }
   },
   "outputs": [],
   "source": [
    "dataUrl = f'https://public.tableau.com{tableauData[\"vizql_root\"]}/bootstrapSession/sessions/{tableauData[\"sessionid\"]}'"
   ]
  },
  {
   "cell_type": "code",
   "execution_count": 5,
   "metadata": {
    "execution": {
     "iopub.execute_input": "2021-03-12T22:46:28.901576Z",
     "iopub.status.busy": "2021-03-12T22:46:28.901059Z",
     "iopub.status.idle": "2021-03-12T22:46:29.125345Z",
     "shell.execute_reply": "2021-03-12T22:46:29.124766Z"
    }
   },
   "outputs": [],
   "source": [
    "r = requests.post(dataUrl, data= {\n",
    "    \"sheet_id\": tableauData[\"sheetId\"],\n",
    "})\n",
    "\n",
    "dataReg = re.search('\\d+;({.*})\\d+;({.*})', r.text, re.MULTILINE)\n",
    "data1 = json.loads(dataReg.group(2))\n",
    "\n",
    "dataJson = data1[\"secondaryInfo\"][\"presModelMap\"][\"dataDictionary\"][\"presModelHolder\"][\"genDataDictionaryPresModel\"][\"dataSegments\"][\"0\"][\"dataColumns\"]"
   ]
  },
  {
   "cell_type": "markdown",
   "metadata": {},
   "source": [
    "Isolate what you want"
   ]
  },
  {
   "cell_type": "code",
   "execution_count": 6,
   "metadata": {
    "execution": {
     "iopub.execute_input": "2021-03-12T22:46:29.130148Z",
     "iopub.status.busy": "2021-03-12T22:46:29.128732Z",
     "iopub.status.idle": "2021-03-12T22:46:29.130806Z",
     "shell.execute_reply": "2021-03-12T22:46:29.131285Z"
    }
   },
   "outputs": [],
   "source": [
    "counties = dataJson[2]['dataValues'][:58]"
   ]
  },
  {
   "cell_type": "code",
   "execution_count": 7,
   "metadata": {
    "execution": {
     "iopub.execute_input": "2021-03-12T22:46:29.135215Z",
     "iopub.status.busy": "2021-03-12T22:46:29.134361Z",
     "iopub.status.idle": "2021-03-12T22:46:29.136123Z",
     "shell.execute_reply": "2021-03-12T22:46:29.136543Z"
    }
   },
   "outputs": [],
   "source": [
    "doses = dataJson[0]['dataValues'][3:61]"
   ]
  },
  {
   "cell_type": "markdown",
   "metadata": {},
   "source": [
    "Data formatting"
   ]
  },
  {
   "cell_type": "code",
   "execution_count": 8,
   "metadata": {
    "execution": {
     "iopub.execute_input": "2021-03-12T22:46:29.140606Z",
     "iopub.status.busy": "2021-03-12T22:46:29.139424Z",
     "iopub.status.idle": "2021-03-12T22:46:29.141236Z",
     "shell.execute_reply": "2021-03-12T22:46:29.141674Z"
    }
   },
   "outputs": [],
   "source": [
    "zipped = dict(zip(counties, doses))"
   ]
  },
  {
   "cell_type": "code",
   "execution_count": 9,
   "metadata": {
    "execution": {
     "iopub.execute_input": "2021-03-12T22:46:29.147640Z",
     "iopub.status.busy": "2021-03-12T22:46:29.146606Z",
     "iopub.status.idle": "2021-03-12T22:46:29.148321Z",
     "shell.execute_reply": "2021-03-12T22:46:29.148760Z"
    }
   },
   "outputs": [],
   "source": [
    "df = pd.Series(zipped).reset_index()"
   ]
  },
  {
   "cell_type": "code",
   "execution_count": 10,
   "metadata": {
    "execution": {
     "iopub.execute_input": "2021-03-12T22:46:29.152996Z",
     "iopub.status.busy": "2021-03-12T22:46:29.151900Z",
     "iopub.status.idle": "2021-03-12T22:46:29.153659Z",
     "shell.execute_reply": "2021-03-12T22:46:29.154077Z"
    }
   },
   "outputs": [],
   "source": [
    "df.columns = ['location','doses']"
   ]
  },
  {
   "cell_type": "markdown",
   "metadata": {},
   "source": [
    "Grab the overall California total"
   ]
  },
  {
   "cell_type": "code",
   "execution_count": 11,
   "metadata": {
    "execution": {
     "iopub.execute_input": "2021-03-12T22:46:29.158378Z",
     "iopub.status.busy": "2021-03-12T22:46:29.157258Z",
     "iopub.status.idle": "2021-03-12T22:46:29.158960Z",
     "shell.execute_reply": "2021-03-12T22:46:29.159367Z"
    }
   },
   "outputs": [],
   "source": [
    "add = {'location':'California','doses':dataJson[0]['dataValues'][2]}"
   ]
  },
  {
   "cell_type": "code",
   "execution_count": 12,
   "metadata": {
    "execution": {
     "iopub.execute_input": "2021-03-12T22:46:29.165910Z",
     "iopub.status.busy": "2021-03-12T22:46:29.164864Z",
     "iopub.status.idle": "2021-03-12T22:46:29.167117Z",
     "shell.execute_reply": "2021-03-12T22:46:29.166662Z"
    }
   },
   "outputs": [],
   "source": [
    "df = df.append(add, ignore_index=True)"
   ]
  },
  {
   "cell_type": "code",
   "execution_count": 13,
   "metadata": {
    "execution": {
     "iopub.execute_input": "2021-03-12T22:46:29.171910Z",
     "iopub.status.busy": "2021-03-12T22:46:29.170760Z",
     "iopub.status.idle": "2021-03-12T22:46:29.172526Z",
     "shell.execute_reply": "2021-03-12T22:46:29.172959Z"
    }
   },
   "outputs": [],
   "source": [
    "df = df.sort_values(by='location')"
   ]
  },
  {
   "cell_type": "code",
   "execution_count": 14,
   "metadata": {
    "execution": {
     "iopub.execute_input": "2021-03-12T22:46:29.178924Z",
     "iopub.status.busy": "2021-03-12T22:46:29.177981Z",
     "iopub.status.idle": "2021-03-12T22:46:29.179543Z",
     "shell.execute_reply": "2021-03-12T22:46:29.179941Z"
    }
   },
   "outputs": [],
   "source": [
    "df = df[df.location == 'California'].append(df[df.location != 'California']).reset_index(drop=True)"
   ]
  },
  {
   "cell_type": "code",
   "execution_count": null,
   "metadata": {},
   "outputs": [],
   "source": []
  },
  {
   "cell_type": "code",
   "execution_count": 15,
   "metadata": {
    "execution": {
     "iopub.execute_input": "2021-03-12T22:46:29.182976Z",
     "iopub.status.busy": "2021-03-12T22:46:29.182489Z",
     "iopub.status.idle": "2021-03-12T22:46:29.197779Z",
     "shell.execute_reply": "2021-03-12T22:46:29.198622Z"
    }
   },
   "outputs": [],
   "source": [
    "tz = pytz.timezone(\"America/New_York\")"
   ]
  },
  {
   "cell_type": "code",
   "execution_count": 16,
   "metadata": {
    "execution": {
     "iopub.execute_input": "2021-03-12T22:46:29.201955Z",
     "iopub.status.busy": "2021-03-12T22:46:29.201434Z",
     "iopub.status.idle": "2021-03-12T22:46:29.203052Z",
     "shell.execute_reply": "2021-03-12T22:46:29.203452Z"
    }
   },
   "outputs": [],
   "source": [
    "today = datetime.now(tz).date()"
   ]
  },
  {
   "cell_type": "code",
   "execution_count": 17,
   "metadata": {
    "execution": {
     "iopub.execute_input": "2021-03-12T22:46:29.207638Z",
     "iopub.status.busy": "2021-03-12T22:46:29.206530Z",
     "iopub.status.idle": "2021-03-12T22:46:29.208235Z",
     "shell.execute_reply": "2021-03-12T22:46:29.208662Z"
    }
   },
   "outputs": [],
   "source": [
    "data_dir = os.path.join(os.path.abspath(\"\"), \"data\")"
   ]
  },
  {
   "cell_type": "code",
   "execution_count": 18,
   "metadata": {
    "execution": {
     "iopub.execute_input": "2021-03-12T22:46:29.212737Z",
     "iopub.status.busy": "2021-03-12T22:46:29.211663Z",
     "iopub.status.idle": "2021-03-12T22:46:29.216128Z",
     "shell.execute_reply": "2021-03-12T22:46:29.215593Z"
    }
   },
   "outputs": [],
   "source": [
    "df.to_csv(os.path.join(data_dir, f\"{today}.csv\"), index=False)"
   ]
  },
  {
   "cell_type": "code",
   "execution_count": null,
   "metadata": {},
   "outputs": [],
   "source": []
  }
 ],
 "metadata": {
  "kernelspec": {
   "display_name": "Python 3",
   "language": "python",
   "name": "python3"
  },
  "language_info": {
   "codemirror_mode": {
    "name": "ipython",
    "version": 3
   },
   "file_extension": ".py",
   "mimetype": "text/x-python",
   "name": "python",
   "nbconvert_exporter": "python",
   "pygments_lexer": "ipython3",
   "version": "3.8.8"
  }
 },
 "nbformat": 4,
 "nbformat_minor": 4
}
