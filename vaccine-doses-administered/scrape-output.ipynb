{
 "cells": [
  {
   "cell_type": "markdown",
   "metadata": {},
   "source": [
    "# California COVID vaccinations scrape"
   ]
  },
  {
   "cell_type": "markdown",
   "metadata": {},
   "source": [
    "By [Amy O'Kruk](https://twitter.com/amyokruk)"
   ]
  },
  {
   "cell_type": "markdown",
   "metadata": {},
   "source": [
    "Downloads data on vaccine doses administered by county and statewide from a Tableau-powered dashboard from the California Department of Public Health."
   ]
  },
  {
   "cell_type": "code",
   "execution_count": 1,
   "metadata": {
    "execution": {
     "iopub.execute_input": "2021-03-24T05:03:55.397371Z",
     "iopub.status.busy": "2021-03-24T05:03:55.396747Z",
     "iopub.status.idle": "2021-03-24T05:03:55.772099Z",
     "shell.execute_reply": "2021-03-24T05:03:55.771170Z"
    }
   },
   "outputs": [],
   "source": [
    "import pandas as pd\n",
    "import requests\n",
    "from bs4 import BeautifulSoup\n",
    "import json\n",
    "import re\n",
    "import time\n",
    "from time import gmtime, strftime \n",
    "import os\n",
    "import pytz\n",
    "from datetime import datetime"
   ]
  },
  {
   "cell_type": "markdown",
   "metadata": {},
   "source": [
    "Scrape the dashboard page"
   ]
  },
  {
   "cell_type": "code",
   "execution_count": 2,
   "metadata": {
    "execution": {
     "iopub.execute_input": "2021-03-24T05:03:55.779343Z",
     "iopub.status.busy": "2021-03-24T05:03:55.778792Z",
     "iopub.status.idle": "2021-03-24T05:03:56.256179Z",
     "shell.execute_reply": "2021-03-24T05:03:56.256636Z"
    }
   },
   "outputs": [],
   "source": [
    "url = \"https://public.tableau.com/interactive/views/COVID-19VaccineDashboardPublic/Vaccine?:embed=y&:showVizHome=n&:apiID=host0\"\n",
    "\n",
    "r = requests.get(url)\n",
    "soup = BeautifulSoup(r.text, \"html.parser\")"
   ]
  },
  {
   "cell_type": "code",
   "execution_count": 3,
   "metadata": {
    "execution": {
     "iopub.execute_input": "2021-03-24T05:03:56.262610Z",
     "iopub.status.busy": "2021-03-24T05:03:56.261253Z",
     "iopub.status.idle": "2021-03-24T05:03:56.263241Z",
     "shell.execute_reply": "2021-03-24T05:03:56.263702Z"
    }
   },
   "outputs": [],
   "source": [
    "tableauData = json.loads(soup.find(\"textarea\",{\"id\": \"tsConfigContainer\"}).text)"
   ]
  },
  {
   "cell_type": "markdown",
   "metadata": {},
   "source": [
    "Get the link to the Tableau data"
   ]
  },
  {
   "cell_type": "code",
   "execution_count": 4,
   "metadata": {
    "execution": {
     "iopub.execute_input": "2021-03-24T05:03:56.268004Z",
     "iopub.status.busy": "2021-03-24T05:03:56.266892Z",
     "iopub.status.idle": "2021-03-24T05:03:56.268598Z",
     "shell.execute_reply": "2021-03-24T05:03:56.269044Z"
    }
   },
   "outputs": [],
   "source": [
    "dataUrl = f'https://public.tableau.com{tableauData[\"vizql_root\"]}/bootstrapSession/sessions/{tableauData[\"sessionid\"]}'"
   ]
  },
  {
   "cell_type": "code",
   "execution_count": 5,
   "metadata": {
    "execution": {
     "iopub.execute_input": "2021-03-24T05:03:56.275373Z",
     "iopub.status.busy": "2021-03-24T05:03:56.274825Z",
     "iopub.status.idle": "2021-03-24T05:03:56.710503Z",
     "shell.execute_reply": "2021-03-24T05:03:56.709661Z"
    }
   },
   "outputs": [],
   "source": [
    "r = requests.post(dataUrl, data= {\n",
    "    \"sheet_id\": tableauData[\"sheetId\"],\n",
    "})\n",
    "\n",
    "dataReg = re.search('\\d+;({.*})\\d+;({.*})', r.text, re.MULTILINE)\n",
    "data1 = json.loads(dataReg.group(2))\n",
    "\n",
    "dataJson = data1[\"secondaryInfo\"][\"presModelMap\"][\"dataDictionary\"][\"presModelHolder\"][\"genDataDictionaryPresModel\"][\"dataSegments\"][\"0\"][\"dataColumns\"]"
   ]
  },
  {
   "cell_type": "markdown",
   "metadata": {},
   "source": [
    "Isolate what you want"
   ]
  },
  {
   "cell_type": "code",
   "execution_count": 6,
   "metadata": {
    "execution": {
     "iopub.execute_input": "2021-03-24T05:03:56.715338Z",
     "iopub.status.busy": "2021-03-24T05:03:56.714074Z",
     "iopub.status.idle": "2021-03-24T05:03:56.715934Z",
     "shell.execute_reply": "2021-03-24T05:03:56.716361Z"
    }
   },
   "outputs": [],
   "source": [
    "counties = dataJson[2]['dataValues'][:58]"
   ]
  },
  {
   "cell_type": "code",
   "execution_count": 7,
   "metadata": {
    "execution": {
     "iopub.execute_input": "2021-03-24T05:03:56.720667Z",
     "iopub.status.busy": "2021-03-24T05:03:56.719520Z",
     "iopub.status.idle": "2021-03-24T05:03:56.721345Z",
     "shell.execute_reply": "2021-03-24T05:03:56.721776Z"
    }
   },
   "outputs": [],
   "source": [
    "doses = dataJson[0]['dataValues'][3:61]"
   ]
  },
  {
   "cell_type": "markdown",
   "metadata": {},
   "source": [
    "Data formatting"
   ]
  },
  {
   "cell_type": "code",
   "execution_count": 8,
   "metadata": {
    "execution": {
     "iopub.execute_input": "2021-03-24T05:03:56.726059Z",
     "iopub.status.busy": "2021-03-24T05:03:56.724841Z",
     "iopub.status.idle": "2021-03-24T05:03:56.726652Z",
     "shell.execute_reply": "2021-03-24T05:03:56.727071Z"
    }
   },
   "outputs": [],
   "source": [
    "zipped = dict(zip(counties, doses))"
   ]
  },
  {
   "cell_type": "code",
   "execution_count": 9,
   "metadata": {
    "execution": {
     "iopub.execute_input": "2021-03-24T05:03:56.733540Z",
     "iopub.status.busy": "2021-03-24T05:03:56.732318Z",
     "iopub.status.idle": "2021-03-24T05:03:56.734190Z",
     "shell.execute_reply": "2021-03-24T05:03:56.734612Z"
    }
   },
   "outputs": [],
   "source": [
    "df = pd.Series(zipped).reset_index()"
   ]
  },
  {
   "cell_type": "code",
   "execution_count": 10,
   "metadata": {
    "execution": {
     "iopub.execute_input": "2021-03-24T05:03:56.738972Z",
     "iopub.status.busy": "2021-03-24T05:03:56.737798Z",
     "iopub.status.idle": "2021-03-24T05:03:56.739625Z",
     "shell.execute_reply": "2021-03-24T05:03:56.740050Z"
    }
   },
   "outputs": [],
   "source": [
    "df.columns = ['location','doses']"
   ]
  },
  {
   "cell_type": "markdown",
   "metadata": {},
   "source": [
    "Grab the overall California total"
   ]
  },
  {
   "cell_type": "code",
   "execution_count": 11,
   "metadata": {
    "execution": {
     "iopub.execute_input": "2021-03-24T05:03:56.744314Z",
     "iopub.status.busy": "2021-03-24T05:03:56.743211Z",
     "iopub.status.idle": "2021-03-24T05:03:56.744940Z",
     "shell.execute_reply": "2021-03-24T05:03:56.745361Z"
    }
   },
   "outputs": [],
   "source": [
    "add = {'location':'California','doses':dataJson[0]['dataValues'][2]}"
   ]
  },
  {
   "cell_type": "code",
   "execution_count": 12,
   "metadata": {
    "execution": {
     "iopub.execute_input": "2021-03-24T05:03:56.752178Z",
     "iopub.status.busy": "2021-03-24T05:03:56.751060Z",
     "iopub.status.idle": "2021-03-24T05:03:56.752767Z",
     "shell.execute_reply": "2021-03-24T05:03:56.753229Z"
    }
   },
   "outputs": [],
   "source": [
    "df = df.append(add, ignore_index=True)"
   ]
  },
  {
   "cell_type": "code",
   "execution_count": 13,
   "metadata": {
    "execution": {
     "iopub.execute_input": "2021-03-24T05:03:56.758033Z",
     "iopub.status.busy": "2021-03-24T05:03:56.756835Z",
     "iopub.status.idle": "2021-03-24T05:03:56.758685Z",
     "shell.execute_reply": "2021-03-24T05:03:56.759108Z"
    }
   },
   "outputs": [],
   "source": [
    "df = df.sort_values(by='location')"
   ]
  },
  {
   "cell_type": "code",
   "execution_count": 14,
   "metadata": {
    "execution": {
     "iopub.execute_input": "2021-03-24T05:03:56.765520Z",
     "iopub.status.busy": "2021-03-24T05:03:56.764313Z",
     "iopub.status.idle": "2021-03-24T05:03:56.766121Z",
     "shell.execute_reply": "2021-03-24T05:03:56.766545Z"
    }
   },
   "outputs": [],
   "source": [
    "df = df[df.location == 'California'].append(df[df.location != 'California']).reset_index(drop=True)"
   ]
  },
  {
   "cell_type": "code",
   "execution_count": null,
   "metadata": {},
   "outputs": [],
   "source": []
  },
  {
   "cell_type": "code",
   "execution_count": 15,
   "metadata": {
    "execution": {
     "iopub.execute_input": "2021-03-24T05:03:56.769991Z",
     "iopub.status.busy": "2021-03-24T05:03:56.769483Z",
     "iopub.status.idle": "2021-03-24T05:03:56.786753Z",
     "shell.execute_reply": "2021-03-24T05:03:56.786253Z"
    }
   },
   "outputs": [],
   "source": [
    "tz = pytz.timezone(\"America/New_York\")"
   ]
  },
  {
   "cell_type": "code",
   "execution_count": 16,
   "metadata": {
    "execution": {
     "iopub.execute_input": "2021-03-24T05:03:56.791024Z",
     "iopub.status.busy": "2021-03-24T05:03:56.789832Z",
     "iopub.status.idle": "2021-03-24T05:03:56.791622Z",
     "shell.execute_reply": "2021-03-24T05:03:56.792047Z"
    }
   },
   "outputs": [],
   "source": [
    "today = datetime.now(tz).date()"
   ]
  },
  {
   "cell_type": "code",
   "execution_count": 17,
   "metadata": {
    "execution": {
     "iopub.execute_input": "2021-03-24T05:03:56.796407Z",
     "iopub.status.busy": "2021-03-24T05:03:56.795235Z",
     "iopub.status.idle": "2021-03-24T05:03:56.797078Z",
     "shell.execute_reply": "2021-03-24T05:03:56.797504Z"
    }
   },
   "outputs": [],
   "source": [
    "data_dir = os.path.join(os.path.abspath(\"\"), \"data\")"
   ]
  },
  {
   "cell_type": "code",
   "execution_count": 18,
   "metadata": {
    "execution": {
     "iopub.execute_input": "2021-03-24T05:03:56.801815Z",
     "iopub.status.busy": "2021-03-24T05:03:56.800661Z",
     "iopub.status.idle": "2021-03-24T05:03:56.805114Z",
     "shell.execute_reply": "2021-03-24T05:03:56.804658Z"
    }
   },
   "outputs": [],
   "source": [
    "df.to_csv(os.path.join(data_dir, f\"{today}.csv\"), index=False)"
   ]
  },
  {
   "cell_type": "code",
   "execution_count": null,
   "metadata": {},
   "outputs": [],
   "source": []
  }
 ],
 "metadata": {
  "kernelspec": {
   "display_name": "Python 3",
   "language": "python",
   "name": "python3"
  },
  "language_info": {
   "codemirror_mode": {
    "name": "ipython",
    "version": 3
   },
   "file_extension": ".py",
   "mimetype": "text/x-python",
   "name": "python",
   "nbconvert_exporter": "python",
   "pygments_lexer": "ipython3",
   "version": "3.8.8"
  }
 },
 "nbformat": 4,
 "nbformat_minor": 4
}
