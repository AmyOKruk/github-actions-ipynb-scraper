{
 "cells": [
  {
   "cell_type": "markdown",
   "metadata": {},
   "source": [
    "# California COVID vaccinations scrape"
   ]
  },
  {
   "cell_type": "markdown",
   "metadata": {},
   "source": [
    "By [Amy O'Kruk](https://twitter.com/amyokruk)"
   ]
  },
  {
   "cell_type": "markdown",
   "metadata": {},
   "source": [
    "Downloads data on vaccine doses administered by county and statewide from a Tableau-powered dashboard from the California Department of Public Health."
   ]
  },
  {
   "cell_type": "code",
   "execution_count": 1,
   "metadata": {
    "execution": {
     "iopub.execute_input": "2021-03-21T09:13:53.513310Z",
     "iopub.status.busy": "2021-03-21T09:13:53.512440Z",
     "iopub.status.idle": "2021-03-21T09:13:53.968905Z",
     "shell.execute_reply": "2021-03-21T09:13:53.969435Z"
    }
   },
   "outputs": [],
   "source": [
    "import pandas as pd\n",
    "import requests\n",
    "from bs4 import BeautifulSoup\n",
    "import json\n",
    "import re\n",
    "import time\n",
    "from time import gmtime, strftime \n",
    "import os\n",
    "import pytz\n",
    "from datetime import datetime"
   ]
  },
  {
   "cell_type": "markdown",
   "metadata": {},
   "source": [
    "Scrape the dashboard page"
   ]
  },
  {
   "cell_type": "code",
   "execution_count": 2,
   "metadata": {
    "execution": {
     "iopub.execute_input": "2021-03-21T09:13:53.978858Z",
     "iopub.status.busy": "2021-03-21T09:13:53.977937Z",
     "iopub.status.idle": "2021-03-21T09:13:54.238554Z",
     "shell.execute_reply": "2021-03-21T09:13:54.238023Z"
    }
   },
   "outputs": [],
   "source": [
    "url = \"https://public.tableau.com/interactive/views/COVID-19VaccineDashboardPublic/Vaccine?:embed=y&:showVizHome=n&:apiID=host0\"\n",
    "\n",
    "r = requests.get(url)\n",
    "soup = BeautifulSoup(r.text, \"html.parser\")"
   ]
  },
  {
   "cell_type": "code",
   "execution_count": 3,
   "metadata": {
    "execution": {
     "iopub.execute_input": "2021-03-21T09:13:54.243089Z",
     "iopub.status.busy": "2021-03-21T09:13:54.242507Z",
     "iopub.status.idle": "2021-03-21T09:13:54.246352Z",
     "shell.execute_reply": "2021-03-21T09:13:54.245928Z"
    }
   },
   "outputs": [],
   "source": [
    "tableauData = json.loads(soup.find(\"textarea\",{\"id\": \"tsConfigContainer\"}).text)"
   ]
  },
  {
   "cell_type": "markdown",
   "metadata": {},
   "source": [
    "Get the link to the Tableau data"
   ]
  },
  {
   "cell_type": "code",
   "execution_count": 4,
   "metadata": {
    "execution": {
     "iopub.execute_input": "2021-03-21T09:13:54.250206Z",
     "iopub.status.busy": "2021-03-21T09:13:54.249599Z",
     "iopub.status.idle": "2021-03-21T09:13:54.253259Z",
     "shell.execute_reply": "2021-03-21T09:13:54.253645Z"
    }
   },
   "outputs": [],
   "source": [
    "dataUrl = f'https://public.tableau.com{tableauData[\"vizql_root\"]}/bootstrapSession/sessions/{tableauData[\"sessionid\"]}'"
   ]
  },
  {
   "cell_type": "code",
   "execution_count": 5,
   "metadata": {
    "execution": {
     "iopub.execute_input": "2021-03-21T09:13:54.260770Z",
     "iopub.status.busy": "2021-03-21T09:13:54.260207Z",
     "iopub.status.idle": "2021-03-21T09:13:54.471587Z",
     "shell.execute_reply": "2021-03-21T09:13:54.471107Z"
    }
   },
   "outputs": [],
   "source": [
    "r = requests.post(dataUrl, data= {\n",
    "    \"sheet_id\": tableauData[\"sheetId\"],\n",
    "})\n",
    "\n",
    "dataReg = re.search('\\d+;({.*})\\d+;({.*})', r.text, re.MULTILINE)\n",
    "data1 = json.loads(dataReg.group(2))\n",
    "\n",
    "dataJson = data1[\"secondaryInfo\"][\"presModelMap\"][\"dataDictionary\"][\"presModelHolder\"][\"genDataDictionaryPresModel\"][\"dataSegments\"][\"0\"][\"dataColumns\"]"
   ]
  },
  {
   "cell_type": "markdown",
   "metadata": {},
   "source": [
    "Isolate what you want"
   ]
  },
  {
   "cell_type": "code",
   "execution_count": 6,
   "metadata": {
    "execution": {
     "iopub.execute_input": "2021-03-21T09:13:54.475681Z",
     "iopub.status.busy": "2021-03-21T09:13:54.475152Z",
     "iopub.status.idle": "2021-03-21T09:13:54.479045Z",
     "shell.execute_reply": "2021-03-21T09:13:54.479562Z"
    }
   },
   "outputs": [],
   "source": [
    "counties = dataJson[2]['dataValues'][:58]"
   ]
  },
  {
   "cell_type": "code",
   "execution_count": 7,
   "metadata": {
    "execution": {
     "iopub.execute_input": "2021-03-21T09:13:54.484716Z",
     "iopub.status.busy": "2021-03-21T09:13:54.483272Z",
     "iopub.status.idle": "2021-03-21T09:13:54.485490Z",
     "shell.execute_reply": "2021-03-21T09:13:54.486049Z"
    }
   },
   "outputs": [],
   "source": [
    "doses = dataJson[0]['dataValues'][3:61]"
   ]
  },
  {
   "cell_type": "markdown",
   "metadata": {},
   "source": [
    "Data formatting"
   ]
  },
  {
   "cell_type": "code",
   "execution_count": 8,
   "metadata": {
    "execution": {
     "iopub.execute_input": "2021-03-21T09:13:54.491181Z",
     "iopub.status.busy": "2021-03-21T09:13:54.489539Z",
     "iopub.status.idle": "2021-03-21T09:13:54.491798Z",
     "shell.execute_reply": "2021-03-21T09:13:54.492243Z"
    }
   },
   "outputs": [],
   "source": [
    "zipped = dict(zip(counties, doses))"
   ]
  },
  {
   "cell_type": "code",
   "execution_count": 9,
   "metadata": {
    "execution": {
     "iopub.execute_input": "2021-03-21T09:13:54.500613Z",
     "iopub.status.busy": "2021-03-21T09:13:54.498484Z",
     "iopub.status.idle": "2021-03-21T09:13:54.501240Z",
     "shell.execute_reply": "2021-03-21T09:13:54.501689Z"
    }
   },
   "outputs": [],
   "source": [
    "df = pd.Series(zipped).reset_index()"
   ]
  },
  {
   "cell_type": "code",
   "execution_count": 10,
   "metadata": {
    "execution": {
     "iopub.execute_input": "2021-03-21T09:13:54.506283Z",
     "iopub.status.busy": "2021-03-21T09:13:54.504901Z",
     "iopub.status.idle": "2021-03-21T09:13:54.506906Z",
     "shell.execute_reply": "2021-03-21T09:13:54.507356Z"
    }
   },
   "outputs": [],
   "source": [
    "df.columns = ['location','doses']"
   ]
  },
  {
   "cell_type": "markdown",
   "metadata": {},
   "source": [
    "Grab the overall California total"
   ]
  },
  {
   "cell_type": "code",
   "execution_count": 11,
   "metadata": {
    "execution": {
     "iopub.execute_input": "2021-03-21T09:13:54.512626Z",
     "iopub.status.busy": "2021-03-21T09:13:54.511124Z",
     "iopub.status.idle": "2021-03-21T09:13:54.513645Z",
     "shell.execute_reply": "2021-03-21T09:13:54.514226Z"
    }
   },
   "outputs": [],
   "source": [
    "add = {'location':'California','doses':dataJson[0]['dataValues'][2]}"
   ]
  },
  {
   "cell_type": "code",
   "execution_count": 12,
   "metadata": {
    "execution": {
     "iopub.execute_input": "2021-03-21T09:13:54.522399Z",
     "iopub.status.busy": "2021-03-21T09:13:54.521101Z",
     "iopub.status.idle": "2021-03-21T09:13:54.523013Z",
     "shell.execute_reply": "2021-03-21T09:13:54.523456Z"
    }
   },
   "outputs": [],
   "source": [
    "df = df.append(add, ignore_index=True)"
   ]
  },
  {
   "cell_type": "code",
   "execution_count": 13,
   "metadata": {
    "execution": {
     "iopub.execute_input": "2021-03-21T09:13:54.528785Z",
     "iopub.status.busy": "2021-03-21T09:13:54.527373Z",
     "iopub.status.idle": "2021-03-21T09:13:54.535412Z",
     "shell.execute_reply": "2021-03-21T09:13:54.535880Z"
    }
   },
   "outputs": [],
   "source": [
    "df = df.sort_values(by='location')"
   ]
  },
  {
   "cell_type": "code",
   "execution_count": 14,
   "metadata": {
    "execution": {
     "iopub.execute_input": "2021-03-21T09:13:54.541561Z",
     "iopub.status.busy": "2021-03-21T09:13:54.541019Z",
     "iopub.status.idle": "2021-03-21T09:13:54.545058Z",
     "shell.execute_reply": "2021-03-21T09:13:54.545514Z"
    }
   },
   "outputs": [],
   "source": [
    "df = df[df.location == 'California'].append(df[df.location != 'California']).reset_index(drop=True)"
   ]
  },
  {
   "cell_type": "code",
   "execution_count": null,
   "metadata": {},
   "outputs": [],
   "source": []
  },
  {
   "cell_type": "code",
   "execution_count": 15,
   "metadata": {
    "execution": {
     "iopub.execute_input": "2021-03-21T09:13:54.549705Z",
     "iopub.status.busy": "2021-03-21T09:13:54.548784Z",
     "iopub.status.idle": "2021-03-21T09:13:54.570770Z",
     "shell.execute_reply": "2021-03-21T09:13:54.571298Z"
    }
   },
   "outputs": [],
   "source": [
    "tz = pytz.timezone(\"America/New_York\")"
   ]
  },
  {
   "cell_type": "code",
   "execution_count": 16,
   "metadata": {
    "execution": {
     "iopub.execute_input": "2021-03-21T09:13:54.575640Z",
     "iopub.status.busy": "2021-03-21T09:13:54.574926Z",
     "iopub.status.idle": "2021-03-21T09:13:54.578932Z",
     "shell.execute_reply": "2021-03-21T09:13:54.578389Z"
    }
   },
   "outputs": [],
   "source": [
    "today = datetime.now(tz).date()"
   ]
  },
  {
   "cell_type": "code",
   "execution_count": 17,
   "metadata": {
    "execution": {
     "iopub.execute_input": "2021-03-21T09:13:54.583491Z",
     "iopub.status.busy": "2021-03-21T09:13:54.582898Z",
     "iopub.status.idle": "2021-03-21T09:13:54.586467Z",
     "shell.execute_reply": "2021-03-21T09:13:54.586945Z"
    }
   },
   "outputs": [],
   "source": [
    "data_dir = os.path.join(os.path.abspath(\"\"), \"data\")"
   ]
  },
  {
   "cell_type": "code",
   "execution_count": 18,
   "metadata": {
    "execution": {
     "iopub.execute_input": "2021-03-21T09:13:54.592917Z",
     "iopub.status.busy": "2021-03-21T09:13:54.590764Z",
     "iopub.status.idle": "2021-03-21T09:13:54.611217Z",
     "shell.execute_reply": "2021-03-21T09:13:54.611651Z"
    }
   },
   "outputs": [],
   "source": [
    "df.to_csv(os.path.join(data_dir, f\"{today}.csv\"), index=False)"
   ]
  },
  {
   "cell_type": "code",
   "execution_count": null,
   "metadata": {},
   "outputs": [],
   "source": []
  }
 ],
 "metadata": {
  "kernelspec": {
   "display_name": "Python 3",
   "language": "python",
   "name": "python3"
  },
  "language_info": {
   "codemirror_mode": {
    "name": "ipython",
    "version": 3
   },
   "file_extension": ".py",
   "mimetype": "text/x-python",
   "name": "python",
   "nbconvert_exporter": "python",
   "pygments_lexer": "ipython3",
   "version": "3.8.8"
  }
 },
 "nbformat": 4,
 "nbformat_minor": 4
}
