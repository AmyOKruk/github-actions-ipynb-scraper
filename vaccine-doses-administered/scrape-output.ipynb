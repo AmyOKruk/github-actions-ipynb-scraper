{
 "cells": [
  {
   "cell_type": "markdown",
   "metadata": {},
   "source": [
    "# California COVID vaccinations scrape"
   ]
  },
  {
   "cell_type": "markdown",
   "metadata": {},
   "source": [
    "By [Amy O'Kruk](https://twitter.com/amyokruk)"
   ]
  },
  {
   "cell_type": "markdown",
   "metadata": {},
   "source": [
    "Downloads data on vaccine doses administered by county and statewide from a Tableau-powered dashboard from the California Department of Public Health."
   ]
  },
  {
   "cell_type": "code",
   "execution_count": 1,
   "metadata": {
    "execution": {
     "iopub.execute_input": "2021-03-10T07:40:01.634323Z",
     "iopub.status.busy": "2021-03-10T07:40:01.633398Z",
     "iopub.status.idle": "2021-03-10T07:40:02.018986Z",
     "shell.execute_reply": "2021-03-10T07:40:02.017887Z"
    }
   },
   "outputs": [],
   "source": [
    "import pandas as pd\n",
    "import requests\n",
    "from bs4 import BeautifulSoup\n",
    "import json\n",
    "import re\n",
    "import time\n",
    "from time import gmtime, strftime \n",
    "import os\n",
    "import pytz\n",
    "from datetime import datetime"
   ]
  },
  {
   "cell_type": "markdown",
   "metadata": {},
   "source": [
    "Scrape the dashboard page"
   ]
  },
  {
   "cell_type": "code",
   "execution_count": 2,
   "metadata": {
    "execution": {
     "iopub.execute_input": "2021-03-10T07:40:02.025952Z",
     "iopub.status.busy": "2021-03-10T07:40:02.023287Z",
     "iopub.status.idle": "2021-03-10T07:40:02.499046Z",
     "shell.execute_reply": "2021-03-10T07:40:02.498437Z"
    }
   },
   "outputs": [],
   "source": [
    "url = \"https://public.tableau.com/interactive/views/COVID-19VaccineDashboardPublic/Vaccine?:embed=y&:showVizHome=n&:apiID=host0\"\n",
    "\n",
    "r = requests.get(url)\n",
    "soup = BeautifulSoup(r.text, \"html.parser\")"
   ]
  },
  {
   "cell_type": "code",
   "execution_count": 3,
   "metadata": {
    "execution": {
     "iopub.execute_input": "2021-03-10T07:40:02.505628Z",
     "iopub.status.busy": "2021-03-10T07:40:02.504169Z",
     "iopub.status.idle": "2021-03-10T07:40:02.506255Z",
     "shell.execute_reply": "2021-03-10T07:40:02.506797Z"
    }
   },
   "outputs": [],
   "source": [
    "tableauData = json.loads(soup.find(\"textarea\",{\"id\": \"tsConfigContainer\"}).text)"
   ]
  },
  {
   "cell_type": "markdown",
   "metadata": {},
   "source": [
    "Get the link to the Tableau data"
   ]
  },
  {
   "cell_type": "code",
   "execution_count": 4,
   "metadata": {
    "execution": {
     "iopub.execute_input": "2021-03-10T07:40:02.511395Z",
     "iopub.status.busy": "2021-03-10T07:40:02.510069Z",
     "iopub.status.idle": "2021-03-10T07:40:02.512079Z",
     "shell.execute_reply": "2021-03-10T07:40:02.512530Z"
    }
   },
   "outputs": [],
   "source": [
    "dataUrl = f'https://public.tableau.com{tableauData[\"vizql_root\"]}/bootstrapSession/sessions/{tableauData[\"sessionid\"]}'"
   ]
  },
  {
   "cell_type": "code",
   "execution_count": 5,
   "metadata": {
    "execution": {
     "iopub.execute_input": "2021-03-10T07:40:02.519997Z",
     "iopub.status.busy": "2021-03-10T07:40:02.519453Z",
     "iopub.status.idle": "2021-03-10T07:40:03.061645Z",
     "shell.execute_reply": "2021-03-10T07:40:03.061063Z"
    }
   },
   "outputs": [],
   "source": [
    "r = requests.post(dataUrl, data= {\n",
    "    \"sheet_id\": tableauData[\"sheetId\"],\n",
    "})\n",
    "\n",
    "dataReg = re.search('\\d+;({.*})\\d+;({.*})', r.text, re.MULTILINE)\n",
    "data1 = json.loads(dataReg.group(2))\n",
    "\n",
    "dataJson = data1[\"secondaryInfo\"][\"presModelMap\"][\"dataDictionary\"][\"presModelHolder\"][\"genDataDictionaryPresModel\"][\"dataSegments\"][\"0\"][\"dataColumns\"]"
   ]
  },
  {
   "cell_type": "markdown",
   "metadata": {},
   "source": [
    "Isolate what you want"
   ]
  },
  {
   "cell_type": "code",
   "execution_count": 6,
   "metadata": {
    "execution": {
     "iopub.execute_input": "2021-03-10T07:40:03.066589Z",
     "iopub.status.busy": "2021-03-10T07:40:03.065262Z",
     "iopub.status.idle": "2021-03-10T07:40:03.067193Z",
     "shell.execute_reply": "2021-03-10T07:40:03.067632Z"
    }
   },
   "outputs": [],
   "source": [
    "counties = dataJson[2]['dataValues'][:58]"
   ]
  },
  {
   "cell_type": "code",
   "execution_count": 7,
   "metadata": {
    "execution": {
     "iopub.execute_input": "2021-03-10T07:40:03.072763Z",
     "iopub.status.busy": "2021-03-10T07:40:03.071107Z",
     "iopub.status.idle": "2021-03-10T07:40:03.073713Z",
     "shell.execute_reply": "2021-03-10T07:40:03.074358Z"
    }
   },
   "outputs": [],
   "source": [
    "doses = dataJson[0]['dataValues'][3:61]"
   ]
  },
  {
   "cell_type": "markdown",
   "metadata": {},
   "source": [
    "Data formatting"
   ]
  },
  {
   "cell_type": "code",
   "execution_count": 8,
   "metadata": {
    "execution": {
     "iopub.execute_input": "2021-03-10T07:40:03.079161Z",
     "iopub.status.busy": "2021-03-10T07:40:03.077889Z",
     "iopub.status.idle": "2021-03-10T07:40:03.080157Z",
     "shell.execute_reply": "2021-03-10T07:40:03.080597Z"
    }
   },
   "outputs": [],
   "source": [
    "zipped = dict(zip(counties, doses))"
   ]
  },
  {
   "cell_type": "code",
   "execution_count": 9,
   "metadata": {
    "execution": {
     "iopub.execute_input": "2021-03-10T07:40:03.087553Z",
     "iopub.status.busy": "2021-03-10T07:40:03.086399Z",
     "iopub.status.idle": "2021-03-10T07:40:03.088722Z",
     "shell.execute_reply": "2021-03-10T07:40:03.088273Z"
    }
   },
   "outputs": [],
   "source": [
    "df = pd.Series(zipped).reset_index()"
   ]
  },
  {
   "cell_type": "code",
   "execution_count": 10,
   "metadata": {
    "execution": {
     "iopub.execute_input": "2021-03-10T07:40:03.093274Z",
     "iopub.status.busy": "2021-03-10T07:40:03.092102Z",
     "iopub.status.idle": "2021-03-10T07:40:03.093981Z",
     "shell.execute_reply": "2021-03-10T07:40:03.094417Z"
    }
   },
   "outputs": [],
   "source": [
    "df.columns = ['location','doses']"
   ]
  },
  {
   "cell_type": "markdown",
   "metadata": {},
   "source": [
    "Grab the overall California total"
   ]
  },
  {
   "cell_type": "code",
   "execution_count": 11,
   "metadata": {
    "execution": {
     "iopub.execute_input": "2021-03-10T07:40:03.100740Z",
     "iopub.status.busy": "2021-03-10T07:40:03.099608Z",
     "iopub.status.idle": "2021-03-10T07:40:03.101989Z",
     "shell.execute_reply": "2021-03-10T07:40:03.101517Z"
    }
   },
   "outputs": [],
   "source": [
    "add = {'location':'California','doses':dataJson[0]['dataValues'][2]}"
   ]
  },
  {
   "cell_type": "code",
   "execution_count": 12,
   "metadata": {
    "execution": {
     "iopub.execute_input": "2021-03-10T07:40:03.109922Z",
     "iopub.status.busy": "2021-03-10T07:40:03.108654Z",
     "iopub.status.idle": "2021-03-10T07:40:03.110527Z",
     "shell.execute_reply": "2021-03-10T07:40:03.110961Z"
    }
   },
   "outputs": [],
   "source": [
    "df = df.append(add, ignore_index=True)"
   ]
  },
  {
   "cell_type": "code",
   "execution_count": 13,
   "metadata": {
    "execution": {
     "iopub.execute_input": "2021-03-10T07:40:03.115894Z",
     "iopub.status.busy": "2021-03-10T07:40:03.114778Z",
     "iopub.status.idle": "2021-03-10T07:40:03.116495Z",
     "shell.execute_reply": "2021-03-10T07:40:03.116932Z"
    }
   },
   "outputs": [],
   "source": [
    "df = df.sort_values(by='location')"
   ]
  },
  {
   "cell_type": "code",
   "execution_count": 14,
   "metadata": {
    "execution": {
     "iopub.execute_input": "2021-03-10T07:40:03.124366Z",
     "iopub.status.busy": "2021-03-10T07:40:03.123078Z",
     "iopub.status.idle": "2021-03-10T07:40:03.124974Z",
     "shell.execute_reply": "2021-03-10T07:40:03.125438Z"
    }
   },
   "outputs": [],
   "source": [
    "df = df[df.location == 'California'].append(df[df.location != 'California']).reset_index(drop=True)"
   ]
  },
  {
   "cell_type": "code",
   "execution_count": null,
   "metadata": {},
   "outputs": [],
   "source": []
  },
  {
   "cell_type": "code",
   "execution_count": 15,
   "metadata": {
    "execution": {
     "iopub.execute_input": "2021-03-10T07:40:03.130127Z",
     "iopub.status.busy": "2021-03-10T07:40:03.129591Z",
     "iopub.status.idle": "2021-03-10T07:40:03.147190Z",
     "shell.execute_reply": "2021-03-10T07:40:03.147659Z"
    }
   },
   "outputs": [],
   "source": [
    "tz = pytz.timezone(\"America/New_York\")"
   ]
  },
  {
   "cell_type": "code",
   "execution_count": 16,
   "metadata": {
    "execution": {
     "iopub.execute_input": "2021-03-10T07:40:03.152405Z",
     "iopub.status.busy": "2021-03-10T07:40:03.151178Z",
     "iopub.status.idle": "2021-03-10T07:40:03.153005Z",
     "shell.execute_reply": "2021-03-10T07:40:03.153473Z"
    }
   },
   "outputs": [],
   "source": [
    "today = datetime.now(tz).date()"
   ]
  },
  {
   "cell_type": "code",
   "execution_count": 17,
   "metadata": {
    "execution": {
     "iopub.execute_input": "2021-03-10T07:40:03.157614Z",
     "iopub.status.busy": "2021-03-10T07:40:03.156668Z",
     "iopub.status.idle": "2021-03-10T07:40:03.158500Z",
     "shell.execute_reply": "2021-03-10T07:40:03.158937Z"
    }
   },
   "outputs": [],
   "source": [
    "data_dir = os.path.join(os.path.abspath(\"\"), \"data\")"
   ]
  },
  {
   "cell_type": "code",
   "execution_count": 18,
   "metadata": {
    "execution": {
     "iopub.execute_input": "2021-03-10T07:40:03.164646Z",
     "iopub.status.busy": "2021-03-10T07:40:03.162355Z",
     "iopub.status.idle": "2021-03-10T07:40:03.166559Z",
     "shell.execute_reply": "2021-03-10T07:40:03.167002Z"
    }
   },
   "outputs": [],
   "source": [
    "df.to_csv(os.path.join(data_dir, f\"{today}.csv\"), index=False)"
   ]
  },
  {
   "cell_type": "code",
   "execution_count": null,
   "metadata": {},
   "outputs": [],
   "source": []
  }
 ],
 "metadata": {
  "kernelspec": {
   "display_name": "Python 3",
   "language": "python",
   "name": "python3"
  },
  "language_info": {
   "codemirror_mode": {
    "name": "ipython",
    "version": 3
   },
   "file_extension": ".py",
   "mimetype": "text/x-python",
   "name": "python",
   "nbconvert_exporter": "python",
   "pygments_lexer": "ipython3",
   "version": "3.8.8"
  }
 },
 "nbformat": 4,
 "nbformat_minor": 4
}
