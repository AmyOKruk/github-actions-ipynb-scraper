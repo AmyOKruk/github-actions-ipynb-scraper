{
 "cells": [
  {
   "cell_type": "markdown",
   "metadata": {},
   "source": [
    "# California COVID vaccinations scrape"
   ]
  },
  {
   "cell_type": "markdown",
   "metadata": {},
   "source": [
    "By [Amy O'Kruk](https://twitter.com/amyokruk)"
   ]
  },
  {
   "cell_type": "markdown",
   "metadata": {},
   "source": [
    "Downloads data on vaccine doses administered by county and statewide from a Tableau-powered dashboard from the California Department of Public Health."
   ]
  },
  {
   "cell_type": "code",
   "execution_count": 1,
   "metadata": {
    "execution": {
     "iopub.execute_input": "2021-03-22T21:12:27.636078Z",
     "iopub.status.busy": "2021-03-22T21:12:27.635494Z",
     "iopub.status.idle": "2021-03-22T21:12:27.984555Z",
     "shell.execute_reply": "2021-03-22T21:12:27.983361Z"
    }
   },
   "outputs": [],
   "source": [
    "import pandas as pd\n",
    "import requests\n",
    "from bs4 import BeautifulSoup\n",
    "import json\n",
    "import re\n",
    "import time\n",
    "from time import gmtime, strftime \n",
    "import os\n",
    "import pytz\n",
    "from datetime import datetime"
   ]
  },
  {
   "cell_type": "markdown",
   "metadata": {},
   "source": [
    "Scrape the dashboard page"
   ]
  },
  {
   "cell_type": "code",
   "execution_count": 2,
   "metadata": {
    "execution": {
     "iopub.execute_input": "2021-03-22T21:12:27.988740Z",
     "iopub.status.busy": "2021-03-22T21:12:27.988278Z",
     "iopub.status.idle": "2021-03-22T21:12:28.318113Z",
     "shell.execute_reply": "2021-03-22T21:12:28.316869Z"
    }
   },
   "outputs": [],
   "source": [
    "url = \"https://public.tableau.com/interactive/views/COVID-19VaccineDashboardPublic/Vaccine?:embed=y&:showVizHome=n&:apiID=host0\"\n",
    "\n",
    "r = requests.get(url)\n",
    "soup = BeautifulSoup(r.text, \"html.parser\")"
   ]
  },
  {
   "cell_type": "code",
   "execution_count": 3,
   "metadata": {
    "execution": {
     "iopub.execute_input": "2021-03-22T21:12:28.322932Z",
     "iopub.status.busy": "2021-03-22T21:12:28.322270Z",
     "iopub.status.idle": "2021-03-22T21:12:28.323621Z",
     "shell.execute_reply": "2021-03-22T21:12:28.323928Z"
    }
   },
   "outputs": [],
   "source": [
    "tableauData = json.loads(soup.find(\"textarea\",{\"id\": \"tsConfigContainer\"}).text)"
   ]
  },
  {
   "cell_type": "markdown",
   "metadata": {},
   "source": [
    "Get the link to the Tableau data"
   ]
  },
  {
   "cell_type": "code",
   "execution_count": 4,
   "metadata": {
    "execution": {
     "iopub.execute_input": "2021-03-22T21:12:28.327113Z",
     "iopub.status.busy": "2021-03-22T21:12:28.326109Z",
     "iopub.status.idle": "2021-03-22T21:12:28.327939Z",
     "shell.execute_reply": "2021-03-22T21:12:28.328220Z"
    }
   },
   "outputs": [],
   "source": [
    "dataUrl = f'https://public.tableau.com{tableauData[\"vizql_root\"]}/bootstrapSession/sessions/{tableauData[\"sessionid\"]}'"
   ]
  },
  {
   "cell_type": "code",
   "execution_count": 5,
   "metadata": {
    "execution": {
     "iopub.execute_input": "2021-03-22T21:12:28.333434Z",
     "iopub.status.busy": "2021-03-22T21:12:28.332934Z",
     "iopub.status.idle": "2021-03-22T21:12:28.668899Z",
     "shell.execute_reply": "2021-03-22T21:12:28.668349Z"
    }
   },
   "outputs": [],
   "source": [
    "r = requests.post(dataUrl, data= {\n",
    "    \"sheet_id\": tableauData[\"sheetId\"],\n",
    "})\n",
    "\n",
    "dataReg = re.search('\\d+;({.*})\\d+;({.*})', r.text, re.MULTILINE)\n",
    "data1 = json.loads(dataReg.group(2))\n",
    "\n",
    "dataJson = data1[\"secondaryInfo\"][\"presModelMap\"][\"dataDictionary\"][\"presModelHolder\"][\"genDataDictionaryPresModel\"][\"dataSegments\"][\"0\"][\"dataColumns\"]"
   ]
  },
  {
   "cell_type": "markdown",
   "metadata": {},
   "source": [
    "Isolate what you want"
   ]
  },
  {
   "cell_type": "code",
   "execution_count": 6,
   "metadata": {
    "execution": {
     "iopub.execute_input": "2021-03-22T21:12:28.673392Z",
     "iopub.status.busy": "2021-03-22T21:12:28.672184Z",
     "iopub.status.idle": "2021-03-22T21:12:28.674020Z",
     "shell.execute_reply": "2021-03-22T21:12:28.674471Z"
    }
   },
   "outputs": [],
   "source": [
    "counties = dataJson[2]['dataValues'][:58]"
   ]
  },
  {
   "cell_type": "code",
   "execution_count": 7,
   "metadata": {
    "execution": {
     "iopub.execute_input": "2021-03-22T21:12:28.678825Z",
     "iopub.status.busy": "2021-03-22T21:12:28.677636Z",
     "iopub.status.idle": "2021-03-22T21:12:28.679406Z",
     "shell.execute_reply": "2021-03-22T21:12:28.679846Z"
    }
   },
   "outputs": [],
   "source": [
    "doses = dataJson[0]['dataValues'][3:61]"
   ]
  },
  {
   "cell_type": "markdown",
   "metadata": {},
   "source": [
    "Data formatting"
   ]
  },
  {
   "cell_type": "code",
   "execution_count": 8,
   "metadata": {
    "execution": {
     "iopub.execute_input": "2021-03-22T21:12:28.683383Z",
     "iopub.status.busy": "2021-03-22T21:12:28.682875Z",
     "iopub.status.idle": "2021-03-22T21:12:28.694789Z",
     "shell.execute_reply": "2021-03-22T21:12:28.694284Z"
    }
   },
   "outputs": [],
   "source": [
    "zipped = dict(zip(counties, doses))"
   ]
  },
  {
   "cell_type": "code",
   "execution_count": 9,
   "metadata": {
    "execution": {
     "iopub.execute_input": "2021-03-22T21:12:28.700840Z",
     "iopub.status.busy": "2021-03-22T21:12:28.699797Z",
     "iopub.status.idle": "2021-03-22T21:12:28.701404Z",
     "shell.execute_reply": "2021-03-22T21:12:28.701763Z"
    }
   },
   "outputs": [],
   "source": [
    "df = pd.Series(zipped).reset_index()"
   ]
  },
  {
   "cell_type": "code",
   "execution_count": 10,
   "metadata": {
    "execution": {
     "iopub.execute_input": "2021-03-22T21:12:28.705018Z",
     "iopub.status.busy": "2021-03-22T21:12:28.704271Z",
     "iopub.status.idle": "2021-03-22T21:12:28.705830Z",
     "shell.execute_reply": "2021-03-22T21:12:28.706153Z"
    }
   },
   "outputs": [],
   "source": [
    "df.columns = ['location','doses']"
   ]
  },
  {
   "cell_type": "markdown",
   "metadata": {},
   "source": [
    "Grab the overall California total"
   ]
  },
  {
   "cell_type": "code",
   "execution_count": 11,
   "metadata": {
    "execution": {
     "iopub.execute_input": "2021-03-22T21:12:28.709422Z",
     "iopub.status.busy": "2021-03-22T21:12:28.708685Z",
     "iopub.status.idle": "2021-03-22T21:12:28.710650Z",
     "shell.execute_reply": "2021-03-22T21:12:28.710237Z"
    }
   },
   "outputs": [],
   "source": [
    "add = {'location':'California','doses':dataJson[0]['dataValues'][2]}"
   ]
  },
  {
   "cell_type": "code",
   "execution_count": 12,
   "metadata": {
    "execution": {
     "iopub.execute_input": "2021-03-22T21:12:28.716590Z",
     "iopub.status.busy": "2021-03-22T21:12:28.715817Z",
     "iopub.status.idle": "2021-03-22T21:12:28.717767Z",
     "shell.execute_reply": "2021-03-22T21:12:28.717373Z"
    }
   },
   "outputs": [],
   "source": [
    "df = df.append(add, ignore_index=True)"
   ]
  },
  {
   "cell_type": "code",
   "execution_count": 13,
   "metadata": {
    "execution": {
     "iopub.execute_input": "2021-03-22T21:12:28.721398Z",
     "iopub.status.busy": "2021-03-22T21:12:28.720959Z",
     "iopub.status.idle": "2021-03-22T21:12:28.722643Z",
     "shell.execute_reply": "2021-03-22T21:12:28.723077Z"
    }
   },
   "outputs": [],
   "source": [
    "df = df.sort_values(by='location')"
   ]
  },
  {
   "cell_type": "code",
   "execution_count": 14,
   "metadata": {
    "execution": {
     "iopub.execute_input": "2021-03-22T21:12:28.728348Z",
     "iopub.status.busy": "2021-03-22T21:12:28.727842Z",
     "iopub.status.idle": "2021-03-22T21:12:28.729972Z",
     "shell.execute_reply": "2021-03-22T21:12:28.729457Z"
    }
   },
   "outputs": [],
   "source": [
    "df = df[df.location == 'California'].append(df[df.location != 'California']).reset_index(drop=True)"
   ]
  },
  {
   "cell_type": "code",
   "execution_count": null,
   "metadata": {},
   "outputs": [],
   "source": []
  },
  {
   "cell_type": "code",
   "execution_count": 15,
   "metadata": {
    "execution": {
     "iopub.execute_input": "2021-03-22T21:12:28.732974Z",
     "iopub.status.busy": "2021-03-22T21:12:28.732455Z",
     "iopub.status.idle": "2021-03-22T21:12:28.748768Z",
     "shell.execute_reply": "2021-03-22T21:12:28.748319Z"
    }
   },
   "outputs": [],
   "source": [
    "tz = pytz.timezone(\"America/New_York\")"
   ]
  },
  {
   "cell_type": "code",
   "execution_count": 16,
   "metadata": {
    "execution": {
     "iopub.execute_input": "2021-03-22T21:12:28.752407Z",
     "iopub.status.busy": "2021-03-22T21:12:28.751400Z",
     "iopub.status.idle": "2021-03-22T21:12:28.752984Z",
     "shell.execute_reply": "2021-03-22T21:12:28.753378Z"
    }
   },
   "outputs": [],
   "source": [
    "today = datetime.now(tz).date()"
   ]
  },
  {
   "cell_type": "code",
   "execution_count": 17,
   "metadata": {
    "execution": {
     "iopub.execute_input": "2021-03-22T21:12:28.756922Z",
     "iopub.status.busy": "2021-03-22T21:12:28.755958Z",
     "iopub.status.idle": "2021-03-22T21:12:28.757620Z",
     "shell.execute_reply": "2021-03-22T21:12:28.758001Z"
    }
   },
   "outputs": [],
   "source": [
    "data_dir = os.path.join(os.path.abspath(\"\"), \"data\")"
   ]
  },
  {
   "cell_type": "code",
   "execution_count": 18,
   "metadata": {
    "execution": {
     "iopub.execute_input": "2021-03-22T21:12:28.762811Z",
     "iopub.status.busy": "2021-03-22T21:12:28.760809Z",
     "iopub.status.idle": "2021-03-22T21:12:28.765123Z",
     "shell.execute_reply": "2021-03-22T21:12:28.764751Z"
    }
   },
   "outputs": [],
   "source": [
    "df.to_csv(os.path.join(data_dir, f\"{today}.csv\"), index=False)"
   ]
  },
  {
   "cell_type": "code",
   "execution_count": null,
   "metadata": {},
   "outputs": [],
   "source": []
  }
 ],
 "metadata": {
  "kernelspec": {
   "display_name": "Python 3",
   "language": "python",
   "name": "python3"
  },
  "language_info": {
   "codemirror_mode": {
    "name": "ipython",
    "version": 3
   },
   "file_extension": ".py",
   "mimetype": "text/x-python",
   "name": "python",
   "nbconvert_exporter": "python",
   "pygments_lexer": "ipython3",
   "version": "3.8.8"
  }
 },
 "nbformat": 4,
 "nbformat_minor": 4
}
