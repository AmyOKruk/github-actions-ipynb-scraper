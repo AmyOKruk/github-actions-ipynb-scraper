{
 "cells": [
  {
   "cell_type": "markdown",
   "metadata": {},
   "source": [
    "# California COVID vaccinations scrape"
   ]
  },
  {
   "cell_type": "markdown",
   "metadata": {},
   "source": [
    "By [Amy O'Kruk](https://twitter.com/amyokruk)"
   ]
  },
  {
   "cell_type": "markdown",
   "metadata": {},
   "source": [
    "Downloads data on vaccine doses administered by county and statewide from a Tableau-powered dashboard from the California Department of Public Health."
   ]
  },
  {
   "cell_type": "code",
   "execution_count": 1,
   "metadata": {
    "execution": {
     "iopub.execute_input": "2021-03-18T11:12:04.895742Z",
     "iopub.status.busy": "2021-03-18T11:12:04.895171Z",
     "iopub.status.idle": "2021-03-18T11:12:05.264657Z",
     "shell.execute_reply": "2021-03-18T11:12:05.264061Z"
    }
   },
   "outputs": [],
   "source": [
    "import pandas as pd\n",
    "import requests\n",
    "from bs4 import BeautifulSoup\n",
    "import json\n",
    "import re\n",
    "import time\n",
    "from time import gmtime, strftime \n",
    "import os\n",
    "import pytz\n",
    "from datetime import datetime"
   ]
  },
  {
   "cell_type": "markdown",
   "metadata": {},
   "source": [
    "Scrape the dashboard page"
   ]
  },
  {
   "cell_type": "code",
   "execution_count": 2,
   "metadata": {
    "execution": {
     "iopub.execute_input": "2021-03-18T11:12:05.270753Z",
     "iopub.status.busy": "2021-03-18T11:12:05.268491Z",
     "iopub.status.idle": "2021-03-18T11:12:05.540450Z",
     "shell.execute_reply": "2021-03-18T11:12:05.539975Z"
    }
   },
   "outputs": [],
   "source": [
    "url = \"https://public.tableau.com/interactive/views/COVID-19VaccineDashboardPublic/Vaccine?:embed=y&:showVizHome=n&:apiID=host0\"\n",
    "\n",
    "r = requests.get(url)\n",
    "soup = BeautifulSoup(r.text, \"html.parser\")"
   ]
  },
  {
   "cell_type": "code",
   "execution_count": 3,
   "metadata": {
    "execution": {
     "iopub.execute_input": "2021-03-18T11:12:05.545236Z",
     "iopub.status.busy": "2021-03-18T11:12:05.544695Z",
     "iopub.status.idle": "2021-03-18T11:12:05.548886Z",
     "shell.execute_reply": "2021-03-18T11:12:05.548462Z"
    }
   },
   "outputs": [],
   "source": [
    "tableauData = json.loads(soup.find(\"textarea\",{\"id\": \"tsConfigContainer\"}).text)"
   ]
  },
  {
   "cell_type": "markdown",
   "metadata": {},
   "source": [
    "Get the link to the Tableau data"
   ]
  },
  {
   "cell_type": "code",
   "execution_count": 4,
   "metadata": {
    "execution": {
     "iopub.execute_input": "2021-03-18T11:12:05.552143Z",
     "iopub.status.busy": "2021-03-18T11:12:05.551650Z",
     "iopub.status.idle": "2021-03-18T11:12:05.555604Z",
     "shell.execute_reply": "2021-03-18T11:12:05.555187Z"
    }
   },
   "outputs": [],
   "source": [
    "dataUrl = f'https://public.tableau.com{tableauData[\"vizql_root\"]}/bootstrapSession/sessions/{tableauData[\"sessionid\"]}'"
   ]
  },
  {
   "cell_type": "code",
   "execution_count": 5,
   "metadata": {
    "execution": {
     "iopub.execute_input": "2021-03-18T11:12:05.561643Z",
     "iopub.status.busy": "2021-03-18T11:12:05.561097Z",
     "iopub.status.idle": "2021-03-18T11:12:06.094210Z",
     "shell.execute_reply": "2021-03-18T11:12:06.093346Z"
    }
   },
   "outputs": [],
   "source": [
    "r = requests.post(dataUrl, data= {\n",
    "    \"sheet_id\": tableauData[\"sheetId\"],\n",
    "})\n",
    "\n",
    "dataReg = re.search('\\d+;({.*})\\d+;({.*})', r.text, re.MULTILINE)\n",
    "data1 = json.loads(dataReg.group(2))\n",
    "\n",
    "dataJson = data1[\"secondaryInfo\"][\"presModelMap\"][\"dataDictionary\"][\"presModelHolder\"][\"genDataDictionaryPresModel\"][\"dataSegments\"][\"0\"][\"dataColumns\"]"
   ]
  },
  {
   "cell_type": "markdown",
   "metadata": {},
   "source": [
    "Isolate what you want"
   ]
  },
  {
   "cell_type": "code",
   "execution_count": 6,
   "metadata": {
    "execution": {
     "iopub.execute_input": "2021-03-18T11:12:06.098498Z",
     "iopub.status.busy": "2021-03-18T11:12:06.097987Z",
     "iopub.status.idle": "2021-03-18T11:12:06.101414Z",
     "shell.execute_reply": "2021-03-18T11:12:06.100941Z"
    }
   },
   "outputs": [],
   "source": [
    "counties = dataJson[2]['dataValues'][:58]"
   ]
  },
  {
   "cell_type": "code",
   "execution_count": 7,
   "metadata": {
    "execution": {
     "iopub.execute_input": "2021-03-18T11:12:06.105571Z",
     "iopub.status.busy": "2021-03-18T11:12:06.104389Z",
     "iopub.status.idle": "2021-03-18T11:12:06.106230Z",
     "shell.execute_reply": "2021-03-18T11:12:06.106658Z"
    }
   },
   "outputs": [],
   "source": [
    "doses = dataJson[0]['dataValues'][3:61]"
   ]
  },
  {
   "cell_type": "markdown",
   "metadata": {},
   "source": [
    "Data formatting"
   ]
  },
  {
   "cell_type": "code",
   "execution_count": 8,
   "metadata": {
    "execution": {
     "iopub.execute_input": "2021-03-18T11:12:06.110933Z",
     "iopub.status.busy": "2021-03-18T11:12:06.109708Z",
     "iopub.status.idle": "2021-03-18T11:12:06.111530Z",
     "shell.execute_reply": "2021-03-18T11:12:06.111950Z"
    }
   },
   "outputs": [],
   "source": [
    "zipped = dict(zip(counties, doses))"
   ]
  },
  {
   "cell_type": "code",
   "execution_count": 9,
   "metadata": {
    "execution": {
     "iopub.execute_input": "2021-03-18T11:12:06.118425Z",
     "iopub.status.busy": "2021-03-18T11:12:06.117177Z",
     "iopub.status.idle": "2021-03-18T11:12:06.118906Z",
     "shell.execute_reply": "2021-03-18T11:12:06.119247Z"
    }
   },
   "outputs": [],
   "source": [
    "df = pd.Series(zipped).reset_index()"
   ]
  },
  {
   "cell_type": "code",
   "execution_count": 10,
   "metadata": {
    "execution": {
     "iopub.execute_input": "2021-03-18T11:12:06.123340Z",
     "iopub.status.busy": "2021-03-18T11:12:06.122179Z",
     "iopub.status.idle": "2021-03-18T11:12:06.124005Z",
     "shell.execute_reply": "2021-03-18T11:12:06.124421Z"
    }
   },
   "outputs": [],
   "source": [
    "df.columns = ['location','doses']"
   ]
  },
  {
   "cell_type": "markdown",
   "metadata": {},
   "source": [
    "Grab the overall California total"
   ]
  },
  {
   "cell_type": "code",
   "execution_count": 11,
   "metadata": {
    "execution": {
     "iopub.execute_input": "2021-03-18T11:12:06.128410Z",
     "iopub.status.busy": "2021-03-18T11:12:06.127280Z",
     "iopub.status.idle": "2021-03-18T11:12:06.129106Z",
     "shell.execute_reply": "2021-03-18T11:12:06.129558Z"
    }
   },
   "outputs": [],
   "source": [
    "add = {'location':'California','doses':dataJson[0]['dataValues'][2]}"
   ]
  },
  {
   "cell_type": "code",
   "execution_count": 12,
   "metadata": {
    "execution": {
     "iopub.execute_input": "2021-03-18T11:12:06.136339Z",
     "iopub.status.busy": "2021-03-18T11:12:06.135157Z",
     "iopub.status.idle": "2021-03-18T11:12:06.136936Z",
     "shell.execute_reply": "2021-03-18T11:12:06.137379Z"
    }
   },
   "outputs": [],
   "source": [
    "df = df.append(add, ignore_index=True)"
   ]
  },
  {
   "cell_type": "code",
   "execution_count": 13,
   "metadata": {
    "execution": {
     "iopub.execute_input": "2021-03-18T11:12:06.142308Z",
     "iopub.status.busy": "2021-03-18T11:12:06.141119Z",
     "iopub.status.idle": "2021-03-18T11:12:06.142916Z",
     "shell.execute_reply": "2021-03-18T11:12:06.143338Z"
    }
   },
   "outputs": [],
   "source": [
    "df = df.sort_values(by='location')"
   ]
  },
  {
   "cell_type": "code",
   "execution_count": 14,
   "metadata": {
    "execution": {
     "iopub.execute_input": "2021-03-18T11:12:06.149770Z",
     "iopub.status.busy": "2021-03-18T11:12:06.148580Z",
     "iopub.status.idle": "2021-03-18T11:12:06.150369Z",
     "shell.execute_reply": "2021-03-18T11:12:06.150788Z"
    }
   },
   "outputs": [],
   "source": [
    "df = df[df.location == 'California'].append(df[df.location != 'California']).reset_index(drop=True)"
   ]
  },
  {
   "cell_type": "code",
   "execution_count": null,
   "metadata": {},
   "outputs": [],
   "source": []
  },
  {
   "cell_type": "code",
   "execution_count": 15,
   "metadata": {
    "execution": {
     "iopub.execute_input": "2021-03-18T11:12:06.154213Z",
     "iopub.status.busy": "2021-03-18T11:12:06.153713Z",
     "iopub.status.idle": "2021-03-18T11:12:06.170908Z",
     "shell.execute_reply": "2021-03-18T11:12:06.170448Z"
    }
   },
   "outputs": [],
   "source": [
    "tz = pytz.timezone(\"America/New_York\")"
   ]
  },
  {
   "cell_type": "code",
   "execution_count": 16,
   "metadata": {
    "execution": {
     "iopub.execute_input": "2021-03-18T11:12:06.175283Z",
     "iopub.status.busy": "2021-03-18T11:12:06.174006Z",
     "iopub.status.idle": "2021-03-18T11:12:06.175898Z",
     "shell.execute_reply": "2021-03-18T11:12:06.176336Z"
    }
   },
   "outputs": [],
   "source": [
    "today = datetime.now(tz).date()"
   ]
  },
  {
   "cell_type": "code",
   "execution_count": 17,
   "metadata": {
    "execution": {
     "iopub.execute_input": "2021-03-18T11:12:06.180619Z",
     "iopub.status.busy": "2021-03-18T11:12:06.179512Z",
     "iopub.status.idle": "2021-03-18T11:12:06.181227Z",
     "shell.execute_reply": "2021-03-18T11:12:06.181654Z"
    }
   },
   "outputs": [],
   "source": [
    "data_dir = os.path.join(os.path.abspath(\"\"), \"data\")"
   ]
  },
  {
   "cell_type": "code",
   "execution_count": 18,
   "metadata": {
    "execution": {
     "iopub.execute_input": "2021-03-18T11:12:06.185861Z",
     "iopub.status.busy": "2021-03-18T11:12:06.184721Z",
     "iopub.status.idle": "2021-03-18T11:12:06.188808Z",
     "shell.execute_reply": "2021-03-18T11:12:06.189222Z"
    }
   },
   "outputs": [],
   "source": [
    "df.to_csv(os.path.join(data_dir, f\"{today}.csv\"), index=False)"
   ]
  },
  {
   "cell_type": "code",
   "execution_count": null,
   "metadata": {},
   "outputs": [],
   "source": []
  }
 ],
 "metadata": {
  "kernelspec": {
   "display_name": "Python 3",
   "language": "python",
   "name": "python3"
  },
  "language_info": {
   "codemirror_mode": {
    "name": "ipython",
    "version": 3
   },
   "file_extension": ".py",
   "mimetype": "text/x-python",
   "name": "python",
   "nbconvert_exporter": "python",
   "pygments_lexer": "ipython3",
   "version": "3.8.8"
  }
 },
 "nbformat": 4,
 "nbformat_minor": 4
}
