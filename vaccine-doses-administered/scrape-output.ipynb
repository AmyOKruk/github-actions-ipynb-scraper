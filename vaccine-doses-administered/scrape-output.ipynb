{
 "cells": [
  {
   "cell_type": "markdown",
   "metadata": {},
   "source": [
    "# California COVID vaccinations scrape"
   ]
  },
  {
   "cell_type": "markdown",
   "metadata": {},
   "source": [
    "By [Amy O'Kruk](https://twitter.com/amyokruk)"
   ]
  },
  {
   "cell_type": "markdown",
   "metadata": {},
   "source": [
    "Downloads data on vaccine doses administered by county and statewide from a Tableau-powered dashboard from the California Department of Public Health."
   ]
  },
  {
   "cell_type": "code",
   "execution_count": 1,
   "metadata": {
    "execution": {
     "iopub.execute_input": "2021-03-22T11:12:10.898089Z",
     "iopub.status.busy": "2021-03-22T11:12:10.897489Z",
     "iopub.status.idle": "2021-03-22T11:12:11.323034Z",
     "shell.execute_reply": "2021-03-22T11:12:11.322126Z"
    }
   },
   "outputs": [],
   "source": [
    "import pandas as pd\n",
    "import requests\n",
    "from bs4 import BeautifulSoup\n",
    "import json\n",
    "import re\n",
    "import time\n",
    "from time import gmtime, strftime \n",
    "import os\n",
    "import pytz\n",
    "from datetime import datetime"
   ]
  },
  {
   "cell_type": "markdown",
   "metadata": {},
   "source": [
    "Scrape the dashboard page"
   ]
  },
  {
   "cell_type": "code",
   "execution_count": 2,
   "metadata": {
    "execution": {
     "iopub.execute_input": "2021-03-22T11:12:11.329745Z",
     "iopub.status.busy": "2021-03-22T11:12:11.329150Z",
     "iopub.status.idle": "2021-03-22T11:12:11.894730Z",
     "shell.execute_reply": "2021-03-22T11:12:11.894234Z"
    }
   },
   "outputs": [],
   "source": [
    "url = \"https://public.tableau.com/interactive/views/COVID-19VaccineDashboardPublic/Vaccine?:embed=y&:showVizHome=n&:apiID=host0\"\n",
    "\n",
    "r = requests.get(url)\n",
    "soup = BeautifulSoup(r.text, \"html.parser\")"
   ]
  },
  {
   "cell_type": "code",
   "execution_count": 3,
   "metadata": {
    "execution": {
     "iopub.execute_input": "2021-03-22T11:12:11.899735Z",
     "iopub.status.busy": "2021-03-22T11:12:11.899133Z",
     "iopub.status.idle": "2021-03-22T11:12:11.902835Z",
     "shell.execute_reply": "2021-03-22T11:12:11.902379Z"
    }
   },
   "outputs": [],
   "source": [
    "tableauData = json.loads(soup.find(\"textarea\",{\"id\": \"tsConfigContainer\"}).text)"
   ]
  },
  {
   "cell_type": "markdown",
   "metadata": {},
   "source": [
    "Get the link to the Tableau data"
   ]
  },
  {
   "cell_type": "code",
   "execution_count": 4,
   "metadata": {
    "execution": {
     "iopub.execute_input": "2021-03-22T11:12:11.906831Z",
     "iopub.status.busy": "2021-03-22T11:12:11.906326Z",
     "iopub.status.idle": "2021-03-22T11:12:11.909987Z",
     "shell.execute_reply": "2021-03-22T11:12:11.909399Z"
    }
   },
   "outputs": [],
   "source": [
    "dataUrl = f'https://public.tableau.com{tableauData[\"vizql_root\"]}/bootstrapSession/sessions/{tableauData[\"sessionid\"]}'"
   ]
  },
  {
   "cell_type": "code",
   "execution_count": 5,
   "metadata": {
    "execution": {
     "iopub.execute_input": "2021-03-22T11:12:11.917076Z",
     "iopub.status.busy": "2021-03-22T11:12:11.916394Z",
     "iopub.status.idle": "2021-03-22T11:12:12.052221Z",
     "shell.execute_reply": "2021-03-22T11:12:12.051067Z"
    }
   },
   "outputs": [],
   "source": [
    "r = requests.post(dataUrl, data= {\n",
    "    \"sheet_id\": tableauData[\"sheetId\"],\n",
    "})\n",
    "\n",
    "dataReg = re.search('\\d+;({.*})\\d+;({.*})', r.text, re.MULTILINE)\n",
    "data1 = json.loads(dataReg.group(2))\n",
    "\n",
    "dataJson = data1[\"secondaryInfo\"][\"presModelMap\"][\"dataDictionary\"][\"presModelHolder\"][\"genDataDictionaryPresModel\"][\"dataSegments\"][\"0\"][\"dataColumns\"]"
   ]
  },
  {
   "cell_type": "markdown",
   "metadata": {},
   "source": [
    "Isolate what you want"
   ]
  },
  {
   "cell_type": "code",
   "execution_count": 6,
   "metadata": {
    "execution": {
     "iopub.execute_input": "2021-03-22T11:12:12.055812Z",
     "iopub.status.busy": "2021-03-22T11:12:12.055254Z",
     "iopub.status.idle": "2021-03-22T11:12:12.058619Z",
     "shell.execute_reply": "2021-03-22T11:12:12.059088Z"
    }
   },
   "outputs": [],
   "source": [
    "counties = dataJson[2]['dataValues'][:58]"
   ]
  },
  {
   "cell_type": "code",
   "execution_count": 7,
   "metadata": {
    "execution": {
     "iopub.execute_input": "2021-03-22T11:12:12.063857Z",
     "iopub.status.busy": "2021-03-22T11:12:12.063191Z",
     "iopub.status.idle": "2021-03-22T11:12:12.067205Z",
     "shell.execute_reply": "2021-03-22T11:12:12.066623Z"
    }
   },
   "outputs": [],
   "source": [
    "doses = dataJson[0]['dataValues'][3:61]"
   ]
  },
  {
   "cell_type": "markdown",
   "metadata": {},
   "source": [
    "Data formatting"
   ]
  },
  {
   "cell_type": "code",
   "execution_count": 8,
   "metadata": {
    "execution": {
     "iopub.execute_input": "2021-03-22T11:12:12.071078Z",
     "iopub.status.busy": "2021-03-22T11:12:12.070389Z",
     "iopub.status.idle": "2021-03-22T11:12:12.074273Z",
     "shell.execute_reply": "2021-03-22T11:12:12.073755Z"
    }
   },
   "outputs": [],
   "source": [
    "zipped = dict(zip(counties, doses))"
   ]
  },
  {
   "cell_type": "code",
   "execution_count": 9,
   "metadata": {
    "execution": {
     "iopub.execute_input": "2021-03-22T11:12:12.080148Z",
     "iopub.status.busy": "2021-03-22T11:12:12.079599Z",
     "iopub.status.idle": "2021-03-22T11:12:12.083097Z",
     "shell.execute_reply": "2021-03-22T11:12:12.082614Z"
    }
   },
   "outputs": [],
   "source": [
    "df = pd.Series(zipped).reset_index()"
   ]
  },
  {
   "cell_type": "code",
   "execution_count": 10,
   "metadata": {
    "execution": {
     "iopub.execute_input": "2021-03-22T11:12:12.087363Z",
     "iopub.status.busy": "2021-03-22T11:12:12.086820Z",
     "iopub.status.idle": "2021-03-22T11:12:12.090069Z",
     "shell.execute_reply": "2021-03-22T11:12:12.090504Z"
    }
   },
   "outputs": [],
   "source": [
    "df.columns = ['location','doses']"
   ]
  },
  {
   "cell_type": "markdown",
   "metadata": {},
   "source": [
    "Grab the overall California total"
   ]
  },
  {
   "cell_type": "code",
   "execution_count": 11,
   "metadata": {
    "execution": {
     "iopub.execute_input": "2021-03-22T11:12:12.094795Z",
     "iopub.status.busy": "2021-03-22T11:12:12.094109Z",
     "iopub.status.idle": "2021-03-22T11:12:12.098134Z",
     "shell.execute_reply": "2021-03-22T11:12:12.097681Z"
    }
   },
   "outputs": [],
   "source": [
    "add = {'location':'California','doses':dataJson[0]['dataValues'][2]}"
   ]
  },
  {
   "cell_type": "code",
   "execution_count": 12,
   "metadata": {
    "execution": {
     "iopub.execute_input": "2021-03-22T11:12:12.105354Z",
     "iopub.status.busy": "2021-03-22T11:12:12.104810Z",
     "iopub.status.idle": "2021-03-22T11:12:12.108254Z",
     "shell.execute_reply": "2021-03-22T11:12:12.109420Z"
    }
   },
   "outputs": [],
   "source": [
    "df = df.append(add, ignore_index=True)"
   ]
  },
  {
   "cell_type": "code",
   "execution_count": 13,
   "metadata": {
    "execution": {
     "iopub.execute_input": "2021-03-22T11:12:12.115771Z",
     "iopub.status.busy": "2021-03-22T11:12:12.115236Z",
     "iopub.status.idle": "2021-03-22T11:12:12.119129Z",
     "shell.execute_reply": "2021-03-22T11:12:12.118404Z"
    }
   },
   "outputs": [],
   "source": [
    "df = df.sort_values(by='location')"
   ]
  },
  {
   "cell_type": "code",
   "execution_count": 14,
   "metadata": {
    "execution": {
     "iopub.execute_input": "2021-03-22T11:12:12.125139Z",
     "iopub.status.busy": "2021-03-22T11:12:12.124601Z",
     "iopub.status.idle": "2021-03-22T11:12:12.128298Z",
     "shell.execute_reply": "2021-03-22T11:12:12.127856Z"
    }
   },
   "outputs": [],
   "source": [
    "df = df[df.location == 'California'].append(df[df.location != 'California']).reset_index(drop=True)"
   ]
  },
  {
   "cell_type": "code",
   "execution_count": null,
   "metadata": {},
   "outputs": [],
   "source": []
  },
  {
   "cell_type": "code",
   "execution_count": 15,
   "metadata": {
    "execution": {
     "iopub.execute_input": "2021-03-22T11:12:12.131439Z",
     "iopub.status.busy": "2021-03-22T11:12:12.130940Z",
     "iopub.status.idle": "2021-03-22T11:12:12.152521Z",
     "shell.execute_reply": "2021-03-22T11:12:12.153173Z"
    }
   },
   "outputs": [],
   "source": [
    "tz = pytz.timezone(\"America/New_York\")"
   ]
  },
  {
   "cell_type": "code",
   "execution_count": 16,
   "metadata": {
    "execution": {
     "iopub.execute_input": "2021-03-22T11:12:12.157659Z",
     "iopub.status.busy": "2021-03-22T11:12:12.156853Z",
     "iopub.status.idle": "2021-03-22T11:12:12.161211Z",
     "shell.execute_reply": "2021-03-22T11:12:12.160738Z"
    }
   },
   "outputs": [],
   "source": [
    "today = datetime.now(tz).date()"
   ]
  },
  {
   "cell_type": "code",
   "execution_count": 17,
   "metadata": {
    "execution": {
     "iopub.execute_input": "2021-03-22T11:12:12.164863Z",
     "iopub.status.busy": "2021-03-22T11:12:12.164357Z",
     "iopub.status.idle": "2021-03-22T11:12:12.167702Z",
     "shell.execute_reply": "2021-03-22T11:12:12.167245Z"
    }
   },
   "outputs": [],
   "source": [
    "data_dir = os.path.join(os.path.abspath(\"\"), \"data\")"
   ]
  },
  {
   "cell_type": "code",
   "execution_count": 18,
   "metadata": {
    "execution": {
     "iopub.execute_input": "2021-03-22T11:12:12.173047Z",
     "iopub.status.busy": "2021-03-22T11:12:12.171510Z",
     "iopub.status.idle": "2021-03-22T11:12:12.176979Z",
     "shell.execute_reply": "2021-03-22T11:12:12.177385Z"
    }
   },
   "outputs": [],
   "source": [
    "df.to_csv(os.path.join(data_dir, f\"{today}.csv\"), index=False)"
   ]
  },
  {
   "cell_type": "code",
   "execution_count": null,
   "metadata": {},
   "outputs": [],
   "source": []
  }
 ],
 "metadata": {
  "kernelspec": {
   "display_name": "Python 3",
   "language": "python",
   "name": "python3"
  },
  "language_info": {
   "codemirror_mode": {
    "name": "ipython",
    "version": 3
   },
   "file_extension": ".py",
   "mimetype": "text/x-python",
   "name": "python",
   "nbconvert_exporter": "python",
   "pygments_lexer": "ipython3",
   "version": "3.8.8"
  }
 },
 "nbformat": 4,
 "nbformat_minor": 4
}
