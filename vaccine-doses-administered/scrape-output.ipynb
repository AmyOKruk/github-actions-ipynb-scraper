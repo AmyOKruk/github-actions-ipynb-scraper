{
 "cells": [
  {
   "cell_type": "markdown",
   "metadata": {},
   "source": [
    "# California COVID vaccinations scrape"
   ]
  },
  {
   "cell_type": "markdown",
   "metadata": {},
   "source": [
    "By [Amy O'Kruk](https://twitter.com/amyokruk)"
   ]
  },
  {
   "cell_type": "markdown",
   "metadata": {},
   "source": [
    "Downloads data on vaccine doses administered by county and statewide from a Tableau-powered dashboard from the California Department of Public Health."
   ]
  },
  {
   "cell_type": "code",
   "execution_count": 1,
   "metadata": {
    "execution": {
     "iopub.execute_input": "2021-03-25T02:32:36.504766Z",
     "iopub.status.busy": "2021-03-25T02:32:36.503298Z",
     "iopub.status.idle": "2021-03-25T02:32:37.355233Z",
     "shell.execute_reply": "2021-03-25T02:32:37.354398Z"
    }
   },
   "outputs": [],
   "source": [
    "import pandas as pd\n",
    "import requests\n",
    "from bs4 import BeautifulSoup\n",
    "import json\n",
    "import re\n",
    "import time\n",
    "from time import gmtime, strftime \n",
    "import os\n",
    "import pytz\n",
    "from datetime import datetime"
   ]
  },
  {
   "cell_type": "markdown",
   "metadata": {},
   "source": [
    "Scrape the dashboard page"
   ]
  },
  {
   "cell_type": "code",
   "execution_count": 2,
   "metadata": {
    "execution": {
     "iopub.execute_input": "2021-03-25T02:32:37.361329Z",
     "iopub.status.busy": "2021-03-25T02:32:37.359031Z",
     "iopub.status.idle": "2021-03-25T02:32:37.732806Z",
     "shell.execute_reply": "2021-03-25T02:32:37.731999Z"
    }
   },
   "outputs": [],
   "source": [
    "url = \"https://public.tableau.com/interactive/views/COVID-19VaccineDashboardPublic/Vaccine?:embed=y&:showVizHome=n&:apiID=host0\"\n",
    "\n",
    "r = requests.get(url)\n",
    "soup = BeautifulSoup(r.text, \"html.parser\")"
   ]
  },
  {
   "cell_type": "code",
   "execution_count": 3,
   "metadata": {
    "execution": {
     "iopub.execute_input": "2021-03-25T02:32:37.737525Z",
     "iopub.status.busy": "2021-03-25T02:32:37.737002Z",
     "iopub.status.idle": "2021-03-25T02:32:37.740666Z",
     "shell.execute_reply": "2021-03-25T02:32:37.740205Z"
    }
   },
   "outputs": [],
   "source": [
    "tableauData = json.loads(soup.find(\"textarea\",{\"id\": \"tsConfigContainer\"}).text)"
   ]
  },
  {
   "cell_type": "markdown",
   "metadata": {},
   "source": [
    "Get the link to the Tableau data"
   ]
  },
  {
   "cell_type": "code",
   "execution_count": 4,
   "metadata": {
    "execution": {
     "iopub.execute_input": "2021-03-25T02:32:37.744255Z",
     "iopub.status.busy": "2021-03-25T02:32:37.743709Z",
     "iopub.status.idle": "2021-03-25T02:32:37.747890Z",
     "shell.execute_reply": "2021-03-25T02:32:37.747387Z"
    }
   },
   "outputs": [],
   "source": [
    "dataUrl = f'https://public.tableau.com{tableauData[\"vizql_root\"]}/bootstrapSession/sessions/{tableauData[\"sessionid\"]}'"
   ]
  },
  {
   "cell_type": "code",
   "execution_count": 5,
   "metadata": {
    "execution": {
     "iopub.execute_input": "2021-03-25T02:32:37.754549Z",
     "iopub.status.busy": "2021-03-25T02:32:37.753977Z",
     "iopub.status.idle": "2021-03-25T02:32:37.929694Z",
     "shell.execute_reply": "2021-03-25T02:32:37.929108Z"
    }
   },
   "outputs": [],
   "source": [
    "r = requests.post(dataUrl, data= {\n",
    "    \"sheet_id\": tableauData[\"sheetId\"],\n",
    "})\n",
    "\n",
    "dataReg = re.search('\\d+;({.*})\\d+;({.*})', r.text, re.MULTILINE)\n",
    "data1 = json.loads(dataReg.group(2))\n",
    "\n",
    "dataJson = data1[\"secondaryInfo\"][\"presModelMap\"][\"dataDictionary\"][\"presModelHolder\"][\"genDataDictionaryPresModel\"][\"dataSegments\"][\"0\"][\"dataColumns\"]"
   ]
  },
  {
   "cell_type": "markdown",
   "metadata": {},
   "source": [
    "Isolate what you want"
   ]
  },
  {
   "cell_type": "code",
   "execution_count": 6,
   "metadata": {
    "execution": {
     "iopub.execute_input": "2021-03-25T02:32:37.935173Z",
     "iopub.status.busy": "2021-03-25T02:32:37.933349Z",
     "iopub.status.idle": "2021-03-25T02:32:37.935919Z",
     "shell.execute_reply": "2021-03-25T02:32:37.936423Z"
    }
   },
   "outputs": [],
   "source": [
    "counties = dataJson[2]['dataValues'][:58]"
   ]
  },
  {
   "cell_type": "code",
   "execution_count": 7,
   "metadata": {
    "execution": {
     "iopub.execute_input": "2021-03-25T02:32:37.941275Z",
     "iopub.status.busy": "2021-03-25T02:32:37.939812Z",
     "iopub.status.idle": "2021-03-25T02:32:37.941964Z",
     "shell.execute_reply": "2021-03-25T02:32:37.942438Z"
    }
   },
   "outputs": [],
   "source": [
    "doses = dataJson[0]['dataValues'][3:61]"
   ]
  },
  {
   "cell_type": "markdown",
   "metadata": {},
   "source": [
    "Data formatting"
   ]
  },
  {
   "cell_type": "code",
   "execution_count": 8,
   "metadata": {
    "execution": {
     "iopub.execute_input": "2021-03-25T02:32:37.947297Z",
     "iopub.status.busy": "2021-03-25T02:32:37.945720Z",
     "iopub.status.idle": "2021-03-25T02:32:37.947920Z",
     "shell.execute_reply": "2021-03-25T02:32:37.948395Z"
    }
   },
   "outputs": [],
   "source": [
    "zipped = dict(zip(counties, doses))"
   ]
  },
  {
   "cell_type": "code",
   "execution_count": 9,
   "metadata": {
    "execution": {
     "iopub.execute_input": "2021-03-25T02:32:37.955296Z",
     "iopub.status.busy": "2021-03-25T02:32:37.953871Z",
     "iopub.status.idle": "2021-03-25T02:32:37.955994Z",
     "shell.execute_reply": "2021-03-25T02:32:37.956476Z"
    }
   },
   "outputs": [],
   "source": [
    "df = pd.Series(zipped).reset_index()"
   ]
  },
  {
   "cell_type": "code",
   "execution_count": 10,
   "metadata": {
    "execution": {
     "iopub.execute_input": "2021-03-25T02:32:37.961668Z",
     "iopub.status.busy": "2021-03-25T02:32:37.960258Z",
     "iopub.status.idle": "2021-03-25T02:32:37.962361Z",
     "shell.execute_reply": "2021-03-25T02:32:37.962885Z"
    }
   },
   "outputs": [],
   "source": [
    "df.columns = ['location','doses']"
   ]
  },
  {
   "cell_type": "markdown",
   "metadata": {},
   "source": [
    "Grab the overall California total"
   ]
  },
  {
   "cell_type": "code",
   "execution_count": 11,
   "metadata": {
    "execution": {
     "iopub.execute_input": "2021-03-25T02:32:37.967847Z",
     "iopub.status.busy": "2021-03-25T02:32:37.966465Z",
     "iopub.status.idle": "2021-03-25T02:32:37.968558Z",
     "shell.execute_reply": "2021-03-25T02:32:37.969042Z"
    }
   },
   "outputs": [],
   "source": [
    "add = {'location':'California','doses':dataJson[0]['dataValues'][2]}"
   ]
  },
  {
   "cell_type": "code",
   "execution_count": 12,
   "metadata": {
    "execution": {
     "iopub.execute_input": "2021-03-25T02:32:37.977079Z",
     "iopub.status.busy": "2021-03-25T02:32:37.975608Z",
     "iopub.status.idle": "2021-03-25T02:32:37.977693Z",
     "shell.execute_reply": "2021-03-25T02:32:37.978179Z"
    }
   },
   "outputs": [],
   "source": [
    "df = df.append(add, ignore_index=True)"
   ]
  },
  {
   "cell_type": "code",
   "execution_count": 13,
   "metadata": {
    "execution": {
     "iopub.execute_input": "2021-03-25T02:32:37.983901Z",
     "iopub.status.busy": "2021-03-25T02:32:37.982542Z",
     "iopub.status.idle": "2021-03-25T02:32:37.984538Z",
     "shell.execute_reply": "2021-03-25T02:32:37.985056Z"
    }
   },
   "outputs": [],
   "source": [
    "df = df.sort_values(by='location')"
   ]
  },
  {
   "cell_type": "code",
   "execution_count": 14,
   "metadata": {
    "execution": {
     "iopub.execute_input": "2021-03-25T02:32:37.992155Z",
     "iopub.status.busy": "2021-03-25T02:32:37.990735Z",
     "iopub.status.idle": "2021-03-25T02:32:37.992768Z",
     "shell.execute_reply": "2021-03-25T02:32:37.993251Z"
    }
   },
   "outputs": [],
   "source": [
    "df = df[df.location == 'California'].append(df[df.location != 'California']).reset_index(drop=True)"
   ]
  },
  {
   "cell_type": "code",
   "execution_count": null,
   "metadata": {},
   "outputs": [],
   "source": []
  },
  {
   "cell_type": "code",
   "execution_count": 15,
   "metadata": {
    "execution": {
     "iopub.execute_input": "2021-03-25T02:32:37.998330Z",
     "iopub.status.busy": "2021-03-25T02:32:37.997707Z",
     "iopub.status.idle": "2021-03-25T02:32:38.018970Z",
     "shell.execute_reply": "2021-03-25T02:32:38.018331Z"
    }
   },
   "outputs": [],
   "source": [
    "tz = pytz.timezone(\"America/New_York\")"
   ]
  },
  {
   "cell_type": "code",
   "execution_count": 16,
   "metadata": {
    "execution": {
     "iopub.execute_input": "2021-03-25T02:32:38.023896Z",
     "iopub.status.busy": "2021-03-25T02:32:38.022465Z",
     "iopub.status.idle": "2021-03-25T02:32:38.024544Z",
     "shell.execute_reply": "2021-03-25T02:32:38.025038Z"
    }
   },
   "outputs": [],
   "source": [
    "today = datetime.now(tz).date()"
   ]
  },
  {
   "cell_type": "code",
   "execution_count": 17,
   "metadata": {
    "execution": {
     "iopub.execute_input": "2021-03-25T02:32:38.030256Z",
     "iopub.status.busy": "2021-03-25T02:32:38.028806Z",
     "iopub.status.idle": "2021-03-25T02:32:38.030929Z",
     "shell.execute_reply": "2021-03-25T02:32:38.031415Z"
    }
   },
   "outputs": [],
   "source": [
    "data_dir = os.path.join(os.path.abspath(\"\"), \"data\")"
   ]
  },
  {
   "cell_type": "code",
   "execution_count": 18,
   "metadata": {
    "execution": {
     "iopub.execute_input": "2021-03-25T02:32:38.037469Z",
     "iopub.status.busy": "2021-03-25T02:32:38.034829Z",
     "iopub.status.idle": "2021-03-25T02:32:38.040200Z",
     "shell.execute_reply": "2021-03-25T02:32:38.039605Z"
    }
   },
   "outputs": [],
   "source": [
    "df.to_csv(os.path.join(data_dir, f\"{today}.csv\"), index=False)"
   ]
  },
  {
   "cell_type": "code",
   "execution_count": null,
   "metadata": {},
   "outputs": [],
   "source": []
  }
 ],
 "metadata": {
  "kernelspec": {
   "display_name": "Python 3",
   "language": "python",
   "name": "python3"
  },
  "language_info": {
   "codemirror_mode": {
    "name": "ipython",
    "version": 3
   },
   "file_extension": ".py",
   "mimetype": "text/x-python",
   "name": "python",
   "nbconvert_exporter": "python",
   "pygments_lexer": "ipython3",
   "version": "3.8.8"
  }
 },
 "nbformat": 4,
 "nbformat_minor": 4
}
