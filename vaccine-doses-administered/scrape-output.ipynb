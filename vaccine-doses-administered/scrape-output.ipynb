{
 "cells": [
  {
   "cell_type": "markdown",
   "metadata": {},
   "source": [
    "# California COVID vaccinations scrape"
   ]
  },
  {
   "cell_type": "markdown",
   "metadata": {},
   "source": [
    "By [Amy O'Kruk](https://twitter.com/amyokruk)"
   ]
  },
  {
   "cell_type": "markdown",
   "metadata": {},
   "source": [
    "Downloads data on vaccine doses administered by county and statewide from a Tableau-powered dashboard from the California Department of Public Health."
   ]
  },
  {
   "cell_type": "code",
   "execution_count": 1,
   "metadata": {
    "execution": {
     "iopub.execute_input": "2021-03-14T07:40:32.199466Z",
     "iopub.status.busy": "2021-03-14T07:40:32.198579Z",
     "iopub.status.idle": "2021-03-14T07:40:32.674652Z",
     "shell.execute_reply": "2021-03-14T07:40:32.675208Z"
    }
   },
   "outputs": [],
   "source": [
    "import pandas as pd\n",
    "import requests\n",
    "from bs4 import BeautifulSoup\n",
    "import json\n",
    "import re\n",
    "import time\n",
    "from time import gmtime, strftime \n",
    "import os\n",
    "import pytz\n",
    "from datetime import datetime"
   ]
  },
  {
   "cell_type": "markdown",
   "metadata": {},
   "source": [
    "Scrape the dashboard page"
   ]
  },
  {
   "cell_type": "code",
   "execution_count": 2,
   "metadata": {
    "execution": {
     "iopub.execute_input": "2021-03-14T07:40:32.680525Z",
     "iopub.status.busy": "2021-03-14T07:40:32.678274Z",
     "iopub.status.idle": "2021-03-14T07:40:34.392606Z",
     "shell.execute_reply": "2021-03-14T07:40:34.392029Z"
    }
   },
   "outputs": [],
   "source": [
    "url = \"https://public.tableau.com/interactive/views/COVID-19VaccineDashboardPublic/Vaccine?:embed=y&:showVizHome=n&:apiID=host0\"\n",
    "\n",
    "r = requests.get(url)\n",
    "soup = BeautifulSoup(r.text, \"html.parser\")"
   ]
  },
  {
   "cell_type": "code",
   "execution_count": 3,
   "metadata": {
    "execution": {
     "iopub.execute_input": "2021-03-14T07:40:34.398182Z",
     "iopub.status.busy": "2021-03-14T07:40:34.397603Z",
     "iopub.status.idle": "2021-03-14T07:40:34.401343Z",
     "shell.execute_reply": "2021-03-14T07:40:34.401951Z"
    }
   },
   "outputs": [],
   "source": [
    "tableauData = json.loads(soup.find(\"textarea\",{\"id\": \"tsConfigContainer\"}).text)"
   ]
  },
  {
   "cell_type": "markdown",
   "metadata": {},
   "source": [
    "Get the link to the Tableau data"
   ]
  },
  {
   "cell_type": "code",
   "execution_count": 4,
   "metadata": {
    "execution": {
     "iopub.execute_input": "2021-03-14T07:40:34.406298Z",
     "iopub.status.busy": "2021-03-14T07:40:34.405622Z",
     "iopub.status.idle": "2021-03-14T07:40:34.410494Z",
     "shell.execute_reply": "2021-03-14T07:40:34.409714Z"
    }
   },
   "outputs": [],
   "source": [
    "dataUrl = f'https://public.tableau.com{tableauData[\"vizql_root\"]}/bootstrapSession/sessions/{tableauData[\"sessionid\"]}'"
   ]
  },
  {
   "cell_type": "code",
   "execution_count": 5,
   "metadata": {
    "execution": {
     "iopub.execute_input": "2021-03-14T07:40:34.418787Z",
     "iopub.status.busy": "2021-03-14T07:40:34.418070Z",
     "iopub.status.idle": "2021-03-14T07:40:34.869051Z",
     "shell.execute_reply": "2021-03-14T07:40:34.868536Z"
    }
   },
   "outputs": [],
   "source": [
    "r = requests.post(dataUrl, data= {\n",
    "    \"sheet_id\": tableauData[\"sheetId\"],\n",
    "})\n",
    "\n",
    "dataReg = re.search('\\d+;({.*})\\d+;({.*})', r.text, re.MULTILINE)\n",
    "data1 = json.loads(dataReg.group(2))\n",
    "\n",
    "dataJson = data1[\"secondaryInfo\"][\"presModelMap\"][\"dataDictionary\"][\"presModelHolder\"][\"genDataDictionaryPresModel\"][\"dataSegments\"][\"0\"][\"dataColumns\"]"
   ]
  },
  {
   "cell_type": "markdown",
   "metadata": {},
   "source": [
    "Isolate what you want"
   ]
  },
  {
   "cell_type": "code",
   "execution_count": 6,
   "metadata": {
    "execution": {
     "iopub.execute_input": "2021-03-14T07:40:34.876675Z",
     "iopub.status.busy": "2021-03-14T07:40:34.876152Z",
     "iopub.status.idle": "2021-03-14T07:40:34.879657Z",
     "shell.execute_reply": "2021-03-14T07:40:34.879180Z"
    }
   },
   "outputs": [],
   "source": [
    "counties = dataJson[2]['dataValues'][:58]"
   ]
  },
  {
   "cell_type": "code",
   "execution_count": 7,
   "metadata": {
    "execution": {
     "iopub.execute_input": "2021-03-14T07:40:34.883337Z",
     "iopub.status.busy": "2021-03-14T07:40:34.882761Z",
     "iopub.status.idle": "2021-03-14T07:40:34.886556Z",
     "shell.execute_reply": "2021-03-14T07:40:34.886053Z"
    }
   },
   "outputs": [],
   "source": [
    "doses = dataJson[0]['dataValues'][3:61]"
   ]
  },
  {
   "cell_type": "markdown",
   "metadata": {},
   "source": [
    "Data formatting"
   ]
  },
  {
   "cell_type": "code",
   "execution_count": 8,
   "metadata": {
    "execution": {
     "iopub.execute_input": "2021-03-14T07:40:34.890173Z",
     "iopub.status.busy": "2021-03-14T07:40:34.889659Z",
     "iopub.status.idle": "2021-03-14T07:40:34.895237Z",
     "shell.execute_reply": "2021-03-14T07:40:34.894396Z"
    }
   },
   "outputs": [],
   "source": [
    "zipped = dict(zip(counties, doses))"
   ]
  },
  {
   "cell_type": "code",
   "execution_count": 9,
   "metadata": {
    "execution": {
     "iopub.execute_input": "2021-03-14T07:40:34.902330Z",
     "iopub.status.busy": "2021-03-14T07:40:34.901366Z",
     "iopub.status.idle": "2021-03-14T07:40:34.906521Z",
     "shell.execute_reply": "2021-03-14T07:40:34.905466Z"
    }
   },
   "outputs": [],
   "source": [
    "df = pd.Series(zipped).reset_index()"
   ]
  },
  {
   "cell_type": "code",
   "execution_count": 10,
   "metadata": {
    "execution": {
     "iopub.execute_input": "2021-03-14T07:40:34.910160Z",
     "iopub.status.busy": "2021-03-14T07:40:34.909639Z",
     "iopub.status.idle": "2021-03-14T07:40:34.912987Z",
     "shell.execute_reply": "2021-03-14T07:40:34.913457Z"
    }
   },
   "outputs": [],
   "source": [
    "df.columns = ['location','doses']"
   ]
  },
  {
   "cell_type": "markdown",
   "metadata": {},
   "source": [
    "Grab the overall California total"
   ]
  },
  {
   "cell_type": "code",
   "execution_count": 11,
   "metadata": {
    "execution": {
     "iopub.execute_input": "2021-03-14T07:40:34.917342Z",
     "iopub.status.busy": "2021-03-14T07:40:34.916593Z",
     "iopub.status.idle": "2021-03-14T07:40:34.920813Z",
     "shell.execute_reply": "2021-03-14T07:40:34.921401Z"
    }
   },
   "outputs": [],
   "source": [
    "add = {'location':'California','doses':dataJson[0]['dataValues'][2]}"
   ]
  },
  {
   "cell_type": "code",
   "execution_count": 12,
   "metadata": {
    "execution": {
     "iopub.execute_input": "2021-03-14T07:40:34.929227Z",
     "iopub.status.busy": "2021-03-14T07:40:34.927735Z",
     "iopub.status.idle": "2021-03-14T07:40:34.929852Z",
     "shell.execute_reply": "2021-03-14T07:40:34.930293Z"
    }
   },
   "outputs": [],
   "source": [
    "df = df.append(add, ignore_index=True)"
   ]
  },
  {
   "cell_type": "code",
   "execution_count": 13,
   "metadata": {
    "execution": {
     "iopub.execute_input": "2021-03-14T07:40:34.937794Z",
     "iopub.status.busy": "2021-03-14T07:40:34.936476Z",
     "iopub.status.idle": "2021-03-14T07:40:34.938541Z",
     "shell.execute_reply": "2021-03-14T07:40:34.939011Z"
    }
   },
   "outputs": [],
   "source": [
    "df = df.sort_values(by='location')"
   ]
  },
  {
   "cell_type": "code",
   "execution_count": 14,
   "metadata": {
    "execution": {
     "iopub.execute_input": "2021-03-14T07:40:34.945771Z",
     "iopub.status.busy": "2021-03-14T07:40:34.944311Z",
     "iopub.status.idle": "2021-03-14T07:40:34.946498Z",
     "shell.execute_reply": "2021-03-14T07:40:34.947032Z"
    }
   },
   "outputs": [],
   "source": [
    "df = df[df.location == 'California'].append(df[df.location != 'California']).reset_index(drop=True)"
   ]
  },
  {
   "cell_type": "code",
   "execution_count": null,
   "metadata": {},
   "outputs": [],
   "source": []
  },
  {
   "cell_type": "code",
   "execution_count": 15,
   "metadata": {
    "execution": {
     "iopub.execute_input": "2021-03-14T07:40:34.950860Z",
     "iopub.status.busy": "2021-03-14T07:40:34.950190Z",
     "iopub.status.idle": "2021-03-14T07:40:34.969502Z",
     "shell.execute_reply": "2021-03-14T07:40:34.968805Z"
    }
   },
   "outputs": [],
   "source": [
    "tz = pytz.timezone(\"America/New_York\")"
   ]
  },
  {
   "cell_type": "code",
   "execution_count": 16,
   "metadata": {
    "execution": {
     "iopub.execute_input": "2021-03-14T07:40:34.974172Z",
     "iopub.status.busy": "2021-03-14T07:40:34.972764Z",
     "iopub.status.idle": "2021-03-14T07:40:34.974780Z",
     "shell.execute_reply": "2021-03-14T07:40:34.975292Z"
    }
   },
   "outputs": [],
   "source": [
    "today = datetime.now(tz).date()"
   ]
  },
  {
   "cell_type": "code",
   "execution_count": 17,
   "metadata": {
    "execution": {
     "iopub.execute_input": "2021-03-14T07:40:34.980081Z",
     "iopub.status.busy": "2021-03-14T07:40:34.978483Z",
     "iopub.status.idle": "2021-03-14T07:40:34.980756Z",
     "shell.execute_reply": "2021-03-14T07:40:34.981217Z"
    }
   },
   "outputs": [],
   "source": [
    "data_dir = os.path.join(os.path.abspath(\"\"), \"data\")"
   ]
  },
  {
   "cell_type": "code",
   "execution_count": 18,
   "metadata": {
    "execution": {
     "iopub.execute_input": "2021-03-14T07:40:34.985731Z",
     "iopub.status.busy": "2021-03-14T07:40:34.984480Z",
     "iopub.status.idle": "2021-03-14T07:40:34.989333Z",
     "shell.execute_reply": "2021-03-14T07:40:34.988838Z"
    }
   },
   "outputs": [],
   "source": [
    "df.to_csv(os.path.join(data_dir, f\"{today}.csv\"), index=False)"
   ]
  },
  {
   "cell_type": "code",
   "execution_count": null,
   "metadata": {},
   "outputs": [],
   "source": []
  }
 ],
 "metadata": {
  "kernelspec": {
   "display_name": "Python 3",
   "language": "python",
   "name": "python3"
  },
  "language_info": {
   "codemirror_mode": {
    "name": "ipython",
    "version": 3
   },
   "file_extension": ".py",
   "mimetype": "text/x-python",
   "name": "python",
   "nbconvert_exporter": "python",
   "pygments_lexer": "ipython3",
   "version": "3.8.8"
  }
 },
 "nbformat": 4,
 "nbformat_minor": 4
}
