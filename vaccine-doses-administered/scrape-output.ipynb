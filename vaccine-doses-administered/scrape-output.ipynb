{
 "cells": [
  {
   "cell_type": "markdown",
   "metadata": {},
   "source": [
    "# California COVID vaccinations scrape"
   ]
  },
  {
   "cell_type": "markdown",
   "metadata": {},
   "source": [
    "By [Amy O'Kruk](https://twitter.com/amyokruk)"
   ]
  },
  {
   "cell_type": "markdown",
   "metadata": {},
   "source": [
    "Downloads data on vaccine doses administered by county and statewide from a Tableau-powered dashboard from the California Department of Public Health."
   ]
  },
  {
   "cell_type": "code",
   "execution_count": 1,
   "metadata": {
    "execution": {
     "iopub.execute_input": "2021-03-16T07:11:55.937585Z",
     "iopub.status.busy": "2021-03-16T07:11:55.936568Z",
     "iopub.status.idle": "2021-03-16T07:11:56.509908Z",
     "shell.execute_reply": "2021-03-16T07:11:56.507971Z"
    }
   },
   "outputs": [],
   "source": [
    "import pandas as pd\n",
    "import requests\n",
    "from bs4 import BeautifulSoup\n",
    "import json\n",
    "import re\n",
    "import time\n",
    "from time import gmtime, strftime \n",
    "import os\n",
    "import pytz\n",
    "from datetime import datetime"
   ]
  },
  {
   "cell_type": "markdown",
   "metadata": {},
   "source": [
    "Scrape the dashboard page"
   ]
  },
  {
   "cell_type": "code",
   "execution_count": 2,
   "metadata": {
    "execution": {
     "iopub.execute_input": "2021-03-16T07:11:56.521506Z",
     "iopub.status.busy": "2021-03-16T07:11:56.518371Z",
     "iopub.status.idle": "2021-03-16T07:11:57.858523Z",
     "shell.execute_reply": "2021-03-16T07:11:57.857963Z"
    }
   },
   "outputs": [],
   "source": [
    "url = \"https://public.tableau.com/interactive/views/COVID-19VaccineDashboardPublic/Vaccine?:embed=y&:showVizHome=n&:apiID=host0\"\n",
    "\n",
    "r = requests.get(url)\n",
    "soup = BeautifulSoup(r.text, \"html.parser\")"
   ]
  },
  {
   "cell_type": "code",
   "execution_count": 3,
   "metadata": {
    "execution": {
     "iopub.execute_input": "2021-03-16T07:11:57.863868Z",
     "iopub.status.busy": "2021-03-16T07:11:57.863244Z",
     "iopub.status.idle": "2021-03-16T07:11:57.866930Z",
     "shell.execute_reply": "2021-03-16T07:11:57.867455Z"
    }
   },
   "outputs": [],
   "source": [
    "tableauData = json.loads(soup.find(\"textarea\",{\"id\": \"tsConfigContainer\"}).text)"
   ]
  },
  {
   "cell_type": "markdown",
   "metadata": {},
   "source": [
    "Get the link to the Tableau data"
   ]
  },
  {
   "cell_type": "code",
   "execution_count": 4,
   "metadata": {
    "execution": {
     "iopub.execute_input": "2021-03-16T07:11:57.873357Z",
     "iopub.status.busy": "2021-03-16T07:11:57.871709Z",
     "iopub.status.idle": "2021-03-16T07:11:57.874510Z",
     "shell.execute_reply": "2021-03-16T07:11:57.875293Z"
    }
   },
   "outputs": [],
   "source": [
    "dataUrl = f'https://public.tableau.com{tableauData[\"vizql_root\"]}/bootstrapSession/sessions/{tableauData[\"sessionid\"]}'"
   ]
  },
  {
   "cell_type": "code",
   "execution_count": 5,
   "metadata": {
    "execution": {
     "iopub.execute_input": "2021-03-16T07:11:57.881362Z",
     "iopub.status.busy": "2021-03-16T07:11:57.880727Z",
     "iopub.status.idle": "2021-03-16T07:11:58.792381Z",
     "shell.execute_reply": "2021-03-16T07:11:58.791673Z"
    }
   },
   "outputs": [],
   "source": [
    "r = requests.post(dataUrl, data= {\n",
    "    \"sheet_id\": tableauData[\"sheetId\"],\n",
    "})\n",
    "\n",
    "dataReg = re.search('\\d+;({.*})\\d+;({.*})', r.text, re.MULTILINE)\n",
    "data1 = json.loads(dataReg.group(2))\n",
    "\n",
    "dataJson = data1[\"secondaryInfo\"][\"presModelMap\"][\"dataDictionary\"][\"presModelHolder\"][\"genDataDictionaryPresModel\"][\"dataSegments\"][\"0\"][\"dataColumns\"]"
   ]
  },
  {
   "cell_type": "markdown",
   "metadata": {},
   "source": [
    "Isolate what you want"
   ]
  },
  {
   "cell_type": "code",
   "execution_count": 6,
   "metadata": {
    "execution": {
     "iopub.execute_input": "2021-03-16T07:11:58.796899Z",
     "iopub.status.busy": "2021-03-16T07:11:58.796283Z",
     "iopub.status.idle": "2021-03-16T07:11:58.799215Z",
     "shell.execute_reply": "2021-03-16T07:11:58.798690Z"
    }
   },
   "outputs": [],
   "source": [
    "counties = dataJson[2]['dataValues'][:58]"
   ]
  },
  {
   "cell_type": "code",
   "execution_count": 7,
   "metadata": {
    "execution": {
     "iopub.execute_input": "2021-03-16T07:11:58.805095Z",
     "iopub.status.busy": "2021-03-16T07:11:58.803582Z",
     "iopub.status.idle": "2021-03-16T07:11:58.805913Z",
     "shell.execute_reply": "2021-03-16T07:11:58.806432Z"
    }
   },
   "outputs": [],
   "source": [
    "doses = dataJson[0]['dataValues'][3:61]"
   ]
  },
  {
   "cell_type": "markdown",
   "metadata": {},
   "source": [
    "Data formatting"
   ]
  },
  {
   "cell_type": "code",
   "execution_count": 8,
   "metadata": {
    "execution": {
     "iopub.execute_input": "2021-03-16T07:11:58.811828Z",
     "iopub.status.busy": "2021-03-16T07:11:58.810315Z",
     "iopub.status.idle": "2021-03-16T07:11:58.812627Z",
     "shell.execute_reply": "2021-03-16T07:11:58.813176Z"
    }
   },
   "outputs": [],
   "source": [
    "zipped = dict(zip(counties, doses))"
   ]
  },
  {
   "cell_type": "code",
   "execution_count": 9,
   "metadata": {
    "execution": {
     "iopub.execute_input": "2021-03-16T07:11:58.820423Z",
     "iopub.status.busy": "2021-03-16T07:11:58.819766Z",
     "iopub.status.idle": "2021-03-16T07:11:58.824727Z",
     "shell.execute_reply": "2021-03-16T07:11:58.824053Z"
    }
   },
   "outputs": [],
   "source": [
    "df = pd.Series(zipped).reset_index()"
   ]
  },
  {
   "cell_type": "code",
   "execution_count": 10,
   "metadata": {
    "execution": {
     "iopub.execute_input": "2021-03-16T07:11:58.831616Z",
     "iopub.status.busy": "2021-03-16T07:11:58.830972Z",
     "iopub.status.idle": "2021-03-16T07:11:58.832867Z",
     "shell.execute_reply": "2021-03-16T07:11:58.833414Z"
    }
   },
   "outputs": [],
   "source": [
    "df.columns = ['location','doses']"
   ]
  },
  {
   "cell_type": "markdown",
   "metadata": {},
   "source": [
    "Grab the overall California total"
   ]
  },
  {
   "cell_type": "code",
   "execution_count": 11,
   "metadata": {
    "execution": {
     "iopub.execute_input": "2021-03-16T07:11:58.839715Z",
     "iopub.status.busy": "2021-03-16T07:11:58.839098Z",
     "iopub.status.idle": "2021-03-16T07:11:58.841061Z",
     "shell.execute_reply": "2021-03-16T07:11:58.841530Z"
    }
   },
   "outputs": [],
   "source": [
    "add = {'location':'California','doses':dataJson[0]['dataValues'][2]}"
   ]
  },
  {
   "cell_type": "code",
   "execution_count": 12,
   "metadata": {
    "execution": {
     "iopub.execute_input": "2021-03-16T07:11:58.849511Z",
     "iopub.status.busy": "2021-03-16T07:11:58.848830Z",
     "iopub.status.idle": "2021-03-16T07:11:58.853727Z",
     "shell.execute_reply": "2021-03-16T07:11:58.853163Z"
    }
   },
   "outputs": [],
   "source": [
    "df = df.append(add, ignore_index=True)"
   ]
  },
  {
   "cell_type": "code",
   "execution_count": 13,
   "metadata": {
    "execution": {
     "iopub.execute_input": "2021-03-16T07:11:58.859905Z",
     "iopub.status.busy": "2021-03-16T07:11:58.858535Z",
     "iopub.status.idle": "2021-03-16T07:11:58.860696Z",
     "shell.execute_reply": "2021-03-16T07:11:58.861206Z"
    }
   },
   "outputs": [],
   "source": [
    "df = df.sort_values(by='location')"
   ]
  },
  {
   "cell_type": "code",
   "execution_count": 14,
   "metadata": {
    "execution": {
     "iopub.execute_input": "2021-03-16T07:11:58.869119Z",
     "iopub.status.busy": "2021-03-16T07:11:58.867599Z",
     "iopub.status.idle": "2021-03-16T07:11:58.869787Z",
     "shell.execute_reply": "2021-03-16T07:11:58.870291Z"
    }
   },
   "outputs": [],
   "source": [
    "df = df[df.location == 'California'].append(df[df.location != 'California']).reset_index(drop=True)"
   ]
  },
  {
   "cell_type": "code",
   "execution_count": null,
   "metadata": {},
   "outputs": [],
   "source": []
  },
  {
   "cell_type": "code",
   "execution_count": 15,
   "metadata": {
    "execution": {
     "iopub.execute_input": "2021-03-16T07:11:58.874727Z",
     "iopub.status.busy": "2021-03-16T07:11:58.874058Z",
     "iopub.status.idle": "2021-03-16T07:11:58.899568Z",
     "shell.execute_reply": "2021-03-16T07:11:58.898767Z"
    }
   },
   "outputs": [],
   "source": [
    "tz = pytz.timezone(\"America/New_York\")"
   ]
  },
  {
   "cell_type": "code",
   "execution_count": 16,
   "metadata": {
    "execution": {
     "iopub.execute_input": "2021-03-16T07:11:58.905011Z",
     "iopub.status.busy": "2021-03-16T07:11:58.903514Z",
     "iopub.status.idle": "2021-03-16T07:11:58.905859Z",
     "shell.execute_reply": "2021-03-16T07:11:58.906388Z"
    }
   },
   "outputs": [],
   "source": [
    "today = datetime.now(tz).date()"
   ]
  },
  {
   "cell_type": "code",
   "execution_count": 17,
   "metadata": {
    "execution": {
     "iopub.execute_input": "2021-03-16T07:11:58.911835Z",
     "iopub.status.busy": "2021-03-16T07:11:58.910344Z",
     "iopub.status.idle": "2021-03-16T07:11:58.912543Z",
     "shell.execute_reply": "2021-03-16T07:11:58.913050Z"
    }
   },
   "outputs": [],
   "source": [
    "data_dir = os.path.join(os.path.abspath(\"\"), \"data\")"
   ]
  },
  {
   "cell_type": "code",
   "execution_count": 18,
   "metadata": {
    "execution": {
     "iopub.execute_input": "2021-03-16T07:11:58.920328Z",
     "iopub.status.busy": "2021-03-16T07:11:58.919198Z",
     "iopub.status.idle": "2021-03-16T07:11:58.922274Z",
     "shell.execute_reply": "2021-03-16T07:11:58.922739Z"
    }
   },
   "outputs": [],
   "source": [
    "df.to_csv(os.path.join(data_dir, f\"{today}.csv\"), index=False)"
   ]
  },
  {
   "cell_type": "code",
   "execution_count": null,
   "metadata": {},
   "outputs": [],
   "source": []
  }
 ],
 "metadata": {
  "kernelspec": {
   "display_name": "Python 3",
   "language": "python",
   "name": "python3"
  },
  "language_info": {
   "codemirror_mode": {
    "name": "ipython",
    "version": 3
   },
   "file_extension": ".py",
   "mimetype": "text/x-python",
   "name": "python",
   "nbconvert_exporter": "python",
   "pygments_lexer": "ipython3",
   "version": "3.8.8"
  }
 },
 "nbformat": 4,
 "nbformat_minor": 4
}
