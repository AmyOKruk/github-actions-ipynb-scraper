{
 "cells": [
  {
   "cell_type": "markdown",
   "metadata": {},
   "source": [
    "# California COVID vaccinations scrape"
   ]
  },
  {
   "cell_type": "markdown",
   "metadata": {},
   "source": [
    "By [Amy O'Kruk](https://twitter.com/amyokruk)"
   ]
  },
  {
   "cell_type": "markdown",
   "metadata": {},
   "source": [
    "Downloads data on vaccine doses administered by county and statewide from a Tableau-powered dashboard from the California Department of Public Health."
   ]
  },
  {
   "cell_type": "code",
   "execution_count": 1,
   "metadata": {
    "execution": {
     "iopub.execute_input": "2021-03-17T17:13:14.971755Z",
     "iopub.status.busy": "2021-03-17T17:13:14.971042Z",
     "iopub.status.idle": "2021-03-17T17:13:15.433663Z",
     "shell.execute_reply": "2021-03-17T17:13:15.432696Z"
    }
   },
   "outputs": [],
   "source": [
    "import pandas as pd\n",
    "import requests\n",
    "from bs4 import BeautifulSoup\n",
    "import json\n",
    "import re\n",
    "import time\n",
    "from time import gmtime, strftime \n",
    "import os\n",
    "import pytz\n",
    "from datetime import datetime"
   ]
  },
  {
   "cell_type": "markdown",
   "metadata": {},
   "source": [
    "Scrape the dashboard page"
   ]
  },
  {
   "cell_type": "code",
   "execution_count": 2,
   "metadata": {
    "execution": {
     "iopub.execute_input": "2021-03-17T17:13:15.440642Z",
     "iopub.status.busy": "2021-03-17T17:13:15.437952Z",
     "iopub.status.idle": "2021-03-17T17:13:15.763596Z",
     "shell.execute_reply": "2021-03-17T17:13:15.762972Z"
    }
   },
   "outputs": [],
   "source": [
    "url = \"https://public.tableau.com/interactive/views/COVID-19VaccineDashboardPublic/Vaccine?:embed=y&:showVizHome=n&:apiID=host0\"\n",
    "\n",
    "r = requests.get(url)\n",
    "soup = BeautifulSoup(r.text, \"html.parser\")"
   ]
  },
  {
   "cell_type": "code",
   "execution_count": 3,
   "metadata": {
    "execution": {
     "iopub.execute_input": "2021-03-17T17:13:15.769082Z",
     "iopub.status.busy": "2021-03-17T17:13:15.768505Z",
     "iopub.status.idle": "2021-03-17T17:13:15.772905Z",
     "shell.execute_reply": "2021-03-17T17:13:15.772340Z"
    }
   },
   "outputs": [],
   "source": [
    "tableauData = json.loads(soup.find(\"textarea\",{\"id\": \"tsConfigContainer\"}).text)"
   ]
  },
  {
   "cell_type": "markdown",
   "metadata": {},
   "source": [
    "Get the link to the Tableau data"
   ]
  },
  {
   "cell_type": "code",
   "execution_count": 4,
   "metadata": {
    "execution": {
     "iopub.execute_input": "2021-03-17T17:13:15.777872Z",
     "iopub.status.busy": "2021-03-17T17:13:15.776587Z",
     "iopub.status.idle": "2021-03-17T17:13:15.778586Z",
     "shell.execute_reply": "2021-03-17T17:13:15.779084Z"
    }
   },
   "outputs": [],
   "source": [
    "dataUrl = f'https://public.tableau.com{tableauData[\"vizql_root\"]}/bootstrapSession/sessions/{tableauData[\"sessionid\"]}'"
   ]
  },
  {
   "cell_type": "code",
   "execution_count": 5,
   "metadata": {
    "execution": {
     "iopub.execute_input": "2021-03-17T17:13:15.787035Z",
     "iopub.status.busy": "2021-03-17T17:13:15.786440Z",
     "iopub.status.idle": "2021-03-17T17:13:16.112318Z",
     "shell.execute_reply": "2021-03-17T17:13:16.111849Z"
    }
   },
   "outputs": [],
   "source": [
    "r = requests.post(dataUrl, data= {\n",
    "    \"sheet_id\": tableauData[\"sheetId\"],\n",
    "})\n",
    "\n",
    "dataReg = re.search('\\d+;({.*})\\d+;({.*})', r.text, re.MULTILINE)\n",
    "data1 = json.loads(dataReg.group(2))\n",
    "\n",
    "dataJson = data1[\"secondaryInfo\"][\"presModelMap\"][\"dataDictionary\"][\"presModelHolder\"][\"genDataDictionaryPresModel\"][\"dataSegments\"][\"0\"][\"dataColumns\"]"
   ]
  },
  {
   "cell_type": "markdown",
   "metadata": {},
   "source": [
    "Isolate what you want"
   ]
  },
  {
   "cell_type": "code",
   "execution_count": 6,
   "metadata": {
    "execution": {
     "iopub.execute_input": "2021-03-17T17:13:16.117226Z",
     "iopub.status.busy": "2021-03-17T17:13:16.115956Z",
     "iopub.status.idle": "2021-03-17T17:13:16.117991Z",
     "shell.execute_reply": "2021-03-17T17:13:16.118449Z"
    }
   },
   "outputs": [],
   "source": [
    "counties = dataJson[2]['dataValues'][:58]"
   ]
  },
  {
   "cell_type": "code",
   "execution_count": 7,
   "metadata": {
    "execution": {
     "iopub.execute_input": "2021-03-17T17:13:16.124083Z",
     "iopub.status.busy": "2021-03-17T17:13:16.122385Z",
     "iopub.status.idle": "2021-03-17T17:13:16.125246Z",
     "shell.execute_reply": "2021-03-17T17:13:16.125782Z"
    }
   },
   "outputs": [],
   "source": [
    "doses = dataJson[0]['dataValues'][3:61]"
   ]
  },
  {
   "cell_type": "markdown",
   "metadata": {},
   "source": [
    "Data formatting"
   ]
  },
  {
   "cell_type": "code",
   "execution_count": 8,
   "metadata": {
    "execution": {
     "iopub.execute_input": "2021-03-17T17:13:16.130733Z",
     "iopub.status.busy": "2021-03-17T17:13:16.129236Z",
     "iopub.status.idle": "2021-03-17T17:13:16.131310Z",
     "shell.execute_reply": "2021-03-17T17:13:16.131737Z"
    }
   },
   "outputs": [],
   "source": [
    "zipped = dict(zip(counties, doses))"
   ]
  },
  {
   "cell_type": "code",
   "execution_count": 9,
   "metadata": {
    "execution": {
     "iopub.execute_input": "2021-03-17T17:13:16.138981Z",
     "iopub.status.busy": "2021-03-17T17:13:16.137455Z",
     "iopub.status.idle": "2021-03-17T17:13:16.139600Z",
     "shell.execute_reply": "2021-03-17T17:13:16.140042Z"
    }
   },
   "outputs": [],
   "source": [
    "df = pd.Series(zipped).reset_index()"
   ]
  },
  {
   "cell_type": "code",
   "execution_count": 10,
   "metadata": {
    "execution": {
     "iopub.execute_input": "2021-03-17T17:13:16.144841Z",
     "iopub.status.busy": "2021-03-17T17:13:16.143802Z",
     "iopub.status.idle": "2021-03-17T17:13:16.145880Z",
     "shell.execute_reply": "2021-03-17T17:13:16.146323Z"
    }
   },
   "outputs": [],
   "source": [
    "df.columns = ['location','doses']"
   ]
  },
  {
   "cell_type": "markdown",
   "metadata": {},
   "source": [
    "Grab the overall California total"
   ]
  },
  {
   "cell_type": "code",
   "execution_count": 11,
   "metadata": {
    "execution": {
     "iopub.execute_input": "2021-03-17T17:13:16.151186Z",
     "iopub.status.busy": "2021-03-17T17:13:16.149741Z",
     "iopub.status.idle": "2021-03-17T17:13:16.151778Z",
     "shell.execute_reply": "2021-03-17T17:13:16.152271Z"
    }
   },
   "outputs": [],
   "source": [
    "add = {'location':'California','doses':dataJson[0]['dataValues'][2]}"
   ]
  },
  {
   "cell_type": "code",
   "execution_count": 12,
   "metadata": {
    "execution": {
     "iopub.execute_input": "2021-03-17T17:13:16.164572Z",
     "iopub.status.busy": "2021-03-17T17:13:16.163923Z",
     "iopub.status.idle": "2021-03-17T17:13:16.179586Z",
     "shell.execute_reply": "2021-03-17T17:13:16.179079Z"
    }
   },
   "outputs": [],
   "source": [
    "df = df.append(add, ignore_index=True)"
   ]
  },
  {
   "cell_type": "code",
   "execution_count": 13,
   "metadata": {
    "execution": {
     "iopub.execute_input": "2021-03-17T17:13:16.184266Z",
     "iopub.status.busy": "2021-03-17T17:13:16.183710Z",
     "iopub.status.idle": "2021-03-17T17:13:16.186158Z",
     "shell.execute_reply": "2021-03-17T17:13:16.186709Z"
    }
   },
   "outputs": [],
   "source": [
    "df = df.sort_values(by='location')"
   ]
  },
  {
   "cell_type": "code",
   "execution_count": 14,
   "metadata": {
    "execution": {
     "iopub.execute_input": "2021-03-17T17:13:16.192653Z",
     "iopub.status.busy": "2021-03-17T17:13:16.192148Z",
     "iopub.status.idle": "2021-03-17T17:13:16.194622Z",
     "shell.execute_reply": "2021-03-17T17:13:16.194173Z"
    }
   },
   "outputs": [],
   "source": [
    "df = df[df.location == 'California'].append(df[df.location != 'California']).reset_index(drop=True)"
   ]
  },
  {
   "cell_type": "code",
   "execution_count": null,
   "metadata": {},
   "outputs": [],
   "source": []
  },
  {
   "cell_type": "code",
   "execution_count": 15,
   "metadata": {
    "execution": {
     "iopub.execute_input": "2021-03-17T17:13:16.197799Z",
     "iopub.status.busy": "2021-03-17T17:13:16.197272Z",
     "iopub.status.idle": "2021-03-17T17:13:16.215933Z",
     "shell.execute_reply": "2021-03-17T17:13:16.216483Z"
    }
   },
   "outputs": [],
   "source": [
    "tz = pytz.timezone(\"America/New_York\")"
   ]
  },
  {
   "cell_type": "code",
   "execution_count": 16,
   "metadata": {
    "execution": {
     "iopub.execute_input": "2021-03-17T17:13:16.221337Z",
     "iopub.status.busy": "2021-03-17T17:13:16.220081Z",
     "iopub.status.idle": "2021-03-17T17:13:16.222053Z",
     "shell.execute_reply": "2021-03-17T17:13:16.222545Z"
    }
   },
   "outputs": [],
   "source": [
    "today = datetime.now(tz).date()"
   ]
  },
  {
   "cell_type": "code",
   "execution_count": 17,
   "metadata": {
    "execution": {
     "iopub.execute_input": "2021-03-17T17:13:16.227273Z",
     "iopub.status.busy": "2021-03-17T17:13:16.225715Z",
     "iopub.status.idle": "2021-03-17T17:13:16.227896Z",
     "shell.execute_reply": "2021-03-17T17:13:16.228343Z"
    }
   },
   "outputs": [],
   "source": [
    "data_dir = os.path.join(os.path.abspath(\"\"), \"data\")"
   ]
  },
  {
   "cell_type": "code",
   "execution_count": 18,
   "metadata": {
    "execution": {
     "iopub.execute_input": "2021-03-17T17:13:16.232972Z",
     "iopub.status.busy": "2021-03-17T17:13:16.231943Z",
     "iopub.status.idle": "2021-03-17T17:13:16.236774Z",
     "shell.execute_reply": "2021-03-17T17:13:16.237250Z"
    }
   },
   "outputs": [],
   "source": [
    "df.to_csv(os.path.join(data_dir, f\"{today}.csv\"), index=False)"
   ]
  },
  {
   "cell_type": "code",
   "execution_count": null,
   "metadata": {},
   "outputs": [],
   "source": []
  }
 ],
 "metadata": {
  "kernelspec": {
   "display_name": "Python 3",
   "language": "python",
   "name": "python3"
  },
  "language_info": {
   "codemirror_mode": {
    "name": "ipython",
    "version": 3
   },
   "file_extension": ".py",
   "mimetype": "text/x-python",
   "name": "python",
   "nbconvert_exporter": "python",
   "pygments_lexer": "ipython3",
   "version": "3.8.8"
  }
 },
 "nbformat": 4,
 "nbformat_minor": 4
}
