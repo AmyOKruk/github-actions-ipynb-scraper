{
 "cells": [
  {
   "cell_type": "markdown",
   "metadata": {},
   "source": [
    "# California COVID vaccinations scrape"
   ]
  },
  {
   "cell_type": "markdown",
   "metadata": {},
   "source": [
    "By [Amy O'Kruk](https://twitter.com/amyokruk)"
   ]
  },
  {
   "cell_type": "markdown",
   "metadata": {},
   "source": [
    "Downloads data on vaccine doses administered by county and statewide from a Tableau-powered dashboard from the California Department of Public Health."
   ]
  },
  {
   "cell_type": "code",
   "execution_count": 1,
   "metadata": {
    "execution": {
     "iopub.execute_input": "2021-03-25T11:12:33.264794Z",
     "iopub.status.busy": "2021-03-25T11:12:33.264227Z",
     "iopub.status.idle": "2021-03-25T11:12:33.661977Z",
     "shell.execute_reply": "2021-03-25T11:12:33.660754Z"
    }
   },
   "outputs": [],
   "source": [
    "import pandas as pd\n",
    "import requests\n",
    "from bs4 import BeautifulSoup\n",
    "import json\n",
    "import re\n",
    "import time\n",
    "from time import gmtime, strftime \n",
    "import os\n",
    "import pytz\n",
    "from datetime import datetime"
   ]
  },
  {
   "cell_type": "markdown",
   "metadata": {},
   "source": [
    "Scrape the dashboard page"
   ]
  },
  {
   "cell_type": "code",
   "execution_count": 2,
   "metadata": {
    "execution": {
     "iopub.execute_input": "2021-03-25T11:12:33.668466Z",
     "iopub.status.busy": "2021-03-25T11:12:33.666717Z",
     "iopub.status.idle": "2021-03-25T11:12:34.303510Z",
     "shell.execute_reply": "2021-03-25T11:12:34.303998Z"
    }
   },
   "outputs": [],
   "source": [
    "url = \"https://public.tableau.com/interactive/views/COVID-19VaccineDashboardPublic/Vaccine?:embed=y&:showVizHome=n&:apiID=host0\"\n",
    "\n",
    "r = requests.get(url)\n",
    "soup = BeautifulSoup(r.text, \"html.parser\")"
   ]
  },
  {
   "cell_type": "code",
   "execution_count": 3,
   "metadata": {
    "execution": {
     "iopub.execute_input": "2021-03-25T11:12:34.309458Z",
     "iopub.status.busy": "2021-03-25T11:12:34.308908Z",
     "iopub.status.idle": "2021-03-25T11:12:34.311994Z",
     "shell.execute_reply": "2021-03-25T11:12:34.312403Z"
    }
   },
   "outputs": [],
   "source": [
    "tableauData = json.loads(soup.find(\"textarea\",{\"id\": \"tsConfigContainer\"}).text)"
   ]
  },
  {
   "cell_type": "markdown",
   "metadata": {},
   "source": [
    "Get the link to the Tableau data"
   ]
  },
  {
   "cell_type": "code",
   "execution_count": 4,
   "metadata": {
    "execution": {
     "iopub.execute_input": "2021-03-25T11:12:34.317068Z",
     "iopub.status.busy": "2021-03-25T11:12:34.315890Z",
     "iopub.status.idle": "2021-03-25T11:12:34.317735Z",
     "shell.execute_reply": "2021-03-25T11:12:34.318170Z"
    }
   },
   "outputs": [],
   "source": [
    "dataUrl = f'https://public.tableau.com{tableauData[\"vizql_root\"]}/bootstrapSession/sessions/{tableauData[\"sessionid\"]}'"
   ]
  },
  {
   "cell_type": "code",
   "execution_count": 5,
   "metadata": {
    "execution": {
     "iopub.execute_input": "2021-03-25T11:12:34.325098Z",
     "iopub.status.busy": "2021-03-25T11:12:34.324545Z",
     "iopub.status.idle": "2021-03-25T11:12:34.625820Z",
     "shell.execute_reply": "2021-03-25T11:12:34.624937Z"
    }
   },
   "outputs": [],
   "source": [
    "r = requests.post(dataUrl, data= {\n",
    "    \"sheet_id\": tableauData[\"sheetId\"],\n",
    "})\n",
    "\n",
    "dataReg = re.search('\\d+;({.*})\\d+;({.*})', r.text, re.MULTILINE)\n",
    "data1 = json.loads(dataReg.group(2))\n",
    "\n",
    "dataJson = data1[\"secondaryInfo\"][\"presModelMap\"][\"dataDictionary\"][\"presModelHolder\"][\"genDataDictionaryPresModel\"][\"dataSegments\"][\"0\"][\"dataColumns\"]"
   ]
  },
  {
   "cell_type": "markdown",
   "metadata": {},
   "source": [
    "Isolate what you want"
   ]
  },
  {
   "cell_type": "code",
   "execution_count": 6,
   "metadata": {
    "execution": {
     "iopub.execute_input": "2021-03-25T11:12:34.631012Z",
     "iopub.status.busy": "2021-03-25T11:12:34.629709Z",
     "iopub.status.idle": "2021-03-25T11:12:34.631621Z",
     "shell.execute_reply": "2021-03-25T11:12:34.632040Z"
    }
   },
   "outputs": [],
   "source": [
    "counties = dataJson[2]['dataValues'][:58]"
   ]
  },
  {
   "cell_type": "code",
   "execution_count": 7,
   "metadata": {
    "execution": {
     "iopub.execute_input": "2021-03-25T11:12:34.636563Z",
     "iopub.status.busy": "2021-03-25T11:12:34.635351Z",
     "iopub.status.idle": "2021-03-25T11:12:34.637148Z",
     "shell.execute_reply": "2021-03-25T11:12:34.637542Z"
    }
   },
   "outputs": [],
   "source": [
    "doses = dataJson[0]['dataValues'][3:61]"
   ]
  },
  {
   "cell_type": "markdown",
   "metadata": {},
   "source": [
    "Data formatting"
   ]
  },
  {
   "cell_type": "code",
   "execution_count": 8,
   "metadata": {
    "execution": {
     "iopub.execute_input": "2021-03-25T11:12:34.641761Z",
     "iopub.status.busy": "2021-03-25T11:12:34.640535Z",
     "iopub.status.idle": "2021-03-25T11:12:34.642368Z",
     "shell.execute_reply": "2021-03-25T11:12:34.642819Z"
    }
   },
   "outputs": [],
   "source": [
    "zipped = dict(zip(counties, doses))"
   ]
  },
  {
   "cell_type": "code",
   "execution_count": 9,
   "metadata": {
    "execution": {
     "iopub.execute_input": "2021-03-25T11:12:34.649743Z",
     "iopub.status.busy": "2021-03-25T11:12:34.648545Z",
     "iopub.status.idle": "2021-03-25T11:12:34.650402Z",
     "shell.execute_reply": "2021-03-25T11:12:34.650852Z"
    }
   },
   "outputs": [],
   "source": [
    "df = pd.Series(zipped).reset_index()"
   ]
  },
  {
   "cell_type": "code",
   "execution_count": 10,
   "metadata": {
    "execution": {
     "iopub.execute_input": "2021-03-25T11:12:34.655297Z",
     "iopub.status.busy": "2021-03-25T11:12:34.654144Z",
     "iopub.status.idle": "2021-03-25T11:12:34.655890Z",
     "shell.execute_reply": "2021-03-25T11:12:34.656312Z"
    }
   },
   "outputs": [],
   "source": [
    "df.columns = ['location','doses']"
   ]
  },
  {
   "cell_type": "markdown",
   "metadata": {},
   "source": [
    "Grab the overall California total"
   ]
  },
  {
   "cell_type": "code",
   "execution_count": 11,
   "metadata": {
    "execution": {
     "iopub.execute_input": "2021-03-25T11:12:34.660702Z",
     "iopub.status.busy": "2021-03-25T11:12:34.659505Z",
     "iopub.status.idle": "2021-03-25T11:12:34.661308Z",
     "shell.execute_reply": "2021-03-25T11:12:34.661732Z"
    }
   },
   "outputs": [],
   "source": [
    "add = {'location':'California','doses':dataJson[0]['dataValues'][2]}"
   ]
  },
  {
   "cell_type": "code",
   "execution_count": 12,
   "metadata": {
    "execution": {
     "iopub.execute_input": "2021-03-25T11:12:34.668998Z",
     "iopub.status.busy": "2021-03-25T11:12:34.667875Z",
     "iopub.status.idle": "2021-03-25T11:12:34.669601Z",
     "shell.execute_reply": "2021-03-25T11:12:34.670028Z"
    }
   },
   "outputs": [],
   "source": [
    "df = df.append(add, ignore_index=True)"
   ]
  },
  {
   "cell_type": "code",
   "execution_count": 13,
   "metadata": {
    "execution": {
     "iopub.execute_input": "2021-03-25T11:12:34.675112Z",
     "iopub.status.busy": "2021-03-25T11:12:34.673945Z",
     "iopub.status.idle": "2021-03-25T11:12:34.675700Z",
     "shell.execute_reply": "2021-03-25T11:12:34.676128Z"
    }
   },
   "outputs": [],
   "source": [
    "df = df.sort_values(by='location')"
   ]
  },
  {
   "cell_type": "code",
   "execution_count": 14,
   "metadata": {
    "execution": {
     "iopub.execute_input": "2021-03-25T11:12:34.682755Z",
     "iopub.status.busy": "2021-03-25T11:12:34.681552Z",
     "iopub.status.idle": "2021-03-25T11:12:34.683377Z",
     "shell.execute_reply": "2021-03-25T11:12:34.683803Z"
    }
   },
   "outputs": [],
   "source": [
    "df = df[df.location == 'California'].append(df[df.location != 'California']).reset_index(drop=True)"
   ]
  },
  {
   "cell_type": "code",
   "execution_count": null,
   "metadata": {},
   "outputs": [],
   "source": []
  },
  {
   "cell_type": "code",
   "execution_count": 15,
   "metadata": {
    "execution": {
     "iopub.execute_input": "2021-03-25T11:12:34.688450Z",
     "iopub.status.busy": "2021-03-25T11:12:34.687345Z",
     "iopub.status.idle": "2021-03-25T11:12:34.703978Z",
     "shell.execute_reply": "2021-03-25T11:12:34.703496Z"
    }
   },
   "outputs": [],
   "source": [
    "tz = pytz.timezone(\"America/New_York\")"
   ]
  },
  {
   "cell_type": "code",
   "execution_count": 16,
   "metadata": {
    "execution": {
     "iopub.execute_input": "2021-03-25T11:12:34.708262Z",
     "iopub.status.busy": "2021-03-25T11:12:34.707109Z",
     "iopub.status.idle": "2021-03-25T11:12:34.708850Z",
     "shell.execute_reply": "2021-03-25T11:12:34.709243Z"
    }
   },
   "outputs": [],
   "source": [
    "today = datetime.now(tz).date()"
   ]
  },
  {
   "cell_type": "code",
   "execution_count": 17,
   "metadata": {
    "execution": {
     "iopub.execute_input": "2021-03-25T11:12:34.713393Z",
     "iopub.status.busy": "2021-03-25T11:12:34.712276Z",
     "iopub.status.idle": "2021-03-25T11:12:34.713983Z",
     "shell.execute_reply": "2021-03-25T11:12:34.714405Z"
    }
   },
   "outputs": [],
   "source": [
    "data_dir = os.path.join(os.path.abspath(\"\"), \"data\")"
   ]
  },
  {
   "cell_type": "code",
   "execution_count": 18,
   "metadata": {
    "execution": {
     "iopub.execute_input": "2021-03-25T11:12:34.720032Z",
     "iopub.status.busy": "2021-03-25T11:12:34.719496Z",
     "iopub.status.idle": "2021-03-25T11:12:34.724852Z",
     "shell.execute_reply": "2021-03-25T11:12:34.724418Z"
    }
   },
   "outputs": [],
   "source": [
    "df.to_csv(os.path.join(data_dir, f\"{today}.csv\"), index=False)"
   ]
  },
  {
   "cell_type": "code",
   "execution_count": null,
   "metadata": {},
   "outputs": [],
   "source": []
  }
 ],
 "metadata": {
  "kernelspec": {
   "display_name": "Python 3",
   "language": "python",
   "name": "python3"
  },
  "language_info": {
   "codemirror_mode": {
    "name": "ipython",
    "version": 3
   },
   "file_extension": ".py",
   "mimetype": "text/x-python",
   "name": "python",
   "nbconvert_exporter": "python",
   "pygments_lexer": "ipython3",
   "version": "3.8.8"
  }
 },
 "nbformat": 4,
 "nbformat_minor": 4
}
