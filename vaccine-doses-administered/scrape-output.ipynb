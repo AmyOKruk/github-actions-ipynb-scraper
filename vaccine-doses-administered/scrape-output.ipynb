{
 "cells": [
  {
   "cell_type": "markdown",
   "metadata": {},
   "source": [
    "# California COVID vaccinations scrape"
   ]
  },
  {
   "cell_type": "markdown",
   "metadata": {},
   "source": [
    "By [Amy O'Kruk](https://twitter.com/amyokruk)"
   ]
  },
  {
   "cell_type": "markdown",
   "metadata": {},
   "source": [
    "Downloads data on vaccine doses administered by county and statewide from a Tableau-powered dashboard from the California Department of Public Health."
   ]
  },
  {
   "cell_type": "code",
   "execution_count": 1,
   "metadata": {
    "execution": {
     "iopub.execute_input": "2021-03-09T12:16:34.524940Z",
     "iopub.status.busy": "2021-03-09T12:16:34.524261Z",
     "iopub.status.idle": "2021-03-09T12:16:34.900360Z",
     "shell.execute_reply": "2021-03-09T12:16:34.899245Z"
    }
   },
   "outputs": [],
   "source": [
    "import pandas as pd\n",
    "import requests\n",
    "from bs4 import BeautifulSoup\n",
    "import json\n",
    "import re\n",
    "import time\n",
    "from time import gmtime, strftime \n",
    "import os\n",
    "import pytz\n",
    "from datetime import datetime"
   ]
  },
  {
   "cell_type": "markdown",
   "metadata": {},
   "source": [
    "Scrape the dashboard page"
   ]
  },
  {
   "cell_type": "code",
   "execution_count": 2,
   "metadata": {
    "execution": {
     "iopub.execute_input": "2021-03-09T12:16:34.907156Z",
     "iopub.status.busy": "2021-03-09T12:16:34.906615Z",
     "iopub.status.idle": "2021-03-09T12:16:35.537246Z",
     "shell.execute_reply": "2021-03-09T12:16:35.536136Z"
    }
   },
   "outputs": [],
   "source": [
    "url = \"https://public.tableau.com/interactive/views/COVID-19VaccineDashboardPublic/Vaccine?:embed=y&:showVizHome=n&:apiID=host0\"\n",
    "\n",
    "r = requests.get(url)\n",
    "soup = BeautifulSoup(r.text, \"html.parser\")"
   ]
  },
  {
   "cell_type": "code",
   "execution_count": 3,
   "metadata": {
    "execution": {
     "iopub.execute_input": "2021-03-09T12:16:35.550220Z",
     "iopub.status.busy": "2021-03-09T12:16:35.543427Z",
     "iopub.status.idle": "2021-03-09T12:16:35.552764Z",
     "shell.execute_reply": "2021-03-09T12:16:35.552296Z"
    }
   },
   "outputs": [],
   "source": [
    "tableauData = json.loads(soup.find(\"textarea\",{\"id\": \"tsConfigContainer\"}).text)"
   ]
  },
  {
   "cell_type": "markdown",
   "metadata": {},
   "source": [
    "Get the link to the Tableau data"
   ]
  },
  {
   "cell_type": "code",
   "execution_count": 4,
   "metadata": {
    "execution": {
     "iopub.execute_input": "2021-03-09T12:16:35.557422Z",
     "iopub.status.busy": "2021-03-09T12:16:35.556102Z",
     "iopub.status.idle": "2021-03-09T12:16:35.558025Z",
     "shell.execute_reply": "2021-03-09T12:16:35.558465Z"
    }
   },
   "outputs": [],
   "source": [
    "dataUrl = f'https://public.tableau.com{tableauData[\"vizql_root\"]}/bootstrapSession/sessions/{tableauData[\"sessionid\"]}'"
   ]
  },
  {
   "cell_type": "code",
   "execution_count": 5,
   "metadata": {
    "execution": {
     "iopub.execute_input": "2021-03-09T12:16:35.564658Z",
     "iopub.status.busy": "2021-03-09T12:16:35.564102Z",
     "iopub.status.idle": "2021-03-09T12:16:35.791834Z",
     "shell.execute_reply": "2021-03-09T12:16:35.791349Z"
    }
   },
   "outputs": [],
   "source": [
    "r = requests.post(dataUrl, data= {\n",
    "    \"sheet_id\": tableauData[\"sheetId\"],\n",
    "})\n",
    "\n",
    "dataReg = re.search('\\d+;({.*})\\d+;({.*})', r.text, re.MULTILINE)\n",
    "data1 = json.loads(dataReg.group(2))\n",
    "\n",
    "dataJson = data1[\"secondaryInfo\"][\"presModelMap\"][\"dataDictionary\"][\"presModelHolder\"][\"genDataDictionaryPresModel\"][\"dataSegments\"][\"0\"][\"dataColumns\"]"
   ]
  },
  {
   "cell_type": "markdown",
   "metadata": {},
   "source": [
    "Isolate what you want"
   ]
  },
  {
   "cell_type": "code",
   "execution_count": 6,
   "metadata": {
    "execution": {
     "iopub.execute_input": "2021-03-09T12:16:35.796444Z",
     "iopub.status.busy": "2021-03-09T12:16:35.795253Z",
     "iopub.status.idle": "2021-03-09T12:16:35.797285Z",
     "shell.execute_reply": "2021-03-09T12:16:35.798079Z"
    }
   },
   "outputs": [],
   "source": [
    "counties = dataJson[2]['dataValues'][:58]"
   ]
  },
  {
   "cell_type": "code",
   "execution_count": 7,
   "metadata": {
    "execution": {
     "iopub.execute_input": "2021-03-09T12:16:35.802598Z",
     "iopub.status.busy": "2021-03-09T12:16:35.801327Z",
     "iopub.status.idle": "2021-03-09T12:16:35.803356Z",
     "shell.execute_reply": "2021-03-09T12:16:35.804834Z"
    }
   },
   "outputs": [],
   "source": [
    "doses = dataJson[0]['dataValues'][3:61]"
   ]
  },
  {
   "cell_type": "markdown",
   "metadata": {},
   "source": [
    "Data formatting"
   ]
  },
  {
   "cell_type": "code",
   "execution_count": 8,
   "metadata": {
    "execution": {
     "iopub.execute_input": "2021-03-09T12:16:35.809247Z",
     "iopub.status.busy": "2021-03-09T12:16:35.807944Z",
     "iopub.status.idle": "2021-03-09T12:16:35.809848Z",
     "shell.execute_reply": "2021-03-09T12:16:35.810347Z"
    }
   },
   "outputs": [],
   "source": [
    "zipped = dict(zip(counties, doses))"
   ]
  },
  {
   "cell_type": "code",
   "execution_count": 9,
   "metadata": {
    "execution": {
     "iopub.execute_input": "2021-03-09T12:16:35.816826Z",
     "iopub.status.busy": "2021-03-09T12:16:35.815595Z",
     "iopub.status.idle": "2021-03-09T12:16:35.817485Z",
     "shell.execute_reply": "2021-03-09T12:16:35.817911Z"
    }
   },
   "outputs": [],
   "source": [
    "df = pd.Series(zipped).reset_index()"
   ]
  },
  {
   "cell_type": "code",
   "execution_count": 10,
   "metadata": {
    "execution": {
     "iopub.execute_input": "2021-03-09T12:16:35.822134Z",
     "iopub.status.busy": "2021-03-09T12:16:35.821024Z",
     "iopub.status.idle": "2021-03-09T12:16:35.822726Z",
     "shell.execute_reply": "2021-03-09T12:16:35.823150Z"
    }
   },
   "outputs": [],
   "source": [
    "df.columns = ['location','doses']"
   ]
  },
  {
   "cell_type": "markdown",
   "metadata": {},
   "source": [
    "Grab the overall California total"
   ]
  },
  {
   "cell_type": "code",
   "execution_count": 11,
   "metadata": {
    "execution": {
     "iopub.execute_input": "2021-03-09T12:16:35.828420Z",
     "iopub.status.busy": "2021-03-09T12:16:35.827615Z",
     "iopub.status.idle": "2021-03-09T12:16:35.829529Z",
     "shell.execute_reply": "2021-03-09T12:16:35.828973Z"
    }
   },
   "outputs": [],
   "source": [
    "add = {'location':'California','doses':dataJson[0]['dataValues'][2]}"
   ]
  },
  {
   "cell_type": "code",
   "execution_count": 12,
   "metadata": {
    "execution": {
     "iopub.execute_input": "2021-03-09T12:16:35.836523Z",
     "iopub.status.busy": "2021-03-09T12:16:35.835300Z",
     "iopub.status.idle": "2021-03-09T12:16:35.837116Z",
     "shell.execute_reply": "2021-03-09T12:16:35.837539Z"
    }
   },
   "outputs": [],
   "source": [
    "df = df.append(add, ignore_index=True)"
   ]
  },
  {
   "cell_type": "code",
   "execution_count": 13,
   "metadata": {
    "execution": {
     "iopub.execute_input": "2021-03-09T12:16:35.842445Z",
     "iopub.status.busy": "2021-03-09T12:16:35.841278Z",
     "iopub.status.idle": "2021-03-09T12:16:35.843041Z",
     "shell.execute_reply": "2021-03-09T12:16:35.843463Z"
    }
   },
   "outputs": [],
   "source": [
    "df = df.sort_values(by='location')"
   ]
  },
  {
   "cell_type": "code",
   "execution_count": 14,
   "metadata": {
    "execution": {
     "iopub.execute_input": "2021-03-09T12:16:35.850014Z",
     "iopub.status.busy": "2021-03-09T12:16:35.848824Z",
     "iopub.status.idle": "2021-03-09T12:16:35.850602Z",
     "shell.execute_reply": "2021-03-09T12:16:35.851026Z"
    }
   },
   "outputs": [],
   "source": [
    "df = df[df.location == 'California'].append(df[df.location != 'California']).reset_index(drop=True)"
   ]
  },
  {
   "cell_type": "code",
   "execution_count": null,
   "metadata": {},
   "outputs": [],
   "source": []
  },
  {
   "cell_type": "code",
   "execution_count": 15,
   "metadata": {
    "execution": {
     "iopub.execute_input": "2021-03-09T12:16:35.854320Z",
     "iopub.status.busy": "2021-03-09T12:16:35.853811Z",
     "iopub.status.idle": "2021-03-09T12:16:35.870630Z",
     "shell.execute_reply": "2021-03-09T12:16:35.870142Z"
    }
   },
   "outputs": [],
   "source": [
    "tz = pytz.timezone(\"America/New_York\")"
   ]
  },
  {
   "cell_type": "code",
   "execution_count": 16,
   "metadata": {
    "execution": {
     "iopub.execute_input": "2021-03-09T12:16:35.874736Z",
     "iopub.status.busy": "2021-03-09T12:16:35.873542Z",
     "iopub.status.idle": "2021-03-09T12:16:35.875387Z",
     "shell.execute_reply": "2021-03-09T12:16:35.875817Z"
    }
   },
   "outputs": [],
   "source": [
    "today = datetime.now(tz).date()"
   ]
  },
  {
   "cell_type": "code",
   "execution_count": 17,
   "metadata": {
    "execution": {
     "iopub.execute_input": "2021-03-09T12:16:35.880013Z",
     "iopub.status.busy": "2021-03-09T12:16:35.878913Z",
     "iopub.status.idle": "2021-03-09T12:16:35.880628Z",
     "shell.execute_reply": "2021-03-09T12:16:35.881061Z"
    }
   },
   "outputs": [],
   "source": [
    "data_dir = os.path.join(os.path.abspath(\"\"), \"data\")"
   ]
  },
  {
   "cell_type": "code",
   "execution_count": 18,
   "metadata": {
    "execution": {
     "iopub.execute_input": "2021-03-09T12:16:35.885351Z",
     "iopub.status.busy": "2021-03-09T12:16:35.884099Z",
     "iopub.status.idle": "2021-03-09T12:16:35.888585Z",
     "shell.execute_reply": "2021-03-09T12:16:35.888041Z"
    }
   },
   "outputs": [],
   "source": [
    "df.to_csv(os.path.join(data_dir, f\"{today}.csv\"), index=False)"
   ]
  },
  {
   "cell_type": "code",
   "execution_count": null,
   "metadata": {},
   "outputs": [],
   "source": []
  }
 ],
 "metadata": {
  "kernelspec": {
   "display_name": "Python 3",
   "language": "python",
   "name": "python3"
  },
  "language_info": {
   "codemirror_mode": {
    "name": "ipython",
    "version": 3
   },
   "file_extension": ".py",
   "mimetype": "text/x-python",
   "name": "python",
   "nbconvert_exporter": "python",
   "pygments_lexer": "ipython3",
   "version": "3.8.8"
  }
 },
 "nbformat": 4,
 "nbformat_minor": 4
}
