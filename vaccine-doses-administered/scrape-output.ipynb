{
 "cells": [
  {
   "cell_type": "markdown",
   "metadata": {},
   "source": [
    "# California COVID vaccinations scrape"
   ]
  },
  {
   "cell_type": "markdown",
   "metadata": {},
   "source": [
    "By [Amy O'Kruk](https://twitter.com/amyokruk)"
   ]
  },
  {
   "cell_type": "markdown",
   "metadata": {},
   "source": [
    "Downloads data on vaccine doses administered by county and statewide from a Tableau-powered dashboard from the California Department of Public Health."
   ]
  },
  {
   "cell_type": "code",
   "execution_count": 1,
   "metadata": {
    "execution": {
     "iopub.execute_input": "2021-03-22T09:18:31.440238Z",
     "iopub.status.busy": "2021-03-22T09:18:31.439607Z",
     "iopub.status.idle": "2021-03-22T09:18:31.757268Z",
     "shell.execute_reply": "2021-03-22T09:18:31.756744Z"
    }
   },
   "outputs": [],
   "source": [
    "import pandas as pd\n",
    "import requests\n",
    "from bs4 import BeautifulSoup\n",
    "import json\n",
    "import re\n",
    "import time\n",
    "from time import gmtime, strftime \n",
    "import os\n",
    "import pytz\n",
    "from datetime import datetime"
   ]
  },
  {
   "cell_type": "markdown",
   "metadata": {},
   "source": [
    "Scrape the dashboard page"
   ]
  },
  {
   "cell_type": "code",
   "execution_count": 2,
   "metadata": {
    "execution": {
     "iopub.execute_input": "2021-03-22T09:18:31.762369Z",
     "iopub.status.busy": "2021-03-22T09:18:31.760241Z",
     "iopub.status.idle": "2021-03-22T09:18:32.039702Z",
     "shell.execute_reply": "2021-03-22T09:18:32.040160Z"
    }
   },
   "outputs": [],
   "source": [
    "url = \"https://public.tableau.com/interactive/views/COVID-19VaccineDashboardPublic/Vaccine?:embed=y&:showVizHome=n&:apiID=host0\"\n",
    "\n",
    "r = requests.get(url)\n",
    "soup = BeautifulSoup(r.text, \"html.parser\")"
   ]
  },
  {
   "cell_type": "code",
   "execution_count": 3,
   "metadata": {
    "execution": {
     "iopub.execute_input": "2021-03-22T09:18:32.044237Z",
     "iopub.status.busy": "2021-03-22T09:18:32.043777Z",
     "iopub.status.idle": "2021-03-22T09:18:32.047107Z",
     "shell.execute_reply": "2021-03-22T09:18:32.047451Z"
    }
   },
   "outputs": [],
   "source": [
    "tableauData = json.loads(soup.find(\"textarea\",{\"id\": \"tsConfigContainer\"}).text)"
   ]
  },
  {
   "cell_type": "markdown",
   "metadata": {},
   "source": [
    "Get the link to the Tableau data"
   ]
  },
  {
   "cell_type": "code",
   "execution_count": 4,
   "metadata": {
    "execution": {
     "iopub.execute_input": "2021-03-22T09:18:32.050825Z",
     "iopub.status.busy": "2021-03-22T09:18:32.050042Z",
     "iopub.status.idle": "2021-03-22T09:18:32.052061Z",
     "shell.execute_reply": "2021-03-22T09:18:32.051668Z"
    }
   },
   "outputs": [],
   "source": [
    "dataUrl = f'https://public.tableau.com{tableauData[\"vizql_root\"]}/bootstrapSession/sessions/{tableauData[\"sessionid\"]}'"
   ]
  },
  {
   "cell_type": "code",
   "execution_count": 5,
   "metadata": {
    "execution": {
     "iopub.execute_input": "2021-03-22T09:18:32.057451Z",
     "iopub.status.busy": "2021-03-22T09:18:32.057005Z",
     "iopub.status.idle": "2021-03-22T09:18:32.556872Z",
     "shell.execute_reply": "2021-03-22T09:18:32.556442Z"
    }
   },
   "outputs": [],
   "source": [
    "r = requests.post(dataUrl, data= {\n",
    "    \"sheet_id\": tableauData[\"sheetId\"],\n",
    "})\n",
    "\n",
    "dataReg = re.search('\\d+;({.*})\\d+;({.*})', r.text, re.MULTILINE)\n",
    "data1 = json.loads(dataReg.group(2))\n",
    "\n",
    "dataJson = data1[\"secondaryInfo\"][\"presModelMap\"][\"dataDictionary\"][\"presModelHolder\"][\"genDataDictionaryPresModel\"][\"dataSegments\"][\"0\"][\"dataColumns\"]"
   ]
  },
  {
   "cell_type": "markdown",
   "metadata": {},
   "source": [
    "Isolate what you want"
   ]
  },
  {
   "cell_type": "code",
   "execution_count": 6,
   "metadata": {
    "execution": {
     "iopub.execute_input": "2021-03-22T09:18:32.560859Z",
     "iopub.status.busy": "2021-03-22T09:18:32.559841Z",
     "iopub.status.idle": "2021-03-22T09:18:32.561451Z",
     "shell.execute_reply": "2021-03-22T09:18:32.561817Z"
    }
   },
   "outputs": [],
   "source": [
    "counties = dataJson[2]['dataValues'][:58]"
   ]
  },
  {
   "cell_type": "code",
   "execution_count": 7,
   "metadata": {
    "execution": {
     "iopub.execute_input": "2021-03-22T09:18:32.564978Z",
     "iopub.status.busy": "2021-03-22T09:18:32.564538Z",
     "iopub.status.idle": "2021-03-22T09:18:32.566152Z",
     "shell.execute_reply": "2021-03-22T09:18:32.566490Z"
    }
   },
   "outputs": [],
   "source": [
    "doses = dataJson[0]['dataValues'][3:61]"
   ]
  },
  {
   "cell_type": "markdown",
   "metadata": {},
   "source": [
    "Data formatting"
   ]
  },
  {
   "cell_type": "code",
   "execution_count": 8,
   "metadata": {
    "execution": {
     "iopub.execute_input": "2021-03-22T09:18:32.569831Z",
     "iopub.status.busy": "2021-03-22T09:18:32.569049Z",
     "iopub.status.idle": "2021-03-22T09:18:32.571039Z",
     "shell.execute_reply": "2021-03-22T09:18:32.570679Z"
    }
   },
   "outputs": [],
   "source": [
    "zipped = dict(zip(counties, doses))"
   ]
  },
  {
   "cell_type": "code",
   "execution_count": 9,
   "metadata": {
    "execution": {
     "iopub.execute_input": "2021-03-22T09:18:32.576025Z",
     "iopub.status.busy": "2021-03-22T09:18:32.575537Z",
     "iopub.status.idle": "2021-03-22T09:18:32.577514Z",
     "shell.execute_reply": "2021-03-22T09:18:32.577156Z"
    }
   },
   "outputs": [],
   "source": [
    "df = pd.Series(zipped).reset_index()"
   ]
  },
  {
   "cell_type": "code",
   "execution_count": 10,
   "metadata": {
    "execution": {
     "iopub.execute_input": "2021-03-22T09:18:32.580927Z",
     "iopub.status.busy": "2021-03-22T09:18:32.580163Z",
     "iopub.status.idle": "2021-03-22T09:18:32.581731Z",
     "shell.execute_reply": "2021-03-22T09:18:32.582066Z"
    }
   },
   "outputs": [],
   "source": [
    "df.columns = ['location','doses']"
   ]
  },
  {
   "cell_type": "markdown",
   "metadata": {},
   "source": [
    "Grab the overall California total"
   ]
  },
  {
   "cell_type": "code",
   "execution_count": 11,
   "metadata": {
    "execution": {
     "iopub.execute_input": "2021-03-22T09:18:32.585460Z",
     "iopub.status.busy": "2021-03-22T09:18:32.584689Z",
     "iopub.status.idle": "2021-03-22T09:18:32.586578Z",
     "shell.execute_reply": "2021-03-22T09:18:32.586202Z"
    }
   },
   "outputs": [],
   "source": [
    "add = {'location':'California','doses':dataJson[0]['dataValues'][2]}"
   ]
  },
  {
   "cell_type": "code",
   "execution_count": 12,
   "metadata": {
    "execution": {
     "iopub.execute_input": "2021-03-22T09:18:32.592256Z",
     "iopub.status.busy": "2021-03-22T09:18:32.591464Z",
     "iopub.status.idle": "2021-03-22T09:18:32.593360Z",
     "shell.execute_reply": "2021-03-22T09:18:32.592982Z"
    }
   },
   "outputs": [],
   "source": [
    "df = df.append(add, ignore_index=True)"
   ]
  },
  {
   "cell_type": "code",
   "execution_count": 13,
   "metadata": {
    "execution": {
     "iopub.execute_input": "2021-03-22T09:18:32.597252Z",
     "iopub.status.busy": "2021-03-22T09:18:32.596491Z",
     "iopub.status.idle": "2021-03-22T09:18:32.598383Z",
     "shell.execute_reply": "2021-03-22T09:18:32.598003Z"
    }
   },
   "outputs": [],
   "source": [
    "df = df.sort_values(by='location')"
   ]
  },
  {
   "cell_type": "code",
   "execution_count": 14,
   "metadata": {
    "execution": {
     "iopub.execute_input": "2021-03-22T09:18:32.603561Z",
     "iopub.status.busy": "2021-03-22T09:18:32.602802Z",
     "iopub.status.idle": "2021-03-22T09:18:32.604725Z",
     "shell.execute_reply": "2021-03-22T09:18:32.604345Z"
    }
   },
   "outputs": [],
   "source": [
    "df = df[df.location == 'California'].append(df[df.location != 'California']).reset_index(drop=True)"
   ]
  },
  {
   "cell_type": "code",
   "execution_count": null,
   "metadata": {},
   "outputs": [],
   "source": []
  },
  {
   "cell_type": "code",
   "execution_count": 15,
   "metadata": {
    "execution": {
     "iopub.execute_input": "2021-03-22T09:18:32.607486Z",
     "iopub.status.busy": "2021-03-22T09:18:32.607055Z",
     "iopub.status.idle": "2021-03-22T09:18:32.622246Z",
     "shell.execute_reply": "2021-03-22T09:18:32.622586Z"
    }
   },
   "outputs": [],
   "source": [
    "tz = pytz.timezone(\"America/New_York\")"
   ]
  },
  {
   "cell_type": "code",
   "execution_count": 16,
   "metadata": {
    "execution": {
     "iopub.execute_input": "2021-03-22T09:18:32.625892Z",
     "iopub.status.busy": "2021-03-22T09:18:32.625131Z",
     "iopub.status.idle": "2021-03-22T09:18:32.627030Z",
     "shell.execute_reply": "2021-03-22T09:18:32.626646Z"
    }
   },
   "outputs": [],
   "source": [
    "today = datetime.now(tz).date()"
   ]
  },
  {
   "cell_type": "code",
   "execution_count": 17,
   "metadata": {
    "execution": {
     "iopub.execute_input": "2021-03-22T09:18:32.630481Z",
     "iopub.status.busy": "2021-03-22T09:18:32.629707Z",
     "iopub.status.idle": "2021-03-22T09:18:32.631318Z",
     "shell.execute_reply": "2021-03-22T09:18:32.631654Z"
    }
   },
   "outputs": [],
   "source": [
    "data_dir = os.path.join(os.path.abspath(\"\"), \"data\")"
   ]
  },
  {
   "cell_type": "code",
   "execution_count": 18,
   "metadata": {
    "execution": {
     "iopub.execute_input": "2021-03-22T09:18:32.635331Z",
     "iopub.status.busy": "2021-03-22T09:18:32.634324Z",
     "iopub.status.idle": "2021-03-22T09:18:32.638556Z",
     "shell.execute_reply": "2021-03-22T09:18:32.638194Z"
    }
   },
   "outputs": [],
   "source": [
    "df.to_csv(os.path.join(data_dir, f\"{today}.csv\"), index=False)"
   ]
  },
  {
   "cell_type": "code",
   "execution_count": null,
   "metadata": {},
   "outputs": [],
   "source": []
  }
 ],
 "metadata": {
  "kernelspec": {
   "display_name": "Python 3",
   "language": "python",
   "name": "python3"
  },
  "language_info": {
   "codemirror_mode": {
    "name": "ipython",
    "version": 3
   },
   "file_extension": ".py",
   "mimetype": "text/x-python",
   "name": "python",
   "nbconvert_exporter": "python",
   "pygments_lexer": "ipython3",
   "version": "3.8.8"
  }
 },
 "nbformat": 4,
 "nbformat_minor": 4
}
