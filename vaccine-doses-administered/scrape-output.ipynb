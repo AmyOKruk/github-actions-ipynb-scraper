{
 "cells": [
  {
   "cell_type": "markdown",
   "metadata": {},
   "source": [
    "# California COVID vaccinations scrape"
   ]
  },
  {
   "cell_type": "markdown",
   "metadata": {},
   "source": [
    "By [Amy O'Kruk](https://twitter.com/amyokruk)"
   ]
  },
  {
   "cell_type": "markdown",
   "metadata": {},
   "source": [
    "Downloads data on vaccine doses administered by county and statewide from a Tableau-powered dashboard from the California Department of Public Health."
   ]
  },
  {
   "cell_type": "code",
   "execution_count": 1,
   "metadata": {
    "execution": {
     "iopub.execute_input": "2021-03-17T10:43:53.007932Z",
     "iopub.status.busy": "2021-03-17T10:43:53.007302Z",
     "iopub.status.idle": "2021-03-17T10:43:53.370846Z",
     "shell.execute_reply": "2021-03-17T10:43:53.369742Z"
    }
   },
   "outputs": [],
   "source": [
    "import pandas as pd\n",
    "import requests\n",
    "from bs4 import BeautifulSoup\n",
    "import json\n",
    "import re\n",
    "import time\n",
    "from time import gmtime, strftime \n",
    "import os\n",
    "import pytz\n",
    "from datetime import datetime"
   ]
  },
  {
   "cell_type": "markdown",
   "metadata": {},
   "source": [
    "Scrape the dashboard page"
   ]
  },
  {
   "cell_type": "code",
   "execution_count": 2,
   "metadata": {
    "execution": {
     "iopub.execute_input": "2021-03-17T10:43:53.376689Z",
     "iopub.status.busy": "2021-03-17T10:43:53.374202Z",
     "iopub.status.idle": "2021-03-17T10:43:53.950469Z",
     "shell.execute_reply": "2021-03-17T10:43:53.949449Z"
    }
   },
   "outputs": [],
   "source": [
    "url = \"https://public.tableau.com/interactive/views/COVID-19VaccineDashboardPublic/Vaccine?:embed=y&:showVizHome=n&:apiID=host0\"\n",
    "\n",
    "r = requests.get(url)\n",
    "soup = BeautifulSoup(r.text, \"html.parser\")"
   ]
  },
  {
   "cell_type": "code",
   "execution_count": 3,
   "metadata": {
    "execution": {
     "iopub.execute_input": "2021-03-17T10:43:53.955541Z",
     "iopub.status.busy": "2021-03-17T10:43:53.954714Z",
     "iopub.status.idle": "2021-03-17T10:43:53.959018Z",
     "shell.execute_reply": "2021-03-17T10:43:53.958604Z"
    }
   },
   "outputs": [],
   "source": [
    "tableauData = json.loads(soup.find(\"textarea\",{\"id\": \"tsConfigContainer\"}).text)"
   ]
  },
  {
   "cell_type": "markdown",
   "metadata": {},
   "source": [
    "Get the link to the Tableau data"
   ]
  },
  {
   "cell_type": "code",
   "execution_count": 4,
   "metadata": {
    "execution": {
     "iopub.execute_input": "2021-03-17T10:43:53.963315Z",
     "iopub.status.busy": "2021-03-17T10:43:53.962799Z",
     "iopub.status.idle": "2021-03-17T10:43:53.966098Z",
     "shell.execute_reply": "2021-03-17T10:43:53.965662Z"
    }
   },
   "outputs": [],
   "source": [
    "dataUrl = f'https://public.tableau.com{tableauData[\"vizql_root\"]}/bootstrapSession/sessions/{tableauData[\"sessionid\"]}'"
   ]
  },
  {
   "cell_type": "code",
   "execution_count": 5,
   "metadata": {
    "execution": {
     "iopub.execute_input": "2021-03-17T10:43:53.972217Z",
     "iopub.status.busy": "2021-03-17T10:43:53.971732Z",
     "iopub.status.idle": "2021-03-17T10:43:54.259844Z",
     "shell.execute_reply": "2021-03-17T10:43:54.259346Z"
    }
   },
   "outputs": [],
   "source": [
    "r = requests.post(dataUrl, data= {\n",
    "    \"sheet_id\": tableauData[\"sheetId\"],\n",
    "})\n",
    "\n",
    "dataReg = re.search('\\d+;({.*})\\d+;({.*})', r.text, re.MULTILINE)\n",
    "data1 = json.loads(dataReg.group(2))\n",
    "\n",
    "dataJson = data1[\"secondaryInfo\"][\"presModelMap\"][\"dataDictionary\"][\"presModelHolder\"][\"genDataDictionaryPresModel\"][\"dataSegments\"][\"0\"][\"dataColumns\"]"
   ]
  },
  {
   "cell_type": "markdown",
   "metadata": {},
   "source": [
    "Isolate what you want"
   ]
  },
  {
   "cell_type": "code",
   "execution_count": 6,
   "metadata": {
    "execution": {
     "iopub.execute_input": "2021-03-17T10:43:54.263376Z",
     "iopub.status.busy": "2021-03-17T10:43:54.262924Z",
     "iopub.status.idle": "2021-03-17T10:43:54.266229Z",
     "shell.execute_reply": "2021-03-17T10:43:54.265826Z"
    }
   },
   "outputs": [],
   "source": [
    "counties = dataJson[2]['dataValues'][:58]"
   ]
  },
  {
   "cell_type": "code",
   "execution_count": 7,
   "metadata": {
    "execution": {
     "iopub.execute_input": "2021-03-17T10:43:54.269239Z",
     "iopub.status.busy": "2021-03-17T10:43:54.268767Z",
     "iopub.status.idle": "2021-03-17T10:43:54.271802Z",
     "shell.execute_reply": "2021-03-17T10:43:54.271450Z"
    }
   },
   "outputs": [],
   "source": [
    "doses = dataJson[0]['dataValues'][3:61]"
   ]
  },
  {
   "cell_type": "markdown",
   "metadata": {},
   "source": [
    "Data formatting"
   ]
  },
  {
   "cell_type": "code",
   "execution_count": 8,
   "metadata": {
    "execution": {
     "iopub.execute_input": "2021-03-17T10:43:54.275310Z",
     "iopub.status.busy": "2021-03-17T10:43:54.274770Z",
     "iopub.status.idle": "2021-03-17T10:43:54.278794Z",
     "shell.execute_reply": "2021-03-17T10:43:54.278383Z"
    }
   },
   "outputs": [],
   "source": [
    "zipped = dict(zip(counties, doses))"
   ]
  },
  {
   "cell_type": "code",
   "execution_count": 9,
   "metadata": {
    "execution": {
     "iopub.execute_input": "2021-03-17T10:43:54.283796Z",
     "iopub.status.busy": "2021-03-17T10:43:54.283271Z",
     "iopub.status.idle": "2021-03-17T10:43:54.287051Z",
     "shell.execute_reply": "2021-03-17T10:43:54.286650Z"
    }
   },
   "outputs": [],
   "source": [
    "df = pd.Series(zipped).reset_index()"
   ]
  },
  {
   "cell_type": "code",
   "execution_count": 10,
   "metadata": {
    "execution": {
     "iopub.execute_input": "2021-03-17T10:43:54.290255Z",
     "iopub.status.busy": "2021-03-17T10:43:54.289895Z",
     "iopub.status.idle": "2021-03-17T10:43:54.292916Z",
     "shell.execute_reply": "2021-03-17T10:43:54.292477Z"
    }
   },
   "outputs": [],
   "source": [
    "df.columns = ['location','doses']"
   ]
  },
  {
   "cell_type": "markdown",
   "metadata": {},
   "source": [
    "Grab the overall California total"
   ]
  },
  {
   "cell_type": "code",
   "execution_count": 11,
   "metadata": {
    "execution": {
     "iopub.execute_input": "2021-03-17T10:43:54.296250Z",
     "iopub.status.busy": "2021-03-17T10:43:54.295739Z",
     "iopub.status.idle": "2021-03-17T10:43:54.299382Z",
     "shell.execute_reply": "2021-03-17T10:43:54.299800Z"
    }
   },
   "outputs": [],
   "source": [
    "add = {'location':'California','doses':dataJson[0]['dataValues'][2]}"
   ]
  },
  {
   "cell_type": "code",
   "execution_count": 12,
   "metadata": {
    "execution": {
     "iopub.execute_input": "2021-03-17T10:43:54.305848Z",
     "iopub.status.busy": "2021-03-17T10:43:54.305407Z",
     "iopub.status.idle": "2021-03-17T10:43:54.308658Z",
     "shell.execute_reply": "2021-03-17T10:43:54.308207Z"
    }
   },
   "outputs": [],
   "source": [
    "df = df.append(add, ignore_index=True)"
   ]
  },
  {
   "cell_type": "code",
   "execution_count": 13,
   "metadata": {
    "execution": {
     "iopub.execute_input": "2021-03-17T10:43:54.312746Z",
     "iopub.status.busy": "2021-03-17T10:43:54.312265Z",
     "iopub.status.idle": "2021-03-17T10:43:54.315458Z",
     "shell.execute_reply": "2021-03-17T10:43:54.315106Z"
    }
   },
   "outputs": [],
   "source": [
    "df = df.sort_values(by='location')"
   ]
  },
  {
   "cell_type": "code",
   "execution_count": 14,
   "metadata": {
    "execution": {
     "iopub.execute_input": "2021-03-17T10:43:54.320645Z",
     "iopub.status.busy": "2021-03-17T10:43:54.320132Z",
     "iopub.status.idle": "2021-03-17T10:43:54.324039Z",
     "shell.execute_reply": "2021-03-17T10:43:54.323625Z"
    }
   },
   "outputs": [],
   "source": [
    "df = df[df.location == 'California'].append(df[df.location != 'California']).reset_index(drop=True)"
   ]
  },
  {
   "cell_type": "code",
   "execution_count": null,
   "metadata": {},
   "outputs": [],
   "source": []
  },
  {
   "cell_type": "code",
   "execution_count": 15,
   "metadata": {
    "execution": {
     "iopub.execute_input": "2021-03-17T10:43:54.326933Z",
     "iopub.status.busy": "2021-03-17T10:43:54.326496Z",
     "iopub.status.idle": "2021-03-17T10:43:54.344132Z",
     "shell.execute_reply": "2021-03-17T10:43:54.343664Z"
    }
   },
   "outputs": [],
   "source": [
    "tz = pytz.timezone(\"America/New_York\")"
   ]
  },
  {
   "cell_type": "code",
   "execution_count": 16,
   "metadata": {
    "execution": {
     "iopub.execute_input": "2021-03-17T10:43:54.347166Z",
     "iopub.status.busy": "2021-03-17T10:43:54.346808Z",
     "iopub.status.idle": "2021-03-17T10:43:54.350035Z",
     "shell.execute_reply": "2021-03-17T10:43:54.349555Z"
    }
   },
   "outputs": [],
   "source": [
    "today = datetime.now(tz).date()"
   ]
  },
  {
   "cell_type": "code",
   "execution_count": 17,
   "metadata": {
    "execution": {
     "iopub.execute_input": "2021-03-17T10:43:54.353455Z",
     "iopub.status.busy": "2021-03-17T10:43:54.352985Z",
     "iopub.status.idle": "2021-03-17T10:43:54.356821Z",
     "shell.execute_reply": "2021-03-17T10:43:54.356425Z"
    }
   },
   "outputs": [],
   "source": [
    "data_dir = os.path.join(os.path.abspath(\"\"), \"data\")"
   ]
  },
  {
   "cell_type": "code",
   "execution_count": 18,
   "metadata": {
    "execution": {
     "iopub.execute_input": "2021-03-17T10:43:54.361648Z",
     "iopub.status.busy": "2021-03-17T10:43:54.360105Z",
     "iopub.status.idle": "2021-03-17T10:43:54.365399Z",
     "shell.execute_reply": "2021-03-17T10:43:54.365007Z"
    }
   },
   "outputs": [],
   "source": [
    "df.to_csv(os.path.join(data_dir, f\"{today}.csv\"), index=False)"
   ]
  },
  {
   "cell_type": "code",
   "execution_count": null,
   "metadata": {},
   "outputs": [],
   "source": []
  }
 ],
 "metadata": {
  "kernelspec": {
   "display_name": "Python 3",
   "language": "python",
   "name": "python3"
  },
  "language_info": {
   "codemirror_mode": {
    "name": "ipython",
    "version": 3
   },
   "file_extension": ".py",
   "mimetype": "text/x-python",
   "name": "python",
   "nbconvert_exporter": "python",
   "pygments_lexer": "ipython3",
   "version": "3.8.8"
  }
 },
 "nbformat": 4,
 "nbformat_minor": 4
}
