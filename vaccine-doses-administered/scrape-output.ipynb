{
 "cells": [
  {
   "cell_type": "markdown",
   "metadata": {},
   "source": [
    "# California COVID vaccinations scrape"
   ]
  },
  {
   "cell_type": "markdown",
   "metadata": {},
   "source": [
    "By [Amy O'Kruk](https://twitter.com/amyokruk)"
   ]
  },
  {
   "cell_type": "markdown",
   "metadata": {},
   "source": [
    "Downloads data on vaccine doses administered by county and statewide from a Tableau-powered dashboard from the California Department of Public Health."
   ]
  },
  {
   "cell_type": "code",
   "execution_count": 1,
   "metadata": {
    "execution": {
     "iopub.execute_input": "2021-03-16T06:14:29.839899Z",
     "iopub.status.busy": "2021-03-16T06:14:29.839238Z",
     "iopub.status.idle": "2021-03-16T06:14:30.364055Z",
     "shell.execute_reply": "2021-03-16T06:14:30.363029Z"
    }
   },
   "outputs": [],
   "source": [
    "import pandas as pd\n",
    "import requests\n",
    "from bs4 import BeautifulSoup\n",
    "import json\n",
    "import re\n",
    "import time\n",
    "from time import gmtime, strftime \n",
    "import os\n",
    "import pytz\n",
    "from datetime import datetime"
   ]
  },
  {
   "cell_type": "markdown",
   "metadata": {},
   "source": [
    "Scrape the dashboard page"
   ]
  },
  {
   "cell_type": "code",
   "execution_count": 2,
   "metadata": {
    "execution": {
     "iopub.execute_input": "2021-03-16T06:14:30.368303Z",
     "iopub.status.busy": "2021-03-16T06:14:30.367760Z",
     "iopub.status.idle": "2021-03-16T06:14:30.817277Z",
     "shell.execute_reply": "2021-03-16T06:14:30.816425Z"
    }
   },
   "outputs": [],
   "source": [
    "url = \"https://public.tableau.com/interactive/views/COVID-19VaccineDashboardPublic/Vaccine?:embed=y&:showVizHome=n&:apiID=host0\"\n",
    "\n",
    "r = requests.get(url)\n",
    "soup = BeautifulSoup(r.text, \"html.parser\")"
   ]
  },
  {
   "cell_type": "code",
   "execution_count": 3,
   "metadata": {
    "execution": {
     "iopub.execute_input": "2021-03-16T06:14:30.823333Z",
     "iopub.status.busy": "2021-03-16T06:14:30.822339Z",
     "iopub.status.idle": "2021-03-16T06:14:30.824393Z",
     "shell.execute_reply": "2021-03-16T06:14:30.824818Z"
    }
   },
   "outputs": [],
   "source": [
    "tableauData = json.loads(soup.find(\"textarea\",{\"id\": \"tsConfigContainer\"}).text)"
   ]
  },
  {
   "cell_type": "markdown",
   "metadata": {},
   "source": [
    "Get the link to the Tableau data"
   ]
  },
  {
   "cell_type": "code",
   "execution_count": 4,
   "metadata": {
    "execution": {
     "iopub.execute_input": "2021-03-16T06:14:30.829486Z",
     "iopub.status.busy": "2021-03-16T06:14:30.828311Z",
     "iopub.status.idle": "2021-03-16T06:14:30.830096Z",
     "shell.execute_reply": "2021-03-16T06:14:30.830531Z"
    }
   },
   "outputs": [],
   "source": [
    "dataUrl = f'https://public.tableau.com{tableauData[\"vizql_root\"]}/bootstrapSession/sessions/{tableauData[\"sessionid\"]}'"
   ]
  },
  {
   "cell_type": "code",
   "execution_count": 5,
   "metadata": {
    "execution": {
     "iopub.execute_input": "2021-03-16T06:14:30.837501Z",
     "iopub.status.busy": "2021-03-16T06:14:30.836916Z",
     "iopub.status.idle": "2021-03-16T06:14:31.288378Z",
     "shell.execute_reply": "2021-03-16T06:14:31.287867Z"
    }
   },
   "outputs": [],
   "source": [
    "r = requests.post(dataUrl, data= {\n",
    "    \"sheet_id\": tableauData[\"sheetId\"],\n",
    "})\n",
    "\n",
    "dataReg = re.search('\\d+;({.*})\\d+;({.*})', r.text, re.MULTILINE)\n",
    "data1 = json.loads(dataReg.group(2))\n",
    "\n",
    "dataJson = data1[\"secondaryInfo\"][\"presModelMap\"][\"dataDictionary\"][\"presModelHolder\"][\"genDataDictionaryPresModel\"][\"dataSegments\"][\"0\"][\"dataColumns\"]"
   ]
  },
  {
   "cell_type": "markdown",
   "metadata": {},
   "source": [
    "Isolate what you want"
   ]
  },
  {
   "cell_type": "code",
   "execution_count": 6,
   "metadata": {
    "execution": {
     "iopub.execute_input": "2021-03-16T06:14:31.293177Z",
     "iopub.status.busy": "2021-03-16T06:14:31.292579Z",
     "iopub.status.idle": "2021-03-16T06:14:31.302725Z",
     "shell.execute_reply": "2021-03-16T06:14:31.301954Z"
    }
   },
   "outputs": [],
   "source": [
    "counties = dataJson[2]['dataValues'][:58]"
   ]
  },
  {
   "cell_type": "code",
   "execution_count": 7,
   "metadata": {
    "execution": {
     "iopub.execute_input": "2021-03-16T06:14:31.307411Z",
     "iopub.status.busy": "2021-03-16T06:14:31.306120Z",
     "iopub.status.idle": "2021-03-16T06:14:31.308038Z",
     "shell.execute_reply": "2021-03-16T06:14:31.308480Z"
    }
   },
   "outputs": [],
   "source": [
    "doses = dataJson[0]['dataValues'][3:61]"
   ]
  },
  {
   "cell_type": "markdown",
   "metadata": {},
   "source": [
    "Data formatting"
   ]
  },
  {
   "cell_type": "code",
   "execution_count": 8,
   "metadata": {
    "execution": {
     "iopub.execute_input": "2021-03-16T06:14:31.313087Z",
     "iopub.status.busy": "2021-03-16T06:14:31.311899Z",
     "iopub.status.idle": "2021-03-16T06:14:31.313701Z",
     "shell.execute_reply": "2021-03-16T06:14:31.314141Z"
    }
   },
   "outputs": [],
   "source": [
    "zipped = dict(zip(counties, doses))"
   ]
  },
  {
   "cell_type": "code",
   "execution_count": 9,
   "metadata": {
    "execution": {
     "iopub.execute_input": "2021-03-16T06:14:31.320919Z",
     "iopub.status.busy": "2021-03-16T06:14:31.319627Z",
     "iopub.status.idle": "2021-03-16T06:14:31.321563Z",
     "shell.execute_reply": "2021-03-16T06:14:31.322004Z"
    }
   },
   "outputs": [],
   "source": [
    "df = pd.Series(zipped).reset_index()"
   ]
  },
  {
   "cell_type": "code",
   "execution_count": 10,
   "metadata": {
    "execution": {
     "iopub.execute_input": "2021-03-16T06:14:31.326682Z",
     "iopub.status.busy": "2021-03-16T06:14:31.325512Z",
     "iopub.status.idle": "2021-03-16T06:14:31.327291Z",
     "shell.execute_reply": "2021-03-16T06:14:31.327730Z"
    }
   },
   "outputs": [],
   "source": [
    "df.columns = ['location','doses']"
   ]
  },
  {
   "cell_type": "markdown",
   "metadata": {},
   "source": [
    "Grab the overall California total"
   ]
  },
  {
   "cell_type": "code",
   "execution_count": 11,
   "metadata": {
    "execution": {
     "iopub.execute_input": "2021-03-16T06:14:31.331625Z",
     "iopub.status.busy": "2021-03-16T06:14:31.331096Z",
     "iopub.status.idle": "2021-03-16T06:14:31.334756Z",
     "shell.execute_reply": "2021-03-16T06:14:31.334310Z"
    }
   },
   "outputs": [],
   "source": [
    "add = {'location':'California','doses':dataJson[0]['dataValues'][2]}"
   ]
  },
  {
   "cell_type": "code",
   "execution_count": 12,
   "metadata": {
    "execution": {
     "iopub.execute_input": "2021-03-16T06:14:31.342153Z",
     "iopub.status.busy": "2021-03-16T06:14:31.340862Z",
     "iopub.status.idle": "2021-03-16T06:14:31.342776Z",
     "shell.execute_reply": "2021-03-16T06:14:31.343218Z"
    }
   },
   "outputs": [],
   "source": [
    "df = df.append(add, ignore_index=True)"
   ]
  },
  {
   "cell_type": "code",
   "execution_count": 13,
   "metadata": {
    "execution": {
     "iopub.execute_input": "2021-03-16T06:14:31.348563Z",
     "iopub.status.busy": "2021-03-16T06:14:31.347320Z",
     "iopub.status.idle": "2021-03-16T06:14:31.349210Z",
     "shell.execute_reply": "2021-03-16T06:14:31.349658Z"
    }
   },
   "outputs": [],
   "source": [
    "df = df.sort_values(by='location')"
   ]
  },
  {
   "cell_type": "code",
   "execution_count": 14,
   "metadata": {
    "execution": {
     "iopub.execute_input": "2021-03-16T06:14:31.356681Z",
     "iopub.status.busy": "2021-03-16T06:14:31.355372Z",
     "iopub.status.idle": "2021-03-16T06:14:31.357339Z",
     "shell.execute_reply": "2021-03-16T06:14:31.357783Z"
    }
   },
   "outputs": [],
   "source": [
    "df = df[df.location == 'California'].append(df[df.location != 'California']).reset_index(drop=True)"
   ]
  },
  {
   "cell_type": "code",
   "execution_count": null,
   "metadata": {},
   "outputs": [],
   "source": []
  },
  {
   "cell_type": "code",
   "execution_count": 15,
   "metadata": {
    "execution": {
     "iopub.execute_input": "2021-03-16T06:14:31.361407Z",
     "iopub.status.busy": "2021-03-16T06:14:31.360826Z",
     "iopub.status.idle": "2021-03-16T06:14:31.379441Z",
     "shell.execute_reply": "2021-03-16T06:14:31.378907Z"
    }
   },
   "outputs": [],
   "source": [
    "tz = pytz.timezone(\"America/New_York\")"
   ]
  },
  {
   "cell_type": "code",
   "execution_count": 16,
   "metadata": {
    "execution": {
     "iopub.execute_input": "2021-03-16T06:14:31.384062Z",
     "iopub.status.busy": "2021-03-16T06:14:31.382872Z",
     "iopub.status.idle": "2021-03-16T06:14:31.384679Z",
     "shell.execute_reply": "2021-03-16T06:14:31.385154Z"
    }
   },
   "outputs": [],
   "source": [
    "today = datetime.now(tz).date()"
   ]
  },
  {
   "cell_type": "code",
   "execution_count": 17,
   "metadata": {
    "execution": {
     "iopub.execute_input": "2021-03-16T06:14:31.389629Z",
     "iopub.status.busy": "2021-03-16T06:14:31.388440Z",
     "iopub.status.idle": "2021-03-16T06:14:31.390251Z",
     "shell.execute_reply": "2021-03-16T06:14:31.390687Z"
    }
   },
   "outputs": [],
   "source": [
    "data_dir = os.path.join(os.path.abspath(\"\"), \"data\")"
   ]
  },
  {
   "cell_type": "code",
   "execution_count": 18,
   "metadata": {
    "execution": {
     "iopub.execute_input": "2021-03-16T06:14:31.394653Z",
     "iopub.status.busy": "2021-03-16T06:14:31.394104Z",
     "iopub.status.idle": "2021-03-16T06:14:31.399062Z",
     "shell.execute_reply": "2021-03-16T06:14:31.398515Z"
    }
   },
   "outputs": [],
   "source": [
    "df.to_csv(os.path.join(data_dir, f\"{today}.csv\"), index=False)"
   ]
  },
  {
   "cell_type": "code",
   "execution_count": null,
   "metadata": {},
   "outputs": [],
   "source": []
  }
 ],
 "metadata": {
  "kernelspec": {
   "display_name": "Python 3",
   "language": "python",
   "name": "python3"
  },
  "language_info": {
   "codemirror_mode": {
    "name": "ipython",
    "version": 3
   },
   "file_extension": ".py",
   "mimetype": "text/x-python",
   "name": "python",
   "nbconvert_exporter": "python",
   "pygments_lexer": "ipython3",
   "version": "3.8.8"
  }
 },
 "nbformat": 4,
 "nbformat_minor": 4
}
