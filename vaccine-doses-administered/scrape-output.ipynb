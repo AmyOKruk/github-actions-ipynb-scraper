{
 "cells": [
  {
   "cell_type": "markdown",
   "metadata": {},
   "source": [
    "# California COVID vaccinations scrape"
   ]
  },
  {
   "cell_type": "markdown",
   "metadata": {},
   "source": [
    "By [Amy O'Kruk](https://twitter.com/amyokruk)"
   ]
  },
  {
   "cell_type": "markdown",
   "metadata": {},
   "source": [
    "Downloads data on vaccine doses administered by county and statewide from a Tableau-powered dashboard from the California Department of Public Health."
   ]
  },
  {
   "cell_type": "code",
   "execution_count": 1,
   "metadata": {
    "execution": {
     "iopub.execute_input": "2021-03-25T03:31:21.595947Z",
     "iopub.status.busy": "2021-03-25T03:31:21.595390Z",
     "iopub.status.idle": "2021-03-25T03:31:22.101644Z",
     "shell.execute_reply": "2021-03-25T03:31:22.101003Z"
    }
   },
   "outputs": [],
   "source": [
    "import pandas as pd\n",
    "import requests\n",
    "from bs4 import BeautifulSoup\n",
    "import json\n",
    "import re\n",
    "import time\n",
    "from time import gmtime, strftime \n",
    "import os\n",
    "import pytz\n",
    "from datetime import datetime"
   ]
  },
  {
   "cell_type": "markdown",
   "metadata": {},
   "source": [
    "Scrape the dashboard page"
   ]
  },
  {
   "cell_type": "code",
   "execution_count": 2,
   "metadata": {
    "execution": {
     "iopub.execute_input": "2021-03-25T03:31:22.105399Z",
     "iopub.status.busy": "2021-03-25T03:31:22.103986Z",
     "iopub.status.idle": "2021-03-25T03:31:22.479220Z",
     "shell.execute_reply": "2021-03-25T03:31:22.478356Z"
    }
   },
   "outputs": [],
   "source": [
    "url = \"https://public.tableau.com/interactive/views/COVID-19VaccineDashboardPublic/Vaccine?:embed=y&:showVizHome=n&:apiID=host0\"\n",
    "\n",
    "r = requests.get(url)\n",
    "soup = BeautifulSoup(r.text, \"html.parser\")"
   ]
  },
  {
   "cell_type": "code",
   "execution_count": 3,
   "metadata": {
    "execution": {
     "iopub.execute_input": "2021-03-25T03:31:22.483947Z",
     "iopub.status.busy": "2021-03-25T03:31:22.483434Z",
     "iopub.status.idle": "2021-03-25T03:31:22.486564Z",
     "shell.execute_reply": "2021-03-25T03:31:22.487022Z"
    }
   },
   "outputs": [],
   "source": [
    "tableauData = json.loads(soup.find(\"textarea\",{\"id\": \"tsConfigContainer\"}).text)"
   ]
  },
  {
   "cell_type": "markdown",
   "metadata": {},
   "source": [
    "Get the link to the Tableau data"
   ]
  },
  {
   "cell_type": "code",
   "execution_count": 4,
   "metadata": {
    "execution": {
     "iopub.execute_input": "2021-03-25T03:31:22.490476Z",
     "iopub.status.busy": "2021-03-25T03:31:22.489966Z",
     "iopub.status.idle": "2021-03-25T03:31:22.493832Z",
     "shell.execute_reply": "2021-03-25T03:31:22.493426Z"
    }
   },
   "outputs": [],
   "source": [
    "dataUrl = f'https://public.tableau.com{tableauData[\"vizql_root\"]}/bootstrapSession/sessions/{tableauData[\"sessionid\"]}'"
   ]
  },
  {
   "cell_type": "code",
   "execution_count": 5,
   "metadata": {
    "execution": {
     "iopub.execute_input": "2021-03-25T03:31:22.499695Z",
     "iopub.status.busy": "2021-03-25T03:31:22.499111Z",
     "iopub.status.idle": "2021-03-25T03:31:22.678234Z",
     "shell.execute_reply": "2021-03-25T03:31:22.677631Z"
    }
   },
   "outputs": [],
   "source": [
    "r = requests.post(dataUrl, data= {\n",
    "    \"sheet_id\": tableauData[\"sheetId\"],\n",
    "})\n",
    "\n",
    "dataReg = re.search('\\d+;({.*})\\d+;({.*})', r.text, re.MULTILINE)\n",
    "data1 = json.loads(dataReg.group(2))\n",
    "\n",
    "dataJson = data1[\"secondaryInfo\"][\"presModelMap\"][\"dataDictionary\"][\"presModelHolder\"][\"genDataDictionaryPresModel\"][\"dataSegments\"][\"0\"][\"dataColumns\"]"
   ]
  },
  {
   "cell_type": "markdown",
   "metadata": {},
   "source": [
    "Isolate what you want"
   ]
  },
  {
   "cell_type": "code",
   "execution_count": 6,
   "metadata": {
    "execution": {
     "iopub.execute_input": "2021-03-25T03:31:22.683065Z",
     "iopub.status.busy": "2021-03-25T03:31:22.681979Z",
     "iopub.status.idle": "2021-03-25T03:31:22.684092Z",
     "shell.execute_reply": "2021-03-25T03:31:22.684598Z"
    }
   },
   "outputs": [],
   "source": [
    "counties = dataJson[2]['dataValues'][:58]"
   ]
  },
  {
   "cell_type": "code",
   "execution_count": 7,
   "metadata": {
    "execution": {
     "iopub.execute_input": "2021-03-25T03:31:22.689784Z",
     "iopub.status.busy": "2021-03-25T03:31:22.688271Z",
     "iopub.status.idle": "2021-03-25T03:31:22.690479Z",
     "shell.execute_reply": "2021-03-25T03:31:22.690963Z"
    }
   },
   "outputs": [],
   "source": [
    "doses = dataJson[0]['dataValues'][3:61]"
   ]
  },
  {
   "cell_type": "markdown",
   "metadata": {},
   "source": [
    "Data formatting"
   ]
  },
  {
   "cell_type": "code",
   "execution_count": 8,
   "metadata": {
    "execution": {
     "iopub.execute_input": "2021-03-25T03:31:22.695288Z",
     "iopub.status.busy": "2021-03-25T03:31:22.694682Z",
     "iopub.status.idle": "2021-03-25T03:31:22.697864Z",
     "shell.execute_reply": "2021-03-25T03:31:22.697397Z"
    }
   },
   "outputs": [],
   "source": [
    "zipped = dict(zip(counties, doses))"
   ]
  },
  {
   "cell_type": "code",
   "execution_count": 9,
   "metadata": {
    "execution": {
     "iopub.execute_input": "2021-03-25T03:31:22.704767Z",
     "iopub.status.busy": "2021-03-25T03:31:22.703700Z",
     "iopub.status.idle": "2021-03-25T03:31:22.705753Z",
     "shell.execute_reply": "2021-03-25T03:31:22.706230Z"
    }
   },
   "outputs": [],
   "source": [
    "df = pd.Series(zipped).reset_index()"
   ]
  },
  {
   "cell_type": "code",
   "execution_count": 10,
   "metadata": {
    "execution": {
     "iopub.execute_input": "2021-03-25T03:31:22.711536Z",
     "iopub.status.busy": "2021-03-25T03:31:22.709948Z",
     "iopub.status.idle": "2021-03-25T03:31:22.712154Z",
     "shell.execute_reply": "2021-03-25T03:31:22.712593Z"
    }
   },
   "outputs": [],
   "source": [
    "df.columns = ['location','doses']"
   ]
  },
  {
   "cell_type": "markdown",
   "metadata": {},
   "source": [
    "Grab the overall California total"
   ]
  },
  {
   "cell_type": "code",
   "execution_count": 11,
   "metadata": {
    "execution": {
     "iopub.execute_input": "2021-03-25T03:31:22.716765Z",
     "iopub.status.busy": "2021-03-25T03:31:22.715789Z",
     "iopub.status.idle": "2021-03-25T03:31:22.718127Z",
     "shell.execute_reply": "2021-03-25T03:31:22.717706Z"
    }
   },
   "outputs": [],
   "source": [
    "add = {'location':'California','doses':dataJson[0]['dataValues'][2]}"
   ]
  },
  {
   "cell_type": "code",
   "execution_count": 12,
   "metadata": {
    "execution": {
     "iopub.execute_input": "2021-03-25T03:31:22.725908Z",
     "iopub.status.busy": "2021-03-25T03:31:22.724270Z",
     "iopub.status.idle": "2021-03-25T03:31:22.726753Z",
     "shell.execute_reply": "2021-03-25T03:31:22.727232Z"
    }
   },
   "outputs": [],
   "source": [
    "df = df.append(add, ignore_index=True)"
   ]
  },
  {
   "cell_type": "code",
   "execution_count": 13,
   "metadata": {
    "execution": {
     "iopub.execute_input": "2021-03-25T03:31:22.732618Z",
     "iopub.status.busy": "2021-03-25T03:31:22.731336Z",
     "iopub.status.idle": "2021-03-25T03:31:22.733250Z",
     "shell.execute_reply": "2021-03-25T03:31:22.733693Z"
    }
   },
   "outputs": [],
   "source": [
    "df = df.sort_values(by='location')"
   ]
  },
  {
   "cell_type": "code",
   "execution_count": 14,
   "metadata": {
    "execution": {
     "iopub.execute_input": "2021-03-25T03:31:22.740918Z",
     "iopub.status.busy": "2021-03-25T03:31:22.739367Z",
     "iopub.status.idle": "2021-03-25T03:31:22.741657Z",
     "shell.execute_reply": "2021-03-25T03:31:22.742205Z"
    }
   },
   "outputs": [],
   "source": [
    "df = df[df.location == 'California'].append(df[df.location != 'California']).reset_index(drop=True)"
   ]
  },
  {
   "cell_type": "code",
   "execution_count": null,
   "metadata": {},
   "outputs": [],
   "source": []
  },
  {
   "cell_type": "code",
   "execution_count": 15,
   "metadata": {
    "execution": {
     "iopub.execute_input": "2021-03-25T03:31:22.745613Z",
     "iopub.status.busy": "2021-03-25T03:31:22.745091Z",
     "iopub.status.idle": "2021-03-25T03:31:22.766362Z",
     "shell.execute_reply": "2021-03-25T03:31:22.765768Z"
    }
   },
   "outputs": [],
   "source": [
    "tz = pytz.timezone(\"America/New_York\")"
   ]
  },
  {
   "cell_type": "code",
   "execution_count": 16,
   "metadata": {
    "execution": {
     "iopub.execute_input": "2021-03-25T03:31:22.771437Z",
     "iopub.status.busy": "2021-03-25T03:31:22.769922Z",
     "iopub.status.idle": "2021-03-25T03:31:22.772312Z",
     "shell.execute_reply": "2021-03-25T03:31:22.773129Z"
    }
   },
   "outputs": [],
   "source": [
    "today = datetime.now(tz).date()"
   ]
  },
  {
   "cell_type": "code",
   "execution_count": 17,
   "metadata": {
    "execution": {
     "iopub.execute_input": "2021-03-25T03:31:22.778294Z",
     "iopub.status.busy": "2021-03-25T03:31:22.776795Z",
     "iopub.status.idle": "2021-03-25T03:31:22.779010Z",
     "shell.execute_reply": "2021-03-25T03:31:22.779463Z"
    }
   },
   "outputs": [],
   "source": [
    "data_dir = os.path.join(os.path.abspath(\"\"), \"data\")"
   ]
  },
  {
   "cell_type": "code",
   "execution_count": 18,
   "metadata": {
    "execution": {
     "iopub.execute_input": "2021-03-25T03:31:22.783863Z",
     "iopub.status.busy": "2021-03-25T03:31:22.783283Z",
     "iopub.status.idle": "2021-03-25T03:31:22.788720Z",
     "shell.execute_reply": "2021-03-25T03:31:22.788068Z"
    }
   },
   "outputs": [],
   "source": [
    "df.to_csv(os.path.join(data_dir, f\"{today}.csv\"), index=False)"
   ]
  },
  {
   "cell_type": "code",
   "execution_count": null,
   "metadata": {},
   "outputs": [],
   "source": []
  }
 ],
 "metadata": {
  "kernelspec": {
   "display_name": "Python 3",
   "language": "python",
   "name": "python3"
  },
  "language_info": {
   "codemirror_mode": {
    "name": "ipython",
    "version": 3
   },
   "file_extension": ".py",
   "mimetype": "text/x-python",
   "name": "python",
   "nbconvert_exporter": "python",
   "pygments_lexer": "ipython3",
   "version": "3.8.8"
  }
 },
 "nbformat": 4,
 "nbformat_minor": 4
}
