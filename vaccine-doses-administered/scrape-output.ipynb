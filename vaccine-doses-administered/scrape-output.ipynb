{
 "cells": [
  {
   "cell_type": "markdown",
   "metadata": {},
   "source": [
    "# California COVID vaccinations scrape"
   ]
  },
  {
   "cell_type": "markdown",
   "metadata": {},
   "source": [
    "By [Amy O'Kruk](https://twitter.com/amyokruk)"
   ]
  },
  {
   "cell_type": "markdown",
   "metadata": {},
   "source": [
    "Downloads data on vaccine doses administered by county and statewide from a Tableau-powered dashboard from the California Department of Public Health."
   ]
  },
  {
   "cell_type": "code",
   "execution_count": 1,
   "metadata": {
    "execution": {
     "iopub.execute_input": "2021-03-22T08:15:54.550522Z",
     "iopub.status.busy": "2021-03-22T08:15:54.549840Z",
     "iopub.status.idle": "2021-03-22T08:15:55.012060Z",
     "shell.execute_reply": "2021-03-22T08:15:55.010992Z"
    }
   },
   "outputs": [],
   "source": [
    "import pandas as pd\n",
    "import requests\n",
    "from bs4 import BeautifulSoup\n",
    "import json\n",
    "import re\n",
    "import time\n",
    "from time import gmtime, strftime \n",
    "import os\n",
    "import pytz\n",
    "from datetime import datetime"
   ]
  },
  {
   "cell_type": "markdown",
   "metadata": {},
   "source": [
    "Scrape the dashboard page"
   ]
  },
  {
   "cell_type": "code",
   "execution_count": 2,
   "metadata": {
    "execution": {
     "iopub.execute_input": "2021-03-22T08:15:55.019533Z",
     "iopub.status.busy": "2021-03-22T08:15:55.016021Z",
     "iopub.status.idle": "2021-03-22T08:15:55.523393Z",
     "shell.execute_reply": "2021-03-22T08:15:55.522532Z"
    }
   },
   "outputs": [],
   "source": [
    "url = \"https://public.tableau.com/interactive/views/COVID-19VaccineDashboardPublic/Vaccine?:embed=y&:showVizHome=n&:apiID=host0\"\n",
    "\n",
    "r = requests.get(url)\n",
    "soup = BeautifulSoup(r.text, \"html.parser\")"
   ]
  },
  {
   "cell_type": "code",
   "execution_count": 3,
   "metadata": {
    "execution": {
     "iopub.execute_input": "2021-03-22T08:15:55.528334Z",
     "iopub.status.busy": "2021-03-22T08:15:55.527743Z",
     "iopub.status.idle": "2021-03-22T08:15:55.531027Z",
     "shell.execute_reply": "2021-03-22T08:15:55.531485Z"
    }
   },
   "outputs": [],
   "source": [
    "tableauData = json.loads(soup.find(\"textarea\",{\"id\": \"tsConfigContainer\"}).text)"
   ]
  },
  {
   "cell_type": "markdown",
   "metadata": {},
   "source": [
    "Get the link to the Tableau data"
   ]
  },
  {
   "cell_type": "code",
   "execution_count": 4,
   "metadata": {
    "execution": {
     "iopub.execute_input": "2021-03-22T08:15:55.535375Z",
     "iopub.status.busy": "2021-03-22T08:15:55.534770Z",
     "iopub.status.idle": "2021-03-22T08:15:55.539366Z",
     "shell.execute_reply": "2021-03-22T08:15:55.538735Z"
    }
   },
   "outputs": [],
   "source": [
    "dataUrl = f'https://public.tableau.com{tableauData[\"vizql_root\"]}/bootstrapSession/sessions/{tableauData[\"sessionid\"]}'"
   ]
  },
  {
   "cell_type": "code",
   "execution_count": 5,
   "metadata": {
    "execution": {
     "iopub.execute_input": "2021-03-22T08:15:55.557149Z",
     "iopub.status.busy": "2021-03-22T08:15:55.554540Z",
     "iopub.status.idle": "2021-03-22T08:15:55.863742Z",
     "shell.execute_reply": "2021-03-22T08:15:55.863201Z"
    }
   },
   "outputs": [],
   "source": [
    "r = requests.post(dataUrl, data= {\n",
    "    \"sheet_id\": tableauData[\"sheetId\"],\n",
    "})\n",
    "\n",
    "dataReg = re.search('\\d+;({.*})\\d+;({.*})', r.text, re.MULTILINE)\n",
    "data1 = json.loads(dataReg.group(2))\n",
    "\n",
    "dataJson = data1[\"secondaryInfo\"][\"presModelMap\"][\"dataDictionary\"][\"presModelHolder\"][\"genDataDictionaryPresModel\"][\"dataSegments\"][\"0\"][\"dataColumns\"]"
   ]
  },
  {
   "cell_type": "markdown",
   "metadata": {},
   "source": [
    "Isolate what you want"
   ]
  },
  {
   "cell_type": "code",
   "execution_count": 6,
   "metadata": {
    "execution": {
     "iopub.execute_input": "2021-03-22T08:15:55.867991Z",
     "iopub.status.busy": "2021-03-22T08:15:55.867418Z",
     "iopub.status.idle": "2021-03-22T08:15:55.871188Z",
     "shell.execute_reply": "2021-03-22T08:15:55.870649Z"
    }
   },
   "outputs": [],
   "source": [
    "counties = dataJson[2]['dataValues'][:58]"
   ]
  },
  {
   "cell_type": "code",
   "execution_count": 7,
   "metadata": {
    "execution": {
     "iopub.execute_input": "2021-03-22T08:15:55.874818Z",
     "iopub.status.busy": "2021-03-22T08:15:55.874247Z",
     "iopub.status.idle": "2021-03-22T08:15:55.878050Z",
     "shell.execute_reply": "2021-03-22T08:15:55.877544Z"
    }
   },
   "outputs": [],
   "source": [
    "doses = dataJson[0]['dataValues'][3:61]"
   ]
  },
  {
   "cell_type": "markdown",
   "metadata": {},
   "source": [
    "Data formatting"
   ]
  },
  {
   "cell_type": "code",
   "execution_count": 8,
   "metadata": {
    "execution": {
     "iopub.execute_input": "2021-03-22T08:15:55.883472Z",
     "iopub.status.busy": "2021-03-22T08:15:55.882146Z",
     "iopub.status.idle": "2021-03-22T08:15:55.886838Z",
     "shell.execute_reply": "2021-03-22T08:15:55.887322Z"
    }
   },
   "outputs": [],
   "source": [
    "zipped = dict(zip(counties, doses))"
   ]
  },
  {
   "cell_type": "code",
   "execution_count": 9,
   "metadata": {
    "execution": {
     "iopub.execute_input": "2021-03-22T08:15:55.893879Z",
     "iopub.status.busy": "2021-03-22T08:15:55.893295Z",
     "iopub.status.idle": "2021-03-22T08:15:55.897091Z",
     "shell.execute_reply": "2021-03-22T08:15:55.896511Z"
    }
   },
   "outputs": [],
   "source": [
    "df = pd.Series(zipped).reset_index()"
   ]
  },
  {
   "cell_type": "code",
   "execution_count": 10,
   "metadata": {
    "execution": {
     "iopub.execute_input": "2021-03-22T08:15:55.901257Z",
     "iopub.status.busy": "2021-03-22T08:15:55.900681Z",
     "iopub.status.idle": "2021-03-22T08:15:55.904416Z",
     "shell.execute_reply": "2021-03-22T08:15:55.903908Z"
    }
   },
   "outputs": [],
   "source": [
    "df.columns = ['location','doses']"
   ]
  },
  {
   "cell_type": "markdown",
   "metadata": {},
   "source": [
    "Grab the overall California total"
   ]
  },
  {
   "cell_type": "code",
   "execution_count": 11,
   "metadata": {
    "execution": {
     "iopub.execute_input": "2021-03-22T08:15:55.909339Z",
     "iopub.status.busy": "2021-03-22T08:15:55.908691Z",
     "iopub.status.idle": "2021-03-22T08:15:55.911960Z",
     "shell.execute_reply": "2021-03-22T08:15:55.912929Z"
    }
   },
   "outputs": [],
   "source": [
    "add = {'location':'California','doses':dataJson[0]['dataValues'][2]}"
   ]
  },
  {
   "cell_type": "code",
   "execution_count": 12,
   "metadata": {
    "execution": {
     "iopub.execute_input": "2021-03-22T08:15:55.919862Z",
     "iopub.status.busy": "2021-03-22T08:15:55.919287Z",
     "iopub.status.idle": "2021-03-22T08:15:55.923279Z",
     "shell.execute_reply": "2021-03-22T08:15:55.922580Z"
    }
   },
   "outputs": [],
   "source": [
    "df = df.append(add, ignore_index=True)"
   ]
  },
  {
   "cell_type": "code",
   "execution_count": 13,
   "metadata": {
    "execution": {
     "iopub.execute_input": "2021-03-22T08:15:55.928912Z",
     "iopub.status.busy": "2021-03-22T08:15:55.928069Z",
     "iopub.status.idle": "2021-03-22T08:15:55.932130Z",
     "shell.execute_reply": "2021-03-22T08:15:55.933201Z"
    }
   },
   "outputs": [],
   "source": [
    "df = df.sort_values(by='location')"
   ]
  },
  {
   "cell_type": "code",
   "execution_count": 14,
   "metadata": {
    "execution": {
     "iopub.execute_input": "2021-03-22T08:15:55.937509Z",
     "iopub.status.busy": "2021-03-22T08:15:55.936683Z",
     "iopub.status.idle": "2021-03-22T08:15:55.943396Z",
     "shell.execute_reply": "2021-03-22T08:15:55.944144Z"
    }
   },
   "outputs": [],
   "source": [
    "df = df[df.location == 'California'].append(df[df.location != 'California']).reset_index(drop=True)"
   ]
  },
  {
   "cell_type": "code",
   "execution_count": null,
   "metadata": {},
   "outputs": [],
   "source": []
  },
  {
   "cell_type": "code",
   "execution_count": 15,
   "metadata": {
    "execution": {
     "iopub.execute_input": "2021-03-22T08:15:55.948263Z",
     "iopub.status.busy": "2021-03-22T08:15:55.947603Z",
     "iopub.status.idle": "2021-03-22T08:15:55.976726Z",
     "shell.execute_reply": "2021-03-22T08:15:55.977397Z"
    }
   },
   "outputs": [],
   "source": [
    "tz = pytz.timezone(\"America/New_York\")"
   ]
  },
  {
   "cell_type": "code",
   "execution_count": 16,
   "metadata": {
    "execution": {
     "iopub.execute_input": "2021-03-22T08:15:55.984440Z",
     "iopub.status.busy": "2021-03-22T08:15:55.983857Z",
     "iopub.status.idle": "2021-03-22T08:15:55.987415Z",
     "shell.execute_reply": "2021-03-22T08:15:55.988004Z"
    }
   },
   "outputs": [],
   "source": [
    "today = datetime.now(tz).date()"
   ]
  },
  {
   "cell_type": "code",
   "execution_count": 17,
   "metadata": {
    "execution": {
     "iopub.execute_input": "2021-03-22T08:15:55.992142Z",
     "iopub.status.busy": "2021-03-22T08:15:55.991566Z",
     "iopub.status.idle": "2021-03-22T08:15:55.995784Z",
     "shell.execute_reply": "2021-03-22T08:15:55.995183Z"
    }
   },
   "outputs": [],
   "source": [
    "data_dir = os.path.join(os.path.abspath(\"\"), \"data\")"
   ]
  },
  {
   "cell_type": "code",
   "execution_count": 18,
   "metadata": {
    "execution": {
     "iopub.execute_input": "2021-03-22T08:15:56.000330Z",
     "iopub.status.busy": "2021-03-22T08:15:55.999762Z",
     "iopub.status.idle": "2021-03-22T08:15:56.004604Z",
     "shell.execute_reply": "2021-03-22T08:15:56.004015Z"
    }
   },
   "outputs": [],
   "source": [
    "df.to_csv(os.path.join(data_dir, f\"{today}.csv\"), index=False)"
   ]
  },
  {
   "cell_type": "code",
   "execution_count": null,
   "metadata": {},
   "outputs": [],
   "source": []
  }
 ],
 "metadata": {
  "kernelspec": {
   "display_name": "Python 3",
   "language": "python",
   "name": "python3"
  },
  "language_info": {
   "codemirror_mode": {
    "name": "ipython",
    "version": 3
   },
   "file_extension": ".py",
   "mimetype": "text/x-python",
   "name": "python",
   "nbconvert_exporter": "python",
   "pygments_lexer": "ipython3",
   "version": "3.8.8"
  }
 },
 "nbformat": 4,
 "nbformat_minor": 4
}
