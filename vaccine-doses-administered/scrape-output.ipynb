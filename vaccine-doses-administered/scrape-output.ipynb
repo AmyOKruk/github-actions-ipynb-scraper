{
 "cells": [
  {
   "cell_type": "markdown",
   "metadata": {},
   "source": [
    "# California COVID vaccinations scrape"
   ]
  },
  {
   "cell_type": "markdown",
   "metadata": {},
   "source": [
    "By [Amy O'Kruk](https://twitter.com/amyokruk)"
   ]
  },
  {
   "cell_type": "markdown",
   "metadata": {},
   "source": [
    "Downloads data on vaccine doses administered by county and statewide from a Tableau-powered dashboard from the California Department of Public Health."
   ]
  },
  {
   "cell_type": "code",
   "execution_count": 1,
   "metadata": {
    "execution": {
     "iopub.execute_input": "2021-03-15T05:12:27.903260Z",
     "iopub.status.busy": "2021-03-15T05:12:27.902548Z",
     "iopub.status.idle": "2021-03-15T05:12:28.282023Z",
     "shell.execute_reply": "2021-03-15T05:12:28.281091Z"
    }
   },
   "outputs": [],
   "source": [
    "import pandas as pd\n",
    "import requests\n",
    "from bs4 import BeautifulSoup\n",
    "import json\n",
    "import re\n",
    "import time\n",
    "from time import gmtime, strftime \n",
    "import os\n",
    "import pytz\n",
    "from datetime import datetime"
   ]
  },
  {
   "cell_type": "markdown",
   "metadata": {},
   "source": [
    "Scrape the dashboard page"
   ]
  },
  {
   "cell_type": "code",
   "execution_count": 2,
   "metadata": {
    "execution": {
     "iopub.execute_input": "2021-03-15T05:12:28.288057Z",
     "iopub.status.busy": "2021-03-15T05:12:28.285651Z",
     "iopub.status.idle": "2021-03-15T05:12:28.687470Z",
     "shell.execute_reply": "2021-03-15T05:12:28.686309Z"
    }
   },
   "outputs": [],
   "source": [
    "url = \"https://public.tableau.com/interactive/views/COVID-19VaccineDashboardPublic/Vaccine?:embed=y&:showVizHome=n&:apiID=host0\"\n",
    "\n",
    "r = requests.get(url)\n",
    "soup = BeautifulSoup(r.text, \"html.parser\")"
   ]
  },
  {
   "cell_type": "code",
   "execution_count": 3,
   "metadata": {
    "execution": {
     "iopub.execute_input": "2021-03-15T05:12:28.692115Z",
     "iopub.status.busy": "2021-03-15T05:12:28.691555Z",
     "iopub.status.idle": "2021-03-15T05:12:28.695651Z",
     "shell.execute_reply": "2021-03-15T05:12:28.695168Z"
    }
   },
   "outputs": [],
   "source": [
    "tableauData = json.loads(soup.find(\"textarea\",{\"id\": \"tsConfigContainer\"}).text)"
   ]
  },
  {
   "cell_type": "markdown",
   "metadata": {},
   "source": [
    "Get the link to the Tableau data"
   ]
  },
  {
   "cell_type": "code",
   "execution_count": 4,
   "metadata": {
    "execution": {
     "iopub.execute_input": "2021-03-15T05:12:28.699196Z",
     "iopub.status.busy": "2021-03-15T05:12:28.698569Z",
     "iopub.status.idle": "2021-03-15T05:12:28.702696Z",
     "shell.execute_reply": "2021-03-15T05:12:28.702046Z"
    }
   },
   "outputs": [],
   "source": [
    "dataUrl = f'https://public.tableau.com{tableauData[\"vizql_root\"]}/bootstrapSession/sessions/{tableauData[\"sessionid\"]}'"
   ]
  },
  {
   "cell_type": "code",
   "execution_count": 5,
   "metadata": {
    "execution": {
     "iopub.execute_input": "2021-03-15T05:12:28.709011Z",
     "iopub.status.busy": "2021-03-15T05:12:28.708007Z",
     "iopub.status.idle": "2021-03-15T05:12:55.370235Z",
     "shell.execute_reply": "2021-03-15T05:12:55.369758Z"
    }
   },
   "outputs": [],
   "source": [
    "r = requests.post(dataUrl, data= {\n",
    "    \"sheet_id\": tableauData[\"sheetId\"],\n",
    "})\n",
    "\n",
    "dataReg = re.search('\\d+;({.*})\\d+;({.*})', r.text, re.MULTILINE)\n",
    "data1 = json.loads(dataReg.group(2))\n",
    "\n",
    "dataJson = data1[\"secondaryInfo\"][\"presModelMap\"][\"dataDictionary\"][\"presModelHolder\"][\"genDataDictionaryPresModel\"][\"dataSegments\"][\"0\"][\"dataColumns\"]"
   ]
  },
  {
   "cell_type": "markdown",
   "metadata": {},
   "source": [
    "Isolate what you want"
   ]
  },
  {
   "cell_type": "code",
   "execution_count": 6,
   "metadata": {
    "execution": {
     "iopub.execute_input": "2021-03-15T05:12:55.373898Z",
     "iopub.status.busy": "2021-03-15T05:12:55.373349Z",
     "iopub.status.idle": "2021-03-15T05:12:55.377341Z",
     "shell.execute_reply": "2021-03-15T05:12:55.376569Z"
    }
   },
   "outputs": [],
   "source": [
    "counties = dataJson[2]['dataValues'][:58]"
   ]
  },
  {
   "cell_type": "code",
   "execution_count": 7,
   "metadata": {
    "execution": {
     "iopub.execute_input": "2021-03-15T05:12:55.380714Z",
     "iopub.status.busy": "2021-03-15T05:12:55.380188Z",
     "iopub.status.idle": "2021-03-15T05:12:55.383616Z",
     "shell.execute_reply": "2021-03-15T05:12:55.384030Z"
    }
   },
   "outputs": [],
   "source": [
    "doses = dataJson[0]['dataValues'][3:61]"
   ]
  },
  {
   "cell_type": "markdown",
   "metadata": {},
   "source": [
    "Data formatting"
   ]
  },
  {
   "cell_type": "code",
   "execution_count": 8,
   "metadata": {
    "execution": {
     "iopub.execute_input": "2021-03-15T05:12:55.387651Z",
     "iopub.status.busy": "2021-03-15T05:12:55.387068Z",
     "iopub.status.idle": "2021-03-15T05:12:55.391233Z",
     "shell.execute_reply": "2021-03-15T05:12:55.390719Z"
    }
   },
   "outputs": [],
   "source": [
    "zipped = dict(zip(counties, doses))"
   ]
  },
  {
   "cell_type": "code",
   "execution_count": 9,
   "metadata": {
    "execution": {
     "iopub.execute_input": "2021-03-15T05:12:55.396709Z",
     "iopub.status.busy": "2021-03-15T05:12:55.396186Z",
     "iopub.status.idle": "2021-03-15T05:12:55.399757Z",
     "shell.execute_reply": "2021-03-15T05:12:55.399227Z"
    }
   },
   "outputs": [],
   "source": [
    "df = pd.Series(zipped).reset_index()"
   ]
  },
  {
   "cell_type": "code",
   "execution_count": 10,
   "metadata": {
    "execution": {
     "iopub.execute_input": "2021-03-15T05:12:55.403951Z",
     "iopub.status.busy": "2021-03-15T05:12:55.402812Z",
     "iopub.status.idle": "2021-03-15T05:12:55.404531Z",
     "shell.execute_reply": "2021-03-15T05:12:55.404969Z"
    }
   },
   "outputs": [],
   "source": [
    "df.columns = ['location','doses']"
   ]
  },
  {
   "cell_type": "markdown",
   "metadata": {},
   "source": [
    "Grab the overall California total"
   ]
  },
  {
   "cell_type": "code",
   "execution_count": 11,
   "metadata": {
    "execution": {
     "iopub.execute_input": "2021-03-15T05:12:55.409654Z",
     "iopub.status.busy": "2021-03-15T05:12:55.408445Z",
     "iopub.status.idle": "2021-03-15T05:12:55.410373Z",
     "shell.execute_reply": "2021-03-15T05:12:55.410837Z"
    }
   },
   "outputs": [],
   "source": [
    "add = {'location':'California','doses':dataJson[0]['dataValues'][2]}"
   ]
  },
  {
   "cell_type": "code",
   "execution_count": 12,
   "metadata": {
    "execution": {
     "iopub.execute_input": "2021-03-15T05:12:55.417373Z",
     "iopub.status.busy": "2021-03-15T05:12:55.416447Z",
     "iopub.status.idle": "2021-03-15T05:12:55.418282Z",
     "shell.execute_reply": "2021-03-15T05:12:55.418748Z"
    }
   },
   "outputs": [],
   "source": [
    "df = df.append(add, ignore_index=True)"
   ]
  },
  {
   "cell_type": "code",
   "execution_count": 13,
   "metadata": {
    "execution": {
     "iopub.execute_input": "2021-03-15T05:12:55.424017Z",
     "iopub.status.busy": "2021-03-15T05:12:55.422974Z",
     "iopub.status.idle": "2021-03-15T05:12:55.424860Z",
     "shell.execute_reply": "2021-03-15T05:12:55.425401Z"
    }
   },
   "outputs": [],
   "source": [
    "df = df.sort_values(by='location')"
   ]
  },
  {
   "cell_type": "code",
   "execution_count": 14,
   "metadata": {
    "execution": {
     "iopub.execute_input": "2021-03-15T05:12:55.431898Z",
     "iopub.status.busy": "2021-03-15T05:12:55.430695Z",
     "iopub.status.idle": "2021-03-15T05:12:55.432509Z",
     "shell.execute_reply": "2021-03-15T05:12:55.432958Z"
    }
   },
   "outputs": [],
   "source": [
    "df = df[df.location == 'California'].append(df[df.location != 'California']).reset_index(drop=True)"
   ]
  },
  {
   "cell_type": "code",
   "execution_count": null,
   "metadata": {},
   "outputs": [],
   "source": []
  },
  {
   "cell_type": "code",
   "execution_count": 15,
   "metadata": {
    "execution": {
     "iopub.execute_input": "2021-03-15T05:12:55.436410Z",
     "iopub.status.busy": "2021-03-15T05:12:55.435843Z",
     "iopub.status.idle": "2021-03-15T05:12:55.455488Z",
     "shell.execute_reply": "2021-03-15T05:12:55.455905Z"
    }
   },
   "outputs": [],
   "source": [
    "tz = pytz.timezone(\"America/New_York\")"
   ]
  },
  {
   "cell_type": "code",
   "execution_count": 16,
   "metadata": {
    "execution": {
     "iopub.execute_input": "2021-03-15T05:12:55.459901Z",
     "iopub.status.busy": "2021-03-15T05:12:55.458924Z",
     "iopub.status.idle": "2021-03-15T05:12:55.460767Z",
     "shell.execute_reply": "2021-03-15T05:12:55.461208Z"
    }
   },
   "outputs": [],
   "source": [
    "today = datetime.now(tz).date()"
   ]
  },
  {
   "cell_type": "code",
   "execution_count": 17,
   "metadata": {
    "execution": {
     "iopub.execute_input": "2021-03-15T05:12:55.465435Z",
     "iopub.status.busy": "2021-03-15T05:12:55.464219Z",
     "iopub.status.idle": "2021-03-15T05:12:55.466125Z",
     "shell.execute_reply": "2021-03-15T05:12:55.466565Z"
    }
   },
   "outputs": [],
   "source": [
    "data_dir = os.path.join(os.path.abspath(\"\"), \"data\")"
   ]
  },
  {
   "cell_type": "code",
   "execution_count": 18,
   "metadata": {
    "execution": {
     "iopub.execute_input": "2021-03-15T05:12:55.470350Z",
     "iopub.status.busy": "2021-03-15T05:12:55.469830Z",
     "iopub.status.idle": "2021-03-15T05:12:55.474527Z",
     "shell.execute_reply": "2021-03-15T05:12:55.474009Z"
    }
   },
   "outputs": [],
   "source": [
    "df.to_csv(os.path.join(data_dir, f\"{today}.csv\"), index=False)"
   ]
  },
  {
   "cell_type": "code",
   "execution_count": null,
   "metadata": {},
   "outputs": [],
   "source": []
  }
 ],
 "metadata": {
  "kernelspec": {
   "display_name": "Python 3",
   "language": "python",
   "name": "python3"
  },
  "language_info": {
   "codemirror_mode": {
    "name": "ipython",
    "version": 3
   },
   "file_extension": ".py",
   "mimetype": "text/x-python",
   "name": "python",
   "nbconvert_exporter": "python",
   "pygments_lexer": "ipython3",
   "version": "3.8.8"
  }
 },
 "nbformat": 4,
 "nbformat_minor": 4
}
