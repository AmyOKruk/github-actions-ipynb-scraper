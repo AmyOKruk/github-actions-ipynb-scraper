{
 "cells": [
  {
   "cell_type": "markdown",
   "metadata": {},
   "source": [
    "# California COVID vaccinations scrape"
   ]
  },
  {
   "cell_type": "markdown",
   "metadata": {},
   "source": [
    "By [Amy O'Kruk](https://twitter.com/amyokruk)"
   ]
  },
  {
   "cell_type": "markdown",
   "metadata": {},
   "source": [
    "Downloads data on vaccine doses administered by county and statewide from a Tableau-powered dashboard from the California Department of Public Health."
   ]
  },
  {
   "cell_type": "code",
   "execution_count": 1,
   "metadata": {
    "execution": {
     "iopub.execute_input": "2021-03-20T10:14:36.153346Z",
     "iopub.status.busy": "2021-03-20T10:14:36.152454Z",
     "iopub.status.idle": "2021-03-20T10:14:36.586862Z",
     "shell.execute_reply": "2021-03-20T10:14:36.585924Z"
    }
   },
   "outputs": [],
   "source": [
    "import pandas as pd\n",
    "import requests\n",
    "from bs4 import BeautifulSoup\n",
    "import json\n",
    "import re\n",
    "import time\n",
    "from time import gmtime, strftime \n",
    "import os\n",
    "import pytz\n",
    "from datetime import datetime"
   ]
  },
  {
   "cell_type": "markdown",
   "metadata": {},
   "source": [
    "Scrape the dashboard page"
   ]
  },
  {
   "cell_type": "code",
   "execution_count": 2,
   "metadata": {
    "execution": {
     "iopub.execute_input": "2021-03-20T10:14:36.593825Z",
     "iopub.status.busy": "2021-03-20T10:14:36.593256Z",
     "iopub.status.idle": "2021-03-20T10:14:37.023680Z",
     "shell.execute_reply": "2021-03-20T10:14:37.024426Z"
    }
   },
   "outputs": [],
   "source": [
    "url = \"https://public.tableau.com/interactive/views/COVID-19VaccineDashboardPublic/Vaccine?:embed=y&:showVizHome=n&:apiID=host0\"\n",
    "\n",
    "r = requests.get(url)\n",
    "soup = BeautifulSoup(r.text, \"html.parser\")"
   ]
  },
  {
   "cell_type": "code",
   "execution_count": 3,
   "metadata": {
    "execution": {
     "iopub.execute_input": "2021-03-20T10:14:37.029675Z",
     "iopub.status.busy": "2021-03-20T10:14:37.029138Z",
     "iopub.status.idle": "2021-03-20T10:14:37.032173Z",
     "shell.execute_reply": "2021-03-20T10:14:37.033017Z"
    }
   },
   "outputs": [],
   "source": [
    "tableauData = json.loads(soup.find(\"textarea\",{\"id\": \"tsConfigContainer\"}).text)"
   ]
  },
  {
   "cell_type": "markdown",
   "metadata": {},
   "source": [
    "Get the link to the Tableau data"
   ]
  },
  {
   "cell_type": "code",
   "execution_count": 4,
   "metadata": {
    "execution": {
     "iopub.execute_input": "2021-03-20T10:14:37.037779Z",
     "iopub.status.busy": "2021-03-20T10:14:37.036442Z",
     "iopub.status.idle": "2021-03-20T10:14:37.038394Z",
     "shell.execute_reply": "2021-03-20T10:14:37.038831Z"
    }
   },
   "outputs": [],
   "source": [
    "dataUrl = f'https://public.tableau.com{tableauData[\"vizql_root\"]}/bootstrapSession/sessions/{tableauData[\"sessionid\"]}'"
   ]
  },
  {
   "cell_type": "code",
   "execution_count": 5,
   "metadata": {
    "execution": {
     "iopub.execute_input": "2021-03-20T10:14:37.045519Z",
     "iopub.status.busy": "2021-03-20T10:14:37.044962Z",
     "iopub.status.idle": "2021-03-20T10:14:37.565105Z",
     "shell.execute_reply": "2021-03-20T10:14:37.564431Z"
    }
   },
   "outputs": [],
   "source": [
    "r = requests.post(dataUrl, data= {\n",
    "    \"sheet_id\": tableauData[\"sheetId\"],\n",
    "})\n",
    "\n",
    "dataReg = re.search('\\d+;({.*})\\d+;({.*})', r.text, re.MULTILINE)\n",
    "data1 = json.loads(dataReg.group(2))\n",
    "\n",
    "dataJson = data1[\"secondaryInfo\"][\"presModelMap\"][\"dataDictionary\"][\"presModelHolder\"][\"genDataDictionaryPresModel\"][\"dataSegments\"][\"0\"][\"dataColumns\"]"
   ]
  },
  {
   "cell_type": "markdown",
   "metadata": {},
   "source": [
    "Isolate what you want"
   ]
  },
  {
   "cell_type": "code",
   "execution_count": 6,
   "metadata": {
    "execution": {
     "iopub.execute_input": "2021-03-20T10:14:37.570649Z",
     "iopub.status.busy": "2021-03-20T10:14:37.569036Z",
     "iopub.status.idle": "2021-03-20T10:14:37.571434Z",
     "shell.execute_reply": "2021-03-20T10:14:37.572014Z"
    }
   },
   "outputs": [],
   "source": [
    "counties = dataJson[2]['dataValues'][:58]"
   ]
  },
  {
   "cell_type": "code",
   "execution_count": 7,
   "metadata": {
    "execution": {
     "iopub.execute_input": "2021-03-20T10:14:37.576687Z",
     "iopub.status.busy": "2021-03-20T10:14:37.575453Z",
     "iopub.status.idle": "2021-03-20T10:14:37.577329Z",
     "shell.execute_reply": "2021-03-20T10:14:37.577777Z"
    }
   },
   "outputs": [],
   "source": [
    "doses = dataJson[0]['dataValues'][3:61]"
   ]
  },
  {
   "cell_type": "markdown",
   "metadata": {},
   "source": [
    "Data formatting"
   ]
  },
  {
   "cell_type": "code",
   "execution_count": 8,
   "metadata": {
    "execution": {
     "iopub.execute_input": "2021-03-20T10:14:37.582163Z",
     "iopub.status.busy": "2021-03-20T10:14:37.580899Z",
     "iopub.status.idle": "2021-03-20T10:14:37.582763Z",
     "shell.execute_reply": "2021-03-20T10:14:37.583211Z"
    }
   },
   "outputs": [],
   "source": [
    "zipped = dict(zip(counties, doses))"
   ]
  },
  {
   "cell_type": "code",
   "execution_count": 9,
   "metadata": {
    "execution": {
     "iopub.execute_input": "2021-03-20T10:14:37.589901Z",
     "iopub.status.busy": "2021-03-20T10:14:37.588628Z",
     "iopub.status.idle": "2021-03-20T10:14:37.590507Z",
     "shell.execute_reply": "2021-03-20T10:14:37.590949Z"
    }
   },
   "outputs": [],
   "source": [
    "df = pd.Series(zipped).reset_index()"
   ]
  },
  {
   "cell_type": "code",
   "execution_count": 10,
   "metadata": {
    "execution": {
     "iopub.execute_input": "2021-03-20T10:14:37.595478Z",
     "iopub.status.busy": "2021-03-20T10:14:37.594256Z",
     "iopub.status.idle": "2021-03-20T10:14:37.596150Z",
     "shell.execute_reply": "2021-03-20T10:14:37.596591Z"
    }
   },
   "outputs": [],
   "source": [
    "df.columns = ['location','doses']"
   ]
  },
  {
   "cell_type": "markdown",
   "metadata": {},
   "source": [
    "Grab the overall California total"
   ]
  },
  {
   "cell_type": "code",
   "execution_count": 11,
   "metadata": {
    "execution": {
     "iopub.execute_input": "2021-03-20T10:14:37.601047Z",
     "iopub.status.busy": "2021-03-20T10:14:37.599834Z",
     "iopub.status.idle": "2021-03-20T10:14:37.601655Z",
     "shell.execute_reply": "2021-03-20T10:14:37.602095Z"
    }
   },
   "outputs": [],
   "source": [
    "add = {'location':'California','doses':dataJson[0]['dataValues'][2]}"
   ]
  },
  {
   "cell_type": "code",
   "execution_count": 12,
   "metadata": {
    "execution": {
     "iopub.execute_input": "2021-03-20T10:14:37.609217Z",
     "iopub.status.busy": "2021-03-20T10:14:37.608014Z",
     "iopub.status.idle": "2021-03-20T10:14:37.609826Z",
     "shell.execute_reply": "2021-03-20T10:14:37.610269Z"
    }
   },
   "outputs": [],
   "source": [
    "df = df.append(add, ignore_index=True)"
   ]
  },
  {
   "cell_type": "code",
   "execution_count": 13,
   "metadata": {
    "execution": {
     "iopub.execute_input": "2021-03-20T10:14:37.615291Z",
     "iopub.status.busy": "2021-03-20T10:14:37.614110Z",
     "iopub.status.idle": "2021-03-20T10:14:37.615904Z",
     "shell.execute_reply": "2021-03-20T10:14:37.616347Z"
    }
   },
   "outputs": [],
   "source": [
    "df = df.sort_values(by='location')"
   ]
  },
  {
   "cell_type": "code",
   "execution_count": 14,
   "metadata": {
    "execution": {
     "iopub.execute_input": "2021-03-20T10:14:37.622825Z",
     "iopub.status.busy": "2021-03-20T10:14:37.621612Z",
     "iopub.status.idle": "2021-03-20T10:14:37.623435Z",
     "shell.execute_reply": "2021-03-20T10:14:37.623878Z"
    }
   },
   "outputs": [],
   "source": [
    "df = df[df.location == 'California'].append(df[df.location != 'California']).reset_index(drop=True)"
   ]
  },
  {
   "cell_type": "code",
   "execution_count": null,
   "metadata": {},
   "outputs": [],
   "source": []
  },
  {
   "cell_type": "code",
   "execution_count": 15,
   "metadata": {
    "execution": {
     "iopub.execute_input": "2021-03-20T10:14:37.627206Z",
     "iopub.status.busy": "2021-03-20T10:14:37.626678Z",
     "iopub.status.idle": "2021-03-20T10:14:37.644659Z",
     "shell.execute_reply": "2021-03-20T10:14:37.644122Z"
    }
   },
   "outputs": [],
   "source": [
    "tz = pytz.timezone(\"America/New_York\")"
   ]
  },
  {
   "cell_type": "code",
   "execution_count": 16,
   "metadata": {
    "execution": {
     "iopub.execute_input": "2021-03-20T10:14:37.650100Z",
     "iopub.status.busy": "2021-03-20T10:14:37.649174Z",
     "iopub.status.idle": "2021-03-20T10:14:37.651698Z",
     "shell.execute_reply": "2021-03-20T10:14:37.651246Z"
    }
   },
   "outputs": [],
   "source": [
    "today = datetime.now(tz).date()"
   ]
  },
  {
   "cell_type": "code",
   "execution_count": 17,
   "metadata": {
    "execution": {
     "iopub.execute_input": "2021-03-20T10:14:37.656663Z",
     "iopub.status.busy": "2021-03-20T10:14:37.655512Z",
     "iopub.status.idle": "2021-03-20T10:14:37.657290Z",
     "shell.execute_reply": "2021-03-20T10:14:37.657735Z"
    }
   },
   "outputs": [],
   "source": [
    "data_dir = os.path.join(os.path.abspath(\"\"), \"data\")"
   ]
  },
  {
   "cell_type": "code",
   "execution_count": 18,
   "metadata": {
    "execution": {
     "iopub.execute_input": "2021-03-20T10:14:37.663309Z",
     "iopub.status.busy": "2021-03-20T10:14:37.661093Z",
     "iopub.status.idle": "2021-03-20T10:14:37.665717Z",
     "shell.execute_reply": "2021-03-20T10:14:37.665182Z"
    }
   },
   "outputs": [],
   "source": [
    "df.to_csv(os.path.join(data_dir, f\"{today}.csv\"), index=False)"
   ]
  },
  {
   "cell_type": "code",
   "execution_count": null,
   "metadata": {},
   "outputs": [],
   "source": []
  }
 ],
 "metadata": {
  "kernelspec": {
   "display_name": "Python 3",
   "language": "python",
   "name": "python3"
  },
  "language_info": {
   "codemirror_mode": {
    "name": "ipython",
    "version": 3
   },
   "file_extension": ".py",
   "mimetype": "text/x-python",
   "name": "python",
   "nbconvert_exporter": "python",
   "pygments_lexer": "ipython3",
   "version": "3.8.8"
  }
 },
 "nbformat": 4,
 "nbformat_minor": 4
}
