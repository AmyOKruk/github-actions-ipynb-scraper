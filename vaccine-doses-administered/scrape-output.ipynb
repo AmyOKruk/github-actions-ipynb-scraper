{
 "cells": [
  {
   "cell_type": "markdown",
   "metadata": {},
   "source": [
    "# California COVID vaccinations scrape"
   ]
  },
  {
   "cell_type": "markdown",
   "metadata": {},
   "source": [
    "By [Amy O'Kruk](https://twitter.com/amyokruk)"
   ]
  },
  {
   "cell_type": "markdown",
   "metadata": {},
   "source": [
    "Downloads data on vaccine doses administered by county and statewide from a Tableau-powered dashboard from the California Department of Public Health."
   ]
  },
  {
   "cell_type": "code",
   "execution_count": 1,
   "metadata": {
    "execution": {
     "iopub.execute_input": "2021-03-09T06:47:14.136778Z",
     "iopub.status.busy": "2021-03-09T06:47:14.135960Z",
     "iopub.status.idle": "2021-03-09T06:47:14.636133Z",
     "shell.execute_reply": "2021-03-09T06:47:14.635483Z"
    }
   },
   "outputs": [],
   "source": [
    "import pandas as pd\n",
    "import requests\n",
    "from bs4 import BeautifulSoup\n",
    "import json\n",
    "import re\n",
    "import time\n",
    "from time import gmtime, strftime \n",
    "import os\n",
    "import pytz\n",
    "from datetime import datetime"
   ]
  },
  {
   "cell_type": "markdown",
   "metadata": {},
   "source": [
    "Scrape the dashboard page"
   ]
  },
  {
   "cell_type": "code",
   "execution_count": 2,
   "metadata": {
    "execution": {
     "iopub.execute_input": "2021-03-09T06:47:14.643327Z",
     "iopub.status.busy": "2021-03-09T06:47:14.640036Z",
     "iopub.status.idle": "2021-03-09T06:47:15.608732Z",
     "shell.execute_reply": "2021-03-09T06:47:15.607535Z"
    }
   },
   "outputs": [],
   "source": [
    "url = \"https://public.tableau.com/interactive/views/COVID-19VaccineDashboardPublic/Vaccine?:embed=y&:showVizHome=n&:apiID=host0\"\n",
    "\n",
    "r = requests.get(url)\n",
    "soup = BeautifulSoup(r.text, \"html.parser\")"
   ]
  },
  {
   "cell_type": "code",
   "execution_count": 3,
   "metadata": {
    "execution": {
     "iopub.execute_input": "2021-03-09T06:47:15.613894Z",
     "iopub.status.busy": "2021-03-09T06:47:15.613286Z",
     "iopub.status.idle": "2021-03-09T06:47:15.617482Z",
     "shell.execute_reply": "2021-03-09T06:47:15.616832Z"
    }
   },
   "outputs": [],
   "source": [
    "tableauData = json.loads(soup.find(\"textarea\",{\"id\": \"tsConfigContainer\"}).text)"
   ]
  },
  {
   "cell_type": "markdown",
   "metadata": {},
   "source": [
    "Get the link to the Tableau data"
   ]
  },
  {
   "cell_type": "code",
   "execution_count": 4,
   "metadata": {
    "execution": {
     "iopub.execute_input": "2021-03-09T06:47:15.621714Z",
     "iopub.status.busy": "2021-03-09T06:47:15.621074Z",
     "iopub.status.idle": "2021-03-09T06:47:15.625211Z",
     "shell.execute_reply": "2021-03-09T06:47:15.624653Z"
    }
   },
   "outputs": [],
   "source": [
    "dataUrl = f'https://public.tableau.com{tableauData[\"vizql_root\"]}/bootstrapSession/sessions/{tableauData[\"sessionid\"]}'"
   ]
  },
  {
   "cell_type": "code",
   "execution_count": 5,
   "metadata": {
    "execution": {
     "iopub.execute_input": "2021-03-09T06:47:15.633072Z",
     "iopub.status.busy": "2021-03-09T06:47:15.632394Z",
     "iopub.status.idle": "2021-03-09T06:47:15.923483Z",
     "shell.execute_reply": "2021-03-09T06:47:15.922870Z"
    }
   },
   "outputs": [],
   "source": [
    "r = requests.post(dataUrl, data= {\n",
    "    \"sheet_id\": tableauData[\"sheetId\"],\n",
    "})\n",
    "\n",
    "dataReg = re.search('\\d+;({.*})\\d+;({.*})', r.text, re.MULTILINE)\n",
    "data1 = json.loads(dataReg.group(2))\n",
    "\n",
    "dataJson = data1[\"secondaryInfo\"][\"presModelMap\"][\"dataDictionary\"][\"presModelHolder\"][\"genDataDictionaryPresModel\"][\"dataSegments\"][\"0\"][\"dataColumns\"]"
   ]
  },
  {
   "cell_type": "markdown",
   "metadata": {},
   "source": [
    "Isolate what you want"
   ]
  },
  {
   "cell_type": "code",
   "execution_count": 6,
   "metadata": {
    "execution": {
     "iopub.execute_input": "2021-03-09T06:47:15.927928Z",
     "iopub.status.busy": "2021-03-09T06:47:15.927303Z",
     "iopub.status.idle": "2021-03-09T06:47:15.940254Z",
     "shell.execute_reply": "2021-03-09T06:47:15.940818Z"
    }
   },
   "outputs": [],
   "source": [
    "counties = dataJson[2]['dataValues'][:58]"
   ]
  },
  {
   "cell_type": "code",
   "execution_count": 7,
   "metadata": {
    "execution": {
     "iopub.execute_input": "2021-03-09T06:47:15.944999Z",
     "iopub.status.busy": "2021-03-09T06:47:15.944316Z",
     "iopub.status.idle": "2021-03-09T06:47:15.948852Z",
     "shell.execute_reply": "2021-03-09T06:47:15.947976Z"
    }
   },
   "outputs": [],
   "source": [
    "doses = dataJson[0]['dataValues'][3:61]"
   ]
  },
  {
   "cell_type": "markdown",
   "metadata": {},
   "source": [
    "Data formatting"
   ]
  },
  {
   "cell_type": "code",
   "execution_count": 8,
   "metadata": {
    "execution": {
     "iopub.execute_input": "2021-03-09T06:47:15.952762Z",
     "iopub.status.busy": "2021-03-09T06:47:15.952108Z",
     "iopub.status.idle": "2021-03-09T06:47:15.956392Z",
     "shell.execute_reply": "2021-03-09T06:47:15.955840Z"
    }
   },
   "outputs": [],
   "source": [
    "zipped = dict(zip(counties, doses))"
   ]
  },
  {
   "cell_type": "code",
   "execution_count": 9,
   "metadata": {
    "execution": {
     "iopub.execute_input": "2021-03-09T06:47:15.962717Z",
     "iopub.status.busy": "2021-03-09T06:47:15.962001Z",
     "iopub.status.idle": "2021-03-09T06:47:15.966360Z",
     "shell.execute_reply": "2021-03-09T06:47:15.965846Z"
    }
   },
   "outputs": [],
   "source": [
    "df = pd.Series(zipped).reset_index()"
   ]
  },
  {
   "cell_type": "code",
   "execution_count": 10,
   "metadata": {
    "execution": {
     "iopub.execute_input": "2021-03-09T06:47:15.970554Z",
     "iopub.status.busy": "2021-03-09T06:47:15.969875Z",
     "iopub.status.idle": "2021-03-09T06:47:15.974327Z",
     "shell.execute_reply": "2021-03-09T06:47:15.974898Z"
    }
   },
   "outputs": [],
   "source": [
    "df.columns = ['location','doses']"
   ]
  },
  {
   "cell_type": "markdown",
   "metadata": {},
   "source": [
    "Grab the overall California total"
   ]
  },
  {
   "cell_type": "code",
   "execution_count": 11,
   "metadata": {
    "execution": {
     "iopub.execute_input": "2021-03-09T06:47:15.982908Z",
     "iopub.status.busy": "2021-03-09T06:47:15.981418Z",
     "iopub.status.idle": "2021-03-09T06:47:15.983677Z",
     "shell.execute_reply": "2021-03-09T06:47:15.984153Z"
    }
   },
   "outputs": [],
   "source": [
    "add = {'location':'California','doses':dataJson[0]['dataValues'][2]}"
   ]
  },
  {
   "cell_type": "code",
   "execution_count": 12,
   "metadata": {
    "execution": {
     "iopub.execute_input": "2021-03-09T06:47:15.992953Z",
     "iopub.status.busy": "2021-03-09T06:47:15.991403Z",
     "iopub.status.idle": "2021-03-09T06:47:15.993661Z",
     "shell.execute_reply": "2021-03-09T06:47:15.994212Z"
    }
   },
   "outputs": [],
   "source": [
    "df = df.append(add, ignore_index=True)"
   ]
  },
  {
   "cell_type": "code",
   "execution_count": 13,
   "metadata": {
    "execution": {
     "iopub.execute_input": "2021-03-09T06:47:16.000049Z",
     "iopub.status.busy": "2021-03-09T06:47:15.998632Z",
     "iopub.status.idle": "2021-03-09T06:47:16.000830Z",
     "shell.execute_reply": "2021-03-09T06:47:16.001331Z"
    }
   },
   "outputs": [],
   "source": [
    "df = df.sort_values(by='location')"
   ]
  },
  {
   "cell_type": "code",
   "execution_count": 14,
   "metadata": {
    "execution": {
     "iopub.execute_input": "2021-03-09T06:47:16.008950Z",
     "iopub.status.busy": "2021-03-09T06:47:16.007586Z",
     "iopub.status.idle": "2021-03-09T06:47:16.009775Z",
     "shell.execute_reply": "2021-03-09T06:47:16.010281Z"
    }
   },
   "outputs": [],
   "source": [
    "df = df[df.location == 'California'].append(df[df.location != 'California']).reset_index(drop=True)"
   ]
  },
  {
   "cell_type": "code",
   "execution_count": null,
   "metadata": {},
   "outputs": [],
   "source": []
  },
  {
   "cell_type": "code",
   "execution_count": 15,
   "metadata": {
    "execution": {
     "iopub.execute_input": "2021-03-09T06:47:16.014054Z",
     "iopub.status.busy": "2021-03-09T06:47:16.013447Z",
     "iopub.status.idle": "2021-03-09T06:47:16.033300Z",
     "shell.execute_reply": "2021-03-09T06:47:16.033795Z"
    }
   },
   "outputs": [],
   "source": [
    "tz = pytz.timezone(\"America/New_York\")"
   ]
  },
  {
   "cell_type": "code",
   "execution_count": 16,
   "metadata": {
    "execution": {
     "iopub.execute_input": "2021-03-09T06:47:16.039170Z",
     "iopub.status.busy": "2021-03-09T06:47:16.037623Z",
     "iopub.status.idle": "2021-03-09T06:47:16.039913Z",
     "shell.execute_reply": "2021-03-09T06:47:16.040490Z"
    }
   },
   "outputs": [],
   "source": [
    "today = datetime.now(tz).date()"
   ]
  },
  {
   "cell_type": "code",
   "execution_count": 17,
   "metadata": {
    "execution": {
     "iopub.execute_input": "2021-03-09T06:47:16.045821Z",
     "iopub.status.busy": "2021-03-09T06:47:16.044428Z",
     "iopub.status.idle": "2021-03-09T06:47:16.046730Z",
     "shell.execute_reply": "2021-03-09T06:47:16.047511Z"
    }
   },
   "outputs": [],
   "source": [
    "data_dir = os.path.join(os.path.abspath(\"\"), \"data\")"
   ]
  },
  {
   "cell_type": "code",
   "execution_count": 18,
   "metadata": {
    "execution": {
     "iopub.execute_input": "2021-03-09T06:47:16.052733Z",
     "iopub.status.busy": "2021-03-09T06:47:16.051236Z",
     "iopub.status.idle": "2021-03-09T06:47:16.058967Z",
     "shell.execute_reply": "2021-03-09T06:47:16.058314Z"
    }
   },
   "outputs": [],
   "source": [
    "df.to_csv(os.path.join(data_dir, f\"{today}.csv\"), index=False)"
   ]
  },
  {
   "cell_type": "code",
   "execution_count": null,
   "metadata": {},
   "outputs": [],
   "source": []
  }
 ],
 "metadata": {
  "kernelspec": {
   "display_name": "Python 3",
   "language": "python",
   "name": "python3"
  },
  "language_info": {
   "codemirror_mode": {
    "name": "ipython",
    "version": 3
   },
   "file_extension": ".py",
   "mimetype": "text/x-python",
   "name": "python",
   "nbconvert_exporter": "python",
   "pygments_lexer": "ipython3",
   "version": "3.8.8"
  }
 },
 "nbformat": 4,
 "nbformat_minor": 4
}
