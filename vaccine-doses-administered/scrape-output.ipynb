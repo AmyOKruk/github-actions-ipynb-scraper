{
 "cells": [
  {
   "cell_type": "markdown",
   "metadata": {},
   "source": [
    "# California COVID vaccinations scrape"
   ]
  },
  {
   "cell_type": "markdown",
   "metadata": {},
   "source": [
    "By [Amy O'Kruk](https://twitter.com/amyokruk)"
   ]
  },
  {
   "cell_type": "markdown",
   "metadata": {},
   "source": [
    "Downloads data on vaccine doses administered by county and statewide from a Tableau-powered dashboard from the California Department of Public Health."
   ]
  },
  {
   "cell_type": "code",
   "execution_count": 1,
   "metadata": {
    "execution": {
     "iopub.execute_input": "2021-03-20T19:10:01.733689Z",
     "iopub.status.busy": "2021-03-20T19:10:01.733115Z",
     "iopub.status.idle": "2021-03-20T19:10:02.183485Z",
     "shell.execute_reply": "2021-03-20T19:10:02.182911Z"
    }
   },
   "outputs": [],
   "source": [
    "import pandas as pd\n",
    "import requests\n",
    "from bs4 import BeautifulSoup\n",
    "import json\n",
    "import re\n",
    "import time\n",
    "from time import gmtime, strftime \n",
    "import os\n",
    "import pytz\n",
    "from datetime import datetime"
   ]
  },
  {
   "cell_type": "markdown",
   "metadata": {},
   "source": [
    "Scrape the dashboard page"
   ]
  },
  {
   "cell_type": "code",
   "execution_count": 2,
   "metadata": {
    "execution": {
     "iopub.execute_input": "2021-03-20T19:10:02.188532Z",
     "iopub.status.busy": "2021-03-20T19:10:02.186880Z",
     "iopub.status.idle": "2021-03-20T19:10:02.926154Z",
     "shell.execute_reply": "2021-03-20T19:10:02.925357Z"
    }
   },
   "outputs": [],
   "source": [
    "url = \"https://public.tableau.com/interactive/views/COVID-19VaccineDashboardPublic/Vaccine?:embed=y&:showVizHome=n&:apiID=host0\"\n",
    "\n",
    "r = requests.get(url)\n",
    "soup = BeautifulSoup(r.text, \"html.parser\")"
   ]
  },
  {
   "cell_type": "code",
   "execution_count": 3,
   "metadata": {
    "execution": {
     "iopub.execute_input": "2021-03-20T19:10:02.931557Z",
     "iopub.status.busy": "2021-03-20T19:10:02.931078Z",
     "iopub.status.idle": "2021-03-20T19:10:02.934487Z",
     "shell.execute_reply": "2021-03-20T19:10:02.934053Z"
    }
   },
   "outputs": [],
   "source": [
    "tableauData = json.loads(soup.find(\"textarea\",{\"id\": \"tsConfigContainer\"}).text)"
   ]
  },
  {
   "cell_type": "markdown",
   "metadata": {},
   "source": [
    "Get the link to the Tableau data"
   ]
  },
  {
   "cell_type": "code",
   "execution_count": 4,
   "metadata": {
    "execution": {
     "iopub.execute_input": "2021-03-20T19:10:02.938588Z",
     "iopub.status.busy": "2021-03-20T19:10:02.937472Z",
     "iopub.status.idle": "2021-03-20T19:10:02.939186Z",
     "shell.execute_reply": "2021-03-20T19:10:02.939614Z"
    }
   },
   "outputs": [],
   "source": [
    "dataUrl = f'https://public.tableau.com{tableauData[\"vizql_root\"]}/bootstrapSession/sessions/{tableauData[\"sessionid\"]}'"
   ]
  },
  {
   "cell_type": "code",
   "execution_count": 5,
   "metadata": {
    "execution": {
     "iopub.execute_input": "2021-03-20T19:10:02.945389Z",
     "iopub.status.busy": "2021-03-20T19:10:02.944964Z",
     "iopub.status.idle": "2021-03-20T19:10:03.262701Z",
     "shell.execute_reply": "2021-03-20T19:10:03.262023Z"
    }
   },
   "outputs": [],
   "source": [
    "r = requests.post(dataUrl, data= {\n",
    "    \"sheet_id\": tableauData[\"sheetId\"],\n",
    "})\n",
    "\n",
    "dataReg = re.search('\\d+;({.*})\\d+;({.*})', r.text, re.MULTILINE)\n",
    "data1 = json.loads(dataReg.group(2))\n",
    "\n",
    "dataJson = data1[\"secondaryInfo\"][\"presModelMap\"][\"dataDictionary\"][\"presModelHolder\"][\"genDataDictionaryPresModel\"][\"dataSegments\"][\"0\"][\"dataColumns\"]"
   ]
  },
  {
   "cell_type": "markdown",
   "metadata": {},
   "source": [
    "Isolate what you want"
   ]
  },
  {
   "cell_type": "code",
   "execution_count": 6,
   "metadata": {
    "execution": {
     "iopub.execute_input": "2021-03-20T19:10:03.267496Z",
     "iopub.status.busy": "2021-03-20T19:10:03.266363Z",
     "iopub.status.idle": "2021-03-20T19:10:03.268079Z",
     "shell.execute_reply": "2021-03-20T19:10:03.268496Z"
    }
   },
   "outputs": [],
   "source": [
    "counties = dataJson[2]['dataValues'][:58]"
   ]
  },
  {
   "cell_type": "code",
   "execution_count": 7,
   "metadata": {
    "execution": {
     "iopub.execute_input": "2021-03-20T19:10:03.272486Z",
     "iopub.status.busy": "2021-03-20T19:10:03.271621Z",
     "iopub.status.idle": "2021-03-20T19:10:03.273385Z",
     "shell.execute_reply": "2021-03-20T19:10:03.273800Z"
    }
   },
   "outputs": [],
   "source": [
    "doses = dataJson[0]['dataValues'][3:61]"
   ]
  },
  {
   "cell_type": "markdown",
   "metadata": {},
   "source": [
    "Data formatting"
   ]
  },
  {
   "cell_type": "code",
   "execution_count": 8,
   "metadata": {
    "execution": {
     "iopub.execute_input": "2021-03-20T19:10:03.277986Z",
     "iopub.status.busy": "2021-03-20T19:10:03.276742Z",
     "iopub.status.idle": "2021-03-20T19:10:03.278638Z",
     "shell.execute_reply": "2021-03-20T19:10:03.279077Z"
    }
   },
   "outputs": [],
   "source": [
    "zipped = dict(zip(counties, doses))"
   ]
  },
  {
   "cell_type": "code",
   "execution_count": 9,
   "metadata": {
    "execution": {
     "iopub.execute_input": "2021-03-20T19:10:03.285362Z",
     "iopub.status.busy": "2021-03-20T19:10:03.284136Z",
     "iopub.status.idle": "2021-03-20T19:10:03.285942Z",
     "shell.execute_reply": "2021-03-20T19:10:03.286361Z"
    }
   },
   "outputs": [],
   "source": [
    "df = pd.Series(zipped).reset_index()"
   ]
  },
  {
   "cell_type": "code",
   "execution_count": 10,
   "metadata": {
    "execution": {
     "iopub.execute_input": "2021-03-20T19:10:03.290384Z",
     "iopub.status.busy": "2021-03-20T19:10:03.289493Z",
     "iopub.status.idle": "2021-03-20T19:10:03.291226Z",
     "shell.execute_reply": "2021-03-20T19:10:03.291651Z"
    }
   },
   "outputs": [],
   "source": [
    "df.columns = ['location','doses']"
   ]
  },
  {
   "cell_type": "markdown",
   "metadata": {},
   "source": [
    "Grab the overall California total"
   ]
  },
  {
   "cell_type": "code",
   "execution_count": 11,
   "metadata": {
    "execution": {
     "iopub.execute_input": "2021-03-20T19:10:03.295682Z",
     "iopub.status.busy": "2021-03-20T19:10:03.294589Z",
     "iopub.status.idle": "2021-03-20T19:10:03.296243Z",
     "shell.execute_reply": "2021-03-20T19:10:03.296636Z"
    }
   },
   "outputs": [],
   "source": [
    "add = {'location':'California','doses':dataJson[0]['dataValues'][2]}"
   ]
  },
  {
   "cell_type": "code",
   "execution_count": 12,
   "metadata": {
    "execution": {
     "iopub.execute_input": "2021-03-20T19:10:03.303003Z",
     "iopub.status.busy": "2021-03-20T19:10:03.302133Z",
     "iopub.status.idle": "2021-03-20T19:10:03.303757Z",
     "shell.execute_reply": "2021-03-20T19:10:03.304152Z"
    }
   },
   "outputs": [],
   "source": [
    "df = df.append(add, ignore_index=True)"
   ]
  },
  {
   "cell_type": "code",
   "execution_count": 13,
   "metadata": {
    "execution": {
     "iopub.execute_input": "2021-03-20T19:10:03.308636Z",
     "iopub.status.busy": "2021-03-20T19:10:03.307579Z",
     "iopub.status.idle": "2021-03-20T19:10:03.309159Z",
     "shell.execute_reply": "2021-03-20T19:10:03.309500Z"
    }
   },
   "outputs": [],
   "source": [
    "df = df.sort_values(by='location')"
   ]
  },
  {
   "cell_type": "code",
   "execution_count": 14,
   "metadata": {
    "execution": {
     "iopub.execute_input": "2021-03-20T19:10:03.315419Z",
     "iopub.status.busy": "2021-03-20T19:10:03.314297Z",
     "iopub.status.idle": "2021-03-20T19:10:03.316013Z",
     "shell.execute_reply": "2021-03-20T19:10:03.316433Z"
    }
   },
   "outputs": [],
   "source": [
    "df = df[df.location == 'California'].append(df[df.location != 'California']).reset_index(drop=True)"
   ]
  },
  {
   "cell_type": "code",
   "execution_count": null,
   "metadata": {},
   "outputs": [],
   "source": []
  },
  {
   "cell_type": "code",
   "execution_count": 15,
   "metadata": {
    "execution": {
     "iopub.execute_input": "2021-03-20T19:10:03.319694Z",
     "iopub.status.busy": "2021-03-20T19:10:03.319186Z",
     "iopub.status.idle": "2021-03-20T19:10:03.336649Z",
     "shell.execute_reply": "2021-03-20T19:10:03.336155Z"
    }
   },
   "outputs": [],
   "source": [
    "tz = pytz.timezone(\"America/New_York\")"
   ]
  },
  {
   "cell_type": "code",
   "execution_count": 16,
   "metadata": {
    "execution": {
     "iopub.execute_input": "2021-03-20T19:10:03.340753Z",
     "iopub.status.busy": "2021-03-20T19:10:03.339683Z",
     "iopub.status.idle": "2021-03-20T19:10:03.341307Z",
     "shell.execute_reply": "2021-03-20T19:10:03.341705Z"
    }
   },
   "outputs": [],
   "source": [
    "today = datetime.now(tz).date()"
   ]
  },
  {
   "cell_type": "code",
   "execution_count": 17,
   "metadata": {
    "execution": {
     "iopub.execute_input": "2021-03-20T19:10:03.345851Z",
     "iopub.status.busy": "2021-03-20T19:10:03.344661Z",
     "iopub.status.idle": "2021-03-20T19:10:03.346531Z",
     "shell.execute_reply": "2021-03-20T19:10:03.346987Z"
    }
   },
   "outputs": [],
   "source": [
    "data_dir = os.path.join(os.path.abspath(\"\"), \"data\")"
   ]
  },
  {
   "cell_type": "code",
   "execution_count": 18,
   "metadata": {
    "execution": {
     "iopub.execute_input": "2021-03-20T19:10:03.351138Z",
     "iopub.status.busy": "2021-03-20T19:10:03.350100Z",
     "iopub.status.idle": "2021-03-20T19:10:03.354563Z",
     "shell.execute_reply": "2021-03-20T19:10:03.354021Z"
    }
   },
   "outputs": [],
   "source": [
    "df.to_csv(os.path.join(data_dir, f\"{today}.csv\"), index=False)"
   ]
  },
  {
   "cell_type": "code",
   "execution_count": null,
   "metadata": {},
   "outputs": [],
   "source": []
  }
 ],
 "metadata": {
  "kernelspec": {
   "display_name": "Python 3",
   "language": "python",
   "name": "python3"
  },
  "language_info": {
   "codemirror_mode": {
    "name": "ipython",
    "version": 3
   },
   "file_extension": ".py",
   "mimetype": "text/x-python",
   "name": "python",
   "nbconvert_exporter": "python",
   "pygments_lexer": "ipython3",
   "version": "3.8.8"
  }
 },
 "nbformat": 4,
 "nbformat_minor": 4
}
