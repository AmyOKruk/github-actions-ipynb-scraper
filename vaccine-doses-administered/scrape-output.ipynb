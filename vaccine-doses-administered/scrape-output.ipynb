{
 "cells": [
  {
   "cell_type": "markdown",
   "metadata": {},
   "source": [
    "# California COVID vaccinations scrape"
   ]
  },
  {
   "cell_type": "markdown",
   "metadata": {},
   "source": [
    "By [Amy O'Kruk](https://twitter.com/amyokruk)"
   ]
  },
  {
   "cell_type": "markdown",
   "metadata": {},
   "source": [
    "Downloads data on vaccine doses administered by county and statewide from a Tableau-powered dashboard from the California Department of Public Health."
   ]
  },
  {
   "cell_type": "code",
   "execution_count": 1,
   "metadata": {
    "execution": {
     "iopub.execute_input": "2021-03-11T17:56:37.377716Z",
     "iopub.status.busy": "2021-03-11T17:56:37.377081Z",
     "iopub.status.idle": "2021-03-11T17:56:37.727479Z",
     "shell.execute_reply": "2021-03-11T17:56:37.726648Z"
    }
   },
   "outputs": [],
   "source": [
    "import pandas as pd\n",
    "import requests\n",
    "from bs4 import BeautifulSoup\n",
    "import json\n",
    "import re\n",
    "import time\n",
    "from time import gmtime, strftime \n",
    "import os\n",
    "import pytz\n",
    "from datetime import datetime"
   ]
  },
  {
   "cell_type": "markdown",
   "metadata": {},
   "source": [
    "Scrape the dashboard page"
   ]
  },
  {
   "cell_type": "code",
   "execution_count": 2,
   "metadata": {
    "execution": {
     "iopub.execute_input": "2021-03-11T17:56:37.733630Z",
     "iopub.status.busy": "2021-03-11T17:56:37.731078Z",
     "iopub.status.idle": "2021-03-11T17:56:38.409808Z",
     "shell.execute_reply": "2021-03-11T17:56:38.408832Z"
    }
   },
   "outputs": [],
   "source": [
    "url = \"https://public.tableau.com/interactive/views/COVID-19VaccineDashboardPublic/Vaccine?:embed=y&:showVizHome=n&:apiID=host0\"\n",
    "\n",
    "r = requests.get(url)\n",
    "soup = BeautifulSoup(r.text, \"html.parser\")"
   ]
  },
  {
   "cell_type": "code",
   "execution_count": 3,
   "metadata": {
    "execution": {
     "iopub.execute_input": "2021-03-11T17:56:38.414877Z",
     "iopub.status.busy": "2021-03-11T17:56:38.414259Z",
     "iopub.status.idle": "2021-03-11T17:56:38.418376Z",
     "shell.execute_reply": "2021-03-11T17:56:38.418867Z"
    }
   },
   "outputs": [],
   "source": [
    "tableauData = json.loads(soup.find(\"textarea\",{\"id\": \"tsConfigContainer\"}).text)"
   ]
  },
  {
   "cell_type": "markdown",
   "metadata": {},
   "source": [
    "Get the link to the Tableau data"
   ]
  },
  {
   "cell_type": "code",
   "execution_count": 4,
   "metadata": {
    "execution": {
     "iopub.execute_input": "2021-03-11T17:56:38.422878Z",
     "iopub.status.busy": "2021-03-11T17:56:38.422263Z",
     "iopub.status.idle": "2021-03-11T17:56:38.427196Z",
     "shell.execute_reply": "2021-03-11T17:56:38.427671Z"
    }
   },
   "outputs": [],
   "source": [
    "dataUrl = f'https://public.tableau.com{tableauData[\"vizql_root\"]}/bootstrapSession/sessions/{tableauData[\"sessionid\"]}'"
   ]
  },
  {
   "cell_type": "code",
   "execution_count": 5,
   "metadata": {
    "execution": {
     "iopub.execute_input": "2021-03-11T17:56:38.435039Z",
     "iopub.status.busy": "2021-03-11T17:56:38.434152Z",
     "iopub.status.idle": "2021-03-11T17:56:38.792987Z",
     "shell.execute_reply": "2021-03-11T17:56:38.792325Z"
    }
   },
   "outputs": [],
   "source": [
    "r = requests.post(dataUrl, data= {\n",
    "    \"sheet_id\": tableauData[\"sheetId\"],\n",
    "})\n",
    "\n",
    "dataReg = re.search('\\d+;({.*})\\d+;({.*})', r.text, re.MULTILINE)\n",
    "data1 = json.loads(dataReg.group(2))\n",
    "\n",
    "dataJson = data1[\"secondaryInfo\"][\"presModelMap\"][\"dataDictionary\"][\"presModelHolder\"][\"genDataDictionaryPresModel\"][\"dataSegments\"][\"0\"][\"dataColumns\"]"
   ]
  },
  {
   "cell_type": "markdown",
   "metadata": {},
   "source": [
    "Isolate what you want"
   ]
  },
  {
   "cell_type": "code",
   "execution_count": 6,
   "metadata": {
    "execution": {
     "iopub.execute_input": "2021-03-11T17:56:38.798736Z",
     "iopub.status.busy": "2021-03-11T17:56:38.797139Z",
     "iopub.status.idle": "2021-03-11T17:56:38.799458Z",
     "shell.execute_reply": "2021-03-11T17:56:38.800018Z"
    }
   },
   "outputs": [],
   "source": [
    "counties = dataJson[2]['dataValues'][:58]"
   ]
  },
  {
   "cell_type": "code",
   "execution_count": 7,
   "metadata": {
    "execution": {
     "iopub.execute_input": "2021-03-11T17:56:38.805531Z",
     "iopub.status.busy": "2021-03-11T17:56:38.803766Z",
     "iopub.status.idle": "2021-03-11T17:56:38.806235Z",
     "shell.execute_reply": "2021-03-11T17:56:38.806789Z"
    }
   },
   "outputs": [],
   "source": [
    "doses = dataJson[0]['dataValues'][3:61]"
   ]
  },
  {
   "cell_type": "markdown",
   "metadata": {},
   "source": [
    "Data formatting"
   ]
  },
  {
   "cell_type": "code",
   "execution_count": 8,
   "metadata": {
    "execution": {
     "iopub.execute_input": "2021-03-11T17:56:38.812267Z",
     "iopub.status.busy": "2021-03-11T17:56:38.810604Z",
     "iopub.status.idle": "2021-03-11T17:56:38.812987Z",
     "shell.execute_reply": "2021-03-11T17:56:38.813529Z"
    }
   },
   "outputs": [],
   "source": [
    "zipped = dict(zip(counties, doses))"
   ]
  },
  {
   "cell_type": "code",
   "execution_count": 9,
   "metadata": {
    "execution": {
     "iopub.execute_input": "2021-03-11T17:56:38.821059Z",
     "iopub.status.busy": "2021-03-11T17:56:38.819580Z",
     "iopub.status.idle": "2021-03-11T17:56:38.821746Z",
     "shell.execute_reply": "2021-03-11T17:56:38.822278Z"
    }
   },
   "outputs": [],
   "source": [
    "df = pd.Series(zipped).reset_index()"
   ]
  },
  {
   "cell_type": "code",
   "execution_count": 10,
   "metadata": {
    "execution": {
     "iopub.execute_input": "2021-03-11T17:56:38.827408Z",
     "iopub.status.busy": "2021-03-11T17:56:38.826069Z",
     "iopub.status.idle": "2021-03-11T17:56:38.828076Z",
     "shell.execute_reply": "2021-03-11T17:56:38.828622Z"
    }
   },
   "outputs": [],
   "source": [
    "df.columns = ['location','doses']"
   ]
  },
  {
   "cell_type": "markdown",
   "metadata": {},
   "source": [
    "Grab the overall California total"
   ]
  },
  {
   "cell_type": "code",
   "execution_count": 11,
   "metadata": {
    "execution": {
     "iopub.execute_input": "2021-03-11T17:56:38.833610Z",
     "iopub.status.busy": "2021-03-11T17:56:38.832133Z",
     "iopub.status.idle": "2021-03-11T17:56:38.834285Z",
     "shell.execute_reply": "2021-03-11T17:56:38.834808Z"
    }
   },
   "outputs": [],
   "source": [
    "add = {'location':'California','doses':dataJson[0]['dataValues'][2]}"
   ]
  },
  {
   "cell_type": "code",
   "execution_count": 12,
   "metadata": {
    "execution": {
     "iopub.execute_input": "2021-03-11T17:56:38.841059Z",
     "iopub.status.busy": "2021-03-11T17:56:38.839216Z",
     "iopub.status.idle": "2021-03-11T17:56:38.844628Z",
     "shell.execute_reply": "2021-03-11T17:56:38.844004Z"
    }
   },
   "outputs": [],
   "source": [
    "df = df.append(add, ignore_index=True)"
   ]
  },
  {
   "cell_type": "code",
   "execution_count": 13,
   "metadata": {
    "execution": {
     "iopub.execute_input": "2021-03-11T17:56:38.849193Z",
     "iopub.status.busy": "2021-03-11T17:56:38.848618Z",
     "iopub.status.idle": "2021-03-11T17:56:38.852493Z",
     "shell.execute_reply": "2021-03-11T17:56:38.851953Z"
    }
   },
   "outputs": [],
   "source": [
    "df = df.sort_values(by='location')"
   ]
  },
  {
   "cell_type": "code",
   "execution_count": 14,
   "metadata": {
    "execution": {
     "iopub.execute_input": "2021-03-11T17:56:38.858641Z",
     "iopub.status.busy": "2021-03-11T17:56:38.858079Z",
     "iopub.status.idle": "2021-03-11T17:56:38.861980Z",
     "shell.execute_reply": "2021-03-11T17:56:38.861410Z"
    }
   },
   "outputs": [],
   "source": [
    "df = df[df.location == 'California'].append(df[df.location != 'California']).reset_index(drop=True)"
   ]
  },
  {
   "cell_type": "code",
   "execution_count": null,
   "metadata": {},
   "outputs": [],
   "source": []
  },
  {
   "cell_type": "code",
   "execution_count": 15,
   "metadata": {
    "execution": {
     "iopub.execute_input": "2021-03-11T17:56:38.865648Z",
     "iopub.status.busy": "2021-03-11T17:56:38.865069Z",
     "iopub.status.idle": "2021-03-11T17:56:38.884124Z",
     "shell.execute_reply": "2021-03-11T17:56:38.884635Z"
    }
   },
   "outputs": [],
   "source": [
    "tz = pytz.timezone(\"America/New_York\")"
   ]
  },
  {
   "cell_type": "code",
   "execution_count": 16,
   "metadata": {
    "execution": {
     "iopub.execute_input": "2021-03-11T17:56:38.888174Z",
     "iopub.status.busy": "2021-03-11T17:56:38.887453Z",
     "iopub.status.idle": "2021-03-11T17:56:38.891703Z",
     "shell.execute_reply": "2021-03-11T17:56:38.891003Z"
    }
   },
   "outputs": [],
   "source": [
    "today = datetime.now(tz).date()"
   ]
  },
  {
   "cell_type": "code",
   "execution_count": 17,
   "metadata": {
    "execution": {
     "iopub.execute_input": "2021-03-11T17:56:38.895168Z",
     "iopub.status.busy": "2021-03-11T17:56:38.894624Z",
     "iopub.status.idle": "2021-03-11T17:56:38.898531Z",
     "shell.execute_reply": "2021-03-11T17:56:38.898053Z"
    }
   },
   "outputs": [],
   "source": [
    "data_dir = os.path.join(os.path.abspath(\"\"), \"data\")"
   ]
  },
  {
   "cell_type": "code",
   "execution_count": 18,
   "metadata": {
    "execution": {
     "iopub.execute_input": "2021-03-11T17:56:38.902682Z",
     "iopub.status.busy": "2021-03-11T17:56:38.901706Z",
     "iopub.status.idle": "2021-03-11T17:56:38.906066Z",
     "shell.execute_reply": "2021-03-11T17:56:38.906492Z"
    }
   },
   "outputs": [],
   "source": [
    "df.to_csv(os.path.join(data_dir, f\"{today}.csv\"), index=False)"
   ]
  },
  {
   "cell_type": "code",
   "execution_count": null,
   "metadata": {},
   "outputs": [],
   "source": []
  }
 ],
 "metadata": {
  "kernelspec": {
   "display_name": "Python 3",
   "language": "python",
   "name": "python3"
  },
  "language_info": {
   "codemirror_mode": {
    "name": "ipython",
    "version": 3
   },
   "file_extension": ".py",
   "mimetype": "text/x-python",
   "name": "python",
   "nbconvert_exporter": "python",
   "pygments_lexer": "ipython3",
   "version": "3.8.8"
  }
 },
 "nbformat": 4,
 "nbformat_minor": 4
}
