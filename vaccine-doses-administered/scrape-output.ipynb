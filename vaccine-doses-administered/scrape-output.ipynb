{
 "cells": [
  {
   "cell_type": "markdown",
   "metadata": {},
   "source": [
    "# California COVID vaccinations scrape"
   ]
  },
  {
   "cell_type": "markdown",
   "metadata": {},
   "source": [
    "By [Amy O'Kruk](https://twitter.com/amyokruk)"
   ]
  },
  {
   "cell_type": "markdown",
   "metadata": {},
   "source": [
    "Downloads data on vaccine doses administered by county and statewide from a Tableau-powered dashboard from the California Department of Public Health."
   ]
  },
  {
   "cell_type": "code",
   "execution_count": 1,
   "metadata": {
    "execution": {
     "iopub.execute_input": "2021-03-13T06:14:01.584943Z",
     "iopub.status.busy": "2021-03-13T06:14:01.584287Z",
     "iopub.status.idle": "2021-03-13T06:14:01.966653Z",
     "shell.execute_reply": "2021-03-13T06:14:01.964841Z"
    }
   },
   "outputs": [],
   "source": [
    "import pandas as pd\n",
    "import requests\n",
    "from bs4 import BeautifulSoup\n",
    "import json\n",
    "import re\n",
    "import time\n",
    "from time import gmtime, strftime \n",
    "import os\n",
    "import pytz\n",
    "from datetime import datetime"
   ]
  },
  {
   "cell_type": "markdown",
   "metadata": {},
   "source": [
    "Scrape the dashboard page"
   ]
  },
  {
   "cell_type": "code",
   "execution_count": 2,
   "metadata": {
    "execution": {
     "iopub.execute_input": "2021-03-13T06:14:01.974667Z",
     "iopub.status.busy": "2021-03-13T06:14:01.972290Z",
     "iopub.status.idle": "2021-03-13T06:14:02.935407Z",
     "shell.execute_reply": "2021-03-13T06:14:02.934450Z"
    }
   },
   "outputs": [],
   "source": [
    "url = \"https://public.tableau.com/interactive/views/COVID-19VaccineDashboardPublic/Vaccine?:embed=y&:showVizHome=n&:apiID=host0\"\n",
    "\n",
    "r = requests.get(url)\n",
    "soup = BeautifulSoup(r.text, \"html.parser\")"
   ]
  },
  {
   "cell_type": "code",
   "execution_count": 3,
   "metadata": {
    "execution": {
     "iopub.execute_input": "2021-03-13T06:14:02.940592Z",
     "iopub.status.busy": "2021-03-13T06:14:02.940045Z",
     "iopub.status.idle": "2021-03-13T06:14:02.943281Z",
     "shell.execute_reply": "2021-03-13T06:14:02.943711Z"
    }
   },
   "outputs": [],
   "source": [
    "tableauData = json.loads(soup.find(\"textarea\",{\"id\": \"tsConfigContainer\"}).text)"
   ]
  },
  {
   "cell_type": "markdown",
   "metadata": {},
   "source": [
    "Get the link to the Tableau data"
   ]
  },
  {
   "cell_type": "code",
   "execution_count": 4,
   "metadata": {
    "execution": {
     "iopub.execute_input": "2021-03-13T06:14:02.948712Z",
     "iopub.status.busy": "2021-03-13T06:14:02.948183Z",
     "iopub.status.idle": "2021-03-13T06:14:02.951746Z",
     "shell.execute_reply": "2021-03-13T06:14:02.951307Z"
    }
   },
   "outputs": [],
   "source": [
    "dataUrl = f'https://public.tableau.com{tableauData[\"vizql_root\"]}/bootstrapSession/sessions/{tableauData[\"sessionid\"]}'"
   ]
  },
  {
   "cell_type": "code",
   "execution_count": 5,
   "metadata": {
    "execution": {
     "iopub.execute_input": "2021-03-13T06:14:02.958755Z",
     "iopub.status.busy": "2021-03-13T06:14:02.958225Z",
     "iopub.status.idle": "2021-03-13T06:14:04.021548Z",
     "shell.execute_reply": "2021-03-13T06:14:04.021035Z"
    }
   },
   "outputs": [],
   "source": [
    "r = requests.post(dataUrl, data= {\n",
    "    \"sheet_id\": tableauData[\"sheetId\"],\n",
    "})\n",
    "\n",
    "dataReg = re.search('\\d+;({.*})\\d+;({.*})', r.text, re.MULTILINE)\n",
    "data1 = json.loads(dataReg.group(2))\n",
    "\n",
    "dataJson = data1[\"secondaryInfo\"][\"presModelMap\"][\"dataDictionary\"][\"presModelHolder\"][\"genDataDictionaryPresModel\"][\"dataSegments\"][\"0\"][\"dataColumns\"]"
   ]
  },
  {
   "cell_type": "markdown",
   "metadata": {},
   "source": [
    "Isolate what you want"
   ]
  },
  {
   "cell_type": "code",
   "execution_count": 6,
   "metadata": {
    "execution": {
     "iopub.execute_input": "2021-03-13T06:14:04.025429Z",
     "iopub.status.busy": "2021-03-13T06:14:04.024833Z",
     "iopub.status.idle": "2021-03-13T06:14:04.028395Z",
     "shell.execute_reply": "2021-03-13T06:14:04.027906Z"
    }
   },
   "outputs": [],
   "source": [
    "counties = dataJson[2]['dataValues'][:58]"
   ]
  },
  {
   "cell_type": "code",
   "execution_count": 7,
   "metadata": {
    "execution": {
     "iopub.execute_input": "2021-03-13T06:14:04.032390Z",
     "iopub.status.busy": "2021-03-13T06:14:04.031499Z",
     "iopub.status.idle": "2021-03-13T06:14:04.033478Z",
     "shell.execute_reply": "2021-03-13T06:14:04.033921Z"
    }
   },
   "outputs": [],
   "source": [
    "doses = dataJson[0]['dataValues'][3:61]"
   ]
  },
  {
   "cell_type": "markdown",
   "metadata": {},
   "source": [
    "Data formatting"
   ]
  },
  {
   "cell_type": "code",
   "execution_count": 8,
   "metadata": {
    "execution": {
     "iopub.execute_input": "2021-03-13T06:14:04.038404Z",
     "iopub.status.busy": "2021-03-13T06:14:04.037158Z",
     "iopub.status.idle": "2021-03-13T06:14:04.039589Z",
     "shell.execute_reply": "2021-03-13T06:14:04.039131Z"
    }
   },
   "outputs": [],
   "source": [
    "zipped = dict(zip(counties, doses))"
   ]
  },
  {
   "cell_type": "code",
   "execution_count": 9,
   "metadata": {
    "execution": {
     "iopub.execute_input": "2021-03-13T06:14:04.046372Z",
     "iopub.status.busy": "2021-03-13T06:14:04.045051Z",
     "iopub.status.idle": "2021-03-13T06:14:04.046964Z",
     "shell.execute_reply": "2021-03-13T06:14:04.047389Z"
    }
   },
   "outputs": [],
   "source": [
    "df = pd.Series(zipped).reset_index()"
   ]
  },
  {
   "cell_type": "code",
   "execution_count": 10,
   "metadata": {
    "execution": {
     "iopub.execute_input": "2021-03-13T06:14:04.051787Z",
     "iopub.status.busy": "2021-03-13T06:14:04.050701Z",
     "iopub.status.idle": "2021-03-13T06:14:04.052373Z",
     "shell.execute_reply": "2021-03-13T06:14:04.052795Z"
    }
   },
   "outputs": [],
   "source": [
    "df.columns = ['location','doses']"
   ]
  },
  {
   "cell_type": "markdown",
   "metadata": {},
   "source": [
    "Grab the overall California total"
   ]
  },
  {
   "cell_type": "code",
   "execution_count": 11,
   "metadata": {
    "execution": {
     "iopub.execute_input": "2021-03-13T06:14:04.057236Z",
     "iopub.status.busy": "2021-03-13T06:14:04.056332Z",
     "iopub.status.idle": "2021-03-13T06:14:04.057838Z",
     "shell.execute_reply": "2021-03-13T06:14:04.058328Z"
    }
   },
   "outputs": [],
   "source": [
    "add = {'location':'California','doses':dataJson[0]['dataValues'][2]}"
   ]
  },
  {
   "cell_type": "code",
   "execution_count": 12,
   "metadata": {
    "execution": {
     "iopub.execute_input": "2021-03-13T06:14:04.064480Z",
     "iopub.status.busy": "2021-03-13T06:14:04.063951Z",
     "iopub.status.idle": "2021-03-13T06:14:04.066038Z",
     "shell.execute_reply": "2021-03-13T06:14:04.065573Z"
    }
   },
   "outputs": [],
   "source": [
    "df = df.append(add, ignore_index=True)"
   ]
  },
  {
   "cell_type": "code",
   "execution_count": 13,
   "metadata": {
    "execution": {
     "iopub.execute_input": "2021-03-13T06:14:04.070883Z",
     "iopub.status.busy": "2021-03-13T06:14:04.069771Z",
     "iopub.status.idle": "2021-03-13T06:14:04.071623Z",
     "shell.execute_reply": "2021-03-13T06:14:04.072051Z"
    }
   },
   "outputs": [],
   "source": [
    "df = df.sort_values(by='location')"
   ]
  },
  {
   "cell_type": "code",
   "execution_count": 14,
   "metadata": {
    "execution": {
     "iopub.execute_input": "2021-03-13T06:14:04.078570Z",
     "iopub.status.busy": "2021-03-13T06:14:04.077241Z",
     "iopub.status.idle": "2021-03-13T06:14:04.079154Z",
     "shell.execute_reply": "2021-03-13T06:14:04.079577Z"
    }
   },
   "outputs": [],
   "source": [
    "df = df[df.location == 'California'].append(df[df.location != 'California']).reset_index(drop=True)"
   ]
  },
  {
   "cell_type": "code",
   "execution_count": null,
   "metadata": {},
   "outputs": [],
   "source": []
  },
  {
   "cell_type": "code",
   "execution_count": 15,
   "metadata": {
    "execution": {
     "iopub.execute_input": "2021-03-13T06:14:04.082822Z",
     "iopub.status.busy": "2021-03-13T06:14:04.082185Z",
     "iopub.status.idle": "2021-03-13T06:14:04.099799Z",
     "shell.execute_reply": "2021-03-13T06:14:04.099276Z"
    }
   },
   "outputs": [],
   "source": [
    "tz = pytz.timezone(\"America/New_York\")"
   ]
  },
  {
   "cell_type": "code",
   "execution_count": 16,
   "metadata": {
    "execution": {
     "iopub.execute_input": "2021-03-13T06:14:04.104074Z",
     "iopub.status.busy": "2021-03-13T06:14:04.102879Z",
     "iopub.status.idle": "2021-03-13T06:14:04.104778Z",
     "shell.execute_reply": "2021-03-13T06:14:04.105218Z"
    }
   },
   "outputs": [],
   "source": [
    "today = datetime.now(tz).date()"
   ]
  },
  {
   "cell_type": "code",
   "execution_count": 17,
   "metadata": {
    "execution": {
     "iopub.execute_input": "2021-03-13T06:14:04.109492Z",
     "iopub.status.busy": "2021-03-13T06:14:04.108395Z",
     "iopub.status.idle": "2021-03-13T06:14:04.110666Z",
     "shell.execute_reply": "2021-03-13T06:14:04.110215Z"
    }
   },
   "outputs": [],
   "source": [
    "data_dir = os.path.join(os.path.abspath(\"\"), \"data\")"
   ]
  },
  {
   "cell_type": "code",
   "execution_count": 18,
   "metadata": {
    "execution": {
     "iopub.execute_input": "2021-03-13T06:14:04.115104Z",
     "iopub.status.busy": "2021-03-13T06:14:04.114119Z",
     "iopub.status.idle": "2021-03-13T06:14:04.118822Z",
     "shell.execute_reply": "2021-03-13T06:14:04.118187Z"
    }
   },
   "outputs": [],
   "source": [
    "df.to_csv(os.path.join(data_dir, f\"{today}.csv\"), index=False)"
   ]
  },
  {
   "cell_type": "code",
   "execution_count": null,
   "metadata": {},
   "outputs": [],
   "source": []
  }
 ],
 "metadata": {
  "kernelspec": {
   "display_name": "Python 3",
   "language": "python",
   "name": "python3"
  },
  "language_info": {
   "codemirror_mode": {
    "name": "ipython",
    "version": 3
   },
   "file_extension": ".py",
   "mimetype": "text/x-python",
   "name": "python",
   "nbconvert_exporter": "python",
   "pygments_lexer": "ipython3",
   "version": "3.8.8"
  }
 },
 "nbformat": 4,
 "nbformat_minor": 4
}
