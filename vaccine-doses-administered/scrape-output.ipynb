{
 "cells": [
  {
   "cell_type": "markdown",
   "metadata": {},
   "source": [
    "# California COVID vaccinations scrape"
   ]
  },
  {
   "cell_type": "markdown",
   "metadata": {},
   "source": [
    "By [Amy O'Kruk](https://twitter.com/amyokruk)"
   ]
  },
  {
   "cell_type": "markdown",
   "metadata": {},
   "source": [
    "Downloads data on vaccine doses administered by county and statewide from a Tableau-powered dashboard from the California Department of Public Health."
   ]
  },
  {
   "cell_type": "code",
   "execution_count": 1,
   "metadata": {
    "execution": {
     "iopub.execute_input": "2021-03-24T21:47:55.654405Z",
     "iopub.status.busy": "2021-03-24T21:47:55.653765Z",
     "iopub.status.idle": "2021-03-24T21:47:56.047401Z",
     "shell.execute_reply": "2021-03-24T21:47:56.046563Z"
    }
   },
   "outputs": [],
   "source": [
    "import pandas as pd\n",
    "import requests\n",
    "from bs4 import BeautifulSoup\n",
    "import json\n",
    "import re\n",
    "import time\n",
    "from time import gmtime, strftime \n",
    "import os\n",
    "import pytz\n",
    "from datetime import datetime"
   ]
  },
  {
   "cell_type": "markdown",
   "metadata": {},
   "source": [
    "Scrape the dashboard page"
   ]
  },
  {
   "cell_type": "code",
   "execution_count": 2,
   "metadata": {
    "execution": {
     "iopub.execute_input": "2021-03-24T21:47:56.054823Z",
     "iopub.status.busy": "2021-03-24T21:47:56.053100Z",
     "iopub.status.idle": "2021-03-24T21:47:56.742014Z",
     "shell.execute_reply": "2021-03-24T21:47:56.741548Z"
    }
   },
   "outputs": [],
   "source": [
    "url = \"https://public.tableau.com/interactive/views/COVID-19VaccineDashboardPublic/Vaccine?:embed=y&:showVizHome=n&:apiID=host0\"\n",
    "\n",
    "r = requests.get(url)\n",
    "soup = BeautifulSoup(r.text, \"html.parser\")"
   ]
  },
  {
   "cell_type": "code",
   "execution_count": 3,
   "metadata": {
    "execution": {
     "iopub.execute_input": "2021-03-24T21:47:56.746750Z",
     "iopub.status.busy": "2021-03-24T21:47:56.746213Z",
     "iopub.status.idle": "2021-03-24T21:47:56.749380Z",
     "shell.execute_reply": "2021-03-24T21:47:56.749776Z"
    }
   },
   "outputs": [],
   "source": [
    "tableauData = json.loads(soup.find(\"textarea\",{\"id\": \"tsConfigContainer\"}).text)"
   ]
  },
  {
   "cell_type": "markdown",
   "metadata": {},
   "source": [
    "Get the link to the Tableau data"
   ]
  },
  {
   "cell_type": "code",
   "execution_count": 4,
   "metadata": {
    "execution": {
     "iopub.execute_input": "2021-03-24T21:47:56.757367Z",
     "iopub.status.busy": "2021-03-24T21:47:56.756806Z",
     "iopub.status.idle": "2021-03-24T21:47:56.760425Z",
     "shell.execute_reply": "2021-03-24T21:47:56.759972Z"
    }
   },
   "outputs": [],
   "source": [
    "dataUrl = f'https://public.tableau.com{tableauData[\"vizql_root\"]}/bootstrapSession/sessions/{tableauData[\"sessionid\"]}'"
   ]
  },
  {
   "cell_type": "code",
   "execution_count": 5,
   "metadata": {
    "execution": {
     "iopub.execute_input": "2021-03-24T21:47:56.767147Z",
     "iopub.status.busy": "2021-03-24T21:47:56.766590Z",
     "iopub.status.idle": "2021-03-24T21:47:57.085052Z",
     "shell.execute_reply": "2021-03-24T21:47:57.084160Z"
    }
   },
   "outputs": [],
   "source": [
    "r = requests.post(dataUrl, data= {\n",
    "    \"sheet_id\": tableauData[\"sheetId\"],\n",
    "})\n",
    "\n",
    "dataReg = re.search('\\d+;({.*})\\d+;({.*})', r.text, re.MULTILINE)\n",
    "data1 = json.loads(dataReg.group(2))\n",
    "\n",
    "dataJson = data1[\"secondaryInfo\"][\"presModelMap\"][\"dataDictionary\"][\"presModelHolder\"][\"genDataDictionaryPresModel\"][\"dataSegments\"][\"0\"][\"dataColumns\"]"
   ]
  },
  {
   "cell_type": "markdown",
   "metadata": {},
   "source": [
    "Isolate what you want"
   ]
  },
  {
   "cell_type": "code",
   "execution_count": 6,
   "metadata": {
    "execution": {
     "iopub.execute_input": "2021-03-24T21:47:57.088780Z",
     "iopub.status.busy": "2021-03-24T21:47:57.088188Z",
     "iopub.status.idle": "2021-03-24T21:47:57.091749Z",
     "shell.execute_reply": "2021-03-24T21:47:57.091143Z"
    }
   },
   "outputs": [],
   "source": [
    "counties = dataJson[2]['dataValues'][:58]"
   ]
  },
  {
   "cell_type": "code",
   "execution_count": 7,
   "metadata": {
    "execution": {
     "iopub.execute_input": "2021-03-24T21:47:57.095241Z",
     "iopub.status.busy": "2021-03-24T21:47:57.094749Z",
     "iopub.status.idle": "2021-03-24T21:47:57.098342Z",
     "shell.execute_reply": "2021-03-24T21:47:57.097881Z"
    }
   },
   "outputs": [],
   "source": [
    "doses = dataJson[0]['dataValues'][3:61]"
   ]
  },
  {
   "cell_type": "markdown",
   "metadata": {},
   "source": [
    "Data formatting"
   ]
  },
  {
   "cell_type": "code",
   "execution_count": 8,
   "metadata": {
    "execution": {
     "iopub.execute_input": "2021-03-24T21:47:57.102101Z",
     "iopub.status.busy": "2021-03-24T21:47:57.101469Z",
     "iopub.status.idle": "2021-03-24T21:47:57.105617Z",
     "shell.execute_reply": "2021-03-24T21:47:57.105112Z"
    }
   },
   "outputs": [],
   "source": [
    "zipped = dict(zip(counties, doses))"
   ]
  },
  {
   "cell_type": "code",
   "execution_count": 9,
   "metadata": {
    "execution": {
     "iopub.execute_input": "2021-03-24T21:47:57.111718Z",
     "iopub.status.busy": "2021-03-24T21:47:57.111177Z",
     "iopub.status.idle": "2021-03-24T21:47:57.115475Z",
     "shell.execute_reply": "2021-03-24T21:47:57.114924Z"
    }
   },
   "outputs": [],
   "source": [
    "df = pd.Series(zipped).reset_index()"
   ]
  },
  {
   "cell_type": "code",
   "execution_count": 10,
   "metadata": {
    "execution": {
     "iopub.execute_input": "2021-03-24T21:47:57.119589Z",
     "iopub.status.busy": "2021-03-24T21:47:57.118935Z",
     "iopub.status.idle": "2021-03-24T21:47:57.122321Z",
     "shell.execute_reply": "2021-03-24T21:47:57.122891Z"
    }
   },
   "outputs": [],
   "source": [
    "df.columns = ['location','doses']"
   ]
  },
  {
   "cell_type": "markdown",
   "metadata": {},
   "source": [
    "Grab the overall California total"
   ]
  },
  {
   "cell_type": "code",
   "execution_count": 11,
   "metadata": {
    "execution": {
     "iopub.execute_input": "2021-03-24T21:47:57.127070Z",
     "iopub.status.busy": "2021-03-24T21:47:57.126415Z",
     "iopub.status.idle": "2021-03-24T21:47:57.130155Z",
     "shell.execute_reply": "2021-03-24T21:47:57.130682Z"
    }
   },
   "outputs": [],
   "source": [
    "add = {'location':'California','doses':dataJson[0]['dataValues'][2]}"
   ]
  },
  {
   "cell_type": "code",
   "execution_count": 12,
   "metadata": {
    "execution": {
     "iopub.execute_input": "2021-03-24T21:47:57.137655Z",
     "iopub.status.busy": "2021-03-24T21:47:57.137114Z",
     "iopub.status.idle": "2021-03-24T21:47:57.140995Z",
     "shell.execute_reply": "2021-03-24T21:47:57.140381Z"
    }
   },
   "outputs": [],
   "source": [
    "df = df.append(add, ignore_index=True)"
   ]
  },
  {
   "cell_type": "code",
   "execution_count": 13,
   "metadata": {
    "execution": {
     "iopub.execute_input": "2021-03-24T21:47:57.145709Z",
     "iopub.status.busy": "2021-03-24T21:47:57.145060Z",
     "iopub.status.idle": "2021-03-24T21:47:57.149391Z",
     "shell.execute_reply": "2021-03-24T21:47:57.148913Z"
    }
   },
   "outputs": [],
   "source": [
    "df = df.sort_values(by='location')"
   ]
  },
  {
   "cell_type": "code",
   "execution_count": 14,
   "metadata": {
    "execution": {
     "iopub.execute_input": "2021-03-24T21:47:57.155516Z",
     "iopub.status.busy": "2021-03-24T21:47:57.154955Z",
     "iopub.status.idle": "2021-03-24T21:47:57.158664Z",
     "shell.execute_reply": "2021-03-24T21:47:57.158208Z"
    }
   },
   "outputs": [],
   "source": [
    "df = df[df.location == 'California'].append(df[df.location != 'California']).reset_index(drop=True)"
   ]
  },
  {
   "cell_type": "code",
   "execution_count": null,
   "metadata": {},
   "outputs": [],
   "source": []
  },
  {
   "cell_type": "code",
   "execution_count": 15,
   "metadata": {
    "execution": {
     "iopub.execute_input": "2021-03-24T21:47:57.162859Z",
     "iopub.status.busy": "2021-03-24T21:47:57.161870Z",
     "iopub.status.idle": "2021-03-24T21:47:57.181833Z",
     "shell.execute_reply": "2021-03-24T21:47:57.181381Z"
    }
   },
   "outputs": [],
   "source": [
    "tz = pytz.timezone(\"America/New_York\")"
   ]
  },
  {
   "cell_type": "code",
   "execution_count": 16,
   "metadata": {
    "execution": {
     "iopub.execute_input": "2021-03-24T21:47:57.185614Z",
     "iopub.status.busy": "2021-03-24T21:47:57.185107Z",
     "iopub.status.idle": "2021-03-24T21:47:57.188323Z",
     "shell.execute_reply": "2021-03-24T21:47:57.188792Z"
    }
   },
   "outputs": [],
   "source": [
    "today = datetime.now(tz).date()"
   ]
  },
  {
   "cell_type": "code",
   "execution_count": 17,
   "metadata": {
    "execution": {
     "iopub.execute_input": "2021-03-24T21:47:57.192936Z",
     "iopub.status.busy": "2021-03-24T21:47:57.192285Z",
     "iopub.status.idle": "2021-03-24T21:47:57.196318Z",
     "shell.execute_reply": "2021-03-24T21:47:57.195776Z"
    }
   },
   "outputs": [],
   "source": [
    "data_dir = os.path.join(os.path.abspath(\"\"), \"data\")"
   ]
  },
  {
   "cell_type": "code",
   "execution_count": 18,
   "metadata": {
    "execution": {
     "iopub.execute_input": "2021-03-24T21:47:57.201595Z",
     "iopub.status.busy": "2021-03-24T21:47:57.199776Z",
     "iopub.status.idle": "2021-03-24T21:47:57.206699Z",
     "shell.execute_reply": "2021-03-24T21:47:57.205572Z"
    }
   },
   "outputs": [],
   "source": [
    "df.to_csv(os.path.join(data_dir, f\"{today}.csv\"), index=False)"
   ]
  },
  {
   "cell_type": "code",
   "execution_count": null,
   "metadata": {},
   "outputs": [],
   "source": []
  }
 ],
 "metadata": {
  "kernelspec": {
   "display_name": "Python 3",
   "language": "python",
   "name": "python3"
  },
  "language_info": {
   "codemirror_mode": {
    "name": "ipython",
    "version": 3
   },
   "file_extension": ".py",
   "mimetype": "text/x-python",
   "name": "python",
   "nbconvert_exporter": "python",
   "pygments_lexer": "ipython3",
   "version": "3.8.8"
  }
 },
 "nbformat": 4,
 "nbformat_minor": 4
}
