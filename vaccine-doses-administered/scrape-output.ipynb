{
 "cells": [
  {
   "cell_type": "markdown",
   "metadata": {},
   "source": [
    "# California COVID vaccinations scrape"
   ]
  },
  {
   "cell_type": "markdown",
   "metadata": {},
   "source": [
    "By [Amy O'Kruk](https://twitter.com/amyokruk)"
   ]
  },
  {
   "cell_type": "markdown",
   "metadata": {},
   "source": [
    "Downloads data on vaccine doses administered by county and statewide from a Tableau-powered dashboard from the California Department of Public Health."
   ]
  },
  {
   "cell_type": "code",
   "execution_count": 1,
   "metadata": {
    "execution": {
     "iopub.execute_input": "2021-03-11T10:14:22.387280Z",
     "iopub.status.busy": "2021-03-11T10:14:22.386677Z",
     "iopub.status.idle": "2021-03-11T10:14:23.159190Z",
     "shell.execute_reply": "2021-03-11T10:14:23.158567Z"
    }
   },
   "outputs": [],
   "source": [
    "import pandas as pd\n",
    "import requests\n",
    "from bs4 import BeautifulSoup\n",
    "import json\n",
    "import re\n",
    "import time\n",
    "from time import gmtime, strftime \n",
    "import os\n",
    "import pytz\n",
    "from datetime import datetime"
   ]
  },
  {
   "cell_type": "markdown",
   "metadata": {},
   "source": [
    "Scrape the dashboard page"
   ]
  },
  {
   "cell_type": "code",
   "execution_count": 2,
   "metadata": {
    "execution": {
     "iopub.execute_input": "2021-03-11T10:14:23.166120Z",
     "iopub.status.busy": "2021-03-11T10:14:23.163257Z",
     "iopub.status.idle": "2021-03-11T10:14:23.668432Z",
     "shell.execute_reply": "2021-03-11T10:14:23.667867Z"
    }
   },
   "outputs": [],
   "source": [
    "url = \"https://public.tableau.com/interactive/views/COVID-19VaccineDashboardPublic/Vaccine?:embed=y&:showVizHome=n&:apiID=host0\"\n",
    "\n",
    "r = requests.get(url)\n",
    "soup = BeautifulSoup(r.text, \"html.parser\")"
   ]
  },
  {
   "cell_type": "code",
   "execution_count": 3,
   "metadata": {
    "execution": {
     "iopub.execute_input": "2021-03-11T10:14:23.674607Z",
     "iopub.status.busy": "2021-03-11T10:14:23.673193Z",
     "iopub.status.idle": "2021-03-11T10:14:23.675374Z",
     "shell.execute_reply": "2021-03-11T10:14:23.675944Z"
    }
   },
   "outputs": [],
   "source": [
    "tableauData = json.loads(soup.find(\"textarea\",{\"id\": \"tsConfigContainer\"}).text)"
   ]
  },
  {
   "cell_type": "markdown",
   "metadata": {},
   "source": [
    "Get the link to the Tableau data"
   ]
  },
  {
   "cell_type": "code",
   "execution_count": 4,
   "metadata": {
    "execution": {
     "iopub.execute_input": "2021-03-11T10:14:23.680346Z",
     "iopub.status.busy": "2021-03-11T10:14:23.679269Z",
     "iopub.status.idle": "2021-03-11T10:14:23.681365Z",
     "shell.execute_reply": "2021-03-11T10:14:23.681890Z"
    }
   },
   "outputs": [],
   "source": [
    "dataUrl = f'https://public.tableau.com{tableauData[\"vizql_root\"]}/bootstrapSession/sessions/{tableauData[\"sessionid\"]}'"
   ]
  },
  {
   "cell_type": "code",
   "execution_count": 5,
   "metadata": {
    "execution": {
     "iopub.execute_input": "2021-03-11T10:14:23.688648Z",
     "iopub.status.busy": "2021-03-11T10:14:23.688076Z",
     "iopub.status.idle": "2021-03-11T10:14:24.024231Z",
     "shell.execute_reply": "2021-03-11T10:14:24.023633Z"
    }
   },
   "outputs": [],
   "source": [
    "r = requests.post(dataUrl, data= {\n",
    "    \"sheet_id\": tableauData[\"sheetId\"],\n",
    "})\n",
    "\n",
    "dataReg = re.search('\\d+;({.*})\\d+;({.*})', r.text, re.MULTILINE)\n",
    "data1 = json.loads(dataReg.group(2))\n",
    "\n",
    "dataJson = data1[\"secondaryInfo\"][\"presModelMap\"][\"dataDictionary\"][\"presModelHolder\"][\"genDataDictionaryPresModel\"][\"dataSegments\"][\"0\"][\"dataColumns\"]"
   ]
  },
  {
   "cell_type": "markdown",
   "metadata": {},
   "source": [
    "Isolate what you want"
   ]
  },
  {
   "cell_type": "code",
   "execution_count": 6,
   "metadata": {
    "execution": {
     "iopub.execute_input": "2021-03-11T10:14:24.028583Z",
     "iopub.status.busy": "2021-03-11T10:14:24.027989Z",
     "iopub.status.idle": "2021-03-11T10:14:24.030848Z",
     "shell.execute_reply": "2021-03-11T10:14:24.030317Z"
    }
   },
   "outputs": [],
   "source": [
    "counties = dataJson[2]['dataValues'][:58]"
   ]
  },
  {
   "cell_type": "code",
   "execution_count": 7,
   "metadata": {
    "execution": {
     "iopub.execute_input": "2021-03-11T10:14:24.036273Z",
     "iopub.status.busy": "2021-03-11T10:14:24.034601Z",
     "iopub.status.idle": "2021-03-11T10:14:24.036937Z",
     "shell.execute_reply": "2021-03-11T10:14:24.037439Z"
    }
   },
   "outputs": [],
   "source": [
    "doses = dataJson[0]['dataValues'][3:61]"
   ]
  },
  {
   "cell_type": "markdown",
   "metadata": {},
   "source": [
    "Data formatting"
   ]
  },
  {
   "cell_type": "code",
   "execution_count": 8,
   "metadata": {
    "execution": {
     "iopub.execute_input": "2021-03-11T10:14:24.042697Z",
     "iopub.status.busy": "2021-03-11T10:14:24.041074Z",
     "iopub.status.idle": "2021-03-11T10:14:24.043320Z",
     "shell.execute_reply": "2021-03-11T10:14:24.043834Z"
    }
   },
   "outputs": [],
   "source": [
    "zipped = dict(zip(counties, doses))"
   ]
  },
  {
   "cell_type": "code",
   "execution_count": 9,
   "metadata": {
    "execution": {
     "iopub.execute_input": "2021-03-11T10:14:24.051196Z",
     "iopub.status.busy": "2021-03-11T10:14:24.049835Z",
     "iopub.status.idle": "2021-03-11T10:14:24.053532Z",
     "shell.execute_reply": "2021-03-11T10:14:24.054066Z"
    }
   },
   "outputs": [],
   "source": [
    "df = pd.Series(zipped).reset_index()"
   ]
  },
  {
   "cell_type": "code",
   "execution_count": 10,
   "metadata": {
    "execution": {
     "iopub.execute_input": "2021-03-11T10:14:24.064207Z",
     "iopub.status.busy": "2021-03-11T10:14:24.063625Z",
     "iopub.status.idle": "2021-03-11T10:14:24.074600Z",
     "shell.execute_reply": "2021-03-11T10:14:24.073967Z"
    }
   },
   "outputs": [],
   "source": [
    "df.columns = ['location','doses']"
   ]
  },
  {
   "cell_type": "markdown",
   "metadata": {},
   "source": [
    "Grab the overall California total"
   ]
  },
  {
   "cell_type": "code",
   "execution_count": 11,
   "metadata": {
    "execution": {
     "iopub.execute_input": "2021-03-11T10:14:24.079231Z",
     "iopub.status.busy": "2021-03-11T10:14:24.078645Z",
     "iopub.status.idle": "2021-03-11T10:14:24.081711Z",
     "shell.execute_reply": "2021-03-11T10:14:24.081151Z"
    }
   },
   "outputs": [],
   "source": [
    "add = {'location':'California','doses':dataJson[0]['dataValues'][2]}"
   ]
  },
  {
   "cell_type": "code",
   "execution_count": 12,
   "metadata": {
    "execution": {
     "iopub.execute_input": "2021-03-11T10:14:24.089921Z",
     "iopub.status.busy": "2021-03-11T10:14:24.088464Z",
     "iopub.status.idle": "2021-03-11T10:14:24.090671Z",
     "shell.execute_reply": "2021-03-11T10:14:24.091183Z"
    }
   },
   "outputs": [],
   "source": [
    "df = df.append(add, ignore_index=True)"
   ]
  },
  {
   "cell_type": "code",
   "execution_count": 13,
   "metadata": {
    "execution": {
     "iopub.execute_input": "2021-03-11T10:14:24.096489Z",
     "iopub.status.busy": "2021-03-11T10:14:24.095891Z",
     "iopub.status.idle": "2021-03-11T10:14:24.100314Z",
     "shell.execute_reply": "2021-03-11T10:14:24.099703Z"
    }
   },
   "outputs": [],
   "source": [
    "df = df.sort_values(by='location')"
   ]
  },
  {
   "cell_type": "code",
   "execution_count": 14,
   "metadata": {
    "execution": {
     "iopub.execute_input": "2021-03-11T10:14:24.107313Z",
     "iopub.status.busy": "2021-03-11T10:14:24.106287Z",
     "iopub.status.idle": "2021-03-11T10:14:24.108359Z",
     "shell.execute_reply": "2021-03-11T10:14:24.108829Z"
    }
   },
   "outputs": [],
   "source": [
    "df = df[df.location == 'California'].append(df[df.location != 'California']).reset_index(drop=True)"
   ]
  },
  {
   "cell_type": "code",
   "execution_count": null,
   "metadata": {},
   "outputs": [],
   "source": []
  },
  {
   "cell_type": "code",
   "execution_count": 15,
   "metadata": {
    "execution": {
     "iopub.execute_input": "2021-03-11T10:14:24.112568Z",
     "iopub.status.busy": "2021-03-11T10:14:24.111948Z",
     "iopub.status.idle": "2021-03-11T10:14:24.132724Z",
     "shell.execute_reply": "2021-03-11T10:14:24.132143Z"
    }
   },
   "outputs": [],
   "source": [
    "tz = pytz.timezone(\"America/New_York\")"
   ]
  },
  {
   "cell_type": "code",
   "execution_count": 16,
   "metadata": {
    "execution": {
     "iopub.execute_input": "2021-03-11T10:14:24.143868Z",
     "iopub.status.busy": "2021-03-11T10:14:24.142395Z",
     "iopub.status.idle": "2021-03-11T10:14:24.144649Z",
     "shell.execute_reply": "2021-03-11T10:14:24.145157Z"
    }
   },
   "outputs": [],
   "source": [
    "today = datetime.now(tz).date()"
   ]
  },
  {
   "cell_type": "code",
   "execution_count": 17,
   "metadata": {
    "execution": {
     "iopub.execute_input": "2021-03-11T10:14:24.150764Z",
     "iopub.status.busy": "2021-03-11T10:14:24.149346Z",
     "iopub.status.idle": "2021-03-11T10:14:24.151496Z",
     "shell.execute_reply": "2021-03-11T10:14:24.151996Z"
    }
   },
   "outputs": [],
   "source": [
    "data_dir = os.path.join(os.path.abspath(\"\"), \"data\")"
   ]
  },
  {
   "cell_type": "code",
   "execution_count": 18,
   "metadata": {
    "execution": {
     "iopub.execute_input": "2021-03-11T10:14:24.156936Z",
     "iopub.status.busy": "2021-03-11T10:14:24.155604Z",
     "iopub.status.idle": "2021-03-11T10:14:24.161492Z",
     "shell.execute_reply": "2021-03-11T10:14:24.160755Z"
    }
   },
   "outputs": [],
   "source": [
    "df.to_csv(os.path.join(data_dir, f\"{today}.csv\"), index=False)"
   ]
  },
  {
   "cell_type": "code",
   "execution_count": null,
   "metadata": {},
   "outputs": [],
   "source": []
  }
 ],
 "metadata": {
  "kernelspec": {
   "display_name": "Python 3",
   "language": "python",
   "name": "python3"
  },
  "language_info": {
   "codemirror_mode": {
    "name": "ipython",
    "version": 3
   },
   "file_extension": ".py",
   "mimetype": "text/x-python",
   "name": "python",
   "nbconvert_exporter": "python",
   "pygments_lexer": "ipython3",
   "version": "3.8.8"
  }
 },
 "nbformat": 4,
 "nbformat_minor": 4
}
