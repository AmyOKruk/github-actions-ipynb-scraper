{
 "cells": [
  {
   "cell_type": "markdown",
   "metadata": {},
   "source": [
    "# California COVID vaccinations scrape"
   ]
  },
  {
   "cell_type": "markdown",
   "metadata": {},
   "source": [
    "By [Amy O'Kruk](https://twitter.com/amyokruk)"
   ]
  },
  {
   "cell_type": "markdown",
   "metadata": {},
   "source": [
    "Downloads data on vaccine doses administered by county and statewide from a Tableau-powered dashboard from the California Department of Public Health."
   ]
  },
  {
   "cell_type": "code",
   "execution_count": 1,
   "metadata": {
    "execution": {
     "iopub.execute_input": "2021-03-19T18:25:01.483249Z",
     "iopub.status.busy": "2021-03-19T18:25:01.482582Z",
     "iopub.status.idle": "2021-03-19T18:25:01.880596Z",
     "shell.execute_reply": "2021-03-19T18:25:01.879584Z"
    }
   },
   "outputs": [],
   "source": [
    "import pandas as pd\n",
    "import requests\n",
    "from bs4 import BeautifulSoup\n",
    "import json\n",
    "import re\n",
    "import time\n",
    "from time import gmtime, strftime \n",
    "import os\n",
    "import pytz\n",
    "from datetime import datetime"
   ]
  },
  {
   "cell_type": "markdown",
   "metadata": {},
   "source": [
    "Scrape the dashboard page"
   ]
  },
  {
   "cell_type": "code",
   "execution_count": 2,
   "metadata": {
    "execution": {
     "iopub.execute_input": "2021-03-19T18:25:01.885345Z",
     "iopub.status.busy": "2021-03-19T18:25:01.884400Z",
     "iopub.status.idle": "2021-03-19T18:25:02.283618Z",
     "shell.execute_reply": "2021-03-19T18:25:02.285944Z"
    }
   },
   "outputs": [],
   "source": [
    "url = \"https://public.tableau.com/interactive/views/COVID-19VaccineDashboardPublic/Vaccine?:embed=y&:showVizHome=n&:apiID=host0\"\n",
    "\n",
    "r = requests.get(url)\n",
    "soup = BeautifulSoup(r.text, \"html.parser\")"
   ]
  },
  {
   "cell_type": "code",
   "execution_count": 3,
   "metadata": {
    "execution": {
     "iopub.execute_input": "2021-03-19T18:25:02.293119Z",
     "iopub.status.busy": "2021-03-19T18:25:02.291510Z",
     "iopub.status.idle": "2021-03-19T18:25:02.293848Z",
     "shell.execute_reply": "2021-03-19T18:25:02.294389Z"
    }
   },
   "outputs": [],
   "source": [
    "tableauData = json.loads(soup.find(\"textarea\",{\"id\": \"tsConfigContainer\"}).text)"
   ]
  },
  {
   "cell_type": "markdown",
   "metadata": {},
   "source": [
    "Get the link to the Tableau data"
   ]
  },
  {
   "cell_type": "code",
   "execution_count": 4,
   "metadata": {
    "execution": {
     "iopub.execute_input": "2021-03-19T18:25:02.299133Z",
     "iopub.status.busy": "2021-03-19T18:25:02.297958Z",
     "iopub.status.idle": "2021-03-19T18:25:02.300904Z",
     "shell.execute_reply": "2021-03-19T18:25:02.301470Z"
    }
   },
   "outputs": [],
   "source": [
    "dataUrl = f'https://public.tableau.com{tableauData[\"vizql_root\"]}/bootstrapSession/sessions/{tableauData[\"sessionid\"]}'"
   ]
  },
  {
   "cell_type": "code",
   "execution_count": 5,
   "metadata": {
    "execution": {
     "iopub.execute_input": "2021-03-19T18:25:02.311168Z",
     "iopub.status.busy": "2021-03-19T18:25:02.310572Z",
     "iopub.status.idle": "2021-03-19T18:25:02.610195Z",
     "shell.execute_reply": "2021-03-19T18:25:02.609658Z"
    }
   },
   "outputs": [],
   "source": [
    "r = requests.post(dataUrl, data= {\n",
    "    \"sheet_id\": tableauData[\"sheetId\"],\n",
    "})\n",
    "\n",
    "dataReg = re.search('\\d+;({.*})\\d+;({.*})', r.text, re.MULTILINE)\n",
    "data1 = json.loads(dataReg.group(2))\n",
    "\n",
    "dataJson = data1[\"secondaryInfo\"][\"presModelMap\"][\"dataDictionary\"][\"presModelHolder\"][\"genDataDictionaryPresModel\"][\"dataSegments\"][\"0\"][\"dataColumns\"]"
   ]
  },
  {
   "cell_type": "markdown",
   "metadata": {},
   "source": [
    "Isolate what you want"
   ]
  },
  {
   "cell_type": "code",
   "execution_count": 6,
   "metadata": {
    "execution": {
     "iopub.execute_input": "2021-03-19T18:25:02.614984Z",
     "iopub.status.busy": "2021-03-19T18:25:02.613724Z",
     "iopub.status.idle": "2021-03-19T18:25:02.615718Z",
     "shell.execute_reply": "2021-03-19T18:25:02.616161Z"
    }
   },
   "outputs": [],
   "source": [
    "counties = dataJson[2]['dataValues'][:58]"
   ]
  },
  {
   "cell_type": "code",
   "execution_count": 7,
   "metadata": {
    "execution": {
     "iopub.execute_input": "2021-03-19T18:25:02.623778Z",
     "iopub.status.busy": "2021-03-19T18:25:02.621754Z",
     "iopub.status.idle": "2021-03-19T18:25:02.624397Z",
     "shell.execute_reply": "2021-03-19T18:25:02.624988Z"
    }
   },
   "outputs": [],
   "source": [
    "doses = dataJson[0]['dataValues'][3:61]"
   ]
  },
  {
   "cell_type": "markdown",
   "metadata": {},
   "source": [
    "Data formatting"
   ]
  },
  {
   "cell_type": "code",
   "execution_count": 8,
   "metadata": {
    "execution": {
     "iopub.execute_input": "2021-03-19T18:25:02.630247Z",
     "iopub.status.busy": "2021-03-19T18:25:02.629644Z",
     "iopub.status.idle": "2021-03-19T18:25:02.633286Z",
     "shell.execute_reply": "2021-03-19T18:25:02.632819Z"
    }
   },
   "outputs": [],
   "source": [
    "zipped = dict(zip(counties, doses))"
   ]
  },
  {
   "cell_type": "code",
   "execution_count": 9,
   "metadata": {
    "execution": {
     "iopub.execute_input": "2021-03-19T18:25:02.641899Z",
     "iopub.status.busy": "2021-03-19T18:25:02.639928Z",
     "iopub.status.idle": "2021-03-19T18:25:02.642830Z",
     "shell.execute_reply": "2021-03-19T18:25:02.643269Z"
    }
   },
   "outputs": [],
   "source": [
    "df = pd.Series(zipped).reset_index()"
   ]
  },
  {
   "cell_type": "code",
   "execution_count": 10,
   "metadata": {
    "execution": {
     "iopub.execute_input": "2021-03-19T18:25:02.650770Z",
     "iopub.status.busy": "2021-03-19T18:25:02.649502Z",
     "iopub.status.idle": "2021-03-19T18:25:02.651521Z",
     "shell.execute_reply": "2021-03-19T18:25:02.652081Z"
    }
   },
   "outputs": [],
   "source": [
    "df.columns = ['location','doses']"
   ]
  },
  {
   "cell_type": "markdown",
   "metadata": {},
   "source": [
    "Grab the overall California total"
   ]
  },
  {
   "cell_type": "code",
   "execution_count": 11,
   "metadata": {
    "execution": {
     "iopub.execute_input": "2021-03-19T18:25:02.656079Z",
     "iopub.status.busy": "2021-03-19T18:25:02.655496Z",
     "iopub.status.idle": "2021-03-19T18:25:02.658519Z",
     "shell.execute_reply": "2021-03-19T18:25:02.658017Z"
    }
   },
   "outputs": [],
   "source": [
    "add = {'location':'California','doses':dataJson[0]['dataValues'][2]}"
   ]
  },
  {
   "cell_type": "code",
   "execution_count": 12,
   "metadata": {
    "execution": {
     "iopub.execute_input": "2021-03-19T18:25:02.666498Z",
     "iopub.status.busy": "2021-03-19T18:25:02.665061Z",
     "iopub.status.idle": "2021-03-19T18:25:02.667300Z",
     "shell.execute_reply": "2021-03-19T18:25:02.667753Z"
    }
   },
   "outputs": [],
   "source": [
    "df = df.append(add, ignore_index=True)"
   ]
  },
  {
   "cell_type": "code",
   "execution_count": 13,
   "metadata": {
    "execution": {
     "iopub.execute_input": "2021-03-19T18:25:02.673261Z",
     "iopub.status.busy": "2021-03-19T18:25:02.671946Z",
     "iopub.status.idle": "2021-03-19T18:25:02.674017Z",
     "shell.execute_reply": "2021-03-19T18:25:02.674474Z"
    }
   },
   "outputs": [],
   "source": [
    "df = df.sort_values(by='location')"
   ]
  },
  {
   "cell_type": "code",
   "execution_count": 14,
   "metadata": {
    "execution": {
     "iopub.execute_input": "2021-03-19T18:25:02.681433Z",
     "iopub.status.busy": "2021-03-19T18:25:02.680136Z",
     "iopub.status.idle": "2021-03-19T18:25:02.682148Z",
     "shell.execute_reply": "2021-03-19T18:25:02.685841Z"
    }
   },
   "outputs": [],
   "source": [
    "df = df[df.location == 'California'].append(df[df.location != 'California']).reset_index(drop=True)"
   ]
  },
  {
   "cell_type": "code",
   "execution_count": null,
   "metadata": {},
   "outputs": [],
   "source": []
  },
  {
   "cell_type": "code",
   "execution_count": 15,
   "metadata": {
    "execution": {
     "iopub.execute_input": "2021-03-19T18:25:02.689945Z",
     "iopub.status.busy": "2021-03-19T18:25:02.689252Z",
     "iopub.status.idle": "2021-03-19T18:25:02.709197Z",
     "shell.execute_reply": "2021-03-19T18:25:02.708613Z"
    }
   },
   "outputs": [],
   "source": [
    "tz = pytz.timezone(\"America/New_York\")"
   ]
  },
  {
   "cell_type": "code",
   "execution_count": 16,
   "metadata": {
    "execution": {
     "iopub.execute_input": "2021-03-19T18:25:02.713676Z",
     "iopub.status.busy": "2021-03-19T18:25:02.712352Z",
     "iopub.status.idle": "2021-03-19T18:25:02.714530Z",
     "shell.execute_reply": "2021-03-19T18:25:02.714969Z"
    }
   },
   "outputs": [],
   "source": [
    "today = datetime.now(tz).date()"
   ]
  },
  {
   "cell_type": "code",
   "execution_count": 17,
   "metadata": {
    "execution": {
     "iopub.execute_input": "2021-03-19T18:25:02.720604Z",
     "iopub.status.busy": "2021-03-19T18:25:02.718834Z",
     "iopub.status.idle": "2021-03-19T18:25:02.721215Z",
     "shell.execute_reply": "2021-03-19T18:25:02.721754Z"
    }
   },
   "outputs": [],
   "source": [
    "data_dir = os.path.join(os.path.abspath(\"\"), \"data\")"
   ]
  },
  {
   "cell_type": "code",
   "execution_count": 18,
   "metadata": {
    "execution": {
     "iopub.execute_input": "2021-03-19T18:25:02.726517Z",
     "iopub.status.busy": "2021-03-19T18:25:02.725428Z",
     "iopub.status.idle": "2021-03-19T18:25:02.730066Z",
     "shell.execute_reply": "2021-03-19T18:25:02.730465Z"
    }
   },
   "outputs": [],
   "source": [
    "df.to_csv(os.path.join(data_dir, f\"{today}.csv\"), index=False)"
   ]
  },
  {
   "cell_type": "code",
   "execution_count": null,
   "metadata": {},
   "outputs": [],
   "source": []
  }
 ],
 "metadata": {
  "kernelspec": {
   "display_name": "Python 3",
   "language": "python",
   "name": "python3"
  },
  "language_info": {
   "codemirror_mode": {
    "name": "ipython",
    "version": 3
   },
   "file_extension": ".py",
   "mimetype": "text/x-python",
   "name": "python",
   "nbconvert_exporter": "python",
   "pygments_lexer": "ipython3",
   "version": "3.8.8"
  }
 },
 "nbformat": 4,
 "nbformat_minor": 4
}
