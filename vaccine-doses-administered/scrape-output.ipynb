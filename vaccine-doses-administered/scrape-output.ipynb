{
 "cells": [
  {
   "cell_type": "markdown",
   "metadata": {},
   "source": [
    "# California COVID vaccinations scrape"
   ]
  },
  {
   "cell_type": "markdown",
   "metadata": {},
   "source": [
    "By [Amy O'Kruk](https://twitter.com/amyokruk)"
   ]
  },
  {
   "cell_type": "markdown",
   "metadata": {},
   "source": [
    "Downloads data on vaccine doses administered by county and statewide from a Tableau-powered dashboard from the California Department of Public Health."
   ]
  },
  {
   "cell_type": "code",
   "execution_count": 1,
   "metadata": {
    "execution": {
     "iopub.execute_input": "2021-03-13T10:14:06.754779Z",
     "iopub.status.busy": "2021-03-13T10:14:06.754083Z",
     "iopub.status.idle": "2021-03-13T10:14:07.181638Z",
     "shell.execute_reply": "2021-03-13T10:14:07.181013Z"
    }
   },
   "outputs": [],
   "source": [
    "import pandas as pd\n",
    "import requests\n",
    "from bs4 import BeautifulSoup\n",
    "import json\n",
    "import re\n",
    "import time\n",
    "from time import gmtime, strftime \n",
    "import os\n",
    "import pytz\n",
    "from datetime import datetime"
   ]
  },
  {
   "cell_type": "markdown",
   "metadata": {},
   "source": [
    "Scrape the dashboard page"
   ]
  },
  {
   "cell_type": "code",
   "execution_count": 2,
   "metadata": {
    "execution": {
     "iopub.execute_input": "2021-03-13T10:14:07.186121Z",
     "iopub.status.busy": "2021-03-13T10:14:07.185587Z",
     "iopub.status.idle": "2021-03-13T10:14:07.523475Z",
     "shell.execute_reply": "2021-03-13T10:14:07.522359Z"
    }
   },
   "outputs": [],
   "source": [
    "url = \"https://public.tableau.com/interactive/views/COVID-19VaccineDashboardPublic/Vaccine?:embed=y&:showVizHome=n&:apiID=host0\"\n",
    "\n",
    "r = requests.get(url)\n",
    "soup = BeautifulSoup(r.text, \"html.parser\")"
   ]
  },
  {
   "cell_type": "code",
   "execution_count": 3,
   "metadata": {
    "execution": {
     "iopub.execute_input": "2021-03-13T10:14:07.528305Z",
     "iopub.status.busy": "2021-03-13T10:14:07.527767Z",
     "iopub.status.idle": "2021-03-13T10:14:07.531454Z",
     "shell.execute_reply": "2021-03-13T10:14:07.531005Z"
    }
   },
   "outputs": [],
   "source": [
    "tableauData = json.loads(soup.find(\"textarea\",{\"id\": \"tsConfigContainer\"}).text)"
   ]
  },
  {
   "cell_type": "markdown",
   "metadata": {},
   "source": [
    "Get the link to the Tableau data"
   ]
  },
  {
   "cell_type": "code",
   "execution_count": 4,
   "metadata": {
    "execution": {
     "iopub.execute_input": "2021-03-13T10:14:07.535479Z",
     "iopub.status.busy": "2021-03-13T10:14:07.534563Z",
     "iopub.status.idle": "2021-03-13T10:14:07.538909Z",
     "shell.execute_reply": "2021-03-13T10:14:07.538456Z"
    }
   },
   "outputs": [],
   "source": [
    "dataUrl = f'https://public.tableau.com{tableauData[\"vizql_root\"]}/bootstrapSession/sessions/{tableauData[\"sessionid\"]}'"
   ]
  },
  {
   "cell_type": "code",
   "execution_count": 5,
   "metadata": {
    "execution": {
     "iopub.execute_input": "2021-03-13T10:14:07.545683Z",
     "iopub.status.busy": "2021-03-13T10:14:07.544790Z",
     "iopub.status.idle": "2021-03-13T10:14:07.746674Z",
     "shell.execute_reply": "2021-03-13T10:14:07.747187Z"
    }
   },
   "outputs": [],
   "source": [
    "r = requests.post(dataUrl, data= {\n",
    "    \"sheet_id\": tableauData[\"sheetId\"],\n",
    "})\n",
    "\n",
    "dataReg = re.search('\\d+;({.*})\\d+;({.*})', r.text, re.MULTILINE)\n",
    "data1 = json.loads(dataReg.group(2))\n",
    "\n",
    "dataJson = data1[\"secondaryInfo\"][\"presModelMap\"][\"dataDictionary\"][\"presModelHolder\"][\"genDataDictionaryPresModel\"][\"dataSegments\"][\"0\"][\"dataColumns\"]"
   ]
  },
  {
   "cell_type": "markdown",
   "metadata": {},
   "source": [
    "Isolate what you want"
   ]
  },
  {
   "cell_type": "code",
   "execution_count": 6,
   "metadata": {
    "execution": {
     "iopub.execute_input": "2021-03-13T10:14:07.751269Z",
     "iopub.status.busy": "2021-03-13T10:14:07.750710Z",
     "iopub.status.idle": "2021-03-13T10:14:07.753393Z",
     "shell.execute_reply": "2021-03-13T10:14:07.752464Z"
    }
   },
   "outputs": [],
   "source": [
    "counties = dataJson[2]['dataValues'][:58]"
   ]
  },
  {
   "cell_type": "code",
   "execution_count": 7,
   "metadata": {
    "execution": {
     "iopub.execute_input": "2021-03-13T10:14:07.757434Z",
     "iopub.status.busy": "2021-03-13T10:14:07.756754Z",
     "iopub.status.idle": "2021-03-13T10:14:07.760642Z",
     "shell.execute_reply": "2021-03-13T10:14:07.760012Z"
    }
   },
   "outputs": [],
   "source": [
    "doses = dataJson[0]['dataValues'][3:61]"
   ]
  },
  {
   "cell_type": "markdown",
   "metadata": {},
   "source": [
    "Data formatting"
   ]
  },
  {
   "cell_type": "code",
   "execution_count": 8,
   "metadata": {
    "execution": {
     "iopub.execute_input": "2021-03-13T10:14:07.764476Z",
     "iopub.status.busy": "2021-03-13T10:14:07.763891Z",
     "iopub.status.idle": "2021-03-13T10:14:07.767814Z",
     "shell.execute_reply": "2021-03-13T10:14:07.767269Z"
    }
   },
   "outputs": [],
   "source": [
    "zipped = dict(zip(counties, doses))"
   ]
  },
  {
   "cell_type": "code",
   "execution_count": 9,
   "metadata": {
    "execution": {
     "iopub.execute_input": "2021-03-13T10:14:07.774772Z",
     "iopub.status.busy": "2021-03-13T10:14:07.773474Z",
     "iopub.status.idle": "2021-03-13T10:14:07.775448Z",
     "shell.execute_reply": "2021-03-13T10:14:07.775964Z"
    }
   },
   "outputs": [],
   "source": [
    "df = pd.Series(zipped).reset_index()"
   ]
  },
  {
   "cell_type": "code",
   "execution_count": 10,
   "metadata": {
    "execution": {
     "iopub.execute_input": "2021-03-13T10:14:07.780716Z",
     "iopub.status.busy": "2021-03-13T10:14:07.779464Z",
     "iopub.status.idle": "2021-03-13T10:14:07.781321Z",
     "shell.execute_reply": "2021-03-13T10:14:07.781751Z"
    }
   },
   "outputs": [],
   "source": [
    "df.columns = ['location','doses']"
   ]
  },
  {
   "cell_type": "markdown",
   "metadata": {},
   "source": [
    "Grab the overall California total"
   ]
  },
  {
   "cell_type": "code",
   "execution_count": 11,
   "metadata": {
    "execution": {
     "iopub.execute_input": "2021-03-13T10:14:07.786642Z",
     "iopub.status.busy": "2021-03-13T10:14:07.785266Z",
     "iopub.status.idle": "2021-03-13T10:14:07.787364Z",
     "shell.execute_reply": "2021-03-13T10:14:07.787828Z"
    }
   },
   "outputs": [],
   "source": [
    "add = {'location':'California','doses':dataJson[0]['dataValues'][2]}"
   ]
  },
  {
   "cell_type": "code",
   "execution_count": 12,
   "metadata": {
    "execution": {
     "iopub.execute_input": "2021-03-13T10:14:07.795397Z",
     "iopub.status.busy": "2021-03-13T10:14:07.793930Z",
     "iopub.status.idle": "2021-03-13T10:14:07.796123Z",
     "shell.execute_reply": "2021-03-13T10:14:07.796584Z"
    }
   },
   "outputs": [],
   "source": [
    "df = df.append(add, ignore_index=True)"
   ]
  },
  {
   "cell_type": "code",
   "execution_count": 13,
   "metadata": {
    "execution": {
     "iopub.execute_input": "2021-03-13T10:14:07.802339Z",
     "iopub.status.busy": "2021-03-13T10:14:07.800815Z",
     "iopub.status.idle": "2021-03-13T10:14:07.802985Z",
     "shell.execute_reply": "2021-03-13T10:14:07.803542Z"
    }
   },
   "outputs": [],
   "source": [
    "df = df.sort_values(by='location')"
   ]
  },
  {
   "cell_type": "code",
   "execution_count": 14,
   "metadata": {
    "execution": {
     "iopub.execute_input": "2021-03-13T10:14:07.810625Z",
     "iopub.status.busy": "2021-03-13T10:14:07.809166Z",
     "iopub.status.idle": "2021-03-13T10:14:07.811352Z",
     "shell.execute_reply": "2021-03-13T10:14:07.811787Z"
    }
   },
   "outputs": [],
   "source": [
    "df = df[df.location == 'California'].append(df[df.location != 'California']).reset_index(drop=True)"
   ]
  },
  {
   "cell_type": "code",
   "execution_count": null,
   "metadata": {},
   "outputs": [],
   "source": []
  },
  {
   "cell_type": "code",
   "execution_count": 15,
   "metadata": {
    "execution": {
     "iopub.execute_input": "2021-03-13T10:14:07.815340Z",
     "iopub.status.busy": "2021-03-13T10:14:07.814817Z",
     "iopub.status.idle": "2021-03-13T10:14:07.832464Z",
     "shell.execute_reply": "2021-03-13T10:14:07.831985Z"
    }
   },
   "outputs": [],
   "source": [
    "tz = pytz.timezone(\"America/New_York\")"
   ]
  },
  {
   "cell_type": "code",
   "execution_count": 16,
   "metadata": {
    "execution": {
     "iopub.execute_input": "2021-03-13T10:14:07.836988Z",
     "iopub.status.busy": "2021-03-13T10:14:07.835747Z",
     "iopub.status.idle": "2021-03-13T10:14:07.837642Z",
     "shell.execute_reply": "2021-03-13T10:14:07.838105Z"
    }
   },
   "outputs": [],
   "source": [
    "today = datetime.now(tz).date()"
   ]
  },
  {
   "cell_type": "code",
   "execution_count": 17,
   "metadata": {
    "execution": {
     "iopub.execute_input": "2021-03-13T10:14:07.842453Z",
     "iopub.status.busy": "2021-03-13T10:14:07.841293Z",
     "iopub.status.idle": "2021-03-13T10:14:07.843062Z",
     "shell.execute_reply": "2021-03-13T10:14:07.843489Z"
    }
   },
   "outputs": [],
   "source": [
    "data_dir = os.path.join(os.path.abspath(\"\"), \"data\")"
   ]
  },
  {
   "cell_type": "code",
   "execution_count": 18,
   "metadata": {
    "execution": {
     "iopub.execute_input": "2021-03-13T10:14:07.848897Z",
     "iopub.status.busy": "2021-03-13T10:14:07.846691Z",
     "iopub.status.idle": "2021-03-13T10:14:07.851332Z",
     "shell.execute_reply": "2021-03-13T10:14:07.850844Z"
    }
   },
   "outputs": [],
   "source": [
    "df.to_csv(os.path.join(data_dir, f\"{today}.csv\"), index=False)"
   ]
  },
  {
   "cell_type": "code",
   "execution_count": null,
   "metadata": {},
   "outputs": [],
   "source": []
  }
 ],
 "metadata": {
  "kernelspec": {
   "display_name": "Python 3",
   "language": "python",
   "name": "python3"
  },
  "language_info": {
   "codemirror_mode": {
    "name": "ipython",
    "version": 3
   },
   "file_extension": ".py",
   "mimetype": "text/x-python",
   "name": "python",
   "nbconvert_exporter": "python",
   "pygments_lexer": "ipython3",
   "version": "3.8.8"
  }
 },
 "nbformat": 4,
 "nbformat_minor": 4
}
