{
 "cells": [
  {
   "cell_type": "markdown",
   "metadata": {},
   "source": [
    "# California COVID vaccinations scrape"
   ]
  },
  {
   "cell_type": "markdown",
   "metadata": {},
   "source": [
    "By [Amy O'Kruk](https://twitter.com/amyokruk)"
   ]
  },
  {
   "cell_type": "markdown",
   "metadata": {},
   "source": [
    "Downloads data on vaccine doses administered by county and statewide from a Tableau-powered dashboard from the California Department of Public Health."
   ]
  },
  {
   "cell_type": "code",
   "execution_count": 1,
   "metadata": {
    "execution": {
     "iopub.execute_input": "2021-03-12T05:13:28.495014Z",
     "iopub.status.busy": "2021-03-12T05:13:28.494333Z",
     "iopub.status.idle": "2021-03-12T05:13:28.986132Z",
     "shell.execute_reply": "2021-03-12T05:13:28.985280Z"
    }
   },
   "outputs": [],
   "source": [
    "import pandas as pd\n",
    "import requests\n",
    "from bs4 import BeautifulSoup\n",
    "import json\n",
    "import re\n",
    "import time\n",
    "from time import gmtime, strftime \n",
    "import os\n",
    "import pytz\n",
    "from datetime import datetime"
   ]
  },
  {
   "cell_type": "markdown",
   "metadata": {},
   "source": [
    "Scrape the dashboard page"
   ]
  },
  {
   "cell_type": "code",
   "execution_count": 2,
   "metadata": {
    "execution": {
     "iopub.execute_input": "2021-03-12T05:13:28.992338Z",
     "iopub.status.busy": "2021-03-12T05:13:28.989798Z",
     "iopub.status.idle": "2021-03-12T05:13:29.394010Z",
     "shell.execute_reply": "2021-03-12T05:13:29.393539Z"
    }
   },
   "outputs": [],
   "source": [
    "url = \"https://public.tableau.com/interactive/views/COVID-19VaccineDashboardPublic/Vaccine?:embed=y&:showVizHome=n&:apiID=host0\"\n",
    "\n",
    "r = requests.get(url)\n",
    "soup = BeautifulSoup(r.text, \"html.parser\")"
   ]
  },
  {
   "cell_type": "code",
   "execution_count": 3,
   "metadata": {
    "execution": {
     "iopub.execute_input": "2021-03-12T05:13:29.398756Z",
     "iopub.status.busy": "2021-03-12T05:13:29.398236Z",
     "iopub.status.idle": "2021-03-12T05:13:29.402103Z",
     "shell.execute_reply": "2021-03-12T05:13:29.401587Z"
    }
   },
   "outputs": [],
   "source": [
    "tableauData = json.loads(soup.find(\"textarea\",{\"id\": \"tsConfigContainer\"}).text)"
   ]
  },
  {
   "cell_type": "markdown",
   "metadata": {},
   "source": [
    "Get the link to the Tableau data"
   ]
  },
  {
   "cell_type": "code",
   "execution_count": 4,
   "metadata": {
    "execution": {
     "iopub.execute_input": "2021-03-12T05:13:29.405800Z",
     "iopub.status.busy": "2021-03-12T05:13:29.405150Z",
     "iopub.status.idle": "2021-03-12T05:13:29.408385Z",
     "shell.execute_reply": "2021-03-12T05:13:29.408840Z"
    }
   },
   "outputs": [],
   "source": [
    "dataUrl = f'https://public.tableau.com{tableauData[\"vizql_root\"]}/bootstrapSession/sessions/{tableauData[\"sessionid\"]}'"
   ]
  },
  {
   "cell_type": "code",
   "execution_count": 5,
   "metadata": {
    "execution": {
     "iopub.execute_input": "2021-03-12T05:13:29.415664Z",
     "iopub.status.busy": "2021-03-12T05:13:29.414972Z",
     "iopub.status.idle": "2021-03-12T05:13:29.976543Z",
     "shell.execute_reply": "2021-03-12T05:13:29.976011Z"
    }
   },
   "outputs": [],
   "source": [
    "r = requests.post(dataUrl, data= {\n",
    "    \"sheet_id\": tableauData[\"sheetId\"],\n",
    "})\n",
    "\n",
    "dataReg = re.search('\\d+;({.*})\\d+;({.*})', r.text, re.MULTILINE)\n",
    "data1 = json.loads(dataReg.group(2))\n",
    "\n",
    "dataJson = data1[\"secondaryInfo\"][\"presModelMap\"][\"dataDictionary\"][\"presModelHolder\"][\"genDataDictionaryPresModel\"][\"dataSegments\"][\"0\"][\"dataColumns\"]"
   ]
  },
  {
   "cell_type": "markdown",
   "metadata": {},
   "source": [
    "Isolate what you want"
   ]
  },
  {
   "cell_type": "code",
   "execution_count": 6,
   "metadata": {
    "execution": {
     "iopub.execute_input": "2021-03-12T05:13:29.980318Z",
     "iopub.status.busy": "2021-03-12T05:13:29.979789Z",
     "iopub.status.idle": "2021-03-12T05:13:29.983815Z",
     "shell.execute_reply": "2021-03-12T05:13:29.983284Z"
    }
   },
   "outputs": [],
   "source": [
    "counties = dataJson[2]['dataValues'][:58]"
   ]
  },
  {
   "cell_type": "code",
   "execution_count": 7,
   "metadata": {
    "execution": {
     "iopub.execute_input": "2021-03-12T05:13:29.989108Z",
     "iopub.status.busy": "2021-03-12T05:13:29.987643Z",
     "iopub.status.idle": "2021-03-12T05:13:29.989782Z",
     "shell.execute_reply": "2021-03-12T05:13:29.990301Z"
    }
   },
   "outputs": [],
   "source": [
    "doses = dataJson[0]['dataValues'][3:61]"
   ]
  },
  {
   "cell_type": "markdown",
   "metadata": {},
   "source": [
    "Data formatting"
   ]
  },
  {
   "cell_type": "code",
   "execution_count": 8,
   "metadata": {
    "execution": {
     "iopub.execute_input": "2021-03-12T05:13:29.995007Z",
     "iopub.status.busy": "2021-03-12T05:13:29.993853Z",
     "iopub.status.idle": "2021-03-12T05:13:29.995979Z",
     "shell.execute_reply": "2021-03-12T05:13:29.996430Z"
    }
   },
   "outputs": [],
   "source": [
    "zipped = dict(zip(counties, doses))"
   ]
  },
  {
   "cell_type": "code",
   "execution_count": 9,
   "metadata": {
    "execution": {
     "iopub.execute_input": "2021-03-12T05:13:30.004017Z",
     "iopub.status.busy": "2021-03-12T05:13:30.003038Z",
     "iopub.status.idle": "2021-03-12T05:13:30.005044Z",
     "shell.execute_reply": "2021-03-12T05:13:30.005498Z"
    }
   },
   "outputs": [],
   "source": [
    "df = pd.Series(zipped).reset_index()"
   ]
  },
  {
   "cell_type": "code",
   "execution_count": 10,
   "metadata": {
    "execution": {
     "iopub.execute_input": "2021-03-12T05:13:30.010286Z",
     "iopub.status.busy": "2021-03-12T05:13:30.008945Z",
     "iopub.status.idle": "2021-03-12T05:13:30.010905Z",
     "shell.execute_reply": "2021-03-12T05:13:30.011356Z"
    }
   },
   "outputs": [],
   "source": [
    "df.columns = ['location','doses']"
   ]
  },
  {
   "cell_type": "markdown",
   "metadata": {},
   "source": [
    "Grab the overall California total"
   ]
  },
  {
   "cell_type": "code",
   "execution_count": 11,
   "metadata": {
    "execution": {
     "iopub.execute_input": "2021-03-12T05:13:30.016106Z",
     "iopub.status.busy": "2021-03-12T05:13:30.014698Z",
     "iopub.status.idle": "2021-03-12T05:13:30.016731Z",
     "shell.execute_reply": "2021-03-12T05:13:30.017222Z"
    }
   },
   "outputs": [],
   "source": [
    "add = {'location':'California','doses':dataJson[0]['dataValues'][2]}"
   ]
  },
  {
   "cell_type": "code",
   "execution_count": 12,
   "metadata": {
    "execution": {
     "iopub.execute_input": "2021-03-12T05:13:30.025546Z",
     "iopub.status.busy": "2021-03-12T05:13:30.023938Z",
     "iopub.status.idle": "2021-03-12T05:13:30.026262Z",
     "shell.execute_reply": "2021-03-12T05:13:30.026733Z"
    }
   },
   "outputs": [],
   "source": [
    "df = df.append(add, ignore_index=True)"
   ]
  },
  {
   "cell_type": "code",
   "execution_count": 13,
   "metadata": {
    "execution": {
     "iopub.execute_input": "2021-03-12T05:13:30.032409Z",
     "iopub.status.busy": "2021-03-12T05:13:30.030948Z",
     "iopub.status.idle": "2021-03-12T05:13:30.033039Z",
     "shell.execute_reply": "2021-03-12T05:13:30.033609Z"
    }
   },
   "outputs": [],
   "source": [
    "df = df.sort_values(by='location')"
   ]
  },
  {
   "cell_type": "code",
   "execution_count": 14,
   "metadata": {
    "execution": {
     "iopub.execute_input": "2021-03-12T05:13:30.040684Z",
     "iopub.status.busy": "2021-03-12T05:13:30.039201Z",
     "iopub.status.idle": "2021-03-12T05:13:30.041363Z",
     "shell.execute_reply": "2021-03-12T05:13:30.041829Z"
    }
   },
   "outputs": [],
   "source": [
    "df = df[df.location == 'California'].append(df[df.location != 'California']).reset_index(drop=True)"
   ]
  },
  {
   "cell_type": "code",
   "execution_count": null,
   "metadata": {},
   "outputs": [],
   "source": []
  },
  {
   "cell_type": "code",
   "execution_count": 15,
   "metadata": {
    "execution": {
     "iopub.execute_input": "2021-03-12T05:13:30.045832Z",
     "iopub.status.busy": "2021-03-12T05:13:30.045093Z",
     "iopub.status.idle": "2021-03-12T05:13:30.065891Z",
     "shell.execute_reply": "2021-03-12T05:13:30.065330Z"
    }
   },
   "outputs": [],
   "source": [
    "tz = pytz.timezone(\"America/New_York\")"
   ]
  },
  {
   "cell_type": "code",
   "execution_count": 16,
   "metadata": {
    "execution": {
     "iopub.execute_input": "2021-03-12T05:13:30.070488Z",
     "iopub.status.busy": "2021-03-12T05:13:30.069298Z",
     "iopub.status.idle": "2021-03-12T05:13:30.071090Z",
     "shell.execute_reply": "2021-03-12T05:13:30.071635Z"
    }
   },
   "outputs": [],
   "source": [
    "today = datetime.now(tz).date()"
   ]
  },
  {
   "cell_type": "code",
   "execution_count": 17,
   "metadata": {
    "execution": {
     "iopub.execute_input": "2021-03-12T05:13:30.076214Z",
     "iopub.status.busy": "2021-03-12T05:13:30.074984Z",
     "iopub.status.idle": "2021-03-12T05:13:30.077294Z",
     "shell.execute_reply": "2021-03-12T05:13:30.077847Z"
    }
   },
   "outputs": [],
   "source": [
    "data_dir = os.path.join(os.path.abspath(\"\"), \"data\")"
   ]
  },
  {
   "cell_type": "code",
   "execution_count": 18,
   "metadata": {
    "execution": {
     "iopub.execute_input": "2021-03-12T05:13:30.081683Z",
     "iopub.status.busy": "2021-03-12T05:13:30.080929Z",
     "iopub.status.idle": "2021-03-12T05:13:30.085902Z",
     "shell.execute_reply": "2021-03-12T05:13:30.085329Z"
    }
   },
   "outputs": [],
   "source": [
    "df.to_csv(os.path.join(data_dir, f\"{today}.csv\"), index=False)"
   ]
  },
  {
   "cell_type": "code",
   "execution_count": null,
   "metadata": {},
   "outputs": [],
   "source": []
  }
 ],
 "metadata": {
  "kernelspec": {
   "display_name": "Python 3",
   "language": "python",
   "name": "python3"
  },
  "language_info": {
   "codemirror_mode": {
    "name": "ipython",
    "version": 3
   },
   "file_extension": ".py",
   "mimetype": "text/x-python",
   "name": "python",
   "nbconvert_exporter": "python",
   "pygments_lexer": "ipython3",
   "version": "3.8.8"
  }
 },
 "nbformat": 4,
 "nbformat_minor": 4
}
