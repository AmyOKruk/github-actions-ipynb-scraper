{
 "cells": [
  {
   "cell_type": "markdown",
   "metadata": {},
   "source": [
    "# California COVID vaccinations scrape"
   ]
  },
  {
   "cell_type": "markdown",
   "metadata": {},
   "source": [
    "By [Amy O'Kruk](https://twitter.com/amyokruk)"
   ]
  },
  {
   "cell_type": "markdown",
   "metadata": {},
   "source": [
    "Downloads data on vaccine doses administered by county and statewide from a Tableau-powered dashboard from the California Department of Public Health."
   ]
  },
  {
   "cell_type": "code",
   "execution_count": 1,
   "metadata": {
    "execution": {
     "iopub.execute_input": "2021-03-17T14:13:48.113461Z",
     "iopub.status.busy": "2021-03-17T14:13:48.112623Z",
     "iopub.status.idle": "2021-03-17T14:13:48.526707Z",
     "shell.execute_reply": "2021-03-17T14:13:48.525774Z"
    }
   },
   "outputs": [],
   "source": [
    "import pandas as pd\n",
    "import requests\n",
    "from bs4 import BeautifulSoup\n",
    "import json\n",
    "import re\n",
    "import time\n",
    "from time import gmtime, strftime \n",
    "import os\n",
    "import pytz\n",
    "from datetime import datetime"
   ]
  },
  {
   "cell_type": "markdown",
   "metadata": {},
   "source": [
    "Scrape the dashboard page"
   ]
  },
  {
   "cell_type": "code",
   "execution_count": 2,
   "metadata": {
    "execution": {
     "iopub.execute_input": "2021-03-17T14:13:48.530749Z",
     "iopub.status.busy": "2021-03-17T14:13:48.530263Z",
     "iopub.status.idle": "2021-03-17T14:13:48.883965Z",
     "shell.execute_reply": "2021-03-17T14:13:48.883454Z"
    }
   },
   "outputs": [],
   "source": [
    "url = \"https://public.tableau.com/interactive/views/COVID-19VaccineDashboardPublic/Vaccine?:embed=y&:showVizHome=n&:apiID=host0\"\n",
    "\n",
    "r = requests.get(url)\n",
    "soup = BeautifulSoup(r.text, \"html.parser\")"
   ]
  },
  {
   "cell_type": "code",
   "execution_count": 3,
   "metadata": {
    "execution": {
     "iopub.execute_input": "2021-03-17T14:13:48.891225Z",
     "iopub.status.busy": "2021-03-17T14:13:48.890366Z",
     "iopub.status.idle": "2021-03-17T14:13:48.894273Z",
     "shell.execute_reply": "2021-03-17T14:13:48.893860Z"
    }
   },
   "outputs": [],
   "source": [
    "tableauData = json.loads(soup.find(\"textarea\",{\"id\": \"tsConfigContainer\"}).text)"
   ]
  },
  {
   "cell_type": "markdown",
   "metadata": {},
   "source": [
    "Get the link to the Tableau data"
   ]
  },
  {
   "cell_type": "code",
   "execution_count": 4,
   "metadata": {
    "execution": {
     "iopub.execute_input": "2021-03-17T14:13:48.897608Z",
     "iopub.status.busy": "2021-03-17T14:13:48.897130Z",
     "iopub.status.idle": "2021-03-17T14:13:48.900579Z",
     "shell.execute_reply": "2021-03-17T14:13:48.900955Z"
    }
   },
   "outputs": [],
   "source": [
    "dataUrl = f'https://public.tableau.com{tableauData[\"vizql_root\"]}/bootstrapSession/sessions/{tableauData[\"sessionid\"]}'"
   ]
  },
  {
   "cell_type": "code",
   "execution_count": 5,
   "metadata": {
    "execution": {
     "iopub.execute_input": "2021-03-17T14:13:48.907040Z",
     "iopub.status.busy": "2021-03-17T14:13:48.906520Z",
     "iopub.status.idle": "2021-03-17T14:13:49.199298Z",
     "shell.execute_reply": "2021-03-17T14:13:49.198754Z"
    }
   },
   "outputs": [],
   "source": [
    "r = requests.post(dataUrl, data= {\n",
    "    \"sheet_id\": tableauData[\"sheetId\"],\n",
    "})\n",
    "\n",
    "dataReg = re.search('\\d+;({.*})\\d+;({.*})', r.text, re.MULTILINE)\n",
    "data1 = json.loads(dataReg.group(2))\n",
    "\n",
    "dataJson = data1[\"secondaryInfo\"][\"presModelMap\"][\"dataDictionary\"][\"presModelHolder\"][\"genDataDictionaryPresModel\"][\"dataSegments\"][\"0\"][\"dataColumns\"]"
   ]
  },
  {
   "cell_type": "markdown",
   "metadata": {},
   "source": [
    "Isolate what you want"
   ]
  },
  {
   "cell_type": "code",
   "execution_count": 6,
   "metadata": {
    "execution": {
     "iopub.execute_input": "2021-03-17T14:13:49.205466Z",
     "iopub.status.busy": "2021-03-17T14:13:49.204543Z",
     "iopub.status.idle": "2021-03-17T14:13:49.208804Z",
     "shell.execute_reply": "2021-03-17T14:13:49.208369Z"
    }
   },
   "outputs": [],
   "source": [
    "counties = dataJson[2]['dataValues'][:58]"
   ]
  },
  {
   "cell_type": "code",
   "execution_count": 7,
   "metadata": {
    "execution": {
     "iopub.execute_input": "2021-03-17T14:13:49.212368Z",
     "iopub.status.busy": "2021-03-17T14:13:49.211865Z",
     "iopub.status.idle": "2021-03-17T14:13:49.215858Z",
     "shell.execute_reply": "2021-03-17T14:13:49.215403Z"
    }
   },
   "outputs": [],
   "source": [
    "doses = dataJson[0]['dataValues'][3:61]"
   ]
  },
  {
   "cell_type": "markdown",
   "metadata": {},
   "source": [
    "Data formatting"
   ]
  },
  {
   "cell_type": "code",
   "execution_count": 8,
   "metadata": {
    "execution": {
     "iopub.execute_input": "2021-03-17T14:13:49.219204Z",
     "iopub.status.busy": "2021-03-17T14:13:49.218728Z",
     "iopub.status.idle": "2021-03-17T14:13:49.221848Z",
     "shell.execute_reply": "2021-03-17T14:13:49.222248Z"
    }
   },
   "outputs": [],
   "source": [
    "zipped = dict(zip(counties, doses))"
   ]
  },
  {
   "cell_type": "code",
   "execution_count": 9,
   "metadata": {
    "execution": {
     "iopub.execute_input": "2021-03-17T14:13:49.227718Z",
     "iopub.status.busy": "2021-03-17T14:13:49.227243Z",
     "iopub.status.idle": "2021-03-17T14:13:49.230823Z",
     "shell.execute_reply": "2021-03-17T14:13:49.230404Z"
    }
   },
   "outputs": [],
   "source": [
    "df = pd.Series(zipped).reset_index()"
   ]
  },
  {
   "cell_type": "code",
   "execution_count": 10,
   "metadata": {
    "execution": {
     "iopub.execute_input": "2021-03-17T14:13:49.234239Z",
     "iopub.status.busy": "2021-03-17T14:13:49.233768Z",
     "iopub.status.idle": "2021-03-17T14:13:49.237019Z",
     "shell.execute_reply": "2021-03-17T14:13:49.236574Z"
    }
   },
   "outputs": [],
   "source": [
    "df.columns = ['location','doses']"
   ]
  },
  {
   "cell_type": "markdown",
   "metadata": {},
   "source": [
    "Grab the overall California total"
   ]
  },
  {
   "cell_type": "code",
   "execution_count": 11,
   "metadata": {
    "execution": {
     "iopub.execute_input": "2021-03-17T14:13:49.240432Z",
     "iopub.status.busy": "2021-03-17T14:13:49.239892Z",
     "iopub.status.idle": "2021-03-17T14:13:49.243665Z",
     "shell.execute_reply": "2021-03-17T14:13:49.243245Z"
    }
   },
   "outputs": [],
   "source": [
    "add = {'location':'California','doses':dataJson[0]['dataValues'][2]}"
   ]
  },
  {
   "cell_type": "code",
   "execution_count": 12,
   "metadata": {
    "execution": {
     "iopub.execute_input": "2021-03-17T14:13:49.249489Z",
     "iopub.status.busy": "2021-03-17T14:13:49.248960Z",
     "iopub.status.idle": "2021-03-17T14:13:49.252972Z",
     "shell.execute_reply": "2021-03-17T14:13:49.252515Z"
    }
   },
   "outputs": [],
   "source": [
    "df = df.append(add, ignore_index=True)"
   ]
  },
  {
   "cell_type": "code",
   "execution_count": 13,
   "metadata": {
    "execution": {
     "iopub.execute_input": "2021-03-17T14:13:49.257141Z",
     "iopub.status.busy": "2021-03-17T14:13:49.256623Z",
     "iopub.status.idle": "2021-03-17T14:13:49.260047Z",
     "shell.execute_reply": "2021-03-17T14:13:49.259599Z"
    }
   },
   "outputs": [],
   "source": [
    "df = df.sort_values(by='location')"
   ]
  },
  {
   "cell_type": "code",
   "execution_count": 14,
   "metadata": {
    "execution": {
     "iopub.execute_input": "2021-03-17T14:13:49.265663Z",
     "iopub.status.busy": "2021-03-17T14:13:49.265153Z",
     "iopub.status.idle": "2021-03-17T14:13:49.268600Z",
     "shell.execute_reply": "2021-03-17T14:13:49.268147Z"
    }
   },
   "outputs": [],
   "source": [
    "df = df[df.location == 'California'].append(df[df.location != 'California']).reset_index(drop=True)"
   ]
  },
  {
   "cell_type": "code",
   "execution_count": null,
   "metadata": {},
   "outputs": [],
   "source": []
  },
  {
   "cell_type": "code",
   "execution_count": 15,
   "metadata": {
    "execution": {
     "iopub.execute_input": "2021-03-17T14:13:49.272143Z",
     "iopub.status.busy": "2021-03-17T14:13:49.271292Z",
     "iopub.status.idle": "2021-03-17T14:13:49.289056Z",
     "shell.execute_reply": "2021-03-17T14:13:49.288604Z"
    }
   },
   "outputs": [],
   "source": [
    "tz = pytz.timezone(\"America/New_York\")"
   ]
  },
  {
   "cell_type": "code",
   "execution_count": 16,
   "metadata": {
    "execution": {
     "iopub.execute_input": "2021-03-17T14:13:49.292222Z",
     "iopub.status.busy": "2021-03-17T14:13:49.291748Z",
     "iopub.status.idle": "2021-03-17T14:13:49.294710Z",
     "shell.execute_reply": "2021-03-17T14:13:49.295107Z"
    }
   },
   "outputs": [],
   "source": [
    "today = datetime.now(tz).date()"
   ]
  },
  {
   "cell_type": "code",
   "execution_count": 17,
   "metadata": {
    "execution": {
     "iopub.execute_input": "2021-03-17T14:13:49.298686Z",
     "iopub.status.busy": "2021-03-17T14:13:49.298207Z",
     "iopub.status.idle": "2021-03-17T14:13:49.301943Z",
     "shell.execute_reply": "2021-03-17T14:13:49.301521Z"
    }
   },
   "outputs": [],
   "source": [
    "data_dir = os.path.join(os.path.abspath(\"\"), \"data\")"
   ]
  },
  {
   "cell_type": "code",
   "execution_count": 18,
   "metadata": {
    "execution": {
     "iopub.execute_input": "2021-03-17T14:13:49.307282Z",
     "iopub.status.busy": "2021-03-17T14:13:49.305066Z",
     "iopub.status.idle": "2021-03-17T14:13:49.310845Z",
     "shell.execute_reply": "2021-03-17T14:13:49.310366Z"
    }
   },
   "outputs": [],
   "source": [
    "df.to_csv(os.path.join(data_dir, f\"{today}.csv\"), index=False)"
   ]
  },
  {
   "cell_type": "code",
   "execution_count": null,
   "metadata": {},
   "outputs": [],
   "source": []
  }
 ],
 "metadata": {
  "kernelspec": {
   "display_name": "Python 3",
   "language": "python",
   "name": "python3"
  },
  "language_info": {
   "codemirror_mode": {
    "name": "ipython",
    "version": 3
   },
   "file_extension": ".py",
   "mimetype": "text/x-python",
   "name": "python",
   "nbconvert_exporter": "python",
   "pygments_lexer": "ipython3",
   "version": "3.8.8"
  }
 },
 "nbformat": 4,
 "nbformat_minor": 4
}
