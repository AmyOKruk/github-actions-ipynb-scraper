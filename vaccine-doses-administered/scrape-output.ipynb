{
 "cells": [
  {
   "cell_type": "markdown",
   "metadata": {},
   "source": [
    "# California COVID vaccinations scrape"
   ]
  },
  {
   "cell_type": "markdown",
   "metadata": {},
   "source": [
    "By [Amy O'Kruk](https://twitter.com/amyokruk)"
   ]
  },
  {
   "cell_type": "markdown",
   "metadata": {},
   "source": [
    "Downloads data on vaccine doses administered by county and statewide from a Tableau-powered dashboard from the California Department of Public Health."
   ]
  },
  {
   "cell_type": "code",
   "execution_count": 1,
   "metadata": {
    "execution": {
     "iopub.execute_input": "2021-03-14T21:40:38.554614Z",
     "iopub.status.busy": "2021-03-14T21:40:38.553919Z",
     "iopub.status.idle": "2021-03-14T21:40:39.041567Z",
     "shell.execute_reply": "2021-03-14T21:40:39.040623Z"
    }
   },
   "outputs": [],
   "source": [
    "import pandas as pd\n",
    "import requests\n",
    "from bs4 import BeautifulSoup\n",
    "import json\n",
    "import re\n",
    "import time\n",
    "from time import gmtime, strftime \n",
    "import os\n",
    "import pytz\n",
    "from datetime import datetime"
   ]
  },
  {
   "cell_type": "markdown",
   "metadata": {},
   "source": [
    "Scrape the dashboard page"
   ]
  },
  {
   "cell_type": "code",
   "execution_count": 2,
   "metadata": {
    "execution": {
     "iopub.execute_input": "2021-03-14T21:40:39.047053Z",
     "iopub.status.busy": "2021-03-14T21:40:39.045187Z",
     "iopub.status.idle": "2021-03-14T21:40:39.609666Z",
     "shell.execute_reply": "2021-03-14T21:40:39.608862Z"
    }
   },
   "outputs": [],
   "source": [
    "url = \"https://public.tableau.com/interactive/views/COVID-19VaccineDashboardPublic/Vaccine?:embed=y&:showVizHome=n&:apiID=host0\"\n",
    "\n",
    "r = requests.get(url)\n",
    "soup = BeautifulSoup(r.text, \"html.parser\")"
   ]
  },
  {
   "cell_type": "code",
   "execution_count": 3,
   "metadata": {
    "execution": {
     "iopub.execute_input": "2021-03-14T21:40:39.614391Z",
     "iopub.status.busy": "2021-03-14T21:40:39.613774Z",
     "iopub.status.idle": "2021-03-14T21:40:39.618134Z",
     "shell.execute_reply": "2021-03-14T21:40:39.617620Z"
    }
   },
   "outputs": [],
   "source": [
    "tableauData = json.loads(soup.find(\"textarea\",{\"id\": \"tsConfigContainer\"}).text)"
   ]
  },
  {
   "cell_type": "markdown",
   "metadata": {},
   "source": [
    "Get the link to the Tableau data"
   ]
  },
  {
   "cell_type": "code",
   "execution_count": 4,
   "metadata": {
    "execution": {
     "iopub.execute_input": "2021-03-14T21:40:39.621678Z",
     "iopub.status.busy": "2021-03-14T21:40:39.621097Z",
     "iopub.status.idle": "2021-03-14T21:40:39.625052Z",
     "shell.execute_reply": "2021-03-14T21:40:39.625513Z"
    }
   },
   "outputs": [],
   "source": [
    "dataUrl = f'https://public.tableau.com{tableauData[\"vizql_root\"]}/bootstrapSession/sessions/{tableauData[\"sessionid\"]}'"
   ]
  },
  {
   "cell_type": "code",
   "execution_count": 5,
   "metadata": {
    "execution": {
     "iopub.execute_input": "2021-03-14T21:40:39.637264Z",
     "iopub.status.busy": "2021-03-14T21:40:39.636630Z",
     "iopub.status.idle": "2021-03-14T21:40:40.028692Z",
     "shell.execute_reply": "2021-03-14T21:40:40.029200Z"
    }
   },
   "outputs": [],
   "source": [
    "r = requests.post(dataUrl, data= {\n",
    "    \"sheet_id\": tableauData[\"sheetId\"],\n",
    "})\n",
    "\n",
    "dataReg = re.search('\\d+;({.*})\\d+;({.*})', r.text, re.MULTILINE)\n",
    "data1 = json.loads(dataReg.group(2))\n",
    "\n",
    "dataJson = data1[\"secondaryInfo\"][\"presModelMap\"][\"dataDictionary\"][\"presModelHolder\"][\"genDataDictionaryPresModel\"][\"dataSegments\"][\"0\"][\"dataColumns\"]"
   ]
  },
  {
   "cell_type": "markdown",
   "metadata": {},
   "source": [
    "Isolate what you want"
   ]
  },
  {
   "cell_type": "code",
   "execution_count": 6,
   "metadata": {
    "execution": {
     "iopub.execute_input": "2021-03-14T21:40:40.033416Z",
     "iopub.status.busy": "2021-03-14T21:40:40.032848Z",
     "iopub.status.idle": "2021-03-14T21:40:40.037014Z",
     "shell.execute_reply": "2021-03-14T21:40:40.036018Z"
    }
   },
   "outputs": [],
   "source": [
    "counties = dataJson[2]['dataValues'][:58]"
   ]
  },
  {
   "cell_type": "code",
   "execution_count": 7,
   "metadata": {
    "execution": {
     "iopub.execute_input": "2021-03-14T21:40:40.041887Z",
     "iopub.status.busy": "2021-03-14T21:40:40.041091Z",
     "iopub.status.idle": "2021-03-14T21:40:40.044457Z",
     "shell.execute_reply": "2021-03-14T21:40:40.044947Z"
    }
   },
   "outputs": [],
   "source": [
    "doses = dataJson[0]['dataValues'][3:61]"
   ]
  },
  {
   "cell_type": "markdown",
   "metadata": {},
   "source": [
    "Data formatting"
   ]
  },
  {
   "cell_type": "code",
   "execution_count": 8,
   "metadata": {
    "execution": {
     "iopub.execute_input": "2021-03-14T21:40:40.049001Z",
     "iopub.status.busy": "2021-03-14T21:40:40.048430Z",
     "iopub.status.idle": "2021-03-14T21:40:40.052266Z",
     "shell.execute_reply": "2021-03-14T21:40:40.051560Z"
    }
   },
   "outputs": [],
   "source": [
    "zipped = dict(zip(counties, doses))"
   ]
  },
  {
   "cell_type": "code",
   "execution_count": 9,
   "metadata": {
    "execution": {
     "iopub.execute_input": "2021-03-14T21:40:40.058109Z",
     "iopub.status.busy": "2021-03-14T21:40:40.057527Z",
     "iopub.status.idle": "2021-03-14T21:40:40.060617Z",
     "shell.execute_reply": "2021-03-14T21:40:40.061333Z"
    }
   },
   "outputs": [],
   "source": [
    "df = pd.Series(zipped).reset_index()"
   ]
  },
  {
   "cell_type": "code",
   "execution_count": 10,
   "metadata": {
    "execution": {
     "iopub.execute_input": "2021-03-14T21:40:40.065175Z",
     "iopub.status.busy": "2021-03-14T21:40:40.064595Z",
     "iopub.status.idle": "2021-03-14T21:40:40.068776Z",
     "shell.execute_reply": "2021-03-14T21:40:40.069280Z"
    }
   },
   "outputs": [],
   "source": [
    "df.columns = ['location','doses']"
   ]
  },
  {
   "cell_type": "markdown",
   "metadata": {},
   "source": [
    "Grab the overall California total"
   ]
  },
  {
   "cell_type": "code",
   "execution_count": 11,
   "metadata": {
    "execution": {
     "iopub.execute_input": "2021-03-14T21:40:40.073684Z",
     "iopub.status.busy": "2021-03-14T21:40:40.073102Z",
     "iopub.status.idle": "2021-03-14T21:40:40.076765Z",
     "shell.execute_reply": "2021-03-14T21:40:40.076243Z"
    }
   },
   "outputs": [],
   "source": [
    "add = {'location':'California','doses':dataJson[0]['dataValues'][2]}"
   ]
  },
  {
   "cell_type": "code",
   "execution_count": 12,
   "metadata": {
    "execution": {
     "iopub.execute_input": "2021-03-14T21:40:40.085657Z",
     "iopub.status.busy": "2021-03-14T21:40:40.084910Z",
     "iopub.status.idle": "2021-03-14T21:40:40.089953Z",
     "shell.execute_reply": "2021-03-14T21:40:40.089223Z"
    }
   },
   "outputs": [],
   "source": [
    "df = df.append(add, ignore_index=True)"
   ]
  },
  {
   "cell_type": "code",
   "execution_count": 13,
   "metadata": {
    "execution": {
     "iopub.execute_input": "2021-03-14T21:40:40.095046Z",
     "iopub.status.busy": "2021-03-14T21:40:40.094469Z",
     "iopub.status.idle": "2021-03-14T21:40:40.097633Z",
     "shell.execute_reply": "2021-03-14T21:40:40.098123Z"
    }
   },
   "outputs": [],
   "source": [
    "df = df.sort_values(by='location')"
   ]
  },
  {
   "cell_type": "code",
   "execution_count": 14,
   "metadata": {
    "execution": {
     "iopub.execute_input": "2021-03-14T21:40:40.104464Z",
     "iopub.status.busy": "2021-03-14T21:40:40.103892Z",
     "iopub.status.idle": "2021-03-14T21:40:40.109246Z",
     "shell.execute_reply": "2021-03-14T21:40:40.107154Z"
    }
   },
   "outputs": [],
   "source": [
    "df = df[df.location == 'California'].append(df[df.location != 'California']).reset_index(drop=True)"
   ]
  },
  {
   "cell_type": "code",
   "execution_count": null,
   "metadata": {},
   "outputs": [],
   "source": []
  },
  {
   "cell_type": "code",
   "execution_count": 15,
   "metadata": {
    "execution": {
     "iopub.execute_input": "2021-03-14T21:40:40.119629Z",
     "iopub.status.busy": "2021-03-14T21:40:40.119055Z",
     "iopub.status.idle": "2021-03-14T21:40:40.134039Z",
     "shell.execute_reply": "2021-03-14T21:40:40.134529Z"
    }
   },
   "outputs": [],
   "source": [
    "tz = pytz.timezone(\"America/New_York\")"
   ]
  },
  {
   "cell_type": "code",
   "execution_count": 16,
   "metadata": {
    "execution": {
     "iopub.execute_input": "2021-03-14T21:40:40.139416Z",
     "iopub.status.busy": "2021-03-14T21:40:40.138113Z",
     "iopub.status.idle": "2021-03-14T21:40:40.140055Z",
     "shell.execute_reply": "2021-03-14T21:40:40.140717Z"
    }
   },
   "outputs": [],
   "source": [
    "today = datetime.now(tz).date()"
   ]
  },
  {
   "cell_type": "code",
   "execution_count": 17,
   "metadata": {
    "execution": {
     "iopub.execute_input": "2021-03-14T21:40:40.150862Z",
     "iopub.status.busy": "2021-03-14T21:40:40.149487Z",
     "iopub.status.idle": "2021-03-14T21:40:40.151502Z",
     "shell.execute_reply": "2021-03-14T21:40:40.151991Z"
    }
   },
   "outputs": [],
   "source": [
    "data_dir = os.path.join(os.path.abspath(\"\"), \"data\")"
   ]
  },
  {
   "cell_type": "code",
   "execution_count": 18,
   "metadata": {
    "execution": {
     "iopub.execute_input": "2021-03-14T21:40:40.155929Z",
     "iopub.status.busy": "2021-03-14T21:40:40.155345Z",
     "iopub.status.idle": "2021-03-14T21:40:40.159629Z",
     "shell.execute_reply": "2021-03-14T21:40:40.160082Z"
    }
   },
   "outputs": [],
   "source": [
    "df.to_csv(os.path.join(data_dir, f\"{today}.csv\"), index=False)"
   ]
  },
  {
   "cell_type": "code",
   "execution_count": null,
   "metadata": {},
   "outputs": [],
   "source": []
  }
 ],
 "metadata": {
  "kernelspec": {
   "display_name": "Python 3",
   "language": "python",
   "name": "python3"
  },
  "language_info": {
   "codemirror_mode": {
    "name": "ipython",
    "version": 3
   },
   "file_extension": ".py",
   "mimetype": "text/x-python",
   "name": "python",
   "nbconvert_exporter": "python",
   "pygments_lexer": "ipython3",
   "version": "3.8.8"
  }
 },
 "nbformat": 4,
 "nbformat_minor": 4
}
