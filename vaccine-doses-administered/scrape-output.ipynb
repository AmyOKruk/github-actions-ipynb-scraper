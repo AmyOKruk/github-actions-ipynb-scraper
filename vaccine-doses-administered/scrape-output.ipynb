{
 "cells": [
  {
   "cell_type": "markdown",
   "metadata": {},
   "source": [
    "# California COVID vaccinations scrape"
   ]
  },
  {
   "cell_type": "markdown",
   "metadata": {},
   "source": [
    "By [Amy O'Kruk](https://twitter.com/amyokruk)"
   ]
  },
  {
   "cell_type": "markdown",
   "metadata": {},
   "source": [
    "Downloads data on vaccine doses administered by county and statewide from a Tableau-powered dashboard from the California Department of Public Health."
   ]
  },
  {
   "cell_type": "code",
   "execution_count": 1,
   "metadata": {
    "execution": {
     "iopub.execute_input": "2021-03-10T19:09:50.015755Z",
     "iopub.status.busy": "2021-03-10T19:09:50.015181Z",
     "iopub.status.idle": "2021-03-10T19:09:50.334798Z",
     "shell.execute_reply": "2021-03-10T19:09:50.334254Z"
    }
   },
   "outputs": [],
   "source": [
    "import pandas as pd\n",
    "import requests\n",
    "from bs4 import BeautifulSoup\n",
    "import json\n",
    "import re\n",
    "import time\n",
    "from time import gmtime, strftime \n",
    "import os\n",
    "import pytz\n",
    "from datetime import datetime"
   ]
  },
  {
   "cell_type": "markdown",
   "metadata": {},
   "source": [
    "Scrape the dashboard page"
   ]
  },
  {
   "cell_type": "code",
   "execution_count": 2,
   "metadata": {
    "execution": {
     "iopub.execute_input": "2021-03-10T19:09:50.339984Z",
     "iopub.status.busy": "2021-03-10T19:09:50.337798Z",
     "iopub.status.idle": "2021-03-10T19:09:50.611633Z",
     "shell.execute_reply": "2021-03-10T19:09:50.612064Z"
    }
   },
   "outputs": [],
   "source": [
    "url = \"https://public.tableau.com/interactive/views/COVID-19VaccineDashboardPublic/Vaccine?:embed=y&:showVizHome=n&:apiID=host0\"\n",
    "\n",
    "r = requests.get(url)\n",
    "soup = BeautifulSoup(r.text, \"html.parser\")"
   ]
  },
  {
   "cell_type": "code",
   "execution_count": 3,
   "metadata": {
    "execution": {
     "iopub.execute_input": "2021-03-10T19:09:50.616270Z",
     "iopub.status.busy": "2021-03-10T19:09:50.615830Z",
     "iopub.status.idle": "2021-03-10T19:09:50.619070Z",
     "shell.execute_reply": "2021-03-10T19:09:50.618675Z"
    }
   },
   "outputs": [],
   "source": [
    "tableauData = json.loads(soup.find(\"textarea\",{\"id\": \"tsConfigContainer\"}).text)"
   ]
  },
  {
   "cell_type": "markdown",
   "metadata": {},
   "source": [
    "Get the link to the Tableau data"
   ]
  },
  {
   "cell_type": "code",
   "execution_count": 4,
   "metadata": {
    "execution": {
     "iopub.execute_input": "2021-03-10T19:09:50.622345Z",
     "iopub.status.busy": "2021-03-10T19:09:50.621578Z",
     "iopub.status.idle": "2021-03-10T19:09:50.623469Z",
     "shell.execute_reply": "2021-03-10T19:09:50.623066Z"
    }
   },
   "outputs": [],
   "source": [
    "dataUrl = f'https://public.tableau.com{tableauData[\"vizql_root\"]}/bootstrapSession/sessions/{tableauData[\"sessionid\"]}'"
   ]
  },
  {
   "cell_type": "code",
   "execution_count": 5,
   "metadata": {
    "execution": {
     "iopub.execute_input": "2021-03-10T19:09:50.628679Z",
     "iopub.status.busy": "2021-03-10T19:09:50.628237Z",
     "iopub.status.idle": "2021-03-10T19:09:50.874121Z",
     "shell.execute_reply": "2021-03-10T19:09:50.873655Z"
    }
   },
   "outputs": [],
   "source": [
    "r = requests.post(dataUrl, data= {\n",
    "    \"sheet_id\": tableauData[\"sheetId\"],\n",
    "})\n",
    "\n",
    "dataReg = re.search('\\d+;({.*})\\d+;({.*})', r.text, re.MULTILINE)\n",
    "data1 = json.loads(dataReg.group(2))\n",
    "\n",
    "dataJson = data1[\"secondaryInfo\"][\"presModelMap\"][\"dataDictionary\"][\"presModelHolder\"][\"genDataDictionaryPresModel\"][\"dataSegments\"][\"0\"][\"dataColumns\"]"
   ]
  },
  {
   "cell_type": "markdown",
   "metadata": {},
   "source": [
    "Isolate what you want"
   ]
  },
  {
   "cell_type": "code",
   "execution_count": 6,
   "metadata": {
    "execution": {
     "iopub.execute_input": "2021-03-10T19:09:50.878412Z",
     "iopub.status.busy": "2021-03-10T19:09:50.877195Z",
     "iopub.status.idle": "2021-03-10T19:09:50.878960Z",
     "shell.execute_reply": "2021-03-10T19:09:50.879322Z"
    }
   },
   "outputs": [],
   "source": [
    "counties = dataJson[2]['dataValues'][:58]"
   ]
  },
  {
   "cell_type": "code",
   "execution_count": 7,
   "metadata": {
    "execution": {
     "iopub.execute_input": "2021-03-10T19:09:50.882730Z",
     "iopub.status.busy": "2021-03-10T19:09:50.881956Z",
     "iopub.status.idle": "2021-03-10T19:09:50.883875Z",
     "shell.execute_reply": "2021-03-10T19:09:50.883499Z"
    }
   },
   "outputs": [],
   "source": [
    "doses = dataJson[0]['dataValues'][3:61]"
   ]
  },
  {
   "cell_type": "markdown",
   "metadata": {},
   "source": [
    "Data formatting"
   ]
  },
  {
   "cell_type": "code",
   "execution_count": 8,
   "metadata": {
    "execution": {
     "iopub.execute_input": "2021-03-10T19:09:50.887086Z",
     "iopub.status.busy": "2021-03-10T19:09:50.886324Z",
     "iopub.status.idle": "2021-03-10T19:09:50.888281Z",
     "shell.execute_reply": "2021-03-10T19:09:50.887912Z"
    }
   },
   "outputs": [],
   "source": [
    "zipped = dict(zip(counties, doses))"
   ]
  },
  {
   "cell_type": "code",
   "execution_count": 9,
   "metadata": {
    "execution": {
     "iopub.execute_input": "2021-03-10T19:09:50.893755Z",
     "iopub.status.busy": "2021-03-10T19:09:50.892705Z",
     "iopub.status.idle": "2021-03-10T19:09:50.894279Z",
     "shell.execute_reply": "2021-03-10T19:09:50.894642Z"
    }
   },
   "outputs": [],
   "source": [
    "df = pd.Series(zipped).reset_index()"
   ]
  },
  {
   "cell_type": "code",
   "execution_count": 10,
   "metadata": {
    "execution": {
     "iopub.execute_input": "2021-03-10T19:09:50.898067Z",
     "iopub.status.busy": "2021-03-10T19:09:50.897303Z",
     "iopub.status.idle": "2021-03-10T19:09:50.899175Z",
     "shell.execute_reply": "2021-03-10T19:09:50.898804Z"
    }
   },
   "outputs": [],
   "source": [
    "df.columns = ['location','doses']"
   ]
  },
  {
   "cell_type": "markdown",
   "metadata": {},
   "source": [
    "Grab the overall California total"
   ]
  },
  {
   "cell_type": "code",
   "execution_count": 11,
   "metadata": {
    "execution": {
     "iopub.execute_input": "2021-03-10T19:09:50.902531Z",
     "iopub.status.busy": "2021-03-10T19:09:50.901758Z",
     "iopub.status.idle": "2021-03-10T19:09:50.903662Z",
     "shell.execute_reply": "2021-03-10T19:09:50.903246Z"
    }
   },
   "outputs": [],
   "source": [
    "add = {'location':'California','doses':dataJson[0]['dataValues'][2]}"
   ]
  },
  {
   "cell_type": "code",
   "execution_count": 12,
   "metadata": {
    "execution": {
     "iopub.execute_input": "2021-03-10T19:09:50.909312Z",
     "iopub.status.busy": "2021-03-10T19:09:50.908517Z",
     "iopub.status.idle": "2021-03-10T19:09:50.910380Z",
     "shell.execute_reply": "2021-03-10T19:09:50.910018Z"
    }
   },
   "outputs": [],
   "source": [
    "df = df.append(add, ignore_index=True)"
   ]
  },
  {
   "cell_type": "code",
   "execution_count": 13,
   "metadata": {
    "execution": {
     "iopub.execute_input": "2021-03-10T19:09:50.914212Z",
     "iopub.status.busy": "2021-03-10T19:09:50.913450Z",
     "iopub.status.idle": "2021-03-10T19:09:50.915327Z",
     "shell.execute_reply": "2021-03-10T19:09:50.914948Z"
    }
   },
   "outputs": [],
   "source": [
    "df = df.sort_values(by='location')"
   ]
  },
  {
   "cell_type": "code",
   "execution_count": 14,
   "metadata": {
    "execution": {
     "iopub.execute_input": "2021-03-10T19:09:50.920411Z",
     "iopub.status.busy": "2021-03-10T19:09:50.919650Z",
     "iopub.status.idle": "2021-03-10T19:09:50.921247Z",
     "shell.execute_reply": "2021-03-10T19:09:50.921585Z"
    }
   },
   "outputs": [],
   "source": [
    "df = df[df.location == 'California'].append(df[df.location != 'California']).reset_index(drop=True)"
   ]
  },
  {
   "cell_type": "code",
   "execution_count": null,
   "metadata": {},
   "outputs": [],
   "source": []
  },
  {
   "cell_type": "code",
   "execution_count": 15,
   "metadata": {
    "execution": {
     "iopub.execute_input": "2021-03-10T19:09:50.924419Z",
     "iopub.status.busy": "2021-03-10T19:09:50.923983Z",
     "iopub.status.idle": "2021-03-10T19:09:50.938342Z",
     "shell.execute_reply": "2021-03-10T19:09:50.938689Z"
    }
   },
   "outputs": [],
   "source": [
    "tz = pytz.timezone(\"America/New_York\")"
   ]
  },
  {
   "cell_type": "code",
   "execution_count": 16,
   "metadata": {
    "execution": {
     "iopub.execute_input": "2021-03-10T19:09:50.942114Z",
     "iopub.status.busy": "2021-03-10T19:09:50.941215Z",
     "iopub.status.idle": "2021-03-10T19:09:50.942829Z",
     "shell.execute_reply": "2021-03-10T19:09:50.943192Z"
    }
   },
   "outputs": [],
   "source": [
    "today = datetime.now(tz).date()"
   ]
  },
  {
   "cell_type": "code",
   "execution_count": 17,
   "metadata": {
    "execution": {
     "iopub.execute_input": "2021-03-10T19:09:50.946595Z",
     "iopub.status.busy": "2021-03-10T19:09:50.945828Z",
     "iopub.status.idle": "2021-03-10T19:09:50.947363Z",
     "shell.execute_reply": "2021-03-10T19:09:50.947739Z"
    }
   },
   "outputs": [],
   "source": [
    "data_dir = os.path.join(os.path.abspath(\"\"), \"data\")"
   ]
  },
  {
   "cell_type": "code",
   "execution_count": 18,
   "metadata": {
    "execution": {
     "iopub.execute_input": "2021-03-10T19:09:50.951407Z",
     "iopub.status.busy": "2021-03-10T19:09:50.950391Z",
     "iopub.status.idle": "2021-03-10T19:09:50.954370Z",
     "shell.execute_reply": "2021-03-10T19:09:50.953926Z"
    }
   },
   "outputs": [],
   "source": [
    "df.to_csv(os.path.join(data_dir, f\"{today}.csv\"), index=False)"
   ]
  },
  {
   "cell_type": "code",
   "execution_count": null,
   "metadata": {},
   "outputs": [],
   "source": []
  }
 ],
 "metadata": {
  "kernelspec": {
   "display_name": "Python 3",
   "language": "python",
   "name": "python3"
  },
  "language_info": {
   "codemirror_mode": {
    "name": "ipython",
    "version": 3
   },
   "file_extension": ".py",
   "mimetype": "text/x-python",
   "name": "python",
   "nbconvert_exporter": "python",
   "pygments_lexer": "ipython3",
   "version": "3.8.8"
  }
 },
 "nbformat": 4,
 "nbformat_minor": 4
}
