{
 "cells": [
  {
   "cell_type": "markdown",
   "metadata": {},
   "source": [
    "# California COVID vaccinations scrape"
   ]
  },
  {
   "cell_type": "markdown",
   "metadata": {},
   "source": [
    "By [Amy O'Kruk](https://twitter.com/amyokruk)"
   ]
  },
  {
   "cell_type": "markdown",
   "metadata": {},
   "source": [
    "Downloads data on vaccine doses administered by county and statewide from a Tableau-powered dashboard from the California Department of Public Health."
   ]
  },
  {
   "cell_type": "code",
   "execution_count": 1,
   "metadata": {
    "execution": {
     "iopub.execute_input": "2021-03-21T08:15:06.351652Z",
     "iopub.status.busy": "2021-03-21T08:15:06.350422Z",
     "iopub.status.idle": "2021-03-21T08:15:06.755194Z",
     "shell.execute_reply": "2021-03-21T08:15:06.754595Z"
    }
   },
   "outputs": [],
   "source": [
    "import pandas as pd\n",
    "import requests\n",
    "from bs4 import BeautifulSoup\n",
    "import json\n",
    "import re\n",
    "import time\n",
    "from time import gmtime, strftime \n",
    "import os\n",
    "import pytz\n",
    "from datetime import datetime"
   ]
  },
  {
   "cell_type": "markdown",
   "metadata": {},
   "source": [
    "Scrape the dashboard page"
   ]
  },
  {
   "cell_type": "code",
   "execution_count": 2,
   "metadata": {
    "execution": {
     "iopub.execute_input": "2021-03-21T08:15:06.761175Z",
     "iopub.status.busy": "2021-03-21T08:15:06.758691Z",
     "iopub.status.idle": "2021-03-21T08:15:07.183238Z",
     "shell.execute_reply": "2021-03-21T08:15:07.182435Z"
    }
   },
   "outputs": [],
   "source": [
    "url = \"https://public.tableau.com/interactive/views/COVID-19VaccineDashboardPublic/Vaccine?:embed=y&:showVizHome=n&:apiID=host0\"\n",
    "\n",
    "r = requests.get(url)\n",
    "soup = BeautifulSoup(r.text, \"html.parser\")"
   ]
  },
  {
   "cell_type": "code",
   "execution_count": 3,
   "metadata": {
    "execution": {
     "iopub.execute_input": "2021-03-21T08:15:07.189145Z",
     "iopub.status.busy": "2021-03-21T08:15:07.187909Z",
     "iopub.status.idle": "2021-03-21T08:15:07.189737Z",
     "shell.execute_reply": "2021-03-21T08:15:07.190189Z"
    }
   },
   "outputs": [],
   "source": [
    "tableauData = json.loads(soup.find(\"textarea\",{\"id\": \"tsConfigContainer\"}).text)"
   ]
  },
  {
   "cell_type": "markdown",
   "metadata": {},
   "source": [
    "Get the link to the Tableau data"
   ]
  },
  {
   "cell_type": "code",
   "execution_count": 4,
   "metadata": {
    "execution": {
     "iopub.execute_input": "2021-03-21T08:15:07.196174Z",
     "iopub.status.busy": "2021-03-21T08:15:07.195699Z",
     "iopub.status.idle": "2021-03-21T08:15:07.198950Z",
     "shell.execute_reply": "2021-03-21T08:15:07.198527Z"
    }
   },
   "outputs": [],
   "source": [
    "dataUrl = f'https://public.tableau.com{tableauData[\"vizql_root\"]}/bootstrapSession/sessions/{tableauData[\"sessionid\"]}'"
   ]
  },
  {
   "cell_type": "code",
   "execution_count": 5,
   "metadata": {
    "execution": {
     "iopub.execute_input": "2021-03-21T08:15:07.205255Z",
     "iopub.status.busy": "2021-03-21T08:15:07.204737Z",
     "iopub.status.idle": "2021-03-21T08:15:26.760524Z",
     "shell.execute_reply": "2021-03-21T08:15:26.760051Z"
    }
   },
   "outputs": [],
   "source": [
    "r = requests.post(dataUrl, data= {\n",
    "    \"sheet_id\": tableauData[\"sheetId\"],\n",
    "})\n",
    "\n",
    "dataReg = re.search('\\d+;({.*})\\d+;({.*})', r.text, re.MULTILINE)\n",
    "data1 = json.loads(dataReg.group(2))\n",
    "\n",
    "dataJson = data1[\"secondaryInfo\"][\"presModelMap\"][\"dataDictionary\"][\"presModelHolder\"][\"genDataDictionaryPresModel\"][\"dataSegments\"][\"0\"][\"dataColumns\"]"
   ]
  },
  {
   "cell_type": "markdown",
   "metadata": {},
   "source": [
    "Isolate what you want"
   ]
  },
  {
   "cell_type": "code",
   "execution_count": 6,
   "metadata": {
    "execution": {
     "iopub.execute_input": "2021-03-21T08:15:26.764236Z",
     "iopub.status.busy": "2021-03-21T08:15:26.763722Z",
     "iopub.status.idle": "2021-03-21T08:15:26.767293Z",
     "shell.execute_reply": "2021-03-21T08:15:26.766836Z"
    }
   },
   "outputs": [],
   "source": [
    "counties = dataJson[2]['dataValues'][:58]"
   ]
  },
  {
   "cell_type": "code",
   "execution_count": 7,
   "metadata": {
    "execution": {
     "iopub.execute_input": "2021-03-21T08:15:26.771551Z",
     "iopub.status.busy": "2021-03-21T08:15:26.770423Z",
     "iopub.status.idle": "2021-03-21T08:15:26.772140Z",
     "shell.execute_reply": "2021-03-21T08:15:26.772542Z"
    }
   },
   "outputs": [],
   "source": [
    "doses = dataJson[0]['dataValues'][3:61]"
   ]
  },
  {
   "cell_type": "markdown",
   "metadata": {},
   "source": [
    "Data formatting"
   ]
  },
  {
   "cell_type": "code",
   "execution_count": 8,
   "metadata": {
    "execution": {
     "iopub.execute_input": "2021-03-21T08:15:26.776661Z",
     "iopub.status.busy": "2021-03-21T08:15:26.775503Z",
     "iopub.status.idle": "2021-03-21T08:15:26.777267Z",
     "shell.execute_reply": "2021-03-21T08:15:26.777659Z"
    }
   },
   "outputs": [],
   "source": [
    "zipped = dict(zip(counties, doses))"
   ]
  },
  {
   "cell_type": "code",
   "execution_count": 9,
   "metadata": {
    "execution": {
     "iopub.execute_input": "2021-03-21T08:15:26.783786Z",
     "iopub.status.busy": "2021-03-21T08:15:26.782732Z",
     "iopub.status.idle": "2021-03-21T08:15:26.784331Z",
     "shell.execute_reply": "2021-03-21T08:15:26.784751Z"
    }
   },
   "outputs": [],
   "source": [
    "df = pd.Series(zipped).reset_index()"
   ]
  },
  {
   "cell_type": "code",
   "execution_count": 10,
   "metadata": {
    "execution": {
     "iopub.execute_input": "2021-03-21T08:15:26.788547Z",
     "iopub.status.busy": "2021-03-21T08:15:26.787700Z",
     "iopub.status.idle": "2021-03-21T08:15:26.789412Z",
     "shell.execute_reply": "2021-03-21T08:15:26.789805Z"
    }
   },
   "outputs": [],
   "source": [
    "df.columns = ['location','doses']"
   ]
  },
  {
   "cell_type": "markdown",
   "metadata": {},
   "source": [
    "Grab the overall California total"
   ]
  },
  {
   "cell_type": "code",
   "execution_count": 11,
   "metadata": {
    "execution": {
     "iopub.execute_input": "2021-03-21T08:15:26.793599Z",
     "iopub.status.busy": "2021-03-21T08:15:26.792759Z",
     "iopub.status.idle": "2021-03-21T08:15:26.794466Z",
     "shell.execute_reply": "2021-03-21T08:15:26.794890Z"
    }
   },
   "outputs": [],
   "source": [
    "add = {'location':'California','doses':dataJson[0]['dataValues'][2]}"
   ]
  },
  {
   "cell_type": "code",
   "execution_count": 12,
   "metadata": {
    "execution": {
     "iopub.execute_input": "2021-03-21T08:15:26.801440Z",
     "iopub.status.busy": "2021-03-21T08:15:26.800412Z",
     "iopub.status.idle": "2021-03-21T08:15:26.802153Z",
     "shell.execute_reply": "2021-03-21T08:15:26.802579Z"
    }
   },
   "outputs": [],
   "source": [
    "df = df.append(add, ignore_index=True)"
   ]
  },
  {
   "cell_type": "code",
   "execution_count": 13,
   "metadata": {
    "execution": {
     "iopub.execute_input": "2021-03-21T08:15:26.813895Z",
     "iopub.status.busy": "2021-03-21T08:15:26.813342Z",
     "iopub.status.idle": "2021-03-21T08:15:26.814463Z",
     "shell.execute_reply": "2021-03-21T08:15:26.814852Z"
    }
   },
   "outputs": [],
   "source": [
    "df = df.sort_values(by='location')"
   ]
  },
  {
   "cell_type": "code",
   "execution_count": 14,
   "metadata": {
    "execution": {
     "iopub.execute_input": "2021-03-21T08:15:26.817819Z",
     "iopub.status.busy": "2021-03-21T08:15:26.817336Z",
     "iopub.status.idle": "2021-03-21T08:15:26.821454Z",
     "shell.execute_reply": "2021-03-21T08:15:26.821826Z"
    }
   },
   "outputs": [],
   "source": [
    "df = df[df.location == 'California'].append(df[df.location != 'California']).reset_index(drop=True)"
   ]
  },
  {
   "cell_type": "code",
   "execution_count": null,
   "metadata": {},
   "outputs": [],
   "source": []
  },
  {
   "cell_type": "code",
   "execution_count": 15,
   "metadata": {
    "execution": {
     "iopub.execute_input": "2021-03-21T08:15:26.825073Z",
     "iopub.status.busy": "2021-03-21T08:15:26.824552Z",
     "iopub.status.idle": "2021-03-21T08:15:26.841481Z",
     "shell.execute_reply": "2021-03-21T08:15:26.840992Z"
    }
   },
   "outputs": [],
   "source": [
    "tz = pytz.timezone(\"America/New_York\")"
   ]
  },
  {
   "cell_type": "code",
   "execution_count": 16,
   "metadata": {
    "execution": {
     "iopub.execute_input": "2021-03-21T08:15:26.845170Z",
     "iopub.status.busy": "2021-03-21T08:15:26.844288Z",
     "iopub.status.idle": "2021-03-21T08:15:26.845970Z",
     "shell.execute_reply": "2021-03-21T08:15:26.846427Z"
    }
   },
   "outputs": [],
   "source": [
    "today = datetime.now(tz).date()"
   ]
  },
  {
   "cell_type": "code",
   "execution_count": 17,
   "metadata": {
    "execution": {
     "iopub.execute_input": "2021-03-21T08:15:26.850290Z",
     "iopub.status.busy": "2021-03-21T08:15:26.849275Z",
     "iopub.status.idle": "2021-03-21T08:15:26.851459Z",
     "shell.execute_reply": "2021-03-21T08:15:26.850945Z"
    }
   },
   "outputs": [],
   "source": [
    "data_dir = os.path.join(os.path.abspath(\"\"), \"data\")"
   ]
  },
  {
   "cell_type": "code",
   "execution_count": 18,
   "metadata": {
    "execution": {
     "iopub.execute_input": "2021-03-21T08:15:26.856133Z",
     "iopub.status.busy": "2021-03-21T08:15:26.854328Z",
     "iopub.status.idle": "2021-03-21T08:15:26.861012Z",
     "shell.execute_reply": "2021-03-21T08:15:26.860618Z"
    }
   },
   "outputs": [],
   "source": [
    "df.to_csv(os.path.join(data_dir, f\"{today}.csv\"), index=False)"
   ]
  },
  {
   "cell_type": "code",
   "execution_count": null,
   "metadata": {},
   "outputs": [],
   "source": []
  }
 ],
 "metadata": {
  "kernelspec": {
   "display_name": "Python 3",
   "language": "python",
   "name": "python3"
  },
  "language_info": {
   "codemirror_mode": {
    "name": "ipython",
    "version": 3
   },
   "file_extension": ".py",
   "mimetype": "text/x-python",
   "name": "python",
   "nbconvert_exporter": "python",
   "pygments_lexer": "ipython3",
   "version": "3.8.8"
  }
 },
 "nbformat": 4,
 "nbformat_minor": 4
}
