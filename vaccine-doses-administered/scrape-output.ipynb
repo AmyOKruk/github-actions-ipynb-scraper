{
 "cells": [
  {
   "cell_type": "markdown",
   "metadata": {},
   "source": [
    "# California COVID vaccinations scrape"
   ]
  },
  {
   "cell_type": "markdown",
   "metadata": {},
   "source": [
    "By [Amy O'Kruk](https://twitter.com/amyokruk)"
   ]
  },
  {
   "cell_type": "markdown",
   "metadata": {},
   "source": [
    "Downloads data on vaccine doses administered by county and statewide from a Tableau-powered dashboard from the California Department of Public Health."
   ]
  },
  {
   "cell_type": "code",
   "execution_count": 1,
   "metadata": {
    "execution": {
     "iopub.execute_input": "2021-03-24T09:29:49.818943Z",
     "iopub.status.busy": "2021-03-24T09:29:49.818268Z",
     "iopub.status.idle": "2021-03-24T09:29:50.336845Z",
     "shell.execute_reply": "2021-03-24T09:29:50.335918Z"
    }
   },
   "outputs": [],
   "source": [
    "import pandas as pd\n",
    "import requests\n",
    "from bs4 import BeautifulSoup\n",
    "import json\n",
    "import re\n",
    "import time\n",
    "from time import gmtime, strftime \n",
    "import os\n",
    "import pytz\n",
    "from datetime import datetime"
   ]
  },
  {
   "cell_type": "markdown",
   "metadata": {},
   "source": [
    "Scrape the dashboard page"
   ]
  },
  {
   "cell_type": "code",
   "execution_count": 2,
   "metadata": {
    "execution": {
     "iopub.execute_input": "2021-03-24T09:29:50.343023Z",
     "iopub.status.busy": "2021-03-24T09:29:50.340811Z",
     "iopub.status.idle": "2021-03-24T09:29:50.794106Z",
     "shell.execute_reply": "2021-03-24T09:29:50.793294Z"
    }
   },
   "outputs": [],
   "source": [
    "url = \"https://public.tableau.com/interactive/views/COVID-19VaccineDashboardPublic/Vaccine?:embed=y&:showVizHome=n&:apiID=host0\"\n",
    "\n",
    "r = requests.get(url)\n",
    "soup = BeautifulSoup(r.text, \"html.parser\")"
   ]
  },
  {
   "cell_type": "code",
   "execution_count": 3,
   "metadata": {
    "execution": {
     "iopub.execute_input": "2021-03-24T09:29:50.798845Z",
     "iopub.status.busy": "2021-03-24T09:29:50.798278Z",
     "iopub.status.idle": "2021-03-24T09:29:50.801558Z",
     "shell.execute_reply": "2021-03-24T09:29:50.801986Z"
    }
   },
   "outputs": [],
   "source": [
    "tableauData = json.loads(soup.find(\"textarea\",{\"id\": \"tsConfigContainer\"}).text)"
   ]
  },
  {
   "cell_type": "markdown",
   "metadata": {},
   "source": [
    "Get the link to the Tableau data"
   ]
  },
  {
   "cell_type": "code",
   "execution_count": 4,
   "metadata": {
    "execution": {
     "iopub.execute_input": "2021-03-24T09:29:50.806020Z",
     "iopub.status.busy": "2021-03-24T09:29:50.805195Z",
     "iopub.status.idle": "2021-03-24T09:29:50.807433Z",
     "shell.execute_reply": "2021-03-24T09:29:50.807827Z"
    }
   },
   "outputs": [],
   "source": [
    "dataUrl = f'https://public.tableau.com{tableauData[\"vizql_root\"]}/bootstrapSession/sessions/{tableauData[\"sessionid\"]}'"
   ]
  },
  {
   "cell_type": "code",
   "execution_count": 5,
   "metadata": {
    "execution": {
     "iopub.execute_input": "2021-03-24T09:29:50.814402Z",
     "iopub.status.busy": "2021-03-24T09:29:50.813791Z",
     "iopub.status.idle": "2021-03-24T09:29:51.094733Z",
     "shell.execute_reply": "2021-03-24T09:29:51.094178Z"
    }
   },
   "outputs": [],
   "source": [
    "r = requests.post(dataUrl, data= {\n",
    "    \"sheet_id\": tableauData[\"sheetId\"],\n",
    "})\n",
    "\n",
    "dataReg = re.search('\\d+;({.*})\\d+;({.*})', r.text, re.MULTILINE)\n",
    "data1 = json.loads(dataReg.group(2))\n",
    "\n",
    "dataJson = data1[\"secondaryInfo\"][\"presModelMap\"][\"dataDictionary\"][\"presModelHolder\"][\"genDataDictionaryPresModel\"][\"dataSegments\"][\"0\"][\"dataColumns\"]"
   ]
  },
  {
   "cell_type": "markdown",
   "metadata": {},
   "source": [
    "Isolate what you want"
   ]
  },
  {
   "cell_type": "code",
   "execution_count": 6,
   "metadata": {
    "execution": {
     "iopub.execute_input": "2021-03-24T09:29:51.098646Z",
     "iopub.status.busy": "2021-03-24T09:29:51.098146Z",
     "iopub.status.idle": "2021-03-24T09:29:51.101877Z",
     "shell.execute_reply": "2021-03-24T09:29:51.101444Z"
    }
   },
   "outputs": [],
   "source": [
    "counties = dataJson[2]['dataValues'][:58]"
   ]
  },
  {
   "cell_type": "code",
   "execution_count": 7,
   "metadata": {
    "execution": {
     "iopub.execute_input": "2021-03-24T09:29:51.105770Z",
     "iopub.status.busy": "2021-03-24T09:29:51.105133Z",
     "iopub.status.idle": "2021-03-24T09:29:51.108492Z",
     "shell.execute_reply": "2021-03-24T09:29:51.108907Z"
    }
   },
   "outputs": [],
   "source": [
    "doses = dataJson[0]['dataValues'][3:61]"
   ]
  },
  {
   "cell_type": "markdown",
   "metadata": {},
   "source": [
    "Data formatting"
   ]
  },
  {
   "cell_type": "code",
   "execution_count": 8,
   "metadata": {
    "execution": {
     "iopub.execute_input": "2021-03-24T09:29:51.112294Z",
     "iopub.status.busy": "2021-03-24T09:29:51.111767Z",
     "iopub.status.idle": "2021-03-24T09:29:51.115383Z",
     "shell.execute_reply": "2021-03-24T09:29:51.114920Z"
    }
   },
   "outputs": [],
   "source": [
    "zipped = dict(zip(counties, doses))"
   ]
  },
  {
   "cell_type": "code",
   "execution_count": 9,
   "metadata": {
    "execution": {
     "iopub.execute_input": "2021-03-24T09:29:51.121167Z",
     "iopub.status.busy": "2021-03-24T09:29:51.120298Z",
     "iopub.status.idle": "2021-03-24T09:29:51.124341Z",
     "shell.execute_reply": "2021-03-24T09:29:51.123810Z"
    }
   },
   "outputs": [],
   "source": [
    "df = pd.Series(zipped).reset_index()"
   ]
  },
  {
   "cell_type": "code",
   "execution_count": 10,
   "metadata": {
    "execution": {
     "iopub.execute_input": "2021-03-24T09:29:51.128901Z",
     "iopub.status.busy": "2021-03-24T09:29:51.128146Z",
     "iopub.status.idle": "2021-03-24T09:29:51.132157Z",
     "shell.execute_reply": "2021-03-24T09:29:51.132564Z"
    }
   },
   "outputs": [],
   "source": [
    "df.columns = ['location','doses']"
   ]
  },
  {
   "cell_type": "markdown",
   "metadata": {},
   "source": [
    "Grab the overall California total"
   ]
  },
  {
   "cell_type": "code",
   "execution_count": 11,
   "metadata": {
    "execution": {
     "iopub.execute_input": "2021-03-24T09:29:51.136293Z",
     "iopub.status.busy": "2021-03-24T09:29:51.135778Z",
     "iopub.status.idle": "2021-03-24T09:29:51.138974Z",
     "shell.execute_reply": "2021-03-24T09:29:51.139371Z"
    }
   },
   "outputs": [],
   "source": [
    "add = {'location':'California','doses':dataJson[0]['dataValues'][2]}"
   ]
  },
  {
   "cell_type": "code",
   "execution_count": 12,
   "metadata": {
    "execution": {
     "iopub.execute_input": "2021-03-24T09:29:51.146732Z",
     "iopub.status.busy": "2021-03-24T09:29:51.145453Z",
     "iopub.status.idle": "2021-03-24T09:29:51.147334Z",
     "shell.execute_reply": "2021-03-24T09:29:51.147794Z"
    }
   },
   "outputs": [],
   "source": [
    "df = df.append(add, ignore_index=True)"
   ]
  },
  {
   "cell_type": "code",
   "execution_count": 13,
   "metadata": {
    "execution": {
     "iopub.execute_input": "2021-03-24T09:29:51.153331Z",
     "iopub.status.busy": "2021-03-24T09:29:51.151979Z",
     "iopub.status.idle": "2021-03-24T09:29:51.153950Z",
     "shell.execute_reply": "2021-03-24T09:29:51.154441Z"
    }
   },
   "outputs": [],
   "source": [
    "df = df.sort_values(by='location')"
   ]
  },
  {
   "cell_type": "code",
   "execution_count": 14,
   "metadata": {
    "execution": {
     "iopub.execute_input": "2021-03-24T09:29:51.160126Z",
     "iopub.status.busy": "2021-03-24T09:29:51.159576Z",
     "iopub.status.idle": "2021-03-24T09:29:51.163774Z",
     "shell.execute_reply": "2021-03-24T09:29:51.163197Z"
    }
   },
   "outputs": [],
   "source": [
    "df = df[df.location == 'California'].append(df[df.location != 'California']).reset_index(drop=True)"
   ]
  },
  {
   "cell_type": "code",
   "execution_count": null,
   "metadata": {},
   "outputs": [],
   "source": []
  },
  {
   "cell_type": "code",
   "execution_count": 15,
   "metadata": {
    "execution": {
     "iopub.execute_input": "2021-03-24T09:29:51.168850Z",
     "iopub.status.busy": "2021-03-24T09:29:51.166858Z",
     "iopub.status.idle": "2021-03-24T09:29:51.188054Z",
     "shell.execute_reply": "2021-03-24T09:29:51.187506Z"
    }
   },
   "outputs": [],
   "source": [
    "tz = pytz.timezone(\"America/New_York\")"
   ]
  },
  {
   "cell_type": "code",
   "execution_count": 16,
   "metadata": {
    "execution": {
     "iopub.execute_input": "2021-03-24T09:29:51.192501Z",
     "iopub.status.busy": "2021-03-24T09:29:51.191260Z",
     "iopub.status.idle": "2021-03-24T09:29:51.193181Z",
     "shell.execute_reply": "2021-03-24T09:29:51.193666Z"
    }
   },
   "outputs": [],
   "source": [
    "today = datetime.now(tz).date()"
   ]
  },
  {
   "cell_type": "code",
   "execution_count": 17,
   "metadata": {
    "execution": {
     "iopub.execute_input": "2021-03-24T09:29:51.198555Z",
     "iopub.status.busy": "2021-03-24T09:29:51.197002Z",
     "iopub.status.idle": "2021-03-24T09:29:51.199155Z",
     "shell.execute_reply": "2021-03-24T09:29:51.199647Z"
    }
   },
   "outputs": [],
   "source": [
    "data_dir = os.path.join(os.path.abspath(\"\"), \"data\")"
   ]
  },
  {
   "cell_type": "code",
   "execution_count": 18,
   "metadata": {
    "execution": {
     "iopub.execute_input": "2021-03-24T09:29:51.204142Z",
     "iopub.status.busy": "2021-03-24T09:29:51.202859Z",
     "iopub.status.idle": "2021-03-24T09:29:51.217484Z",
     "shell.execute_reply": "2021-03-24T09:29:51.216779Z"
    }
   },
   "outputs": [],
   "source": [
    "df.to_csv(os.path.join(data_dir, f\"{today}.csv\"), index=False)"
   ]
  },
  {
   "cell_type": "code",
   "execution_count": null,
   "metadata": {},
   "outputs": [],
   "source": []
  }
 ],
 "metadata": {
  "kernelspec": {
   "display_name": "Python 3",
   "language": "python",
   "name": "python3"
  },
  "language_info": {
   "codemirror_mode": {
    "name": "ipython",
    "version": 3
   },
   "file_extension": ".py",
   "mimetype": "text/x-python",
   "name": "python",
   "nbconvert_exporter": "python",
   "pygments_lexer": "ipython3",
   "version": "3.8.8"
  }
 },
 "nbformat": 4,
 "nbformat_minor": 4
}
