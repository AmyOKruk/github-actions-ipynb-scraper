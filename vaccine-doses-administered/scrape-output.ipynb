{
 "cells": [
  {
   "cell_type": "markdown",
   "metadata": {},
   "source": [
    "# California COVID vaccinations scrape"
   ]
  },
  {
   "cell_type": "markdown",
   "metadata": {},
   "source": [
    "By [Amy O'Kruk](https://twitter.com/amyokruk)"
   ]
  },
  {
   "cell_type": "markdown",
   "metadata": {},
   "source": [
    "Downloads data on vaccine doses administered by county and statewide from a Tableau-powered dashboard from the California Department of Public Health."
   ]
  },
  {
   "cell_type": "code",
   "execution_count": 1,
   "metadata": {
    "execution": {
     "iopub.execute_input": "2021-03-15T11:12:03.928220Z",
     "iopub.status.busy": "2021-03-15T11:12:03.927551Z",
     "iopub.status.idle": "2021-03-15T11:12:04.438895Z",
     "shell.execute_reply": "2021-03-15T11:12:04.437935Z"
    }
   },
   "outputs": [],
   "source": [
    "import pandas as pd\n",
    "import requests\n",
    "from bs4 import BeautifulSoup\n",
    "import json\n",
    "import re\n",
    "import time\n",
    "from time import gmtime, strftime \n",
    "import os\n",
    "import pytz\n",
    "from datetime import datetime"
   ]
  },
  {
   "cell_type": "markdown",
   "metadata": {},
   "source": [
    "Scrape the dashboard page"
   ]
  },
  {
   "cell_type": "code",
   "execution_count": 2,
   "metadata": {
    "execution": {
     "iopub.execute_input": "2021-03-15T11:12:04.445732Z",
     "iopub.status.busy": "2021-03-15T11:12:04.444973Z",
     "iopub.status.idle": "2021-03-15T11:12:04.696458Z",
     "shell.execute_reply": "2021-03-15T11:12:04.695936Z"
    }
   },
   "outputs": [],
   "source": [
    "url = \"https://public.tableau.com/interactive/views/COVID-19VaccineDashboardPublic/Vaccine?:embed=y&:showVizHome=n&:apiID=host0\"\n",
    "\n",
    "r = requests.get(url)\n",
    "soup = BeautifulSoup(r.text, \"html.parser\")"
   ]
  },
  {
   "cell_type": "code",
   "execution_count": 3,
   "metadata": {
    "execution": {
     "iopub.execute_input": "2021-03-15T11:12:04.701444Z",
     "iopub.status.busy": "2021-03-15T11:12:04.700906Z",
     "iopub.status.idle": "2021-03-15T11:12:04.705185Z",
     "shell.execute_reply": "2021-03-15T11:12:04.704116Z"
    }
   },
   "outputs": [],
   "source": [
    "tableauData = json.loads(soup.find(\"textarea\",{\"id\": \"tsConfigContainer\"}).text)"
   ]
  },
  {
   "cell_type": "markdown",
   "metadata": {},
   "source": [
    "Get the link to the Tableau data"
   ]
  },
  {
   "cell_type": "code",
   "execution_count": 4,
   "metadata": {
    "execution": {
     "iopub.execute_input": "2021-03-15T11:12:04.708770Z",
     "iopub.status.busy": "2021-03-15T11:12:04.708274Z",
     "iopub.status.idle": "2021-03-15T11:12:04.711541Z",
     "shell.execute_reply": "2021-03-15T11:12:04.712390Z"
    }
   },
   "outputs": [],
   "source": [
    "dataUrl = f'https://public.tableau.com{tableauData[\"vizql_root\"]}/bootstrapSession/sessions/{tableauData[\"sessionid\"]}'"
   ]
  },
  {
   "cell_type": "code",
   "execution_count": 5,
   "metadata": {
    "execution": {
     "iopub.execute_input": "2021-03-15T11:12:04.719522Z",
     "iopub.status.busy": "2021-03-15T11:12:04.718943Z",
     "iopub.status.idle": "2021-03-15T11:12:04.909244Z",
     "shell.execute_reply": "2021-03-15T11:12:04.908711Z"
    }
   },
   "outputs": [],
   "source": [
    "r = requests.post(dataUrl, data= {\n",
    "    \"sheet_id\": tableauData[\"sheetId\"],\n",
    "})\n",
    "\n",
    "dataReg = re.search('\\d+;({.*})\\d+;({.*})', r.text, re.MULTILINE)\n",
    "data1 = json.loads(dataReg.group(2))\n",
    "\n",
    "dataJson = data1[\"secondaryInfo\"][\"presModelMap\"][\"dataDictionary\"][\"presModelHolder\"][\"genDataDictionaryPresModel\"][\"dataSegments\"][\"0\"][\"dataColumns\"]"
   ]
  },
  {
   "cell_type": "markdown",
   "metadata": {},
   "source": [
    "Isolate what you want"
   ]
  },
  {
   "cell_type": "code",
   "execution_count": 6,
   "metadata": {
    "execution": {
     "iopub.execute_input": "2021-03-15T11:12:04.913311Z",
     "iopub.status.busy": "2021-03-15T11:12:04.912601Z",
     "iopub.status.idle": "2021-03-15T11:12:04.916237Z",
     "shell.execute_reply": "2021-03-15T11:12:04.916722Z"
    }
   },
   "outputs": [],
   "source": [
    "counties = dataJson[2]['dataValues'][:58]"
   ]
  },
  {
   "cell_type": "code",
   "execution_count": 7,
   "metadata": {
    "execution": {
     "iopub.execute_input": "2021-03-15T11:12:04.921089Z",
     "iopub.status.busy": "2021-03-15T11:12:04.920399Z",
     "iopub.status.idle": "2021-03-15T11:12:04.924386Z",
     "shell.execute_reply": "2021-03-15T11:12:04.923902Z"
    }
   },
   "outputs": [],
   "source": [
    "doses = dataJson[0]['dataValues'][3:61]"
   ]
  },
  {
   "cell_type": "markdown",
   "metadata": {},
   "source": [
    "Data formatting"
   ]
  },
  {
   "cell_type": "code",
   "execution_count": 8,
   "metadata": {
    "execution": {
     "iopub.execute_input": "2021-03-15T11:12:04.927758Z",
     "iopub.status.busy": "2021-03-15T11:12:04.927240Z",
     "iopub.status.idle": "2021-03-15T11:12:04.930914Z",
     "shell.execute_reply": "2021-03-15T11:12:04.930363Z"
    }
   },
   "outputs": [],
   "source": [
    "zipped = dict(zip(counties, doses))"
   ]
  },
  {
   "cell_type": "code",
   "execution_count": 9,
   "metadata": {
    "execution": {
     "iopub.execute_input": "2021-03-15T11:12:04.936946Z",
     "iopub.status.busy": "2021-03-15T11:12:04.936229Z",
     "iopub.status.idle": "2021-03-15T11:12:04.939547Z",
     "shell.execute_reply": "2021-03-15T11:12:04.940140Z"
    }
   },
   "outputs": [],
   "source": [
    "df = pd.Series(zipped).reset_index()"
   ]
  },
  {
   "cell_type": "code",
   "execution_count": 10,
   "metadata": {
    "execution": {
     "iopub.execute_input": "2021-03-15T11:12:04.943766Z",
     "iopub.status.busy": "2021-03-15T11:12:04.943276Z",
     "iopub.status.idle": "2021-03-15T11:12:04.946978Z",
     "shell.execute_reply": "2021-03-15T11:12:04.946490Z"
    }
   },
   "outputs": [],
   "source": [
    "df.columns = ['location','doses']"
   ]
  },
  {
   "cell_type": "markdown",
   "metadata": {},
   "source": [
    "Grab the overall California total"
   ]
  },
  {
   "cell_type": "code",
   "execution_count": 11,
   "metadata": {
    "execution": {
     "iopub.execute_input": "2021-03-15T11:12:04.950680Z",
     "iopub.status.busy": "2021-03-15T11:12:04.950085Z",
     "iopub.status.idle": "2021-03-15T11:12:04.954924Z",
     "shell.execute_reply": "2021-03-15T11:12:04.954166Z"
    }
   },
   "outputs": [],
   "source": [
    "add = {'location':'California','doses':dataJson[0]['dataValues'][2]}"
   ]
  },
  {
   "cell_type": "code",
   "execution_count": 12,
   "metadata": {
    "execution": {
     "iopub.execute_input": "2021-03-15T11:12:04.961339Z",
     "iopub.status.busy": "2021-03-15T11:12:04.960769Z",
     "iopub.status.idle": "2021-03-15T11:12:04.964553Z",
     "shell.execute_reply": "2021-03-15T11:12:04.964087Z"
    }
   },
   "outputs": [],
   "source": [
    "df = df.append(add, ignore_index=True)"
   ]
  },
  {
   "cell_type": "code",
   "execution_count": 13,
   "metadata": {
    "execution": {
     "iopub.execute_input": "2021-03-15T11:12:04.968987Z",
     "iopub.status.busy": "2021-03-15T11:12:04.968478Z",
     "iopub.status.idle": "2021-03-15T11:12:04.971793Z",
     "shell.execute_reply": "2021-03-15T11:12:04.972337Z"
    }
   },
   "outputs": [],
   "source": [
    "df = df.sort_values(by='location')"
   ]
  },
  {
   "cell_type": "code",
   "execution_count": 14,
   "metadata": {
    "execution": {
     "iopub.execute_input": "2021-03-15T11:12:04.978482Z",
     "iopub.status.busy": "2021-03-15T11:12:04.977936Z",
     "iopub.status.idle": "2021-03-15T11:12:04.982237Z",
     "shell.execute_reply": "2021-03-15T11:12:04.981598Z"
    }
   },
   "outputs": [],
   "source": [
    "df = df[df.location == 'California'].append(df[df.location != 'California']).reset_index(drop=True)"
   ]
  },
  {
   "cell_type": "code",
   "execution_count": null,
   "metadata": {},
   "outputs": [],
   "source": []
  },
  {
   "cell_type": "code",
   "execution_count": 15,
   "metadata": {
    "execution": {
     "iopub.execute_input": "2021-03-15T11:12:04.986342Z",
     "iopub.status.busy": "2021-03-15T11:12:04.985779Z",
     "iopub.status.idle": "2021-03-15T11:12:05.005837Z",
     "shell.execute_reply": "2021-03-15T11:12:05.005382Z"
    }
   },
   "outputs": [],
   "source": [
    "tz = pytz.timezone(\"America/New_York\")"
   ]
  },
  {
   "cell_type": "code",
   "execution_count": 16,
   "metadata": {
    "execution": {
     "iopub.execute_input": "2021-03-15T11:12:05.009537Z",
     "iopub.status.busy": "2021-03-15T11:12:05.009038Z",
     "iopub.status.idle": "2021-03-15T11:12:05.012822Z",
     "shell.execute_reply": "2021-03-15T11:12:05.012274Z"
    }
   },
   "outputs": [],
   "source": [
    "today = datetime.now(tz).date()"
   ]
  },
  {
   "cell_type": "code",
   "execution_count": 17,
   "metadata": {
    "execution": {
     "iopub.execute_input": "2021-03-15T11:12:05.021007Z",
     "iopub.status.busy": "2021-03-15T11:12:05.020482Z",
     "iopub.status.idle": "2021-03-15T11:12:05.026909Z",
     "shell.execute_reply": "2021-03-15T11:12:05.026495Z"
    }
   },
   "outputs": [],
   "source": [
    "data_dir = os.path.join(os.path.abspath(\"\"), \"data\")"
   ]
  },
  {
   "cell_type": "code",
   "execution_count": 18,
   "metadata": {
    "execution": {
     "iopub.execute_input": "2021-03-15T11:12:05.031262Z",
     "iopub.status.busy": "2021-03-15T11:12:05.030698Z",
     "iopub.status.idle": "2021-03-15T11:12:05.036469Z",
     "shell.execute_reply": "2021-03-15T11:12:05.036008Z"
    }
   },
   "outputs": [],
   "source": [
    "df.to_csv(os.path.join(data_dir, f\"{today}.csv\"), index=False)"
   ]
  },
  {
   "cell_type": "code",
   "execution_count": null,
   "metadata": {},
   "outputs": [],
   "source": []
  }
 ],
 "metadata": {
  "kernelspec": {
   "display_name": "Python 3",
   "language": "python",
   "name": "python3"
  },
  "language_info": {
   "codemirror_mode": {
    "name": "ipython",
    "version": 3
   },
   "file_extension": ".py",
   "mimetype": "text/x-python",
   "name": "python",
   "nbconvert_exporter": "python",
   "pygments_lexer": "ipython3",
   "version": "3.8.8"
  }
 },
 "nbformat": 4,
 "nbformat_minor": 4
}
