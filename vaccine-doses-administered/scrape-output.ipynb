{
 "cells": [
  {
   "cell_type": "markdown",
   "metadata": {},
   "source": [
    "# California COVID vaccinations scrape"
   ]
  },
  {
   "cell_type": "markdown",
   "metadata": {},
   "source": [
    "By [Amy O'Kruk](https://twitter.com/amyokruk)"
   ]
  },
  {
   "cell_type": "markdown",
   "metadata": {},
   "source": [
    "Downloads data on vaccine doses administered by county and statewide from a Tableau-powered dashboard from the California Department of Public Health."
   ]
  },
  {
   "cell_type": "code",
   "execution_count": 1,
   "metadata": {
    "execution": {
     "iopub.execute_input": "2021-03-09T08:46:57.194700Z",
     "iopub.status.busy": "2021-03-09T08:46:57.194098Z",
     "iopub.status.idle": "2021-03-09T08:46:57.708164Z",
     "shell.execute_reply": "2021-03-09T08:46:57.707586Z"
    }
   },
   "outputs": [],
   "source": [
    "import pandas as pd\n",
    "import requests\n",
    "from bs4 import BeautifulSoup\n",
    "import json\n",
    "import re\n",
    "import time\n",
    "from time import gmtime, strftime \n",
    "import os\n",
    "import pytz\n",
    "from datetime import datetime"
   ]
  },
  {
   "cell_type": "markdown",
   "metadata": {},
   "source": [
    "Scrape the dashboard page"
   ]
  },
  {
   "cell_type": "code",
   "execution_count": 2,
   "metadata": {
    "execution": {
     "iopub.execute_input": "2021-03-09T08:46:57.713693Z",
     "iopub.status.busy": "2021-03-09T08:46:57.711550Z",
     "iopub.status.idle": "2021-03-09T08:46:58.143124Z",
     "shell.execute_reply": "2021-03-09T08:46:58.142049Z"
    }
   },
   "outputs": [],
   "source": [
    "url = \"https://public.tableau.com/interactive/views/COVID-19VaccineDashboardPublic/Vaccine?:embed=y&:showVizHome=n&:apiID=host0\"\n",
    "\n",
    "r = requests.get(url)\n",
    "soup = BeautifulSoup(r.text, \"html.parser\")"
   ]
  },
  {
   "cell_type": "code",
   "execution_count": 3,
   "metadata": {
    "execution": {
     "iopub.execute_input": "2021-03-09T08:46:58.148086Z",
     "iopub.status.busy": "2021-03-09T08:46:58.147506Z",
     "iopub.status.idle": "2021-03-09T08:46:58.151040Z",
     "shell.execute_reply": "2021-03-09T08:46:58.150565Z"
    }
   },
   "outputs": [],
   "source": [
    "tableauData = json.loads(soup.find(\"textarea\",{\"id\": \"tsConfigContainer\"}).text)"
   ]
  },
  {
   "cell_type": "markdown",
   "metadata": {},
   "source": [
    "Get the link to the Tableau data"
   ]
  },
  {
   "cell_type": "code",
   "execution_count": 4,
   "metadata": {
    "execution": {
     "iopub.execute_input": "2021-03-09T08:46:58.155825Z",
     "iopub.status.busy": "2021-03-09T08:46:58.154627Z",
     "iopub.status.idle": "2021-03-09T08:46:58.156414Z",
     "shell.execute_reply": "2021-03-09T08:46:58.156845Z"
    }
   },
   "outputs": [],
   "source": [
    "dataUrl = f'https://public.tableau.com{tableauData[\"vizql_root\"]}/bootstrapSession/sessions/{tableauData[\"sessionid\"]}'"
   ]
  },
  {
   "cell_type": "code",
   "execution_count": 5,
   "metadata": {
    "execution": {
     "iopub.execute_input": "2021-03-09T08:46:58.163971Z",
     "iopub.status.busy": "2021-03-09T08:46:58.163411Z",
     "iopub.status.idle": "2021-03-09T08:46:58.455300Z",
     "shell.execute_reply": "2021-03-09T08:46:58.456093Z"
    }
   },
   "outputs": [],
   "source": [
    "r = requests.post(dataUrl, data= {\n",
    "    \"sheet_id\": tableauData[\"sheetId\"],\n",
    "})\n",
    "\n",
    "dataReg = re.search('\\d+;({.*})\\d+;({.*})', r.text, re.MULTILINE)\n",
    "data1 = json.loads(dataReg.group(2))\n",
    "\n",
    "dataJson = data1[\"secondaryInfo\"][\"presModelMap\"][\"dataDictionary\"][\"presModelHolder\"][\"genDataDictionaryPresModel\"][\"dataSegments\"][\"0\"][\"dataColumns\"]"
   ]
  },
  {
   "cell_type": "markdown",
   "metadata": {},
   "source": [
    "Isolate what you want"
   ]
  },
  {
   "cell_type": "code",
   "execution_count": 6,
   "metadata": {
    "execution": {
     "iopub.execute_input": "2021-03-09T08:46:58.461015Z",
     "iopub.status.busy": "2021-03-09T08:46:58.459813Z",
     "iopub.status.idle": "2021-03-09T08:46:58.461609Z",
     "shell.execute_reply": "2021-03-09T08:46:58.462166Z"
    }
   },
   "outputs": [],
   "source": [
    "counties = dataJson[2]['dataValues'][:58]"
   ]
  },
  {
   "cell_type": "code",
   "execution_count": 7,
   "metadata": {
    "execution": {
     "iopub.execute_input": "2021-03-09T08:46:58.466617Z",
     "iopub.status.busy": "2021-03-09T08:46:58.465452Z",
     "iopub.status.idle": "2021-03-09T08:46:58.467220Z",
     "shell.execute_reply": "2021-03-09T08:46:58.467681Z"
    }
   },
   "outputs": [],
   "source": [
    "doses = dataJson[0]['dataValues'][3:61]"
   ]
  },
  {
   "cell_type": "markdown",
   "metadata": {},
   "source": [
    "Data formatting"
   ]
  },
  {
   "cell_type": "code",
   "execution_count": 8,
   "metadata": {
    "execution": {
     "iopub.execute_input": "2021-03-09T08:46:58.471856Z",
     "iopub.status.busy": "2021-03-09T08:46:58.470641Z",
     "iopub.status.idle": "2021-03-09T08:46:58.472510Z",
     "shell.execute_reply": "2021-03-09T08:46:58.472938Z"
    }
   },
   "outputs": [],
   "source": [
    "zipped = dict(zip(counties, doses))"
   ]
  },
  {
   "cell_type": "code",
   "execution_count": 9,
   "metadata": {
    "execution": {
     "iopub.execute_input": "2021-03-09T08:46:58.479445Z",
     "iopub.status.busy": "2021-03-09T08:46:58.478241Z",
     "iopub.status.idle": "2021-03-09T08:46:58.480858Z",
     "shell.execute_reply": "2021-03-09T08:46:58.481302Z"
    }
   },
   "outputs": [],
   "source": [
    "df = pd.Series(zipped).reset_index()"
   ]
  },
  {
   "cell_type": "code",
   "execution_count": 10,
   "metadata": {
    "execution": {
     "iopub.execute_input": "2021-03-09T08:46:58.485783Z",
     "iopub.status.busy": "2021-03-09T08:46:58.484609Z",
     "iopub.status.idle": "2021-03-09T08:46:58.486438Z",
     "shell.execute_reply": "2021-03-09T08:46:58.486877Z"
    }
   },
   "outputs": [],
   "source": [
    "df.columns = ['location','doses']"
   ]
  },
  {
   "cell_type": "markdown",
   "metadata": {},
   "source": [
    "Grab the overall California total"
   ]
  },
  {
   "cell_type": "code",
   "execution_count": 11,
   "metadata": {
    "execution": {
     "iopub.execute_input": "2021-03-09T08:46:58.491619Z",
     "iopub.status.busy": "2021-03-09T08:46:58.490436Z",
     "iopub.status.idle": "2021-03-09T08:46:58.492226Z",
     "shell.execute_reply": "2021-03-09T08:46:58.492661Z"
    }
   },
   "outputs": [],
   "source": [
    "add = {'location':'California','doses':dataJson[0]['dataValues'][2]}"
   ]
  },
  {
   "cell_type": "code",
   "execution_count": 12,
   "metadata": {
    "execution": {
     "iopub.execute_input": "2021-03-09T08:46:58.499618Z",
     "iopub.status.busy": "2021-03-09T08:46:58.498489Z",
     "iopub.status.idle": "2021-03-09T08:46:58.500287Z",
     "shell.execute_reply": "2021-03-09T08:46:58.500716Z"
    }
   },
   "outputs": [],
   "source": [
    "df = df.append(add, ignore_index=True)"
   ]
  },
  {
   "cell_type": "code",
   "execution_count": 13,
   "metadata": {
    "execution": {
     "iopub.execute_input": "2021-03-09T08:46:58.505443Z",
     "iopub.status.busy": "2021-03-09T08:46:58.504369Z",
     "iopub.status.idle": "2021-03-09T08:46:58.506040Z",
     "shell.execute_reply": "2021-03-09T08:46:58.506461Z"
    }
   },
   "outputs": [],
   "source": [
    "df = df.sort_values(by='location')"
   ]
  },
  {
   "cell_type": "code",
   "execution_count": 14,
   "metadata": {
    "execution": {
     "iopub.execute_input": "2021-03-09T08:46:58.513154Z",
     "iopub.status.busy": "2021-03-09T08:46:58.511953Z",
     "iopub.status.idle": "2021-03-09T08:46:58.513744Z",
     "shell.execute_reply": "2021-03-09T08:46:58.514167Z"
    }
   },
   "outputs": [],
   "source": [
    "df = df[df.location == 'California'].append(df[df.location != 'California']).reset_index(drop=True)"
   ]
  },
  {
   "cell_type": "code",
   "execution_count": null,
   "metadata": {},
   "outputs": [],
   "source": []
  },
  {
   "cell_type": "code",
   "execution_count": 15,
   "metadata": {
    "execution": {
     "iopub.execute_input": "2021-03-09T08:46:58.517550Z",
     "iopub.status.busy": "2021-03-09T08:46:58.517044Z",
     "iopub.status.idle": "2021-03-09T08:46:58.534734Z",
     "shell.execute_reply": "2021-03-09T08:46:58.534221Z"
    }
   },
   "outputs": [],
   "source": [
    "tz = pytz.timezone(\"America/New_York\")"
   ]
  },
  {
   "cell_type": "code",
   "execution_count": 16,
   "metadata": {
    "execution": {
     "iopub.execute_input": "2021-03-09T08:46:58.538846Z",
     "iopub.status.busy": "2021-03-09T08:46:58.537677Z",
     "iopub.status.idle": "2021-03-09T08:46:58.539535Z",
     "shell.execute_reply": "2021-03-09T08:46:58.539974Z"
    }
   },
   "outputs": [],
   "source": [
    "today = datetime.now(tz).date()"
   ]
  },
  {
   "cell_type": "code",
   "execution_count": 17,
   "metadata": {
    "execution": {
     "iopub.execute_input": "2021-03-09T08:46:58.544465Z",
     "iopub.status.busy": "2021-03-09T08:46:58.543238Z",
     "iopub.status.idle": "2021-03-09T08:46:58.545059Z",
     "shell.execute_reply": "2021-03-09T08:46:58.545582Z"
    }
   },
   "outputs": [],
   "source": [
    "data_dir = os.path.join(os.path.abspath(\"\"), \"data\")"
   ]
  },
  {
   "cell_type": "code",
   "execution_count": 18,
   "metadata": {
    "execution": {
     "iopub.execute_input": "2021-03-09T08:46:58.550830Z",
     "iopub.status.busy": "2021-03-09T08:46:58.548654Z",
     "iopub.status.idle": "2021-03-09T08:46:58.553259Z",
     "shell.execute_reply": "2021-03-09T08:46:58.552753Z"
    }
   },
   "outputs": [],
   "source": [
    "df.to_csv(os.path.join(data_dir, f\"{today}.csv\"), index=False)"
   ]
  },
  {
   "cell_type": "code",
   "execution_count": null,
   "metadata": {},
   "outputs": [],
   "source": []
  }
 ],
 "metadata": {
  "kernelspec": {
   "display_name": "Python 3",
   "language": "python",
   "name": "python3"
  },
  "language_info": {
   "codemirror_mode": {
    "name": "ipython",
    "version": 3
   },
   "file_extension": ".py",
   "mimetype": "text/x-python",
   "name": "python",
   "nbconvert_exporter": "python",
   "pygments_lexer": "ipython3",
   "version": "3.8.8"
  }
 },
 "nbformat": 4,
 "nbformat_minor": 4
}
