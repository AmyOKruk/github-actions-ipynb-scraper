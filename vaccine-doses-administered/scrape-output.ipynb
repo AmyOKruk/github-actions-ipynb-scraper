{
 "cells": [
  {
   "cell_type": "markdown",
   "metadata": {},
   "source": [
    "# California COVID vaccinations scrape"
   ]
  },
  {
   "cell_type": "markdown",
   "metadata": {},
   "source": [
    "By [Amy O'Kruk](https://twitter.com/amyokruk)"
   ]
  },
  {
   "cell_type": "markdown",
   "metadata": {},
   "source": [
    "Downloads data on vaccine doses administered by county and statewide from a Tableau-powered dashboard from the California Department of Public Health."
   ]
  },
  {
   "cell_type": "code",
   "execution_count": 1,
   "metadata": {
    "execution": {
     "iopub.execute_input": "2021-03-22T05:49:34.318969Z",
     "iopub.status.busy": "2021-03-22T05:49:34.318247Z",
     "iopub.status.idle": "2021-03-22T05:49:34.704974Z",
     "shell.execute_reply": "2021-03-22T05:49:34.704434Z"
    }
   },
   "outputs": [],
   "source": [
    "import pandas as pd\n",
    "import requests\n",
    "from bs4 import BeautifulSoup\n",
    "import json\n",
    "import re\n",
    "import time\n",
    "from time import gmtime, strftime \n",
    "import os\n",
    "import pytz\n",
    "from datetime import datetime"
   ]
  },
  {
   "cell_type": "markdown",
   "metadata": {},
   "source": [
    "Scrape the dashboard page"
   ]
  },
  {
   "cell_type": "code",
   "execution_count": 2,
   "metadata": {
    "execution": {
     "iopub.execute_input": "2021-03-22T05:49:34.710342Z",
     "iopub.status.busy": "2021-03-22T05:49:34.708010Z",
     "iopub.status.idle": "2021-03-22T05:49:35.451808Z",
     "shell.execute_reply": "2021-03-22T05:49:35.450955Z"
    }
   },
   "outputs": [],
   "source": [
    "url = \"https://public.tableau.com/interactive/views/COVID-19VaccineDashboardPublic/Vaccine?:embed=y&:showVizHome=n&:apiID=host0\"\n",
    "\n",
    "r = requests.get(url)\n",
    "soup = BeautifulSoup(r.text, \"html.parser\")"
   ]
  },
  {
   "cell_type": "code",
   "execution_count": 3,
   "metadata": {
    "execution": {
     "iopub.execute_input": "2021-03-22T05:49:35.456423Z",
     "iopub.status.busy": "2021-03-22T05:49:35.455902Z",
     "iopub.status.idle": "2021-03-22T05:49:35.459306Z",
     "shell.execute_reply": "2021-03-22T05:49:35.459718Z"
    }
   },
   "outputs": [],
   "source": [
    "tableauData = json.loads(soup.find(\"textarea\",{\"id\": \"tsConfigContainer\"}).text)"
   ]
  },
  {
   "cell_type": "markdown",
   "metadata": {},
   "source": [
    "Get the link to the Tableau data"
   ]
  },
  {
   "cell_type": "code",
   "execution_count": 4,
   "metadata": {
    "execution": {
     "iopub.execute_input": "2021-03-22T05:49:35.463429Z",
     "iopub.status.busy": "2021-03-22T05:49:35.462903Z",
     "iopub.status.idle": "2021-03-22T05:49:35.466015Z",
     "shell.execute_reply": "2021-03-22T05:49:35.466422Z"
    }
   },
   "outputs": [],
   "source": [
    "dataUrl = f'https://public.tableau.com{tableauData[\"vizql_root\"]}/bootstrapSession/sessions/{tableauData[\"sessionid\"]}'"
   ]
  },
  {
   "cell_type": "code",
   "execution_count": 5,
   "metadata": {
    "execution": {
     "iopub.execute_input": "2021-03-22T05:49:35.472922Z",
     "iopub.status.busy": "2021-03-22T05:49:35.472356Z",
     "iopub.status.idle": "2021-03-22T05:49:36.035340Z",
     "shell.execute_reply": "2021-03-22T05:49:36.034087Z"
    }
   },
   "outputs": [],
   "source": [
    "r = requests.post(dataUrl, data= {\n",
    "    \"sheet_id\": tableauData[\"sheetId\"],\n",
    "})\n",
    "\n",
    "dataReg = re.search('\\d+;({.*})\\d+;({.*})', r.text, re.MULTILINE)\n",
    "data1 = json.loads(dataReg.group(2))\n",
    "\n",
    "dataJson = data1[\"secondaryInfo\"][\"presModelMap\"][\"dataDictionary\"][\"presModelHolder\"][\"genDataDictionaryPresModel\"][\"dataSegments\"][\"0\"][\"dataColumns\"]"
   ]
  },
  {
   "cell_type": "markdown",
   "metadata": {},
   "source": [
    "Isolate what you want"
   ]
  },
  {
   "cell_type": "code",
   "execution_count": 6,
   "metadata": {
    "execution": {
     "iopub.execute_input": "2021-03-22T05:49:36.040264Z",
     "iopub.status.busy": "2021-03-22T05:49:36.039643Z",
     "iopub.status.idle": "2021-03-22T05:49:36.044157Z",
     "shell.execute_reply": "2021-03-22T05:49:36.043505Z"
    }
   },
   "outputs": [],
   "source": [
    "counties = dataJson[2]['dataValues'][:58]"
   ]
  },
  {
   "cell_type": "code",
   "execution_count": 7,
   "metadata": {
    "execution": {
     "iopub.execute_input": "2021-03-22T05:49:36.048609Z",
     "iopub.status.busy": "2021-03-22T05:49:36.047965Z",
     "iopub.status.idle": "2021-03-22T05:49:36.050456Z",
     "shell.execute_reply": "2021-03-22T05:49:36.051042Z"
    }
   },
   "outputs": [],
   "source": [
    "doses = dataJson[0]['dataValues'][3:61]"
   ]
  },
  {
   "cell_type": "markdown",
   "metadata": {},
   "source": [
    "Data formatting"
   ]
  },
  {
   "cell_type": "code",
   "execution_count": 8,
   "metadata": {
    "execution": {
     "iopub.execute_input": "2021-03-22T05:49:36.055474Z",
     "iopub.status.busy": "2021-03-22T05:49:36.054683Z",
     "iopub.status.idle": "2021-03-22T05:49:36.058690Z",
     "shell.execute_reply": "2021-03-22T05:49:36.059195Z"
    }
   },
   "outputs": [],
   "source": [
    "zipped = dict(zip(counties, doses))"
   ]
  },
  {
   "cell_type": "code",
   "execution_count": 9,
   "metadata": {
    "execution": {
     "iopub.execute_input": "2021-03-22T05:49:36.065906Z",
     "iopub.status.busy": "2021-03-22T05:49:36.065315Z",
     "iopub.status.idle": "2021-03-22T05:49:36.068849Z",
     "shell.execute_reply": "2021-03-22T05:49:36.069337Z"
    }
   },
   "outputs": [],
   "source": [
    "df = pd.Series(zipped).reset_index()"
   ]
  },
  {
   "cell_type": "code",
   "execution_count": 10,
   "metadata": {
    "execution": {
     "iopub.execute_input": "2021-03-22T05:49:36.074673Z",
     "iopub.status.busy": "2021-03-22T05:49:36.073253Z",
     "iopub.status.idle": "2021-03-22T05:49:36.075361Z",
     "shell.execute_reply": "2021-03-22T05:49:36.075847Z"
    }
   },
   "outputs": [],
   "source": [
    "df.columns = ['location','doses']"
   ]
  },
  {
   "cell_type": "markdown",
   "metadata": {},
   "source": [
    "Grab the overall California total"
   ]
  },
  {
   "cell_type": "code",
   "execution_count": 11,
   "metadata": {
    "execution": {
     "iopub.execute_input": "2021-03-22T05:49:36.080838Z",
     "iopub.status.busy": "2021-03-22T05:49:36.079451Z",
     "iopub.status.idle": "2021-03-22T05:49:36.081499Z",
     "shell.execute_reply": "2021-03-22T05:49:36.081976Z"
    }
   },
   "outputs": [],
   "source": [
    "add = {'location':'California','doses':dataJson[0]['dataValues'][2]}"
   ]
  },
  {
   "cell_type": "code",
   "execution_count": 12,
   "metadata": {
    "execution": {
     "iopub.execute_input": "2021-03-22T05:49:36.090186Z",
     "iopub.status.busy": "2021-03-22T05:49:36.088824Z",
     "iopub.status.idle": "2021-03-22T05:49:36.090896Z",
     "shell.execute_reply": "2021-03-22T05:49:36.091379Z"
    }
   },
   "outputs": [],
   "source": [
    "df = df.append(add, ignore_index=True)"
   ]
  },
  {
   "cell_type": "code",
   "execution_count": 13,
   "metadata": {
    "execution": {
     "iopub.execute_input": "2021-03-22T05:49:36.096873Z",
     "iopub.status.busy": "2021-03-22T05:49:36.095523Z",
     "iopub.status.idle": "2021-03-22T05:49:36.097536Z",
     "shell.execute_reply": "2021-03-22T05:49:36.097999Z"
    }
   },
   "outputs": [],
   "source": [
    "df = df.sort_values(by='location')"
   ]
  },
  {
   "cell_type": "code",
   "execution_count": 14,
   "metadata": {
    "execution": {
     "iopub.execute_input": "2021-03-22T05:49:36.105987Z",
     "iopub.status.busy": "2021-03-22T05:49:36.104648Z",
     "iopub.status.idle": "2021-03-22T05:49:36.106655Z",
     "shell.execute_reply": "2021-03-22T05:49:36.107129Z"
    }
   },
   "outputs": [],
   "source": [
    "df = df[df.location == 'California'].append(df[df.location != 'California']).reset_index(drop=True)"
   ]
  },
  {
   "cell_type": "code",
   "execution_count": null,
   "metadata": {},
   "outputs": [],
   "source": []
  },
  {
   "cell_type": "code",
   "execution_count": 15,
   "metadata": {
    "execution": {
     "iopub.execute_input": "2021-03-22T05:49:36.110736Z",
     "iopub.status.busy": "2021-03-22T05:49:36.110141Z",
     "iopub.status.idle": "2021-03-22T05:49:36.130827Z",
     "shell.execute_reply": "2021-03-22T05:49:36.130221Z"
    }
   },
   "outputs": [],
   "source": [
    "tz = pytz.timezone(\"America/New_York\")"
   ]
  },
  {
   "cell_type": "code",
   "execution_count": 16,
   "metadata": {
    "execution": {
     "iopub.execute_input": "2021-03-22T05:49:36.135443Z",
     "iopub.status.busy": "2021-03-22T05:49:36.134116Z",
     "iopub.status.idle": "2021-03-22T05:49:36.136081Z",
     "shell.execute_reply": "2021-03-22T05:49:36.136569Z"
    }
   },
   "outputs": [],
   "source": [
    "today = datetime.now(tz).date()"
   ]
  },
  {
   "cell_type": "code",
   "execution_count": 17,
   "metadata": {
    "execution": {
     "iopub.execute_input": "2021-03-22T05:49:36.141396Z",
     "iopub.status.busy": "2021-03-22T05:49:36.139922Z",
     "iopub.status.idle": "2021-03-22T05:49:36.142022Z",
     "shell.execute_reply": "2021-03-22T05:49:36.142517Z"
    }
   },
   "outputs": [],
   "source": [
    "data_dir = os.path.join(os.path.abspath(\"\"), \"data\")"
   ]
  },
  {
   "cell_type": "code",
   "execution_count": 18,
   "metadata": {
    "execution": {
     "iopub.execute_input": "2021-03-22T05:49:36.146888Z",
     "iopub.status.busy": "2021-03-22T05:49:36.145751Z",
     "iopub.status.idle": "2021-03-22T05:49:36.151746Z",
     "shell.execute_reply": "2021-03-22T05:49:36.150773Z"
    }
   },
   "outputs": [],
   "source": [
    "df.to_csv(os.path.join(data_dir, f\"{today}.csv\"), index=False)"
   ]
  },
  {
   "cell_type": "code",
   "execution_count": null,
   "metadata": {},
   "outputs": [],
   "source": []
  }
 ],
 "metadata": {
  "kernelspec": {
   "display_name": "Python 3",
   "language": "python",
   "name": "python3"
  },
  "language_info": {
   "codemirror_mode": {
    "name": "ipython",
    "version": 3
   },
   "file_extension": ".py",
   "mimetype": "text/x-python",
   "name": "python",
   "nbconvert_exporter": "python",
   "pygments_lexer": "ipython3",
   "version": "3.8.8"
  }
 },
 "nbformat": 4,
 "nbformat_minor": 4
}
