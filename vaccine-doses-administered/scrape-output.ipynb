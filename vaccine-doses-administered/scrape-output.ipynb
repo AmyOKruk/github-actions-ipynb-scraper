{
 "cells": [
  {
   "cell_type": "markdown",
   "metadata": {},
   "source": [
    "# California COVID vaccinations scrape"
   ]
  },
  {
   "cell_type": "markdown",
   "metadata": {},
   "source": [
    "By [Amy O'Kruk](https://twitter.com/amyokruk)"
   ]
  },
  {
   "cell_type": "markdown",
   "metadata": {},
   "source": [
    "Downloads data on vaccine doses administered by county and statewide from a Tableau-powered dashboard from the California Department of Public Health."
   ]
  },
  {
   "cell_type": "code",
   "execution_count": 1,
   "metadata": {
    "execution": {
     "iopub.execute_input": "2021-03-09T15:43:48.790790Z",
     "iopub.status.busy": "2021-03-09T15:43:48.790141Z",
     "iopub.status.idle": "2021-03-09T15:43:49.176226Z",
     "shell.execute_reply": "2021-03-09T15:43:49.174970Z"
    }
   },
   "outputs": [],
   "source": [
    "import pandas as pd\n",
    "import requests\n",
    "from bs4 import BeautifulSoup\n",
    "import json\n",
    "import re\n",
    "import time\n",
    "from time import gmtime, strftime \n",
    "import os\n",
    "import pytz\n",
    "from datetime import datetime"
   ]
  },
  {
   "cell_type": "markdown",
   "metadata": {},
   "source": [
    "Scrape the dashboard page"
   ]
  },
  {
   "cell_type": "code",
   "execution_count": 2,
   "metadata": {
    "execution": {
     "iopub.execute_input": "2021-03-09T15:43:49.180619Z",
     "iopub.status.busy": "2021-03-09T15:43:49.180072Z",
     "iopub.status.idle": "2021-03-09T15:43:49.505335Z",
     "shell.execute_reply": "2021-03-09T15:43:49.504477Z"
    }
   },
   "outputs": [],
   "source": [
    "url = \"https://public.tableau.com/interactive/views/COVID-19VaccineDashboardPublic/Vaccine?:embed=y&:showVizHome=n&:apiID=host0\"\n",
    "\n",
    "r = requests.get(url)\n",
    "soup = BeautifulSoup(r.text, \"html.parser\")"
   ]
  },
  {
   "cell_type": "code",
   "execution_count": 3,
   "metadata": {
    "execution": {
     "iopub.execute_input": "2021-03-09T15:43:49.511185Z",
     "iopub.status.busy": "2021-03-09T15:43:49.510655Z",
     "iopub.status.idle": "2021-03-09T15:43:49.514216Z",
     "shell.execute_reply": "2021-03-09T15:43:49.513747Z"
    }
   },
   "outputs": [],
   "source": [
    "tableauData = json.loads(soup.find(\"textarea\",{\"id\": \"tsConfigContainer\"}).text)"
   ]
  },
  {
   "cell_type": "markdown",
   "metadata": {},
   "source": [
    "Get the link to the Tableau data"
   ]
  },
  {
   "cell_type": "code",
   "execution_count": 4,
   "metadata": {
    "execution": {
     "iopub.execute_input": "2021-03-09T15:43:49.518939Z",
     "iopub.status.busy": "2021-03-09T15:43:49.517599Z",
     "iopub.status.idle": "2021-03-09T15:43:49.519560Z",
     "shell.execute_reply": "2021-03-09T15:43:49.520024Z"
    }
   },
   "outputs": [],
   "source": [
    "dataUrl = f'https://public.tableau.com{tableauData[\"vizql_root\"]}/bootstrapSession/sessions/{tableauData[\"sessionid\"]}'"
   ]
  },
  {
   "cell_type": "code",
   "execution_count": 5,
   "metadata": {
    "execution": {
     "iopub.execute_input": "2021-03-09T15:43:49.526598Z",
     "iopub.status.busy": "2021-03-09T15:43:49.526049Z",
     "iopub.status.idle": "2021-03-09T15:43:49.691620Z",
     "shell.execute_reply": "2021-03-09T15:43:49.692416Z"
    }
   },
   "outputs": [],
   "source": [
    "r = requests.post(dataUrl, data= {\n",
    "    \"sheet_id\": tableauData[\"sheetId\"],\n",
    "})\n",
    "\n",
    "dataReg = re.search('\\d+;({.*})\\d+;({.*})', r.text, re.MULTILINE)\n",
    "data1 = json.loads(dataReg.group(2))\n",
    "\n",
    "dataJson = data1[\"secondaryInfo\"][\"presModelMap\"][\"dataDictionary\"][\"presModelHolder\"][\"genDataDictionaryPresModel\"][\"dataSegments\"][\"0\"][\"dataColumns\"]"
   ]
  },
  {
   "cell_type": "markdown",
   "metadata": {},
   "source": [
    "Isolate what you want"
   ]
  },
  {
   "cell_type": "code",
   "execution_count": 6,
   "metadata": {
    "execution": {
     "iopub.execute_input": "2021-03-09T15:43:49.697601Z",
     "iopub.status.busy": "2021-03-09T15:43:49.696259Z",
     "iopub.status.idle": "2021-03-09T15:43:49.698209Z",
     "shell.execute_reply": "2021-03-09T15:43:49.698649Z"
    }
   },
   "outputs": [],
   "source": [
    "counties = dataJson[2]['dataValues'][:58]"
   ]
  },
  {
   "cell_type": "code",
   "execution_count": 7,
   "metadata": {
    "execution": {
     "iopub.execute_input": "2021-03-09T15:43:49.703357Z",
     "iopub.status.busy": "2021-03-09T15:43:49.702054Z",
     "iopub.status.idle": "2021-03-09T15:43:49.704021Z",
     "shell.execute_reply": "2021-03-09T15:43:49.704472Z"
    }
   },
   "outputs": [],
   "source": [
    "doses = dataJson[0]['dataValues'][3:61]"
   ]
  },
  {
   "cell_type": "markdown",
   "metadata": {},
   "source": [
    "Data formatting"
   ]
  },
  {
   "cell_type": "code",
   "execution_count": 8,
   "metadata": {
    "execution": {
     "iopub.execute_input": "2021-03-09T15:43:49.708922Z",
     "iopub.status.busy": "2021-03-09T15:43:49.707578Z",
     "iopub.status.idle": "2021-03-09T15:43:49.709541Z",
     "shell.execute_reply": "2021-03-09T15:43:49.709974Z"
    }
   },
   "outputs": [],
   "source": [
    "zipped = dict(zip(counties, doses))"
   ]
  },
  {
   "cell_type": "code",
   "execution_count": 9,
   "metadata": {
    "execution": {
     "iopub.execute_input": "2021-03-09T15:43:49.717029Z",
     "iopub.status.busy": "2021-03-09T15:43:49.715637Z",
     "iopub.status.idle": "2021-03-09T15:43:49.717644Z",
     "shell.execute_reply": "2021-03-09T15:43:49.718073Z"
    }
   },
   "outputs": [],
   "source": [
    "df = pd.Series(zipped).reset_index()"
   ]
  },
  {
   "cell_type": "code",
   "execution_count": 10,
   "metadata": {
    "execution": {
     "iopub.execute_input": "2021-03-09T15:43:49.722700Z",
     "iopub.status.busy": "2021-03-09T15:43:49.721499Z",
     "iopub.status.idle": "2021-03-09T15:43:49.723307Z",
     "shell.execute_reply": "2021-03-09T15:43:49.723734Z"
    }
   },
   "outputs": [],
   "source": [
    "df.columns = ['location','doses']"
   ]
  },
  {
   "cell_type": "markdown",
   "metadata": {},
   "source": [
    "Grab the overall California total"
   ]
  },
  {
   "cell_type": "code",
   "execution_count": 11,
   "metadata": {
    "execution": {
     "iopub.execute_input": "2021-03-09T15:43:49.728418Z",
     "iopub.status.busy": "2021-03-09T15:43:49.727073Z",
     "iopub.status.idle": "2021-03-09T15:43:49.729051Z",
     "shell.execute_reply": "2021-03-09T15:43:49.729483Z"
    }
   },
   "outputs": [],
   "source": [
    "add = {'location':'California','doses':dataJson[0]['dataValues'][2]}"
   ]
  },
  {
   "cell_type": "code",
   "execution_count": 12,
   "metadata": {
    "execution": {
     "iopub.execute_input": "2021-03-09T15:43:49.737103Z",
     "iopub.status.busy": "2021-03-09T15:43:49.735736Z",
     "iopub.status.idle": "2021-03-09T15:43:49.737715Z",
     "shell.execute_reply": "2021-03-09T15:43:49.738149Z"
    }
   },
   "outputs": [],
   "source": [
    "df = df.append(add, ignore_index=True)"
   ]
  },
  {
   "cell_type": "code",
   "execution_count": 13,
   "metadata": {
    "execution": {
     "iopub.execute_input": "2021-03-09T15:43:49.743498Z",
     "iopub.status.busy": "2021-03-09T15:43:49.742290Z",
     "iopub.status.idle": "2021-03-09T15:43:49.744158Z",
     "shell.execute_reply": "2021-03-09T15:43:49.744597Z"
    }
   },
   "outputs": [],
   "source": [
    "df = df.sort_values(by='location')"
   ]
  },
  {
   "cell_type": "code",
   "execution_count": 14,
   "metadata": {
    "execution": {
     "iopub.execute_input": "2021-03-09T15:43:49.751399Z",
     "iopub.status.busy": "2021-03-09T15:43:49.750042Z",
     "iopub.status.idle": "2021-03-09T15:43:49.752033Z",
     "shell.execute_reply": "2021-03-09T15:43:49.752477Z"
    }
   },
   "outputs": [],
   "source": [
    "df = df[df.location == 'California'].append(df[df.location != 'California']).reset_index(drop=True)"
   ]
  },
  {
   "cell_type": "code",
   "execution_count": null,
   "metadata": {},
   "outputs": [],
   "source": []
  },
  {
   "cell_type": "code",
   "execution_count": 15,
   "metadata": {
    "execution": {
     "iopub.execute_input": "2021-03-09T15:43:49.755933Z",
     "iopub.status.busy": "2021-03-09T15:43:49.755385Z",
     "iopub.status.idle": "2021-03-09T15:43:49.773101Z",
     "shell.execute_reply": "2021-03-09T15:43:49.772608Z"
    }
   },
   "outputs": [],
   "source": [
    "tz = pytz.timezone(\"America/New_York\")"
   ]
  },
  {
   "cell_type": "code",
   "execution_count": 16,
   "metadata": {
    "execution": {
     "iopub.execute_input": "2021-03-09T15:43:49.777705Z",
     "iopub.status.busy": "2021-03-09T15:43:49.776349Z",
     "iopub.status.idle": "2021-03-09T15:43:49.778324Z",
     "shell.execute_reply": "2021-03-09T15:43:49.778755Z"
    }
   },
   "outputs": [],
   "source": [
    "today = datetime.now(tz).date()"
   ]
  },
  {
   "cell_type": "code",
   "execution_count": 17,
   "metadata": {
    "execution": {
     "iopub.execute_input": "2021-03-09T15:43:49.783253Z",
     "iopub.status.busy": "2021-03-09T15:43:49.782069Z",
     "iopub.status.idle": "2021-03-09T15:43:49.783860Z",
     "shell.execute_reply": "2021-03-09T15:43:49.784327Z"
    }
   },
   "outputs": [],
   "source": [
    "data_dir = os.path.join(os.path.abspath(\"\"), \"data\")"
   ]
  },
  {
   "cell_type": "code",
   "execution_count": 18,
   "metadata": {
    "execution": {
     "iopub.execute_input": "2021-03-09T15:43:49.788934Z",
     "iopub.status.busy": "2021-03-09T15:43:49.787642Z",
     "iopub.status.idle": "2021-03-09T15:43:49.792467Z",
     "shell.execute_reply": "2021-03-09T15:43:49.791951Z"
    }
   },
   "outputs": [],
   "source": [
    "df.to_csv(os.path.join(data_dir, f\"{today}.csv\"), index=False)"
   ]
  },
  {
   "cell_type": "code",
   "execution_count": null,
   "metadata": {},
   "outputs": [],
   "source": []
  }
 ],
 "metadata": {
  "kernelspec": {
   "display_name": "Python 3",
   "language": "python",
   "name": "python3"
  },
  "language_info": {
   "codemirror_mode": {
    "name": "ipython",
    "version": 3
   },
   "file_extension": ".py",
   "mimetype": "text/x-python",
   "name": "python",
   "nbconvert_exporter": "python",
   "pygments_lexer": "ipython3",
   "version": "3.8.8"
  }
 },
 "nbformat": 4,
 "nbformat_minor": 4
}
