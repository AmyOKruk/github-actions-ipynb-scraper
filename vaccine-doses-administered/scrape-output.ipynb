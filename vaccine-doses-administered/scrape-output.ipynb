{
 "cells": [
  {
   "cell_type": "markdown",
   "metadata": {},
   "source": [
    "# California COVID vaccinations scrape"
   ]
  },
  {
   "cell_type": "markdown",
   "metadata": {},
   "source": [
    "By [Amy O'Kruk](https://twitter.com/amyokruk)"
   ]
  },
  {
   "cell_type": "markdown",
   "metadata": {},
   "source": [
    "Downloads data on vaccine doses administered by county and statewide from a Tableau-powered dashboard from the California Department of Public Health."
   ]
  },
  {
   "cell_type": "code",
   "execution_count": 1,
   "metadata": {
    "execution": {
     "iopub.execute_input": "2021-03-10T16:20:02.046683Z",
     "iopub.status.busy": "2021-03-10T16:20:02.045943Z",
     "iopub.status.idle": "2021-03-10T16:20:02.553272Z",
     "shell.execute_reply": "2021-03-10T16:20:02.553785Z"
    }
   },
   "outputs": [],
   "source": [
    "import pandas as pd\n",
    "import requests\n",
    "from bs4 import BeautifulSoup\n",
    "import json\n",
    "import re\n",
    "import time\n",
    "from time import gmtime, strftime \n",
    "import os\n",
    "import pytz\n",
    "from datetime import datetime"
   ]
  },
  {
   "cell_type": "markdown",
   "metadata": {},
   "source": [
    "Scrape the dashboard page"
   ]
  },
  {
   "cell_type": "code",
   "execution_count": 2,
   "metadata": {
    "execution": {
     "iopub.execute_input": "2021-03-10T16:20:02.558833Z",
     "iopub.status.busy": "2021-03-10T16:20:02.558179Z",
     "iopub.status.idle": "2021-03-10T16:20:03.071402Z",
     "shell.execute_reply": "2021-03-10T16:20:03.070375Z"
    }
   },
   "outputs": [],
   "source": [
    "url = \"https://public.tableau.com/interactive/views/COVID-19VaccineDashboardPublic/Vaccine?:embed=y&:showVizHome=n&:apiID=host0\"\n",
    "\n",
    "r = requests.get(url)\n",
    "soup = BeautifulSoup(r.text, \"html.parser\")"
   ]
  },
  {
   "cell_type": "code",
   "execution_count": 3,
   "metadata": {
    "execution": {
     "iopub.execute_input": "2021-03-10T16:20:03.076870Z",
     "iopub.status.busy": "2021-03-10T16:20:03.076214Z",
     "iopub.status.idle": "2021-03-10T16:20:03.080488Z",
     "shell.execute_reply": "2021-03-10T16:20:03.079877Z"
    }
   },
   "outputs": [],
   "source": [
    "tableauData = json.loads(soup.find(\"textarea\",{\"id\": \"tsConfigContainer\"}).text)"
   ]
  },
  {
   "cell_type": "markdown",
   "metadata": {},
   "source": [
    "Get the link to the Tableau data"
   ]
  },
  {
   "cell_type": "code",
   "execution_count": 4,
   "metadata": {
    "execution": {
     "iopub.execute_input": "2021-03-10T16:20:03.085047Z",
     "iopub.status.busy": "2021-03-10T16:20:03.084367Z",
     "iopub.status.idle": "2021-03-10T16:20:03.088581Z",
     "shell.execute_reply": "2021-03-10T16:20:03.087987Z"
    }
   },
   "outputs": [],
   "source": [
    "dataUrl = f'https://public.tableau.com{tableauData[\"vizql_root\"]}/bootstrapSession/sessions/{tableauData[\"sessionid\"]}'"
   ]
  },
  {
   "cell_type": "code",
   "execution_count": 5,
   "metadata": {
    "execution": {
     "iopub.execute_input": "2021-03-10T16:20:03.097009Z",
     "iopub.status.busy": "2021-03-10T16:20:03.095941Z",
     "iopub.status.idle": "2021-03-10T16:20:03.353527Z",
     "shell.execute_reply": "2021-03-10T16:20:03.352937Z"
    }
   },
   "outputs": [],
   "source": [
    "r = requests.post(dataUrl, data= {\n",
    "    \"sheet_id\": tableauData[\"sheetId\"],\n",
    "})\n",
    "\n",
    "dataReg = re.search('\\d+;({.*})\\d+;({.*})', r.text, re.MULTILINE)\n",
    "data1 = json.loads(dataReg.group(2))\n",
    "\n",
    "dataJson = data1[\"secondaryInfo\"][\"presModelMap\"][\"dataDictionary\"][\"presModelHolder\"][\"genDataDictionaryPresModel\"][\"dataSegments\"][\"0\"][\"dataColumns\"]"
   ]
  },
  {
   "cell_type": "markdown",
   "metadata": {},
   "source": [
    "Isolate what you want"
   ]
  },
  {
   "cell_type": "code",
   "execution_count": 6,
   "metadata": {
    "execution": {
     "iopub.execute_input": "2021-03-10T16:20:03.358056Z",
     "iopub.status.busy": "2021-03-10T16:20:03.357446Z",
     "iopub.status.idle": "2021-03-10T16:20:03.361744Z",
     "shell.execute_reply": "2021-03-10T16:20:03.362242Z"
    }
   },
   "outputs": [],
   "source": [
    "counties = dataJson[2]['dataValues'][:58]"
   ]
  },
  {
   "cell_type": "code",
   "execution_count": 7,
   "metadata": {
    "execution": {
     "iopub.execute_input": "2021-03-10T16:20:03.366543Z",
     "iopub.status.busy": "2021-03-10T16:20:03.365928Z",
     "iopub.status.idle": "2021-03-10T16:20:03.369763Z",
     "shell.execute_reply": "2021-03-10T16:20:03.370239Z"
    }
   },
   "outputs": [],
   "source": [
    "doses = dataJson[0]['dataValues'][3:61]"
   ]
  },
  {
   "cell_type": "markdown",
   "metadata": {},
   "source": [
    "Data formatting"
   ]
  },
  {
   "cell_type": "code",
   "execution_count": 8,
   "metadata": {
    "execution": {
     "iopub.execute_input": "2021-03-10T16:20:03.374555Z",
     "iopub.status.busy": "2021-03-10T16:20:03.373734Z",
     "iopub.status.idle": "2021-03-10T16:20:03.378551Z",
     "shell.execute_reply": "2021-03-10T16:20:03.377702Z"
    }
   },
   "outputs": [],
   "source": [
    "zipped = dict(zip(counties, doses))"
   ]
  },
  {
   "cell_type": "code",
   "execution_count": 9,
   "metadata": {
    "execution": {
     "iopub.execute_input": "2021-03-10T16:20:03.385500Z",
     "iopub.status.busy": "2021-03-10T16:20:03.384881Z",
     "iopub.status.idle": "2021-03-10T16:20:03.388491Z",
     "shell.execute_reply": "2021-03-10T16:20:03.389046Z"
    }
   },
   "outputs": [],
   "source": [
    "df = pd.Series(zipped).reset_index()"
   ]
  },
  {
   "cell_type": "code",
   "execution_count": 10,
   "metadata": {
    "execution": {
     "iopub.execute_input": "2021-03-10T16:20:03.395215Z",
     "iopub.status.busy": "2021-03-10T16:20:03.394625Z",
     "iopub.status.idle": "2021-03-10T16:20:03.398162Z",
     "shell.execute_reply": "2021-03-10T16:20:03.398683Z"
    }
   },
   "outputs": [],
   "source": [
    "df.columns = ['location','doses']"
   ]
  },
  {
   "cell_type": "markdown",
   "metadata": {},
   "source": [
    "Grab the overall California total"
   ]
  },
  {
   "cell_type": "code",
   "execution_count": 11,
   "metadata": {
    "execution": {
     "iopub.execute_input": "2021-03-10T16:20:03.404013Z",
     "iopub.status.busy": "2021-03-10T16:20:03.402643Z",
     "iopub.status.idle": "2021-03-10T16:20:03.404780Z",
     "shell.execute_reply": "2021-03-10T16:20:03.405284Z"
    }
   },
   "outputs": [],
   "source": [
    "add = {'location':'California','doses':dataJson[0]['dataValues'][2]}"
   ]
  },
  {
   "cell_type": "code",
   "execution_count": 12,
   "metadata": {
    "execution": {
     "iopub.execute_input": "2021-03-10T16:20:03.414062Z",
     "iopub.status.busy": "2021-03-10T16:20:03.412626Z",
     "iopub.status.idle": "2021-03-10T16:20:03.414761Z",
     "shell.execute_reply": "2021-03-10T16:20:03.415294Z"
    }
   },
   "outputs": [],
   "source": [
    "df = df.append(add, ignore_index=True)"
   ]
  },
  {
   "cell_type": "code",
   "execution_count": 13,
   "metadata": {
    "execution": {
     "iopub.execute_input": "2021-03-10T16:20:03.421236Z",
     "iopub.status.busy": "2021-03-10T16:20:03.419746Z",
     "iopub.status.idle": "2021-03-10T16:20:03.421918Z",
     "shell.execute_reply": "2021-03-10T16:20:03.422412Z"
    }
   },
   "outputs": [],
   "source": [
    "df = df.sort_values(by='location')"
   ]
  },
  {
   "cell_type": "code",
   "execution_count": 14,
   "metadata": {
    "execution": {
     "iopub.execute_input": "2021-03-10T16:20:03.429215Z",
     "iopub.status.busy": "2021-03-10T16:20:03.428570Z",
     "iopub.status.idle": "2021-03-10T16:20:03.432877Z",
     "shell.execute_reply": "2021-03-10T16:20:03.432200Z"
    }
   },
   "outputs": [],
   "source": [
    "df = df[df.location == 'California'].append(df[df.location != 'California']).reset_index(drop=True)"
   ]
  },
  {
   "cell_type": "code",
   "execution_count": null,
   "metadata": {},
   "outputs": [],
   "source": []
  },
  {
   "cell_type": "code",
   "execution_count": 15,
   "metadata": {
    "execution": {
     "iopub.execute_input": "2021-03-10T16:20:03.437333Z",
     "iopub.status.busy": "2021-03-10T16:20:03.436365Z",
     "iopub.status.idle": "2021-03-10T16:20:03.459151Z",
     "shell.execute_reply": "2021-03-10T16:20:03.458590Z"
    }
   },
   "outputs": [],
   "source": [
    "tz = pytz.timezone(\"America/New_York\")"
   ]
  },
  {
   "cell_type": "code",
   "execution_count": 16,
   "metadata": {
    "execution": {
     "iopub.execute_input": "2021-03-10T16:20:03.463566Z",
     "iopub.status.busy": "2021-03-10T16:20:03.462968Z",
     "iopub.status.idle": "2021-03-10T16:20:03.467189Z",
     "shell.execute_reply": "2021-03-10T16:20:03.466614Z"
    }
   },
   "outputs": [],
   "source": [
    "today = datetime.now(tz).date()"
   ]
  },
  {
   "cell_type": "code",
   "execution_count": 17,
   "metadata": {
    "execution": {
     "iopub.execute_input": "2021-03-10T16:20:03.471776Z",
     "iopub.status.busy": "2021-03-10T16:20:03.471151Z",
     "iopub.status.idle": "2021-03-10T16:20:03.475173Z",
     "shell.execute_reply": "2021-03-10T16:20:03.474614Z"
    }
   },
   "outputs": [],
   "source": [
    "data_dir = os.path.join(os.path.abspath(\"\"), \"data\")"
   ]
  },
  {
   "cell_type": "code",
   "execution_count": 18,
   "metadata": {
    "execution": {
     "iopub.execute_input": "2021-03-10T16:20:03.481233Z",
     "iopub.status.busy": "2021-03-10T16:20:03.479214Z",
     "iopub.status.idle": "2021-03-10T16:20:03.486110Z",
     "shell.execute_reply": "2021-03-10T16:20:03.485533Z"
    }
   },
   "outputs": [],
   "source": [
    "df.to_csv(os.path.join(data_dir, f\"{today}.csv\"), index=False)"
   ]
  },
  {
   "cell_type": "code",
   "execution_count": null,
   "metadata": {},
   "outputs": [],
   "source": []
  }
 ],
 "metadata": {
  "kernelspec": {
   "display_name": "Python 3",
   "language": "python",
   "name": "python3"
  },
  "language_info": {
   "codemirror_mode": {
    "name": "ipython",
    "version": 3
   },
   "file_extension": ".py",
   "mimetype": "text/x-python",
   "name": "python",
   "nbconvert_exporter": "python",
   "pygments_lexer": "ipython3",
   "version": "3.8.8"
  }
 },
 "nbformat": 4,
 "nbformat_minor": 4
}
