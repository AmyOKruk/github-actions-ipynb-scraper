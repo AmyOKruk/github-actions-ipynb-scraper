{
 "cells": [
  {
   "cell_type": "markdown",
   "metadata": {},
   "source": [
    "# California COVID vaccinations scrape"
   ]
  },
  {
   "cell_type": "markdown",
   "metadata": {},
   "source": [
    "By [Amy O'Kruk](https://twitter.com/amyokruk)"
   ]
  },
  {
   "cell_type": "markdown",
   "metadata": {},
   "source": [
    "Downloads data on vaccine doses administered by county and statewide from a Tableau-powered dashboard from the California Department of Public Health."
   ]
  },
  {
   "cell_type": "code",
   "execution_count": 1,
   "metadata": {
    "execution": {
     "iopub.execute_input": "2021-03-20T06:46:31.586566Z",
     "iopub.status.busy": "2021-03-20T06:46:31.585535Z",
     "iopub.status.idle": "2021-03-20T06:46:31.919551Z",
     "shell.execute_reply": "2021-03-20T06:46:31.918475Z"
    }
   },
   "outputs": [],
   "source": [
    "import pandas as pd\n",
    "import requests\n",
    "from bs4 import BeautifulSoup\n",
    "import json\n",
    "import re\n",
    "import time\n",
    "from time import gmtime, strftime \n",
    "import os\n",
    "import pytz\n",
    "from datetime import datetime"
   ]
  },
  {
   "cell_type": "markdown",
   "metadata": {},
   "source": [
    "Scrape the dashboard page"
   ]
  },
  {
   "cell_type": "code",
   "execution_count": 2,
   "metadata": {
    "execution": {
     "iopub.execute_input": "2021-03-20T06:46:31.925107Z",
     "iopub.status.busy": "2021-03-20T06:46:31.922571Z",
     "iopub.status.idle": "2021-03-20T06:46:32.497713Z",
     "shell.execute_reply": "2021-03-20T06:46:32.497147Z"
    }
   },
   "outputs": [],
   "source": [
    "url = \"https://public.tableau.com/interactive/views/COVID-19VaccineDashboardPublic/Vaccine?:embed=y&:showVizHome=n&:apiID=host0\"\n",
    "\n",
    "r = requests.get(url)\n",
    "soup = BeautifulSoup(r.text, \"html.parser\")"
   ]
  },
  {
   "cell_type": "code",
   "execution_count": 3,
   "metadata": {
    "execution": {
     "iopub.execute_input": "2021-03-20T06:46:32.501904Z",
     "iopub.status.busy": "2021-03-20T06:46:32.501477Z",
     "iopub.status.idle": "2021-03-20T06:46:32.504420Z",
     "shell.execute_reply": "2021-03-20T06:46:32.504041Z"
    }
   },
   "outputs": [],
   "source": [
    "tableauData = json.loads(soup.find(\"textarea\",{\"id\": \"tsConfigContainer\"}).text)"
   ]
  },
  {
   "cell_type": "markdown",
   "metadata": {},
   "source": [
    "Get the link to the Tableau data"
   ]
  },
  {
   "cell_type": "code",
   "execution_count": 4,
   "metadata": {
    "execution": {
     "iopub.execute_input": "2021-03-20T06:46:32.507439Z",
     "iopub.status.busy": "2021-03-20T06:46:32.506966Z",
     "iopub.status.idle": "2021-03-20T06:46:32.510103Z",
     "shell.execute_reply": "2021-03-20T06:46:32.509665Z"
    }
   },
   "outputs": [],
   "source": [
    "dataUrl = f'https://public.tableau.com{tableauData[\"vizql_root\"]}/bootstrapSession/sessions/{tableauData[\"sessionid\"]}'"
   ]
  },
  {
   "cell_type": "code",
   "execution_count": 5,
   "metadata": {
    "execution": {
     "iopub.execute_input": "2021-03-20T06:46:32.516211Z",
     "iopub.status.busy": "2021-03-20T06:46:32.515727Z",
     "iopub.status.idle": "2021-03-20T06:46:32.840444Z",
     "shell.execute_reply": "2021-03-20T06:46:32.839851Z"
    }
   },
   "outputs": [],
   "source": [
    "r = requests.post(dataUrl, data= {\n",
    "    \"sheet_id\": tableauData[\"sheetId\"],\n",
    "})\n",
    "\n",
    "dataReg = re.search('\\d+;({.*})\\d+;({.*})', r.text, re.MULTILINE)\n",
    "data1 = json.loads(dataReg.group(2))\n",
    "\n",
    "dataJson = data1[\"secondaryInfo\"][\"presModelMap\"][\"dataDictionary\"][\"presModelHolder\"][\"genDataDictionaryPresModel\"][\"dataSegments\"][\"0\"][\"dataColumns\"]"
   ]
  },
  {
   "cell_type": "markdown",
   "metadata": {},
   "source": [
    "Isolate what you want"
   ]
  },
  {
   "cell_type": "code",
   "execution_count": 6,
   "metadata": {
    "execution": {
     "iopub.execute_input": "2021-03-20T06:46:32.845300Z",
     "iopub.status.busy": "2021-03-20T06:46:32.844812Z",
     "iopub.status.idle": "2021-03-20T06:46:32.848309Z",
     "shell.execute_reply": "2021-03-20T06:46:32.847881Z"
    }
   },
   "outputs": [],
   "source": [
    "counties = dataJson[2]['dataValues'][:58]"
   ]
  },
  {
   "cell_type": "code",
   "execution_count": 7,
   "metadata": {
    "execution": {
     "iopub.execute_input": "2021-03-20T06:46:32.851587Z",
     "iopub.status.busy": "2021-03-20T06:46:32.851100Z",
     "iopub.status.idle": "2021-03-20T06:46:32.854477Z",
     "shell.execute_reply": "2021-03-20T06:46:32.854050Z"
    }
   },
   "outputs": [],
   "source": [
    "doses = dataJson[0]['dataValues'][3:61]"
   ]
  },
  {
   "cell_type": "markdown",
   "metadata": {},
   "source": [
    "Data formatting"
   ]
  },
  {
   "cell_type": "code",
   "execution_count": 8,
   "metadata": {
    "execution": {
     "iopub.execute_input": "2021-03-20T06:46:32.857408Z",
     "iopub.status.busy": "2021-03-20T06:46:32.856993Z",
     "iopub.status.idle": "2021-03-20T06:46:32.859841Z",
     "shell.execute_reply": "2021-03-20T06:46:32.859495Z"
    }
   },
   "outputs": [],
   "source": [
    "zipped = dict(zip(counties, doses))"
   ]
  },
  {
   "cell_type": "code",
   "execution_count": 9,
   "metadata": {
    "execution": {
     "iopub.execute_input": "2021-03-20T06:46:32.864398Z",
     "iopub.status.busy": "2021-03-20T06:46:32.863979Z",
     "iopub.status.idle": "2021-03-20T06:46:32.866825Z",
     "shell.execute_reply": "2021-03-20T06:46:32.866479Z"
    }
   },
   "outputs": [],
   "source": [
    "df = pd.Series(zipped).reset_index()"
   ]
  },
  {
   "cell_type": "code",
   "execution_count": 10,
   "metadata": {
    "execution": {
     "iopub.execute_input": "2021-03-20T06:46:32.869776Z",
     "iopub.status.busy": "2021-03-20T06:46:32.869243Z",
     "iopub.status.idle": "2021-03-20T06:46:32.871987Z",
     "shell.execute_reply": "2021-03-20T06:46:32.872312Z"
    }
   },
   "outputs": [],
   "source": [
    "df.columns = ['location','doses']"
   ]
  },
  {
   "cell_type": "markdown",
   "metadata": {},
   "source": [
    "Grab the overall California total"
   ]
  },
  {
   "cell_type": "code",
   "execution_count": 11,
   "metadata": {
    "execution": {
     "iopub.execute_input": "2021-03-20T06:46:32.875577Z",
     "iopub.status.busy": "2021-03-20T06:46:32.874825Z",
     "iopub.status.idle": "2021-03-20T06:46:32.876394Z",
     "shell.execute_reply": "2021-03-20T06:46:32.876725Z"
    }
   },
   "outputs": [],
   "source": [
    "add = {'location':'California','doses':dataJson[0]['dataValues'][2]}"
   ]
  },
  {
   "cell_type": "code",
   "execution_count": 12,
   "metadata": {
    "execution": {
     "iopub.execute_input": "2021-03-20T06:46:32.882179Z",
     "iopub.status.busy": "2021-03-20T06:46:32.881442Z",
     "iopub.status.idle": "2021-03-20T06:46:32.883363Z",
     "shell.execute_reply": "2021-03-20T06:46:32.882906Z"
    }
   },
   "outputs": [],
   "source": [
    "df = df.append(add, ignore_index=True)"
   ]
  },
  {
   "cell_type": "code",
   "execution_count": 13,
   "metadata": {
    "execution": {
     "iopub.execute_input": "2021-03-20T06:46:32.887350Z",
     "iopub.status.busy": "2021-03-20T06:46:32.886588Z",
     "iopub.status.idle": "2021-03-20T06:46:32.888358Z",
     "shell.execute_reply": "2021-03-20T06:46:32.888013Z"
    }
   },
   "outputs": [],
   "source": [
    "df = df.sort_values(by='location')"
   ]
  },
  {
   "cell_type": "code",
   "execution_count": 14,
   "metadata": {
    "execution": {
     "iopub.execute_input": "2021-03-20T06:46:32.893427Z",
     "iopub.status.busy": "2021-03-20T06:46:32.892575Z",
     "iopub.status.idle": "2021-03-20T06:46:32.894233Z",
     "shell.execute_reply": "2021-03-20T06:46:32.894592Z"
    }
   },
   "outputs": [],
   "source": [
    "df = df[df.location == 'California'].append(df[df.location != 'California']).reset_index(drop=True)"
   ]
  },
  {
   "cell_type": "code",
   "execution_count": null,
   "metadata": {},
   "outputs": [],
   "source": []
  },
  {
   "cell_type": "code",
   "execution_count": 15,
   "metadata": {
    "execution": {
     "iopub.execute_input": "2021-03-20T06:46:32.897431Z",
     "iopub.status.busy": "2021-03-20T06:46:32.897015Z",
     "iopub.status.idle": "2021-03-20T06:46:32.911840Z",
     "shell.execute_reply": "2021-03-20T06:46:32.911447Z"
    }
   },
   "outputs": [],
   "source": [
    "tz = pytz.timezone(\"America/New_York\")"
   ]
  },
  {
   "cell_type": "code",
   "execution_count": 16,
   "metadata": {
    "execution": {
     "iopub.execute_input": "2021-03-20T06:46:32.915473Z",
     "iopub.status.busy": "2021-03-20T06:46:32.914360Z",
     "iopub.status.idle": "2021-03-20T06:46:32.916124Z",
     "shell.execute_reply": "2021-03-20T06:46:32.916584Z"
    }
   },
   "outputs": [],
   "source": [
    "today = datetime.now(tz).date()"
   ]
  },
  {
   "cell_type": "code",
   "execution_count": 17,
   "metadata": {
    "execution": {
     "iopub.execute_input": "2021-03-20T06:46:32.920068Z",
     "iopub.status.busy": "2021-03-20T06:46:32.919314Z",
     "iopub.status.idle": "2021-03-20T06:46:32.921253Z",
     "shell.execute_reply": "2021-03-20T06:46:32.920905Z"
    }
   },
   "outputs": [],
   "source": [
    "data_dir = os.path.join(os.path.abspath(\"\"), \"data\")"
   ]
  },
  {
   "cell_type": "code",
   "execution_count": 18,
   "metadata": {
    "execution": {
     "iopub.execute_input": "2021-03-20T06:46:32.924406Z",
     "iopub.status.busy": "2021-03-20T06:46:32.923801Z",
     "iopub.status.idle": "2021-03-20T06:46:32.927740Z",
     "shell.execute_reply": "2021-03-20T06:46:32.927319Z"
    }
   },
   "outputs": [],
   "source": [
    "df.to_csv(os.path.join(data_dir, f\"{today}.csv\"), index=False)"
   ]
  },
  {
   "cell_type": "code",
   "execution_count": null,
   "metadata": {},
   "outputs": [],
   "source": []
  }
 ],
 "metadata": {
  "kernelspec": {
   "display_name": "Python 3",
   "language": "python",
   "name": "python3"
  },
  "language_info": {
   "codemirror_mode": {
    "name": "ipython",
    "version": 3
   },
   "file_extension": ".py",
   "mimetype": "text/x-python",
   "name": "python",
   "nbconvert_exporter": "python",
   "pygments_lexer": "ipython3",
   "version": "3.8.8"
  }
 },
 "nbformat": 4,
 "nbformat_minor": 4
}
