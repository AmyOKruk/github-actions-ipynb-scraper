{
 "cells": [
  {
   "cell_type": "markdown",
   "metadata": {},
   "source": [
    "# California COVID vaccinations scrape"
   ]
  },
  {
   "cell_type": "markdown",
   "metadata": {},
   "source": [
    "By [Amy O'Kruk](https://twitter.com/amyokruk)"
   ]
  },
  {
   "cell_type": "markdown",
   "metadata": {},
   "source": [
    "Downloads data on vaccine doses administered by county and statewide from a Tableau-powered dashboard from the California Department of Public Health."
   ]
  },
  {
   "cell_type": "code",
   "execution_count": 1,
   "metadata": {
    "execution": {
     "iopub.execute_input": "2021-03-19T01:31:32.770550Z",
     "iopub.status.busy": "2021-03-19T01:31:32.769886Z",
     "iopub.status.idle": "2021-03-19T01:31:33.225278Z",
     "shell.execute_reply": "2021-03-19T01:31:33.225768Z"
    }
   },
   "outputs": [],
   "source": [
    "import pandas as pd\n",
    "import requests\n",
    "from bs4 import BeautifulSoup\n",
    "import json\n",
    "import re\n",
    "import time\n",
    "from time import gmtime, strftime \n",
    "import os\n",
    "import pytz\n",
    "from datetime import datetime"
   ]
  },
  {
   "cell_type": "markdown",
   "metadata": {},
   "source": [
    "Scrape the dashboard page"
   ]
  },
  {
   "cell_type": "code",
   "execution_count": 2,
   "metadata": {
    "execution": {
     "iopub.execute_input": "2021-03-19T01:31:33.232046Z",
     "iopub.status.busy": "2021-03-19T01:31:33.231180Z",
     "iopub.status.idle": "2021-03-19T01:31:33.453787Z",
     "shell.execute_reply": "2021-03-19T01:31:33.453301Z"
    }
   },
   "outputs": [],
   "source": [
    "url = \"https://public.tableau.com/interactive/views/COVID-19VaccineDashboardPublic/Vaccine?:embed=y&:showVizHome=n&:apiID=host0\"\n",
    "\n",
    "r = requests.get(url)\n",
    "soup = BeautifulSoup(r.text, \"html.parser\")"
   ]
  },
  {
   "cell_type": "code",
   "execution_count": 3,
   "metadata": {
    "execution": {
     "iopub.execute_input": "2021-03-19T01:31:33.458417Z",
     "iopub.status.busy": "2021-03-19T01:31:33.457918Z",
     "iopub.status.idle": "2021-03-19T01:31:33.460934Z",
     "shell.execute_reply": "2021-03-19T01:31:33.461397Z"
    }
   },
   "outputs": [],
   "source": [
    "tableauData = json.loads(soup.find(\"textarea\",{\"id\": \"tsConfigContainer\"}).text)"
   ]
  },
  {
   "cell_type": "markdown",
   "metadata": {},
   "source": [
    "Get the link to the Tableau data"
   ]
  },
  {
   "cell_type": "code",
   "execution_count": 4,
   "metadata": {
    "execution": {
     "iopub.execute_input": "2021-03-19T01:31:33.464932Z",
     "iopub.status.busy": "2021-03-19T01:31:33.464430Z",
     "iopub.status.idle": "2021-03-19T01:31:33.467512Z",
     "shell.execute_reply": "2021-03-19T01:31:33.467905Z"
    }
   },
   "outputs": [],
   "source": [
    "dataUrl = f'https://public.tableau.com{tableauData[\"vizql_root\"]}/bootstrapSession/sessions/{tableauData[\"sessionid\"]}'"
   ]
  },
  {
   "cell_type": "code",
   "execution_count": 5,
   "metadata": {
    "execution": {
     "iopub.execute_input": "2021-03-19T01:31:33.474261Z",
     "iopub.status.busy": "2021-03-19T01:31:33.473737Z",
     "iopub.status.idle": "2021-03-19T01:31:33.584293Z",
     "shell.execute_reply": "2021-03-19T01:31:33.583791Z"
    }
   },
   "outputs": [],
   "source": [
    "r = requests.post(dataUrl, data= {\n",
    "    \"sheet_id\": tableauData[\"sheetId\"],\n",
    "})\n",
    "\n",
    "dataReg = re.search('\\d+;({.*})\\d+;({.*})', r.text, re.MULTILINE)\n",
    "data1 = json.loads(dataReg.group(2))\n",
    "\n",
    "dataJson = data1[\"secondaryInfo\"][\"presModelMap\"][\"dataDictionary\"][\"presModelHolder\"][\"genDataDictionaryPresModel\"][\"dataSegments\"][\"0\"][\"dataColumns\"]"
   ]
  },
  {
   "cell_type": "markdown",
   "metadata": {},
   "source": [
    "Isolate what you want"
   ]
  },
  {
   "cell_type": "code",
   "execution_count": 6,
   "metadata": {
    "execution": {
     "iopub.execute_input": "2021-03-19T01:31:33.588119Z",
     "iopub.status.busy": "2021-03-19T01:31:33.587590Z",
     "iopub.status.idle": "2021-03-19T01:31:33.590748Z",
     "shell.execute_reply": "2021-03-19T01:31:33.591166Z"
    }
   },
   "outputs": [],
   "source": [
    "counties = dataJson[2]['dataValues'][:58]"
   ]
  },
  {
   "cell_type": "code",
   "execution_count": 7,
   "metadata": {
    "execution": {
     "iopub.execute_input": "2021-03-19T01:31:33.595591Z",
     "iopub.status.busy": "2021-03-19T01:31:33.594496Z",
     "iopub.status.idle": "2021-03-19T01:31:33.596443Z",
     "shell.execute_reply": "2021-03-19T01:31:33.596861Z"
    }
   },
   "outputs": [],
   "source": [
    "doses = dataJson[0]['dataValues'][3:61]"
   ]
  },
  {
   "cell_type": "markdown",
   "metadata": {},
   "source": [
    "Data formatting"
   ]
  },
  {
   "cell_type": "code",
   "execution_count": 8,
   "metadata": {
    "execution": {
     "iopub.execute_input": "2021-03-19T01:31:33.601245Z",
     "iopub.status.busy": "2021-03-19T01:31:33.599923Z",
     "iopub.status.idle": "2021-03-19T01:31:33.601836Z",
     "shell.execute_reply": "2021-03-19T01:31:33.602331Z"
    }
   },
   "outputs": [],
   "source": [
    "zipped = dict(zip(counties, doses))"
   ]
  },
  {
   "cell_type": "code",
   "execution_count": 9,
   "metadata": {
    "execution": {
     "iopub.execute_input": "2021-03-19T01:31:33.609404Z",
     "iopub.status.busy": "2021-03-19T01:31:33.607535Z",
     "iopub.status.idle": "2021-03-19T01:31:33.611370Z",
     "shell.execute_reply": "2021-03-19T01:31:33.610932Z"
    }
   },
   "outputs": [],
   "source": [
    "df = pd.Series(zipped).reset_index()"
   ]
  },
  {
   "cell_type": "code",
   "execution_count": 10,
   "metadata": {
    "execution": {
     "iopub.execute_input": "2021-03-19T01:31:33.615584Z",
     "iopub.status.busy": "2021-03-19T01:31:33.614491Z",
     "iopub.status.idle": "2021-03-19T01:31:33.616447Z",
     "shell.execute_reply": "2021-03-19T01:31:33.616880Z"
    }
   },
   "outputs": [],
   "source": [
    "df.columns = ['location','doses']"
   ]
  },
  {
   "cell_type": "markdown",
   "metadata": {},
   "source": [
    "Grab the overall California total"
   ]
  },
  {
   "cell_type": "code",
   "execution_count": 11,
   "metadata": {
    "execution": {
     "iopub.execute_input": "2021-03-19T01:31:33.621546Z",
     "iopub.status.busy": "2021-03-19T01:31:33.620197Z",
     "iopub.status.idle": "2021-03-19T01:31:33.622130Z",
     "shell.execute_reply": "2021-03-19T01:31:33.622547Z"
    }
   },
   "outputs": [],
   "source": [
    "add = {'location':'California','doses':dataJson[0]['dataValues'][2]}"
   ]
  },
  {
   "cell_type": "code",
   "execution_count": 12,
   "metadata": {
    "execution": {
     "iopub.execute_input": "2021-03-19T01:31:33.629688Z",
     "iopub.status.busy": "2021-03-19T01:31:33.628616Z",
     "iopub.status.idle": "2021-03-19T01:31:33.630494Z",
     "shell.execute_reply": "2021-03-19T01:31:33.630959Z"
    }
   },
   "outputs": [],
   "source": [
    "df = df.append(add, ignore_index=True)"
   ]
  },
  {
   "cell_type": "code",
   "execution_count": 13,
   "metadata": {
    "execution": {
     "iopub.execute_input": "2021-03-19T01:31:33.635954Z",
     "iopub.status.busy": "2021-03-19T01:31:33.634710Z",
     "iopub.status.idle": "2021-03-19T01:31:33.636654Z",
     "shell.execute_reply": "2021-03-19T01:31:33.637097Z"
    }
   },
   "outputs": [],
   "source": [
    "df = df.sort_values(by='location')"
   ]
  },
  {
   "cell_type": "code",
   "execution_count": 14,
   "metadata": {
    "execution": {
     "iopub.execute_input": "2021-03-19T01:31:33.643805Z",
     "iopub.status.busy": "2021-03-19T01:31:33.642555Z",
     "iopub.status.idle": "2021-03-19T01:31:33.644399Z",
     "shell.execute_reply": "2021-03-19T01:31:33.644818Z"
    }
   },
   "outputs": [],
   "source": [
    "df = df[df.location == 'California'].append(df[df.location != 'California']).reset_index(drop=True)"
   ]
  },
  {
   "cell_type": "code",
   "execution_count": null,
   "metadata": {},
   "outputs": [],
   "source": []
  },
  {
   "cell_type": "code",
   "execution_count": 15,
   "metadata": {
    "execution": {
     "iopub.execute_input": "2021-03-19T01:31:33.648225Z",
     "iopub.status.busy": "2021-03-19T01:31:33.647697Z",
     "iopub.status.idle": "2021-03-19T01:31:33.665206Z",
     "shell.execute_reply": "2021-03-19T01:31:33.665650Z"
    }
   },
   "outputs": [],
   "source": [
    "tz = pytz.timezone(\"America/New_York\")"
   ]
  },
  {
   "cell_type": "code",
   "execution_count": 16,
   "metadata": {
    "execution": {
     "iopub.execute_input": "2021-03-19T01:31:33.669947Z",
     "iopub.status.busy": "2021-03-19T01:31:33.668704Z",
     "iopub.status.idle": "2021-03-19T01:31:33.670585Z",
     "shell.execute_reply": "2021-03-19T01:31:33.671074Z"
    }
   },
   "outputs": [],
   "source": [
    "today = datetime.now(tz).date()"
   ]
  },
  {
   "cell_type": "code",
   "execution_count": 17,
   "metadata": {
    "execution": {
     "iopub.execute_input": "2021-03-19T01:31:33.675959Z",
     "iopub.status.busy": "2021-03-19T01:31:33.674671Z",
     "iopub.status.idle": "2021-03-19T01:31:33.676625Z",
     "shell.execute_reply": "2021-03-19T01:31:33.677090Z"
    }
   },
   "outputs": [],
   "source": [
    "data_dir = os.path.join(os.path.abspath(\"\"), \"data\")"
   ]
  },
  {
   "cell_type": "code",
   "execution_count": 18,
   "metadata": {
    "execution": {
     "iopub.execute_input": "2021-03-19T01:31:33.682368Z",
     "iopub.status.busy": "2021-03-19T01:31:33.680250Z",
     "iopub.status.idle": "2021-03-19T01:31:33.684708Z",
     "shell.execute_reply": "2021-03-19T01:31:33.684268Z"
    }
   },
   "outputs": [],
   "source": [
    "df.to_csv(os.path.join(data_dir, f\"{today}.csv\"), index=False)"
   ]
  },
  {
   "cell_type": "code",
   "execution_count": null,
   "metadata": {},
   "outputs": [],
   "source": []
  }
 ],
 "metadata": {
  "kernelspec": {
   "display_name": "Python 3",
   "language": "python",
   "name": "python3"
  },
  "language_info": {
   "codemirror_mode": {
    "name": "ipython",
    "version": 3
   },
   "file_extension": ".py",
   "mimetype": "text/x-python",
   "name": "python",
   "nbconvert_exporter": "python",
   "pygments_lexer": "ipython3",
   "version": "3.8.8"
  }
 },
 "nbformat": 4,
 "nbformat_minor": 4
}
