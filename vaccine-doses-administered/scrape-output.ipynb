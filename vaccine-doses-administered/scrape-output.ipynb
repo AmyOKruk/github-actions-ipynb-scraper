{
 "cells": [
  {
   "cell_type": "markdown",
   "metadata": {},
   "source": [
    "# California COVID vaccinations scrape"
   ]
  },
  {
   "cell_type": "markdown",
   "metadata": {},
   "source": [
    "By [Amy O'Kruk](https://twitter.com/amyokruk)"
   ]
  },
  {
   "cell_type": "markdown",
   "metadata": {},
   "source": [
    "Downloads data on vaccine doses administered by county and statewide from a Tableau-powered dashboard from the California Department of Public Health."
   ]
  },
  {
   "cell_type": "code",
   "execution_count": 1,
   "metadata": {
    "execution": {
     "iopub.execute_input": "2021-03-19T07:40:03.233148Z",
     "iopub.status.busy": "2021-03-19T07:40:03.232620Z",
     "iopub.status.idle": "2021-03-19T07:40:03.582432Z",
     "shell.execute_reply": "2021-03-19T07:40:03.581672Z"
    }
   },
   "outputs": [],
   "source": [
    "import pandas as pd\n",
    "import requests\n",
    "from bs4 import BeautifulSoup\n",
    "import json\n",
    "import re\n",
    "import time\n",
    "from time import gmtime, strftime \n",
    "import os\n",
    "import pytz\n",
    "from datetime import datetime"
   ]
  },
  {
   "cell_type": "markdown",
   "metadata": {},
   "source": [
    "Scrape the dashboard page"
   ]
  },
  {
   "cell_type": "code",
   "execution_count": 2,
   "metadata": {
    "execution": {
     "iopub.execute_input": "2021-03-19T07:40:03.586976Z",
     "iopub.status.busy": "2021-03-19T07:40:03.586325Z",
     "iopub.status.idle": "2021-03-19T07:40:04.120308Z",
     "shell.execute_reply": "2021-03-19T07:40:04.119384Z"
    }
   },
   "outputs": [],
   "source": [
    "url = \"https://public.tableau.com/interactive/views/COVID-19VaccineDashboardPublic/Vaccine?:embed=y&:showVizHome=n&:apiID=host0\"\n",
    "\n",
    "r = requests.get(url)\n",
    "soup = BeautifulSoup(r.text, \"html.parser\")"
   ]
  },
  {
   "cell_type": "code",
   "execution_count": 3,
   "metadata": {
    "execution": {
     "iopub.execute_input": "2021-03-19T07:40:04.124549Z",
     "iopub.status.busy": "2021-03-19T07:40:04.124040Z",
     "iopub.status.idle": "2021-03-19T07:40:04.127924Z",
     "shell.execute_reply": "2021-03-19T07:40:04.127149Z"
    }
   },
   "outputs": [],
   "source": [
    "tableauData = json.loads(soup.find(\"textarea\",{\"id\": \"tsConfigContainer\"}).text)"
   ]
  },
  {
   "cell_type": "markdown",
   "metadata": {},
   "source": [
    "Get the link to the Tableau data"
   ]
  },
  {
   "cell_type": "code",
   "execution_count": 4,
   "metadata": {
    "execution": {
     "iopub.execute_input": "2021-03-19T07:40:04.131213Z",
     "iopub.status.busy": "2021-03-19T07:40:04.130702Z",
     "iopub.status.idle": "2021-03-19T07:40:04.133989Z",
     "shell.execute_reply": "2021-03-19T07:40:04.134495Z"
    }
   },
   "outputs": [],
   "source": [
    "dataUrl = f'https://public.tableau.com{tableauData[\"vizql_root\"]}/bootstrapSession/sessions/{tableauData[\"sessionid\"]}'"
   ]
  },
  {
   "cell_type": "code",
   "execution_count": 5,
   "metadata": {
    "execution": {
     "iopub.execute_input": "2021-03-19T07:40:04.140333Z",
     "iopub.status.busy": "2021-03-19T07:40:04.139738Z",
     "iopub.status.idle": "2021-03-19T07:40:04.456993Z",
     "shell.execute_reply": "2021-03-19T07:40:04.456571Z"
    }
   },
   "outputs": [],
   "source": [
    "r = requests.post(dataUrl, data= {\n",
    "    \"sheet_id\": tableauData[\"sheetId\"],\n",
    "})\n",
    "\n",
    "dataReg = re.search('\\d+;({.*})\\d+;({.*})', r.text, re.MULTILINE)\n",
    "data1 = json.loads(dataReg.group(2))\n",
    "\n",
    "dataJson = data1[\"secondaryInfo\"][\"presModelMap\"][\"dataDictionary\"][\"presModelHolder\"][\"genDataDictionaryPresModel\"][\"dataSegments\"][\"0\"][\"dataColumns\"]"
   ]
  },
  {
   "cell_type": "markdown",
   "metadata": {},
   "source": [
    "Isolate what you want"
   ]
  },
  {
   "cell_type": "code",
   "execution_count": 6,
   "metadata": {
    "execution": {
     "iopub.execute_input": "2021-03-19T07:40:04.460928Z",
     "iopub.status.busy": "2021-03-19T07:40:04.460469Z",
     "iopub.status.idle": "2021-03-19T07:40:04.462311Z",
     "shell.execute_reply": "2021-03-19T07:40:04.462918Z"
    }
   },
   "outputs": [],
   "source": [
    "counties = dataJson[2]['dataValues'][:58]"
   ]
  },
  {
   "cell_type": "code",
   "execution_count": 7,
   "metadata": {
    "execution": {
     "iopub.execute_input": "2021-03-19T07:40:04.465923Z",
     "iopub.status.busy": "2021-03-19T07:40:04.465465Z",
     "iopub.status.idle": "2021-03-19T07:40:04.469048Z",
     "shell.execute_reply": "2021-03-19T07:40:04.468186Z"
    }
   },
   "outputs": [],
   "source": [
    "doses = dataJson[0]['dataValues'][3:61]"
   ]
  },
  {
   "cell_type": "markdown",
   "metadata": {},
   "source": [
    "Data formatting"
   ]
  },
  {
   "cell_type": "code",
   "execution_count": 8,
   "metadata": {
    "execution": {
     "iopub.execute_input": "2021-03-19T07:40:04.471941Z",
     "iopub.status.busy": "2021-03-19T07:40:04.471483Z",
     "iopub.status.idle": "2021-03-19T07:40:04.474407Z",
     "shell.execute_reply": "2021-03-19T07:40:04.474881Z"
    }
   },
   "outputs": [],
   "source": [
    "zipped = dict(zip(counties, doses))"
   ]
  },
  {
   "cell_type": "code",
   "execution_count": 9,
   "metadata": {
    "execution": {
     "iopub.execute_input": "2021-03-19T07:40:04.480570Z",
     "iopub.status.busy": "2021-03-19T07:40:04.479733Z",
     "iopub.status.idle": "2021-03-19T07:40:04.481313Z",
     "shell.execute_reply": "2021-03-19T07:40:04.481724Z"
    }
   },
   "outputs": [],
   "source": [
    "df = pd.Series(zipped).reset_index()"
   ]
  },
  {
   "cell_type": "code",
   "execution_count": 10,
   "metadata": {
    "execution": {
     "iopub.execute_input": "2021-03-19T07:40:04.485318Z",
     "iopub.status.busy": "2021-03-19T07:40:04.484467Z",
     "iopub.status.idle": "2021-03-19T07:40:04.486164Z",
     "shell.execute_reply": "2021-03-19T07:40:04.486551Z"
    }
   },
   "outputs": [],
   "source": [
    "df.columns = ['location','doses']"
   ]
  },
  {
   "cell_type": "markdown",
   "metadata": {},
   "source": [
    "Grab the overall California total"
   ]
  },
  {
   "cell_type": "code",
   "execution_count": 11,
   "metadata": {
    "execution": {
     "iopub.execute_input": "2021-03-19T07:40:04.490361Z",
     "iopub.status.busy": "2021-03-19T07:40:04.489287Z",
     "iopub.status.idle": "2021-03-19T07:40:04.490883Z",
     "shell.execute_reply": "2021-03-19T07:40:04.491269Z"
    }
   },
   "outputs": [],
   "source": [
    "add = {'location':'California','doses':dataJson[0]['dataValues'][2]}"
   ]
  },
  {
   "cell_type": "code",
   "execution_count": 12,
   "metadata": {
    "execution": {
     "iopub.execute_input": "2021-03-19T07:40:04.497315Z",
     "iopub.status.busy": "2021-03-19T07:40:04.496470Z",
     "iopub.status.idle": "2021-03-19T07:40:04.498184Z",
     "shell.execute_reply": "2021-03-19T07:40:04.498541Z"
    }
   },
   "outputs": [],
   "source": [
    "df = df.append(add, ignore_index=True)"
   ]
  },
  {
   "cell_type": "code",
   "execution_count": 13,
   "metadata": {
    "execution": {
     "iopub.execute_input": "2021-03-19T07:40:04.502613Z",
     "iopub.status.busy": "2021-03-19T07:40:04.501792Z",
     "iopub.status.idle": "2021-03-19T07:40:04.503901Z",
     "shell.execute_reply": "2021-03-19T07:40:04.503406Z"
    }
   },
   "outputs": [],
   "source": [
    "df = df.sort_values(by='location')"
   ]
  },
  {
   "cell_type": "code",
   "execution_count": 14,
   "metadata": {
    "execution": {
     "iopub.execute_input": "2021-03-19T07:40:04.508709Z",
     "iopub.status.busy": "2021-03-19T07:40:04.507972Z",
     "iopub.status.idle": "2021-03-19T07:40:04.510371Z",
     "shell.execute_reply": "2021-03-19T07:40:04.510733Z"
    }
   },
   "outputs": [],
   "source": [
    "df = df[df.location == 'California'].append(df[df.location != 'California']).reset_index(drop=True)"
   ]
  },
  {
   "cell_type": "code",
   "execution_count": null,
   "metadata": {},
   "outputs": [],
   "source": []
  },
  {
   "cell_type": "code",
   "execution_count": 15,
   "metadata": {
    "execution": {
     "iopub.execute_input": "2021-03-19T07:40:04.513484Z",
     "iopub.status.busy": "2021-03-19T07:40:04.513006Z",
     "iopub.status.idle": "2021-03-19T07:40:04.530179Z",
     "shell.execute_reply": "2021-03-19T07:40:04.530804Z"
    }
   },
   "outputs": [],
   "source": [
    "tz = pytz.timezone(\"America/New_York\")"
   ]
  },
  {
   "cell_type": "code",
   "execution_count": 16,
   "metadata": {
    "execution": {
     "iopub.execute_input": "2021-03-19T07:40:04.535138Z",
     "iopub.status.busy": "2021-03-19T07:40:04.534276Z",
     "iopub.status.idle": "2021-03-19T07:40:04.535933Z",
     "shell.execute_reply": "2021-03-19T07:40:04.536333Z"
    }
   },
   "outputs": [],
   "source": [
    "today = datetime.now(tz).date()"
   ]
  },
  {
   "cell_type": "code",
   "execution_count": 17,
   "metadata": {
    "execution": {
     "iopub.execute_input": "2021-03-19T07:40:04.540086Z",
     "iopub.status.busy": "2021-03-19T07:40:04.539119Z",
     "iopub.status.idle": "2021-03-19T07:40:04.541039Z",
     "shell.execute_reply": "2021-03-19T07:40:04.543062Z"
    }
   },
   "outputs": [],
   "source": [
    "data_dir = os.path.join(os.path.abspath(\"\"), \"data\")"
   ]
  },
  {
   "cell_type": "code",
   "execution_count": 18,
   "metadata": {
    "execution": {
     "iopub.execute_input": "2021-03-19T07:40:04.547824Z",
     "iopub.status.busy": "2021-03-19T07:40:04.546921Z",
     "iopub.status.idle": "2021-03-19T07:40:04.563508Z",
     "shell.execute_reply": "2021-03-19T07:40:04.564253Z"
    }
   },
   "outputs": [],
   "source": [
    "df.to_csv(os.path.join(data_dir, f\"{today}.csv\"), index=False)"
   ]
  },
  {
   "cell_type": "code",
   "execution_count": null,
   "metadata": {},
   "outputs": [],
   "source": []
  }
 ],
 "metadata": {
  "kernelspec": {
   "display_name": "Python 3",
   "language": "python",
   "name": "python3"
  },
  "language_info": {
   "codemirror_mode": {
    "name": "ipython",
    "version": 3
   },
   "file_extension": ".py",
   "mimetype": "text/x-python",
   "name": "python",
   "nbconvert_exporter": "python",
   "pygments_lexer": "ipython3",
   "version": "3.8.8"
  }
 },
 "nbformat": 4,
 "nbformat_minor": 4
}
