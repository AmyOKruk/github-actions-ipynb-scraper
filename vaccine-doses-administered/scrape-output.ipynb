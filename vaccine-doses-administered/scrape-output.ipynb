{
 "cells": [
  {
   "cell_type": "markdown",
   "metadata": {},
   "source": [
    "# California COVID vaccinations scrape"
   ]
  },
  {
   "cell_type": "markdown",
   "metadata": {},
   "source": [
    "By [Amy O'Kruk](https://twitter.com/amyokruk)"
   ]
  },
  {
   "cell_type": "markdown",
   "metadata": {},
   "source": [
    "Downloads data on vaccine doses administered by county and statewide from a Tableau-powered dashboard from the California Department of Public Health."
   ]
  },
  {
   "cell_type": "code",
   "execution_count": 1,
   "metadata": {
    "execution": {
     "iopub.execute_input": "2021-03-25T08:48:17.173956Z",
     "iopub.status.busy": "2021-03-25T08:48:17.173383Z",
     "iopub.status.idle": "2021-03-25T08:48:17.557043Z",
     "shell.execute_reply": "2021-03-25T08:48:17.557450Z"
    }
   },
   "outputs": [],
   "source": [
    "import pandas as pd\n",
    "import requests\n",
    "from bs4 import BeautifulSoup\n",
    "import json\n",
    "import re\n",
    "import time\n",
    "from time import gmtime, strftime \n",
    "import os\n",
    "import pytz\n",
    "from datetime import datetime"
   ]
  },
  {
   "cell_type": "markdown",
   "metadata": {},
   "source": [
    "Scrape the dashboard page"
   ]
  },
  {
   "cell_type": "code",
   "execution_count": 2,
   "metadata": {
    "execution": {
     "iopub.execute_input": "2021-03-25T08:48:17.563591Z",
     "iopub.status.busy": "2021-03-25T08:48:17.560918Z",
     "iopub.status.idle": "2021-03-25T08:48:18.190291Z",
     "shell.execute_reply": "2021-03-25T08:48:18.189349Z"
    }
   },
   "outputs": [],
   "source": [
    "url = \"https://public.tableau.com/interactive/views/COVID-19VaccineDashboardPublic/Vaccine?:embed=y&:showVizHome=n&:apiID=host0\"\n",
    "\n",
    "r = requests.get(url)\n",
    "soup = BeautifulSoup(r.text, \"html.parser\")"
   ]
  },
  {
   "cell_type": "code",
   "execution_count": 3,
   "metadata": {
    "execution": {
     "iopub.execute_input": "2021-03-25T08:48:18.195085Z",
     "iopub.status.busy": "2021-03-25T08:48:18.194565Z",
     "iopub.status.idle": "2021-03-25T08:48:18.197967Z",
     "shell.execute_reply": "2021-03-25T08:48:18.197506Z"
    }
   },
   "outputs": [],
   "source": [
    "tableauData = json.loads(soup.find(\"textarea\",{\"id\": \"tsConfigContainer\"}).text)"
   ]
  },
  {
   "cell_type": "markdown",
   "metadata": {},
   "source": [
    "Get the link to the Tableau data"
   ]
  },
  {
   "cell_type": "code",
   "execution_count": 4,
   "metadata": {
    "execution": {
     "iopub.execute_input": "2021-03-25T08:48:18.201513Z",
     "iopub.status.busy": "2021-03-25T08:48:18.201037Z",
     "iopub.status.idle": "2021-03-25T08:48:18.203931Z",
     "shell.execute_reply": "2021-03-25T08:48:18.204366Z"
    }
   },
   "outputs": [],
   "source": [
    "dataUrl = f'https://public.tableau.com{tableauData[\"vizql_root\"]}/bootstrapSession/sessions/{tableauData[\"sessionid\"]}'"
   ]
  },
  {
   "cell_type": "code",
   "execution_count": 5,
   "metadata": {
    "execution": {
     "iopub.execute_input": "2021-03-25T08:48:18.211005Z",
     "iopub.status.busy": "2021-03-25T08:48:18.206428Z",
     "iopub.status.idle": "2021-03-25T08:48:18.558480Z",
     "shell.execute_reply": "2021-03-25T08:48:18.557940Z"
    }
   },
   "outputs": [],
   "source": [
    "r = requests.post(dataUrl, data= {\n",
    "    \"sheet_id\": tableauData[\"sheetId\"],\n",
    "})\n",
    "\n",
    "dataReg = re.search('\\d+;({.*})\\d+;({.*})', r.text, re.MULTILINE)\n",
    "data1 = json.loads(dataReg.group(2))\n",
    "\n",
    "dataJson = data1[\"secondaryInfo\"][\"presModelMap\"][\"dataDictionary\"][\"presModelHolder\"][\"genDataDictionaryPresModel\"][\"dataSegments\"][\"0\"][\"dataColumns\"]"
   ]
  },
  {
   "cell_type": "markdown",
   "metadata": {},
   "source": [
    "Isolate what you want"
   ]
  },
  {
   "cell_type": "code",
   "execution_count": 6,
   "metadata": {
    "execution": {
     "iopub.execute_input": "2021-03-25T08:48:18.562308Z",
     "iopub.status.busy": "2021-03-25T08:48:18.561762Z",
     "iopub.status.idle": "2021-03-25T08:48:18.565169Z",
     "shell.execute_reply": "2021-03-25T08:48:18.565600Z"
    }
   },
   "outputs": [],
   "source": [
    "counties = dataJson[2]['dataValues'][:58]"
   ]
  },
  {
   "cell_type": "code",
   "execution_count": 7,
   "metadata": {
    "execution": {
     "iopub.execute_input": "2021-03-25T08:48:18.569259Z",
     "iopub.status.busy": "2021-03-25T08:48:18.568750Z",
     "iopub.status.idle": "2021-03-25T08:48:18.571955Z",
     "shell.execute_reply": "2021-03-25T08:48:18.571532Z"
    }
   },
   "outputs": [],
   "source": [
    "doses = dataJson[0]['dataValues'][3:61]"
   ]
  },
  {
   "cell_type": "markdown",
   "metadata": {},
   "source": [
    "Data formatting"
   ]
  },
  {
   "cell_type": "code",
   "execution_count": 8,
   "metadata": {
    "execution": {
     "iopub.execute_input": "2021-03-25T08:48:18.575414Z",
     "iopub.status.busy": "2021-03-25T08:48:18.574905Z",
     "iopub.status.idle": "2021-03-25T08:48:18.578238Z",
     "shell.execute_reply": "2021-03-25T08:48:18.578673Z"
    }
   },
   "outputs": [],
   "source": [
    "zipped = dict(zip(counties, doses))"
   ]
  },
  {
   "cell_type": "code",
   "execution_count": 9,
   "metadata": {
    "execution": {
     "iopub.execute_input": "2021-03-25T08:48:18.584272Z",
     "iopub.status.busy": "2021-03-25T08:48:18.583760Z",
     "iopub.status.idle": "2021-03-25T08:48:18.586675Z",
     "shell.execute_reply": "2021-03-25T08:48:18.587261Z"
    }
   },
   "outputs": [],
   "source": [
    "df = pd.Series(zipped).reset_index()"
   ]
  },
  {
   "cell_type": "code",
   "execution_count": 10,
   "metadata": {
    "execution": {
     "iopub.execute_input": "2021-03-25T08:48:18.590884Z",
     "iopub.status.busy": "2021-03-25T08:48:18.590372Z",
     "iopub.status.idle": "2021-03-25T08:48:18.594155Z",
     "shell.execute_reply": "2021-03-25T08:48:18.593208Z"
    }
   },
   "outputs": [],
   "source": [
    "df.columns = ['location','doses']"
   ]
  },
  {
   "cell_type": "markdown",
   "metadata": {},
   "source": [
    "Grab the overall California total"
   ]
  },
  {
   "cell_type": "code",
   "execution_count": 11,
   "metadata": {
    "execution": {
     "iopub.execute_input": "2021-03-25T08:48:18.597588Z",
     "iopub.status.busy": "2021-03-25T08:48:18.597085Z",
     "iopub.status.idle": "2021-03-25T08:48:18.599996Z",
     "shell.execute_reply": "2021-03-25T08:48:18.600708Z"
    }
   },
   "outputs": [],
   "source": [
    "add = {'location':'California','doses':dataJson[0]['dataValues'][2]}"
   ]
  },
  {
   "cell_type": "code",
   "execution_count": 12,
   "metadata": {
    "execution": {
     "iopub.execute_input": "2021-03-25T08:48:18.606633Z",
     "iopub.status.busy": "2021-03-25T08:48:18.606101Z",
     "iopub.status.idle": "2021-03-25T08:48:18.609634Z",
     "shell.execute_reply": "2021-03-25T08:48:18.609210Z"
    }
   },
   "outputs": [],
   "source": [
    "df = df.append(add, ignore_index=True)"
   ]
  },
  {
   "cell_type": "code",
   "execution_count": 13,
   "metadata": {
    "execution": {
     "iopub.execute_input": "2021-03-25T08:48:18.613375Z",
     "iopub.status.busy": "2021-03-25T08:48:18.612909Z",
     "iopub.status.idle": "2021-03-25T08:48:18.615747Z",
     "shell.execute_reply": "2021-03-25T08:48:18.616173Z"
    }
   },
   "outputs": [],
   "source": [
    "df = df.sort_values(by='location')"
   ]
  },
  {
   "cell_type": "code",
   "execution_count": 14,
   "metadata": {
    "execution": {
     "iopub.execute_input": "2021-03-25T08:48:18.621461Z",
     "iopub.status.busy": "2021-03-25T08:48:18.620970Z",
     "iopub.status.idle": "2021-03-25T08:48:18.624391Z",
     "shell.execute_reply": "2021-03-25T08:48:18.623921Z"
    }
   },
   "outputs": [],
   "source": [
    "df = df[df.location == 'California'].append(df[df.location != 'California']).reset_index(drop=True)"
   ]
  },
  {
   "cell_type": "code",
   "execution_count": null,
   "metadata": {},
   "outputs": [],
   "source": []
  },
  {
   "cell_type": "code",
   "execution_count": 15,
   "metadata": {
    "execution": {
     "iopub.execute_input": "2021-03-25T08:48:18.627477Z",
     "iopub.status.busy": "2021-03-25T08:48:18.627009Z",
     "iopub.status.idle": "2021-03-25T08:48:18.643999Z",
     "shell.execute_reply": "2021-03-25T08:48:18.643562Z"
    }
   },
   "outputs": [],
   "source": [
    "tz = pytz.timezone(\"America/New_York\")"
   ]
  },
  {
   "cell_type": "code",
   "execution_count": 16,
   "metadata": {
    "execution": {
     "iopub.execute_input": "2021-03-25T08:48:18.647966Z",
     "iopub.status.busy": "2021-03-25T08:48:18.646885Z",
     "iopub.status.idle": "2021-03-25T08:48:18.648568Z",
     "shell.execute_reply": "2021-03-25T08:48:18.648996Z"
    }
   },
   "outputs": [],
   "source": [
    "today = datetime.now(tz).date()"
   ]
  },
  {
   "cell_type": "code",
   "execution_count": 17,
   "metadata": {
    "execution": {
     "iopub.execute_input": "2021-03-25T08:48:18.653172Z",
     "iopub.status.busy": "2021-03-25T08:48:18.652007Z",
     "iopub.status.idle": "2021-03-25T08:48:18.653761Z",
     "shell.execute_reply": "2021-03-25T08:48:18.654205Z"
    }
   },
   "outputs": [],
   "source": [
    "data_dir = os.path.join(os.path.abspath(\"\"), \"data\")"
   ]
  },
  {
   "cell_type": "code",
   "execution_count": 18,
   "metadata": {
    "execution": {
     "iopub.execute_input": "2021-03-25T08:48:18.657941Z",
     "iopub.status.busy": "2021-03-25T08:48:18.657422Z",
     "iopub.status.idle": "2021-03-25T08:48:18.661716Z",
     "shell.execute_reply": "2021-03-25T08:48:18.661275Z"
    }
   },
   "outputs": [],
   "source": [
    "df.to_csv(os.path.join(data_dir, f\"{today}.csv\"), index=False)"
   ]
  },
  {
   "cell_type": "code",
   "execution_count": null,
   "metadata": {},
   "outputs": [],
   "source": []
  }
 ],
 "metadata": {
  "kernelspec": {
   "display_name": "Python 3",
   "language": "python",
   "name": "python3"
  },
  "language_info": {
   "codemirror_mode": {
    "name": "ipython",
    "version": 3
   },
   "file_extension": ".py",
   "mimetype": "text/x-python",
   "name": "python",
   "nbconvert_exporter": "python",
   "pygments_lexer": "ipython3",
   "version": "3.8.8"
  }
 },
 "nbformat": 4,
 "nbformat_minor": 4
}
