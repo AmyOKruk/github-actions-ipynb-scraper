{
 "cells": [
  {
   "cell_type": "markdown",
   "metadata": {},
   "source": [
    "# California COVID vaccinations scrape"
   ]
  },
  {
   "cell_type": "markdown",
   "metadata": {},
   "source": [
    "By [Amy O'Kruk](https://twitter.com/amyokruk)"
   ]
  },
  {
   "cell_type": "markdown",
   "metadata": {},
   "source": [
    "Downloads data on vaccine doses administered by county and statewide from a Tableau-powered dashboard from the California Department of Public Health."
   ]
  },
  {
   "cell_type": "code",
   "execution_count": 1,
   "metadata": {
    "execution": {
     "iopub.execute_input": "2021-03-25T07:20:02.611698Z",
     "iopub.status.busy": "2021-03-25T07:20:02.611038Z",
     "iopub.status.idle": "2021-03-25T07:20:03.036904Z",
     "shell.execute_reply": "2021-03-25T07:20:03.035807Z"
    }
   },
   "outputs": [],
   "source": [
    "import pandas as pd\n",
    "import requests\n",
    "from bs4 import BeautifulSoup\n",
    "import json\n",
    "import re\n",
    "import time\n",
    "from time import gmtime, strftime \n",
    "import os\n",
    "import pytz\n",
    "from datetime import datetime"
   ]
  },
  {
   "cell_type": "markdown",
   "metadata": {},
   "source": [
    "Scrape the dashboard page"
   ]
  },
  {
   "cell_type": "code",
   "execution_count": 2,
   "metadata": {
    "execution": {
     "iopub.execute_input": "2021-03-25T07:20:03.043680Z",
     "iopub.status.busy": "2021-03-25T07:20:03.043138Z",
     "iopub.status.idle": "2021-03-25T07:20:03.681405Z",
     "shell.execute_reply": "2021-03-25T07:20:03.680817Z"
    }
   },
   "outputs": [],
   "source": [
    "url = \"https://public.tableau.com/interactive/views/COVID-19VaccineDashboardPublic/Vaccine?:embed=y&:showVizHome=n&:apiID=host0\"\n",
    "\n",
    "r = requests.get(url)\n",
    "soup = BeautifulSoup(r.text, \"html.parser\")"
   ]
  },
  {
   "cell_type": "code",
   "execution_count": 3,
   "metadata": {
    "execution": {
     "iopub.execute_input": "2021-03-25T07:20:03.686732Z",
     "iopub.status.busy": "2021-03-25T07:20:03.686101Z",
     "iopub.status.idle": "2021-03-25T07:20:03.689839Z",
     "shell.execute_reply": "2021-03-25T07:20:03.689374Z"
    }
   },
   "outputs": [],
   "source": [
    "tableauData = json.loads(soup.find(\"textarea\",{\"id\": \"tsConfigContainer\"}).text)"
   ]
  },
  {
   "cell_type": "markdown",
   "metadata": {},
   "source": [
    "Get the link to the Tableau data"
   ]
  },
  {
   "cell_type": "code",
   "execution_count": 4,
   "metadata": {
    "execution": {
     "iopub.execute_input": "2021-03-25T07:20:03.693419Z",
     "iopub.status.busy": "2021-03-25T07:20:03.692919Z",
     "iopub.status.idle": "2021-03-25T07:20:03.696262Z",
     "shell.execute_reply": "2021-03-25T07:20:03.695839Z"
    }
   },
   "outputs": [],
   "source": [
    "dataUrl = f'https://public.tableau.com{tableauData[\"vizql_root\"]}/bootstrapSession/sessions/{tableauData[\"sessionid\"]}'"
   ]
  },
  {
   "cell_type": "code",
   "execution_count": 5,
   "metadata": {
    "execution": {
     "iopub.execute_input": "2021-03-25T07:20:03.703132Z",
     "iopub.status.busy": "2021-03-25T07:20:03.702568Z",
     "iopub.status.idle": "2021-03-25T07:20:09.071919Z",
     "shell.execute_reply": "2021-03-25T07:20:09.071432Z"
    }
   },
   "outputs": [],
   "source": [
    "r = requests.post(dataUrl, data= {\n",
    "    \"sheet_id\": tableauData[\"sheetId\"],\n",
    "})\n",
    "\n",
    "dataReg = re.search('\\d+;({.*})\\d+;({.*})', r.text, re.MULTILINE)\n",
    "data1 = json.loads(dataReg.group(2))\n",
    "\n",
    "dataJson = data1[\"secondaryInfo\"][\"presModelMap\"][\"dataDictionary\"][\"presModelHolder\"][\"genDataDictionaryPresModel\"][\"dataSegments\"][\"0\"][\"dataColumns\"]"
   ]
  },
  {
   "cell_type": "markdown",
   "metadata": {},
   "source": [
    "Isolate what you want"
   ]
  },
  {
   "cell_type": "code",
   "execution_count": 6,
   "metadata": {
    "execution": {
     "iopub.execute_input": "2021-03-25T07:20:09.075856Z",
     "iopub.status.busy": "2021-03-25T07:20:09.075336Z",
     "iopub.status.idle": "2021-03-25T07:20:09.078513Z",
     "shell.execute_reply": "2021-03-25T07:20:09.078949Z"
    }
   },
   "outputs": [],
   "source": [
    "counties = dataJson[2]['dataValues'][:58]"
   ]
  },
  {
   "cell_type": "code",
   "execution_count": 7,
   "metadata": {
    "execution": {
     "iopub.execute_input": "2021-03-25T07:20:09.083211Z",
     "iopub.status.busy": "2021-03-25T07:20:09.082257Z",
     "iopub.status.idle": "2021-03-25T07:20:09.084182Z",
     "shell.execute_reply": "2021-03-25T07:20:09.084621Z"
    }
   },
   "outputs": [],
   "source": [
    "doses = dataJson[0]['dataValues'][3:61]"
   ]
  },
  {
   "cell_type": "markdown",
   "metadata": {},
   "source": [
    "Data formatting"
   ]
  },
  {
   "cell_type": "code",
   "execution_count": 8,
   "metadata": {
    "execution": {
     "iopub.execute_input": "2021-03-25T07:20:09.088866Z",
     "iopub.status.busy": "2021-03-25T07:20:09.087735Z",
     "iopub.status.idle": "2021-03-25T07:20:09.089483Z",
     "shell.execute_reply": "2021-03-25T07:20:09.089919Z"
    }
   },
   "outputs": [],
   "source": [
    "zipped = dict(zip(counties, doses))"
   ]
  },
  {
   "cell_type": "code",
   "execution_count": 9,
   "metadata": {
    "execution": {
     "iopub.execute_input": "2021-03-25T07:20:09.097024Z",
     "iopub.status.busy": "2021-03-25T07:20:09.095794Z",
     "iopub.status.idle": "2021-03-25T07:20:09.097620Z",
     "shell.execute_reply": "2021-03-25T07:20:09.098050Z"
    }
   },
   "outputs": [],
   "source": [
    "df = pd.Series(zipped).reset_index()"
   ]
  },
  {
   "cell_type": "code",
   "execution_count": 10,
   "metadata": {
    "execution": {
     "iopub.execute_input": "2021-03-25T07:20:09.104406Z",
     "iopub.status.busy": "2021-03-25T07:20:09.102913Z",
     "iopub.status.idle": "2021-03-25T07:20:09.106081Z",
     "shell.execute_reply": "2021-03-25T07:20:09.105281Z"
    }
   },
   "outputs": [],
   "source": [
    "df.columns = ['location','doses']"
   ]
  },
  {
   "cell_type": "markdown",
   "metadata": {},
   "source": [
    "Grab the overall California total"
   ]
  },
  {
   "cell_type": "code",
   "execution_count": 11,
   "metadata": {
    "execution": {
     "iopub.execute_input": "2021-03-25T07:20:09.111002Z",
     "iopub.status.busy": "2021-03-25T07:20:09.109857Z",
     "iopub.status.idle": "2021-03-25T07:20:09.111644Z",
     "shell.execute_reply": "2021-03-25T07:20:09.112079Z"
    }
   },
   "outputs": [],
   "source": [
    "add = {'location':'California','doses':dataJson[0]['dataValues'][2]}"
   ]
  },
  {
   "cell_type": "code",
   "execution_count": 12,
   "metadata": {
    "execution": {
     "iopub.execute_input": "2021-03-25T07:20:09.119223Z",
     "iopub.status.busy": "2021-03-25T07:20:09.118620Z",
     "iopub.status.idle": "2021-03-25T07:20:09.120769Z",
     "shell.execute_reply": "2021-03-25T07:20:09.121181Z"
    }
   },
   "outputs": [],
   "source": [
    "df = df.append(add, ignore_index=True)"
   ]
  },
  {
   "cell_type": "code",
   "execution_count": 13,
   "metadata": {
    "execution": {
     "iopub.execute_input": "2021-03-25T07:20:09.126834Z",
     "iopub.status.busy": "2021-03-25T07:20:09.125692Z",
     "iopub.status.idle": "2021-03-25T07:20:09.127424Z",
     "shell.execute_reply": "2021-03-25T07:20:09.127881Z"
    }
   },
   "outputs": [],
   "source": [
    "df = df.sort_values(by='location')"
   ]
  },
  {
   "cell_type": "code",
   "execution_count": 14,
   "metadata": {
    "execution": {
     "iopub.execute_input": "2021-03-25T07:20:09.134860Z",
     "iopub.status.busy": "2021-03-25T07:20:09.133595Z",
     "iopub.status.idle": "2021-03-25T07:20:09.135478Z",
     "shell.execute_reply": "2021-03-25T07:20:09.135911Z"
    }
   },
   "outputs": [],
   "source": [
    "df = df[df.location == 'California'].append(df[df.location != 'California']).reset_index(drop=True)"
   ]
  },
  {
   "cell_type": "code",
   "execution_count": null,
   "metadata": {},
   "outputs": [],
   "source": []
  },
  {
   "cell_type": "code",
   "execution_count": 15,
   "metadata": {
    "execution": {
     "iopub.execute_input": "2021-03-25T07:20:09.139388Z",
     "iopub.status.busy": "2021-03-25T07:20:09.138861Z",
     "iopub.status.idle": "2021-03-25T07:20:09.157059Z",
     "shell.execute_reply": "2021-03-25T07:20:09.156542Z"
    }
   },
   "outputs": [],
   "source": [
    "tz = pytz.timezone(\"America/New_York\")"
   ]
  },
  {
   "cell_type": "code",
   "execution_count": 16,
   "metadata": {
    "execution": {
     "iopub.execute_input": "2021-03-25T07:20:09.161512Z",
     "iopub.status.busy": "2021-03-25T07:20:09.160363Z",
     "iopub.status.idle": "2021-03-25T07:20:09.162115Z",
     "shell.execute_reply": "2021-03-25T07:20:09.162562Z"
    }
   },
   "outputs": [],
   "source": [
    "today = datetime.now(tz).date()"
   ]
  },
  {
   "cell_type": "code",
   "execution_count": 17,
   "metadata": {
    "execution": {
     "iopub.execute_input": "2021-03-25T07:20:09.166936Z",
     "iopub.status.busy": "2021-03-25T07:20:09.165998Z",
     "iopub.status.idle": "2021-03-25T07:20:09.167921Z",
     "shell.execute_reply": "2021-03-25T07:20:09.168359Z"
    }
   },
   "outputs": [],
   "source": [
    "data_dir = os.path.join(os.path.abspath(\"\"), \"data\")"
   ]
  },
  {
   "cell_type": "code",
   "execution_count": 18,
   "metadata": {
    "execution": {
     "iopub.execute_input": "2021-03-25T07:20:09.172405Z",
     "iopub.status.busy": "2021-03-25T07:20:09.171887Z",
     "iopub.status.idle": "2021-03-25T07:20:09.176699Z",
     "shell.execute_reply": "2021-03-25T07:20:09.176177Z"
    }
   },
   "outputs": [],
   "source": [
    "df.to_csv(os.path.join(data_dir, f\"{today}.csv\"), index=False)"
   ]
  },
  {
   "cell_type": "code",
   "execution_count": null,
   "metadata": {},
   "outputs": [],
   "source": []
  }
 ],
 "metadata": {
  "kernelspec": {
   "display_name": "Python 3",
   "language": "python",
   "name": "python3"
  },
  "language_info": {
   "codemirror_mode": {
    "name": "ipython",
    "version": 3
   },
   "file_extension": ".py",
   "mimetype": "text/x-python",
   "name": "python",
   "nbconvert_exporter": "python",
   "pygments_lexer": "ipython3",
   "version": "3.8.8"
  }
 },
 "nbformat": 4,
 "nbformat_minor": 4
}
