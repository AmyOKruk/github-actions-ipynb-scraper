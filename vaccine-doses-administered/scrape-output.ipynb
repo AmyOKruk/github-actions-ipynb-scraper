{
 "cells": [
  {
   "cell_type": "markdown",
   "metadata": {},
   "source": [
    "# California COVID vaccinations scrape"
   ]
  },
  {
   "cell_type": "markdown",
   "metadata": {},
   "source": [
    "By [Amy O'Kruk](https://twitter.com/amyokruk)"
   ]
  },
  {
   "cell_type": "markdown",
   "metadata": {},
   "source": [
    "Downloads data on vaccine doses administered by county and statewide from a Tableau-powered dashboard from the California Department of Public Health."
   ]
  },
  {
   "cell_type": "code",
   "execution_count": 1,
   "metadata": {
    "execution": {
     "iopub.execute_input": "2021-03-09T05:12:42.871994Z",
     "iopub.status.busy": "2021-03-09T05:12:42.871434Z",
     "iopub.status.idle": "2021-03-09T05:12:43.688450Z",
     "shell.execute_reply": "2021-03-09T05:12:43.687752Z"
    }
   },
   "outputs": [],
   "source": [
    "import pandas as pd\n",
    "import requests\n",
    "from bs4 import BeautifulSoup\n",
    "import json\n",
    "import re\n",
    "import time\n",
    "from time import gmtime, strftime \n",
    "import os\n",
    "import pytz\n",
    "from datetime import datetime"
   ]
  },
  {
   "cell_type": "markdown",
   "metadata": {},
   "source": [
    "Scrape the dashboard page"
   ]
  },
  {
   "cell_type": "code",
   "execution_count": 2,
   "metadata": {
    "execution": {
     "iopub.execute_input": "2021-03-09T05:12:43.696484Z",
     "iopub.status.busy": "2021-03-09T05:12:43.695915Z",
     "iopub.status.idle": "2021-03-09T05:12:44.027458Z",
     "shell.execute_reply": "2021-03-09T05:12:44.026603Z"
    }
   },
   "outputs": [],
   "source": [
    "url = \"https://public.tableau.com/interactive/views/COVID-19VaccineDashboardPublic/Vaccine?:embed=y&:showVizHome=n&:apiID=host0\"\n",
    "\n",
    "r = requests.get(url)\n",
    "soup = BeautifulSoup(r.text, \"html.parser\")"
   ]
  },
  {
   "cell_type": "code",
   "execution_count": 3,
   "metadata": {
    "execution": {
     "iopub.execute_input": "2021-03-09T05:12:44.032821Z",
     "iopub.status.busy": "2021-03-09T05:12:44.031991Z",
     "iopub.status.idle": "2021-03-09T05:12:44.035971Z",
     "shell.execute_reply": "2021-03-09T05:12:44.035553Z"
    }
   },
   "outputs": [],
   "source": [
    "tableauData = json.loads(soup.find(\"textarea\",{\"id\": \"tsConfigContainer\"}).text)"
   ]
  },
  {
   "cell_type": "markdown",
   "metadata": {},
   "source": [
    "Get the link to the Tableau data"
   ]
  },
  {
   "cell_type": "code",
   "execution_count": 4,
   "metadata": {
    "execution": {
     "iopub.execute_input": "2021-03-09T05:12:44.039655Z",
     "iopub.status.busy": "2021-03-09T05:12:44.039086Z",
     "iopub.status.idle": "2021-03-09T05:12:44.042390Z",
     "shell.execute_reply": "2021-03-09T05:12:44.041962Z"
    }
   },
   "outputs": [],
   "source": [
    "dataUrl = f'https://public.tableau.com{tableauData[\"vizql_root\"]}/bootstrapSession/sessions/{tableauData[\"sessionid\"]}'"
   ]
  },
  {
   "cell_type": "code",
   "execution_count": 5,
   "metadata": {
    "execution": {
     "iopub.execute_input": "2021-03-09T05:12:44.049832Z",
     "iopub.status.busy": "2021-03-09T05:12:44.049334Z",
     "iopub.status.idle": "2021-03-09T05:12:44.668625Z",
     "shell.execute_reply": "2021-03-09T05:12:44.667765Z"
    }
   },
   "outputs": [],
   "source": [
    "r = requests.post(dataUrl, data= {\n",
    "    \"sheet_id\": tableauData[\"sheetId\"],\n",
    "})\n",
    "\n",
    "dataReg = re.search('\\d+;({.*})\\d+;({.*})', r.text, re.MULTILINE)\n",
    "data1 = json.loads(dataReg.group(2))\n",
    "\n",
    "dataJson = data1[\"secondaryInfo\"][\"presModelMap\"][\"dataDictionary\"][\"presModelHolder\"][\"genDataDictionaryPresModel\"][\"dataSegments\"][\"0\"][\"dataColumns\"]"
   ]
  },
  {
   "cell_type": "markdown",
   "metadata": {},
   "source": [
    "Isolate what you want"
   ]
  },
  {
   "cell_type": "code",
   "execution_count": 6,
   "metadata": {
    "execution": {
     "iopub.execute_input": "2021-03-09T05:12:44.672367Z",
     "iopub.status.busy": "2021-03-09T05:12:44.671847Z",
     "iopub.status.idle": "2021-03-09T05:12:44.676764Z",
     "shell.execute_reply": "2021-03-09T05:12:44.675557Z"
    }
   },
   "outputs": [],
   "source": [
    "counties = dataJson[2]['dataValues'][:58]"
   ]
  },
  {
   "cell_type": "code",
   "execution_count": 7,
   "metadata": {
    "execution": {
     "iopub.execute_input": "2021-03-09T05:12:44.680176Z",
     "iopub.status.busy": "2021-03-09T05:12:44.679600Z",
     "iopub.status.idle": "2021-03-09T05:12:44.682707Z",
     "shell.execute_reply": "2021-03-09T05:12:44.683258Z"
    }
   },
   "outputs": [],
   "source": [
    "doses = dataJson[0]['dataValues'][3:61]"
   ]
  },
  {
   "cell_type": "markdown",
   "metadata": {},
   "source": [
    "Data formatting"
   ]
  },
  {
   "cell_type": "code",
   "execution_count": 8,
   "metadata": {
    "execution": {
     "iopub.execute_input": "2021-03-09T05:12:44.687553Z",
     "iopub.status.busy": "2021-03-09T05:12:44.686169Z",
     "iopub.status.idle": "2021-03-09T05:12:44.688181Z",
     "shell.execute_reply": "2021-03-09T05:12:44.688653Z"
    }
   },
   "outputs": [],
   "source": [
    "zipped = dict(zip(counties, doses))"
   ]
  },
  {
   "cell_type": "code",
   "execution_count": 9,
   "metadata": {
    "execution": {
     "iopub.execute_input": "2021-03-09T05:12:44.696072Z",
     "iopub.status.busy": "2021-03-09T05:12:44.695027Z",
     "iopub.status.idle": "2021-03-09T05:12:44.697000Z",
     "shell.execute_reply": "2021-03-09T05:12:44.697546Z"
    }
   },
   "outputs": [],
   "source": [
    "df = pd.Series(zipped).reset_index()"
   ]
  },
  {
   "cell_type": "code",
   "execution_count": 10,
   "metadata": {
    "execution": {
     "iopub.execute_input": "2021-03-09T05:12:44.701834Z",
     "iopub.status.busy": "2021-03-09T05:12:44.700674Z",
     "iopub.status.idle": "2021-03-09T05:12:44.702453Z",
     "shell.execute_reply": "2021-03-09T05:12:44.702849Z"
    }
   },
   "outputs": [],
   "source": [
    "df.columns = ['location','doses']"
   ]
  },
  {
   "cell_type": "markdown",
   "metadata": {},
   "source": [
    "Grab the overall California total"
   ]
  },
  {
   "cell_type": "code",
   "execution_count": 11,
   "metadata": {
    "execution": {
     "iopub.execute_input": "2021-03-09T05:12:44.708160Z",
     "iopub.status.busy": "2021-03-09T05:12:44.706701Z",
     "iopub.status.idle": "2021-03-09T05:12:44.708927Z",
     "shell.execute_reply": "2021-03-09T05:12:44.709392Z"
    }
   },
   "outputs": [],
   "source": [
    "add = {'location':'California','doses':dataJson[0]['dataValues'][2]}"
   ]
  },
  {
   "cell_type": "code",
   "execution_count": 12,
   "metadata": {
    "execution": {
     "iopub.execute_input": "2021-03-09T05:12:44.717583Z",
     "iopub.status.busy": "2021-03-09T05:12:44.716440Z",
     "iopub.status.idle": "2021-03-09T05:12:44.718233Z",
     "shell.execute_reply": "2021-03-09T05:12:44.718677Z"
    }
   },
   "outputs": [],
   "source": [
    "df = df.append(add, ignore_index=True)"
   ]
  },
  {
   "cell_type": "code",
   "execution_count": 13,
   "metadata": {
    "execution": {
     "iopub.execute_input": "2021-03-09T05:12:44.724427Z",
     "iopub.status.busy": "2021-03-09T05:12:44.722954Z",
     "iopub.status.idle": "2021-03-09T05:12:44.725097Z",
     "shell.execute_reply": "2021-03-09T05:12:44.725599Z"
    }
   },
   "outputs": [],
   "source": [
    "df = df.sort_values(by='location')"
   ]
  },
  {
   "cell_type": "code",
   "execution_count": 14,
   "metadata": {
    "execution": {
     "iopub.execute_input": "2021-03-09T05:12:44.731676Z",
     "iopub.status.busy": "2021-03-09T05:12:44.730743Z",
     "iopub.status.idle": "2021-03-09T05:12:44.732558Z",
     "shell.execute_reply": "2021-03-09T05:12:44.733046Z"
    }
   },
   "outputs": [],
   "source": [
    "df = df[df.location == 'California'].append(df[df.location != 'California']).reset_index(drop=True)"
   ]
  },
  {
   "cell_type": "code",
   "execution_count": null,
   "metadata": {},
   "outputs": [],
   "source": []
  },
  {
   "cell_type": "code",
   "execution_count": 15,
   "metadata": {
    "execution": {
     "iopub.execute_input": "2021-03-09T05:12:44.736488Z",
     "iopub.status.busy": "2021-03-09T05:12:44.735907Z",
     "iopub.status.idle": "2021-03-09T05:12:44.755626Z",
     "shell.execute_reply": "2021-03-09T05:12:44.754936Z"
    }
   },
   "outputs": [],
   "source": [
    "tz = pytz.timezone(\"America/New_York\")"
   ]
  },
  {
   "cell_type": "code",
   "execution_count": 16,
   "metadata": {
    "execution": {
     "iopub.execute_input": "2021-03-09T05:12:44.759772Z",
     "iopub.status.busy": "2021-03-09T05:12:44.758653Z",
     "iopub.status.idle": "2021-03-09T05:12:44.760501Z",
     "shell.execute_reply": "2021-03-09T05:12:44.760951Z"
    }
   },
   "outputs": [],
   "source": [
    "today = datetime.now(tz).date()"
   ]
  },
  {
   "cell_type": "code",
   "execution_count": 17,
   "metadata": {
    "execution": {
     "iopub.execute_input": "2021-03-09T05:12:44.765428Z",
     "iopub.status.busy": "2021-03-09T05:12:44.764182Z",
     "iopub.status.idle": "2021-03-09T05:12:44.766072Z",
     "shell.execute_reply": "2021-03-09T05:12:44.766536Z"
    }
   },
   "outputs": [],
   "source": [
    "data_dir = os.path.join(os.path.abspath(\"\"), \"data\")"
   ]
  },
  {
   "cell_type": "code",
   "execution_count": 18,
   "metadata": {
    "execution": {
     "iopub.execute_input": "2021-03-09T05:12:44.770900Z",
     "iopub.status.busy": "2021-03-09T05:12:44.770139Z",
     "iopub.status.idle": "2021-03-09T05:12:44.774983Z",
     "shell.execute_reply": "2021-03-09T05:12:44.774381Z"
    }
   },
   "outputs": [],
   "source": [
    "df.to_csv(os.path.join(data_dir, f\"{today}.csv\"), index=False)"
   ]
  },
  {
   "cell_type": "code",
   "execution_count": null,
   "metadata": {},
   "outputs": [],
   "source": []
  }
 ],
 "metadata": {
  "kernelspec": {
   "display_name": "Python 3",
   "language": "python",
   "name": "python3"
  },
  "language_info": {
   "codemirror_mode": {
    "name": "ipython",
    "version": 3
   },
   "file_extension": ".py",
   "mimetype": "text/x-python",
   "name": "python",
   "nbconvert_exporter": "python",
   "pygments_lexer": "ipython3",
   "version": "3.8.8"
  }
 },
 "nbformat": 4,
 "nbformat_minor": 4
}
