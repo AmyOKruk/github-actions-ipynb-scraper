{
 "cells": [
  {
   "cell_type": "markdown",
   "metadata": {},
   "source": [
    "# California COVID vaccinations scrape"
   ]
  },
  {
   "cell_type": "markdown",
   "metadata": {},
   "source": [
    "By [Amy O'Kruk](https://twitter.com/amyokruk)"
   ]
  },
  {
   "cell_type": "markdown",
   "metadata": {},
   "source": [
    "Downloads data on vaccine doses administered by county and statewide from a Tableau-powered dashboard from the California Department of Public Health."
   ]
  },
  {
   "cell_type": "code",
   "execution_count": 1,
   "metadata": {
    "execution": {
     "iopub.execute_input": "2021-03-12T02:16:42.082739Z",
     "iopub.status.busy": "2021-03-12T02:16:42.081699Z",
     "iopub.status.idle": "2021-03-12T02:16:42.452857Z",
     "shell.execute_reply": "2021-03-12T02:16:42.451890Z"
    }
   },
   "outputs": [],
   "source": [
    "import pandas as pd\n",
    "import requests\n",
    "from bs4 import BeautifulSoup\n",
    "import json\n",
    "import re\n",
    "import time\n",
    "from time import gmtime, strftime \n",
    "import os\n",
    "import pytz\n",
    "from datetime import datetime"
   ]
  },
  {
   "cell_type": "markdown",
   "metadata": {},
   "source": [
    "Scrape the dashboard page"
   ]
  },
  {
   "cell_type": "code",
   "execution_count": 2,
   "metadata": {
    "execution": {
     "iopub.execute_input": "2021-03-12T02:16:42.458047Z",
     "iopub.status.busy": "2021-03-12T02:16:42.457215Z",
     "iopub.status.idle": "2021-03-12T02:16:42.983556Z",
     "shell.execute_reply": "2021-03-12T02:16:42.982536Z"
    }
   },
   "outputs": [],
   "source": [
    "url = \"https://public.tableau.com/interactive/views/COVID-19VaccineDashboardPublic/Vaccine?:embed=y&:showVizHome=n&:apiID=host0\"\n",
    "\n",
    "r = requests.get(url)\n",
    "soup = BeautifulSoup(r.text, \"html.parser\")"
   ]
  },
  {
   "cell_type": "code",
   "execution_count": 3,
   "metadata": {
    "execution": {
     "iopub.execute_input": "2021-03-12T02:16:42.988351Z",
     "iopub.status.busy": "2021-03-12T02:16:42.987813Z",
     "iopub.status.idle": "2021-03-12T02:16:42.991174Z",
     "shell.execute_reply": "2021-03-12T02:16:42.990741Z"
    }
   },
   "outputs": [],
   "source": [
    "tableauData = json.loads(soup.find(\"textarea\",{\"id\": \"tsConfigContainer\"}).text)"
   ]
  },
  {
   "cell_type": "markdown",
   "metadata": {},
   "source": [
    "Get the link to the Tableau data"
   ]
  },
  {
   "cell_type": "code",
   "execution_count": 4,
   "metadata": {
    "execution": {
     "iopub.execute_input": "2021-03-12T02:16:42.995197Z",
     "iopub.status.busy": "2021-03-12T02:16:42.994182Z",
     "iopub.status.idle": "2021-03-12T02:16:42.996046Z",
     "shell.execute_reply": "2021-03-12T02:16:42.996479Z"
    }
   },
   "outputs": [],
   "source": [
    "dataUrl = f'https://public.tableau.com{tableauData[\"vizql_root\"]}/bootstrapSession/sessions/{tableauData[\"sessionid\"]}'"
   ]
  },
  {
   "cell_type": "code",
   "execution_count": 5,
   "metadata": {
    "execution": {
     "iopub.execute_input": "2021-03-12T02:16:43.003059Z",
     "iopub.status.busy": "2021-03-12T02:16:43.002519Z",
     "iopub.status.idle": "2021-03-12T02:16:43.290889Z",
     "shell.execute_reply": "2021-03-12T02:16:43.289718Z"
    }
   },
   "outputs": [],
   "source": [
    "r = requests.post(dataUrl, data= {\n",
    "    \"sheet_id\": tableauData[\"sheetId\"],\n",
    "})\n",
    "\n",
    "dataReg = re.search('\\d+;({.*})\\d+;({.*})', r.text, re.MULTILINE)\n",
    "data1 = json.loads(dataReg.group(2))\n",
    "\n",
    "dataJson = data1[\"secondaryInfo\"][\"presModelMap\"][\"dataDictionary\"][\"presModelHolder\"][\"genDataDictionaryPresModel\"][\"dataSegments\"][\"0\"][\"dataColumns\"]"
   ]
  },
  {
   "cell_type": "markdown",
   "metadata": {},
   "source": [
    "Isolate what you want"
   ]
  },
  {
   "cell_type": "code",
   "execution_count": 6,
   "metadata": {
    "execution": {
     "iopub.execute_input": "2021-03-12T02:16:43.295329Z",
     "iopub.status.busy": "2021-03-12T02:16:43.294224Z",
     "iopub.status.idle": "2021-03-12T02:16:43.295944Z",
     "shell.execute_reply": "2021-03-12T02:16:43.296378Z"
    }
   },
   "outputs": [],
   "source": [
    "counties = dataJson[2]['dataValues'][:58]"
   ]
  },
  {
   "cell_type": "code",
   "execution_count": 7,
   "metadata": {
    "execution": {
     "iopub.execute_input": "2021-03-12T02:16:43.300345Z",
     "iopub.status.busy": "2021-03-12T02:16:43.299424Z",
     "iopub.status.idle": "2021-03-12T02:16:43.301228Z",
     "shell.execute_reply": "2021-03-12T02:16:43.301657Z"
    }
   },
   "outputs": [],
   "source": [
    "doses = dataJson[0]['dataValues'][3:61]"
   ]
  },
  {
   "cell_type": "markdown",
   "metadata": {},
   "source": [
    "Data formatting"
   ]
  },
  {
   "cell_type": "code",
   "execution_count": 8,
   "metadata": {
    "execution": {
     "iopub.execute_input": "2021-03-12T02:16:43.305618Z",
     "iopub.status.busy": "2021-03-12T02:16:43.304701Z",
     "iopub.status.idle": "2021-03-12T02:16:43.306559Z",
     "shell.execute_reply": "2021-03-12T02:16:43.306993Z"
    }
   },
   "outputs": [],
   "source": [
    "zipped = dict(zip(counties, doses))"
   ]
  },
  {
   "cell_type": "code",
   "execution_count": 9,
   "metadata": {
    "execution": {
     "iopub.execute_input": "2021-03-12T02:16:43.313562Z",
     "iopub.status.busy": "2021-03-12T02:16:43.312401Z",
     "iopub.status.idle": "2021-03-12T02:16:43.314236Z",
     "shell.execute_reply": "2021-03-12T02:16:43.314664Z"
    }
   },
   "outputs": [],
   "source": [
    "df = pd.Series(zipped).reset_index()"
   ]
  },
  {
   "cell_type": "code",
   "execution_count": 10,
   "metadata": {
    "execution": {
     "iopub.execute_input": "2021-03-12T02:16:43.319262Z",
     "iopub.status.busy": "2021-03-12T02:16:43.318059Z",
     "iopub.status.idle": "2021-03-12T02:16:43.319887Z",
     "shell.execute_reply": "2021-03-12T02:16:43.320328Z"
    }
   },
   "outputs": [],
   "source": [
    "df.columns = ['location','doses']"
   ]
  },
  {
   "cell_type": "markdown",
   "metadata": {},
   "source": [
    "Grab the overall California total"
   ]
  },
  {
   "cell_type": "code",
   "execution_count": 11,
   "metadata": {
    "execution": {
     "iopub.execute_input": "2021-03-12T02:16:43.324307Z",
     "iopub.status.busy": "2021-03-12T02:16:43.323361Z",
     "iopub.status.idle": "2021-03-12T02:16:43.325091Z",
     "shell.execute_reply": "2021-03-12T02:16:43.325516Z"
    }
   },
   "outputs": [],
   "source": [
    "add = {'location':'California','doses':dataJson[0]['dataValues'][2]}"
   ]
  },
  {
   "cell_type": "code",
   "execution_count": 12,
   "metadata": {
    "execution": {
     "iopub.execute_input": "2021-03-12T02:16:43.332584Z",
     "iopub.status.busy": "2021-03-12T02:16:43.331522Z",
     "iopub.status.idle": "2021-03-12T02:16:43.333420Z",
     "shell.execute_reply": "2021-03-12T02:16:43.333852Z"
    }
   },
   "outputs": [],
   "source": [
    "df = df.append(add, ignore_index=True)"
   ]
  },
  {
   "cell_type": "code",
   "execution_count": 13,
   "metadata": {
    "execution": {
     "iopub.execute_input": "2021-03-12T02:16:43.338903Z",
     "iopub.status.busy": "2021-03-12T02:16:43.337881Z",
     "iopub.status.idle": "2021-03-12T02:16:43.339691Z",
     "shell.execute_reply": "2021-03-12T02:16:43.340132Z"
    }
   },
   "outputs": [],
   "source": [
    "df = df.sort_values(by='location')"
   ]
  },
  {
   "cell_type": "code",
   "execution_count": 14,
   "metadata": {
    "execution": {
     "iopub.execute_input": "2021-03-12T02:16:43.346626Z",
     "iopub.status.busy": "2021-03-12T02:16:43.345441Z",
     "iopub.status.idle": "2021-03-12T02:16:43.347224Z",
     "shell.execute_reply": "2021-03-12T02:16:43.347654Z"
    }
   },
   "outputs": [],
   "source": [
    "df = df[df.location == 'California'].append(df[df.location != 'California']).reset_index(drop=True)"
   ]
  },
  {
   "cell_type": "code",
   "execution_count": null,
   "metadata": {},
   "outputs": [],
   "source": []
  },
  {
   "cell_type": "code",
   "execution_count": 15,
   "metadata": {
    "execution": {
     "iopub.execute_input": "2021-03-12T02:16:43.350882Z",
     "iopub.status.busy": "2021-03-12T02:16:43.350371Z",
     "iopub.status.idle": "2021-03-12T02:16:43.368114Z",
     "shell.execute_reply": "2021-03-12T02:16:43.367594Z"
    }
   },
   "outputs": [],
   "source": [
    "tz = pytz.timezone(\"America/New_York\")"
   ]
  },
  {
   "cell_type": "code",
   "execution_count": 16,
   "metadata": {
    "execution": {
     "iopub.execute_input": "2021-03-12T02:16:43.371876Z",
     "iopub.status.busy": "2021-03-12T02:16:43.370963Z",
     "iopub.status.idle": "2021-03-12T02:16:43.373313Z",
     "shell.execute_reply": "2021-03-12T02:16:43.372783Z"
    }
   },
   "outputs": [],
   "source": [
    "today = datetime.now(tz).date()"
   ]
  },
  {
   "cell_type": "code",
   "execution_count": 17,
   "metadata": {
    "execution": {
     "iopub.execute_input": "2021-03-12T02:16:43.377581Z",
     "iopub.status.busy": "2021-03-12T02:16:43.376381Z",
     "iopub.status.idle": "2021-03-12T02:16:43.378171Z",
     "shell.execute_reply": "2021-03-12T02:16:43.378601Z"
    }
   },
   "outputs": [],
   "source": [
    "data_dir = os.path.join(os.path.abspath(\"\"), \"data\")"
   ]
  },
  {
   "cell_type": "code",
   "execution_count": 18,
   "metadata": {
    "execution": {
     "iopub.execute_input": "2021-03-12T02:16:43.382312Z",
     "iopub.status.busy": "2021-03-12T02:16:43.381799Z",
     "iopub.status.idle": "2021-03-12T02:16:43.385615Z",
     "shell.execute_reply": "2021-03-12T02:16:43.386030Z"
    }
   },
   "outputs": [],
   "source": [
    "df.to_csv(os.path.join(data_dir, f\"{today}.csv\"), index=False)"
   ]
  },
  {
   "cell_type": "code",
   "execution_count": null,
   "metadata": {},
   "outputs": [],
   "source": []
  }
 ],
 "metadata": {
  "kernelspec": {
   "display_name": "Python 3",
   "language": "python",
   "name": "python3"
  },
  "language_info": {
   "codemirror_mode": {
    "name": "ipython",
    "version": 3
   },
   "file_extension": ".py",
   "mimetype": "text/x-python",
   "name": "python",
   "nbconvert_exporter": "python",
   "pygments_lexer": "ipython3",
   "version": "3.8.8"
  }
 },
 "nbformat": 4,
 "nbformat_minor": 4
}
