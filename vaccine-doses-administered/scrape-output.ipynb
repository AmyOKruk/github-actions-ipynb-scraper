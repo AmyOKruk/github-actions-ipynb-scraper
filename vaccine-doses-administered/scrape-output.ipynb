{
 "cells": [
  {
   "cell_type": "markdown",
   "metadata": {},
   "source": [
    "# California COVID vaccinations scrape"
   ]
  },
  {
   "cell_type": "markdown",
   "metadata": {},
   "source": [
    "By [Amy O'Kruk](https://twitter.com/amyokruk)"
   ]
  },
  {
   "cell_type": "markdown",
   "metadata": {},
   "source": [
    "Downloads data on vaccine doses administered by county and statewide from a Tableau-powered dashboard from the California Department of Public Health."
   ]
  },
  {
   "cell_type": "code",
   "execution_count": 1,
   "metadata": {
    "execution": {
     "iopub.execute_input": "2021-03-13T23:13:00.422944Z",
     "iopub.status.busy": "2021-03-13T23:13:00.422267Z",
     "iopub.status.idle": "2021-03-13T23:13:00.877992Z",
     "shell.execute_reply": "2021-03-13T23:13:00.877083Z"
    }
   },
   "outputs": [],
   "source": [
    "import pandas as pd\n",
    "import requests\n",
    "from bs4 import BeautifulSoup\n",
    "import json\n",
    "import re\n",
    "import time\n",
    "from time import gmtime, strftime \n",
    "import os\n",
    "import pytz\n",
    "from datetime import datetime"
   ]
  },
  {
   "cell_type": "markdown",
   "metadata": {},
   "source": [
    "Scrape the dashboard page"
   ]
  },
  {
   "cell_type": "code",
   "execution_count": 2,
   "metadata": {
    "execution": {
     "iopub.execute_input": "2021-03-13T23:13:00.883328Z",
     "iopub.status.busy": "2021-03-13T23:13:00.881153Z",
     "iopub.status.idle": "2021-03-13T23:13:01.295300Z",
     "shell.execute_reply": "2021-03-13T23:13:01.295794Z"
    }
   },
   "outputs": [],
   "source": [
    "url = \"https://public.tableau.com/interactive/views/COVID-19VaccineDashboardPublic/Vaccine?:embed=y&:showVizHome=n&:apiID=host0\"\n",
    "\n",
    "r = requests.get(url)\n",
    "soup = BeautifulSoup(r.text, \"html.parser\")"
   ]
  },
  {
   "cell_type": "code",
   "execution_count": 3,
   "metadata": {
    "execution": {
     "iopub.execute_input": "2021-03-13T23:13:01.300860Z",
     "iopub.status.busy": "2021-03-13T23:13:01.300333Z",
     "iopub.status.idle": "2021-03-13T23:13:01.303584Z",
     "shell.execute_reply": "2021-03-13T23:13:01.304050Z"
    }
   },
   "outputs": [],
   "source": [
    "tableauData = json.loads(soup.find(\"textarea\",{\"id\": \"tsConfigContainer\"}).text)"
   ]
  },
  {
   "cell_type": "markdown",
   "metadata": {},
   "source": [
    "Get the link to the Tableau data"
   ]
  },
  {
   "cell_type": "code",
   "execution_count": 4,
   "metadata": {
    "execution": {
     "iopub.execute_input": "2021-03-13T23:13:01.308862Z",
     "iopub.status.busy": "2021-03-13T23:13:01.307408Z",
     "iopub.status.idle": "2021-03-13T23:13:01.309529Z",
     "shell.execute_reply": "2021-03-13T23:13:01.310081Z"
    }
   },
   "outputs": [],
   "source": [
    "dataUrl = f'https://public.tableau.com{tableauData[\"vizql_root\"]}/bootstrapSession/sessions/{tableauData[\"sessionid\"]}'"
   ]
  },
  {
   "cell_type": "code",
   "execution_count": 5,
   "metadata": {
    "execution": {
     "iopub.execute_input": "2021-03-13T23:13:01.317596Z",
     "iopub.status.busy": "2021-03-13T23:13:01.316897Z",
     "iopub.status.idle": "2021-03-13T23:13:01.609217Z",
     "shell.execute_reply": "2021-03-13T23:13:01.608654Z"
    }
   },
   "outputs": [],
   "source": [
    "r = requests.post(dataUrl, data= {\n",
    "    \"sheet_id\": tableauData[\"sheetId\"],\n",
    "})\n",
    "\n",
    "dataReg = re.search('\\d+;({.*})\\d+;({.*})', r.text, re.MULTILINE)\n",
    "data1 = json.loads(dataReg.group(2))\n",
    "\n",
    "dataJson = data1[\"secondaryInfo\"][\"presModelMap\"][\"dataDictionary\"][\"presModelHolder\"][\"genDataDictionaryPresModel\"][\"dataSegments\"][\"0\"][\"dataColumns\"]"
   ]
  },
  {
   "cell_type": "markdown",
   "metadata": {},
   "source": [
    "Isolate what you want"
   ]
  },
  {
   "cell_type": "code",
   "execution_count": 6,
   "metadata": {
    "execution": {
     "iopub.execute_input": "2021-03-13T23:13:01.614549Z",
     "iopub.status.busy": "2021-03-13T23:13:01.613102Z",
     "iopub.status.idle": "2021-03-13T23:13:01.615252Z",
     "shell.execute_reply": "2021-03-13T23:13:01.615715Z"
    }
   },
   "outputs": [],
   "source": [
    "counties = dataJson[2]['dataValues'][:58]"
   ]
  },
  {
   "cell_type": "code",
   "execution_count": 7,
   "metadata": {
    "execution": {
     "iopub.execute_input": "2021-03-13T23:13:01.620102Z",
     "iopub.status.busy": "2021-03-13T23:13:01.618784Z",
     "iopub.status.idle": "2021-03-13T23:13:01.620802Z",
     "shell.execute_reply": "2021-03-13T23:13:01.621399Z"
    }
   },
   "outputs": [],
   "source": [
    "doses = dataJson[0]['dataValues'][3:61]"
   ]
  },
  {
   "cell_type": "markdown",
   "metadata": {},
   "source": [
    "Data formatting"
   ]
  },
  {
   "cell_type": "code",
   "execution_count": 8,
   "metadata": {
    "execution": {
     "iopub.execute_input": "2021-03-13T23:13:01.626245Z",
     "iopub.status.busy": "2021-03-13T23:13:01.624766Z",
     "iopub.status.idle": "2021-03-13T23:13:01.626912Z",
     "shell.execute_reply": "2021-03-13T23:13:01.627364Z"
    }
   },
   "outputs": [],
   "source": [
    "zipped = dict(zip(counties, doses))"
   ]
  },
  {
   "cell_type": "code",
   "execution_count": 9,
   "metadata": {
    "execution": {
     "iopub.execute_input": "2021-03-13T23:13:01.634370Z",
     "iopub.status.busy": "2021-03-13T23:13:01.632906Z",
     "iopub.status.idle": "2021-03-13T23:13:01.635020Z",
     "shell.execute_reply": "2021-03-13T23:13:01.635485Z"
    }
   },
   "outputs": [],
   "source": [
    "df = pd.Series(zipped).reset_index()"
   ]
  },
  {
   "cell_type": "code",
   "execution_count": 10,
   "metadata": {
    "execution": {
     "iopub.execute_input": "2021-03-13T23:13:01.640289Z",
     "iopub.status.busy": "2021-03-13T23:13:01.638981Z",
     "iopub.status.idle": "2021-03-13T23:13:01.640933Z",
     "shell.execute_reply": "2021-03-13T23:13:01.641399Z"
    }
   },
   "outputs": [],
   "source": [
    "df.columns = ['location','doses']"
   ]
  },
  {
   "cell_type": "markdown",
   "metadata": {},
   "source": [
    "Grab the overall California total"
   ]
  },
  {
   "cell_type": "code",
   "execution_count": 11,
   "metadata": {
    "execution": {
     "iopub.execute_input": "2021-03-13T23:13:01.646283Z",
     "iopub.status.busy": "2021-03-13T23:13:01.644888Z",
     "iopub.status.idle": "2021-03-13T23:13:01.646956Z",
     "shell.execute_reply": "2021-03-13T23:13:01.647447Z"
    }
   },
   "outputs": [],
   "source": [
    "add = {'location':'California','doses':dataJson[0]['dataValues'][2]}"
   ]
  },
  {
   "cell_type": "code",
   "execution_count": 12,
   "metadata": {
    "execution": {
     "iopub.execute_input": "2021-03-13T23:13:01.655350Z",
     "iopub.status.busy": "2021-03-13T23:13:01.653880Z",
     "iopub.status.idle": "2021-03-13T23:13:01.655997Z",
     "shell.execute_reply": "2021-03-13T23:13:01.656491Z"
    }
   },
   "outputs": [],
   "source": [
    "df = df.append(add, ignore_index=True)"
   ]
  },
  {
   "cell_type": "code",
   "execution_count": 13,
   "metadata": {
    "execution": {
     "iopub.execute_input": "2021-03-13T23:13:01.661907Z",
     "iopub.status.busy": "2021-03-13T23:13:01.660582Z",
     "iopub.status.idle": "2021-03-13T23:13:01.662528Z",
     "shell.execute_reply": "2021-03-13T23:13:01.662998Z"
    }
   },
   "outputs": [],
   "source": [
    "df = df.sort_values(by='location')"
   ]
  },
  {
   "cell_type": "code",
   "execution_count": 14,
   "metadata": {
    "execution": {
     "iopub.execute_input": "2021-03-13T23:13:01.669857Z",
     "iopub.status.busy": "2021-03-13T23:13:01.668497Z",
     "iopub.status.idle": "2021-03-13T23:13:01.670484Z",
     "shell.execute_reply": "2021-03-13T23:13:01.670964Z"
    }
   },
   "outputs": [],
   "source": [
    "df = df[df.location == 'California'].append(df[df.location != 'California']).reset_index(drop=True)"
   ]
  },
  {
   "cell_type": "code",
   "execution_count": null,
   "metadata": {},
   "outputs": [],
   "source": []
  },
  {
   "cell_type": "code",
   "execution_count": 15,
   "metadata": {
    "execution": {
     "iopub.execute_input": "2021-03-13T23:13:01.674620Z",
     "iopub.status.busy": "2021-03-13T23:13:01.674047Z",
     "iopub.status.idle": "2021-03-13T23:13:01.693719Z",
     "shell.execute_reply": "2021-03-13T23:13:01.693129Z"
    }
   },
   "outputs": [],
   "source": [
    "tz = pytz.timezone(\"America/New_York\")"
   ]
  },
  {
   "cell_type": "code",
   "execution_count": 16,
   "metadata": {
    "execution": {
     "iopub.execute_input": "2021-03-13T23:13:01.698269Z",
     "iopub.status.busy": "2021-03-13T23:13:01.696810Z",
     "iopub.status.idle": "2021-03-13T23:13:01.698914Z",
     "shell.execute_reply": "2021-03-13T23:13:01.699410Z"
    }
   },
   "outputs": [],
   "source": [
    "today = datetime.now(tz).date()"
   ]
  },
  {
   "cell_type": "code",
   "execution_count": 17,
   "metadata": {
    "execution": {
     "iopub.execute_input": "2021-03-13T23:13:01.704212Z",
     "iopub.status.busy": "2021-03-13T23:13:01.702778Z",
     "iopub.status.idle": "2021-03-13T23:13:01.705062Z",
     "shell.execute_reply": "2021-03-13T23:13:01.705561Z"
    }
   },
   "outputs": [],
   "source": [
    "data_dir = os.path.join(os.path.abspath(\"\"), \"data\")"
   ]
  },
  {
   "cell_type": "code",
   "execution_count": 18,
   "metadata": {
    "execution": {
     "iopub.execute_input": "2021-03-13T23:13:01.709947Z",
     "iopub.status.busy": "2021-03-13T23:13:01.708835Z",
     "iopub.status.idle": "2021-03-13T23:13:01.713765Z",
     "shell.execute_reply": "2021-03-13T23:13:01.713184Z"
    }
   },
   "outputs": [],
   "source": [
    "df.to_csv(os.path.join(data_dir, f\"{today}.csv\"), index=False)"
   ]
  },
  {
   "cell_type": "code",
   "execution_count": null,
   "metadata": {},
   "outputs": [],
   "source": []
  }
 ],
 "metadata": {
  "kernelspec": {
   "display_name": "Python 3",
   "language": "python",
   "name": "python3"
  },
  "language_info": {
   "codemirror_mode": {
    "name": "ipython",
    "version": 3
   },
   "file_extension": ".py",
   "mimetype": "text/x-python",
   "name": "python",
   "nbconvert_exporter": "python",
   "pygments_lexer": "ipython3",
   "version": "3.8.8"
  }
 },
 "nbformat": 4,
 "nbformat_minor": 4
}
