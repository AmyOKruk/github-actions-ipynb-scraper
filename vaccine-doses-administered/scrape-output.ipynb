{
 "cells": [
  {
   "cell_type": "markdown",
   "metadata": {},
   "source": [
    "# California COVID vaccinations scrape"
   ]
  },
  {
   "cell_type": "markdown",
   "metadata": {},
   "source": [
    "By [Amy O'Kruk](https://twitter.com/amyokruk)"
   ]
  },
  {
   "cell_type": "markdown",
   "metadata": {},
   "source": [
    "Downloads data on vaccine doses administered by county and statewide from a Tableau-powered dashboard from the California Department of Public Health."
   ]
  },
  {
   "cell_type": "code",
   "execution_count": 1,
   "metadata": {
    "execution": {
     "iopub.execute_input": "2021-03-16T04:49:18.081595Z",
     "iopub.status.busy": "2021-03-16T04:49:18.080953Z",
     "iopub.status.idle": "2021-03-16T04:49:18.477945Z",
     "shell.execute_reply": "2021-03-16T04:49:18.476702Z"
    }
   },
   "outputs": [],
   "source": [
    "import pandas as pd\n",
    "import requests\n",
    "from bs4 import BeautifulSoup\n",
    "import json\n",
    "import re\n",
    "import time\n",
    "from time import gmtime, strftime \n",
    "import os\n",
    "import pytz\n",
    "from datetime import datetime"
   ]
  },
  {
   "cell_type": "markdown",
   "metadata": {},
   "source": [
    "Scrape the dashboard page"
   ]
  },
  {
   "cell_type": "code",
   "execution_count": 2,
   "metadata": {
    "execution": {
     "iopub.execute_input": "2021-03-16T04:49:18.483181Z",
     "iopub.status.busy": "2021-03-16T04:49:18.481102Z",
     "iopub.status.idle": "2021-03-16T04:49:18.931211Z",
     "shell.execute_reply": "2021-03-16T04:49:18.930411Z"
    }
   },
   "outputs": [],
   "source": [
    "url = \"https://public.tableau.com/interactive/views/COVID-19VaccineDashboardPublic/Vaccine?:embed=y&:showVizHome=n&:apiID=host0\"\n",
    "\n",
    "r = requests.get(url)\n",
    "soup = BeautifulSoup(r.text, \"html.parser\")"
   ]
  },
  {
   "cell_type": "code",
   "execution_count": 3,
   "metadata": {
    "execution": {
     "iopub.execute_input": "2021-03-16T04:49:18.936217Z",
     "iopub.status.busy": "2021-03-16T04:49:18.935697Z",
     "iopub.status.idle": "2021-03-16T04:49:18.939120Z",
     "shell.execute_reply": "2021-03-16T04:49:18.938685Z"
    }
   },
   "outputs": [],
   "source": [
    "tableauData = json.loads(soup.find(\"textarea\",{\"id\": \"tsConfigContainer\"}).text)"
   ]
  },
  {
   "cell_type": "markdown",
   "metadata": {},
   "source": [
    "Get the link to the Tableau data"
   ]
  },
  {
   "cell_type": "code",
   "execution_count": 4,
   "metadata": {
    "execution": {
     "iopub.execute_input": "2021-03-16T04:49:18.943646Z",
     "iopub.status.busy": "2021-03-16T04:49:18.942536Z",
     "iopub.status.idle": "2021-03-16T04:49:18.944140Z",
     "shell.execute_reply": "2021-03-16T04:49:18.944515Z"
    }
   },
   "outputs": [],
   "source": [
    "dataUrl = f'https://public.tableau.com{tableauData[\"vizql_root\"]}/bootstrapSession/sessions/{tableauData[\"sessionid\"]}'"
   ]
  },
  {
   "cell_type": "code",
   "execution_count": 5,
   "metadata": {
    "execution": {
     "iopub.execute_input": "2021-03-16T04:49:18.950898Z",
     "iopub.status.busy": "2021-03-16T04:49:18.950363Z",
     "iopub.status.idle": "2021-03-16T04:49:19.527054Z",
     "shell.execute_reply": "2021-03-16T04:49:19.526071Z"
    }
   },
   "outputs": [],
   "source": [
    "r = requests.post(dataUrl, data= {\n",
    "    \"sheet_id\": tableauData[\"sheetId\"],\n",
    "})\n",
    "\n",
    "dataReg = re.search('\\d+;({.*})\\d+;({.*})', r.text, re.MULTILINE)\n",
    "data1 = json.loads(dataReg.group(2))\n",
    "\n",
    "dataJson = data1[\"secondaryInfo\"][\"presModelMap\"][\"dataDictionary\"][\"presModelHolder\"][\"genDataDictionaryPresModel\"][\"dataSegments\"][\"0\"][\"dataColumns\"]"
   ]
  },
  {
   "cell_type": "markdown",
   "metadata": {},
   "source": [
    "Isolate what you want"
   ]
  },
  {
   "cell_type": "code",
   "execution_count": 6,
   "metadata": {
    "execution": {
     "iopub.execute_input": "2021-03-16T04:49:19.531064Z",
     "iopub.status.busy": "2021-03-16T04:49:19.530557Z",
     "iopub.status.idle": "2021-03-16T04:49:19.534384Z",
     "shell.execute_reply": "2021-03-16T04:49:19.533941Z"
    }
   },
   "outputs": [],
   "source": [
    "counties = dataJson[2]['dataValues'][:58]"
   ]
  },
  {
   "cell_type": "code",
   "execution_count": 7,
   "metadata": {
    "execution": {
     "iopub.execute_input": "2021-03-16T04:49:19.537635Z",
     "iopub.status.busy": "2021-03-16T04:49:19.537136Z",
     "iopub.status.idle": "2021-03-16T04:49:19.540301Z",
     "shell.execute_reply": "2021-03-16T04:49:19.539881Z"
    }
   },
   "outputs": [],
   "source": [
    "doses = dataJson[0]['dataValues'][3:61]"
   ]
  },
  {
   "cell_type": "markdown",
   "metadata": {},
   "source": [
    "Data formatting"
   ]
  },
  {
   "cell_type": "code",
   "execution_count": 8,
   "metadata": {
    "execution": {
     "iopub.execute_input": "2021-03-16T04:49:19.543665Z",
     "iopub.status.busy": "2021-03-16T04:49:19.543159Z",
     "iopub.status.idle": "2021-03-16T04:49:19.546345Z",
     "shell.execute_reply": "2021-03-16T04:49:19.545919Z"
    }
   },
   "outputs": [],
   "source": [
    "zipped = dict(zip(counties, doses))"
   ]
  },
  {
   "cell_type": "code",
   "execution_count": 9,
   "metadata": {
    "execution": {
     "iopub.execute_input": "2021-03-16T04:49:19.551606Z",
     "iopub.status.busy": "2021-03-16T04:49:19.551130Z",
     "iopub.status.idle": "2021-03-16T04:49:19.554352Z",
     "shell.execute_reply": "2021-03-16T04:49:19.553906Z"
    }
   },
   "outputs": [],
   "source": [
    "df = pd.Series(zipped).reset_index()"
   ]
  },
  {
   "cell_type": "code",
   "execution_count": 10,
   "metadata": {
    "execution": {
     "iopub.execute_input": "2021-03-16T04:49:19.557817Z",
     "iopub.status.busy": "2021-03-16T04:49:19.557304Z",
     "iopub.status.idle": "2021-03-16T04:49:19.560446Z",
     "shell.execute_reply": "2021-03-16T04:49:19.560050Z"
    }
   },
   "outputs": [],
   "source": [
    "df.columns = ['location','doses']"
   ]
  },
  {
   "cell_type": "markdown",
   "metadata": {},
   "source": [
    "Grab the overall California total"
   ]
  },
  {
   "cell_type": "code",
   "execution_count": 11,
   "metadata": {
    "execution": {
     "iopub.execute_input": "2021-03-16T04:49:19.563993Z",
     "iopub.status.busy": "2021-03-16T04:49:19.563471Z",
     "iopub.status.idle": "2021-03-16T04:49:19.566831Z",
     "shell.execute_reply": "2021-03-16T04:49:19.566403Z"
    }
   },
   "outputs": [],
   "source": [
    "add = {'location':'California','doses':dataJson[0]['dataValues'][2]}"
   ]
  },
  {
   "cell_type": "code",
   "execution_count": 12,
   "metadata": {
    "execution": {
     "iopub.execute_input": "2021-03-16T04:49:19.572560Z",
     "iopub.status.busy": "2021-03-16T04:49:19.572075Z",
     "iopub.status.idle": "2021-03-16T04:49:19.574823Z",
     "shell.execute_reply": "2021-03-16T04:49:19.575224Z"
    }
   },
   "outputs": [],
   "source": [
    "df = df.append(add, ignore_index=True)"
   ]
  },
  {
   "cell_type": "code",
   "execution_count": 13,
   "metadata": {
    "execution": {
     "iopub.execute_input": "2021-03-16T04:49:19.579358Z",
     "iopub.status.busy": "2021-03-16T04:49:19.578846Z",
     "iopub.status.idle": "2021-03-16T04:49:19.582209Z",
     "shell.execute_reply": "2021-03-16T04:49:19.581805Z"
    }
   },
   "outputs": [],
   "source": [
    "df = df.sort_values(by='location')"
   ]
  },
  {
   "cell_type": "code",
   "execution_count": 14,
   "metadata": {
    "execution": {
     "iopub.execute_input": "2021-03-16T04:49:19.587198Z",
     "iopub.status.busy": "2021-03-16T04:49:19.586782Z",
     "iopub.status.idle": "2021-03-16T04:49:19.589495Z",
     "shell.execute_reply": "2021-03-16T04:49:19.589853Z"
    }
   },
   "outputs": [],
   "source": [
    "df = df[df.location == 'California'].append(df[df.location != 'California']).reset_index(drop=True)"
   ]
  },
  {
   "cell_type": "code",
   "execution_count": null,
   "metadata": {},
   "outputs": [],
   "source": []
  },
  {
   "cell_type": "code",
   "execution_count": 15,
   "metadata": {
    "execution": {
     "iopub.execute_input": "2021-03-16T04:49:19.593048Z",
     "iopub.status.busy": "2021-03-16T04:49:19.592309Z",
     "iopub.status.idle": "2021-03-16T04:49:19.609674Z",
     "shell.execute_reply": "2021-03-16T04:49:19.608755Z"
    }
   },
   "outputs": [],
   "source": [
    "tz = pytz.timezone(\"America/New_York\")"
   ]
  },
  {
   "cell_type": "code",
   "execution_count": 16,
   "metadata": {
    "execution": {
     "iopub.execute_input": "2021-03-16T04:49:19.613111Z",
     "iopub.status.busy": "2021-03-16T04:49:19.612601Z",
     "iopub.status.idle": "2021-03-16T04:49:19.616057Z",
     "shell.execute_reply": "2021-03-16T04:49:19.615654Z"
    }
   },
   "outputs": [],
   "source": [
    "today = datetime.now(tz).date()"
   ]
  },
  {
   "cell_type": "code",
   "execution_count": 17,
   "metadata": {
    "execution": {
     "iopub.execute_input": "2021-03-16T04:49:19.619263Z",
     "iopub.status.busy": "2021-03-16T04:49:19.618770Z",
     "iopub.status.idle": "2021-03-16T04:49:19.622068Z",
     "shell.execute_reply": "2021-03-16T04:49:19.621643Z"
    }
   },
   "outputs": [],
   "source": [
    "data_dir = os.path.join(os.path.abspath(\"\"), \"data\")"
   ]
  },
  {
   "cell_type": "code",
   "execution_count": 18,
   "metadata": {
    "execution": {
     "iopub.execute_input": "2021-03-16T04:49:19.625995Z",
     "iopub.status.busy": "2021-03-16T04:49:19.625203Z",
     "iopub.status.idle": "2021-03-16T04:49:19.629582Z",
     "shell.execute_reply": "2021-03-16T04:49:19.629019Z"
    }
   },
   "outputs": [],
   "source": [
    "df.to_csv(os.path.join(data_dir, f\"{today}.csv\"), index=False)"
   ]
  },
  {
   "cell_type": "code",
   "execution_count": null,
   "metadata": {},
   "outputs": [],
   "source": []
  }
 ],
 "metadata": {
  "kernelspec": {
   "display_name": "Python 3",
   "language": "python",
   "name": "python3"
  },
  "language_info": {
   "codemirror_mode": {
    "name": "ipython",
    "version": 3
   },
   "file_extension": ".py",
   "mimetype": "text/x-python",
   "name": "python",
   "nbconvert_exporter": "python",
   "pygments_lexer": "ipython3",
   "version": "3.8.8"
  }
 },
 "nbformat": 4,
 "nbformat_minor": 4
}
