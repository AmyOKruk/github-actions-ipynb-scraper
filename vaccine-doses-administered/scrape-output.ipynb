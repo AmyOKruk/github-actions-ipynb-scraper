{
 "cells": [
  {
   "cell_type": "markdown",
   "metadata": {},
   "source": [
    "# California COVID vaccinations scrape"
   ]
  },
  {
   "cell_type": "markdown",
   "metadata": {},
   "source": [
    "By [Amy O'Kruk](https://twitter.com/amyokruk)"
   ]
  },
  {
   "cell_type": "markdown",
   "metadata": {},
   "source": [
    "Downloads data on vaccine doses administered by county and statewide from a Tableau-powered dashboard from the California Department of Public Health."
   ]
  },
  {
   "cell_type": "code",
   "execution_count": 1,
   "metadata": {
    "execution": {
     "iopub.execute_input": "2021-03-18T17:14:11.676965Z",
     "iopub.status.busy": "2021-03-18T17:14:11.676284Z",
     "iopub.status.idle": "2021-03-18T17:14:12.286953Z",
     "shell.execute_reply": "2021-03-18T17:14:12.285972Z"
    }
   },
   "outputs": [],
   "source": [
    "import pandas as pd\n",
    "import requests\n",
    "from bs4 import BeautifulSoup\n",
    "import json\n",
    "import re\n",
    "import time\n",
    "from time import gmtime, strftime \n",
    "import os\n",
    "import pytz\n",
    "from datetime import datetime"
   ]
  },
  {
   "cell_type": "markdown",
   "metadata": {},
   "source": [
    "Scrape the dashboard page"
   ]
  },
  {
   "cell_type": "code",
   "execution_count": 2,
   "metadata": {
    "execution": {
     "iopub.execute_input": "2021-03-18T17:14:12.294732Z",
     "iopub.status.busy": "2021-03-18T17:14:12.293929Z",
     "iopub.status.idle": "2021-03-18T17:14:12.642046Z",
     "shell.execute_reply": "2021-03-18T17:14:12.641253Z"
    }
   },
   "outputs": [],
   "source": [
    "url = \"https://public.tableau.com/interactive/views/COVID-19VaccineDashboardPublic/Vaccine?:embed=y&:showVizHome=n&:apiID=host0\"\n",
    "\n",
    "r = requests.get(url)\n",
    "soup = BeautifulSoup(r.text, \"html.parser\")"
   ]
  },
  {
   "cell_type": "code",
   "execution_count": 3,
   "metadata": {
    "execution": {
     "iopub.execute_input": "2021-03-18T17:14:12.647729Z",
     "iopub.status.busy": "2021-03-18T17:14:12.646952Z",
     "iopub.status.idle": "2021-03-18T17:14:12.648574Z",
     "shell.execute_reply": "2021-03-18T17:14:12.648976Z"
    }
   },
   "outputs": [],
   "source": [
    "tableauData = json.loads(soup.find(\"textarea\",{\"id\": \"tsConfigContainer\"}).text)"
   ]
  },
  {
   "cell_type": "markdown",
   "metadata": {},
   "source": [
    "Get the link to the Tableau data"
   ]
  },
  {
   "cell_type": "code",
   "execution_count": 4,
   "metadata": {
    "execution": {
     "iopub.execute_input": "2021-03-18T17:14:12.653995Z",
     "iopub.status.busy": "2021-03-18T17:14:12.651886Z",
     "iopub.status.idle": "2021-03-18T17:14:12.654598Z",
     "shell.execute_reply": "2021-03-18T17:14:12.655023Z"
    }
   },
   "outputs": [],
   "source": [
    "dataUrl = f'https://public.tableau.com{tableauData[\"vizql_root\"]}/bootstrapSession/sessions/{tableauData[\"sessionid\"]}'"
   ]
  },
  {
   "cell_type": "code",
   "execution_count": 5,
   "metadata": {
    "execution": {
     "iopub.execute_input": "2021-03-18T17:14:12.661744Z",
     "iopub.status.busy": "2021-03-18T17:14:12.661100Z",
     "iopub.status.idle": "2021-03-18T17:14:12.861429Z",
     "shell.execute_reply": "2021-03-18T17:14:12.861861Z"
    }
   },
   "outputs": [],
   "source": [
    "r = requests.post(dataUrl, data= {\n",
    "    \"sheet_id\": tableauData[\"sheetId\"],\n",
    "})\n",
    "\n",
    "dataReg = re.search('\\d+;({.*})\\d+;({.*})', r.text, re.MULTILINE)\n",
    "data1 = json.loads(dataReg.group(2))\n",
    "\n",
    "dataJson = data1[\"secondaryInfo\"][\"presModelMap\"][\"dataDictionary\"][\"presModelHolder\"][\"genDataDictionaryPresModel\"][\"dataSegments\"][\"0\"][\"dataColumns\"]"
   ]
  },
  {
   "cell_type": "markdown",
   "metadata": {},
   "source": [
    "Isolate what you want"
   ]
  },
  {
   "cell_type": "code",
   "execution_count": 6,
   "metadata": {
    "execution": {
     "iopub.execute_input": "2021-03-18T17:14:12.866326Z",
     "iopub.status.busy": "2021-03-18T17:14:12.865824Z",
     "iopub.status.idle": "2021-03-18T17:14:12.869330Z",
     "shell.execute_reply": "2021-03-18T17:14:12.868930Z"
    }
   },
   "outputs": [],
   "source": [
    "counties = dataJson[2]['dataValues'][:58]"
   ]
  },
  {
   "cell_type": "code",
   "execution_count": 7,
   "metadata": {
    "execution": {
     "iopub.execute_input": "2021-03-18T17:14:12.874109Z",
     "iopub.status.busy": "2021-03-18T17:14:12.873637Z",
     "iopub.status.idle": "2021-03-18T17:14:12.876997Z",
     "shell.execute_reply": "2021-03-18T17:14:12.876551Z"
    }
   },
   "outputs": [],
   "source": [
    "doses = dataJson[0]['dataValues'][3:61]"
   ]
  },
  {
   "cell_type": "markdown",
   "metadata": {},
   "source": [
    "Data formatting"
   ]
  },
  {
   "cell_type": "code",
   "execution_count": 8,
   "metadata": {
    "execution": {
     "iopub.execute_input": "2021-03-18T17:14:12.880958Z",
     "iopub.status.busy": "2021-03-18T17:14:12.880015Z",
     "iopub.status.idle": "2021-03-18T17:14:12.883010Z",
     "shell.execute_reply": "2021-03-18T17:14:12.882616Z"
    }
   },
   "outputs": [],
   "source": [
    "zipped = dict(zip(counties, doses))"
   ]
  },
  {
   "cell_type": "code",
   "execution_count": 9,
   "metadata": {
    "execution": {
     "iopub.execute_input": "2021-03-18T17:14:12.888662Z",
     "iopub.status.busy": "2021-03-18T17:14:12.888195Z",
     "iopub.status.idle": "2021-03-18T17:14:12.892087Z",
     "shell.execute_reply": "2021-03-18T17:14:12.891696Z"
    }
   },
   "outputs": [],
   "source": [
    "df = pd.Series(zipped).reset_index()"
   ]
  },
  {
   "cell_type": "code",
   "execution_count": 10,
   "metadata": {
    "execution": {
     "iopub.execute_input": "2021-03-18T17:14:12.895669Z",
     "iopub.status.busy": "2021-03-18T17:14:12.895202Z",
     "iopub.status.idle": "2021-03-18T17:14:12.898462Z",
     "shell.execute_reply": "2021-03-18T17:14:12.897990Z"
    }
   },
   "outputs": [],
   "source": [
    "df.columns = ['location','doses']"
   ]
  },
  {
   "cell_type": "markdown",
   "metadata": {},
   "source": [
    "Grab the overall California total"
   ]
  },
  {
   "cell_type": "code",
   "execution_count": 11,
   "metadata": {
    "execution": {
     "iopub.execute_input": "2021-03-18T17:14:12.902120Z",
     "iopub.status.busy": "2021-03-18T17:14:12.901576Z",
     "iopub.status.idle": "2021-03-18T17:14:12.904953Z",
     "shell.execute_reply": "2021-03-18T17:14:12.904537Z"
    }
   },
   "outputs": [],
   "source": [
    "add = {'location':'California','doses':dataJson[0]['dataValues'][2]}"
   ]
  },
  {
   "cell_type": "code",
   "execution_count": 12,
   "metadata": {
    "execution": {
     "iopub.execute_input": "2021-03-18T17:14:12.911564Z",
     "iopub.status.busy": "2021-03-18T17:14:12.911064Z",
     "iopub.status.idle": "2021-03-18T17:14:12.913885Z",
     "shell.execute_reply": "2021-03-18T17:14:12.914339Z"
    }
   },
   "outputs": [],
   "source": [
    "df = df.append(add, ignore_index=True)"
   ]
  },
  {
   "cell_type": "code",
   "execution_count": 13,
   "metadata": {
    "execution": {
     "iopub.execute_input": "2021-03-18T17:14:12.918692Z",
     "iopub.status.busy": "2021-03-18T17:14:12.918136Z",
     "iopub.status.idle": "2021-03-18T17:14:12.921542Z",
     "shell.execute_reply": "2021-03-18T17:14:12.921093Z"
    }
   },
   "outputs": [],
   "source": [
    "df = df.sort_values(by='location')"
   ]
  },
  {
   "cell_type": "code",
   "execution_count": 14,
   "metadata": {
    "execution": {
     "iopub.execute_input": "2021-03-18T17:14:12.927124Z",
     "iopub.status.busy": "2021-03-18T17:14:12.926674Z",
     "iopub.status.idle": "2021-03-18T17:14:12.930443Z",
     "shell.execute_reply": "2021-03-18T17:14:12.929994Z"
    }
   },
   "outputs": [],
   "source": [
    "df = df[df.location == 'California'].append(df[df.location != 'California']).reset_index(drop=True)"
   ]
  },
  {
   "cell_type": "code",
   "execution_count": null,
   "metadata": {},
   "outputs": [],
   "source": []
  },
  {
   "cell_type": "code",
   "execution_count": 15,
   "metadata": {
    "execution": {
     "iopub.execute_input": "2021-03-18T17:14:12.933778Z",
     "iopub.status.busy": "2021-03-18T17:14:12.932883Z",
     "iopub.status.idle": "2021-03-18T17:14:12.951128Z",
     "shell.execute_reply": "2021-03-18T17:14:12.950429Z"
    }
   },
   "outputs": [],
   "source": [
    "tz = pytz.timezone(\"America/New_York\")"
   ]
  },
  {
   "cell_type": "code",
   "execution_count": 16,
   "metadata": {
    "execution": {
     "iopub.execute_input": "2021-03-18T17:14:12.954485Z",
     "iopub.status.busy": "2021-03-18T17:14:12.953935Z",
     "iopub.status.idle": "2021-03-18T17:14:12.957032Z",
     "shell.execute_reply": "2021-03-18T17:14:12.957429Z"
    }
   },
   "outputs": [],
   "source": [
    "today = datetime.now(tz).date()"
   ]
  },
  {
   "cell_type": "code",
   "execution_count": 17,
   "metadata": {
    "execution": {
     "iopub.execute_input": "2021-03-18T17:14:12.960793Z",
     "iopub.status.busy": "2021-03-18T17:14:12.960321Z",
     "iopub.status.idle": "2021-03-18T17:14:12.963387Z",
     "shell.execute_reply": "2021-03-18T17:14:12.963751Z"
    }
   },
   "outputs": [],
   "source": [
    "data_dir = os.path.join(os.path.abspath(\"\"), \"data\")"
   ]
  },
  {
   "cell_type": "code",
   "execution_count": 18,
   "metadata": {
    "execution": {
     "iopub.execute_input": "2021-03-18T17:14:12.967426Z",
     "iopub.status.busy": "2021-03-18T17:14:12.966950Z",
     "iopub.status.idle": "2021-03-18T17:14:12.971210Z",
     "shell.execute_reply": "2021-03-18T17:14:12.970766Z"
    }
   },
   "outputs": [],
   "source": [
    "df.to_csv(os.path.join(data_dir, f\"{today}.csv\"), index=False)"
   ]
  },
  {
   "cell_type": "code",
   "execution_count": null,
   "metadata": {},
   "outputs": [],
   "source": []
  }
 ],
 "metadata": {
  "kernelspec": {
   "display_name": "Python 3",
   "language": "python",
   "name": "python3"
  },
  "language_info": {
   "codemirror_mode": {
    "name": "ipython",
    "version": 3
   },
   "file_extension": ".py",
   "mimetype": "text/x-python",
   "name": "python",
   "nbconvert_exporter": "python",
   "pygments_lexer": "ipython3",
   "version": "3.8.8"
  }
 },
 "nbformat": 4,
 "nbformat_minor": 4
}
