{
 "cells": [
  {
   "cell_type": "markdown",
   "metadata": {},
   "source": [
    "# California COVID vaccinations scrape"
   ]
  },
  {
   "cell_type": "markdown",
   "metadata": {},
   "source": [
    "By [Amy O'Kruk](https://twitter.com/amyokruk)"
   ]
  },
  {
   "cell_type": "markdown",
   "metadata": {},
   "source": [
    "Downloads data on vaccine doses administered by county and statewide from a Tableau-powered dashboard from the California Department of Public Health."
   ]
  },
  {
   "cell_type": "code",
   "execution_count": 1,
   "metadata": {
    "execution": {
     "iopub.execute_input": "2021-03-13T11:12:09.006878Z",
     "iopub.status.busy": "2021-03-13T11:12:09.006267Z",
     "iopub.status.idle": "2021-03-13T11:12:09.359202Z",
     "shell.execute_reply": "2021-03-13T11:12:09.358282Z"
    }
   },
   "outputs": [],
   "source": [
    "import pandas as pd\n",
    "import requests\n",
    "from bs4 import BeautifulSoup\n",
    "import json\n",
    "import re\n",
    "import time\n",
    "from time import gmtime, strftime \n",
    "import os\n",
    "import pytz\n",
    "from datetime import datetime"
   ]
  },
  {
   "cell_type": "markdown",
   "metadata": {},
   "source": [
    "Scrape the dashboard page"
   ]
  },
  {
   "cell_type": "code",
   "execution_count": 2,
   "metadata": {
    "execution": {
     "iopub.execute_input": "2021-03-13T11:12:09.365272Z",
     "iopub.status.busy": "2021-03-13T11:12:09.364169Z",
     "iopub.status.idle": "2021-03-13T11:12:09.750164Z",
     "shell.execute_reply": "2021-03-13T11:12:09.749354Z"
    }
   },
   "outputs": [],
   "source": [
    "url = \"https://public.tableau.com/interactive/views/COVID-19VaccineDashboardPublic/Vaccine?:embed=y&:showVizHome=n&:apiID=host0\"\n",
    "\n",
    "r = requests.get(url)\n",
    "soup = BeautifulSoup(r.text, \"html.parser\")"
   ]
  },
  {
   "cell_type": "code",
   "execution_count": 3,
   "metadata": {
    "execution": {
     "iopub.execute_input": "2021-03-13T11:12:09.755509Z",
     "iopub.status.busy": "2021-03-13T11:12:09.754980Z",
     "iopub.status.idle": "2021-03-13T11:12:09.758328Z",
     "shell.execute_reply": "2021-03-13T11:12:09.757934Z"
    }
   },
   "outputs": [],
   "source": [
    "tableauData = json.loads(soup.find(\"textarea\",{\"id\": \"tsConfigContainer\"}).text)"
   ]
  },
  {
   "cell_type": "markdown",
   "metadata": {},
   "source": [
    "Get the link to the Tableau data"
   ]
  },
  {
   "cell_type": "code",
   "execution_count": 4,
   "metadata": {
    "execution": {
     "iopub.execute_input": "2021-03-13T11:12:09.762265Z",
     "iopub.status.busy": "2021-03-13T11:12:09.761227Z",
     "iopub.status.idle": "2021-03-13T11:12:09.762906Z",
     "shell.execute_reply": "2021-03-13T11:12:09.763320Z"
    }
   },
   "outputs": [],
   "source": [
    "dataUrl = f'https://public.tableau.com{tableauData[\"vizql_root\"]}/bootstrapSession/sessions/{tableauData[\"sessionid\"]}'"
   ]
  },
  {
   "cell_type": "code",
   "execution_count": 5,
   "metadata": {
    "execution": {
     "iopub.execute_input": "2021-03-13T11:12:09.769752Z",
     "iopub.status.busy": "2021-03-13T11:12:09.769226Z",
     "iopub.status.idle": "2021-03-13T11:12:10.212607Z",
     "shell.execute_reply": "2021-03-13T11:12:10.212053Z"
    }
   },
   "outputs": [],
   "source": [
    "r = requests.post(dataUrl, data= {\n",
    "    \"sheet_id\": tableauData[\"sheetId\"],\n",
    "})\n",
    "\n",
    "dataReg = re.search('\\d+;({.*})\\d+;({.*})', r.text, re.MULTILINE)\n",
    "data1 = json.loads(dataReg.group(2))\n",
    "\n",
    "dataJson = data1[\"secondaryInfo\"][\"presModelMap\"][\"dataDictionary\"][\"presModelHolder\"][\"genDataDictionaryPresModel\"][\"dataSegments\"][\"0\"][\"dataColumns\"]"
   ]
  },
  {
   "cell_type": "markdown",
   "metadata": {},
   "source": [
    "Isolate what you want"
   ]
  },
  {
   "cell_type": "code",
   "execution_count": 6,
   "metadata": {
    "execution": {
     "iopub.execute_input": "2021-03-13T11:12:10.217650Z",
     "iopub.status.busy": "2021-03-13T11:12:10.216259Z",
     "iopub.status.idle": "2021-03-13T11:12:10.218327Z",
     "shell.execute_reply": "2021-03-13T11:12:10.218824Z"
    }
   },
   "outputs": [],
   "source": [
    "counties = dataJson[2]['dataValues'][:58]"
   ]
  },
  {
   "cell_type": "code",
   "execution_count": 7,
   "metadata": {
    "execution": {
     "iopub.execute_input": "2021-03-13T11:12:10.222748Z",
     "iopub.status.busy": "2021-03-13T11:12:10.221895Z",
     "iopub.status.idle": "2021-03-13T11:12:10.223572Z",
     "shell.execute_reply": "2021-03-13T11:12:10.224028Z"
    }
   },
   "outputs": [],
   "source": [
    "doses = dataJson[0]['dataValues'][3:61]"
   ]
  },
  {
   "cell_type": "markdown",
   "metadata": {},
   "source": [
    "Data formatting"
   ]
  },
  {
   "cell_type": "code",
   "execution_count": 8,
   "metadata": {
    "execution": {
     "iopub.execute_input": "2021-03-13T11:12:10.227936Z",
     "iopub.status.busy": "2021-03-13T11:12:10.227062Z",
     "iopub.status.idle": "2021-03-13T11:12:10.228739Z",
     "shell.execute_reply": "2021-03-13T11:12:10.229173Z"
    }
   },
   "outputs": [],
   "source": [
    "zipped = dict(zip(counties, doses))"
   ]
  },
  {
   "cell_type": "code",
   "execution_count": 9,
   "metadata": {
    "execution": {
     "iopub.execute_input": "2021-03-13T11:12:10.235584Z",
     "iopub.status.busy": "2021-03-13T11:12:10.234408Z",
     "iopub.status.idle": "2021-03-13T11:12:10.236153Z",
     "shell.execute_reply": "2021-03-13T11:12:10.236759Z"
    }
   },
   "outputs": [],
   "source": [
    "df = pd.Series(zipped).reset_index()"
   ]
  },
  {
   "cell_type": "code",
   "execution_count": 10,
   "metadata": {
    "execution": {
     "iopub.execute_input": "2021-03-13T11:12:10.241167Z",
     "iopub.status.busy": "2021-03-13T11:12:10.239969Z",
     "iopub.status.idle": "2021-03-13T11:12:10.241764Z",
     "shell.execute_reply": "2021-03-13T11:12:10.242184Z"
    }
   },
   "outputs": [],
   "source": [
    "df.columns = ['location','doses']"
   ]
  },
  {
   "cell_type": "markdown",
   "metadata": {},
   "source": [
    "Grab the overall California total"
   ]
  },
  {
   "cell_type": "code",
   "execution_count": 11,
   "metadata": {
    "execution": {
     "iopub.execute_input": "2021-03-13T11:12:10.246147Z",
     "iopub.status.busy": "2021-03-13T11:12:10.245203Z",
     "iopub.status.idle": "2021-03-13T11:12:10.247272Z",
     "shell.execute_reply": "2021-03-13T11:12:10.246838Z"
    }
   },
   "outputs": [],
   "source": [
    "add = {'location':'California','doses':dataJson[0]['dataValues'][2]}"
   ]
  },
  {
   "cell_type": "code",
   "execution_count": 12,
   "metadata": {
    "execution": {
     "iopub.execute_input": "2021-03-13T11:12:10.253846Z",
     "iopub.status.busy": "2021-03-13T11:12:10.252889Z",
     "iopub.status.idle": "2021-03-13T11:12:10.254475Z",
     "shell.execute_reply": "2021-03-13T11:12:10.254904Z"
    }
   },
   "outputs": [],
   "source": [
    "df = df.append(add, ignore_index=True)"
   ]
  },
  {
   "cell_type": "code",
   "execution_count": 13,
   "metadata": {
    "execution": {
     "iopub.execute_input": "2021-03-13T11:12:10.259425Z",
     "iopub.status.busy": "2021-03-13T11:12:10.258474Z",
     "iopub.status.idle": "2021-03-13T11:12:10.260153Z",
     "shell.execute_reply": "2021-03-13T11:12:10.260551Z"
    }
   },
   "outputs": [],
   "source": [
    "df = df.sort_values(by='location')"
   ]
  },
  {
   "cell_type": "code",
   "execution_count": 14,
   "metadata": {
    "execution": {
     "iopub.execute_input": "2021-03-13T11:12:10.266698Z",
     "iopub.status.busy": "2021-03-13T11:12:10.265542Z",
     "iopub.status.idle": "2021-03-13T11:12:10.267427Z",
     "shell.execute_reply": "2021-03-13T11:12:10.267868Z"
    }
   },
   "outputs": [],
   "source": [
    "df = df[df.location == 'California'].append(df[df.location != 'California']).reset_index(drop=True)"
   ]
  },
  {
   "cell_type": "code",
   "execution_count": null,
   "metadata": {},
   "outputs": [],
   "source": []
  },
  {
   "cell_type": "code",
   "execution_count": 15,
   "metadata": {
    "execution": {
     "iopub.execute_input": "2021-03-13T11:12:10.270989Z",
     "iopub.status.busy": "2021-03-13T11:12:10.270519Z",
     "iopub.status.idle": "2021-03-13T11:12:10.286796Z",
     "shell.execute_reply": "2021-03-13T11:12:10.286339Z"
    }
   },
   "outputs": [],
   "source": [
    "tz = pytz.timezone(\"America/New_York\")"
   ]
  },
  {
   "cell_type": "code",
   "execution_count": 16,
   "metadata": {
    "execution": {
     "iopub.execute_input": "2021-03-13T11:12:10.290744Z",
     "iopub.status.busy": "2021-03-13T11:12:10.289711Z",
     "iopub.status.idle": "2021-03-13T11:12:10.291913Z",
     "shell.execute_reply": "2021-03-13T11:12:10.291459Z"
    }
   },
   "outputs": [],
   "source": [
    "today = datetime.now(tz).date()"
   ]
  },
  {
   "cell_type": "code",
   "execution_count": 17,
   "metadata": {
    "execution": {
     "iopub.execute_input": "2021-03-13T11:12:10.295690Z",
     "iopub.status.busy": "2021-03-13T11:12:10.294821Z",
     "iopub.status.idle": "2021-03-13T11:12:10.296412Z",
     "shell.execute_reply": "2021-03-13T11:12:10.296807Z"
    }
   },
   "outputs": [],
   "source": [
    "data_dir = os.path.join(os.path.abspath(\"\"), \"data\")"
   ]
  },
  {
   "cell_type": "code",
   "execution_count": 18,
   "metadata": {
    "execution": {
     "iopub.execute_input": "2021-03-13T11:12:10.300932Z",
     "iopub.status.busy": "2021-03-13T11:12:10.299652Z",
     "iopub.status.idle": "2021-03-13T11:12:10.304044Z",
     "shell.execute_reply": "2021-03-13T11:12:10.303607Z"
    }
   },
   "outputs": [],
   "source": [
    "df.to_csv(os.path.join(data_dir, f\"{today}.csv\"), index=False)"
   ]
  },
  {
   "cell_type": "code",
   "execution_count": null,
   "metadata": {},
   "outputs": [],
   "source": []
  }
 ],
 "metadata": {
  "kernelspec": {
   "display_name": "Python 3",
   "language": "python",
   "name": "python3"
  },
  "language_info": {
   "codemirror_mode": {
    "name": "ipython",
    "version": 3
   },
   "file_extension": ".py",
   "mimetype": "text/x-python",
   "name": "python",
   "nbconvert_exporter": "python",
   "pygments_lexer": "ipython3",
   "version": "3.8.8"
  }
 },
 "nbformat": 4,
 "nbformat_minor": 4
}
