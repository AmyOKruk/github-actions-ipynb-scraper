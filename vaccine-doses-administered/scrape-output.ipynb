{
 "cells": [
  {
   "cell_type": "markdown",
   "metadata": {},
   "source": [
    "# California COVID vaccinations scrape"
   ]
  },
  {
   "cell_type": "markdown",
   "metadata": {},
   "source": [
    "By [Amy O'Kruk](https://twitter.com/amyokruk)"
   ]
  },
  {
   "cell_type": "markdown",
   "metadata": {},
   "source": [
    "Downloads data on vaccine doses administered by county and statewide from a Tableau-powered dashboard from the California Department of Public Health."
   ]
  },
  {
   "cell_type": "code",
   "execution_count": 1,
   "metadata": {
    "execution": {
     "iopub.execute_input": "2021-03-23T07:12:32.534664Z",
     "iopub.status.busy": "2021-03-23T07:12:32.533931Z",
     "iopub.status.idle": "2021-03-23T07:12:32.935655Z",
     "shell.execute_reply": "2021-03-23T07:12:32.934867Z"
    }
   },
   "outputs": [],
   "source": [
    "import pandas as pd\n",
    "import requests\n",
    "from bs4 import BeautifulSoup\n",
    "import json\n",
    "import re\n",
    "import time\n",
    "from time import gmtime, strftime \n",
    "import os\n",
    "import pytz\n",
    "from datetime import datetime"
   ]
  },
  {
   "cell_type": "markdown",
   "metadata": {},
   "source": [
    "Scrape the dashboard page"
   ]
  },
  {
   "cell_type": "code",
   "execution_count": 2,
   "metadata": {
    "execution": {
     "iopub.execute_input": "2021-03-23T07:12:32.941999Z",
     "iopub.status.busy": "2021-03-23T07:12:32.941210Z",
     "iopub.status.idle": "2021-03-23T07:12:33.476163Z",
     "shell.execute_reply": "2021-03-23T07:12:33.475628Z"
    }
   },
   "outputs": [],
   "source": [
    "url = \"https://public.tableau.com/interactive/views/COVID-19VaccineDashboardPublic/Vaccine?:embed=y&:showVizHome=n&:apiID=host0\"\n",
    "\n",
    "r = requests.get(url)\n",
    "soup = BeautifulSoup(r.text, \"html.parser\")"
   ]
  },
  {
   "cell_type": "code",
   "execution_count": 3,
   "metadata": {
    "execution": {
     "iopub.execute_input": "2021-03-23T07:12:33.481919Z",
     "iopub.status.busy": "2021-03-23T07:12:33.480674Z",
     "iopub.status.idle": "2021-03-23T07:12:33.482569Z",
     "shell.execute_reply": "2021-03-23T07:12:33.483052Z"
    }
   },
   "outputs": [],
   "source": [
    "tableauData = json.loads(soup.find(\"textarea\",{\"id\": \"tsConfigContainer\"}).text)"
   ]
  },
  {
   "cell_type": "markdown",
   "metadata": {},
   "source": [
    "Get the link to the Tableau data"
   ]
  },
  {
   "cell_type": "code",
   "execution_count": 4,
   "metadata": {
    "execution": {
     "iopub.execute_input": "2021-03-23T07:12:33.487268Z",
     "iopub.status.busy": "2021-03-23T07:12:33.486156Z",
     "iopub.status.idle": "2021-03-23T07:12:33.488168Z",
     "shell.execute_reply": "2021-03-23T07:12:33.488595Z"
    }
   },
   "outputs": [],
   "source": [
    "dataUrl = f'https://public.tableau.com{tableauData[\"vizql_root\"]}/bootstrapSession/sessions/{tableauData[\"sessionid\"]}'"
   ]
  },
  {
   "cell_type": "code",
   "execution_count": 5,
   "metadata": {
    "execution": {
     "iopub.execute_input": "2021-03-23T07:12:33.495479Z",
     "iopub.status.busy": "2021-03-23T07:12:33.494657Z",
     "iopub.status.idle": "2021-03-23T07:12:33.798800Z",
     "shell.execute_reply": "2021-03-23T07:12:33.797994Z"
    }
   },
   "outputs": [],
   "source": [
    "r = requests.post(dataUrl, data= {\n",
    "    \"sheet_id\": tableauData[\"sheetId\"],\n",
    "})\n",
    "\n",
    "dataReg = re.search('\\d+;({.*})\\d+;({.*})', r.text, re.MULTILINE)\n",
    "data1 = json.loads(dataReg.group(2))\n",
    "\n",
    "dataJson = data1[\"secondaryInfo\"][\"presModelMap\"][\"dataDictionary\"][\"presModelHolder\"][\"genDataDictionaryPresModel\"][\"dataSegments\"][\"0\"][\"dataColumns\"]"
   ]
  },
  {
   "cell_type": "markdown",
   "metadata": {},
   "source": [
    "Isolate what you want"
   ]
  },
  {
   "cell_type": "code",
   "execution_count": 6,
   "metadata": {
    "execution": {
     "iopub.execute_input": "2021-03-23T07:12:33.803000Z",
     "iopub.status.busy": "2021-03-23T07:12:33.802528Z",
     "iopub.status.idle": "2021-03-23T07:12:33.805833Z",
     "shell.execute_reply": "2021-03-23T07:12:33.805374Z"
    }
   },
   "outputs": [],
   "source": [
    "counties = dataJson[2]['dataValues'][:58]"
   ]
  },
  {
   "cell_type": "code",
   "execution_count": 7,
   "metadata": {
    "execution": {
     "iopub.execute_input": "2021-03-23T07:12:33.808257Z",
     "iopub.status.busy": "2021-03-23T07:12:33.807787Z",
     "iopub.status.idle": "2021-03-23T07:12:33.811954Z",
     "shell.execute_reply": "2021-03-23T07:12:33.811513Z"
    }
   },
   "outputs": [],
   "source": [
    "doses = dataJson[0]['dataValues'][3:61]"
   ]
  },
  {
   "cell_type": "markdown",
   "metadata": {},
   "source": [
    "Data formatting"
   ]
  },
  {
   "cell_type": "code",
   "execution_count": 8,
   "metadata": {
    "execution": {
     "iopub.execute_input": "2021-03-23T07:12:33.816326Z",
     "iopub.status.busy": "2021-03-23T07:12:33.815044Z",
     "iopub.status.idle": "2021-03-23T07:12:33.816922Z",
     "shell.execute_reply": "2021-03-23T07:12:33.817334Z"
    }
   },
   "outputs": [],
   "source": [
    "zipped = dict(zip(counties, doses))"
   ]
  },
  {
   "cell_type": "code",
   "execution_count": 9,
   "metadata": {
    "execution": {
     "iopub.execute_input": "2021-03-23T07:12:33.823507Z",
     "iopub.status.busy": "2021-03-23T07:12:33.822475Z",
     "iopub.status.idle": "2021-03-23T07:12:33.824149Z",
     "shell.execute_reply": "2021-03-23T07:12:33.824548Z"
    }
   },
   "outputs": [],
   "source": [
    "df = pd.Series(zipped).reset_index()"
   ]
  },
  {
   "cell_type": "code",
   "execution_count": 10,
   "metadata": {
    "execution": {
     "iopub.execute_input": "2021-03-23T07:12:33.828550Z",
     "iopub.status.busy": "2021-03-23T07:12:33.827510Z",
     "iopub.status.idle": "2021-03-23T07:12:33.829058Z",
     "shell.execute_reply": "2021-03-23T07:12:33.829407Z"
    }
   },
   "outputs": [],
   "source": [
    "df.columns = ['location','doses']"
   ]
  },
  {
   "cell_type": "markdown",
   "metadata": {},
   "source": [
    "Grab the overall California total"
   ]
  },
  {
   "cell_type": "code",
   "execution_count": 11,
   "metadata": {
    "execution": {
     "iopub.execute_input": "2021-03-23T07:12:33.833281Z",
     "iopub.status.busy": "2021-03-23T07:12:33.832268Z",
     "iopub.status.idle": "2021-03-23T07:12:33.833789Z",
     "shell.execute_reply": "2021-03-23T07:12:33.834139Z"
    }
   },
   "outputs": [],
   "source": [
    "add = {'location':'California','doses':dataJson[0]['dataValues'][2]}"
   ]
  },
  {
   "cell_type": "code",
   "execution_count": 12,
   "metadata": {
    "execution": {
     "iopub.execute_input": "2021-03-23T07:12:33.840360Z",
     "iopub.status.busy": "2021-03-23T07:12:33.839459Z",
     "iopub.status.idle": "2021-03-23T07:12:33.841342Z",
     "shell.execute_reply": "2021-03-23T07:12:33.841758Z"
    }
   },
   "outputs": [],
   "source": [
    "df = df.append(add, ignore_index=True)"
   ]
  },
  {
   "cell_type": "code",
   "execution_count": 13,
   "metadata": {
    "execution": {
     "iopub.execute_input": "2021-03-23T07:12:33.846751Z",
     "iopub.status.busy": "2021-03-23T07:12:33.845587Z",
     "iopub.status.idle": "2021-03-23T07:12:33.847441Z",
     "shell.execute_reply": "2021-03-23T07:12:33.847868Z"
    }
   },
   "outputs": [],
   "source": [
    "df = df.sort_values(by='location')"
   ]
  },
  {
   "cell_type": "code",
   "execution_count": 14,
   "metadata": {
    "execution": {
     "iopub.execute_input": "2021-03-23T07:12:33.854035Z",
     "iopub.status.busy": "2021-03-23T07:12:33.852797Z",
     "iopub.status.idle": "2021-03-23T07:12:33.854650Z",
     "shell.execute_reply": "2021-03-23T07:12:33.855075Z"
    }
   },
   "outputs": [],
   "source": [
    "df = df[df.location == 'California'].append(df[df.location != 'California']).reset_index(drop=True)"
   ]
  },
  {
   "cell_type": "code",
   "execution_count": null,
   "metadata": {},
   "outputs": [],
   "source": []
  },
  {
   "cell_type": "code",
   "execution_count": 15,
   "metadata": {
    "execution": {
     "iopub.execute_input": "2021-03-23T07:12:33.858193Z",
     "iopub.status.busy": "2021-03-23T07:12:33.857678Z",
     "iopub.status.idle": "2021-03-23T07:12:33.874406Z",
     "shell.execute_reply": "2021-03-23T07:12:33.873966Z"
    }
   },
   "outputs": [],
   "source": [
    "tz = pytz.timezone(\"America/New_York\")"
   ]
  },
  {
   "cell_type": "code",
   "execution_count": 16,
   "metadata": {
    "execution": {
     "iopub.execute_input": "2021-03-23T07:12:33.877850Z",
     "iopub.status.busy": "2021-03-23T07:12:33.877099Z",
     "iopub.status.idle": "2021-03-23T07:12:33.880002Z",
     "shell.execute_reply": "2021-03-23T07:12:33.879230Z"
    }
   },
   "outputs": [],
   "source": [
    "today = datetime.now(tz).date()"
   ]
  },
  {
   "cell_type": "code",
   "execution_count": 17,
   "metadata": {
    "execution": {
     "iopub.execute_input": "2021-03-23T07:12:33.885565Z",
     "iopub.status.busy": "2021-03-23T07:12:33.884719Z",
     "iopub.status.idle": "2021-03-23T07:12:33.886129Z",
     "shell.execute_reply": "2021-03-23T07:12:33.886494Z"
    }
   },
   "outputs": [],
   "source": [
    "data_dir = os.path.join(os.path.abspath(\"\"), \"data\")"
   ]
  },
  {
   "cell_type": "code",
   "execution_count": 18,
   "metadata": {
    "execution": {
     "iopub.execute_input": "2021-03-23T07:12:33.890262Z",
     "iopub.status.busy": "2021-03-23T07:12:33.889523Z",
     "iopub.status.idle": "2021-03-23T07:12:33.894143Z",
     "shell.execute_reply": "2021-03-23T07:12:33.893516Z"
    }
   },
   "outputs": [],
   "source": [
    "df.to_csv(os.path.join(data_dir, f\"{today}.csv\"), index=False)"
   ]
  },
  {
   "cell_type": "code",
   "execution_count": null,
   "metadata": {},
   "outputs": [],
   "source": []
  }
 ],
 "metadata": {
  "kernelspec": {
   "display_name": "Python 3",
   "language": "python",
   "name": "python3"
  },
  "language_info": {
   "codemirror_mode": {
    "name": "ipython",
    "version": 3
   },
   "file_extension": ".py",
   "mimetype": "text/x-python",
   "name": "python",
   "nbconvert_exporter": "python",
   "pygments_lexer": "ipython3",
   "version": "3.8.8"
  }
 },
 "nbformat": 4,
 "nbformat_minor": 4
}
