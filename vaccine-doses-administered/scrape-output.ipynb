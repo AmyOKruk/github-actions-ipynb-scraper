{
 "cells": [
  {
   "cell_type": "markdown",
   "metadata": {},
   "source": [
    "# California COVID vaccinations scrape"
   ]
  },
  {
   "cell_type": "markdown",
   "metadata": {},
   "source": [
    "By [Amy O'Kruk](https://twitter.com/amyokruk)"
   ]
  },
  {
   "cell_type": "markdown",
   "metadata": {},
   "source": [
    "Downloads data on vaccine doses administered by county and statewide from a Tableau-powered dashboard from the California Department of Public Health."
   ]
  },
  {
   "cell_type": "code",
   "execution_count": 1,
   "metadata": {
    "execution": {
     "iopub.execute_input": "2021-03-13T14:40:06.656138Z",
     "iopub.status.busy": "2021-03-13T14:40:06.655405Z",
     "iopub.status.idle": "2021-03-13T14:40:07.013497Z",
     "shell.execute_reply": "2021-03-13T14:40:07.013967Z"
    }
   },
   "outputs": [],
   "source": [
    "import pandas as pd\n",
    "import requests\n",
    "from bs4 import BeautifulSoup\n",
    "import json\n",
    "import re\n",
    "import time\n",
    "from time import gmtime, strftime \n",
    "import os\n",
    "import pytz\n",
    "from datetime import datetime"
   ]
  },
  {
   "cell_type": "markdown",
   "metadata": {},
   "source": [
    "Scrape the dashboard page"
   ]
  },
  {
   "cell_type": "code",
   "execution_count": 2,
   "metadata": {
    "execution": {
     "iopub.execute_input": "2021-03-13T14:40:07.019568Z",
     "iopub.status.busy": "2021-03-13T14:40:07.017555Z",
     "iopub.status.idle": "2021-03-13T14:40:07.352881Z",
     "shell.execute_reply": "2021-03-13T14:40:07.352241Z"
    }
   },
   "outputs": [],
   "source": [
    "url = \"https://public.tableau.com/interactive/views/COVID-19VaccineDashboardPublic/Vaccine?:embed=y&:showVizHome=n&:apiID=host0\"\n",
    "\n",
    "r = requests.get(url)\n",
    "soup = BeautifulSoup(r.text, \"html.parser\")"
   ]
  },
  {
   "cell_type": "code",
   "execution_count": 3,
   "metadata": {
    "execution": {
     "iopub.execute_input": "2021-03-13T14:40:07.358005Z",
     "iopub.status.busy": "2021-03-13T14:40:07.357389Z",
     "iopub.status.idle": "2021-03-13T14:40:07.360843Z",
     "shell.execute_reply": "2021-03-13T14:40:07.361338Z"
    }
   },
   "outputs": [],
   "source": [
    "tableauData = json.loads(soup.find(\"textarea\",{\"id\": \"tsConfigContainer\"}).text)"
   ]
  },
  {
   "cell_type": "markdown",
   "metadata": {},
   "source": [
    "Get the link to the Tableau data"
   ]
  },
  {
   "cell_type": "code",
   "execution_count": 4,
   "metadata": {
    "execution": {
     "iopub.execute_input": "2021-03-13T14:40:07.366366Z",
     "iopub.status.busy": "2021-03-13T14:40:07.364827Z",
     "iopub.status.idle": "2021-03-13T14:40:07.367070Z",
     "shell.execute_reply": "2021-03-13T14:40:07.367725Z"
    }
   },
   "outputs": [],
   "source": [
    "dataUrl = f'https://public.tableau.com{tableauData[\"vizql_root\"]}/bootstrapSession/sessions/{tableauData[\"sessionid\"]}'"
   ]
  },
  {
   "cell_type": "code",
   "execution_count": 5,
   "metadata": {
    "execution": {
     "iopub.execute_input": "2021-03-13T14:40:07.374217Z",
     "iopub.status.busy": "2021-03-13T14:40:07.373478Z",
     "iopub.status.idle": "2021-03-13T14:40:07.858680Z",
     "shell.execute_reply": "2021-03-13T14:40:07.859252Z"
    }
   },
   "outputs": [],
   "source": [
    "r = requests.post(dataUrl, data= {\n",
    "    \"sheet_id\": tableauData[\"sheetId\"],\n",
    "})\n",
    "\n",
    "dataReg = re.search('\\d+;({.*})\\d+;({.*})', r.text, re.MULTILINE)\n",
    "data1 = json.loads(dataReg.group(2))\n",
    "\n",
    "dataJson = data1[\"secondaryInfo\"][\"presModelMap\"][\"dataDictionary\"][\"presModelHolder\"][\"genDataDictionaryPresModel\"][\"dataSegments\"][\"0\"][\"dataColumns\"]"
   ]
  },
  {
   "cell_type": "markdown",
   "metadata": {},
   "source": [
    "Isolate what you want"
   ]
  },
  {
   "cell_type": "code",
   "execution_count": 6,
   "metadata": {
    "execution": {
     "iopub.execute_input": "2021-03-13T14:40:07.865244Z",
     "iopub.status.busy": "2021-03-13T14:40:07.863446Z",
     "iopub.status.idle": "2021-03-13T14:40:07.866031Z",
     "shell.execute_reply": "2021-03-13T14:40:07.866687Z"
    }
   },
   "outputs": [],
   "source": [
    "counties = dataJson[2]['dataValues'][:58]"
   ]
  },
  {
   "cell_type": "code",
   "execution_count": 7,
   "metadata": {
    "execution": {
     "iopub.execute_input": "2021-03-13T14:40:07.872756Z",
     "iopub.status.busy": "2021-03-13T14:40:07.871009Z",
     "iopub.status.idle": "2021-03-13T14:40:07.873488Z",
     "shell.execute_reply": "2021-03-13T14:40:07.874053Z"
    }
   },
   "outputs": [],
   "source": [
    "doses = dataJson[0]['dataValues'][3:61]"
   ]
  },
  {
   "cell_type": "markdown",
   "metadata": {},
   "source": [
    "Data formatting"
   ]
  },
  {
   "cell_type": "code",
   "execution_count": 8,
   "metadata": {
    "execution": {
     "iopub.execute_input": "2021-03-13T14:40:07.879253Z",
     "iopub.status.busy": "2021-03-13T14:40:07.877651Z",
     "iopub.status.idle": "2021-03-13T14:40:07.880193Z",
     "shell.execute_reply": "2021-03-13T14:40:07.880999Z"
    }
   },
   "outputs": [],
   "source": [
    "zipped = dict(zip(counties, doses))"
   ]
  },
  {
   "cell_type": "code",
   "execution_count": 9,
   "metadata": {
    "execution": {
     "iopub.execute_input": "2021-03-13T14:40:07.889911Z",
     "iopub.status.busy": "2021-03-13T14:40:07.888288Z",
     "iopub.status.idle": "2021-03-13T14:40:07.890665Z",
     "shell.execute_reply": "2021-03-13T14:40:07.891210Z"
    }
   },
   "outputs": [],
   "source": [
    "df = pd.Series(zipped).reset_index()"
   ]
  },
  {
   "cell_type": "code",
   "execution_count": 10,
   "metadata": {
    "execution": {
     "iopub.execute_input": "2021-03-13T14:40:07.896265Z",
     "iopub.status.busy": "2021-03-13T14:40:07.894842Z",
     "iopub.status.idle": "2021-03-13T14:40:07.896953Z",
     "shell.execute_reply": "2021-03-13T14:40:07.897482Z"
    }
   },
   "outputs": [],
   "source": [
    "df.columns = ['location','doses']"
   ]
  },
  {
   "cell_type": "markdown",
   "metadata": {},
   "source": [
    "Grab the overall California total"
   ]
  },
  {
   "cell_type": "code",
   "execution_count": 11,
   "metadata": {
    "execution": {
     "iopub.execute_input": "2021-03-13T14:40:07.902675Z",
     "iopub.status.busy": "2021-03-13T14:40:07.901244Z",
     "iopub.status.idle": "2021-03-13T14:40:07.903352Z",
     "shell.execute_reply": "2021-03-13T14:40:07.903868Z"
    }
   },
   "outputs": [],
   "source": [
    "add = {'location':'California','doses':dataJson[0]['dataValues'][2]}"
   ]
  },
  {
   "cell_type": "code",
   "execution_count": 12,
   "metadata": {
    "execution": {
     "iopub.execute_input": "2021-03-13T14:40:07.911743Z",
     "iopub.status.busy": "2021-03-13T14:40:07.910300Z",
     "iopub.status.idle": "2021-03-13T14:40:07.912402Z",
     "shell.execute_reply": "2021-03-13T14:40:07.912909Z"
    }
   },
   "outputs": [],
   "source": [
    "df = df.append(add, ignore_index=True)"
   ]
  },
  {
   "cell_type": "code",
   "execution_count": 13,
   "metadata": {
    "execution": {
     "iopub.execute_input": "2021-03-13T14:40:07.918479Z",
     "iopub.status.busy": "2021-03-13T14:40:07.917056Z",
     "iopub.status.idle": "2021-03-13T14:40:07.919145Z",
     "shell.execute_reply": "2021-03-13T14:40:07.919650Z"
    }
   },
   "outputs": [],
   "source": [
    "df = df.sort_values(by='location')"
   ]
  },
  {
   "cell_type": "code",
   "execution_count": 14,
   "metadata": {
    "execution": {
     "iopub.execute_input": "2021-03-13T14:40:07.926531Z",
     "iopub.status.busy": "2021-03-13T14:40:07.925130Z",
     "iopub.status.idle": "2021-03-13T14:40:07.927183Z",
     "shell.execute_reply": "2021-03-13T14:40:07.927680Z"
    }
   },
   "outputs": [],
   "source": [
    "df = df[df.location == 'California'].append(df[df.location != 'California']).reset_index(drop=True)"
   ]
  },
  {
   "cell_type": "code",
   "execution_count": null,
   "metadata": {},
   "outputs": [],
   "source": []
  },
  {
   "cell_type": "code",
   "execution_count": 15,
   "metadata": {
    "execution": {
     "iopub.execute_input": "2021-03-13T14:40:07.931410Z",
     "iopub.status.busy": "2021-03-13T14:40:07.930802Z",
     "iopub.status.idle": "2021-03-13T14:40:07.950275Z",
     "shell.execute_reply": "2021-03-13T14:40:07.949735Z"
    }
   },
   "outputs": [],
   "source": [
    "tz = pytz.timezone(\"America/New_York\")"
   ]
  },
  {
   "cell_type": "code",
   "execution_count": 16,
   "metadata": {
    "execution": {
     "iopub.execute_input": "2021-03-13T14:40:07.954698Z",
     "iopub.status.busy": "2021-03-13T14:40:07.953320Z",
     "iopub.status.idle": "2021-03-13T14:40:07.955333Z",
     "shell.execute_reply": "2021-03-13T14:40:07.955822Z"
    }
   },
   "outputs": [],
   "source": [
    "today = datetime.now(tz).date()"
   ]
  },
  {
   "cell_type": "code",
   "execution_count": 17,
   "metadata": {
    "execution": {
     "iopub.execute_input": "2021-03-13T14:40:07.960371Z",
     "iopub.status.busy": "2021-03-13T14:40:07.959024Z",
     "iopub.status.idle": "2021-03-13T14:40:07.960993Z",
     "shell.execute_reply": "2021-03-13T14:40:07.961590Z"
    }
   },
   "outputs": [],
   "source": [
    "data_dir = os.path.join(os.path.abspath(\"\"), \"data\")"
   ]
  },
  {
   "cell_type": "code",
   "execution_count": 18,
   "metadata": {
    "execution": {
     "iopub.execute_input": "2021-03-13T14:40:07.965564Z",
     "iopub.status.busy": "2021-03-13T14:40:07.964833Z",
     "iopub.status.idle": "2021-03-13T14:40:07.969136Z",
     "shell.execute_reply": "2021-03-13T14:40:07.969589Z"
    }
   },
   "outputs": [],
   "source": [
    "df.to_csv(os.path.join(data_dir, f\"{today}.csv\"), index=False)"
   ]
  },
  {
   "cell_type": "code",
   "execution_count": null,
   "metadata": {},
   "outputs": [],
   "source": []
  }
 ],
 "metadata": {
  "kernelspec": {
   "display_name": "Python 3",
   "language": "python",
   "name": "python3"
  },
  "language_info": {
   "codemirror_mode": {
    "name": "ipython",
    "version": 3
   },
   "file_extension": ".py",
   "mimetype": "text/x-python",
   "name": "python",
   "nbconvert_exporter": "python",
   "pygments_lexer": "ipython3",
   "version": "3.8.8"
  }
 },
 "nbformat": 4,
 "nbformat_minor": 4
}
