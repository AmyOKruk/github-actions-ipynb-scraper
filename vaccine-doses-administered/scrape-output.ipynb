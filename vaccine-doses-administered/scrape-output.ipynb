{
 "cells": [
  {
   "cell_type": "markdown",
   "metadata": {},
   "source": [
    "# California COVID vaccinations scrape"
   ]
  },
  {
   "cell_type": "markdown",
   "metadata": {},
   "source": [
    "By [Amy O'Kruk](https://twitter.com/amyokruk)"
   ]
  },
  {
   "cell_type": "markdown",
   "metadata": {},
   "source": [
    "Downloads data on vaccine doses administered by county and statewide from a Tableau-powered dashboard from the California Department of Public Health."
   ]
  },
  {
   "cell_type": "code",
   "execution_count": 1,
   "metadata": {
    "execution": {
     "iopub.execute_input": "2021-03-19T11:12:19.109431Z",
     "iopub.status.busy": "2021-03-19T11:12:19.108882Z",
     "iopub.status.idle": "2021-03-19T11:12:19.500342Z",
     "shell.execute_reply": "2021-03-19T11:12:19.499791Z"
    }
   },
   "outputs": [],
   "source": [
    "import pandas as pd\n",
    "import requests\n",
    "from bs4 import BeautifulSoup\n",
    "import json\n",
    "import re\n",
    "import time\n",
    "from time import gmtime, strftime \n",
    "import os\n",
    "import pytz\n",
    "from datetime import datetime"
   ]
  },
  {
   "cell_type": "markdown",
   "metadata": {},
   "source": [
    "Scrape the dashboard page"
   ]
  },
  {
   "cell_type": "code",
   "execution_count": 2,
   "metadata": {
    "execution": {
     "iopub.execute_input": "2021-03-19T11:12:19.504971Z",
     "iopub.status.busy": "2021-03-19T11:12:19.504458Z",
     "iopub.status.idle": "2021-03-19T11:12:19.827757Z",
     "shell.execute_reply": "2021-03-19T11:12:19.826821Z"
    }
   },
   "outputs": [],
   "source": [
    "url = \"https://public.tableau.com/interactive/views/COVID-19VaccineDashboardPublic/Vaccine?:embed=y&:showVizHome=n&:apiID=host0\"\n",
    "\n",
    "r = requests.get(url)\n",
    "soup = BeautifulSoup(r.text, \"html.parser\")"
   ]
  },
  {
   "cell_type": "code",
   "execution_count": 3,
   "metadata": {
    "execution": {
     "iopub.execute_input": "2021-03-19T11:12:19.832042Z",
     "iopub.status.busy": "2021-03-19T11:12:19.831665Z",
     "iopub.status.idle": "2021-03-19T11:12:19.833906Z",
     "shell.execute_reply": "2021-03-19T11:12:19.833098Z"
    }
   },
   "outputs": [],
   "source": [
    "tableauData = json.loads(soup.find(\"textarea\",{\"id\": \"tsConfigContainer\"}).text)"
   ]
  },
  {
   "cell_type": "markdown",
   "metadata": {},
   "source": [
    "Get the link to the Tableau data"
   ]
  },
  {
   "cell_type": "code",
   "execution_count": 4,
   "metadata": {
    "execution": {
     "iopub.execute_input": "2021-03-19T11:12:19.837705Z",
     "iopub.status.busy": "2021-03-19T11:12:19.837108Z",
     "iopub.status.idle": "2021-03-19T11:12:19.839673Z",
     "shell.execute_reply": "2021-03-19T11:12:19.839198Z"
    }
   },
   "outputs": [],
   "source": [
    "dataUrl = f'https://public.tableau.com{tableauData[\"vizql_root\"]}/bootstrapSession/sessions/{tableauData[\"sessionid\"]}'"
   ]
  },
  {
   "cell_type": "code",
   "execution_count": 5,
   "metadata": {
    "execution": {
     "iopub.execute_input": "2021-03-19T11:12:19.845756Z",
     "iopub.status.busy": "2021-03-19T11:12:19.845211Z",
     "iopub.status.idle": "2021-03-19T11:12:20.279345Z",
     "shell.execute_reply": "2021-03-19T11:12:20.278883Z"
    }
   },
   "outputs": [],
   "source": [
    "r = requests.post(dataUrl, data= {\n",
    "    \"sheet_id\": tableauData[\"sheetId\"],\n",
    "})\n",
    "\n",
    "dataReg = re.search('\\d+;({.*})\\d+;({.*})', r.text, re.MULTILINE)\n",
    "data1 = json.loads(dataReg.group(2))\n",
    "\n",
    "dataJson = data1[\"secondaryInfo\"][\"presModelMap\"][\"dataDictionary\"][\"presModelHolder\"][\"genDataDictionaryPresModel\"][\"dataSegments\"][\"0\"][\"dataColumns\"]"
   ]
  },
  {
   "cell_type": "markdown",
   "metadata": {},
   "source": [
    "Isolate what you want"
   ]
  },
  {
   "cell_type": "code",
   "execution_count": 6,
   "metadata": {
    "execution": {
     "iopub.execute_input": "2021-03-19T11:12:20.283250Z",
     "iopub.status.busy": "2021-03-19T11:12:20.282728Z",
     "iopub.status.idle": "2021-03-19T11:12:20.286374Z",
     "shell.execute_reply": "2021-03-19T11:12:20.285624Z"
    }
   },
   "outputs": [],
   "source": [
    "counties = dataJson[2]['dataValues'][:58]"
   ]
  },
  {
   "cell_type": "code",
   "execution_count": 7,
   "metadata": {
    "execution": {
     "iopub.execute_input": "2021-03-19T11:12:20.289922Z",
     "iopub.status.busy": "2021-03-19T11:12:20.289392Z",
     "iopub.status.idle": "2021-03-19T11:12:20.291226Z",
     "shell.execute_reply": "2021-03-19T11:12:20.291597Z"
    }
   },
   "outputs": [],
   "source": [
    "doses = dataJson[0]['dataValues'][3:61]"
   ]
  },
  {
   "cell_type": "markdown",
   "metadata": {},
   "source": [
    "Data formatting"
   ]
  },
  {
   "cell_type": "code",
   "execution_count": 8,
   "metadata": {
    "execution": {
     "iopub.execute_input": "2021-03-19T11:12:20.295945Z",
     "iopub.status.busy": "2021-03-19T11:12:20.294868Z",
     "iopub.status.idle": "2021-03-19T11:12:20.296534Z",
     "shell.execute_reply": "2021-03-19T11:12:20.296960Z"
    }
   },
   "outputs": [],
   "source": [
    "zipped = dict(zip(counties, doses))"
   ]
  },
  {
   "cell_type": "code",
   "execution_count": 9,
   "metadata": {
    "execution": {
     "iopub.execute_input": "2021-03-19T11:12:20.302400Z",
     "iopub.status.busy": "2021-03-19T11:12:20.301915Z",
     "iopub.status.idle": "2021-03-19T11:12:20.306749Z",
     "shell.execute_reply": "2021-03-19T11:12:20.306338Z"
    }
   },
   "outputs": [],
   "source": [
    "df = pd.Series(zipped).reset_index()"
   ]
  },
  {
   "cell_type": "code",
   "execution_count": 10,
   "metadata": {
    "execution": {
     "iopub.execute_input": "2021-03-19T11:12:20.310920Z",
     "iopub.status.busy": "2021-03-19T11:12:20.309879Z",
     "iopub.status.idle": "2021-03-19T11:12:20.311474Z",
     "shell.execute_reply": "2021-03-19T11:12:20.311869Z"
    }
   },
   "outputs": [],
   "source": [
    "df.columns = ['location','doses']"
   ]
  },
  {
   "cell_type": "markdown",
   "metadata": {},
   "source": [
    "Grab the overall California total"
   ]
  },
  {
   "cell_type": "code",
   "execution_count": 11,
   "metadata": {
    "execution": {
     "iopub.execute_input": "2021-03-19T11:12:20.316660Z",
     "iopub.status.busy": "2021-03-19T11:12:20.315599Z",
     "iopub.status.idle": "2021-03-19T11:12:20.317210Z",
     "shell.execute_reply": "2021-03-19T11:12:20.317626Z"
    }
   },
   "outputs": [],
   "source": [
    "add = {'location':'California','doses':dataJson[0]['dataValues'][2]}"
   ]
  },
  {
   "cell_type": "code",
   "execution_count": 12,
   "metadata": {
    "execution": {
     "iopub.execute_input": "2021-03-19T11:12:20.324664Z",
     "iopub.status.busy": "2021-03-19T11:12:20.323570Z",
     "iopub.status.idle": "2021-03-19T11:12:20.325280Z",
     "shell.execute_reply": "2021-03-19T11:12:20.325701Z"
    }
   },
   "outputs": [],
   "source": [
    "df = df.append(add, ignore_index=True)"
   ]
  },
  {
   "cell_type": "code",
   "execution_count": 13,
   "metadata": {
    "execution": {
     "iopub.execute_input": "2021-03-19T11:12:20.330104Z",
     "iopub.status.busy": "2021-03-19T11:12:20.329005Z",
     "iopub.status.idle": "2021-03-19T11:12:20.330662Z",
     "shell.execute_reply": "2021-03-19T11:12:20.331056Z"
    }
   },
   "outputs": [],
   "source": [
    "df = df.sort_values(by='location')"
   ]
  },
  {
   "cell_type": "code",
   "execution_count": 14,
   "metadata": {
    "execution": {
     "iopub.execute_input": "2021-03-19T11:12:20.337974Z",
     "iopub.status.busy": "2021-03-19T11:12:20.336259Z",
     "iopub.status.idle": "2021-03-19T11:12:20.338541Z",
     "shell.execute_reply": "2021-03-19T11:12:20.338931Z"
    }
   },
   "outputs": [],
   "source": [
    "df = df[df.location == 'California'].append(df[df.location != 'California']).reset_index(drop=True)"
   ]
  },
  {
   "cell_type": "code",
   "execution_count": null,
   "metadata": {},
   "outputs": [],
   "source": []
  },
  {
   "cell_type": "code",
   "execution_count": 15,
   "metadata": {
    "execution": {
     "iopub.execute_input": "2021-03-19T11:12:20.342181Z",
     "iopub.status.busy": "2021-03-19T11:12:20.341717Z",
     "iopub.status.idle": "2021-03-19T11:12:20.359617Z",
     "shell.execute_reply": "2021-03-19T11:12:20.359116Z"
    }
   },
   "outputs": [],
   "source": [
    "tz = pytz.timezone(\"America/New_York\")"
   ]
  },
  {
   "cell_type": "code",
   "execution_count": 16,
   "metadata": {
    "execution": {
     "iopub.execute_input": "2021-03-19T11:12:20.363323Z",
     "iopub.status.busy": "2021-03-19T11:12:20.362367Z",
     "iopub.status.idle": "2021-03-19T11:12:20.363852Z",
     "shell.execute_reply": "2021-03-19T11:12:20.364249Z"
    }
   },
   "outputs": [],
   "source": [
    "today = datetime.now(tz).date()"
   ]
  },
  {
   "cell_type": "code",
   "execution_count": 17,
   "metadata": {
    "execution": {
     "iopub.execute_input": "2021-03-19T11:12:20.368567Z",
     "iopub.status.busy": "2021-03-19T11:12:20.367410Z",
     "iopub.status.idle": "2021-03-19T11:12:20.369179Z",
     "shell.execute_reply": "2021-03-19T11:12:20.369609Z"
    }
   },
   "outputs": [],
   "source": [
    "data_dir = os.path.join(os.path.abspath(\"\"), \"data\")"
   ]
  },
  {
   "cell_type": "code",
   "execution_count": 18,
   "metadata": {
    "execution": {
     "iopub.execute_input": "2021-03-19T11:12:20.373635Z",
     "iopub.status.busy": "2021-03-19T11:12:20.372539Z",
     "iopub.status.idle": "2021-03-19T11:12:20.377024Z",
     "shell.execute_reply": "2021-03-19T11:12:20.376557Z"
    }
   },
   "outputs": [],
   "source": [
    "df.to_csv(os.path.join(data_dir, f\"{today}.csv\"), index=False)"
   ]
  },
  {
   "cell_type": "code",
   "execution_count": null,
   "metadata": {},
   "outputs": [],
   "source": []
  }
 ],
 "metadata": {
  "kernelspec": {
   "display_name": "Python 3",
   "language": "python",
   "name": "python3"
  },
  "language_info": {
   "codemirror_mode": {
    "name": "ipython",
    "version": 3
   },
   "file_extension": ".py",
   "mimetype": "text/x-python",
   "name": "python",
   "nbconvert_exporter": "python",
   "pygments_lexer": "ipython3",
   "version": "3.8.8"
  }
 },
 "nbformat": 4,
 "nbformat_minor": 4
}
