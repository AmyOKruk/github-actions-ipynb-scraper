{
 "cells": [
  {
   "cell_type": "markdown",
   "metadata": {},
   "source": [
    "# California COVID vaccinations scrape"
   ]
  },
  {
   "cell_type": "markdown",
   "metadata": {},
   "source": [
    "By [Amy O'Kruk](https://twitter.com/amyokruk)"
   ]
  },
  {
   "cell_type": "markdown",
   "metadata": {},
   "source": [
    "Downloads data on vaccine doses administered by county and statewide from a Tableau-powered dashboard from the California Department of Public Health."
   ]
  },
  {
   "cell_type": "code",
   "execution_count": 1,
   "metadata": {
    "execution": {
     "iopub.execute_input": "2021-03-14T20:13:03.691418Z",
     "iopub.status.busy": "2021-03-14T20:13:03.690783Z",
     "iopub.status.idle": "2021-03-14T20:13:04.080871Z",
     "shell.execute_reply": "2021-03-14T20:13:04.080070Z"
    }
   },
   "outputs": [],
   "source": [
    "import pandas as pd\n",
    "import requests\n",
    "from bs4 import BeautifulSoup\n",
    "import json\n",
    "import re\n",
    "import time\n",
    "from time import gmtime, strftime \n",
    "import os\n",
    "import pytz\n",
    "from datetime import datetime"
   ]
  },
  {
   "cell_type": "markdown",
   "metadata": {},
   "source": [
    "Scrape the dashboard page"
   ]
  },
  {
   "cell_type": "code",
   "execution_count": 2,
   "metadata": {
    "execution": {
     "iopub.execute_input": "2021-03-14T20:13:04.086944Z",
     "iopub.status.busy": "2021-03-14T20:13:04.084464Z",
     "iopub.status.idle": "2021-03-14T20:13:04.475224Z",
     "shell.execute_reply": "2021-03-14T20:13:04.474741Z"
    }
   },
   "outputs": [],
   "source": [
    "url = \"https://public.tableau.com/interactive/views/COVID-19VaccineDashboardPublic/Vaccine?:embed=y&:showVizHome=n&:apiID=host0\"\n",
    "\n",
    "r = requests.get(url)\n",
    "soup = BeautifulSoup(r.text, \"html.parser\")"
   ]
  },
  {
   "cell_type": "code",
   "execution_count": 3,
   "metadata": {
    "execution": {
     "iopub.execute_input": "2021-03-14T20:13:04.479740Z",
     "iopub.status.busy": "2021-03-14T20:13:04.479189Z",
     "iopub.status.idle": "2021-03-14T20:13:04.482614Z",
     "shell.execute_reply": "2021-03-14T20:13:04.482161Z"
    }
   },
   "outputs": [],
   "source": [
    "tableauData = json.loads(soup.find(\"textarea\",{\"id\": \"tsConfigContainer\"}).text)"
   ]
  },
  {
   "cell_type": "markdown",
   "metadata": {},
   "source": [
    "Get the link to the Tableau data"
   ]
  },
  {
   "cell_type": "code",
   "execution_count": 4,
   "metadata": {
    "execution": {
     "iopub.execute_input": "2021-03-14T20:13:04.486696Z",
     "iopub.status.busy": "2021-03-14T20:13:04.485540Z",
     "iopub.status.idle": "2021-03-14T20:13:04.487378Z",
     "shell.execute_reply": "2021-03-14T20:13:04.487813Z"
    }
   },
   "outputs": [],
   "source": [
    "dataUrl = f'https://public.tableau.com{tableauData[\"vizql_root\"]}/bootstrapSession/sessions/{tableauData[\"sessionid\"]}'"
   ]
  },
  {
   "cell_type": "code",
   "execution_count": 5,
   "metadata": {
    "execution": {
     "iopub.execute_input": "2021-03-14T20:13:04.494184Z",
     "iopub.status.busy": "2021-03-14T20:13:04.493664Z",
     "iopub.status.idle": "2021-03-14T20:13:05.319962Z",
     "shell.execute_reply": "2021-03-14T20:13:05.319466Z"
    }
   },
   "outputs": [],
   "source": [
    "r = requests.post(dataUrl, data= {\n",
    "    \"sheet_id\": tableauData[\"sheetId\"],\n",
    "})\n",
    "\n",
    "dataReg = re.search('\\d+;({.*})\\d+;({.*})', r.text, re.MULTILINE)\n",
    "data1 = json.loads(dataReg.group(2))\n",
    "\n",
    "dataJson = data1[\"secondaryInfo\"][\"presModelMap\"][\"dataDictionary\"][\"presModelHolder\"][\"genDataDictionaryPresModel\"][\"dataSegments\"][\"0\"][\"dataColumns\"]"
   ]
  },
  {
   "cell_type": "markdown",
   "metadata": {},
   "source": [
    "Isolate what you want"
   ]
  },
  {
   "cell_type": "code",
   "execution_count": 6,
   "metadata": {
    "execution": {
     "iopub.execute_input": "2021-03-14T20:13:05.324586Z",
     "iopub.status.busy": "2021-03-14T20:13:05.323274Z",
     "iopub.status.idle": "2021-03-14T20:13:05.325221Z",
     "shell.execute_reply": "2021-03-14T20:13:05.325658Z"
    }
   },
   "outputs": [],
   "source": [
    "counties = dataJson[2]['dataValues'][:58]"
   ]
  },
  {
   "cell_type": "code",
   "execution_count": 7,
   "metadata": {
    "execution": {
     "iopub.execute_input": "2021-03-14T20:13:05.329928Z",
     "iopub.status.busy": "2021-03-14T20:13:05.328700Z",
     "iopub.status.idle": "2021-03-14T20:13:05.330523Z",
     "shell.execute_reply": "2021-03-14T20:13:05.330952Z"
    }
   },
   "outputs": [],
   "source": [
    "doses = dataJson[0]['dataValues'][3:61]"
   ]
  },
  {
   "cell_type": "markdown",
   "metadata": {},
   "source": [
    "Data formatting"
   ]
  },
  {
   "cell_type": "code",
   "execution_count": 8,
   "metadata": {
    "execution": {
     "iopub.execute_input": "2021-03-14T20:13:05.335425Z",
     "iopub.status.busy": "2021-03-14T20:13:05.334216Z",
     "iopub.status.idle": "2021-03-14T20:13:05.336007Z",
     "shell.execute_reply": "2021-03-14T20:13:05.336428Z"
    }
   },
   "outputs": [],
   "source": [
    "zipped = dict(zip(counties, doses))"
   ]
  },
  {
   "cell_type": "code",
   "execution_count": 9,
   "metadata": {
    "execution": {
     "iopub.execute_input": "2021-03-14T20:13:05.342890Z",
     "iopub.status.busy": "2021-03-14T20:13:05.341698Z",
     "iopub.status.idle": "2021-03-14T20:13:05.343567Z",
     "shell.execute_reply": "2021-03-14T20:13:05.343997Z"
    }
   },
   "outputs": [],
   "source": [
    "df = pd.Series(zipped).reset_index()"
   ]
  },
  {
   "cell_type": "code",
   "execution_count": 10,
   "metadata": {
    "execution": {
     "iopub.execute_input": "2021-03-14T20:13:05.348390Z",
     "iopub.status.busy": "2021-03-14T20:13:05.347187Z",
     "iopub.status.idle": "2021-03-14T20:13:05.348985Z",
     "shell.execute_reply": "2021-03-14T20:13:05.349409Z"
    }
   },
   "outputs": [],
   "source": [
    "df.columns = ['location','doses']"
   ]
  },
  {
   "cell_type": "markdown",
   "metadata": {},
   "source": [
    "Grab the overall California total"
   ]
  },
  {
   "cell_type": "code",
   "execution_count": 11,
   "metadata": {
    "execution": {
     "iopub.execute_input": "2021-03-14T20:13:05.353757Z",
     "iopub.status.busy": "2021-03-14T20:13:05.352573Z",
     "iopub.status.idle": "2021-03-14T20:13:05.354360Z",
     "shell.execute_reply": "2021-03-14T20:13:05.354787Z"
    }
   },
   "outputs": [],
   "source": [
    "add = {'location':'California','doses':dataJson[0]['dataValues'][2]}"
   ]
  },
  {
   "cell_type": "code",
   "execution_count": 12,
   "metadata": {
    "execution": {
     "iopub.execute_input": "2021-03-14T20:13:05.361688Z",
     "iopub.status.busy": "2021-03-14T20:13:05.360519Z",
     "iopub.status.idle": "2021-03-14T20:13:05.362348Z",
     "shell.execute_reply": "2021-03-14T20:13:05.362775Z"
    }
   },
   "outputs": [],
   "source": [
    "df = df.append(add, ignore_index=True)"
   ]
  },
  {
   "cell_type": "code",
   "execution_count": 13,
   "metadata": {
    "execution": {
     "iopub.execute_input": "2021-03-14T20:13:05.367724Z",
     "iopub.status.busy": "2021-03-14T20:13:05.366543Z",
     "iopub.status.idle": "2021-03-14T20:13:05.368327Z",
     "shell.execute_reply": "2021-03-14T20:13:05.368753Z"
    }
   },
   "outputs": [],
   "source": [
    "df = df.sort_values(by='location')"
   ]
  },
  {
   "cell_type": "code",
   "execution_count": 14,
   "metadata": {
    "execution": {
     "iopub.execute_input": "2021-03-14T20:13:05.375159Z",
     "iopub.status.busy": "2021-03-14T20:13:05.373945Z",
     "iopub.status.idle": "2021-03-14T20:13:05.375779Z",
     "shell.execute_reply": "2021-03-14T20:13:05.376207Z"
    }
   },
   "outputs": [],
   "source": [
    "df = df[df.location == 'California'].append(df[df.location != 'California']).reset_index(drop=True)"
   ]
  },
  {
   "cell_type": "code",
   "execution_count": null,
   "metadata": {},
   "outputs": [],
   "source": []
  },
  {
   "cell_type": "code",
   "execution_count": 15,
   "metadata": {
    "execution": {
     "iopub.execute_input": "2021-03-14T20:13:05.379499Z",
     "iopub.status.busy": "2021-03-14T20:13:05.378965Z",
     "iopub.status.idle": "2021-03-14T20:13:05.396103Z",
     "shell.execute_reply": "2021-03-14T20:13:05.395609Z"
    }
   },
   "outputs": [],
   "source": [
    "tz = pytz.timezone(\"America/New_York\")"
   ]
  },
  {
   "cell_type": "code",
   "execution_count": 16,
   "metadata": {
    "execution": {
     "iopub.execute_input": "2021-03-14T20:13:05.400229Z",
     "iopub.status.busy": "2021-03-14T20:13:05.399003Z",
     "iopub.status.idle": "2021-03-14T20:13:05.400903Z",
     "shell.execute_reply": "2021-03-14T20:13:05.401336Z"
    }
   },
   "outputs": [],
   "source": [
    "today = datetime.now(tz).date()"
   ]
  },
  {
   "cell_type": "code",
   "execution_count": 17,
   "metadata": {
    "execution": {
     "iopub.execute_input": "2021-03-14T20:13:05.405613Z",
     "iopub.status.busy": "2021-03-14T20:13:05.404407Z",
     "iopub.status.idle": "2021-03-14T20:13:05.406263Z",
     "shell.execute_reply": "2021-03-14T20:13:05.406687Z"
    }
   },
   "outputs": [],
   "source": [
    "data_dir = os.path.join(os.path.abspath(\"\"), \"data\")"
   ]
  },
  {
   "cell_type": "code",
   "execution_count": 18,
   "metadata": {
    "execution": {
     "iopub.execute_input": "2021-03-14T20:13:05.411057Z",
     "iopub.status.busy": "2021-03-14T20:13:05.409833Z",
     "iopub.status.idle": "2021-03-14T20:13:05.414271Z",
     "shell.execute_reply": "2021-03-14T20:13:05.413761Z"
    }
   },
   "outputs": [],
   "source": [
    "df.to_csv(os.path.join(data_dir, f\"{today}.csv\"), index=False)"
   ]
  },
  {
   "cell_type": "code",
   "execution_count": null,
   "metadata": {},
   "outputs": [],
   "source": []
  }
 ],
 "metadata": {
  "kernelspec": {
   "display_name": "Python 3",
   "language": "python",
   "name": "python3"
  },
  "language_info": {
   "codemirror_mode": {
    "name": "ipython",
    "version": 3
   },
   "file_extension": ".py",
   "mimetype": "text/x-python",
   "name": "python",
   "nbconvert_exporter": "python",
   "pygments_lexer": "ipython3",
   "version": "3.8.8"
  }
 },
 "nbformat": 4,
 "nbformat_minor": 4
}
