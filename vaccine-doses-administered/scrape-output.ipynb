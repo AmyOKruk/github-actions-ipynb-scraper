{
 "cells": [
  {
   "cell_type": "markdown",
   "metadata": {},
   "source": [
    "# California COVID vaccinations scrape"
   ]
  },
  {
   "cell_type": "markdown",
   "metadata": {},
   "source": [
    "By [Amy O'Kruk](https://twitter.com/amyokruk)"
   ]
  },
  {
   "cell_type": "markdown",
   "metadata": {},
   "source": [
    "Downloads data on vaccine doses administered by county and statewide from a Tableau-powered dashboard from the California Department of Public Health."
   ]
  },
  {
   "cell_type": "code",
   "execution_count": 1,
   "metadata": {
    "execution": {
     "iopub.execute_input": "2021-03-15T18:46:42.281582Z",
     "iopub.status.busy": "2021-03-15T18:46:42.280925Z",
     "iopub.status.idle": "2021-03-15T18:46:42.867064Z",
     "shell.execute_reply": "2021-03-15T18:46:42.865874Z"
    }
   },
   "outputs": [],
   "source": [
    "import pandas as pd\n",
    "import requests\n",
    "from bs4 import BeautifulSoup\n",
    "import json\n",
    "import re\n",
    "import time\n",
    "from time import gmtime, strftime \n",
    "import os\n",
    "import pytz\n",
    "from datetime import datetime"
   ]
  },
  {
   "cell_type": "markdown",
   "metadata": {},
   "source": [
    "Scrape the dashboard page"
   ]
  },
  {
   "cell_type": "code",
   "execution_count": 2,
   "metadata": {
    "execution": {
     "iopub.execute_input": "2021-03-15T18:46:42.875381Z",
     "iopub.status.busy": "2021-03-15T18:46:42.872208Z",
     "iopub.status.idle": "2021-03-15T18:46:43.210203Z",
     "shell.execute_reply": "2021-03-15T18:46:43.209666Z"
    }
   },
   "outputs": [],
   "source": [
    "url = \"https://public.tableau.com/interactive/views/COVID-19VaccineDashboardPublic/Vaccine?:embed=y&:showVizHome=n&:apiID=host0\"\n",
    "\n",
    "r = requests.get(url)\n",
    "soup = BeautifulSoup(r.text, \"html.parser\")"
   ]
  },
  {
   "cell_type": "code",
   "execution_count": 3,
   "metadata": {
    "execution": {
     "iopub.execute_input": "2021-03-15T18:46:43.216394Z",
     "iopub.status.busy": "2021-03-15T18:46:43.215841Z",
     "iopub.status.idle": "2021-03-15T18:46:43.218978Z",
     "shell.execute_reply": "2021-03-15T18:46:43.219402Z"
    }
   },
   "outputs": [],
   "source": [
    "tableauData = json.loads(soup.find(\"textarea\",{\"id\": \"tsConfigContainer\"}).text)"
   ]
  },
  {
   "cell_type": "markdown",
   "metadata": {},
   "source": [
    "Get the link to the Tableau data"
   ]
  },
  {
   "cell_type": "code",
   "execution_count": 4,
   "metadata": {
    "execution": {
     "iopub.execute_input": "2021-03-15T18:46:43.223074Z",
     "iopub.status.busy": "2021-03-15T18:46:43.222532Z",
     "iopub.status.idle": "2021-03-15T18:46:43.225591Z",
     "shell.execute_reply": "2021-03-15T18:46:43.226006Z"
    }
   },
   "outputs": [],
   "source": [
    "dataUrl = f'https://public.tableau.com{tableauData[\"vizql_root\"]}/bootstrapSession/sessions/{tableauData[\"sessionid\"]}'"
   ]
  },
  {
   "cell_type": "code",
   "execution_count": 5,
   "metadata": {
    "execution": {
     "iopub.execute_input": "2021-03-15T18:46:43.239325Z",
     "iopub.status.busy": "2021-03-15T18:46:43.232177Z",
     "iopub.status.idle": "2021-03-15T18:46:43.467836Z",
     "shell.execute_reply": "2021-03-15T18:46:43.467318Z"
    }
   },
   "outputs": [],
   "source": [
    "r = requests.post(dataUrl, data= {\n",
    "    \"sheet_id\": tableauData[\"sheetId\"],\n",
    "})\n",
    "\n",
    "dataReg = re.search('\\d+;({.*})\\d+;({.*})', r.text, re.MULTILINE)\n",
    "data1 = json.loads(dataReg.group(2))\n",
    "\n",
    "dataJson = data1[\"secondaryInfo\"][\"presModelMap\"][\"dataDictionary\"][\"presModelHolder\"][\"genDataDictionaryPresModel\"][\"dataSegments\"][\"0\"][\"dataColumns\"]"
   ]
  },
  {
   "cell_type": "markdown",
   "metadata": {},
   "source": [
    "Isolate what you want"
   ]
  },
  {
   "cell_type": "code",
   "execution_count": 6,
   "metadata": {
    "execution": {
     "iopub.execute_input": "2021-03-15T18:46:43.471980Z",
     "iopub.status.busy": "2021-03-15T18:46:43.471380Z",
     "iopub.status.idle": "2021-03-15T18:46:43.475111Z",
     "shell.execute_reply": "2021-03-15T18:46:43.474596Z"
    }
   },
   "outputs": [],
   "source": [
    "counties = dataJson[2]['dataValues'][:58]"
   ]
  },
  {
   "cell_type": "code",
   "execution_count": 7,
   "metadata": {
    "execution": {
     "iopub.execute_input": "2021-03-15T18:46:43.479737Z",
     "iopub.status.busy": "2021-03-15T18:46:43.478465Z",
     "iopub.status.idle": "2021-03-15T18:46:43.480339Z",
     "shell.execute_reply": "2021-03-15T18:46:43.480833Z"
    }
   },
   "outputs": [],
   "source": [
    "doses = dataJson[0]['dataValues'][3:61]"
   ]
  },
  {
   "cell_type": "markdown",
   "metadata": {},
   "source": [
    "Data formatting"
   ]
  },
  {
   "cell_type": "code",
   "execution_count": 8,
   "metadata": {
    "execution": {
     "iopub.execute_input": "2021-03-15T18:46:43.485250Z",
     "iopub.status.busy": "2021-03-15T18:46:43.484057Z",
     "iopub.status.idle": "2021-03-15T18:46:43.485920Z",
     "shell.execute_reply": "2021-03-15T18:46:43.486399Z"
    }
   },
   "outputs": [],
   "source": [
    "zipped = dict(zip(counties, doses))"
   ]
  },
  {
   "cell_type": "code",
   "execution_count": 9,
   "metadata": {
    "execution": {
     "iopub.execute_input": "2021-03-15T18:46:43.494631Z",
     "iopub.status.busy": "2021-03-15T18:46:43.493172Z",
     "iopub.status.idle": "2021-03-15T18:46:43.496291Z",
     "shell.execute_reply": "2021-03-15T18:46:43.495505Z"
    }
   },
   "outputs": [],
   "source": [
    "df = pd.Series(zipped).reset_index()"
   ]
  },
  {
   "cell_type": "code",
   "execution_count": 10,
   "metadata": {
    "execution": {
     "iopub.execute_input": "2021-03-15T18:46:43.501294Z",
     "iopub.status.busy": "2021-03-15T18:46:43.499838Z",
     "iopub.status.idle": "2021-03-15T18:46:43.501900Z",
     "shell.execute_reply": "2021-03-15T18:46:43.502340Z"
    }
   },
   "outputs": [],
   "source": [
    "df.columns = ['location','doses']"
   ]
  },
  {
   "cell_type": "markdown",
   "metadata": {},
   "source": [
    "Grab the overall California total"
   ]
  },
  {
   "cell_type": "code",
   "execution_count": 11,
   "metadata": {
    "execution": {
     "iopub.execute_input": "2021-03-15T18:46:43.506873Z",
     "iopub.status.busy": "2021-03-15T18:46:43.505646Z",
     "iopub.status.idle": "2021-03-15T18:46:43.507494Z",
     "shell.execute_reply": "2021-03-15T18:46:43.507935Z"
    }
   },
   "outputs": [],
   "source": [
    "add = {'location':'California','doses':dataJson[0]['dataValues'][2]}"
   ]
  },
  {
   "cell_type": "code",
   "execution_count": 12,
   "metadata": {
    "execution": {
     "iopub.execute_input": "2021-03-15T18:46:43.515407Z",
     "iopub.status.busy": "2021-03-15T18:46:43.514138Z",
     "iopub.status.idle": "2021-03-15T18:46:43.516027Z",
     "shell.execute_reply": "2021-03-15T18:46:43.516473Z"
    }
   },
   "outputs": [],
   "source": [
    "df = df.append(add, ignore_index=True)"
   ]
  },
  {
   "cell_type": "code",
   "execution_count": 13,
   "metadata": {
    "execution": {
     "iopub.execute_input": "2021-03-15T18:46:43.522093Z",
     "iopub.status.busy": "2021-03-15T18:46:43.520570Z",
     "iopub.status.idle": "2021-03-15T18:46:43.522743Z",
     "shell.execute_reply": "2021-03-15T18:46:43.523193Z"
    }
   },
   "outputs": [],
   "source": [
    "df = df.sort_values(by='location')"
   ]
  },
  {
   "cell_type": "code",
   "execution_count": 14,
   "metadata": {
    "execution": {
     "iopub.execute_input": "2021-03-15T18:46:43.530286Z",
     "iopub.status.busy": "2021-03-15T18:46:43.529090Z",
     "iopub.status.idle": "2021-03-15T18:46:43.530924Z",
     "shell.execute_reply": "2021-03-15T18:46:43.531366Z"
    }
   },
   "outputs": [],
   "source": [
    "df = df[df.location == 'California'].append(df[df.location != 'California']).reset_index(drop=True)"
   ]
  },
  {
   "cell_type": "code",
   "execution_count": null,
   "metadata": {},
   "outputs": [],
   "source": []
  },
  {
   "cell_type": "code",
   "execution_count": 15,
   "metadata": {
    "execution": {
     "iopub.execute_input": "2021-03-15T18:46:43.535021Z",
     "iopub.status.busy": "2021-03-15T18:46:43.534485Z",
     "iopub.status.idle": "2021-03-15T18:46:43.552636Z",
     "shell.execute_reply": "2021-03-15T18:46:43.552155Z"
    }
   },
   "outputs": [],
   "source": [
    "tz = pytz.timezone(\"America/New_York\")"
   ]
  },
  {
   "cell_type": "code",
   "execution_count": 16,
   "metadata": {
    "execution": {
     "iopub.execute_input": "2021-03-15T18:46:43.557924Z",
     "iopub.status.busy": "2021-03-15T18:46:43.556382Z",
     "iopub.status.idle": "2021-03-15T18:46:43.558565Z",
     "shell.execute_reply": "2021-03-15T18:46:43.559023Z"
    }
   },
   "outputs": [],
   "source": [
    "today = datetime.now(tz).date()"
   ]
  },
  {
   "cell_type": "code",
   "execution_count": 17,
   "metadata": {
    "execution": {
     "iopub.execute_input": "2021-03-15T18:46:43.563878Z",
     "iopub.status.busy": "2021-03-15T18:46:43.562441Z",
     "iopub.status.idle": "2021-03-15T18:46:43.564607Z",
     "shell.execute_reply": "2021-03-15T18:46:43.565058Z"
    }
   },
   "outputs": [],
   "source": [
    "data_dir = os.path.join(os.path.abspath(\"\"), \"data\")"
   ]
  },
  {
   "cell_type": "code",
   "execution_count": 18,
   "metadata": {
    "execution": {
     "iopub.execute_input": "2021-03-15T18:46:43.570952Z",
     "iopub.status.busy": "2021-03-15T18:46:43.568441Z",
     "iopub.status.idle": "2021-03-15T18:46:43.572704Z",
     "shell.execute_reply": "2021-03-15T18:46:43.573121Z"
    }
   },
   "outputs": [],
   "source": [
    "df.to_csv(os.path.join(data_dir, f\"{today}.csv\"), index=False)"
   ]
  },
  {
   "cell_type": "code",
   "execution_count": null,
   "metadata": {},
   "outputs": [],
   "source": []
  }
 ],
 "metadata": {
  "kernelspec": {
   "display_name": "Python 3",
   "language": "python",
   "name": "python3"
  },
  "language_info": {
   "codemirror_mode": {
    "name": "ipython",
    "version": 3
   },
   "file_extension": ".py",
   "mimetype": "text/x-python",
   "name": "python",
   "nbconvert_exporter": "python",
   "pygments_lexer": "ipython3",
   "version": "3.8.8"
  }
 },
 "nbformat": 4,
 "nbformat_minor": 4
}
