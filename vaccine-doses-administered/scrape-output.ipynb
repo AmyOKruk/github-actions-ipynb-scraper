{
 "cells": [
  {
   "cell_type": "markdown",
   "metadata": {},
   "source": [
    "# California COVID vaccinations scrape"
   ]
  },
  {
   "cell_type": "markdown",
   "metadata": {},
   "source": [
    "By [Amy O'Kruk](https://twitter.com/amyokruk)"
   ]
  },
  {
   "cell_type": "markdown",
   "metadata": {},
   "source": [
    "Downloads data on vaccine doses administered by county and statewide from a Tableau-powered dashboard from the California Department of Public Health."
   ]
  },
  {
   "cell_type": "code",
   "execution_count": 1,
   "metadata": {
    "execution": {
     "iopub.execute_input": "2021-03-23T00:30:44.018018Z",
     "iopub.status.busy": "2021-03-23T00:30:44.017420Z",
     "iopub.status.idle": "2021-03-23T00:30:44.385464Z",
     "shell.execute_reply": "2021-03-23T00:30:44.386183Z"
    }
   },
   "outputs": [],
   "source": [
    "import pandas as pd\n",
    "import requests\n",
    "from bs4 import BeautifulSoup\n",
    "import json\n",
    "import re\n",
    "import time\n",
    "from time import gmtime, strftime \n",
    "import os\n",
    "import pytz\n",
    "from datetime import datetime"
   ]
  },
  {
   "cell_type": "markdown",
   "metadata": {},
   "source": [
    "Scrape the dashboard page"
   ]
  },
  {
   "cell_type": "code",
   "execution_count": 2,
   "metadata": {
    "execution": {
     "iopub.execute_input": "2021-03-23T00:30:44.390609Z",
     "iopub.status.busy": "2021-03-23T00:30:44.390067Z",
     "iopub.status.idle": "2021-03-23T00:30:45.042130Z",
     "shell.execute_reply": "2021-03-23T00:30:45.040594Z"
    }
   },
   "outputs": [],
   "source": [
    "url = \"https://public.tableau.com/interactive/views/COVID-19VaccineDashboardPublic/Vaccine?:embed=y&:showVizHome=n&:apiID=host0\"\n",
    "\n",
    "r = requests.get(url)\n",
    "soup = BeautifulSoup(r.text, \"html.parser\")"
   ]
  },
  {
   "cell_type": "code",
   "execution_count": 3,
   "metadata": {
    "execution": {
     "iopub.execute_input": "2021-03-23T00:30:45.046907Z",
     "iopub.status.busy": "2021-03-23T00:30:45.046373Z",
     "iopub.status.idle": "2021-03-23T00:30:45.050109Z",
     "shell.execute_reply": "2021-03-23T00:30:45.049698Z"
    }
   },
   "outputs": [],
   "source": [
    "tableauData = json.loads(soup.find(\"textarea\",{\"id\": \"tsConfigContainer\"}).text)"
   ]
  },
  {
   "cell_type": "markdown",
   "metadata": {},
   "source": [
    "Get the link to the Tableau data"
   ]
  },
  {
   "cell_type": "code",
   "execution_count": 4,
   "metadata": {
    "execution": {
     "iopub.execute_input": "2021-03-23T00:30:45.053976Z",
     "iopub.status.busy": "2021-03-23T00:30:45.053404Z",
     "iopub.status.idle": "2021-03-23T00:30:45.056834Z",
     "shell.execute_reply": "2021-03-23T00:30:45.056378Z"
    }
   },
   "outputs": [],
   "source": [
    "dataUrl = f'https://public.tableau.com{tableauData[\"vizql_root\"]}/bootstrapSession/sessions/{tableauData[\"sessionid\"]}'"
   ]
  },
  {
   "cell_type": "code",
   "execution_count": 5,
   "metadata": {
    "execution": {
     "iopub.execute_input": "2021-03-23T00:30:45.063493Z",
     "iopub.status.busy": "2021-03-23T00:30:45.062233Z",
     "iopub.status.idle": "2021-03-23T00:30:45.439924Z",
     "shell.execute_reply": "2021-03-23T00:30:45.439335Z"
    }
   },
   "outputs": [],
   "source": [
    "r = requests.post(dataUrl, data= {\n",
    "    \"sheet_id\": tableauData[\"sheetId\"],\n",
    "})\n",
    "\n",
    "dataReg = re.search('\\d+;({.*})\\d+;({.*})', r.text, re.MULTILINE)\n",
    "data1 = json.loads(dataReg.group(2))\n",
    "\n",
    "dataJson = data1[\"secondaryInfo\"][\"presModelMap\"][\"dataDictionary\"][\"presModelHolder\"][\"genDataDictionaryPresModel\"][\"dataSegments\"][\"0\"][\"dataColumns\"]"
   ]
  },
  {
   "cell_type": "markdown",
   "metadata": {},
   "source": [
    "Isolate what you want"
   ]
  },
  {
   "cell_type": "code",
   "execution_count": 6,
   "metadata": {
    "execution": {
     "iopub.execute_input": "2021-03-23T00:30:45.443758Z",
     "iopub.status.busy": "2021-03-23T00:30:45.443235Z",
     "iopub.status.idle": "2021-03-23T00:30:45.446868Z",
     "shell.execute_reply": "2021-03-23T00:30:45.446401Z"
    }
   },
   "outputs": [],
   "source": [
    "counties = dataJson[2]['dataValues'][:58]"
   ]
  },
  {
   "cell_type": "code",
   "execution_count": 7,
   "metadata": {
    "execution": {
     "iopub.execute_input": "2021-03-23T00:30:45.450368Z",
     "iopub.status.busy": "2021-03-23T00:30:45.449878Z",
     "iopub.status.idle": "2021-03-23T00:30:45.453262Z",
     "shell.execute_reply": "2021-03-23T00:30:45.452786Z"
    }
   },
   "outputs": [],
   "source": [
    "doses = dataJson[0]['dataValues'][3:61]"
   ]
  },
  {
   "cell_type": "markdown",
   "metadata": {},
   "source": [
    "Data formatting"
   ]
  },
  {
   "cell_type": "code",
   "execution_count": 8,
   "metadata": {
    "execution": {
     "iopub.execute_input": "2021-03-23T00:30:45.456144Z",
     "iopub.status.busy": "2021-03-23T00:30:45.455727Z",
     "iopub.status.idle": "2021-03-23T00:30:45.458966Z",
     "shell.execute_reply": "2021-03-23T00:30:45.458513Z"
    }
   },
   "outputs": [],
   "source": [
    "zipped = dict(zip(counties, doses))"
   ]
  },
  {
   "cell_type": "code",
   "execution_count": 9,
   "metadata": {
    "execution": {
     "iopub.execute_input": "2021-03-23T00:30:45.465560Z",
     "iopub.status.busy": "2021-03-23T00:30:45.464277Z",
     "iopub.status.idle": "2021-03-23T00:30:45.466226Z",
     "shell.execute_reply": "2021-03-23T00:30:45.466625Z"
    }
   },
   "outputs": [],
   "source": [
    "df = pd.Series(zipped).reset_index()"
   ]
  },
  {
   "cell_type": "code",
   "execution_count": 10,
   "metadata": {
    "execution": {
     "iopub.execute_input": "2021-03-23T00:30:45.470889Z",
     "iopub.status.busy": "2021-03-23T00:30:45.469850Z",
     "iopub.status.idle": "2021-03-23T00:30:45.471465Z",
     "shell.execute_reply": "2021-03-23T00:30:45.471855Z"
    }
   },
   "outputs": [],
   "source": [
    "df.columns = ['location','doses']"
   ]
  },
  {
   "cell_type": "markdown",
   "metadata": {},
   "source": [
    "Grab the overall California total"
   ]
  },
  {
   "cell_type": "code",
   "execution_count": 11,
   "metadata": {
    "execution": {
     "iopub.execute_input": "2021-03-23T00:30:45.476254Z",
     "iopub.status.busy": "2021-03-23T00:30:45.475016Z",
     "iopub.status.idle": "2021-03-23T00:30:45.476883Z",
     "shell.execute_reply": "2021-03-23T00:30:45.477325Z"
    }
   },
   "outputs": [],
   "source": [
    "add = {'location':'California','doses':dataJson[0]['dataValues'][2]}"
   ]
  },
  {
   "cell_type": "code",
   "execution_count": 12,
   "metadata": {
    "execution": {
     "iopub.execute_input": "2021-03-23T00:30:45.484159Z",
     "iopub.status.busy": "2021-03-23T00:30:45.483226Z",
     "iopub.status.idle": "2021-03-23T00:30:45.485093Z",
     "shell.execute_reply": "2021-03-23T00:30:45.485499Z"
    }
   },
   "outputs": [],
   "source": [
    "df = df.append(add, ignore_index=True)"
   ]
  },
  {
   "cell_type": "code",
   "execution_count": 13,
   "metadata": {
    "execution": {
     "iopub.execute_input": "2021-03-23T00:30:45.490384Z",
     "iopub.status.busy": "2021-03-23T00:30:45.489167Z",
     "iopub.status.idle": "2021-03-23T00:30:45.491047Z",
     "shell.execute_reply": "2021-03-23T00:30:45.491445Z"
    }
   },
   "outputs": [],
   "source": [
    "df = df.sort_values(by='location')"
   ]
  },
  {
   "cell_type": "code",
   "execution_count": 14,
   "metadata": {
    "execution": {
     "iopub.execute_input": "2021-03-23T00:30:45.497773Z",
     "iopub.status.busy": "2021-03-23T00:30:45.496619Z",
     "iopub.status.idle": "2021-03-23T00:30:45.498447Z",
     "shell.execute_reply": "2021-03-23T00:30:45.498846Z"
    }
   },
   "outputs": [],
   "source": [
    "df = df[df.location == 'California'].append(df[df.location != 'California']).reset_index(drop=True)"
   ]
  },
  {
   "cell_type": "code",
   "execution_count": null,
   "metadata": {},
   "outputs": [],
   "source": []
  },
  {
   "cell_type": "code",
   "execution_count": 15,
   "metadata": {
    "execution": {
     "iopub.execute_input": "2021-03-23T00:30:45.502218Z",
     "iopub.status.busy": "2021-03-23T00:30:45.501745Z",
     "iopub.status.idle": "2021-03-23T00:30:45.519337Z",
     "shell.execute_reply": "2021-03-23T00:30:45.518878Z"
    }
   },
   "outputs": [],
   "source": [
    "tz = pytz.timezone(\"America/New_York\")"
   ]
  },
  {
   "cell_type": "code",
   "execution_count": 16,
   "metadata": {
    "execution": {
     "iopub.execute_input": "2021-03-23T00:30:45.523499Z",
     "iopub.status.busy": "2021-03-23T00:30:45.522340Z",
     "iopub.status.idle": "2021-03-23T00:30:45.524105Z",
     "shell.execute_reply": "2021-03-23T00:30:45.524537Z"
    }
   },
   "outputs": [],
   "source": [
    "today = datetime.now(tz).date()"
   ]
  },
  {
   "cell_type": "code",
   "execution_count": 17,
   "metadata": {
    "execution": {
     "iopub.execute_input": "2021-03-23T00:30:45.528795Z",
     "iopub.status.busy": "2021-03-23T00:30:45.528241Z",
     "iopub.status.idle": "2021-03-23T00:30:45.530660Z",
     "shell.execute_reply": "2021-03-23T00:30:45.531067Z"
    }
   },
   "outputs": [],
   "source": [
    "data_dir = os.path.join(os.path.abspath(\"\"), \"data\")"
   ]
  },
  {
   "cell_type": "code",
   "execution_count": 18,
   "metadata": {
    "execution": {
     "iopub.execute_input": "2021-03-23T00:30:45.536954Z",
     "iopub.status.busy": "2021-03-23T00:30:45.534772Z",
     "iopub.status.idle": "2021-03-23T00:30:45.539281Z",
     "shell.execute_reply": "2021-03-23T00:30:45.538842Z"
    }
   },
   "outputs": [],
   "source": [
    "df.to_csv(os.path.join(data_dir, f\"{today}.csv\"), index=False)"
   ]
  },
  {
   "cell_type": "code",
   "execution_count": null,
   "metadata": {},
   "outputs": [],
   "source": []
  }
 ],
 "metadata": {
  "kernelspec": {
   "display_name": "Python 3",
   "language": "python",
   "name": "python3"
  },
  "language_info": {
   "codemirror_mode": {
    "name": "ipython",
    "version": 3
   },
   "file_extension": ".py",
   "mimetype": "text/x-python",
   "name": "python",
   "nbconvert_exporter": "python",
   "pygments_lexer": "ipython3",
   "version": "3.8.8"
  }
 },
 "nbformat": 4,
 "nbformat_minor": 4
}
