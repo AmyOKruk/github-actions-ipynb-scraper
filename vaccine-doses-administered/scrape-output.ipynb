{
 "cells": [
  {
   "cell_type": "markdown",
   "metadata": {},
   "source": [
    "# California COVID vaccinations scrape"
   ]
  },
  {
   "cell_type": "markdown",
   "metadata": {},
   "source": [
    "By [Amy O'Kruk](https://twitter.com/amyokruk)"
   ]
  },
  {
   "cell_type": "markdown",
   "metadata": {},
   "source": [
    "Downloads data on vaccine doses administered by county and statewide from a Tableau-powered dashboard from the California Department of Public Health."
   ]
  },
  {
   "cell_type": "code",
   "execution_count": 1,
   "metadata": {
    "execution": {
     "iopub.execute_input": "2021-03-18T03:43:56.496439Z",
     "iopub.status.busy": "2021-03-18T03:43:56.495767Z",
     "iopub.status.idle": "2021-03-18T03:43:57.074844Z",
     "shell.execute_reply": "2021-03-18T03:43:57.074231Z"
    }
   },
   "outputs": [],
   "source": [
    "import pandas as pd\n",
    "import requests\n",
    "from bs4 import BeautifulSoup\n",
    "import json\n",
    "import re\n",
    "import time\n",
    "from time import gmtime, strftime \n",
    "import os\n",
    "import pytz\n",
    "from datetime import datetime"
   ]
  },
  {
   "cell_type": "markdown",
   "metadata": {},
   "source": [
    "Scrape the dashboard page"
   ]
  },
  {
   "cell_type": "code",
   "execution_count": 2,
   "metadata": {
    "execution": {
     "iopub.execute_input": "2021-03-18T03:43:57.082500Z",
     "iopub.status.busy": "2021-03-18T03:43:57.079403Z",
     "iopub.status.idle": "2021-03-18T03:43:57.599996Z",
     "shell.execute_reply": "2021-03-18T03:43:57.599054Z"
    }
   },
   "outputs": [],
   "source": [
    "url = \"https://public.tableau.com/interactive/views/COVID-19VaccineDashboardPublic/Vaccine?:embed=y&:showVizHome=n&:apiID=host0\"\n",
    "\n",
    "r = requests.get(url)\n",
    "soup = BeautifulSoup(r.text, \"html.parser\")"
   ]
  },
  {
   "cell_type": "code",
   "execution_count": 3,
   "metadata": {
    "execution": {
     "iopub.execute_input": "2021-03-18T03:43:57.604994Z",
     "iopub.status.busy": "2021-03-18T03:43:57.604349Z",
     "iopub.status.idle": "2021-03-18T03:43:57.607875Z",
     "shell.execute_reply": "2021-03-18T03:43:57.608308Z"
    }
   },
   "outputs": [],
   "source": [
    "tableauData = json.loads(soup.find(\"textarea\",{\"id\": \"tsConfigContainer\"}).text)"
   ]
  },
  {
   "cell_type": "markdown",
   "metadata": {},
   "source": [
    "Get the link to the Tableau data"
   ]
  },
  {
   "cell_type": "code",
   "execution_count": 4,
   "metadata": {
    "execution": {
     "iopub.execute_input": "2021-03-18T03:43:57.612030Z",
     "iopub.status.busy": "2021-03-18T03:43:57.611437Z",
     "iopub.status.idle": "2021-03-18T03:43:57.614190Z",
     "shell.execute_reply": "2021-03-18T03:43:57.613567Z"
    }
   },
   "outputs": [],
   "source": [
    "dataUrl = f'https://public.tableau.com{tableauData[\"vizql_root\"]}/bootstrapSession/sessions/{tableauData[\"sessionid\"]}'"
   ]
  },
  {
   "cell_type": "code",
   "execution_count": 5,
   "metadata": {
    "execution": {
     "iopub.execute_input": "2021-03-18T03:43:57.620938Z",
     "iopub.status.busy": "2021-03-18T03:43:57.620263Z",
     "iopub.status.idle": "2021-03-18T03:43:57.925470Z",
     "shell.execute_reply": "2021-03-18T03:43:57.926145Z"
    }
   },
   "outputs": [],
   "source": [
    "r = requests.post(dataUrl, data= {\n",
    "    \"sheet_id\": tableauData[\"sheetId\"],\n",
    "})\n",
    "\n",
    "dataReg = re.search('\\d+;({.*})\\d+;({.*})', r.text, re.MULTILINE)\n",
    "data1 = json.loads(dataReg.group(2))\n",
    "\n",
    "dataJson = data1[\"secondaryInfo\"][\"presModelMap\"][\"dataDictionary\"][\"presModelHolder\"][\"genDataDictionaryPresModel\"][\"dataSegments\"][\"0\"][\"dataColumns\"]"
   ]
  },
  {
   "cell_type": "markdown",
   "metadata": {},
   "source": [
    "Isolate what you want"
   ]
  },
  {
   "cell_type": "code",
   "execution_count": 6,
   "metadata": {
    "execution": {
     "iopub.execute_input": "2021-03-18T03:43:57.930246Z",
     "iopub.status.busy": "2021-03-18T03:43:57.929594Z",
     "iopub.status.idle": "2021-03-18T03:43:57.933601Z",
     "shell.execute_reply": "2021-03-18T03:43:57.932987Z"
    }
   },
   "outputs": [],
   "source": [
    "counties = dataJson[2]['dataValues'][:58]"
   ]
  },
  {
   "cell_type": "code",
   "execution_count": 7,
   "metadata": {
    "execution": {
     "iopub.execute_input": "2021-03-18T03:43:57.937724Z",
     "iopub.status.busy": "2021-03-18T03:43:57.937106Z",
     "iopub.status.idle": "2021-03-18T03:43:57.940865Z",
     "shell.execute_reply": "2021-03-18T03:43:57.941379Z"
    }
   },
   "outputs": [],
   "source": [
    "doses = dataJson[0]['dataValues'][3:61]"
   ]
  },
  {
   "cell_type": "markdown",
   "metadata": {},
   "source": [
    "Data formatting"
   ]
  },
  {
   "cell_type": "code",
   "execution_count": 8,
   "metadata": {
    "execution": {
     "iopub.execute_input": "2021-03-18T03:43:57.946552Z",
     "iopub.status.busy": "2021-03-18T03:43:57.945941Z",
     "iopub.status.idle": "2021-03-18T03:43:57.949979Z",
     "shell.execute_reply": "2021-03-18T03:43:57.949410Z"
    }
   },
   "outputs": [],
   "source": [
    "zipped = dict(zip(counties, doses))"
   ]
  },
  {
   "cell_type": "code",
   "execution_count": 9,
   "metadata": {
    "execution": {
     "iopub.execute_input": "2021-03-18T03:43:57.956518Z",
     "iopub.status.busy": "2021-03-18T03:43:57.955849Z",
     "iopub.status.idle": "2021-03-18T03:43:57.959456Z",
     "shell.execute_reply": "2021-03-18T03:43:57.959902Z"
    }
   },
   "outputs": [],
   "source": [
    "df = pd.Series(zipped).reset_index()"
   ]
  },
  {
   "cell_type": "code",
   "execution_count": 10,
   "metadata": {
    "execution": {
     "iopub.execute_input": "2021-03-18T03:43:57.964034Z",
     "iopub.status.busy": "2021-03-18T03:43:57.963488Z",
     "iopub.status.idle": "2021-03-18T03:43:57.967596Z",
     "shell.execute_reply": "2021-03-18T03:43:57.967078Z"
    }
   },
   "outputs": [],
   "source": [
    "df.columns = ['location','doses']"
   ]
  },
  {
   "cell_type": "markdown",
   "metadata": {},
   "source": [
    "Grab the overall California total"
   ]
  },
  {
   "cell_type": "code",
   "execution_count": 11,
   "metadata": {
    "execution": {
     "iopub.execute_input": "2021-03-18T03:43:57.972015Z",
     "iopub.status.busy": "2021-03-18T03:43:57.971399Z",
     "iopub.status.idle": "2021-03-18T03:43:57.976068Z",
     "shell.execute_reply": "2021-03-18T03:43:57.974808Z"
    }
   },
   "outputs": [],
   "source": [
    "add = {'location':'California','doses':dataJson[0]['dataValues'][2]}"
   ]
  },
  {
   "cell_type": "code",
   "execution_count": 12,
   "metadata": {
    "execution": {
     "iopub.execute_input": "2021-03-18T03:43:57.982877Z",
     "iopub.status.busy": "2021-03-18T03:43:57.982261Z",
     "iopub.status.idle": "2021-03-18T03:43:57.986377Z",
     "shell.execute_reply": "2021-03-18T03:43:57.985849Z"
    }
   },
   "outputs": [],
   "source": [
    "df = df.append(add, ignore_index=True)"
   ]
  },
  {
   "cell_type": "code",
   "execution_count": 13,
   "metadata": {
    "execution": {
     "iopub.execute_input": "2021-03-18T03:43:57.991736Z",
     "iopub.status.busy": "2021-03-18T03:43:57.991043Z",
     "iopub.status.idle": "2021-03-18T03:43:57.995133Z",
     "shell.execute_reply": "2021-03-18T03:43:57.994531Z"
    }
   },
   "outputs": [],
   "source": [
    "df = df.sort_values(by='location')"
   ]
  },
  {
   "cell_type": "code",
   "execution_count": 14,
   "metadata": {
    "execution": {
     "iopub.execute_input": "2021-03-18T03:43:58.001945Z",
     "iopub.status.busy": "2021-03-18T03:43:58.001277Z",
     "iopub.status.idle": "2021-03-18T03:43:58.006030Z",
     "shell.execute_reply": "2021-03-18T03:43:58.005306Z"
    }
   },
   "outputs": [],
   "source": [
    "df = df[df.location == 'California'].append(df[df.location != 'California']).reset_index(drop=True)"
   ]
  },
  {
   "cell_type": "code",
   "execution_count": null,
   "metadata": {},
   "outputs": [],
   "source": []
  },
  {
   "cell_type": "code",
   "execution_count": 15,
   "metadata": {
    "execution": {
     "iopub.execute_input": "2021-03-18T03:43:58.010076Z",
     "iopub.status.busy": "2021-03-18T03:43:58.009463Z",
     "iopub.status.idle": "2021-03-18T03:43:58.031964Z",
     "shell.execute_reply": "2021-03-18T03:43:58.030894Z"
    }
   },
   "outputs": [],
   "source": [
    "tz = pytz.timezone(\"America/New_York\")"
   ]
  },
  {
   "cell_type": "code",
   "execution_count": 16,
   "metadata": {
    "execution": {
     "iopub.execute_input": "2021-03-18T03:43:58.035953Z",
     "iopub.status.busy": "2021-03-18T03:43:58.035337Z",
     "iopub.status.idle": "2021-03-18T03:43:58.039567Z",
     "shell.execute_reply": "2021-03-18T03:43:58.040062Z"
    }
   },
   "outputs": [],
   "source": [
    "today = datetime.now(tz).date()"
   ]
  },
  {
   "cell_type": "code",
   "execution_count": 17,
   "metadata": {
    "execution": {
     "iopub.execute_input": "2021-03-18T03:43:58.044340Z",
     "iopub.status.busy": "2021-03-18T03:43:58.043725Z",
     "iopub.status.idle": "2021-03-18T03:43:58.046589Z",
     "shell.execute_reply": "2021-03-18T03:43:58.045678Z"
    }
   },
   "outputs": [],
   "source": [
    "data_dir = os.path.join(os.path.abspath(\"\"), \"data\")"
   ]
  },
  {
   "cell_type": "code",
   "execution_count": 18,
   "metadata": {
    "execution": {
     "iopub.execute_input": "2021-03-18T03:43:58.053235Z",
     "iopub.status.busy": "2021-03-18T03:43:58.050185Z",
     "iopub.status.idle": "2021-03-18T03:43:58.055549Z",
     "shell.execute_reply": "2021-03-18T03:43:58.056004Z"
    }
   },
   "outputs": [],
   "source": [
    "df.to_csv(os.path.join(data_dir, f\"{today}.csv\"), index=False)"
   ]
  },
  {
   "cell_type": "code",
   "execution_count": null,
   "metadata": {},
   "outputs": [],
   "source": []
  }
 ],
 "metadata": {
  "kernelspec": {
   "display_name": "Python 3",
   "language": "python",
   "name": "python3"
  },
  "language_info": {
   "codemirror_mode": {
    "name": "ipython",
    "version": 3
   },
   "file_extension": ".py",
   "mimetype": "text/x-python",
   "name": "python",
   "nbconvert_exporter": "python",
   "pygments_lexer": "ipython3",
   "version": "3.8.8"
  }
 },
 "nbformat": 4,
 "nbformat_minor": 4
}
