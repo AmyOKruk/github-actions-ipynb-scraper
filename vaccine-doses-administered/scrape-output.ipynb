{
 "cells": [
  {
   "cell_type": "markdown",
   "metadata": {},
   "source": [
    "# California COVID vaccinations scrape"
   ]
  },
  {
   "cell_type": "markdown",
   "metadata": {},
   "source": [
    "By [Amy O'Kruk](https://twitter.com/amyokruk)"
   ]
  },
  {
   "cell_type": "markdown",
   "metadata": {},
   "source": [
    "Downloads data on vaccine doses administered by county and statewide from a Tableau-powered dashboard from the California Department of Public Health."
   ]
  },
  {
   "cell_type": "code",
   "execution_count": 1,
   "metadata": {
    "execution": {
     "iopub.execute_input": "2021-03-24T03:43:51.529492Z",
     "iopub.status.busy": "2021-03-24T03:43:51.528532Z",
     "iopub.status.idle": "2021-03-24T03:43:51.947811Z",
     "shell.execute_reply": "2021-03-24T03:43:51.946877Z"
    }
   },
   "outputs": [],
   "source": [
    "import pandas as pd\n",
    "import requests\n",
    "from bs4 import BeautifulSoup\n",
    "import json\n",
    "import re\n",
    "import time\n",
    "from time import gmtime, strftime \n",
    "import os\n",
    "import pytz\n",
    "from datetime import datetime"
   ]
  },
  {
   "cell_type": "markdown",
   "metadata": {},
   "source": [
    "Scrape the dashboard page"
   ]
  },
  {
   "cell_type": "code",
   "execution_count": 2,
   "metadata": {
    "execution": {
     "iopub.execute_input": "2021-03-24T03:43:51.954353Z",
     "iopub.status.busy": "2021-03-24T03:43:51.951531Z",
     "iopub.status.idle": "2021-03-24T03:43:52.338324Z",
     "shell.execute_reply": "2021-03-24T03:43:52.337413Z"
    }
   },
   "outputs": [],
   "source": [
    "url = \"https://public.tableau.com/interactive/views/COVID-19VaccineDashboardPublic/Vaccine?:embed=y&:showVizHome=n&:apiID=host0\"\n",
    "\n",
    "r = requests.get(url)\n",
    "soup = BeautifulSoup(r.text, \"html.parser\")"
   ]
  },
  {
   "cell_type": "code",
   "execution_count": 3,
   "metadata": {
    "execution": {
     "iopub.execute_input": "2021-03-24T03:43:52.343411Z",
     "iopub.status.busy": "2021-03-24T03:43:52.342607Z",
     "iopub.status.idle": "2021-03-24T03:43:52.346763Z",
     "shell.execute_reply": "2021-03-24T03:43:52.346275Z"
    }
   },
   "outputs": [],
   "source": [
    "tableauData = json.loads(soup.find(\"textarea\",{\"id\": \"tsConfigContainer\"}).text)"
   ]
  },
  {
   "cell_type": "markdown",
   "metadata": {},
   "source": [
    "Get the link to the Tableau data"
   ]
  },
  {
   "cell_type": "code",
   "execution_count": 4,
   "metadata": {
    "execution": {
     "iopub.execute_input": "2021-03-24T03:43:52.350497Z",
     "iopub.status.busy": "2021-03-24T03:43:52.349891Z",
     "iopub.status.idle": "2021-03-24T03:43:52.353739Z",
     "shell.execute_reply": "2021-03-24T03:43:52.353264Z"
    }
   },
   "outputs": [],
   "source": [
    "dataUrl = f'https://public.tableau.com{tableauData[\"vizql_root\"]}/bootstrapSession/sessions/{tableauData[\"sessionid\"]}'"
   ]
  },
  {
   "cell_type": "code",
   "execution_count": 5,
   "metadata": {
    "execution": {
     "iopub.execute_input": "2021-03-24T03:43:52.361156Z",
     "iopub.status.busy": "2021-03-24T03:43:52.360508Z",
     "iopub.status.idle": "2021-03-24T03:43:52.938485Z",
     "shell.execute_reply": "2021-03-24T03:43:52.937924Z"
    }
   },
   "outputs": [],
   "source": [
    "r = requests.post(dataUrl, data= {\n",
    "    \"sheet_id\": tableauData[\"sheetId\"],\n",
    "})\n",
    "\n",
    "dataReg = re.search('\\d+;({.*})\\d+;({.*})', r.text, re.MULTILINE)\n",
    "data1 = json.loads(dataReg.group(2))\n",
    "\n",
    "dataJson = data1[\"secondaryInfo\"][\"presModelMap\"][\"dataDictionary\"][\"presModelHolder\"][\"genDataDictionaryPresModel\"][\"dataSegments\"][\"0\"][\"dataColumns\"]"
   ]
  },
  {
   "cell_type": "markdown",
   "metadata": {},
   "source": [
    "Isolate what you want"
   ]
  },
  {
   "cell_type": "code",
   "execution_count": 6,
   "metadata": {
    "execution": {
     "iopub.execute_input": "2021-03-24T03:43:52.942251Z",
     "iopub.status.busy": "2021-03-24T03:43:52.941615Z",
     "iopub.status.idle": "2021-03-24T03:43:52.945123Z",
     "shell.execute_reply": "2021-03-24T03:43:52.945610Z"
    }
   },
   "outputs": [],
   "source": [
    "counties = dataJson[2]['dataValues'][:58]"
   ]
  },
  {
   "cell_type": "code",
   "execution_count": 7,
   "metadata": {
    "execution": {
     "iopub.execute_input": "2021-03-24T03:43:52.949305Z",
     "iopub.status.busy": "2021-03-24T03:43:52.948730Z",
     "iopub.status.idle": "2021-03-24T03:43:52.952693Z",
     "shell.execute_reply": "2021-03-24T03:43:52.952052Z"
    }
   },
   "outputs": [],
   "source": [
    "doses = dataJson[0]['dataValues'][3:61]"
   ]
  },
  {
   "cell_type": "markdown",
   "metadata": {},
   "source": [
    "Data formatting"
   ]
  },
  {
   "cell_type": "code",
   "execution_count": 8,
   "metadata": {
    "execution": {
     "iopub.execute_input": "2021-03-24T03:43:52.956269Z",
     "iopub.status.busy": "2021-03-24T03:43:52.955706Z",
     "iopub.status.idle": "2021-03-24T03:43:52.959308Z",
     "shell.execute_reply": "2021-03-24T03:43:52.958840Z"
    }
   },
   "outputs": [],
   "source": [
    "zipped = dict(zip(counties, doses))"
   ]
  },
  {
   "cell_type": "code",
   "execution_count": 9,
   "metadata": {
    "execution": {
     "iopub.execute_input": "2021-03-24T03:43:52.965201Z",
     "iopub.status.busy": "2021-03-24T03:43:52.964560Z",
     "iopub.status.idle": "2021-03-24T03:43:52.968663Z",
     "shell.execute_reply": "2021-03-24T03:43:52.969247Z"
    }
   },
   "outputs": [],
   "source": [
    "df = pd.Series(zipped).reset_index()"
   ]
  },
  {
   "cell_type": "code",
   "execution_count": 10,
   "metadata": {
    "execution": {
     "iopub.execute_input": "2021-03-24T03:43:52.974747Z",
     "iopub.status.busy": "2021-03-24T03:43:52.973310Z",
     "iopub.status.idle": "2021-03-24T03:43:52.975374Z",
     "shell.execute_reply": "2021-03-24T03:43:52.975853Z"
    }
   },
   "outputs": [],
   "source": [
    "df.columns = ['location','doses']"
   ]
  },
  {
   "cell_type": "markdown",
   "metadata": {},
   "source": [
    "Grab the overall California total"
   ]
  },
  {
   "cell_type": "code",
   "execution_count": 11,
   "metadata": {
    "execution": {
     "iopub.execute_input": "2021-03-24T03:43:52.980615Z",
     "iopub.status.busy": "2021-03-24T03:43:52.979344Z",
     "iopub.status.idle": "2021-03-24T03:43:52.981354Z",
     "shell.execute_reply": "2021-03-24T03:43:52.981899Z"
    }
   },
   "outputs": [],
   "source": [
    "add = {'location':'California','doses':dataJson[0]['dataValues'][2]}"
   ]
  },
  {
   "cell_type": "code",
   "execution_count": 12,
   "metadata": {
    "execution": {
     "iopub.execute_input": "2021-03-24T03:43:52.989489Z",
     "iopub.status.busy": "2021-03-24T03:43:52.988221Z",
     "iopub.status.idle": "2021-03-24T03:43:52.990122Z",
     "shell.execute_reply": "2021-03-24T03:43:52.990622Z"
    }
   },
   "outputs": [],
   "source": [
    "df = df.append(add, ignore_index=True)"
   ]
  },
  {
   "cell_type": "code",
   "execution_count": 13,
   "metadata": {
    "execution": {
     "iopub.execute_input": "2021-03-24T03:43:52.995767Z",
     "iopub.status.busy": "2021-03-24T03:43:52.994510Z",
     "iopub.status.idle": "2021-03-24T03:43:52.996396Z",
     "shell.execute_reply": "2021-03-24T03:43:52.996871Z"
    }
   },
   "outputs": [],
   "source": [
    "df = df.sort_values(by='location')"
   ]
  },
  {
   "cell_type": "code",
   "execution_count": 14,
   "metadata": {
    "execution": {
     "iopub.execute_input": "2021-03-24T03:43:53.004086Z",
     "iopub.status.busy": "2021-03-24T03:43:53.002766Z",
     "iopub.status.idle": "2021-03-24T03:43:53.004710Z",
     "shell.execute_reply": "2021-03-24T03:43:53.005187Z"
    }
   },
   "outputs": [],
   "source": [
    "df = df[df.location == 'California'].append(df[df.location != 'California']).reset_index(drop=True)"
   ]
  },
  {
   "cell_type": "code",
   "execution_count": null,
   "metadata": {},
   "outputs": [],
   "source": []
  },
  {
   "cell_type": "code",
   "execution_count": 15,
   "metadata": {
    "execution": {
     "iopub.execute_input": "2021-03-24T03:43:53.008926Z",
     "iopub.status.busy": "2021-03-24T03:43:53.008356Z",
     "iopub.status.idle": "2021-03-24T03:43:53.029567Z",
     "shell.execute_reply": "2021-03-24T03:43:53.030186Z"
    }
   },
   "outputs": [],
   "source": [
    "tz = pytz.timezone(\"America/New_York\")"
   ]
  },
  {
   "cell_type": "code",
   "execution_count": 16,
   "metadata": {
    "execution": {
     "iopub.execute_input": "2021-03-24T03:43:53.038439Z",
     "iopub.status.busy": "2021-03-24T03:43:53.037710Z",
     "iopub.status.idle": "2021-03-24T03:43:53.041753Z",
     "shell.execute_reply": "2021-03-24T03:43:53.041144Z"
    }
   },
   "outputs": [],
   "source": [
    "today = datetime.now(tz).date()"
   ]
  },
  {
   "cell_type": "code",
   "execution_count": 17,
   "metadata": {
    "execution": {
     "iopub.execute_input": "2021-03-24T03:43:53.047206Z",
     "iopub.status.busy": "2021-03-24T03:43:53.045732Z",
     "iopub.status.idle": "2021-03-24T03:43:53.047841Z",
     "shell.execute_reply": "2021-03-24T03:43:53.048527Z"
    }
   },
   "outputs": [],
   "source": [
    "data_dir = os.path.join(os.path.abspath(\"\"), \"data\")"
   ]
  },
  {
   "cell_type": "code",
   "execution_count": 18,
   "metadata": {
    "execution": {
     "iopub.execute_input": "2021-03-24T03:43:53.053452Z",
     "iopub.status.busy": "2021-03-24T03:43:53.052371Z",
     "iopub.status.idle": "2021-03-24T03:43:53.132981Z",
     "shell.execute_reply": "2021-03-24T03:43:53.132360Z"
    }
   },
   "outputs": [],
   "source": [
    "df.to_csv(os.path.join(data_dir, f\"{today}.csv\"), index=False)"
   ]
  },
  {
   "cell_type": "code",
   "execution_count": null,
   "metadata": {},
   "outputs": [],
   "source": []
  }
 ],
 "metadata": {
  "kernelspec": {
   "display_name": "Python 3",
   "language": "python",
   "name": "python3"
  },
  "language_info": {
   "codemirror_mode": {
    "name": "ipython",
    "version": 3
   },
   "file_extension": ".py",
   "mimetype": "text/x-python",
   "name": "python",
   "nbconvert_exporter": "python",
   "pygments_lexer": "ipython3",
   "version": "3.8.8"
  }
 },
 "nbformat": 4,
 "nbformat_minor": 4
}
