{
 "cells": [
  {
   "cell_type": "markdown",
   "metadata": {},
   "source": [
    "# California COVID vaccinations scrape"
   ]
  },
  {
   "cell_type": "markdown",
   "metadata": {},
   "source": [
    "By [Amy O'Kruk](https://twitter.com/amyokruk)"
   ]
  },
  {
   "cell_type": "markdown",
   "metadata": {},
   "source": [
    "Downloads data on vaccine doses administered by county and statewide from a Tableau-powered dashboard from the California Department of Public Health."
   ]
  },
  {
   "cell_type": "code",
   "execution_count": 1,
   "metadata": {
    "execution": {
     "iopub.execute_input": "2021-03-22T04:57:57.115076Z",
     "iopub.status.busy": "2021-03-22T04:57:57.114389Z",
     "iopub.status.idle": "2021-03-22T04:57:57.546688Z",
     "shell.execute_reply": "2021-03-22T04:57:57.545334Z"
    }
   },
   "outputs": [],
   "source": [
    "import pandas as pd\n",
    "import requests\n",
    "from bs4 import BeautifulSoup\n",
    "import json\n",
    "import re\n",
    "import time\n",
    "from time import gmtime, strftime \n",
    "import os\n",
    "import pytz\n",
    "from datetime import datetime"
   ]
  },
  {
   "cell_type": "markdown",
   "metadata": {},
   "source": [
    "Scrape the dashboard page"
   ]
  },
  {
   "cell_type": "code",
   "execution_count": 2,
   "metadata": {
    "execution": {
     "iopub.execute_input": "2021-03-22T04:57:57.552886Z",
     "iopub.status.busy": "2021-03-22T04:57:57.550368Z",
     "iopub.status.idle": "2021-03-22T04:57:57.915216Z",
     "shell.execute_reply": "2021-03-22T04:57:57.914565Z"
    }
   },
   "outputs": [],
   "source": [
    "url = \"https://public.tableau.com/interactive/views/COVID-19VaccineDashboardPublic/Vaccine?:embed=y&:showVizHome=n&:apiID=host0\"\n",
    "\n",
    "r = requests.get(url)\n",
    "soup = BeautifulSoup(r.text, \"html.parser\")"
   ]
  },
  {
   "cell_type": "code",
   "execution_count": 3,
   "metadata": {
    "execution": {
     "iopub.execute_input": "2021-03-22T04:57:57.920132Z",
     "iopub.status.busy": "2021-03-22T04:57:57.919551Z",
     "iopub.status.idle": "2021-03-22T04:57:57.923838Z",
     "shell.execute_reply": "2021-03-22T04:57:57.923401Z"
    }
   },
   "outputs": [],
   "source": [
    "tableauData = json.loads(soup.find(\"textarea\",{\"id\": \"tsConfigContainer\"}).text)"
   ]
  },
  {
   "cell_type": "markdown",
   "metadata": {},
   "source": [
    "Get the link to the Tableau data"
   ]
  },
  {
   "cell_type": "code",
   "execution_count": 4,
   "metadata": {
    "execution": {
     "iopub.execute_input": "2021-03-22T04:57:57.928176Z",
     "iopub.status.busy": "2021-03-22T04:57:57.927040Z",
     "iopub.status.idle": "2021-03-22T04:57:57.928966Z",
     "shell.execute_reply": "2021-03-22T04:57:57.929383Z"
    }
   },
   "outputs": [],
   "source": [
    "dataUrl = f'https://public.tableau.com{tableauData[\"vizql_root\"]}/bootstrapSession/sessions/{tableauData[\"sessionid\"]}'"
   ]
  },
  {
   "cell_type": "code",
   "execution_count": 5,
   "metadata": {
    "execution": {
     "iopub.execute_input": "2021-03-22T04:57:57.936375Z",
     "iopub.status.busy": "2021-03-22T04:57:57.935437Z",
     "iopub.status.idle": "2021-03-22T04:57:58.081436Z",
     "shell.execute_reply": "2021-03-22T04:57:58.081885Z"
    }
   },
   "outputs": [],
   "source": [
    "r = requests.post(dataUrl, data= {\n",
    "    \"sheet_id\": tableauData[\"sheetId\"],\n",
    "})\n",
    "\n",
    "dataReg = re.search('\\d+;({.*})\\d+;({.*})', r.text, re.MULTILINE)\n",
    "data1 = json.loads(dataReg.group(2))\n",
    "\n",
    "dataJson = data1[\"secondaryInfo\"][\"presModelMap\"][\"dataDictionary\"][\"presModelHolder\"][\"genDataDictionaryPresModel\"][\"dataSegments\"][\"0\"][\"dataColumns\"]"
   ]
  },
  {
   "cell_type": "markdown",
   "metadata": {},
   "source": [
    "Isolate what you want"
   ]
  },
  {
   "cell_type": "code",
   "execution_count": 6,
   "metadata": {
    "execution": {
     "iopub.execute_input": "2021-03-22T04:57:58.086919Z",
     "iopub.status.busy": "2021-03-22T04:57:58.085340Z",
     "iopub.status.idle": "2021-03-22T04:57:58.087651Z",
     "shell.execute_reply": "2021-03-22T04:57:58.088209Z"
    }
   },
   "outputs": [],
   "source": [
    "counties = dataJson[2]['dataValues'][:58]"
   ]
  },
  {
   "cell_type": "code",
   "execution_count": 7,
   "metadata": {
    "execution": {
     "iopub.execute_input": "2021-03-22T04:57:58.092010Z",
     "iopub.status.busy": "2021-03-22T04:57:58.090513Z",
     "iopub.status.idle": "2021-03-22T04:57:58.094035Z",
     "shell.execute_reply": "2021-03-22T04:57:58.094491Z"
    }
   },
   "outputs": [],
   "source": [
    "doses = dataJson[0]['dataValues'][3:61]"
   ]
  },
  {
   "cell_type": "markdown",
   "metadata": {},
   "source": [
    "Data formatting"
   ]
  },
  {
   "cell_type": "code",
   "execution_count": 8,
   "metadata": {
    "execution": {
     "iopub.execute_input": "2021-03-22T04:57:58.099675Z",
     "iopub.status.busy": "2021-03-22T04:57:58.098385Z",
     "iopub.status.idle": "2021-03-22T04:57:58.100510Z",
     "shell.execute_reply": "2021-03-22T04:57:58.101093Z"
    }
   },
   "outputs": [],
   "source": [
    "zipped = dict(zip(counties, doses))"
   ]
  },
  {
   "cell_type": "code",
   "execution_count": 9,
   "metadata": {
    "execution": {
     "iopub.execute_input": "2021-03-22T04:57:58.108498Z",
     "iopub.status.busy": "2021-03-22T04:57:58.107022Z",
     "iopub.status.idle": "2021-03-22T04:57:58.109200Z",
     "shell.execute_reply": "2021-03-22T04:57:58.109662Z"
    }
   },
   "outputs": [],
   "source": [
    "df = pd.Series(zipped).reset_index()"
   ]
  },
  {
   "cell_type": "code",
   "execution_count": 10,
   "metadata": {
    "execution": {
     "iopub.execute_input": "2021-03-22T04:57:58.114393Z",
     "iopub.status.busy": "2021-03-22T04:57:58.113110Z",
     "iopub.status.idle": "2021-03-22T04:57:58.115096Z",
     "shell.execute_reply": "2021-03-22T04:57:58.115536Z"
    }
   },
   "outputs": [],
   "source": [
    "df.columns = ['location','doses']"
   ]
  },
  {
   "cell_type": "markdown",
   "metadata": {},
   "source": [
    "Grab the overall California total"
   ]
  },
  {
   "cell_type": "code",
   "execution_count": 11,
   "metadata": {
    "execution": {
     "iopub.execute_input": "2021-03-22T04:57:58.120375Z",
     "iopub.status.busy": "2021-03-22T04:57:58.118965Z",
     "iopub.status.idle": "2021-03-22T04:57:58.121038Z",
     "shell.execute_reply": "2021-03-22T04:57:58.121572Z"
    }
   },
   "outputs": [],
   "source": [
    "add = {'location':'California','doses':dataJson[0]['dataValues'][2]}"
   ]
  },
  {
   "cell_type": "code",
   "execution_count": 12,
   "metadata": {
    "execution": {
     "iopub.execute_input": "2021-03-22T04:57:58.129473Z",
     "iopub.status.busy": "2021-03-22T04:57:58.128385Z",
     "iopub.status.idle": "2021-03-22T04:57:58.130850Z",
     "shell.execute_reply": "2021-03-22T04:57:58.130371Z"
    }
   },
   "outputs": [],
   "source": [
    "df = df.append(add, ignore_index=True)"
   ]
  },
  {
   "cell_type": "code",
   "execution_count": 13,
   "metadata": {
    "execution": {
     "iopub.execute_input": "2021-03-22T04:57:58.136004Z",
     "iopub.status.busy": "2021-03-22T04:57:58.135033Z",
     "iopub.status.idle": "2021-03-22T04:57:58.136955Z",
     "shell.execute_reply": "2021-03-22T04:57:58.137421Z"
    }
   },
   "outputs": [],
   "source": [
    "df = df.sort_values(by='location')"
   ]
  },
  {
   "cell_type": "code",
   "execution_count": 14,
   "metadata": {
    "execution": {
     "iopub.execute_input": "2021-03-22T04:57:58.146113Z",
     "iopub.status.busy": "2021-03-22T04:57:58.144614Z",
     "iopub.status.idle": "2021-03-22T04:57:58.146707Z",
     "shell.execute_reply": "2021-03-22T04:57:58.147186Z"
    }
   },
   "outputs": [],
   "source": [
    "df = df[df.location == 'California'].append(df[df.location != 'California']).reset_index(drop=True)"
   ]
  },
  {
   "cell_type": "code",
   "execution_count": null,
   "metadata": {},
   "outputs": [],
   "source": []
  },
  {
   "cell_type": "code",
   "execution_count": 15,
   "metadata": {
    "execution": {
     "iopub.execute_input": "2021-03-22T04:57:58.150850Z",
     "iopub.status.busy": "2021-03-22T04:57:58.150197Z",
     "iopub.status.idle": "2021-03-22T04:57:58.168219Z",
     "shell.execute_reply": "2021-03-22T04:57:58.168678Z"
    }
   },
   "outputs": [],
   "source": [
    "tz = pytz.timezone(\"America/New_York\")"
   ]
  },
  {
   "cell_type": "code",
   "execution_count": 16,
   "metadata": {
    "execution": {
     "iopub.execute_input": "2021-03-22T04:57:58.173926Z",
     "iopub.status.busy": "2021-03-22T04:57:58.172520Z",
     "iopub.status.idle": "2021-03-22T04:57:58.174676Z",
     "shell.execute_reply": "2021-03-22T04:57:58.175240Z"
    }
   },
   "outputs": [],
   "source": [
    "today = datetime.now(tz).date()"
   ]
  },
  {
   "cell_type": "code",
   "execution_count": 17,
   "metadata": {
    "execution": {
     "iopub.execute_input": "2021-03-22T04:57:58.180664Z",
     "iopub.status.busy": "2021-03-22T04:57:58.178936Z",
     "iopub.status.idle": "2021-03-22T04:57:58.181279Z",
     "shell.execute_reply": "2021-03-22T04:57:58.181881Z"
    }
   },
   "outputs": [],
   "source": [
    "data_dir = os.path.join(os.path.abspath(\"\"), \"data\")"
   ]
  },
  {
   "cell_type": "code",
   "execution_count": 18,
   "metadata": {
    "execution": {
     "iopub.execute_input": "2021-03-22T04:57:58.187087Z",
     "iopub.status.busy": "2021-03-22T04:57:58.185531Z",
     "iopub.status.idle": "2021-03-22T04:57:58.190963Z",
     "shell.execute_reply": "2021-03-22T04:57:58.190364Z"
    }
   },
   "outputs": [],
   "source": [
    "df.to_csv(os.path.join(data_dir, f\"{today}.csv\"), index=False)"
   ]
  },
  {
   "cell_type": "code",
   "execution_count": null,
   "metadata": {},
   "outputs": [],
   "source": []
  }
 ],
 "metadata": {
  "kernelspec": {
   "display_name": "Python 3",
   "language": "python",
   "name": "python3"
  },
  "language_info": {
   "codemirror_mode": {
    "name": "ipython",
    "version": 3
   },
   "file_extension": ".py",
   "mimetype": "text/x-python",
   "name": "python",
   "nbconvert_exporter": "python",
   "pygments_lexer": "ipython3",
   "version": "3.8.8"
  }
 },
 "nbformat": 4,
 "nbformat_minor": 4
}
