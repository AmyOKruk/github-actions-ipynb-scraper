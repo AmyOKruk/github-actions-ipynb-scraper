{
 "cells": [
  {
   "cell_type": "markdown",
   "metadata": {},
   "source": [
    "# California COVID vaccinations scrape"
   ]
  },
  {
   "cell_type": "markdown",
   "metadata": {},
   "source": [
    "By [Amy O'Kruk](https://twitter.com/amyokruk)"
   ]
  },
  {
   "cell_type": "markdown",
   "metadata": {},
   "source": [
    "Downloads data on vaccine doses administered by county and statewide from a Tableau-powered dashboard from the California Department of Public Health."
   ]
  },
  {
   "cell_type": "code",
   "execution_count": 1,
   "metadata": {
    "execution": {
     "iopub.execute_input": "2021-03-14T09:13:40.074490Z",
     "iopub.status.busy": "2021-03-14T09:13:40.073856Z",
     "iopub.status.idle": "2021-03-14T09:13:40.784023Z",
     "shell.execute_reply": "2021-03-14T09:13:40.782858Z"
    }
   },
   "outputs": [],
   "source": [
    "import pandas as pd\n",
    "import requests\n",
    "from bs4 import BeautifulSoup\n",
    "import json\n",
    "import re\n",
    "import time\n",
    "from time import gmtime, strftime \n",
    "import os\n",
    "import pytz\n",
    "from datetime import datetime"
   ]
  },
  {
   "cell_type": "markdown",
   "metadata": {},
   "source": [
    "Scrape the dashboard page"
   ]
  },
  {
   "cell_type": "code",
   "execution_count": 2,
   "metadata": {
    "execution": {
     "iopub.execute_input": "2021-03-14T09:13:40.789708Z",
     "iopub.status.busy": "2021-03-14T09:13:40.789140Z",
     "iopub.status.idle": "2021-03-14T09:13:41.286818Z",
     "shell.execute_reply": "2021-03-14T09:13:41.285981Z"
    }
   },
   "outputs": [],
   "source": [
    "url = \"https://public.tableau.com/interactive/views/COVID-19VaccineDashboardPublic/Vaccine?:embed=y&:showVizHome=n&:apiID=host0\"\n",
    "\n",
    "r = requests.get(url)\n",
    "soup = BeautifulSoup(r.text, \"html.parser\")"
   ]
  },
  {
   "cell_type": "code",
   "execution_count": 3,
   "metadata": {
    "execution": {
     "iopub.execute_input": "2021-03-14T09:13:41.292833Z",
     "iopub.status.busy": "2021-03-14T09:13:41.291569Z",
     "iopub.status.idle": "2021-03-14T09:13:41.293443Z",
     "shell.execute_reply": "2021-03-14T09:13:41.293902Z"
    }
   },
   "outputs": [],
   "source": [
    "tableauData = json.loads(soup.find(\"textarea\",{\"id\": \"tsConfigContainer\"}).text)"
   ]
  },
  {
   "cell_type": "markdown",
   "metadata": {},
   "source": [
    "Get the link to the Tableau data"
   ]
  },
  {
   "cell_type": "code",
   "execution_count": 4,
   "metadata": {
    "execution": {
     "iopub.execute_input": "2021-03-14T09:13:41.298181Z",
     "iopub.status.busy": "2021-03-14T09:13:41.296969Z",
     "iopub.status.idle": "2021-03-14T09:13:41.298843Z",
     "shell.execute_reply": "2021-03-14T09:13:41.299268Z"
    }
   },
   "outputs": [],
   "source": [
    "dataUrl = f'https://public.tableau.com{tableauData[\"vizql_root\"]}/bootstrapSession/sessions/{tableauData[\"sessionid\"]}'"
   ]
  },
  {
   "cell_type": "code",
   "execution_count": 5,
   "metadata": {
    "execution": {
     "iopub.execute_input": "2021-03-14T09:13:41.305881Z",
     "iopub.status.busy": "2021-03-14T09:13:41.305321Z",
     "iopub.status.idle": "2021-03-14T09:13:41.512066Z",
     "shell.execute_reply": "2021-03-14T09:13:41.511553Z"
    }
   },
   "outputs": [],
   "source": [
    "r = requests.post(dataUrl, data= {\n",
    "    \"sheet_id\": tableauData[\"sheetId\"],\n",
    "})\n",
    "\n",
    "dataReg = re.search('\\d+;({.*})\\d+;({.*})', r.text, re.MULTILINE)\n",
    "data1 = json.loads(dataReg.group(2))\n",
    "\n",
    "dataJson = data1[\"secondaryInfo\"][\"presModelMap\"][\"dataDictionary\"][\"presModelHolder\"][\"genDataDictionaryPresModel\"][\"dataSegments\"][\"0\"][\"dataColumns\"]"
   ]
  },
  {
   "cell_type": "markdown",
   "metadata": {},
   "source": [
    "Isolate what you want"
   ]
  },
  {
   "cell_type": "code",
   "execution_count": 6,
   "metadata": {
    "execution": {
     "iopub.execute_input": "2021-03-14T09:13:41.516542Z",
     "iopub.status.busy": "2021-03-14T09:13:41.515400Z",
     "iopub.status.idle": "2021-03-14T09:13:41.517147Z",
     "shell.execute_reply": "2021-03-14T09:13:41.517595Z"
    }
   },
   "outputs": [],
   "source": [
    "counties = dataJson[2]['dataValues'][:58]"
   ]
  },
  {
   "cell_type": "code",
   "execution_count": 7,
   "metadata": {
    "execution": {
     "iopub.execute_input": "2021-03-14T09:13:41.522019Z",
     "iopub.status.busy": "2021-03-14T09:13:41.520725Z",
     "iopub.status.idle": "2021-03-14T09:13:41.522621Z",
     "shell.execute_reply": "2021-03-14T09:13:41.523054Z"
    }
   },
   "outputs": [],
   "source": [
    "doses = dataJson[0]['dataValues'][3:61]"
   ]
  },
  {
   "cell_type": "markdown",
   "metadata": {},
   "source": [
    "Data formatting"
   ]
  },
  {
   "cell_type": "code",
   "execution_count": 8,
   "metadata": {
    "execution": {
     "iopub.execute_input": "2021-03-14T09:13:41.527307Z",
     "iopub.status.busy": "2021-03-14T09:13:41.526123Z",
     "iopub.status.idle": "2021-03-14T09:13:41.527966Z",
     "shell.execute_reply": "2021-03-14T09:13:41.528393Z"
    }
   },
   "outputs": [],
   "source": [
    "zipped = dict(zip(counties, doses))"
   ]
  },
  {
   "cell_type": "code",
   "execution_count": 9,
   "metadata": {
    "execution": {
     "iopub.execute_input": "2021-03-14T09:13:41.535120Z",
     "iopub.status.busy": "2021-03-14T09:13:41.533818Z",
     "iopub.status.idle": "2021-03-14T09:13:41.535728Z",
     "shell.execute_reply": "2021-03-14T09:13:41.536157Z"
    }
   },
   "outputs": [],
   "source": [
    "df = pd.Series(zipped).reset_index()"
   ]
  },
  {
   "cell_type": "code",
   "execution_count": 10,
   "metadata": {
    "execution": {
     "iopub.execute_input": "2021-03-14T09:13:41.540600Z",
     "iopub.status.busy": "2021-03-14T09:13:41.539479Z",
     "iopub.status.idle": "2021-03-14T09:13:41.541198Z",
     "shell.execute_reply": "2021-03-14T09:13:41.541645Z"
    }
   },
   "outputs": [],
   "source": [
    "df.columns = ['location','doses']"
   ]
  },
  {
   "cell_type": "markdown",
   "metadata": {},
   "source": [
    "Grab the overall California total"
   ]
  },
  {
   "cell_type": "code",
   "execution_count": 11,
   "metadata": {
    "execution": {
     "iopub.execute_input": "2021-03-14T09:13:41.546081Z",
     "iopub.status.busy": "2021-03-14T09:13:41.544841Z",
     "iopub.status.idle": "2021-03-14T09:13:41.546675Z",
     "shell.execute_reply": "2021-03-14T09:13:41.547097Z"
    }
   },
   "outputs": [],
   "source": [
    "add = {'location':'California','doses':dataJson[0]['dataValues'][2]}"
   ]
  },
  {
   "cell_type": "code",
   "execution_count": 12,
   "metadata": {
    "execution": {
     "iopub.execute_input": "2021-03-14T09:13:41.554311Z",
     "iopub.status.busy": "2021-03-14T09:13:41.553013Z",
     "iopub.status.idle": "2021-03-14T09:13:41.554876Z",
     "shell.execute_reply": "2021-03-14T09:13:41.555316Z"
    }
   },
   "outputs": [],
   "source": [
    "df = df.append(add, ignore_index=True)"
   ]
  },
  {
   "cell_type": "code",
   "execution_count": 13,
   "metadata": {
    "execution": {
     "iopub.execute_input": "2021-03-14T09:13:41.560126Z",
     "iopub.status.busy": "2021-03-14T09:13:41.559113Z",
     "iopub.status.idle": "2021-03-14T09:13:41.560831Z",
     "shell.execute_reply": "2021-03-14T09:13:41.561259Z"
    }
   },
   "outputs": [],
   "source": [
    "df = df.sort_values(by='location')"
   ]
  },
  {
   "cell_type": "code",
   "execution_count": 14,
   "metadata": {
    "execution": {
     "iopub.execute_input": "2021-03-14T09:13:41.567494Z",
     "iopub.status.busy": "2021-03-14T09:13:41.566394Z",
     "iopub.status.idle": "2021-03-14T09:13:41.568100Z",
     "shell.execute_reply": "2021-03-14T09:13:41.568495Z"
    }
   },
   "outputs": [],
   "source": [
    "df = df[df.location == 'California'].append(df[df.location != 'California']).reset_index(drop=True)"
   ]
  },
  {
   "cell_type": "code",
   "execution_count": null,
   "metadata": {},
   "outputs": [],
   "source": []
  },
  {
   "cell_type": "code",
   "execution_count": 15,
   "metadata": {
    "execution": {
     "iopub.execute_input": "2021-03-14T09:13:41.571793Z",
     "iopub.status.busy": "2021-03-14T09:13:41.571274Z",
     "iopub.status.idle": "2021-03-14T09:13:41.588060Z",
     "shell.execute_reply": "2021-03-14T09:13:41.588466Z"
    }
   },
   "outputs": [],
   "source": [
    "tz = pytz.timezone(\"America/New_York\")"
   ]
  },
  {
   "cell_type": "code",
   "execution_count": 16,
   "metadata": {
    "execution": {
     "iopub.execute_input": "2021-03-14T09:13:41.592634Z",
     "iopub.status.busy": "2021-03-14T09:13:41.591522Z",
     "iopub.status.idle": "2021-03-14T09:13:41.593227Z",
     "shell.execute_reply": "2021-03-14T09:13:41.593677Z"
    }
   },
   "outputs": [],
   "source": [
    "today = datetime.now(tz).date()"
   ]
  },
  {
   "cell_type": "code",
   "execution_count": 17,
   "metadata": {
    "execution": {
     "iopub.execute_input": "2021-03-14T09:13:41.598005Z",
     "iopub.status.busy": "2021-03-14T09:13:41.596787Z",
     "iopub.status.idle": "2021-03-14T09:13:41.598599Z",
     "shell.execute_reply": "2021-03-14T09:13:41.599025Z"
    }
   },
   "outputs": [],
   "source": [
    "data_dir = os.path.join(os.path.abspath(\"\"), \"data\")"
   ]
  },
  {
   "cell_type": "code",
   "execution_count": 18,
   "metadata": {
    "execution": {
     "iopub.execute_input": "2021-03-14T09:13:41.602747Z",
     "iopub.status.busy": "2021-03-14T09:13:41.602234Z",
     "iopub.status.idle": "2021-03-14T09:13:41.606189Z",
     "shell.execute_reply": "2021-03-14T09:13:41.606586Z"
    }
   },
   "outputs": [],
   "source": [
    "df.to_csv(os.path.join(data_dir, f\"{today}.csv\"), index=False)"
   ]
  },
  {
   "cell_type": "code",
   "execution_count": null,
   "metadata": {},
   "outputs": [],
   "source": []
  }
 ],
 "metadata": {
  "kernelspec": {
   "display_name": "Python 3",
   "language": "python",
   "name": "python3"
  },
  "language_info": {
   "codemirror_mode": {
    "name": "ipython",
    "version": 3
   },
   "file_extension": ".py",
   "mimetype": "text/x-python",
   "name": "python",
   "nbconvert_exporter": "python",
   "pygments_lexer": "ipython3",
   "version": "3.8.8"
  }
 },
 "nbformat": 4,
 "nbformat_minor": 4
}
