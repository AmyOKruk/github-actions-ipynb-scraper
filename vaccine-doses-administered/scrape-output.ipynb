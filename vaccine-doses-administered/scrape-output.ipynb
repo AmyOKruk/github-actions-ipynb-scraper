{
 "cells": [
  {
   "cell_type": "markdown",
   "metadata": {},
   "source": [
    "# California COVID vaccinations scrape"
   ]
  },
  {
   "cell_type": "markdown",
   "metadata": {},
   "source": [
    "By [Amy O'Kruk](https://twitter.com/amyokruk)"
   ]
  },
  {
   "cell_type": "markdown",
   "metadata": {},
   "source": [
    "Downloads data on vaccine doses administered by county and statewide from a Tableau-powered dashboard from the California Department of Public Health."
   ]
  },
  {
   "cell_type": "code",
   "execution_count": 1,
   "metadata": {
    "execution": {
     "iopub.execute_input": "2021-03-10T15:43:43.943082Z",
     "iopub.status.busy": "2021-03-10T15:43:43.942266Z",
     "iopub.status.idle": "2021-03-10T15:43:44.397394Z",
     "shell.execute_reply": "2021-03-10T15:43:44.396255Z"
    }
   },
   "outputs": [],
   "source": [
    "import pandas as pd\n",
    "import requests\n",
    "from bs4 import BeautifulSoup\n",
    "import json\n",
    "import re\n",
    "import time\n",
    "from time import gmtime, strftime \n",
    "import os\n",
    "import pytz\n",
    "from datetime import datetime"
   ]
  },
  {
   "cell_type": "markdown",
   "metadata": {},
   "source": [
    "Scrape the dashboard page"
   ]
  },
  {
   "cell_type": "code",
   "execution_count": 2,
   "metadata": {
    "execution": {
     "iopub.execute_input": "2021-03-10T15:43:44.405223Z",
     "iopub.status.busy": "2021-03-10T15:43:44.401966Z",
     "iopub.status.idle": "2021-03-10T15:43:44.644161Z",
     "shell.execute_reply": "2021-03-10T15:43:44.643566Z"
    }
   },
   "outputs": [],
   "source": [
    "url = \"https://public.tableau.com/interactive/views/COVID-19VaccineDashboardPublic/Vaccine?:embed=y&:showVizHome=n&:apiID=host0\"\n",
    "\n",
    "r = requests.get(url)\n",
    "soup = BeautifulSoup(r.text, \"html.parser\")"
   ]
  },
  {
   "cell_type": "code",
   "execution_count": 3,
   "metadata": {
    "execution": {
     "iopub.execute_input": "2021-03-10T15:43:44.649566Z",
     "iopub.status.busy": "2021-03-10T15:43:44.648922Z",
     "iopub.status.idle": "2021-03-10T15:43:44.653034Z",
     "shell.execute_reply": "2021-03-10T15:43:44.652524Z"
    }
   },
   "outputs": [],
   "source": [
    "tableauData = json.loads(soup.find(\"textarea\",{\"id\": \"tsConfigContainer\"}).text)"
   ]
  },
  {
   "cell_type": "markdown",
   "metadata": {},
   "source": [
    "Get the link to the Tableau data"
   ]
  },
  {
   "cell_type": "code",
   "execution_count": 4,
   "metadata": {
    "execution": {
     "iopub.execute_input": "2021-03-10T15:43:44.658090Z",
     "iopub.status.busy": "2021-03-10T15:43:44.656669Z",
     "iopub.status.idle": "2021-03-10T15:43:44.658913Z",
     "shell.execute_reply": "2021-03-10T15:43:44.659449Z"
    }
   },
   "outputs": [],
   "source": [
    "dataUrl = f'https://public.tableau.com{tableauData[\"vizql_root\"]}/bootstrapSession/sessions/{tableauData[\"sessionid\"]}'"
   ]
  },
  {
   "cell_type": "code",
   "execution_count": 5,
   "metadata": {
    "execution": {
     "iopub.execute_input": "2021-03-10T15:43:44.666617Z",
     "iopub.status.busy": "2021-03-10T15:43:44.665804Z",
     "iopub.status.idle": "2021-03-10T15:43:44.874165Z",
     "shell.execute_reply": "2021-03-10T15:43:44.873539Z"
    }
   },
   "outputs": [],
   "source": [
    "r = requests.post(dataUrl, data= {\n",
    "    \"sheet_id\": tableauData[\"sheetId\"],\n",
    "})\n",
    "\n",
    "dataReg = re.search('\\d+;({.*})\\d+;({.*})', r.text, re.MULTILINE)\n",
    "data1 = json.loads(dataReg.group(2))\n",
    "\n",
    "dataJson = data1[\"secondaryInfo\"][\"presModelMap\"][\"dataDictionary\"][\"presModelHolder\"][\"genDataDictionaryPresModel\"][\"dataSegments\"][\"0\"][\"dataColumns\"]"
   ]
  },
  {
   "cell_type": "markdown",
   "metadata": {},
   "source": [
    "Isolate what you want"
   ]
  },
  {
   "cell_type": "code",
   "execution_count": 6,
   "metadata": {
    "execution": {
     "iopub.execute_input": "2021-03-10T15:43:44.879764Z",
     "iopub.status.busy": "2021-03-10T15:43:44.878112Z",
     "iopub.status.idle": "2021-03-10T15:43:44.880513Z",
     "shell.execute_reply": "2021-03-10T15:43:44.880966Z"
    }
   },
   "outputs": [],
   "source": [
    "counties = dataJson[2]['dataValues'][:58]"
   ]
  },
  {
   "cell_type": "code",
   "execution_count": 7,
   "metadata": {
    "execution": {
     "iopub.execute_input": "2021-03-10T15:43:44.886960Z",
     "iopub.status.busy": "2021-03-10T15:43:44.884425Z",
     "iopub.status.idle": "2021-03-10T15:43:44.887748Z",
     "shell.execute_reply": "2021-03-10T15:43:44.888753Z"
    }
   },
   "outputs": [],
   "source": [
    "doses = dataJson[0]['dataValues'][3:61]"
   ]
  },
  {
   "cell_type": "markdown",
   "metadata": {},
   "source": [
    "Data formatting"
   ]
  },
  {
   "cell_type": "code",
   "execution_count": 8,
   "metadata": {
    "execution": {
     "iopub.execute_input": "2021-03-10T15:43:44.893842Z",
     "iopub.status.busy": "2021-03-10T15:43:44.892383Z",
     "iopub.status.idle": "2021-03-10T15:43:44.894860Z",
     "shell.execute_reply": "2021-03-10T15:43:44.895398Z"
    }
   },
   "outputs": [],
   "source": [
    "zipped = dict(zip(counties, doses))"
   ]
  },
  {
   "cell_type": "code",
   "execution_count": 9,
   "metadata": {
    "execution": {
     "iopub.execute_input": "2021-03-10T15:43:44.903479Z",
     "iopub.status.busy": "2021-03-10T15:43:44.902071Z",
     "iopub.status.idle": "2021-03-10T15:43:44.904567Z",
     "shell.execute_reply": "2021-03-10T15:43:44.905104Z"
    }
   },
   "outputs": [],
   "source": [
    "df = pd.Series(zipped).reset_index()"
   ]
  },
  {
   "cell_type": "code",
   "execution_count": 10,
   "metadata": {
    "execution": {
     "iopub.execute_input": "2021-03-10T15:43:44.910564Z",
     "iopub.status.busy": "2021-03-10T15:43:44.908993Z",
     "iopub.status.idle": "2021-03-10T15:43:44.911297Z",
     "shell.execute_reply": "2021-03-10T15:43:44.911870Z"
    }
   },
   "outputs": [],
   "source": [
    "df.columns = ['location','doses']"
   ]
  },
  {
   "cell_type": "markdown",
   "metadata": {},
   "source": [
    "Grab the overall California total"
   ]
  },
  {
   "cell_type": "code",
   "execution_count": 11,
   "metadata": {
    "execution": {
     "iopub.execute_input": "2021-03-10T15:43:44.917133Z",
     "iopub.status.busy": "2021-03-10T15:43:44.915634Z",
     "iopub.status.idle": "2021-03-10T15:43:44.917853Z",
     "shell.execute_reply": "2021-03-10T15:43:44.918360Z"
    }
   },
   "outputs": [],
   "source": [
    "add = {'location':'California','doses':dataJson[0]['dataValues'][2]}"
   ]
  },
  {
   "cell_type": "code",
   "execution_count": 12,
   "metadata": {
    "execution": {
     "iopub.execute_input": "2021-03-10T15:43:44.925874Z",
     "iopub.status.busy": "2021-03-10T15:43:44.925268Z",
     "iopub.status.idle": "2021-03-10T15:43:44.928185Z",
     "shell.execute_reply": "2021-03-10T15:43:44.927593Z"
    }
   },
   "outputs": [],
   "source": [
    "df = df.append(add, ignore_index=True)"
   ]
  },
  {
   "cell_type": "code",
   "execution_count": 13,
   "metadata": {
    "execution": {
     "iopub.execute_input": "2021-03-10T15:43:44.942914Z",
     "iopub.status.busy": "2021-03-10T15:43:44.939864Z",
     "iopub.status.idle": "2021-03-10T15:43:44.949909Z",
     "shell.execute_reply": "2021-03-10T15:43:44.949365Z"
    }
   },
   "outputs": [],
   "source": [
    "df = df.sort_values(by='location')"
   ]
  },
  {
   "cell_type": "code",
   "execution_count": 14,
   "metadata": {
    "execution": {
     "iopub.execute_input": "2021-03-10T15:43:44.958213Z",
     "iopub.status.busy": "2021-03-10T15:43:44.956687Z",
     "iopub.status.idle": "2021-03-10T15:43:44.958866Z",
     "shell.execute_reply": "2021-03-10T15:43:44.959398Z"
    }
   },
   "outputs": [],
   "source": [
    "df = df[df.location == 'California'].append(df[df.location != 'California']).reset_index(drop=True)"
   ]
  },
  {
   "cell_type": "code",
   "execution_count": null,
   "metadata": {},
   "outputs": [],
   "source": []
  },
  {
   "cell_type": "code",
   "execution_count": 15,
   "metadata": {
    "execution": {
     "iopub.execute_input": "2021-03-10T15:43:44.964080Z",
     "iopub.status.busy": "2021-03-10T15:43:44.963463Z",
     "iopub.status.idle": "2021-03-10T15:43:44.986669Z",
     "shell.execute_reply": "2021-03-10T15:43:44.986043Z"
    }
   },
   "outputs": [],
   "source": [
    "tz = pytz.timezone(\"America/New_York\")"
   ]
  },
  {
   "cell_type": "code",
   "execution_count": 16,
   "metadata": {
    "execution": {
     "iopub.execute_input": "2021-03-10T15:43:44.991873Z",
     "iopub.status.busy": "2021-03-10T15:43:44.990300Z",
     "iopub.status.idle": "2021-03-10T15:43:44.992550Z",
     "shell.execute_reply": "2021-03-10T15:43:44.993059Z"
    }
   },
   "outputs": [],
   "source": [
    "today = datetime.now(tz).date()"
   ]
  },
  {
   "cell_type": "code",
   "execution_count": 17,
   "metadata": {
    "execution": {
     "iopub.execute_input": "2021-03-10T15:43:44.999884Z",
     "iopub.status.busy": "2021-03-10T15:43:44.998045Z",
     "iopub.status.idle": "2021-03-10T15:43:45.000586Z",
     "shell.execute_reply": "2021-03-10T15:43:45.001111Z"
    }
   },
   "outputs": [],
   "source": [
    "data_dir = os.path.join(os.path.abspath(\"\"), \"data\")"
   ]
  },
  {
   "cell_type": "code",
   "execution_count": 18,
   "metadata": {
    "execution": {
     "iopub.execute_input": "2021-03-10T15:43:45.006546Z",
     "iopub.status.busy": "2021-03-10T15:43:45.004981Z",
     "iopub.status.idle": "2021-03-10T15:43:45.010845Z",
     "shell.execute_reply": "2021-03-10T15:43:45.009988Z"
    }
   },
   "outputs": [],
   "source": [
    "df.to_csv(os.path.join(data_dir, f\"{today}.csv\"), index=False)"
   ]
  },
  {
   "cell_type": "code",
   "execution_count": null,
   "metadata": {},
   "outputs": [],
   "source": []
  }
 ],
 "metadata": {
  "kernelspec": {
   "display_name": "Python 3",
   "language": "python",
   "name": "python3"
  },
  "language_info": {
   "codemirror_mode": {
    "name": "ipython",
    "version": 3
   },
   "file_extension": ".py",
   "mimetype": "text/x-python",
   "name": "python",
   "nbconvert_exporter": "python",
   "pygments_lexer": "ipython3",
   "version": "3.8.8"
  }
 },
 "nbformat": 4,
 "nbformat_minor": 4
}
