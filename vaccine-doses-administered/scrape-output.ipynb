{
 "cells": [
  {
   "cell_type": "markdown",
   "metadata": {},
   "source": [
    "# California COVID vaccinations scrape"
   ]
  },
  {
   "cell_type": "markdown",
   "metadata": {},
   "source": [
    "By [Amy O'Kruk](https://twitter.com/amyokruk)"
   ]
  },
  {
   "cell_type": "markdown",
   "metadata": {},
   "source": [
    "Downloads data on vaccine doses administered by county and statewide from a Tableau-powered dashboard from the California Department of Public Health."
   ]
  },
  {
   "cell_type": "code",
   "execution_count": 1,
   "metadata": {
    "execution": {
     "iopub.execute_input": "2021-03-12T11:39:38.495285Z",
     "iopub.status.busy": "2021-03-12T11:39:38.494735Z",
     "iopub.status.idle": "2021-03-12T11:39:39.241888Z",
     "shell.execute_reply": "2021-03-12T11:39:39.241041Z"
    }
   },
   "outputs": [],
   "source": [
    "import pandas as pd\n",
    "import requests\n",
    "from bs4 import BeautifulSoup\n",
    "import json\n",
    "import re\n",
    "import time\n",
    "from time import gmtime, strftime \n",
    "import os\n",
    "import pytz\n",
    "from datetime import datetime"
   ]
  },
  {
   "cell_type": "markdown",
   "metadata": {},
   "source": [
    "Scrape the dashboard page"
   ]
  },
  {
   "cell_type": "code",
   "execution_count": 2,
   "metadata": {
    "execution": {
     "iopub.execute_input": "2021-03-12T11:39:39.247675Z",
     "iopub.status.busy": "2021-03-12T11:39:39.245028Z",
     "iopub.status.idle": "2021-03-12T11:39:39.852603Z",
     "shell.execute_reply": "2021-03-12T11:39:39.852148Z"
    }
   },
   "outputs": [],
   "source": [
    "url = \"https://public.tableau.com/interactive/views/COVID-19VaccineDashboardPublic/Vaccine?:embed=y&:showVizHome=n&:apiID=host0\"\n",
    "\n",
    "r = requests.get(url)\n",
    "soup = BeautifulSoup(r.text, \"html.parser\")"
   ]
  },
  {
   "cell_type": "code",
   "execution_count": 3,
   "metadata": {
    "execution": {
     "iopub.execute_input": "2021-03-12T11:39:39.856639Z",
     "iopub.status.busy": "2021-03-12T11:39:39.856169Z",
     "iopub.status.idle": "2021-03-12T11:39:39.859861Z",
     "shell.execute_reply": "2021-03-12T11:39:39.859252Z"
    }
   },
   "outputs": [],
   "source": [
    "tableauData = json.loads(soup.find(\"textarea\",{\"id\": \"tsConfigContainer\"}).text)"
   ]
  },
  {
   "cell_type": "markdown",
   "metadata": {},
   "source": [
    "Get the link to the Tableau data"
   ]
  },
  {
   "cell_type": "code",
   "execution_count": 4,
   "metadata": {
    "execution": {
     "iopub.execute_input": "2021-03-12T11:39:39.863306Z",
     "iopub.status.busy": "2021-03-12T11:39:39.862769Z",
     "iopub.status.idle": "2021-03-12T11:39:39.865881Z",
     "shell.execute_reply": "2021-03-12T11:39:39.866261Z"
    }
   },
   "outputs": [],
   "source": [
    "dataUrl = f'https://public.tableau.com{tableauData[\"vizql_root\"]}/bootstrapSession/sessions/{tableauData[\"sessionid\"]}'"
   ]
  },
  {
   "cell_type": "code",
   "execution_count": 5,
   "metadata": {
    "execution": {
     "iopub.execute_input": "2021-03-12T11:39:39.872250Z",
     "iopub.status.busy": "2021-03-12T11:39:39.871371Z",
     "iopub.status.idle": "2021-03-12T11:39:40.236989Z",
     "shell.execute_reply": "2021-03-12T11:39:40.236538Z"
    }
   },
   "outputs": [],
   "source": [
    "r = requests.post(dataUrl, data= {\n",
    "    \"sheet_id\": tableauData[\"sheetId\"],\n",
    "})\n",
    "\n",
    "dataReg = re.search('\\d+;({.*})\\d+;({.*})', r.text, re.MULTILINE)\n",
    "data1 = json.loads(dataReg.group(2))\n",
    "\n",
    "dataJson = data1[\"secondaryInfo\"][\"presModelMap\"][\"dataDictionary\"][\"presModelHolder\"][\"genDataDictionaryPresModel\"][\"dataSegments\"][\"0\"][\"dataColumns\"]"
   ]
  },
  {
   "cell_type": "markdown",
   "metadata": {},
   "source": [
    "Isolate what you want"
   ]
  },
  {
   "cell_type": "code",
   "execution_count": 6,
   "metadata": {
    "execution": {
     "iopub.execute_input": "2021-03-12T11:39:40.240480Z",
     "iopub.status.busy": "2021-03-12T11:39:40.239857Z",
     "iopub.status.idle": "2021-03-12T11:39:40.244026Z",
     "shell.execute_reply": "2021-03-12T11:39:40.243582Z"
    }
   },
   "outputs": [],
   "source": [
    "counties = dataJson[2]['dataValues'][:58]"
   ]
  },
  {
   "cell_type": "code",
   "execution_count": 7,
   "metadata": {
    "execution": {
     "iopub.execute_input": "2021-03-12T11:39:40.247530Z",
     "iopub.status.busy": "2021-03-12T11:39:40.246965Z",
     "iopub.status.idle": "2021-03-12T11:39:40.250391Z",
     "shell.execute_reply": "2021-03-12T11:39:40.250790Z"
    }
   },
   "outputs": [],
   "source": [
    "doses = dataJson[0]['dataValues'][3:61]"
   ]
  },
  {
   "cell_type": "markdown",
   "metadata": {},
   "source": [
    "Data formatting"
   ]
  },
  {
   "cell_type": "code",
   "execution_count": 8,
   "metadata": {
    "execution": {
     "iopub.execute_input": "2021-03-12T11:39:40.254522Z",
     "iopub.status.busy": "2021-03-12T11:39:40.254040Z",
     "iopub.status.idle": "2021-03-12T11:39:40.257496Z",
     "shell.execute_reply": "2021-03-12T11:39:40.257880Z"
    }
   },
   "outputs": [],
   "source": [
    "zipped = dict(zip(counties, doses))"
   ]
  },
  {
   "cell_type": "code",
   "execution_count": 9,
   "metadata": {
    "execution": {
     "iopub.execute_input": "2021-03-12T11:39:40.263769Z",
     "iopub.status.busy": "2021-03-12T11:39:40.263095Z",
     "iopub.status.idle": "2021-03-12T11:39:40.267494Z",
     "shell.execute_reply": "2021-03-12T11:39:40.266979Z"
    }
   },
   "outputs": [],
   "source": [
    "df = pd.Series(zipped).reset_index()"
   ]
  },
  {
   "cell_type": "code",
   "execution_count": 10,
   "metadata": {
    "execution": {
     "iopub.execute_input": "2021-03-12T11:39:40.271159Z",
     "iopub.status.busy": "2021-03-12T11:39:40.270643Z",
     "iopub.status.idle": "2021-03-12T11:39:40.273841Z",
     "shell.execute_reply": "2021-03-12T11:39:40.274226Z"
    }
   },
   "outputs": [],
   "source": [
    "df.columns = ['location','doses']"
   ]
  },
  {
   "cell_type": "markdown",
   "metadata": {},
   "source": [
    "Grab the overall California total"
   ]
  },
  {
   "cell_type": "code",
   "execution_count": 11,
   "metadata": {
    "execution": {
     "iopub.execute_input": "2021-03-12T11:39:40.278860Z",
     "iopub.status.busy": "2021-03-12T11:39:40.277557Z",
     "iopub.status.idle": "2021-03-12T11:39:40.279434Z",
     "shell.execute_reply": "2021-03-12T11:39:40.280027Z"
    }
   },
   "outputs": [],
   "source": [
    "add = {'location':'California','doses':dataJson[0]['dataValues'][2]}"
   ]
  },
  {
   "cell_type": "code",
   "execution_count": 12,
   "metadata": {
    "execution": {
     "iopub.execute_input": "2021-03-12T11:39:40.287625Z",
     "iopub.status.busy": "2021-03-12T11:39:40.286604Z",
     "iopub.status.idle": "2021-03-12T11:39:40.288615Z",
     "shell.execute_reply": "2021-03-12T11:39:40.289021Z"
    }
   },
   "outputs": [],
   "source": [
    "df = df.append(add, ignore_index=True)"
   ]
  },
  {
   "cell_type": "code",
   "execution_count": 13,
   "metadata": {
    "execution": {
     "iopub.execute_input": "2021-03-12T11:39:40.294821Z",
     "iopub.status.busy": "2021-03-12T11:39:40.293580Z",
     "iopub.status.idle": "2021-03-12T11:39:40.295448Z",
     "shell.execute_reply": "2021-03-12T11:39:40.296080Z"
    }
   },
   "outputs": [],
   "source": [
    "df = df.sort_values(by='location')"
   ]
  },
  {
   "cell_type": "code",
   "execution_count": 14,
   "metadata": {
    "execution": {
     "iopub.execute_input": "2021-03-12T11:39:40.302308Z",
     "iopub.status.busy": "2021-03-12T11:39:40.301403Z",
     "iopub.status.idle": "2021-03-12T11:39:40.303168Z",
     "shell.execute_reply": "2021-03-12T11:39:40.303670Z"
    }
   },
   "outputs": [],
   "source": [
    "df = df[df.location == 'California'].append(df[df.location != 'California']).reset_index(drop=True)"
   ]
  },
  {
   "cell_type": "code",
   "execution_count": null,
   "metadata": {},
   "outputs": [],
   "source": []
  },
  {
   "cell_type": "code",
   "execution_count": 15,
   "metadata": {
    "execution": {
     "iopub.execute_input": "2021-03-12T11:39:40.307111Z",
     "iopub.status.busy": "2021-03-12T11:39:40.306204Z",
     "iopub.status.idle": "2021-03-12T11:39:40.322845Z",
     "shell.execute_reply": "2021-03-12T11:39:40.323217Z"
    }
   },
   "outputs": [],
   "source": [
    "tz = pytz.timezone(\"America/New_York\")"
   ]
  },
  {
   "cell_type": "code",
   "execution_count": 16,
   "metadata": {
    "execution": {
     "iopub.execute_input": "2021-03-12T11:39:40.326781Z",
     "iopub.status.busy": "2021-03-12T11:39:40.325938Z",
     "iopub.status.idle": "2021-03-12T11:39:40.327739Z",
     "shell.execute_reply": "2021-03-12T11:39:40.328293Z"
    }
   },
   "outputs": [],
   "source": [
    "today = datetime.now(tz).date()"
   ]
  },
  {
   "cell_type": "code",
   "execution_count": 17,
   "metadata": {
    "execution": {
     "iopub.execute_input": "2021-03-12T11:39:40.332850Z",
     "iopub.status.busy": "2021-03-12T11:39:40.331689Z",
     "iopub.status.idle": "2021-03-12T11:39:40.333462Z",
     "shell.execute_reply": "2021-03-12T11:39:40.333933Z"
    }
   },
   "outputs": [],
   "source": [
    "data_dir = os.path.join(os.path.abspath(\"\"), \"data\")"
   ]
  },
  {
   "cell_type": "code",
   "execution_count": 18,
   "metadata": {
    "execution": {
     "iopub.execute_input": "2021-03-12T11:39:40.338618Z",
     "iopub.status.busy": "2021-03-12T11:39:40.337284Z",
     "iopub.status.idle": "2021-03-12T11:39:40.342117Z",
     "shell.execute_reply": "2021-03-12T11:39:40.341688Z"
    }
   },
   "outputs": [],
   "source": [
    "df.to_csv(os.path.join(data_dir, f\"{today}.csv\"), index=False)"
   ]
  },
  {
   "cell_type": "code",
   "execution_count": null,
   "metadata": {},
   "outputs": [],
   "source": []
  }
 ],
 "metadata": {
  "kernelspec": {
   "display_name": "Python 3",
   "language": "python",
   "name": "python3"
  },
  "language_info": {
   "codemirror_mode": {
    "name": "ipython",
    "version": 3
   },
   "file_extension": ".py",
   "mimetype": "text/x-python",
   "name": "python",
   "nbconvert_exporter": "python",
   "pygments_lexer": "ipython3",
   "version": "3.8.8"
  }
 },
 "nbformat": 4,
 "nbformat_minor": 4
}
