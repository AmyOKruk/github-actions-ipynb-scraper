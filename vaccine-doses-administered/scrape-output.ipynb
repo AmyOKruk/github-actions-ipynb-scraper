{
 "cells": [
  {
   "cell_type": "markdown",
   "metadata": {},
   "source": [
    "# California COVID vaccinations scrape"
   ]
  },
  {
   "cell_type": "markdown",
   "metadata": {},
   "source": [
    "By [Amy O'Kruk](https://twitter.com/amyokruk)"
   ]
  },
  {
   "cell_type": "markdown",
   "metadata": {},
   "source": [
    "Downloads data on vaccine doses administered by county and statewide from a Tableau-powered dashboard from the California Department of Public Health."
   ]
  },
  {
   "cell_type": "code",
   "execution_count": 1,
   "metadata": {
    "execution": {
     "iopub.execute_input": "2021-03-23T05:44:56.082267Z",
     "iopub.status.busy": "2021-03-23T05:44:56.081497Z",
     "iopub.status.idle": "2021-03-23T05:44:56.561867Z",
     "shell.execute_reply": "2021-03-23T05:44:56.558744Z"
    }
   },
   "outputs": [],
   "source": [
    "import pandas as pd\n",
    "import requests\n",
    "from bs4 import BeautifulSoup\n",
    "import json\n",
    "import re\n",
    "import time\n",
    "from time import gmtime, strftime \n",
    "import os\n",
    "import pytz\n",
    "from datetime import datetime"
   ]
  },
  {
   "cell_type": "markdown",
   "metadata": {},
   "source": [
    "Scrape the dashboard page"
   ]
  },
  {
   "cell_type": "code",
   "execution_count": 2,
   "metadata": {
    "execution": {
     "iopub.execute_input": "2021-03-23T05:44:56.568769Z",
     "iopub.status.busy": "2021-03-23T05:44:56.566722Z",
     "iopub.status.idle": "2021-03-23T05:44:56.874649Z",
     "shell.execute_reply": "2021-03-23T05:44:56.875098Z"
    }
   },
   "outputs": [],
   "source": [
    "url = \"https://public.tableau.com/interactive/views/COVID-19VaccineDashboardPublic/Vaccine?:embed=y&:showVizHome=n&:apiID=host0\"\n",
    "\n",
    "r = requests.get(url)\n",
    "soup = BeautifulSoup(r.text, \"html.parser\")"
   ]
  },
  {
   "cell_type": "code",
   "execution_count": 3,
   "metadata": {
    "execution": {
     "iopub.execute_input": "2021-03-23T05:44:56.880678Z",
     "iopub.status.busy": "2021-03-23T05:44:56.880029Z",
     "iopub.status.idle": "2021-03-23T05:44:56.883517Z",
     "shell.execute_reply": "2021-03-23T05:44:56.884041Z"
    }
   },
   "outputs": [],
   "source": [
    "tableauData = json.loads(soup.find(\"textarea\",{\"id\": \"tsConfigContainer\"}).text)"
   ]
  },
  {
   "cell_type": "markdown",
   "metadata": {},
   "source": [
    "Get the link to the Tableau data"
   ]
  },
  {
   "cell_type": "code",
   "execution_count": 4,
   "metadata": {
    "execution": {
     "iopub.execute_input": "2021-03-23T05:44:56.889056Z",
     "iopub.status.busy": "2021-03-23T05:44:56.887576Z",
     "iopub.status.idle": "2021-03-23T05:44:56.889791Z",
     "shell.execute_reply": "2021-03-23T05:44:56.890276Z"
    }
   },
   "outputs": [],
   "source": [
    "dataUrl = f'https://public.tableau.com{tableauData[\"vizql_root\"]}/bootstrapSession/sessions/{tableauData[\"sessionid\"]}'"
   ]
  },
  {
   "cell_type": "code",
   "execution_count": 5,
   "metadata": {
    "execution": {
     "iopub.execute_input": "2021-03-23T05:44:56.897246Z",
     "iopub.status.busy": "2021-03-23T05:44:56.896612Z",
     "iopub.status.idle": "2021-03-23T05:44:57.157059Z",
     "shell.execute_reply": "2021-03-23T05:44:57.156507Z"
    }
   },
   "outputs": [],
   "source": [
    "r = requests.post(dataUrl, data= {\n",
    "    \"sheet_id\": tableauData[\"sheetId\"],\n",
    "})\n",
    "\n",
    "dataReg = re.search('\\d+;({.*})\\d+;({.*})', r.text, re.MULTILINE)\n",
    "data1 = json.loads(dataReg.group(2))\n",
    "\n",
    "dataJson = data1[\"secondaryInfo\"][\"presModelMap\"][\"dataDictionary\"][\"presModelHolder\"][\"genDataDictionaryPresModel\"][\"dataSegments\"][\"0\"][\"dataColumns\"]"
   ]
  },
  {
   "cell_type": "markdown",
   "metadata": {},
   "source": [
    "Isolate what you want"
   ]
  },
  {
   "cell_type": "code",
   "execution_count": 6,
   "metadata": {
    "execution": {
     "iopub.execute_input": "2021-03-23T05:44:57.161395Z",
     "iopub.status.busy": "2021-03-23T05:44:57.160813Z",
     "iopub.status.idle": "2021-03-23T05:44:57.163763Z",
     "shell.execute_reply": "2021-03-23T05:44:57.162932Z"
    }
   },
   "outputs": [],
   "source": [
    "counties = dataJson[2]['dataValues'][:58]"
   ]
  },
  {
   "cell_type": "code",
   "execution_count": 7,
   "metadata": {
    "execution": {
     "iopub.execute_input": "2021-03-23T05:44:57.167640Z",
     "iopub.status.busy": "2021-03-23T05:44:57.167022Z",
     "iopub.status.idle": "2021-03-23T05:44:57.170053Z",
     "shell.execute_reply": "2021-03-23T05:44:57.170639Z"
    }
   },
   "outputs": [],
   "source": [
    "doses = dataJson[0]['dataValues'][3:61]"
   ]
  },
  {
   "cell_type": "markdown",
   "metadata": {},
   "source": [
    "Data formatting"
   ]
  },
  {
   "cell_type": "code",
   "execution_count": 8,
   "metadata": {
    "execution": {
     "iopub.execute_input": "2021-03-23T05:44:57.176979Z",
     "iopub.status.busy": "2021-03-23T05:44:57.176305Z",
     "iopub.status.idle": "2021-03-23T05:44:57.180367Z",
     "shell.execute_reply": "2021-03-23T05:44:57.179851Z"
    }
   },
   "outputs": [],
   "source": [
    "zipped = dict(zip(counties, doses))"
   ]
  },
  {
   "cell_type": "code",
   "execution_count": 9,
   "metadata": {
    "execution": {
     "iopub.execute_input": "2021-03-23T05:44:57.187822Z",
     "iopub.status.busy": "2021-03-23T05:44:57.187248Z",
     "iopub.status.idle": "2021-03-23T05:44:57.189431Z",
     "shell.execute_reply": "2021-03-23T05:44:57.189904Z"
    }
   },
   "outputs": [],
   "source": [
    "df = pd.Series(zipped).reset_index()"
   ]
  },
  {
   "cell_type": "code",
   "execution_count": 10,
   "metadata": {
    "execution": {
     "iopub.execute_input": "2021-03-23T05:44:57.194735Z",
     "iopub.status.busy": "2021-03-23T05:44:57.193548Z",
     "iopub.status.idle": "2021-03-23T05:44:57.196246Z",
     "shell.execute_reply": "2021-03-23T05:44:57.196843Z"
    }
   },
   "outputs": [],
   "source": [
    "df.columns = ['location','doses']"
   ]
  },
  {
   "cell_type": "markdown",
   "metadata": {},
   "source": [
    "Grab the overall California total"
   ]
  },
  {
   "cell_type": "code",
   "execution_count": 11,
   "metadata": {
    "execution": {
     "iopub.execute_input": "2021-03-23T05:44:57.202474Z",
     "iopub.status.busy": "2021-03-23T05:44:57.201112Z",
     "iopub.status.idle": "2021-03-23T05:44:57.203123Z",
     "shell.execute_reply": "2021-03-23T05:44:57.203626Z"
    }
   },
   "outputs": [],
   "source": [
    "add = {'location':'California','doses':dataJson[0]['dataValues'][2]}"
   ]
  },
  {
   "cell_type": "code",
   "execution_count": 12,
   "metadata": {
    "execution": {
     "iopub.execute_input": "2021-03-23T05:44:57.212621Z",
     "iopub.status.busy": "2021-03-23T05:44:57.211099Z",
     "iopub.status.idle": "2021-03-23T05:44:57.213316Z",
     "shell.execute_reply": "2021-03-23T05:44:57.213834Z"
    }
   },
   "outputs": [],
   "source": [
    "df = df.append(add, ignore_index=True)"
   ]
  },
  {
   "cell_type": "code",
   "execution_count": 13,
   "metadata": {
    "execution": {
     "iopub.execute_input": "2021-03-23T05:44:57.220210Z",
     "iopub.status.busy": "2021-03-23T05:44:57.218767Z",
     "iopub.status.idle": "2021-03-23T05:44:57.220950Z",
     "shell.execute_reply": "2021-03-23T05:44:57.221480Z"
    }
   },
   "outputs": [],
   "source": [
    "df = df.sort_values(by='location')"
   ]
  },
  {
   "cell_type": "code",
   "execution_count": 14,
   "metadata": {
    "execution": {
     "iopub.execute_input": "2021-03-23T05:44:57.230368Z",
     "iopub.status.busy": "2021-03-23T05:44:57.229643Z",
     "iopub.status.idle": "2021-03-23T05:44:57.231697Z",
     "shell.execute_reply": "2021-03-23T05:44:57.231094Z"
    }
   },
   "outputs": [],
   "source": [
    "df = df[df.location == 'California'].append(df[df.location != 'California']).reset_index(drop=True)"
   ]
  },
  {
   "cell_type": "code",
   "execution_count": null,
   "metadata": {},
   "outputs": [],
   "source": []
  },
  {
   "cell_type": "code",
   "execution_count": 15,
   "metadata": {
    "execution": {
     "iopub.execute_input": "2021-03-23T05:44:57.235618Z",
     "iopub.status.busy": "2021-03-23T05:44:57.235038Z",
     "iopub.status.idle": "2021-03-23T05:44:57.257183Z",
     "shell.execute_reply": "2021-03-23T05:44:57.256585Z"
    }
   },
   "outputs": [],
   "source": [
    "tz = pytz.timezone(\"America/New_York\")"
   ]
  },
  {
   "cell_type": "code",
   "execution_count": 16,
   "metadata": {
    "execution": {
     "iopub.execute_input": "2021-03-23T05:44:57.262889Z",
     "iopub.status.busy": "2021-03-23T05:44:57.261196Z",
     "iopub.status.idle": "2021-03-23T05:44:57.263589Z",
     "shell.execute_reply": "2021-03-23T05:44:57.264187Z"
    }
   },
   "outputs": [],
   "source": [
    "today = datetime.now(tz).date()"
   ]
  },
  {
   "cell_type": "code",
   "execution_count": 17,
   "metadata": {
    "execution": {
     "iopub.execute_input": "2021-03-23T05:44:57.269809Z",
     "iopub.status.busy": "2021-03-23T05:44:57.268242Z",
     "iopub.status.idle": "2021-03-23T05:44:57.270488Z",
     "shell.execute_reply": "2021-03-23T05:44:57.271057Z"
    }
   },
   "outputs": [],
   "source": [
    "data_dir = os.path.join(os.path.abspath(\"\"), \"data\")"
   ]
  },
  {
   "cell_type": "code",
   "execution_count": 18,
   "metadata": {
    "execution": {
     "iopub.execute_input": "2021-03-23T05:44:57.275440Z",
     "iopub.status.busy": "2021-03-23T05:44:57.274836Z",
     "iopub.status.idle": "2021-03-23T05:44:57.279640Z",
     "shell.execute_reply": "2021-03-23T05:44:57.280150Z"
    }
   },
   "outputs": [],
   "source": [
    "df.to_csv(os.path.join(data_dir, f\"{today}.csv\"), index=False)"
   ]
  },
  {
   "cell_type": "code",
   "execution_count": null,
   "metadata": {},
   "outputs": [],
   "source": []
  }
 ],
 "metadata": {
  "kernelspec": {
   "display_name": "Python 3",
   "language": "python",
   "name": "python3"
  },
  "language_info": {
   "codemirror_mode": {
    "name": "ipython",
    "version": 3
   },
   "file_extension": ".py",
   "mimetype": "text/x-python",
   "name": "python",
   "nbconvert_exporter": "python",
   "pygments_lexer": "ipython3",
   "version": "3.8.8"
  }
 },
 "nbformat": 4,
 "nbformat_minor": 4
}
