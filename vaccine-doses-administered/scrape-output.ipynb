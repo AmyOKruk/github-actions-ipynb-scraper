{
 "cells": [
  {
   "cell_type": "markdown",
   "metadata": {},
   "source": [
    "# California COVID vaccinations scrape"
   ]
  },
  {
   "cell_type": "markdown",
   "metadata": {},
   "source": [
    "By [Amy O'Kruk](https://twitter.com/amyokruk)"
   ]
  },
  {
   "cell_type": "markdown",
   "metadata": {},
   "source": [
    "Downloads data on vaccine doses administered by county and statewide from a Tableau-powered dashboard from the California Department of Public Health."
   ]
  },
  {
   "cell_type": "code",
   "execution_count": 1,
   "metadata": {
    "execution": {
     "iopub.execute_input": "2021-03-17T20:40:55.385235Z",
     "iopub.status.busy": "2021-03-17T20:40:55.384222Z",
     "iopub.status.idle": "2021-03-17T20:40:55.882869Z",
     "shell.execute_reply": "2021-03-17T20:40:55.882236Z"
    }
   },
   "outputs": [],
   "source": [
    "import pandas as pd\n",
    "import requests\n",
    "from bs4 import BeautifulSoup\n",
    "import json\n",
    "import re\n",
    "import time\n",
    "from time import gmtime, strftime \n",
    "import os\n",
    "import pytz\n",
    "from datetime import datetime"
   ]
  },
  {
   "cell_type": "markdown",
   "metadata": {},
   "source": [
    "Scrape the dashboard page"
   ]
  },
  {
   "cell_type": "code",
   "execution_count": 2,
   "metadata": {
    "execution": {
     "iopub.execute_input": "2021-03-17T20:40:55.889466Z",
     "iopub.status.busy": "2021-03-17T20:40:55.888863Z",
     "iopub.status.idle": "2021-03-17T20:40:56.562142Z",
     "shell.execute_reply": "2021-03-17T20:40:56.561077Z"
    }
   },
   "outputs": [],
   "source": [
    "url = \"https://public.tableau.com/interactive/views/COVID-19VaccineDashboardPublic/Vaccine?:embed=y&:showVizHome=n&:apiID=host0\"\n",
    "\n",
    "r = requests.get(url)\n",
    "soup = BeautifulSoup(r.text, \"html.parser\")"
   ]
  },
  {
   "cell_type": "code",
   "execution_count": 3,
   "metadata": {
    "execution": {
     "iopub.execute_input": "2021-03-17T20:40:56.568800Z",
     "iopub.status.busy": "2021-03-17T20:40:56.568287Z",
     "iopub.status.idle": "2021-03-17T20:40:56.570805Z",
     "shell.execute_reply": "2021-03-17T20:40:56.570367Z"
    }
   },
   "outputs": [],
   "source": [
    "tableauData = json.loads(soup.find(\"textarea\",{\"id\": \"tsConfigContainer\"}).text)"
   ]
  },
  {
   "cell_type": "markdown",
   "metadata": {},
   "source": [
    "Get the link to the Tableau data"
   ]
  },
  {
   "cell_type": "code",
   "execution_count": 4,
   "metadata": {
    "execution": {
     "iopub.execute_input": "2021-03-17T20:40:56.574190Z",
     "iopub.status.busy": "2021-03-17T20:40:56.573717Z",
     "iopub.status.idle": "2021-03-17T20:40:56.576938Z",
     "shell.execute_reply": "2021-03-17T20:40:56.576506Z"
    }
   },
   "outputs": [],
   "source": [
    "dataUrl = f'https://public.tableau.com{tableauData[\"vizql_root\"]}/bootstrapSession/sessions/{tableauData[\"sessionid\"]}'"
   ]
  },
  {
   "cell_type": "code",
   "execution_count": 5,
   "metadata": {
    "execution": {
     "iopub.execute_input": "2021-03-17T20:40:56.583167Z",
     "iopub.status.busy": "2021-03-17T20:40:56.582654Z",
     "iopub.status.idle": "2021-03-17T20:40:56.872380Z",
     "shell.execute_reply": "2021-03-17T20:40:56.871407Z"
    }
   },
   "outputs": [],
   "source": [
    "r = requests.post(dataUrl, data= {\n",
    "    \"sheet_id\": tableauData[\"sheetId\"],\n",
    "})\n",
    "\n",
    "dataReg = re.search('\\d+;({.*})\\d+;({.*})', r.text, re.MULTILINE)\n",
    "data1 = json.loads(dataReg.group(2))\n",
    "\n",
    "dataJson = data1[\"secondaryInfo\"][\"presModelMap\"][\"dataDictionary\"][\"presModelHolder\"][\"genDataDictionaryPresModel\"][\"dataSegments\"][\"0\"][\"dataColumns\"]"
   ]
  },
  {
   "cell_type": "markdown",
   "metadata": {},
   "source": [
    "Isolate what you want"
   ]
  },
  {
   "cell_type": "code",
   "execution_count": 6,
   "metadata": {
    "execution": {
     "iopub.execute_input": "2021-03-17T20:40:56.875844Z",
     "iopub.status.busy": "2021-03-17T20:40:56.875362Z",
     "iopub.status.idle": "2021-03-17T20:40:56.878575Z",
     "shell.execute_reply": "2021-03-17T20:40:56.878146Z"
    }
   },
   "outputs": [],
   "source": [
    "counties = dataJson[2]['dataValues'][:58]"
   ]
  },
  {
   "cell_type": "code",
   "execution_count": 7,
   "metadata": {
    "execution": {
     "iopub.execute_input": "2021-03-17T20:40:56.882740Z",
     "iopub.status.busy": "2021-03-17T20:40:56.881637Z",
     "iopub.status.idle": "2021-03-17T20:40:56.883377Z",
     "shell.execute_reply": "2021-03-17T20:40:56.883785Z"
    }
   },
   "outputs": [],
   "source": [
    "doses = dataJson[0]['dataValues'][3:61]"
   ]
  },
  {
   "cell_type": "markdown",
   "metadata": {},
   "source": [
    "Data formatting"
   ]
  },
  {
   "cell_type": "code",
   "execution_count": 8,
   "metadata": {
    "execution": {
     "iopub.execute_input": "2021-03-17T20:40:56.887534Z",
     "iopub.status.busy": "2021-03-17T20:40:56.886466Z",
     "iopub.status.idle": "2021-03-17T20:40:56.888210Z",
     "shell.execute_reply": "2021-03-17T20:40:56.888635Z"
    }
   },
   "outputs": [],
   "source": [
    "zipped = dict(zip(counties, doses))"
   ]
  },
  {
   "cell_type": "code",
   "execution_count": 9,
   "metadata": {
    "execution": {
     "iopub.execute_input": "2021-03-17T20:40:56.894544Z",
     "iopub.status.busy": "2021-03-17T20:40:56.893475Z",
     "iopub.status.idle": "2021-03-17T20:40:56.895161Z",
     "shell.execute_reply": "2021-03-17T20:40:56.895579Z"
    }
   },
   "outputs": [],
   "source": [
    "df = pd.Series(zipped).reset_index()"
   ]
  },
  {
   "cell_type": "code",
   "execution_count": 10,
   "metadata": {
    "execution": {
     "iopub.execute_input": "2021-03-17T20:40:56.899829Z",
     "iopub.status.busy": "2021-03-17T20:40:56.898738Z",
     "iopub.status.idle": "2021-03-17T20:40:56.900443Z",
     "shell.execute_reply": "2021-03-17T20:40:56.900832Z"
    }
   },
   "outputs": [],
   "source": [
    "df.columns = ['location','doses']"
   ]
  },
  {
   "cell_type": "markdown",
   "metadata": {},
   "source": [
    "Grab the overall California total"
   ]
  },
  {
   "cell_type": "code",
   "execution_count": 11,
   "metadata": {
    "execution": {
     "iopub.execute_input": "2021-03-17T20:40:56.904893Z",
     "iopub.status.busy": "2021-03-17T20:40:56.903826Z",
     "iopub.status.idle": "2021-03-17T20:40:56.905444Z",
     "shell.execute_reply": "2021-03-17T20:40:56.905833Z"
    }
   },
   "outputs": [],
   "source": [
    "add = {'location':'California','doses':dataJson[0]['dataValues'][2]}"
   ]
  },
  {
   "cell_type": "code",
   "execution_count": 12,
   "metadata": {
    "execution": {
     "iopub.execute_input": "2021-03-17T20:40:56.912404Z",
     "iopub.status.busy": "2021-03-17T20:40:56.911227Z",
     "iopub.status.idle": "2021-03-17T20:40:56.912996Z",
     "shell.execute_reply": "2021-03-17T20:40:56.913415Z"
    }
   },
   "outputs": [],
   "source": [
    "df = df.append(add, ignore_index=True)"
   ]
  },
  {
   "cell_type": "code",
   "execution_count": 13,
   "metadata": {
    "execution": {
     "iopub.execute_input": "2021-03-17T20:40:56.918248Z",
     "iopub.status.busy": "2021-03-17T20:40:56.917105Z",
     "iopub.status.idle": "2021-03-17T20:40:56.918915Z",
     "shell.execute_reply": "2021-03-17T20:40:56.919326Z"
    }
   },
   "outputs": [],
   "source": [
    "df = df.sort_values(by='location')"
   ]
  },
  {
   "cell_type": "code",
   "execution_count": 14,
   "metadata": {
    "execution": {
     "iopub.execute_input": "2021-03-17T20:40:56.925324Z",
     "iopub.status.busy": "2021-03-17T20:40:56.924217Z",
     "iopub.status.idle": "2021-03-17T20:40:56.925897Z",
     "shell.execute_reply": "2021-03-17T20:40:56.926287Z"
    }
   },
   "outputs": [],
   "source": [
    "df = df[df.location == 'California'].append(df[df.location != 'California']).reset_index(drop=True)"
   ]
  },
  {
   "cell_type": "code",
   "execution_count": null,
   "metadata": {},
   "outputs": [],
   "source": []
  },
  {
   "cell_type": "code",
   "execution_count": 15,
   "metadata": {
    "execution": {
     "iopub.execute_input": "2021-03-17T20:40:56.929625Z",
     "iopub.status.busy": "2021-03-17T20:40:56.929115Z",
     "iopub.status.idle": "2021-03-17T20:40:56.945869Z",
     "shell.execute_reply": "2021-03-17T20:40:56.945380Z"
    }
   },
   "outputs": [],
   "source": [
    "tz = pytz.timezone(\"America/New_York\")"
   ]
  },
  {
   "cell_type": "code",
   "execution_count": 16,
   "metadata": {
    "execution": {
     "iopub.execute_input": "2021-03-17T20:40:56.950131Z",
     "iopub.status.busy": "2021-03-17T20:40:56.948910Z",
     "iopub.status.idle": "2021-03-17T20:40:56.950775Z",
     "shell.execute_reply": "2021-03-17T20:40:56.951266Z"
    }
   },
   "outputs": [],
   "source": [
    "today = datetime.now(tz).date()"
   ]
  },
  {
   "cell_type": "code",
   "execution_count": 17,
   "metadata": {
    "execution": {
     "iopub.execute_input": "2021-03-17T20:40:56.955349Z",
     "iopub.status.busy": "2021-03-17T20:40:56.954235Z",
     "iopub.status.idle": "2021-03-17T20:40:56.955954Z",
     "shell.execute_reply": "2021-03-17T20:40:56.956387Z"
    }
   },
   "outputs": [],
   "source": [
    "data_dir = os.path.join(os.path.abspath(\"\"), \"data\")"
   ]
  },
  {
   "cell_type": "code",
   "execution_count": 18,
   "metadata": {
    "execution": {
     "iopub.execute_input": "2021-03-17T20:40:56.960519Z",
     "iopub.status.busy": "2021-03-17T20:40:56.959468Z",
     "iopub.status.idle": "2021-03-17T20:40:56.963809Z",
     "shell.execute_reply": "2021-03-17T20:40:56.963290Z"
    }
   },
   "outputs": [],
   "source": [
    "df.to_csv(os.path.join(data_dir, f\"{today}.csv\"), index=False)"
   ]
  },
  {
   "cell_type": "code",
   "execution_count": null,
   "metadata": {},
   "outputs": [],
   "source": []
  }
 ],
 "metadata": {
  "kernelspec": {
   "display_name": "Python 3",
   "language": "python",
   "name": "python3"
  },
  "language_info": {
   "codemirror_mode": {
    "name": "ipython",
    "version": 3
   },
   "file_extension": ".py",
   "mimetype": "text/x-python",
   "name": "python",
   "nbconvert_exporter": "python",
   "pygments_lexer": "ipython3",
   "version": "3.8.8"
  }
 },
 "nbformat": 4,
 "nbformat_minor": 4
}
