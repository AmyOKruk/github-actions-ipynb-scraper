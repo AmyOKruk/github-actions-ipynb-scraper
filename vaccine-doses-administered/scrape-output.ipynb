{
 "cells": [
  {
   "cell_type": "markdown",
   "metadata": {},
   "source": [
    "# California COVID vaccinations scrape"
   ]
  },
  {
   "cell_type": "markdown",
   "metadata": {},
   "source": [
    "By [Amy O'Kruk](https://twitter.com/amyokruk)"
   ]
  },
  {
   "cell_type": "markdown",
   "metadata": {},
   "source": [
    "Downloads data on vaccine doses administered by county and statewide from a Tableau-powered dashboard from the California Department of Public Health."
   ]
  },
  {
   "cell_type": "code",
   "execution_count": 1,
   "metadata": {
    "execution": {
     "iopub.execute_input": "2021-03-16T19:36:41.308925Z",
     "iopub.status.busy": "2021-03-16T19:36:41.308242Z",
     "iopub.status.idle": "2021-03-16T19:36:41.740160Z",
     "shell.execute_reply": "2021-03-16T19:36:41.739631Z"
    }
   },
   "outputs": [],
   "source": [
    "import pandas as pd\n",
    "import requests\n",
    "from bs4 import BeautifulSoup\n",
    "import json\n",
    "import re\n",
    "import time\n",
    "from time import gmtime, strftime \n",
    "import os\n",
    "import pytz\n",
    "from datetime import datetime"
   ]
  },
  {
   "cell_type": "markdown",
   "metadata": {},
   "source": [
    "Scrape the dashboard page"
   ]
  },
  {
   "cell_type": "code",
   "execution_count": 2,
   "metadata": {
    "execution": {
     "iopub.execute_input": "2021-03-16T19:36:41.746046Z",
     "iopub.status.busy": "2021-03-16T19:36:41.743191Z",
     "iopub.status.idle": "2021-03-16T19:36:42.541399Z",
     "shell.execute_reply": "2021-03-16T19:36:42.540845Z"
    }
   },
   "outputs": [],
   "source": [
    "url = \"https://public.tableau.com/interactive/views/COVID-19VaccineDashboardPublic/Vaccine?:embed=y&:showVizHome=n&:apiID=host0\"\n",
    "\n",
    "r = requests.get(url)\n",
    "soup = BeautifulSoup(r.text, \"html.parser\")"
   ]
  },
  {
   "cell_type": "code",
   "execution_count": 3,
   "metadata": {
    "execution": {
     "iopub.execute_input": "2021-03-16T19:36:42.546377Z",
     "iopub.status.busy": "2021-03-16T19:36:42.545822Z",
     "iopub.status.idle": "2021-03-16T19:36:42.549806Z",
     "shell.execute_reply": "2021-03-16T19:36:42.549347Z"
    }
   },
   "outputs": [],
   "source": [
    "tableauData = json.loads(soup.find(\"textarea\",{\"id\": \"tsConfigContainer\"}).text)"
   ]
  },
  {
   "cell_type": "markdown",
   "metadata": {},
   "source": [
    "Get the link to the Tableau data"
   ]
  },
  {
   "cell_type": "code",
   "execution_count": 4,
   "metadata": {
    "execution": {
     "iopub.execute_input": "2021-03-16T19:36:42.555367Z",
     "iopub.status.busy": "2021-03-16T19:36:42.553774Z",
     "iopub.status.idle": "2021-03-16T19:36:42.555944Z",
     "shell.execute_reply": "2021-03-16T19:36:42.556556Z"
    }
   },
   "outputs": [],
   "source": [
    "dataUrl = f'https://public.tableau.com{tableauData[\"vizql_root\"]}/bootstrapSession/sessions/{tableauData[\"sessionid\"]}'"
   ]
  },
  {
   "cell_type": "code",
   "execution_count": 5,
   "metadata": {
    "execution": {
     "iopub.execute_input": "2021-03-16T19:36:42.563217Z",
     "iopub.status.busy": "2021-03-16T19:36:42.562703Z",
     "iopub.status.idle": "2021-03-16T19:36:42.862426Z",
     "shell.execute_reply": "2021-03-16T19:36:42.862830Z"
    }
   },
   "outputs": [],
   "source": [
    "r = requests.post(dataUrl, data= {\n",
    "    \"sheet_id\": tableauData[\"sheetId\"],\n",
    "})\n",
    "\n",
    "dataReg = re.search('\\d+;({.*})\\d+;({.*})', r.text, re.MULTILINE)\n",
    "data1 = json.loads(dataReg.group(2))\n",
    "\n",
    "dataJson = data1[\"secondaryInfo\"][\"presModelMap\"][\"dataDictionary\"][\"presModelHolder\"][\"genDataDictionaryPresModel\"][\"dataSegments\"][\"0\"][\"dataColumns\"]"
   ]
  },
  {
   "cell_type": "markdown",
   "metadata": {},
   "source": [
    "Isolate what you want"
   ]
  },
  {
   "cell_type": "code",
   "execution_count": 6,
   "metadata": {
    "execution": {
     "iopub.execute_input": "2021-03-16T19:36:42.867892Z",
     "iopub.status.busy": "2021-03-16T19:36:42.866672Z",
     "iopub.status.idle": "2021-03-16T19:36:42.868605Z",
     "shell.execute_reply": "2021-03-16T19:36:42.869028Z"
    }
   },
   "outputs": [],
   "source": [
    "counties = dataJson[2]['dataValues'][:58]"
   ]
  },
  {
   "cell_type": "code",
   "execution_count": 7,
   "metadata": {
    "execution": {
     "iopub.execute_input": "2021-03-16T19:36:42.872722Z",
     "iopub.status.busy": "2021-03-16T19:36:42.871281Z",
     "iopub.status.idle": "2021-03-16T19:36:42.874569Z",
     "shell.execute_reply": "2021-03-16T19:36:42.874996Z"
    }
   },
   "outputs": [],
   "source": [
    "doses = dataJson[0]['dataValues'][3:61]"
   ]
  },
  {
   "cell_type": "markdown",
   "metadata": {},
   "source": [
    "Data formatting"
   ]
  },
  {
   "cell_type": "code",
   "execution_count": 8,
   "metadata": {
    "execution": {
     "iopub.execute_input": "2021-03-16T19:36:42.879554Z",
     "iopub.status.busy": "2021-03-16T19:36:42.878703Z",
     "iopub.status.idle": "2021-03-16T19:36:42.880515Z",
     "shell.execute_reply": "2021-03-16T19:36:42.880950Z"
    }
   },
   "outputs": [],
   "source": [
    "zipped = dict(zip(counties, doses))"
   ]
  },
  {
   "cell_type": "code",
   "execution_count": 9,
   "metadata": {
    "execution": {
     "iopub.execute_input": "2021-03-16T19:36:42.888655Z",
     "iopub.status.busy": "2021-03-16T19:36:42.887151Z",
     "iopub.status.idle": "2021-03-16T19:36:42.889361Z",
     "shell.execute_reply": "2021-03-16T19:36:42.889857Z"
    }
   },
   "outputs": [],
   "source": [
    "df = pd.Series(zipped).reset_index()"
   ]
  },
  {
   "cell_type": "code",
   "execution_count": 10,
   "metadata": {
    "execution": {
     "iopub.execute_input": "2021-03-16T19:36:42.894961Z",
     "iopub.status.busy": "2021-03-16T19:36:42.893609Z",
     "iopub.status.idle": "2021-03-16T19:36:42.895675Z",
     "shell.execute_reply": "2021-03-16T19:36:42.896127Z"
    }
   },
   "outputs": [],
   "source": [
    "df.columns = ['location','doses']"
   ]
  },
  {
   "cell_type": "markdown",
   "metadata": {},
   "source": [
    "Grab the overall California total"
   ]
  },
  {
   "cell_type": "code",
   "execution_count": 11,
   "metadata": {
    "execution": {
     "iopub.execute_input": "2021-03-16T19:36:42.901151Z",
     "iopub.status.busy": "2021-03-16T19:36:42.899791Z",
     "iopub.status.idle": "2021-03-16T19:36:42.901843Z",
     "shell.execute_reply": "2021-03-16T19:36:42.902298Z"
    }
   },
   "outputs": [],
   "source": [
    "add = {'location':'California','doses':dataJson[0]['dataValues'][2]}"
   ]
  },
  {
   "cell_type": "code",
   "execution_count": 12,
   "metadata": {
    "execution": {
     "iopub.execute_input": "2021-03-16T19:36:42.910186Z",
     "iopub.status.busy": "2021-03-16T19:36:42.908744Z",
     "iopub.status.idle": "2021-03-16T19:36:42.911300Z",
     "shell.execute_reply": "2021-03-16T19:36:42.911810Z"
    }
   },
   "outputs": [],
   "source": [
    "df = df.append(add, ignore_index=True)"
   ]
  },
  {
   "cell_type": "code",
   "execution_count": 13,
   "metadata": {
    "execution": {
     "iopub.execute_input": "2021-03-16T19:36:42.917191Z",
     "iopub.status.busy": "2021-03-16T19:36:42.915784Z",
     "iopub.status.idle": "2021-03-16T19:36:42.917839Z",
     "shell.execute_reply": "2021-03-16T19:36:42.918468Z"
    }
   },
   "outputs": [],
   "source": [
    "df = df.sort_values(by='location')"
   ]
  },
  {
   "cell_type": "code",
   "execution_count": 14,
   "metadata": {
    "execution": {
     "iopub.execute_input": "2021-03-16T19:36:42.926046Z",
     "iopub.status.busy": "2021-03-16T19:36:42.924598Z",
     "iopub.status.idle": "2021-03-16T19:36:42.926742Z",
     "shell.execute_reply": "2021-03-16T19:36:42.927197Z"
    }
   },
   "outputs": [],
   "source": [
    "df = df[df.location == 'California'].append(df[df.location != 'California']).reset_index(drop=True)"
   ]
  },
  {
   "cell_type": "code",
   "execution_count": null,
   "metadata": {},
   "outputs": [],
   "source": []
  },
  {
   "cell_type": "code",
   "execution_count": 15,
   "metadata": {
    "execution": {
     "iopub.execute_input": "2021-03-16T19:36:42.931161Z",
     "iopub.status.busy": "2021-03-16T19:36:42.930601Z",
     "iopub.status.idle": "2021-03-16T19:36:42.950852Z",
     "shell.execute_reply": "2021-03-16T19:36:42.951292Z"
    }
   },
   "outputs": [],
   "source": [
    "tz = pytz.timezone(\"America/New_York\")"
   ]
  },
  {
   "cell_type": "code",
   "execution_count": 16,
   "metadata": {
    "execution": {
     "iopub.execute_input": "2021-03-16T19:36:42.956144Z",
     "iopub.status.busy": "2021-03-16T19:36:42.954686Z",
     "iopub.status.idle": "2021-03-16T19:36:42.956800Z",
     "shell.execute_reply": "2021-03-16T19:36:42.957281Z"
    }
   },
   "outputs": [],
   "source": [
    "today = datetime.now(tz).date()"
   ]
  },
  {
   "cell_type": "code",
   "execution_count": 17,
   "metadata": {
    "execution": {
     "iopub.execute_input": "2021-03-16T19:36:42.961981Z",
     "iopub.status.busy": "2021-03-16T19:36:42.960646Z",
     "iopub.status.idle": "2021-03-16T19:36:42.962868Z",
     "shell.execute_reply": "2021-03-16T19:36:42.963369Z"
    }
   },
   "outputs": [],
   "source": [
    "data_dir = os.path.join(os.path.abspath(\"\"), \"data\")"
   ]
  },
  {
   "cell_type": "code",
   "execution_count": 18,
   "metadata": {
    "execution": {
     "iopub.execute_input": "2021-03-16T19:36:42.967588Z",
     "iopub.status.busy": "2021-03-16T19:36:42.966809Z",
     "iopub.status.idle": "2021-03-16T19:36:42.972468Z",
     "shell.execute_reply": "2021-03-16T19:36:42.971911Z"
    }
   },
   "outputs": [],
   "source": [
    "df.to_csv(os.path.join(data_dir, f\"{today}.csv\"), index=False)"
   ]
  },
  {
   "cell_type": "code",
   "execution_count": null,
   "metadata": {},
   "outputs": [],
   "source": []
  }
 ],
 "metadata": {
  "kernelspec": {
   "display_name": "Python 3",
   "language": "python",
   "name": "python3"
  },
  "language_info": {
   "codemirror_mode": {
    "name": "ipython",
    "version": 3
   },
   "file_extension": ".py",
   "mimetype": "text/x-python",
   "name": "python",
   "nbconvert_exporter": "python",
   "pygments_lexer": "ipython3",
   "version": "3.8.8"
  }
 },
 "nbformat": 4,
 "nbformat_minor": 4
}
