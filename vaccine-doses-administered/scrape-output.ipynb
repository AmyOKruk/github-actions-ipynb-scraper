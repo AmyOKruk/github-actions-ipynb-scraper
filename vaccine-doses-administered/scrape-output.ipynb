{
 "cells": [
  {
   "cell_type": "markdown",
   "metadata": {},
   "source": [
    "# California COVID vaccinations scrape"
   ]
  },
  {
   "cell_type": "markdown",
   "metadata": {},
   "source": [
    "By [Amy O'Kruk](https://twitter.com/amyokruk)"
   ]
  },
  {
   "cell_type": "markdown",
   "metadata": {},
   "source": [
    "Downloads data on vaccine doses administered by county and statewide from a Tableau-powered dashboard from the California Department of Public Health."
   ]
  },
  {
   "cell_type": "code",
   "execution_count": 1,
   "metadata": {
    "execution": {
     "iopub.execute_input": "2021-03-17T06:47:07.107769Z",
     "iopub.status.busy": "2021-03-17T06:47:07.107102Z",
     "iopub.status.idle": "2021-03-17T06:47:07.471530Z",
     "shell.execute_reply": "2021-03-17T06:47:07.470426Z"
    }
   },
   "outputs": [],
   "source": [
    "import pandas as pd\n",
    "import requests\n",
    "from bs4 import BeautifulSoup\n",
    "import json\n",
    "import re\n",
    "import time\n",
    "from time import gmtime, strftime \n",
    "import os\n",
    "import pytz\n",
    "from datetime import datetime"
   ]
  },
  {
   "cell_type": "markdown",
   "metadata": {},
   "source": [
    "Scrape the dashboard page"
   ]
  },
  {
   "cell_type": "code",
   "execution_count": 2,
   "metadata": {
    "execution": {
     "iopub.execute_input": "2021-03-17T06:47:07.477522Z",
     "iopub.status.busy": "2021-03-17T06:47:07.474929Z",
     "iopub.status.idle": "2021-03-17T06:47:07.795822Z",
     "shell.execute_reply": "2021-03-17T06:47:07.794726Z"
    }
   },
   "outputs": [],
   "source": [
    "url = \"https://public.tableau.com/interactive/views/COVID-19VaccineDashboardPublic/Vaccine?:embed=y&:showVizHome=n&:apiID=host0\"\n",
    "\n",
    "r = requests.get(url)\n",
    "soup = BeautifulSoup(r.text, \"html.parser\")"
   ]
  },
  {
   "cell_type": "code",
   "execution_count": 3,
   "metadata": {
    "execution": {
     "iopub.execute_input": "2021-03-17T06:47:07.800144Z",
     "iopub.status.busy": "2021-03-17T06:47:07.799681Z",
     "iopub.status.idle": "2021-03-17T06:47:07.802420Z",
     "shell.execute_reply": "2021-03-17T06:47:07.802008Z"
    }
   },
   "outputs": [],
   "source": [
    "tableauData = json.loads(soup.find(\"textarea\",{\"id\": \"tsConfigContainer\"}).text)"
   ]
  },
  {
   "cell_type": "markdown",
   "metadata": {},
   "source": [
    "Get the link to the Tableau data"
   ]
  },
  {
   "cell_type": "code",
   "execution_count": 4,
   "metadata": {
    "execution": {
     "iopub.execute_input": "2021-03-17T06:47:07.806590Z",
     "iopub.status.busy": "2021-03-17T06:47:07.805524Z",
     "iopub.status.idle": "2021-03-17T06:47:07.807202Z",
     "shell.execute_reply": "2021-03-17T06:47:07.807635Z"
    }
   },
   "outputs": [],
   "source": [
    "dataUrl = f'https://public.tableau.com{tableauData[\"vizql_root\"]}/bootstrapSession/sessions/{tableauData[\"sessionid\"]}'"
   ]
  },
  {
   "cell_type": "code",
   "execution_count": 5,
   "metadata": {
    "execution": {
     "iopub.execute_input": "2021-03-17T06:47:07.813348Z",
     "iopub.status.busy": "2021-03-17T06:47:07.812785Z",
     "iopub.status.idle": "2021-03-17T06:47:08.125016Z",
     "shell.execute_reply": "2021-03-17T06:47:08.124435Z"
    }
   },
   "outputs": [],
   "source": [
    "r = requests.post(dataUrl, data= {\n",
    "    \"sheet_id\": tableauData[\"sheetId\"],\n",
    "})\n",
    "\n",
    "dataReg = re.search('\\d+;({.*})\\d+;({.*})', r.text, re.MULTILINE)\n",
    "data1 = json.loads(dataReg.group(2))\n",
    "\n",
    "dataJson = data1[\"secondaryInfo\"][\"presModelMap\"][\"dataDictionary\"][\"presModelHolder\"][\"genDataDictionaryPresModel\"][\"dataSegments\"][\"0\"][\"dataColumns\"]"
   ]
  },
  {
   "cell_type": "markdown",
   "metadata": {},
   "source": [
    "Isolate what you want"
   ]
  },
  {
   "cell_type": "code",
   "execution_count": 6,
   "metadata": {
    "execution": {
     "iopub.execute_input": "2021-03-17T06:47:08.130035Z",
     "iopub.status.busy": "2021-03-17T06:47:08.129115Z",
     "iopub.status.idle": "2021-03-17T06:47:08.133042Z",
     "shell.execute_reply": "2021-03-17T06:47:08.132555Z"
    }
   },
   "outputs": [],
   "source": [
    "counties = dataJson[2]['dataValues'][:58]"
   ]
  },
  {
   "cell_type": "code",
   "execution_count": 7,
   "metadata": {
    "execution": {
     "iopub.execute_input": "2021-03-17T06:47:08.136712Z",
     "iopub.status.busy": "2021-03-17T06:47:08.136101Z",
     "iopub.status.idle": "2021-03-17T06:47:08.138570Z",
     "shell.execute_reply": "2021-03-17T06:47:08.137848Z"
    }
   },
   "outputs": [],
   "source": [
    "doses = dataJson[0]['dataValues'][3:61]"
   ]
  },
  {
   "cell_type": "markdown",
   "metadata": {},
   "source": [
    "Data formatting"
   ]
  },
  {
   "cell_type": "code",
   "execution_count": 8,
   "metadata": {
    "execution": {
     "iopub.execute_input": "2021-03-17T06:47:08.141670Z",
     "iopub.status.busy": "2021-03-17T06:47:08.141190Z",
     "iopub.status.idle": "2021-03-17T06:47:08.144399Z",
     "shell.execute_reply": "2021-03-17T06:47:08.143999Z"
    }
   },
   "outputs": [],
   "source": [
    "zipped = dict(zip(counties, doses))"
   ]
  },
  {
   "cell_type": "code",
   "execution_count": 9,
   "metadata": {
    "execution": {
     "iopub.execute_input": "2021-03-17T06:47:08.150017Z",
     "iopub.status.busy": "2021-03-17T06:47:08.149494Z",
     "iopub.status.idle": "2021-03-17T06:47:08.152942Z",
     "shell.execute_reply": "2021-03-17T06:47:08.152501Z"
    }
   },
   "outputs": [],
   "source": [
    "df = pd.Series(zipped).reset_index()"
   ]
  },
  {
   "cell_type": "code",
   "execution_count": 10,
   "metadata": {
    "execution": {
     "iopub.execute_input": "2021-03-17T06:47:08.157162Z",
     "iopub.status.busy": "2021-03-17T06:47:08.156149Z",
     "iopub.status.idle": "2021-03-17T06:47:08.157726Z",
     "shell.execute_reply": "2021-03-17T06:47:08.158171Z"
    }
   },
   "outputs": [],
   "source": [
    "df.columns = ['location','doses']"
   ]
  },
  {
   "cell_type": "markdown",
   "metadata": {},
   "source": [
    "Grab the overall California total"
   ]
  },
  {
   "cell_type": "code",
   "execution_count": 11,
   "metadata": {
    "execution": {
     "iopub.execute_input": "2021-03-17T06:47:08.162397Z",
     "iopub.status.busy": "2021-03-17T06:47:08.161272Z",
     "iopub.status.idle": "2021-03-17T06:47:08.162980Z",
     "shell.execute_reply": "2021-03-17T06:47:08.163379Z"
    }
   },
   "outputs": [],
   "source": [
    "add = {'location':'California','doses':dataJson[0]['dataValues'][2]}"
   ]
  },
  {
   "cell_type": "code",
   "execution_count": 12,
   "metadata": {
    "execution": {
     "iopub.execute_input": "2021-03-17T06:47:08.170242Z",
     "iopub.status.busy": "2021-03-17T06:47:08.168996Z",
     "iopub.status.idle": "2021-03-17T06:47:08.170850Z",
     "shell.execute_reply": "2021-03-17T06:47:08.171273Z"
    }
   },
   "outputs": [],
   "source": [
    "df = df.append(add, ignore_index=True)"
   ]
  },
  {
   "cell_type": "code",
   "execution_count": 13,
   "metadata": {
    "execution": {
     "iopub.execute_input": "2021-03-17T06:47:08.175655Z",
     "iopub.status.busy": "2021-03-17T06:47:08.174795Z",
     "iopub.status.idle": "2021-03-17T06:47:08.176489Z",
     "shell.execute_reply": "2021-03-17T06:47:08.176889Z"
    }
   },
   "outputs": [],
   "source": [
    "df = df.sort_values(by='location')"
   ]
  },
  {
   "cell_type": "code",
   "execution_count": 14,
   "metadata": {
    "execution": {
     "iopub.execute_input": "2021-03-17T06:47:08.183076Z",
     "iopub.status.busy": "2021-03-17T06:47:08.181890Z",
     "iopub.status.idle": "2021-03-17T06:47:08.183713Z",
     "shell.execute_reply": "2021-03-17T06:47:08.184119Z"
    }
   },
   "outputs": [],
   "source": [
    "df = df[df.location == 'California'].append(df[df.location != 'California']).reset_index(drop=True)"
   ]
  },
  {
   "cell_type": "code",
   "execution_count": null,
   "metadata": {},
   "outputs": [],
   "source": []
  },
  {
   "cell_type": "code",
   "execution_count": 15,
   "metadata": {
    "execution": {
     "iopub.execute_input": "2021-03-17T06:47:08.187121Z",
     "iopub.status.busy": "2021-03-17T06:47:08.186645Z",
     "iopub.status.idle": "2021-03-17T06:47:08.203639Z",
     "shell.execute_reply": "2021-03-17T06:47:08.203161Z"
    }
   },
   "outputs": [],
   "source": [
    "tz = pytz.timezone(\"America/New_York\")"
   ]
  },
  {
   "cell_type": "code",
   "execution_count": 16,
   "metadata": {
    "execution": {
     "iopub.execute_input": "2021-03-17T06:47:08.207741Z",
     "iopub.status.busy": "2021-03-17T06:47:08.206543Z",
     "iopub.status.idle": "2021-03-17T06:47:08.208354Z",
     "shell.execute_reply": "2021-03-17T06:47:08.208756Z"
    }
   },
   "outputs": [],
   "source": [
    "today = datetime.now(tz).date()"
   ]
  },
  {
   "cell_type": "code",
   "execution_count": 17,
   "metadata": {
    "execution": {
     "iopub.execute_input": "2021-03-17T06:47:08.212830Z",
     "iopub.status.busy": "2021-03-17T06:47:08.211661Z",
     "iopub.status.idle": "2021-03-17T06:47:08.213488Z",
     "shell.execute_reply": "2021-03-17T06:47:08.213919Z"
    }
   },
   "outputs": [],
   "source": [
    "data_dir = os.path.join(os.path.abspath(\"\"), \"data\")"
   ]
  },
  {
   "cell_type": "code",
   "execution_count": 18,
   "metadata": {
    "execution": {
     "iopub.execute_input": "2021-03-17T06:47:08.218315Z",
     "iopub.status.busy": "2021-03-17T06:47:08.217142Z",
     "iopub.status.idle": "2021-03-17T06:47:08.221740Z",
     "shell.execute_reply": "2021-03-17T06:47:08.221237Z"
    }
   },
   "outputs": [],
   "source": [
    "df.to_csv(os.path.join(data_dir, f\"{today}.csv\"), index=False)"
   ]
  },
  {
   "cell_type": "code",
   "execution_count": null,
   "metadata": {},
   "outputs": [],
   "source": []
  }
 ],
 "metadata": {
  "kernelspec": {
   "display_name": "Python 3",
   "language": "python",
   "name": "python3"
  },
  "language_info": {
   "codemirror_mode": {
    "name": "ipython",
    "version": 3
   },
   "file_extension": ".py",
   "mimetype": "text/x-python",
   "name": "python",
   "nbconvert_exporter": "python",
   "pygments_lexer": "ipython3",
   "version": "3.8.8"
  }
 },
 "nbformat": 4,
 "nbformat_minor": 4
}
