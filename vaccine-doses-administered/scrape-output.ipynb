{
 "cells": [
  {
   "cell_type": "markdown",
   "metadata": {},
   "source": [
    "# California COVID vaccinations scrape"
   ]
  },
  {
   "cell_type": "markdown",
   "metadata": {},
   "source": [
    "By [Amy O'Kruk](https://twitter.com/amyokruk)"
   ]
  },
  {
   "cell_type": "markdown",
   "metadata": {},
   "source": [
    "Downloads data on vaccine doses administered by county and statewide from a Tableau-powered dashboard from the California Department of Public Health."
   ]
  },
  {
   "cell_type": "code",
   "execution_count": 1,
   "metadata": {
    "execution": {
     "iopub.execute_input": "2021-03-13T12:16:30.733521Z",
     "iopub.status.busy": "2021-03-13T12:16:30.732564Z",
     "iopub.status.idle": "2021-03-13T12:16:31.110065Z",
     "shell.execute_reply": "2021-03-13T12:16:31.109009Z"
    }
   },
   "outputs": [],
   "source": [
    "import pandas as pd\n",
    "import requests\n",
    "from bs4 import BeautifulSoup\n",
    "import json\n",
    "import re\n",
    "import time\n",
    "from time import gmtime, strftime \n",
    "import os\n",
    "import pytz\n",
    "from datetime import datetime"
   ]
  },
  {
   "cell_type": "markdown",
   "metadata": {},
   "source": [
    "Scrape the dashboard page"
   ]
  },
  {
   "cell_type": "code",
   "execution_count": 2,
   "metadata": {
    "execution": {
     "iopub.execute_input": "2021-03-13T12:16:31.115953Z",
     "iopub.status.busy": "2021-03-13T12:16:31.113741Z",
     "iopub.status.idle": "2021-03-13T12:16:31.958264Z",
     "shell.execute_reply": "2021-03-13T12:16:31.957434Z"
    }
   },
   "outputs": [],
   "source": [
    "url = \"https://public.tableau.com/interactive/views/COVID-19VaccineDashboardPublic/Vaccine?:embed=y&:showVizHome=n&:apiID=host0\"\n",
    "\n",
    "r = requests.get(url)\n",
    "soup = BeautifulSoup(r.text, \"html.parser\")"
   ]
  },
  {
   "cell_type": "code",
   "execution_count": 3,
   "metadata": {
    "execution": {
     "iopub.execute_input": "2021-03-13T12:16:31.963184Z",
     "iopub.status.busy": "2021-03-13T12:16:31.962665Z",
     "iopub.status.idle": "2021-03-13T12:16:31.965767Z",
     "shell.execute_reply": "2021-03-13T12:16:31.966199Z"
    }
   },
   "outputs": [],
   "source": [
    "tableauData = json.loads(soup.find(\"textarea\",{\"id\": \"tsConfigContainer\"}).text)"
   ]
  },
  {
   "cell_type": "markdown",
   "metadata": {},
   "source": [
    "Get the link to the Tableau data"
   ]
  },
  {
   "cell_type": "code",
   "execution_count": 4,
   "metadata": {
    "execution": {
     "iopub.execute_input": "2021-03-13T12:16:31.970728Z",
     "iopub.status.busy": "2021-03-13T12:16:31.969507Z",
     "iopub.status.idle": "2021-03-13T12:16:31.971330Z",
     "shell.execute_reply": "2021-03-13T12:16:31.971754Z"
    }
   },
   "outputs": [],
   "source": [
    "dataUrl = f'https://public.tableau.com{tableauData[\"vizql_root\"]}/bootstrapSession/sessions/{tableauData[\"sessionid\"]}'"
   ]
  },
  {
   "cell_type": "code",
   "execution_count": 5,
   "metadata": {
    "execution": {
     "iopub.execute_input": "2021-03-13T12:16:31.978870Z",
     "iopub.status.busy": "2021-03-13T12:16:31.978324Z",
     "iopub.status.idle": "2021-03-13T12:16:32.610479Z",
     "shell.execute_reply": "2021-03-13T12:16:32.609635Z"
    }
   },
   "outputs": [],
   "source": [
    "r = requests.post(dataUrl, data= {\n",
    "    \"sheet_id\": tableauData[\"sheetId\"],\n",
    "})\n",
    "\n",
    "dataReg = re.search('\\d+;({.*})\\d+;({.*})', r.text, re.MULTILINE)\n",
    "data1 = json.loads(dataReg.group(2))\n",
    "\n",
    "dataJson = data1[\"secondaryInfo\"][\"presModelMap\"][\"dataDictionary\"][\"presModelHolder\"][\"genDataDictionaryPresModel\"][\"dataSegments\"][\"0\"][\"dataColumns\"]"
   ]
  },
  {
   "cell_type": "markdown",
   "metadata": {},
   "source": [
    "Isolate what you want"
   ]
  },
  {
   "cell_type": "code",
   "execution_count": 6,
   "metadata": {
    "execution": {
     "iopub.execute_input": "2021-03-13T12:16:32.615078Z",
     "iopub.status.busy": "2021-03-13T12:16:32.613804Z",
     "iopub.status.idle": "2021-03-13T12:16:32.615672Z",
     "shell.execute_reply": "2021-03-13T12:16:32.616095Z"
    }
   },
   "outputs": [],
   "source": [
    "counties = dataJson[2]['dataValues'][:58]"
   ]
  },
  {
   "cell_type": "code",
   "execution_count": 7,
   "metadata": {
    "execution": {
     "iopub.execute_input": "2021-03-13T12:16:32.620605Z",
     "iopub.status.busy": "2021-03-13T12:16:32.619439Z",
     "iopub.status.idle": "2021-03-13T12:16:32.621212Z",
     "shell.execute_reply": "2021-03-13T12:16:32.621643Z"
    }
   },
   "outputs": [],
   "source": [
    "doses = dataJson[0]['dataValues'][3:61]"
   ]
  },
  {
   "cell_type": "markdown",
   "metadata": {},
   "source": [
    "Data formatting"
   ]
  },
  {
   "cell_type": "code",
   "execution_count": 8,
   "metadata": {
    "execution": {
     "iopub.execute_input": "2021-03-13T12:16:32.625981Z",
     "iopub.status.busy": "2021-03-13T12:16:32.624859Z",
     "iopub.status.idle": "2021-03-13T12:16:32.626587Z",
     "shell.execute_reply": "2021-03-13T12:16:32.627010Z"
    }
   },
   "outputs": [],
   "source": [
    "zipped = dict(zip(counties, doses))"
   ]
  },
  {
   "cell_type": "code",
   "execution_count": 9,
   "metadata": {
    "execution": {
     "iopub.execute_input": "2021-03-13T12:16:32.633758Z",
     "iopub.status.busy": "2021-03-13T12:16:32.632476Z",
     "iopub.status.idle": "2021-03-13T12:16:32.634379Z",
     "shell.execute_reply": "2021-03-13T12:16:32.634804Z"
    }
   },
   "outputs": [],
   "source": [
    "df = pd.Series(zipped).reset_index()"
   ]
  },
  {
   "cell_type": "code",
   "execution_count": 10,
   "metadata": {
    "execution": {
     "iopub.execute_input": "2021-03-13T12:16:32.639091Z",
     "iopub.status.busy": "2021-03-13T12:16:32.638043Z",
     "iopub.status.idle": "2021-03-13T12:16:32.640350Z",
     "shell.execute_reply": "2021-03-13T12:16:32.639818Z"
    }
   },
   "outputs": [],
   "source": [
    "df.columns = ['location','doses']"
   ]
  },
  {
   "cell_type": "markdown",
   "metadata": {},
   "source": [
    "Grab the overall California total"
   ]
  },
  {
   "cell_type": "code",
   "execution_count": 11,
   "metadata": {
    "execution": {
     "iopub.execute_input": "2021-03-13T12:16:32.644659Z",
     "iopub.status.busy": "2021-03-13T12:16:32.643502Z",
     "iopub.status.idle": "2021-03-13T12:16:32.645265Z",
     "shell.execute_reply": "2021-03-13T12:16:32.645685Z"
    }
   },
   "outputs": [],
   "source": [
    "add = {'location':'California','doses':dataJson[0]['dataValues'][2]}"
   ]
  },
  {
   "cell_type": "code",
   "execution_count": 12,
   "metadata": {
    "execution": {
     "iopub.execute_input": "2021-03-13T12:16:32.652847Z",
     "iopub.status.busy": "2021-03-13T12:16:32.651587Z",
     "iopub.status.idle": "2021-03-13T12:16:32.653448Z",
     "shell.execute_reply": "2021-03-13T12:16:32.653900Z"
    }
   },
   "outputs": [],
   "source": [
    "df = df.append(add, ignore_index=True)"
   ]
  },
  {
   "cell_type": "code",
   "execution_count": 13,
   "metadata": {
    "execution": {
     "iopub.execute_input": "2021-03-13T12:16:32.659250Z",
     "iopub.status.busy": "2021-03-13T12:16:32.658057Z",
     "iopub.status.idle": "2021-03-13T12:16:32.659910Z",
     "shell.execute_reply": "2021-03-13T12:16:32.660336Z"
    }
   },
   "outputs": [],
   "source": [
    "df = df.sort_values(by='location')"
   ]
  },
  {
   "cell_type": "code",
   "execution_count": 14,
   "metadata": {
    "execution": {
     "iopub.execute_input": "2021-03-13T12:16:32.666419Z",
     "iopub.status.busy": "2021-03-13T12:16:32.665516Z",
     "iopub.status.idle": "2021-03-13T12:16:32.667392Z",
     "shell.execute_reply": "2021-03-13T12:16:32.667792Z"
    }
   },
   "outputs": [],
   "source": [
    "df = df[df.location == 'California'].append(df[df.location != 'California']).reset_index(drop=True)"
   ]
  },
  {
   "cell_type": "code",
   "execution_count": null,
   "metadata": {},
   "outputs": [],
   "source": []
  },
  {
   "cell_type": "code",
   "execution_count": 15,
   "metadata": {
    "execution": {
     "iopub.execute_input": "2021-03-13T12:16:32.671083Z",
     "iopub.status.busy": "2021-03-13T12:16:32.670576Z",
     "iopub.status.idle": "2021-03-13T12:16:32.689249Z",
     "shell.execute_reply": "2021-03-13T12:16:32.688788Z"
    }
   },
   "outputs": [],
   "source": [
    "tz = pytz.timezone(\"America/New_York\")"
   ]
  },
  {
   "cell_type": "code",
   "execution_count": 16,
   "metadata": {
    "execution": {
     "iopub.execute_input": "2021-03-13T12:16:32.693523Z",
     "iopub.status.busy": "2021-03-13T12:16:32.692397Z",
     "iopub.status.idle": "2021-03-13T12:16:32.694136Z",
     "shell.execute_reply": "2021-03-13T12:16:32.694568Z"
    }
   },
   "outputs": [],
   "source": [
    "today = datetime.now(tz).date()"
   ]
  },
  {
   "cell_type": "code",
   "execution_count": 17,
   "metadata": {
    "execution": {
     "iopub.execute_input": "2021-03-13T12:16:32.698813Z",
     "iopub.status.busy": "2021-03-13T12:16:32.697704Z",
     "iopub.status.idle": "2021-03-13T12:16:32.700019Z",
     "shell.execute_reply": "2021-03-13T12:16:32.699560Z"
    }
   },
   "outputs": [],
   "source": [
    "data_dir = os.path.join(os.path.abspath(\"\"), \"data\")"
   ]
  },
  {
   "cell_type": "code",
   "execution_count": 18,
   "metadata": {
    "execution": {
     "iopub.execute_input": "2021-03-13T12:16:32.704529Z",
     "iopub.status.busy": "2021-03-13T12:16:32.703377Z",
     "iopub.status.idle": "2021-03-13T12:16:32.707915Z",
     "shell.execute_reply": "2021-03-13T12:16:32.707398Z"
    }
   },
   "outputs": [],
   "source": [
    "df.to_csv(os.path.join(data_dir, f\"{today}.csv\"), index=False)"
   ]
  },
  {
   "cell_type": "code",
   "execution_count": null,
   "metadata": {},
   "outputs": [],
   "source": []
  }
 ],
 "metadata": {
  "kernelspec": {
   "display_name": "Python 3",
   "language": "python",
   "name": "python3"
  },
  "language_info": {
   "codemirror_mode": {
    "name": "ipython",
    "version": 3
   },
   "file_extension": ".py",
   "mimetype": "text/x-python",
   "name": "python",
   "nbconvert_exporter": "python",
   "pygments_lexer": "ipython3",
   "version": "3.8.8"
  }
 },
 "nbformat": 4,
 "nbformat_minor": 4
}
