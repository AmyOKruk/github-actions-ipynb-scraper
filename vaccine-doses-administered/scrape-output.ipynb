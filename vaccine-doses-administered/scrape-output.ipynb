{
 "cells": [
  {
   "cell_type": "markdown",
   "metadata": {},
   "source": [
    "# California COVID vaccinations scrape"
   ]
  },
  {
   "cell_type": "markdown",
   "metadata": {},
   "source": [
    "By [Amy O'Kruk](https://twitter.com/amyokruk)"
   ]
  },
  {
   "cell_type": "markdown",
   "metadata": {},
   "source": [
    "Downloads data on vaccine doses administered by county and statewide from a Tableau-powered dashboard from the California Department of Public Health."
   ]
  },
  {
   "cell_type": "code",
   "execution_count": 1,
   "metadata": {
    "execution": {
     "iopub.execute_input": "2021-03-18T15:12:54.988225Z",
     "iopub.status.busy": "2021-03-18T15:12:54.987539Z",
     "iopub.status.idle": "2021-03-18T15:12:55.526119Z",
     "shell.execute_reply": "2021-03-18T15:12:55.525541Z"
    }
   },
   "outputs": [],
   "source": [
    "import pandas as pd\n",
    "import requests\n",
    "from bs4 import BeautifulSoup\n",
    "import json\n",
    "import re\n",
    "import time\n",
    "from time import gmtime, strftime \n",
    "import os\n",
    "import pytz\n",
    "from datetime import datetime"
   ]
  },
  {
   "cell_type": "markdown",
   "metadata": {},
   "source": [
    "Scrape the dashboard page"
   ]
  },
  {
   "cell_type": "code",
   "execution_count": 2,
   "metadata": {
    "execution": {
     "iopub.execute_input": "2021-03-18T15:12:55.531331Z",
     "iopub.status.busy": "2021-03-18T15:12:55.529337Z",
     "iopub.status.idle": "2021-03-18T15:12:55.921240Z",
     "shell.execute_reply": "2021-03-18T15:12:55.920724Z"
    }
   },
   "outputs": [],
   "source": [
    "url = \"https://public.tableau.com/interactive/views/COVID-19VaccineDashboardPublic/Vaccine?:embed=y&:showVizHome=n&:apiID=host0\"\n",
    "\n",
    "r = requests.get(url)\n",
    "soup = BeautifulSoup(r.text, \"html.parser\")"
   ]
  },
  {
   "cell_type": "code",
   "execution_count": 3,
   "metadata": {
    "execution": {
     "iopub.execute_input": "2021-03-18T15:12:55.925983Z",
     "iopub.status.busy": "2021-03-18T15:12:55.925494Z",
     "iopub.status.idle": "2021-03-18T15:12:55.929440Z",
     "shell.execute_reply": "2021-03-18T15:12:55.928977Z"
    }
   },
   "outputs": [],
   "source": [
    "tableauData = json.loads(soup.find(\"textarea\",{\"id\": \"tsConfigContainer\"}).text)"
   ]
  },
  {
   "cell_type": "markdown",
   "metadata": {},
   "source": [
    "Get the link to the Tableau data"
   ]
  },
  {
   "cell_type": "code",
   "execution_count": 4,
   "metadata": {
    "execution": {
     "iopub.execute_input": "2021-03-18T15:12:55.933687Z",
     "iopub.status.busy": "2021-03-18T15:12:55.932469Z",
     "iopub.status.idle": "2021-03-18T15:12:55.934349Z",
     "shell.execute_reply": "2021-03-18T15:12:55.934781Z"
    }
   },
   "outputs": [],
   "source": [
    "dataUrl = f'https://public.tableau.com{tableauData[\"vizql_root\"]}/bootstrapSession/sessions/{tableauData[\"sessionid\"]}'"
   ]
  },
  {
   "cell_type": "code",
   "execution_count": 5,
   "metadata": {
    "execution": {
     "iopub.execute_input": "2021-03-18T15:12:55.942350Z",
     "iopub.status.busy": "2021-03-18T15:12:55.941732Z",
     "iopub.status.idle": "2021-03-18T15:12:56.216697Z",
     "shell.execute_reply": "2021-03-18T15:12:56.216096Z"
    }
   },
   "outputs": [],
   "source": [
    "r = requests.post(dataUrl, data= {\n",
    "    \"sheet_id\": tableauData[\"sheetId\"],\n",
    "})\n",
    "\n",
    "dataReg = re.search('\\d+;({.*})\\d+;({.*})', r.text, re.MULTILINE)\n",
    "data1 = json.loads(dataReg.group(2))\n",
    "\n",
    "dataJson = data1[\"secondaryInfo\"][\"presModelMap\"][\"dataDictionary\"][\"presModelHolder\"][\"genDataDictionaryPresModel\"][\"dataSegments\"][\"0\"][\"dataColumns\"]"
   ]
  },
  {
   "cell_type": "markdown",
   "metadata": {},
   "source": [
    "Isolate what you want"
   ]
  },
  {
   "cell_type": "code",
   "execution_count": 6,
   "metadata": {
    "execution": {
     "iopub.execute_input": "2021-03-18T15:12:56.222064Z",
     "iopub.status.busy": "2021-03-18T15:12:56.221542Z",
     "iopub.status.idle": "2021-03-18T15:12:56.225192Z",
     "shell.execute_reply": "2021-03-18T15:12:56.224788Z"
    }
   },
   "outputs": [],
   "source": [
    "counties = dataJson[2]['dataValues'][:58]"
   ]
  },
  {
   "cell_type": "code",
   "execution_count": 7,
   "metadata": {
    "execution": {
     "iopub.execute_input": "2021-03-18T15:12:56.228734Z",
     "iopub.status.busy": "2021-03-18T15:12:56.228321Z",
     "iopub.status.idle": "2021-03-18T15:12:56.231638Z",
     "shell.execute_reply": "2021-03-18T15:12:56.231147Z"
    }
   },
   "outputs": [],
   "source": [
    "doses = dataJson[0]['dataValues'][3:61]"
   ]
  },
  {
   "cell_type": "markdown",
   "metadata": {},
   "source": [
    "Data formatting"
   ]
  },
  {
   "cell_type": "code",
   "execution_count": 8,
   "metadata": {
    "execution": {
     "iopub.execute_input": "2021-03-18T15:12:56.234959Z",
     "iopub.status.busy": "2021-03-18T15:12:56.234500Z",
     "iopub.status.idle": "2021-03-18T15:12:56.237419Z",
     "shell.execute_reply": "2021-03-18T15:12:56.237822Z"
    }
   },
   "outputs": [],
   "source": [
    "zipped = dict(zip(counties, doses))"
   ]
  },
  {
   "cell_type": "code",
   "execution_count": 9,
   "metadata": {
    "execution": {
     "iopub.execute_input": "2021-03-18T15:12:56.244435Z",
     "iopub.status.busy": "2021-03-18T15:12:56.243223Z",
     "iopub.status.idle": "2021-03-18T15:12:56.245091Z",
     "shell.execute_reply": "2021-03-18T15:12:56.245521Z"
    }
   },
   "outputs": [],
   "source": [
    "df = pd.Series(zipped).reset_index()"
   ]
  },
  {
   "cell_type": "code",
   "execution_count": 10,
   "metadata": {
    "execution": {
     "iopub.execute_input": "2021-03-18T15:12:56.250426Z",
     "iopub.status.busy": "2021-03-18T15:12:56.249159Z",
     "iopub.status.idle": "2021-03-18T15:12:56.251003Z",
     "shell.execute_reply": "2021-03-18T15:12:56.251544Z"
    }
   },
   "outputs": [],
   "source": [
    "df.columns = ['location','doses']"
   ]
  },
  {
   "cell_type": "markdown",
   "metadata": {},
   "source": [
    "Grab the overall California total"
   ]
  },
  {
   "cell_type": "code",
   "execution_count": 11,
   "metadata": {
    "execution": {
     "iopub.execute_input": "2021-03-18T15:12:56.255905Z",
     "iopub.status.busy": "2021-03-18T15:12:56.254736Z",
     "iopub.status.idle": "2021-03-18T15:12:56.256512Z",
     "shell.execute_reply": "2021-03-18T15:12:56.256959Z"
    }
   },
   "outputs": [],
   "source": [
    "add = {'location':'California','doses':dataJson[0]['dataValues'][2]}"
   ]
  },
  {
   "cell_type": "code",
   "execution_count": 12,
   "metadata": {
    "execution": {
     "iopub.execute_input": "2021-03-18T15:12:56.264247Z",
     "iopub.status.busy": "2021-03-18T15:12:56.262833Z",
     "iopub.status.idle": "2021-03-18T15:12:56.264833Z",
     "shell.execute_reply": "2021-03-18T15:12:56.265258Z"
    }
   },
   "outputs": [],
   "source": [
    "df = df.append(add, ignore_index=True)"
   ]
  },
  {
   "cell_type": "code",
   "execution_count": 13,
   "metadata": {
    "execution": {
     "iopub.execute_input": "2021-03-18T15:12:56.270202Z",
     "iopub.status.busy": "2021-03-18T15:12:56.269043Z",
     "iopub.status.idle": "2021-03-18T15:12:56.270858Z",
     "shell.execute_reply": "2021-03-18T15:12:56.271286Z"
    }
   },
   "outputs": [],
   "source": [
    "df = df.sort_values(by='location')"
   ]
  },
  {
   "cell_type": "code",
   "execution_count": 14,
   "metadata": {
    "execution": {
     "iopub.execute_input": "2021-03-18T15:12:56.277650Z",
     "iopub.status.busy": "2021-03-18T15:12:56.276486Z",
     "iopub.status.idle": "2021-03-18T15:12:56.278321Z",
     "shell.execute_reply": "2021-03-18T15:12:56.278749Z"
    }
   },
   "outputs": [],
   "source": [
    "df = df[df.location == 'California'].append(df[df.location != 'California']).reset_index(drop=True)"
   ]
  },
  {
   "cell_type": "code",
   "execution_count": null,
   "metadata": {},
   "outputs": [],
   "source": []
  },
  {
   "cell_type": "code",
   "execution_count": 15,
   "metadata": {
    "execution": {
     "iopub.execute_input": "2021-03-18T15:12:56.282354Z",
     "iopub.status.busy": "2021-03-18T15:12:56.281846Z",
     "iopub.status.idle": "2021-03-18T15:12:56.298859Z",
     "shell.execute_reply": "2021-03-18T15:12:56.299292Z"
    }
   },
   "outputs": [],
   "source": [
    "tz = pytz.timezone(\"America/New_York\")"
   ]
  },
  {
   "cell_type": "code",
   "execution_count": 16,
   "metadata": {
    "execution": {
     "iopub.execute_input": "2021-03-18T15:12:56.303669Z",
     "iopub.status.busy": "2021-03-18T15:12:56.302414Z",
     "iopub.status.idle": "2021-03-18T15:12:56.304227Z",
     "shell.execute_reply": "2021-03-18T15:12:56.304627Z"
    }
   },
   "outputs": [],
   "source": [
    "today = datetime.now(tz).date()"
   ]
  },
  {
   "cell_type": "code",
   "execution_count": 17,
   "metadata": {
    "execution": {
     "iopub.execute_input": "2021-03-18T15:12:56.308905Z",
     "iopub.status.busy": "2021-03-18T15:12:56.307638Z",
     "iopub.status.idle": "2021-03-18T15:12:56.309491Z",
     "shell.execute_reply": "2021-03-18T15:12:56.309915Z"
    }
   },
   "outputs": [],
   "source": [
    "data_dir = os.path.join(os.path.abspath(\"\"), \"data\")"
   ]
  },
  {
   "cell_type": "code",
   "execution_count": 18,
   "metadata": {
    "execution": {
     "iopub.execute_input": "2021-03-18T15:12:56.314100Z",
     "iopub.status.busy": "2021-03-18T15:12:56.312969Z",
     "iopub.status.idle": "2021-03-18T15:12:56.317443Z",
     "shell.execute_reply": "2021-03-18T15:12:56.316962Z"
    }
   },
   "outputs": [],
   "source": [
    "df.to_csv(os.path.join(data_dir, f\"{today}.csv\"), index=False)"
   ]
  },
  {
   "cell_type": "code",
   "execution_count": null,
   "metadata": {},
   "outputs": [],
   "source": []
  }
 ],
 "metadata": {
  "kernelspec": {
   "display_name": "Python 3",
   "language": "python",
   "name": "python3"
  },
  "language_info": {
   "codemirror_mode": {
    "name": "ipython",
    "version": 3
   },
   "file_extension": ".py",
   "mimetype": "text/x-python",
   "name": "python",
   "nbconvert_exporter": "python",
   "pygments_lexer": "ipython3",
   "version": "3.8.8"
  }
 },
 "nbformat": 4,
 "nbformat_minor": 4
}
