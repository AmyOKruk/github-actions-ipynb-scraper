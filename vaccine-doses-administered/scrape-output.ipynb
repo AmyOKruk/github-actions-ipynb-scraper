{
 "cells": [
  {
   "cell_type": "markdown",
   "metadata": {},
   "source": [
    "# California COVID vaccinations scrape"
   ]
  },
  {
   "cell_type": "markdown",
   "metadata": {},
   "source": [
    "By [Amy O'Kruk](https://twitter.com/amyokruk)"
   ]
  },
  {
   "cell_type": "markdown",
   "metadata": {},
   "source": [
    "Downloads data on vaccine doses administered by county and statewide from a Tableau-powered dashboard from the California Department of Public Health."
   ]
  },
  {
   "cell_type": "code",
   "execution_count": 1,
   "metadata": {
    "execution": {
     "iopub.execute_input": "2021-03-13T22:46:31.798198Z",
     "iopub.status.busy": "2021-03-13T22:46:31.797560Z",
     "iopub.status.idle": "2021-03-13T22:46:32.171256Z",
     "shell.execute_reply": "2021-03-13T22:46:32.171753Z"
    }
   },
   "outputs": [],
   "source": [
    "import pandas as pd\n",
    "import requests\n",
    "from bs4 import BeautifulSoup\n",
    "import json\n",
    "import re\n",
    "import time\n",
    "from time import gmtime, strftime \n",
    "import os\n",
    "import pytz\n",
    "from datetime import datetime"
   ]
  },
  {
   "cell_type": "markdown",
   "metadata": {},
   "source": [
    "Scrape the dashboard page"
   ]
  },
  {
   "cell_type": "code",
   "execution_count": 2,
   "metadata": {
    "execution": {
     "iopub.execute_input": "2021-03-13T22:46:32.178629Z",
     "iopub.status.busy": "2021-03-13T22:46:32.176060Z",
     "iopub.status.idle": "2021-03-13T22:46:32.529795Z",
     "shell.execute_reply": "2021-03-13T22:46:32.529281Z"
    }
   },
   "outputs": [],
   "source": [
    "url = \"https://public.tableau.com/interactive/views/COVID-19VaccineDashboardPublic/Vaccine?:embed=y&:showVizHome=n&:apiID=host0\"\n",
    "\n",
    "r = requests.get(url)\n",
    "soup = BeautifulSoup(r.text, \"html.parser\")"
   ]
  },
  {
   "cell_type": "code",
   "execution_count": 3,
   "metadata": {
    "execution": {
     "iopub.execute_input": "2021-03-13T22:46:32.534597Z",
     "iopub.status.busy": "2021-03-13T22:46:32.534051Z",
     "iopub.status.idle": "2021-03-13T22:46:32.537887Z",
     "shell.execute_reply": "2021-03-13T22:46:32.537329Z"
    }
   },
   "outputs": [],
   "source": [
    "tableauData = json.loads(soup.find(\"textarea\",{\"id\": \"tsConfigContainer\"}).text)"
   ]
  },
  {
   "cell_type": "markdown",
   "metadata": {},
   "source": [
    "Get the link to the Tableau data"
   ]
  },
  {
   "cell_type": "code",
   "execution_count": 4,
   "metadata": {
    "execution": {
     "iopub.execute_input": "2021-03-13T22:46:32.543410Z",
     "iopub.status.busy": "2021-03-13T22:46:32.541963Z",
     "iopub.status.idle": "2021-03-13T22:46:32.544070Z",
     "shell.execute_reply": "2021-03-13T22:46:32.544557Z"
    }
   },
   "outputs": [],
   "source": [
    "dataUrl = f'https://public.tableau.com{tableauData[\"vizql_root\"]}/bootstrapSession/sessions/{tableauData[\"sessionid\"]}'"
   ]
  },
  {
   "cell_type": "code",
   "execution_count": 5,
   "metadata": {
    "execution": {
     "iopub.execute_input": "2021-03-13T22:46:32.551718Z",
     "iopub.status.busy": "2021-03-13T22:46:32.551106Z",
     "iopub.status.idle": "2021-03-13T22:46:33.049945Z",
     "shell.execute_reply": "2021-03-13T22:46:33.049382Z"
    }
   },
   "outputs": [],
   "source": [
    "r = requests.post(dataUrl, data= {\n",
    "    \"sheet_id\": tableauData[\"sheetId\"],\n",
    "})\n",
    "\n",
    "dataReg = re.search('\\d+;({.*})\\d+;({.*})', r.text, re.MULTILINE)\n",
    "data1 = json.loads(dataReg.group(2))\n",
    "\n",
    "dataJson = data1[\"secondaryInfo\"][\"presModelMap\"][\"dataDictionary\"][\"presModelHolder\"][\"genDataDictionaryPresModel\"][\"dataSegments\"][\"0\"][\"dataColumns\"]"
   ]
  },
  {
   "cell_type": "markdown",
   "metadata": {},
   "source": [
    "Isolate what you want"
   ]
  },
  {
   "cell_type": "code",
   "execution_count": 6,
   "metadata": {
    "execution": {
     "iopub.execute_input": "2021-03-13T22:46:33.054817Z",
     "iopub.status.busy": "2021-03-13T22:46:33.053431Z",
     "iopub.status.idle": "2021-03-13T22:46:33.055425Z",
     "shell.execute_reply": "2021-03-13T22:46:33.055876Z"
    }
   },
   "outputs": [],
   "source": [
    "counties = dataJson[2]['dataValues'][:58]"
   ]
  },
  {
   "cell_type": "code",
   "execution_count": 7,
   "metadata": {
    "execution": {
     "iopub.execute_input": "2021-03-13T22:46:33.060780Z",
     "iopub.status.busy": "2021-03-13T22:46:33.059323Z",
     "iopub.status.idle": "2021-03-13T22:46:33.061438Z",
     "shell.execute_reply": "2021-03-13T22:46:33.061900Z"
    }
   },
   "outputs": [],
   "source": [
    "doses = dataJson[0]['dataValues'][3:61]"
   ]
  },
  {
   "cell_type": "markdown",
   "metadata": {},
   "source": [
    "Data formatting"
   ]
  },
  {
   "cell_type": "code",
   "execution_count": 8,
   "metadata": {
    "execution": {
     "iopub.execute_input": "2021-03-13T22:46:33.066692Z",
     "iopub.status.busy": "2021-03-13T22:46:33.065231Z",
     "iopub.status.idle": "2021-03-13T22:46:33.067388Z",
     "shell.execute_reply": "2021-03-13T22:46:33.067950Z"
    }
   },
   "outputs": [],
   "source": [
    "zipped = dict(zip(counties, doses))"
   ]
  },
  {
   "cell_type": "code",
   "execution_count": 9,
   "metadata": {
    "execution": {
     "iopub.execute_input": "2021-03-13T22:46:33.074208Z",
     "iopub.status.busy": "2021-03-13T22:46:33.073683Z",
     "iopub.status.idle": "2021-03-13T22:46:33.076003Z",
     "shell.execute_reply": "2021-03-13T22:46:33.076417Z"
    }
   },
   "outputs": [],
   "source": [
    "df = pd.Series(zipped).reset_index()"
   ]
  },
  {
   "cell_type": "code",
   "execution_count": 10,
   "metadata": {
    "execution": {
     "iopub.execute_input": "2021-03-13T22:46:33.081076Z",
     "iopub.status.busy": "2021-03-13T22:46:33.079721Z",
     "iopub.status.idle": "2021-03-13T22:46:33.081704Z",
     "shell.execute_reply": "2021-03-13T22:46:33.082157Z"
    }
   },
   "outputs": [],
   "source": [
    "df.columns = ['location','doses']"
   ]
  },
  {
   "cell_type": "markdown",
   "metadata": {},
   "source": [
    "Grab the overall California total"
   ]
  },
  {
   "cell_type": "code",
   "execution_count": 11,
   "metadata": {
    "execution": {
     "iopub.execute_input": "2021-03-13T22:46:33.086680Z",
     "iopub.status.busy": "2021-03-13T22:46:33.085411Z",
     "iopub.status.idle": "2021-03-13T22:46:33.087313Z",
     "shell.execute_reply": "2021-03-13T22:46:33.087790Z"
    }
   },
   "outputs": [],
   "source": [
    "add = {'location':'California','doses':dataJson[0]['dataValues'][2]}"
   ]
  },
  {
   "cell_type": "code",
   "execution_count": 12,
   "metadata": {
    "execution": {
     "iopub.execute_input": "2021-03-13T22:46:33.095937Z",
     "iopub.status.busy": "2021-03-13T22:46:33.094625Z",
     "iopub.status.idle": "2021-03-13T22:46:33.096593Z",
     "shell.execute_reply": "2021-03-13T22:46:33.097058Z"
    }
   },
   "outputs": [],
   "source": [
    "df = df.append(add, ignore_index=True)"
   ]
  },
  {
   "cell_type": "code",
   "execution_count": 13,
   "metadata": {
    "execution": {
     "iopub.execute_input": "2021-03-13T22:46:33.102085Z",
     "iopub.status.busy": "2021-03-13T22:46:33.100875Z",
     "iopub.status.idle": "2021-03-13T22:46:33.102804Z",
     "shell.execute_reply": "2021-03-13T22:46:33.103292Z"
    }
   },
   "outputs": [],
   "source": [
    "df = df.sort_values(by='location')"
   ]
  },
  {
   "cell_type": "code",
   "execution_count": 14,
   "metadata": {
    "execution": {
     "iopub.execute_input": "2021-03-13T22:46:33.109896Z",
     "iopub.status.busy": "2021-03-13T22:46:33.108594Z",
     "iopub.status.idle": "2021-03-13T22:46:33.110620Z",
     "shell.execute_reply": "2021-03-13T22:46:33.111151Z"
    }
   },
   "outputs": [],
   "source": [
    "df = df[df.location == 'California'].append(df[df.location != 'California']).reset_index(drop=True)"
   ]
  },
  {
   "cell_type": "code",
   "execution_count": null,
   "metadata": {},
   "outputs": [],
   "source": []
  },
  {
   "cell_type": "code",
   "execution_count": 15,
   "metadata": {
    "execution": {
     "iopub.execute_input": "2021-03-13T22:46:33.114619Z",
     "iopub.status.busy": "2021-03-13T22:46:33.114068Z",
     "iopub.status.idle": "2021-03-13T22:46:33.132446Z",
     "shell.execute_reply": "2021-03-13T22:46:33.131970Z"
    }
   },
   "outputs": [],
   "source": [
    "tz = pytz.timezone(\"America/New_York\")"
   ]
  },
  {
   "cell_type": "code",
   "execution_count": 16,
   "metadata": {
    "execution": {
     "iopub.execute_input": "2021-03-13T22:46:33.136964Z",
     "iopub.status.busy": "2021-03-13T22:46:33.135695Z",
     "iopub.status.idle": "2021-03-13T22:46:33.137613Z",
     "shell.execute_reply": "2021-03-13T22:46:33.138066Z"
    }
   },
   "outputs": [],
   "source": [
    "today = datetime.now(tz).date()"
   ]
  },
  {
   "cell_type": "code",
   "execution_count": 17,
   "metadata": {
    "execution": {
     "iopub.execute_input": "2021-03-13T22:46:33.142837Z",
     "iopub.status.busy": "2021-03-13T22:46:33.141363Z",
     "iopub.status.idle": "2021-03-13T22:46:33.143483Z",
     "shell.execute_reply": "2021-03-13T22:46:33.143939Z"
    }
   },
   "outputs": [],
   "source": [
    "data_dir = os.path.join(os.path.abspath(\"\"), \"data\")"
   ]
  },
  {
   "cell_type": "code",
   "execution_count": 18,
   "metadata": {
    "execution": {
     "iopub.execute_input": "2021-03-13T22:46:33.148317Z",
     "iopub.status.busy": "2021-03-13T22:46:33.147244Z",
     "iopub.status.idle": "2021-03-13T22:46:33.151388Z",
     "shell.execute_reply": "2021-03-13T22:46:33.151846Z"
    }
   },
   "outputs": [],
   "source": [
    "df.to_csv(os.path.join(data_dir, f\"{today}.csv\"), index=False)"
   ]
  },
  {
   "cell_type": "code",
   "execution_count": null,
   "metadata": {},
   "outputs": [],
   "source": []
  }
 ],
 "metadata": {
  "kernelspec": {
   "display_name": "Python 3",
   "language": "python",
   "name": "python3"
  },
  "language_info": {
   "codemirror_mode": {
    "name": "ipython",
    "version": 3
   },
   "file_extension": ".py",
   "mimetype": "text/x-python",
   "name": "python",
   "nbconvert_exporter": "python",
   "pygments_lexer": "ipython3",
   "version": "3.8.8"
  }
 },
 "nbformat": 4,
 "nbformat_minor": 4
}
