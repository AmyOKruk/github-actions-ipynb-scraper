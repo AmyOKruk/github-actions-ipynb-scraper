{
 "cells": [
  {
   "cell_type": "markdown",
   "metadata": {},
   "source": [
    "# California COVID vaccinations scrape"
   ]
  },
  {
   "cell_type": "markdown",
   "metadata": {},
   "source": [
    "By [Amy O'Kruk](https://twitter.com/amyokruk)"
   ]
  },
  {
   "cell_type": "markdown",
   "metadata": {},
   "source": [
    "Downloads data on vaccine doses administered by county and statewide from a Tableau-powered dashboard from the California Department of Public Health."
   ]
  },
  {
   "cell_type": "code",
   "execution_count": 1,
   "metadata": {
    "execution": {
     "iopub.execute_input": "2021-03-13T13:15:52.408778Z",
     "iopub.status.busy": "2021-03-13T13:15:52.408032Z",
     "iopub.status.idle": "2021-03-13T13:15:52.891927Z",
     "shell.execute_reply": "2021-03-13T13:15:52.890778Z"
    }
   },
   "outputs": [],
   "source": [
    "import pandas as pd\n",
    "import requests\n",
    "from bs4 import BeautifulSoup\n",
    "import json\n",
    "import re\n",
    "import time\n",
    "from time import gmtime, strftime \n",
    "import os\n",
    "import pytz\n",
    "from datetime import datetime"
   ]
  },
  {
   "cell_type": "markdown",
   "metadata": {},
   "source": [
    "Scrape the dashboard page"
   ]
  },
  {
   "cell_type": "code",
   "execution_count": 2,
   "metadata": {
    "execution": {
     "iopub.execute_input": "2021-03-13T13:15:52.899549Z",
     "iopub.status.busy": "2021-03-13T13:15:52.896403Z",
     "iopub.status.idle": "2021-03-13T13:15:53.382266Z",
     "shell.execute_reply": "2021-03-13T13:15:53.382711Z"
    }
   },
   "outputs": [],
   "source": [
    "url = \"https://public.tableau.com/interactive/views/COVID-19VaccineDashboardPublic/Vaccine?:embed=y&:showVizHome=n&:apiID=host0\"\n",
    "\n",
    "r = requests.get(url)\n",
    "soup = BeautifulSoup(r.text, \"html.parser\")"
   ]
  },
  {
   "cell_type": "code",
   "execution_count": 3,
   "metadata": {
    "execution": {
     "iopub.execute_input": "2021-03-13T13:15:53.387942Z",
     "iopub.status.busy": "2021-03-13T13:15:53.387301Z",
     "iopub.status.idle": "2021-03-13T13:15:53.391107Z",
     "shell.execute_reply": "2021-03-13T13:15:53.390631Z"
    }
   },
   "outputs": [],
   "source": [
    "tableauData = json.loads(soup.find(\"textarea\",{\"id\": \"tsConfigContainer\"}).text)"
   ]
  },
  {
   "cell_type": "markdown",
   "metadata": {},
   "source": [
    "Get the link to the Tableau data"
   ]
  },
  {
   "cell_type": "code",
   "execution_count": 4,
   "metadata": {
    "execution": {
     "iopub.execute_input": "2021-03-13T13:15:53.394809Z",
     "iopub.status.busy": "2021-03-13T13:15:53.394228Z",
     "iopub.status.idle": "2021-03-13T13:15:53.397967Z",
     "shell.execute_reply": "2021-03-13T13:15:53.398449Z"
    }
   },
   "outputs": [],
   "source": [
    "dataUrl = f'https://public.tableau.com{tableauData[\"vizql_root\"]}/bootstrapSession/sessions/{tableauData[\"sessionid\"]}'"
   ]
  },
  {
   "cell_type": "code",
   "execution_count": 5,
   "metadata": {
    "execution": {
     "iopub.execute_input": "2021-03-13T13:15:53.405599Z",
     "iopub.status.busy": "2021-03-13T13:15:53.404957Z",
     "iopub.status.idle": "2021-03-13T13:15:53.820939Z",
     "shell.execute_reply": "2021-03-13T13:15:53.820359Z"
    }
   },
   "outputs": [],
   "source": [
    "r = requests.post(dataUrl, data= {\n",
    "    \"sheet_id\": tableauData[\"sheetId\"],\n",
    "})\n",
    "\n",
    "dataReg = re.search('\\d+;({.*})\\d+;({.*})', r.text, re.MULTILINE)\n",
    "data1 = json.loads(dataReg.group(2))\n",
    "\n",
    "dataJson = data1[\"secondaryInfo\"][\"presModelMap\"][\"dataDictionary\"][\"presModelHolder\"][\"genDataDictionaryPresModel\"][\"dataSegments\"][\"0\"][\"dataColumns\"]"
   ]
  },
  {
   "cell_type": "markdown",
   "metadata": {},
   "source": [
    "Isolate what you want"
   ]
  },
  {
   "cell_type": "code",
   "execution_count": 6,
   "metadata": {
    "execution": {
     "iopub.execute_input": "2021-03-13T13:15:53.826398Z",
     "iopub.status.busy": "2021-03-13T13:15:53.824776Z",
     "iopub.status.idle": "2021-03-13T13:15:53.827241Z",
     "shell.execute_reply": "2021-03-13T13:15:53.827768Z"
    }
   },
   "outputs": [],
   "source": [
    "counties = dataJson[2]['dataValues'][:58]"
   ]
  },
  {
   "cell_type": "code",
   "execution_count": 7,
   "metadata": {
    "execution": {
     "iopub.execute_input": "2021-03-13T13:15:53.833262Z",
     "iopub.status.busy": "2021-03-13T13:15:53.831617Z",
     "iopub.status.idle": "2021-03-13T13:15:53.834063Z",
     "shell.execute_reply": "2021-03-13T13:15:53.834706Z"
    }
   },
   "outputs": [],
   "source": [
    "doses = dataJson[0]['dataValues'][3:61]"
   ]
  },
  {
   "cell_type": "markdown",
   "metadata": {},
   "source": [
    "Data formatting"
   ]
  },
  {
   "cell_type": "code",
   "execution_count": 8,
   "metadata": {
    "execution": {
     "iopub.execute_input": "2021-03-13T13:15:53.839990Z",
     "iopub.status.busy": "2021-03-13T13:15:53.838492Z",
     "iopub.status.idle": "2021-03-13T13:15:53.840747Z",
     "shell.execute_reply": "2021-03-13T13:15:53.841375Z"
    }
   },
   "outputs": [],
   "source": [
    "zipped = dict(zip(counties, doses))"
   ]
  },
  {
   "cell_type": "code",
   "execution_count": 9,
   "metadata": {
    "execution": {
     "iopub.execute_input": "2021-03-13T13:15:53.848947Z",
     "iopub.status.busy": "2021-03-13T13:15:53.847495Z",
     "iopub.status.idle": "2021-03-13T13:15:53.849750Z",
     "shell.execute_reply": "2021-03-13T13:15:53.850317Z"
    }
   },
   "outputs": [],
   "source": [
    "df = pd.Series(zipped).reset_index()"
   ]
  },
  {
   "cell_type": "code",
   "execution_count": 10,
   "metadata": {
    "execution": {
     "iopub.execute_input": "2021-03-13T13:15:53.855616Z",
     "iopub.status.busy": "2021-03-13T13:15:53.854197Z",
     "iopub.status.idle": "2021-03-13T13:15:53.856312Z",
     "shell.execute_reply": "2021-03-13T13:15:53.856891Z"
    }
   },
   "outputs": [],
   "source": [
    "df.columns = ['location','doses']"
   ]
  },
  {
   "cell_type": "markdown",
   "metadata": {},
   "source": [
    "Grab the overall California total"
   ]
  },
  {
   "cell_type": "code",
   "execution_count": 11,
   "metadata": {
    "execution": {
     "iopub.execute_input": "2021-03-13T13:15:53.864149Z",
     "iopub.status.busy": "2021-03-13T13:15:53.863416Z",
     "iopub.status.idle": "2021-03-13T13:15:53.868343Z",
     "shell.execute_reply": "2021-03-13T13:15:53.867620Z"
    }
   },
   "outputs": [],
   "source": [
    "add = {'location':'California','doses':dataJson[0]['dataValues'][2]}"
   ]
  },
  {
   "cell_type": "code",
   "execution_count": 12,
   "metadata": {
    "execution": {
     "iopub.execute_input": "2021-03-13T13:15:53.876007Z",
     "iopub.status.busy": "2021-03-13T13:15:53.875388Z",
     "iopub.status.idle": "2021-03-13T13:15:53.879525Z",
     "shell.execute_reply": "2021-03-13T13:15:53.878929Z"
    }
   },
   "outputs": [],
   "source": [
    "df = df.append(add, ignore_index=True)"
   ]
  },
  {
   "cell_type": "code",
   "execution_count": 13,
   "metadata": {
    "execution": {
     "iopub.execute_input": "2021-03-13T13:15:53.884806Z",
     "iopub.status.busy": "2021-03-13T13:15:53.884186Z",
     "iopub.status.idle": "2021-03-13T13:15:53.888407Z",
     "shell.execute_reply": "2021-03-13T13:15:53.887865Z"
    }
   },
   "outputs": [],
   "source": [
    "df = df.sort_values(by='location')"
   ]
  },
  {
   "cell_type": "code",
   "execution_count": 14,
   "metadata": {
    "execution": {
     "iopub.execute_input": "2021-03-13T13:15:53.896744Z",
     "iopub.status.busy": "2021-03-13T13:15:53.895232Z",
     "iopub.status.idle": "2021-03-13T13:15:53.897428Z",
     "shell.execute_reply": "2021-03-13T13:15:53.897942Z"
    }
   },
   "outputs": [],
   "source": [
    "df = df[df.location == 'California'].append(df[df.location != 'California']).reset_index(drop=True)"
   ]
  },
  {
   "cell_type": "code",
   "execution_count": null,
   "metadata": {},
   "outputs": [],
   "source": []
  },
  {
   "cell_type": "code",
   "execution_count": 15,
   "metadata": {
    "execution": {
     "iopub.execute_input": "2021-03-13T13:15:53.902272Z",
     "iopub.status.busy": "2021-03-13T13:15:53.901657Z",
     "iopub.status.idle": "2021-03-13T13:15:53.922186Z",
     "shell.execute_reply": "2021-03-13T13:15:53.921639Z"
    }
   },
   "outputs": [],
   "source": [
    "tz = pytz.timezone(\"America/New_York\")"
   ]
  },
  {
   "cell_type": "code",
   "execution_count": 16,
   "metadata": {
    "execution": {
     "iopub.execute_input": "2021-03-13T13:15:53.927435Z",
     "iopub.status.busy": "2021-03-13T13:15:53.925875Z",
     "iopub.status.idle": "2021-03-13T13:15:53.928117Z",
     "shell.execute_reply": "2021-03-13T13:15:53.928628Z"
    }
   },
   "outputs": [],
   "source": [
    "today = datetime.now(tz).date()"
   ]
  },
  {
   "cell_type": "code",
   "execution_count": 17,
   "metadata": {
    "execution": {
     "iopub.execute_input": "2021-03-13T13:15:53.933786Z",
     "iopub.status.busy": "2021-03-13T13:15:53.932278Z",
     "iopub.status.idle": "2021-03-13T13:15:53.934472Z",
     "shell.execute_reply": "2021-03-13T13:15:53.934986Z"
    }
   },
   "outputs": [],
   "source": [
    "data_dir = os.path.join(os.path.abspath(\"\"), \"data\")"
   ]
  },
  {
   "cell_type": "code",
   "execution_count": 18,
   "metadata": {
    "execution": {
     "iopub.execute_input": "2021-03-13T13:15:53.940026Z",
     "iopub.status.busy": "2021-03-13T13:15:53.938642Z",
     "iopub.status.idle": "2021-03-13T13:15:53.943571Z",
     "shell.execute_reply": "2021-03-13T13:15:53.944050Z"
    }
   },
   "outputs": [],
   "source": [
    "df.to_csv(os.path.join(data_dir, f\"{today}.csv\"), index=False)"
   ]
  },
  {
   "cell_type": "code",
   "execution_count": null,
   "metadata": {},
   "outputs": [],
   "source": []
  }
 ],
 "metadata": {
  "kernelspec": {
   "display_name": "Python 3",
   "language": "python",
   "name": "python3"
  },
  "language_info": {
   "codemirror_mode": {
    "name": "ipython",
    "version": 3
   },
   "file_extension": ".py",
   "mimetype": "text/x-python",
   "name": "python",
   "nbconvert_exporter": "python",
   "pygments_lexer": "ipython3",
   "version": "3.8.8"
  }
 },
 "nbformat": 4,
 "nbformat_minor": 4
}
