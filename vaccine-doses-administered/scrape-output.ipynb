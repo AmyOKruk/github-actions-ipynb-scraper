{
 "cells": [
  {
   "cell_type": "markdown",
   "metadata": {},
   "source": [
    "# California COVID vaccinations scrape"
   ]
  },
  {
   "cell_type": "markdown",
   "metadata": {},
   "source": [
    "By [Amy O'Kruk](https://twitter.com/amyokruk)"
   ]
  },
  {
   "cell_type": "markdown",
   "metadata": {},
   "source": [
    "Downloads data on vaccine doses administered by county and statewide from a Tableau-powered dashboard from the California Department of Public Health."
   ]
  },
  {
   "cell_type": "code",
   "execution_count": 1,
   "metadata": {
    "execution": {
     "iopub.execute_input": "2021-03-18T03:12:51.689104Z",
     "iopub.status.busy": "2021-03-18T03:12:51.688522Z",
     "iopub.status.idle": "2021-03-18T03:12:52.050539Z",
     "shell.execute_reply": "2021-03-18T03:12:52.049979Z"
    }
   },
   "outputs": [],
   "source": [
    "import pandas as pd\n",
    "import requests\n",
    "from bs4 import BeautifulSoup\n",
    "import json\n",
    "import re\n",
    "import time\n",
    "from time import gmtime, strftime \n",
    "import os\n",
    "import pytz\n",
    "from datetime import datetime"
   ]
  },
  {
   "cell_type": "markdown",
   "metadata": {},
   "source": [
    "Scrape the dashboard page"
   ]
  },
  {
   "cell_type": "code",
   "execution_count": 2,
   "metadata": {
    "execution": {
     "iopub.execute_input": "2021-03-18T03:12:52.056127Z",
     "iopub.status.busy": "2021-03-18T03:12:52.053885Z",
     "iopub.status.idle": "2021-03-18T03:12:52.888324Z",
     "shell.execute_reply": "2021-03-18T03:12:52.887521Z"
    }
   },
   "outputs": [],
   "source": [
    "url = \"https://public.tableau.com/interactive/views/COVID-19VaccineDashboardPublic/Vaccine?:embed=y&:showVizHome=n&:apiID=host0\"\n",
    "\n",
    "r = requests.get(url)\n",
    "soup = BeautifulSoup(r.text, \"html.parser\")"
   ]
  },
  {
   "cell_type": "code",
   "execution_count": 3,
   "metadata": {
    "execution": {
     "iopub.execute_input": "2021-03-18T03:12:52.892514Z",
     "iopub.status.busy": "2021-03-18T03:12:52.892120Z",
     "iopub.status.idle": "2021-03-18T03:12:52.894916Z",
     "shell.execute_reply": "2021-03-18T03:12:52.894551Z"
    }
   },
   "outputs": [],
   "source": [
    "tableauData = json.loads(soup.find(\"textarea\",{\"id\": \"tsConfigContainer\"}).text)"
   ]
  },
  {
   "cell_type": "markdown",
   "metadata": {},
   "source": [
    "Get the link to the Tableau data"
   ]
  },
  {
   "cell_type": "code",
   "execution_count": 4,
   "metadata": {
    "execution": {
     "iopub.execute_input": "2021-03-18T03:12:52.897637Z",
     "iopub.status.busy": "2021-03-18T03:12:52.897250Z",
     "iopub.status.idle": "2021-03-18T03:12:52.900002Z",
     "shell.execute_reply": "2021-03-18T03:12:52.899661Z"
    }
   },
   "outputs": [],
   "source": [
    "dataUrl = f'https://public.tableau.com{tableauData[\"vizql_root\"]}/bootstrapSession/sessions/{tableauData[\"sessionid\"]}'"
   ]
  },
  {
   "cell_type": "code",
   "execution_count": 5,
   "metadata": {
    "execution": {
     "iopub.execute_input": "2021-03-18T03:12:52.905470Z",
     "iopub.status.busy": "2021-03-18T03:12:52.905070Z",
     "iopub.status.idle": "2021-03-18T03:12:53.530504Z",
     "shell.execute_reply": "2021-03-18T03:12:53.530091Z"
    }
   },
   "outputs": [],
   "source": [
    "r = requests.post(dataUrl, data= {\n",
    "    \"sheet_id\": tableauData[\"sheetId\"],\n",
    "})\n",
    "\n",
    "dataReg = re.search('\\d+;({.*})\\d+;({.*})', r.text, re.MULTILINE)\n",
    "data1 = json.loads(dataReg.group(2))\n",
    "\n",
    "dataJson = data1[\"secondaryInfo\"][\"presModelMap\"][\"dataDictionary\"][\"presModelHolder\"][\"genDataDictionaryPresModel\"][\"dataSegments\"][\"0\"][\"dataColumns\"]"
   ]
  },
  {
   "cell_type": "markdown",
   "metadata": {},
   "source": [
    "Isolate what you want"
   ]
  },
  {
   "cell_type": "code",
   "execution_count": 6,
   "metadata": {
    "execution": {
     "iopub.execute_input": "2021-03-18T03:12:53.534401Z",
     "iopub.status.busy": "2021-03-18T03:12:53.533377Z",
     "iopub.status.idle": "2021-03-18T03:12:53.535007Z",
     "shell.execute_reply": "2021-03-18T03:12:53.535380Z"
    }
   },
   "outputs": [],
   "source": [
    "counties = dataJson[2]['dataValues'][:58]"
   ]
  },
  {
   "cell_type": "code",
   "execution_count": 7,
   "metadata": {
    "execution": {
     "iopub.execute_input": "2021-03-18T03:12:53.538770Z",
     "iopub.status.busy": "2021-03-18T03:12:53.537986Z",
     "iopub.status.idle": "2021-03-18T03:12:53.539583Z",
     "shell.execute_reply": "2021-03-18T03:12:53.539948Z"
    }
   },
   "outputs": [],
   "source": [
    "doses = dataJson[0]['dataValues'][3:61]"
   ]
  },
  {
   "cell_type": "markdown",
   "metadata": {},
   "source": [
    "Data formatting"
   ]
  },
  {
   "cell_type": "code",
   "execution_count": 8,
   "metadata": {
    "execution": {
     "iopub.execute_input": "2021-03-18T03:12:53.543259Z",
     "iopub.status.busy": "2021-03-18T03:12:53.542463Z",
     "iopub.status.idle": "2021-03-18T03:12:53.544495Z",
     "shell.execute_reply": "2021-03-18T03:12:53.544002Z"
    }
   },
   "outputs": [],
   "source": [
    "zipped = dict(zip(counties, doses))"
   ]
  },
  {
   "cell_type": "code",
   "execution_count": 9,
   "metadata": {
    "execution": {
     "iopub.execute_input": "2021-03-18T03:12:53.550073Z",
     "iopub.status.busy": "2021-03-18T03:12:53.549187Z",
     "iopub.status.idle": "2021-03-18T03:12:53.550758Z",
     "shell.execute_reply": "2021-03-18T03:12:53.551645Z"
    }
   },
   "outputs": [],
   "source": [
    "df = pd.Series(zipped).reset_index()"
   ]
  },
  {
   "cell_type": "code",
   "execution_count": 10,
   "metadata": {
    "execution": {
     "iopub.execute_input": "2021-03-18T03:12:53.555866Z",
     "iopub.status.busy": "2021-03-18T03:12:53.554880Z",
     "iopub.status.idle": "2021-03-18T03:12:53.556362Z",
     "shell.execute_reply": "2021-03-18T03:12:53.556720Z"
    }
   },
   "outputs": [],
   "source": [
    "df.columns = ['location','doses']"
   ]
  },
  {
   "cell_type": "markdown",
   "metadata": {},
   "source": [
    "Grab the overall California total"
   ]
  },
  {
   "cell_type": "code",
   "execution_count": 11,
   "metadata": {
    "execution": {
     "iopub.execute_input": "2021-03-18T03:12:53.560756Z",
     "iopub.status.busy": "2021-03-18T03:12:53.559310Z",
     "iopub.status.idle": "2021-03-18T03:12:53.561263Z",
     "shell.execute_reply": "2021-03-18T03:12:53.561623Z"
    }
   },
   "outputs": [],
   "source": [
    "add = {'location':'California','doses':dataJson[0]['dataValues'][2]}"
   ]
  },
  {
   "cell_type": "code",
   "execution_count": 12,
   "metadata": {
    "execution": {
     "iopub.execute_input": "2021-03-18T03:12:53.567254Z",
     "iopub.status.busy": "2021-03-18T03:12:53.566471Z",
     "iopub.status.idle": "2021-03-18T03:12:53.568453Z",
     "shell.execute_reply": "2021-03-18T03:12:53.568093Z"
    }
   },
   "outputs": [],
   "source": [
    "df = df.append(add, ignore_index=True)"
   ]
  },
  {
   "cell_type": "code",
   "execution_count": 13,
   "metadata": {
    "execution": {
     "iopub.execute_input": "2021-03-18T03:12:53.572302Z",
     "iopub.status.busy": "2021-03-18T03:12:53.571548Z",
     "iopub.status.idle": "2021-03-18T03:12:53.573428Z",
     "shell.execute_reply": "2021-03-18T03:12:53.573052Z"
    }
   },
   "outputs": [],
   "source": [
    "df = df.sort_values(by='location')"
   ]
  },
  {
   "cell_type": "code",
   "execution_count": 14,
   "metadata": {
    "execution": {
     "iopub.execute_input": "2021-03-18T03:12:53.578495Z",
     "iopub.status.busy": "2021-03-18T03:12:53.577728Z",
     "iopub.status.idle": "2021-03-18T03:12:53.579642Z",
     "shell.execute_reply": "2021-03-18T03:12:53.579267Z"
    }
   },
   "outputs": [],
   "source": [
    "df = df[df.location == 'California'].append(df[df.location != 'California']).reset_index(drop=True)"
   ]
  },
  {
   "cell_type": "code",
   "execution_count": null,
   "metadata": {},
   "outputs": [],
   "source": []
  },
  {
   "cell_type": "code",
   "execution_count": 15,
   "metadata": {
    "execution": {
     "iopub.execute_input": "2021-03-18T03:12:53.582359Z",
     "iopub.status.busy": "2021-03-18T03:12:53.581928Z",
     "iopub.status.idle": "2021-03-18T03:12:53.596491Z",
     "shell.execute_reply": "2021-03-18T03:12:53.596834Z"
    }
   },
   "outputs": [],
   "source": [
    "tz = pytz.timezone(\"America/New_York\")"
   ]
  },
  {
   "cell_type": "code",
   "execution_count": 16,
   "metadata": {
    "execution": {
     "iopub.execute_input": "2021-03-18T03:12:53.600302Z",
     "iopub.status.busy": "2021-03-18T03:12:53.599541Z",
     "iopub.status.idle": "2021-03-18T03:12:53.601141Z",
     "shell.execute_reply": "2021-03-18T03:12:53.601481Z"
    }
   },
   "outputs": [],
   "source": [
    "today = datetime.now(tz).date()"
   ]
  },
  {
   "cell_type": "code",
   "execution_count": 17,
   "metadata": {
    "execution": {
     "iopub.execute_input": "2021-03-18T03:12:53.604931Z",
     "iopub.status.busy": "2021-03-18T03:12:53.604163Z",
     "iopub.status.idle": "2021-03-18T03:12:53.605736Z",
     "shell.execute_reply": "2021-03-18T03:12:53.606101Z"
    }
   },
   "outputs": [],
   "source": [
    "data_dir = os.path.join(os.path.abspath(\"\"), \"data\")"
   ]
  },
  {
   "cell_type": "code",
   "execution_count": 18,
   "metadata": {
    "execution": {
     "iopub.execute_input": "2021-03-18T03:12:53.609340Z",
     "iopub.status.busy": "2021-03-18T03:12:53.608742Z",
     "iopub.status.idle": "2021-03-18T03:12:53.613013Z",
     "shell.execute_reply": "2021-03-18T03:12:53.612647Z"
    }
   },
   "outputs": [],
   "source": [
    "df.to_csv(os.path.join(data_dir, f\"{today}.csv\"), index=False)"
   ]
  },
  {
   "cell_type": "code",
   "execution_count": null,
   "metadata": {},
   "outputs": [],
   "source": []
  }
 ],
 "metadata": {
  "kernelspec": {
   "display_name": "Python 3",
   "language": "python",
   "name": "python3"
  },
  "language_info": {
   "codemirror_mode": {
    "name": "ipython",
    "version": 3
   },
   "file_extension": ".py",
   "mimetype": "text/x-python",
   "name": "python",
   "nbconvert_exporter": "python",
   "pygments_lexer": "ipython3",
   "version": "3.8.8"
  }
 },
 "nbformat": 4,
 "nbformat_minor": 4
}
