{
 "cells": [
  {
   "cell_type": "markdown",
   "metadata": {},
   "source": [
    "# California COVID vaccinations scrape"
   ]
  },
  {
   "cell_type": "markdown",
   "metadata": {},
   "source": [
    "By [Amy O'Kruk](https://twitter.com/amyokruk)"
   ]
  },
  {
   "cell_type": "markdown",
   "metadata": {},
   "source": [
    "Downloads data on vaccine doses administered by county and statewide from a Tableau-powered dashboard from the California Department of Public Health."
   ]
  },
  {
   "cell_type": "code",
   "execution_count": 1,
   "metadata": {
    "execution": {
     "iopub.execute_input": "2021-03-13T02:15:06.844225Z",
     "iopub.status.busy": "2021-03-13T02:15:06.843494Z",
     "iopub.status.idle": "2021-03-13T02:15:07.253145Z",
     "shell.execute_reply": "2021-03-13T02:15:07.252106Z"
    }
   },
   "outputs": [],
   "source": [
    "import pandas as pd\n",
    "import requests\n",
    "from bs4 import BeautifulSoup\n",
    "import json\n",
    "import re\n",
    "import time\n",
    "from time import gmtime, strftime \n",
    "import os\n",
    "import pytz\n",
    "from datetime import datetime"
   ]
  },
  {
   "cell_type": "markdown",
   "metadata": {},
   "source": [
    "Scrape the dashboard page"
   ]
  },
  {
   "cell_type": "code",
   "execution_count": 2,
   "metadata": {
    "execution": {
     "iopub.execute_input": "2021-03-13T02:15:07.259984Z",
     "iopub.status.busy": "2021-03-13T02:15:07.256886Z",
     "iopub.status.idle": "2021-03-13T02:15:07.721722Z",
     "shell.execute_reply": "2021-03-13T02:15:07.721152Z"
    }
   },
   "outputs": [],
   "source": [
    "url = \"https://public.tableau.com/interactive/views/COVID-19VaccineDashboardPublic/Vaccine?:embed=y&:showVizHome=n&:apiID=host0\"\n",
    "\n",
    "r = requests.get(url)\n",
    "soup = BeautifulSoup(r.text, \"html.parser\")"
   ]
  },
  {
   "cell_type": "code",
   "execution_count": 3,
   "metadata": {
    "execution": {
     "iopub.execute_input": "2021-03-13T02:15:07.726842Z",
     "iopub.status.busy": "2021-03-13T02:15:07.726155Z",
     "iopub.status.idle": "2021-03-13T02:15:07.730455Z",
     "shell.execute_reply": "2021-03-13T02:15:07.729923Z"
    }
   },
   "outputs": [],
   "source": [
    "tableauData = json.loads(soup.find(\"textarea\",{\"id\": \"tsConfigContainer\"}).text)"
   ]
  },
  {
   "cell_type": "markdown",
   "metadata": {},
   "source": [
    "Get the link to the Tableau data"
   ]
  },
  {
   "cell_type": "code",
   "execution_count": 4,
   "metadata": {
    "execution": {
     "iopub.execute_input": "2021-03-13T02:15:07.735135Z",
     "iopub.status.busy": "2021-03-13T02:15:07.733638Z",
     "iopub.status.idle": "2021-03-13T02:15:07.735763Z",
     "shell.execute_reply": "2021-03-13T02:15:07.736244Z"
    }
   },
   "outputs": [],
   "source": [
    "dataUrl = f'https://public.tableau.com{tableauData[\"vizql_root\"]}/bootstrapSession/sessions/{tableauData[\"sessionid\"]}'"
   ]
  },
  {
   "cell_type": "code",
   "execution_count": 5,
   "metadata": {
    "execution": {
     "iopub.execute_input": "2021-03-13T02:15:07.743685Z",
     "iopub.status.busy": "2021-03-13T02:15:07.743016Z",
     "iopub.status.idle": "2021-03-13T02:15:08.329600Z",
     "shell.execute_reply": "2021-03-13T02:15:08.329126Z"
    }
   },
   "outputs": [],
   "source": [
    "r = requests.post(dataUrl, data= {\n",
    "    \"sheet_id\": tableauData[\"sheetId\"],\n",
    "})\n",
    "\n",
    "dataReg = re.search('\\d+;({.*})\\d+;({.*})', r.text, re.MULTILINE)\n",
    "data1 = json.loads(dataReg.group(2))\n",
    "\n",
    "dataJson = data1[\"secondaryInfo\"][\"presModelMap\"][\"dataDictionary\"][\"presModelHolder\"][\"genDataDictionaryPresModel\"][\"dataSegments\"][\"0\"][\"dataColumns\"]"
   ]
  },
  {
   "cell_type": "markdown",
   "metadata": {},
   "source": [
    "Isolate what you want"
   ]
  },
  {
   "cell_type": "code",
   "execution_count": 6,
   "metadata": {
    "execution": {
     "iopub.execute_input": "2021-03-13T02:15:08.334481Z",
     "iopub.status.busy": "2021-03-13T02:15:08.333218Z",
     "iopub.status.idle": "2021-03-13T02:15:08.335105Z",
     "shell.execute_reply": "2021-03-13T02:15:08.335529Z"
    }
   },
   "outputs": [],
   "source": [
    "counties = dataJson[2]['dataValues'][:58]"
   ]
  },
  {
   "cell_type": "code",
   "execution_count": 7,
   "metadata": {
    "execution": {
     "iopub.execute_input": "2021-03-13T02:15:08.340475Z",
     "iopub.status.busy": "2021-03-13T02:15:08.339180Z",
     "iopub.status.idle": "2021-03-13T02:15:08.341168Z",
     "shell.execute_reply": "2021-03-13T02:15:08.341642Z"
    }
   },
   "outputs": [],
   "source": [
    "doses = dataJson[0]['dataValues'][3:61]"
   ]
  },
  {
   "cell_type": "markdown",
   "metadata": {},
   "source": [
    "Data formatting"
   ]
  },
  {
   "cell_type": "code",
   "execution_count": 8,
   "metadata": {
    "execution": {
     "iopub.execute_input": "2021-03-13T02:15:08.346611Z",
     "iopub.status.busy": "2021-03-13T02:15:08.345262Z",
     "iopub.status.idle": "2021-03-13T02:15:08.347382Z",
     "shell.execute_reply": "2021-03-13T02:15:08.347883Z"
    }
   },
   "outputs": [],
   "source": [
    "zipped = dict(zip(counties, doses))"
   ]
  },
  {
   "cell_type": "code",
   "execution_count": 9,
   "metadata": {
    "execution": {
     "iopub.execute_input": "2021-03-13T02:15:08.354655Z",
     "iopub.status.busy": "2021-03-13T02:15:08.353695Z",
     "iopub.status.idle": "2021-03-13T02:15:08.355745Z",
     "shell.execute_reply": "2021-03-13T02:15:08.356150Z"
    }
   },
   "outputs": [],
   "source": [
    "df = pd.Series(zipped).reset_index()"
   ]
  },
  {
   "cell_type": "code",
   "execution_count": 10,
   "metadata": {
    "execution": {
     "iopub.execute_input": "2021-03-13T02:15:08.360814Z",
     "iopub.status.busy": "2021-03-13T02:15:08.359466Z",
     "iopub.status.idle": "2021-03-13T02:15:08.361406Z",
     "shell.execute_reply": "2021-03-13T02:15:08.361871Z"
    }
   },
   "outputs": [],
   "source": [
    "df.columns = ['location','doses']"
   ]
  },
  {
   "cell_type": "markdown",
   "metadata": {},
   "source": [
    "Grab the overall California total"
   ]
  },
  {
   "cell_type": "code",
   "execution_count": 11,
   "metadata": {
    "execution": {
     "iopub.execute_input": "2021-03-13T02:15:08.366373Z",
     "iopub.status.busy": "2021-03-13T02:15:08.365124Z",
     "iopub.status.idle": "2021-03-13T02:15:08.367031Z",
     "shell.execute_reply": "2021-03-13T02:15:08.367498Z"
    }
   },
   "outputs": [],
   "source": [
    "add = {'location':'California','doses':dataJson[0]['dataValues'][2]}"
   ]
  },
  {
   "cell_type": "code",
   "execution_count": 12,
   "metadata": {
    "execution": {
     "iopub.execute_input": "2021-03-13T02:15:08.377042Z",
     "iopub.status.busy": "2021-03-13T02:15:08.375654Z",
     "iopub.status.idle": "2021-03-13T02:15:08.377717Z",
     "shell.execute_reply": "2021-03-13T02:15:08.378211Z"
    }
   },
   "outputs": [],
   "source": [
    "df = df.append(add, ignore_index=True)"
   ]
  },
  {
   "cell_type": "code",
   "execution_count": 13,
   "metadata": {
    "execution": {
     "iopub.execute_input": "2021-03-13T02:15:08.383294Z",
     "iopub.status.busy": "2021-03-13T02:15:08.382120Z",
     "iopub.status.idle": "2021-03-13T02:15:08.384200Z",
     "shell.execute_reply": "2021-03-13T02:15:08.384750Z"
    }
   },
   "outputs": [],
   "source": [
    "df = df.sort_values(by='location')"
   ]
  },
  {
   "cell_type": "code",
   "execution_count": 14,
   "metadata": {
    "execution": {
     "iopub.execute_input": "2021-03-13T02:15:08.391629Z",
     "iopub.status.busy": "2021-03-13T02:15:08.390268Z",
     "iopub.status.idle": "2021-03-13T02:15:08.392360Z",
     "shell.execute_reply": "2021-03-13T02:15:08.392932Z"
    }
   },
   "outputs": [],
   "source": [
    "df = df[df.location == 'California'].append(df[df.location != 'California']).reset_index(drop=True)"
   ]
  },
  {
   "cell_type": "code",
   "execution_count": null,
   "metadata": {},
   "outputs": [],
   "source": []
  },
  {
   "cell_type": "code",
   "execution_count": 15,
   "metadata": {
    "execution": {
     "iopub.execute_input": "2021-03-13T02:15:08.396431Z",
     "iopub.status.busy": "2021-03-13T02:15:08.395890Z",
     "iopub.status.idle": "2021-03-13T02:15:08.415582Z",
     "shell.execute_reply": "2021-03-13T02:15:08.414921Z"
    }
   },
   "outputs": [],
   "source": [
    "tz = pytz.timezone(\"America/New_York\")"
   ]
  },
  {
   "cell_type": "code",
   "execution_count": 16,
   "metadata": {
    "execution": {
     "iopub.execute_input": "2021-03-13T02:15:08.420204Z",
     "iopub.status.busy": "2021-03-13T02:15:08.418805Z",
     "iopub.status.idle": "2021-03-13T02:15:08.420841Z",
     "shell.execute_reply": "2021-03-13T02:15:08.421382Z"
    }
   },
   "outputs": [],
   "source": [
    "today = datetime.now(tz).date()"
   ]
  },
  {
   "cell_type": "code",
   "execution_count": 17,
   "metadata": {
    "execution": {
     "iopub.execute_input": "2021-03-13T02:15:08.426427Z",
     "iopub.status.busy": "2021-03-13T02:15:08.424855Z",
     "iopub.status.idle": "2021-03-13T02:15:08.427067Z",
     "shell.execute_reply": "2021-03-13T02:15:08.427582Z"
    }
   },
   "outputs": [],
   "source": [
    "data_dir = os.path.join(os.path.abspath(\"\"), \"data\")"
   ]
  },
  {
   "cell_type": "code",
   "execution_count": 18,
   "metadata": {
    "execution": {
     "iopub.execute_input": "2021-03-13T02:15:08.432024Z",
     "iopub.status.busy": "2021-03-13T02:15:08.431305Z",
     "iopub.status.idle": "2021-03-13T02:15:08.435696Z",
     "shell.execute_reply": "2021-03-13T02:15:08.436124Z"
    }
   },
   "outputs": [],
   "source": [
    "df.to_csv(os.path.join(data_dir, f\"{today}.csv\"), index=False)"
   ]
  },
  {
   "cell_type": "code",
   "execution_count": null,
   "metadata": {},
   "outputs": [],
   "source": []
  }
 ],
 "metadata": {
  "kernelspec": {
   "display_name": "Python 3",
   "language": "python",
   "name": "python3"
  },
  "language_info": {
   "codemirror_mode": {
    "name": "ipython",
    "version": 3
   },
   "file_extension": ".py",
   "mimetype": "text/x-python",
   "name": "python",
   "nbconvert_exporter": "python",
   "pygments_lexer": "ipython3",
   "version": "3.8.8"
  }
 },
 "nbformat": 4,
 "nbformat_minor": 4
}
