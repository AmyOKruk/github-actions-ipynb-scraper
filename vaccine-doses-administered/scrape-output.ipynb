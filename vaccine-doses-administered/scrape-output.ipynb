{
 "cells": [
  {
   "cell_type": "markdown",
   "metadata": {},
   "source": [
    "# California COVID vaccinations scrape"
   ]
  },
  {
   "cell_type": "markdown",
   "metadata": {},
   "source": [
    "By [Amy O'Kruk](https://twitter.com/amyokruk)"
   ]
  },
  {
   "cell_type": "markdown",
   "metadata": {},
   "source": [
    "Downloads data on vaccine doses administered by county and statewide from a Tableau-powered dashboard from the California Department of Public Health."
   ]
  },
  {
   "cell_type": "code",
   "execution_count": 1,
   "metadata": {
    "execution": {
     "iopub.execute_input": "2021-03-13T11:39:40.217582Z",
     "iopub.status.busy": "2021-03-13T11:39:40.216957Z",
     "iopub.status.idle": "2021-03-13T11:39:40.574539Z",
     "shell.execute_reply": "2021-03-13T11:39:40.573521Z"
    }
   },
   "outputs": [],
   "source": [
    "import pandas as pd\n",
    "import requests\n",
    "from bs4 import BeautifulSoup\n",
    "import json\n",
    "import re\n",
    "import time\n",
    "from time import gmtime, strftime \n",
    "import os\n",
    "import pytz\n",
    "from datetime import datetime"
   ]
  },
  {
   "cell_type": "markdown",
   "metadata": {},
   "source": [
    "Scrape the dashboard page"
   ]
  },
  {
   "cell_type": "code",
   "execution_count": 2,
   "metadata": {
    "execution": {
     "iopub.execute_input": "2021-03-13T11:39:40.578580Z",
     "iopub.status.busy": "2021-03-13T11:39:40.578068Z",
     "iopub.status.idle": "2021-03-13T11:39:41.360043Z",
     "shell.execute_reply": "2021-03-13T11:39:41.359242Z"
    }
   },
   "outputs": [],
   "source": [
    "url = \"https://public.tableau.com/interactive/views/COVID-19VaccineDashboardPublic/Vaccine?:embed=y&:showVizHome=n&:apiID=host0\"\n",
    "\n",
    "r = requests.get(url)\n",
    "soup = BeautifulSoup(r.text, \"html.parser\")"
   ]
  },
  {
   "cell_type": "code",
   "execution_count": 3,
   "metadata": {
    "execution": {
     "iopub.execute_input": "2021-03-13T11:39:41.364740Z",
     "iopub.status.busy": "2021-03-13T11:39:41.364214Z",
     "iopub.status.idle": "2021-03-13T11:39:41.367710Z",
     "shell.execute_reply": "2021-03-13T11:39:41.367264Z"
    }
   },
   "outputs": [],
   "source": [
    "tableauData = json.loads(soup.find(\"textarea\",{\"id\": \"tsConfigContainer\"}).text)"
   ]
  },
  {
   "cell_type": "markdown",
   "metadata": {},
   "source": [
    "Get the link to the Tableau data"
   ]
  },
  {
   "cell_type": "code",
   "execution_count": 4,
   "metadata": {
    "execution": {
     "iopub.execute_input": "2021-03-13T11:39:41.371933Z",
     "iopub.status.busy": "2021-03-13T11:39:41.370764Z",
     "iopub.status.idle": "2021-03-13T11:39:41.372597Z",
     "shell.execute_reply": "2021-03-13T11:39:41.373053Z"
    }
   },
   "outputs": [],
   "source": [
    "dataUrl = f'https://public.tableau.com{tableauData[\"vizql_root\"]}/bootstrapSession/sessions/{tableauData[\"sessionid\"]}'"
   ]
  },
  {
   "cell_type": "code",
   "execution_count": 5,
   "metadata": {
    "execution": {
     "iopub.execute_input": "2021-03-13T11:39:41.379177Z",
     "iopub.status.busy": "2021-03-13T11:39:41.378639Z",
     "iopub.status.idle": "2021-03-13T11:39:41.830562Z",
     "shell.execute_reply": "2021-03-13T11:39:41.829851Z"
    }
   },
   "outputs": [],
   "source": [
    "r = requests.post(dataUrl, data= {\n",
    "    \"sheet_id\": tableauData[\"sheetId\"],\n",
    "})\n",
    "\n",
    "dataReg = re.search('\\d+;({.*})\\d+;({.*})', r.text, re.MULTILINE)\n",
    "data1 = json.loads(dataReg.group(2))\n",
    "\n",
    "dataJson = data1[\"secondaryInfo\"][\"presModelMap\"][\"dataDictionary\"][\"presModelHolder\"][\"genDataDictionaryPresModel\"][\"dataSegments\"][\"0\"][\"dataColumns\"]"
   ]
  },
  {
   "cell_type": "markdown",
   "metadata": {},
   "source": [
    "Isolate what you want"
   ]
  },
  {
   "cell_type": "code",
   "execution_count": 6,
   "metadata": {
    "execution": {
     "iopub.execute_input": "2021-03-13T11:39:41.836068Z",
     "iopub.status.busy": "2021-03-13T11:39:41.834394Z",
     "iopub.status.idle": "2021-03-13T11:39:41.836915Z",
     "shell.execute_reply": "2021-03-13T11:39:41.837511Z"
    }
   },
   "outputs": [],
   "source": [
    "counties = dataJson[2]['dataValues'][:58]"
   ]
  },
  {
   "cell_type": "code",
   "execution_count": 7,
   "metadata": {
    "execution": {
     "iopub.execute_input": "2021-03-13T11:39:41.841707Z",
     "iopub.status.busy": "2021-03-13T11:39:41.840560Z",
     "iopub.status.idle": "2021-03-13T11:39:41.842276Z",
     "shell.execute_reply": "2021-03-13T11:39:41.842679Z"
    }
   },
   "outputs": [],
   "source": [
    "doses = dataJson[0]['dataValues'][3:61]"
   ]
  },
  {
   "cell_type": "markdown",
   "metadata": {},
   "source": [
    "Data formatting"
   ]
  },
  {
   "cell_type": "code",
   "execution_count": 8,
   "metadata": {
    "execution": {
     "iopub.execute_input": "2021-03-13T11:39:41.846646Z",
     "iopub.status.busy": "2021-03-13T11:39:41.845499Z",
     "iopub.status.idle": "2021-03-13T11:39:41.847232Z",
     "shell.execute_reply": "2021-03-13T11:39:41.847664Z"
    }
   },
   "outputs": [],
   "source": [
    "zipped = dict(zip(counties, doses))"
   ]
  },
  {
   "cell_type": "code",
   "execution_count": 9,
   "metadata": {
    "execution": {
     "iopub.execute_input": "2021-03-13T11:39:41.854099Z",
     "iopub.status.busy": "2021-03-13T11:39:41.852947Z",
     "iopub.status.idle": "2021-03-13T11:39:41.854662Z",
     "shell.execute_reply": "2021-03-13T11:39:41.855061Z"
    }
   },
   "outputs": [],
   "source": [
    "df = pd.Series(zipped).reset_index()"
   ]
  },
  {
   "cell_type": "code",
   "execution_count": 10,
   "metadata": {
    "execution": {
     "iopub.execute_input": "2021-03-13T11:39:41.859313Z",
     "iopub.status.busy": "2021-03-13T11:39:41.858160Z",
     "iopub.status.idle": "2021-03-13T11:39:41.859912Z",
     "shell.execute_reply": "2021-03-13T11:39:41.860340Z"
    }
   },
   "outputs": [],
   "source": [
    "df.columns = ['location','doses']"
   ]
  },
  {
   "cell_type": "markdown",
   "metadata": {},
   "source": [
    "Grab the overall California total"
   ]
  },
  {
   "cell_type": "code",
   "execution_count": 11,
   "metadata": {
    "execution": {
     "iopub.execute_input": "2021-03-13T11:39:41.864513Z",
     "iopub.status.busy": "2021-03-13T11:39:41.863344Z",
     "iopub.status.idle": "2021-03-13T11:39:41.865204Z",
     "shell.execute_reply": "2021-03-13T11:39:41.865665Z"
    }
   },
   "outputs": [],
   "source": [
    "add = {'location':'California','doses':dataJson[0]['dataValues'][2]}"
   ]
  },
  {
   "cell_type": "code",
   "execution_count": 12,
   "metadata": {
    "execution": {
     "iopub.execute_input": "2021-03-13T11:39:41.872420Z",
     "iopub.status.busy": "2021-03-13T11:39:41.871284Z",
     "iopub.status.idle": "2021-03-13T11:39:41.873024Z",
     "shell.execute_reply": "2021-03-13T11:39:41.873452Z"
    }
   },
   "outputs": [],
   "source": [
    "df = df.append(add, ignore_index=True)"
   ]
  },
  {
   "cell_type": "code",
   "execution_count": 13,
   "metadata": {
    "execution": {
     "iopub.execute_input": "2021-03-13T11:39:41.878140Z",
     "iopub.status.busy": "2021-03-13T11:39:41.877048Z",
     "iopub.status.idle": "2021-03-13T11:39:41.878795Z",
     "shell.execute_reply": "2021-03-13T11:39:41.879194Z"
    }
   },
   "outputs": [],
   "source": [
    "df = df.sort_values(by='location')"
   ]
  },
  {
   "cell_type": "code",
   "execution_count": 14,
   "metadata": {
    "execution": {
     "iopub.execute_input": "2021-03-13T11:39:41.885822Z",
     "iopub.status.busy": "2021-03-13T11:39:41.884555Z",
     "iopub.status.idle": "2021-03-13T11:39:41.886441Z",
     "shell.execute_reply": "2021-03-13T11:39:41.886873Z"
    }
   },
   "outputs": [],
   "source": [
    "df = df[df.location == 'California'].append(df[df.location != 'California']).reset_index(drop=True)"
   ]
  },
  {
   "cell_type": "code",
   "execution_count": null,
   "metadata": {},
   "outputs": [],
   "source": []
  },
  {
   "cell_type": "code",
   "execution_count": 15,
   "metadata": {
    "execution": {
     "iopub.execute_input": "2021-03-13T11:39:41.890226Z",
     "iopub.status.busy": "2021-03-13T11:39:41.889700Z",
     "iopub.status.idle": "2021-03-13T11:39:41.906813Z",
     "shell.execute_reply": "2021-03-13T11:39:41.906352Z"
    }
   },
   "outputs": [],
   "source": [
    "tz = pytz.timezone(\"America/New_York\")"
   ]
  },
  {
   "cell_type": "code",
   "execution_count": 16,
   "metadata": {
    "execution": {
     "iopub.execute_input": "2021-03-13T11:39:41.910790Z",
     "iopub.status.busy": "2021-03-13T11:39:41.909672Z",
     "iopub.status.idle": "2021-03-13T11:39:41.911385Z",
     "shell.execute_reply": "2021-03-13T11:39:41.911815Z"
    }
   },
   "outputs": [],
   "source": [
    "today = datetime.now(tz).date()"
   ]
  },
  {
   "cell_type": "code",
   "execution_count": 17,
   "metadata": {
    "execution": {
     "iopub.execute_input": "2021-03-13T11:39:41.917040Z",
     "iopub.status.busy": "2021-03-13T11:39:41.915821Z",
     "iopub.status.idle": "2021-03-13T11:39:41.917664Z",
     "shell.execute_reply": "2021-03-13T11:39:41.918105Z"
    }
   },
   "outputs": [],
   "source": [
    "data_dir = os.path.join(os.path.abspath(\"\"), \"data\")"
   ]
  },
  {
   "cell_type": "code",
   "execution_count": 18,
   "metadata": {
    "execution": {
     "iopub.execute_input": "2021-03-13T11:39:41.922282Z",
     "iopub.status.busy": "2021-03-13T11:39:41.921281Z",
     "iopub.status.idle": "2021-03-13T11:39:41.926249Z",
     "shell.execute_reply": "2021-03-13T11:39:41.925790Z"
    }
   },
   "outputs": [],
   "source": [
    "df.to_csv(os.path.join(data_dir, f\"{today}.csv\"), index=False)"
   ]
  },
  {
   "cell_type": "code",
   "execution_count": null,
   "metadata": {},
   "outputs": [],
   "source": []
  }
 ],
 "metadata": {
  "kernelspec": {
   "display_name": "Python 3",
   "language": "python",
   "name": "python3"
  },
  "language_info": {
   "codemirror_mode": {
    "name": "ipython",
    "version": 3
   },
   "file_extension": ".py",
   "mimetype": "text/x-python",
   "name": "python",
   "nbconvert_exporter": "python",
   "pygments_lexer": "ipython3",
   "version": "3.8.8"
  }
 },
 "nbformat": 4,
 "nbformat_minor": 4
}
