{
 "cells": [
  {
   "cell_type": "markdown",
   "metadata": {},
   "source": [
    "# California COVID vaccinations scrape"
   ]
  },
  {
   "cell_type": "markdown",
   "metadata": {},
   "source": [
    "By [Amy O'Kruk](https://twitter.com/amyokruk)"
   ]
  },
  {
   "cell_type": "markdown",
   "metadata": {},
   "source": [
    "Downloads data on vaccine doses administered by county and statewide from a Tableau-powered dashboard from the California Department of Public Health."
   ]
  },
  {
   "cell_type": "code",
   "execution_count": 1,
   "metadata": {
    "execution": {
     "iopub.execute_input": "2021-03-11T00:29:43.761344Z",
     "iopub.status.busy": "2021-03-11T00:29:43.760754Z",
     "iopub.status.idle": "2021-03-11T00:29:44.117371Z",
     "shell.execute_reply": "2021-03-11T00:29:44.116331Z"
    }
   },
   "outputs": [],
   "source": [
    "import pandas as pd\n",
    "import requests\n",
    "from bs4 import BeautifulSoup\n",
    "import json\n",
    "import re\n",
    "import time\n",
    "from time import gmtime, strftime \n",
    "import os\n",
    "import pytz\n",
    "from datetime import datetime"
   ]
  },
  {
   "cell_type": "markdown",
   "metadata": {},
   "source": [
    "Scrape the dashboard page"
   ]
  },
  {
   "cell_type": "code",
   "execution_count": 2,
   "metadata": {
    "execution": {
     "iopub.execute_input": "2021-03-11T00:29:44.122361Z",
     "iopub.status.busy": "2021-03-11T00:29:44.121958Z",
     "iopub.status.idle": "2021-03-11T00:29:44.379427Z",
     "shell.execute_reply": "2021-03-11T00:29:44.378481Z"
    }
   },
   "outputs": [],
   "source": [
    "url = \"https://public.tableau.com/interactive/views/COVID-19VaccineDashboardPublic/Vaccine?:embed=y&:showVizHome=n&:apiID=host0\"\n",
    "\n",
    "r = requests.get(url)\n",
    "soup = BeautifulSoup(r.text, \"html.parser\")"
   ]
  },
  {
   "cell_type": "code",
   "execution_count": 3,
   "metadata": {
    "execution": {
     "iopub.execute_input": "2021-03-11T00:29:44.383405Z",
     "iopub.status.busy": "2021-03-11T00:29:44.383028Z",
     "iopub.status.idle": "2021-03-11T00:29:44.386079Z",
     "shell.execute_reply": "2021-03-11T00:29:44.385750Z"
    }
   },
   "outputs": [],
   "source": [
    "tableauData = json.loads(soup.find(\"textarea\",{\"id\": \"tsConfigContainer\"}).text)"
   ]
  },
  {
   "cell_type": "markdown",
   "metadata": {},
   "source": [
    "Get the link to the Tableau data"
   ]
  },
  {
   "cell_type": "code",
   "execution_count": 4,
   "metadata": {
    "execution": {
     "iopub.execute_input": "2021-03-11T00:29:44.388754Z",
     "iopub.status.busy": "2021-03-11T00:29:44.388311Z",
     "iopub.status.idle": "2021-03-11T00:29:44.391716Z",
     "shell.execute_reply": "2021-03-11T00:29:44.390996Z"
    }
   },
   "outputs": [],
   "source": [
    "dataUrl = f'https://public.tableau.com{tableauData[\"vizql_root\"]}/bootstrapSession/sessions/{tableauData[\"sessionid\"]}'"
   ]
  },
  {
   "cell_type": "code",
   "execution_count": 5,
   "metadata": {
    "execution": {
     "iopub.execute_input": "2021-03-11T00:29:44.396658Z",
     "iopub.status.busy": "2021-03-11T00:29:44.395290Z",
     "iopub.status.idle": "2021-03-11T00:29:44.579272Z",
     "shell.execute_reply": "2021-03-11T00:29:44.578724Z"
    }
   },
   "outputs": [],
   "source": [
    "r = requests.post(dataUrl, data= {\n",
    "    \"sheet_id\": tableauData[\"sheetId\"],\n",
    "})\n",
    "\n",
    "dataReg = re.search('\\d+;({.*})\\d+;({.*})', r.text, re.MULTILINE)\n",
    "data1 = json.loads(dataReg.group(2))\n",
    "\n",
    "dataJson = data1[\"secondaryInfo\"][\"presModelMap\"][\"dataDictionary\"][\"presModelHolder\"][\"genDataDictionaryPresModel\"][\"dataSegments\"][\"0\"][\"dataColumns\"]"
   ]
  },
  {
   "cell_type": "markdown",
   "metadata": {},
   "source": [
    "Isolate what you want"
   ]
  },
  {
   "cell_type": "code",
   "execution_count": 6,
   "metadata": {
    "execution": {
     "iopub.execute_input": "2021-03-11T00:29:44.582523Z",
     "iopub.status.busy": "2021-03-11T00:29:44.581986Z",
     "iopub.status.idle": "2021-03-11T00:29:44.583752Z",
     "shell.execute_reply": "2021-03-11T00:29:44.583417Z"
    }
   },
   "outputs": [],
   "source": [
    "counties = dataJson[2]['dataValues'][:58]"
   ]
  },
  {
   "cell_type": "code",
   "execution_count": 7,
   "metadata": {
    "execution": {
     "iopub.execute_input": "2021-03-11T00:29:44.586349Z",
     "iopub.status.busy": "2021-03-11T00:29:44.585977Z",
     "iopub.status.idle": "2021-03-11T00:29:44.587816Z",
     "shell.execute_reply": "2021-03-11T00:29:44.587413Z"
    }
   },
   "outputs": [],
   "source": [
    "doses = dataJson[0]['dataValues'][3:61]"
   ]
  },
  {
   "cell_type": "markdown",
   "metadata": {},
   "source": [
    "Data formatting"
   ]
  },
  {
   "cell_type": "code",
   "execution_count": 8,
   "metadata": {
    "execution": {
     "iopub.execute_input": "2021-03-11T00:29:44.590894Z",
     "iopub.status.busy": "2021-03-11T00:29:44.590189Z",
     "iopub.status.idle": "2021-03-11T00:29:44.592011Z",
     "shell.execute_reply": "2021-03-11T00:29:44.591573Z"
    }
   },
   "outputs": [],
   "source": [
    "zipped = dict(zip(counties, doses))"
   ]
  },
  {
   "cell_type": "code",
   "execution_count": 9,
   "metadata": {
    "execution": {
     "iopub.execute_input": "2021-03-11T00:29:44.596903Z",
     "iopub.status.busy": "2021-03-11T00:29:44.596527Z",
     "iopub.status.idle": "2021-03-11T00:29:44.598311Z",
     "shell.execute_reply": "2021-03-11T00:29:44.597856Z"
    }
   },
   "outputs": [],
   "source": [
    "df = pd.Series(zipped).reset_index()"
   ]
  },
  {
   "cell_type": "code",
   "execution_count": 10,
   "metadata": {
    "execution": {
     "iopub.execute_input": "2021-03-11T00:29:44.601016Z",
     "iopub.status.busy": "2021-03-11T00:29:44.600648Z",
     "iopub.status.idle": "2021-03-11T00:29:44.602450Z",
     "shell.execute_reply": "2021-03-11T00:29:44.602065Z"
    }
   },
   "outputs": [],
   "source": [
    "df.columns = ['location','doses']"
   ]
  },
  {
   "cell_type": "markdown",
   "metadata": {},
   "source": [
    "Grab the overall California total"
   ]
  },
  {
   "cell_type": "code",
   "execution_count": 11,
   "metadata": {
    "execution": {
     "iopub.execute_input": "2021-03-11T00:29:44.605235Z",
     "iopub.status.busy": "2021-03-11T00:29:44.604868Z",
     "iopub.status.idle": "2021-03-11T00:29:44.606582Z",
     "shell.execute_reply": "2021-03-11T00:29:44.606248Z"
    }
   },
   "outputs": [],
   "source": [
    "add = {'location':'California','doses':dataJson[0]['dataValues'][2]}"
   ]
  },
  {
   "cell_type": "code",
   "execution_count": 12,
   "metadata": {
    "execution": {
     "iopub.execute_input": "2021-03-11T00:29:44.612147Z",
     "iopub.status.busy": "2021-03-11T00:29:44.611466Z",
     "iopub.status.idle": "2021-03-11T00:29:44.613017Z",
     "shell.execute_reply": "2021-03-11T00:29:44.613394Z"
    }
   },
   "outputs": [],
   "source": [
    "df = df.append(add, ignore_index=True)"
   ]
  },
  {
   "cell_type": "code",
   "execution_count": 13,
   "metadata": {
    "execution": {
     "iopub.execute_input": "2021-03-11T00:29:44.616842Z",
     "iopub.status.busy": "2021-03-11T00:29:44.616379Z",
     "iopub.status.idle": "2021-03-11T00:29:44.618597Z",
     "shell.execute_reply": "2021-03-11T00:29:44.618196Z"
    }
   },
   "outputs": [],
   "source": [
    "df = df.sort_values(by='location')"
   ]
  },
  {
   "cell_type": "code",
   "execution_count": 14,
   "metadata": {
    "execution": {
     "iopub.execute_input": "2021-03-11T00:29:44.623964Z",
     "iopub.status.busy": "2021-03-11T00:29:44.623086Z",
     "iopub.status.idle": "2021-03-11T00:29:44.624913Z",
     "shell.execute_reply": "2021-03-11T00:29:44.625374Z"
    }
   },
   "outputs": [],
   "source": [
    "df = df[df.location == 'California'].append(df[df.location != 'California']).reset_index(drop=True)"
   ]
  },
  {
   "cell_type": "code",
   "execution_count": null,
   "metadata": {},
   "outputs": [],
   "source": []
  },
  {
   "cell_type": "code",
   "execution_count": 15,
   "metadata": {
    "execution": {
     "iopub.execute_input": "2021-03-11T00:29:44.628107Z",
     "iopub.status.busy": "2021-03-11T00:29:44.627680Z",
     "iopub.status.idle": "2021-03-11T00:29:44.641359Z",
     "shell.execute_reply": "2021-03-11T00:29:44.640813Z"
    }
   },
   "outputs": [],
   "source": [
    "tz = pytz.timezone(\"America/New_York\")"
   ]
  },
  {
   "cell_type": "code",
   "execution_count": 16,
   "metadata": {
    "execution": {
     "iopub.execute_input": "2021-03-11T00:29:44.644428Z",
     "iopub.status.busy": "2021-03-11T00:29:44.643867Z",
     "iopub.status.idle": "2021-03-11T00:29:44.645732Z",
     "shell.execute_reply": "2021-03-11T00:29:44.645347Z"
    }
   },
   "outputs": [],
   "source": [
    "today = datetime.now(tz).date()"
   ]
  },
  {
   "cell_type": "code",
   "execution_count": 17,
   "metadata": {
    "execution": {
     "iopub.execute_input": "2021-03-11T00:29:44.649487Z",
     "iopub.status.busy": "2021-03-11T00:29:44.648419Z",
     "iopub.status.idle": "2021-03-11T00:29:44.650509Z",
     "shell.execute_reply": "2021-03-11T00:29:44.650141Z"
    }
   },
   "outputs": [],
   "source": [
    "data_dir = os.path.join(os.path.abspath(\"\"), \"data\")"
   ]
  },
  {
   "cell_type": "code",
   "execution_count": 18,
   "metadata": {
    "execution": {
     "iopub.execute_input": "2021-03-11T00:29:44.654330Z",
     "iopub.status.busy": "2021-03-11T00:29:44.653348Z",
     "iopub.status.idle": "2021-03-11T00:29:44.657882Z",
     "shell.execute_reply": "2021-03-11T00:29:44.657511Z"
    }
   },
   "outputs": [],
   "source": [
    "df.to_csv(os.path.join(data_dir, f\"{today}.csv\"), index=False)"
   ]
  },
  {
   "cell_type": "code",
   "execution_count": null,
   "metadata": {},
   "outputs": [],
   "source": []
  }
 ],
 "metadata": {
  "kernelspec": {
   "display_name": "Python 3",
   "language": "python",
   "name": "python3"
  },
  "language_info": {
   "codemirror_mode": {
    "name": "ipython",
    "version": 3
   },
   "file_extension": ".py",
   "mimetype": "text/x-python",
   "name": "python",
   "nbconvert_exporter": "python",
   "pygments_lexer": "ipython3",
   "version": "3.8.8"
  }
 },
 "nbformat": 4,
 "nbformat_minor": 4
}
