{
 "cells": [
  {
   "cell_type": "markdown",
   "metadata": {},
   "source": [
    "# California COVID vaccinations scrape"
   ]
  },
  {
   "cell_type": "markdown",
   "metadata": {},
   "source": [
    "By [Amy O'Kruk](https://twitter.com/amyokruk)"
   ]
  },
  {
   "cell_type": "markdown",
   "metadata": {},
   "source": [
    "Downloads data on vaccine doses administered by county and statewide from a Tableau-powered dashboard from the California Department of Public Health."
   ]
  },
  {
   "cell_type": "code",
   "execution_count": 1,
   "metadata": {
    "execution": {
     "iopub.execute_input": "2021-03-10T23:43:10.809205Z",
     "iopub.status.busy": "2021-03-10T23:43:10.808587Z",
     "iopub.status.idle": "2021-03-10T23:43:11.180298Z",
     "shell.execute_reply": "2021-03-10T23:43:11.179132Z"
    }
   },
   "outputs": [],
   "source": [
    "import pandas as pd\n",
    "import requests\n",
    "from bs4 import BeautifulSoup\n",
    "import json\n",
    "import re\n",
    "import time\n",
    "from time import gmtime, strftime \n",
    "import os\n",
    "import pytz\n",
    "from datetime import datetime"
   ]
  },
  {
   "cell_type": "markdown",
   "metadata": {},
   "source": [
    "Scrape the dashboard page"
   ]
  },
  {
   "cell_type": "code",
   "execution_count": 2,
   "metadata": {
    "execution": {
     "iopub.execute_input": "2021-03-10T23:43:11.186146Z",
     "iopub.status.busy": "2021-03-10T23:43:11.183631Z",
     "iopub.status.idle": "2021-03-10T23:43:11.568557Z",
     "shell.execute_reply": "2021-03-10T23:43:11.567598Z"
    }
   },
   "outputs": [],
   "source": [
    "url = \"https://public.tableau.com/interactive/views/COVID-19VaccineDashboardPublic/Vaccine?:embed=y&:showVizHome=n&:apiID=host0\"\n",
    "\n",
    "r = requests.get(url)\n",
    "soup = BeautifulSoup(r.text, \"html.parser\")"
   ]
  },
  {
   "cell_type": "code",
   "execution_count": 3,
   "metadata": {
    "execution": {
     "iopub.execute_input": "2021-03-10T23:43:11.574712Z",
     "iopub.status.busy": "2021-03-10T23:43:11.574193Z",
     "iopub.status.idle": "2021-03-10T23:43:11.578036Z",
     "shell.execute_reply": "2021-03-10T23:43:11.577604Z"
    }
   },
   "outputs": [],
   "source": [
    "tableauData = json.loads(soup.find(\"textarea\",{\"id\": \"tsConfigContainer\"}).text)"
   ]
  },
  {
   "cell_type": "markdown",
   "metadata": {},
   "source": [
    "Get the link to the Tableau data"
   ]
  },
  {
   "cell_type": "code",
   "execution_count": 4,
   "metadata": {
    "execution": {
     "iopub.execute_input": "2021-03-10T23:43:11.582945Z",
     "iopub.status.busy": "2021-03-10T23:43:11.581734Z",
     "iopub.status.idle": "2021-03-10T23:43:11.583633Z",
     "shell.execute_reply": "2021-03-10T23:43:11.584060Z"
    }
   },
   "outputs": [],
   "source": [
    "dataUrl = f'https://public.tableau.com{tableauData[\"vizql_root\"]}/bootstrapSession/sessions/{tableauData[\"sessionid\"]}'"
   ]
  },
  {
   "cell_type": "code",
   "execution_count": 5,
   "metadata": {
    "execution": {
     "iopub.execute_input": "2021-03-10T23:43:11.590684Z",
     "iopub.status.busy": "2021-03-10T23:43:11.590160Z",
     "iopub.status.idle": "2021-03-10T23:43:11.770004Z",
     "shell.execute_reply": "2021-03-10T23:43:11.769309Z"
    }
   },
   "outputs": [],
   "source": [
    "r = requests.post(dataUrl, data= {\n",
    "    \"sheet_id\": tableauData[\"sheetId\"],\n",
    "})\n",
    "\n",
    "dataReg = re.search('\\d+;({.*})\\d+;({.*})', r.text, re.MULTILINE)\n",
    "data1 = json.loads(dataReg.group(2))\n",
    "\n",
    "dataJson = data1[\"secondaryInfo\"][\"presModelMap\"][\"dataDictionary\"][\"presModelHolder\"][\"genDataDictionaryPresModel\"][\"dataSegments\"][\"0\"][\"dataColumns\"]"
   ]
  },
  {
   "cell_type": "markdown",
   "metadata": {},
   "source": [
    "Isolate what you want"
   ]
  },
  {
   "cell_type": "code",
   "execution_count": 6,
   "metadata": {
    "execution": {
     "iopub.execute_input": "2021-03-10T23:43:11.777905Z",
     "iopub.status.busy": "2021-03-10T23:43:11.776681Z",
     "iopub.status.idle": "2021-03-10T23:43:11.778496Z",
     "shell.execute_reply": "2021-03-10T23:43:11.778921Z"
    }
   },
   "outputs": [],
   "source": [
    "counties = dataJson[2]['dataValues'][:58]"
   ]
  },
  {
   "cell_type": "code",
   "execution_count": 7,
   "metadata": {
    "execution": {
     "iopub.execute_input": "2021-03-10T23:43:11.783267Z",
     "iopub.status.busy": "2021-03-10T23:43:11.782065Z",
     "iopub.status.idle": "2021-03-10T23:43:11.783938Z",
     "shell.execute_reply": "2021-03-10T23:43:11.784375Z"
    }
   },
   "outputs": [],
   "source": [
    "doses = dataJson[0]['dataValues'][3:61]"
   ]
  },
  {
   "cell_type": "markdown",
   "metadata": {},
   "source": [
    "Data formatting"
   ]
  },
  {
   "cell_type": "code",
   "execution_count": 8,
   "metadata": {
    "execution": {
     "iopub.execute_input": "2021-03-10T23:43:11.788567Z",
     "iopub.status.busy": "2021-03-10T23:43:11.787374Z",
     "iopub.status.idle": "2021-03-10T23:43:11.789154Z",
     "shell.execute_reply": "2021-03-10T23:43:11.789550Z"
    }
   },
   "outputs": [],
   "source": [
    "zipped = dict(zip(counties, doses))"
   ]
  },
  {
   "cell_type": "code",
   "execution_count": 9,
   "metadata": {
    "execution": {
     "iopub.execute_input": "2021-03-10T23:43:11.796261Z",
     "iopub.status.busy": "2021-03-10T23:43:11.794966Z",
     "iopub.status.idle": "2021-03-10T23:43:11.796814Z",
     "shell.execute_reply": "2021-03-10T23:43:11.797250Z"
    }
   },
   "outputs": [],
   "source": [
    "df = pd.Series(zipped).reset_index()"
   ]
  },
  {
   "cell_type": "code",
   "execution_count": 10,
   "metadata": {
    "execution": {
     "iopub.execute_input": "2021-03-10T23:43:11.801511Z",
     "iopub.status.busy": "2021-03-10T23:43:11.800416Z",
     "iopub.status.idle": "2021-03-10T23:43:11.802118Z",
     "shell.execute_reply": "2021-03-10T23:43:11.802542Z"
    }
   },
   "outputs": [],
   "source": [
    "df.columns = ['location','doses']"
   ]
  },
  {
   "cell_type": "markdown",
   "metadata": {},
   "source": [
    "Grab the overall California total"
   ]
  },
  {
   "cell_type": "code",
   "execution_count": 11,
   "metadata": {
    "execution": {
     "iopub.execute_input": "2021-03-10T23:43:11.806682Z",
     "iopub.status.busy": "2021-03-10T23:43:11.805754Z",
     "iopub.status.idle": "2021-03-10T23:43:11.808118Z",
     "shell.execute_reply": "2021-03-10T23:43:11.807688Z"
    }
   },
   "outputs": [],
   "source": [
    "add = {'location':'California','doses':dataJson[0]['dataValues'][2]}"
   ]
  },
  {
   "cell_type": "code",
   "execution_count": 12,
   "metadata": {
    "execution": {
     "iopub.execute_input": "2021-03-10T23:43:11.815154Z",
     "iopub.status.busy": "2021-03-10T23:43:11.813943Z",
     "iopub.status.idle": "2021-03-10T23:43:11.815768Z",
     "shell.execute_reply": "2021-03-10T23:43:11.816194Z"
    }
   },
   "outputs": [],
   "source": [
    "df = df.append(add, ignore_index=True)"
   ]
  },
  {
   "cell_type": "code",
   "execution_count": 13,
   "metadata": {
    "execution": {
     "iopub.execute_input": "2021-03-10T23:43:11.821189Z",
     "iopub.status.busy": "2021-03-10T23:43:11.820066Z",
     "iopub.status.idle": "2021-03-10T23:43:11.821874Z",
     "shell.execute_reply": "2021-03-10T23:43:11.822302Z"
    }
   },
   "outputs": [],
   "source": [
    "df = df.sort_values(by='location')"
   ]
  },
  {
   "cell_type": "code",
   "execution_count": 14,
   "metadata": {
    "execution": {
     "iopub.execute_input": "2021-03-10T23:43:11.828626Z",
     "iopub.status.busy": "2021-03-10T23:43:11.827619Z",
     "iopub.status.idle": "2021-03-10T23:43:11.829411Z",
     "shell.execute_reply": "2021-03-10T23:43:11.829851Z"
    }
   },
   "outputs": [],
   "source": [
    "df = df[df.location == 'California'].append(df[df.location != 'California']).reset_index(drop=True)"
   ]
  },
  {
   "cell_type": "code",
   "execution_count": null,
   "metadata": {},
   "outputs": [],
   "source": []
  },
  {
   "cell_type": "code",
   "execution_count": 15,
   "metadata": {
    "execution": {
     "iopub.execute_input": "2021-03-10T23:43:11.833184Z",
     "iopub.status.busy": "2021-03-10T23:43:11.832666Z",
     "iopub.status.idle": "2021-03-10T23:43:11.851663Z",
     "shell.execute_reply": "2021-03-10T23:43:11.851155Z"
    }
   },
   "outputs": [],
   "source": [
    "tz = pytz.timezone(\"America/New_York\")"
   ]
  },
  {
   "cell_type": "code",
   "execution_count": 16,
   "metadata": {
    "execution": {
     "iopub.execute_input": "2021-03-10T23:43:11.857321Z",
     "iopub.status.busy": "2021-03-10T23:43:11.856107Z",
     "iopub.status.idle": "2021-03-10T23:43:11.857919Z",
     "shell.execute_reply": "2021-03-10T23:43:11.858347Z"
    }
   },
   "outputs": [],
   "source": [
    "today = datetime.now(tz).date()"
   ]
  },
  {
   "cell_type": "code",
   "execution_count": 17,
   "metadata": {
    "execution": {
     "iopub.execute_input": "2021-03-10T23:43:11.862734Z",
     "iopub.status.busy": "2021-03-10T23:43:11.861504Z",
     "iopub.status.idle": "2021-03-10T23:43:11.863363Z",
     "shell.execute_reply": "2021-03-10T23:43:11.863795Z"
    }
   },
   "outputs": [],
   "source": [
    "data_dir = os.path.join(os.path.abspath(\"\"), \"data\")"
   ]
  },
  {
   "cell_type": "code",
   "execution_count": 18,
   "metadata": {
    "execution": {
     "iopub.execute_input": "2021-03-10T23:43:11.868206Z",
     "iopub.status.busy": "2021-03-10T23:43:11.867072Z",
     "iopub.status.idle": "2021-03-10T23:43:11.872140Z",
     "shell.execute_reply": "2021-03-10T23:43:11.871623Z"
    }
   },
   "outputs": [],
   "source": [
    "df.to_csv(os.path.join(data_dir, f\"{today}.csv\"), index=False)"
   ]
  },
  {
   "cell_type": "code",
   "execution_count": null,
   "metadata": {},
   "outputs": [],
   "source": []
  }
 ],
 "metadata": {
  "kernelspec": {
   "display_name": "Python 3",
   "language": "python",
   "name": "python3"
  },
  "language_info": {
   "codemirror_mode": {
    "name": "ipython",
    "version": 3
   },
   "file_extension": ".py",
   "mimetype": "text/x-python",
   "name": "python",
   "nbconvert_exporter": "python",
   "pygments_lexer": "ipython3",
   "version": "3.8.8"
  }
 },
 "nbformat": 4,
 "nbformat_minor": 4
}
