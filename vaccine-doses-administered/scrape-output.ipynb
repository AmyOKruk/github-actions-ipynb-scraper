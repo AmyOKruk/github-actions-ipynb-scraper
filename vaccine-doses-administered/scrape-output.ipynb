{
 "cells": [
  {
   "cell_type": "markdown",
   "metadata": {},
   "source": [
    "# California COVID vaccinations scrape"
   ]
  },
  {
   "cell_type": "markdown",
   "metadata": {},
   "source": [
    "By [Amy O'Kruk](https://twitter.com/amyokruk)"
   ]
  },
  {
   "cell_type": "markdown",
   "metadata": {},
   "source": [
    "Downloads data on vaccine doses administered by county and statewide from a Tableau-powered dashboard from the California Department of Public Health."
   ]
  },
  {
   "cell_type": "code",
   "execution_count": 1,
   "metadata": {
    "execution": {
     "iopub.execute_input": "2021-03-11T16:19:46.468492Z",
     "iopub.status.busy": "2021-03-11T16:19:46.467955Z",
     "iopub.status.idle": "2021-03-11T16:19:46.872607Z",
     "shell.execute_reply": "2021-03-11T16:19:46.872013Z"
    }
   },
   "outputs": [],
   "source": [
    "import pandas as pd\n",
    "import requests\n",
    "from bs4 import BeautifulSoup\n",
    "import json\n",
    "import re\n",
    "import time\n",
    "from time import gmtime, strftime \n",
    "import os\n",
    "import pytz\n",
    "from datetime import datetime"
   ]
  },
  {
   "cell_type": "markdown",
   "metadata": {},
   "source": [
    "Scrape the dashboard page"
   ]
  },
  {
   "cell_type": "code",
   "execution_count": 2,
   "metadata": {
    "execution": {
     "iopub.execute_input": "2021-03-11T16:19:46.877679Z",
     "iopub.status.busy": "2021-03-11T16:19:46.875585Z",
     "iopub.status.idle": "2021-03-11T16:19:47.418367Z",
     "shell.execute_reply": "2021-03-11T16:19:47.417892Z"
    }
   },
   "outputs": [],
   "source": [
    "url = \"https://public.tableau.com/interactive/views/COVID-19VaccineDashboardPublic/Vaccine?:embed=y&:showVizHome=n&:apiID=host0\"\n",
    "\n",
    "r = requests.get(url)\n",
    "soup = BeautifulSoup(r.text, \"html.parser\")"
   ]
  },
  {
   "cell_type": "code",
   "execution_count": 3,
   "metadata": {
    "execution": {
     "iopub.execute_input": "2021-03-11T16:19:47.422929Z",
     "iopub.status.busy": "2021-03-11T16:19:47.422421Z",
     "iopub.status.idle": "2021-03-11T16:19:47.425269Z",
     "shell.execute_reply": "2021-03-11T16:19:47.425611Z"
    }
   },
   "outputs": [],
   "source": [
    "tableauData = json.loads(soup.find(\"textarea\",{\"id\": \"tsConfigContainer\"}).text)"
   ]
  },
  {
   "cell_type": "markdown",
   "metadata": {},
   "source": [
    "Get the link to the Tableau data"
   ]
  },
  {
   "cell_type": "code",
   "execution_count": 4,
   "metadata": {
    "execution": {
     "iopub.execute_input": "2021-03-11T16:19:47.429298Z",
     "iopub.status.busy": "2021-03-11T16:19:47.428413Z",
     "iopub.status.idle": "2021-03-11T16:19:47.430013Z",
     "shell.execute_reply": "2021-03-11T16:19:47.430383Z"
    }
   },
   "outputs": [],
   "source": [
    "dataUrl = f'https://public.tableau.com{tableauData[\"vizql_root\"]}/bootstrapSession/sessions/{tableauData[\"sessionid\"]}'"
   ]
  },
  {
   "cell_type": "code",
   "execution_count": 5,
   "metadata": {
    "execution": {
     "iopub.execute_input": "2021-03-11T16:19:47.436457Z",
     "iopub.status.busy": "2021-03-11T16:19:47.435972Z",
     "iopub.status.idle": "2021-03-11T16:19:47.656656Z",
     "shell.execute_reply": "2021-03-11T16:19:47.656106Z"
    }
   },
   "outputs": [],
   "source": [
    "r = requests.post(dataUrl, data= {\n",
    "    \"sheet_id\": tableauData[\"sheetId\"],\n",
    "})\n",
    "\n",
    "dataReg = re.search('\\d+;({.*})\\d+;({.*})', r.text, re.MULTILINE)\n",
    "data1 = json.loads(dataReg.group(2))\n",
    "\n",
    "dataJson = data1[\"secondaryInfo\"][\"presModelMap\"][\"dataDictionary\"][\"presModelHolder\"][\"genDataDictionaryPresModel\"][\"dataSegments\"][\"0\"][\"dataColumns\"]"
   ]
  },
  {
   "cell_type": "markdown",
   "metadata": {},
   "source": [
    "Isolate what you want"
   ]
  },
  {
   "cell_type": "code",
   "execution_count": 6,
   "metadata": {
    "execution": {
     "iopub.execute_input": "2021-03-11T16:19:47.660423Z",
     "iopub.status.busy": "2021-03-11T16:19:47.659618Z",
     "iopub.status.idle": "2021-03-11T16:19:47.661536Z",
     "shell.execute_reply": "2021-03-11T16:19:47.661143Z"
    }
   },
   "outputs": [],
   "source": [
    "counties = dataJson[2]['dataValues'][:58]"
   ]
  },
  {
   "cell_type": "code",
   "execution_count": 7,
   "metadata": {
    "execution": {
     "iopub.execute_input": "2021-03-11T16:19:47.664988Z",
     "iopub.status.busy": "2021-03-11T16:19:47.664195Z",
     "iopub.status.idle": "2021-03-11T16:19:47.666145Z",
     "shell.execute_reply": "2021-03-11T16:19:47.665749Z"
    }
   },
   "outputs": [],
   "source": [
    "doses = dataJson[0]['dataValues'][3:61]"
   ]
  },
  {
   "cell_type": "markdown",
   "metadata": {},
   "source": [
    "Data formatting"
   ]
  },
  {
   "cell_type": "code",
   "execution_count": 8,
   "metadata": {
    "execution": {
     "iopub.execute_input": "2021-03-11T16:19:47.669491Z",
     "iopub.status.busy": "2021-03-11T16:19:47.668715Z",
     "iopub.status.idle": "2021-03-11T16:19:47.670580Z",
     "shell.execute_reply": "2021-03-11T16:19:47.670215Z"
    }
   },
   "outputs": [],
   "source": [
    "zipped = dict(zip(counties, doses))"
   ]
  },
  {
   "cell_type": "code",
   "execution_count": 9,
   "metadata": {
    "execution": {
     "iopub.execute_input": "2021-03-11T16:19:47.675788Z",
     "iopub.status.busy": "2021-03-11T16:19:47.675031Z",
     "iopub.status.idle": "2021-03-11T16:19:47.676959Z",
     "shell.execute_reply": "2021-03-11T16:19:47.676594Z"
    }
   },
   "outputs": [],
   "source": [
    "df = pd.Series(zipped).reset_index()"
   ]
  },
  {
   "cell_type": "code",
   "execution_count": 10,
   "metadata": {
    "execution": {
     "iopub.execute_input": "2021-03-11T16:19:47.680406Z",
     "iopub.status.busy": "2021-03-11T16:19:47.679621Z",
     "iopub.status.idle": "2021-03-11T16:19:47.681538Z",
     "shell.execute_reply": "2021-03-11T16:19:47.681168Z"
    }
   },
   "outputs": [],
   "source": [
    "df.columns = ['location','doses']"
   ]
  },
  {
   "cell_type": "markdown",
   "metadata": {},
   "source": [
    "Grab the overall California total"
   ]
  },
  {
   "cell_type": "code",
   "execution_count": 11,
   "metadata": {
    "execution": {
     "iopub.execute_input": "2021-03-11T16:19:47.684938Z",
     "iopub.status.busy": "2021-03-11T16:19:47.684151Z",
     "iopub.status.idle": "2021-03-11T16:19:47.685768Z",
     "shell.execute_reply": "2021-03-11T16:19:47.686109Z"
    }
   },
   "outputs": [],
   "source": [
    "add = {'location':'California','doses':dataJson[0]['dataValues'][2]}"
   ]
  },
  {
   "cell_type": "code",
   "execution_count": 12,
   "metadata": {
    "execution": {
     "iopub.execute_input": "2021-03-11T16:19:47.691888Z",
     "iopub.status.busy": "2021-03-11T16:19:47.691107Z",
     "iopub.status.idle": "2021-03-11T16:19:47.692672Z",
     "shell.execute_reply": "2021-03-11T16:19:47.693040Z"
    }
   },
   "outputs": [],
   "source": [
    "df = df.append(add, ignore_index=True)"
   ]
  },
  {
   "cell_type": "code",
   "execution_count": 13,
   "metadata": {
    "execution": {
     "iopub.execute_input": "2021-03-11T16:19:47.697046Z",
     "iopub.status.busy": "2021-03-11T16:19:47.696249Z",
     "iopub.status.idle": "2021-03-11T16:19:47.697884Z",
     "shell.execute_reply": "2021-03-11T16:19:47.698251Z"
    }
   },
   "outputs": [],
   "source": [
    "df = df.sort_values(by='location')"
   ]
  },
  {
   "cell_type": "code",
   "execution_count": 14,
   "metadata": {
    "execution": {
     "iopub.execute_input": "2021-03-11T16:19:47.703397Z",
     "iopub.status.busy": "2021-03-11T16:19:47.702946Z",
     "iopub.status.idle": "2021-03-11T16:19:47.704363Z",
     "shell.execute_reply": "2021-03-11T16:19:47.704717Z"
    }
   },
   "outputs": [],
   "source": [
    "df = df[df.location == 'California'].append(df[df.location != 'California']).reset_index(drop=True)"
   ]
  },
  {
   "cell_type": "code",
   "execution_count": null,
   "metadata": {},
   "outputs": [],
   "source": []
  },
  {
   "cell_type": "code",
   "execution_count": 15,
   "metadata": {
    "execution": {
     "iopub.execute_input": "2021-03-11T16:19:47.707588Z",
     "iopub.status.busy": "2021-03-11T16:19:47.707147Z",
     "iopub.status.idle": "2021-03-11T16:19:47.722669Z",
     "shell.execute_reply": "2021-03-11T16:19:47.722221Z"
    }
   },
   "outputs": [],
   "source": [
    "tz = pytz.timezone(\"America/New_York\")"
   ]
  },
  {
   "cell_type": "code",
   "execution_count": 16,
   "metadata": {
    "execution": {
     "iopub.execute_input": "2021-03-11T16:19:47.726348Z",
     "iopub.status.busy": "2021-03-11T16:19:47.725527Z",
     "iopub.status.idle": "2021-03-11T16:19:47.727042Z",
     "shell.execute_reply": "2021-03-11T16:19:47.727414Z"
    }
   },
   "outputs": [],
   "source": [
    "today = datetime.now(tz).date()"
   ]
  },
  {
   "cell_type": "code",
   "execution_count": 17,
   "metadata": {
    "execution": {
     "iopub.execute_input": "2021-03-11T16:19:47.731142Z",
     "iopub.status.busy": "2021-03-11T16:19:47.730341Z",
     "iopub.status.idle": "2021-03-11T16:19:47.731966Z",
     "shell.execute_reply": "2021-03-11T16:19:47.732339Z"
    }
   },
   "outputs": [],
   "source": [
    "data_dir = os.path.join(os.path.abspath(\"\"), \"data\")"
   ]
  },
  {
   "cell_type": "code",
   "execution_count": 18,
   "metadata": {
    "execution": {
     "iopub.execute_input": "2021-03-11T16:19:47.735670Z",
     "iopub.status.busy": "2021-03-11T16:19:47.735178Z",
     "iopub.status.idle": "2021-03-11T16:19:47.739445Z",
     "shell.execute_reply": "2021-03-11T16:19:47.739002Z"
    }
   },
   "outputs": [],
   "source": [
    "df.to_csv(os.path.join(data_dir, f\"{today}.csv\"), index=False)"
   ]
  },
  {
   "cell_type": "code",
   "execution_count": null,
   "metadata": {},
   "outputs": [],
   "source": []
  }
 ],
 "metadata": {
  "kernelspec": {
   "display_name": "Python 3",
   "language": "python",
   "name": "python3"
  },
  "language_info": {
   "codemirror_mode": {
    "name": "ipython",
    "version": 3
   },
   "file_extension": ".py",
   "mimetype": "text/x-python",
   "name": "python",
   "nbconvert_exporter": "python",
   "pygments_lexer": "ipython3",
   "version": "3.8.8"
  }
 },
 "nbformat": 4,
 "nbformat_minor": 4
}
