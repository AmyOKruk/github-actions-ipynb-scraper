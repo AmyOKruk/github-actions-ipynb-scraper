{
 "cells": [
  {
   "cell_type": "markdown",
   "metadata": {},
   "source": [
    "# California COVID vaccinations scrape"
   ]
  },
  {
   "cell_type": "markdown",
   "metadata": {},
   "source": [
    "By [Amy O'Kruk](https://twitter.com/amyokruk)"
   ]
  },
  {
   "cell_type": "markdown",
   "metadata": {},
   "source": [
    "Downloads data on vaccine doses administered by county and statewide from a Tableau-powered dashboard from the California Department of Public Health."
   ]
  },
  {
   "cell_type": "code",
   "execution_count": 1,
   "metadata": {
    "execution": {
     "iopub.execute_input": "2021-03-12T07:11:35.586964Z",
     "iopub.status.busy": "2021-03-12T07:11:35.586375Z",
     "iopub.status.idle": "2021-03-12T07:11:35.974242Z",
     "shell.execute_reply": "2021-03-12T07:11:35.973297Z"
    }
   },
   "outputs": [],
   "source": [
    "import pandas as pd\n",
    "import requests\n",
    "from bs4 import BeautifulSoup\n",
    "import json\n",
    "import re\n",
    "import time\n",
    "from time import gmtime, strftime \n",
    "import os\n",
    "import pytz\n",
    "from datetime import datetime"
   ]
  },
  {
   "cell_type": "markdown",
   "metadata": {},
   "source": [
    "Scrape the dashboard page"
   ]
  },
  {
   "cell_type": "code",
   "execution_count": 2,
   "metadata": {
    "execution": {
     "iopub.execute_input": "2021-03-12T07:11:35.979030Z",
     "iopub.status.busy": "2021-03-12T07:11:35.978490Z",
     "iopub.status.idle": "2021-03-12T07:11:36.401655Z",
     "shell.execute_reply": "2021-03-12T07:11:36.400788Z"
    }
   },
   "outputs": [],
   "source": [
    "url = \"https://public.tableau.com/interactive/views/COVID-19VaccineDashboardPublic/Vaccine?:embed=y&:showVizHome=n&:apiID=host0\"\n",
    "\n",
    "r = requests.get(url)\n",
    "soup = BeautifulSoup(r.text, \"html.parser\")"
   ]
  },
  {
   "cell_type": "code",
   "execution_count": 3,
   "metadata": {
    "execution": {
     "iopub.execute_input": "2021-03-12T07:11:36.406603Z",
     "iopub.status.busy": "2021-03-12T07:11:36.405892Z",
     "iopub.status.idle": "2021-03-12T07:11:36.410053Z",
     "shell.execute_reply": "2021-03-12T07:11:36.409521Z"
    }
   },
   "outputs": [],
   "source": [
    "tableauData = json.loads(soup.find(\"textarea\",{\"id\": \"tsConfigContainer\"}).text)"
   ]
  },
  {
   "cell_type": "markdown",
   "metadata": {},
   "source": [
    "Get the link to the Tableau data"
   ]
  },
  {
   "cell_type": "code",
   "execution_count": 4,
   "metadata": {
    "execution": {
     "iopub.execute_input": "2021-03-12T07:11:36.414212Z",
     "iopub.status.busy": "2021-03-12T07:11:36.413605Z",
     "iopub.status.idle": "2021-03-12T07:11:36.417563Z",
     "shell.execute_reply": "2021-03-12T07:11:36.417093Z"
    }
   },
   "outputs": [],
   "source": [
    "dataUrl = f'https://public.tableau.com{tableauData[\"vizql_root\"]}/bootstrapSession/sessions/{tableauData[\"sessionid\"]}'"
   ]
  },
  {
   "cell_type": "code",
   "execution_count": 5,
   "metadata": {
    "execution": {
     "iopub.execute_input": "2021-03-12T07:11:36.424089Z",
     "iopub.status.busy": "2021-03-12T07:11:36.423457Z",
     "iopub.status.idle": "2021-03-12T07:11:36.989867Z",
     "shell.execute_reply": "2021-03-12T07:11:36.990325Z"
    }
   },
   "outputs": [],
   "source": [
    "r = requests.post(dataUrl, data= {\n",
    "    \"sheet_id\": tableauData[\"sheetId\"],\n",
    "})\n",
    "\n",
    "dataReg = re.search('\\d+;({.*})\\d+;({.*})', r.text, re.MULTILINE)\n",
    "data1 = json.loads(dataReg.group(2))\n",
    "\n",
    "dataJson = data1[\"secondaryInfo\"][\"presModelMap\"][\"dataDictionary\"][\"presModelHolder\"][\"genDataDictionaryPresModel\"][\"dataSegments\"][\"0\"][\"dataColumns\"]"
   ]
  },
  {
   "cell_type": "markdown",
   "metadata": {},
   "source": [
    "Isolate what you want"
   ]
  },
  {
   "cell_type": "code",
   "execution_count": 6,
   "metadata": {
    "execution": {
     "iopub.execute_input": "2021-03-12T07:11:36.994617Z",
     "iopub.status.busy": "2021-03-12T07:11:36.993999Z",
     "iopub.status.idle": "2021-03-12T07:11:36.998875Z",
     "shell.execute_reply": "2021-03-12T07:11:36.997761Z"
    }
   },
   "outputs": [],
   "source": [
    "counties = dataJson[2]['dataValues'][:58]"
   ]
  },
  {
   "cell_type": "code",
   "execution_count": 7,
   "metadata": {
    "execution": {
     "iopub.execute_input": "2021-03-12T07:11:37.002677Z",
     "iopub.status.busy": "2021-03-12T07:11:37.001975Z",
     "iopub.status.idle": "2021-03-12T07:11:37.005806Z",
     "shell.execute_reply": "2021-03-12T07:11:37.005318Z"
    }
   },
   "outputs": [],
   "source": [
    "doses = dataJson[0]['dataValues'][3:61]"
   ]
  },
  {
   "cell_type": "markdown",
   "metadata": {},
   "source": [
    "Data formatting"
   ]
  },
  {
   "cell_type": "code",
   "execution_count": 8,
   "metadata": {
    "execution": {
     "iopub.execute_input": "2021-03-12T07:11:37.009231Z",
     "iopub.status.busy": "2021-03-12T07:11:37.008736Z",
     "iopub.status.idle": "2021-03-12T07:11:37.012972Z",
     "shell.execute_reply": "2021-03-12T07:11:37.012052Z"
    }
   },
   "outputs": [],
   "source": [
    "zipped = dict(zip(counties, doses))"
   ]
  },
  {
   "cell_type": "code",
   "execution_count": 9,
   "metadata": {
    "execution": {
     "iopub.execute_input": "2021-03-12T07:11:37.019546Z",
     "iopub.status.busy": "2021-03-12T07:11:37.018892Z",
     "iopub.status.idle": "2021-03-12T07:11:37.022755Z",
     "shell.execute_reply": "2021-03-12T07:11:37.022248Z"
    }
   },
   "outputs": [],
   "source": [
    "df = pd.Series(zipped).reset_index()"
   ]
  },
  {
   "cell_type": "code",
   "execution_count": 10,
   "metadata": {
    "execution": {
     "iopub.execute_input": "2021-03-12T07:11:37.026122Z",
     "iopub.status.busy": "2021-03-12T07:11:37.025605Z",
     "iopub.status.idle": "2021-03-12T07:11:37.029353Z",
     "shell.execute_reply": "2021-03-12T07:11:37.028899Z"
    }
   },
   "outputs": [],
   "source": [
    "df.columns = ['location','doses']"
   ]
  },
  {
   "cell_type": "markdown",
   "metadata": {},
   "source": [
    "Grab the overall California total"
   ]
  },
  {
   "cell_type": "code",
   "execution_count": 11,
   "metadata": {
    "execution": {
     "iopub.execute_input": "2021-03-12T07:11:37.041638Z",
     "iopub.status.busy": "2021-03-12T07:11:37.040827Z",
     "iopub.status.idle": "2021-03-12T07:11:37.045079Z",
     "shell.execute_reply": "2021-03-12T07:11:37.045527Z"
    }
   },
   "outputs": [],
   "source": [
    "add = {'location':'California','doses':dataJson[0]['dataValues'][2]}"
   ]
  },
  {
   "cell_type": "code",
   "execution_count": 12,
   "metadata": {
    "execution": {
     "iopub.execute_input": "2021-03-12T07:11:37.054227Z",
     "iopub.status.busy": "2021-03-12T07:11:37.053582Z",
     "iopub.status.idle": "2021-03-12T07:11:37.057613Z",
     "shell.execute_reply": "2021-03-12T07:11:37.057076Z"
    }
   },
   "outputs": [],
   "source": [
    "df = df.append(add, ignore_index=True)"
   ]
  },
  {
   "cell_type": "code",
   "execution_count": 13,
   "metadata": {
    "execution": {
     "iopub.execute_input": "2021-03-12T07:11:37.063945Z",
     "iopub.status.busy": "2021-03-12T07:11:37.063363Z",
     "iopub.status.idle": "2021-03-12T07:11:37.071618Z",
     "shell.execute_reply": "2021-03-12T07:11:37.069622Z"
    }
   },
   "outputs": [],
   "source": [
    "df = df.sort_values(by='location')"
   ]
  },
  {
   "cell_type": "code",
   "execution_count": 14,
   "metadata": {
    "execution": {
     "iopub.execute_input": "2021-03-12T07:11:37.077699Z",
     "iopub.status.busy": "2021-03-12T07:11:37.076942Z",
     "iopub.status.idle": "2021-03-12T07:11:37.081203Z",
     "shell.execute_reply": "2021-03-12T07:11:37.080705Z"
    }
   },
   "outputs": [],
   "source": [
    "df = df[df.location == 'California'].append(df[df.location != 'California']).reset_index(drop=True)"
   ]
  },
  {
   "cell_type": "code",
   "execution_count": null,
   "metadata": {},
   "outputs": [],
   "source": []
  },
  {
   "cell_type": "code",
   "execution_count": 15,
   "metadata": {
    "execution": {
     "iopub.execute_input": "2021-03-12T07:11:37.085005Z",
     "iopub.status.busy": "2021-03-12T07:11:37.084438Z",
     "iopub.status.idle": "2021-03-12T07:11:37.105124Z",
     "shell.execute_reply": "2021-03-12T07:11:37.104580Z"
    }
   },
   "outputs": [],
   "source": [
    "tz = pytz.timezone(\"America/New_York\")"
   ]
  },
  {
   "cell_type": "code",
   "execution_count": 16,
   "metadata": {
    "execution": {
     "iopub.execute_input": "2021-03-12T07:11:37.108612Z",
     "iopub.status.busy": "2021-03-12T07:11:37.107922Z",
     "iopub.status.idle": "2021-03-12T07:11:37.111815Z",
     "shell.execute_reply": "2021-03-12T07:11:37.112420Z"
    }
   },
   "outputs": [],
   "source": [
    "today = datetime.now(tz).date()"
   ]
  },
  {
   "cell_type": "code",
   "execution_count": 17,
   "metadata": {
    "execution": {
     "iopub.execute_input": "2021-03-12T07:11:37.116526Z",
     "iopub.status.busy": "2021-03-12T07:11:37.115508Z",
     "iopub.status.idle": "2021-03-12T07:11:37.119871Z",
     "shell.execute_reply": "2021-03-12T07:11:37.119263Z"
    }
   },
   "outputs": [],
   "source": [
    "data_dir = os.path.join(os.path.abspath(\"\"), \"data\")"
   ]
  },
  {
   "cell_type": "code",
   "execution_count": 18,
   "metadata": {
    "execution": {
     "iopub.execute_input": "2021-03-12T07:11:37.125071Z",
     "iopub.status.busy": "2021-03-12T07:11:37.123465Z",
     "iopub.status.idle": "2021-03-12T07:11:37.130243Z",
     "shell.execute_reply": "2021-03-12T07:11:37.129593Z"
    }
   },
   "outputs": [],
   "source": [
    "df.to_csv(os.path.join(data_dir, f\"{today}.csv\"), index=False)"
   ]
  },
  {
   "cell_type": "code",
   "execution_count": null,
   "metadata": {},
   "outputs": [],
   "source": []
  }
 ],
 "metadata": {
  "kernelspec": {
   "display_name": "Python 3",
   "language": "python",
   "name": "python3"
  },
  "language_info": {
   "codemirror_mode": {
    "name": "ipython",
    "version": 3
   },
   "file_extension": ".py",
   "mimetype": "text/x-python",
   "name": "python",
   "nbconvert_exporter": "python",
   "pygments_lexer": "ipython3",
   "version": "3.8.8"
  }
 },
 "nbformat": 4,
 "nbformat_minor": 4
}
