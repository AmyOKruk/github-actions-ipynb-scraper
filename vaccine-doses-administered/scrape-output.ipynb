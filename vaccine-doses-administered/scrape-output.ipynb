{
 "cells": [
  {
   "cell_type": "markdown",
   "metadata": {},
   "source": [
    "# California COVID vaccinations scrape"
   ]
  },
  {
   "cell_type": "markdown",
   "metadata": {},
   "source": [
    "By [Amy O'Kruk](https://twitter.com/amyokruk)"
   ]
  },
  {
   "cell_type": "markdown",
   "metadata": {},
   "source": [
    "Downloads data on vaccine doses administered by county and statewide from a Tableau-powered dashboard from the California Department of Public Health."
   ]
  },
  {
   "cell_type": "code",
   "execution_count": 1,
   "metadata": {
    "execution": {
     "iopub.execute_input": "2021-03-12T23:43:50.680833Z",
     "iopub.status.busy": "2021-03-12T23:43:50.680090Z",
     "iopub.status.idle": "2021-03-12T23:43:51.051695Z",
     "shell.execute_reply": "2021-03-12T23:43:51.051189Z"
    }
   },
   "outputs": [],
   "source": [
    "import pandas as pd\n",
    "import requests\n",
    "from bs4 import BeautifulSoup\n",
    "import json\n",
    "import re\n",
    "import time\n",
    "from time import gmtime, strftime \n",
    "import os\n",
    "import pytz\n",
    "from datetime import datetime"
   ]
  },
  {
   "cell_type": "markdown",
   "metadata": {},
   "source": [
    "Scrape the dashboard page"
   ]
  },
  {
   "cell_type": "code",
   "execution_count": 2,
   "metadata": {
    "execution": {
     "iopub.execute_input": "2021-03-12T23:43:51.058006Z",
     "iopub.status.busy": "2021-03-12T23:43:51.057450Z",
     "iopub.status.idle": "2021-03-12T23:43:51.507790Z",
     "shell.execute_reply": "2021-03-12T23:43:51.507311Z"
    }
   },
   "outputs": [],
   "source": [
    "url = \"https://public.tableau.com/interactive/views/COVID-19VaccineDashboardPublic/Vaccine?:embed=y&:showVizHome=n&:apiID=host0\"\n",
    "\n",
    "r = requests.get(url)\n",
    "soup = BeautifulSoup(r.text, \"html.parser\")"
   ]
  },
  {
   "cell_type": "code",
   "execution_count": 3,
   "metadata": {
    "execution": {
     "iopub.execute_input": "2021-03-12T23:43:51.512751Z",
     "iopub.status.busy": "2021-03-12T23:43:51.512130Z",
     "iopub.status.idle": "2021-03-12T23:43:51.516145Z",
     "shell.execute_reply": "2021-03-12T23:43:51.515712Z"
    }
   },
   "outputs": [],
   "source": [
    "tableauData = json.loads(soup.find(\"textarea\",{\"id\": \"tsConfigContainer\"}).text)"
   ]
  },
  {
   "cell_type": "markdown",
   "metadata": {},
   "source": [
    "Get the link to the Tableau data"
   ]
  },
  {
   "cell_type": "code",
   "execution_count": 4,
   "metadata": {
    "execution": {
     "iopub.execute_input": "2021-03-12T23:43:51.519938Z",
     "iopub.status.busy": "2021-03-12T23:43:51.519381Z",
     "iopub.status.idle": "2021-03-12T23:43:51.522660Z",
     "shell.execute_reply": "2021-03-12T23:43:51.523301Z"
    }
   },
   "outputs": [],
   "source": [
    "dataUrl = f'https://public.tableau.com{tableauData[\"vizql_root\"]}/bootstrapSession/sessions/{tableauData[\"sessionid\"]}'"
   ]
  },
  {
   "cell_type": "code",
   "execution_count": 5,
   "metadata": {
    "execution": {
     "iopub.execute_input": "2021-03-12T23:43:51.529489Z",
     "iopub.status.busy": "2021-03-12T23:43:51.528956Z",
     "iopub.status.idle": "2021-03-12T23:43:51.771705Z",
     "shell.execute_reply": "2021-03-12T23:43:51.771293Z"
    }
   },
   "outputs": [],
   "source": [
    "r = requests.post(dataUrl, data= {\n",
    "    \"sheet_id\": tableauData[\"sheetId\"],\n",
    "})\n",
    "\n",
    "dataReg = re.search('\\d+;({.*})\\d+;({.*})', r.text, re.MULTILINE)\n",
    "data1 = json.loads(dataReg.group(2))\n",
    "\n",
    "dataJson = data1[\"secondaryInfo\"][\"presModelMap\"][\"dataDictionary\"][\"presModelHolder\"][\"genDataDictionaryPresModel\"][\"dataSegments\"][\"0\"][\"dataColumns\"]"
   ]
  },
  {
   "cell_type": "markdown",
   "metadata": {},
   "source": [
    "Isolate what you want"
   ]
  },
  {
   "cell_type": "code",
   "execution_count": 6,
   "metadata": {
    "execution": {
     "iopub.execute_input": "2021-03-12T23:43:51.776009Z",
     "iopub.status.busy": "2021-03-12T23:43:51.774652Z",
     "iopub.status.idle": "2021-03-12T23:43:51.776603Z",
     "shell.execute_reply": "2021-03-12T23:43:51.777015Z"
    }
   },
   "outputs": [],
   "source": [
    "counties = dataJson[2]['dataValues'][:58]"
   ]
  },
  {
   "cell_type": "code",
   "execution_count": 7,
   "metadata": {
    "execution": {
     "iopub.execute_input": "2021-03-12T23:43:51.780777Z",
     "iopub.status.busy": "2021-03-12T23:43:51.779891Z",
     "iopub.status.idle": "2021-03-12T23:43:51.781654Z",
     "shell.execute_reply": "2021-03-12T23:43:51.782064Z"
    }
   },
   "outputs": [],
   "source": [
    "doses = dataJson[0]['dataValues'][3:61]"
   ]
  },
  {
   "cell_type": "markdown",
   "metadata": {},
   "source": [
    "Data formatting"
   ]
  },
  {
   "cell_type": "code",
   "execution_count": 8,
   "metadata": {
    "execution": {
     "iopub.execute_input": "2021-03-12T23:43:51.785702Z",
     "iopub.status.busy": "2021-03-12T23:43:51.784797Z",
     "iopub.status.idle": "2021-03-12T23:43:51.786589Z",
     "shell.execute_reply": "2021-03-12T23:43:51.786997Z"
    }
   },
   "outputs": [],
   "source": [
    "zipped = dict(zip(counties, doses))"
   ]
  },
  {
   "cell_type": "code",
   "execution_count": 9,
   "metadata": {
    "execution": {
     "iopub.execute_input": "2021-03-12T23:43:51.792685Z",
     "iopub.status.busy": "2021-03-12T23:43:51.791817Z",
     "iopub.status.idle": "2021-03-12T23:43:51.793441Z",
     "shell.execute_reply": "2021-03-12T23:43:51.793868Z"
    }
   },
   "outputs": [],
   "source": [
    "df = pd.Series(zipped).reset_index()"
   ]
  },
  {
   "cell_type": "code",
   "execution_count": 10,
   "metadata": {
    "execution": {
     "iopub.execute_input": "2021-03-12T23:43:51.797592Z",
     "iopub.status.busy": "2021-03-12T23:43:51.796707Z",
     "iopub.status.idle": "2021-03-12T23:43:51.798401Z",
     "shell.execute_reply": "2021-03-12T23:43:51.798775Z"
    }
   },
   "outputs": [],
   "source": [
    "df.columns = ['location','doses']"
   ]
  },
  {
   "cell_type": "markdown",
   "metadata": {},
   "source": [
    "Grab the overall California total"
   ]
  },
  {
   "cell_type": "code",
   "execution_count": 11,
   "metadata": {
    "execution": {
     "iopub.execute_input": "2021-03-12T23:43:51.802413Z",
     "iopub.status.busy": "2021-03-12T23:43:51.801558Z",
     "iopub.status.idle": "2021-03-12T23:43:51.803178Z",
     "shell.execute_reply": "2021-03-12T23:43:51.803602Z"
    }
   },
   "outputs": [],
   "source": [
    "add = {'location':'California','doses':dataJson[0]['dataValues'][2]}"
   ]
  },
  {
   "cell_type": "code",
   "execution_count": 12,
   "metadata": {
    "execution": {
     "iopub.execute_input": "2021-03-12T23:43:51.809065Z",
     "iopub.status.busy": "2021-03-12T23:43:51.808593Z",
     "iopub.status.idle": "2021-03-12T23:43:51.810545Z",
     "shell.execute_reply": "2021-03-12T23:43:51.810948Z"
    }
   },
   "outputs": [],
   "source": [
    "df = df.append(add, ignore_index=True)"
   ]
  },
  {
   "cell_type": "code",
   "execution_count": 13,
   "metadata": {
    "execution": {
     "iopub.execute_input": "2021-03-12T23:43:51.815165Z",
     "iopub.status.busy": "2021-03-12T23:43:51.814328Z",
     "iopub.status.idle": "2021-03-12T23:43:51.815846Z",
     "shell.execute_reply": "2021-03-12T23:43:51.816301Z"
    }
   },
   "outputs": [],
   "source": [
    "df = df.sort_values(by='location')"
   ]
  },
  {
   "cell_type": "code",
   "execution_count": 14,
   "metadata": {
    "execution": {
     "iopub.execute_input": "2021-03-12T23:43:51.821867Z",
     "iopub.status.busy": "2021-03-12T23:43:51.820919Z",
     "iopub.status.idle": "2021-03-12T23:43:51.823207Z",
     "shell.execute_reply": "2021-03-12T23:43:51.822790Z"
    }
   },
   "outputs": [],
   "source": [
    "df = df[df.location == 'California'].append(df[df.location != 'California']).reset_index(drop=True)"
   ]
  },
  {
   "cell_type": "code",
   "execution_count": null,
   "metadata": {},
   "outputs": [],
   "source": []
  },
  {
   "cell_type": "code",
   "execution_count": 15,
   "metadata": {
    "execution": {
     "iopub.execute_input": "2021-03-12T23:43:51.826150Z",
     "iopub.status.busy": "2021-03-12T23:43:51.825663Z",
     "iopub.status.idle": "2021-03-12T23:43:51.841715Z",
     "shell.execute_reply": "2021-03-12T23:43:51.842086Z"
    }
   },
   "outputs": [],
   "source": [
    "tz = pytz.timezone(\"America/New_York\")"
   ]
  },
  {
   "cell_type": "code",
   "execution_count": 16,
   "metadata": {
    "execution": {
     "iopub.execute_input": "2021-03-12T23:43:51.845116Z",
     "iopub.status.busy": "2021-03-12T23:43:51.844647Z",
     "iopub.status.idle": "2021-03-12T23:43:51.846445Z",
     "shell.execute_reply": "2021-03-12T23:43:51.846843Z"
    }
   },
   "outputs": [],
   "source": [
    "today = datetime.now(tz).date()"
   ]
  },
  {
   "cell_type": "code",
   "execution_count": 17,
   "metadata": {
    "execution": {
     "iopub.execute_input": "2021-03-12T23:43:51.850534Z",
     "iopub.status.busy": "2021-03-12T23:43:51.849673Z",
     "iopub.status.idle": "2021-03-12T23:43:51.851236Z",
     "shell.execute_reply": "2021-03-12T23:43:51.851655Z"
    }
   },
   "outputs": [],
   "source": [
    "data_dir = os.path.join(os.path.abspath(\"\"), \"data\")"
   ]
  },
  {
   "cell_type": "code",
   "execution_count": 18,
   "metadata": {
    "execution": {
     "iopub.execute_input": "2021-03-12T23:43:51.855081Z",
     "iopub.status.busy": "2021-03-12T23:43:51.854603Z",
     "iopub.status.idle": "2021-03-12T23:43:51.858221Z",
     "shell.execute_reply": "2021-03-12T23:43:51.858592Z"
    }
   },
   "outputs": [],
   "source": [
    "df.to_csv(os.path.join(data_dir, f\"{today}.csv\"), index=False)"
   ]
  },
  {
   "cell_type": "code",
   "execution_count": null,
   "metadata": {},
   "outputs": [],
   "source": []
  }
 ],
 "metadata": {
  "kernelspec": {
   "display_name": "Python 3",
   "language": "python",
   "name": "python3"
  },
  "language_info": {
   "codemirror_mode": {
    "name": "ipython",
    "version": 3
   },
   "file_extension": ".py",
   "mimetype": "text/x-python",
   "name": "python",
   "nbconvert_exporter": "python",
   "pygments_lexer": "ipython3",
   "version": "3.8.8"
  }
 },
 "nbformat": 4,
 "nbformat_minor": 4
}
