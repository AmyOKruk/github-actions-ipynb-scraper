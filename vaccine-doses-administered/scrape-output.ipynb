{
 "cells": [
  {
   "cell_type": "markdown",
   "metadata": {},
   "source": [
    "# California COVID vaccinations scrape"
   ]
  },
  {
   "cell_type": "markdown",
   "metadata": {},
   "source": [
    "By [Amy O'Kruk](https://twitter.com/amyokruk)"
   ]
  },
  {
   "cell_type": "markdown",
   "metadata": {},
   "source": [
    "Downloads data on vaccine doses administered by county and statewide from a Tableau-powered dashboard from the California Department of Public Health."
   ]
  },
  {
   "cell_type": "code",
   "execution_count": 1,
   "metadata": {
    "execution": {
     "iopub.execute_input": "2021-03-20T03:14:58.335201Z",
     "iopub.status.busy": "2021-03-20T03:14:58.334509Z",
     "iopub.status.idle": "2021-03-20T03:14:58.690699Z",
     "shell.execute_reply": "2021-03-20T03:14:58.689730Z"
    }
   },
   "outputs": [],
   "source": [
    "import pandas as pd\n",
    "import requests\n",
    "from bs4 import BeautifulSoup\n",
    "import json\n",
    "import re\n",
    "import time\n",
    "from time import gmtime, strftime \n",
    "import os\n",
    "import pytz\n",
    "from datetime import datetime"
   ]
  },
  {
   "cell_type": "markdown",
   "metadata": {},
   "source": [
    "Scrape the dashboard page"
   ]
  },
  {
   "cell_type": "code",
   "execution_count": 2,
   "metadata": {
    "execution": {
     "iopub.execute_input": "2021-03-20T03:14:58.696759Z",
     "iopub.status.busy": "2021-03-20T03:14:58.694235Z",
     "iopub.status.idle": "2021-03-20T03:14:59.217282Z",
     "shell.execute_reply": "2021-03-20T03:14:59.216173Z"
    }
   },
   "outputs": [],
   "source": [
    "url = \"https://public.tableau.com/interactive/views/COVID-19VaccineDashboardPublic/Vaccine?:embed=y&:showVizHome=n&:apiID=host0\"\n",
    "\n",
    "r = requests.get(url)\n",
    "soup = BeautifulSoup(r.text, \"html.parser\")"
   ]
  },
  {
   "cell_type": "code",
   "execution_count": 3,
   "metadata": {
    "execution": {
     "iopub.execute_input": "2021-03-20T03:14:59.221983Z",
     "iopub.status.busy": "2021-03-20T03:14:59.221435Z",
     "iopub.status.idle": "2021-03-20T03:14:59.223754Z",
     "shell.execute_reply": "2021-03-20T03:14:59.223324Z"
    }
   },
   "outputs": [],
   "source": [
    "tableauData = json.loads(soup.find(\"textarea\",{\"id\": \"tsConfigContainer\"}).text)"
   ]
  },
  {
   "cell_type": "markdown",
   "metadata": {},
   "source": [
    "Get the link to the Tableau data"
   ]
  },
  {
   "cell_type": "code",
   "execution_count": 4,
   "metadata": {
    "execution": {
     "iopub.execute_input": "2021-03-20T03:14:59.228009Z",
     "iopub.status.busy": "2021-03-20T03:14:59.226903Z",
     "iopub.status.idle": "2021-03-20T03:14:59.228572Z",
     "shell.execute_reply": "2021-03-20T03:14:59.228962Z"
    }
   },
   "outputs": [],
   "source": [
    "dataUrl = f'https://public.tableau.com{tableauData[\"vizql_root\"]}/bootstrapSession/sessions/{tableauData[\"sessionid\"]}'"
   ]
  },
  {
   "cell_type": "code",
   "execution_count": 5,
   "metadata": {
    "execution": {
     "iopub.execute_input": "2021-03-20T03:14:59.234891Z",
     "iopub.status.busy": "2021-03-20T03:14:59.234400Z",
     "iopub.status.idle": "2021-03-20T03:14:59.514713Z",
     "shell.execute_reply": "2021-03-20T03:14:59.514023Z"
    }
   },
   "outputs": [],
   "source": [
    "r = requests.post(dataUrl, data= {\n",
    "    \"sheet_id\": tableauData[\"sheetId\"],\n",
    "})\n",
    "\n",
    "dataReg = re.search('\\d+;({.*})\\d+;({.*})', r.text, re.MULTILINE)\n",
    "data1 = json.loads(dataReg.group(2))\n",
    "\n",
    "dataJson = data1[\"secondaryInfo\"][\"presModelMap\"][\"dataDictionary\"][\"presModelHolder\"][\"genDataDictionaryPresModel\"][\"dataSegments\"][\"0\"][\"dataColumns\"]"
   ]
  },
  {
   "cell_type": "markdown",
   "metadata": {},
   "source": [
    "Isolate what you want"
   ]
  },
  {
   "cell_type": "code",
   "execution_count": 6,
   "metadata": {
    "execution": {
     "iopub.execute_input": "2021-03-20T03:14:59.519144Z",
     "iopub.status.busy": "2021-03-20T03:14:59.518630Z",
     "iopub.status.idle": "2021-03-20T03:14:59.522394Z",
     "shell.execute_reply": "2021-03-20T03:14:59.521410Z"
    }
   },
   "outputs": [],
   "source": [
    "counties = dataJson[2]['dataValues'][:58]"
   ]
  },
  {
   "cell_type": "code",
   "execution_count": 7,
   "metadata": {
    "execution": {
     "iopub.execute_input": "2021-03-20T03:14:59.525851Z",
     "iopub.status.busy": "2021-03-20T03:14:59.525311Z",
     "iopub.status.idle": "2021-03-20T03:14:59.528667Z",
     "shell.execute_reply": "2021-03-20T03:14:59.528207Z"
    }
   },
   "outputs": [],
   "source": [
    "doses = dataJson[0]['dataValues'][3:61]"
   ]
  },
  {
   "cell_type": "markdown",
   "metadata": {},
   "source": [
    "Data formatting"
   ]
  },
  {
   "cell_type": "code",
   "execution_count": 8,
   "metadata": {
    "execution": {
     "iopub.execute_input": "2021-03-20T03:14:59.532130Z",
     "iopub.status.busy": "2021-03-20T03:14:59.531639Z",
     "iopub.status.idle": "2021-03-20T03:14:59.534976Z",
     "shell.execute_reply": "2021-03-20T03:14:59.534528Z"
    }
   },
   "outputs": [],
   "source": [
    "zipped = dict(zip(counties, doses))"
   ]
  },
  {
   "cell_type": "code",
   "execution_count": 9,
   "metadata": {
    "execution": {
     "iopub.execute_input": "2021-03-20T03:14:59.540654Z",
     "iopub.status.busy": "2021-03-20T03:14:59.540132Z",
     "iopub.status.idle": "2021-03-20T03:14:59.543112Z",
     "shell.execute_reply": "2021-03-20T03:14:59.543510Z"
    }
   },
   "outputs": [],
   "source": [
    "df = pd.Series(zipped).reset_index()"
   ]
  },
  {
   "cell_type": "code",
   "execution_count": 10,
   "metadata": {
    "execution": {
     "iopub.execute_input": "2021-03-20T03:14:59.547220Z",
     "iopub.status.busy": "2021-03-20T03:14:59.546728Z",
     "iopub.status.idle": "2021-03-20T03:14:59.550137Z",
     "shell.execute_reply": "2021-03-20T03:14:59.549650Z"
    }
   },
   "outputs": [],
   "source": [
    "df.columns = ['location','doses']"
   ]
  },
  {
   "cell_type": "markdown",
   "metadata": {},
   "source": [
    "Grab the overall California total"
   ]
  },
  {
   "cell_type": "code",
   "execution_count": 11,
   "metadata": {
    "execution": {
     "iopub.execute_input": "2021-03-20T03:14:59.553516Z",
     "iopub.status.busy": "2021-03-20T03:14:59.552996Z",
     "iopub.status.idle": "2021-03-20T03:14:59.556375Z",
     "shell.execute_reply": "2021-03-20T03:14:59.555900Z"
    }
   },
   "outputs": [],
   "source": [
    "add = {'location':'California','doses':dataJson[0]['dataValues'][2]}"
   ]
  },
  {
   "cell_type": "code",
   "execution_count": 12,
   "metadata": {
    "execution": {
     "iopub.execute_input": "2021-03-20T03:14:59.562306Z",
     "iopub.status.busy": "2021-03-20T03:14:59.561828Z",
     "iopub.status.idle": "2021-03-20T03:14:59.565035Z",
     "shell.execute_reply": "2021-03-20T03:14:59.564612Z"
    }
   },
   "outputs": [],
   "source": [
    "df = df.append(add, ignore_index=True)"
   ]
  },
  {
   "cell_type": "code",
   "execution_count": 13,
   "metadata": {
    "execution": {
     "iopub.execute_input": "2021-03-20T03:14:59.569118Z",
     "iopub.status.busy": "2021-03-20T03:14:59.568607Z",
     "iopub.status.idle": "2021-03-20T03:14:59.571430Z",
     "shell.execute_reply": "2021-03-20T03:14:59.571779Z"
    }
   },
   "outputs": [],
   "source": [
    "df = df.sort_values(by='location')"
   ]
  },
  {
   "cell_type": "code",
   "execution_count": 14,
   "metadata": {
    "execution": {
     "iopub.execute_input": "2021-03-20T03:14:59.577313Z",
     "iopub.status.busy": "2021-03-20T03:14:59.576803Z",
     "iopub.status.idle": "2021-03-20T03:14:59.579655Z",
     "shell.execute_reply": "2021-03-20T03:14:59.580060Z"
    }
   },
   "outputs": [],
   "source": [
    "df = df[df.location == 'California'].append(df[df.location != 'California']).reset_index(drop=True)"
   ]
  },
  {
   "cell_type": "code",
   "execution_count": null,
   "metadata": {},
   "outputs": [],
   "source": []
  },
  {
   "cell_type": "code",
   "execution_count": 15,
   "metadata": {
    "execution": {
     "iopub.execute_input": "2021-03-20T03:14:59.583256Z",
     "iopub.status.busy": "2021-03-20T03:14:59.582748Z",
     "iopub.status.idle": "2021-03-20T03:14:59.601195Z",
     "shell.execute_reply": "2021-03-20T03:14:59.600507Z"
    }
   },
   "outputs": [],
   "source": [
    "tz = pytz.timezone(\"America/New_York\")"
   ]
  },
  {
   "cell_type": "code",
   "execution_count": 16,
   "metadata": {
    "execution": {
     "iopub.execute_input": "2021-03-20T03:14:59.604648Z",
     "iopub.status.busy": "2021-03-20T03:14:59.604174Z",
     "iopub.status.idle": "2021-03-20T03:14:59.607620Z",
     "shell.execute_reply": "2021-03-20T03:14:59.607041Z"
    }
   },
   "outputs": [],
   "source": [
    "today = datetime.now(tz).date()"
   ]
  },
  {
   "cell_type": "code",
   "execution_count": 17,
   "metadata": {
    "execution": {
     "iopub.execute_input": "2021-03-20T03:14:59.610610Z",
     "iopub.status.busy": "2021-03-20T03:14:59.610173Z",
     "iopub.status.idle": "2021-03-20T03:14:59.613337Z",
     "shell.execute_reply": "2021-03-20T03:14:59.612908Z"
    }
   },
   "outputs": [],
   "source": [
    "data_dir = os.path.join(os.path.abspath(\"\"), \"data\")"
   ]
  },
  {
   "cell_type": "code",
   "execution_count": 18,
   "metadata": {
    "execution": {
     "iopub.execute_input": "2021-03-20T03:14:59.617446Z",
     "iopub.status.busy": "2021-03-20T03:14:59.616756Z",
     "iopub.status.idle": "2021-03-20T03:14:59.622404Z",
     "shell.execute_reply": "2021-03-20T03:14:59.621974Z"
    }
   },
   "outputs": [],
   "source": [
    "df.to_csv(os.path.join(data_dir, f\"{today}.csv\"), index=False)"
   ]
  },
  {
   "cell_type": "code",
   "execution_count": null,
   "metadata": {},
   "outputs": [],
   "source": []
  }
 ],
 "metadata": {
  "kernelspec": {
   "display_name": "Python 3",
   "language": "python",
   "name": "python3"
  },
  "language_info": {
   "codemirror_mode": {
    "name": "ipython",
    "version": 3
   },
   "file_extension": ".py",
   "mimetype": "text/x-python",
   "name": "python",
   "nbconvert_exporter": "python",
   "pygments_lexer": "ipython3",
   "version": "3.8.8"
  }
 },
 "nbformat": 4,
 "nbformat_minor": 4
}
