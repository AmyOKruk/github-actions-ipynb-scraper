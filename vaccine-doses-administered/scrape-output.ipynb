{
 "cells": [
  {
   "cell_type": "markdown",
   "metadata": {},
   "source": [
    "# California COVID vaccinations scrape"
   ]
  },
  {
   "cell_type": "markdown",
   "metadata": {},
   "source": [
    "By [Amy O'Kruk](https://twitter.com/amyokruk)"
   ]
  },
  {
   "cell_type": "markdown",
   "metadata": {},
   "source": [
    "Downloads data on vaccine doses administered by county and statewide from a Tableau-powered dashboard from the California Department of Public Health."
   ]
  },
  {
   "cell_type": "code",
   "execution_count": 1,
   "metadata": {
    "execution": {
     "iopub.execute_input": "2021-03-23T15:13:53.416091Z",
     "iopub.status.busy": "2021-03-23T15:13:53.415464Z",
     "iopub.status.idle": "2021-03-23T15:13:53.795394Z",
     "shell.execute_reply": "2021-03-23T15:13:53.794403Z"
    }
   },
   "outputs": [],
   "source": [
    "import pandas as pd\n",
    "import requests\n",
    "from bs4 import BeautifulSoup\n",
    "import json\n",
    "import re\n",
    "import time\n",
    "from time import gmtime, strftime \n",
    "import os\n",
    "import pytz\n",
    "from datetime import datetime"
   ]
  },
  {
   "cell_type": "markdown",
   "metadata": {},
   "source": [
    "Scrape the dashboard page"
   ]
  },
  {
   "cell_type": "code",
   "execution_count": 2,
   "metadata": {
    "execution": {
     "iopub.execute_input": "2021-03-23T15:13:53.801156Z",
     "iopub.status.busy": "2021-03-23T15:13:53.798959Z",
     "iopub.status.idle": "2021-03-23T15:13:54.020982Z",
     "shell.execute_reply": "2021-03-23T15:13:54.020475Z"
    }
   },
   "outputs": [],
   "source": [
    "url = \"https://public.tableau.com/interactive/views/COVID-19VaccineDashboardPublic/Vaccine?:embed=y&:showVizHome=n&:apiID=host0\"\n",
    "\n",
    "r = requests.get(url)\n",
    "soup = BeautifulSoup(r.text, \"html.parser\")"
   ]
  },
  {
   "cell_type": "code",
   "execution_count": 3,
   "metadata": {
    "execution": {
     "iopub.execute_input": "2021-03-23T15:13:54.026126Z",
     "iopub.status.busy": "2021-03-23T15:13:54.025390Z",
     "iopub.status.idle": "2021-03-23T15:13:54.029074Z",
     "shell.execute_reply": "2021-03-23T15:13:54.028611Z"
    }
   },
   "outputs": [],
   "source": [
    "tableauData = json.loads(soup.find(\"textarea\",{\"id\": \"tsConfigContainer\"}).text)"
   ]
  },
  {
   "cell_type": "markdown",
   "metadata": {},
   "source": [
    "Get the link to the Tableau data"
   ]
  },
  {
   "cell_type": "code",
   "execution_count": 4,
   "metadata": {
    "execution": {
     "iopub.execute_input": "2021-03-23T15:13:54.033254Z",
     "iopub.status.busy": "2021-03-23T15:13:54.032063Z",
     "iopub.status.idle": "2021-03-23T15:13:54.033904Z",
     "shell.execute_reply": "2021-03-23T15:13:54.034339Z"
    }
   },
   "outputs": [],
   "source": [
    "dataUrl = f'https://public.tableau.com{tableauData[\"vizql_root\"]}/bootstrapSession/sessions/{tableauData[\"sessionid\"]}'"
   ]
  },
  {
   "cell_type": "code",
   "execution_count": 5,
   "metadata": {
    "execution": {
     "iopub.execute_input": "2021-03-23T15:13:54.041108Z",
     "iopub.status.busy": "2021-03-23T15:13:54.040529Z",
     "iopub.status.idle": "2021-03-23T15:13:54.164990Z",
     "shell.execute_reply": "2021-03-23T15:13:54.164485Z"
    }
   },
   "outputs": [],
   "source": [
    "r = requests.post(dataUrl, data= {\n",
    "    \"sheet_id\": tableauData[\"sheetId\"],\n",
    "})\n",
    "\n",
    "dataReg = re.search('\\d+;({.*})\\d+;({.*})', r.text, re.MULTILINE)\n",
    "data1 = json.loads(dataReg.group(2))\n",
    "\n",
    "dataJson = data1[\"secondaryInfo\"][\"presModelMap\"][\"dataDictionary\"][\"presModelHolder\"][\"genDataDictionaryPresModel\"][\"dataSegments\"][\"0\"][\"dataColumns\"]"
   ]
  },
  {
   "cell_type": "markdown",
   "metadata": {},
   "source": [
    "Isolate what you want"
   ]
  },
  {
   "cell_type": "code",
   "execution_count": 6,
   "metadata": {
    "execution": {
     "iopub.execute_input": "2021-03-23T15:13:54.169413Z",
     "iopub.status.busy": "2021-03-23T15:13:54.168279Z",
     "iopub.status.idle": "2021-03-23T15:13:54.170004Z",
     "shell.execute_reply": "2021-03-23T15:13:54.170528Z"
    }
   },
   "outputs": [],
   "source": [
    "counties = dataJson[2]['dataValues'][:58]"
   ]
  },
  {
   "cell_type": "code",
   "execution_count": 7,
   "metadata": {
    "execution": {
     "iopub.execute_input": "2021-03-23T15:13:54.175031Z",
     "iopub.status.busy": "2021-03-23T15:13:54.173729Z",
     "iopub.status.idle": "2021-03-23T15:13:54.175636Z",
     "shell.execute_reply": "2021-03-23T15:13:54.176066Z"
    }
   },
   "outputs": [],
   "source": [
    "doses = dataJson[0]['dataValues'][3:61]"
   ]
  },
  {
   "cell_type": "markdown",
   "metadata": {},
   "source": [
    "Data formatting"
   ]
  },
  {
   "cell_type": "code",
   "execution_count": 8,
   "metadata": {
    "execution": {
     "iopub.execute_input": "2021-03-23T15:13:54.182486Z",
     "iopub.status.busy": "2021-03-23T15:13:54.181208Z",
     "iopub.status.idle": "2021-03-23T15:13:54.183074Z",
     "shell.execute_reply": "2021-03-23T15:13:54.183496Z"
    }
   },
   "outputs": [],
   "source": [
    "zipped = dict(zip(counties, doses))"
   ]
  },
  {
   "cell_type": "code",
   "execution_count": 9,
   "metadata": {
    "execution": {
     "iopub.execute_input": "2021-03-23T15:13:54.190488Z",
     "iopub.status.busy": "2021-03-23T15:13:54.188971Z",
     "iopub.status.idle": "2021-03-23T15:13:54.191068Z",
     "shell.execute_reply": "2021-03-23T15:13:54.191490Z"
    }
   },
   "outputs": [],
   "source": [
    "df = pd.Series(zipped).reset_index()"
   ]
  },
  {
   "cell_type": "code",
   "execution_count": 10,
   "metadata": {
    "execution": {
     "iopub.execute_input": "2021-03-23T15:13:54.200097Z",
     "iopub.status.busy": "2021-03-23T15:13:54.199583Z",
     "iopub.status.idle": "2021-03-23T15:13:54.203300Z",
     "shell.execute_reply": "2021-03-23T15:13:54.202743Z"
    }
   },
   "outputs": [],
   "source": [
    "df.columns = ['location','doses']"
   ]
  },
  {
   "cell_type": "markdown",
   "metadata": {},
   "source": [
    "Grab the overall California total"
   ]
  },
  {
   "cell_type": "code",
   "execution_count": 11,
   "metadata": {
    "execution": {
     "iopub.execute_input": "2021-03-23T15:13:54.207574Z",
     "iopub.status.busy": "2021-03-23T15:13:54.206947Z",
     "iopub.status.idle": "2021-03-23T15:13:54.210153Z",
     "shell.execute_reply": "2021-03-23T15:13:54.210554Z"
    }
   },
   "outputs": [],
   "source": [
    "add = {'location':'California','doses':dataJson[0]['dataValues'][2]}"
   ]
  },
  {
   "cell_type": "code",
   "execution_count": 12,
   "metadata": {
    "execution": {
     "iopub.execute_input": "2021-03-23T15:13:54.217337Z",
     "iopub.status.busy": "2021-03-23T15:13:54.216809Z",
     "iopub.status.idle": "2021-03-23T15:13:54.220299Z",
     "shell.execute_reply": "2021-03-23T15:13:54.219847Z"
    }
   },
   "outputs": [],
   "source": [
    "df = df.append(add, ignore_index=True)"
   ]
  },
  {
   "cell_type": "code",
   "execution_count": 13,
   "metadata": {
    "execution": {
     "iopub.execute_input": "2021-03-23T15:13:54.224910Z",
     "iopub.status.busy": "2021-03-23T15:13:54.223622Z",
     "iopub.status.idle": "2021-03-23T15:13:54.227890Z",
     "shell.execute_reply": "2021-03-23T15:13:54.227292Z"
    }
   },
   "outputs": [],
   "source": [
    "df = df.sort_values(by='location')"
   ]
  },
  {
   "cell_type": "code",
   "execution_count": 14,
   "metadata": {
    "execution": {
     "iopub.execute_input": "2021-03-23T15:13:54.234080Z",
     "iopub.status.busy": "2021-03-23T15:13:54.233566Z",
     "iopub.status.idle": "2021-03-23T15:13:54.236606Z",
     "shell.execute_reply": "2021-03-23T15:13:54.237224Z"
    }
   },
   "outputs": [],
   "source": [
    "df = df[df.location == 'California'].append(df[df.location != 'California']).reset_index(drop=True)"
   ]
  },
  {
   "cell_type": "code",
   "execution_count": null,
   "metadata": {},
   "outputs": [],
   "source": []
  },
  {
   "cell_type": "code",
   "execution_count": 15,
   "metadata": {
    "execution": {
     "iopub.execute_input": "2021-03-23T15:13:54.240967Z",
     "iopub.status.busy": "2021-03-23T15:13:54.240248Z",
     "iopub.status.idle": "2021-03-23T15:13:54.268421Z",
     "shell.execute_reply": "2021-03-23T15:13:54.267969Z"
    }
   },
   "outputs": [],
   "source": [
    "tz = pytz.timezone(\"America/New_York\")"
   ]
  },
  {
   "cell_type": "code",
   "execution_count": 16,
   "metadata": {
    "execution": {
     "iopub.execute_input": "2021-03-23T15:13:54.274804Z",
     "iopub.status.busy": "2021-03-23T15:13:54.272769Z",
     "iopub.status.idle": "2021-03-23T15:13:54.279358Z",
     "shell.execute_reply": "2021-03-23T15:13:54.278570Z"
    }
   },
   "outputs": [],
   "source": [
    "today = datetime.now(tz).date()"
   ]
  },
  {
   "cell_type": "code",
   "execution_count": 17,
   "metadata": {
    "execution": {
     "iopub.execute_input": "2021-03-23T15:13:54.282831Z",
     "iopub.status.busy": "2021-03-23T15:13:54.282315Z",
     "iopub.status.idle": "2021-03-23T15:13:54.285305Z",
     "shell.execute_reply": "2021-03-23T15:13:54.285741Z"
    }
   },
   "outputs": [],
   "source": [
    "data_dir = os.path.join(os.path.abspath(\"\"), \"data\")"
   ]
  },
  {
   "cell_type": "code",
   "execution_count": 18,
   "metadata": {
    "execution": {
     "iopub.execute_input": "2021-03-23T15:13:54.290296Z",
     "iopub.status.busy": "2021-03-23T15:13:54.289089Z",
     "iopub.status.idle": "2021-03-23T15:13:54.295205Z",
     "shell.execute_reply": "2021-03-23T15:13:54.294749Z"
    }
   },
   "outputs": [],
   "source": [
    "df.to_csv(os.path.join(data_dir, f\"{today}.csv\"), index=False)"
   ]
  },
  {
   "cell_type": "code",
   "execution_count": null,
   "metadata": {},
   "outputs": [],
   "source": []
  }
 ],
 "metadata": {
  "kernelspec": {
   "display_name": "Python 3",
   "language": "python",
   "name": "python3"
  },
  "language_info": {
   "codemirror_mode": {
    "name": "ipython",
    "version": 3
   },
   "file_extension": ".py",
   "mimetype": "text/x-python",
   "name": "python",
   "nbconvert_exporter": "python",
   "pygments_lexer": "ipython3",
   "version": "3.8.8"
  }
 },
 "nbformat": 4,
 "nbformat_minor": 4
}
