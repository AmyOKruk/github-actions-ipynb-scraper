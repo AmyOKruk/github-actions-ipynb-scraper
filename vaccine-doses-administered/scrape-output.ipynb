{
 "cells": [
  {
   "cell_type": "markdown",
   "metadata": {},
   "source": [
    "# California COVID vaccinations scrape"
   ]
  },
  {
   "cell_type": "markdown",
   "metadata": {},
   "source": [
    "By [Amy O'Kruk](https://twitter.com/amyokruk)"
   ]
  },
  {
   "cell_type": "markdown",
   "metadata": {},
   "source": [
    "Downloads data on vaccine doses administered by county and statewide from a Tableau-powered dashboard from the California Department of Public Health."
   ]
  },
  {
   "cell_type": "code",
   "execution_count": 1,
   "metadata": {
    "execution": {
     "iopub.execute_input": "2021-03-15T09:13:32.590446Z",
     "iopub.status.busy": "2021-03-15T09:13:32.589411Z",
     "iopub.status.idle": "2021-03-15T09:13:33.011103Z",
     "shell.execute_reply": "2021-03-15T09:13:33.010011Z"
    }
   },
   "outputs": [],
   "source": [
    "import pandas as pd\n",
    "import requests\n",
    "from bs4 import BeautifulSoup\n",
    "import json\n",
    "import re\n",
    "import time\n",
    "from time import gmtime, strftime \n",
    "import os\n",
    "import pytz\n",
    "from datetime import datetime"
   ]
  },
  {
   "cell_type": "markdown",
   "metadata": {},
   "source": [
    "Scrape the dashboard page"
   ]
  },
  {
   "cell_type": "code",
   "execution_count": 2,
   "metadata": {
    "execution": {
     "iopub.execute_input": "2021-03-15T09:13:33.017671Z",
     "iopub.status.busy": "2021-03-15T09:13:33.015267Z",
     "iopub.status.idle": "2021-03-15T09:13:33.443365Z",
     "shell.execute_reply": "2021-03-15T09:13:33.442458Z"
    }
   },
   "outputs": [],
   "source": [
    "url = \"https://public.tableau.com/interactive/views/COVID-19VaccineDashboardPublic/Vaccine?:embed=y&:showVizHome=n&:apiID=host0\"\n",
    "\n",
    "r = requests.get(url)\n",
    "soup = BeautifulSoup(r.text, \"html.parser\")"
   ]
  },
  {
   "cell_type": "code",
   "execution_count": 3,
   "metadata": {
    "execution": {
     "iopub.execute_input": "2021-03-15T09:13:33.448139Z",
     "iopub.status.busy": "2021-03-15T09:13:33.447580Z",
     "iopub.status.idle": "2021-03-15T09:13:33.450842Z",
     "shell.execute_reply": "2021-03-15T09:13:33.450383Z"
    }
   },
   "outputs": [],
   "source": [
    "tableauData = json.loads(soup.find(\"textarea\",{\"id\": \"tsConfigContainer\"}).text)"
   ]
  },
  {
   "cell_type": "markdown",
   "metadata": {},
   "source": [
    "Get the link to the Tableau data"
   ]
  },
  {
   "cell_type": "code",
   "execution_count": 4,
   "metadata": {
    "execution": {
     "iopub.execute_input": "2021-03-15T09:13:33.454357Z",
     "iopub.status.busy": "2021-03-15T09:13:33.453840Z",
     "iopub.status.idle": "2021-03-15T09:13:33.456943Z",
     "shell.execute_reply": "2021-03-15T09:13:33.457380Z"
    }
   },
   "outputs": [],
   "source": [
    "dataUrl = f'https://public.tableau.com{tableauData[\"vizql_root\"]}/bootstrapSession/sessions/{tableauData[\"sessionid\"]}'"
   ]
  },
  {
   "cell_type": "code",
   "execution_count": 5,
   "metadata": {
    "execution": {
     "iopub.execute_input": "2021-03-15T09:13:33.464373Z",
     "iopub.status.busy": "2021-03-15T09:13:33.461644Z",
     "iopub.status.idle": "2021-03-15T09:14:08.009648Z",
     "shell.execute_reply": "2021-03-15T09:14:08.008712Z"
    }
   },
   "outputs": [],
   "source": [
    "r = requests.post(dataUrl, data= {\n",
    "    \"sheet_id\": tableauData[\"sheetId\"],\n",
    "})\n",
    "\n",
    "dataReg = re.search('\\d+;({.*})\\d+;({.*})', r.text, re.MULTILINE)\n",
    "data1 = json.loads(dataReg.group(2))\n",
    "\n",
    "dataJson = data1[\"secondaryInfo\"][\"presModelMap\"][\"dataDictionary\"][\"presModelHolder\"][\"genDataDictionaryPresModel\"][\"dataSegments\"][\"0\"][\"dataColumns\"]"
   ]
  },
  {
   "cell_type": "markdown",
   "metadata": {},
   "source": [
    "Isolate what you want"
   ]
  },
  {
   "cell_type": "code",
   "execution_count": 6,
   "metadata": {
    "execution": {
     "iopub.execute_input": "2021-03-15T09:14:08.013343Z",
     "iopub.status.busy": "2021-03-15T09:14:08.012824Z",
     "iopub.status.idle": "2021-03-15T09:14:08.016207Z",
     "shell.execute_reply": "2021-03-15T09:14:08.015737Z"
    }
   },
   "outputs": [],
   "source": [
    "counties = dataJson[2]['dataValues'][:58]"
   ]
  },
  {
   "cell_type": "code",
   "execution_count": 7,
   "metadata": {
    "execution": {
     "iopub.execute_input": "2021-03-15T09:14:08.020438Z",
     "iopub.status.busy": "2021-03-15T09:14:08.019525Z",
     "iopub.status.idle": "2021-03-15T09:14:08.021846Z",
     "shell.execute_reply": "2021-03-15T09:14:08.021418Z"
    }
   },
   "outputs": [],
   "source": [
    "doses = dataJson[0]['dataValues'][3:61]"
   ]
  },
  {
   "cell_type": "markdown",
   "metadata": {},
   "source": [
    "Data formatting"
   ]
  },
  {
   "cell_type": "code",
   "execution_count": 8,
   "metadata": {
    "execution": {
     "iopub.execute_input": "2021-03-15T09:14:08.025860Z",
     "iopub.status.busy": "2021-03-15T09:14:08.024942Z",
     "iopub.status.idle": "2021-03-15T09:14:08.027132Z",
     "shell.execute_reply": "2021-03-15T09:14:08.026683Z"
    }
   },
   "outputs": [],
   "source": [
    "zipped = dict(zip(counties, doses))"
   ]
  },
  {
   "cell_type": "code",
   "execution_count": 9,
   "metadata": {
    "execution": {
     "iopub.execute_input": "2021-03-15T09:14:08.033692Z",
     "iopub.status.busy": "2021-03-15T09:14:08.032427Z",
     "iopub.status.idle": "2021-03-15T09:14:08.034296Z",
     "shell.execute_reply": "2021-03-15T09:14:08.034867Z"
    }
   },
   "outputs": [],
   "source": [
    "df = pd.Series(zipped).reset_index()"
   ]
  },
  {
   "cell_type": "code",
   "execution_count": 10,
   "metadata": {
    "execution": {
     "iopub.execute_input": "2021-03-15T09:14:08.039282Z",
     "iopub.status.busy": "2021-03-15T09:14:08.038097Z",
     "iopub.status.idle": "2021-03-15T09:14:08.039889Z",
     "shell.execute_reply": "2021-03-15T09:14:08.040349Z"
    }
   },
   "outputs": [],
   "source": [
    "df.columns = ['location','doses']"
   ]
  },
  {
   "cell_type": "markdown",
   "metadata": {},
   "source": [
    "Grab the overall California total"
   ]
  },
  {
   "cell_type": "code",
   "execution_count": 11,
   "metadata": {
    "execution": {
     "iopub.execute_input": "2021-03-15T09:14:08.044493Z",
     "iopub.status.busy": "2021-03-15T09:14:08.043365Z",
     "iopub.status.idle": "2021-03-15T09:14:08.045090Z",
     "shell.execute_reply": "2021-03-15T09:14:08.045521Z"
    }
   },
   "outputs": [],
   "source": [
    "add = {'location':'California','doses':dataJson[0]['dataValues'][2]}"
   ]
  },
  {
   "cell_type": "code",
   "execution_count": 12,
   "metadata": {
    "execution": {
     "iopub.execute_input": "2021-03-15T09:14:08.053710Z",
     "iopub.status.busy": "2021-03-15T09:14:08.052581Z",
     "iopub.status.idle": "2021-03-15T09:14:08.054307Z",
     "shell.execute_reply": "2021-03-15T09:14:08.054736Z"
    }
   },
   "outputs": [],
   "source": [
    "df = df.append(add, ignore_index=True)"
   ]
  },
  {
   "cell_type": "code",
   "execution_count": 13,
   "metadata": {
    "execution": {
     "iopub.execute_input": "2021-03-15T09:14:08.059427Z",
     "iopub.status.busy": "2021-03-15T09:14:08.058543Z",
     "iopub.status.idle": "2021-03-15T09:14:08.060849Z",
     "shell.execute_reply": "2021-03-15T09:14:08.060390Z"
    }
   },
   "outputs": [],
   "source": [
    "df = df.sort_values(by='location')"
   ]
  },
  {
   "cell_type": "code",
   "execution_count": 14,
   "metadata": {
    "execution": {
     "iopub.execute_input": "2021-03-15T09:14:08.067441Z",
     "iopub.status.busy": "2021-03-15T09:14:08.066184Z",
     "iopub.status.idle": "2021-03-15T09:14:08.068051Z",
     "shell.execute_reply": "2021-03-15T09:14:08.068488Z"
    }
   },
   "outputs": [],
   "source": [
    "df = df[df.location == 'California'].append(df[df.location != 'California']).reset_index(drop=True)"
   ]
  },
  {
   "cell_type": "code",
   "execution_count": null,
   "metadata": {},
   "outputs": [],
   "source": []
  },
  {
   "cell_type": "code",
   "execution_count": 15,
   "metadata": {
    "execution": {
     "iopub.execute_input": "2021-03-15T09:14:08.071851Z",
     "iopub.status.busy": "2021-03-15T09:14:08.071336Z",
     "iopub.status.idle": "2021-03-15T09:14:08.089121Z",
     "shell.execute_reply": "2021-03-15T09:14:08.088608Z"
    }
   },
   "outputs": [],
   "source": [
    "tz = pytz.timezone(\"America/New_York\")"
   ]
  },
  {
   "cell_type": "code",
   "execution_count": 16,
   "metadata": {
    "execution": {
     "iopub.execute_input": "2021-03-15T09:14:08.093506Z",
     "iopub.status.busy": "2021-03-15T09:14:08.092236Z",
     "iopub.status.idle": "2021-03-15T09:14:08.094109Z",
     "shell.execute_reply": "2021-03-15T09:14:08.094549Z"
    }
   },
   "outputs": [],
   "source": [
    "today = datetime.now(tz).date()"
   ]
  },
  {
   "cell_type": "code",
   "execution_count": 17,
   "metadata": {
    "execution": {
     "iopub.execute_input": "2021-03-15T09:14:08.099122Z",
     "iopub.status.busy": "2021-03-15T09:14:08.097963Z",
     "iopub.status.idle": "2021-03-15T09:14:08.099703Z",
     "shell.execute_reply": "2021-03-15T09:14:08.100175Z"
    }
   },
   "outputs": [],
   "source": [
    "data_dir = os.path.join(os.path.abspath(\"\"), \"data\")"
   ]
  },
  {
   "cell_type": "code",
   "execution_count": 18,
   "metadata": {
    "execution": {
     "iopub.execute_input": "2021-03-15T09:14:08.105567Z",
     "iopub.status.busy": "2021-03-15T09:14:08.103318Z",
     "iopub.status.idle": "2021-03-15T09:14:08.107929Z",
     "shell.execute_reply": "2021-03-15T09:14:08.107412Z"
    }
   },
   "outputs": [],
   "source": [
    "df.to_csv(os.path.join(data_dir, f\"{today}.csv\"), index=False)"
   ]
  },
  {
   "cell_type": "code",
   "execution_count": null,
   "metadata": {},
   "outputs": [],
   "source": []
  }
 ],
 "metadata": {
  "kernelspec": {
   "display_name": "Python 3",
   "language": "python",
   "name": "python3"
  },
  "language_info": {
   "codemirror_mode": {
    "name": "ipython",
    "version": 3
   },
   "file_extension": ".py",
   "mimetype": "text/x-python",
   "name": "python",
   "nbconvert_exporter": "python",
   "pygments_lexer": "ipython3",
   "version": "3.8.8"
  }
 },
 "nbformat": 4,
 "nbformat_minor": 4
}
