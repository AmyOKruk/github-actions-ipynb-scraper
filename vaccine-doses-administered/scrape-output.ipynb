{
 "cells": [
  {
   "cell_type": "markdown",
   "metadata": {},
   "source": [
    "# California COVID vaccinations scrape"
   ]
  },
  {
   "cell_type": "markdown",
   "metadata": {},
   "source": [
    "By [Amy O'Kruk](https://twitter.com/amyokruk)"
   ]
  },
  {
   "cell_type": "markdown",
   "metadata": {},
   "source": [
    "Downloads data on vaccine doses administered by county and statewide from a Tableau-powered dashboard from the California Department of Public Health."
   ]
  },
  {
   "cell_type": "code",
   "execution_count": 1,
   "metadata": {
    "execution": {
     "iopub.execute_input": "2021-03-22T20:42:17.053719Z",
     "iopub.status.busy": "2021-03-22T20:42:17.052993Z",
     "iopub.status.idle": "2021-03-22T20:42:18.766715Z",
     "shell.execute_reply": "2021-03-22T20:42:18.764425Z"
    }
   },
   "outputs": [],
   "source": [
    "import pandas as pd\n",
    "import requests\n",
    "from bs4 import BeautifulSoup\n",
    "import json\n",
    "import re\n",
    "import time\n",
    "from time import gmtime, strftime \n",
    "import os\n",
    "import pytz\n",
    "from datetime import datetime"
   ]
  },
  {
   "cell_type": "markdown",
   "metadata": {},
   "source": [
    "Scrape the dashboard page"
   ]
  },
  {
   "cell_type": "code",
   "execution_count": 2,
   "metadata": {
    "execution": {
     "iopub.execute_input": "2021-03-22T20:42:18.774202Z",
     "iopub.status.busy": "2021-03-22T20:42:18.773541Z",
     "iopub.status.idle": "2021-03-22T20:42:19.132259Z",
     "shell.execute_reply": "2021-03-22T20:42:19.132742Z"
    }
   },
   "outputs": [],
   "source": [
    "url = \"https://public.tableau.com/interactive/views/COVID-19VaccineDashboardPublic/Vaccine?:embed=y&:showVizHome=n&:apiID=host0\"\n",
    "\n",
    "r = requests.get(url)\n",
    "soup = BeautifulSoup(r.text, \"html.parser\")"
   ]
  },
  {
   "cell_type": "code",
   "execution_count": 3,
   "metadata": {
    "execution": {
     "iopub.execute_input": "2021-03-22T20:42:19.139278Z",
     "iopub.status.busy": "2021-03-22T20:42:19.138657Z",
     "iopub.status.idle": "2021-03-22T20:42:19.142091Z",
     "shell.execute_reply": "2021-03-22T20:42:19.142565Z"
    }
   },
   "outputs": [],
   "source": [
    "tableauData = json.loads(soup.find(\"textarea\",{\"id\": \"tsConfigContainer\"}).text)"
   ]
  },
  {
   "cell_type": "markdown",
   "metadata": {},
   "source": [
    "Get the link to the Tableau data"
   ]
  },
  {
   "cell_type": "code",
   "execution_count": 4,
   "metadata": {
    "execution": {
     "iopub.execute_input": "2021-03-22T20:42:19.147616Z",
     "iopub.status.busy": "2021-03-22T20:42:19.146182Z",
     "iopub.status.idle": "2021-03-22T20:42:19.148274Z",
     "shell.execute_reply": "2021-03-22T20:42:19.148769Z"
    }
   },
   "outputs": [],
   "source": [
    "dataUrl = f'https://public.tableau.com{tableauData[\"vizql_root\"]}/bootstrapSession/sessions/{tableauData[\"sessionid\"]}'"
   ]
  },
  {
   "cell_type": "code",
   "execution_count": 5,
   "metadata": {
    "execution": {
     "iopub.execute_input": "2021-03-22T20:42:19.156163Z",
     "iopub.status.busy": "2021-03-22T20:42:19.155559Z",
     "iopub.status.idle": "2021-03-22T20:42:19.364279Z",
     "shell.execute_reply": "2021-03-22T20:42:19.363770Z"
    }
   },
   "outputs": [],
   "source": [
    "r = requests.post(dataUrl, data= {\n",
    "    \"sheet_id\": tableauData[\"sheetId\"],\n",
    "})\n",
    "\n",
    "dataReg = re.search('\\d+;({.*})\\d+;({.*})', r.text, re.MULTILINE)\n",
    "data1 = json.loads(dataReg.group(2))\n",
    "\n",
    "dataJson = data1[\"secondaryInfo\"][\"presModelMap\"][\"dataDictionary\"][\"presModelHolder\"][\"genDataDictionaryPresModel\"][\"dataSegments\"][\"0\"][\"dataColumns\"]"
   ]
  },
  {
   "cell_type": "markdown",
   "metadata": {},
   "source": [
    "Isolate what you want"
   ]
  },
  {
   "cell_type": "code",
   "execution_count": 6,
   "metadata": {
    "execution": {
     "iopub.execute_input": "2021-03-22T20:42:19.369668Z",
     "iopub.status.busy": "2021-03-22T20:42:19.368348Z",
     "iopub.status.idle": "2021-03-22T20:42:19.370593Z",
     "shell.execute_reply": "2021-03-22T20:42:19.371059Z"
    }
   },
   "outputs": [],
   "source": [
    "counties = dataJson[2]['dataValues'][:58]"
   ]
  },
  {
   "cell_type": "code",
   "execution_count": 7,
   "metadata": {
    "execution": {
     "iopub.execute_input": "2021-03-22T20:42:19.376649Z",
     "iopub.status.busy": "2021-03-22T20:42:19.375177Z",
     "iopub.status.idle": "2021-03-22T20:42:19.377362Z",
     "shell.execute_reply": "2021-03-22T20:42:19.377892Z"
    }
   },
   "outputs": [],
   "source": [
    "doses = dataJson[0]['dataValues'][3:61]"
   ]
  },
  {
   "cell_type": "markdown",
   "metadata": {},
   "source": [
    "Data formatting"
   ]
  },
  {
   "cell_type": "code",
   "execution_count": 8,
   "metadata": {
    "execution": {
     "iopub.execute_input": "2021-03-22T20:42:19.382785Z",
     "iopub.status.busy": "2021-03-22T20:42:19.381405Z",
     "iopub.status.idle": "2021-03-22T20:42:19.383480Z",
     "shell.execute_reply": "2021-03-22T20:42:19.384029Z"
    }
   },
   "outputs": [],
   "source": [
    "zipped = dict(zip(counties, doses))"
   ]
  },
  {
   "cell_type": "code",
   "execution_count": 9,
   "metadata": {
    "execution": {
     "iopub.execute_input": "2021-03-22T20:42:19.391798Z",
     "iopub.status.busy": "2021-03-22T20:42:19.390223Z",
     "iopub.status.idle": "2021-03-22T20:42:19.392626Z",
     "shell.execute_reply": "2021-03-22T20:42:19.393187Z"
    }
   },
   "outputs": [],
   "source": [
    "df = pd.Series(zipped).reset_index()"
   ]
  },
  {
   "cell_type": "code",
   "execution_count": 10,
   "metadata": {
    "execution": {
     "iopub.execute_input": "2021-03-22T20:42:19.398444Z",
     "iopub.status.busy": "2021-03-22T20:42:19.396988Z",
     "iopub.status.idle": "2021-03-22T20:42:19.399111Z",
     "shell.execute_reply": "2021-03-22T20:42:19.399653Z"
    }
   },
   "outputs": [],
   "source": [
    "df.columns = ['location','doses']"
   ]
  },
  {
   "cell_type": "markdown",
   "metadata": {},
   "source": [
    "Grab the overall California total"
   ]
  },
  {
   "cell_type": "code",
   "execution_count": 11,
   "metadata": {
    "execution": {
     "iopub.execute_input": "2021-03-22T20:42:19.404831Z",
     "iopub.status.busy": "2021-03-22T20:42:19.403289Z",
     "iopub.status.idle": "2021-03-22T20:42:19.405551Z",
     "shell.execute_reply": "2021-03-22T20:42:19.406095Z"
    }
   },
   "outputs": [],
   "source": [
    "add = {'location':'California','doses':dataJson[0]['dataValues'][2]}"
   ]
  },
  {
   "cell_type": "code",
   "execution_count": 12,
   "metadata": {
    "execution": {
     "iopub.execute_input": "2021-03-22T20:42:19.414318Z",
     "iopub.status.busy": "2021-03-22T20:42:19.412932Z",
     "iopub.status.idle": "2021-03-22T20:42:19.414991Z",
     "shell.execute_reply": "2021-03-22T20:42:19.415498Z"
    }
   },
   "outputs": [],
   "source": [
    "df = df.append(add, ignore_index=True)"
   ]
  },
  {
   "cell_type": "code",
   "execution_count": 13,
   "metadata": {
    "execution": {
     "iopub.execute_input": "2021-03-22T20:42:19.421325Z",
     "iopub.status.busy": "2021-03-22T20:42:19.419820Z",
     "iopub.status.idle": "2021-03-22T20:42:19.422050Z",
     "shell.execute_reply": "2021-03-22T20:42:19.422572Z"
    }
   },
   "outputs": [],
   "source": [
    "df = df.sort_values(by='location')"
   ]
  },
  {
   "cell_type": "code",
   "execution_count": 14,
   "metadata": {
    "execution": {
     "iopub.execute_input": "2021-03-22T20:42:19.430334Z",
     "iopub.status.busy": "2021-03-22T20:42:19.428809Z",
     "iopub.status.idle": "2021-03-22T20:42:19.431016Z",
     "shell.execute_reply": "2021-03-22T20:42:19.431525Z"
    }
   },
   "outputs": [],
   "source": [
    "df = df[df.location == 'California'].append(df[df.location != 'California']).reset_index(drop=True)"
   ]
  },
  {
   "cell_type": "code",
   "execution_count": null,
   "metadata": {},
   "outputs": [],
   "source": []
  },
  {
   "cell_type": "code",
   "execution_count": 15,
   "metadata": {
    "execution": {
     "iopub.execute_input": "2021-03-22T20:42:19.435570Z",
     "iopub.status.busy": "2021-03-22T20:42:19.434956Z",
     "iopub.status.idle": "2021-03-22T20:42:19.457095Z",
     "shell.execute_reply": "2021-03-22T20:42:19.456553Z"
    }
   },
   "outputs": [],
   "source": [
    "tz = pytz.timezone(\"America/New_York\")"
   ]
  },
  {
   "cell_type": "code",
   "execution_count": 16,
   "metadata": {
    "execution": {
     "iopub.execute_input": "2021-03-22T20:42:19.462207Z",
     "iopub.status.busy": "2021-03-22T20:42:19.460681Z",
     "iopub.status.idle": "2021-03-22T20:42:19.462881Z",
     "shell.execute_reply": "2021-03-22T20:42:19.463395Z"
    }
   },
   "outputs": [],
   "source": [
    "today = datetime.now(tz).date()"
   ]
  },
  {
   "cell_type": "code",
   "execution_count": 17,
   "metadata": {
    "execution": {
     "iopub.execute_input": "2021-03-22T20:42:19.472930Z",
     "iopub.status.busy": "2021-03-22T20:42:19.472303Z",
     "iopub.status.idle": "2021-03-22T20:42:19.476577Z",
     "shell.execute_reply": "2021-03-22T20:42:19.476074Z"
    }
   },
   "outputs": [],
   "source": [
    "data_dir = os.path.join(os.path.abspath(\"\"), \"data\")"
   ]
  },
  {
   "cell_type": "code",
   "execution_count": 18,
   "metadata": {
    "execution": {
     "iopub.execute_input": "2021-03-22T20:42:19.482530Z",
     "iopub.status.busy": "2021-03-22T20:42:19.481485Z",
     "iopub.status.idle": "2021-03-22T20:42:19.486816Z",
     "shell.execute_reply": "2021-03-22T20:42:19.487326Z"
    }
   },
   "outputs": [],
   "source": [
    "df.to_csv(os.path.join(data_dir, f\"{today}.csv\"), index=False)"
   ]
  },
  {
   "cell_type": "code",
   "execution_count": null,
   "metadata": {},
   "outputs": [],
   "source": []
  }
 ],
 "metadata": {
  "kernelspec": {
   "display_name": "Python 3",
   "language": "python",
   "name": "python3"
  },
  "language_info": {
   "codemirror_mode": {
    "name": "ipython",
    "version": 3
   },
   "file_extension": ".py",
   "mimetype": "text/x-python",
   "name": "python",
   "nbconvert_exporter": "python",
   "pygments_lexer": "ipython3",
   "version": "3.8.8"
  }
 },
 "nbformat": 4,
 "nbformat_minor": 4
}
