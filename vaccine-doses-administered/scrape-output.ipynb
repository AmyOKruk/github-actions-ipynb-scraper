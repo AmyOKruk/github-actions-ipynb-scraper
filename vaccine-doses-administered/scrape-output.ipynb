{
 "cells": [
  {
   "cell_type": "markdown",
   "metadata": {},
   "source": [
    "# California COVID vaccinations scrape"
   ]
  },
  {
   "cell_type": "markdown",
   "metadata": {},
   "source": [
    "By [Amy O'Kruk](https://twitter.com/amyokruk)"
   ]
  },
  {
   "cell_type": "markdown",
   "metadata": {},
   "source": [
    "Downloads data on vaccine doses administered by county and statewide from a Tableau-powered dashboard from the California Department of Public Health."
   ]
  },
  {
   "cell_type": "code",
   "execution_count": 1,
   "metadata": {
    "execution": {
     "iopub.execute_input": "2021-03-14T07:11:56.081495Z",
     "iopub.status.busy": "2021-03-14T07:11:56.080829Z",
     "iopub.status.idle": "2021-03-14T07:11:56.426148Z",
     "shell.execute_reply": "2021-03-14T07:11:56.425613Z"
    }
   },
   "outputs": [],
   "source": [
    "import pandas as pd\n",
    "import requests\n",
    "from bs4 import BeautifulSoup\n",
    "import json\n",
    "import re\n",
    "import time\n",
    "from time import gmtime, strftime \n",
    "import os\n",
    "import pytz\n",
    "from datetime import datetime"
   ]
  },
  {
   "cell_type": "markdown",
   "metadata": {},
   "source": [
    "Scrape the dashboard page"
   ]
  },
  {
   "cell_type": "code",
   "execution_count": 2,
   "metadata": {
    "execution": {
     "iopub.execute_input": "2021-03-14T07:11:56.431092Z",
     "iopub.status.busy": "2021-03-14T07:11:56.429187Z",
     "iopub.status.idle": "2021-03-14T07:11:56.764405Z",
     "shell.execute_reply": "2021-03-14T07:11:56.764824Z"
    }
   },
   "outputs": [],
   "source": [
    "url = \"https://public.tableau.com/interactive/views/COVID-19VaccineDashboardPublic/Vaccine?:embed=y&:showVizHome=n&:apiID=host0\"\n",
    "\n",
    "r = requests.get(url)\n",
    "soup = BeautifulSoup(r.text, \"html.parser\")"
   ]
  },
  {
   "cell_type": "code",
   "execution_count": 3,
   "metadata": {
    "execution": {
     "iopub.execute_input": "2021-03-14T07:11:56.769105Z",
     "iopub.status.busy": "2021-03-14T07:11:56.768633Z",
     "iopub.status.idle": "2021-03-14T07:11:56.771563Z",
     "shell.execute_reply": "2021-03-14T07:11:56.771938Z"
    }
   },
   "outputs": [],
   "source": [
    "tableauData = json.loads(soup.find(\"textarea\",{\"id\": \"tsConfigContainer\"}).text)"
   ]
  },
  {
   "cell_type": "markdown",
   "metadata": {},
   "source": [
    "Get the link to the Tableau data"
   ]
  },
  {
   "cell_type": "code",
   "execution_count": 4,
   "metadata": {
    "execution": {
     "iopub.execute_input": "2021-03-14T07:11:56.774951Z",
     "iopub.status.busy": "2021-03-14T07:11:56.774428Z",
     "iopub.status.idle": "2021-03-14T07:11:56.778242Z",
     "shell.execute_reply": "2021-03-14T07:11:56.777801Z"
    }
   },
   "outputs": [],
   "source": [
    "dataUrl = f'https://public.tableau.com{tableauData[\"vizql_root\"]}/bootstrapSession/sessions/{tableauData[\"sessionid\"]}'"
   ]
  },
  {
   "cell_type": "code",
   "execution_count": 5,
   "metadata": {
    "execution": {
     "iopub.execute_input": "2021-03-14T07:11:56.783487Z",
     "iopub.status.busy": "2021-03-14T07:11:56.782886Z",
     "iopub.status.idle": "2021-03-14T07:11:57.093027Z",
     "shell.execute_reply": "2021-03-14T07:11:57.093397Z"
    }
   },
   "outputs": [],
   "source": [
    "r = requests.post(dataUrl, data= {\n",
    "    \"sheet_id\": tableauData[\"sheetId\"],\n",
    "})\n",
    "\n",
    "dataReg = re.search('\\d+;({.*})\\d+;({.*})', r.text, re.MULTILINE)\n",
    "data1 = json.loads(dataReg.group(2))\n",
    "\n",
    "dataJson = data1[\"secondaryInfo\"][\"presModelMap\"][\"dataDictionary\"][\"presModelHolder\"][\"genDataDictionaryPresModel\"][\"dataSegments\"][\"0\"][\"dataColumns\"]"
   ]
  },
  {
   "cell_type": "markdown",
   "metadata": {},
   "source": [
    "Isolate what you want"
   ]
  },
  {
   "cell_type": "code",
   "execution_count": 6,
   "metadata": {
    "execution": {
     "iopub.execute_input": "2021-03-14T07:11:57.097474Z",
     "iopub.status.busy": "2021-03-14T07:11:57.096402Z",
     "iopub.status.idle": "2021-03-14T07:11:57.098116Z",
     "shell.execute_reply": "2021-03-14T07:11:57.098509Z"
    }
   },
   "outputs": [],
   "source": [
    "counties = dataJson[2]['dataValues'][:58]"
   ]
  },
  {
   "cell_type": "code",
   "execution_count": 7,
   "metadata": {
    "execution": {
     "iopub.execute_input": "2021-03-14T07:11:57.102440Z",
     "iopub.status.busy": "2021-03-14T07:11:57.101418Z",
     "iopub.status.idle": "2021-03-14T07:11:57.103464Z",
     "shell.execute_reply": "2021-03-14T07:11:57.103961Z"
    }
   },
   "outputs": [],
   "source": [
    "doses = dataJson[0]['dataValues'][3:61]"
   ]
  },
  {
   "cell_type": "markdown",
   "metadata": {},
   "source": [
    "Data formatting"
   ]
  },
  {
   "cell_type": "code",
   "execution_count": 8,
   "metadata": {
    "execution": {
     "iopub.execute_input": "2021-03-14T07:11:57.108568Z",
     "iopub.status.busy": "2021-03-14T07:11:57.107167Z",
     "iopub.status.idle": "2021-03-14T07:11:57.109323Z",
     "shell.execute_reply": "2021-03-14T07:11:57.109761Z"
    }
   },
   "outputs": [],
   "source": [
    "zipped = dict(zip(counties, doses))"
   ]
  },
  {
   "cell_type": "code",
   "execution_count": 9,
   "metadata": {
    "execution": {
     "iopub.execute_input": "2021-03-14T07:11:57.116598Z",
     "iopub.status.busy": "2021-03-14T07:11:57.115523Z",
     "iopub.status.idle": "2021-03-14T07:11:57.117471Z",
     "shell.execute_reply": "2021-03-14T07:11:57.117970Z"
    }
   },
   "outputs": [],
   "source": [
    "df = pd.Series(zipped).reset_index()"
   ]
  },
  {
   "cell_type": "code",
   "execution_count": 10,
   "metadata": {
    "execution": {
     "iopub.execute_input": "2021-03-14T07:11:57.122971Z",
     "iopub.status.busy": "2021-03-14T07:11:57.121679Z",
     "iopub.status.idle": "2021-03-14T07:11:57.123692Z",
     "shell.execute_reply": "2021-03-14T07:11:57.124125Z"
    }
   },
   "outputs": [],
   "source": [
    "df.columns = ['location','doses']"
   ]
  },
  {
   "cell_type": "markdown",
   "metadata": {},
   "source": [
    "Grab the overall California total"
   ]
  },
  {
   "cell_type": "code",
   "execution_count": 11,
   "metadata": {
    "execution": {
     "iopub.execute_input": "2021-03-14T07:11:57.128104Z",
     "iopub.status.busy": "2021-03-14T07:11:57.127075Z",
     "iopub.status.idle": "2021-03-14T07:11:57.128631Z",
     "shell.execute_reply": "2021-03-14T07:11:57.129057Z"
    }
   },
   "outputs": [],
   "source": [
    "add = {'location':'California','doses':dataJson[0]['dataValues'][2]}"
   ]
  },
  {
   "cell_type": "code",
   "execution_count": 12,
   "metadata": {
    "execution": {
     "iopub.execute_input": "2021-03-14T07:11:57.135294Z",
     "iopub.status.busy": "2021-03-14T07:11:57.134422Z",
     "iopub.status.idle": "2021-03-14T07:11:57.136121Z",
     "shell.execute_reply": "2021-03-14T07:11:57.136653Z"
    }
   },
   "outputs": [],
   "source": [
    "df = df.append(add, ignore_index=True)"
   ]
  },
  {
   "cell_type": "code",
   "execution_count": 13,
   "metadata": {
    "execution": {
     "iopub.execute_input": "2021-03-14T07:11:57.141170Z",
     "iopub.status.busy": "2021-03-14T07:11:57.140147Z",
     "iopub.status.idle": "2021-03-14T07:11:57.141781Z",
     "shell.execute_reply": "2021-03-14T07:11:57.142166Z"
    }
   },
   "outputs": [],
   "source": [
    "df = df.sort_values(by='location')"
   ]
  },
  {
   "cell_type": "code",
   "execution_count": 14,
   "metadata": {
    "execution": {
     "iopub.execute_input": "2021-03-14T07:11:57.147780Z",
     "iopub.status.busy": "2021-03-14T07:11:57.146909Z",
     "iopub.status.idle": "2021-03-14T07:11:57.148955Z",
     "shell.execute_reply": "2021-03-14T07:11:57.148570Z"
    }
   },
   "outputs": [],
   "source": [
    "df = df[df.location == 'California'].append(df[df.location != 'California']).reset_index(drop=True)"
   ]
  },
  {
   "cell_type": "code",
   "execution_count": null,
   "metadata": {},
   "outputs": [],
   "source": []
  },
  {
   "cell_type": "code",
   "execution_count": 15,
   "metadata": {
    "execution": {
     "iopub.execute_input": "2021-03-14T07:11:57.152281Z",
     "iopub.status.busy": "2021-03-14T07:11:57.151728Z",
     "iopub.status.idle": "2021-03-14T07:11:57.167506Z",
     "shell.execute_reply": "2021-03-14T07:11:57.166876Z"
    }
   },
   "outputs": [],
   "source": [
    "tz = pytz.timezone(\"America/New_York\")"
   ]
  },
  {
   "cell_type": "code",
   "execution_count": 16,
   "metadata": {
    "execution": {
     "iopub.execute_input": "2021-03-14T07:11:57.172433Z",
     "iopub.status.busy": "2021-03-14T07:11:57.171064Z",
     "iopub.status.idle": "2021-03-14T07:11:57.173122Z",
     "shell.execute_reply": "2021-03-14T07:11:57.173556Z"
    }
   },
   "outputs": [],
   "source": [
    "today = datetime.now(tz).date()"
   ]
  },
  {
   "cell_type": "code",
   "execution_count": 17,
   "metadata": {
    "execution": {
     "iopub.execute_input": "2021-03-14T07:11:57.178608Z",
     "iopub.status.busy": "2021-03-14T07:11:57.176916Z",
     "iopub.status.idle": "2021-03-14T07:11:57.179190Z",
     "shell.execute_reply": "2021-03-14T07:11:57.179673Z"
    }
   },
   "outputs": [],
   "source": [
    "data_dir = os.path.join(os.path.abspath(\"\"), \"data\")"
   ]
  },
  {
   "cell_type": "code",
   "execution_count": 18,
   "metadata": {
    "execution": {
     "iopub.execute_input": "2021-03-14T07:11:57.184307Z",
     "iopub.status.busy": "2021-03-14T07:11:57.183556Z",
     "iopub.status.idle": "2021-03-14T07:11:57.188769Z",
     "shell.execute_reply": "2021-03-14T07:11:57.188333Z"
    }
   },
   "outputs": [],
   "source": [
    "df.to_csv(os.path.join(data_dir, f\"{today}.csv\"), index=False)"
   ]
  },
  {
   "cell_type": "code",
   "execution_count": null,
   "metadata": {},
   "outputs": [],
   "source": []
  }
 ],
 "metadata": {
  "kernelspec": {
   "display_name": "Python 3",
   "language": "python",
   "name": "python3"
  },
  "language_info": {
   "codemirror_mode": {
    "name": "ipython",
    "version": 3
   },
   "file_extension": ".py",
   "mimetype": "text/x-python",
   "name": "python",
   "nbconvert_exporter": "python",
   "pygments_lexer": "ipython3",
   "version": "3.8.8"
  }
 },
 "nbformat": 4,
 "nbformat_minor": 4
}
