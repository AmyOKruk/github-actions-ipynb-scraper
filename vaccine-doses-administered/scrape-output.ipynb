{
 "cells": [
  {
   "cell_type": "markdown",
   "metadata": {},
   "source": [
    "# California COVID vaccinations scrape"
   ]
  },
  {
   "cell_type": "markdown",
   "metadata": {},
   "source": [
    "By [Amy O'Kruk](https://twitter.com/amyokruk)"
   ]
  },
  {
   "cell_type": "markdown",
   "metadata": {},
   "source": [
    "Downloads data on vaccine doses administered by county and statewide from a Tableau-powered dashboard from the California Department of Public Health."
   ]
  },
  {
   "cell_type": "code",
   "execution_count": 1,
   "metadata": {
    "execution": {
     "iopub.execute_input": "2021-03-19T06:47:46.190266Z",
     "iopub.status.busy": "2021-03-19T06:47:46.189575Z",
     "iopub.status.idle": "2021-03-19T06:47:46.653928Z",
     "shell.execute_reply": "2021-03-19T06:47:46.654548Z"
    }
   },
   "outputs": [],
   "source": [
    "import pandas as pd\n",
    "import requests\n",
    "from bs4 import BeautifulSoup\n",
    "import json\n",
    "import re\n",
    "import time\n",
    "from time import gmtime, strftime \n",
    "import os\n",
    "import pytz\n",
    "from datetime import datetime"
   ]
  },
  {
   "cell_type": "markdown",
   "metadata": {},
   "source": [
    "Scrape the dashboard page"
   ]
  },
  {
   "cell_type": "code",
   "execution_count": 2,
   "metadata": {
    "execution": {
     "iopub.execute_input": "2021-03-19T06:47:46.660874Z",
     "iopub.status.busy": "2021-03-19T06:47:46.658410Z",
     "iopub.status.idle": "2021-03-19T06:47:46.948022Z",
     "shell.execute_reply": "2021-03-19T06:47:46.948487Z"
    }
   },
   "outputs": [],
   "source": [
    "url = \"https://public.tableau.com/interactive/views/COVID-19VaccineDashboardPublic/Vaccine?:embed=y&:showVizHome=n&:apiID=host0\"\n",
    "\n",
    "r = requests.get(url)\n",
    "soup = BeautifulSoup(r.text, \"html.parser\")"
   ]
  },
  {
   "cell_type": "code",
   "execution_count": 3,
   "metadata": {
    "execution": {
     "iopub.execute_input": "2021-03-19T06:47:46.954255Z",
     "iopub.status.busy": "2021-03-19T06:47:46.952993Z",
     "iopub.status.idle": "2021-03-19T06:47:46.954906Z",
     "shell.execute_reply": "2021-03-19T06:47:46.955393Z"
    }
   },
   "outputs": [],
   "source": [
    "tableauData = json.loads(soup.find(\"textarea\",{\"id\": \"tsConfigContainer\"}).text)"
   ]
  },
  {
   "cell_type": "markdown",
   "metadata": {},
   "source": [
    "Get the link to the Tableau data"
   ]
  },
  {
   "cell_type": "code",
   "execution_count": 4,
   "metadata": {
    "execution": {
     "iopub.execute_input": "2021-03-19T06:47:46.960450Z",
     "iopub.status.busy": "2021-03-19T06:47:46.959082Z",
     "iopub.status.idle": "2021-03-19T06:47:46.961071Z",
     "shell.execute_reply": "2021-03-19T06:47:46.961542Z"
    }
   },
   "outputs": [],
   "source": [
    "dataUrl = f'https://public.tableau.com{tableauData[\"vizql_root\"]}/bootstrapSession/sessions/{tableauData[\"sessionid\"]}'"
   ]
  },
  {
   "cell_type": "code",
   "execution_count": 5,
   "metadata": {
    "execution": {
     "iopub.execute_input": "2021-03-19T06:47:46.968114Z",
     "iopub.status.busy": "2021-03-19T06:47:46.967531Z",
     "iopub.status.idle": "2021-03-19T06:47:47.080444Z",
     "shell.execute_reply": "2021-03-19T06:47:47.079925Z"
    }
   },
   "outputs": [],
   "source": [
    "r = requests.post(dataUrl, data= {\n",
    "    \"sheet_id\": tableauData[\"sheetId\"],\n",
    "})\n",
    "\n",
    "dataReg = re.search('\\d+;({.*})\\d+;({.*})', r.text, re.MULTILINE)\n",
    "data1 = json.loads(dataReg.group(2))\n",
    "\n",
    "dataJson = data1[\"secondaryInfo\"][\"presModelMap\"][\"dataDictionary\"][\"presModelHolder\"][\"genDataDictionaryPresModel\"][\"dataSegments\"][\"0\"][\"dataColumns\"]"
   ]
  },
  {
   "cell_type": "markdown",
   "metadata": {},
   "source": [
    "Isolate what you want"
   ]
  },
  {
   "cell_type": "code",
   "execution_count": 6,
   "metadata": {
    "execution": {
     "iopub.execute_input": "2021-03-19T06:47:47.084889Z",
     "iopub.status.busy": "2021-03-19T06:47:47.084319Z",
     "iopub.status.idle": "2021-03-19T06:47:47.088667Z",
     "shell.execute_reply": "2021-03-19T06:47:47.087567Z"
    }
   },
   "outputs": [],
   "source": [
    "counties = dataJson[2]['dataValues'][:58]"
   ]
  },
  {
   "cell_type": "code",
   "execution_count": 7,
   "metadata": {
    "execution": {
     "iopub.execute_input": "2021-03-19T06:47:47.093536Z",
     "iopub.status.busy": "2021-03-19T06:47:47.092187Z",
     "iopub.status.idle": "2021-03-19T06:47:47.094177Z",
     "shell.execute_reply": "2021-03-19T06:47:47.094658Z"
    }
   },
   "outputs": [],
   "source": [
    "doses = dataJson[0]['dataValues'][3:61]"
   ]
  },
  {
   "cell_type": "markdown",
   "metadata": {},
   "source": [
    "Data formatting"
   ]
  },
  {
   "cell_type": "code",
   "execution_count": 8,
   "metadata": {
    "execution": {
     "iopub.execute_input": "2021-03-19T06:47:47.099093Z",
     "iopub.status.busy": "2021-03-19T06:47:47.098479Z",
     "iopub.status.idle": "2021-03-19T06:47:47.100652Z",
     "shell.execute_reply": "2021-03-19T06:47:47.101099Z"
    }
   },
   "outputs": [],
   "source": [
    "zipped = dict(zip(counties, doses))"
   ]
  },
  {
   "cell_type": "code",
   "execution_count": 9,
   "metadata": {
    "execution": {
     "iopub.execute_input": "2021-03-19T06:47:47.108259Z",
     "iopub.status.busy": "2021-03-19T06:47:47.106934Z",
     "iopub.status.idle": "2021-03-19T06:47:47.108954Z",
     "shell.execute_reply": "2021-03-19T06:47:47.109433Z"
    }
   },
   "outputs": [],
   "source": [
    "df = pd.Series(zipped).reset_index()"
   ]
  },
  {
   "cell_type": "code",
   "execution_count": 10,
   "metadata": {
    "execution": {
     "iopub.execute_input": "2021-03-19T06:47:47.114666Z",
     "iopub.status.busy": "2021-03-19T06:47:47.113443Z",
     "iopub.status.idle": "2021-03-19T06:47:47.115315Z",
     "shell.execute_reply": "2021-03-19T06:47:47.115793Z"
    }
   },
   "outputs": [],
   "source": [
    "df.columns = ['location','doses']"
   ]
  },
  {
   "cell_type": "markdown",
   "metadata": {},
   "source": [
    "Grab the overall California total"
   ]
  },
  {
   "cell_type": "code",
   "execution_count": 11,
   "metadata": {
    "execution": {
     "iopub.execute_input": "2021-03-19T06:47:47.120596Z",
     "iopub.status.busy": "2021-03-19T06:47:47.119207Z",
     "iopub.status.idle": "2021-03-19T06:47:47.121229Z",
     "shell.execute_reply": "2021-03-19T06:47:47.121706Z"
    }
   },
   "outputs": [],
   "source": [
    "add = {'location':'California','doses':dataJson[0]['dataValues'][2]}"
   ]
  },
  {
   "cell_type": "code",
   "execution_count": 12,
   "metadata": {
    "execution": {
     "iopub.execute_input": "2021-03-19T06:47:47.129841Z",
     "iopub.status.busy": "2021-03-19T06:47:47.128577Z",
     "iopub.status.idle": "2021-03-19T06:47:47.130586Z",
     "shell.execute_reply": "2021-03-19T06:47:47.131091Z"
    }
   },
   "outputs": [],
   "source": [
    "df = df.append(add, ignore_index=True)"
   ]
  },
  {
   "cell_type": "code",
   "execution_count": 13,
   "metadata": {
    "execution": {
     "iopub.execute_input": "2021-03-19T06:47:47.136827Z",
     "iopub.status.busy": "2021-03-19T06:47:47.135402Z",
     "iopub.status.idle": "2021-03-19T06:47:47.137447Z",
     "shell.execute_reply": "2021-03-19T06:47:47.137925Z"
    }
   },
   "outputs": [],
   "source": [
    "df = df.sort_values(by='location')"
   ]
  },
  {
   "cell_type": "code",
   "execution_count": 14,
   "metadata": {
    "execution": {
     "iopub.execute_input": "2021-03-19T06:47:47.146277Z",
     "iopub.status.busy": "2021-03-19T06:47:47.145539Z",
     "iopub.status.idle": "2021-03-19T06:47:47.147366Z",
     "shell.execute_reply": "2021-03-19T06:47:47.146850Z"
    }
   },
   "outputs": [],
   "source": [
    "df = df[df.location == 'California'].append(df[df.location != 'California']).reset_index(drop=True)"
   ]
  },
  {
   "cell_type": "code",
   "execution_count": null,
   "metadata": {},
   "outputs": [],
   "source": []
  },
  {
   "cell_type": "code",
   "execution_count": 15,
   "metadata": {
    "execution": {
     "iopub.execute_input": "2021-03-19T06:47:47.151064Z",
     "iopub.status.busy": "2021-03-19T06:47:47.150460Z",
     "iopub.status.idle": "2021-03-19T06:47:47.172317Z",
     "shell.execute_reply": "2021-03-19T06:47:47.171755Z"
    }
   },
   "outputs": [],
   "source": [
    "tz = pytz.timezone(\"America/New_York\")"
   ]
  },
  {
   "cell_type": "code",
   "execution_count": 16,
   "metadata": {
    "execution": {
     "iopub.execute_input": "2021-03-19T06:47:47.177094Z",
     "iopub.status.busy": "2021-03-19T06:47:47.176028Z",
     "iopub.status.idle": "2021-03-19T06:47:47.178119Z",
     "shell.execute_reply": "2021-03-19T06:47:47.178605Z"
    }
   },
   "outputs": [],
   "source": [
    "today = datetime.now(tz).date()"
   ]
  },
  {
   "cell_type": "code",
   "execution_count": 17,
   "metadata": {
    "execution": {
     "iopub.execute_input": "2021-03-19T06:47:47.183285Z",
     "iopub.status.busy": "2021-03-19T06:47:47.182005Z",
     "iopub.status.idle": "2021-03-19T06:47:47.184008Z",
     "shell.execute_reply": "2021-03-19T06:47:47.184487Z"
    }
   },
   "outputs": [],
   "source": [
    "data_dir = os.path.join(os.path.abspath(\"\"), \"data\")"
   ]
  },
  {
   "cell_type": "code",
   "execution_count": 18,
   "metadata": {
    "execution": {
     "iopub.execute_input": "2021-03-19T06:47:47.189142Z",
     "iopub.status.busy": "2021-03-19T06:47:47.188003Z",
     "iopub.status.idle": "2021-03-19T06:47:47.194670Z",
     "shell.execute_reply": "2021-03-19T06:47:47.194117Z"
    }
   },
   "outputs": [],
   "source": [
    "df.to_csv(os.path.join(data_dir, f\"{today}.csv\"), index=False)"
   ]
  },
  {
   "cell_type": "code",
   "execution_count": null,
   "metadata": {},
   "outputs": [],
   "source": []
  }
 ],
 "metadata": {
  "kernelspec": {
   "display_name": "Python 3",
   "language": "python",
   "name": "python3"
  },
  "language_info": {
   "codemirror_mode": {
    "name": "ipython",
    "version": 3
   },
   "file_extension": ".py",
   "mimetype": "text/x-python",
   "name": "python",
   "nbconvert_exporter": "python",
   "pygments_lexer": "ipython3",
   "version": "3.8.8"
  }
 },
 "nbformat": 4,
 "nbformat_minor": 4
}
