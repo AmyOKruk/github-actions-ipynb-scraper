{
 "cells": [
  {
   "cell_type": "markdown",
   "metadata": {},
   "source": [
    "# California COVID vaccinations scrape"
   ]
  },
  {
   "cell_type": "markdown",
   "metadata": {},
   "source": [
    "By [Amy O'Kruk](https://twitter.com/amyokruk)"
   ]
  },
  {
   "cell_type": "markdown",
   "metadata": {},
   "source": [
    "Downloads data on vaccine doses administered by county and statewide from a Tableau-powered dashboard from the California Department of Public Health."
   ]
  },
  {
   "cell_type": "code",
   "execution_count": 1,
   "metadata": {
    "execution": {
     "iopub.execute_input": "2021-03-18T04:50:10.155000Z",
     "iopub.status.busy": "2021-03-18T04:50:10.154326Z",
     "iopub.status.idle": "2021-03-18T04:50:10.624916Z",
     "shell.execute_reply": "2021-03-18T04:50:10.623987Z"
    }
   },
   "outputs": [],
   "source": [
    "import pandas as pd\n",
    "import requests\n",
    "from bs4 import BeautifulSoup\n",
    "import json\n",
    "import re\n",
    "import time\n",
    "from time import gmtime, strftime \n",
    "import os\n",
    "import pytz\n",
    "from datetime import datetime"
   ]
  },
  {
   "cell_type": "markdown",
   "metadata": {},
   "source": [
    "Scrape the dashboard page"
   ]
  },
  {
   "cell_type": "code",
   "execution_count": 2,
   "metadata": {
    "execution": {
     "iopub.execute_input": "2021-03-18T04:50:10.631117Z",
     "iopub.status.busy": "2021-03-18T04:50:10.628544Z",
     "iopub.status.idle": "2021-03-18T04:50:11.348190Z",
     "shell.execute_reply": "2021-03-18T04:50:11.347710Z"
    }
   },
   "outputs": [],
   "source": [
    "url = \"https://public.tableau.com/interactive/views/COVID-19VaccineDashboardPublic/Vaccine?:embed=y&:showVizHome=n&:apiID=host0\"\n",
    "\n",
    "r = requests.get(url)\n",
    "soup = BeautifulSoup(r.text, \"html.parser\")"
   ]
  },
  {
   "cell_type": "code",
   "execution_count": 3,
   "metadata": {
    "execution": {
     "iopub.execute_input": "2021-03-18T04:50:11.353655Z",
     "iopub.status.busy": "2021-03-18T04:50:11.352916Z",
     "iopub.status.idle": "2021-03-18T04:50:11.356829Z",
     "shell.execute_reply": "2021-03-18T04:50:11.356282Z"
    }
   },
   "outputs": [],
   "source": [
    "tableauData = json.loads(soup.find(\"textarea\",{\"id\": \"tsConfigContainer\"}).text)"
   ]
  },
  {
   "cell_type": "markdown",
   "metadata": {},
   "source": [
    "Get the link to the Tableau data"
   ]
  },
  {
   "cell_type": "code",
   "execution_count": 4,
   "metadata": {
    "execution": {
     "iopub.execute_input": "2021-03-18T04:50:11.361946Z",
     "iopub.status.busy": "2021-03-18T04:50:11.360428Z",
     "iopub.status.idle": "2021-03-18T04:50:11.362592Z",
     "shell.execute_reply": "2021-03-18T04:50:11.363054Z"
    }
   },
   "outputs": [],
   "source": [
    "dataUrl = f'https://public.tableau.com{tableauData[\"vizql_root\"]}/bootstrapSession/sessions/{tableauData[\"sessionid\"]}'"
   ]
  },
  {
   "cell_type": "code",
   "execution_count": 5,
   "metadata": {
    "execution": {
     "iopub.execute_input": "2021-03-18T04:50:11.370063Z",
     "iopub.status.busy": "2021-03-18T04:50:11.369461Z",
     "iopub.status.idle": "2021-03-18T04:50:11.829866Z",
     "shell.execute_reply": "2021-03-18T04:50:11.828908Z"
    }
   },
   "outputs": [],
   "source": [
    "r = requests.post(dataUrl, data= {\n",
    "    \"sheet_id\": tableauData[\"sheetId\"],\n",
    "})\n",
    "\n",
    "dataReg = re.search('\\d+;({.*})\\d+;({.*})', r.text, re.MULTILINE)\n",
    "data1 = json.loads(dataReg.group(2))\n",
    "\n",
    "dataJson = data1[\"secondaryInfo\"][\"presModelMap\"][\"dataDictionary\"][\"presModelHolder\"][\"genDataDictionaryPresModel\"][\"dataSegments\"][\"0\"][\"dataColumns\"]"
   ]
  },
  {
   "cell_type": "markdown",
   "metadata": {},
   "source": [
    "Isolate what you want"
   ]
  },
  {
   "cell_type": "code",
   "execution_count": 6,
   "metadata": {
    "execution": {
     "iopub.execute_input": "2021-03-18T04:50:11.833975Z",
     "iopub.status.busy": "2021-03-18T04:50:11.833400Z",
     "iopub.status.idle": "2021-03-18T04:50:11.837000Z",
     "shell.execute_reply": "2021-03-18T04:50:11.837554Z"
    }
   },
   "outputs": [],
   "source": [
    "counties = dataJson[2]['dataValues'][:58]"
   ]
  },
  {
   "cell_type": "code",
   "execution_count": 7,
   "metadata": {
    "execution": {
     "iopub.execute_input": "2021-03-18T04:50:11.842078Z",
     "iopub.status.busy": "2021-03-18T04:50:11.840906Z",
     "iopub.status.idle": "2021-03-18T04:50:11.843105Z",
     "shell.execute_reply": "2021-03-18T04:50:11.843553Z"
    }
   },
   "outputs": [],
   "source": [
    "doses = dataJson[0]['dataValues'][3:61]"
   ]
  },
  {
   "cell_type": "markdown",
   "metadata": {},
   "source": [
    "Data formatting"
   ]
  },
  {
   "cell_type": "code",
   "execution_count": 8,
   "metadata": {
    "execution": {
     "iopub.execute_input": "2021-03-18T04:50:11.848143Z",
     "iopub.status.busy": "2021-03-18T04:50:11.846851Z",
     "iopub.status.idle": "2021-03-18T04:50:11.848775Z",
     "shell.execute_reply": "2021-03-18T04:50:11.849317Z"
    }
   },
   "outputs": [],
   "source": [
    "zipped = dict(zip(counties, doses))"
   ]
  },
  {
   "cell_type": "code",
   "execution_count": 9,
   "metadata": {
    "execution": {
     "iopub.execute_input": "2021-03-18T04:50:11.855708Z",
     "iopub.status.busy": "2021-03-18T04:50:11.855166Z",
     "iopub.status.idle": "2021-03-18T04:50:11.857443Z",
     "shell.execute_reply": "2021-03-18T04:50:11.857887Z"
    }
   },
   "outputs": [],
   "source": [
    "df = pd.Series(zipped).reset_index()"
   ]
  },
  {
   "cell_type": "code",
   "execution_count": 10,
   "metadata": {
    "execution": {
     "iopub.execute_input": "2021-03-18T04:50:11.862780Z",
     "iopub.status.busy": "2021-03-18T04:50:11.861464Z",
     "iopub.status.idle": "2021-03-18T04:50:11.863421Z",
     "shell.execute_reply": "2021-03-18T04:50:11.863852Z"
    }
   },
   "outputs": [],
   "source": [
    "df.columns = ['location','doses']"
   ]
  },
  {
   "cell_type": "markdown",
   "metadata": {},
   "source": [
    "Grab the overall California total"
   ]
  },
  {
   "cell_type": "code",
   "execution_count": 11,
   "metadata": {
    "execution": {
     "iopub.execute_input": "2021-03-18T04:50:11.868752Z",
     "iopub.status.busy": "2021-03-18T04:50:11.867336Z",
     "iopub.status.idle": "2021-03-18T04:50:11.869602Z",
     "shell.execute_reply": "2021-03-18T04:50:11.870017Z"
    }
   },
   "outputs": [],
   "source": [
    "add = {'location':'California','doses':dataJson[0]['dataValues'][2]}"
   ]
  },
  {
   "cell_type": "code",
   "execution_count": 12,
   "metadata": {
    "execution": {
     "iopub.execute_input": "2021-03-18T04:50:11.876535Z",
     "iopub.status.busy": "2021-03-18T04:50:11.874490Z",
     "iopub.status.idle": "2021-03-18T04:50:11.879059Z",
     "shell.execute_reply": "2021-03-18T04:50:11.878557Z"
    }
   },
   "outputs": [],
   "source": [
    "df = df.append(add, ignore_index=True)"
   ]
  },
  {
   "cell_type": "code",
   "execution_count": 13,
   "metadata": {
    "execution": {
     "iopub.execute_input": "2021-03-18T04:50:11.883147Z",
     "iopub.status.busy": "2021-03-18T04:50:11.882609Z",
     "iopub.status.idle": "2021-03-18T04:50:11.885323Z",
     "shell.execute_reply": "2021-03-18T04:50:11.885780Z"
    }
   },
   "outputs": [],
   "source": [
    "df = df.sort_values(by='location')"
   ]
  },
  {
   "cell_type": "code",
   "execution_count": 14,
   "metadata": {
    "execution": {
     "iopub.execute_input": "2021-03-18T04:50:11.892927Z",
     "iopub.status.busy": "2021-03-18T04:50:11.891619Z",
     "iopub.status.idle": "2021-03-18T04:50:11.893542Z",
     "shell.execute_reply": "2021-03-18T04:50:11.893966Z"
    }
   },
   "outputs": [],
   "source": [
    "df = df[df.location == 'California'].append(df[df.location != 'California']).reset_index(drop=True)"
   ]
  },
  {
   "cell_type": "code",
   "execution_count": null,
   "metadata": {},
   "outputs": [],
   "source": []
  },
  {
   "cell_type": "code",
   "execution_count": 15,
   "metadata": {
    "execution": {
     "iopub.execute_input": "2021-03-18T04:50:11.897470Z",
     "iopub.status.busy": "2021-03-18T04:50:11.896821Z",
     "iopub.status.idle": "2021-03-18T04:50:11.916297Z",
     "shell.execute_reply": "2021-03-18T04:50:11.915683Z"
    }
   },
   "outputs": [],
   "source": [
    "tz = pytz.timezone(\"America/New_York\")"
   ]
  },
  {
   "cell_type": "code",
   "execution_count": 16,
   "metadata": {
    "execution": {
     "iopub.execute_input": "2021-03-18T04:50:11.921253Z",
     "iopub.status.busy": "2021-03-18T04:50:11.919867Z",
     "iopub.status.idle": "2021-03-18T04:50:11.921964Z",
     "shell.execute_reply": "2021-03-18T04:50:11.922466Z"
    }
   },
   "outputs": [],
   "source": [
    "today = datetime.now(tz).date()"
   ]
  },
  {
   "cell_type": "code",
   "execution_count": 17,
   "metadata": {
    "execution": {
     "iopub.execute_input": "2021-03-18T04:50:11.927554Z",
     "iopub.status.busy": "2021-03-18T04:50:11.925906Z",
     "iopub.status.idle": "2021-03-18T04:50:11.928176Z",
     "shell.execute_reply": "2021-03-18T04:50:11.928707Z"
    }
   },
   "outputs": [],
   "source": [
    "data_dir = os.path.join(os.path.abspath(\"\"), \"data\")"
   ]
  },
  {
   "cell_type": "code",
   "execution_count": 18,
   "metadata": {
    "execution": {
     "iopub.execute_input": "2021-03-18T04:50:11.933245Z",
     "iopub.status.busy": "2021-03-18T04:50:11.932425Z",
     "iopub.status.idle": "2021-03-18T04:50:11.936536Z",
     "shell.execute_reply": "2021-03-18T04:50:11.937029Z"
    }
   },
   "outputs": [],
   "source": [
    "df.to_csv(os.path.join(data_dir, f\"{today}.csv\"), index=False)"
   ]
  },
  {
   "cell_type": "code",
   "execution_count": null,
   "metadata": {},
   "outputs": [],
   "source": []
  }
 ],
 "metadata": {
  "kernelspec": {
   "display_name": "Python 3",
   "language": "python",
   "name": "python3"
  },
  "language_info": {
   "codemirror_mode": {
    "name": "ipython",
    "version": 3
   },
   "file_extension": ".py",
   "mimetype": "text/x-python",
   "name": "python",
   "nbconvert_exporter": "python",
   "pygments_lexer": "ipython3",
   "version": "3.8.8"
  }
 },
 "nbformat": 4,
 "nbformat_minor": 4
}
