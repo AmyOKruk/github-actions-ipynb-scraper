{
 "cells": [
  {
   "cell_type": "markdown",
   "metadata": {},
   "source": [
    "# California COVID vaccinations scrape"
   ]
  },
  {
   "cell_type": "markdown",
   "metadata": {},
   "source": [
    "By [Amy O'Kruk](https://twitter.com/amyokruk)"
   ]
  },
  {
   "cell_type": "markdown",
   "metadata": {},
   "source": [
    "Downloads data on vaccine doses administered by county and statewide from a Tableau-powered dashboard from the California Department of Public Health."
   ]
  },
  {
   "cell_type": "code",
   "execution_count": 1,
   "metadata": {
    "execution": {
     "iopub.execute_input": "2021-03-12T15:12:45.582616Z",
     "iopub.status.busy": "2021-03-12T15:12:45.581487Z",
     "iopub.status.idle": "2021-03-12T15:12:45.996298Z",
     "shell.execute_reply": "2021-03-12T15:12:45.995372Z"
    }
   },
   "outputs": [],
   "source": [
    "import pandas as pd\n",
    "import requests\n",
    "from bs4 import BeautifulSoup\n",
    "import json\n",
    "import re\n",
    "import time\n",
    "from time import gmtime, strftime \n",
    "import os\n",
    "import pytz\n",
    "from datetime import datetime"
   ]
  },
  {
   "cell_type": "markdown",
   "metadata": {},
   "source": [
    "Scrape the dashboard page"
   ]
  },
  {
   "cell_type": "code",
   "execution_count": 2,
   "metadata": {
    "execution": {
     "iopub.execute_input": "2021-03-12T15:12:46.003666Z",
     "iopub.status.busy": "2021-03-12T15:12:46.000346Z",
     "iopub.status.idle": "2021-03-12T15:12:47.158869Z",
     "shell.execute_reply": "2021-03-12T15:12:47.158253Z"
    }
   },
   "outputs": [],
   "source": [
    "url = \"https://public.tableau.com/interactive/views/COVID-19VaccineDashboardPublic/Vaccine?:embed=y&:showVizHome=n&:apiID=host0\"\n",
    "\n",
    "r = requests.get(url)\n",
    "soup = BeautifulSoup(r.text, \"html.parser\")"
   ]
  },
  {
   "cell_type": "code",
   "execution_count": 3,
   "metadata": {
    "execution": {
     "iopub.execute_input": "2021-03-12T15:12:47.164299Z",
     "iopub.status.busy": "2021-03-12T15:12:47.163700Z",
     "iopub.status.idle": "2021-03-12T15:12:47.167813Z",
     "shell.execute_reply": "2021-03-12T15:12:47.167348Z"
    }
   },
   "outputs": [],
   "source": [
    "tableauData = json.loads(soup.find(\"textarea\",{\"id\": \"tsConfigContainer\"}).text)"
   ]
  },
  {
   "cell_type": "markdown",
   "metadata": {},
   "source": [
    "Get the link to the Tableau data"
   ]
  },
  {
   "cell_type": "code",
   "execution_count": 4,
   "metadata": {
    "execution": {
     "iopub.execute_input": "2021-03-12T15:12:47.171695Z",
     "iopub.status.busy": "2021-03-12T15:12:47.170982Z",
     "iopub.status.idle": "2021-03-12T15:12:47.175087Z",
     "shell.execute_reply": "2021-03-12T15:12:47.174562Z"
    }
   },
   "outputs": [],
   "source": [
    "dataUrl = f'https://public.tableau.com{tableauData[\"vizql_root\"]}/bootstrapSession/sessions/{tableauData[\"sessionid\"]}'"
   ]
  },
  {
   "cell_type": "code",
   "execution_count": 5,
   "metadata": {
    "execution": {
     "iopub.execute_input": "2021-03-12T15:12:47.182148Z",
     "iopub.status.busy": "2021-03-12T15:12:47.181538Z",
     "iopub.status.idle": "2021-03-12T15:12:47.700789Z",
     "shell.execute_reply": "2021-03-12T15:12:47.699667Z"
    }
   },
   "outputs": [],
   "source": [
    "r = requests.post(dataUrl, data= {\n",
    "    \"sheet_id\": tableauData[\"sheetId\"],\n",
    "})\n",
    "\n",
    "dataReg = re.search('\\d+;({.*})\\d+;({.*})', r.text, re.MULTILINE)\n",
    "data1 = json.loads(dataReg.group(2))\n",
    "\n",
    "dataJson = data1[\"secondaryInfo\"][\"presModelMap\"][\"dataDictionary\"][\"presModelHolder\"][\"genDataDictionaryPresModel\"][\"dataSegments\"][\"0\"][\"dataColumns\"]"
   ]
  },
  {
   "cell_type": "markdown",
   "metadata": {},
   "source": [
    "Isolate what you want"
   ]
  },
  {
   "cell_type": "code",
   "execution_count": 6,
   "metadata": {
    "execution": {
     "iopub.execute_input": "2021-03-12T15:12:47.705583Z",
     "iopub.status.busy": "2021-03-12T15:12:47.704879Z",
     "iopub.status.idle": "2021-03-12T15:12:47.709665Z",
     "shell.execute_reply": "2021-03-12T15:12:47.709008Z"
    }
   },
   "outputs": [],
   "source": [
    "counties = dataJson[2]['dataValues'][:58]"
   ]
  },
  {
   "cell_type": "code",
   "execution_count": 7,
   "metadata": {
    "execution": {
     "iopub.execute_input": "2021-03-12T15:12:47.714036Z",
     "iopub.status.busy": "2021-03-12T15:12:47.713397Z",
     "iopub.status.idle": "2021-03-12T15:12:47.716959Z",
     "shell.execute_reply": "2021-03-12T15:12:47.717483Z"
    }
   },
   "outputs": [],
   "source": [
    "doses = dataJson[0]['dataValues'][3:61]"
   ]
  },
  {
   "cell_type": "markdown",
   "metadata": {},
   "source": [
    "Data formatting"
   ]
  },
  {
   "cell_type": "code",
   "execution_count": 8,
   "metadata": {
    "execution": {
     "iopub.execute_input": "2021-03-12T15:12:47.721324Z",
     "iopub.status.busy": "2021-03-12T15:12:47.720773Z",
     "iopub.status.idle": "2021-03-12T15:12:47.724190Z",
     "shell.execute_reply": "2021-03-12T15:12:47.724670Z"
    }
   },
   "outputs": [],
   "source": [
    "zipped = dict(zip(counties, doses))"
   ]
  },
  {
   "cell_type": "code",
   "execution_count": 9,
   "metadata": {
    "execution": {
     "iopub.execute_input": "2021-03-12T15:12:47.731060Z",
     "iopub.status.busy": "2021-03-12T15:12:47.730444Z",
     "iopub.status.idle": "2021-03-12T15:12:47.734293Z",
     "shell.execute_reply": "2021-03-12T15:12:47.734800Z"
    }
   },
   "outputs": [],
   "source": [
    "df = pd.Series(zipped).reset_index()"
   ]
  },
  {
   "cell_type": "code",
   "execution_count": 10,
   "metadata": {
    "execution": {
     "iopub.execute_input": "2021-03-12T15:12:47.738746Z",
     "iopub.status.busy": "2021-03-12T15:12:47.738090Z",
     "iopub.status.idle": "2021-03-12T15:12:47.741789Z",
     "shell.execute_reply": "2021-03-12T15:12:47.742265Z"
    }
   },
   "outputs": [],
   "source": [
    "df.columns = ['location','doses']"
   ]
  },
  {
   "cell_type": "markdown",
   "metadata": {},
   "source": [
    "Grab the overall California total"
   ]
  },
  {
   "cell_type": "code",
   "execution_count": 11,
   "metadata": {
    "execution": {
     "iopub.execute_input": "2021-03-12T15:12:47.746184Z",
     "iopub.status.busy": "2021-03-12T15:12:47.745628Z",
     "iopub.status.idle": "2021-03-12T15:12:47.749740Z",
     "shell.execute_reply": "2021-03-12T15:12:47.749067Z"
    }
   },
   "outputs": [],
   "source": [
    "add = {'location':'California','doses':dataJson[0]['dataValues'][2]}"
   ]
  },
  {
   "cell_type": "code",
   "execution_count": 12,
   "metadata": {
    "execution": {
     "iopub.execute_input": "2021-03-12T15:12:47.756940Z",
     "iopub.status.busy": "2021-03-12T15:12:47.756366Z",
     "iopub.status.idle": "2021-03-12T15:12:47.760583Z",
     "shell.execute_reply": "2021-03-12T15:12:47.760080Z"
    }
   },
   "outputs": [],
   "source": [
    "df = df.append(add, ignore_index=True)"
   ]
  },
  {
   "cell_type": "code",
   "execution_count": 13,
   "metadata": {
    "execution": {
     "iopub.execute_input": "2021-03-12T15:12:47.765420Z",
     "iopub.status.busy": "2021-03-12T15:12:47.764790Z",
     "iopub.status.idle": "2021-03-12T15:12:47.768465Z",
     "shell.execute_reply": "2021-03-12T15:12:47.768913Z"
    }
   },
   "outputs": [],
   "source": [
    "df = df.sort_values(by='location')"
   ]
  },
  {
   "cell_type": "code",
   "execution_count": 14,
   "metadata": {
    "execution": {
     "iopub.execute_input": "2021-03-12T15:12:47.775573Z",
     "iopub.status.busy": "2021-03-12T15:12:47.775022Z",
     "iopub.status.idle": "2021-03-12T15:12:47.778814Z",
     "shell.execute_reply": "2021-03-12T15:12:47.778297Z"
    }
   },
   "outputs": [],
   "source": [
    "df = df[df.location == 'California'].append(df[df.location != 'California']).reset_index(drop=True)"
   ]
  },
  {
   "cell_type": "code",
   "execution_count": null,
   "metadata": {},
   "outputs": [],
   "source": []
  },
  {
   "cell_type": "code",
   "execution_count": 15,
   "metadata": {
    "execution": {
     "iopub.execute_input": "2021-03-12T15:12:47.782963Z",
     "iopub.status.busy": "2021-03-12T15:12:47.782332Z",
     "iopub.status.idle": "2021-03-12T15:12:47.804754Z",
     "shell.execute_reply": "2021-03-12T15:12:47.803759Z"
    }
   },
   "outputs": [],
   "source": [
    "tz = pytz.timezone(\"America/New_York\")"
   ]
  },
  {
   "cell_type": "code",
   "execution_count": 16,
   "metadata": {
    "execution": {
     "iopub.execute_input": "2021-03-12T15:12:47.809151Z",
     "iopub.status.busy": "2021-03-12T15:12:47.808552Z",
     "iopub.status.idle": "2021-03-12T15:12:47.812957Z",
     "shell.execute_reply": "2021-03-12T15:12:47.811995Z"
    }
   },
   "outputs": [],
   "source": [
    "today = datetime.now(tz).date()"
   ]
  },
  {
   "cell_type": "code",
   "execution_count": 17,
   "metadata": {
    "execution": {
     "iopub.execute_input": "2021-03-12T15:12:47.817241Z",
     "iopub.status.busy": "2021-03-12T15:12:47.816615Z",
     "iopub.status.idle": "2021-03-12T15:12:47.821824Z",
     "shell.execute_reply": "2021-03-12T15:12:47.822303Z"
    }
   },
   "outputs": [],
   "source": [
    "data_dir = os.path.join(os.path.abspath(\"\"), \"data\")"
   ]
  },
  {
   "cell_type": "code",
   "execution_count": 18,
   "metadata": {
    "execution": {
     "iopub.execute_input": "2021-03-12T15:12:47.827612Z",
     "iopub.status.busy": "2021-03-12T15:12:47.826214Z",
     "iopub.status.idle": "2021-03-12T15:12:47.831192Z",
     "shell.execute_reply": "2021-03-12T15:12:47.831785Z"
    }
   },
   "outputs": [],
   "source": [
    "df.to_csv(os.path.join(data_dir, f\"{today}.csv\"), index=False)"
   ]
  },
  {
   "cell_type": "code",
   "execution_count": null,
   "metadata": {},
   "outputs": [],
   "source": []
  }
 ],
 "metadata": {
  "kernelspec": {
   "display_name": "Python 3",
   "language": "python",
   "name": "python3"
  },
  "language_info": {
   "codemirror_mode": {
    "name": "ipython",
    "version": 3
   },
   "file_extension": ".py",
   "mimetype": "text/x-python",
   "name": "python",
   "nbconvert_exporter": "python",
   "pygments_lexer": "ipython3",
   "version": "3.8.8"
  }
 },
 "nbformat": 4,
 "nbformat_minor": 4
}
