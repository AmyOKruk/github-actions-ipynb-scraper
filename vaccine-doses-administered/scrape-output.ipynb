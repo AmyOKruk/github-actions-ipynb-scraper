{
 "cells": [
  {
   "cell_type": "markdown",
   "metadata": {},
   "source": [
    "# California COVID vaccinations scrape"
   ]
  },
  {
   "cell_type": "markdown",
   "metadata": {},
   "source": [
    "By [Amy O'Kruk](https://twitter.com/amyokruk)"
   ]
  },
  {
   "cell_type": "markdown",
   "metadata": {},
   "source": [
    "Downloads data on vaccine doses administered by county and statewide from a Tableau-powered dashboard from the California Department of Public Health."
   ]
  },
  {
   "cell_type": "code",
   "execution_count": 1,
   "metadata": {
    "execution": {
     "iopub.execute_input": "2021-03-21T02:57:49.665899Z",
     "iopub.status.busy": "2021-03-21T02:57:49.664505Z",
     "iopub.status.idle": "2021-03-21T02:57:50.132230Z",
     "shell.execute_reply": "2021-03-21T02:57:50.131191Z"
    }
   },
   "outputs": [],
   "source": [
    "import pandas as pd\n",
    "import requests\n",
    "from bs4 import BeautifulSoup\n",
    "import json\n",
    "import re\n",
    "import time\n",
    "from time import gmtime, strftime \n",
    "import os\n",
    "import pytz\n",
    "from datetime import datetime"
   ]
  },
  {
   "cell_type": "markdown",
   "metadata": {},
   "source": [
    "Scrape the dashboard page"
   ]
  },
  {
   "cell_type": "code",
   "execution_count": 2,
   "metadata": {
    "execution": {
     "iopub.execute_input": "2021-03-21T02:57:50.138513Z",
     "iopub.status.busy": "2021-03-21T02:57:50.135917Z",
     "iopub.status.idle": "2021-03-21T02:57:50.638902Z",
     "shell.execute_reply": "2021-03-21T02:57:50.637813Z"
    }
   },
   "outputs": [],
   "source": [
    "url = \"https://public.tableau.com/interactive/views/COVID-19VaccineDashboardPublic/Vaccine?:embed=y&:showVizHome=n&:apiID=host0\"\n",
    "\n",
    "r = requests.get(url)\n",
    "soup = BeautifulSoup(r.text, \"html.parser\")"
   ]
  },
  {
   "cell_type": "code",
   "execution_count": 3,
   "metadata": {
    "execution": {
     "iopub.execute_input": "2021-03-21T02:57:50.644804Z",
     "iopub.status.busy": "2021-03-21T02:57:50.644266Z",
     "iopub.status.idle": "2021-03-21T02:57:50.647793Z",
     "shell.execute_reply": "2021-03-21T02:57:50.647336Z"
    }
   },
   "outputs": [],
   "source": [
    "tableauData = json.loads(soup.find(\"textarea\",{\"id\": \"tsConfigContainer\"}).text)"
   ]
  },
  {
   "cell_type": "markdown",
   "metadata": {},
   "source": [
    "Get the link to the Tableau data"
   ]
  },
  {
   "cell_type": "code",
   "execution_count": 4,
   "metadata": {
    "execution": {
     "iopub.execute_input": "2021-03-21T02:57:50.652532Z",
     "iopub.status.busy": "2021-03-21T02:57:50.651031Z",
     "iopub.status.idle": "2021-03-21T02:57:50.653208Z",
     "shell.execute_reply": "2021-03-21T02:57:50.653677Z"
    }
   },
   "outputs": [],
   "source": [
    "dataUrl = f'https://public.tableau.com{tableauData[\"vizql_root\"]}/bootstrapSession/sessions/{tableauData[\"sessionid\"]}'"
   ]
  },
  {
   "cell_type": "code",
   "execution_count": 5,
   "metadata": {
    "execution": {
     "iopub.execute_input": "2021-03-21T02:57:50.660416Z",
     "iopub.status.busy": "2021-03-21T02:57:50.659843Z",
     "iopub.status.idle": "2021-03-21T02:57:50.927230Z",
     "shell.execute_reply": "2021-03-21T02:57:50.927690Z"
    }
   },
   "outputs": [],
   "source": [
    "r = requests.post(dataUrl, data= {\n",
    "    \"sheet_id\": tableauData[\"sheetId\"],\n",
    "})\n",
    "\n",
    "dataReg = re.search('\\d+;({.*})\\d+;({.*})', r.text, re.MULTILINE)\n",
    "data1 = json.loads(dataReg.group(2))\n",
    "\n",
    "dataJson = data1[\"secondaryInfo\"][\"presModelMap\"][\"dataDictionary\"][\"presModelHolder\"][\"genDataDictionaryPresModel\"][\"dataSegments\"][\"0\"][\"dataColumns\"]"
   ]
  },
  {
   "cell_type": "markdown",
   "metadata": {},
   "source": [
    "Isolate what you want"
   ]
  },
  {
   "cell_type": "code",
   "execution_count": 6,
   "metadata": {
    "execution": {
     "iopub.execute_input": "2021-03-21T02:57:50.932379Z",
     "iopub.status.busy": "2021-03-21T02:57:50.931220Z",
     "iopub.status.idle": "2021-03-21T02:57:50.932985Z",
     "shell.execute_reply": "2021-03-21T02:57:50.933837Z"
    }
   },
   "outputs": [],
   "source": [
    "counties = dataJson[2]['dataValues'][:58]"
   ]
  },
  {
   "cell_type": "code",
   "execution_count": 7,
   "metadata": {
    "execution": {
     "iopub.execute_input": "2021-03-21T02:57:50.938102Z",
     "iopub.status.busy": "2021-03-21T02:57:50.937027Z",
     "iopub.status.idle": "2021-03-21T02:57:50.939399Z",
     "shell.execute_reply": "2021-03-21T02:57:50.938907Z"
    }
   },
   "outputs": [],
   "source": [
    "doses = dataJson[0]['dataValues'][3:61]"
   ]
  },
  {
   "cell_type": "markdown",
   "metadata": {},
   "source": [
    "Data formatting"
   ]
  },
  {
   "cell_type": "code",
   "execution_count": 8,
   "metadata": {
    "execution": {
     "iopub.execute_input": "2021-03-21T02:57:50.943622Z",
     "iopub.status.busy": "2021-03-21T02:57:50.942391Z",
     "iopub.status.idle": "2021-03-21T02:57:50.944298Z",
     "shell.execute_reply": "2021-03-21T02:57:50.944736Z"
    }
   },
   "outputs": [],
   "source": [
    "zipped = dict(zip(counties, doses))"
   ]
  },
  {
   "cell_type": "code",
   "execution_count": 9,
   "metadata": {
    "execution": {
     "iopub.execute_input": "2021-03-21T02:57:50.951708Z",
     "iopub.status.busy": "2021-03-21T02:57:50.950430Z",
     "iopub.status.idle": "2021-03-21T02:57:50.952313Z",
     "shell.execute_reply": "2021-03-21T02:57:50.952752Z"
    }
   },
   "outputs": [],
   "source": [
    "df = pd.Series(zipped).reset_index()"
   ]
  },
  {
   "cell_type": "code",
   "execution_count": 10,
   "metadata": {
    "execution": {
     "iopub.execute_input": "2021-03-21T02:57:50.957306Z",
     "iopub.status.busy": "2021-03-21T02:57:50.956091Z",
     "iopub.status.idle": "2021-03-21T02:57:50.957919Z",
     "shell.execute_reply": "2021-03-21T02:57:50.958356Z"
    }
   },
   "outputs": [],
   "source": [
    "df.columns = ['location','doses']"
   ]
  },
  {
   "cell_type": "markdown",
   "metadata": {},
   "source": [
    "Grab the overall California total"
   ]
  },
  {
   "cell_type": "code",
   "execution_count": 11,
   "metadata": {
    "execution": {
     "iopub.execute_input": "2021-03-21T02:57:50.962795Z",
     "iopub.status.busy": "2021-03-21T02:57:50.961617Z",
     "iopub.status.idle": "2021-03-21T02:57:50.963500Z",
     "shell.execute_reply": "2021-03-21T02:57:50.963938Z"
    }
   },
   "outputs": [],
   "source": [
    "add = {'location':'California','doses':dataJson[0]['dataValues'][2]}"
   ]
  },
  {
   "cell_type": "code",
   "execution_count": 12,
   "metadata": {
    "execution": {
     "iopub.execute_input": "2021-03-21T02:57:50.971656Z",
     "iopub.status.busy": "2021-03-21T02:57:50.970384Z",
     "iopub.status.idle": "2021-03-21T02:57:50.972268Z",
     "shell.execute_reply": "2021-03-21T02:57:50.972707Z"
    }
   },
   "outputs": [],
   "source": [
    "df = df.append(add, ignore_index=True)"
   ]
  },
  {
   "cell_type": "code",
   "execution_count": 13,
   "metadata": {
    "execution": {
     "iopub.execute_input": "2021-03-21T02:57:50.977840Z",
     "iopub.status.busy": "2021-03-21T02:57:50.976666Z",
     "iopub.status.idle": "2021-03-21T02:57:50.978529Z",
     "shell.execute_reply": "2021-03-21T02:57:50.978970Z"
    }
   },
   "outputs": [],
   "source": [
    "df = df.sort_values(by='location')"
   ]
  },
  {
   "cell_type": "code",
   "execution_count": 14,
   "metadata": {
    "execution": {
     "iopub.execute_input": "2021-03-21T02:57:50.988102Z",
     "iopub.status.busy": "2021-03-21T02:57:50.987191Z",
     "iopub.status.idle": "2021-03-21T02:57:50.989067Z",
     "shell.execute_reply": "2021-03-21T02:57:50.989611Z"
    }
   },
   "outputs": [],
   "source": [
    "df = df[df.location == 'California'].append(df[df.location != 'California']).reset_index(drop=True)"
   ]
  },
  {
   "cell_type": "code",
   "execution_count": null,
   "metadata": {},
   "outputs": [],
   "source": []
  },
  {
   "cell_type": "code",
   "execution_count": 15,
   "metadata": {
    "execution": {
     "iopub.execute_input": "2021-03-21T02:57:50.993004Z",
     "iopub.status.busy": "2021-03-21T02:57:50.992473Z",
     "iopub.status.idle": "2021-03-21T02:57:51.011820Z",
     "shell.execute_reply": "2021-03-21T02:57:51.011215Z"
    }
   },
   "outputs": [],
   "source": [
    "tz = pytz.timezone(\"America/New_York\")"
   ]
  },
  {
   "cell_type": "code",
   "execution_count": 16,
   "metadata": {
    "execution": {
     "iopub.execute_input": "2021-03-21T02:57:51.016682Z",
     "iopub.status.busy": "2021-03-21T02:57:51.015738Z",
     "iopub.status.idle": "2021-03-21T02:57:51.017652Z",
     "shell.execute_reply": "2021-03-21T02:57:51.018070Z"
    }
   },
   "outputs": [],
   "source": [
    "today = datetime.now(tz).date()"
   ]
  },
  {
   "cell_type": "code",
   "execution_count": 17,
   "metadata": {
    "execution": {
     "iopub.execute_input": "2021-03-21T02:57:51.022971Z",
     "iopub.status.busy": "2021-03-21T02:57:51.021704Z",
     "iopub.status.idle": "2021-03-21T02:57:51.023608Z",
     "shell.execute_reply": "2021-03-21T02:57:51.024045Z"
    }
   },
   "outputs": [],
   "source": [
    "data_dir = os.path.join(os.path.abspath(\"\"), \"data\")"
   ]
  },
  {
   "cell_type": "code",
   "execution_count": 18,
   "metadata": {
    "execution": {
     "iopub.execute_input": "2021-03-21T02:57:51.028150Z",
     "iopub.status.busy": "2021-03-21T02:57:51.027606Z",
     "iopub.status.idle": "2021-03-21T02:57:51.032206Z",
     "shell.execute_reply": "2021-03-21T02:57:51.031730Z"
    }
   },
   "outputs": [],
   "source": [
    "df.to_csv(os.path.join(data_dir, f\"{today}.csv\"), index=False)"
   ]
  },
  {
   "cell_type": "code",
   "execution_count": null,
   "metadata": {},
   "outputs": [],
   "source": []
  }
 ],
 "metadata": {
  "kernelspec": {
   "display_name": "Python 3",
   "language": "python",
   "name": "python3"
  },
  "language_info": {
   "codemirror_mode": {
    "name": "ipython",
    "version": 3
   },
   "file_extension": ".py",
   "mimetype": "text/x-python",
   "name": "python",
   "nbconvert_exporter": "python",
   "pygments_lexer": "ipython3",
   "version": "3.8.8"
  }
 },
 "nbformat": 4,
 "nbformat_minor": 4
}
