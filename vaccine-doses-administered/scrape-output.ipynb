{
 "cells": [
  {
   "cell_type": "markdown",
   "metadata": {},
   "source": [
    "# California COVID vaccinations scrape"
   ]
  },
  {
   "cell_type": "markdown",
   "metadata": {},
   "source": [
    "By [Amy O'Kruk](https://twitter.com/amyokruk)"
   ]
  },
  {
   "cell_type": "markdown",
   "metadata": {},
   "source": [
    "Downloads data on vaccine doses administered by county and statewide from a Tableau-powered dashboard from the California Department of Public Health."
   ]
  },
  {
   "cell_type": "code",
   "execution_count": 1,
   "metadata": {
    "execution": {
     "iopub.execute_input": "2021-03-10T13:16:03.107379Z",
     "iopub.status.busy": "2021-03-10T13:16:03.106688Z",
     "iopub.status.idle": "2021-03-10T13:16:03.486145Z",
     "shell.execute_reply": "2021-03-10T13:16:03.485122Z"
    }
   },
   "outputs": [],
   "source": [
    "import pandas as pd\n",
    "import requests\n",
    "from bs4 import BeautifulSoup\n",
    "import json\n",
    "import re\n",
    "import time\n",
    "from time import gmtime, strftime \n",
    "import os\n",
    "import pytz\n",
    "from datetime import datetime"
   ]
  },
  {
   "cell_type": "markdown",
   "metadata": {},
   "source": [
    "Scrape the dashboard page"
   ]
  },
  {
   "cell_type": "code",
   "execution_count": 2,
   "metadata": {
    "execution": {
     "iopub.execute_input": "2021-03-10T13:16:03.492544Z",
     "iopub.status.busy": "2021-03-10T13:16:03.489908Z",
     "iopub.status.idle": "2021-03-10T13:16:09.555816Z",
     "shell.execute_reply": "2021-03-10T13:16:09.554723Z"
    }
   },
   "outputs": [],
   "source": [
    "url = \"https://public.tableau.com/interactive/views/COVID-19VaccineDashboardPublic/Vaccine?:embed=y&:showVizHome=n&:apiID=host0\"\n",
    "\n",
    "r = requests.get(url)\n",
    "soup = BeautifulSoup(r.text, \"html.parser\")"
   ]
  },
  {
   "cell_type": "code",
   "execution_count": 3,
   "metadata": {
    "execution": {
     "iopub.execute_input": "2021-03-10T13:16:09.562469Z",
     "iopub.status.busy": "2021-03-10T13:16:09.561270Z",
     "iopub.status.idle": "2021-03-10T13:16:09.563167Z",
     "shell.execute_reply": "2021-03-10T13:16:09.563608Z"
    }
   },
   "outputs": [],
   "source": [
    "tableauData = json.loads(soup.find(\"textarea\",{\"id\": \"tsConfigContainer\"}).text)"
   ]
  },
  {
   "cell_type": "markdown",
   "metadata": {},
   "source": [
    "Get the link to the Tableau data"
   ]
  },
  {
   "cell_type": "code",
   "execution_count": 4,
   "metadata": {
    "execution": {
     "iopub.execute_input": "2021-03-10T13:16:09.567890Z",
     "iopub.status.busy": "2021-03-10T13:16:09.566675Z",
     "iopub.status.idle": "2021-03-10T13:16:09.568487Z",
     "shell.execute_reply": "2021-03-10T13:16:09.568911Z"
    }
   },
   "outputs": [],
   "source": [
    "dataUrl = f'https://public.tableau.com{tableauData[\"vizql_root\"]}/bootstrapSession/sessions/{tableauData[\"sessionid\"]}'"
   ]
  },
  {
   "cell_type": "code",
   "execution_count": 5,
   "metadata": {
    "execution": {
     "iopub.execute_input": "2021-03-10T13:16:09.575452Z",
     "iopub.status.busy": "2021-03-10T13:16:09.574887Z",
     "iopub.status.idle": "2021-03-10T13:16:09.832964Z",
     "shell.execute_reply": "2021-03-10T13:16:09.832271Z"
    }
   },
   "outputs": [],
   "source": [
    "r = requests.post(dataUrl, data= {\n",
    "    \"sheet_id\": tableauData[\"sheetId\"],\n",
    "})\n",
    "\n",
    "dataReg = re.search('\\d+;({.*})\\d+;({.*})', r.text, re.MULTILINE)\n",
    "data1 = json.loads(dataReg.group(2))\n",
    "\n",
    "dataJson = data1[\"secondaryInfo\"][\"presModelMap\"][\"dataDictionary\"][\"presModelHolder\"][\"genDataDictionaryPresModel\"][\"dataSegments\"][\"0\"][\"dataColumns\"]"
   ]
  },
  {
   "cell_type": "markdown",
   "metadata": {},
   "source": [
    "Isolate what you want"
   ]
  },
  {
   "cell_type": "code",
   "execution_count": 6,
   "metadata": {
    "execution": {
     "iopub.execute_input": "2021-03-10T13:16:09.836770Z",
     "iopub.status.busy": "2021-03-10T13:16:09.836243Z",
     "iopub.status.idle": "2021-03-10T13:16:09.839319Z",
     "shell.execute_reply": "2021-03-10T13:16:09.839827Z"
    }
   },
   "outputs": [],
   "source": [
    "counties = dataJson[2]['dataValues'][:58]"
   ]
  },
  {
   "cell_type": "code",
   "execution_count": 7,
   "metadata": {
    "execution": {
     "iopub.execute_input": "2021-03-10T13:16:09.844138Z",
     "iopub.status.busy": "2021-03-10T13:16:09.843618Z",
     "iopub.status.idle": "2021-03-10T13:16:09.847027Z",
     "shell.execute_reply": "2021-03-10T13:16:09.846528Z"
    }
   },
   "outputs": [],
   "source": [
    "doses = dataJson[0]['dataValues'][3:61]"
   ]
  },
  {
   "cell_type": "markdown",
   "metadata": {},
   "source": [
    "Data formatting"
   ]
  },
  {
   "cell_type": "code",
   "execution_count": 8,
   "metadata": {
    "execution": {
     "iopub.execute_input": "2021-03-10T13:16:09.850605Z",
     "iopub.status.busy": "2021-03-10T13:16:09.850091Z",
     "iopub.status.idle": "2021-03-10T13:16:09.853414Z",
     "shell.execute_reply": "2021-03-10T13:16:09.853823Z"
    }
   },
   "outputs": [],
   "source": [
    "zipped = dict(zip(counties, doses))"
   ]
  },
  {
   "cell_type": "code",
   "execution_count": 9,
   "metadata": {
    "execution": {
     "iopub.execute_input": "2021-03-10T13:16:09.859627Z",
     "iopub.status.busy": "2021-03-10T13:16:09.859038Z",
     "iopub.status.idle": "2021-03-10T13:16:09.862517Z",
     "shell.execute_reply": "2021-03-10T13:16:09.862008Z"
    }
   },
   "outputs": [],
   "source": [
    "df = pd.Series(zipped).reset_index()"
   ]
  },
  {
   "cell_type": "code",
   "execution_count": 10,
   "metadata": {
    "execution": {
     "iopub.execute_input": "2021-03-10T13:16:09.866080Z",
     "iopub.status.busy": "2021-03-10T13:16:09.865577Z",
     "iopub.status.idle": "2021-03-10T13:16:09.868892Z",
     "shell.execute_reply": "2021-03-10T13:16:09.868465Z"
    }
   },
   "outputs": [],
   "source": [
    "df.columns = ['location','doses']"
   ]
  },
  {
   "cell_type": "markdown",
   "metadata": {},
   "source": [
    "Grab the overall California total"
   ]
  },
  {
   "cell_type": "code",
   "execution_count": 11,
   "metadata": {
    "execution": {
     "iopub.execute_input": "2021-03-10T13:16:09.873134Z",
     "iopub.status.busy": "2021-03-10T13:16:09.872096Z",
     "iopub.status.idle": "2021-03-10T13:16:09.874347Z",
     "shell.execute_reply": "2021-03-10T13:16:09.873844Z"
    }
   },
   "outputs": [],
   "source": [
    "add = {'location':'California','doses':dataJson[0]['dataValues'][2]}"
   ]
  },
  {
   "cell_type": "code",
   "execution_count": 12,
   "metadata": {
    "execution": {
     "iopub.execute_input": "2021-03-10T13:16:09.881377Z",
     "iopub.status.busy": "2021-03-10T13:16:09.880167Z",
     "iopub.status.idle": "2021-03-10T13:16:09.881970Z",
     "shell.execute_reply": "2021-03-10T13:16:09.882396Z"
    }
   },
   "outputs": [],
   "source": [
    "df = df.append(add, ignore_index=True)"
   ]
  },
  {
   "cell_type": "code",
   "execution_count": 13,
   "metadata": {
    "execution": {
     "iopub.execute_input": "2021-03-10T13:16:09.887089Z",
     "iopub.status.busy": "2021-03-10T13:16:09.886067Z",
     "iopub.status.idle": "2021-03-10T13:16:09.888265Z",
     "shell.execute_reply": "2021-03-10T13:16:09.887839Z"
    }
   },
   "outputs": [],
   "source": [
    "df = df.sort_values(by='location')"
   ]
  },
  {
   "cell_type": "code",
   "execution_count": 14,
   "metadata": {
    "execution": {
     "iopub.execute_input": "2021-03-10T13:16:09.894355Z",
     "iopub.status.busy": "2021-03-10T13:16:09.893466Z",
     "iopub.status.idle": "2021-03-10T13:16:09.895833Z",
     "shell.execute_reply": "2021-03-10T13:16:09.896242Z"
    }
   },
   "outputs": [],
   "source": [
    "df = df[df.location == 'California'].append(df[df.location != 'California']).reset_index(drop=True)"
   ]
  },
  {
   "cell_type": "code",
   "execution_count": null,
   "metadata": {},
   "outputs": [],
   "source": []
  },
  {
   "cell_type": "code",
   "execution_count": 15,
   "metadata": {
    "execution": {
     "iopub.execute_input": "2021-03-10T13:16:09.900310Z",
     "iopub.status.busy": "2021-03-10T13:16:09.899800Z",
     "iopub.status.idle": "2021-03-10T13:16:09.918151Z",
     "shell.execute_reply": "2021-03-10T13:16:09.917670Z"
    }
   },
   "outputs": [],
   "source": [
    "tz = pytz.timezone(\"America/New_York\")"
   ]
  },
  {
   "cell_type": "code",
   "execution_count": 16,
   "metadata": {
    "execution": {
     "iopub.execute_input": "2021-03-10T13:16:09.922636Z",
     "iopub.status.busy": "2021-03-10T13:16:09.921381Z",
     "iopub.status.idle": "2021-03-10T13:16:09.923275Z",
     "shell.execute_reply": "2021-03-10T13:16:09.923711Z"
    }
   },
   "outputs": [],
   "source": [
    "today = datetime.now(tz).date()"
   ]
  },
  {
   "cell_type": "code",
   "execution_count": 17,
   "metadata": {
    "execution": {
     "iopub.execute_input": "2021-03-10T13:16:09.928544Z",
     "iopub.status.busy": "2021-03-10T13:16:09.927365Z",
     "iopub.status.idle": "2021-03-10T13:16:09.929136Z",
     "shell.execute_reply": "2021-03-10T13:16:09.929562Z"
    }
   },
   "outputs": [],
   "source": [
    "data_dir = os.path.join(os.path.abspath(\"\"), \"data\")"
   ]
  },
  {
   "cell_type": "code",
   "execution_count": 18,
   "metadata": {
    "execution": {
     "iopub.execute_input": "2021-03-10T13:16:09.934032Z",
     "iopub.status.busy": "2021-03-10T13:16:09.932851Z",
     "iopub.status.idle": "2021-03-10T13:16:09.937877Z",
     "shell.execute_reply": "2021-03-10T13:16:09.937366Z"
    }
   },
   "outputs": [],
   "source": [
    "df.to_csv(os.path.join(data_dir, f\"{today}.csv\"), index=False)"
   ]
  },
  {
   "cell_type": "code",
   "execution_count": null,
   "metadata": {},
   "outputs": [],
   "source": []
  }
 ],
 "metadata": {
  "kernelspec": {
   "display_name": "Python 3",
   "language": "python",
   "name": "python3"
  },
  "language_info": {
   "codemirror_mode": {
    "name": "ipython",
    "version": 3
   },
   "file_extension": ".py",
   "mimetype": "text/x-python",
   "name": "python",
   "nbconvert_exporter": "python",
   "pygments_lexer": "ipython3",
   "version": "3.8.8"
  }
 },
 "nbformat": 4,
 "nbformat_minor": 4
}
