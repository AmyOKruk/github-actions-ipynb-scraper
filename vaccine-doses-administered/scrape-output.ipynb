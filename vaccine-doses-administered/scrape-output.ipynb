{
 "cells": [
  {
   "cell_type": "markdown",
   "metadata": {},
   "source": [
    "# California COVID vaccinations scrape"
   ]
  },
  {
   "cell_type": "markdown",
   "metadata": {},
   "source": [
    "By [Amy O'Kruk](https://twitter.com/amyokruk)"
   ]
  },
  {
   "cell_type": "markdown",
   "metadata": {},
   "source": [
    "Downloads data on vaccine doses administered by county and statewide from a Tableau-powered dashboard from the California Department of Public Health."
   ]
  },
  {
   "cell_type": "code",
   "execution_count": 1,
   "metadata": {
    "execution": {
     "iopub.execute_input": "2021-03-13T18:14:46.946449Z",
     "iopub.status.busy": "2021-03-13T18:14:46.945347Z",
     "iopub.status.idle": "2021-03-13T18:14:47.308666Z",
     "shell.execute_reply": "2021-03-13T18:14:47.307813Z"
    }
   },
   "outputs": [],
   "source": [
    "import pandas as pd\n",
    "import requests\n",
    "from bs4 import BeautifulSoup\n",
    "import json\n",
    "import re\n",
    "import time\n",
    "from time import gmtime, strftime \n",
    "import os\n",
    "import pytz\n",
    "from datetime import datetime"
   ]
  },
  {
   "cell_type": "markdown",
   "metadata": {},
   "source": [
    "Scrape the dashboard page"
   ]
  },
  {
   "cell_type": "code",
   "execution_count": 2,
   "metadata": {
    "execution": {
     "iopub.execute_input": "2021-03-13T18:14:47.315250Z",
     "iopub.status.busy": "2021-03-13T18:14:47.314694Z",
     "iopub.status.idle": "2021-03-13T18:14:47.668538Z",
     "shell.execute_reply": "2021-03-13T18:14:47.668084Z"
    }
   },
   "outputs": [],
   "source": [
    "url = \"https://public.tableau.com/interactive/views/COVID-19VaccineDashboardPublic/Vaccine?:embed=y&:showVizHome=n&:apiID=host0\"\n",
    "\n",
    "r = requests.get(url)\n",
    "soup = BeautifulSoup(r.text, \"html.parser\")"
   ]
  },
  {
   "cell_type": "code",
   "execution_count": 3,
   "metadata": {
    "execution": {
     "iopub.execute_input": "2021-03-13T18:14:47.673846Z",
     "iopub.status.busy": "2021-03-13T18:14:47.673353Z",
     "iopub.status.idle": "2021-03-13T18:14:47.676851Z",
     "shell.execute_reply": "2021-03-13T18:14:47.676402Z"
    }
   },
   "outputs": [],
   "source": [
    "tableauData = json.loads(soup.find(\"textarea\",{\"id\": \"tsConfigContainer\"}).text)"
   ]
  },
  {
   "cell_type": "markdown",
   "metadata": {},
   "source": [
    "Get the link to the Tableau data"
   ]
  },
  {
   "cell_type": "code",
   "execution_count": 4,
   "metadata": {
    "execution": {
     "iopub.execute_input": "2021-03-13T18:14:47.681311Z",
     "iopub.status.busy": "2021-03-13T18:14:47.679988Z",
     "iopub.status.idle": "2021-03-13T18:14:47.681856Z",
     "shell.execute_reply": "2021-03-13T18:14:47.682278Z"
    }
   },
   "outputs": [],
   "source": [
    "dataUrl = f'https://public.tableau.com{tableauData[\"vizql_root\"]}/bootstrapSession/sessions/{tableauData[\"sessionid\"]}'"
   ]
  },
  {
   "cell_type": "code",
   "execution_count": 5,
   "metadata": {
    "execution": {
     "iopub.execute_input": "2021-03-13T18:14:47.688816Z",
     "iopub.status.busy": "2021-03-13T18:14:47.688278Z",
     "iopub.status.idle": "2021-03-13T18:14:47.841132Z",
     "shell.execute_reply": "2021-03-13T18:14:47.840399Z"
    }
   },
   "outputs": [],
   "source": [
    "r = requests.post(dataUrl, data= {\n",
    "    \"sheet_id\": tableauData[\"sheetId\"],\n",
    "})\n",
    "\n",
    "dataReg = re.search('\\d+;({.*})\\d+;({.*})', r.text, re.MULTILINE)\n",
    "data1 = json.loads(dataReg.group(2))\n",
    "\n",
    "dataJson = data1[\"secondaryInfo\"][\"presModelMap\"][\"dataDictionary\"][\"presModelHolder\"][\"genDataDictionaryPresModel\"][\"dataSegments\"][\"0\"][\"dataColumns\"]"
   ]
  },
  {
   "cell_type": "markdown",
   "metadata": {},
   "source": [
    "Isolate what you want"
   ]
  },
  {
   "cell_type": "code",
   "execution_count": 6,
   "metadata": {
    "execution": {
     "iopub.execute_input": "2021-03-13T18:14:47.846877Z",
     "iopub.status.busy": "2021-03-13T18:14:47.845115Z",
     "iopub.status.idle": "2021-03-13T18:14:47.847705Z",
     "shell.execute_reply": "2021-03-13T18:14:47.848330Z"
    }
   },
   "outputs": [],
   "source": [
    "counties = dataJson[2]['dataValues'][:58]"
   ]
  },
  {
   "cell_type": "code",
   "execution_count": 7,
   "metadata": {
    "execution": {
     "iopub.execute_input": "2021-03-13T18:14:47.852429Z",
     "iopub.status.busy": "2021-03-13T18:14:47.851548Z",
     "iopub.status.idle": "2021-03-13T18:14:47.853715Z",
     "shell.execute_reply": "2021-03-13T18:14:47.853208Z"
    }
   },
   "outputs": [],
   "source": [
    "doses = dataJson[0]['dataValues'][3:61]"
   ]
  },
  {
   "cell_type": "markdown",
   "metadata": {},
   "source": [
    "Data formatting"
   ]
  },
  {
   "cell_type": "code",
   "execution_count": 8,
   "metadata": {
    "execution": {
     "iopub.execute_input": "2021-03-13T18:14:47.859145Z",
     "iopub.status.busy": "2021-03-13T18:14:47.858180Z",
     "iopub.status.idle": "2021-03-13T18:14:47.859717Z",
     "shell.execute_reply": "2021-03-13T18:14:47.860113Z"
    }
   },
   "outputs": [],
   "source": [
    "zipped = dict(zip(counties, doses))"
   ]
  },
  {
   "cell_type": "code",
   "execution_count": 9,
   "metadata": {
    "execution": {
     "iopub.execute_input": "2021-03-13T18:14:47.866504Z",
     "iopub.status.busy": "2021-03-13T18:14:47.865346Z",
     "iopub.status.idle": "2021-03-13T18:14:47.867124Z",
     "shell.execute_reply": "2021-03-13T18:14:47.867527Z"
    }
   },
   "outputs": [],
   "source": [
    "df = pd.Series(zipped).reset_index()"
   ]
  },
  {
   "cell_type": "code",
   "execution_count": 10,
   "metadata": {
    "execution": {
     "iopub.execute_input": "2021-03-13T18:14:47.871828Z",
     "iopub.status.busy": "2021-03-13T18:14:47.870691Z",
     "iopub.status.idle": "2021-03-13T18:14:47.872591Z",
     "shell.execute_reply": "2021-03-13T18:14:47.873118Z"
    }
   },
   "outputs": [],
   "source": [
    "df.columns = ['location','doses']"
   ]
  },
  {
   "cell_type": "markdown",
   "metadata": {},
   "source": [
    "Grab the overall California total"
   ]
  },
  {
   "cell_type": "code",
   "execution_count": 11,
   "metadata": {
    "execution": {
     "iopub.execute_input": "2021-03-13T18:14:47.877280Z",
     "iopub.status.busy": "2021-03-13T18:14:47.876207Z",
     "iopub.status.idle": "2021-03-13T18:14:47.877973Z",
     "shell.execute_reply": "2021-03-13T18:14:47.878443Z"
    }
   },
   "outputs": [],
   "source": [
    "add = {'location':'California','doses':dataJson[0]['dataValues'][2]}"
   ]
  },
  {
   "cell_type": "code",
   "execution_count": 12,
   "metadata": {
    "execution": {
     "iopub.execute_input": "2021-03-13T18:14:47.885327Z",
     "iopub.status.busy": "2021-03-13T18:14:47.884237Z",
     "iopub.status.idle": "2021-03-13T18:14:47.885963Z",
     "shell.execute_reply": "2021-03-13T18:14:47.886442Z"
    }
   },
   "outputs": [],
   "source": [
    "df = df.append(add, ignore_index=True)"
   ]
  },
  {
   "cell_type": "code",
   "execution_count": 13,
   "metadata": {
    "execution": {
     "iopub.execute_input": "2021-03-13T18:14:47.891679Z",
     "iopub.status.busy": "2021-03-13T18:14:47.890589Z",
     "iopub.status.idle": "2021-03-13T18:14:47.892238Z",
     "shell.execute_reply": "2021-03-13T18:14:47.892639Z"
    }
   },
   "outputs": [],
   "source": [
    "df = df.sort_values(by='location')"
   ]
  },
  {
   "cell_type": "code",
   "execution_count": 14,
   "metadata": {
    "execution": {
     "iopub.execute_input": "2021-03-13T18:14:47.899110Z",
     "iopub.status.busy": "2021-03-13T18:14:47.897964Z",
     "iopub.status.idle": "2021-03-13T18:14:47.899733Z",
     "shell.execute_reply": "2021-03-13T18:14:47.900136Z"
    }
   },
   "outputs": [],
   "source": [
    "df = df[df.location == 'California'].append(df[df.location != 'California']).reset_index(drop=True)"
   ]
  },
  {
   "cell_type": "code",
   "execution_count": null,
   "metadata": {},
   "outputs": [],
   "source": []
  },
  {
   "cell_type": "code",
   "execution_count": 15,
   "metadata": {
    "execution": {
     "iopub.execute_input": "2021-03-13T18:14:47.903805Z",
     "iopub.status.busy": "2021-03-13T18:14:47.903136Z",
     "iopub.status.idle": "2021-03-13T18:14:47.921515Z",
     "shell.execute_reply": "2021-03-13T18:14:47.920999Z"
    }
   },
   "outputs": [],
   "source": [
    "tz = pytz.timezone(\"America/New_York\")"
   ]
  },
  {
   "cell_type": "code",
   "execution_count": 16,
   "metadata": {
    "execution": {
     "iopub.execute_input": "2021-03-13T18:14:47.925836Z",
     "iopub.status.busy": "2021-03-13T18:14:47.924717Z",
     "iopub.status.idle": "2021-03-13T18:14:47.926515Z",
     "shell.execute_reply": "2021-03-13T18:14:47.926956Z"
    }
   },
   "outputs": [],
   "source": [
    "today = datetime.now(tz).date()"
   ]
  },
  {
   "cell_type": "code",
   "execution_count": 17,
   "metadata": {
    "execution": {
     "iopub.execute_input": "2021-03-13T18:14:47.931063Z",
     "iopub.status.busy": "2021-03-13T18:14:47.929932Z",
     "iopub.status.idle": "2021-03-13T18:14:47.931699Z",
     "shell.execute_reply": "2021-03-13T18:14:47.932107Z"
    }
   },
   "outputs": [],
   "source": [
    "data_dir = os.path.join(os.path.abspath(\"\"), \"data\")"
   ]
  },
  {
   "cell_type": "code",
   "execution_count": 18,
   "metadata": {
    "execution": {
     "iopub.execute_input": "2021-03-13T18:14:47.936442Z",
     "iopub.status.busy": "2021-03-13T18:14:47.935266Z",
     "iopub.status.idle": "2021-03-13T18:14:47.939363Z",
     "shell.execute_reply": "2021-03-13T18:14:47.939746Z"
    }
   },
   "outputs": [],
   "source": [
    "df.to_csv(os.path.join(data_dir, f\"{today}.csv\"), index=False)"
   ]
  },
  {
   "cell_type": "code",
   "execution_count": null,
   "metadata": {},
   "outputs": [],
   "source": []
  }
 ],
 "metadata": {
  "kernelspec": {
   "display_name": "Python 3",
   "language": "python",
   "name": "python3"
  },
  "language_info": {
   "codemirror_mode": {
    "name": "ipython",
    "version": 3
   },
   "file_extension": ".py",
   "mimetype": "text/x-python",
   "name": "python",
   "nbconvert_exporter": "python",
   "pygments_lexer": "ipython3",
   "version": "3.8.8"
  }
 },
 "nbformat": 4,
 "nbformat_minor": 4
}
