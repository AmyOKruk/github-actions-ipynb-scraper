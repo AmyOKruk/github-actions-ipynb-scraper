{
 "cells": [
  {
   "cell_type": "markdown",
   "metadata": {},
   "source": [
    "# California COVID vaccinations scrape"
   ]
  },
  {
   "cell_type": "markdown",
   "metadata": {},
   "source": [
    "By [Amy O'Kruk](https://twitter.com/amyokruk)"
   ]
  },
  {
   "cell_type": "markdown",
   "metadata": {},
   "source": [
    "Downloads data on vaccine doses administered by county and statewide from a Tableau-powered dashboard from the California Department of Public Health."
   ]
  },
  {
   "cell_type": "code",
   "execution_count": 1,
   "metadata": {
    "execution": {
     "iopub.execute_input": "2021-03-16T13:41:37.011396Z",
     "iopub.status.busy": "2021-03-16T13:41:37.010253Z",
     "iopub.status.idle": "2021-03-16T13:41:37.485555Z",
     "shell.execute_reply": "2021-03-16T13:41:37.484460Z"
    }
   },
   "outputs": [],
   "source": [
    "import pandas as pd\n",
    "import requests\n",
    "from bs4 import BeautifulSoup\n",
    "import json\n",
    "import re\n",
    "import time\n",
    "from time import gmtime, strftime \n",
    "import os\n",
    "import pytz\n",
    "from datetime import datetime"
   ]
  },
  {
   "cell_type": "markdown",
   "metadata": {},
   "source": [
    "Scrape the dashboard page"
   ]
  },
  {
   "cell_type": "code",
   "execution_count": 2,
   "metadata": {
    "execution": {
     "iopub.execute_input": "2021-03-16T13:41:37.493283Z",
     "iopub.status.busy": "2021-03-16T13:41:37.489791Z",
     "iopub.status.idle": "2021-03-16T13:41:37.821337Z",
     "shell.execute_reply": "2021-03-16T13:41:37.821832Z"
    }
   },
   "outputs": [],
   "source": [
    "url = \"https://public.tableau.com/interactive/views/COVID-19VaccineDashboardPublic/Vaccine?:embed=y&:showVizHome=n&:apiID=host0\"\n",
    "\n",
    "r = requests.get(url)\n",
    "soup = BeautifulSoup(r.text, \"html.parser\")"
   ]
  },
  {
   "cell_type": "code",
   "execution_count": 3,
   "metadata": {
    "execution": {
     "iopub.execute_input": "2021-03-16T13:41:37.827225Z",
     "iopub.status.busy": "2021-03-16T13:41:37.826662Z",
     "iopub.status.idle": "2021-03-16T13:41:37.830142Z",
     "shell.execute_reply": "2021-03-16T13:41:37.830635Z"
    }
   },
   "outputs": [],
   "source": [
    "tableauData = json.loads(soup.find(\"textarea\",{\"id\": \"tsConfigContainer\"}).text)"
   ]
  },
  {
   "cell_type": "markdown",
   "metadata": {},
   "source": [
    "Get the link to the Tableau data"
   ]
  },
  {
   "cell_type": "code",
   "execution_count": 4,
   "metadata": {
    "execution": {
     "iopub.execute_input": "2021-03-16T13:41:37.838084Z",
     "iopub.status.busy": "2021-03-16T13:41:37.837472Z",
     "iopub.status.idle": "2021-03-16T13:41:37.842666Z",
     "shell.execute_reply": "2021-03-16T13:41:37.842131Z"
    }
   },
   "outputs": [],
   "source": [
    "dataUrl = f'https://public.tableau.com{tableauData[\"vizql_root\"]}/bootstrapSession/sessions/{tableauData[\"sessionid\"]}'"
   ]
  },
  {
   "cell_type": "code",
   "execution_count": 5,
   "metadata": {
    "execution": {
     "iopub.execute_input": "2021-03-16T13:41:37.852131Z",
     "iopub.status.busy": "2021-03-16T13:41:37.851527Z",
     "iopub.status.idle": "2021-03-16T13:41:38.405674Z",
     "shell.execute_reply": "2021-03-16T13:41:38.405111Z"
    }
   },
   "outputs": [],
   "source": [
    "r = requests.post(dataUrl, data= {\n",
    "    \"sheet_id\": tableauData[\"sheetId\"],\n",
    "})\n",
    "\n",
    "dataReg = re.search('\\d+;({.*})\\d+;({.*})', r.text, re.MULTILINE)\n",
    "data1 = json.loads(dataReg.group(2))\n",
    "\n",
    "dataJson = data1[\"secondaryInfo\"][\"presModelMap\"][\"dataDictionary\"][\"presModelHolder\"][\"genDataDictionaryPresModel\"][\"dataSegments\"][\"0\"][\"dataColumns\"]"
   ]
  },
  {
   "cell_type": "markdown",
   "metadata": {},
   "source": [
    "Isolate what you want"
   ]
  },
  {
   "cell_type": "code",
   "execution_count": 6,
   "metadata": {
    "execution": {
     "iopub.execute_input": "2021-03-16T13:41:38.410291Z",
     "iopub.status.busy": "2021-03-16T13:41:38.409674Z",
     "iopub.status.idle": "2021-03-16T13:41:38.413754Z",
     "shell.execute_reply": "2021-03-16T13:41:38.413170Z"
    }
   },
   "outputs": [],
   "source": [
    "counties = dataJson[2]['dataValues'][:58]"
   ]
  },
  {
   "cell_type": "code",
   "execution_count": 7,
   "metadata": {
    "execution": {
     "iopub.execute_input": "2021-03-16T13:41:38.418409Z",
     "iopub.status.busy": "2021-03-16T13:41:38.417751Z",
     "iopub.status.idle": "2021-03-16T13:41:38.421440Z",
     "shell.execute_reply": "2021-03-16T13:41:38.422253Z"
    }
   },
   "outputs": [],
   "source": [
    "doses = dataJson[0]['dataValues'][3:61]"
   ]
  },
  {
   "cell_type": "markdown",
   "metadata": {},
   "source": [
    "Data formatting"
   ]
  },
  {
   "cell_type": "code",
   "execution_count": 8,
   "metadata": {
    "execution": {
     "iopub.execute_input": "2021-03-16T13:41:38.426854Z",
     "iopub.status.busy": "2021-03-16T13:41:38.426161Z",
     "iopub.status.idle": "2021-03-16T13:41:38.429924Z",
     "shell.execute_reply": "2021-03-16T13:41:38.430705Z"
    }
   },
   "outputs": [],
   "source": [
    "zipped = dict(zip(counties, doses))"
   ]
  },
  {
   "cell_type": "code",
   "execution_count": 9,
   "metadata": {
    "execution": {
     "iopub.execute_input": "2021-03-16T13:41:38.437390Z",
     "iopub.status.busy": "2021-03-16T13:41:38.436728Z",
     "iopub.status.idle": "2021-03-16T13:41:38.440881Z",
     "shell.execute_reply": "2021-03-16T13:41:38.440336Z"
    }
   },
   "outputs": [],
   "source": [
    "df = pd.Series(zipped).reset_index()"
   ]
  },
  {
   "cell_type": "code",
   "execution_count": 10,
   "metadata": {
    "execution": {
     "iopub.execute_input": "2021-03-16T13:41:38.445479Z",
     "iopub.status.busy": "2021-03-16T13:41:38.444855Z",
     "iopub.status.idle": "2021-03-16T13:41:38.448590Z",
     "shell.execute_reply": "2021-03-16T13:41:38.449482Z"
    }
   },
   "outputs": [],
   "source": [
    "df.columns = ['location','doses']"
   ]
  },
  {
   "cell_type": "markdown",
   "metadata": {},
   "source": [
    "Grab the overall California total"
   ]
  },
  {
   "cell_type": "code",
   "execution_count": 11,
   "metadata": {
    "execution": {
     "iopub.execute_input": "2021-03-16T13:41:38.453649Z",
     "iopub.status.busy": "2021-03-16T13:41:38.452996Z",
     "iopub.status.idle": "2021-03-16T13:41:38.457007Z",
     "shell.execute_reply": "2021-03-16T13:41:38.456474Z"
    }
   },
   "outputs": [],
   "source": [
    "add = {'location':'California','doses':dataJson[0]['dataValues'][2]}"
   ]
  },
  {
   "cell_type": "code",
   "execution_count": 12,
   "metadata": {
    "execution": {
     "iopub.execute_input": "2021-03-16T13:41:38.464707Z",
     "iopub.status.busy": "2021-03-16T13:41:38.464055Z",
     "iopub.status.idle": "2021-03-16T13:41:38.467609Z",
     "shell.execute_reply": "2021-03-16T13:41:38.468128Z"
    }
   },
   "outputs": [],
   "source": [
    "df = df.append(add, ignore_index=True)"
   ]
  },
  {
   "cell_type": "code",
   "execution_count": 13,
   "metadata": {
    "execution": {
     "iopub.execute_input": "2021-03-16T13:41:38.473477Z",
     "iopub.status.busy": "2021-03-16T13:41:38.472884Z",
     "iopub.status.idle": "2021-03-16T13:41:38.476464Z",
     "shell.execute_reply": "2021-03-16T13:41:38.476968Z"
    }
   },
   "outputs": [],
   "source": [
    "df = df.sort_values(by='location')"
   ]
  },
  {
   "cell_type": "code",
   "execution_count": 14,
   "metadata": {
    "execution": {
     "iopub.execute_input": "2021-03-16T13:41:38.484266Z",
     "iopub.status.busy": "2021-03-16T13:41:38.483641Z",
     "iopub.status.idle": "2021-03-16T13:41:38.487763Z",
     "shell.execute_reply": "2021-03-16T13:41:38.487203Z"
    }
   },
   "outputs": [],
   "source": [
    "df = df[df.location == 'California'].append(df[df.location != 'California']).reset_index(drop=True)"
   ]
  },
  {
   "cell_type": "code",
   "execution_count": null,
   "metadata": {},
   "outputs": [],
   "source": []
  },
  {
   "cell_type": "code",
   "execution_count": 15,
   "metadata": {
    "execution": {
     "iopub.execute_input": "2021-03-16T13:41:38.492654Z",
     "iopub.status.busy": "2021-03-16T13:41:38.491456Z",
     "iopub.status.idle": "2021-03-16T13:41:38.517003Z",
     "shell.execute_reply": "2021-03-16T13:41:38.516430Z"
    }
   },
   "outputs": [],
   "source": [
    "tz = pytz.timezone(\"America/New_York\")"
   ]
  },
  {
   "cell_type": "code",
   "execution_count": 16,
   "metadata": {
    "execution": {
     "iopub.execute_input": "2021-03-16T13:41:38.522019Z",
     "iopub.status.busy": "2021-03-16T13:41:38.521026Z",
     "iopub.status.idle": "2021-03-16T13:41:38.525468Z",
     "shell.execute_reply": "2021-03-16T13:41:38.524909Z"
    }
   },
   "outputs": [],
   "source": [
    "today = datetime.now(tz).date()"
   ]
  },
  {
   "cell_type": "code",
   "execution_count": 17,
   "metadata": {
    "execution": {
     "iopub.execute_input": "2021-03-16T13:41:38.530591Z",
     "iopub.status.busy": "2021-03-16T13:41:38.529976Z",
     "iopub.status.idle": "2021-03-16T13:41:38.533743Z",
     "shell.execute_reply": "2021-03-16T13:41:38.533222Z"
    }
   },
   "outputs": [],
   "source": [
    "data_dir = os.path.join(os.path.abspath(\"\"), \"data\")"
   ]
  },
  {
   "cell_type": "code",
   "execution_count": 18,
   "metadata": {
    "execution": {
     "iopub.execute_input": "2021-03-16T13:41:38.538123Z",
     "iopub.status.busy": "2021-03-16T13:41:38.537498Z",
     "iopub.status.idle": "2021-03-16T13:41:38.544887Z",
     "shell.execute_reply": "2021-03-16T13:41:38.544350Z"
    }
   },
   "outputs": [],
   "source": [
    "df.to_csv(os.path.join(data_dir, f\"{today}.csv\"), index=False)"
   ]
  },
  {
   "cell_type": "code",
   "execution_count": null,
   "metadata": {},
   "outputs": [],
   "source": []
  }
 ],
 "metadata": {
  "kernelspec": {
   "display_name": "Python 3",
   "language": "python",
   "name": "python3"
  },
  "language_info": {
   "codemirror_mode": {
    "name": "ipython",
    "version": 3
   },
   "file_extension": ".py",
   "mimetype": "text/x-python",
   "name": "python",
   "nbconvert_exporter": "python",
   "pygments_lexer": "ipython3",
   "version": "3.8.8"
  }
 },
 "nbformat": 4,
 "nbformat_minor": 4
}
