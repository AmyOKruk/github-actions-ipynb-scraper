{
 "cells": [
  {
   "cell_type": "markdown",
   "metadata": {},
   "source": [
    "# California COVID vaccinations scrape"
   ]
  },
  {
   "cell_type": "markdown",
   "metadata": {},
   "source": [
    "By [Amy O'Kruk](https://twitter.com/amyokruk)"
   ]
  },
  {
   "cell_type": "markdown",
   "metadata": {},
   "source": [
    "Downloads data on vaccine doses administered by county and statewide from a Tableau-powered dashboard from the California Department of Public Health."
   ]
  },
  {
   "cell_type": "code",
   "execution_count": 1,
   "metadata": {
    "execution": {
     "iopub.execute_input": "2021-03-21T03:44:41.647779Z",
     "iopub.status.busy": "2021-03-21T03:44:41.647271Z",
     "iopub.status.idle": "2021-03-21T03:44:41.999486Z",
     "shell.execute_reply": "2021-03-21T03:44:41.998566Z"
    }
   },
   "outputs": [],
   "source": [
    "import pandas as pd\n",
    "import requests\n",
    "from bs4 import BeautifulSoup\n",
    "import json\n",
    "import re\n",
    "import time\n",
    "from time import gmtime, strftime \n",
    "import os\n",
    "import pytz\n",
    "from datetime import datetime"
   ]
  },
  {
   "cell_type": "markdown",
   "metadata": {},
   "source": [
    "Scrape the dashboard page"
   ]
  },
  {
   "cell_type": "code",
   "execution_count": 2,
   "metadata": {
    "execution": {
     "iopub.execute_input": "2021-03-21T03:44:42.003518Z",
     "iopub.status.busy": "2021-03-21T03:44:42.003003Z",
     "iopub.status.idle": "2021-03-21T03:44:42.221185Z",
     "shell.execute_reply": "2021-03-21T03:44:42.220237Z"
    }
   },
   "outputs": [],
   "source": [
    "url = \"https://public.tableau.com/interactive/views/COVID-19VaccineDashboardPublic/Vaccine?:embed=y&:showVizHome=n&:apiID=host0\"\n",
    "\n",
    "r = requests.get(url)\n",
    "soup = BeautifulSoup(r.text, \"html.parser\")"
   ]
  },
  {
   "cell_type": "code",
   "execution_count": 3,
   "metadata": {
    "execution": {
     "iopub.execute_input": "2021-03-21T03:44:42.225860Z",
     "iopub.status.busy": "2021-03-21T03:44:42.225334Z",
     "iopub.status.idle": "2021-03-21T03:44:42.228727Z",
     "shell.execute_reply": "2021-03-21T03:44:42.228247Z"
    }
   },
   "outputs": [],
   "source": [
    "tableauData = json.loads(soup.find(\"textarea\",{\"id\": \"tsConfigContainer\"}).text)"
   ]
  },
  {
   "cell_type": "markdown",
   "metadata": {},
   "source": [
    "Get the link to the Tableau data"
   ]
  },
  {
   "cell_type": "code",
   "execution_count": 4,
   "metadata": {
    "execution": {
     "iopub.execute_input": "2021-03-21T03:44:42.231860Z",
     "iopub.status.busy": "2021-03-21T03:44:42.231426Z",
     "iopub.status.idle": "2021-03-21T03:44:42.234799Z",
     "shell.execute_reply": "2021-03-21T03:44:42.234415Z"
    }
   },
   "outputs": [],
   "source": [
    "dataUrl = f'https://public.tableau.com{tableauData[\"vizql_root\"]}/bootstrapSession/sessions/{tableauData[\"sessionid\"]}'"
   ]
  },
  {
   "cell_type": "code",
   "execution_count": 5,
   "metadata": {
    "execution": {
     "iopub.execute_input": "2021-03-21T03:44:42.240691Z",
     "iopub.status.busy": "2021-03-21T03:44:42.240237Z",
     "iopub.status.idle": "2021-03-21T03:44:42.415484Z",
     "shell.execute_reply": "2021-03-21T03:44:42.415053Z"
    }
   },
   "outputs": [],
   "source": [
    "r = requests.post(dataUrl, data= {\n",
    "    \"sheet_id\": tableauData[\"sheetId\"],\n",
    "})\n",
    "\n",
    "dataReg = re.search('\\d+;({.*})\\d+;({.*})', r.text, re.MULTILINE)\n",
    "data1 = json.loads(dataReg.group(2))\n",
    "\n",
    "dataJson = data1[\"secondaryInfo\"][\"presModelMap\"][\"dataDictionary\"][\"presModelHolder\"][\"genDataDictionaryPresModel\"][\"dataSegments\"][\"0\"][\"dataColumns\"]"
   ]
  },
  {
   "cell_type": "markdown",
   "metadata": {},
   "source": [
    "Isolate what you want"
   ]
  },
  {
   "cell_type": "code",
   "execution_count": 6,
   "metadata": {
    "execution": {
     "iopub.execute_input": "2021-03-21T03:44:42.419238Z",
     "iopub.status.busy": "2021-03-21T03:44:42.418759Z",
     "iopub.status.idle": "2021-03-21T03:44:42.422026Z",
     "shell.execute_reply": "2021-03-21T03:44:42.421659Z"
    }
   },
   "outputs": [],
   "source": [
    "counties = dataJson[2]['dataValues'][:58]"
   ]
  },
  {
   "cell_type": "code",
   "execution_count": 7,
   "metadata": {
    "execution": {
     "iopub.execute_input": "2021-03-21T03:44:42.425472Z",
     "iopub.status.busy": "2021-03-21T03:44:42.425021Z",
     "iopub.status.idle": "2021-03-21T03:44:42.428156Z",
     "shell.execute_reply": "2021-03-21T03:44:42.427736Z"
    }
   },
   "outputs": [],
   "source": [
    "doses = dataJson[0]['dataValues'][3:61]"
   ]
  },
  {
   "cell_type": "markdown",
   "metadata": {},
   "source": [
    "Data formatting"
   ]
  },
  {
   "cell_type": "code",
   "execution_count": 8,
   "metadata": {
    "execution": {
     "iopub.execute_input": "2021-03-21T03:44:42.431569Z",
     "iopub.status.busy": "2021-03-21T03:44:42.431054Z",
     "iopub.status.idle": "2021-03-21T03:44:42.434793Z",
     "shell.execute_reply": "2021-03-21T03:44:42.434398Z"
    }
   },
   "outputs": [],
   "source": [
    "zipped = dict(zip(counties, doses))"
   ]
  },
  {
   "cell_type": "code",
   "execution_count": 9,
   "metadata": {
    "execution": {
     "iopub.execute_input": "2021-03-21T03:44:42.439774Z",
     "iopub.status.busy": "2021-03-21T03:44:42.439274Z",
     "iopub.status.idle": "2021-03-21T03:44:42.442753Z",
     "shell.execute_reply": "2021-03-21T03:44:42.442323Z"
    }
   },
   "outputs": [],
   "source": [
    "df = pd.Series(zipped).reset_index()"
   ]
  },
  {
   "cell_type": "code",
   "execution_count": 10,
   "metadata": {
    "execution": {
     "iopub.execute_input": "2021-03-21T03:44:42.445853Z",
     "iopub.status.busy": "2021-03-21T03:44:42.445444Z",
     "iopub.status.idle": "2021-03-21T03:44:42.448427Z",
     "shell.execute_reply": "2021-03-21T03:44:42.448068Z"
    }
   },
   "outputs": [],
   "source": [
    "df.columns = ['location','doses']"
   ]
  },
  {
   "cell_type": "markdown",
   "metadata": {},
   "source": [
    "Grab the overall California total"
   ]
  },
  {
   "cell_type": "code",
   "execution_count": 11,
   "metadata": {
    "execution": {
     "iopub.execute_input": "2021-03-21T03:44:42.451129Z",
     "iopub.status.busy": "2021-03-21T03:44:42.450723Z",
     "iopub.status.idle": "2021-03-21T03:44:42.453674Z",
     "shell.execute_reply": "2021-03-21T03:44:42.453329Z"
    }
   },
   "outputs": [],
   "source": [
    "add = {'location':'California','doses':dataJson[0]['dataValues'][2]}"
   ]
  },
  {
   "cell_type": "code",
   "execution_count": 12,
   "metadata": {
    "execution": {
     "iopub.execute_input": "2021-03-21T03:44:42.459201Z",
     "iopub.status.busy": "2021-03-21T03:44:42.458727Z",
     "iopub.status.idle": "2021-03-21T03:44:42.461817Z",
     "shell.execute_reply": "2021-03-21T03:44:42.461456Z"
    }
   },
   "outputs": [],
   "source": [
    "df = df.append(add, ignore_index=True)"
   ]
  },
  {
   "cell_type": "code",
   "execution_count": 13,
   "metadata": {
    "execution": {
     "iopub.execute_input": "2021-03-21T03:44:42.465142Z",
     "iopub.status.busy": "2021-03-21T03:44:42.464699Z",
     "iopub.status.idle": "2021-03-21T03:44:42.467266Z",
     "shell.execute_reply": "2021-03-21T03:44:42.467633Z"
    }
   },
   "outputs": [],
   "source": [
    "df = df.sort_values(by='location')"
   ]
  },
  {
   "cell_type": "code",
   "execution_count": 14,
   "metadata": {
    "execution": {
     "iopub.execute_input": "2021-03-21T03:44:42.472942Z",
     "iopub.status.busy": "2021-03-21T03:44:42.472407Z",
     "iopub.status.idle": "2021-03-21T03:44:42.475688Z",
     "shell.execute_reply": "2021-03-21T03:44:42.475296Z"
    }
   },
   "outputs": [],
   "source": [
    "df = df[df.location == 'California'].append(df[df.location != 'California']).reset_index(drop=True)"
   ]
  },
  {
   "cell_type": "code",
   "execution_count": null,
   "metadata": {},
   "outputs": [],
   "source": []
  },
  {
   "cell_type": "code",
   "execution_count": 15,
   "metadata": {
    "execution": {
     "iopub.execute_input": "2021-03-21T03:44:42.478626Z",
     "iopub.status.busy": "2021-03-21T03:44:42.478156Z",
     "iopub.status.idle": "2021-03-21T03:44:42.494229Z",
     "shell.execute_reply": "2021-03-21T03:44:42.493833Z"
    }
   },
   "outputs": [],
   "source": [
    "tz = pytz.timezone(\"America/New_York\")"
   ]
  },
  {
   "cell_type": "code",
   "execution_count": 16,
   "metadata": {
    "execution": {
     "iopub.execute_input": "2021-03-21T03:44:42.497869Z",
     "iopub.status.busy": "2021-03-21T03:44:42.496902Z",
     "iopub.status.idle": "2021-03-21T03:44:42.498480Z",
     "shell.execute_reply": "2021-03-21T03:44:42.498907Z"
    }
   },
   "outputs": [],
   "source": [
    "today = datetime.now(tz).date()"
   ]
  },
  {
   "cell_type": "code",
   "execution_count": 17,
   "metadata": {
    "execution": {
     "iopub.execute_input": "2021-03-21T03:44:42.502598Z",
     "iopub.status.busy": "2021-03-21T03:44:42.501747Z",
     "iopub.status.idle": "2021-03-21T03:44:42.503922Z",
     "shell.execute_reply": "2021-03-21T03:44:42.503510Z"
    }
   },
   "outputs": [],
   "source": [
    "data_dir = os.path.join(os.path.abspath(\"\"), \"data\")"
   ]
  },
  {
   "cell_type": "code",
   "execution_count": 18,
   "metadata": {
    "execution": {
     "iopub.execute_input": "2021-03-21T03:44:42.507308Z",
     "iopub.status.busy": "2021-03-21T03:44:42.506658Z",
     "iopub.status.idle": "2021-03-21T03:44:42.510789Z",
     "shell.execute_reply": "2021-03-21T03:44:42.510375Z"
    }
   },
   "outputs": [],
   "source": [
    "df.to_csv(os.path.join(data_dir, f\"{today}.csv\"), index=False)"
   ]
  },
  {
   "cell_type": "code",
   "execution_count": null,
   "metadata": {},
   "outputs": [],
   "source": []
  }
 ],
 "metadata": {
  "kernelspec": {
   "display_name": "Python 3",
   "language": "python",
   "name": "python3"
  },
  "language_info": {
   "codemirror_mode": {
    "name": "ipython",
    "version": 3
   },
   "file_extension": ".py",
   "mimetype": "text/x-python",
   "name": "python",
   "nbconvert_exporter": "python",
   "pygments_lexer": "ipython3",
   "version": "3.8.8"
  }
 },
 "nbformat": 4,
 "nbformat_minor": 4
}
