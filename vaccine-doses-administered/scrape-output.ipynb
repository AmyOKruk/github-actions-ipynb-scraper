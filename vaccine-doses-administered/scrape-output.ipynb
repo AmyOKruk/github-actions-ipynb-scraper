{
 "cells": [
  {
   "cell_type": "markdown",
   "metadata": {},
   "source": [
    "# California COVID vaccinations scrape"
   ]
  },
  {
   "cell_type": "markdown",
   "metadata": {},
   "source": [
    "By [Amy O'Kruk](https://twitter.com/amyokruk)"
   ]
  },
  {
   "cell_type": "markdown",
   "metadata": {},
   "source": [
    "Downloads data on vaccine doses administered by county and statewide from a Tableau-powered dashboard from the California Department of Public Health."
   ]
  },
  {
   "cell_type": "code",
   "execution_count": 1,
   "metadata": {
    "execution": {
     "iopub.execute_input": "2021-03-09T23:43:43.321376Z",
     "iopub.status.busy": "2021-03-09T23:43:43.320890Z",
     "iopub.status.idle": "2021-03-09T23:43:43.679749Z",
     "shell.execute_reply": "2021-03-09T23:43:43.679252Z"
    }
   },
   "outputs": [],
   "source": [
    "import pandas as pd\n",
    "import requests\n",
    "from bs4 import BeautifulSoup\n",
    "import json\n",
    "import re\n",
    "import time\n",
    "from time import gmtime, strftime \n",
    "import os\n",
    "import pytz\n",
    "from datetime import datetime"
   ]
  },
  {
   "cell_type": "markdown",
   "metadata": {},
   "source": [
    "Scrape the dashboard page"
   ]
  },
  {
   "cell_type": "code",
   "execution_count": 2,
   "metadata": {
    "execution": {
     "iopub.execute_input": "2021-03-09T23:43:43.685112Z",
     "iopub.status.busy": "2021-03-09T23:43:43.682814Z",
     "iopub.status.idle": "2021-03-09T23:43:44.072183Z",
     "shell.execute_reply": "2021-03-09T23:43:44.072611Z"
    }
   },
   "outputs": [],
   "source": [
    "url = \"https://public.tableau.com/interactive/views/COVID-19VaccineDashboardPublic/Vaccine?:embed=y&:showVizHome=n&:apiID=host0\"\n",
    "\n",
    "r = requests.get(url)\n",
    "soup = BeautifulSoup(r.text, \"html.parser\")"
   ]
  },
  {
   "cell_type": "code",
   "execution_count": 3,
   "metadata": {
    "execution": {
     "iopub.execute_input": "2021-03-09T23:43:44.076967Z",
     "iopub.status.busy": "2021-03-09T23:43:44.076504Z",
     "iopub.status.idle": "2021-03-09T23:43:44.079531Z",
     "shell.execute_reply": "2021-03-09T23:43:44.079160Z"
    }
   },
   "outputs": [],
   "source": [
    "tableauData = json.loads(soup.find(\"textarea\",{\"id\": \"tsConfigContainer\"}).text)"
   ]
  },
  {
   "cell_type": "markdown",
   "metadata": {},
   "source": [
    "Get the link to the Tableau data"
   ]
  },
  {
   "cell_type": "code",
   "execution_count": 4,
   "metadata": {
    "execution": {
     "iopub.execute_input": "2021-03-09T23:43:44.083218Z",
     "iopub.status.busy": "2021-03-09T23:43:44.081959Z",
     "iopub.status.idle": "2021-03-09T23:43:44.083713Z",
     "shell.execute_reply": "2021-03-09T23:43:44.084069Z"
    }
   },
   "outputs": [],
   "source": [
    "dataUrl = f'https://public.tableau.com{tableauData[\"vizql_root\"]}/bootstrapSession/sessions/{tableauData[\"sessionid\"]}'"
   ]
  },
  {
   "cell_type": "code",
   "execution_count": 5,
   "metadata": {
    "execution": {
     "iopub.execute_input": "2021-03-09T23:43:44.089035Z",
     "iopub.status.busy": "2021-03-09T23:43:44.088624Z",
     "iopub.status.idle": "2021-03-09T23:43:44.417377Z",
     "shell.execute_reply": "2021-03-09T23:43:44.416971Z"
    }
   },
   "outputs": [],
   "source": [
    "r = requests.post(dataUrl, data= {\n",
    "    \"sheet_id\": tableauData[\"sheetId\"],\n",
    "})\n",
    "\n",
    "dataReg = re.search('\\d+;({.*})\\d+;({.*})', r.text, re.MULTILINE)\n",
    "data1 = json.loads(dataReg.group(2))\n",
    "\n",
    "dataJson = data1[\"secondaryInfo\"][\"presModelMap\"][\"dataDictionary\"][\"presModelHolder\"][\"genDataDictionaryPresModel\"][\"dataSegments\"][\"0\"][\"dataColumns\"]"
   ]
  },
  {
   "cell_type": "markdown",
   "metadata": {},
   "source": [
    "Isolate what you want"
   ]
  },
  {
   "cell_type": "code",
   "execution_count": 6,
   "metadata": {
    "execution": {
     "iopub.execute_input": "2021-03-09T23:43:44.420737Z",
     "iopub.status.busy": "2021-03-09T23:43:44.420346Z",
     "iopub.status.idle": "2021-03-09T23:43:44.423090Z",
     "shell.execute_reply": "2021-03-09T23:43:44.422735Z"
    }
   },
   "outputs": [],
   "source": [
    "counties = dataJson[2]['dataValues'][:58]"
   ]
  },
  {
   "cell_type": "code",
   "execution_count": 7,
   "metadata": {
    "execution": {
     "iopub.execute_input": "2021-03-09T23:43:44.425996Z",
     "iopub.status.busy": "2021-03-09T23:43:44.425613Z",
     "iopub.status.idle": "2021-03-09T23:43:44.428257Z",
     "shell.execute_reply": "2021-03-09T23:43:44.427882Z"
    }
   },
   "outputs": [],
   "source": [
    "doses = dataJson[0]['dataValues'][3:61]"
   ]
  },
  {
   "cell_type": "markdown",
   "metadata": {},
   "source": [
    "Data formatting"
   ]
  },
  {
   "cell_type": "code",
   "execution_count": 8,
   "metadata": {
    "execution": {
     "iopub.execute_input": "2021-03-09T23:43:44.430889Z",
     "iopub.status.busy": "2021-03-09T23:43:44.430501Z",
     "iopub.status.idle": "2021-03-09T23:43:44.433235Z",
     "shell.execute_reply": "2021-03-09T23:43:44.432886Z"
    }
   },
   "outputs": [],
   "source": [
    "zipped = dict(zip(counties, doses))"
   ]
  },
  {
   "cell_type": "code",
   "execution_count": 9,
   "metadata": {
    "execution": {
     "iopub.execute_input": "2021-03-09T23:43:44.437867Z",
     "iopub.status.busy": "2021-03-09T23:43:44.437478Z",
     "iopub.status.idle": "2021-03-09T23:43:44.440246Z",
     "shell.execute_reply": "2021-03-09T23:43:44.439904Z"
    }
   },
   "outputs": [],
   "source": [
    "df = pd.Series(zipped).reset_index()"
   ]
  },
  {
   "cell_type": "code",
   "execution_count": 10,
   "metadata": {
    "execution": {
     "iopub.execute_input": "2021-03-09T23:43:44.443001Z",
     "iopub.status.busy": "2021-03-09T23:43:44.442615Z",
     "iopub.status.idle": "2021-03-09T23:43:44.445394Z",
     "shell.execute_reply": "2021-03-09T23:43:44.444893Z"
    }
   },
   "outputs": [],
   "source": [
    "df.columns = ['location','doses']"
   ]
  },
  {
   "cell_type": "markdown",
   "metadata": {},
   "source": [
    "Grab the overall California total"
   ]
  },
  {
   "cell_type": "code",
   "execution_count": 11,
   "metadata": {
    "execution": {
     "iopub.execute_input": "2021-03-09T23:43:44.448161Z",
     "iopub.status.busy": "2021-03-09T23:43:44.447776Z",
     "iopub.status.idle": "2021-03-09T23:43:44.450584Z",
     "shell.execute_reply": "2021-03-09T23:43:44.450070Z"
    }
   },
   "outputs": [],
   "source": [
    "add = {'location':'California','doses':dataJson[0]['dataValues'][2]}"
   ]
  },
  {
   "cell_type": "code",
   "execution_count": 12,
   "metadata": {
    "execution": {
     "iopub.execute_input": "2021-03-09T23:43:44.455393Z",
     "iopub.status.busy": "2021-03-09T23:43:44.455008Z",
     "iopub.status.idle": "2021-03-09T23:43:44.458118Z",
     "shell.execute_reply": "2021-03-09T23:43:44.457552Z"
    }
   },
   "outputs": [],
   "source": [
    "df = df.append(add, ignore_index=True)"
   ]
  },
  {
   "cell_type": "code",
   "execution_count": 13,
   "metadata": {
    "execution": {
     "iopub.execute_input": "2021-03-09T23:43:44.461531Z",
     "iopub.status.busy": "2021-03-09T23:43:44.461144Z",
     "iopub.status.idle": "2021-03-09T23:43:44.463912Z",
     "shell.execute_reply": "2021-03-09T23:43:44.463571Z"
    }
   },
   "outputs": [],
   "source": [
    "df = df.sort_values(by='location')"
   ]
  },
  {
   "cell_type": "code",
   "execution_count": 14,
   "metadata": {
    "execution": {
     "iopub.execute_input": "2021-03-09T23:43:44.468373Z",
     "iopub.status.busy": "2021-03-09T23:43:44.467988Z",
     "iopub.status.idle": "2021-03-09T23:43:44.470420Z",
     "shell.execute_reply": "2021-03-09T23:43:44.470746Z"
    }
   },
   "outputs": [],
   "source": [
    "df = df[df.location == 'California'].append(df[df.location != 'California']).reset_index(drop=True)"
   ]
  },
  {
   "cell_type": "code",
   "execution_count": null,
   "metadata": {},
   "outputs": [],
   "source": []
  },
  {
   "cell_type": "code",
   "execution_count": 15,
   "metadata": {
    "execution": {
     "iopub.execute_input": "2021-03-09T23:43:44.473422Z",
     "iopub.status.busy": "2021-03-09T23:43:44.473036Z",
     "iopub.status.idle": "2021-03-09T23:43:44.487620Z",
     "shell.execute_reply": "2021-03-09T23:43:44.487277Z"
    }
   },
   "outputs": [],
   "source": [
    "tz = pytz.timezone(\"America/New_York\")"
   ]
  },
  {
   "cell_type": "code",
   "execution_count": 16,
   "metadata": {
    "execution": {
     "iopub.execute_input": "2021-03-09T23:43:44.490267Z",
     "iopub.status.busy": "2021-03-09T23:43:44.489860Z",
     "iopub.status.idle": "2021-03-09T23:43:44.492653Z",
     "shell.execute_reply": "2021-03-09T23:43:44.492300Z"
    }
   },
   "outputs": [],
   "source": [
    "today = datetime.now(tz).date()"
   ]
  },
  {
   "cell_type": "code",
   "execution_count": 17,
   "metadata": {
    "execution": {
     "iopub.execute_input": "2021-03-09T23:43:44.495487Z",
     "iopub.status.busy": "2021-03-09T23:43:44.495100Z",
     "iopub.status.idle": "2021-03-09T23:43:44.497821Z",
     "shell.execute_reply": "2021-03-09T23:43:44.497481Z"
    }
   },
   "outputs": [],
   "source": [
    "data_dir = os.path.join(os.path.abspath(\"\"), \"data\")"
   ]
  },
  {
   "cell_type": "code",
   "execution_count": 18,
   "metadata": {
    "execution": {
     "iopub.execute_input": "2021-03-09T23:43:44.502492Z",
     "iopub.status.busy": "2021-03-09T23:43:44.500489Z",
     "iopub.status.idle": "2021-03-09T23:43:44.505138Z",
     "shell.execute_reply": "2021-03-09T23:43:44.504799Z"
    }
   },
   "outputs": [],
   "source": [
    "df.to_csv(os.path.join(data_dir, f\"{today}.csv\"), index=False)"
   ]
  },
  {
   "cell_type": "code",
   "execution_count": null,
   "metadata": {},
   "outputs": [],
   "source": []
  }
 ],
 "metadata": {
  "kernelspec": {
   "display_name": "Python 3",
   "language": "python",
   "name": "python3"
  },
  "language_info": {
   "codemirror_mode": {
    "name": "ipython",
    "version": 3
   },
   "file_extension": ".py",
   "mimetype": "text/x-python",
   "name": "python",
   "nbconvert_exporter": "python",
   "pygments_lexer": "ipython3",
   "version": "3.8.8"
  }
 },
 "nbformat": 4,
 "nbformat_minor": 4
}
