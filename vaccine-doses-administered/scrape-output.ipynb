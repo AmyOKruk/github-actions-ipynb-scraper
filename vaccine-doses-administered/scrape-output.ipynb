{
 "cells": [
  {
   "cell_type": "markdown",
   "metadata": {},
   "source": [
    "# California COVID vaccinations scrape"
   ]
  },
  {
   "cell_type": "markdown",
   "metadata": {},
   "source": [
    "By [Amy O'Kruk](https://twitter.com/amyokruk)"
   ]
  },
  {
   "cell_type": "markdown",
   "metadata": {},
   "source": [
    "Downloads data on vaccine doses administered by county and statewide from a Tableau-powered dashboard from the California Department of Public Health."
   ]
  },
  {
   "cell_type": "code",
   "execution_count": 1,
   "metadata": {
    "execution": {
     "iopub.execute_input": "2021-03-17T22:13:50.575832Z",
     "iopub.status.busy": "2021-03-17T22:13:50.574878Z",
     "iopub.status.idle": "2021-03-17T22:13:51.048673Z",
     "shell.execute_reply": "2021-03-17T22:13:51.048145Z"
    }
   },
   "outputs": [],
   "source": [
    "import pandas as pd\n",
    "import requests\n",
    "from bs4 import BeautifulSoup\n",
    "import json\n",
    "import re\n",
    "import time\n",
    "from time import gmtime, strftime \n",
    "import os\n",
    "import pytz\n",
    "from datetime import datetime"
   ]
  },
  {
   "cell_type": "markdown",
   "metadata": {},
   "source": [
    "Scrape the dashboard page"
   ]
  },
  {
   "cell_type": "code",
   "execution_count": 2,
   "metadata": {
    "execution": {
     "iopub.execute_input": "2021-03-17T22:13:51.054387Z",
     "iopub.status.busy": "2021-03-17T22:13:51.052260Z",
     "iopub.status.idle": "2021-03-17T22:13:51.975403Z",
     "shell.execute_reply": "2021-03-17T22:13:51.974417Z"
    }
   },
   "outputs": [],
   "source": [
    "url = \"https://public.tableau.com/interactive/views/COVID-19VaccineDashboardPublic/Vaccine?:embed=y&:showVizHome=n&:apiID=host0\"\n",
    "\n",
    "r = requests.get(url)\n",
    "soup = BeautifulSoup(r.text, \"html.parser\")"
   ]
  },
  {
   "cell_type": "code",
   "execution_count": 3,
   "metadata": {
    "execution": {
     "iopub.execute_input": "2021-03-17T22:13:51.980460Z",
     "iopub.status.busy": "2021-03-17T22:13:51.979940Z",
     "iopub.status.idle": "2021-03-17T22:13:51.985354Z",
     "shell.execute_reply": "2021-03-17T22:13:51.985756Z"
    }
   },
   "outputs": [],
   "source": [
    "tableauData = json.loads(soup.find(\"textarea\",{\"id\": \"tsConfigContainer\"}).text)"
   ]
  },
  {
   "cell_type": "markdown",
   "metadata": {},
   "source": [
    "Get the link to the Tableau data"
   ]
  },
  {
   "cell_type": "code",
   "execution_count": 4,
   "metadata": {
    "execution": {
     "iopub.execute_input": "2021-03-17T22:13:51.989240Z",
     "iopub.status.busy": "2021-03-17T22:13:51.988726Z",
     "iopub.status.idle": "2021-03-17T22:13:51.992051Z",
     "shell.execute_reply": "2021-03-17T22:13:51.991618Z"
    }
   },
   "outputs": [],
   "source": [
    "dataUrl = f'https://public.tableau.com{tableauData[\"vizql_root\"]}/bootstrapSession/sessions/{tableauData[\"sessionid\"]}'"
   ]
  },
  {
   "cell_type": "code",
   "execution_count": 5,
   "metadata": {
    "execution": {
     "iopub.execute_input": "2021-03-17T22:13:51.998108Z",
     "iopub.status.busy": "2021-03-17T22:13:51.997602Z",
     "iopub.status.idle": "2021-03-17T22:13:52.330218Z",
     "shell.execute_reply": "2021-03-17T22:13:52.329506Z"
    }
   },
   "outputs": [],
   "source": [
    "r = requests.post(dataUrl, data= {\n",
    "    \"sheet_id\": tableauData[\"sheetId\"],\n",
    "})\n",
    "\n",
    "dataReg = re.search('\\d+;({.*})\\d+;({.*})', r.text, re.MULTILINE)\n",
    "data1 = json.loads(dataReg.group(2))\n",
    "\n",
    "dataJson = data1[\"secondaryInfo\"][\"presModelMap\"][\"dataDictionary\"][\"presModelHolder\"][\"genDataDictionaryPresModel\"][\"dataSegments\"][\"0\"][\"dataColumns\"]"
   ]
  },
  {
   "cell_type": "markdown",
   "metadata": {},
   "source": [
    "Isolate what you want"
   ]
  },
  {
   "cell_type": "code",
   "execution_count": 6,
   "metadata": {
    "execution": {
     "iopub.execute_input": "2021-03-17T22:13:52.334563Z",
     "iopub.status.busy": "2021-03-17T22:13:52.334030Z",
     "iopub.status.idle": "2021-03-17T22:13:52.341714Z",
     "shell.execute_reply": "2021-03-17T22:13:52.342099Z"
    }
   },
   "outputs": [],
   "source": [
    "counties = dataJson[2]['dataValues'][:58]"
   ]
  },
  {
   "cell_type": "code",
   "execution_count": 7,
   "metadata": {
    "execution": {
     "iopub.execute_input": "2021-03-17T22:13:52.346403Z",
     "iopub.status.busy": "2021-03-17T22:13:52.345565Z",
     "iopub.status.idle": "2021-03-17T22:13:52.347700Z",
     "shell.execute_reply": "2021-03-17T22:13:52.347279Z"
    }
   },
   "outputs": [],
   "source": [
    "doses = dataJson[0]['dataValues'][3:61]"
   ]
  },
  {
   "cell_type": "markdown",
   "metadata": {},
   "source": [
    "Data formatting"
   ]
  },
  {
   "cell_type": "code",
   "execution_count": 8,
   "metadata": {
    "execution": {
     "iopub.execute_input": "2021-03-17T22:13:52.351171Z",
     "iopub.status.busy": "2021-03-17T22:13:52.350612Z",
     "iopub.status.idle": "2021-03-17T22:13:52.352171Z",
     "shell.execute_reply": "2021-03-17T22:13:52.352627Z"
    }
   },
   "outputs": [],
   "source": [
    "zipped = dict(zip(counties, doses))"
   ]
  },
  {
   "cell_type": "code",
   "execution_count": 9,
   "metadata": {
    "execution": {
     "iopub.execute_input": "2021-03-17T22:13:52.358195Z",
     "iopub.status.busy": "2021-03-17T22:13:52.357700Z",
     "iopub.status.idle": "2021-03-17T22:13:52.359614Z",
     "shell.execute_reply": "2021-03-17T22:13:52.359193Z"
    }
   },
   "outputs": [],
   "source": [
    "df = pd.Series(zipped).reset_index()"
   ]
  },
  {
   "cell_type": "code",
   "execution_count": 10,
   "metadata": {
    "execution": {
     "iopub.execute_input": "2021-03-17T22:13:52.362837Z",
     "iopub.status.busy": "2021-03-17T22:13:52.362349Z",
     "iopub.status.idle": "2021-03-17T22:13:52.364486Z",
     "shell.execute_reply": "2021-03-17T22:13:52.364096Z"
    }
   },
   "outputs": [],
   "source": [
    "df.columns = ['location','doses']"
   ]
  },
  {
   "cell_type": "markdown",
   "metadata": {},
   "source": [
    "Grab the overall California total"
   ]
  },
  {
   "cell_type": "code",
   "execution_count": 11,
   "metadata": {
    "execution": {
     "iopub.execute_input": "2021-03-17T22:13:52.367776Z",
     "iopub.status.busy": "2021-03-17T22:13:52.367298Z",
     "iopub.status.idle": "2021-03-17T22:13:52.369938Z",
     "shell.execute_reply": "2021-03-17T22:13:52.369004Z"
    }
   },
   "outputs": [],
   "source": [
    "add = {'location':'California','doses':dataJson[0]['dataValues'][2]}"
   ]
  },
  {
   "cell_type": "code",
   "execution_count": 12,
   "metadata": {
    "execution": {
     "iopub.execute_input": "2021-03-17T22:13:52.381937Z",
     "iopub.status.busy": "2021-03-17T22:13:52.375726Z",
     "iopub.status.idle": "2021-03-17T22:13:52.382921Z",
     "shell.execute_reply": "2021-03-17T22:13:52.382461Z"
    }
   },
   "outputs": [],
   "source": [
    "df = df.append(add, ignore_index=True)"
   ]
  },
  {
   "cell_type": "code",
   "execution_count": 13,
   "metadata": {
    "execution": {
     "iopub.execute_input": "2021-03-17T22:13:52.387982Z",
     "iopub.status.busy": "2021-03-17T22:13:52.386787Z",
     "iopub.status.idle": "2021-03-17T22:13:52.388612Z",
     "shell.execute_reply": "2021-03-17T22:13:52.389038Z"
    }
   },
   "outputs": [],
   "source": [
    "df = df.sort_values(by='location')"
   ]
  },
  {
   "cell_type": "code",
   "execution_count": 14,
   "metadata": {
    "execution": {
     "iopub.execute_input": "2021-03-17T22:13:52.395284Z",
     "iopub.status.busy": "2021-03-17T22:13:52.394194Z",
     "iopub.status.idle": "2021-03-17T22:13:52.395941Z",
     "shell.execute_reply": "2021-03-17T22:13:52.396364Z"
    }
   },
   "outputs": [],
   "source": [
    "df = df[df.location == 'California'].append(df[df.location != 'California']).reset_index(drop=True)"
   ]
  },
  {
   "cell_type": "code",
   "execution_count": null,
   "metadata": {},
   "outputs": [],
   "source": []
  },
  {
   "cell_type": "code",
   "execution_count": 15,
   "metadata": {
    "execution": {
     "iopub.execute_input": "2021-03-17T22:13:52.399448Z",
     "iopub.status.busy": "2021-03-17T22:13:52.398926Z",
     "iopub.status.idle": "2021-03-17T22:13:52.416007Z",
     "shell.execute_reply": "2021-03-17T22:13:52.416593Z"
    }
   },
   "outputs": [],
   "source": [
    "tz = pytz.timezone(\"America/New_York\")"
   ]
  },
  {
   "cell_type": "code",
   "execution_count": 16,
   "metadata": {
    "execution": {
     "iopub.execute_input": "2021-03-17T22:13:52.420570Z",
     "iopub.status.busy": "2021-03-17T22:13:52.419634Z",
     "iopub.status.idle": "2021-03-17T22:13:52.421726Z",
     "shell.execute_reply": "2021-03-17T22:13:52.421291Z"
    }
   },
   "outputs": [],
   "source": [
    "today = datetime.now(tz).date()"
   ]
  },
  {
   "cell_type": "code",
   "execution_count": 17,
   "metadata": {
    "execution": {
     "iopub.execute_input": "2021-03-17T22:13:52.425636Z",
     "iopub.status.busy": "2021-03-17T22:13:52.424787Z",
     "iopub.status.idle": "2021-03-17T22:13:52.426549Z",
     "shell.execute_reply": "2021-03-17T22:13:52.427010Z"
    }
   },
   "outputs": [],
   "source": [
    "data_dir = os.path.join(os.path.abspath(\"\"), \"data\")"
   ]
  },
  {
   "cell_type": "code",
   "execution_count": 18,
   "metadata": {
    "execution": {
     "iopub.execute_input": "2021-03-17T22:13:52.431989Z",
     "iopub.status.busy": "2021-03-17T22:13:52.430005Z",
     "iopub.status.idle": "2021-03-17T22:13:52.484101Z",
     "shell.execute_reply": "2021-03-17T22:13:52.483314Z"
    }
   },
   "outputs": [],
   "source": [
    "df.to_csv(os.path.join(data_dir, f\"{today}.csv\"), index=False)"
   ]
  },
  {
   "cell_type": "code",
   "execution_count": null,
   "metadata": {},
   "outputs": [],
   "source": []
  }
 ],
 "metadata": {
  "kernelspec": {
   "display_name": "Python 3",
   "language": "python",
   "name": "python3"
  },
  "language_info": {
   "codemirror_mode": {
    "name": "ipython",
    "version": 3
   },
   "file_extension": ".py",
   "mimetype": "text/x-python",
   "name": "python",
   "nbconvert_exporter": "python",
   "pygments_lexer": "ipython3",
   "version": "3.8.8"
  }
 },
 "nbformat": 4,
 "nbformat_minor": 4
}
