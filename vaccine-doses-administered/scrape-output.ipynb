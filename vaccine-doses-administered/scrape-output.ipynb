{
 "cells": [
  {
   "cell_type": "markdown",
   "metadata": {},
   "source": [
    "# California COVID vaccinations scrape"
   ]
  },
  {
   "cell_type": "markdown",
   "metadata": {},
   "source": [
    "By [Amy O'Kruk](https://twitter.com/amyokruk)"
   ]
  },
  {
   "cell_type": "markdown",
   "metadata": {},
   "source": [
    "Downloads data on vaccine doses administered by county and statewide from a Tableau-powered dashboard from the California Department of Public Health."
   ]
  },
  {
   "cell_type": "code",
   "execution_count": 1,
   "metadata": {
    "execution": {
     "iopub.execute_input": "2021-03-17T03:44:13.284422Z",
     "iopub.status.busy": "2021-03-17T03:44:13.283596Z",
     "iopub.status.idle": "2021-03-17T03:44:13.614000Z",
     "shell.execute_reply": "2021-03-17T03:44:13.612970Z"
    }
   },
   "outputs": [],
   "source": [
    "import pandas as pd\n",
    "import requests\n",
    "from bs4 import BeautifulSoup\n",
    "import json\n",
    "import re\n",
    "import time\n",
    "from time import gmtime, strftime \n",
    "import os\n",
    "import pytz\n",
    "from datetime import datetime"
   ]
  },
  {
   "cell_type": "markdown",
   "metadata": {},
   "source": [
    "Scrape the dashboard page"
   ]
  },
  {
   "cell_type": "code",
   "execution_count": 2,
   "metadata": {
    "execution": {
     "iopub.execute_input": "2021-03-17T03:44:13.618946Z",
     "iopub.status.busy": "2021-03-17T03:44:13.618078Z",
     "iopub.status.idle": "2021-03-17T03:44:14.196715Z",
     "shell.execute_reply": "2021-03-17T03:44:14.195355Z"
    }
   },
   "outputs": [],
   "source": [
    "url = \"https://public.tableau.com/interactive/views/COVID-19VaccineDashboardPublic/Vaccine?:embed=y&:showVizHome=n&:apiID=host0\"\n",
    "\n",
    "r = requests.get(url)\n",
    "soup = BeautifulSoup(r.text, \"html.parser\")"
   ]
  },
  {
   "cell_type": "code",
   "execution_count": 3,
   "metadata": {
    "execution": {
     "iopub.execute_input": "2021-03-17T03:44:14.200713Z",
     "iopub.status.busy": "2021-03-17T03:44:14.200328Z",
     "iopub.status.idle": "2021-03-17T03:44:14.203682Z",
     "shell.execute_reply": "2021-03-17T03:44:14.203285Z"
    }
   },
   "outputs": [],
   "source": [
    "tableauData = json.loads(soup.find(\"textarea\",{\"id\": \"tsConfigContainer\"}).text)"
   ]
  },
  {
   "cell_type": "markdown",
   "metadata": {},
   "source": [
    "Get the link to the Tableau data"
   ]
  },
  {
   "cell_type": "code",
   "execution_count": 4,
   "metadata": {
    "execution": {
     "iopub.execute_input": "2021-03-17T03:44:14.207354Z",
     "iopub.status.busy": "2021-03-17T03:44:14.206373Z",
     "iopub.status.idle": "2021-03-17T03:44:14.207950Z",
     "shell.execute_reply": "2021-03-17T03:44:14.208346Z"
    }
   },
   "outputs": [],
   "source": [
    "dataUrl = f'https://public.tableau.com{tableauData[\"vizql_root\"]}/bootstrapSession/sessions/{tableauData[\"sessionid\"]}'"
   ]
  },
  {
   "cell_type": "code",
   "execution_count": 5,
   "metadata": {
    "execution": {
     "iopub.execute_input": "2021-03-17T03:44:14.214148Z",
     "iopub.status.busy": "2021-03-17T03:44:14.213665Z",
     "iopub.status.idle": "2021-03-17T03:44:14.701150Z",
     "shell.execute_reply": "2021-03-17T03:44:14.700309Z"
    }
   },
   "outputs": [],
   "source": [
    "r = requests.post(dataUrl, data= {\n",
    "    \"sheet_id\": tableauData[\"sheetId\"],\n",
    "})\n",
    "\n",
    "dataReg = re.search('\\d+;({.*})\\d+;({.*})', r.text, re.MULTILINE)\n",
    "data1 = json.loads(dataReg.group(2))\n",
    "\n",
    "dataJson = data1[\"secondaryInfo\"][\"presModelMap\"][\"dataDictionary\"][\"presModelHolder\"][\"genDataDictionaryPresModel\"][\"dataSegments\"][\"0\"][\"dataColumns\"]"
   ]
  },
  {
   "cell_type": "markdown",
   "metadata": {},
   "source": [
    "Isolate what you want"
   ]
  },
  {
   "cell_type": "code",
   "execution_count": 6,
   "metadata": {
    "execution": {
     "iopub.execute_input": "2021-03-17T03:44:14.706410Z",
     "iopub.status.busy": "2021-03-17T03:44:14.705333Z",
     "iopub.status.idle": "2021-03-17T03:44:14.706949Z",
     "shell.execute_reply": "2021-03-17T03:44:14.707337Z"
    }
   },
   "outputs": [],
   "source": [
    "counties = dataJson[2]['dataValues'][:58]"
   ]
  },
  {
   "cell_type": "code",
   "execution_count": 7,
   "metadata": {
    "execution": {
     "iopub.execute_input": "2021-03-17T03:44:14.711100Z",
     "iopub.status.busy": "2021-03-17T03:44:14.710246Z",
     "iopub.status.idle": "2021-03-17T03:44:14.711938Z",
     "shell.execute_reply": "2021-03-17T03:44:14.712338Z"
    }
   },
   "outputs": [],
   "source": [
    "doses = dataJson[0]['dataValues'][3:61]"
   ]
  },
  {
   "cell_type": "markdown",
   "metadata": {},
   "source": [
    "Data formatting"
   ]
  },
  {
   "cell_type": "code",
   "execution_count": 8,
   "metadata": {
    "execution": {
     "iopub.execute_input": "2021-03-17T03:44:14.716044Z",
     "iopub.status.busy": "2021-03-17T03:44:14.715174Z",
     "iopub.status.idle": "2021-03-17T03:44:14.716767Z",
     "shell.execute_reply": "2021-03-17T03:44:14.717161Z"
    }
   },
   "outputs": [],
   "source": [
    "zipped = dict(zip(counties, doses))"
   ]
  },
  {
   "cell_type": "code",
   "execution_count": 9,
   "metadata": {
    "execution": {
     "iopub.execute_input": "2021-03-17T03:44:14.722891Z",
     "iopub.status.busy": "2021-03-17T03:44:14.722030Z",
     "iopub.status.idle": "2021-03-17T03:44:14.723728Z",
     "shell.execute_reply": "2021-03-17T03:44:14.724128Z"
    }
   },
   "outputs": [],
   "source": [
    "df = pd.Series(zipped).reset_index()"
   ]
  },
  {
   "cell_type": "code",
   "execution_count": 10,
   "metadata": {
    "execution": {
     "iopub.execute_input": "2021-03-17T03:44:14.728234Z",
     "iopub.status.busy": "2021-03-17T03:44:14.727124Z",
     "iopub.status.idle": "2021-03-17T03:44:14.728868Z",
     "shell.execute_reply": "2021-03-17T03:44:14.729261Z"
    }
   },
   "outputs": [],
   "source": [
    "df.columns = ['location','doses']"
   ]
  },
  {
   "cell_type": "markdown",
   "metadata": {},
   "source": [
    "Grab the overall California total"
   ]
  },
  {
   "cell_type": "code",
   "execution_count": 11,
   "metadata": {
    "execution": {
     "iopub.execute_input": "2021-03-17T03:44:14.733066Z",
     "iopub.status.busy": "2021-03-17T03:44:14.732171Z",
     "iopub.status.idle": "2021-03-17T03:44:14.733962Z",
     "shell.execute_reply": "2021-03-17T03:44:14.734400Z"
    }
   },
   "outputs": [],
   "source": [
    "add = {'location':'California','doses':dataJson[0]['dataValues'][2]}"
   ]
  },
  {
   "cell_type": "code",
   "execution_count": 12,
   "metadata": {
    "execution": {
     "iopub.execute_input": "2021-03-17T03:44:14.740854Z",
     "iopub.status.busy": "2021-03-17T03:44:14.739817Z",
     "iopub.status.idle": "2021-03-17T03:44:14.741406Z",
     "shell.execute_reply": "2021-03-17T03:44:14.741831Z"
    }
   },
   "outputs": [],
   "source": [
    "df = df.append(add, ignore_index=True)"
   ]
  },
  {
   "cell_type": "code",
   "execution_count": 13,
   "metadata": {
    "execution": {
     "iopub.execute_input": "2021-03-17T03:44:14.746458Z",
     "iopub.status.busy": "2021-03-17T03:44:14.745321Z",
     "iopub.status.idle": "2021-03-17T03:44:14.747056Z",
     "shell.execute_reply": "2021-03-17T03:44:14.747467Z"
    }
   },
   "outputs": [],
   "source": [
    "df = df.sort_values(by='location')"
   ]
  },
  {
   "cell_type": "code",
   "execution_count": 14,
   "metadata": {
    "execution": {
     "iopub.execute_input": "2021-03-17T03:44:14.752687Z",
     "iopub.status.busy": "2021-03-17T03:44:14.752216Z",
     "iopub.status.idle": "2021-03-17T03:44:14.754133Z",
     "shell.execute_reply": "2021-03-17T03:44:14.754482Z"
    }
   },
   "outputs": [],
   "source": [
    "df = df[df.location == 'California'].append(df[df.location != 'California']).reset_index(drop=True)"
   ]
  },
  {
   "cell_type": "code",
   "execution_count": null,
   "metadata": {},
   "outputs": [],
   "source": []
  },
  {
   "cell_type": "code",
   "execution_count": 15,
   "metadata": {
    "execution": {
     "iopub.execute_input": "2021-03-17T03:44:14.757277Z",
     "iopub.status.busy": "2021-03-17T03:44:14.756807Z",
     "iopub.status.idle": "2021-03-17T03:44:14.773638Z",
     "shell.execute_reply": "2021-03-17T03:44:14.773201Z"
    }
   },
   "outputs": [],
   "source": [
    "tz = pytz.timezone(\"America/New_York\")"
   ]
  },
  {
   "cell_type": "code",
   "execution_count": 16,
   "metadata": {
    "execution": {
     "iopub.execute_input": "2021-03-17T03:44:14.777710Z",
     "iopub.status.busy": "2021-03-17T03:44:14.776528Z",
     "iopub.status.idle": "2021-03-17T03:44:14.778259Z",
     "shell.execute_reply": "2021-03-17T03:44:14.778657Z"
    }
   },
   "outputs": [],
   "source": [
    "today = datetime.now(tz).date()"
   ]
  },
  {
   "cell_type": "code",
   "execution_count": 17,
   "metadata": {
    "execution": {
     "iopub.execute_input": "2021-03-17T03:44:14.782692Z",
     "iopub.status.busy": "2021-03-17T03:44:14.781677Z",
     "iopub.status.idle": "2021-03-17T03:44:14.783178Z",
     "shell.execute_reply": "2021-03-17T03:44:14.783551Z"
    }
   },
   "outputs": [],
   "source": [
    "data_dir = os.path.join(os.path.abspath(\"\"), \"data\")"
   ]
  },
  {
   "cell_type": "code",
   "execution_count": 18,
   "metadata": {
    "execution": {
     "iopub.execute_input": "2021-03-17T03:44:14.786751Z",
     "iopub.status.busy": "2021-03-17T03:44:14.786339Z",
     "iopub.status.idle": "2021-03-17T03:44:14.790207Z",
     "shell.execute_reply": "2021-03-17T03:44:14.789785Z"
    }
   },
   "outputs": [],
   "source": [
    "df.to_csv(os.path.join(data_dir, f\"{today}.csv\"), index=False)"
   ]
  },
  {
   "cell_type": "code",
   "execution_count": null,
   "metadata": {},
   "outputs": [],
   "source": []
  }
 ],
 "metadata": {
  "kernelspec": {
   "display_name": "Python 3",
   "language": "python",
   "name": "python3"
  },
  "language_info": {
   "codemirror_mode": {
    "name": "ipython",
    "version": 3
   },
   "file_extension": ".py",
   "mimetype": "text/x-python",
   "name": "python",
   "nbconvert_exporter": "python",
   "pygments_lexer": "ipython3",
   "version": "3.8.8"
  }
 },
 "nbformat": 4,
 "nbformat_minor": 4
}
