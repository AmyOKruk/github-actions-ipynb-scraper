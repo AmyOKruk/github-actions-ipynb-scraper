{
 "cells": [
  {
   "cell_type": "markdown",
   "metadata": {},
   "source": [
    "# California COVID vaccinations scrape"
   ]
  },
  {
   "cell_type": "markdown",
   "metadata": {},
   "source": [
    "By [Amy O'Kruk](https://twitter.com/amyokruk)"
   ]
  },
  {
   "cell_type": "markdown",
   "metadata": {},
   "source": [
    "Downloads data on vaccine doses administered by county and statewide from a Tableau-powered dashboard from the California Department of Public Health."
   ]
  },
  {
   "cell_type": "code",
   "execution_count": 1,
   "metadata": {
    "execution": {
     "iopub.execute_input": "2021-03-16T09:11:18.924185Z",
     "iopub.status.busy": "2021-03-16T09:11:18.923438Z",
     "iopub.status.idle": "2021-03-16T09:11:19.305958Z",
     "shell.execute_reply": "2021-03-16T09:11:19.306594Z"
    }
   },
   "outputs": [],
   "source": [
    "import pandas as pd\n",
    "import requests\n",
    "from bs4 import BeautifulSoup\n",
    "import json\n",
    "import re\n",
    "import time\n",
    "from time import gmtime, strftime \n",
    "import os\n",
    "import pytz\n",
    "from datetime import datetime"
   ]
  },
  {
   "cell_type": "markdown",
   "metadata": {},
   "source": [
    "Scrape the dashboard page"
   ]
  },
  {
   "cell_type": "code",
   "execution_count": 2,
   "metadata": {
    "execution": {
     "iopub.execute_input": "2021-03-16T09:11:19.312037Z",
     "iopub.status.busy": "2021-03-16T09:11:19.309838Z",
     "iopub.status.idle": "2021-03-16T09:11:19.621982Z",
     "shell.execute_reply": "2021-03-16T09:11:19.621550Z"
    }
   },
   "outputs": [],
   "source": [
    "url = \"https://public.tableau.com/interactive/views/COVID-19VaccineDashboardPublic/Vaccine?:embed=y&:showVizHome=n&:apiID=host0\"\n",
    "\n",
    "r = requests.get(url)\n",
    "soup = BeautifulSoup(r.text, \"html.parser\")"
   ]
  },
  {
   "cell_type": "code",
   "execution_count": 3,
   "metadata": {
    "execution": {
     "iopub.execute_input": "2021-03-16T09:11:19.625853Z",
     "iopub.status.busy": "2021-03-16T09:11:19.625379Z",
     "iopub.status.idle": "2021-03-16T09:11:19.630218Z",
     "shell.execute_reply": "2021-03-16T09:11:19.629745Z"
    }
   },
   "outputs": [],
   "source": [
    "tableauData = json.loads(soup.find(\"textarea\",{\"id\": \"tsConfigContainer\"}).text)"
   ]
  },
  {
   "cell_type": "markdown",
   "metadata": {},
   "source": [
    "Get the link to the Tableau data"
   ]
  },
  {
   "cell_type": "code",
   "execution_count": 4,
   "metadata": {
    "execution": {
     "iopub.execute_input": "2021-03-16T09:11:19.634341Z",
     "iopub.status.busy": "2021-03-16T09:11:19.633456Z",
     "iopub.status.idle": "2021-03-16T09:11:19.635575Z",
     "shell.execute_reply": "2021-03-16T09:11:19.635183Z"
    }
   },
   "outputs": [],
   "source": [
    "dataUrl = f'https://public.tableau.com{tableauData[\"vizql_root\"]}/bootstrapSession/sessions/{tableauData[\"sessionid\"]}'"
   ]
  },
  {
   "cell_type": "code",
   "execution_count": 5,
   "metadata": {
    "execution": {
     "iopub.execute_input": "2021-03-16T09:11:19.641351Z",
     "iopub.status.busy": "2021-03-16T09:11:19.640834Z",
     "iopub.status.idle": "2021-03-16T09:11:19.867255Z",
     "shell.execute_reply": "2021-03-16T09:11:19.867682Z"
    }
   },
   "outputs": [],
   "source": [
    "r = requests.post(dataUrl, data= {\n",
    "    \"sheet_id\": tableauData[\"sheetId\"],\n",
    "})\n",
    "\n",
    "dataReg = re.search('\\d+;({.*})\\d+;({.*})', r.text, re.MULTILINE)\n",
    "data1 = json.loads(dataReg.group(2))\n",
    "\n",
    "dataJson = data1[\"secondaryInfo\"][\"presModelMap\"][\"dataDictionary\"][\"presModelHolder\"][\"genDataDictionaryPresModel\"][\"dataSegments\"][\"0\"][\"dataColumns\"]"
   ]
  },
  {
   "cell_type": "markdown",
   "metadata": {},
   "source": [
    "Isolate what you want"
   ]
  },
  {
   "cell_type": "code",
   "execution_count": 6,
   "metadata": {
    "execution": {
     "iopub.execute_input": "2021-03-16T09:11:19.871214Z",
     "iopub.status.busy": "2021-03-16T09:11:19.870709Z",
     "iopub.status.idle": "2021-03-16T09:11:19.874206Z",
     "shell.execute_reply": "2021-03-16T09:11:19.873715Z"
    }
   },
   "outputs": [],
   "source": [
    "counties = dataJson[2]['dataValues'][:58]"
   ]
  },
  {
   "cell_type": "code",
   "execution_count": 7,
   "metadata": {
    "execution": {
     "iopub.execute_input": "2021-03-16T09:11:19.877789Z",
     "iopub.status.busy": "2021-03-16T09:11:19.877315Z",
     "iopub.status.idle": "2021-03-16T09:11:19.880478Z",
     "shell.execute_reply": "2021-03-16T09:11:19.880038Z"
    }
   },
   "outputs": [],
   "source": [
    "doses = dataJson[0]['dataValues'][3:61]"
   ]
  },
  {
   "cell_type": "markdown",
   "metadata": {},
   "source": [
    "Data formatting"
   ]
  },
  {
   "cell_type": "code",
   "execution_count": 8,
   "metadata": {
    "execution": {
     "iopub.execute_input": "2021-03-16T09:11:19.883696Z",
     "iopub.status.busy": "2021-03-16T09:11:19.883230Z",
     "iopub.status.idle": "2021-03-16T09:11:19.886402Z",
     "shell.execute_reply": "2021-03-16T09:11:19.886775Z"
    }
   },
   "outputs": [],
   "source": [
    "zipped = dict(zip(counties, doses))"
   ]
  },
  {
   "cell_type": "code",
   "execution_count": 9,
   "metadata": {
    "execution": {
     "iopub.execute_input": "2021-03-16T09:11:19.891585Z",
     "iopub.status.busy": "2021-03-16T09:11:19.891114Z",
     "iopub.status.idle": "2021-03-16T09:11:19.895135Z",
     "shell.execute_reply": "2021-03-16T09:11:19.894324Z"
    }
   },
   "outputs": [],
   "source": [
    "df = pd.Series(zipped).reset_index()"
   ]
  },
  {
   "cell_type": "code",
   "execution_count": 10,
   "metadata": {
    "execution": {
     "iopub.execute_input": "2021-03-16T09:11:19.898452Z",
     "iopub.status.busy": "2021-03-16T09:11:19.897978Z",
     "iopub.status.idle": "2021-03-16T09:11:19.901648Z",
     "shell.execute_reply": "2021-03-16T09:11:19.901232Z"
    }
   },
   "outputs": [],
   "source": [
    "df.columns = ['location','doses']"
   ]
  },
  {
   "cell_type": "markdown",
   "metadata": {},
   "source": [
    "Grab the overall California total"
   ]
  },
  {
   "cell_type": "code",
   "execution_count": 11,
   "metadata": {
    "execution": {
     "iopub.execute_input": "2021-03-16T09:11:19.905098Z",
     "iopub.status.busy": "2021-03-16T09:11:19.904631Z",
     "iopub.status.idle": "2021-03-16T09:11:19.908674Z",
     "shell.execute_reply": "2021-03-16T09:11:19.907984Z"
    }
   },
   "outputs": [],
   "source": [
    "add = {'location':'California','doses':dataJson[0]['dataValues'][2]}"
   ]
  },
  {
   "cell_type": "code",
   "execution_count": 12,
   "metadata": {
    "execution": {
     "iopub.execute_input": "2021-03-16T09:11:19.914779Z",
     "iopub.status.busy": "2021-03-16T09:11:19.914314Z",
     "iopub.status.idle": "2021-03-16T09:11:19.917698Z",
     "shell.execute_reply": "2021-03-16T09:11:19.917169Z"
    }
   },
   "outputs": [],
   "source": [
    "df = df.append(add, ignore_index=True)"
   ]
  },
  {
   "cell_type": "code",
   "execution_count": 13,
   "metadata": {
    "execution": {
     "iopub.execute_input": "2021-03-16T09:11:19.922037Z",
     "iopub.status.busy": "2021-03-16T09:11:19.921460Z",
     "iopub.status.idle": "2021-03-16T09:11:19.925333Z",
     "shell.execute_reply": "2021-03-16T09:11:19.924869Z"
    }
   },
   "outputs": [],
   "source": [
    "df = df.sort_values(by='location')"
   ]
  },
  {
   "cell_type": "code",
   "execution_count": 14,
   "metadata": {
    "execution": {
     "iopub.execute_input": "2021-03-16T09:11:19.931318Z",
     "iopub.status.busy": "2021-03-16T09:11:19.930853Z",
     "iopub.status.idle": "2021-03-16T09:11:19.934803Z",
     "shell.execute_reply": "2021-03-16T09:11:19.934249Z"
    }
   },
   "outputs": [],
   "source": [
    "df = df[df.location == 'California'].append(df[df.location != 'California']).reset_index(drop=True)"
   ]
  },
  {
   "cell_type": "code",
   "execution_count": null,
   "metadata": {},
   "outputs": [],
   "source": []
  },
  {
   "cell_type": "code",
   "execution_count": 15,
   "metadata": {
    "execution": {
     "iopub.execute_input": "2021-03-16T09:11:19.938628Z",
     "iopub.status.busy": "2021-03-16T09:11:19.937930Z",
     "iopub.status.idle": "2021-03-16T09:11:19.958491Z",
     "shell.execute_reply": "2021-03-16T09:11:19.957579Z"
    }
   },
   "outputs": [],
   "source": [
    "tz = pytz.timezone(\"America/New_York\")"
   ]
  },
  {
   "cell_type": "code",
   "execution_count": 16,
   "metadata": {
    "execution": {
     "iopub.execute_input": "2021-03-16T09:11:19.961650Z",
     "iopub.status.busy": "2021-03-16T09:11:19.961181Z",
     "iopub.status.idle": "2021-03-16T09:11:19.964073Z",
     "shell.execute_reply": "2021-03-16T09:11:19.964473Z"
    }
   },
   "outputs": [],
   "source": [
    "today = datetime.now(tz).date()"
   ]
  },
  {
   "cell_type": "code",
   "execution_count": 17,
   "metadata": {
    "execution": {
     "iopub.execute_input": "2021-03-16T09:11:19.967799Z",
     "iopub.status.busy": "2021-03-16T09:11:19.967331Z",
     "iopub.status.idle": "2021-03-16T09:11:19.970909Z",
     "shell.execute_reply": "2021-03-16T09:11:19.970483Z"
    }
   },
   "outputs": [],
   "source": [
    "data_dir = os.path.join(os.path.abspath(\"\"), \"data\")"
   ]
  },
  {
   "cell_type": "code",
   "execution_count": 18,
   "metadata": {
    "execution": {
     "iopub.execute_input": "2021-03-16T09:11:19.975553Z",
     "iopub.status.busy": "2021-03-16T09:11:19.973966Z",
     "iopub.status.idle": "2021-03-16T09:11:19.979468Z",
     "shell.execute_reply": "2021-03-16T09:11:19.979864Z"
    }
   },
   "outputs": [],
   "source": [
    "df.to_csv(os.path.join(data_dir, f\"{today}.csv\"), index=False)"
   ]
  },
  {
   "cell_type": "code",
   "execution_count": null,
   "metadata": {},
   "outputs": [],
   "source": []
  }
 ],
 "metadata": {
  "kernelspec": {
   "display_name": "Python 3",
   "language": "python",
   "name": "python3"
  },
  "language_info": {
   "codemirror_mode": {
    "name": "ipython",
    "version": 3
   },
   "file_extension": ".py",
   "mimetype": "text/x-python",
   "name": "python",
   "nbconvert_exporter": "python",
   "pygments_lexer": "ipython3",
   "version": "3.8.8"
  }
 },
 "nbformat": 4,
 "nbformat_minor": 4
}
