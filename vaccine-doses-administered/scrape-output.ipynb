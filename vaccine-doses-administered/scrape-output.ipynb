{
 "cells": [
  {
   "cell_type": "markdown",
   "metadata": {},
   "source": [
    "# California COVID vaccinations scrape"
   ]
  },
  {
   "cell_type": "markdown",
   "metadata": {},
   "source": [
    "By [Amy O'Kruk](https://twitter.com/amyokruk)"
   ]
  },
  {
   "cell_type": "markdown",
   "metadata": {},
   "source": [
    "Downloads data on vaccine doses administered by county and statewide from a Tableau-powered dashboard from the California Department of Public Health."
   ]
  },
  {
   "cell_type": "code",
   "execution_count": 1,
   "metadata": {
    "execution": {
     "iopub.execute_input": "2021-03-17T13:16:28.843259Z",
     "iopub.status.busy": "2021-03-17T13:16:28.842582Z",
     "iopub.status.idle": "2021-03-17T13:16:29.569572Z",
     "shell.execute_reply": "2021-03-17T13:16:29.568579Z"
    }
   },
   "outputs": [],
   "source": [
    "import pandas as pd\n",
    "import requests\n",
    "from bs4 import BeautifulSoup\n",
    "import json\n",
    "import re\n",
    "import time\n",
    "from time import gmtime, strftime \n",
    "import os\n",
    "import pytz\n",
    "from datetime import datetime"
   ]
  },
  {
   "cell_type": "markdown",
   "metadata": {},
   "source": [
    "Scrape the dashboard page"
   ]
  },
  {
   "cell_type": "code",
   "execution_count": 2,
   "metadata": {
    "execution": {
     "iopub.execute_input": "2021-03-17T13:16:29.576535Z",
     "iopub.status.busy": "2021-03-17T13:16:29.573343Z",
     "iopub.status.idle": "2021-03-17T13:16:29.885251Z",
     "shell.execute_reply": "2021-03-17T13:16:29.884116Z"
    }
   },
   "outputs": [],
   "source": [
    "url = \"https://public.tableau.com/interactive/views/COVID-19VaccineDashboardPublic/Vaccine?:embed=y&:showVizHome=n&:apiID=host0\"\n",
    "\n",
    "r = requests.get(url)\n",
    "soup = BeautifulSoup(r.text, \"html.parser\")"
   ]
  },
  {
   "cell_type": "code",
   "execution_count": 3,
   "metadata": {
    "execution": {
     "iopub.execute_input": "2021-03-17T13:16:29.890224Z",
     "iopub.status.busy": "2021-03-17T13:16:29.889674Z",
     "iopub.status.idle": "2021-03-17T13:16:29.893318Z",
     "shell.execute_reply": "2021-03-17T13:16:29.892814Z"
    }
   },
   "outputs": [],
   "source": [
    "tableauData = json.loads(soup.find(\"textarea\",{\"id\": \"tsConfigContainer\"}).text)"
   ]
  },
  {
   "cell_type": "markdown",
   "metadata": {},
   "source": [
    "Get the link to the Tableau data"
   ]
  },
  {
   "cell_type": "code",
   "execution_count": 4,
   "metadata": {
    "execution": {
     "iopub.execute_input": "2021-03-17T13:16:29.897387Z",
     "iopub.status.busy": "2021-03-17T13:16:29.896851Z",
     "iopub.status.idle": "2021-03-17T13:16:29.900479Z",
     "shell.execute_reply": "2021-03-17T13:16:29.899983Z"
    }
   },
   "outputs": [],
   "source": [
    "dataUrl = f'https://public.tableau.com{tableauData[\"vizql_root\"]}/bootstrapSession/sessions/{tableauData[\"sessionid\"]}'"
   ]
  },
  {
   "cell_type": "code",
   "execution_count": 5,
   "metadata": {
    "execution": {
     "iopub.execute_input": "2021-03-17T13:16:29.907252Z",
     "iopub.status.busy": "2021-03-17T13:16:29.906670Z",
     "iopub.status.idle": "2021-03-17T13:16:30.118930Z",
     "shell.execute_reply": "2021-03-17T13:16:30.118414Z"
    }
   },
   "outputs": [],
   "source": [
    "r = requests.post(dataUrl, data= {\n",
    "    \"sheet_id\": tableauData[\"sheetId\"],\n",
    "})\n",
    "\n",
    "dataReg = re.search('\\d+;({.*})\\d+;({.*})', r.text, re.MULTILINE)\n",
    "data1 = json.loads(dataReg.group(2))\n",
    "\n",
    "dataJson = data1[\"secondaryInfo\"][\"presModelMap\"][\"dataDictionary\"][\"presModelHolder\"][\"genDataDictionaryPresModel\"][\"dataSegments\"][\"0\"][\"dataColumns\"]"
   ]
  },
  {
   "cell_type": "markdown",
   "metadata": {},
   "source": [
    "Isolate what you want"
   ]
  },
  {
   "cell_type": "code",
   "execution_count": 6,
   "metadata": {
    "execution": {
     "iopub.execute_input": "2021-03-17T13:16:30.123118Z",
     "iopub.status.busy": "2021-03-17T13:16:30.122542Z",
     "iopub.status.idle": "2021-03-17T13:16:30.125866Z",
     "shell.execute_reply": "2021-03-17T13:16:30.126537Z"
    }
   },
   "outputs": [],
   "source": [
    "counties = dataJson[2]['dataValues'][:58]"
   ]
  },
  {
   "cell_type": "code",
   "execution_count": 7,
   "metadata": {
    "execution": {
     "iopub.execute_input": "2021-03-17T13:16:30.130589Z",
     "iopub.status.busy": "2021-03-17T13:16:30.130055Z",
     "iopub.status.idle": "2021-03-17T13:16:30.133073Z",
     "shell.execute_reply": "2021-03-17T13:16:30.133770Z"
    }
   },
   "outputs": [],
   "source": [
    "doses = dataJson[0]['dataValues'][3:61]"
   ]
  },
  {
   "cell_type": "markdown",
   "metadata": {},
   "source": [
    "Data formatting"
   ]
  },
  {
   "cell_type": "code",
   "execution_count": 8,
   "metadata": {
    "execution": {
     "iopub.execute_input": "2021-03-17T13:16:30.137505Z",
     "iopub.status.busy": "2021-03-17T13:16:30.136971Z",
     "iopub.status.idle": "2021-03-17T13:16:30.140882Z",
     "shell.execute_reply": "2021-03-17T13:16:30.140410Z"
    }
   },
   "outputs": [],
   "source": [
    "zipped = dict(zip(counties, doses))"
   ]
  },
  {
   "cell_type": "code",
   "execution_count": 9,
   "metadata": {
    "execution": {
     "iopub.execute_input": "2021-03-17T13:16:30.146952Z",
     "iopub.status.busy": "2021-03-17T13:16:30.146424Z",
     "iopub.status.idle": "2021-03-17T13:16:30.150085Z",
     "shell.execute_reply": "2021-03-17T13:16:30.149620Z"
    }
   },
   "outputs": [],
   "source": [
    "df = pd.Series(zipped).reset_index()"
   ]
  },
  {
   "cell_type": "code",
   "execution_count": 10,
   "metadata": {
    "execution": {
     "iopub.execute_input": "2021-03-17T13:16:30.154007Z",
     "iopub.status.busy": "2021-03-17T13:16:30.153475Z",
     "iopub.status.idle": "2021-03-17T13:16:30.156616Z",
     "shell.execute_reply": "2021-03-17T13:16:30.157316Z"
    }
   },
   "outputs": [],
   "source": [
    "df.columns = ['location','doses']"
   ]
  },
  {
   "cell_type": "markdown",
   "metadata": {},
   "source": [
    "Grab the overall California total"
   ]
  },
  {
   "cell_type": "code",
   "execution_count": 11,
   "metadata": {
    "execution": {
     "iopub.execute_input": "2021-03-17T13:16:30.161314Z",
     "iopub.status.busy": "2021-03-17T13:16:30.160717Z",
     "iopub.status.idle": "2021-03-17T13:16:30.163871Z",
     "shell.execute_reply": "2021-03-17T13:16:30.164737Z"
    }
   },
   "outputs": [],
   "source": [
    "add = {'location':'California','doses':dataJson[0]['dataValues'][2]}"
   ]
  },
  {
   "cell_type": "code",
   "execution_count": 12,
   "metadata": {
    "execution": {
     "iopub.execute_input": "2021-03-17T13:16:30.171294Z",
     "iopub.status.busy": "2021-03-17T13:16:30.170726Z",
     "iopub.status.idle": "2021-03-17T13:16:30.174372Z",
     "shell.execute_reply": "2021-03-17T13:16:30.173900Z"
    }
   },
   "outputs": [],
   "source": [
    "df = df.append(add, ignore_index=True)"
   ]
  },
  {
   "cell_type": "code",
   "execution_count": 13,
   "metadata": {
    "execution": {
     "iopub.execute_input": "2021-03-17T13:16:30.179680Z",
     "iopub.status.busy": "2021-03-17T13:16:30.178993Z",
     "iopub.status.idle": "2021-03-17T13:16:30.182717Z",
     "shell.execute_reply": "2021-03-17T13:16:30.182242Z"
    }
   },
   "outputs": [],
   "source": [
    "df = df.sort_values(by='location')"
   ]
  },
  {
   "cell_type": "code",
   "execution_count": 14,
   "metadata": {
    "execution": {
     "iopub.execute_input": "2021-03-17T13:16:30.189392Z",
     "iopub.status.busy": "2021-03-17T13:16:30.188846Z",
     "iopub.status.idle": "2021-03-17T13:16:30.193058Z",
     "shell.execute_reply": "2021-03-17T13:16:30.192352Z"
    }
   },
   "outputs": [],
   "source": [
    "df = df[df.location == 'California'].append(df[df.location != 'California']).reset_index(drop=True)"
   ]
  },
  {
   "cell_type": "code",
   "execution_count": null,
   "metadata": {},
   "outputs": [],
   "source": []
  },
  {
   "cell_type": "code",
   "execution_count": 15,
   "metadata": {
    "execution": {
     "iopub.execute_input": "2021-03-17T13:16:30.196858Z",
     "iopub.status.busy": "2021-03-17T13:16:30.196317Z",
     "iopub.status.idle": "2021-03-17T13:16:30.218017Z",
     "shell.execute_reply": "2021-03-17T13:16:30.217539Z"
    }
   },
   "outputs": [],
   "source": [
    "tz = pytz.timezone(\"America/New_York\")"
   ]
  },
  {
   "cell_type": "code",
   "execution_count": 16,
   "metadata": {
    "execution": {
     "iopub.execute_input": "2021-03-17T13:16:30.221851Z",
     "iopub.status.busy": "2021-03-17T13:16:30.221315Z",
     "iopub.status.idle": "2021-03-17T13:16:30.226881Z",
     "shell.execute_reply": "2021-03-17T13:16:30.226333Z"
    }
   },
   "outputs": [],
   "source": [
    "today = datetime.now(tz).date()"
   ]
  },
  {
   "cell_type": "code",
   "execution_count": 17,
   "metadata": {
    "execution": {
     "iopub.execute_input": "2021-03-17T13:16:30.234390Z",
     "iopub.status.busy": "2021-03-17T13:16:30.233773Z",
     "iopub.status.idle": "2021-03-17T13:16:30.237597Z",
     "shell.execute_reply": "2021-03-17T13:16:30.237127Z"
    }
   },
   "outputs": [],
   "source": [
    "data_dir = os.path.join(os.path.abspath(\"\"), \"data\")"
   ]
  },
  {
   "cell_type": "code",
   "execution_count": 18,
   "metadata": {
    "execution": {
     "iopub.execute_input": "2021-03-17T13:16:30.243987Z",
     "iopub.status.busy": "2021-03-17T13:16:30.243447Z",
     "iopub.status.idle": "2021-03-17T13:16:30.247214Z",
     "shell.execute_reply": "2021-03-17T13:16:30.246711Z"
    }
   },
   "outputs": [],
   "source": [
    "df.to_csv(os.path.join(data_dir, f\"{today}.csv\"), index=False)"
   ]
  },
  {
   "cell_type": "code",
   "execution_count": null,
   "metadata": {},
   "outputs": [],
   "source": []
  }
 ],
 "metadata": {
  "kernelspec": {
   "display_name": "Python 3",
   "language": "python",
   "name": "python3"
  },
  "language_info": {
   "codemirror_mode": {
    "name": "ipython",
    "version": 3
   },
   "file_extension": ".py",
   "mimetype": "text/x-python",
   "name": "python",
   "nbconvert_exporter": "python",
   "pygments_lexer": "ipython3",
   "version": "3.8.8"
  }
 },
 "nbformat": 4,
 "nbformat_minor": 4
}
