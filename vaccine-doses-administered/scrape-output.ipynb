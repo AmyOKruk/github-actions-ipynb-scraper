{
 "cells": [
  {
   "cell_type": "markdown",
   "metadata": {},
   "source": [
    "# California COVID vaccinations scrape"
   ]
  },
  {
   "cell_type": "markdown",
   "metadata": {},
   "source": [
    "By [Amy O'Kruk](https://twitter.com/amyokruk)"
   ]
  },
  {
   "cell_type": "markdown",
   "metadata": {},
   "source": [
    "Downloads data on vaccine doses administered by county and statewide from a Tableau-powered dashboard from the California Department of Public Health."
   ]
  },
  {
   "cell_type": "code",
   "execution_count": 1,
   "metadata": {
    "execution": {
     "iopub.execute_input": "2021-03-17T21:11:52.433465Z",
     "iopub.status.busy": "2021-03-17T21:11:52.432525Z",
     "iopub.status.idle": "2021-03-17T21:11:52.880337Z",
     "shell.execute_reply": "2021-03-17T21:11:52.879098Z"
    }
   },
   "outputs": [],
   "source": [
    "import pandas as pd\n",
    "import requests\n",
    "from bs4 import BeautifulSoup\n",
    "import json\n",
    "import re\n",
    "import time\n",
    "from time import gmtime, strftime \n",
    "import os\n",
    "import pytz\n",
    "from datetime import datetime"
   ]
  },
  {
   "cell_type": "markdown",
   "metadata": {},
   "source": [
    "Scrape the dashboard page"
   ]
  },
  {
   "cell_type": "code",
   "execution_count": 2,
   "metadata": {
    "execution": {
     "iopub.execute_input": "2021-03-17T21:11:52.888117Z",
     "iopub.status.busy": "2021-03-17T21:11:52.885329Z",
     "iopub.status.idle": "2021-03-17T21:11:53.184952Z",
     "shell.execute_reply": "2021-03-17T21:11:53.184134Z"
    }
   },
   "outputs": [],
   "source": [
    "url = \"https://public.tableau.com/interactive/views/COVID-19VaccineDashboardPublic/Vaccine?:embed=y&:showVizHome=n&:apiID=host0\"\n",
    "\n",
    "r = requests.get(url)\n",
    "soup = BeautifulSoup(r.text, \"html.parser\")"
   ]
  },
  {
   "cell_type": "code",
   "execution_count": 3,
   "metadata": {
    "execution": {
     "iopub.execute_input": "2021-03-17T21:11:53.191363Z",
     "iopub.status.busy": "2021-03-17T21:11:53.190008Z",
     "iopub.status.idle": "2021-03-17T21:11:53.191973Z",
     "shell.execute_reply": "2021-03-17T21:11:53.192407Z"
    }
   },
   "outputs": [],
   "source": [
    "tableauData = json.loads(soup.find(\"textarea\",{\"id\": \"tsConfigContainer\"}).text)"
   ]
  },
  {
   "cell_type": "markdown",
   "metadata": {},
   "source": [
    "Get the link to the Tableau data"
   ]
  },
  {
   "cell_type": "code",
   "execution_count": 4,
   "metadata": {
    "execution": {
     "iopub.execute_input": "2021-03-17T21:11:53.196374Z",
     "iopub.status.busy": "2021-03-17T21:11:53.195559Z",
     "iopub.status.idle": "2021-03-17T21:11:53.197052Z",
     "shell.execute_reply": "2021-03-17T21:11:53.197404Z"
    }
   },
   "outputs": [],
   "source": [
    "dataUrl = f'https://public.tableau.com{tableauData[\"vizql_root\"]}/bootstrapSession/sessions/{tableauData[\"sessionid\"]}'"
   ]
  },
  {
   "cell_type": "code",
   "execution_count": 5,
   "metadata": {
    "execution": {
     "iopub.execute_input": "2021-03-17T21:11:53.203864Z",
     "iopub.status.busy": "2021-03-17T21:11:53.203316Z",
     "iopub.status.idle": "2021-03-17T21:11:53.984967Z",
     "shell.execute_reply": "2021-03-17T21:11:53.985364Z"
    }
   },
   "outputs": [],
   "source": [
    "r = requests.post(dataUrl, data= {\n",
    "    \"sheet_id\": tableauData[\"sheetId\"],\n",
    "})\n",
    "\n",
    "dataReg = re.search('\\d+;({.*})\\d+;({.*})', r.text, re.MULTILINE)\n",
    "data1 = json.loads(dataReg.group(2))\n",
    "\n",
    "dataJson = data1[\"secondaryInfo\"][\"presModelMap\"][\"dataDictionary\"][\"presModelHolder\"][\"genDataDictionaryPresModel\"][\"dataSegments\"][\"0\"][\"dataColumns\"]"
   ]
  },
  {
   "cell_type": "markdown",
   "metadata": {},
   "source": [
    "Isolate what you want"
   ]
  },
  {
   "cell_type": "code",
   "execution_count": 6,
   "metadata": {
    "execution": {
     "iopub.execute_input": "2021-03-17T21:11:53.989789Z",
     "iopub.status.busy": "2021-03-17T21:11:53.988541Z",
     "iopub.status.idle": "2021-03-17T21:11:53.990324Z",
     "shell.execute_reply": "2021-03-17T21:11:53.990727Z"
    }
   },
   "outputs": [],
   "source": [
    "counties = dataJson[2]['dataValues'][:58]"
   ]
  },
  {
   "cell_type": "code",
   "execution_count": 7,
   "metadata": {
    "execution": {
     "iopub.execute_input": "2021-03-17T21:11:53.994956Z",
     "iopub.status.busy": "2021-03-17T21:11:53.993970Z",
     "iopub.status.idle": "2021-03-17T21:11:53.995516Z",
     "shell.execute_reply": "2021-03-17T21:11:53.995921Z"
    }
   },
   "outputs": [],
   "source": [
    "doses = dataJson[0]['dataValues'][3:61]"
   ]
  },
  {
   "cell_type": "markdown",
   "metadata": {},
   "source": [
    "Data formatting"
   ]
  },
  {
   "cell_type": "code",
   "execution_count": 8,
   "metadata": {
    "execution": {
     "iopub.execute_input": "2021-03-17T21:11:54.000108Z",
     "iopub.status.busy": "2021-03-17T21:11:53.998707Z",
     "iopub.status.idle": "2021-03-17T21:11:54.000649Z",
     "shell.execute_reply": "2021-03-17T21:11:54.001026Z"
    }
   },
   "outputs": [],
   "source": [
    "zipped = dict(zip(counties, doses))"
   ]
  },
  {
   "cell_type": "code",
   "execution_count": 9,
   "metadata": {
    "execution": {
     "iopub.execute_input": "2021-03-17T21:11:54.007359Z",
     "iopub.status.busy": "2021-03-17T21:11:54.006243Z",
     "iopub.status.idle": "2021-03-17T21:11:54.007960Z",
     "shell.execute_reply": "2021-03-17T21:11:54.008394Z"
    }
   },
   "outputs": [],
   "source": [
    "df = pd.Series(zipped).reset_index()"
   ]
  },
  {
   "cell_type": "code",
   "execution_count": 10,
   "metadata": {
    "execution": {
     "iopub.execute_input": "2021-03-17T21:11:54.012606Z",
     "iopub.status.busy": "2021-03-17T21:11:54.011444Z",
     "iopub.status.idle": "2021-03-17T21:11:54.013246Z",
     "shell.execute_reply": "2021-03-17T21:11:54.013679Z"
    }
   },
   "outputs": [],
   "source": [
    "df.columns = ['location','doses']"
   ]
  },
  {
   "cell_type": "markdown",
   "metadata": {},
   "source": [
    "Grab the overall California total"
   ]
  },
  {
   "cell_type": "code",
   "execution_count": 11,
   "metadata": {
    "execution": {
     "iopub.execute_input": "2021-03-17T21:11:54.018114Z",
     "iopub.status.busy": "2021-03-17T21:11:54.016935Z",
     "iopub.status.idle": "2021-03-17T21:11:54.018763Z",
     "shell.execute_reply": "2021-03-17T21:11:54.019202Z"
    }
   },
   "outputs": [],
   "source": [
    "add = {'location':'California','doses':dataJson[0]['dataValues'][2]}"
   ]
  },
  {
   "cell_type": "code",
   "execution_count": 12,
   "metadata": {
    "execution": {
     "iopub.execute_input": "2021-03-17T21:11:54.025708Z",
     "iopub.status.busy": "2021-03-17T21:11:54.024890Z",
     "iopub.status.idle": "2021-03-17T21:11:54.026564Z",
     "shell.execute_reply": "2021-03-17T21:11:54.027003Z"
    }
   },
   "outputs": [],
   "source": [
    "df = df.append(add, ignore_index=True)"
   ]
  },
  {
   "cell_type": "code",
   "execution_count": 13,
   "metadata": {
    "execution": {
     "iopub.execute_input": "2021-03-17T21:11:54.032174Z",
     "iopub.status.busy": "2021-03-17T21:11:54.030829Z",
     "iopub.status.idle": "2021-03-17T21:11:54.032746Z",
     "shell.execute_reply": "2021-03-17T21:11:54.033175Z"
    }
   },
   "outputs": [],
   "source": [
    "df = df.sort_values(by='location')"
   ]
  },
  {
   "cell_type": "code",
   "execution_count": 14,
   "metadata": {
    "execution": {
     "iopub.execute_input": "2021-03-17T21:11:54.039732Z",
     "iopub.status.busy": "2021-03-17T21:11:54.038482Z",
     "iopub.status.idle": "2021-03-17T21:11:54.040246Z",
     "shell.execute_reply": "2021-03-17T21:11:54.040599Z"
    }
   },
   "outputs": [],
   "source": [
    "df = df[df.location == 'California'].append(df[df.location != 'California']).reset_index(drop=True)"
   ]
  },
  {
   "cell_type": "code",
   "execution_count": null,
   "metadata": {},
   "outputs": [],
   "source": []
  },
  {
   "cell_type": "code",
   "execution_count": 15,
   "metadata": {
    "execution": {
     "iopub.execute_input": "2021-03-17T21:11:54.043823Z",
     "iopub.status.busy": "2021-03-17T21:11:54.043267Z",
     "iopub.status.idle": "2021-03-17T21:11:54.060903Z",
     "shell.execute_reply": "2021-03-17T21:11:54.060442Z"
    }
   },
   "outputs": [],
   "source": [
    "tz = pytz.timezone(\"America/New_York\")"
   ]
  },
  {
   "cell_type": "code",
   "execution_count": 16,
   "metadata": {
    "execution": {
     "iopub.execute_input": "2021-03-17T21:11:54.065113Z",
     "iopub.status.busy": "2021-03-17T21:11:54.063922Z",
     "iopub.status.idle": "2021-03-17T21:11:54.065756Z",
     "shell.execute_reply": "2021-03-17T21:11:54.066178Z"
    }
   },
   "outputs": [],
   "source": [
    "today = datetime.now(tz).date()"
   ]
  },
  {
   "cell_type": "code",
   "execution_count": 17,
   "metadata": {
    "execution": {
     "iopub.execute_input": "2021-03-17T21:11:54.070502Z",
     "iopub.status.busy": "2021-03-17T21:11:54.069364Z",
     "iopub.status.idle": "2021-03-17T21:11:54.071100Z",
     "shell.execute_reply": "2021-03-17T21:11:54.071508Z"
    }
   },
   "outputs": [],
   "source": [
    "data_dir = os.path.join(os.path.abspath(\"\"), \"data\")"
   ]
  },
  {
   "cell_type": "code",
   "execution_count": 18,
   "metadata": {
    "execution": {
     "iopub.execute_input": "2021-03-17T21:11:54.075900Z",
     "iopub.status.busy": "2021-03-17T21:11:54.074955Z",
     "iopub.status.idle": "2021-03-17T21:11:54.079700Z",
     "shell.execute_reply": "2021-03-17T21:11:54.080084Z"
    }
   },
   "outputs": [],
   "source": [
    "df.to_csv(os.path.join(data_dir, f\"{today}.csv\"), index=False)"
   ]
  },
  {
   "cell_type": "code",
   "execution_count": null,
   "metadata": {},
   "outputs": [],
   "source": []
  }
 ],
 "metadata": {
  "kernelspec": {
   "display_name": "Python 3",
   "language": "python",
   "name": "python3"
  },
  "language_info": {
   "codemirror_mode": {
    "name": "ipython",
    "version": 3
   },
   "file_extension": ".py",
   "mimetype": "text/x-python",
   "name": "python",
   "nbconvert_exporter": "python",
   "pygments_lexer": "ipython3",
   "version": "3.8.8"
  }
 },
 "nbformat": 4,
 "nbformat_minor": 4
}
