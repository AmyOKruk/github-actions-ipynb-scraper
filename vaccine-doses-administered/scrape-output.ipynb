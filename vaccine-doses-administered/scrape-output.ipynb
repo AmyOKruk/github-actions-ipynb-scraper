{
 "cells": [
  {
   "cell_type": "markdown",
   "metadata": {},
   "source": [
    "# California COVID vaccinations scrape"
   ]
  },
  {
   "cell_type": "markdown",
   "metadata": {},
   "source": [
    "By [Amy O'Kruk](https://twitter.com/amyokruk)"
   ]
  },
  {
   "cell_type": "markdown",
   "metadata": {},
   "source": [
    "Downloads data on vaccine doses administered by county and statewide from a Tableau-powered dashboard from the California Department of Public Health."
   ]
  },
  {
   "cell_type": "code",
   "execution_count": 1,
   "metadata": {
    "execution": {
     "iopub.execute_input": "2021-03-15T08:47:02.656587Z",
     "iopub.status.busy": "2021-03-15T08:47:02.655898Z",
     "iopub.status.idle": "2021-03-15T08:47:03.336433Z",
     "shell.execute_reply": "2021-03-15T08:47:03.335694Z"
    }
   },
   "outputs": [],
   "source": [
    "import pandas as pd\n",
    "import requests\n",
    "from bs4 import BeautifulSoup\n",
    "import json\n",
    "import re\n",
    "import time\n",
    "from time import gmtime, strftime \n",
    "import os\n",
    "import pytz\n",
    "from datetime import datetime"
   ]
  },
  {
   "cell_type": "markdown",
   "metadata": {},
   "source": [
    "Scrape the dashboard page"
   ]
  },
  {
   "cell_type": "code",
   "execution_count": 2,
   "metadata": {
    "execution": {
     "iopub.execute_input": "2021-03-15T08:47:03.343530Z",
     "iopub.status.busy": "2021-03-15T08:47:03.340256Z",
     "iopub.status.idle": "2021-03-15T08:47:03.828904Z",
     "shell.execute_reply": "2021-03-15T08:47:03.827977Z"
    }
   },
   "outputs": [],
   "source": [
    "url = \"https://public.tableau.com/interactive/views/COVID-19VaccineDashboardPublic/Vaccine?:embed=y&:showVizHome=n&:apiID=host0\"\n",
    "\n",
    "r = requests.get(url)\n",
    "soup = BeautifulSoup(r.text, \"html.parser\")"
   ]
  },
  {
   "cell_type": "code",
   "execution_count": 3,
   "metadata": {
    "execution": {
     "iopub.execute_input": "2021-03-15T08:47:03.834659Z",
     "iopub.status.busy": "2021-03-15T08:47:03.833965Z",
     "iopub.status.idle": "2021-03-15T08:47:03.837019Z",
     "shell.execute_reply": "2021-03-15T08:47:03.837450Z"
    }
   },
   "outputs": [],
   "source": [
    "tableauData = json.loads(soup.find(\"textarea\",{\"id\": \"tsConfigContainer\"}).text)"
   ]
  },
  {
   "cell_type": "markdown",
   "metadata": {},
   "source": [
    "Get the link to the Tableau data"
   ]
  },
  {
   "cell_type": "code",
   "execution_count": 4,
   "metadata": {
    "execution": {
     "iopub.execute_input": "2021-03-15T08:47:03.841893Z",
     "iopub.status.busy": "2021-03-15T08:47:03.841255Z",
     "iopub.status.idle": "2021-03-15T08:47:03.845891Z",
     "shell.execute_reply": "2021-03-15T08:47:03.846618Z"
    }
   },
   "outputs": [],
   "source": [
    "dataUrl = f'https://public.tableau.com{tableauData[\"vizql_root\"]}/bootstrapSession/sessions/{tableauData[\"sessionid\"]}'"
   ]
  },
  {
   "cell_type": "code",
   "execution_count": 5,
   "metadata": {
    "execution": {
     "iopub.execute_input": "2021-03-15T08:47:03.854409Z",
     "iopub.status.busy": "2021-03-15T08:47:03.853772Z",
     "iopub.status.idle": "2021-03-15T08:47:04.121754Z",
     "shell.execute_reply": "2021-03-15T08:47:04.121129Z"
    }
   },
   "outputs": [],
   "source": [
    "r = requests.post(dataUrl, data= {\n",
    "    \"sheet_id\": tableauData[\"sheetId\"],\n",
    "})\n",
    "\n",
    "dataReg = re.search('\\d+;({.*})\\d+;({.*})', r.text, re.MULTILINE)\n",
    "data1 = json.loads(dataReg.group(2))\n",
    "\n",
    "dataJson = data1[\"secondaryInfo\"][\"presModelMap\"][\"dataDictionary\"][\"presModelHolder\"][\"genDataDictionaryPresModel\"][\"dataSegments\"][\"0\"][\"dataColumns\"]"
   ]
  },
  {
   "cell_type": "markdown",
   "metadata": {},
   "source": [
    "Isolate what you want"
   ]
  },
  {
   "cell_type": "code",
   "execution_count": 6,
   "metadata": {
    "execution": {
     "iopub.execute_input": "2021-03-15T08:47:04.128990Z",
     "iopub.status.busy": "2021-03-15T08:47:04.128120Z",
     "iopub.status.idle": "2021-03-15T08:47:04.131161Z",
     "shell.execute_reply": "2021-03-15T08:47:04.130427Z"
    }
   },
   "outputs": [],
   "source": [
    "counties = dataJson[2]['dataValues'][:58]"
   ]
  },
  {
   "cell_type": "code",
   "execution_count": 7,
   "metadata": {
    "execution": {
     "iopub.execute_input": "2021-03-15T08:47:04.136447Z",
     "iopub.status.busy": "2021-03-15T08:47:04.135034Z",
     "iopub.status.idle": "2021-03-15T08:47:04.137079Z",
     "shell.execute_reply": "2021-03-15T08:47:04.137592Z"
    }
   },
   "outputs": [],
   "source": [
    "doses = dataJson[0]['dataValues'][3:61]"
   ]
  },
  {
   "cell_type": "markdown",
   "metadata": {},
   "source": [
    "Data formatting"
   ]
  },
  {
   "cell_type": "code",
   "execution_count": 8,
   "metadata": {
    "execution": {
     "iopub.execute_input": "2021-03-15T08:47:04.142403Z",
     "iopub.status.busy": "2021-03-15T08:47:04.141023Z",
     "iopub.status.idle": "2021-03-15T08:47:04.143110Z",
     "shell.execute_reply": "2021-03-15T08:47:04.143682Z"
    }
   },
   "outputs": [],
   "source": [
    "zipped = dict(zip(counties, doses))"
   ]
  },
  {
   "cell_type": "code",
   "execution_count": 9,
   "metadata": {
    "execution": {
     "iopub.execute_input": "2021-03-15T08:47:04.152044Z",
     "iopub.status.busy": "2021-03-15T08:47:04.150436Z",
     "iopub.status.idle": "2021-03-15T08:47:04.152733Z",
     "shell.execute_reply": "2021-03-15T08:47:04.153262Z"
    }
   },
   "outputs": [],
   "source": [
    "df = pd.Series(zipped).reset_index()"
   ]
  },
  {
   "cell_type": "code",
   "execution_count": 10,
   "metadata": {
    "execution": {
     "iopub.execute_input": "2021-03-15T08:47:04.160077Z",
     "iopub.status.busy": "2021-03-15T08:47:04.158139Z",
     "iopub.status.idle": "2021-03-15T08:47:04.160939Z",
     "shell.execute_reply": "2021-03-15T08:47:04.161552Z"
    }
   },
   "outputs": [],
   "source": [
    "df.columns = ['location','doses']"
   ]
  },
  {
   "cell_type": "markdown",
   "metadata": {},
   "source": [
    "Grab the overall California total"
   ]
  },
  {
   "cell_type": "code",
   "execution_count": 11,
   "metadata": {
    "execution": {
     "iopub.execute_input": "2021-03-15T08:47:04.166695Z",
     "iopub.status.busy": "2021-03-15T08:47:04.165379Z",
     "iopub.status.idle": "2021-03-15T08:47:04.167384Z",
     "shell.execute_reply": "2021-03-15T08:47:04.167890Z"
    }
   },
   "outputs": [],
   "source": [
    "add = {'location':'California','doses':dataJson[0]['dataValues'][2]}"
   ]
  },
  {
   "cell_type": "code",
   "execution_count": 12,
   "metadata": {
    "execution": {
     "iopub.execute_input": "2021-03-15T08:47:04.176340Z",
     "iopub.status.busy": "2021-03-15T08:47:04.174853Z",
     "iopub.status.idle": "2021-03-15T08:47:04.177172Z",
     "shell.execute_reply": "2021-03-15T08:47:04.177760Z"
    }
   },
   "outputs": [],
   "source": [
    "df = df.append(add, ignore_index=True)"
   ]
  },
  {
   "cell_type": "code",
   "execution_count": 13,
   "metadata": {
    "execution": {
     "iopub.execute_input": "2021-03-15T08:47:04.183491Z",
     "iopub.status.busy": "2021-03-15T08:47:04.182058Z",
     "iopub.status.idle": "2021-03-15T08:47:04.184230Z",
     "shell.execute_reply": "2021-03-15T08:47:04.184676Z"
    }
   },
   "outputs": [],
   "source": [
    "df = df.sort_values(by='location')"
   ]
  },
  {
   "cell_type": "code",
   "execution_count": 14,
   "metadata": {
    "execution": {
     "iopub.execute_input": "2021-03-15T08:47:04.192622Z",
     "iopub.status.busy": "2021-03-15T08:47:04.191216Z",
     "iopub.status.idle": "2021-03-15T08:47:04.193484Z",
     "shell.execute_reply": "2021-03-15T08:47:04.193960Z"
    }
   },
   "outputs": [],
   "source": [
    "df = df[df.location == 'California'].append(df[df.location != 'California']).reset_index(drop=True)"
   ]
  },
  {
   "cell_type": "code",
   "execution_count": null,
   "metadata": {},
   "outputs": [],
   "source": []
  },
  {
   "cell_type": "code",
   "execution_count": 15,
   "metadata": {
    "execution": {
     "iopub.execute_input": "2021-03-15T08:47:04.197619Z",
     "iopub.status.busy": "2021-03-15T08:47:04.196981Z",
     "iopub.status.idle": "2021-03-15T08:47:04.217857Z",
     "shell.execute_reply": "2021-03-15T08:47:04.217256Z"
    }
   },
   "outputs": [],
   "source": [
    "tz = pytz.timezone(\"America/New_York\")"
   ]
  },
  {
   "cell_type": "code",
   "execution_count": 16,
   "metadata": {
    "execution": {
     "iopub.execute_input": "2021-03-15T08:47:04.223022Z",
     "iopub.status.busy": "2021-03-15T08:47:04.221557Z",
     "iopub.status.idle": "2021-03-15T08:47:04.223671Z",
     "shell.execute_reply": "2021-03-15T08:47:04.224298Z"
    }
   },
   "outputs": [],
   "source": [
    "today = datetime.now(tz).date()"
   ]
  },
  {
   "cell_type": "code",
   "execution_count": 17,
   "metadata": {
    "execution": {
     "iopub.execute_input": "2021-03-15T08:47:04.229018Z",
     "iopub.status.busy": "2021-03-15T08:47:04.228093Z",
     "iopub.status.idle": "2021-03-15T08:47:04.230682Z",
     "shell.execute_reply": "2021-03-15T08:47:04.230071Z"
    }
   },
   "outputs": [],
   "source": [
    "data_dir = os.path.join(os.path.abspath(\"\"), \"data\")"
   ]
  },
  {
   "cell_type": "code",
   "execution_count": 18,
   "metadata": {
    "execution": {
     "iopub.execute_input": "2021-03-15T08:47:04.237017Z",
     "iopub.status.busy": "2021-03-15T08:47:04.234245Z",
     "iopub.status.idle": "2021-03-15T08:47:04.239084Z",
     "shell.execute_reply": "2021-03-15T08:47:04.239526Z"
    }
   },
   "outputs": [],
   "source": [
    "df.to_csv(os.path.join(data_dir, f\"{today}.csv\"), index=False)"
   ]
  },
  {
   "cell_type": "code",
   "execution_count": null,
   "metadata": {},
   "outputs": [],
   "source": []
  }
 ],
 "metadata": {
  "kernelspec": {
   "display_name": "Python 3",
   "language": "python",
   "name": "python3"
  },
  "language_info": {
   "codemirror_mode": {
    "name": "ipython",
    "version": 3
   },
   "file_extension": ".py",
   "mimetype": "text/x-python",
   "name": "python",
   "nbconvert_exporter": "python",
   "pygments_lexer": "ipython3",
   "version": "3.8.8"
  }
 },
 "nbformat": 4,
 "nbformat_minor": 4
}
