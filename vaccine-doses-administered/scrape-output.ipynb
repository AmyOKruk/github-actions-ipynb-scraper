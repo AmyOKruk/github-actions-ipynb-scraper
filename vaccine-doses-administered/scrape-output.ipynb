{
 "cells": [
  {
   "cell_type": "markdown",
   "metadata": {},
   "source": [
    "# California COVID vaccinations scrape"
   ]
  },
  {
   "cell_type": "markdown",
   "metadata": {},
   "source": [
    "By [Amy O'Kruk](https://twitter.com/amyokruk)"
   ]
  },
  {
   "cell_type": "markdown",
   "metadata": {},
   "source": [
    "Downloads data on vaccine doses administered by county and statewide from a Tableau-powered dashboard from the California Department of Public Health."
   ]
  },
  {
   "cell_type": "code",
   "execution_count": 1,
   "metadata": {
    "execution": {
     "iopub.execute_input": "2021-03-21T14:45:45.726808Z",
     "iopub.status.busy": "2021-03-21T14:45:45.726228Z",
     "iopub.status.idle": "2021-03-21T14:45:46.101387Z",
     "shell.execute_reply": "2021-03-21T14:45:46.100433Z"
    }
   },
   "outputs": [],
   "source": [
    "import pandas as pd\n",
    "import requests\n",
    "from bs4 import BeautifulSoup\n",
    "import json\n",
    "import re\n",
    "import time\n",
    "from time import gmtime, strftime \n",
    "import os\n",
    "import pytz\n",
    "from datetime import datetime"
   ]
  },
  {
   "cell_type": "markdown",
   "metadata": {},
   "source": [
    "Scrape the dashboard page"
   ]
  },
  {
   "cell_type": "code",
   "execution_count": 2,
   "metadata": {
    "execution": {
     "iopub.execute_input": "2021-03-21T14:45:46.107082Z",
     "iopub.status.busy": "2021-03-21T14:45:46.104657Z",
     "iopub.status.idle": "2021-03-21T14:45:46.714287Z",
     "shell.execute_reply": "2021-03-21T14:45:46.713774Z"
    }
   },
   "outputs": [],
   "source": [
    "url = \"https://public.tableau.com/interactive/views/COVID-19VaccineDashboardPublic/Vaccine?:embed=y&:showVizHome=n&:apiID=host0\"\n",
    "\n",
    "r = requests.get(url)\n",
    "soup = BeautifulSoup(r.text, \"html.parser\")"
   ]
  },
  {
   "cell_type": "code",
   "execution_count": 3,
   "metadata": {
    "execution": {
     "iopub.execute_input": "2021-03-21T14:45:46.719652Z",
     "iopub.status.busy": "2021-03-21T14:45:46.718640Z",
     "iopub.status.idle": "2021-03-21T14:45:46.720925Z",
     "shell.execute_reply": "2021-03-21T14:45:46.720424Z"
    }
   },
   "outputs": [],
   "source": [
    "tableauData = json.loads(soup.find(\"textarea\",{\"id\": \"tsConfigContainer\"}).text)"
   ]
  },
  {
   "cell_type": "markdown",
   "metadata": {},
   "source": [
    "Get the link to the Tableau data"
   ]
  },
  {
   "cell_type": "code",
   "execution_count": 4,
   "metadata": {
    "execution": {
     "iopub.execute_input": "2021-03-21T14:45:46.725442Z",
     "iopub.status.busy": "2021-03-21T14:45:46.724175Z",
     "iopub.status.idle": "2021-03-21T14:45:46.726074Z",
     "shell.execute_reply": "2021-03-21T14:45:46.726512Z"
    }
   },
   "outputs": [],
   "source": [
    "dataUrl = f'https://public.tableau.com{tableauData[\"vizql_root\"]}/bootstrapSession/sessions/{tableauData[\"sessionid\"]}'"
   ]
  },
  {
   "cell_type": "code",
   "execution_count": 5,
   "metadata": {
    "execution": {
     "iopub.execute_input": "2021-03-21T14:45:46.733138Z",
     "iopub.status.busy": "2021-03-21T14:45:46.732593Z",
     "iopub.status.idle": "2021-03-21T14:45:47.114007Z",
     "shell.execute_reply": "2021-03-21T14:45:47.113477Z"
    }
   },
   "outputs": [],
   "source": [
    "r = requests.post(dataUrl, data= {\n",
    "    \"sheet_id\": tableauData[\"sheetId\"],\n",
    "})\n",
    "\n",
    "dataReg = re.search('\\d+;({.*})\\d+;({.*})', r.text, re.MULTILINE)\n",
    "data1 = json.loads(dataReg.group(2))\n",
    "\n",
    "dataJson = data1[\"secondaryInfo\"][\"presModelMap\"][\"dataDictionary\"][\"presModelHolder\"][\"genDataDictionaryPresModel\"][\"dataSegments\"][\"0\"][\"dataColumns\"]"
   ]
  },
  {
   "cell_type": "markdown",
   "metadata": {},
   "source": [
    "Isolate what you want"
   ]
  },
  {
   "cell_type": "code",
   "execution_count": 6,
   "metadata": {
    "execution": {
     "iopub.execute_input": "2021-03-21T14:45:47.118450Z",
     "iopub.status.busy": "2021-03-21T14:45:47.117272Z",
     "iopub.status.idle": "2021-03-21T14:45:47.119043Z",
     "shell.execute_reply": "2021-03-21T14:45:47.119468Z"
    }
   },
   "outputs": [],
   "source": [
    "counties = dataJson[2]['dataValues'][:58]"
   ]
  },
  {
   "cell_type": "code",
   "execution_count": 7,
   "metadata": {
    "execution": {
     "iopub.execute_input": "2021-03-21T14:45:47.123951Z",
     "iopub.status.busy": "2021-03-21T14:45:47.122725Z",
     "iopub.status.idle": "2021-03-21T14:45:47.124590Z",
     "shell.execute_reply": "2021-03-21T14:45:47.125041Z"
    }
   },
   "outputs": [],
   "source": [
    "doses = dataJson[0]['dataValues'][3:61]"
   ]
  },
  {
   "cell_type": "markdown",
   "metadata": {},
   "source": [
    "Data formatting"
   ]
  },
  {
   "cell_type": "code",
   "execution_count": 8,
   "metadata": {
    "execution": {
     "iopub.execute_input": "2021-03-21T14:45:47.129139Z",
     "iopub.status.busy": "2021-03-21T14:45:47.128002Z",
     "iopub.status.idle": "2021-03-21T14:45:47.129742Z",
     "shell.execute_reply": "2021-03-21T14:45:47.130224Z"
    }
   },
   "outputs": [],
   "source": [
    "zipped = dict(zip(counties, doses))"
   ]
  },
  {
   "cell_type": "code",
   "execution_count": 9,
   "metadata": {
    "execution": {
     "iopub.execute_input": "2021-03-21T14:45:47.137156Z",
     "iopub.status.busy": "2021-03-21T14:45:47.135816Z",
     "iopub.status.idle": "2021-03-21T14:45:47.137723Z",
     "shell.execute_reply": "2021-03-21T14:45:47.138186Z"
    }
   },
   "outputs": [],
   "source": [
    "df = pd.Series(zipped).reset_index()"
   ]
  },
  {
   "cell_type": "code",
   "execution_count": 10,
   "metadata": {
    "execution": {
     "iopub.execute_input": "2021-03-21T14:45:47.142237Z",
     "iopub.status.busy": "2021-03-21T14:45:47.141149Z",
     "iopub.status.idle": "2021-03-21T14:45:47.142836Z",
     "shell.execute_reply": "2021-03-21T14:45:47.143261Z"
    }
   },
   "outputs": [],
   "source": [
    "df.columns = ['location','doses']"
   ]
  },
  {
   "cell_type": "markdown",
   "metadata": {},
   "source": [
    "Grab the overall California total"
   ]
  },
  {
   "cell_type": "code",
   "execution_count": 11,
   "metadata": {
    "execution": {
     "iopub.execute_input": "2021-03-21T14:45:47.147494Z",
     "iopub.status.busy": "2021-03-21T14:45:47.146462Z",
     "iopub.status.idle": "2021-03-21T14:45:47.148150Z",
     "shell.execute_reply": "2021-03-21T14:45:47.148582Z"
    }
   },
   "outputs": [],
   "source": [
    "add = {'location':'California','doses':dataJson[0]['dataValues'][2]}"
   ]
  },
  {
   "cell_type": "code",
   "execution_count": 12,
   "metadata": {
    "execution": {
     "iopub.execute_input": "2021-03-21T14:45:47.155221Z",
     "iopub.status.busy": "2021-03-21T14:45:47.154135Z",
     "iopub.status.idle": "2021-03-21T14:45:47.155762Z",
     "shell.execute_reply": "2021-03-21T14:45:47.156210Z"
    }
   },
   "outputs": [],
   "source": [
    "df = df.append(add, ignore_index=True)"
   ]
  },
  {
   "cell_type": "code",
   "execution_count": 13,
   "metadata": {
    "execution": {
     "iopub.execute_input": "2021-03-21T14:45:47.160850Z",
     "iopub.status.busy": "2021-03-21T14:45:47.159638Z",
     "iopub.status.idle": "2021-03-21T14:45:47.161439Z",
     "shell.execute_reply": "2021-03-21T14:45:47.161880Z"
    }
   },
   "outputs": [],
   "source": [
    "df = df.sort_values(by='location')"
   ]
  },
  {
   "cell_type": "code",
   "execution_count": 14,
   "metadata": {
    "execution": {
     "iopub.execute_input": "2021-03-21T14:45:47.168930Z",
     "iopub.status.busy": "2021-03-21T14:45:47.167611Z",
     "iopub.status.idle": "2021-03-21T14:45:47.169480Z",
     "shell.execute_reply": "2021-03-21T14:45:47.169893Z"
    }
   },
   "outputs": [],
   "source": [
    "df = df[df.location == 'California'].append(df[df.location != 'California']).reset_index(drop=True)"
   ]
  },
  {
   "cell_type": "code",
   "execution_count": null,
   "metadata": {},
   "outputs": [],
   "source": []
  },
  {
   "cell_type": "code",
   "execution_count": 15,
   "metadata": {
    "execution": {
     "iopub.execute_input": "2021-03-21T14:45:47.173012Z",
     "iopub.status.busy": "2021-03-21T14:45:47.172531Z",
     "iopub.status.idle": "2021-03-21T14:45:47.194176Z",
     "shell.execute_reply": "2021-03-21T14:45:47.193549Z"
    }
   },
   "outputs": [],
   "source": [
    "tz = pytz.timezone(\"America/New_York\")"
   ]
  },
  {
   "cell_type": "code",
   "execution_count": 16,
   "metadata": {
    "execution": {
     "iopub.execute_input": "2021-03-21T14:45:47.198379Z",
     "iopub.status.busy": "2021-03-21T14:45:47.197132Z",
     "iopub.status.idle": "2021-03-21T14:45:47.198967Z",
     "shell.execute_reply": "2021-03-21T14:45:47.199395Z"
    }
   },
   "outputs": [],
   "source": [
    "today = datetime.now(tz).date()"
   ]
  },
  {
   "cell_type": "code",
   "execution_count": 17,
   "metadata": {
    "execution": {
     "iopub.execute_input": "2021-03-21T14:45:47.203535Z",
     "iopub.status.busy": "2021-03-21T14:45:47.202646Z",
     "iopub.status.idle": "2021-03-21T14:45:47.204793Z",
     "shell.execute_reply": "2021-03-21T14:45:47.204383Z"
    }
   },
   "outputs": [],
   "source": [
    "data_dir = os.path.join(os.path.abspath(\"\"), \"data\")"
   ]
  },
  {
   "cell_type": "code",
   "execution_count": 18,
   "metadata": {
    "execution": {
     "iopub.execute_input": "2021-03-21T14:45:47.208549Z",
     "iopub.status.busy": "2021-03-21T14:45:47.207972Z",
     "iopub.status.idle": "2021-03-21T14:45:47.212662Z",
     "shell.execute_reply": "2021-03-21T14:45:47.212130Z"
    }
   },
   "outputs": [],
   "source": [
    "df.to_csv(os.path.join(data_dir, f\"{today}.csv\"), index=False)"
   ]
  },
  {
   "cell_type": "code",
   "execution_count": null,
   "metadata": {},
   "outputs": [],
   "source": []
  }
 ],
 "metadata": {
  "kernelspec": {
   "display_name": "Python 3",
   "language": "python",
   "name": "python3"
  },
  "language_info": {
   "codemirror_mode": {
    "name": "ipython",
    "version": 3
   },
   "file_extension": ".py",
   "mimetype": "text/x-python",
   "name": "python",
   "nbconvert_exporter": "python",
   "pygments_lexer": "ipython3",
   "version": "3.8.8"
  }
 },
 "nbformat": 4,
 "nbformat_minor": 4
}
