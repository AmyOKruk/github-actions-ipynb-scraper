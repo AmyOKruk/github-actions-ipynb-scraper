{
 "cells": [
  {
   "cell_type": "markdown",
   "metadata": {},
   "source": [
    "# California COVID vaccinations scrape"
   ]
  },
  {
   "cell_type": "markdown",
   "metadata": {},
   "source": [
    "By [Amy O'Kruk](https://twitter.com/amyokruk)"
   ]
  },
  {
   "cell_type": "markdown",
   "metadata": {},
   "source": [
    "Downloads data on vaccine doses administered by county and statewide from a Tableau-powered dashboard from the California Department of Public Health."
   ]
  },
  {
   "cell_type": "code",
   "execution_count": 1,
   "metadata": {
    "execution": {
     "iopub.execute_input": "2021-03-12T03:44:39.061820Z",
     "iopub.status.busy": "2021-03-12T03:44:39.060312Z",
     "iopub.status.idle": "2021-03-12T03:44:39.486627Z",
     "shell.execute_reply": "2021-03-12T03:44:39.485495Z"
    }
   },
   "outputs": [],
   "source": [
    "import pandas as pd\n",
    "import requests\n",
    "from bs4 import BeautifulSoup\n",
    "import json\n",
    "import re\n",
    "import time\n",
    "from time import gmtime, strftime \n",
    "import os\n",
    "import pytz\n",
    "from datetime import datetime"
   ]
  },
  {
   "cell_type": "markdown",
   "metadata": {},
   "source": [
    "Scrape the dashboard page"
   ]
  },
  {
   "cell_type": "code",
   "execution_count": 2,
   "metadata": {
    "execution": {
     "iopub.execute_input": "2021-03-12T03:44:39.492694Z",
     "iopub.status.busy": "2021-03-12T03:44:39.490252Z",
     "iopub.status.idle": "2021-03-12T03:44:40.599068Z",
     "shell.execute_reply": "2021-03-12T03:44:40.598570Z"
    }
   },
   "outputs": [],
   "source": [
    "url = \"https://public.tableau.com/interactive/views/COVID-19VaccineDashboardPublic/Vaccine?:embed=y&:showVizHome=n&:apiID=host0\"\n",
    "\n",
    "r = requests.get(url)\n",
    "soup = BeautifulSoup(r.text, \"html.parser\")"
   ]
  },
  {
   "cell_type": "code",
   "execution_count": 3,
   "metadata": {
    "execution": {
     "iopub.execute_input": "2021-03-12T03:44:40.604248Z",
     "iopub.status.busy": "2021-03-12T03:44:40.603739Z",
     "iopub.status.idle": "2021-03-12T03:44:40.607614Z",
     "shell.execute_reply": "2021-03-12T03:44:40.607121Z"
    }
   },
   "outputs": [],
   "source": [
    "tableauData = json.loads(soup.find(\"textarea\",{\"id\": \"tsConfigContainer\"}).text)"
   ]
  },
  {
   "cell_type": "markdown",
   "metadata": {},
   "source": [
    "Get the link to the Tableau data"
   ]
  },
  {
   "cell_type": "code",
   "execution_count": 4,
   "metadata": {
    "execution": {
     "iopub.execute_input": "2021-03-12T03:44:40.611714Z",
     "iopub.status.busy": "2021-03-12T03:44:40.610480Z",
     "iopub.status.idle": "2021-03-12T03:44:40.614833Z",
     "shell.execute_reply": "2021-03-12T03:44:40.614382Z"
    }
   },
   "outputs": [],
   "source": [
    "dataUrl = f'https://public.tableau.com{tableauData[\"vizql_root\"]}/bootstrapSession/sessions/{tableauData[\"sessionid\"]}'"
   ]
  },
  {
   "cell_type": "code",
   "execution_count": 5,
   "metadata": {
    "execution": {
     "iopub.execute_input": "2021-03-12T03:44:40.621544Z",
     "iopub.status.busy": "2021-03-12T03:44:40.621024Z",
     "iopub.status.idle": "2021-03-12T03:44:40.822780Z",
     "shell.execute_reply": "2021-03-12T03:44:40.823272Z"
    }
   },
   "outputs": [],
   "source": [
    "r = requests.post(dataUrl, data= {\n",
    "    \"sheet_id\": tableauData[\"sheetId\"],\n",
    "})\n",
    "\n",
    "dataReg = re.search('\\d+;({.*})\\d+;({.*})', r.text, re.MULTILINE)\n",
    "data1 = json.loads(dataReg.group(2))\n",
    "\n",
    "dataJson = data1[\"secondaryInfo\"][\"presModelMap\"][\"dataDictionary\"][\"presModelHolder\"][\"genDataDictionaryPresModel\"][\"dataSegments\"][\"0\"][\"dataColumns\"]"
   ]
  },
  {
   "cell_type": "markdown",
   "metadata": {},
   "source": [
    "Isolate what you want"
   ]
  },
  {
   "cell_type": "code",
   "execution_count": 6,
   "metadata": {
    "execution": {
     "iopub.execute_input": "2021-03-12T03:44:40.827402Z",
     "iopub.status.busy": "2021-03-12T03:44:40.826846Z",
     "iopub.status.idle": "2021-03-12T03:44:40.831389Z",
     "shell.execute_reply": "2021-03-12T03:44:40.830592Z"
    }
   },
   "outputs": [],
   "source": [
    "counties = dataJson[2]['dataValues'][:58]"
   ]
  },
  {
   "cell_type": "code",
   "execution_count": 7,
   "metadata": {
    "execution": {
     "iopub.execute_input": "2021-03-12T03:44:40.834922Z",
     "iopub.status.busy": "2021-03-12T03:44:40.834382Z",
     "iopub.status.idle": "2021-03-12T03:44:40.838321Z",
     "shell.execute_reply": "2021-03-12T03:44:40.837830Z"
    }
   },
   "outputs": [],
   "source": [
    "doses = dataJson[0]['dataValues'][3:61]"
   ]
  },
  {
   "cell_type": "markdown",
   "metadata": {},
   "source": [
    "Data formatting"
   ]
  },
  {
   "cell_type": "code",
   "execution_count": 8,
   "metadata": {
    "execution": {
     "iopub.execute_input": "2021-03-12T03:44:40.841736Z",
     "iopub.status.busy": "2021-03-12T03:44:40.841202Z",
     "iopub.status.idle": "2021-03-12T03:44:40.850635Z",
     "shell.execute_reply": "2021-03-12T03:44:40.850218Z"
    }
   },
   "outputs": [],
   "source": [
    "zipped = dict(zip(counties, doses))"
   ]
  },
  {
   "cell_type": "code",
   "execution_count": 9,
   "metadata": {
    "execution": {
     "iopub.execute_input": "2021-03-12T03:44:40.856666Z",
     "iopub.status.busy": "2021-03-12T03:44:40.856075Z",
     "iopub.status.idle": "2021-03-12T03:44:40.858181Z",
     "shell.execute_reply": "2021-03-12T03:44:40.857674Z"
    }
   },
   "outputs": [],
   "source": [
    "df = pd.Series(zipped).reset_index()"
   ]
  },
  {
   "cell_type": "code",
   "execution_count": 10,
   "metadata": {
    "execution": {
     "iopub.execute_input": "2021-03-12T03:44:40.862398Z",
     "iopub.status.busy": "2021-03-12T03:44:40.861743Z",
     "iopub.status.idle": "2021-03-12T03:44:40.863724Z",
     "shell.execute_reply": "2021-03-12T03:44:40.864239Z"
    }
   },
   "outputs": [],
   "source": [
    "df.columns = ['location','doses']"
   ]
  },
  {
   "cell_type": "markdown",
   "metadata": {},
   "source": [
    "Grab the overall California total"
   ]
  },
  {
   "cell_type": "code",
   "execution_count": 11,
   "metadata": {
    "execution": {
     "iopub.execute_input": "2021-03-12T03:44:40.867967Z",
     "iopub.status.busy": "2021-03-12T03:44:40.867413Z",
     "iopub.status.idle": "2021-03-12T03:44:40.869852Z",
     "shell.execute_reply": "2021-03-12T03:44:40.869360Z"
    }
   },
   "outputs": [],
   "source": [
    "add = {'location':'California','doses':dataJson[0]['dataValues'][2]}"
   ]
  },
  {
   "cell_type": "code",
   "execution_count": 12,
   "metadata": {
    "execution": {
     "iopub.execute_input": "2021-03-12T03:44:40.876247Z",
     "iopub.status.busy": "2021-03-12T03:44:40.875632Z",
     "iopub.status.idle": "2021-03-12T03:44:40.879973Z",
     "shell.execute_reply": "2021-03-12T03:44:40.879506Z"
    }
   },
   "outputs": [],
   "source": [
    "df = df.append(add, ignore_index=True)"
   ]
  },
  {
   "cell_type": "code",
   "execution_count": 13,
   "metadata": {
    "execution": {
     "iopub.execute_input": "2021-03-12T03:44:40.884472Z",
     "iopub.status.busy": "2021-03-12T03:44:40.883951Z",
     "iopub.status.idle": "2021-03-12T03:44:40.887238Z",
     "shell.execute_reply": "2021-03-12T03:44:40.887665Z"
    }
   },
   "outputs": [],
   "source": [
    "df = df.sort_values(by='location')"
   ]
  },
  {
   "cell_type": "code",
   "execution_count": 14,
   "metadata": {
    "execution": {
     "iopub.execute_input": "2021-03-12T03:44:40.894593Z",
     "iopub.status.busy": "2021-03-12T03:44:40.893185Z",
     "iopub.status.idle": "2021-03-12T03:44:40.895201Z",
     "shell.execute_reply": "2021-03-12T03:44:40.895663Z"
    }
   },
   "outputs": [],
   "source": [
    "df = df[df.location == 'California'].append(df[df.location != 'California']).reset_index(drop=True)"
   ]
  },
  {
   "cell_type": "code",
   "execution_count": null,
   "metadata": {},
   "outputs": [],
   "source": []
  },
  {
   "cell_type": "code",
   "execution_count": 15,
   "metadata": {
    "execution": {
     "iopub.execute_input": "2021-03-12T03:44:40.898856Z",
     "iopub.status.busy": "2021-03-12T03:44:40.898337Z",
     "iopub.status.idle": "2021-03-12T03:44:40.917198Z",
     "shell.execute_reply": "2021-03-12T03:44:40.917617Z"
    }
   },
   "outputs": [],
   "source": [
    "tz = pytz.timezone(\"America/New_York\")"
   ]
  },
  {
   "cell_type": "code",
   "execution_count": 16,
   "metadata": {
    "execution": {
     "iopub.execute_input": "2021-03-12T03:44:40.922678Z",
     "iopub.status.busy": "2021-03-12T03:44:40.921065Z",
     "iopub.status.idle": "2021-03-12T03:44:40.923362Z",
     "shell.execute_reply": "2021-03-12T03:44:40.923827Z"
    }
   },
   "outputs": [],
   "source": [
    "today = datetime.now(tz).date()"
   ]
  },
  {
   "cell_type": "code",
   "execution_count": 17,
   "metadata": {
    "execution": {
     "iopub.execute_input": "2021-03-12T03:44:40.928646Z",
     "iopub.status.busy": "2021-03-12T03:44:40.927358Z",
     "iopub.status.idle": "2021-03-12T03:44:40.929247Z",
     "shell.execute_reply": "2021-03-12T03:44:40.929771Z"
    }
   },
   "outputs": [],
   "source": [
    "data_dir = os.path.join(os.path.abspath(\"\"), \"data\")"
   ]
  },
  {
   "cell_type": "code",
   "execution_count": 18,
   "metadata": {
    "execution": {
     "iopub.execute_input": "2021-03-12T03:44:40.934513Z",
     "iopub.status.busy": "2021-03-12T03:44:40.933132Z",
     "iopub.status.idle": "2021-03-12T03:44:40.937714Z",
     "shell.execute_reply": "2021-03-12T03:44:40.938285Z"
    }
   },
   "outputs": [],
   "source": [
    "df.to_csv(os.path.join(data_dir, f\"{today}.csv\"), index=False)"
   ]
  },
  {
   "cell_type": "code",
   "execution_count": null,
   "metadata": {},
   "outputs": [],
   "source": []
  }
 ],
 "metadata": {
  "kernelspec": {
   "display_name": "Python 3",
   "language": "python",
   "name": "python3"
  },
  "language_info": {
   "codemirror_mode": {
    "name": "ipython",
    "version": 3
   },
   "file_extension": ".py",
   "mimetype": "text/x-python",
   "name": "python",
   "nbconvert_exporter": "python",
   "pygments_lexer": "ipython3",
   "version": "3.8.8"
  }
 },
 "nbformat": 4,
 "nbformat_minor": 4
}
