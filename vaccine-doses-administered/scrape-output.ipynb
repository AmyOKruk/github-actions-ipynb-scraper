{
 "cells": [
  {
   "cell_type": "markdown",
   "metadata": {},
   "source": [
    "# California COVID vaccinations scrape"
   ]
  },
  {
   "cell_type": "markdown",
   "metadata": {},
   "source": [
    "By [Amy O'Kruk](https://twitter.com/amyokruk)"
   ]
  },
  {
   "cell_type": "markdown",
   "metadata": {},
   "source": [
    "Downloads data on vaccine doses administered by county and statewide from a Tableau-powered dashboard from the California Department of Public Health."
   ]
  },
  {
   "cell_type": "code",
   "execution_count": 1,
   "metadata": {
    "execution": {
     "iopub.execute_input": "2021-03-10T20:13:43.180906Z",
     "iopub.status.busy": "2021-03-10T20:13:43.180245Z",
     "iopub.status.idle": "2021-03-10T20:13:43.611182Z",
     "shell.execute_reply": "2021-03-10T20:13:43.609961Z"
    }
   },
   "outputs": [],
   "source": [
    "import pandas as pd\n",
    "import requests\n",
    "from bs4 import BeautifulSoup\n",
    "import json\n",
    "import re\n",
    "import time\n",
    "from time import gmtime, strftime \n",
    "import os\n",
    "import pytz\n",
    "from datetime import datetime"
   ]
  },
  {
   "cell_type": "markdown",
   "metadata": {},
   "source": [
    "Scrape the dashboard page"
   ]
  },
  {
   "cell_type": "code",
   "execution_count": 2,
   "metadata": {
    "execution": {
     "iopub.execute_input": "2021-03-10T20:13:43.619528Z",
     "iopub.status.busy": "2021-03-10T20:13:43.618911Z",
     "iopub.status.idle": "2021-03-10T20:13:43.930097Z",
     "shell.execute_reply": "2021-03-10T20:13:43.929571Z"
    }
   },
   "outputs": [],
   "source": [
    "url = \"https://public.tableau.com/interactive/views/COVID-19VaccineDashboardPublic/Vaccine?:embed=y&:showVizHome=n&:apiID=host0\"\n",
    "\n",
    "r = requests.get(url)\n",
    "soup = BeautifulSoup(r.text, \"html.parser\")"
   ]
  },
  {
   "cell_type": "code",
   "execution_count": 3,
   "metadata": {
    "execution": {
     "iopub.execute_input": "2021-03-10T20:13:43.934920Z",
     "iopub.status.busy": "2021-03-10T20:13:43.934421Z",
     "iopub.status.idle": "2021-03-10T20:13:43.937717Z",
     "shell.execute_reply": "2021-03-10T20:13:43.938441Z"
    }
   },
   "outputs": [],
   "source": [
    "tableauData = json.loads(soup.find(\"textarea\",{\"id\": \"tsConfigContainer\"}).text)"
   ]
  },
  {
   "cell_type": "markdown",
   "metadata": {},
   "source": [
    "Get the link to the Tableau data"
   ]
  },
  {
   "cell_type": "code",
   "execution_count": 4,
   "metadata": {
    "execution": {
     "iopub.execute_input": "2021-03-10T20:13:43.942328Z",
     "iopub.status.busy": "2021-03-10T20:13:43.941463Z",
     "iopub.status.idle": "2021-03-10T20:13:43.945871Z",
     "shell.execute_reply": "2021-03-10T20:13:43.945314Z"
    }
   },
   "outputs": [],
   "source": [
    "dataUrl = f'https://public.tableau.com{tableauData[\"vizql_root\"]}/bootstrapSession/sessions/{tableauData[\"sessionid\"]}'"
   ]
  },
  {
   "cell_type": "code",
   "execution_count": 5,
   "metadata": {
    "execution": {
     "iopub.execute_input": "2021-03-10T20:13:43.952521Z",
     "iopub.status.busy": "2021-03-10T20:13:43.952016Z",
     "iopub.status.idle": "2021-03-10T20:13:44.166703Z",
     "shell.execute_reply": "2021-03-10T20:13:44.167175Z"
    }
   },
   "outputs": [],
   "source": [
    "r = requests.post(dataUrl, data= {\n",
    "    \"sheet_id\": tableauData[\"sheetId\"],\n",
    "})\n",
    "\n",
    "dataReg = re.search('\\d+;({.*})\\d+;({.*})', r.text, re.MULTILINE)\n",
    "data1 = json.loads(dataReg.group(2))\n",
    "\n",
    "dataJson = data1[\"secondaryInfo\"][\"presModelMap\"][\"dataDictionary\"][\"presModelHolder\"][\"genDataDictionaryPresModel\"][\"dataSegments\"][\"0\"][\"dataColumns\"]"
   ]
  },
  {
   "cell_type": "markdown",
   "metadata": {},
   "source": [
    "Isolate what you want"
   ]
  },
  {
   "cell_type": "code",
   "execution_count": 6,
   "metadata": {
    "execution": {
     "iopub.execute_input": "2021-03-10T20:13:44.171902Z",
     "iopub.status.busy": "2021-03-10T20:13:44.170956Z",
     "iopub.status.idle": "2021-03-10T20:13:44.173138Z",
     "shell.execute_reply": "2021-03-10T20:13:44.173731Z"
    }
   },
   "outputs": [],
   "source": [
    "counties = dataJson[2]['dataValues'][:58]"
   ]
  },
  {
   "cell_type": "code",
   "execution_count": 7,
   "metadata": {
    "execution": {
     "iopub.execute_input": "2021-03-10T20:13:44.178661Z",
     "iopub.status.busy": "2021-03-10T20:13:44.177217Z",
     "iopub.status.idle": "2021-03-10T20:13:44.179288Z",
     "shell.execute_reply": "2021-03-10T20:13:44.179757Z"
    }
   },
   "outputs": [],
   "source": [
    "doses = dataJson[0]['dataValues'][3:61]"
   ]
  },
  {
   "cell_type": "markdown",
   "metadata": {},
   "source": [
    "Data formatting"
   ]
  },
  {
   "cell_type": "code",
   "execution_count": 8,
   "metadata": {
    "execution": {
     "iopub.execute_input": "2021-03-10T20:13:44.184167Z",
     "iopub.status.busy": "2021-03-10T20:13:44.182958Z",
     "iopub.status.idle": "2021-03-10T20:13:44.184820Z",
     "shell.execute_reply": "2021-03-10T20:13:44.185344Z"
    }
   },
   "outputs": [],
   "source": [
    "zipped = dict(zip(counties, doses))"
   ]
  },
  {
   "cell_type": "code",
   "execution_count": 9,
   "metadata": {
    "execution": {
     "iopub.execute_input": "2021-03-10T20:13:44.191664Z",
     "iopub.status.busy": "2021-03-10T20:13:44.190678Z",
     "iopub.status.idle": "2021-03-10T20:13:44.192931Z",
     "shell.execute_reply": "2021-03-10T20:13:44.193519Z"
    }
   },
   "outputs": [],
   "source": [
    "df = pd.Series(zipped).reset_index()"
   ]
  },
  {
   "cell_type": "code",
   "execution_count": 10,
   "metadata": {
    "execution": {
     "iopub.execute_input": "2021-03-10T20:13:44.198313Z",
     "iopub.status.busy": "2021-03-10T20:13:44.197071Z",
     "iopub.status.idle": "2021-03-10T20:13:44.198949Z",
     "shell.execute_reply": "2021-03-10T20:13:44.199368Z"
    }
   },
   "outputs": [],
   "source": [
    "df.columns = ['location','doses']"
   ]
  },
  {
   "cell_type": "markdown",
   "metadata": {},
   "source": [
    "Grab the overall California total"
   ]
  },
  {
   "cell_type": "code",
   "execution_count": 11,
   "metadata": {
    "execution": {
     "iopub.execute_input": "2021-03-10T20:13:44.204668Z",
     "iopub.status.busy": "2021-03-10T20:13:44.203365Z",
     "iopub.status.idle": "2021-03-10T20:13:44.205274Z",
     "shell.execute_reply": "2021-03-10T20:13:44.205790Z"
    }
   },
   "outputs": [],
   "source": [
    "add = {'location':'California','doses':dataJson[0]['dataValues'][2]}"
   ]
  },
  {
   "cell_type": "code",
   "execution_count": 12,
   "metadata": {
    "execution": {
     "iopub.execute_input": "2021-03-10T20:13:44.217016Z",
     "iopub.status.busy": "2021-03-10T20:13:44.216051Z",
     "iopub.status.idle": "2021-03-10T20:13:44.218542Z",
     "shell.execute_reply": "2021-03-10T20:13:44.218041Z"
    }
   },
   "outputs": [],
   "source": [
    "df = df.append(add, ignore_index=True)"
   ]
  },
  {
   "cell_type": "code",
   "execution_count": 13,
   "metadata": {
    "execution": {
     "iopub.execute_input": "2021-03-10T20:13:44.223901Z",
     "iopub.status.busy": "2021-03-10T20:13:44.222400Z",
     "iopub.status.idle": "2021-03-10T20:13:44.224918Z",
     "shell.execute_reply": "2021-03-10T20:13:44.225478Z"
    }
   },
   "outputs": [],
   "source": [
    "df = df.sort_values(by='location')"
   ]
  },
  {
   "cell_type": "code",
   "execution_count": 14,
   "metadata": {
    "execution": {
     "iopub.execute_input": "2021-03-10T20:13:44.232162Z",
     "iopub.status.busy": "2021-03-10T20:13:44.230854Z",
     "iopub.status.idle": "2021-03-10T20:13:44.233182Z",
     "shell.execute_reply": "2021-03-10T20:13:44.233628Z"
    }
   },
   "outputs": [],
   "source": [
    "df = df[df.location == 'California'].append(df[df.location != 'California']).reset_index(drop=True)"
   ]
  },
  {
   "cell_type": "code",
   "execution_count": null,
   "metadata": {},
   "outputs": [],
   "source": []
  },
  {
   "cell_type": "code",
   "execution_count": 15,
   "metadata": {
    "execution": {
     "iopub.execute_input": "2021-03-10T20:13:44.237429Z",
     "iopub.status.busy": "2021-03-10T20:13:44.236906Z",
     "iopub.status.idle": "2021-03-10T20:13:44.256903Z",
     "shell.execute_reply": "2021-03-10T20:13:44.257336Z"
    }
   },
   "outputs": [],
   "source": [
    "tz = pytz.timezone(\"America/New_York\")"
   ]
  },
  {
   "cell_type": "code",
   "execution_count": 16,
   "metadata": {
    "execution": {
     "iopub.execute_input": "2021-03-10T20:13:44.262100Z",
     "iopub.status.busy": "2021-03-10T20:13:44.260546Z",
     "iopub.status.idle": "2021-03-10T20:13:44.262881Z",
     "shell.execute_reply": "2021-03-10T20:13:44.263721Z"
    }
   },
   "outputs": [],
   "source": [
    "today = datetime.now(tz).date()"
   ]
  },
  {
   "cell_type": "code",
   "execution_count": 17,
   "metadata": {
    "execution": {
     "iopub.execute_input": "2021-03-10T20:13:44.269070Z",
     "iopub.status.busy": "2021-03-10T20:13:44.267593Z",
     "iopub.status.idle": "2021-03-10T20:13:44.269898Z",
     "shell.execute_reply": "2021-03-10T20:13:44.270599Z"
    }
   },
   "outputs": [],
   "source": [
    "data_dir = os.path.join(os.path.abspath(\"\"), \"data\")"
   ]
  },
  {
   "cell_type": "code",
   "execution_count": 18,
   "metadata": {
    "execution": {
     "iopub.execute_input": "2021-03-10T20:13:44.278119Z",
     "iopub.status.busy": "2021-03-10T20:13:44.276518Z",
     "iopub.status.idle": "2021-03-10T20:13:44.278847Z",
     "shell.execute_reply": "2021-03-10T20:13:44.279813Z"
    }
   },
   "outputs": [],
   "source": [
    "df.to_csv(os.path.join(data_dir, f\"{today}.csv\"), index=False)"
   ]
  },
  {
   "cell_type": "code",
   "execution_count": null,
   "metadata": {},
   "outputs": [],
   "source": []
  }
 ],
 "metadata": {
  "kernelspec": {
   "display_name": "Python 3",
   "language": "python",
   "name": "python3"
  },
  "language_info": {
   "codemirror_mode": {
    "name": "ipython",
    "version": 3
   },
   "file_extension": ".py",
   "mimetype": "text/x-python",
   "name": "python",
   "nbconvert_exporter": "python",
   "pygments_lexer": "ipython3",
   "version": "3.8.8"
  }
 },
 "nbformat": 4,
 "nbformat_minor": 4
}
