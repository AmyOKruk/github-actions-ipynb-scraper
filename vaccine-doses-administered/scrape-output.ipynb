{
 "cells": [
  {
   "cell_type": "markdown",
   "metadata": {},
   "source": [
    "# California COVID vaccinations scrape"
   ]
  },
  {
   "cell_type": "markdown",
   "metadata": {},
   "source": [
    "By [Amy O'Kruk](https://twitter.com/amyokruk)"
   ]
  },
  {
   "cell_type": "markdown",
   "metadata": {},
   "source": [
    "Downloads data on vaccine doses administered by county and statewide from a Tableau-powered dashboard from the California Department of Public Health."
   ]
  },
  {
   "cell_type": "code",
   "execution_count": 1,
   "metadata": {
    "execution": {
     "iopub.execute_input": "2021-03-21T03:20:59.938993Z",
     "iopub.status.busy": "2021-03-21T03:20:59.938392Z",
     "iopub.status.idle": "2021-03-21T03:21:00.252799Z",
     "shell.execute_reply": "2021-03-21T03:21:00.251850Z"
    }
   },
   "outputs": [],
   "source": [
    "import pandas as pd\n",
    "import requests\n",
    "from bs4 import BeautifulSoup\n",
    "import json\n",
    "import re\n",
    "import time\n",
    "from time import gmtime, strftime \n",
    "import os\n",
    "import pytz\n",
    "from datetime import datetime"
   ]
  },
  {
   "cell_type": "markdown",
   "metadata": {},
   "source": [
    "Scrape the dashboard page"
   ]
  },
  {
   "cell_type": "code",
   "execution_count": 2,
   "metadata": {
    "execution": {
     "iopub.execute_input": "2021-03-21T03:21:00.259315Z",
     "iopub.status.busy": "2021-03-21T03:21:00.258812Z",
     "iopub.status.idle": "2021-03-21T03:21:01.021402Z",
     "shell.execute_reply": "2021-03-21T03:21:01.020482Z"
    }
   },
   "outputs": [],
   "source": [
    "url = \"https://public.tableau.com/interactive/views/COVID-19VaccineDashboardPublic/Vaccine?:embed=y&:showVizHome=n&:apiID=host0\"\n",
    "\n",
    "r = requests.get(url)\n",
    "soup = BeautifulSoup(r.text, \"html.parser\")"
   ]
  },
  {
   "cell_type": "code",
   "execution_count": 3,
   "metadata": {
    "execution": {
     "iopub.execute_input": "2021-03-21T03:21:01.025709Z",
     "iopub.status.busy": "2021-03-21T03:21:01.025219Z",
     "iopub.status.idle": "2021-03-21T03:21:01.028066Z",
     "shell.execute_reply": "2021-03-21T03:21:01.027693Z"
    }
   },
   "outputs": [],
   "source": [
    "tableauData = json.loads(soup.find(\"textarea\",{\"id\": \"tsConfigContainer\"}).text)"
   ]
  },
  {
   "cell_type": "markdown",
   "metadata": {},
   "source": [
    "Get the link to the Tableau data"
   ]
  },
  {
   "cell_type": "code",
   "execution_count": 4,
   "metadata": {
    "execution": {
     "iopub.execute_input": "2021-03-21T03:21:01.031263Z",
     "iopub.status.busy": "2021-03-21T03:21:01.030750Z",
     "iopub.status.idle": "2021-03-21T03:21:01.033961Z",
     "shell.execute_reply": "2021-03-21T03:21:01.033569Z"
    }
   },
   "outputs": [],
   "source": [
    "dataUrl = f'https://public.tableau.com{tableauData[\"vizql_root\"]}/bootstrapSession/sessions/{tableauData[\"sessionid\"]}'"
   ]
  },
  {
   "cell_type": "code",
   "execution_count": 5,
   "metadata": {
    "execution": {
     "iopub.execute_input": "2021-03-21T03:21:01.039414Z",
     "iopub.status.busy": "2021-03-21T03:21:01.038932Z",
     "iopub.status.idle": "2021-03-21T03:21:13.172844Z",
     "shell.execute_reply": "2021-03-21T03:21:13.172358Z"
    }
   },
   "outputs": [],
   "source": [
    "r = requests.post(dataUrl, data= {\n",
    "    \"sheet_id\": tableauData[\"sheetId\"],\n",
    "})\n",
    "\n",
    "dataReg = re.search('\\d+;({.*})\\d+;({.*})', r.text, re.MULTILINE)\n",
    "data1 = json.loads(dataReg.group(2))\n",
    "\n",
    "dataJson = data1[\"secondaryInfo\"][\"presModelMap\"][\"dataDictionary\"][\"presModelHolder\"][\"genDataDictionaryPresModel\"][\"dataSegments\"][\"0\"][\"dataColumns\"]"
   ]
  },
  {
   "cell_type": "markdown",
   "metadata": {},
   "source": [
    "Isolate what you want"
   ]
  },
  {
   "cell_type": "code",
   "execution_count": 6,
   "metadata": {
    "execution": {
     "iopub.execute_input": "2021-03-21T03:21:13.176277Z",
     "iopub.status.busy": "2021-03-21T03:21:13.175854Z",
     "iopub.status.idle": "2021-03-21T03:21:13.179159Z",
     "shell.execute_reply": "2021-03-21T03:21:13.178766Z"
    }
   },
   "outputs": [],
   "source": [
    "counties = dataJson[2]['dataValues'][:58]"
   ]
  },
  {
   "cell_type": "code",
   "execution_count": 7,
   "metadata": {
    "execution": {
     "iopub.execute_input": "2021-03-21T03:21:13.182006Z",
     "iopub.status.busy": "2021-03-21T03:21:13.181534Z",
     "iopub.status.idle": "2021-03-21T03:21:13.184852Z",
     "shell.execute_reply": "2021-03-21T03:21:13.184403Z"
    }
   },
   "outputs": [],
   "source": [
    "doses = dataJson[0]['dataValues'][3:61]"
   ]
  },
  {
   "cell_type": "markdown",
   "metadata": {},
   "source": [
    "Data formatting"
   ]
  },
  {
   "cell_type": "code",
   "execution_count": 8,
   "metadata": {
    "execution": {
     "iopub.execute_input": "2021-03-21T03:21:13.188430Z",
     "iopub.status.busy": "2021-03-21T03:21:13.187922Z",
     "iopub.status.idle": "2021-03-21T03:21:13.197239Z",
     "shell.execute_reply": "2021-03-21T03:21:13.196833Z"
    }
   },
   "outputs": [],
   "source": [
    "zipped = dict(zip(counties, doses))"
   ]
  },
  {
   "cell_type": "code",
   "execution_count": 9,
   "metadata": {
    "execution": {
     "iopub.execute_input": "2021-03-21T03:21:13.206162Z",
     "iopub.status.busy": "2021-03-21T03:21:13.205683Z",
     "iopub.status.idle": "2021-03-21T03:21:13.222491Z",
     "shell.execute_reply": "2021-03-21T03:21:13.222067Z"
    }
   },
   "outputs": [],
   "source": [
    "df = pd.Series(zipped).reset_index()"
   ]
  },
  {
   "cell_type": "code",
   "execution_count": 10,
   "metadata": {
    "execution": {
     "iopub.execute_input": "2021-03-21T03:21:13.226699Z",
     "iopub.status.busy": "2021-03-21T03:21:13.225591Z",
     "iopub.status.idle": "2021-03-21T03:21:13.227326Z",
     "shell.execute_reply": "2021-03-21T03:21:13.227732Z"
    }
   },
   "outputs": [],
   "source": [
    "df.columns = ['location','doses']"
   ]
  },
  {
   "cell_type": "markdown",
   "metadata": {},
   "source": [
    "Grab the overall California total"
   ]
  },
  {
   "cell_type": "code",
   "execution_count": 11,
   "metadata": {
    "execution": {
     "iopub.execute_input": "2021-03-21T03:21:13.231613Z",
     "iopub.status.busy": "2021-03-21T03:21:13.230607Z",
     "iopub.status.idle": "2021-03-21T03:21:13.232108Z",
     "shell.execute_reply": "2021-03-21T03:21:13.232451Z"
    }
   },
   "outputs": [],
   "source": [
    "add = {'location':'California','doses':dataJson[0]['dataValues'][2]}"
   ]
  },
  {
   "cell_type": "code",
   "execution_count": 12,
   "metadata": {
    "execution": {
     "iopub.execute_input": "2021-03-21T03:21:13.237781Z",
     "iopub.status.busy": "2021-03-21T03:21:13.237419Z",
     "iopub.status.idle": "2021-03-21T03:21:13.239349Z",
     "shell.execute_reply": "2021-03-21T03:21:13.238946Z"
    }
   },
   "outputs": [],
   "source": [
    "df = df.append(add, ignore_index=True)"
   ]
  },
  {
   "cell_type": "code",
   "execution_count": 13,
   "metadata": {
    "execution": {
     "iopub.execute_input": "2021-03-21T03:21:13.242843Z",
     "iopub.status.busy": "2021-03-21T03:21:13.242312Z",
     "iopub.status.idle": "2021-03-21T03:21:13.244143Z",
     "shell.execute_reply": "2021-03-21T03:21:13.243707Z"
    }
   },
   "outputs": [],
   "source": [
    "df = df.sort_values(by='location')"
   ]
  },
  {
   "cell_type": "code",
   "execution_count": 14,
   "metadata": {
    "execution": {
     "iopub.execute_input": "2021-03-21T03:21:13.249020Z",
     "iopub.status.busy": "2021-03-21T03:21:13.248613Z",
     "iopub.status.idle": "2021-03-21T03:21:13.250653Z",
     "shell.execute_reply": "2021-03-21T03:21:13.250171Z"
    }
   },
   "outputs": [],
   "source": [
    "df = df[df.location == 'California'].append(df[df.location != 'California']).reset_index(drop=True)"
   ]
  },
  {
   "cell_type": "code",
   "execution_count": null,
   "metadata": {},
   "outputs": [],
   "source": []
  },
  {
   "cell_type": "code",
   "execution_count": 15,
   "metadata": {
    "execution": {
     "iopub.execute_input": "2021-03-21T03:21:13.253797Z",
     "iopub.status.busy": "2021-03-21T03:21:13.253381Z",
     "iopub.status.idle": "2021-03-21T03:21:13.268298Z",
     "shell.execute_reply": "2021-03-21T03:21:13.268777Z"
    }
   },
   "outputs": [],
   "source": [
    "tz = pytz.timezone(\"America/New_York\")"
   ]
  },
  {
   "cell_type": "code",
   "execution_count": 16,
   "metadata": {
    "execution": {
     "iopub.execute_input": "2021-03-21T03:21:13.273279Z",
     "iopub.status.busy": "2021-03-21T03:21:13.271951Z",
     "iopub.status.idle": "2021-03-21T03:21:13.273836Z",
     "shell.execute_reply": "2021-03-21T03:21:13.274230Z"
    }
   },
   "outputs": [],
   "source": [
    "today = datetime.now(tz).date()"
   ]
  },
  {
   "cell_type": "code",
   "execution_count": 17,
   "metadata": {
    "execution": {
     "iopub.execute_input": "2021-03-21T03:21:13.277852Z",
     "iopub.status.busy": "2021-03-21T03:21:13.277000Z",
     "iopub.status.idle": "2021-03-21T03:21:13.279352Z",
     "shell.execute_reply": "2021-03-21T03:21:13.278844Z"
    }
   },
   "outputs": [],
   "source": [
    "data_dir = os.path.join(os.path.abspath(\"\"), \"data\")"
   ]
  },
  {
   "cell_type": "code",
   "execution_count": 18,
   "metadata": {
    "execution": {
     "iopub.execute_input": "2021-03-21T03:21:13.283348Z",
     "iopub.status.busy": "2021-03-21T03:21:13.282329Z",
     "iopub.status.idle": "2021-03-21T03:21:13.286209Z",
     "shell.execute_reply": "2021-03-21T03:21:13.286491Z"
    }
   },
   "outputs": [],
   "source": [
    "df.to_csv(os.path.join(data_dir, f\"{today}.csv\"), index=False)"
   ]
  },
  {
   "cell_type": "code",
   "execution_count": null,
   "metadata": {},
   "outputs": [],
   "source": []
  }
 ],
 "metadata": {
  "kernelspec": {
   "display_name": "Python 3",
   "language": "python",
   "name": "python3"
  },
  "language_info": {
   "codemirror_mode": {
    "name": "ipython",
    "version": 3
   },
   "file_extension": ".py",
   "mimetype": "text/x-python",
   "name": "python",
   "nbconvert_exporter": "python",
   "pygments_lexer": "ipython3",
   "version": "3.8.8"
  }
 },
 "nbformat": 4,
 "nbformat_minor": 4
}
