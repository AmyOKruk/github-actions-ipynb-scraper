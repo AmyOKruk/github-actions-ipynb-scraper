{
 "cells": [
  {
   "cell_type": "markdown",
   "metadata": {},
   "source": [
    "# California COVID vaccinations scrape"
   ]
  },
  {
   "cell_type": "markdown",
   "metadata": {},
   "source": [
    "By [Amy O'Kruk](https://twitter.com/amyokruk)"
   ]
  },
  {
   "cell_type": "markdown",
   "metadata": {},
   "source": [
    "Downloads data on vaccine doses administered by county and statewide from a Tableau-powered dashboard from the California Department of Public Health."
   ]
  },
  {
   "cell_type": "code",
   "execution_count": 1,
   "metadata": {
    "execution": {
     "iopub.execute_input": "2021-03-14T02:55:19.299343Z",
     "iopub.status.busy": "2021-03-14T02:55:19.298726Z",
     "iopub.status.idle": "2021-03-14T02:55:19.657078Z",
     "shell.execute_reply": "2021-03-14T02:55:19.656522Z"
    }
   },
   "outputs": [],
   "source": [
    "import pandas as pd\n",
    "import requests\n",
    "from bs4 import BeautifulSoup\n",
    "import json\n",
    "import re\n",
    "import time\n",
    "from time import gmtime, strftime \n",
    "import os\n",
    "import pytz\n",
    "from datetime import datetime"
   ]
  },
  {
   "cell_type": "markdown",
   "metadata": {},
   "source": [
    "Scrape the dashboard page"
   ]
  },
  {
   "cell_type": "code",
   "execution_count": 2,
   "metadata": {
    "execution": {
     "iopub.execute_input": "2021-03-14T02:55:19.662736Z",
     "iopub.status.busy": "2021-03-14T02:55:19.660549Z",
     "iopub.status.idle": "2021-03-14T02:55:20.207604Z",
     "shell.execute_reply": "2021-03-14T02:55:20.208050Z"
    }
   },
   "outputs": [],
   "source": [
    "url = \"https://public.tableau.com/interactive/views/COVID-19VaccineDashboardPublic/Vaccine?:embed=y&:showVizHome=n&:apiID=host0\"\n",
    "\n",
    "r = requests.get(url)\n",
    "soup = BeautifulSoup(r.text, \"html.parser\")"
   ]
  },
  {
   "cell_type": "code",
   "execution_count": 3,
   "metadata": {
    "execution": {
     "iopub.execute_input": "2021-03-14T02:55:20.212875Z",
     "iopub.status.busy": "2021-03-14T02:55:20.212394Z",
     "iopub.status.idle": "2021-03-14T02:55:20.215604Z",
     "shell.execute_reply": "2021-03-14T02:55:20.215144Z"
    }
   },
   "outputs": [],
   "source": [
    "tableauData = json.loads(soup.find(\"textarea\",{\"id\": \"tsConfigContainer\"}).text)"
   ]
  },
  {
   "cell_type": "markdown",
   "metadata": {},
   "source": [
    "Get the link to the Tableau data"
   ]
  },
  {
   "cell_type": "code",
   "execution_count": 4,
   "metadata": {
    "execution": {
     "iopub.execute_input": "2021-03-14T02:55:20.218850Z",
     "iopub.status.busy": "2021-03-14T02:55:20.218344Z",
     "iopub.status.idle": "2021-03-14T02:55:20.221944Z",
     "shell.execute_reply": "2021-03-14T02:55:20.221503Z"
    }
   },
   "outputs": [],
   "source": [
    "dataUrl = f'https://public.tableau.com{tableauData[\"vizql_root\"]}/bootstrapSession/sessions/{tableauData[\"sessionid\"]}'"
   ]
  },
  {
   "cell_type": "code",
   "execution_count": 5,
   "metadata": {
    "execution": {
     "iopub.execute_input": "2021-03-14T02:55:20.228162Z",
     "iopub.status.busy": "2021-03-14T02:55:20.227669Z",
     "iopub.status.idle": "2021-03-14T02:55:21.091134Z",
     "shell.execute_reply": "2021-03-14T02:55:21.090420Z"
    }
   },
   "outputs": [],
   "source": [
    "r = requests.post(dataUrl, data= {\n",
    "    \"sheet_id\": tableauData[\"sheetId\"],\n",
    "})\n",
    "\n",
    "dataReg = re.search('\\d+;({.*})\\d+;({.*})', r.text, re.MULTILINE)\n",
    "data1 = json.loads(dataReg.group(2))\n",
    "\n",
    "dataJson = data1[\"secondaryInfo\"][\"presModelMap\"][\"dataDictionary\"][\"presModelHolder\"][\"genDataDictionaryPresModel\"][\"dataSegments\"][\"0\"][\"dataColumns\"]"
   ]
  },
  {
   "cell_type": "markdown",
   "metadata": {},
   "source": [
    "Isolate what you want"
   ]
  },
  {
   "cell_type": "code",
   "execution_count": 6,
   "metadata": {
    "execution": {
     "iopub.execute_input": "2021-03-14T02:55:21.096345Z",
     "iopub.status.busy": "2021-03-14T02:55:21.094974Z",
     "iopub.status.idle": "2021-03-14T02:55:21.096930Z",
     "shell.execute_reply": "2021-03-14T02:55:21.097351Z"
    }
   },
   "outputs": [],
   "source": [
    "counties = dataJson[2]['dataValues'][:58]"
   ]
  },
  {
   "cell_type": "code",
   "execution_count": 7,
   "metadata": {
    "execution": {
     "iopub.execute_input": "2021-03-14T02:55:21.101749Z",
     "iopub.status.busy": "2021-03-14T02:55:21.100676Z",
     "iopub.status.idle": "2021-03-14T02:55:21.102300Z",
     "shell.execute_reply": "2021-03-14T02:55:21.102694Z"
    }
   },
   "outputs": [],
   "source": [
    "doses = dataJson[0]['dataValues'][3:61]"
   ]
  },
  {
   "cell_type": "markdown",
   "metadata": {},
   "source": [
    "Data formatting"
   ]
  },
  {
   "cell_type": "code",
   "execution_count": 8,
   "metadata": {
    "execution": {
     "iopub.execute_input": "2021-03-14T02:55:21.106590Z",
     "iopub.status.busy": "2021-03-14T02:55:21.105644Z",
     "iopub.status.idle": "2021-03-14T02:55:21.107364Z",
     "shell.execute_reply": "2021-03-14T02:55:21.107791Z"
    }
   },
   "outputs": [],
   "source": [
    "zipped = dict(zip(counties, doses))"
   ]
  },
  {
   "cell_type": "code",
   "execution_count": 9,
   "metadata": {
    "execution": {
     "iopub.execute_input": "2021-03-14T02:55:21.113767Z",
     "iopub.status.busy": "2021-03-14T02:55:21.112706Z",
     "iopub.status.idle": "2021-03-14T02:55:21.114356Z",
     "shell.execute_reply": "2021-03-14T02:55:21.114775Z"
    }
   },
   "outputs": [],
   "source": [
    "df = pd.Series(zipped).reset_index()"
   ]
  },
  {
   "cell_type": "code",
   "execution_count": 10,
   "metadata": {
    "execution": {
     "iopub.execute_input": "2021-03-14T02:55:21.118869Z",
     "iopub.status.busy": "2021-03-14T02:55:21.117798Z",
     "iopub.status.idle": "2021-03-14T02:55:21.119458Z",
     "shell.execute_reply": "2021-03-14T02:55:21.119919Z"
    }
   },
   "outputs": [],
   "source": [
    "df.columns = ['location','doses']"
   ]
  },
  {
   "cell_type": "markdown",
   "metadata": {},
   "source": [
    "Grab the overall California total"
   ]
  },
  {
   "cell_type": "code",
   "execution_count": 11,
   "metadata": {
    "execution": {
     "iopub.execute_input": "2021-03-14T02:55:21.123695Z",
     "iopub.status.busy": "2021-03-14T02:55:21.122842Z",
     "iopub.status.idle": "2021-03-14T02:55:21.124585Z",
     "shell.execute_reply": "2021-03-14T02:55:21.125011Z"
    }
   },
   "outputs": [],
   "source": [
    "add = {'location':'California','doses':dataJson[0]['dataValues'][2]}"
   ]
  },
  {
   "cell_type": "code",
   "execution_count": 12,
   "metadata": {
    "execution": {
     "iopub.execute_input": "2021-03-14T02:55:21.131961Z",
     "iopub.status.busy": "2021-03-14T02:55:21.130781Z",
     "iopub.status.idle": "2021-03-14T02:55:21.132615Z",
     "shell.execute_reply": "2021-03-14T02:55:21.133034Z"
    }
   },
   "outputs": [],
   "source": [
    "df = df.append(add, ignore_index=True)"
   ]
  },
  {
   "cell_type": "code",
   "execution_count": 13,
   "metadata": {
    "execution": {
     "iopub.execute_input": "2021-03-14T02:55:21.137730Z",
     "iopub.status.busy": "2021-03-14T02:55:21.136625Z",
     "iopub.status.idle": "2021-03-14T02:55:21.138319Z",
     "shell.execute_reply": "2021-03-14T02:55:21.138739Z"
    }
   },
   "outputs": [],
   "source": [
    "df = df.sort_values(by='location')"
   ]
  },
  {
   "cell_type": "code",
   "execution_count": 14,
   "metadata": {
    "execution": {
     "iopub.execute_input": "2021-03-14T02:55:21.144858Z",
     "iopub.status.busy": "2021-03-14T02:55:21.143662Z",
     "iopub.status.idle": "2021-03-14T02:55:21.145539Z",
     "shell.execute_reply": "2021-03-14T02:55:21.145950Z"
    }
   },
   "outputs": [],
   "source": [
    "df = df[df.location == 'California'].append(df[df.location != 'California']).reset_index(drop=True)"
   ]
  },
  {
   "cell_type": "code",
   "execution_count": null,
   "metadata": {},
   "outputs": [],
   "source": []
  },
  {
   "cell_type": "code",
   "execution_count": 15,
   "metadata": {
    "execution": {
     "iopub.execute_input": "2021-03-14T02:55:21.149264Z",
     "iopub.status.busy": "2021-03-14T02:55:21.148756Z",
     "iopub.status.idle": "2021-03-14T02:55:21.165537Z",
     "shell.execute_reply": "2021-03-14T02:55:21.165031Z"
    }
   },
   "outputs": [],
   "source": [
    "tz = pytz.timezone(\"America/New_York\")"
   ]
  },
  {
   "cell_type": "code",
   "execution_count": 16,
   "metadata": {
    "execution": {
     "iopub.execute_input": "2021-03-14T02:55:21.169378Z",
     "iopub.status.busy": "2021-03-14T02:55:21.168342Z",
     "iopub.status.idle": "2021-03-14T02:55:21.170598Z",
     "shell.execute_reply": "2021-03-14T02:55:21.170115Z"
    }
   },
   "outputs": [],
   "source": [
    "today = datetime.now(tz).date()"
   ]
  },
  {
   "cell_type": "code",
   "execution_count": 17,
   "metadata": {
    "execution": {
     "iopub.execute_input": "2021-03-14T02:55:21.174328Z",
     "iopub.status.busy": "2021-03-14T02:55:21.173440Z",
     "iopub.status.idle": "2021-03-14T02:55:21.175166Z",
     "shell.execute_reply": "2021-03-14T02:55:21.175623Z"
    }
   },
   "outputs": [],
   "source": [
    "data_dir = os.path.join(os.path.abspath(\"\"), \"data\")"
   ]
  },
  {
   "cell_type": "code",
   "execution_count": 18,
   "metadata": {
    "execution": {
     "iopub.execute_input": "2021-03-14T02:55:21.180918Z",
     "iopub.status.busy": "2021-03-14T02:55:21.178673Z",
     "iopub.status.idle": "2021-03-14T02:55:21.183286Z",
     "shell.execute_reply": "2021-03-14T02:55:21.182775Z"
    }
   },
   "outputs": [],
   "source": [
    "df.to_csv(os.path.join(data_dir, f\"{today}.csv\"), index=False)"
   ]
  },
  {
   "cell_type": "code",
   "execution_count": null,
   "metadata": {},
   "outputs": [],
   "source": []
  }
 ],
 "metadata": {
  "kernelspec": {
   "display_name": "Python 3",
   "language": "python",
   "name": "python3"
  },
  "language_info": {
   "codemirror_mode": {
    "name": "ipython",
    "version": 3
   },
   "file_extension": ".py",
   "mimetype": "text/x-python",
   "name": "python",
   "nbconvert_exporter": "python",
   "pygments_lexer": "ipython3",
   "version": "3.8.8"
  }
 },
 "nbformat": 4,
 "nbformat_minor": 4
}
