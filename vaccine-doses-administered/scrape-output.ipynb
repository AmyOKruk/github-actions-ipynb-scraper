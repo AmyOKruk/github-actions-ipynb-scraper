{
 "cells": [
  {
   "cell_type": "markdown",
   "metadata": {},
   "source": [
    "# California COVID vaccinations scrape"
   ]
  },
  {
   "cell_type": "markdown",
   "metadata": {},
   "source": [
    "By [Amy O'Kruk](https://twitter.com/amyokruk)"
   ]
  },
  {
   "cell_type": "markdown",
   "metadata": {},
   "source": [
    "Downloads data on vaccine doses administered by county and statewide from a Tableau-powered dashboard from the California Department of Public Health."
   ]
  },
  {
   "cell_type": "code",
   "execution_count": 1,
   "metadata": {
    "execution": {
     "iopub.execute_input": "2021-03-21T08:47:07.586583Z",
     "iopub.status.busy": "2021-03-21T08:47:07.585202Z",
     "iopub.status.idle": "2021-03-21T08:47:08.038825Z",
     "shell.execute_reply": "2021-03-21T08:47:08.038208Z"
    }
   },
   "outputs": [],
   "source": [
    "import pandas as pd\n",
    "import requests\n",
    "from bs4 import BeautifulSoup\n",
    "import json\n",
    "import re\n",
    "import time\n",
    "from time import gmtime, strftime \n",
    "import os\n",
    "import pytz\n",
    "from datetime import datetime"
   ]
  },
  {
   "cell_type": "markdown",
   "metadata": {},
   "source": [
    "Scrape the dashboard page"
   ]
  },
  {
   "cell_type": "code",
   "execution_count": 2,
   "metadata": {
    "execution": {
     "iopub.execute_input": "2021-03-21T08:47:08.047541Z",
     "iopub.status.busy": "2021-03-21T08:47:08.044005Z",
     "iopub.status.idle": "2021-03-21T08:47:08.950921Z",
     "shell.execute_reply": "2021-03-21T08:47:08.950387Z"
    }
   },
   "outputs": [],
   "source": [
    "url = \"https://public.tableau.com/interactive/views/COVID-19VaccineDashboardPublic/Vaccine?:embed=y&:showVizHome=n&:apiID=host0\"\n",
    "\n",
    "r = requests.get(url)\n",
    "soup = BeautifulSoup(r.text, \"html.parser\")"
   ]
  },
  {
   "cell_type": "code",
   "execution_count": 3,
   "metadata": {
    "execution": {
     "iopub.execute_input": "2021-03-21T08:47:08.956037Z",
     "iopub.status.busy": "2021-03-21T08:47:08.955397Z",
     "iopub.status.idle": "2021-03-21T08:47:08.958813Z",
     "shell.execute_reply": "2021-03-21T08:47:08.959280Z"
    }
   },
   "outputs": [],
   "source": [
    "tableauData = json.loads(soup.find(\"textarea\",{\"id\": \"tsConfigContainer\"}).text)"
   ]
  },
  {
   "cell_type": "markdown",
   "metadata": {},
   "source": [
    "Get the link to the Tableau data"
   ]
  },
  {
   "cell_type": "code",
   "execution_count": 4,
   "metadata": {
    "execution": {
     "iopub.execute_input": "2021-03-21T08:47:08.964969Z",
     "iopub.status.busy": "2021-03-21T08:47:08.963331Z",
     "iopub.status.idle": "2021-03-21T08:47:08.965894Z",
     "shell.execute_reply": "2021-03-21T08:47:08.966462Z"
    }
   },
   "outputs": [],
   "source": [
    "dataUrl = f'https://public.tableau.com{tableauData[\"vizql_root\"]}/bootstrapSession/sessions/{tableauData[\"sessionid\"]}'"
   ]
  },
  {
   "cell_type": "code",
   "execution_count": 5,
   "metadata": {
    "execution": {
     "iopub.execute_input": "2021-03-21T08:47:08.973927Z",
     "iopub.status.busy": "2021-03-21T08:47:08.973304Z",
     "iopub.status.idle": "2021-03-21T08:47:09.227002Z",
     "shell.execute_reply": "2021-03-21T08:47:09.227483Z"
    }
   },
   "outputs": [],
   "source": [
    "r = requests.post(dataUrl, data= {\n",
    "    \"sheet_id\": tableauData[\"sheetId\"],\n",
    "})\n",
    "\n",
    "dataReg = re.search('\\d+;({.*})\\d+;({.*})', r.text, re.MULTILINE)\n",
    "data1 = json.loads(dataReg.group(2))\n",
    "\n",
    "dataJson = data1[\"secondaryInfo\"][\"presModelMap\"][\"dataDictionary\"][\"presModelHolder\"][\"genDataDictionaryPresModel\"][\"dataSegments\"][\"0\"][\"dataColumns\"]"
   ]
  },
  {
   "cell_type": "markdown",
   "metadata": {},
   "source": [
    "Isolate what you want"
   ]
  },
  {
   "cell_type": "code",
   "execution_count": 6,
   "metadata": {
    "execution": {
     "iopub.execute_input": "2021-03-21T08:47:09.234358Z",
     "iopub.status.busy": "2021-03-21T08:47:09.231339Z",
     "iopub.status.idle": "2021-03-21T08:47:09.236019Z",
     "shell.execute_reply": "2021-03-21T08:47:09.235314Z"
    }
   },
   "outputs": [],
   "source": [
    "counties = dataJson[2]['dataValues'][:58]"
   ]
  },
  {
   "cell_type": "code",
   "execution_count": 7,
   "metadata": {
    "execution": {
     "iopub.execute_input": "2021-03-21T08:47:09.241487Z",
     "iopub.status.busy": "2021-03-21T08:47:09.240121Z",
     "iopub.status.idle": "2021-03-21T08:47:09.242168Z",
     "shell.execute_reply": "2021-03-21T08:47:09.242872Z"
    }
   },
   "outputs": [],
   "source": [
    "doses = dataJson[0]['dataValues'][3:61]"
   ]
  },
  {
   "cell_type": "markdown",
   "metadata": {},
   "source": [
    "Data formatting"
   ]
  },
  {
   "cell_type": "code",
   "execution_count": 8,
   "metadata": {
    "execution": {
     "iopub.execute_input": "2021-03-21T08:47:09.248028Z",
     "iopub.status.busy": "2021-03-21T08:47:09.246557Z",
     "iopub.status.idle": "2021-03-21T08:47:09.248682Z",
     "shell.execute_reply": "2021-03-21T08:47:09.249256Z"
    }
   },
   "outputs": [],
   "source": [
    "zipped = dict(zip(counties, doses))"
   ]
  },
  {
   "cell_type": "code",
   "execution_count": 9,
   "metadata": {
    "execution": {
     "iopub.execute_input": "2021-03-21T08:47:09.256842Z",
     "iopub.status.busy": "2021-03-21T08:47:09.255417Z",
     "iopub.status.idle": "2021-03-21T08:47:09.257572Z",
     "shell.execute_reply": "2021-03-21T08:47:09.258164Z"
    }
   },
   "outputs": [],
   "source": [
    "df = pd.Series(zipped).reset_index()"
   ]
  },
  {
   "cell_type": "code",
   "execution_count": 10,
   "metadata": {
    "execution": {
     "iopub.execute_input": "2021-03-21T08:47:09.263218Z",
     "iopub.status.busy": "2021-03-21T08:47:09.261852Z",
     "iopub.status.idle": "2021-03-21T08:47:09.263975Z",
     "shell.execute_reply": "2021-03-21T08:47:09.264491Z"
    }
   },
   "outputs": [],
   "source": [
    "df.columns = ['location','doses']"
   ]
  },
  {
   "cell_type": "markdown",
   "metadata": {},
   "source": [
    "Grab the overall California total"
   ]
  },
  {
   "cell_type": "code",
   "execution_count": 11,
   "metadata": {
    "execution": {
     "iopub.execute_input": "2021-03-21T08:47:09.269586Z",
     "iopub.status.busy": "2021-03-21T08:47:09.268222Z",
     "iopub.status.idle": "2021-03-21T08:47:09.270582Z",
     "shell.execute_reply": "2021-03-21T08:47:09.271252Z"
    }
   },
   "outputs": [],
   "source": [
    "add = {'location':'California','doses':dataJson[0]['dataValues'][2]}"
   ]
  },
  {
   "cell_type": "code",
   "execution_count": 12,
   "metadata": {
    "execution": {
     "iopub.execute_input": "2021-03-21T08:47:09.278713Z",
     "iopub.status.busy": "2021-03-21T08:47:09.278118Z",
     "iopub.status.idle": "2021-03-21T08:47:09.281064Z",
     "shell.execute_reply": "2021-03-21T08:47:09.281622Z"
    }
   },
   "outputs": [],
   "source": [
    "df = df.append(add, ignore_index=True)"
   ]
  },
  {
   "cell_type": "code",
   "execution_count": 13,
   "metadata": {
    "execution": {
     "iopub.execute_input": "2021-03-21T08:47:09.287546Z",
     "iopub.status.busy": "2021-03-21T08:47:09.286105Z",
     "iopub.status.idle": "2021-03-21T08:47:09.288284Z",
     "shell.execute_reply": "2021-03-21T08:47:09.288778Z"
    }
   },
   "outputs": [],
   "source": [
    "df = df.sort_values(by='location')"
   ]
  },
  {
   "cell_type": "code",
   "execution_count": 14,
   "metadata": {
    "execution": {
     "iopub.execute_input": "2021-03-21T08:47:09.296373Z",
     "iopub.status.busy": "2021-03-21T08:47:09.295025Z",
     "iopub.status.idle": "2021-03-21T08:47:09.297035Z",
     "shell.execute_reply": "2021-03-21T08:47:09.297554Z"
    }
   },
   "outputs": [],
   "source": [
    "df = df[df.location == 'California'].append(df[df.location != 'California']).reset_index(drop=True)"
   ]
  },
  {
   "cell_type": "code",
   "execution_count": null,
   "metadata": {},
   "outputs": [],
   "source": []
  },
  {
   "cell_type": "code",
   "execution_count": 15,
   "metadata": {
    "execution": {
     "iopub.execute_input": "2021-03-21T08:47:09.301391Z",
     "iopub.status.busy": "2021-03-21T08:47:09.300778Z",
     "iopub.status.idle": "2021-03-21T08:47:09.325119Z",
     "shell.execute_reply": "2021-03-21T08:47:09.324548Z"
    }
   },
   "outputs": [],
   "source": [
    "tz = pytz.timezone(\"America/New_York\")"
   ]
  },
  {
   "cell_type": "code",
   "execution_count": 16,
   "metadata": {
    "execution": {
     "iopub.execute_input": "2021-03-21T08:47:09.328660Z",
     "iopub.status.busy": "2021-03-21T08:47:09.327348Z",
     "iopub.status.idle": "2021-03-21T08:47:09.332324Z",
     "shell.execute_reply": "2021-03-21T08:47:09.331781Z"
    }
   },
   "outputs": [],
   "source": [
    "today = datetime.now(tz).date()"
   ]
  },
  {
   "cell_type": "code",
   "execution_count": 17,
   "metadata": {
    "execution": {
     "iopub.execute_input": "2021-03-21T08:47:09.337496Z",
     "iopub.status.busy": "2021-03-21T08:47:09.336431Z",
     "iopub.status.idle": "2021-03-21T08:47:09.338617Z",
     "shell.execute_reply": "2021-03-21T08:47:09.339221Z"
    }
   },
   "outputs": [],
   "source": [
    "data_dir = os.path.join(os.path.abspath(\"\"), \"data\")"
   ]
  },
  {
   "cell_type": "code",
   "execution_count": 18,
   "metadata": {
    "execution": {
     "iopub.execute_input": "2021-03-21T08:47:09.344439Z",
     "iopub.status.busy": "2021-03-21T08:47:09.343424Z",
     "iopub.status.idle": "2021-03-21T08:47:09.378333Z",
     "shell.execute_reply": "2021-03-21T08:47:09.377712Z"
    }
   },
   "outputs": [],
   "source": [
    "df.to_csv(os.path.join(data_dir, f\"{today}.csv\"), index=False)"
   ]
  },
  {
   "cell_type": "code",
   "execution_count": null,
   "metadata": {},
   "outputs": [],
   "source": []
  }
 ],
 "metadata": {
  "kernelspec": {
   "display_name": "Python 3",
   "language": "python",
   "name": "python3"
  },
  "language_info": {
   "codemirror_mode": {
    "name": "ipython",
    "version": 3
   },
   "file_extension": ".py",
   "mimetype": "text/x-python",
   "name": "python",
   "nbconvert_exporter": "python",
   "pygments_lexer": "ipython3",
   "version": "3.8.8"
  }
 },
 "nbformat": 4,
 "nbformat_minor": 4
}
