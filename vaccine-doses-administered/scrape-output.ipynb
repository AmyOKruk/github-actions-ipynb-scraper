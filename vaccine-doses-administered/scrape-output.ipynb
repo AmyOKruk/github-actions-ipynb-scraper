{
 "cells": [
  {
   "cell_type": "markdown",
   "metadata": {},
   "source": [
    "# California COVID vaccinations scrape"
   ]
  },
  {
   "cell_type": "markdown",
   "metadata": {},
   "source": [
    "By [Amy O'Kruk](https://twitter.com/amyokruk)"
   ]
  },
  {
   "cell_type": "markdown",
   "metadata": {},
   "source": [
    "Downloads data on vaccine doses administered by county and statewide from a Tableau-powered dashboard from the California Department of Public Health."
   ]
  },
  {
   "cell_type": "code",
   "execution_count": 1,
   "metadata": {
    "execution": {
     "iopub.execute_input": "2021-03-10T02:50:34.198415Z",
     "iopub.status.busy": "2021-03-10T02:50:34.197759Z",
     "iopub.status.idle": "2021-03-10T02:50:34.590121Z",
     "shell.execute_reply": "2021-03-10T02:50:34.589067Z"
    }
   },
   "outputs": [],
   "source": [
    "import pandas as pd\n",
    "import requests\n",
    "from bs4 import BeautifulSoup\n",
    "import json\n",
    "import re\n",
    "import time\n",
    "from time import gmtime, strftime \n",
    "import os\n",
    "import pytz\n",
    "from datetime import datetime"
   ]
  },
  {
   "cell_type": "markdown",
   "metadata": {},
   "source": [
    "Scrape the dashboard page"
   ]
  },
  {
   "cell_type": "code",
   "execution_count": 2,
   "metadata": {
    "execution": {
     "iopub.execute_input": "2021-03-10T02:50:34.596621Z",
     "iopub.status.busy": "2021-03-10T02:50:34.593928Z",
     "iopub.status.idle": "2021-03-10T02:50:34.991596Z",
     "shell.execute_reply": "2021-03-10T02:50:34.991084Z"
    }
   },
   "outputs": [],
   "source": [
    "url = \"https://public.tableau.com/interactive/views/COVID-19VaccineDashboardPublic/Vaccine?:embed=y&:showVizHome=n&:apiID=host0\"\n",
    "\n",
    "r = requests.get(url)\n",
    "soup = BeautifulSoup(r.text, \"html.parser\")"
   ]
  },
  {
   "cell_type": "code",
   "execution_count": 3,
   "metadata": {
    "execution": {
     "iopub.execute_input": "2021-03-10T02:50:34.996476Z",
     "iopub.status.busy": "2021-03-10T02:50:34.995970Z",
     "iopub.status.idle": "2021-03-10T02:50:34.999143Z",
     "shell.execute_reply": "2021-03-10T02:50:34.999649Z"
    }
   },
   "outputs": [],
   "source": [
    "tableauData = json.loads(soup.find(\"textarea\",{\"id\": \"tsConfigContainer\"}).text)"
   ]
  },
  {
   "cell_type": "markdown",
   "metadata": {},
   "source": [
    "Get the link to the Tableau data"
   ]
  },
  {
   "cell_type": "code",
   "execution_count": 4,
   "metadata": {
    "execution": {
     "iopub.execute_input": "2021-03-10T02:50:35.003128Z",
     "iopub.status.busy": "2021-03-10T02:50:35.002604Z",
     "iopub.status.idle": "2021-03-10T02:50:35.006296Z",
     "shell.execute_reply": "2021-03-10T02:50:35.005800Z"
    }
   },
   "outputs": [],
   "source": [
    "dataUrl = f'https://public.tableau.com{tableauData[\"vizql_root\"]}/bootstrapSession/sessions/{tableauData[\"sessionid\"]}'"
   ]
  },
  {
   "cell_type": "code",
   "execution_count": 5,
   "metadata": {
    "execution": {
     "iopub.execute_input": "2021-03-10T02:50:35.013339Z",
     "iopub.status.busy": "2021-03-10T02:50:35.012699Z",
     "iopub.status.idle": "2021-03-10T02:50:35.309523Z",
     "shell.execute_reply": "2021-03-10T02:50:35.309030Z"
    }
   },
   "outputs": [],
   "source": [
    "r = requests.post(dataUrl, data= {\n",
    "    \"sheet_id\": tableauData[\"sheetId\"],\n",
    "})\n",
    "\n",
    "dataReg = re.search('\\d+;({.*})\\d+;({.*})', r.text, re.MULTILINE)\n",
    "data1 = json.loads(dataReg.group(2))\n",
    "\n",
    "dataJson = data1[\"secondaryInfo\"][\"presModelMap\"][\"dataDictionary\"][\"presModelHolder\"][\"genDataDictionaryPresModel\"][\"dataSegments\"][\"0\"][\"dataColumns\"]"
   ]
  },
  {
   "cell_type": "markdown",
   "metadata": {},
   "source": [
    "Isolate what you want"
   ]
  },
  {
   "cell_type": "code",
   "execution_count": 6,
   "metadata": {
    "execution": {
     "iopub.execute_input": "2021-03-10T02:50:35.313804Z",
     "iopub.status.busy": "2021-03-10T02:50:35.312884Z",
     "iopub.status.idle": "2021-03-10T02:50:35.315575Z",
     "shell.execute_reply": "2021-03-10T02:50:35.315146Z"
    }
   },
   "outputs": [],
   "source": [
    "counties = dataJson[2]['dataValues'][:58]"
   ]
  },
  {
   "cell_type": "code",
   "execution_count": 7,
   "metadata": {
    "execution": {
     "iopub.execute_input": "2021-03-10T02:50:35.319849Z",
     "iopub.status.busy": "2021-03-10T02:50:35.319152Z",
     "iopub.status.idle": "2021-03-10T02:50:35.320835Z",
     "shell.execute_reply": "2021-03-10T02:50:35.321484Z"
    }
   },
   "outputs": [],
   "source": [
    "doses = dataJson[0]['dataValues'][3:61]"
   ]
  },
  {
   "cell_type": "markdown",
   "metadata": {},
   "source": [
    "Data formatting"
   ]
  },
  {
   "cell_type": "code",
   "execution_count": 8,
   "metadata": {
    "execution": {
     "iopub.execute_input": "2021-03-10T02:50:35.324942Z",
     "iopub.status.busy": "2021-03-10T02:50:35.324436Z",
     "iopub.status.idle": "2021-03-10T02:50:35.327290Z",
     "shell.execute_reply": "2021-03-10T02:50:35.326653Z"
    }
   },
   "outputs": [],
   "source": [
    "zipped = dict(zip(counties, doses))"
   ]
  },
  {
   "cell_type": "code",
   "execution_count": 9,
   "metadata": {
    "execution": {
     "iopub.execute_input": "2021-03-10T02:50:35.333112Z",
     "iopub.status.busy": "2021-03-10T02:50:35.332609Z",
     "iopub.status.idle": "2021-03-10T02:50:35.334950Z",
     "shell.execute_reply": "2021-03-10T02:50:35.334507Z"
    }
   },
   "outputs": [],
   "source": [
    "df = pd.Series(zipped).reset_index()"
   ]
  },
  {
   "cell_type": "code",
   "execution_count": 10,
   "metadata": {
    "execution": {
     "iopub.execute_input": "2021-03-10T02:50:35.339251Z",
     "iopub.status.busy": "2021-03-10T02:50:35.338719Z",
     "iopub.status.idle": "2021-03-10T02:50:35.341535Z",
     "shell.execute_reply": "2021-03-10T02:50:35.341065Z"
    }
   },
   "outputs": [],
   "source": [
    "df.columns = ['location','doses']"
   ]
  },
  {
   "cell_type": "markdown",
   "metadata": {},
   "source": [
    "Grab the overall California total"
   ]
  },
  {
   "cell_type": "code",
   "execution_count": 11,
   "metadata": {
    "execution": {
     "iopub.execute_input": "2021-03-10T02:50:35.345756Z",
     "iopub.status.busy": "2021-03-10T02:50:35.345180Z",
     "iopub.status.idle": "2021-03-10T02:50:35.346503Z",
     "shell.execute_reply": "2021-03-10T02:50:35.347029Z"
    }
   },
   "outputs": [],
   "source": [
    "add = {'location':'California','doses':dataJson[0]['dataValues'][2]}"
   ]
  },
  {
   "cell_type": "code",
   "execution_count": 12,
   "metadata": {
    "execution": {
     "iopub.execute_input": "2021-03-10T02:50:35.353919Z",
     "iopub.status.busy": "2021-03-10T02:50:35.353412Z",
     "iopub.status.idle": "2021-03-10T02:50:35.355318Z",
     "shell.execute_reply": "2021-03-10T02:50:35.355761Z"
    }
   },
   "outputs": [],
   "source": [
    "df = df.append(add, ignore_index=True)"
   ]
  },
  {
   "cell_type": "code",
   "execution_count": 13,
   "metadata": {
    "execution": {
     "iopub.execute_input": "2021-03-10T02:50:35.360497Z",
     "iopub.status.busy": "2021-03-10T02:50:35.359957Z",
     "iopub.status.idle": "2021-03-10T02:50:35.361948Z",
     "shell.execute_reply": "2021-03-10T02:50:35.362329Z"
    }
   },
   "outputs": [],
   "source": [
    "df = df.sort_values(by='location')"
   ]
  },
  {
   "cell_type": "code",
   "execution_count": 14,
   "metadata": {
    "execution": {
     "iopub.execute_input": "2021-03-10T02:50:35.368261Z",
     "iopub.status.busy": "2021-03-10T02:50:35.367610Z",
     "iopub.status.idle": "2021-03-10T02:50:35.369922Z",
     "shell.execute_reply": "2021-03-10T02:50:35.370353Z"
    }
   },
   "outputs": [],
   "source": [
    "df = df[df.location == 'California'].append(df[df.location != 'California']).reset_index(drop=True)"
   ]
  },
  {
   "cell_type": "code",
   "execution_count": null,
   "metadata": {},
   "outputs": [],
   "source": []
  },
  {
   "cell_type": "code",
   "execution_count": 15,
   "metadata": {
    "execution": {
     "iopub.execute_input": "2021-03-10T02:50:35.374640Z",
     "iopub.status.busy": "2021-03-10T02:50:35.373727Z",
     "iopub.status.idle": "2021-03-10T02:50:35.394156Z",
     "shell.execute_reply": "2021-03-10T02:50:35.394845Z"
    }
   },
   "outputs": [],
   "source": [
    "tz = pytz.timezone(\"America/New_York\")"
   ]
  },
  {
   "cell_type": "code",
   "execution_count": 16,
   "metadata": {
    "execution": {
     "iopub.execute_input": "2021-03-10T02:50:35.400508Z",
     "iopub.status.busy": "2021-03-10T02:50:35.399097Z",
     "iopub.status.idle": "2021-03-10T02:50:35.401151Z",
     "shell.execute_reply": "2021-03-10T02:50:35.401618Z"
    }
   },
   "outputs": [],
   "source": [
    "today = datetime.now(tz).date()"
   ]
  },
  {
   "cell_type": "code",
   "execution_count": 17,
   "metadata": {
    "execution": {
     "iopub.execute_input": "2021-03-10T02:50:35.406418Z",
     "iopub.status.busy": "2021-03-10T02:50:35.404878Z",
     "iopub.status.idle": "2021-03-10T02:50:35.407051Z",
     "shell.execute_reply": "2021-03-10T02:50:35.407490Z"
    }
   },
   "outputs": [],
   "source": [
    "data_dir = os.path.join(os.path.abspath(\"\"), \"data\")"
   ]
  },
  {
   "cell_type": "code",
   "execution_count": 18,
   "metadata": {
    "execution": {
     "iopub.execute_input": "2021-03-10T02:50:35.413491Z",
     "iopub.status.busy": "2021-03-10T02:50:35.410765Z",
     "iopub.status.idle": "2021-03-10T02:50:35.415417Z",
     "shell.execute_reply": "2021-03-10T02:50:35.415812Z"
    }
   },
   "outputs": [],
   "source": [
    "df.to_csv(os.path.join(data_dir, f\"{today}.csv\"), index=False)"
   ]
  },
  {
   "cell_type": "code",
   "execution_count": null,
   "metadata": {},
   "outputs": [],
   "source": []
  }
 ],
 "metadata": {
  "kernelspec": {
   "display_name": "Python 3",
   "language": "python",
   "name": "python3"
  },
  "language_info": {
   "codemirror_mode": {
    "name": "ipython",
    "version": 3
   },
   "file_extension": ".py",
   "mimetype": "text/x-python",
   "name": "python",
   "nbconvert_exporter": "python",
   "pygments_lexer": "ipython3",
   "version": "3.8.8"
  }
 },
 "nbformat": 4,
 "nbformat_minor": 4
}
