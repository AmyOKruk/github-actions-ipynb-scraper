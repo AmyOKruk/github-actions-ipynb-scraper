{
 "cells": [
  {
   "cell_type": "markdown",
   "metadata": {},
   "source": [
    "# California COVID vaccinations scrape"
   ]
  },
  {
   "cell_type": "markdown",
   "metadata": {},
   "source": [
    "By [Amy O'Kruk](https://twitter.com/amyokruk)"
   ]
  },
  {
   "cell_type": "markdown",
   "metadata": {},
   "source": [
    "Downloads data on vaccine doses administered by county and statewide from a Tableau-powered dashboard from the California Department of Public Health."
   ]
  },
  {
   "cell_type": "code",
   "execution_count": 1,
   "metadata": {
    "execution": {
     "iopub.execute_input": "2021-03-13T08:14:47.430824Z",
     "iopub.status.busy": "2021-03-13T08:14:47.430081Z",
     "iopub.status.idle": "2021-03-13T08:14:47.827104Z",
     "shell.execute_reply": "2021-03-13T08:14:47.826527Z"
    }
   },
   "outputs": [],
   "source": [
    "import pandas as pd\n",
    "import requests\n",
    "from bs4 import BeautifulSoup\n",
    "import json\n",
    "import re\n",
    "import time\n",
    "from time import gmtime, strftime \n",
    "import os\n",
    "import pytz\n",
    "from datetime import datetime"
   ]
  },
  {
   "cell_type": "markdown",
   "metadata": {},
   "source": [
    "Scrape the dashboard page"
   ]
  },
  {
   "cell_type": "code",
   "execution_count": 2,
   "metadata": {
    "execution": {
     "iopub.execute_input": "2021-03-13T08:14:47.832945Z",
     "iopub.status.busy": "2021-03-13T08:14:47.830270Z",
     "iopub.status.idle": "2021-03-13T08:14:48.236938Z",
     "shell.execute_reply": "2021-03-13T08:14:48.236023Z"
    }
   },
   "outputs": [],
   "source": [
    "url = \"https://public.tableau.com/interactive/views/COVID-19VaccineDashboardPublic/Vaccine?:embed=y&:showVizHome=n&:apiID=host0\"\n",
    "\n",
    "r = requests.get(url)\n",
    "soup = BeautifulSoup(r.text, \"html.parser\")"
   ]
  },
  {
   "cell_type": "code",
   "execution_count": 3,
   "metadata": {
    "execution": {
     "iopub.execute_input": "2021-03-13T08:14:48.242124Z",
     "iopub.status.busy": "2021-03-13T08:14:48.241508Z",
     "iopub.status.idle": "2021-03-13T08:14:48.245122Z",
     "shell.execute_reply": "2021-03-13T08:14:48.245688Z"
    }
   },
   "outputs": [],
   "source": [
    "tableauData = json.loads(soup.find(\"textarea\",{\"id\": \"tsConfigContainer\"}).text)"
   ]
  },
  {
   "cell_type": "markdown",
   "metadata": {},
   "source": [
    "Get the link to the Tableau data"
   ]
  },
  {
   "cell_type": "code",
   "execution_count": 4,
   "metadata": {
    "execution": {
     "iopub.execute_input": "2021-03-13T08:14:48.249665Z",
     "iopub.status.busy": "2021-03-13T08:14:48.249066Z",
     "iopub.status.idle": "2021-03-13T08:14:48.253034Z",
     "shell.execute_reply": "2021-03-13T08:14:48.252586Z"
    }
   },
   "outputs": [],
   "source": [
    "dataUrl = f'https://public.tableau.com{tableauData[\"vizql_root\"]}/bootstrapSession/sessions/{tableauData[\"sessionid\"]}'"
   ]
  },
  {
   "cell_type": "code",
   "execution_count": 5,
   "metadata": {
    "execution": {
     "iopub.execute_input": "2021-03-13T08:14:48.260441Z",
     "iopub.status.busy": "2021-03-13T08:14:48.259759Z",
     "iopub.status.idle": "2021-03-13T08:14:48.743231Z",
     "shell.execute_reply": "2021-03-13T08:14:48.744269Z"
    }
   },
   "outputs": [],
   "source": [
    "r = requests.post(dataUrl, data= {\n",
    "    \"sheet_id\": tableauData[\"sheetId\"],\n",
    "})\n",
    "\n",
    "dataReg = re.search('\\d+;({.*})\\d+;({.*})', r.text, re.MULTILINE)\n",
    "data1 = json.loads(dataReg.group(2))\n",
    "\n",
    "dataJson = data1[\"secondaryInfo\"][\"presModelMap\"][\"dataDictionary\"][\"presModelHolder\"][\"genDataDictionaryPresModel\"][\"dataSegments\"][\"0\"][\"dataColumns\"]"
   ]
  },
  {
   "cell_type": "markdown",
   "metadata": {},
   "source": [
    "Isolate what you want"
   ]
  },
  {
   "cell_type": "code",
   "execution_count": 6,
   "metadata": {
    "execution": {
     "iopub.execute_input": "2021-03-13T08:14:48.748508Z",
     "iopub.status.busy": "2021-03-13T08:14:48.747827Z",
     "iopub.status.idle": "2021-03-13T08:14:48.751309Z",
     "shell.execute_reply": "2021-03-13T08:14:48.752071Z"
    }
   },
   "outputs": [],
   "source": [
    "counties = dataJson[2]['dataValues'][:58]"
   ]
  },
  {
   "cell_type": "code",
   "execution_count": 7,
   "metadata": {
    "execution": {
     "iopub.execute_input": "2021-03-13T08:14:48.756666Z",
     "iopub.status.busy": "2021-03-13T08:14:48.756099Z",
     "iopub.status.idle": "2021-03-13T08:14:48.765495Z",
     "shell.execute_reply": "2021-03-13T08:14:48.766100Z"
    }
   },
   "outputs": [],
   "source": [
    "doses = dataJson[0]['dataValues'][3:61]"
   ]
  },
  {
   "cell_type": "markdown",
   "metadata": {},
   "source": [
    "Data formatting"
   ]
  },
  {
   "cell_type": "code",
   "execution_count": 8,
   "metadata": {
    "execution": {
     "iopub.execute_input": "2021-03-13T08:14:48.770925Z",
     "iopub.status.busy": "2021-03-13T08:14:48.770273Z",
     "iopub.status.idle": "2021-03-13T08:14:48.774742Z",
     "shell.execute_reply": "2021-03-13T08:14:48.775171Z"
    }
   },
   "outputs": [],
   "source": [
    "zipped = dict(zip(counties, doses))"
   ]
  },
  {
   "cell_type": "code",
   "execution_count": 9,
   "metadata": {
    "execution": {
     "iopub.execute_input": "2021-03-13T08:14:48.780996Z",
     "iopub.status.busy": "2021-03-13T08:14:48.780482Z",
     "iopub.status.idle": "2021-03-13T08:14:48.783625Z",
     "shell.execute_reply": "2021-03-13T08:14:48.784037Z"
    }
   },
   "outputs": [],
   "source": [
    "df = pd.Series(zipped).reset_index()"
   ]
  },
  {
   "cell_type": "code",
   "execution_count": 10,
   "metadata": {
    "execution": {
     "iopub.execute_input": "2021-03-13T08:14:48.787855Z",
     "iopub.status.busy": "2021-03-13T08:14:48.787259Z",
     "iopub.status.idle": "2021-03-13T08:14:48.792382Z",
     "shell.execute_reply": "2021-03-13T08:14:48.791482Z"
    }
   },
   "outputs": [],
   "source": [
    "df.columns = ['location','doses']"
   ]
  },
  {
   "cell_type": "markdown",
   "metadata": {},
   "source": [
    "Grab the overall California total"
   ]
  },
  {
   "cell_type": "code",
   "execution_count": 11,
   "metadata": {
    "execution": {
     "iopub.execute_input": "2021-03-13T08:14:48.796298Z",
     "iopub.status.busy": "2021-03-13T08:14:48.795749Z",
     "iopub.status.idle": "2021-03-13T08:14:48.798914Z",
     "shell.execute_reply": "2021-03-13T08:14:48.799339Z"
    }
   },
   "outputs": [],
   "source": [
    "add = {'location':'California','doses':dataJson[0]['dataValues'][2]}"
   ]
  },
  {
   "cell_type": "code",
   "execution_count": 12,
   "metadata": {
    "execution": {
     "iopub.execute_input": "2021-03-13T08:14:48.811158Z",
     "iopub.status.busy": "2021-03-13T08:14:48.808269Z",
     "iopub.status.idle": "2021-03-13T08:14:48.811744Z",
     "shell.execute_reply": "2021-03-13T08:14:48.812168Z"
    }
   },
   "outputs": [],
   "source": [
    "df = df.append(add, ignore_index=True)"
   ]
  },
  {
   "cell_type": "code",
   "execution_count": 13,
   "metadata": {
    "execution": {
     "iopub.execute_input": "2021-03-13T08:14:48.817548Z",
     "iopub.status.busy": "2021-03-13T08:14:48.816032Z",
     "iopub.status.idle": "2021-03-13T08:14:48.818183Z",
     "shell.execute_reply": "2021-03-13T08:14:48.818630Z"
    }
   },
   "outputs": [],
   "source": [
    "df = df.sort_values(by='location')"
   ]
  },
  {
   "cell_type": "code",
   "execution_count": 14,
   "metadata": {
    "execution": {
     "iopub.execute_input": "2021-03-13T08:14:48.828333Z",
     "iopub.status.busy": "2021-03-13T08:14:48.827059Z",
     "iopub.status.idle": "2021-03-13T08:14:48.828931Z",
     "shell.execute_reply": "2021-03-13T08:14:48.829355Z"
    }
   },
   "outputs": [],
   "source": [
    "df = df[df.location == 'California'].append(df[df.location != 'California']).reset_index(drop=True)"
   ]
  },
  {
   "cell_type": "code",
   "execution_count": null,
   "metadata": {},
   "outputs": [],
   "source": []
  },
  {
   "cell_type": "code",
   "execution_count": 15,
   "metadata": {
    "execution": {
     "iopub.execute_input": "2021-03-13T08:14:48.833121Z",
     "iopub.status.busy": "2021-03-13T08:14:48.832609Z",
     "iopub.status.idle": "2021-03-13T08:14:48.851753Z",
     "shell.execute_reply": "2021-03-13T08:14:48.852295Z"
    }
   },
   "outputs": [],
   "source": [
    "tz = pytz.timezone(\"America/New_York\")"
   ]
  },
  {
   "cell_type": "code",
   "execution_count": 16,
   "metadata": {
    "execution": {
     "iopub.execute_input": "2021-03-13T08:14:48.857022Z",
     "iopub.status.busy": "2021-03-13T08:14:48.855756Z",
     "iopub.status.idle": "2021-03-13T08:14:48.857817Z",
     "shell.execute_reply": "2021-03-13T08:14:48.858495Z"
    }
   },
   "outputs": [],
   "source": [
    "today = datetime.now(tz).date()"
   ]
  },
  {
   "cell_type": "code",
   "execution_count": 17,
   "metadata": {
    "execution": {
     "iopub.execute_input": "2021-03-13T08:14:48.863219Z",
     "iopub.status.busy": "2021-03-13T08:14:48.861788Z",
     "iopub.status.idle": "2021-03-13T08:14:48.863841Z",
     "shell.execute_reply": "2021-03-13T08:14:48.864278Z"
    }
   },
   "outputs": [],
   "source": [
    "data_dir = os.path.join(os.path.abspath(\"\"), \"data\")"
   ]
  },
  {
   "cell_type": "code",
   "execution_count": 18,
   "metadata": {
    "execution": {
     "iopub.execute_input": "2021-03-13T08:14:48.870685Z",
     "iopub.status.busy": "2021-03-13T08:14:48.869466Z",
     "iopub.status.idle": "2021-03-13T08:14:48.873721Z",
     "shell.execute_reply": "2021-03-13T08:14:48.873146Z"
    }
   },
   "outputs": [],
   "source": [
    "df.to_csv(os.path.join(data_dir, f\"{today}.csv\"), index=False)"
   ]
  },
  {
   "cell_type": "code",
   "execution_count": null,
   "metadata": {},
   "outputs": [],
   "source": []
  }
 ],
 "metadata": {
  "kernelspec": {
   "display_name": "Python 3",
   "language": "python",
   "name": "python3"
  },
  "language_info": {
   "codemirror_mode": {
    "name": "ipython",
    "version": 3
   },
   "file_extension": ".py",
   "mimetype": "text/x-python",
   "name": "python",
   "nbconvert_exporter": "python",
   "pygments_lexer": "ipython3",
   "version": "3.8.8"
  }
 },
 "nbformat": 4,
 "nbformat_minor": 4
}
