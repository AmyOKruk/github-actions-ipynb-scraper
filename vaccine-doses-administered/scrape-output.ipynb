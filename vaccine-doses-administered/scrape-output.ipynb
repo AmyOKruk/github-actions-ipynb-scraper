{
 "cells": [
  {
   "cell_type": "markdown",
   "metadata": {},
   "source": [
    "# California COVID vaccinations scrape"
   ]
  },
  {
   "cell_type": "markdown",
   "metadata": {},
   "source": [
    "By [Amy O'Kruk](https://twitter.com/amyokruk)"
   ]
  },
  {
   "cell_type": "markdown",
   "metadata": {},
   "source": [
    "Downloads data on vaccine doses administered by county and statewide from a Tableau-powered dashboard from the California Department of Public Health."
   ]
  },
  {
   "cell_type": "code",
   "execution_count": 1,
   "metadata": {
    "execution": {
     "iopub.execute_input": "2021-03-11T08:15:12.923071Z",
     "iopub.status.busy": "2021-03-11T08:15:12.922227Z",
     "iopub.status.idle": "2021-03-11T08:15:13.345359Z",
     "shell.execute_reply": "2021-03-11T08:15:13.344311Z"
    }
   },
   "outputs": [],
   "source": [
    "import pandas as pd\n",
    "import requests\n",
    "from bs4 import BeautifulSoup\n",
    "import json\n",
    "import re\n",
    "import time\n",
    "from time import gmtime, strftime \n",
    "import os\n",
    "import pytz\n",
    "from datetime import datetime"
   ]
  },
  {
   "cell_type": "markdown",
   "metadata": {},
   "source": [
    "Scrape the dashboard page"
   ]
  },
  {
   "cell_type": "code",
   "execution_count": 2,
   "metadata": {
    "execution": {
     "iopub.execute_input": "2021-03-11T08:15:13.351874Z",
     "iopub.status.busy": "2021-03-11T08:15:13.349274Z",
     "iopub.status.idle": "2021-03-11T08:15:13.670660Z",
     "shell.execute_reply": "2021-03-11T08:15:13.669244Z"
    }
   },
   "outputs": [],
   "source": [
    "url = \"https://public.tableau.com/interactive/views/COVID-19VaccineDashboardPublic/Vaccine?:embed=y&:showVizHome=n&:apiID=host0\"\n",
    "\n",
    "r = requests.get(url)\n",
    "soup = BeautifulSoup(r.text, \"html.parser\")"
   ]
  },
  {
   "cell_type": "code",
   "execution_count": 3,
   "metadata": {
    "execution": {
     "iopub.execute_input": "2021-03-11T08:15:13.675697Z",
     "iopub.status.busy": "2021-03-11T08:15:13.675177Z",
     "iopub.status.idle": "2021-03-11T08:15:13.678676Z",
     "shell.execute_reply": "2021-03-11T08:15:13.679194Z"
    }
   },
   "outputs": [],
   "source": [
    "tableauData = json.loads(soup.find(\"textarea\",{\"id\": \"tsConfigContainer\"}).text)"
   ]
  },
  {
   "cell_type": "markdown",
   "metadata": {},
   "source": [
    "Get the link to the Tableau data"
   ]
  },
  {
   "cell_type": "code",
   "execution_count": 4,
   "metadata": {
    "execution": {
     "iopub.execute_input": "2021-03-11T08:15:13.684082Z",
     "iopub.status.busy": "2021-03-11T08:15:13.683425Z",
     "iopub.status.idle": "2021-03-11T08:15:13.689556Z",
     "shell.execute_reply": "2021-03-11T08:15:13.688927Z"
    }
   },
   "outputs": [],
   "source": [
    "dataUrl = f'https://public.tableau.com{tableauData[\"vizql_root\"]}/bootstrapSession/sessions/{tableauData[\"sessionid\"]}'"
   ]
  },
  {
   "cell_type": "code",
   "execution_count": 5,
   "metadata": {
    "execution": {
     "iopub.execute_input": "2021-03-11T08:15:13.696396Z",
     "iopub.status.busy": "2021-03-11T08:15:13.695549Z",
     "iopub.status.idle": "2021-03-11T08:15:14.192009Z",
     "shell.execute_reply": "2021-03-11T08:15:14.192547Z"
    }
   },
   "outputs": [],
   "source": [
    "r = requests.post(dataUrl, data= {\n",
    "    \"sheet_id\": tableauData[\"sheetId\"],\n",
    "})\n",
    "\n",
    "dataReg = re.search('\\d+;({.*})\\d+;({.*})', r.text, re.MULTILINE)\n",
    "data1 = json.loads(dataReg.group(2))\n",
    "\n",
    "dataJson = data1[\"secondaryInfo\"][\"presModelMap\"][\"dataDictionary\"][\"presModelHolder\"][\"genDataDictionaryPresModel\"][\"dataSegments\"][\"0\"][\"dataColumns\"]"
   ]
  },
  {
   "cell_type": "markdown",
   "metadata": {},
   "source": [
    "Isolate what you want"
   ]
  },
  {
   "cell_type": "code",
   "execution_count": 6,
   "metadata": {
    "execution": {
     "iopub.execute_input": "2021-03-11T08:15:14.196509Z",
     "iopub.status.busy": "2021-03-11T08:15:14.195866Z",
     "iopub.status.idle": "2021-03-11T08:15:14.199531Z",
     "shell.execute_reply": "2021-03-11T08:15:14.198405Z"
    }
   },
   "outputs": [],
   "source": [
    "counties = dataJson[2]['dataValues'][:58]"
   ]
  },
  {
   "cell_type": "code",
   "execution_count": 7,
   "metadata": {
    "execution": {
     "iopub.execute_input": "2021-03-11T08:15:14.203504Z",
     "iopub.status.busy": "2021-03-11T08:15:14.202983Z",
     "iopub.status.idle": "2021-03-11T08:15:14.207042Z",
     "shell.execute_reply": "2021-03-11T08:15:14.206547Z"
    }
   },
   "outputs": [],
   "source": [
    "doses = dataJson[0]['dataValues'][3:61]"
   ]
  },
  {
   "cell_type": "markdown",
   "metadata": {},
   "source": [
    "Data formatting"
   ]
  },
  {
   "cell_type": "code",
   "execution_count": 8,
   "metadata": {
    "execution": {
     "iopub.execute_input": "2021-03-11T08:15:14.210706Z",
     "iopub.status.busy": "2021-03-11T08:15:14.210143Z",
     "iopub.status.idle": "2021-03-11T08:15:14.214010Z",
     "shell.execute_reply": "2021-03-11T08:15:14.214591Z"
    }
   },
   "outputs": [],
   "source": [
    "zipped = dict(zip(counties, doses))"
   ]
  },
  {
   "cell_type": "code",
   "execution_count": 9,
   "metadata": {
    "execution": {
     "iopub.execute_input": "2021-03-11T08:15:14.220776Z",
     "iopub.status.busy": "2021-03-11T08:15:14.220242Z",
     "iopub.status.idle": "2021-03-11T08:15:14.223707Z",
     "shell.execute_reply": "2021-03-11T08:15:14.224204Z"
    }
   },
   "outputs": [],
   "source": [
    "df = pd.Series(zipped).reset_index()"
   ]
  },
  {
   "cell_type": "code",
   "execution_count": 10,
   "metadata": {
    "execution": {
     "iopub.execute_input": "2021-03-11T08:15:14.228311Z",
     "iopub.status.busy": "2021-03-11T08:15:14.227607Z",
     "iopub.status.idle": "2021-03-11T08:15:14.231031Z",
     "shell.execute_reply": "2021-03-11T08:15:14.231912Z"
    }
   },
   "outputs": [],
   "source": [
    "df.columns = ['location','doses']"
   ]
  },
  {
   "cell_type": "markdown",
   "metadata": {},
   "source": [
    "Grab the overall California total"
   ]
  },
  {
   "cell_type": "code",
   "execution_count": 11,
   "metadata": {
    "execution": {
     "iopub.execute_input": "2021-03-11T08:15:14.235647Z",
     "iopub.status.busy": "2021-03-11T08:15:14.235126Z",
     "iopub.status.idle": "2021-03-11T08:15:14.238227Z",
     "shell.execute_reply": "2021-03-11T08:15:14.239105Z"
    }
   },
   "outputs": [],
   "source": [
    "add = {'location':'California','doses':dataJson[0]['dataValues'][2]}"
   ]
  },
  {
   "cell_type": "code",
   "execution_count": 12,
   "metadata": {
    "execution": {
     "iopub.execute_input": "2021-03-11T08:15:14.246685Z",
     "iopub.status.busy": "2021-03-11T08:15:14.246150Z",
     "iopub.status.idle": "2021-03-11T08:15:14.249521Z",
     "shell.execute_reply": "2021-03-11T08:15:14.249975Z"
    }
   },
   "outputs": [],
   "source": [
    "df = df.append(add, ignore_index=True)"
   ]
  },
  {
   "cell_type": "code",
   "execution_count": 13,
   "metadata": {
    "execution": {
     "iopub.execute_input": "2021-03-11T08:15:14.254452Z",
     "iopub.status.busy": "2021-03-11T08:15:14.253920Z",
     "iopub.status.idle": "2021-03-11T08:15:14.257929Z",
     "shell.execute_reply": "2021-03-11T08:15:14.257156Z"
    }
   },
   "outputs": [],
   "source": [
    "df = df.sort_values(by='location')"
   ]
  },
  {
   "cell_type": "code",
   "execution_count": 14,
   "metadata": {
    "execution": {
     "iopub.execute_input": "2021-03-11T08:15:14.264111Z",
     "iopub.status.busy": "2021-03-11T08:15:14.263613Z",
     "iopub.status.idle": "2021-03-11T08:15:14.267236Z",
     "shell.execute_reply": "2021-03-11T08:15:14.266792Z"
    }
   },
   "outputs": [],
   "source": [
    "df = df[df.location == 'California'].append(df[df.location != 'California']).reset_index(drop=True)"
   ]
  },
  {
   "cell_type": "code",
   "execution_count": null,
   "metadata": {},
   "outputs": [],
   "source": []
  },
  {
   "cell_type": "code",
   "execution_count": 15,
   "metadata": {
    "execution": {
     "iopub.execute_input": "2021-03-11T08:15:14.270559Z",
     "iopub.status.busy": "2021-03-11T08:15:14.270060Z",
     "iopub.status.idle": "2021-03-11T08:15:14.292035Z",
     "shell.execute_reply": "2021-03-11T08:15:14.291225Z"
    }
   },
   "outputs": [],
   "source": [
    "tz = pytz.timezone(\"America/New_York\")"
   ]
  },
  {
   "cell_type": "code",
   "execution_count": 16,
   "metadata": {
    "execution": {
     "iopub.execute_input": "2021-03-11T08:15:14.296612Z",
     "iopub.status.busy": "2021-03-11T08:15:14.296037Z",
     "iopub.status.idle": "2021-03-11T08:15:14.299932Z",
     "shell.execute_reply": "2021-03-11T08:15:14.299485Z"
    }
   },
   "outputs": [],
   "source": [
    "today = datetime.now(tz).date()"
   ]
  },
  {
   "cell_type": "code",
   "execution_count": 17,
   "metadata": {
    "execution": {
     "iopub.execute_input": "2021-03-11T08:15:14.304491Z",
     "iopub.status.busy": "2021-03-11T08:15:14.303244Z",
     "iopub.status.idle": "2021-03-11T08:15:14.308841Z",
     "shell.execute_reply": "2021-03-11T08:15:14.308218Z"
    }
   },
   "outputs": [],
   "source": [
    "data_dir = os.path.join(os.path.abspath(\"\"), \"data\")"
   ]
  },
  {
   "cell_type": "code",
   "execution_count": 18,
   "metadata": {
    "execution": {
     "iopub.execute_input": "2021-03-11T08:15:14.314344Z",
     "iopub.status.busy": "2021-03-11T08:15:14.312268Z",
     "iopub.status.idle": "2021-03-11T08:15:14.317629Z",
     "shell.execute_reply": "2021-03-11T08:15:14.318107Z"
    }
   },
   "outputs": [],
   "source": [
    "df.to_csv(os.path.join(data_dir, f\"{today}.csv\"), index=False)"
   ]
  },
  {
   "cell_type": "code",
   "execution_count": null,
   "metadata": {},
   "outputs": [],
   "source": []
  }
 ],
 "metadata": {
  "kernelspec": {
   "display_name": "Python 3",
   "language": "python",
   "name": "python3"
  },
  "language_info": {
   "codemirror_mode": {
    "name": "ipython",
    "version": 3
   },
   "file_extension": ".py",
   "mimetype": "text/x-python",
   "name": "python",
   "nbconvert_exporter": "python",
   "pygments_lexer": "ipython3",
   "version": "3.8.8"
  }
 },
 "nbformat": 4,
 "nbformat_minor": 4
}
