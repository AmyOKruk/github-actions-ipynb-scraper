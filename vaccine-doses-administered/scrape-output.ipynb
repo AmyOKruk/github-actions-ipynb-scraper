{
 "cells": [
  {
   "cell_type": "markdown",
   "metadata": {},
   "source": [
    "# California COVID vaccinations scrape"
   ]
  },
  {
   "cell_type": "markdown",
   "metadata": {},
   "source": [
    "By [Amy O'Kruk](https://twitter.com/amyokruk)"
   ]
  },
  {
   "cell_type": "markdown",
   "metadata": {},
   "source": [
    "Downloads data on vaccine doses administered by county and statewide from a Tableau-powered dashboard from the California Department of Public Health."
   ]
  },
  {
   "cell_type": "code",
   "execution_count": 1,
   "metadata": {
    "execution": {
     "iopub.execute_input": "2021-03-20T08:15:06.863011Z",
     "iopub.status.busy": "2021-03-20T08:15:06.862319Z",
     "iopub.status.idle": "2021-03-20T08:15:07.268656Z",
     "shell.execute_reply": "2021-03-20T08:15:07.267731Z"
    }
   },
   "outputs": [],
   "source": [
    "import pandas as pd\n",
    "import requests\n",
    "from bs4 import BeautifulSoup\n",
    "import json\n",
    "import re\n",
    "import time\n",
    "from time import gmtime, strftime \n",
    "import os\n",
    "import pytz\n",
    "from datetime import datetime"
   ]
  },
  {
   "cell_type": "markdown",
   "metadata": {},
   "source": [
    "Scrape the dashboard page"
   ]
  },
  {
   "cell_type": "code",
   "execution_count": 2,
   "metadata": {
    "execution": {
     "iopub.execute_input": "2021-03-20T08:15:07.276669Z",
     "iopub.status.busy": "2021-03-20T08:15:07.276037Z",
     "iopub.status.idle": "2021-03-20T08:15:07.486428Z",
     "shell.execute_reply": "2021-03-20T08:15:07.485515Z"
    }
   },
   "outputs": [],
   "source": [
    "url = \"https://public.tableau.com/interactive/views/COVID-19VaccineDashboardPublic/Vaccine?:embed=y&:showVizHome=n&:apiID=host0\"\n",
    "\n",
    "r = requests.get(url)\n",
    "soup = BeautifulSoup(r.text, \"html.parser\")"
   ]
  },
  {
   "cell_type": "code",
   "execution_count": 3,
   "metadata": {
    "execution": {
     "iopub.execute_input": "2021-03-20T08:15:07.491862Z",
     "iopub.status.busy": "2021-03-20T08:15:07.491079Z",
     "iopub.status.idle": "2021-03-20T08:15:07.495116Z",
     "shell.execute_reply": "2021-03-20T08:15:07.495667Z"
    }
   },
   "outputs": [],
   "source": [
    "tableauData = json.loads(soup.find(\"textarea\",{\"id\": \"tsConfigContainer\"}).text)"
   ]
  },
  {
   "cell_type": "markdown",
   "metadata": {},
   "source": [
    "Get the link to the Tableau data"
   ]
  },
  {
   "cell_type": "code",
   "execution_count": 4,
   "metadata": {
    "execution": {
     "iopub.execute_input": "2021-03-20T08:15:07.499723Z",
     "iopub.status.busy": "2021-03-20T08:15:07.499083Z",
     "iopub.status.idle": "2021-03-20T08:15:07.502409Z",
     "shell.execute_reply": "2021-03-20T08:15:07.502842Z"
    }
   },
   "outputs": [],
   "source": [
    "dataUrl = f'https://public.tableau.com{tableauData[\"vizql_root\"]}/bootstrapSession/sessions/{tableauData[\"sessionid\"]}'"
   ]
  },
  {
   "cell_type": "code",
   "execution_count": 5,
   "metadata": {
    "execution": {
     "iopub.execute_input": "2021-03-20T08:15:07.511082Z",
     "iopub.status.busy": "2021-03-20T08:15:07.510283Z",
     "iopub.status.idle": "2021-03-20T08:15:07.690661Z",
     "shell.execute_reply": "2021-03-20T08:15:07.690044Z"
    }
   },
   "outputs": [],
   "source": [
    "r = requests.post(dataUrl, data= {\n",
    "    \"sheet_id\": tableauData[\"sheetId\"],\n",
    "})\n",
    "\n",
    "dataReg = re.search('\\d+;({.*})\\d+;({.*})', r.text, re.MULTILINE)\n",
    "data1 = json.loads(dataReg.group(2))\n",
    "\n",
    "dataJson = data1[\"secondaryInfo\"][\"presModelMap\"][\"dataDictionary\"][\"presModelHolder\"][\"genDataDictionaryPresModel\"][\"dataSegments\"][\"0\"][\"dataColumns\"]"
   ]
  },
  {
   "cell_type": "markdown",
   "metadata": {},
   "source": [
    "Isolate what you want"
   ]
  },
  {
   "cell_type": "code",
   "execution_count": 6,
   "metadata": {
    "execution": {
     "iopub.execute_input": "2021-03-20T08:15:07.695859Z",
     "iopub.status.busy": "2021-03-20T08:15:07.694577Z",
     "iopub.status.idle": "2021-03-20T08:15:07.696596Z",
     "shell.execute_reply": "2021-03-20T08:15:07.697082Z"
    }
   },
   "outputs": [],
   "source": [
    "counties = dataJson[2]['dataValues'][:58]"
   ]
  },
  {
   "cell_type": "code",
   "execution_count": 7,
   "metadata": {
    "execution": {
     "iopub.execute_input": "2021-03-20T08:15:07.702286Z",
     "iopub.status.busy": "2021-03-20T08:15:07.700703Z",
     "iopub.status.idle": "2021-03-20T08:15:07.702881Z",
     "shell.execute_reply": "2021-03-20T08:15:07.703332Z"
    }
   },
   "outputs": [],
   "source": [
    "doses = dataJson[0]['dataValues'][3:61]"
   ]
  },
  {
   "cell_type": "markdown",
   "metadata": {},
   "source": [
    "Data formatting"
   ]
  },
  {
   "cell_type": "code",
   "execution_count": 8,
   "metadata": {
    "execution": {
     "iopub.execute_input": "2021-03-20T08:15:07.707920Z",
     "iopub.status.busy": "2021-03-20T08:15:07.706579Z",
     "iopub.status.idle": "2021-03-20T08:15:07.708619Z",
     "shell.execute_reply": "2021-03-20T08:15:07.709196Z"
    }
   },
   "outputs": [],
   "source": [
    "zipped = dict(zip(counties, doses))"
   ]
  },
  {
   "cell_type": "code",
   "execution_count": 9,
   "metadata": {
    "execution": {
     "iopub.execute_input": "2021-03-20T08:15:07.716765Z",
     "iopub.status.busy": "2021-03-20T08:15:07.715437Z",
     "iopub.status.idle": "2021-03-20T08:15:07.717402Z",
     "shell.execute_reply": "2021-03-20T08:15:07.717905Z"
    }
   },
   "outputs": [],
   "source": [
    "df = pd.Series(zipped).reset_index()"
   ]
  },
  {
   "cell_type": "code",
   "execution_count": 10,
   "metadata": {
    "execution": {
     "iopub.execute_input": "2021-03-20T08:15:07.723727Z",
     "iopub.status.busy": "2021-03-20T08:15:07.721854Z",
     "iopub.status.idle": "2021-03-20T08:15:07.724402Z",
     "shell.execute_reply": "2021-03-20T08:15:07.724904Z"
    }
   },
   "outputs": [],
   "source": [
    "df.columns = ['location','doses']"
   ]
  },
  {
   "cell_type": "markdown",
   "metadata": {},
   "source": [
    "Grab the overall California total"
   ]
  },
  {
   "cell_type": "code",
   "execution_count": 11,
   "metadata": {
    "execution": {
     "iopub.execute_input": "2021-03-20T08:15:07.730098Z",
     "iopub.status.busy": "2021-03-20T08:15:07.728549Z",
     "iopub.status.idle": "2021-03-20T08:15:07.730779Z",
     "shell.execute_reply": "2021-03-20T08:15:07.731298Z"
    }
   },
   "outputs": [],
   "source": [
    "add = {'location':'California','doses':dataJson[0]['dataValues'][2]}"
   ]
  },
  {
   "cell_type": "code",
   "execution_count": 12,
   "metadata": {
    "execution": {
     "iopub.execute_input": "2021-03-20T08:15:07.739407Z",
     "iopub.status.busy": "2021-03-20T08:15:07.738025Z",
     "iopub.status.idle": "2021-03-20T08:15:07.740126Z",
     "shell.execute_reply": "2021-03-20T08:15:07.740615Z"
    }
   },
   "outputs": [],
   "source": [
    "df = df.append(add, ignore_index=True)"
   ]
  },
  {
   "cell_type": "code",
   "execution_count": 13,
   "metadata": {
    "execution": {
     "iopub.execute_input": "2021-03-20T08:15:07.746062Z",
     "iopub.status.busy": "2021-03-20T08:15:07.744646Z",
     "iopub.status.idle": "2021-03-20T08:15:07.746673Z",
     "shell.execute_reply": "2021-03-20T08:15:07.747152Z"
    }
   },
   "outputs": [],
   "source": [
    "df = df.sort_values(by='location')"
   ]
  },
  {
   "cell_type": "code",
   "execution_count": 14,
   "metadata": {
    "execution": {
     "iopub.execute_input": "2021-03-20T08:15:07.754376Z",
     "iopub.status.busy": "2021-03-20T08:15:07.752943Z",
     "iopub.status.idle": "2021-03-20T08:15:07.755076Z",
     "shell.execute_reply": "2021-03-20T08:15:07.755553Z"
    }
   },
   "outputs": [],
   "source": [
    "df = df[df.location == 'California'].append(df[df.location != 'California']).reset_index(drop=True)"
   ]
  },
  {
   "cell_type": "code",
   "execution_count": null,
   "metadata": {},
   "outputs": [],
   "source": []
  },
  {
   "cell_type": "code",
   "execution_count": 15,
   "metadata": {
    "execution": {
     "iopub.execute_input": "2021-03-20T08:15:07.759543Z",
     "iopub.status.busy": "2021-03-20T08:15:07.758824Z",
     "iopub.status.idle": "2021-03-20T08:15:07.777529Z",
     "shell.execute_reply": "2021-03-20T08:15:07.777983Z"
    }
   },
   "outputs": [],
   "source": [
    "tz = pytz.timezone(\"America/New_York\")"
   ]
  },
  {
   "cell_type": "code",
   "execution_count": 16,
   "metadata": {
    "execution": {
     "iopub.execute_input": "2021-03-20T08:15:07.782611Z",
     "iopub.status.busy": "2021-03-20T08:15:07.781554Z",
     "iopub.status.idle": "2021-03-20T08:15:07.784199Z",
     "shell.execute_reply": "2021-03-20T08:15:07.783651Z"
    }
   },
   "outputs": [],
   "source": [
    "today = datetime.now(tz).date()"
   ]
  },
  {
   "cell_type": "code",
   "execution_count": 17,
   "metadata": {
    "execution": {
     "iopub.execute_input": "2021-03-20T08:15:07.793472Z",
     "iopub.status.busy": "2021-03-20T08:15:07.792895Z",
     "iopub.status.idle": "2021-03-20T08:15:07.797051Z",
     "shell.execute_reply": "2021-03-20T08:15:07.796435Z"
    }
   },
   "outputs": [],
   "source": [
    "data_dir = os.path.join(os.path.abspath(\"\"), \"data\")"
   ]
  },
  {
   "cell_type": "code",
   "execution_count": 18,
   "metadata": {
    "execution": {
     "iopub.execute_input": "2021-03-20T08:15:07.801934Z",
     "iopub.status.busy": "2021-03-20T08:15:07.800529Z",
     "iopub.status.idle": "2021-03-20T08:15:07.804895Z",
     "shell.execute_reply": "2021-03-20T08:15:07.805312Z"
    }
   },
   "outputs": [],
   "source": [
    "df.to_csv(os.path.join(data_dir, f\"{today}.csv\"), index=False)"
   ]
  },
  {
   "cell_type": "code",
   "execution_count": null,
   "metadata": {},
   "outputs": [],
   "source": []
  }
 ],
 "metadata": {
  "kernelspec": {
   "display_name": "Python 3",
   "language": "python",
   "name": "python3"
  },
  "language_info": {
   "codemirror_mode": {
    "name": "ipython",
    "version": 3
   },
   "file_extension": ".py",
   "mimetype": "text/x-python",
   "name": "python",
   "nbconvert_exporter": "python",
   "pygments_lexer": "ipython3",
   "version": "3.8.8"
  }
 },
 "nbformat": 4,
 "nbformat_minor": 4
}
