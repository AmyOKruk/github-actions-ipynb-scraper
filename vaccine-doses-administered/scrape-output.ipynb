{
 "cells": [
  {
   "cell_type": "markdown",
   "metadata": {},
   "source": [
    "# California COVID vaccinations scrape"
   ]
  },
  {
   "cell_type": "markdown",
   "metadata": {},
   "source": [
    "By [Amy O'Kruk](https://twitter.com/amyokruk)"
   ]
  },
  {
   "cell_type": "markdown",
   "metadata": {},
   "source": [
    "Downloads data on vaccine doses administered by county and statewide from a Tableau-powered dashboard from the California Department of Public Health."
   ]
  },
  {
   "cell_type": "code",
   "execution_count": 1,
   "metadata": {
    "execution": {
     "iopub.execute_input": "2021-03-24T15:20:41.445377Z",
     "iopub.status.busy": "2021-03-24T15:20:41.444788Z",
     "iopub.status.idle": "2021-03-24T15:20:41.896612Z",
     "shell.execute_reply": "2021-03-24T15:20:41.895182Z"
    }
   },
   "outputs": [],
   "source": [
    "import pandas as pd\n",
    "import requests\n",
    "from bs4 import BeautifulSoup\n",
    "import json\n",
    "import re\n",
    "import time\n",
    "from time import gmtime, strftime \n",
    "import os\n",
    "import pytz\n",
    "from datetime import datetime"
   ]
  },
  {
   "cell_type": "markdown",
   "metadata": {},
   "source": [
    "Scrape the dashboard page"
   ]
  },
  {
   "cell_type": "code",
   "execution_count": 2,
   "metadata": {
    "execution": {
     "iopub.execute_input": "2021-03-24T15:20:41.902934Z",
     "iopub.status.busy": "2021-03-24T15:20:41.900811Z",
     "iopub.status.idle": "2021-03-24T15:20:42.271584Z",
     "shell.execute_reply": "2021-03-24T15:20:42.271079Z"
    }
   },
   "outputs": [],
   "source": [
    "url = \"https://public.tableau.com/interactive/views/COVID-19VaccineDashboardPublic/Vaccine?:embed=y&:showVizHome=n&:apiID=host0\"\n",
    "\n",
    "r = requests.get(url)\n",
    "soup = BeautifulSoup(r.text, \"html.parser\")"
   ]
  },
  {
   "cell_type": "code",
   "execution_count": 3,
   "metadata": {
    "execution": {
     "iopub.execute_input": "2021-03-24T15:20:42.277542Z",
     "iopub.status.busy": "2021-03-24T15:20:42.276290Z",
     "iopub.status.idle": "2021-03-24T15:20:42.278149Z",
     "shell.execute_reply": "2021-03-24T15:20:42.278581Z"
    }
   },
   "outputs": [],
   "source": [
    "tableauData = json.loads(soup.find(\"textarea\",{\"id\": \"tsConfigContainer\"}).text)"
   ]
  },
  {
   "cell_type": "markdown",
   "metadata": {},
   "source": [
    "Get the link to the Tableau data"
   ]
  },
  {
   "cell_type": "code",
   "execution_count": 4,
   "metadata": {
    "execution": {
     "iopub.execute_input": "2021-03-24T15:20:42.282690Z",
     "iopub.status.busy": "2021-03-24T15:20:42.281668Z",
     "iopub.status.idle": "2021-03-24T15:20:42.283293Z",
     "shell.execute_reply": "2021-03-24T15:20:42.283732Z"
    }
   },
   "outputs": [],
   "source": [
    "dataUrl = f'https://public.tableau.com{tableauData[\"vizql_root\"]}/bootstrapSession/sessions/{tableauData[\"sessionid\"]}'"
   ]
  },
  {
   "cell_type": "code",
   "execution_count": 5,
   "metadata": {
    "execution": {
     "iopub.execute_input": "2021-03-24T15:20:42.289981Z",
     "iopub.status.busy": "2021-03-24T15:20:42.289448Z",
     "iopub.status.idle": "2021-03-24T15:20:42.876591Z",
     "shell.execute_reply": "2021-03-24T15:20:42.876044Z"
    }
   },
   "outputs": [],
   "source": [
    "r = requests.post(dataUrl, data= {\n",
    "    \"sheet_id\": tableauData[\"sheetId\"],\n",
    "})\n",
    "\n",
    "dataReg = re.search('\\d+;({.*})\\d+;({.*})', r.text, re.MULTILINE)\n",
    "data1 = json.loads(dataReg.group(2))\n",
    "\n",
    "dataJson = data1[\"secondaryInfo\"][\"presModelMap\"][\"dataDictionary\"][\"presModelHolder\"][\"genDataDictionaryPresModel\"][\"dataSegments\"][\"0\"][\"dataColumns\"]"
   ]
  },
  {
   "cell_type": "markdown",
   "metadata": {},
   "source": [
    "Isolate what you want"
   ]
  },
  {
   "cell_type": "code",
   "execution_count": 6,
   "metadata": {
    "execution": {
     "iopub.execute_input": "2021-03-24T15:20:42.881412Z",
     "iopub.status.busy": "2021-03-24T15:20:42.880141Z",
     "iopub.status.idle": "2021-03-24T15:20:42.882105Z",
     "shell.execute_reply": "2021-03-24T15:20:42.882598Z"
    }
   },
   "outputs": [],
   "source": [
    "counties = dataJson[2]['dataValues'][:58]"
   ]
  },
  {
   "cell_type": "code",
   "execution_count": 7,
   "metadata": {
    "execution": {
     "iopub.execute_input": "2021-03-24T15:20:42.886793Z",
     "iopub.status.busy": "2021-03-24T15:20:42.885689Z",
     "iopub.status.idle": "2021-03-24T15:20:42.887401Z",
     "shell.execute_reply": "2021-03-24T15:20:42.887802Z"
    }
   },
   "outputs": [],
   "source": [
    "doses = dataJson[0]['dataValues'][3:61]"
   ]
  },
  {
   "cell_type": "markdown",
   "metadata": {},
   "source": [
    "Data formatting"
   ]
  },
  {
   "cell_type": "code",
   "execution_count": 8,
   "metadata": {
    "execution": {
     "iopub.execute_input": "2021-03-24T15:20:42.892021Z",
     "iopub.status.busy": "2021-03-24T15:20:42.890983Z",
     "iopub.status.idle": "2021-03-24T15:20:42.892724Z",
     "shell.execute_reply": "2021-03-24T15:20:42.893165Z"
    }
   },
   "outputs": [],
   "source": [
    "zipped = dict(zip(counties, doses))"
   ]
  },
  {
   "cell_type": "code",
   "execution_count": 9,
   "metadata": {
    "execution": {
     "iopub.execute_input": "2021-03-24T15:20:42.899193Z",
     "iopub.status.busy": "2021-03-24T15:20:42.898295Z",
     "iopub.status.idle": "2021-03-24T15:20:42.900499Z",
     "shell.execute_reply": "2021-03-24T15:20:42.900070Z"
    }
   },
   "outputs": [],
   "source": [
    "df = pd.Series(zipped).reset_index()"
   ]
  },
  {
   "cell_type": "code",
   "execution_count": 10,
   "metadata": {
    "execution": {
     "iopub.execute_input": "2021-03-24T15:20:42.904781Z",
     "iopub.status.busy": "2021-03-24T15:20:42.903690Z",
     "iopub.status.idle": "2021-03-24T15:20:42.905401Z",
     "shell.execute_reply": "2021-03-24T15:20:42.905837Z"
    }
   },
   "outputs": [],
   "source": [
    "df.columns = ['location','doses']"
   ]
  },
  {
   "cell_type": "markdown",
   "metadata": {},
   "source": [
    "Grab the overall California total"
   ]
  },
  {
   "cell_type": "code",
   "execution_count": 11,
   "metadata": {
    "execution": {
     "iopub.execute_input": "2021-03-24T15:20:42.909956Z",
     "iopub.status.busy": "2021-03-24T15:20:42.908817Z",
     "iopub.status.idle": "2021-03-24T15:20:42.910563Z",
     "shell.execute_reply": "2021-03-24T15:20:42.910996Z"
    }
   },
   "outputs": [],
   "source": [
    "add = {'location':'California','doses':dataJson[0]['dataValues'][2]}"
   ]
  },
  {
   "cell_type": "code",
   "execution_count": 12,
   "metadata": {
    "execution": {
     "iopub.execute_input": "2021-03-24T15:20:42.918033Z",
     "iopub.status.busy": "2021-03-24T15:20:42.916778Z",
     "iopub.status.idle": "2021-03-24T15:20:42.918632Z",
     "shell.execute_reply": "2021-03-24T15:20:42.919063Z"
    }
   },
   "outputs": [],
   "source": [
    "df = df.append(add, ignore_index=True)"
   ]
  },
  {
   "cell_type": "code",
   "execution_count": 13,
   "metadata": {
    "execution": {
     "iopub.execute_input": "2021-03-24T15:20:42.925268Z",
     "iopub.status.busy": "2021-03-24T15:20:42.924091Z",
     "iopub.status.idle": "2021-03-24T15:20:42.925866Z",
     "shell.execute_reply": "2021-03-24T15:20:42.926266Z"
    }
   },
   "outputs": [],
   "source": [
    "df = df.sort_values(by='location')"
   ]
  },
  {
   "cell_type": "code",
   "execution_count": 14,
   "metadata": {
    "execution": {
     "iopub.execute_input": "2021-03-24T15:20:42.932041Z",
     "iopub.status.busy": "2021-03-24T15:20:42.931125Z",
     "iopub.status.idle": "2021-03-24T15:20:42.932881Z",
     "shell.execute_reply": "2021-03-24T15:20:42.933319Z"
    }
   },
   "outputs": [],
   "source": [
    "df = df[df.location == 'California'].append(df[df.location != 'California']).reset_index(drop=True)"
   ]
  },
  {
   "cell_type": "code",
   "execution_count": null,
   "metadata": {},
   "outputs": [],
   "source": []
  },
  {
   "cell_type": "code",
   "execution_count": 15,
   "metadata": {
    "execution": {
     "iopub.execute_input": "2021-03-24T15:20:42.936515Z",
     "iopub.status.busy": "2021-03-24T15:20:42.936022Z",
     "iopub.status.idle": "2021-03-24T15:20:42.953097Z",
     "shell.execute_reply": "2021-03-24T15:20:42.952581Z"
    }
   },
   "outputs": [],
   "source": [
    "tz = pytz.timezone(\"America/New_York\")"
   ]
  },
  {
   "cell_type": "code",
   "execution_count": 16,
   "metadata": {
    "execution": {
     "iopub.execute_input": "2021-03-24T15:20:42.957272Z",
     "iopub.status.busy": "2021-03-24T15:20:42.956097Z",
     "iopub.status.idle": "2021-03-24T15:20:42.957949Z",
     "shell.execute_reply": "2021-03-24T15:20:42.958382Z"
    }
   },
   "outputs": [],
   "source": [
    "today = datetime.now(tz).date()"
   ]
  },
  {
   "cell_type": "code",
   "execution_count": 17,
   "metadata": {
    "execution": {
     "iopub.execute_input": "2021-03-24T15:20:42.962041Z",
     "iopub.status.busy": "2021-03-24T15:20:42.961514Z",
     "iopub.status.idle": "2021-03-24T15:20:42.964106Z",
     "shell.execute_reply": "2021-03-24T15:20:42.963653Z"
    }
   },
   "outputs": [],
   "source": [
    "data_dir = os.path.join(os.path.abspath(\"\"), \"data\")"
   ]
  },
  {
   "cell_type": "code",
   "execution_count": 18,
   "metadata": {
    "execution": {
     "iopub.execute_input": "2021-03-24T15:20:42.968429Z",
     "iopub.status.busy": "2021-03-24T15:20:42.967304Z",
     "iopub.status.idle": "2021-03-24T15:20:42.971647Z",
     "shell.execute_reply": "2021-03-24T15:20:42.971131Z"
    }
   },
   "outputs": [],
   "source": [
    "df.to_csv(os.path.join(data_dir, f\"{today}.csv\"), index=False)"
   ]
  },
  {
   "cell_type": "code",
   "execution_count": null,
   "metadata": {},
   "outputs": [],
   "source": []
  }
 ],
 "metadata": {
  "kernelspec": {
   "display_name": "Python 3",
   "language": "python",
   "name": "python3"
  },
  "language_info": {
   "codemirror_mode": {
    "name": "ipython",
    "version": 3
   },
   "file_extension": ".py",
   "mimetype": "text/x-python",
   "name": "python",
   "nbconvert_exporter": "python",
   "pygments_lexer": "ipython3",
   "version": "3.8.8"
  }
 },
 "nbformat": 4,
 "nbformat_minor": 4
}
