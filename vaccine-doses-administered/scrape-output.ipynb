{
 "cells": [
  {
   "cell_type": "markdown",
   "metadata": {},
   "source": [
    "# California COVID vaccinations scrape"
   ]
  },
  {
   "cell_type": "markdown",
   "metadata": {},
   "source": [
    "By [Amy O'Kruk](https://twitter.com/amyokruk)"
   ]
  },
  {
   "cell_type": "markdown",
   "metadata": {},
   "source": [
    "Downloads data on vaccine doses administered by county and statewide from a Tableau-powered dashboard from the California Department of Public Health."
   ]
  },
  {
   "cell_type": "code",
   "execution_count": 1,
   "metadata": {
    "execution": {
     "iopub.execute_input": "2021-03-09T18:09:38.792364Z",
     "iopub.status.busy": "2021-03-09T18:09:38.791716Z",
     "iopub.status.idle": "2021-03-09T18:09:39.543847Z",
     "shell.execute_reply": "2021-03-09T18:09:39.543280Z"
    }
   },
   "outputs": [],
   "source": [
    "import pandas as pd\n",
    "import requests\n",
    "from bs4 import BeautifulSoup\n",
    "import json\n",
    "import re\n",
    "import time\n",
    "from time import gmtime, strftime \n",
    "import os\n",
    "import pytz\n",
    "from datetime import datetime"
   ]
  },
  {
   "cell_type": "markdown",
   "metadata": {},
   "source": [
    "Scrape the dashboard page"
   ]
  },
  {
   "cell_type": "code",
   "execution_count": 2,
   "metadata": {
    "execution": {
     "iopub.execute_input": "2021-03-09T18:09:39.549621Z",
     "iopub.status.busy": "2021-03-09T18:09:39.547356Z",
     "iopub.status.idle": "2021-03-09T18:09:39.890499Z",
     "shell.execute_reply": "2021-03-09T18:09:39.889971Z"
    }
   },
   "outputs": [],
   "source": [
    "url = \"https://public.tableau.com/interactive/views/COVID-19VaccineDashboardPublic/Vaccine?:embed=y&:showVizHome=n&:apiID=host0\"\n",
    "\n",
    "r = requests.get(url)\n",
    "soup = BeautifulSoup(r.text, \"html.parser\")"
   ]
  },
  {
   "cell_type": "code",
   "execution_count": 3,
   "metadata": {
    "execution": {
     "iopub.execute_input": "2021-03-09T18:09:39.895281Z",
     "iopub.status.busy": "2021-03-09T18:09:39.894754Z",
     "iopub.status.idle": "2021-03-09T18:09:39.898709Z",
     "shell.execute_reply": "2021-03-09T18:09:39.898147Z"
    }
   },
   "outputs": [],
   "source": [
    "tableauData = json.loads(soup.find(\"textarea\",{\"id\": \"tsConfigContainer\"}).text)"
   ]
  },
  {
   "cell_type": "markdown",
   "metadata": {},
   "source": [
    "Get the link to the Tableau data"
   ]
  },
  {
   "cell_type": "code",
   "execution_count": 4,
   "metadata": {
    "execution": {
     "iopub.execute_input": "2021-03-09T18:09:39.902860Z",
     "iopub.status.busy": "2021-03-09T18:09:39.901957Z",
     "iopub.status.idle": "2021-03-09T18:09:39.903906Z",
     "shell.execute_reply": "2021-03-09T18:09:39.904321Z"
    }
   },
   "outputs": [],
   "source": [
    "dataUrl = f'https://public.tableau.com{tableauData[\"vizql_root\"]}/bootstrapSession/sessions/{tableauData[\"sessionid\"]}'"
   ]
  },
  {
   "cell_type": "code",
   "execution_count": 5,
   "metadata": {
    "execution": {
     "iopub.execute_input": "2021-03-09T18:09:39.911549Z",
     "iopub.status.busy": "2021-03-09T18:09:39.910801Z",
     "iopub.status.idle": "2021-03-09T18:09:40.942328Z",
     "shell.execute_reply": "2021-03-09T18:09:40.941839Z"
    }
   },
   "outputs": [],
   "source": [
    "r = requests.post(dataUrl, data= {\n",
    "    \"sheet_id\": tableauData[\"sheetId\"],\n",
    "})\n",
    "\n",
    "dataReg = re.search('\\d+;({.*})\\d+;({.*})', r.text, re.MULTILINE)\n",
    "data1 = json.loads(dataReg.group(2))\n",
    "\n",
    "dataJson = data1[\"secondaryInfo\"][\"presModelMap\"][\"dataDictionary\"][\"presModelHolder\"][\"genDataDictionaryPresModel\"][\"dataSegments\"][\"0\"][\"dataColumns\"]"
   ]
  },
  {
   "cell_type": "markdown",
   "metadata": {},
   "source": [
    "Isolate what you want"
   ]
  },
  {
   "cell_type": "code",
   "execution_count": 6,
   "metadata": {
    "execution": {
     "iopub.execute_input": "2021-03-09T18:09:40.947189Z",
     "iopub.status.busy": "2021-03-09T18:09:40.946031Z",
     "iopub.status.idle": "2021-03-09T18:09:40.947788Z",
     "shell.execute_reply": "2021-03-09T18:09:40.948293Z"
    }
   },
   "outputs": [],
   "source": [
    "counties = dataJson[2]['dataValues'][:58]"
   ]
  },
  {
   "cell_type": "code",
   "execution_count": 7,
   "metadata": {
    "execution": {
     "iopub.execute_input": "2021-03-09T18:09:40.953199Z",
     "iopub.status.busy": "2021-03-09T18:09:40.952187Z",
     "iopub.status.idle": "2021-03-09T18:09:40.954053Z",
     "shell.execute_reply": "2021-03-09T18:09:40.954492Z"
    }
   },
   "outputs": [],
   "source": [
    "doses = dataJson[0]['dataValues'][3:61]"
   ]
  },
  {
   "cell_type": "markdown",
   "metadata": {},
   "source": [
    "Data formatting"
   ]
  },
  {
   "cell_type": "code",
   "execution_count": 8,
   "metadata": {
    "execution": {
     "iopub.execute_input": "2021-03-09T18:09:40.958626Z",
     "iopub.status.busy": "2021-03-09T18:09:40.958093Z",
     "iopub.status.idle": "2021-03-09T18:09:40.960779Z",
     "shell.execute_reply": "2021-03-09T18:09:40.960314Z"
    }
   },
   "outputs": [],
   "source": [
    "zipped = dict(zip(counties, doses))"
   ]
  },
  {
   "cell_type": "code",
   "execution_count": 9,
   "metadata": {
    "execution": {
     "iopub.execute_input": "2021-03-09T18:09:40.967358Z",
     "iopub.status.busy": "2021-03-09T18:09:40.966226Z",
     "iopub.status.idle": "2021-03-09T18:09:40.967969Z",
     "shell.execute_reply": "2021-03-09T18:09:40.968611Z"
    }
   },
   "outputs": [],
   "source": [
    "df = pd.Series(zipped).reset_index()"
   ]
  },
  {
   "cell_type": "code",
   "execution_count": 10,
   "metadata": {
    "execution": {
     "iopub.execute_input": "2021-03-09T18:09:40.973189Z",
     "iopub.status.busy": "2021-03-09T18:09:40.971893Z",
     "iopub.status.idle": "2021-03-09T18:09:40.973771Z",
     "shell.execute_reply": "2021-03-09T18:09:40.974204Z"
    }
   },
   "outputs": [],
   "source": [
    "df.columns = ['location','doses']"
   ]
  },
  {
   "cell_type": "markdown",
   "metadata": {},
   "source": [
    "Grab the overall California total"
   ]
  },
  {
   "cell_type": "code",
   "execution_count": 11,
   "metadata": {
    "execution": {
     "iopub.execute_input": "2021-03-09T18:09:40.984150Z",
     "iopub.status.busy": "2021-03-09T18:09:40.983176Z",
     "iopub.status.idle": "2021-03-09T18:09:40.986999Z",
     "shell.execute_reply": "2021-03-09T18:09:40.987409Z"
    }
   },
   "outputs": [],
   "source": [
    "add = {'location':'California','doses':dataJson[0]['dataValues'][2]}"
   ]
  },
  {
   "cell_type": "code",
   "execution_count": 12,
   "metadata": {
    "execution": {
     "iopub.execute_input": "2021-03-09T18:09:40.995232Z",
     "iopub.status.busy": "2021-03-09T18:09:40.994485Z",
     "iopub.status.idle": "2021-03-09T18:09:40.998626Z",
     "shell.execute_reply": "2021-03-09T18:09:40.997636Z"
    }
   },
   "outputs": [],
   "source": [
    "df = df.append(add, ignore_index=True)"
   ]
  },
  {
   "cell_type": "code",
   "execution_count": 13,
   "metadata": {
    "execution": {
     "iopub.execute_input": "2021-03-09T18:09:41.002974Z",
     "iopub.status.busy": "2021-03-09T18:09:41.002455Z",
     "iopub.status.idle": "2021-03-09T18:09:41.006383Z",
     "shell.execute_reply": "2021-03-09T18:09:41.005742Z"
    }
   },
   "outputs": [],
   "source": [
    "df = df.sort_values(by='location')"
   ]
  },
  {
   "cell_type": "code",
   "execution_count": 14,
   "metadata": {
    "execution": {
     "iopub.execute_input": "2021-03-09T18:09:41.016467Z",
     "iopub.status.busy": "2021-03-09T18:09:41.015919Z",
     "iopub.status.idle": "2021-03-09T18:09:41.019707Z",
     "shell.execute_reply": "2021-03-09T18:09:41.019209Z"
    }
   },
   "outputs": [],
   "source": [
    "df = df[df.location == 'California'].append(df[df.location != 'California']).reset_index(drop=True)"
   ]
  },
  {
   "cell_type": "code",
   "execution_count": null,
   "metadata": {},
   "outputs": [],
   "source": []
  },
  {
   "cell_type": "code",
   "execution_count": 15,
   "metadata": {
    "execution": {
     "iopub.execute_input": "2021-03-09T18:09:41.024453Z",
     "iopub.status.busy": "2021-03-09T18:09:41.023070Z",
     "iopub.status.idle": "2021-03-09T18:09:41.043967Z",
     "shell.execute_reply": "2021-03-09T18:09:41.042895Z"
    }
   },
   "outputs": [],
   "source": [
    "tz = pytz.timezone(\"America/New_York\")"
   ]
  },
  {
   "cell_type": "code",
   "execution_count": 16,
   "metadata": {
    "execution": {
     "iopub.execute_input": "2021-03-09T18:09:41.047616Z",
     "iopub.status.busy": "2021-03-09T18:09:41.047099Z",
     "iopub.status.idle": "2021-03-09T18:09:41.050868Z",
     "shell.execute_reply": "2021-03-09T18:09:41.050394Z"
    }
   },
   "outputs": [],
   "source": [
    "today = datetime.now(tz).date()"
   ]
  },
  {
   "cell_type": "code",
   "execution_count": 17,
   "metadata": {
    "execution": {
     "iopub.execute_input": "2021-03-09T18:09:41.054997Z",
     "iopub.status.busy": "2021-03-09T18:09:41.054239Z",
     "iopub.status.idle": "2021-03-09T18:09:41.058021Z",
     "shell.execute_reply": "2021-03-09T18:09:41.057561Z"
    }
   },
   "outputs": [],
   "source": [
    "data_dir = os.path.join(os.path.abspath(\"\"), \"data\")"
   ]
  },
  {
   "cell_type": "code",
   "execution_count": 18,
   "metadata": {
    "execution": {
     "iopub.execute_input": "2021-03-09T18:09:41.063496Z",
     "iopub.status.busy": "2021-03-09T18:09:41.061611Z",
     "iopub.status.idle": "2021-03-09T18:09:41.072329Z",
     "shell.execute_reply": "2021-03-09T18:09:41.071395Z"
    }
   },
   "outputs": [],
   "source": [
    "df.to_csv(os.path.join(data_dir, f\"{today}.csv\"), index=False)"
   ]
  },
  {
   "cell_type": "code",
   "execution_count": null,
   "metadata": {},
   "outputs": [],
   "source": []
  }
 ],
 "metadata": {
  "kernelspec": {
   "display_name": "Python 3",
   "language": "python",
   "name": "python3"
  },
  "language_info": {
   "codemirror_mode": {
    "name": "ipython",
    "version": 3
   },
   "file_extension": ".py",
   "mimetype": "text/x-python",
   "name": "python",
   "nbconvert_exporter": "python",
   "pygments_lexer": "ipython3",
   "version": "3.8.8"
  }
 },
 "nbformat": 4,
 "nbformat_minor": 4
}
