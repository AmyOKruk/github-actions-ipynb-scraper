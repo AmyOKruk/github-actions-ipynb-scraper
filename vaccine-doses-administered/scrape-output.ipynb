{
 "cells": [
  {
   "cell_type": "markdown",
   "metadata": {},
   "source": [
    "# California COVID vaccinations scrape"
   ]
  },
  {
   "cell_type": "markdown",
   "metadata": {},
   "source": [
    "By [Amy O'Kruk](https://twitter.com/amyokruk)"
   ]
  },
  {
   "cell_type": "markdown",
   "metadata": {},
   "source": [
    "Downloads data on vaccine doses administered by county and statewide from a Tableau-powered dashboard from the California Department of Public Health."
   ]
  },
  {
   "cell_type": "code",
   "execution_count": 1,
   "metadata": {
    "execution": {
     "iopub.execute_input": "2021-03-16T17:56:10.310403Z",
     "iopub.status.busy": "2021-03-16T17:56:10.309774Z",
     "iopub.status.idle": "2021-03-16T17:56:10.722441Z",
     "shell.execute_reply": "2021-03-16T17:56:10.721253Z"
    }
   },
   "outputs": [],
   "source": [
    "import pandas as pd\n",
    "import requests\n",
    "from bs4 import BeautifulSoup\n",
    "import json\n",
    "import re\n",
    "import time\n",
    "from time import gmtime, strftime \n",
    "import os\n",
    "import pytz\n",
    "from datetime import datetime"
   ]
  },
  {
   "cell_type": "markdown",
   "metadata": {},
   "source": [
    "Scrape the dashboard page"
   ]
  },
  {
   "cell_type": "code",
   "execution_count": 2,
   "metadata": {
    "execution": {
     "iopub.execute_input": "2021-03-16T17:56:10.728007Z",
     "iopub.status.busy": "2021-03-16T17:56:10.726091Z",
     "iopub.status.idle": "2021-03-16T17:56:11.959318Z",
     "shell.execute_reply": "2021-03-16T17:56:11.958034Z"
    }
   },
   "outputs": [],
   "source": [
    "url = \"https://public.tableau.com/interactive/views/COVID-19VaccineDashboardPublic/Vaccine?:embed=y&:showVizHome=n&:apiID=host0\"\n",
    "\n",
    "r = requests.get(url)\n",
    "soup = BeautifulSoup(r.text, \"html.parser\")"
   ]
  },
  {
   "cell_type": "code",
   "execution_count": 3,
   "metadata": {
    "execution": {
     "iopub.execute_input": "2021-03-16T17:56:11.964280Z",
     "iopub.status.busy": "2021-03-16T17:56:11.963761Z",
     "iopub.status.idle": "2021-03-16T17:56:11.967177Z",
     "shell.execute_reply": "2021-03-16T17:56:11.966727Z"
    }
   },
   "outputs": [],
   "source": [
    "tableauData = json.loads(soup.find(\"textarea\",{\"id\": \"tsConfigContainer\"}).text)"
   ]
  },
  {
   "cell_type": "markdown",
   "metadata": {},
   "source": [
    "Get the link to the Tableau data"
   ]
  },
  {
   "cell_type": "code",
   "execution_count": 4,
   "metadata": {
    "execution": {
     "iopub.execute_input": "2021-03-16T17:56:11.971382Z",
     "iopub.status.busy": "2021-03-16T17:56:11.970197Z",
     "iopub.status.idle": "2021-03-16T17:56:11.972065Z",
     "shell.execute_reply": "2021-03-16T17:56:11.972504Z"
    }
   },
   "outputs": [],
   "source": [
    "dataUrl = f'https://public.tableau.com{tableauData[\"vizql_root\"]}/bootstrapSession/sessions/{tableauData[\"sessionid\"]}'"
   ]
  },
  {
   "cell_type": "code",
   "execution_count": 5,
   "metadata": {
    "execution": {
     "iopub.execute_input": "2021-03-16T17:56:11.979372Z",
     "iopub.status.busy": "2021-03-16T17:56:11.978843Z",
     "iopub.status.idle": "2021-03-16T17:56:12.357148Z",
     "shell.execute_reply": "2021-03-16T17:56:12.356336Z"
    }
   },
   "outputs": [],
   "source": [
    "r = requests.post(dataUrl, data= {\n",
    "    \"sheet_id\": tableauData[\"sheetId\"],\n",
    "})\n",
    "\n",
    "dataReg = re.search('\\d+;({.*})\\d+;({.*})', r.text, re.MULTILINE)\n",
    "data1 = json.loads(dataReg.group(2))\n",
    "\n",
    "dataJson = data1[\"secondaryInfo\"][\"presModelMap\"][\"dataDictionary\"][\"presModelHolder\"][\"genDataDictionaryPresModel\"][\"dataSegments\"][\"0\"][\"dataColumns\"]"
   ]
  },
  {
   "cell_type": "markdown",
   "metadata": {},
   "source": [
    "Isolate what you want"
   ]
  },
  {
   "cell_type": "code",
   "execution_count": 6,
   "metadata": {
    "execution": {
     "iopub.execute_input": "2021-03-16T17:56:12.362028Z",
     "iopub.status.busy": "2021-03-16T17:56:12.360840Z",
     "iopub.status.idle": "2021-03-16T17:56:12.362659Z",
     "shell.execute_reply": "2021-03-16T17:56:12.363087Z"
    }
   },
   "outputs": [],
   "source": [
    "counties = dataJson[2]['dataValues'][:58]"
   ]
  },
  {
   "cell_type": "code",
   "execution_count": 7,
   "metadata": {
    "execution": {
     "iopub.execute_input": "2021-03-16T17:56:12.367481Z",
     "iopub.status.busy": "2021-03-16T17:56:12.366232Z",
     "iopub.status.idle": "2021-03-16T17:56:12.368077Z",
     "shell.execute_reply": "2021-03-16T17:56:12.368504Z"
    }
   },
   "outputs": [],
   "source": [
    "doses = dataJson[0]['dataValues'][3:61]"
   ]
  },
  {
   "cell_type": "markdown",
   "metadata": {},
   "source": [
    "Data formatting"
   ]
  },
  {
   "cell_type": "code",
   "execution_count": 8,
   "metadata": {
    "execution": {
     "iopub.execute_input": "2021-03-16T17:56:12.373114Z",
     "iopub.status.busy": "2021-03-16T17:56:12.371887Z",
     "iopub.status.idle": "2021-03-16T17:56:12.373698Z",
     "shell.execute_reply": "2021-03-16T17:56:12.374121Z"
    }
   },
   "outputs": [],
   "source": [
    "zipped = dict(zip(counties, doses))"
   ]
  },
  {
   "cell_type": "code",
   "execution_count": 9,
   "metadata": {
    "execution": {
     "iopub.execute_input": "2021-03-16T17:56:12.380855Z",
     "iopub.status.busy": "2021-03-16T17:56:12.379511Z",
     "iopub.status.idle": "2021-03-16T17:56:12.381442Z",
     "shell.execute_reply": "2021-03-16T17:56:12.381834Z"
    }
   },
   "outputs": [],
   "source": [
    "df = pd.Series(zipped).reset_index()"
   ]
  },
  {
   "cell_type": "code",
   "execution_count": 10,
   "metadata": {
    "execution": {
     "iopub.execute_input": "2021-03-16T17:56:12.386221Z",
     "iopub.status.busy": "2021-03-16T17:56:12.385038Z",
     "iopub.status.idle": "2021-03-16T17:56:12.386840Z",
     "shell.execute_reply": "2021-03-16T17:56:12.387263Z"
    }
   },
   "outputs": [],
   "source": [
    "df.columns = ['location','doses']"
   ]
  },
  {
   "cell_type": "markdown",
   "metadata": {},
   "source": [
    "Grab the overall California total"
   ]
  },
  {
   "cell_type": "code",
   "execution_count": 11,
   "metadata": {
    "execution": {
     "iopub.execute_input": "2021-03-16T17:56:12.391830Z",
     "iopub.status.busy": "2021-03-16T17:56:12.390674Z",
     "iopub.status.idle": "2021-03-16T17:56:12.392495Z",
     "shell.execute_reply": "2021-03-16T17:56:12.392919Z"
    }
   },
   "outputs": [],
   "source": [
    "add = {'location':'California','doses':dataJson[0]['dataValues'][2]}"
   ]
  },
  {
   "cell_type": "code",
   "execution_count": 12,
   "metadata": {
    "execution": {
     "iopub.execute_input": "2021-03-16T17:56:12.399711Z",
     "iopub.status.busy": "2021-03-16T17:56:12.398754Z",
     "iopub.status.idle": "2021-03-16T17:56:12.400612Z",
     "shell.execute_reply": "2021-03-16T17:56:12.401042Z"
    }
   },
   "outputs": [],
   "source": [
    "df = df.append(add, ignore_index=True)"
   ]
  },
  {
   "cell_type": "code",
   "execution_count": 13,
   "metadata": {
    "execution": {
     "iopub.execute_input": "2021-03-16T17:56:12.407760Z",
     "iopub.status.busy": "2021-03-16T17:56:12.406465Z",
     "iopub.status.idle": "2021-03-16T17:56:12.408355Z",
     "shell.execute_reply": "2021-03-16T17:56:12.408780Z"
    }
   },
   "outputs": [],
   "source": [
    "df = df.sort_values(by='location')"
   ]
  },
  {
   "cell_type": "code",
   "execution_count": 14,
   "metadata": {
    "execution": {
     "iopub.execute_input": "2021-03-16T17:56:12.415384Z",
     "iopub.status.busy": "2021-03-16T17:56:12.414165Z",
     "iopub.status.idle": "2021-03-16T17:56:12.416046Z",
     "shell.execute_reply": "2021-03-16T17:56:12.416472Z"
    }
   },
   "outputs": [],
   "source": [
    "df = df[df.location == 'California'].append(df[df.location != 'California']).reset_index(drop=True)"
   ]
  },
  {
   "cell_type": "code",
   "execution_count": null,
   "metadata": {},
   "outputs": [],
   "source": []
  },
  {
   "cell_type": "code",
   "execution_count": 15,
   "metadata": {
    "execution": {
     "iopub.execute_input": "2021-03-16T17:56:12.419896Z",
     "iopub.status.busy": "2021-03-16T17:56:12.419384Z",
     "iopub.status.idle": "2021-03-16T17:56:12.443865Z",
     "shell.execute_reply": "2021-03-16T17:56:12.443346Z"
    }
   },
   "outputs": [],
   "source": [
    "tz = pytz.timezone(\"America/New_York\")"
   ]
  },
  {
   "cell_type": "code",
   "execution_count": 16,
   "metadata": {
    "execution": {
     "iopub.execute_input": "2021-03-16T17:56:12.448289Z",
     "iopub.status.busy": "2021-03-16T17:56:12.447081Z",
     "iopub.status.idle": "2021-03-16T17:56:12.448954Z",
     "shell.execute_reply": "2021-03-16T17:56:12.449393Z"
    }
   },
   "outputs": [],
   "source": [
    "today = datetime.now(tz).date()"
   ]
  },
  {
   "cell_type": "code",
   "execution_count": 17,
   "metadata": {
    "execution": {
     "iopub.execute_input": "2021-03-16T17:56:12.453989Z",
     "iopub.status.busy": "2021-03-16T17:56:12.452801Z",
     "iopub.status.idle": "2021-03-16T17:56:12.454694Z",
     "shell.execute_reply": "2021-03-16T17:56:12.455123Z"
    }
   },
   "outputs": [],
   "source": [
    "data_dir = os.path.join(os.path.abspath(\"\"), \"data\")"
   ]
  },
  {
   "cell_type": "code",
   "execution_count": 18,
   "metadata": {
    "execution": {
     "iopub.execute_input": "2021-03-16T17:56:12.459523Z",
     "iopub.status.busy": "2021-03-16T17:56:12.458412Z",
     "iopub.status.idle": "2021-03-16T17:56:12.463082Z",
     "shell.execute_reply": "2021-03-16T17:56:12.462562Z"
    }
   },
   "outputs": [],
   "source": [
    "df.to_csv(os.path.join(data_dir, f\"{today}.csv\"), index=False)"
   ]
  },
  {
   "cell_type": "code",
   "execution_count": null,
   "metadata": {},
   "outputs": [],
   "source": []
  }
 ],
 "metadata": {
  "kernelspec": {
   "display_name": "Python 3",
   "language": "python",
   "name": "python3"
  },
  "language_info": {
   "codemirror_mode": {
    "name": "ipython",
    "version": 3
   },
   "file_extension": ".py",
   "mimetype": "text/x-python",
   "name": "python",
   "nbconvert_exporter": "python",
   "pygments_lexer": "ipython3",
   "version": "3.8.8"
  }
 },
 "nbformat": 4,
 "nbformat_minor": 4
}
