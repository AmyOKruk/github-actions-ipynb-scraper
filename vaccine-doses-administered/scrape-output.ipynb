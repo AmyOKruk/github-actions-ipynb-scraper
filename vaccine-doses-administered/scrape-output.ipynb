{
 "cells": [
  {
   "cell_type": "markdown",
   "metadata": {},
   "source": [
    "# California COVID vaccinations scrape"
   ]
  },
  {
   "cell_type": "markdown",
   "metadata": {},
   "source": [
    "By [Amy O'Kruk](https://twitter.com/amyokruk)"
   ]
  },
  {
   "cell_type": "markdown",
   "metadata": {},
   "source": [
    "Downloads data on vaccine doses administered by county and statewide from a Tableau-powered dashboard from the California Department of Public Health."
   ]
  },
  {
   "cell_type": "code",
   "execution_count": 1,
   "metadata": {
    "execution": {
     "iopub.execute_input": "2021-03-11T21:11:49.337838Z",
     "iopub.status.busy": "2021-03-11T21:11:49.336698Z",
     "iopub.status.idle": "2021-03-11T21:11:49.719777Z",
     "shell.execute_reply": "2021-03-11T21:11:49.720565Z"
    }
   },
   "outputs": [],
   "source": [
    "import pandas as pd\n",
    "import requests\n",
    "from bs4 import BeautifulSoup\n",
    "import json\n",
    "import re\n",
    "import time\n",
    "from time import gmtime, strftime \n",
    "import os\n",
    "import pytz\n",
    "from datetime import datetime"
   ]
  },
  {
   "cell_type": "markdown",
   "metadata": {},
   "source": [
    "Scrape the dashboard page"
   ]
  },
  {
   "cell_type": "code",
   "execution_count": 2,
   "metadata": {
    "execution": {
     "iopub.execute_input": "2021-03-11T21:11:49.727168Z",
     "iopub.status.busy": "2021-03-11T21:11:49.724902Z",
     "iopub.status.idle": "2021-03-11T21:11:49.978323Z",
     "shell.execute_reply": "2021-03-11T21:11:49.977229Z"
    }
   },
   "outputs": [],
   "source": [
    "url = \"https://public.tableau.com/interactive/views/COVID-19VaccineDashboardPublic/Vaccine?:embed=y&:showVizHome=n&:apiID=host0\"\n",
    "\n",
    "r = requests.get(url)\n",
    "soup = BeautifulSoup(r.text, \"html.parser\")"
   ]
  },
  {
   "cell_type": "code",
   "execution_count": 3,
   "metadata": {
    "execution": {
     "iopub.execute_input": "2021-03-11T21:11:49.983190Z",
     "iopub.status.busy": "2021-03-11T21:11:49.982666Z",
     "iopub.status.idle": "2021-03-11T21:11:49.986219Z",
     "shell.execute_reply": "2021-03-11T21:11:49.985776Z"
    }
   },
   "outputs": [],
   "source": [
    "tableauData = json.loads(soup.find(\"textarea\",{\"id\": \"tsConfigContainer\"}).text)"
   ]
  },
  {
   "cell_type": "markdown",
   "metadata": {},
   "source": [
    "Get the link to the Tableau data"
   ]
  },
  {
   "cell_type": "code",
   "execution_count": 4,
   "metadata": {
    "execution": {
     "iopub.execute_input": "2021-03-11T21:11:49.989699Z",
     "iopub.status.busy": "2021-03-11T21:11:49.989193Z",
     "iopub.status.idle": "2021-03-11T21:11:49.992557Z",
     "shell.execute_reply": "2021-03-11T21:11:49.992115Z"
    }
   },
   "outputs": [],
   "source": [
    "dataUrl = f'https://public.tableau.com{tableauData[\"vizql_root\"]}/bootstrapSession/sessions/{tableauData[\"sessionid\"]}'"
   ]
  },
  {
   "cell_type": "code",
   "execution_count": 5,
   "metadata": {
    "execution": {
     "iopub.execute_input": "2021-03-11T21:11:49.999444Z",
     "iopub.status.busy": "2021-03-11T21:11:49.998914Z",
     "iopub.status.idle": "2021-03-11T21:11:50.162962Z",
     "shell.execute_reply": "2021-03-11T21:11:50.162459Z"
    }
   },
   "outputs": [],
   "source": [
    "r = requests.post(dataUrl, data= {\n",
    "    \"sheet_id\": tableauData[\"sheetId\"],\n",
    "})\n",
    "\n",
    "dataReg = re.search('\\d+;({.*})\\d+;({.*})', r.text, re.MULTILINE)\n",
    "data1 = json.loads(dataReg.group(2))\n",
    "\n",
    "dataJson = data1[\"secondaryInfo\"][\"presModelMap\"][\"dataDictionary\"][\"presModelHolder\"][\"genDataDictionaryPresModel\"][\"dataSegments\"][\"0\"][\"dataColumns\"]"
   ]
  },
  {
   "cell_type": "markdown",
   "metadata": {},
   "source": [
    "Isolate what you want"
   ]
  },
  {
   "cell_type": "code",
   "execution_count": 6,
   "metadata": {
    "execution": {
     "iopub.execute_input": "2021-03-11T21:11:50.167197Z",
     "iopub.status.busy": "2021-03-11T21:11:50.166616Z",
     "iopub.status.idle": "2021-03-11T21:11:50.170591Z",
     "shell.execute_reply": "2021-03-11T21:11:50.170122Z"
    }
   },
   "outputs": [],
   "source": [
    "counties = dataJson[2]['dataValues'][:58]"
   ]
  },
  {
   "cell_type": "code",
   "execution_count": 7,
   "metadata": {
    "execution": {
     "iopub.execute_input": "2021-03-11T21:11:50.174219Z",
     "iopub.status.busy": "2021-03-11T21:11:50.173706Z",
     "iopub.status.idle": "2021-03-11T21:11:50.177343Z",
     "shell.execute_reply": "2021-03-11T21:11:50.176902Z"
    }
   },
   "outputs": [],
   "source": [
    "doses = dataJson[0]['dataValues'][3:61]"
   ]
  },
  {
   "cell_type": "markdown",
   "metadata": {},
   "source": [
    "Data formatting"
   ]
  },
  {
   "cell_type": "code",
   "execution_count": 8,
   "metadata": {
    "execution": {
     "iopub.execute_input": "2021-03-11T21:11:50.180811Z",
     "iopub.status.busy": "2021-03-11T21:11:50.180296Z",
     "iopub.status.idle": "2021-03-11T21:11:50.183335Z",
     "shell.execute_reply": "2021-03-11T21:11:50.183733Z"
    }
   },
   "outputs": [],
   "source": [
    "zipped = dict(zip(counties, doses))"
   ]
  },
  {
   "cell_type": "code",
   "execution_count": 9,
   "metadata": {
    "execution": {
     "iopub.execute_input": "2021-03-11T21:11:50.189382Z",
     "iopub.status.busy": "2021-03-11T21:11:50.188878Z",
     "iopub.status.idle": "2021-03-11T21:11:50.192536Z",
     "shell.execute_reply": "2021-03-11T21:11:50.192026Z"
    }
   },
   "outputs": [],
   "source": [
    "df = pd.Series(zipped).reset_index()"
   ]
  },
  {
   "cell_type": "code",
   "execution_count": 10,
   "metadata": {
    "execution": {
     "iopub.execute_input": "2021-03-11T21:11:50.196140Z",
     "iopub.status.busy": "2021-03-11T21:11:50.195605Z",
     "iopub.status.idle": "2021-03-11T21:11:50.198971Z",
     "shell.execute_reply": "2021-03-11T21:11:50.198520Z"
    }
   },
   "outputs": [],
   "source": [
    "df.columns = ['location','doses']"
   ]
  },
  {
   "cell_type": "markdown",
   "metadata": {},
   "source": [
    "Grab the overall California total"
   ]
  },
  {
   "cell_type": "code",
   "execution_count": 11,
   "metadata": {
    "execution": {
     "iopub.execute_input": "2021-03-11T21:11:50.202640Z",
     "iopub.status.busy": "2021-03-11T21:11:50.202133Z",
     "iopub.status.idle": "2021-03-11T21:11:50.205596Z",
     "shell.execute_reply": "2021-03-11T21:11:50.205147Z"
    }
   },
   "outputs": [],
   "source": [
    "add = {'location':'California','doses':dataJson[0]['dataValues'][2]}"
   ]
  },
  {
   "cell_type": "code",
   "execution_count": 12,
   "metadata": {
    "execution": {
     "iopub.execute_input": "2021-03-11T21:11:50.212206Z",
     "iopub.status.busy": "2021-03-11T21:11:50.211663Z",
     "iopub.status.idle": "2021-03-11T21:11:50.215124Z",
     "shell.execute_reply": "2021-03-11T21:11:50.214669Z"
    }
   },
   "outputs": [],
   "source": [
    "df = df.append(add, ignore_index=True)"
   ]
  },
  {
   "cell_type": "code",
   "execution_count": 13,
   "metadata": {
    "execution": {
     "iopub.execute_input": "2021-03-11T21:11:50.219465Z",
     "iopub.status.busy": "2021-03-11T21:11:50.218958Z",
     "iopub.status.idle": "2021-03-11T21:11:50.222022Z",
     "shell.execute_reply": "2021-03-11T21:11:50.222452Z"
    }
   },
   "outputs": [],
   "source": [
    "df = df.sort_values(by='location')"
   ]
  },
  {
   "cell_type": "code",
   "execution_count": 14,
   "metadata": {
    "execution": {
     "iopub.execute_input": "2021-03-11T21:11:50.228469Z",
     "iopub.status.busy": "2021-03-11T21:11:50.227925Z",
     "iopub.status.idle": "2021-03-11T21:11:50.231358Z",
     "shell.execute_reply": "2021-03-11T21:11:50.230905Z"
    }
   },
   "outputs": [],
   "source": [
    "df = df[df.location == 'California'].append(df[df.location != 'California']).reset_index(drop=True)"
   ]
  },
  {
   "cell_type": "code",
   "execution_count": null,
   "metadata": {},
   "outputs": [],
   "source": []
  },
  {
   "cell_type": "code",
   "execution_count": 15,
   "metadata": {
    "execution": {
     "iopub.execute_input": "2021-03-11T21:11:50.235107Z",
     "iopub.status.busy": "2021-03-11T21:11:50.234246Z",
     "iopub.status.idle": "2021-03-11T21:11:50.253458Z",
     "shell.execute_reply": "2021-03-11T21:11:50.252973Z"
    }
   },
   "outputs": [],
   "source": [
    "tz = pytz.timezone(\"America/New_York\")"
   ]
  },
  {
   "cell_type": "code",
   "execution_count": 16,
   "metadata": {
    "execution": {
     "iopub.execute_input": "2021-03-11T21:11:50.257359Z",
     "iopub.status.busy": "2021-03-11T21:11:50.256843Z",
     "iopub.status.idle": "2021-03-11T21:11:50.260356Z",
     "shell.execute_reply": "2021-03-11T21:11:50.259827Z"
    }
   },
   "outputs": [],
   "source": [
    "today = datetime.now(tz).date()"
   ]
  },
  {
   "cell_type": "code",
   "execution_count": 17,
   "metadata": {
    "execution": {
     "iopub.execute_input": "2021-03-11T21:11:50.264159Z",
     "iopub.status.busy": "2021-03-11T21:11:50.263621Z",
     "iopub.status.idle": "2021-03-11T21:11:50.267021Z",
     "shell.execute_reply": "2021-03-11T21:11:50.266562Z"
    }
   },
   "outputs": [],
   "source": [
    "data_dir = os.path.join(os.path.abspath(\"\"), \"data\")"
   ]
  },
  {
   "cell_type": "code",
   "execution_count": 18,
   "metadata": {
    "execution": {
     "iopub.execute_input": "2021-03-11T21:11:50.272610Z",
     "iopub.status.busy": "2021-03-11T21:11:50.270705Z",
     "iopub.status.idle": "2021-03-11T21:11:50.277189Z",
     "shell.execute_reply": "2021-03-11T21:11:50.276264Z"
    }
   },
   "outputs": [],
   "source": [
    "df.to_csv(os.path.join(data_dir, f\"{today}.csv\"), index=False)"
   ]
  },
  {
   "cell_type": "code",
   "execution_count": null,
   "metadata": {},
   "outputs": [],
   "source": []
  }
 ],
 "metadata": {
  "kernelspec": {
   "display_name": "Python 3",
   "language": "python",
   "name": "python3"
  },
  "language_info": {
   "codemirror_mode": {
    "name": "ipython",
    "version": 3
   },
   "file_extension": ".py",
   "mimetype": "text/x-python",
   "name": "python",
   "nbconvert_exporter": "python",
   "pygments_lexer": "ipython3",
   "version": "3.8.8"
  }
 },
 "nbformat": 4,
 "nbformat_minor": 4
}
