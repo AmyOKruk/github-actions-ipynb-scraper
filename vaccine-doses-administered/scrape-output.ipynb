{
 "cells": [
  {
   "cell_type": "markdown",
   "metadata": {},
   "source": [
    "# California COVID vaccinations scrape"
   ]
  },
  {
   "cell_type": "markdown",
   "metadata": {},
   "source": [
    "By [Amy O'Kruk](https://twitter.com/amyokruk)"
   ]
  },
  {
   "cell_type": "markdown",
   "metadata": {},
   "source": [
    "Downloads data on vaccine doses administered by county and statewide from a Tableau-powered dashboard from the California Department of Public Health."
   ]
  },
  {
   "cell_type": "code",
   "execution_count": 1,
   "metadata": {
    "execution": {
     "iopub.execute_input": "2021-03-19T04:15:44.912314Z",
     "iopub.status.busy": "2021-03-19T04:15:44.911727Z",
     "iopub.status.idle": "2021-03-19T04:15:45.365458Z",
     "shell.execute_reply": "2021-03-19T04:15:45.364918Z"
    }
   },
   "outputs": [],
   "source": [
    "import pandas as pd\n",
    "import requests\n",
    "from bs4 import BeautifulSoup\n",
    "import json\n",
    "import re\n",
    "import time\n",
    "from time import gmtime, strftime \n",
    "import os\n",
    "import pytz\n",
    "from datetime import datetime"
   ]
  },
  {
   "cell_type": "markdown",
   "metadata": {},
   "source": [
    "Scrape the dashboard page"
   ]
  },
  {
   "cell_type": "code",
   "execution_count": 2,
   "metadata": {
    "execution": {
     "iopub.execute_input": "2021-03-19T04:15:45.371149Z",
     "iopub.status.busy": "2021-03-19T04:15:45.368626Z",
     "iopub.status.idle": "2021-03-19T04:15:46.031687Z",
     "shell.execute_reply": "2021-03-19T04:15:46.030818Z"
    }
   },
   "outputs": [],
   "source": [
    "url = \"https://public.tableau.com/interactive/views/COVID-19VaccineDashboardPublic/Vaccine?:embed=y&:showVizHome=n&:apiID=host0\"\n",
    "\n",
    "r = requests.get(url)\n",
    "soup = BeautifulSoup(r.text, \"html.parser\")"
   ]
  },
  {
   "cell_type": "code",
   "execution_count": 3,
   "metadata": {
    "execution": {
     "iopub.execute_input": "2021-03-19T04:15:46.036453Z",
     "iopub.status.busy": "2021-03-19T04:15:46.035733Z",
     "iopub.status.idle": "2021-03-19T04:15:46.039706Z",
     "shell.execute_reply": "2021-03-19T04:15:46.039194Z"
    }
   },
   "outputs": [],
   "source": [
    "tableauData = json.loads(soup.find(\"textarea\",{\"id\": \"tsConfigContainer\"}).text)"
   ]
  },
  {
   "cell_type": "markdown",
   "metadata": {},
   "source": [
    "Get the link to the Tableau data"
   ]
  },
  {
   "cell_type": "code",
   "execution_count": 4,
   "metadata": {
    "execution": {
     "iopub.execute_input": "2021-03-19T04:15:46.043043Z",
     "iopub.status.busy": "2021-03-19T04:15:46.042522Z",
     "iopub.status.idle": "2021-03-19T04:15:46.046190Z",
     "shell.execute_reply": "2021-03-19T04:15:46.045675Z"
    }
   },
   "outputs": [],
   "source": [
    "dataUrl = f'https://public.tableau.com{tableauData[\"vizql_root\"]}/bootstrapSession/sessions/{tableauData[\"sessionid\"]}'"
   ]
  },
  {
   "cell_type": "code",
   "execution_count": 5,
   "metadata": {
    "execution": {
     "iopub.execute_input": "2021-03-19T04:15:46.053266Z",
     "iopub.status.busy": "2021-03-19T04:15:46.052639Z",
     "iopub.status.idle": "2021-03-19T04:15:46.588069Z",
     "shell.execute_reply": "2021-03-19T04:15:46.588549Z"
    }
   },
   "outputs": [],
   "source": [
    "r = requests.post(dataUrl, data= {\n",
    "    \"sheet_id\": tableauData[\"sheetId\"],\n",
    "})\n",
    "\n",
    "dataReg = re.search('\\d+;({.*})\\d+;({.*})', r.text, re.MULTILINE)\n",
    "data1 = json.loads(dataReg.group(2))\n",
    "\n",
    "dataJson = data1[\"secondaryInfo\"][\"presModelMap\"][\"dataDictionary\"][\"presModelHolder\"][\"genDataDictionaryPresModel\"][\"dataSegments\"][\"0\"][\"dataColumns\"]"
   ]
  },
  {
   "cell_type": "markdown",
   "metadata": {},
   "source": [
    "Isolate what you want"
   ]
  },
  {
   "cell_type": "code",
   "execution_count": 6,
   "metadata": {
    "execution": {
     "iopub.execute_input": "2021-03-19T04:15:46.592277Z",
     "iopub.status.busy": "2021-03-19T04:15:46.591757Z",
     "iopub.status.idle": "2021-03-19T04:15:46.595595Z",
     "shell.execute_reply": "2021-03-19T04:15:46.594923Z"
    }
   },
   "outputs": [],
   "source": [
    "counties = dataJson[2]['dataValues'][:58]"
   ]
  },
  {
   "cell_type": "code",
   "execution_count": 7,
   "metadata": {
    "execution": {
     "iopub.execute_input": "2021-03-19T04:15:46.598951Z",
     "iopub.status.busy": "2021-03-19T04:15:46.598229Z",
     "iopub.status.idle": "2021-03-19T04:15:46.601791Z",
     "shell.execute_reply": "2021-03-19T04:15:46.602200Z"
    }
   },
   "outputs": [],
   "source": [
    "doses = dataJson[0]['dataValues'][3:61]"
   ]
  },
  {
   "cell_type": "markdown",
   "metadata": {},
   "source": [
    "Data formatting"
   ]
  },
  {
   "cell_type": "code",
   "execution_count": 8,
   "metadata": {
    "execution": {
     "iopub.execute_input": "2021-03-19T04:15:46.605558Z",
     "iopub.status.busy": "2021-03-19T04:15:46.605044Z",
     "iopub.status.idle": "2021-03-19T04:15:46.608601Z",
     "shell.execute_reply": "2021-03-19T04:15:46.608121Z"
    }
   },
   "outputs": [],
   "source": [
    "zipped = dict(zip(counties, doses))"
   ]
  },
  {
   "cell_type": "code",
   "execution_count": 9,
   "metadata": {
    "execution": {
     "iopub.execute_input": "2021-03-19T04:15:46.613799Z",
     "iopub.status.busy": "2021-03-19T04:15:46.612911Z",
     "iopub.status.idle": "2021-03-19T04:15:46.620120Z",
     "shell.execute_reply": "2021-03-19T04:15:46.619335Z"
    }
   },
   "outputs": [],
   "source": [
    "df = pd.Series(zipped).reset_index()"
   ]
  },
  {
   "cell_type": "code",
   "execution_count": 10,
   "metadata": {
    "execution": {
     "iopub.execute_input": "2021-03-19T04:15:46.623248Z",
     "iopub.status.busy": "2021-03-19T04:15:46.622694Z",
     "iopub.status.idle": "2021-03-19T04:15:46.626827Z",
     "shell.execute_reply": "2021-03-19T04:15:46.627259Z"
    }
   },
   "outputs": [],
   "source": [
    "df.columns = ['location','doses']"
   ]
  },
  {
   "cell_type": "markdown",
   "metadata": {},
   "source": [
    "Grab the overall California total"
   ]
  },
  {
   "cell_type": "code",
   "execution_count": 11,
   "metadata": {
    "execution": {
     "iopub.execute_input": "2021-03-19T04:15:46.631937Z",
     "iopub.status.busy": "2021-03-19T04:15:46.630528Z",
     "iopub.status.idle": "2021-03-19T04:15:46.632560Z",
     "shell.execute_reply": "2021-03-19T04:15:46.633014Z"
    }
   },
   "outputs": [],
   "source": [
    "add = {'location':'California','doses':dataJson[0]['dataValues'][2]}"
   ]
  },
  {
   "cell_type": "code",
   "execution_count": 12,
   "metadata": {
    "execution": {
     "iopub.execute_input": "2021-03-19T04:15:46.640225Z",
     "iopub.status.busy": "2021-03-19T04:15:46.639061Z",
     "iopub.status.idle": "2021-03-19T04:15:46.640805Z",
     "shell.execute_reply": "2021-03-19T04:15:46.641237Z"
    }
   },
   "outputs": [],
   "source": [
    "df = df.append(add, ignore_index=True)"
   ]
  },
  {
   "cell_type": "code",
   "execution_count": 13,
   "metadata": {
    "execution": {
     "iopub.execute_input": "2021-03-19T04:15:46.647537Z",
     "iopub.status.busy": "2021-03-19T04:15:46.645133Z",
     "iopub.status.idle": "2021-03-19T04:15:46.648195Z",
     "shell.execute_reply": "2021-03-19T04:15:46.648699Z"
    }
   },
   "outputs": [],
   "source": [
    "df = df.sort_values(by='location')"
   ]
  },
  {
   "cell_type": "code",
   "execution_count": 14,
   "metadata": {
    "execution": {
     "iopub.execute_input": "2021-03-19T04:15:46.655392Z",
     "iopub.status.busy": "2021-03-19T04:15:46.654245Z",
     "iopub.status.idle": "2021-03-19T04:15:46.656012Z",
     "shell.execute_reply": "2021-03-19T04:15:46.656442Z"
    }
   },
   "outputs": [],
   "source": [
    "df = df[df.location == 'California'].append(df[df.location != 'California']).reset_index(drop=True)"
   ]
  },
  {
   "cell_type": "code",
   "execution_count": null,
   "metadata": {},
   "outputs": [],
   "source": []
  },
  {
   "cell_type": "code",
   "execution_count": 15,
   "metadata": {
    "execution": {
     "iopub.execute_input": "2021-03-19T04:15:46.659715Z",
     "iopub.status.busy": "2021-03-19T04:15:46.659211Z",
     "iopub.status.idle": "2021-03-19T04:15:46.678739Z",
     "shell.execute_reply": "2021-03-19T04:15:46.678182Z"
    }
   },
   "outputs": [],
   "source": [
    "tz = pytz.timezone(\"America/New_York\")"
   ]
  },
  {
   "cell_type": "code",
   "execution_count": 16,
   "metadata": {
    "execution": {
     "iopub.execute_input": "2021-03-19T04:15:46.682457Z",
     "iopub.status.busy": "2021-03-19T04:15:46.681536Z",
     "iopub.status.idle": "2021-03-19T04:15:46.683416Z",
     "shell.execute_reply": "2021-03-19T04:15:46.683890Z"
    }
   },
   "outputs": [],
   "source": [
    "today = datetime.now(tz).date()"
   ]
  },
  {
   "cell_type": "code",
   "execution_count": 17,
   "metadata": {
    "execution": {
     "iopub.execute_input": "2021-03-19T04:15:46.688049Z",
     "iopub.status.busy": "2021-03-19T04:15:46.686884Z",
     "iopub.status.idle": "2021-03-19T04:15:46.688712Z",
     "shell.execute_reply": "2021-03-19T04:15:46.689139Z"
    }
   },
   "outputs": [],
   "source": [
    "data_dir = os.path.join(os.path.abspath(\"\"), \"data\")"
   ]
  },
  {
   "cell_type": "code",
   "execution_count": 18,
   "metadata": {
    "execution": {
     "iopub.execute_input": "2021-03-19T04:15:46.694216Z",
     "iopub.status.busy": "2021-03-19T04:15:46.692076Z",
     "iopub.status.idle": "2021-03-19T04:15:46.696908Z",
     "shell.execute_reply": "2021-03-19T04:15:46.696384Z"
    }
   },
   "outputs": [],
   "source": [
    "df.to_csv(os.path.join(data_dir, f\"{today}.csv\"), index=False)"
   ]
  },
  {
   "cell_type": "code",
   "execution_count": null,
   "metadata": {},
   "outputs": [],
   "source": []
  }
 ],
 "metadata": {
  "kernelspec": {
   "display_name": "Python 3",
   "language": "python",
   "name": "python3"
  },
  "language_info": {
   "codemirror_mode": {
    "name": "ipython",
    "version": 3
   },
   "file_extension": ".py",
   "mimetype": "text/x-python",
   "name": "python",
   "nbconvert_exporter": "python",
   "pygments_lexer": "ipython3",
   "version": "3.8.8"
  }
 },
 "nbformat": 4,
 "nbformat_minor": 4
}
