{
 "cells": [
  {
   "cell_type": "markdown",
   "metadata": {},
   "source": [
    "# California COVID vaccinations scrape"
   ]
  },
  {
   "cell_type": "markdown",
   "metadata": {},
   "source": [
    "By [Amy O'Kruk](https://twitter.com/amyokruk)"
   ]
  },
  {
   "cell_type": "markdown",
   "metadata": {},
   "source": [
    "Downloads data on vaccine doses administered by county and statewide from a Tableau-powered dashboard from the California Department of Public Health."
   ]
  },
  {
   "cell_type": "code",
   "execution_count": 1,
   "metadata": {
    "execution": {
     "iopub.execute_input": "2021-03-24T04:26:05.709254Z",
     "iopub.status.busy": "2021-03-24T04:26:05.708085Z",
     "iopub.status.idle": "2021-03-24T04:26:07.729556Z",
     "shell.execute_reply": "2021-03-24T04:26:07.728968Z"
    }
   },
   "outputs": [],
   "source": [
    "import pandas as pd\n",
    "import requests\n",
    "from bs4 import BeautifulSoup\n",
    "import json\n",
    "import re\n",
    "import time\n",
    "from time import gmtime, strftime \n",
    "import os\n",
    "import pytz\n",
    "from datetime import datetime"
   ]
  },
  {
   "cell_type": "markdown",
   "metadata": {},
   "source": [
    "Scrape the dashboard page"
   ]
  },
  {
   "cell_type": "code",
   "execution_count": 2,
   "metadata": {
    "execution": {
     "iopub.execute_input": "2021-03-24T04:26:07.736802Z",
     "iopub.status.busy": "2021-03-24T04:26:07.736098Z",
     "iopub.status.idle": "2021-03-24T04:26:08.765410Z",
     "shell.execute_reply": "2021-03-24T04:26:08.764820Z"
    }
   },
   "outputs": [],
   "source": [
    "url = \"https://public.tableau.com/interactive/views/COVID-19VaccineDashboardPublic/Vaccine?:embed=y&:showVizHome=n&:apiID=host0\"\n",
    "\n",
    "r = requests.get(url)\n",
    "soup = BeautifulSoup(r.text, \"html.parser\")"
   ]
  },
  {
   "cell_type": "code",
   "execution_count": 3,
   "metadata": {
    "execution": {
     "iopub.execute_input": "2021-03-24T04:26:08.770761Z",
     "iopub.status.busy": "2021-03-24T04:26:08.770154Z",
     "iopub.status.idle": "2021-03-24T04:26:08.773773Z",
     "shell.execute_reply": "2021-03-24T04:26:08.774254Z"
    }
   },
   "outputs": [],
   "source": [
    "tableauData = json.loads(soup.find(\"textarea\",{\"id\": \"tsConfigContainer\"}).text)"
   ]
  },
  {
   "cell_type": "markdown",
   "metadata": {},
   "source": [
    "Get the link to the Tableau data"
   ]
  },
  {
   "cell_type": "code",
   "execution_count": 4,
   "metadata": {
    "execution": {
     "iopub.execute_input": "2021-03-24T04:26:08.779388Z",
     "iopub.status.busy": "2021-03-24T04:26:08.777895Z",
     "iopub.status.idle": "2021-03-24T04:26:08.780061Z",
     "shell.execute_reply": "2021-03-24T04:26:08.780599Z"
    }
   },
   "outputs": [],
   "source": [
    "dataUrl = f'https://public.tableau.com{tableauData[\"vizql_root\"]}/bootstrapSession/sessions/{tableauData[\"sessionid\"]}'"
   ]
  },
  {
   "cell_type": "code",
   "execution_count": 5,
   "metadata": {
    "execution": {
     "iopub.execute_input": "2021-03-24T04:26:08.788475Z",
     "iopub.status.busy": "2021-03-24T04:26:08.787804Z",
     "iopub.status.idle": "2021-03-24T04:26:09.156754Z",
     "shell.execute_reply": "2021-03-24T04:26:09.156225Z"
    }
   },
   "outputs": [],
   "source": [
    "r = requests.post(dataUrl, data= {\n",
    "    \"sheet_id\": tableauData[\"sheetId\"],\n",
    "})\n",
    "\n",
    "dataReg = re.search('\\d+;({.*})\\d+;({.*})', r.text, re.MULTILINE)\n",
    "data1 = json.loads(dataReg.group(2))\n",
    "\n",
    "dataJson = data1[\"secondaryInfo\"][\"presModelMap\"][\"dataDictionary\"][\"presModelHolder\"][\"genDataDictionaryPresModel\"][\"dataSegments\"][\"0\"][\"dataColumns\"]"
   ]
  },
  {
   "cell_type": "markdown",
   "metadata": {},
   "source": [
    "Isolate what you want"
   ]
  },
  {
   "cell_type": "code",
   "execution_count": 6,
   "metadata": {
    "execution": {
     "iopub.execute_input": "2021-03-24T04:26:09.161919Z",
     "iopub.status.busy": "2021-03-24T04:26:09.160435Z",
     "iopub.status.idle": "2021-03-24T04:26:09.162706Z",
     "shell.execute_reply": "2021-03-24T04:26:09.163255Z"
    }
   },
   "outputs": [],
   "source": [
    "counties = dataJson[2]['dataValues'][:58]"
   ]
  },
  {
   "cell_type": "code",
   "execution_count": 7,
   "metadata": {
    "execution": {
     "iopub.execute_input": "2021-03-24T04:26:09.167053Z",
     "iopub.status.busy": "2021-03-24T04:26:09.165599Z",
     "iopub.status.idle": "2021-03-24T04:26:09.169810Z",
     "shell.execute_reply": "2021-03-24T04:26:09.169313Z"
    }
   },
   "outputs": [],
   "source": [
    "doses = dataJson[0]['dataValues'][3:61]"
   ]
  },
  {
   "cell_type": "markdown",
   "metadata": {},
   "source": [
    "Data formatting"
   ]
  },
  {
   "cell_type": "code",
   "execution_count": 8,
   "metadata": {
    "execution": {
     "iopub.execute_input": "2021-03-24T04:26:09.175083Z",
     "iopub.status.busy": "2021-03-24T04:26:09.173445Z",
     "iopub.status.idle": "2021-03-24T04:26:09.175758Z",
     "shell.execute_reply": "2021-03-24T04:26:09.176301Z"
    }
   },
   "outputs": [],
   "source": [
    "zipped = dict(zip(counties, doses))"
   ]
  },
  {
   "cell_type": "code",
   "execution_count": 9,
   "metadata": {
    "execution": {
     "iopub.execute_input": "2021-03-24T04:26:09.183556Z",
     "iopub.status.busy": "2021-03-24T04:26:09.182148Z",
     "iopub.status.idle": "2021-03-24T04:26:09.184260Z",
     "shell.execute_reply": "2021-03-24T04:26:09.184930Z"
    }
   },
   "outputs": [],
   "source": [
    "df = pd.Series(zipped).reset_index()"
   ]
  },
  {
   "cell_type": "code",
   "execution_count": 10,
   "metadata": {
    "execution": {
     "iopub.execute_input": "2021-03-24T04:26:09.190270Z",
     "iopub.status.busy": "2021-03-24T04:26:09.188574Z",
     "iopub.status.idle": "2021-03-24T04:26:09.190951Z",
     "shell.execute_reply": "2021-03-24T04:26:09.191426Z"
    }
   },
   "outputs": [],
   "source": [
    "df.columns = ['location','doses']"
   ]
  },
  {
   "cell_type": "markdown",
   "metadata": {},
   "source": [
    "Grab the overall California total"
   ]
  },
  {
   "cell_type": "code",
   "execution_count": 11,
   "metadata": {
    "execution": {
     "iopub.execute_input": "2021-03-24T04:26:09.197081Z",
     "iopub.status.busy": "2021-03-24T04:26:09.195663Z",
     "iopub.status.idle": "2021-03-24T04:26:09.197756Z",
     "shell.execute_reply": "2021-03-24T04:26:09.198273Z"
    }
   },
   "outputs": [],
   "source": [
    "add = {'location':'California','doses':dataJson[0]['dataValues'][2]}"
   ]
  },
  {
   "cell_type": "code",
   "execution_count": 12,
   "metadata": {
    "execution": {
     "iopub.execute_input": "2021-03-24T04:26:09.208216Z",
     "iopub.status.busy": "2021-03-24T04:26:09.206711Z",
     "iopub.status.idle": "2021-03-24T04:26:09.208913Z",
     "shell.execute_reply": "2021-03-24T04:26:09.209431Z"
    }
   },
   "outputs": [],
   "source": [
    "df = df.append(add, ignore_index=True)"
   ]
  },
  {
   "cell_type": "code",
   "execution_count": 13,
   "metadata": {
    "execution": {
     "iopub.execute_input": "2021-03-24T04:26:09.215463Z",
     "iopub.status.busy": "2021-03-24T04:26:09.213880Z",
     "iopub.status.idle": "2021-03-24T04:26:09.216117Z",
     "shell.execute_reply": "2021-03-24T04:26:09.216637Z"
    }
   },
   "outputs": [],
   "source": [
    "df = df.sort_values(by='location')"
   ]
  },
  {
   "cell_type": "code",
   "execution_count": 14,
   "metadata": {
    "execution": {
     "iopub.execute_input": "2021-03-24T04:26:09.224738Z",
     "iopub.status.busy": "2021-03-24T04:26:09.223222Z",
     "iopub.status.idle": "2021-03-24T04:26:09.225504Z",
     "shell.execute_reply": "2021-03-24T04:26:09.226049Z"
    }
   },
   "outputs": [],
   "source": [
    "df = df[df.location == 'California'].append(df[df.location != 'California']).reset_index(drop=True)"
   ]
  },
  {
   "cell_type": "code",
   "execution_count": null,
   "metadata": {},
   "outputs": [],
   "source": []
  },
  {
   "cell_type": "code",
   "execution_count": 15,
   "metadata": {
    "execution": {
     "iopub.execute_input": "2021-03-24T04:26:09.230213Z",
     "iopub.status.busy": "2021-03-24T04:26:09.229610Z",
     "iopub.status.idle": "2021-03-24T04:26:09.252591Z",
     "shell.execute_reply": "2021-03-24T04:26:09.252005Z"
    }
   },
   "outputs": [],
   "source": [
    "tz = pytz.timezone(\"America/New_York\")"
   ]
  },
  {
   "cell_type": "code",
   "execution_count": 16,
   "metadata": {
    "execution": {
     "iopub.execute_input": "2021-03-24T04:26:09.258212Z",
     "iopub.status.busy": "2021-03-24T04:26:09.256439Z",
     "iopub.status.idle": "2021-03-24T04:26:09.258931Z",
     "shell.execute_reply": "2021-03-24T04:26:09.259423Z"
    }
   },
   "outputs": [],
   "source": [
    "today = datetime.now(tz).date()"
   ]
  },
  {
   "cell_type": "code",
   "execution_count": 17,
   "metadata": {
    "execution": {
     "iopub.execute_input": "2021-03-24T04:26:09.264738Z",
     "iopub.status.busy": "2021-03-24T04:26:09.263221Z",
     "iopub.status.idle": "2021-03-24T04:26:09.265370Z",
     "shell.execute_reply": "2021-03-24T04:26:09.265864Z"
    }
   },
   "outputs": [],
   "source": [
    "data_dir = os.path.join(os.path.abspath(\"\"), \"data\")"
   ]
  },
  {
   "cell_type": "code",
   "execution_count": 18,
   "metadata": {
    "execution": {
     "iopub.execute_input": "2021-03-24T04:26:09.271112Z",
     "iopub.status.busy": "2021-03-24T04:26:09.269480Z",
     "iopub.status.idle": "2021-03-24T04:26:09.274840Z",
     "shell.execute_reply": "2021-03-24T04:26:09.274337Z"
    }
   },
   "outputs": [],
   "source": [
    "df.to_csv(os.path.join(data_dir, f\"{today}.csv\"), index=False)"
   ]
  },
  {
   "cell_type": "code",
   "execution_count": null,
   "metadata": {},
   "outputs": [],
   "source": []
  }
 ],
 "metadata": {
  "kernelspec": {
   "display_name": "Python 3",
   "language": "python",
   "name": "python3"
  },
  "language_info": {
   "codemirror_mode": {
    "name": "ipython",
    "version": 3
   },
   "file_extension": ".py",
   "mimetype": "text/x-python",
   "name": "python",
   "nbconvert_exporter": "python",
   "pygments_lexer": "ipython3",
   "version": "3.8.8"
  }
 },
 "nbformat": 4,
 "nbformat_minor": 4
}
