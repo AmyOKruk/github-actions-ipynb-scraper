{
 "cells": [
  {
   "cell_type": "markdown",
   "metadata": {},
   "source": [
    "# California COVID vaccinations scrape"
   ]
  },
  {
   "cell_type": "markdown",
   "metadata": {},
   "source": [
    "By [Amy O'Kruk](https://twitter.com/amyokruk)"
   ]
  },
  {
   "cell_type": "markdown",
   "metadata": {},
   "source": [
    "Downloads data on vaccine doses administered by county and statewide from a Tableau-powered dashboard from the California Department of Public Health."
   ]
  },
  {
   "cell_type": "code",
   "execution_count": 1,
   "metadata": {
    "execution": {
     "iopub.execute_input": "2021-03-24T08:23:53.607374Z",
     "iopub.status.busy": "2021-03-24T08:23:53.606533Z",
     "iopub.status.idle": "2021-03-24T08:23:54.153370Z",
     "shell.execute_reply": "2021-03-24T08:23:54.152777Z"
    }
   },
   "outputs": [],
   "source": [
    "import pandas as pd\n",
    "import requests\n",
    "from bs4 import BeautifulSoup\n",
    "import json\n",
    "import re\n",
    "import time\n",
    "from time import gmtime, strftime \n",
    "import os\n",
    "import pytz\n",
    "from datetime import datetime"
   ]
  },
  {
   "cell_type": "markdown",
   "metadata": {},
   "source": [
    "Scrape the dashboard page"
   ]
  },
  {
   "cell_type": "code",
   "execution_count": 2,
   "metadata": {
    "execution": {
     "iopub.execute_input": "2021-03-24T08:23:54.159368Z",
     "iopub.status.busy": "2021-03-24T08:23:54.156786Z",
     "iopub.status.idle": "2021-03-24T08:23:54.430208Z",
     "shell.execute_reply": "2021-03-24T08:23:54.429624Z"
    }
   },
   "outputs": [],
   "source": [
    "url = \"https://public.tableau.com/interactive/views/COVID-19VaccineDashboardPublic/Vaccine?:embed=y&:showVizHome=n&:apiID=host0\"\n",
    "\n",
    "r = requests.get(url)\n",
    "soup = BeautifulSoup(r.text, \"html.parser\")"
   ]
  },
  {
   "cell_type": "code",
   "execution_count": 3,
   "metadata": {
    "execution": {
     "iopub.execute_input": "2021-03-24T08:23:54.435447Z",
     "iopub.status.busy": "2021-03-24T08:23:54.434837Z",
     "iopub.status.idle": "2021-03-24T08:23:54.438695Z",
     "shell.execute_reply": "2021-03-24T08:23:54.438256Z"
    }
   },
   "outputs": [],
   "source": [
    "tableauData = json.loads(soup.find(\"textarea\",{\"id\": \"tsConfigContainer\"}).text)"
   ]
  },
  {
   "cell_type": "markdown",
   "metadata": {},
   "source": [
    "Get the link to the Tableau data"
   ]
  },
  {
   "cell_type": "code",
   "execution_count": 4,
   "metadata": {
    "execution": {
     "iopub.execute_input": "2021-03-24T08:23:54.443287Z",
     "iopub.status.busy": "2021-03-24T08:23:54.442005Z",
     "iopub.status.idle": "2021-03-24T08:23:54.444196Z",
     "shell.execute_reply": "2021-03-24T08:23:54.444669Z"
    }
   },
   "outputs": [],
   "source": [
    "dataUrl = f'https://public.tableau.com{tableauData[\"vizql_root\"]}/bootstrapSession/sessions/{tableauData[\"sessionid\"]}'"
   ]
  },
  {
   "cell_type": "code",
   "execution_count": 5,
   "metadata": {
    "execution": {
     "iopub.execute_input": "2021-03-24T08:23:54.451602Z",
     "iopub.status.busy": "2021-03-24T08:23:54.451064Z",
     "iopub.status.idle": "2021-03-24T08:23:54.573499Z",
     "shell.execute_reply": "2021-03-24T08:23:54.572674Z"
    }
   },
   "outputs": [],
   "source": [
    "r = requests.post(dataUrl, data= {\n",
    "    \"sheet_id\": tableauData[\"sheetId\"],\n",
    "})\n",
    "\n",
    "dataReg = re.search('\\d+;({.*})\\d+;({.*})', r.text, re.MULTILINE)\n",
    "data1 = json.loads(dataReg.group(2))\n",
    "\n",
    "dataJson = data1[\"secondaryInfo\"][\"presModelMap\"][\"dataDictionary\"][\"presModelHolder\"][\"genDataDictionaryPresModel\"][\"dataSegments\"][\"0\"][\"dataColumns\"]"
   ]
  },
  {
   "cell_type": "markdown",
   "metadata": {},
   "source": [
    "Isolate what you want"
   ]
  },
  {
   "cell_type": "code",
   "execution_count": 6,
   "metadata": {
    "execution": {
     "iopub.execute_input": "2021-03-24T08:23:54.578798Z",
     "iopub.status.busy": "2021-03-24T08:23:54.577391Z",
     "iopub.status.idle": "2021-03-24T08:23:54.579536Z",
     "shell.execute_reply": "2021-03-24T08:23:54.579930Z"
    }
   },
   "outputs": [],
   "source": [
    "counties = dataJson[2]['dataValues'][:58]"
   ]
  },
  {
   "cell_type": "code",
   "execution_count": 7,
   "metadata": {
    "execution": {
     "iopub.execute_input": "2021-03-24T08:23:54.583996Z",
     "iopub.status.busy": "2021-03-24T08:23:54.581974Z",
     "iopub.status.idle": "2021-03-24T08:23:54.585958Z",
     "shell.execute_reply": "2021-03-24T08:23:54.585457Z"
    }
   },
   "outputs": [],
   "source": [
    "doses = dataJson[0]['dataValues'][3:61]"
   ]
  },
  {
   "cell_type": "markdown",
   "metadata": {},
   "source": [
    "Data formatting"
   ]
  },
  {
   "cell_type": "code",
   "execution_count": 8,
   "metadata": {
    "execution": {
     "iopub.execute_input": "2021-03-24T08:23:54.590376Z",
     "iopub.status.busy": "2021-03-24T08:23:54.589006Z",
     "iopub.status.idle": "2021-03-24T08:23:54.590924Z",
     "shell.execute_reply": "2021-03-24T08:23:54.591336Z"
    }
   },
   "outputs": [],
   "source": [
    "zipped = dict(zip(counties, doses))"
   ]
  },
  {
   "cell_type": "code",
   "execution_count": 9,
   "metadata": {
    "execution": {
     "iopub.execute_input": "2021-03-24T08:23:54.596917Z",
     "iopub.status.busy": "2021-03-24T08:23:54.596397Z",
     "iopub.status.idle": "2021-03-24T08:23:54.598952Z",
     "shell.execute_reply": "2021-03-24T08:23:54.598499Z"
    }
   },
   "outputs": [],
   "source": [
    "df = pd.Series(zipped).reset_index()"
   ]
  },
  {
   "cell_type": "code",
   "execution_count": 10,
   "metadata": {
    "execution": {
     "iopub.execute_input": "2021-03-24T08:23:54.603483Z",
     "iopub.status.busy": "2021-03-24T08:23:54.602032Z",
     "iopub.status.idle": "2021-03-24T08:23:54.604185Z",
     "shell.execute_reply": "2021-03-24T08:23:54.604859Z"
    }
   },
   "outputs": [],
   "source": [
    "df.columns = ['location','doses']"
   ]
  },
  {
   "cell_type": "markdown",
   "metadata": {},
   "source": [
    "Grab the overall California total"
   ]
  },
  {
   "cell_type": "code",
   "execution_count": 11,
   "metadata": {
    "execution": {
     "iopub.execute_input": "2021-03-24T08:23:54.609656Z",
     "iopub.status.busy": "2021-03-24T08:23:54.608595Z",
     "iopub.status.idle": "2021-03-24T08:23:54.610450Z",
     "shell.execute_reply": "2021-03-24T08:23:54.610932Z"
    }
   },
   "outputs": [],
   "source": [
    "add = {'location':'California','doses':dataJson[0]['dataValues'][2]}"
   ]
  },
  {
   "cell_type": "code",
   "execution_count": 12,
   "metadata": {
    "execution": {
     "iopub.execute_input": "2021-03-24T08:23:54.617897Z",
     "iopub.status.busy": "2021-03-24T08:23:54.617021Z",
     "iopub.status.idle": "2021-03-24T08:23:54.618846Z",
     "shell.execute_reply": "2021-03-24T08:23:54.619244Z"
    }
   },
   "outputs": [],
   "source": [
    "df = df.append(add, ignore_index=True)"
   ]
  },
  {
   "cell_type": "code",
   "execution_count": 13,
   "metadata": {
    "execution": {
     "iopub.execute_input": "2021-03-24T08:23:54.624071Z",
     "iopub.status.busy": "2021-03-24T08:23:54.623145Z",
     "iopub.status.idle": "2021-03-24T08:23:54.625533Z",
     "shell.execute_reply": "2021-03-24T08:23:54.625053Z"
    }
   },
   "outputs": [],
   "source": [
    "df = df.sort_values(by='location')"
   ]
  },
  {
   "cell_type": "code",
   "execution_count": 14,
   "metadata": {
    "execution": {
     "iopub.execute_input": "2021-03-24T08:23:54.632331Z",
     "iopub.status.busy": "2021-03-24T08:23:54.631153Z",
     "iopub.status.idle": "2021-03-24T08:23:54.632866Z",
     "shell.execute_reply": "2021-03-24T08:23:54.633248Z"
    }
   },
   "outputs": [],
   "source": [
    "df = df[df.location == 'California'].append(df[df.location != 'California']).reset_index(drop=True)"
   ]
  },
  {
   "cell_type": "code",
   "execution_count": null,
   "metadata": {},
   "outputs": [],
   "source": []
  },
  {
   "cell_type": "code",
   "execution_count": 15,
   "metadata": {
    "execution": {
     "iopub.execute_input": "2021-03-24T08:23:54.636865Z",
     "iopub.status.busy": "2021-03-24T08:23:54.636216Z",
     "iopub.status.idle": "2021-03-24T08:23:54.656546Z",
     "shell.execute_reply": "2021-03-24T08:23:54.657084Z"
    }
   },
   "outputs": [],
   "source": [
    "tz = pytz.timezone(\"America/New_York\")"
   ]
  },
  {
   "cell_type": "code",
   "execution_count": 16,
   "metadata": {
    "execution": {
     "iopub.execute_input": "2021-03-24T08:23:54.659344Z",
     "iopub.status.busy": "2021-03-24T08:23:54.658682Z",
     "iopub.status.idle": "2021-03-24T08:23:54.661883Z",
     "shell.execute_reply": "2021-03-24T08:23:54.662403Z"
    }
   },
   "outputs": [],
   "source": [
    "today = datetime.now(tz).date()"
   ]
  },
  {
   "cell_type": "code",
   "execution_count": 17,
   "metadata": {
    "execution": {
     "iopub.execute_input": "2021-03-24T08:23:54.664500Z",
     "iopub.status.busy": "2021-03-24T08:23:54.664052Z",
     "iopub.status.idle": "2021-03-24T08:23:54.667084Z",
     "shell.execute_reply": "2021-03-24T08:23:54.667627Z"
    }
   },
   "outputs": [],
   "source": [
    "data_dir = os.path.join(os.path.abspath(\"\"), \"data\")"
   ]
  },
  {
   "cell_type": "code",
   "execution_count": 18,
   "metadata": {
    "execution": {
     "iopub.execute_input": "2021-03-24T08:23:54.671294Z",
     "iopub.status.busy": "2021-03-24T08:23:54.670737Z",
     "iopub.status.idle": "2021-03-24T08:23:54.675248Z",
     "shell.execute_reply": "2021-03-24T08:23:54.674826Z"
    }
   },
   "outputs": [],
   "source": [
    "df.to_csv(os.path.join(data_dir, f\"{today}.csv\"), index=False)"
   ]
  },
  {
   "cell_type": "code",
   "execution_count": null,
   "metadata": {},
   "outputs": [],
   "source": []
  }
 ],
 "metadata": {
  "kernelspec": {
   "display_name": "Python 3",
   "language": "python",
   "name": "python3"
  },
  "language_info": {
   "codemirror_mode": {
    "name": "ipython",
    "version": 3
   },
   "file_extension": ".py",
   "mimetype": "text/x-python",
   "name": "python",
   "nbconvert_exporter": "python",
   "pygments_lexer": "ipython3",
   "version": "3.8.8"
  }
 },
 "nbformat": 4,
 "nbformat_minor": 4
}
