{
 "cells": [
  {
   "cell_type": "markdown",
   "metadata": {},
   "source": [
    "# California COVID vaccinations scrape"
   ]
  },
  {
   "cell_type": "markdown",
   "metadata": {},
   "source": [
    "By [Amy O'Kruk](https://twitter.com/amyokruk)"
   ]
  },
  {
   "cell_type": "markdown",
   "metadata": {},
   "source": [
    "Downloads data on vaccine doses administered by county and statewide from a Tableau-powered dashboard from the California Department of Public Health."
   ]
  },
  {
   "cell_type": "code",
   "execution_count": 1,
   "metadata": {
    "execution": {
     "iopub.execute_input": "2021-03-11T11:39:51.459558Z",
     "iopub.status.busy": "2021-03-11T11:39:51.458879Z",
     "iopub.status.idle": "2021-03-11T11:39:51.924097Z",
     "shell.execute_reply": "2021-03-11T11:39:51.922960Z"
    }
   },
   "outputs": [],
   "source": [
    "import pandas as pd\n",
    "import requests\n",
    "from bs4 import BeautifulSoup\n",
    "import json\n",
    "import re\n",
    "import time\n",
    "from time import gmtime, strftime \n",
    "import os\n",
    "import pytz\n",
    "from datetime import datetime"
   ]
  },
  {
   "cell_type": "markdown",
   "metadata": {},
   "source": [
    "Scrape the dashboard page"
   ]
  },
  {
   "cell_type": "code",
   "execution_count": 2,
   "metadata": {
    "execution": {
     "iopub.execute_input": "2021-03-11T11:39:51.930770Z",
     "iopub.status.busy": "2021-03-11T11:39:51.928305Z",
     "iopub.status.idle": "2021-03-11T11:39:52.496000Z",
     "shell.execute_reply": "2021-03-11T11:39:52.496744Z"
    }
   },
   "outputs": [],
   "source": [
    "url = \"https://public.tableau.com/interactive/views/COVID-19VaccineDashboardPublic/Vaccine?:embed=y&:showVizHome=n&:apiID=host0\"\n",
    "\n",
    "r = requests.get(url)\n",
    "soup = BeautifulSoup(r.text, \"html.parser\")"
   ]
  },
  {
   "cell_type": "code",
   "execution_count": 3,
   "metadata": {
    "execution": {
     "iopub.execute_input": "2021-03-11T11:39:52.502813Z",
     "iopub.status.busy": "2021-03-11T11:39:52.502263Z",
     "iopub.status.idle": "2021-03-11T11:39:52.506241Z",
     "shell.execute_reply": "2021-03-11T11:39:52.505687Z"
    }
   },
   "outputs": [],
   "source": [
    "tableauData = json.loads(soup.find(\"textarea\",{\"id\": \"tsConfigContainer\"}).text)"
   ]
  },
  {
   "cell_type": "markdown",
   "metadata": {},
   "source": [
    "Get the link to the Tableau data"
   ]
  },
  {
   "cell_type": "code",
   "execution_count": 4,
   "metadata": {
    "execution": {
     "iopub.execute_input": "2021-03-11T11:39:52.511250Z",
     "iopub.status.busy": "2021-03-11T11:39:52.509958Z",
     "iopub.status.idle": "2021-03-11T11:39:52.511846Z",
     "shell.execute_reply": "2021-03-11T11:39:52.512271Z"
    }
   },
   "outputs": [],
   "source": [
    "dataUrl = f'https://public.tableau.com{tableauData[\"vizql_root\"]}/bootstrapSession/sessions/{tableauData[\"sessionid\"]}'"
   ]
  },
  {
   "cell_type": "code",
   "execution_count": 5,
   "metadata": {
    "execution": {
     "iopub.execute_input": "2021-03-11T11:39:52.519502Z",
     "iopub.status.busy": "2021-03-11T11:39:52.518916Z",
     "iopub.status.idle": "2021-03-11T11:39:52.781845Z",
     "shell.execute_reply": "2021-03-11T11:39:52.781330Z"
    }
   },
   "outputs": [],
   "source": [
    "r = requests.post(dataUrl, data= {\n",
    "    \"sheet_id\": tableauData[\"sheetId\"],\n",
    "})\n",
    "\n",
    "dataReg = re.search('\\d+;({.*})\\d+;({.*})', r.text, re.MULTILINE)\n",
    "data1 = json.loads(dataReg.group(2))\n",
    "\n",
    "dataJson = data1[\"secondaryInfo\"][\"presModelMap\"][\"dataDictionary\"][\"presModelHolder\"][\"genDataDictionaryPresModel\"][\"dataSegments\"][\"0\"][\"dataColumns\"]"
   ]
  },
  {
   "cell_type": "markdown",
   "metadata": {},
   "source": [
    "Isolate what you want"
   ]
  },
  {
   "cell_type": "code",
   "execution_count": 6,
   "metadata": {
    "execution": {
     "iopub.execute_input": "2021-03-11T11:39:52.786880Z",
     "iopub.status.busy": "2021-03-11T11:39:52.785690Z",
     "iopub.status.idle": "2021-03-11T11:39:52.787485Z",
     "shell.execute_reply": "2021-03-11T11:39:52.787910Z"
    }
   },
   "outputs": [],
   "source": [
    "counties = dataJson[2]['dataValues'][:58]"
   ]
  },
  {
   "cell_type": "code",
   "execution_count": 7,
   "metadata": {
    "execution": {
     "iopub.execute_input": "2021-03-11T11:39:52.792377Z",
     "iopub.status.busy": "2021-03-11T11:39:52.791199Z",
     "iopub.status.idle": "2021-03-11T11:39:52.793800Z",
     "shell.execute_reply": "2021-03-11T11:39:52.793137Z"
    }
   },
   "outputs": [],
   "source": [
    "doses = dataJson[0]['dataValues'][3:61]"
   ]
  },
  {
   "cell_type": "markdown",
   "metadata": {},
   "source": [
    "Data formatting"
   ]
  },
  {
   "cell_type": "code",
   "execution_count": 8,
   "metadata": {
    "execution": {
     "iopub.execute_input": "2021-03-11T11:39:52.797856Z",
     "iopub.status.busy": "2021-03-11T11:39:52.797183Z",
     "iopub.status.idle": "2021-03-11T11:39:52.799916Z",
     "shell.execute_reply": "2021-03-11T11:39:52.799478Z"
    }
   },
   "outputs": [],
   "source": [
    "zipped = dict(zip(counties, doses))"
   ]
  },
  {
   "cell_type": "code",
   "execution_count": 9,
   "metadata": {
    "execution": {
     "iopub.execute_input": "2021-03-11T11:39:52.807407Z",
     "iopub.status.busy": "2021-03-11T11:39:52.806006Z",
     "iopub.status.idle": "2021-03-11T11:39:52.808062Z",
     "shell.execute_reply": "2021-03-11T11:39:52.808599Z"
    }
   },
   "outputs": [],
   "source": [
    "df = pd.Series(zipped).reset_index()"
   ]
  },
  {
   "cell_type": "code",
   "execution_count": 10,
   "metadata": {
    "execution": {
     "iopub.execute_input": "2021-03-11T11:39:52.813737Z",
     "iopub.status.busy": "2021-03-11T11:39:52.813010Z",
     "iopub.status.idle": "2021-03-11T11:39:52.818938Z",
     "shell.execute_reply": "2021-03-11T11:39:52.818466Z"
    }
   },
   "outputs": [],
   "source": [
    "df.columns = ['location','doses']"
   ]
  },
  {
   "cell_type": "markdown",
   "metadata": {},
   "source": [
    "Grab the overall California total"
   ]
  },
  {
   "cell_type": "code",
   "execution_count": 11,
   "metadata": {
    "execution": {
     "iopub.execute_input": "2021-03-11T11:39:52.823834Z",
     "iopub.status.busy": "2021-03-11T11:39:52.822679Z",
     "iopub.status.idle": "2021-03-11T11:39:52.824437Z",
     "shell.execute_reply": "2021-03-11T11:39:52.824868Z"
    }
   },
   "outputs": [],
   "source": [
    "add = {'location':'California','doses':dataJson[0]['dataValues'][2]}"
   ]
  },
  {
   "cell_type": "code",
   "execution_count": 12,
   "metadata": {
    "execution": {
     "iopub.execute_input": "2021-03-11T11:39:52.832792Z",
     "iopub.status.busy": "2021-03-11T11:39:52.831511Z",
     "iopub.status.idle": "2021-03-11T11:39:52.833399Z",
     "shell.execute_reply": "2021-03-11T11:39:52.833836Z"
    }
   },
   "outputs": [],
   "source": [
    "df = df.append(add, ignore_index=True)"
   ]
  },
  {
   "cell_type": "code",
   "execution_count": 13,
   "metadata": {
    "execution": {
     "iopub.execute_input": "2021-03-11T11:39:52.840488Z",
     "iopub.status.busy": "2021-03-11T11:39:52.838845Z",
     "iopub.status.idle": "2021-03-11T11:39:52.841298Z",
     "shell.execute_reply": "2021-03-11T11:39:52.842092Z"
    }
   },
   "outputs": [],
   "source": [
    "df = df.sort_values(by='location')"
   ]
  },
  {
   "cell_type": "code",
   "execution_count": 14,
   "metadata": {
    "execution": {
     "iopub.execute_input": "2021-03-11T11:39:52.851726Z",
     "iopub.status.busy": "2021-03-11T11:39:52.851161Z",
     "iopub.status.idle": "2021-03-11T11:39:52.853925Z",
     "shell.execute_reply": "2021-03-11T11:39:52.853383Z"
    }
   },
   "outputs": [],
   "source": [
    "df = df[df.location == 'California'].append(df[df.location != 'California']).reset_index(drop=True)"
   ]
  },
  {
   "cell_type": "code",
   "execution_count": null,
   "metadata": {},
   "outputs": [],
   "source": []
  },
  {
   "cell_type": "code",
   "execution_count": 15,
   "metadata": {
    "execution": {
     "iopub.execute_input": "2021-03-11T11:39:52.860226Z",
     "iopub.status.busy": "2021-03-11T11:39:52.859530Z",
     "iopub.status.idle": "2021-03-11T11:39:52.876929Z",
     "shell.execute_reply": "2021-03-11T11:39:52.877362Z"
    }
   },
   "outputs": [],
   "source": [
    "tz = pytz.timezone(\"America/New_York\")"
   ]
  },
  {
   "cell_type": "code",
   "execution_count": 16,
   "metadata": {
    "execution": {
     "iopub.execute_input": "2021-03-11T11:39:52.882593Z",
     "iopub.status.busy": "2021-03-11T11:39:52.881321Z",
     "iopub.status.idle": "2021-03-11T11:39:52.883231Z",
     "shell.execute_reply": "2021-03-11T11:39:52.883664Z"
    }
   },
   "outputs": [],
   "source": [
    "today = datetime.now(tz).date()"
   ]
  },
  {
   "cell_type": "code",
   "execution_count": 17,
   "metadata": {
    "execution": {
     "iopub.execute_input": "2021-03-11T11:39:52.888350Z",
     "iopub.status.busy": "2021-03-11T11:39:52.887238Z",
     "iopub.status.idle": "2021-03-11T11:39:52.889287Z",
     "shell.execute_reply": "2021-03-11T11:39:52.889803Z"
    }
   },
   "outputs": [],
   "source": [
    "data_dir = os.path.join(os.path.abspath(\"\"), \"data\")"
   ]
  },
  {
   "cell_type": "code",
   "execution_count": 18,
   "metadata": {
    "execution": {
     "iopub.execute_input": "2021-03-11T11:39:52.894173Z",
     "iopub.status.busy": "2021-03-11T11:39:52.893608Z",
     "iopub.status.idle": "2021-03-11T11:39:52.898600Z",
     "shell.execute_reply": "2021-03-11T11:39:52.897929Z"
    }
   },
   "outputs": [],
   "source": [
    "df.to_csv(os.path.join(data_dir, f\"{today}.csv\"), index=False)"
   ]
  },
  {
   "cell_type": "code",
   "execution_count": null,
   "metadata": {},
   "outputs": [],
   "source": []
  }
 ],
 "metadata": {
  "kernelspec": {
   "display_name": "Python 3",
   "language": "python",
   "name": "python3"
  },
  "language_info": {
   "codemirror_mode": {
    "name": "ipython",
    "version": 3
   },
   "file_extension": ".py",
   "mimetype": "text/x-python",
   "name": "python",
   "nbconvert_exporter": "python",
   "pygments_lexer": "ipython3",
   "version": "3.8.8"
  }
 },
 "nbformat": 4,
 "nbformat_minor": 4
}
