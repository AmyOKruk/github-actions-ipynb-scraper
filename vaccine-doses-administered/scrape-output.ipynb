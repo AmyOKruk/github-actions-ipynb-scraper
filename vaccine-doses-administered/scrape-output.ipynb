{
 "cells": [
  {
   "cell_type": "markdown",
   "metadata": {},
   "source": [
    "# California COVID vaccinations scrape"
   ]
  },
  {
   "cell_type": "markdown",
   "metadata": {},
   "source": [
    "By [Amy O'Kruk](https://twitter.com/amyokruk)"
   ]
  },
  {
   "cell_type": "markdown",
   "metadata": {},
   "source": [
    "Downloads data on vaccine doses administered by county and statewide from a Tableau-powered dashboard from the California Department of Public Health."
   ]
  },
  {
   "cell_type": "code",
   "execution_count": 1,
   "metadata": {
    "execution": {
     "iopub.execute_input": "2021-03-09T04:04:03.355147Z",
     "iopub.status.busy": "2021-03-09T04:04:03.354252Z",
     "iopub.status.idle": "2021-03-09T04:04:03.794211Z",
     "shell.execute_reply": "2021-03-09T04:04:03.793042Z"
    }
   },
   "outputs": [],
   "source": [
    "import pandas as pd\n",
    "import requests\n",
    "from bs4 import BeautifulSoup\n",
    "import json\n",
    "import re\n",
    "import time\n",
    "from time import gmtime, strftime \n",
    "import os\n",
    "import pytz\n",
    "from datetime import datetime"
   ]
  },
  {
   "cell_type": "markdown",
   "metadata": {},
   "source": [
    "Scrape the dashboard page"
   ]
  },
  {
   "cell_type": "code",
   "execution_count": 2,
   "metadata": {
    "execution": {
     "iopub.execute_input": "2021-03-09T04:04:03.800251Z",
     "iopub.status.busy": "2021-03-09T04:04:03.799656Z",
     "iopub.status.idle": "2021-03-09T04:04:04.280600Z",
     "shell.execute_reply": "2021-03-09T04:04:04.280032Z"
    }
   },
   "outputs": [],
   "source": [
    "url = \"https://public.tableau.com/interactive/views/COVID-19VaccineDashboardPublic/Vaccine?:embed=y&:showVizHome=n&:apiID=host0\"\n",
    "\n",
    "r = requests.get(url)\n",
    "soup = BeautifulSoup(r.text, \"html.parser\")"
   ]
  },
  {
   "cell_type": "code",
   "execution_count": 3,
   "metadata": {
    "execution": {
     "iopub.execute_input": "2021-03-09T04:04:04.286259Z",
     "iopub.status.busy": "2021-03-09T04:04:04.285696Z",
     "iopub.status.idle": "2021-03-09T04:04:04.289408Z",
     "shell.execute_reply": "2021-03-09T04:04:04.288902Z"
    }
   },
   "outputs": [],
   "source": [
    "tableauData = json.loads(soup.find(\"textarea\",{\"id\": \"tsConfigContainer\"}).text)"
   ]
  },
  {
   "cell_type": "markdown",
   "metadata": {},
   "source": [
    "Get the link to the Tableau data"
   ]
  },
  {
   "cell_type": "code",
   "execution_count": 4,
   "metadata": {
    "execution": {
     "iopub.execute_input": "2021-03-09T04:04:04.293966Z",
     "iopub.status.busy": "2021-03-09T04:04:04.292756Z",
     "iopub.status.idle": "2021-03-09T04:04:04.294644Z",
     "shell.execute_reply": "2021-03-09T04:04:04.295077Z"
    }
   },
   "outputs": [],
   "source": [
    "dataUrl = f'https://public.tableau.com{tableauData[\"vizql_root\"]}/bootstrapSession/sessions/{tableauData[\"sessionid\"]}'"
   ]
  },
  {
   "cell_type": "code",
   "execution_count": 5,
   "metadata": {
    "execution": {
     "iopub.execute_input": "2021-03-09T04:04:04.301929Z",
     "iopub.status.busy": "2021-03-09T04:04:04.301387Z",
     "iopub.status.idle": "2021-03-09T04:04:04.601367Z",
     "shell.execute_reply": "2021-03-09T04:04:04.601940Z"
    }
   },
   "outputs": [],
   "source": [
    "r = requests.post(dataUrl, data= {\n",
    "    \"sheet_id\": tableauData[\"sheetId\"],\n",
    "})\n",
    "\n",
    "dataReg = re.search('\\d+;({.*})\\d+;({.*})', r.text, re.MULTILINE)\n",
    "data1 = json.loads(dataReg.group(2))\n",
    "\n",
    "dataJson = data1[\"secondaryInfo\"][\"presModelMap\"][\"dataDictionary\"][\"presModelHolder\"][\"genDataDictionaryPresModel\"][\"dataSegments\"][\"0\"][\"dataColumns\"]"
   ]
  },
  {
   "cell_type": "markdown",
   "metadata": {},
   "source": [
    "Isolate what you want"
   ]
  },
  {
   "cell_type": "code",
   "execution_count": 6,
   "metadata": {
    "execution": {
     "iopub.execute_input": "2021-03-09T04:04:04.606920Z",
     "iopub.status.busy": "2021-03-09T04:04:04.605553Z",
     "iopub.status.idle": "2021-03-09T04:04:04.607514Z",
     "shell.execute_reply": "2021-03-09T04:04:04.607962Z"
    }
   },
   "outputs": [],
   "source": [
    "counties = dataJson[2]['dataValues'][:58]"
   ]
  },
  {
   "cell_type": "code",
   "execution_count": 7,
   "metadata": {
    "execution": {
     "iopub.execute_input": "2021-03-09T04:04:04.621865Z",
     "iopub.status.busy": "2021-03-09T04:04:04.620996Z",
     "iopub.status.idle": "2021-03-09T04:04:04.622440Z",
     "shell.execute_reply": "2021-03-09T04:04:04.622860Z"
    }
   },
   "outputs": [],
   "source": [
    "doses = dataJson[0]['dataValues'][3:61]"
   ]
  },
  {
   "cell_type": "markdown",
   "metadata": {},
   "source": [
    "Data formatting"
   ]
  },
  {
   "cell_type": "code",
   "execution_count": 8,
   "metadata": {
    "execution": {
     "iopub.execute_input": "2021-03-09T04:04:04.628066Z",
     "iopub.status.busy": "2021-03-09T04:04:04.626639Z",
     "iopub.status.idle": "2021-03-09T04:04:04.628657Z",
     "shell.execute_reply": "2021-03-09T04:04:04.629076Z"
    }
   },
   "outputs": [],
   "source": [
    "zipped = dict(zip(counties, doses))"
   ]
  },
  {
   "cell_type": "code",
   "execution_count": 9,
   "metadata": {
    "execution": {
     "iopub.execute_input": "2021-03-09T04:04:04.632110Z",
     "iopub.status.busy": "2021-03-09T04:04:04.631575Z",
     "iopub.status.idle": "2021-03-09T04:04:04.637576Z",
     "shell.execute_reply": "2021-03-09T04:04:04.636997Z"
    }
   },
   "outputs": [],
   "source": [
    "df = pd.Series(zipped).reset_index()"
   ]
  },
  {
   "cell_type": "code",
   "execution_count": 10,
   "metadata": {
    "execution": {
     "iopub.execute_input": "2021-03-09T04:04:04.644106Z",
     "iopub.status.busy": "2021-03-09T04:04:04.642119Z",
     "iopub.status.idle": "2021-03-09T04:04:04.644786Z",
     "shell.execute_reply": "2021-03-09T04:04:04.645290Z"
    }
   },
   "outputs": [],
   "source": [
    "df.columns = ['location','doses']"
   ]
  },
  {
   "cell_type": "markdown",
   "metadata": {},
   "source": [
    "Grab the overall California total"
   ]
  },
  {
   "cell_type": "code",
   "execution_count": 11,
   "metadata": {
    "execution": {
     "iopub.execute_input": "2021-03-09T04:04:04.649842Z",
     "iopub.status.busy": "2021-03-09T04:04:04.648754Z",
     "iopub.status.idle": "2021-03-09T04:04:04.650448Z",
     "shell.execute_reply": "2021-03-09T04:04:04.650871Z"
    }
   },
   "outputs": [],
   "source": [
    "add = {'location':'California','doses':dataJson[0]['dataValues'][2]}"
   ]
  },
  {
   "cell_type": "code",
   "execution_count": 12,
   "metadata": {
    "execution": {
     "iopub.execute_input": "2021-03-09T04:04:04.659227Z",
     "iopub.status.busy": "2021-03-09T04:04:04.657652Z",
     "iopub.status.idle": "2021-03-09T04:04:04.659896Z",
     "shell.execute_reply": "2021-03-09T04:04:04.660355Z"
    }
   },
   "outputs": [],
   "source": [
    "df = df.append(add, ignore_index=True)"
   ]
  },
  {
   "cell_type": "code",
   "execution_count": 13,
   "metadata": {
    "execution": {
     "iopub.execute_input": "2021-03-09T04:04:04.665582Z",
     "iopub.status.busy": "2021-03-09T04:04:04.664716Z",
     "iopub.status.idle": "2021-03-09T04:04:04.667000Z",
     "shell.execute_reply": "2021-03-09T04:04:04.666534Z"
    }
   },
   "outputs": [],
   "source": [
    "df = df.sort_values(by='location')"
   ]
  },
  {
   "cell_type": "code",
   "execution_count": 14,
   "metadata": {
    "execution": {
     "iopub.execute_input": "2021-03-09T04:04:04.674032Z",
     "iopub.status.busy": "2021-03-09T04:04:04.672865Z",
     "iopub.status.idle": "2021-03-09T04:04:04.674742Z",
     "shell.execute_reply": "2021-03-09T04:04:04.675183Z"
    }
   },
   "outputs": [],
   "source": [
    "df = df[df.location == 'California'].append(df[df.location != 'California']).reset_index(drop=True)"
   ]
  },
  {
   "cell_type": "code",
   "execution_count": null,
   "metadata": {},
   "outputs": [],
   "source": []
  },
  {
   "cell_type": "code",
   "execution_count": 15,
   "metadata": {
    "execution": {
     "iopub.execute_input": "2021-03-09T04:04:04.682270Z",
     "iopub.status.busy": "2021-03-09T04:04:04.681628Z",
     "iopub.status.idle": "2021-03-09T04:04:04.708536Z",
     "shell.execute_reply": "2021-03-09T04:04:04.708026Z"
    }
   },
   "outputs": [],
   "source": [
    "tz = pytz.timezone(\"America/New_York\")"
   ]
  },
  {
   "cell_type": "code",
   "execution_count": 16,
   "metadata": {
    "execution": {
     "iopub.execute_input": "2021-03-09T04:04:04.713158Z",
     "iopub.status.busy": "2021-03-09T04:04:04.711817Z",
     "iopub.status.idle": "2021-03-09T04:04:04.713751Z",
     "shell.execute_reply": "2021-03-09T04:04:04.714175Z"
    }
   },
   "outputs": [],
   "source": [
    "today = datetime.now(tz).date()"
   ]
  },
  {
   "cell_type": "code",
   "execution_count": 17,
   "metadata": {
    "execution": {
     "iopub.execute_input": "2021-03-09T04:04:04.718973Z",
     "iopub.status.busy": "2021-03-09T04:04:04.717828Z",
     "iopub.status.idle": "2021-03-09T04:04:04.719578Z",
     "shell.execute_reply": "2021-03-09T04:04:04.720045Z"
    }
   },
   "outputs": [],
   "source": [
    "data_dir = os.path.join(os.path.abspath(\"\"), \"data\")"
   ]
  },
  {
   "cell_type": "code",
   "execution_count": 18,
   "metadata": {
    "execution": {
     "iopub.execute_input": "2021-03-09T04:04:04.725940Z",
     "iopub.status.busy": "2021-03-09T04:04:04.725399Z",
     "iopub.status.idle": "2021-03-09T04:04:04.735926Z",
     "shell.execute_reply": "2021-03-09T04:04:04.735446Z"
    }
   },
   "outputs": [],
   "source": [
    "df.to_csv(os.path.join(data_dir, f\"{today}.csv\"), index=False)"
   ]
  },
  {
   "cell_type": "code",
   "execution_count": null,
   "metadata": {},
   "outputs": [],
   "source": []
  }
 ],
 "metadata": {
  "kernelspec": {
   "display_name": "Python 3",
   "language": "python",
   "name": "python3"
  },
  "language_info": {
   "codemirror_mode": {
    "name": "ipython",
    "version": 3
   },
   "file_extension": ".py",
   "mimetype": "text/x-python",
   "name": "python",
   "nbconvert_exporter": "python",
   "pygments_lexer": "ipython3",
   "version": "3.8.8"
  }
 },
 "nbformat": 4,
 "nbformat_minor": 4
}
