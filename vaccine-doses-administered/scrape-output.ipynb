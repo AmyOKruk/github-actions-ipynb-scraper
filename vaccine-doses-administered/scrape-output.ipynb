{
 "cells": [
  {
   "cell_type": "markdown",
   "metadata": {},
   "source": [
    "# California COVID vaccinations scrape"
   ]
  },
  {
   "cell_type": "markdown",
   "metadata": {},
   "source": [
    "By [Amy O'Kruk](https://twitter.com/amyokruk)"
   ]
  },
  {
   "cell_type": "markdown",
   "metadata": {},
   "source": [
    "Downloads data on vaccine doses administered by county and statewide from a Tableau-powered dashboard from the California Department of Public Health."
   ]
  },
  {
   "cell_type": "code",
   "execution_count": 1,
   "metadata": {
    "execution": {
     "iopub.execute_input": "2021-03-18T01:29:58.972849Z",
     "iopub.status.busy": "2021-03-18T01:29:58.972249Z",
     "iopub.status.idle": "2021-03-18T01:29:59.488411Z",
     "shell.execute_reply": "2021-03-18T01:29:59.487410Z"
    }
   },
   "outputs": [],
   "source": [
    "import pandas as pd\n",
    "import requests\n",
    "from bs4 import BeautifulSoup\n",
    "import json\n",
    "import re\n",
    "import time\n",
    "from time import gmtime, strftime \n",
    "import os\n",
    "import pytz\n",
    "from datetime import datetime"
   ]
  },
  {
   "cell_type": "markdown",
   "metadata": {},
   "source": [
    "Scrape the dashboard page"
   ]
  },
  {
   "cell_type": "code",
   "execution_count": 2,
   "metadata": {
    "execution": {
     "iopub.execute_input": "2021-03-18T01:29:59.493199Z",
     "iopub.status.busy": "2021-03-18T01:29:59.492256Z",
     "iopub.status.idle": "2021-03-18T01:30:00.204274Z",
     "shell.execute_reply": "2021-03-18T01:30:00.204793Z"
    }
   },
   "outputs": [],
   "source": [
    "url = \"https://public.tableau.com/interactive/views/COVID-19VaccineDashboardPublic/Vaccine?:embed=y&:showVizHome=n&:apiID=host0\"\n",
    "\n",
    "r = requests.get(url)\n",
    "soup = BeautifulSoup(r.text, \"html.parser\")"
   ]
  },
  {
   "cell_type": "code",
   "execution_count": 3,
   "metadata": {
    "execution": {
     "iopub.execute_input": "2021-03-18T01:30:00.210407Z",
     "iopub.status.busy": "2021-03-18T01:30:00.209778Z",
     "iopub.status.idle": "2021-03-18T01:30:00.213908Z",
     "shell.execute_reply": "2021-03-18T01:30:00.213409Z"
    }
   },
   "outputs": [],
   "source": [
    "tableauData = json.loads(soup.find(\"textarea\",{\"id\": \"tsConfigContainer\"}).text)"
   ]
  },
  {
   "cell_type": "markdown",
   "metadata": {},
   "source": [
    "Get the link to the Tableau data"
   ]
  },
  {
   "cell_type": "code",
   "execution_count": 4,
   "metadata": {
    "execution": {
     "iopub.execute_input": "2021-03-18T01:30:00.217661Z",
     "iopub.status.busy": "2021-03-18T01:30:00.217045Z",
     "iopub.status.idle": "2021-03-18T01:30:00.220925Z",
     "shell.execute_reply": "2021-03-18T01:30:00.220381Z"
    }
   },
   "outputs": [],
   "source": [
    "dataUrl = f'https://public.tableau.com{tableauData[\"vizql_root\"]}/bootstrapSession/sessions/{tableauData[\"sessionid\"]}'"
   ]
  },
  {
   "cell_type": "code",
   "execution_count": 5,
   "metadata": {
    "execution": {
     "iopub.execute_input": "2021-03-18T01:30:00.228342Z",
     "iopub.status.busy": "2021-03-18T01:30:00.227769Z",
     "iopub.status.idle": "2021-03-18T01:30:00.488896Z",
     "shell.execute_reply": "2021-03-18T01:30:00.488413Z"
    }
   },
   "outputs": [],
   "source": [
    "r = requests.post(dataUrl, data= {\n",
    "    \"sheet_id\": tableauData[\"sheetId\"],\n",
    "})\n",
    "\n",
    "dataReg = re.search('\\d+;({.*})\\d+;({.*})', r.text, re.MULTILINE)\n",
    "data1 = json.loads(dataReg.group(2))\n",
    "\n",
    "dataJson = data1[\"secondaryInfo\"][\"presModelMap\"][\"dataDictionary\"][\"presModelHolder\"][\"genDataDictionaryPresModel\"][\"dataSegments\"][\"0\"][\"dataColumns\"]"
   ]
  },
  {
   "cell_type": "markdown",
   "metadata": {},
   "source": [
    "Isolate what you want"
   ]
  },
  {
   "cell_type": "code",
   "execution_count": 6,
   "metadata": {
    "execution": {
     "iopub.execute_input": "2021-03-18T01:30:00.494030Z",
     "iopub.status.busy": "2021-03-18T01:30:00.492699Z",
     "iopub.status.idle": "2021-03-18T01:30:00.494715Z",
     "shell.execute_reply": "2021-03-18T01:30:00.495206Z"
    }
   },
   "outputs": [],
   "source": [
    "counties = dataJson[2]['dataValues'][:58]"
   ]
  },
  {
   "cell_type": "code",
   "execution_count": 7,
   "metadata": {
    "execution": {
     "iopub.execute_input": "2021-03-18T01:30:00.499660Z",
     "iopub.status.busy": "2021-03-18T01:30:00.498670Z",
     "iopub.status.idle": "2021-03-18T01:30:00.502645Z",
     "shell.execute_reply": "2021-03-18T01:30:00.502209Z"
    }
   },
   "outputs": [],
   "source": [
    "doses = dataJson[0]['dataValues'][3:61]"
   ]
  },
  {
   "cell_type": "markdown",
   "metadata": {},
   "source": [
    "Data formatting"
   ]
  },
  {
   "cell_type": "code",
   "execution_count": 8,
   "metadata": {
    "execution": {
     "iopub.execute_input": "2021-03-18T01:30:00.507353Z",
     "iopub.status.busy": "2021-03-18T01:30:00.506110Z",
     "iopub.status.idle": "2021-03-18T01:30:00.508011Z",
     "shell.execute_reply": "2021-03-18T01:30:00.508467Z"
    }
   },
   "outputs": [],
   "source": [
    "zipped = dict(zip(counties, doses))"
   ]
  },
  {
   "cell_type": "code",
   "execution_count": 9,
   "metadata": {
    "execution": {
     "iopub.execute_input": "2021-03-18T01:30:00.515840Z",
     "iopub.status.busy": "2021-03-18T01:30:00.514428Z",
     "iopub.status.idle": "2021-03-18T01:30:00.516476Z",
     "shell.execute_reply": "2021-03-18T01:30:00.516971Z"
    }
   },
   "outputs": [],
   "source": [
    "df = pd.Series(zipped).reset_index()"
   ]
  },
  {
   "cell_type": "code",
   "execution_count": 10,
   "metadata": {
    "execution": {
     "iopub.execute_input": "2021-03-18T01:30:00.522940Z",
     "iopub.status.busy": "2021-03-18T01:30:00.521511Z",
     "iopub.status.idle": "2021-03-18T01:30:00.523553Z",
     "shell.execute_reply": "2021-03-18T01:30:00.524013Z"
    }
   },
   "outputs": [],
   "source": [
    "df.columns = ['location','doses']"
   ]
  },
  {
   "cell_type": "markdown",
   "metadata": {},
   "source": [
    "Grab the overall California total"
   ]
  },
  {
   "cell_type": "code",
   "execution_count": 11,
   "metadata": {
    "execution": {
     "iopub.execute_input": "2021-03-18T01:30:00.528153Z",
     "iopub.status.busy": "2021-03-18T01:30:00.527209Z",
     "iopub.status.idle": "2021-03-18T01:30:00.528902Z",
     "shell.execute_reply": "2021-03-18T01:30:00.529348Z"
    }
   },
   "outputs": [],
   "source": [
    "add = {'location':'California','doses':dataJson[0]['dataValues'][2]}"
   ]
  },
  {
   "cell_type": "code",
   "execution_count": 12,
   "metadata": {
    "execution": {
     "iopub.execute_input": "2021-03-18T01:30:00.537076Z",
     "iopub.status.busy": "2021-03-18T01:30:00.535530Z",
     "iopub.status.idle": "2021-03-18T01:30:00.537734Z",
     "shell.execute_reply": "2021-03-18T01:30:00.538308Z"
    }
   },
   "outputs": [],
   "source": [
    "df = df.append(add, ignore_index=True)"
   ]
  },
  {
   "cell_type": "code",
   "execution_count": 13,
   "metadata": {
    "execution": {
     "iopub.execute_input": "2021-03-18T01:30:00.543397Z",
     "iopub.status.busy": "2021-03-18T01:30:00.542078Z",
     "iopub.status.idle": "2021-03-18T01:30:00.543958Z",
     "shell.execute_reply": "2021-03-18T01:30:00.544433Z"
    }
   },
   "outputs": [],
   "source": [
    "df = df.sort_values(by='location')"
   ]
  },
  {
   "cell_type": "code",
   "execution_count": 14,
   "metadata": {
    "execution": {
     "iopub.execute_input": "2021-03-18T01:30:00.551091Z",
     "iopub.status.busy": "2021-03-18T01:30:00.549813Z",
     "iopub.status.idle": "2021-03-18T01:30:00.551849Z",
     "shell.execute_reply": "2021-03-18T01:30:00.552371Z"
    }
   },
   "outputs": [],
   "source": [
    "df = df[df.location == 'California'].append(df[df.location != 'California']).reset_index(drop=True)"
   ]
  },
  {
   "cell_type": "code",
   "execution_count": null,
   "metadata": {},
   "outputs": [],
   "source": []
  },
  {
   "cell_type": "code",
   "execution_count": 15,
   "metadata": {
    "execution": {
     "iopub.execute_input": "2021-03-18T01:30:00.555608Z",
     "iopub.status.busy": "2021-03-18T01:30:00.555064Z",
     "iopub.status.idle": "2021-03-18T01:30:00.573454Z",
     "shell.execute_reply": "2021-03-18T01:30:00.572955Z"
    }
   },
   "outputs": [],
   "source": [
    "tz = pytz.timezone(\"America/New_York\")"
   ]
  },
  {
   "cell_type": "code",
   "execution_count": 16,
   "metadata": {
    "execution": {
     "iopub.execute_input": "2021-03-18T01:30:00.577884Z",
     "iopub.status.busy": "2021-03-18T01:30:00.576507Z",
     "iopub.status.idle": "2021-03-18T01:30:00.578619Z",
     "shell.execute_reply": "2021-03-18T01:30:00.579077Z"
    }
   },
   "outputs": [],
   "source": [
    "today = datetime.now(tz).date()"
   ]
  },
  {
   "cell_type": "code",
   "execution_count": 17,
   "metadata": {
    "execution": {
     "iopub.execute_input": "2021-03-18T01:30:00.584136Z",
     "iopub.status.busy": "2021-03-18T01:30:00.582565Z",
     "iopub.status.idle": "2021-03-18T01:30:00.584788Z",
     "shell.execute_reply": "2021-03-18T01:30:00.585266Z"
    }
   },
   "outputs": [],
   "source": [
    "data_dir = os.path.join(os.path.abspath(\"\"), \"data\")"
   ]
  },
  {
   "cell_type": "code",
   "execution_count": 18,
   "metadata": {
    "execution": {
     "iopub.execute_input": "2021-03-18T01:30:00.590015Z",
     "iopub.status.busy": "2021-03-18T01:30:00.588813Z",
     "iopub.status.idle": "2021-03-18T01:30:00.593232Z",
     "shell.execute_reply": "2021-03-18T01:30:00.593614Z"
    }
   },
   "outputs": [],
   "source": [
    "df.to_csv(os.path.join(data_dir, f\"{today}.csv\"), index=False)"
   ]
  },
  {
   "cell_type": "code",
   "execution_count": null,
   "metadata": {},
   "outputs": [],
   "source": []
  }
 ],
 "metadata": {
  "kernelspec": {
   "display_name": "Python 3",
   "language": "python",
   "name": "python3"
  },
  "language_info": {
   "codemirror_mode": {
    "name": "ipython",
    "version": 3
   },
   "file_extension": ".py",
   "mimetype": "text/x-python",
   "name": "python",
   "nbconvert_exporter": "python",
   "pygments_lexer": "ipython3",
   "version": "3.8.8"
  }
 },
 "nbformat": 4,
 "nbformat_minor": 4
}
