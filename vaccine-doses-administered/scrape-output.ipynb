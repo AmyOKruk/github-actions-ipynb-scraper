{
 "cells": [
  {
   "cell_type": "markdown",
   "metadata": {},
   "source": [
    "# California COVID vaccinations scrape"
   ]
  },
  {
   "cell_type": "markdown",
   "metadata": {},
   "source": [
    "By [Amy O'Kruk](https://twitter.com/amyokruk)"
   ]
  },
  {
   "cell_type": "markdown",
   "metadata": {},
   "source": [
    "Downloads data on vaccine doses administered by county and statewide from a Tableau-powered dashboard from the California Department of Public Health."
   ]
  },
  {
   "cell_type": "code",
   "execution_count": 1,
   "metadata": {
    "execution": {
     "iopub.execute_input": "2021-03-23T21:42:47.749584Z",
     "iopub.status.busy": "2021-03-23T21:42:47.748552Z",
     "iopub.status.idle": "2021-03-23T21:42:48.136747Z",
     "shell.execute_reply": "2021-03-23T21:42:48.135747Z"
    }
   },
   "outputs": [],
   "source": [
    "import pandas as pd\n",
    "import requests\n",
    "from bs4 import BeautifulSoup\n",
    "import json\n",
    "import re\n",
    "import time\n",
    "from time import gmtime, strftime \n",
    "import os\n",
    "import pytz\n",
    "from datetime import datetime"
   ]
  },
  {
   "cell_type": "markdown",
   "metadata": {},
   "source": [
    "Scrape the dashboard page"
   ]
  },
  {
   "cell_type": "code",
   "execution_count": 2,
   "metadata": {
    "execution": {
     "iopub.execute_input": "2021-03-23T21:42:48.142046Z",
     "iopub.status.busy": "2021-03-23T21:42:48.140179Z",
     "iopub.status.idle": "2021-03-23T21:42:48.598319Z",
     "shell.execute_reply": "2021-03-23T21:42:48.597221Z"
    }
   },
   "outputs": [],
   "source": [
    "url = \"https://public.tableau.com/interactive/views/COVID-19VaccineDashboardPublic/Vaccine?:embed=y&:showVizHome=n&:apiID=host0\"\n",
    "\n",
    "r = requests.get(url)\n",
    "soup = BeautifulSoup(r.text, \"html.parser\")"
   ]
  },
  {
   "cell_type": "code",
   "execution_count": 3,
   "metadata": {
    "execution": {
     "iopub.execute_input": "2021-03-23T21:42:48.603138Z",
     "iopub.status.busy": "2021-03-23T21:42:48.602607Z",
     "iopub.status.idle": "2021-03-23T21:42:48.604871Z",
     "shell.execute_reply": "2021-03-23T21:42:48.605272Z"
    }
   },
   "outputs": [],
   "source": [
    "tableauData = json.loads(soup.find(\"textarea\",{\"id\": \"tsConfigContainer\"}).text)"
   ]
  },
  {
   "cell_type": "markdown",
   "metadata": {},
   "source": [
    "Get the link to the Tableau data"
   ]
  },
  {
   "cell_type": "code",
   "execution_count": 4,
   "metadata": {
    "execution": {
     "iopub.execute_input": "2021-03-23T21:42:48.608806Z",
     "iopub.status.busy": "2021-03-23T21:42:48.608299Z",
     "iopub.status.idle": "2021-03-23T21:42:48.611653Z",
     "shell.execute_reply": "2021-03-23T21:42:48.611203Z"
    }
   },
   "outputs": [],
   "source": [
    "dataUrl = f'https://public.tableau.com{tableauData[\"vizql_root\"]}/bootstrapSession/sessions/{tableauData[\"sessionid\"]}'"
   ]
  },
  {
   "cell_type": "code",
   "execution_count": 5,
   "metadata": {
    "execution": {
     "iopub.execute_input": "2021-03-23T21:42:48.617984Z",
     "iopub.status.busy": "2021-03-23T21:42:48.617462Z",
     "iopub.status.idle": "2021-03-23T21:42:49.587573Z",
     "shell.execute_reply": "2021-03-23T21:42:49.587067Z"
    }
   },
   "outputs": [],
   "source": [
    "r = requests.post(dataUrl, data= {\n",
    "    \"sheet_id\": tableauData[\"sheetId\"],\n",
    "})\n",
    "\n",
    "dataReg = re.search('\\d+;({.*})\\d+;({.*})', r.text, re.MULTILINE)\n",
    "data1 = json.loads(dataReg.group(2))\n",
    "\n",
    "dataJson = data1[\"secondaryInfo\"][\"presModelMap\"][\"dataDictionary\"][\"presModelHolder\"][\"genDataDictionaryPresModel\"][\"dataSegments\"][\"0\"][\"dataColumns\"]"
   ]
  },
  {
   "cell_type": "markdown",
   "metadata": {},
   "source": [
    "Isolate what you want"
   ]
  },
  {
   "cell_type": "code",
   "execution_count": 6,
   "metadata": {
    "execution": {
     "iopub.execute_input": "2021-03-23T21:42:49.591611Z",
     "iopub.status.busy": "2021-03-23T21:42:49.591086Z",
     "iopub.status.idle": "2021-03-23T21:42:49.594522Z",
     "shell.execute_reply": "2021-03-23T21:42:49.594067Z"
    }
   },
   "outputs": [],
   "source": [
    "counties = dataJson[2]['dataValues'][:58]"
   ]
  },
  {
   "cell_type": "code",
   "execution_count": 7,
   "metadata": {
    "execution": {
     "iopub.execute_input": "2021-03-23T21:42:49.598101Z",
     "iopub.status.busy": "2021-03-23T21:42:49.597585Z",
     "iopub.status.idle": "2021-03-23T21:42:49.601051Z",
     "shell.execute_reply": "2021-03-23T21:42:49.600597Z"
    }
   },
   "outputs": [],
   "source": [
    "doses = dataJson[0]['dataValues'][3:61]"
   ]
  },
  {
   "cell_type": "markdown",
   "metadata": {},
   "source": [
    "Data formatting"
   ]
  },
  {
   "cell_type": "code",
   "execution_count": 8,
   "metadata": {
    "execution": {
     "iopub.execute_input": "2021-03-23T21:42:49.604620Z",
     "iopub.status.busy": "2021-03-23T21:42:49.604111Z",
     "iopub.status.idle": "2021-03-23T21:42:49.608081Z",
     "shell.execute_reply": "2021-03-23T21:42:49.607642Z"
    }
   },
   "outputs": [],
   "source": [
    "zipped = dict(zip(counties, doses))"
   ]
  },
  {
   "cell_type": "code",
   "execution_count": 9,
   "metadata": {
    "execution": {
     "iopub.execute_input": "2021-03-23T21:42:49.613677Z",
     "iopub.status.busy": "2021-03-23T21:42:49.613178Z",
     "iopub.status.idle": "2021-03-23T21:42:49.616653Z",
     "shell.execute_reply": "2021-03-23T21:42:49.617079Z"
    }
   },
   "outputs": [],
   "source": [
    "df = pd.Series(zipped).reset_index()"
   ]
  },
  {
   "cell_type": "code",
   "execution_count": 10,
   "metadata": {
    "execution": {
     "iopub.execute_input": "2021-03-23T21:42:49.620817Z",
     "iopub.status.busy": "2021-03-23T21:42:49.620307Z",
     "iopub.status.idle": "2021-03-23T21:42:49.623881Z",
     "shell.execute_reply": "2021-03-23T21:42:49.623255Z"
    }
   },
   "outputs": [],
   "source": [
    "df.columns = ['location','doses']"
   ]
  },
  {
   "cell_type": "markdown",
   "metadata": {},
   "source": [
    "Grab the overall California total"
   ]
  },
  {
   "cell_type": "code",
   "execution_count": 11,
   "metadata": {
    "execution": {
     "iopub.execute_input": "2021-03-23T21:42:49.627343Z",
     "iopub.status.busy": "2021-03-23T21:42:49.626849Z",
     "iopub.status.idle": "2021-03-23T21:42:49.630429Z",
     "shell.execute_reply": "2021-03-23T21:42:49.629980Z"
    }
   },
   "outputs": [],
   "source": [
    "add = {'location':'California','doses':dataJson[0]['dataValues'][2]}"
   ]
  },
  {
   "cell_type": "code",
   "execution_count": 12,
   "metadata": {
    "execution": {
     "iopub.execute_input": "2021-03-23T21:42:49.636736Z",
     "iopub.status.busy": "2021-03-23T21:42:49.636225Z",
     "iopub.status.idle": "2021-03-23T21:42:49.640120Z",
     "shell.execute_reply": "2021-03-23T21:42:49.639669Z"
    }
   },
   "outputs": [],
   "source": [
    "df = df.append(add, ignore_index=True)"
   ]
  },
  {
   "cell_type": "code",
   "execution_count": 13,
   "metadata": {
    "execution": {
     "iopub.execute_input": "2021-03-23T21:42:49.644330Z",
     "iopub.status.busy": "2021-03-23T21:42:49.643824Z",
     "iopub.status.idle": "2021-03-23T21:42:49.647251Z",
     "shell.execute_reply": "2021-03-23T21:42:49.646798Z"
    }
   },
   "outputs": [],
   "source": [
    "df = df.sort_values(by='location')"
   ]
  },
  {
   "cell_type": "code",
   "execution_count": 14,
   "metadata": {
    "execution": {
     "iopub.execute_input": "2021-03-23T21:42:49.652893Z",
     "iopub.status.busy": "2021-03-23T21:42:49.652408Z",
     "iopub.status.idle": "2021-03-23T21:42:49.655703Z",
     "shell.execute_reply": "2021-03-23T21:42:49.655249Z"
    }
   },
   "outputs": [],
   "source": [
    "df = df[df.location == 'California'].append(df[df.location != 'California']).reset_index(drop=True)"
   ]
  },
  {
   "cell_type": "code",
   "execution_count": null,
   "metadata": {},
   "outputs": [],
   "source": []
  },
  {
   "cell_type": "code",
   "execution_count": 15,
   "metadata": {
    "execution": {
     "iopub.execute_input": "2021-03-23T21:42:49.659357Z",
     "iopub.status.busy": "2021-03-23T21:42:49.658478Z",
     "iopub.status.idle": "2021-03-23T21:42:49.677485Z",
     "shell.execute_reply": "2021-03-23T21:42:49.677037Z"
    }
   },
   "outputs": [],
   "source": [
    "tz = pytz.timezone(\"America/New_York\")"
   ]
  },
  {
   "cell_type": "code",
   "execution_count": 16,
   "metadata": {
    "execution": {
     "iopub.execute_input": "2021-03-23T21:42:49.681552Z",
     "iopub.status.busy": "2021-03-23T21:42:49.681086Z",
     "iopub.status.idle": "2021-03-23T21:42:49.684259Z",
     "shell.execute_reply": "2021-03-23T21:42:49.683569Z"
    }
   },
   "outputs": [],
   "source": [
    "today = datetime.now(tz).date()"
   ]
  },
  {
   "cell_type": "code",
   "execution_count": 17,
   "metadata": {
    "execution": {
     "iopub.execute_input": "2021-03-23T21:42:49.688793Z",
     "iopub.status.busy": "2021-03-23T21:42:49.687901Z",
     "iopub.status.idle": "2021-03-23T21:42:49.692260Z",
     "shell.execute_reply": "2021-03-23T21:42:49.691584Z"
    }
   },
   "outputs": [],
   "source": [
    "data_dir = os.path.join(os.path.abspath(\"\"), \"data\")"
   ]
  },
  {
   "cell_type": "code",
   "execution_count": 18,
   "metadata": {
    "execution": {
     "iopub.execute_input": "2021-03-23T21:42:49.696415Z",
     "iopub.status.busy": "2021-03-23T21:42:49.695106Z",
     "iopub.status.idle": "2021-03-23T21:42:49.700465Z",
     "shell.execute_reply": "2021-03-23T21:42:49.700050Z"
    }
   },
   "outputs": [],
   "source": [
    "df.to_csv(os.path.join(data_dir, f\"{today}.csv\"), index=False)"
   ]
  },
  {
   "cell_type": "code",
   "execution_count": null,
   "metadata": {},
   "outputs": [],
   "source": []
  }
 ],
 "metadata": {
  "kernelspec": {
   "display_name": "Python 3",
   "language": "python",
   "name": "python3"
  },
  "language_info": {
   "codemirror_mode": {
    "name": "ipython",
    "version": 3
   },
   "file_extension": ".py",
   "mimetype": "text/x-python",
   "name": "python",
   "nbconvert_exporter": "python",
   "pygments_lexer": "ipython3",
   "version": "3.8.8"
  }
 },
 "nbformat": 4,
 "nbformat_minor": 4
}
