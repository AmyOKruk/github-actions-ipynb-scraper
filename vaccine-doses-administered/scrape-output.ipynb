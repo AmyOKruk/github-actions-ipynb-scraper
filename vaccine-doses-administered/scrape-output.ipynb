{
 "cells": [
  {
   "cell_type": "markdown",
   "metadata": {},
   "source": [
    "# California COVID vaccinations scrape"
   ]
  },
  {
   "cell_type": "markdown",
   "metadata": {},
   "source": [
    "By [Amy O'Kruk](https://twitter.com/amyokruk)"
   ]
  },
  {
   "cell_type": "markdown",
   "metadata": {},
   "source": [
    "Downloads data on vaccine doses administered by county and statewide from a Tableau-powered dashboard from the California Department of Public Health."
   ]
  },
  {
   "cell_type": "code",
   "execution_count": 1,
   "metadata": {
    "execution": {
     "iopub.execute_input": "2021-03-17T03:14:05.801975Z",
     "iopub.status.busy": "2021-03-17T03:14:05.801440Z",
     "iopub.status.idle": "2021-03-17T03:14:06.161961Z",
     "shell.execute_reply": "2021-03-17T03:14:06.161355Z"
    }
   },
   "outputs": [],
   "source": [
    "import pandas as pd\n",
    "import requests\n",
    "from bs4 import BeautifulSoup\n",
    "import json\n",
    "import re\n",
    "import time\n",
    "from time import gmtime, strftime \n",
    "import os\n",
    "import pytz\n",
    "from datetime import datetime"
   ]
  },
  {
   "cell_type": "markdown",
   "metadata": {},
   "source": [
    "Scrape the dashboard page"
   ]
  },
  {
   "cell_type": "code",
   "execution_count": 2,
   "metadata": {
    "execution": {
     "iopub.execute_input": "2021-03-17T03:14:06.166948Z",
     "iopub.status.busy": "2021-03-17T03:14:06.165023Z",
     "iopub.status.idle": "2021-03-17T03:14:06.393632Z",
     "shell.execute_reply": "2021-03-17T03:14:06.393152Z"
    }
   },
   "outputs": [],
   "source": [
    "url = \"https://public.tableau.com/interactive/views/COVID-19VaccineDashboardPublic/Vaccine?:embed=y&:showVizHome=n&:apiID=host0\"\n",
    "\n",
    "r = requests.get(url)\n",
    "soup = BeautifulSoup(r.text, \"html.parser\")"
   ]
  },
  {
   "cell_type": "code",
   "execution_count": 3,
   "metadata": {
    "execution": {
     "iopub.execute_input": "2021-03-17T03:14:06.397964Z",
     "iopub.status.busy": "2021-03-17T03:14:06.397457Z",
     "iopub.status.idle": "2021-03-17T03:14:06.400487Z",
     "shell.execute_reply": "2021-03-17T03:14:06.400122Z"
    }
   },
   "outputs": [],
   "source": [
    "tableauData = json.loads(soup.find(\"textarea\",{\"id\": \"tsConfigContainer\"}).text)"
   ]
  },
  {
   "cell_type": "markdown",
   "metadata": {},
   "source": [
    "Get the link to the Tableau data"
   ]
  },
  {
   "cell_type": "code",
   "execution_count": 4,
   "metadata": {
    "execution": {
     "iopub.execute_input": "2021-03-17T03:14:06.403816Z",
     "iopub.status.busy": "2021-03-17T03:14:06.403057Z",
     "iopub.status.idle": "2021-03-17T03:14:06.404943Z",
     "shell.execute_reply": "2021-03-17T03:14:06.404589Z"
    }
   },
   "outputs": [],
   "source": [
    "dataUrl = f'https://public.tableau.com{tableauData[\"vizql_root\"]}/bootstrapSession/sessions/{tableauData[\"sessionid\"]}'"
   ]
  },
  {
   "cell_type": "code",
   "execution_count": 5,
   "metadata": {
    "execution": {
     "iopub.execute_input": "2021-03-17T03:14:06.410539Z",
     "iopub.status.busy": "2021-03-17T03:14:06.410096Z",
     "iopub.status.idle": "2021-03-17T03:14:06.658622Z",
     "shell.execute_reply": "2021-03-17T03:14:06.658134Z"
    }
   },
   "outputs": [],
   "source": [
    "r = requests.post(dataUrl, data= {\n",
    "    \"sheet_id\": tableauData[\"sheetId\"],\n",
    "})\n",
    "\n",
    "dataReg = re.search('\\d+;({.*})\\d+;({.*})', r.text, re.MULTILINE)\n",
    "data1 = json.loads(dataReg.group(2))\n",
    "\n",
    "dataJson = data1[\"secondaryInfo\"][\"presModelMap\"][\"dataDictionary\"][\"presModelHolder\"][\"genDataDictionaryPresModel\"][\"dataSegments\"][\"0\"][\"dataColumns\"]"
   ]
  },
  {
   "cell_type": "markdown",
   "metadata": {},
   "source": [
    "Isolate what you want"
   ]
  },
  {
   "cell_type": "code",
   "execution_count": 6,
   "metadata": {
    "execution": {
     "iopub.execute_input": "2021-03-17T03:14:06.662778Z",
     "iopub.status.busy": "2021-03-17T03:14:06.661661Z",
     "iopub.status.idle": "2021-03-17T03:14:06.663277Z",
     "shell.execute_reply": "2021-03-17T03:14:06.663635Z"
    }
   },
   "outputs": [],
   "source": [
    "counties = dataJson[2]['dataValues'][:58]"
   ]
  },
  {
   "cell_type": "code",
   "execution_count": 7,
   "metadata": {
    "execution": {
     "iopub.execute_input": "2021-03-17T03:14:06.667194Z",
     "iopub.status.busy": "2021-03-17T03:14:06.666430Z",
     "iopub.status.idle": "2021-03-17T03:14:06.668384Z",
     "shell.execute_reply": "2021-03-17T03:14:06.668021Z"
    }
   },
   "outputs": [],
   "source": [
    "doses = dataJson[0]['dataValues'][3:61]"
   ]
  },
  {
   "cell_type": "markdown",
   "metadata": {},
   "source": [
    "Data formatting"
   ]
  },
  {
   "cell_type": "code",
   "execution_count": 8,
   "metadata": {
    "execution": {
     "iopub.execute_input": "2021-03-17T03:14:06.671713Z",
     "iopub.status.busy": "2021-03-17T03:14:06.670949Z",
     "iopub.status.idle": "2021-03-17T03:14:06.672797Z",
     "shell.execute_reply": "2021-03-17T03:14:06.672424Z"
    }
   },
   "outputs": [],
   "source": [
    "zipped = dict(zip(counties, doses))"
   ]
  },
  {
   "cell_type": "code",
   "execution_count": 9,
   "metadata": {
    "execution": {
     "iopub.execute_input": "2021-03-17T03:14:06.678195Z",
     "iopub.status.busy": "2021-03-17T03:14:06.677298Z",
     "iopub.status.idle": "2021-03-17T03:14:06.678901Z",
     "shell.execute_reply": "2021-03-17T03:14:06.679264Z"
    }
   },
   "outputs": [],
   "source": [
    "df = pd.Series(zipped).reset_index()"
   ]
  },
  {
   "cell_type": "code",
   "execution_count": 10,
   "metadata": {
    "execution": {
     "iopub.execute_input": "2021-03-17T03:14:06.682711Z",
     "iopub.status.busy": "2021-03-17T03:14:06.681956Z",
     "iopub.status.idle": "2021-03-17T03:14:06.683515Z",
     "shell.execute_reply": "2021-03-17T03:14:06.683850Z"
    }
   },
   "outputs": [],
   "source": [
    "df.columns = ['location','doses']"
   ]
  },
  {
   "cell_type": "markdown",
   "metadata": {},
   "source": [
    "Grab the overall California total"
   ]
  },
  {
   "cell_type": "code",
   "execution_count": 11,
   "metadata": {
    "execution": {
     "iopub.execute_input": "2021-03-17T03:14:06.687234Z",
     "iopub.status.busy": "2021-03-17T03:14:06.686467Z",
     "iopub.status.idle": "2021-03-17T03:14:06.688354Z",
     "shell.execute_reply": "2021-03-17T03:14:06.687977Z"
    }
   },
   "outputs": [],
   "source": [
    "add = {'location':'California','doses':dataJson[0]['dataValues'][2]}"
   ]
  },
  {
   "cell_type": "code",
   "execution_count": 12,
   "metadata": {
    "execution": {
     "iopub.execute_input": "2021-03-17T03:14:06.694055Z",
     "iopub.status.busy": "2021-03-17T03:14:06.693249Z",
     "iopub.status.idle": "2021-03-17T03:14:06.694727Z",
     "shell.execute_reply": "2021-03-17T03:14:06.695089Z"
    }
   },
   "outputs": [],
   "source": [
    "df = df.append(add, ignore_index=True)"
   ]
  },
  {
   "cell_type": "code",
   "execution_count": 13,
   "metadata": {
    "execution": {
     "iopub.execute_input": "2021-03-17T03:14:06.699044Z",
     "iopub.status.busy": "2021-03-17T03:14:06.698284Z",
     "iopub.status.idle": "2021-03-17T03:14:06.699898Z",
     "shell.execute_reply": "2021-03-17T03:14:06.700233Z"
    }
   },
   "outputs": [],
   "source": [
    "df = df.sort_values(by='location')"
   ]
  },
  {
   "cell_type": "code",
   "execution_count": 14,
   "metadata": {
    "execution": {
     "iopub.execute_input": "2021-03-17T03:14:06.705463Z",
     "iopub.status.busy": "2021-03-17T03:14:06.704696Z",
     "iopub.status.idle": "2021-03-17T03:14:06.706325Z",
     "shell.execute_reply": "2021-03-17T03:14:06.706660Z"
    }
   },
   "outputs": [],
   "source": [
    "df = df[df.location == 'California'].append(df[df.location != 'California']).reset_index(drop=True)"
   ]
  },
  {
   "cell_type": "code",
   "execution_count": null,
   "metadata": {},
   "outputs": [],
   "source": []
  },
  {
   "cell_type": "code",
   "execution_count": 15,
   "metadata": {
    "execution": {
     "iopub.execute_input": "2021-03-17T03:14:06.709597Z",
     "iopub.status.busy": "2021-03-17T03:14:06.709133Z",
     "iopub.status.idle": "2021-03-17T03:14:06.724976Z",
     "shell.execute_reply": "2021-03-17T03:14:06.724533Z"
    }
   },
   "outputs": [],
   "source": [
    "tz = pytz.timezone(\"America/New_York\")"
   ]
  },
  {
   "cell_type": "code",
   "execution_count": 16,
   "metadata": {
    "execution": {
     "iopub.execute_input": "2021-03-17T03:14:06.728683Z",
     "iopub.status.busy": "2021-03-17T03:14:06.727617Z",
     "iopub.status.idle": "2021-03-17T03:14:06.729248Z",
     "shell.execute_reply": "2021-03-17T03:14:06.729677Z"
    }
   },
   "outputs": [],
   "source": [
    "today = datetime.now(tz).date()"
   ]
  },
  {
   "cell_type": "code",
   "execution_count": 17,
   "metadata": {
    "execution": {
     "iopub.execute_input": "2021-03-17T03:14:06.733653Z",
     "iopub.status.busy": "2021-03-17T03:14:06.732450Z",
     "iopub.status.idle": "2021-03-17T03:14:06.734178Z",
     "shell.execute_reply": "2021-03-17T03:14:06.734534Z"
    }
   },
   "outputs": [],
   "source": [
    "data_dir = os.path.join(os.path.abspath(\"\"), \"data\")"
   ]
  },
  {
   "cell_type": "code",
   "execution_count": 18,
   "metadata": {
    "execution": {
     "iopub.execute_input": "2021-03-17T03:14:06.738144Z",
     "iopub.status.busy": "2021-03-17T03:14:06.737129Z",
     "iopub.status.idle": "2021-03-17T03:14:06.741172Z",
     "shell.execute_reply": "2021-03-17T03:14:06.740808Z"
    }
   },
   "outputs": [],
   "source": [
    "df.to_csv(os.path.join(data_dir, f\"{today}.csv\"), index=False)"
   ]
  },
  {
   "cell_type": "code",
   "execution_count": null,
   "metadata": {},
   "outputs": [],
   "source": []
  }
 ],
 "metadata": {
  "kernelspec": {
   "display_name": "Python 3",
   "language": "python",
   "name": "python3"
  },
  "language_info": {
   "codemirror_mode": {
    "name": "ipython",
    "version": 3
   },
   "file_extension": ".py",
   "mimetype": "text/x-python",
   "name": "python",
   "nbconvert_exporter": "python",
   "pygments_lexer": "ipython3",
   "version": "3.8.8"
  }
 },
 "nbformat": 4,
 "nbformat_minor": 4
}
