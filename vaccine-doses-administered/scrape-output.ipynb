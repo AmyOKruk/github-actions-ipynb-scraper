{
 "cells": [
  {
   "cell_type": "markdown",
   "metadata": {},
   "source": [
    "# California COVID vaccinations scrape"
   ]
  },
  {
   "cell_type": "markdown",
   "metadata": {},
   "source": [
    "By [Amy O'Kruk](https://twitter.com/amyokruk)"
   ]
  },
  {
   "cell_type": "markdown",
   "metadata": {},
   "source": [
    "Downloads data on vaccine doses administered by county and statewide from a Tableau-powered dashboard from the California Department of Public Health."
   ]
  },
  {
   "cell_type": "code",
   "execution_count": 1,
   "metadata": {
    "execution": {
     "iopub.execute_input": "2021-03-22T14:13:16.102043Z",
     "iopub.status.busy": "2021-03-22T14:13:16.100721Z",
     "iopub.status.idle": "2021-03-22T14:13:16.505382Z",
     "shell.execute_reply": "2021-03-22T14:13:16.504632Z"
    }
   },
   "outputs": [],
   "source": [
    "import pandas as pd\n",
    "import requests\n",
    "from bs4 import BeautifulSoup\n",
    "import json\n",
    "import re\n",
    "import time\n",
    "from time import gmtime, strftime \n",
    "import os\n",
    "import pytz\n",
    "from datetime import datetime"
   ]
  },
  {
   "cell_type": "markdown",
   "metadata": {},
   "source": [
    "Scrape the dashboard page"
   ]
  },
  {
   "cell_type": "code",
   "execution_count": 2,
   "metadata": {
    "execution": {
     "iopub.execute_input": "2021-03-22T14:13:16.512016Z",
     "iopub.status.busy": "2021-03-22T14:13:16.509232Z",
     "iopub.status.idle": "2021-03-22T14:13:17.078619Z",
     "shell.execute_reply": "2021-03-22T14:13:17.079046Z"
    }
   },
   "outputs": [],
   "source": [
    "url = \"https://public.tableau.com/interactive/views/COVID-19VaccineDashboardPublic/Vaccine?:embed=y&:showVizHome=n&:apiID=host0\"\n",
    "\n",
    "r = requests.get(url)\n",
    "soup = BeautifulSoup(r.text, \"html.parser\")"
   ]
  },
  {
   "cell_type": "code",
   "execution_count": 3,
   "metadata": {
    "execution": {
     "iopub.execute_input": "2021-03-22T14:13:17.086954Z",
     "iopub.status.busy": "2021-03-22T14:13:17.085470Z",
     "iopub.status.idle": "2021-03-22T14:13:17.087680Z",
     "shell.execute_reply": "2021-03-22T14:13:17.088116Z"
    }
   },
   "outputs": [],
   "source": [
    "tableauData = json.loads(soup.find(\"textarea\",{\"id\": \"tsConfigContainer\"}).text)"
   ]
  },
  {
   "cell_type": "markdown",
   "metadata": {},
   "source": [
    "Get the link to the Tableau data"
   ]
  },
  {
   "cell_type": "code",
   "execution_count": 4,
   "metadata": {
    "execution": {
     "iopub.execute_input": "2021-03-22T14:13:17.092447Z",
     "iopub.status.busy": "2021-03-22T14:13:17.091273Z",
     "iopub.status.idle": "2021-03-22T14:13:17.093047Z",
     "shell.execute_reply": "2021-03-22T14:13:17.093468Z"
    }
   },
   "outputs": [],
   "source": [
    "dataUrl = f'https://public.tableau.com{tableauData[\"vizql_root\"]}/bootstrapSession/sessions/{tableauData[\"sessionid\"]}'"
   ]
  },
  {
   "cell_type": "code",
   "execution_count": 5,
   "metadata": {
    "execution": {
     "iopub.execute_input": "2021-03-22T14:13:17.100044Z",
     "iopub.status.busy": "2021-03-22T14:13:17.099511Z",
     "iopub.status.idle": "2021-03-22T14:13:17.495911Z",
     "shell.execute_reply": "2021-03-22T14:13:17.495431Z"
    }
   },
   "outputs": [],
   "source": [
    "r = requests.post(dataUrl, data= {\n",
    "    \"sheet_id\": tableauData[\"sheetId\"],\n",
    "})\n",
    "\n",
    "dataReg = re.search('\\d+;({.*})\\d+;({.*})', r.text, re.MULTILINE)\n",
    "data1 = json.loads(dataReg.group(2))\n",
    "\n",
    "dataJson = data1[\"secondaryInfo\"][\"presModelMap\"][\"dataDictionary\"][\"presModelHolder\"][\"genDataDictionaryPresModel\"][\"dataSegments\"][\"0\"][\"dataColumns\"]"
   ]
  },
  {
   "cell_type": "markdown",
   "metadata": {},
   "source": [
    "Isolate what you want"
   ]
  },
  {
   "cell_type": "code",
   "execution_count": 6,
   "metadata": {
    "execution": {
     "iopub.execute_input": "2021-03-22T14:13:17.500465Z",
     "iopub.status.busy": "2021-03-22T14:13:17.499352Z",
     "iopub.status.idle": "2021-03-22T14:13:17.501055Z",
     "shell.execute_reply": "2021-03-22T14:13:17.501476Z"
    }
   },
   "outputs": [],
   "source": [
    "counties = dataJson[2]['dataValues'][:58]"
   ]
  },
  {
   "cell_type": "code",
   "execution_count": 7,
   "metadata": {
    "execution": {
     "iopub.execute_input": "2021-03-22T14:13:17.505825Z",
     "iopub.status.busy": "2021-03-22T14:13:17.504644Z",
     "iopub.status.idle": "2021-03-22T14:13:17.506456Z",
     "shell.execute_reply": "2021-03-22T14:13:17.506884Z"
    }
   },
   "outputs": [],
   "source": [
    "doses = dataJson[0]['dataValues'][3:61]"
   ]
  },
  {
   "cell_type": "markdown",
   "metadata": {},
   "source": [
    "Data formatting"
   ]
  },
  {
   "cell_type": "code",
   "execution_count": 8,
   "metadata": {
    "execution": {
     "iopub.execute_input": "2021-03-22T14:13:17.511557Z",
     "iopub.status.busy": "2021-03-22T14:13:17.510312Z",
     "iopub.status.idle": "2021-03-22T14:13:17.512146Z",
     "shell.execute_reply": "2021-03-22T14:13:17.512568Z"
    }
   },
   "outputs": [],
   "source": [
    "zipped = dict(zip(counties, doses))"
   ]
  },
  {
   "cell_type": "code",
   "execution_count": 9,
   "metadata": {
    "execution": {
     "iopub.execute_input": "2021-03-22T14:13:17.518838Z",
     "iopub.status.busy": "2021-03-22T14:13:17.517901Z",
     "iopub.status.idle": "2021-03-22T14:13:17.520331Z",
     "shell.execute_reply": "2021-03-22T14:13:17.520838Z"
    }
   },
   "outputs": [],
   "source": [
    "df = pd.Series(zipped).reset_index()"
   ]
  },
  {
   "cell_type": "code",
   "execution_count": 10,
   "metadata": {
    "execution": {
     "iopub.execute_input": "2021-03-22T14:13:17.525884Z",
     "iopub.status.busy": "2021-03-22T14:13:17.524451Z",
     "iopub.status.idle": "2021-03-22T14:13:17.526696Z",
     "shell.execute_reply": "2021-03-22T14:13:17.527229Z"
    }
   },
   "outputs": [],
   "source": [
    "df.columns = ['location','doses']"
   ]
  },
  {
   "cell_type": "markdown",
   "metadata": {},
   "source": [
    "Grab the overall California total"
   ]
  },
  {
   "cell_type": "code",
   "execution_count": 11,
   "metadata": {
    "execution": {
     "iopub.execute_input": "2021-03-22T14:13:17.532038Z",
     "iopub.status.busy": "2021-03-22T14:13:17.530657Z",
     "iopub.status.idle": "2021-03-22T14:13:17.532770Z",
     "shell.execute_reply": "2021-03-22T14:13:17.533218Z"
    }
   },
   "outputs": [],
   "source": [
    "add = {'location':'California','doses':dataJson[0]['dataValues'][2]}"
   ]
  },
  {
   "cell_type": "code",
   "execution_count": 12,
   "metadata": {
    "execution": {
     "iopub.execute_input": "2021-03-22T14:13:17.540822Z",
     "iopub.status.busy": "2021-03-22T14:13:17.539447Z",
     "iopub.status.idle": "2021-03-22T14:13:17.541524Z",
     "shell.execute_reply": "2021-03-22T14:13:17.541958Z"
    }
   },
   "outputs": [],
   "source": [
    "df = df.append(add, ignore_index=True)"
   ]
  },
  {
   "cell_type": "code",
   "execution_count": 13,
   "metadata": {
    "execution": {
     "iopub.execute_input": "2021-03-22T14:13:17.547255Z",
     "iopub.status.busy": "2021-03-22T14:13:17.545985Z",
     "iopub.status.idle": "2021-03-22T14:13:17.547943Z",
     "shell.execute_reply": "2021-03-22T14:13:17.548381Z"
    }
   },
   "outputs": [],
   "source": [
    "df = df.sort_values(by='location')"
   ]
  },
  {
   "cell_type": "code",
   "execution_count": 14,
   "metadata": {
    "execution": {
     "iopub.execute_input": "2021-03-22T14:13:17.555512Z",
     "iopub.status.busy": "2021-03-22T14:13:17.554084Z",
     "iopub.status.idle": "2021-03-22T14:13:17.556156Z",
     "shell.execute_reply": "2021-03-22T14:13:17.556606Z"
    }
   },
   "outputs": [],
   "source": [
    "df = df[df.location == 'California'].append(df[df.location != 'California']).reset_index(drop=True)"
   ]
  },
  {
   "cell_type": "code",
   "execution_count": null,
   "metadata": {},
   "outputs": [],
   "source": []
  },
  {
   "cell_type": "code",
   "execution_count": 15,
   "metadata": {
    "execution": {
     "iopub.execute_input": "2021-03-22T14:13:17.559998Z",
     "iopub.status.busy": "2021-03-22T14:13:17.559489Z",
     "iopub.status.idle": "2021-03-22T14:13:17.580253Z",
     "shell.execute_reply": "2021-03-22T14:13:17.579422Z"
    }
   },
   "outputs": [],
   "source": [
    "tz = pytz.timezone(\"America/New_York\")"
   ]
  },
  {
   "cell_type": "code",
   "execution_count": 16,
   "metadata": {
    "execution": {
     "iopub.execute_input": "2021-03-22T14:13:17.584745Z",
     "iopub.status.busy": "2021-03-22T14:13:17.583649Z",
     "iopub.status.idle": "2021-03-22T14:13:17.585336Z",
     "shell.execute_reply": "2021-03-22T14:13:17.585754Z"
    }
   },
   "outputs": [],
   "source": [
    "today = datetime.now(tz).date()"
   ]
  },
  {
   "cell_type": "code",
   "execution_count": 17,
   "metadata": {
    "execution": {
     "iopub.execute_input": "2021-03-22T14:13:17.590403Z",
     "iopub.status.busy": "2021-03-22T14:13:17.589200Z",
     "iopub.status.idle": "2021-03-22T14:13:17.590999Z",
     "shell.execute_reply": "2021-03-22T14:13:17.591421Z"
    }
   },
   "outputs": [],
   "source": [
    "data_dir = os.path.join(os.path.abspath(\"\"), \"data\")"
   ]
  },
  {
   "cell_type": "code",
   "execution_count": 18,
   "metadata": {
    "execution": {
     "iopub.execute_input": "2021-03-22T14:13:17.595949Z",
     "iopub.status.busy": "2021-03-22T14:13:17.594821Z",
     "iopub.status.idle": "2021-03-22T14:13:17.599437Z",
     "shell.execute_reply": "2021-03-22T14:13:17.599001Z"
    }
   },
   "outputs": [],
   "source": [
    "df.to_csv(os.path.join(data_dir, f\"{today}.csv\"), index=False)"
   ]
  },
  {
   "cell_type": "code",
   "execution_count": null,
   "metadata": {},
   "outputs": [],
   "source": []
  }
 ],
 "metadata": {
  "kernelspec": {
   "display_name": "Python 3",
   "language": "python",
   "name": "python3"
  },
  "language_info": {
   "codemirror_mode": {
    "name": "ipython",
    "version": 3
   },
   "file_extension": ".py",
   "mimetype": "text/x-python",
   "name": "python",
   "nbconvert_exporter": "python",
   "pygments_lexer": "ipython3",
   "version": "3.8.8"
  }
 },
 "nbformat": 4,
 "nbformat_minor": 4
}
