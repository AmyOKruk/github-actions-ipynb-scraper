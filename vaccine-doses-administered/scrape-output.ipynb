{
 "cells": [
  {
   "cell_type": "markdown",
   "metadata": {},
   "source": [
    "# California COVID vaccinations scrape"
   ]
  },
  {
   "cell_type": "markdown",
   "metadata": {},
   "source": [
    "By [Amy O'Kruk](https://twitter.com/amyokruk)"
   ]
  },
  {
   "cell_type": "markdown",
   "metadata": {},
   "source": [
    "Downloads data on vaccine doses administered by county and statewide from a Tableau-powered dashboard from the California Department of Public Health."
   ]
  },
  {
   "cell_type": "code",
   "execution_count": 1,
   "metadata": {
    "execution": {
     "iopub.execute_input": "2021-03-10T12:16:42.797177Z",
     "iopub.status.busy": "2021-03-10T12:16:42.795780Z",
     "iopub.status.idle": "2021-03-10T12:16:43.147569Z",
     "shell.execute_reply": "2021-03-10T12:16:43.146720Z"
    }
   },
   "outputs": [],
   "source": [
    "import pandas as pd\n",
    "import requests\n",
    "from bs4 import BeautifulSoup\n",
    "import json\n",
    "import re\n",
    "import time\n",
    "from time import gmtime, strftime \n",
    "import os\n",
    "import pytz\n",
    "from datetime import datetime"
   ]
  },
  {
   "cell_type": "markdown",
   "metadata": {},
   "source": [
    "Scrape the dashboard page"
   ]
  },
  {
   "cell_type": "code",
   "execution_count": 2,
   "metadata": {
    "execution": {
     "iopub.execute_input": "2021-03-10T12:16:43.151664Z",
     "iopub.status.busy": "2021-03-10T12:16:43.151137Z",
     "iopub.status.idle": "2021-03-10T12:16:43.976855Z",
     "shell.execute_reply": "2021-03-10T12:16:43.976046Z"
    }
   },
   "outputs": [],
   "source": [
    "url = \"https://public.tableau.com/interactive/views/COVID-19VaccineDashboardPublic/Vaccine?:embed=y&:showVizHome=n&:apiID=host0\"\n",
    "\n",
    "r = requests.get(url)\n",
    "soup = BeautifulSoup(r.text, \"html.parser\")"
   ]
  },
  {
   "cell_type": "code",
   "execution_count": 3,
   "metadata": {
    "execution": {
     "iopub.execute_input": "2021-03-10T12:16:43.981117Z",
     "iopub.status.busy": "2021-03-10T12:16:43.980562Z",
     "iopub.status.idle": "2021-03-10T12:16:43.983853Z",
     "shell.execute_reply": "2021-03-10T12:16:43.984388Z"
    }
   },
   "outputs": [],
   "source": [
    "tableauData = json.loads(soup.find(\"textarea\",{\"id\": \"tsConfigContainer\"}).text)"
   ]
  },
  {
   "cell_type": "markdown",
   "metadata": {},
   "source": [
    "Get the link to the Tableau data"
   ]
  },
  {
   "cell_type": "code",
   "execution_count": 4,
   "metadata": {
    "execution": {
     "iopub.execute_input": "2021-03-10T12:16:43.987781Z",
     "iopub.status.busy": "2021-03-10T12:16:43.987256Z",
     "iopub.status.idle": "2021-03-10T12:16:43.990386Z",
     "shell.execute_reply": "2021-03-10T12:16:43.990798Z"
    }
   },
   "outputs": [],
   "source": [
    "dataUrl = f'https://public.tableau.com{tableauData[\"vizql_root\"]}/bootstrapSession/sessions/{tableauData[\"sessionid\"]}'"
   ]
  },
  {
   "cell_type": "code",
   "execution_count": 5,
   "metadata": {
    "execution": {
     "iopub.execute_input": "2021-03-10T12:16:43.996968Z",
     "iopub.status.busy": "2021-03-10T12:16:43.996438Z",
     "iopub.status.idle": "2021-03-10T12:16:44.701756Z",
     "shell.execute_reply": "2021-03-10T12:16:44.701249Z"
    }
   },
   "outputs": [],
   "source": [
    "r = requests.post(dataUrl, data= {\n",
    "    \"sheet_id\": tableauData[\"sheetId\"],\n",
    "})\n",
    "\n",
    "dataReg = re.search('\\d+;({.*})\\d+;({.*})', r.text, re.MULTILINE)\n",
    "data1 = json.loads(dataReg.group(2))\n",
    "\n",
    "dataJson = data1[\"secondaryInfo\"][\"presModelMap\"][\"dataDictionary\"][\"presModelHolder\"][\"genDataDictionaryPresModel\"][\"dataSegments\"][\"0\"][\"dataColumns\"]"
   ]
  },
  {
   "cell_type": "markdown",
   "metadata": {},
   "source": [
    "Isolate what you want"
   ]
  },
  {
   "cell_type": "code",
   "execution_count": 6,
   "metadata": {
    "execution": {
     "iopub.execute_input": "2021-03-10T12:16:44.705929Z",
     "iopub.status.busy": "2021-03-10T12:16:44.705327Z",
     "iopub.status.idle": "2021-03-10T12:16:44.709209Z",
     "shell.execute_reply": "2021-03-10T12:16:44.708554Z"
    }
   },
   "outputs": [],
   "source": [
    "counties = dataJson[2]['dataValues'][:58]"
   ]
  },
  {
   "cell_type": "code",
   "execution_count": 7,
   "metadata": {
    "execution": {
     "iopub.execute_input": "2021-03-10T12:16:44.712454Z",
     "iopub.status.busy": "2021-03-10T12:16:44.711914Z",
     "iopub.status.idle": "2021-03-10T12:16:44.715799Z",
     "shell.execute_reply": "2021-03-10T12:16:44.715342Z"
    }
   },
   "outputs": [],
   "source": [
    "doses = dataJson[0]['dataValues'][3:61]"
   ]
  },
  {
   "cell_type": "markdown",
   "metadata": {},
   "source": [
    "Data formatting"
   ]
  },
  {
   "cell_type": "code",
   "execution_count": 8,
   "metadata": {
    "execution": {
     "iopub.execute_input": "2021-03-10T12:16:44.719199Z",
     "iopub.status.busy": "2021-03-10T12:16:44.718693Z",
     "iopub.status.idle": "2021-03-10T12:16:44.722314Z",
     "shell.execute_reply": "2021-03-10T12:16:44.721507Z"
    }
   },
   "outputs": [],
   "source": [
    "zipped = dict(zip(counties, doses))"
   ]
  },
  {
   "cell_type": "code",
   "execution_count": 9,
   "metadata": {
    "execution": {
     "iopub.execute_input": "2021-03-10T12:16:44.727596Z",
     "iopub.status.busy": "2021-03-10T12:16:44.727068Z",
     "iopub.status.idle": "2021-03-10T12:16:44.731046Z",
     "shell.execute_reply": "2021-03-10T12:16:44.730103Z"
    }
   },
   "outputs": [],
   "source": [
    "df = pd.Series(zipped).reset_index()"
   ]
  },
  {
   "cell_type": "code",
   "execution_count": 10,
   "metadata": {
    "execution": {
     "iopub.execute_input": "2021-03-10T12:16:44.734963Z",
     "iopub.status.busy": "2021-03-10T12:16:44.734149Z",
     "iopub.status.idle": "2021-03-10T12:16:44.737653Z",
     "shell.execute_reply": "2021-03-10T12:16:44.738067Z"
    }
   },
   "outputs": [],
   "source": [
    "df.columns = ['location','doses']"
   ]
  },
  {
   "cell_type": "markdown",
   "metadata": {},
   "source": [
    "Grab the overall California total"
   ]
  },
  {
   "cell_type": "code",
   "execution_count": 11,
   "metadata": {
    "execution": {
     "iopub.execute_input": "2021-03-10T12:16:44.741627Z",
     "iopub.status.busy": "2021-03-10T12:16:44.741109Z",
     "iopub.status.idle": "2021-03-10T12:16:44.744864Z",
     "shell.execute_reply": "2021-03-10T12:16:44.744351Z"
    }
   },
   "outputs": [],
   "source": [
    "add = {'location':'California','doses':dataJson[0]['dataValues'][2]}"
   ]
  },
  {
   "cell_type": "code",
   "execution_count": 12,
   "metadata": {
    "execution": {
     "iopub.execute_input": "2021-03-10T12:16:44.751041Z",
     "iopub.status.busy": "2021-03-10T12:16:44.750520Z",
     "iopub.status.idle": "2021-03-10T12:16:44.754271Z",
     "shell.execute_reply": "2021-03-10T12:16:44.753811Z"
    }
   },
   "outputs": [],
   "source": [
    "df = df.append(add, ignore_index=True)"
   ]
  },
  {
   "cell_type": "code",
   "execution_count": 13,
   "metadata": {
    "execution": {
     "iopub.execute_input": "2021-03-10T12:16:44.758328Z",
     "iopub.status.busy": "2021-03-10T12:16:44.757808Z",
     "iopub.status.idle": "2021-03-10T12:16:44.761342Z",
     "shell.execute_reply": "2021-03-10T12:16:44.760879Z"
    }
   },
   "outputs": [],
   "source": [
    "df = df.sort_values(by='location')"
   ]
  },
  {
   "cell_type": "code",
   "execution_count": 14,
   "metadata": {
    "execution": {
     "iopub.execute_input": "2021-03-10T12:16:44.767074Z",
     "iopub.status.busy": "2021-03-10T12:16:44.766555Z",
     "iopub.status.idle": "2021-03-10T12:16:44.769753Z",
     "shell.execute_reply": "2021-03-10T12:16:44.770198Z"
    }
   },
   "outputs": [],
   "source": [
    "df = df[df.location == 'California'].append(df[df.location != 'California']).reset_index(drop=True)"
   ]
  },
  {
   "cell_type": "code",
   "execution_count": null,
   "metadata": {},
   "outputs": [],
   "source": []
  },
  {
   "cell_type": "code",
   "execution_count": 15,
   "metadata": {
    "execution": {
     "iopub.execute_input": "2021-03-10T12:16:44.774199Z",
     "iopub.status.busy": "2021-03-10T12:16:44.773224Z",
     "iopub.status.idle": "2021-03-10T12:16:44.793294Z",
     "shell.execute_reply": "2021-03-10T12:16:44.792355Z"
    }
   },
   "outputs": [],
   "source": [
    "tz = pytz.timezone(\"America/New_York\")"
   ]
  },
  {
   "cell_type": "code",
   "execution_count": 16,
   "metadata": {
    "execution": {
     "iopub.execute_input": "2021-03-10T12:16:44.796666Z",
     "iopub.status.busy": "2021-03-10T12:16:44.795977Z",
     "iopub.status.idle": "2021-03-10T12:16:44.799704Z",
     "shell.execute_reply": "2021-03-10T12:16:44.799036Z"
    }
   },
   "outputs": [],
   "source": [
    "today = datetime.now(tz).date()"
   ]
  },
  {
   "cell_type": "code",
   "execution_count": 17,
   "metadata": {
    "execution": {
     "iopub.execute_input": "2021-03-10T12:16:44.803175Z",
     "iopub.status.busy": "2021-03-10T12:16:44.802653Z",
     "iopub.status.idle": "2021-03-10T12:16:44.806140Z",
     "shell.execute_reply": "2021-03-10T12:16:44.805682Z"
    }
   },
   "outputs": [],
   "source": [
    "data_dir = os.path.join(os.path.abspath(\"\"), \"data\")"
   ]
  },
  {
   "cell_type": "code",
   "execution_count": 18,
   "metadata": {
    "execution": {
     "iopub.execute_input": "2021-03-10T12:16:44.810992Z",
     "iopub.status.busy": "2021-03-10T12:16:44.809305Z",
     "iopub.status.idle": "2021-03-10T12:16:44.815807Z",
     "shell.execute_reply": "2021-03-10T12:16:44.815078Z"
    }
   },
   "outputs": [],
   "source": [
    "df.to_csv(os.path.join(data_dir, f\"{today}.csv\"), index=False)"
   ]
  },
  {
   "cell_type": "code",
   "execution_count": null,
   "metadata": {},
   "outputs": [],
   "source": []
  }
 ],
 "metadata": {
  "kernelspec": {
   "display_name": "Python 3",
   "language": "python",
   "name": "python3"
  },
  "language_info": {
   "codemirror_mode": {
    "name": "ipython",
    "version": 3
   },
   "file_extension": ".py",
   "mimetype": "text/x-python",
   "name": "python",
   "nbconvert_exporter": "python",
   "pygments_lexer": "ipython3",
   "version": "3.8.8"
  }
 },
 "nbformat": 4,
 "nbformat_minor": 4
}
