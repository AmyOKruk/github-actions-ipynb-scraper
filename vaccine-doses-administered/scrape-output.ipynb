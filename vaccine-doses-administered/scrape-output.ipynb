{
 "cells": [
  {
   "cell_type": "markdown",
   "metadata": {},
   "source": [
    "# California COVID vaccinations scrape"
   ]
  },
  {
   "cell_type": "markdown",
   "metadata": {},
   "source": [
    "By [Amy O'Kruk](https://twitter.com/amyokruk)"
   ]
  },
  {
   "cell_type": "markdown",
   "metadata": {},
   "source": [
    "Downloads data on vaccine doses administered by county and statewide from a Tableau-powered dashboard from the California Department of Public Health."
   ]
  },
  {
   "cell_type": "code",
   "execution_count": 1,
   "metadata": {
    "execution": {
     "iopub.execute_input": "2021-03-17T05:43:08.736638Z",
     "iopub.status.busy": "2021-03-17T05:43:08.735304Z",
     "iopub.status.idle": "2021-03-17T05:43:09.216195Z",
     "shell.execute_reply": "2021-03-17T05:43:09.216710Z"
    }
   },
   "outputs": [],
   "source": [
    "import pandas as pd\n",
    "import requests\n",
    "from bs4 import BeautifulSoup\n",
    "import json\n",
    "import re\n",
    "import time\n",
    "from time import gmtime, strftime \n",
    "import os\n",
    "import pytz\n",
    "from datetime import datetime"
   ]
  },
  {
   "cell_type": "markdown",
   "metadata": {},
   "source": [
    "Scrape the dashboard page"
   ]
  },
  {
   "cell_type": "code",
   "execution_count": 2,
   "metadata": {
    "execution": {
     "iopub.execute_input": "2021-03-17T05:43:09.224392Z",
     "iopub.status.busy": "2021-03-17T05:43:09.223409Z",
     "iopub.status.idle": "2021-03-17T05:43:09.458455Z",
     "shell.execute_reply": "2021-03-17T05:43:09.457989Z"
    }
   },
   "outputs": [],
   "source": [
    "url = \"https://public.tableau.com/interactive/views/COVID-19VaccineDashboardPublic/Vaccine?:embed=y&:showVizHome=n&:apiID=host0\"\n",
    "\n",
    "r = requests.get(url)\n",
    "soup = BeautifulSoup(r.text, \"html.parser\")"
   ]
  },
  {
   "cell_type": "code",
   "execution_count": 3,
   "metadata": {
    "execution": {
     "iopub.execute_input": "2021-03-17T05:43:09.464060Z",
     "iopub.status.busy": "2021-03-17T05:43:09.463443Z",
     "iopub.status.idle": "2021-03-17T05:43:09.467070Z",
     "shell.execute_reply": "2021-03-17T05:43:09.467553Z"
    }
   },
   "outputs": [],
   "source": [
    "tableauData = json.loads(soup.find(\"textarea\",{\"id\": \"tsConfigContainer\"}).text)"
   ]
  },
  {
   "cell_type": "markdown",
   "metadata": {},
   "source": [
    "Get the link to the Tableau data"
   ]
  },
  {
   "cell_type": "code",
   "execution_count": 4,
   "metadata": {
    "execution": {
     "iopub.execute_input": "2021-03-17T05:43:09.473101Z",
     "iopub.status.busy": "2021-03-17T05:43:09.471489Z",
     "iopub.status.idle": "2021-03-17T05:43:09.473774Z",
     "shell.execute_reply": "2021-03-17T05:43:09.474361Z"
    }
   },
   "outputs": [],
   "source": [
    "dataUrl = f'https://public.tableau.com{tableauData[\"vizql_root\"]}/bootstrapSession/sessions/{tableauData[\"sessionid\"]}'"
   ]
  },
  {
   "cell_type": "code",
   "execution_count": 5,
   "metadata": {
    "execution": {
     "iopub.execute_input": "2021-03-17T05:43:09.482054Z",
     "iopub.status.busy": "2021-03-17T05:43:09.481364Z",
     "iopub.status.idle": "2021-03-17T05:43:09.662951Z",
     "shell.execute_reply": "2021-03-17T05:43:09.662393Z"
    }
   },
   "outputs": [],
   "source": [
    "r = requests.post(dataUrl, data= {\n",
    "    \"sheet_id\": tableauData[\"sheetId\"],\n",
    "})\n",
    "\n",
    "dataReg = re.search('\\d+;({.*})\\d+;({.*})', r.text, re.MULTILINE)\n",
    "data1 = json.loads(dataReg.group(2))\n",
    "\n",
    "dataJson = data1[\"secondaryInfo\"][\"presModelMap\"][\"dataDictionary\"][\"presModelHolder\"][\"genDataDictionaryPresModel\"][\"dataSegments\"][\"0\"][\"dataColumns\"]"
   ]
  },
  {
   "cell_type": "markdown",
   "metadata": {},
   "source": [
    "Isolate what you want"
   ]
  },
  {
   "cell_type": "code",
   "execution_count": 6,
   "metadata": {
    "execution": {
     "iopub.execute_input": "2021-03-17T05:43:09.666905Z",
     "iopub.status.busy": "2021-03-17T05:43:09.666353Z",
     "iopub.status.idle": "2021-03-17T05:43:09.670123Z",
     "shell.execute_reply": "2021-03-17T05:43:09.669388Z"
    }
   },
   "outputs": [],
   "source": [
    "counties = dataJson[2]['dataValues'][:58]"
   ]
  },
  {
   "cell_type": "code",
   "execution_count": 7,
   "metadata": {
    "execution": {
     "iopub.execute_input": "2021-03-17T05:43:09.673485Z",
     "iopub.status.busy": "2021-03-17T05:43:09.673027Z",
     "iopub.status.idle": "2021-03-17T05:43:09.676157Z",
     "shell.execute_reply": "2021-03-17T05:43:09.676630Z"
    }
   },
   "outputs": [],
   "source": [
    "doses = dataJson[0]['dataValues'][3:61]"
   ]
  },
  {
   "cell_type": "markdown",
   "metadata": {},
   "source": [
    "Data formatting"
   ]
  },
  {
   "cell_type": "code",
   "execution_count": 8,
   "metadata": {
    "execution": {
     "iopub.execute_input": "2021-03-17T05:43:09.686069Z",
     "iopub.status.busy": "2021-03-17T05:43:09.685570Z",
     "iopub.status.idle": "2021-03-17T05:43:09.689460Z",
     "shell.execute_reply": "2021-03-17T05:43:09.689039Z"
    }
   },
   "outputs": [],
   "source": [
    "zipped = dict(zip(counties, doses))"
   ]
  },
  {
   "cell_type": "code",
   "execution_count": 9,
   "metadata": {
    "execution": {
     "iopub.execute_input": "2021-03-17T05:43:09.695811Z",
     "iopub.status.busy": "2021-03-17T05:43:09.695198Z",
     "iopub.status.idle": "2021-03-17T05:43:09.699088Z",
     "shell.execute_reply": "2021-03-17T05:43:09.698612Z"
    }
   },
   "outputs": [],
   "source": [
    "df = pd.Series(zipped).reset_index()"
   ]
  },
  {
   "cell_type": "code",
   "execution_count": 10,
   "metadata": {
    "execution": {
     "iopub.execute_input": "2021-03-17T05:43:09.702824Z",
     "iopub.status.busy": "2021-03-17T05:43:09.702362Z",
     "iopub.status.idle": "2021-03-17T05:43:09.705769Z",
     "shell.execute_reply": "2021-03-17T05:43:09.706169Z"
    }
   },
   "outputs": [],
   "source": [
    "df.columns = ['location','doses']"
   ]
  },
  {
   "cell_type": "markdown",
   "metadata": {},
   "source": [
    "Grab the overall California total"
   ]
  },
  {
   "cell_type": "code",
   "execution_count": 11,
   "metadata": {
    "execution": {
     "iopub.execute_input": "2021-03-17T05:43:09.710537Z",
     "iopub.status.busy": "2021-03-17T05:43:09.709644Z",
     "iopub.status.idle": "2021-03-17T05:43:09.711424Z",
     "shell.execute_reply": "2021-03-17T05:43:09.711927Z"
    }
   },
   "outputs": [],
   "source": [
    "add = {'location':'California','doses':dataJson[0]['dataValues'][2]}"
   ]
  },
  {
   "cell_type": "code",
   "execution_count": 12,
   "metadata": {
    "execution": {
     "iopub.execute_input": "2021-03-17T05:43:09.719501Z",
     "iopub.status.busy": "2021-03-17T05:43:09.718286Z",
     "iopub.status.idle": "2021-03-17T05:43:09.720013Z",
     "shell.execute_reply": "2021-03-17T05:43:09.720403Z"
    }
   },
   "outputs": [],
   "source": [
    "df = df.append(add, ignore_index=True)"
   ]
  },
  {
   "cell_type": "code",
   "execution_count": 13,
   "metadata": {
    "execution": {
     "iopub.execute_input": "2021-03-17T05:43:09.725506Z",
     "iopub.status.busy": "2021-03-17T05:43:09.724541Z",
     "iopub.status.idle": "2021-03-17T05:43:09.726752Z",
     "shell.execute_reply": "2021-03-17T05:43:09.726300Z"
    }
   },
   "outputs": [],
   "source": [
    "df = df.sort_values(by='location')"
   ]
  },
  {
   "cell_type": "code",
   "execution_count": 14,
   "metadata": {
    "execution": {
     "iopub.execute_input": "2021-03-17T05:43:09.734510Z",
     "iopub.status.busy": "2021-03-17T05:43:09.733025Z",
     "iopub.status.idle": "2021-03-17T05:43:09.735234Z",
     "shell.execute_reply": "2021-03-17T05:43:09.735782Z"
    }
   },
   "outputs": [],
   "source": [
    "df = df[df.location == 'California'].append(df[df.location != 'California']).reset_index(drop=True)"
   ]
  },
  {
   "cell_type": "code",
   "execution_count": null,
   "metadata": {},
   "outputs": [],
   "source": []
  },
  {
   "cell_type": "code",
   "execution_count": 15,
   "metadata": {
    "execution": {
     "iopub.execute_input": "2021-03-17T05:43:09.739975Z",
     "iopub.status.busy": "2021-03-17T05:43:09.739273Z",
     "iopub.status.idle": "2021-03-17T05:43:09.757881Z",
     "shell.execute_reply": "2021-03-17T05:43:09.757346Z"
    }
   },
   "outputs": [],
   "source": [
    "tz = pytz.timezone(\"America/New_York\")"
   ]
  },
  {
   "cell_type": "code",
   "execution_count": 16,
   "metadata": {
    "execution": {
     "iopub.execute_input": "2021-03-17T05:43:09.763392Z",
     "iopub.status.busy": "2021-03-17T05:43:09.761713Z",
     "iopub.status.idle": "2021-03-17T05:43:09.764096Z",
     "shell.execute_reply": "2021-03-17T05:43:09.764765Z"
    }
   },
   "outputs": [],
   "source": [
    "today = datetime.now(tz).date()"
   ]
  },
  {
   "cell_type": "code",
   "execution_count": 17,
   "metadata": {
    "execution": {
     "iopub.execute_input": "2021-03-17T05:43:09.769179Z",
     "iopub.status.busy": "2021-03-17T05:43:09.767830Z",
     "iopub.status.idle": "2021-03-17T05:43:09.770077Z",
     "shell.execute_reply": "2021-03-17T05:43:09.770607Z"
    }
   },
   "outputs": [],
   "source": [
    "data_dir = os.path.join(os.path.abspath(\"\"), \"data\")"
   ]
  },
  {
   "cell_type": "code",
   "execution_count": 18,
   "metadata": {
    "execution": {
     "iopub.execute_input": "2021-03-17T05:43:09.774997Z",
     "iopub.status.busy": "2021-03-17T05:43:09.773916Z",
     "iopub.status.idle": "2021-03-17T05:43:09.778456Z",
     "shell.execute_reply": "2021-03-17T05:43:09.778908Z"
    }
   },
   "outputs": [],
   "source": [
    "df.to_csv(os.path.join(data_dir, f\"{today}.csv\"), index=False)"
   ]
  },
  {
   "cell_type": "code",
   "execution_count": null,
   "metadata": {},
   "outputs": [],
   "source": []
  }
 ],
 "metadata": {
  "kernelspec": {
   "display_name": "Python 3",
   "language": "python",
   "name": "python3"
  },
  "language_info": {
   "codemirror_mode": {
    "name": "ipython",
    "version": 3
   },
   "file_extension": ".py",
   "mimetype": "text/x-python",
   "name": "python",
   "nbconvert_exporter": "python",
   "pygments_lexer": "ipython3",
   "version": "3.8.8"
  }
 },
 "nbformat": 4,
 "nbformat_minor": 4
}
