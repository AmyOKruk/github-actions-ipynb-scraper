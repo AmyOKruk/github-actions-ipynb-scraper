{
 "cells": [
  {
   "cell_type": "markdown",
   "metadata": {},
   "source": [
    "# California COVID vaccinations scrape"
   ]
  },
  {
   "cell_type": "markdown",
   "metadata": {},
   "source": [
    "By [Amy O'Kruk](https://twitter.com/amyokruk)"
   ]
  },
  {
   "cell_type": "markdown",
   "metadata": {},
   "source": [
    "Downloads data on vaccine doses administered by county and statewide from a Tableau-powered dashboard from the California Department of Public Health."
   ]
  },
  {
   "cell_type": "code",
   "execution_count": 1,
   "metadata": {
    "execution": {
     "iopub.execute_input": "2021-03-13T00:30:07.969492Z",
     "iopub.status.busy": "2021-03-13T00:30:07.968892Z",
     "iopub.status.idle": "2021-03-13T00:30:08.388973Z",
     "shell.execute_reply": "2021-03-13T00:30:08.388302Z"
    }
   },
   "outputs": [],
   "source": [
    "import pandas as pd\n",
    "import requests\n",
    "from bs4 import BeautifulSoup\n",
    "import json\n",
    "import re\n",
    "import time\n",
    "from time import gmtime, strftime \n",
    "import os\n",
    "import pytz\n",
    "from datetime import datetime"
   ]
  },
  {
   "cell_type": "markdown",
   "metadata": {},
   "source": [
    "Scrape the dashboard page"
   ]
  },
  {
   "cell_type": "code",
   "execution_count": 2,
   "metadata": {
    "execution": {
     "iopub.execute_input": "2021-03-13T00:30:08.395749Z",
     "iopub.status.busy": "2021-03-13T00:30:08.392555Z",
     "iopub.status.idle": "2021-03-13T00:30:08.699863Z",
     "shell.execute_reply": "2021-03-13T00:30:08.698903Z"
    }
   },
   "outputs": [],
   "source": [
    "url = \"https://public.tableau.com/interactive/views/COVID-19VaccineDashboardPublic/Vaccine?:embed=y&:showVizHome=n&:apiID=host0\"\n",
    "\n",
    "r = requests.get(url)\n",
    "soup = BeautifulSoup(r.text, \"html.parser\")"
   ]
  },
  {
   "cell_type": "code",
   "execution_count": 3,
   "metadata": {
    "execution": {
     "iopub.execute_input": "2021-03-13T00:30:08.704768Z",
     "iopub.status.busy": "2021-03-13T00:30:08.704236Z",
     "iopub.status.idle": "2021-03-13T00:30:08.706520Z",
     "shell.execute_reply": "2021-03-13T00:30:08.706936Z"
    }
   },
   "outputs": [],
   "source": [
    "tableauData = json.loads(soup.find(\"textarea\",{\"id\": \"tsConfigContainer\"}).text)"
   ]
  },
  {
   "cell_type": "markdown",
   "metadata": {},
   "source": [
    "Get the link to the Tableau data"
   ]
  },
  {
   "cell_type": "code",
   "execution_count": 4,
   "metadata": {
    "execution": {
     "iopub.execute_input": "2021-03-13T00:30:08.710635Z",
     "iopub.status.busy": "2021-03-13T00:30:08.710119Z",
     "iopub.status.idle": "2021-03-13T00:30:08.713488Z",
     "shell.execute_reply": "2021-03-13T00:30:08.713890Z"
    }
   },
   "outputs": [],
   "source": [
    "dataUrl = f'https://public.tableau.com{tableauData[\"vizql_root\"]}/bootstrapSession/sessions/{tableauData[\"sessionid\"]}'"
   ]
  },
  {
   "cell_type": "code",
   "execution_count": 5,
   "metadata": {
    "execution": {
     "iopub.execute_input": "2021-03-13T00:30:08.721203Z",
     "iopub.status.busy": "2021-03-13T00:30:08.720674Z",
     "iopub.status.idle": "2021-03-13T00:30:09.168404Z",
     "shell.execute_reply": "2021-03-13T00:30:09.167891Z"
    }
   },
   "outputs": [],
   "source": [
    "r = requests.post(dataUrl, data= {\n",
    "    \"sheet_id\": tableauData[\"sheetId\"],\n",
    "})\n",
    "\n",
    "dataReg = re.search('\\d+;({.*})\\d+;({.*})', r.text, re.MULTILINE)\n",
    "data1 = json.loads(dataReg.group(2))\n",
    "\n",
    "dataJson = data1[\"secondaryInfo\"][\"presModelMap\"][\"dataDictionary\"][\"presModelHolder\"][\"genDataDictionaryPresModel\"][\"dataSegments\"][\"0\"][\"dataColumns\"]"
   ]
  },
  {
   "cell_type": "markdown",
   "metadata": {},
   "source": [
    "Isolate what you want"
   ]
  },
  {
   "cell_type": "code",
   "execution_count": 6,
   "metadata": {
    "execution": {
     "iopub.execute_input": "2021-03-13T00:30:09.173128Z",
     "iopub.status.busy": "2021-03-13T00:30:09.172443Z",
     "iopub.status.idle": "2021-03-13T00:30:09.176192Z",
     "shell.execute_reply": "2021-03-13T00:30:09.175728Z"
    }
   },
   "outputs": [],
   "source": [
    "counties = dataJson[2]['dataValues'][:58]"
   ]
  },
  {
   "cell_type": "code",
   "execution_count": 7,
   "metadata": {
    "execution": {
     "iopub.execute_input": "2021-03-13T00:30:09.180110Z",
     "iopub.status.busy": "2021-03-13T00:30:09.179580Z",
     "iopub.status.idle": "2021-03-13T00:30:09.182936Z",
     "shell.execute_reply": "2021-03-13T00:30:09.182492Z"
    }
   },
   "outputs": [],
   "source": [
    "doses = dataJson[0]['dataValues'][3:61]"
   ]
  },
  {
   "cell_type": "markdown",
   "metadata": {},
   "source": [
    "Data formatting"
   ]
  },
  {
   "cell_type": "code",
   "execution_count": 8,
   "metadata": {
    "execution": {
     "iopub.execute_input": "2021-03-13T00:30:09.186701Z",
     "iopub.status.busy": "2021-03-13T00:30:09.186184Z",
     "iopub.status.idle": "2021-03-13T00:30:09.189789Z",
     "shell.execute_reply": "2021-03-13T00:30:09.189330Z"
    }
   },
   "outputs": [],
   "source": [
    "zipped = dict(zip(counties, doses))"
   ]
  },
  {
   "cell_type": "code",
   "execution_count": 9,
   "metadata": {
    "execution": {
     "iopub.execute_input": "2021-03-13T00:30:09.195635Z",
     "iopub.status.busy": "2021-03-13T00:30:09.195082Z",
     "iopub.status.idle": "2021-03-13T00:30:09.198536Z",
     "shell.execute_reply": "2021-03-13T00:30:09.198018Z"
    }
   },
   "outputs": [],
   "source": [
    "df = pd.Series(zipped).reset_index()"
   ]
  },
  {
   "cell_type": "code",
   "execution_count": 10,
   "metadata": {
    "execution": {
     "iopub.execute_input": "2021-03-13T00:30:09.202675Z",
     "iopub.status.busy": "2021-03-13T00:30:09.202089Z",
     "iopub.status.idle": "2021-03-13T00:30:09.205592Z",
     "shell.execute_reply": "2021-03-13T00:30:09.205107Z"
    }
   },
   "outputs": [],
   "source": [
    "df.columns = ['location','doses']"
   ]
  },
  {
   "cell_type": "markdown",
   "metadata": {},
   "source": [
    "Grab the overall California total"
   ]
  },
  {
   "cell_type": "code",
   "execution_count": 11,
   "metadata": {
    "execution": {
     "iopub.execute_input": "2021-03-13T00:30:09.209285Z",
     "iopub.status.busy": "2021-03-13T00:30:09.208770Z",
     "iopub.status.idle": "2021-03-13T00:30:09.213322Z",
     "shell.execute_reply": "2021-03-13T00:30:09.212851Z"
    }
   },
   "outputs": [],
   "source": [
    "add = {'location':'California','doses':dataJson[0]['dataValues'][2]}"
   ]
  },
  {
   "cell_type": "code",
   "execution_count": 12,
   "metadata": {
    "execution": {
     "iopub.execute_input": "2021-03-13T00:30:09.220226Z",
     "iopub.status.busy": "2021-03-13T00:30:09.219708Z",
     "iopub.status.idle": "2021-03-13T00:30:09.223139Z",
     "shell.execute_reply": "2021-03-13T00:30:09.222656Z"
    }
   },
   "outputs": [],
   "source": [
    "df = df.append(add, ignore_index=True)"
   ]
  },
  {
   "cell_type": "code",
   "execution_count": 13,
   "metadata": {
    "execution": {
     "iopub.execute_input": "2021-03-13T00:30:09.228118Z",
     "iopub.status.busy": "2021-03-13T00:30:09.227583Z",
     "iopub.status.idle": "2021-03-13T00:30:09.231018Z",
     "shell.execute_reply": "2021-03-13T00:30:09.230559Z"
    }
   },
   "outputs": [],
   "source": [
    "df = df.sort_values(by='location')"
   ]
  },
  {
   "cell_type": "code",
   "execution_count": 14,
   "metadata": {
    "execution": {
     "iopub.execute_input": "2021-03-13T00:30:09.237118Z",
     "iopub.status.busy": "2021-03-13T00:30:09.236596Z",
     "iopub.status.idle": "2021-03-13T00:30:09.239685Z",
     "shell.execute_reply": "2021-03-13T00:30:09.240127Z"
    }
   },
   "outputs": [],
   "source": [
    "df = df[df.location == 'California'].append(df[df.location != 'California']).reset_index(drop=True)"
   ]
  },
  {
   "cell_type": "code",
   "execution_count": null,
   "metadata": {},
   "outputs": [],
   "source": []
  },
  {
   "cell_type": "code",
   "execution_count": 15,
   "metadata": {
    "execution": {
     "iopub.execute_input": "2021-03-13T00:30:09.243731Z",
     "iopub.status.busy": "2021-03-13T00:30:09.243159Z",
     "iopub.status.idle": "2021-03-13T00:30:09.262507Z",
     "shell.execute_reply": "2021-03-13T00:30:09.261963Z"
    }
   },
   "outputs": [],
   "source": [
    "tz = pytz.timezone(\"America/New_York\")"
   ]
  },
  {
   "cell_type": "code",
   "execution_count": 16,
   "metadata": {
    "execution": {
     "iopub.execute_input": "2021-03-13T00:30:09.266423Z",
     "iopub.status.busy": "2021-03-13T00:30:09.265815Z",
     "iopub.status.idle": "2021-03-13T00:30:09.269027Z",
     "shell.execute_reply": "2021-03-13T00:30:09.269464Z"
    }
   },
   "outputs": [],
   "source": [
    "today = datetime.now(tz).date()"
   ]
  },
  {
   "cell_type": "code",
   "execution_count": 17,
   "metadata": {
    "execution": {
     "iopub.execute_input": "2021-03-13T00:30:09.273286Z",
     "iopub.status.busy": "2021-03-13T00:30:09.272769Z",
     "iopub.status.idle": "2021-03-13T00:30:09.275752Z",
     "shell.execute_reply": "2021-03-13T00:30:09.276443Z"
    }
   },
   "outputs": [],
   "source": [
    "data_dir = os.path.join(os.path.abspath(\"\"), \"data\")"
   ]
  },
  {
   "cell_type": "code",
   "execution_count": 18,
   "metadata": {
    "execution": {
     "iopub.execute_input": "2021-03-13T00:30:09.281113Z",
     "iopub.status.busy": "2021-03-13T00:30:09.278717Z",
     "iopub.status.idle": "2021-03-13T00:30:09.286330Z",
     "shell.execute_reply": "2021-03-13T00:30:09.285863Z"
    }
   },
   "outputs": [],
   "source": [
    "df.to_csv(os.path.join(data_dir, f\"{today}.csv\"), index=False)"
   ]
  },
  {
   "cell_type": "code",
   "execution_count": null,
   "metadata": {},
   "outputs": [],
   "source": []
  }
 ],
 "metadata": {
  "kernelspec": {
   "display_name": "Python 3",
   "language": "python",
   "name": "python3"
  },
  "language_info": {
   "codemirror_mode": {
    "name": "ipython",
    "version": 3
   },
   "file_extension": ".py",
   "mimetype": "text/x-python",
   "name": "python",
   "nbconvert_exporter": "python",
   "pygments_lexer": "ipython3",
   "version": "3.8.8"
  }
 },
 "nbformat": 4,
 "nbformat_minor": 4
}
