{
 "cells": [
  {
   "cell_type": "markdown",
   "metadata": {},
   "source": [
    "# California COVID vaccinations scrape"
   ]
  },
  {
   "cell_type": "markdown",
   "metadata": {},
   "source": [
    "By [Amy O'Kruk](https://twitter.com/amyokruk)"
   ]
  },
  {
   "cell_type": "markdown",
   "metadata": {},
   "source": [
    "Downloads data on vaccine doses administered by county and statewide from a Tableau-powered dashboard from the California Department of Public Health."
   ]
  },
  {
   "cell_type": "code",
   "execution_count": 1,
   "metadata": {
    "execution": {
     "iopub.execute_input": "2021-03-20T21:12:07.963701Z",
     "iopub.status.busy": "2021-03-20T21:12:07.962861Z",
     "iopub.status.idle": "2021-03-20T21:12:08.401961Z",
     "shell.execute_reply": "2021-03-20T21:12:08.400990Z"
    }
   },
   "outputs": [],
   "source": [
    "import pandas as pd\n",
    "import requests\n",
    "from bs4 import BeautifulSoup\n",
    "import json\n",
    "import re\n",
    "import time\n",
    "from time import gmtime, strftime \n",
    "import os\n",
    "import pytz\n",
    "from datetime import datetime"
   ]
  },
  {
   "cell_type": "markdown",
   "metadata": {},
   "source": [
    "Scrape the dashboard page"
   ]
  },
  {
   "cell_type": "code",
   "execution_count": 2,
   "metadata": {
    "execution": {
     "iopub.execute_input": "2021-03-20T21:12:08.409398Z",
     "iopub.status.busy": "2021-03-20T21:12:08.408572Z",
     "iopub.status.idle": "2021-03-20T21:12:09.160893Z",
     "shell.execute_reply": "2021-03-20T21:12:09.160375Z"
    }
   },
   "outputs": [],
   "source": [
    "url = \"https://public.tableau.com/interactive/views/COVID-19VaccineDashboardPublic/Vaccine?:embed=y&:showVizHome=n&:apiID=host0\"\n",
    "\n",
    "r = requests.get(url)\n",
    "soup = BeautifulSoup(r.text, \"html.parser\")"
   ]
  },
  {
   "cell_type": "code",
   "execution_count": 3,
   "metadata": {
    "execution": {
     "iopub.execute_input": "2021-03-20T21:12:09.166043Z",
     "iopub.status.busy": "2021-03-20T21:12:09.165533Z",
     "iopub.status.idle": "2021-03-20T21:12:09.168873Z",
     "shell.execute_reply": "2021-03-20T21:12:09.169483Z"
    }
   },
   "outputs": [],
   "source": [
    "tableauData = json.loads(soup.find(\"textarea\",{\"id\": \"tsConfigContainer\"}).text)"
   ]
  },
  {
   "cell_type": "markdown",
   "metadata": {},
   "source": [
    "Get the link to the Tableau data"
   ]
  },
  {
   "cell_type": "code",
   "execution_count": 4,
   "metadata": {
    "execution": {
     "iopub.execute_input": "2021-03-20T21:12:09.175739Z",
     "iopub.status.busy": "2021-03-20T21:12:09.174067Z",
     "iopub.status.idle": "2021-03-20T21:12:09.176545Z",
     "shell.execute_reply": "2021-03-20T21:12:09.177141Z"
    }
   },
   "outputs": [],
   "source": [
    "dataUrl = f'https://public.tableau.com{tableauData[\"vizql_root\"]}/bootstrapSession/sessions/{tableauData[\"sessionid\"]}'"
   ]
  },
  {
   "cell_type": "code",
   "execution_count": 5,
   "metadata": {
    "execution": {
     "iopub.execute_input": "2021-03-20T21:12:09.184688Z",
     "iopub.status.busy": "2021-03-20T21:12:09.183912Z",
     "iopub.status.idle": "2021-03-20T21:12:09.743620Z",
     "shell.execute_reply": "2021-03-20T21:12:09.743080Z"
    }
   },
   "outputs": [],
   "source": [
    "r = requests.post(dataUrl, data= {\n",
    "    \"sheet_id\": tableauData[\"sheetId\"],\n",
    "})\n",
    "\n",
    "dataReg = re.search('\\d+;({.*})\\d+;({.*})', r.text, re.MULTILINE)\n",
    "data1 = json.loads(dataReg.group(2))\n",
    "\n",
    "dataJson = data1[\"secondaryInfo\"][\"presModelMap\"][\"dataDictionary\"][\"presModelHolder\"][\"genDataDictionaryPresModel\"][\"dataSegments\"][\"0\"][\"dataColumns\"]"
   ]
  },
  {
   "cell_type": "markdown",
   "metadata": {},
   "source": [
    "Isolate what you want"
   ]
  },
  {
   "cell_type": "code",
   "execution_count": 6,
   "metadata": {
    "execution": {
     "iopub.execute_input": "2021-03-20T21:12:09.748245Z",
     "iopub.status.busy": "2021-03-20T21:12:09.747328Z",
     "iopub.status.idle": "2021-03-20T21:12:09.749326Z",
     "shell.execute_reply": "2021-03-20T21:12:09.749763Z"
    }
   },
   "outputs": [],
   "source": [
    "counties = dataJson[2]['dataValues'][:58]"
   ]
  },
  {
   "cell_type": "code",
   "execution_count": 7,
   "metadata": {
    "execution": {
     "iopub.execute_input": "2021-03-20T21:12:09.753414Z",
     "iopub.status.busy": "2021-03-20T21:12:09.752024Z",
     "iopub.status.idle": "2021-03-20T21:12:09.755396Z",
     "shell.execute_reply": "2021-03-20T21:12:09.755877Z"
    }
   },
   "outputs": [],
   "source": [
    "doses = dataJson[0]['dataValues'][3:61]"
   ]
  },
  {
   "cell_type": "markdown",
   "metadata": {},
   "source": [
    "Data formatting"
   ]
  },
  {
   "cell_type": "code",
   "execution_count": 8,
   "metadata": {
    "execution": {
     "iopub.execute_input": "2021-03-20T21:12:09.760318Z",
     "iopub.status.busy": "2021-03-20T21:12:09.759260Z",
     "iopub.status.idle": "2021-03-20T21:12:09.761352Z",
     "shell.execute_reply": "2021-03-20T21:12:09.761805Z"
    }
   },
   "outputs": [],
   "source": [
    "zipped = dict(zip(counties, doses))"
   ]
  },
  {
   "cell_type": "code",
   "execution_count": 9,
   "metadata": {
    "execution": {
     "iopub.execute_input": "2021-03-20T21:12:09.768216Z",
     "iopub.status.busy": "2021-03-20T21:12:09.767398Z",
     "iopub.status.idle": "2021-03-20T21:12:09.769976Z",
     "shell.execute_reply": "2021-03-20T21:12:09.770692Z"
    }
   },
   "outputs": [],
   "source": [
    "df = pd.Series(zipped).reset_index()"
   ]
  },
  {
   "cell_type": "code",
   "execution_count": 10,
   "metadata": {
    "execution": {
     "iopub.execute_input": "2021-03-20T21:12:09.775000Z",
     "iopub.status.busy": "2021-03-20T21:12:09.774112Z",
     "iopub.status.idle": "2021-03-20T21:12:09.776407Z",
     "shell.execute_reply": "2021-03-20T21:12:09.775973Z"
    }
   },
   "outputs": [],
   "source": [
    "df.columns = ['location','doses']"
   ]
  },
  {
   "cell_type": "markdown",
   "metadata": {},
   "source": [
    "Grab the overall California total"
   ]
  },
  {
   "cell_type": "code",
   "execution_count": 11,
   "metadata": {
    "execution": {
     "iopub.execute_input": "2021-03-20T21:12:09.781328Z",
     "iopub.status.busy": "2021-03-20T21:12:09.779641Z",
     "iopub.status.idle": "2021-03-20T21:12:09.782043Z",
     "shell.execute_reply": "2021-03-20T21:12:09.782487Z"
    }
   },
   "outputs": [],
   "source": [
    "add = {'location':'California','doses':dataJson[0]['dataValues'][2]}"
   ]
  },
  {
   "cell_type": "code",
   "execution_count": 12,
   "metadata": {
    "execution": {
     "iopub.execute_input": "2021-03-20T21:12:09.790903Z",
     "iopub.status.busy": "2021-03-20T21:12:09.785537Z",
     "iopub.status.idle": "2021-03-20T21:12:09.792989Z",
     "shell.execute_reply": "2021-03-20T21:12:09.793560Z"
    }
   },
   "outputs": [],
   "source": [
    "df = df.append(add, ignore_index=True)"
   ]
  },
  {
   "cell_type": "code",
   "execution_count": 13,
   "metadata": {
    "execution": {
     "iopub.execute_input": "2021-03-20T21:12:09.799620Z",
     "iopub.status.busy": "2021-03-20T21:12:09.798438Z",
     "iopub.status.idle": "2021-03-20T21:12:09.800405Z",
     "shell.execute_reply": "2021-03-20T21:12:09.801010Z"
    }
   },
   "outputs": [],
   "source": [
    "df = df.sort_values(by='location')"
   ]
  },
  {
   "cell_type": "code",
   "execution_count": 14,
   "metadata": {
    "execution": {
     "iopub.execute_input": "2021-03-20T21:12:09.810582Z",
     "iopub.status.busy": "2021-03-20T21:12:09.809419Z",
     "iopub.status.idle": "2021-03-20T21:12:09.811882Z",
     "shell.execute_reply": "2021-03-20T21:12:09.811086Z"
    }
   },
   "outputs": [],
   "source": [
    "df = df[df.location == 'California'].append(df[df.location != 'California']).reset_index(drop=True)"
   ]
  },
  {
   "cell_type": "code",
   "execution_count": null,
   "metadata": {},
   "outputs": [],
   "source": []
  },
  {
   "cell_type": "code",
   "execution_count": 15,
   "metadata": {
    "execution": {
     "iopub.execute_input": "2021-03-20T21:12:09.815852Z",
     "iopub.status.busy": "2021-03-20T21:12:09.815268Z",
     "iopub.status.idle": "2021-03-20T21:12:09.834020Z",
     "shell.execute_reply": "2021-03-20T21:12:09.833569Z"
    }
   },
   "outputs": [],
   "source": [
    "tz = pytz.timezone(\"America/New_York\")"
   ]
  },
  {
   "cell_type": "code",
   "execution_count": 16,
   "metadata": {
    "execution": {
     "iopub.execute_input": "2021-03-20T21:12:09.839028Z",
     "iopub.status.busy": "2021-03-20T21:12:09.837346Z",
     "iopub.status.idle": "2021-03-20T21:12:09.839613Z",
     "shell.execute_reply": "2021-03-20T21:12:09.840078Z"
    }
   },
   "outputs": [],
   "source": [
    "today = datetime.now(tz).date()"
   ]
  },
  {
   "cell_type": "code",
   "execution_count": 17,
   "metadata": {
    "execution": {
     "iopub.execute_input": "2021-03-20T21:12:09.844610Z",
     "iopub.status.busy": "2021-03-20T21:12:09.843563Z",
     "iopub.status.idle": "2021-03-20T21:12:09.845843Z",
     "shell.execute_reply": "2021-03-20T21:12:09.846258Z"
    }
   },
   "outputs": [],
   "source": [
    "data_dir = os.path.join(os.path.abspath(\"\"), \"data\")"
   ]
  },
  {
   "cell_type": "code",
   "execution_count": 18,
   "metadata": {
    "execution": {
     "iopub.execute_input": "2021-03-20T21:12:09.851612Z",
     "iopub.status.busy": "2021-03-20T21:12:09.849474Z",
     "iopub.status.idle": "2021-03-20T21:12:09.854406Z",
     "shell.execute_reply": "2021-03-20T21:12:09.853935Z"
    }
   },
   "outputs": [],
   "source": [
    "df.to_csv(os.path.join(data_dir, f\"{today}.csv\"), index=False)"
   ]
  },
  {
   "cell_type": "code",
   "execution_count": null,
   "metadata": {},
   "outputs": [],
   "source": []
  }
 ],
 "metadata": {
  "kernelspec": {
   "display_name": "Python 3",
   "language": "python",
   "name": "python3"
  },
  "language_info": {
   "codemirror_mode": {
    "name": "ipython",
    "version": 3
   },
   "file_extension": ".py",
   "mimetype": "text/x-python",
   "name": "python",
   "nbconvert_exporter": "python",
   "pygments_lexer": "ipython3",
   "version": "3.8.8"
  }
 },
 "nbformat": 4,
 "nbformat_minor": 4
}
