{
 "cells": [
  {
   "cell_type": "markdown",
   "metadata": {},
   "source": [
    "# California COVID vaccinations scrape"
   ]
  },
  {
   "cell_type": "markdown",
   "metadata": {},
   "source": [
    "By [Amy O'Kruk](https://twitter.com/amyokruk)"
   ]
  },
  {
   "cell_type": "markdown",
   "metadata": {},
   "source": [
    "Downloads data on vaccine doses administered by county and statewide from a Tableau-powered dashboard from the California Department of Public Health."
   ]
  },
  {
   "cell_type": "code",
   "execution_count": 1,
   "metadata": {
    "execution": {
     "iopub.execute_input": "2021-03-15T09:44:02.340933Z",
     "iopub.status.busy": "2021-03-15T09:44:02.340326Z",
     "iopub.status.idle": "2021-03-15T09:44:02.905731Z",
     "shell.execute_reply": "2021-03-15T09:44:02.905143Z"
    }
   },
   "outputs": [],
   "source": [
    "import pandas as pd\n",
    "import requests\n",
    "from bs4 import BeautifulSoup\n",
    "import json\n",
    "import re\n",
    "import time\n",
    "from time import gmtime, strftime \n",
    "import os\n",
    "import pytz\n",
    "from datetime import datetime"
   ]
  },
  {
   "cell_type": "markdown",
   "metadata": {},
   "source": [
    "Scrape the dashboard page"
   ]
  },
  {
   "cell_type": "code",
   "execution_count": 2,
   "metadata": {
    "execution": {
     "iopub.execute_input": "2021-03-15T09:44:02.911495Z",
     "iopub.status.busy": "2021-03-15T09:44:02.909220Z",
     "iopub.status.idle": "2021-03-15T09:44:03.491712Z",
     "shell.execute_reply": "2021-03-15T09:44:03.491038Z"
    }
   },
   "outputs": [],
   "source": [
    "url = \"https://public.tableau.com/interactive/views/COVID-19VaccineDashboardPublic/Vaccine?:embed=y&:showVizHome=n&:apiID=host0\"\n",
    "\n",
    "r = requests.get(url)\n",
    "soup = BeautifulSoup(r.text, \"html.parser\")"
   ]
  },
  {
   "cell_type": "code",
   "execution_count": 3,
   "metadata": {
    "execution": {
     "iopub.execute_input": "2021-03-15T09:44:03.496985Z",
     "iopub.status.busy": "2021-03-15T09:44:03.496493Z",
     "iopub.status.idle": "2021-03-15T09:44:03.499702Z",
     "shell.execute_reply": "2021-03-15T09:44:03.499303Z"
    }
   },
   "outputs": [],
   "source": [
    "tableauData = json.loads(soup.find(\"textarea\",{\"id\": \"tsConfigContainer\"}).text)"
   ]
  },
  {
   "cell_type": "markdown",
   "metadata": {},
   "source": [
    "Get the link to the Tableau data"
   ]
  },
  {
   "cell_type": "code",
   "execution_count": 4,
   "metadata": {
    "execution": {
     "iopub.execute_input": "2021-03-15T09:44:03.503993Z",
     "iopub.status.busy": "2021-03-15T09:44:03.502868Z",
     "iopub.status.idle": "2021-03-15T09:44:03.504584Z",
     "shell.execute_reply": "2021-03-15T09:44:03.505009Z"
    }
   },
   "outputs": [],
   "source": [
    "dataUrl = f'https://public.tableau.com{tableauData[\"vizql_root\"]}/bootstrapSession/sessions/{tableauData[\"sessionid\"]}'"
   ]
  },
  {
   "cell_type": "code",
   "execution_count": 5,
   "metadata": {
    "execution": {
     "iopub.execute_input": "2021-03-15T09:44:03.511861Z",
     "iopub.status.busy": "2021-03-15T09:44:03.511300Z",
     "iopub.status.idle": "2021-03-15T09:44:04.116131Z",
     "shell.execute_reply": "2021-03-15T09:44:04.114713Z"
    }
   },
   "outputs": [],
   "source": [
    "r = requests.post(dataUrl, data= {\n",
    "    \"sheet_id\": tableauData[\"sheetId\"],\n",
    "})\n",
    "\n",
    "dataReg = re.search('\\d+;({.*})\\d+;({.*})', r.text, re.MULTILINE)\n",
    "data1 = json.loads(dataReg.group(2))\n",
    "\n",
    "dataJson = data1[\"secondaryInfo\"][\"presModelMap\"][\"dataDictionary\"][\"presModelHolder\"][\"genDataDictionaryPresModel\"][\"dataSegments\"][\"0\"][\"dataColumns\"]"
   ]
  },
  {
   "cell_type": "markdown",
   "metadata": {},
   "source": [
    "Isolate what you want"
   ]
  },
  {
   "cell_type": "code",
   "execution_count": 6,
   "metadata": {
    "execution": {
     "iopub.execute_input": "2021-03-15T09:44:04.119869Z",
     "iopub.status.busy": "2021-03-15T09:44:04.119370Z",
     "iopub.status.idle": "2021-03-15T09:44:04.122796Z",
     "shell.execute_reply": "2021-03-15T09:44:04.123212Z"
    }
   },
   "outputs": [],
   "source": [
    "counties = dataJson[2]['dataValues'][:58]"
   ]
  },
  {
   "cell_type": "code",
   "execution_count": 7,
   "metadata": {
    "execution": {
     "iopub.execute_input": "2021-03-15T09:44:04.126828Z",
     "iopub.status.busy": "2021-03-15T09:44:04.126349Z",
     "iopub.status.idle": "2021-03-15T09:44:04.129463Z",
     "shell.execute_reply": "2021-03-15T09:44:04.129028Z"
    }
   },
   "outputs": [],
   "source": [
    "doses = dataJson[0]['dataValues'][3:61]"
   ]
  },
  {
   "cell_type": "markdown",
   "metadata": {},
   "source": [
    "Data formatting"
   ]
  },
  {
   "cell_type": "code",
   "execution_count": 8,
   "metadata": {
    "execution": {
     "iopub.execute_input": "2021-03-15T09:44:04.132845Z",
     "iopub.status.busy": "2021-03-15T09:44:04.132330Z",
     "iopub.status.idle": "2021-03-15T09:44:04.135945Z",
     "shell.execute_reply": "2021-03-15T09:44:04.135543Z"
    }
   },
   "outputs": [],
   "source": [
    "zipped = dict(zip(counties, doses))"
   ]
  },
  {
   "cell_type": "code",
   "execution_count": 9,
   "metadata": {
    "execution": {
     "iopub.execute_input": "2021-03-15T09:44:04.141424Z",
     "iopub.status.busy": "2021-03-15T09:44:04.140880Z",
     "iopub.status.idle": "2021-03-15T09:44:04.144944Z",
     "shell.execute_reply": "2021-03-15T09:44:04.144457Z"
    }
   },
   "outputs": [],
   "source": [
    "df = pd.Series(zipped).reset_index()"
   ]
  },
  {
   "cell_type": "code",
   "execution_count": 10,
   "metadata": {
    "execution": {
     "iopub.execute_input": "2021-03-15T09:44:04.148520Z",
     "iopub.status.busy": "2021-03-15T09:44:04.148044Z",
     "iopub.status.idle": "2021-03-15T09:44:04.150782Z",
     "shell.execute_reply": "2021-03-15T09:44:04.151184Z"
    }
   },
   "outputs": [],
   "source": [
    "df.columns = ['location','doses']"
   ]
  },
  {
   "cell_type": "markdown",
   "metadata": {},
   "source": [
    "Grab the overall California total"
   ]
  },
  {
   "cell_type": "code",
   "execution_count": 11,
   "metadata": {
    "execution": {
     "iopub.execute_input": "2021-03-15T09:44:04.154660Z",
     "iopub.status.busy": "2021-03-15T09:44:04.154183Z",
     "iopub.status.idle": "2021-03-15T09:44:04.158165Z",
     "shell.execute_reply": "2021-03-15T09:44:04.157745Z"
    }
   },
   "outputs": [],
   "source": [
    "add = {'location':'California','doses':dataJson[0]['dataValues'][2]}"
   ]
  },
  {
   "cell_type": "code",
   "execution_count": 12,
   "metadata": {
    "execution": {
     "iopub.execute_input": "2021-03-15T09:44:04.163810Z",
     "iopub.status.busy": "2021-03-15T09:44:04.163410Z",
     "iopub.status.idle": "2021-03-15T09:44:04.166637Z",
     "shell.execute_reply": "2021-03-15T09:44:04.166213Z"
    }
   },
   "outputs": [],
   "source": [
    "df = df.append(add, ignore_index=True)"
   ]
  },
  {
   "cell_type": "code",
   "execution_count": 13,
   "metadata": {
    "execution": {
     "iopub.execute_input": "2021-03-15T09:44:04.170666Z",
     "iopub.status.busy": "2021-03-15T09:44:04.170155Z",
     "iopub.status.idle": "2021-03-15T09:44:04.173234Z",
     "shell.execute_reply": "2021-03-15T09:44:04.173700Z"
    }
   },
   "outputs": [],
   "source": [
    "df = df.sort_values(by='location')"
   ]
  },
  {
   "cell_type": "code",
   "execution_count": 14,
   "metadata": {
    "execution": {
     "iopub.execute_input": "2021-03-15T09:44:04.179238Z",
     "iopub.status.busy": "2021-03-15T09:44:04.178759Z",
     "iopub.status.idle": "2021-03-15T09:44:04.181976Z",
     "shell.execute_reply": "2021-03-15T09:44:04.181552Z"
    }
   },
   "outputs": [],
   "source": [
    "df = df[df.location == 'California'].append(df[df.location != 'California']).reset_index(drop=True)"
   ]
  },
  {
   "cell_type": "code",
   "execution_count": null,
   "metadata": {},
   "outputs": [],
   "source": []
  },
  {
   "cell_type": "code",
   "execution_count": 15,
   "metadata": {
    "execution": {
     "iopub.execute_input": "2021-03-15T09:44:04.185030Z",
     "iopub.status.busy": "2021-03-15T09:44:04.184547Z",
     "iopub.status.idle": "2021-03-15T09:44:04.202826Z",
     "shell.execute_reply": "2021-03-15T09:44:04.202426Z"
    }
   },
   "outputs": [],
   "source": [
    "tz = pytz.timezone(\"America/New_York\")"
   ]
  },
  {
   "cell_type": "code",
   "execution_count": 16,
   "metadata": {
    "execution": {
     "iopub.execute_input": "2021-03-15T09:44:04.208486Z",
     "iopub.status.busy": "2021-03-15T09:44:04.207974Z",
     "iopub.status.idle": "2021-03-15T09:44:04.211622Z",
     "shell.execute_reply": "2021-03-15T09:44:04.211185Z"
    }
   },
   "outputs": [],
   "source": [
    "today = datetime.now(tz).date()"
   ]
  },
  {
   "cell_type": "code",
   "execution_count": 17,
   "metadata": {
    "execution": {
     "iopub.execute_input": "2021-03-15T09:44:04.215131Z",
     "iopub.status.busy": "2021-03-15T09:44:04.214613Z",
     "iopub.status.idle": "2021-03-15T09:44:04.217918Z",
     "shell.execute_reply": "2021-03-15T09:44:04.217492Z"
    }
   },
   "outputs": [],
   "source": [
    "data_dir = os.path.join(os.path.abspath(\"\"), \"data\")"
   ]
  },
  {
   "cell_type": "code",
   "execution_count": 18,
   "metadata": {
    "execution": {
     "iopub.execute_input": "2021-03-15T09:44:04.224065Z",
     "iopub.status.busy": "2021-03-15T09:44:04.221661Z",
     "iopub.status.idle": "2021-03-15T09:44:04.227123Z",
     "shell.execute_reply": "2021-03-15T09:44:04.226687Z"
    }
   },
   "outputs": [],
   "source": [
    "df.to_csv(os.path.join(data_dir, f\"{today}.csv\"), index=False)"
   ]
  },
  {
   "cell_type": "code",
   "execution_count": null,
   "metadata": {},
   "outputs": [],
   "source": []
  }
 ],
 "metadata": {
  "kernelspec": {
   "display_name": "Python 3",
   "language": "python",
   "name": "python3"
  },
  "language_info": {
   "codemirror_mode": {
    "name": "ipython",
    "version": 3
   },
   "file_extension": ".py",
   "mimetype": "text/x-python",
   "name": "python",
   "nbconvert_exporter": "python",
   "pygments_lexer": "ipython3",
   "version": "3.8.8"
  }
 },
 "nbformat": 4,
 "nbformat_minor": 4
}
