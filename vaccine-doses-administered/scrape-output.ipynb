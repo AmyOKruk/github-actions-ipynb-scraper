{
 "cells": [
  {
   "cell_type": "markdown",
   "metadata": {},
   "source": [
    "# California COVID vaccinations scrape"
   ]
  },
  {
   "cell_type": "markdown",
   "metadata": {},
   "source": [
    "By [Amy O'Kruk](https://twitter.com/amyokruk)"
   ]
  },
  {
   "cell_type": "markdown",
   "metadata": {},
   "source": [
    "Downloads data on vaccine doses administered by county and statewide from a Tableau-powered dashboard from the California Department of Public Health."
   ]
  },
  {
   "cell_type": "code",
   "execution_count": 1,
   "metadata": {
    "execution": {
     "iopub.execute_input": "2021-03-25T11:42:59.793329Z",
     "iopub.status.busy": "2021-03-25T11:42:59.792651Z",
     "iopub.status.idle": "2021-03-25T11:43:00.711456Z",
     "shell.execute_reply": "2021-03-25T11:43:00.714930Z"
    }
   },
   "outputs": [],
   "source": [
    "import pandas as pd\n",
    "import requests\n",
    "from bs4 import BeautifulSoup\n",
    "import json\n",
    "import re\n",
    "import time\n",
    "from time import gmtime, strftime \n",
    "import os\n",
    "import pytz\n",
    "from datetime import datetime"
   ]
  },
  {
   "cell_type": "markdown",
   "metadata": {},
   "source": [
    "Scrape the dashboard page"
   ]
  },
  {
   "cell_type": "code",
   "execution_count": 2,
   "metadata": {
    "execution": {
     "iopub.execute_input": "2021-03-25T11:43:00.723719Z",
     "iopub.status.busy": "2021-03-25T11:43:00.719112Z",
     "iopub.status.idle": "2021-03-25T11:43:01.365389Z",
     "shell.execute_reply": "2021-03-25T11:43:01.364818Z"
    }
   },
   "outputs": [],
   "source": [
    "url = \"https://public.tableau.com/interactive/views/COVID-19VaccineDashboardPublic/Vaccine?:embed=y&:showVizHome=n&:apiID=host0\"\n",
    "\n",
    "r = requests.get(url)\n",
    "soup = BeautifulSoup(r.text, \"html.parser\")"
   ]
  },
  {
   "cell_type": "code",
   "execution_count": 3,
   "metadata": {
    "execution": {
     "iopub.execute_input": "2021-03-25T11:43:01.371138Z",
     "iopub.status.busy": "2021-03-25T11:43:01.370427Z",
     "iopub.status.idle": "2021-03-25T11:43:01.374172Z",
     "shell.execute_reply": "2021-03-25T11:43:01.374707Z"
    }
   },
   "outputs": [],
   "source": [
    "tableauData = json.loads(soup.find(\"textarea\",{\"id\": \"tsConfigContainer\"}).text)"
   ]
  },
  {
   "cell_type": "markdown",
   "metadata": {},
   "source": [
    "Get the link to the Tableau data"
   ]
  },
  {
   "cell_type": "code",
   "execution_count": 4,
   "metadata": {
    "execution": {
     "iopub.execute_input": "2021-03-25T11:43:01.379018Z",
     "iopub.status.busy": "2021-03-25T11:43:01.378370Z",
     "iopub.status.idle": "2021-03-25T11:43:01.382436Z",
     "shell.execute_reply": "2021-03-25T11:43:01.381877Z"
    }
   },
   "outputs": [],
   "source": [
    "dataUrl = f'https://public.tableau.com{tableauData[\"vizql_root\"]}/bootstrapSession/sessions/{tableauData[\"sessionid\"]}'"
   ]
  },
  {
   "cell_type": "code",
   "execution_count": 5,
   "metadata": {
    "execution": {
     "iopub.execute_input": "2021-03-25T11:43:01.390413Z",
     "iopub.status.busy": "2021-03-25T11:43:01.389745Z",
     "iopub.status.idle": "2021-03-25T11:43:03.391216Z",
     "shell.execute_reply": "2021-03-25T11:43:03.390678Z"
    }
   },
   "outputs": [],
   "source": [
    "r = requests.post(dataUrl, data= {\n",
    "    \"sheet_id\": tableauData[\"sheetId\"],\n",
    "})\n",
    "\n",
    "dataReg = re.search('\\d+;({.*})\\d+;({.*})', r.text, re.MULTILINE)\n",
    "data1 = json.loads(dataReg.group(2))\n",
    "\n",
    "dataJson = data1[\"secondaryInfo\"][\"presModelMap\"][\"dataDictionary\"][\"presModelHolder\"][\"genDataDictionaryPresModel\"][\"dataSegments\"][\"0\"][\"dataColumns\"]"
   ]
  },
  {
   "cell_type": "markdown",
   "metadata": {},
   "source": [
    "Isolate what you want"
   ]
  },
  {
   "cell_type": "code",
   "execution_count": 6,
   "metadata": {
    "execution": {
     "iopub.execute_input": "2021-03-25T11:43:03.397420Z",
     "iopub.status.busy": "2021-03-25T11:43:03.396820Z",
     "iopub.status.idle": "2021-03-25T11:43:03.401604Z",
     "shell.execute_reply": "2021-03-25T11:43:03.402074Z"
    }
   },
   "outputs": [],
   "source": [
    "counties = dataJson[2]['dataValues'][:58]"
   ]
  },
  {
   "cell_type": "code",
   "execution_count": 7,
   "metadata": {
    "execution": {
     "iopub.execute_input": "2021-03-25T11:43:03.408793Z",
     "iopub.status.busy": "2021-03-25T11:43:03.406687Z",
     "iopub.status.idle": "2021-03-25T11:43:03.410363Z",
     "shell.execute_reply": "2021-03-25T11:43:03.409452Z"
    }
   },
   "outputs": [],
   "source": [
    "doses = dataJson[0]['dataValues'][3:61]"
   ]
  },
  {
   "cell_type": "markdown",
   "metadata": {},
   "source": [
    "Data formatting"
   ]
  },
  {
   "cell_type": "code",
   "execution_count": 8,
   "metadata": {
    "execution": {
     "iopub.execute_input": "2021-03-25T11:43:03.414408Z",
     "iopub.status.busy": "2021-03-25T11:43:03.413780Z",
     "iopub.status.idle": "2021-03-25T11:43:03.418490Z",
     "shell.execute_reply": "2021-03-25T11:43:03.417757Z"
    }
   },
   "outputs": [],
   "source": [
    "zipped = dict(zip(counties, doses))"
   ]
  },
  {
   "cell_type": "code",
   "execution_count": 9,
   "metadata": {
    "execution": {
     "iopub.execute_input": "2021-03-25T11:43:03.425212Z",
     "iopub.status.busy": "2021-03-25T11:43:03.424622Z",
     "iopub.status.idle": "2021-03-25T11:43:03.428706Z",
     "shell.execute_reply": "2021-03-25T11:43:03.428183Z"
    }
   },
   "outputs": [],
   "source": [
    "df = pd.Series(zipped).reset_index()"
   ]
  },
  {
   "cell_type": "code",
   "execution_count": 10,
   "metadata": {
    "execution": {
     "iopub.execute_input": "2021-03-25T11:43:03.433340Z",
     "iopub.status.busy": "2021-03-25T11:43:03.432744Z",
     "iopub.status.idle": "2021-03-25T11:43:03.436811Z",
     "shell.execute_reply": "2021-03-25T11:43:03.436291Z"
    }
   },
   "outputs": [],
   "source": [
    "df.columns = ['location','doses']"
   ]
  },
  {
   "cell_type": "markdown",
   "metadata": {},
   "source": [
    "Grab the overall California total"
   ]
  },
  {
   "cell_type": "code",
   "execution_count": 11,
   "metadata": {
    "execution": {
     "iopub.execute_input": "2021-03-25T11:43:03.441163Z",
     "iopub.status.busy": "2021-03-25T11:43:03.440568Z",
     "iopub.status.idle": "2021-03-25T11:43:03.444823Z",
     "shell.execute_reply": "2021-03-25T11:43:03.444157Z"
    }
   },
   "outputs": [],
   "source": [
    "add = {'location':'California','doses':dataJson[0]['dataValues'][2]}"
   ]
  },
  {
   "cell_type": "code",
   "execution_count": 12,
   "metadata": {
    "execution": {
     "iopub.execute_input": "2021-03-25T11:43:03.452505Z",
     "iopub.status.busy": "2021-03-25T11:43:03.451900Z",
     "iopub.status.idle": "2021-03-25T11:43:03.459362Z",
     "shell.execute_reply": "2021-03-25T11:43:03.458725Z"
    }
   },
   "outputs": [],
   "source": [
    "df = df.append(add, ignore_index=True)"
   ]
  },
  {
   "cell_type": "code",
   "execution_count": 13,
   "metadata": {
    "execution": {
     "iopub.execute_input": "2021-03-25T11:43:03.464324Z",
     "iopub.status.busy": "2021-03-25T11:43:03.463569Z",
     "iopub.status.idle": "2021-03-25T11:43:03.468012Z",
     "shell.execute_reply": "2021-03-25T11:43:03.467417Z"
    }
   },
   "outputs": [],
   "source": [
    "df = df.sort_values(by='location')"
   ]
  },
  {
   "cell_type": "code",
   "execution_count": 14,
   "metadata": {
    "execution": {
     "iopub.execute_input": "2021-03-25T11:43:03.475426Z",
     "iopub.status.busy": "2021-03-25T11:43:03.474719Z",
     "iopub.status.idle": "2021-03-25T11:43:03.479015Z",
     "shell.execute_reply": "2021-03-25T11:43:03.478491Z"
    }
   },
   "outputs": [],
   "source": [
    "df = df[df.location == 'California'].append(df[df.location != 'California']).reset_index(drop=True)"
   ]
  },
  {
   "cell_type": "code",
   "execution_count": null,
   "metadata": {},
   "outputs": [],
   "source": []
  },
  {
   "cell_type": "code",
   "execution_count": 15,
   "metadata": {
    "execution": {
     "iopub.execute_input": "2021-03-25T11:43:03.483079Z",
     "iopub.status.busy": "2021-03-25T11:43:03.482483Z",
     "iopub.status.idle": "2021-03-25T11:43:03.506225Z",
     "shell.execute_reply": "2021-03-25T11:43:03.505604Z"
    }
   },
   "outputs": [],
   "source": [
    "tz = pytz.timezone(\"America/New_York\")"
   ]
  },
  {
   "cell_type": "code",
   "execution_count": 16,
   "metadata": {
    "execution": {
     "iopub.execute_input": "2021-03-25T11:43:03.510232Z",
     "iopub.status.busy": "2021-03-25T11:43:03.509621Z",
     "iopub.status.idle": "2021-03-25T11:43:03.514220Z",
     "shell.execute_reply": "2021-03-25T11:43:03.513641Z"
    }
   },
   "outputs": [],
   "source": [
    "today = datetime.now(tz).date()"
   ]
  },
  {
   "cell_type": "code",
   "execution_count": 17,
   "metadata": {
    "execution": {
     "iopub.execute_input": "2021-03-25T11:43:03.519317Z",
     "iopub.status.busy": "2021-03-25T11:43:03.518712Z",
     "iopub.status.idle": "2021-03-25T11:43:03.522662Z",
     "shell.execute_reply": "2021-03-25T11:43:03.523138Z"
    }
   },
   "outputs": [],
   "source": [
    "data_dir = os.path.join(os.path.abspath(\"\"), \"data\")"
   ]
  },
  {
   "cell_type": "code",
   "execution_count": 18,
   "metadata": {
    "execution": {
     "iopub.execute_input": "2021-03-25T11:43:03.530776Z",
     "iopub.status.busy": "2021-03-25T11:43:03.528989Z",
     "iopub.status.idle": "2021-03-25T11:43:03.534604Z",
     "shell.execute_reply": "2021-03-25T11:43:03.533765Z"
    }
   },
   "outputs": [],
   "source": [
    "df.to_csv(os.path.join(data_dir, f\"{today}.csv\"), index=False)"
   ]
  },
  {
   "cell_type": "code",
   "execution_count": null,
   "metadata": {},
   "outputs": [],
   "source": []
  }
 ],
 "metadata": {
  "kernelspec": {
   "display_name": "Python 3",
   "language": "python",
   "name": "python3"
  },
  "language_info": {
   "codemirror_mode": {
    "name": "ipython",
    "version": 3
   },
   "file_extension": ".py",
   "mimetype": "text/x-python",
   "name": "python",
   "nbconvert_exporter": "python",
   "pygments_lexer": "ipython3",
   "version": "3.8.8"
  }
 },
 "nbformat": 4,
 "nbformat_minor": 4
}
