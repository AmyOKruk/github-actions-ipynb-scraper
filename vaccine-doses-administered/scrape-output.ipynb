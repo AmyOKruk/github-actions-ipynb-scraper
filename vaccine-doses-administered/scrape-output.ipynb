{
 "cells": [
  {
   "cell_type": "markdown",
   "metadata": {},
   "source": [
    "# California COVID vaccinations scrape"
   ]
  },
  {
   "cell_type": "markdown",
   "metadata": {},
   "source": [
    "By [Amy O'Kruk](https://twitter.com/amyokruk)"
   ]
  },
  {
   "cell_type": "markdown",
   "metadata": {},
   "source": [
    "Downloads data on vaccine doses administered by county and statewide from a Tableau-powered dashboard from the California Department of Public Health."
   ]
  },
  {
   "cell_type": "code",
   "execution_count": 1,
   "metadata": {
    "execution": {
     "iopub.execute_input": "2021-03-12T08:16:06.321719Z",
     "iopub.status.busy": "2021-03-12T08:16:06.321023Z",
     "iopub.status.idle": "2021-03-12T08:16:06.705271Z",
     "shell.execute_reply": "2021-03-12T08:16:06.704696Z"
    }
   },
   "outputs": [],
   "source": [
    "import pandas as pd\n",
    "import requests\n",
    "from bs4 import BeautifulSoup\n",
    "import json\n",
    "import re\n",
    "import time\n",
    "from time import gmtime, strftime \n",
    "import os\n",
    "import pytz\n",
    "from datetime import datetime"
   ]
  },
  {
   "cell_type": "markdown",
   "metadata": {},
   "source": [
    "Scrape the dashboard page"
   ]
  },
  {
   "cell_type": "code",
   "execution_count": 2,
   "metadata": {
    "execution": {
     "iopub.execute_input": "2021-03-12T08:16:06.711487Z",
     "iopub.status.busy": "2021-03-12T08:16:06.710858Z",
     "iopub.status.idle": "2021-03-12T08:16:07.091443Z",
     "shell.execute_reply": "2021-03-12T08:16:07.090545Z"
    }
   },
   "outputs": [],
   "source": [
    "url = \"https://public.tableau.com/interactive/views/COVID-19VaccineDashboardPublic/Vaccine?:embed=y&:showVizHome=n&:apiID=host0\"\n",
    "\n",
    "r = requests.get(url)\n",
    "soup = BeautifulSoup(r.text, \"html.parser\")"
   ]
  },
  {
   "cell_type": "code",
   "execution_count": 3,
   "metadata": {
    "execution": {
     "iopub.execute_input": "2021-03-12T08:16:07.097450Z",
     "iopub.status.busy": "2021-03-12T08:16:07.095976Z",
     "iopub.status.idle": "2021-03-12T08:16:07.098145Z",
     "shell.execute_reply": "2021-03-12T08:16:07.098622Z"
    }
   },
   "outputs": [],
   "source": [
    "tableauData = json.loads(soup.find(\"textarea\",{\"id\": \"tsConfigContainer\"}).text)"
   ]
  },
  {
   "cell_type": "markdown",
   "metadata": {},
   "source": [
    "Get the link to the Tableau data"
   ]
  },
  {
   "cell_type": "code",
   "execution_count": 4,
   "metadata": {
    "execution": {
     "iopub.execute_input": "2021-03-12T08:16:07.104282Z",
     "iopub.status.busy": "2021-03-12T08:16:07.102793Z",
     "iopub.status.idle": "2021-03-12T08:16:07.104949Z",
     "shell.execute_reply": "2021-03-12T08:16:07.105431Z"
    }
   },
   "outputs": [],
   "source": [
    "dataUrl = f'https://public.tableau.com{tableauData[\"vizql_root\"]}/bootstrapSession/sessions/{tableauData[\"sessionid\"]}'"
   ]
  },
  {
   "cell_type": "code",
   "execution_count": 5,
   "metadata": {
    "execution": {
     "iopub.execute_input": "2021-03-12T08:16:07.111983Z",
     "iopub.status.busy": "2021-03-12T08:16:07.111412Z",
     "iopub.status.idle": "2021-03-12T08:16:07.392330Z",
     "shell.execute_reply": "2021-03-12T08:16:07.391841Z"
    }
   },
   "outputs": [],
   "source": [
    "r = requests.post(dataUrl, data= {\n",
    "    \"sheet_id\": tableauData[\"sheetId\"],\n",
    "})\n",
    "\n",
    "dataReg = re.search('\\d+;({.*})\\d+;({.*})', r.text, re.MULTILINE)\n",
    "data1 = json.loads(dataReg.group(2))\n",
    "\n",
    "dataJson = data1[\"secondaryInfo\"][\"presModelMap\"][\"dataDictionary\"][\"presModelHolder\"][\"genDataDictionaryPresModel\"][\"dataSegments\"][\"0\"][\"dataColumns\"]"
   ]
  },
  {
   "cell_type": "markdown",
   "metadata": {},
   "source": [
    "Isolate what you want"
   ]
  },
  {
   "cell_type": "code",
   "execution_count": 6,
   "metadata": {
    "execution": {
     "iopub.execute_input": "2021-03-12T08:16:07.396935Z",
     "iopub.status.busy": "2021-03-12T08:16:07.395582Z",
     "iopub.status.idle": "2021-03-12T08:16:07.397639Z",
     "shell.execute_reply": "2021-03-12T08:16:07.398319Z"
    }
   },
   "outputs": [],
   "source": [
    "counties = dataJson[2]['dataValues'][:58]"
   ]
  },
  {
   "cell_type": "code",
   "execution_count": 7,
   "metadata": {
    "execution": {
     "iopub.execute_input": "2021-03-12T08:16:07.402857Z",
     "iopub.status.busy": "2021-03-12T08:16:07.401478Z",
     "iopub.status.idle": "2021-03-12T08:16:07.403461Z",
     "shell.execute_reply": "2021-03-12T08:16:07.403930Z"
    }
   },
   "outputs": [],
   "source": [
    "doses = dataJson[0]['dataValues'][3:61]"
   ]
  },
  {
   "cell_type": "markdown",
   "metadata": {},
   "source": [
    "Data formatting"
   ]
  },
  {
   "cell_type": "code",
   "execution_count": 8,
   "metadata": {
    "execution": {
     "iopub.execute_input": "2021-03-12T08:16:07.408435Z",
     "iopub.status.busy": "2021-03-12T08:16:07.407084Z",
     "iopub.status.idle": "2021-03-12T08:16:07.409052Z",
     "shell.execute_reply": "2021-03-12T08:16:07.409602Z"
    }
   },
   "outputs": [],
   "source": [
    "zipped = dict(zip(counties, doses))"
   ]
  },
  {
   "cell_type": "code",
   "execution_count": 9,
   "metadata": {
    "execution": {
     "iopub.execute_input": "2021-03-12T08:16:07.416357Z",
     "iopub.status.busy": "2021-03-12T08:16:07.415072Z",
     "iopub.status.idle": "2021-03-12T08:16:07.417024Z",
     "shell.execute_reply": "2021-03-12T08:16:07.417473Z"
    }
   },
   "outputs": [],
   "source": [
    "df = pd.Series(zipped).reset_index()"
   ]
  },
  {
   "cell_type": "code",
   "execution_count": 10,
   "metadata": {
    "execution": {
     "iopub.execute_input": "2021-03-12T08:16:07.421790Z",
     "iopub.status.busy": "2021-03-12T08:16:07.420596Z",
     "iopub.status.idle": "2021-03-12T08:16:07.422405Z",
     "shell.execute_reply": "2021-03-12T08:16:07.422872Z"
    }
   },
   "outputs": [],
   "source": [
    "df.columns = ['location','doses']"
   ]
  },
  {
   "cell_type": "markdown",
   "metadata": {},
   "source": [
    "Grab the overall California total"
   ]
  },
  {
   "cell_type": "code",
   "execution_count": 11,
   "metadata": {
    "execution": {
     "iopub.execute_input": "2021-03-12T08:16:07.427205Z",
     "iopub.status.busy": "2021-03-12T08:16:07.425977Z",
     "iopub.status.idle": "2021-03-12T08:16:07.427817Z",
     "shell.execute_reply": "2021-03-12T08:16:07.428262Z"
    }
   },
   "outputs": [],
   "source": [
    "add = {'location':'California','doses':dataJson[0]['dataValues'][2]}"
   ]
  },
  {
   "cell_type": "code",
   "execution_count": 12,
   "metadata": {
    "execution": {
     "iopub.execute_input": "2021-03-12T08:16:07.435298Z",
     "iopub.status.busy": "2021-03-12T08:16:07.434015Z",
     "iopub.status.idle": "2021-03-12T08:16:07.435974Z",
     "shell.execute_reply": "2021-03-12T08:16:07.436416Z"
    }
   },
   "outputs": [],
   "source": [
    "df = df.append(add, ignore_index=True)"
   ]
  },
  {
   "cell_type": "code",
   "execution_count": 13,
   "metadata": {
    "execution": {
     "iopub.execute_input": "2021-03-12T08:16:07.441243Z",
     "iopub.status.busy": "2021-03-12T08:16:07.440066Z",
     "iopub.status.idle": "2021-03-12T08:16:07.441850Z",
     "shell.execute_reply": "2021-03-12T08:16:07.442288Z"
    }
   },
   "outputs": [],
   "source": [
    "df = df.sort_values(by='location')"
   ]
  },
  {
   "cell_type": "code",
   "execution_count": 14,
   "metadata": {
    "execution": {
     "iopub.execute_input": "2021-03-12T08:16:07.448861Z",
     "iopub.status.busy": "2021-03-12T08:16:07.447636Z",
     "iopub.status.idle": "2021-03-12T08:16:07.449461Z",
     "shell.execute_reply": "2021-03-12T08:16:07.449898Z"
    }
   },
   "outputs": [],
   "source": [
    "df = df[df.location == 'California'].append(df[df.location != 'California']).reset_index(drop=True)"
   ]
  },
  {
   "cell_type": "code",
   "execution_count": null,
   "metadata": {},
   "outputs": [],
   "source": []
  },
  {
   "cell_type": "code",
   "execution_count": 15,
   "metadata": {
    "execution": {
     "iopub.execute_input": "2021-03-12T08:16:07.453205Z",
     "iopub.status.busy": "2021-03-12T08:16:07.452668Z",
     "iopub.status.idle": "2021-03-12T08:16:07.469935Z",
     "shell.execute_reply": "2021-03-12T08:16:07.470349Z"
    }
   },
   "outputs": [],
   "source": [
    "tz = pytz.timezone(\"America/New_York\")"
   ]
  },
  {
   "cell_type": "code",
   "execution_count": 16,
   "metadata": {
    "execution": {
     "iopub.execute_input": "2021-03-12T08:16:07.474564Z",
     "iopub.status.busy": "2021-03-12T08:16:07.473296Z",
     "iopub.status.idle": "2021-03-12T08:16:07.475175Z",
     "shell.execute_reply": "2021-03-12T08:16:07.475647Z"
    }
   },
   "outputs": [],
   "source": [
    "today = datetime.now(tz).date()"
   ]
  },
  {
   "cell_type": "code",
   "execution_count": 17,
   "metadata": {
    "execution": {
     "iopub.execute_input": "2021-03-12T08:16:07.480103Z",
     "iopub.status.busy": "2021-03-12T08:16:07.478846Z",
     "iopub.status.idle": "2021-03-12T08:16:07.480723Z",
     "shell.execute_reply": "2021-03-12T08:16:07.481178Z"
    }
   },
   "outputs": [],
   "source": [
    "data_dir = os.path.join(os.path.abspath(\"\"), \"data\")"
   ]
  },
  {
   "cell_type": "code",
   "execution_count": 18,
   "metadata": {
    "execution": {
     "iopub.execute_input": "2021-03-12T08:16:07.485167Z",
     "iopub.status.busy": "2021-03-12T08:16:07.484191Z",
     "iopub.status.idle": "2021-03-12T08:16:07.488120Z",
     "shell.execute_reply": "2021-03-12T08:16:07.488572Z"
    }
   },
   "outputs": [],
   "source": [
    "df.to_csv(os.path.join(data_dir, f\"{today}.csv\"), index=False)"
   ]
  },
  {
   "cell_type": "code",
   "execution_count": null,
   "metadata": {},
   "outputs": [],
   "source": []
  }
 ],
 "metadata": {
  "kernelspec": {
   "display_name": "Python 3",
   "language": "python",
   "name": "python3"
  },
  "language_info": {
   "codemirror_mode": {
    "name": "ipython",
    "version": 3
   },
   "file_extension": ".py",
   "mimetype": "text/x-python",
   "name": "python",
   "nbconvert_exporter": "python",
   "pygments_lexer": "ipython3",
   "version": "3.8.8"
  }
 },
 "nbformat": 4,
 "nbformat_minor": 4
}
