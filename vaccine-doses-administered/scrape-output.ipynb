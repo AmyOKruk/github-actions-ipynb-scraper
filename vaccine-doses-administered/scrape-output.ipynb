{
 "cells": [
  {
   "cell_type": "markdown",
   "metadata": {},
   "source": [
    "# California COVID vaccinations scrape"
   ]
  },
  {
   "cell_type": "markdown",
   "metadata": {},
   "source": [
    "By [Amy O'Kruk](https://twitter.com/amyokruk)"
   ]
  },
  {
   "cell_type": "markdown",
   "metadata": {},
   "source": [
    "Downloads data on vaccine doses administered by county and statewide from a Tableau-powered dashboard from the California Department of Public Health."
   ]
  },
  {
   "cell_type": "code",
   "execution_count": 1,
   "metadata": {
    "execution": {
     "iopub.execute_input": "2021-03-16T16:20:42.552324Z",
     "iopub.status.busy": "2021-03-16T16:20:42.551627Z",
     "iopub.status.idle": "2021-03-16T16:20:43.071646Z",
     "shell.execute_reply": "2021-03-16T16:20:43.070453Z"
    }
   },
   "outputs": [],
   "source": [
    "import pandas as pd\n",
    "import requests\n",
    "from bs4 import BeautifulSoup\n",
    "import json\n",
    "import re\n",
    "import time\n",
    "from time import gmtime, strftime \n",
    "import os\n",
    "import pytz\n",
    "from datetime import datetime"
   ]
  },
  {
   "cell_type": "markdown",
   "metadata": {},
   "source": [
    "Scrape the dashboard page"
   ]
  },
  {
   "cell_type": "code",
   "execution_count": 2,
   "metadata": {
    "execution": {
     "iopub.execute_input": "2021-03-16T16:20:43.079737Z",
     "iopub.status.busy": "2021-03-16T16:20:43.075860Z",
     "iopub.status.idle": "2021-03-16T16:20:43.475817Z",
     "shell.execute_reply": "2021-03-16T16:20:43.475202Z"
    }
   },
   "outputs": [],
   "source": [
    "url = \"https://public.tableau.com/interactive/views/COVID-19VaccineDashboardPublic/Vaccine?:embed=y&:showVizHome=n&:apiID=host0\"\n",
    "\n",
    "r = requests.get(url)\n",
    "soup = BeautifulSoup(r.text, \"html.parser\")"
   ]
  },
  {
   "cell_type": "code",
   "execution_count": 3,
   "metadata": {
    "execution": {
     "iopub.execute_input": "2021-03-16T16:20:43.481180Z",
     "iopub.status.busy": "2021-03-16T16:20:43.480584Z",
     "iopub.status.idle": "2021-03-16T16:20:43.484381Z",
     "shell.execute_reply": "2021-03-16T16:20:43.483883Z"
    }
   },
   "outputs": [],
   "source": [
    "tableauData = json.loads(soup.find(\"textarea\",{\"id\": \"tsConfigContainer\"}).text)"
   ]
  },
  {
   "cell_type": "markdown",
   "metadata": {},
   "source": [
    "Get the link to the Tableau data"
   ]
  },
  {
   "cell_type": "code",
   "execution_count": 4,
   "metadata": {
    "execution": {
     "iopub.execute_input": "2021-03-16T16:20:43.488202Z",
     "iopub.status.busy": "2021-03-16T16:20:43.487603Z",
     "iopub.status.idle": "2021-03-16T16:20:43.491503Z",
     "shell.execute_reply": "2021-03-16T16:20:43.490978Z"
    }
   },
   "outputs": [],
   "source": [
    "dataUrl = f'https://public.tableau.com{tableauData[\"vizql_root\"]}/bootstrapSession/sessions/{tableauData[\"sessionid\"]}'"
   ]
  },
  {
   "cell_type": "code",
   "execution_count": 5,
   "metadata": {
    "execution": {
     "iopub.execute_input": "2021-03-16T16:20:43.499175Z",
     "iopub.status.busy": "2021-03-16T16:20:43.498545Z",
     "iopub.status.idle": "2021-03-16T16:20:43.795766Z",
     "shell.execute_reply": "2021-03-16T16:20:43.796276Z"
    }
   },
   "outputs": [],
   "source": [
    "r = requests.post(dataUrl, data= {\n",
    "    \"sheet_id\": tableauData[\"sheetId\"],\n",
    "})\n",
    "\n",
    "dataReg = re.search('\\d+;({.*})\\d+;({.*})', r.text, re.MULTILINE)\n",
    "data1 = json.loads(dataReg.group(2))\n",
    "\n",
    "dataJson = data1[\"secondaryInfo\"][\"presModelMap\"][\"dataDictionary\"][\"presModelHolder\"][\"genDataDictionaryPresModel\"][\"dataSegments\"][\"0\"][\"dataColumns\"]"
   ]
  },
  {
   "cell_type": "markdown",
   "metadata": {},
   "source": [
    "Isolate what you want"
   ]
  },
  {
   "cell_type": "code",
   "execution_count": 6,
   "metadata": {
    "execution": {
     "iopub.execute_input": "2021-03-16T16:20:43.801912Z",
     "iopub.status.busy": "2021-03-16T16:20:43.800390Z",
     "iopub.status.idle": "2021-03-16T16:20:43.802662Z",
     "shell.execute_reply": "2021-03-16T16:20:43.803205Z"
    }
   },
   "outputs": [],
   "source": [
    "counties = dataJson[2]['dataValues'][:58]"
   ]
  },
  {
   "cell_type": "code",
   "execution_count": 7,
   "metadata": {
    "execution": {
     "iopub.execute_input": "2021-03-16T16:20:43.809292Z",
     "iopub.status.busy": "2021-03-16T16:20:43.807925Z",
     "iopub.status.idle": "2021-03-16T16:20:43.810040Z",
     "shell.execute_reply": "2021-03-16T16:20:43.810628Z"
    }
   },
   "outputs": [],
   "source": [
    "doses = dataJson[0]['dataValues'][3:61]"
   ]
  },
  {
   "cell_type": "markdown",
   "metadata": {},
   "source": [
    "Data formatting"
   ]
  },
  {
   "cell_type": "code",
   "execution_count": 8,
   "metadata": {
    "execution": {
     "iopub.execute_input": "2021-03-16T16:20:43.815095Z",
     "iopub.status.busy": "2021-03-16T16:20:43.814212Z",
     "iopub.status.idle": "2021-03-16T16:20:43.815885Z",
     "shell.execute_reply": "2021-03-16T16:20:43.816460Z"
    }
   },
   "outputs": [],
   "source": [
    "zipped = dict(zip(counties, doses))"
   ]
  },
  {
   "cell_type": "code",
   "execution_count": 9,
   "metadata": {
    "execution": {
     "iopub.execute_input": "2021-03-16T16:20:43.824315Z",
     "iopub.status.busy": "2021-03-16T16:20:43.822828Z",
     "iopub.status.idle": "2021-03-16T16:20:43.824978Z",
     "shell.execute_reply": "2021-03-16T16:20:43.825473Z"
    }
   },
   "outputs": [],
   "source": [
    "df = pd.Series(zipped).reset_index()"
   ]
  },
  {
   "cell_type": "code",
   "execution_count": 10,
   "metadata": {
    "execution": {
     "iopub.execute_input": "2021-03-16T16:20:43.830814Z",
     "iopub.status.busy": "2021-03-16T16:20:43.829457Z",
     "iopub.status.idle": "2021-03-16T16:20:43.831480Z",
     "shell.execute_reply": "2021-03-16T16:20:43.832067Z"
    }
   },
   "outputs": [],
   "source": [
    "df.columns = ['location','doses']"
   ]
  },
  {
   "cell_type": "markdown",
   "metadata": {},
   "source": [
    "Grab the overall California total"
   ]
  },
  {
   "cell_type": "code",
   "execution_count": 11,
   "metadata": {
    "execution": {
     "iopub.execute_input": "2021-03-16T16:20:43.836973Z",
     "iopub.status.busy": "2021-03-16T16:20:43.835732Z",
     "iopub.status.idle": "2021-03-16T16:20:43.837995Z",
     "shell.execute_reply": "2021-03-16T16:20:43.838573Z"
    }
   },
   "outputs": [],
   "source": [
    "add = {'location':'California','doses':dataJson[0]['dataValues'][2]}"
   ]
  },
  {
   "cell_type": "code",
   "execution_count": 12,
   "metadata": {
    "execution": {
     "iopub.execute_input": "2021-03-16T16:20:43.847921Z",
     "iopub.status.busy": "2021-03-16T16:20:43.846420Z",
     "iopub.status.idle": "2021-03-16T16:20:43.848579Z",
     "shell.execute_reply": "2021-03-16T16:20:43.849086Z"
    }
   },
   "outputs": [],
   "source": [
    "df = df.append(add, ignore_index=True)"
   ]
  },
  {
   "cell_type": "code",
   "execution_count": 13,
   "metadata": {
    "execution": {
     "iopub.execute_input": "2021-03-16T16:20:43.855034Z",
     "iopub.status.busy": "2021-03-16T16:20:43.853620Z",
     "iopub.status.idle": "2021-03-16T16:20:43.855803Z",
     "shell.execute_reply": "2021-03-16T16:20:43.856300Z"
    }
   },
   "outputs": [],
   "source": [
    "df = df.sort_values(by='location')"
   ]
  },
  {
   "cell_type": "code",
   "execution_count": 14,
   "metadata": {
    "execution": {
     "iopub.execute_input": "2021-03-16T16:20:43.864164Z",
     "iopub.status.busy": "2021-03-16T16:20:43.862696Z",
     "iopub.status.idle": "2021-03-16T16:20:43.864826Z",
     "shell.execute_reply": "2021-03-16T16:20:43.865320Z"
    }
   },
   "outputs": [],
   "source": [
    "df = df[df.location == 'California'].append(df[df.location != 'California']).reset_index(drop=True)"
   ]
  },
  {
   "cell_type": "code",
   "execution_count": null,
   "metadata": {},
   "outputs": [],
   "source": []
  },
  {
   "cell_type": "code",
   "execution_count": 15,
   "metadata": {
    "execution": {
     "iopub.execute_input": "2021-03-16T16:20:43.869446Z",
     "iopub.status.busy": "2021-03-16T16:20:43.868799Z",
     "iopub.status.idle": "2021-03-16T16:20:43.893488Z",
     "shell.execute_reply": "2021-03-16T16:20:43.892904Z"
    }
   },
   "outputs": [],
   "source": [
    "tz = pytz.timezone(\"America/New_York\")"
   ]
  },
  {
   "cell_type": "code",
   "execution_count": 16,
   "metadata": {
    "execution": {
     "iopub.execute_input": "2021-03-16T16:20:43.898786Z",
     "iopub.status.busy": "2021-03-16T16:20:43.897233Z",
     "iopub.status.idle": "2021-03-16T16:20:43.899575Z",
     "shell.execute_reply": "2021-03-16T16:20:43.900147Z"
    }
   },
   "outputs": [],
   "source": [
    "today = datetime.now(tz).date()"
   ]
  },
  {
   "cell_type": "code",
   "execution_count": 17,
   "metadata": {
    "execution": {
     "iopub.execute_input": "2021-03-16T16:20:43.905312Z",
     "iopub.status.busy": "2021-03-16T16:20:43.903807Z",
     "iopub.status.idle": "2021-03-16T16:20:43.906039Z",
     "shell.execute_reply": "2021-03-16T16:20:43.906572Z"
    }
   },
   "outputs": [],
   "source": [
    "data_dir = os.path.join(os.path.abspath(\"\"), \"data\")"
   ]
  },
  {
   "cell_type": "code",
   "execution_count": 18,
   "metadata": {
    "execution": {
     "iopub.execute_input": "2021-03-16T16:20:43.913291Z",
     "iopub.status.busy": "2021-03-16T16:20:43.910536Z",
     "iopub.status.idle": "2021-03-16T16:20:43.916187Z",
     "shell.execute_reply": "2021-03-16T16:20:43.915664Z"
    }
   },
   "outputs": [],
   "source": [
    "df.to_csv(os.path.join(data_dir, f\"{today}.csv\"), index=False)"
   ]
  },
  {
   "cell_type": "code",
   "execution_count": null,
   "metadata": {},
   "outputs": [],
   "source": []
  }
 ],
 "metadata": {
  "kernelspec": {
   "display_name": "Python 3",
   "language": "python",
   "name": "python3"
  },
  "language_info": {
   "codemirror_mode": {
    "name": "ipython",
    "version": 3
   },
   "file_extension": ".py",
   "mimetype": "text/x-python",
   "name": "python",
   "nbconvert_exporter": "python",
   "pygments_lexer": "ipython3",
   "version": "3.8.8"
  }
 },
 "nbformat": 4,
 "nbformat_minor": 4
}
