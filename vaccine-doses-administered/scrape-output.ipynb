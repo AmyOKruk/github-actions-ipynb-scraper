{
 "cells": [
  {
   "cell_type": "markdown",
   "metadata": {},
   "source": [
    "# California COVID vaccinations scrape"
   ]
  },
  {
   "cell_type": "markdown",
   "metadata": {},
   "source": [
    "By [Amy O'Kruk](https://twitter.com/amyokruk)"
   ]
  },
  {
   "cell_type": "markdown",
   "metadata": {},
   "source": [
    "Downloads data on vaccine doses administered by county and statewide from a Tableau-powered dashboard from the California Department of Public Health."
   ]
  },
  {
   "cell_type": "code",
   "execution_count": 1,
   "metadata": {
    "execution": {
     "iopub.execute_input": "2021-03-24T14:23:50.161113Z",
     "iopub.status.busy": "2021-03-24T14:23:50.160586Z",
     "iopub.status.idle": "2021-03-24T14:23:50.716048Z",
     "shell.execute_reply": "2021-03-24T14:23:50.715299Z"
    }
   },
   "outputs": [],
   "source": [
    "import pandas as pd\n",
    "import requests\n",
    "from bs4 import BeautifulSoup\n",
    "import json\n",
    "import re\n",
    "import time\n",
    "from time import gmtime, strftime \n",
    "import os\n",
    "import pytz\n",
    "from datetime import datetime"
   ]
  },
  {
   "cell_type": "markdown",
   "metadata": {},
   "source": [
    "Scrape the dashboard page"
   ]
  },
  {
   "cell_type": "code",
   "execution_count": 2,
   "metadata": {
    "execution": {
     "iopub.execute_input": "2021-03-24T14:23:50.721874Z",
     "iopub.status.busy": "2021-03-24T14:23:50.719237Z",
     "iopub.status.idle": "2021-03-24T14:23:51.251389Z",
     "shell.execute_reply": "2021-03-24T14:23:51.250965Z"
    }
   },
   "outputs": [],
   "source": [
    "url = \"https://public.tableau.com/interactive/views/COVID-19VaccineDashboardPublic/Vaccine?:embed=y&:showVizHome=n&:apiID=host0\"\n",
    "\n",
    "r = requests.get(url)\n",
    "soup = BeautifulSoup(r.text, \"html.parser\")"
   ]
  },
  {
   "cell_type": "code",
   "execution_count": 3,
   "metadata": {
    "execution": {
     "iopub.execute_input": "2021-03-24T14:23:51.256482Z",
     "iopub.status.busy": "2021-03-24T14:23:51.255934Z",
     "iopub.status.idle": "2021-03-24T14:23:51.259957Z",
     "shell.execute_reply": "2021-03-24T14:23:51.259165Z"
    }
   },
   "outputs": [],
   "source": [
    "tableauData = json.loads(soup.find(\"textarea\",{\"id\": \"tsConfigContainer\"}).text)"
   ]
  },
  {
   "cell_type": "markdown",
   "metadata": {},
   "source": [
    "Get the link to the Tableau data"
   ]
  },
  {
   "cell_type": "code",
   "execution_count": 4,
   "metadata": {
    "execution": {
     "iopub.execute_input": "2021-03-24T14:23:51.263378Z",
     "iopub.status.busy": "2021-03-24T14:23:51.262799Z",
     "iopub.status.idle": "2021-03-24T14:23:51.266203Z",
     "shell.execute_reply": "2021-03-24T14:23:51.266584Z"
    }
   },
   "outputs": [],
   "source": [
    "dataUrl = f'https://public.tableau.com{tableauData[\"vizql_root\"]}/bootstrapSession/sessions/{tableauData[\"sessionid\"]}'"
   ]
  },
  {
   "cell_type": "code",
   "execution_count": 5,
   "metadata": {
    "execution": {
     "iopub.execute_input": "2021-03-24T14:23:51.273884Z",
     "iopub.status.busy": "2021-03-24T14:23:51.273381Z",
     "iopub.status.idle": "2021-03-24T14:23:51.463257Z",
     "shell.execute_reply": "2021-03-24T14:23:51.462784Z"
    }
   },
   "outputs": [],
   "source": [
    "r = requests.post(dataUrl, data= {\n",
    "    \"sheet_id\": tableauData[\"sheetId\"],\n",
    "})\n",
    "\n",
    "dataReg = re.search('\\d+;({.*})\\d+;({.*})', r.text, re.MULTILINE)\n",
    "data1 = json.loads(dataReg.group(2))\n",
    "\n",
    "dataJson = data1[\"secondaryInfo\"][\"presModelMap\"][\"dataDictionary\"][\"presModelHolder\"][\"genDataDictionaryPresModel\"][\"dataSegments\"][\"0\"][\"dataColumns\"]"
   ]
  },
  {
   "cell_type": "markdown",
   "metadata": {},
   "source": [
    "Isolate what you want"
   ]
  },
  {
   "cell_type": "code",
   "execution_count": 6,
   "metadata": {
    "execution": {
     "iopub.execute_input": "2021-03-24T14:23:51.467364Z",
     "iopub.status.busy": "2021-03-24T14:23:51.466828Z",
     "iopub.status.idle": "2021-03-24T14:23:51.470983Z",
     "shell.execute_reply": "2021-03-24T14:23:51.469848Z"
    }
   },
   "outputs": [],
   "source": [
    "counties = dataJson[2]['dataValues'][:58]"
   ]
  },
  {
   "cell_type": "code",
   "execution_count": 7,
   "metadata": {
    "execution": {
     "iopub.execute_input": "2021-03-24T14:23:51.474051Z",
     "iopub.status.busy": "2021-03-24T14:23:51.473603Z",
     "iopub.status.idle": "2021-03-24T14:23:51.476826Z",
     "shell.execute_reply": "2021-03-24T14:23:51.477201Z"
    }
   },
   "outputs": [],
   "source": [
    "doses = dataJson[0]['dataValues'][3:61]"
   ]
  },
  {
   "cell_type": "markdown",
   "metadata": {},
   "source": [
    "Data formatting"
   ]
  },
  {
   "cell_type": "code",
   "execution_count": 8,
   "metadata": {
    "execution": {
     "iopub.execute_input": "2021-03-24T14:23:51.481335Z",
     "iopub.status.busy": "2021-03-24T14:23:51.480737Z",
     "iopub.status.idle": "2021-03-24T14:23:51.484479Z",
     "shell.execute_reply": "2021-03-24T14:23:51.484870Z"
    }
   },
   "outputs": [],
   "source": [
    "zipped = dict(zip(counties, doses))"
   ]
  },
  {
   "cell_type": "code",
   "execution_count": 9,
   "metadata": {
    "execution": {
     "iopub.execute_input": "2021-03-24T14:23:51.491194Z",
     "iopub.status.busy": "2021-03-24T14:23:51.490677Z",
     "iopub.status.idle": "2021-03-24T14:23:51.494641Z",
     "shell.execute_reply": "2021-03-24T14:23:51.494112Z"
    }
   },
   "outputs": [],
   "source": [
    "df = pd.Series(zipped).reset_index()"
   ]
  },
  {
   "cell_type": "code",
   "execution_count": 10,
   "metadata": {
    "execution": {
     "iopub.execute_input": "2021-03-24T14:23:51.499323Z",
     "iopub.status.busy": "2021-03-24T14:23:51.498678Z",
     "iopub.status.idle": "2021-03-24T14:23:51.502729Z",
     "shell.execute_reply": "2021-03-24T14:23:51.502224Z"
    }
   },
   "outputs": [],
   "source": [
    "df.columns = ['location','doses']"
   ]
  },
  {
   "cell_type": "markdown",
   "metadata": {},
   "source": [
    "Grab the overall California total"
   ]
  },
  {
   "cell_type": "code",
   "execution_count": 11,
   "metadata": {
    "execution": {
     "iopub.execute_input": "2021-03-24T14:23:51.506490Z",
     "iopub.status.busy": "2021-03-24T14:23:51.505978Z",
     "iopub.status.idle": "2021-03-24T14:23:51.509074Z",
     "shell.execute_reply": "2021-03-24T14:23:51.509470Z"
    }
   },
   "outputs": [],
   "source": [
    "add = {'location':'California','doses':dataJson[0]['dataValues'][2]}"
   ]
  },
  {
   "cell_type": "code",
   "execution_count": 12,
   "metadata": {
    "execution": {
     "iopub.execute_input": "2021-03-24T14:23:51.516155Z",
     "iopub.status.busy": "2021-03-24T14:23:51.515493Z",
     "iopub.status.idle": "2021-03-24T14:23:51.519938Z",
     "shell.execute_reply": "2021-03-24T14:23:51.519250Z"
    }
   },
   "outputs": [],
   "source": [
    "df = df.append(add, ignore_index=True)"
   ]
  },
  {
   "cell_type": "code",
   "execution_count": 13,
   "metadata": {
    "execution": {
     "iopub.execute_input": "2021-03-24T14:23:51.524601Z",
     "iopub.status.busy": "2021-03-24T14:23:51.523905Z",
     "iopub.status.idle": "2021-03-24T14:23:51.528095Z",
     "shell.execute_reply": "2021-03-24T14:23:51.527598Z"
    }
   },
   "outputs": [],
   "source": [
    "df = df.sort_values(by='location')"
   ]
  },
  {
   "cell_type": "code",
   "execution_count": 14,
   "metadata": {
    "execution": {
     "iopub.execute_input": "2021-03-24T14:23:51.534075Z",
     "iopub.status.busy": "2021-03-24T14:23:51.533594Z",
     "iopub.status.idle": "2021-03-24T14:23:51.536591Z",
     "shell.execute_reply": "2021-03-24T14:23:51.536976Z"
    }
   },
   "outputs": [],
   "source": [
    "df = df[df.location == 'California'].append(df[df.location != 'California']).reset_index(drop=True)"
   ]
  },
  {
   "cell_type": "code",
   "execution_count": null,
   "metadata": {},
   "outputs": [],
   "source": []
  },
  {
   "cell_type": "code",
   "execution_count": 15,
   "metadata": {
    "execution": {
     "iopub.execute_input": "2021-03-24T14:23:51.542481Z",
     "iopub.status.busy": "2021-03-24T14:23:51.541629Z",
     "iopub.status.idle": "2021-03-24T14:23:51.561612Z",
     "shell.execute_reply": "2021-03-24T14:23:51.561068Z"
    }
   },
   "outputs": [],
   "source": [
    "tz = pytz.timezone(\"America/New_York\")"
   ]
  },
  {
   "cell_type": "code",
   "execution_count": 16,
   "metadata": {
    "execution": {
     "iopub.execute_input": "2021-03-24T14:23:51.565401Z",
     "iopub.status.busy": "2021-03-24T14:23:51.564776Z",
     "iopub.status.idle": "2021-03-24T14:23:51.568866Z",
     "shell.execute_reply": "2021-03-24T14:23:51.568132Z"
    }
   },
   "outputs": [],
   "source": [
    "today = datetime.now(tz).date()"
   ]
  },
  {
   "cell_type": "code",
   "execution_count": 17,
   "metadata": {
    "execution": {
     "iopub.execute_input": "2021-03-24T14:23:51.572767Z",
     "iopub.status.busy": "2021-03-24T14:23:51.572141Z",
     "iopub.status.idle": "2021-03-24T14:23:51.575836Z",
     "shell.execute_reply": "2021-03-24T14:23:51.576241Z"
    }
   },
   "outputs": [],
   "source": [
    "data_dir = os.path.join(os.path.abspath(\"\"), \"data\")"
   ]
  },
  {
   "cell_type": "code",
   "execution_count": 18,
   "metadata": {
    "execution": {
     "iopub.execute_input": "2021-03-24T14:23:51.582381Z",
     "iopub.status.busy": "2021-03-24T14:23:51.580322Z",
     "iopub.status.idle": "2021-03-24T14:23:51.587115Z",
     "shell.execute_reply": "2021-03-24T14:23:51.586389Z"
    }
   },
   "outputs": [],
   "source": [
    "df.to_csv(os.path.join(data_dir, f\"{today}.csv\"), index=False)"
   ]
  },
  {
   "cell_type": "code",
   "execution_count": null,
   "metadata": {},
   "outputs": [],
   "source": []
  }
 ],
 "metadata": {
  "kernelspec": {
   "display_name": "Python 3",
   "language": "python",
   "name": "python3"
  },
  "language_info": {
   "codemirror_mode": {
    "name": "ipython",
    "version": 3
   },
   "file_extension": ".py",
   "mimetype": "text/x-python",
   "name": "python",
   "nbconvert_exporter": "python",
   "pygments_lexer": "ipython3",
   "version": "3.8.8"
  }
 },
 "nbformat": 4,
 "nbformat_minor": 4
}
