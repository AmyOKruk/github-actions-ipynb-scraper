{
 "cells": [
  {
   "cell_type": "markdown",
   "metadata": {},
   "source": [
    "# California COVID vaccinations scrape"
   ]
  },
  {
   "cell_type": "markdown",
   "metadata": {},
   "source": [
    "By [Amy O'Kruk](https://twitter.com/amyokruk)"
   ]
  },
  {
   "cell_type": "markdown",
   "metadata": {},
   "source": [
    "Downloads data on vaccine doses administered by county and statewide from a Tableau-powered dashboard from the California Department of Public Health."
   ]
  },
  {
   "cell_type": "code",
   "execution_count": 1,
   "metadata": {
    "execution": {
     "iopub.execute_input": "2021-03-17T12:56:46.276974Z",
     "iopub.status.busy": "2021-03-17T12:56:46.275298Z",
     "iopub.status.idle": "2021-03-17T12:56:47.381775Z",
     "shell.execute_reply": "2021-03-17T12:56:47.382892Z"
    }
   },
   "outputs": [],
   "source": [
    "import pandas as pd\n",
    "import requests\n",
    "from bs4 import BeautifulSoup\n",
    "import json\n",
    "import re\n",
    "import time\n",
    "from time import gmtime, strftime \n",
    "import os\n",
    "import pytz\n",
    "from datetime import datetime"
   ]
  },
  {
   "cell_type": "markdown",
   "metadata": {},
   "source": [
    "Scrape the dashboard page"
   ]
  },
  {
   "cell_type": "code",
   "execution_count": 2,
   "metadata": {
    "execution": {
     "iopub.execute_input": "2021-03-17T12:56:47.399262Z",
     "iopub.status.busy": "2021-03-17T12:56:47.392267Z",
     "iopub.status.idle": "2021-03-17T12:56:48.317057Z",
     "shell.execute_reply": "2021-03-17T12:56:48.315697Z"
    }
   },
   "outputs": [],
   "source": [
    "url = \"https://public.tableau.com/interactive/views/COVID-19VaccineDashboardPublic/Vaccine?:embed=y&:showVizHome=n&:apiID=host0\"\n",
    "\n",
    "r = requests.get(url)\n",
    "soup = BeautifulSoup(r.text, \"html.parser\")"
   ]
  },
  {
   "cell_type": "code",
   "execution_count": 3,
   "metadata": {
    "execution": {
     "iopub.execute_input": "2021-03-17T12:56:48.331701Z",
     "iopub.status.busy": "2021-03-17T12:56:48.329284Z",
     "iopub.status.idle": "2021-03-17T12:56:48.333143Z",
     "shell.execute_reply": "2021-03-17T12:56:48.334193Z"
    }
   },
   "outputs": [],
   "source": [
    "tableauData = json.loads(soup.find(\"textarea\",{\"id\": \"tsConfigContainer\"}).text)"
   ]
  },
  {
   "cell_type": "markdown",
   "metadata": {},
   "source": [
    "Get the link to the Tableau data"
   ]
  },
  {
   "cell_type": "code",
   "execution_count": 4,
   "metadata": {
    "execution": {
     "iopub.execute_input": "2021-03-17T12:56:48.343802Z",
     "iopub.status.busy": "2021-03-17T12:56:48.342480Z",
     "iopub.status.idle": "2021-03-17T12:56:48.348138Z",
     "shell.execute_reply": "2021-03-17T12:56:48.349141Z"
    }
   },
   "outputs": [],
   "source": [
    "dataUrl = f'https://public.tableau.com{tableauData[\"vizql_root\"]}/bootstrapSession/sessions/{tableauData[\"sessionid\"]}'"
   ]
  },
  {
   "cell_type": "code",
   "execution_count": 5,
   "metadata": {
    "execution": {
     "iopub.execute_input": "2021-03-17T12:56:48.365343Z",
     "iopub.status.busy": "2021-03-17T12:56:48.359686Z",
     "iopub.status.idle": "2021-03-17T12:56:48.837890Z",
     "shell.execute_reply": "2021-03-17T12:56:48.836304Z"
    }
   },
   "outputs": [],
   "source": [
    "r = requests.post(dataUrl, data= {\n",
    "    \"sheet_id\": tableauData[\"sheetId\"],\n",
    "})\n",
    "\n",
    "dataReg = re.search('\\d+;({.*})\\d+;({.*})', r.text, re.MULTILINE)\n",
    "data1 = json.loads(dataReg.group(2))\n",
    "\n",
    "dataJson = data1[\"secondaryInfo\"][\"presModelMap\"][\"dataDictionary\"][\"presModelHolder\"][\"genDataDictionaryPresModel\"][\"dataSegments\"][\"0\"][\"dataColumns\"]"
   ]
  },
  {
   "cell_type": "markdown",
   "metadata": {},
   "source": [
    "Isolate what you want"
   ]
  },
  {
   "cell_type": "code",
   "execution_count": 6,
   "metadata": {
    "execution": {
     "iopub.execute_input": "2021-03-17T12:56:48.847521Z",
     "iopub.status.busy": "2021-03-17T12:56:48.846108Z",
     "iopub.status.idle": "2021-03-17T12:56:48.855879Z",
     "shell.execute_reply": "2021-03-17T12:56:48.853872Z"
    }
   },
   "outputs": [],
   "source": [
    "counties = dataJson[2]['dataValues'][:58]"
   ]
  },
  {
   "cell_type": "code",
   "execution_count": 7,
   "metadata": {
    "execution": {
     "iopub.execute_input": "2021-03-17T12:56:48.865031Z",
     "iopub.status.busy": "2021-03-17T12:56:48.861693Z",
     "iopub.status.idle": "2021-03-17T12:56:48.870908Z",
     "shell.execute_reply": "2021-03-17T12:56:48.869715Z"
    }
   },
   "outputs": [],
   "source": [
    "doses = dataJson[0]['dataValues'][3:61]"
   ]
  },
  {
   "cell_type": "markdown",
   "metadata": {},
   "source": [
    "Data formatting"
   ]
  },
  {
   "cell_type": "code",
   "execution_count": 8,
   "metadata": {
    "execution": {
     "iopub.execute_input": "2021-03-17T12:56:48.882029Z",
     "iopub.status.busy": "2021-03-17T12:56:48.878926Z",
     "iopub.status.idle": "2021-03-17T12:56:48.883535Z",
     "shell.execute_reply": "2021-03-17T12:56:48.884860Z"
    }
   },
   "outputs": [],
   "source": [
    "zipped = dict(zip(counties, doses))"
   ]
  },
  {
   "cell_type": "code",
   "execution_count": 9,
   "metadata": {
    "execution": {
     "iopub.execute_input": "2021-03-17T12:56:48.899276Z",
     "iopub.status.busy": "2021-03-17T12:56:48.897859Z",
     "iopub.status.idle": "2021-03-17T12:56:48.901791Z",
     "shell.execute_reply": "2021-03-17T12:56:48.902832Z"
    }
   },
   "outputs": [],
   "source": [
    "df = pd.Series(zipped).reset_index()"
   ]
  },
  {
   "cell_type": "code",
   "execution_count": 10,
   "metadata": {
    "execution": {
     "iopub.execute_input": "2021-03-17T12:56:48.912776Z",
     "iopub.status.busy": "2021-03-17T12:56:48.911484Z",
     "iopub.status.idle": "2021-03-17T12:56:48.922510Z",
     "shell.execute_reply": "2021-03-17T12:56:48.923624Z"
    }
   },
   "outputs": [],
   "source": [
    "df.columns = ['location','doses']"
   ]
  },
  {
   "cell_type": "markdown",
   "metadata": {},
   "source": [
    "Grab the overall California total"
   ]
  },
  {
   "cell_type": "code",
   "execution_count": 11,
   "metadata": {
    "execution": {
     "iopub.execute_input": "2021-03-17T12:56:48.937678Z",
     "iopub.status.busy": "2021-03-17T12:56:48.935314Z",
     "iopub.status.idle": "2021-03-17T12:56:48.946513Z",
     "shell.execute_reply": "2021-03-17T12:56:48.945341Z"
    }
   },
   "outputs": [],
   "source": [
    "add = {'location':'California','doses':dataJson[0]['dataValues'][2]}"
   ]
  },
  {
   "cell_type": "code",
   "execution_count": 12,
   "metadata": {
    "execution": {
     "iopub.execute_input": "2021-03-17T12:56:48.965451Z",
     "iopub.status.busy": "2021-03-17T12:56:48.962997Z",
     "iopub.status.idle": "2021-03-17T12:56:48.966965Z",
     "shell.execute_reply": "2021-03-17T12:56:48.968044Z"
    }
   },
   "outputs": [],
   "source": [
    "df = df.append(add, ignore_index=True)"
   ]
  },
  {
   "cell_type": "code",
   "execution_count": 13,
   "metadata": {
    "execution": {
     "iopub.execute_input": "2021-03-17T12:56:48.981038Z",
     "iopub.status.busy": "2021-03-17T12:56:48.978538Z",
     "iopub.status.idle": "2021-03-17T12:56:48.982568Z",
     "shell.execute_reply": "2021-03-17T12:56:48.983641Z"
    }
   },
   "outputs": [],
   "source": [
    "df = df.sort_values(by='location')"
   ]
  },
  {
   "cell_type": "code",
   "execution_count": 14,
   "metadata": {
    "execution": {
     "iopub.execute_input": "2021-03-17T12:56:48.998335Z",
     "iopub.status.busy": "2021-03-17T12:56:48.996969Z",
     "iopub.status.idle": "2021-03-17T12:56:49.001537Z",
     "shell.execute_reply": "2021-03-17T12:56:49.002591Z"
    }
   },
   "outputs": [],
   "source": [
    "df = df[df.location == 'California'].append(df[df.location != 'California']).reset_index(drop=True)"
   ]
  },
  {
   "cell_type": "code",
   "execution_count": null,
   "metadata": {},
   "outputs": [],
   "source": []
  },
  {
   "cell_type": "code",
   "execution_count": 15,
   "metadata": {
    "execution": {
     "iopub.execute_input": "2021-03-17T12:56:49.012144Z",
     "iopub.status.busy": "2021-03-17T12:56:49.010834Z",
     "iopub.status.idle": "2021-03-17T12:56:49.058397Z",
     "shell.execute_reply": "2021-03-17T12:56:49.059471Z"
    }
   },
   "outputs": [],
   "source": [
    "tz = pytz.timezone(\"America/New_York\")"
   ]
  },
  {
   "cell_type": "code",
   "execution_count": 16,
   "metadata": {
    "execution": {
     "iopub.execute_input": "2021-03-17T12:56:49.071323Z",
     "iopub.status.busy": "2021-03-17T12:56:49.068005Z",
     "iopub.status.idle": "2021-03-17T12:56:49.072948Z",
     "shell.execute_reply": "2021-03-17T12:56:49.074050Z"
    }
   },
   "outputs": [],
   "source": [
    "today = datetime.now(tz).date()"
   ]
  },
  {
   "cell_type": "code",
   "execution_count": 17,
   "metadata": {
    "execution": {
     "iopub.execute_input": "2021-03-17T12:56:49.086632Z",
     "iopub.status.busy": "2021-03-17T12:56:49.083418Z",
     "iopub.status.idle": "2021-03-17T12:56:49.088500Z",
     "shell.execute_reply": "2021-03-17T12:56:49.089622Z"
    }
   },
   "outputs": [],
   "source": [
    "data_dir = os.path.join(os.path.abspath(\"\"), \"data\")"
   ]
  },
  {
   "cell_type": "code",
   "execution_count": 18,
   "metadata": {
    "execution": {
     "iopub.execute_input": "2021-03-17T12:56:49.102091Z",
     "iopub.status.busy": "2021-03-17T12:56:49.099138Z",
     "iopub.status.idle": "2021-03-17T12:56:49.110156Z",
     "shell.execute_reply": "2021-03-17T12:56:49.111238Z"
    }
   },
   "outputs": [],
   "source": [
    "df.to_csv(os.path.join(data_dir, f\"{today}.csv\"), index=False)"
   ]
  },
  {
   "cell_type": "code",
   "execution_count": null,
   "metadata": {},
   "outputs": [],
   "source": []
  }
 ],
 "metadata": {
  "kernelspec": {
   "display_name": "Python 3",
   "language": "python",
   "name": "python3"
  },
  "language_info": {
   "codemirror_mode": {
    "name": "ipython",
    "version": 3
   },
   "file_extension": ".py",
   "mimetype": "text/x-python",
   "name": "python",
   "nbconvert_exporter": "python",
   "pygments_lexer": "ipython3",
   "version": "3.8.8"
  }
 },
 "nbformat": 4,
 "nbformat_minor": 4
}
