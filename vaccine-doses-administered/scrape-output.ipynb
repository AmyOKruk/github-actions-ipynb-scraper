{
 "cells": [
  {
   "cell_type": "markdown",
   "metadata": {},
   "source": [
    "# California COVID vaccinations scrape"
   ]
  },
  {
   "cell_type": "markdown",
   "metadata": {},
   "source": [
    "By [Amy O'Kruk](https://twitter.com/amyokruk)"
   ]
  },
  {
   "cell_type": "markdown",
   "metadata": {},
   "source": [
    "Downloads data on vaccine doses administered by county and statewide from a Tableau-powered dashboard from the California Department of Public Health."
   ]
  },
  {
   "cell_type": "code",
   "execution_count": 1,
   "metadata": {
    "execution": {
     "iopub.execute_input": "2021-03-11T13:16:49.436074Z",
     "iopub.status.busy": "2021-03-11T13:16:49.435388Z",
     "iopub.status.idle": "2021-03-11T13:16:49.825478Z",
     "shell.execute_reply": "2021-03-11T13:16:49.824396Z"
    }
   },
   "outputs": [],
   "source": [
    "import pandas as pd\n",
    "import requests\n",
    "from bs4 import BeautifulSoup\n",
    "import json\n",
    "import re\n",
    "import time\n",
    "from time import gmtime, strftime \n",
    "import os\n",
    "import pytz\n",
    "from datetime import datetime"
   ]
  },
  {
   "cell_type": "markdown",
   "metadata": {},
   "source": [
    "Scrape the dashboard page"
   ]
  },
  {
   "cell_type": "code",
   "execution_count": 2,
   "metadata": {
    "execution": {
     "iopub.execute_input": "2021-03-11T13:16:49.831517Z",
     "iopub.status.busy": "2021-03-11T13:16:49.829074Z",
     "iopub.status.idle": "2021-03-11T13:16:50.034686Z",
     "shell.execute_reply": "2021-03-11T13:16:50.035151Z"
    }
   },
   "outputs": [],
   "source": [
    "url = \"https://public.tableau.com/interactive/views/COVID-19VaccineDashboardPublic/Vaccine?:embed=y&:showVizHome=n&:apiID=host0\"\n",
    "\n",
    "r = requests.get(url)\n",
    "soup = BeautifulSoup(r.text, \"html.parser\")"
   ]
  },
  {
   "cell_type": "code",
   "execution_count": 3,
   "metadata": {
    "execution": {
     "iopub.execute_input": "2021-03-11T13:16:50.039852Z",
     "iopub.status.busy": "2021-03-11T13:16:50.039281Z",
     "iopub.status.idle": "2021-03-11T13:16:50.043131Z",
     "shell.execute_reply": "2021-03-11T13:16:50.042657Z"
    }
   },
   "outputs": [],
   "source": [
    "tableauData = json.loads(soup.find(\"textarea\",{\"id\": \"tsConfigContainer\"}).text)"
   ]
  },
  {
   "cell_type": "markdown",
   "metadata": {},
   "source": [
    "Get the link to the Tableau data"
   ]
  },
  {
   "cell_type": "code",
   "execution_count": 4,
   "metadata": {
    "execution": {
     "iopub.execute_input": "2021-03-11T13:16:50.047637Z",
     "iopub.status.busy": "2021-03-11T13:16:50.046274Z",
     "iopub.status.idle": "2021-03-11T13:16:50.048270Z",
     "shell.execute_reply": "2021-03-11T13:16:50.048751Z"
    }
   },
   "outputs": [],
   "source": [
    "dataUrl = f'https://public.tableau.com{tableauData[\"vizql_root\"]}/bootstrapSession/sessions/{tableauData[\"sessionid\"]}'"
   ]
  },
  {
   "cell_type": "code",
   "execution_count": 5,
   "metadata": {
    "execution": {
     "iopub.execute_input": "2021-03-11T13:16:50.055778Z",
     "iopub.status.busy": "2021-03-11T13:16:50.055201Z",
     "iopub.status.idle": "2021-03-11T13:16:50.246293Z",
     "shell.execute_reply": "2021-03-11T13:16:50.245482Z"
    }
   },
   "outputs": [],
   "source": [
    "r = requests.post(dataUrl, data= {\n",
    "    \"sheet_id\": tableauData[\"sheetId\"],\n",
    "})\n",
    "\n",
    "dataReg = re.search('\\d+;({.*})\\d+;({.*})', r.text, re.MULTILINE)\n",
    "data1 = json.loads(dataReg.group(2))\n",
    "\n",
    "dataJson = data1[\"secondaryInfo\"][\"presModelMap\"][\"dataDictionary\"][\"presModelHolder\"][\"genDataDictionaryPresModel\"][\"dataSegments\"][\"0\"][\"dataColumns\"]"
   ]
  },
  {
   "cell_type": "markdown",
   "metadata": {},
   "source": [
    "Isolate what you want"
   ]
  },
  {
   "cell_type": "code",
   "execution_count": 6,
   "metadata": {
    "execution": {
     "iopub.execute_input": "2021-03-11T13:16:50.250104Z",
     "iopub.status.busy": "2021-03-11T13:16:50.249501Z",
     "iopub.status.idle": "2021-03-11T13:16:50.253247Z",
     "shell.execute_reply": "2021-03-11T13:16:50.252707Z"
    }
   },
   "outputs": [],
   "source": [
    "counties = dataJson[2]['dataValues'][:58]"
   ]
  },
  {
   "cell_type": "code",
   "execution_count": 7,
   "metadata": {
    "execution": {
     "iopub.execute_input": "2021-03-11T13:16:50.257331Z",
     "iopub.status.busy": "2021-03-11T13:16:50.256468Z",
     "iopub.status.idle": "2021-03-11T13:16:50.258245Z",
     "shell.execute_reply": "2021-03-11T13:16:50.258757Z"
    }
   },
   "outputs": [],
   "source": [
    "doses = dataJson[0]['dataValues'][3:61]"
   ]
  },
  {
   "cell_type": "markdown",
   "metadata": {},
   "source": [
    "Data formatting"
   ]
  },
  {
   "cell_type": "code",
   "execution_count": 8,
   "metadata": {
    "execution": {
     "iopub.execute_input": "2021-03-11T13:16:50.262278Z",
     "iopub.status.busy": "2021-03-11T13:16:50.261681Z",
     "iopub.status.idle": "2021-03-11T13:16:50.264101Z",
     "shell.execute_reply": "2021-03-11T13:16:50.263593Z"
    }
   },
   "outputs": [],
   "source": [
    "zipped = dict(zip(counties, doses))"
   ]
  },
  {
   "cell_type": "code",
   "execution_count": 9,
   "metadata": {
    "execution": {
     "iopub.execute_input": "2021-03-11T13:16:50.270958Z",
     "iopub.status.busy": "2021-03-11T13:16:50.269682Z",
     "iopub.status.idle": "2021-03-11T13:16:50.271589Z",
     "shell.execute_reply": "2021-03-11T13:16:50.272074Z"
    }
   },
   "outputs": [],
   "source": [
    "df = pd.Series(zipped).reset_index()"
   ]
  },
  {
   "cell_type": "code",
   "execution_count": 10,
   "metadata": {
    "execution": {
     "iopub.execute_input": "2021-03-11T13:16:50.276028Z",
     "iopub.status.busy": "2021-03-11T13:16:50.275432Z",
     "iopub.status.idle": "2021-03-11T13:16:50.277607Z",
     "shell.execute_reply": "2021-03-11T13:16:50.277108Z"
    }
   },
   "outputs": [],
   "source": [
    "df.columns = ['location','doses']"
   ]
  },
  {
   "cell_type": "markdown",
   "metadata": {},
   "source": [
    "Grab the overall California total"
   ]
  },
  {
   "cell_type": "code",
   "execution_count": 11,
   "metadata": {
    "execution": {
     "iopub.execute_input": "2021-03-11T13:16:50.282209Z",
     "iopub.status.busy": "2021-03-11T13:16:50.280886Z",
     "iopub.status.idle": "2021-03-11T13:16:50.282935Z",
     "shell.execute_reply": "2021-03-11T13:16:50.283423Z"
    }
   },
   "outputs": [],
   "source": [
    "add = {'location':'California','doses':dataJson[0]['dataValues'][2]}"
   ]
  },
  {
   "cell_type": "code",
   "execution_count": 12,
   "metadata": {
    "execution": {
     "iopub.execute_input": "2021-03-11T13:16:50.291490Z",
     "iopub.status.busy": "2021-03-11T13:16:50.290225Z",
     "iopub.status.idle": "2021-03-11T13:16:50.292124Z",
     "shell.execute_reply": "2021-03-11T13:16:50.292638Z"
    }
   },
   "outputs": [],
   "source": [
    "df = df.append(add, ignore_index=True)"
   ]
  },
  {
   "cell_type": "code",
   "execution_count": 13,
   "metadata": {
    "execution": {
     "iopub.execute_input": "2021-03-11T13:16:50.297935Z",
     "iopub.status.busy": "2021-03-11T13:16:50.296622Z",
     "iopub.status.idle": "2021-03-11T13:16:50.298568Z",
     "shell.execute_reply": "2021-03-11T13:16:50.299053Z"
    }
   },
   "outputs": [],
   "source": [
    "df = df.sort_values(by='location')"
   ]
  },
  {
   "cell_type": "code",
   "execution_count": 14,
   "metadata": {
    "execution": {
     "iopub.execute_input": "2021-03-11T13:16:50.305937Z",
     "iopub.status.busy": "2021-03-11T13:16:50.304638Z",
     "iopub.status.idle": "2021-03-11T13:16:50.306567Z",
     "shell.execute_reply": "2021-03-11T13:16:50.307049Z"
    }
   },
   "outputs": [],
   "source": [
    "df = df[df.location == 'California'].append(df[df.location != 'California']).reset_index(drop=True)"
   ]
  },
  {
   "cell_type": "code",
   "execution_count": null,
   "metadata": {},
   "outputs": [],
   "source": []
  },
  {
   "cell_type": "code",
   "execution_count": 15,
   "metadata": {
    "execution": {
     "iopub.execute_input": "2021-03-11T13:16:50.310588Z",
     "iopub.status.busy": "2021-03-11T13:16:50.310019Z",
     "iopub.status.idle": "2021-03-11T13:16:50.328714Z",
     "shell.execute_reply": "2021-03-11T13:16:50.329169Z"
    }
   },
   "outputs": [],
   "source": [
    "tz = pytz.timezone(\"America/New_York\")"
   ]
  },
  {
   "cell_type": "code",
   "execution_count": 16,
   "metadata": {
    "execution": {
     "iopub.execute_input": "2021-03-11T13:16:50.333852Z",
     "iopub.status.busy": "2021-03-11T13:16:50.332492Z",
     "iopub.status.idle": "2021-03-11T13:16:50.334604Z",
     "shell.execute_reply": "2021-03-11T13:16:50.335095Z"
    }
   },
   "outputs": [],
   "source": [
    "today = datetime.now(tz).date()"
   ]
  },
  {
   "cell_type": "code",
   "execution_count": 17,
   "metadata": {
    "execution": {
     "iopub.execute_input": "2021-03-11T13:16:50.339725Z",
     "iopub.status.busy": "2021-03-11T13:16:50.338392Z",
     "iopub.status.idle": "2021-03-11T13:16:50.340358Z",
     "shell.execute_reply": "2021-03-11T13:16:50.340842Z"
    }
   },
   "outputs": [],
   "source": [
    "data_dir = os.path.join(os.path.abspath(\"\"), \"data\")"
   ]
  },
  {
   "cell_type": "code",
   "execution_count": 18,
   "metadata": {
    "execution": {
     "iopub.execute_input": "2021-03-11T13:16:50.345310Z",
     "iopub.status.busy": "2021-03-11T13:16:50.344068Z",
     "iopub.status.idle": "2021-03-11T13:16:50.348269Z",
     "shell.execute_reply": "2021-03-11T13:16:50.348722Z"
    }
   },
   "outputs": [],
   "source": [
    "df.to_csv(os.path.join(data_dir, f\"{today}.csv\"), index=False)"
   ]
  },
  {
   "cell_type": "code",
   "execution_count": null,
   "metadata": {},
   "outputs": [],
   "source": []
  }
 ],
 "metadata": {
  "kernelspec": {
   "display_name": "Python 3",
   "language": "python",
   "name": "python3"
  },
  "language_info": {
   "codemirror_mode": {
    "name": "ipython",
    "version": 3
   },
   "file_extension": ".py",
   "mimetype": "text/x-python",
   "name": "python",
   "nbconvert_exporter": "python",
   "pygments_lexer": "ipython3",
   "version": "3.8.8"
  }
 },
 "nbformat": 4,
 "nbformat_minor": 4
}
