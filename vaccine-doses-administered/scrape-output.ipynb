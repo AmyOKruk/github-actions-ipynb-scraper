{
 "cells": [
  {
   "cell_type": "markdown",
   "metadata": {},
   "source": [
    "# California COVID vaccinations scrape"
   ]
  },
  {
   "cell_type": "markdown",
   "metadata": {},
   "source": [
    "By [Amy O'Kruk](https://twitter.com/amyokruk)"
   ]
  },
  {
   "cell_type": "markdown",
   "metadata": {},
   "source": [
    "Downloads data on vaccine doses administered by county and statewide from a Tableau-powered dashboard from the California Department of Public Health."
   ]
  },
  {
   "cell_type": "code",
   "execution_count": 1,
   "metadata": {
    "execution": {
     "iopub.execute_input": "2021-03-21T18:57:38.738850Z",
     "iopub.status.busy": "2021-03-21T18:57:38.737865Z",
     "iopub.status.idle": "2021-03-21T18:57:39.100869Z",
     "shell.execute_reply": "2021-03-21T18:57:39.099834Z"
    }
   },
   "outputs": [],
   "source": [
    "import pandas as pd\n",
    "import requests\n",
    "from bs4 import BeautifulSoup\n",
    "import json\n",
    "import re\n",
    "import time\n",
    "from time import gmtime, strftime \n",
    "import os\n",
    "import pytz\n",
    "from datetime import datetime"
   ]
  },
  {
   "cell_type": "markdown",
   "metadata": {},
   "source": [
    "Scrape the dashboard page"
   ]
  },
  {
   "cell_type": "code",
   "execution_count": 2,
   "metadata": {
    "execution": {
     "iopub.execute_input": "2021-03-21T18:57:39.107309Z",
     "iopub.status.busy": "2021-03-21T18:57:39.104390Z",
     "iopub.status.idle": "2021-03-21T18:57:39.310857Z",
     "shell.execute_reply": "2021-03-21T18:57:39.309765Z"
    }
   },
   "outputs": [],
   "source": [
    "url = \"https://public.tableau.com/interactive/views/COVID-19VaccineDashboardPublic/Vaccine?:embed=y&:showVizHome=n&:apiID=host0\"\n",
    "\n",
    "r = requests.get(url)\n",
    "soup = BeautifulSoup(r.text, \"html.parser\")"
   ]
  },
  {
   "cell_type": "code",
   "execution_count": 3,
   "metadata": {
    "execution": {
     "iopub.execute_input": "2021-03-21T18:57:39.315772Z",
     "iopub.status.busy": "2021-03-21T18:57:39.315100Z",
     "iopub.status.idle": "2021-03-21T18:57:39.319186Z",
     "shell.execute_reply": "2021-03-21T18:57:39.318672Z"
    }
   },
   "outputs": [],
   "source": [
    "tableauData = json.loads(soup.find(\"textarea\",{\"id\": \"tsConfigContainer\"}).text)"
   ]
  },
  {
   "cell_type": "markdown",
   "metadata": {},
   "source": [
    "Get the link to the Tableau data"
   ]
  },
  {
   "cell_type": "code",
   "execution_count": 4,
   "metadata": {
    "execution": {
     "iopub.execute_input": "2021-03-21T18:57:39.323063Z",
     "iopub.status.busy": "2021-03-21T18:57:39.322569Z",
     "iopub.status.idle": "2021-03-21T18:57:39.326881Z",
     "shell.execute_reply": "2021-03-21T18:57:39.326335Z"
    }
   },
   "outputs": [],
   "source": [
    "dataUrl = f'https://public.tableau.com{tableauData[\"vizql_root\"]}/bootstrapSession/sessions/{tableauData[\"sessionid\"]}'"
   ]
  },
  {
   "cell_type": "code",
   "execution_count": 5,
   "metadata": {
    "execution": {
     "iopub.execute_input": "2021-03-21T18:57:39.333702Z",
     "iopub.status.busy": "2021-03-21T18:57:39.332892Z",
     "iopub.status.idle": "2021-03-21T18:57:39.495705Z",
     "shell.execute_reply": "2021-03-21T18:57:39.495264Z"
    }
   },
   "outputs": [],
   "source": [
    "r = requests.post(dataUrl, data= {\n",
    "    \"sheet_id\": tableauData[\"sheetId\"],\n",
    "})\n",
    "\n",
    "dataReg = re.search('\\d+;({.*})\\d+;({.*})', r.text, re.MULTILINE)\n",
    "data1 = json.loads(dataReg.group(2))\n",
    "\n",
    "dataJson = data1[\"secondaryInfo\"][\"presModelMap\"][\"dataDictionary\"][\"presModelHolder\"][\"genDataDictionaryPresModel\"][\"dataSegments\"][\"0\"][\"dataColumns\"]"
   ]
  },
  {
   "cell_type": "markdown",
   "metadata": {},
   "source": [
    "Isolate what you want"
   ]
  },
  {
   "cell_type": "code",
   "execution_count": 6,
   "metadata": {
    "execution": {
     "iopub.execute_input": "2021-03-21T18:57:39.500500Z",
     "iopub.status.busy": "2021-03-21T18:57:39.499153Z",
     "iopub.status.idle": "2021-03-21T18:57:39.501281Z",
     "shell.execute_reply": "2021-03-21T18:57:39.501768Z"
    }
   },
   "outputs": [],
   "source": [
    "counties = dataJson[2]['dataValues'][:58]"
   ]
  },
  {
   "cell_type": "code",
   "execution_count": 7,
   "metadata": {
    "execution": {
     "iopub.execute_input": "2021-03-21T18:57:39.505956Z",
     "iopub.status.busy": "2021-03-21T18:57:39.504896Z",
     "iopub.status.idle": "2021-03-21T18:57:39.506837Z",
     "shell.execute_reply": "2021-03-21T18:57:39.507224Z"
    }
   },
   "outputs": [],
   "source": [
    "doses = dataJson[0]['dataValues'][3:61]"
   ]
  },
  {
   "cell_type": "markdown",
   "metadata": {},
   "source": [
    "Data formatting"
   ]
  },
  {
   "cell_type": "code",
   "execution_count": 8,
   "metadata": {
    "execution": {
     "iopub.execute_input": "2021-03-21T18:57:39.511719Z",
     "iopub.status.busy": "2021-03-21T18:57:39.510720Z",
     "iopub.status.idle": "2021-03-21T18:57:39.513023Z",
     "shell.execute_reply": "2021-03-21T18:57:39.512600Z"
    }
   },
   "outputs": [],
   "source": [
    "zipped = dict(zip(counties, doses))"
   ]
  },
  {
   "cell_type": "code",
   "execution_count": 9,
   "metadata": {
    "execution": {
     "iopub.execute_input": "2021-03-21T18:57:39.519427Z",
     "iopub.status.busy": "2021-03-21T18:57:39.518493Z",
     "iopub.status.idle": "2021-03-21T18:57:39.520725Z",
     "shell.execute_reply": "2021-03-21T18:57:39.520326Z"
    }
   },
   "outputs": [],
   "source": [
    "df = pd.Series(zipped).reset_index()"
   ]
  },
  {
   "cell_type": "code",
   "execution_count": 10,
   "metadata": {
    "execution": {
     "iopub.execute_input": "2021-03-21T18:57:39.525215Z",
     "iopub.status.busy": "2021-03-21T18:57:39.523853Z",
     "iopub.status.idle": "2021-03-21T18:57:39.525865Z",
     "shell.execute_reply": "2021-03-21T18:57:39.526250Z"
    }
   },
   "outputs": [],
   "source": [
    "df.columns = ['location','doses']"
   ]
  },
  {
   "cell_type": "markdown",
   "metadata": {},
   "source": [
    "Grab the overall California total"
   ]
  },
  {
   "cell_type": "code",
   "execution_count": 11,
   "metadata": {
    "execution": {
     "iopub.execute_input": "2021-03-21T18:57:39.531052Z",
     "iopub.status.busy": "2021-03-21T18:57:39.529627Z",
     "iopub.status.idle": "2021-03-21T18:57:39.531698Z",
     "shell.execute_reply": "2021-03-21T18:57:39.532097Z"
    }
   },
   "outputs": [],
   "source": [
    "add = {'location':'California','doses':dataJson[0]['dataValues'][2]}"
   ]
  },
  {
   "cell_type": "code",
   "execution_count": 12,
   "metadata": {
    "execution": {
     "iopub.execute_input": "2021-03-21T18:57:39.539704Z",
     "iopub.status.busy": "2021-03-21T18:57:39.538598Z",
     "iopub.status.idle": "2021-03-21T18:57:39.540517Z",
     "shell.execute_reply": "2021-03-21T18:57:39.541034Z"
    }
   },
   "outputs": [],
   "source": [
    "df = df.append(add, ignore_index=True)"
   ]
  },
  {
   "cell_type": "code",
   "execution_count": 13,
   "metadata": {
    "execution": {
     "iopub.execute_input": "2021-03-21T18:57:39.547096Z",
     "iopub.status.busy": "2021-03-21T18:57:39.545871Z",
     "iopub.status.idle": "2021-03-21T18:57:39.547666Z",
     "shell.execute_reply": "2021-03-21T18:57:39.548108Z"
    }
   },
   "outputs": [],
   "source": [
    "df = df.sort_values(by='location')"
   ]
  },
  {
   "cell_type": "code",
   "execution_count": 14,
   "metadata": {
    "execution": {
     "iopub.execute_input": "2021-03-21T18:57:39.555378Z",
     "iopub.status.busy": "2021-03-21T18:57:39.554120Z",
     "iopub.status.idle": "2021-03-21T18:57:39.556048Z",
     "shell.execute_reply": "2021-03-21T18:57:39.556582Z"
    }
   },
   "outputs": [],
   "source": [
    "df = df[df.location == 'California'].append(df[df.location != 'California']).reset_index(drop=True)"
   ]
  },
  {
   "cell_type": "code",
   "execution_count": null,
   "metadata": {},
   "outputs": [],
   "source": []
  },
  {
   "cell_type": "code",
   "execution_count": 15,
   "metadata": {
    "execution": {
     "iopub.execute_input": "2021-03-21T18:57:39.560064Z",
     "iopub.status.busy": "2021-03-21T18:57:39.559558Z",
     "iopub.status.idle": "2021-03-21T18:57:39.578321Z",
     "shell.execute_reply": "2021-03-21T18:57:39.577612Z"
    }
   },
   "outputs": [],
   "source": [
    "tz = pytz.timezone(\"America/New_York\")"
   ]
  },
  {
   "cell_type": "code",
   "execution_count": 16,
   "metadata": {
    "execution": {
     "iopub.execute_input": "2021-03-21T18:57:39.583315Z",
     "iopub.status.busy": "2021-03-21T18:57:39.582013Z",
     "iopub.status.idle": "2021-03-21T18:57:39.583910Z",
     "shell.execute_reply": "2021-03-21T18:57:39.584427Z"
    }
   },
   "outputs": [],
   "source": [
    "today = datetime.now(tz).date()"
   ]
  },
  {
   "cell_type": "code",
   "execution_count": 17,
   "metadata": {
    "execution": {
     "iopub.execute_input": "2021-03-21T18:57:39.589420Z",
     "iopub.status.busy": "2021-03-21T18:57:39.588208Z",
     "iopub.status.idle": "2021-03-21T18:57:39.590100Z",
     "shell.execute_reply": "2021-03-21T18:57:39.590530Z"
    }
   },
   "outputs": [],
   "source": [
    "data_dir = os.path.join(os.path.abspath(\"\"), \"data\")"
   ]
  },
  {
   "cell_type": "code",
   "execution_count": 18,
   "metadata": {
    "execution": {
     "iopub.execute_input": "2021-03-21T18:57:39.595734Z",
     "iopub.status.busy": "2021-03-21T18:57:39.594731Z",
     "iopub.status.idle": "2021-03-21T18:57:39.599892Z",
     "shell.execute_reply": "2021-03-21T18:57:39.599284Z"
    }
   },
   "outputs": [],
   "source": [
    "df.to_csv(os.path.join(data_dir, f\"{today}.csv\"), index=False)"
   ]
  },
  {
   "cell_type": "code",
   "execution_count": null,
   "metadata": {},
   "outputs": [],
   "source": []
  }
 ],
 "metadata": {
  "kernelspec": {
   "display_name": "Python 3",
   "language": "python",
   "name": "python3"
  },
  "language_info": {
   "codemirror_mode": {
    "name": "ipython",
    "version": 3
   },
   "file_extension": ".py",
   "mimetype": "text/x-python",
   "name": "python",
   "nbconvert_exporter": "python",
   "pygments_lexer": "ipython3",
   "version": "3.8.8"
  }
 },
 "nbformat": 4,
 "nbformat_minor": 4
}
