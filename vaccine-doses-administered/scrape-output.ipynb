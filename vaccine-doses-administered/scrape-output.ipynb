{
 "cells": [
  {
   "cell_type": "markdown",
   "metadata": {},
   "source": [
    "# California COVID vaccinations scrape"
   ]
  },
  {
   "cell_type": "markdown",
   "metadata": {},
   "source": [
    "By [Amy O'Kruk](https://twitter.com/amyokruk)"
   ]
  },
  {
   "cell_type": "markdown",
   "metadata": {},
   "source": [
    "Downloads data on vaccine doses administered by county and statewide from a Tableau-powered dashboard from the California Department of Public Health."
   ]
  },
  {
   "cell_type": "code",
   "execution_count": 1,
   "metadata": {
    "execution": {
     "iopub.execute_input": "2021-03-13T16:19:39.443098Z",
     "iopub.status.busy": "2021-03-13T16:19:39.442457Z",
     "iopub.status.idle": "2021-03-13T16:19:39.814383Z",
     "shell.execute_reply": "2021-03-13T16:19:39.813038Z"
    }
   },
   "outputs": [],
   "source": [
    "import pandas as pd\n",
    "import requests\n",
    "from bs4 import BeautifulSoup\n",
    "import json\n",
    "import re\n",
    "import time\n",
    "from time import gmtime, strftime \n",
    "import os\n",
    "import pytz\n",
    "from datetime import datetime"
   ]
  },
  {
   "cell_type": "markdown",
   "metadata": {},
   "source": [
    "Scrape the dashboard page"
   ]
  },
  {
   "cell_type": "code",
   "execution_count": 2,
   "metadata": {
    "execution": {
     "iopub.execute_input": "2021-03-13T16:19:39.821930Z",
     "iopub.status.busy": "2021-03-13T16:19:39.819324Z",
     "iopub.status.idle": "2021-03-13T16:19:40.368061Z",
     "shell.execute_reply": "2021-03-13T16:19:40.367062Z"
    }
   },
   "outputs": [],
   "source": [
    "url = \"https://public.tableau.com/interactive/views/COVID-19VaccineDashboardPublic/Vaccine?:embed=y&:showVizHome=n&:apiID=host0\"\n",
    "\n",
    "r = requests.get(url)\n",
    "soup = BeautifulSoup(r.text, \"html.parser\")"
   ]
  },
  {
   "cell_type": "code",
   "execution_count": 3,
   "metadata": {
    "execution": {
     "iopub.execute_input": "2021-03-13T16:19:40.373009Z",
     "iopub.status.busy": "2021-03-13T16:19:40.372488Z",
     "iopub.status.idle": "2021-03-13T16:19:40.375957Z",
     "shell.execute_reply": "2021-03-13T16:19:40.375521Z"
    }
   },
   "outputs": [],
   "source": [
    "tableauData = json.loads(soup.find(\"textarea\",{\"id\": \"tsConfigContainer\"}).text)"
   ]
  },
  {
   "cell_type": "markdown",
   "metadata": {},
   "source": [
    "Get the link to the Tableau data"
   ]
  },
  {
   "cell_type": "code",
   "execution_count": 4,
   "metadata": {
    "execution": {
     "iopub.execute_input": "2021-03-13T16:19:40.379480Z",
     "iopub.status.busy": "2021-03-13T16:19:40.378964Z",
     "iopub.status.idle": "2021-03-13T16:19:40.381990Z",
     "shell.execute_reply": "2021-03-13T16:19:40.382388Z"
    }
   },
   "outputs": [],
   "source": [
    "dataUrl = f'https://public.tableau.com{tableauData[\"vizql_root\"]}/bootstrapSession/sessions/{tableauData[\"sessionid\"]}'"
   ]
  },
  {
   "cell_type": "code",
   "execution_count": 5,
   "metadata": {
    "execution": {
     "iopub.execute_input": "2021-03-13T16:19:40.389005Z",
     "iopub.status.busy": "2021-03-13T16:19:40.388478Z",
     "iopub.status.idle": "2021-03-13T16:19:40.653270Z",
     "shell.execute_reply": "2021-03-13T16:19:40.653688Z"
    }
   },
   "outputs": [],
   "source": [
    "r = requests.post(dataUrl, data= {\n",
    "    \"sheet_id\": tableauData[\"sheetId\"],\n",
    "})\n",
    "\n",
    "dataReg = re.search('\\d+;({.*})\\d+;({.*})', r.text, re.MULTILINE)\n",
    "data1 = json.loads(dataReg.group(2))\n",
    "\n",
    "dataJson = data1[\"secondaryInfo\"][\"presModelMap\"][\"dataDictionary\"][\"presModelHolder\"][\"genDataDictionaryPresModel\"][\"dataSegments\"][\"0\"][\"dataColumns\"]"
   ]
  },
  {
   "cell_type": "markdown",
   "metadata": {},
   "source": [
    "Isolate what you want"
   ]
  },
  {
   "cell_type": "code",
   "execution_count": 6,
   "metadata": {
    "execution": {
     "iopub.execute_input": "2021-03-13T16:19:40.658878Z",
     "iopub.status.busy": "2021-03-13T16:19:40.656995Z",
     "iopub.status.idle": "2021-03-13T16:19:40.659885Z",
     "shell.execute_reply": "2021-03-13T16:19:40.660600Z"
    }
   },
   "outputs": [],
   "source": [
    "counties = dataJson[2]['dataValues'][:58]"
   ]
  },
  {
   "cell_type": "code",
   "execution_count": 7,
   "metadata": {
    "execution": {
     "iopub.execute_input": "2021-03-13T16:19:40.665105Z",
     "iopub.status.busy": "2021-03-13T16:19:40.663985Z",
     "iopub.status.idle": "2021-03-13T16:19:40.665671Z",
     "shell.execute_reply": "2021-03-13T16:19:40.666073Z"
    }
   },
   "outputs": [],
   "source": [
    "doses = dataJson[0]['dataValues'][3:61]"
   ]
  },
  {
   "cell_type": "markdown",
   "metadata": {},
   "source": [
    "Data formatting"
   ]
  },
  {
   "cell_type": "code",
   "execution_count": 8,
   "metadata": {
    "execution": {
     "iopub.execute_input": "2021-03-13T16:19:40.670111Z",
     "iopub.status.busy": "2021-03-13T16:19:40.668998Z",
     "iopub.status.idle": "2021-03-13T16:19:40.670715Z",
     "shell.execute_reply": "2021-03-13T16:19:40.671119Z"
    }
   },
   "outputs": [],
   "source": [
    "zipped = dict(zip(counties, doses))"
   ]
  },
  {
   "cell_type": "code",
   "execution_count": 9,
   "metadata": {
    "execution": {
     "iopub.execute_input": "2021-03-13T16:19:40.677023Z",
     "iopub.status.busy": "2021-03-13T16:19:40.676190Z",
     "iopub.status.idle": "2021-03-13T16:19:40.677865Z",
     "shell.execute_reply": "2021-03-13T16:19:40.678191Z"
    }
   },
   "outputs": [],
   "source": [
    "df = pd.Series(zipped).reset_index()"
   ]
  },
  {
   "cell_type": "code",
   "execution_count": 10,
   "metadata": {
    "execution": {
     "iopub.execute_input": "2021-03-13T16:19:40.681848Z",
     "iopub.status.busy": "2021-03-13T16:19:40.681099Z",
     "iopub.status.idle": "2021-03-13T16:19:40.682813Z",
     "shell.execute_reply": "2021-03-13T16:19:40.683183Z"
    }
   },
   "outputs": [],
   "source": [
    "df.columns = ['location','doses']"
   ]
  },
  {
   "cell_type": "markdown",
   "metadata": {},
   "source": [
    "Grab the overall California total"
   ]
  },
  {
   "cell_type": "code",
   "execution_count": 11,
   "metadata": {
    "execution": {
     "iopub.execute_input": "2021-03-13T16:19:40.686979Z",
     "iopub.status.busy": "2021-03-13T16:19:40.686103Z",
     "iopub.status.idle": "2021-03-13T16:19:40.687874Z",
     "shell.execute_reply": "2021-03-13T16:19:40.688274Z"
    }
   },
   "outputs": [],
   "source": [
    "add = {'location':'California','doses':dataJson[0]['dataValues'][2]}"
   ]
  },
  {
   "cell_type": "code",
   "execution_count": 12,
   "metadata": {
    "execution": {
     "iopub.execute_input": "2021-03-13T16:19:40.695539Z",
     "iopub.status.busy": "2021-03-13T16:19:40.694392Z",
     "iopub.status.idle": "2021-03-13T16:19:40.696117Z",
     "shell.execute_reply": "2021-03-13T16:19:40.696518Z"
    }
   },
   "outputs": [],
   "source": [
    "df = df.append(add, ignore_index=True)"
   ]
  },
  {
   "cell_type": "code",
   "execution_count": 13,
   "metadata": {
    "execution": {
     "iopub.execute_input": "2021-03-13T16:19:40.700873Z",
     "iopub.status.busy": "2021-03-13T16:19:40.700023Z",
     "iopub.status.idle": "2021-03-13T16:19:40.701704Z",
     "shell.execute_reply": "2021-03-13T16:19:40.702155Z"
    }
   },
   "outputs": [],
   "source": [
    "df = df.sort_values(by='location')"
   ]
  },
  {
   "cell_type": "code",
   "execution_count": 14,
   "metadata": {
    "execution": {
     "iopub.execute_input": "2021-03-13T16:19:40.708887Z",
     "iopub.status.busy": "2021-03-13T16:19:40.707696Z",
     "iopub.status.idle": "2021-03-13T16:19:40.709415Z",
     "shell.execute_reply": "2021-03-13T16:19:40.709842Z"
    }
   },
   "outputs": [],
   "source": [
    "df = df[df.location == 'California'].append(df[df.location != 'California']).reset_index(drop=True)"
   ]
  },
  {
   "cell_type": "code",
   "execution_count": null,
   "metadata": {},
   "outputs": [],
   "source": []
  },
  {
   "cell_type": "code",
   "execution_count": 15,
   "metadata": {
    "execution": {
     "iopub.execute_input": "2021-03-13T16:19:40.713137Z",
     "iopub.status.busy": "2021-03-13T16:19:40.712665Z",
     "iopub.status.idle": "2021-03-13T16:19:40.731049Z",
     "shell.execute_reply": "2021-03-13T16:19:40.730552Z"
    }
   },
   "outputs": [],
   "source": [
    "tz = pytz.timezone(\"America/New_York\")"
   ]
  },
  {
   "cell_type": "code",
   "execution_count": 16,
   "metadata": {
    "execution": {
     "iopub.execute_input": "2021-03-13T16:19:40.742766Z",
     "iopub.status.busy": "2021-03-13T16:19:40.741460Z",
     "iopub.status.idle": "2021-03-13T16:19:40.743383Z",
     "shell.execute_reply": "2021-03-13T16:19:40.743814Z"
    }
   },
   "outputs": [],
   "source": [
    "today = datetime.now(tz).date()"
   ]
  },
  {
   "cell_type": "code",
   "execution_count": 17,
   "metadata": {
    "execution": {
     "iopub.execute_input": "2021-03-13T16:19:40.748249Z",
     "iopub.status.busy": "2021-03-13T16:19:40.747154Z",
     "iopub.status.idle": "2021-03-13T16:19:40.749534Z",
     "shell.execute_reply": "2021-03-13T16:19:40.749081Z"
    }
   },
   "outputs": [],
   "source": [
    "data_dir = os.path.join(os.path.abspath(\"\"), \"data\")"
   ]
  },
  {
   "cell_type": "code",
   "execution_count": 18,
   "metadata": {
    "execution": {
     "iopub.execute_input": "2021-03-13T16:19:40.754079Z",
     "iopub.status.busy": "2021-03-13T16:19:40.753569Z",
     "iopub.status.idle": "2021-03-13T16:19:40.758301Z",
     "shell.execute_reply": "2021-03-13T16:19:40.757797Z"
    }
   },
   "outputs": [],
   "source": [
    "df.to_csv(os.path.join(data_dir, f\"{today}.csv\"), index=False)"
   ]
  },
  {
   "cell_type": "code",
   "execution_count": null,
   "metadata": {},
   "outputs": [],
   "source": []
  }
 ],
 "metadata": {
  "kernelspec": {
   "display_name": "Python 3",
   "language": "python",
   "name": "python3"
  },
  "language_info": {
   "codemirror_mode": {
    "name": "ipython",
    "version": 3
   },
   "file_extension": ".py",
   "mimetype": "text/x-python",
   "name": "python",
   "nbconvert_exporter": "python",
   "pygments_lexer": "ipython3",
   "version": "3.8.8"
  }
 },
 "nbformat": 4,
 "nbformat_minor": 4
}
