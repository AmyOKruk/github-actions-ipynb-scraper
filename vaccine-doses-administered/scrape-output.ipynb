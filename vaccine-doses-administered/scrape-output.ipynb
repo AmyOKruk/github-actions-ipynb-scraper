{
 "cells": [
  {
   "cell_type": "markdown",
   "metadata": {},
   "source": [
    "# California COVID vaccinations scrape"
   ]
  },
  {
   "cell_type": "markdown",
   "metadata": {},
   "source": [
    "By [Amy O'Kruk](https://twitter.com/amyokruk)"
   ]
  },
  {
   "cell_type": "markdown",
   "metadata": {},
   "source": [
    "Downloads data on vaccine doses administered by county and statewide from a Tableau-powered dashboard from the California Department of Public Health."
   ]
  },
  {
   "cell_type": "code",
   "execution_count": 1,
   "metadata": {
    "execution": {
     "iopub.execute_input": "2021-03-15T18:13:28.891888Z",
     "iopub.status.busy": "2021-03-15T18:13:28.890853Z",
     "iopub.status.idle": "2021-03-15T18:13:29.358367Z",
     "shell.execute_reply": "2021-03-15T18:13:29.357710Z"
    }
   },
   "outputs": [],
   "source": [
    "import pandas as pd\n",
    "import requests\n",
    "from bs4 import BeautifulSoup\n",
    "import json\n",
    "import re\n",
    "import time\n",
    "from time import gmtime, strftime \n",
    "import os\n",
    "import pytz\n",
    "from datetime import datetime"
   ]
  },
  {
   "cell_type": "markdown",
   "metadata": {},
   "source": [
    "Scrape the dashboard page"
   ]
  },
  {
   "cell_type": "code",
   "execution_count": 2,
   "metadata": {
    "execution": {
     "iopub.execute_input": "2021-03-15T18:13:29.365441Z",
     "iopub.status.busy": "2021-03-15T18:13:29.364883Z",
     "iopub.status.idle": "2021-03-15T18:13:29.844850Z",
     "shell.execute_reply": "2021-03-15T18:13:29.844204Z"
    }
   },
   "outputs": [],
   "source": [
    "url = \"https://public.tableau.com/interactive/views/COVID-19VaccineDashboardPublic/Vaccine?:embed=y&:showVizHome=n&:apiID=host0\"\n",
    "\n",
    "r = requests.get(url)\n",
    "soup = BeautifulSoup(r.text, \"html.parser\")"
   ]
  },
  {
   "cell_type": "code",
   "execution_count": 3,
   "metadata": {
    "execution": {
     "iopub.execute_input": "2021-03-15T18:13:29.850150Z",
     "iopub.status.busy": "2021-03-15T18:13:29.849478Z",
     "iopub.status.idle": "2021-03-15T18:13:29.853214Z",
     "shell.execute_reply": "2021-03-15T18:13:29.852721Z"
    }
   },
   "outputs": [],
   "source": [
    "tableauData = json.loads(soup.find(\"textarea\",{\"id\": \"tsConfigContainer\"}).text)"
   ]
  },
  {
   "cell_type": "markdown",
   "metadata": {},
   "source": [
    "Get the link to the Tableau data"
   ]
  },
  {
   "cell_type": "code",
   "execution_count": 4,
   "metadata": {
    "execution": {
     "iopub.execute_input": "2021-03-15T18:13:29.857487Z",
     "iopub.status.busy": "2021-03-15T18:13:29.856321Z",
     "iopub.status.idle": "2021-03-15T18:13:29.858144Z",
     "shell.execute_reply": "2021-03-15T18:13:29.858571Z"
    }
   },
   "outputs": [],
   "source": [
    "dataUrl = f'https://public.tableau.com{tableauData[\"vizql_root\"]}/bootstrapSession/sessions/{tableauData[\"sessionid\"]}'"
   ]
  },
  {
   "cell_type": "code",
   "execution_count": 5,
   "metadata": {
    "execution": {
     "iopub.execute_input": "2021-03-15T18:13:29.865330Z",
     "iopub.status.busy": "2021-03-15T18:13:29.864715Z",
     "iopub.status.idle": "2021-03-15T18:13:30.141082Z",
     "shell.execute_reply": "2021-03-15T18:13:30.139943Z"
    }
   },
   "outputs": [],
   "source": [
    "r = requests.post(dataUrl, data= {\n",
    "    \"sheet_id\": tableauData[\"sheetId\"],\n",
    "})\n",
    "\n",
    "dataReg = re.search('\\d+;({.*})\\d+;({.*})', r.text, re.MULTILINE)\n",
    "data1 = json.loads(dataReg.group(2))\n",
    "\n",
    "dataJson = data1[\"secondaryInfo\"][\"presModelMap\"][\"dataDictionary\"][\"presModelHolder\"][\"genDataDictionaryPresModel\"][\"dataSegments\"][\"0\"][\"dataColumns\"]"
   ]
  },
  {
   "cell_type": "markdown",
   "metadata": {},
   "source": [
    "Isolate what you want"
   ]
  },
  {
   "cell_type": "code",
   "execution_count": 6,
   "metadata": {
    "execution": {
     "iopub.execute_input": "2021-03-15T18:13:30.145137Z",
     "iopub.status.busy": "2021-03-15T18:13:30.144611Z",
     "iopub.status.idle": "2021-03-15T18:13:30.148587Z",
     "shell.execute_reply": "2021-03-15T18:13:30.148021Z"
    }
   },
   "outputs": [],
   "source": [
    "counties = dataJson[2]['dataValues'][:58]"
   ]
  },
  {
   "cell_type": "code",
   "execution_count": 7,
   "metadata": {
    "execution": {
     "iopub.execute_input": "2021-03-15T18:13:30.152167Z",
     "iopub.status.busy": "2021-03-15T18:13:30.151657Z",
     "iopub.status.idle": "2021-03-15T18:13:30.155411Z",
     "shell.execute_reply": "2021-03-15T18:13:30.154793Z"
    }
   },
   "outputs": [],
   "source": [
    "doses = dataJson[0]['dataValues'][3:61]"
   ]
  },
  {
   "cell_type": "markdown",
   "metadata": {},
   "source": [
    "Data formatting"
   ]
  },
  {
   "cell_type": "code",
   "execution_count": 8,
   "metadata": {
    "execution": {
     "iopub.execute_input": "2021-03-15T18:13:30.160360Z",
     "iopub.status.busy": "2021-03-15T18:13:30.158814Z",
     "iopub.status.idle": "2021-03-15T18:13:30.163404Z",
     "shell.execute_reply": "2021-03-15T18:13:30.163851Z"
    }
   },
   "outputs": [],
   "source": [
    "zipped = dict(zip(counties, doses))"
   ]
  },
  {
   "cell_type": "code",
   "execution_count": 9,
   "metadata": {
    "execution": {
     "iopub.execute_input": "2021-03-15T18:13:30.169705Z",
     "iopub.status.busy": "2021-03-15T18:13:30.169195Z",
     "iopub.status.idle": "2021-03-15T18:13:30.173212Z",
     "shell.execute_reply": "2021-03-15T18:13:30.172306Z"
    }
   },
   "outputs": [],
   "source": [
    "df = pd.Series(zipped).reset_index()"
   ]
  },
  {
   "cell_type": "code",
   "execution_count": 10,
   "metadata": {
    "execution": {
     "iopub.execute_input": "2021-03-15T18:13:30.176962Z",
     "iopub.status.busy": "2021-03-15T18:13:30.176443Z",
     "iopub.status.idle": "2021-03-15T18:13:30.179437Z",
     "shell.execute_reply": "2021-03-15T18:13:30.180105Z"
    }
   },
   "outputs": [],
   "source": [
    "df.columns = ['location','doses']"
   ]
  },
  {
   "cell_type": "markdown",
   "metadata": {},
   "source": [
    "Grab the overall California total"
   ]
  },
  {
   "cell_type": "code",
   "execution_count": 11,
   "metadata": {
    "execution": {
     "iopub.execute_input": "2021-03-15T18:13:30.183729Z",
     "iopub.status.busy": "2021-03-15T18:13:30.183221Z",
     "iopub.status.idle": "2021-03-15T18:13:30.186717Z",
     "shell.execute_reply": "2021-03-15T18:13:30.186267Z"
    }
   },
   "outputs": [],
   "source": [
    "add = {'location':'California','doses':dataJson[0]['dataValues'][2]}"
   ]
  },
  {
   "cell_type": "code",
   "execution_count": 12,
   "metadata": {
    "execution": {
     "iopub.execute_input": "2021-03-15T18:13:30.193231Z",
     "iopub.status.busy": "2021-03-15T18:13:30.192718Z",
     "iopub.status.idle": "2021-03-15T18:13:30.196108Z",
     "shell.execute_reply": "2021-03-15T18:13:30.195629Z"
    }
   },
   "outputs": [],
   "source": [
    "df = df.append(add, ignore_index=True)"
   ]
  },
  {
   "cell_type": "code",
   "execution_count": 13,
   "metadata": {
    "execution": {
     "iopub.execute_input": "2021-03-15T18:13:30.200456Z",
     "iopub.status.busy": "2021-03-15T18:13:30.199913Z",
     "iopub.status.idle": "2021-03-15T18:13:30.203823Z",
     "shell.execute_reply": "2021-03-15T18:13:30.202912Z"
    }
   },
   "outputs": [],
   "source": [
    "df = df.sort_values(by='location')"
   ]
  },
  {
   "cell_type": "code",
   "execution_count": 14,
   "metadata": {
    "execution": {
     "iopub.execute_input": "2021-03-15T18:13:30.210546Z",
     "iopub.status.busy": "2021-03-15T18:13:30.210030Z",
     "iopub.status.idle": "2021-03-15T18:13:30.213544Z",
     "shell.execute_reply": "2021-03-15T18:13:30.213088Z"
    }
   },
   "outputs": [],
   "source": [
    "df = df[df.location == 'California'].append(df[df.location != 'California']).reset_index(drop=True)"
   ]
  },
  {
   "cell_type": "code",
   "execution_count": null,
   "metadata": {},
   "outputs": [],
   "source": []
  },
  {
   "cell_type": "code",
   "execution_count": 15,
   "metadata": {
    "execution": {
     "iopub.execute_input": "2021-03-15T18:13:30.216948Z",
     "iopub.status.busy": "2021-03-15T18:13:30.216426Z",
     "iopub.status.idle": "2021-03-15T18:13:30.235091Z",
     "shell.execute_reply": "2021-03-15T18:13:30.235538Z"
    }
   },
   "outputs": [],
   "source": [
    "tz = pytz.timezone(\"America/New_York\")"
   ]
  },
  {
   "cell_type": "code",
   "execution_count": 16,
   "metadata": {
    "execution": {
     "iopub.execute_input": "2021-03-15T18:13:30.239685Z",
     "iopub.status.busy": "2021-03-15T18:13:30.239171Z",
     "iopub.status.idle": "2021-03-15T18:13:30.242849Z",
     "shell.execute_reply": "2021-03-15T18:13:30.242386Z"
    }
   },
   "outputs": [],
   "source": [
    "today = datetime.now(tz).date()"
   ]
  },
  {
   "cell_type": "code",
   "execution_count": 17,
   "metadata": {
    "execution": {
     "iopub.execute_input": "2021-03-15T18:13:30.246498Z",
     "iopub.status.busy": "2021-03-15T18:13:30.245978Z",
     "iopub.status.idle": "2021-03-15T18:13:30.250031Z",
     "shell.execute_reply": "2021-03-15T18:13:30.249078Z"
    }
   },
   "outputs": [],
   "source": [
    "data_dir = os.path.join(os.path.abspath(\"\"), \"data\")"
   ]
  },
  {
   "cell_type": "code",
   "execution_count": 18,
   "metadata": {
    "execution": {
     "iopub.execute_input": "2021-03-15T18:13:30.256894Z",
     "iopub.status.busy": "2021-03-15T18:13:30.254188Z",
     "iopub.status.idle": "2021-03-15T18:13:30.260255Z",
     "shell.execute_reply": "2021-03-15T18:13:30.260726Z"
    }
   },
   "outputs": [],
   "source": [
    "df.to_csv(os.path.join(data_dir, f\"{today}.csv\"), index=False)"
   ]
  },
  {
   "cell_type": "code",
   "execution_count": null,
   "metadata": {},
   "outputs": [],
   "source": []
  }
 ],
 "metadata": {
  "kernelspec": {
   "display_name": "Python 3",
   "language": "python",
   "name": "python3"
  },
  "language_info": {
   "codemirror_mode": {
    "name": "ipython",
    "version": 3
   },
   "file_extension": ".py",
   "mimetype": "text/x-python",
   "name": "python",
   "nbconvert_exporter": "python",
   "pygments_lexer": "ipython3",
   "version": "3.8.8"
  }
 },
 "nbformat": 4,
 "nbformat_minor": 4
}
