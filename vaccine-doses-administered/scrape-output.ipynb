{
 "cells": [
  {
   "cell_type": "markdown",
   "metadata": {},
   "source": [
    "# California COVID vaccinations scrape"
   ]
  },
  {
   "cell_type": "markdown",
   "metadata": {},
   "source": [
    "By [Amy O'Kruk](https://twitter.com/amyokruk)"
   ]
  },
  {
   "cell_type": "markdown",
   "metadata": {},
   "source": [
    "Downloads data on vaccine doses administered by county and statewide from a Tableau-powered dashboard from the California Department of Public Health."
   ]
  },
  {
   "cell_type": "code",
   "execution_count": 1,
   "metadata": {
    "execution": {
     "iopub.execute_input": "2021-03-19T21:42:15.598937Z",
     "iopub.status.busy": "2021-03-19T21:42:15.598265Z",
     "iopub.status.idle": "2021-03-19T21:42:16.005514Z",
     "shell.execute_reply": "2021-03-19T21:42:16.004893Z"
    }
   },
   "outputs": [],
   "source": [
    "import pandas as pd\n",
    "import requests\n",
    "from bs4 import BeautifulSoup\n",
    "import json\n",
    "import re\n",
    "import time\n",
    "from time import gmtime, strftime \n",
    "import os\n",
    "import pytz\n",
    "from datetime import datetime"
   ]
  },
  {
   "cell_type": "markdown",
   "metadata": {},
   "source": [
    "Scrape the dashboard page"
   ]
  },
  {
   "cell_type": "code",
   "execution_count": 2,
   "metadata": {
    "execution": {
     "iopub.execute_input": "2021-03-19T21:42:16.012619Z",
     "iopub.status.busy": "2021-03-19T21:42:16.009084Z",
     "iopub.status.idle": "2021-03-19T21:42:16.478467Z",
     "shell.execute_reply": "2021-03-19T21:42:16.477559Z"
    }
   },
   "outputs": [],
   "source": [
    "url = \"https://public.tableau.com/interactive/views/COVID-19VaccineDashboardPublic/Vaccine?:embed=y&:showVizHome=n&:apiID=host0\"\n",
    "\n",
    "r = requests.get(url)\n",
    "soup = BeautifulSoup(r.text, \"html.parser\")"
   ]
  },
  {
   "cell_type": "code",
   "execution_count": 3,
   "metadata": {
    "execution": {
     "iopub.execute_input": "2021-03-19T21:42:16.483200Z",
     "iopub.status.busy": "2021-03-19T21:42:16.482654Z",
     "iopub.status.idle": "2021-03-19T21:42:16.487904Z",
     "shell.execute_reply": "2021-03-19T21:42:16.488444Z"
    }
   },
   "outputs": [],
   "source": [
    "tableauData = json.loads(soup.find(\"textarea\",{\"id\": \"tsConfigContainer\"}).text)"
   ]
  },
  {
   "cell_type": "markdown",
   "metadata": {},
   "source": [
    "Get the link to the Tableau data"
   ]
  },
  {
   "cell_type": "code",
   "execution_count": 4,
   "metadata": {
    "execution": {
     "iopub.execute_input": "2021-03-19T21:42:16.492351Z",
     "iopub.status.busy": "2021-03-19T21:42:16.491767Z",
     "iopub.status.idle": "2021-03-19T21:42:16.495744Z",
     "shell.execute_reply": "2021-03-19T21:42:16.494897Z"
    }
   },
   "outputs": [],
   "source": [
    "dataUrl = f'https://public.tableau.com{tableauData[\"vizql_root\"]}/bootstrapSession/sessions/{tableauData[\"sessionid\"]}'"
   ]
  },
  {
   "cell_type": "code",
   "execution_count": 5,
   "metadata": {
    "execution": {
     "iopub.execute_input": "2021-03-19T21:42:16.503340Z",
     "iopub.status.busy": "2021-03-19T21:42:16.502730Z",
     "iopub.status.idle": "2021-03-19T21:42:16.780745Z",
     "shell.execute_reply": "2021-03-19T21:42:16.781211Z"
    }
   },
   "outputs": [],
   "source": [
    "r = requests.post(dataUrl, data= {\n",
    "    \"sheet_id\": tableauData[\"sheetId\"],\n",
    "})\n",
    "\n",
    "dataReg = re.search('\\d+;({.*})\\d+;({.*})', r.text, re.MULTILINE)\n",
    "data1 = json.loads(dataReg.group(2))\n",
    "\n",
    "dataJson = data1[\"secondaryInfo\"][\"presModelMap\"][\"dataDictionary\"][\"presModelHolder\"][\"genDataDictionaryPresModel\"][\"dataSegments\"][\"0\"][\"dataColumns\"]"
   ]
  },
  {
   "cell_type": "markdown",
   "metadata": {},
   "source": [
    "Isolate what you want"
   ]
  },
  {
   "cell_type": "code",
   "execution_count": 6,
   "metadata": {
    "execution": {
     "iopub.execute_input": "2021-03-19T21:42:16.792320Z",
     "iopub.status.busy": "2021-03-19T21:42:16.791647Z",
     "iopub.status.idle": "2021-03-19T21:42:16.794564Z",
     "shell.execute_reply": "2021-03-19T21:42:16.794066Z"
    }
   },
   "outputs": [],
   "source": [
    "counties = dataJson[2]['dataValues'][:58]"
   ]
  },
  {
   "cell_type": "code",
   "execution_count": 7,
   "metadata": {
    "execution": {
     "iopub.execute_input": "2021-03-19T21:42:16.799726Z",
     "iopub.status.busy": "2021-03-19T21:42:16.798327Z",
     "iopub.status.idle": "2021-03-19T21:42:16.800334Z",
     "shell.execute_reply": "2021-03-19T21:42:16.800763Z"
    }
   },
   "outputs": [],
   "source": [
    "doses = dataJson[0]['dataValues'][3:61]"
   ]
  },
  {
   "cell_type": "markdown",
   "metadata": {},
   "source": [
    "Data formatting"
   ]
  },
  {
   "cell_type": "code",
   "execution_count": 8,
   "metadata": {
    "execution": {
     "iopub.execute_input": "2021-03-19T21:42:16.805319Z",
     "iopub.status.busy": "2021-03-19T21:42:16.803990Z",
     "iopub.status.idle": "2021-03-19T21:42:16.805912Z",
     "shell.execute_reply": "2021-03-19T21:42:16.806364Z"
    }
   },
   "outputs": [],
   "source": [
    "zipped = dict(zip(counties, doses))"
   ]
  },
  {
   "cell_type": "code",
   "execution_count": 9,
   "metadata": {
    "execution": {
     "iopub.execute_input": "2021-03-19T21:42:16.813363Z",
     "iopub.status.busy": "2021-03-19T21:42:16.812004Z",
     "iopub.status.idle": "2021-03-19T21:42:16.814170Z",
     "shell.execute_reply": "2021-03-19T21:42:16.814618Z"
    }
   },
   "outputs": [],
   "source": [
    "df = pd.Series(zipped).reset_index()"
   ]
  },
  {
   "cell_type": "code",
   "execution_count": 10,
   "metadata": {
    "execution": {
     "iopub.execute_input": "2021-03-19T21:42:16.819562Z",
     "iopub.status.busy": "2021-03-19T21:42:16.818260Z",
     "iopub.status.idle": "2021-03-19T21:42:16.820236Z",
     "shell.execute_reply": "2021-03-19T21:42:16.820693Z"
    }
   },
   "outputs": [],
   "source": [
    "df.columns = ['location','doses']"
   ]
  },
  {
   "cell_type": "markdown",
   "metadata": {},
   "source": [
    "Grab the overall California total"
   ]
  },
  {
   "cell_type": "code",
   "execution_count": 11,
   "metadata": {
    "execution": {
     "iopub.execute_input": "2021-03-19T21:42:16.826330Z",
     "iopub.status.busy": "2021-03-19T21:42:16.825045Z",
     "iopub.status.idle": "2021-03-19T21:42:16.826925Z",
     "shell.execute_reply": "2021-03-19T21:42:16.827351Z"
    }
   },
   "outputs": [],
   "source": [
    "add = {'location':'California','doses':dataJson[0]['dataValues'][2]}"
   ]
  },
  {
   "cell_type": "code",
   "execution_count": 12,
   "metadata": {
    "execution": {
     "iopub.execute_input": "2021-03-19T21:42:16.835939Z",
     "iopub.status.busy": "2021-03-19T21:42:16.834657Z",
     "iopub.status.idle": "2021-03-19T21:42:16.836610Z",
     "shell.execute_reply": "2021-03-19T21:42:16.837047Z"
    }
   },
   "outputs": [],
   "source": [
    "df = df.append(add, ignore_index=True)"
   ]
  },
  {
   "cell_type": "code",
   "execution_count": 13,
   "metadata": {
    "execution": {
     "iopub.execute_input": "2021-03-19T21:42:16.842346Z",
     "iopub.status.busy": "2021-03-19T21:42:16.840980Z",
     "iopub.status.idle": "2021-03-19T21:42:16.842953Z",
     "shell.execute_reply": "2021-03-19T21:42:16.843404Z"
    }
   },
   "outputs": [],
   "source": [
    "df = df.sort_values(by='location')"
   ]
  },
  {
   "cell_type": "code",
   "execution_count": 14,
   "metadata": {
    "execution": {
     "iopub.execute_input": "2021-03-19T21:42:16.851618Z",
     "iopub.status.busy": "2021-03-19T21:42:16.850232Z",
     "iopub.status.idle": "2021-03-19T21:42:16.852262Z",
     "shell.execute_reply": "2021-03-19T21:42:16.852735Z"
    }
   },
   "outputs": [],
   "source": [
    "df = df[df.location == 'California'].append(df[df.location != 'California']).reset_index(drop=True)"
   ]
  },
  {
   "cell_type": "code",
   "execution_count": null,
   "metadata": {},
   "outputs": [],
   "source": []
  },
  {
   "cell_type": "code",
   "execution_count": 15,
   "metadata": {
    "execution": {
     "iopub.execute_input": "2021-03-19T21:42:16.856673Z",
     "iopub.status.busy": "2021-03-19T21:42:16.856064Z",
     "iopub.status.idle": "2021-03-19T21:42:16.874302Z",
     "shell.execute_reply": "2021-03-19T21:42:16.873749Z"
    }
   },
   "outputs": [],
   "source": [
    "tz = pytz.timezone(\"America/New_York\")"
   ]
  },
  {
   "cell_type": "code",
   "execution_count": 16,
   "metadata": {
    "execution": {
     "iopub.execute_input": "2021-03-19T21:42:16.879688Z",
     "iopub.status.busy": "2021-03-19T21:42:16.878168Z",
     "iopub.status.idle": "2021-03-19T21:42:16.880510Z",
     "shell.execute_reply": "2021-03-19T21:42:16.881045Z"
    }
   },
   "outputs": [],
   "source": [
    "today = datetime.now(tz).date()"
   ]
  },
  {
   "cell_type": "code",
   "execution_count": 17,
   "metadata": {
    "execution": {
     "iopub.execute_input": "2021-03-19T21:42:16.886293Z",
     "iopub.status.busy": "2021-03-19T21:42:16.884892Z",
     "iopub.status.idle": "2021-03-19T21:42:16.886951Z",
     "shell.execute_reply": "2021-03-19T21:42:16.887418Z"
    }
   },
   "outputs": [],
   "source": [
    "data_dir = os.path.join(os.path.abspath(\"\"), \"data\")"
   ]
  },
  {
   "cell_type": "code",
   "execution_count": 18,
   "metadata": {
    "execution": {
     "iopub.execute_input": "2021-03-19T21:42:16.891692Z",
     "iopub.status.busy": "2021-03-19T21:42:16.890541Z",
     "iopub.status.idle": "2021-03-19T21:42:16.896242Z",
     "shell.execute_reply": "2021-03-19T21:42:16.895696Z"
    }
   },
   "outputs": [],
   "source": [
    "df.to_csv(os.path.join(data_dir, f\"{today}.csv\"), index=False)"
   ]
  },
  {
   "cell_type": "code",
   "execution_count": null,
   "metadata": {},
   "outputs": [],
   "source": []
  }
 ],
 "metadata": {
  "kernelspec": {
   "display_name": "Python 3",
   "language": "python",
   "name": "python3"
  },
  "language_info": {
   "codemirror_mode": {
    "name": "ipython",
    "version": 3
   },
   "file_extension": ".py",
   "mimetype": "text/x-python",
   "name": "python",
   "nbconvert_exporter": "python",
   "pygments_lexer": "ipython3",
   "version": "3.8.8"
  }
 },
 "nbformat": 4,
 "nbformat_minor": 4
}
