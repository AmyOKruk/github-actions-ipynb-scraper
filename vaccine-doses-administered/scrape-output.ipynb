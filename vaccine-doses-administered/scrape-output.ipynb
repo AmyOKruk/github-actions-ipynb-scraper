{
 "cells": [
  {
   "cell_type": "markdown",
   "metadata": {},
   "source": [
    "# California COVID vaccinations scrape"
   ]
  },
  {
   "cell_type": "markdown",
   "metadata": {},
   "source": [
    "By [Amy O'Kruk](https://twitter.com/amyokruk)"
   ]
  },
  {
   "cell_type": "markdown",
   "metadata": {},
   "source": [
    "Downloads data on vaccine doses administered by county and statewide from a Tableau-powered dashboard from the California Department of Public Health."
   ]
  },
  {
   "cell_type": "code",
   "execution_count": 1,
   "metadata": {
    "execution": {
     "iopub.execute_input": "2021-03-12T18:15:37.779181Z",
     "iopub.status.busy": "2021-03-12T18:15:37.778605Z",
     "iopub.status.idle": "2021-03-12T18:15:38.168533Z",
     "shell.execute_reply": "2021-03-12T18:15:38.167549Z"
    }
   },
   "outputs": [],
   "source": [
    "import pandas as pd\n",
    "import requests\n",
    "from bs4 import BeautifulSoup\n",
    "import json\n",
    "import re\n",
    "import time\n",
    "from time import gmtime, strftime \n",
    "import os\n",
    "import pytz\n",
    "from datetime import datetime"
   ]
  },
  {
   "cell_type": "markdown",
   "metadata": {},
   "source": [
    "Scrape the dashboard page"
   ]
  },
  {
   "cell_type": "code",
   "execution_count": 2,
   "metadata": {
    "execution": {
     "iopub.execute_input": "2021-03-12T18:15:38.174701Z",
     "iopub.status.busy": "2021-03-12T18:15:38.172716Z",
     "iopub.status.idle": "2021-03-12T18:15:38.478241Z",
     "shell.execute_reply": "2021-03-12T18:15:38.477146Z"
    }
   },
   "outputs": [],
   "source": [
    "url = \"https://public.tableau.com/interactive/views/COVID-19VaccineDashboardPublic/Vaccine?:embed=y&:showVizHome=n&:apiID=host0\"\n",
    "\n",
    "r = requests.get(url)\n",
    "soup = BeautifulSoup(r.text, \"html.parser\")"
   ]
  },
  {
   "cell_type": "code",
   "execution_count": 3,
   "metadata": {
    "execution": {
     "iopub.execute_input": "2021-03-12T18:15:38.483039Z",
     "iopub.status.busy": "2021-03-12T18:15:38.482516Z",
     "iopub.status.idle": "2021-03-12T18:15:38.486111Z",
     "shell.execute_reply": "2021-03-12T18:15:38.485662Z"
    }
   },
   "outputs": [],
   "source": [
    "tableauData = json.loads(soup.find(\"textarea\",{\"id\": \"tsConfigContainer\"}).text)"
   ]
  },
  {
   "cell_type": "markdown",
   "metadata": {},
   "source": [
    "Get the link to the Tableau data"
   ]
  },
  {
   "cell_type": "code",
   "execution_count": 4,
   "metadata": {
    "execution": {
     "iopub.execute_input": "2021-03-12T18:15:38.489606Z",
     "iopub.status.busy": "2021-03-12T18:15:38.489096Z",
     "iopub.status.idle": "2021-03-12T18:15:38.492223Z",
     "shell.execute_reply": "2021-03-12T18:15:38.492622Z"
    }
   },
   "outputs": [],
   "source": [
    "dataUrl = f'https://public.tableau.com{tableauData[\"vizql_root\"]}/bootstrapSession/sessions/{tableauData[\"sessionid\"]}'"
   ]
  },
  {
   "cell_type": "code",
   "execution_count": 5,
   "metadata": {
    "execution": {
     "iopub.execute_input": "2021-03-12T18:15:38.499144Z",
     "iopub.status.busy": "2021-03-12T18:15:38.498618Z",
     "iopub.status.idle": "2021-03-12T18:15:39.009191Z",
     "shell.execute_reply": "2021-03-12T18:15:39.008664Z"
    }
   },
   "outputs": [],
   "source": [
    "r = requests.post(dataUrl, data= {\n",
    "    \"sheet_id\": tableauData[\"sheetId\"],\n",
    "})\n",
    "\n",
    "dataReg = re.search('\\d+;({.*})\\d+;({.*})', r.text, re.MULTILINE)\n",
    "data1 = json.loads(dataReg.group(2))\n",
    "\n",
    "dataJson = data1[\"secondaryInfo\"][\"presModelMap\"][\"dataDictionary\"][\"presModelHolder\"][\"genDataDictionaryPresModel\"][\"dataSegments\"][\"0\"][\"dataColumns\"]"
   ]
  },
  {
   "cell_type": "markdown",
   "metadata": {},
   "source": [
    "Isolate what you want"
   ]
  },
  {
   "cell_type": "code",
   "execution_count": 6,
   "metadata": {
    "execution": {
     "iopub.execute_input": "2021-03-12T18:15:39.013693Z",
     "iopub.status.busy": "2021-03-12T18:15:39.013164Z",
     "iopub.status.idle": "2021-03-12T18:15:39.017163Z",
     "shell.execute_reply": "2021-03-12T18:15:39.016269Z"
    }
   },
   "outputs": [],
   "source": [
    "counties = dataJson[2]['dataValues'][:58]"
   ]
  },
  {
   "cell_type": "code",
   "execution_count": 7,
   "metadata": {
    "execution": {
     "iopub.execute_input": "2021-03-12T18:15:39.021646Z",
     "iopub.status.busy": "2021-03-12T18:15:39.020427Z",
     "iopub.status.idle": "2021-03-12T18:15:39.022316Z",
     "shell.execute_reply": "2021-03-12T18:15:39.022749Z"
    }
   },
   "outputs": [],
   "source": [
    "doses = dataJson[0]['dataValues'][3:61]"
   ]
  },
  {
   "cell_type": "markdown",
   "metadata": {},
   "source": [
    "Data formatting"
   ]
  },
  {
   "cell_type": "code",
   "execution_count": 8,
   "metadata": {
    "execution": {
     "iopub.execute_input": "2021-03-12T18:15:39.027080Z",
     "iopub.status.busy": "2021-03-12T18:15:39.025973Z",
     "iopub.status.idle": "2021-03-12T18:15:39.027698Z",
     "shell.execute_reply": "2021-03-12T18:15:39.028131Z"
    }
   },
   "outputs": [],
   "source": [
    "zipped = dict(zip(counties, doses))"
   ]
  },
  {
   "cell_type": "code",
   "execution_count": 9,
   "metadata": {
    "execution": {
     "iopub.execute_input": "2021-03-12T18:15:39.034843Z",
     "iopub.status.busy": "2021-03-12T18:15:39.033575Z",
     "iopub.status.idle": "2021-03-12T18:15:39.035443Z",
     "shell.execute_reply": "2021-03-12T18:15:39.035895Z"
    }
   },
   "outputs": [],
   "source": [
    "df = pd.Series(zipped).reset_index()"
   ]
  },
  {
   "cell_type": "code",
   "execution_count": 10,
   "metadata": {
    "execution": {
     "iopub.execute_input": "2021-03-12T18:15:39.040100Z",
     "iopub.status.busy": "2021-03-12T18:15:39.039366Z",
     "iopub.status.idle": "2021-03-12T18:15:39.042392Z",
     "shell.execute_reply": "2021-03-12T18:15:39.041952Z"
    }
   },
   "outputs": [],
   "source": [
    "df.columns = ['location','doses']"
   ]
  },
  {
   "cell_type": "markdown",
   "metadata": {},
   "source": [
    "Grab the overall California total"
   ]
  },
  {
   "cell_type": "code",
   "execution_count": 11,
   "metadata": {
    "execution": {
     "iopub.execute_input": "2021-03-12T18:15:39.047113Z",
     "iopub.status.busy": "2021-03-12T18:15:39.045947Z",
     "iopub.status.idle": "2021-03-12T18:15:39.047728Z",
     "shell.execute_reply": "2021-03-12T18:15:39.048163Z"
    }
   },
   "outputs": [],
   "source": [
    "add = {'location':'California','doses':dataJson[0]['dataValues'][2]}"
   ]
  },
  {
   "cell_type": "code",
   "execution_count": 12,
   "metadata": {
    "execution": {
     "iopub.execute_input": "2021-03-12T18:15:39.055511Z",
     "iopub.status.busy": "2021-03-12T18:15:39.054292Z",
     "iopub.status.idle": "2021-03-12T18:15:39.056134Z",
     "shell.execute_reply": "2021-03-12T18:15:39.056562Z"
    }
   },
   "outputs": [],
   "source": [
    "df = df.append(add, ignore_index=True)"
   ]
  },
  {
   "cell_type": "code",
   "execution_count": 13,
   "metadata": {
    "execution": {
     "iopub.execute_input": "2021-03-12T18:15:39.061603Z",
     "iopub.status.busy": "2021-03-12T18:15:39.061086Z",
     "iopub.status.idle": "2021-03-12T18:15:39.064165Z",
     "shell.execute_reply": "2021-03-12T18:15:39.064602Z"
    }
   },
   "outputs": [],
   "source": [
    "df = df.sort_values(by='location')"
   ]
  },
  {
   "cell_type": "code",
   "execution_count": 14,
   "metadata": {
    "execution": {
     "iopub.execute_input": "2021-03-12T18:15:39.070616Z",
     "iopub.status.busy": "2021-03-12T18:15:39.070108Z",
     "iopub.status.idle": "2021-03-12T18:15:39.073622Z",
     "shell.execute_reply": "2021-03-12T18:15:39.073161Z"
    }
   },
   "outputs": [],
   "source": [
    "df = df[df.location == 'California'].append(df[df.location != 'California']).reset_index(drop=True)"
   ]
  },
  {
   "cell_type": "code",
   "execution_count": null,
   "metadata": {},
   "outputs": [],
   "source": []
  },
  {
   "cell_type": "code",
   "execution_count": 15,
   "metadata": {
    "execution": {
     "iopub.execute_input": "2021-03-12T18:15:39.077021Z",
     "iopub.status.busy": "2021-03-12T18:15:39.076513Z",
     "iopub.status.idle": "2021-03-12T18:15:39.095548Z",
     "shell.execute_reply": "2021-03-12T18:15:39.094606Z"
    }
   },
   "outputs": [],
   "source": [
    "tz = pytz.timezone(\"America/New_York\")"
   ]
  },
  {
   "cell_type": "code",
   "execution_count": 16,
   "metadata": {
    "execution": {
     "iopub.execute_input": "2021-03-12T18:15:39.099148Z",
     "iopub.status.busy": "2021-03-12T18:15:39.098639Z",
     "iopub.status.idle": "2021-03-12T18:15:39.102019Z",
     "shell.execute_reply": "2021-03-12T18:15:39.101552Z"
    }
   },
   "outputs": [],
   "source": [
    "today = datetime.now(tz).date()"
   ]
  },
  {
   "cell_type": "code",
   "execution_count": 17,
   "metadata": {
    "execution": {
     "iopub.execute_input": "2021-03-12T18:15:39.105716Z",
     "iopub.status.busy": "2021-03-12T18:15:39.105204Z",
     "iopub.status.idle": "2021-03-12T18:15:39.108148Z",
     "shell.execute_reply": "2021-03-12T18:15:39.108579Z"
    }
   },
   "outputs": [],
   "source": [
    "data_dir = os.path.join(os.path.abspath(\"\"), \"data\")"
   ]
  },
  {
   "cell_type": "code",
   "execution_count": 18,
   "metadata": {
    "execution": {
     "iopub.execute_input": "2021-03-12T18:15:39.114010Z",
     "iopub.status.busy": "2021-03-12T18:15:39.112199Z",
     "iopub.status.idle": "2021-03-12T18:15:39.118446Z",
     "shell.execute_reply": "2021-03-12T18:15:39.117529Z"
    }
   },
   "outputs": [],
   "source": [
    "df.to_csv(os.path.join(data_dir, f\"{today}.csv\"), index=False)"
   ]
  },
  {
   "cell_type": "code",
   "execution_count": null,
   "metadata": {},
   "outputs": [],
   "source": []
  }
 ],
 "metadata": {
  "kernelspec": {
   "display_name": "Python 3",
   "language": "python",
   "name": "python3"
  },
  "language_info": {
   "codemirror_mode": {
    "name": "ipython",
    "version": 3
   },
   "file_extension": ".py",
   "mimetype": "text/x-python",
   "name": "python",
   "nbconvert_exporter": "python",
   "pygments_lexer": "ipython3",
   "version": "3.8.8"
  }
 },
 "nbformat": 4,
 "nbformat_minor": 4
}
