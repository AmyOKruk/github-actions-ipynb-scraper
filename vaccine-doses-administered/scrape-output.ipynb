{
 "cells": [
  {
   "cell_type": "markdown",
   "metadata": {},
   "source": [
    "# California COVID vaccinations scrape"
   ]
  },
  {
   "cell_type": "markdown",
   "metadata": {},
   "source": [
    "By [Amy O'Kruk](https://twitter.com/amyokruk)"
   ]
  },
  {
   "cell_type": "markdown",
   "metadata": {},
   "source": [
    "Downloads data on vaccine doses administered by county and statewide from a Tableau-powered dashboard from the California Department of Public Health."
   ]
  },
  {
   "cell_type": "code",
   "execution_count": 1,
   "metadata": {
    "execution": {
     "iopub.execute_input": "2021-03-24T06:57:12.715680Z",
     "iopub.status.busy": "2021-03-24T06:57:12.713557Z",
     "iopub.status.idle": "2021-03-24T06:57:13.897205Z",
     "shell.execute_reply": "2021-03-24T06:57:13.896506Z"
    }
   },
   "outputs": [],
   "source": [
    "import pandas as pd\n",
    "import requests\n",
    "from bs4 import BeautifulSoup\n",
    "import json\n",
    "import re\n",
    "import time\n",
    "from time import gmtime, strftime \n",
    "import os\n",
    "import pytz\n",
    "from datetime import datetime"
   ]
  },
  {
   "cell_type": "markdown",
   "metadata": {},
   "source": [
    "Scrape the dashboard page"
   ]
  },
  {
   "cell_type": "code",
   "execution_count": 2,
   "metadata": {
    "execution": {
     "iopub.execute_input": "2021-03-24T06:57:13.903168Z",
     "iopub.status.busy": "2021-03-24T06:57:13.901618Z",
     "iopub.status.idle": "2021-03-24T06:57:14.273993Z",
     "shell.execute_reply": "2021-03-24T06:57:14.273294Z"
    }
   },
   "outputs": [],
   "source": [
    "url = \"https://public.tableau.com/interactive/views/COVID-19VaccineDashboardPublic/Vaccine?:embed=y&:showVizHome=n&:apiID=host0\"\n",
    "\n",
    "r = requests.get(url)\n",
    "soup = BeautifulSoup(r.text, \"html.parser\")"
   ]
  },
  {
   "cell_type": "code",
   "execution_count": 3,
   "metadata": {
    "execution": {
     "iopub.execute_input": "2021-03-24T06:57:14.280314Z",
     "iopub.status.busy": "2021-03-24T06:57:14.278775Z",
     "iopub.status.idle": "2021-03-24T06:57:14.281297Z",
     "shell.execute_reply": "2021-03-24T06:57:14.281843Z"
    }
   },
   "outputs": [],
   "source": [
    "tableauData = json.loads(soup.find(\"textarea\",{\"id\": \"tsConfigContainer\"}).text)"
   ]
  },
  {
   "cell_type": "markdown",
   "metadata": {},
   "source": [
    "Get the link to the Tableau data"
   ]
  },
  {
   "cell_type": "code",
   "execution_count": 4,
   "metadata": {
    "execution": {
     "iopub.execute_input": "2021-03-24T06:57:14.287880Z",
     "iopub.status.busy": "2021-03-24T06:57:14.286318Z",
     "iopub.status.idle": "2021-03-24T06:57:14.288994Z",
     "shell.execute_reply": "2021-03-24T06:57:14.289601Z"
    }
   },
   "outputs": [],
   "source": [
    "dataUrl = f'https://public.tableau.com{tableauData[\"vizql_root\"]}/bootstrapSession/sessions/{tableauData[\"sessionid\"]}'"
   ]
  },
  {
   "cell_type": "code",
   "execution_count": 5,
   "metadata": {
    "execution": {
     "iopub.execute_input": "2021-03-24T06:57:14.297686Z",
     "iopub.status.busy": "2021-03-24T06:57:14.296711Z",
     "iopub.status.idle": "2021-03-24T06:57:14.745998Z",
     "shell.execute_reply": "2021-03-24T06:57:14.745441Z"
    }
   },
   "outputs": [],
   "source": [
    "r = requests.post(dataUrl, data= {\n",
    "    \"sheet_id\": tableauData[\"sheetId\"],\n",
    "})\n",
    "\n",
    "dataReg = re.search('\\d+;({.*})\\d+;({.*})', r.text, re.MULTILINE)\n",
    "data1 = json.loads(dataReg.group(2))\n",
    "\n",
    "dataJson = data1[\"secondaryInfo\"][\"presModelMap\"][\"dataDictionary\"][\"presModelHolder\"][\"genDataDictionaryPresModel\"][\"dataSegments\"][\"0\"][\"dataColumns\"]"
   ]
  },
  {
   "cell_type": "markdown",
   "metadata": {},
   "source": [
    "Isolate what you want"
   ]
  },
  {
   "cell_type": "code",
   "execution_count": 6,
   "metadata": {
    "execution": {
     "iopub.execute_input": "2021-03-24T06:57:14.751158Z",
     "iopub.status.busy": "2021-03-24T06:57:14.750362Z",
     "iopub.status.idle": "2021-03-24T06:57:14.755786Z",
     "shell.execute_reply": "2021-03-24T06:57:14.755212Z"
    }
   },
   "outputs": [],
   "source": [
    "counties = dataJson[2]['dataValues'][:58]"
   ]
  },
  {
   "cell_type": "code",
   "execution_count": 7,
   "metadata": {
    "execution": {
     "iopub.execute_input": "2021-03-24T06:57:14.760992Z",
     "iopub.status.busy": "2021-03-24T06:57:14.759926Z",
     "iopub.status.idle": "2021-03-24T06:57:14.762320Z",
     "shell.execute_reply": "2021-03-24T06:57:14.762782Z"
    }
   },
   "outputs": [],
   "source": [
    "doses = dataJson[0]['dataValues'][3:61]"
   ]
  },
  {
   "cell_type": "markdown",
   "metadata": {},
   "source": [
    "Data formatting"
   ]
  },
  {
   "cell_type": "code",
   "execution_count": 8,
   "metadata": {
    "execution": {
     "iopub.execute_input": "2021-03-24T06:57:14.768687Z",
     "iopub.status.busy": "2021-03-24T06:57:14.766824Z",
     "iopub.status.idle": "2021-03-24T06:57:14.769498Z",
     "shell.execute_reply": "2021-03-24T06:57:14.770082Z"
    }
   },
   "outputs": [],
   "source": [
    "zipped = dict(zip(counties, doses))"
   ]
  },
  {
   "cell_type": "code",
   "execution_count": 9,
   "metadata": {
    "execution": {
     "iopub.execute_input": "2021-03-24T06:57:14.777885Z",
     "iopub.status.busy": "2021-03-24T06:57:14.776279Z",
     "iopub.status.idle": "2021-03-24T06:57:14.778600Z",
     "shell.execute_reply": "2021-03-24T06:57:14.779169Z"
    }
   },
   "outputs": [],
   "source": [
    "df = pd.Series(zipped).reset_index()"
   ]
  },
  {
   "cell_type": "code",
   "execution_count": 10,
   "metadata": {
    "execution": {
     "iopub.execute_input": "2021-03-24T06:57:14.784773Z",
     "iopub.status.busy": "2021-03-24T06:57:14.783004Z",
     "iopub.status.idle": "2021-03-24T06:57:14.785699Z",
     "shell.execute_reply": "2021-03-24T06:57:14.786305Z"
    }
   },
   "outputs": [],
   "source": [
    "df.columns = ['location','doses']"
   ]
  },
  {
   "cell_type": "markdown",
   "metadata": {},
   "source": [
    "Grab the overall California total"
   ]
  },
  {
   "cell_type": "code",
   "execution_count": 11,
   "metadata": {
    "execution": {
     "iopub.execute_input": "2021-03-24T06:57:14.792144Z",
     "iopub.status.busy": "2021-03-24T06:57:14.790644Z",
     "iopub.status.idle": "2021-03-24T06:57:14.792965Z",
     "shell.execute_reply": "2021-03-24T06:57:14.793566Z"
    }
   },
   "outputs": [],
   "source": [
    "add = {'location':'California','doses':dataJson[0]['dataValues'][2]}"
   ]
  },
  {
   "cell_type": "code",
   "execution_count": 12,
   "metadata": {
    "execution": {
     "iopub.execute_input": "2021-03-24T06:57:14.804982Z",
     "iopub.status.busy": "2021-03-24T06:57:14.803424Z",
     "iopub.status.idle": "2021-03-24T06:57:14.807035Z",
     "shell.execute_reply": "2021-03-24T06:57:14.806258Z"
    }
   },
   "outputs": [],
   "source": [
    "df = df.append(add, ignore_index=True)"
   ]
  },
  {
   "cell_type": "code",
   "execution_count": 13,
   "metadata": {
    "execution": {
     "iopub.execute_input": "2021-03-24T06:57:14.813677Z",
     "iopub.status.busy": "2021-03-24T06:57:14.812028Z",
     "iopub.status.idle": "2021-03-24T06:57:14.814423Z",
     "shell.execute_reply": "2021-03-24T06:57:14.815342Z"
    }
   },
   "outputs": [],
   "source": [
    "df = df.sort_values(by='location')"
   ]
  },
  {
   "cell_type": "code",
   "execution_count": 14,
   "metadata": {
    "execution": {
     "iopub.execute_input": "2021-03-24T06:57:14.824010Z",
     "iopub.status.busy": "2021-03-24T06:57:14.822459Z",
     "iopub.status.idle": "2021-03-24T06:57:14.824772Z",
     "shell.execute_reply": "2021-03-24T06:57:14.825422Z"
    }
   },
   "outputs": [],
   "source": [
    "df = df[df.location == 'California'].append(df[df.location != 'California']).reset_index(drop=True)"
   ]
  },
  {
   "cell_type": "code",
   "execution_count": null,
   "metadata": {},
   "outputs": [],
   "source": []
  },
  {
   "cell_type": "code",
   "execution_count": 15,
   "metadata": {
    "execution": {
     "iopub.execute_input": "2021-03-24T06:57:14.829855Z",
     "iopub.status.busy": "2021-03-24T06:57:14.829163Z",
     "iopub.status.idle": "2021-03-24T06:57:14.858033Z",
     "shell.execute_reply": "2021-03-24T06:57:14.857342Z"
    }
   },
   "outputs": [],
   "source": [
    "tz = pytz.timezone(\"America/New_York\")"
   ]
  },
  {
   "cell_type": "code",
   "execution_count": 16,
   "metadata": {
    "execution": {
     "iopub.execute_input": "2021-03-24T06:57:14.864144Z",
     "iopub.status.busy": "2021-03-24T06:57:14.862306Z",
     "iopub.status.idle": "2021-03-24T06:57:14.864919Z",
     "shell.execute_reply": "2021-03-24T06:57:14.865499Z"
    }
   },
   "outputs": [],
   "source": [
    "today = datetime.now(tz).date()"
   ]
  },
  {
   "cell_type": "code",
   "execution_count": 17,
   "metadata": {
    "execution": {
     "iopub.execute_input": "2021-03-24T06:57:14.871258Z",
     "iopub.status.busy": "2021-03-24T06:57:14.869569Z",
     "iopub.status.idle": "2021-03-24T06:57:14.872011Z",
     "shell.execute_reply": "2021-03-24T06:57:14.872744Z"
    }
   },
   "outputs": [],
   "source": [
    "data_dir = os.path.join(os.path.abspath(\"\"), \"data\")"
   ]
  },
  {
   "cell_type": "code",
   "execution_count": 18,
   "metadata": {
    "execution": {
     "iopub.execute_input": "2021-03-24T06:57:14.882850Z",
     "iopub.status.busy": "2021-03-24T06:57:14.877066Z",
     "iopub.status.idle": "2021-03-24T06:57:14.889171Z",
     "shell.execute_reply": "2021-03-24T06:57:14.887546Z"
    }
   },
   "outputs": [],
   "source": [
    "df.to_csv(os.path.join(data_dir, f\"{today}.csv\"), index=False)"
   ]
  },
  {
   "cell_type": "code",
   "execution_count": null,
   "metadata": {},
   "outputs": [],
   "source": []
  }
 ],
 "metadata": {
  "kernelspec": {
   "display_name": "Python 3",
   "language": "python",
   "name": "python3"
  },
  "language_info": {
   "codemirror_mode": {
    "name": "ipython",
    "version": 3
   },
   "file_extension": ".py",
   "mimetype": "text/x-python",
   "name": "python",
   "nbconvert_exporter": "python",
   "pygments_lexer": "ipython3",
   "version": "3.8.8"
  }
 },
 "nbformat": 4,
 "nbformat_minor": 4
}
