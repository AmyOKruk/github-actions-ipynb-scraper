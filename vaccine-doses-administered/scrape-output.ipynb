{
 "cells": [
  {
   "cell_type": "markdown",
   "metadata": {},
   "source": [
    "# California COVID vaccinations scrape"
   ]
  },
  {
   "cell_type": "markdown",
   "metadata": {},
   "source": [
    "By [Amy O'Kruk](https://twitter.com/amyokruk)"
   ]
  },
  {
   "cell_type": "markdown",
   "metadata": {},
   "source": [
    "Downloads data on vaccine doses administered by county and statewide from a Tableau-powered dashboard from the California Department of Public Health."
   ]
  },
  {
   "cell_type": "code",
   "execution_count": 1,
   "metadata": {
    "execution": {
     "iopub.execute_input": "2021-03-13T10:43:14.316814Z",
     "iopub.status.busy": "2021-03-13T10:43:14.314685Z",
     "iopub.status.idle": "2021-03-13T10:43:14.701472Z",
     "shell.execute_reply": "2021-03-13T10:43:14.700683Z"
    }
   },
   "outputs": [],
   "source": [
    "import pandas as pd\n",
    "import requests\n",
    "from bs4 import BeautifulSoup\n",
    "import json\n",
    "import re\n",
    "import time\n",
    "from time import gmtime, strftime \n",
    "import os\n",
    "import pytz\n",
    "from datetime import datetime"
   ]
  },
  {
   "cell_type": "markdown",
   "metadata": {},
   "source": [
    "Scrape the dashboard page"
   ]
  },
  {
   "cell_type": "code",
   "execution_count": 2,
   "metadata": {
    "execution": {
     "iopub.execute_input": "2021-03-13T10:43:14.706194Z",
     "iopub.status.busy": "2021-03-13T10:43:14.705423Z",
     "iopub.status.idle": "2021-03-13T10:43:15.351130Z",
     "shell.execute_reply": "2021-03-13T10:43:15.350222Z"
    }
   },
   "outputs": [],
   "source": [
    "url = \"https://public.tableau.com/interactive/views/COVID-19VaccineDashboardPublic/Vaccine?:embed=y&:showVizHome=n&:apiID=host0\"\n",
    "\n",
    "r = requests.get(url)\n",
    "soup = BeautifulSoup(r.text, \"html.parser\")"
   ]
  },
  {
   "cell_type": "code",
   "execution_count": 3,
   "metadata": {
    "execution": {
     "iopub.execute_input": "2021-03-13T10:43:15.355859Z",
     "iopub.status.busy": "2021-03-13T10:43:15.355343Z",
     "iopub.status.idle": "2021-03-13T10:43:15.358749Z",
     "shell.execute_reply": "2021-03-13T10:43:15.358320Z"
    }
   },
   "outputs": [],
   "source": [
    "tableauData = json.loads(soup.find(\"textarea\",{\"id\": \"tsConfigContainer\"}).text)"
   ]
  },
  {
   "cell_type": "markdown",
   "metadata": {},
   "source": [
    "Get the link to the Tableau data"
   ]
  },
  {
   "cell_type": "code",
   "execution_count": 4,
   "metadata": {
    "execution": {
     "iopub.execute_input": "2021-03-13T10:43:15.362012Z",
     "iopub.status.busy": "2021-03-13T10:43:15.361545Z",
     "iopub.status.idle": "2021-03-13T10:43:15.365365Z",
     "shell.execute_reply": "2021-03-13T10:43:15.364937Z"
    }
   },
   "outputs": [],
   "source": [
    "dataUrl = f'https://public.tableau.com{tableauData[\"vizql_root\"]}/bootstrapSession/sessions/{tableauData[\"sessionid\"]}'"
   ]
  },
  {
   "cell_type": "code",
   "execution_count": 5,
   "metadata": {
    "execution": {
     "iopub.execute_input": "2021-03-13T10:43:15.371673Z",
     "iopub.status.busy": "2021-03-13T10:43:15.371151Z",
     "iopub.status.idle": "2021-03-13T10:43:15.816052Z",
     "shell.execute_reply": "2021-03-13T10:43:15.815591Z"
    }
   },
   "outputs": [],
   "source": [
    "r = requests.post(dataUrl, data= {\n",
    "    \"sheet_id\": tableauData[\"sheetId\"],\n",
    "})\n",
    "\n",
    "dataReg = re.search('\\d+;({.*})\\d+;({.*})', r.text, re.MULTILINE)\n",
    "data1 = json.loads(dataReg.group(2))\n",
    "\n",
    "dataJson = data1[\"secondaryInfo\"][\"presModelMap\"][\"dataDictionary\"][\"presModelHolder\"][\"genDataDictionaryPresModel\"][\"dataSegments\"][\"0\"][\"dataColumns\"]"
   ]
  },
  {
   "cell_type": "markdown",
   "metadata": {},
   "source": [
    "Isolate what you want"
   ]
  },
  {
   "cell_type": "code",
   "execution_count": 6,
   "metadata": {
    "execution": {
     "iopub.execute_input": "2021-03-13T10:43:15.820403Z",
     "iopub.status.busy": "2021-03-13T10:43:15.819226Z",
     "iopub.status.idle": "2021-03-13T10:43:15.820911Z",
     "shell.execute_reply": "2021-03-13T10:43:15.821267Z"
    }
   },
   "outputs": [],
   "source": [
    "counties = dataJson[2]['dataValues'][:58]"
   ]
  },
  {
   "cell_type": "code",
   "execution_count": 7,
   "metadata": {
    "execution": {
     "iopub.execute_input": "2021-03-13T10:43:15.825230Z",
     "iopub.status.busy": "2021-03-13T10:43:15.824175Z",
     "iopub.status.idle": "2021-03-13T10:43:15.825854Z",
     "shell.execute_reply": "2021-03-13T10:43:15.826249Z"
    }
   },
   "outputs": [],
   "source": [
    "doses = dataJson[0]['dataValues'][3:61]"
   ]
  },
  {
   "cell_type": "markdown",
   "metadata": {},
   "source": [
    "Data formatting"
   ]
  },
  {
   "cell_type": "code",
   "execution_count": 8,
   "metadata": {
    "execution": {
     "iopub.execute_input": "2021-03-13T10:43:15.829873Z",
     "iopub.status.busy": "2021-03-13T10:43:15.828931Z",
     "iopub.status.idle": "2021-03-13T10:43:15.830578Z",
     "shell.execute_reply": "2021-03-13T10:43:15.830977Z"
    }
   },
   "outputs": [],
   "source": [
    "zipped = dict(zip(counties, doses))"
   ]
  },
  {
   "cell_type": "code",
   "execution_count": 9,
   "metadata": {
    "execution": {
     "iopub.execute_input": "2021-03-13T10:43:15.836893Z",
     "iopub.status.busy": "2021-03-13T10:43:15.835784Z",
     "iopub.status.idle": "2021-03-13T10:43:15.837528Z",
     "shell.execute_reply": "2021-03-13T10:43:15.837911Z"
    }
   },
   "outputs": [],
   "source": [
    "df = pd.Series(zipped).reset_index()"
   ]
  },
  {
   "cell_type": "code",
   "execution_count": 10,
   "metadata": {
    "execution": {
     "iopub.execute_input": "2021-03-13T10:43:15.841952Z",
     "iopub.status.busy": "2021-03-13T10:43:15.840936Z",
     "iopub.status.idle": "2021-03-13T10:43:15.842530Z",
     "shell.execute_reply": "2021-03-13T10:43:15.842923Z"
    }
   },
   "outputs": [],
   "source": [
    "df.columns = ['location','doses']"
   ]
  },
  {
   "cell_type": "markdown",
   "metadata": {},
   "source": [
    "Grab the overall California total"
   ]
  },
  {
   "cell_type": "code",
   "execution_count": 11,
   "metadata": {
    "execution": {
     "iopub.execute_input": "2021-03-13T10:43:15.846512Z",
     "iopub.status.busy": "2021-03-13T10:43:15.845656Z",
     "iopub.status.idle": "2021-03-13T10:43:15.847143Z",
     "shell.execute_reply": "2021-03-13T10:43:15.847487Z"
    }
   },
   "outputs": [],
   "source": [
    "add = {'location':'California','doses':dataJson[0]['dataValues'][2]}"
   ]
  },
  {
   "cell_type": "code",
   "execution_count": 12,
   "metadata": {
    "execution": {
     "iopub.execute_input": "2021-03-13T10:43:15.853405Z",
     "iopub.status.busy": "2021-03-13T10:43:15.852650Z",
     "iopub.status.idle": "2021-03-13T10:43:15.854642Z",
     "shell.execute_reply": "2021-03-13T10:43:15.854244Z"
    }
   },
   "outputs": [],
   "source": [
    "df = df.append(add, ignore_index=True)"
   ]
  },
  {
   "cell_type": "code",
   "execution_count": 13,
   "metadata": {
    "execution": {
     "iopub.execute_input": "2021-03-13T10:43:15.859155Z",
     "iopub.status.busy": "2021-03-13T10:43:15.858027Z",
     "iopub.status.idle": "2021-03-13T10:43:15.859691Z",
     "shell.execute_reply": "2021-03-13T10:43:15.860089Z"
    }
   },
   "outputs": [],
   "source": [
    "df = df.sort_values(by='location')"
   ]
  },
  {
   "cell_type": "code",
   "execution_count": 14,
   "metadata": {
    "execution": {
     "iopub.execute_input": "2021-03-13T10:43:15.866134Z",
     "iopub.status.busy": "2021-03-13T10:43:15.864884Z",
     "iopub.status.idle": "2021-03-13T10:43:15.866714Z",
     "shell.execute_reply": "2021-03-13T10:43:15.867122Z"
    }
   },
   "outputs": [],
   "source": [
    "df = df[df.location == 'California'].append(df[df.location != 'California']).reset_index(drop=True)"
   ]
  },
  {
   "cell_type": "code",
   "execution_count": null,
   "metadata": {},
   "outputs": [],
   "source": []
  },
  {
   "cell_type": "code",
   "execution_count": 15,
   "metadata": {
    "execution": {
     "iopub.execute_input": "2021-03-13T10:43:15.870160Z",
     "iopub.status.busy": "2021-03-13T10:43:15.869688Z",
     "iopub.status.idle": "2021-03-13T10:43:15.885657Z",
     "shell.execute_reply": "2021-03-13T10:43:15.885253Z"
    }
   },
   "outputs": [],
   "source": [
    "tz = pytz.timezone(\"America/New_York\")"
   ]
  },
  {
   "cell_type": "code",
   "execution_count": 16,
   "metadata": {
    "execution": {
     "iopub.execute_input": "2021-03-13T10:43:15.889663Z",
     "iopub.status.busy": "2021-03-13T10:43:15.888367Z",
     "iopub.status.idle": "2021-03-13T10:43:15.890207Z",
     "shell.execute_reply": "2021-03-13T10:43:15.890600Z"
    }
   },
   "outputs": [],
   "source": [
    "today = datetime.now(tz).date()"
   ]
  },
  {
   "cell_type": "code",
   "execution_count": 17,
   "metadata": {
    "execution": {
     "iopub.execute_input": "2021-03-13T10:43:15.894758Z",
     "iopub.status.busy": "2021-03-13T10:43:15.893623Z",
     "iopub.status.idle": "2021-03-13T10:43:15.895294Z",
     "shell.execute_reply": "2021-03-13T10:43:15.895683Z"
    }
   },
   "outputs": [],
   "source": [
    "data_dir = os.path.join(os.path.abspath(\"\"), \"data\")"
   ]
  },
  {
   "cell_type": "code",
   "execution_count": 18,
   "metadata": {
    "execution": {
     "iopub.execute_input": "2021-03-13T10:43:15.899979Z",
     "iopub.status.busy": "2021-03-13T10:43:15.898828Z",
     "iopub.status.idle": "2021-03-13T10:43:15.903149Z",
     "shell.execute_reply": "2021-03-13T10:43:15.902670Z"
    }
   },
   "outputs": [],
   "source": [
    "df.to_csv(os.path.join(data_dir, f\"{today}.csv\"), index=False)"
   ]
  },
  {
   "cell_type": "code",
   "execution_count": null,
   "metadata": {},
   "outputs": [],
   "source": []
  }
 ],
 "metadata": {
  "kernelspec": {
   "display_name": "Python 3",
   "language": "python",
   "name": "python3"
  },
  "language_info": {
   "codemirror_mode": {
    "name": "ipython",
    "version": 3
   },
   "file_extension": ".py",
   "mimetype": "text/x-python",
   "name": "python",
   "nbconvert_exporter": "python",
   "pygments_lexer": "ipython3",
   "version": "3.8.8"
  }
 },
 "nbformat": 4,
 "nbformat_minor": 4
}
