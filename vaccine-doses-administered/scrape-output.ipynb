{
 "cells": [
  {
   "cell_type": "markdown",
   "metadata": {},
   "source": [
    "# California COVID vaccinations scrape"
   ]
  },
  {
   "cell_type": "markdown",
   "metadata": {},
   "source": [
    "By [Amy O'Kruk](https://twitter.com/amyokruk)"
   ]
  },
  {
   "cell_type": "markdown",
   "metadata": {},
   "source": [
    "Downloads data on vaccine doses administered by county and statewide from a Tableau-powered dashboard from the California Department of Public Health."
   ]
  },
  {
   "cell_type": "code",
   "execution_count": 1,
   "metadata": {
    "execution": {
     "iopub.execute_input": "2021-03-22T13:44:23.955238Z",
     "iopub.status.busy": "2021-03-22T13:44:23.954546Z",
     "iopub.status.idle": "2021-03-22T13:44:24.338944Z",
     "shell.execute_reply": "2021-03-22T13:44:24.339693Z"
    }
   },
   "outputs": [],
   "source": [
    "import pandas as pd\n",
    "import requests\n",
    "from bs4 import BeautifulSoup\n",
    "import json\n",
    "import re\n",
    "import time\n",
    "from time import gmtime, strftime \n",
    "import os\n",
    "import pytz\n",
    "from datetime import datetime"
   ]
  },
  {
   "cell_type": "markdown",
   "metadata": {},
   "source": [
    "Scrape the dashboard page"
   ]
  },
  {
   "cell_type": "code",
   "execution_count": 2,
   "metadata": {
    "execution": {
     "iopub.execute_input": "2021-03-22T13:44:24.342365Z",
     "iopub.status.busy": "2021-03-22T13:44:24.341672Z",
     "iopub.status.idle": "2021-03-22T13:44:24.778257Z",
     "shell.execute_reply": "2021-03-22T13:44:24.778733Z"
    }
   },
   "outputs": [],
   "source": [
    "url = \"https://public.tableau.com/interactive/views/COVID-19VaccineDashboardPublic/Vaccine?:embed=y&:showVizHome=n&:apiID=host0\"\n",
    "\n",
    "r = requests.get(url)\n",
    "soup = BeautifulSoup(r.text, \"html.parser\")"
   ]
  },
  {
   "cell_type": "code",
   "execution_count": 3,
   "metadata": {
    "execution": {
     "iopub.execute_input": "2021-03-22T13:44:24.783507Z",
     "iopub.status.busy": "2021-03-22T13:44:24.782944Z",
     "iopub.status.idle": "2021-03-22T13:44:24.786407Z",
     "shell.execute_reply": "2021-03-22T13:44:24.786857Z"
    }
   },
   "outputs": [],
   "source": [
    "tableauData = json.loads(soup.find(\"textarea\",{\"id\": \"tsConfigContainer\"}).text)"
   ]
  },
  {
   "cell_type": "markdown",
   "metadata": {},
   "source": [
    "Get the link to the Tableau data"
   ]
  },
  {
   "cell_type": "code",
   "execution_count": 4,
   "metadata": {
    "execution": {
     "iopub.execute_input": "2021-03-22T13:44:24.791312Z",
     "iopub.status.busy": "2021-03-22T13:44:24.789949Z",
     "iopub.status.idle": "2021-03-22T13:44:24.791969Z",
     "shell.execute_reply": "2021-03-22T13:44:24.792434Z"
    }
   },
   "outputs": [],
   "source": [
    "dataUrl = f'https://public.tableau.com{tableauData[\"vizql_root\"]}/bootstrapSession/sessions/{tableauData[\"sessionid\"]}'"
   ]
  },
  {
   "cell_type": "code",
   "execution_count": 5,
   "metadata": {
    "execution": {
     "iopub.execute_input": "2021-03-22T13:44:24.798954Z",
     "iopub.status.busy": "2021-03-22T13:44:24.798398Z",
     "iopub.status.idle": "2021-03-22T13:44:25.141771Z",
     "shell.execute_reply": "2021-03-22T13:44:25.141000Z"
    }
   },
   "outputs": [],
   "source": [
    "r = requests.post(dataUrl, data= {\n",
    "    \"sheet_id\": tableauData[\"sheetId\"],\n",
    "})\n",
    "\n",
    "dataReg = re.search('\\d+;({.*})\\d+;({.*})', r.text, re.MULTILINE)\n",
    "data1 = json.loads(dataReg.group(2))\n",
    "\n",
    "dataJson = data1[\"secondaryInfo\"][\"presModelMap\"][\"dataDictionary\"][\"presModelHolder\"][\"genDataDictionaryPresModel\"][\"dataSegments\"][\"0\"][\"dataColumns\"]"
   ]
  },
  {
   "cell_type": "markdown",
   "metadata": {},
   "source": [
    "Isolate what you want"
   ]
  },
  {
   "cell_type": "code",
   "execution_count": 6,
   "metadata": {
    "execution": {
     "iopub.execute_input": "2021-03-22T13:44:25.147672Z",
     "iopub.status.busy": "2021-03-22T13:44:25.146000Z",
     "iopub.status.idle": "2021-03-22T13:44:25.148380Z",
     "shell.execute_reply": "2021-03-22T13:44:25.148921Z"
    }
   },
   "outputs": [],
   "source": [
    "counties = dataJson[2]['dataValues'][:58]"
   ]
  },
  {
   "cell_type": "code",
   "execution_count": 7,
   "metadata": {
    "execution": {
     "iopub.execute_input": "2021-03-22T13:44:25.154080Z",
     "iopub.status.busy": "2021-03-22T13:44:25.152653Z",
     "iopub.status.idle": "2021-03-22T13:44:25.154778Z",
     "shell.execute_reply": "2021-03-22T13:44:25.155440Z"
    }
   },
   "outputs": [],
   "source": [
    "doses = dataJson[0]['dataValues'][3:61]"
   ]
  },
  {
   "cell_type": "markdown",
   "metadata": {},
   "source": [
    "Data formatting"
   ]
  },
  {
   "cell_type": "code",
   "execution_count": 8,
   "metadata": {
    "execution": {
     "iopub.execute_input": "2021-03-22T13:44:25.160795Z",
     "iopub.status.busy": "2021-03-22T13:44:25.159271Z",
     "iopub.status.idle": "2021-03-22T13:44:25.161615Z",
     "shell.execute_reply": "2021-03-22T13:44:25.162125Z"
    }
   },
   "outputs": [],
   "source": [
    "zipped = dict(zip(counties, doses))"
   ]
  },
  {
   "cell_type": "code",
   "execution_count": 9,
   "metadata": {
    "execution": {
     "iopub.execute_input": "2021-03-22T13:44:25.170006Z",
     "iopub.status.busy": "2021-03-22T13:44:25.168386Z",
     "iopub.status.idle": "2021-03-22T13:44:25.170718Z",
     "shell.execute_reply": "2021-03-22T13:44:25.171230Z"
    }
   },
   "outputs": [],
   "source": [
    "df = pd.Series(zipped).reset_index()"
   ]
  },
  {
   "cell_type": "code",
   "execution_count": 10,
   "metadata": {
    "execution": {
     "iopub.execute_input": "2021-03-22T13:44:25.177172Z",
     "iopub.status.busy": "2021-03-22T13:44:25.175467Z",
     "iopub.status.idle": "2021-03-22T13:44:25.178081Z",
     "shell.execute_reply": "2021-03-22T13:44:25.178804Z"
    }
   },
   "outputs": [],
   "source": [
    "df.columns = ['location','doses']"
   ]
  },
  {
   "cell_type": "markdown",
   "metadata": {},
   "source": [
    "Grab the overall California total"
   ]
  },
  {
   "cell_type": "code",
   "execution_count": 11,
   "metadata": {
    "execution": {
     "iopub.execute_input": "2021-03-22T13:44:25.184700Z",
     "iopub.status.busy": "2021-03-22T13:44:25.183059Z",
     "iopub.status.idle": "2021-03-22T13:44:25.185371Z",
     "shell.execute_reply": "2021-03-22T13:44:25.185850Z"
    }
   },
   "outputs": [],
   "source": [
    "add = {'location':'California','doses':dataJson[0]['dataValues'][2]}"
   ]
  },
  {
   "cell_type": "code",
   "execution_count": 12,
   "metadata": {
    "execution": {
     "iopub.execute_input": "2021-03-22T13:44:25.194012Z",
     "iopub.status.busy": "2021-03-22T13:44:25.192635Z",
     "iopub.status.idle": "2021-03-22T13:44:25.194666Z",
     "shell.execute_reply": "2021-03-22T13:44:25.195160Z"
    }
   },
   "outputs": [],
   "source": [
    "df = df.append(add, ignore_index=True)"
   ]
  },
  {
   "cell_type": "code",
   "execution_count": 13,
   "metadata": {
    "execution": {
     "iopub.execute_input": "2021-03-22T13:44:25.200546Z",
     "iopub.status.busy": "2021-03-22T13:44:25.199194Z",
     "iopub.status.idle": "2021-03-22T13:44:25.201309Z",
     "shell.execute_reply": "2021-03-22T13:44:25.201793Z"
    }
   },
   "outputs": [],
   "source": [
    "df = df.sort_values(by='location')"
   ]
  },
  {
   "cell_type": "code",
   "execution_count": 14,
   "metadata": {
    "execution": {
     "iopub.execute_input": "2021-03-22T13:44:25.208931Z",
     "iopub.status.busy": "2021-03-22T13:44:25.207530Z",
     "iopub.status.idle": "2021-03-22T13:44:25.209550Z",
     "shell.execute_reply": "2021-03-22T13:44:25.210018Z"
    }
   },
   "outputs": [],
   "source": [
    "df = df[df.location == 'California'].append(df[df.location != 'California']).reset_index(drop=True)"
   ]
  },
  {
   "cell_type": "code",
   "execution_count": null,
   "metadata": {},
   "outputs": [],
   "source": []
  },
  {
   "cell_type": "code",
   "execution_count": 15,
   "metadata": {
    "execution": {
     "iopub.execute_input": "2021-03-22T13:44:25.213602Z",
     "iopub.status.busy": "2021-03-22T13:44:25.213052Z",
     "iopub.status.idle": "2021-03-22T13:44:25.233185Z",
     "shell.execute_reply": "2021-03-22T13:44:25.232604Z"
    }
   },
   "outputs": [],
   "source": [
    "tz = pytz.timezone(\"America/New_York\")"
   ]
  },
  {
   "cell_type": "code",
   "execution_count": 16,
   "metadata": {
    "execution": {
     "iopub.execute_input": "2021-03-22T13:44:25.237886Z",
     "iopub.status.busy": "2021-03-22T13:44:25.236539Z",
     "iopub.status.idle": "2021-03-22T13:44:25.238523Z",
     "shell.execute_reply": "2021-03-22T13:44:25.238995Z"
    }
   },
   "outputs": [],
   "source": [
    "today = datetime.now(tz).date()"
   ]
  },
  {
   "cell_type": "code",
   "execution_count": 17,
   "metadata": {
    "execution": {
     "iopub.execute_input": "2021-03-22T13:44:25.243730Z",
     "iopub.status.busy": "2021-03-22T13:44:25.242295Z",
     "iopub.status.idle": "2021-03-22T13:44:25.244327Z",
     "shell.execute_reply": "2021-03-22T13:44:25.244777Z"
    }
   },
   "outputs": [],
   "source": [
    "data_dir = os.path.join(os.path.abspath(\"\"), \"data\")"
   ]
  },
  {
   "cell_type": "code",
   "execution_count": 18,
   "metadata": {
    "execution": {
     "iopub.execute_input": "2021-03-22T13:44:25.248614Z",
     "iopub.status.busy": "2021-03-22T13:44:25.248079Z",
     "iopub.status.idle": "2021-03-22T13:44:25.252837Z",
     "shell.execute_reply": "2021-03-22T13:44:25.252295Z"
    }
   },
   "outputs": [],
   "source": [
    "df.to_csv(os.path.join(data_dir, f\"{today}.csv\"), index=False)"
   ]
  },
  {
   "cell_type": "code",
   "execution_count": null,
   "metadata": {},
   "outputs": [],
   "source": []
  }
 ],
 "metadata": {
  "kernelspec": {
   "display_name": "Python 3",
   "language": "python",
   "name": "python3"
  },
  "language_info": {
   "codemirror_mode": {
    "name": "ipython",
    "version": 3
   },
   "file_extension": ".py",
   "mimetype": "text/x-python",
   "name": "python",
   "nbconvert_exporter": "python",
   "pygments_lexer": "ipython3",
   "version": "3.8.8"
  }
 },
 "nbformat": 4,
 "nbformat_minor": 4
}
