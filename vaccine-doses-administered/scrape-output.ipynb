{
 "cells": [
  {
   "cell_type": "markdown",
   "metadata": {},
   "source": [
    "# California COVID vaccinations scrape"
   ]
  },
  {
   "cell_type": "markdown",
   "metadata": {},
   "source": [
    "By [Amy O'Kruk](https://twitter.com/amyokruk)"
   ]
  },
  {
   "cell_type": "markdown",
   "metadata": {},
   "source": [
    "Downloads data on vaccine doses administered by county and statewide from a Tableau-powered dashboard from the California Department of Public Health."
   ]
  },
  {
   "cell_type": "code",
   "execution_count": 1,
   "metadata": {
    "execution": {
     "iopub.execute_input": "2021-03-18T06:47:39.711247Z",
     "iopub.status.busy": "2021-03-18T06:47:39.709947Z",
     "iopub.status.idle": "2021-03-18T06:47:40.159859Z",
     "shell.execute_reply": "2021-03-18T06:47:40.158792Z"
    }
   },
   "outputs": [],
   "source": [
    "import pandas as pd\n",
    "import requests\n",
    "from bs4 import BeautifulSoup\n",
    "import json\n",
    "import re\n",
    "import time\n",
    "from time import gmtime, strftime \n",
    "import os\n",
    "import pytz\n",
    "from datetime import datetime"
   ]
  },
  {
   "cell_type": "markdown",
   "metadata": {},
   "source": [
    "Scrape the dashboard page"
   ]
  },
  {
   "cell_type": "code",
   "execution_count": 2,
   "metadata": {
    "execution": {
     "iopub.execute_input": "2021-03-18T06:47:40.164768Z",
     "iopub.status.busy": "2021-03-18T06:47:40.164150Z",
     "iopub.status.idle": "2021-03-18T06:47:40.527800Z",
     "shell.execute_reply": "2021-03-18T06:47:40.526621Z"
    }
   },
   "outputs": [],
   "source": [
    "url = \"https://public.tableau.com/interactive/views/COVID-19VaccineDashboardPublic/Vaccine?:embed=y&:showVizHome=n&:apiID=host0\"\n",
    "\n",
    "r = requests.get(url)\n",
    "soup = BeautifulSoup(r.text, \"html.parser\")"
   ]
  },
  {
   "cell_type": "code",
   "execution_count": 3,
   "metadata": {
    "execution": {
     "iopub.execute_input": "2021-03-18T06:47:40.533508Z",
     "iopub.status.busy": "2021-03-18T06:47:40.532842Z",
     "iopub.status.idle": "2021-03-18T06:47:40.536945Z",
     "shell.execute_reply": "2021-03-18T06:47:40.537472Z"
    }
   },
   "outputs": [],
   "source": [
    "tableauData = json.loads(soup.find(\"textarea\",{\"id\": \"tsConfigContainer\"}).text)"
   ]
  },
  {
   "cell_type": "markdown",
   "metadata": {},
   "source": [
    "Get the link to the Tableau data"
   ]
  },
  {
   "cell_type": "code",
   "execution_count": 4,
   "metadata": {
    "execution": {
     "iopub.execute_input": "2021-03-18T06:47:40.541421Z",
     "iopub.status.busy": "2021-03-18T06:47:40.540745Z",
     "iopub.status.idle": "2021-03-18T06:47:40.545384Z",
     "shell.execute_reply": "2021-03-18T06:47:40.544669Z"
    }
   },
   "outputs": [],
   "source": [
    "dataUrl = f'https://public.tableau.com{tableauData[\"vizql_root\"]}/bootstrapSession/sessions/{tableauData[\"sessionid\"]}'"
   ]
  },
  {
   "cell_type": "code",
   "execution_count": 5,
   "metadata": {
    "execution": {
     "iopub.execute_input": "2021-03-18T06:47:40.553298Z",
     "iopub.status.busy": "2021-03-18T06:47:40.552622Z",
     "iopub.status.idle": "2021-03-18T06:47:40.917140Z",
     "shell.execute_reply": "2021-03-18T06:47:40.916596Z"
    }
   },
   "outputs": [],
   "source": [
    "r = requests.post(dataUrl, data= {\n",
    "    \"sheet_id\": tableauData[\"sheetId\"],\n",
    "})\n",
    "\n",
    "dataReg = re.search('\\d+;({.*})\\d+;({.*})', r.text, re.MULTILINE)\n",
    "data1 = json.loads(dataReg.group(2))\n",
    "\n",
    "dataJson = data1[\"secondaryInfo\"][\"presModelMap\"][\"dataDictionary\"][\"presModelHolder\"][\"genDataDictionaryPresModel\"][\"dataSegments\"][\"0\"][\"dataColumns\"]"
   ]
  },
  {
   "cell_type": "markdown",
   "metadata": {},
   "source": [
    "Isolate what you want"
   ]
  },
  {
   "cell_type": "code",
   "execution_count": 6,
   "metadata": {
    "execution": {
     "iopub.execute_input": "2021-03-18T06:47:40.923174Z",
     "iopub.status.busy": "2021-03-18T06:47:40.921129Z",
     "iopub.status.idle": "2021-03-18T06:47:40.924022Z",
     "shell.execute_reply": "2021-03-18T06:47:40.924627Z"
    }
   },
   "outputs": [],
   "source": [
    "counties = dataJson[2]['dataValues'][:58]"
   ]
  },
  {
   "cell_type": "code",
   "execution_count": 7,
   "metadata": {
    "execution": {
     "iopub.execute_input": "2021-03-18T06:47:40.930041Z",
     "iopub.status.busy": "2021-03-18T06:47:40.928519Z",
     "iopub.status.idle": "2021-03-18T06:47:40.930749Z",
     "shell.execute_reply": "2021-03-18T06:47:40.931261Z"
    }
   },
   "outputs": [],
   "source": [
    "doses = dataJson[0]['dataValues'][3:61]"
   ]
  },
  {
   "cell_type": "markdown",
   "metadata": {},
   "source": [
    "Data formatting"
   ]
  },
  {
   "cell_type": "code",
   "execution_count": 8,
   "metadata": {
    "execution": {
     "iopub.execute_input": "2021-03-18T06:47:40.936468Z",
     "iopub.status.busy": "2021-03-18T06:47:40.934904Z",
     "iopub.status.idle": "2021-03-18T06:47:40.937343Z",
     "shell.execute_reply": "2021-03-18T06:47:40.937908Z"
    }
   },
   "outputs": [],
   "source": [
    "zipped = dict(zip(counties, doses))"
   ]
  },
  {
   "cell_type": "code",
   "execution_count": 9,
   "metadata": {
    "execution": {
     "iopub.execute_input": "2021-03-18T06:47:40.947428Z",
     "iopub.status.busy": "2021-03-18T06:47:40.945760Z",
     "iopub.status.idle": "2021-03-18T06:47:40.948265Z",
     "shell.execute_reply": "2021-03-18T06:47:40.948853Z"
    }
   },
   "outputs": [],
   "source": [
    "df = pd.Series(zipped).reset_index()"
   ]
  },
  {
   "cell_type": "code",
   "execution_count": 10,
   "metadata": {
    "execution": {
     "iopub.execute_input": "2021-03-18T06:47:40.955090Z",
     "iopub.status.busy": "2021-03-18T06:47:40.953855Z",
     "iopub.status.idle": "2021-03-18T06:47:40.955915Z",
     "shell.execute_reply": "2021-03-18T06:47:40.956462Z"
    }
   },
   "outputs": [],
   "source": [
    "df.columns = ['location','doses']"
   ]
  },
  {
   "cell_type": "markdown",
   "metadata": {},
   "source": [
    "Grab the overall California total"
   ]
  },
  {
   "cell_type": "code",
   "execution_count": 11,
   "metadata": {
    "execution": {
     "iopub.execute_input": "2021-03-18T06:47:40.962088Z",
     "iopub.status.busy": "2021-03-18T06:47:40.960440Z",
     "iopub.status.idle": "2021-03-18T06:47:40.962829Z",
     "shell.execute_reply": "2021-03-18T06:47:40.963712Z"
    }
   },
   "outputs": [],
   "source": [
    "add = {'location':'California','doses':dataJson[0]['dataValues'][2]}"
   ]
  },
  {
   "cell_type": "code",
   "execution_count": 12,
   "metadata": {
    "execution": {
     "iopub.execute_input": "2021-03-18T06:47:40.972601Z",
     "iopub.status.busy": "2021-03-18T06:47:40.971092Z",
     "iopub.status.idle": "2021-03-18T06:47:40.973478Z",
     "shell.execute_reply": "2021-03-18T06:47:40.974025Z"
    }
   },
   "outputs": [],
   "source": [
    "df = df.append(add, ignore_index=True)"
   ]
  },
  {
   "cell_type": "code",
   "execution_count": 13,
   "metadata": {
    "execution": {
     "iopub.execute_input": "2021-03-18T06:47:40.979879Z",
     "iopub.status.busy": "2021-03-18T06:47:40.978446Z",
     "iopub.status.idle": "2021-03-18T06:47:40.980551Z",
     "shell.execute_reply": "2021-03-18T06:47:40.981070Z"
    }
   },
   "outputs": [],
   "source": [
    "df = df.sort_values(by='location')"
   ]
  },
  {
   "cell_type": "code",
   "execution_count": 14,
   "metadata": {
    "execution": {
     "iopub.execute_input": "2021-03-18T06:47:40.988842Z",
     "iopub.status.busy": "2021-03-18T06:47:40.987206Z",
     "iopub.status.idle": "2021-03-18T06:47:40.989590Z",
     "shell.execute_reply": "2021-03-18T06:47:40.990230Z"
    }
   },
   "outputs": [],
   "source": [
    "df = df[df.location == 'California'].append(df[df.location != 'California']).reset_index(drop=True)"
   ]
  },
  {
   "cell_type": "code",
   "execution_count": null,
   "metadata": {},
   "outputs": [],
   "source": []
  },
  {
   "cell_type": "code",
   "execution_count": 15,
   "metadata": {
    "execution": {
     "iopub.execute_input": "2021-03-18T06:47:40.994134Z",
     "iopub.status.busy": "2021-03-18T06:47:40.993497Z",
     "iopub.status.idle": "2021-03-18T06:47:41.016933Z",
     "shell.execute_reply": "2021-03-18T06:47:41.016203Z"
    }
   },
   "outputs": [],
   "source": [
    "tz = pytz.timezone(\"America/New_York\")"
   ]
  },
  {
   "cell_type": "code",
   "execution_count": 16,
   "metadata": {
    "execution": {
     "iopub.execute_input": "2021-03-18T06:47:41.022581Z",
     "iopub.status.busy": "2021-03-18T06:47:41.020991Z",
     "iopub.status.idle": "2021-03-18T06:47:41.023392Z",
     "shell.execute_reply": "2021-03-18T06:47:41.023964Z"
    }
   },
   "outputs": [],
   "source": [
    "today = datetime.now(tz).date()"
   ]
  },
  {
   "cell_type": "code",
   "execution_count": 17,
   "metadata": {
    "execution": {
     "iopub.execute_input": "2021-03-18T06:47:41.033908Z",
     "iopub.status.busy": "2021-03-18T06:47:41.033225Z",
     "iopub.status.idle": "2021-03-18T06:47:41.034557Z",
     "shell.execute_reply": "2021-03-18T06:47:41.035064Z"
    }
   },
   "outputs": [],
   "source": [
    "data_dir = os.path.join(os.path.abspath(\"\"), \"data\")"
   ]
  },
  {
   "cell_type": "code",
   "execution_count": 18,
   "metadata": {
    "execution": {
     "iopub.execute_input": "2021-03-18T06:47:41.039643Z",
     "iopub.status.busy": "2021-03-18T06:47:41.038995Z",
     "iopub.status.idle": "2021-03-18T06:47:41.044213Z",
     "shell.execute_reply": "2021-03-18T06:47:41.043609Z"
    }
   },
   "outputs": [],
   "source": [
    "df.to_csv(os.path.join(data_dir, f\"{today}.csv\"), index=False)"
   ]
  },
  {
   "cell_type": "code",
   "execution_count": null,
   "metadata": {},
   "outputs": [],
   "source": []
  }
 ],
 "metadata": {
  "kernelspec": {
   "display_name": "Python 3",
   "language": "python",
   "name": "python3"
  },
  "language_info": {
   "codemirror_mode": {
    "name": "ipython",
    "version": 3
   },
   "file_extension": ".py",
   "mimetype": "text/x-python",
   "name": "python",
   "nbconvert_exporter": "python",
   "pygments_lexer": "ipython3",
   "version": "3.8.8"
  }
 },
 "nbformat": 4,
 "nbformat_minor": 4
}
