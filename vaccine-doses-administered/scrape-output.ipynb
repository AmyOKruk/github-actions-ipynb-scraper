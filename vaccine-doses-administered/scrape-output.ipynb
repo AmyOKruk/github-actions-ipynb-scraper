{
 "cells": [
  {
   "cell_type": "markdown",
   "metadata": {},
   "source": [
    "# California COVID vaccinations scrape"
   ]
  },
  {
   "cell_type": "markdown",
   "metadata": {},
   "source": [
    "By [Amy O'Kruk](https://twitter.com/amyokruk)"
   ]
  },
  {
   "cell_type": "markdown",
   "metadata": {},
   "source": [
    "Downloads data on vaccine doses administered by county and statewide from a Tableau-powered dashboard from the California Department of Public Health."
   ]
  },
  {
   "cell_type": "code",
   "execution_count": 1,
   "metadata": {
    "execution": {
     "iopub.execute_input": "2021-03-11T06:14:23.839332Z",
     "iopub.status.busy": "2021-03-11T06:14:23.838330Z",
     "iopub.status.idle": "2021-03-11T06:14:24.278615Z",
     "shell.execute_reply": "2021-03-11T06:14:24.279177Z"
    }
   },
   "outputs": [],
   "source": [
    "import pandas as pd\n",
    "import requests\n",
    "from bs4 import BeautifulSoup\n",
    "import json\n",
    "import re\n",
    "import time\n",
    "from time import gmtime, strftime \n",
    "import os\n",
    "import pytz\n",
    "from datetime import datetime"
   ]
  },
  {
   "cell_type": "markdown",
   "metadata": {},
   "source": [
    "Scrape the dashboard page"
   ]
  },
  {
   "cell_type": "code",
   "execution_count": 2,
   "metadata": {
    "execution": {
     "iopub.execute_input": "2021-03-11T06:14:24.285405Z",
     "iopub.status.busy": "2021-03-11T06:14:24.283076Z",
     "iopub.status.idle": "2021-03-11T06:14:24.824594Z",
     "shell.execute_reply": "2021-03-11T06:14:24.824094Z"
    }
   },
   "outputs": [],
   "source": [
    "url = \"https://public.tableau.com/interactive/views/COVID-19VaccineDashboardPublic/Vaccine?:embed=y&:showVizHome=n&:apiID=host0\"\n",
    "\n",
    "r = requests.get(url)\n",
    "soup = BeautifulSoup(r.text, \"html.parser\")"
   ]
  },
  {
   "cell_type": "code",
   "execution_count": 3,
   "metadata": {
    "execution": {
     "iopub.execute_input": "2021-03-11T06:14:24.829152Z",
     "iopub.status.busy": "2021-03-11T06:14:24.828523Z",
     "iopub.status.idle": "2021-03-11T06:14:24.832546Z",
     "shell.execute_reply": "2021-03-11T06:14:24.831833Z"
    }
   },
   "outputs": [],
   "source": [
    "tableauData = json.loads(soup.find(\"textarea\",{\"id\": \"tsConfigContainer\"}).text)"
   ]
  },
  {
   "cell_type": "markdown",
   "metadata": {},
   "source": [
    "Get the link to the Tableau data"
   ]
  },
  {
   "cell_type": "code",
   "execution_count": 4,
   "metadata": {
    "execution": {
     "iopub.execute_input": "2021-03-11T06:14:24.837609Z",
     "iopub.status.busy": "2021-03-11T06:14:24.836014Z",
     "iopub.status.idle": "2021-03-11T06:14:24.838442Z",
     "shell.execute_reply": "2021-03-11T06:14:24.838976Z"
    }
   },
   "outputs": [],
   "source": [
    "dataUrl = f'https://public.tableau.com{tableauData[\"vizql_root\"]}/bootstrapSession/sessions/{tableauData[\"sessionid\"]}'"
   ]
  },
  {
   "cell_type": "code",
   "execution_count": 5,
   "metadata": {
    "execution": {
     "iopub.execute_input": "2021-03-11T06:14:24.845775Z",
     "iopub.status.busy": "2021-03-11T06:14:24.845223Z",
     "iopub.status.idle": "2021-03-11T06:14:25.376644Z",
     "shell.execute_reply": "2021-03-11T06:14:25.376129Z"
    }
   },
   "outputs": [],
   "source": [
    "r = requests.post(dataUrl, data= {\n",
    "    \"sheet_id\": tableauData[\"sheetId\"],\n",
    "})\n",
    "\n",
    "dataReg = re.search('\\d+;({.*})\\d+;({.*})', r.text, re.MULTILINE)\n",
    "data1 = json.loads(dataReg.group(2))\n",
    "\n",
    "dataJson = data1[\"secondaryInfo\"][\"presModelMap\"][\"dataDictionary\"][\"presModelHolder\"][\"genDataDictionaryPresModel\"][\"dataSegments\"][\"0\"][\"dataColumns\"]"
   ]
  },
  {
   "cell_type": "markdown",
   "metadata": {},
   "source": [
    "Isolate what you want"
   ]
  },
  {
   "cell_type": "code",
   "execution_count": 6,
   "metadata": {
    "execution": {
     "iopub.execute_input": "2021-03-11T06:14:25.381703Z",
     "iopub.status.busy": "2021-03-11T06:14:25.380249Z",
     "iopub.status.idle": "2021-03-11T06:14:25.382592Z",
     "shell.execute_reply": "2021-03-11T06:14:25.383107Z"
    }
   },
   "outputs": [],
   "source": [
    "counties = dataJson[2]['dataValues'][:58]"
   ]
  },
  {
   "cell_type": "code",
   "execution_count": 7,
   "metadata": {
    "execution": {
     "iopub.execute_input": "2021-03-11T06:14:25.388312Z",
     "iopub.status.busy": "2021-03-11T06:14:25.386846Z",
     "iopub.status.idle": "2021-03-11T06:14:25.389046Z",
     "shell.execute_reply": "2021-03-11T06:14:25.389554Z"
    }
   },
   "outputs": [],
   "source": [
    "doses = dataJson[0]['dataValues'][3:61]"
   ]
  },
  {
   "cell_type": "markdown",
   "metadata": {},
   "source": [
    "Data formatting"
   ]
  },
  {
   "cell_type": "code",
   "execution_count": 8,
   "metadata": {
    "execution": {
     "iopub.execute_input": "2021-03-11T06:14:25.394376Z",
     "iopub.status.busy": "2021-03-11T06:14:25.393019Z",
     "iopub.status.idle": "2021-03-11T06:14:25.395093Z",
     "shell.execute_reply": "2021-03-11T06:14:25.396136Z"
    }
   },
   "outputs": [],
   "source": [
    "zipped = dict(zip(counties, doses))"
   ]
  },
  {
   "cell_type": "code",
   "execution_count": 9,
   "metadata": {
    "execution": {
     "iopub.execute_input": "2021-03-11T06:14:25.404427Z",
     "iopub.status.busy": "2021-03-11T06:14:25.402677Z",
     "iopub.status.idle": "2021-03-11T06:14:25.405134Z",
     "shell.execute_reply": "2021-03-11T06:14:25.405593Z"
    }
   },
   "outputs": [],
   "source": [
    "df = pd.Series(zipped).reset_index()"
   ]
  },
  {
   "cell_type": "code",
   "execution_count": 10,
   "metadata": {
    "execution": {
     "iopub.execute_input": "2021-03-11T06:14:25.410400Z",
     "iopub.status.busy": "2021-03-11T06:14:25.408973Z",
     "iopub.status.idle": "2021-03-11T06:14:25.411236Z",
     "shell.execute_reply": "2021-03-11T06:14:25.411738Z"
    }
   },
   "outputs": [],
   "source": [
    "df.columns = ['location','doses']"
   ]
  },
  {
   "cell_type": "markdown",
   "metadata": {},
   "source": [
    "Grab the overall California total"
   ]
  },
  {
   "cell_type": "code",
   "execution_count": 11,
   "metadata": {
    "execution": {
     "iopub.execute_input": "2021-03-11T06:14:25.416729Z",
     "iopub.status.busy": "2021-03-11T06:14:25.415420Z",
     "iopub.status.idle": "2021-03-11T06:14:25.417342Z",
     "shell.execute_reply": "2021-03-11T06:14:25.417895Z"
    }
   },
   "outputs": [],
   "source": [
    "add = {'location':'California','doses':dataJson[0]['dataValues'][2]}"
   ]
  },
  {
   "cell_type": "code",
   "execution_count": 12,
   "metadata": {
    "execution": {
     "iopub.execute_input": "2021-03-11T06:14:25.425226Z",
     "iopub.status.busy": "2021-03-11T06:14:25.424101Z",
     "iopub.status.idle": "2021-03-11T06:14:25.425997Z",
     "shell.execute_reply": "2021-03-11T06:14:25.426571Z"
    }
   },
   "outputs": [],
   "source": [
    "df = df.append(add, ignore_index=True)"
   ]
  },
  {
   "cell_type": "code",
   "execution_count": 13,
   "metadata": {
    "execution": {
     "iopub.execute_input": "2021-03-11T06:14:25.432343Z",
     "iopub.status.busy": "2021-03-11T06:14:25.430908Z",
     "iopub.status.idle": "2021-03-11T06:14:25.432996Z",
     "shell.execute_reply": "2021-03-11T06:14:25.433454Z"
    }
   },
   "outputs": [],
   "source": [
    "df = df.sort_values(by='location')"
   ]
  },
  {
   "cell_type": "code",
   "execution_count": 14,
   "metadata": {
    "execution": {
     "iopub.execute_input": "2021-03-11T06:14:25.440231Z",
     "iopub.status.busy": "2021-03-11T06:14:25.438948Z",
     "iopub.status.idle": "2021-03-11T06:14:25.440863Z",
     "shell.execute_reply": "2021-03-11T06:14:25.441311Z"
    }
   },
   "outputs": [],
   "source": [
    "df = df[df.location == 'California'].append(df[df.location != 'California']).reset_index(drop=True)"
   ]
  },
  {
   "cell_type": "code",
   "execution_count": null,
   "metadata": {},
   "outputs": [],
   "source": []
  },
  {
   "cell_type": "code",
   "execution_count": 15,
   "metadata": {
    "execution": {
     "iopub.execute_input": "2021-03-11T06:14:25.445708Z",
     "iopub.status.busy": "2021-03-11T06:14:25.444962Z",
     "iopub.status.idle": "2021-03-11T06:14:25.464164Z",
     "shell.execute_reply": "2021-03-11T06:14:25.463594Z"
    }
   },
   "outputs": [],
   "source": [
    "tz = pytz.timezone(\"America/New_York\")"
   ]
  },
  {
   "cell_type": "code",
   "execution_count": 16,
   "metadata": {
    "execution": {
     "iopub.execute_input": "2021-03-11T06:14:25.468813Z",
     "iopub.status.busy": "2021-03-11T06:14:25.467535Z",
     "iopub.status.idle": "2021-03-11T06:14:25.469481Z",
     "shell.execute_reply": "2021-03-11T06:14:25.469998Z"
    }
   },
   "outputs": [],
   "source": [
    "today = datetime.now(tz).date()"
   ]
  },
  {
   "cell_type": "code",
   "execution_count": 17,
   "metadata": {
    "execution": {
     "iopub.execute_input": "2021-03-11T06:14:25.475635Z",
     "iopub.status.busy": "2021-03-11T06:14:25.474516Z",
     "iopub.status.idle": "2021-03-11T06:14:25.476299Z",
     "shell.execute_reply": "2021-03-11T06:14:25.476833Z"
    }
   },
   "outputs": [],
   "source": [
    "data_dir = os.path.join(os.path.abspath(\"\"), \"data\")"
   ]
  },
  {
   "cell_type": "code",
   "execution_count": 18,
   "metadata": {
    "execution": {
     "iopub.execute_input": "2021-03-11T06:14:25.481277Z",
     "iopub.status.busy": "2021-03-11T06:14:25.480094Z",
     "iopub.status.idle": "2021-03-11T06:14:25.485298Z",
     "shell.execute_reply": "2021-03-11T06:14:25.484671Z"
    }
   },
   "outputs": [],
   "source": [
    "df.to_csv(os.path.join(data_dir, f\"{today}.csv\"), index=False)"
   ]
  },
  {
   "cell_type": "code",
   "execution_count": null,
   "metadata": {},
   "outputs": [],
   "source": []
  }
 ],
 "metadata": {
  "kernelspec": {
   "display_name": "Python 3",
   "language": "python",
   "name": "python3"
  },
  "language_info": {
   "codemirror_mode": {
    "name": "ipython",
    "version": 3
   },
   "file_extension": ".py",
   "mimetype": "text/x-python",
   "name": "python",
   "nbconvert_exporter": "python",
   "pygments_lexer": "ipython3",
   "version": "3.8.8"
  }
 },
 "nbformat": 4,
 "nbformat_minor": 4
}
