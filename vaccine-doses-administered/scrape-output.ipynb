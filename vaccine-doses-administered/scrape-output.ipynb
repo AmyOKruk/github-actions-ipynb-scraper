{
 "cells": [
  {
   "cell_type": "markdown",
   "metadata": {},
   "source": [
    "# California COVID vaccinations scrape"
   ]
  },
  {
   "cell_type": "markdown",
   "metadata": {},
   "source": [
    "By [Amy O'Kruk](https://twitter.com/amyokruk)"
   ]
  },
  {
   "cell_type": "markdown",
   "metadata": {},
   "source": [
    "Downloads data on vaccine doses administered by county and statewide from a Tableau-powered dashboard from the California Department of Public Health."
   ]
  },
  {
   "cell_type": "code",
   "execution_count": 1,
   "metadata": {
    "execution": {
     "iopub.execute_input": "2021-03-18T19:36:40.257641Z",
     "iopub.status.busy": "2021-03-18T19:36:40.256849Z",
     "iopub.status.idle": "2021-03-18T19:36:40.700562Z",
     "shell.execute_reply": "2021-03-18T19:36:40.699911Z"
    }
   },
   "outputs": [],
   "source": [
    "import pandas as pd\n",
    "import requests\n",
    "from bs4 import BeautifulSoup\n",
    "import json\n",
    "import re\n",
    "import time\n",
    "from time import gmtime, strftime \n",
    "import os\n",
    "import pytz\n",
    "from datetime import datetime"
   ]
  },
  {
   "cell_type": "markdown",
   "metadata": {},
   "source": [
    "Scrape the dashboard page"
   ]
  },
  {
   "cell_type": "code",
   "execution_count": 2,
   "metadata": {
    "execution": {
     "iopub.execute_input": "2021-03-18T19:36:40.707843Z",
     "iopub.status.busy": "2021-03-18T19:36:40.707255Z",
     "iopub.status.idle": "2021-03-18T19:36:41.683506Z",
     "shell.execute_reply": "2021-03-18T19:36:41.682540Z"
    }
   },
   "outputs": [],
   "source": [
    "url = \"https://public.tableau.com/interactive/views/COVID-19VaccineDashboardPublic/Vaccine?:embed=y&:showVizHome=n&:apiID=host0\"\n",
    "\n",
    "r = requests.get(url)\n",
    "soup = BeautifulSoup(r.text, \"html.parser\")"
   ]
  },
  {
   "cell_type": "code",
   "execution_count": 3,
   "metadata": {
    "execution": {
     "iopub.execute_input": "2021-03-18T19:36:41.688524Z",
     "iopub.status.busy": "2021-03-18T19:36:41.687898Z",
     "iopub.status.idle": "2021-03-18T19:36:41.691782Z",
     "shell.execute_reply": "2021-03-18T19:36:41.691291Z"
    }
   },
   "outputs": [],
   "source": [
    "tableauData = json.loads(soup.find(\"textarea\",{\"id\": \"tsConfigContainer\"}).text)"
   ]
  },
  {
   "cell_type": "markdown",
   "metadata": {},
   "source": [
    "Get the link to the Tableau data"
   ]
  },
  {
   "cell_type": "code",
   "execution_count": 4,
   "metadata": {
    "execution": {
     "iopub.execute_input": "2021-03-18T19:36:41.695824Z",
     "iopub.status.busy": "2021-03-18T19:36:41.695293Z",
     "iopub.status.idle": "2021-03-18T19:36:41.699195Z",
     "shell.execute_reply": "2021-03-18T19:36:41.698624Z"
    }
   },
   "outputs": [],
   "source": [
    "dataUrl = f'https://public.tableau.com{tableauData[\"vizql_root\"]}/bootstrapSession/sessions/{tableauData[\"sessionid\"]}'"
   ]
  },
  {
   "cell_type": "code",
   "execution_count": 5,
   "metadata": {
    "execution": {
     "iopub.execute_input": "2021-03-18T19:36:41.706633Z",
     "iopub.status.busy": "2021-03-18T19:36:41.705732Z",
     "iopub.status.idle": "2021-03-18T19:36:42.273112Z",
     "shell.execute_reply": "2021-03-18T19:36:42.272281Z"
    }
   },
   "outputs": [],
   "source": [
    "r = requests.post(dataUrl, data= {\n",
    "    \"sheet_id\": tableauData[\"sheetId\"],\n",
    "})\n",
    "\n",
    "dataReg = re.search('\\d+;({.*})\\d+;({.*})', r.text, re.MULTILINE)\n",
    "data1 = json.loads(dataReg.group(2))\n",
    "\n",
    "dataJson = data1[\"secondaryInfo\"][\"presModelMap\"][\"dataDictionary\"][\"presModelHolder\"][\"genDataDictionaryPresModel\"][\"dataSegments\"][\"0\"][\"dataColumns\"]"
   ]
  },
  {
   "cell_type": "markdown",
   "metadata": {},
   "source": [
    "Isolate what you want"
   ]
  },
  {
   "cell_type": "code",
   "execution_count": 6,
   "metadata": {
    "execution": {
     "iopub.execute_input": "2021-03-18T19:36:42.277487Z",
     "iopub.status.busy": "2021-03-18T19:36:42.276903Z",
     "iopub.status.idle": "2021-03-18T19:36:42.280764Z",
     "shell.execute_reply": "2021-03-18T19:36:42.279910Z"
    }
   },
   "outputs": [],
   "source": [
    "counties = dataJson[2]['dataValues'][:58]"
   ]
  },
  {
   "cell_type": "code",
   "execution_count": 7,
   "metadata": {
    "execution": {
     "iopub.execute_input": "2021-03-18T19:36:42.285764Z",
     "iopub.status.busy": "2021-03-18T19:36:42.284272Z",
     "iopub.status.idle": "2021-03-18T19:36:42.286451Z",
     "shell.execute_reply": "2021-03-18T19:36:42.286946Z"
    }
   },
   "outputs": [],
   "source": [
    "doses = dataJson[0]['dataValues'][3:61]"
   ]
  },
  {
   "cell_type": "markdown",
   "metadata": {},
   "source": [
    "Data formatting"
   ]
  },
  {
   "cell_type": "code",
   "execution_count": 8,
   "metadata": {
    "execution": {
     "iopub.execute_input": "2021-03-18T19:36:42.292992Z",
     "iopub.status.busy": "2021-03-18T19:36:42.291260Z",
     "iopub.status.idle": "2021-03-18T19:36:42.293656Z",
     "shell.execute_reply": "2021-03-18T19:36:42.294165Z"
    }
   },
   "outputs": [],
   "source": [
    "zipped = dict(zip(counties, doses))"
   ]
  },
  {
   "cell_type": "code",
   "execution_count": 9,
   "metadata": {
    "execution": {
     "iopub.execute_input": "2021-03-18T19:36:42.301436Z",
     "iopub.status.busy": "2021-03-18T19:36:42.299937Z",
     "iopub.status.idle": "2021-03-18T19:36:42.302088Z",
     "shell.execute_reply": "2021-03-18T19:36:42.302577Z"
    }
   },
   "outputs": [],
   "source": [
    "df = pd.Series(zipped).reset_index()"
   ]
  },
  {
   "cell_type": "code",
   "execution_count": 10,
   "metadata": {
    "execution": {
     "iopub.execute_input": "2021-03-18T19:36:42.307077Z",
     "iopub.status.busy": "2021-03-18T19:36:42.306202Z",
     "iopub.status.idle": "2021-03-18T19:36:42.308535Z",
     "shell.execute_reply": "2021-03-18T19:36:42.309046Z"
    }
   },
   "outputs": [],
   "source": [
    "df.columns = ['location','doses']"
   ]
  },
  {
   "cell_type": "markdown",
   "metadata": {},
   "source": [
    "Grab the overall California total"
   ]
  },
  {
   "cell_type": "code",
   "execution_count": 11,
   "metadata": {
    "execution": {
     "iopub.execute_input": "2021-03-18T19:36:42.314044Z",
     "iopub.status.busy": "2021-03-18T19:36:42.312624Z",
     "iopub.status.idle": "2021-03-18T19:36:42.314680Z",
     "shell.execute_reply": "2021-03-18T19:36:42.315201Z"
    }
   },
   "outputs": [],
   "source": [
    "add = {'location':'California','doses':dataJson[0]['dataValues'][2]}"
   ]
  },
  {
   "cell_type": "code",
   "execution_count": 12,
   "metadata": {
    "execution": {
     "iopub.execute_input": "2021-03-18T19:36:42.323177Z",
     "iopub.status.busy": "2021-03-18T19:36:42.321695Z",
     "iopub.status.idle": "2021-03-18T19:36:42.323757Z",
     "shell.execute_reply": "2021-03-18T19:36:42.324288Z"
    }
   },
   "outputs": [],
   "source": [
    "df = df.append(add, ignore_index=True)"
   ]
  },
  {
   "cell_type": "code",
   "execution_count": 13,
   "metadata": {
    "execution": {
     "iopub.execute_input": "2021-03-18T19:36:42.329716Z",
     "iopub.status.busy": "2021-03-18T19:36:42.328453Z",
     "iopub.status.idle": "2021-03-18T19:36:42.330424Z",
     "shell.execute_reply": "2021-03-18T19:36:42.330920Z"
    }
   },
   "outputs": [],
   "source": [
    "df = df.sort_values(by='location')"
   ]
  },
  {
   "cell_type": "code",
   "execution_count": 14,
   "metadata": {
    "execution": {
     "iopub.execute_input": "2021-03-18T19:36:42.338303Z",
     "iopub.status.busy": "2021-03-18T19:36:42.336841Z",
     "iopub.status.idle": "2021-03-18T19:36:42.338944Z",
     "shell.execute_reply": "2021-03-18T19:36:42.339450Z"
    }
   },
   "outputs": [],
   "source": [
    "df = df[df.location == 'California'].append(df[df.location != 'California']).reset_index(drop=True)"
   ]
  },
  {
   "cell_type": "code",
   "execution_count": null,
   "metadata": {},
   "outputs": [],
   "source": []
  },
  {
   "cell_type": "code",
   "execution_count": 15,
   "metadata": {
    "execution": {
     "iopub.execute_input": "2021-03-18T19:36:42.343212Z",
     "iopub.status.busy": "2021-03-18T19:36:42.342540Z",
     "iopub.status.idle": "2021-03-18T19:36:42.362922Z",
     "shell.execute_reply": "2021-03-18T19:36:42.362426Z"
    }
   },
   "outputs": [],
   "source": [
    "tz = pytz.timezone(\"America/New_York\")"
   ]
  },
  {
   "cell_type": "code",
   "execution_count": 16,
   "metadata": {
    "execution": {
     "iopub.execute_input": "2021-03-18T19:36:42.367700Z",
     "iopub.status.busy": "2021-03-18T19:36:42.366201Z",
     "iopub.status.idle": "2021-03-18T19:36:42.368426Z",
     "shell.execute_reply": "2021-03-18T19:36:42.368911Z"
    }
   },
   "outputs": [],
   "source": [
    "today = datetime.now(tz).date()"
   ]
  },
  {
   "cell_type": "code",
   "execution_count": 17,
   "metadata": {
    "execution": {
     "iopub.execute_input": "2021-03-18T19:36:42.373461Z",
     "iopub.status.busy": "2021-03-18T19:36:42.372267Z",
     "iopub.status.idle": "2021-03-18T19:36:42.375268Z",
     "shell.execute_reply": "2021-03-18T19:36:42.374591Z"
    }
   },
   "outputs": [],
   "source": [
    "data_dir = os.path.join(os.path.abspath(\"\"), \"data\")"
   ]
  },
  {
   "cell_type": "code",
   "execution_count": 18,
   "metadata": {
    "execution": {
     "iopub.execute_input": "2021-03-18T19:36:42.379372Z",
     "iopub.status.busy": "2021-03-18T19:36:42.378564Z",
     "iopub.status.idle": "2021-03-18T19:36:42.384086Z",
     "shell.execute_reply": "2021-03-18T19:36:42.383410Z"
    }
   },
   "outputs": [],
   "source": [
    "df.to_csv(os.path.join(data_dir, f\"{today}.csv\"), index=False)"
   ]
  },
  {
   "cell_type": "code",
   "execution_count": null,
   "metadata": {},
   "outputs": [],
   "source": []
  }
 ],
 "metadata": {
  "kernelspec": {
   "display_name": "Python 3",
   "language": "python",
   "name": "python3"
  },
  "language_info": {
   "codemirror_mode": {
    "name": "ipython",
    "version": 3
   },
   "file_extension": ".py",
   "mimetype": "text/x-python",
   "name": "python",
   "nbconvert_exporter": "python",
   "pygments_lexer": "ipython3",
   "version": "3.8.8"
  }
 },
 "nbformat": 4,
 "nbformat_minor": 4
}
