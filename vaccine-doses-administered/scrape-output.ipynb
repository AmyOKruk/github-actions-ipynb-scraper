{
 "cells": [
  {
   "cell_type": "markdown",
   "metadata": {},
   "source": [
    "# California COVID vaccinations scrape"
   ]
  },
  {
   "cell_type": "markdown",
   "metadata": {},
   "source": [
    "By [Amy O'Kruk](https://twitter.com/amyokruk)"
   ]
  },
  {
   "cell_type": "markdown",
   "metadata": {},
   "source": [
    "Downloads data on vaccine doses administered by county and statewide from a Tableau-powered dashboard from the California Department of Public Health."
   ]
  },
  {
   "cell_type": "code",
   "execution_count": 1,
   "metadata": {
    "execution": {
     "iopub.execute_input": "2021-03-10T03:38:22.533809Z",
     "iopub.status.busy": "2021-03-10T03:38:22.533297Z",
     "iopub.status.idle": "2021-03-10T03:38:22.858264Z",
     "shell.execute_reply": "2021-03-10T03:38:22.857629Z"
    }
   },
   "outputs": [],
   "source": [
    "import pandas as pd\n",
    "import requests\n",
    "from bs4 import BeautifulSoup\n",
    "import json\n",
    "import re\n",
    "import time\n",
    "from time import gmtime, strftime \n",
    "import os\n",
    "import pytz\n",
    "from datetime import datetime"
   ]
  },
  {
   "cell_type": "markdown",
   "metadata": {},
   "source": [
    "Scrape the dashboard page"
   ]
  },
  {
   "cell_type": "code",
   "execution_count": 2,
   "metadata": {
    "execution": {
     "iopub.execute_input": "2021-03-10T03:38:22.862946Z",
     "iopub.status.busy": "2021-03-10T03:38:22.861319Z",
     "iopub.status.idle": "2021-03-10T03:38:23.198814Z",
     "shell.execute_reply": "2021-03-10T03:38:23.198326Z"
    }
   },
   "outputs": [],
   "source": [
    "url = \"https://public.tableau.com/interactive/views/COVID-19VaccineDashboardPublic/Vaccine?:embed=y&:showVizHome=n&:apiID=host0\"\n",
    "\n",
    "r = requests.get(url)\n",
    "soup = BeautifulSoup(r.text, \"html.parser\")"
   ]
  },
  {
   "cell_type": "code",
   "execution_count": 3,
   "metadata": {
    "execution": {
     "iopub.execute_input": "2021-03-10T03:38:23.203126Z",
     "iopub.status.busy": "2021-03-10T03:38:23.202617Z",
     "iopub.status.idle": "2021-03-10T03:38:23.205477Z",
     "shell.execute_reply": "2021-03-10T03:38:23.205871Z"
    }
   },
   "outputs": [],
   "source": [
    "tableauData = json.loads(soup.find(\"textarea\",{\"id\": \"tsConfigContainer\"}).text)"
   ]
  },
  {
   "cell_type": "markdown",
   "metadata": {},
   "source": [
    "Get the link to the Tableau data"
   ]
  },
  {
   "cell_type": "code",
   "execution_count": 4,
   "metadata": {
    "execution": {
     "iopub.execute_input": "2021-03-10T03:38:23.209818Z",
     "iopub.status.busy": "2021-03-10T03:38:23.208749Z",
     "iopub.status.idle": "2021-03-10T03:38:23.210406Z",
     "shell.execute_reply": "2021-03-10T03:38:23.210818Z"
    }
   },
   "outputs": [],
   "source": [
    "dataUrl = f'https://public.tableau.com{tableauData[\"vizql_root\"]}/bootstrapSession/sessions/{tableauData[\"sessionid\"]}'"
   ]
  },
  {
   "cell_type": "code",
   "execution_count": 5,
   "metadata": {
    "execution": {
     "iopub.execute_input": "2021-03-10T03:38:23.216279Z",
     "iopub.status.busy": "2021-03-10T03:38:23.215834Z",
     "iopub.status.idle": "2021-03-10T03:38:23.640075Z",
     "shell.execute_reply": "2021-03-10T03:38:23.639607Z"
    }
   },
   "outputs": [],
   "source": [
    "r = requests.post(dataUrl, data= {\n",
    "    \"sheet_id\": tableauData[\"sheetId\"],\n",
    "})\n",
    "\n",
    "dataReg = re.search('\\d+;({.*})\\d+;({.*})', r.text, re.MULTILINE)\n",
    "data1 = json.loads(dataReg.group(2))\n",
    "\n",
    "dataJson = data1[\"secondaryInfo\"][\"presModelMap\"][\"dataDictionary\"][\"presModelHolder\"][\"genDataDictionaryPresModel\"][\"dataSegments\"][\"0\"][\"dataColumns\"]"
   ]
  },
  {
   "cell_type": "markdown",
   "metadata": {},
   "source": [
    "Isolate what you want"
   ]
  },
  {
   "cell_type": "code",
   "execution_count": 6,
   "metadata": {
    "execution": {
     "iopub.execute_input": "2021-03-10T03:38:23.644361Z",
     "iopub.status.busy": "2021-03-10T03:38:23.643277Z",
     "iopub.status.idle": "2021-03-10T03:38:23.644930Z",
     "shell.execute_reply": "2021-03-10T03:38:23.645342Z"
    }
   },
   "outputs": [],
   "source": [
    "counties = dataJson[2]['dataValues'][:58]"
   ]
  },
  {
   "cell_type": "code",
   "execution_count": 7,
   "metadata": {
    "execution": {
     "iopub.execute_input": "2021-03-10T03:38:23.648985Z",
     "iopub.status.busy": "2021-03-10T03:38:23.648230Z",
     "iopub.status.idle": "2021-03-10T03:38:23.649782Z",
     "shell.execute_reply": "2021-03-10T03:38:23.650161Z"
    }
   },
   "outputs": [],
   "source": [
    "doses = dataJson[0]['dataValues'][3:61]"
   ]
  },
  {
   "cell_type": "markdown",
   "metadata": {},
   "source": [
    "Data formatting"
   ]
  },
  {
   "cell_type": "code",
   "execution_count": 8,
   "metadata": {
    "execution": {
     "iopub.execute_input": "2021-03-10T03:38:23.653533Z",
     "iopub.status.busy": "2021-03-10T03:38:23.652764Z",
     "iopub.status.idle": "2021-03-10T03:38:23.654683Z",
     "shell.execute_reply": "2021-03-10T03:38:23.654292Z"
    }
   },
   "outputs": [],
   "source": [
    "zipped = dict(zip(counties, doses))"
   ]
  },
  {
   "cell_type": "code",
   "execution_count": 9,
   "metadata": {
    "execution": {
     "iopub.execute_input": "2021-03-10T03:38:23.660150Z",
     "iopub.status.busy": "2021-03-10T03:38:23.659282Z",
     "iopub.status.idle": "2021-03-10T03:38:23.660882Z",
     "shell.execute_reply": "2021-03-10T03:38:23.661248Z"
    }
   },
   "outputs": [],
   "source": [
    "df = pd.Series(zipped).reset_index()"
   ]
  },
  {
   "cell_type": "code",
   "execution_count": 10,
   "metadata": {
    "execution": {
     "iopub.execute_input": "2021-03-10T03:38:23.664725Z",
     "iopub.status.busy": "2021-03-10T03:38:23.663969Z",
     "iopub.status.idle": "2021-03-10T03:38:23.665576Z",
     "shell.execute_reply": "2021-03-10T03:38:23.665944Z"
    }
   },
   "outputs": [],
   "source": [
    "df.columns = ['location','doses']"
   ]
  },
  {
   "cell_type": "markdown",
   "metadata": {},
   "source": [
    "Grab the overall California total"
   ]
  },
  {
   "cell_type": "code",
   "execution_count": 11,
   "metadata": {
    "execution": {
     "iopub.execute_input": "2021-03-10T03:38:23.669347Z",
     "iopub.status.busy": "2021-03-10T03:38:23.668580Z",
     "iopub.status.idle": "2021-03-10T03:38:23.670462Z",
     "shell.execute_reply": "2021-03-10T03:38:23.670090Z"
    }
   },
   "outputs": [],
   "source": [
    "add = {'location':'California','doses':dataJson[0]['dataValues'][2]}"
   ]
  },
  {
   "cell_type": "code",
   "execution_count": 12,
   "metadata": {
    "execution": {
     "iopub.execute_input": "2021-03-10T03:38:23.676230Z",
     "iopub.status.busy": "2021-03-10T03:38:23.675458Z",
     "iopub.status.idle": "2021-03-10T03:38:23.677006Z",
     "shell.execute_reply": "2021-03-10T03:38:23.677376Z"
    }
   },
   "outputs": [],
   "source": [
    "df = df.append(add, ignore_index=True)"
   ]
  },
  {
   "cell_type": "code",
   "execution_count": 13,
   "metadata": {
    "execution": {
     "iopub.execute_input": "2021-03-10T03:38:23.681354Z",
     "iopub.status.busy": "2021-03-10T03:38:23.680599Z",
     "iopub.status.idle": "2021-03-10T03:38:23.682173Z",
     "shell.execute_reply": "2021-03-10T03:38:23.682515Z"
    }
   },
   "outputs": [],
   "source": [
    "df = df.sort_values(by='location')"
   ]
  },
  {
   "cell_type": "code",
   "execution_count": 14,
   "metadata": {
    "execution": {
     "iopub.execute_input": "2021-03-10T03:38:23.687767Z",
     "iopub.status.busy": "2021-03-10T03:38:23.687010Z",
     "iopub.status.idle": "2021-03-10T03:38:23.688923Z",
     "shell.execute_reply": "2021-03-10T03:38:23.688542Z"
    }
   },
   "outputs": [],
   "source": [
    "df = df[df.location == 'California'].append(df[df.location != 'California']).reset_index(drop=True)"
   ]
  },
  {
   "cell_type": "code",
   "execution_count": null,
   "metadata": {},
   "outputs": [],
   "source": []
  },
  {
   "cell_type": "code",
   "execution_count": 15,
   "metadata": {
    "execution": {
     "iopub.execute_input": "2021-03-10T03:38:23.691633Z",
     "iopub.status.busy": "2021-03-10T03:38:23.691198Z",
     "iopub.status.idle": "2021-03-10T03:38:23.705844Z",
     "shell.execute_reply": "2021-03-10T03:38:23.706229Z"
    }
   },
   "outputs": [],
   "source": [
    "tz = pytz.timezone(\"America/New_York\")"
   ]
  },
  {
   "cell_type": "code",
   "execution_count": 16,
   "metadata": {
    "execution": {
     "iopub.execute_input": "2021-03-10T03:38:23.709618Z",
     "iopub.status.busy": "2021-03-10T03:38:23.708845Z",
     "iopub.status.idle": "2021-03-10T03:38:23.710766Z",
     "shell.execute_reply": "2021-03-10T03:38:23.710368Z"
    }
   },
   "outputs": [],
   "source": [
    "today = datetime.now(tz).date()"
   ]
  },
  {
   "cell_type": "code",
   "execution_count": 17,
   "metadata": {
    "execution": {
     "iopub.execute_input": "2021-03-10T03:38:23.714018Z",
     "iopub.status.busy": "2021-03-10T03:38:23.713357Z",
     "iopub.status.idle": "2021-03-10T03:38:23.715387Z",
     "shell.execute_reply": "2021-03-10T03:38:23.714993Z"
    }
   },
   "outputs": [],
   "source": [
    "data_dir = os.path.join(os.path.abspath(\"\"), \"data\")"
   ]
  },
  {
   "cell_type": "code",
   "execution_count": 18,
   "metadata": {
    "execution": {
     "iopub.execute_input": "2021-03-10T03:38:23.718697Z",
     "iopub.status.busy": "2021-03-10T03:38:23.718095Z",
     "iopub.status.idle": "2021-03-10T03:38:23.722180Z",
     "shell.execute_reply": "2021-03-10T03:38:23.721719Z"
    }
   },
   "outputs": [],
   "source": [
    "df.to_csv(os.path.join(data_dir, f\"{today}.csv\"), index=False)"
   ]
  },
  {
   "cell_type": "code",
   "execution_count": null,
   "metadata": {},
   "outputs": [],
   "source": []
  }
 ],
 "metadata": {
  "kernelspec": {
   "display_name": "Python 3",
   "language": "python",
   "name": "python3"
  },
  "language_info": {
   "codemirror_mode": {
    "name": "ipython",
    "version": 3
   },
   "file_extension": ".py",
   "mimetype": "text/x-python",
   "name": "python",
   "nbconvert_exporter": "python",
   "pygments_lexer": "ipython3",
   "version": "3.8.8"
  }
 },
 "nbformat": 4,
 "nbformat_minor": 4
}
