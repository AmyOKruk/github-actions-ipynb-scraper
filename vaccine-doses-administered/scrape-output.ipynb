{
 "cells": [
  {
   "cell_type": "markdown",
   "metadata": {},
   "source": [
    "# California COVID vaccinations scrape"
   ]
  },
  {
   "cell_type": "markdown",
   "metadata": {},
   "source": [
    "By [Amy O'Kruk](https://twitter.com/amyokruk)"
   ]
  },
  {
   "cell_type": "markdown",
   "metadata": {},
   "source": [
    "Downloads data on vaccine doses administered by county and statewide from a Tableau-powered dashboard from the California Department of Public Health."
   ]
  },
  {
   "cell_type": "code",
   "execution_count": 1,
   "metadata": {
    "execution": {
     "iopub.execute_input": "2021-03-14T14:40:19.410911Z",
     "iopub.status.busy": "2021-03-14T14:40:19.410365Z",
     "iopub.status.idle": "2021-03-14T14:40:19.790212Z",
     "shell.execute_reply": "2021-03-14T14:40:19.789554Z"
    }
   },
   "outputs": [],
   "source": [
    "import pandas as pd\n",
    "import requests\n",
    "from bs4 import BeautifulSoup\n",
    "import json\n",
    "import re\n",
    "import time\n",
    "from time import gmtime, strftime \n",
    "import os\n",
    "import pytz\n",
    "from datetime import datetime"
   ]
  },
  {
   "cell_type": "markdown",
   "metadata": {},
   "source": [
    "Scrape the dashboard page"
   ]
  },
  {
   "cell_type": "code",
   "execution_count": 2,
   "metadata": {
    "execution": {
     "iopub.execute_input": "2021-03-14T14:40:19.796446Z",
     "iopub.status.busy": "2021-03-14T14:40:19.793808Z",
     "iopub.status.idle": "2021-03-14T14:40:20.119515Z",
     "shell.execute_reply": "2021-03-14T14:40:20.118648Z"
    }
   },
   "outputs": [],
   "source": [
    "url = \"https://public.tableau.com/interactive/views/COVID-19VaccineDashboardPublic/Vaccine?:embed=y&:showVizHome=n&:apiID=host0\"\n",
    "\n",
    "r = requests.get(url)\n",
    "soup = BeautifulSoup(r.text, \"html.parser\")"
   ]
  },
  {
   "cell_type": "code",
   "execution_count": 3,
   "metadata": {
    "execution": {
     "iopub.execute_input": "2021-03-14T14:40:20.123760Z",
     "iopub.status.busy": "2021-03-14T14:40:20.123226Z",
     "iopub.status.idle": "2021-03-14T14:40:20.127121Z",
     "shell.execute_reply": "2021-03-14T14:40:20.126717Z"
    }
   },
   "outputs": [],
   "source": [
    "tableauData = json.loads(soup.find(\"textarea\",{\"id\": \"tsConfigContainer\"}).text)"
   ]
  },
  {
   "cell_type": "markdown",
   "metadata": {},
   "source": [
    "Get the link to the Tableau data"
   ]
  },
  {
   "cell_type": "code",
   "execution_count": 4,
   "metadata": {
    "execution": {
     "iopub.execute_input": "2021-03-14T14:40:20.130843Z",
     "iopub.status.busy": "2021-03-14T14:40:20.130360Z",
     "iopub.status.idle": "2021-03-14T14:40:20.133759Z",
     "shell.execute_reply": "2021-03-14T14:40:20.133340Z"
    }
   },
   "outputs": [],
   "source": [
    "dataUrl = f'https://public.tableau.com{tableauData[\"vizql_root\"]}/bootstrapSession/sessions/{tableauData[\"sessionid\"]}'"
   ]
  },
  {
   "cell_type": "code",
   "execution_count": 5,
   "metadata": {
    "execution": {
     "iopub.execute_input": "2021-03-14T14:40:20.140942Z",
     "iopub.status.busy": "2021-03-14T14:40:20.140417Z",
     "iopub.status.idle": "2021-03-14T14:40:20.341692Z",
     "shell.execute_reply": "2021-03-14T14:40:20.342117Z"
    }
   },
   "outputs": [],
   "source": [
    "r = requests.post(dataUrl, data= {\n",
    "    \"sheet_id\": tableauData[\"sheetId\"],\n",
    "})\n",
    "\n",
    "dataReg = re.search('\\d+;({.*})\\d+;({.*})', r.text, re.MULTILINE)\n",
    "data1 = json.loads(dataReg.group(2))\n",
    "\n",
    "dataJson = data1[\"secondaryInfo\"][\"presModelMap\"][\"dataDictionary\"][\"presModelHolder\"][\"genDataDictionaryPresModel\"][\"dataSegments\"][\"0\"][\"dataColumns\"]"
   ]
  },
  {
   "cell_type": "markdown",
   "metadata": {},
   "source": [
    "Isolate what you want"
   ]
  },
  {
   "cell_type": "code",
   "execution_count": 6,
   "metadata": {
    "execution": {
     "iopub.execute_input": "2021-03-14T14:40:20.347293Z",
     "iopub.status.busy": "2021-03-14T14:40:20.345647Z",
     "iopub.status.idle": "2021-03-14T14:40:20.348016Z",
     "shell.execute_reply": "2021-03-14T14:40:20.348505Z"
    }
   },
   "outputs": [],
   "source": [
    "counties = dataJson[2]['dataValues'][:58]"
   ]
  },
  {
   "cell_type": "code",
   "execution_count": 7,
   "metadata": {
    "execution": {
     "iopub.execute_input": "2021-03-14T14:40:20.352693Z",
     "iopub.status.busy": "2021-03-14T14:40:20.351748Z",
     "iopub.status.idle": "2021-03-14T14:40:20.353614Z",
     "shell.execute_reply": "2021-03-14T14:40:20.354113Z"
    }
   },
   "outputs": [],
   "source": [
    "doses = dataJson[0]['dataValues'][3:61]"
   ]
  },
  {
   "cell_type": "markdown",
   "metadata": {},
   "source": [
    "Data formatting"
   ]
  },
  {
   "cell_type": "code",
   "execution_count": 8,
   "metadata": {
    "execution": {
     "iopub.execute_input": "2021-03-14T14:40:20.358377Z",
     "iopub.status.busy": "2021-03-14T14:40:20.357788Z",
     "iopub.status.idle": "2021-03-14T14:40:20.360555Z",
     "shell.execute_reply": "2021-03-14T14:40:20.360163Z"
    }
   },
   "outputs": [],
   "source": [
    "zipped = dict(zip(counties, doses))"
   ]
  },
  {
   "cell_type": "code",
   "execution_count": 9,
   "metadata": {
    "execution": {
     "iopub.execute_input": "2021-03-14T14:40:20.368464Z",
     "iopub.status.busy": "2021-03-14T14:40:20.367235Z",
     "iopub.status.idle": "2021-03-14T14:40:20.368998Z",
     "shell.execute_reply": "2021-03-14T14:40:20.369534Z"
    }
   },
   "outputs": [],
   "source": [
    "df = pd.Series(zipped).reset_index()"
   ]
  },
  {
   "cell_type": "code",
   "execution_count": 10,
   "metadata": {
    "execution": {
     "iopub.execute_input": "2021-03-14T14:40:20.374645Z",
     "iopub.status.busy": "2021-03-14T14:40:20.373210Z",
     "iopub.status.idle": "2021-03-14T14:40:20.375320Z",
     "shell.execute_reply": "2021-03-14T14:40:20.375755Z"
    }
   },
   "outputs": [],
   "source": [
    "df.columns = ['location','doses']"
   ]
  },
  {
   "cell_type": "markdown",
   "metadata": {},
   "source": [
    "Grab the overall California total"
   ]
  },
  {
   "cell_type": "code",
   "execution_count": 11,
   "metadata": {
    "execution": {
     "iopub.execute_input": "2021-03-14T14:40:20.380961Z",
     "iopub.status.busy": "2021-03-14T14:40:20.379425Z",
     "iopub.status.idle": "2021-03-14T14:40:20.381538Z",
     "shell.execute_reply": "2021-03-14T14:40:20.381928Z"
    }
   },
   "outputs": [],
   "source": [
    "add = {'location':'California','doses':dataJson[0]['dataValues'][2]}"
   ]
  },
  {
   "cell_type": "code",
   "execution_count": 12,
   "metadata": {
    "execution": {
     "iopub.execute_input": "2021-03-14T14:40:20.388397Z",
     "iopub.status.busy": "2021-03-14T14:40:20.387345Z",
     "iopub.status.idle": "2021-03-14T14:40:20.389495Z",
     "shell.execute_reply": "2021-03-14T14:40:20.389871Z"
    }
   },
   "outputs": [],
   "source": [
    "df = df.append(add, ignore_index=True)"
   ]
  },
  {
   "cell_type": "code",
   "execution_count": 13,
   "metadata": {
    "execution": {
     "iopub.execute_input": "2021-03-14T14:40:20.395733Z",
     "iopub.status.busy": "2021-03-14T14:40:20.394217Z",
     "iopub.status.idle": "2021-03-14T14:40:20.396384Z",
     "shell.execute_reply": "2021-03-14T14:40:20.396912Z"
    }
   },
   "outputs": [],
   "source": [
    "df = df.sort_values(by='location')"
   ]
  },
  {
   "cell_type": "code",
   "execution_count": 14,
   "metadata": {
    "execution": {
     "iopub.execute_input": "2021-03-14T14:40:20.403660Z",
     "iopub.status.busy": "2021-03-14T14:40:20.402533Z",
     "iopub.status.idle": "2021-03-14T14:40:20.404654Z",
     "shell.execute_reply": "2021-03-14T14:40:20.405051Z"
    }
   },
   "outputs": [],
   "source": [
    "df = df[df.location == 'California'].append(df[df.location != 'California']).reset_index(drop=True)"
   ]
  },
  {
   "cell_type": "code",
   "execution_count": null,
   "metadata": {},
   "outputs": [],
   "source": []
  },
  {
   "cell_type": "code",
   "execution_count": 15,
   "metadata": {
    "execution": {
     "iopub.execute_input": "2021-03-14T14:40:20.408867Z",
     "iopub.status.busy": "2021-03-14T14:40:20.408332Z",
     "iopub.status.idle": "2021-03-14T14:40:20.426687Z",
     "shell.execute_reply": "2021-03-14T14:40:20.427077Z"
    }
   },
   "outputs": [],
   "source": [
    "tz = pytz.timezone(\"America/New_York\")"
   ]
  },
  {
   "cell_type": "code",
   "execution_count": 16,
   "metadata": {
    "execution": {
     "iopub.execute_input": "2021-03-14T14:40:20.431193Z",
     "iopub.status.busy": "2021-03-14T14:40:20.430348Z",
     "iopub.status.idle": "2021-03-14T14:40:20.431974Z",
     "shell.execute_reply": "2021-03-14T14:40:20.432365Z"
    }
   },
   "outputs": [],
   "source": [
    "today = datetime.now(tz).date()"
   ]
  },
  {
   "cell_type": "code",
   "execution_count": 17,
   "metadata": {
    "execution": {
     "iopub.execute_input": "2021-03-14T14:40:20.437598Z",
     "iopub.status.busy": "2021-03-14T14:40:20.435842Z",
     "iopub.status.idle": "2021-03-14T14:40:20.438307Z",
     "shell.execute_reply": "2021-03-14T14:40:20.438858Z"
    }
   },
   "outputs": [],
   "source": [
    "data_dir = os.path.join(os.path.abspath(\"\"), \"data\")"
   ]
  },
  {
   "cell_type": "code",
   "execution_count": 18,
   "metadata": {
    "execution": {
     "iopub.execute_input": "2021-03-14T14:40:20.443726Z",
     "iopub.status.busy": "2021-03-14T14:40:20.442813Z",
     "iopub.status.idle": "2021-03-14T14:40:20.447683Z",
     "shell.execute_reply": "2021-03-14T14:40:20.447111Z"
    }
   },
   "outputs": [],
   "source": [
    "df.to_csv(os.path.join(data_dir, f\"{today}.csv\"), index=False)"
   ]
  },
  {
   "cell_type": "code",
   "execution_count": null,
   "metadata": {},
   "outputs": [],
   "source": []
  }
 ],
 "metadata": {
  "kernelspec": {
   "display_name": "Python 3",
   "language": "python",
   "name": "python3"
  },
  "language_info": {
   "codemirror_mode": {
    "name": "ipython",
    "version": 3
   },
   "file_extension": ".py",
   "mimetype": "text/x-python",
   "name": "python",
   "nbconvert_exporter": "python",
   "pygments_lexer": "ipython3",
   "version": "3.8.8"
  }
 },
 "nbformat": 4,
 "nbformat_minor": 4
}
