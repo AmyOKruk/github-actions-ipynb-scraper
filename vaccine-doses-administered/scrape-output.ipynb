{
 "cells": [
  {
   "cell_type": "markdown",
   "metadata": {},
   "source": [
    "# California COVID vaccinations scrape"
   ]
  },
  {
   "cell_type": "markdown",
   "metadata": {},
   "source": [
    "By [Amy O'Kruk](https://twitter.com/amyokruk)"
   ]
  },
  {
   "cell_type": "markdown",
   "metadata": {},
   "source": [
    "Downloads data on vaccine doses administered by county and statewide from a Tableau-powered dashboard from the California Department of Public Health."
   ]
  },
  {
   "cell_type": "code",
   "execution_count": 1,
   "metadata": {
    "execution": {
     "iopub.execute_input": "2021-03-20T01:30:05.639226Z",
     "iopub.status.busy": "2021-03-20T01:30:05.638591Z",
     "iopub.status.idle": "2021-03-20T01:30:06.009884Z",
     "shell.execute_reply": "2021-03-20T01:30:06.008765Z"
    }
   },
   "outputs": [],
   "source": [
    "import pandas as pd\n",
    "import requests\n",
    "from bs4 import BeautifulSoup\n",
    "import json\n",
    "import re\n",
    "import time\n",
    "from time import gmtime, strftime \n",
    "import os\n",
    "import pytz\n",
    "from datetime import datetime"
   ]
  },
  {
   "cell_type": "markdown",
   "metadata": {},
   "source": [
    "Scrape the dashboard page"
   ]
  },
  {
   "cell_type": "code",
   "execution_count": 2,
   "metadata": {
    "execution": {
     "iopub.execute_input": "2021-03-20T01:30:06.017627Z",
     "iopub.status.busy": "2021-03-20T01:30:06.014277Z",
     "iopub.status.idle": "2021-03-20T01:30:06.224049Z",
     "shell.execute_reply": "2021-03-20T01:30:06.223248Z"
    }
   },
   "outputs": [],
   "source": [
    "url = \"https://public.tableau.com/interactive/views/COVID-19VaccineDashboardPublic/Vaccine?:embed=y&:showVizHome=n&:apiID=host0\"\n",
    "\n",
    "r = requests.get(url)\n",
    "soup = BeautifulSoup(r.text, \"html.parser\")"
   ]
  },
  {
   "cell_type": "code",
   "execution_count": 3,
   "metadata": {
    "execution": {
     "iopub.execute_input": "2021-03-20T01:30:06.231117Z",
     "iopub.status.busy": "2021-03-20T01:30:06.230478Z",
     "iopub.status.idle": "2021-03-20T01:30:06.232072Z",
     "shell.execute_reply": "2021-03-20T01:30:06.231618Z"
    }
   },
   "outputs": [],
   "source": [
    "tableauData = json.loads(soup.find(\"textarea\",{\"id\": \"tsConfigContainer\"}).text)"
   ]
  },
  {
   "cell_type": "markdown",
   "metadata": {},
   "source": [
    "Get the link to the Tableau data"
   ]
  },
  {
   "cell_type": "code",
   "execution_count": 4,
   "metadata": {
    "execution": {
     "iopub.execute_input": "2021-03-20T01:30:06.236253Z",
     "iopub.status.busy": "2021-03-20T01:30:06.235043Z",
     "iopub.status.idle": "2021-03-20T01:30:06.236854Z",
     "shell.execute_reply": "2021-03-20T01:30:06.237276Z"
    }
   },
   "outputs": [],
   "source": [
    "dataUrl = f'https://public.tableau.com{tableauData[\"vizql_root\"]}/bootstrapSession/sessions/{tableauData[\"sessionid\"]}'"
   ]
  },
  {
   "cell_type": "code",
   "execution_count": 5,
   "metadata": {
    "execution": {
     "iopub.execute_input": "2021-03-20T01:30:06.243617Z",
     "iopub.status.busy": "2021-03-20T01:30:06.243091Z",
     "iopub.status.idle": "2021-03-20T01:30:06.378700Z",
     "shell.execute_reply": "2021-03-20T01:30:06.377912Z"
    }
   },
   "outputs": [],
   "source": [
    "r = requests.post(dataUrl, data= {\n",
    "    \"sheet_id\": tableauData[\"sheetId\"],\n",
    "})\n",
    "\n",
    "dataReg = re.search('\\d+;({.*})\\d+;({.*})', r.text, re.MULTILINE)\n",
    "data1 = json.loads(dataReg.group(2))\n",
    "\n",
    "dataJson = data1[\"secondaryInfo\"][\"presModelMap\"][\"dataDictionary\"][\"presModelHolder\"][\"genDataDictionaryPresModel\"][\"dataSegments\"][\"0\"][\"dataColumns\"]"
   ]
  },
  {
   "cell_type": "markdown",
   "metadata": {},
   "source": [
    "Isolate what you want"
   ]
  },
  {
   "cell_type": "code",
   "execution_count": 6,
   "metadata": {
    "execution": {
     "iopub.execute_input": "2021-03-20T01:30:06.383516Z",
     "iopub.status.busy": "2021-03-20T01:30:06.382323Z",
     "iopub.status.idle": "2021-03-20T01:30:06.384116Z",
     "shell.execute_reply": "2021-03-20T01:30:06.384568Z"
    }
   },
   "outputs": [],
   "source": [
    "counties = dataJson[2]['dataValues'][:58]"
   ]
  },
  {
   "cell_type": "code",
   "execution_count": 7,
   "metadata": {
    "execution": {
     "iopub.execute_input": "2021-03-20T01:30:06.388802Z",
     "iopub.status.busy": "2021-03-20T01:30:06.387579Z",
     "iopub.status.idle": "2021-03-20T01:30:06.389403Z",
     "shell.execute_reply": "2021-03-20T01:30:06.389829Z"
    }
   },
   "outputs": [],
   "source": [
    "doses = dataJson[0]['dataValues'][3:61]"
   ]
  },
  {
   "cell_type": "markdown",
   "metadata": {},
   "source": [
    "Data formatting"
   ]
  },
  {
   "cell_type": "code",
   "execution_count": 8,
   "metadata": {
    "execution": {
     "iopub.execute_input": "2021-03-20T01:30:06.394007Z",
     "iopub.status.busy": "2021-03-20T01:30:06.392849Z",
     "iopub.status.idle": "2021-03-20T01:30:06.394661Z",
     "shell.execute_reply": "2021-03-20T01:30:06.395089Z"
    }
   },
   "outputs": [],
   "source": [
    "zipped = dict(zip(counties, doses))"
   ]
  },
  {
   "cell_type": "code",
   "execution_count": 9,
   "metadata": {
    "execution": {
     "iopub.execute_input": "2021-03-20T01:30:06.401568Z",
     "iopub.status.busy": "2021-03-20T01:30:06.400327Z",
     "iopub.status.idle": "2021-03-20T01:30:06.402163Z",
     "shell.execute_reply": "2021-03-20T01:30:06.402587Z"
    }
   },
   "outputs": [],
   "source": [
    "df = pd.Series(zipped).reset_index()"
   ]
  },
  {
   "cell_type": "code",
   "execution_count": 10,
   "metadata": {
    "execution": {
     "iopub.execute_input": "2021-03-20T01:30:06.406998Z",
     "iopub.status.busy": "2021-03-20T01:30:06.405810Z",
     "iopub.status.idle": "2021-03-20T01:30:06.407596Z",
     "shell.execute_reply": "2021-03-20T01:30:06.408021Z"
    }
   },
   "outputs": [],
   "source": [
    "df.columns = ['location','doses']"
   ]
  },
  {
   "cell_type": "markdown",
   "metadata": {},
   "source": [
    "Grab the overall California total"
   ]
  },
  {
   "cell_type": "code",
   "execution_count": 11,
   "metadata": {
    "execution": {
     "iopub.execute_input": "2021-03-20T01:30:06.412360Z",
     "iopub.status.busy": "2021-03-20T01:30:06.411132Z",
     "iopub.status.idle": "2021-03-20T01:30:06.412962Z",
     "shell.execute_reply": "2021-03-20T01:30:06.413386Z"
    }
   },
   "outputs": [],
   "source": [
    "add = {'location':'California','doses':dataJson[0]['dataValues'][2]}"
   ]
  },
  {
   "cell_type": "code",
   "execution_count": 12,
   "metadata": {
    "execution": {
     "iopub.execute_input": "2021-03-20T01:30:06.420365Z",
     "iopub.status.busy": "2021-03-20T01:30:06.419111Z",
     "iopub.status.idle": "2021-03-20T01:30:06.420971Z",
     "shell.execute_reply": "2021-03-20T01:30:06.421398Z"
    }
   },
   "outputs": [],
   "source": [
    "df = df.append(add, ignore_index=True)"
   ]
  },
  {
   "cell_type": "code",
   "execution_count": 13,
   "metadata": {
    "execution": {
     "iopub.execute_input": "2021-03-20T01:30:06.426274Z",
     "iopub.status.busy": "2021-03-20T01:30:06.425117Z",
     "iopub.status.idle": "2021-03-20T01:30:06.426869Z",
     "shell.execute_reply": "2021-03-20T01:30:06.427293Z"
    }
   },
   "outputs": [],
   "source": [
    "df = df.sort_values(by='location')"
   ]
  },
  {
   "cell_type": "code",
   "execution_count": 14,
   "metadata": {
    "execution": {
     "iopub.execute_input": "2021-03-20T01:30:06.433552Z",
     "iopub.status.busy": "2021-03-20T01:30:06.432445Z",
     "iopub.status.idle": "2021-03-20T01:30:06.434183Z",
     "shell.execute_reply": "2021-03-20T01:30:06.434612Z"
    }
   },
   "outputs": [],
   "source": [
    "df = df[df.location == 'California'].append(df[df.location != 'California']).reset_index(drop=True)"
   ]
  },
  {
   "cell_type": "code",
   "execution_count": null,
   "metadata": {},
   "outputs": [],
   "source": []
  },
  {
   "cell_type": "code",
   "execution_count": 15,
   "metadata": {
    "execution": {
     "iopub.execute_input": "2021-03-20T01:30:06.437918Z",
     "iopub.status.busy": "2021-03-20T01:30:06.437397Z",
     "iopub.status.idle": "2021-03-20T01:30:06.454295Z",
     "shell.execute_reply": "2021-03-20T01:30:06.453815Z"
    }
   },
   "outputs": [],
   "source": [
    "tz = pytz.timezone(\"America/New_York\")"
   ]
  },
  {
   "cell_type": "code",
   "execution_count": 16,
   "metadata": {
    "execution": {
     "iopub.execute_input": "2021-03-20T01:30:06.458286Z",
     "iopub.status.busy": "2021-03-20T01:30:06.457187Z",
     "iopub.status.idle": "2021-03-20T01:30:06.458893Z",
     "shell.execute_reply": "2021-03-20T01:30:06.459320Z"
    }
   },
   "outputs": [],
   "source": [
    "today = datetime.now(tz).date()"
   ]
  },
  {
   "cell_type": "code",
   "execution_count": 17,
   "metadata": {
    "execution": {
     "iopub.execute_input": "2021-03-20T01:30:06.463516Z",
     "iopub.status.busy": "2021-03-20T01:30:06.462352Z",
     "iopub.status.idle": "2021-03-20T01:30:06.464179Z",
     "shell.execute_reply": "2021-03-20T01:30:06.464648Z"
    }
   },
   "outputs": [],
   "source": [
    "data_dir = os.path.join(os.path.abspath(\"\"), \"data\")"
   ]
  },
  {
   "cell_type": "code",
   "execution_count": 18,
   "metadata": {
    "execution": {
     "iopub.execute_input": "2021-03-20T01:30:06.468397Z",
     "iopub.status.busy": "2021-03-20T01:30:06.467850Z",
     "iopub.status.idle": "2021-03-20T01:30:06.472106Z",
     "shell.execute_reply": "2021-03-20T01:30:06.471592Z"
    }
   },
   "outputs": [],
   "source": [
    "df.to_csv(os.path.join(data_dir, f\"{today}.csv\"), index=False)"
   ]
  },
  {
   "cell_type": "code",
   "execution_count": null,
   "metadata": {},
   "outputs": [],
   "source": []
  }
 ],
 "metadata": {
  "kernelspec": {
   "display_name": "Python 3",
   "language": "python",
   "name": "python3"
  },
  "language_info": {
   "codemirror_mode": {
    "name": "ipython",
    "version": 3
   },
   "file_extension": ".py",
   "mimetype": "text/x-python",
   "name": "python",
   "nbconvert_exporter": "python",
   "pygments_lexer": "ipython3",
   "version": "3.8.8"
  }
 },
 "nbformat": 4,
 "nbformat_minor": 4
}
