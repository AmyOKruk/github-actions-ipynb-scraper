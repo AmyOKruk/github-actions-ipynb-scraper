{
 "cells": [
  {
   "cell_type": "markdown",
   "metadata": {},
   "source": [
    "# California COVID vaccinations scrape"
   ]
  },
  {
   "cell_type": "markdown",
   "metadata": {},
   "source": [
    "By [Amy O'Kruk](https://twitter.com/amyokruk)"
   ]
  },
  {
   "cell_type": "markdown",
   "metadata": {},
   "source": [
    "Downloads data on vaccine doses administered by county and statewide from a Tableau-powered dashboard from the California Department of Public Health."
   ]
  },
  {
   "cell_type": "code",
   "execution_count": 1,
   "metadata": {
    "execution": {
     "iopub.execute_input": "2021-03-23T21:12:17.641965Z",
     "iopub.status.busy": "2021-03-23T21:12:17.641289Z",
     "iopub.status.idle": "2021-03-23T21:12:18.080004Z",
     "shell.execute_reply": "2021-03-23T21:12:18.079382Z"
    }
   },
   "outputs": [],
   "source": [
    "import pandas as pd\n",
    "import requests\n",
    "from bs4 import BeautifulSoup\n",
    "import json\n",
    "import re\n",
    "import time\n",
    "from time import gmtime, strftime \n",
    "import os\n",
    "import pytz\n",
    "from datetime import datetime"
   ]
  },
  {
   "cell_type": "markdown",
   "metadata": {},
   "source": [
    "Scrape the dashboard page"
   ]
  },
  {
   "cell_type": "code",
   "execution_count": 2,
   "metadata": {
    "execution": {
     "iopub.execute_input": "2021-03-23T21:12:18.085700Z",
     "iopub.status.busy": "2021-03-23T21:12:18.083250Z",
     "iopub.status.idle": "2021-03-23T21:12:18.579755Z",
     "shell.execute_reply": "2021-03-23T21:12:18.579245Z"
    }
   },
   "outputs": [],
   "source": [
    "url = \"https://public.tableau.com/interactive/views/COVID-19VaccineDashboardPublic/Vaccine?:embed=y&:showVizHome=n&:apiID=host0\"\n",
    "\n",
    "r = requests.get(url)\n",
    "soup = BeautifulSoup(r.text, \"html.parser\")"
   ]
  },
  {
   "cell_type": "code",
   "execution_count": 3,
   "metadata": {
    "execution": {
     "iopub.execute_input": "2021-03-23T21:12:18.584459Z",
     "iopub.status.busy": "2021-03-23T21:12:18.583854Z",
     "iopub.status.idle": "2021-03-23T21:12:18.587107Z",
     "shell.execute_reply": "2021-03-23T21:12:18.587561Z"
    }
   },
   "outputs": [],
   "source": [
    "tableauData = json.loads(soup.find(\"textarea\",{\"id\": \"tsConfigContainer\"}).text)"
   ]
  },
  {
   "cell_type": "markdown",
   "metadata": {},
   "source": [
    "Get the link to the Tableau data"
   ]
  },
  {
   "cell_type": "code",
   "execution_count": 4,
   "metadata": {
    "execution": {
     "iopub.execute_input": "2021-03-23T21:12:18.593121Z",
     "iopub.status.busy": "2021-03-23T21:12:18.592438Z",
     "iopub.status.idle": "2021-03-23T21:12:18.598158Z",
     "shell.execute_reply": "2021-03-23T21:12:18.597247Z"
    }
   },
   "outputs": [],
   "source": [
    "dataUrl = f'https://public.tableau.com{tableauData[\"vizql_root\"]}/bootstrapSession/sessions/{tableauData[\"sessionid\"]}'"
   ]
  },
  {
   "cell_type": "code",
   "execution_count": 5,
   "metadata": {
    "execution": {
     "iopub.execute_input": "2021-03-23T21:12:18.605052Z",
     "iopub.status.busy": "2021-03-23T21:12:18.602815Z",
     "iopub.status.idle": "2021-03-23T21:12:19.746327Z",
     "shell.execute_reply": "2021-03-23T21:12:19.745152Z"
    }
   },
   "outputs": [],
   "source": [
    "r = requests.post(dataUrl, data= {\n",
    "    \"sheet_id\": tableauData[\"sheetId\"],\n",
    "})\n",
    "\n",
    "dataReg = re.search('\\d+;({.*})\\d+;({.*})', r.text, re.MULTILINE)\n",
    "data1 = json.loads(dataReg.group(2))\n",
    "\n",
    "dataJson = data1[\"secondaryInfo\"][\"presModelMap\"][\"dataDictionary\"][\"presModelHolder\"][\"genDataDictionaryPresModel\"][\"dataSegments\"][\"0\"][\"dataColumns\"]"
   ]
  },
  {
   "cell_type": "markdown",
   "metadata": {},
   "source": [
    "Isolate what you want"
   ]
  },
  {
   "cell_type": "code",
   "execution_count": 6,
   "metadata": {
    "execution": {
     "iopub.execute_input": "2021-03-23T21:12:19.751338Z",
     "iopub.status.busy": "2021-03-23T21:12:19.750646Z",
     "iopub.status.idle": "2021-03-23T21:12:19.754995Z",
     "shell.execute_reply": "2021-03-23T21:12:19.754348Z"
    }
   },
   "outputs": [],
   "source": [
    "counties = dataJson[2]['dataValues'][:58]"
   ]
  },
  {
   "cell_type": "code",
   "execution_count": 7,
   "metadata": {
    "execution": {
     "iopub.execute_input": "2021-03-23T21:12:19.759469Z",
     "iopub.status.busy": "2021-03-23T21:12:19.758785Z",
     "iopub.status.idle": "2021-03-23T21:12:19.763449Z",
     "shell.execute_reply": "2021-03-23T21:12:19.762857Z"
    }
   },
   "outputs": [],
   "source": [
    "doses = dataJson[0]['dataValues'][3:61]"
   ]
  },
  {
   "cell_type": "markdown",
   "metadata": {},
   "source": [
    "Data formatting"
   ]
  },
  {
   "cell_type": "code",
   "execution_count": 8,
   "metadata": {
    "execution": {
     "iopub.execute_input": "2021-03-23T21:12:19.767916Z",
     "iopub.status.busy": "2021-03-23T21:12:19.767233Z",
     "iopub.status.idle": "2021-03-23T21:12:19.771532Z",
     "shell.execute_reply": "2021-03-23T21:12:19.770967Z"
    }
   },
   "outputs": [],
   "source": [
    "zipped = dict(zip(counties, doses))"
   ]
  },
  {
   "cell_type": "code",
   "execution_count": 9,
   "metadata": {
    "execution": {
     "iopub.execute_input": "2021-03-23T21:12:19.778546Z",
     "iopub.status.busy": "2021-03-23T21:12:19.777899Z",
     "iopub.status.idle": "2021-03-23T21:12:19.782270Z",
     "shell.execute_reply": "2021-03-23T21:12:19.781728Z"
    }
   },
   "outputs": [],
   "source": [
    "df = pd.Series(zipped).reset_index()"
   ]
  },
  {
   "cell_type": "code",
   "execution_count": 10,
   "metadata": {
    "execution": {
     "iopub.execute_input": "2021-03-23T21:12:19.786737Z",
     "iopub.status.busy": "2021-03-23T21:12:19.786095Z",
     "iopub.status.idle": "2021-03-23T21:12:19.790431Z",
     "shell.execute_reply": "2021-03-23T21:12:19.789894Z"
    }
   },
   "outputs": [],
   "source": [
    "df.columns = ['location','doses']"
   ]
  },
  {
   "cell_type": "markdown",
   "metadata": {},
   "source": [
    "Grab the overall California total"
   ]
  },
  {
   "cell_type": "code",
   "execution_count": 11,
   "metadata": {
    "execution": {
     "iopub.execute_input": "2021-03-23T21:12:19.794797Z",
     "iopub.status.busy": "2021-03-23T21:12:19.794162Z",
     "iopub.status.idle": "2021-03-23T21:12:19.798320Z",
     "shell.execute_reply": "2021-03-23T21:12:19.797760Z"
    }
   },
   "outputs": [],
   "source": [
    "add = {'location':'California','doses':dataJson[0]['dataValues'][2]}"
   ]
  },
  {
   "cell_type": "code",
   "execution_count": 12,
   "metadata": {
    "execution": {
     "iopub.execute_input": "2021-03-23T21:12:19.805776Z",
     "iopub.status.busy": "2021-03-23T21:12:19.805152Z",
     "iopub.status.idle": "2021-03-23T21:12:19.809404Z",
     "shell.execute_reply": "2021-03-23T21:12:19.808843Z"
    }
   },
   "outputs": [],
   "source": [
    "df = df.append(add, ignore_index=True)"
   ]
  },
  {
   "cell_type": "code",
   "execution_count": 13,
   "metadata": {
    "execution": {
     "iopub.execute_input": "2021-03-23T21:12:19.814257Z",
     "iopub.status.busy": "2021-03-23T21:12:19.813642Z",
     "iopub.status.idle": "2021-03-23T21:12:19.817152Z",
     "shell.execute_reply": "2021-03-23T21:12:19.817679Z"
    }
   },
   "outputs": [],
   "source": [
    "df = df.sort_values(by='location')"
   ]
  },
  {
   "cell_type": "code",
   "execution_count": 14,
   "metadata": {
    "execution": {
     "iopub.execute_input": "2021-03-23T21:12:19.824468Z",
     "iopub.status.busy": "2021-03-23T21:12:19.823720Z",
     "iopub.status.idle": "2021-03-23T21:12:19.827805Z",
     "shell.execute_reply": "2021-03-23T21:12:19.827263Z"
    }
   },
   "outputs": [],
   "source": [
    "df = df[df.location == 'California'].append(df[df.location != 'California']).reset_index(drop=True)"
   ]
  },
  {
   "cell_type": "code",
   "execution_count": null,
   "metadata": {},
   "outputs": [],
   "source": []
  },
  {
   "cell_type": "code",
   "execution_count": 15,
   "metadata": {
    "execution": {
     "iopub.execute_input": "2021-03-23T21:12:19.831591Z",
     "iopub.status.busy": "2021-03-23T21:12:19.830975Z",
     "iopub.status.idle": "2021-03-23T21:12:19.853494Z",
     "shell.execute_reply": "2021-03-23T21:12:19.852434Z"
    }
   },
   "outputs": [],
   "source": [
    "tz = pytz.timezone(\"America/New_York\")"
   ]
  },
  {
   "cell_type": "code",
   "execution_count": 16,
   "metadata": {
    "execution": {
     "iopub.execute_input": "2021-03-23T21:12:19.857588Z",
     "iopub.status.busy": "2021-03-23T21:12:19.856999Z",
     "iopub.status.idle": "2021-03-23T21:12:19.860773Z",
     "shell.execute_reply": "2021-03-23T21:12:19.860276Z"
    }
   },
   "outputs": [],
   "source": [
    "today = datetime.now(tz).date()"
   ]
  },
  {
   "cell_type": "code",
   "execution_count": 17,
   "metadata": {
    "execution": {
     "iopub.execute_input": "2021-03-23T21:12:19.864626Z",
     "iopub.status.busy": "2021-03-23T21:12:19.864033Z",
     "iopub.status.idle": "2021-03-23T21:12:19.867263Z",
     "shell.execute_reply": "2021-03-23T21:12:19.867762Z"
    }
   },
   "outputs": [],
   "source": [
    "data_dir = os.path.join(os.path.abspath(\"\"), \"data\")"
   ]
  },
  {
   "cell_type": "code",
   "execution_count": 18,
   "metadata": {
    "execution": {
     "iopub.execute_input": "2021-03-23T21:12:19.871901Z",
     "iopub.status.busy": "2021-03-23T21:12:19.871297Z",
     "iopub.status.idle": "2021-03-23T21:12:19.876435Z",
     "shell.execute_reply": "2021-03-23T21:12:19.875884Z"
    }
   },
   "outputs": [],
   "source": [
    "df.to_csv(os.path.join(data_dir, f\"{today}.csv\"), index=False)"
   ]
  },
  {
   "cell_type": "code",
   "execution_count": null,
   "metadata": {},
   "outputs": [],
   "source": []
  }
 ],
 "metadata": {
  "kernelspec": {
   "display_name": "Python 3",
   "language": "python",
   "name": "python3"
  },
  "language_info": {
   "codemirror_mode": {
    "name": "ipython",
    "version": 3
   },
   "file_extension": ".py",
   "mimetype": "text/x-python",
   "name": "python",
   "nbconvert_exporter": "python",
   "pygments_lexer": "ipython3",
   "version": "3.8.8"
  }
 },
 "nbformat": 4,
 "nbformat_minor": 4
}
