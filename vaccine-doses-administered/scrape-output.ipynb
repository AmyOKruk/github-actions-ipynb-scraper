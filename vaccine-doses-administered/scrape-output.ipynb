{
 "cells": [
  {
   "cell_type": "markdown",
   "metadata": {},
   "source": [
    "# California COVID vaccinations scrape"
   ]
  },
  {
   "cell_type": "markdown",
   "metadata": {},
   "source": [
    "By [Amy O'Kruk](https://twitter.com/amyokruk)"
   ]
  },
  {
   "cell_type": "markdown",
   "metadata": {},
   "source": [
    "Downloads data on vaccine doses administered by county and statewide from a Tableau-powered dashboard from the California Department of Public Health."
   ]
  },
  {
   "cell_type": "code",
   "execution_count": 1,
   "metadata": {
    "execution": {
     "iopub.execute_input": "2021-03-20T22:13:48.035001Z",
     "iopub.status.busy": "2021-03-20T22:13:48.034414Z",
     "iopub.status.idle": "2021-03-20T22:13:48.419184Z",
     "shell.execute_reply": "2021-03-20T22:13:48.417823Z"
    }
   },
   "outputs": [],
   "source": [
    "import pandas as pd\n",
    "import requests\n",
    "from bs4 import BeautifulSoup\n",
    "import json\n",
    "import re\n",
    "import time\n",
    "from time import gmtime, strftime \n",
    "import os\n",
    "import pytz\n",
    "from datetime import datetime"
   ]
  },
  {
   "cell_type": "markdown",
   "metadata": {},
   "source": [
    "Scrape the dashboard page"
   ]
  },
  {
   "cell_type": "code",
   "execution_count": 2,
   "metadata": {
    "execution": {
     "iopub.execute_input": "2021-03-20T22:13:48.424750Z",
     "iopub.status.busy": "2021-03-20T22:13:48.422645Z",
     "iopub.status.idle": "2021-03-20T22:13:48.885338Z",
     "shell.execute_reply": "2021-03-20T22:13:48.886078Z"
    }
   },
   "outputs": [],
   "source": [
    "url = \"https://public.tableau.com/interactive/views/COVID-19VaccineDashboardPublic/Vaccine?:embed=y&:showVizHome=n&:apiID=host0\"\n",
    "\n",
    "r = requests.get(url)\n",
    "soup = BeautifulSoup(r.text, \"html.parser\")"
   ]
  },
  {
   "cell_type": "code",
   "execution_count": 3,
   "metadata": {
    "execution": {
     "iopub.execute_input": "2021-03-20T22:13:48.891219Z",
     "iopub.status.busy": "2021-03-20T22:13:48.890848Z",
     "iopub.status.idle": "2021-03-20T22:13:48.892263Z",
     "shell.execute_reply": "2021-03-20T22:13:48.892553Z"
    }
   },
   "outputs": [],
   "source": [
    "tableauData = json.loads(soup.find(\"textarea\",{\"id\": \"tsConfigContainer\"}).text)"
   ]
  },
  {
   "cell_type": "markdown",
   "metadata": {},
   "source": [
    "Get the link to the Tableau data"
   ]
  },
  {
   "cell_type": "code",
   "execution_count": 4,
   "metadata": {
    "execution": {
     "iopub.execute_input": "2021-03-20T22:13:48.896068Z",
     "iopub.status.busy": "2021-03-20T22:13:48.895093Z",
     "iopub.status.idle": "2021-03-20T22:13:48.896545Z",
     "shell.execute_reply": "2021-03-20T22:13:48.896846Z"
    }
   },
   "outputs": [],
   "source": [
    "dataUrl = f'https://public.tableau.com{tableauData[\"vizql_root\"]}/bootstrapSession/sessions/{tableauData[\"sessionid\"]}'"
   ]
  },
  {
   "cell_type": "code",
   "execution_count": 5,
   "metadata": {
    "execution": {
     "iopub.execute_input": "2021-03-20T22:13:48.902096Z",
     "iopub.status.busy": "2021-03-20T22:13:48.901615Z",
     "iopub.status.idle": "2021-03-20T22:13:49.363876Z",
     "shell.execute_reply": "2021-03-20T22:13:49.363269Z"
    }
   },
   "outputs": [],
   "source": [
    "r = requests.post(dataUrl, data= {\n",
    "    \"sheet_id\": tableauData[\"sheetId\"],\n",
    "})\n",
    "\n",
    "dataReg = re.search('\\d+;({.*})\\d+;({.*})', r.text, re.MULTILINE)\n",
    "data1 = json.loads(dataReg.group(2))\n",
    "\n",
    "dataJson = data1[\"secondaryInfo\"][\"presModelMap\"][\"dataDictionary\"][\"presModelHolder\"][\"genDataDictionaryPresModel\"][\"dataSegments\"][\"0\"][\"dataColumns\"]"
   ]
  },
  {
   "cell_type": "markdown",
   "metadata": {},
   "source": [
    "Isolate what you want"
   ]
  },
  {
   "cell_type": "code",
   "execution_count": 6,
   "metadata": {
    "execution": {
     "iopub.execute_input": "2021-03-20T22:13:49.368896Z",
     "iopub.status.busy": "2021-03-20T22:13:49.367831Z",
     "iopub.status.idle": "2021-03-20T22:13:49.369328Z",
     "shell.execute_reply": "2021-03-20T22:13:49.369645Z"
    }
   },
   "outputs": [],
   "source": [
    "counties = dataJson[2]['dataValues'][:58]"
   ]
  },
  {
   "cell_type": "code",
   "execution_count": 7,
   "metadata": {
    "execution": {
     "iopub.execute_input": "2021-03-20T22:13:49.372827Z",
     "iopub.status.busy": "2021-03-20T22:13:49.372082Z",
     "iopub.status.idle": "2021-03-20T22:13:49.373535Z",
     "shell.execute_reply": "2021-03-20T22:13:49.373845Z"
    }
   },
   "outputs": [],
   "source": [
    "doses = dataJson[0]['dataValues'][3:61]"
   ]
  },
  {
   "cell_type": "markdown",
   "metadata": {},
   "source": [
    "Data formatting"
   ]
  },
  {
   "cell_type": "code",
   "execution_count": 8,
   "metadata": {
    "execution": {
     "iopub.execute_input": "2021-03-20T22:13:49.376928Z",
     "iopub.status.busy": "2021-03-20T22:13:49.376142Z",
     "iopub.status.idle": "2021-03-20T22:13:49.377754Z",
     "shell.execute_reply": "2021-03-20T22:13:49.378098Z"
    }
   },
   "outputs": [],
   "source": [
    "zipped = dict(zip(counties, doses))"
   ]
  },
  {
   "cell_type": "code",
   "execution_count": 9,
   "metadata": {
    "execution": {
     "iopub.execute_input": "2021-03-20T22:13:49.383015Z",
     "iopub.status.busy": "2021-03-20T22:13:49.382604Z",
     "iopub.status.idle": "2021-03-20T22:13:49.384170Z",
     "shell.execute_reply": "2021-03-20T22:13:49.384482Z"
    }
   },
   "outputs": [],
   "source": [
    "df = pd.Series(zipped).reset_index()"
   ]
  },
  {
   "cell_type": "code",
   "execution_count": 10,
   "metadata": {
    "execution": {
     "iopub.execute_input": "2021-03-20T22:13:49.387237Z",
     "iopub.status.busy": "2021-03-20T22:13:49.386872Z",
     "iopub.status.idle": "2021-03-20T22:13:49.388850Z",
     "shell.execute_reply": "2021-03-20T22:13:49.388340Z"
    }
   },
   "outputs": [],
   "source": [
    "df.columns = ['location','doses']"
   ]
  },
  {
   "cell_type": "markdown",
   "metadata": {},
   "source": [
    "Grab the overall California total"
   ]
  },
  {
   "cell_type": "code",
   "execution_count": 11,
   "metadata": {
    "execution": {
     "iopub.execute_input": "2021-03-20T22:13:49.391641Z",
     "iopub.status.busy": "2021-03-20T22:13:49.391275Z",
     "iopub.status.idle": "2021-03-20T22:13:49.393135Z",
     "shell.execute_reply": "2021-03-20T22:13:49.392696Z"
    }
   },
   "outputs": [],
   "source": [
    "add = {'location':'California','doses':dataJson[0]['dataValues'][2]}"
   ]
  },
  {
   "cell_type": "code",
   "execution_count": 12,
   "metadata": {
    "execution": {
     "iopub.execute_input": "2021-03-20T22:13:49.399814Z",
     "iopub.status.busy": "2021-03-20T22:13:49.398804Z",
     "iopub.status.idle": "2021-03-20T22:13:49.400275Z",
     "shell.execute_reply": "2021-03-20T22:13:49.400578Z"
    }
   },
   "outputs": [],
   "source": [
    "df = df.append(add, ignore_index=True)"
   ]
  },
  {
   "cell_type": "code",
   "execution_count": 13,
   "metadata": {
    "execution": {
     "iopub.execute_input": "2021-03-20T22:13:49.403613Z",
     "iopub.status.busy": "2021-03-20T22:13:49.403249Z",
     "iopub.status.idle": "2021-03-20T22:13:49.404711Z",
     "shell.execute_reply": "2021-03-20T22:13:49.405035Z"
    }
   },
   "outputs": [],
   "source": [
    "df = df.sort_values(by='location')"
   ]
  },
  {
   "cell_type": "code",
   "execution_count": 14,
   "metadata": {
    "execution": {
     "iopub.execute_input": "2021-03-20T22:13:49.409611Z",
     "iopub.status.busy": "2021-03-20T22:13:49.409247Z",
     "iopub.status.idle": "2021-03-20T22:13:49.411412Z",
     "shell.execute_reply": "2021-03-20T22:13:49.410995Z"
    }
   },
   "outputs": [],
   "source": [
    "df = df[df.location == 'California'].append(df[df.location != 'California']).reset_index(drop=True)"
   ]
  },
  {
   "cell_type": "code",
   "execution_count": null,
   "metadata": {},
   "outputs": [],
   "source": []
  },
  {
   "cell_type": "code",
   "execution_count": 15,
   "metadata": {
    "execution": {
     "iopub.execute_input": "2021-03-20T22:13:49.414641Z",
     "iopub.status.busy": "2021-03-20T22:13:49.414125Z",
     "iopub.status.idle": "2021-03-20T22:13:49.429442Z",
     "shell.execute_reply": "2021-03-20T22:13:49.429038Z"
    }
   },
   "outputs": [],
   "source": [
    "tz = pytz.timezone(\"America/New_York\")"
   ]
  },
  {
   "cell_type": "code",
   "execution_count": 16,
   "metadata": {
    "execution": {
     "iopub.execute_input": "2021-03-20T22:13:49.433180Z",
     "iopub.status.busy": "2021-03-20T22:13:49.432264Z",
     "iopub.status.idle": "2021-03-20T22:13:49.433670Z",
     "shell.execute_reply": "2021-03-20T22:13:49.433982Z"
    }
   },
   "outputs": [],
   "source": [
    "today = datetime.now(tz).date()"
   ]
  },
  {
   "cell_type": "code",
   "execution_count": 17,
   "metadata": {
    "execution": {
     "iopub.execute_input": "2021-03-20T22:13:49.436866Z",
     "iopub.status.busy": "2021-03-20T22:13:49.436225Z",
     "iopub.status.idle": "2021-03-20T22:13:49.437595Z",
     "shell.execute_reply": "2021-03-20T22:13:49.437876Z"
    }
   },
   "outputs": [],
   "source": [
    "data_dir = os.path.join(os.path.abspath(\"\"), \"data\")"
   ]
  },
  {
   "cell_type": "code",
   "execution_count": 18,
   "metadata": {
    "execution": {
     "iopub.execute_input": "2021-03-20T22:13:49.441994Z",
     "iopub.status.busy": "2021-03-20T22:13:49.440096Z",
     "iopub.status.idle": "2021-03-20T22:13:49.444292Z",
     "shell.execute_reply": "2021-03-20T22:13:49.443983Z"
    }
   },
   "outputs": [],
   "source": [
    "df.to_csv(os.path.join(data_dir, f\"{today}.csv\"), index=False)"
   ]
  },
  {
   "cell_type": "code",
   "execution_count": null,
   "metadata": {},
   "outputs": [],
   "source": []
  }
 ],
 "metadata": {
  "kernelspec": {
   "display_name": "Python 3",
   "language": "python",
   "name": "python3"
  },
  "language_info": {
   "codemirror_mode": {
    "name": "ipython",
    "version": 3
   },
   "file_extension": ".py",
   "mimetype": "text/x-python",
   "name": "python",
   "nbconvert_exporter": "python",
   "pygments_lexer": "ipython3",
   "version": "3.8.8"
  }
 },
 "nbformat": 4,
 "nbformat_minor": 4
}
