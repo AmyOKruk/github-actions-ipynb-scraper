{
 "cells": [
  {
   "cell_type": "markdown",
   "metadata": {},
   "source": [
    "# California COVID vaccinations scrape"
   ]
  },
  {
   "cell_type": "markdown",
   "metadata": {},
   "source": [
    "By [Amy O'Kruk](https://twitter.com/amyokruk)"
   ]
  },
  {
   "cell_type": "markdown",
   "metadata": {},
   "source": [
    "Downloads data on vaccine doses administered by county and statewide from a Tableau-powered dashboard from the California Department of Public Health."
   ]
  },
  {
   "cell_type": "code",
   "execution_count": 1,
   "metadata": {
    "execution": {
     "iopub.execute_input": "2021-03-15T10:14:25.955088Z",
     "iopub.status.busy": "2021-03-15T10:14:25.953557Z",
     "iopub.status.idle": "2021-03-15T10:14:26.460649Z",
     "shell.execute_reply": "2021-03-15T10:14:26.459188Z"
    }
   },
   "outputs": [],
   "source": [
    "import pandas as pd\n",
    "import requests\n",
    "from bs4 import BeautifulSoup\n",
    "import json\n",
    "import re\n",
    "import time\n",
    "from time import gmtime, strftime \n",
    "import os\n",
    "import pytz\n",
    "from datetime import datetime"
   ]
  },
  {
   "cell_type": "markdown",
   "metadata": {},
   "source": [
    "Scrape the dashboard page"
   ]
  },
  {
   "cell_type": "code",
   "execution_count": 2,
   "metadata": {
    "execution": {
     "iopub.execute_input": "2021-03-15T10:14:26.467665Z",
     "iopub.status.busy": "2021-03-15T10:14:26.464773Z",
     "iopub.status.idle": "2021-03-15T10:14:26.837795Z",
     "shell.execute_reply": "2021-03-15T10:14:26.836829Z"
    }
   },
   "outputs": [],
   "source": [
    "url = \"https://public.tableau.com/interactive/views/COVID-19VaccineDashboardPublic/Vaccine?:embed=y&:showVizHome=n&:apiID=host0\"\n",
    "\n",
    "r = requests.get(url)\n",
    "soup = BeautifulSoup(r.text, \"html.parser\")"
   ]
  },
  {
   "cell_type": "code",
   "execution_count": 3,
   "metadata": {
    "execution": {
     "iopub.execute_input": "2021-03-15T10:14:26.843227Z",
     "iopub.status.busy": "2021-03-15T10:14:26.842702Z",
     "iopub.status.idle": "2021-03-15T10:14:26.846225Z",
     "shell.execute_reply": "2021-03-15T10:14:26.846671Z"
    }
   },
   "outputs": [],
   "source": [
    "tableauData = json.loads(soup.find(\"textarea\",{\"id\": \"tsConfigContainer\"}).text)"
   ]
  },
  {
   "cell_type": "markdown",
   "metadata": {},
   "source": [
    "Get the link to the Tableau data"
   ]
  },
  {
   "cell_type": "code",
   "execution_count": 4,
   "metadata": {
    "execution": {
     "iopub.execute_input": "2021-03-15T10:14:26.850181Z",
     "iopub.status.busy": "2021-03-15T10:14:26.849626Z",
     "iopub.status.idle": "2021-03-15T10:14:26.853492Z",
     "shell.execute_reply": "2021-03-15T10:14:26.853047Z"
    }
   },
   "outputs": [],
   "source": [
    "dataUrl = f'https://public.tableau.com{tableauData[\"vizql_root\"]}/bootstrapSession/sessions/{tableauData[\"sessionid\"]}'"
   ]
  },
  {
   "cell_type": "code",
   "execution_count": 5,
   "metadata": {
    "execution": {
     "iopub.execute_input": "2021-03-15T10:14:26.860173Z",
     "iopub.status.busy": "2021-03-15T10:14:26.859286Z",
     "iopub.status.idle": "2021-03-15T10:14:27.379141Z",
     "shell.execute_reply": "2021-03-15T10:14:27.378607Z"
    }
   },
   "outputs": [],
   "source": [
    "r = requests.post(dataUrl, data= {\n",
    "    \"sheet_id\": tableauData[\"sheetId\"],\n",
    "})\n",
    "\n",
    "dataReg = re.search('\\d+;({.*})\\d+;({.*})', r.text, re.MULTILINE)\n",
    "data1 = json.loads(dataReg.group(2))\n",
    "\n",
    "dataJson = data1[\"secondaryInfo\"][\"presModelMap\"][\"dataDictionary\"][\"presModelHolder\"][\"genDataDictionaryPresModel\"][\"dataSegments\"][\"0\"][\"dataColumns\"]"
   ]
  },
  {
   "cell_type": "markdown",
   "metadata": {},
   "source": [
    "Isolate what you want"
   ]
  },
  {
   "cell_type": "code",
   "execution_count": 6,
   "metadata": {
    "execution": {
     "iopub.execute_input": "2021-03-15T10:14:27.383979Z",
     "iopub.status.busy": "2021-03-15T10:14:27.383053Z",
     "iopub.status.idle": "2021-03-15T10:14:27.385393Z",
     "shell.execute_reply": "2021-03-15T10:14:27.384907Z"
    }
   },
   "outputs": [],
   "source": [
    "counties = dataJson[2]['dataValues'][:58]"
   ]
  },
  {
   "cell_type": "code",
   "execution_count": 7,
   "metadata": {
    "execution": {
     "iopub.execute_input": "2021-03-15T10:14:27.390384Z",
     "iopub.status.busy": "2021-03-15T10:14:27.389104Z",
     "iopub.status.idle": "2021-03-15T10:14:27.390939Z",
     "shell.execute_reply": "2021-03-15T10:14:27.391384Z"
    }
   },
   "outputs": [],
   "source": [
    "doses = dataJson[0]['dataValues'][3:61]"
   ]
  },
  {
   "cell_type": "markdown",
   "metadata": {},
   "source": [
    "Data formatting"
   ]
  },
  {
   "cell_type": "code",
   "execution_count": 8,
   "metadata": {
    "execution": {
     "iopub.execute_input": "2021-03-15T10:14:27.396141Z",
     "iopub.status.busy": "2021-03-15T10:14:27.394797Z",
     "iopub.status.idle": "2021-03-15T10:14:27.396897Z",
     "shell.execute_reply": "2021-03-15T10:14:27.397582Z"
    }
   },
   "outputs": [],
   "source": [
    "zipped = dict(zip(counties, doses))"
   ]
  },
  {
   "cell_type": "code",
   "execution_count": 9,
   "metadata": {
    "execution": {
     "iopub.execute_input": "2021-03-15T10:14:27.404903Z",
     "iopub.status.busy": "2021-03-15T10:14:27.403772Z",
     "iopub.status.idle": "2021-03-15T10:14:27.405875Z",
     "shell.execute_reply": "2021-03-15T10:14:27.406364Z"
    }
   },
   "outputs": [],
   "source": [
    "df = pd.Series(zipped).reset_index()"
   ]
  },
  {
   "cell_type": "code",
   "execution_count": 10,
   "metadata": {
    "execution": {
     "iopub.execute_input": "2021-03-15T10:14:27.410786Z",
     "iopub.status.busy": "2021-03-15T10:14:27.409652Z",
     "iopub.status.idle": "2021-03-15T10:14:27.411509Z",
     "shell.execute_reply": "2021-03-15T10:14:27.411985Z"
    }
   },
   "outputs": [],
   "source": [
    "df.columns = ['location','doses']"
   ]
  },
  {
   "cell_type": "markdown",
   "metadata": {},
   "source": [
    "Grab the overall California total"
   ]
  },
  {
   "cell_type": "code",
   "execution_count": 11,
   "metadata": {
    "execution": {
     "iopub.execute_input": "2021-03-15T10:14:27.417041Z",
     "iopub.status.busy": "2021-03-15T10:14:27.415721Z",
     "iopub.status.idle": "2021-03-15T10:14:27.417701Z",
     "shell.execute_reply": "2021-03-15T10:14:27.418144Z"
    }
   },
   "outputs": [],
   "source": [
    "add = {'location':'California','doses':dataJson[0]['dataValues'][2]}"
   ]
  },
  {
   "cell_type": "code",
   "execution_count": 12,
   "metadata": {
    "execution": {
     "iopub.execute_input": "2021-03-15T10:14:27.425151Z",
     "iopub.status.busy": "2021-03-15T10:14:27.423999Z",
     "iopub.status.idle": "2021-03-15T10:14:27.425949Z",
     "shell.execute_reply": "2021-03-15T10:14:27.426337Z"
    }
   },
   "outputs": [],
   "source": [
    "df = df.append(add, ignore_index=True)"
   ]
  },
  {
   "cell_type": "code",
   "execution_count": 13,
   "metadata": {
    "execution": {
     "iopub.execute_input": "2021-03-15T10:14:27.431232Z",
     "iopub.status.busy": "2021-03-15T10:14:27.430219Z",
     "iopub.status.idle": "2021-03-15T10:14:27.432373Z",
     "shell.execute_reply": "2021-03-15T10:14:27.432782Z"
    }
   },
   "outputs": [],
   "source": [
    "df = df.sort_values(by='location')"
   ]
  },
  {
   "cell_type": "code",
   "execution_count": 14,
   "metadata": {
    "execution": {
     "iopub.execute_input": "2021-03-15T10:14:27.439029Z",
     "iopub.status.busy": "2021-03-15T10:14:27.438089Z",
     "iopub.status.idle": "2021-03-15T10:14:27.440037Z",
     "shell.execute_reply": "2021-03-15T10:14:27.440543Z"
    }
   },
   "outputs": [],
   "source": [
    "df = df[df.location == 'California'].append(df[df.location != 'California']).reset_index(drop=True)"
   ]
  },
  {
   "cell_type": "code",
   "execution_count": null,
   "metadata": {},
   "outputs": [],
   "source": []
  },
  {
   "cell_type": "code",
   "execution_count": 15,
   "metadata": {
    "execution": {
     "iopub.execute_input": "2021-03-15T10:14:27.444222Z",
     "iopub.status.busy": "2021-03-15T10:14:27.443490Z",
     "iopub.status.idle": "2021-03-15T10:14:27.463065Z",
     "shell.execute_reply": "2021-03-15T10:14:27.462518Z"
    }
   },
   "outputs": [],
   "source": [
    "tz = pytz.timezone(\"America/New_York\")"
   ]
  },
  {
   "cell_type": "code",
   "execution_count": 16,
   "metadata": {
    "execution": {
     "iopub.execute_input": "2021-03-15T10:14:27.467521Z",
     "iopub.status.busy": "2021-03-15T10:14:27.466255Z",
     "iopub.status.idle": "2021-03-15T10:14:27.468086Z",
     "shell.execute_reply": "2021-03-15T10:14:27.468561Z"
    }
   },
   "outputs": [],
   "source": [
    "today = datetime.now(tz).date()"
   ]
  },
  {
   "cell_type": "code",
   "execution_count": 17,
   "metadata": {
    "execution": {
     "iopub.execute_input": "2021-03-15T10:14:27.472773Z",
     "iopub.status.busy": "2021-03-15T10:14:27.471764Z",
     "iopub.status.idle": "2021-03-15T10:14:27.474170Z",
     "shell.execute_reply": "2021-03-15T10:14:27.473729Z"
    }
   },
   "outputs": [],
   "source": [
    "data_dir = os.path.join(os.path.abspath(\"\"), \"data\")"
   ]
  },
  {
   "cell_type": "code",
   "execution_count": 18,
   "metadata": {
    "execution": {
     "iopub.execute_input": "2021-03-15T10:14:27.480909Z",
     "iopub.status.busy": "2021-03-15T10:14:27.478648Z",
     "iopub.status.idle": "2021-03-15T10:14:27.483095Z",
     "shell.execute_reply": "2021-03-15T10:14:27.483471Z"
    }
   },
   "outputs": [],
   "source": [
    "df.to_csv(os.path.join(data_dir, f\"{today}.csv\"), index=False)"
   ]
  },
  {
   "cell_type": "code",
   "execution_count": null,
   "metadata": {},
   "outputs": [],
   "source": []
  }
 ],
 "metadata": {
  "kernelspec": {
   "display_name": "Python 3",
   "language": "python",
   "name": "python3"
  },
  "language_info": {
   "codemirror_mode": {
    "name": "ipython",
    "version": 3
   },
   "file_extension": ".py",
   "mimetype": "text/x-python",
   "name": "python",
   "nbconvert_exporter": "python",
   "pygments_lexer": "ipython3",
   "version": "3.8.8"
  }
 },
 "nbformat": 4,
 "nbformat_minor": 4
}
