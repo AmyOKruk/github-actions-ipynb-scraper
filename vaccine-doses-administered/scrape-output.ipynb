{
 "cells": [
  {
   "cell_type": "markdown",
   "metadata": {},
   "source": [
    "# California COVID vaccinations scrape"
   ]
  },
  {
   "cell_type": "markdown",
   "metadata": {},
   "source": [
    "By [Amy O'Kruk](https://twitter.com/amyokruk)"
   ]
  },
  {
   "cell_type": "markdown",
   "metadata": {},
   "source": [
    "Downloads data on vaccine doses administered by county and statewide from a Tableau-powered dashboard from the California Department of Public Health."
   ]
  },
  {
   "cell_type": "code",
   "execution_count": 1,
   "metadata": {
    "execution": {
     "iopub.execute_input": "2021-03-22T17:59:46.520168Z",
     "iopub.status.busy": "2021-03-22T17:59:46.519553Z",
     "iopub.status.idle": "2021-03-22T17:59:46.907532Z",
     "shell.execute_reply": "2021-03-22T17:59:46.906924Z"
    }
   },
   "outputs": [],
   "source": [
    "import pandas as pd\n",
    "import requests\n",
    "from bs4 import BeautifulSoup\n",
    "import json\n",
    "import re\n",
    "import time\n",
    "from time import gmtime, strftime \n",
    "import os\n",
    "import pytz\n",
    "from datetime import datetime"
   ]
  },
  {
   "cell_type": "markdown",
   "metadata": {},
   "source": [
    "Scrape the dashboard page"
   ]
  },
  {
   "cell_type": "code",
   "execution_count": 2,
   "metadata": {
    "execution": {
     "iopub.execute_input": "2021-03-22T17:59:46.913543Z",
     "iopub.status.busy": "2021-03-22T17:59:46.910941Z",
     "iopub.status.idle": "2021-03-22T17:59:47.247326Z",
     "shell.execute_reply": "2021-03-22T17:59:47.247734Z"
    }
   },
   "outputs": [],
   "source": [
    "url = \"https://public.tableau.com/interactive/views/COVID-19VaccineDashboardPublic/Vaccine?:embed=y&:showVizHome=n&:apiID=host0\"\n",
    "\n",
    "r = requests.get(url)\n",
    "soup = BeautifulSoup(r.text, \"html.parser\")"
   ]
  },
  {
   "cell_type": "code",
   "execution_count": 3,
   "metadata": {
    "execution": {
     "iopub.execute_input": "2021-03-22T17:59:47.252606Z",
     "iopub.status.busy": "2021-03-22T17:59:47.252051Z",
     "iopub.status.idle": "2021-03-22T17:59:47.255208Z",
     "shell.execute_reply": "2021-03-22T17:59:47.254115Z"
    }
   },
   "outputs": [],
   "source": [
    "tableauData = json.loads(soup.find(\"textarea\",{\"id\": \"tsConfigContainer\"}).text)"
   ]
  },
  {
   "cell_type": "markdown",
   "metadata": {},
   "source": [
    "Get the link to the Tableau data"
   ]
  },
  {
   "cell_type": "code",
   "execution_count": 4,
   "metadata": {
    "execution": {
     "iopub.execute_input": "2021-03-22T17:59:47.258535Z",
     "iopub.status.busy": "2021-03-22T17:59:47.258010Z",
     "iopub.status.idle": "2021-03-22T17:59:47.262266Z",
     "shell.execute_reply": "2021-03-22T17:59:47.261647Z"
    }
   },
   "outputs": [],
   "source": [
    "dataUrl = f'https://public.tableau.com{tableauData[\"vizql_root\"]}/bootstrapSession/sessions/{tableauData[\"sessionid\"]}'"
   ]
  },
  {
   "cell_type": "code",
   "execution_count": 5,
   "metadata": {
    "execution": {
     "iopub.execute_input": "2021-03-22T17:59:47.268773Z",
     "iopub.status.busy": "2021-03-22T17:59:47.268037Z",
     "iopub.status.idle": "2021-03-22T17:59:47.393683Z",
     "shell.execute_reply": "2021-03-22T17:59:47.393257Z"
    }
   },
   "outputs": [],
   "source": [
    "r = requests.post(dataUrl, data= {\n",
    "    \"sheet_id\": tableauData[\"sheetId\"],\n",
    "})\n",
    "\n",
    "dataReg = re.search('\\d+;({.*})\\d+;({.*})', r.text, re.MULTILINE)\n",
    "data1 = json.loads(dataReg.group(2))\n",
    "\n",
    "dataJson = data1[\"secondaryInfo\"][\"presModelMap\"][\"dataDictionary\"][\"presModelHolder\"][\"genDataDictionaryPresModel\"][\"dataSegments\"][\"0\"][\"dataColumns\"]"
   ]
  },
  {
   "cell_type": "markdown",
   "metadata": {},
   "source": [
    "Isolate what you want"
   ]
  },
  {
   "cell_type": "code",
   "execution_count": 6,
   "metadata": {
    "execution": {
     "iopub.execute_input": "2021-03-22T17:59:47.397488Z",
     "iopub.status.busy": "2021-03-22T17:59:47.396922Z",
     "iopub.status.idle": "2021-03-22T17:59:47.400684Z",
     "shell.execute_reply": "2021-03-22T17:59:47.400124Z"
    }
   },
   "outputs": [],
   "source": [
    "counties = dataJson[2]['dataValues'][:58]"
   ]
  },
  {
   "cell_type": "code",
   "execution_count": 7,
   "metadata": {
    "execution": {
     "iopub.execute_input": "2021-03-22T17:59:47.404474Z",
     "iopub.status.busy": "2021-03-22T17:59:47.404023Z",
     "iopub.status.idle": "2021-03-22T17:59:47.407694Z",
     "shell.execute_reply": "2021-03-22T17:59:47.407248Z"
    }
   },
   "outputs": [],
   "source": [
    "doses = dataJson[0]['dataValues'][3:61]"
   ]
  },
  {
   "cell_type": "markdown",
   "metadata": {},
   "source": [
    "Data formatting"
   ]
  },
  {
   "cell_type": "code",
   "execution_count": 8,
   "metadata": {
    "execution": {
     "iopub.execute_input": "2021-03-22T17:59:47.411157Z",
     "iopub.status.busy": "2021-03-22T17:59:47.410536Z",
     "iopub.status.idle": "2021-03-22T17:59:47.413666Z",
     "shell.execute_reply": "2021-03-22T17:59:47.414077Z"
    }
   },
   "outputs": [],
   "source": [
    "zipped = dict(zip(counties, doses))"
   ]
  },
  {
   "cell_type": "code",
   "execution_count": 9,
   "metadata": {
    "execution": {
     "iopub.execute_input": "2021-03-22T17:59:47.420616Z",
     "iopub.status.busy": "2021-03-22T17:59:47.420016Z",
     "iopub.status.idle": "2021-03-22T17:59:47.423878Z",
     "shell.execute_reply": "2021-03-22T17:59:47.423195Z"
    }
   },
   "outputs": [],
   "source": [
    "df = pd.Series(zipped).reset_index()"
   ]
  },
  {
   "cell_type": "code",
   "execution_count": 10,
   "metadata": {
    "execution": {
     "iopub.execute_input": "2021-03-22T17:59:47.427772Z",
     "iopub.status.busy": "2021-03-22T17:59:47.427264Z",
     "iopub.status.idle": "2021-03-22T17:59:47.431081Z",
     "shell.execute_reply": "2021-03-22T17:59:47.430676Z"
    }
   },
   "outputs": [],
   "source": [
    "df.columns = ['location','doses']"
   ]
  },
  {
   "cell_type": "markdown",
   "metadata": {},
   "source": [
    "Grab the overall California total"
   ]
  },
  {
   "cell_type": "code",
   "execution_count": 11,
   "metadata": {
    "execution": {
     "iopub.execute_input": "2021-03-22T17:59:47.435129Z",
     "iopub.status.busy": "2021-03-22T17:59:47.434645Z",
     "iopub.status.idle": "2021-03-22T17:59:47.438519Z",
     "shell.execute_reply": "2021-03-22T17:59:47.437989Z"
    }
   },
   "outputs": [],
   "source": [
    "add = {'location':'California','doses':dataJson[0]['dataValues'][2]}"
   ]
  },
  {
   "cell_type": "code",
   "execution_count": 12,
   "metadata": {
    "execution": {
     "iopub.execute_input": "2021-03-22T17:59:47.445676Z",
     "iopub.status.busy": "2021-03-22T17:59:47.445102Z",
     "iopub.status.idle": "2021-03-22T17:59:47.449215Z",
     "shell.execute_reply": "2021-03-22T17:59:47.448736Z"
    }
   },
   "outputs": [],
   "source": [
    "df = df.append(add, ignore_index=True)"
   ]
  },
  {
   "cell_type": "code",
   "execution_count": 13,
   "metadata": {
    "execution": {
     "iopub.execute_input": "2021-03-22T17:59:47.453331Z",
     "iopub.status.busy": "2021-03-22T17:59:47.452862Z",
     "iopub.status.idle": "2021-03-22T17:59:47.455827Z",
     "shell.execute_reply": "2021-03-22T17:59:47.456234Z"
    }
   },
   "outputs": [],
   "source": [
    "df = df.sort_values(by='location')"
   ]
  },
  {
   "cell_type": "code",
   "execution_count": 14,
   "metadata": {
    "execution": {
     "iopub.execute_input": "2021-03-22T17:59:47.462986Z",
     "iopub.status.busy": "2021-03-22T17:59:47.462477Z",
     "iopub.status.idle": "2021-03-22T17:59:47.466049Z",
     "shell.execute_reply": "2021-03-22T17:59:47.465587Z"
    }
   },
   "outputs": [],
   "source": [
    "df = df[df.location == 'California'].append(df[df.location != 'California']).reset_index(drop=True)"
   ]
  },
  {
   "cell_type": "code",
   "execution_count": null,
   "metadata": {},
   "outputs": [],
   "source": []
  },
  {
   "cell_type": "code",
   "execution_count": 15,
   "metadata": {
    "execution": {
     "iopub.execute_input": "2021-03-22T17:59:47.469335Z",
     "iopub.status.busy": "2021-03-22T17:59:47.468837Z",
     "iopub.status.idle": "2021-03-22T17:59:47.488701Z",
     "shell.execute_reply": "2021-03-22T17:59:47.488230Z"
    }
   },
   "outputs": [],
   "source": [
    "tz = pytz.timezone(\"America/New_York\")"
   ]
  },
  {
   "cell_type": "code",
   "execution_count": 16,
   "metadata": {
    "execution": {
     "iopub.execute_input": "2021-03-22T17:59:47.492035Z",
     "iopub.status.busy": "2021-03-22T17:59:47.491563Z",
     "iopub.status.idle": "2021-03-22T17:59:47.495034Z",
     "shell.execute_reply": "2021-03-22T17:59:47.495422Z"
    }
   },
   "outputs": [],
   "source": [
    "today = datetime.now(tz).date()"
   ]
  },
  {
   "cell_type": "code",
   "execution_count": 17,
   "metadata": {
    "execution": {
     "iopub.execute_input": "2021-03-22T17:59:47.498904Z",
     "iopub.status.busy": "2021-03-22T17:59:47.498430Z",
     "iopub.status.idle": "2021-03-22T17:59:47.502188Z",
     "shell.execute_reply": "2021-03-22T17:59:47.501612Z"
    }
   },
   "outputs": [],
   "source": [
    "data_dir = os.path.join(os.path.abspath(\"\"), \"data\")"
   ]
  },
  {
   "cell_type": "code",
   "execution_count": 18,
   "metadata": {
    "execution": {
     "iopub.execute_input": "2021-03-22T17:59:47.506215Z",
     "iopub.status.busy": "2021-03-22T17:59:47.505646Z",
     "iopub.status.idle": "2021-03-22T17:59:47.511180Z",
     "shell.execute_reply": "2021-03-22T17:59:47.511685Z"
    }
   },
   "outputs": [],
   "source": [
    "df.to_csv(os.path.join(data_dir, f\"{today}.csv\"), index=False)"
   ]
  },
  {
   "cell_type": "code",
   "execution_count": null,
   "metadata": {},
   "outputs": [],
   "source": []
  }
 ],
 "metadata": {
  "kernelspec": {
   "display_name": "Python 3",
   "language": "python",
   "name": "python3"
  },
  "language_info": {
   "codemirror_mode": {
    "name": "ipython",
    "version": 3
   },
   "file_extension": ".py",
   "mimetype": "text/x-python",
   "name": "python",
   "nbconvert_exporter": "python",
   "pygments_lexer": "ipython3",
   "version": "3.8.8"
  }
 },
 "nbformat": 4,
 "nbformat_minor": 4
}
