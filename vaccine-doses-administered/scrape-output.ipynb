{
 "cells": [
  {
   "cell_type": "markdown",
   "metadata": {},
   "source": [
    "# California COVID vaccinations scrape"
   ]
  },
  {
   "cell_type": "markdown",
   "metadata": {},
   "source": [
    "By [Amy O'Kruk](https://twitter.com/amyokruk)"
   ]
  },
  {
   "cell_type": "markdown",
   "metadata": {},
   "source": [
    "Downloads data on vaccine doses administered by county and statewide from a Tableau-powered dashboard from the California Department of Public Health."
   ]
  },
  {
   "cell_type": "code",
   "execution_count": 1,
   "metadata": {
    "execution": {
     "iopub.execute_input": "2021-03-14T02:28:02.059365Z",
     "iopub.status.busy": "2021-03-14T02:28:02.058665Z",
     "iopub.status.idle": "2021-03-14T02:28:02.481420Z",
     "shell.execute_reply": "2021-03-14T02:28:02.480475Z"
    }
   },
   "outputs": [],
   "source": [
    "import pandas as pd\n",
    "import requests\n",
    "from bs4 import BeautifulSoup\n",
    "import json\n",
    "import re\n",
    "import time\n",
    "from time import gmtime, strftime \n",
    "import os\n",
    "import pytz\n",
    "from datetime import datetime"
   ]
  },
  {
   "cell_type": "markdown",
   "metadata": {},
   "source": [
    "Scrape the dashboard page"
   ]
  },
  {
   "cell_type": "code",
   "execution_count": 2,
   "metadata": {
    "execution": {
     "iopub.execute_input": "2021-03-14T02:28:02.487539Z",
     "iopub.status.busy": "2021-03-14T02:28:02.485024Z",
     "iopub.status.idle": "2021-03-14T02:28:03.185045Z",
     "shell.execute_reply": "2021-03-14T02:28:03.184035Z"
    }
   },
   "outputs": [],
   "source": [
    "url = \"https://public.tableau.com/interactive/views/COVID-19VaccineDashboardPublic/Vaccine?:embed=y&:showVizHome=n&:apiID=host0\"\n",
    "\n",
    "r = requests.get(url)\n",
    "soup = BeautifulSoup(r.text, \"html.parser\")"
   ]
  },
  {
   "cell_type": "code",
   "execution_count": 3,
   "metadata": {
    "execution": {
     "iopub.execute_input": "2021-03-14T02:28:03.190029Z",
     "iopub.status.busy": "2021-03-14T02:28:03.189507Z",
     "iopub.status.idle": "2021-03-14T02:28:03.193107Z",
     "shell.execute_reply": "2021-03-14T02:28:03.192632Z"
    }
   },
   "outputs": [],
   "source": [
    "tableauData = json.loads(soup.find(\"textarea\",{\"id\": \"tsConfigContainer\"}).text)"
   ]
  },
  {
   "cell_type": "markdown",
   "metadata": {},
   "source": [
    "Get the link to the Tableau data"
   ]
  },
  {
   "cell_type": "code",
   "execution_count": 4,
   "metadata": {
    "execution": {
     "iopub.execute_input": "2021-03-14T02:28:03.196621Z",
     "iopub.status.busy": "2021-03-14T02:28:03.196017Z",
     "iopub.status.idle": "2021-03-14T02:28:03.199778Z",
     "shell.execute_reply": "2021-03-14T02:28:03.199357Z"
    }
   },
   "outputs": [],
   "source": [
    "dataUrl = f'https://public.tableau.com{tableauData[\"vizql_root\"]}/bootstrapSession/sessions/{tableauData[\"sessionid\"]}'"
   ]
  },
  {
   "cell_type": "code",
   "execution_count": 5,
   "metadata": {
    "execution": {
     "iopub.execute_input": "2021-03-14T02:28:03.206397Z",
     "iopub.status.busy": "2021-03-14T02:28:03.204200Z",
     "iopub.status.idle": "2021-03-14T02:28:03.535584Z",
     "shell.execute_reply": "2021-03-14T02:28:03.534954Z"
    }
   },
   "outputs": [],
   "source": [
    "r = requests.post(dataUrl, data= {\n",
    "    \"sheet_id\": tableauData[\"sheetId\"],\n",
    "})\n",
    "\n",
    "dataReg = re.search('\\d+;({.*})\\d+;({.*})', r.text, re.MULTILINE)\n",
    "data1 = json.loads(dataReg.group(2))\n",
    "\n",
    "dataJson = data1[\"secondaryInfo\"][\"presModelMap\"][\"dataDictionary\"][\"presModelHolder\"][\"genDataDictionaryPresModel\"][\"dataSegments\"][\"0\"][\"dataColumns\"]"
   ]
  },
  {
   "cell_type": "markdown",
   "metadata": {},
   "source": [
    "Isolate what you want"
   ]
  },
  {
   "cell_type": "code",
   "execution_count": 6,
   "metadata": {
    "execution": {
     "iopub.execute_input": "2021-03-14T02:28:03.539554Z",
     "iopub.status.busy": "2021-03-14T02:28:03.539016Z",
     "iopub.status.idle": "2021-03-14T02:28:03.542799Z",
     "shell.execute_reply": "2021-03-14T02:28:03.541799Z"
    }
   },
   "outputs": [],
   "source": [
    "counties = dataJson[2]['dataValues'][:58]"
   ]
  },
  {
   "cell_type": "code",
   "execution_count": 7,
   "metadata": {
    "execution": {
     "iopub.execute_input": "2021-03-14T02:28:03.546315Z",
     "iopub.status.busy": "2021-03-14T02:28:03.545807Z",
     "iopub.status.idle": "2021-03-14T02:28:03.550135Z",
     "shell.execute_reply": "2021-03-14T02:28:03.549471Z"
    }
   },
   "outputs": [],
   "source": [
    "doses = dataJson[0]['dataValues'][3:61]"
   ]
  },
  {
   "cell_type": "markdown",
   "metadata": {},
   "source": [
    "Data formatting"
   ]
  },
  {
   "cell_type": "code",
   "execution_count": 8,
   "metadata": {
    "execution": {
     "iopub.execute_input": "2021-03-14T02:28:03.553475Z",
     "iopub.status.busy": "2021-03-14T02:28:03.552934Z",
     "iopub.status.idle": "2021-03-14T02:28:03.558701Z",
     "shell.execute_reply": "2021-03-14T02:28:03.557990Z"
    }
   },
   "outputs": [],
   "source": [
    "zipped = dict(zip(counties, doses))"
   ]
  },
  {
   "cell_type": "code",
   "execution_count": 9,
   "metadata": {
    "execution": {
     "iopub.execute_input": "2021-03-14T02:28:03.565405Z",
     "iopub.status.busy": "2021-03-14T02:28:03.564815Z",
     "iopub.status.idle": "2021-03-14T02:28:03.568335Z",
     "shell.execute_reply": "2021-03-14T02:28:03.567885Z"
    }
   },
   "outputs": [],
   "source": [
    "df = pd.Series(zipped).reset_index()"
   ]
  },
  {
   "cell_type": "code",
   "execution_count": 10,
   "metadata": {
    "execution": {
     "iopub.execute_input": "2021-03-14T02:28:03.572479Z",
     "iopub.status.busy": "2021-03-14T02:28:03.571374Z",
     "iopub.status.idle": "2021-03-14T02:28:03.573664Z",
     "shell.execute_reply": "2021-03-14T02:28:03.574137Z"
    }
   },
   "outputs": [],
   "source": [
    "df.columns = ['location','doses']"
   ]
  },
  {
   "cell_type": "markdown",
   "metadata": {},
   "source": [
    "Grab the overall California total"
   ]
  },
  {
   "cell_type": "code",
   "execution_count": 11,
   "metadata": {
    "execution": {
     "iopub.execute_input": "2021-03-14T02:28:03.578382Z",
     "iopub.status.busy": "2021-03-14T02:28:03.577394Z",
     "iopub.status.idle": "2021-03-14T02:28:03.579422Z",
     "shell.execute_reply": "2021-03-14T02:28:03.579897Z"
    }
   },
   "outputs": [],
   "source": [
    "add = {'location':'California','doses':dataJson[0]['dataValues'][2]}"
   ]
  },
  {
   "cell_type": "code",
   "execution_count": 12,
   "metadata": {
    "execution": {
     "iopub.execute_input": "2021-03-14T02:28:03.586847Z",
     "iopub.status.busy": "2021-03-14T02:28:03.585813Z",
     "iopub.status.idle": "2021-03-14T02:28:03.588472Z",
     "shell.execute_reply": "2021-03-14T02:28:03.587995Z"
    }
   },
   "outputs": [],
   "source": [
    "df = df.append(add, ignore_index=True)"
   ]
  },
  {
   "cell_type": "code",
   "execution_count": 13,
   "metadata": {
    "execution": {
     "iopub.execute_input": "2021-03-14T02:28:03.594138Z",
     "iopub.status.busy": "2021-03-14T02:28:03.592759Z",
     "iopub.status.idle": "2021-03-14T02:28:03.594811Z",
     "shell.execute_reply": "2021-03-14T02:28:03.595323Z"
    }
   },
   "outputs": [],
   "source": [
    "df = df.sort_values(by='location')"
   ]
  },
  {
   "cell_type": "code",
   "execution_count": 14,
   "metadata": {
    "execution": {
     "iopub.execute_input": "2021-03-14T02:28:03.601355Z",
     "iopub.status.busy": "2021-03-14T02:28:03.600411Z",
     "iopub.status.idle": "2021-03-14T02:28:03.602262Z",
     "shell.execute_reply": "2021-03-14T02:28:03.602691Z"
    }
   },
   "outputs": [],
   "source": [
    "df = df[df.location == 'California'].append(df[df.location != 'California']).reset_index(drop=True)"
   ]
  },
  {
   "cell_type": "code",
   "execution_count": null,
   "metadata": {},
   "outputs": [],
   "source": []
  },
  {
   "cell_type": "code",
   "execution_count": 15,
   "metadata": {
    "execution": {
     "iopub.execute_input": "2021-03-14T02:28:03.606418Z",
     "iopub.status.busy": "2021-03-14T02:28:03.605748Z",
     "iopub.status.idle": "2021-03-14T02:28:03.624244Z",
     "shell.execute_reply": "2021-03-14T02:28:03.624689Z"
    }
   },
   "outputs": [],
   "source": [
    "tz = pytz.timezone(\"America/New_York\")"
   ]
  },
  {
   "cell_type": "code",
   "execution_count": 16,
   "metadata": {
    "execution": {
     "iopub.execute_input": "2021-03-14T02:28:03.629088Z",
     "iopub.status.busy": "2021-03-14T02:28:03.627660Z",
     "iopub.status.idle": "2021-03-14T02:28:03.629694Z",
     "shell.execute_reply": "2021-03-14T02:28:03.630186Z"
    }
   },
   "outputs": [],
   "source": [
    "today = datetime.now(tz).date()"
   ]
  },
  {
   "cell_type": "code",
   "execution_count": 17,
   "metadata": {
    "execution": {
     "iopub.execute_input": "2021-03-14T02:28:03.635786Z",
     "iopub.status.busy": "2021-03-14T02:28:03.634051Z",
     "iopub.status.idle": "2021-03-14T02:28:03.636443Z",
     "shell.execute_reply": "2021-03-14T02:28:03.636964Z"
    }
   },
   "outputs": [],
   "source": [
    "data_dir = os.path.join(os.path.abspath(\"\"), \"data\")"
   ]
  },
  {
   "cell_type": "code",
   "execution_count": 18,
   "metadata": {
    "execution": {
     "iopub.execute_input": "2021-03-14T02:28:03.641937Z",
     "iopub.status.busy": "2021-03-14T02:28:03.640854Z",
     "iopub.status.idle": "2021-03-14T02:28:03.646451Z",
     "shell.execute_reply": "2021-03-14T02:28:03.645828Z"
    }
   },
   "outputs": [],
   "source": [
    "df.to_csv(os.path.join(data_dir, f\"{today}.csv\"), index=False)"
   ]
  },
  {
   "cell_type": "code",
   "execution_count": null,
   "metadata": {},
   "outputs": [],
   "source": []
  }
 ],
 "metadata": {
  "kernelspec": {
   "display_name": "Python 3",
   "language": "python",
   "name": "python3"
  },
  "language_info": {
   "codemirror_mode": {
    "name": "ipython",
    "version": 3
   },
   "file_extension": ".py",
   "mimetype": "text/x-python",
   "name": "python",
   "nbconvert_exporter": "python",
   "pygments_lexer": "ipython3",
   "version": "3.8.8"
  }
 },
 "nbformat": 4,
 "nbformat_minor": 4
}
