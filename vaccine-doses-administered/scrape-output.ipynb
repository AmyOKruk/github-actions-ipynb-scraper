{
 "cells": [
  {
   "cell_type": "markdown",
   "metadata": {},
   "source": [
    "# California COVID vaccinations scrape"
   ]
  },
  {
   "cell_type": "markdown",
   "metadata": {},
   "source": [
    "By [Amy O'Kruk](https://twitter.com/amyokruk)"
   ]
  },
  {
   "cell_type": "markdown",
   "metadata": {},
   "source": [
    "Downloads data on vaccine doses administered by county and statewide from a Tableau-powered dashboard from the California Department of Public Health."
   ]
  },
  {
   "cell_type": "code",
   "execution_count": 1,
   "metadata": {
    "execution": {
     "iopub.execute_input": "2021-03-20T07:12:17.978478Z",
     "iopub.status.busy": "2021-03-20T07:12:17.977801Z",
     "iopub.status.idle": "2021-03-20T07:12:18.468982Z",
     "shell.execute_reply": "2021-03-20T07:12:18.467845Z"
    }
   },
   "outputs": [],
   "source": [
    "import pandas as pd\n",
    "import requests\n",
    "from bs4 import BeautifulSoup\n",
    "import json\n",
    "import re\n",
    "import time\n",
    "from time import gmtime, strftime \n",
    "import os\n",
    "import pytz\n",
    "from datetime import datetime"
   ]
  },
  {
   "cell_type": "markdown",
   "metadata": {},
   "source": [
    "Scrape the dashboard page"
   ]
  },
  {
   "cell_type": "code",
   "execution_count": 2,
   "metadata": {
    "execution": {
     "iopub.execute_input": "2021-03-20T07:12:18.475494Z",
     "iopub.status.busy": "2021-03-20T07:12:18.472881Z",
     "iopub.status.idle": "2021-03-20T07:12:18.917574Z",
     "shell.execute_reply": "2021-03-20T07:12:18.916200Z"
    }
   },
   "outputs": [],
   "source": [
    "url = \"https://public.tableau.com/interactive/views/COVID-19VaccineDashboardPublic/Vaccine?:embed=y&:showVizHome=n&:apiID=host0\"\n",
    "\n",
    "r = requests.get(url)\n",
    "soup = BeautifulSoup(r.text, \"html.parser\")"
   ]
  },
  {
   "cell_type": "code",
   "execution_count": 3,
   "metadata": {
    "execution": {
     "iopub.execute_input": "2021-03-20T07:12:18.922905Z",
     "iopub.status.busy": "2021-03-20T07:12:18.922309Z",
     "iopub.status.idle": "2021-03-20T07:12:18.926061Z",
     "shell.execute_reply": "2021-03-20T07:12:18.926515Z"
    }
   },
   "outputs": [],
   "source": [
    "tableauData = json.loads(soup.find(\"textarea\",{\"id\": \"tsConfigContainer\"}).text)"
   ]
  },
  {
   "cell_type": "markdown",
   "metadata": {},
   "source": [
    "Get the link to the Tableau data"
   ]
  },
  {
   "cell_type": "code",
   "execution_count": 4,
   "metadata": {
    "execution": {
     "iopub.execute_input": "2021-03-20T07:12:18.930464Z",
     "iopub.status.busy": "2021-03-20T07:12:18.929882Z",
     "iopub.status.idle": "2021-03-20T07:12:18.935239Z",
     "shell.execute_reply": "2021-03-20T07:12:18.933304Z"
    }
   },
   "outputs": [],
   "source": [
    "dataUrl = f'https://public.tableau.com{tableauData[\"vizql_root\"]}/bootstrapSession/sessions/{tableauData[\"sessionid\"]}'"
   ]
  },
  {
   "cell_type": "code",
   "execution_count": 5,
   "metadata": {
    "execution": {
     "iopub.execute_input": "2021-03-20T07:12:18.942833Z",
     "iopub.status.busy": "2021-03-20T07:12:18.942261Z",
     "iopub.status.idle": "2021-03-20T07:12:19.819243Z",
     "shell.execute_reply": "2021-03-20T07:12:19.819767Z"
    }
   },
   "outputs": [],
   "source": [
    "r = requests.post(dataUrl, data= {\n",
    "    \"sheet_id\": tableauData[\"sheetId\"],\n",
    "})\n",
    "\n",
    "dataReg = re.search('\\d+;({.*})\\d+;({.*})', r.text, re.MULTILINE)\n",
    "data1 = json.loads(dataReg.group(2))\n",
    "\n",
    "dataJson = data1[\"secondaryInfo\"][\"presModelMap\"][\"dataDictionary\"][\"presModelHolder\"][\"genDataDictionaryPresModel\"][\"dataSegments\"][\"0\"][\"dataColumns\"]"
   ]
  },
  {
   "cell_type": "markdown",
   "metadata": {},
   "source": [
    "Isolate what you want"
   ]
  },
  {
   "cell_type": "code",
   "execution_count": 6,
   "metadata": {
    "execution": {
     "iopub.execute_input": "2021-03-20T07:12:19.825206Z",
     "iopub.status.busy": "2021-03-20T07:12:19.823753Z",
     "iopub.status.idle": "2021-03-20T07:12:19.826168Z",
     "shell.execute_reply": "2021-03-20T07:12:19.826760Z"
    }
   },
   "outputs": [],
   "source": [
    "counties = dataJson[2]['dataValues'][:58]"
   ]
  },
  {
   "cell_type": "code",
   "execution_count": 7,
   "metadata": {
    "execution": {
     "iopub.execute_input": "2021-03-20T07:12:19.831262Z",
     "iopub.status.busy": "2021-03-20T07:12:19.830526Z",
     "iopub.status.idle": "2021-03-20T07:12:19.834892Z",
     "shell.execute_reply": "2021-03-20T07:12:19.834180Z"
    }
   },
   "outputs": [],
   "source": [
    "doses = dataJson[0]['dataValues'][3:61]"
   ]
  },
  {
   "cell_type": "markdown",
   "metadata": {},
   "source": [
    "Data formatting"
   ]
  },
  {
   "cell_type": "code",
   "execution_count": 8,
   "metadata": {
    "execution": {
     "iopub.execute_input": "2021-03-20T07:12:19.839300Z",
     "iopub.status.busy": "2021-03-20T07:12:19.838742Z",
     "iopub.status.idle": "2021-03-20T07:12:19.845513Z",
     "shell.execute_reply": "2021-03-20T07:12:19.844857Z"
    }
   },
   "outputs": [],
   "source": [
    "zipped = dict(zip(counties, doses))"
   ]
  },
  {
   "cell_type": "code",
   "execution_count": 9,
   "metadata": {
    "execution": {
     "iopub.execute_input": "2021-03-20T07:12:19.852281Z",
     "iopub.status.busy": "2021-03-20T07:12:19.851587Z",
     "iopub.status.idle": "2021-03-20T07:12:19.854255Z",
     "shell.execute_reply": "2021-03-20T07:12:19.853774Z"
    }
   },
   "outputs": [],
   "source": [
    "df = pd.Series(zipped).reset_index()"
   ]
  },
  {
   "cell_type": "code",
   "execution_count": 10,
   "metadata": {
    "execution": {
     "iopub.execute_input": "2021-03-20T07:12:19.860022Z",
     "iopub.status.busy": "2021-03-20T07:12:19.859145Z",
     "iopub.status.idle": "2021-03-20T07:12:19.863396Z",
     "shell.execute_reply": "2021-03-20T07:12:19.862259Z"
    }
   },
   "outputs": [],
   "source": [
    "df.columns = ['location','doses']"
   ]
  },
  {
   "cell_type": "markdown",
   "metadata": {},
   "source": [
    "Grab the overall California total"
   ]
  },
  {
   "cell_type": "code",
   "execution_count": 11,
   "metadata": {
    "execution": {
     "iopub.execute_input": "2021-03-20T07:12:19.868644Z",
     "iopub.status.busy": "2021-03-20T07:12:19.868014Z",
     "iopub.status.idle": "2021-03-20T07:12:19.874704Z",
     "shell.execute_reply": "2021-03-20T07:12:19.873645Z"
    }
   },
   "outputs": [],
   "source": [
    "add = {'location':'California','doses':dataJson[0]['dataValues'][2]}"
   ]
  },
  {
   "cell_type": "code",
   "execution_count": 12,
   "metadata": {
    "execution": {
     "iopub.execute_input": "2021-03-20T07:12:19.884418Z",
     "iopub.status.busy": "2021-03-20T07:12:19.883089Z",
     "iopub.status.idle": "2021-03-20T07:12:19.885702Z",
     "shell.execute_reply": "2021-03-20T07:12:19.886286Z"
    }
   },
   "outputs": [],
   "source": [
    "df = df.append(add, ignore_index=True)"
   ]
  },
  {
   "cell_type": "code",
   "execution_count": 13,
   "metadata": {
    "execution": {
     "iopub.execute_input": "2021-03-20T07:12:19.893213Z",
     "iopub.status.busy": "2021-03-20T07:12:19.891498Z",
     "iopub.status.idle": "2021-03-20T07:12:19.894506Z",
     "shell.execute_reply": "2021-03-20T07:12:19.895029Z"
    }
   },
   "outputs": [],
   "source": [
    "df = df.sort_values(by='location')"
   ]
  },
  {
   "cell_type": "code",
   "execution_count": 14,
   "metadata": {
    "execution": {
     "iopub.execute_input": "2021-03-20T07:12:19.904661Z",
     "iopub.status.busy": "2021-03-20T07:12:19.902065Z",
     "iopub.status.idle": "2021-03-20T07:12:19.905618Z",
     "shell.execute_reply": "2021-03-20T07:12:19.906315Z"
    }
   },
   "outputs": [],
   "source": [
    "df = df[df.location == 'California'].append(df[df.location != 'California']).reset_index(drop=True)"
   ]
  },
  {
   "cell_type": "code",
   "execution_count": null,
   "metadata": {},
   "outputs": [],
   "source": []
  },
  {
   "cell_type": "code",
   "execution_count": 15,
   "metadata": {
    "execution": {
     "iopub.execute_input": "2021-03-20T07:12:19.912665Z",
     "iopub.status.busy": "2021-03-20T07:12:19.911658Z",
     "iopub.status.idle": "2021-03-20T07:12:19.934067Z",
     "shell.execute_reply": "2021-03-20T07:12:19.933313Z"
    }
   },
   "outputs": [],
   "source": [
    "tz = pytz.timezone(\"America/New_York\")"
   ]
  },
  {
   "cell_type": "code",
   "execution_count": 16,
   "metadata": {
    "execution": {
     "iopub.execute_input": "2021-03-20T07:12:19.939886Z",
     "iopub.status.busy": "2021-03-20T07:12:19.938353Z",
     "iopub.status.idle": "2021-03-20T07:12:19.940585Z",
     "shell.execute_reply": "2021-03-20T07:12:19.941122Z"
    }
   },
   "outputs": [],
   "source": [
    "today = datetime.now(tz).date()"
   ]
  },
  {
   "cell_type": "code",
   "execution_count": 17,
   "metadata": {
    "execution": {
     "iopub.execute_input": "2021-03-20T07:12:19.946553Z",
     "iopub.status.busy": "2021-03-20T07:12:19.945001Z",
     "iopub.status.idle": "2021-03-20T07:12:19.947234Z",
     "shell.execute_reply": "2021-03-20T07:12:19.947927Z"
    }
   },
   "outputs": [],
   "source": [
    "data_dir = os.path.join(os.path.abspath(\"\"), \"data\")"
   ]
  },
  {
   "cell_type": "code",
   "execution_count": 18,
   "metadata": {
    "execution": {
     "iopub.execute_input": "2021-03-20T07:12:19.956139Z",
     "iopub.status.busy": "2021-03-20T07:12:19.954647Z",
     "iopub.status.idle": "2021-03-20T07:12:19.956881Z",
     "shell.execute_reply": "2021-03-20T07:12:19.957471Z"
    }
   },
   "outputs": [],
   "source": [
    "df.to_csv(os.path.join(data_dir, f\"{today}.csv\"), index=False)"
   ]
  },
  {
   "cell_type": "code",
   "execution_count": null,
   "metadata": {},
   "outputs": [],
   "source": []
  }
 ],
 "metadata": {
  "kernelspec": {
   "display_name": "Python 3",
   "language": "python",
   "name": "python3"
  },
  "language_info": {
   "codemirror_mode": {
    "name": "ipython",
    "version": 3
   },
   "file_extension": ".py",
   "mimetype": "text/x-python",
   "name": "python",
   "nbconvert_exporter": "python",
   "pygments_lexer": "ipython3",
   "version": "3.8.8"
  }
 },
 "nbformat": 4,
 "nbformat_minor": 4
}
