{
 "cells": [
  {
   "cell_type": "markdown",
   "metadata": {},
   "source": [
    "# California COVID vaccinations scrape"
   ]
  },
  {
   "cell_type": "markdown",
   "metadata": {},
   "source": [
    "By [Amy O'Kruk](https://twitter.com/amyokruk)"
   ]
  },
  {
   "cell_type": "markdown",
   "metadata": {},
   "source": [
    "Downloads data on vaccine doses administered by county and statewide from a Tableau-powered dashboard from the California Department of Public Health."
   ]
  },
  {
   "cell_type": "code",
   "execution_count": 1,
   "metadata": {
    "execution": {
     "iopub.execute_input": "2021-03-11T10:44:38.491433Z",
     "iopub.status.busy": "2021-03-11T10:44:38.490717Z",
     "iopub.status.idle": "2021-03-11T10:44:38.945640Z",
     "shell.execute_reply": "2021-03-11T10:44:38.944726Z"
    }
   },
   "outputs": [],
   "source": [
    "import pandas as pd\n",
    "import requests\n",
    "from bs4 import BeautifulSoup\n",
    "import json\n",
    "import re\n",
    "import time\n",
    "from time import gmtime, strftime \n",
    "import os\n",
    "import pytz\n",
    "from datetime import datetime"
   ]
  },
  {
   "cell_type": "markdown",
   "metadata": {},
   "source": [
    "Scrape the dashboard page"
   ]
  },
  {
   "cell_type": "code",
   "execution_count": 2,
   "metadata": {
    "execution": {
     "iopub.execute_input": "2021-03-11T10:44:38.949994Z",
     "iopub.status.busy": "2021-03-11T10:44:38.949443Z",
     "iopub.status.idle": "2021-03-11T10:44:39.401038Z",
     "shell.execute_reply": "2021-03-11T10:44:39.400430Z"
    }
   },
   "outputs": [],
   "source": [
    "url = \"https://public.tableau.com/interactive/views/COVID-19VaccineDashboardPublic/Vaccine?:embed=y&:showVizHome=n&:apiID=host0\"\n",
    "\n",
    "r = requests.get(url)\n",
    "soup = BeautifulSoup(r.text, \"html.parser\")"
   ]
  },
  {
   "cell_type": "code",
   "execution_count": 3,
   "metadata": {
    "execution": {
     "iopub.execute_input": "2021-03-11T10:44:39.405998Z",
     "iopub.status.busy": "2021-03-11T10:44:39.405468Z",
     "iopub.status.idle": "2021-03-11T10:44:39.408880Z",
     "shell.execute_reply": "2021-03-11T10:44:39.409381Z"
    }
   },
   "outputs": [],
   "source": [
    "tableauData = json.loads(soup.find(\"textarea\",{\"id\": \"tsConfigContainer\"}).text)"
   ]
  },
  {
   "cell_type": "markdown",
   "metadata": {},
   "source": [
    "Get the link to the Tableau data"
   ]
  },
  {
   "cell_type": "code",
   "execution_count": 4,
   "metadata": {
    "execution": {
     "iopub.execute_input": "2021-03-11T10:44:39.414129Z",
     "iopub.status.busy": "2021-03-11T10:44:39.412662Z",
     "iopub.status.idle": "2021-03-11T10:44:39.414762Z",
     "shell.execute_reply": "2021-03-11T10:44:39.415240Z"
    }
   },
   "outputs": [],
   "source": [
    "dataUrl = f'https://public.tableau.com{tableauData[\"vizql_root\"]}/bootstrapSession/sessions/{tableauData[\"sessionid\"]}'"
   ]
  },
  {
   "cell_type": "code",
   "execution_count": 5,
   "metadata": {
    "execution": {
     "iopub.execute_input": "2021-03-11T10:44:39.422348Z",
     "iopub.status.busy": "2021-03-11T10:44:39.421692Z",
     "iopub.status.idle": "2021-03-11T10:44:39.695920Z",
     "shell.execute_reply": "2021-03-11T10:44:39.695303Z"
    }
   },
   "outputs": [],
   "source": [
    "r = requests.post(dataUrl, data= {\n",
    "    \"sheet_id\": tableauData[\"sheetId\"],\n",
    "})\n",
    "\n",
    "dataReg = re.search('\\d+;({.*})\\d+;({.*})', r.text, re.MULTILINE)\n",
    "data1 = json.loads(dataReg.group(2))\n",
    "\n",
    "dataJson = data1[\"secondaryInfo\"][\"presModelMap\"][\"dataDictionary\"][\"presModelHolder\"][\"genDataDictionaryPresModel\"][\"dataSegments\"][\"0\"][\"dataColumns\"]"
   ]
  },
  {
   "cell_type": "markdown",
   "metadata": {},
   "source": [
    "Isolate what you want"
   ]
  },
  {
   "cell_type": "code",
   "execution_count": 6,
   "metadata": {
    "execution": {
     "iopub.execute_input": "2021-03-11T10:44:39.700841Z",
     "iopub.status.busy": "2021-03-11T10:44:39.699408Z",
     "iopub.status.idle": "2021-03-11T10:44:39.701507Z",
     "shell.execute_reply": "2021-03-11T10:44:39.701943Z"
    }
   },
   "outputs": [],
   "source": [
    "counties = dataJson[2]['dataValues'][:58]"
   ]
  },
  {
   "cell_type": "code",
   "execution_count": 7,
   "metadata": {
    "execution": {
     "iopub.execute_input": "2021-03-11T10:44:39.706719Z",
     "iopub.status.busy": "2021-03-11T10:44:39.705338Z",
     "iopub.status.idle": "2021-03-11T10:44:39.707376Z",
     "shell.execute_reply": "2021-03-11T10:44:39.707940Z"
    }
   },
   "outputs": [],
   "source": [
    "doses = dataJson[0]['dataValues'][3:61]"
   ]
  },
  {
   "cell_type": "markdown",
   "metadata": {},
   "source": [
    "Data formatting"
   ]
  },
  {
   "cell_type": "code",
   "execution_count": 8,
   "metadata": {
    "execution": {
     "iopub.execute_input": "2021-03-11T10:44:39.712637Z",
     "iopub.status.busy": "2021-03-11T10:44:39.711225Z",
     "iopub.status.idle": "2021-03-11T10:44:39.713247Z",
     "shell.execute_reply": "2021-03-11T10:44:39.713683Z"
    }
   },
   "outputs": [],
   "source": [
    "zipped = dict(zip(counties, doses))"
   ]
  },
  {
   "cell_type": "code",
   "execution_count": 9,
   "metadata": {
    "execution": {
     "iopub.execute_input": "2021-03-11T10:44:39.720820Z",
     "iopub.status.busy": "2021-03-11T10:44:39.719408Z",
     "iopub.status.idle": "2021-03-11T10:44:39.721475Z",
     "shell.execute_reply": "2021-03-11T10:44:39.721968Z"
    }
   },
   "outputs": [],
   "source": [
    "df = pd.Series(zipped).reset_index()"
   ]
  },
  {
   "cell_type": "code",
   "execution_count": 10,
   "metadata": {
    "execution": {
     "iopub.execute_input": "2021-03-11T10:44:39.728876Z",
     "iopub.status.busy": "2021-03-11T10:44:39.727223Z",
     "iopub.status.idle": "2021-03-11T10:44:39.729472Z",
     "shell.execute_reply": "2021-03-11T10:44:39.729918Z"
    }
   },
   "outputs": [],
   "source": [
    "df.columns = ['location','doses']"
   ]
  },
  {
   "cell_type": "markdown",
   "metadata": {},
   "source": [
    "Grab the overall California total"
   ]
  },
  {
   "cell_type": "code",
   "execution_count": 11,
   "metadata": {
    "execution": {
     "iopub.execute_input": "2021-03-11T10:44:39.734660Z",
     "iopub.status.busy": "2021-03-11T10:44:39.733371Z",
     "iopub.status.idle": "2021-03-11T10:44:39.735300Z",
     "shell.execute_reply": "2021-03-11T10:44:39.735840Z"
    }
   },
   "outputs": [],
   "source": [
    "add = {'location':'California','doses':dataJson[0]['dataValues'][2]}"
   ]
  },
  {
   "cell_type": "code",
   "execution_count": 12,
   "metadata": {
    "execution": {
     "iopub.execute_input": "2021-03-11T10:44:39.744634Z",
     "iopub.status.busy": "2021-03-11T10:44:39.743065Z",
     "iopub.status.idle": "2021-03-11T10:44:39.745880Z",
     "shell.execute_reply": "2021-03-11T10:44:39.746347Z"
    }
   },
   "outputs": [],
   "source": [
    "df = df.append(add, ignore_index=True)"
   ]
  },
  {
   "cell_type": "code",
   "execution_count": 13,
   "metadata": {
    "execution": {
     "iopub.execute_input": "2021-03-11T10:44:39.751634Z",
     "iopub.status.busy": "2021-03-11T10:44:39.750344Z",
     "iopub.status.idle": "2021-03-11T10:44:39.752412Z",
     "shell.execute_reply": "2021-03-11T10:44:39.752849Z"
    }
   },
   "outputs": [],
   "source": [
    "df = df.sort_values(by='location')"
   ]
  },
  {
   "cell_type": "code",
   "execution_count": 14,
   "metadata": {
    "execution": {
     "iopub.execute_input": "2021-03-11T10:44:39.759711Z",
     "iopub.status.busy": "2021-03-11T10:44:39.758384Z",
     "iopub.status.idle": "2021-03-11T10:44:39.760351Z",
     "shell.execute_reply": "2021-03-11T10:44:39.760805Z"
    }
   },
   "outputs": [],
   "source": [
    "df = df[df.location == 'California'].append(df[df.location != 'California']).reset_index(drop=True)"
   ]
  },
  {
   "cell_type": "code",
   "execution_count": null,
   "metadata": {},
   "outputs": [],
   "source": []
  },
  {
   "cell_type": "code",
   "execution_count": 15,
   "metadata": {
    "execution": {
     "iopub.execute_input": "2021-03-11T10:44:39.764394Z",
     "iopub.status.busy": "2021-03-11T10:44:39.763849Z",
     "iopub.status.idle": "2021-03-11T10:44:39.783749Z",
     "shell.execute_reply": "2021-03-11T10:44:39.783133Z"
    }
   },
   "outputs": [],
   "source": [
    "tz = pytz.timezone(\"America/New_York\")"
   ]
  },
  {
   "cell_type": "code",
   "execution_count": 16,
   "metadata": {
    "execution": {
     "iopub.execute_input": "2021-03-11T10:44:39.788307Z",
     "iopub.status.busy": "2021-03-11T10:44:39.786956Z",
     "iopub.status.idle": "2021-03-11T10:44:39.788979Z",
     "shell.execute_reply": "2021-03-11T10:44:39.789458Z"
    }
   },
   "outputs": [],
   "source": [
    "today = datetime.now(tz).date()"
   ]
  },
  {
   "cell_type": "code",
   "execution_count": 17,
   "metadata": {
    "execution": {
     "iopub.execute_input": "2021-03-11T10:44:39.794284Z",
     "iopub.status.busy": "2021-03-11T10:44:39.792899Z",
     "iopub.status.idle": "2021-03-11T10:44:39.794929Z",
     "shell.execute_reply": "2021-03-11T10:44:39.795434Z"
    }
   },
   "outputs": [],
   "source": [
    "data_dir = os.path.join(os.path.abspath(\"\"), \"data\")"
   ]
  },
  {
   "cell_type": "code",
   "execution_count": 18,
   "metadata": {
    "execution": {
     "iopub.execute_input": "2021-03-11T10:44:39.800306Z",
     "iopub.status.busy": "2021-03-11T10:44:39.798922Z",
     "iopub.status.idle": "2021-03-11T10:44:39.803752Z",
     "shell.execute_reply": "2021-03-11T10:44:39.804203Z"
    }
   },
   "outputs": [],
   "source": [
    "df.to_csv(os.path.join(data_dir, f\"{today}.csv\"), index=False)"
   ]
  },
  {
   "cell_type": "code",
   "execution_count": null,
   "metadata": {},
   "outputs": [],
   "source": []
  }
 ],
 "metadata": {
  "kernelspec": {
   "display_name": "Python 3",
   "language": "python",
   "name": "python3"
  },
  "language_info": {
   "codemirror_mode": {
    "name": "ipython",
    "version": 3
   },
   "file_extension": ".py",
   "mimetype": "text/x-python",
   "name": "python",
   "nbconvert_exporter": "python",
   "pygments_lexer": "ipython3",
   "version": "3.8.8"
  }
 },
 "nbformat": 4,
 "nbformat_minor": 4
}
