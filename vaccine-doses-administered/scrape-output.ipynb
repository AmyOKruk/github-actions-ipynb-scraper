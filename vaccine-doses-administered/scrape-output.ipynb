{
 "cells": [
  {
   "cell_type": "markdown",
   "metadata": {},
   "source": [
    "# California COVID vaccinations scrape"
   ]
  },
  {
   "cell_type": "markdown",
   "metadata": {},
   "source": [
    "By [Amy O'Kruk](https://twitter.com/amyokruk)"
   ]
  },
  {
   "cell_type": "markdown",
   "metadata": {},
   "source": [
    "Downloads data on vaccine doses administered by county and statewide from a Tableau-powered dashboard from the California Department of Public Health."
   ]
  },
  {
   "cell_type": "code",
   "execution_count": 1,
   "metadata": {
    "execution": {
     "iopub.execute_input": "2021-03-11T15:43:49.543166Z",
     "iopub.status.busy": "2021-03-11T15:43:49.542436Z",
     "iopub.status.idle": "2021-03-11T15:43:49.967085Z",
     "shell.execute_reply": "2021-03-11T15:43:49.966386Z"
    }
   },
   "outputs": [],
   "source": [
    "import pandas as pd\n",
    "import requests\n",
    "from bs4 import BeautifulSoup\n",
    "import json\n",
    "import re\n",
    "import time\n",
    "from time import gmtime, strftime \n",
    "import os\n",
    "import pytz\n",
    "from datetime import datetime"
   ]
  },
  {
   "cell_type": "markdown",
   "metadata": {},
   "source": [
    "Scrape the dashboard page"
   ]
  },
  {
   "cell_type": "code",
   "execution_count": 2,
   "metadata": {
    "execution": {
     "iopub.execute_input": "2021-03-11T15:43:49.973366Z",
     "iopub.status.busy": "2021-03-11T15:43:49.970664Z",
     "iopub.status.idle": "2021-03-11T15:43:50.264603Z",
     "shell.execute_reply": "2021-03-11T15:43:50.264030Z"
    }
   },
   "outputs": [],
   "source": [
    "url = \"https://public.tableau.com/interactive/views/COVID-19VaccineDashboardPublic/Vaccine?:embed=y&:showVizHome=n&:apiID=host0\"\n",
    "\n",
    "r = requests.get(url)\n",
    "soup = BeautifulSoup(r.text, \"html.parser\")"
   ]
  },
  {
   "cell_type": "code",
   "execution_count": 3,
   "metadata": {
    "execution": {
     "iopub.execute_input": "2021-03-11T15:43:50.269141Z",
     "iopub.status.busy": "2021-03-11T15:43:50.268608Z",
     "iopub.status.idle": "2021-03-11T15:43:50.272487Z",
     "shell.execute_reply": "2021-03-11T15:43:50.271934Z"
    }
   },
   "outputs": [],
   "source": [
    "tableauData = json.loads(soup.find(\"textarea\",{\"id\": \"tsConfigContainer\"}).text)"
   ]
  },
  {
   "cell_type": "markdown",
   "metadata": {},
   "source": [
    "Get the link to the Tableau data"
   ]
  },
  {
   "cell_type": "code",
   "execution_count": 4,
   "metadata": {
    "execution": {
     "iopub.execute_input": "2021-03-11T15:43:50.277539Z",
     "iopub.status.busy": "2021-03-11T15:43:50.276556Z",
     "iopub.status.idle": "2021-03-11T15:43:50.278593Z",
     "shell.execute_reply": "2021-03-11T15:43:50.278087Z"
    }
   },
   "outputs": [],
   "source": [
    "dataUrl = f'https://public.tableau.com{tableauData[\"vizql_root\"]}/bootstrapSession/sessions/{tableauData[\"sessionid\"]}'"
   ]
  },
  {
   "cell_type": "code",
   "execution_count": 5,
   "metadata": {
    "execution": {
     "iopub.execute_input": "2021-03-11T15:43:50.284650Z",
     "iopub.status.busy": "2021-03-11T15:43:50.284053Z",
     "iopub.status.idle": "2021-03-11T15:43:50.551667Z",
     "shell.execute_reply": "2021-03-11T15:43:50.551116Z"
    }
   },
   "outputs": [],
   "source": [
    "r = requests.post(dataUrl, data= {\n",
    "    \"sheet_id\": tableauData[\"sheetId\"],\n",
    "})\n",
    "\n",
    "dataReg = re.search('\\d+;({.*})\\d+;({.*})', r.text, re.MULTILINE)\n",
    "data1 = json.loads(dataReg.group(2))\n",
    "\n",
    "dataJson = data1[\"secondaryInfo\"][\"presModelMap\"][\"dataDictionary\"][\"presModelHolder\"][\"genDataDictionaryPresModel\"][\"dataSegments\"][\"0\"][\"dataColumns\"]"
   ]
  },
  {
   "cell_type": "markdown",
   "metadata": {},
   "source": [
    "Isolate what you want"
   ]
  },
  {
   "cell_type": "code",
   "execution_count": 6,
   "metadata": {
    "execution": {
     "iopub.execute_input": "2021-03-11T15:43:50.557699Z",
     "iopub.status.busy": "2021-03-11T15:43:50.556317Z",
     "iopub.status.idle": "2021-03-11T15:43:50.558425Z",
     "shell.execute_reply": "2021-03-11T15:43:50.558901Z"
    }
   },
   "outputs": [],
   "source": [
    "counties = dataJson[2]['dataValues'][:58]"
   ]
  },
  {
   "cell_type": "code",
   "execution_count": 7,
   "metadata": {
    "execution": {
     "iopub.execute_input": "2021-03-11T15:43:50.563996Z",
     "iopub.status.busy": "2021-03-11T15:43:50.562477Z",
     "iopub.status.idle": "2021-03-11T15:43:50.564654Z",
     "shell.execute_reply": "2021-03-11T15:43:50.565133Z"
    }
   },
   "outputs": [],
   "source": [
    "doses = dataJson[0]['dataValues'][3:61]"
   ]
  },
  {
   "cell_type": "markdown",
   "metadata": {},
   "source": [
    "Data formatting"
   ]
  },
  {
   "cell_type": "code",
   "execution_count": 8,
   "metadata": {
    "execution": {
     "iopub.execute_input": "2021-03-11T15:43:50.569830Z",
     "iopub.status.busy": "2021-03-11T15:43:50.568659Z",
     "iopub.status.idle": "2021-03-11T15:43:50.571180Z",
     "shell.execute_reply": "2021-03-11T15:43:50.571636Z"
    }
   },
   "outputs": [],
   "source": [
    "zipped = dict(zip(counties, doses))"
   ]
  },
  {
   "cell_type": "code",
   "execution_count": 9,
   "metadata": {
    "execution": {
     "iopub.execute_input": "2021-03-11T15:43:50.579086Z",
     "iopub.status.busy": "2021-03-11T15:43:50.577520Z",
     "iopub.status.idle": "2021-03-11T15:43:50.579733Z",
     "shell.execute_reply": "2021-03-11T15:43:50.580211Z"
    }
   },
   "outputs": [],
   "source": [
    "df = pd.Series(zipped).reset_index()"
   ]
  },
  {
   "cell_type": "code",
   "execution_count": 10,
   "metadata": {
    "execution": {
     "iopub.execute_input": "2021-03-11T15:43:50.585120Z",
     "iopub.status.busy": "2021-03-11T15:43:50.583588Z",
     "iopub.status.idle": "2021-03-11T15:43:50.585874Z",
     "shell.execute_reply": "2021-03-11T15:43:50.586325Z"
    }
   },
   "outputs": [],
   "source": [
    "df.columns = ['location','doses']"
   ]
  },
  {
   "cell_type": "markdown",
   "metadata": {},
   "source": [
    "Grab the overall California total"
   ]
  },
  {
   "cell_type": "code",
   "execution_count": 11,
   "metadata": {
    "execution": {
     "iopub.execute_input": "2021-03-11T15:43:50.590770Z",
     "iopub.status.busy": "2021-03-11T15:43:50.589582Z",
     "iopub.status.idle": "2021-03-11T15:43:50.591528Z",
     "shell.execute_reply": "2021-03-11T15:43:50.591979Z"
    }
   },
   "outputs": [],
   "source": [
    "add = {'location':'California','doses':dataJson[0]['dataValues'][2]}"
   ]
  },
  {
   "cell_type": "code",
   "execution_count": 12,
   "metadata": {
    "execution": {
     "iopub.execute_input": "2021-03-11T15:43:50.599156Z",
     "iopub.status.busy": "2021-03-11T15:43:50.597900Z",
     "iopub.status.idle": "2021-03-11T15:43:50.600477Z",
     "shell.execute_reply": "2021-03-11T15:43:50.600932Z"
    }
   },
   "outputs": [],
   "source": [
    "df = df.append(add, ignore_index=True)"
   ]
  },
  {
   "cell_type": "code",
   "execution_count": 13,
   "metadata": {
    "execution": {
     "iopub.execute_input": "2021-03-11T15:43:50.606202Z",
     "iopub.status.busy": "2021-03-11T15:43:50.604949Z",
     "iopub.status.idle": "2021-03-11T15:43:50.606817Z",
     "shell.execute_reply": "2021-03-11T15:43:50.607264Z"
    }
   },
   "outputs": [],
   "source": [
    "df = df.sort_values(by='location')"
   ]
  },
  {
   "cell_type": "code",
   "execution_count": 14,
   "metadata": {
    "execution": {
     "iopub.execute_input": "2021-03-11T15:43:50.613844Z",
     "iopub.status.busy": "2021-03-11T15:43:50.612585Z",
     "iopub.status.idle": "2021-03-11T15:43:50.614765Z",
     "shell.execute_reply": "2021-03-11T15:43:50.615312Z"
    }
   },
   "outputs": [],
   "source": [
    "df = df[df.location == 'California'].append(df[df.location != 'California']).reset_index(drop=True)"
   ]
  },
  {
   "cell_type": "code",
   "execution_count": null,
   "metadata": {},
   "outputs": [],
   "source": []
  },
  {
   "cell_type": "code",
   "execution_count": 15,
   "metadata": {
    "execution": {
     "iopub.execute_input": "2021-03-11T15:43:50.619258Z",
     "iopub.status.busy": "2021-03-11T15:43:50.618652Z",
     "iopub.status.idle": "2021-03-11T15:43:50.637652Z",
     "shell.execute_reply": "2021-03-11T15:43:50.637040Z"
    }
   },
   "outputs": [],
   "source": [
    "tz = pytz.timezone(\"America/New_York\")"
   ]
  },
  {
   "cell_type": "code",
   "execution_count": 16,
   "metadata": {
    "execution": {
     "iopub.execute_input": "2021-03-11T15:43:50.643288Z",
     "iopub.status.busy": "2021-03-11T15:43:50.641657Z",
     "iopub.status.idle": "2021-03-11T15:43:50.644019Z",
     "shell.execute_reply": "2021-03-11T15:43:50.644546Z"
    }
   },
   "outputs": [],
   "source": [
    "today = datetime.now(tz).date()"
   ]
  },
  {
   "cell_type": "code",
   "execution_count": 17,
   "metadata": {
    "execution": {
     "iopub.execute_input": "2021-03-11T15:43:50.649816Z",
     "iopub.status.busy": "2021-03-11T15:43:50.648399Z",
     "iopub.status.idle": "2021-03-11T15:43:50.651067Z",
     "shell.execute_reply": "2021-03-11T15:43:50.651583Z"
    }
   },
   "outputs": [],
   "source": [
    "data_dir = os.path.join(os.path.abspath(\"\"), \"data\")"
   ]
  },
  {
   "cell_type": "code",
   "execution_count": 18,
   "metadata": {
    "execution": {
     "iopub.execute_input": "2021-03-11T15:43:50.656351Z",
     "iopub.status.busy": "2021-03-11T15:43:50.655005Z",
     "iopub.status.idle": "2021-03-11T15:43:50.659627Z",
     "shell.execute_reply": "2021-03-11T15:43:50.660106Z"
    }
   },
   "outputs": [],
   "source": [
    "df.to_csv(os.path.join(data_dir, f\"{today}.csv\"), index=False)"
   ]
  },
  {
   "cell_type": "code",
   "execution_count": null,
   "metadata": {},
   "outputs": [],
   "source": []
  }
 ],
 "metadata": {
  "kernelspec": {
   "display_name": "Python 3",
   "language": "python",
   "name": "python3"
  },
  "language_info": {
   "codemirror_mode": {
    "name": "ipython",
    "version": 3
   },
   "file_extension": ".py",
   "mimetype": "text/x-python",
   "name": "python",
   "nbconvert_exporter": "python",
   "pygments_lexer": "ipython3",
   "version": "3.8.8"
  }
 },
 "nbformat": 4,
 "nbformat_minor": 4
}
