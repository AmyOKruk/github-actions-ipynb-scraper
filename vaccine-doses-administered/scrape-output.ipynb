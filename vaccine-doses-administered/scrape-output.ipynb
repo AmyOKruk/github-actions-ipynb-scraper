{
 "cells": [
  {
   "cell_type": "markdown",
   "metadata": {},
   "source": [
    "# California COVID vaccinations scrape"
   ]
  },
  {
   "cell_type": "markdown",
   "metadata": {},
   "source": [
    "By [Amy O'Kruk](https://twitter.com/amyokruk)"
   ]
  },
  {
   "cell_type": "markdown",
   "metadata": {},
   "source": [
    "Downloads data on vaccine doses administered by county and statewide from a Tableau-powered dashboard from the California Department of Public Health."
   ]
  },
  {
   "cell_type": "code",
   "execution_count": 1,
   "metadata": {
    "execution": {
     "iopub.execute_input": "2021-03-14T05:12:49.932682Z",
     "iopub.status.busy": "2021-03-14T05:12:49.932051Z",
     "iopub.status.idle": "2021-03-14T05:12:50.281617Z",
     "shell.execute_reply": "2021-03-14T05:12:50.280697Z"
    }
   },
   "outputs": [],
   "source": [
    "import pandas as pd\n",
    "import requests\n",
    "from bs4 import BeautifulSoup\n",
    "import json\n",
    "import re\n",
    "import time\n",
    "from time import gmtime, strftime \n",
    "import os\n",
    "import pytz\n",
    "from datetime import datetime"
   ]
  },
  {
   "cell_type": "markdown",
   "metadata": {},
   "source": [
    "Scrape the dashboard page"
   ]
  },
  {
   "cell_type": "code",
   "execution_count": 2,
   "metadata": {
    "execution": {
     "iopub.execute_input": "2021-03-14T05:12:50.288649Z",
     "iopub.status.busy": "2021-03-14T05:12:50.285552Z",
     "iopub.status.idle": "2021-03-14T05:12:50.842928Z",
     "shell.execute_reply": "2021-03-14T05:12:50.841804Z"
    }
   },
   "outputs": [],
   "source": [
    "url = \"https://public.tableau.com/interactive/views/COVID-19VaccineDashboardPublic/Vaccine?:embed=y&:showVizHome=n&:apiID=host0\"\n",
    "\n",
    "r = requests.get(url)\n",
    "soup = BeautifulSoup(r.text, \"html.parser\")"
   ]
  },
  {
   "cell_type": "code",
   "execution_count": 3,
   "metadata": {
    "execution": {
     "iopub.execute_input": "2021-03-14T05:12:50.849684Z",
     "iopub.status.busy": "2021-03-14T05:12:50.849042Z",
     "iopub.status.idle": "2021-03-14T05:12:50.850588Z",
     "shell.execute_reply": "2021-03-14T05:12:50.850962Z"
    }
   },
   "outputs": [],
   "source": [
    "tableauData = json.loads(soup.find(\"textarea\",{\"id\": \"tsConfigContainer\"}).text)"
   ]
  },
  {
   "cell_type": "markdown",
   "metadata": {},
   "source": [
    "Get the link to the Tableau data"
   ]
  },
  {
   "cell_type": "code",
   "execution_count": 4,
   "metadata": {
    "execution": {
     "iopub.execute_input": "2021-03-14T05:12:50.855313Z",
     "iopub.status.busy": "2021-03-14T05:12:50.854106Z",
     "iopub.status.idle": "2021-03-14T05:12:50.855901Z",
     "shell.execute_reply": "2021-03-14T05:12:50.856258Z"
    }
   },
   "outputs": [],
   "source": [
    "dataUrl = f'https://public.tableau.com{tableauData[\"vizql_root\"]}/bootstrapSession/sessions/{tableauData[\"sessionid\"]}'"
   ]
  },
  {
   "cell_type": "code",
   "execution_count": 5,
   "metadata": {
    "execution": {
     "iopub.execute_input": "2021-03-14T05:12:50.861977Z",
     "iopub.status.busy": "2021-03-14T05:12:50.861451Z",
     "iopub.status.idle": "2021-03-14T05:12:51.318179Z",
     "shell.execute_reply": "2021-03-14T05:12:51.317153Z"
    }
   },
   "outputs": [],
   "source": [
    "r = requests.post(dataUrl, data= {\n",
    "    \"sheet_id\": tableauData[\"sheetId\"],\n",
    "})\n",
    "\n",
    "dataReg = re.search('\\d+;({.*})\\d+;({.*})', r.text, re.MULTILINE)\n",
    "data1 = json.loads(dataReg.group(2))\n",
    "\n",
    "dataJson = data1[\"secondaryInfo\"][\"presModelMap\"][\"dataDictionary\"][\"presModelHolder\"][\"genDataDictionaryPresModel\"][\"dataSegments\"][\"0\"][\"dataColumns\"]"
   ]
  },
  {
   "cell_type": "markdown",
   "metadata": {},
   "source": [
    "Isolate what you want"
   ]
  },
  {
   "cell_type": "code",
   "execution_count": 6,
   "metadata": {
    "execution": {
     "iopub.execute_input": "2021-03-14T05:12:51.321841Z",
     "iopub.status.busy": "2021-03-14T05:12:51.321310Z",
     "iopub.status.idle": "2021-03-14T05:12:51.324632Z",
     "shell.execute_reply": "2021-03-14T05:12:51.324296Z"
    }
   },
   "outputs": [],
   "source": [
    "counties = dataJson[2]['dataValues'][:58]"
   ]
  },
  {
   "cell_type": "code",
   "execution_count": 7,
   "metadata": {
    "execution": {
     "iopub.execute_input": "2021-03-14T05:12:51.327605Z",
     "iopub.status.busy": "2021-03-14T05:12:51.327231Z",
     "iopub.status.idle": "2021-03-14T05:12:51.330325Z",
     "shell.execute_reply": "2021-03-14T05:12:51.329950Z"
    }
   },
   "outputs": [],
   "source": [
    "doses = dataJson[0]['dataValues'][3:61]"
   ]
  },
  {
   "cell_type": "markdown",
   "metadata": {},
   "source": [
    "Data formatting"
   ]
  },
  {
   "cell_type": "code",
   "execution_count": 8,
   "metadata": {
    "execution": {
     "iopub.execute_input": "2021-03-14T05:12:51.333530Z",
     "iopub.status.busy": "2021-03-14T05:12:51.333166Z",
     "iopub.status.idle": "2021-03-14T05:12:51.336820Z",
     "shell.execute_reply": "2021-03-14T05:12:51.336389Z"
    }
   },
   "outputs": [],
   "source": [
    "zipped = dict(zip(counties, doses))"
   ]
  },
  {
   "cell_type": "code",
   "execution_count": 9,
   "metadata": {
    "execution": {
     "iopub.execute_input": "2021-03-14T05:12:51.342424Z",
     "iopub.status.busy": "2021-03-14T05:12:51.341910Z",
     "iopub.status.idle": "2021-03-14T05:12:51.344958Z",
     "shell.execute_reply": "2021-03-14T05:12:51.345393Z"
    }
   },
   "outputs": [],
   "source": [
    "df = pd.Series(zipped).reset_index()"
   ]
  },
  {
   "cell_type": "code",
   "execution_count": 10,
   "metadata": {
    "execution": {
     "iopub.execute_input": "2021-03-14T05:12:51.349121Z",
     "iopub.status.busy": "2021-03-14T05:12:51.348652Z",
     "iopub.status.idle": "2021-03-14T05:12:51.351858Z",
     "shell.execute_reply": "2021-03-14T05:12:51.351364Z"
    }
   },
   "outputs": [],
   "source": [
    "df.columns = ['location','doses']"
   ]
  },
  {
   "cell_type": "markdown",
   "metadata": {},
   "source": [
    "Grab the overall California total"
   ]
  },
  {
   "cell_type": "code",
   "execution_count": 11,
   "metadata": {
    "execution": {
     "iopub.execute_input": "2021-03-14T05:12:51.354998Z",
     "iopub.status.busy": "2021-03-14T05:12:51.354496Z",
     "iopub.status.idle": "2021-03-14T05:12:51.357811Z",
     "shell.execute_reply": "2021-03-14T05:12:51.357411Z"
    }
   },
   "outputs": [],
   "source": [
    "add = {'location':'California','doses':dataJson[0]['dataValues'][2]}"
   ]
  },
  {
   "cell_type": "code",
   "execution_count": 12,
   "metadata": {
    "execution": {
     "iopub.execute_input": "2021-03-14T05:12:51.363280Z",
     "iopub.status.busy": "2021-03-14T05:12:51.362796Z",
     "iopub.status.idle": "2021-03-14T05:12:51.366676Z",
     "shell.execute_reply": "2021-03-14T05:12:51.366008Z"
    }
   },
   "outputs": [],
   "source": [
    "df = df.append(add, ignore_index=True)"
   ]
  },
  {
   "cell_type": "code",
   "execution_count": 13,
   "metadata": {
    "execution": {
     "iopub.execute_input": "2021-03-14T05:12:51.370575Z",
     "iopub.status.busy": "2021-03-14T05:12:51.370080Z",
     "iopub.status.idle": "2021-03-14T05:12:51.373183Z",
     "shell.execute_reply": "2021-03-14T05:12:51.372809Z"
    }
   },
   "outputs": [],
   "source": [
    "df = df.sort_values(by='location')"
   ]
  },
  {
   "cell_type": "code",
   "execution_count": 14,
   "metadata": {
    "execution": {
     "iopub.execute_input": "2021-03-14T05:12:51.378465Z",
     "iopub.status.busy": "2021-03-14T05:12:51.377988Z",
     "iopub.status.idle": "2021-03-14T05:12:51.381343Z",
     "shell.execute_reply": "2021-03-14T05:12:51.380906Z"
    }
   },
   "outputs": [],
   "source": [
    "df = df[df.location == 'California'].append(df[df.location != 'California']).reset_index(drop=True)"
   ]
  },
  {
   "cell_type": "code",
   "execution_count": null,
   "metadata": {},
   "outputs": [],
   "source": []
  },
  {
   "cell_type": "code",
   "execution_count": 15,
   "metadata": {
    "execution": {
     "iopub.execute_input": "2021-03-14T05:12:51.384456Z",
     "iopub.status.busy": "2021-03-14T05:12:51.383912Z",
     "iopub.status.idle": "2021-03-14T05:12:51.402241Z",
     "shell.execute_reply": "2021-03-14T05:12:51.401657Z"
    }
   },
   "outputs": [],
   "source": [
    "tz = pytz.timezone(\"America/New_York\")"
   ]
  },
  {
   "cell_type": "code",
   "execution_count": 16,
   "metadata": {
    "execution": {
     "iopub.execute_input": "2021-03-14T05:12:51.404900Z",
     "iopub.status.busy": "2021-03-14T05:12:51.404536Z",
     "iopub.status.idle": "2021-03-14T05:12:51.408242Z",
     "shell.execute_reply": "2021-03-14T05:12:51.407636Z"
    }
   },
   "outputs": [],
   "source": [
    "today = datetime.now(tz).date()"
   ]
  },
  {
   "cell_type": "code",
   "execution_count": 17,
   "metadata": {
    "execution": {
     "iopub.execute_input": "2021-03-14T05:12:51.411298Z",
     "iopub.status.busy": "2021-03-14T05:12:51.410725Z",
     "iopub.status.idle": "2021-03-14T05:12:51.414414Z",
     "shell.execute_reply": "2021-03-14T05:12:51.414086Z"
    }
   },
   "outputs": [],
   "source": [
    "data_dir = os.path.join(os.path.abspath(\"\"), \"data\")"
   ]
  },
  {
   "cell_type": "code",
   "execution_count": 18,
   "metadata": {
    "execution": {
     "iopub.execute_input": "2021-03-14T05:12:51.417923Z",
     "iopub.status.busy": "2021-03-14T05:12:51.417429Z",
     "iopub.status.idle": "2021-03-14T05:12:51.422852Z",
     "shell.execute_reply": "2021-03-14T05:12:51.422523Z"
    }
   },
   "outputs": [],
   "source": [
    "df.to_csv(os.path.join(data_dir, f\"{today}.csv\"), index=False)"
   ]
  },
  {
   "cell_type": "code",
   "execution_count": null,
   "metadata": {},
   "outputs": [],
   "source": []
  }
 ],
 "metadata": {
  "kernelspec": {
   "display_name": "Python 3",
   "language": "python",
   "name": "python3"
  },
  "language_info": {
   "codemirror_mode": {
    "name": "ipython",
    "version": 3
   },
   "file_extension": ".py",
   "mimetype": "text/x-python",
   "name": "python",
   "nbconvert_exporter": "python",
   "pygments_lexer": "ipython3",
   "version": "3.8.8"
  }
 },
 "nbformat": 4,
 "nbformat_minor": 4
}
