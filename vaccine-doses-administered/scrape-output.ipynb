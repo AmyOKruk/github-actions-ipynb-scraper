{
 "cells": [
  {
   "cell_type": "markdown",
   "metadata": {},
   "source": [
    "# California COVID vaccinations scrape"
   ]
  },
  {
   "cell_type": "markdown",
   "metadata": {},
   "source": [
    "By [Amy O'Kruk](https://twitter.com/amyokruk)"
   ]
  },
  {
   "cell_type": "markdown",
   "metadata": {},
   "source": [
    "Downloads data on vaccine doses administered by county and statewide from a Tableau-powered dashboard from the California Department of Public Health."
   ]
  },
  {
   "cell_type": "code",
   "execution_count": 1,
   "metadata": {
    "execution": {
     "iopub.execute_input": "2021-03-19T20:13:47.375897Z",
     "iopub.status.busy": "2021-03-19T20:13:47.375338Z",
     "iopub.status.idle": "2021-03-19T20:13:47.723167Z",
     "shell.execute_reply": "2021-03-19T20:13:47.721719Z"
    }
   },
   "outputs": [],
   "source": [
    "import pandas as pd\n",
    "import requests\n",
    "from bs4 import BeautifulSoup\n",
    "import json\n",
    "import re\n",
    "import time\n",
    "from time import gmtime, strftime \n",
    "import os\n",
    "import pytz\n",
    "from datetime import datetime"
   ]
  },
  {
   "cell_type": "markdown",
   "metadata": {},
   "source": [
    "Scrape the dashboard page"
   ]
  },
  {
   "cell_type": "code",
   "execution_count": 2,
   "metadata": {
    "execution": {
     "iopub.execute_input": "2021-03-19T20:13:47.729026Z",
     "iopub.status.busy": "2021-03-19T20:13:47.726984Z",
     "iopub.status.idle": "2021-03-19T20:13:48.121102Z",
     "shell.execute_reply": "2021-03-19T20:13:48.120131Z"
    }
   },
   "outputs": [],
   "source": [
    "url = \"https://public.tableau.com/interactive/views/COVID-19VaccineDashboardPublic/Vaccine?:embed=y&:showVizHome=n&:apiID=host0\"\n",
    "\n",
    "r = requests.get(url)\n",
    "soup = BeautifulSoup(r.text, \"html.parser\")"
   ]
  },
  {
   "cell_type": "code",
   "execution_count": 3,
   "metadata": {
    "execution": {
     "iopub.execute_input": "2021-03-19T20:13:48.125145Z",
     "iopub.status.busy": "2021-03-19T20:13:48.124718Z",
     "iopub.status.idle": "2021-03-19T20:13:48.128161Z",
     "shell.execute_reply": "2021-03-19T20:13:48.127754Z"
    }
   },
   "outputs": [],
   "source": [
    "tableauData = json.loads(soup.find(\"textarea\",{\"id\": \"tsConfigContainer\"}).text)"
   ]
  },
  {
   "cell_type": "markdown",
   "metadata": {},
   "source": [
    "Get the link to the Tableau data"
   ]
  },
  {
   "cell_type": "code",
   "execution_count": 4,
   "metadata": {
    "execution": {
     "iopub.execute_input": "2021-03-19T20:13:48.131524Z",
     "iopub.status.busy": "2021-03-19T20:13:48.130802Z",
     "iopub.status.idle": "2021-03-19T20:13:48.132309Z",
     "shell.execute_reply": "2021-03-19T20:13:48.132628Z"
    }
   },
   "outputs": [],
   "source": [
    "dataUrl = f'https://public.tableau.com{tableauData[\"vizql_root\"]}/bootstrapSession/sessions/{tableauData[\"sessionid\"]}'"
   ]
  },
  {
   "cell_type": "code",
   "execution_count": 5,
   "metadata": {
    "execution": {
     "iopub.execute_input": "2021-03-19T20:13:48.138959Z",
     "iopub.status.busy": "2021-03-19T20:13:48.138448Z",
     "iopub.status.idle": "2021-03-19T20:13:48.462306Z",
     "shell.execute_reply": "2021-03-19T20:13:48.461466Z"
    }
   },
   "outputs": [],
   "source": [
    "r = requests.post(dataUrl, data= {\n",
    "    \"sheet_id\": tableauData[\"sheetId\"],\n",
    "})\n",
    "\n",
    "dataReg = re.search('\\d+;({.*})\\d+;({.*})', r.text, re.MULTILINE)\n",
    "data1 = json.loads(dataReg.group(2))\n",
    "\n",
    "dataJson = data1[\"secondaryInfo\"][\"presModelMap\"][\"dataDictionary\"][\"presModelHolder\"][\"genDataDictionaryPresModel\"][\"dataSegments\"][\"0\"][\"dataColumns\"]"
   ]
  },
  {
   "cell_type": "markdown",
   "metadata": {},
   "source": [
    "Isolate what you want"
   ]
  },
  {
   "cell_type": "code",
   "execution_count": 6,
   "metadata": {
    "execution": {
     "iopub.execute_input": "2021-03-19T20:13:48.467268Z",
     "iopub.status.busy": "2021-03-19T20:13:48.466190Z",
     "iopub.status.idle": "2021-03-19T20:13:48.467787Z",
     "shell.execute_reply": "2021-03-19T20:13:48.468175Z"
    }
   },
   "outputs": [],
   "source": [
    "counties = dataJson[2]['dataValues'][:58]"
   ]
  },
  {
   "cell_type": "code",
   "execution_count": 7,
   "metadata": {
    "execution": {
     "iopub.execute_input": "2021-03-19T20:13:48.471943Z",
     "iopub.status.busy": "2021-03-19T20:13:48.471214Z",
     "iopub.status.idle": "2021-03-19T20:13:48.472644Z",
     "shell.execute_reply": "2021-03-19T20:13:48.473072Z"
    }
   },
   "outputs": [],
   "source": [
    "doses = dataJson[0]['dataValues'][3:61]"
   ]
  },
  {
   "cell_type": "markdown",
   "metadata": {},
   "source": [
    "Data formatting"
   ]
  },
  {
   "cell_type": "code",
   "execution_count": 8,
   "metadata": {
    "execution": {
     "iopub.execute_input": "2021-03-19T20:13:48.476262Z",
     "iopub.status.busy": "2021-03-19T20:13:48.475903Z",
     "iopub.status.idle": "2021-03-19T20:13:48.477594Z",
     "shell.execute_reply": "2021-03-19T20:13:48.477988Z"
    }
   },
   "outputs": [],
   "source": [
    "zipped = dict(zip(counties, doses))"
   ]
  },
  {
   "cell_type": "code",
   "execution_count": 9,
   "metadata": {
    "execution": {
     "iopub.execute_input": "2021-03-19T20:13:48.483388Z",
     "iopub.status.busy": "2021-03-19T20:13:48.482653Z",
     "iopub.status.idle": "2021-03-19T20:13:48.484566Z",
     "shell.execute_reply": "2021-03-19T20:13:48.484153Z"
    }
   },
   "outputs": [],
   "source": [
    "df = pd.Series(zipped).reset_index()"
   ]
  },
  {
   "cell_type": "code",
   "execution_count": 10,
   "metadata": {
    "execution": {
     "iopub.execute_input": "2021-03-19T20:13:48.487855Z",
     "iopub.status.busy": "2021-03-19T20:13:48.487052Z",
     "iopub.status.idle": "2021-03-19T20:13:48.488680Z",
     "shell.execute_reply": "2021-03-19T20:13:48.489071Z"
    }
   },
   "outputs": [],
   "source": [
    "df.columns = ['location','doses']"
   ]
  },
  {
   "cell_type": "markdown",
   "metadata": {},
   "source": [
    "Grab the overall California total"
   ]
  },
  {
   "cell_type": "code",
   "execution_count": 11,
   "metadata": {
    "execution": {
     "iopub.execute_input": "2021-03-19T20:13:48.492587Z",
     "iopub.status.busy": "2021-03-19T20:13:48.491864Z",
     "iopub.status.idle": "2021-03-19T20:13:48.493959Z",
     "shell.execute_reply": "2021-03-19T20:13:48.493512Z"
    }
   },
   "outputs": [],
   "source": [
    "add = {'location':'California','doses':dataJson[0]['dataValues'][2]}"
   ]
  },
  {
   "cell_type": "code",
   "execution_count": 12,
   "metadata": {
    "execution": {
     "iopub.execute_input": "2021-03-19T20:13:48.499960Z",
     "iopub.status.busy": "2021-03-19T20:13:48.499043Z",
     "iopub.status.idle": "2021-03-19T20:13:48.500730Z",
     "shell.execute_reply": "2021-03-19T20:13:48.501123Z"
    }
   },
   "outputs": [],
   "source": [
    "df = df.append(add, ignore_index=True)"
   ]
  },
  {
   "cell_type": "code",
   "execution_count": 13,
   "metadata": {
    "execution": {
     "iopub.execute_input": "2021-03-19T20:13:48.505406Z",
     "iopub.status.busy": "2021-03-19T20:13:48.504581Z",
     "iopub.status.idle": "2021-03-19T20:13:48.506267Z",
     "shell.execute_reply": "2021-03-19T20:13:48.506693Z"
    }
   },
   "outputs": [],
   "source": [
    "df = df.sort_values(by='location')"
   ]
  },
  {
   "cell_type": "code",
   "execution_count": 14,
   "metadata": {
    "execution": {
     "iopub.execute_input": "2021-03-19T20:13:48.512442Z",
     "iopub.status.busy": "2021-03-19T20:13:48.511617Z",
     "iopub.status.idle": "2021-03-19T20:13:48.513584Z",
     "shell.execute_reply": "2021-03-19T20:13:48.513195Z"
    }
   },
   "outputs": [],
   "source": [
    "df = df[df.location == 'California'].append(df[df.location != 'California']).reset_index(drop=True)"
   ]
  },
  {
   "cell_type": "code",
   "execution_count": null,
   "metadata": {},
   "outputs": [],
   "source": []
  },
  {
   "cell_type": "code",
   "execution_count": 15,
   "metadata": {
    "execution": {
     "iopub.execute_input": "2021-03-19T20:13:48.516567Z",
     "iopub.status.busy": "2021-03-19T20:13:48.516099Z",
     "iopub.status.idle": "2021-03-19T20:13:48.531266Z",
     "shell.execute_reply": "2021-03-19T20:13:48.530859Z"
    }
   },
   "outputs": [],
   "source": [
    "tz = pytz.timezone(\"America/New_York\")"
   ]
  },
  {
   "cell_type": "code",
   "execution_count": 16,
   "metadata": {
    "execution": {
     "iopub.execute_input": "2021-03-19T20:13:48.535099Z",
     "iopub.status.busy": "2021-03-19T20:13:48.533871Z",
     "iopub.status.idle": "2021-03-19T20:13:48.535668Z",
     "shell.execute_reply": "2021-03-19T20:13:48.536060Z"
    }
   },
   "outputs": [],
   "source": [
    "today = datetime.now(tz).date()"
   ]
  },
  {
   "cell_type": "code",
   "execution_count": 17,
   "metadata": {
    "execution": {
     "iopub.execute_input": "2021-03-19T20:13:48.539670Z",
     "iopub.status.busy": "2021-03-19T20:13:48.538851Z",
     "iopub.status.idle": "2021-03-19T20:13:48.540920Z",
     "shell.execute_reply": "2021-03-19T20:13:48.540523Z"
    }
   },
   "outputs": [],
   "source": [
    "data_dir = os.path.join(os.path.abspath(\"\"), \"data\")"
   ]
  },
  {
   "cell_type": "code",
   "execution_count": 18,
   "metadata": {
    "execution": {
     "iopub.execute_input": "2021-03-19T20:13:48.544434Z",
     "iopub.status.busy": "2021-03-19T20:13:48.543411Z",
     "iopub.status.idle": "2021-03-19T20:13:48.547339Z",
     "shell.execute_reply": "2021-03-19T20:13:48.546917Z"
    }
   },
   "outputs": [],
   "source": [
    "df.to_csv(os.path.join(data_dir, f\"{today}.csv\"), index=False)"
   ]
  },
  {
   "cell_type": "code",
   "execution_count": null,
   "metadata": {},
   "outputs": [],
   "source": []
  }
 ],
 "metadata": {
  "kernelspec": {
   "display_name": "Python 3",
   "language": "python",
   "name": "python3"
  },
  "language_info": {
   "codemirror_mode": {
    "name": "ipython",
    "version": 3
   },
   "file_extension": ".py",
   "mimetype": "text/x-python",
   "name": "python",
   "nbconvert_exporter": "python",
   "pygments_lexer": "ipython3",
   "version": "3.8.8"
  }
 },
 "nbformat": 4,
 "nbformat_minor": 4
}
