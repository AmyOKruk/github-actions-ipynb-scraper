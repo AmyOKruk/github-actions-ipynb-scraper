{
 "cells": [
  {
   "cell_type": "markdown",
   "metadata": {},
   "source": [
    "# California COVID vaccinations scrape"
   ]
  },
  {
   "cell_type": "markdown",
   "metadata": {},
   "source": [
    "By [Amy O'Kruk](https://twitter.com/amyokruk)"
   ]
  },
  {
   "cell_type": "markdown",
   "metadata": {},
   "source": [
    "Downloads data on vaccine doses administered by county and statewide from a Tableau-powered dashboard from the California Department of Public Health."
   ]
  },
  {
   "cell_type": "code",
   "execution_count": 1,
   "metadata": {
    "execution": {
     "iopub.execute_input": "2021-03-12T11:12:15.731231Z",
     "iopub.status.busy": "2021-03-12T11:12:15.730578Z",
     "iopub.status.idle": "2021-03-12T11:12:16.106439Z",
     "shell.execute_reply": "2021-03-12T11:12:16.107203Z"
    }
   },
   "outputs": [],
   "source": [
    "import pandas as pd\n",
    "import requests\n",
    "from bs4 import BeautifulSoup\n",
    "import json\n",
    "import re\n",
    "import time\n",
    "from time import gmtime, strftime \n",
    "import os\n",
    "import pytz\n",
    "from datetime import datetime"
   ]
  },
  {
   "cell_type": "markdown",
   "metadata": {},
   "source": [
    "Scrape the dashboard page"
   ]
  },
  {
   "cell_type": "code",
   "execution_count": 2,
   "metadata": {
    "execution": {
     "iopub.execute_input": "2021-03-12T11:12:16.112863Z",
     "iopub.status.busy": "2021-03-12T11:12:16.110969Z",
     "iopub.status.idle": "2021-03-12T11:12:16.566634Z",
     "shell.execute_reply": "2021-03-12T11:12:16.566058Z"
    }
   },
   "outputs": [],
   "source": [
    "url = \"https://public.tableau.com/interactive/views/COVID-19VaccineDashboardPublic/Vaccine?:embed=y&:showVizHome=n&:apiID=host0\"\n",
    "\n",
    "r = requests.get(url)\n",
    "soup = BeautifulSoup(r.text, \"html.parser\")"
   ]
  },
  {
   "cell_type": "code",
   "execution_count": 3,
   "metadata": {
    "execution": {
     "iopub.execute_input": "2021-03-12T11:12:16.570520Z",
     "iopub.status.busy": "2021-03-12T11:12:16.570102Z",
     "iopub.status.idle": "2021-03-12T11:12:16.573738Z",
     "shell.execute_reply": "2021-03-12T11:12:16.573366Z"
    }
   },
   "outputs": [],
   "source": [
    "tableauData = json.loads(soup.find(\"textarea\",{\"id\": \"tsConfigContainer\"}).text)"
   ]
  },
  {
   "cell_type": "markdown",
   "metadata": {},
   "source": [
    "Get the link to the Tableau data"
   ]
  },
  {
   "cell_type": "code",
   "execution_count": 4,
   "metadata": {
    "execution": {
     "iopub.execute_input": "2021-03-12T11:12:16.576844Z",
     "iopub.status.busy": "2021-03-12T11:12:16.576279Z",
     "iopub.status.idle": "2021-03-12T11:12:16.579010Z",
     "shell.execute_reply": "2021-03-12T11:12:16.579320Z"
    }
   },
   "outputs": [],
   "source": [
    "dataUrl = f'https://public.tableau.com{tableauData[\"vizql_root\"]}/bootstrapSession/sessions/{tableauData[\"sessionid\"]}'"
   ]
  },
  {
   "cell_type": "code",
   "execution_count": 5,
   "metadata": {
    "execution": {
     "iopub.execute_input": "2021-03-12T11:12:16.584911Z",
     "iopub.status.busy": "2021-03-12T11:12:16.584533Z",
     "iopub.status.idle": "2021-03-12T11:12:16.783361Z",
     "shell.execute_reply": "2021-03-12T11:12:16.782750Z"
    }
   },
   "outputs": [],
   "source": [
    "r = requests.post(dataUrl, data= {\n",
    "    \"sheet_id\": tableauData[\"sheetId\"],\n",
    "})\n",
    "\n",
    "dataReg = re.search('\\d+;({.*})\\d+;({.*})', r.text, re.MULTILINE)\n",
    "data1 = json.loads(dataReg.group(2))\n",
    "\n",
    "dataJson = data1[\"secondaryInfo\"][\"presModelMap\"][\"dataDictionary\"][\"presModelHolder\"][\"genDataDictionaryPresModel\"][\"dataSegments\"][\"0\"][\"dataColumns\"]"
   ]
  },
  {
   "cell_type": "markdown",
   "metadata": {},
   "source": [
    "Isolate what you want"
   ]
  },
  {
   "cell_type": "code",
   "execution_count": 6,
   "metadata": {
    "execution": {
     "iopub.execute_input": "2021-03-12T11:12:16.788531Z",
     "iopub.status.busy": "2021-03-12T11:12:16.787983Z",
     "iopub.status.idle": "2021-03-12T11:12:16.791175Z",
     "shell.execute_reply": "2021-03-12T11:12:16.790801Z"
    }
   },
   "outputs": [],
   "source": [
    "counties = dataJson[2]['dataValues'][:58]"
   ]
  },
  {
   "cell_type": "code",
   "execution_count": 7,
   "metadata": {
    "execution": {
     "iopub.execute_input": "2021-03-12T11:12:16.794260Z",
     "iopub.status.busy": "2021-03-12T11:12:16.793787Z",
     "iopub.status.idle": "2021-03-12T11:12:16.796750Z",
     "shell.execute_reply": "2021-03-12T11:12:16.797132Z"
    }
   },
   "outputs": [],
   "source": [
    "doses = dataJson[0]['dataValues'][3:61]"
   ]
  },
  {
   "cell_type": "markdown",
   "metadata": {},
   "source": [
    "Data formatting"
   ]
  },
  {
   "cell_type": "code",
   "execution_count": 8,
   "metadata": {
    "execution": {
     "iopub.execute_input": "2021-03-12T11:12:16.800356Z",
     "iopub.status.busy": "2021-03-12T11:12:16.799881Z",
     "iopub.status.idle": "2021-03-12T11:12:16.803069Z",
     "shell.execute_reply": "2021-03-12T11:12:16.802644Z"
    }
   },
   "outputs": [],
   "source": [
    "zipped = dict(zip(counties, doses))"
   ]
  },
  {
   "cell_type": "code",
   "execution_count": 9,
   "metadata": {
    "execution": {
     "iopub.execute_input": "2021-03-12T11:12:16.808014Z",
     "iopub.status.busy": "2021-03-12T11:12:16.807536Z",
     "iopub.status.idle": "2021-03-12T11:12:16.810827Z",
     "shell.execute_reply": "2021-03-12T11:12:16.810406Z"
    }
   },
   "outputs": [],
   "source": [
    "df = pd.Series(zipped).reset_index()"
   ]
  },
  {
   "cell_type": "code",
   "execution_count": 10,
   "metadata": {
    "execution": {
     "iopub.execute_input": "2021-03-12T11:12:16.814712Z",
     "iopub.status.busy": "2021-03-12T11:12:16.813886Z",
     "iopub.status.idle": "2021-03-12T11:12:16.815910Z",
     "shell.execute_reply": "2021-03-12T11:12:16.815517Z"
    }
   },
   "outputs": [],
   "source": [
    "df.columns = ['location','doses']"
   ]
  },
  {
   "cell_type": "markdown",
   "metadata": {},
   "source": [
    "Grab the overall California total"
   ]
  },
  {
   "cell_type": "code",
   "execution_count": 11,
   "metadata": {
    "execution": {
     "iopub.execute_input": "2021-03-12T11:12:16.819549Z",
     "iopub.status.busy": "2021-03-12T11:12:16.818786Z",
     "iopub.status.idle": "2021-03-12T11:12:16.820314Z",
     "shell.execute_reply": "2021-03-12T11:12:16.820707Z"
    }
   },
   "outputs": [],
   "source": [
    "add = {'location':'California','doses':dataJson[0]['dataValues'][2]}"
   ]
  },
  {
   "cell_type": "code",
   "execution_count": 12,
   "metadata": {
    "execution": {
     "iopub.execute_input": "2021-03-12T11:12:16.826734Z",
     "iopub.status.busy": "2021-03-12T11:12:16.825824Z",
     "iopub.status.idle": "2021-03-12T11:12:16.827692Z",
     "shell.execute_reply": "2021-03-12T11:12:16.828109Z"
    }
   },
   "outputs": [],
   "source": [
    "df = df.append(add, ignore_index=True)"
   ]
  },
  {
   "cell_type": "code",
   "execution_count": 13,
   "metadata": {
    "execution": {
     "iopub.execute_input": "2021-03-12T11:12:16.832477Z",
     "iopub.status.busy": "2021-03-12T11:12:16.831582Z",
     "iopub.status.idle": "2021-03-12T11:12:16.833325Z",
     "shell.execute_reply": "2021-03-12T11:12:16.833724Z"
    }
   },
   "outputs": [],
   "source": [
    "df = df.sort_values(by='location')"
   ]
  },
  {
   "cell_type": "code",
   "execution_count": 14,
   "metadata": {
    "execution": {
     "iopub.execute_input": "2021-03-12T11:12:16.839867Z",
     "iopub.status.busy": "2021-03-12T11:12:16.838777Z",
     "iopub.status.idle": "2021-03-12T11:12:16.840515Z",
     "shell.execute_reply": "2021-03-12T11:12:16.840873Z"
    }
   },
   "outputs": [],
   "source": [
    "df = df[df.location == 'California'].append(df[df.location != 'California']).reset_index(drop=True)"
   ]
  },
  {
   "cell_type": "code",
   "execution_count": null,
   "metadata": {},
   "outputs": [],
   "source": []
  },
  {
   "cell_type": "code",
   "execution_count": 15,
   "metadata": {
    "execution": {
     "iopub.execute_input": "2021-03-12T11:12:16.844030Z",
     "iopub.status.busy": "2021-03-12T11:12:16.843556Z",
     "iopub.status.idle": "2021-03-12T11:12:16.858503Z",
     "shell.execute_reply": "2021-03-12T11:12:16.857879Z"
    }
   },
   "outputs": [],
   "source": [
    "tz = pytz.timezone(\"America/New_York\")"
   ]
  },
  {
   "cell_type": "code",
   "execution_count": 16,
   "metadata": {
    "execution": {
     "iopub.execute_input": "2021-03-12T11:12:16.862502Z",
     "iopub.status.busy": "2021-03-12T11:12:16.861431Z",
     "iopub.status.idle": "2021-03-12T11:12:16.863103Z",
     "shell.execute_reply": "2021-03-12T11:12:16.863537Z"
    }
   },
   "outputs": [],
   "source": [
    "today = datetime.now(tz).date()"
   ]
  },
  {
   "cell_type": "code",
   "execution_count": 17,
   "metadata": {
    "execution": {
     "iopub.execute_input": "2021-03-12T11:12:16.866495Z",
     "iopub.status.busy": "2021-03-12T11:12:16.866108Z",
     "iopub.status.idle": "2021-03-12T11:12:16.868107Z",
     "shell.execute_reply": "2021-03-12T11:12:16.867678Z"
    }
   },
   "outputs": [],
   "source": [
    "data_dir = os.path.join(os.path.abspath(\"\"), \"data\")"
   ]
  },
  {
   "cell_type": "code",
   "execution_count": 18,
   "metadata": {
    "execution": {
     "iopub.execute_input": "2021-03-12T11:12:16.871617Z",
     "iopub.status.busy": "2021-03-12T11:12:16.870941Z",
     "iopub.status.idle": "2021-03-12T11:12:16.876314Z",
     "shell.execute_reply": "2021-03-12T11:12:16.875864Z"
    }
   },
   "outputs": [],
   "source": [
    "df.to_csv(os.path.join(data_dir, f\"{today}.csv\"), index=False)"
   ]
  },
  {
   "cell_type": "code",
   "execution_count": null,
   "metadata": {},
   "outputs": [],
   "source": []
  }
 ],
 "metadata": {
  "kernelspec": {
   "display_name": "Python 3",
   "language": "python",
   "name": "python3"
  },
  "language_info": {
   "codemirror_mode": {
    "name": "ipython",
    "version": 3
   },
   "file_extension": ".py",
   "mimetype": "text/x-python",
   "name": "python",
   "nbconvert_exporter": "python",
   "pygments_lexer": "ipython3",
   "version": "3.8.8"
  }
 },
 "nbformat": 4,
 "nbformat_minor": 4
}
