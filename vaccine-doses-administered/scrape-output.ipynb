{
 "cells": [
  {
   "cell_type": "markdown",
   "metadata": {},
   "source": [
    "# California COVID vaccinations scrape"
   ]
  },
  {
   "cell_type": "markdown",
   "metadata": {},
   "source": [
    "By [Amy O'Kruk](https://twitter.com/amyokruk)"
   ]
  },
  {
   "cell_type": "markdown",
   "metadata": {},
   "source": [
    "Downloads data on vaccine doses administered by county and statewide from a Tableau-powered dashboard from the California Department of Public Health."
   ]
  },
  {
   "cell_type": "code",
   "execution_count": 1,
   "metadata": {
    "execution": {
     "iopub.execute_input": "2021-03-19T17:14:43.337519Z",
     "iopub.status.busy": "2021-03-19T17:14:43.336366Z",
     "iopub.status.idle": "2021-03-19T17:14:43.826685Z",
     "shell.execute_reply": "2021-03-19T17:14:43.825685Z"
    }
   },
   "outputs": [],
   "source": [
    "import pandas as pd\n",
    "import requests\n",
    "from bs4 import BeautifulSoup\n",
    "import json\n",
    "import re\n",
    "import time\n",
    "from time import gmtime, strftime \n",
    "import os\n",
    "import pytz\n",
    "from datetime import datetime"
   ]
  },
  {
   "cell_type": "markdown",
   "metadata": {},
   "source": [
    "Scrape the dashboard page"
   ]
  },
  {
   "cell_type": "code",
   "execution_count": 2,
   "metadata": {
    "execution": {
     "iopub.execute_input": "2021-03-19T17:14:43.833928Z",
     "iopub.status.busy": "2021-03-19T17:14:43.830561Z",
     "iopub.status.idle": "2021-03-19T17:14:44.183245Z",
     "shell.execute_reply": "2021-03-19T17:14:44.182617Z"
    }
   },
   "outputs": [],
   "source": [
    "url = \"https://public.tableau.com/interactive/views/COVID-19VaccineDashboardPublic/Vaccine?:embed=y&:showVizHome=n&:apiID=host0\"\n",
    "\n",
    "r = requests.get(url)\n",
    "soup = BeautifulSoup(r.text, \"html.parser\")"
   ]
  },
  {
   "cell_type": "code",
   "execution_count": 3,
   "metadata": {
    "execution": {
     "iopub.execute_input": "2021-03-19T17:14:44.188978Z",
     "iopub.status.busy": "2021-03-19T17:14:44.188385Z",
     "iopub.status.idle": "2021-03-19T17:14:44.192001Z",
     "shell.execute_reply": "2021-03-19T17:14:44.192502Z"
    }
   },
   "outputs": [],
   "source": [
    "tableauData = json.loads(soup.find(\"textarea\",{\"id\": \"tsConfigContainer\"}).text)"
   ]
  },
  {
   "cell_type": "markdown",
   "metadata": {},
   "source": [
    "Get the link to the Tableau data"
   ]
  },
  {
   "cell_type": "code",
   "execution_count": 4,
   "metadata": {
    "execution": {
     "iopub.execute_input": "2021-03-19T17:14:44.196961Z",
     "iopub.status.busy": "2021-03-19T17:14:44.196226Z",
     "iopub.status.idle": "2021-03-19T17:14:44.200848Z",
     "shell.execute_reply": "2021-03-19T17:14:44.200306Z"
    }
   },
   "outputs": [],
   "source": [
    "dataUrl = f'https://public.tableau.com{tableauData[\"vizql_root\"]}/bootstrapSession/sessions/{tableauData[\"sessionid\"]}'"
   ]
  },
  {
   "cell_type": "code",
   "execution_count": 5,
   "metadata": {
    "execution": {
     "iopub.execute_input": "2021-03-19T17:14:44.208455Z",
     "iopub.status.busy": "2021-03-19T17:14:44.205101Z",
     "iopub.status.idle": "2021-03-19T17:14:44.391650Z",
     "shell.execute_reply": "2021-03-19T17:14:44.391073Z"
    }
   },
   "outputs": [],
   "source": [
    "r = requests.post(dataUrl, data= {\n",
    "    \"sheet_id\": tableauData[\"sheetId\"],\n",
    "})\n",
    "\n",
    "dataReg = re.search('\\d+;({.*})\\d+;({.*})', r.text, re.MULTILINE)\n",
    "data1 = json.loads(dataReg.group(2))\n",
    "\n",
    "dataJson = data1[\"secondaryInfo\"][\"presModelMap\"][\"dataDictionary\"][\"presModelHolder\"][\"genDataDictionaryPresModel\"][\"dataSegments\"][\"0\"][\"dataColumns\"]"
   ]
  },
  {
   "cell_type": "markdown",
   "metadata": {},
   "source": [
    "Isolate what you want"
   ]
  },
  {
   "cell_type": "code",
   "execution_count": 6,
   "metadata": {
    "execution": {
     "iopub.execute_input": "2021-03-19T17:14:44.396524Z",
     "iopub.status.busy": "2021-03-19T17:14:44.395828Z",
     "iopub.status.idle": "2021-03-19T17:14:44.399552Z",
     "shell.execute_reply": "2021-03-19T17:14:44.400104Z"
    }
   },
   "outputs": [],
   "source": [
    "counties = dataJson[2]['dataValues'][:58]"
   ]
  },
  {
   "cell_type": "code",
   "execution_count": 7,
   "metadata": {
    "execution": {
     "iopub.execute_input": "2021-03-19T17:14:44.404004Z",
     "iopub.status.busy": "2021-03-19T17:14:44.403451Z",
     "iopub.status.idle": "2021-03-19T17:14:44.407513Z",
     "shell.execute_reply": "2021-03-19T17:14:44.406849Z"
    }
   },
   "outputs": [],
   "source": [
    "doses = dataJson[0]['dataValues'][3:61]"
   ]
  },
  {
   "cell_type": "markdown",
   "metadata": {},
   "source": [
    "Data formatting"
   ]
  },
  {
   "cell_type": "code",
   "execution_count": 8,
   "metadata": {
    "execution": {
     "iopub.execute_input": "2021-03-19T17:14:44.411320Z",
     "iopub.status.busy": "2021-03-19T17:14:44.410684Z",
     "iopub.status.idle": "2021-03-19T17:14:44.414851Z",
     "shell.execute_reply": "2021-03-19T17:14:44.414352Z"
    }
   },
   "outputs": [],
   "source": [
    "zipped = dict(zip(counties, doses))"
   ]
  },
  {
   "cell_type": "code",
   "execution_count": 9,
   "metadata": {
    "execution": {
     "iopub.execute_input": "2021-03-19T17:14:44.421147Z",
     "iopub.status.busy": "2021-03-19T17:14:44.420517Z",
     "iopub.status.idle": "2021-03-19T17:14:44.424379Z",
     "shell.execute_reply": "2021-03-19T17:14:44.423909Z"
    }
   },
   "outputs": [],
   "source": [
    "df = pd.Series(zipped).reset_index()"
   ]
  },
  {
   "cell_type": "code",
   "execution_count": 10,
   "metadata": {
    "execution": {
     "iopub.execute_input": "2021-03-19T17:14:44.428033Z",
     "iopub.status.busy": "2021-03-19T17:14:44.427525Z",
     "iopub.status.idle": "2021-03-19T17:14:44.431778Z",
     "shell.execute_reply": "2021-03-19T17:14:44.430981Z"
    }
   },
   "outputs": [],
   "source": [
    "df.columns = ['location','doses']"
   ]
  },
  {
   "cell_type": "markdown",
   "metadata": {},
   "source": [
    "Grab the overall California total"
   ]
  },
  {
   "cell_type": "code",
   "execution_count": 11,
   "metadata": {
    "execution": {
     "iopub.execute_input": "2021-03-19T17:14:44.436379Z",
     "iopub.status.busy": "2021-03-19T17:14:44.435764Z",
     "iopub.status.idle": "2021-03-19T17:14:44.439173Z",
     "shell.execute_reply": "2021-03-19T17:14:44.439721Z"
    }
   },
   "outputs": [],
   "source": [
    "add = {'location':'California','doses':dataJson[0]['dataValues'][2]}"
   ]
  },
  {
   "cell_type": "code",
   "execution_count": 12,
   "metadata": {
    "execution": {
     "iopub.execute_input": "2021-03-19T17:14:44.446971Z",
     "iopub.status.busy": "2021-03-19T17:14:44.446385Z",
     "iopub.status.idle": "2021-03-19T17:14:44.451013Z",
     "shell.execute_reply": "2021-03-19T17:14:44.449926Z"
    }
   },
   "outputs": [],
   "source": [
    "df = df.append(add, ignore_index=True)"
   ]
  },
  {
   "cell_type": "code",
   "execution_count": 13,
   "metadata": {
    "execution": {
     "iopub.execute_input": "2021-03-19T17:14:44.455573Z",
     "iopub.status.busy": "2021-03-19T17:14:44.454976Z",
     "iopub.status.idle": "2021-03-19T17:14:44.458928Z",
     "shell.execute_reply": "2021-03-19T17:14:44.458194Z"
    }
   },
   "outputs": [],
   "source": [
    "df = df.sort_values(by='location')"
   ]
  },
  {
   "cell_type": "code",
   "execution_count": 14,
   "metadata": {
    "execution": {
     "iopub.execute_input": "2021-03-19T17:14:44.466057Z",
     "iopub.status.busy": "2021-03-19T17:14:44.465498Z",
     "iopub.status.idle": "2021-03-19T17:14:44.469074Z",
     "shell.execute_reply": "2021-03-19T17:14:44.469920Z"
    }
   },
   "outputs": [],
   "source": [
    "df = df[df.location == 'California'].append(df[df.location != 'California']).reset_index(drop=True)"
   ]
  },
  {
   "cell_type": "code",
   "execution_count": null,
   "metadata": {},
   "outputs": [],
   "source": []
  },
  {
   "cell_type": "code",
   "execution_count": 15,
   "metadata": {
    "execution": {
     "iopub.execute_input": "2021-03-19T17:14:44.473953Z",
     "iopub.status.busy": "2021-03-19T17:14:44.473391Z",
     "iopub.status.idle": "2021-03-19T17:14:44.494522Z",
     "shell.execute_reply": "2021-03-19T17:14:44.494983Z"
    }
   },
   "outputs": [],
   "source": [
    "tz = pytz.timezone(\"America/New_York\")"
   ]
  },
  {
   "cell_type": "code",
   "execution_count": 16,
   "metadata": {
    "execution": {
     "iopub.execute_input": "2021-03-19T17:14:44.499476Z",
     "iopub.status.busy": "2021-03-19T17:14:44.498844Z",
     "iopub.status.idle": "2021-03-19T17:14:44.502756Z",
     "shell.execute_reply": "2021-03-19T17:14:44.502219Z"
    }
   },
   "outputs": [],
   "source": [
    "today = datetime.now(tz).date()"
   ]
  },
  {
   "cell_type": "code",
   "execution_count": 17,
   "metadata": {
    "execution": {
     "iopub.execute_input": "2021-03-19T17:14:44.507015Z",
     "iopub.status.busy": "2021-03-19T17:14:44.506342Z",
     "iopub.status.idle": "2021-03-19T17:14:44.510799Z",
     "shell.execute_reply": "2021-03-19T17:14:44.510041Z"
    }
   },
   "outputs": [],
   "source": [
    "data_dir = os.path.join(os.path.abspath(\"\"), \"data\")"
   ]
  },
  {
   "cell_type": "code",
   "execution_count": 18,
   "metadata": {
    "execution": {
     "iopub.execute_input": "2021-03-19T17:14:44.516494Z",
     "iopub.status.busy": "2021-03-19T17:14:44.514598Z",
     "iopub.status.idle": "2021-03-19T17:14:44.521095Z",
     "shell.execute_reply": "2021-03-19T17:14:44.520576Z"
    }
   },
   "outputs": [],
   "source": [
    "df.to_csv(os.path.join(data_dir, f\"{today}.csv\"), index=False)"
   ]
  },
  {
   "cell_type": "code",
   "execution_count": null,
   "metadata": {},
   "outputs": [],
   "source": []
  }
 ],
 "metadata": {
  "kernelspec": {
   "display_name": "Python 3",
   "language": "python",
   "name": "python3"
  },
  "language_info": {
   "codemirror_mode": {
    "name": "ipython",
    "version": 3
   },
   "file_extension": ".py",
   "mimetype": "text/x-python",
   "name": "python",
   "nbconvert_exporter": "python",
   "pygments_lexer": "ipython3",
   "version": "3.8.8"
  }
 },
 "nbformat": 4,
 "nbformat_minor": 4
}
