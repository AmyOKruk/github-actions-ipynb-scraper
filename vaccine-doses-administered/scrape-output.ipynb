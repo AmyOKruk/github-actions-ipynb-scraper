{
 "cells": [
  {
   "cell_type": "markdown",
   "metadata": {},
   "source": [
    "# California COVID vaccinations scrape"
   ]
  },
  {
   "cell_type": "markdown",
   "metadata": {},
   "source": [
    "By [Amy O'Kruk](https://twitter.com/amyokruk)"
   ]
  },
  {
   "cell_type": "markdown",
   "metadata": {},
   "source": [
    "Downloads data on vaccine doses administered by county and statewide from a Tableau-powered dashboard from the California Department of Public Health."
   ]
  },
  {
   "cell_type": "code",
   "execution_count": 1,
   "metadata": {
    "execution": {
     "iopub.execute_input": "2021-03-25T05:10:34.017578Z",
     "iopub.status.busy": "2021-03-25T05:10:34.016924Z",
     "iopub.status.idle": "2021-03-25T05:10:34.453110Z",
     "shell.execute_reply": "2021-03-25T05:10:34.453588Z"
    }
   },
   "outputs": [],
   "source": [
    "import pandas as pd\n",
    "import requests\n",
    "from bs4 import BeautifulSoup\n",
    "import json\n",
    "import re\n",
    "import time\n",
    "from time import gmtime, strftime \n",
    "import os\n",
    "import pytz\n",
    "from datetime import datetime"
   ]
  },
  {
   "cell_type": "markdown",
   "metadata": {},
   "source": [
    "Scrape the dashboard page"
   ]
  },
  {
   "cell_type": "code",
   "execution_count": 2,
   "metadata": {
    "execution": {
     "iopub.execute_input": "2021-03-25T05:10:34.457481Z",
     "iopub.status.busy": "2021-03-25T05:10:34.455869Z",
     "iopub.status.idle": "2021-03-25T05:10:34.919536Z",
     "shell.execute_reply": "2021-03-25T05:10:34.919012Z"
    }
   },
   "outputs": [],
   "source": [
    "url = \"https://public.tableau.com/interactive/views/COVID-19VaccineDashboardPublic/Vaccine?:embed=y&:showVizHome=n&:apiID=host0\"\n",
    "\n",
    "r = requests.get(url)\n",
    "soup = BeautifulSoup(r.text, \"html.parser\")"
   ]
  },
  {
   "cell_type": "code",
   "execution_count": 3,
   "metadata": {
    "execution": {
     "iopub.execute_input": "2021-03-25T05:10:34.925346Z",
     "iopub.status.busy": "2021-03-25T05:10:34.923861Z",
     "iopub.status.idle": "2021-03-25T05:10:34.926019Z",
     "shell.execute_reply": "2021-03-25T05:10:34.926513Z"
    }
   },
   "outputs": [],
   "source": [
    "tableauData = json.loads(soup.find(\"textarea\",{\"id\": \"tsConfigContainer\"}).text)"
   ]
  },
  {
   "cell_type": "markdown",
   "metadata": {},
   "source": [
    "Get the link to the Tableau data"
   ]
  },
  {
   "cell_type": "code",
   "execution_count": 4,
   "metadata": {
    "execution": {
     "iopub.execute_input": "2021-03-25T05:10:34.931602Z",
     "iopub.status.busy": "2021-03-25T05:10:34.930326Z",
     "iopub.status.idle": "2021-03-25T05:10:34.932232Z",
     "shell.execute_reply": "2021-03-25T05:10:34.932712Z"
    }
   },
   "outputs": [],
   "source": [
    "dataUrl = f'https://public.tableau.com{tableauData[\"vizql_root\"]}/bootstrapSession/sessions/{tableauData[\"sessionid\"]}'"
   ]
  },
  {
   "cell_type": "code",
   "execution_count": 5,
   "metadata": {
    "execution": {
     "iopub.execute_input": "2021-03-25T05:10:34.939144Z",
     "iopub.status.busy": "2021-03-25T05:10:34.938553Z",
     "iopub.status.idle": "2021-03-25T05:10:35.287113Z",
     "shell.execute_reply": "2021-03-25T05:10:35.287575Z"
    }
   },
   "outputs": [],
   "source": [
    "r = requests.post(dataUrl, data= {\n",
    "    \"sheet_id\": tableauData[\"sheetId\"],\n",
    "})\n",
    "\n",
    "dataReg = re.search('\\d+;({.*})\\d+;({.*})', r.text, re.MULTILINE)\n",
    "data1 = json.loads(dataReg.group(2))\n",
    "\n",
    "dataJson = data1[\"secondaryInfo\"][\"presModelMap\"][\"dataDictionary\"][\"presModelHolder\"][\"genDataDictionaryPresModel\"][\"dataSegments\"][\"0\"][\"dataColumns\"]"
   ]
  },
  {
   "cell_type": "markdown",
   "metadata": {},
   "source": [
    "Isolate what you want"
   ]
  },
  {
   "cell_type": "code",
   "execution_count": 6,
   "metadata": {
    "execution": {
     "iopub.execute_input": "2021-03-25T05:10:35.293983Z",
     "iopub.status.busy": "2021-03-25T05:10:35.292615Z",
     "iopub.status.idle": "2021-03-25T05:10:35.294608Z",
     "shell.execute_reply": "2021-03-25T05:10:35.295081Z"
    }
   },
   "outputs": [],
   "source": [
    "counties = dataJson[2]['dataValues'][:58]"
   ]
  },
  {
   "cell_type": "code",
   "execution_count": 7,
   "metadata": {
    "execution": {
     "iopub.execute_input": "2021-03-25T05:10:35.298815Z",
     "iopub.status.busy": "2021-03-25T05:10:35.298243Z",
     "iopub.status.idle": "2021-03-25T05:10:35.301692Z",
     "shell.execute_reply": "2021-03-25T05:10:35.302149Z"
    }
   },
   "outputs": [],
   "source": [
    "doses = dataJson[0]['dataValues'][3:61]"
   ]
  },
  {
   "cell_type": "markdown",
   "metadata": {},
   "source": [
    "Data formatting"
   ]
  },
  {
   "cell_type": "code",
   "execution_count": 8,
   "metadata": {
    "execution": {
     "iopub.execute_input": "2021-03-25T05:10:35.306719Z",
     "iopub.status.busy": "2021-03-25T05:10:35.305362Z",
     "iopub.status.idle": "2021-03-25T05:10:35.307350Z",
     "shell.execute_reply": "2021-03-25T05:10:35.307824Z"
    }
   },
   "outputs": [],
   "source": [
    "zipped = dict(zip(counties, doses))"
   ]
  },
  {
   "cell_type": "code",
   "execution_count": 9,
   "metadata": {
    "execution": {
     "iopub.execute_input": "2021-03-25T05:10:35.314704Z",
     "iopub.status.busy": "2021-03-25T05:10:35.313298Z",
     "iopub.status.idle": "2021-03-25T05:10:35.315330Z",
     "shell.execute_reply": "2021-03-25T05:10:35.315805Z"
    }
   },
   "outputs": [],
   "source": [
    "df = pd.Series(zipped).reset_index()"
   ]
  },
  {
   "cell_type": "code",
   "execution_count": 10,
   "metadata": {
    "execution": {
     "iopub.execute_input": "2021-03-25T05:10:35.320521Z",
     "iopub.status.busy": "2021-03-25T05:10:35.319062Z",
     "iopub.status.idle": "2021-03-25T05:10:35.321147Z",
     "shell.execute_reply": "2021-03-25T05:10:35.321617Z"
    }
   },
   "outputs": [],
   "source": [
    "df.columns = ['location','doses']"
   ]
  },
  {
   "cell_type": "markdown",
   "metadata": {},
   "source": [
    "Grab the overall California total"
   ]
  },
  {
   "cell_type": "code",
   "execution_count": 11,
   "metadata": {
    "execution": {
     "iopub.execute_input": "2021-03-25T05:10:35.326186Z",
     "iopub.status.busy": "2021-03-25T05:10:35.324870Z",
     "iopub.status.idle": "2021-03-25T05:10:35.326895Z",
     "shell.execute_reply": "2021-03-25T05:10:35.327367Z"
    }
   },
   "outputs": [],
   "source": [
    "add = {'location':'California','doses':dataJson[0]['dataValues'][2]}"
   ]
  },
  {
   "cell_type": "code",
   "execution_count": 12,
   "metadata": {
    "execution": {
     "iopub.execute_input": "2021-03-25T05:10:35.334768Z",
     "iopub.status.busy": "2021-03-25T05:10:35.333389Z",
     "iopub.status.idle": "2021-03-25T05:10:35.336162Z",
     "shell.execute_reply": "2021-03-25T05:10:35.336777Z"
    }
   },
   "outputs": [],
   "source": [
    "df = df.append(add, ignore_index=True)"
   ]
  },
  {
   "cell_type": "code",
   "execution_count": 13,
   "metadata": {
    "execution": {
     "iopub.execute_input": "2021-03-25T05:10:35.342169Z",
     "iopub.status.busy": "2021-03-25T05:10:35.340893Z",
     "iopub.status.idle": "2021-03-25T05:10:35.342791Z",
     "shell.execute_reply": "2021-03-25T05:10:35.343263Z"
    }
   },
   "outputs": [],
   "source": [
    "df = df.sort_values(by='location')"
   ]
  },
  {
   "cell_type": "code",
   "execution_count": 14,
   "metadata": {
    "execution": {
     "iopub.execute_input": "2021-03-25T05:10:35.348848Z",
     "iopub.status.busy": "2021-03-25T05:10:35.346213Z",
     "iopub.status.idle": "2021-03-25T05:10:35.350621Z",
     "shell.execute_reply": "2021-03-25T05:10:35.351143Z"
    }
   },
   "outputs": [],
   "source": [
    "df = df[df.location == 'California'].append(df[df.location != 'California']).reset_index(drop=True)"
   ]
  },
  {
   "cell_type": "code",
   "execution_count": null,
   "metadata": {},
   "outputs": [],
   "source": []
  },
  {
   "cell_type": "code",
   "execution_count": 15,
   "metadata": {
    "execution": {
     "iopub.execute_input": "2021-03-25T05:10:35.354533Z",
     "iopub.status.busy": "2021-03-25T05:10:35.353972Z",
     "iopub.status.idle": "2021-03-25T05:10:35.372806Z",
     "shell.execute_reply": "2021-03-25T05:10:35.373253Z"
    }
   },
   "outputs": [],
   "source": [
    "tz = pytz.timezone(\"America/New_York\")"
   ]
  },
  {
   "cell_type": "code",
   "execution_count": 16,
   "metadata": {
    "execution": {
     "iopub.execute_input": "2021-03-25T05:10:35.378039Z",
     "iopub.status.busy": "2021-03-25T05:10:35.376782Z",
     "iopub.status.idle": "2021-03-25T05:10:35.378661Z",
     "shell.execute_reply": "2021-03-25T05:10:35.379141Z"
    }
   },
   "outputs": [],
   "source": [
    "today = datetime.now(tz).date()"
   ]
  },
  {
   "cell_type": "code",
   "execution_count": 17,
   "metadata": {
    "execution": {
     "iopub.execute_input": "2021-03-25T05:10:35.384387Z",
     "iopub.status.busy": "2021-03-25T05:10:35.382994Z",
     "iopub.status.idle": "2021-03-25T05:10:35.385011Z",
     "shell.execute_reply": "2021-03-25T05:10:35.385482Z"
    }
   },
   "outputs": [],
   "source": [
    "data_dir = os.path.join(os.path.abspath(\"\"), \"data\")"
   ]
  },
  {
   "cell_type": "code",
   "execution_count": 18,
   "metadata": {
    "execution": {
     "iopub.execute_input": "2021-03-25T05:10:35.389981Z",
     "iopub.status.busy": "2021-03-25T05:10:35.388687Z",
     "iopub.status.idle": "2021-03-25T05:10:35.393009Z",
     "shell.execute_reply": "2021-03-25T05:10:35.393455Z"
    }
   },
   "outputs": [],
   "source": [
    "df.to_csv(os.path.join(data_dir, f\"{today}.csv\"), index=False)"
   ]
  },
  {
   "cell_type": "code",
   "execution_count": null,
   "metadata": {},
   "outputs": [],
   "source": []
  }
 ],
 "metadata": {
  "kernelspec": {
   "display_name": "Python 3",
   "language": "python",
   "name": "python3"
  },
  "language_info": {
   "codemirror_mode": {
    "name": "ipython",
    "version": 3
   },
   "file_extension": ".py",
   "mimetype": "text/x-python",
   "name": "python",
   "nbconvert_exporter": "python",
   "pygments_lexer": "ipython3",
   "version": "3.8.8"
  }
 },
 "nbformat": 4,
 "nbformat_minor": 4
}
