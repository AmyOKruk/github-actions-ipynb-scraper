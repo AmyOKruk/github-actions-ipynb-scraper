{
 "cells": [
  {
   "cell_type": "markdown",
   "metadata": {},
   "source": [
    "# California COVID vaccinations scrape"
   ]
  },
  {
   "cell_type": "markdown",
   "metadata": {},
   "source": [
    "By [Amy O'Kruk](https://twitter.com/amyokruk)"
   ]
  },
  {
   "cell_type": "markdown",
   "metadata": {},
   "source": [
    "Downloads data on vaccine doses administered by county and statewide from a Tableau-powered dashboard from the California Department of Public Health."
   ]
  },
  {
   "cell_type": "code",
   "execution_count": 1,
   "metadata": {
    "execution": {
     "iopub.execute_input": "2021-03-14T18:13:57.352395Z",
     "iopub.status.busy": "2021-03-14T18:13:57.351613Z",
     "iopub.status.idle": "2021-03-14T18:13:57.791617Z",
     "shell.execute_reply": "2021-03-14T18:13:57.790973Z"
    }
   },
   "outputs": [],
   "source": [
    "import pandas as pd\n",
    "import requests\n",
    "from bs4 import BeautifulSoup\n",
    "import json\n",
    "import re\n",
    "import time\n",
    "from time import gmtime, strftime \n",
    "import os\n",
    "import pytz\n",
    "from datetime import datetime"
   ]
  },
  {
   "cell_type": "markdown",
   "metadata": {},
   "source": [
    "Scrape the dashboard page"
   ]
  },
  {
   "cell_type": "code",
   "execution_count": 2,
   "metadata": {
    "execution": {
     "iopub.execute_input": "2021-03-14T18:13:57.800682Z",
     "iopub.status.busy": "2021-03-14T18:13:57.800097Z",
     "iopub.status.idle": "2021-03-14T18:13:58.155854Z",
     "shell.execute_reply": "2021-03-14T18:13:58.155023Z"
    }
   },
   "outputs": [],
   "source": [
    "url = \"https://public.tableau.com/interactive/views/COVID-19VaccineDashboardPublic/Vaccine?:embed=y&:showVizHome=n&:apiID=host0\"\n",
    "\n",
    "r = requests.get(url)\n",
    "soup = BeautifulSoup(r.text, \"html.parser\")"
   ]
  },
  {
   "cell_type": "code",
   "execution_count": 3,
   "metadata": {
    "execution": {
     "iopub.execute_input": "2021-03-14T18:13:58.162420Z",
     "iopub.status.busy": "2021-03-14T18:13:58.161749Z",
     "iopub.status.idle": "2021-03-14T18:13:58.163515Z",
     "shell.execute_reply": "2021-03-14T18:13:58.162927Z"
    }
   },
   "outputs": [],
   "source": [
    "tableauData = json.loads(soup.find(\"textarea\",{\"id\": \"tsConfigContainer\"}).text)"
   ]
  },
  {
   "cell_type": "markdown",
   "metadata": {},
   "source": [
    "Get the link to the Tableau data"
   ]
  },
  {
   "cell_type": "code",
   "execution_count": 4,
   "metadata": {
    "execution": {
     "iopub.execute_input": "2021-03-14T18:13:58.167234Z",
     "iopub.status.busy": "2021-03-14T18:13:58.166698Z",
     "iopub.status.idle": "2021-03-14T18:13:58.170579Z",
     "shell.execute_reply": "2021-03-14T18:13:58.170132Z"
    }
   },
   "outputs": [],
   "source": [
    "dataUrl = f'https://public.tableau.com{tableauData[\"vizql_root\"]}/bootstrapSession/sessions/{tableauData[\"sessionid\"]}'"
   ]
  },
  {
   "cell_type": "code",
   "execution_count": 5,
   "metadata": {
    "execution": {
     "iopub.execute_input": "2021-03-14T18:13:58.177287Z",
     "iopub.status.busy": "2021-03-14T18:13:58.176711Z",
     "iopub.status.idle": "2021-03-14T18:13:58.387031Z",
     "shell.execute_reply": "2021-03-14T18:13:58.387518Z"
    }
   },
   "outputs": [],
   "source": [
    "r = requests.post(dataUrl, data= {\n",
    "    \"sheet_id\": tableauData[\"sheetId\"],\n",
    "})\n",
    "\n",
    "dataReg = re.search('\\d+;({.*})\\d+;({.*})', r.text, re.MULTILINE)\n",
    "data1 = json.loads(dataReg.group(2))\n",
    "\n",
    "dataJson = data1[\"secondaryInfo\"][\"presModelMap\"][\"dataDictionary\"][\"presModelHolder\"][\"genDataDictionaryPresModel\"][\"dataSegments\"][\"0\"][\"dataColumns\"]"
   ]
  },
  {
   "cell_type": "markdown",
   "metadata": {},
   "source": [
    "Isolate what you want"
   ]
  },
  {
   "cell_type": "code",
   "execution_count": 6,
   "metadata": {
    "execution": {
     "iopub.execute_input": "2021-03-14T18:13:58.391808Z",
     "iopub.status.busy": "2021-03-14T18:13:58.391245Z",
     "iopub.status.idle": "2021-03-14T18:13:58.394753Z",
     "shell.execute_reply": "2021-03-14T18:13:58.394281Z"
    }
   },
   "outputs": [],
   "source": [
    "counties = dataJson[2]['dataValues'][:58]"
   ]
  },
  {
   "cell_type": "code",
   "execution_count": 7,
   "metadata": {
    "execution": {
     "iopub.execute_input": "2021-03-14T18:13:58.402659Z",
     "iopub.status.busy": "2021-03-14T18:13:58.401262Z",
     "iopub.status.idle": "2021-03-14T18:13:58.403417Z",
     "shell.execute_reply": "2021-03-14T18:13:58.403864Z"
    }
   },
   "outputs": [],
   "source": [
    "doses = dataJson[0]['dataValues'][3:61]"
   ]
  },
  {
   "cell_type": "markdown",
   "metadata": {},
   "source": [
    "Data formatting"
   ]
  },
  {
   "cell_type": "code",
   "execution_count": 8,
   "metadata": {
    "execution": {
     "iopub.execute_input": "2021-03-14T18:13:58.409301Z",
     "iopub.status.busy": "2021-03-14T18:13:58.407770Z",
     "iopub.status.idle": "2021-03-14T18:13:58.409928Z",
     "shell.execute_reply": "2021-03-14T18:13:58.410369Z"
    }
   },
   "outputs": [],
   "source": [
    "zipped = dict(zip(counties, doses))"
   ]
  },
  {
   "cell_type": "code",
   "execution_count": 9,
   "metadata": {
    "execution": {
     "iopub.execute_input": "2021-03-14T18:13:58.428281Z",
     "iopub.status.busy": "2021-03-14T18:13:58.427703Z",
     "iopub.status.idle": "2021-03-14T18:13:58.441522Z",
     "shell.execute_reply": "2021-03-14T18:13:58.441012Z"
    }
   },
   "outputs": [],
   "source": [
    "df = pd.Series(zipped).reset_index()"
   ]
  },
  {
   "cell_type": "code",
   "execution_count": 10,
   "metadata": {
    "execution": {
     "iopub.execute_input": "2021-03-14T18:13:58.447325Z",
     "iopub.status.busy": "2021-03-14T18:13:58.445655Z",
     "iopub.status.idle": "2021-03-14T18:13:58.447943Z",
     "shell.execute_reply": "2021-03-14T18:13:58.448377Z"
    }
   },
   "outputs": [],
   "source": [
    "df.columns = ['location','doses']"
   ]
  },
  {
   "cell_type": "markdown",
   "metadata": {},
   "source": [
    "Grab the overall California total"
   ]
  },
  {
   "cell_type": "code",
   "execution_count": 11,
   "metadata": {
    "execution": {
     "iopub.execute_input": "2021-03-14T18:13:58.453579Z",
     "iopub.status.busy": "2021-03-14T18:13:58.452169Z",
     "iopub.status.idle": "2021-03-14T18:13:58.454196Z",
     "shell.execute_reply": "2021-03-14T18:13:58.454631Z"
    }
   },
   "outputs": [],
   "source": [
    "add = {'location':'California','doses':dataJson[0]['dataValues'][2]}"
   ]
  },
  {
   "cell_type": "code",
   "execution_count": 12,
   "metadata": {
    "execution": {
     "iopub.execute_input": "2021-03-14T18:13:58.466113Z",
     "iopub.status.busy": "2021-03-14T18:13:58.461540Z",
     "iopub.status.idle": "2021-03-14T18:13:58.471062Z",
     "shell.execute_reply": "2021-03-14T18:13:58.471540Z"
    }
   },
   "outputs": [],
   "source": [
    "df = df.append(add, ignore_index=True)"
   ]
  },
  {
   "cell_type": "code",
   "execution_count": 13,
   "metadata": {
    "execution": {
     "iopub.execute_input": "2021-03-14T18:13:58.476402Z",
     "iopub.status.busy": "2021-03-14T18:13:58.475864Z",
     "iopub.status.idle": "2021-03-14T18:13:58.478235Z",
     "shell.execute_reply": "2021-03-14T18:13:58.477781Z"
    }
   },
   "outputs": [],
   "source": [
    "df = df.sort_values(by='location')"
   ]
  },
  {
   "cell_type": "code",
   "execution_count": 14,
   "metadata": {
    "execution": {
     "iopub.execute_input": "2021-03-14T18:13:58.485301Z",
     "iopub.status.busy": "2021-03-14T18:13:58.484451Z",
     "iopub.status.idle": "2021-03-14T18:13:58.494129Z",
     "shell.execute_reply": "2021-03-14T18:13:58.493543Z"
    }
   },
   "outputs": [],
   "source": [
    "df = df[df.location == 'California'].append(df[df.location != 'California']).reset_index(drop=True)"
   ]
  },
  {
   "cell_type": "code",
   "execution_count": null,
   "metadata": {},
   "outputs": [],
   "source": []
  },
  {
   "cell_type": "code",
   "execution_count": 15,
   "metadata": {
    "execution": {
     "iopub.execute_input": "2021-03-14T18:13:58.498067Z",
     "iopub.status.busy": "2021-03-14T18:13:58.497533Z",
     "iopub.status.idle": "2021-03-14T18:13:58.516402Z",
     "shell.execute_reply": "2021-03-14T18:13:58.515853Z"
    }
   },
   "outputs": [],
   "source": [
    "tz = pytz.timezone(\"America/New_York\")"
   ]
  },
  {
   "cell_type": "code",
   "execution_count": 16,
   "metadata": {
    "execution": {
     "iopub.execute_input": "2021-03-14T18:13:58.521116Z",
     "iopub.status.busy": "2021-03-14T18:13:58.520298Z",
     "iopub.status.idle": "2021-03-14T18:13:58.522476Z",
     "shell.execute_reply": "2021-03-14T18:13:58.522893Z"
    }
   },
   "outputs": [],
   "source": [
    "today = datetime.now(tz).date()"
   ]
  },
  {
   "cell_type": "code",
   "execution_count": 17,
   "metadata": {
    "execution": {
     "iopub.execute_input": "2021-03-14T18:13:58.529870Z",
     "iopub.status.busy": "2021-03-14T18:13:58.529258Z",
     "iopub.status.idle": "2021-03-14T18:13:58.532070Z",
     "shell.execute_reply": "2021-03-14T18:13:58.531493Z"
    }
   },
   "outputs": [],
   "source": [
    "data_dir = os.path.join(os.path.abspath(\"\"), \"data\")"
   ]
  },
  {
   "cell_type": "code",
   "execution_count": 18,
   "metadata": {
    "execution": {
     "iopub.execute_input": "2021-03-14T18:13:58.537595Z",
     "iopub.status.busy": "2021-03-14T18:13:58.536185Z",
     "iopub.status.idle": "2021-03-14T18:13:58.541206Z",
     "shell.execute_reply": "2021-03-14T18:13:58.540720Z"
    }
   },
   "outputs": [],
   "source": [
    "df.to_csv(os.path.join(data_dir, f\"{today}.csv\"), index=False)"
   ]
  },
  {
   "cell_type": "code",
   "execution_count": null,
   "metadata": {},
   "outputs": [],
   "source": []
  }
 ],
 "metadata": {
  "kernelspec": {
   "display_name": "Python 3",
   "language": "python",
   "name": "python3"
  },
  "language_info": {
   "codemirror_mode": {
    "name": "ipython",
    "version": 3
   },
   "file_extension": ".py",
   "mimetype": "text/x-python",
   "name": "python",
   "nbconvert_exporter": "python",
   "pygments_lexer": "ipython3",
   "version": "3.8.8"
  }
 },
 "nbformat": 4,
 "nbformat_minor": 4
}
