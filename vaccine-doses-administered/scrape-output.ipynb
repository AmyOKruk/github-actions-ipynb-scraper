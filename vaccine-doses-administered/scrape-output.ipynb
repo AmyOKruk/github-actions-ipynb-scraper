{
 "cells": [
  {
   "cell_type": "markdown",
   "metadata": {},
   "source": [
    "# California COVID vaccinations scrape"
   ]
  },
  {
   "cell_type": "markdown",
   "metadata": {},
   "source": [
    "By [Amy O'Kruk](https://twitter.com/amyokruk)"
   ]
  },
  {
   "cell_type": "markdown",
   "metadata": {},
   "source": [
    "Downloads data on vaccine doses administered by county and statewide from a Tableau-powered dashboard from the California Department of Public Health."
   ]
  },
  {
   "cell_type": "code",
   "execution_count": 1,
   "metadata": {
    "execution": {
     "iopub.execute_input": "2021-03-10T10:14:18.046351Z",
     "iopub.status.busy": "2021-03-10T10:14:18.045691Z",
     "iopub.status.idle": "2021-03-10T10:14:18.476446Z",
     "shell.execute_reply": "2021-03-10T10:14:18.477042Z"
    }
   },
   "outputs": [],
   "source": [
    "import pandas as pd\n",
    "import requests\n",
    "from bs4 import BeautifulSoup\n",
    "import json\n",
    "import re\n",
    "import time\n",
    "from time import gmtime, strftime \n",
    "import os\n",
    "import pytz\n",
    "from datetime import datetime"
   ]
  },
  {
   "cell_type": "markdown",
   "metadata": {},
   "source": [
    "Scrape the dashboard page"
   ]
  },
  {
   "cell_type": "code",
   "execution_count": 2,
   "metadata": {
    "execution": {
     "iopub.execute_input": "2021-03-10T10:14:18.483560Z",
     "iopub.status.busy": "2021-03-10T10:14:18.480929Z",
     "iopub.status.idle": "2021-03-10T10:14:19.019077Z",
     "shell.execute_reply": "2021-03-10T10:14:19.018614Z"
    }
   },
   "outputs": [],
   "source": [
    "url = \"https://public.tableau.com/interactive/views/COVID-19VaccineDashboardPublic/Vaccine?:embed=y&:showVizHome=n&:apiID=host0\"\n",
    "\n",
    "r = requests.get(url)\n",
    "soup = BeautifulSoup(r.text, \"html.parser\")"
   ]
  },
  {
   "cell_type": "code",
   "execution_count": 3,
   "metadata": {
    "execution": {
     "iopub.execute_input": "2021-03-10T10:14:19.024295Z",
     "iopub.status.busy": "2021-03-10T10:14:19.023523Z",
     "iopub.status.idle": "2021-03-10T10:14:19.027554Z",
     "shell.execute_reply": "2021-03-10T10:14:19.028214Z"
    }
   },
   "outputs": [],
   "source": [
    "tableauData = json.loads(soup.find(\"textarea\",{\"id\": \"tsConfigContainer\"}).text)"
   ]
  },
  {
   "cell_type": "markdown",
   "metadata": {},
   "source": [
    "Get the link to the Tableau data"
   ]
  },
  {
   "cell_type": "code",
   "execution_count": 4,
   "metadata": {
    "execution": {
     "iopub.execute_input": "2021-03-10T10:14:19.033705Z",
     "iopub.status.busy": "2021-03-10T10:14:19.032118Z",
     "iopub.status.idle": "2021-03-10T10:14:19.034522Z",
     "shell.execute_reply": "2021-03-10T10:14:19.035603Z"
    }
   },
   "outputs": [],
   "source": [
    "dataUrl = f'https://public.tableau.com{tableauData[\"vizql_root\"]}/bootstrapSession/sessions/{tableauData[\"sessionid\"]}'"
   ]
  },
  {
   "cell_type": "code",
   "execution_count": 5,
   "metadata": {
    "execution": {
     "iopub.execute_input": "2021-03-10T10:14:19.043891Z",
     "iopub.status.busy": "2021-03-10T10:14:19.043385Z",
     "iopub.status.idle": "2021-03-10T10:14:19.528615Z",
     "shell.execute_reply": "2021-03-10T10:14:19.527868Z"
    }
   },
   "outputs": [],
   "source": [
    "r = requests.post(dataUrl, data= {\n",
    "    \"sheet_id\": tableauData[\"sheetId\"],\n",
    "})\n",
    "\n",
    "dataReg = re.search('\\d+;({.*})\\d+;({.*})', r.text, re.MULTILINE)\n",
    "data1 = json.loads(dataReg.group(2))\n",
    "\n",
    "dataJson = data1[\"secondaryInfo\"][\"presModelMap\"][\"dataDictionary\"][\"presModelHolder\"][\"genDataDictionaryPresModel\"][\"dataSegments\"][\"0\"][\"dataColumns\"]"
   ]
  },
  {
   "cell_type": "markdown",
   "metadata": {},
   "source": [
    "Isolate what you want"
   ]
  },
  {
   "cell_type": "code",
   "execution_count": 6,
   "metadata": {
    "execution": {
     "iopub.execute_input": "2021-03-10T10:14:19.533451Z",
     "iopub.status.busy": "2021-03-10T10:14:19.532556Z",
     "iopub.status.idle": "2021-03-10T10:14:19.535027Z",
     "shell.execute_reply": "2021-03-10T10:14:19.535459Z"
    }
   },
   "outputs": [],
   "source": [
    "counties = dataJson[2]['dataValues'][:58]"
   ]
  },
  {
   "cell_type": "code",
   "execution_count": 7,
   "metadata": {
    "execution": {
     "iopub.execute_input": "2021-03-10T10:14:19.540273Z",
     "iopub.status.busy": "2021-03-10T10:14:19.539118Z",
     "iopub.status.idle": "2021-03-10T10:14:19.541186Z",
     "shell.execute_reply": "2021-03-10T10:14:19.541670Z"
    }
   },
   "outputs": [],
   "source": [
    "doses = dataJson[0]['dataValues'][3:61]"
   ]
  },
  {
   "cell_type": "markdown",
   "metadata": {},
   "source": [
    "Data formatting"
   ]
  },
  {
   "cell_type": "code",
   "execution_count": 8,
   "metadata": {
    "execution": {
     "iopub.execute_input": "2021-03-10T10:14:19.546299Z",
     "iopub.status.busy": "2021-03-10T10:14:19.544998Z",
     "iopub.status.idle": "2021-03-10T10:14:19.546997Z",
     "shell.execute_reply": "2021-03-10T10:14:19.547410Z"
    }
   },
   "outputs": [],
   "source": [
    "zipped = dict(zip(counties, doses))"
   ]
  },
  {
   "cell_type": "code",
   "execution_count": 9,
   "metadata": {
    "execution": {
     "iopub.execute_input": "2021-03-10T10:14:19.554224Z",
     "iopub.status.busy": "2021-03-10T10:14:19.553219Z",
     "iopub.status.idle": "2021-03-10T10:14:19.555250Z",
     "shell.execute_reply": "2021-03-10T10:14:19.555633Z"
    }
   },
   "outputs": [],
   "source": [
    "df = pd.Series(zipped).reset_index()"
   ]
  },
  {
   "cell_type": "code",
   "execution_count": 10,
   "metadata": {
    "execution": {
     "iopub.execute_input": "2021-03-10T10:14:19.561360Z",
     "iopub.status.busy": "2021-03-10T10:14:19.559960Z",
     "iopub.status.idle": "2021-03-10T10:14:19.562019Z",
     "shell.execute_reply": "2021-03-10T10:14:19.562468Z"
    }
   },
   "outputs": [],
   "source": [
    "df.columns = ['location','doses']"
   ]
  },
  {
   "cell_type": "markdown",
   "metadata": {},
   "source": [
    "Grab the overall California total"
   ]
  },
  {
   "cell_type": "code",
   "execution_count": 11,
   "metadata": {
    "execution": {
     "iopub.execute_input": "2021-03-10T10:14:19.566874Z",
     "iopub.status.busy": "2021-03-10T10:14:19.565785Z",
     "iopub.status.idle": "2021-03-10T10:14:19.567594Z",
     "shell.execute_reply": "2021-03-10T10:14:19.568058Z"
    }
   },
   "outputs": [],
   "source": [
    "add = {'location':'California','doses':dataJson[0]['dataValues'][2]}"
   ]
  },
  {
   "cell_type": "code",
   "execution_count": 12,
   "metadata": {
    "execution": {
     "iopub.execute_input": "2021-03-10T10:14:19.575644Z",
     "iopub.status.busy": "2021-03-10T10:14:19.574343Z",
     "iopub.status.idle": "2021-03-10T10:14:19.576266Z",
     "shell.execute_reply": "2021-03-10T10:14:19.576675Z"
    }
   },
   "outputs": [],
   "source": [
    "df = df.append(add, ignore_index=True)"
   ]
  },
  {
   "cell_type": "code",
   "execution_count": 13,
   "metadata": {
    "execution": {
     "iopub.execute_input": "2021-03-10T10:14:19.581656Z",
     "iopub.status.busy": "2021-03-10T10:14:19.580466Z",
     "iopub.status.idle": "2021-03-10T10:14:19.582280Z",
     "shell.execute_reply": "2021-03-10T10:14:19.582690Z"
    }
   },
   "outputs": [],
   "source": [
    "df = df.sort_values(by='location')"
   ]
  },
  {
   "cell_type": "code",
   "execution_count": 14,
   "metadata": {
    "execution": {
     "iopub.execute_input": "2021-03-10T10:14:19.588551Z",
     "iopub.status.busy": "2021-03-10T10:14:19.587992Z",
     "iopub.status.idle": "2021-03-10T10:14:19.590627Z",
     "shell.execute_reply": "2021-03-10T10:14:19.591169Z"
    }
   },
   "outputs": [],
   "source": [
    "df = df[df.location == 'California'].append(df[df.location != 'California']).reset_index(drop=True)"
   ]
  },
  {
   "cell_type": "code",
   "execution_count": null,
   "metadata": {},
   "outputs": [],
   "source": []
  },
  {
   "cell_type": "code",
   "execution_count": 15,
   "metadata": {
    "execution": {
     "iopub.execute_input": "2021-03-10T10:14:19.594552Z",
     "iopub.status.busy": "2021-03-10T10:14:19.593948Z",
     "iopub.status.idle": "2021-03-10T10:14:19.611678Z",
     "shell.execute_reply": "2021-03-10T10:14:19.611188Z"
    }
   },
   "outputs": [],
   "source": [
    "tz = pytz.timezone(\"America/New_York\")"
   ]
  },
  {
   "cell_type": "code",
   "execution_count": 16,
   "metadata": {
    "execution": {
     "iopub.execute_input": "2021-03-10T10:14:19.615610Z",
     "iopub.status.busy": "2021-03-10T10:14:19.614512Z",
     "iopub.status.idle": "2021-03-10T10:14:19.616153Z",
     "shell.execute_reply": "2021-03-10T10:14:19.616561Z"
    }
   },
   "outputs": [],
   "source": [
    "today = datetime.now(tz).date()"
   ]
  },
  {
   "cell_type": "code",
   "execution_count": 17,
   "metadata": {
    "execution": {
     "iopub.execute_input": "2021-03-10T10:14:19.626928Z",
     "iopub.status.busy": "2021-03-10T10:14:19.626408Z",
     "iopub.status.idle": "2021-03-10T10:14:19.628798Z",
     "shell.execute_reply": "2021-03-10T10:14:19.629290Z"
    }
   },
   "outputs": [],
   "source": [
    "data_dir = os.path.join(os.path.abspath(\"\"), \"data\")"
   ]
  },
  {
   "cell_type": "code",
   "execution_count": 18,
   "metadata": {
    "execution": {
     "iopub.execute_input": "2021-03-10T10:14:19.636971Z",
     "iopub.status.busy": "2021-03-10T10:14:19.635421Z",
     "iopub.status.idle": "2021-03-10T10:14:19.637725Z",
     "shell.execute_reply": "2021-03-10T10:14:19.638513Z"
    }
   },
   "outputs": [],
   "source": [
    "df.to_csv(os.path.join(data_dir, f\"{today}.csv\"), index=False)"
   ]
  },
  {
   "cell_type": "code",
   "execution_count": null,
   "metadata": {},
   "outputs": [],
   "source": []
  }
 ],
 "metadata": {
  "kernelspec": {
   "display_name": "Python 3",
   "language": "python",
   "name": "python3"
  },
  "language_info": {
   "codemirror_mode": {
    "name": "ipython",
    "version": 3
   },
   "file_extension": ".py",
   "mimetype": "text/x-python",
   "name": "python",
   "nbconvert_exporter": "python",
   "pygments_lexer": "ipython3",
   "version": "3.8.8"
  }
 },
 "nbformat": 4,
 "nbformat_minor": 4
}
