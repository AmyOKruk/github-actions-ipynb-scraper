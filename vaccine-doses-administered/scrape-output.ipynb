{
 "cells": [
  {
   "cell_type": "markdown",
   "metadata": {},
   "source": [
    "# California COVID vaccinations scrape"
   ]
  },
  {
   "cell_type": "markdown",
   "metadata": {},
   "source": [
    "By [Amy O'Kruk](https://twitter.com/amyokruk)"
   ]
  },
  {
   "cell_type": "markdown",
   "metadata": {},
   "source": [
    "Downloads data on vaccine doses administered by county and statewide from a Tableau-powered dashboard from the California Department of Public Health."
   ]
  },
  {
   "cell_type": "code",
   "execution_count": 1,
   "metadata": {
    "execution": {
     "iopub.execute_input": "2021-03-19T02:56:38.109843Z",
     "iopub.status.busy": "2021-03-19T02:56:38.109249Z",
     "iopub.status.idle": "2021-03-19T02:56:38.602193Z",
     "shell.execute_reply": "2021-03-19T02:56:38.602977Z"
    }
   },
   "outputs": [],
   "source": [
    "import pandas as pd\n",
    "import requests\n",
    "from bs4 import BeautifulSoup\n",
    "import json\n",
    "import re\n",
    "import time\n",
    "from time import gmtime, strftime \n",
    "import os\n",
    "import pytz\n",
    "from datetime import datetime"
   ]
  },
  {
   "cell_type": "markdown",
   "metadata": {},
   "source": [
    "Scrape the dashboard page"
   ]
  },
  {
   "cell_type": "code",
   "execution_count": 2,
   "metadata": {
    "execution": {
     "iopub.execute_input": "2021-03-19T02:56:38.608754Z",
     "iopub.status.busy": "2021-03-19T02:56:38.606825Z",
     "iopub.status.idle": "2021-03-19T02:56:38.982420Z",
     "shell.execute_reply": "2021-03-19T02:56:38.981478Z"
    }
   },
   "outputs": [],
   "source": [
    "url = \"https://public.tableau.com/interactive/views/COVID-19VaccineDashboardPublic/Vaccine?:embed=y&:showVizHome=n&:apiID=host0\"\n",
    "\n",
    "r = requests.get(url)\n",
    "soup = BeautifulSoup(r.text, \"html.parser\")"
   ]
  },
  {
   "cell_type": "code",
   "execution_count": 3,
   "metadata": {
    "execution": {
     "iopub.execute_input": "2021-03-19T02:56:38.987452Z",
     "iopub.status.busy": "2021-03-19T02:56:38.986921Z",
     "iopub.status.idle": "2021-03-19T02:56:38.989893Z",
     "shell.execute_reply": "2021-03-19T02:56:38.990302Z"
    }
   },
   "outputs": [],
   "source": [
    "tableauData = json.loads(soup.find(\"textarea\",{\"id\": \"tsConfigContainer\"}).text)"
   ]
  },
  {
   "cell_type": "markdown",
   "metadata": {},
   "source": [
    "Get the link to the Tableau data"
   ]
  },
  {
   "cell_type": "code",
   "execution_count": 4,
   "metadata": {
    "execution": {
     "iopub.execute_input": "2021-03-19T02:56:38.994690Z",
     "iopub.status.busy": "2021-03-19T02:56:38.993489Z",
     "iopub.status.idle": "2021-03-19T02:56:38.995366Z",
     "shell.execute_reply": "2021-03-19T02:56:38.995794Z"
    }
   },
   "outputs": [],
   "source": [
    "dataUrl = f'https://public.tableau.com{tableauData[\"vizql_root\"]}/bootstrapSession/sessions/{tableauData[\"sessionid\"]}'"
   ]
  },
  {
   "cell_type": "code",
   "execution_count": 5,
   "metadata": {
    "execution": {
     "iopub.execute_input": "2021-03-19T02:56:39.002238Z",
     "iopub.status.busy": "2021-03-19T02:56:39.001696Z",
     "iopub.status.idle": "2021-03-19T02:56:39.502391Z",
     "shell.execute_reply": "2021-03-19T02:56:39.501682Z"
    }
   },
   "outputs": [],
   "source": [
    "r = requests.post(dataUrl, data= {\n",
    "    \"sheet_id\": tableauData[\"sheetId\"],\n",
    "})\n",
    "\n",
    "dataReg = re.search('\\d+;({.*})\\d+;({.*})', r.text, re.MULTILINE)\n",
    "data1 = json.loads(dataReg.group(2))\n",
    "\n",
    "dataJson = data1[\"secondaryInfo\"][\"presModelMap\"][\"dataDictionary\"][\"presModelHolder\"][\"genDataDictionaryPresModel\"][\"dataSegments\"][\"0\"][\"dataColumns\"]"
   ]
  },
  {
   "cell_type": "markdown",
   "metadata": {},
   "source": [
    "Isolate what you want"
   ]
  },
  {
   "cell_type": "code",
   "execution_count": 6,
   "metadata": {
    "execution": {
     "iopub.execute_input": "2021-03-19T02:56:39.507009Z",
     "iopub.status.busy": "2021-03-19T02:56:39.506178Z",
     "iopub.status.idle": "2021-03-19T02:56:39.510504Z",
     "shell.execute_reply": "2021-03-19T02:56:39.509766Z"
    }
   },
   "outputs": [],
   "source": [
    "counties = dataJson[2]['dataValues'][:58]"
   ]
  },
  {
   "cell_type": "code",
   "execution_count": 7,
   "metadata": {
    "execution": {
     "iopub.execute_input": "2021-03-19T02:56:39.514629Z",
     "iopub.status.busy": "2021-03-19T02:56:39.513473Z",
     "iopub.status.idle": "2021-03-19T02:56:39.515319Z",
     "shell.execute_reply": "2021-03-19T02:56:39.515744Z"
    }
   },
   "outputs": [],
   "source": [
    "doses = dataJson[0]['dataValues'][3:61]"
   ]
  },
  {
   "cell_type": "markdown",
   "metadata": {},
   "source": [
    "Data formatting"
   ]
  },
  {
   "cell_type": "code",
   "execution_count": 8,
   "metadata": {
    "execution": {
     "iopub.execute_input": "2021-03-19T02:56:39.519828Z",
     "iopub.status.busy": "2021-03-19T02:56:39.518708Z",
     "iopub.status.idle": "2021-03-19T02:56:39.520412Z",
     "shell.execute_reply": "2021-03-19T02:56:39.520834Z"
    }
   },
   "outputs": [],
   "source": [
    "zipped = dict(zip(counties, doses))"
   ]
  },
  {
   "cell_type": "code",
   "execution_count": 9,
   "metadata": {
    "execution": {
     "iopub.execute_input": "2021-03-19T02:56:39.527143Z",
     "iopub.status.busy": "2021-03-19T02:56:39.525936Z",
     "iopub.status.idle": "2021-03-19T02:56:39.527746Z",
     "shell.execute_reply": "2021-03-19T02:56:39.528171Z"
    }
   },
   "outputs": [],
   "source": [
    "df = pd.Series(zipped).reset_index()"
   ]
  },
  {
   "cell_type": "code",
   "execution_count": 10,
   "metadata": {
    "execution": {
     "iopub.execute_input": "2021-03-19T02:56:39.532432Z",
     "iopub.status.busy": "2021-03-19T02:56:39.531287Z",
     "iopub.status.idle": "2021-03-19T02:56:39.533103Z",
     "shell.execute_reply": "2021-03-19T02:56:39.533528Z"
    }
   },
   "outputs": [],
   "source": [
    "df.columns = ['location','doses']"
   ]
  },
  {
   "cell_type": "markdown",
   "metadata": {},
   "source": [
    "Grab the overall California total"
   ]
  },
  {
   "cell_type": "code",
   "execution_count": 11,
   "metadata": {
    "execution": {
     "iopub.execute_input": "2021-03-19T02:56:39.537758Z",
     "iopub.status.busy": "2021-03-19T02:56:39.536573Z",
     "iopub.status.idle": "2021-03-19T02:56:39.538353Z",
     "shell.execute_reply": "2021-03-19T02:56:39.538797Z"
    }
   },
   "outputs": [],
   "source": [
    "add = {'location':'California','doses':dataJson[0]['dataValues'][2]}"
   ]
  },
  {
   "cell_type": "code",
   "execution_count": 12,
   "metadata": {
    "execution": {
     "iopub.execute_input": "2021-03-19T02:56:39.545515Z",
     "iopub.status.busy": "2021-03-19T02:56:39.544366Z",
     "iopub.status.idle": "2021-03-19T02:56:39.546181Z",
     "shell.execute_reply": "2021-03-19T02:56:39.546607Z"
    }
   },
   "outputs": [],
   "source": [
    "df = df.append(add, ignore_index=True)"
   ]
  },
  {
   "cell_type": "code",
   "execution_count": 13,
   "metadata": {
    "execution": {
     "iopub.execute_input": "2021-03-19T02:56:39.551430Z",
     "iopub.status.busy": "2021-03-19T02:56:39.550202Z",
     "iopub.status.idle": "2021-03-19T02:56:39.552031Z",
     "shell.execute_reply": "2021-03-19T02:56:39.552453Z"
    }
   },
   "outputs": [],
   "source": [
    "df = df.sort_values(by='location')"
   ]
  },
  {
   "cell_type": "code",
   "execution_count": 14,
   "metadata": {
    "execution": {
     "iopub.execute_input": "2021-03-19T02:56:39.558586Z",
     "iopub.status.busy": "2021-03-19T02:56:39.557503Z",
     "iopub.status.idle": "2021-03-19T02:56:39.559204Z",
     "shell.execute_reply": "2021-03-19T02:56:39.559630Z"
    }
   },
   "outputs": [],
   "source": [
    "df = df[df.location == 'California'].append(df[df.location != 'California']).reset_index(drop=True)"
   ]
  },
  {
   "cell_type": "code",
   "execution_count": null,
   "metadata": {},
   "outputs": [],
   "source": []
  },
  {
   "cell_type": "code",
   "execution_count": 15,
   "metadata": {
    "execution": {
     "iopub.execute_input": "2021-03-19T02:56:39.562832Z",
     "iopub.status.busy": "2021-03-19T02:56:39.562303Z",
     "iopub.status.idle": "2021-03-19T02:56:39.579562Z",
     "shell.execute_reply": "2021-03-19T02:56:39.579054Z"
    }
   },
   "outputs": [],
   "source": [
    "tz = pytz.timezone(\"America/New_York\")"
   ]
  },
  {
   "cell_type": "code",
   "execution_count": 16,
   "metadata": {
    "execution": {
     "iopub.execute_input": "2021-03-19T02:56:39.583610Z",
     "iopub.status.busy": "2021-03-19T02:56:39.582437Z",
     "iopub.status.idle": "2021-03-19T02:56:39.584273Z",
     "shell.execute_reply": "2021-03-19T02:56:39.584703Z"
    }
   },
   "outputs": [],
   "source": [
    "today = datetime.now(tz).date()"
   ]
  },
  {
   "cell_type": "code",
   "execution_count": 17,
   "metadata": {
    "execution": {
     "iopub.execute_input": "2021-03-19T02:56:39.588935Z",
     "iopub.status.busy": "2021-03-19T02:56:39.587762Z",
     "iopub.status.idle": "2021-03-19T02:56:39.589582Z",
     "shell.execute_reply": "2021-03-19T02:56:39.590003Z"
    }
   },
   "outputs": [],
   "source": [
    "data_dir = os.path.join(os.path.abspath(\"\"), \"data\")"
   ]
  },
  {
   "cell_type": "code",
   "execution_count": 18,
   "metadata": {
    "execution": {
     "iopub.execute_input": "2021-03-19T02:56:39.593846Z",
     "iopub.status.busy": "2021-03-19T02:56:39.593330Z",
     "iopub.status.idle": "2021-03-19T02:56:39.597606Z",
     "shell.execute_reply": "2021-03-19T02:56:39.597094Z"
    }
   },
   "outputs": [],
   "source": [
    "df.to_csv(os.path.join(data_dir, f\"{today}.csv\"), index=False)"
   ]
  },
  {
   "cell_type": "code",
   "execution_count": null,
   "metadata": {},
   "outputs": [],
   "source": []
  }
 ],
 "metadata": {
  "kernelspec": {
   "display_name": "Python 3",
   "language": "python",
   "name": "python3"
  },
  "language_info": {
   "codemirror_mode": {
    "name": "ipython",
    "version": 3
   },
   "file_extension": ".py",
   "mimetype": "text/x-python",
   "name": "python",
   "nbconvert_exporter": "python",
   "pygments_lexer": "ipython3",
   "version": "3.8.8"
  }
 },
 "nbformat": 4,
 "nbformat_minor": 4
}
