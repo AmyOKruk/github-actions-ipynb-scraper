{
 "cells": [
  {
   "cell_type": "markdown",
   "metadata": {},
   "source": [
    "# California COVID vaccinations scrape"
   ]
  },
  {
   "cell_type": "markdown",
   "metadata": {},
   "source": [
    "By [Amy O'Kruk](https://twitter.com/amyokruk)"
   ]
  },
  {
   "cell_type": "markdown",
   "metadata": {},
   "source": [
    "Downloads data on vaccine doses administered by county and statewide from a Tableau-powered dashboard from the California Department of Public Health."
   ]
  },
  {
   "cell_type": "code",
   "execution_count": 1,
   "metadata": {
    "execution": {
     "iopub.execute_input": "2021-03-21T20:14:00.042055Z",
     "iopub.status.busy": "2021-03-21T20:14:00.041466Z",
     "iopub.status.idle": "2021-03-21T20:14:00.426498Z",
     "shell.execute_reply": "2021-03-21T20:14:00.425991Z"
    }
   },
   "outputs": [],
   "source": [
    "import pandas as pd\n",
    "import requests\n",
    "from bs4 import BeautifulSoup\n",
    "import json\n",
    "import re\n",
    "import time\n",
    "from time import gmtime, strftime \n",
    "import os\n",
    "import pytz\n",
    "from datetime import datetime"
   ]
  },
  {
   "cell_type": "markdown",
   "metadata": {},
   "source": [
    "Scrape the dashboard page"
   ]
  },
  {
   "cell_type": "code",
   "execution_count": 2,
   "metadata": {
    "execution": {
     "iopub.execute_input": "2021-03-21T20:14:00.430174Z",
     "iopub.status.busy": "2021-03-21T20:14:00.429597Z",
     "iopub.status.idle": "2021-03-21T20:14:01.261915Z",
     "shell.execute_reply": "2021-03-21T20:14:01.261177Z"
    }
   },
   "outputs": [],
   "source": [
    "url = \"https://public.tableau.com/interactive/views/COVID-19VaccineDashboardPublic/Vaccine?:embed=y&:showVizHome=n&:apiID=host0\"\n",
    "\n",
    "r = requests.get(url)\n",
    "soup = BeautifulSoup(r.text, \"html.parser\")"
   ]
  },
  {
   "cell_type": "code",
   "execution_count": 3,
   "metadata": {
    "execution": {
     "iopub.execute_input": "2021-03-21T20:14:01.266267Z",
     "iopub.status.busy": "2021-03-21T20:14:01.265774Z",
     "iopub.status.idle": "2021-03-21T20:14:01.268977Z",
     "shell.execute_reply": "2021-03-21T20:14:01.269495Z"
    }
   },
   "outputs": [],
   "source": [
    "tableauData = json.loads(soup.find(\"textarea\",{\"id\": \"tsConfigContainer\"}).text)"
   ]
  },
  {
   "cell_type": "markdown",
   "metadata": {},
   "source": [
    "Get the link to the Tableau data"
   ]
  },
  {
   "cell_type": "code",
   "execution_count": 4,
   "metadata": {
    "execution": {
     "iopub.execute_input": "2021-03-21T20:14:01.272818Z",
     "iopub.status.busy": "2021-03-21T20:14:01.272344Z",
     "iopub.status.idle": "2021-03-21T20:14:01.275476Z",
     "shell.execute_reply": "2021-03-21T20:14:01.275852Z"
    }
   },
   "outputs": [],
   "source": [
    "dataUrl = f'https://public.tableau.com{tableauData[\"vizql_root\"]}/bootstrapSession/sessions/{tableauData[\"sessionid\"]}'"
   ]
  },
  {
   "cell_type": "code",
   "execution_count": 5,
   "metadata": {
    "execution": {
     "iopub.execute_input": "2021-03-21T20:14:01.279916Z",
     "iopub.status.busy": "2021-03-21T20:14:01.279433Z",
     "iopub.status.idle": "2021-03-21T20:14:44.037677Z",
     "shell.execute_reply": "2021-03-21T20:14:44.036711Z"
    }
   },
   "outputs": [],
   "source": [
    "r = requests.post(dataUrl, data= {\n",
    "    \"sheet_id\": tableauData[\"sheetId\"],\n",
    "})\n",
    "\n",
    "dataReg = re.search('\\d+;({.*})\\d+;({.*})', r.text, re.MULTILINE)\n",
    "data1 = json.loads(dataReg.group(2))\n",
    "\n",
    "dataJson = data1[\"secondaryInfo\"][\"presModelMap\"][\"dataDictionary\"][\"presModelHolder\"][\"genDataDictionaryPresModel\"][\"dataSegments\"][\"0\"][\"dataColumns\"]"
   ]
  },
  {
   "cell_type": "markdown",
   "metadata": {},
   "source": [
    "Isolate what you want"
   ]
  },
  {
   "cell_type": "code",
   "execution_count": 6,
   "metadata": {
    "execution": {
     "iopub.execute_input": "2021-03-21T20:14:44.041581Z",
     "iopub.status.busy": "2021-03-21T20:14:44.041100Z",
     "iopub.status.idle": "2021-03-21T20:14:44.044441Z",
     "shell.execute_reply": "2021-03-21T20:14:44.043966Z"
    }
   },
   "outputs": [],
   "source": [
    "counties = dataJson[2]['dataValues'][:58]"
   ]
  },
  {
   "cell_type": "code",
   "execution_count": 7,
   "metadata": {
    "execution": {
     "iopub.execute_input": "2021-03-21T20:14:44.047491Z",
     "iopub.status.busy": "2021-03-21T20:14:44.046290Z",
     "iopub.status.idle": "2021-03-21T20:14:44.049702Z",
     "shell.execute_reply": "2021-03-21T20:14:44.049216Z"
    }
   },
   "outputs": [],
   "source": [
    "doses = dataJson[0]['dataValues'][3:61]"
   ]
  },
  {
   "cell_type": "markdown",
   "metadata": {},
   "source": [
    "Data formatting"
   ]
  },
  {
   "cell_type": "code",
   "execution_count": 8,
   "metadata": {
    "execution": {
     "iopub.execute_input": "2021-03-21T20:14:44.053672Z",
     "iopub.status.busy": "2021-03-21T20:14:44.052768Z",
     "iopub.status.idle": "2021-03-21T20:14:44.054758Z",
     "shell.execute_reply": "2021-03-21T20:14:44.055191Z"
    }
   },
   "outputs": [],
   "source": [
    "zipped = dict(zip(counties, doses))"
   ]
  },
  {
   "cell_type": "code",
   "execution_count": 9,
   "metadata": {
    "execution": {
     "iopub.execute_input": "2021-03-21T20:14:44.062462Z",
     "iopub.status.busy": "2021-03-21T20:14:44.060885Z",
     "iopub.status.idle": "2021-03-21T20:14:44.063629Z",
     "shell.execute_reply": "2021-03-21T20:14:44.064142Z"
    }
   },
   "outputs": [],
   "source": [
    "df = pd.Series(zipped).reset_index()"
   ]
  },
  {
   "cell_type": "code",
   "execution_count": 10,
   "metadata": {
    "execution": {
     "iopub.execute_input": "2021-03-21T20:14:44.070371Z",
     "iopub.status.busy": "2021-03-21T20:14:44.069753Z",
     "iopub.status.idle": "2021-03-21T20:14:44.071391Z",
     "shell.execute_reply": "2021-03-21T20:14:44.070912Z"
    }
   },
   "outputs": [],
   "source": [
    "df.columns = ['location','doses']"
   ]
  },
  {
   "cell_type": "markdown",
   "metadata": {},
   "source": [
    "Grab the overall California total"
   ]
  },
  {
   "cell_type": "code",
   "execution_count": 11,
   "metadata": {
    "execution": {
     "iopub.execute_input": "2021-03-21T20:14:44.075709Z",
     "iopub.status.busy": "2021-03-21T20:14:44.074538Z",
     "iopub.status.idle": "2021-03-21T20:14:44.076418Z",
     "shell.execute_reply": "2021-03-21T20:14:44.076815Z"
    }
   },
   "outputs": [],
   "source": [
    "add = {'location':'California','doses':dataJson[0]['dataValues'][2]}"
   ]
  },
  {
   "cell_type": "code",
   "execution_count": 12,
   "metadata": {
    "execution": {
     "iopub.execute_input": "2021-03-21T20:14:44.083123Z",
     "iopub.status.busy": "2021-03-21T20:14:44.082215Z",
     "iopub.status.idle": "2021-03-21T20:14:44.084087Z",
     "shell.execute_reply": "2021-03-21T20:14:44.084494Z"
    }
   },
   "outputs": [],
   "source": [
    "df = df.append(add, ignore_index=True)"
   ]
  },
  {
   "cell_type": "code",
   "execution_count": 13,
   "metadata": {
    "execution": {
     "iopub.execute_input": "2021-03-21T20:14:44.088653Z",
     "iopub.status.busy": "2021-03-21T20:14:44.087807Z",
     "iopub.status.idle": "2021-03-21T20:14:44.089443Z",
     "shell.execute_reply": "2021-03-21T20:14:44.089899Z"
    }
   },
   "outputs": [],
   "source": [
    "df = df.sort_values(by='location')"
   ]
  },
  {
   "cell_type": "code",
   "execution_count": 14,
   "metadata": {
    "execution": {
     "iopub.execute_input": "2021-03-21T20:14:44.095903Z",
     "iopub.status.busy": "2021-03-21T20:14:44.094886Z",
     "iopub.status.idle": "2021-03-21T20:14:44.096664Z",
     "shell.execute_reply": "2021-03-21T20:14:44.097211Z"
    }
   },
   "outputs": [],
   "source": [
    "df = df[df.location == 'California'].append(df[df.location != 'California']).reset_index(drop=True)"
   ]
  },
  {
   "cell_type": "code",
   "execution_count": null,
   "metadata": {},
   "outputs": [],
   "source": []
  },
  {
   "cell_type": "code",
   "execution_count": 15,
   "metadata": {
    "execution": {
     "iopub.execute_input": "2021-03-21T20:14:44.100720Z",
     "iopub.status.busy": "2021-03-21T20:14:44.100164Z",
     "iopub.status.idle": "2021-03-21T20:14:44.117168Z",
     "shell.execute_reply": "2021-03-21T20:14:44.117543Z"
    }
   },
   "outputs": [],
   "source": [
    "tz = pytz.timezone(\"America/New_York\")"
   ]
  },
  {
   "cell_type": "code",
   "execution_count": 16,
   "metadata": {
    "execution": {
     "iopub.execute_input": "2021-03-21T20:14:44.121166Z",
     "iopub.status.busy": "2021-03-21T20:14:44.120264Z",
     "iopub.status.idle": "2021-03-21T20:14:44.122405Z",
     "shell.execute_reply": "2021-03-21T20:14:44.121927Z"
    }
   },
   "outputs": [],
   "source": [
    "today = datetime.now(tz).date()"
   ]
  },
  {
   "cell_type": "code",
   "execution_count": 17,
   "metadata": {
    "execution": {
     "iopub.execute_input": "2021-03-21T20:14:44.126706Z",
     "iopub.status.busy": "2021-03-21T20:14:44.125620Z",
     "iopub.status.idle": "2021-03-21T20:14:44.127314Z",
     "shell.execute_reply": "2021-03-21T20:14:44.127892Z"
    }
   },
   "outputs": [],
   "source": [
    "data_dir = os.path.join(os.path.abspath(\"\"), \"data\")"
   ]
  },
  {
   "cell_type": "code",
   "execution_count": 18,
   "metadata": {
    "execution": {
     "iopub.execute_input": "2021-03-21T20:14:44.131740Z",
     "iopub.status.busy": "2021-03-21T20:14:44.130823Z",
     "iopub.status.idle": "2021-03-21T20:14:44.134929Z",
     "shell.execute_reply": "2021-03-21T20:14:44.135302Z"
    }
   },
   "outputs": [],
   "source": [
    "df.to_csv(os.path.join(data_dir, f\"{today}.csv\"), index=False)"
   ]
  },
  {
   "cell_type": "code",
   "execution_count": null,
   "metadata": {},
   "outputs": [],
   "source": []
  }
 ],
 "metadata": {
  "kernelspec": {
   "display_name": "Python 3",
   "language": "python",
   "name": "python3"
  },
  "language_info": {
   "codemirror_mode": {
    "name": "ipython",
    "version": 3
   },
   "file_extension": ".py",
   "mimetype": "text/x-python",
   "name": "python",
   "nbconvert_exporter": "python",
   "pygments_lexer": "ipython3",
   "version": "3.8.8"
  }
 },
 "nbformat": 4,
 "nbformat_minor": 4
}
