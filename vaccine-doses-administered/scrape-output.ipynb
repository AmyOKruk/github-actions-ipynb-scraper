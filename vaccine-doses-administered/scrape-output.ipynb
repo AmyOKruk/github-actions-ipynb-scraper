{
 "cells": [
  {
   "cell_type": "markdown",
   "metadata": {},
   "source": [
    "# California COVID vaccinations scrape"
   ]
  },
  {
   "cell_type": "markdown",
   "metadata": {},
   "source": [
    "By [Amy O'Kruk](https://twitter.com/amyokruk)"
   ]
  },
  {
   "cell_type": "markdown",
   "metadata": {},
   "source": [
    "Downloads data on vaccine doses administered by county and statewide from a Tableau-powered dashboard from the California Department of Public Health."
   ]
  },
  {
   "cell_type": "code",
   "execution_count": 1,
   "metadata": {
    "execution": {
     "iopub.execute_input": "2021-03-24T16:39:25.592158Z",
     "iopub.status.busy": "2021-03-24T16:39:25.591568Z",
     "iopub.status.idle": "2021-03-24T16:39:26.004028Z",
     "shell.execute_reply": "2021-03-24T16:39:26.002914Z"
    }
   },
   "outputs": [],
   "source": [
    "import pandas as pd\n",
    "import requests\n",
    "from bs4 import BeautifulSoup\n",
    "import json\n",
    "import re\n",
    "import time\n",
    "from time import gmtime, strftime \n",
    "import os\n",
    "import pytz\n",
    "from datetime import datetime"
   ]
  },
  {
   "cell_type": "markdown",
   "metadata": {},
   "source": [
    "Scrape the dashboard page"
   ]
  },
  {
   "cell_type": "code",
   "execution_count": 2,
   "metadata": {
    "execution": {
     "iopub.execute_input": "2021-03-24T16:39:26.011572Z",
     "iopub.status.busy": "2021-03-24T16:39:26.011064Z",
     "iopub.status.idle": "2021-03-24T16:39:26.388281Z",
     "shell.execute_reply": "2021-03-24T16:39:26.386818Z"
    }
   },
   "outputs": [],
   "source": [
    "url = \"https://public.tableau.com/interactive/views/COVID-19VaccineDashboardPublic/Vaccine?:embed=y&:showVizHome=n&:apiID=host0\"\n",
    "\n",
    "r = requests.get(url)\n",
    "soup = BeautifulSoup(r.text, \"html.parser\")"
   ]
  },
  {
   "cell_type": "code",
   "execution_count": 3,
   "metadata": {
    "execution": {
     "iopub.execute_input": "2021-03-24T16:39:26.393991Z",
     "iopub.status.busy": "2021-03-24T16:39:26.393107Z",
     "iopub.status.idle": "2021-03-24T16:39:26.397909Z",
     "shell.execute_reply": "2021-03-24T16:39:26.397167Z"
    }
   },
   "outputs": [],
   "source": [
    "tableauData = json.loads(soup.find(\"textarea\",{\"id\": \"tsConfigContainer\"}).text)"
   ]
  },
  {
   "cell_type": "markdown",
   "metadata": {},
   "source": [
    "Get the link to the Tableau data"
   ]
  },
  {
   "cell_type": "code",
   "execution_count": 4,
   "metadata": {
    "execution": {
     "iopub.execute_input": "2021-03-24T16:39:26.401030Z",
     "iopub.status.busy": "2021-03-24T16:39:26.400562Z",
     "iopub.status.idle": "2021-03-24T16:39:26.404123Z",
     "shell.execute_reply": "2021-03-24T16:39:26.403666Z"
    }
   },
   "outputs": [],
   "source": [
    "dataUrl = f'https://public.tableau.com{tableauData[\"vizql_root\"]}/bootstrapSession/sessions/{tableauData[\"sessionid\"]}'"
   ]
  },
  {
   "cell_type": "code",
   "execution_count": 5,
   "metadata": {
    "execution": {
     "iopub.execute_input": "2021-03-24T16:39:26.409940Z",
     "iopub.status.busy": "2021-03-24T16:39:26.409472Z",
     "iopub.status.idle": "2021-03-24T16:39:27.011956Z",
     "shell.execute_reply": "2021-03-24T16:39:27.012481Z"
    }
   },
   "outputs": [],
   "source": [
    "r = requests.post(dataUrl, data= {\n",
    "    \"sheet_id\": tableauData[\"sheetId\"],\n",
    "})\n",
    "\n",
    "dataReg = re.search('\\d+;({.*})\\d+;({.*})', r.text, re.MULTILINE)\n",
    "data1 = json.loads(dataReg.group(2))\n",
    "\n",
    "dataJson = data1[\"secondaryInfo\"][\"presModelMap\"][\"dataDictionary\"][\"presModelHolder\"][\"genDataDictionaryPresModel\"][\"dataSegments\"][\"0\"][\"dataColumns\"]"
   ]
  },
  {
   "cell_type": "markdown",
   "metadata": {},
   "source": [
    "Isolate what you want"
   ]
  },
  {
   "cell_type": "code",
   "execution_count": 6,
   "metadata": {
    "execution": {
     "iopub.execute_input": "2021-03-24T16:39:27.016157Z",
     "iopub.status.busy": "2021-03-24T16:39:27.015650Z",
     "iopub.status.idle": "2021-03-24T16:39:27.019584Z",
     "shell.execute_reply": "2021-03-24T16:39:27.019158Z"
    }
   },
   "outputs": [],
   "source": [
    "counties = dataJson[2]['dataValues'][:58]"
   ]
  },
  {
   "cell_type": "code",
   "execution_count": 7,
   "metadata": {
    "execution": {
     "iopub.execute_input": "2021-03-24T16:39:27.023010Z",
     "iopub.status.busy": "2021-03-24T16:39:27.022505Z",
     "iopub.status.idle": "2021-03-24T16:39:27.025682Z",
     "shell.execute_reply": "2021-03-24T16:39:27.025290Z"
    }
   },
   "outputs": [],
   "source": [
    "doses = dataJson[0]['dataValues'][3:61]"
   ]
  },
  {
   "cell_type": "markdown",
   "metadata": {},
   "source": [
    "Data formatting"
   ]
  },
  {
   "cell_type": "code",
   "execution_count": 8,
   "metadata": {
    "execution": {
     "iopub.execute_input": "2021-03-24T16:39:27.029570Z",
     "iopub.status.busy": "2021-03-24T16:39:27.028461Z",
     "iopub.status.idle": "2021-03-24T16:39:27.030171Z",
     "shell.execute_reply": "2021-03-24T16:39:27.030559Z"
    }
   },
   "outputs": [],
   "source": [
    "zipped = dict(zip(counties, doses))"
   ]
  },
  {
   "cell_type": "code",
   "execution_count": 9,
   "metadata": {
    "execution": {
     "iopub.execute_input": "2021-03-24T16:39:27.036845Z",
     "iopub.status.busy": "2021-03-24T16:39:27.035567Z",
     "iopub.status.idle": "2021-03-24T16:39:27.037429Z",
     "shell.execute_reply": "2021-03-24T16:39:27.037839Z"
    }
   },
   "outputs": [],
   "source": [
    "df = pd.Series(zipped).reset_index()"
   ]
  },
  {
   "cell_type": "code",
   "execution_count": 10,
   "metadata": {
    "execution": {
     "iopub.execute_input": "2021-03-24T16:39:27.041798Z",
     "iopub.status.busy": "2021-03-24T16:39:27.040968Z",
     "iopub.status.idle": "2021-03-24T16:39:27.042598Z",
     "shell.execute_reply": "2021-03-24T16:39:27.042988Z"
    }
   },
   "outputs": [],
   "source": [
    "df.columns = ['location','doses']"
   ]
  },
  {
   "cell_type": "markdown",
   "metadata": {},
   "source": [
    "Grab the overall California total"
   ]
  },
  {
   "cell_type": "code",
   "execution_count": 11,
   "metadata": {
    "execution": {
     "iopub.execute_input": "2021-03-24T16:39:27.046860Z",
     "iopub.status.busy": "2021-03-24T16:39:27.046033Z",
     "iopub.status.idle": "2021-03-24T16:39:27.048107Z",
     "shell.execute_reply": "2021-03-24T16:39:27.047672Z"
    }
   },
   "outputs": [],
   "source": [
    "add = {'location':'California','doses':dataJson[0]['dataValues'][2]}"
   ]
  },
  {
   "cell_type": "code",
   "execution_count": 12,
   "metadata": {
    "execution": {
     "iopub.execute_input": "2021-03-24T16:39:27.054825Z",
     "iopub.status.busy": "2021-03-24T16:39:27.053642Z",
     "iopub.status.idle": "2021-03-24T16:39:27.055386Z",
     "shell.execute_reply": "2021-03-24T16:39:27.055771Z"
    }
   },
   "outputs": [],
   "source": [
    "df = df.append(add, ignore_index=True)"
   ]
  },
  {
   "cell_type": "code",
   "execution_count": 13,
   "metadata": {
    "execution": {
     "iopub.execute_input": "2021-03-24T16:39:27.060475Z",
     "iopub.status.busy": "2021-03-24T16:39:27.059312Z",
     "iopub.status.idle": "2021-03-24T16:39:27.061035Z",
     "shell.execute_reply": "2021-03-24T16:39:27.061463Z"
    }
   },
   "outputs": [],
   "source": [
    "df = df.sort_values(by='location')"
   ]
  },
  {
   "cell_type": "code",
   "execution_count": 14,
   "metadata": {
    "execution": {
     "iopub.execute_input": "2021-03-24T16:39:27.067229Z",
     "iopub.status.busy": "2021-03-24T16:39:27.066413Z",
     "iopub.status.idle": "2021-03-24T16:39:27.068707Z",
     "shell.execute_reply": "2021-03-24T16:39:27.068279Z"
    }
   },
   "outputs": [],
   "source": [
    "df = df[df.location == 'California'].append(df[df.location != 'California']).reset_index(drop=True)"
   ]
  },
  {
   "cell_type": "code",
   "execution_count": null,
   "metadata": {},
   "outputs": [],
   "source": []
  },
  {
   "cell_type": "code",
   "execution_count": 15,
   "metadata": {
    "execution": {
     "iopub.execute_input": "2021-03-24T16:39:27.071889Z",
     "iopub.status.busy": "2021-03-24T16:39:27.071388Z",
     "iopub.status.idle": "2021-03-24T16:39:27.088028Z",
     "shell.execute_reply": "2021-03-24T16:39:27.087565Z"
    }
   },
   "outputs": [],
   "source": [
    "tz = pytz.timezone(\"America/New_York\")"
   ]
  },
  {
   "cell_type": "code",
   "execution_count": 16,
   "metadata": {
    "execution": {
     "iopub.execute_input": "2021-03-24T16:39:27.091540Z",
     "iopub.status.busy": "2021-03-24T16:39:27.090706Z",
     "iopub.status.idle": "2021-03-24T16:39:27.092421Z",
     "shell.execute_reply": "2021-03-24T16:39:27.092817Z"
    }
   },
   "outputs": [],
   "source": [
    "today = datetime.now(tz).date()"
   ]
  },
  {
   "cell_type": "code",
   "execution_count": 17,
   "metadata": {
    "execution": {
     "iopub.execute_input": "2021-03-24T16:39:27.096515Z",
     "iopub.status.busy": "2021-03-24T16:39:27.095631Z",
     "iopub.status.idle": "2021-03-24T16:39:27.097228Z",
     "shell.execute_reply": "2021-03-24T16:39:27.097618Z"
    }
   },
   "outputs": [],
   "source": [
    "data_dir = os.path.join(os.path.abspath(\"\"), \"data\")"
   ]
  },
  {
   "cell_type": "code",
   "execution_count": 18,
   "metadata": {
    "execution": {
     "iopub.execute_input": "2021-03-24T16:39:27.101723Z",
     "iopub.status.busy": "2021-03-24T16:39:27.100639Z",
     "iopub.status.idle": "2021-03-24T16:39:27.105158Z",
     "shell.execute_reply": "2021-03-24T16:39:27.104649Z"
    }
   },
   "outputs": [],
   "source": [
    "df.to_csv(os.path.join(data_dir, f\"{today}.csv\"), index=False)"
   ]
  },
  {
   "cell_type": "code",
   "execution_count": null,
   "metadata": {},
   "outputs": [],
   "source": []
  }
 ],
 "metadata": {
  "kernelspec": {
   "display_name": "Python 3",
   "language": "python",
   "name": "python3"
  },
  "language_info": {
   "codemirror_mode": {
    "name": "ipython",
    "version": 3
   },
   "file_extension": ".py",
   "mimetype": "text/x-python",
   "name": "python",
   "nbconvert_exporter": "python",
   "pygments_lexer": "ipython3",
   "version": "3.8.8"
  }
 },
 "nbformat": 4,
 "nbformat_minor": 4
}
