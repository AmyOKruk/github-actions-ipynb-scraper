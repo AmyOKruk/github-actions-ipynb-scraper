{
 "cells": [
  {
   "cell_type": "markdown",
   "metadata": {},
   "source": [
    "# California COVID vaccinations scrape"
   ]
  },
  {
   "cell_type": "markdown",
   "metadata": {},
   "source": [
    "By [Amy O'Kruk](https://twitter.com/amyokruk)"
   ]
  },
  {
   "cell_type": "markdown",
   "metadata": {},
   "source": [
    "Downloads data on vaccine doses administered by county and statewide from a Tableau-powered dashboard from the California Department of Public Health."
   ]
  },
  {
   "cell_type": "code",
   "execution_count": 1,
   "metadata": {
    "execution": {
     "iopub.execute_input": "2021-03-20T14:45:48.200651Z",
     "iopub.status.busy": "2021-03-20T14:45:48.199989Z",
     "iopub.status.idle": "2021-03-20T14:45:48.612213Z",
     "shell.execute_reply": "2021-03-20T14:45:48.611059Z"
    }
   },
   "outputs": [],
   "source": [
    "import pandas as pd\n",
    "import requests\n",
    "from bs4 import BeautifulSoup\n",
    "import json\n",
    "import re\n",
    "import time\n",
    "from time import gmtime, strftime \n",
    "import os\n",
    "import pytz\n",
    "from datetime import datetime"
   ]
  },
  {
   "cell_type": "markdown",
   "metadata": {},
   "source": [
    "Scrape the dashboard page"
   ]
  },
  {
   "cell_type": "code",
   "execution_count": 2,
   "metadata": {
    "execution": {
     "iopub.execute_input": "2021-03-20T14:45:48.618728Z",
     "iopub.status.busy": "2021-03-20T14:45:48.616480Z",
     "iopub.status.idle": "2021-03-20T14:45:48.954209Z",
     "shell.execute_reply": "2021-03-20T14:45:48.953198Z"
    }
   },
   "outputs": [],
   "source": [
    "url = \"https://public.tableau.com/interactive/views/COVID-19VaccineDashboardPublic/Vaccine?:embed=y&:showVizHome=n&:apiID=host0\"\n",
    "\n",
    "r = requests.get(url)\n",
    "soup = BeautifulSoup(r.text, \"html.parser\")"
   ]
  },
  {
   "cell_type": "code",
   "execution_count": 3,
   "metadata": {
    "execution": {
     "iopub.execute_input": "2021-03-20T14:45:48.959334Z",
     "iopub.status.busy": "2021-03-20T14:45:48.958771Z",
     "iopub.status.idle": "2021-03-20T14:45:48.962307Z",
     "shell.execute_reply": "2021-03-20T14:45:48.961842Z"
    }
   },
   "outputs": [],
   "source": [
    "tableauData = json.loads(soup.find(\"textarea\",{\"id\": \"tsConfigContainer\"}).text)"
   ]
  },
  {
   "cell_type": "markdown",
   "metadata": {},
   "source": [
    "Get the link to the Tableau data"
   ]
  },
  {
   "cell_type": "code",
   "execution_count": 4,
   "metadata": {
    "execution": {
     "iopub.execute_input": "2021-03-20T14:45:48.966161Z",
     "iopub.status.busy": "2021-03-20T14:45:48.965628Z",
     "iopub.status.idle": "2021-03-20T14:45:48.968672Z",
     "shell.execute_reply": "2021-03-20T14:45:48.969088Z"
    }
   },
   "outputs": [],
   "source": [
    "dataUrl = f'https://public.tableau.com{tableauData[\"vizql_root\"]}/bootstrapSession/sessions/{tableauData[\"sessionid\"]}'"
   ]
  },
  {
   "cell_type": "code",
   "execution_count": 5,
   "metadata": {
    "execution": {
     "iopub.execute_input": "2021-03-20T14:45:48.975771Z",
     "iopub.status.busy": "2021-03-20T14:45:48.975193Z",
     "iopub.status.idle": "2021-03-20T14:45:49.398543Z",
     "shell.execute_reply": "2021-03-20T14:45:49.399027Z"
    }
   },
   "outputs": [],
   "source": [
    "r = requests.post(dataUrl, data= {\n",
    "    \"sheet_id\": tableauData[\"sheetId\"],\n",
    "})\n",
    "\n",
    "dataReg = re.search('\\d+;({.*})\\d+;({.*})', r.text, re.MULTILINE)\n",
    "data1 = json.loads(dataReg.group(2))\n",
    "\n",
    "dataJson = data1[\"secondaryInfo\"][\"presModelMap\"][\"dataDictionary\"][\"presModelHolder\"][\"genDataDictionaryPresModel\"][\"dataSegments\"][\"0\"][\"dataColumns\"]"
   ]
  },
  {
   "cell_type": "markdown",
   "metadata": {},
   "source": [
    "Isolate what you want"
   ]
  },
  {
   "cell_type": "code",
   "execution_count": 6,
   "metadata": {
    "execution": {
     "iopub.execute_input": "2021-03-20T14:45:49.403351Z",
     "iopub.status.busy": "2021-03-20T14:45:49.402808Z",
     "iopub.status.idle": "2021-03-20T14:45:49.406439Z",
     "shell.execute_reply": "2021-03-20T14:45:49.405950Z"
    }
   },
   "outputs": [],
   "source": [
    "counties = dataJson[2]['dataValues'][:58]"
   ]
  },
  {
   "cell_type": "code",
   "execution_count": 7,
   "metadata": {
    "execution": {
     "iopub.execute_input": "2021-03-20T14:45:49.411407Z",
     "iopub.status.busy": "2021-03-20T14:45:49.410787Z",
     "iopub.status.idle": "2021-03-20T14:45:49.414634Z",
     "shell.execute_reply": "2021-03-20T14:45:49.414148Z"
    }
   },
   "outputs": [],
   "source": [
    "doses = dataJson[0]['dataValues'][3:61]"
   ]
  },
  {
   "cell_type": "markdown",
   "metadata": {},
   "source": [
    "Data formatting"
   ]
  },
  {
   "cell_type": "code",
   "execution_count": 8,
   "metadata": {
    "execution": {
     "iopub.execute_input": "2021-03-20T14:45:49.418366Z",
     "iopub.status.busy": "2021-03-20T14:45:49.417832Z",
     "iopub.status.idle": "2021-03-20T14:45:49.421445Z",
     "shell.execute_reply": "2021-03-20T14:45:49.420973Z"
    }
   },
   "outputs": [],
   "source": [
    "zipped = dict(zip(counties, doses))"
   ]
  },
  {
   "cell_type": "code",
   "execution_count": 9,
   "metadata": {
    "execution": {
     "iopub.execute_input": "2021-03-20T14:45:49.427345Z",
     "iopub.status.busy": "2021-03-20T14:45:49.426807Z",
     "iopub.status.idle": "2021-03-20T14:45:49.430334Z",
     "shell.execute_reply": "2021-03-20T14:45:49.429859Z"
    }
   },
   "outputs": [],
   "source": [
    "df = pd.Series(zipped).reset_index()"
   ]
  },
  {
   "cell_type": "code",
   "execution_count": 10,
   "metadata": {
    "execution": {
     "iopub.execute_input": "2021-03-20T14:45:49.434229Z",
     "iopub.status.busy": "2021-03-20T14:45:49.433693Z",
     "iopub.status.idle": "2021-03-20T14:45:49.437284Z",
     "shell.execute_reply": "2021-03-20T14:45:49.436813Z"
    }
   },
   "outputs": [],
   "source": [
    "df.columns = ['location','doses']"
   ]
  },
  {
   "cell_type": "markdown",
   "metadata": {},
   "source": [
    "Grab the overall California total"
   ]
  },
  {
   "cell_type": "code",
   "execution_count": 11,
   "metadata": {
    "execution": {
     "iopub.execute_input": "2021-03-20T14:45:49.440987Z",
     "iopub.status.busy": "2021-03-20T14:45:49.440451Z",
     "iopub.status.idle": "2021-03-20T14:45:49.444061Z",
     "shell.execute_reply": "2021-03-20T14:45:49.443554Z"
    }
   },
   "outputs": [],
   "source": [
    "add = {'location':'California','doses':dataJson[0]['dataValues'][2]}"
   ]
  },
  {
   "cell_type": "code",
   "execution_count": 12,
   "metadata": {
    "execution": {
     "iopub.execute_input": "2021-03-20T14:45:49.450608Z",
     "iopub.status.busy": "2021-03-20T14:45:49.450076Z",
     "iopub.status.idle": "2021-03-20T14:45:49.453625Z",
     "shell.execute_reply": "2021-03-20T14:45:49.453127Z"
    }
   },
   "outputs": [],
   "source": [
    "df = df.append(add, ignore_index=True)"
   ]
  },
  {
   "cell_type": "code",
   "execution_count": 13,
   "metadata": {
    "execution": {
     "iopub.execute_input": "2021-03-20T14:45:49.458907Z",
     "iopub.status.busy": "2021-03-20T14:45:49.458356Z",
     "iopub.status.idle": "2021-03-20T14:45:49.462189Z",
     "shell.execute_reply": "2021-03-20T14:45:49.462640Z"
    }
   },
   "outputs": [],
   "source": [
    "df = df.sort_values(by='location')"
   ]
  },
  {
   "cell_type": "code",
   "execution_count": 14,
   "metadata": {
    "execution": {
     "iopub.execute_input": "2021-03-20T14:45:49.468690Z",
     "iopub.status.busy": "2021-03-20T14:45:49.468155Z",
     "iopub.status.idle": "2021-03-20T14:45:49.471875Z",
     "shell.execute_reply": "2021-03-20T14:45:49.471355Z"
    }
   },
   "outputs": [],
   "source": [
    "df = df[df.location == 'California'].append(df[df.location != 'California']).reset_index(drop=True)"
   ]
  },
  {
   "cell_type": "code",
   "execution_count": null,
   "metadata": {},
   "outputs": [],
   "source": []
  },
  {
   "cell_type": "code",
   "execution_count": 15,
   "metadata": {
    "execution": {
     "iopub.execute_input": "2021-03-20T14:45:49.475357Z",
     "iopub.status.busy": "2021-03-20T14:45:49.474823Z",
     "iopub.status.idle": "2021-03-20T14:45:49.495716Z",
     "shell.execute_reply": "2021-03-20T14:45:49.494278Z"
    }
   },
   "outputs": [],
   "source": [
    "tz = pytz.timezone(\"America/New_York\")"
   ]
  },
  {
   "cell_type": "code",
   "execution_count": 16,
   "metadata": {
    "execution": {
     "iopub.execute_input": "2021-03-20T14:45:49.499632Z",
     "iopub.status.busy": "2021-03-20T14:45:49.499006Z",
     "iopub.status.idle": "2021-03-20T14:45:49.506352Z",
     "shell.execute_reply": "2021-03-20T14:45:49.505052Z"
    }
   },
   "outputs": [],
   "source": [
    "today = datetime.now(tz).date()"
   ]
  },
  {
   "cell_type": "code",
   "execution_count": 17,
   "metadata": {
    "execution": {
     "iopub.execute_input": "2021-03-20T14:45:49.514606Z",
     "iopub.status.busy": "2021-03-20T14:45:49.513993Z",
     "iopub.status.idle": "2021-03-20T14:45:49.525487Z",
     "shell.execute_reply": "2021-03-20T14:45:49.524322Z"
    }
   },
   "outputs": [],
   "source": [
    "data_dir = os.path.join(os.path.abspath(\"\"), \"data\")"
   ]
  },
  {
   "cell_type": "code",
   "execution_count": 18,
   "metadata": {
    "execution": {
     "iopub.execute_input": "2021-03-20T14:45:49.533201Z",
     "iopub.status.busy": "2021-03-20T14:45:49.532570Z",
     "iopub.status.idle": "2021-03-20T14:45:49.568472Z",
     "shell.execute_reply": "2021-03-20T14:45:49.567600Z"
    }
   },
   "outputs": [],
   "source": [
    "df.to_csv(os.path.join(data_dir, f\"{today}.csv\"), index=False)"
   ]
  },
  {
   "cell_type": "code",
   "execution_count": null,
   "metadata": {},
   "outputs": [],
   "source": []
  }
 ],
 "metadata": {
  "kernelspec": {
   "display_name": "Python 3",
   "language": "python",
   "name": "python3"
  },
  "language_info": {
   "codemirror_mode": {
    "name": "ipython",
    "version": 3
   },
   "file_extension": ".py",
   "mimetype": "text/x-python",
   "name": "python",
   "nbconvert_exporter": "python",
   "pygments_lexer": "ipython3",
   "version": "3.8.8"
  }
 },
 "nbformat": 4,
 "nbformat_minor": 4
}
