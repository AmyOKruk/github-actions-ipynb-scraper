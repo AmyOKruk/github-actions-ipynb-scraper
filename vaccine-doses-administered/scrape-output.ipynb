{
 "cells": [
  {
   "cell_type": "markdown",
   "metadata": {},
   "source": [
    "# California COVID vaccinations scrape"
   ]
  },
  {
   "cell_type": "markdown",
   "metadata": {},
   "source": [
    "By [Amy O'Kruk](https://twitter.com/amyokruk)"
   ]
  },
  {
   "cell_type": "markdown",
   "metadata": {},
   "source": [
    "Downloads data on vaccine doses administered by county and statewide from a Tableau-powered dashboard from the California Department of Public Health."
   ]
  },
  {
   "cell_type": "code",
   "execution_count": 1,
   "metadata": {
    "execution": {
     "iopub.execute_input": "2021-03-20T09:13:52.999029Z",
     "iopub.status.busy": "2021-03-20T09:13:52.998448Z",
     "iopub.status.idle": "2021-03-20T09:13:53.429048Z",
     "shell.execute_reply": "2021-03-20T09:13:53.427989Z"
    }
   },
   "outputs": [],
   "source": [
    "import pandas as pd\n",
    "import requests\n",
    "from bs4 import BeautifulSoup\n",
    "import json\n",
    "import re\n",
    "import time\n",
    "from time import gmtime, strftime \n",
    "import os\n",
    "import pytz\n",
    "from datetime import datetime"
   ]
  },
  {
   "cell_type": "markdown",
   "metadata": {},
   "source": [
    "Scrape the dashboard page"
   ]
  },
  {
   "cell_type": "code",
   "execution_count": 2,
   "metadata": {
    "execution": {
     "iopub.execute_input": "2021-03-20T09:13:53.434512Z",
     "iopub.status.busy": "2021-03-20T09:13:53.432755Z",
     "iopub.status.idle": "2021-03-20T09:13:54.002437Z",
     "shell.execute_reply": "2021-03-20T09:13:54.001635Z"
    }
   },
   "outputs": [],
   "source": [
    "url = \"https://public.tableau.com/interactive/views/COVID-19VaccineDashboardPublic/Vaccine?:embed=y&:showVizHome=n&:apiID=host0\"\n",
    "\n",
    "r = requests.get(url)\n",
    "soup = BeautifulSoup(r.text, \"html.parser\")"
   ]
  },
  {
   "cell_type": "code",
   "execution_count": 3,
   "metadata": {
    "execution": {
     "iopub.execute_input": "2021-03-20T09:13:54.007200Z",
     "iopub.status.busy": "2021-03-20T09:13:54.006723Z",
     "iopub.status.idle": "2021-03-20T09:13:54.009958Z",
     "shell.execute_reply": "2021-03-20T09:13:54.009532Z"
    }
   },
   "outputs": [],
   "source": [
    "tableauData = json.loads(soup.find(\"textarea\",{\"id\": \"tsConfigContainer\"}).text)"
   ]
  },
  {
   "cell_type": "markdown",
   "metadata": {},
   "source": [
    "Get the link to the Tableau data"
   ]
  },
  {
   "cell_type": "code",
   "execution_count": 4,
   "metadata": {
    "execution": {
     "iopub.execute_input": "2021-03-20T09:13:54.014087Z",
     "iopub.status.busy": "2021-03-20T09:13:54.012923Z",
     "iopub.status.idle": "2021-03-20T09:13:54.014623Z",
     "shell.execute_reply": "2021-03-20T09:13:54.015011Z"
    }
   },
   "outputs": [],
   "source": [
    "dataUrl = f'https://public.tableau.com{tableauData[\"vizql_root\"]}/bootstrapSession/sessions/{tableauData[\"sessionid\"]}'"
   ]
  },
  {
   "cell_type": "code",
   "execution_count": 5,
   "metadata": {
    "execution": {
     "iopub.execute_input": "2021-03-20T09:13:54.021161Z",
     "iopub.status.busy": "2021-03-20T09:13:54.020644Z",
     "iopub.status.idle": "2021-03-20T09:13:54.248115Z",
     "shell.execute_reply": "2021-03-20T09:13:54.247583Z"
    }
   },
   "outputs": [],
   "source": [
    "r = requests.post(dataUrl, data= {\n",
    "    \"sheet_id\": tableauData[\"sheetId\"],\n",
    "})\n",
    "\n",
    "dataReg = re.search('\\d+;({.*})\\d+;({.*})', r.text, re.MULTILINE)\n",
    "data1 = json.loads(dataReg.group(2))\n",
    "\n",
    "dataJson = data1[\"secondaryInfo\"][\"presModelMap\"][\"dataDictionary\"][\"presModelHolder\"][\"genDataDictionaryPresModel\"][\"dataSegments\"][\"0\"][\"dataColumns\"]"
   ]
  },
  {
   "cell_type": "markdown",
   "metadata": {},
   "source": [
    "Isolate what you want"
   ]
  },
  {
   "cell_type": "code",
   "execution_count": 6,
   "metadata": {
    "execution": {
     "iopub.execute_input": "2021-03-20T09:13:54.252732Z",
     "iopub.status.busy": "2021-03-20T09:13:54.252068Z",
     "iopub.status.idle": "2021-03-20T09:13:54.254472Z",
     "shell.execute_reply": "2021-03-20T09:13:54.255014Z"
    }
   },
   "outputs": [],
   "source": [
    "counties = dataJson[2]['dataValues'][:58]"
   ]
  },
  {
   "cell_type": "code",
   "execution_count": 7,
   "metadata": {
    "execution": {
     "iopub.execute_input": "2021-03-20T09:13:54.259079Z",
     "iopub.status.busy": "2021-03-20T09:13:54.258141Z",
     "iopub.status.idle": "2021-03-20T09:13:54.259860Z",
     "shell.execute_reply": "2021-03-20T09:13:54.260264Z"
    }
   },
   "outputs": [],
   "source": [
    "doses = dataJson[0]['dataValues'][3:61]"
   ]
  },
  {
   "cell_type": "markdown",
   "metadata": {},
   "source": [
    "Data formatting"
   ]
  },
  {
   "cell_type": "code",
   "execution_count": 8,
   "metadata": {
    "execution": {
     "iopub.execute_input": "2021-03-20T09:13:54.264222Z",
     "iopub.status.busy": "2021-03-20T09:13:54.263183Z",
     "iopub.status.idle": "2021-03-20T09:13:54.264763Z",
     "shell.execute_reply": "2021-03-20T09:13:54.265103Z"
    }
   },
   "outputs": [],
   "source": [
    "zipped = dict(zip(counties, doses))"
   ]
  },
  {
   "cell_type": "code",
   "execution_count": 9,
   "metadata": {
    "execution": {
     "iopub.execute_input": "2021-03-20T09:13:54.271187Z",
     "iopub.status.busy": "2021-03-20T09:13:54.269999Z",
     "iopub.status.idle": "2021-03-20T09:13:54.271763Z",
     "shell.execute_reply": "2021-03-20T09:13:54.272153Z"
    }
   },
   "outputs": [],
   "source": [
    "df = pd.Series(zipped).reset_index()"
   ]
  },
  {
   "cell_type": "code",
   "execution_count": 10,
   "metadata": {
    "execution": {
     "iopub.execute_input": "2021-03-20T09:13:54.276025Z",
     "iopub.status.busy": "2021-03-20T09:13:54.275113Z",
     "iopub.status.idle": "2021-03-20T09:13:54.276770Z",
     "shell.execute_reply": "2021-03-20T09:13:54.277140Z"
    }
   },
   "outputs": [],
   "source": [
    "df.columns = ['location','doses']"
   ]
  },
  {
   "cell_type": "markdown",
   "metadata": {},
   "source": [
    "Grab the overall California total"
   ]
  },
  {
   "cell_type": "code",
   "execution_count": 11,
   "metadata": {
    "execution": {
     "iopub.execute_input": "2021-03-20T09:13:54.280920Z",
     "iopub.status.busy": "2021-03-20T09:13:54.279907Z",
     "iopub.status.idle": "2021-03-20T09:13:54.281542Z",
     "shell.execute_reply": "2021-03-20T09:13:54.281917Z"
    }
   },
   "outputs": [],
   "source": [
    "add = {'location':'California','doses':dataJson[0]['dataValues'][2]}"
   ]
  },
  {
   "cell_type": "code",
   "execution_count": 12,
   "metadata": {
    "execution": {
     "iopub.execute_input": "2021-03-20T09:13:54.288393Z",
     "iopub.status.busy": "2021-03-20T09:13:54.287247Z",
     "iopub.status.idle": "2021-03-20T09:13:54.288948Z",
     "shell.execute_reply": "2021-03-20T09:13:54.289341Z"
    }
   },
   "outputs": [],
   "source": [
    "df = df.append(add, ignore_index=True)"
   ]
  },
  {
   "cell_type": "code",
   "execution_count": 13,
   "metadata": {
    "execution": {
     "iopub.execute_input": "2021-03-20T09:13:54.293534Z",
     "iopub.status.busy": "2021-03-20T09:13:54.292691Z",
     "iopub.status.idle": "2021-03-20T09:13:54.294391Z",
     "shell.execute_reply": "2021-03-20T09:13:54.294786Z"
    }
   },
   "outputs": [],
   "source": [
    "df = df.sort_values(by='location')"
   ]
  },
  {
   "cell_type": "code",
   "execution_count": 14,
   "metadata": {
    "execution": {
     "iopub.execute_input": "2021-03-20T09:13:54.300843Z",
     "iopub.status.busy": "2021-03-20T09:13:54.299572Z",
     "iopub.status.idle": "2021-03-20T09:13:54.301606Z",
     "shell.execute_reply": "2021-03-20T09:13:54.301969Z"
    }
   },
   "outputs": [],
   "source": [
    "df = df[df.location == 'California'].append(df[df.location != 'California']).reset_index(drop=True)"
   ]
  },
  {
   "cell_type": "code",
   "execution_count": null,
   "metadata": {},
   "outputs": [],
   "source": []
  },
  {
   "cell_type": "code",
   "execution_count": 15,
   "metadata": {
    "execution": {
     "iopub.execute_input": "2021-03-20T09:13:54.304939Z",
     "iopub.status.busy": "2021-03-20T09:13:54.304528Z",
     "iopub.status.idle": "2021-03-20T09:13:54.320153Z",
     "shell.execute_reply": "2021-03-20T09:13:54.320615Z"
    }
   },
   "outputs": [],
   "source": [
    "tz = pytz.timezone(\"America/New_York\")"
   ]
  },
  {
   "cell_type": "code",
   "execution_count": 16,
   "metadata": {
    "execution": {
     "iopub.execute_input": "2021-03-20T09:13:54.324982Z",
     "iopub.status.busy": "2021-03-20T09:13:54.323608Z",
     "iopub.status.idle": "2021-03-20T09:13:54.325625Z",
     "shell.execute_reply": "2021-03-20T09:13:54.326104Z"
    }
   },
   "outputs": [],
   "source": [
    "today = datetime.now(tz).date()"
   ]
  },
  {
   "cell_type": "code",
   "execution_count": 17,
   "metadata": {
    "execution": {
     "iopub.execute_input": "2021-03-20T09:13:54.329670Z",
     "iopub.status.busy": "2021-03-20T09:13:54.328824Z",
     "iopub.status.idle": "2021-03-20T09:13:54.330551Z",
     "shell.execute_reply": "2021-03-20T09:13:54.330982Z"
    }
   },
   "outputs": [],
   "source": [
    "data_dir = os.path.join(os.path.abspath(\"\"), \"data\")"
   ]
  },
  {
   "cell_type": "code",
   "execution_count": 18,
   "metadata": {
    "execution": {
     "iopub.execute_input": "2021-03-20T09:13:54.335004Z",
     "iopub.status.busy": "2021-03-20T09:13:54.333984Z",
     "iopub.status.idle": "2021-03-20T09:13:54.338259Z",
     "shell.execute_reply": "2021-03-20T09:13:54.337799Z"
    }
   },
   "outputs": [],
   "source": [
    "df.to_csv(os.path.join(data_dir, f\"{today}.csv\"), index=False)"
   ]
  },
  {
   "cell_type": "code",
   "execution_count": null,
   "metadata": {},
   "outputs": [],
   "source": []
  }
 ],
 "metadata": {
  "kernelspec": {
   "display_name": "Python 3",
   "language": "python",
   "name": "python3"
  },
  "language_info": {
   "codemirror_mode": {
    "name": "ipython",
    "version": 3
   },
   "file_extension": ".py",
   "mimetype": "text/x-python",
   "name": "python",
   "nbconvert_exporter": "python",
   "pygments_lexer": "ipython3",
   "version": "3.8.8"
  }
 },
 "nbformat": 4,
 "nbformat_minor": 4
}
