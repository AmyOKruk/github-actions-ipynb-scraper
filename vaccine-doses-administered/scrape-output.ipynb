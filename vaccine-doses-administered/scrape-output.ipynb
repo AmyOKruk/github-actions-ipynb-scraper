{
 "cells": [
  {
   "cell_type": "markdown",
   "metadata": {},
   "source": [
    "# California COVID vaccinations scrape"
   ]
  },
  {
   "cell_type": "markdown",
   "metadata": {},
   "source": [
    "By [Amy O'Kruk](https://twitter.com/amyokruk)"
   ]
  },
  {
   "cell_type": "markdown",
   "metadata": {},
   "source": [
    "Downloads data on vaccine doses administered by county and statewide from a Tableau-powered dashboard from the California Department of Public Health."
   ]
  },
  {
   "cell_type": "code",
   "execution_count": 1,
   "metadata": {
    "execution": {
     "iopub.execute_input": "2021-03-14T23:43:05.024241Z",
     "iopub.status.busy": "2021-03-14T23:43:05.023624Z",
     "iopub.status.idle": "2021-03-14T23:43:05.437612Z",
     "shell.execute_reply": "2021-03-14T23:43:05.436682Z"
    }
   },
   "outputs": [],
   "source": [
    "import pandas as pd\n",
    "import requests\n",
    "from bs4 import BeautifulSoup\n",
    "import json\n",
    "import re\n",
    "import time\n",
    "from time import gmtime, strftime \n",
    "import os\n",
    "import pytz\n",
    "from datetime import datetime"
   ]
  },
  {
   "cell_type": "markdown",
   "metadata": {},
   "source": [
    "Scrape the dashboard page"
   ]
  },
  {
   "cell_type": "code",
   "execution_count": 2,
   "metadata": {
    "execution": {
     "iopub.execute_input": "2021-03-14T23:43:05.443345Z",
     "iopub.status.busy": "2021-03-14T23:43:05.441383Z",
     "iopub.status.idle": "2021-03-14T23:43:05.877449Z",
     "shell.execute_reply": "2021-03-14T23:43:05.876400Z"
    }
   },
   "outputs": [],
   "source": [
    "url = \"https://public.tableau.com/interactive/views/COVID-19VaccineDashboardPublic/Vaccine?:embed=y&:showVizHome=n&:apiID=host0\"\n",
    "\n",
    "r = requests.get(url)\n",
    "soup = BeautifulSoup(r.text, \"html.parser\")"
   ]
  },
  {
   "cell_type": "code",
   "execution_count": 3,
   "metadata": {
    "execution": {
     "iopub.execute_input": "2021-03-14T23:43:05.882537Z",
     "iopub.status.busy": "2021-03-14T23:43:05.881979Z",
     "iopub.status.idle": "2021-03-14T23:43:05.883769Z",
     "shell.execute_reply": "2021-03-14T23:43:05.884195Z"
    }
   },
   "outputs": [],
   "source": [
    "tableauData = json.loads(soup.find(\"textarea\",{\"id\": \"tsConfigContainer\"}).text)"
   ]
  },
  {
   "cell_type": "markdown",
   "metadata": {},
   "source": [
    "Get the link to the Tableau data"
   ]
  },
  {
   "cell_type": "code",
   "execution_count": 4,
   "metadata": {
    "execution": {
     "iopub.execute_input": "2021-03-14T23:43:05.888855Z",
     "iopub.status.busy": "2021-03-14T23:43:05.887584Z",
     "iopub.status.idle": "2021-03-14T23:43:05.889560Z",
     "shell.execute_reply": "2021-03-14T23:43:05.890041Z"
    }
   },
   "outputs": [],
   "source": [
    "dataUrl = f'https://public.tableau.com{tableauData[\"vizql_root\"]}/bootstrapSession/sessions/{tableauData[\"sessionid\"]}'"
   ]
  },
  {
   "cell_type": "code",
   "execution_count": 5,
   "metadata": {
    "execution": {
     "iopub.execute_input": "2021-03-14T23:43:05.896916Z",
     "iopub.status.busy": "2021-03-14T23:43:05.896372Z",
     "iopub.status.idle": "2021-03-14T23:43:06.093334Z",
     "shell.execute_reply": "2021-03-14T23:43:06.092750Z"
    }
   },
   "outputs": [],
   "source": [
    "r = requests.post(dataUrl, data= {\n",
    "    \"sheet_id\": tableauData[\"sheetId\"],\n",
    "})\n",
    "\n",
    "dataReg = re.search('\\d+;({.*})\\d+;({.*})', r.text, re.MULTILINE)\n",
    "data1 = json.loads(dataReg.group(2))\n",
    "\n",
    "dataJson = data1[\"secondaryInfo\"][\"presModelMap\"][\"dataDictionary\"][\"presModelHolder\"][\"genDataDictionaryPresModel\"][\"dataSegments\"][\"0\"][\"dataColumns\"]"
   ]
  },
  {
   "cell_type": "markdown",
   "metadata": {},
   "source": [
    "Isolate what you want"
   ]
  },
  {
   "cell_type": "code",
   "execution_count": 6,
   "metadata": {
    "execution": {
     "iopub.execute_input": "2021-03-14T23:43:06.098279Z",
     "iopub.status.busy": "2021-03-14T23:43:06.096979Z",
     "iopub.status.idle": "2021-03-14T23:43:06.098962Z",
     "shell.execute_reply": "2021-03-14T23:43:06.099460Z"
    }
   },
   "outputs": [],
   "source": [
    "counties = dataJson[2]['dataValues'][:58]"
   ]
  },
  {
   "cell_type": "code",
   "execution_count": 7,
   "metadata": {
    "execution": {
     "iopub.execute_input": "2021-03-14T23:43:06.104084Z",
     "iopub.status.busy": "2021-03-14T23:43:06.102817Z",
     "iopub.status.idle": "2021-03-14T23:43:06.104819Z",
     "shell.execute_reply": "2021-03-14T23:43:06.105269Z"
    }
   },
   "outputs": [],
   "source": [
    "doses = dataJson[0]['dataValues'][3:61]"
   ]
  },
  {
   "cell_type": "markdown",
   "metadata": {},
   "source": [
    "Data formatting"
   ]
  },
  {
   "cell_type": "code",
   "execution_count": 8,
   "metadata": {
    "execution": {
     "iopub.execute_input": "2021-03-14T23:43:06.109821Z",
     "iopub.status.busy": "2021-03-14T23:43:06.108561Z",
     "iopub.status.idle": "2021-03-14T23:43:06.110433Z",
     "shell.execute_reply": "2021-03-14T23:43:06.110874Z"
    }
   },
   "outputs": [],
   "source": [
    "zipped = dict(zip(counties, doses))"
   ]
  },
  {
   "cell_type": "code",
   "execution_count": 9,
   "metadata": {
    "execution": {
     "iopub.execute_input": "2021-03-14T23:43:06.117641Z",
     "iopub.status.busy": "2021-03-14T23:43:06.116333Z",
     "iopub.status.idle": "2021-03-14T23:43:06.118287Z",
     "shell.execute_reply": "2021-03-14T23:43:06.118734Z"
    }
   },
   "outputs": [],
   "source": [
    "df = pd.Series(zipped).reset_index()"
   ]
  },
  {
   "cell_type": "code",
   "execution_count": 10,
   "metadata": {
    "execution": {
     "iopub.execute_input": "2021-03-14T23:43:06.123316Z",
     "iopub.status.busy": "2021-03-14T23:43:06.122268Z",
     "iopub.status.idle": "2021-03-14T23:43:06.124223Z",
     "shell.execute_reply": "2021-03-14T23:43:06.124668Z"
    }
   },
   "outputs": [],
   "source": [
    "df.columns = ['location','doses']"
   ]
  },
  {
   "cell_type": "markdown",
   "metadata": {},
   "source": [
    "Grab the overall California total"
   ]
  },
  {
   "cell_type": "code",
   "execution_count": 11,
   "metadata": {
    "execution": {
     "iopub.execute_input": "2021-03-14T23:43:06.130925Z",
     "iopub.status.busy": "2021-03-14T23:43:06.129608Z",
     "iopub.status.idle": "2021-03-14T23:43:06.132449Z",
     "shell.execute_reply": "2021-03-14T23:43:06.131744Z"
    }
   },
   "outputs": [],
   "source": [
    "add = {'location':'California','doses':dataJson[0]['dataValues'][2]}"
   ]
  },
  {
   "cell_type": "code",
   "execution_count": 12,
   "metadata": {
    "execution": {
     "iopub.execute_input": "2021-03-14T23:43:06.140110Z",
     "iopub.status.busy": "2021-03-14T23:43:06.138823Z",
     "iopub.status.idle": "2021-03-14T23:43:06.140722Z",
     "shell.execute_reply": "2021-03-14T23:43:06.141162Z"
    }
   },
   "outputs": [],
   "source": [
    "df = df.append(add, ignore_index=True)"
   ]
  },
  {
   "cell_type": "code",
   "execution_count": 13,
   "metadata": {
    "execution": {
     "iopub.execute_input": "2021-03-14T23:43:06.146314Z",
     "iopub.status.busy": "2021-03-14T23:43:06.145184Z",
     "iopub.status.idle": "2021-03-14T23:43:06.147542Z",
     "shell.execute_reply": "2021-03-14T23:43:06.147068Z"
    }
   },
   "outputs": [],
   "source": [
    "df = df.sort_values(by='location')"
   ]
  },
  {
   "cell_type": "code",
   "execution_count": 14,
   "metadata": {
    "execution": {
     "iopub.execute_input": "2021-03-14T23:43:06.154692Z",
     "iopub.status.busy": "2021-03-14T23:43:06.153502Z",
     "iopub.status.idle": "2021-03-14T23:43:06.155302Z",
     "shell.execute_reply": "2021-03-14T23:43:06.155743Z"
    }
   },
   "outputs": [],
   "source": [
    "df = df[df.location == 'California'].append(df[df.location != 'California']).reset_index(drop=True)"
   ]
  },
  {
   "cell_type": "code",
   "execution_count": null,
   "metadata": {},
   "outputs": [],
   "source": []
  },
  {
   "cell_type": "code",
   "execution_count": 15,
   "metadata": {
    "execution": {
     "iopub.execute_input": "2021-03-14T23:43:06.159266Z",
     "iopub.status.busy": "2021-03-14T23:43:06.158736Z",
     "iopub.status.idle": "2021-03-14T23:43:06.175996Z",
     "shell.execute_reply": "2021-03-14T23:43:06.176427Z"
    }
   },
   "outputs": [],
   "source": [
    "tz = pytz.timezone(\"America/New_York\")"
   ]
  },
  {
   "cell_type": "code",
   "execution_count": 16,
   "metadata": {
    "execution": {
     "iopub.execute_input": "2021-03-14T23:43:06.180892Z",
     "iopub.status.busy": "2021-03-14T23:43:06.179712Z",
     "iopub.status.idle": "2021-03-14T23:43:06.181503Z",
     "shell.execute_reply": "2021-03-14T23:43:06.181984Z"
    }
   },
   "outputs": [],
   "source": [
    "today = datetime.now(tz).date()"
   ]
  },
  {
   "cell_type": "code",
   "execution_count": 17,
   "metadata": {
    "execution": {
     "iopub.execute_input": "2021-03-14T23:43:06.186515Z",
     "iopub.status.busy": "2021-03-14T23:43:06.185206Z",
     "iopub.status.idle": "2021-03-14T23:43:06.187198Z",
     "shell.execute_reply": "2021-03-14T23:43:06.187641Z"
    }
   },
   "outputs": [],
   "source": [
    "data_dir = os.path.join(os.path.abspath(\"\"), \"data\")"
   ]
  },
  {
   "cell_type": "code",
   "execution_count": 18,
   "metadata": {
    "execution": {
     "iopub.execute_input": "2021-03-14T23:43:06.192062Z",
     "iopub.status.busy": "2021-03-14T23:43:06.190865Z",
     "iopub.status.idle": "2021-03-14T23:43:06.195571Z",
     "shell.execute_reply": "2021-03-14T23:43:06.195034Z"
    }
   },
   "outputs": [],
   "source": [
    "df.to_csv(os.path.join(data_dir, f\"{today}.csv\"), index=False)"
   ]
  },
  {
   "cell_type": "code",
   "execution_count": null,
   "metadata": {},
   "outputs": [],
   "source": []
  }
 ],
 "metadata": {
  "kernelspec": {
   "display_name": "Python 3",
   "language": "python",
   "name": "python3"
  },
  "language_info": {
   "codemirror_mode": {
    "name": "ipython",
    "version": 3
   },
   "file_extension": ".py",
   "mimetype": "text/x-python",
   "name": "python",
   "nbconvert_exporter": "python",
   "pygments_lexer": "ipython3",
   "version": "3.8.8"
  }
 },
 "nbformat": 4,
 "nbformat_minor": 4
}
