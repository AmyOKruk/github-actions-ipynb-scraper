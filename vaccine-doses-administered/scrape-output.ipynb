{
 "cells": [
  {
   "cell_type": "markdown",
   "metadata": {},
   "source": [
    "# California COVID vaccinations scrape"
   ]
  },
  {
   "cell_type": "markdown",
   "metadata": {},
   "source": [
    "By [Amy O'Kruk](https://twitter.com/amyokruk)"
   ]
  },
  {
   "cell_type": "markdown",
   "metadata": {},
   "source": [
    "Downloads data on vaccine doses administered by county and statewide from a Tableau-powered dashboard from the California Department of Public Health."
   ]
  },
  {
   "cell_type": "code",
   "execution_count": 1,
   "metadata": {
    "execution": {
     "iopub.execute_input": "2021-03-23T03:46:35.321526Z",
     "iopub.status.busy": "2021-03-23T03:46:35.320878Z",
     "iopub.status.idle": "2021-03-23T03:46:35.716193Z",
     "shell.execute_reply": "2021-03-23T03:46:35.715029Z"
    }
   },
   "outputs": [],
   "source": [
    "import pandas as pd\n",
    "import requests\n",
    "from bs4 import BeautifulSoup\n",
    "import json\n",
    "import re\n",
    "import time\n",
    "from time import gmtime, strftime \n",
    "import os\n",
    "import pytz\n",
    "from datetime import datetime"
   ]
  },
  {
   "cell_type": "markdown",
   "metadata": {},
   "source": [
    "Scrape the dashboard page"
   ]
  },
  {
   "cell_type": "code",
   "execution_count": 2,
   "metadata": {
    "execution": {
     "iopub.execute_input": "2021-03-23T03:46:35.722373Z",
     "iopub.status.busy": "2021-03-23T03:46:35.719817Z",
     "iopub.status.idle": "2021-03-23T03:46:36.134478Z",
     "shell.execute_reply": "2021-03-23T03:46:36.133592Z"
    }
   },
   "outputs": [],
   "source": [
    "url = \"https://public.tableau.com/interactive/views/COVID-19VaccineDashboardPublic/Vaccine?:embed=y&:showVizHome=n&:apiID=host0\"\n",
    "\n",
    "r = requests.get(url)\n",
    "soup = BeautifulSoup(r.text, \"html.parser\")"
   ]
  },
  {
   "cell_type": "code",
   "execution_count": 3,
   "metadata": {
    "execution": {
     "iopub.execute_input": "2021-03-23T03:46:36.139299Z",
     "iopub.status.busy": "2021-03-23T03:46:36.138718Z",
     "iopub.status.idle": "2021-03-23T03:46:36.142376Z",
     "shell.execute_reply": "2021-03-23T03:46:36.141891Z"
    }
   },
   "outputs": [],
   "source": [
    "tableauData = json.loads(soup.find(\"textarea\",{\"id\": \"tsConfigContainer\"}).text)"
   ]
  },
  {
   "cell_type": "markdown",
   "metadata": {},
   "source": [
    "Get the link to the Tableau data"
   ]
  },
  {
   "cell_type": "code",
   "execution_count": 4,
   "metadata": {
    "execution": {
     "iopub.execute_input": "2021-03-23T03:46:36.146627Z",
     "iopub.status.busy": "2021-03-23T03:46:36.145504Z",
     "iopub.status.idle": "2021-03-23T03:46:36.147214Z",
     "shell.execute_reply": "2021-03-23T03:46:36.147632Z"
    }
   },
   "outputs": [],
   "source": [
    "dataUrl = f'https://public.tableau.com{tableauData[\"vizql_root\"]}/bootstrapSession/sessions/{tableauData[\"sessionid\"]}'"
   ]
  },
  {
   "cell_type": "code",
   "execution_count": 5,
   "metadata": {
    "execution": {
     "iopub.execute_input": "2021-03-23T03:46:36.154259Z",
     "iopub.status.busy": "2021-03-23T03:46:36.153740Z",
     "iopub.status.idle": "2021-03-23T03:46:36.540226Z",
     "shell.execute_reply": "2021-03-23T03:46:36.540730Z"
    }
   },
   "outputs": [],
   "source": [
    "r = requests.post(dataUrl, data= {\n",
    "    \"sheet_id\": tableauData[\"sheetId\"],\n",
    "})\n",
    "\n",
    "dataReg = re.search('\\d+;({.*})\\d+;({.*})', r.text, re.MULTILINE)\n",
    "data1 = json.loads(dataReg.group(2))\n",
    "\n",
    "dataJson = data1[\"secondaryInfo\"][\"presModelMap\"][\"dataDictionary\"][\"presModelHolder\"][\"genDataDictionaryPresModel\"][\"dataSegments\"][\"0\"][\"dataColumns\"]"
   ]
  },
  {
   "cell_type": "markdown",
   "metadata": {},
   "source": [
    "Isolate what you want"
   ]
  },
  {
   "cell_type": "code",
   "execution_count": 6,
   "metadata": {
    "execution": {
     "iopub.execute_input": "2021-03-23T03:46:36.545732Z",
     "iopub.status.busy": "2021-03-23T03:46:36.544858Z",
     "iopub.status.idle": "2021-03-23T03:46:36.548119Z",
     "shell.execute_reply": "2021-03-23T03:46:36.547716Z"
    }
   },
   "outputs": [],
   "source": [
    "counties = dataJson[2]['dataValues'][:58]"
   ]
  },
  {
   "cell_type": "code",
   "execution_count": 7,
   "metadata": {
    "execution": {
     "iopub.execute_input": "2021-03-23T03:46:36.551327Z",
     "iopub.status.busy": "2021-03-23T03:46:36.550861Z",
     "iopub.status.idle": "2021-03-23T03:46:36.554214Z",
     "shell.execute_reply": "2021-03-23T03:46:36.553815Z"
    }
   },
   "outputs": [],
   "source": [
    "doses = dataJson[0]['dataValues'][3:61]"
   ]
  },
  {
   "cell_type": "markdown",
   "metadata": {},
   "source": [
    "Data formatting"
   ]
  },
  {
   "cell_type": "code",
   "execution_count": 8,
   "metadata": {
    "execution": {
     "iopub.execute_input": "2021-03-23T03:46:36.557979Z",
     "iopub.status.busy": "2021-03-23T03:46:36.557138Z",
     "iopub.status.idle": "2021-03-23T03:46:36.558836Z",
     "shell.execute_reply": "2021-03-23T03:46:36.559231Z"
    }
   },
   "outputs": [],
   "source": [
    "zipped = dict(zip(counties, doses))"
   ]
  },
  {
   "cell_type": "code",
   "execution_count": 9,
   "metadata": {
    "execution": {
     "iopub.execute_input": "2021-03-23T03:46:36.565648Z",
     "iopub.status.busy": "2021-03-23T03:46:36.564441Z",
     "iopub.status.idle": "2021-03-23T03:46:36.566244Z",
     "shell.execute_reply": "2021-03-23T03:46:36.566634Z"
    }
   },
   "outputs": [],
   "source": [
    "df = pd.Series(zipped).reset_index()"
   ]
  },
  {
   "cell_type": "code",
   "execution_count": 10,
   "metadata": {
    "execution": {
     "iopub.execute_input": "2021-03-23T03:46:36.571134Z",
     "iopub.status.busy": "2021-03-23T03:46:36.569916Z",
     "iopub.status.idle": "2021-03-23T03:46:36.571735Z",
     "shell.execute_reply": "2021-03-23T03:46:36.572158Z"
    }
   },
   "outputs": [],
   "source": [
    "df.columns = ['location','doses']"
   ]
  },
  {
   "cell_type": "markdown",
   "metadata": {},
   "source": [
    "Grab the overall California total"
   ]
  },
  {
   "cell_type": "code",
   "execution_count": 11,
   "metadata": {
    "execution": {
     "iopub.execute_input": "2021-03-23T03:46:36.576225Z",
     "iopub.status.busy": "2021-03-23T03:46:36.575322Z",
     "iopub.status.idle": "2021-03-23T03:46:36.577564Z",
     "shell.execute_reply": "2021-03-23T03:46:36.577051Z"
    }
   },
   "outputs": [],
   "source": [
    "add = {'location':'California','doses':dataJson[0]['dataValues'][2]}"
   ]
  },
  {
   "cell_type": "code",
   "execution_count": 12,
   "metadata": {
    "execution": {
     "iopub.execute_input": "2021-03-23T03:46:36.584282Z",
     "iopub.status.busy": "2021-03-23T03:46:36.583190Z",
     "iopub.status.idle": "2021-03-23T03:46:36.584901Z",
     "shell.execute_reply": "2021-03-23T03:46:36.585330Z"
    }
   },
   "outputs": [],
   "source": [
    "df = df.append(add, ignore_index=True)"
   ]
  },
  {
   "cell_type": "code",
   "execution_count": 13,
   "metadata": {
    "execution": {
     "iopub.execute_input": "2021-03-23T03:46:36.589906Z",
     "iopub.status.busy": "2021-03-23T03:46:36.589070Z",
     "iopub.status.idle": "2021-03-23T03:46:36.590696Z",
     "shell.execute_reply": "2021-03-23T03:46:36.591088Z"
    }
   },
   "outputs": [],
   "source": [
    "df = df.sort_values(by='location')"
   ]
  },
  {
   "cell_type": "code",
   "execution_count": 14,
   "metadata": {
    "execution": {
     "iopub.execute_input": "2021-03-23T03:46:36.596778Z",
     "iopub.status.busy": "2021-03-23T03:46:36.595928Z",
     "iopub.status.idle": "2021-03-23T03:46:36.597958Z",
     "shell.execute_reply": "2021-03-23T03:46:36.597569Z"
    }
   },
   "outputs": [],
   "source": [
    "df = df[df.location == 'California'].append(df[df.location != 'California']).reset_index(drop=True)"
   ]
  },
  {
   "cell_type": "code",
   "execution_count": null,
   "metadata": {},
   "outputs": [],
   "source": []
  },
  {
   "cell_type": "code",
   "execution_count": 15,
   "metadata": {
    "execution": {
     "iopub.execute_input": "2021-03-23T03:46:36.601097Z",
     "iopub.status.busy": "2021-03-23T03:46:36.600586Z",
     "iopub.status.idle": "2021-03-23T03:46:36.616588Z",
     "shell.execute_reply": "2021-03-23T03:46:36.617009Z"
    }
   },
   "outputs": [],
   "source": [
    "tz = pytz.timezone(\"America/New_York\")"
   ]
  },
  {
   "cell_type": "code",
   "execution_count": 16,
   "metadata": {
    "execution": {
     "iopub.execute_input": "2021-03-23T03:46:36.620791Z",
     "iopub.status.busy": "2021-03-23T03:46:36.619934Z",
     "iopub.status.idle": "2021-03-23T03:46:36.621681Z",
     "shell.execute_reply": "2021-03-23T03:46:36.622052Z"
    }
   },
   "outputs": [],
   "source": [
    "today = datetime.now(tz).date()"
   ]
  },
  {
   "cell_type": "code",
   "execution_count": 17,
   "metadata": {
    "execution": {
     "iopub.execute_input": "2021-03-23T03:46:36.625926Z",
     "iopub.status.busy": "2021-03-23T03:46:36.624925Z",
     "iopub.status.idle": "2021-03-23T03:46:36.626485Z",
     "shell.execute_reply": "2021-03-23T03:46:36.626879Z"
    }
   },
   "outputs": [],
   "source": [
    "data_dir = os.path.join(os.path.abspath(\"\"), \"data\")"
   ]
  },
  {
   "cell_type": "code",
   "execution_count": 18,
   "metadata": {
    "execution": {
     "iopub.execute_input": "2021-03-23T03:46:36.630380Z",
     "iopub.status.busy": "2021-03-23T03:46:36.629887Z",
     "iopub.status.idle": "2021-03-23T03:46:36.633573Z",
     "shell.execute_reply": "2021-03-23T03:46:36.633939Z"
    }
   },
   "outputs": [],
   "source": [
    "df.to_csv(os.path.join(data_dir, f\"{today}.csv\"), index=False)"
   ]
  },
  {
   "cell_type": "code",
   "execution_count": null,
   "metadata": {},
   "outputs": [],
   "source": []
  }
 ],
 "metadata": {
  "kernelspec": {
   "display_name": "Python 3",
   "language": "python",
   "name": "python3"
  },
  "language_info": {
   "codemirror_mode": {
    "name": "ipython",
    "version": 3
   },
   "file_extension": ".py",
   "mimetype": "text/x-python",
   "name": "python",
   "nbconvert_exporter": "python",
   "pygments_lexer": "ipython3",
   "version": "3.8.8"
  }
 },
 "nbformat": 4,
 "nbformat_minor": 4
}
