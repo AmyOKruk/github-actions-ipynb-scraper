{
 "cells": [
  {
   "cell_type": "markdown",
   "metadata": {},
   "source": [
    "# California COVID vaccinations scrape"
   ]
  },
  {
   "cell_type": "markdown",
   "metadata": {},
   "source": [
    "By [Amy O'Kruk](https://twitter.com/amyokruk)"
   ]
  },
  {
   "cell_type": "markdown",
   "metadata": {},
   "source": [
    "Downloads data on vaccine doses administered by county and statewide from a Tableau-powered dashboard from the California Department of Public Health."
   ]
  },
  {
   "cell_type": "code",
   "execution_count": 1,
   "metadata": {
    "execution": {
     "iopub.execute_input": "2021-03-18T23:13:03.238202Z",
     "iopub.status.busy": "2021-03-18T23:13:03.237252Z",
     "iopub.status.idle": "2021-03-18T23:13:03.712842Z",
     "shell.execute_reply": "2021-03-18T23:13:03.711878Z"
    }
   },
   "outputs": [],
   "source": [
    "import pandas as pd\n",
    "import requests\n",
    "from bs4 import BeautifulSoup\n",
    "import json\n",
    "import re\n",
    "import time\n",
    "from time import gmtime, strftime \n",
    "import os\n",
    "import pytz\n",
    "from datetime import datetime"
   ]
  },
  {
   "cell_type": "markdown",
   "metadata": {},
   "source": [
    "Scrape the dashboard page"
   ]
  },
  {
   "cell_type": "code",
   "execution_count": 2,
   "metadata": {
    "execution": {
     "iopub.execute_input": "2021-03-18T23:13:03.719371Z",
     "iopub.status.busy": "2021-03-18T23:13:03.716547Z",
     "iopub.status.idle": "2021-03-18T23:13:04.331715Z",
     "shell.execute_reply": "2021-03-18T23:13:04.331165Z"
    }
   },
   "outputs": [],
   "source": [
    "url = \"https://public.tableau.com/interactive/views/COVID-19VaccineDashboardPublic/Vaccine?:embed=y&:showVizHome=n&:apiID=host0\"\n",
    "\n",
    "r = requests.get(url)\n",
    "soup = BeautifulSoup(r.text, \"html.parser\")"
   ]
  },
  {
   "cell_type": "code",
   "execution_count": 3,
   "metadata": {
    "execution": {
     "iopub.execute_input": "2021-03-18T23:13:04.336880Z",
     "iopub.status.busy": "2021-03-18T23:13:04.336291Z",
     "iopub.status.idle": "2021-03-18T23:13:04.340000Z",
     "shell.execute_reply": "2021-03-18T23:13:04.339484Z"
    }
   },
   "outputs": [],
   "source": [
    "tableauData = json.loads(soup.find(\"textarea\",{\"id\": \"tsConfigContainer\"}).text)"
   ]
  },
  {
   "cell_type": "markdown",
   "metadata": {},
   "source": [
    "Get the link to the Tableau data"
   ]
  },
  {
   "cell_type": "code",
   "execution_count": 4,
   "metadata": {
    "execution": {
     "iopub.execute_input": "2021-03-18T23:13:04.343921Z",
     "iopub.status.busy": "2021-03-18T23:13:04.343347Z",
     "iopub.status.idle": "2021-03-18T23:13:04.348115Z",
     "shell.execute_reply": "2021-03-18T23:13:04.347125Z"
    }
   },
   "outputs": [],
   "source": [
    "dataUrl = f'https://public.tableau.com{tableauData[\"vizql_root\"]}/bootstrapSession/sessions/{tableauData[\"sessionid\"]}'"
   ]
  },
  {
   "cell_type": "code",
   "execution_count": 5,
   "metadata": {
    "execution": {
     "iopub.execute_input": "2021-03-18T23:13:04.354604Z",
     "iopub.status.busy": "2021-03-18T23:13:04.354015Z",
     "iopub.status.idle": "2021-03-18T23:13:04.554485Z",
     "shell.execute_reply": "2021-03-18T23:13:04.553943Z"
    }
   },
   "outputs": [],
   "source": [
    "r = requests.post(dataUrl, data= {\n",
    "    \"sheet_id\": tableauData[\"sheetId\"],\n",
    "})\n",
    "\n",
    "dataReg = re.search('\\d+;({.*})\\d+;({.*})', r.text, re.MULTILINE)\n",
    "data1 = json.loads(dataReg.group(2))\n",
    "\n",
    "dataJson = data1[\"secondaryInfo\"][\"presModelMap\"][\"dataDictionary\"][\"presModelHolder\"][\"genDataDictionaryPresModel\"][\"dataSegments\"][\"0\"][\"dataColumns\"]"
   ]
  },
  {
   "cell_type": "markdown",
   "metadata": {},
   "source": [
    "Isolate what you want"
   ]
  },
  {
   "cell_type": "code",
   "execution_count": 6,
   "metadata": {
    "execution": {
     "iopub.execute_input": "2021-03-18T23:13:04.558684Z",
     "iopub.status.busy": "2021-03-18T23:13:04.558093Z",
     "iopub.status.idle": "2021-03-18T23:13:04.561816Z",
     "shell.execute_reply": "2021-03-18T23:13:04.561303Z"
    }
   },
   "outputs": [],
   "source": [
    "counties = dataJson[2]['dataValues'][:58]"
   ]
  },
  {
   "cell_type": "code",
   "execution_count": 7,
   "metadata": {
    "execution": {
     "iopub.execute_input": "2021-03-18T23:13:04.565735Z",
     "iopub.status.busy": "2021-03-18T23:13:04.565160Z",
     "iopub.status.idle": "2021-03-18T23:13:04.568859Z",
     "shell.execute_reply": "2021-03-18T23:13:04.568349Z"
    }
   },
   "outputs": [],
   "source": [
    "doses = dataJson[0]['dataValues'][3:61]"
   ]
  },
  {
   "cell_type": "markdown",
   "metadata": {},
   "source": [
    "Data formatting"
   ]
  },
  {
   "cell_type": "code",
   "execution_count": 8,
   "metadata": {
    "execution": {
     "iopub.execute_input": "2021-03-18T23:13:04.572515Z",
     "iopub.status.busy": "2021-03-18T23:13:04.571903Z",
     "iopub.status.idle": "2021-03-18T23:13:04.575829Z",
     "shell.execute_reply": "2021-03-18T23:13:04.575325Z"
    }
   },
   "outputs": [],
   "source": [
    "zipped = dict(zip(counties, doses))"
   ]
  },
  {
   "cell_type": "code",
   "execution_count": 9,
   "metadata": {
    "execution": {
     "iopub.execute_input": "2021-03-18T23:13:04.581922Z",
     "iopub.status.busy": "2021-03-18T23:13:04.581345Z",
     "iopub.status.idle": "2021-03-18T23:13:04.584564Z",
     "shell.execute_reply": "2021-03-18T23:13:04.585019Z"
    }
   },
   "outputs": [],
   "source": [
    "df = pd.Series(zipped).reset_index()"
   ]
  },
  {
   "cell_type": "code",
   "execution_count": 10,
   "metadata": {
    "execution": {
     "iopub.execute_input": "2021-03-18T23:13:04.588934Z",
     "iopub.status.busy": "2021-03-18T23:13:04.588355Z",
     "iopub.status.idle": "2021-03-18T23:13:04.592224Z",
     "shell.execute_reply": "2021-03-18T23:13:04.591653Z"
    }
   },
   "outputs": [],
   "source": [
    "df.columns = ['location','doses']"
   ]
  },
  {
   "cell_type": "markdown",
   "metadata": {},
   "source": [
    "Grab the overall California total"
   ]
  },
  {
   "cell_type": "code",
   "execution_count": 11,
   "metadata": {
    "execution": {
     "iopub.execute_input": "2021-03-18T23:13:04.596699Z",
     "iopub.status.busy": "2021-03-18T23:13:04.596120Z",
     "iopub.status.idle": "2021-03-18T23:13:04.599813Z",
     "shell.execute_reply": "2021-03-18T23:13:04.599307Z"
    }
   },
   "outputs": [],
   "source": [
    "add = {'location':'California','doses':dataJson[0]['dataValues'][2]}"
   ]
  },
  {
   "cell_type": "code",
   "execution_count": 12,
   "metadata": {
    "execution": {
     "iopub.execute_input": "2021-03-18T23:13:04.606457Z",
     "iopub.status.busy": "2021-03-18T23:13:04.605882Z",
     "iopub.status.idle": "2021-03-18T23:13:04.609096Z",
     "shell.execute_reply": "2021-03-18T23:13:04.609987Z"
    }
   },
   "outputs": [],
   "source": [
    "df = df.append(add, ignore_index=True)"
   ]
  },
  {
   "cell_type": "code",
   "execution_count": 13,
   "metadata": {
    "execution": {
     "iopub.execute_input": "2021-03-18T23:13:04.614477Z",
     "iopub.status.busy": "2021-03-18T23:13:04.613905Z",
     "iopub.status.idle": "2021-03-18T23:13:04.617598Z",
     "shell.execute_reply": "2021-03-18T23:13:04.617092Z"
    }
   },
   "outputs": [],
   "source": [
    "df = df.sort_values(by='location')"
   ]
  },
  {
   "cell_type": "code",
   "execution_count": 14,
   "metadata": {
    "execution": {
     "iopub.execute_input": "2021-03-18T23:13:04.623690Z",
     "iopub.status.busy": "2021-03-18T23:13:04.623115Z",
     "iopub.status.idle": "2021-03-18T23:13:04.626915Z",
     "shell.execute_reply": "2021-03-18T23:13:04.626397Z"
    }
   },
   "outputs": [],
   "source": [
    "df = df[df.location == 'California'].append(df[df.location != 'California']).reset_index(drop=True)"
   ]
  },
  {
   "cell_type": "code",
   "execution_count": null,
   "metadata": {},
   "outputs": [],
   "source": []
  },
  {
   "cell_type": "code",
   "execution_count": 15,
   "metadata": {
    "execution": {
     "iopub.execute_input": "2021-03-18T23:13:04.630441Z",
     "iopub.status.busy": "2021-03-18T23:13:04.629867Z",
     "iopub.status.idle": "2021-03-18T23:13:04.651496Z",
     "shell.execute_reply": "2021-03-18T23:13:04.650512Z"
    }
   },
   "outputs": [],
   "source": [
    "tz = pytz.timezone(\"America/New_York\")"
   ]
  },
  {
   "cell_type": "code",
   "execution_count": 16,
   "metadata": {
    "execution": {
     "iopub.execute_input": "2021-03-18T23:13:04.655142Z",
     "iopub.status.busy": "2021-03-18T23:13:04.654582Z",
     "iopub.status.idle": "2021-03-18T23:13:04.658563Z",
     "shell.execute_reply": "2021-03-18T23:13:04.658057Z"
    }
   },
   "outputs": [],
   "source": [
    "today = datetime.now(tz).date()"
   ]
  },
  {
   "cell_type": "code",
   "execution_count": 17,
   "metadata": {
    "execution": {
     "iopub.execute_input": "2021-03-18T23:13:04.662140Z",
     "iopub.status.busy": "2021-03-18T23:13:04.661575Z",
     "iopub.status.idle": "2021-03-18T23:13:04.665521Z",
     "shell.execute_reply": "2021-03-18T23:13:04.665027Z"
    }
   },
   "outputs": [],
   "source": [
    "data_dir = os.path.join(os.path.abspath(\"\"), \"data\")"
   ]
  },
  {
   "cell_type": "code",
   "execution_count": 18,
   "metadata": {
    "execution": {
     "iopub.execute_input": "2021-03-18T23:13:04.670587Z",
     "iopub.status.busy": "2021-03-18T23:13:04.668531Z",
     "iopub.status.idle": "2021-03-18T23:13:04.674222Z",
     "shell.execute_reply": "2021-03-18T23:13:04.673756Z"
    }
   },
   "outputs": [],
   "source": [
    "df.to_csv(os.path.join(data_dir, f\"{today}.csv\"), index=False)"
   ]
  },
  {
   "cell_type": "code",
   "execution_count": null,
   "metadata": {},
   "outputs": [],
   "source": []
  }
 ],
 "metadata": {
  "kernelspec": {
   "display_name": "Python 3",
   "language": "python",
   "name": "python3"
  },
  "language_info": {
   "codemirror_mode": {
    "name": "ipython",
    "version": 3
   },
   "file_extension": ".py",
   "mimetype": "text/x-python",
   "name": "python",
   "nbconvert_exporter": "python",
   "pygments_lexer": "ipython3",
   "version": "3.8.8"
  }
 },
 "nbformat": 4,
 "nbformat_minor": 4
}
