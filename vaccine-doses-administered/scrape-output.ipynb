{
 "cells": [
  {
   "cell_type": "markdown",
   "metadata": {},
   "source": [
    "# California COVID vaccinations scrape"
   ]
  },
  {
   "cell_type": "markdown",
   "metadata": {},
   "source": [
    "By [Amy O'Kruk](https://twitter.com/amyokruk)"
   ]
  },
  {
   "cell_type": "markdown",
   "metadata": {},
   "source": [
    "Downloads data on vaccine doses administered by county and statewide from a Tableau-powered dashboard from the California Department of Public Health."
   ]
  },
  {
   "cell_type": "code",
   "execution_count": 1,
   "metadata": {
    "execution": {
     "iopub.execute_input": "2021-03-11T17:13:15.233707Z",
     "iopub.status.busy": "2021-03-11T17:13:15.232747Z",
     "iopub.status.idle": "2021-03-11T17:13:15.570628Z",
     "shell.execute_reply": "2021-03-11T17:13:15.569705Z"
    }
   },
   "outputs": [],
   "source": [
    "import pandas as pd\n",
    "import requests\n",
    "from bs4 import BeautifulSoup\n",
    "import json\n",
    "import re\n",
    "import time\n",
    "from time import gmtime, strftime \n",
    "import os\n",
    "import pytz\n",
    "from datetime import datetime"
   ]
  },
  {
   "cell_type": "markdown",
   "metadata": {},
   "source": [
    "Scrape the dashboard page"
   ]
  },
  {
   "cell_type": "code",
   "execution_count": 2,
   "metadata": {
    "execution": {
     "iopub.execute_input": "2021-03-11T17:13:15.577030Z",
     "iopub.status.busy": "2021-03-11T17:13:15.576541Z",
     "iopub.status.idle": "2021-03-11T17:13:15.978970Z",
     "shell.execute_reply": "2021-03-11T17:13:15.978427Z"
    }
   },
   "outputs": [],
   "source": [
    "url = \"https://public.tableau.com/interactive/views/COVID-19VaccineDashboardPublic/Vaccine?:embed=y&:showVizHome=n&:apiID=host0\"\n",
    "\n",
    "r = requests.get(url)\n",
    "soup = BeautifulSoup(r.text, \"html.parser\")"
   ]
  },
  {
   "cell_type": "code",
   "execution_count": 3,
   "metadata": {
    "execution": {
     "iopub.execute_input": "2021-03-11T17:13:15.983905Z",
     "iopub.status.busy": "2021-03-11T17:13:15.983386Z",
     "iopub.status.idle": "2021-03-11T17:13:15.986728Z",
     "shell.execute_reply": "2021-03-11T17:13:15.986246Z"
    }
   },
   "outputs": [],
   "source": [
    "tableauData = json.loads(soup.find(\"textarea\",{\"id\": \"tsConfigContainer\"}).text)"
   ]
  },
  {
   "cell_type": "markdown",
   "metadata": {},
   "source": [
    "Get the link to the Tableau data"
   ]
  },
  {
   "cell_type": "code",
   "execution_count": 4,
   "metadata": {
    "execution": {
     "iopub.execute_input": "2021-03-11T17:13:15.990368Z",
     "iopub.status.busy": "2021-03-11T17:13:15.989852Z",
     "iopub.status.idle": "2021-03-11T17:13:15.993388Z",
     "shell.execute_reply": "2021-03-11T17:13:15.992909Z"
    }
   },
   "outputs": [],
   "source": [
    "dataUrl = f'https://public.tableau.com{tableauData[\"vizql_root\"]}/bootstrapSession/sessions/{tableauData[\"sessionid\"]}'"
   ]
  },
  {
   "cell_type": "code",
   "execution_count": 5,
   "metadata": {
    "execution": {
     "iopub.execute_input": "2021-03-11T17:13:16.000224Z",
     "iopub.status.busy": "2021-03-11T17:13:15.999387Z",
     "iopub.status.idle": "2021-03-11T17:13:16.311243Z",
     "shell.execute_reply": "2021-03-11T17:13:16.310762Z"
    }
   },
   "outputs": [],
   "source": [
    "r = requests.post(dataUrl, data= {\n",
    "    \"sheet_id\": tableauData[\"sheetId\"],\n",
    "})\n",
    "\n",
    "dataReg = re.search('\\d+;({.*})\\d+;({.*})', r.text, re.MULTILINE)\n",
    "data1 = json.loads(dataReg.group(2))\n",
    "\n",
    "dataJson = data1[\"secondaryInfo\"][\"presModelMap\"][\"dataDictionary\"][\"presModelHolder\"][\"genDataDictionaryPresModel\"][\"dataSegments\"][\"0\"][\"dataColumns\"]"
   ]
  },
  {
   "cell_type": "markdown",
   "metadata": {},
   "source": [
    "Isolate what you want"
   ]
  },
  {
   "cell_type": "code",
   "execution_count": 6,
   "metadata": {
    "execution": {
     "iopub.execute_input": "2021-03-11T17:13:16.316608Z",
     "iopub.status.busy": "2021-03-11T17:13:16.316075Z",
     "iopub.status.idle": "2021-03-11T17:13:16.318884Z",
     "shell.execute_reply": "2021-03-11T17:13:16.318480Z"
    }
   },
   "outputs": [],
   "source": [
    "counties = dataJson[2]['dataValues'][:58]"
   ]
  },
  {
   "cell_type": "code",
   "execution_count": 7,
   "metadata": {
    "execution": {
     "iopub.execute_input": "2021-03-11T17:13:16.322141Z",
     "iopub.status.busy": "2021-03-11T17:13:16.321672Z",
     "iopub.status.idle": "2021-03-11T17:13:16.324960Z",
     "shell.execute_reply": "2021-03-11T17:13:16.324564Z"
    }
   },
   "outputs": [],
   "source": [
    "doses = dataJson[0]['dataValues'][3:61]"
   ]
  },
  {
   "cell_type": "markdown",
   "metadata": {},
   "source": [
    "Data formatting"
   ]
  },
  {
   "cell_type": "code",
   "execution_count": 8,
   "metadata": {
    "execution": {
     "iopub.execute_input": "2021-03-11T17:13:16.327944Z",
     "iopub.status.busy": "2021-03-11T17:13:16.327439Z",
     "iopub.status.idle": "2021-03-11T17:13:16.330665Z",
     "shell.execute_reply": "2021-03-11T17:13:16.331039Z"
    }
   },
   "outputs": [],
   "source": [
    "zipped = dict(zip(counties, doses))"
   ]
  },
  {
   "cell_type": "code",
   "execution_count": 9,
   "metadata": {
    "execution": {
     "iopub.execute_input": "2021-03-11T17:13:16.336274Z",
     "iopub.status.busy": "2021-03-11T17:13:16.335765Z",
     "iopub.status.idle": "2021-03-11T17:13:16.338903Z",
     "shell.execute_reply": "2021-03-11T17:13:16.339277Z"
    }
   },
   "outputs": [],
   "source": [
    "df = pd.Series(zipped).reset_index()"
   ]
  },
  {
   "cell_type": "code",
   "execution_count": 10,
   "metadata": {
    "execution": {
     "iopub.execute_input": "2021-03-11T17:13:16.342727Z",
     "iopub.status.busy": "2021-03-11T17:13:16.342220Z",
     "iopub.status.idle": "2021-03-11T17:13:16.345553Z",
     "shell.execute_reply": "2021-03-11T17:13:16.345120Z"
    }
   },
   "outputs": [],
   "source": [
    "df.columns = ['location','doses']"
   ]
  },
  {
   "cell_type": "markdown",
   "metadata": {},
   "source": [
    "Grab the overall California total"
   ]
  },
  {
   "cell_type": "code",
   "execution_count": 11,
   "metadata": {
    "execution": {
     "iopub.execute_input": "2021-03-11T17:13:16.349503Z",
     "iopub.status.busy": "2021-03-11T17:13:16.348528Z",
     "iopub.status.idle": "2021-03-11T17:13:16.350025Z",
     "shell.execute_reply": "2021-03-11T17:13:16.350430Z"
    }
   },
   "outputs": [],
   "source": [
    "add = {'location':'California','doses':dataJson[0]['dataValues'][2]}"
   ]
  },
  {
   "cell_type": "code",
   "execution_count": 12,
   "metadata": {
    "execution": {
     "iopub.execute_input": "2021-03-11T17:13:16.356710Z",
     "iopub.status.busy": "2021-03-11T17:13:16.355931Z",
     "iopub.status.idle": "2021-03-11T17:13:16.357816Z",
     "shell.execute_reply": "2021-03-11T17:13:16.357402Z"
    }
   },
   "outputs": [],
   "source": [
    "df = df.append(add, ignore_index=True)"
   ]
  },
  {
   "cell_type": "code",
   "execution_count": 13,
   "metadata": {
    "execution": {
     "iopub.execute_input": "2021-03-11T17:13:16.362453Z",
     "iopub.status.busy": "2021-03-11T17:13:16.361388Z",
     "iopub.status.idle": "2021-03-11T17:13:16.363086Z",
     "shell.execute_reply": "2021-03-11T17:13:16.363481Z"
    }
   },
   "outputs": [],
   "source": [
    "df = df.sort_values(by='location')"
   ]
  },
  {
   "cell_type": "code",
   "execution_count": 14,
   "metadata": {
    "execution": {
     "iopub.execute_input": "2021-03-11T17:13:16.369075Z",
     "iopub.status.busy": "2021-03-11T17:13:16.368219Z",
     "iopub.status.idle": "2021-03-11T17:13:16.369696Z",
     "shell.execute_reply": "2021-03-11T17:13:16.370043Z"
    }
   },
   "outputs": [],
   "source": [
    "df = df[df.location == 'California'].append(df[df.location != 'California']).reset_index(drop=True)"
   ]
  },
  {
   "cell_type": "code",
   "execution_count": null,
   "metadata": {},
   "outputs": [],
   "source": []
  },
  {
   "cell_type": "code",
   "execution_count": 15,
   "metadata": {
    "execution": {
     "iopub.execute_input": "2021-03-11T17:13:16.373004Z",
     "iopub.status.busy": "2021-03-11T17:13:16.372586Z",
     "iopub.status.idle": "2021-03-11T17:13:16.389008Z",
     "shell.execute_reply": "2021-03-11T17:13:16.388213Z"
    }
   },
   "outputs": [],
   "source": [
    "tz = pytz.timezone(\"America/New_York\")"
   ]
  },
  {
   "cell_type": "code",
   "execution_count": 16,
   "metadata": {
    "execution": {
     "iopub.execute_input": "2021-03-11T17:13:16.394668Z",
     "iopub.status.busy": "2021-03-11T17:13:16.392830Z",
     "iopub.status.idle": "2021-03-11T17:13:16.395731Z",
     "shell.execute_reply": "2021-03-11T17:13:16.396293Z"
    }
   },
   "outputs": [],
   "source": [
    "today = datetime.now(tz).date()"
   ]
  },
  {
   "cell_type": "code",
   "execution_count": 17,
   "metadata": {
    "execution": {
     "iopub.execute_input": "2021-03-11T17:13:16.399886Z",
     "iopub.status.busy": "2021-03-11T17:13:16.399089Z",
     "iopub.status.idle": "2021-03-11T17:13:16.400783Z",
     "shell.execute_reply": "2021-03-11T17:13:16.401153Z"
    }
   },
   "outputs": [],
   "source": [
    "data_dir = os.path.join(os.path.abspath(\"\"), \"data\")"
   ]
  },
  {
   "cell_type": "code",
   "execution_count": 18,
   "metadata": {
    "execution": {
     "iopub.execute_input": "2021-03-11T17:13:16.406230Z",
     "iopub.status.busy": "2021-03-11T17:13:16.404045Z",
     "iopub.status.idle": "2021-03-11T17:13:16.408572Z",
     "shell.execute_reply": "2021-03-11T17:13:16.408184Z"
    }
   },
   "outputs": [],
   "source": [
    "df.to_csv(os.path.join(data_dir, f\"{today}.csv\"), index=False)"
   ]
  },
  {
   "cell_type": "code",
   "execution_count": null,
   "metadata": {},
   "outputs": [],
   "source": []
  }
 ],
 "metadata": {
  "kernelspec": {
   "display_name": "Python 3",
   "language": "python",
   "name": "python3"
  },
  "language_info": {
   "codemirror_mode": {
    "name": "ipython",
    "version": 3
   },
   "file_extension": ".py",
   "mimetype": "text/x-python",
   "name": "python",
   "nbconvert_exporter": "python",
   "pygments_lexer": "ipython3",
   "version": "3.8.8"
  }
 },
 "nbformat": 4,
 "nbformat_minor": 4
}
