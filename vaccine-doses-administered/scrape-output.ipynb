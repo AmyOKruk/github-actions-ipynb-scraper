{
 "cells": [
  {
   "cell_type": "markdown",
   "metadata": {},
   "source": [
    "# California COVID vaccinations scrape"
   ]
  },
  {
   "cell_type": "markdown",
   "metadata": {},
   "source": [
    "By [Amy O'Kruk](https://twitter.com/amyokruk)"
   ]
  },
  {
   "cell_type": "markdown",
   "metadata": {},
   "source": [
    "Downloads data on vaccine doses administered by county and statewide from a Tableau-powered dashboard from the California Department of Public Health."
   ]
  },
  {
   "cell_type": "code",
   "execution_count": 1,
   "metadata": {
    "execution": {
     "iopub.execute_input": "2021-03-09T19:35:15.951596Z",
     "iopub.status.busy": "2021-03-09T19:35:15.951052Z",
     "iopub.status.idle": "2021-03-09T19:35:16.305247Z",
     "shell.execute_reply": "2021-03-09T19:35:16.304703Z"
    }
   },
   "outputs": [],
   "source": [
    "import pandas as pd\n",
    "import requests\n",
    "from bs4 import BeautifulSoup\n",
    "import json\n",
    "import re\n",
    "import time\n",
    "from time import gmtime, strftime \n",
    "import os\n",
    "import pytz\n",
    "from datetime import datetime"
   ]
  },
  {
   "cell_type": "markdown",
   "metadata": {},
   "source": [
    "Scrape the dashboard page"
   ]
  },
  {
   "cell_type": "code",
   "execution_count": 2,
   "metadata": {
    "execution": {
     "iopub.execute_input": "2021-03-09T19:35:16.310424Z",
     "iopub.status.busy": "2021-03-09T19:35:16.308804Z",
     "iopub.status.idle": "2021-03-09T19:35:16.740714Z",
     "shell.execute_reply": "2021-03-09T19:35:16.739895Z"
    }
   },
   "outputs": [],
   "source": [
    "url = \"https://public.tableau.com/interactive/views/COVID-19VaccineDashboardPublic/Vaccine?:embed=y&:showVizHome=n&:apiID=host0\"\n",
    "\n",
    "r = requests.get(url)\n",
    "soup = BeautifulSoup(r.text, \"html.parser\")"
   ]
  },
  {
   "cell_type": "code",
   "execution_count": 3,
   "metadata": {
    "execution": {
     "iopub.execute_input": "2021-03-09T19:35:16.744935Z",
     "iopub.status.busy": "2021-03-09T19:35:16.744483Z",
     "iopub.status.idle": "2021-03-09T19:35:16.747553Z",
     "shell.execute_reply": "2021-03-09T19:35:16.747152Z"
    }
   },
   "outputs": [],
   "source": [
    "tableauData = json.loads(soup.find(\"textarea\",{\"id\": \"tsConfigContainer\"}).text)"
   ]
  },
  {
   "cell_type": "markdown",
   "metadata": {},
   "source": [
    "Get the link to the Tableau data"
   ]
  },
  {
   "cell_type": "code",
   "execution_count": 4,
   "metadata": {
    "execution": {
     "iopub.execute_input": "2021-03-09T19:35:16.750698Z",
     "iopub.status.busy": "2021-03-09T19:35:16.750256Z",
     "iopub.status.idle": "2021-03-09T19:35:16.753200Z",
     "shell.execute_reply": "2021-03-09T19:35:16.752833Z"
    }
   },
   "outputs": [],
   "source": [
    "dataUrl = f'https://public.tableau.com{tableauData[\"vizql_root\"]}/bootstrapSession/sessions/{tableauData[\"sessionid\"]}'"
   ]
  },
  {
   "cell_type": "code",
   "execution_count": 5,
   "metadata": {
    "execution": {
     "iopub.execute_input": "2021-03-09T19:35:16.758794Z",
     "iopub.status.busy": "2021-03-09T19:35:16.758351Z",
     "iopub.status.idle": "2021-03-09T19:35:16.991233Z",
     "shell.execute_reply": "2021-03-09T19:35:16.990795Z"
    }
   },
   "outputs": [],
   "source": [
    "r = requests.post(dataUrl, data= {\n",
    "    \"sheet_id\": tableauData[\"sheetId\"],\n",
    "})\n",
    "\n",
    "dataReg = re.search('\\d+;({.*})\\d+;({.*})', r.text, re.MULTILINE)\n",
    "data1 = json.loads(dataReg.group(2))\n",
    "\n",
    "dataJson = data1[\"secondaryInfo\"][\"presModelMap\"][\"dataDictionary\"][\"presModelHolder\"][\"genDataDictionaryPresModel\"][\"dataSegments\"][\"0\"][\"dataColumns\"]"
   ]
  },
  {
   "cell_type": "markdown",
   "metadata": {},
   "source": [
    "Isolate what you want"
   ]
  },
  {
   "cell_type": "code",
   "execution_count": 6,
   "metadata": {
    "execution": {
     "iopub.execute_input": "2021-03-09T19:35:16.994662Z",
     "iopub.status.busy": "2021-03-09T19:35:16.994211Z",
     "iopub.status.idle": "2021-03-09T19:35:16.997216Z",
     "shell.execute_reply": "2021-03-09T19:35:16.996838Z"
    }
   },
   "outputs": [],
   "source": [
    "counties = dataJson[2]['dataValues'][:58]"
   ]
  },
  {
   "cell_type": "code",
   "execution_count": 7,
   "metadata": {
    "execution": {
     "iopub.execute_input": "2021-03-09T19:35:17.000445Z",
     "iopub.status.busy": "2021-03-09T19:35:17.000007Z",
     "iopub.status.idle": "2021-03-09T19:35:17.002954Z",
     "shell.execute_reply": "2021-03-09T19:35:17.002533Z"
    }
   },
   "outputs": [],
   "source": [
    "doses = dataJson[0]['dataValues'][3:61]"
   ]
  },
  {
   "cell_type": "markdown",
   "metadata": {},
   "source": [
    "Data formatting"
   ]
  },
  {
   "cell_type": "code",
   "execution_count": 8,
   "metadata": {
    "execution": {
     "iopub.execute_input": "2021-03-09T19:35:17.006170Z",
     "iopub.status.busy": "2021-03-09T19:35:17.005732Z",
     "iopub.status.idle": "2021-03-09T19:35:17.008824Z",
     "shell.execute_reply": "2021-03-09T19:35:17.008439Z"
    }
   },
   "outputs": [],
   "source": [
    "zipped = dict(zip(counties, doses))"
   ]
  },
  {
   "cell_type": "code",
   "execution_count": 9,
   "metadata": {
    "execution": {
     "iopub.execute_input": "2021-03-09T19:35:17.013544Z",
     "iopub.status.busy": "2021-03-09T19:35:17.013082Z",
     "iopub.status.idle": "2021-03-09T19:35:17.016273Z",
     "shell.execute_reply": "2021-03-09T19:35:17.015701Z"
    }
   },
   "outputs": [],
   "source": [
    "df = pd.Series(zipped).reset_index()"
   ]
  },
  {
   "cell_type": "code",
   "execution_count": 10,
   "metadata": {
    "execution": {
     "iopub.execute_input": "2021-03-09T19:35:17.019170Z",
     "iopub.status.busy": "2021-03-09T19:35:17.018738Z",
     "iopub.status.idle": "2021-03-09T19:35:17.021472Z",
     "shell.execute_reply": "2021-03-09T19:35:17.021819Z"
    }
   },
   "outputs": [],
   "source": [
    "df.columns = ['location','doses']"
   ]
  },
  {
   "cell_type": "markdown",
   "metadata": {},
   "source": [
    "Grab the overall California total"
   ]
  },
  {
   "cell_type": "code",
   "execution_count": 11,
   "metadata": {
    "execution": {
     "iopub.execute_input": "2021-03-09T19:35:17.024779Z",
     "iopub.status.busy": "2021-03-09T19:35:17.024344Z",
     "iopub.status.idle": "2021-03-09T19:35:17.027388Z",
     "shell.execute_reply": "2021-03-09T19:35:17.026787Z"
    }
   },
   "outputs": [],
   "source": [
    "add = {'location':'California','doses':dataJson[0]['dataValues'][2]}"
   ]
  },
  {
   "cell_type": "code",
   "execution_count": 12,
   "metadata": {
    "execution": {
     "iopub.execute_input": "2021-03-09T19:35:17.032681Z",
     "iopub.status.busy": "2021-03-09T19:35:17.032246Z",
     "iopub.status.idle": "2021-03-09T19:35:17.034830Z",
     "shell.execute_reply": "2021-03-09T19:35:17.035170Z"
    }
   },
   "outputs": [],
   "source": [
    "df = df.append(add, ignore_index=True)"
   ]
  },
  {
   "cell_type": "code",
   "execution_count": 13,
   "metadata": {
    "execution": {
     "iopub.execute_input": "2021-03-09T19:35:17.038678Z",
     "iopub.status.busy": "2021-03-09T19:35:17.038239Z",
     "iopub.status.idle": "2021-03-09T19:35:17.041167Z",
     "shell.execute_reply": "2021-03-09T19:35:17.040783Z"
    }
   },
   "outputs": [],
   "source": [
    "df = df.sort_values(by='location')"
   ]
  },
  {
   "cell_type": "code",
   "execution_count": 14,
   "metadata": {
    "execution": {
     "iopub.execute_input": "2021-03-09T19:35:17.046465Z",
     "iopub.status.busy": "2021-03-09T19:35:17.045688Z",
     "iopub.status.idle": "2021-03-09T19:35:17.047282Z",
     "shell.execute_reply": "2021-03-09T19:35:17.047651Z"
    }
   },
   "outputs": [],
   "source": [
    "df = df[df.location == 'California'].append(df[df.location != 'California']).reset_index(drop=True)"
   ]
  },
  {
   "cell_type": "code",
   "execution_count": null,
   "metadata": {},
   "outputs": [],
   "source": []
  },
  {
   "cell_type": "code",
   "execution_count": 15,
   "metadata": {
    "execution": {
     "iopub.execute_input": "2021-03-09T19:35:17.050491Z",
     "iopub.status.busy": "2021-03-09T19:35:17.050050Z",
     "iopub.status.idle": "2021-03-09T19:35:17.065156Z",
     "shell.execute_reply": "2021-03-09T19:35:17.064781Z"
    }
   },
   "outputs": [],
   "source": [
    "tz = pytz.timezone(\"America/New_York\")"
   ]
  },
  {
   "cell_type": "code",
   "execution_count": 16,
   "metadata": {
    "execution": {
     "iopub.execute_input": "2021-03-09T19:35:17.068582Z",
     "iopub.status.busy": "2021-03-09T19:35:17.067803Z",
     "iopub.status.idle": "2021-03-09T19:35:17.069797Z",
     "shell.execute_reply": "2021-03-09T19:35:17.069400Z"
    }
   },
   "outputs": [],
   "source": [
    "today = datetime.now(tz).date()"
   ]
  },
  {
   "cell_type": "code",
   "execution_count": 17,
   "metadata": {
    "execution": {
     "iopub.execute_input": "2021-03-09T19:35:17.073233Z",
     "iopub.status.busy": "2021-03-09T19:35:17.072464Z",
     "iopub.status.idle": "2021-03-09T19:35:17.074384Z",
     "shell.execute_reply": "2021-03-09T19:35:17.074025Z"
    }
   },
   "outputs": [],
   "source": [
    "data_dir = os.path.join(os.path.abspath(\"\"), \"data\")"
   ]
  },
  {
   "cell_type": "code",
   "execution_count": 18,
   "metadata": {
    "execution": {
     "iopub.execute_input": "2021-03-09T19:35:17.078101Z",
     "iopub.status.busy": "2021-03-09T19:35:17.077011Z",
     "iopub.status.idle": "2021-03-09T19:35:17.081259Z",
     "shell.execute_reply": "2021-03-09T19:35:17.080875Z"
    }
   },
   "outputs": [],
   "source": [
    "df.to_csv(os.path.join(data_dir, f\"{today}.csv\"), index=False)"
   ]
  },
  {
   "cell_type": "code",
   "execution_count": null,
   "metadata": {},
   "outputs": [],
   "source": []
  }
 ],
 "metadata": {
  "kernelspec": {
   "display_name": "Python 3",
   "language": "python",
   "name": "python3"
  },
  "language_info": {
   "codemirror_mode": {
    "name": "ipython",
    "version": 3
   },
   "file_extension": ".py",
   "mimetype": "text/x-python",
   "name": "python",
   "nbconvert_exporter": "python",
   "pygments_lexer": "ipython3",
   "version": "3.8.8"
  }
 },
 "nbformat": 4,
 "nbformat_minor": 4
}
