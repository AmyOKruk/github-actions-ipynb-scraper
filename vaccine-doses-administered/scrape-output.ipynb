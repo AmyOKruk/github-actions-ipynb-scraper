{
 "cells": [
  {
   "cell_type": "markdown",
   "metadata": {},
   "source": [
    "# California COVID vaccinations scrape"
   ]
  },
  {
   "cell_type": "markdown",
   "metadata": {},
   "source": [
    "By [Amy O'Kruk](https://twitter.com/amyokruk)"
   ]
  },
  {
   "cell_type": "markdown",
   "metadata": {},
   "source": [
    "Downloads data on vaccine doses administered by county and statewide from a Tableau-powered dashboard from the California Department of Public Health."
   ]
  },
  {
   "cell_type": "code",
   "execution_count": 1,
   "metadata": {
    "execution": {
     "iopub.execute_input": "2021-03-20T11:12:10.889245Z",
     "iopub.status.busy": "2021-03-20T11:12:10.888634Z",
     "iopub.status.idle": "2021-03-20T11:12:11.294701Z",
     "shell.execute_reply": "2021-03-20T11:12:11.293580Z"
    }
   },
   "outputs": [],
   "source": [
    "import pandas as pd\n",
    "import requests\n",
    "from bs4 import BeautifulSoup\n",
    "import json\n",
    "import re\n",
    "import time\n",
    "from time import gmtime, strftime \n",
    "import os\n",
    "import pytz\n",
    "from datetime import datetime"
   ]
  },
  {
   "cell_type": "markdown",
   "metadata": {},
   "source": [
    "Scrape the dashboard page"
   ]
  },
  {
   "cell_type": "code",
   "execution_count": 2,
   "metadata": {
    "execution": {
     "iopub.execute_input": "2021-03-20T11:12:11.301765Z",
     "iopub.status.busy": "2021-03-20T11:12:11.298871Z",
     "iopub.status.idle": "2021-03-20T11:12:11.937994Z",
     "shell.execute_reply": "2021-03-20T11:12:11.937369Z"
    }
   },
   "outputs": [],
   "source": [
    "url = \"https://public.tableau.com/interactive/views/COVID-19VaccineDashboardPublic/Vaccine?:embed=y&:showVizHome=n&:apiID=host0\"\n",
    "\n",
    "r = requests.get(url)\n",
    "soup = BeautifulSoup(r.text, \"html.parser\")"
   ]
  },
  {
   "cell_type": "code",
   "execution_count": 3,
   "metadata": {
    "execution": {
     "iopub.execute_input": "2021-03-20T11:12:11.943733Z",
     "iopub.status.busy": "2021-03-20T11:12:11.942993Z",
     "iopub.status.idle": "2021-03-20T11:12:11.947246Z",
     "shell.execute_reply": "2021-03-20T11:12:11.946801Z"
    }
   },
   "outputs": [],
   "source": [
    "tableauData = json.loads(soup.find(\"textarea\",{\"id\": \"tsConfigContainer\"}).text)"
   ]
  },
  {
   "cell_type": "markdown",
   "metadata": {},
   "source": [
    "Get the link to the Tableau data"
   ]
  },
  {
   "cell_type": "code",
   "execution_count": 4,
   "metadata": {
    "execution": {
     "iopub.execute_input": "2021-03-20T11:12:11.952119Z",
     "iopub.status.busy": "2021-03-20T11:12:11.950673Z",
     "iopub.status.idle": "2021-03-20T11:12:11.952700Z",
     "shell.execute_reply": "2021-03-20T11:12:11.953182Z"
    }
   },
   "outputs": [],
   "source": [
    "dataUrl = f'https://public.tableau.com{tableauData[\"vizql_root\"]}/bootstrapSession/sessions/{tableauData[\"sessionid\"]}'"
   ]
  },
  {
   "cell_type": "code",
   "execution_count": 5,
   "metadata": {
    "execution": {
     "iopub.execute_input": "2021-03-20T11:12:11.960646Z",
     "iopub.status.busy": "2021-03-20T11:12:11.959896Z",
     "iopub.status.idle": "2021-03-20T11:12:12.098334Z",
     "shell.execute_reply": "2021-03-20T11:12:12.097560Z"
    }
   },
   "outputs": [],
   "source": [
    "r = requests.post(dataUrl, data= {\n",
    "    \"sheet_id\": tableauData[\"sheetId\"],\n",
    "})\n",
    "\n",
    "dataReg = re.search('\\d+;({.*})\\d+;({.*})', r.text, re.MULTILINE)\n",
    "data1 = json.loads(dataReg.group(2))\n",
    "\n",
    "dataJson = data1[\"secondaryInfo\"][\"presModelMap\"][\"dataDictionary\"][\"presModelHolder\"][\"genDataDictionaryPresModel\"][\"dataSegments\"][\"0\"][\"dataColumns\"]"
   ]
  },
  {
   "cell_type": "markdown",
   "metadata": {},
   "source": [
    "Isolate what you want"
   ]
  },
  {
   "cell_type": "code",
   "execution_count": 6,
   "metadata": {
    "execution": {
     "iopub.execute_input": "2021-03-20T11:12:12.103442Z",
     "iopub.status.busy": "2021-03-20T11:12:12.101975Z",
     "iopub.status.idle": "2021-03-20T11:12:12.104017Z",
     "shell.execute_reply": "2021-03-20T11:12:12.104433Z"
    }
   },
   "outputs": [],
   "source": [
    "counties = dataJson[2]['dataValues'][:58]"
   ]
  },
  {
   "cell_type": "code",
   "execution_count": 7,
   "metadata": {
    "execution": {
     "iopub.execute_input": "2021-03-20T11:12:12.109345Z",
     "iopub.status.busy": "2021-03-20T11:12:12.108028Z",
     "iopub.status.idle": "2021-03-20T11:12:12.109987Z",
     "shell.execute_reply": "2021-03-20T11:12:12.110439Z"
    }
   },
   "outputs": [],
   "source": [
    "doses = dataJson[0]['dataValues'][3:61]"
   ]
  },
  {
   "cell_type": "markdown",
   "metadata": {},
   "source": [
    "Data formatting"
   ]
  },
  {
   "cell_type": "code",
   "execution_count": 8,
   "metadata": {
    "execution": {
     "iopub.execute_input": "2021-03-20T11:12:12.115258Z",
     "iopub.status.busy": "2021-03-20T11:12:12.113815Z",
     "iopub.status.idle": "2021-03-20T11:12:12.115993Z",
     "shell.execute_reply": "2021-03-20T11:12:12.116403Z"
    }
   },
   "outputs": [],
   "source": [
    "zipped = dict(zip(counties, doses))"
   ]
  },
  {
   "cell_type": "code",
   "execution_count": 9,
   "metadata": {
    "execution": {
     "iopub.execute_input": "2021-03-20T11:12:12.123465Z",
     "iopub.status.busy": "2021-03-20T11:12:12.121973Z",
     "iopub.status.idle": "2021-03-20T11:12:12.124035Z",
     "shell.execute_reply": "2021-03-20T11:12:12.124452Z"
    }
   },
   "outputs": [],
   "source": [
    "df = pd.Series(zipped).reset_index()"
   ]
  },
  {
   "cell_type": "code",
   "execution_count": 10,
   "metadata": {
    "execution": {
     "iopub.execute_input": "2021-03-20T11:12:12.129645Z",
     "iopub.status.busy": "2021-03-20T11:12:12.128098Z",
     "iopub.status.idle": "2021-03-20T11:12:12.130410Z",
     "shell.execute_reply": "2021-03-20T11:12:12.130904Z"
    }
   },
   "outputs": [],
   "source": [
    "df.columns = ['location','doses']"
   ]
  },
  {
   "cell_type": "markdown",
   "metadata": {},
   "source": [
    "Grab the overall California total"
   ]
  },
  {
   "cell_type": "code",
   "execution_count": 11,
   "metadata": {
    "execution": {
     "iopub.execute_input": "2021-03-20T11:12:12.136182Z",
     "iopub.status.busy": "2021-03-20T11:12:12.134612Z",
     "iopub.status.idle": "2021-03-20T11:12:12.136873Z",
     "shell.execute_reply": "2021-03-20T11:12:12.137599Z"
    }
   },
   "outputs": [],
   "source": [
    "add = {'location':'California','doses':dataJson[0]['dataValues'][2]}"
   ]
  },
  {
   "cell_type": "code",
   "execution_count": 12,
   "metadata": {
    "execution": {
     "iopub.execute_input": "2021-03-20T11:12:12.146280Z",
     "iopub.status.busy": "2021-03-20T11:12:12.144615Z",
     "iopub.status.idle": "2021-03-20T11:12:12.147002Z",
     "shell.execute_reply": "2021-03-20T11:12:12.147625Z"
    }
   },
   "outputs": [],
   "source": [
    "df = df.append(add, ignore_index=True)"
   ]
  },
  {
   "cell_type": "code",
   "execution_count": 13,
   "metadata": {
    "execution": {
     "iopub.execute_input": "2021-03-20T11:12:12.154681Z",
     "iopub.status.busy": "2021-03-20T11:12:12.152339Z",
     "iopub.status.idle": "2021-03-20T11:12:12.155400Z",
     "shell.execute_reply": "2021-03-20T11:12:12.155923Z"
    }
   },
   "outputs": [],
   "source": [
    "df = df.sort_values(by='location')"
   ]
  },
  {
   "cell_type": "code",
   "execution_count": 14,
   "metadata": {
    "execution": {
     "iopub.execute_input": "2021-03-20T11:12:12.161823Z",
     "iopub.status.busy": "2021-03-20T11:12:12.161295Z",
     "iopub.status.idle": "2021-03-20T11:12:12.163859Z",
     "shell.execute_reply": "2021-03-20T11:12:12.163308Z"
    }
   },
   "outputs": [],
   "source": [
    "df = df[df.location == 'California'].append(df[df.location != 'California']).reset_index(drop=True)"
   ]
  },
  {
   "cell_type": "code",
   "execution_count": null,
   "metadata": {},
   "outputs": [],
   "source": []
  },
  {
   "cell_type": "code",
   "execution_count": 15,
   "metadata": {
    "execution": {
     "iopub.execute_input": "2021-03-20T11:12:12.167352Z",
     "iopub.status.busy": "2021-03-20T11:12:12.166851Z",
     "iopub.status.idle": "2021-03-20T11:12:12.185115Z",
     "shell.execute_reply": "2021-03-20T11:12:12.184656Z"
    }
   },
   "outputs": [],
   "source": [
    "tz = pytz.timezone(\"America/New_York\")"
   ]
  },
  {
   "cell_type": "code",
   "execution_count": 16,
   "metadata": {
    "execution": {
     "iopub.execute_input": "2021-03-20T11:12:12.189376Z",
     "iopub.status.busy": "2021-03-20T11:12:12.188115Z",
     "iopub.status.idle": "2021-03-20T11:12:12.190107Z",
     "shell.execute_reply": "2021-03-20T11:12:12.190687Z"
    }
   },
   "outputs": [],
   "source": [
    "today = datetime.now(tz).date()"
   ]
  },
  {
   "cell_type": "code",
   "execution_count": 17,
   "metadata": {
    "execution": {
     "iopub.execute_input": "2021-03-20T11:12:12.195358Z",
     "iopub.status.busy": "2021-03-20T11:12:12.193838Z",
     "iopub.status.idle": "2021-03-20T11:12:12.196119Z",
     "shell.execute_reply": "2021-03-20T11:12:12.196653Z"
    }
   },
   "outputs": [],
   "source": [
    "data_dir = os.path.join(os.path.abspath(\"\"), \"data\")"
   ]
  },
  {
   "cell_type": "code",
   "execution_count": 18,
   "metadata": {
    "execution": {
     "iopub.execute_input": "2021-03-20T11:12:12.203157Z",
     "iopub.status.busy": "2021-03-20T11:12:12.200757Z",
     "iopub.status.idle": "2021-03-20T11:12:12.205259Z",
     "shell.execute_reply": "2021-03-20T11:12:12.205765Z"
    }
   },
   "outputs": [],
   "source": [
    "df.to_csv(os.path.join(data_dir, f\"{today}.csv\"), index=False)"
   ]
  },
  {
   "cell_type": "code",
   "execution_count": null,
   "metadata": {},
   "outputs": [],
   "source": []
  }
 ],
 "metadata": {
  "kernelspec": {
   "display_name": "Python 3",
   "language": "python",
   "name": "python3"
  },
  "language_info": {
   "codemirror_mode": {
    "name": "ipython",
    "version": 3
   },
   "file_extension": ".py",
   "mimetype": "text/x-python",
   "name": "python",
   "nbconvert_exporter": "python",
   "pygments_lexer": "ipython3",
   "version": "3.8.8"
  }
 },
 "nbformat": 4,
 "nbformat_minor": 4
}
