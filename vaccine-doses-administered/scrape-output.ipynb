{
 "cells": [
  {
   "cell_type": "markdown",
   "metadata": {},
   "source": [
    "# California COVID vaccinations scrape"
   ]
  },
  {
   "cell_type": "markdown",
   "metadata": {},
   "source": [
    "By [Amy O'Kruk](https://twitter.com/amyokruk)"
   ]
  },
  {
   "cell_type": "markdown",
   "metadata": {},
   "source": [
    "Downloads data on vaccine doses administered by county and statewide from a Tableau-powered dashboard from the California Department of Public Health."
   ]
  },
  {
   "cell_type": "code",
   "execution_count": 1,
   "metadata": {
    "execution": {
     "iopub.execute_input": "2021-03-17T12:16:37.657193Z",
     "iopub.status.busy": "2021-03-17T12:16:37.656553Z",
     "iopub.status.idle": "2021-03-17T12:16:38.098573Z",
     "shell.execute_reply": "2021-03-17T12:16:38.099318Z"
    }
   },
   "outputs": [],
   "source": [
    "import pandas as pd\n",
    "import requests\n",
    "from bs4 import BeautifulSoup\n",
    "import json\n",
    "import re\n",
    "import time\n",
    "from time import gmtime, strftime \n",
    "import os\n",
    "import pytz\n",
    "from datetime import datetime"
   ]
  },
  {
   "cell_type": "markdown",
   "metadata": {},
   "source": [
    "Scrape the dashboard page"
   ]
  },
  {
   "cell_type": "code",
   "execution_count": 2,
   "metadata": {
    "execution": {
     "iopub.execute_input": "2021-03-17T12:16:38.105911Z",
     "iopub.status.busy": "2021-03-17T12:16:38.103330Z",
     "iopub.status.idle": "2021-03-17T12:16:38.614289Z",
     "shell.execute_reply": "2021-03-17T12:16:38.612987Z"
    }
   },
   "outputs": [],
   "source": [
    "url = \"https://public.tableau.com/interactive/views/COVID-19VaccineDashboardPublic/Vaccine?:embed=y&:showVizHome=n&:apiID=host0\"\n",
    "\n",
    "r = requests.get(url)\n",
    "soup = BeautifulSoup(r.text, \"html.parser\")"
   ]
  },
  {
   "cell_type": "code",
   "execution_count": 3,
   "metadata": {
    "execution": {
     "iopub.execute_input": "2021-03-17T12:16:38.621035Z",
     "iopub.status.busy": "2021-03-17T12:16:38.619466Z",
     "iopub.status.idle": "2021-03-17T12:16:38.621629Z",
     "shell.execute_reply": "2021-03-17T12:16:38.622061Z"
    }
   },
   "outputs": [],
   "source": [
    "tableauData = json.loads(soup.find(\"textarea\",{\"id\": \"tsConfigContainer\"}).text)"
   ]
  },
  {
   "cell_type": "markdown",
   "metadata": {},
   "source": [
    "Get the link to the Tableau data"
   ]
  },
  {
   "cell_type": "code",
   "execution_count": 4,
   "metadata": {
    "execution": {
     "iopub.execute_input": "2021-03-17T12:16:38.626554Z",
     "iopub.status.busy": "2021-03-17T12:16:38.625354Z",
     "iopub.status.idle": "2021-03-17T12:16:38.627154Z",
     "shell.execute_reply": "2021-03-17T12:16:38.627582Z"
    }
   },
   "outputs": [],
   "source": [
    "dataUrl = f'https://public.tableau.com{tableauData[\"vizql_root\"]}/bootstrapSession/sessions/{tableauData[\"sessionid\"]}'"
   ]
  },
  {
   "cell_type": "code",
   "execution_count": 5,
   "metadata": {
    "execution": {
     "iopub.execute_input": "2021-03-17T12:16:38.634343Z",
     "iopub.status.busy": "2021-03-17T12:16:38.633812Z",
     "iopub.status.idle": "2021-03-17T12:16:39.184958Z",
     "shell.execute_reply": "2021-03-17T12:16:39.184094Z"
    }
   },
   "outputs": [],
   "source": [
    "r = requests.post(dataUrl, data= {\n",
    "    \"sheet_id\": tableauData[\"sheetId\"],\n",
    "})\n",
    "\n",
    "dataReg = re.search('\\d+;({.*})\\d+;({.*})', r.text, re.MULTILINE)\n",
    "data1 = json.loads(dataReg.group(2))\n",
    "\n",
    "dataJson = data1[\"secondaryInfo\"][\"presModelMap\"][\"dataDictionary\"][\"presModelHolder\"][\"genDataDictionaryPresModel\"][\"dataSegments\"][\"0\"][\"dataColumns\"]"
   ]
  },
  {
   "cell_type": "markdown",
   "metadata": {},
   "source": [
    "Isolate what you want"
   ]
  },
  {
   "cell_type": "code",
   "execution_count": 6,
   "metadata": {
    "execution": {
     "iopub.execute_input": "2021-03-17T12:16:39.189804Z",
     "iopub.status.busy": "2021-03-17T12:16:39.188617Z",
     "iopub.status.idle": "2021-03-17T12:16:39.190400Z",
     "shell.execute_reply": "2021-03-17T12:16:39.190834Z"
    }
   },
   "outputs": [],
   "source": [
    "counties = dataJson[2]['dataValues'][:58]"
   ]
  },
  {
   "cell_type": "code",
   "execution_count": 7,
   "metadata": {
    "execution": {
     "iopub.execute_input": "2021-03-17T12:16:39.195237Z",
     "iopub.status.busy": "2021-03-17T12:16:39.194130Z",
     "iopub.status.idle": "2021-03-17T12:16:39.195832Z",
     "shell.execute_reply": "2021-03-17T12:16:39.196261Z"
    }
   },
   "outputs": [],
   "source": [
    "doses = dataJson[0]['dataValues'][3:61]"
   ]
  },
  {
   "cell_type": "markdown",
   "metadata": {},
   "source": [
    "Data formatting"
   ]
  },
  {
   "cell_type": "code",
   "execution_count": 8,
   "metadata": {
    "execution": {
     "iopub.execute_input": "2021-03-17T12:16:39.200601Z",
     "iopub.status.busy": "2021-03-17T12:16:39.199423Z",
     "iopub.status.idle": "2021-03-17T12:16:39.201235Z",
     "shell.execute_reply": "2021-03-17T12:16:39.201666Z"
    }
   },
   "outputs": [],
   "source": [
    "zipped = dict(zip(counties, doses))"
   ]
  },
  {
   "cell_type": "code",
   "execution_count": 9,
   "metadata": {
    "execution": {
     "iopub.execute_input": "2021-03-17T12:16:39.208410Z",
     "iopub.status.busy": "2021-03-17T12:16:39.207119Z",
     "iopub.status.idle": "2021-03-17T12:16:39.209034Z",
     "shell.execute_reply": "2021-03-17T12:16:39.209471Z"
    }
   },
   "outputs": [],
   "source": [
    "df = pd.Series(zipped).reset_index()"
   ]
  },
  {
   "cell_type": "code",
   "execution_count": 10,
   "metadata": {
    "execution": {
     "iopub.execute_input": "2021-03-17T12:16:39.214017Z",
     "iopub.status.busy": "2021-03-17T12:16:39.212905Z",
     "iopub.status.idle": "2021-03-17T12:16:39.214612Z",
     "shell.execute_reply": "2021-03-17T12:16:39.215040Z"
    }
   },
   "outputs": [],
   "source": [
    "df.columns = ['location','doses']"
   ]
  },
  {
   "cell_type": "markdown",
   "metadata": {},
   "source": [
    "Grab the overall California total"
   ]
  },
  {
   "cell_type": "code",
   "execution_count": 11,
   "metadata": {
    "execution": {
     "iopub.execute_input": "2021-03-17T12:16:39.219542Z",
     "iopub.status.busy": "2021-03-17T12:16:39.218353Z",
     "iopub.status.idle": "2021-03-17T12:16:39.220221Z",
     "shell.execute_reply": "2021-03-17T12:16:39.220651Z"
    }
   },
   "outputs": [],
   "source": [
    "add = {'location':'California','doses':dataJson[0]['dataValues'][2]}"
   ]
  },
  {
   "cell_type": "code",
   "execution_count": 12,
   "metadata": {
    "execution": {
     "iopub.execute_input": "2021-03-17T12:16:39.227919Z",
     "iopub.status.busy": "2021-03-17T12:16:39.226783Z",
     "iopub.status.idle": "2021-03-17T12:16:39.228507Z",
     "shell.execute_reply": "2021-03-17T12:16:39.228957Z"
    }
   },
   "outputs": [],
   "source": [
    "df = df.append(add, ignore_index=True)"
   ]
  },
  {
   "cell_type": "code",
   "execution_count": 13,
   "metadata": {
    "execution": {
     "iopub.execute_input": "2021-03-17T12:16:39.234033Z",
     "iopub.status.busy": "2021-03-17T12:16:39.232905Z",
     "iopub.status.idle": "2021-03-17T12:16:39.234629Z",
     "shell.execute_reply": "2021-03-17T12:16:39.235054Z"
    }
   },
   "outputs": [],
   "source": [
    "df = df.sort_values(by='location')"
   ]
  },
  {
   "cell_type": "code",
   "execution_count": 14,
   "metadata": {
    "execution": {
     "iopub.execute_input": "2021-03-17T12:16:39.241655Z",
     "iopub.status.busy": "2021-03-17T12:16:39.240513Z",
     "iopub.status.idle": "2021-03-17T12:16:39.242264Z",
     "shell.execute_reply": "2021-03-17T12:16:39.242696Z"
    }
   },
   "outputs": [],
   "source": [
    "df = df[df.location == 'California'].append(df[df.location != 'California']).reset_index(drop=True)"
   ]
  },
  {
   "cell_type": "code",
   "execution_count": null,
   "metadata": {},
   "outputs": [],
   "source": []
  },
  {
   "cell_type": "code",
   "execution_count": 15,
   "metadata": {
    "execution": {
     "iopub.execute_input": "2021-03-17T12:16:39.246224Z",
     "iopub.status.busy": "2021-03-17T12:16:39.245710Z",
     "iopub.status.idle": "2021-03-17T12:16:39.263803Z",
     "shell.execute_reply": "2021-03-17T12:16:39.263295Z"
    }
   },
   "outputs": [],
   "source": [
    "tz = pytz.timezone(\"America/New_York\")"
   ]
  },
  {
   "cell_type": "code",
   "execution_count": 16,
   "metadata": {
    "execution": {
     "iopub.execute_input": "2021-03-17T12:16:39.268435Z",
     "iopub.status.busy": "2021-03-17T12:16:39.267263Z",
     "iopub.status.idle": "2021-03-17T12:16:39.269072Z",
     "shell.execute_reply": "2021-03-17T12:16:39.269515Z"
    }
   },
   "outputs": [],
   "source": [
    "today = datetime.now(tz).date()"
   ]
  },
  {
   "cell_type": "code",
   "execution_count": 17,
   "metadata": {
    "execution": {
     "iopub.execute_input": "2021-03-17T12:16:39.274041Z",
     "iopub.status.busy": "2021-03-17T12:16:39.272887Z",
     "iopub.status.idle": "2021-03-17T12:16:39.274633Z",
     "shell.execute_reply": "2021-03-17T12:16:39.275059Z"
    }
   },
   "outputs": [],
   "source": [
    "data_dir = os.path.join(os.path.abspath(\"\"), \"data\")"
   ]
  },
  {
   "cell_type": "code",
   "execution_count": 18,
   "metadata": {
    "execution": {
     "iopub.execute_input": "2021-03-17T12:16:39.279623Z",
     "iopub.status.busy": "2021-03-17T12:16:39.278405Z",
     "iopub.status.idle": "2021-03-17T12:16:39.283148Z",
     "shell.execute_reply": "2021-03-17T12:16:39.282624Z"
    }
   },
   "outputs": [],
   "source": [
    "df.to_csv(os.path.join(data_dir, f\"{today}.csv\"), index=False)"
   ]
  },
  {
   "cell_type": "code",
   "execution_count": null,
   "metadata": {},
   "outputs": [],
   "source": []
  }
 ],
 "metadata": {
  "kernelspec": {
   "display_name": "Python 3",
   "language": "python",
   "name": "python3"
  },
  "language_info": {
   "codemirror_mode": {
    "name": "ipython",
    "version": 3
   },
   "file_extension": ".py",
   "mimetype": "text/x-python",
   "name": "python",
   "nbconvert_exporter": "python",
   "pygments_lexer": "ipython3",
   "version": "3.8.8"
  }
 },
 "nbformat": 4,
 "nbformat_minor": 4
}
