{
 "cells": [
  {
   "cell_type": "markdown",
   "metadata": {},
   "source": [
    "# California COVID vaccinations scrape"
   ]
  },
  {
   "cell_type": "markdown",
   "metadata": {},
   "source": [
    "By [Amy O'Kruk](https://twitter.com/amyokruk)"
   ]
  },
  {
   "cell_type": "markdown",
   "metadata": {},
   "source": [
    "Downloads data on vaccine doses administered by county and statewide from a Tableau-powered dashboard from the California Department of Public Health."
   ]
  },
  {
   "cell_type": "code",
   "execution_count": 1,
   "metadata": {
    "execution": {
     "iopub.execute_input": "2021-03-16T21:11:38.522035Z",
     "iopub.status.busy": "2021-03-16T21:11:38.521458Z",
     "iopub.status.idle": "2021-03-16T21:11:38.882234Z",
     "shell.execute_reply": "2021-03-16T21:11:38.881722Z"
    }
   },
   "outputs": [],
   "source": [
    "import pandas as pd\n",
    "import requests\n",
    "from bs4 import BeautifulSoup\n",
    "import json\n",
    "import re\n",
    "import time\n",
    "from time import gmtime, strftime \n",
    "import os\n",
    "import pytz\n",
    "from datetime import datetime"
   ]
  },
  {
   "cell_type": "markdown",
   "metadata": {},
   "source": [
    "Scrape the dashboard page"
   ]
  },
  {
   "cell_type": "code",
   "execution_count": 2,
   "metadata": {
    "execution": {
     "iopub.execute_input": "2021-03-16T21:11:38.887732Z",
     "iopub.status.busy": "2021-03-16T21:11:38.885398Z",
     "iopub.status.idle": "2021-03-16T21:11:39.338568Z",
     "shell.execute_reply": "2021-03-16T21:11:39.338059Z"
    }
   },
   "outputs": [],
   "source": [
    "url = \"https://public.tableau.com/interactive/views/COVID-19VaccineDashboardPublic/Vaccine?:embed=y&:showVizHome=n&:apiID=host0\"\n",
    "\n",
    "r = requests.get(url)\n",
    "soup = BeautifulSoup(r.text, \"html.parser\")"
   ]
  },
  {
   "cell_type": "code",
   "execution_count": 3,
   "metadata": {
    "execution": {
     "iopub.execute_input": "2021-03-16T21:11:39.343632Z",
     "iopub.status.busy": "2021-03-16T21:11:39.342553Z",
     "iopub.status.idle": "2021-03-16T21:11:39.344426Z",
     "shell.execute_reply": "2021-03-16T21:11:39.344894Z"
    }
   },
   "outputs": [],
   "source": [
    "tableauData = json.loads(soup.find(\"textarea\",{\"id\": \"tsConfigContainer\"}).text)"
   ]
  },
  {
   "cell_type": "markdown",
   "metadata": {},
   "source": [
    "Get the link to the Tableau data"
   ]
  },
  {
   "cell_type": "code",
   "execution_count": 4,
   "metadata": {
    "execution": {
     "iopub.execute_input": "2021-03-16T21:11:39.348532Z",
     "iopub.status.busy": "2021-03-16T21:11:39.347721Z",
     "iopub.status.idle": "2021-03-16T21:11:39.349677Z",
     "shell.execute_reply": "2021-03-16T21:11:39.349291Z"
    }
   },
   "outputs": [],
   "source": [
    "dataUrl = f'https://public.tableau.com{tableauData[\"vizql_root\"]}/bootstrapSession/sessions/{tableauData[\"sessionid\"]}'"
   ]
  },
  {
   "cell_type": "code",
   "execution_count": 5,
   "metadata": {
    "execution": {
     "iopub.execute_input": "2021-03-16T21:11:39.355615Z",
     "iopub.status.busy": "2021-03-16T21:11:39.355142Z",
     "iopub.status.idle": "2021-03-16T21:11:46.344871Z",
     "shell.execute_reply": "2021-03-16T21:11:46.344433Z"
    }
   },
   "outputs": [],
   "source": [
    "r = requests.post(dataUrl, data= {\n",
    "    \"sheet_id\": tableauData[\"sheetId\"],\n",
    "})\n",
    "\n",
    "dataReg = re.search('\\d+;({.*})\\d+;({.*})', r.text, re.MULTILINE)\n",
    "data1 = json.loads(dataReg.group(2))\n",
    "\n",
    "dataJson = data1[\"secondaryInfo\"][\"presModelMap\"][\"dataDictionary\"][\"presModelHolder\"][\"genDataDictionaryPresModel\"][\"dataSegments\"][\"0\"][\"dataColumns\"]"
   ]
  },
  {
   "cell_type": "markdown",
   "metadata": {},
   "source": [
    "Isolate what you want"
   ]
  },
  {
   "cell_type": "code",
   "execution_count": 6,
   "metadata": {
    "execution": {
     "iopub.execute_input": "2021-03-16T21:11:46.348707Z",
     "iopub.status.busy": "2021-03-16T21:11:46.348210Z",
     "iopub.status.idle": "2021-03-16T21:11:46.351461Z",
     "shell.execute_reply": "2021-03-16T21:11:46.351079Z"
    }
   },
   "outputs": [],
   "source": [
    "counties = dataJson[2]['dataValues'][:58]"
   ]
  },
  {
   "cell_type": "code",
   "execution_count": 7,
   "metadata": {
    "execution": {
     "iopub.execute_input": "2021-03-16T21:11:46.354835Z",
     "iopub.status.busy": "2021-03-16T21:11:46.354380Z",
     "iopub.status.idle": "2021-03-16T21:11:46.357489Z",
     "shell.execute_reply": "2021-03-16T21:11:46.357091Z"
    }
   },
   "outputs": [],
   "source": [
    "doses = dataJson[0]['dataValues'][3:61]"
   ]
  },
  {
   "cell_type": "markdown",
   "metadata": {},
   "source": [
    "Data formatting"
   ]
  },
  {
   "cell_type": "code",
   "execution_count": 8,
   "metadata": {
    "execution": {
     "iopub.execute_input": "2021-03-16T21:11:46.360868Z",
     "iopub.status.busy": "2021-03-16T21:11:46.360429Z",
     "iopub.status.idle": "2021-03-16T21:11:46.363578Z",
     "shell.execute_reply": "2021-03-16T21:11:46.363111Z"
    }
   },
   "outputs": [],
   "source": [
    "zipped = dict(zip(counties, doses))"
   ]
  },
  {
   "cell_type": "code",
   "execution_count": 9,
   "metadata": {
    "execution": {
     "iopub.execute_input": "2021-03-16T21:11:46.369506Z",
     "iopub.status.busy": "2021-03-16T21:11:46.368355Z",
     "iopub.status.idle": "2021-03-16T21:11:46.370033Z",
     "shell.execute_reply": "2021-03-16T21:11:46.370487Z"
    }
   },
   "outputs": [],
   "source": [
    "df = pd.Series(zipped).reset_index()"
   ]
  },
  {
   "cell_type": "code",
   "execution_count": 10,
   "metadata": {
    "execution": {
     "iopub.execute_input": "2021-03-16T21:11:46.374523Z",
     "iopub.status.busy": "2021-03-16T21:11:46.373471Z",
     "iopub.status.idle": "2021-03-16T21:11:46.375039Z",
     "shell.execute_reply": "2021-03-16T21:11:46.375460Z"
    }
   },
   "outputs": [],
   "source": [
    "df.columns = ['location','doses']"
   ]
  },
  {
   "cell_type": "markdown",
   "metadata": {},
   "source": [
    "Grab the overall California total"
   ]
  },
  {
   "cell_type": "code",
   "execution_count": 11,
   "metadata": {
    "execution": {
     "iopub.execute_input": "2021-03-16T21:11:46.379306Z",
     "iopub.status.busy": "2021-03-16T21:11:46.378475Z",
     "iopub.status.idle": "2021-03-16T21:11:46.379999Z",
     "shell.execute_reply": "2021-03-16T21:11:46.380367Z"
    }
   },
   "outputs": [],
   "source": [
    "add = {'location':'California','doses':dataJson[0]['dataValues'][2]}"
   ]
  },
  {
   "cell_type": "code",
   "execution_count": 12,
   "metadata": {
    "execution": {
     "iopub.execute_input": "2021-03-16T21:11:46.386298Z",
     "iopub.status.busy": "2021-03-16T21:11:46.385462Z",
     "iopub.status.idle": "2021-03-16T21:11:46.387010Z",
     "shell.execute_reply": "2021-03-16T21:11:46.387379Z"
    }
   },
   "outputs": [],
   "source": [
    "df = df.append(add, ignore_index=True)"
   ]
  },
  {
   "cell_type": "code",
   "execution_count": 13,
   "metadata": {
    "execution": {
     "iopub.execute_input": "2021-03-16T21:11:46.391573Z",
     "iopub.status.busy": "2021-03-16T21:11:46.390668Z",
     "iopub.status.idle": "2021-03-16T21:11:46.392515Z",
     "shell.execute_reply": "2021-03-16T21:11:46.392899Z"
    }
   },
   "outputs": [],
   "source": [
    "df = df.sort_values(by='location')"
   ]
  },
  {
   "cell_type": "code",
   "execution_count": 14,
   "metadata": {
    "execution": {
     "iopub.execute_input": "2021-03-16T21:11:46.398458Z",
     "iopub.status.busy": "2021-03-16T21:11:46.397651Z",
     "iopub.status.idle": "2021-03-16T21:11:46.399372Z",
     "shell.execute_reply": "2021-03-16T21:11:46.399743Z"
    }
   },
   "outputs": [],
   "source": [
    "df = df[df.location == 'California'].append(df[df.location != 'California']).reset_index(drop=True)"
   ]
  },
  {
   "cell_type": "code",
   "execution_count": null,
   "metadata": {},
   "outputs": [],
   "source": []
  },
  {
   "cell_type": "code",
   "execution_count": 15,
   "metadata": {
    "execution": {
     "iopub.execute_input": "2021-03-16T21:11:46.403826Z",
     "iopub.status.busy": "2021-03-16T21:11:46.402887Z",
     "iopub.status.idle": "2021-03-16T21:11:46.417132Z",
     "shell.execute_reply": "2021-03-16T21:11:46.417482Z"
    }
   },
   "outputs": [],
   "source": [
    "tz = pytz.timezone(\"America/New_York\")"
   ]
  },
  {
   "cell_type": "code",
   "execution_count": 16,
   "metadata": {
    "execution": {
     "iopub.execute_input": "2021-03-16T21:11:46.420948Z",
     "iopub.status.busy": "2021-03-16T21:11:46.420159Z",
     "iopub.status.idle": "2021-03-16T21:11:46.422179Z",
     "shell.execute_reply": "2021-03-16T21:11:46.421714Z"
    }
   },
   "outputs": [],
   "source": [
    "today = datetime.now(tz).date()"
   ]
  },
  {
   "cell_type": "code",
   "execution_count": 17,
   "metadata": {
    "execution": {
     "iopub.execute_input": "2021-03-16T21:11:46.425781Z",
     "iopub.status.busy": "2021-03-16T21:11:46.424986Z",
     "iopub.status.idle": "2021-03-16T21:11:46.426618Z",
     "shell.execute_reply": "2021-03-16T21:11:46.427001Z"
    }
   },
   "outputs": [],
   "source": [
    "data_dir = os.path.join(os.path.abspath(\"\"), \"data\")"
   ]
  },
  {
   "cell_type": "code",
   "execution_count": 18,
   "metadata": {
    "execution": {
     "iopub.execute_input": "2021-03-16T21:11:46.430778Z",
     "iopub.status.busy": "2021-03-16T21:11:46.429699Z",
     "iopub.status.idle": "2021-03-16T21:11:46.433986Z",
     "shell.execute_reply": "2021-03-16T21:11:46.433570Z"
    }
   },
   "outputs": [],
   "source": [
    "df.to_csv(os.path.join(data_dir, f\"{today}.csv\"), index=False)"
   ]
  },
  {
   "cell_type": "code",
   "execution_count": null,
   "metadata": {},
   "outputs": [],
   "source": []
  }
 ],
 "metadata": {
  "kernelspec": {
   "display_name": "Python 3",
   "language": "python",
   "name": "python3"
  },
  "language_info": {
   "codemirror_mode": {
    "name": "ipython",
    "version": 3
   },
   "file_extension": ".py",
   "mimetype": "text/x-python",
   "name": "python",
   "nbconvert_exporter": "python",
   "pygments_lexer": "ipython3",
   "version": "3.8.8"
  }
 },
 "nbformat": 4,
 "nbformat_minor": 4
}
