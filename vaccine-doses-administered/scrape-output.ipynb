{
 "cells": [
  {
   "cell_type": "markdown",
   "metadata": {},
   "source": [
    "# California COVID vaccinations scrape"
   ]
  },
  {
   "cell_type": "markdown",
   "metadata": {},
   "source": [
    "By [Amy O'Kruk](https://twitter.com/amyokruk)"
   ]
  },
  {
   "cell_type": "markdown",
   "metadata": {},
   "source": [
    "Downloads data on vaccine doses administered by county and statewide from a Tableau-powered dashboard from the California Department of Public Health."
   ]
  },
  {
   "cell_type": "code",
   "execution_count": 1,
   "metadata": {
    "execution": {
     "iopub.execute_input": "2021-03-21T09:44:10.105846Z",
     "iopub.status.busy": "2021-03-21T09:44:10.105251Z",
     "iopub.status.idle": "2021-03-21T09:44:10.591068Z",
     "shell.execute_reply": "2021-03-21T09:44:10.590104Z"
    }
   },
   "outputs": [],
   "source": [
    "import pandas as pd\n",
    "import requests\n",
    "from bs4 import BeautifulSoup\n",
    "import json\n",
    "import re\n",
    "import time\n",
    "from time import gmtime, strftime \n",
    "import os\n",
    "import pytz\n",
    "from datetime import datetime"
   ]
  },
  {
   "cell_type": "markdown",
   "metadata": {},
   "source": [
    "Scrape the dashboard page"
   ]
  },
  {
   "cell_type": "code",
   "execution_count": 2,
   "metadata": {
    "execution": {
     "iopub.execute_input": "2021-03-21T09:44:10.597977Z",
     "iopub.status.busy": "2021-03-21T09:44:10.597377Z",
     "iopub.status.idle": "2021-03-21T09:44:10.870651Z",
     "shell.execute_reply": "2021-03-21T09:44:10.869692Z"
    }
   },
   "outputs": [],
   "source": [
    "url = \"https://public.tableau.com/interactive/views/COVID-19VaccineDashboardPublic/Vaccine?:embed=y&:showVizHome=n&:apiID=host0\"\n",
    "\n",
    "r = requests.get(url)\n",
    "soup = BeautifulSoup(r.text, \"html.parser\")"
   ]
  },
  {
   "cell_type": "code",
   "execution_count": 3,
   "metadata": {
    "execution": {
     "iopub.execute_input": "2021-03-21T09:44:10.875597Z",
     "iopub.status.busy": "2021-03-21T09:44:10.875077Z",
     "iopub.status.idle": "2021-03-21T09:44:10.878612Z",
     "shell.execute_reply": "2021-03-21T09:44:10.878162Z"
    }
   },
   "outputs": [],
   "source": [
    "tableauData = json.loads(soup.find(\"textarea\",{\"id\": \"tsConfigContainer\"}).text)"
   ]
  },
  {
   "cell_type": "markdown",
   "metadata": {},
   "source": [
    "Get the link to the Tableau data"
   ]
  },
  {
   "cell_type": "code",
   "execution_count": 4,
   "metadata": {
    "execution": {
     "iopub.execute_input": "2021-03-21T09:44:10.882188Z",
     "iopub.status.busy": "2021-03-21T09:44:10.881684Z",
     "iopub.status.idle": "2021-03-21T09:44:10.884793Z",
     "shell.execute_reply": "2021-03-21T09:44:10.885188Z"
    }
   },
   "outputs": [],
   "source": [
    "dataUrl = f'https://public.tableau.com{tableauData[\"vizql_root\"]}/bootstrapSession/sessions/{tableauData[\"sessionid\"]}'"
   ]
  },
  {
   "cell_type": "code",
   "execution_count": 5,
   "metadata": {
    "execution": {
     "iopub.execute_input": "2021-03-21T09:44:10.892122Z",
     "iopub.status.busy": "2021-03-21T09:44:10.891554Z",
     "iopub.status.idle": "2021-03-21T09:44:11.294315Z",
     "shell.execute_reply": "2021-03-21T09:44:11.293713Z"
    }
   },
   "outputs": [],
   "source": [
    "r = requests.post(dataUrl, data= {\n",
    "    \"sheet_id\": tableauData[\"sheetId\"],\n",
    "})\n",
    "\n",
    "dataReg = re.search('\\d+;({.*})\\d+;({.*})', r.text, re.MULTILINE)\n",
    "data1 = json.loads(dataReg.group(2))\n",
    "\n",
    "dataJson = data1[\"secondaryInfo\"][\"presModelMap\"][\"dataDictionary\"][\"presModelHolder\"][\"genDataDictionaryPresModel\"][\"dataSegments\"][\"0\"][\"dataColumns\"]"
   ]
  },
  {
   "cell_type": "markdown",
   "metadata": {},
   "source": [
    "Isolate what you want"
   ]
  },
  {
   "cell_type": "code",
   "execution_count": 6,
   "metadata": {
    "execution": {
     "iopub.execute_input": "2021-03-21T09:44:11.299550Z",
     "iopub.status.busy": "2021-03-21T09:44:11.298042Z",
     "iopub.status.idle": "2021-03-21T09:44:11.300301Z",
     "shell.execute_reply": "2021-03-21T09:44:11.300829Z"
    }
   },
   "outputs": [],
   "source": [
    "counties = dataJson[2]['dataValues'][:58]"
   ]
  },
  {
   "cell_type": "code",
   "execution_count": 7,
   "metadata": {
    "execution": {
     "iopub.execute_input": "2021-03-21T09:44:11.310957Z",
     "iopub.status.busy": "2021-03-21T09:44:11.309039Z",
     "iopub.status.idle": "2021-03-21T09:44:11.311545Z",
     "shell.execute_reply": "2021-03-21T09:44:11.311997Z"
    }
   },
   "outputs": [],
   "source": [
    "doses = dataJson[0]['dataValues'][3:61]"
   ]
  },
  {
   "cell_type": "markdown",
   "metadata": {},
   "source": [
    "Data formatting"
   ]
  },
  {
   "cell_type": "code",
   "execution_count": 8,
   "metadata": {
    "execution": {
     "iopub.execute_input": "2021-03-21T09:44:11.316165Z",
     "iopub.status.busy": "2021-03-21T09:44:11.315011Z",
     "iopub.status.idle": "2021-03-21T09:44:11.316750Z",
     "shell.execute_reply": "2021-03-21T09:44:11.317166Z"
    }
   },
   "outputs": [],
   "source": [
    "zipped = dict(zip(counties, doses))"
   ]
  },
  {
   "cell_type": "code",
   "execution_count": 9,
   "metadata": {
    "execution": {
     "iopub.execute_input": "2021-03-21T09:44:11.322695Z",
     "iopub.status.busy": "2021-03-21T09:44:11.319102Z",
     "iopub.status.idle": "2021-03-21T09:44:11.326163Z",
     "shell.execute_reply": "2021-03-21T09:44:11.325528Z"
    }
   },
   "outputs": [],
   "source": [
    "df = pd.Series(zipped).reset_index()"
   ]
  },
  {
   "cell_type": "code",
   "execution_count": 10,
   "metadata": {
    "execution": {
     "iopub.execute_input": "2021-03-21T09:44:11.330624Z",
     "iopub.status.busy": "2021-03-21T09:44:11.329466Z",
     "iopub.status.idle": "2021-03-21T09:44:11.331218Z",
     "shell.execute_reply": "2021-03-21T09:44:11.331639Z"
    }
   },
   "outputs": [],
   "source": [
    "df.columns = ['location','doses']"
   ]
  },
  {
   "cell_type": "markdown",
   "metadata": {},
   "source": [
    "Grab the overall California total"
   ]
  },
  {
   "cell_type": "code",
   "execution_count": 11,
   "metadata": {
    "execution": {
     "iopub.execute_input": "2021-03-21T09:44:11.335973Z",
     "iopub.status.busy": "2021-03-21T09:44:11.334768Z",
     "iopub.status.idle": "2021-03-21T09:44:11.336686Z",
     "shell.execute_reply": "2021-03-21T09:44:11.337122Z"
    }
   },
   "outputs": [],
   "source": [
    "add = {'location':'California','doses':dataJson[0]['dataValues'][2]}"
   ]
  },
  {
   "cell_type": "code",
   "execution_count": 12,
   "metadata": {
    "execution": {
     "iopub.execute_input": "2021-03-21T09:44:11.344304Z",
     "iopub.status.busy": "2021-03-21T09:44:11.343085Z",
     "iopub.status.idle": "2021-03-21T09:44:11.344896Z",
     "shell.execute_reply": "2021-03-21T09:44:11.345318Z"
    }
   },
   "outputs": [],
   "source": [
    "df = df.append(add, ignore_index=True)"
   ]
  },
  {
   "cell_type": "code",
   "execution_count": 13,
   "metadata": {
    "execution": {
     "iopub.execute_input": "2021-03-21T09:44:11.350259Z",
     "iopub.status.busy": "2021-03-21T09:44:11.349149Z",
     "iopub.status.idle": "2021-03-21T09:44:11.350854Z",
     "shell.execute_reply": "2021-03-21T09:44:11.351277Z"
    }
   },
   "outputs": [],
   "source": [
    "df = df.sort_values(by='location')"
   ]
  },
  {
   "cell_type": "code",
   "execution_count": 14,
   "metadata": {
    "execution": {
     "iopub.execute_input": "2021-03-21T09:44:11.357699Z",
     "iopub.status.busy": "2021-03-21T09:44:11.356529Z",
     "iopub.status.idle": "2021-03-21T09:44:11.358288Z",
     "shell.execute_reply": "2021-03-21T09:44:11.358715Z"
    }
   },
   "outputs": [],
   "source": [
    "df = df[df.location == 'California'].append(df[df.location != 'California']).reset_index(drop=True)"
   ]
  },
  {
   "cell_type": "code",
   "execution_count": null,
   "metadata": {},
   "outputs": [],
   "source": []
  },
  {
   "cell_type": "code",
   "execution_count": 15,
   "metadata": {
    "execution": {
     "iopub.execute_input": "2021-03-21T09:44:11.362155Z",
     "iopub.status.busy": "2021-03-21T09:44:11.361654Z",
     "iopub.status.idle": "2021-03-21T09:44:11.379857Z",
     "shell.execute_reply": "2021-03-21T09:44:11.379340Z"
    }
   },
   "outputs": [],
   "source": [
    "tz = pytz.timezone(\"America/New_York\")"
   ]
  },
  {
   "cell_type": "code",
   "execution_count": 16,
   "metadata": {
    "execution": {
     "iopub.execute_input": "2021-03-21T09:44:11.384260Z",
     "iopub.status.busy": "2021-03-21T09:44:11.382966Z",
     "iopub.status.idle": "2021-03-21T09:44:11.384847Z",
     "shell.execute_reply": "2021-03-21T09:44:11.385269Z"
    }
   },
   "outputs": [],
   "source": [
    "today = datetime.now(tz).date()"
   ]
  },
  {
   "cell_type": "code",
   "execution_count": 17,
   "metadata": {
    "execution": {
     "iopub.execute_input": "2021-03-21T09:44:11.389471Z",
     "iopub.status.busy": "2021-03-21T09:44:11.388369Z",
     "iopub.status.idle": "2021-03-21T09:44:11.390069Z",
     "shell.execute_reply": "2021-03-21T09:44:11.390490Z"
    }
   },
   "outputs": [],
   "source": [
    "data_dir = os.path.join(os.path.abspath(\"\"), \"data\")"
   ]
  },
  {
   "cell_type": "code",
   "execution_count": 18,
   "metadata": {
    "execution": {
     "iopub.execute_input": "2021-03-21T09:44:11.394830Z",
     "iopub.status.busy": "2021-03-21T09:44:11.393690Z",
     "iopub.status.idle": "2021-03-21T09:44:11.985026Z",
     "shell.execute_reply": "2021-03-21T09:44:11.985450Z"
    }
   },
   "outputs": [],
   "source": [
    "df.to_csv(os.path.join(data_dir, f\"{today}.csv\"), index=False)"
   ]
  },
  {
   "cell_type": "code",
   "execution_count": null,
   "metadata": {},
   "outputs": [],
   "source": []
  }
 ],
 "metadata": {
  "kernelspec": {
   "display_name": "Python 3",
   "language": "python",
   "name": "python3"
  },
  "language_info": {
   "codemirror_mode": {
    "name": "ipython",
    "version": 3
   },
   "file_extension": ".py",
   "mimetype": "text/x-python",
   "name": "python",
   "nbconvert_exporter": "python",
   "pygments_lexer": "ipython3",
   "version": "3.8.8"
  }
 },
 "nbformat": 4,
 "nbformat_minor": 4
}
