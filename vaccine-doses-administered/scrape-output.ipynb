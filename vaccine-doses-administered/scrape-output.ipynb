{
 "cells": [
  {
   "cell_type": "markdown",
   "metadata": {},
   "source": [
    "# California COVID vaccinations scrape"
   ]
  },
  {
   "cell_type": "markdown",
   "metadata": {},
   "source": [
    "By [Amy O'Kruk](https://twitter.com/amyokruk)"
   ]
  },
  {
   "cell_type": "markdown",
   "metadata": {},
   "source": [
    "Downloads data on vaccine doses administered by county and statewide from a Tableau-powered dashboard from the California Department of Public Health."
   ]
  },
  {
   "cell_type": "code",
   "execution_count": 1,
   "metadata": {
    "execution": {
     "iopub.execute_input": "2021-03-21T23:44:28.243719Z",
     "iopub.status.busy": "2021-03-21T23:44:28.242901Z",
     "iopub.status.idle": "2021-03-21T23:44:28.717281Z",
     "shell.execute_reply": "2021-03-21T23:44:28.716643Z"
    }
   },
   "outputs": [],
   "source": [
    "import pandas as pd\n",
    "import requests\n",
    "from bs4 import BeautifulSoup\n",
    "import json\n",
    "import re\n",
    "import time\n",
    "from time import gmtime, strftime \n",
    "import os\n",
    "import pytz\n",
    "from datetime import datetime"
   ]
  },
  {
   "cell_type": "markdown",
   "metadata": {},
   "source": [
    "Scrape the dashboard page"
   ]
  },
  {
   "cell_type": "code",
   "execution_count": 2,
   "metadata": {
    "execution": {
     "iopub.execute_input": "2021-03-21T23:44:28.723384Z",
     "iopub.status.busy": "2021-03-21T23:44:28.720747Z",
     "iopub.status.idle": "2021-03-21T23:44:29.012963Z",
     "shell.execute_reply": "2021-03-21T23:44:29.011790Z"
    }
   },
   "outputs": [],
   "source": [
    "url = \"https://public.tableau.com/interactive/views/COVID-19VaccineDashboardPublic/Vaccine?:embed=y&:showVizHome=n&:apiID=host0\"\n",
    "\n",
    "r = requests.get(url)\n",
    "soup = BeautifulSoup(r.text, \"html.parser\")"
   ]
  },
  {
   "cell_type": "code",
   "execution_count": 3,
   "metadata": {
    "execution": {
     "iopub.execute_input": "2021-03-21T23:44:29.017826Z",
     "iopub.status.busy": "2021-03-21T23:44:29.017315Z",
     "iopub.status.idle": "2021-03-21T23:44:29.020891Z",
     "shell.execute_reply": "2021-03-21T23:44:29.021320Z"
    }
   },
   "outputs": [],
   "source": [
    "tableauData = json.loads(soup.find(\"textarea\",{\"id\": \"tsConfigContainer\"}).text)"
   ]
  },
  {
   "cell_type": "markdown",
   "metadata": {},
   "source": [
    "Get the link to the Tableau data"
   ]
  },
  {
   "cell_type": "code",
   "execution_count": 4,
   "metadata": {
    "execution": {
     "iopub.execute_input": "2021-03-21T23:44:29.025965Z",
     "iopub.status.busy": "2021-03-21T23:44:29.025276Z",
     "iopub.status.idle": "2021-03-21T23:44:29.029367Z",
     "shell.execute_reply": "2021-03-21T23:44:29.028856Z"
    }
   },
   "outputs": [],
   "source": [
    "dataUrl = f'https://public.tableau.com{tableauData[\"vizql_root\"]}/bootstrapSession/sessions/{tableauData[\"sessionid\"]}'"
   ]
  },
  {
   "cell_type": "code",
   "execution_count": 5,
   "metadata": {
    "execution": {
     "iopub.execute_input": "2021-03-21T23:44:29.036940Z",
     "iopub.status.busy": "2021-03-21T23:44:29.036344Z",
     "iopub.status.idle": "2021-03-21T23:44:29.196606Z",
     "shell.execute_reply": "2021-03-21T23:44:29.195964Z"
    }
   },
   "outputs": [],
   "source": [
    "r = requests.post(dataUrl, data= {\n",
    "    \"sheet_id\": tableauData[\"sheetId\"],\n",
    "})\n",
    "\n",
    "dataReg = re.search('\\d+;({.*})\\d+;({.*})', r.text, re.MULTILINE)\n",
    "data1 = json.loads(dataReg.group(2))\n",
    "\n",
    "dataJson = data1[\"secondaryInfo\"][\"presModelMap\"][\"dataDictionary\"][\"presModelHolder\"][\"genDataDictionaryPresModel\"][\"dataSegments\"][\"0\"][\"dataColumns\"]"
   ]
  },
  {
   "cell_type": "markdown",
   "metadata": {},
   "source": [
    "Isolate what you want"
   ]
  },
  {
   "cell_type": "code",
   "execution_count": 6,
   "metadata": {
    "execution": {
     "iopub.execute_input": "2021-03-21T23:44:29.201204Z",
     "iopub.status.busy": "2021-03-21T23:44:29.200686Z",
     "iopub.status.idle": "2021-03-21T23:44:29.203886Z",
     "shell.execute_reply": "2021-03-21T23:44:29.204352Z"
    }
   },
   "outputs": [],
   "source": [
    "counties = dataJson[2]['dataValues'][:58]"
   ]
  },
  {
   "cell_type": "code",
   "execution_count": 7,
   "metadata": {
    "execution": {
     "iopub.execute_input": "2021-03-21T23:44:29.208311Z",
     "iopub.status.busy": "2021-03-21T23:44:29.207808Z",
     "iopub.status.idle": "2021-03-21T23:44:29.211826Z",
     "shell.execute_reply": "2021-03-21T23:44:29.211283Z"
    }
   },
   "outputs": [],
   "source": [
    "doses = dataJson[0]['dataValues'][3:61]"
   ]
  },
  {
   "cell_type": "markdown",
   "metadata": {},
   "source": [
    "Data formatting"
   ]
  },
  {
   "cell_type": "code",
   "execution_count": 8,
   "metadata": {
    "execution": {
     "iopub.execute_input": "2021-03-21T23:44:29.216106Z",
     "iopub.status.busy": "2021-03-21T23:44:29.215522Z",
     "iopub.status.idle": "2021-03-21T23:44:29.219021Z",
     "shell.execute_reply": "2021-03-21T23:44:29.219492Z"
    }
   },
   "outputs": [],
   "source": [
    "zipped = dict(zip(counties, doses))"
   ]
  },
  {
   "cell_type": "code",
   "execution_count": 9,
   "metadata": {
    "execution": {
     "iopub.execute_input": "2021-03-21T23:44:29.226416Z",
     "iopub.status.busy": "2021-03-21T23:44:29.225704Z",
     "iopub.status.idle": "2021-03-21T23:44:29.230179Z",
     "shell.execute_reply": "2021-03-21T23:44:29.229593Z"
    }
   },
   "outputs": [],
   "source": [
    "df = pd.Series(zipped).reset_index()"
   ]
  },
  {
   "cell_type": "code",
   "execution_count": 10,
   "metadata": {
    "execution": {
     "iopub.execute_input": "2021-03-21T23:44:29.234245Z",
     "iopub.status.busy": "2021-03-21T23:44:29.233656Z",
     "iopub.status.idle": "2021-03-21T23:44:29.237424Z",
     "shell.execute_reply": "2021-03-21T23:44:29.236945Z"
    }
   },
   "outputs": [],
   "source": [
    "df.columns = ['location','doses']"
   ]
  },
  {
   "cell_type": "markdown",
   "metadata": {},
   "source": [
    "Grab the overall California total"
   ]
  },
  {
   "cell_type": "code",
   "execution_count": 11,
   "metadata": {
    "execution": {
     "iopub.execute_input": "2021-03-21T23:44:29.241538Z",
     "iopub.status.busy": "2021-03-21T23:44:29.240924Z",
     "iopub.status.idle": "2021-03-21T23:44:29.245110Z",
     "shell.execute_reply": "2021-03-21T23:44:29.244440Z"
    }
   },
   "outputs": [],
   "source": [
    "add = {'location':'California','doses':dataJson[0]['dataValues'][2]}"
   ]
  },
  {
   "cell_type": "code",
   "execution_count": 12,
   "metadata": {
    "execution": {
     "iopub.execute_input": "2021-03-21T23:44:29.252485Z",
     "iopub.status.busy": "2021-03-21T23:44:29.251952Z",
     "iopub.status.idle": "2021-03-21T23:44:29.255857Z",
     "shell.execute_reply": "2021-03-21T23:44:29.255088Z"
    }
   },
   "outputs": [],
   "source": [
    "df = df.append(add, ignore_index=True)"
   ]
  },
  {
   "cell_type": "code",
   "execution_count": 13,
   "metadata": {
    "execution": {
     "iopub.execute_input": "2021-03-21T23:44:29.260768Z",
     "iopub.status.busy": "2021-03-21T23:44:29.260237Z",
     "iopub.status.idle": "2021-03-21T23:44:29.264232Z",
     "shell.execute_reply": "2021-03-21T23:44:29.263518Z"
    }
   },
   "outputs": [],
   "source": [
    "df = df.sort_values(by='location')"
   ]
  },
  {
   "cell_type": "code",
   "execution_count": 14,
   "metadata": {
    "execution": {
     "iopub.execute_input": "2021-03-21T23:44:29.270555Z",
     "iopub.status.busy": "2021-03-21T23:44:29.270051Z",
     "iopub.status.idle": "2021-03-21T23:44:29.273603Z",
     "shell.execute_reply": "2021-03-21T23:44:29.273120Z"
    }
   },
   "outputs": [],
   "source": [
    "df = df[df.location == 'California'].append(df[df.location != 'California']).reset_index(drop=True)"
   ]
  },
  {
   "cell_type": "code",
   "execution_count": null,
   "metadata": {},
   "outputs": [],
   "source": []
  },
  {
   "cell_type": "code",
   "execution_count": 15,
   "metadata": {
    "execution": {
     "iopub.execute_input": "2021-03-21T23:44:29.277674Z",
     "iopub.status.busy": "2021-03-21T23:44:29.277107Z",
     "iopub.status.idle": "2021-03-21T23:44:29.298660Z",
     "shell.execute_reply": "2021-03-21T23:44:29.298140Z"
    }
   },
   "outputs": [],
   "source": [
    "tz = pytz.timezone(\"America/New_York\")"
   ]
  },
  {
   "cell_type": "code",
   "execution_count": 16,
   "metadata": {
    "execution": {
     "iopub.execute_input": "2021-03-21T23:44:29.302692Z",
     "iopub.status.busy": "2021-03-21T23:44:29.302134Z",
     "iopub.status.idle": "2021-03-21T23:44:29.305390Z",
     "shell.execute_reply": "2021-03-21T23:44:29.306005Z"
    }
   },
   "outputs": [],
   "source": [
    "today = datetime.now(tz).date()"
   ]
  },
  {
   "cell_type": "code",
   "execution_count": 17,
   "metadata": {
    "execution": {
     "iopub.execute_input": "2021-03-21T23:44:29.309847Z",
     "iopub.status.busy": "2021-03-21T23:44:29.309292Z",
     "iopub.status.idle": "2021-03-21T23:44:29.313041Z",
     "shell.execute_reply": "2021-03-21T23:44:29.312546Z"
    }
   },
   "outputs": [],
   "source": [
    "data_dir = os.path.join(os.path.abspath(\"\"), \"data\")"
   ]
  },
  {
   "cell_type": "code",
   "execution_count": 18,
   "metadata": {
    "execution": {
     "iopub.execute_input": "2021-03-21T23:44:29.316962Z",
     "iopub.status.busy": "2021-03-21T23:44:29.316293Z",
     "iopub.status.idle": "2021-03-21T23:44:29.322667Z",
     "shell.execute_reply": "2021-03-21T23:44:29.322195Z"
    }
   },
   "outputs": [],
   "source": [
    "df.to_csv(os.path.join(data_dir, f\"{today}.csv\"), index=False)"
   ]
  },
  {
   "cell_type": "code",
   "execution_count": null,
   "metadata": {},
   "outputs": [],
   "source": []
  }
 ],
 "metadata": {
  "kernelspec": {
   "display_name": "Python 3",
   "language": "python",
   "name": "python3"
  },
  "language_info": {
   "codemirror_mode": {
    "name": "ipython",
    "version": 3
   },
   "file_extension": ".py",
   "mimetype": "text/x-python",
   "name": "python",
   "nbconvert_exporter": "python",
   "pygments_lexer": "ipython3",
   "version": "3.8.8"
  }
 },
 "nbformat": 4,
 "nbformat_minor": 4
}
