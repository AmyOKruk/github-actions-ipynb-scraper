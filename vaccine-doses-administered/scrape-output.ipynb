{
 "cells": [
  {
   "cell_type": "markdown",
   "metadata": {},
   "source": [
    "# California COVID vaccinations scrape"
   ]
  },
  {
   "cell_type": "markdown",
   "metadata": {},
   "source": [
    "By [Amy O'Kruk](https://twitter.com/amyokruk)"
   ]
  },
  {
   "cell_type": "markdown",
   "metadata": {},
   "source": [
    "Downloads data on vaccine doses administered by county and statewide from a Tableau-powered dashboard from the California Department of Public Health."
   ]
  },
  {
   "cell_type": "code",
   "execution_count": 1,
   "metadata": {
    "execution": {
     "iopub.execute_input": "2021-03-18T16:20:43.887497Z",
     "iopub.status.busy": "2021-03-18T16:20:43.886842Z",
     "iopub.status.idle": "2021-03-18T16:20:44.493909Z",
     "shell.execute_reply": "2021-03-18T16:20:44.492952Z"
    }
   },
   "outputs": [],
   "source": [
    "import pandas as pd\n",
    "import requests\n",
    "from bs4 import BeautifulSoup\n",
    "import json\n",
    "import re\n",
    "import time\n",
    "from time import gmtime, strftime \n",
    "import os\n",
    "import pytz\n",
    "from datetime import datetime"
   ]
  },
  {
   "cell_type": "markdown",
   "metadata": {},
   "source": [
    "Scrape the dashboard page"
   ]
  },
  {
   "cell_type": "code",
   "execution_count": 2,
   "metadata": {
    "execution": {
     "iopub.execute_input": "2021-03-18T16:20:44.500671Z",
     "iopub.status.busy": "2021-03-18T16:20:44.497624Z",
     "iopub.status.idle": "2021-03-18T16:20:44.968629Z",
     "shell.execute_reply": "2021-03-18T16:20:44.968022Z"
    }
   },
   "outputs": [],
   "source": [
    "url = \"https://public.tableau.com/interactive/views/COVID-19VaccineDashboardPublic/Vaccine?:embed=y&:showVizHome=n&:apiID=host0\"\n",
    "\n",
    "r = requests.get(url)\n",
    "soup = BeautifulSoup(r.text, \"html.parser\")"
   ]
  },
  {
   "cell_type": "code",
   "execution_count": 3,
   "metadata": {
    "execution": {
     "iopub.execute_input": "2021-03-18T16:20:44.973669Z",
     "iopub.status.busy": "2021-03-18T16:20:44.973089Z",
     "iopub.status.idle": "2021-03-18T16:20:44.976904Z",
     "shell.execute_reply": "2021-03-18T16:20:44.976407Z"
    }
   },
   "outputs": [],
   "source": [
    "tableauData = json.loads(soup.find(\"textarea\",{\"id\": \"tsConfigContainer\"}).text)"
   ]
  },
  {
   "cell_type": "markdown",
   "metadata": {},
   "source": [
    "Get the link to the Tableau data"
   ]
  },
  {
   "cell_type": "code",
   "execution_count": 4,
   "metadata": {
    "execution": {
     "iopub.execute_input": "2021-03-18T16:20:44.980860Z",
     "iopub.status.busy": "2021-03-18T16:20:44.980259Z",
     "iopub.status.idle": "2021-03-18T16:20:44.984648Z",
     "shell.execute_reply": "2021-03-18T16:20:44.984045Z"
    }
   },
   "outputs": [],
   "source": [
    "dataUrl = f'https://public.tableau.com{tableauData[\"vizql_root\"]}/bootstrapSession/sessions/{tableauData[\"sessionid\"]}'"
   ]
  },
  {
   "cell_type": "code",
   "execution_count": 5,
   "metadata": {
    "execution": {
     "iopub.execute_input": "2021-03-18T16:20:44.991613Z",
     "iopub.status.busy": "2021-03-18T16:20:44.990974Z",
     "iopub.status.idle": "2021-03-18T16:20:45.150260Z",
     "shell.execute_reply": "2021-03-18T16:20:45.149767Z"
    }
   },
   "outputs": [],
   "source": [
    "r = requests.post(dataUrl, data= {\n",
    "    \"sheet_id\": tableauData[\"sheetId\"],\n",
    "})\n",
    "\n",
    "dataReg = re.search('\\d+;({.*})\\d+;({.*})', r.text, re.MULTILINE)\n",
    "data1 = json.loads(dataReg.group(2))\n",
    "\n",
    "dataJson = data1[\"secondaryInfo\"][\"presModelMap\"][\"dataDictionary\"][\"presModelHolder\"][\"genDataDictionaryPresModel\"][\"dataSegments\"][\"0\"][\"dataColumns\"]"
   ]
  },
  {
   "cell_type": "markdown",
   "metadata": {},
   "source": [
    "Isolate what you want"
   ]
  },
  {
   "cell_type": "code",
   "execution_count": 6,
   "metadata": {
    "execution": {
     "iopub.execute_input": "2021-03-18T16:20:45.155421Z",
     "iopub.status.busy": "2021-03-18T16:20:45.153824Z",
     "iopub.status.idle": "2021-03-18T16:20:45.156146Z",
     "shell.execute_reply": "2021-03-18T16:20:45.156625Z"
    }
   },
   "outputs": [],
   "source": [
    "counties = dataJson[2]['dataValues'][:58]"
   ]
  },
  {
   "cell_type": "code",
   "execution_count": 7,
   "metadata": {
    "execution": {
     "iopub.execute_input": "2021-03-18T16:20:45.161111Z",
     "iopub.status.busy": "2021-03-18T16:20:45.159773Z",
     "iopub.status.idle": "2021-03-18T16:20:45.161708Z",
     "shell.execute_reply": "2021-03-18T16:20:45.162143Z"
    }
   },
   "outputs": [],
   "source": [
    "doses = dataJson[0]['dataValues'][3:61]"
   ]
  },
  {
   "cell_type": "markdown",
   "metadata": {},
   "source": [
    "Data formatting"
   ]
  },
  {
   "cell_type": "code",
   "execution_count": 8,
   "metadata": {
    "execution": {
     "iopub.execute_input": "2021-03-18T16:20:45.166841Z",
     "iopub.status.busy": "2021-03-18T16:20:45.165507Z",
     "iopub.status.idle": "2021-03-18T16:20:45.167500Z",
     "shell.execute_reply": "2021-03-18T16:20:45.168045Z"
    }
   },
   "outputs": [],
   "source": [
    "zipped = dict(zip(counties, doses))"
   ]
  },
  {
   "cell_type": "code",
   "execution_count": 9,
   "metadata": {
    "execution": {
     "iopub.execute_input": "2021-03-18T16:20:45.175977Z",
     "iopub.status.busy": "2021-03-18T16:20:45.174489Z",
     "iopub.status.idle": "2021-03-18T16:20:45.176742Z",
     "shell.execute_reply": "2021-03-18T16:20:45.177203Z"
    }
   },
   "outputs": [],
   "source": [
    "df = pd.Series(zipped).reset_index()"
   ]
  },
  {
   "cell_type": "code",
   "execution_count": 10,
   "metadata": {
    "execution": {
     "iopub.execute_input": "2021-03-18T16:20:45.182008Z",
     "iopub.status.busy": "2021-03-18T16:20:45.180666Z",
     "iopub.status.idle": "2021-03-18T16:20:45.182683Z",
     "shell.execute_reply": "2021-03-18T16:20:45.183129Z"
    }
   },
   "outputs": [],
   "source": [
    "df.columns = ['location','doses']"
   ]
  },
  {
   "cell_type": "markdown",
   "metadata": {},
   "source": [
    "Grab the overall California total"
   ]
  },
  {
   "cell_type": "code",
   "execution_count": 11,
   "metadata": {
    "execution": {
     "iopub.execute_input": "2021-03-18T16:20:45.188165Z",
     "iopub.status.busy": "2021-03-18T16:20:45.186943Z",
     "iopub.status.idle": "2021-03-18T16:20:45.188739Z",
     "shell.execute_reply": "2021-03-18T16:20:45.189170Z"
    }
   },
   "outputs": [],
   "source": [
    "add = {'location':'California','doses':dataJson[0]['dataValues'][2]}"
   ]
  },
  {
   "cell_type": "code",
   "execution_count": 12,
   "metadata": {
    "execution": {
     "iopub.execute_input": "2021-03-18T16:20:45.196944Z",
     "iopub.status.busy": "2021-03-18T16:20:45.195512Z",
     "iopub.status.idle": "2021-03-18T16:20:45.197532Z",
     "shell.execute_reply": "2021-03-18T16:20:45.197978Z"
    }
   },
   "outputs": [],
   "source": [
    "df = df.append(add, ignore_index=True)"
   ]
  },
  {
   "cell_type": "code",
   "execution_count": 13,
   "metadata": {
    "execution": {
     "iopub.execute_input": "2021-03-18T16:20:45.203344Z",
     "iopub.status.busy": "2021-03-18T16:20:45.202169Z",
     "iopub.status.idle": "2021-03-18T16:20:45.204004Z",
     "shell.execute_reply": "2021-03-18T16:20:45.204427Z"
    }
   },
   "outputs": [],
   "source": [
    "df = df.sort_values(by='location')"
   ]
  },
  {
   "cell_type": "code",
   "execution_count": 14,
   "metadata": {
    "execution": {
     "iopub.execute_input": "2021-03-18T16:20:45.210502Z",
     "iopub.status.busy": "2021-03-18T16:20:45.209423Z",
     "iopub.status.idle": "2021-03-18T16:20:45.211157Z",
     "shell.execute_reply": "2021-03-18T16:20:45.211618Z"
    }
   },
   "outputs": [],
   "source": [
    "df = df[df.location == 'California'].append(df[df.location != 'California']).reset_index(drop=True)"
   ]
  },
  {
   "cell_type": "code",
   "execution_count": null,
   "metadata": {},
   "outputs": [],
   "source": []
  },
  {
   "cell_type": "code",
   "execution_count": 15,
   "metadata": {
    "execution": {
     "iopub.execute_input": "2021-03-18T16:20:45.215003Z",
     "iopub.status.busy": "2021-03-18T16:20:45.214436Z",
     "iopub.status.idle": "2021-03-18T16:20:45.234634Z",
     "shell.execute_reply": "2021-03-18T16:20:45.235133Z"
    }
   },
   "outputs": [],
   "source": [
    "tz = pytz.timezone(\"America/New_York\")"
   ]
  },
  {
   "cell_type": "code",
   "execution_count": 16,
   "metadata": {
    "execution": {
     "iopub.execute_input": "2021-03-18T16:20:45.239969Z",
     "iopub.status.busy": "2021-03-18T16:20:45.238565Z",
     "iopub.status.idle": "2021-03-18T16:20:45.240674Z",
     "shell.execute_reply": "2021-03-18T16:20:45.241170Z"
    }
   },
   "outputs": [],
   "source": [
    "today = datetime.now(tz).date()"
   ]
  },
  {
   "cell_type": "code",
   "execution_count": 17,
   "metadata": {
    "execution": {
     "iopub.execute_input": "2021-03-18T16:20:45.245843Z",
     "iopub.status.busy": "2021-03-18T16:20:45.244476Z",
     "iopub.status.idle": "2021-03-18T16:20:45.246453Z",
     "shell.execute_reply": "2021-03-18T16:20:45.246906Z"
    }
   },
   "outputs": [],
   "source": [
    "data_dir = os.path.join(os.path.abspath(\"\"), \"data\")"
   ]
  },
  {
   "cell_type": "code",
   "execution_count": 18,
   "metadata": {
    "execution": {
     "iopub.execute_input": "2021-03-18T16:20:45.251155Z",
     "iopub.status.busy": "2021-03-18T16:20:45.250078Z",
     "iopub.status.idle": "2021-03-18T16:20:45.254460Z",
     "shell.execute_reply": "2021-03-18T16:20:45.254864Z"
    }
   },
   "outputs": [],
   "source": [
    "df.to_csv(os.path.join(data_dir, f\"{today}.csv\"), index=False)"
   ]
  },
  {
   "cell_type": "code",
   "execution_count": null,
   "metadata": {},
   "outputs": [],
   "source": []
  }
 ],
 "metadata": {
  "kernelspec": {
   "display_name": "Python 3",
   "language": "python",
   "name": "python3"
  },
  "language_info": {
   "codemirror_mode": {
    "name": "ipython",
    "version": 3
   },
   "file_extension": ".py",
   "mimetype": "text/x-python",
   "name": "python",
   "nbconvert_exporter": "python",
   "pygments_lexer": "ipython3",
   "version": "3.8.8"
  }
 },
 "nbformat": 4,
 "nbformat_minor": 4
}
