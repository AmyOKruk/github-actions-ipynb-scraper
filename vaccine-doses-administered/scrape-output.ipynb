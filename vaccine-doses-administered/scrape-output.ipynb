{
 "cells": [
  {
   "cell_type": "markdown",
   "metadata": {},
   "source": [
    "# California COVID vaccinations scrape"
   ]
  },
  {
   "cell_type": "markdown",
   "metadata": {},
   "source": [
    "By [Amy O'Kruk](https://twitter.com/amyokruk)"
   ]
  },
  {
   "cell_type": "markdown",
   "metadata": {},
   "source": [
    "Downloads data on vaccine doses administered by county and statewide from a Tableau-powered dashboard from the California Department of Public Health."
   ]
  },
  {
   "cell_type": "code",
   "execution_count": 1,
   "metadata": {
    "execution": {
     "iopub.execute_input": "2021-03-17T17:55:59.424582Z",
     "iopub.status.busy": "2021-03-17T17:55:59.423901Z",
     "iopub.status.idle": "2021-03-17T17:56:00.041806Z",
     "shell.execute_reply": "2021-03-17T17:56:00.041158Z"
    }
   },
   "outputs": [],
   "source": [
    "import pandas as pd\n",
    "import requests\n",
    "from bs4 import BeautifulSoup\n",
    "import json\n",
    "import re\n",
    "import time\n",
    "from time import gmtime, strftime \n",
    "import os\n",
    "import pytz\n",
    "from datetime import datetime"
   ]
  },
  {
   "cell_type": "markdown",
   "metadata": {},
   "source": [
    "Scrape the dashboard page"
   ]
  },
  {
   "cell_type": "code",
   "execution_count": 2,
   "metadata": {
    "execution": {
     "iopub.execute_input": "2021-03-17T17:56:00.049319Z",
     "iopub.status.busy": "2021-03-17T17:56:00.048609Z",
     "iopub.status.idle": "2021-03-17T17:56:00.390447Z",
     "shell.execute_reply": "2021-03-17T17:56:00.389888Z"
    }
   },
   "outputs": [],
   "source": [
    "url = \"https://public.tableau.com/interactive/views/COVID-19VaccineDashboardPublic/Vaccine?:embed=y&:showVizHome=n&:apiID=host0\"\n",
    "\n",
    "r = requests.get(url)\n",
    "soup = BeautifulSoup(r.text, \"html.parser\")"
   ]
  },
  {
   "cell_type": "code",
   "execution_count": 3,
   "metadata": {
    "execution": {
     "iopub.execute_input": "2021-03-17T17:56:00.395832Z",
     "iopub.status.busy": "2021-03-17T17:56:00.395092Z",
     "iopub.status.idle": "2021-03-17T17:56:00.399401Z",
     "shell.execute_reply": "2021-03-17T17:56:00.398726Z"
    }
   },
   "outputs": [],
   "source": [
    "tableauData = json.loads(soup.find(\"textarea\",{\"id\": \"tsConfigContainer\"}).text)"
   ]
  },
  {
   "cell_type": "markdown",
   "metadata": {},
   "source": [
    "Get the link to the Tableau data"
   ]
  },
  {
   "cell_type": "code",
   "execution_count": 4,
   "metadata": {
    "execution": {
     "iopub.execute_input": "2021-03-17T17:56:00.403982Z",
     "iopub.status.busy": "2021-03-17T17:56:00.402822Z",
     "iopub.status.idle": "2021-03-17T17:56:00.405598Z",
     "shell.execute_reply": "2021-03-17T17:56:00.405081Z"
    }
   },
   "outputs": [],
   "source": [
    "dataUrl = f'https://public.tableau.com{tableauData[\"vizql_root\"]}/bootstrapSession/sessions/{tableauData[\"sessionid\"]}'"
   ]
  },
  {
   "cell_type": "code",
   "execution_count": 5,
   "metadata": {
    "execution": {
     "iopub.execute_input": "2021-03-17T17:56:00.412815Z",
     "iopub.status.busy": "2021-03-17T17:56:00.412149Z",
     "iopub.status.idle": "2021-03-17T17:56:00.877682Z",
     "shell.execute_reply": "2021-03-17T17:56:00.877094Z"
    }
   },
   "outputs": [],
   "source": [
    "r = requests.post(dataUrl, data= {\n",
    "    \"sheet_id\": tableauData[\"sheetId\"],\n",
    "})\n",
    "\n",
    "dataReg = re.search('\\d+;({.*})\\d+;({.*})', r.text, re.MULTILINE)\n",
    "data1 = json.loads(dataReg.group(2))\n",
    "\n",
    "dataJson = data1[\"secondaryInfo\"][\"presModelMap\"][\"dataDictionary\"][\"presModelHolder\"][\"genDataDictionaryPresModel\"][\"dataSegments\"][\"0\"][\"dataColumns\"]"
   ]
  },
  {
   "cell_type": "markdown",
   "metadata": {},
   "source": [
    "Isolate what you want"
   ]
  },
  {
   "cell_type": "code",
   "execution_count": 6,
   "metadata": {
    "execution": {
     "iopub.execute_input": "2021-03-17T17:56:00.882065Z",
     "iopub.status.busy": "2021-03-17T17:56:00.881415Z",
     "iopub.status.idle": "2021-03-17T17:56:00.885503Z",
     "shell.execute_reply": "2021-03-17T17:56:00.884897Z"
    }
   },
   "outputs": [],
   "source": [
    "counties = dataJson[2]['dataValues'][:58]"
   ]
  },
  {
   "cell_type": "code",
   "execution_count": 7,
   "metadata": {
    "execution": {
     "iopub.execute_input": "2021-03-17T17:56:00.889480Z",
     "iopub.status.busy": "2021-03-17T17:56:00.888916Z",
     "iopub.status.idle": "2021-03-17T17:56:00.892798Z",
     "shell.execute_reply": "2021-03-17T17:56:00.892260Z"
    }
   },
   "outputs": [],
   "source": [
    "doses = dataJson[0]['dataValues'][3:61]"
   ]
  },
  {
   "cell_type": "markdown",
   "metadata": {},
   "source": [
    "Data formatting"
   ]
  },
  {
   "cell_type": "code",
   "execution_count": 8,
   "metadata": {
    "execution": {
     "iopub.execute_input": "2021-03-17T17:56:00.896750Z",
     "iopub.status.busy": "2021-03-17T17:56:00.895878Z",
     "iopub.status.idle": "2021-03-17T17:56:00.899790Z",
     "shell.execute_reply": "2021-03-17T17:56:00.900291Z"
    }
   },
   "outputs": [],
   "source": [
    "zipped = dict(zip(counties, doses))"
   ]
  },
  {
   "cell_type": "code",
   "execution_count": 9,
   "metadata": {
    "execution": {
     "iopub.execute_input": "2021-03-17T17:56:00.906886Z",
     "iopub.status.busy": "2021-03-17T17:56:00.906265Z",
     "iopub.status.idle": "2021-03-17T17:56:00.909784Z",
     "shell.execute_reply": "2021-03-17T17:56:00.910251Z"
    }
   },
   "outputs": [],
   "source": [
    "df = pd.Series(zipped).reset_index()"
   ]
  },
  {
   "cell_type": "code",
   "execution_count": 10,
   "metadata": {
    "execution": {
     "iopub.execute_input": "2021-03-17T17:56:00.914402Z",
     "iopub.status.busy": "2021-03-17T17:56:00.913814Z",
     "iopub.status.idle": "2021-03-17T17:56:00.917357Z",
     "shell.execute_reply": "2021-03-17T17:56:00.917847Z"
    }
   },
   "outputs": [],
   "source": [
    "df.columns = ['location','doses']"
   ]
  },
  {
   "cell_type": "markdown",
   "metadata": {},
   "source": [
    "Grab the overall California total"
   ]
  },
  {
   "cell_type": "code",
   "execution_count": 11,
   "metadata": {
    "execution": {
     "iopub.execute_input": "2021-03-17T17:56:00.922738Z",
     "iopub.status.busy": "2021-03-17T17:56:00.922167Z",
     "iopub.status.idle": "2021-03-17T17:56:00.926217Z",
     "shell.execute_reply": "2021-03-17T17:56:00.925681Z"
    }
   },
   "outputs": [],
   "source": [
    "add = {'location':'California','doses':dataJson[0]['dataValues'][2]}"
   ]
  },
  {
   "cell_type": "code",
   "execution_count": 12,
   "metadata": {
    "execution": {
     "iopub.execute_input": "2021-03-17T17:56:00.933338Z",
     "iopub.status.busy": "2021-03-17T17:56:00.932751Z",
     "iopub.status.idle": "2021-03-17T17:56:00.936565Z",
     "shell.execute_reply": "2021-03-17T17:56:00.937037Z"
    }
   },
   "outputs": [],
   "source": [
    "df = df.append(add, ignore_index=True)"
   ]
  },
  {
   "cell_type": "code",
   "execution_count": 13,
   "metadata": {
    "execution": {
     "iopub.execute_input": "2021-03-17T17:56:00.942098Z",
     "iopub.status.busy": "2021-03-17T17:56:00.941456Z",
     "iopub.status.idle": "2021-03-17T17:56:00.945569Z",
     "shell.execute_reply": "2021-03-17T17:56:00.944748Z"
    }
   },
   "outputs": [],
   "source": [
    "df = df.sort_values(by='location')"
   ]
  },
  {
   "cell_type": "code",
   "execution_count": 14,
   "metadata": {
    "execution": {
     "iopub.execute_input": "2021-03-17T17:56:00.952364Z",
     "iopub.status.busy": "2021-03-17T17:56:00.951777Z",
     "iopub.status.idle": "2021-03-17T17:56:00.955861Z",
     "shell.execute_reply": "2021-03-17T17:56:00.955062Z"
    }
   },
   "outputs": [],
   "source": [
    "df = df[df.location == 'California'].append(df[df.location != 'California']).reset_index(drop=True)"
   ]
  },
  {
   "cell_type": "code",
   "execution_count": null,
   "metadata": {},
   "outputs": [],
   "source": []
  },
  {
   "cell_type": "code",
   "execution_count": 15,
   "metadata": {
    "execution": {
     "iopub.execute_input": "2021-03-17T17:56:00.959735Z",
     "iopub.status.busy": "2021-03-17T17:56:00.959146Z",
     "iopub.status.idle": "2021-03-17T17:56:00.981108Z",
     "shell.execute_reply": "2021-03-17T17:56:00.979925Z"
    }
   },
   "outputs": [],
   "source": [
    "tz = pytz.timezone(\"America/New_York\")"
   ]
  },
  {
   "cell_type": "code",
   "execution_count": 16,
   "metadata": {
    "execution": {
     "iopub.execute_input": "2021-03-17T17:56:00.986076Z",
     "iopub.status.busy": "2021-03-17T17:56:00.985448Z",
     "iopub.status.idle": "2021-03-17T17:56:00.989313Z",
     "shell.execute_reply": "2021-03-17T17:56:00.988815Z"
    }
   },
   "outputs": [],
   "source": [
    "today = datetime.now(tz).date()"
   ]
  },
  {
   "cell_type": "code",
   "execution_count": 17,
   "metadata": {
    "execution": {
     "iopub.execute_input": "2021-03-17T17:56:00.993472Z",
     "iopub.status.busy": "2021-03-17T17:56:00.992876Z",
     "iopub.status.idle": "2021-03-17T17:56:00.996398Z",
     "shell.execute_reply": "2021-03-17T17:56:00.996905Z"
    }
   },
   "outputs": [],
   "source": [
    "data_dir = os.path.join(os.path.abspath(\"\"), \"data\")"
   ]
  },
  {
   "cell_type": "code",
   "execution_count": 18,
   "metadata": {
    "execution": {
     "iopub.execute_input": "2021-03-17T17:56:01.002982Z",
     "iopub.status.busy": "2021-03-17T17:56:01.001048Z",
     "iopub.status.idle": "2021-03-17T17:56:01.007930Z",
     "shell.execute_reply": "2021-03-17T17:56:01.006857Z"
    }
   },
   "outputs": [],
   "source": [
    "df.to_csv(os.path.join(data_dir, f\"{today}.csv\"), index=False)"
   ]
  },
  {
   "cell_type": "code",
   "execution_count": null,
   "metadata": {},
   "outputs": [],
   "source": []
  }
 ],
 "metadata": {
  "kernelspec": {
   "display_name": "Python 3",
   "language": "python",
   "name": "python3"
  },
  "language_info": {
   "codemirror_mode": {
    "name": "ipython",
    "version": 3
   },
   "file_extension": ".py",
   "mimetype": "text/x-python",
   "name": "python",
   "nbconvert_exporter": "python",
   "pygments_lexer": "ipython3",
   "version": "3.8.8"
  }
 },
 "nbformat": 4,
 "nbformat_minor": 4
}
