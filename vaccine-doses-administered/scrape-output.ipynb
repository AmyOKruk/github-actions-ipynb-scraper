{
 "cells": [
  {
   "cell_type": "markdown",
   "metadata": {},
   "source": [
    "# California COVID vaccinations scrape"
   ]
  },
  {
   "cell_type": "markdown",
   "metadata": {},
   "source": [
    "By [Amy O'Kruk](https://twitter.com/amyokruk)"
   ]
  },
  {
   "cell_type": "markdown",
   "metadata": {},
   "source": [
    "Downloads data on vaccine doses administered by county and statewide from a Tableau-powered dashboard from the California Department of Public Health."
   ]
  },
  {
   "cell_type": "code",
   "execution_count": 1,
   "metadata": {
    "execution": {
     "iopub.execute_input": "2021-03-16T11:40:20.871478Z",
     "iopub.status.busy": "2021-03-16T11:40:20.870472Z",
     "iopub.status.idle": "2021-03-16T11:40:21.283315Z",
     "shell.execute_reply": "2021-03-16T11:40:21.282421Z"
    }
   },
   "outputs": [],
   "source": [
    "import pandas as pd\n",
    "import requests\n",
    "from bs4 import BeautifulSoup\n",
    "import json\n",
    "import re\n",
    "import time\n",
    "from time import gmtime, strftime \n",
    "import os\n",
    "import pytz\n",
    "from datetime import datetime"
   ]
  },
  {
   "cell_type": "markdown",
   "metadata": {},
   "source": [
    "Scrape the dashboard page"
   ]
  },
  {
   "cell_type": "code",
   "execution_count": 2,
   "metadata": {
    "execution": {
     "iopub.execute_input": "2021-03-16T11:40:21.289895Z",
     "iopub.status.busy": "2021-03-16T11:40:21.286783Z",
     "iopub.status.idle": "2021-03-16T11:40:34.575623Z",
     "shell.execute_reply": "2021-03-16T11:40:34.574617Z"
    }
   },
   "outputs": [],
   "source": [
    "url = \"https://public.tableau.com/interactive/views/COVID-19VaccineDashboardPublic/Vaccine?:embed=y&:showVizHome=n&:apiID=host0\"\n",
    "\n",
    "r = requests.get(url)\n",
    "soup = BeautifulSoup(r.text, \"html.parser\")"
   ]
  },
  {
   "cell_type": "code",
   "execution_count": 3,
   "metadata": {
    "execution": {
     "iopub.execute_input": "2021-03-16T11:40:34.580511Z",
     "iopub.status.busy": "2021-03-16T11:40:34.579870Z",
     "iopub.status.idle": "2021-03-16T11:40:34.583450Z",
     "shell.execute_reply": "2021-03-16T11:40:34.583870Z"
    }
   },
   "outputs": [],
   "source": [
    "tableauData = json.loads(soup.find(\"textarea\",{\"id\": \"tsConfigContainer\"}).text)"
   ]
  },
  {
   "cell_type": "markdown",
   "metadata": {},
   "source": [
    "Get the link to the Tableau data"
   ]
  },
  {
   "cell_type": "code",
   "execution_count": 4,
   "metadata": {
    "execution": {
     "iopub.execute_input": "2021-03-16T11:40:34.588916Z",
     "iopub.status.busy": "2021-03-16T11:40:34.587523Z",
     "iopub.status.idle": "2021-03-16T11:40:34.589799Z",
     "shell.execute_reply": "2021-03-16T11:40:34.590217Z"
    }
   },
   "outputs": [],
   "source": [
    "dataUrl = f'https://public.tableau.com{tableauData[\"vizql_root\"]}/bootstrapSession/sessions/{tableauData[\"sessionid\"]}'"
   ]
  },
  {
   "cell_type": "code",
   "execution_count": 5,
   "metadata": {
    "execution": {
     "iopub.execute_input": "2021-03-16T11:40:34.595754Z",
     "iopub.status.busy": "2021-03-16T11:40:34.594197Z",
     "iopub.status.idle": "2021-03-16T11:40:35.044801Z",
     "shell.execute_reply": "2021-03-16T11:40:35.044252Z"
    }
   },
   "outputs": [],
   "source": [
    "r = requests.post(dataUrl, data= {\n",
    "    \"sheet_id\": tableauData[\"sheetId\"],\n",
    "})\n",
    "\n",
    "dataReg = re.search('\\d+;({.*})\\d+;({.*})', r.text, re.MULTILINE)\n",
    "data1 = json.loads(dataReg.group(2))\n",
    "\n",
    "dataJson = data1[\"secondaryInfo\"][\"presModelMap\"][\"dataDictionary\"][\"presModelHolder\"][\"genDataDictionaryPresModel\"][\"dataSegments\"][\"0\"][\"dataColumns\"]"
   ]
  },
  {
   "cell_type": "markdown",
   "metadata": {},
   "source": [
    "Isolate what you want"
   ]
  },
  {
   "cell_type": "code",
   "execution_count": 6,
   "metadata": {
    "execution": {
     "iopub.execute_input": "2021-03-16T11:40:35.049762Z",
     "iopub.status.busy": "2021-03-16T11:40:35.049219Z",
     "iopub.status.idle": "2021-03-16T11:40:35.052394Z",
     "shell.execute_reply": "2021-03-16T11:40:35.052933Z"
    }
   },
   "outputs": [],
   "source": [
    "counties = dataJson[2]['dataValues'][:58]"
   ]
  },
  {
   "cell_type": "code",
   "execution_count": 7,
   "metadata": {
    "execution": {
     "iopub.execute_input": "2021-03-16T11:40:35.057374Z",
     "iopub.status.busy": "2021-03-16T11:40:35.056631Z",
     "iopub.status.idle": "2021-03-16T11:40:35.060493Z",
     "shell.execute_reply": "2021-03-16T11:40:35.061127Z"
    }
   },
   "outputs": [],
   "source": [
    "doses = dataJson[0]['dataValues'][3:61]"
   ]
  },
  {
   "cell_type": "markdown",
   "metadata": {},
   "source": [
    "Data formatting"
   ]
  },
  {
   "cell_type": "code",
   "execution_count": 8,
   "metadata": {
    "execution": {
     "iopub.execute_input": "2021-03-16T11:40:35.065790Z",
     "iopub.status.busy": "2021-03-16T11:40:35.065281Z",
     "iopub.status.idle": "2021-03-16T11:40:35.069043Z",
     "shell.execute_reply": "2021-03-16T11:40:35.068433Z"
    }
   },
   "outputs": [],
   "source": [
    "zipped = dict(zip(counties, doses))"
   ]
  },
  {
   "cell_type": "code",
   "execution_count": 9,
   "metadata": {
    "execution": {
     "iopub.execute_input": "2021-03-16T11:40:35.074652Z",
     "iopub.status.busy": "2021-03-16T11:40:35.074158Z",
     "iopub.status.idle": "2021-03-16T11:40:35.076247Z",
     "shell.execute_reply": "2021-03-16T11:40:35.076687Z"
    }
   },
   "outputs": [],
   "source": [
    "df = pd.Series(zipped).reset_index()"
   ]
  },
  {
   "cell_type": "code",
   "execution_count": 10,
   "metadata": {
    "execution": {
     "iopub.execute_input": "2021-03-16T11:40:35.080879Z",
     "iopub.status.busy": "2021-03-16T11:40:35.079792Z",
     "iopub.status.idle": "2021-03-16T11:40:35.081619Z",
     "shell.execute_reply": "2021-03-16T11:40:35.082032Z"
    }
   },
   "outputs": [],
   "source": [
    "df.columns = ['location','doses']"
   ]
  },
  {
   "cell_type": "markdown",
   "metadata": {},
   "source": [
    "Grab the overall California total"
   ]
  },
  {
   "cell_type": "code",
   "execution_count": 11,
   "metadata": {
    "execution": {
     "iopub.execute_input": "2021-03-16T11:40:35.086606Z",
     "iopub.status.busy": "2021-03-16T11:40:35.085113Z",
     "iopub.status.idle": "2021-03-16T11:40:35.087310Z",
     "shell.execute_reply": "2021-03-16T11:40:35.087708Z"
    }
   },
   "outputs": [],
   "source": [
    "add = {'location':'California','doses':dataJson[0]['dataValues'][2]}"
   ]
  },
  {
   "cell_type": "code",
   "execution_count": 12,
   "metadata": {
    "execution": {
     "iopub.execute_input": "2021-03-16T11:40:35.096167Z",
     "iopub.status.busy": "2021-03-16T11:40:35.094989Z",
     "iopub.status.idle": "2021-03-16T11:40:35.097716Z",
     "shell.execute_reply": "2021-03-16T11:40:35.097195Z"
    }
   },
   "outputs": [],
   "source": [
    "df = df.append(add, ignore_index=True)"
   ]
  },
  {
   "cell_type": "code",
   "execution_count": 13,
   "metadata": {
    "execution": {
     "iopub.execute_input": "2021-03-16T11:40:35.102856Z",
     "iopub.status.busy": "2021-03-16T11:40:35.101486Z",
     "iopub.status.idle": "2021-03-16T11:40:35.103558Z",
     "shell.execute_reply": "2021-03-16T11:40:35.104219Z"
    }
   },
   "outputs": [],
   "source": [
    "df = df.sort_values(by='location')"
   ]
  },
  {
   "cell_type": "code",
   "execution_count": 14,
   "metadata": {
    "execution": {
     "iopub.execute_input": "2021-03-16T11:40:35.112657Z",
     "iopub.status.busy": "2021-03-16T11:40:35.111318Z",
     "iopub.status.idle": "2021-03-16T11:40:35.113336Z",
     "shell.execute_reply": "2021-03-16T11:40:35.113865Z"
    }
   },
   "outputs": [],
   "source": [
    "df = df[df.location == 'California'].append(df[df.location != 'California']).reset_index(drop=True)"
   ]
  },
  {
   "cell_type": "code",
   "execution_count": null,
   "metadata": {},
   "outputs": [],
   "source": []
  },
  {
   "cell_type": "code",
   "execution_count": 15,
   "metadata": {
    "execution": {
     "iopub.execute_input": "2021-03-16T11:40:35.118119Z",
     "iopub.status.busy": "2021-03-16T11:40:35.117223Z",
     "iopub.status.idle": "2021-03-16T11:40:35.136362Z",
     "shell.execute_reply": "2021-03-16T11:40:35.135723Z"
    }
   },
   "outputs": [],
   "source": [
    "tz = pytz.timezone(\"America/New_York\")"
   ]
  },
  {
   "cell_type": "code",
   "execution_count": 16,
   "metadata": {
    "execution": {
     "iopub.execute_input": "2021-03-16T11:40:35.140783Z",
     "iopub.status.busy": "2021-03-16T11:40:35.139508Z",
     "iopub.status.idle": "2021-03-16T11:40:35.141386Z",
     "shell.execute_reply": "2021-03-16T11:40:35.141811Z"
    }
   },
   "outputs": [],
   "source": [
    "today = datetime.now(tz).date()"
   ]
  },
  {
   "cell_type": "code",
   "execution_count": 17,
   "metadata": {
    "execution": {
     "iopub.execute_input": "2021-03-16T11:40:35.146495Z",
     "iopub.status.busy": "2021-03-16T11:40:35.144984Z",
     "iopub.status.idle": "2021-03-16T11:40:35.147049Z",
     "shell.execute_reply": "2021-03-16T11:40:35.147454Z"
    }
   },
   "outputs": [],
   "source": [
    "data_dir = os.path.join(os.path.abspath(\"\"), \"data\")"
   ]
  },
  {
   "cell_type": "code",
   "execution_count": 18,
   "metadata": {
    "execution": {
     "iopub.execute_input": "2021-03-16T11:40:35.152215Z",
     "iopub.status.busy": "2021-03-16T11:40:35.150967Z",
     "iopub.status.idle": "2021-03-16T11:40:35.155543Z",
     "shell.execute_reply": "2021-03-16T11:40:35.155927Z"
    }
   },
   "outputs": [],
   "source": [
    "df.to_csv(os.path.join(data_dir, f\"{today}.csv\"), index=False)"
   ]
  },
  {
   "cell_type": "code",
   "execution_count": null,
   "metadata": {},
   "outputs": [],
   "source": []
  }
 ],
 "metadata": {
  "kernelspec": {
   "display_name": "Python 3",
   "language": "python",
   "name": "python3"
  },
  "language_info": {
   "codemirror_mode": {
    "name": "ipython",
    "version": 3
   },
   "file_extension": ".py",
   "mimetype": "text/x-python",
   "name": "python",
   "nbconvert_exporter": "python",
   "pygments_lexer": "ipython3",
   "version": "3.8.8"
  }
 },
 "nbformat": 4,
 "nbformat_minor": 4
}
