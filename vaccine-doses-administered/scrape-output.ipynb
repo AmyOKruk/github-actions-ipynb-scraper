{
 "cells": [
  {
   "cell_type": "markdown",
   "metadata": {},
   "source": [
    "# California COVID vaccinations scrape"
   ]
  },
  {
   "cell_type": "markdown",
   "metadata": {},
   "source": [
    "By [Amy O'Kruk](https://twitter.com/amyokruk)"
   ]
  },
  {
   "cell_type": "markdown",
   "metadata": {},
   "source": [
    "Downloads data on vaccine doses administered by county and statewide from a Tableau-powered dashboard from the California Department of Public Health."
   ]
  },
  {
   "cell_type": "code",
   "execution_count": 1,
   "metadata": {
    "execution": {
     "iopub.execute_input": "2021-03-21T18:03:42.811241Z",
     "iopub.status.busy": "2021-03-21T18:03:42.810573Z",
     "iopub.status.idle": "2021-03-21T18:03:43.222795Z",
     "shell.execute_reply": "2021-03-21T18:03:43.221964Z"
    }
   },
   "outputs": [],
   "source": [
    "import pandas as pd\n",
    "import requests\n",
    "from bs4 import BeautifulSoup\n",
    "import json\n",
    "import re\n",
    "import time\n",
    "from time import gmtime, strftime \n",
    "import os\n",
    "import pytz\n",
    "from datetime import datetime"
   ]
  },
  {
   "cell_type": "markdown",
   "metadata": {},
   "source": [
    "Scrape the dashboard page"
   ]
  },
  {
   "cell_type": "code",
   "execution_count": 2,
   "metadata": {
    "execution": {
     "iopub.execute_input": "2021-03-21T18:03:43.228648Z",
     "iopub.status.busy": "2021-03-21T18:03:43.226225Z",
     "iopub.status.idle": "2021-03-21T18:03:44.203119Z",
     "shell.execute_reply": "2021-03-21T18:03:44.202205Z"
    }
   },
   "outputs": [],
   "source": [
    "url = \"https://public.tableau.com/interactive/views/COVID-19VaccineDashboardPublic/Vaccine?:embed=y&:showVizHome=n&:apiID=host0\"\n",
    "\n",
    "r = requests.get(url)\n",
    "soup = BeautifulSoup(r.text, \"html.parser\")"
   ]
  },
  {
   "cell_type": "code",
   "execution_count": 3,
   "metadata": {
    "execution": {
     "iopub.execute_input": "2021-03-21T18:03:44.207926Z",
     "iopub.status.busy": "2021-03-21T18:03:44.207369Z",
     "iopub.status.idle": "2021-03-21T18:03:44.211006Z",
     "shell.execute_reply": "2021-03-21T18:03:44.211446Z"
    }
   },
   "outputs": [],
   "source": [
    "tableauData = json.loads(soup.find(\"textarea\",{\"id\": \"tsConfigContainer\"}).text)"
   ]
  },
  {
   "cell_type": "markdown",
   "metadata": {},
   "source": [
    "Get the link to the Tableau data"
   ]
  },
  {
   "cell_type": "code",
   "execution_count": 4,
   "metadata": {
    "execution": {
     "iopub.execute_input": "2021-03-21T18:03:44.215179Z",
     "iopub.status.busy": "2021-03-21T18:03:44.214607Z",
     "iopub.status.idle": "2021-03-21T18:03:44.218411Z",
     "shell.execute_reply": "2021-03-21T18:03:44.217918Z"
    }
   },
   "outputs": [],
   "source": [
    "dataUrl = f'https://public.tableau.com{tableauData[\"vizql_root\"]}/bootstrapSession/sessions/{tableauData[\"sessionid\"]}'"
   ]
  },
  {
   "cell_type": "code",
   "execution_count": 5,
   "metadata": {
    "execution": {
     "iopub.execute_input": "2021-03-21T18:03:44.225042Z",
     "iopub.status.busy": "2021-03-21T18:03:44.224393Z",
     "iopub.status.idle": "2021-03-21T18:03:44.455966Z",
     "shell.execute_reply": "2021-03-21T18:03:44.455366Z"
    }
   },
   "outputs": [],
   "source": [
    "r = requests.post(dataUrl, data= {\n",
    "    \"sheet_id\": tableauData[\"sheetId\"],\n",
    "})\n",
    "\n",
    "dataReg = re.search('\\d+;({.*})\\d+;({.*})', r.text, re.MULTILINE)\n",
    "data1 = json.loads(dataReg.group(2))\n",
    "\n",
    "dataJson = data1[\"secondaryInfo\"][\"presModelMap\"][\"dataDictionary\"][\"presModelHolder\"][\"genDataDictionaryPresModel\"][\"dataSegments\"][\"0\"][\"dataColumns\"]"
   ]
  },
  {
   "cell_type": "markdown",
   "metadata": {},
   "source": [
    "Isolate what you want"
   ]
  },
  {
   "cell_type": "code",
   "execution_count": 6,
   "metadata": {
    "execution": {
     "iopub.execute_input": "2021-03-21T18:03:44.460556Z",
     "iopub.status.busy": "2021-03-21T18:03:44.459877Z",
     "iopub.status.idle": "2021-03-21T18:03:44.464258Z",
     "shell.execute_reply": "2021-03-21T18:03:44.463716Z"
    }
   },
   "outputs": [],
   "source": [
    "counties = dataJson[2]['dataValues'][:58]"
   ]
  },
  {
   "cell_type": "code",
   "execution_count": 7,
   "metadata": {
    "execution": {
     "iopub.execute_input": "2021-03-21T18:03:44.468319Z",
     "iopub.status.busy": "2021-03-21T18:03:44.467709Z",
     "iopub.status.idle": "2021-03-21T18:03:44.471459Z",
     "shell.execute_reply": "2021-03-21T18:03:44.471966Z"
    }
   },
   "outputs": [],
   "source": [
    "doses = dataJson[0]['dataValues'][3:61]"
   ]
  },
  {
   "cell_type": "markdown",
   "metadata": {},
   "source": [
    "Data formatting"
   ]
  },
  {
   "cell_type": "code",
   "execution_count": 8,
   "metadata": {
    "execution": {
     "iopub.execute_input": "2021-03-21T18:03:44.476502Z",
     "iopub.status.busy": "2021-03-21T18:03:44.475893Z",
     "iopub.status.idle": "2021-03-21T18:03:44.479646Z",
     "shell.execute_reply": "2021-03-21T18:03:44.480119Z"
    }
   },
   "outputs": [],
   "source": [
    "zipped = dict(zip(counties, doses))"
   ]
  },
  {
   "cell_type": "code",
   "execution_count": 9,
   "metadata": {
    "execution": {
     "iopub.execute_input": "2021-03-21T18:03:44.486685Z",
     "iopub.status.busy": "2021-03-21T18:03:44.486084Z",
     "iopub.status.idle": "2021-03-21T18:03:44.490191Z",
     "shell.execute_reply": "2021-03-21T18:03:44.489673Z"
    }
   },
   "outputs": [],
   "source": [
    "df = pd.Series(zipped).reset_index()"
   ]
  },
  {
   "cell_type": "code",
   "execution_count": 10,
   "metadata": {
    "execution": {
     "iopub.execute_input": "2021-03-21T18:03:44.494655Z",
     "iopub.status.busy": "2021-03-21T18:03:44.494080Z",
     "iopub.status.idle": "2021-03-21T18:03:44.497604Z",
     "shell.execute_reply": "2021-03-21T18:03:44.498337Z"
    }
   },
   "outputs": [],
   "source": [
    "df.columns = ['location','doses']"
   ]
  },
  {
   "cell_type": "markdown",
   "metadata": {},
   "source": [
    "Grab the overall California total"
   ]
  },
  {
   "cell_type": "code",
   "execution_count": 11,
   "metadata": {
    "execution": {
     "iopub.execute_input": "2021-03-21T18:03:44.502737Z",
     "iopub.status.busy": "2021-03-21T18:03:44.502174Z",
     "iopub.status.idle": "2021-03-21T18:03:44.505668Z",
     "shell.execute_reply": "2021-03-21T18:03:44.506144Z"
    }
   },
   "outputs": [],
   "source": [
    "add = {'location':'California','doses':dataJson[0]['dataValues'][2]}"
   ]
  },
  {
   "cell_type": "code",
   "execution_count": 12,
   "metadata": {
    "execution": {
     "iopub.execute_input": "2021-03-21T18:03:44.513504Z",
     "iopub.status.busy": "2021-03-21T18:03:44.512917Z",
     "iopub.status.idle": "2021-03-21T18:03:44.516956Z",
     "shell.execute_reply": "2021-03-21T18:03:44.516467Z"
    }
   },
   "outputs": [],
   "source": [
    "df = df.append(add, ignore_index=True)"
   ]
  },
  {
   "cell_type": "code",
   "execution_count": 13,
   "metadata": {
    "execution": {
     "iopub.execute_input": "2021-03-21T18:03:44.521451Z",
     "iopub.status.busy": "2021-03-21T18:03:44.520829Z",
     "iopub.status.idle": "2021-03-21T18:03:44.524633Z",
     "shell.execute_reply": "2021-03-21T18:03:44.525119Z"
    }
   },
   "outputs": [],
   "source": [
    "df = df.sort_values(by='location')"
   ]
  },
  {
   "cell_type": "code",
   "execution_count": 14,
   "metadata": {
    "execution": {
     "iopub.execute_input": "2021-03-21T18:03:44.531722Z",
     "iopub.status.busy": "2021-03-21T18:03:44.531174Z",
     "iopub.status.idle": "2021-03-21T18:03:44.534704Z",
     "shell.execute_reply": "2021-03-21T18:03:44.535131Z"
    }
   },
   "outputs": [],
   "source": [
    "df = df[df.location == 'California'].append(df[df.location != 'California']).reset_index(drop=True)"
   ]
  },
  {
   "cell_type": "code",
   "execution_count": null,
   "metadata": {},
   "outputs": [],
   "source": []
  },
  {
   "cell_type": "code",
   "execution_count": 15,
   "metadata": {
    "execution": {
     "iopub.execute_input": "2021-03-21T18:03:44.539579Z",
     "iopub.status.busy": "2021-03-21T18:03:44.538494Z",
     "iopub.status.idle": "2021-03-21T18:03:44.559650Z",
     "shell.execute_reply": "2021-03-21T18:03:44.558866Z"
    }
   },
   "outputs": [],
   "source": [
    "tz = pytz.timezone(\"America/New_York\")"
   ]
  },
  {
   "cell_type": "code",
   "execution_count": 16,
   "metadata": {
    "execution": {
     "iopub.execute_input": "2021-03-21T18:03:44.564906Z",
     "iopub.status.busy": "2021-03-21T18:03:44.562790Z",
     "iopub.status.idle": "2021-03-21T18:03:44.574425Z",
     "shell.execute_reply": "2021-03-21T18:03:44.573424Z"
    }
   },
   "outputs": [],
   "source": [
    "today = datetime.now(tz).date()"
   ]
  },
  {
   "cell_type": "code",
   "execution_count": 17,
   "metadata": {
    "execution": {
     "iopub.execute_input": "2021-03-21T18:03:44.578161Z",
     "iopub.status.busy": "2021-03-21T18:03:44.577588Z",
     "iopub.status.idle": "2021-03-21T18:03:44.580929Z",
     "shell.execute_reply": "2021-03-21T18:03:44.579732Z"
    }
   },
   "outputs": [],
   "source": [
    "data_dir = os.path.join(os.path.abspath(\"\"), \"data\")"
   ]
  },
  {
   "cell_type": "code",
   "execution_count": 18,
   "metadata": {
    "execution": {
     "iopub.execute_input": "2021-03-21T18:03:44.586383Z",
     "iopub.status.busy": "2021-03-21T18:03:44.585109Z",
     "iopub.status.idle": "2021-03-21T18:03:44.604194Z",
     "shell.execute_reply": "2021-03-21T18:03:44.604670Z"
    }
   },
   "outputs": [],
   "source": [
    "df.to_csv(os.path.join(data_dir, f\"{today}.csv\"), index=False)"
   ]
  },
  {
   "cell_type": "code",
   "execution_count": null,
   "metadata": {},
   "outputs": [],
   "source": []
  }
 ],
 "metadata": {
  "kernelspec": {
   "display_name": "Python 3",
   "language": "python",
   "name": "python3"
  },
  "language_info": {
   "codemirror_mode": {
    "name": "ipython",
    "version": 3
   },
   "file_extension": ".py",
   "mimetype": "text/x-python",
   "name": "python",
   "nbconvert_exporter": "python",
   "pygments_lexer": "ipython3",
   "version": "3.8.8"
  }
 },
 "nbformat": 4,
 "nbformat_minor": 4
}
