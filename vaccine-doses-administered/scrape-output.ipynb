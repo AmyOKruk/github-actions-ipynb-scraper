{
 "cells": [
  {
   "cell_type": "markdown",
   "metadata": {},
   "source": [
    "# California COVID vaccinations scrape"
   ]
  },
  {
   "cell_type": "markdown",
   "metadata": {},
   "source": [
    "By [Amy O'Kruk](https://twitter.com/amyokruk)"
   ]
  },
  {
   "cell_type": "markdown",
   "metadata": {},
   "source": [
    "Downloads data on vaccine doses administered by county and statewide from a Tableau-powered dashboard from the California Department of Public Health."
   ]
  },
  {
   "cell_type": "code",
   "execution_count": 1,
   "metadata": {
    "execution": {
     "iopub.execute_input": "2021-03-22T21:42:53.847742Z",
     "iopub.status.busy": "2021-03-22T21:42:53.847046Z",
     "iopub.status.idle": "2021-03-22T21:42:54.264992Z",
     "shell.execute_reply": "2021-03-22T21:42:54.264016Z"
    }
   },
   "outputs": [],
   "source": [
    "import pandas as pd\n",
    "import requests\n",
    "from bs4 import BeautifulSoup\n",
    "import json\n",
    "import re\n",
    "import time\n",
    "from time import gmtime, strftime \n",
    "import os\n",
    "import pytz\n",
    "from datetime import datetime"
   ]
  },
  {
   "cell_type": "markdown",
   "metadata": {},
   "source": [
    "Scrape the dashboard page"
   ]
  },
  {
   "cell_type": "code",
   "execution_count": 2,
   "metadata": {
    "execution": {
     "iopub.execute_input": "2021-03-22T21:42:54.271484Z",
     "iopub.status.busy": "2021-03-22T21:42:54.268681Z",
     "iopub.status.idle": "2021-03-22T21:42:54.545322Z",
     "shell.execute_reply": "2021-03-22T21:42:54.544782Z"
    }
   },
   "outputs": [],
   "source": [
    "url = \"https://public.tableau.com/interactive/views/COVID-19VaccineDashboardPublic/Vaccine?:embed=y&:showVizHome=n&:apiID=host0\"\n",
    "\n",
    "r = requests.get(url)\n",
    "soup = BeautifulSoup(r.text, \"html.parser\")"
   ]
  },
  {
   "cell_type": "code",
   "execution_count": 3,
   "metadata": {
    "execution": {
     "iopub.execute_input": "2021-03-22T21:42:54.550285Z",
     "iopub.status.busy": "2021-03-22T21:42:54.549679Z",
     "iopub.status.idle": "2021-03-22T21:42:54.552986Z",
     "shell.execute_reply": "2021-03-22T21:42:54.553466Z"
    }
   },
   "outputs": [],
   "source": [
    "tableauData = json.loads(soup.find(\"textarea\",{\"id\": \"tsConfigContainer\"}).text)"
   ]
  },
  {
   "cell_type": "markdown",
   "metadata": {},
   "source": [
    "Get the link to the Tableau data"
   ]
  },
  {
   "cell_type": "code",
   "execution_count": 4,
   "metadata": {
    "execution": {
     "iopub.execute_input": "2021-03-22T21:42:54.558377Z",
     "iopub.status.busy": "2021-03-22T21:42:54.556808Z",
     "iopub.status.idle": "2021-03-22T21:42:54.559099Z",
     "shell.execute_reply": "2021-03-22T21:42:54.559610Z"
    }
   },
   "outputs": [],
   "source": [
    "dataUrl = f'https://public.tableau.com{tableauData[\"vizql_root\"]}/bootstrapSession/sessions/{tableauData[\"sessionid\"]}'"
   ]
  },
  {
   "cell_type": "code",
   "execution_count": 5,
   "metadata": {
    "execution": {
     "iopub.execute_input": "2021-03-22T21:42:54.566409Z",
     "iopub.status.busy": "2021-03-22T21:42:54.565774Z",
     "iopub.status.idle": "2021-03-22T21:42:54.765785Z",
     "shell.execute_reply": "2021-03-22T21:42:54.765225Z"
    }
   },
   "outputs": [],
   "source": [
    "r = requests.post(dataUrl, data= {\n",
    "    \"sheet_id\": tableauData[\"sheetId\"],\n",
    "})\n",
    "\n",
    "dataReg = re.search('\\d+;({.*})\\d+;({.*})', r.text, re.MULTILINE)\n",
    "data1 = json.loads(dataReg.group(2))\n",
    "\n",
    "dataJson = data1[\"secondaryInfo\"][\"presModelMap\"][\"dataDictionary\"][\"presModelHolder\"][\"genDataDictionaryPresModel\"][\"dataSegments\"][\"0\"][\"dataColumns\"]"
   ]
  },
  {
   "cell_type": "markdown",
   "metadata": {},
   "source": [
    "Isolate what you want"
   ]
  },
  {
   "cell_type": "code",
   "execution_count": 6,
   "metadata": {
    "execution": {
     "iopub.execute_input": "2021-03-22T21:42:54.770794Z",
     "iopub.status.busy": "2021-03-22T21:42:54.769303Z",
     "iopub.status.idle": "2021-03-22T21:42:54.771489Z",
     "shell.execute_reply": "2021-03-22T21:42:54.771991Z"
    }
   },
   "outputs": [],
   "source": [
    "counties = dataJson[2]['dataValues'][:58]"
   ]
  },
  {
   "cell_type": "code",
   "execution_count": 7,
   "metadata": {
    "execution": {
     "iopub.execute_input": "2021-03-22T21:42:54.776843Z",
     "iopub.status.busy": "2021-03-22T21:42:54.775328Z",
     "iopub.status.idle": "2021-03-22T21:42:54.777507Z",
     "shell.execute_reply": "2021-03-22T21:42:54.778015Z"
    }
   },
   "outputs": [],
   "source": [
    "doses = dataJson[0]['dataValues'][3:61]"
   ]
  },
  {
   "cell_type": "markdown",
   "metadata": {},
   "source": [
    "Data formatting"
   ]
  },
  {
   "cell_type": "code",
   "execution_count": 8,
   "metadata": {
    "execution": {
     "iopub.execute_input": "2021-03-22T21:42:54.782746Z",
     "iopub.status.busy": "2021-03-22T21:42:54.781316Z",
     "iopub.status.idle": "2021-03-22T21:42:54.783447Z",
     "shell.execute_reply": "2021-03-22T21:42:54.783954Z"
    }
   },
   "outputs": [],
   "source": [
    "zipped = dict(zip(counties, doses))"
   ]
  },
  {
   "cell_type": "code",
   "execution_count": 9,
   "metadata": {
    "execution": {
     "iopub.execute_input": "2021-03-22T21:42:54.790994Z",
     "iopub.status.busy": "2021-03-22T21:42:54.789493Z",
     "iopub.status.idle": "2021-03-22T21:42:54.791742Z",
     "shell.execute_reply": "2021-03-22T21:42:54.792254Z"
    }
   },
   "outputs": [],
   "source": [
    "df = pd.Series(zipped).reset_index()"
   ]
  },
  {
   "cell_type": "code",
   "execution_count": 10,
   "metadata": {
    "execution": {
     "iopub.execute_input": "2021-03-22T21:42:54.797158Z",
     "iopub.status.busy": "2021-03-22T21:42:54.795686Z",
     "iopub.status.idle": "2021-03-22T21:42:54.797825Z",
     "shell.execute_reply": "2021-03-22T21:42:54.798329Z"
    }
   },
   "outputs": [],
   "source": [
    "df.columns = ['location','doses']"
   ]
  },
  {
   "cell_type": "markdown",
   "metadata": {},
   "source": [
    "Grab the overall California total"
   ]
  },
  {
   "cell_type": "code",
   "execution_count": 11,
   "metadata": {
    "execution": {
     "iopub.execute_input": "2021-03-22T21:42:54.803088Z",
     "iopub.status.busy": "2021-03-22T21:42:54.801723Z",
     "iopub.status.idle": "2021-03-22T21:42:54.803752Z",
     "shell.execute_reply": "2021-03-22T21:42:54.804254Z"
    }
   },
   "outputs": [],
   "source": [
    "add = {'location':'California','doses':dataJson[0]['dataValues'][2]}"
   ]
  },
  {
   "cell_type": "code",
   "execution_count": 12,
   "metadata": {
    "execution": {
     "iopub.execute_input": "2021-03-22T21:42:54.812524Z",
     "iopub.status.busy": "2021-03-22T21:42:54.811135Z",
     "iopub.status.idle": "2021-03-22T21:42:54.813198Z",
     "shell.execute_reply": "2021-03-22T21:42:54.813699Z"
    }
   },
   "outputs": [],
   "source": [
    "df = df.append(add, ignore_index=True)"
   ]
  },
  {
   "cell_type": "code",
   "execution_count": 13,
   "metadata": {
    "execution": {
     "iopub.execute_input": "2021-03-22T21:42:54.819304Z",
     "iopub.status.busy": "2021-03-22T21:42:54.817916Z",
     "iopub.status.idle": "2021-03-22T21:42:54.819981Z",
     "shell.execute_reply": "2021-03-22T21:42:54.820487Z"
    }
   },
   "outputs": [],
   "source": [
    "df = df.sort_values(by='location')"
   ]
  },
  {
   "cell_type": "code",
   "execution_count": 14,
   "metadata": {
    "execution": {
     "iopub.execute_input": "2021-03-22T21:42:54.827756Z",
     "iopub.status.busy": "2021-03-22T21:42:54.826390Z",
     "iopub.status.idle": "2021-03-22T21:42:54.828422Z",
     "shell.execute_reply": "2021-03-22T21:42:54.828924Z"
    }
   },
   "outputs": [],
   "source": [
    "df = df[df.location == 'California'].append(df[df.location != 'California']).reset_index(drop=True)"
   ]
  },
  {
   "cell_type": "code",
   "execution_count": null,
   "metadata": {},
   "outputs": [],
   "source": []
  },
  {
   "cell_type": "code",
   "execution_count": 15,
   "metadata": {
    "execution": {
     "iopub.execute_input": "2021-03-22T21:42:54.832439Z",
     "iopub.status.busy": "2021-03-22T21:42:54.831846Z",
     "iopub.status.idle": "2021-03-22T21:42:54.863655Z",
     "shell.execute_reply": "2021-03-22T21:42:54.863048Z"
    }
   },
   "outputs": [],
   "source": [
    "tz = pytz.timezone(\"America/New_York\")"
   ]
  },
  {
   "cell_type": "code",
   "execution_count": 16,
   "metadata": {
    "execution": {
     "iopub.execute_input": "2021-03-22T21:42:54.868530Z",
     "iopub.status.busy": "2021-03-22T21:42:54.867207Z",
     "iopub.status.idle": "2021-03-22T21:42:54.869194Z",
     "shell.execute_reply": "2021-03-22T21:42:54.869844Z"
    }
   },
   "outputs": [],
   "source": [
    "today = datetime.now(tz).date()"
   ]
  },
  {
   "cell_type": "code",
   "execution_count": 17,
   "metadata": {
    "execution": {
     "iopub.execute_input": "2021-03-22T21:42:54.874869Z",
     "iopub.status.busy": "2021-03-22T21:42:54.873423Z",
     "iopub.status.idle": "2021-03-22T21:42:54.875567Z",
     "shell.execute_reply": "2021-03-22T21:42:54.876070Z"
    }
   },
   "outputs": [],
   "source": [
    "data_dir = os.path.join(os.path.abspath(\"\"), \"data\")"
   ]
  },
  {
   "cell_type": "code",
   "execution_count": 18,
   "metadata": {
    "execution": {
     "iopub.execute_input": "2021-03-22T21:42:54.881918Z",
     "iopub.status.busy": "2021-03-22T21:42:54.879425Z",
     "iopub.status.idle": "2021-03-22T21:42:54.883954Z",
     "shell.execute_reply": "2021-03-22T21:42:54.884436Z"
    }
   },
   "outputs": [],
   "source": [
    "df.to_csv(os.path.join(data_dir, f\"{today}.csv\"), index=False)"
   ]
  },
  {
   "cell_type": "code",
   "execution_count": null,
   "metadata": {},
   "outputs": [],
   "source": []
  }
 ],
 "metadata": {
  "kernelspec": {
   "display_name": "Python 3",
   "language": "python",
   "name": "python3"
  },
  "language_info": {
   "codemirror_mode": {
    "name": "ipython",
    "version": 3
   },
   "file_extension": ".py",
   "mimetype": "text/x-python",
   "name": "python",
   "nbconvert_exporter": "python",
   "pygments_lexer": "ipython3",
   "version": "3.8.8"
  }
 },
 "nbformat": 4,
 "nbformat_minor": 4
}
