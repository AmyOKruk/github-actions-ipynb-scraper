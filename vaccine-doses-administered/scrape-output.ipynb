{
 "cells": [
  {
   "cell_type": "markdown",
   "metadata": {},
   "source": [
    "# California COVID vaccinations scrape"
   ]
  },
  {
   "cell_type": "markdown",
   "metadata": {},
   "source": [
    "By [Amy O'Kruk](https://twitter.com/amyokruk)"
   ]
  },
  {
   "cell_type": "markdown",
   "metadata": {},
   "source": [
    "Downloads data on vaccine doses administered by county and statewide from a Tableau-powered dashboard from the California Department of Public Health."
   ]
  },
  {
   "cell_type": "code",
   "execution_count": 1,
   "metadata": {
    "execution": {
     "iopub.execute_input": "2021-03-22T23:13:26.464764Z",
     "iopub.status.busy": "2021-03-22T23:13:26.464037Z",
     "iopub.status.idle": "2021-03-22T23:13:26.855718Z",
     "shell.execute_reply": "2021-03-22T23:13:26.854838Z"
    }
   },
   "outputs": [],
   "source": [
    "import pandas as pd\n",
    "import requests\n",
    "from bs4 import BeautifulSoup\n",
    "import json\n",
    "import re\n",
    "import time\n",
    "from time import gmtime, strftime \n",
    "import os\n",
    "import pytz\n",
    "from datetime import datetime"
   ]
  },
  {
   "cell_type": "markdown",
   "metadata": {},
   "source": [
    "Scrape the dashboard page"
   ]
  },
  {
   "cell_type": "code",
   "execution_count": 2,
   "metadata": {
    "execution": {
     "iopub.execute_input": "2021-03-22T23:13:26.861277Z",
     "iopub.status.busy": "2021-03-22T23:13:26.859140Z",
     "iopub.status.idle": "2021-03-22T23:13:27.213216Z",
     "shell.execute_reply": "2021-03-22T23:13:27.212666Z"
    }
   },
   "outputs": [],
   "source": [
    "url = \"https://public.tableau.com/interactive/views/COVID-19VaccineDashboardPublic/Vaccine?:embed=y&:showVizHome=n&:apiID=host0\"\n",
    "\n",
    "r = requests.get(url)\n",
    "soup = BeautifulSoup(r.text, \"html.parser\")"
   ]
  },
  {
   "cell_type": "code",
   "execution_count": 3,
   "metadata": {
    "execution": {
     "iopub.execute_input": "2021-03-22T23:13:27.220089Z",
     "iopub.status.busy": "2021-03-22T23:13:27.219451Z",
     "iopub.status.idle": "2021-03-22T23:13:27.222895Z",
     "shell.execute_reply": "2021-03-22T23:13:27.223443Z"
    }
   },
   "outputs": [],
   "source": [
    "tableauData = json.loads(soup.find(\"textarea\",{\"id\": \"tsConfigContainer\"}).text)"
   ]
  },
  {
   "cell_type": "markdown",
   "metadata": {},
   "source": [
    "Get the link to the Tableau data"
   ]
  },
  {
   "cell_type": "code",
   "execution_count": 4,
   "metadata": {
    "execution": {
     "iopub.execute_input": "2021-03-22T23:13:27.227799Z",
     "iopub.status.busy": "2021-03-22T23:13:27.227224Z",
     "iopub.status.idle": "2021-03-22T23:13:27.231092Z",
     "shell.execute_reply": "2021-03-22T23:13:27.230526Z"
    }
   },
   "outputs": [],
   "source": [
    "dataUrl = f'https://public.tableau.com{tableauData[\"vizql_root\"]}/bootstrapSession/sessions/{tableauData[\"sessionid\"]}'"
   ]
  },
  {
   "cell_type": "code",
   "execution_count": 5,
   "metadata": {
    "execution": {
     "iopub.execute_input": "2021-03-22T23:13:27.238623Z",
     "iopub.status.busy": "2021-03-22T23:13:27.238005Z",
     "iopub.status.idle": "2021-03-22T23:13:27.516217Z",
     "shell.execute_reply": "2021-03-22T23:13:27.515702Z"
    }
   },
   "outputs": [],
   "source": [
    "r = requests.post(dataUrl, data= {\n",
    "    \"sheet_id\": tableauData[\"sheetId\"],\n",
    "})\n",
    "\n",
    "dataReg = re.search('\\d+;({.*})\\d+;({.*})', r.text, re.MULTILINE)\n",
    "data1 = json.loads(dataReg.group(2))\n",
    "\n",
    "dataJson = data1[\"secondaryInfo\"][\"presModelMap\"][\"dataDictionary\"][\"presModelHolder\"][\"genDataDictionaryPresModel\"][\"dataSegments\"][\"0\"][\"dataColumns\"]"
   ]
  },
  {
   "cell_type": "markdown",
   "metadata": {},
   "source": [
    "Isolate what you want"
   ]
  },
  {
   "cell_type": "code",
   "execution_count": 6,
   "metadata": {
    "execution": {
     "iopub.execute_input": "2021-03-22T23:13:27.520646Z",
     "iopub.status.busy": "2021-03-22T23:13:27.519844Z",
     "iopub.status.idle": "2021-03-22T23:13:27.523726Z",
     "shell.execute_reply": "2021-03-22T23:13:27.523286Z"
    }
   },
   "outputs": [],
   "source": [
    "counties = dataJson[2]['dataValues'][:58]"
   ]
  },
  {
   "cell_type": "code",
   "execution_count": 7,
   "metadata": {
    "execution": {
     "iopub.execute_input": "2021-03-22T23:13:27.527136Z",
     "iopub.status.busy": "2021-03-22T23:13:27.526665Z",
     "iopub.status.idle": "2021-03-22T23:13:27.529959Z",
     "shell.execute_reply": "2021-03-22T23:13:27.529554Z"
    }
   },
   "outputs": [],
   "source": [
    "doses = dataJson[0]['dataValues'][3:61]"
   ]
  },
  {
   "cell_type": "markdown",
   "metadata": {},
   "source": [
    "Data formatting"
   ]
  },
  {
   "cell_type": "code",
   "execution_count": 8,
   "metadata": {
    "execution": {
     "iopub.execute_input": "2021-03-22T23:13:27.533185Z",
     "iopub.status.busy": "2021-03-22T23:13:27.532704Z",
     "iopub.status.idle": "2021-03-22T23:13:27.535602Z",
     "shell.execute_reply": "2021-03-22T23:13:27.536034Z"
    }
   },
   "outputs": [],
   "source": [
    "zipped = dict(zip(counties, doses))"
   ]
  },
  {
   "cell_type": "code",
   "execution_count": 9,
   "metadata": {
    "execution": {
     "iopub.execute_input": "2021-03-22T23:13:27.541680Z",
     "iopub.status.busy": "2021-03-22T23:13:27.541162Z",
     "iopub.status.idle": "2021-03-22T23:13:27.544487Z",
     "shell.execute_reply": "2021-03-22T23:13:27.544089Z"
    }
   },
   "outputs": [],
   "source": [
    "df = pd.Series(zipped).reset_index()"
   ]
  },
  {
   "cell_type": "code",
   "execution_count": 10,
   "metadata": {
    "execution": {
     "iopub.execute_input": "2021-03-22T23:13:27.548613Z",
     "iopub.status.busy": "2021-03-22T23:13:27.547613Z",
     "iopub.status.idle": "2021-03-22T23:13:27.549365Z",
     "shell.execute_reply": "2021-03-22T23:13:27.549828Z"
    }
   },
   "outputs": [],
   "source": [
    "df.columns = ['location','doses']"
   ]
  },
  {
   "cell_type": "markdown",
   "metadata": {},
   "source": [
    "Grab the overall California total"
   ]
  },
  {
   "cell_type": "code",
   "execution_count": 11,
   "metadata": {
    "execution": {
     "iopub.execute_input": "2021-03-22T23:13:27.554117Z",
     "iopub.status.busy": "2021-03-22T23:13:27.553001Z",
     "iopub.status.idle": "2021-03-22T23:13:27.554710Z",
     "shell.execute_reply": "2021-03-22T23:13:27.555133Z"
    }
   },
   "outputs": [],
   "source": [
    "add = {'location':'California','doses':dataJson[0]['dataValues'][2]}"
   ]
  },
  {
   "cell_type": "code",
   "execution_count": 12,
   "metadata": {
    "execution": {
     "iopub.execute_input": "2021-03-22T23:13:27.561897Z",
     "iopub.status.busy": "2021-03-22T23:13:27.560722Z",
     "iopub.status.idle": "2021-03-22T23:13:27.562498Z",
     "shell.execute_reply": "2021-03-22T23:13:27.562925Z"
    }
   },
   "outputs": [],
   "source": [
    "df = df.append(add, ignore_index=True)"
   ]
  },
  {
   "cell_type": "code",
   "execution_count": 13,
   "metadata": {
    "execution": {
     "iopub.execute_input": "2021-03-22T23:13:27.567824Z",
     "iopub.status.busy": "2021-03-22T23:13:27.566682Z",
     "iopub.status.idle": "2021-03-22T23:13:27.568430Z",
     "shell.execute_reply": "2021-03-22T23:13:27.568888Z"
    }
   },
   "outputs": [],
   "source": [
    "df = df.sort_values(by='location')"
   ]
  },
  {
   "cell_type": "code",
   "execution_count": 14,
   "metadata": {
    "execution": {
     "iopub.execute_input": "2021-03-22T23:13:27.575110Z",
     "iopub.status.busy": "2021-03-22T23:13:27.574017Z",
     "iopub.status.idle": "2021-03-22T23:13:27.575663Z",
     "shell.execute_reply": "2021-03-22T23:13:27.576059Z"
    }
   },
   "outputs": [],
   "source": [
    "df = df[df.location == 'California'].append(df[df.location != 'California']).reset_index(drop=True)"
   ]
  },
  {
   "cell_type": "code",
   "execution_count": null,
   "metadata": {},
   "outputs": [],
   "source": []
  },
  {
   "cell_type": "code",
   "execution_count": 15,
   "metadata": {
    "execution": {
     "iopub.execute_input": "2021-03-22T23:13:27.579186Z",
     "iopub.status.busy": "2021-03-22T23:13:27.578715Z",
     "iopub.status.idle": "2021-03-22T23:13:27.595397Z",
     "shell.execute_reply": "2021-03-22T23:13:27.594885Z"
    }
   },
   "outputs": [],
   "source": [
    "tz = pytz.timezone(\"America/New_York\")"
   ]
  },
  {
   "cell_type": "code",
   "execution_count": 16,
   "metadata": {
    "execution": {
     "iopub.execute_input": "2021-03-22T23:13:27.599411Z",
     "iopub.status.busy": "2021-03-22T23:13:27.598333Z",
     "iopub.status.idle": "2021-03-22T23:13:27.599961Z",
     "shell.execute_reply": "2021-03-22T23:13:27.600400Z"
    }
   },
   "outputs": [],
   "source": [
    "today = datetime.now(tz).date()"
   ]
  },
  {
   "cell_type": "code",
   "execution_count": 17,
   "metadata": {
    "execution": {
     "iopub.execute_input": "2021-03-22T23:13:27.604292Z",
     "iopub.status.busy": "2021-03-22T23:13:27.603431Z",
     "iopub.status.idle": "2021-03-22T23:13:27.605040Z",
     "shell.execute_reply": "2021-03-22T23:13:27.605438Z"
    }
   },
   "outputs": [],
   "source": [
    "data_dir = os.path.join(os.path.abspath(\"\"), \"data\")"
   ]
  },
  {
   "cell_type": "code",
   "execution_count": 18,
   "metadata": {
    "execution": {
     "iopub.execute_input": "2021-03-22T23:13:27.609576Z",
     "iopub.status.busy": "2021-03-22T23:13:27.608272Z",
     "iopub.status.idle": "2021-03-22T23:13:27.617234Z",
     "shell.execute_reply": "2021-03-22T23:13:27.616693Z"
    }
   },
   "outputs": [],
   "source": [
    "df.to_csv(os.path.join(data_dir, f\"{today}.csv\"), index=False)"
   ]
  },
  {
   "cell_type": "code",
   "execution_count": null,
   "metadata": {},
   "outputs": [],
   "source": []
  }
 ],
 "metadata": {
  "kernelspec": {
   "display_name": "Python 3",
   "language": "python",
   "name": "python3"
  },
  "language_info": {
   "codemirror_mode": {
    "name": "ipython",
    "version": 3
   },
   "file_extension": ".py",
   "mimetype": "text/x-python",
   "name": "python",
   "nbconvert_exporter": "python",
   "pygments_lexer": "ipython3",
   "version": "3.8.8"
  }
 },
 "nbformat": 4,
 "nbformat_minor": 4
}
