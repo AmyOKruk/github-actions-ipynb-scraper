{
 "cells": [
  {
   "cell_type": "markdown",
   "metadata": {},
   "source": [
    "# California COVID vaccinations scrape"
   ]
  },
  {
   "cell_type": "markdown",
   "metadata": {},
   "source": [
    "By [Amy O'Kruk](https://twitter.com/amyokruk)"
   ]
  },
  {
   "cell_type": "markdown",
   "metadata": {},
   "source": [
    "Downloads data on vaccine doses administered by county and statewide from a Tableau-powered dashboard from the California Department of Public Health."
   ]
  },
  {
   "cell_type": "code",
   "execution_count": 1,
   "metadata": {
    "execution": {
     "iopub.execute_input": "2021-03-19T20:41:28.698734Z",
     "iopub.status.busy": "2021-03-19T20:41:28.698187Z",
     "iopub.status.idle": "2021-03-19T20:41:29.072540Z",
     "shell.execute_reply": "2021-03-19T20:41:29.071889Z"
    }
   },
   "outputs": [],
   "source": [
    "import pandas as pd\n",
    "import requests\n",
    "from bs4 import BeautifulSoup\n",
    "import json\n",
    "import re\n",
    "import time\n",
    "from time import gmtime, strftime \n",
    "import os\n",
    "import pytz\n",
    "from datetime import datetime"
   ]
  },
  {
   "cell_type": "markdown",
   "metadata": {},
   "source": [
    "Scrape the dashboard page"
   ]
  },
  {
   "cell_type": "code",
   "execution_count": 2,
   "metadata": {
    "execution": {
     "iopub.execute_input": "2021-03-19T20:41:29.078688Z",
     "iopub.status.busy": "2021-03-19T20:41:29.075982Z",
     "iopub.status.idle": "2021-03-19T20:41:29.341115Z",
     "shell.execute_reply": "2021-03-19T20:41:29.340575Z"
    }
   },
   "outputs": [],
   "source": [
    "url = \"https://public.tableau.com/interactive/views/COVID-19VaccineDashboardPublic/Vaccine?:embed=y&:showVizHome=n&:apiID=host0\"\n",
    "\n",
    "r = requests.get(url)\n",
    "soup = BeautifulSoup(r.text, \"html.parser\")"
   ]
  },
  {
   "cell_type": "code",
   "execution_count": 3,
   "metadata": {
    "execution": {
     "iopub.execute_input": "2021-03-19T20:41:29.346331Z",
     "iopub.status.busy": "2021-03-19T20:41:29.345221Z",
     "iopub.status.idle": "2021-03-19T20:41:29.346958Z",
     "shell.execute_reply": "2021-03-19T20:41:29.347386Z"
    }
   },
   "outputs": [],
   "source": [
    "tableauData = json.loads(soup.find(\"textarea\",{\"id\": \"tsConfigContainer\"}).text)"
   ]
  },
  {
   "cell_type": "markdown",
   "metadata": {},
   "source": [
    "Get the link to the Tableau data"
   ]
  },
  {
   "cell_type": "code",
   "execution_count": 4,
   "metadata": {
    "execution": {
     "iopub.execute_input": "2021-03-19T20:41:29.351343Z",
     "iopub.status.busy": "2021-03-19T20:41:29.350303Z",
     "iopub.status.idle": "2021-03-19T20:41:29.352083Z",
     "shell.execute_reply": "2021-03-19T20:41:29.352483Z"
    }
   },
   "outputs": [],
   "source": [
    "dataUrl = f'https://public.tableau.com{tableauData[\"vizql_root\"]}/bootstrapSession/sessions/{tableauData[\"sessionid\"]}'"
   ]
  },
  {
   "cell_type": "code",
   "execution_count": 5,
   "metadata": {
    "execution": {
     "iopub.execute_input": "2021-03-19T20:41:29.358789Z",
     "iopub.status.busy": "2021-03-19T20:41:29.358243Z",
     "iopub.status.idle": "2021-03-19T20:41:29.573714Z",
     "shell.execute_reply": "2021-03-19T20:41:29.572611Z"
    }
   },
   "outputs": [],
   "source": [
    "r = requests.post(dataUrl, data= {\n",
    "    \"sheet_id\": tableauData[\"sheetId\"],\n",
    "})\n",
    "\n",
    "dataReg = re.search('\\d+;({.*})\\d+;({.*})', r.text, re.MULTILINE)\n",
    "data1 = json.loads(dataReg.group(2))\n",
    "\n",
    "dataJson = data1[\"secondaryInfo\"][\"presModelMap\"][\"dataDictionary\"][\"presModelHolder\"][\"genDataDictionaryPresModel\"][\"dataSegments\"][\"0\"][\"dataColumns\"]"
   ]
  },
  {
   "cell_type": "markdown",
   "metadata": {},
   "source": [
    "Isolate what you want"
   ]
  },
  {
   "cell_type": "code",
   "execution_count": 6,
   "metadata": {
    "execution": {
     "iopub.execute_input": "2021-03-19T20:41:29.578766Z",
     "iopub.status.busy": "2021-03-19T20:41:29.578238Z",
     "iopub.status.idle": "2021-03-19T20:41:29.581743Z",
     "shell.execute_reply": "2021-03-19T20:41:29.581284Z"
    }
   },
   "outputs": [],
   "source": [
    "counties = dataJson[2]['dataValues'][:58]"
   ]
  },
  {
   "cell_type": "code",
   "execution_count": 7,
   "metadata": {
    "execution": {
     "iopub.execute_input": "2021-03-19T20:41:29.585589Z",
     "iopub.status.busy": "2021-03-19T20:41:29.584762Z",
     "iopub.status.idle": "2021-03-19T20:41:29.587477Z",
     "shell.execute_reply": "2021-03-19T20:41:29.587043Z"
    }
   },
   "outputs": [],
   "source": [
    "doses = dataJson[0]['dataValues'][3:61]"
   ]
  },
  {
   "cell_type": "markdown",
   "metadata": {},
   "source": [
    "Data formatting"
   ]
  },
  {
   "cell_type": "code",
   "execution_count": 8,
   "metadata": {
    "execution": {
     "iopub.execute_input": "2021-03-19T20:41:29.590680Z",
     "iopub.status.busy": "2021-03-19T20:41:29.590174Z",
     "iopub.status.idle": "2021-03-19T20:41:29.593514Z",
     "shell.execute_reply": "2021-03-19T20:41:29.593940Z"
    }
   },
   "outputs": [],
   "source": [
    "zipped = dict(zip(counties, doses))"
   ]
  },
  {
   "cell_type": "code",
   "execution_count": 9,
   "metadata": {
    "execution": {
     "iopub.execute_input": "2021-03-19T20:41:29.600680Z",
     "iopub.status.busy": "2021-03-19T20:41:29.599835Z",
     "iopub.status.idle": "2021-03-19T20:41:29.601906Z",
     "shell.execute_reply": "2021-03-19T20:41:29.601491Z"
    }
   },
   "outputs": [],
   "source": [
    "df = pd.Series(zipped).reset_index()"
   ]
  },
  {
   "cell_type": "code",
   "execution_count": 10,
   "metadata": {
    "execution": {
     "iopub.execute_input": "2021-03-19T20:41:29.606083Z",
     "iopub.status.busy": "2021-03-19T20:41:29.604861Z",
     "iopub.status.idle": "2021-03-19T20:41:29.606668Z",
     "shell.execute_reply": "2021-03-19T20:41:29.607165Z"
    }
   },
   "outputs": [],
   "source": [
    "df.columns = ['location','doses']"
   ]
  },
  {
   "cell_type": "markdown",
   "metadata": {},
   "source": [
    "Grab the overall California total"
   ]
  },
  {
   "cell_type": "code",
   "execution_count": 11,
   "metadata": {
    "execution": {
     "iopub.execute_input": "2021-03-19T20:41:29.611154Z",
     "iopub.status.busy": "2021-03-19T20:41:29.610014Z",
     "iopub.status.idle": "2021-03-19T20:41:29.611781Z",
     "shell.execute_reply": "2021-03-19T20:41:29.612175Z"
    }
   },
   "outputs": [],
   "source": [
    "add = {'location':'California','doses':dataJson[0]['dataValues'][2]}"
   ]
  },
  {
   "cell_type": "code",
   "execution_count": 12,
   "metadata": {
    "execution": {
     "iopub.execute_input": "2021-03-19T20:41:29.618908Z",
     "iopub.status.busy": "2021-03-19T20:41:29.617788Z",
     "iopub.status.idle": "2021-03-19T20:41:29.619517Z",
     "shell.execute_reply": "2021-03-19T20:41:29.619907Z"
    }
   },
   "outputs": [],
   "source": [
    "df = df.append(add, ignore_index=True)"
   ]
  },
  {
   "cell_type": "code",
   "execution_count": 13,
   "metadata": {
    "execution": {
     "iopub.execute_input": "2021-03-19T20:41:29.625474Z",
     "iopub.status.busy": "2021-03-19T20:41:29.623748Z",
     "iopub.status.idle": "2021-03-19T20:41:29.626098Z",
     "shell.execute_reply": "2021-03-19T20:41:29.626538Z"
    }
   },
   "outputs": [],
   "source": [
    "df = df.sort_values(by='location')"
   ]
  },
  {
   "cell_type": "code",
   "execution_count": 14,
   "metadata": {
    "execution": {
     "iopub.execute_input": "2021-03-19T20:41:29.632406Z",
     "iopub.status.busy": "2021-03-19T20:41:29.631561Z",
     "iopub.status.idle": "2021-03-19T20:41:29.633235Z",
     "shell.execute_reply": "2021-03-19T20:41:29.633651Z"
    }
   },
   "outputs": [],
   "source": [
    "df = df[df.location == 'California'].append(df[df.location != 'California']).reset_index(drop=True)"
   ]
  },
  {
   "cell_type": "code",
   "execution_count": null,
   "metadata": {},
   "outputs": [],
   "source": []
  },
  {
   "cell_type": "code",
   "execution_count": 15,
   "metadata": {
    "execution": {
     "iopub.execute_input": "2021-03-19T20:41:29.636744Z",
     "iopub.status.busy": "2021-03-19T20:41:29.636255Z",
     "iopub.status.idle": "2021-03-19T20:41:29.653469Z",
     "shell.execute_reply": "2021-03-19T20:41:29.653015Z"
    }
   },
   "outputs": [],
   "source": [
    "tz = pytz.timezone(\"America/New_York\")"
   ]
  },
  {
   "cell_type": "code",
   "execution_count": 16,
   "metadata": {
    "execution": {
     "iopub.execute_input": "2021-03-19T20:41:29.657725Z",
     "iopub.status.busy": "2021-03-19T20:41:29.656729Z",
     "iopub.status.idle": "2021-03-19T20:41:29.659071Z",
     "shell.execute_reply": "2021-03-19T20:41:29.658568Z"
    }
   },
   "outputs": [],
   "source": [
    "today = datetime.now(tz).date()"
   ]
  },
  {
   "cell_type": "code",
   "execution_count": 17,
   "metadata": {
    "execution": {
     "iopub.execute_input": "2021-03-19T20:41:29.663233Z",
     "iopub.status.busy": "2021-03-19T20:41:29.662413Z",
     "iopub.status.idle": "2021-03-19T20:41:29.664784Z",
     "shell.execute_reply": "2021-03-19T20:41:29.664341Z"
    }
   },
   "outputs": [],
   "source": [
    "data_dir = os.path.join(os.path.abspath(\"\"), \"data\")"
   ]
  },
  {
   "cell_type": "code",
   "execution_count": 18,
   "metadata": {
    "execution": {
     "iopub.execute_input": "2021-03-19T20:41:29.669251Z",
     "iopub.status.busy": "2021-03-19T20:41:29.667891Z",
     "iopub.status.idle": "2021-03-19T20:41:29.672802Z",
     "shell.execute_reply": "2021-03-19T20:41:29.672329Z"
    }
   },
   "outputs": [],
   "source": [
    "df.to_csv(os.path.join(data_dir, f\"{today}.csv\"), index=False)"
   ]
  },
  {
   "cell_type": "code",
   "execution_count": null,
   "metadata": {},
   "outputs": [],
   "source": []
  }
 ],
 "metadata": {
  "kernelspec": {
   "display_name": "Python 3",
   "language": "python",
   "name": "python3"
  },
  "language_info": {
   "codemirror_mode": {
    "name": "ipython",
    "version": 3
   },
   "file_extension": ".py",
   "mimetype": "text/x-python",
   "name": "python",
   "nbconvert_exporter": "python",
   "pygments_lexer": "ipython3",
   "version": "3.8.8"
  }
 },
 "nbformat": 4,
 "nbformat_minor": 4
}
