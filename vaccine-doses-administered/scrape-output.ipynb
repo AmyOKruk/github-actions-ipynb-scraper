{
 "cells": [
  {
   "cell_type": "markdown",
   "metadata": {},
   "source": [
    "# California COVID vaccinations scrape"
   ]
  },
  {
   "cell_type": "markdown",
   "metadata": {},
   "source": [
    "By [Amy O'Kruk](https://twitter.com/amyokruk)"
   ]
  },
  {
   "cell_type": "markdown",
   "metadata": {},
   "source": [
    "Downloads data on vaccine doses administered by county and statewide from a Tableau-powered dashboard from the California Department of Public Health."
   ]
  },
  {
   "cell_type": "code",
   "execution_count": 1,
   "metadata": {
    "execution": {
     "iopub.execute_input": "2021-03-21T12:59:57.025620Z",
     "iopub.status.busy": "2021-03-21T12:59:57.025040Z",
     "iopub.status.idle": "2021-03-21T12:59:57.439491Z",
     "shell.execute_reply": "2021-03-21T12:59:57.440008Z"
    }
   },
   "outputs": [],
   "source": [
    "import pandas as pd\n",
    "import requests\n",
    "from bs4 import BeautifulSoup\n",
    "import json\n",
    "import re\n",
    "import time\n",
    "from time import gmtime, strftime \n",
    "import os\n",
    "import pytz\n",
    "from datetime import datetime"
   ]
  },
  {
   "cell_type": "markdown",
   "metadata": {},
   "source": [
    "Scrape the dashboard page"
   ]
  },
  {
   "cell_type": "code",
   "execution_count": 2,
   "metadata": {
    "execution": {
     "iopub.execute_input": "2021-03-21T12:59:57.446600Z",
     "iopub.status.busy": "2021-03-21T12:59:57.444173Z",
     "iopub.status.idle": "2021-03-21T12:59:57.726795Z",
     "shell.execute_reply": "2021-03-21T12:59:57.725845Z"
    }
   },
   "outputs": [],
   "source": [
    "url = \"https://public.tableau.com/interactive/views/COVID-19VaccineDashboardPublic/Vaccine?:embed=y&:showVizHome=n&:apiID=host0\"\n",
    "\n",
    "r = requests.get(url)\n",
    "soup = BeautifulSoup(r.text, \"html.parser\")"
   ]
  },
  {
   "cell_type": "code",
   "execution_count": 3,
   "metadata": {
    "execution": {
     "iopub.execute_input": "2021-03-21T12:59:57.731550Z",
     "iopub.status.busy": "2021-03-21T12:59:57.731040Z",
     "iopub.status.idle": "2021-03-21T12:59:57.734556Z",
     "shell.execute_reply": "2021-03-21T12:59:57.735104Z"
    }
   },
   "outputs": [],
   "source": [
    "tableauData = json.loads(soup.find(\"textarea\",{\"id\": \"tsConfigContainer\"}).text)"
   ]
  },
  {
   "cell_type": "markdown",
   "metadata": {},
   "source": [
    "Get the link to the Tableau data"
   ]
  },
  {
   "cell_type": "code",
   "execution_count": 4,
   "metadata": {
    "execution": {
     "iopub.execute_input": "2021-03-21T12:59:57.738628Z",
     "iopub.status.busy": "2021-03-21T12:59:57.738093Z",
     "iopub.status.idle": "2021-03-21T12:59:57.741326Z",
     "shell.execute_reply": "2021-03-21T12:59:57.741749Z"
    }
   },
   "outputs": [],
   "source": [
    "dataUrl = f'https://public.tableau.com{tableauData[\"vizql_root\"]}/bootstrapSession/sessions/{tableauData[\"sessionid\"]}'"
   ]
  },
  {
   "cell_type": "code",
   "execution_count": 5,
   "metadata": {
    "execution": {
     "iopub.execute_input": "2021-03-21T12:59:57.748453Z",
     "iopub.status.busy": "2021-03-21T12:59:57.747796Z",
     "iopub.status.idle": "2021-03-21T12:59:57.957343Z",
     "shell.execute_reply": "2021-03-21T12:59:57.956827Z"
    }
   },
   "outputs": [],
   "source": [
    "r = requests.post(dataUrl, data= {\n",
    "    \"sheet_id\": tableauData[\"sheetId\"],\n",
    "})\n",
    "\n",
    "dataReg = re.search('\\d+;({.*})\\d+;({.*})', r.text, re.MULTILINE)\n",
    "data1 = json.loads(dataReg.group(2))\n",
    "\n",
    "dataJson = data1[\"secondaryInfo\"][\"presModelMap\"][\"dataDictionary\"][\"presModelHolder\"][\"genDataDictionaryPresModel\"][\"dataSegments\"][\"0\"][\"dataColumns\"]"
   ]
  },
  {
   "cell_type": "markdown",
   "metadata": {},
   "source": [
    "Isolate what you want"
   ]
  },
  {
   "cell_type": "code",
   "execution_count": 6,
   "metadata": {
    "execution": {
     "iopub.execute_input": "2021-03-21T12:59:57.961402Z",
     "iopub.status.busy": "2021-03-21T12:59:57.960746Z",
     "iopub.status.idle": "2021-03-21T12:59:57.965209Z",
     "shell.execute_reply": "2021-03-21T12:59:57.964230Z"
    }
   },
   "outputs": [],
   "source": [
    "counties = dataJson[2]['dataValues'][:58]"
   ]
  },
  {
   "cell_type": "code",
   "execution_count": 7,
   "metadata": {
    "execution": {
     "iopub.execute_input": "2021-03-21T12:59:57.969682Z",
     "iopub.status.busy": "2021-03-21T12:59:57.969029Z",
     "iopub.status.idle": "2021-03-21T12:59:57.972829Z",
     "shell.execute_reply": "2021-03-21T12:59:57.973773Z"
    }
   },
   "outputs": [],
   "source": [
    "doses = dataJson[0]['dataValues'][3:61]"
   ]
  },
  {
   "cell_type": "markdown",
   "metadata": {},
   "source": [
    "Data formatting"
   ]
  },
  {
   "cell_type": "code",
   "execution_count": 8,
   "metadata": {
    "execution": {
     "iopub.execute_input": "2021-03-21T12:59:57.977603Z",
     "iopub.status.busy": "2021-03-21T12:59:57.977071Z",
     "iopub.status.idle": "2021-03-21T12:59:57.980878Z",
     "shell.execute_reply": "2021-03-21T12:59:57.980365Z"
    }
   },
   "outputs": [],
   "source": [
    "zipped = dict(zip(counties, doses))"
   ]
  },
  {
   "cell_type": "code",
   "execution_count": 9,
   "metadata": {
    "execution": {
     "iopub.execute_input": "2021-03-21T12:59:57.987697Z",
     "iopub.status.busy": "2021-03-21T12:59:57.987051Z",
     "iopub.status.idle": "2021-03-21T12:59:57.990969Z",
     "shell.execute_reply": "2021-03-21T12:59:57.990433Z"
    }
   },
   "outputs": [],
   "source": [
    "df = pd.Series(zipped).reset_index()"
   ]
  },
  {
   "cell_type": "code",
   "execution_count": 10,
   "metadata": {
    "execution": {
     "iopub.execute_input": "2021-03-21T12:59:57.994723Z",
     "iopub.status.busy": "2021-03-21T12:59:57.994164Z",
     "iopub.status.idle": "2021-03-21T12:59:57.997900Z",
     "shell.execute_reply": "2021-03-21T12:59:57.997446Z"
    }
   },
   "outputs": [],
   "source": [
    "df.columns = ['location','doses']"
   ]
  },
  {
   "cell_type": "markdown",
   "metadata": {},
   "source": [
    "Grab the overall California total"
   ]
  },
  {
   "cell_type": "code",
   "execution_count": 11,
   "metadata": {
    "execution": {
     "iopub.execute_input": "2021-03-21T12:59:58.001823Z",
     "iopub.status.busy": "2021-03-21T12:59:58.001310Z",
     "iopub.status.idle": "2021-03-21T12:59:58.004977Z",
     "shell.execute_reply": "2021-03-21T12:59:58.004420Z"
    }
   },
   "outputs": [],
   "source": [
    "add = {'location':'California','doses':dataJson[0]['dataValues'][2]}"
   ]
  },
  {
   "cell_type": "code",
   "execution_count": 12,
   "metadata": {
    "execution": {
     "iopub.execute_input": "2021-03-21T12:59:58.011787Z",
     "iopub.status.busy": "2021-03-21T12:59:58.011242Z",
     "iopub.status.idle": "2021-03-21T12:59:58.014845Z",
     "shell.execute_reply": "2021-03-21T12:59:58.015393Z"
    }
   },
   "outputs": [],
   "source": [
    "df = df.append(add, ignore_index=True)"
   ]
  },
  {
   "cell_type": "code",
   "execution_count": 13,
   "metadata": {
    "execution": {
     "iopub.execute_input": "2021-03-21T12:59:58.020033Z",
     "iopub.status.busy": "2021-03-21T12:59:58.019443Z",
     "iopub.status.idle": "2021-03-21T12:59:58.023270Z",
     "shell.execute_reply": "2021-03-21T12:59:58.022757Z"
    }
   },
   "outputs": [],
   "source": [
    "df = df.sort_values(by='location')"
   ]
  },
  {
   "cell_type": "code",
   "execution_count": 14,
   "metadata": {
    "execution": {
     "iopub.execute_input": "2021-03-21T12:59:58.029647Z",
     "iopub.status.busy": "2021-03-21T12:59:58.028927Z",
     "iopub.status.idle": "2021-03-21T12:59:58.032987Z",
     "shell.execute_reply": "2021-03-21T12:59:58.032289Z"
    }
   },
   "outputs": [],
   "source": [
    "df = df[df.location == 'California'].append(df[df.location != 'California']).reset_index(drop=True)"
   ]
  },
  {
   "cell_type": "code",
   "execution_count": null,
   "metadata": {},
   "outputs": [],
   "source": []
  },
  {
   "cell_type": "code",
   "execution_count": 15,
   "metadata": {
    "execution": {
     "iopub.execute_input": "2021-03-21T12:59:58.036571Z",
     "iopub.status.busy": "2021-03-21T12:59:58.036050Z",
     "iopub.status.idle": "2021-03-21T12:59:58.056040Z",
     "shell.execute_reply": "2021-03-21T12:59:58.055471Z"
    }
   },
   "outputs": [],
   "source": [
    "tz = pytz.timezone(\"America/New_York\")"
   ]
  },
  {
   "cell_type": "code",
   "execution_count": 16,
   "metadata": {
    "execution": {
     "iopub.execute_input": "2021-03-21T12:59:58.060067Z",
     "iopub.status.busy": "2021-03-21T12:59:58.059545Z",
     "iopub.status.idle": "2021-03-21T12:59:58.062960Z",
     "shell.execute_reply": "2021-03-21T12:59:58.063790Z"
    }
   },
   "outputs": [],
   "source": [
    "today = datetime.now(tz).date()"
   ]
  },
  {
   "cell_type": "code",
   "execution_count": 17,
   "metadata": {
    "execution": {
     "iopub.execute_input": "2021-03-21T12:59:58.067626Z",
     "iopub.status.busy": "2021-03-21T12:59:58.067051Z",
     "iopub.status.idle": "2021-03-21T12:59:58.071176Z",
     "shell.execute_reply": "2021-03-21T12:59:58.070461Z"
    }
   },
   "outputs": [],
   "source": [
    "data_dir = os.path.join(os.path.abspath(\"\"), \"data\")"
   ]
  },
  {
   "cell_type": "code",
   "execution_count": 18,
   "metadata": {
    "execution": {
     "iopub.execute_input": "2021-03-21T12:59:58.075339Z",
     "iopub.status.busy": "2021-03-21T12:59:58.074776Z",
     "iopub.status.idle": "2021-03-21T12:59:58.079884Z",
     "shell.execute_reply": "2021-03-21T12:59:58.079331Z"
    }
   },
   "outputs": [],
   "source": [
    "df.to_csv(os.path.join(data_dir, f\"{today}.csv\"), index=False)"
   ]
  },
  {
   "cell_type": "code",
   "execution_count": null,
   "metadata": {},
   "outputs": [],
   "source": []
  }
 ],
 "metadata": {
  "kernelspec": {
   "display_name": "Python 3",
   "language": "python",
   "name": "python3"
  },
  "language_info": {
   "codemirror_mode": {
    "name": "ipython",
    "version": 3
   },
   "file_extension": ".py",
   "mimetype": "text/x-python",
   "name": "python",
   "nbconvert_exporter": "python",
   "pygments_lexer": "ipython3",
   "version": "3.8.8"
  }
 },
 "nbformat": 4,
 "nbformat_minor": 4
}
