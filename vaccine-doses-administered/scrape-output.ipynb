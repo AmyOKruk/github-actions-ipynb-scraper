{
 "cells": [
  {
   "cell_type": "markdown",
   "metadata": {},
   "source": [
    "# California COVID vaccinations scrape"
   ]
  },
  {
   "cell_type": "markdown",
   "metadata": {},
   "source": [
    "By [Amy O'Kruk](https://twitter.com/amyokruk)"
   ]
  },
  {
   "cell_type": "markdown",
   "metadata": {},
   "source": [
    "Downloads data on vaccine doses administered by county and statewide from a Tableau-powered dashboard from the California Department of Public Health."
   ]
  },
  {
   "cell_type": "code",
   "execution_count": 1,
   "metadata": {
    "execution": {
     "iopub.execute_input": "2021-03-13T01:27:39.448988Z",
     "iopub.status.busy": "2021-03-13T01:27:39.447922Z",
     "iopub.status.idle": "2021-03-13T01:27:39.855689Z",
     "shell.execute_reply": "2021-03-13T01:27:39.854353Z"
    }
   },
   "outputs": [],
   "source": [
    "import pandas as pd\n",
    "import requests\n",
    "from bs4 import BeautifulSoup\n",
    "import json\n",
    "import re\n",
    "import time\n",
    "from time import gmtime, strftime \n",
    "import os\n",
    "import pytz\n",
    "from datetime import datetime"
   ]
  },
  {
   "cell_type": "markdown",
   "metadata": {},
   "source": [
    "Scrape the dashboard page"
   ]
  },
  {
   "cell_type": "code",
   "execution_count": 2,
   "metadata": {
    "execution": {
     "iopub.execute_input": "2021-03-13T01:27:39.861291Z",
     "iopub.status.busy": "2021-03-13T01:27:39.859043Z",
     "iopub.status.idle": "2021-03-13T01:27:40.274456Z",
     "shell.execute_reply": "2021-03-13T01:27:40.273947Z"
    }
   },
   "outputs": [],
   "source": [
    "url = \"https://public.tableau.com/interactive/views/COVID-19VaccineDashboardPublic/Vaccine?:embed=y&:showVizHome=n&:apiID=host0\"\n",
    "\n",
    "r = requests.get(url)\n",
    "soup = BeautifulSoup(r.text, \"html.parser\")"
   ]
  },
  {
   "cell_type": "code",
   "execution_count": 3,
   "metadata": {
    "execution": {
     "iopub.execute_input": "2021-03-13T01:27:40.279654Z",
     "iopub.status.busy": "2021-03-13T01:27:40.279121Z",
     "iopub.status.idle": "2021-03-13T01:27:40.282847Z",
     "shell.execute_reply": "2021-03-13T01:27:40.282423Z"
    }
   },
   "outputs": [],
   "source": [
    "tableauData = json.loads(soup.find(\"textarea\",{\"id\": \"tsConfigContainer\"}).text)"
   ]
  },
  {
   "cell_type": "markdown",
   "metadata": {},
   "source": [
    "Get the link to the Tableau data"
   ]
  },
  {
   "cell_type": "code",
   "execution_count": 4,
   "metadata": {
    "execution": {
     "iopub.execute_input": "2021-03-13T01:27:40.286288Z",
     "iopub.status.busy": "2021-03-13T01:27:40.285806Z",
     "iopub.status.idle": "2021-03-13T01:27:40.288645Z",
     "shell.execute_reply": "2021-03-13T01:27:40.289074Z"
    }
   },
   "outputs": [],
   "source": [
    "dataUrl = f'https://public.tableau.com{tableauData[\"vizql_root\"]}/bootstrapSession/sessions/{tableauData[\"sessionid\"]}'"
   ]
  },
  {
   "cell_type": "code",
   "execution_count": 5,
   "metadata": {
    "execution": {
     "iopub.execute_input": "2021-03-13T01:27:40.295657Z",
     "iopub.status.busy": "2021-03-13T01:27:40.294856Z",
     "iopub.status.idle": "2021-03-13T01:27:40.466522Z",
     "shell.execute_reply": "2021-03-13T01:27:40.465480Z"
    }
   },
   "outputs": [],
   "source": [
    "r = requests.post(dataUrl, data= {\n",
    "    \"sheet_id\": tableauData[\"sheetId\"],\n",
    "})\n",
    "\n",
    "dataReg = re.search('\\d+;({.*})\\d+;({.*})', r.text, re.MULTILINE)\n",
    "data1 = json.loads(dataReg.group(2))\n",
    "\n",
    "dataJson = data1[\"secondaryInfo\"][\"presModelMap\"][\"dataDictionary\"][\"presModelHolder\"][\"genDataDictionaryPresModel\"][\"dataSegments\"][\"0\"][\"dataColumns\"]"
   ]
  },
  {
   "cell_type": "markdown",
   "metadata": {},
   "source": [
    "Isolate what you want"
   ]
  },
  {
   "cell_type": "code",
   "execution_count": 6,
   "metadata": {
    "execution": {
     "iopub.execute_input": "2021-03-13T01:27:40.470200Z",
     "iopub.status.busy": "2021-03-13T01:27:40.469604Z",
     "iopub.status.idle": "2021-03-13T01:27:40.474060Z",
     "shell.execute_reply": "2021-03-13T01:27:40.473184Z"
    }
   },
   "outputs": [],
   "source": [
    "counties = dataJson[2]['dataValues'][:58]"
   ]
  },
  {
   "cell_type": "code",
   "execution_count": 7,
   "metadata": {
    "execution": {
     "iopub.execute_input": "2021-03-13T01:27:40.477268Z",
     "iopub.status.busy": "2021-03-13T01:27:40.476786Z",
     "iopub.status.idle": "2021-03-13T01:27:40.480128Z",
     "shell.execute_reply": "2021-03-13T01:27:40.479690Z"
    }
   },
   "outputs": [],
   "source": [
    "doses = dataJson[0]['dataValues'][3:61]"
   ]
  },
  {
   "cell_type": "markdown",
   "metadata": {},
   "source": [
    "Data formatting"
   ]
  },
  {
   "cell_type": "code",
   "execution_count": 8,
   "metadata": {
    "execution": {
     "iopub.execute_input": "2021-03-13T01:27:40.483158Z",
     "iopub.status.busy": "2021-03-13T01:27:40.482683Z",
     "iopub.status.idle": "2021-03-13T01:27:40.486025Z",
     "shell.execute_reply": "2021-03-13T01:27:40.486435Z"
    }
   },
   "outputs": [],
   "source": [
    "zipped = dict(zip(counties, doses))"
   ]
  },
  {
   "cell_type": "code",
   "execution_count": 9,
   "metadata": {
    "execution": {
     "iopub.execute_input": "2021-03-13T01:27:40.491756Z",
     "iopub.status.busy": "2021-03-13T01:27:40.491273Z",
     "iopub.status.idle": "2021-03-13T01:27:40.494618Z",
     "shell.execute_reply": "2021-03-13T01:27:40.494181Z"
    }
   },
   "outputs": [],
   "source": [
    "df = pd.Series(zipped).reset_index()"
   ]
  },
  {
   "cell_type": "code",
   "execution_count": 10,
   "metadata": {
    "execution": {
     "iopub.execute_input": "2021-03-13T01:27:40.497915Z",
     "iopub.status.busy": "2021-03-13T01:27:40.497437Z",
     "iopub.status.idle": "2021-03-13T01:27:40.501558Z",
     "shell.execute_reply": "2021-03-13T01:27:40.501128Z"
    }
   },
   "outputs": [],
   "source": [
    "df.columns = ['location','doses']"
   ]
  },
  {
   "cell_type": "markdown",
   "metadata": {},
   "source": [
    "Grab the overall California total"
   ]
  },
  {
   "cell_type": "code",
   "execution_count": 11,
   "metadata": {
    "execution": {
     "iopub.execute_input": "2021-03-13T01:27:40.505041Z",
     "iopub.status.busy": "2021-03-13T01:27:40.504526Z",
     "iopub.status.idle": "2021-03-13T01:27:40.508291Z",
     "shell.execute_reply": "2021-03-13T01:27:40.507856Z"
    }
   },
   "outputs": [],
   "source": [
    "add = {'location':'California','doses':dataJson[0]['dataValues'][2]}"
   ]
  },
  {
   "cell_type": "code",
   "execution_count": 12,
   "metadata": {
    "execution": {
     "iopub.execute_input": "2021-03-13T01:27:40.514320Z",
     "iopub.status.busy": "2021-03-13T01:27:40.512177Z",
     "iopub.status.idle": "2021-03-13T01:27:40.517088Z",
     "shell.execute_reply": "2021-03-13T01:27:40.517493Z"
    }
   },
   "outputs": [],
   "source": [
    "df = df.append(add, ignore_index=True)"
   ]
  },
  {
   "cell_type": "code",
   "execution_count": 13,
   "metadata": {
    "execution": {
     "iopub.execute_input": "2021-03-13T01:27:40.521759Z",
     "iopub.status.busy": "2021-03-13T01:27:40.521279Z",
     "iopub.status.idle": "2021-03-13T01:27:40.524654Z",
     "shell.execute_reply": "2021-03-13T01:27:40.524225Z"
    }
   },
   "outputs": [],
   "source": [
    "df = df.sort_values(by='location')"
   ]
  },
  {
   "cell_type": "code",
   "execution_count": 14,
   "metadata": {
    "execution": {
     "iopub.execute_input": "2021-03-13T01:27:40.529976Z",
     "iopub.status.busy": "2021-03-13T01:27:40.529493Z",
     "iopub.status.idle": "2021-03-13T01:27:40.532612Z",
     "shell.execute_reply": "2021-03-13T01:27:40.532185Z"
    }
   },
   "outputs": [],
   "source": [
    "df = df[df.location == 'California'].append(df[df.location != 'California']).reset_index(drop=True)"
   ]
  },
  {
   "cell_type": "code",
   "execution_count": null,
   "metadata": {},
   "outputs": [],
   "source": []
  },
  {
   "cell_type": "code",
   "execution_count": 15,
   "metadata": {
    "execution": {
     "iopub.execute_input": "2021-03-13T01:27:40.536118Z",
     "iopub.status.busy": "2021-03-13T01:27:40.535367Z",
     "iopub.status.idle": "2021-03-13T01:27:40.553435Z",
     "shell.execute_reply": "2021-03-13T01:27:40.552532Z"
    }
   },
   "outputs": [],
   "source": [
    "tz = pytz.timezone(\"America/New_York\")"
   ]
  },
  {
   "cell_type": "code",
   "execution_count": 16,
   "metadata": {
    "execution": {
     "iopub.execute_input": "2021-03-13T01:27:40.556649Z",
     "iopub.status.busy": "2021-03-13T01:27:40.556167Z",
     "iopub.status.idle": "2021-03-13T01:27:40.560025Z",
     "shell.execute_reply": "2021-03-13T01:27:40.559478Z"
    }
   },
   "outputs": [],
   "source": [
    "today = datetime.now(tz).date()"
   ]
  },
  {
   "cell_type": "code",
   "execution_count": 17,
   "metadata": {
    "execution": {
     "iopub.execute_input": "2021-03-13T01:27:40.563382Z",
     "iopub.status.busy": "2021-03-13T01:27:40.562940Z",
     "iopub.status.idle": "2021-03-13T01:27:40.566753Z",
     "shell.execute_reply": "2021-03-13T01:27:40.566303Z"
    }
   },
   "outputs": [],
   "source": [
    "data_dir = os.path.join(os.path.abspath(\"\"), \"data\")"
   ]
  },
  {
   "cell_type": "code",
   "execution_count": 18,
   "metadata": {
    "execution": {
     "iopub.execute_input": "2021-03-13T01:27:40.571680Z",
     "iopub.status.busy": "2021-03-13T01:27:40.570027Z",
     "iopub.status.idle": "2021-03-13T01:27:40.575753Z",
     "shell.execute_reply": "2021-03-13T01:27:40.574894Z"
    }
   },
   "outputs": [],
   "source": [
    "df.to_csv(os.path.join(data_dir, f\"{today}.csv\"), index=False)"
   ]
  },
  {
   "cell_type": "code",
   "execution_count": null,
   "metadata": {},
   "outputs": [],
   "source": []
  }
 ],
 "metadata": {
  "kernelspec": {
   "display_name": "Python 3",
   "language": "python",
   "name": "python3"
  },
  "language_info": {
   "codemirror_mode": {
    "name": "ipython",
    "version": 3
   },
   "file_extension": ".py",
   "mimetype": "text/x-python",
   "name": "python",
   "nbconvert_exporter": "python",
   "pygments_lexer": "ipython3",
   "version": "3.8.8"
  }
 },
 "nbformat": 4,
 "nbformat_minor": 4
}
