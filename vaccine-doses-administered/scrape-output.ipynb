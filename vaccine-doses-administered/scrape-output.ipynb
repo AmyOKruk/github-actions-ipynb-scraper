{
 "cells": [
  {
   "cell_type": "markdown",
   "metadata": {},
   "source": [
    "# California COVID vaccinations scrape"
   ]
  },
  {
   "cell_type": "markdown",
   "metadata": {},
   "source": [
    "By [Amy O'Kruk](https://twitter.com/amyokruk)"
   ]
  },
  {
   "cell_type": "markdown",
   "metadata": {},
   "source": [
    "Downloads data on vaccine doses administered by county and statewide from a Tableau-powered dashboard from the California Department of Public Health."
   ]
  },
  {
   "cell_type": "code",
   "execution_count": 1,
   "metadata": {
    "execution": {
     "iopub.execute_input": "2021-03-24T22:20:59.402731Z",
     "iopub.status.busy": "2021-03-24T22:20:59.402231Z",
     "iopub.status.idle": "2021-03-24T22:20:59.772351Z",
     "shell.execute_reply": "2021-03-24T22:20:59.771222Z"
    }
   },
   "outputs": [],
   "source": [
    "import pandas as pd\n",
    "import requests\n",
    "from bs4 import BeautifulSoup\n",
    "import json\n",
    "import re\n",
    "import time\n",
    "from time import gmtime, strftime \n",
    "import os\n",
    "import pytz\n",
    "from datetime import datetime"
   ]
  },
  {
   "cell_type": "markdown",
   "metadata": {},
   "source": [
    "Scrape the dashboard page"
   ]
  },
  {
   "cell_type": "code",
   "execution_count": 2,
   "metadata": {
    "execution": {
     "iopub.execute_input": "2021-03-24T22:20:59.777597Z",
     "iopub.status.busy": "2021-03-24T22:20:59.775789Z",
     "iopub.status.idle": "2021-03-24T22:21:00.137538Z",
     "shell.execute_reply": "2021-03-24T22:21:00.136556Z"
    }
   },
   "outputs": [],
   "source": [
    "url = \"https://public.tableau.com/interactive/views/COVID-19VaccineDashboardPublic/Vaccine?:embed=y&:showVizHome=n&:apiID=host0\"\n",
    "\n",
    "r = requests.get(url)\n",
    "soup = BeautifulSoup(r.text, \"html.parser\")"
   ]
  },
  {
   "cell_type": "code",
   "execution_count": 3,
   "metadata": {
    "execution": {
     "iopub.execute_input": "2021-03-24T22:21:00.142041Z",
     "iopub.status.busy": "2021-03-24T22:21:00.141502Z",
     "iopub.status.idle": "2021-03-24T22:21:00.144605Z",
     "shell.execute_reply": "2021-03-24T22:21:00.145007Z"
    }
   },
   "outputs": [],
   "source": [
    "tableauData = json.loads(soup.find(\"textarea\",{\"id\": \"tsConfigContainer\"}).text)"
   ]
  },
  {
   "cell_type": "markdown",
   "metadata": {},
   "source": [
    "Get the link to the Tableau data"
   ]
  },
  {
   "cell_type": "code",
   "execution_count": 4,
   "metadata": {
    "execution": {
     "iopub.execute_input": "2021-03-24T22:21:00.148430Z",
     "iopub.status.busy": "2021-03-24T22:21:00.147922Z",
     "iopub.status.idle": "2021-03-24T22:21:00.150726Z",
     "shell.execute_reply": "2021-03-24T22:21:00.151128Z"
    }
   },
   "outputs": [],
   "source": [
    "dataUrl = f'https://public.tableau.com{tableauData[\"vizql_root\"]}/bootstrapSession/sessions/{tableauData[\"sessionid\"]}'"
   ]
  },
  {
   "cell_type": "code",
   "execution_count": 5,
   "metadata": {
    "execution": {
     "iopub.execute_input": "2021-03-24T22:21:00.157478Z",
     "iopub.status.busy": "2021-03-24T22:21:00.156954Z",
     "iopub.status.idle": "2021-03-24T22:21:00.528116Z",
     "shell.execute_reply": "2021-03-24T22:21:00.527508Z"
    }
   },
   "outputs": [],
   "source": [
    "r = requests.post(dataUrl, data= {\n",
    "    \"sheet_id\": tableauData[\"sheetId\"],\n",
    "})\n",
    "\n",
    "dataReg = re.search('\\d+;({.*})\\d+;({.*})', r.text, re.MULTILINE)\n",
    "data1 = json.loads(dataReg.group(2))\n",
    "\n",
    "dataJson = data1[\"secondaryInfo\"][\"presModelMap\"][\"dataDictionary\"][\"presModelHolder\"][\"genDataDictionaryPresModel\"][\"dataSegments\"][\"0\"][\"dataColumns\"]"
   ]
  },
  {
   "cell_type": "markdown",
   "metadata": {},
   "source": [
    "Isolate what you want"
   ]
  },
  {
   "cell_type": "code",
   "execution_count": 6,
   "metadata": {
    "execution": {
     "iopub.execute_input": "2021-03-24T22:21:00.531853Z",
     "iopub.status.busy": "2021-03-24T22:21:00.531362Z",
     "iopub.status.idle": "2021-03-24T22:21:00.534605Z",
     "shell.execute_reply": "2021-03-24T22:21:00.535041Z"
    }
   },
   "outputs": [],
   "source": [
    "counties = dataJson[2]['dataValues'][:58]"
   ]
  },
  {
   "cell_type": "code",
   "execution_count": 7,
   "metadata": {
    "execution": {
     "iopub.execute_input": "2021-03-24T22:21:00.538674Z",
     "iopub.status.busy": "2021-03-24T22:21:00.538172Z",
     "iopub.status.idle": "2021-03-24T22:21:00.541526Z",
     "shell.execute_reply": "2021-03-24T22:21:00.541080Z"
    }
   },
   "outputs": [],
   "source": [
    "doses = dataJson[0]['dataValues'][3:61]"
   ]
  },
  {
   "cell_type": "markdown",
   "metadata": {},
   "source": [
    "Data formatting"
   ]
  },
  {
   "cell_type": "code",
   "execution_count": 8,
   "metadata": {
    "execution": {
     "iopub.execute_input": "2021-03-24T22:21:00.544970Z",
     "iopub.status.busy": "2021-03-24T22:21:00.544456Z",
     "iopub.status.idle": "2021-03-24T22:21:00.547436Z",
     "shell.execute_reply": "2021-03-24T22:21:00.547840Z"
    }
   },
   "outputs": [],
   "source": [
    "zipped = dict(zip(counties, doses))"
   ]
  },
  {
   "cell_type": "code",
   "execution_count": 9,
   "metadata": {
    "execution": {
     "iopub.execute_input": "2021-03-24T22:21:00.553282Z",
     "iopub.status.busy": "2021-03-24T22:21:00.552806Z",
     "iopub.status.idle": "2021-03-24T22:21:00.555875Z",
     "shell.execute_reply": "2021-03-24T22:21:00.555477Z"
    }
   },
   "outputs": [],
   "source": [
    "df = pd.Series(zipped).reset_index()"
   ]
  },
  {
   "cell_type": "code",
   "execution_count": 10,
   "metadata": {
    "execution": {
     "iopub.execute_input": "2021-03-24T22:21:00.559123Z",
     "iopub.status.busy": "2021-03-24T22:21:00.558612Z",
     "iopub.status.idle": "2021-03-24T22:21:00.561901Z",
     "shell.execute_reply": "2021-03-24T22:21:00.561316Z"
    }
   },
   "outputs": [],
   "source": [
    "df.columns = ['location','doses']"
   ]
  },
  {
   "cell_type": "markdown",
   "metadata": {},
   "source": [
    "Grab the overall California total"
   ]
  },
  {
   "cell_type": "code",
   "execution_count": 11,
   "metadata": {
    "execution": {
     "iopub.execute_input": "2021-03-24T22:21:00.565227Z",
     "iopub.status.busy": "2021-03-24T22:21:00.564725Z",
     "iopub.status.idle": "2021-03-24T22:21:00.567743Z",
     "shell.execute_reply": "2021-03-24T22:21:00.567378Z"
    }
   },
   "outputs": [],
   "source": [
    "add = {'location':'California','doses':dataJson[0]['dataValues'][2]}"
   ]
  },
  {
   "cell_type": "code",
   "execution_count": 12,
   "metadata": {
    "execution": {
     "iopub.execute_input": "2021-03-24T22:21:00.573405Z",
     "iopub.status.busy": "2021-03-24T22:21:00.572887Z",
     "iopub.status.idle": "2021-03-24T22:21:00.576169Z",
     "shell.execute_reply": "2021-03-24T22:21:00.575776Z"
    }
   },
   "outputs": [],
   "source": [
    "df = df.append(add, ignore_index=True)"
   ]
  },
  {
   "cell_type": "code",
   "execution_count": 13,
   "metadata": {
    "execution": {
     "iopub.execute_input": "2021-03-24T22:21:00.579850Z",
     "iopub.status.busy": "2021-03-24T22:21:00.579433Z",
     "iopub.status.idle": "2021-03-24T22:21:00.582532Z",
     "shell.execute_reply": "2021-03-24T22:21:00.582163Z"
    }
   },
   "outputs": [],
   "source": [
    "df = df.sort_values(by='location')"
   ]
  },
  {
   "cell_type": "code",
   "execution_count": 14,
   "metadata": {
    "execution": {
     "iopub.execute_input": "2021-03-24T22:21:00.587727Z",
     "iopub.status.busy": "2021-03-24T22:21:00.587255Z",
     "iopub.status.idle": "2021-03-24T22:21:00.590569Z",
     "shell.execute_reply": "2021-03-24T22:21:00.589957Z"
    }
   },
   "outputs": [],
   "source": [
    "df = df[df.location == 'California'].append(df[df.location != 'California']).reset_index(drop=True)"
   ]
  },
  {
   "cell_type": "code",
   "execution_count": null,
   "metadata": {},
   "outputs": [],
   "source": []
  },
  {
   "cell_type": "code",
   "execution_count": 15,
   "metadata": {
    "execution": {
     "iopub.execute_input": "2021-03-24T22:21:00.593801Z",
     "iopub.status.busy": "2021-03-24T22:21:00.593288Z",
     "iopub.status.idle": "2021-03-24T22:21:00.611583Z",
     "shell.execute_reply": "2021-03-24T22:21:00.611156Z"
    }
   },
   "outputs": [],
   "source": [
    "tz = pytz.timezone(\"America/New_York\")"
   ]
  },
  {
   "cell_type": "code",
   "execution_count": 16,
   "metadata": {
    "execution": {
     "iopub.execute_input": "2021-03-24T22:21:00.614990Z",
     "iopub.status.busy": "2021-03-24T22:21:00.614571Z",
     "iopub.status.idle": "2021-03-24T22:21:00.617349Z",
     "shell.execute_reply": "2021-03-24T22:21:00.617759Z"
    }
   },
   "outputs": [],
   "source": [
    "today = datetime.now(tz).date()"
   ]
  },
  {
   "cell_type": "code",
   "execution_count": 17,
   "metadata": {
    "execution": {
     "iopub.execute_input": "2021-03-24T22:21:00.621185Z",
     "iopub.status.busy": "2021-03-24T22:21:00.620711Z",
     "iopub.status.idle": "2021-03-24T22:21:00.623495Z",
     "shell.execute_reply": "2021-03-24T22:21:00.623957Z"
    }
   },
   "outputs": [],
   "source": [
    "data_dir = os.path.join(os.path.abspath(\"\"), \"data\")"
   ]
  },
  {
   "cell_type": "code",
   "execution_count": 18,
   "metadata": {
    "execution": {
     "iopub.execute_input": "2021-03-24T22:21:00.627689Z",
     "iopub.status.busy": "2021-03-24T22:21:00.627172Z",
     "iopub.status.idle": "2021-03-24T22:21:00.632313Z",
     "shell.execute_reply": "2021-03-24T22:21:00.632749Z"
    }
   },
   "outputs": [],
   "source": [
    "df.to_csv(os.path.join(data_dir, f\"{today}.csv\"), index=False)"
   ]
  },
  {
   "cell_type": "code",
   "execution_count": null,
   "metadata": {},
   "outputs": [],
   "source": []
  }
 ],
 "metadata": {
  "kernelspec": {
   "display_name": "Python 3",
   "language": "python",
   "name": "python3"
  },
  "language_info": {
   "codemirror_mode": {
    "name": "ipython",
    "version": 3
   },
   "file_extension": ".py",
   "mimetype": "text/x-python",
   "name": "python",
   "nbconvert_exporter": "python",
   "pygments_lexer": "ipython3",
   "version": "3.8.8"
  }
 },
 "nbformat": 4,
 "nbformat_minor": 4
}
