{
 "cells": [
  {
   "cell_type": "markdown",
   "metadata": {},
   "source": [
    "# California COVID vaccinations scrape"
   ]
  },
  {
   "cell_type": "markdown",
   "metadata": {},
   "source": [
    "By [Amy O'Kruk](https://twitter.com/amyokruk)"
   ]
  },
  {
   "cell_type": "markdown",
   "metadata": {},
   "source": [
    "Downloads data on vaccine doses administered by county and statewide from a Tableau-powered dashboard from the California Department of Public Health."
   ]
  },
  {
   "cell_type": "code",
   "execution_count": 1,
   "metadata": {
    "execution": {
     "iopub.execute_input": "2021-03-24T06:22:47.491615Z",
     "iopub.status.busy": "2021-03-24T06:22:47.490896Z",
     "iopub.status.idle": "2021-03-24T06:22:47.945384Z",
     "shell.execute_reply": "2021-03-24T06:22:47.944731Z"
    }
   },
   "outputs": [],
   "source": [
    "import pandas as pd\n",
    "import requests\n",
    "from bs4 import BeautifulSoup\n",
    "import json\n",
    "import re\n",
    "import time\n",
    "from time import gmtime, strftime \n",
    "import os\n",
    "import pytz\n",
    "from datetime import datetime"
   ]
  },
  {
   "cell_type": "markdown",
   "metadata": {},
   "source": [
    "Scrape the dashboard page"
   ]
  },
  {
   "cell_type": "code",
   "execution_count": 2,
   "metadata": {
    "execution": {
     "iopub.execute_input": "2021-03-24T06:22:47.952438Z",
     "iopub.status.busy": "2021-03-24T06:22:47.951785Z",
     "iopub.status.idle": "2021-03-24T06:22:48.777459Z",
     "shell.execute_reply": "2021-03-24T06:22:48.778047Z"
    }
   },
   "outputs": [],
   "source": [
    "url = \"https://public.tableau.com/interactive/views/COVID-19VaccineDashboardPublic/Vaccine?:embed=y&:showVizHome=n&:apiID=host0\"\n",
    "\n",
    "r = requests.get(url)\n",
    "soup = BeautifulSoup(r.text, \"html.parser\")"
   ]
  },
  {
   "cell_type": "code",
   "execution_count": 3,
   "metadata": {
    "execution": {
     "iopub.execute_input": "2021-03-24T06:22:48.785016Z",
     "iopub.status.busy": "2021-03-24T06:22:48.783431Z",
     "iopub.status.idle": "2021-03-24T06:22:48.785714Z",
     "shell.execute_reply": "2021-03-24T06:22:48.786249Z"
    }
   },
   "outputs": [],
   "source": [
    "tableauData = json.loads(soup.find(\"textarea\",{\"id\": \"tsConfigContainer\"}).text)"
   ]
  },
  {
   "cell_type": "markdown",
   "metadata": {},
   "source": [
    "Get the link to the Tableau data"
   ]
  },
  {
   "cell_type": "code",
   "execution_count": 4,
   "metadata": {
    "execution": {
     "iopub.execute_input": "2021-03-24T06:22:48.791466Z",
     "iopub.status.busy": "2021-03-24T06:22:48.789945Z",
     "iopub.status.idle": "2021-03-24T06:22:48.792222Z",
     "shell.execute_reply": "2021-03-24T06:22:48.792779Z"
    }
   },
   "outputs": [],
   "source": [
    "dataUrl = f'https://public.tableau.com{tableauData[\"vizql_root\"]}/bootstrapSession/sessions/{tableauData[\"sessionid\"]}'"
   ]
  },
  {
   "cell_type": "code",
   "execution_count": 5,
   "metadata": {
    "execution": {
     "iopub.execute_input": "2021-03-24T06:22:48.801251Z",
     "iopub.status.busy": "2021-03-24T06:22:48.800199Z",
     "iopub.status.idle": "2021-03-24T06:22:49.451725Z",
     "shell.execute_reply": "2021-03-24T06:22:49.451047Z"
    }
   },
   "outputs": [],
   "source": [
    "r = requests.post(dataUrl, data= {\n",
    "    \"sheet_id\": tableauData[\"sheetId\"],\n",
    "})\n",
    "\n",
    "dataReg = re.search('\\d+;({.*})\\d+;({.*})', r.text, re.MULTILINE)\n",
    "data1 = json.loads(dataReg.group(2))\n",
    "\n",
    "dataJson = data1[\"secondaryInfo\"][\"presModelMap\"][\"dataDictionary\"][\"presModelHolder\"][\"genDataDictionaryPresModel\"][\"dataSegments\"][\"0\"][\"dataColumns\"]"
   ]
  },
  {
   "cell_type": "markdown",
   "metadata": {},
   "source": [
    "Isolate what you want"
   ]
  },
  {
   "cell_type": "code",
   "execution_count": 6,
   "metadata": {
    "execution": {
     "iopub.execute_input": "2021-03-24T06:22:49.458252Z",
     "iopub.status.busy": "2021-03-24T06:22:49.457564Z",
     "iopub.status.idle": "2021-03-24T06:22:49.464991Z",
     "shell.execute_reply": "2021-03-24T06:22:49.463284Z"
    }
   },
   "outputs": [],
   "source": [
    "counties = dataJson[2]['dataValues'][:58]"
   ]
  },
  {
   "cell_type": "code",
   "execution_count": 7,
   "metadata": {
    "execution": {
     "iopub.execute_input": "2021-03-24T06:22:49.471237Z",
     "iopub.status.busy": "2021-03-24T06:22:49.470599Z",
     "iopub.status.idle": "2021-03-24T06:22:49.476226Z",
     "shell.execute_reply": "2021-03-24T06:22:49.474460Z"
    }
   },
   "outputs": [],
   "source": [
    "doses = dataJson[0]['dataValues'][3:61]"
   ]
  },
  {
   "cell_type": "markdown",
   "metadata": {},
   "source": [
    "Data formatting"
   ]
  },
  {
   "cell_type": "code",
   "execution_count": 8,
   "metadata": {
    "execution": {
     "iopub.execute_input": "2021-03-24T06:22:49.480251Z",
     "iopub.status.busy": "2021-03-24T06:22:49.479649Z",
     "iopub.status.idle": "2021-03-24T06:22:49.483992Z",
     "shell.execute_reply": "2021-03-24T06:22:49.483456Z"
    }
   },
   "outputs": [],
   "source": [
    "zipped = dict(zip(counties, doses))"
   ]
  },
  {
   "cell_type": "code",
   "execution_count": 9,
   "metadata": {
    "execution": {
     "iopub.execute_input": "2021-03-24T06:22:49.490533Z",
     "iopub.status.busy": "2021-03-24T06:22:49.489886Z",
     "iopub.status.idle": "2021-03-24T06:22:49.494212Z",
     "shell.execute_reply": "2021-03-24T06:22:49.494725Z"
    }
   },
   "outputs": [],
   "source": [
    "df = pd.Series(zipped).reset_index()"
   ]
  },
  {
   "cell_type": "code",
   "execution_count": 10,
   "metadata": {
    "execution": {
     "iopub.execute_input": "2021-03-24T06:22:49.499275Z",
     "iopub.status.busy": "2021-03-24T06:22:49.498654Z",
     "iopub.status.idle": "2021-03-24T06:22:49.503092Z",
     "shell.execute_reply": "2021-03-24T06:22:49.502109Z"
    }
   },
   "outputs": [],
   "source": [
    "df.columns = ['location','doses']"
   ]
  },
  {
   "cell_type": "markdown",
   "metadata": {},
   "source": [
    "Grab the overall California total"
   ]
  },
  {
   "cell_type": "code",
   "execution_count": 11,
   "metadata": {
    "execution": {
     "iopub.execute_input": "2021-03-24T06:22:49.508415Z",
     "iopub.status.busy": "2021-03-24T06:22:49.507595Z",
     "iopub.status.idle": "2021-03-24T06:22:49.512727Z",
     "shell.execute_reply": "2021-03-24T06:22:49.511841Z"
    }
   },
   "outputs": [],
   "source": [
    "add = {'location':'California','doses':dataJson[0]['dataValues'][2]}"
   ]
  },
  {
   "cell_type": "code",
   "execution_count": 12,
   "metadata": {
    "execution": {
     "iopub.execute_input": "2021-03-24T06:22:49.524428Z",
     "iopub.status.busy": "2021-03-24T06:22:49.522971Z",
     "iopub.status.idle": "2021-03-24T06:22:49.525138Z",
     "shell.execute_reply": "2021-03-24T06:22:49.525637Z"
    }
   },
   "outputs": [],
   "source": [
    "df = df.append(add, ignore_index=True)"
   ]
  },
  {
   "cell_type": "code",
   "execution_count": 13,
   "metadata": {
    "execution": {
     "iopub.execute_input": "2021-03-24T06:22:49.532348Z",
     "iopub.status.busy": "2021-03-24T06:22:49.531219Z",
     "iopub.status.idle": "2021-03-24T06:22:49.533759Z",
     "shell.execute_reply": "2021-03-24T06:22:49.534231Z"
    }
   },
   "outputs": [],
   "source": [
    "df = df.sort_values(by='location')"
   ]
  },
  {
   "cell_type": "code",
   "execution_count": 14,
   "metadata": {
    "execution": {
     "iopub.execute_input": "2021-03-24T06:22:49.541398Z",
     "iopub.status.busy": "2021-03-24T06:22:49.540828Z",
     "iopub.status.idle": "2021-03-24T06:22:49.543405Z",
     "shell.execute_reply": "2021-03-24T06:22:49.543914Z"
    }
   },
   "outputs": [],
   "source": [
    "df = df[df.location == 'California'].append(df[df.location != 'California']).reset_index(drop=True)"
   ]
  },
  {
   "cell_type": "code",
   "execution_count": null,
   "metadata": {},
   "outputs": [],
   "source": []
  },
  {
   "cell_type": "code",
   "execution_count": 15,
   "metadata": {
    "execution": {
     "iopub.execute_input": "2021-03-24T06:22:49.549391Z",
     "iopub.status.busy": "2021-03-24T06:22:49.548794Z",
     "iopub.status.idle": "2021-03-24T06:22:49.572777Z",
     "shell.execute_reply": "2021-03-24T06:22:49.571997Z"
    }
   },
   "outputs": [],
   "source": [
    "tz = pytz.timezone(\"America/New_York\")"
   ]
  },
  {
   "cell_type": "code",
   "execution_count": 16,
   "metadata": {
    "execution": {
     "iopub.execute_input": "2021-03-24T06:22:49.578253Z",
     "iopub.status.busy": "2021-03-24T06:22:49.576820Z",
     "iopub.status.idle": "2021-03-24T06:22:49.579004Z",
     "shell.execute_reply": "2021-03-24T06:22:49.579524Z"
    }
   },
   "outputs": [],
   "source": [
    "today = datetime.now(tz).date()"
   ]
  },
  {
   "cell_type": "code",
   "execution_count": 17,
   "metadata": {
    "execution": {
     "iopub.execute_input": "2021-03-24T06:22:49.584843Z",
     "iopub.status.busy": "2021-03-24T06:22:49.583245Z",
     "iopub.status.idle": "2021-03-24T06:22:49.585535Z",
     "shell.execute_reply": "2021-03-24T06:22:49.586046Z"
    }
   },
   "outputs": [],
   "source": [
    "data_dir = os.path.join(os.path.abspath(\"\"), \"data\")"
   ]
  },
  {
   "cell_type": "code",
   "execution_count": 18,
   "metadata": {
    "execution": {
     "iopub.execute_input": "2021-03-24T06:22:49.590792Z",
     "iopub.status.busy": "2021-03-24T06:22:49.589576Z",
     "iopub.status.idle": "2021-03-24T06:22:49.619004Z",
     "shell.execute_reply": "2021-03-24T06:22:49.619475Z"
    }
   },
   "outputs": [],
   "source": [
    "df.to_csv(os.path.join(data_dir, f\"{today}.csv\"), index=False)"
   ]
  },
  {
   "cell_type": "code",
   "execution_count": null,
   "metadata": {},
   "outputs": [],
   "source": []
  }
 ],
 "metadata": {
  "kernelspec": {
   "display_name": "Python 3",
   "language": "python",
   "name": "python3"
  },
  "language_info": {
   "codemirror_mode": {
    "name": "ipython",
    "version": 3
   },
   "file_extension": ".py",
   "mimetype": "text/x-python",
   "name": "python",
   "nbconvert_exporter": "python",
   "pygments_lexer": "ipython3",
   "version": "3.8.8"
  }
 },
 "nbformat": 4,
 "nbformat_minor": 4
}
