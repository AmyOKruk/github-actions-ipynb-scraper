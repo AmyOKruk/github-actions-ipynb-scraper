{
 "cells": [
  {
   "cell_type": "markdown",
   "metadata": {},
   "source": [
    "# California COVID vaccinations scrape"
   ]
  },
  {
   "cell_type": "markdown",
   "metadata": {},
   "source": [
    "By [Amy O'Kruk](https://twitter.com/amyokruk)"
   ]
  },
  {
   "cell_type": "markdown",
   "metadata": {},
   "source": [
    "Downloads data on vaccine doses administered by county and statewide from a Tableau-powered dashboard from the California Department of Public Health."
   ]
  },
  {
   "cell_type": "code",
   "execution_count": 1,
   "metadata": {
    "execution": {
     "iopub.execute_input": "2021-03-20T02:18:30.632338Z",
     "iopub.status.busy": "2021-03-20T02:18:30.631288Z",
     "iopub.status.idle": "2021-03-20T02:18:31.023348Z",
     "shell.execute_reply": "2021-03-20T02:18:31.022785Z"
    }
   },
   "outputs": [],
   "source": [
    "import pandas as pd\n",
    "import requests\n",
    "from bs4 import BeautifulSoup\n",
    "import json\n",
    "import re\n",
    "import time\n",
    "from time import gmtime, strftime \n",
    "import os\n",
    "import pytz\n",
    "from datetime import datetime"
   ]
  },
  {
   "cell_type": "markdown",
   "metadata": {},
   "source": [
    "Scrape the dashboard page"
   ]
  },
  {
   "cell_type": "code",
   "execution_count": 2,
   "metadata": {
    "execution": {
     "iopub.execute_input": "2021-03-20T02:18:31.029423Z",
     "iopub.status.busy": "2021-03-20T02:18:31.028425Z",
     "iopub.status.idle": "2021-03-20T02:18:31.286352Z",
     "shell.execute_reply": "2021-03-20T02:18:31.285864Z"
    }
   },
   "outputs": [],
   "source": [
    "url = \"https://public.tableau.com/interactive/views/COVID-19VaccineDashboardPublic/Vaccine?:embed=y&:showVizHome=n&:apiID=host0\"\n",
    "\n",
    "r = requests.get(url)\n",
    "soup = BeautifulSoup(r.text, \"html.parser\")"
   ]
  },
  {
   "cell_type": "code",
   "execution_count": 3,
   "metadata": {
    "execution": {
     "iopub.execute_input": "2021-03-20T02:18:31.291113Z",
     "iopub.status.busy": "2021-03-20T02:18:31.290591Z",
     "iopub.status.idle": "2021-03-20T02:18:31.293652Z",
     "shell.execute_reply": "2021-03-20T02:18:31.294073Z"
    }
   },
   "outputs": [],
   "source": [
    "tableauData = json.loads(soup.find(\"textarea\",{\"id\": \"tsConfigContainer\"}).text)"
   ]
  },
  {
   "cell_type": "markdown",
   "metadata": {},
   "source": [
    "Get the link to the Tableau data"
   ]
  },
  {
   "cell_type": "code",
   "execution_count": 4,
   "metadata": {
    "execution": {
     "iopub.execute_input": "2021-03-20T02:18:31.297954Z",
     "iopub.status.busy": "2021-03-20T02:18:31.297004Z",
     "iopub.status.idle": "2021-03-20T02:18:31.298824Z",
     "shell.execute_reply": "2021-03-20T02:18:31.299247Z"
    }
   },
   "outputs": [],
   "source": [
    "dataUrl = f'https://public.tableau.com{tableauData[\"vizql_root\"]}/bootstrapSession/sessions/{tableauData[\"sessionid\"]}'"
   ]
  },
  {
   "cell_type": "code",
   "execution_count": 5,
   "metadata": {
    "execution": {
     "iopub.execute_input": "2021-03-20T02:18:31.306227Z",
     "iopub.status.busy": "2021-03-20T02:18:31.305674Z",
     "iopub.status.idle": "2021-03-20T02:18:31.488034Z",
     "shell.execute_reply": "2021-03-20T02:18:31.487520Z"
    }
   },
   "outputs": [],
   "source": [
    "r = requests.post(dataUrl, data= {\n",
    "    \"sheet_id\": tableauData[\"sheetId\"],\n",
    "})\n",
    "\n",
    "dataReg = re.search('\\d+;({.*})\\d+;({.*})', r.text, re.MULTILINE)\n",
    "data1 = json.loads(dataReg.group(2))\n",
    "\n",
    "dataJson = data1[\"secondaryInfo\"][\"presModelMap\"][\"dataDictionary\"][\"presModelHolder\"][\"genDataDictionaryPresModel\"][\"dataSegments\"][\"0\"][\"dataColumns\"]"
   ]
  },
  {
   "cell_type": "markdown",
   "metadata": {},
   "source": [
    "Isolate what you want"
   ]
  },
  {
   "cell_type": "code",
   "execution_count": 6,
   "metadata": {
    "execution": {
     "iopub.execute_input": "2021-03-20T02:18:31.491712Z",
     "iopub.status.busy": "2021-03-20T02:18:31.491189Z",
     "iopub.status.idle": "2021-03-20T02:18:31.494088Z",
     "shell.execute_reply": "2021-03-20T02:18:31.494472Z"
    }
   },
   "outputs": [],
   "source": [
    "counties = dataJson[2]['dataValues'][:58]"
   ]
  },
  {
   "cell_type": "code",
   "execution_count": 7,
   "metadata": {
    "execution": {
     "iopub.execute_input": "2021-03-20T02:18:31.498329Z",
     "iopub.status.busy": "2021-03-20T02:18:31.497304Z",
     "iopub.status.idle": "2021-03-20T02:18:31.499202Z",
     "shell.execute_reply": "2021-03-20T02:18:31.499603Z"
    }
   },
   "outputs": [],
   "source": [
    "doses = dataJson[0]['dataValues'][3:61]"
   ]
  },
  {
   "cell_type": "markdown",
   "metadata": {},
   "source": [
    "Data formatting"
   ]
  },
  {
   "cell_type": "code",
   "execution_count": 8,
   "metadata": {
    "execution": {
     "iopub.execute_input": "2021-03-20T02:18:31.503651Z",
     "iopub.status.busy": "2021-03-20T02:18:31.502548Z",
     "iopub.status.idle": "2021-03-20T02:18:31.504256Z",
     "shell.execute_reply": "2021-03-20T02:18:31.504679Z"
    }
   },
   "outputs": [],
   "source": [
    "zipped = dict(zip(counties, doses))"
   ]
  },
  {
   "cell_type": "code",
   "execution_count": 9,
   "metadata": {
    "execution": {
     "iopub.execute_input": "2021-03-20T02:18:31.511045Z",
     "iopub.status.busy": "2021-03-20T02:18:31.509861Z",
     "iopub.status.idle": "2021-03-20T02:18:31.511704Z",
     "shell.execute_reply": "2021-03-20T02:18:31.512131Z"
    }
   },
   "outputs": [],
   "source": [
    "df = pd.Series(zipped).reset_index()"
   ]
  },
  {
   "cell_type": "code",
   "execution_count": 10,
   "metadata": {
    "execution": {
     "iopub.execute_input": "2021-03-20T02:18:31.516117Z",
     "iopub.status.busy": "2021-03-20T02:18:31.515255Z",
     "iopub.status.idle": "2021-03-20T02:18:31.516924Z",
     "shell.execute_reply": "2021-03-20T02:18:31.517317Z"
    }
   },
   "outputs": [],
   "source": [
    "df.columns = ['location','doses']"
   ]
  },
  {
   "cell_type": "markdown",
   "metadata": {},
   "source": [
    "Grab the overall California total"
   ]
  },
  {
   "cell_type": "code",
   "execution_count": 11,
   "metadata": {
    "execution": {
     "iopub.execute_input": "2021-03-20T02:18:31.521808Z",
     "iopub.status.busy": "2021-03-20T02:18:31.520445Z",
     "iopub.status.idle": "2021-03-20T02:18:31.522428Z",
     "shell.execute_reply": "2021-03-20T02:18:31.522913Z"
    }
   },
   "outputs": [],
   "source": [
    "add = {'location':'California','doses':dataJson[0]['dataValues'][2]}"
   ]
  },
  {
   "cell_type": "code",
   "execution_count": 12,
   "metadata": {
    "execution": {
     "iopub.execute_input": "2021-03-20T02:18:31.529694Z",
     "iopub.status.busy": "2021-03-20T02:18:31.528535Z",
     "iopub.status.idle": "2021-03-20T02:18:31.530327Z",
     "shell.execute_reply": "2021-03-20T02:18:31.530720Z"
    }
   },
   "outputs": [],
   "source": [
    "df = df.append(add, ignore_index=True)"
   ]
  },
  {
   "cell_type": "code",
   "execution_count": 13,
   "metadata": {
    "execution": {
     "iopub.execute_input": "2021-03-20T02:18:31.535316Z",
     "iopub.status.busy": "2021-03-20T02:18:31.534198Z",
     "iopub.status.idle": "2021-03-20T02:18:31.535928Z",
     "shell.execute_reply": "2021-03-20T02:18:31.536351Z"
    }
   },
   "outputs": [],
   "source": [
    "df = df.sort_values(by='location')"
   ]
  },
  {
   "cell_type": "code",
   "execution_count": 14,
   "metadata": {
    "execution": {
     "iopub.execute_input": "2021-03-20T02:18:31.542597Z",
     "iopub.status.busy": "2021-03-20T02:18:31.541557Z",
     "iopub.status.idle": "2021-03-20T02:18:31.543157Z",
     "shell.execute_reply": "2021-03-20T02:18:31.543550Z"
    }
   },
   "outputs": [],
   "source": [
    "df = df[df.location == 'California'].append(df[df.location != 'California']).reset_index(drop=True)"
   ]
  },
  {
   "cell_type": "code",
   "execution_count": null,
   "metadata": {},
   "outputs": [],
   "source": []
  },
  {
   "cell_type": "code",
   "execution_count": 15,
   "metadata": {
    "execution": {
     "iopub.execute_input": "2021-03-20T02:18:31.546949Z",
     "iopub.status.busy": "2021-03-20T02:18:31.546432Z",
     "iopub.status.idle": "2021-03-20T02:18:31.563070Z",
     "shell.execute_reply": "2021-03-20T02:18:31.562664Z"
    }
   },
   "outputs": [],
   "source": [
    "tz = pytz.timezone(\"America/New_York\")"
   ]
  },
  {
   "cell_type": "code",
   "execution_count": 16,
   "metadata": {
    "execution": {
     "iopub.execute_input": "2021-03-20T02:18:31.567121Z",
     "iopub.status.busy": "2021-03-20T02:18:31.566047Z",
     "iopub.status.idle": "2021-03-20T02:18:31.567718Z",
     "shell.execute_reply": "2021-03-20T02:18:31.568141Z"
    }
   },
   "outputs": [],
   "source": [
    "today = datetime.now(tz).date()"
   ]
  },
  {
   "cell_type": "code",
   "execution_count": 17,
   "metadata": {
    "execution": {
     "iopub.execute_input": "2021-03-20T02:18:31.572550Z",
     "iopub.status.busy": "2021-03-20T02:18:31.571376Z",
     "iopub.status.idle": "2021-03-20T02:18:31.573110Z",
     "shell.execute_reply": "2021-03-20T02:18:31.573512Z"
    }
   },
   "outputs": [],
   "source": [
    "data_dir = os.path.join(os.path.abspath(\"\"), \"data\")"
   ]
  },
  {
   "cell_type": "code",
   "execution_count": 18,
   "metadata": {
    "execution": {
     "iopub.execute_input": "2021-03-20T02:18:31.577547Z",
     "iopub.status.busy": "2021-03-20T02:18:31.576556Z",
     "iopub.status.idle": "2021-03-20T02:18:31.580903Z",
     "shell.execute_reply": "2021-03-20T02:18:31.580399Z"
    }
   },
   "outputs": [],
   "source": [
    "df.to_csv(os.path.join(data_dir, f\"{today}.csv\"), index=False)"
   ]
  },
  {
   "cell_type": "code",
   "execution_count": null,
   "metadata": {},
   "outputs": [],
   "source": []
  }
 ],
 "metadata": {
  "kernelspec": {
   "display_name": "Python 3",
   "language": "python",
   "name": "python3"
  },
  "language_info": {
   "codemirror_mode": {
    "name": "ipython",
    "version": 3
   },
   "file_extension": ".py",
   "mimetype": "text/x-python",
   "name": "python",
   "nbconvert_exporter": "python",
   "pygments_lexer": "ipython3",
   "version": "3.8.8"
  }
 },
 "nbformat": 4,
 "nbformat_minor": 4
}
