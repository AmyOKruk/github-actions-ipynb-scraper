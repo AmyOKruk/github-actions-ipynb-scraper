{
 "cells": [
  {
   "cell_type": "markdown",
   "metadata": {},
   "source": [
    "# California COVID vaccinations scrape"
   ]
  },
  {
   "cell_type": "markdown",
   "metadata": {},
   "source": [
    "By [Amy O'Kruk](https://twitter.com/amyokruk)"
   ]
  },
  {
   "cell_type": "markdown",
   "metadata": {},
   "source": [
    "Downloads data on vaccine doses administered by county and statewide from a Tableau-powered dashboard from the California Department of Public Health."
   ]
  },
  {
   "cell_type": "code",
   "execution_count": 1,
   "metadata": {
    "execution": {
     "iopub.execute_input": "2021-03-16T07:39:33.323376Z",
     "iopub.status.busy": "2021-03-16T07:39:33.322802Z",
     "iopub.status.idle": "2021-03-16T07:39:33.704919Z",
     "shell.execute_reply": "2021-03-16T07:39:33.704194Z"
    }
   },
   "outputs": [],
   "source": [
    "import pandas as pd\n",
    "import requests\n",
    "from bs4 import BeautifulSoup\n",
    "import json\n",
    "import re\n",
    "import time\n",
    "from time import gmtime, strftime \n",
    "import os\n",
    "import pytz\n",
    "from datetime import datetime"
   ]
  },
  {
   "cell_type": "markdown",
   "metadata": {},
   "source": [
    "Scrape the dashboard page"
   ]
  },
  {
   "cell_type": "code",
   "execution_count": 2,
   "metadata": {
    "execution": {
     "iopub.execute_input": "2021-03-16T07:39:33.710186Z",
     "iopub.status.busy": "2021-03-16T07:39:33.708033Z",
     "iopub.status.idle": "2021-03-16T07:39:34.240400Z",
     "shell.execute_reply": "2021-03-16T07:39:34.239561Z"
    }
   },
   "outputs": [],
   "source": [
    "url = \"https://public.tableau.com/interactive/views/COVID-19VaccineDashboardPublic/Vaccine?:embed=y&:showVizHome=n&:apiID=host0\"\n",
    "\n",
    "r = requests.get(url)\n",
    "soup = BeautifulSoup(r.text, \"html.parser\")"
   ]
  },
  {
   "cell_type": "code",
   "execution_count": 3,
   "metadata": {
    "execution": {
     "iopub.execute_input": "2021-03-16T07:39:34.244784Z",
     "iopub.status.busy": "2021-03-16T07:39:34.244230Z",
     "iopub.status.idle": "2021-03-16T07:39:34.246403Z",
     "shell.execute_reply": "2021-03-16T07:39:34.245883Z"
    }
   },
   "outputs": [],
   "source": [
    "tableauData = json.loads(soup.find(\"textarea\",{\"id\": \"tsConfigContainer\"}).text)"
   ]
  },
  {
   "cell_type": "markdown",
   "metadata": {},
   "source": [
    "Get the link to the Tableau data"
   ]
  },
  {
   "cell_type": "code",
   "execution_count": 4,
   "metadata": {
    "execution": {
     "iopub.execute_input": "2021-03-16T07:39:34.249971Z",
     "iopub.status.busy": "2021-03-16T07:39:34.249195Z",
     "iopub.status.idle": "2021-03-16T07:39:34.251094Z",
     "shell.execute_reply": "2021-03-16T07:39:34.250732Z"
    }
   },
   "outputs": [],
   "source": [
    "dataUrl = f'https://public.tableau.com{tableauData[\"vizql_root\"]}/bootstrapSession/sessions/{tableauData[\"sessionid\"]}'"
   ]
  },
  {
   "cell_type": "code",
   "execution_count": 5,
   "metadata": {
    "execution": {
     "iopub.execute_input": "2021-03-16T07:39:34.256590Z",
     "iopub.status.busy": "2021-03-16T07:39:34.256119Z",
     "iopub.status.idle": "2021-03-16T07:39:34.539073Z",
     "shell.execute_reply": "2021-03-16T07:39:34.538605Z"
    }
   },
   "outputs": [],
   "source": [
    "r = requests.post(dataUrl, data= {\n",
    "    \"sheet_id\": tableauData[\"sheetId\"],\n",
    "})\n",
    "\n",
    "dataReg = re.search('\\d+;({.*})\\d+;({.*})', r.text, re.MULTILINE)\n",
    "data1 = json.loads(dataReg.group(2))\n",
    "\n",
    "dataJson = data1[\"secondaryInfo\"][\"presModelMap\"][\"dataDictionary\"][\"presModelHolder\"][\"genDataDictionaryPresModel\"][\"dataSegments\"][\"0\"][\"dataColumns\"]"
   ]
  },
  {
   "cell_type": "markdown",
   "metadata": {},
   "source": [
    "Isolate what you want"
   ]
  },
  {
   "cell_type": "code",
   "execution_count": 6,
   "metadata": {
    "execution": {
     "iopub.execute_input": "2021-03-16T07:39:34.543349Z",
     "iopub.status.busy": "2021-03-16T07:39:34.542182Z",
     "iopub.status.idle": "2021-03-16T07:39:34.543861Z",
     "shell.execute_reply": "2021-03-16T07:39:34.544222Z"
    }
   },
   "outputs": [],
   "source": [
    "counties = dataJson[2]['dataValues'][:58]"
   ]
  },
  {
   "cell_type": "code",
   "execution_count": 7,
   "metadata": {
    "execution": {
     "iopub.execute_input": "2021-03-16T07:39:34.547634Z",
     "iopub.status.busy": "2021-03-16T07:39:34.546870Z",
     "iopub.status.idle": "2021-03-16T07:39:34.548799Z",
     "shell.execute_reply": "2021-03-16T07:39:34.548412Z"
    }
   },
   "outputs": [],
   "source": [
    "doses = dataJson[0]['dataValues'][3:61]"
   ]
  },
  {
   "cell_type": "markdown",
   "metadata": {},
   "source": [
    "Data formatting"
   ]
  },
  {
   "cell_type": "code",
   "execution_count": 8,
   "metadata": {
    "execution": {
     "iopub.execute_input": "2021-03-16T07:39:34.552023Z",
     "iopub.status.busy": "2021-03-16T07:39:34.551257Z",
     "iopub.status.idle": "2021-03-16T07:39:34.553142Z",
     "shell.execute_reply": "2021-03-16T07:39:34.552784Z"
    }
   },
   "outputs": [],
   "source": [
    "zipped = dict(zip(counties, doses))"
   ]
  },
  {
   "cell_type": "code",
   "execution_count": 9,
   "metadata": {
    "execution": {
     "iopub.execute_input": "2021-03-16T07:39:34.558267Z",
     "iopub.status.busy": "2021-03-16T07:39:34.557488Z",
     "iopub.status.idle": "2021-03-16T07:39:34.559442Z",
     "shell.execute_reply": "2021-03-16T07:39:34.559082Z"
    }
   },
   "outputs": [],
   "source": [
    "df = pd.Series(zipped).reset_index()"
   ]
  },
  {
   "cell_type": "code",
   "execution_count": 10,
   "metadata": {
    "execution": {
     "iopub.execute_input": "2021-03-16T07:39:34.562833Z",
     "iopub.status.busy": "2021-03-16T07:39:34.562076Z",
     "iopub.status.idle": "2021-03-16T07:39:34.563680Z",
     "shell.execute_reply": "2021-03-16T07:39:34.564017Z"
    }
   },
   "outputs": [],
   "source": [
    "df.columns = ['location','doses']"
   ]
  },
  {
   "cell_type": "markdown",
   "metadata": {},
   "source": [
    "Grab the overall California total"
   ]
  },
  {
   "cell_type": "code",
   "execution_count": 11,
   "metadata": {
    "execution": {
     "iopub.execute_input": "2021-03-16T07:39:34.567376Z",
     "iopub.status.busy": "2021-03-16T07:39:34.566617Z",
     "iopub.status.idle": "2021-03-16T07:39:34.568212Z",
     "shell.execute_reply": "2021-03-16T07:39:34.568576Z"
    }
   },
   "outputs": [],
   "source": [
    "add = {'location':'California','doses':dataJson[0]['dataValues'][2]}"
   ]
  },
  {
   "cell_type": "code",
   "execution_count": 12,
   "metadata": {
    "execution": {
     "iopub.execute_input": "2021-03-16T07:39:34.574133Z",
     "iopub.status.busy": "2021-03-16T07:39:34.573375Z",
     "iopub.status.idle": "2021-03-16T07:39:34.575297Z",
     "shell.execute_reply": "2021-03-16T07:39:34.574917Z"
    }
   },
   "outputs": [],
   "source": [
    "df = df.append(add, ignore_index=True)"
   ]
  },
  {
   "cell_type": "code",
   "execution_count": 13,
   "metadata": {
    "execution": {
     "iopub.execute_input": "2021-03-16T07:39:34.579138Z",
     "iopub.status.busy": "2021-03-16T07:39:34.578385Z",
     "iopub.status.idle": "2021-03-16T07:39:34.579998Z",
     "shell.execute_reply": "2021-03-16T07:39:34.580356Z"
    }
   },
   "outputs": [],
   "source": [
    "df = df.sort_values(by='location')"
   ]
  },
  {
   "cell_type": "code",
   "execution_count": 14,
   "metadata": {
    "execution": {
     "iopub.execute_input": "2021-03-16T07:39:34.585439Z",
     "iopub.status.busy": "2021-03-16T07:39:34.584671Z",
     "iopub.status.idle": "2021-03-16T07:39:34.586284Z",
     "shell.execute_reply": "2021-03-16T07:39:34.586624Z"
    }
   },
   "outputs": [],
   "source": [
    "df = df[df.location == 'California'].append(df[df.location != 'California']).reset_index(drop=True)"
   ]
  },
  {
   "cell_type": "code",
   "execution_count": null,
   "metadata": {},
   "outputs": [],
   "source": []
  },
  {
   "cell_type": "code",
   "execution_count": 15,
   "metadata": {
    "execution": {
     "iopub.execute_input": "2021-03-16T07:39:34.589449Z",
     "iopub.status.busy": "2021-03-16T07:39:34.589012Z",
     "iopub.status.idle": "2021-03-16T07:39:34.603885Z",
     "shell.execute_reply": "2021-03-16T07:39:34.603469Z"
    }
   },
   "outputs": [],
   "source": [
    "tz = pytz.timezone(\"America/New_York\")"
   ]
  },
  {
   "cell_type": "code",
   "execution_count": 16,
   "metadata": {
    "execution": {
     "iopub.execute_input": "2021-03-16T07:39:34.607147Z",
     "iopub.status.busy": "2021-03-16T07:39:34.606380Z",
     "iopub.status.idle": "2021-03-16T07:39:34.608342Z",
     "shell.execute_reply": "2021-03-16T07:39:34.607875Z"
    }
   },
   "outputs": [],
   "source": [
    "today = datetime.now(tz).date()"
   ]
  },
  {
   "cell_type": "code",
   "execution_count": 17,
   "metadata": {
    "execution": {
     "iopub.execute_input": "2021-03-16T07:39:34.611682Z",
     "iopub.status.busy": "2021-03-16T07:39:34.610920Z",
     "iopub.status.idle": "2021-03-16T07:39:34.612533Z",
     "shell.execute_reply": "2021-03-16T07:39:34.612872Z"
    }
   },
   "outputs": [],
   "source": [
    "data_dir = os.path.join(os.path.abspath(\"\"), \"data\")"
   ]
  },
  {
   "cell_type": "code",
   "execution_count": 18,
   "metadata": {
    "execution": {
     "iopub.execute_input": "2021-03-16T07:39:34.616478Z",
     "iopub.status.busy": "2021-03-16T07:39:34.615496Z",
     "iopub.status.idle": "2021-03-16T07:39:34.619335Z",
     "shell.execute_reply": "2021-03-16T07:39:34.618970Z"
    }
   },
   "outputs": [],
   "source": [
    "df.to_csv(os.path.join(data_dir, f\"{today}.csv\"), index=False)"
   ]
  },
  {
   "cell_type": "code",
   "execution_count": null,
   "metadata": {},
   "outputs": [],
   "source": []
  }
 ],
 "metadata": {
  "kernelspec": {
   "display_name": "Python 3",
   "language": "python",
   "name": "python3"
  },
  "language_info": {
   "codemirror_mode": {
    "name": "ipython",
    "version": 3
   },
   "file_extension": ".py",
   "mimetype": "text/x-python",
   "name": "python",
   "nbconvert_exporter": "python",
   "pygments_lexer": "ipython3",
   "version": "3.8.8"
  }
 },
 "nbformat": 4,
 "nbformat_minor": 4
}
