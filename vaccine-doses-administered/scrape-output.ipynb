{
 "cells": [
  {
   "cell_type": "markdown",
   "metadata": {},
   "source": [
    "# California COVID vaccinations scrape"
   ]
  },
  {
   "cell_type": "markdown",
   "metadata": {},
   "source": [
    "By [Amy O'Kruk](https://twitter.com/amyokruk)"
   ]
  },
  {
   "cell_type": "markdown",
   "metadata": {},
   "source": [
    "Downloads data on vaccine doses administered by county and statewide from a Tableau-powered dashboard from the California Department of Public Health."
   ]
  },
  {
   "cell_type": "code",
   "execution_count": 1,
   "metadata": {
    "execution": {
     "iopub.execute_input": "2021-03-09T23:13:23.986166Z",
     "iopub.status.busy": "2021-03-09T23:13:23.985126Z",
     "iopub.status.idle": "2021-03-09T23:13:24.391256Z",
     "shell.execute_reply": "2021-03-09T23:13:24.389958Z"
    }
   },
   "outputs": [],
   "source": [
    "import pandas as pd\n",
    "import requests\n",
    "from bs4 import BeautifulSoup\n",
    "import json\n",
    "import re\n",
    "import time\n",
    "from time import gmtime, strftime \n",
    "import os\n",
    "import pytz\n",
    "from datetime import datetime"
   ]
  },
  {
   "cell_type": "markdown",
   "metadata": {},
   "source": [
    "Scrape the dashboard page"
   ]
  },
  {
   "cell_type": "code",
   "execution_count": 2,
   "metadata": {
    "execution": {
     "iopub.execute_input": "2021-03-09T23:13:24.397627Z",
     "iopub.status.busy": "2021-03-09T23:13:24.396780Z",
     "iopub.status.idle": "2021-03-09T23:13:24.917996Z",
     "shell.execute_reply": "2021-03-09T23:13:24.916957Z"
    }
   },
   "outputs": [],
   "source": [
    "url = \"https://public.tableau.com/interactive/views/COVID-19VaccineDashboardPublic/Vaccine?:embed=y&:showVizHome=n&:apiID=host0\"\n",
    "\n",
    "r = requests.get(url)\n",
    "soup = BeautifulSoup(r.text, \"html.parser\")"
   ]
  },
  {
   "cell_type": "code",
   "execution_count": 3,
   "metadata": {
    "execution": {
     "iopub.execute_input": "2021-03-09T23:13:24.924043Z",
     "iopub.status.busy": "2021-03-09T23:13:24.923563Z",
     "iopub.status.idle": "2021-03-09T23:13:24.926734Z",
     "shell.execute_reply": "2021-03-09T23:13:24.926336Z"
    }
   },
   "outputs": [],
   "source": [
    "tableauData = json.loads(soup.find(\"textarea\",{\"id\": \"tsConfigContainer\"}).text)"
   ]
  },
  {
   "cell_type": "markdown",
   "metadata": {},
   "source": [
    "Get the link to the Tableau data"
   ]
  },
  {
   "cell_type": "code",
   "execution_count": 4,
   "metadata": {
    "execution": {
     "iopub.execute_input": "2021-03-09T23:13:24.931029Z",
     "iopub.status.busy": "2021-03-09T23:13:24.929865Z",
     "iopub.status.idle": "2021-03-09T23:13:24.931696Z",
     "shell.execute_reply": "2021-03-09T23:13:24.932107Z"
    }
   },
   "outputs": [],
   "source": [
    "dataUrl = f'https://public.tableau.com{tableauData[\"vizql_root\"]}/bootstrapSession/sessions/{tableauData[\"sessionid\"]}'"
   ]
  },
  {
   "cell_type": "code",
   "execution_count": 5,
   "metadata": {
    "execution": {
     "iopub.execute_input": "2021-03-09T23:13:24.938283Z",
     "iopub.status.busy": "2021-03-09T23:13:24.937764Z",
     "iopub.status.idle": "2021-03-09T23:13:25.190580Z",
     "shell.execute_reply": "2021-03-09T23:13:25.189541Z"
    }
   },
   "outputs": [],
   "source": [
    "r = requests.post(dataUrl, data= {\n",
    "    \"sheet_id\": tableauData[\"sheetId\"],\n",
    "})\n",
    "\n",
    "dataReg = re.search('\\d+;({.*})\\d+;({.*})', r.text, re.MULTILINE)\n",
    "data1 = json.loads(dataReg.group(2))\n",
    "\n",
    "dataJson = data1[\"secondaryInfo\"][\"presModelMap\"][\"dataDictionary\"][\"presModelHolder\"][\"genDataDictionaryPresModel\"][\"dataSegments\"][\"0\"][\"dataColumns\"]"
   ]
  },
  {
   "cell_type": "markdown",
   "metadata": {},
   "source": [
    "Isolate what you want"
   ]
  },
  {
   "cell_type": "code",
   "execution_count": 6,
   "metadata": {
    "execution": {
     "iopub.execute_input": "2021-03-09T23:13:25.194610Z",
     "iopub.status.busy": "2021-03-09T23:13:25.194094Z",
     "iopub.status.idle": "2021-03-09T23:13:25.197192Z",
     "shell.execute_reply": "2021-03-09T23:13:25.196811Z"
    }
   },
   "outputs": [],
   "source": [
    "counties = dataJson[2]['dataValues'][:58]"
   ]
  },
  {
   "cell_type": "code",
   "execution_count": 7,
   "metadata": {
    "execution": {
     "iopub.execute_input": "2021-03-09T23:13:25.200169Z",
     "iopub.status.busy": "2021-03-09T23:13:25.199754Z",
     "iopub.status.idle": "2021-03-09T23:13:25.203501Z",
     "shell.execute_reply": "2021-03-09T23:13:25.203014Z"
    }
   },
   "outputs": [],
   "source": [
    "doses = dataJson[0]['dataValues'][3:61]"
   ]
  },
  {
   "cell_type": "markdown",
   "metadata": {},
   "source": [
    "Data formatting"
   ]
  },
  {
   "cell_type": "code",
   "execution_count": 8,
   "metadata": {
    "execution": {
     "iopub.execute_input": "2021-03-09T23:13:25.206653Z",
     "iopub.status.busy": "2021-03-09T23:13:25.206210Z",
     "iopub.status.idle": "2021-03-09T23:13:25.209667Z",
     "shell.execute_reply": "2021-03-09T23:13:25.209019Z"
    }
   },
   "outputs": [],
   "source": [
    "zipped = dict(zip(counties, doses))"
   ]
  },
  {
   "cell_type": "code",
   "execution_count": 9,
   "metadata": {
    "execution": {
     "iopub.execute_input": "2021-03-09T23:13:25.215131Z",
     "iopub.status.busy": "2021-03-09T23:13:25.214631Z",
     "iopub.status.idle": "2021-03-09T23:13:25.217808Z",
     "shell.execute_reply": "2021-03-09T23:13:25.217366Z"
    }
   },
   "outputs": [],
   "source": [
    "df = pd.Series(zipped).reset_index()"
   ]
  },
  {
   "cell_type": "code",
   "execution_count": 10,
   "metadata": {
    "execution": {
     "iopub.execute_input": "2021-03-09T23:13:25.221159Z",
     "iopub.status.busy": "2021-03-09T23:13:25.220695Z",
     "iopub.status.idle": "2021-03-09T23:13:25.224423Z",
     "shell.execute_reply": "2021-03-09T23:13:25.224009Z"
    }
   },
   "outputs": [],
   "source": [
    "df.columns = ['location','doses']"
   ]
  },
  {
   "cell_type": "markdown",
   "metadata": {},
   "source": [
    "Grab the overall California total"
   ]
  },
  {
   "cell_type": "code",
   "execution_count": 11,
   "metadata": {
    "execution": {
     "iopub.execute_input": "2021-03-09T23:13:25.227968Z",
     "iopub.status.busy": "2021-03-09T23:13:25.227488Z",
     "iopub.status.idle": "2021-03-09T23:13:25.230170Z",
     "shell.execute_reply": "2021-03-09T23:13:25.230522Z"
    }
   },
   "outputs": [],
   "source": [
    "add = {'location':'California','doses':dataJson[0]['dataValues'][2]}"
   ]
  },
  {
   "cell_type": "code",
   "execution_count": 12,
   "metadata": {
    "execution": {
     "iopub.execute_input": "2021-03-09T23:13:25.236067Z",
     "iopub.status.busy": "2021-03-09T23:13:25.235634Z",
     "iopub.status.idle": "2021-03-09T23:13:25.239293Z",
     "shell.execute_reply": "2021-03-09T23:13:25.238876Z"
    }
   },
   "outputs": [],
   "source": [
    "df = df.append(add, ignore_index=True)"
   ]
  },
  {
   "cell_type": "code",
   "execution_count": 13,
   "metadata": {
    "execution": {
     "iopub.execute_input": "2021-03-09T23:13:25.243469Z",
     "iopub.status.busy": "2021-03-09T23:13:25.242924Z",
     "iopub.status.idle": "2021-03-09T23:13:25.245828Z",
     "shell.execute_reply": "2021-03-09T23:13:25.246242Z"
    }
   },
   "outputs": [],
   "source": [
    "df = df.sort_values(by='location')"
   ]
  },
  {
   "cell_type": "code",
   "execution_count": 14,
   "metadata": {
    "execution": {
     "iopub.execute_input": "2021-03-09T23:13:25.251469Z",
     "iopub.status.busy": "2021-03-09T23:13:25.251019Z",
     "iopub.status.idle": "2021-03-09T23:13:25.254563Z",
     "shell.execute_reply": "2021-03-09T23:13:25.254194Z"
    }
   },
   "outputs": [],
   "source": [
    "df = df[df.location == 'California'].append(df[df.location != 'California']).reset_index(drop=True)"
   ]
  },
  {
   "cell_type": "code",
   "execution_count": null,
   "metadata": {},
   "outputs": [],
   "source": []
  },
  {
   "cell_type": "code",
   "execution_count": 15,
   "metadata": {
    "execution": {
     "iopub.execute_input": "2021-03-09T23:13:25.258668Z",
     "iopub.status.busy": "2021-03-09T23:13:25.258191Z",
     "iopub.status.idle": "2021-03-09T23:13:25.276287Z",
     "shell.execute_reply": "2021-03-09T23:13:25.275826Z"
    }
   },
   "outputs": [],
   "source": [
    "tz = pytz.timezone(\"America/New_York\")"
   ]
  },
  {
   "cell_type": "code",
   "execution_count": 16,
   "metadata": {
    "execution": {
     "iopub.execute_input": "2021-03-09T23:13:25.280612Z",
     "iopub.status.busy": "2021-03-09T23:13:25.280010Z",
     "iopub.status.idle": "2021-03-09T23:13:25.283911Z",
     "shell.execute_reply": "2021-03-09T23:13:25.283537Z"
    }
   },
   "outputs": [],
   "source": [
    "today = datetime.now(tz).date()"
   ]
  },
  {
   "cell_type": "code",
   "execution_count": 17,
   "metadata": {
    "execution": {
     "iopub.execute_input": "2021-03-09T23:13:25.287090Z",
     "iopub.status.busy": "2021-03-09T23:13:25.286632Z",
     "iopub.status.idle": "2021-03-09T23:13:25.289893Z",
     "shell.execute_reply": "2021-03-09T23:13:25.289485Z"
    }
   },
   "outputs": [],
   "source": [
    "data_dir = os.path.join(os.path.abspath(\"\"), \"data\")"
   ]
  },
  {
   "cell_type": "code",
   "execution_count": 18,
   "metadata": {
    "execution": {
     "iopub.execute_input": "2021-03-09T23:13:25.294864Z",
     "iopub.status.busy": "2021-03-09T23:13:25.293144Z",
     "iopub.status.idle": "2021-03-09T23:13:25.298708Z",
     "shell.execute_reply": "2021-03-09T23:13:25.298274Z"
    }
   },
   "outputs": [],
   "source": [
    "df.to_csv(os.path.join(data_dir, f\"{today}.csv\"), index=False)"
   ]
  },
  {
   "cell_type": "code",
   "execution_count": null,
   "metadata": {},
   "outputs": [],
   "source": []
  }
 ],
 "metadata": {
  "kernelspec": {
   "display_name": "Python 3",
   "language": "python",
   "name": "python3"
  },
  "language_info": {
   "codemirror_mode": {
    "name": "ipython",
    "version": 3
   },
   "file_extension": ".py",
   "mimetype": "text/x-python",
   "name": "python",
   "nbconvert_exporter": "python",
   "pygments_lexer": "ipython3",
   "version": "3.8.8"
  }
 },
 "nbformat": 4,
 "nbformat_minor": 4
}
