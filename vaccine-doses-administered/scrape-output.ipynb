{
 "cells": [
  {
   "cell_type": "markdown",
   "metadata": {},
   "source": [
    "# California COVID vaccinations scrape"
   ]
  },
  {
   "cell_type": "markdown",
   "metadata": {},
   "source": [
    "By [Amy O'Kruk](https://twitter.com/amyokruk)"
   ]
  },
  {
   "cell_type": "markdown",
   "metadata": {},
   "source": [
    "Downloads data on vaccine doses administered by county and statewide from a Tableau-powered dashboard from the California Department of Public Health."
   ]
  },
  {
   "cell_type": "code",
   "execution_count": 1,
   "metadata": {
    "execution": {
     "iopub.execute_input": "2021-03-21T19:37:36.888428Z",
     "iopub.status.busy": "2021-03-21T19:37:36.887765Z",
     "iopub.status.idle": "2021-03-21T19:37:37.332001Z",
     "shell.execute_reply": "2021-03-21T19:37:37.331287Z"
    }
   },
   "outputs": [],
   "source": [
    "import pandas as pd\n",
    "import requests\n",
    "from bs4 import BeautifulSoup\n",
    "import json\n",
    "import re\n",
    "import time\n",
    "from time import gmtime, strftime \n",
    "import os\n",
    "import pytz\n",
    "from datetime import datetime"
   ]
  },
  {
   "cell_type": "markdown",
   "metadata": {},
   "source": [
    "Scrape the dashboard page"
   ]
  },
  {
   "cell_type": "code",
   "execution_count": 2,
   "metadata": {
    "execution": {
     "iopub.execute_input": "2021-03-21T19:37:37.337874Z",
     "iopub.status.busy": "2021-03-21T19:37:37.335894Z",
     "iopub.status.idle": "2021-03-21T19:37:37.630815Z",
     "shell.execute_reply": "2021-03-21T19:37:37.630284Z"
    }
   },
   "outputs": [],
   "source": [
    "url = \"https://public.tableau.com/interactive/views/COVID-19VaccineDashboardPublic/Vaccine?:embed=y&:showVizHome=n&:apiID=host0\"\n",
    "\n",
    "r = requests.get(url)\n",
    "soup = BeautifulSoup(r.text, \"html.parser\")"
   ]
  },
  {
   "cell_type": "code",
   "execution_count": 3,
   "metadata": {
    "execution": {
     "iopub.execute_input": "2021-03-21T19:37:37.636940Z",
     "iopub.status.busy": "2021-03-21T19:37:37.635504Z",
     "iopub.status.idle": "2021-03-21T19:37:37.637585Z",
     "shell.execute_reply": "2021-03-21T19:37:37.638081Z"
    }
   },
   "outputs": [],
   "source": [
    "tableauData = json.loads(soup.find(\"textarea\",{\"id\": \"tsConfigContainer\"}).text)"
   ]
  },
  {
   "cell_type": "markdown",
   "metadata": {},
   "source": [
    "Get the link to the Tableau data"
   ]
  },
  {
   "cell_type": "code",
   "execution_count": 4,
   "metadata": {
    "execution": {
     "iopub.execute_input": "2021-03-21T19:37:37.643646Z",
     "iopub.status.busy": "2021-03-21T19:37:37.642113Z",
     "iopub.status.idle": "2021-03-21T19:37:37.644285Z",
     "shell.execute_reply": "2021-03-21T19:37:37.644775Z"
    }
   },
   "outputs": [],
   "source": [
    "dataUrl = f'https://public.tableau.com{tableauData[\"vizql_root\"]}/bootstrapSession/sessions/{tableauData[\"sessionid\"]}'"
   ]
  },
  {
   "cell_type": "code",
   "execution_count": 5,
   "metadata": {
    "execution": {
     "iopub.execute_input": "2021-03-21T19:37:37.652223Z",
     "iopub.status.busy": "2021-03-21T19:37:37.651592Z",
     "iopub.status.idle": "2021-03-21T19:37:37.880422Z",
     "shell.execute_reply": "2021-03-21T19:37:37.879894Z"
    }
   },
   "outputs": [],
   "source": [
    "r = requests.post(dataUrl, data= {\n",
    "    \"sheet_id\": tableauData[\"sheetId\"],\n",
    "})\n",
    "\n",
    "dataReg = re.search('\\d+;({.*})\\d+;({.*})', r.text, re.MULTILINE)\n",
    "data1 = json.loads(dataReg.group(2))\n",
    "\n",
    "dataJson = data1[\"secondaryInfo\"][\"presModelMap\"][\"dataDictionary\"][\"presModelHolder\"][\"genDataDictionaryPresModel\"][\"dataSegments\"][\"0\"][\"dataColumns\"]"
   ]
  },
  {
   "cell_type": "markdown",
   "metadata": {},
   "source": [
    "Isolate what you want"
   ]
  },
  {
   "cell_type": "code",
   "execution_count": 6,
   "metadata": {
    "execution": {
     "iopub.execute_input": "2021-03-21T19:37:37.885520Z",
     "iopub.status.busy": "2021-03-21T19:37:37.884125Z",
     "iopub.status.idle": "2021-03-21T19:37:37.886166Z",
     "shell.execute_reply": "2021-03-21T19:37:37.886654Z"
    }
   },
   "outputs": [],
   "source": [
    "counties = dataJson[2]['dataValues'][:58]"
   ]
  },
  {
   "cell_type": "code",
   "execution_count": 7,
   "metadata": {
    "execution": {
     "iopub.execute_input": "2021-03-21T19:37:37.891505Z",
     "iopub.status.busy": "2021-03-21T19:37:37.890099Z",
     "iopub.status.idle": "2021-03-21T19:37:37.892317Z",
     "shell.execute_reply": "2021-03-21T19:37:37.892819Z"
    }
   },
   "outputs": [],
   "source": [
    "doses = dataJson[0]['dataValues'][3:61]"
   ]
  },
  {
   "cell_type": "markdown",
   "metadata": {},
   "source": [
    "Data formatting"
   ]
  },
  {
   "cell_type": "code",
   "execution_count": 8,
   "metadata": {
    "execution": {
     "iopub.execute_input": "2021-03-21T19:37:37.897795Z",
     "iopub.status.busy": "2021-03-21T19:37:37.896357Z",
     "iopub.status.idle": "2021-03-21T19:37:37.898441Z",
     "shell.execute_reply": "2021-03-21T19:37:37.898934Z"
    }
   },
   "outputs": [],
   "source": [
    "zipped = dict(zip(counties, doses))"
   ]
  },
  {
   "cell_type": "code",
   "execution_count": 9,
   "metadata": {
    "execution": {
     "iopub.execute_input": "2021-03-21T19:37:37.906214Z",
     "iopub.status.busy": "2021-03-21T19:37:37.904795Z",
     "iopub.status.idle": "2021-03-21T19:37:37.906862Z",
     "shell.execute_reply": "2021-03-21T19:37:37.907382Z"
    }
   },
   "outputs": [],
   "source": [
    "df = pd.Series(zipped).reset_index()"
   ]
  },
  {
   "cell_type": "code",
   "execution_count": 10,
   "metadata": {
    "execution": {
     "iopub.execute_input": "2021-03-21T19:37:37.912871Z",
     "iopub.status.busy": "2021-03-21T19:37:37.911413Z",
     "iopub.status.idle": "2021-03-21T19:37:37.913516Z",
     "shell.execute_reply": "2021-03-21T19:37:37.914007Z"
    }
   },
   "outputs": [],
   "source": [
    "df.columns = ['location','doses']"
   ]
  },
  {
   "cell_type": "markdown",
   "metadata": {},
   "source": [
    "Grab the overall California total"
   ]
  },
  {
   "cell_type": "code",
   "execution_count": 11,
   "metadata": {
    "execution": {
     "iopub.execute_input": "2021-03-21T19:37:37.918573Z",
     "iopub.status.busy": "2021-03-21T19:37:37.917565Z",
     "iopub.status.idle": "2021-03-21T19:37:37.920103Z",
     "shell.execute_reply": "2021-03-21T19:37:37.919587Z"
    }
   },
   "outputs": [],
   "source": [
    "add = {'location':'California','doses':dataJson[0]['dataValues'][2]}"
   ]
  },
  {
   "cell_type": "code",
   "execution_count": 12,
   "metadata": {
    "execution": {
     "iopub.execute_input": "2021-03-21T19:37:37.928864Z",
     "iopub.status.busy": "2021-03-21T19:37:37.927406Z",
     "iopub.status.idle": "2021-03-21T19:37:37.929509Z",
     "shell.execute_reply": "2021-03-21T19:37:37.930009Z"
    }
   },
   "outputs": [],
   "source": [
    "df = df.append(add, ignore_index=True)"
   ]
  },
  {
   "cell_type": "code",
   "execution_count": 13,
   "metadata": {
    "execution": {
     "iopub.execute_input": "2021-03-21T19:37:37.935995Z",
     "iopub.status.busy": "2021-03-21T19:37:37.934681Z",
     "iopub.status.idle": "2021-03-21T19:37:37.936638Z",
     "shell.execute_reply": "2021-03-21T19:37:37.937125Z"
    }
   },
   "outputs": [],
   "source": [
    "df = df.sort_values(by='location')"
   ]
  },
  {
   "cell_type": "code",
   "execution_count": 14,
   "metadata": {
    "execution": {
     "iopub.execute_input": "2021-03-21T19:37:37.944617Z",
     "iopub.status.busy": "2021-03-21T19:37:37.943231Z",
     "iopub.status.idle": "2021-03-21T19:37:37.945263Z",
     "shell.execute_reply": "2021-03-21T19:37:37.945753Z"
    }
   },
   "outputs": [],
   "source": [
    "df = df[df.location == 'California'].append(df[df.location != 'California']).reset_index(drop=True)"
   ]
  },
  {
   "cell_type": "code",
   "execution_count": null,
   "metadata": {},
   "outputs": [],
   "source": []
  },
  {
   "cell_type": "code",
   "execution_count": 15,
   "metadata": {
    "execution": {
     "iopub.execute_input": "2021-03-21T19:37:37.949842Z",
     "iopub.status.busy": "2021-03-21T19:37:37.949253Z",
     "iopub.status.idle": "2021-03-21T19:37:37.969332Z",
     "shell.execute_reply": "2021-03-21T19:37:37.968759Z"
    }
   },
   "outputs": [],
   "source": [
    "tz = pytz.timezone(\"America/New_York\")"
   ]
  },
  {
   "cell_type": "code",
   "execution_count": 16,
   "metadata": {
    "execution": {
     "iopub.execute_input": "2021-03-21T19:37:37.974557Z",
     "iopub.status.busy": "2021-03-21T19:37:37.973234Z",
     "iopub.status.idle": "2021-03-21T19:37:37.975239Z",
     "shell.execute_reply": "2021-03-21T19:37:37.975740Z"
    }
   },
   "outputs": [],
   "source": [
    "today = datetime.now(tz).date()"
   ]
  },
  {
   "cell_type": "code",
   "execution_count": 17,
   "metadata": {
    "execution": {
     "iopub.execute_input": "2021-03-21T19:37:37.981108Z",
     "iopub.status.busy": "2021-03-21T19:37:37.979498Z",
     "iopub.status.idle": "2021-03-21T19:37:37.981777Z",
     "shell.execute_reply": "2021-03-21T19:37:37.982269Z"
    }
   },
   "outputs": [],
   "source": [
    "data_dir = os.path.join(os.path.abspath(\"\"), \"data\")"
   ]
  },
  {
   "cell_type": "code",
   "execution_count": 18,
   "metadata": {
    "execution": {
     "iopub.execute_input": "2021-03-21T19:37:37.988820Z",
     "iopub.status.busy": "2021-03-21T19:37:37.986316Z",
     "iopub.status.idle": "2021-03-21T19:37:37.991957Z",
     "shell.execute_reply": "2021-03-21T19:37:37.992422Z"
    }
   },
   "outputs": [],
   "source": [
    "df.to_csv(os.path.join(data_dir, f\"{today}.csv\"), index=False)"
   ]
  },
  {
   "cell_type": "code",
   "execution_count": null,
   "metadata": {},
   "outputs": [],
   "source": []
  }
 ],
 "metadata": {
  "kernelspec": {
   "display_name": "Python 3",
   "language": "python",
   "name": "python3"
  },
  "language_info": {
   "codemirror_mode": {
    "name": "ipython",
    "version": 3
   },
   "file_extension": ".py",
   "mimetype": "text/x-python",
   "name": "python",
   "nbconvert_exporter": "python",
   "pygments_lexer": "ipython3",
   "version": "3.8.8"
  }
 },
 "nbformat": 4,
 "nbformat_minor": 4
}
