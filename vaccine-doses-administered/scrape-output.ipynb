{
 "cells": [
  {
   "cell_type": "markdown",
   "metadata": {},
   "source": [
    "# California COVID vaccinations scrape"
   ]
  },
  {
   "cell_type": "markdown",
   "metadata": {},
   "source": [
    "By [Amy O'Kruk](https://twitter.com/amyokruk)"
   ]
  },
  {
   "cell_type": "markdown",
   "metadata": {},
   "source": [
    "Downloads data on vaccine doses administered by county and statewide from a Tableau-powered dashboard from the California Department of Public Health."
   ]
  },
  {
   "cell_type": "code",
   "execution_count": 1,
   "metadata": {
    "execution": {
     "iopub.execute_input": "2021-03-24T01:33:53.575358Z",
     "iopub.status.busy": "2021-03-24T01:33:53.574737Z",
     "iopub.status.idle": "2021-03-24T01:33:53.941072Z",
     "shell.execute_reply": "2021-03-24T01:33:53.939982Z"
    }
   },
   "outputs": [],
   "source": [
    "import pandas as pd\n",
    "import requests\n",
    "from bs4 import BeautifulSoup\n",
    "import json\n",
    "import re\n",
    "import time\n",
    "from time import gmtime, strftime \n",
    "import os\n",
    "import pytz\n",
    "from datetime import datetime"
   ]
  },
  {
   "cell_type": "markdown",
   "metadata": {},
   "source": [
    "Scrape the dashboard page"
   ]
  },
  {
   "cell_type": "code",
   "execution_count": 2,
   "metadata": {
    "execution": {
     "iopub.execute_input": "2021-03-24T01:33:53.945184Z",
     "iopub.status.busy": "2021-03-24T01:33:53.944662Z",
     "iopub.status.idle": "2021-03-24T01:33:54.460117Z",
     "shell.execute_reply": "2021-03-24T01:33:54.459035Z"
    }
   },
   "outputs": [],
   "source": [
    "url = \"https://public.tableau.com/interactive/views/COVID-19VaccineDashboardPublic/Vaccine?:embed=y&:showVizHome=n&:apiID=host0\"\n",
    "\n",
    "r = requests.get(url)\n",
    "soup = BeautifulSoup(r.text, \"html.parser\")"
   ]
  },
  {
   "cell_type": "code",
   "execution_count": 3,
   "metadata": {
    "execution": {
     "iopub.execute_input": "2021-03-24T01:33:54.465485Z",
     "iopub.status.busy": "2021-03-24T01:33:54.464777Z",
     "iopub.status.idle": "2021-03-24T01:33:54.468319Z",
     "shell.execute_reply": "2021-03-24T01:33:54.468731Z"
    }
   },
   "outputs": [],
   "source": [
    "tableauData = json.loads(soup.find(\"textarea\",{\"id\": \"tsConfigContainer\"}).text)"
   ]
  },
  {
   "cell_type": "markdown",
   "metadata": {},
   "source": [
    "Get the link to the Tableau data"
   ]
  },
  {
   "cell_type": "code",
   "execution_count": 4,
   "metadata": {
    "execution": {
     "iopub.execute_input": "2021-03-24T01:33:54.472155Z",
     "iopub.status.busy": "2021-03-24T01:33:54.471614Z",
     "iopub.status.idle": "2021-03-24T01:33:54.475520Z",
     "shell.execute_reply": "2021-03-24T01:33:54.475069Z"
    }
   },
   "outputs": [],
   "source": [
    "dataUrl = f'https://public.tableau.com{tableauData[\"vizql_root\"]}/bootstrapSession/sessions/{tableauData[\"sessionid\"]}'"
   ]
  },
  {
   "cell_type": "code",
   "execution_count": 5,
   "metadata": {
    "execution": {
     "iopub.execute_input": "2021-03-24T01:33:54.481990Z",
     "iopub.status.busy": "2021-03-24T01:33:54.481473Z",
     "iopub.status.idle": "2021-03-24T01:33:54.952395Z",
     "shell.execute_reply": "2021-03-24T01:33:54.951821Z"
    }
   },
   "outputs": [],
   "source": [
    "r = requests.post(dataUrl, data= {\n",
    "    \"sheet_id\": tableauData[\"sheetId\"],\n",
    "})\n",
    "\n",
    "dataReg = re.search('\\d+;({.*})\\d+;({.*})', r.text, re.MULTILINE)\n",
    "data1 = json.loads(dataReg.group(2))\n",
    "\n",
    "dataJson = data1[\"secondaryInfo\"][\"presModelMap\"][\"dataDictionary\"][\"presModelHolder\"][\"genDataDictionaryPresModel\"][\"dataSegments\"][\"0\"][\"dataColumns\"]"
   ]
  },
  {
   "cell_type": "markdown",
   "metadata": {},
   "source": [
    "Isolate what you want"
   ]
  },
  {
   "cell_type": "code",
   "execution_count": 6,
   "metadata": {
    "execution": {
     "iopub.execute_input": "2021-03-24T01:33:54.956799Z",
     "iopub.status.busy": "2021-03-24T01:33:54.956278Z",
     "iopub.status.idle": "2021-03-24T01:33:54.959230Z",
     "shell.execute_reply": "2021-03-24T01:33:54.959623Z"
    }
   },
   "outputs": [],
   "source": [
    "counties = dataJson[2]['dataValues'][:58]"
   ]
  },
  {
   "cell_type": "code",
   "execution_count": 7,
   "metadata": {
    "execution": {
     "iopub.execute_input": "2021-03-24T01:33:54.963995Z",
     "iopub.status.busy": "2021-03-24T01:33:54.962817Z",
     "iopub.status.idle": "2021-03-24T01:33:54.964689Z",
     "shell.execute_reply": "2021-03-24T01:33:54.965111Z"
    }
   },
   "outputs": [],
   "source": [
    "doses = dataJson[0]['dataValues'][3:61]"
   ]
  },
  {
   "cell_type": "markdown",
   "metadata": {},
   "source": [
    "Data formatting"
   ]
  },
  {
   "cell_type": "code",
   "execution_count": 8,
   "metadata": {
    "execution": {
     "iopub.execute_input": "2021-03-24T01:33:54.969391Z",
     "iopub.status.busy": "2021-03-24T01:33:54.968174Z",
     "iopub.status.idle": "2021-03-24T01:33:54.969978Z",
     "shell.execute_reply": "2021-03-24T01:33:54.970395Z"
    }
   },
   "outputs": [],
   "source": [
    "zipped = dict(zip(counties, doses))"
   ]
  },
  {
   "cell_type": "code",
   "execution_count": 9,
   "metadata": {
    "execution": {
     "iopub.execute_input": "2021-03-24T01:33:54.976821Z",
     "iopub.status.busy": "2021-03-24T01:33:54.975626Z",
     "iopub.status.idle": "2021-03-24T01:33:54.977407Z",
     "shell.execute_reply": "2021-03-24T01:33:54.977827Z"
    }
   },
   "outputs": [],
   "source": [
    "df = pd.Series(zipped).reset_index()"
   ]
  },
  {
   "cell_type": "code",
   "execution_count": 10,
   "metadata": {
    "execution": {
     "iopub.execute_input": "2021-03-24T01:33:54.982147Z",
     "iopub.status.busy": "2021-03-24T01:33:54.980996Z",
     "iopub.status.idle": "2021-03-24T01:33:54.982737Z",
     "shell.execute_reply": "2021-03-24T01:33:54.983156Z"
    }
   },
   "outputs": [],
   "source": [
    "df.columns = ['location','doses']"
   ]
  },
  {
   "cell_type": "markdown",
   "metadata": {},
   "source": [
    "Grab the overall California total"
   ]
  },
  {
   "cell_type": "code",
   "execution_count": 11,
   "metadata": {
    "execution": {
     "iopub.execute_input": "2021-03-24T01:33:54.987294Z",
     "iopub.status.busy": "2021-03-24T01:33:54.986284Z",
     "iopub.status.idle": "2021-03-24T01:33:54.988538Z",
     "shell.execute_reply": "2021-03-24T01:33:54.988010Z"
    }
   },
   "outputs": [],
   "source": [
    "add = {'location':'California','doses':dataJson[0]['dataValues'][2]}"
   ]
  },
  {
   "cell_type": "code",
   "execution_count": 12,
   "metadata": {
    "execution": {
     "iopub.execute_input": "2021-03-24T01:33:54.995459Z",
     "iopub.status.busy": "2021-03-24T01:33:54.994309Z",
     "iopub.status.idle": "2021-03-24T01:33:54.996062Z",
     "shell.execute_reply": "2021-03-24T01:33:54.996495Z"
    }
   },
   "outputs": [],
   "source": [
    "df = df.append(add, ignore_index=True)"
   ]
  },
  {
   "cell_type": "code",
   "execution_count": 13,
   "metadata": {
    "execution": {
     "iopub.execute_input": "2021-03-24T01:33:55.001392Z",
     "iopub.status.busy": "2021-03-24T01:33:55.000208Z",
     "iopub.status.idle": "2021-03-24T01:33:55.002041Z",
     "shell.execute_reply": "2021-03-24T01:33:55.002459Z"
    }
   },
   "outputs": [],
   "source": [
    "df = df.sort_values(by='location')"
   ]
  },
  {
   "cell_type": "code",
   "execution_count": 14,
   "metadata": {
    "execution": {
     "iopub.execute_input": "2021-03-24T01:33:55.008808Z",
     "iopub.status.busy": "2021-03-24T01:33:55.007637Z",
     "iopub.status.idle": "2021-03-24T01:33:55.009409Z",
     "shell.execute_reply": "2021-03-24T01:33:55.009832Z"
    }
   },
   "outputs": [],
   "source": [
    "df = df[df.location == 'California'].append(df[df.location != 'California']).reset_index(drop=True)"
   ]
  },
  {
   "cell_type": "code",
   "execution_count": null,
   "metadata": {},
   "outputs": [],
   "source": []
  },
  {
   "cell_type": "code",
   "execution_count": 15,
   "metadata": {
    "execution": {
     "iopub.execute_input": "2021-03-24T01:33:55.013185Z",
     "iopub.status.busy": "2021-03-24T01:33:55.012680Z",
     "iopub.status.idle": "2021-03-24T01:33:55.030242Z",
     "shell.execute_reply": "2021-03-24T01:33:55.029767Z"
    }
   },
   "outputs": [],
   "source": [
    "tz = pytz.timezone(\"America/New_York\")"
   ]
  },
  {
   "cell_type": "code",
   "execution_count": 16,
   "metadata": {
    "execution": {
     "iopub.execute_input": "2021-03-24T01:33:55.034710Z",
     "iopub.status.busy": "2021-03-24T01:33:55.033396Z",
     "iopub.status.idle": "2021-03-24T01:33:55.035284Z",
     "shell.execute_reply": "2021-03-24T01:33:55.035708Z"
    }
   },
   "outputs": [],
   "source": [
    "today = datetime.now(tz).date()"
   ]
  },
  {
   "cell_type": "code",
   "execution_count": 17,
   "metadata": {
    "execution": {
     "iopub.execute_input": "2021-03-24T01:33:55.039922Z",
     "iopub.status.busy": "2021-03-24T01:33:55.038825Z",
     "iopub.status.idle": "2021-03-24T01:33:55.040542Z",
     "shell.execute_reply": "2021-03-24T01:33:55.040960Z"
    }
   },
   "outputs": [],
   "source": [
    "data_dir = os.path.join(os.path.abspath(\"\"), \"data\")"
   ]
  },
  {
   "cell_type": "code",
   "execution_count": 18,
   "metadata": {
    "execution": {
     "iopub.execute_input": "2021-03-24T01:33:55.044681Z",
     "iopub.status.busy": "2021-03-24T01:33:55.044161Z",
     "iopub.status.idle": "2021-03-24T01:33:55.048340Z",
     "shell.execute_reply": "2021-03-24T01:33:55.047893Z"
    }
   },
   "outputs": [],
   "source": [
    "df.to_csv(os.path.join(data_dir, f\"{today}.csv\"), index=False)"
   ]
  },
  {
   "cell_type": "code",
   "execution_count": null,
   "metadata": {},
   "outputs": [],
   "source": []
  }
 ],
 "metadata": {
  "kernelspec": {
   "display_name": "Python 3",
   "language": "python",
   "name": "python3"
  },
  "language_info": {
   "codemirror_mode": {
    "name": "ipython",
    "version": 3
   },
   "file_extension": ".py",
   "mimetype": "text/x-python",
   "name": "python",
   "nbconvert_exporter": "python",
   "pygments_lexer": "ipython3",
   "version": "3.8.8"
  }
 },
 "nbformat": 4,
 "nbformat_minor": 4
}
