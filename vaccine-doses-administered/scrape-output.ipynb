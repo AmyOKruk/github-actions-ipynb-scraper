{
 "cells": [
  {
   "cell_type": "markdown",
   "metadata": {},
   "source": [
    "# California COVID vaccinations scrape"
   ]
  },
  {
   "cell_type": "markdown",
   "metadata": {},
   "source": [
    "By [Amy O'Kruk](https://twitter.com/amyokruk)"
   ]
  },
  {
   "cell_type": "markdown",
   "metadata": {},
   "source": [
    "Downloads data on vaccine doses administered by county and statewide from a Tableau-powered dashboard from the California Department of Public Health."
   ]
  },
  {
   "cell_type": "code",
   "execution_count": 1,
   "metadata": {
    "execution": {
     "iopub.execute_input": "2021-03-18T05:43:37.429026Z",
     "iopub.status.busy": "2021-03-18T05:43:37.428329Z",
     "iopub.status.idle": "2021-03-18T05:43:37.943972Z",
     "shell.execute_reply": "2021-03-18T05:43:37.942907Z"
    }
   },
   "outputs": [],
   "source": [
    "import pandas as pd\n",
    "import requests\n",
    "from bs4 import BeautifulSoup\n",
    "import json\n",
    "import re\n",
    "import time\n",
    "from time import gmtime, strftime \n",
    "import os\n",
    "import pytz\n",
    "from datetime import datetime"
   ]
  },
  {
   "cell_type": "markdown",
   "metadata": {},
   "source": [
    "Scrape the dashboard page"
   ]
  },
  {
   "cell_type": "code",
   "execution_count": 2,
   "metadata": {
    "execution": {
     "iopub.execute_input": "2021-03-18T05:43:37.950742Z",
     "iopub.status.busy": "2021-03-18T05:43:37.947950Z",
     "iopub.status.idle": "2021-03-18T05:43:38.416765Z",
     "shell.execute_reply": "2021-03-18T05:43:38.416192Z"
    }
   },
   "outputs": [],
   "source": [
    "url = \"https://public.tableau.com/interactive/views/COVID-19VaccineDashboardPublic/Vaccine?:embed=y&:showVizHome=n&:apiID=host0\"\n",
    "\n",
    "r = requests.get(url)\n",
    "soup = BeautifulSoup(r.text, \"html.parser\")"
   ]
  },
  {
   "cell_type": "code",
   "execution_count": 3,
   "metadata": {
    "execution": {
     "iopub.execute_input": "2021-03-18T05:43:38.423659Z",
     "iopub.status.busy": "2021-03-18T05:43:38.423055Z",
     "iopub.status.idle": "2021-03-18T05:43:38.426977Z",
     "shell.execute_reply": "2021-03-18T05:43:38.426498Z"
    }
   },
   "outputs": [],
   "source": [
    "tableauData = json.loads(soup.find(\"textarea\",{\"id\": \"tsConfigContainer\"}).text)"
   ]
  },
  {
   "cell_type": "markdown",
   "metadata": {},
   "source": [
    "Get the link to the Tableau data"
   ]
  },
  {
   "cell_type": "code",
   "execution_count": 4,
   "metadata": {
    "execution": {
     "iopub.execute_input": "2021-03-18T05:43:38.431115Z",
     "iopub.status.busy": "2021-03-18T05:43:38.430534Z",
     "iopub.status.idle": "2021-03-18T05:43:38.434527Z",
     "shell.execute_reply": "2021-03-18T05:43:38.433972Z"
    }
   },
   "outputs": [],
   "source": [
    "dataUrl = f'https://public.tableau.com{tableauData[\"vizql_root\"]}/bootstrapSession/sessions/{tableauData[\"sessionid\"]}'"
   ]
  },
  {
   "cell_type": "code",
   "execution_count": 5,
   "metadata": {
    "execution": {
     "iopub.execute_input": "2021-03-18T05:43:38.444356Z",
     "iopub.status.busy": "2021-03-18T05:43:38.443736Z",
     "iopub.status.idle": "2021-03-18T05:43:38.773501Z",
     "shell.execute_reply": "2021-03-18T05:43:38.772851Z"
    }
   },
   "outputs": [],
   "source": [
    "r = requests.post(dataUrl, data= {\n",
    "    \"sheet_id\": tableauData[\"sheetId\"],\n",
    "})\n",
    "\n",
    "dataReg = re.search('\\d+;({.*})\\d+;({.*})', r.text, re.MULTILINE)\n",
    "data1 = json.loads(dataReg.group(2))\n",
    "\n",
    "dataJson = data1[\"secondaryInfo\"][\"presModelMap\"][\"dataDictionary\"][\"presModelHolder\"][\"genDataDictionaryPresModel\"][\"dataSegments\"][\"0\"][\"dataColumns\"]"
   ]
  },
  {
   "cell_type": "markdown",
   "metadata": {},
   "source": [
    "Isolate what you want"
   ]
  },
  {
   "cell_type": "code",
   "execution_count": 6,
   "metadata": {
    "execution": {
     "iopub.execute_input": "2021-03-18T05:43:38.778162Z",
     "iopub.status.busy": "2021-03-18T05:43:38.777482Z",
     "iopub.status.idle": "2021-03-18T05:43:38.781011Z",
     "shell.execute_reply": "2021-03-18T05:43:38.781656Z"
    }
   },
   "outputs": [],
   "source": [
    "counties = dataJson[2]['dataValues'][:58]"
   ]
  },
  {
   "cell_type": "code",
   "execution_count": 7,
   "metadata": {
    "execution": {
     "iopub.execute_input": "2021-03-18T05:43:38.785777Z",
     "iopub.status.busy": "2021-03-18T05:43:38.785091Z",
     "iopub.status.idle": "2021-03-18T05:43:38.789967Z",
     "shell.execute_reply": "2021-03-18T05:43:38.789349Z"
    }
   },
   "outputs": [],
   "source": [
    "doses = dataJson[0]['dataValues'][3:61]"
   ]
  },
  {
   "cell_type": "markdown",
   "metadata": {},
   "source": [
    "Data formatting"
   ]
  },
  {
   "cell_type": "code",
   "execution_count": 8,
   "metadata": {
    "execution": {
     "iopub.execute_input": "2021-03-18T05:43:38.795753Z",
     "iopub.status.busy": "2021-03-18T05:43:38.794033Z",
     "iopub.status.idle": "2021-03-18T05:43:38.796523Z",
     "shell.execute_reply": "2021-03-18T05:43:38.797107Z"
    }
   },
   "outputs": [],
   "source": [
    "zipped = dict(zip(counties, doses))"
   ]
  },
  {
   "cell_type": "code",
   "execution_count": 9,
   "metadata": {
    "execution": {
     "iopub.execute_input": "2021-03-18T05:43:38.804521Z",
     "iopub.status.busy": "2021-03-18T05:43:38.803047Z",
     "iopub.status.idle": "2021-03-18T05:43:38.805175Z",
     "shell.execute_reply": "2021-03-18T05:43:38.805709Z"
    }
   },
   "outputs": [],
   "source": [
    "df = pd.Series(zipped).reset_index()"
   ]
  },
  {
   "cell_type": "code",
   "execution_count": 10,
   "metadata": {
    "execution": {
     "iopub.execute_input": "2021-03-18T05:43:38.810831Z",
     "iopub.status.busy": "2021-03-18T05:43:38.809412Z",
     "iopub.status.idle": "2021-03-18T05:43:38.811501Z",
     "shell.execute_reply": "2021-03-18T05:43:38.812036Z"
    }
   },
   "outputs": [],
   "source": [
    "df.columns = ['location','doses']"
   ]
  },
  {
   "cell_type": "markdown",
   "metadata": {},
   "source": [
    "Grab the overall California total"
   ]
  },
  {
   "cell_type": "code",
   "execution_count": 11,
   "metadata": {
    "execution": {
     "iopub.execute_input": "2021-03-18T05:43:38.817150Z",
     "iopub.status.busy": "2021-03-18T05:43:38.815707Z",
     "iopub.status.idle": "2021-03-18T05:43:38.818016Z",
     "shell.execute_reply": "2021-03-18T05:43:38.818583Z"
    }
   },
   "outputs": [],
   "source": [
    "add = {'location':'California','doses':dataJson[0]['dataValues'][2]}"
   ]
  },
  {
   "cell_type": "code",
   "execution_count": 12,
   "metadata": {
    "execution": {
     "iopub.execute_input": "2021-03-18T05:43:38.826632Z",
     "iopub.status.busy": "2021-03-18T05:43:38.825145Z",
     "iopub.status.idle": "2021-03-18T05:43:38.827347Z",
     "shell.execute_reply": "2021-03-18T05:43:38.827856Z"
    }
   },
   "outputs": [],
   "source": [
    "df = df.append(add, ignore_index=True)"
   ]
  },
  {
   "cell_type": "code",
   "execution_count": 13,
   "metadata": {
    "execution": {
     "iopub.execute_input": "2021-03-18T05:43:38.833627Z",
     "iopub.status.busy": "2021-03-18T05:43:38.832111Z",
     "iopub.status.idle": "2021-03-18T05:43:38.834353Z",
     "shell.execute_reply": "2021-03-18T05:43:38.834853Z"
    }
   },
   "outputs": [],
   "source": [
    "df = df.sort_values(by='location')"
   ]
  },
  {
   "cell_type": "code",
   "execution_count": 14,
   "metadata": {
    "execution": {
     "iopub.execute_input": "2021-03-18T05:43:38.842150Z",
     "iopub.status.busy": "2021-03-18T05:43:38.840684Z",
     "iopub.status.idle": "2021-03-18T05:43:38.842841Z",
     "shell.execute_reply": "2021-03-18T05:43:38.843367Z"
    }
   },
   "outputs": [],
   "source": [
    "df = df[df.location == 'California'].append(df[df.location != 'California']).reset_index(drop=True)"
   ]
  },
  {
   "cell_type": "code",
   "execution_count": null,
   "metadata": {},
   "outputs": [],
   "source": []
  },
  {
   "cell_type": "code",
   "execution_count": 15,
   "metadata": {
    "execution": {
     "iopub.execute_input": "2021-03-18T05:43:38.847240Z",
     "iopub.status.busy": "2021-03-18T05:43:38.846638Z",
     "iopub.status.idle": "2021-03-18T05:43:38.866438Z",
     "shell.execute_reply": "2021-03-18T05:43:38.866900Z"
    }
   },
   "outputs": [],
   "source": [
    "tz = pytz.timezone(\"America/New_York\")"
   ]
  },
  {
   "cell_type": "code",
   "execution_count": 16,
   "metadata": {
    "execution": {
     "iopub.execute_input": "2021-03-18T05:43:38.872124Z",
     "iopub.status.busy": "2021-03-18T05:43:38.870585Z",
     "iopub.status.idle": "2021-03-18T05:43:38.872881Z",
     "shell.execute_reply": "2021-03-18T05:43:38.873521Z"
    }
   },
   "outputs": [],
   "source": [
    "today = datetime.now(tz).date()"
   ]
  },
  {
   "cell_type": "code",
   "execution_count": 17,
   "metadata": {
    "execution": {
     "iopub.execute_input": "2021-03-18T05:43:38.878625Z",
     "iopub.status.busy": "2021-03-18T05:43:38.877113Z",
     "iopub.status.idle": "2021-03-18T05:43:38.879290Z",
     "shell.execute_reply": "2021-03-18T05:43:38.879801Z"
    }
   },
   "outputs": [],
   "source": [
    "data_dir = os.path.join(os.path.abspath(\"\"), \"data\")"
   ]
  },
  {
   "cell_type": "code",
   "execution_count": 18,
   "metadata": {
    "execution": {
     "iopub.execute_input": "2021-03-18T05:43:38.885125Z",
     "iopub.status.busy": "2021-03-18T05:43:38.883932Z",
     "iopub.status.idle": "2021-03-18T05:43:38.888977Z",
     "shell.execute_reply": "2021-03-18T05:43:38.888403Z"
    }
   },
   "outputs": [],
   "source": [
    "df.to_csv(os.path.join(data_dir, f\"{today}.csv\"), index=False)"
   ]
  },
  {
   "cell_type": "code",
   "execution_count": null,
   "metadata": {},
   "outputs": [],
   "source": []
  }
 ],
 "metadata": {
  "kernelspec": {
   "display_name": "Python 3",
   "language": "python",
   "name": "python3"
  },
  "language_info": {
   "codemirror_mode": {
    "name": "ipython",
    "version": 3
   },
   "file_extension": ".py",
   "mimetype": "text/x-python",
   "name": "python",
   "nbconvert_exporter": "python",
   "pygments_lexer": "ipython3",
   "version": "3.8.8"
  }
 },
 "nbformat": 4,
 "nbformat_minor": 4
}
