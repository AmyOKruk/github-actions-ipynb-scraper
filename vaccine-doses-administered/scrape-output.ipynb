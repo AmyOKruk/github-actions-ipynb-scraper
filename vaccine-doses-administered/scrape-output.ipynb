{
 "cells": [
  {
   "cell_type": "markdown",
   "metadata": {},
   "source": [
    "# California COVID vaccinations scrape"
   ]
  },
  {
   "cell_type": "markdown",
   "metadata": {},
   "source": [
    "By [Amy O'Kruk](https://twitter.com/amyokruk)"
   ]
  },
  {
   "cell_type": "markdown",
   "metadata": {},
   "source": [
    "Downloads data on vaccine doses administered by county and statewide from a Tableau-powered dashboard from the California Department of Public Health."
   ]
  },
  {
   "cell_type": "code",
   "execution_count": 1,
   "metadata": {
    "execution": {
     "iopub.execute_input": "2021-03-24T20:21:30.368803Z",
     "iopub.status.busy": "2021-03-24T20:21:30.368082Z",
     "iopub.status.idle": "2021-03-24T20:21:30.781007Z",
     "shell.execute_reply": "2021-03-24T20:21:30.781529Z"
    }
   },
   "outputs": [],
   "source": [
    "import pandas as pd\n",
    "import requests\n",
    "from bs4 import BeautifulSoup\n",
    "import json\n",
    "import re\n",
    "import time\n",
    "from time import gmtime, strftime \n",
    "import os\n",
    "import pytz\n",
    "from datetime import datetime"
   ]
  },
  {
   "cell_type": "markdown",
   "metadata": {},
   "source": [
    "Scrape the dashboard page"
   ]
  },
  {
   "cell_type": "code",
   "execution_count": 2,
   "metadata": {
    "execution": {
     "iopub.execute_input": "2021-03-24T20:21:30.787916Z",
     "iopub.status.busy": "2021-03-24T20:21:30.785545Z",
     "iopub.status.idle": "2021-03-24T20:21:31.239051Z",
     "shell.execute_reply": "2021-03-24T20:21:31.238556Z"
    }
   },
   "outputs": [],
   "source": [
    "url = \"https://public.tableau.com/interactive/views/COVID-19VaccineDashboardPublic/Vaccine?:embed=y&:showVizHome=n&:apiID=host0\"\n",
    "\n",
    "r = requests.get(url)\n",
    "soup = BeautifulSoup(r.text, \"html.parser\")"
   ]
  },
  {
   "cell_type": "code",
   "execution_count": 3,
   "metadata": {
    "execution": {
     "iopub.execute_input": "2021-03-24T20:21:31.244432Z",
     "iopub.status.busy": "2021-03-24T20:21:31.243868Z",
     "iopub.status.idle": "2021-03-24T20:21:31.247479Z",
     "shell.execute_reply": "2021-03-24T20:21:31.247041Z"
    }
   },
   "outputs": [],
   "source": [
    "tableauData = json.loads(soup.find(\"textarea\",{\"id\": \"tsConfigContainer\"}).text)"
   ]
  },
  {
   "cell_type": "markdown",
   "metadata": {},
   "source": [
    "Get the link to the Tableau data"
   ]
  },
  {
   "cell_type": "code",
   "execution_count": 4,
   "metadata": {
    "execution": {
     "iopub.execute_input": "2021-03-24T20:21:31.251187Z",
     "iopub.status.busy": "2021-03-24T20:21:31.250665Z",
     "iopub.status.idle": "2021-03-24T20:21:31.253895Z",
     "shell.execute_reply": "2021-03-24T20:21:31.254328Z"
    }
   },
   "outputs": [],
   "source": [
    "dataUrl = f'https://public.tableau.com{tableauData[\"vizql_root\"]}/bootstrapSession/sessions/{tableauData[\"sessionid\"]}'"
   ]
  },
  {
   "cell_type": "code",
   "execution_count": 5,
   "metadata": {
    "execution": {
     "iopub.execute_input": "2021-03-24T20:21:31.263336Z",
     "iopub.status.busy": "2021-03-24T20:21:31.262276Z",
     "iopub.status.idle": "2021-03-24T20:21:31.644538Z",
     "shell.execute_reply": "2021-03-24T20:21:31.643914Z"
    }
   },
   "outputs": [],
   "source": [
    "r = requests.post(dataUrl, data= {\n",
    "    \"sheet_id\": tableauData[\"sheetId\"],\n",
    "})\n",
    "\n",
    "dataReg = re.search('\\d+;({.*})\\d+;({.*})', r.text, re.MULTILINE)\n",
    "data1 = json.loads(dataReg.group(2))\n",
    "\n",
    "dataJson = data1[\"secondaryInfo\"][\"presModelMap\"][\"dataDictionary\"][\"presModelHolder\"][\"genDataDictionaryPresModel\"][\"dataSegments\"][\"0\"][\"dataColumns\"]"
   ]
  },
  {
   "cell_type": "markdown",
   "metadata": {},
   "source": [
    "Isolate what you want"
   ]
  },
  {
   "cell_type": "code",
   "execution_count": 6,
   "metadata": {
    "execution": {
     "iopub.execute_input": "2021-03-24T20:21:31.650418Z",
     "iopub.status.busy": "2021-03-24T20:21:31.649255Z",
     "iopub.status.idle": "2021-03-24T20:21:31.651522Z",
     "shell.execute_reply": "2021-03-24T20:21:31.650990Z"
    }
   },
   "outputs": [],
   "source": [
    "counties = dataJson[2]['dataValues'][:58]"
   ]
  },
  {
   "cell_type": "code",
   "execution_count": 7,
   "metadata": {
    "execution": {
     "iopub.execute_input": "2021-03-24T20:21:31.657077Z",
     "iopub.status.busy": "2021-03-24T20:21:31.655548Z",
     "iopub.status.idle": "2021-03-24T20:21:31.657750Z",
     "shell.execute_reply": "2021-03-24T20:21:31.658276Z"
    }
   },
   "outputs": [],
   "source": [
    "doses = dataJson[0]['dataValues'][3:61]"
   ]
  },
  {
   "cell_type": "markdown",
   "metadata": {},
   "source": [
    "Data formatting"
   ]
  },
  {
   "cell_type": "code",
   "execution_count": 8,
   "metadata": {
    "execution": {
     "iopub.execute_input": "2021-03-24T20:21:31.663154Z",
     "iopub.status.busy": "2021-03-24T20:21:31.661615Z",
     "iopub.status.idle": "2021-03-24T20:21:31.664026Z",
     "shell.execute_reply": "2021-03-24T20:21:31.664540Z"
    }
   },
   "outputs": [],
   "source": [
    "zipped = dict(zip(counties, doses))"
   ]
  },
  {
   "cell_type": "code",
   "execution_count": 9,
   "metadata": {
    "execution": {
     "iopub.execute_input": "2021-03-24T20:21:31.672142Z",
     "iopub.status.busy": "2021-03-24T20:21:31.670539Z",
     "iopub.status.idle": "2021-03-24T20:21:31.672826Z",
     "shell.execute_reply": "2021-03-24T20:21:31.673400Z"
    }
   },
   "outputs": [],
   "source": [
    "df = pd.Series(zipped).reset_index()"
   ]
  },
  {
   "cell_type": "code",
   "execution_count": 10,
   "metadata": {
    "execution": {
     "iopub.execute_input": "2021-03-24T20:21:31.678489Z",
     "iopub.status.busy": "2021-03-24T20:21:31.677021Z",
     "iopub.status.idle": "2021-03-24T20:21:31.679182Z",
     "shell.execute_reply": "2021-03-24T20:21:31.679770Z"
    }
   },
   "outputs": [],
   "source": [
    "df.columns = ['location','doses']"
   ]
  },
  {
   "cell_type": "markdown",
   "metadata": {},
   "source": [
    "Grab the overall California total"
   ]
  },
  {
   "cell_type": "code",
   "execution_count": 11,
   "metadata": {
    "execution": {
     "iopub.execute_input": "2021-03-24T20:21:31.684839Z",
     "iopub.status.busy": "2021-03-24T20:21:31.683512Z",
     "iopub.status.idle": "2021-03-24T20:21:31.685568Z",
     "shell.execute_reply": "2021-03-24T20:21:31.686132Z"
    }
   },
   "outputs": [],
   "source": [
    "add = {'location':'California','doses':dataJson[0]['dataValues'][2]}"
   ]
  },
  {
   "cell_type": "code",
   "execution_count": 12,
   "metadata": {
    "execution": {
     "iopub.execute_input": "2021-03-24T20:21:31.694645Z",
     "iopub.status.busy": "2021-03-24T20:21:31.693317Z",
     "iopub.status.idle": "2021-03-24T20:21:31.695583Z",
     "shell.execute_reply": "2021-03-24T20:21:31.696046Z"
    }
   },
   "outputs": [],
   "source": [
    "df = df.append(add, ignore_index=True)"
   ]
  },
  {
   "cell_type": "code",
   "execution_count": 13,
   "metadata": {
    "execution": {
     "iopub.execute_input": "2021-03-24T20:21:31.701530Z",
     "iopub.status.busy": "2021-03-24T20:21:31.700095Z",
     "iopub.status.idle": "2021-03-24T20:21:31.702169Z",
     "shell.execute_reply": "2021-03-24T20:21:31.702699Z"
    }
   },
   "outputs": [],
   "source": [
    "df = df.sort_values(by='location')"
   ]
  },
  {
   "cell_type": "code",
   "execution_count": 14,
   "metadata": {
    "execution": {
     "iopub.execute_input": "2021-03-24T20:21:31.710083Z",
     "iopub.status.busy": "2021-03-24T20:21:31.708604Z",
     "iopub.status.idle": "2021-03-24T20:21:31.711238Z",
     "shell.execute_reply": "2021-03-24T20:21:31.711814Z"
    }
   },
   "outputs": [],
   "source": [
    "df = df[df.location == 'California'].append(df[df.location != 'California']).reset_index(drop=True)"
   ]
  },
  {
   "cell_type": "code",
   "execution_count": null,
   "metadata": {},
   "outputs": [],
   "source": []
  },
  {
   "cell_type": "code",
   "execution_count": 15,
   "metadata": {
    "execution": {
     "iopub.execute_input": "2021-03-24T20:21:31.716236Z",
     "iopub.status.busy": "2021-03-24T20:21:31.715572Z",
     "iopub.status.idle": "2021-03-24T20:21:31.738359Z",
     "shell.execute_reply": "2021-03-24T20:21:31.737795Z"
    }
   },
   "outputs": [],
   "source": [
    "tz = pytz.timezone(\"America/New_York\")"
   ]
  },
  {
   "cell_type": "code",
   "execution_count": 16,
   "metadata": {
    "execution": {
     "iopub.execute_input": "2021-03-24T20:21:31.743789Z",
     "iopub.status.busy": "2021-03-24T20:21:31.742346Z",
     "iopub.status.idle": "2021-03-24T20:21:31.744412Z",
     "shell.execute_reply": "2021-03-24T20:21:31.744896Z"
    }
   },
   "outputs": [],
   "source": [
    "today = datetime.now(tz).date()"
   ]
  },
  {
   "cell_type": "code",
   "execution_count": 17,
   "metadata": {
    "execution": {
     "iopub.execute_input": "2021-03-24T20:21:31.749864Z",
     "iopub.status.busy": "2021-03-24T20:21:31.748312Z",
     "iopub.status.idle": "2021-03-24T20:21:31.750577Z",
     "shell.execute_reply": "2021-03-24T20:21:31.751139Z"
    }
   },
   "outputs": [],
   "source": [
    "data_dir = os.path.join(os.path.abspath(\"\"), \"data\")"
   ]
  },
  {
   "cell_type": "code",
   "execution_count": 18,
   "metadata": {
    "execution": {
     "iopub.execute_input": "2021-03-24T20:21:31.756160Z",
     "iopub.status.busy": "2021-03-24T20:21:31.754728Z",
     "iopub.status.idle": "2021-03-24T20:21:31.760857Z",
     "shell.execute_reply": "2021-03-24T20:21:31.761365Z"
    }
   },
   "outputs": [],
   "source": [
    "df.to_csv(os.path.join(data_dir, f\"{today}.csv\"), index=False)"
   ]
  },
  {
   "cell_type": "code",
   "execution_count": null,
   "metadata": {},
   "outputs": [],
   "source": []
  }
 ],
 "metadata": {
  "kernelspec": {
   "display_name": "Python 3",
   "language": "python",
   "name": "python3"
  },
  "language_info": {
   "codemirror_mode": {
    "name": "ipython",
    "version": 3
   },
   "file_extension": ".py",
   "mimetype": "text/x-python",
   "name": "python",
   "nbconvert_exporter": "python",
   "pygments_lexer": "ipython3",
   "version": "3.8.8"
  }
 },
 "nbformat": 4,
 "nbformat_minor": 4
}
