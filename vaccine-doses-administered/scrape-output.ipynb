{
 "cells": [
  {
   "cell_type": "markdown",
   "metadata": {},
   "source": [
    "# California COVID vaccinations scrape"
   ]
  },
  {
   "cell_type": "markdown",
   "metadata": {},
   "source": [
    "By [Amy O'Kruk](https://twitter.com/amyokruk)"
   ]
  },
  {
   "cell_type": "markdown",
   "metadata": {},
   "source": [
    "Downloads data on vaccine doses administered by county and statewide from a Tableau-powered dashboard from the California Department of Public Health."
   ]
  },
  {
   "cell_type": "code",
   "execution_count": 1,
   "metadata": {
    "execution": {
     "iopub.execute_input": "2021-03-18T22:47:00.338426Z",
     "iopub.status.busy": "2021-03-18T22:47:00.337794Z",
     "iopub.status.idle": "2021-03-18T22:47:00.802294Z",
     "shell.execute_reply": "2021-03-18T22:47:00.801701Z"
    }
   },
   "outputs": [],
   "source": [
    "import pandas as pd\n",
    "import requests\n",
    "from bs4 import BeautifulSoup\n",
    "import json\n",
    "import re\n",
    "import time\n",
    "from time import gmtime, strftime \n",
    "import os\n",
    "import pytz\n",
    "from datetime import datetime"
   ]
  },
  {
   "cell_type": "markdown",
   "metadata": {},
   "source": [
    "Scrape the dashboard page"
   ]
  },
  {
   "cell_type": "code",
   "execution_count": 2,
   "metadata": {
    "execution": {
     "iopub.execute_input": "2021-03-18T22:47:00.807827Z",
     "iopub.status.busy": "2021-03-18T22:47:00.805511Z",
     "iopub.status.idle": "2021-03-18T22:47:01.026101Z",
     "shell.execute_reply": "2021-03-18T22:47:01.025312Z"
    }
   },
   "outputs": [],
   "source": [
    "url = \"https://public.tableau.com/interactive/views/COVID-19VaccineDashboardPublic/Vaccine?:embed=y&:showVizHome=n&:apiID=host0\"\n",
    "\n",
    "r = requests.get(url)\n",
    "soup = BeautifulSoup(r.text, \"html.parser\")"
   ]
  },
  {
   "cell_type": "code",
   "execution_count": 3,
   "metadata": {
    "execution": {
     "iopub.execute_input": "2021-03-18T22:47:01.030972Z",
     "iopub.status.busy": "2021-03-18T22:47:01.030459Z",
     "iopub.status.idle": "2021-03-18T22:47:01.034252Z",
     "shell.execute_reply": "2021-03-18T22:47:01.033729Z"
    }
   },
   "outputs": [],
   "source": [
    "tableauData = json.loads(soup.find(\"textarea\",{\"id\": \"tsConfigContainer\"}).text)"
   ]
  },
  {
   "cell_type": "markdown",
   "metadata": {},
   "source": [
    "Get the link to the Tableau data"
   ]
  },
  {
   "cell_type": "code",
   "execution_count": 4,
   "metadata": {
    "execution": {
     "iopub.execute_input": "2021-03-18T22:47:01.037967Z",
     "iopub.status.busy": "2021-03-18T22:47:01.037461Z",
     "iopub.status.idle": "2021-03-18T22:47:01.041132Z",
     "shell.execute_reply": "2021-03-18T22:47:01.040671Z"
    }
   },
   "outputs": [],
   "source": [
    "dataUrl = f'https://public.tableau.com{tableauData[\"vizql_root\"]}/bootstrapSession/sessions/{tableauData[\"sessionid\"]}'"
   ]
  },
  {
   "cell_type": "code",
   "execution_count": 5,
   "metadata": {
    "execution": {
     "iopub.execute_input": "2021-03-18T22:47:01.047361Z",
     "iopub.status.busy": "2021-03-18T22:47:01.046786Z",
     "iopub.status.idle": "2021-03-18T22:47:01.272027Z",
     "shell.execute_reply": "2021-03-18T22:47:01.271553Z"
    }
   },
   "outputs": [],
   "source": [
    "r = requests.post(dataUrl, data= {\n",
    "    \"sheet_id\": tableauData[\"sheetId\"],\n",
    "})\n",
    "\n",
    "dataReg = re.search('\\d+;({.*})\\d+;({.*})', r.text, re.MULTILINE)\n",
    "data1 = json.loads(dataReg.group(2))\n",
    "\n",
    "dataJson = data1[\"secondaryInfo\"][\"presModelMap\"][\"dataDictionary\"][\"presModelHolder\"][\"genDataDictionaryPresModel\"][\"dataSegments\"][\"0\"][\"dataColumns\"]"
   ]
  },
  {
   "cell_type": "markdown",
   "metadata": {},
   "source": [
    "Isolate what you want"
   ]
  },
  {
   "cell_type": "code",
   "execution_count": 6,
   "metadata": {
    "execution": {
     "iopub.execute_input": "2021-03-18T22:47:01.276032Z",
     "iopub.status.busy": "2021-03-18T22:47:01.275456Z",
     "iopub.status.idle": "2021-03-18T22:47:01.279688Z",
     "shell.execute_reply": "2021-03-18T22:47:01.279181Z"
    }
   },
   "outputs": [],
   "source": [
    "counties = dataJson[2]['dataValues'][:58]"
   ]
  },
  {
   "cell_type": "code",
   "execution_count": 7,
   "metadata": {
    "execution": {
     "iopub.execute_input": "2021-03-18T22:47:01.283354Z",
     "iopub.status.busy": "2021-03-18T22:47:01.282734Z",
     "iopub.status.idle": "2021-03-18T22:47:01.289925Z",
     "shell.execute_reply": "2021-03-18T22:47:01.288341Z"
    }
   },
   "outputs": [],
   "source": [
    "doses = dataJson[0]['dataValues'][3:61]"
   ]
  },
  {
   "cell_type": "markdown",
   "metadata": {},
   "source": [
    "Data formatting"
   ]
  },
  {
   "cell_type": "code",
   "execution_count": 8,
   "metadata": {
    "execution": {
     "iopub.execute_input": "2021-03-18T22:47:01.294010Z",
     "iopub.status.busy": "2021-03-18T22:47:01.293398Z",
     "iopub.status.idle": "2021-03-18T22:47:01.297379Z",
     "shell.execute_reply": "2021-03-18T22:47:01.296962Z"
    }
   },
   "outputs": [],
   "source": [
    "zipped = dict(zip(counties, doses))"
   ]
  },
  {
   "cell_type": "code",
   "execution_count": 9,
   "metadata": {
    "execution": {
     "iopub.execute_input": "2021-03-18T22:47:01.303029Z",
     "iopub.status.busy": "2021-03-18T22:47:01.302475Z",
     "iopub.status.idle": "2021-03-18T22:47:01.306325Z",
     "shell.execute_reply": "2021-03-18T22:47:01.305830Z"
    }
   },
   "outputs": [],
   "source": [
    "df = pd.Series(zipped).reset_index()"
   ]
  },
  {
   "cell_type": "code",
   "execution_count": 10,
   "metadata": {
    "execution": {
     "iopub.execute_input": "2021-03-18T22:47:01.309839Z",
     "iopub.status.busy": "2021-03-18T22:47:01.309343Z",
     "iopub.status.idle": "2021-03-18T22:47:01.312473Z",
     "shell.execute_reply": "2021-03-18T22:47:01.313193Z"
    }
   },
   "outputs": [],
   "source": [
    "df.columns = ['location','doses']"
   ]
  },
  {
   "cell_type": "markdown",
   "metadata": {},
   "source": [
    "Grab the overall California total"
   ]
  },
  {
   "cell_type": "code",
   "execution_count": 11,
   "metadata": {
    "execution": {
     "iopub.execute_input": "2021-03-18T22:47:01.318759Z",
     "iopub.status.busy": "2021-03-18T22:47:01.318229Z",
     "iopub.status.idle": "2021-03-18T22:47:01.322498Z",
     "shell.execute_reply": "2021-03-18T22:47:01.322061Z"
    }
   },
   "outputs": [],
   "source": [
    "add = {'location':'California','doses':dataJson[0]['dataValues'][2]}"
   ]
  },
  {
   "cell_type": "code",
   "execution_count": 12,
   "metadata": {
    "execution": {
     "iopub.execute_input": "2021-03-18T22:47:01.329714Z",
     "iopub.status.busy": "2021-03-18T22:47:01.328487Z",
     "iopub.status.idle": "2021-03-18T22:47:01.330382Z",
     "shell.execute_reply": "2021-03-18T22:47:01.331133Z"
    }
   },
   "outputs": [],
   "source": [
    "df = df.append(add, ignore_index=True)"
   ]
  },
  {
   "cell_type": "code",
   "execution_count": 13,
   "metadata": {
    "execution": {
     "iopub.execute_input": "2021-03-18T22:47:01.335952Z",
     "iopub.status.busy": "2021-03-18T22:47:01.335077Z",
     "iopub.status.idle": "2021-03-18T22:47:01.337066Z",
     "shell.execute_reply": "2021-03-18T22:47:01.337471Z"
    }
   },
   "outputs": [],
   "source": [
    "df = df.sort_values(by='location')"
   ]
  },
  {
   "cell_type": "code",
   "execution_count": 14,
   "metadata": {
    "execution": {
     "iopub.execute_input": "2021-03-18T22:47:01.343348Z",
     "iopub.status.busy": "2021-03-18T22:47:01.342741Z",
     "iopub.status.idle": "2021-03-18T22:47:01.345673Z",
     "shell.execute_reply": "2021-03-18T22:47:01.346589Z"
    }
   },
   "outputs": [],
   "source": [
    "df = df[df.location == 'California'].append(df[df.location != 'California']).reset_index(drop=True)"
   ]
  },
  {
   "cell_type": "code",
   "execution_count": null,
   "metadata": {},
   "outputs": [],
   "source": []
  },
  {
   "cell_type": "code",
   "execution_count": 15,
   "metadata": {
    "execution": {
     "iopub.execute_input": "2021-03-18T22:47:01.352595Z",
     "iopub.status.busy": "2021-03-18T22:47:01.351641Z",
     "iopub.status.idle": "2021-03-18T22:47:01.371553Z",
     "shell.execute_reply": "2021-03-18T22:47:01.371096Z"
    }
   },
   "outputs": [],
   "source": [
    "tz = pytz.timezone(\"America/New_York\")"
   ]
  },
  {
   "cell_type": "code",
   "execution_count": 16,
   "metadata": {
    "execution": {
     "iopub.execute_input": "2021-03-18T22:47:01.376180Z",
     "iopub.status.busy": "2021-03-18T22:47:01.374857Z",
     "iopub.status.idle": "2021-03-18T22:47:01.376966Z",
     "shell.execute_reply": "2021-03-18T22:47:01.378479Z"
    }
   },
   "outputs": [],
   "source": [
    "today = datetime.now(tz).date()"
   ]
  },
  {
   "cell_type": "code",
   "execution_count": 17,
   "metadata": {
    "execution": {
     "iopub.execute_input": "2021-03-18T22:47:01.384039Z",
     "iopub.status.busy": "2021-03-18T22:47:01.382609Z",
     "iopub.status.idle": "2021-03-18T22:47:01.384735Z",
     "shell.execute_reply": "2021-03-18T22:47:01.385242Z"
    }
   },
   "outputs": [],
   "source": [
    "data_dir = os.path.join(os.path.abspath(\"\"), \"data\")"
   ]
  },
  {
   "cell_type": "code",
   "execution_count": 18,
   "metadata": {
    "execution": {
     "iopub.execute_input": "2021-03-18T22:47:01.390469Z",
     "iopub.status.busy": "2021-03-18T22:47:01.389413Z",
     "iopub.status.idle": "2021-03-18T22:47:01.394175Z",
     "shell.execute_reply": "2021-03-18T22:47:01.392630Z"
    }
   },
   "outputs": [],
   "source": [
    "df.to_csv(os.path.join(data_dir, f\"{today}.csv\"), index=False)"
   ]
  },
  {
   "cell_type": "code",
   "execution_count": null,
   "metadata": {},
   "outputs": [],
   "source": []
  }
 ],
 "metadata": {
  "kernelspec": {
   "display_name": "Python 3",
   "language": "python",
   "name": "python3"
  },
  "language_info": {
   "codemirror_mode": {
    "name": "ipython",
    "version": 3
   },
   "file_extension": ".py",
   "mimetype": "text/x-python",
   "name": "python",
   "nbconvert_exporter": "python",
   "pygments_lexer": "ipython3",
   "version": "3.8.8"
  }
 },
 "nbformat": 4,
 "nbformat_minor": 4
}
