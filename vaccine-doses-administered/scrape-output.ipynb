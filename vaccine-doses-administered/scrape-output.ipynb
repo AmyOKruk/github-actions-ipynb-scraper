{
 "cells": [
  {
   "cell_type": "markdown",
   "metadata": {},
   "source": [
    "# California COVID vaccinations scrape"
   ]
  },
  {
   "cell_type": "markdown",
   "metadata": {},
   "source": [
    "By [Amy O'Kruk](https://twitter.com/amyokruk)"
   ]
  },
  {
   "cell_type": "markdown",
   "metadata": {},
   "source": [
    "Downloads data on vaccine doses administered by county and statewide from a Tableau-powered dashboard from the California Department of Public Health."
   ]
  },
  {
   "cell_type": "code",
   "execution_count": 1,
   "metadata": {
    "execution": {
     "iopub.execute_input": "2021-03-11T04:15:45.763251Z",
     "iopub.status.busy": "2021-03-11T04:15:45.762673Z",
     "iopub.status.idle": "2021-03-11T04:15:46.180310Z",
     "shell.execute_reply": "2021-03-11T04:15:46.179092Z"
    }
   },
   "outputs": [],
   "source": [
    "import pandas as pd\n",
    "import requests\n",
    "from bs4 import BeautifulSoup\n",
    "import json\n",
    "import re\n",
    "import time\n",
    "from time import gmtime, strftime \n",
    "import os\n",
    "import pytz\n",
    "from datetime import datetime"
   ]
  },
  {
   "cell_type": "markdown",
   "metadata": {},
   "source": [
    "Scrape the dashboard page"
   ]
  },
  {
   "cell_type": "code",
   "execution_count": 2,
   "metadata": {
    "execution": {
     "iopub.execute_input": "2021-03-11T04:15:46.184602Z",
     "iopub.status.busy": "2021-03-11T04:15:46.184086Z",
     "iopub.status.idle": "2021-03-11T04:15:46.478449Z",
     "shell.execute_reply": "2021-03-11T04:15:46.477965Z"
    }
   },
   "outputs": [],
   "source": [
    "url = \"https://public.tableau.com/interactive/views/COVID-19VaccineDashboardPublic/Vaccine?:embed=y&:showVizHome=n&:apiID=host0\"\n",
    "\n",
    "r = requests.get(url)\n",
    "soup = BeautifulSoup(r.text, \"html.parser\")"
   ]
  },
  {
   "cell_type": "code",
   "execution_count": 3,
   "metadata": {
    "execution": {
     "iopub.execute_input": "2021-03-11T04:15:46.483199Z",
     "iopub.status.busy": "2021-03-11T04:15:46.482676Z",
     "iopub.status.idle": "2021-03-11T04:15:46.486061Z",
     "shell.execute_reply": "2021-03-11T04:15:46.485636Z"
    }
   },
   "outputs": [],
   "source": [
    "tableauData = json.loads(soup.find(\"textarea\",{\"id\": \"tsConfigContainer\"}).text)"
   ]
  },
  {
   "cell_type": "markdown",
   "metadata": {},
   "source": [
    "Get the link to the Tableau data"
   ]
  },
  {
   "cell_type": "code",
   "execution_count": 4,
   "metadata": {
    "execution": {
     "iopub.execute_input": "2021-03-11T04:15:46.490254Z",
     "iopub.status.busy": "2021-03-11T04:15:46.489153Z",
     "iopub.status.idle": "2021-03-11T04:15:46.490845Z",
     "shell.execute_reply": "2021-03-11T04:15:46.491266Z"
    }
   },
   "outputs": [],
   "source": [
    "dataUrl = f'https://public.tableau.com{tableauData[\"vizql_root\"]}/bootstrapSession/sessions/{tableauData[\"sessionid\"]}'"
   ]
  },
  {
   "cell_type": "code",
   "execution_count": 5,
   "metadata": {
    "execution": {
     "iopub.execute_input": "2021-03-11T04:15:46.497907Z",
     "iopub.status.busy": "2021-03-11T04:15:46.497383Z",
     "iopub.status.idle": "2021-03-11T04:15:46.724440Z",
     "shell.execute_reply": "2021-03-11T04:15:46.723923Z"
    }
   },
   "outputs": [],
   "source": [
    "r = requests.post(dataUrl, data= {\n",
    "    \"sheet_id\": tableauData[\"sheetId\"],\n",
    "})\n",
    "\n",
    "dataReg = re.search('\\d+;({.*})\\d+;({.*})', r.text, re.MULTILINE)\n",
    "data1 = json.loads(dataReg.group(2))\n",
    "\n",
    "dataJson = data1[\"secondaryInfo\"][\"presModelMap\"][\"dataDictionary\"][\"presModelHolder\"][\"genDataDictionaryPresModel\"][\"dataSegments\"][\"0\"][\"dataColumns\"]"
   ]
  },
  {
   "cell_type": "markdown",
   "metadata": {},
   "source": [
    "Isolate what you want"
   ]
  },
  {
   "cell_type": "code",
   "execution_count": 6,
   "metadata": {
    "execution": {
     "iopub.execute_input": "2021-03-11T04:15:46.728856Z",
     "iopub.status.busy": "2021-03-11T04:15:46.727713Z",
     "iopub.status.idle": "2021-03-11T04:15:46.729445Z",
     "shell.execute_reply": "2021-03-11T04:15:46.729869Z"
    }
   },
   "outputs": [],
   "source": [
    "counties = dataJson[2]['dataValues'][:58]"
   ]
  },
  {
   "cell_type": "code",
   "execution_count": 7,
   "metadata": {
    "execution": {
     "iopub.execute_input": "2021-03-11T04:15:46.734006Z",
     "iopub.status.busy": "2021-03-11T04:15:46.732996Z",
     "iopub.status.idle": "2021-03-11T04:15:46.734734Z",
     "shell.execute_reply": "2021-03-11T04:15:46.735251Z"
    }
   },
   "outputs": [],
   "source": [
    "doses = dataJson[0]['dataValues'][3:61]"
   ]
  },
  {
   "cell_type": "markdown",
   "metadata": {},
   "source": [
    "Data formatting"
   ]
  },
  {
   "cell_type": "code",
   "execution_count": 8,
   "metadata": {
    "execution": {
     "iopub.execute_input": "2021-03-11T04:15:46.739460Z",
     "iopub.status.busy": "2021-03-11T04:15:46.738296Z",
     "iopub.status.idle": "2021-03-11T04:15:46.740081Z",
     "shell.execute_reply": "2021-03-11T04:15:46.740502Z"
    }
   },
   "outputs": [],
   "source": [
    "zipped = dict(zip(counties, doses))"
   ]
  },
  {
   "cell_type": "code",
   "execution_count": 9,
   "metadata": {
    "execution": {
     "iopub.execute_input": "2021-03-11T04:15:46.746802Z",
     "iopub.status.busy": "2021-03-11T04:15:46.745513Z",
     "iopub.status.idle": "2021-03-11T04:15:46.747380Z",
     "shell.execute_reply": "2021-03-11T04:15:46.747800Z"
    }
   },
   "outputs": [],
   "source": [
    "df = pd.Series(zipped).reset_index()"
   ]
  },
  {
   "cell_type": "code",
   "execution_count": 10,
   "metadata": {
    "execution": {
     "iopub.execute_input": "2021-03-11T04:15:46.752848Z",
     "iopub.status.busy": "2021-03-11T04:15:46.751632Z",
     "iopub.status.idle": "2021-03-11T04:15:46.753383Z",
     "shell.execute_reply": "2021-03-11T04:15:46.753809Z"
    }
   },
   "outputs": [],
   "source": [
    "df.columns = ['location','doses']"
   ]
  },
  {
   "cell_type": "markdown",
   "metadata": {},
   "source": [
    "Grab the overall California total"
   ]
  },
  {
   "cell_type": "code",
   "execution_count": 11,
   "metadata": {
    "execution": {
     "iopub.execute_input": "2021-03-11T04:15:46.758083Z",
     "iopub.status.busy": "2021-03-11T04:15:46.756919Z",
     "iopub.status.idle": "2021-03-11T04:15:46.758668Z",
     "shell.execute_reply": "2021-03-11T04:15:46.759089Z"
    }
   },
   "outputs": [],
   "source": [
    "add = {'location':'California','doses':dataJson[0]['dataValues'][2]}"
   ]
  },
  {
   "cell_type": "code",
   "execution_count": 12,
   "metadata": {
    "execution": {
     "iopub.execute_input": "2021-03-11T04:15:46.766452Z",
     "iopub.status.busy": "2021-03-11T04:15:46.764975Z",
     "iopub.status.idle": "2021-03-11T04:15:46.767050Z",
     "shell.execute_reply": "2021-03-11T04:15:46.767476Z"
    }
   },
   "outputs": [],
   "source": [
    "df = df.append(add, ignore_index=True)"
   ]
  },
  {
   "cell_type": "code",
   "execution_count": 13,
   "metadata": {
    "execution": {
     "iopub.execute_input": "2021-03-11T04:15:46.772437Z",
     "iopub.status.busy": "2021-03-11T04:15:46.771263Z",
     "iopub.status.idle": "2021-03-11T04:15:46.773045Z",
     "shell.execute_reply": "2021-03-11T04:15:46.773437Z"
    }
   },
   "outputs": [],
   "source": [
    "df = df.sort_values(by='location')"
   ]
  },
  {
   "cell_type": "code",
   "execution_count": 14,
   "metadata": {
    "execution": {
     "iopub.execute_input": "2021-03-11T04:15:46.779137Z",
     "iopub.status.busy": "2021-03-11T04:15:46.778326Z",
     "iopub.status.idle": "2021-03-11T04:15:46.780524Z",
     "shell.execute_reply": "2021-03-11T04:15:46.780095Z"
    }
   },
   "outputs": [],
   "source": [
    "df = df[df.location == 'California'].append(df[df.location != 'California']).reset_index(drop=True)"
   ]
  },
  {
   "cell_type": "code",
   "execution_count": null,
   "metadata": {},
   "outputs": [],
   "source": []
  },
  {
   "cell_type": "code",
   "execution_count": 15,
   "metadata": {
    "execution": {
     "iopub.execute_input": "2021-03-11T04:15:46.783796Z",
     "iopub.status.busy": "2021-03-11T04:15:46.783209Z",
     "iopub.status.idle": "2021-03-11T04:15:46.799852Z",
     "shell.execute_reply": "2021-03-11T04:15:46.799436Z"
    }
   },
   "outputs": [],
   "source": [
    "tz = pytz.timezone(\"America/New_York\")"
   ]
  },
  {
   "cell_type": "code",
   "execution_count": 16,
   "metadata": {
    "execution": {
     "iopub.execute_input": "2021-03-11T04:15:46.803942Z",
     "iopub.status.busy": "2021-03-11T04:15:46.802865Z",
     "iopub.status.idle": "2021-03-11T04:15:46.804522Z",
     "shell.execute_reply": "2021-03-11T04:15:46.804914Z"
    }
   },
   "outputs": [],
   "source": [
    "today = datetime.now(tz).date()"
   ]
  },
  {
   "cell_type": "code",
   "execution_count": 17,
   "metadata": {
    "execution": {
     "iopub.execute_input": "2021-03-11T04:15:46.809203Z",
     "iopub.status.busy": "2021-03-11T04:15:46.808108Z",
     "iopub.status.idle": "2021-03-11T04:15:46.809859Z",
     "shell.execute_reply": "2021-03-11T04:15:46.810290Z"
    }
   },
   "outputs": [],
   "source": [
    "data_dir = os.path.join(os.path.abspath(\"\"), \"data\")"
   ]
  },
  {
   "cell_type": "code",
   "execution_count": 18,
   "metadata": {
    "execution": {
     "iopub.execute_input": "2021-03-11T04:15:46.814665Z",
     "iopub.status.busy": "2021-03-11T04:15:46.813537Z",
     "iopub.status.idle": "2021-03-11T04:15:46.818083Z",
     "shell.execute_reply": "2021-03-11T04:15:46.817605Z"
    }
   },
   "outputs": [],
   "source": [
    "df.to_csv(os.path.join(data_dir, f\"{today}.csv\"), index=False)"
   ]
  },
  {
   "cell_type": "code",
   "execution_count": null,
   "metadata": {},
   "outputs": [],
   "source": []
  }
 ],
 "metadata": {
  "kernelspec": {
   "display_name": "Python 3",
   "language": "python",
   "name": "python3"
  },
  "language_info": {
   "codemirror_mode": {
    "name": "ipython",
    "version": 3
   },
   "file_extension": ".py",
   "mimetype": "text/x-python",
   "name": "python",
   "nbconvert_exporter": "python",
   "pygments_lexer": "ipython3",
   "version": "3.8.8"
  }
 },
 "nbformat": 4,
 "nbformat_minor": 4
}
