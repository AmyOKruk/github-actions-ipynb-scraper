{
 "cells": [
  {
   "cell_type": "markdown",
   "metadata": {},
   "source": [
    "# California COVID vaccinations scrape"
   ]
  },
  {
   "cell_type": "markdown",
   "metadata": {},
   "source": [
    "By [Amy O'Kruk](https://twitter.com/amyokruk)"
   ]
  },
  {
   "cell_type": "markdown",
   "metadata": {},
   "source": [
    "Downloads data on vaccine doses administered by county and statewide from a Tableau-powered dashboard from the California Department of Public Health."
   ]
  },
  {
   "cell_type": "code",
   "execution_count": 1,
   "metadata": {
    "execution": {
     "iopub.execute_input": "2021-03-12T21:41:34.589568Z",
     "iopub.status.busy": "2021-03-12T21:41:34.588827Z",
     "iopub.status.idle": "2021-03-12T21:41:35.835015Z",
     "shell.execute_reply": "2021-03-12T21:41:35.834324Z"
    }
   },
   "outputs": [],
   "source": [
    "import pandas as pd\n",
    "import requests\n",
    "from bs4 import BeautifulSoup\n",
    "import json\n",
    "import re\n",
    "import time\n",
    "from time import gmtime, strftime \n",
    "import os\n",
    "import pytz\n",
    "from datetime import datetime"
   ]
  },
  {
   "cell_type": "markdown",
   "metadata": {},
   "source": [
    "Scrape the dashboard page"
   ]
  },
  {
   "cell_type": "code",
   "execution_count": 2,
   "metadata": {
    "execution": {
     "iopub.execute_input": "2021-03-12T21:41:35.840951Z",
     "iopub.status.busy": "2021-03-12T21:41:35.839019Z",
     "iopub.status.idle": "2021-03-12T21:41:36.473311Z",
     "shell.execute_reply": "2021-03-12T21:41:36.472621Z"
    }
   },
   "outputs": [],
   "source": [
    "url = \"https://public.tableau.com/interactive/views/COVID-19VaccineDashboardPublic/Vaccine?:embed=y&:showVizHome=n&:apiID=host0\"\n",
    "\n",
    "r = requests.get(url)\n",
    "soup = BeautifulSoup(r.text, \"html.parser\")"
   ]
  },
  {
   "cell_type": "code",
   "execution_count": 3,
   "metadata": {
    "execution": {
     "iopub.execute_input": "2021-03-12T21:41:36.478593Z",
     "iopub.status.busy": "2021-03-12T21:41:36.477976Z",
     "iopub.status.idle": "2021-03-12T21:41:36.483987Z",
     "shell.execute_reply": "2021-03-12T21:41:36.483379Z"
    }
   },
   "outputs": [],
   "source": [
    "tableauData = json.loads(soup.find(\"textarea\",{\"id\": \"tsConfigContainer\"}).text)"
   ]
  },
  {
   "cell_type": "markdown",
   "metadata": {},
   "source": [
    "Get the link to the Tableau data"
   ]
  },
  {
   "cell_type": "code",
   "execution_count": 4,
   "metadata": {
    "execution": {
     "iopub.execute_input": "2021-03-12T21:41:36.492201Z",
     "iopub.status.busy": "2021-03-12T21:41:36.490786Z",
     "iopub.status.idle": "2021-03-12T21:41:36.492867Z",
     "shell.execute_reply": "2021-03-12T21:41:36.493363Z"
    }
   },
   "outputs": [],
   "source": [
    "dataUrl = f'https://public.tableau.com{tableauData[\"vizql_root\"]}/bootstrapSession/sessions/{tableauData[\"sessionid\"]}'"
   ]
  },
  {
   "cell_type": "code",
   "execution_count": 5,
   "metadata": {
    "execution": {
     "iopub.execute_input": "2021-03-12T21:41:36.500512Z",
     "iopub.status.busy": "2021-03-12T21:41:36.499903Z",
     "iopub.status.idle": "2021-03-12T21:41:36.955196Z",
     "shell.execute_reply": "2021-03-12T21:41:36.954522Z"
    }
   },
   "outputs": [],
   "source": [
    "r = requests.post(dataUrl, data= {\n",
    "    \"sheet_id\": tableauData[\"sheetId\"],\n",
    "})\n",
    "\n",
    "dataReg = re.search('\\d+;({.*})\\d+;({.*})', r.text, re.MULTILINE)\n",
    "data1 = json.loads(dataReg.group(2))\n",
    "\n",
    "dataJson = data1[\"secondaryInfo\"][\"presModelMap\"][\"dataDictionary\"][\"presModelHolder\"][\"genDataDictionaryPresModel\"][\"dataSegments\"][\"0\"][\"dataColumns\"]"
   ]
  },
  {
   "cell_type": "markdown",
   "metadata": {},
   "source": [
    "Isolate what you want"
   ]
  },
  {
   "cell_type": "code",
   "execution_count": 6,
   "metadata": {
    "execution": {
     "iopub.execute_input": "2021-03-12T21:41:36.961145Z",
     "iopub.status.busy": "2021-03-12T21:41:36.959504Z",
     "iopub.status.idle": "2021-03-12T21:41:36.961867Z",
     "shell.execute_reply": "2021-03-12T21:41:36.962433Z"
    }
   },
   "outputs": [],
   "source": [
    "counties = dataJson[2]['dataValues'][:58]"
   ]
  },
  {
   "cell_type": "code",
   "execution_count": 7,
   "metadata": {
    "execution": {
     "iopub.execute_input": "2021-03-12T21:41:36.968856Z",
     "iopub.status.busy": "2021-03-12T21:41:36.966636Z",
     "iopub.status.idle": "2021-03-12T21:41:36.969552Z",
     "shell.execute_reply": "2021-03-12T21:41:36.970348Z"
    }
   },
   "outputs": [],
   "source": [
    "doses = dataJson[0]['dataValues'][3:61]"
   ]
  },
  {
   "cell_type": "markdown",
   "metadata": {},
   "source": [
    "Data formatting"
   ]
  },
  {
   "cell_type": "code",
   "execution_count": 8,
   "metadata": {
    "execution": {
     "iopub.execute_input": "2021-03-12T21:41:36.974668Z",
     "iopub.status.busy": "2021-03-12T21:41:36.974024Z",
     "iopub.status.idle": "2021-03-12T21:41:36.977215Z",
     "shell.execute_reply": "2021-03-12T21:41:36.976613Z"
    }
   },
   "outputs": [],
   "source": [
    "zipped = dict(zip(counties, doses))"
   ]
  },
  {
   "cell_type": "code",
   "execution_count": 9,
   "metadata": {
    "execution": {
     "iopub.execute_input": "2021-03-12T21:41:36.985105Z",
     "iopub.status.busy": "2021-03-12T21:41:36.983525Z",
     "iopub.status.idle": "2021-03-12T21:41:36.985782Z",
     "shell.execute_reply": "2021-03-12T21:41:36.986297Z"
    }
   },
   "outputs": [],
   "source": [
    "df = pd.Series(zipped).reset_index()"
   ]
  },
  {
   "cell_type": "code",
   "execution_count": 10,
   "metadata": {
    "execution": {
     "iopub.execute_input": "2021-03-12T21:41:36.991486Z",
     "iopub.status.busy": "2021-03-12T21:41:36.990107Z",
     "iopub.status.idle": "2021-03-12T21:41:36.992185Z",
     "shell.execute_reply": "2021-03-12T21:41:36.992691Z"
    }
   },
   "outputs": [],
   "source": [
    "df.columns = ['location','doses']"
   ]
  },
  {
   "cell_type": "markdown",
   "metadata": {},
   "source": [
    "Grab the overall California total"
   ]
  },
  {
   "cell_type": "code",
   "execution_count": 11,
   "metadata": {
    "execution": {
     "iopub.execute_input": "2021-03-12T21:41:36.998238Z",
     "iopub.status.busy": "2021-03-12T21:41:36.996972Z",
     "iopub.status.idle": "2021-03-12T21:41:36.999004Z",
     "shell.execute_reply": "2021-03-12T21:41:37.000006Z"
    }
   },
   "outputs": [],
   "source": [
    "add = {'location':'California','doses':dataJson[0]['dataValues'][2]}"
   ]
  },
  {
   "cell_type": "code",
   "execution_count": 12,
   "metadata": {
    "execution": {
     "iopub.execute_input": "2021-03-12T21:41:37.009280Z",
     "iopub.status.busy": "2021-03-12T21:41:37.007700Z",
     "iopub.status.idle": "2021-03-12T21:41:37.009969Z",
     "shell.execute_reply": "2021-03-12T21:41:37.010549Z"
    }
   },
   "outputs": [],
   "source": [
    "df = df.append(add, ignore_index=True)"
   ]
  },
  {
   "cell_type": "code",
   "execution_count": 13,
   "metadata": {
    "execution": {
     "iopub.execute_input": "2021-03-12T21:41:37.016964Z",
     "iopub.status.busy": "2021-03-12T21:41:37.015544Z",
     "iopub.status.idle": "2021-03-12T21:41:37.017720Z",
     "shell.execute_reply": "2021-03-12T21:41:37.018226Z"
    }
   },
   "outputs": [],
   "source": [
    "df = df.sort_values(by='location')"
   ]
  },
  {
   "cell_type": "code",
   "execution_count": 14,
   "metadata": {
    "execution": {
     "iopub.execute_input": "2021-03-12T21:41:37.024595Z",
     "iopub.status.busy": "2021-03-12T21:41:37.023987Z",
     "iopub.status.idle": "2021-03-12T21:41:37.027399Z",
     "shell.execute_reply": "2021-03-12T21:41:37.026835Z"
    }
   },
   "outputs": [],
   "source": [
    "df = df[df.location == 'California'].append(df[df.location != 'California']).reset_index(drop=True)"
   ]
  },
  {
   "cell_type": "code",
   "execution_count": null,
   "metadata": {},
   "outputs": [],
   "source": []
  },
  {
   "cell_type": "code",
   "execution_count": 15,
   "metadata": {
    "execution": {
     "iopub.execute_input": "2021-03-12T21:41:37.031626Z",
     "iopub.status.busy": "2021-03-12T21:41:37.031011Z",
     "iopub.status.idle": "2021-03-12T21:41:37.052761Z",
     "shell.execute_reply": "2021-03-12T21:41:37.052216Z"
    }
   },
   "outputs": [],
   "source": [
    "tz = pytz.timezone(\"America/New_York\")"
   ]
  },
  {
   "cell_type": "code",
   "execution_count": 16,
   "metadata": {
    "execution": {
     "iopub.execute_input": "2021-03-12T21:41:37.058747Z",
     "iopub.status.busy": "2021-03-12T21:41:37.056507Z",
     "iopub.status.idle": "2021-03-12T21:41:37.059484Z",
     "shell.execute_reply": "2021-03-12T21:41:37.060044Z"
    }
   },
   "outputs": [],
   "source": [
    "today = datetime.now(tz).date()"
   ]
  },
  {
   "cell_type": "code",
   "execution_count": 17,
   "metadata": {
    "execution": {
     "iopub.execute_input": "2021-03-12T21:41:37.064819Z",
     "iopub.status.busy": "2021-03-12T21:41:37.063729Z",
     "iopub.status.idle": "2021-03-12T21:41:37.065919Z",
     "shell.execute_reply": "2021-03-12T21:41:37.066415Z"
    }
   },
   "outputs": [],
   "source": [
    "data_dir = os.path.join(os.path.abspath(\"\"), \"data\")"
   ]
  },
  {
   "cell_type": "code",
   "execution_count": 18,
   "metadata": {
    "execution": {
     "iopub.execute_input": "2021-03-12T21:41:37.071039Z",
     "iopub.status.busy": "2021-03-12T21:41:37.070419Z",
     "iopub.status.idle": "2021-03-12T21:41:37.075819Z",
     "shell.execute_reply": "2021-03-12T21:41:37.075171Z"
    }
   },
   "outputs": [],
   "source": [
    "df.to_csv(os.path.join(data_dir, f\"{today}.csv\"), index=False)"
   ]
  },
  {
   "cell_type": "code",
   "execution_count": null,
   "metadata": {},
   "outputs": [],
   "source": []
  }
 ],
 "metadata": {
  "kernelspec": {
   "display_name": "Python 3",
   "language": "python",
   "name": "python3"
  },
  "language_info": {
   "codemirror_mode": {
    "name": "ipython",
    "version": 3
   },
   "file_extension": ".py",
   "mimetype": "text/x-python",
   "name": "python",
   "nbconvert_exporter": "python",
   "pygments_lexer": "ipython3",
   "version": "3.8.8"
  }
 },
 "nbformat": 4,
 "nbformat_minor": 4
}
