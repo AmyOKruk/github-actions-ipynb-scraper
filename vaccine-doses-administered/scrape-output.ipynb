{
 "cells": [
  {
   "cell_type": "markdown",
   "metadata": {},
   "source": [
    "# California COVID vaccinations scrape"
   ]
  },
  {
   "cell_type": "markdown",
   "metadata": {},
   "source": [
    "By [Amy O'Kruk](https://twitter.com/amyokruk)"
   ]
  },
  {
   "cell_type": "markdown",
   "metadata": {},
   "source": [
    "Downloads data on vaccine doses administered by county and statewide from a Tableau-powered dashboard from the California Department of Public Health."
   ]
  },
  {
   "cell_type": "code",
   "execution_count": 1,
   "metadata": {
    "execution": {
     "iopub.execute_input": "2021-03-10T05:41:44.874894Z",
     "iopub.status.busy": "2021-03-10T05:41:44.874013Z",
     "iopub.status.idle": "2021-03-10T05:41:45.195496Z",
     "shell.execute_reply": "2021-03-10T05:41:45.194623Z"
    }
   },
   "outputs": [],
   "source": [
    "import pandas as pd\n",
    "import requests\n",
    "from bs4 import BeautifulSoup\n",
    "import json\n",
    "import re\n",
    "import time\n",
    "from time import gmtime, strftime \n",
    "import os\n",
    "import pytz\n",
    "from datetime import datetime"
   ]
  },
  {
   "cell_type": "markdown",
   "metadata": {},
   "source": [
    "Scrape the dashboard page"
   ]
  },
  {
   "cell_type": "code",
   "execution_count": 2,
   "metadata": {
    "execution": {
     "iopub.execute_input": "2021-03-10T05:41:45.199342Z",
     "iopub.status.busy": "2021-03-10T05:41:45.198830Z",
     "iopub.status.idle": "2021-03-10T05:41:45.742007Z",
     "shell.execute_reply": "2021-03-10T05:41:45.742446Z"
    }
   },
   "outputs": [],
   "source": [
    "url = \"https://public.tableau.com/interactive/views/COVID-19VaccineDashboardPublic/Vaccine?:embed=y&:showVizHome=n&:apiID=host0\"\n",
    "\n",
    "r = requests.get(url)\n",
    "soup = BeautifulSoup(r.text, \"html.parser\")"
   ]
  },
  {
   "cell_type": "code",
   "execution_count": 3,
   "metadata": {
    "execution": {
     "iopub.execute_input": "2021-03-10T05:41:45.747207Z",
     "iopub.status.busy": "2021-03-10T05:41:45.746686Z",
     "iopub.status.idle": "2021-03-10T05:41:45.749987Z",
     "shell.execute_reply": "2021-03-10T05:41:45.749602Z"
    }
   },
   "outputs": [],
   "source": [
    "tableauData = json.loads(soup.find(\"textarea\",{\"id\": \"tsConfigContainer\"}).text)"
   ]
  },
  {
   "cell_type": "markdown",
   "metadata": {},
   "source": [
    "Get the link to the Tableau data"
   ]
  },
  {
   "cell_type": "code",
   "execution_count": 4,
   "metadata": {
    "execution": {
     "iopub.execute_input": "2021-03-10T05:41:45.753099Z",
     "iopub.status.busy": "2021-03-10T05:41:45.752652Z",
     "iopub.status.idle": "2021-03-10T05:41:45.755931Z",
     "shell.execute_reply": "2021-03-10T05:41:45.755527Z"
    }
   },
   "outputs": [],
   "source": [
    "dataUrl = f'https://public.tableau.com{tableauData[\"vizql_root\"]}/bootstrapSession/sessions/{tableauData[\"sessionid\"]}'"
   ]
  },
  {
   "cell_type": "code",
   "execution_count": 5,
   "metadata": {
    "execution": {
     "iopub.execute_input": "2021-03-10T05:41:45.761663Z",
     "iopub.status.busy": "2021-03-10T05:41:45.761214Z",
     "iopub.status.idle": "2021-03-10T05:41:46.249406Z",
     "shell.execute_reply": "2021-03-10T05:41:46.248968Z"
    }
   },
   "outputs": [],
   "source": [
    "r = requests.post(dataUrl, data= {\n",
    "    \"sheet_id\": tableauData[\"sheetId\"],\n",
    "})\n",
    "\n",
    "dataReg = re.search('\\d+;({.*})\\d+;({.*})', r.text, re.MULTILINE)\n",
    "data1 = json.loads(dataReg.group(2))\n",
    "\n",
    "dataJson = data1[\"secondaryInfo\"][\"presModelMap\"][\"dataDictionary\"][\"presModelHolder\"][\"genDataDictionaryPresModel\"][\"dataSegments\"][\"0\"][\"dataColumns\"]"
   ]
  },
  {
   "cell_type": "markdown",
   "metadata": {},
   "source": [
    "Isolate what you want"
   ]
  },
  {
   "cell_type": "code",
   "execution_count": 6,
   "metadata": {
    "execution": {
     "iopub.execute_input": "2021-03-10T05:41:46.252848Z",
     "iopub.status.busy": "2021-03-10T05:41:46.252391Z",
     "iopub.status.idle": "2021-03-10T05:41:46.255445Z",
     "shell.execute_reply": "2021-03-10T05:41:46.255056Z"
    }
   },
   "outputs": [],
   "source": [
    "counties = dataJson[2]['dataValues'][:58]"
   ]
  },
  {
   "cell_type": "code",
   "execution_count": 7,
   "metadata": {
    "execution": {
     "iopub.execute_input": "2021-03-10T05:41:46.258637Z",
     "iopub.status.busy": "2021-03-10T05:41:46.258201Z",
     "iopub.status.idle": "2021-03-10T05:41:46.260831Z",
     "shell.execute_reply": "2021-03-10T05:41:46.261202Z"
    }
   },
   "outputs": [],
   "source": [
    "doses = dataJson[0]['dataValues'][3:61]"
   ]
  },
  {
   "cell_type": "markdown",
   "metadata": {},
   "source": [
    "Data formatting"
   ]
  },
  {
   "cell_type": "code",
   "execution_count": 8,
   "metadata": {
    "execution": {
     "iopub.execute_input": "2021-03-10T05:41:46.264361Z",
     "iopub.status.busy": "2021-03-10T05:41:46.263883Z",
     "iopub.status.idle": "2021-03-10T05:41:46.266574Z",
     "shell.execute_reply": "2021-03-10T05:41:46.266948Z"
    }
   },
   "outputs": [],
   "source": [
    "zipped = dict(zip(counties, doses))"
   ]
  },
  {
   "cell_type": "code",
   "execution_count": 9,
   "metadata": {
    "execution": {
     "iopub.execute_input": "2021-03-10T05:41:46.272059Z",
     "iopub.status.busy": "2021-03-10T05:41:46.271610Z",
     "iopub.status.idle": "2021-03-10T05:41:46.274718Z",
     "shell.execute_reply": "2021-03-10T05:41:46.274148Z"
    }
   },
   "outputs": [],
   "source": [
    "df = pd.Series(zipped).reset_index()"
   ]
  },
  {
   "cell_type": "code",
   "execution_count": 10,
   "metadata": {
    "execution": {
     "iopub.execute_input": "2021-03-10T05:41:46.277877Z",
     "iopub.status.busy": "2021-03-10T05:41:46.277438Z",
     "iopub.status.idle": "2021-03-10T05:41:46.280412Z",
     "shell.execute_reply": "2021-03-10T05:41:46.280006Z"
    }
   },
   "outputs": [],
   "source": [
    "df.columns = ['location','doses']"
   ]
  },
  {
   "cell_type": "markdown",
   "metadata": {},
   "source": [
    "Grab the overall California total"
   ]
  },
  {
   "cell_type": "code",
   "execution_count": 11,
   "metadata": {
    "execution": {
     "iopub.execute_input": "2021-03-10T05:41:46.283527Z",
     "iopub.status.busy": "2021-03-10T05:41:46.283091Z",
     "iopub.status.idle": "2021-03-10T05:41:46.285699Z",
     "shell.execute_reply": "2021-03-10T05:41:46.286069Z"
    }
   },
   "outputs": [],
   "source": [
    "add = {'location':'California','doses':dataJson[0]['dataValues'][2]}"
   ]
  },
  {
   "cell_type": "code",
   "execution_count": 12,
   "metadata": {
    "execution": {
     "iopub.execute_input": "2021-03-10T05:41:46.291476Z",
     "iopub.status.busy": "2021-03-10T05:41:46.291040Z",
     "iopub.status.idle": "2021-03-10T05:41:46.293654Z",
     "shell.execute_reply": "2021-03-10T05:41:46.293998Z"
    }
   },
   "outputs": [],
   "source": [
    "df = df.append(add, ignore_index=True)"
   ]
  },
  {
   "cell_type": "code",
   "execution_count": 13,
   "metadata": {
    "execution": {
     "iopub.execute_input": "2021-03-10T05:41:46.297706Z",
     "iopub.status.busy": "2021-03-10T05:41:46.297266Z",
     "iopub.status.idle": "2021-03-10T05:41:46.300302Z",
     "shell.execute_reply": "2021-03-10T05:41:46.299874Z"
    }
   },
   "outputs": [],
   "source": [
    "df = df.sort_values(by='location')"
   ]
  },
  {
   "cell_type": "code",
   "execution_count": 14,
   "metadata": {
    "execution": {
     "iopub.execute_input": "2021-03-10T05:41:46.305509Z",
     "iopub.status.busy": "2021-03-10T05:41:46.305066Z",
     "iopub.status.idle": "2021-03-10T05:41:46.308087Z",
     "shell.execute_reply": "2021-03-10T05:41:46.307699Z"
    }
   },
   "outputs": [],
   "source": [
    "df = df[df.location == 'California'].append(df[df.location != 'California']).reset_index(drop=True)"
   ]
  },
  {
   "cell_type": "code",
   "execution_count": null,
   "metadata": {},
   "outputs": [],
   "source": []
  },
  {
   "cell_type": "code",
   "execution_count": 15,
   "metadata": {
    "execution": {
     "iopub.execute_input": "2021-03-10T05:41:46.311135Z",
     "iopub.status.busy": "2021-03-10T05:41:46.310693Z",
     "iopub.status.idle": "2021-03-10T05:41:46.326914Z",
     "shell.execute_reply": "2021-03-10T05:41:46.326509Z"
    }
   },
   "outputs": [],
   "source": [
    "tz = pytz.timezone(\"America/New_York\")"
   ]
  },
  {
   "cell_type": "code",
   "execution_count": 16,
   "metadata": {
    "execution": {
     "iopub.execute_input": "2021-03-10T05:41:46.330151Z",
     "iopub.status.busy": "2021-03-10T05:41:46.329708Z",
     "iopub.status.idle": "2021-03-10T05:41:46.332875Z",
     "shell.execute_reply": "2021-03-10T05:41:46.332395Z"
    }
   },
   "outputs": [],
   "source": [
    "today = datetime.now(tz).date()"
   ]
  },
  {
   "cell_type": "code",
   "execution_count": 17,
   "metadata": {
    "execution": {
     "iopub.execute_input": "2021-03-10T05:41:46.336203Z",
     "iopub.status.busy": "2021-03-10T05:41:46.335734Z",
     "iopub.status.idle": "2021-03-10T05:41:46.338830Z",
     "shell.execute_reply": "2021-03-10T05:41:46.338256Z"
    }
   },
   "outputs": [],
   "source": [
    "data_dir = os.path.join(os.path.abspath(\"\"), \"data\")"
   ]
  },
  {
   "cell_type": "code",
   "execution_count": 18,
   "metadata": {
    "execution": {
     "iopub.execute_input": "2021-03-10T05:41:46.342275Z",
     "iopub.status.busy": "2021-03-10T05:41:46.341836Z",
     "iopub.status.idle": "2021-03-10T05:41:46.346857Z",
     "shell.execute_reply": "2021-03-10T05:41:46.346463Z"
    }
   },
   "outputs": [],
   "source": [
    "df.to_csv(os.path.join(data_dir, f\"{today}.csv\"), index=False)"
   ]
  },
  {
   "cell_type": "code",
   "execution_count": null,
   "metadata": {},
   "outputs": [],
   "source": []
  }
 ],
 "metadata": {
  "kernelspec": {
   "display_name": "Python 3",
   "language": "python",
   "name": "python3"
  },
  "language_info": {
   "codemirror_mode": {
    "name": "ipython",
    "version": 3
   },
   "file_extension": ".py",
   "mimetype": "text/x-python",
   "name": "python",
   "nbconvert_exporter": "python",
   "pygments_lexer": "ipython3",
   "version": "3.8.8"
  }
 },
 "nbformat": 4,
 "nbformat_minor": 4
}
