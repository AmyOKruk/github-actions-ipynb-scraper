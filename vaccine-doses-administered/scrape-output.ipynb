{
 "cells": [
  {
   "cell_type": "markdown",
   "metadata": {},
   "source": [
    "# California COVID vaccinations scrape"
   ]
  },
  {
   "cell_type": "markdown",
   "metadata": {},
   "source": [
    "By [Amy O'Kruk](https://twitter.com/amyokruk)"
   ]
  },
  {
   "cell_type": "markdown",
   "metadata": {},
   "source": [
    "Downloads data on vaccine doses administered by county and statewide from a Tableau-powered dashboard from the California Department of Public Health."
   ]
  },
  {
   "cell_type": "code",
   "execution_count": 1,
   "metadata": {
    "execution": {
     "iopub.execute_input": "2021-03-16T13:16:40.164577Z",
     "iopub.status.busy": "2021-03-16T13:16:40.163912Z",
     "iopub.status.idle": "2021-03-16T13:16:40.662520Z",
     "shell.execute_reply": "2021-03-16T13:16:40.661356Z"
    }
   },
   "outputs": [],
   "source": [
    "import pandas as pd\n",
    "import requests\n",
    "from bs4 import BeautifulSoup\n",
    "import json\n",
    "import re\n",
    "import time\n",
    "from time import gmtime, strftime \n",
    "import os\n",
    "import pytz\n",
    "from datetime import datetime"
   ]
  },
  {
   "cell_type": "markdown",
   "metadata": {},
   "source": [
    "Scrape the dashboard page"
   ]
  },
  {
   "cell_type": "code",
   "execution_count": 2,
   "metadata": {
    "execution": {
     "iopub.execute_input": "2021-03-16T13:16:40.666802Z",
     "iopub.status.busy": "2021-03-16T13:16:40.666261Z",
     "iopub.status.idle": "2021-03-16T13:16:40.969310Z",
     "shell.execute_reply": "2021-03-16T13:16:40.968326Z"
    }
   },
   "outputs": [],
   "source": [
    "url = \"https://public.tableau.com/interactive/views/COVID-19VaccineDashboardPublic/Vaccine?:embed=y&:showVizHome=n&:apiID=host0\"\n",
    "\n",
    "r = requests.get(url)\n",
    "soup = BeautifulSoup(r.text, \"html.parser\")"
   ]
  },
  {
   "cell_type": "code",
   "execution_count": 3,
   "metadata": {
    "execution": {
     "iopub.execute_input": "2021-03-16T13:16:40.974197Z",
     "iopub.status.busy": "2021-03-16T13:16:40.973679Z",
     "iopub.status.idle": "2021-03-16T13:16:40.976978Z",
     "shell.execute_reply": "2021-03-16T13:16:40.976203Z"
    }
   },
   "outputs": [],
   "source": [
    "tableauData = json.loads(soup.find(\"textarea\",{\"id\": \"tsConfigContainer\"}).text)"
   ]
  },
  {
   "cell_type": "markdown",
   "metadata": {},
   "source": [
    "Get the link to the Tableau data"
   ]
  },
  {
   "cell_type": "code",
   "execution_count": 4,
   "metadata": {
    "execution": {
     "iopub.execute_input": "2021-03-16T13:16:40.980428Z",
     "iopub.status.busy": "2021-03-16T13:16:40.979870Z",
     "iopub.status.idle": "2021-03-16T13:16:40.983225Z",
     "shell.execute_reply": "2021-03-16T13:16:40.982796Z"
    }
   },
   "outputs": [],
   "source": [
    "dataUrl = f'https://public.tableau.com{tableauData[\"vizql_root\"]}/bootstrapSession/sessions/{tableauData[\"sessionid\"]}'"
   ]
  },
  {
   "cell_type": "code",
   "execution_count": 5,
   "metadata": {
    "execution": {
     "iopub.execute_input": "2021-03-16T13:16:40.989401Z",
     "iopub.status.busy": "2021-03-16T13:16:40.988565Z",
     "iopub.status.idle": "2021-03-16T13:16:41.225170Z",
     "shell.execute_reply": "2021-03-16T13:16:41.224352Z"
    }
   },
   "outputs": [],
   "source": [
    "r = requests.post(dataUrl, data= {\n",
    "    \"sheet_id\": tableauData[\"sheetId\"],\n",
    "})\n",
    "\n",
    "dataReg = re.search('\\d+;({.*})\\d+;({.*})', r.text, re.MULTILINE)\n",
    "data1 = json.loads(dataReg.group(2))\n",
    "\n",
    "dataJson = data1[\"secondaryInfo\"][\"presModelMap\"][\"dataDictionary\"][\"presModelHolder\"][\"genDataDictionaryPresModel\"][\"dataSegments\"][\"0\"][\"dataColumns\"]"
   ]
  },
  {
   "cell_type": "markdown",
   "metadata": {},
   "source": [
    "Isolate what you want"
   ]
  },
  {
   "cell_type": "code",
   "execution_count": 6,
   "metadata": {
    "execution": {
     "iopub.execute_input": "2021-03-16T13:16:41.230901Z",
     "iopub.status.busy": "2021-03-16T13:16:41.230085Z",
     "iopub.status.idle": "2021-03-16T13:16:41.231856Z",
     "shell.execute_reply": "2021-03-16T13:16:41.231423Z"
    }
   },
   "outputs": [],
   "source": [
    "counties = dataJson[2]['dataValues'][:58]"
   ]
  },
  {
   "cell_type": "code",
   "execution_count": 7,
   "metadata": {
    "execution": {
     "iopub.execute_input": "2021-03-16T13:16:41.236222Z",
     "iopub.status.busy": "2021-03-16T13:16:41.235041Z",
     "iopub.status.idle": "2021-03-16T13:16:41.236824Z",
     "shell.execute_reply": "2021-03-16T13:16:41.237251Z"
    }
   },
   "outputs": [],
   "source": [
    "doses = dataJson[0]['dataValues'][3:61]"
   ]
  },
  {
   "cell_type": "markdown",
   "metadata": {},
   "source": [
    "Data formatting"
   ]
  },
  {
   "cell_type": "code",
   "execution_count": 8,
   "metadata": {
    "execution": {
     "iopub.execute_input": "2021-03-16T13:16:41.241573Z",
     "iopub.status.busy": "2021-03-16T13:16:41.240388Z",
     "iopub.status.idle": "2021-03-16T13:16:41.242184Z",
     "shell.execute_reply": "2021-03-16T13:16:41.242609Z"
    }
   },
   "outputs": [],
   "source": [
    "zipped = dict(zip(counties, doses))"
   ]
  },
  {
   "cell_type": "code",
   "execution_count": 9,
   "metadata": {
    "execution": {
     "iopub.execute_input": "2021-03-16T13:16:41.249053Z",
     "iopub.status.busy": "2021-03-16T13:16:41.247790Z",
     "iopub.status.idle": "2021-03-16T13:16:41.249653Z",
     "shell.execute_reply": "2021-03-16T13:16:41.250076Z"
    }
   },
   "outputs": [],
   "source": [
    "df = pd.Series(zipped).reset_index()"
   ]
  },
  {
   "cell_type": "code",
   "execution_count": 10,
   "metadata": {
    "execution": {
     "iopub.execute_input": "2021-03-16T13:16:41.254520Z",
     "iopub.status.busy": "2021-03-16T13:16:41.253339Z",
     "iopub.status.idle": "2021-03-16T13:16:41.255114Z",
     "shell.execute_reply": "2021-03-16T13:16:41.255539Z"
    }
   },
   "outputs": [],
   "source": [
    "df.columns = ['location','doses']"
   ]
  },
  {
   "cell_type": "markdown",
   "metadata": {},
   "source": [
    "Grab the overall California total"
   ]
  },
  {
   "cell_type": "code",
   "execution_count": 11,
   "metadata": {
    "execution": {
     "iopub.execute_input": "2021-03-16T13:16:41.259797Z",
     "iopub.status.busy": "2021-03-16T13:16:41.258702Z",
     "iopub.status.idle": "2021-03-16T13:16:41.260407Z",
     "shell.execute_reply": "2021-03-16T13:16:41.260837Z"
    }
   },
   "outputs": [],
   "source": [
    "add = {'location':'California','doses':dataJson[0]['dataValues'][2]}"
   ]
  },
  {
   "cell_type": "code",
   "execution_count": 12,
   "metadata": {
    "execution": {
     "iopub.execute_input": "2021-03-16T13:16:41.267940Z",
     "iopub.status.busy": "2021-03-16T13:16:41.266778Z",
     "iopub.status.idle": "2021-03-16T13:16:41.268532Z",
     "shell.execute_reply": "2021-03-16T13:16:41.268926Z"
    }
   },
   "outputs": [],
   "source": [
    "df = df.append(add, ignore_index=True)"
   ]
  },
  {
   "cell_type": "code",
   "execution_count": 13,
   "metadata": {
    "execution": {
     "iopub.execute_input": "2021-03-16T13:16:41.273566Z",
     "iopub.status.busy": "2021-03-16T13:16:41.272470Z",
     "iopub.status.idle": "2021-03-16T13:16:41.274116Z",
     "shell.execute_reply": "2021-03-16T13:16:41.274546Z"
    }
   },
   "outputs": [],
   "source": [
    "df = df.sort_values(by='location')"
   ]
  },
  {
   "cell_type": "code",
   "execution_count": 14,
   "metadata": {
    "execution": {
     "iopub.execute_input": "2021-03-16T13:16:41.280722Z",
     "iopub.status.busy": "2021-03-16T13:16:41.279692Z",
     "iopub.status.idle": "2021-03-16T13:16:41.281429Z",
     "shell.execute_reply": "2021-03-16T13:16:41.281851Z"
    }
   },
   "outputs": [],
   "source": [
    "df = df[df.location == 'California'].append(df[df.location != 'California']).reset_index(drop=True)"
   ]
  },
  {
   "cell_type": "code",
   "execution_count": null,
   "metadata": {},
   "outputs": [],
   "source": []
  },
  {
   "cell_type": "code",
   "execution_count": 15,
   "metadata": {
    "execution": {
     "iopub.execute_input": "2021-03-16T13:16:41.284936Z",
     "iopub.status.busy": "2021-03-16T13:16:41.284461Z",
     "iopub.status.idle": "2021-03-16T13:16:41.301362Z",
     "shell.execute_reply": "2021-03-16T13:16:41.300930Z"
    }
   },
   "outputs": [],
   "source": [
    "tz = pytz.timezone(\"America/New_York\")"
   ]
  },
  {
   "cell_type": "code",
   "execution_count": 16,
   "metadata": {
    "execution": {
     "iopub.execute_input": "2021-03-16T13:16:41.305540Z",
     "iopub.status.busy": "2021-03-16T13:16:41.304438Z",
     "iopub.status.idle": "2021-03-16T13:16:41.306130Z",
     "shell.execute_reply": "2021-03-16T13:16:41.306555Z"
    }
   },
   "outputs": [],
   "source": [
    "today = datetime.now(tz).date()"
   ]
  },
  {
   "cell_type": "code",
   "execution_count": 17,
   "metadata": {
    "execution": {
     "iopub.execute_input": "2021-03-16T13:16:41.310615Z",
     "iopub.status.busy": "2021-03-16T13:16:41.309519Z",
     "iopub.status.idle": "2021-03-16T13:16:41.311163Z",
     "shell.execute_reply": "2021-03-16T13:16:41.311574Z"
    }
   },
   "outputs": [],
   "source": [
    "data_dir = os.path.join(os.path.abspath(\"\"), \"data\")"
   ]
  },
  {
   "cell_type": "code",
   "execution_count": 18,
   "metadata": {
    "execution": {
     "iopub.execute_input": "2021-03-16T13:16:41.315323Z",
     "iopub.status.busy": "2021-03-16T13:16:41.314805Z",
     "iopub.status.idle": "2021-03-16T13:16:41.319191Z",
     "shell.execute_reply": "2021-03-16T13:16:41.318662Z"
    }
   },
   "outputs": [],
   "source": [
    "df.to_csv(os.path.join(data_dir, f\"{today}.csv\"), index=False)"
   ]
  },
  {
   "cell_type": "code",
   "execution_count": null,
   "metadata": {},
   "outputs": [],
   "source": []
  }
 ],
 "metadata": {
  "kernelspec": {
   "display_name": "Python 3",
   "language": "python",
   "name": "python3"
  },
  "language_info": {
   "codemirror_mode": {
    "name": "ipython",
    "version": 3
   },
   "file_extension": ".py",
   "mimetype": "text/x-python",
   "name": "python",
   "nbconvert_exporter": "python",
   "pygments_lexer": "ipython3",
   "version": "3.8.8"
  }
 },
 "nbformat": 4,
 "nbformat_minor": 4
}
