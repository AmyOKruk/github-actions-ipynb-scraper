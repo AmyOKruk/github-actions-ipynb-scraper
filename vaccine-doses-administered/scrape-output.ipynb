{
 "cells": [
  {
   "cell_type": "markdown",
   "metadata": {},
   "source": [
    "# California COVID vaccinations scrape"
   ]
  },
  {
   "cell_type": "markdown",
   "metadata": {},
   "source": [
    "By [Amy O'Kruk](https://twitter.com/amyokruk)"
   ]
  },
  {
   "cell_type": "markdown",
   "metadata": {},
   "source": [
    "Downloads data on vaccine doses administered by county and statewide from a Tableau-powered dashboard from the California Department of Public Health."
   ]
  },
  {
   "cell_type": "code",
   "execution_count": 1,
   "metadata": {
    "execution": {
     "iopub.execute_input": "2021-03-21T17:20:58.659544Z",
     "iopub.status.busy": "2021-03-21T17:20:58.658843Z",
     "iopub.status.idle": "2021-03-21T17:20:59.175648Z",
     "shell.execute_reply": "2021-03-21T17:20:59.174846Z"
    }
   },
   "outputs": [],
   "source": [
    "import pandas as pd\n",
    "import requests\n",
    "from bs4 import BeautifulSoup\n",
    "import json\n",
    "import re\n",
    "import time\n",
    "from time import gmtime, strftime \n",
    "import os\n",
    "import pytz\n",
    "from datetime import datetime"
   ]
  },
  {
   "cell_type": "markdown",
   "metadata": {},
   "source": [
    "Scrape the dashboard page"
   ]
  },
  {
   "cell_type": "code",
   "execution_count": 2,
   "metadata": {
    "execution": {
     "iopub.execute_input": "2021-03-21T17:20:59.182359Z",
     "iopub.status.busy": "2021-03-21T17:20:59.179805Z",
     "iopub.status.idle": "2021-03-21T17:20:59.575628Z",
     "shell.execute_reply": "2021-03-21T17:20:59.574580Z"
    }
   },
   "outputs": [],
   "source": [
    "url = \"https://public.tableau.com/interactive/views/COVID-19VaccineDashboardPublic/Vaccine?:embed=y&:showVizHome=n&:apiID=host0\"\n",
    "\n",
    "r = requests.get(url)\n",
    "soup = BeautifulSoup(r.text, \"html.parser\")"
   ]
  },
  {
   "cell_type": "code",
   "execution_count": 3,
   "metadata": {
    "execution": {
     "iopub.execute_input": "2021-03-21T17:20:59.581803Z",
     "iopub.status.busy": "2021-03-21T17:20:59.581187Z",
     "iopub.status.idle": "2021-03-21T17:20:59.584659Z",
     "shell.execute_reply": "2021-03-21T17:20:59.585106Z"
    }
   },
   "outputs": [],
   "source": [
    "tableauData = json.loads(soup.find(\"textarea\",{\"id\": \"tsConfigContainer\"}).text)"
   ]
  },
  {
   "cell_type": "markdown",
   "metadata": {},
   "source": [
    "Get the link to the Tableau data"
   ]
  },
  {
   "cell_type": "code",
   "execution_count": 4,
   "metadata": {
    "execution": {
     "iopub.execute_input": "2021-03-21T17:20:59.589101Z",
     "iopub.status.busy": "2021-03-21T17:20:59.588544Z",
     "iopub.status.idle": "2021-03-21T17:20:59.592325Z",
     "shell.execute_reply": "2021-03-21T17:20:59.591855Z"
    }
   },
   "outputs": [],
   "source": [
    "dataUrl = f'https://public.tableau.com{tableauData[\"vizql_root\"]}/bootstrapSession/sessions/{tableauData[\"sessionid\"]}'"
   ]
  },
  {
   "cell_type": "code",
   "execution_count": 5,
   "metadata": {
    "execution": {
     "iopub.execute_input": "2021-03-21T17:20:59.599827Z",
     "iopub.status.busy": "2021-03-21T17:20:59.599159Z",
     "iopub.status.idle": "2021-03-21T17:20:59.758756Z",
     "shell.execute_reply": "2021-03-21T17:20:59.758156Z"
    }
   },
   "outputs": [],
   "source": [
    "r = requests.post(dataUrl, data= {\n",
    "    \"sheet_id\": tableauData[\"sheetId\"],\n",
    "})\n",
    "\n",
    "dataReg = re.search('\\d+;({.*})\\d+;({.*})', r.text, re.MULTILINE)\n",
    "data1 = json.loads(dataReg.group(2))\n",
    "\n",
    "dataJson = data1[\"secondaryInfo\"][\"presModelMap\"][\"dataDictionary\"][\"presModelHolder\"][\"genDataDictionaryPresModel\"][\"dataSegments\"][\"0\"][\"dataColumns\"]"
   ]
  },
  {
   "cell_type": "markdown",
   "metadata": {},
   "source": [
    "Isolate what you want"
   ]
  },
  {
   "cell_type": "code",
   "execution_count": 6,
   "metadata": {
    "execution": {
     "iopub.execute_input": "2021-03-21T17:20:59.763119Z",
     "iopub.status.busy": "2021-03-21T17:20:59.762433Z",
     "iopub.status.idle": "2021-03-21T17:20:59.766997Z",
     "shell.execute_reply": "2021-03-21T17:20:59.766012Z"
    }
   },
   "outputs": [],
   "source": [
    "counties = dataJson[2]['dataValues'][:58]"
   ]
  },
  {
   "cell_type": "code",
   "execution_count": 7,
   "metadata": {
    "execution": {
     "iopub.execute_input": "2021-03-21T17:20:59.771503Z",
     "iopub.status.busy": "2021-03-21T17:20:59.770893Z",
     "iopub.status.idle": "2021-03-21T17:20:59.774965Z",
     "shell.execute_reply": "2021-03-21T17:20:59.774366Z"
    }
   },
   "outputs": [],
   "source": [
    "doses = dataJson[0]['dataValues'][3:61]"
   ]
  },
  {
   "cell_type": "markdown",
   "metadata": {},
   "source": [
    "Data formatting"
   ]
  },
  {
   "cell_type": "code",
   "execution_count": 8,
   "metadata": {
    "execution": {
     "iopub.execute_input": "2021-03-21T17:20:59.779070Z",
     "iopub.status.busy": "2021-03-21T17:20:59.778407Z",
     "iopub.status.idle": "2021-03-21T17:20:59.782490Z",
     "shell.execute_reply": "2021-03-21T17:20:59.781878Z"
    }
   },
   "outputs": [],
   "source": [
    "zipped = dict(zip(counties, doses))"
   ]
  },
  {
   "cell_type": "code",
   "execution_count": 9,
   "metadata": {
    "execution": {
     "iopub.execute_input": "2021-03-21T17:20:59.789188Z",
     "iopub.status.busy": "2021-03-21T17:20:59.788620Z",
     "iopub.status.idle": "2021-03-21T17:20:59.792445Z",
     "shell.execute_reply": "2021-03-21T17:20:59.791923Z"
    }
   },
   "outputs": [],
   "source": [
    "df = pd.Series(zipped).reset_index()"
   ]
  },
  {
   "cell_type": "code",
   "execution_count": 10,
   "metadata": {
    "execution": {
     "iopub.execute_input": "2021-03-21T17:20:59.796601Z",
     "iopub.status.busy": "2021-03-21T17:20:59.796025Z",
     "iopub.status.idle": "2021-03-21T17:20:59.799728Z",
     "shell.execute_reply": "2021-03-21T17:20:59.800267Z"
    }
   },
   "outputs": [],
   "source": [
    "df.columns = ['location','doses']"
   ]
  },
  {
   "cell_type": "markdown",
   "metadata": {},
   "source": [
    "Grab the overall California total"
   ]
  },
  {
   "cell_type": "code",
   "execution_count": 11,
   "metadata": {
    "execution": {
     "iopub.execute_input": "2021-03-21T17:20:59.804873Z",
     "iopub.status.busy": "2021-03-21T17:20:59.804251Z",
     "iopub.status.idle": "2021-03-21T17:20:59.808246Z",
     "shell.execute_reply": "2021-03-21T17:20:59.807638Z"
    }
   },
   "outputs": [],
   "source": [
    "add = {'location':'California','doses':dataJson[0]['dataValues'][2]}"
   ]
  },
  {
   "cell_type": "code",
   "execution_count": 12,
   "metadata": {
    "execution": {
     "iopub.execute_input": "2021-03-21T17:20:59.815829Z",
     "iopub.status.busy": "2021-03-21T17:20:59.815210Z",
     "iopub.status.idle": "2021-03-21T17:20:59.819523Z",
     "shell.execute_reply": "2021-03-21T17:20:59.818978Z"
    }
   },
   "outputs": [],
   "source": [
    "df = df.append(add, ignore_index=True)"
   ]
  },
  {
   "cell_type": "code",
   "execution_count": 13,
   "metadata": {
    "execution": {
     "iopub.execute_input": "2021-03-21T17:20:59.824088Z",
     "iopub.status.busy": "2021-03-21T17:20:59.823486Z",
     "iopub.status.idle": "2021-03-21T17:20:59.827744Z",
     "shell.execute_reply": "2021-03-21T17:20:59.826916Z"
    }
   },
   "outputs": [],
   "source": [
    "df = df.sort_values(by='location')"
   ]
  },
  {
   "cell_type": "code",
   "execution_count": 14,
   "metadata": {
    "execution": {
     "iopub.execute_input": "2021-03-21T17:20:59.834437Z",
     "iopub.status.busy": "2021-03-21T17:20:59.833814Z",
     "iopub.status.idle": "2021-03-21T17:20:59.837493Z",
     "shell.execute_reply": "2021-03-21T17:20:59.837986Z"
    }
   },
   "outputs": [],
   "source": [
    "df = df[df.location == 'California'].append(df[df.location != 'California']).reset_index(drop=True)"
   ]
  },
  {
   "cell_type": "code",
   "execution_count": null,
   "metadata": {},
   "outputs": [],
   "source": []
  },
  {
   "cell_type": "code",
   "execution_count": 15,
   "metadata": {
    "execution": {
     "iopub.execute_input": "2021-03-21T17:20:59.842044Z",
     "iopub.status.busy": "2021-03-21T17:20:59.841065Z",
     "iopub.status.idle": "2021-03-21T17:20:59.862541Z",
     "shell.execute_reply": "2021-03-21T17:20:59.862017Z"
    }
   },
   "outputs": [],
   "source": [
    "tz = pytz.timezone(\"America/New_York\")"
   ]
  },
  {
   "cell_type": "code",
   "execution_count": 16,
   "metadata": {
    "execution": {
     "iopub.execute_input": "2021-03-21T17:20:59.866608Z",
     "iopub.status.busy": "2021-03-21T17:20:59.866038Z",
     "iopub.status.idle": "2021-03-21T17:20:59.869961Z",
     "shell.execute_reply": "2021-03-21T17:20:59.869191Z"
    }
   },
   "outputs": [],
   "source": [
    "today = datetime.now(tz).date()"
   ]
  },
  {
   "cell_type": "code",
   "execution_count": 17,
   "metadata": {
    "execution": {
     "iopub.execute_input": "2021-03-21T17:20:59.875141Z",
     "iopub.status.busy": "2021-03-21T17:20:59.873632Z",
     "iopub.status.idle": "2021-03-21T17:20:59.875820Z",
     "shell.execute_reply": "2021-03-21T17:20:59.876313Z"
    }
   },
   "outputs": [],
   "source": [
    "data_dir = os.path.join(os.path.abspath(\"\"), \"data\")"
   ]
  },
  {
   "cell_type": "code",
   "execution_count": 18,
   "metadata": {
    "execution": {
     "iopub.execute_input": "2021-03-21T17:20:59.881360Z",
     "iopub.status.busy": "2021-03-21T17:20:59.880078Z",
     "iopub.status.idle": "2021-03-21T17:20:59.885350Z",
     "shell.execute_reply": "2021-03-21T17:20:59.884771Z"
    }
   },
   "outputs": [],
   "source": [
    "df.to_csv(os.path.join(data_dir, f\"{today}.csv\"), index=False)"
   ]
  },
  {
   "cell_type": "code",
   "execution_count": null,
   "metadata": {},
   "outputs": [],
   "source": []
  }
 ],
 "metadata": {
  "kernelspec": {
   "display_name": "Python 3",
   "language": "python",
   "name": "python3"
  },
  "language_info": {
   "codemirror_mode": {
    "name": "ipython",
    "version": 3
   },
   "file_extension": ".py",
   "mimetype": "text/x-python",
   "name": "python",
   "nbconvert_exporter": "python",
   "pygments_lexer": "ipython3",
   "version": "3.8.8"
  }
 },
 "nbformat": 4,
 "nbformat_minor": 4
}
