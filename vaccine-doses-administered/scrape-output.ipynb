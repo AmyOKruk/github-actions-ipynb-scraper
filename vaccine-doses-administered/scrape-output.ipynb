{
 "cells": [
  {
   "cell_type": "markdown",
   "metadata": {},
   "source": [
    "# California COVID vaccinations scrape"
   ]
  },
  {
   "cell_type": "markdown",
   "metadata": {},
   "source": [
    "By [Amy O'Kruk](https://twitter.com/amyokruk)"
   ]
  },
  {
   "cell_type": "markdown",
   "metadata": {},
   "source": [
    "Downloads data on vaccine doses administered by county and statewide from a Tableau-powered dashboard from the California Department of Public Health."
   ]
  },
  {
   "cell_type": "code",
   "execution_count": 1,
   "metadata": {
    "execution": {
     "iopub.execute_input": "2021-03-17T21:41:29.780703Z",
     "iopub.status.busy": "2021-03-17T21:41:29.780058Z",
     "iopub.status.idle": "2021-03-17T21:41:30.206131Z",
     "shell.execute_reply": "2021-03-17T21:41:30.204995Z"
    }
   },
   "outputs": [],
   "source": [
    "import pandas as pd\n",
    "import requests\n",
    "from bs4 import BeautifulSoup\n",
    "import json\n",
    "import re\n",
    "import time\n",
    "from time import gmtime, strftime \n",
    "import os\n",
    "import pytz\n",
    "from datetime import datetime"
   ]
  },
  {
   "cell_type": "markdown",
   "metadata": {},
   "source": [
    "Scrape the dashboard page"
   ]
  },
  {
   "cell_type": "code",
   "execution_count": 2,
   "metadata": {
    "execution": {
     "iopub.execute_input": "2021-03-17T21:41:30.213008Z",
     "iopub.status.busy": "2021-03-17T21:41:30.209869Z",
     "iopub.status.idle": "2021-03-17T21:41:30.761864Z",
     "shell.execute_reply": "2021-03-17T21:41:30.761053Z"
    }
   },
   "outputs": [],
   "source": [
    "url = \"https://public.tableau.com/interactive/views/COVID-19VaccineDashboardPublic/Vaccine?:embed=y&:showVizHome=n&:apiID=host0\"\n",
    "\n",
    "r = requests.get(url)\n",
    "soup = BeautifulSoup(r.text, \"html.parser\")"
   ]
  },
  {
   "cell_type": "code",
   "execution_count": 3,
   "metadata": {
    "execution": {
     "iopub.execute_input": "2021-03-17T21:41:30.767029Z",
     "iopub.status.busy": "2021-03-17T21:41:30.766494Z",
     "iopub.status.idle": "2021-03-17T21:41:30.770350Z",
     "shell.execute_reply": "2021-03-17T21:41:30.769901Z"
    }
   },
   "outputs": [],
   "source": [
    "tableauData = json.loads(soup.find(\"textarea\",{\"id\": \"tsConfigContainer\"}).text)"
   ]
  },
  {
   "cell_type": "markdown",
   "metadata": {},
   "source": [
    "Get the link to the Tableau data"
   ]
  },
  {
   "cell_type": "code",
   "execution_count": 4,
   "metadata": {
    "execution": {
     "iopub.execute_input": "2021-03-17T21:41:30.774673Z",
     "iopub.status.busy": "2021-03-17T21:41:30.773429Z",
     "iopub.status.idle": "2021-03-17T21:41:30.775285Z",
     "shell.execute_reply": "2021-03-17T21:41:30.775749Z"
    }
   },
   "outputs": [],
   "source": [
    "dataUrl = f'https://public.tableau.com{tableauData[\"vizql_root\"]}/bootstrapSession/sessions/{tableauData[\"sessionid\"]}'"
   ]
  },
  {
   "cell_type": "code",
   "execution_count": 5,
   "metadata": {
    "execution": {
     "iopub.execute_input": "2021-03-17T21:41:30.782467Z",
     "iopub.status.busy": "2021-03-17T21:41:30.781917Z",
     "iopub.status.idle": "2021-03-17T21:41:31.369910Z",
     "shell.execute_reply": "2021-03-17T21:41:31.369070Z"
    }
   },
   "outputs": [],
   "source": [
    "r = requests.post(dataUrl, data= {\n",
    "    \"sheet_id\": tableauData[\"sheetId\"],\n",
    "})\n",
    "\n",
    "dataReg = re.search('\\d+;({.*})\\d+;({.*})', r.text, re.MULTILINE)\n",
    "data1 = json.loads(dataReg.group(2))\n",
    "\n",
    "dataJson = data1[\"secondaryInfo\"][\"presModelMap\"][\"dataDictionary\"][\"presModelHolder\"][\"genDataDictionaryPresModel\"][\"dataSegments\"][\"0\"][\"dataColumns\"]"
   ]
  },
  {
   "cell_type": "markdown",
   "metadata": {},
   "source": [
    "Isolate what you want"
   ]
  },
  {
   "cell_type": "code",
   "execution_count": 6,
   "metadata": {
    "execution": {
     "iopub.execute_input": "2021-03-17T21:41:31.374932Z",
     "iopub.status.busy": "2021-03-17T21:41:31.373596Z",
     "iopub.status.idle": "2021-03-17T21:41:31.375545Z",
     "shell.execute_reply": "2021-03-17T21:41:31.376011Z"
    }
   },
   "outputs": [],
   "source": [
    "counties = dataJson[2]['dataValues'][:58]"
   ]
  },
  {
   "cell_type": "code",
   "execution_count": 7,
   "metadata": {
    "execution": {
     "iopub.execute_input": "2021-03-17T21:41:31.380419Z",
     "iopub.status.busy": "2021-03-17T21:41:31.379171Z",
     "iopub.status.idle": "2021-03-17T21:41:31.381090Z",
     "shell.execute_reply": "2021-03-17T21:41:31.381535Z"
    }
   },
   "outputs": [],
   "source": [
    "doses = dataJson[0]['dataValues'][3:61]"
   ]
  },
  {
   "cell_type": "markdown",
   "metadata": {},
   "source": [
    "Data formatting"
   ]
  },
  {
   "cell_type": "code",
   "execution_count": 8,
   "metadata": {
    "execution": {
     "iopub.execute_input": "2021-03-17T21:41:31.385900Z",
     "iopub.status.busy": "2021-03-17T21:41:31.384700Z",
     "iopub.status.idle": "2021-03-17T21:41:31.386569Z",
     "shell.execute_reply": "2021-03-17T21:41:31.387013Z"
    }
   },
   "outputs": [],
   "source": [
    "zipped = dict(zip(counties, doses))"
   ]
  },
  {
   "cell_type": "code",
   "execution_count": 9,
   "metadata": {
    "execution": {
     "iopub.execute_input": "2021-03-17T21:41:31.393610Z",
     "iopub.status.busy": "2021-03-17T21:41:31.392362Z",
     "iopub.status.idle": "2021-03-17T21:41:31.394218Z",
     "shell.execute_reply": "2021-03-17T21:41:31.394653Z"
    }
   },
   "outputs": [],
   "source": [
    "df = pd.Series(zipped).reset_index()"
   ]
  },
  {
   "cell_type": "code",
   "execution_count": 10,
   "metadata": {
    "execution": {
     "iopub.execute_input": "2021-03-17T21:41:31.399198Z",
     "iopub.status.busy": "2021-03-17T21:41:31.397964Z",
     "iopub.status.idle": "2021-03-17T21:41:31.399854Z",
     "shell.execute_reply": "2021-03-17T21:41:31.400303Z"
    }
   },
   "outputs": [],
   "source": [
    "df.columns = ['location','doses']"
   ]
  },
  {
   "cell_type": "markdown",
   "metadata": {},
   "source": [
    "Grab the overall California total"
   ]
  },
  {
   "cell_type": "code",
   "execution_count": 11,
   "metadata": {
    "execution": {
     "iopub.execute_input": "2021-03-17T21:41:31.404582Z",
     "iopub.status.busy": "2021-03-17T21:41:31.403409Z",
     "iopub.status.idle": "2021-03-17T21:41:31.405182Z",
     "shell.execute_reply": "2021-03-17T21:41:31.405617Z"
    }
   },
   "outputs": [],
   "source": [
    "add = {'location':'California','doses':dataJson[0]['dataValues'][2]}"
   ]
  },
  {
   "cell_type": "code",
   "execution_count": 12,
   "metadata": {
    "execution": {
     "iopub.execute_input": "2021-03-17T21:41:31.412795Z",
     "iopub.status.busy": "2021-03-17T21:41:31.411496Z",
     "iopub.status.idle": "2021-03-17T21:41:31.413407Z",
     "shell.execute_reply": "2021-03-17T21:41:31.413841Z"
    }
   },
   "outputs": [],
   "source": [
    "df = df.append(add, ignore_index=True)"
   ]
  },
  {
   "cell_type": "code",
   "execution_count": 13,
   "metadata": {
    "execution": {
     "iopub.execute_input": "2021-03-17T21:41:31.418902Z",
     "iopub.status.busy": "2021-03-17T21:41:31.417681Z",
     "iopub.status.idle": "2021-03-17T21:41:31.419581Z",
     "shell.execute_reply": "2021-03-17T21:41:31.420049Z"
    }
   },
   "outputs": [],
   "source": [
    "df = df.sort_values(by='location')"
   ]
  },
  {
   "cell_type": "code",
   "execution_count": 14,
   "metadata": {
    "execution": {
     "iopub.execute_input": "2021-03-17T21:41:31.425706Z",
     "iopub.status.busy": "2021-03-17T21:41:31.425171Z",
     "iopub.status.idle": "2021-03-17T21:41:31.427678Z",
     "shell.execute_reply": "2021-03-17T21:41:31.427096Z"
    }
   },
   "outputs": [],
   "source": [
    "df = df[df.location == 'California'].append(df[df.location != 'California']).reset_index(drop=True)"
   ]
  },
  {
   "cell_type": "code",
   "execution_count": null,
   "metadata": {},
   "outputs": [],
   "source": []
  },
  {
   "cell_type": "code",
   "execution_count": 15,
   "metadata": {
    "execution": {
     "iopub.execute_input": "2021-03-17T21:41:31.431028Z",
     "iopub.status.busy": "2021-03-17T21:41:31.430496Z",
     "iopub.status.idle": "2021-03-17T21:41:31.447840Z",
     "shell.execute_reply": "2021-03-17T21:41:31.448267Z"
    }
   },
   "outputs": [],
   "source": [
    "tz = pytz.timezone(\"America/New_York\")"
   ]
  },
  {
   "cell_type": "code",
   "execution_count": 16,
   "metadata": {
    "execution": {
     "iopub.execute_input": "2021-03-17T21:41:31.452661Z",
     "iopub.status.busy": "2021-03-17T21:41:31.451312Z",
     "iopub.status.idle": "2021-03-17T21:41:31.453275Z",
     "shell.execute_reply": "2021-03-17T21:41:31.453712Z"
    }
   },
   "outputs": [],
   "source": [
    "today = datetime.now(tz).date()"
   ]
  },
  {
   "cell_type": "code",
   "execution_count": 17,
   "metadata": {
    "execution": {
     "iopub.execute_input": "2021-03-17T21:41:31.458160Z",
     "iopub.status.busy": "2021-03-17T21:41:31.456880Z",
     "iopub.status.idle": "2021-03-17T21:41:31.458771Z",
     "shell.execute_reply": "2021-03-17T21:41:31.459207Z"
    }
   },
   "outputs": [],
   "source": [
    "data_dir = os.path.join(os.path.abspath(\"\"), \"data\")"
   ]
  },
  {
   "cell_type": "code",
   "execution_count": 18,
   "metadata": {
    "execution": {
     "iopub.execute_input": "2021-03-17T21:41:31.464676Z",
     "iopub.status.busy": "2021-03-17T21:41:31.462455Z",
     "iopub.status.idle": "2021-03-17T21:41:31.466946Z",
     "shell.execute_reply": "2021-03-17T21:41:31.466494Z"
    }
   },
   "outputs": [],
   "source": [
    "df.to_csv(os.path.join(data_dir, f\"{today}.csv\"), index=False)"
   ]
  },
  {
   "cell_type": "code",
   "execution_count": null,
   "metadata": {},
   "outputs": [],
   "source": []
  }
 ],
 "metadata": {
  "kernelspec": {
   "display_name": "Python 3",
   "language": "python",
   "name": "python3"
  },
  "language_info": {
   "codemirror_mode": {
    "name": "ipython",
    "version": 3
   },
   "file_extension": ".py",
   "mimetype": "text/x-python",
   "name": "python",
   "nbconvert_exporter": "python",
   "pygments_lexer": "ipython3",
   "version": "3.8.8"
  }
 },
 "nbformat": 4,
 "nbformat_minor": 4
}
