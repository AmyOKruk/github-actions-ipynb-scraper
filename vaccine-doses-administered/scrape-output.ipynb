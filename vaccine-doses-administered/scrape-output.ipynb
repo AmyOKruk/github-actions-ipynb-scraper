{
 "cells": [
  {
   "cell_type": "markdown",
   "metadata": {},
   "source": [
    "# California COVID vaccinations scrape"
   ]
  },
  {
   "cell_type": "markdown",
   "metadata": {},
   "source": [
    "By [Amy O'Kruk](https://twitter.com/amyokruk)"
   ]
  },
  {
   "cell_type": "markdown",
   "metadata": {},
   "source": [
    "Downloads data on vaccine doses administered by county and statewide from a Tableau-powered dashboard from the California Department of Public Health."
   ]
  },
  {
   "cell_type": "code",
   "execution_count": 1,
   "metadata": {
    "execution": {
     "iopub.execute_input": "2021-03-12T06:47:20.871910Z",
     "iopub.status.busy": "2021-03-12T06:47:20.871263Z",
     "iopub.status.idle": "2021-03-12T06:47:21.246956Z",
     "shell.execute_reply": "2021-03-12T06:47:21.246323Z"
    }
   },
   "outputs": [],
   "source": [
    "import pandas as pd\n",
    "import requests\n",
    "from bs4 import BeautifulSoup\n",
    "import json\n",
    "import re\n",
    "import time\n",
    "from time import gmtime, strftime \n",
    "import os\n",
    "import pytz\n",
    "from datetime import datetime"
   ]
  },
  {
   "cell_type": "markdown",
   "metadata": {},
   "source": [
    "Scrape the dashboard page"
   ]
  },
  {
   "cell_type": "code",
   "execution_count": 2,
   "metadata": {
    "execution": {
     "iopub.execute_input": "2021-03-12T06:47:21.252983Z",
     "iopub.status.busy": "2021-03-12T06:47:21.250471Z",
     "iopub.status.idle": "2021-03-12T06:47:21.748267Z",
     "shell.execute_reply": "2021-03-12T06:47:21.747716Z"
    }
   },
   "outputs": [],
   "source": [
    "url = \"https://public.tableau.com/interactive/views/COVID-19VaccineDashboardPublic/Vaccine?:embed=y&:showVizHome=n&:apiID=host0\"\n",
    "\n",
    "r = requests.get(url)\n",
    "soup = BeautifulSoup(r.text, \"html.parser\")"
   ]
  },
  {
   "cell_type": "code",
   "execution_count": 3,
   "metadata": {
    "execution": {
     "iopub.execute_input": "2021-03-12T06:47:21.754219Z",
     "iopub.status.busy": "2021-03-12T06:47:21.752830Z",
     "iopub.status.idle": "2021-03-12T06:47:21.754966Z",
     "shell.execute_reply": "2021-03-12T06:47:21.755443Z"
    }
   },
   "outputs": [],
   "source": [
    "tableauData = json.loads(soup.find(\"textarea\",{\"id\": \"tsConfigContainer\"}).text)"
   ]
  },
  {
   "cell_type": "markdown",
   "metadata": {},
   "source": [
    "Get the link to the Tableau data"
   ]
  },
  {
   "cell_type": "code",
   "execution_count": 4,
   "metadata": {
    "execution": {
     "iopub.execute_input": "2021-03-12T06:47:21.760720Z",
     "iopub.status.busy": "2021-03-12T06:47:21.758863Z",
     "iopub.status.idle": "2021-03-12T06:47:21.761377Z",
     "shell.execute_reply": "2021-03-12T06:47:21.761859Z"
    }
   },
   "outputs": [],
   "source": [
    "dataUrl = f'https://public.tableau.com{tableauData[\"vizql_root\"]}/bootstrapSession/sessions/{tableauData[\"sessionid\"]}'"
   ]
  },
  {
   "cell_type": "code",
   "execution_count": 5,
   "metadata": {
    "execution": {
     "iopub.execute_input": "2021-03-12T06:47:21.768868Z",
     "iopub.status.busy": "2021-03-12T06:47:21.768267Z",
     "iopub.status.idle": "2021-03-12T06:47:22.214223Z",
     "shell.execute_reply": "2021-03-12T06:47:22.213640Z"
    }
   },
   "outputs": [],
   "source": [
    "r = requests.post(dataUrl, data= {\n",
    "    \"sheet_id\": tableauData[\"sheetId\"],\n",
    "})\n",
    "\n",
    "dataReg = re.search('\\d+;({.*})\\d+;({.*})', r.text, re.MULTILINE)\n",
    "data1 = json.loads(dataReg.group(2))\n",
    "\n",
    "dataJson = data1[\"secondaryInfo\"][\"presModelMap\"][\"dataDictionary\"][\"presModelHolder\"][\"genDataDictionaryPresModel\"][\"dataSegments\"][\"0\"][\"dataColumns\"]"
   ]
  },
  {
   "cell_type": "markdown",
   "metadata": {},
   "source": [
    "Isolate what you want"
   ]
  },
  {
   "cell_type": "code",
   "execution_count": 6,
   "metadata": {
    "execution": {
     "iopub.execute_input": "2021-03-12T06:47:22.219150Z",
     "iopub.status.busy": "2021-03-12T06:47:22.217725Z",
     "iopub.status.idle": "2021-03-12T06:47:22.219789Z",
     "shell.execute_reply": "2021-03-12T06:47:22.220254Z"
    }
   },
   "outputs": [],
   "source": [
    "counties = dataJson[2]['dataValues'][:58]"
   ]
  },
  {
   "cell_type": "code",
   "execution_count": 7,
   "metadata": {
    "execution": {
     "iopub.execute_input": "2021-03-12T06:47:22.224823Z",
     "iopub.status.busy": "2021-03-12T06:47:22.223490Z",
     "iopub.status.idle": "2021-03-12T06:47:22.225419Z",
     "shell.execute_reply": "2021-03-12T06:47:22.225903Z"
    }
   },
   "outputs": [],
   "source": [
    "doses = dataJson[0]['dataValues'][3:61]"
   ]
  },
  {
   "cell_type": "markdown",
   "metadata": {},
   "source": [
    "Data formatting"
   ]
  },
  {
   "cell_type": "code",
   "execution_count": 8,
   "metadata": {
    "execution": {
     "iopub.execute_input": "2021-03-12T06:47:22.229848Z",
     "iopub.status.busy": "2021-03-12T06:47:22.229258Z",
     "iopub.status.idle": "2021-03-12T06:47:22.232075Z",
     "shell.execute_reply": "2021-03-12T06:47:22.232524Z"
    }
   },
   "outputs": [],
   "source": [
    "zipped = dict(zip(counties, doses))"
   ]
  },
  {
   "cell_type": "code",
   "execution_count": 9,
   "metadata": {
    "execution": {
     "iopub.execute_input": "2021-03-12T06:47:22.239320Z",
     "iopub.status.busy": "2021-03-12T06:47:22.238036Z",
     "iopub.status.idle": "2021-03-12T06:47:22.239893Z",
     "shell.execute_reply": "2021-03-12T06:47:22.240378Z"
    }
   },
   "outputs": [],
   "source": [
    "df = pd.Series(zipped).reset_index()"
   ]
  },
  {
   "cell_type": "code",
   "execution_count": 10,
   "metadata": {
    "execution": {
     "iopub.execute_input": "2021-03-12T06:47:22.245178Z",
     "iopub.status.busy": "2021-03-12T06:47:22.243806Z",
     "iopub.status.idle": "2021-03-12T06:47:22.245789Z",
     "shell.execute_reply": "2021-03-12T06:47:22.246224Z"
    }
   },
   "outputs": [],
   "source": [
    "df.columns = ['location','doses']"
   ]
  },
  {
   "cell_type": "markdown",
   "metadata": {},
   "source": [
    "Grab the overall California total"
   ]
  },
  {
   "cell_type": "code",
   "execution_count": 11,
   "metadata": {
    "execution": {
     "iopub.execute_input": "2021-03-12T06:47:22.250690Z",
     "iopub.status.busy": "2021-03-12T06:47:22.249409Z",
     "iopub.status.idle": "2021-03-12T06:47:22.251350Z",
     "shell.execute_reply": "2021-03-12T06:47:22.251806Z"
    }
   },
   "outputs": [],
   "source": [
    "add = {'location':'California','doses':dataJson[0]['dataValues'][2]}"
   ]
  },
  {
   "cell_type": "code",
   "execution_count": 12,
   "metadata": {
    "execution": {
     "iopub.execute_input": "2021-03-12T06:47:22.259044Z",
     "iopub.status.busy": "2021-03-12T06:47:22.257770Z",
     "iopub.status.idle": "2021-03-12T06:47:22.259757Z",
     "shell.execute_reply": "2021-03-12T06:47:22.260241Z"
    }
   },
   "outputs": [],
   "source": [
    "df = df.append(add, ignore_index=True)"
   ]
  },
  {
   "cell_type": "code",
   "execution_count": 13,
   "metadata": {
    "execution": {
     "iopub.execute_input": "2021-03-12T06:47:22.265537Z",
     "iopub.status.busy": "2021-03-12T06:47:22.264230Z",
     "iopub.status.idle": "2021-03-12T06:47:22.266152Z",
     "shell.execute_reply": "2021-03-12T06:47:22.266671Z"
    }
   },
   "outputs": [],
   "source": [
    "df = df.sort_values(by='location')"
   ]
  },
  {
   "cell_type": "code",
   "execution_count": 14,
   "metadata": {
    "execution": {
     "iopub.execute_input": "2021-03-12T06:47:22.272364Z",
     "iopub.status.busy": "2021-03-12T06:47:22.271810Z",
     "iopub.status.idle": "2021-03-12T06:47:22.274455Z",
     "shell.execute_reply": "2021-03-12T06:47:22.273958Z"
    }
   },
   "outputs": [],
   "source": [
    "df = df[df.location == 'California'].append(df[df.location != 'California']).reset_index(drop=True)"
   ]
  },
  {
   "cell_type": "code",
   "execution_count": null,
   "metadata": {},
   "outputs": [],
   "source": []
  },
  {
   "cell_type": "code",
   "execution_count": 15,
   "metadata": {
    "execution": {
     "iopub.execute_input": "2021-03-12T06:47:22.278363Z",
     "iopub.status.busy": "2021-03-12T06:47:22.277782Z",
     "iopub.status.idle": "2021-03-12T06:47:22.295727Z",
     "shell.execute_reply": "2021-03-12T06:47:22.295279Z"
    }
   },
   "outputs": [],
   "source": [
    "tz = pytz.timezone(\"America/New_York\")"
   ]
  },
  {
   "cell_type": "code",
   "execution_count": 16,
   "metadata": {
    "execution": {
     "iopub.execute_input": "2021-03-12T06:47:22.300233Z",
     "iopub.status.busy": "2021-03-12T06:47:22.298855Z",
     "iopub.status.idle": "2021-03-12T06:47:22.300859Z",
     "shell.execute_reply": "2021-03-12T06:47:22.301327Z"
    }
   },
   "outputs": [],
   "source": [
    "today = datetime.now(tz).date()"
   ]
  },
  {
   "cell_type": "code",
   "execution_count": 17,
   "metadata": {
    "execution": {
     "iopub.execute_input": "2021-03-12T06:47:22.305949Z",
     "iopub.status.busy": "2021-03-12T06:47:22.304552Z",
     "iopub.status.idle": "2021-03-12T06:47:22.306668Z",
     "shell.execute_reply": "2021-03-12T06:47:22.307142Z"
    }
   },
   "outputs": [],
   "source": [
    "data_dir = os.path.join(os.path.abspath(\"\"), \"data\")"
   ]
  },
  {
   "cell_type": "code",
   "execution_count": 18,
   "metadata": {
    "execution": {
     "iopub.execute_input": "2021-03-12T06:47:22.311560Z",
     "iopub.status.busy": "2021-03-12T06:47:22.310226Z",
     "iopub.status.idle": "2021-03-12T06:47:22.315271Z",
     "shell.execute_reply": "2021-03-12T06:47:22.314729Z"
    }
   },
   "outputs": [],
   "source": [
    "df.to_csv(os.path.join(data_dir, f\"{today}.csv\"), index=False)"
   ]
  },
  {
   "cell_type": "code",
   "execution_count": null,
   "metadata": {},
   "outputs": [],
   "source": []
  }
 ],
 "metadata": {
  "kernelspec": {
   "display_name": "Python 3",
   "language": "python",
   "name": "python3"
  },
  "language_info": {
   "codemirror_mode": {
    "name": "ipython",
    "version": 3
   },
   "file_extension": ".py",
   "mimetype": "text/x-python",
   "name": "python",
   "nbconvert_exporter": "python",
   "pygments_lexer": "ipython3",
   "version": "3.8.8"
  }
 },
 "nbformat": 4,
 "nbformat_minor": 4
}
