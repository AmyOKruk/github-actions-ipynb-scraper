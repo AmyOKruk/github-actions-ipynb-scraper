{
 "cells": [
  {
   "cell_type": "markdown",
   "metadata": {},
   "source": [
    "# California COVID vaccinations scrape"
   ]
  },
  {
   "cell_type": "markdown",
   "metadata": {},
   "source": [
    "By [Amy O'Kruk](https://twitter.com/amyokruk)"
   ]
  },
  {
   "cell_type": "markdown",
   "metadata": {},
   "source": [
    "Downloads data on vaccine doses administered by county and statewide from a Tableau-powered dashboard from the California Department of Public Health."
   ]
  },
  {
   "cell_type": "code",
   "execution_count": 1,
   "metadata": {
    "execution": {
     "iopub.execute_input": "2021-03-24T11:00:04.667682Z",
     "iopub.status.busy": "2021-03-24T11:00:04.666922Z",
     "iopub.status.idle": "2021-03-24T11:00:05.187556Z",
     "shell.execute_reply": "2021-03-24T11:00:05.186901Z"
    }
   },
   "outputs": [],
   "source": [
    "import pandas as pd\n",
    "import requests\n",
    "from bs4 import BeautifulSoup\n",
    "import json\n",
    "import re\n",
    "import time\n",
    "from time import gmtime, strftime \n",
    "import os\n",
    "import pytz\n",
    "from datetime import datetime"
   ]
  },
  {
   "cell_type": "markdown",
   "metadata": {},
   "source": [
    "Scrape the dashboard page"
   ]
  },
  {
   "cell_type": "code",
   "execution_count": 2,
   "metadata": {
    "execution": {
     "iopub.execute_input": "2021-03-24T11:00:05.195021Z",
     "iopub.status.busy": "2021-03-24T11:00:05.191285Z",
     "iopub.status.idle": "2021-03-24T11:00:05.788114Z",
     "shell.execute_reply": "2021-03-24T11:00:05.787194Z"
    }
   },
   "outputs": [],
   "source": [
    "url = \"https://public.tableau.com/interactive/views/COVID-19VaccineDashboardPublic/Vaccine?:embed=y&:showVizHome=n&:apiID=host0\"\n",
    "\n",
    "r = requests.get(url)\n",
    "soup = BeautifulSoup(r.text, \"html.parser\")"
   ]
  },
  {
   "cell_type": "code",
   "execution_count": 3,
   "metadata": {
    "execution": {
     "iopub.execute_input": "2021-03-24T11:00:05.793463Z",
     "iopub.status.busy": "2021-03-24T11:00:05.792851Z",
     "iopub.status.idle": "2021-03-24T11:00:05.795557Z",
     "shell.execute_reply": "2021-03-24T11:00:05.796036Z"
    }
   },
   "outputs": [],
   "source": [
    "tableauData = json.loads(soup.find(\"textarea\",{\"id\": \"tsConfigContainer\"}).text)"
   ]
  },
  {
   "cell_type": "markdown",
   "metadata": {},
   "source": [
    "Get the link to the Tableau data"
   ]
  },
  {
   "cell_type": "code",
   "execution_count": 4,
   "metadata": {
    "execution": {
     "iopub.execute_input": "2021-03-24T11:00:05.800382Z",
     "iopub.status.busy": "2021-03-24T11:00:05.799784Z",
     "iopub.status.idle": "2021-03-24T11:00:05.803810Z",
     "shell.execute_reply": "2021-03-24T11:00:05.803284Z"
    }
   },
   "outputs": [],
   "source": [
    "dataUrl = f'https://public.tableau.com{tableauData[\"vizql_root\"]}/bootstrapSession/sessions/{tableauData[\"sessionid\"]}'"
   ]
  },
  {
   "cell_type": "code",
   "execution_count": 5,
   "metadata": {
    "execution": {
     "iopub.execute_input": "2021-03-24T11:00:05.810981Z",
     "iopub.status.busy": "2021-03-24T11:00:05.810371Z",
     "iopub.status.idle": "2021-03-24T11:00:06.253834Z",
     "shell.execute_reply": "2021-03-24T11:00:06.254321Z"
    }
   },
   "outputs": [],
   "source": [
    "r = requests.post(dataUrl, data= {\n",
    "    \"sheet_id\": tableauData[\"sheetId\"],\n",
    "})\n",
    "\n",
    "dataReg = re.search('\\d+;({.*})\\d+;({.*})', r.text, re.MULTILINE)\n",
    "data1 = json.loads(dataReg.group(2))\n",
    "\n",
    "dataJson = data1[\"secondaryInfo\"][\"presModelMap\"][\"dataDictionary\"][\"presModelHolder\"][\"genDataDictionaryPresModel\"][\"dataSegments\"][\"0\"][\"dataColumns\"]"
   ]
  },
  {
   "cell_type": "markdown",
   "metadata": {},
   "source": [
    "Isolate what you want"
   ]
  },
  {
   "cell_type": "code",
   "execution_count": 6,
   "metadata": {
    "execution": {
     "iopub.execute_input": "2021-03-24T11:00:06.259444Z",
     "iopub.status.busy": "2021-03-24T11:00:06.258811Z",
     "iopub.status.idle": "2021-03-24T11:00:06.262973Z",
     "shell.execute_reply": "2021-03-24T11:00:06.262138Z"
    }
   },
   "outputs": [],
   "source": [
    "counties = dataJson[2]['dataValues'][:58]"
   ]
  },
  {
   "cell_type": "code",
   "execution_count": 7,
   "metadata": {
    "execution": {
     "iopub.execute_input": "2021-03-24T11:00:06.268550Z",
     "iopub.status.busy": "2021-03-24T11:00:06.267107Z",
     "iopub.status.idle": "2021-03-24T11:00:06.269295Z",
     "shell.execute_reply": "2021-03-24T11:00:06.269804Z"
    }
   },
   "outputs": [],
   "source": [
    "doses = dataJson[0]['dataValues'][3:61]"
   ]
  },
  {
   "cell_type": "markdown",
   "metadata": {},
   "source": [
    "Data formatting"
   ]
  },
  {
   "cell_type": "code",
   "execution_count": 8,
   "metadata": {
    "execution": {
     "iopub.execute_input": "2021-03-24T11:00:06.274871Z",
     "iopub.status.busy": "2021-03-24T11:00:06.273374Z",
     "iopub.status.idle": "2021-03-24T11:00:06.275646Z",
     "shell.execute_reply": "2021-03-24T11:00:06.276151Z"
    }
   },
   "outputs": [],
   "source": [
    "zipped = dict(zip(counties, doses))"
   ]
  },
  {
   "cell_type": "code",
   "execution_count": 9,
   "metadata": {
    "execution": {
     "iopub.execute_input": "2021-03-24T11:00:06.283696Z",
     "iopub.status.busy": "2021-03-24T11:00:06.282212Z",
     "iopub.status.idle": "2021-03-24T11:00:06.284383Z",
     "shell.execute_reply": "2021-03-24T11:00:06.284894Z"
    }
   },
   "outputs": [],
   "source": [
    "df = pd.Series(zipped).reset_index()"
   ]
  },
  {
   "cell_type": "code",
   "execution_count": 10,
   "metadata": {
    "execution": {
     "iopub.execute_input": "2021-03-24T11:00:06.290319Z",
     "iopub.status.busy": "2021-03-24T11:00:06.288933Z",
     "iopub.status.idle": "2021-03-24T11:00:06.290995Z",
     "shell.execute_reply": "2021-03-24T11:00:06.291541Z"
    }
   },
   "outputs": [],
   "source": [
    "df.columns = ['location','doses']"
   ]
  },
  {
   "cell_type": "markdown",
   "metadata": {},
   "source": [
    "Grab the overall California total"
   ]
  },
  {
   "cell_type": "code",
   "execution_count": 11,
   "metadata": {
    "execution": {
     "iopub.execute_input": "2021-03-24T11:00:06.296702Z",
     "iopub.status.busy": "2021-03-24T11:00:06.295351Z",
     "iopub.status.idle": "2021-03-24T11:00:06.297383Z",
     "shell.execute_reply": "2021-03-24T11:00:06.297895Z"
    }
   },
   "outputs": [],
   "source": [
    "add = {'location':'California','doses':dataJson[0]['dataValues'][2]}"
   ]
  },
  {
   "cell_type": "code",
   "execution_count": 12,
   "metadata": {
    "execution": {
     "iopub.execute_input": "2021-03-24T11:00:06.308051Z",
     "iopub.status.busy": "2021-03-24T11:00:06.306520Z",
     "iopub.status.idle": "2021-03-24T11:00:06.308720Z",
     "shell.execute_reply": "2021-03-24T11:00:06.309225Z"
    }
   },
   "outputs": [],
   "source": [
    "df = df.append(add, ignore_index=True)"
   ]
  },
  {
   "cell_type": "code",
   "execution_count": 13,
   "metadata": {
    "execution": {
     "iopub.execute_input": "2021-03-24T11:00:06.314923Z",
     "iopub.status.busy": "2021-03-24T11:00:06.313495Z",
     "iopub.status.idle": "2021-03-24T11:00:06.315628Z",
     "shell.execute_reply": "2021-03-24T11:00:06.316139Z"
    }
   },
   "outputs": [],
   "source": [
    "df = df.sort_values(by='location')"
   ]
  },
  {
   "cell_type": "code",
   "execution_count": 14,
   "metadata": {
    "execution": {
     "iopub.execute_input": "2021-03-24T11:00:06.323737Z",
     "iopub.status.busy": "2021-03-24T11:00:06.322298Z",
     "iopub.status.idle": "2021-03-24T11:00:06.324415Z",
     "shell.execute_reply": "2021-03-24T11:00:06.324938Z"
    }
   },
   "outputs": [],
   "source": [
    "df = df[df.location == 'California'].append(df[df.location != 'California']).reset_index(drop=True)"
   ]
  },
  {
   "cell_type": "code",
   "execution_count": null,
   "metadata": {},
   "outputs": [],
   "source": []
  },
  {
   "cell_type": "code",
   "execution_count": 15,
   "metadata": {
    "execution": {
     "iopub.execute_input": "2021-03-24T11:00:06.328998Z",
     "iopub.status.busy": "2021-03-24T11:00:06.328382Z",
     "iopub.status.idle": "2021-03-24T11:00:06.350287Z",
     "shell.execute_reply": "2021-03-24T11:00:06.349401Z"
    }
   },
   "outputs": [],
   "source": [
    "tz = pytz.timezone(\"America/New_York\")"
   ]
  },
  {
   "cell_type": "code",
   "execution_count": 16,
   "metadata": {
    "execution": {
     "iopub.execute_input": "2021-03-24T11:00:06.356613Z",
     "iopub.status.busy": "2021-03-24T11:00:06.355319Z",
     "iopub.status.idle": "2021-03-24T11:00:06.359036Z",
     "shell.execute_reply": "2021-03-24T11:00:06.358261Z"
    }
   },
   "outputs": [],
   "source": [
    "today = datetime.now(tz).date()"
   ]
  },
  {
   "cell_type": "code",
   "execution_count": 17,
   "metadata": {
    "execution": {
     "iopub.execute_input": "2021-03-24T11:00:06.363412Z",
     "iopub.status.busy": "2021-03-24T11:00:06.362772Z",
     "iopub.status.idle": "2021-03-24T11:00:06.366733Z",
     "shell.execute_reply": "2021-03-24T11:00:06.366123Z"
    }
   },
   "outputs": [],
   "source": [
    "data_dir = os.path.join(os.path.abspath(\"\"), \"data\")"
   ]
  },
  {
   "cell_type": "code",
   "execution_count": 18,
   "metadata": {
    "execution": {
     "iopub.execute_input": "2021-03-24T11:00:06.372546Z",
     "iopub.status.busy": "2021-03-24T11:00:06.370305Z",
     "iopub.status.idle": "2021-03-24T11:00:06.402939Z",
     "shell.execute_reply": "2021-03-24T11:00:06.403672Z"
    }
   },
   "outputs": [],
   "source": [
    "df.to_csv(os.path.join(data_dir, f\"{today}.csv\"), index=False)"
   ]
  },
  {
   "cell_type": "code",
   "execution_count": null,
   "metadata": {},
   "outputs": [],
   "source": []
  }
 ],
 "metadata": {
  "kernelspec": {
   "display_name": "Python 3",
   "language": "python",
   "name": "python3"
  },
  "language_info": {
   "codemirror_mode": {
    "name": "ipython",
    "version": 3
   },
   "file_extension": ".py",
   "mimetype": "text/x-python",
   "name": "python",
   "nbconvert_exporter": "python",
   "pygments_lexer": "ipython3",
   "version": "3.8.8"
  }
 },
 "nbformat": 4,
 "nbformat_minor": 4
}
