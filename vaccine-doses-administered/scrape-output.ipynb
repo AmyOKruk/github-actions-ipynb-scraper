{
 "cells": [
  {
   "cell_type": "markdown",
   "metadata": {},
   "source": [
    "# California COVID vaccinations scrape"
   ]
  },
  {
   "cell_type": "markdown",
   "metadata": {},
   "source": [
    "By [Amy O'Kruk](https://twitter.com/amyokruk)"
   ]
  },
  {
   "cell_type": "markdown",
   "metadata": {},
   "source": [
    "Downloads data on vaccine doses administered by county and statewide from a Tableau-powered dashboard from the California Department of Public Health."
   ]
  },
  {
   "cell_type": "code",
   "execution_count": 1,
   "metadata": {
    "execution": {
     "iopub.execute_input": "2021-03-19T18:46:25.267056Z",
     "iopub.status.busy": "2021-03-19T18:46:25.266420Z",
     "iopub.status.idle": "2021-03-19T18:46:25.653677Z",
     "shell.execute_reply": "2021-03-19T18:46:25.652666Z"
    }
   },
   "outputs": [],
   "source": [
    "import pandas as pd\n",
    "import requests\n",
    "from bs4 import BeautifulSoup\n",
    "import json\n",
    "import re\n",
    "import time\n",
    "from time import gmtime, strftime \n",
    "import os\n",
    "import pytz\n",
    "from datetime import datetime"
   ]
  },
  {
   "cell_type": "markdown",
   "metadata": {},
   "source": [
    "Scrape the dashboard page"
   ]
  },
  {
   "cell_type": "code",
   "execution_count": 2,
   "metadata": {
    "execution": {
     "iopub.execute_input": "2021-03-19T18:46:25.660533Z",
     "iopub.status.busy": "2021-03-19T18:46:25.657424Z",
     "iopub.status.idle": "2021-03-19T18:46:26.057501Z",
     "shell.execute_reply": "2021-03-19T18:46:26.056550Z"
    }
   },
   "outputs": [],
   "source": [
    "url = \"https://public.tableau.com/interactive/views/COVID-19VaccineDashboardPublic/Vaccine?:embed=y&:showVizHome=n&:apiID=host0\"\n",
    "\n",
    "r = requests.get(url)\n",
    "soup = BeautifulSoup(r.text, \"html.parser\")"
   ]
  },
  {
   "cell_type": "code",
   "execution_count": 3,
   "metadata": {
    "execution": {
     "iopub.execute_input": "2021-03-19T18:46:26.064050Z",
     "iopub.status.busy": "2021-03-19T18:46:26.062399Z",
     "iopub.status.idle": "2021-03-19T18:46:26.069751Z",
     "shell.execute_reply": "2021-03-19T18:46:26.069049Z"
    }
   },
   "outputs": [],
   "source": [
    "tableauData = json.loads(soup.find(\"textarea\",{\"id\": \"tsConfigContainer\"}).text)"
   ]
  },
  {
   "cell_type": "markdown",
   "metadata": {},
   "source": [
    "Get the link to the Tableau data"
   ]
  },
  {
   "cell_type": "code",
   "execution_count": 4,
   "metadata": {
    "execution": {
     "iopub.execute_input": "2021-03-19T18:46:26.075435Z",
     "iopub.status.busy": "2021-03-19T18:46:26.074132Z",
     "iopub.status.idle": "2021-03-19T18:46:26.076053Z",
     "shell.execute_reply": "2021-03-19T18:46:26.076493Z"
    }
   },
   "outputs": [],
   "source": [
    "dataUrl = f'https://public.tableau.com{tableauData[\"vizql_root\"]}/bootstrapSession/sessions/{tableauData[\"sessionid\"]}'"
   ]
  },
  {
   "cell_type": "code",
   "execution_count": 5,
   "metadata": {
    "execution": {
     "iopub.execute_input": "2021-03-19T18:46:26.083124Z",
     "iopub.status.busy": "2021-03-19T18:46:26.082584Z",
     "iopub.status.idle": "2021-03-19T18:46:26.199314Z",
     "shell.execute_reply": "2021-03-19T18:46:26.198607Z"
    }
   },
   "outputs": [],
   "source": [
    "r = requests.post(dataUrl, data= {\n",
    "    \"sheet_id\": tableauData[\"sheetId\"],\n",
    "})\n",
    "\n",
    "dataReg = re.search('\\d+;({.*})\\d+;({.*})', r.text, re.MULTILINE)\n",
    "data1 = json.loads(dataReg.group(2))\n",
    "\n",
    "dataJson = data1[\"secondaryInfo\"][\"presModelMap\"][\"dataDictionary\"][\"presModelHolder\"][\"genDataDictionaryPresModel\"][\"dataSegments\"][\"0\"][\"dataColumns\"]"
   ]
  },
  {
   "cell_type": "markdown",
   "metadata": {},
   "source": [
    "Isolate what you want"
   ]
  },
  {
   "cell_type": "code",
   "execution_count": 6,
   "metadata": {
    "execution": {
     "iopub.execute_input": "2021-03-19T18:46:26.203335Z",
     "iopub.status.busy": "2021-03-19T18:46:26.202775Z",
     "iopub.status.idle": "2021-03-19T18:46:26.206820Z",
     "shell.execute_reply": "2021-03-19T18:46:26.206339Z"
    }
   },
   "outputs": [],
   "source": [
    "counties = dataJson[2]['dataValues'][:58]"
   ]
  },
  {
   "cell_type": "code",
   "execution_count": 7,
   "metadata": {
    "execution": {
     "iopub.execute_input": "2021-03-19T18:46:26.211306Z",
     "iopub.status.busy": "2021-03-19T18:46:26.210032Z",
     "iopub.status.idle": "2021-03-19T18:46:26.211920Z",
     "shell.execute_reply": "2021-03-19T18:46:26.212362Z"
    }
   },
   "outputs": [],
   "source": [
    "doses = dataJson[0]['dataValues'][3:61]"
   ]
  },
  {
   "cell_type": "markdown",
   "metadata": {},
   "source": [
    "Data formatting"
   ]
  },
  {
   "cell_type": "code",
   "execution_count": 8,
   "metadata": {
    "execution": {
     "iopub.execute_input": "2021-03-19T18:46:26.217377Z",
     "iopub.status.busy": "2021-03-19T18:46:26.215842Z",
     "iopub.status.idle": "2021-03-19T18:46:26.218372Z",
     "shell.execute_reply": "2021-03-19T18:46:26.219097Z"
    }
   },
   "outputs": [],
   "source": [
    "zipped = dict(zip(counties, doses))"
   ]
  },
  {
   "cell_type": "code",
   "execution_count": 9,
   "metadata": {
    "execution": {
     "iopub.execute_input": "2021-03-19T18:46:26.226351Z",
     "iopub.status.busy": "2021-03-19T18:46:26.225140Z",
     "iopub.status.idle": "2021-03-19T18:46:26.226959Z",
     "shell.execute_reply": "2021-03-19T18:46:26.227399Z"
    }
   },
   "outputs": [],
   "source": [
    "df = pd.Series(zipped).reset_index()"
   ]
  },
  {
   "cell_type": "code",
   "execution_count": 10,
   "metadata": {
    "execution": {
     "iopub.execute_input": "2021-03-19T18:46:26.231888Z",
     "iopub.status.busy": "2021-03-19T18:46:26.230727Z",
     "iopub.status.idle": "2021-03-19T18:46:26.232500Z",
     "shell.execute_reply": "2021-03-19T18:46:26.232941Z"
    }
   },
   "outputs": [],
   "source": [
    "df.columns = ['location','doses']"
   ]
  },
  {
   "cell_type": "markdown",
   "metadata": {},
   "source": [
    "Grab the overall California total"
   ]
  },
  {
   "cell_type": "code",
   "execution_count": 11,
   "metadata": {
    "execution": {
     "iopub.execute_input": "2021-03-19T18:46:26.237548Z",
     "iopub.status.busy": "2021-03-19T18:46:26.236308Z",
     "iopub.status.idle": "2021-03-19T18:46:26.238198Z",
     "shell.execute_reply": "2021-03-19T18:46:26.238643Z"
    }
   },
   "outputs": [],
   "source": [
    "add = {'location':'California','doses':dataJson[0]['dataValues'][2]}"
   ]
  },
  {
   "cell_type": "code",
   "execution_count": 12,
   "metadata": {
    "execution": {
     "iopub.execute_input": "2021-03-19T18:46:26.245754Z",
     "iopub.status.busy": "2021-03-19T18:46:26.244591Z",
     "iopub.status.idle": "2021-03-19T18:46:26.246382Z",
     "shell.execute_reply": "2021-03-19T18:46:26.246828Z"
    }
   },
   "outputs": [],
   "source": [
    "df = df.append(add, ignore_index=True)"
   ]
  },
  {
   "cell_type": "code",
   "execution_count": 13,
   "metadata": {
    "execution": {
     "iopub.execute_input": "2021-03-19T18:46:26.251886Z",
     "iopub.status.busy": "2021-03-19T18:46:26.250670Z",
     "iopub.status.idle": "2021-03-19T18:46:26.252503Z",
     "shell.execute_reply": "2021-03-19T18:46:26.252947Z"
    }
   },
   "outputs": [],
   "source": [
    "df = df.sort_values(by='location')"
   ]
  },
  {
   "cell_type": "code",
   "execution_count": 14,
   "metadata": {
    "execution": {
     "iopub.execute_input": "2021-03-19T18:46:26.259432Z",
     "iopub.status.busy": "2021-03-19T18:46:26.258222Z",
     "iopub.status.idle": "2021-03-19T18:46:26.260043Z",
     "shell.execute_reply": "2021-03-19T18:46:26.260482Z"
    }
   },
   "outputs": [],
   "source": [
    "df = df[df.location == 'California'].append(df[df.location != 'California']).reset_index(drop=True)"
   ]
  },
  {
   "cell_type": "code",
   "execution_count": null,
   "metadata": {},
   "outputs": [],
   "source": []
  },
  {
   "cell_type": "code",
   "execution_count": 15,
   "metadata": {
    "execution": {
     "iopub.execute_input": "2021-03-19T18:46:26.263870Z",
     "iopub.status.busy": "2021-03-19T18:46:26.263340Z",
     "iopub.status.idle": "2021-03-19T18:46:26.281963Z",
     "shell.execute_reply": "2021-03-19T18:46:26.282928Z"
    }
   },
   "outputs": [],
   "source": [
    "tz = pytz.timezone(\"America/New_York\")"
   ]
  },
  {
   "cell_type": "code",
   "execution_count": 16,
   "metadata": {
    "execution": {
     "iopub.execute_input": "2021-03-19T18:46:26.287132Z",
     "iopub.status.busy": "2021-03-19T18:46:26.286043Z",
     "iopub.status.idle": "2021-03-19T18:46:26.289448Z",
     "shell.execute_reply": "2021-03-19T18:46:26.288965Z"
    }
   },
   "outputs": [],
   "source": [
    "today = datetime.now(tz).date()"
   ]
  },
  {
   "cell_type": "code",
   "execution_count": 17,
   "metadata": {
    "execution": {
     "iopub.execute_input": "2021-03-19T18:46:26.293913Z",
     "iopub.status.busy": "2021-03-19T18:46:26.292740Z",
     "iopub.status.idle": "2021-03-19T18:46:26.294530Z",
     "shell.execute_reply": "2021-03-19T18:46:26.294970Z"
    }
   },
   "outputs": [],
   "source": [
    "data_dir = os.path.join(os.path.abspath(\"\"), \"data\")"
   ]
  },
  {
   "cell_type": "code",
   "execution_count": 18,
   "metadata": {
    "execution": {
     "iopub.execute_input": "2021-03-19T18:46:26.299568Z",
     "iopub.status.busy": "2021-03-19T18:46:26.298327Z",
     "iopub.status.idle": "2021-03-19T18:46:26.302917Z",
     "shell.execute_reply": "2021-03-19T18:46:26.302385Z"
    }
   },
   "outputs": [],
   "source": [
    "df.to_csv(os.path.join(data_dir, f\"{today}.csv\"), index=False)"
   ]
  },
  {
   "cell_type": "code",
   "execution_count": null,
   "metadata": {},
   "outputs": [],
   "source": []
  }
 ],
 "metadata": {
  "kernelspec": {
   "display_name": "Python 3",
   "language": "python",
   "name": "python3"
  },
  "language_info": {
   "codemirror_mode": {
    "name": "ipython",
    "version": 3
   },
   "file_extension": ".py",
   "mimetype": "text/x-python",
   "name": "python",
   "nbconvert_exporter": "python",
   "pygments_lexer": "ipython3",
   "version": "3.8.8"
  }
 },
 "nbformat": 4,
 "nbformat_minor": 4
}
