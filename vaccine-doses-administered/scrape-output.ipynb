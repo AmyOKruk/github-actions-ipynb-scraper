{
 "cells": [
  {
   "cell_type": "markdown",
   "metadata": {},
   "source": [
    "# California COVID vaccinations scrape"
   ]
  },
  {
   "cell_type": "markdown",
   "metadata": {},
   "source": [
    "By [Amy O'Kruk](https://twitter.com/amyokruk)"
   ]
  },
  {
   "cell_type": "markdown",
   "metadata": {},
   "source": [
    "Downloads data on vaccine doses administered by county and statewide from a Tableau-powered dashboard from the California Department of Public Health."
   ]
  },
  {
   "cell_type": "code",
   "execution_count": 1,
   "metadata": {
    "execution": {
     "iopub.execute_input": "2021-03-16T12:54:46.207842Z",
     "iopub.status.busy": "2021-03-16T12:54:46.207233Z",
     "iopub.status.idle": "2021-03-16T12:54:46.598525Z",
     "shell.execute_reply": "2021-03-16T12:54:46.597360Z"
    }
   },
   "outputs": [],
   "source": [
    "import pandas as pd\n",
    "import requests\n",
    "from bs4 import BeautifulSoup\n",
    "import json\n",
    "import re\n",
    "import time\n",
    "from time import gmtime, strftime \n",
    "import os\n",
    "import pytz\n",
    "from datetime import datetime"
   ]
  },
  {
   "cell_type": "markdown",
   "metadata": {},
   "source": [
    "Scrape the dashboard page"
   ]
  },
  {
   "cell_type": "code",
   "execution_count": 2,
   "metadata": {
    "execution": {
     "iopub.execute_input": "2021-03-16T12:54:46.603815Z",
     "iopub.status.busy": "2021-03-16T12:54:46.602003Z",
     "iopub.status.idle": "2021-03-16T12:54:47.013140Z",
     "shell.execute_reply": "2021-03-16T12:54:47.011900Z"
    }
   },
   "outputs": [],
   "source": [
    "url = \"https://public.tableau.com/interactive/views/COVID-19VaccineDashboardPublic/Vaccine?:embed=y&:showVizHome=n&:apiID=host0\"\n",
    "\n",
    "r = requests.get(url)\n",
    "soup = BeautifulSoup(r.text, \"html.parser\")"
   ]
  },
  {
   "cell_type": "code",
   "execution_count": 3,
   "metadata": {
    "execution": {
     "iopub.execute_input": "2021-03-16T12:54:47.018912Z",
     "iopub.status.busy": "2021-03-16T12:54:47.017700Z",
     "iopub.status.idle": "2021-03-16T12:54:47.019524Z",
     "shell.execute_reply": "2021-03-16T12:54:47.019920Z"
    }
   },
   "outputs": [],
   "source": [
    "tableauData = json.loads(soup.find(\"textarea\",{\"id\": \"tsConfigContainer\"}).text)"
   ]
  },
  {
   "cell_type": "markdown",
   "metadata": {},
   "source": [
    "Get the link to the Tableau data"
   ]
  },
  {
   "cell_type": "code",
   "execution_count": 4,
   "metadata": {
    "execution": {
     "iopub.execute_input": "2021-03-16T12:54:47.023589Z",
     "iopub.status.busy": "2021-03-16T12:54:47.022667Z",
     "iopub.status.idle": "2021-03-16T12:54:47.024355Z",
     "shell.execute_reply": "2021-03-16T12:54:47.024749Z"
    }
   },
   "outputs": [],
   "source": [
    "dataUrl = f'https://public.tableau.com{tableauData[\"vizql_root\"]}/bootstrapSession/sessions/{tableauData[\"sessionid\"]}'"
   ]
  },
  {
   "cell_type": "code",
   "execution_count": 5,
   "metadata": {
    "execution": {
     "iopub.execute_input": "2021-03-16T12:54:47.030742Z",
     "iopub.status.busy": "2021-03-16T12:54:47.030227Z",
     "iopub.status.idle": "2021-03-16T12:54:47.327223Z",
     "shell.execute_reply": "2021-03-16T12:54:47.326694Z"
    }
   },
   "outputs": [],
   "source": [
    "r = requests.post(dataUrl, data= {\n",
    "    \"sheet_id\": tableauData[\"sheetId\"],\n",
    "})\n",
    "\n",
    "dataReg = re.search('\\d+;({.*})\\d+;({.*})', r.text, re.MULTILINE)\n",
    "data1 = json.loads(dataReg.group(2))\n",
    "\n",
    "dataJson = data1[\"secondaryInfo\"][\"presModelMap\"][\"dataDictionary\"][\"presModelHolder\"][\"genDataDictionaryPresModel\"][\"dataSegments\"][\"0\"][\"dataColumns\"]"
   ]
  },
  {
   "cell_type": "markdown",
   "metadata": {},
   "source": [
    "Isolate what you want"
   ]
  },
  {
   "cell_type": "code",
   "execution_count": 6,
   "metadata": {
    "execution": {
     "iopub.execute_input": "2021-03-16T12:54:47.330831Z",
     "iopub.status.busy": "2021-03-16T12:54:47.330359Z",
     "iopub.status.idle": "2021-03-16T12:54:47.333250Z",
     "shell.execute_reply": "2021-03-16T12:54:47.333623Z"
    }
   },
   "outputs": [],
   "source": [
    "counties = dataJson[2]['dataValues'][:58]"
   ]
  },
  {
   "cell_type": "code",
   "execution_count": 7,
   "metadata": {
    "execution": {
     "iopub.execute_input": "2021-03-16T12:54:47.336896Z",
     "iopub.status.busy": "2021-03-16T12:54:47.336430Z",
     "iopub.status.idle": "2021-03-16T12:54:47.339740Z",
     "shell.execute_reply": "2021-03-16T12:54:47.339300Z"
    }
   },
   "outputs": [],
   "source": [
    "doses = dataJson[0]['dataValues'][3:61]"
   ]
  },
  {
   "cell_type": "markdown",
   "metadata": {},
   "source": [
    "Data formatting"
   ]
  },
  {
   "cell_type": "code",
   "execution_count": 8,
   "metadata": {
    "execution": {
     "iopub.execute_input": "2021-03-16T12:54:47.343647Z",
     "iopub.status.busy": "2021-03-16T12:54:47.342488Z",
     "iopub.status.idle": "2021-03-16T12:54:47.344281Z",
     "shell.execute_reply": "2021-03-16T12:54:47.344675Z"
    }
   },
   "outputs": [],
   "source": [
    "zipped = dict(zip(counties, doses))"
   ]
  },
  {
   "cell_type": "code",
   "execution_count": 9,
   "metadata": {
    "execution": {
     "iopub.execute_input": "2021-03-16T12:54:47.350928Z",
     "iopub.status.busy": "2021-03-16T12:54:47.349821Z",
     "iopub.status.idle": "2021-03-16T12:54:47.351508Z",
     "shell.execute_reply": "2021-03-16T12:54:47.351902Z"
    }
   },
   "outputs": [],
   "source": [
    "df = pd.Series(zipped).reset_index()"
   ]
  },
  {
   "cell_type": "code",
   "execution_count": 10,
   "metadata": {
    "execution": {
     "iopub.execute_input": "2021-03-16T12:54:47.355930Z",
     "iopub.status.busy": "2021-03-16T12:54:47.354993Z",
     "iopub.status.idle": "2021-03-16T12:54:47.356737Z",
     "shell.execute_reply": "2021-03-16T12:54:47.357130Z"
    }
   },
   "outputs": [],
   "source": [
    "df.columns = ['location','doses']"
   ]
  },
  {
   "cell_type": "markdown",
   "metadata": {},
   "source": [
    "Grab the overall California total"
   ]
  },
  {
   "cell_type": "code",
   "execution_count": 11,
   "metadata": {
    "execution": {
     "iopub.execute_input": "2021-03-16T12:54:47.361391Z",
     "iopub.status.busy": "2021-03-16T12:54:47.360293Z",
     "iopub.status.idle": "2021-03-16T12:54:47.361979Z",
     "shell.execute_reply": "2021-03-16T12:54:47.362382Z"
    }
   },
   "outputs": [],
   "source": [
    "add = {'location':'California','doses':dataJson[0]['dataValues'][2]}"
   ]
  },
  {
   "cell_type": "code",
   "execution_count": 12,
   "metadata": {
    "execution": {
     "iopub.execute_input": "2021-03-16T12:54:47.369091Z",
     "iopub.status.busy": "2021-03-16T12:54:47.367951Z",
     "iopub.status.idle": "2021-03-16T12:54:47.369726Z",
     "shell.execute_reply": "2021-03-16T12:54:47.370119Z"
    }
   },
   "outputs": [],
   "source": [
    "df = df.append(add, ignore_index=True)"
   ]
  },
  {
   "cell_type": "code",
   "execution_count": 13,
   "metadata": {
    "execution": {
     "iopub.execute_input": "2021-03-16T12:54:47.374806Z",
     "iopub.status.busy": "2021-03-16T12:54:47.373712Z",
     "iopub.status.idle": "2021-03-16T12:54:47.375430Z",
     "shell.execute_reply": "2021-03-16T12:54:47.375826Z"
    }
   },
   "outputs": [],
   "source": [
    "df = df.sort_values(by='location')"
   ]
  },
  {
   "cell_type": "code",
   "execution_count": 14,
   "metadata": {
    "execution": {
     "iopub.execute_input": "2021-03-16T12:54:47.382099Z",
     "iopub.status.busy": "2021-03-16T12:54:47.380979Z",
     "iopub.status.idle": "2021-03-16T12:54:47.382654Z",
     "shell.execute_reply": "2021-03-16T12:54:47.383042Z"
    }
   },
   "outputs": [],
   "source": [
    "df = df[df.location == 'California'].append(df[df.location != 'California']).reset_index(drop=True)"
   ]
  },
  {
   "cell_type": "code",
   "execution_count": null,
   "metadata": {},
   "outputs": [],
   "source": []
  },
  {
   "cell_type": "code",
   "execution_count": 15,
   "metadata": {
    "execution": {
     "iopub.execute_input": "2021-03-16T12:54:47.386143Z",
     "iopub.status.busy": "2021-03-16T12:54:47.385643Z",
     "iopub.status.idle": "2021-03-16T12:54:47.402635Z",
     "shell.execute_reply": "2021-03-16T12:54:47.402125Z"
    }
   },
   "outputs": [],
   "source": [
    "tz = pytz.timezone(\"America/New_York\")"
   ]
  },
  {
   "cell_type": "code",
   "execution_count": 16,
   "metadata": {
    "execution": {
     "iopub.execute_input": "2021-03-16T12:54:47.407050Z",
     "iopub.status.busy": "2021-03-16T12:54:47.405660Z",
     "iopub.status.idle": "2021-03-16T12:54:47.407758Z",
     "shell.execute_reply": "2021-03-16T12:54:47.408148Z"
    }
   },
   "outputs": [],
   "source": [
    "today = datetime.now(tz).date()"
   ]
  },
  {
   "cell_type": "code",
   "execution_count": 17,
   "metadata": {
    "execution": {
     "iopub.execute_input": "2021-03-16T12:54:47.411897Z",
     "iopub.status.busy": "2021-03-16T12:54:47.411035Z",
     "iopub.status.idle": "2021-03-16T12:54:47.413086Z",
     "shell.execute_reply": "2021-03-16T12:54:47.412673Z"
    }
   },
   "outputs": [],
   "source": [
    "data_dir = os.path.join(os.path.abspath(\"\"), \"data\")"
   ]
  },
  {
   "cell_type": "code",
   "execution_count": 18,
   "metadata": {
    "execution": {
     "iopub.execute_input": "2021-03-16T12:54:47.416944Z",
     "iopub.status.busy": "2021-03-16T12:54:47.415927Z",
     "iopub.status.idle": "2021-03-16T12:54:47.420133Z",
     "shell.execute_reply": "2021-03-16T12:54:47.419663Z"
    }
   },
   "outputs": [],
   "source": [
    "df.to_csv(os.path.join(data_dir, f\"{today}.csv\"), index=False)"
   ]
  },
  {
   "cell_type": "code",
   "execution_count": null,
   "metadata": {},
   "outputs": [],
   "source": []
  }
 ],
 "metadata": {
  "kernelspec": {
   "display_name": "Python 3",
   "language": "python",
   "name": "python3"
  },
  "language_info": {
   "codemirror_mode": {
    "name": "ipython",
    "version": 3
   },
   "file_extension": ".py",
   "mimetype": "text/x-python",
   "name": "python",
   "nbconvert_exporter": "python",
   "pygments_lexer": "ipython3",
   "version": "3.8.8"
  }
 },
 "nbformat": 4,
 "nbformat_minor": 4
}
