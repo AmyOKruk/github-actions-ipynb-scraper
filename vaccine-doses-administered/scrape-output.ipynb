{
 "cells": [
  {
   "cell_type": "markdown",
   "metadata": {},
   "source": [
    "# California COVID vaccinations scrape"
   ]
  },
  {
   "cell_type": "markdown",
   "metadata": {},
   "source": [
    "By [Amy O'Kruk](https://twitter.com/amyokruk)"
   ]
  },
  {
   "cell_type": "markdown",
   "metadata": {},
   "source": [
    "Downloads data on vaccine doses administered by county and statewide from a Tableau-powered dashboard from the California Department of Public Health."
   ]
  },
  {
   "cell_type": "code",
   "execution_count": 1,
   "metadata": {
    "execution": {
     "iopub.execute_input": "2021-03-12T06:14:15.912826Z",
     "iopub.status.busy": "2021-03-12T06:14:15.912167Z",
     "iopub.status.idle": "2021-03-12T06:14:16.312287Z",
     "shell.execute_reply": "2021-03-12T06:14:16.311714Z"
    }
   },
   "outputs": [],
   "source": [
    "import pandas as pd\n",
    "import requests\n",
    "from bs4 import BeautifulSoup\n",
    "import json\n",
    "import re\n",
    "import time\n",
    "from time import gmtime, strftime \n",
    "import os\n",
    "import pytz\n",
    "from datetime import datetime"
   ]
  },
  {
   "cell_type": "markdown",
   "metadata": {},
   "source": [
    "Scrape the dashboard page"
   ]
  },
  {
   "cell_type": "code",
   "execution_count": 2,
   "metadata": {
    "execution": {
     "iopub.execute_input": "2021-03-12T06:14:16.318695Z",
     "iopub.status.busy": "2021-03-12T06:14:16.316189Z",
     "iopub.status.idle": "2021-03-12T06:14:16.996468Z",
     "shell.execute_reply": "2021-03-12T06:14:16.995993Z"
    }
   },
   "outputs": [],
   "source": [
    "url = \"https://public.tableau.com/interactive/views/COVID-19VaccineDashboardPublic/Vaccine?:embed=y&:showVizHome=n&:apiID=host0\"\n",
    "\n",
    "r = requests.get(url)\n",
    "soup = BeautifulSoup(r.text, \"html.parser\")"
   ]
  },
  {
   "cell_type": "code",
   "execution_count": 3,
   "metadata": {
    "execution": {
     "iopub.execute_input": "2021-03-12T06:14:17.001062Z",
     "iopub.status.busy": "2021-03-12T06:14:17.000522Z",
     "iopub.status.idle": "2021-03-12T06:14:17.005436Z",
     "shell.execute_reply": "2021-03-12T06:14:17.004578Z"
    }
   },
   "outputs": [],
   "source": [
    "tableauData = json.loads(soup.find(\"textarea\",{\"id\": \"tsConfigContainer\"}).text)"
   ]
  },
  {
   "cell_type": "markdown",
   "metadata": {},
   "source": [
    "Get the link to the Tableau data"
   ]
  },
  {
   "cell_type": "code",
   "execution_count": 4,
   "metadata": {
    "execution": {
     "iopub.execute_input": "2021-03-12T06:14:17.009500Z",
     "iopub.status.busy": "2021-03-12T06:14:17.008887Z",
     "iopub.status.idle": "2021-03-12T06:14:17.012381Z",
     "shell.execute_reply": "2021-03-12T06:14:17.012879Z"
    }
   },
   "outputs": [],
   "source": [
    "dataUrl = f'https://public.tableau.com{tableauData[\"vizql_root\"]}/bootstrapSession/sessions/{tableauData[\"sessionid\"]}'"
   ]
  },
  {
   "cell_type": "code",
   "execution_count": 5,
   "metadata": {
    "execution": {
     "iopub.execute_input": "2021-03-12T06:14:17.020119Z",
     "iopub.status.busy": "2021-03-12T06:14:17.019160Z",
     "iopub.status.idle": "2021-03-12T06:14:17.349003Z",
     "shell.execute_reply": "2021-03-12T06:14:17.350300Z"
    }
   },
   "outputs": [],
   "source": [
    "r = requests.post(dataUrl, data= {\n",
    "    \"sheet_id\": tableauData[\"sheetId\"],\n",
    "})\n",
    "\n",
    "dataReg = re.search('\\d+;({.*})\\d+;({.*})', r.text, re.MULTILINE)\n",
    "data1 = json.loads(dataReg.group(2))\n",
    "\n",
    "dataJson = data1[\"secondaryInfo\"][\"presModelMap\"][\"dataDictionary\"][\"presModelHolder\"][\"genDataDictionaryPresModel\"][\"dataSegments\"][\"0\"][\"dataColumns\"]"
   ]
  },
  {
   "cell_type": "markdown",
   "metadata": {},
   "source": [
    "Isolate what you want"
   ]
  },
  {
   "cell_type": "code",
   "execution_count": 6,
   "metadata": {
    "execution": {
     "iopub.execute_input": "2021-03-12T06:14:17.355969Z",
     "iopub.status.busy": "2021-03-12T06:14:17.355157Z",
     "iopub.status.idle": "2021-03-12T06:14:17.359544Z",
     "shell.execute_reply": "2021-03-12T06:14:17.359054Z"
    }
   },
   "outputs": [],
   "source": [
    "counties = dataJson[2]['dataValues'][:58]"
   ]
  },
  {
   "cell_type": "code",
   "execution_count": 7,
   "metadata": {
    "execution": {
     "iopub.execute_input": "2021-03-12T06:14:17.363729Z",
     "iopub.status.busy": "2021-03-12T06:14:17.363071Z",
     "iopub.status.idle": "2021-03-12T06:14:17.367663Z",
     "shell.execute_reply": "2021-03-12T06:14:17.366681Z"
    }
   },
   "outputs": [],
   "source": [
    "doses = dataJson[0]['dataValues'][3:61]"
   ]
  },
  {
   "cell_type": "markdown",
   "metadata": {},
   "source": [
    "Data formatting"
   ]
  },
  {
   "cell_type": "code",
   "execution_count": 8,
   "metadata": {
    "execution": {
     "iopub.execute_input": "2021-03-12T06:14:17.371185Z",
     "iopub.status.busy": "2021-03-12T06:14:17.370645Z",
     "iopub.status.idle": "2021-03-12T06:14:17.374811Z",
     "shell.execute_reply": "2021-03-12T06:14:17.374287Z"
    }
   },
   "outputs": [],
   "source": [
    "zipped = dict(zip(counties, doses))"
   ]
  },
  {
   "cell_type": "code",
   "execution_count": 9,
   "metadata": {
    "execution": {
     "iopub.execute_input": "2021-03-12T06:14:17.381158Z",
     "iopub.status.busy": "2021-03-12T06:14:17.380535Z",
     "iopub.status.idle": "2021-03-12T06:14:17.384378Z",
     "shell.execute_reply": "2021-03-12T06:14:17.383900Z"
    }
   },
   "outputs": [],
   "source": [
    "df = pd.Series(zipped).reset_index()"
   ]
  },
  {
   "cell_type": "code",
   "execution_count": 10,
   "metadata": {
    "execution": {
     "iopub.execute_input": "2021-03-12T06:14:17.388263Z",
     "iopub.status.busy": "2021-03-12T06:14:17.387738Z",
     "iopub.status.idle": "2021-03-12T06:14:17.391609Z",
     "shell.execute_reply": "2021-03-12T06:14:17.390990Z"
    }
   },
   "outputs": [],
   "source": [
    "df.columns = ['location','doses']"
   ]
  },
  {
   "cell_type": "markdown",
   "metadata": {},
   "source": [
    "Grab the overall California total"
   ]
  },
  {
   "cell_type": "code",
   "execution_count": 11,
   "metadata": {
    "execution": {
     "iopub.execute_input": "2021-03-12T06:14:17.395565Z",
     "iopub.status.busy": "2021-03-12T06:14:17.395026Z",
     "iopub.status.idle": "2021-03-12T06:14:17.398825Z",
     "shell.execute_reply": "2021-03-12T06:14:17.398354Z"
    }
   },
   "outputs": [],
   "source": [
    "add = {'location':'California','doses':dataJson[0]['dataValues'][2]}"
   ]
  },
  {
   "cell_type": "code",
   "execution_count": 12,
   "metadata": {
    "execution": {
     "iopub.execute_input": "2021-03-12T06:14:17.405659Z",
     "iopub.status.busy": "2021-03-12T06:14:17.405149Z",
     "iopub.status.idle": "2021-03-12T06:14:17.409406Z",
     "shell.execute_reply": "2021-03-12T06:14:17.408625Z"
    }
   },
   "outputs": [],
   "source": [
    "df = df.append(add, ignore_index=True)"
   ]
  },
  {
   "cell_type": "code",
   "execution_count": 13,
   "metadata": {
    "execution": {
     "iopub.execute_input": "2021-03-12T06:14:17.414003Z",
     "iopub.status.busy": "2021-03-12T06:14:17.413474Z",
     "iopub.status.idle": "2021-03-12T06:14:17.417148Z",
     "shell.execute_reply": "2021-03-12T06:14:17.416595Z"
    }
   },
   "outputs": [],
   "source": [
    "df = df.sort_values(by='location')"
   ]
  },
  {
   "cell_type": "code",
   "execution_count": 14,
   "metadata": {
    "execution": {
     "iopub.execute_input": "2021-03-12T06:14:17.423090Z",
     "iopub.status.busy": "2021-03-12T06:14:17.422560Z",
     "iopub.status.idle": "2021-03-12T06:14:17.426400Z",
     "shell.execute_reply": "2021-03-12T06:14:17.425911Z"
    }
   },
   "outputs": [],
   "source": [
    "df = df[df.location == 'California'].append(df[df.location != 'California']).reset_index(drop=True)"
   ]
  },
  {
   "cell_type": "code",
   "execution_count": null,
   "metadata": {},
   "outputs": [],
   "source": []
  },
  {
   "cell_type": "code",
   "execution_count": 15,
   "metadata": {
    "execution": {
     "iopub.execute_input": "2021-03-12T06:14:17.430153Z",
     "iopub.status.busy": "2021-03-12T06:14:17.429287Z",
     "iopub.status.idle": "2021-03-12T06:14:17.449719Z",
     "shell.execute_reply": "2021-03-12T06:14:17.450134Z"
    }
   },
   "outputs": [],
   "source": [
    "tz = pytz.timezone(\"America/New_York\")"
   ]
  },
  {
   "cell_type": "code",
   "execution_count": 16,
   "metadata": {
    "execution": {
     "iopub.execute_input": "2021-03-12T06:14:17.453662Z",
     "iopub.status.busy": "2021-03-12T06:14:17.453155Z",
     "iopub.status.idle": "2021-03-12T06:14:17.456715Z",
     "shell.execute_reply": "2021-03-12T06:14:17.455156Z"
    }
   },
   "outputs": [],
   "source": [
    "today = datetime.now(tz).date()"
   ]
  },
  {
   "cell_type": "code",
   "execution_count": 17,
   "metadata": {
    "execution": {
     "iopub.execute_input": "2021-03-12T06:14:17.461208Z",
     "iopub.status.busy": "2021-03-12T06:14:17.460650Z",
     "iopub.status.idle": "2021-03-12T06:14:17.464029Z",
     "shell.execute_reply": "2021-03-12T06:14:17.464463Z"
    }
   },
   "outputs": [],
   "source": [
    "data_dir = os.path.join(os.path.abspath(\"\"), \"data\")"
   ]
  },
  {
   "cell_type": "code",
   "execution_count": 18,
   "metadata": {
    "execution": {
     "iopub.execute_input": "2021-03-12T06:14:17.468048Z",
     "iopub.status.busy": "2021-03-12T06:14:17.467538Z",
     "iopub.status.idle": "2021-03-12T06:14:17.472133Z",
     "shell.execute_reply": "2021-03-12T06:14:17.471437Z"
    }
   },
   "outputs": [],
   "source": [
    "df.to_csv(os.path.join(data_dir, f\"{today}.csv\"), index=False)"
   ]
  },
  {
   "cell_type": "code",
   "execution_count": null,
   "metadata": {},
   "outputs": [],
   "source": []
  }
 ],
 "metadata": {
  "kernelspec": {
   "display_name": "Python 3",
   "language": "python",
   "name": "python3"
  },
  "language_info": {
   "codemirror_mode": {
    "name": "ipython",
    "version": 3
   },
   "file_extension": ".py",
   "mimetype": "text/x-python",
   "name": "python",
   "nbconvert_exporter": "python",
   "pygments_lexer": "ipython3",
   "version": "3.8.8"
  }
 },
 "nbformat": 4,
 "nbformat_minor": 4
}
