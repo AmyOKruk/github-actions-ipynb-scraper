{
 "cells": [
  {
   "cell_type": "markdown",
   "metadata": {},
   "source": [
    "# California COVID vaccinations scrape"
   ]
  },
  {
   "cell_type": "markdown",
   "metadata": {},
   "source": [
    "By [Amy O'Kruk](https://twitter.com/amyokruk)"
   ]
  },
  {
   "cell_type": "markdown",
   "metadata": {},
   "source": [
    "Downloads data on vaccine doses administered by county and statewide from a Tableau-powered dashboard from the California Department of Public Health."
   ]
  },
  {
   "cell_type": "code",
   "execution_count": 1,
   "metadata": {
    "execution": {
     "iopub.execute_input": "2021-03-22T06:21:15.134321Z",
     "iopub.status.busy": "2021-03-22T06:21:15.131964Z",
     "iopub.status.idle": "2021-03-22T06:21:15.637225Z",
     "shell.execute_reply": "2021-03-22T06:21:15.636089Z"
    }
   },
   "outputs": [],
   "source": [
    "import pandas as pd\n",
    "import requests\n",
    "from bs4 import BeautifulSoup\n",
    "import json\n",
    "import re\n",
    "import time\n",
    "from time import gmtime, strftime \n",
    "import os\n",
    "import pytz\n",
    "from datetime import datetime"
   ]
  },
  {
   "cell_type": "markdown",
   "metadata": {},
   "source": [
    "Scrape the dashboard page"
   ]
  },
  {
   "cell_type": "code",
   "execution_count": 2,
   "metadata": {
    "execution": {
     "iopub.execute_input": "2021-03-22T06:21:15.641417Z",
     "iopub.status.busy": "2021-03-22T06:21:15.640873Z",
     "iopub.status.idle": "2021-03-22T06:21:15.976702Z",
     "shell.execute_reply": "2021-03-22T06:21:15.975589Z"
    }
   },
   "outputs": [],
   "source": [
    "url = \"https://public.tableau.com/interactive/views/COVID-19VaccineDashboardPublic/Vaccine?:embed=y&:showVizHome=n&:apiID=host0\"\n",
    "\n",
    "r = requests.get(url)\n",
    "soup = BeautifulSoup(r.text, \"html.parser\")"
   ]
  },
  {
   "cell_type": "code",
   "execution_count": 3,
   "metadata": {
    "execution": {
     "iopub.execute_input": "2021-03-22T06:21:15.981589Z",
     "iopub.status.busy": "2021-03-22T06:21:15.981060Z",
     "iopub.status.idle": "2021-03-22T06:21:15.983296Z",
     "shell.execute_reply": "2021-03-22T06:21:15.983706Z"
    }
   },
   "outputs": [],
   "source": [
    "tableauData = json.loads(soup.find(\"textarea\",{\"id\": \"tsConfigContainer\"}).text)"
   ]
  },
  {
   "cell_type": "markdown",
   "metadata": {},
   "source": [
    "Get the link to the Tableau data"
   ]
  },
  {
   "cell_type": "code",
   "execution_count": 4,
   "metadata": {
    "execution": {
     "iopub.execute_input": "2021-03-22T06:21:15.988266Z",
     "iopub.status.busy": "2021-03-22T06:21:15.987731Z",
     "iopub.status.idle": "2021-03-22T06:21:15.991156Z",
     "shell.execute_reply": "2021-03-22T06:21:15.990723Z"
    }
   },
   "outputs": [],
   "source": [
    "dataUrl = f'https://public.tableau.com{tableauData[\"vizql_root\"]}/bootstrapSession/sessions/{tableauData[\"sessionid\"]}'"
   ]
  },
  {
   "cell_type": "code",
   "execution_count": 5,
   "metadata": {
    "execution": {
     "iopub.execute_input": "2021-03-22T06:21:15.997659Z",
     "iopub.status.busy": "2021-03-22T06:21:15.997115Z",
     "iopub.status.idle": "2021-03-22T06:21:16.304192Z",
     "shell.execute_reply": "2021-03-22T06:21:16.303686Z"
    }
   },
   "outputs": [],
   "source": [
    "r = requests.post(dataUrl, data= {\n",
    "    \"sheet_id\": tableauData[\"sheetId\"],\n",
    "})\n",
    "\n",
    "dataReg = re.search('\\d+;({.*})\\d+;({.*})', r.text, re.MULTILINE)\n",
    "data1 = json.loads(dataReg.group(2))\n",
    "\n",
    "dataJson = data1[\"secondaryInfo\"][\"presModelMap\"][\"dataDictionary\"][\"presModelHolder\"][\"genDataDictionaryPresModel\"][\"dataSegments\"][\"0\"][\"dataColumns\"]"
   ]
  },
  {
   "cell_type": "markdown",
   "metadata": {},
   "source": [
    "Isolate what you want"
   ]
  },
  {
   "cell_type": "code",
   "execution_count": 6,
   "metadata": {
    "execution": {
     "iopub.execute_input": "2021-03-22T06:21:16.308325Z",
     "iopub.status.busy": "2021-03-22T06:21:16.307802Z",
     "iopub.status.idle": "2021-03-22T06:21:16.311362Z",
     "shell.execute_reply": "2021-03-22T06:21:16.310900Z"
    }
   },
   "outputs": [],
   "source": [
    "counties = dataJson[2]['dataValues'][:58]"
   ]
  },
  {
   "cell_type": "code",
   "execution_count": 7,
   "metadata": {
    "execution": {
     "iopub.execute_input": "2021-03-22T06:21:16.315724Z",
     "iopub.status.busy": "2021-03-22T06:21:16.315069Z",
     "iopub.status.idle": "2021-03-22T06:21:16.318636Z",
     "shell.execute_reply": "2021-03-22T06:21:16.319071Z"
    }
   },
   "outputs": [],
   "source": [
    "doses = dataJson[0]['dataValues'][3:61]"
   ]
  },
  {
   "cell_type": "markdown",
   "metadata": {},
   "source": [
    "Data formatting"
   ]
  },
  {
   "cell_type": "code",
   "execution_count": 8,
   "metadata": {
    "execution": {
     "iopub.execute_input": "2021-03-22T06:21:16.322773Z",
     "iopub.status.busy": "2021-03-22T06:21:16.322257Z",
     "iopub.status.idle": "2021-03-22T06:21:16.325275Z",
     "shell.execute_reply": "2021-03-22T06:21:16.325703Z"
    }
   },
   "outputs": [],
   "source": [
    "zipped = dict(zip(counties, doses))"
   ]
  },
  {
   "cell_type": "code",
   "execution_count": 9,
   "metadata": {
    "execution": {
     "iopub.execute_input": "2021-03-22T06:21:16.331748Z",
     "iopub.status.busy": "2021-03-22T06:21:16.331227Z",
     "iopub.status.idle": "2021-03-22T06:21:16.334160Z",
     "shell.execute_reply": "2021-03-22T06:21:16.334590Z"
    }
   },
   "outputs": [],
   "source": [
    "df = pd.Series(zipped).reset_index()"
   ]
  },
  {
   "cell_type": "code",
   "execution_count": 10,
   "metadata": {
    "execution": {
     "iopub.execute_input": "2021-03-22T06:21:16.338476Z",
     "iopub.status.busy": "2021-03-22T06:21:16.337903Z",
     "iopub.status.idle": "2021-03-22T06:21:16.341347Z",
     "shell.execute_reply": "2021-03-22T06:21:16.340888Z"
    }
   },
   "outputs": [],
   "source": [
    "df.columns = ['location','doses']"
   ]
  },
  {
   "cell_type": "markdown",
   "metadata": {},
   "source": [
    "Grab the overall California total"
   ]
  },
  {
   "cell_type": "code",
   "execution_count": 11,
   "metadata": {
    "execution": {
     "iopub.execute_input": "2021-03-22T06:21:16.344996Z",
     "iopub.status.busy": "2021-03-22T06:21:16.344454Z",
     "iopub.status.idle": "2021-03-22T06:21:16.347866Z",
     "shell.execute_reply": "2021-03-22T06:21:16.347408Z"
    }
   },
   "outputs": [],
   "source": [
    "add = {'location':'California','doses':dataJson[0]['dataValues'][2]}"
   ]
  },
  {
   "cell_type": "code",
   "execution_count": 12,
   "metadata": {
    "execution": {
     "iopub.execute_input": "2021-03-22T06:21:16.354319Z",
     "iopub.status.busy": "2021-03-22T06:21:16.353811Z",
     "iopub.status.idle": "2021-03-22T06:21:16.366796Z",
     "shell.execute_reply": "2021-03-22T06:21:16.365968Z"
    }
   },
   "outputs": [],
   "source": [
    "df = df.append(add, ignore_index=True)"
   ]
  },
  {
   "cell_type": "code",
   "execution_count": 13,
   "metadata": {
    "execution": {
     "iopub.execute_input": "2021-03-22T06:21:16.371677Z",
     "iopub.status.busy": "2021-03-22T06:21:16.370942Z",
     "iopub.status.idle": "2021-03-22T06:21:16.374911Z",
     "shell.execute_reply": "2021-03-22T06:21:16.374215Z"
    }
   },
   "outputs": [],
   "source": [
    "df = df.sort_values(by='location')"
   ]
  },
  {
   "cell_type": "code",
   "execution_count": 14,
   "metadata": {
    "execution": {
     "iopub.execute_input": "2021-03-22T06:21:16.381333Z",
     "iopub.status.busy": "2021-03-22T06:21:16.380811Z",
     "iopub.status.idle": "2021-03-22T06:21:16.383907Z",
     "shell.execute_reply": "2021-03-22T06:21:16.384346Z"
    }
   },
   "outputs": [],
   "source": [
    "df = df[df.location == 'California'].append(df[df.location != 'California']).reset_index(drop=True)"
   ]
  },
  {
   "cell_type": "code",
   "execution_count": null,
   "metadata": {},
   "outputs": [],
   "source": []
  },
  {
   "cell_type": "code",
   "execution_count": 15,
   "metadata": {
    "execution": {
     "iopub.execute_input": "2021-03-22T06:21:16.388328Z",
     "iopub.status.busy": "2021-03-22T06:21:16.387476Z",
     "iopub.status.idle": "2021-03-22T06:21:16.406841Z",
     "shell.execute_reply": "2021-03-22T06:21:16.406349Z"
    }
   },
   "outputs": [],
   "source": [
    "tz = pytz.timezone(\"America/New_York\")"
   ]
  },
  {
   "cell_type": "code",
   "execution_count": 16,
   "metadata": {
    "execution": {
     "iopub.execute_input": "2021-03-22T06:21:16.410807Z",
     "iopub.status.busy": "2021-03-22T06:21:16.410286Z",
     "iopub.status.idle": "2021-03-22T06:21:16.413847Z",
     "shell.execute_reply": "2021-03-22T06:21:16.413374Z"
    }
   },
   "outputs": [],
   "source": [
    "today = datetime.now(tz).date()"
   ]
  },
  {
   "cell_type": "code",
   "execution_count": 17,
   "metadata": {
    "execution": {
     "iopub.execute_input": "2021-03-22T06:21:16.417679Z",
     "iopub.status.busy": "2021-03-22T06:21:16.417165Z",
     "iopub.status.idle": "2021-03-22T06:21:16.420588Z",
     "shell.execute_reply": "2021-03-22T06:21:16.420130Z"
    }
   },
   "outputs": [],
   "source": [
    "data_dir = os.path.join(os.path.abspath(\"\"), \"data\")"
   ]
  },
  {
   "cell_type": "code",
   "execution_count": 18,
   "metadata": {
    "execution": {
     "iopub.execute_input": "2021-03-22T06:21:16.426072Z",
     "iopub.status.busy": "2021-03-22T06:21:16.424217Z",
     "iopub.status.idle": "2021-03-22T06:21:16.431096Z",
     "shell.execute_reply": "2021-03-22T06:21:16.430096Z"
    }
   },
   "outputs": [],
   "source": [
    "df.to_csv(os.path.join(data_dir, f\"{today}.csv\"), index=False)"
   ]
  },
  {
   "cell_type": "code",
   "execution_count": null,
   "metadata": {},
   "outputs": [],
   "source": []
  }
 ],
 "metadata": {
  "kernelspec": {
   "display_name": "Python 3",
   "language": "python",
   "name": "python3"
  },
  "language_info": {
   "codemirror_mode": {
    "name": "ipython",
    "version": 3
   },
   "file_extension": ".py",
   "mimetype": "text/x-python",
   "name": "python",
   "nbconvert_exporter": "python",
   "pygments_lexer": "ipython3",
   "version": "3.8.8"
  }
 },
 "nbformat": 4,
 "nbformat_minor": 4
}
