{
 "cells": [
  {
   "cell_type": "markdown",
   "metadata": {},
   "source": [
    "# California COVID vaccinations scrape"
   ]
  },
  {
   "cell_type": "markdown",
   "metadata": {},
   "source": [
    "By [Amy O'Kruk](https://twitter.com/amyokruk)"
   ]
  },
  {
   "cell_type": "markdown",
   "metadata": {},
   "source": [
    "Downloads data on vaccine doses administered by county and statewide from a Tableau-powered dashboard from the California Department of Public Health."
   ]
  },
  {
   "cell_type": "code",
   "execution_count": 1,
   "metadata": {
    "execution": {
     "iopub.execute_input": "2021-03-20T07:40:27.020726Z",
     "iopub.status.busy": "2021-03-20T07:40:27.020097Z",
     "iopub.status.idle": "2021-03-20T07:40:27.463282Z",
     "shell.execute_reply": "2021-03-20T07:40:27.462165Z"
    }
   },
   "outputs": [],
   "source": [
    "import pandas as pd\n",
    "import requests\n",
    "from bs4 import BeautifulSoup\n",
    "import json\n",
    "import re\n",
    "import time\n",
    "from time import gmtime, strftime \n",
    "import os\n",
    "import pytz\n",
    "from datetime import datetime"
   ]
  },
  {
   "cell_type": "markdown",
   "metadata": {},
   "source": [
    "Scrape the dashboard page"
   ]
  },
  {
   "cell_type": "code",
   "execution_count": 2,
   "metadata": {
    "execution": {
     "iopub.execute_input": "2021-03-20T07:40:27.469393Z",
     "iopub.status.busy": "2021-03-20T07:40:27.467277Z",
     "iopub.status.idle": "2021-03-20T07:40:28.009135Z",
     "shell.execute_reply": "2021-03-20T07:40:28.008179Z"
    }
   },
   "outputs": [],
   "source": [
    "url = \"https://public.tableau.com/interactive/views/COVID-19VaccineDashboardPublic/Vaccine?:embed=y&:showVizHome=n&:apiID=host0\"\n",
    "\n",
    "r = requests.get(url)\n",
    "soup = BeautifulSoup(r.text, \"html.parser\")"
   ]
  },
  {
   "cell_type": "code",
   "execution_count": 3,
   "metadata": {
    "execution": {
     "iopub.execute_input": "2021-03-20T07:40:28.013825Z",
     "iopub.status.busy": "2021-03-20T07:40:28.013308Z",
     "iopub.status.idle": "2021-03-20T07:40:28.016279Z",
     "shell.execute_reply": "2021-03-20T07:40:28.016649Z"
    }
   },
   "outputs": [],
   "source": [
    "tableauData = json.loads(soup.find(\"textarea\",{\"id\": \"tsConfigContainer\"}).text)"
   ]
  },
  {
   "cell_type": "markdown",
   "metadata": {},
   "source": [
    "Get the link to the Tableau data"
   ]
  },
  {
   "cell_type": "code",
   "execution_count": 4,
   "metadata": {
    "execution": {
     "iopub.execute_input": "2021-03-20T07:40:28.021119Z",
     "iopub.status.busy": "2021-03-20T07:40:28.019890Z",
     "iopub.status.idle": "2021-03-20T07:40:28.021672Z",
     "shell.execute_reply": "2021-03-20T07:40:28.022087Z"
    }
   },
   "outputs": [],
   "source": [
    "dataUrl = f'https://public.tableau.com{tableauData[\"vizql_root\"]}/bootstrapSession/sessions/{tableauData[\"sessionid\"]}'"
   ]
  },
  {
   "cell_type": "code",
   "execution_count": 5,
   "metadata": {
    "execution": {
     "iopub.execute_input": "2021-03-20T07:40:28.028488Z",
     "iopub.status.busy": "2021-03-20T07:40:28.027965Z",
     "iopub.status.idle": "2021-03-20T07:40:28.478296Z",
     "shell.execute_reply": "2021-03-20T07:40:28.478724Z"
    }
   },
   "outputs": [],
   "source": [
    "r = requests.post(dataUrl, data= {\n",
    "    \"sheet_id\": tableauData[\"sheetId\"],\n",
    "})\n",
    "\n",
    "dataReg = re.search('\\d+;({.*})\\d+;({.*})', r.text, re.MULTILINE)\n",
    "data1 = json.loads(dataReg.group(2))\n",
    "\n",
    "dataJson = data1[\"secondaryInfo\"][\"presModelMap\"][\"dataDictionary\"][\"presModelHolder\"][\"genDataDictionaryPresModel\"][\"dataSegments\"][\"0\"][\"dataColumns\"]"
   ]
  },
  {
   "cell_type": "markdown",
   "metadata": {},
   "source": [
    "Isolate what you want"
   ]
  },
  {
   "cell_type": "code",
   "execution_count": 6,
   "metadata": {
    "execution": {
     "iopub.execute_input": "2021-03-20T07:40:28.483402Z",
     "iopub.status.busy": "2021-03-20T07:40:28.482171Z",
     "iopub.status.idle": "2021-03-20T07:40:28.483959Z",
     "shell.execute_reply": "2021-03-20T07:40:28.484351Z"
    }
   },
   "outputs": [],
   "source": [
    "counties = dataJson[2]['dataValues'][:58]"
   ]
  },
  {
   "cell_type": "code",
   "execution_count": 7,
   "metadata": {
    "execution": {
     "iopub.execute_input": "2021-03-20T07:40:28.488942Z",
     "iopub.status.busy": "2021-03-20T07:40:28.487506Z",
     "iopub.status.idle": "2021-03-20T07:40:28.489607Z",
     "shell.execute_reply": "2021-03-20T07:40:28.490037Z"
    }
   },
   "outputs": [],
   "source": [
    "doses = dataJson[0]['dataValues'][3:61]"
   ]
  },
  {
   "cell_type": "markdown",
   "metadata": {},
   "source": [
    "Data formatting"
   ]
  },
  {
   "cell_type": "code",
   "execution_count": 8,
   "metadata": {
    "execution": {
     "iopub.execute_input": "2021-03-20T07:40:28.494359Z",
     "iopub.status.busy": "2021-03-20T07:40:28.493141Z",
     "iopub.status.idle": "2021-03-20T07:40:28.494957Z",
     "shell.execute_reply": "2021-03-20T07:40:28.495396Z"
    }
   },
   "outputs": [],
   "source": [
    "zipped = dict(zip(counties, doses))"
   ]
  },
  {
   "cell_type": "code",
   "execution_count": 9,
   "metadata": {
    "execution": {
     "iopub.execute_input": "2021-03-20T07:40:28.501797Z",
     "iopub.status.busy": "2021-03-20T07:40:28.500585Z",
     "iopub.status.idle": "2021-03-20T07:40:28.502431Z",
     "shell.execute_reply": "2021-03-20T07:40:28.502893Z"
    }
   },
   "outputs": [],
   "source": [
    "df = pd.Series(zipped).reset_index()"
   ]
  },
  {
   "cell_type": "code",
   "execution_count": 10,
   "metadata": {
    "execution": {
     "iopub.execute_input": "2021-03-20T07:40:28.507284Z",
     "iopub.status.busy": "2021-03-20T07:40:28.506113Z",
     "iopub.status.idle": "2021-03-20T07:40:28.507887Z",
     "shell.execute_reply": "2021-03-20T07:40:28.508307Z"
    }
   },
   "outputs": [],
   "source": [
    "df.columns = ['location','doses']"
   ]
  },
  {
   "cell_type": "markdown",
   "metadata": {},
   "source": [
    "Grab the overall California total"
   ]
  },
  {
   "cell_type": "code",
   "execution_count": 11,
   "metadata": {
    "execution": {
     "iopub.execute_input": "2021-03-20T07:40:28.512615Z",
     "iopub.status.busy": "2021-03-20T07:40:28.511517Z",
     "iopub.status.idle": "2021-03-20T07:40:28.513233Z",
     "shell.execute_reply": "2021-03-20T07:40:28.513657Z"
    }
   },
   "outputs": [],
   "source": [
    "add = {'location':'California','doses':dataJson[0]['dataValues'][2]}"
   ]
  },
  {
   "cell_type": "code",
   "execution_count": 12,
   "metadata": {
    "execution": {
     "iopub.execute_input": "2021-03-20T07:40:28.520749Z",
     "iopub.status.busy": "2021-03-20T07:40:28.519603Z",
     "iopub.status.idle": "2021-03-20T07:40:28.521352Z",
     "shell.execute_reply": "2021-03-20T07:40:28.521774Z"
    }
   },
   "outputs": [],
   "source": [
    "df = df.append(add, ignore_index=True)"
   ]
  },
  {
   "cell_type": "code",
   "execution_count": 13,
   "metadata": {
    "execution": {
     "iopub.execute_input": "2021-03-20T07:40:28.526539Z",
     "iopub.status.busy": "2021-03-20T07:40:28.525371Z",
     "iopub.status.idle": "2021-03-20T07:40:28.527195Z",
     "shell.execute_reply": "2021-03-20T07:40:28.527620Z"
    }
   },
   "outputs": [],
   "source": [
    "df = df.sort_values(by='location')"
   ]
  },
  {
   "cell_type": "code",
   "execution_count": 14,
   "metadata": {
    "execution": {
     "iopub.execute_input": "2021-03-20T07:40:28.533771Z",
     "iopub.status.busy": "2021-03-20T07:40:28.532673Z",
     "iopub.status.idle": "2021-03-20T07:40:28.534357Z",
     "shell.execute_reply": "2021-03-20T07:40:28.534803Z"
    }
   },
   "outputs": [],
   "source": [
    "df = df[df.location == 'California'].append(df[df.location != 'California']).reset_index(drop=True)"
   ]
  },
  {
   "cell_type": "code",
   "execution_count": null,
   "metadata": {},
   "outputs": [],
   "source": []
  },
  {
   "cell_type": "code",
   "execution_count": 15,
   "metadata": {
    "execution": {
     "iopub.execute_input": "2021-03-20T07:40:28.538256Z",
     "iopub.status.busy": "2021-03-20T07:40:28.537748Z",
     "iopub.status.idle": "2021-03-20T07:40:28.555198Z",
     "shell.execute_reply": "2021-03-20T07:40:28.554747Z"
    }
   },
   "outputs": [],
   "source": [
    "tz = pytz.timezone(\"America/New_York\")"
   ]
  },
  {
   "cell_type": "code",
   "execution_count": 16,
   "metadata": {
    "execution": {
     "iopub.execute_input": "2021-03-20T07:40:28.559469Z",
     "iopub.status.busy": "2021-03-20T07:40:28.558227Z",
     "iopub.status.idle": "2021-03-20T07:40:28.560076Z",
     "shell.execute_reply": "2021-03-20T07:40:28.560500Z"
    }
   },
   "outputs": [],
   "source": [
    "today = datetime.now(tz).date()"
   ]
  },
  {
   "cell_type": "code",
   "execution_count": 17,
   "metadata": {
    "execution": {
     "iopub.execute_input": "2021-03-20T07:40:28.564699Z",
     "iopub.status.busy": "2021-03-20T07:40:28.563585Z",
     "iopub.status.idle": "2021-03-20T07:40:28.565311Z",
     "shell.execute_reply": "2021-03-20T07:40:28.565816Z"
    }
   },
   "outputs": [],
   "source": [
    "data_dir = os.path.join(os.path.abspath(\"\"), \"data\")"
   ]
  },
  {
   "cell_type": "code",
   "execution_count": 18,
   "metadata": {
    "execution": {
     "iopub.execute_input": "2021-03-20T07:40:28.570139Z",
     "iopub.status.busy": "2021-03-20T07:40:28.568905Z",
     "iopub.status.idle": "2021-03-20T07:40:28.573427Z",
     "shell.execute_reply": "2021-03-20T07:40:28.573003Z"
    }
   },
   "outputs": [],
   "source": [
    "df.to_csv(os.path.join(data_dir, f\"{today}.csv\"), index=False)"
   ]
  },
  {
   "cell_type": "code",
   "execution_count": null,
   "metadata": {},
   "outputs": [],
   "source": []
  }
 ],
 "metadata": {
  "kernelspec": {
   "display_name": "Python 3",
   "language": "python",
   "name": "python3"
  },
  "language_info": {
   "codemirror_mode": {
    "name": "ipython",
    "version": 3
   },
   "file_extension": ".py",
   "mimetype": "text/x-python",
   "name": "python",
   "nbconvert_exporter": "python",
   "pygments_lexer": "ipython3",
   "version": "3.8.8"
  }
 },
 "nbformat": 4,
 "nbformat_minor": 4
}
