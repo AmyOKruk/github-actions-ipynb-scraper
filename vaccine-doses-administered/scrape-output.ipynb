{
 "cells": [
  {
   "cell_type": "markdown",
   "metadata": {},
   "source": [
    "# California COVID vaccinations scrape"
   ]
  },
  {
   "cell_type": "markdown",
   "metadata": {},
   "source": [
    "By [Amy O'Kruk](https://twitter.com/amyokruk)"
   ]
  },
  {
   "cell_type": "markdown",
   "metadata": {},
   "source": [
    "Downloads data on vaccine doses administered by county and statewide from a Tableau-powered dashboard from the California Department of Public Health."
   ]
  },
  {
   "cell_type": "code",
   "execution_count": 1,
   "metadata": {
    "execution": {
     "iopub.execute_input": "2021-03-11T18:17:45.988893Z",
     "iopub.status.busy": "2021-03-11T18:17:45.988243Z",
     "iopub.status.idle": "2021-03-11T18:17:46.425277Z",
     "shell.execute_reply": "2021-03-11T18:17:46.424105Z"
    }
   },
   "outputs": [],
   "source": [
    "import pandas as pd\n",
    "import requests\n",
    "from bs4 import BeautifulSoup\n",
    "import json\n",
    "import re\n",
    "import time\n",
    "from time import gmtime, strftime \n",
    "import os\n",
    "import pytz\n",
    "from datetime import datetime"
   ]
  },
  {
   "cell_type": "markdown",
   "metadata": {},
   "source": [
    "Scrape the dashboard page"
   ]
  },
  {
   "cell_type": "code",
   "execution_count": 2,
   "metadata": {
    "execution": {
     "iopub.execute_input": "2021-03-11T18:17:46.432378Z",
     "iopub.status.busy": "2021-03-11T18:17:46.430111Z",
     "iopub.status.idle": "2021-03-11T18:17:46.800803Z",
     "shell.execute_reply": "2021-03-11T18:17:46.799688Z"
    }
   },
   "outputs": [],
   "source": [
    "url = \"https://public.tableau.com/interactive/views/COVID-19VaccineDashboardPublic/Vaccine?:embed=y&:showVizHome=n&:apiID=host0\"\n",
    "\n",
    "r = requests.get(url)\n",
    "soup = BeautifulSoup(r.text, \"html.parser\")"
   ]
  },
  {
   "cell_type": "code",
   "execution_count": 3,
   "metadata": {
    "execution": {
     "iopub.execute_input": "2021-03-11T18:17:46.806928Z",
     "iopub.status.busy": "2021-03-11T18:17:46.806405Z",
     "iopub.status.idle": "2021-03-11T18:17:46.809467Z",
     "shell.execute_reply": "2021-03-11T18:17:46.809867Z"
    }
   },
   "outputs": [],
   "source": [
    "tableauData = json.loads(soup.find(\"textarea\",{\"id\": \"tsConfigContainer\"}).text)"
   ]
  },
  {
   "cell_type": "markdown",
   "metadata": {},
   "source": [
    "Get the link to the Tableau data"
   ]
  },
  {
   "cell_type": "code",
   "execution_count": 4,
   "metadata": {
    "execution": {
     "iopub.execute_input": "2021-03-11T18:17:46.814375Z",
     "iopub.status.busy": "2021-03-11T18:17:46.813071Z",
     "iopub.status.idle": "2021-03-11T18:17:46.814959Z",
     "shell.execute_reply": "2021-03-11T18:17:46.815379Z"
    }
   },
   "outputs": [],
   "source": [
    "dataUrl = f'https://public.tableau.com{tableauData[\"vizql_root\"]}/bootstrapSession/sessions/{tableauData[\"sessionid\"]}'"
   ]
  },
  {
   "cell_type": "code",
   "execution_count": 5,
   "metadata": {
    "execution": {
     "iopub.execute_input": "2021-03-11T18:17:46.821595Z",
     "iopub.status.busy": "2021-03-11T18:17:46.821072Z",
     "iopub.status.idle": "2021-03-11T18:17:47.206698Z",
     "shell.execute_reply": "2021-03-11T18:17:47.205772Z"
    }
   },
   "outputs": [],
   "source": [
    "r = requests.post(dataUrl, data= {\n",
    "    \"sheet_id\": tableauData[\"sheetId\"],\n",
    "})\n",
    "\n",
    "dataReg = re.search('\\d+;({.*})\\d+;({.*})', r.text, re.MULTILINE)\n",
    "data1 = json.loads(dataReg.group(2))\n",
    "\n",
    "dataJson = data1[\"secondaryInfo\"][\"presModelMap\"][\"dataDictionary\"][\"presModelHolder\"][\"genDataDictionaryPresModel\"][\"dataSegments\"][\"0\"][\"dataColumns\"]"
   ]
  },
  {
   "cell_type": "markdown",
   "metadata": {},
   "source": [
    "Isolate what you want"
   ]
  },
  {
   "cell_type": "code",
   "execution_count": 6,
   "metadata": {
    "execution": {
     "iopub.execute_input": "2021-03-11T18:17:47.211701Z",
     "iopub.status.busy": "2021-03-11T18:17:47.210554Z",
     "iopub.status.idle": "2021-03-11T18:17:47.212290Z",
     "shell.execute_reply": "2021-03-11T18:17:47.212746Z"
    }
   },
   "outputs": [],
   "source": [
    "counties = dataJson[2]['dataValues'][:58]"
   ]
  },
  {
   "cell_type": "code",
   "execution_count": 7,
   "metadata": {
    "execution": {
     "iopub.execute_input": "2021-03-11T18:17:47.217008Z",
     "iopub.status.busy": "2021-03-11T18:17:47.215878Z",
     "iopub.status.idle": "2021-03-11T18:17:47.217606Z",
     "shell.execute_reply": "2021-03-11T18:17:47.218035Z"
    }
   },
   "outputs": [],
   "source": [
    "doses = dataJson[0]['dataValues'][3:61]"
   ]
  },
  {
   "cell_type": "markdown",
   "metadata": {},
   "source": [
    "Data formatting"
   ]
  },
  {
   "cell_type": "code",
   "execution_count": 8,
   "metadata": {
    "execution": {
     "iopub.execute_input": "2021-03-11T18:17:47.222555Z",
     "iopub.status.busy": "2021-03-11T18:17:47.221422Z",
     "iopub.status.idle": "2021-03-11T18:17:47.223308Z",
     "shell.execute_reply": "2021-03-11T18:17:47.224079Z"
    }
   },
   "outputs": [],
   "source": [
    "zipped = dict(zip(counties, doses))"
   ]
  },
  {
   "cell_type": "code",
   "execution_count": 9,
   "metadata": {
    "execution": {
     "iopub.execute_input": "2021-03-11T18:17:47.230723Z",
     "iopub.status.busy": "2021-03-11T18:17:47.229584Z",
     "iopub.status.idle": "2021-03-11T18:17:47.231313Z",
     "shell.execute_reply": "2021-03-11T18:17:47.231748Z"
    }
   },
   "outputs": [],
   "source": [
    "df = pd.Series(zipped).reset_index()"
   ]
  },
  {
   "cell_type": "code",
   "execution_count": 10,
   "metadata": {
    "execution": {
     "iopub.execute_input": "2021-03-11T18:17:47.236777Z",
     "iopub.status.busy": "2021-03-11T18:17:47.235043Z",
     "iopub.status.idle": "2021-03-11T18:17:47.237364Z",
     "shell.execute_reply": "2021-03-11T18:17:47.237792Z"
    }
   },
   "outputs": [],
   "source": [
    "df.columns = ['location','doses']"
   ]
  },
  {
   "cell_type": "markdown",
   "metadata": {},
   "source": [
    "Grab the overall California total"
   ]
  },
  {
   "cell_type": "code",
   "execution_count": 11,
   "metadata": {
    "execution": {
     "iopub.execute_input": "2021-03-11T18:17:47.242315Z",
     "iopub.status.busy": "2021-03-11T18:17:47.241147Z",
     "iopub.status.idle": "2021-03-11T18:17:47.243072Z",
     "shell.execute_reply": "2021-03-11T18:17:47.243520Z"
    }
   },
   "outputs": [],
   "source": [
    "add = {'location':'California','doses':dataJson[0]['dataValues'][2]}"
   ]
  },
  {
   "cell_type": "code",
   "execution_count": 12,
   "metadata": {
    "execution": {
     "iopub.execute_input": "2021-03-11T18:17:47.250884Z",
     "iopub.status.busy": "2021-03-11T18:17:47.249633Z",
     "iopub.status.idle": "2021-03-11T18:17:47.251692Z",
     "shell.execute_reply": "2021-03-11T18:17:47.252138Z"
    }
   },
   "outputs": [],
   "source": [
    "df = df.append(add, ignore_index=True)"
   ]
  },
  {
   "cell_type": "code",
   "execution_count": 13,
   "metadata": {
    "execution": {
     "iopub.execute_input": "2021-03-11T18:17:47.257362Z",
     "iopub.status.busy": "2021-03-11T18:17:47.256188Z",
     "iopub.status.idle": "2021-03-11T18:17:47.257958Z",
     "shell.execute_reply": "2021-03-11T18:17:47.258385Z"
    }
   },
   "outputs": [],
   "source": [
    "df = df.sort_values(by='location')"
   ]
  },
  {
   "cell_type": "code",
   "execution_count": 14,
   "metadata": {
    "execution": {
     "iopub.execute_input": "2021-03-11T18:17:47.265039Z",
     "iopub.status.busy": "2021-03-11T18:17:47.263865Z",
     "iopub.status.idle": "2021-03-11T18:17:47.265633Z",
     "shell.execute_reply": "2021-03-11T18:17:47.266058Z"
    }
   },
   "outputs": [],
   "source": [
    "df = df[df.location == 'California'].append(df[df.location != 'California']).reset_index(drop=True)"
   ]
  },
  {
   "cell_type": "code",
   "execution_count": null,
   "metadata": {},
   "outputs": [],
   "source": []
  },
  {
   "cell_type": "code",
   "execution_count": 15,
   "metadata": {
    "execution": {
     "iopub.execute_input": "2021-03-11T18:17:47.269389Z",
     "iopub.status.busy": "2021-03-11T18:17:47.268882Z",
     "iopub.status.idle": "2021-03-11T18:17:47.286031Z",
     "shell.execute_reply": "2021-03-11T18:17:47.285521Z"
    }
   },
   "outputs": [],
   "source": [
    "tz = pytz.timezone(\"America/New_York\")"
   ]
  },
  {
   "cell_type": "code",
   "execution_count": 16,
   "metadata": {
    "execution": {
     "iopub.execute_input": "2021-03-11T18:17:47.290249Z",
     "iopub.status.busy": "2021-03-11T18:17:47.289107Z",
     "iopub.status.idle": "2021-03-11T18:17:47.290839Z",
     "shell.execute_reply": "2021-03-11T18:17:47.291276Z"
    }
   },
   "outputs": [],
   "source": [
    "today = datetime.now(tz).date()"
   ]
  },
  {
   "cell_type": "code",
   "execution_count": 17,
   "metadata": {
    "execution": {
     "iopub.execute_input": "2021-03-11T18:17:47.295505Z",
     "iopub.status.busy": "2021-03-11T18:17:47.294404Z",
     "iopub.status.idle": "2021-03-11T18:17:47.296096Z",
     "shell.execute_reply": "2021-03-11T18:17:47.296545Z"
    }
   },
   "outputs": [],
   "source": [
    "data_dir = os.path.join(os.path.abspath(\"\"), \"data\")"
   ]
  },
  {
   "cell_type": "code",
   "execution_count": 18,
   "metadata": {
    "execution": {
     "iopub.execute_input": "2021-03-11T18:17:47.300909Z",
     "iopub.status.busy": "2021-03-11T18:17:47.299663Z",
     "iopub.status.idle": "2021-03-11T18:17:47.304616Z",
     "shell.execute_reply": "2021-03-11T18:17:47.304069Z"
    }
   },
   "outputs": [],
   "source": [
    "df.to_csv(os.path.join(data_dir, f\"{today}.csv\"), index=False)"
   ]
  },
  {
   "cell_type": "code",
   "execution_count": null,
   "metadata": {},
   "outputs": [],
   "source": []
  }
 ],
 "metadata": {
  "kernelspec": {
   "display_name": "Python 3",
   "language": "python",
   "name": "python3"
  },
  "language_info": {
   "codemirror_mode": {
    "name": "ipython",
    "version": 3
   },
   "file_extension": ".py",
   "mimetype": "text/x-python",
   "name": "python",
   "nbconvert_exporter": "python",
   "pygments_lexer": "ipython3",
   "version": "3.8.8"
  }
 },
 "nbformat": 4,
 "nbformat_minor": 4
}
