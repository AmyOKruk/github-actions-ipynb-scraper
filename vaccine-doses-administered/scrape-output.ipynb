{
 "cells": [
  {
   "cell_type": "markdown",
   "metadata": {},
   "source": [
    "# California COVID vaccinations scrape"
   ]
  },
  {
   "cell_type": "markdown",
   "metadata": {},
   "source": [
    "By [Amy O'Kruk](https://twitter.com/amyokruk)"
   ]
  },
  {
   "cell_type": "markdown",
   "metadata": {},
   "source": [
    "Downloads data on vaccine doses administered by county and statewide from a Tableau-powered dashboard from the California Department of Public Health."
   ]
  },
  {
   "cell_type": "code",
   "execution_count": 1,
   "metadata": {
    "execution": {
     "iopub.execute_input": "2021-03-19T09:44:17.221441Z",
     "iopub.status.busy": "2021-03-19T09:44:17.220559Z",
     "iopub.status.idle": "2021-03-19T09:44:17.625621Z",
     "shell.execute_reply": "2021-03-19T09:44:17.624579Z"
    }
   },
   "outputs": [],
   "source": [
    "import pandas as pd\n",
    "import requests\n",
    "from bs4 import BeautifulSoup\n",
    "import json\n",
    "import re\n",
    "import time\n",
    "from time import gmtime, strftime \n",
    "import os\n",
    "import pytz\n",
    "from datetime import datetime"
   ]
  },
  {
   "cell_type": "markdown",
   "metadata": {},
   "source": [
    "Scrape the dashboard page"
   ]
  },
  {
   "cell_type": "code",
   "execution_count": 2,
   "metadata": {
    "execution": {
     "iopub.execute_input": "2021-03-19T09:44:17.631893Z",
     "iopub.status.busy": "2021-03-19T09:44:17.629067Z",
     "iopub.status.idle": "2021-03-19T09:44:17.956802Z",
     "shell.execute_reply": "2021-03-19T09:44:17.955849Z"
    }
   },
   "outputs": [],
   "source": [
    "url = \"https://public.tableau.com/interactive/views/COVID-19VaccineDashboardPublic/Vaccine?:embed=y&:showVizHome=n&:apiID=host0\"\n",
    "\n",
    "r = requests.get(url)\n",
    "soup = BeautifulSoup(r.text, \"html.parser\")"
   ]
  },
  {
   "cell_type": "code",
   "execution_count": 3,
   "metadata": {
    "execution": {
     "iopub.execute_input": "2021-03-19T09:44:17.963426Z",
     "iopub.status.busy": "2021-03-19T09:44:17.961786Z",
     "iopub.status.idle": "2021-03-19T09:44:17.964032Z",
     "shell.execute_reply": "2021-03-19T09:44:17.964522Z"
    }
   },
   "outputs": [],
   "source": [
    "tableauData = json.loads(soup.find(\"textarea\",{\"id\": \"tsConfigContainer\"}).text)"
   ]
  },
  {
   "cell_type": "markdown",
   "metadata": {},
   "source": [
    "Get the link to the Tableau data"
   ]
  },
  {
   "cell_type": "code",
   "execution_count": 4,
   "metadata": {
    "execution": {
     "iopub.execute_input": "2021-03-19T09:44:17.969567Z",
     "iopub.status.busy": "2021-03-19T09:44:17.967979Z",
     "iopub.status.idle": "2021-03-19T09:44:17.970249Z",
     "shell.execute_reply": "2021-03-19T09:44:17.970780Z"
    }
   },
   "outputs": [],
   "source": [
    "dataUrl = f'https://public.tableau.com{tableauData[\"vizql_root\"]}/bootstrapSession/sessions/{tableauData[\"sessionid\"]}'"
   ]
  },
  {
   "cell_type": "code",
   "execution_count": 5,
   "metadata": {
    "execution": {
     "iopub.execute_input": "2021-03-19T09:44:17.977929Z",
     "iopub.status.busy": "2021-03-19T09:44:17.977273Z",
     "iopub.status.idle": "2021-03-19T09:44:18.103622Z",
     "shell.execute_reply": "2021-03-19T09:44:18.104144Z"
    }
   },
   "outputs": [],
   "source": [
    "r = requests.post(dataUrl, data= {\n",
    "    \"sheet_id\": tableauData[\"sheetId\"],\n",
    "})\n",
    "\n",
    "dataReg = re.search('\\d+;({.*})\\d+;({.*})', r.text, re.MULTILINE)\n",
    "data1 = json.loads(dataReg.group(2))\n",
    "\n",
    "dataJson = data1[\"secondaryInfo\"][\"presModelMap\"][\"dataDictionary\"][\"presModelHolder\"][\"genDataDictionaryPresModel\"][\"dataSegments\"][\"0\"][\"dataColumns\"]"
   ]
  },
  {
   "cell_type": "markdown",
   "metadata": {},
   "source": [
    "Isolate what you want"
   ]
  },
  {
   "cell_type": "code",
   "execution_count": 6,
   "metadata": {
    "execution": {
     "iopub.execute_input": "2021-03-19T09:44:18.108877Z",
     "iopub.status.busy": "2021-03-19T09:44:18.108274Z",
     "iopub.status.idle": "2021-03-19T09:44:18.111921Z",
     "shell.execute_reply": "2021-03-19T09:44:18.112450Z"
    }
   },
   "outputs": [],
   "source": [
    "counties = dataJson[2]['dataValues'][:58]"
   ]
  },
  {
   "cell_type": "code",
   "execution_count": 7,
   "metadata": {
    "execution": {
     "iopub.execute_input": "2021-03-19T09:44:18.116644Z",
     "iopub.status.busy": "2021-03-19T09:44:18.116047Z",
     "iopub.status.idle": "2021-03-19T09:44:18.119969Z",
     "shell.execute_reply": "2021-03-19T09:44:18.119424Z"
    }
   },
   "outputs": [],
   "source": [
    "doses = dataJson[0]['dataValues'][3:61]"
   ]
  },
  {
   "cell_type": "markdown",
   "metadata": {},
   "source": [
    "Data formatting"
   ]
  },
  {
   "cell_type": "code",
   "execution_count": 8,
   "metadata": {
    "execution": {
     "iopub.execute_input": "2021-03-19T09:44:18.124117Z",
     "iopub.status.busy": "2021-03-19T09:44:18.123449Z",
     "iopub.status.idle": "2021-03-19T09:44:18.128791Z",
     "shell.execute_reply": "2021-03-19T09:44:18.129312Z"
    }
   },
   "outputs": [],
   "source": [
    "zipped = dict(zip(counties, doses))"
   ]
  },
  {
   "cell_type": "code",
   "execution_count": 9,
   "metadata": {
    "execution": {
     "iopub.execute_input": "2021-03-19T09:44:18.136582Z",
     "iopub.status.busy": "2021-03-19T09:44:18.135918Z",
     "iopub.status.idle": "2021-03-19T09:44:18.139903Z",
     "shell.execute_reply": "2021-03-19T09:44:18.139282Z"
    }
   },
   "outputs": [],
   "source": [
    "df = pd.Series(zipped).reset_index()"
   ]
  },
  {
   "cell_type": "code",
   "execution_count": 10,
   "metadata": {
    "execution": {
     "iopub.execute_input": "2021-03-19T09:44:18.144120Z",
     "iopub.status.busy": "2021-03-19T09:44:18.143500Z",
     "iopub.status.idle": "2021-03-19T09:44:18.146823Z",
     "shell.execute_reply": "2021-03-19T09:44:18.147626Z"
    }
   },
   "outputs": [],
   "source": [
    "df.columns = ['location','doses']"
   ]
  },
  {
   "cell_type": "markdown",
   "metadata": {},
   "source": [
    "Grab the overall California total"
   ]
  },
  {
   "cell_type": "code",
   "execution_count": 11,
   "metadata": {
    "execution": {
     "iopub.execute_input": "2021-03-19T09:44:18.151491Z",
     "iopub.status.busy": "2021-03-19T09:44:18.150886Z",
     "iopub.status.idle": "2021-03-19T09:44:18.154459Z",
     "shell.execute_reply": "2021-03-19T09:44:18.154919Z"
    }
   },
   "outputs": [],
   "source": [
    "add = {'location':'California','doses':dataJson[0]['dataValues'][2]}"
   ]
  },
  {
   "cell_type": "code",
   "execution_count": 12,
   "metadata": {
    "execution": {
     "iopub.execute_input": "2021-03-19T09:44:18.162082Z",
     "iopub.status.busy": "2021-03-19T09:44:18.161338Z",
     "iopub.status.idle": "2021-03-19T09:44:18.165819Z",
     "shell.execute_reply": "2021-03-19T09:44:18.165260Z"
    }
   },
   "outputs": [],
   "source": [
    "df = df.append(add, ignore_index=True)"
   ]
  },
  {
   "cell_type": "code",
   "execution_count": 13,
   "metadata": {
    "execution": {
     "iopub.execute_input": "2021-03-19T09:44:18.170402Z",
     "iopub.status.busy": "2021-03-19T09:44:18.169756Z",
     "iopub.status.idle": "2021-03-19T09:44:18.173377Z",
     "shell.execute_reply": "2021-03-19T09:44:18.174314Z"
    }
   },
   "outputs": [],
   "source": [
    "df = df.sort_values(by='location')"
   ]
  },
  {
   "cell_type": "code",
   "execution_count": 14,
   "metadata": {
    "execution": {
     "iopub.execute_input": "2021-03-19T09:44:18.181262Z",
     "iopub.status.busy": "2021-03-19T09:44:18.180537Z",
     "iopub.status.idle": "2021-03-19T09:44:18.185907Z",
     "shell.execute_reply": "2021-03-19T09:44:18.186346Z"
    }
   },
   "outputs": [],
   "source": [
    "df = df[df.location == 'California'].append(df[df.location != 'California']).reset_index(drop=True)"
   ]
  },
  {
   "cell_type": "code",
   "execution_count": null,
   "metadata": {},
   "outputs": [],
   "source": []
  },
  {
   "cell_type": "code",
   "execution_count": 15,
   "metadata": {
    "execution": {
     "iopub.execute_input": "2021-03-19T09:44:18.191773Z",
     "iopub.status.busy": "2021-03-19T09:44:18.190567Z",
     "iopub.status.idle": "2021-03-19T09:44:18.209322Z",
     "shell.execute_reply": "2021-03-19T09:44:18.208627Z"
    }
   },
   "outputs": [],
   "source": [
    "tz = pytz.timezone(\"America/New_York\")"
   ]
  },
  {
   "cell_type": "code",
   "execution_count": 16,
   "metadata": {
    "execution": {
     "iopub.execute_input": "2021-03-19T09:44:18.214253Z",
     "iopub.status.busy": "2021-03-19T09:44:18.212869Z",
     "iopub.status.idle": "2021-03-19T09:44:18.214869Z",
     "shell.execute_reply": "2021-03-19T09:44:18.215315Z"
    }
   },
   "outputs": [],
   "source": [
    "today = datetime.now(tz).date()"
   ]
  },
  {
   "cell_type": "code",
   "execution_count": 17,
   "metadata": {
    "execution": {
     "iopub.execute_input": "2021-03-19T09:44:18.220165Z",
     "iopub.status.busy": "2021-03-19T09:44:18.218738Z",
     "iopub.status.idle": "2021-03-19T09:44:18.220756Z",
     "shell.execute_reply": "2021-03-19T09:44:18.221261Z"
    }
   },
   "outputs": [],
   "source": [
    "data_dir = os.path.join(os.path.abspath(\"\"), \"data\")"
   ]
  },
  {
   "cell_type": "code",
   "execution_count": 18,
   "metadata": {
    "execution": {
     "iopub.execute_input": "2021-03-19T09:44:18.227407Z",
     "iopub.status.busy": "2021-03-19T09:44:18.224847Z",
     "iopub.status.idle": "2021-03-19T09:44:18.229339Z",
     "shell.execute_reply": "2021-03-19T09:44:18.229758Z"
    }
   },
   "outputs": [],
   "source": [
    "df.to_csv(os.path.join(data_dir, f\"{today}.csv\"), index=False)"
   ]
  },
  {
   "cell_type": "code",
   "execution_count": null,
   "metadata": {},
   "outputs": [],
   "source": []
  }
 ],
 "metadata": {
  "kernelspec": {
   "display_name": "Python 3",
   "language": "python",
   "name": "python3"
  },
  "language_info": {
   "codemirror_mode": {
    "name": "ipython",
    "version": 3
   },
   "file_extension": ".py",
   "mimetype": "text/x-python",
   "name": "python",
   "nbconvert_exporter": "python",
   "pygments_lexer": "ipython3",
   "version": "3.8.8"
  }
 },
 "nbformat": 4,
 "nbformat_minor": 4
}
