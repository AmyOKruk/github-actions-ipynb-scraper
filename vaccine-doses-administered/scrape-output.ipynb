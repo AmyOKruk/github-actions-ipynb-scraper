{
 "cells": [
  {
   "cell_type": "markdown",
   "metadata": {},
   "source": [
    "# California COVID vaccinations scrape"
   ]
  },
  {
   "cell_type": "markdown",
   "metadata": {},
   "source": [
    "By [Amy O'Kruk](https://twitter.com/amyokruk)"
   ]
  },
  {
   "cell_type": "markdown",
   "metadata": {},
   "source": [
    "Downloads data on vaccine doses administered by county and statewide from a Tableau-powered dashboard from the California Department of Public Health."
   ]
  },
  {
   "cell_type": "code",
   "execution_count": 1,
   "metadata": {
    "execution": {
     "iopub.execute_input": "2021-03-10T09:13:16.241471Z",
     "iopub.status.busy": "2021-03-10T09:13:16.240896Z",
     "iopub.status.idle": "2021-03-10T09:13:16.594438Z",
     "shell.execute_reply": "2021-03-10T09:13:16.593858Z"
    }
   },
   "outputs": [],
   "source": [
    "import pandas as pd\n",
    "import requests\n",
    "from bs4 import BeautifulSoup\n",
    "import json\n",
    "import re\n",
    "import time\n",
    "from time import gmtime, strftime \n",
    "import os\n",
    "import pytz\n",
    "from datetime import datetime"
   ]
  },
  {
   "cell_type": "markdown",
   "metadata": {},
   "source": [
    "Scrape the dashboard page"
   ]
  },
  {
   "cell_type": "code",
   "execution_count": 2,
   "metadata": {
    "execution": {
     "iopub.execute_input": "2021-03-10T09:13:16.599593Z",
     "iopub.status.busy": "2021-03-10T09:13:16.597644Z",
     "iopub.status.idle": "2021-03-10T09:13:17.106986Z",
     "shell.execute_reply": "2021-03-10T09:13:17.106512Z"
    }
   },
   "outputs": [],
   "source": [
    "url = \"https://public.tableau.com/interactive/views/COVID-19VaccineDashboardPublic/Vaccine?:embed=y&:showVizHome=n&:apiID=host0\"\n",
    "\n",
    "r = requests.get(url)\n",
    "soup = BeautifulSoup(r.text, \"html.parser\")"
   ]
  },
  {
   "cell_type": "code",
   "execution_count": 3,
   "metadata": {
    "execution": {
     "iopub.execute_input": "2021-03-10T09:13:17.111251Z",
     "iopub.status.busy": "2021-03-10T09:13:17.110813Z",
     "iopub.status.idle": "2021-03-10T09:13:17.113789Z",
     "shell.execute_reply": "2021-03-10T09:13:17.113423Z"
    }
   },
   "outputs": [],
   "source": [
    "tableauData = json.loads(soup.find(\"textarea\",{\"id\": \"tsConfigContainer\"}).text)"
   ]
  },
  {
   "cell_type": "markdown",
   "metadata": {},
   "source": [
    "Get the link to the Tableau data"
   ]
  },
  {
   "cell_type": "code",
   "execution_count": 4,
   "metadata": {
    "execution": {
     "iopub.execute_input": "2021-03-10T09:13:17.116715Z",
     "iopub.status.busy": "2021-03-10T09:13:17.116281Z",
     "iopub.status.idle": "2021-03-10T09:13:17.118931Z",
     "shell.execute_reply": "2021-03-10T09:13:17.119271Z"
    }
   },
   "outputs": [],
   "source": [
    "dataUrl = f'https://public.tableau.com{tableauData[\"vizql_root\"]}/bootstrapSession/sessions/{tableauData[\"sessionid\"]}'"
   ]
  },
  {
   "cell_type": "code",
   "execution_count": 5,
   "metadata": {
    "execution": {
     "iopub.execute_input": "2021-03-10T09:13:17.124753Z",
     "iopub.status.busy": "2021-03-10T09:13:17.124293Z",
     "iopub.status.idle": "2021-03-10T09:13:17.379035Z",
     "shell.execute_reply": "2021-03-10T09:13:17.378565Z"
    }
   },
   "outputs": [],
   "source": [
    "r = requests.post(dataUrl, data= {\n",
    "    \"sheet_id\": tableauData[\"sheetId\"],\n",
    "})\n",
    "\n",
    "dataReg = re.search('\\d+;({.*})\\d+;({.*})', r.text, re.MULTILINE)\n",
    "data1 = json.loads(dataReg.group(2))\n",
    "\n",
    "dataJson = data1[\"secondaryInfo\"][\"presModelMap\"][\"dataDictionary\"][\"presModelHolder\"][\"genDataDictionaryPresModel\"][\"dataSegments\"][\"0\"][\"dataColumns\"]"
   ]
  },
  {
   "cell_type": "markdown",
   "metadata": {},
   "source": [
    "Isolate what you want"
   ]
  },
  {
   "cell_type": "code",
   "execution_count": 6,
   "metadata": {
    "execution": {
     "iopub.execute_input": "2021-03-10T09:13:17.382830Z",
     "iopub.status.busy": "2021-03-10T09:13:17.382045Z",
     "iopub.status.idle": "2021-03-10T09:13:17.383929Z",
     "shell.execute_reply": "2021-03-10T09:13:17.383541Z"
    }
   },
   "outputs": [],
   "source": [
    "counties = dataJson[2]['dataValues'][:58]"
   ]
  },
  {
   "cell_type": "code",
   "execution_count": 7,
   "metadata": {
    "execution": {
     "iopub.execute_input": "2021-03-10T09:13:17.387385Z",
     "iopub.status.busy": "2021-03-10T09:13:17.386623Z",
     "iopub.status.idle": "2021-03-10T09:13:17.388222Z",
     "shell.execute_reply": "2021-03-10T09:13:17.388575Z"
    }
   },
   "outputs": [],
   "source": [
    "doses = dataJson[0]['dataValues'][3:61]"
   ]
  },
  {
   "cell_type": "markdown",
   "metadata": {},
   "source": [
    "Data formatting"
   ]
  },
  {
   "cell_type": "code",
   "execution_count": 8,
   "metadata": {
    "execution": {
     "iopub.execute_input": "2021-03-10T09:13:17.391946Z",
     "iopub.status.busy": "2021-03-10T09:13:17.391164Z",
     "iopub.status.idle": "2021-03-10T09:13:17.392751Z",
     "shell.execute_reply": "2021-03-10T09:13:17.393091Z"
    }
   },
   "outputs": [],
   "source": [
    "zipped = dict(zip(counties, doses))"
   ]
  },
  {
   "cell_type": "code",
   "execution_count": 9,
   "metadata": {
    "execution": {
     "iopub.execute_input": "2021-03-10T09:13:17.398468Z",
     "iopub.status.busy": "2021-03-10T09:13:17.397690Z",
     "iopub.status.idle": "2021-03-10T09:13:17.399648Z",
     "shell.execute_reply": "2021-03-10T09:13:17.399280Z"
    }
   },
   "outputs": [],
   "source": [
    "df = pd.Series(zipped).reset_index()"
   ]
  },
  {
   "cell_type": "code",
   "execution_count": 10,
   "metadata": {
    "execution": {
     "iopub.execute_input": "2021-03-10T09:13:17.403095Z",
     "iopub.status.busy": "2021-03-10T09:13:17.402333Z",
     "iopub.status.idle": "2021-03-10T09:13:17.403951Z",
     "shell.execute_reply": "2021-03-10T09:13:17.404302Z"
    }
   },
   "outputs": [],
   "source": [
    "df.columns = ['location','doses']"
   ]
  },
  {
   "cell_type": "markdown",
   "metadata": {},
   "source": [
    "Grab the overall California total"
   ]
  },
  {
   "cell_type": "code",
   "execution_count": 11,
   "metadata": {
    "execution": {
     "iopub.execute_input": "2021-03-10T09:13:17.407674Z",
     "iopub.status.busy": "2021-03-10T09:13:17.406915Z",
     "iopub.status.idle": "2021-03-10T09:13:17.408845Z",
     "shell.execute_reply": "2021-03-10T09:13:17.408461Z"
    }
   },
   "outputs": [],
   "source": [
    "add = {'location':'California','doses':dataJson[0]['dataValues'][2]}"
   ]
  },
  {
   "cell_type": "code",
   "execution_count": 12,
   "metadata": {
    "execution": {
     "iopub.execute_input": "2021-03-10T09:13:17.414603Z",
     "iopub.status.busy": "2021-03-10T09:13:17.413823Z",
     "iopub.status.idle": "2021-03-10T09:13:17.415440Z",
     "shell.execute_reply": "2021-03-10T09:13:17.415781Z"
    }
   },
   "outputs": [],
   "source": [
    "df = df.append(add, ignore_index=True)"
   ]
  },
  {
   "cell_type": "code",
   "execution_count": 13,
   "metadata": {
    "execution": {
     "iopub.execute_input": "2021-03-10T09:13:17.419734Z",
     "iopub.status.busy": "2021-03-10T09:13:17.418972Z",
     "iopub.status.idle": "2021-03-10T09:13:17.420614Z",
     "shell.execute_reply": "2021-03-10T09:13:17.420960Z"
    }
   },
   "outputs": [],
   "source": [
    "df = df.sort_values(by='location')"
   ]
  },
  {
   "cell_type": "code",
   "execution_count": 14,
   "metadata": {
    "execution": {
     "iopub.execute_input": "2021-03-10T09:13:17.426191Z",
     "iopub.status.busy": "2021-03-10T09:13:17.425435Z",
     "iopub.status.idle": "2021-03-10T09:13:17.427003Z",
     "shell.execute_reply": "2021-03-10T09:13:17.427343Z"
    }
   },
   "outputs": [],
   "source": [
    "df = df[df.location == 'California'].append(df[df.location != 'California']).reset_index(drop=True)"
   ]
  },
  {
   "cell_type": "code",
   "execution_count": null,
   "metadata": {},
   "outputs": [],
   "source": []
  },
  {
   "cell_type": "code",
   "execution_count": 15,
   "metadata": {
    "execution": {
     "iopub.execute_input": "2021-03-10T09:13:17.430167Z",
     "iopub.status.busy": "2021-03-10T09:13:17.429735Z",
     "iopub.status.idle": "2021-03-10T09:13:17.444722Z",
     "shell.execute_reply": "2021-03-10T09:13:17.444292Z"
    }
   },
   "outputs": [],
   "source": [
    "tz = pytz.timezone(\"America/New_York\")"
   ]
  },
  {
   "cell_type": "code",
   "execution_count": 16,
   "metadata": {
    "execution": {
     "iopub.execute_input": "2021-03-10T09:13:17.448062Z",
     "iopub.status.busy": "2021-03-10T09:13:17.447253Z",
     "iopub.status.idle": "2021-03-10T09:13:17.449284Z",
     "shell.execute_reply": "2021-03-10T09:13:17.448909Z"
    }
   },
   "outputs": [],
   "source": [
    "today = datetime.now(tz).date()"
   ]
  },
  {
   "cell_type": "code",
   "execution_count": 17,
   "metadata": {
    "execution": {
     "iopub.execute_input": "2021-03-10T09:13:17.452704Z",
     "iopub.status.busy": "2021-03-10T09:13:17.451915Z",
     "iopub.status.idle": "2021-03-10T09:13:17.453461Z",
     "shell.execute_reply": "2021-03-10T09:13:17.453829Z"
    }
   },
   "outputs": [],
   "source": [
    "data_dir = os.path.join(os.path.abspath(\"\"), \"data\")"
   ]
  },
  {
   "cell_type": "code",
   "execution_count": 18,
   "metadata": {
    "execution": {
     "iopub.execute_input": "2021-03-10T09:13:17.457168Z",
     "iopub.status.busy": "2021-03-10T09:13:17.456568Z",
     "iopub.status.idle": "2021-03-10T09:13:17.460440Z",
     "shell.execute_reply": "2021-03-10T09:13:17.460073Z"
    }
   },
   "outputs": [],
   "source": [
    "df.to_csv(os.path.join(data_dir, f\"{today}.csv\"), index=False)"
   ]
  },
  {
   "cell_type": "code",
   "execution_count": null,
   "metadata": {},
   "outputs": [],
   "source": []
  }
 ],
 "metadata": {
  "kernelspec": {
   "display_name": "Python 3",
   "language": "python",
   "name": "python3"
  },
  "language_info": {
   "codemirror_mode": {
    "name": "ipython",
    "version": 3
   },
   "file_extension": ".py",
   "mimetype": "text/x-python",
   "name": "python",
   "nbconvert_exporter": "python",
   "pygments_lexer": "ipython3",
   "version": "3.8.8"
  }
 },
 "nbformat": 4,
 "nbformat_minor": 4
}
