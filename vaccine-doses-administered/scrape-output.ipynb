{
 "cells": [
  {
   "cell_type": "markdown",
   "metadata": {},
   "source": [
    "# California COVID vaccinations scrape"
   ]
  },
  {
   "cell_type": "markdown",
   "metadata": {},
   "source": [
    "By [Amy O'Kruk](https://twitter.com/amyokruk)"
   ]
  },
  {
   "cell_type": "markdown",
   "metadata": {},
   "source": [
    "Downloads data on vaccine doses administered by county and statewide from a Tableau-powered dashboard from the California Department of Public Health."
   ]
  },
  {
   "cell_type": "code",
   "execution_count": 1,
   "metadata": {
    "execution": {
     "iopub.execute_input": "2021-03-11T14:13:15.858429Z",
     "iopub.status.busy": "2021-03-11T14:13:15.857804Z",
     "iopub.status.idle": "2021-03-11T14:13:16.296900Z",
     "shell.execute_reply": "2021-03-11T14:13:16.295762Z"
    }
   },
   "outputs": [],
   "source": [
    "import pandas as pd\n",
    "import requests\n",
    "from bs4 import BeautifulSoup\n",
    "import json\n",
    "import re\n",
    "import time\n",
    "from time import gmtime, strftime \n",
    "import os\n",
    "import pytz\n",
    "from datetime import datetime"
   ]
  },
  {
   "cell_type": "markdown",
   "metadata": {},
   "source": [
    "Scrape the dashboard page"
   ]
  },
  {
   "cell_type": "code",
   "execution_count": 2,
   "metadata": {
    "execution": {
     "iopub.execute_input": "2021-03-11T14:13:16.302522Z",
     "iopub.status.busy": "2021-03-11T14:13:16.300794Z",
     "iopub.status.idle": "2021-03-11T14:13:16.899284Z",
     "shell.execute_reply": "2021-03-11T14:13:16.898794Z"
    }
   },
   "outputs": [],
   "source": [
    "url = \"https://public.tableau.com/interactive/views/COVID-19VaccineDashboardPublic/Vaccine?:embed=y&:showVizHome=n&:apiID=host0\"\n",
    "\n",
    "r = requests.get(url)\n",
    "soup = BeautifulSoup(r.text, \"html.parser\")"
   ]
  },
  {
   "cell_type": "code",
   "execution_count": 3,
   "metadata": {
    "execution": {
     "iopub.execute_input": "2021-03-11T14:13:16.904546Z",
     "iopub.status.busy": "2021-03-11T14:13:16.904013Z",
     "iopub.status.idle": "2021-03-11T14:13:16.907537Z",
     "shell.execute_reply": "2021-03-11T14:13:16.907095Z"
    }
   },
   "outputs": [],
   "source": [
    "tableauData = json.loads(soup.find(\"textarea\",{\"id\": \"tsConfigContainer\"}).text)"
   ]
  },
  {
   "cell_type": "markdown",
   "metadata": {},
   "source": [
    "Get the link to the Tableau data"
   ]
  },
  {
   "cell_type": "code",
   "execution_count": 4,
   "metadata": {
    "execution": {
     "iopub.execute_input": "2021-03-11T14:13:16.911935Z",
     "iopub.status.busy": "2021-03-11T14:13:16.910813Z",
     "iopub.status.idle": "2021-03-11T14:13:16.912543Z",
     "shell.execute_reply": "2021-03-11T14:13:16.912984Z"
    }
   },
   "outputs": [],
   "source": [
    "dataUrl = f'https://public.tableau.com{tableauData[\"vizql_root\"]}/bootstrapSession/sessions/{tableauData[\"sessionid\"]}'"
   ]
  },
  {
   "cell_type": "code",
   "execution_count": 5,
   "metadata": {
    "execution": {
     "iopub.execute_input": "2021-03-11T14:13:16.920153Z",
     "iopub.status.busy": "2021-03-11T14:13:16.919625Z",
     "iopub.status.idle": "2021-03-11T14:13:17.086383Z",
     "shell.execute_reply": "2021-03-11T14:13:17.085721Z"
    }
   },
   "outputs": [],
   "source": [
    "r = requests.post(dataUrl, data= {\n",
    "    \"sheet_id\": tableauData[\"sheetId\"],\n",
    "})\n",
    "\n",
    "dataReg = re.search('\\d+;({.*})\\d+;({.*})', r.text, re.MULTILINE)\n",
    "data1 = json.loads(dataReg.group(2))\n",
    "\n",
    "dataJson = data1[\"secondaryInfo\"][\"presModelMap\"][\"dataDictionary\"][\"presModelHolder\"][\"genDataDictionaryPresModel\"][\"dataSegments\"][\"0\"][\"dataColumns\"]"
   ]
  },
  {
   "cell_type": "markdown",
   "metadata": {},
   "source": [
    "Isolate what you want"
   ]
  },
  {
   "cell_type": "code",
   "execution_count": 6,
   "metadata": {
    "execution": {
     "iopub.execute_input": "2021-03-11T14:13:17.091773Z",
     "iopub.status.busy": "2021-03-11T14:13:17.089860Z",
     "iopub.status.idle": "2021-03-11T14:13:17.092815Z",
     "shell.execute_reply": "2021-03-11T14:13:17.093564Z"
    }
   },
   "outputs": [],
   "source": [
    "counties = dataJson[2]['dataValues'][:58]"
   ]
  },
  {
   "cell_type": "code",
   "execution_count": 7,
   "metadata": {
    "execution": {
     "iopub.execute_input": "2021-03-11T14:13:17.099429Z",
     "iopub.status.busy": "2021-03-11T14:13:17.098323Z",
     "iopub.status.idle": "2021-03-11T14:13:17.100378Z",
     "shell.execute_reply": "2021-03-11T14:13:17.099919Z"
    }
   },
   "outputs": [],
   "source": [
    "doses = dataJson[0]['dataValues'][3:61]"
   ]
  },
  {
   "cell_type": "markdown",
   "metadata": {},
   "source": [
    "Data formatting"
   ]
  },
  {
   "cell_type": "code",
   "execution_count": 8,
   "metadata": {
    "execution": {
     "iopub.execute_input": "2021-03-11T14:13:17.104658Z",
     "iopub.status.busy": "2021-03-11T14:13:17.103445Z",
     "iopub.status.idle": "2021-03-11T14:13:17.105260Z",
     "shell.execute_reply": "2021-03-11T14:13:17.105688Z"
    }
   },
   "outputs": [],
   "source": [
    "zipped = dict(zip(counties, doses))"
   ]
  },
  {
   "cell_type": "code",
   "execution_count": 9,
   "metadata": {
    "execution": {
     "iopub.execute_input": "2021-03-11T14:13:17.112511Z",
     "iopub.status.busy": "2021-03-11T14:13:17.111212Z",
     "iopub.status.idle": "2021-03-11T14:13:17.113111Z",
     "shell.execute_reply": "2021-03-11T14:13:17.113538Z"
    }
   },
   "outputs": [],
   "source": [
    "df = pd.Series(zipped).reset_index()"
   ]
  },
  {
   "cell_type": "code",
   "execution_count": 10,
   "metadata": {
    "execution": {
     "iopub.execute_input": "2021-03-11T14:13:17.117964Z",
     "iopub.status.busy": "2021-03-11T14:13:17.116816Z",
     "iopub.status.idle": "2021-03-11T14:13:17.118585Z",
     "shell.execute_reply": "2021-03-11T14:13:17.119020Z"
    }
   },
   "outputs": [],
   "source": [
    "df.columns = ['location','doses']"
   ]
  },
  {
   "cell_type": "markdown",
   "metadata": {},
   "source": [
    "Grab the overall California total"
   ]
  },
  {
   "cell_type": "code",
   "execution_count": 11,
   "metadata": {
    "execution": {
     "iopub.execute_input": "2021-03-11T14:13:17.123460Z",
     "iopub.status.busy": "2021-03-11T14:13:17.122254Z",
     "iopub.status.idle": "2021-03-11T14:13:17.124114Z",
     "shell.execute_reply": "2021-03-11T14:13:17.124541Z"
    }
   },
   "outputs": [],
   "source": [
    "add = {'location':'California','doses':dataJson[0]['dataValues'][2]}"
   ]
  },
  {
   "cell_type": "code",
   "execution_count": 12,
   "metadata": {
    "execution": {
     "iopub.execute_input": "2021-03-11T14:13:17.131608Z",
     "iopub.status.busy": "2021-03-11T14:13:17.130518Z",
     "iopub.status.idle": "2021-03-11T14:13:17.132207Z",
     "shell.execute_reply": "2021-03-11T14:13:17.132636Z"
    }
   },
   "outputs": [],
   "source": [
    "df = df.append(add, ignore_index=True)"
   ]
  },
  {
   "cell_type": "code",
   "execution_count": 13,
   "metadata": {
    "execution": {
     "iopub.execute_input": "2021-03-11T14:13:17.138048Z",
     "iopub.status.busy": "2021-03-11T14:13:17.136735Z",
     "iopub.status.idle": "2021-03-11T14:13:17.138792Z",
     "shell.execute_reply": "2021-03-11T14:13:17.139238Z"
    }
   },
   "outputs": [],
   "source": [
    "df = df.sort_values(by='location')"
   ]
  },
  {
   "cell_type": "code",
   "execution_count": 14,
   "metadata": {
    "execution": {
     "iopub.execute_input": "2021-03-11T14:13:17.146364Z",
     "iopub.status.busy": "2021-03-11T14:13:17.145110Z",
     "iopub.status.idle": "2021-03-11T14:13:17.147028Z",
     "shell.execute_reply": "2021-03-11T14:13:17.147531Z"
    }
   },
   "outputs": [],
   "source": [
    "df = df[df.location == 'California'].append(df[df.location != 'California']).reset_index(drop=True)"
   ]
  },
  {
   "cell_type": "code",
   "execution_count": null,
   "metadata": {},
   "outputs": [],
   "source": []
  },
  {
   "cell_type": "code",
   "execution_count": 15,
   "metadata": {
    "execution": {
     "iopub.execute_input": "2021-03-11T14:13:17.151235Z",
     "iopub.status.busy": "2021-03-11T14:13:17.150663Z",
     "iopub.status.idle": "2021-03-11T14:13:17.168370Z",
     "shell.execute_reply": "2021-03-11T14:13:17.167841Z"
    }
   },
   "outputs": [],
   "source": [
    "tz = pytz.timezone(\"America/New_York\")"
   ]
  },
  {
   "cell_type": "code",
   "execution_count": 16,
   "metadata": {
    "execution": {
     "iopub.execute_input": "2021-03-11T14:13:17.172752Z",
     "iopub.status.busy": "2021-03-11T14:13:17.171652Z",
     "iopub.status.idle": "2021-03-11T14:13:17.173348Z",
     "shell.execute_reply": "2021-03-11T14:13:17.173775Z"
    }
   },
   "outputs": [],
   "source": [
    "today = datetime.now(tz).date()"
   ]
  },
  {
   "cell_type": "code",
   "execution_count": 17,
   "metadata": {
    "execution": {
     "iopub.execute_input": "2021-03-11T14:13:17.178076Z",
     "iopub.status.busy": "2021-03-11T14:13:17.176969Z",
     "iopub.status.idle": "2021-03-11T14:13:17.178701Z",
     "shell.execute_reply": "2021-03-11T14:13:17.179123Z"
    }
   },
   "outputs": [],
   "source": [
    "data_dir = os.path.join(os.path.abspath(\"\"), \"data\")"
   ]
  },
  {
   "cell_type": "code",
   "execution_count": 18,
   "metadata": {
    "execution": {
     "iopub.execute_input": "2021-03-11T14:13:17.183603Z",
     "iopub.status.busy": "2021-03-11T14:13:17.182384Z",
     "iopub.status.idle": "2021-03-11T14:13:17.187108Z",
     "shell.execute_reply": "2021-03-11T14:13:17.186584Z"
    }
   },
   "outputs": [],
   "source": [
    "df.to_csv(os.path.join(data_dir, f\"{today}.csv\"), index=False)"
   ]
  },
  {
   "cell_type": "code",
   "execution_count": null,
   "metadata": {},
   "outputs": [],
   "source": []
  }
 ],
 "metadata": {
  "kernelspec": {
   "display_name": "Python 3",
   "language": "python",
   "name": "python3"
  },
  "language_info": {
   "codemirror_mode": {
    "name": "ipython",
    "version": 3
   },
   "file_extension": ".py",
   "mimetype": "text/x-python",
   "name": "python",
   "nbconvert_exporter": "python",
   "pygments_lexer": "ipython3",
   "version": "3.8.8"
  }
 },
 "nbformat": 4,
 "nbformat_minor": 4
}
