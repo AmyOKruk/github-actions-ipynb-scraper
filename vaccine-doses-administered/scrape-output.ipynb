{
 "cells": [
  {
   "cell_type": "markdown",
   "metadata": {},
   "source": [
    "# California COVID vaccinations scrape"
   ]
  },
  {
   "cell_type": "markdown",
   "metadata": {},
   "source": [
    "By [Amy O'Kruk](https://twitter.com/amyokruk)"
   ]
  },
  {
   "cell_type": "markdown",
   "metadata": {},
   "source": [
    "Downloads data on vaccine doses administered by county and statewide from a Tableau-powered dashboard from the California Department of Public Health."
   ]
  },
  {
   "cell_type": "code",
   "execution_count": 1,
   "metadata": {
    "execution": {
     "iopub.execute_input": "2021-03-14T18:46:24.076401Z",
     "iopub.status.busy": "2021-03-14T18:46:24.075836Z",
     "iopub.status.idle": "2021-03-14T18:46:24.437446Z",
     "shell.execute_reply": "2021-03-14T18:46:24.436296Z"
    }
   },
   "outputs": [],
   "source": [
    "import pandas as pd\n",
    "import requests\n",
    "from bs4 import BeautifulSoup\n",
    "import json\n",
    "import re\n",
    "import time\n",
    "from time import gmtime, strftime \n",
    "import os\n",
    "import pytz\n",
    "from datetime import datetime"
   ]
  },
  {
   "cell_type": "markdown",
   "metadata": {},
   "source": [
    "Scrape the dashboard page"
   ]
  },
  {
   "cell_type": "code",
   "execution_count": 2,
   "metadata": {
    "execution": {
     "iopub.execute_input": "2021-03-14T18:46:24.441694Z",
     "iopub.status.busy": "2021-03-14T18:46:24.441200Z",
     "iopub.status.idle": "2021-03-14T18:46:24.843365Z",
     "shell.execute_reply": "2021-03-14T18:46:24.842151Z"
    }
   },
   "outputs": [],
   "source": [
    "url = \"https://public.tableau.com/interactive/views/COVID-19VaccineDashboardPublic/Vaccine?:embed=y&:showVizHome=n&:apiID=host0\"\n",
    "\n",
    "r = requests.get(url)\n",
    "soup = BeautifulSoup(r.text, \"html.parser\")"
   ]
  },
  {
   "cell_type": "code",
   "execution_count": 3,
   "metadata": {
    "execution": {
     "iopub.execute_input": "2021-03-14T18:46:24.847945Z",
     "iopub.status.busy": "2021-03-14T18:46:24.847464Z",
     "iopub.status.idle": "2021-03-14T18:46:24.850345Z",
     "shell.execute_reply": "2021-03-14T18:46:24.850749Z"
    }
   },
   "outputs": [],
   "source": [
    "tableauData = json.loads(soup.find(\"textarea\",{\"id\": \"tsConfigContainer\"}).text)"
   ]
  },
  {
   "cell_type": "markdown",
   "metadata": {},
   "source": [
    "Get the link to the Tableau data"
   ]
  },
  {
   "cell_type": "code",
   "execution_count": 4,
   "metadata": {
    "execution": {
     "iopub.execute_input": "2021-03-14T18:46:24.854786Z",
     "iopub.status.busy": "2021-03-14T18:46:24.853663Z",
     "iopub.status.idle": "2021-03-14T18:46:24.855468Z",
     "shell.execute_reply": "2021-03-14T18:46:24.855903Z"
    }
   },
   "outputs": [],
   "source": [
    "dataUrl = f'https://public.tableau.com{tableauData[\"vizql_root\"]}/bootstrapSession/sessions/{tableauData[\"sessionid\"]}'"
   ]
  },
  {
   "cell_type": "code",
   "execution_count": 5,
   "metadata": {
    "execution": {
     "iopub.execute_input": "2021-03-14T18:46:24.862169Z",
     "iopub.status.busy": "2021-03-14T18:46:24.861641Z",
     "iopub.status.idle": "2021-03-14T18:46:25.125165Z",
     "shell.execute_reply": "2021-03-14T18:46:25.124251Z"
    }
   },
   "outputs": [],
   "source": [
    "r = requests.post(dataUrl, data= {\n",
    "    \"sheet_id\": tableauData[\"sheetId\"],\n",
    "})\n",
    "\n",
    "dataReg = re.search('\\d+;({.*})\\d+;({.*})', r.text, re.MULTILINE)\n",
    "data1 = json.loads(dataReg.group(2))\n",
    "\n",
    "dataJson = data1[\"secondaryInfo\"][\"presModelMap\"][\"dataDictionary\"][\"presModelHolder\"][\"genDataDictionaryPresModel\"][\"dataSegments\"][\"0\"][\"dataColumns\"]"
   ]
  },
  {
   "cell_type": "markdown",
   "metadata": {},
   "source": [
    "Isolate what you want"
   ]
  },
  {
   "cell_type": "code",
   "execution_count": 6,
   "metadata": {
    "execution": {
     "iopub.execute_input": "2021-03-14T18:46:25.129011Z",
     "iopub.status.busy": "2021-03-14T18:46:25.128456Z",
     "iopub.status.idle": "2021-03-14T18:46:25.132080Z",
     "shell.execute_reply": "2021-03-14T18:46:25.131307Z"
    }
   },
   "outputs": [],
   "source": [
    "counties = dataJson[2]['dataValues'][:58]"
   ]
  },
  {
   "cell_type": "code",
   "execution_count": 7,
   "metadata": {
    "execution": {
     "iopub.execute_input": "2021-03-14T18:46:25.135564Z",
     "iopub.status.busy": "2021-03-14T18:46:25.135079Z",
     "iopub.status.idle": "2021-03-14T18:46:25.137889Z",
     "shell.execute_reply": "2021-03-14T18:46:25.138300Z"
    }
   },
   "outputs": [],
   "source": [
    "doses = dataJson[0]['dataValues'][3:61]"
   ]
  },
  {
   "cell_type": "markdown",
   "metadata": {},
   "source": [
    "Data formatting"
   ]
  },
  {
   "cell_type": "code",
   "execution_count": 8,
   "metadata": {
    "execution": {
     "iopub.execute_input": "2021-03-14T18:46:25.141775Z",
     "iopub.status.busy": "2021-03-14T18:46:25.141235Z",
     "iopub.status.idle": "2021-03-14T18:46:25.144196Z",
     "shell.execute_reply": "2021-03-14T18:46:25.144572Z"
    }
   },
   "outputs": [],
   "source": [
    "zipped = dict(zip(counties, doses))"
   ]
  },
  {
   "cell_type": "code",
   "execution_count": 9,
   "metadata": {
    "execution": {
     "iopub.execute_input": "2021-03-14T18:46:25.150662Z",
     "iopub.status.busy": "2021-03-14T18:46:25.149547Z",
     "iopub.status.idle": "2021-03-14T18:46:25.151276Z",
     "shell.execute_reply": "2021-03-14T18:46:25.151674Z"
    }
   },
   "outputs": [],
   "source": [
    "df = pd.Series(zipped).reset_index()"
   ]
  },
  {
   "cell_type": "code",
   "execution_count": 10,
   "metadata": {
    "execution": {
     "iopub.execute_input": "2021-03-14T18:46:25.155878Z",
     "iopub.status.busy": "2021-03-14T18:46:25.154807Z",
     "iopub.status.idle": "2021-03-14T18:46:25.156446Z",
     "shell.execute_reply": "2021-03-14T18:46:25.156843Z"
    }
   },
   "outputs": [],
   "source": [
    "df.columns = ['location','doses']"
   ]
  },
  {
   "cell_type": "markdown",
   "metadata": {},
   "source": [
    "Grab the overall California total"
   ]
  },
  {
   "cell_type": "code",
   "execution_count": 11,
   "metadata": {
    "execution": {
     "iopub.execute_input": "2021-03-14T18:46:25.161529Z",
     "iopub.status.busy": "2021-03-14T18:46:25.160291Z",
     "iopub.status.idle": "2021-03-14T18:46:25.162089Z",
     "shell.execute_reply": "2021-03-14T18:46:25.162485Z"
    }
   },
   "outputs": [],
   "source": [
    "add = {'location':'California','doses':dataJson[0]['dataValues'][2]}"
   ]
  },
  {
   "cell_type": "code",
   "execution_count": 12,
   "metadata": {
    "execution": {
     "iopub.execute_input": "2021-03-14T18:46:25.169363Z",
     "iopub.status.busy": "2021-03-14T18:46:25.168087Z",
     "iopub.status.idle": "2021-03-14T18:46:25.169962Z",
     "shell.execute_reply": "2021-03-14T18:46:25.170358Z"
    }
   },
   "outputs": [],
   "source": [
    "df = df.append(add, ignore_index=True)"
   ]
  },
  {
   "cell_type": "code",
   "execution_count": 13,
   "metadata": {
    "execution": {
     "iopub.execute_input": "2021-03-14T18:46:25.175098Z",
     "iopub.status.busy": "2021-03-14T18:46:25.173943Z",
     "iopub.status.idle": "2021-03-14T18:46:25.175731Z",
     "shell.execute_reply": "2021-03-14T18:46:25.176130Z"
    }
   },
   "outputs": [],
   "source": [
    "df = df.sort_values(by='location')"
   ]
  },
  {
   "cell_type": "code",
   "execution_count": 14,
   "metadata": {
    "execution": {
     "iopub.execute_input": "2021-03-14T18:46:25.182393Z",
     "iopub.status.busy": "2021-03-14T18:46:25.181204Z",
     "iopub.status.idle": "2021-03-14T18:46:25.183065Z",
     "shell.execute_reply": "2021-03-14T18:46:25.183492Z"
    }
   },
   "outputs": [],
   "source": [
    "df = df[df.location == 'California'].append(df[df.location != 'California']).reset_index(drop=True)"
   ]
  },
  {
   "cell_type": "code",
   "execution_count": null,
   "metadata": {},
   "outputs": [],
   "source": []
  },
  {
   "cell_type": "code",
   "execution_count": 15,
   "metadata": {
    "execution": {
     "iopub.execute_input": "2021-03-14T18:46:25.186837Z",
     "iopub.status.busy": "2021-03-14T18:46:25.186359Z",
     "iopub.status.idle": "2021-03-14T18:46:25.203120Z",
     "shell.execute_reply": "2021-03-14T18:46:25.202620Z"
    }
   },
   "outputs": [],
   "source": [
    "tz = pytz.timezone(\"America/New_York\")"
   ]
  },
  {
   "cell_type": "code",
   "execution_count": 16,
   "metadata": {
    "execution": {
     "iopub.execute_input": "2021-03-14T18:46:25.207294Z",
     "iopub.status.busy": "2021-03-14T18:46:25.206125Z",
     "iopub.status.idle": "2021-03-14T18:46:25.207893Z",
     "shell.execute_reply": "2021-03-14T18:46:25.208320Z"
    }
   },
   "outputs": [],
   "source": [
    "today = datetime.now(tz).date()"
   ]
  },
  {
   "cell_type": "code",
   "execution_count": 17,
   "metadata": {
    "execution": {
     "iopub.execute_input": "2021-03-14T18:46:25.212539Z",
     "iopub.status.busy": "2021-03-14T18:46:25.211370Z",
     "iopub.status.idle": "2021-03-14T18:46:25.213231Z",
     "shell.execute_reply": "2021-03-14T18:46:25.213667Z"
    }
   },
   "outputs": [],
   "source": [
    "data_dir = os.path.join(os.path.abspath(\"\"), \"data\")"
   ]
  },
  {
   "cell_type": "code",
   "execution_count": 18,
   "metadata": {
    "execution": {
     "iopub.execute_input": "2021-03-14T18:46:25.217930Z",
     "iopub.status.busy": "2021-03-14T18:46:25.217404Z",
     "iopub.status.idle": "2021-03-14T18:46:25.221800Z",
     "shell.execute_reply": "2021-03-14T18:46:25.221331Z"
    }
   },
   "outputs": [],
   "source": [
    "df.to_csv(os.path.join(data_dir, f\"{today}.csv\"), index=False)"
   ]
  },
  {
   "cell_type": "code",
   "execution_count": null,
   "metadata": {},
   "outputs": [],
   "source": []
  }
 ],
 "metadata": {
  "kernelspec": {
   "display_name": "Python 3",
   "language": "python",
   "name": "python3"
  },
  "language_info": {
   "codemirror_mode": {
    "name": "ipython",
    "version": 3
   },
   "file_extension": ".py",
   "mimetype": "text/x-python",
   "name": "python",
   "nbconvert_exporter": "python",
   "pygments_lexer": "ipython3",
   "version": "3.8.8"
  }
 },
 "nbformat": 4,
 "nbformat_minor": 4
}
