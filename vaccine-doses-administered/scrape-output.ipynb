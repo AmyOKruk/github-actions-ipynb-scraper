{
 "cells": [
  {
   "cell_type": "markdown",
   "metadata": {},
   "source": [
    "# California COVID vaccinations scrape"
   ]
  },
  {
   "cell_type": "markdown",
   "metadata": {},
   "source": [
    "By [Amy O'Kruk](https://twitter.com/amyokruk)"
   ]
  },
  {
   "cell_type": "markdown",
   "metadata": {},
   "source": [
    "Downloads data on vaccine doses administered by county and statewide from a Tableau-powered dashboard from the California Department of Public Health."
   ]
  },
  {
   "cell_type": "code",
   "execution_count": 1,
   "metadata": {
    "execution": {
     "iopub.execute_input": "2021-03-12T17:56:06.535982Z",
     "iopub.status.busy": "2021-03-12T17:56:06.535297Z",
     "iopub.status.idle": "2021-03-12T17:56:06.982218Z",
     "shell.execute_reply": "2021-03-12T17:56:06.981619Z"
    }
   },
   "outputs": [],
   "source": [
    "import pandas as pd\n",
    "import requests\n",
    "from bs4 import BeautifulSoup\n",
    "import json\n",
    "import re\n",
    "import time\n",
    "from time import gmtime, strftime \n",
    "import os\n",
    "import pytz\n",
    "from datetime import datetime"
   ]
  },
  {
   "cell_type": "markdown",
   "metadata": {},
   "source": [
    "Scrape the dashboard page"
   ]
  },
  {
   "cell_type": "code",
   "execution_count": 2,
   "metadata": {
    "execution": {
     "iopub.execute_input": "2021-03-12T17:56:06.986550Z",
     "iopub.status.busy": "2021-03-12T17:56:06.985875Z",
     "iopub.status.idle": "2021-03-12T17:56:07.258480Z",
     "shell.execute_reply": "2021-03-12T17:56:07.257579Z"
    }
   },
   "outputs": [],
   "source": [
    "url = \"https://public.tableau.com/interactive/views/COVID-19VaccineDashboardPublic/Vaccine?:embed=y&:showVizHome=n&:apiID=host0\"\n",
    "\n",
    "r = requests.get(url)\n",
    "soup = BeautifulSoup(r.text, \"html.parser\")"
   ]
  },
  {
   "cell_type": "code",
   "execution_count": 3,
   "metadata": {
    "execution": {
     "iopub.execute_input": "2021-03-12T17:56:07.263746Z",
     "iopub.status.busy": "2021-03-12T17:56:07.263151Z",
     "iopub.status.idle": "2021-03-12T17:56:07.266944Z",
     "shell.execute_reply": "2021-03-12T17:56:07.266392Z"
    }
   },
   "outputs": [],
   "source": [
    "tableauData = json.loads(soup.find(\"textarea\",{\"id\": \"tsConfigContainer\"}).text)"
   ]
  },
  {
   "cell_type": "markdown",
   "metadata": {},
   "source": [
    "Get the link to the Tableau data"
   ]
  },
  {
   "cell_type": "code",
   "execution_count": 4,
   "metadata": {
    "execution": {
     "iopub.execute_input": "2021-03-12T17:56:07.271020Z",
     "iopub.status.busy": "2021-03-12T17:56:07.270428Z",
     "iopub.status.idle": "2021-03-12T17:56:07.274157Z",
     "shell.execute_reply": "2021-03-12T17:56:07.273659Z"
    }
   },
   "outputs": [],
   "source": [
    "dataUrl = f'https://public.tableau.com{tableauData[\"vizql_root\"]}/bootstrapSession/sessions/{tableauData[\"sessionid\"]}'"
   ]
  },
  {
   "cell_type": "code",
   "execution_count": 5,
   "metadata": {
    "execution": {
     "iopub.execute_input": "2021-03-12T17:56:07.281403Z",
     "iopub.status.busy": "2021-03-12T17:56:07.280765Z",
     "iopub.status.idle": "2021-03-12T17:56:07.421901Z",
     "shell.execute_reply": "2021-03-12T17:56:07.422461Z"
    }
   },
   "outputs": [],
   "source": [
    "r = requests.post(dataUrl, data= {\n",
    "    \"sheet_id\": tableauData[\"sheetId\"],\n",
    "})\n",
    "\n",
    "dataReg = re.search('\\d+;({.*})\\d+;({.*})', r.text, re.MULTILINE)\n",
    "data1 = json.loads(dataReg.group(2))\n",
    "\n",
    "dataJson = data1[\"secondaryInfo\"][\"presModelMap\"][\"dataDictionary\"][\"presModelHolder\"][\"genDataDictionaryPresModel\"][\"dataSegments\"][\"0\"][\"dataColumns\"]"
   ]
  },
  {
   "cell_type": "markdown",
   "metadata": {},
   "source": [
    "Isolate what you want"
   ]
  },
  {
   "cell_type": "code",
   "execution_count": 6,
   "metadata": {
    "execution": {
     "iopub.execute_input": "2021-03-12T17:56:07.426700Z",
     "iopub.status.busy": "2021-03-12T17:56:07.426125Z",
     "iopub.status.idle": "2021-03-12T17:56:07.430038Z",
     "shell.execute_reply": "2021-03-12T17:56:07.429529Z"
    }
   },
   "outputs": [],
   "source": [
    "counties = dataJson[2]['dataValues'][:58]"
   ]
  },
  {
   "cell_type": "code",
   "execution_count": 7,
   "metadata": {
    "execution": {
     "iopub.execute_input": "2021-03-12T17:56:07.433692Z",
     "iopub.status.busy": "2021-03-12T17:56:07.433088Z",
     "iopub.status.idle": "2021-03-12T17:56:07.436842Z",
     "shell.execute_reply": "2021-03-12T17:56:07.436320Z"
    }
   },
   "outputs": [],
   "source": [
    "doses = dataJson[0]['dataValues'][3:61]"
   ]
  },
  {
   "cell_type": "markdown",
   "metadata": {},
   "source": [
    "Data formatting"
   ]
  },
  {
   "cell_type": "code",
   "execution_count": 8,
   "metadata": {
    "execution": {
     "iopub.execute_input": "2021-03-12T17:56:07.440567Z",
     "iopub.status.busy": "2021-03-12T17:56:07.439995Z",
     "iopub.status.idle": "2021-03-12T17:56:07.443713Z",
     "shell.execute_reply": "2021-03-12T17:56:07.443204Z"
    }
   },
   "outputs": [],
   "source": [
    "zipped = dict(zip(counties, doses))"
   ]
  },
  {
   "cell_type": "code",
   "execution_count": 9,
   "metadata": {
    "execution": {
     "iopub.execute_input": "2021-03-12T17:56:07.449566Z",
     "iopub.status.busy": "2021-03-12T17:56:07.448960Z",
     "iopub.status.idle": "2021-03-12T17:56:07.452631Z",
     "shell.execute_reply": "2021-03-12T17:56:07.452118Z"
    }
   },
   "outputs": [],
   "source": [
    "df = pd.Series(zipped).reset_index()"
   ]
  },
  {
   "cell_type": "code",
   "execution_count": 10,
   "metadata": {
    "execution": {
     "iopub.execute_input": "2021-03-12T17:56:07.456584Z",
     "iopub.status.busy": "2021-03-12T17:56:07.456011Z",
     "iopub.status.idle": "2021-03-12T17:56:07.459640Z",
     "shell.execute_reply": "2021-03-12T17:56:07.459133Z"
    }
   },
   "outputs": [],
   "source": [
    "df.columns = ['location','doses']"
   ]
  },
  {
   "cell_type": "markdown",
   "metadata": {},
   "source": [
    "Grab the overall California total"
   ]
  },
  {
   "cell_type": "code",
   "execution_count": 11,
   "metadata": {
    "execution": {
     "iopub.execute_input": "2021-03-12T17:56:07.463395Z",
     "iopub.status.busy": "2021-03-12T17:56:07.462821Z",
     "iopub.status.idle": "2021-03-12T17:56:07.466453Z",
     "shell.execute_reply": "2021-03-12T17:56:07.465937Z"
    }
   },
   "outputs": [],
   "source": [
    "add = {'location':'California','doses':dataJson[0]['dataValues'][2]}"
   ]
  },
  {
   "cell_type": "code",
   "execution_count": 12,
   "metadata": {
    "execution": {
     "iopub.execute_input": "2021-03-12T17:56:07.473232Z",
     "iopub.status.busy": "2021-03-12T17:56:07.472631Z",
     "iopub.status.idle": "2021-03-12T17:56:07.476280Z",
     "shell.execute_reply": "2021-03-12T17:56:07.475773Z"
    }
   },
   "outputs": [],
   "source": [
    "df = df.append(add, ignore_index=True)"
   ]
  },
  {
   "cell_type": "code",
   "execution_count": 13,
   "metadata": {
    "execution": {
     "iopub.execute_input": "2021-03-12T17:56:07.480669Z",
     "iopub.status.busy": "2021-03-12T17:56:07.480091Z",
     "iopub.status.idle": "2021-03-12T17:56:07.483702Z",
     "shell.execute_reply": "2021-03-12T17:56:07.483195Z"
    }
   },
   "outputs": [],
   "source": [
    "df = df.sort_values(by='location')"
   ]
  },
  {
   "cell_type": "code",
   "execution_count": 14,
   "metadata": {
    "execution": {
     "iopub.execute_input": "2021-03-12T17:56:07.489831Z",
     "iopub.status.busy": "2021-03-12T17:56:07.489243Z",
     "iopub.status.idle": "2021-03-12T17:56:07.492893Z",
     "shell.execute_reply": "2021-03-12T17:56:07.492389Z"
    }
   },
   "outputs": [],
   "source": [
    "df = df[df.location == 'California'].append(df[df.location != 'California']).reset_index(drop=True)"
   ]
  },
  {
   "cell_type": "code",
   "execution_count": null,
   "metadata": {},
   "outputs": [],
   "source": []
  },
  {
   "cell_type": "code",
   "execution_count": 15,
   "metadata": {
    "execution": {
     "iopub.execute_input": "2021-03-12T17:56:07.496401Z",
     "iopub.status.busy": "2021-03-12T17:56:07.495829Z",
     "iopub.status.idle": "2021-03-12T17:56:07.516812Z",
     "shell.execute_reply": "2021-03-12T17:56:07.516283Z"
    }
   },
   "outputs": [],
   "source": [
    "tz = pytz.timezone(\"America/New_York\")"
   ]
  },
  {
   "cell_type": "code",
   "execution_count": 16,
   "metadata": {
    "execution": {
     "iopub.execute_input": "2021-03-12T17:56:07.521025Z",
     "iopub.status.busy": "2021-03-12T17:56:07.520441Z",
     "iopub.status.idle": "2021-03-12T17:56:07.523549Z",
     "shell.execute_reply": "2021-03-12T17:56:07.524233Z"
    }
   },
   "outputs": [],
   "source": [
    "today = datetime.now(tz).date()"
   ]
  },
  {
   "cell_type": "code",
   "execution_count": 17,
   "metadata": {
    "execution": {
     "iopub.execute_input": "2021-03-12T17:56:07.528083Z",
     "iopub.status.busy": "2021-03-12T17:56:07.527497Z",
     "iopub.status.idle": "2021-03-12T17:56:07.531142Z",
     "shell.execute_reply": "2021-03-12T17:56:07.530635Z"
    }
   },
   "outputs": [],
   "source": [
    "data_dir = os.path.join(os.path.abspath(\"\"), \"data\")"
   ]
  },
  {
   "cell_type": "code",
   "execution_count": 18,
   "metadata": {
    "execution": {
     "iopub.execute_input": "2021-03-12T17:56:07.536907Z",
     "iopub.status.busy": "2021-03-12T17:56:07.535107Z",
     "iopub.status.idle": "2021-03-12T17:56:07.541786Z",
     "shell.execute_reply": "2021-03-12T17:56:07.540804Z"
    }
   },
   "outputs": [],
   "source": [
    "df.to_csv(os.path.join(data_dir, f\"{today}.csv\"), index=False)"
   ]
  },
  {
   "cell_type": "code",
   "execution_count": null,
   "metadata": {},
   "outputs": [],
   "source": []
  }
 ],
 "metadata": {
  "kernelspec": {
   "display_name": "Python 3",
   "language": "python",
   "name": "python3"
  },
  "language_info": {
   "codemirror_mode": {
    "name": "ipython",
    "version": 3
   },
   "file_extension": ".py",
   "mimetype": "text/x-python",
   "name": "python",
   "nbconvert_exporter": "python",
   "pygments_lexer": "ipython3",
   "version": "3.8.8"
  }
 },
 "nbformat": 4,
 "nbformat_minor": 4
}
