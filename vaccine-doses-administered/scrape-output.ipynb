{
 "cells": [
  {
   "cell_type": "markdown",
   "metadata": {},
   "source": [
    "# California COVID vaccinations scrape"
   ]
  },
  {
   "cell_type": "markdown",
   "metadata": {},
   "source": [
    "By [Amy O'Kruk](https://twitter.com/amyokruk)"
   ]
  },
  {
   "cell_type": "markdown",
   "metadata": {},
   "source": [
    "Downloads data on vaccine doses administered by county and statewide from a Tableau-powered dashboard from the California Department of Public Health."
   ]
  },
  {
   "cell_type": "code",
   "execution_count": 1,
   "metadata": {
    "execution": {
     "iopub.execute_input": "2021-03-18T12:54:55.376049Z",
     "iopub.status.busy": "2021-03-18T12:54:55.375497Z",
     "iopub.status.idle": "2021-03-18T12:54:55.910962Z",
     "shell.execute_reply": "2021-03-18T12:54:55.909917Z"
    }
   },
   "outputs": [],
   "source": [
    "import pandas as pd\n",
    "import requests\n",
    "from bs4 import BeautifulSoup\n",
    "import json\n",
    "import re\n",
    "import time\n",
    "from time import gmtime, strftime \n",
    "import os\n",
    "import pytz\n",
    "from datetime import datetime"
   ]
  },
  {
   "cell_type": "markdown",
   "metadata": {},
   "source": [
    "Scrape the dashboard page"
   ]
  },
  {
   "cell_type": "code",
   "execution_count": 2,
   "metadata": {
    "execution": {
     "iopub.execute_input": "2021-03-18T12:54:55.916534Z",
     "iopub.status.busy": "2021-03-18T12:54:55.914224Z",
     "iopub.status.idle": "2021-03-18T12:54:56.277648Z",
     "shell.execute_reply": "2021-03-18T12:54:56.276854Z"
    }
   },
   "outputs": [],
   "source": [
    "url = \"https://public.tableau.com/interactive/views/COVID-19VaccineDashboardPublic/Vaccine?:embed=y&:showVizHome=n&:apiID=host0\"\n",
    "\n",
    "r = requests.get(url)\n",
    "soup = BeautifulSoup(r.text, \"html.parser\")"
   ]
  },
  {
   "cell_type": "code",
   "execution_count": 3,
   "metadata": {
    "execution": {
     "iopub.execute_input": "2021-03-18T12:54:56.283019Z",
     "iopub.status.busy": "2021-03-18T12:54:56.281702Z",
     "iopub.status.idle": "2021-03-18T12:54:56.283628Z",
     "shell.execute_reply": "2021-03-18T12:54:56.284059Z"
    }
   },
   "outputs": [],
   "source": [
    "tableauData = json.loads(soup.find(\"textarea\",{\"id\": \"tsConfigContainer\"}).text)"
   ]
  },
  {
   "cell_type": "markdown",
   "metadata": {},
   "source": [
    "Get the link to the Tableau data"
   ]
  },
  {
   "cell_type": "code",
   "execution_count": 4,
   "metadata": {
    "execution": {
     "iopub.execute_input": "2021-03-18T12:54:56.288039Z",
     "iopub.status.busy": "2021-03-18T12:54:56.287007Z",
     "iopub.status.idle": "2021-03-18T12:54:56.288920Z",
     "shell.execute_reply": "2021-03-18T12:54:56.289357Z"
    }
   },
   "outputs": [],
   "source": [
    "dataUrl = f'https://public.tableau.com{tableauData[\"vizql_root\"]}/bootstrapSession/sessions/{tableauData[\"sessionid\"]}'"
   ]
  },
  {
   "cell_type": "code",
   "execution_count": 5,
   "metadata": {
    "execution": {
     "iopub.execute_input": "2021-03-18T12:54:56.295855Z",
     "iopub.status.busy": "2021-03-18T12:54:56.295324Z",
     "iopub.status.idle": "2021-03-18T12:54:56.516453Z",
     "shell.execute_reply": "2021-03-18T12:54:56.515630Z"
    }
   },
   "outputs": [],
   "source": [
    "r = requests.post(dataUrl, data= {\n",
    "    \"sheet_id\": tableauData[\"sheetId\"],\n",
    "})\n",
    "\n",
    "dataReg = re.search('\\d+;({.*})\\d+;({.*})', r.text, re.MULTILINE)\n",
    "data1 = json.loads(dataReg.group(2))\n",
    "\n",
    "dataJson = data1[\"secondaryInfo\"][\"presModelMap\"][\"dataDictionary\"][\"presModelHolder\"][\"genDataDictionaryPresModel\"][\"dataSegments\"][\"0\"][\"dataColumns\"]"
   ]
  },
  {
   "cell_type": "markdown",
   "metadata": {},
   "source": [
    "Isolate what you want"
   ]
  },
  {
   "cell_type": "code",
   "execution_count": 6,
   "metadata": {
    "execution": {
     "iopub.execute_input": "2021-03-18T12:54:56.520118Z",
     "iopub.status.busy": "2021-03-18T12:54:56.519592Z",
     "iopub.status.idle": "2021-03-18T12:54:56.522867Z",
     "shell.execute_reply": "2021-03-18T12:54:56.522430Z"
    }
   },
   "outputs": [],
   "source": [
    "counties = dataJson[2]['dataValues'][:58]"
   ]
  },
  {
   "cell_type": "code",
   "execution_count": 7,
   "metadata": {
    "execution": {
     "iopub.execute_input": "2021-03-18T12:54:56.526437Z",
     "iopub.status.busy": "2021-03-18T12:54:56.525927Z",
     "iopub.status.idle": "2021-03-18T12:54:56.529516Z",
     "shell.execute_reply": "2021-03-18T12:54:56.529049Z"
    }
   },
   "outputs": [],
   "source": [
    "doses = dataJson[0]['dataValues'][3:61]"
   ]
  },
  {
   "cell_type": "markdown",
   "metadata": {},
   "source": [
    "Data formatting"
   ]
  },
  {
   "cell_type": "code",
   "execution_count": 8,
   "metadata": {
    "execution": {
     "iopub.execute_input": "2021-03-18T12:54:56.533043Z",
     "iopub.status.busy": "2021-03-18T12:54:56.532523Z",
     "iopub.status.idle": "2021-03-18T12:54:56.535846Z",
     "shell.execute_reply": "2021-03-18T12:54:56.535398Z"
    }
   },
   "outputs": [],
   "source": [
    "zipped = dict(zip(counties, doses))"
   ]
  },
  {
   "cell_type": "code",
   "execution_count": 9,
   "metadata": {
    "execution": {
     "iopub.execute_input": "2021-03-18T12:54:56.541419Z",
     "iopub.status.busy": "2021-03-18T12:54:56.540905Z",
     "iopub.status.idle": "2021-03-18T12:54:56.544769Z",
     "shell.execute_reply": "2021-03-18T12:54:56.544021Z"
    }
   },
   "outputs": [],
   "source": [
    "df = pd.Series(zipped).reset_index()"
   ]
  },
  {
   "cell_type": "code",
   "execution_count": 10,
   "metadata": {
    "execution": {
     "iopub.execute_input": "2021-03-18T12:54:56.548480Z",
     "iopub.status.busy": "2021-03-18T12:54:56.547939Z",
     "iopub.status.idle": "2021-03-18T12:54:56.551285Z",
     "shell.execute_reply": "2021-03-18T12:54:56.550809Z"
    }
   },
   "outputs": [],
   "source": [
    "df.columns = ['location','doses']"
   ]
  },
  {
   "cell_type": "markdown",
   "metadata": {},
   "source": [
    "Grab the overall California total"
   ]
  },
  {
   "cell_type": "code",
   "execution_count": 11,
   "metadata": {
    "execution": {
     "iopub.execute_input": "2021-03-18T12:54:56.554883Z",
     "iopub.status.busy": "2021-03-18T12:54:56.554369Z",
     "iopub.status.idle": "2021-03-18T12:54:56.557348Z",
     "shell.execute_reply": "2021-03-18T12:54:56.557767Z"
    }
   },
   "outputs": [],
   "source": [
    "add = {'location':'California','doses':dataJson[0]['dataValues'][2]}"
   ]
  },
  {
   "cell_type": "code",
   "execution_count": 12,
   "metadata": {
    "execution": {
     "iopub.execute_input": "2021-03-18T12:54:56.569205Z",
     "iopub.status.busy": "2021-03-18T12:54:56.568648Z",
     "iopub.status.idle": "2021-03-18T12:54:56.583702Z",
     "shell.execute_reply": "2021-03-18T12:54:56.582876Z"
    }
   },
   "outputs": [],
   "source": [
    "df = df.append(add, ignore_index=True)"
   ]
  },
  {
   "cell_type": "code",
   "execution_count": 13,
   "metadata": {
    "execution": {
     "iopub.execute_input": "2021-03-18T12:54:56.588105Z",
     "iopub.status.busy": "2021-03-18T12:54:56.587582Z",
     "iopub.status.idle": "2021-03-18T12:54:56.590654Z",
     "shell.execute_reply": "2021-03-18T12:54:56.591089Z"
    }
   },
   "outputs": [],
   "source": [
    "df = df.sort_values(by='location')"
   ]
  },
  {
   "cell_type": "code",
   "execution_count": 14,
   "metadata": {
    "execution": {
     "iopub.execute_input": "2021-03-18T12:54:56.597058Z",
     "iopub.status.busy": "2021-03-18T12:54:56.596534Z",
     "iopub.status.idle": "2021-03-18T12:54:56.599822Z",
     "shell.execute_reply": "2021-03-18T12:54:56.599361Z"
    }
   },
   "outputs": [],
   "source": [
    "df = df[df.location == 'California'].append(df[df.location != 'California']).reset_index(drop=True)"
   ]
  },
  {
   "cell_type": "code",
   "execution_count": null,
   "metadata": {},
   "outputs": [],
   "source": []
  },
  {
   "cell_type": "code",
   "execution_count": 15,
   "metadata": {
    "execution": {
     "iopub.execute_input": "2021-03-18T12:54:56.603416Z",
     "iopub.status.busy": "2021-03-18T12:54:56.602632Z",
     "iopub.status.idle": "2021-03-18T12:54:56.621667Z",
     "shell.execute_reply": "2021-03-18T12:54:56.621220Z"
    }
   },
   "outputs": [],
   "source": [
    "tz = pytz.timezone(\"America/New_York\")"
   ]
  },
  {
   "cell_type": "code",
   "execution_count": 16,
   "metadata": {
    "execution": {
     "iopub.execute_input": "2021-03-18T12:54:56.625344Z",
     "iopub.status.busy": "2021-03-18T12:54:56.624828Z",
     "iopub.status.idle": "2021-03-18T12:54:56.627690Z",
     "shell.execute_reply": "2021-03-18T12:54:56.628097Z"
    }
   },
   "outputs": [],
   "source": [
    "today = datetime.now(tz).date()"
   ]
  },
  {
   "cell_type": "code",
   "execution_count": 17,
   "metadata": {
    "execution": {
     "iopub.execute_input": "2021-03-18T12:54:56.631685Z",
     "iopub.status.busy": "2021-03-18T12:54:56.631168Z",
     "iopub.status.idle": "2021-03-18T12:54:56.634536Z",
     "shell.execute_reply": "2021-03-18T12:54:56.634080Z"
    }
   },
   "outputs": [],
   "source": [
    "data_dir = os.path.join(os.path.abspath(\"\"), \"data\")"
   ]
  },
  {
   "cell_type": "code",
   "execution_count": 18,
   "metadata": {
    "execution": {
     "iopub.execute_input": "2021-03-18T12:54:56.639590Z",
     "iopub.status.busy": "2021-03-18T12:54:56.637844Z",
     "iopub.status.idle": "2021-03-18T12:54:57.116422Z",
     "shell.execute_reply": "2021-03-18T12:54:57.115620Z"
    }
   },
   "outputs": [],
   "source": [
    "df.to_csv(os.path.join(data_dir, f\"{today}.csv\"), index=False)"
   ]
  },
  {
   "cell_type": "code",
   "execution_count": null,
   "metadata": {},
   "outputs": [],
   "source": []
  }
 ],
 "metadata": {
  "kernelspec": {
   "display_name": "Python 3",
   "language": "python",
   "name": "python3"
  },
  "language_info": {
   "codemirror_mode": {
    "name": "ipython",
    "version": 3
   },
   "file_extension": ".py",
   "mimetype": "text/x-python",
   "name": "python",
   "nbconvert_exporter": "python",
   "pygments_lexer": "ipython3",
   "version": "3.8.8"
  }
 },
 "nbformat": 4,
 "nbformat_minor": 4
}
