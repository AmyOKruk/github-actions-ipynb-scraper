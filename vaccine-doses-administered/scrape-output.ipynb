{
 "cells": [
  {
   "cell_type": "markdown",
   "metadata": {},
   "source": [
    "# California COVID vaccinations scrape"
   ]
  },
  {
   "cell_type": "markdown",
   "metadata": {},
   "source": [
    "By [Amy O'Kruk](https://twitter.com/amyokruk)"
   ]
  },
  {
   "cell_type": "markdown",
   "metadata": {},
   "source": [
    "Downloads data on vaccine doses administered by county and statewide from a Tableau-powered dashboard from the California Department of Public Health."
   ]
  },
  {
   "cell_type": "code",
   "execution_count": 1,
   "metadata": {
    "execution": {
     "iopub.execute_input": "2021-03-10T00:30:07.661335Z",
     "iopub.status.busy": "2021-03-10T00:30:07.660545Z",
     "iopub.status.idle": "2021-03-10T00:30:08.176747Z",
     "shell.execute_reply": "2021-03-10T00:30:08.175612Z"
    }
   },
   "outputs": [],
   "source": [
    "import pandas as pd\n",
    "import requests\n",
    "from bs4 import BeautifulSoup\n",
    "import json\n",
    "import re\n",
    "import time\n",
    "from time import gmtime, strftime \n",
    "import os\n",
    "import pytz\n",
    "from datetime import datetime"
   ]
  },
  {
   "cell_type": "markdown",
   "metadata": {},
   "source": [
    "Scrape the dashboard page"
   ]
  },
  {
   "cell_type": "code",
   "execution_count": 2,
   "metadata": {
    "execution": {
     "iopub.execute_input": "2021-03-10T00:30:08.184584Z",
     "iopub.status.busy": "2021-03-10T00:30:08.183915Z",
     "iopub.status.idle": "2021-03-10T00:30:08.634758Z",
     "shell.execute_reply": "2021-03-10T00:30:08.634164Z"
    }
   },
   "outputs": [],
   "source": [
    "url = \"https://public.tableau.com/interactive/views/COVID-19VaccineDashboardPublic/Vaccine?:embed=y&:showVizHome=n&:apiID=host0\"\n",
    "\n",
    "r = requests.get(url)\n",
    "soup = BeautifulSoup(r.text, \"html.parser\")"
   ]
  },
  {
   "cell_type": "code",
   "execution_count": 3,
   "metadata": {
    "execution": {
     "iopub.execute_input": "2021-03-10T00:30:08.640377Z",
     "iopub.status.busy": "2021-03-10T00:30:08.639733Z",
     "iopub.status.idle": "2021-03-10T00:30:08.644134Z",
     "shell.execute_reply": "2021-03-10T00:30:08.643558Z"
    }
   },
   "outputs": [],
   "source": [
    "tableauData = json.loads(soup.find(\"textarea\",{\"id\": \"tsConfigContainer\"}).text)"
   ]
  },
  {
   "cell_type": "markdown",
   "metadata": {},
   "source": [
    "Get the link to the Tableau data"
   ]
  },
  {
   "cell_type": "code",
   "execution_count": 4,
   "metadata": {
    "execution": {
     "iopub.execute_input": "2021-03-10T00:30:08.648755Z",
     "iopub.status.busy": "2021-03-10T00:30:08.648050Z",
     "iopub.status.idle": "2021-03-10T00:30:08.652633Z",
     "shell.execute_reply": "2021-03-10T00:30:08.651943Z"
    }
   },
   "outputs": [],
   "source": [
    "dataUrl = f'https://public.tableau.com{tableauData[\"vizql_root\"]}/bootstrapSession/sessions/{tableauData[\"sessionid\"]}'"
   ]
  },
  {
   "cell_type": "code",
   "execution_count": 5,
   "metadata": {
    "execution": {
     "iopub.execute_input": "2021-03-10T00:30:08.660225Z",
     "iopub.status.busy": "2021-03-10T00:30:08.659601Z",
     "iopub.status.idle": "2021-03-10T00:30:09.216030Z",
     "shell.execute_reply": "2021-03-10T00:30:09.215476Z"
    }
   },
   "outputs": [],
   "source": [
    "r = requests.post(dataUrl, data= {\n",
    "    \"sheet_id\": tableauData[\"sheetId\"],\n",
    "})\n",
    "\n",
    "dataReg = re.search('\\d+;({.*})\\d+;({.*})', r.text, re.MULTILINE)\n",
    "data1 = json.loads(dataReg.group(2))\n",
    "\n",
    "dataJson = data1[\"secondaryInfo\"][\"presModelMap\"][\"dataDictionary\"][\"presModelHolder\"][\"genDataDictionaryPresModel\"][\"dataSegments\"][\"0\"][\"dataColumns\"]"
   ]
  },
  {
   "cell_type": "markdown",
   "metadata": {},
   "source": [
    "Isolate what you want"
   ]
  },
  {
   "cell_type": "code",
   "execution_count": 6,
   "metadata": {
    "execution": {
     "iopub.execute_input": "2021-03-10T00:30:09.221293Z",
     "iopub.status.busy": "2021-03-10T00:30:09.219772Z",
     "iopub.status.idle": "2021-03-10T00:30:09.221987Z",
     "shell.execute_reply": "2021-03-10T00:30:09.222518Z"
    }
   },
   "outputs": [],
   "source": [
    "counties = dataJson[2]['dataValues'][:58]"
   ]
  },
  {
   "cell_type": "code",
   "execution_count": 7,
   "metadata": {
    "execution": {
     "iopub.execute_input": "2021-03-10T00:30:09.227783Z",
     "iopub.status.busy": "2021-03-10T00:30:09.226295Z",
     "iopub.status.idle": "2021-03-10T00:30:09.228470Z",
     "shell.execute_reply": "2021-03-10T00:30:09.228986Z"
    }
   },
   "outputs": [],
   "source": [
    "doses = dataJson[0]['dataValues'][3:61]"
   ]
  },
  {
   "cell_type": "markdown",
   "metadata": {},
   "source": [
    "Data formatting"
   ]
  },
  {
   "cell_type": "code",
   "execution_count": 8,
   "metadata": {
    "execution": {
     "iopub.execute_input": "2021-03-10T00:30:09.233944Z",
     "iopub.status.busy": "2021-03-10T00:30:09.232359Z",
     "iopub.status.idle": "2021-03-10T00:30:09.234626Z",
     "shell.execute_reply": "2021-03-10T00:30:09.235169Z"
    }
   },
   "outputs": [],
   "source": [
    "zipped = dict(zip(counties, doses))"
   ]
  },
  {
   "cell_type": "code",
   "execution_count": 9,
   "metadata": {
    "execution": {
     "iopub.execute_input": "2021-03-10T00:30:09.242445Z",
     "iopub.status.busy": "2021-03-10T00:30:09.241033Z",
     "iopub.status.idle": "2021-03-10T00:30:09.243234Z",
     "shell.execute_reply": "2021-03-10T00:30:09.243794Z"
    }
   },
   "outputs": [],
   "source": [
    "df = pd.Series(zipped).reset_index()"
   ]
  },
  {
   "cell_type": "code",
   "execution_count": 10,
   "metadata": {
    "execution": {
     "iopub.execute_input": "2021-03-10T00:30:09.248900Z",
     "iopub.status.busy": "2021-03-10T00:30:09.247472Z",
     "iopub.status.idle": "2021-03-10T00:30:09.249599Z",
     "shell.execute_reply": "2021-03-10T00:30:09.250700Z"
    }
   },
   "outputs": [],
   "source": [
    "df.columns = ['location','doses']"
   ]
  },
  {
   "cell_type": "markdown",
   "metadata": {},
   "source": [
    "Grab the overall California total"
   ]
  },
  {
   "cell_type": "code",
   "execution_count": 11,
   "metadata": {
    "execution": {
     "iopub.execute_input": "2021-03-10T00:30:09.255966Z",
     "iopub.status.busy": "2021-03-10T00:30:09.254458Z",
     "iopub.status.idle": "2021-03-10T00:30:09.256842Z",
     "shell.execute_reply": "2021-03-10T00:30:09.257431Z"
    }
   },
   "outputs": [],
   "source": [
    "add = {'location':'California','doses':dataJson[0]['dataValues'][2]}"
   ]
  },
  {
   "cell_type": "code",
   "execution_count": 12,
   "metadata": {
    "execution": {
     "iopub.execute_input": "2021-03-10T00:30:09.266033Z",
     "iopub.status.busy": "2021-03-10T00:30:09.264596Z",
     "iopub.status.idle": "2021-03-10T00:30:09.266752Z",
     "shell.execute_reply": "2021-03-10T00:30:09.267359Z"
    }
   },
   "outputs": [],
   "source": [
    "df = df.append(add, ignore_index=True)"
   ]
  },
  {
   "cell_type": "code",
   "execution_count": 13,
   "metadata": {
    "execution": {
     "iopub.execute_input": "2021-03-10T00:30:09.273038Z",
     "iopub.status.busy": "2021-03-10T00:30:09.271795Z",
     "iopub.status.idle": "2021-03-10T00:30:09.274220Z",
     "shell.execute_reply": "2021-03-10T00:30:09.274699Z"
    }
   },
   "outputs": [],
   "source": [
    "df = df.sort_values(by='location')"
   ]
  },
  {
   "cell_type": "code",
   "execution_count": 14,
   "metadata": {
    "execution": {
     "iopub.execute_input": "2021-03-10T00:30:09.282337Z",
     "iopub.status.busy": "2021-03-10T00:30:09.280807Z",
     "iopub.status.idle": "2021-03-10T00:30:09.283078Z",
     "shell.execute_reply": "2021-03-10T00:30:09.283628Z"
    }
   },
   "outputs": [],
   "source": [
    "df = df[df.location == 'California'].append(df[df.location != 'California']).reset_index(drop=True)"
   ]
  },
  {
   "cell_type": "code",
   "execution_count": null,
   "metadata": {},
   "outputs": [],
   "source": []
  },
  {
   "cell_type": "code",
   "execution_count": 15,
   "metadata": {
    "execution": {
     "iopub.execute_input": "2021-03-10T00:30:09.298423Z",
     "iopub.status.busy": "2021-03-10T00:30:09.287134Z",
     "iopub.status.idle": "2021-03-10T00:30:09.311293Z",
     "shell.execute_reply": "2021-03-10T00:30:09.311850Z"
    }
   },
   "outputs": [],
   "source": [
    "tz = pytz.timezone(\"America/New_York\")"
   ]
  },
  {
   "cell_type": "code",
   "execution_count": 16,
   "metadata": {
    "execution": {
     "iopub.execute_input": "2021-03-10T00:30:09.317386Z",
     "iopub.status.busy": "2021-03-10T00:30:09.315865Z",
     "iopub.status.idle": "2021-03-10T00:30:09.318124Z",
     "shell.execute_reply": "2021-03-10T00:30:09.318643Z"
    }
   },
   "outputs": [],
   "source": [
    "today = datetime.now(tz).date()"
   ]
  },
  {
   "cell_type": "code",
   "execution_count": 17,
   "metadata": {
    "execution": {
     "iopub.execute_input": "2021-03-10T00:30:09.323585Z",
     "iopub.status.busy": "2021-03-10T00:30:09.322687Z",
     "iopub.status.idle": "2021-03-10T00:30:09.326527Z",
     "shell.execute_reply": "2021-03-10T00:30:09.327042Z"
    }
   },
   "outputs": [],
   "source": [
    "data_dir = os.path.join(os.path.abspath(\"\"), \"data\")"
   ]
  },
  {
   "cell_type": "code",
   "execution_count": 18,
   "metadata": {
    "execution": {
     "iopub.execute_input": "2021-03-10T00:30:09.332183Z",
     "iopub.status.busy": "2021-03-10T00:30:09.331467Z",
     "iopub.status.idle": "2021-03-10T00:30:09.338094Z",
     "shell.execute_reply": "2021-03-10T00:30:09.337542Z"
    }
   },
   "outputs": [],
   "source": [
    "df.to_csv(os.path.join(data_dir, f\"{today}.csv\"), index=False)"
   ]
  },
  {
   "cell_type": "code",
   "execution_count": null,
   "metadata": {},
   "outputs": [],
   "source": []
  }
 ],
 "metadata": {
  "kernelspec": {
   "display_name": "Python 3",
   "language": "python",
   "name": "python3"
  },
  "language_info": {
   "codemirror_mode": {
    "name": "ipython",
    "version": 3
   },
   "file_extension": ".py",
   "mimetype": "text/x-python",
   "name": "python",
   "nbconvert_exporter": "python",
   "pygments_lexer": "ipython3",
   "version": "3.8.8"
  }
 },
 "nbformat": 4,
 "nbformat_minor": 4
}
