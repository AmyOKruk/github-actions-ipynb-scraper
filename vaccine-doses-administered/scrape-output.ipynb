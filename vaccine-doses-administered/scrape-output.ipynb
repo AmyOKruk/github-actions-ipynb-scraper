{
 "cells": [
  {
   "cell_type": "markdown",
   "metadata": {},
   "source": [
    "# California COVID vaccinations scrape"
   ]
  },
  {
   "cell_type": "markdown",
   "metadata": {},
   "source": [
    "By [Amy O'Kruk](https://twitter.com/amyokruk)"
   ]
  },
  {
   "cell_type": "markdown",
   "metadata": {},
   "source": [
    "Downloads data on vaccine doses administered by county and statewide from a Tableau-powered dashboard from the California Department of Public Health."
   ]
  },
  {
   "cell_type": "code",
   "execution_count": 1,
   "metadata": {
    "execution": {
     "iopub.execute_input": "2021-03-13T04:15:47.537883Z",
     "iopub.status.busy": "2021-03-13T04:15:47.537244Z",
     "iopub.status.idle": "2021-03-13T04:15:48.026750Z",
     "shell.execute_reply": "2021-03-13T04:15:48.025788Z"
    }
   },
   "outputs": [],
   "source": [
    "import pandas as pd\n",
    "import requests\n",
    "from bs4 import BeautifulSoup\n",
    "import json\n",
    "import re\n",
    "import time\n",
    "from time import gmtime, strftime \n",
    "import os\n",
    "import pytz\n",
    "from datetime import datetime"
   ]
  },
  {
   "cell_type": "markdown",
   "metadata": {},
   "source": [
    "Scrape the dashboard page"
   ]
  },
  {
   "cell_type": "code",
   "execution_count": 2,
   "metadata": {
    "execution": {
     "iopub.execute_input": "2021-03-13T04:15:48.033602Z",
     "iopub.status.busy": "2021-03-13T04:15:48.033031Z",
     "iopub.status.idle": "2021-03-13T04:15:48.682974Z",
     "shell.execute_reply": "2021-03-13T04:15:48.681968Z"
    }
   },
   "outputs": [],
   "source": [
    "url = \"https://public.tableau.com/interactive/views/COVID-19VaccineDashboardPublic/Vaccine?:embed=y&:showVizHome=n&:apiID=host0\"\n",
    "\n",
    "r = requests.get(url)\n",
    "soup = BeautifulSoup(r.text, \"html.parser\")"
   ]
  },
  {
   "cell_type": "code",
   "execution_count": 3,
   "metadata": {
    "execution": {
     "iopub.execute_input": "2021-03-13T04:15:48.688130Z",
     "iopub.status.busy": "2021-03-13T04:15:48.687601Z",
     "iopub.status.idle": "2021-03-13T04:15:48.691200Z",
     "shell.execute_reply": "2021-03-13T04:15:48.690740Z"
    }
   },
   "outputs": [],
   "source": [
    "tableauData = json.loads(soup.find(\"textarea\",{\"id\": \"tsConfigContainer\"}).text)"
   ]
  },
  {
   "cell_type": "markdown",
   "metadata": {},
   "source": [
    "Get the link to the Tableau data"
   ]
  },
  {
   "cell_type": "code",
   "execution_count": 4,
   "metadata": {
    "execution": {
     "iopub.execute_input": "2021-03-13T04:15:48.694866Z",
     "iopub.status.busy": "2021-03-13T04:15:48.694350Z",
     "iopub.status.idle": "2021-03-13T04:15:48.697635Z",
     "shell.execute_reply": "2021-03-13T04:15:48.697188Z"
    }
   },
   "outputs": [],
   "source": [
    "dataUrl = f'https://public.tableau.com{tableauData[\"vizql_root\"]}/bootstrapSession/sessions/{tableauData[\"sessionid\"]}'"
   ]
  },
  {
   "cell_type": "code",
   "execution_count": 5,
   "metadata": {
    "execution": {
     "iopub.execute_input": "2021-03-13T04:15:48.703991Z",
     "iopub.status.busy": "2021-03-13T04:15:48.703455Z",
     "iopub.status.idle": "2021-03-13T04:15:49.230369Z",
     "shell.execute_reply": "2021-03-13T04:15:49.231122Z"
    }
   },
   "outputs": [],
   "source": [
    "r = requests.post(dataUrl, data= {\n",
    "    \"sheet_id\": tableauData[\"sheetId\"],\n",
    "})\n",
    "\n",
    "dataReg = re.search('\\d+;({.*})\\d+;({.*})', r.text, re.MULTILINE)\n",
    "data1 = json.loads(dataReg.group(2))\n",
    "\n",
    "dataJson = data1[\"secondaryInfo\"][\"presModelMap\"][\"dataDictionary\"][\"presModelHolder\"][\"genDataDictionaryPresModel\"][\"dataSegments\"][\"0\"][\"dataColumns\"]"
   ]
  },
  {
   "cell_type": "markdown",
   "metadata": {},
   "source": [
    "Isolate what you want"
   ]
  },
  {
   "cell_type": "code",
   "execution_count": 6,
   "metadata": {
    "execution": {
     "iopub.execute_input": "2021-03-13T04:15:49.237027Z",
     "iopub.status.busy": "2021-03-13T04:15:49.235918Z",
     "iopub.status.idle": "2021-03-13T04:15:49.237979Z",
     "shell.execute_reply": "2021-03-13T04:15:49.237486Z"
    }
   },
   "outputs": [],
   "source": [
    "counties = dataJson[2]['dataValues'][:58]"
   ]
  },
  {
   "cell_type": "code",
   "execution_count": 7,
   "metadata": {
    "execution": {
     "iopub.execute_input": "2021-03-13T04:15:49.242223Z",
     "iopub.status.busy": "2021-03-13T04:15:49.241008Z",
     "iopub.status.idle": "2021-03-13T04:15:49.242820Z",
     "shell.execute_reply": "2021-03-13T04:15:49.243251Z"
    }
   },
   "outputs": [],
   "source": [
    "doses = dataJson[0]['dataValues'][3:61]"
   ]
  },
  {
   "cell_type": "markdown",
   "metadata": {},
   "source": [
    "Data formatting"
   ]
  },
  {
   "cell_type": "code",
   "execution_count": 8,
   "metadata": {
    "execution": {
     "iopub.execute_input": "2021-03-13T04:15:49.247409Z",
     "iopub.status.busy": "2021-03-13T04:15:49.246313Z",
     "iopub.status.idle": "2021-03-13T04:15:49.248004Z",
     "shell.execute_reply": "2021-03-13T04:15:49.248433Z"
    }
   },
   "outputs": [],
   "source": [
    "zipped = dict(zip(counties, doses))"
   ]
  },
  {
   "cell_type": "code",
   "execution_count": 9,
   "metadata": {
    "execution": {
     "iopub.execute_input": "2021-03-13T04:15:49.254700Z",
     "iopub.status.busy": "2021-03-13T04:15:49.253484Z",
     "iopub.status.idle": "2021-03-13T04:15:49.255305Z",
     "shell.execute_reply": "2021-03-13T04:15:49.255704Z"
    }
   },
   "outputs": [],
   "source": [
    "df = pd.Series(zipped).reset_index()"
   ]
  },
  {
   "cell_type": "code",
   "execution_count": 10,
   "metadata": {
    "execution": {
     "iopub.execute_input": "2021-03-13T04:15:49.260110Z",
     "iopub.status.busy": "2021-03-13T04:15:49.258943Z",
     "iopub.status.idle": "2021-03-13T04:15:49.260688Z",
     "shell.execute_reply": "2021-03-13T04:15:49.261084Z"
    }
   },
   "outputs": [],
   "source": [
    "df.columns = ['location','doses']"
   ]
  },
  {
   "cell_type": "markdown",
   "metadata": {},
   "source": [
    "Grab the overall California total"
   ]
  },
  {
   "cell_type": "code",
   "execution_count": 11,
   "metadata": {
    "execution": {
     "iopub.execute_input": "2021-03-13T04:15:49.265305Z",
     "iopub.status.busy": "2021-03-13T04:15:49.264211Z",
     "iopub.status.idle": "2021-03-13T04:15:49.265909Z",
     "shell.execute_reply": "2021-03-13T04:15:49.266330Z"
    }
   },
   "outputs": [],
   "source": [
    "add = {'location':'California','doses':dataJson[0]['dataValues'][2]}"
   ]
  },
  {
   "cell_type": "code",
   "execution_count": 12,
   "metadata": {
    "execution": {
     "iopub.execute_input": "2021-03-13T04:15:49.273215Z",
     "iopub.status.busy": "2021-03-13T04:15:49.272108Z",
     "iopub.status.idle": "2021-03-13T04:15:49.273831Z",
     "shell.execute_reply": "2021-03-13T04:15:49.274263Z"
    }
   },
   "outputs": [],
   "source": [
    "df = df.append(add, ignore_index=True)"
   ]
  },
  {
   "cell_type": "code",
   "execution_count": 13,
   "metadata": {
    "execution": {
     "iopub.execute_input": "2021-03-13T04:15:49.278881Z",
     "iopub.status.busy": "2021-03-13T04:15:49.277860Z",
     "iopub.status.idle": "2021-03-13T04:15:49.279489Z",
     "shell.execute_reply": "2021-03-13T04:15:49.279915Z"
    }
   },
   "outputs": [],
   "source": [
    "df = df.sort_values(by='location')"
   ]
  },
  {
   "cell_type": "code",
   "execution_count": 14,
   "metadata": {
    "execution": {
     "iopub.execute_input": "2021-03-13T04:15:49.286061Z",
     "iopub.status.busy": "2021-03-13T04:15:49.284926Z",
     "iopub.status.idle": "2021-03-13T04:15:49.286630Z",
     "shell.execute_reply": "2021-03-13T04:15:49.287029Z"
    }
   },
   "outputs": [],
   "source": [
    "df = df[df.location == 'California'].append(df[df.location != 'California']).reset_index(drop=True)"
   ]
  },
  {
   "cell_type": "code",
   "execution_count": null,
   "metadata": {},
   "outputs": [],
   "source": []
  },
  {
   "cell_type": "code",
   "execution_count": 15,
   "metadata": {
    "execution": {
     "iopub.execute_input": "2021-03-13T04:15:49.290445Z",
     "iopub.status.busy": "2021-03-13T04:15:49.289929Z",
     "iopub.status.idle": "2021-03-13T04:15:49.306500Z",
     "shell.execute_reply": "2021-03-13T04:15:49.306040Z"
    }
   },
   "outputs": [],
   "source": [
    "tz = pytz.timezone(\"America/New_York\")"
   ]
  },
  {
   "cell_type": "code",
   "execution_count": 16,
   "metadata": {
    "execution": {
     "iopub.execute_input": "2021-03-13T04:15:49.310478Z",
     "iopub.status.busy": "2021-03-13T04:15:49.309334Z",
     "iopub.status.idle": "2021-03-13T04:15:49.311029Z",
     "shell.execute_reply": "2021-03-13T04:15:49.311426Z"
    }
   },
   "outputs": [],
   "source": [
    "today = datetime.now(tz).date()"
   ]
  },
  {
   "cell_type": "code",
   "execution_count": 17,
   "metadata": {
    "execution": {
     "iopub.execute_input": "2021-03-13T04:15:49.315806Z",
     "iopub.status.busy": "2021-03-13T04:15:49.314513Z",
     "iopub.status.idle": "2021-03-13T04:15:49.316402Z",
     "shell.execute_reply": "2021-03-13T04:15:49.316832Z"
    }
   },
   "outputs": [],
   "source": [
    "data_dir = os.path.join(os.path.abspath(\"\"), \"data\")"
   ]
  },
  {
   "cell_type": "code",
   "execution_count": 18,
   "metadata": {
    "execution": {
     "iopub.execute_input": "2021-03-13T04:15:49.321125Z",
     "iopub.status.busy": "2021-03-13T04:15:49.320119Z",
     "iopub.status.idle": "2021-03-13T04:15:49.324464Z",
     "shell.execute_reply": "2021-03-13T04:15:49.323945Z"
    }
   },
   "outputs": [],
   "source": [
    "df.to_csv(os.path.join(data_dir, f\"{today}.csv\"), index=False)"
   ]
  },
  {
   "cell_type": "code",
   "execution_count": null,
   "metadata": {},
   "outputs": [],
   "source": []
  }
 ],
 "metadata": {
  "kernelspec": {
   "display_name": "Python 3",
   "language": "python",
   "name": "python3"
  },
  "language_info": {
   "codemirror_mode": {
    "name": "ipython",
    "version": 3
   },
   "file_extension": ".py",
   "mimetype": "text/x-python",
   "name": "python",
   "nbconvert_exporter": "python",
   "pygments_lexer": "ipython3",
   "version": "3.8.8"
  }
 },
 "nbformat": 4,
 "nbformat_minor": 4
}
