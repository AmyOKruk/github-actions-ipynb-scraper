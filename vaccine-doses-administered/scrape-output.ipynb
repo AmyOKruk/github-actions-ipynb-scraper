{
 "cells": [
  {
   "cell_type": "markdown",
   "metadata": {},
   "source": [
    "# California COVID vaccinations scrape"
   ]
  },
  {
   "cell_type": "markdown",
   "metadata": {},
   "source": [
    "By [Amy O'Kruk](https://twitter.com/amyokruk)"
   ]
  },
  {
   "cell_type": "markdown",
   "metadata": {},
   "source": [
    "Downloads data on vaccine doses administered by county and statewide from a Tableau-powered dashboard from the California Department of Public Health."
   ]
  },
  {
   "cell_type": "code",
   "execution_count": 1,
   "metadata": {
    "execution": {
     "iopub.execute_input": "2021-03-18T12:17:10.894970Z",
     "iopub.status.busy": "2021-03-18T12:17:10.894257Z",
     "iopub.status.idle": "2021-03-18T12:17:11.461397Z",
     "shell.execute_reply": "2021-03-18T12:17:11.460239Z"
    }
   },
   "outputs": [],
   "source": [
    "import pandas as pd\n",
    "import requests\n",
    "from bs4 import BeautifulSoup\n",
    "import json\n",
    "import re\n",
    "import time\n",
    "from time import gmtime, strftime \n",
    "import os\n",
    "import pytz\n",
    "from datetime import datetime"
   ]
  },
  {
   "cell_type": "markdown",
   "metadata": {},
   "source": [
    "Scrape the dashboard page"
   ]
  },
  {
   "cell_type": "code",
   "execution_count": 2,
   "metadata": {
    "execution": {
     "iopub.execute_input": "2021-03-18T12:17:11.468739Z",
     "iopub.status.busy": "2021-03-18T12:17:11.465318Z",
     "iopub.status.idle": "2021-03-18T12:17:16.915389Z",
     "shell.execute_reply": "2021-03-18T12:17:16.914819Z"
    }
   },
   "outputs": [],
   "source": [
    "url = \"https://public.tableau.com/interactive/views/COVID-19VaccineDashboardPublic/Vaccine?:embed=y&:showVizHome=n&:apiID=host0\"\n",
    "\n",
    "r = requests.get(url)\n",
    "soup = BeautifulSoup(r.text, \"html.parser\")"
   ]
  },
  {
   "cell_type": "code",
   "execution_count": 3,
   "metadata": {
    "execution": {
     "iopub.execute_input": "2021-03-18T12:17:16.921180Z",
     "iopub.status.busy": "2021-03-18T12:17:16.920570Z",
     "iopub.status.idle": "2021-03-18T12:17:16.924522Z",
     "shell.execute_reply": "2021-03-18T12:17:16.925233Z"
    }
   },
   "outputs": [],
   "source": [
    "tableauData = json.loads(soup.find(\"textarea\",{\"id\": \"tsConfigContainer\"}).text)"
   ]
  },
  {
   "cell_type": "markdown",
   "metadata": {},
   "source": [
    "Get the link to the Tableau data"
   ]
  },
  {
   "cell_type": "code",
   "execution_count": 4,
   "metadata": {
    "execution": {
     "iopub.execute_input": "2021-03-18T12:17:16.930394Z",
     "iopub.status.busy": "2021-03-18T12:17:16.928801Z",
     "iopub.status.idle": "2021-03-18T12:17:16.931300Z",
     "shell.execute_reply": "2021-03-18T12:17:16.932139Z"
    }
   },
   "outputs": [],
   "source": [
    "dataUrl = f'https://public.tableau.com{tableauData[\"vizql_root\"]}/bootstrapSession/sessions/{tableauData[\"sessionid\"]}'"
   ]
  },
  {
   "cell_type": "code",
   "execution_count": 5,
   "metadata": {
    "execution": {
     "iopub.execute_input": "2021-03-18T12:17:16.941865Z",
     "iopub.status.busy": "2021-03-18T12:17:16.941196Z",
     "iopub.status.idle": "2021-03-18T12:17:17.422718Z",
     "shell.execute_reply": "2021-03-18T12:17:17.421923Z"
    }
   },
   "outputs": [],
   "source": [
    "r = requests.post(dataUrl, data= {\n",
    "    \"sheet_id\": tableauData[\"sheetId\"],\n",
    "})\n",
    "\n",
    "dataReg = re.search('\\d+;({.*})\\d+;({.*})', r.text, re.MULTILINE)\n",
    "data1 = json.loads(dataReg.group(2))\n",
    "\n",
    "dataJson = data1[\"secondaryInfo\"][\"presModelMap\"][\"dataDictionary\"][\"presModelHolder\"][\"genDataDictionaryPresModel\"][\"dataSegments\"][\"0\"][\"dataColumns\"]"
   ]
  },
  {
   "cell_type": "markdown",
   "metadata": {},
   "source": [
    "Isolate what you want"
   ]
  },
  {
   "cell_type": "code",
   "execution_count": 6,
   "metadata": {
    "execution": {
     "iopub.execute_input": "2021-03-18T12:17:17.427046Z",
     "iopub.status.busy": "2021-03-18T12:17:17.426442Z",
     "iopub.status.idle": "2021-03-18T12:17:17.429484Z",
     "shell.execute_reply": "2021-03-18T12:17:17.428499Z"
    }
   },
   "outputs": [],
   "source": [
    "counties = dataJson[2]['dataValues'][:58]"
   ]
  },
  {
   "cell_type": "code",
   "execution_count": 7,
   "metadata": {
    "execution": {
     "iopub.execute_input": "2021-03-18T12:17:17.433513Z",
     "iopub.status.busy": "2021-03-18T12:17:17.432879Z",
     "iopub.status.idle": "2021-03-18T12:17:17.437475Z",
     "shell.execute_reply": "2021-03-18T12:17:17.436829Z"
    }
   },
   "outputs": [],
   "source": [
    "doses = dataJson[0]['dataValues'][3:61]"
   ]
  },
  {
   "cell_type": "markdown",
   "metadata": {},
   "source": [
    "Data formatting"
   ]
  },
  {
   "cell_type": "code",
   "execution_count": 8,
   "metadata": {
    "execution": {
     "iopub.execute_input": "2021-03-18T12:17:17.442267Z",
     "iopub.status.busy": "2021-03-18T12:17:17.441661Z",
     "iopub.status.idle": "2021-03-18T12:17:17.445563Z",
     "shell.execute_reply": "2021-03-18T12:17:17.445033Z"
    }
   },
   "outputs": [],
   "source": [
    "zipped = dict(zip(counties, doses))"
   ]
  },
  {
   "cell_type": "code",
   "execution_count": 9,
   "metadata": {
    "execution": {
     "iopub.execute_input": "2021-03-18T12:17:17.453052Z",
     "iopub.status.busy": "2021-03-18T12:17:17.451631Z",
     "iopub.status.idle": "2021-03-18T12:17:17.453906Z",
     "shell.execute_reply": "2021-03-18T12:17:17.454410Z"
    }
   },
   "outputs": [],
   "source": [
    "df = pd.Series(zipped).reset_index()"
   ]
  },
  {
   "cell_type": "code",
   "execution_count": 10,
   "metadata": {
    "execution": {
     "iopub.execute_input": "2021-03-18T12:17:17.459868Z",
     "iopub.status.busy": "2021-03-18T12:17:17.458491Z",
     "iopub.status.idle": "2021-03-18T12:17:17.460559Z",
     "shell.execute_reply": "2021-03-18T12:17:17.461051Z"
    }
   },
   "outputs": [],
   "source": [
    "df.columns = ['location','doses']"
   ]
  },
  {
   "cell_type": "markdown",
   "metadata": {},
   "source": [
    "Grab the overall California total"
   ]
  },
  {
   "cell_type": "code",
   "execution_count": 11,
   "metadata": {
    "execution": {
     "iopub.execute_input": "2021-03-18T12:17:17.466762Z",
     "iopub.status.busy": "2021-03-18T12:17:17.465161Z",
     "iopub.status.idle": "2021-03-18T12:17:17.467537Z",
     "shell.execute_reply": "2021-03-18T12:17:17.468094Z"
    }
   },
   "outputs": [],
   "source": [
    "add = {'location':'California','doses':dataJson[0]['dataValues'][2]}"
   ]
  },
  {
   "cell_type": "code",
   "execution_count": 12,
   "metadata": {
    "execution": {
     "iopub.execute_input": "2021-03-18T12:17:17.477309Z",
     "iopub.status.busy": "2021-03-18T12:17:17.475868Z",
     "iopub.status.idle": "2021-03-18T12:17:17.478127Z",
     "shell.execute_reply": "2021-03-18T12:17:17.478625Z"
    }
   },
   "outputs": [],
   "source": [
    "df = df.append(add, ignore_index=True)"
   ]
  },
  {
   "cell_type": "code",
   "execution_count": 13,
   "metadata": {
    "execution": {
     "iopub.execute_input": "2021-03-18T12:17:17.484958Z",
     "iopub.status.busy": "2021-03-18T12:17:17.483458Z",
     "iopub.status.idle": "2021-03-18T12:17:17.485756Z",
     "shell.execute_reply": "2021-03-18T12:17:17.486252Z"
    }
   },
   "outputs": [],
   "source": [
    "df = df.sort_values(by='location')"
   ]
  },
  {
   "cell_type": "code",
   "execution_count": 14,
   "metadata": {
    "execution": {
     "iopub.execute_input": "2021-03-18T12:17:17.493851Z",
     "iopub.status.busy": "2021-03-18T12:17:17.492480Z",
     "iopub.status.idle": "2021-03-18T12:17:17.494637Z",
     "shell.execute_reply": "2021-03-18T12:17:17.495166Z"
    }
   },
   "outputs": [],
   "source": [
    "df = df[df.location == 'California'].append(df[df.location != 'California']).reset_index(drop=True)"
   ]
  },
  {
   "cell_type": "code",
   "execution_count": null,
   "metadata": {},
   "outputs": [],
   "source": []
  },
  {
   "cell_type": "code",
   "execution_count": 15,
   "metadata": {
    "execution": {
     "iopub.execute_input": "2021-03-18T12:17:17.499006Z",
     "iopub.status.busy": "2021-03-18T12:17:17.498387Z",
     "iopub.status.idle": "2021-03-18T12:17:17.519640Z",
     "shell.execute_reply": "2021-03-18T12:17:17.519055Z"
    }
   },
   "outputs": [],
   "source": [
    "tz = pytz.timezone(\"America/New_York\")"
   ]
  },
  {
   "cell_type": "code",
   "execution_count": 16,
   "metadata": {
    "execution": {
     "iopub.execute_input": "2021-03-18T12:17:17.524684Z",
     "iopub.status.busy": "2021-03-18T12:17:17.523170Z",
     "iopub.status.idle": "2021-03-18T12:17:17.525372Z",
     "shell.execute_reply": "2021-03-18T12:17:17.525870Z"
    }
   },
   "outputs": [],
   "source": [
    "today = datetime.now(tz).date()"
   ]
  },
  {
   "cell_type": "code",
   "execution_count": 17,
   "metadata": {
    "execution": {
     "iopub.execute_input": "2021-03-18T12:17:17.531349Z",
     "iopub.status.busy": "2021-03-18T12:17:17.529859Z",
     "iopub.status.idle": "2021-03-18T12:17:17.532171Z",
     "shell.execute_reply": "2021-03-18T12:17:17.532704Z"
    }
   },
   "outputs": [],
   "source": [
    "data_dir = os.path.join(os.path.abspath(\"\"), \"data\")"
   ]
  },
  {
   "cell_type": "code",
   "execution_count": 18,
   "metadata": {
    "execution": {
     "iopub.execute_input": "2021-03-18T12:17:17.537952Z",
     "iopub.status.busy": "2021-03-18T12:17:17.536736Z",
     "iopub.status.idle": "2021-03-18T12:17:17.542532Z",
     "shell.execute_reply": "2021-03-18T12:17:17.542033Z"
    }
   },
   "outputs": [],
   "source": [
    "df.to_csv(os.path.join(data_dir, f\"{today}.csv\"), index=False)"
   ]
  },
  {
   "cell_type": "code",
   "execution_count": null,
   "metadata": {},
   "outputs": [],
   "source": []
  }
 ],
 "metadata": {
  "kernelspec": {
   "display_name": "Python 3",
   "language": "python",
   "name": "python3"
  },
  "language_info": {
   "codemirror_mode": {
    "name": "ipython",
    "version": 3
   },
   "file_extension": ".py",
   "mimetype": "text/x-python",
   "name": "python",
   "nbconvert_exporter": "python",
   "pygments_lexer": "ipython3",
   "version": "3.8.8"
  }
 },
 "nbformat": 4,
 "nbformat_minor": 4
}
