{
 "cells": [
  {
   "cell_type": "markdown",
   "metadata": {},
   "source": [
    "# California COVID vaccinations scrape"
   ]
  },
  {
   "cell_type": "markdown",
   "metadata": {},
   "source": [
    "By [Amy O'Kruk](https://twitter.com/amyokruk)"
   ]
  },
  {
   "cell_type": "markdown",
   "metadata": {},
   "source": [
    "Downloads data on vaccine doses administered by county and statewide from a Tableau-powered dashboard from the California Department of Public Health."
   ]
  },
  {
   "cell_type": "code",
   "execution_count": 1,
   "metadata": {
    "execution": {
     "iopub.execute_input": "2021-03-09T19:08:24.637329Z",
     "iopub.status.busy": "2021-03-09T19:08:24.636708Z",
     "iopub.status.idle": "2021-03-09T19:08:25.032820Z",
     "shell.execute_reply": "2021-03-09T19:08:25.032189Z"
    }
   },
   "outputs": [],
   "source": [
    "import pandas as pd\n",
    "import requests\n",
    "from bs4 import BeautifulSoup\n",
    "import json\n",
    "import re\n",
    "import time\n",
    "from time import gmtime, strftime \n",
    "import os\n",
    "import pytz\n",
    "from datetime import datetime"
   ]
  },
  {
   "cell_type": "markdown",
   "metadata": {},
   "source": [
    "Scrape the dashboard page"
   ]
  },
  {
   "cell_type": "code",
   "execution_count": 2,
   "metadata": {
    "execution": {
     "iopub.execute_input": "2021-03-09T19:08:25.039231Z",
     "iopub.status.busy": "2021-03-09T19:08:25.036274Z",
     "iopub.status.idle": "2021-03-09T19:08:25.565282Z",
     "shell.execute_reply": "2021-03-09T19:08:25.564192Z"
    }
   },
   "outputs": [],
   "source": [
    "url = \"https://public.tableau.com/interactive/views/COVID-19VaccineDashboardPublic/Vaccine?:embed=y&:showVizHome=n&:apiID=host0\"\n",
    "\n",
    "r = requests.get(url)\n",
    "soup = BeautifulSoup(r.text, \"html.parser\")"
   ]
  },
  {
   "cell_type": "code",
   "execution_count": 3,
   "metadata": {
    "execution": {
     "iopub.execute_input": "2021-03-09T19:08:25.572178Z",
     "iopub.status.busy": "2021-03-09T19:08:25.571271Z",
     "iopub.status.idle": "2021-03-09T19:08:25.573722Z",
     "shell.execute_reply": "2021-03-09T19:08:25.573291Z"
    }
   },
   "outputs": [],
   "source": [
    "tableauData = json.loads(soup.find(\"textarea\",{\"id\": \"tsConfigContainer\"}).text)"
   ]
  },
  {
   "cell_type": "markdown",
   "metadata": {},
   "source": [
    "Get the link to the Tableau data"
   ]
  },
  {
   "cell_type": "code",
   "execution_count": 4,
   "metadata": {
    "execution": {
     "iopub.execute_input": "2021-03-09T19:08:25.578090Z",
     "iopub.status.busy": "2021-03-09T19:08:25.576827Z",
     "iopub.status.idle": "2021-03-09T19:08:25.578699Z",
     "shell.execute_reply": "2021-03-09T19:08:25.579123Z"
    }
   },
   "outputs": [],
   "source": [
    "dataUrl = f'https://public.tableau.com{tableauData[\"vizql_root\"]}/bootstrapSession/sessions/{tableauData[\"sessionid\"]}'"
   ]
  },
  {
   "cell_type": "code",
   "execution_count": 5,
   "metadata": {
    "execution": {
     "iopub.execute_input": "2021-03-09T19:08:25.585502Z",
     "iopub.status.busy": "2021-03-09T19:08:25.584965Z",
     "iopub.status.idle": "2021-03-09T19:08:25.794740Z",
     "shell.execute_reply": "2021-03-09T19:08:25.793883Z"
    }
   },
   "outputs": [],
   "source": [
    "r = requests.post(dataUrl, data= {\n",
    "    \"sheet_id\": tableauData[\"sheetId\"],\n",
    "})\n",
    "\n",
    "dataReg = re.search('\\d+;({.*})\\d+;({.*})', r.text, re.MULTILINE)\n",
    "data1 = json.loads(dataReg.group(2))\n",
    "\n",
    "dataJson = data1[\"secondaryInfo\"][\"presModelMap\"][\"dataDictionary\"][\"presModelHolder\"][\"genDataDictionaryPresModel\"][\"dataSegments\"][\"0\"][\"dataColumns\"]"
   ]
  },
  {
   "cell_type": "markdown",
   "metadata": {},
   "source": [
    "Isolate what you want"
   ]
  },
  {
   "cell_type": "code",
   "execution_count": 6,
   "metadata": {
    "execution": {
     "iopub.execute_input": "2021-03-09T19:08:25.799672Z",
     "iopub.status.busy": "2021-03-09T19:08:25.798508Z",
     "iopub.status.idle": "2021-03-09T19:08:25.800261Z",
     "shell.execute_reply": "2021-03-09T19:08:25.800683Z"
    }
   },
   "outputs": [],
   "source": [
    "counties = dataJson[2]['dataValues'][:58]"
   ]
  },
  {
   "cell_type": "code",
   "execution_count": 7,
   "metadata": {
    "execution": {
     "iopub.execute_input": "2021-03-09T19:08:25.805303Z",
     "iopub.status.busy": "2021-03-09T19:08:25.804055Z",
     "iopub.status.idle": "2021-03-09T19:08:25.805903Z",
     "shell.execute_reply": "2021-03-09T19:08:25.806372Z"
    }
   },
   "outputs": [],
   "source": [
    "doses = dataJson[0]['dataValues'][3:61]"
   ]
  },
  {
   "cell_type": "markdown",
   "metadata": {},
   "source": [
    "Data formatting"
   ]
  },
  {
   "cell_type": "code",
   "execution_count": 8,
   "metadata": {
    "execution": {
     "iopub.execute_input": "2021-03-09T19:08:25.810960Z",
     "iopub.status.busy": "2021-03-09T19:08:25.809734Z",
     "iopub.status.idle": "2021-03-09T19:08:25.811545Z",
     "shell.execute_reply": "2021-03-09T19:08:25.811968Z"
    }
   },
   "outputs": [],
   "source": [
    "zipped = dict(zip(counties, doses))"
   ]
  },
  {
   "cell_type": "code",
   "execution_count": 9,
   "metadata": {
    "execution": {
     "iopub.execute_input": "2021-03-09T19:08:25.818862Z",
     "iopub.status.busy": "2021-03-09T19:08:25.817464Z",
     "iopub.status.idle": "2021-03-09T19:08:25.819652Z",
     "shell.execute_reply": "2021-03-09T19:08:25.820115Z"
    }
   },
   "outputs": [],
   "source": [
    "df = pd.Series(zipped).reset_index()"
   ]
  },
  {
   "cell_type": "code",
   "execution_count": 10,
   "metadata": {
    "execution": {
     "iopub.execute_input": "2021-03-09T19:08:25.824874Z",
     "iopub.status.busy": "2021-03-09T19:08:25.823664Z",
     "iopub.status.idle": "2021-03-09T19:08:25.825477Z",
     "shell.execute_reply": "2021-03-09T19:08:25.825933Z"
    }
   },
   "outputs": [],
   "source": [
    "df.columns = ['location','doses']"
   ]
  },
  {
   "cell_type": "markdown",
   "metadata": {},
   "source": [
    "Grab the overall California total"
   ]
  },
  {
   "cell_type": "code",
   "execution_count": 11,
   "metadata": {
    "execution": {
     "iopub.execute_input": "2021-03-09T19:08:25.830498Z",
     "iopub.status.busy": "2021-03-09T19:08:25.829285Z",
     "iopub.status.idle": "2021-03-09T19:08:25.831149Z",
     "shell.execute_reply": "2021-03-09T19:08:25.831575Z"
    }
   },
   "outputs": [],
   "source": [
    "add = {'location':'California','doses':dataJson[0]['dataValues'][2]}"
   ]
  },
  {
   "cell_type": "code",
   "execution_count": 12,
   "metadata": {
    "execution": {
     "iopub.execute_input": "2021-03-09T19:08:25.838957Z",
     "iopub.status.busy": "2021-03-09T19:08:25.837706Z",
     "iopub.status.idle": "2021-03-09T19:08:25.839551Z",
     "shell.execute_reply": "2021-03-09T19:08:25.839977Z"
    }
   },
   "outputs": [],
   "source": [
    "df = df.append(add, ignore_index=True)"
   ]
  },
  {
   "cell_type": "code",
   "execution_count": 13,
   "metadata": {
    "execution": {
     "iopub.execute_input": "2021-03-09T19:08:25.845005Z",
     "iopub.status.busy": "2021-03-09T19:08:25.843927Z",
     "iopub.status.idle": "2021-03-09T19:08:25.845600Z",
     "shell.execute_reply": "2021-03-09T19:08:25.846023Z"
    }
   },
   "outputs": [],
   "source": [
    "df = df.sort_values(by='location')"
   ]
  },
  {
   "cell_type": "code",
   "execution_count": 14,
   "metadata": {
    "execution": {
     "iopub.execute_input": "2021-03-09T19:08:25.852682Z",
     "iopub.status.busy": "2021-03-09T19:08:25.851461Z",
     "iopub.status.idle": "2021-03-09T19:08:25.853245Z",
     "shell.execute_reply": "2021-03-09T19:08:25.853671Z"
    }
   },
   "outputs": [],
   "source": [
    "df = df[df.location == 'California'].append(df[df.location != 'California']).reset_index(drop=True)"
   ]
  },
  {
   "cell_type": "code",
   "execution_count": null,
   "metadata": {},
   "outputs": [],
   "source": []
  },
  {
   "cell_type": "code",
   "execution_count": 15,
   "metadata": {
    "execution": {
     "iopub.execute_input": "2021-03-09T19:08:25.857172Z",
     "iopub.status.busy": "2021-03-09T19:08:25.856635Z",
     "iopub.status.idle": "2021-03-09T19:08:25.873292Z",
     "shell.execute_reply": "2021-03-09T19:08:25.872806Z"
    }
   },
   "outputs": [],
   "source": [
    "tz = pytz.timezone(\"America/New_York\")"
   ]
  },
  {
   "cell_type": "code",
   "execution_count": 16,
   "metadata": {
    "execution": {
     "iopub.execute_input": "2021-03-09T19:08:25.876642Z",
     "iopub.status.busy": "2021-03-09T19:08:25.876121Z",
     "iopub.status.idle": "2021-03-09T19:08:25.877762Z",
     "shell.execute_reply": "2021-03-09T19:08:25.878270Z"
    }
   },
   "outputs": [],
   "source": [
    "today = datetime.now(tz).date()"
   ]
  },
  {
   "cell_type": "code",
   "execution_count": 17,
   "metadata": {
    "execution": {
     "iopub.execute_input": "2021-03-09T19:08:25.880650Z",
     "iopub.status.busy": "2021-03-09T19:08:25.879948Z",
     "iopub.status.idle": "2021-03-09T19:08:25.882970Z",
     "shell.execute_reply": "2021-03-09T19:08:25.883449Z"
    }
   },
   "outputs": [],
   "source": [
    "data_dir = os.path.join(os.path.abspath(\"\"), \"data\")"
   ]
  },
  {
   "cell_type": "code",
   "execution_count": 18,
   "metadata": {
    "execution": {
     "iopub.execute_input": "2021-03-09T19:08:25.885665Z",
     "iopub.status.busy": "2021-03-09T19:08:25.885139Z",
     "iopub.status.idle": "2021-03-09T19:08:25.891065Z",
     "shell.execute_reply": "2021-03-09T19:08:25.890621Z"
    }
   },
   "outputs": [],
   "source": [
    "df.to_csv(os.path.join(data_dir, f\"{today}.csv\"), index=False)"
   ]
  },
  {
   "cell_type": "code",
   "execution_count": null,
   "metadata": {},
   "outputs": [],
   "source": []
  }
 ],
 "metadata": {
  "kernelspec": {
   "display_name": "Python 3",
   "language": "python",
   "name": "python3"
  },
  "language_info": {
   "codemirror_mode": {
    "name": "ipython",
    "version": 3
   },
   "file_extension": ".py",
   "mimetype": "text/x-python",
   "name": "python",
   "nbconvert_exporter": "python",
   "pygments_lexer": "ipython3",
   "version": "3.8.8"
  }
 },
 "nbformat": 4,
 "nbformat_minor": 4
}
