{
 "cells": [
  {
   "cell_type": "markdown",
   "metadata": {},
   "source": [
    "# California COVID vaccinations scrape"
   ]
  },
  {
   "cell_type": "markdown",
   "metadata": {},
   "source": [
    "By [Amy O'Kruk](https://twitter.com/amyokruk)"
   ]
  },
  {
   "cell_type": "markdown",
   "metadata": {},
   "source": [
    "Downloads data on vaccine doses administered by county and statewide from a Tableau-powered dashboard from the California Department of Public Health."
   ]
  },
  {
   "cell_type": "code",
   "execution_count": 1,
   "metadata": {
    "execution": {
     "iopub.execute_input": "2021-03-10T18:48:29.653741Z",
     "iopub.status.busy": "2021-03-10T18:48:29.653069Z",
     "iopub.status.idle": "2021-03-10T18:48:30.090591Z",
     "shell.execute_reply": "2021-03-10T18:48:30.091049Z"
    }
   },
   "outputs": [],
   "source": [
    "import pandas as pd\n",
    "import requests\n",
    "from bs4 import BeautifulSoup\n",
    "import json\n",
    "import re\n",
    "import time\n",
    "from time import gmtime, strftime \n",
    "import os\n",
    "import pytz\n",
    "from datetime import datetime"
   ]
  },
  {
   "cell_type": "markdown",
   "metadata": {},
   "source": [
    "Scrape the dashboard page"
   ]
  },
  {
   "cell_type": "code",
   "execution_count": 2,
   "metadata": {
    "execution": {
     "iopub.execute_input": "2021-03-10T18:48:30.101012Z",
     "iopub.status.busy": "2021-03-10T18:48:30.094946Z",
     "iopub.status.idle": "2021-03-10T18:48:30.441078Z",
     "shell.execute_reply": "2021-03-10T18:48:30.440536Z"
    }
   },
   "outputs": [],
   "source": [
    "url = \"https://public.tableau.com/interactive/views/COVID-19VaccineDashboardPublic/Vaccine?:embed=y&:showVizHome=n&:apiID=host0\"\n",
    "\n",
    "r = requests.get(url)\n",
    "soup = BeautifulSoup(r.text, \"html.parser\")"
   ]
  },
  {
   "cell_type": "code",
   "execution_count": 3,
   "metadata": {
    "execution": {
     "iopub.execute_input": "2021-03-10T18:48:30.446958Z",
     "iopub.status.busy": "2021-03-10T18:48:30.445324Z",
     "iopub.status.idle": "2021-03-10T18:48:30.447604Z",
     "shell.execute_reply": "2021-03-10T18:48:30.448129Z"
    }
   },
   "outputs": [],
   "source": [
    "tableauData = json.loads(soup.find(\"textarea\",{\"id\": \"tsConfigContainer\"}).text)"
   ]
  },
  {
   "cell_type": "markdown",
   "metadata": {},
   "source": [
    "Get the link to the Tableau data"
   ]
  },
  {
   "cell_type": "code",
   "execution_count": 4,
   "metadata": {
    "execution": {
     "iopub.execute_input": "2021-03-10T18:48:30.453076Z",
     "iopub.status.busy": "2021-03-10T18:48:30.451625Z",
     "iopub.status.idle": "2021-03-10T18:48:30.453935Z",
     "shell.execute_reply": "2021-03-10T18:48:30.454505Z"
    }
   },
   "outputs": [],
   "source": [
    "dataUrl = f'https://public.tableau.com{tableauData[\"vizql_root\"]}/bootstrapSession/sessions/{tableauData[\"sessionid\"]}'"
   ]
  },
  {
   "cell_type": "code",
   "execution_count": 5,
   "metadata": {
    "execution": {
     "iopub.execute_input": "2021-03-10T18:48:30.461672Z",
     "iopub.status.busy": "2021-03-10T18:48:30.461017Z",
     "iopub.status.idle": "2021-03-10T18:48:30.637729Z",
     "shell.execute_reply": "2021-03-10T18:48:30.637089Z"
    }
   },
   "outputs": [],
   "source": [
    "r = requests.post(dataUrl, data= {\n",
    "    \"sheet_id\": tableauData[\"sheetId\"],\n",
    "})\n",
    "\n",
    "dataReg = re.search('\\d+;({.*})\\d+;({.*})', r.text, re.MULTILINE)\n",
    "data1 = json.loads(dataReg.group(2))\n",
    "\n",
    "dataJson = data1[\"secondaryInfo\"][\"presModelMap\"][\"dataDictionary\"][\"presModelHolder\"][\"genDataDictionaryPresModel\"][\"dataSegments\"][\"0\"][\"dataColumns\"]"
   ]
  },
  {
   "cell_type": "markdown",
   "metadata": {},
   "source": [
    "Isolate what you want"
   ]
  },
  {
   "cell_type": "code",
   "execution_count": 6,
   "metadata": {
    "execution": {
     "iopub.execute_input": "2021-03-10T18:48:30.642734Z",
     "iopub.status.busy": "2021-03-10T18:48:30.641294Z",
     "iopub.status.idle": "2021-03-10T18:48:30.643467Z",
     "shell.execute_reply": "2021-03-10T18:48:30.643942Z"
    }
   },
   "outputs": [],
   "source": [
    "counties = dataJson[2]['dataValues'][:58]"
   ]
  },
  {
   "cell_type": "code",
   "execution_count": 7,
   "metadata": {
    "execution": {
     "iopub.execute_input": "2021-03-10T18:48:30.649443Z",
     "iopub.status.busy": "2021-03-10T18:48:30.647827Z",
     "iopub.status.idle": "2021-03-10T18:48:30.650048Z",
     "shell.execute_reply": "2021-03-10T18:48:30.650508Z"
    }
   },
   "outputs": [],
   "source": [
    "doses = dataJson[0]['dataValues'][3:61]"
   ]
  },
  {
   "cell_type": "markdown",
   "metadata": {},
   "source": [
    "Data formatting"
   ]
  },
  {
   "cell_type": "code",
   "execution_count": 8,
   "metadata": {
    "execution": {
     "iopub.execute_input": "2021-03-10T18:48:30.655497Z",
     "iopub.status.busy": "2021-03-10T18:48:30.654022Z",
     "iopub.status.idle": "2021-03-10T18:48:30.656223Z",
     "shell.execute_reply": "2021-03-10T18:48:30.656758Z"
    }
   },
   "outputs": [],
   "source": [
    "zipped = dict(zip(counties, doses))"
   ]
  },
  {
   "cell_type": "code",
   "execution_count": 9,
   "metadata": {
    "execution": {
     "iopub.execute_input": "2021-03-10T18:48:30.664089Z",
     "iopub.status.busy": "2021-03-10T18:48:30.662843Z",
     "iopub.status.idle": "2021-03-10T18:48:30.664725Z",
     "shell.execute_reply": "2021-03-10T18:48:30.665196Z"
    }
   },
   "outputs": [],
   "source": [
    "df = pd.Series(zipped).reset_index()"
   ]
  },
  {
   "cell_type": "code",
   "execution_count": 10,
   "metadata": {
    "execution": {
     "iopub.execute_input": "2021-03-10T18:48:30.670220Z",
     "iopub.status.busy": "2021-03-10T18:48:30.668884Z",
     "iopub.status.idle": "2021-03-10T18:48:30.670881Z",
     "shell.execute_reply": "2021-03-10T18:48:30.671482Z"
    }
   },
   "outputs": [],
   "source": [
    "df.columns = ['location','doses']"
   ]
  },
  {
   "cell_type": "markdown",
   "metadata": {},
   "source": [
    "Grab the overall California total"
   ]
  },
  {
   "cell_type": "code",
   "execution_count": 11,
   "metadata": {
    "execution": {
     "iopub.execute_input": "2021-03-10T18:48:30.676861Z",
     "iopub.status.busy": "2021-03-10T18:48:30.675951Z",
     "iopub.status.idle": "2021-03-10T18:48:30.679467Z",
     "shell.execute_reply": "2021-03-10T18:48:30.679881Z"
    }
   },
   "outputs": [],
   "source": [
    "add = {'location':'California','doses':dataJson[0]['dataValues'][2]}"
   ]
  },
  {
   "cell_type": "code",
   "execution_count": 12,
   "metadata": {
    "execution": {
     "iopub.execute_input": "2021-03-10T18:48:30.687117Z",
     "iopub.status.busy": "2021-03-10T18:48:30.686588Z",
     "iopub.status.idle": "2021-03-10T18:48:30.689272Z",
     "shell.execute_reply": "2021-03-10T18:48:30.689883Z"
    }
   },
   "outputs": [],
   "source": [
    "df = df.append(add, ignore_index=True)"
   ]
  },
  {
   "cell_type": "code",
   "execution_count": 13,
   "metadata": {
    "execution": {
     "iopub.execute_input": "2021-03-10T18:48:30.696887Z",
     "iopub.status.busy": "2021-03-10T18:48:30.695638Z",
     "iopub.status.idle": "2021-03-10T18:48:30.698011Z",
     "shell.execute_reply": "2021-03-10T18:48:30.698487Z"
    }
   },
   "outputs": [],
   "source": [
    "df = df.sort_values(by='location')"
   ]
  },
  {
   "cell_type": "code",
   "execution_count": 14,
   "metadata": {
    "execution": {
     "iopub.execute_input": "2021-03-10T18:48:30.706208Z",
     "iopub.status.busy": "2021-03-10T18:48:30.704744Z",
     "iopub.status.idle": "2021-03-10T18:48:30.707016Z",
     "shell.execute_reply": "2021-03-10T18:48:30.707507Z"
    }
   },
   "outputs": [],
   "source": [
    "df = df[df.location == 'California'].append(df[df.location != 'California']).reset_index(drop=True)"
   ]
  },
  {
   "cell_type": "code",
   "execution_count": null,
   "metadata": {},
   "outputs": [],
   "source": []
  },
  {
   "cell_type": "code",
   "execution_count": 15,
   "metadata": {
    "execution": {
     "iopub.execute_input": "2021-03-10T18:48:30.711325Z",
     "iopub.status.busy": "2021-03-10T18:48:30.710754Z",
     "iopub.status.idle": "2021-03-10T18:48:30.729858Z",
     "shell.execute_reply": "2021-03-10T18:48:30.729410Z"
    }
   },
   "outputs": [],
   "source": [
    "tz = pytz.timezone(\"America/New_York\")"
   ]
  },
  {
   "cell_type": "code",
   "execution_count": 16,
   "metadata": {
    "execution": {
     "iopub.execute_input": "2021-03-10T18:48:30.734869Z",
     "iopub.status.busy": "2021-03-10T18:48:30.733405Z",
     "iopub.status.idle": "2021-03-10T18:48:30.742594Z",
     "shell.execute_reply": "2021-03-10T18:48:30.743038Z"
    }
   },
   "outputs": [],
   "source": [
    "today = datetime.now(tz).date()"
   ]
  },
  {
   "cell_type": "code",
   "execution_count": 17,
   "metadata": {
    "execution": {
     "iopub.execute_input": "2021-03-10T18:48:30.747112Z",
     "iopub.status.busy": "2021-03-10T18:48:30.746559Z",
     "iopub.status.idle": "2021-03-10T18:48:30.749537Z",
     "shell.execute_reply": "2021-03-10T18:48:30.748953Z"
    }
   },
   "outputs": [],
   "source": [
    "data_dir = os.path.join(os.path.abspath(\"\"), \"data\")"
   ]
  },
  {
   "cell_type": "code",
   "execution_count": 18,
   "metadata": {
    "execution": {
     "iopub.execute_input": "2021-03-10T18:48:30.753886Z",
     "iopub.status.busy": "2021-03-10T18:48:30.753267Z",
     "iopub.status.idle": "2021-03-10T18:48:30.757788Z",
     "shell.execute_reply": "2021-03-10T18:48:30.758302Z"
    }
   },
   "outputs": [],
   "source": [
    "df.to_csv(os.path.join(data_dir, f\"{today}.csv\"), index=False)"
   ]
  },
  {
   "cell_type": "code",
   "execution_count": null,
   "metadata": {},
   "outputs": [],
   "source": []
  }
 ],
 "metadata": {
  "kernelspec": {
   "display_name": "Python 3",
   "language": "python",
   "name": "python3"
  },
  "language_info": {
   "codemirror_mode": {
    "name": "ipython",
    "version": 3
   },
   "file_extension": ".py",
   "mimetype": "text/x-python",
   "name": "python",
   "nbconvert_exporter": "python",
   "pygments_lexer": "ipython3",
   "version": "3.8.8"
  }
 },
 "nbformat": 4,
 "nbformat_minor": 4
}
