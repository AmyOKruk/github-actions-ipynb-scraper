{
 "cells": [
  {
   "cell_type": "markdown",
   "metadata": {},
   "source": [
    "# California COVID vaccinations scrape"
   ]
  },
  {
   "cell_type": "markdown",
   "metadata": {},
   "source": [
    "By [Amy O'Kruk](https://twitter.com/amyokruk)"
   ]
  },
  {
   "cell_type": "markdown",
   "metadata": {},
   "source": [
    "Downloads data on vaccine doses administered by county and statewide from a Tableau-powered dashboard from the California Department of Public Health."
   ]
  },
  {
   "cell_type": "code",
   "execution_count": 1,
   "metadata": {
    "execution": {
     "iopub.execute_input": "2021-03-09T09:13:17.032542Z",
     "iopub.status.busy": "2021-03-09T09:13:17.028537Z",
     "iopub.status.idle": "2021-03-09T09:13:17.438362Z",
     "shell.execute_reply": "2021-03-09T09:13:17.436990Z"
    }
   },
   "outputs": [],
   "source": [
    "import pandas as pd\n",
    "import requests\n",
    "from bs4 import BeautifulSoup\n",
    "import json\n",
    "import re\n",
    "import time\n",
    "from time import gmtime, strftime \n",
    "import os\n",
    "import pytz\n",
    "from datetime import datetime"
   ]
  },
  {
   "cell_type": "markdown",
   "metadata": {},
   "source": [
    "Scrape the dashboard page"
   ]
  },
  {
   "cell_type": "code",
   "execution_count": 2,
   "metadata": {
    "execution": {
     "iopub.execute_input": "2021-03-09T09:13:17.442702Z",
     "iopub.status.busy": "2021-03-09T09:13:17.442132Z",
     "iopub.status.idle": "2021-03-09T09:13:17.862139Z",
     "shell.execute_reply": "2021-03-09T09:13:17.860922Z"
    }
   },
   "outputs": [],
   "source": [
    "url = \"https://public.tableau.com/interactive/views/COVID-19VaccineDashboardPublic/Vaccine?:embed=y&:showVizHome=n&:apiID=host0\"\n",
    "\n",
    "r = requests.get(url)\n",
    "soup = BeautifulSoup(r.text, \"html.parser\")"
   ]
  },
  {
   "cell_type": "code",
   "execution_count": 3,
   "metadata": {
    "execution": {
     "iopub.execute_input": "2021-03-09T09:13:17.870116Z",
     "iopub.status.busy": "2021-03-09T09:13:17.868517Z",
     "iopub.status.idle": "2021-03-09T09:13:17.870837Z",
     "shell.execute_reply": "2021-03-09T09:13:17.871345Z"
    }
   },
   "outputs": [],
   "source": [
    "tableauData = json.loads(soup.find(\"textarea\",{\"id\": \"tsConfigContainer\"}).text)"
   ]
  },
  {
   "cell_type": "markdown",
   "metadata": {},
   "source": [
    "Get the link to the Tableau data"
   ]
  },
  {
   "cell_type": "code",
   "execution_count": 4,
   "metadata": {
    "execution": {
     "iopub.execute_input": "2021-03-09T09:13:17.875934Z",
     "iopub.status.busy": "2021-03-09T09:13:17.874650Z",
     "iopub.status.idle": "2021-03-09T09:13:17.876603Z",
     "shell.execute_reply": "2021-03-09T09:13:17.877022Z"
    }
   },
   "outputs": [],
   "source": [
    "dataUrl = f'https://public.tableau.com{tableauData[\"vizql_root\"]}/bootstrapSession/sessions/{tableauData[\"sessionid\"]}'"
   ]
  },
  {
   "cell_type": "code",
   "execution_count": 5,
   "metadata": {
    "execution": {
     "iopub.execute_input": "2021-03-09T09:13:17.883256Z",
     "iopub.status.busy": "2021-03-09T09:13:17.882722Z",
     "iopub.status.idle": "2021-03-09T09:13:18.184641Z",
     "shell.execute_reply": "2021-03-09T09:13:18.184144Z"
    }
   },
   "outputs": [],
   "source": [
    "r = requests.post(dataUrl, data= {\n",
    "    \"sheet_id\": tableauData[\"sheetId\"],\n",
    "})\n",
    "\n",
    "dataReg = re.search('\\d+;({.*})\\d+;({.*})', r.text, re.MULTILINE)\n",
    "data1 = json.loads(dataReg.group(2))\n",
    "\n",
    "dataJson = data1[\"secondaryInfo\"][\"presModelMap\"][\"dataDictionary\"][\"presModelHolder\"][\"genDataDictionaryPresModel\"][\"dataSegments\"][\"0\"][\"dataColumns\"]"
   ]
  },
  {
   "cell_type": "markdown",
   "metadata": {},
   "source": [
    "Isolate what you want"
   ]
  },
  {
   "cell_type": "code",
   "execution_count": 6,
   "metadata": {
    "execution": {
     "iopub.execute_input": "2021-03-09T09:13:18.189379Z",
     "iopub.status.busy": "2021-03-09T09:13:18.188095Z",
     "iopub.status.idle": "2021-03-09T09:13:18.189983Z",
     "shell.execute_reply": "2021-03-09T09:13:18.190447Z"
    }
   },
   "outputs": [],
   "source": [
    "counties = dataJson[2]['dataValues'][:58]"
   ]
  },
  {
   "cell_type": "code",
   "execution_count": 7,
   "metadata": {
    "execution": {
     "iopub.execute_input": "2021-03-09T09:13:18.194674Z",
     "iopub.status.busy": "2021-03-09T09:13:18.193530Z",
     "iopub.status.idle": "2021-03-09T09:13:18.195344Z",
     "shell.execute_reply": "2021-03-09T09:13:18.195774Z"
    }
   },
   "outputs": [],
   "source": [
    "doses = dataJson[0]['dataValues'][3:61]"
   ]
  },
  {
   "cell_type": "markdown",
   "metadata": {},
   "source": [
    "Data formatting"
   ]
  },
  {
   "cell_type": "code",
   "execution_count": 8,
   "metadata": {
    "execution": {
     "iopub.execute_input": "2021-03-09T09:13:18.200019Z",
     "iopub.status.busy": "2021-03-09T09:13:18.198858Z",
     "iopub.status.idle": "2021-03-09T09:13:18.200613Z",
     "shell.execute_reply": "2021-03-09T09:13:18.201038Z"
    }
   },
   "outputs": [],
   "source": [
    "zipped = dict(zip(counties, doses))"
   ]
  },
  {
   "cell_type": "code",
   "execution_count": 9,
   "metadata": {
    "execution": {
     "iopub.execute_input": "2021-03-09T09:13:18.207578Z",
     "iopub.status.busy": "2021-03-09T09:13:18.206380Z",
     "iopub.status.idle": "2021-03-09T09:13:18.208164Z",
     "shell.execute_reply": "2021-03-09T09:13:18.208587Z"
    }
   },
   "outputs": [],
   "source": [
    "df = pd.Series(zipped).reset_index()"
   ]
  },
  {
   "cell_type": "code",
   "execution_count": 10,
   "metadata": {
    "execution": {
     "iopub.execute_input": "2021-03-09T09:13:18.212857Z",
     "iopub.status.busy": "2021-03-09T09:13:18.211952Z",
     "iopub.status.idle": "2021-03-09T09:13:18.214236Z",
     "shell.execute_reply": "2021-03-09T09:13:18.213778Z"
    }
   },
   "outputs": [],
   "source": [
    "df.columns = ['location','doses']"
   ]
  },
  {
   "cell_type": "markdown",
   "metadata": {},
   "source": [
    "Grab the overall California total"
   ]
  },
  {
   "cell_type": "code",
   "execution_count": 11,
   "metadata": {
    "execution": {
     "iopub.execute_input": "2021-03-09T09:13:18.218503Z",
     "iopub.status.busy": "2021-03-09T09:13:18.217332Z",
     "iopub.status.idle": "2021-03-09T09:13:18.219171Z",
     "shell.execute_reply": "2021-03-09T09:13:18.219596Z"
    }
   },
   "outputs": [],
   "source": [
    "add = {'location':'California','doses':dataJson[0]['dataValues'][2]}"
   ]
  },
  {
   "cell_type": "code",
   "execution_count": 12,
   "metadata": {
    "execution": {
     "iopub.execute_input": "2021-03-09T09:13:18.226479Z",
     "iopub.status.busy": "2021-03-09T09:13:18.225481Z",
     "iopub.status.idle": "2021-03-09T09:13:18.228830Z",
     "shell.execute_reply": "2021-03-09T09:13:18.228386Z"
    }
   },
   "outputs": [],
   "source": [
    "df = df.append(add, ignore_index=True)"
   ]
  },
  {
   "cell_type": "code",
   "execution_count": 13,
   "metadata": {
    "execution": {
     "iopub.execute_input": "2021-03-09T09:13:18.233835Z",
     "iopub.status.busy": "2021-03-09T09:13:18.232662Z",
     "iopub.status.idle": "2021-03-09T09:13:18.234446Z",
     "shell.execute_reply": "2021-03-09T09:13:18.234877Z"
    }
   },
   "outputs": [],
   "source": [
    "df = df.sort_values(by='location')"
   ]
  },
  {
   "cell_type": "code",
   "execution_count": 14,
   "metadata": {
    "execution": {
     "iopub.execute_input": "2021-03-09T09:13:18.241827Z",
     "iopub.status.busy": "2021-03-09T09:13:18.240505Z",
     "iopub.status.idle": "2021-03-09T09:13:18.242561Z",
     "shell.execute_reply": "2021-03-09T09:13:18.243006Z"
    }
   },
   "outputs": [],
   "source": [
    "df = df[df.location == 'California'].append(df[df.location != 'California']).reset_index(drop=True)"
   ]
  },
  {
   "cell_type": "code",
   "execution_count": null,
   "metadata": {},
   "outputs": [],
   "source": []
  },
  {
   "cell_type": "code",
   "execution_count": 15,
   "metadata": {
    "execution": {
     "iopub.execute_input": "2021-03-09T09:13:18.246548Z",
     "iopub.status.busy": "2021-03-09T09:13:18.245961Z",
     "iopub.status.idle": "2021-03-09T09:13:18.263410Z",
     "shell.execute_reply": "2021-03-09T09:13:18.262886Z"
    }
   },
   "outputs": [],
   "source": [
    "tz = pytz.timezone(\"America/New_York\")"
   ]
  },
  {
   "cell_type": "code",
   "execution_count": 16,
   "metadata": {
    "execution": {
     "iopub.execute_input": "2021-03-09T09:13:18.267501Z",
     "iopub.status.busy": "2021-03-09T09:13:18.266387Z",
     "iopub.status.idle": "2021-03-09T09:13:18.268088Z",
     "shell.execute_reply": "2021-03-09T09:13:18.268510Z"
    }
   },
   "outputs": [],
   "source": [
    "today = datetime.now(tz).date()"
   ]
  },
  {
   "cell_type": "code",
   "execution_count": 17,
   "metadata": {
    "execution": {
     "iopub.execute_input": "2021-03-09T09:13:18.272777Z",
     "iopub.status.busy": "2021-03-09T09:13:18.271569Z",
     "iopub.status.idle": "2021-03-09T09:13:18.273475Z",
     "shell.execute_reply": "2021-03-09T09:13:18.273904Z"
    }
   },
   "outputs": [],
   "source": [
    "data_dir = os.path.join(os.path.abspath(\"\"), \"data\")"
   ]
  },
  {
   "cell_type": "code",
   "execution_count": 18,
   "metadata": {
    "execution": {
     "iopub.execute_input": "2021-03-09T09:13:18.279235Z",
     "iopub.status.busy": "2021-03-09T09:13:18.277066Z",
     "iopub.status.idle": "2021-03-09T09:13:18.281616Z",
     "shell.execute_reply": "2021-03-09T09:13:18.281093Z"
    }
   },
   "outputs": [],
   "source": [
    "df.to_csv(os.path.join(data_dir, f\"{today}.csv\"), index=False)"
   ]
  },
  {
   "cell_type": "code",
   "execution_count": null,
   "metadata": {},
   "outputs": [],
   "source": []
  }
 ],
 "metadata": {
  "kernelspec": {
   "display_name": "Python 3",
   "language": "python",
   "name": "python3"
  },
  "language_info": {
   "codemirror_mode": {
    "name": "ipython",
    "version": 3
   },
   "file_extension": ".py",
   "mimetype": "text/x-python",
   "name": "python",
   "nbconvert_exporter": "python",
   "pygments_lexer": "ipython3",
   "version": "3.8.8"
  }
 },
 "nbformat": 4,
 "nbformat_minor": 4
}
