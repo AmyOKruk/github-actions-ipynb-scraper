{
 "cells": [
  {
   "cell_type": "markdown",
   "metadata": {},
   "source": [
    "# California COVID vaccinations scrape"
   ]
  },
  {
   "cell_type": "markdown",
   "metadata": {},
   "source": [
    "By [Amy O'Kruk](https://twitter.com/amyokruk)"
   ]
  },
  {
   "cell_type": "markdown",
   "metadata": {},
   "source": [
    "Downloads data on vaccine doses administered by county and statewide from a Tableau-powered dashboard from the California Department of Public Health."
   ]
  },
  {
   "cell_type": "code",
   "execution_count": 1,
   "metadata": {
    "execution": {
     "iopub.execute_input": "2021-03-20T19:36:39.159509Z",
     "iopub.status.busy": "2021-03-20T19:36:39.158779Z",
     "iopub.status.idle": "2021-03-20T19:36:39.615038Z",
     "shell.execute_reply": "2021-03-20T19:36:39.614076Z"
    }
   },
   "outputs": [],
   "source": [
    "import pandas as pd\n",
    "import requests\n",
    "from bs4 import BeautifulSoup\n",
    "import json\n",
    "import re\n",
    "import time\n",
    "from time import gmtime, strftime \n",
    "import os\n",
    "import pytz\n",
    "from datetime import datetime"
   ]
  },
  {
   "cell_type": "markdown",
   "metadata": {},
   "source": [
    "Scrape the dashboard page"
   ]
  },
  {
   "cell_type": "code",
   "execution_count": 2,
   "metadata": {
    "execution": {
     "iopub.execute_input": "2021-03-20T19:36:39.622057Z",
     "iopub.status.busy": "2021-03-20T19:36:39.618807Z",
     "iopub.status.idle": "2021-03-20T19:36:40.054707Z",
     "shell.execute_reply": "2021-03-20T19:36:40.054080Z"
    }
   },
   "outputs": [],
   "source": [
    "url = \"https://public.tableau.com/interactive/views/COVID-19VaccineDashboardPublic/Vaccine?:embed=y&:showVizHome=n&:apiID=host0\"\n",
    "\n",
    "r = requests.get(url)\n",
    "soup = BeautifulSoup(r.text, \"html.parser\")"
   ]
  },
  {
   "cell_type": "code",
   "execution_count": 3,
   "metadata": {
    "execution": {
     "iopub.execute_input": "2021-03-20T19:36:40.059904Z",
     "iopub.status.busy": "2021-03-20T19:36:40.059315Z",
     "iopub.status.idle": "2021-03-20T19:36:40.063667Z",
     "shell.execute_reply": "2021-03-20T19:36:40.063122Z"
    }
   },
   "outputs": [],
   "source": [
    "tableauData = json.loads(soup.find(\"textarea\",{\"id\": \"tsConfigContainer\"}).text)"
   ]
  },
  {
   "cell_type": "markdown",
   "metadata": {},
   "source": [
    "Get the link to the Tableau data"
   ]
  },
  {
   "cell_type": "code",
   "execution_count": 4,
   "metadata": {
    "execution": {
     "iopub.execute_input": "2021-03-20T19:36:40.067690Z",
     "iopub.status.busy": "2021-03-20T19:36:40.067064Z",
     "iopub.status.idle": "2021-03-20T19:36:40.070538Z",
     "shell.execute_reply": "2021-03-20T19:36:40.071035Z"
    }
   },
   "outputs": [],
   "source": [
    "dataUrl = f'https://public.tableau.com{tableauData[\"vizql_root\"]}/bootstrapSession/sessions/{tableauData[\"sessionid\"]}'"
   ]
  },
  {
   "cell_type": "code",
   "execution_count": 5,
   "metadata": {
    "execution": {
     "iopub.execute_input": "2021-03-20T19:36:40.078774Z",
     "iopub.status.busy": "2021-03-20T19:36:40.077300Z",
     "iopub.status.idle": "2021-03-20T19:36:56.251457Z",
     "shell.execute_reply": "2021-03-20T19:36:56.250884Z"
    }
   },
   "outputs": [],
   "source": [
    "r = requests.post(dataUrl, data= {\n",
    "    \"sheet_id\": tableauData[\"sheetId\"],\n",
    "})\n",
    "\n",
    "dataReg = re.search('\\d+;({.*})\\d+;({.*})', r.text, re.MULTILINE)\n",
    "data1 = json.loads(dataReg.group(2))\n",
    "\n",
    "dataJson = data1[\"secondaryInfo\"][\"presModelMap\"][\"dataDictionary\"][\"presModelHolder\"][\"genDataDictionaryPresModel\"][\"dataSegments\"][\"0\"][\"dataColumns\"]"
   ]
  },
  {
   "cell_type": "markdown",
   "metadata": {},
   "source": [
    "Isolate what you want"
   ]
  },
  {
   "cell_type": "code",
   "execution_count": 6,
   "metadata": {
    "execution": {
     "iopub.execute_input": "2021-03-20T19:36:56.255862Z",
     "iopub.status.busy": "2021-03-20T19:36:56.255269Z",
     "iopub.status.idle": "2021-03-20T19:36:56.258519Z",
     "shell.execute_reply": "2021-03-20T19:36:56.259309Z"
    }
   },
   "outputs": [],
   "source": [
    "counties = dataJson[2]['dataValues'][:58]"
   ]
  },
  {
   "cell_type": "code",
   "execution_count": 7,
   "metadata": {
    "execution": {
     "iopub.execute_input": "2021-03-20T19:36:56.263031Z",
     "iopub.status.busy": "2021-03-20T19:36:56.262451Z",
     "iopub.status.idle": "2021-03-20T19:36:56.265967Z",
     "shell.execute_reply": "2021-03-20T19:36:56.266432Z"
    }
   },
   "outputs": [],
   "source": [
    "doses = dataJson[0]['dataValues'][3:61]"
   ]
  },
  {
   "cell_type": "markdown",
   "metadata": {},
   "source": [
    "Data formatting"
   ]
  },
  {
   "cell_type": "code",
   "execution_count": 8,
   "metadata": {
    "execution": {
     "iopub.execute_input": "2021-03-20T19:36:56.270159Z",
     "iopub.status.busy": "2021-03-20T19:36:56.269574Z",
     "iopub.status.idle": "2021-03-20T19:36:56.272928Z",
     "shell.execute_reply": "2021-03-20T19:36:56.273405Z"
    }
   },
   "outputs": [],
   "source": [
    "zipped = dict(zip(counties, doses))"
   ]
  },
  {
   "cell_type": "code",
   "execution_count": 9,
   "metadata": {
    "execution": {
     "iopub.execute_input": "2021-03-20T19:36:56.279711Z",
     "iopub.status.busy": "2021-03-20T19:36:56.279118Z",
     "iopub.status.idle": "2021-03-20T19:36:56.282960Z",
     "shell.execute_reply": "2021-03-20T19:36:56.282467Z"
    }
   },
   "outputs": [],
   "source": [
    "df = pd.Series(zipped).reset_index()"
   ]
  },
  {
   "cell_type": "code",
   "execution_count": 10,
   "metadata": {
    "execution": {
     "iopub.execute_input": "2021-03-20T19:36:56.287878Z",
     "iopub.status.busy": "2021-03-20T19:36:56.286477Z",
     "iopub.status.idle": "2021-03-20T19:36:56.288601Z",
     "shell.execute_reply": "2021-03-20T19:36:56.289094Z"
    }
   },
   "outputs": [],
   "source": [
    "df.columns = ['location','doses']"
   ]
  },
  {
   "cell_type": "markdown",
   "metadata": {},
   "source": [
    "Grab the overall California total"
   ]
  },
  {
   "cell_type": "code",
   "execution_count": 11,
   "metadata": {
    "execution": {
     "iopub.execute_input": "2021-03-20T19:36:56.294038Z",
     "iopub.status.busy": "2021-03-20T19:36:56.292664Z",
     "iopub.status.idle": "2021-03-20T19:36:56.295570Z",
     "shell.execute_reply": "2021-03-20T19:36:56.296079Z"
    }
   },
   "outputs": [],
   "source": [
    "add = {'location':'California','doses':dataJson[0]['dataValues'][2]}"
   ]
  },
  {
   "cell_type": "code",
   "execution_count": 12,
   "metadata": {
    "execution": {
     "iopub.execute_input": "2021-03-20T19:36:56.303027Z",
     "iopub.status.busy": "2021-03-20T19:36:56.300916Z",
     "iopub.status.idle": "2021-03-20T19:36:56.305298Z",
     "shell.execute_reply": "2021-03-20T19:36:56.304807Z"
    }
   },
   "outputs": [],
   "source": [
    "df = df.append(add, ignore_index=True)"
   ]
  },
  {
   "cell_type": "code",
   "execution_count": 13,
   "metadata": {
    "execution": {
     "iopub.execute_input": "2021-03-20T19:36:56.310773Z",
     "iopub.status.busy": "2021-03-20T19:36:56.309377Z",
     "iopub.status.idle": "2021-03-20T19:36:56.311458Z",
     "shell.execute_reply": "2021-03-20T19:36:56.311951Z"
    }
   },
   "outputs": [],
   "source": [
    "df = df.sort_values(by='location')"
   ]
  },
  {
   "cell_type": "code",
   "execution_count": 14,
   "metadata": {
    "execution": {
     "iopub.execute_input": "2021-03-20T19:36:56.318977Z",
     "iopub.status.busy": "2021-03-20T19:36:56.317651Z",
     "iopub.status.idle": "2021-03-20T19:36:56.319722Z",
     "shell.execute_reply": "2021-03-20T19:36:56.320214Z"
    }
   },
   "outputs": [],
   "source": [
    "df = df[df.location == 'California'].append(df[df.location != 'California']).reset_index(drop=True)"
   ]
  },
  {
   "cell_type": "code",
   "execution_count": null,
   "metadata": {},
   "outputs": [],
   "source": []
  },
  {
   "cell_type": "code",
   "execution_count": 15,
   "metadata": {
    "execution": {
     "iopub.execute_input": "2021-03-20T19:36:56.323903Z",
     "iopub.status.busy": "2021-03-20T19:36:56.323314Z",
     "iopub.status.idle": "2021-03-20T19:36:56.343531Z",
     "shell.execute_reply": "2021-03-20T19:36:56.343993Z"
    }
   },
   "outputs": [],
   "source": [
    "tz = pytz.timezone(\"America/New_York\")"
   ]
  },
  {
   "cell_type": "code",
   "execution_count": 16,
   "metadata": {
    "execution": {
     "iopub.execute_input": "2021-03-20T19:36:56.348753Z",
     "iopub.status.busy": "2021-03-20T19:36:56.347326Z",
     "iopub.status.idle": "2021-03-20T19:36:56.349404Z",
     "shell.execute_reply": "2021-03-20T19:36:56.349923Z"
    }
   },
   "outputs": [],
   "source": [
    "today = datetime.now(tz).date()"
   ]
  },
  {
   "cell_type": "code",
   "execution_count": 17,
   "metadata": {
    "execution": {
     "iopub.execute_input": "2021-03-20T19:36:56.354861Z",
     "iopub.status.busy": "2021-03-20T19:36:56.353401Z",
     "iopub.status.idle": "2021-03-20T19:36:56.355541Z",
     "shell.execute_reply": "2021-03-20T19:36:56.356028Z"
    }
   },
   "outputs": [],
   "source": [
    "data_dir = os.path.join(os.path.abspath(\"\"), \"data\")"
   ]
  },
  {
   "cell_type": "code",
   "execution_count": 18,
   "metadata": {
    "execution": {
     "iopub.execute_input": "2021-03-20T19:36:56.360434Z",
     "iopub.status.busy": "2021-03-20T19:36:56.359636Z",
     "iopub.status.idle": "2021-03-20T19:36:56.364595Z",
     "shell.execute_reply": "2021-03-20T19:36:56.364020Z"
    }
   },
   "outputs": [],
   "source": [
    "df.to_csv(os.path.join(data_dir, f\"{today}.csv\"), index=False)"
   ]
  },
  {
   "cell_type": "code",
   "execution_count": null,
   "metadata": {},
   "outputs": [],
   "source": []
  }
 ],
 "metadata": {
  "kernelspec": {
   "display_name": "Python 3",
   "language": "python",
   "name": "python3"
  },
  "language_info": {
   "codemirror_mode": {
    "name": "ipython",
    "version": 3
   },
   "file_extension": ".py",
   "mimetype": "text/x-python",
   "name": "python",
   "nbconvert_exporter": "python",
   "pygments_lexer": "ipython3",
   "version": "3.8.8"
  }
 },
 "nbformat": 4,
 "nbformat_minor": 4
}
