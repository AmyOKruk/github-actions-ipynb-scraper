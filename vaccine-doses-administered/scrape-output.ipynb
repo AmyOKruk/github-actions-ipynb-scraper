{
 "cells": [
  {
   "cell_type": "markdown",
   "metadata": {},
   "source": [
    "# California COVID vaccinations scrape"
   ]
  },
  {
   "cell_type": "markdown",
   "metadata": {},
   "source": [
    "By [Amy O'Kruk](https://twitter.com/amyokruk)"
   ]
  },
  {
   "cell_type": "markdown",
   "metadata": {},
   "source": [
    "Downloads data on vaccine doses administered by county and statewide from a Tableau-powered dashboard from the California Department of Public Health."
   ]
  },
  {
   "cell_type": "code",
   "execution_count": 1,
   "metadata": {
    "execution": {
     "iopub.execute_input": "2021-03-18T13:42:09.650625Z",
     "iopub.status.busy": "2021-03-18T13:42:09.650038Z",
     "iopub.status.idle": "2021-03-18T13:42:10.167878Z",
     "shell.execute_reply": "2021-03-18T13:42:10.167302Z"
    }
   },
   "outputs": [],
   "source": [
    "import pandas as pd\n",
    "import requests\n",
    "from bs4 import BeautifulSoup\n",
    "import json\n",
    "import re\n",
    "import time\n",
    "from time import gmtime, strftime \n",
    "import os\n",
    "import pytz\n",
    "from datetime import datetime"
   ]
  },
  {
   "cell_type": "markdown",
   "metadata": {},
   "source": [
    "Scrape the dashboard page"
   ]
  },
  {
   "cell_type": "code",
   "execution_count": 2,
   "metadata": {
    "execution": {
     "iopub.execute_input": "2021-03-18T13:42:10.173716Z",
     "iopub.status.busy": "2021-03-18T13:42:10.171379Z",
     "iopub.status.idle": "2021-03-18T13:42:10.806663Z",
     "shell.execute_reply": "2021-03-18T13:42:10.805719Z"
    }
   },
   "outputs": [],
   "source": [
    "url = \"https://public.tableau.com/interactive/views/COVID-19VaccineDashboardPublic/Vaccine?:embed=y&:showVizHome=n&:apiID=host0\"\n",
    "\n",
    "r = requests.get(url)\n",
    "soup = BeautifulSoup(r.text, \"html.parser\")"
   ]
  },
  {
   "cell_type": "code",
   "execution_count": 3,
   "metadata": {
    "execution": {
     "iopub.execute_input": "2021-03-18T13:42:10.811868Z",
     "iopub.status.busy": "2021-03-18T13:42:10.811333Z",
     "iopub.status.idle": "2021-03-18T13:42:10.816423Z",
     "shell.execute_reply": "2021-03-18T13:42:10.815858Z"
    }
   },
   "outputs": [],
   "source": [
    "tableauData = json.loads(soup.find(\"textarea\",{\"id\": \"tsConfigContainer\"}).text)"
   ]
  },
  {
   "cell_type": "markdown",
   "metadata": {},
   "source": [
    "Get the link to the Tableau data"
   ]
  },
  {
   "cell_type": "code",
   "execution_count": 4,
   "metadata": {
    "execution": {
     "iopub.execute_input": "2021-03-18T13:42:10.820865Z",
     "iopub.status.busy": "2021-03-18T13:42:10.820278Z",
     "iopub.status.idle": "2021-03-18T13:42:10.824026Z",
     "shell.execute_reply": "2021-03-18T13:42:10.823349Z"
    }
   },
   "outputs": [],
   "source": [
    "dataUrl = f'https://public.tableau.com{tableauData[\"vizql_root\"]}/bootstrapSession/sessions/{tableauData[\"sessionid\"]}'"
   ]
  },
  {
   "cell_type": "code",
   "execution_count": 5,
   "metadata": {
    "execution": {
     "iopub.execute_input": "2021-03-18T13:42:10.832844Z",
     "iopub.status.busy": "2021-03-18T13:42:10.832242Z",
     "iopub.status.idle": "2021-03-18T13:42:11.073748Z",
     "shell.execute_reply": "2021-03-18T13:42:11.073244Z"
    }
   },
   "outputs": [],
   "source": [
    "r = requests.post(dataUrl, data= {\n",
    "    \"sheet_id\": tableauData[\"sheetId\"],\n",
    "})\n",
    "\n",
    "dataReg = re.search('\\d+;({.*})\\d+;({.*})', r.text, re.MULTILINE)\n",
    "data1 = json.loads(dataReg.group(2))\n",
    "\n",
    "dataJson = data1[\"secondaryInfo\"][\"presModelMap\"][\"dataDictionary\"][\"presModelHolder\"][\"genDataDictionaryPresModel\"][\"dataSegments\"][\"0\"][\"dataColumns\"]"
   ]
  },
  {
   "cell_type": "markdown",
   "metadata": {},
   "source": [
    "Isolate what you want"
   ]
  },
  {
   "cell_type": "code",
   "execution_count": 6,
   "metadata": {
    "execution": {
     "iopub.execute_input": "2021-03-18T13:42:11.077864Z",
     "iopub.status.busy": "2021-03-18T13:42:11.077342Z",
     "iopub.status.idle": "2021-03-18T13:42:11.081007Z",
     "shell.execute_reply": "2021-03-18T13:42:11.080553Z"
    }
   },
   "outputs": [],
   "source": [
    "counties = dataJson[2]['dataValues'][:58]"
   ]
  },
  {
   "cell_type": "code",
   "execution_count": 7,
   "metadata": {
    "execution": {
     "iopub.execute_input": "2021-03-18T13:42:11.085254Z",
     "iopub.status.busy": "2021-03-18T13:42:11.084257Z",
     "iopub.status.idle": "2021-03-18T13:42:11.086388Z",
     "shell.execute_reply": "2021-03-18T13:42:11.086954Z"
    }
   },
   "outputs": [],
   "source": [
    "doses = dataJson[0]['dataValues'][3:61]"
   ]
  },
  {
   "cell_type": "markdown",
   "metadata": {},
   "source": [
    "Data formatting"
   ]
  },
  {
   "cell_type": "code",
   "execution_count": 8,
   "metadata": {
    "execution": {
     "iopub.execute_input": "2021-03-18T13:42:11.091437Z",
     "iopub.status.busy": "2021-03-18T13:42:11.090556Z",
     "iopub.status.idle": "2021-03-18T13:42:11.092872Z",
     "shell.execute_reply": "2021-03-18T13:42:11.092437Z"
    }
   },
   "outputs": [],
   "source": [
    "zipped = dict(zip(counties, doses))"
   ]
  },
  {
   "cell_type": "code",
   "execution_count": 9,
   "metadata": {
    "execution": {
     "iopub.execute_input": "2021-03-18T13:42:11.100104Z",
     "iopub.status.busy": "2021-03-18T13:42:11.098520Z",
     "iopub.status.idle": "2021-03-18T13:42:11.101017Z",
     "shell.execute_reply": "2021-03-18T13:42:11.101571Z"
    }
   },
   "outputs": [],
   "source": [
    "df = pd.Series(zipped).reset_index()"
   ]
  },
  {
   "cell_type": "code",
   "execution_count": 10,
   "metadata": {
    "execution": {
     "iopub.execute_input": "2021-03-18T13:42:11.111872Z",
     "iopub.status.busy": "2021-03-18T13:42:11.110963Z",
     "iopub.status.idle": "2021-03-18T13:42:11.112890Z",
     "shell.execute_reply": "2021-03-18T13:42:11.113294Z"
    }
   },
   "outputs": [],
   "source": [
    "df.columns = ['location','doses']"
   ]
  },
  {
   "cell_type": "markdown",
   "metadata": {},
   "source": [
    "Grab the overall California total"
   ]
  },
  {
   "cell_type": "code",
   "execution_count": 11,
   "metadata": {
    "execution": {
     "iopub.execute_input": "2021-03-18T13:42:11.118008Z",
     "iopub.status.busy": "2021-03-18T13:42:11.116622Z",
     "iopub.status.idle": "2021-03-18T13:42:11.119296Z",
     "shell.execute_reply": "2021-03-18T13:42:11.118735Z"
    }
   },
   "outputs": [],
   "source": [
    "add = {'location':'California','doses':dataJson[0]['dataValues'][2]}"
   ]
  },
  {
   "cell_type": "code",
   "execution_count": 12,
   "metadata": {
    "execution": {
     "iopub.execute_input": "2021-03-18T13:42:11.128058Z",
     "iopub.status.busy": "2021-03-18T13:42:11.126346Z",
     "iopub.status.idle": "2021-03-18T13:42:11.128677Z",
     "shell.execute_reply": "2021-03-18T13:42:11.129104Z"
    }
   },
   "outputs": [],
   "source": [
    "df = df.append(add, ignore_index=True)"
   ]
  },
  {
   "cell_type": "code",
   "execution_count": 13,
   "metadata": {
    "execution": {
     "iopub.execute_input": "2021-03-18T13:42:11.134181Z",
     "iopub.status.busy": "2021-03-18T13:42:11.132995Z",
     "iopub.status.idle": "2021-03-18T13:42:11.135056Z",
     "shell.execute_reply": "2021-03-18T13:42:11.135478Z"
    }
   },
   "outputs": [],
   "source": [
    "df = df.sort_values(by='location')"
   ]
  },
  {
   "cell_type": "code",
   "execution_count": 14,
   "metadata": {
    "execution": {
     "iopub.execute_input": "2021-03-18T13:42:11.143865Z",
     "iopub.status.busy": "2021-03-18T13:42:11.142504Z",
     "iopub.status.idle": "2021-03-18T13:42:11.144503Z",
     "shell.execute_reply": "2021-03-18T13:42:11.144939Z"
    }
   },
   "outputs": [],
   "source": [
    "df = df[df.location == 'California'].append(df[df.location != 'California']).reset_index(drop=True)"
   ]
  },
  {
   "cell_type": "code",
   "execution_count": null,
   "metadata": {},
   "outputs": [],
   "source": []
  },
  {
   "cell_type": "code",
   "execution_count": 15,
   "metadata": {
    "execution": {
     "iopub.execute_input": "2021-03-18T13:42:11.148656Z",
     "iopub.status.busy": "2021-03-18T13:42:11.148102Z",
     "iopub.status.idle": "2021-03-18T13:42:11.165643Z",
     "shell.execute_reply": "2021-03-18T13:42:11.165190Z"
    }
   },
   "outputs": [],
   "source": [
    "tz = pytz.timezone(\"America/New_York\")"
   ]
  },
  {
   "cell_type": "code",
   "execution_count": 16,
   "metadata": {
    "execution": {
     "iopub.execute_input": "2021-03-18T13:42:11.169846Z",
     "iopub.status.busy": "2021-03-18T13:42:11.168735Z",
     "iopub.status.idle": "2021-03-18T13:42:11.170432Z",
     "shell.execute_reply": "2021-03-18T13:42:11.170859Z"
    }
   },
   "outputs": [],
   "source": [
    "today = datetime.now(tz).date()"
   ]
  },
  {
   "cell_type": "code",
   "execution_count": 17,
   "metadata": {
    "execution": {
     "iopub.execute_input": "2021-03-18T13:42:11.175296Z",
     "iopub.status.busy": "2021-03-18T13:42:11.174392Z",
     "iopub.status.idle": "2021-03-18T13:42:11.176650Z",
     "shell.execute_reply": "2021-03-18T13:42:11.176182Z"
    }
   },
   "outputs": [],
   "source": [
    "data_dir = os.path.join(os.path.abspath(\"\"), \"data\")"
   ]
  },
  {
   "cell_type": "code",
   "execution_count": 18,
   "metadata": {
    "execution": {
     "iopub.execute_input": "2021-03-18T13:42:11.182377Z",
     "iopub.status.busy": "2021-03-18T13:42:11.180055Z",
     "iopub.status.idle": "2021-03-18T13:42:11.185081Z",
     "shell.execute_reply": "2021-03-18T13:42:11.184561Z"
    }
   },
   "outputs": [],
   "source": [
    "df.to_csv(os.path.join(data_dir, f\"{today}.csv\"), index=False)"
   ]
  },
  {
   "cell_type": "code",
   "execution_count": null,
   "metadata": {},
   "outputs": [],
   "source": []
  }
 ],
 "metadata": {
  "kernelspec": {
   "display_name": "Python 3",
   "language": "python",
   "name": "python3"
  },
  "language_info": {
   "codemirror_mode": {
    "name": "ipython",
    "version": 3
   },
   "file_extension": ".py",
   "mimetype": "text/x-python",
   "name": "python",
   "nbconvert_exporter": "python",
   "pygments_lexer": "ipython3",
   "version": "3.8.8"
  }
 },
 "nbformat": 4,
 "nbformat_minor": 4
}
