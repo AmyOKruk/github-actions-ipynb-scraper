{
 "cells": [
  {
   "cell_type": "markdown",
   "metadata": {},
   "source": [
    "# California COVID vaccinations scrape"
   ]
  },
  {
   "cell_type": "markdown",
   "metadata": {},
   "source": [
    "By [Amy O'Kruk](https://twitter.com/amyokruk)"
   ]
  },
  {
   "cell_type": "markdown",
   "metadata": {},
   "source": [
    "Downloads data on vaccine doses administered by county and statewide from a Tableau-powered dashboard from the California Department of Public Health."
   ]
  },
  {
   "cell_type": "code",
   "execution_count": 1,
   "metadata": {
    "execution": {
     "iopub.execute_input": "2021-03-16T18:15:20.898942Z",
     "iopub.status.busy": "2021-03-16T18:15:20.898322Z",
     "iopub.status.idle": "2021-03-16T18:15:21.350066Z",
     "shell.execute_reply": "2021-03-16T18:15:21.349414Z"
    }
   },
   "outputs": [],
   "source": [
    "import pandas as pd\n",
    "import requests\n",
    "from bs4 import BeautifulSoup\n",
    "import json\n",
    "import re\n",
    "import time\n",
    "from time import gmtime, strftime \n",
    "import os\n",
    "import pytz\n",
    "from datetime import datetime"
   ]
  },
  {
   "cell_type": "markdown",
   "metadata": {},
   "source": [
    "Scrape the dashboard page"
   ]
  },
  {
   "cell_type": "code",
   "execution_count": 2,
   "metadata": {
    "execution": {
     "iopub.execute_input": "2021-03-16T18:15:21.354765Z",
     "iopub.status.busy": "2021-03-16T18:15:21.354230Z",
     "iopub.status.idle": "2021-03-16T18:15:21.691158Z",
     "shell.execute_reply": "2021-03-16T18:15:21.690336Z"
    }
   },
   "outputs": [],
   "source": [
    "url = \"https://public.tableau.com/interactive/views/COVID-19VaccineDashboardPublic/Vaccine?:embed=y&:showVizHome=n&:apiID=host0\"\n",
    "\n",
    "r = requests.get(url)\n",
    "soup = BeautifulSoup(r.text, \"html.parser\")"
   ]
  },
  {
   "cell_type": "code",
   "execution_count": 3,
   "metadata": {
    "execution": {
     "iopub.execute_input": "2021-03-16T18:15:21.698117Z",
     "iopub.status.busy": "2021-03-16T18:15:21.696212Z",
     "iopub.status.idle": "2021-03-16T18:15:21.700263Z",
     "shell.execute_reply": "2021-03-16T18:15:21.700668Z"
    }
   },
   "outputs": [],
   "source": [
    "tableauData = json.loads(soup.find(\"textarea\",{\"id\": \"tsConfigContainer\"}).text)"
   ]
  },
  {
   "cell_type": "markdown",
   "metadata": {},
   "source": [
    "Get the link to the Tableau data"
   ]
  },
  {
   "cell_type": "code",
   "execution_count": 4,
   "metadata": {
    "execution": {
     "iopub.execute_input": "2021-03-16T18:15:21.705125Z",
     "iopub.status.busy": "2021-03-16T18:15:21.703997Z",
     "iopub.status.idle": "2021-03-16T18:15:21.705745Z",
     "shell.execute_reply": "2021-03-16T18:15:21.706325Z"
    }
   },
   "outputs": [],
   "source": [
    "dataUrl = f'https://public.tableau.com{tableauData[\"vizql_root\"]}/bootstrapSession/sessions/{tableauData[\"sessionid\"]}'"
   ]
  },
  {
   "cell_type": "code",
   "execution_count": 5,
   "metadata": {
    "execution": {
     "iopub.execute_input": "2021-03-16T18:15:21.713164Z",
     "iopub.status.busy": "2021-03-16T18:15:21.712610Z",
     "iopub.status.idle": "2021-03-16T18:15:22.022578Z",
     "shell.execute_reply": "2021-03-16T18:15:22.022062Z"
    }
   },
   "outputs": [],
   "source": [
    "r = requests.post(dataUrl, data= {\n",
    "    \"sheet_id\": tableauData[\"sheetId\"],\n",
    "})\n",
    "\n",
    "dataReg = re.search('\\d+;({.*})\\d+;({.*})', r.text, re.MULTILINE)\n",
    "data1 = json.loads(dataReg.group(2))\n",
    "\n",
    "dataJson = data1[\"secondaryInfo\"][\"presModelMap\"][\"dataDictionary\"][\"presModelHolder\"][\"genDataDictionaryPresModel\"][\"dataSegments\"][\"0\"][\"dataColumns\"]"
   ]
  },
  {
   "cell_type": "markdown",
   "metadata": {},
   "source": [
    "Isolate what you want"
   ]
  },
  {
   "cell_type": "code",
   "execution_count": 6,
   "metadata": {
    "execution": {
     "iopub.execute_input": "2021-03-16T18:15:22.031723Z",
     "iopub.status.busy": "2021-03-16T18:15:22.030334Z",
     "iopub.status.idle": "2021-03-16T18:15:22.032349Z",
     "shell.execute_reply": "2021-03-16T18:15:22.032776Z"
    }
   },
   "outputs": [],
   "source": [
    "counties = dataJson[2]['dataValues'][:58]"
   ]
  },
  {
   "cell_type": "code",
   "execution_count": 7,
   "metadata": {
    "execution": {
     "iopub.execute_input": "2021-03-16T18:15:22.037325Z",
     "iopub.status.busy": "2021-03-16T18:15:22.036226Z",
     "iopub.status.idle": "2021-03-16T18:15:22.037948Z",
     "shell.execute_reply": "2021-03-16T18:15:22.038378Z"
    }
   },
   "outputs": [],
   "source": [
    "doses = dataJson[0]['dataValues'][3:61]"
   ]
  },
  {
   "cell_type": "markdown",
   "metadata": {},
   "source": [
    "Data formatting"
   ]
  },
  {
   "cell_type": "code",
   "execution_count": 8,
   "metadata": {
    "execution": {
     "iopub.execute_input": "2021-03-16T18:15:22.042768Z",
     "iopub.status.busy": "2021-03-16T18:15:22.041559Z",
     "iopub.status.idle": "2021-03-16T18:15:22.043428Z",
     "shell.execute_reply": "2021-03-16T18:15:22.043854Z"
    }
   },
   "outputs": [],
   "source": [
    "zipped = dict(zip(counties, doses))"
   ]
  },
  {
   "cell_type": "code",
   "execution_count": 9,
   "metadata": {
    "execution": {
     "iopub.execute_input": "2021-03-16T18:15:22.050479Z",
     "iopub.status.busy": "2021-03-16T18:15:22.049259Z",
     "iopub.status.idle": "2021-03-16T18:15:22.051074Z",
     "shell.execute_reply": "2021-03-16T18:15:22.051495Z"
    }
   },
   "outputs": [],
   "source": [
    "df = pd.Series(zipped).reset_index()"
   ]
  },
  {
   "cell_type": "code",
   "execution_count": 10,
   "metadata": {
    "execution": {
     "iopub.execute_input": "2021-03-16T18:15:22.056127Z",
     "iopub.status.busy": "2021-03-16T18:15:22.054788Z",
     "iopub.status.idle": "2021-03-16T18:15:22.056733Z",
     "shell.execute_reply": "2021-03-16T18:15:22.057158Z"
    }
   },
   "outputs": [],
   "source": [
    "df.columns = ['location','doses']"
   ]
  },
  {
   "cell_type": "markdown",
   "metadata": {},
   "source": [
    "Grab the overall California total"
   ]
  },
  {
   "cell_type": "code",
   "execution_count": 11,
   "metadata": {
    "execution": {
     "iopub.execute_input": "2021-03-16T18:15:22.061420Z",
     "iopub.status.busy": "2021-03-16T18:15:22.060335Z",
     "iopub.status.idle": "2021-03-16T18:15:22.062040Z",
     "shell.execute_reply": "2021-03-16T18:15:22.062467Z"
    }
   },
   "outputs": [],
   "source": [
    "add = {'location':'California','doses':dataJson[0]['dataValues'][2]}"
   ]
  },
  {
   "cell_type": "code",
   "execution_count": 12,
   "metadata": {
    "execution": {
     "iopub.execute_input": "2021-03-16T18:15:22.069282Z",
     "iopub.status.busy": "2021-03-16T18:15:22.068545Z",
     "iopub.status.idle": "2021-03-16T18:15:22.072581Z",
     "shell.execute_reply": "2021-03-16T18:15:22.072124Z"
    }
   },
   "outputs": [],
   "source": [
    "df = df.append(add, ignore_index=True)"
   ]
  },
  {
   "cell_type": "code",
   "execution_count": 13,
   "metadata": {
    "execution": {
     "iopub.execute_input": "2021-03-16T18:15:22.078299Z",
     "iopub.status.busy": "2021-03-16T18:15:22.077364Z",
     "iopub.status.idle": "2021-03-16T18:15:22.079185Z",
     "shell.execute_reply": "2021-03-16T18:15:22.079612Z"
    }
   },
   "outputs": [],
   "source": [
    "df = df.sort_values(by='location')"
   ]
  },
  {
   "cell_type": "code",
   "execution_count": 14,
   "metadata": {
    "execution": {
     "iopub.execute_input": "2021-03-16T18:15:22.086343Z",
     "iopub.status.busy": "2021-03-16T18:15:22.085075Z",
     "iopub.status.idle": "2021-03-16T18:15:22.086947Z",
     "shell.execute_reply": "2021-03-16T18:15:22.087521Z"
    }
   },
   "outputs": [],
   "source": [
    "df = df[df.location == 'California'].append(df[df.location != 'California']).reset_index(drop=True)"
   ]
  },
  {
   "cell_type": "code",
   "execution_count": null,
   "metadata": {},
   "outputs": [],
   "source": []
  },
  {
   "cell_type": "code",
   "execution_count": 15,
   "metadata": {
    "execution": {
     "iopub.execute_input": "2021-03-16T18:15:22.090784Z",
     "iopub.status.busy": "2021-03-16T18:15:22.090272Z",
     "iopub.status.idle": "2021-03-16T18:15:22.107471Z",
     "shell.execute_reply": "2021-03-16T18:15:22.107018Z"
    }
   },
   "outputs": [],
   "source": [
    "tz = pytz.timezone(\"America/New_York\")"
   ]
  },
  {
   "cell_type": "code",
   "execution_count": 16,
   "metadata": {
    "execution": {
     "iopub.execute_input": "2021-03-16T18:15:22.111667Z",
     "iopub.status.busy": "2021-03-16T18:15:22.110496Z",
     "iopub.status.idle": "2021-03-16T18:15:22.112324Z",
     "shell.execute_reply": "2021-03-16T18:15:22.112755Z"
    }
   },
   "outputs": [],
   "source": [
    "today = datetime.now(tz).date()"
   ]
  },
  {
   "cell_type": "code",
   "execution_count": 17,
   "metadata": {
    "execution": {
     "iopub.execute_input": "2021-03-16T18:15:22.117266Z",
     "iopub.status.busy": "2021-03-16T18:15:22.115932Z",
     "iopub.status.idle": "2021-03-16T18:15:22.117950Z",
     "shell.execute_reply": "2021-03-16T18:15:22.118376Z"
    }
   },
   "outputs": [],
   "source": [
    "data_dir = os.path.join(os.path.abspath(\"\"), \"data\")"
   ]
  },
  {
   "cell_type": "code",
   "execution_count": 18,
   "metadata": {
    "execution": {
     "iopub.execute_input": "2021-03-16T18:15:22.124013Z",
     "iopub.status.busy": "2021-03-16T18:15:22.121753Z",
     "iopub.status.idle": "2021-03-16T18:15:22.126414Z",
     "shell.execute_reply": "2021-03-16T18:15:22.125892Z"
    }
   },
   "outputs": [],
   "source": [
    "df.to_csv(os.path.join(data_dir, f\"{today}.csv\"), index=False)"
   ]
  },
  {
   "cell_type": "code",
   "execution_count": null,
   "metadata": {},
   "outputs": [],
   "source": []
  }
 ],
 "metadata": {
  "kernelspec": {
   "display_name": "Python 3",
   "language": "python",
   "name": "python3"
  },
  "language_info": {
   "codemirror_mode": {
    "name": "ipython",
    "version": 3
   },
   "file_extension": ".py",
   "mimetype": "text/x-python",
   "name": "python",
   "nbconvert_exporter": "python",
   "pygments_lexer": "ipython3",
   "version": "3.8.8"
  }
 },
 "nbformat": 4,
 "nbformat_minor": 4
}
