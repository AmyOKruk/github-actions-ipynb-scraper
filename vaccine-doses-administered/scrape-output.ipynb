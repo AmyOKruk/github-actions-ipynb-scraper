{
 "cells": [
  {
   "cell_type": "markdown",
   "metadata": {},
   "source": [
    "# California COVID vaccinations scrape"
   ]
  },
  {
   "cell_type": "markdown",
   "metadata": {},
   "source": [
    "By [Amy O'Kruk](https://twitter.com/amyokruk)"
   ]
  },
  {
   "cell_type": "markdown",
   "metadata": {},
   "source": [
    "Downloads data on vaccine doses administered by county and statewide from a Tableau-powered dashboard from the California Department of Public Health."
   ]
  },
  {
   "cell_type": "code",
   "execution_count": 1,
   "metadata": {
    "execution": {
     "iopub.execute_input": "2021-03-20T15:44:20.519870Z",
     "iopub.status.busy": "2021-03-20T15:44:20.519246Z",
     "iopub.status.idle": "2021-03-20T15:44:20.939135Z",
     "shell.execute_reply": "2021-03-20T15:44:20.938573Z"
    }
   },
   "outputs": [],
   "source": [
    "import pandas as pd\n",
    "import requests\n",
    "from bs4 import BeautifulSoup\n",
    "import json\n",
    "import re\n",
    "import time\n",
    "from time import gmtime, strftime \n",
    "import os\n",
    "import pytz\n",
    "from datetime import datetime"
   ]
  },
  {
   "cell_type": "markdown",
   "metadata": {},
   "source": [
    "Scrape the dashboard page"
   ]
  },
  {
   "cell_type": "code",
   "execution_count": 2,
   "metadata": {
    "execution": {
     "iopub.execute_input": "2021-03-20T15:44:20.943249Z",
     "iopub.status.busy": "2021-03-20T15:44:20.942720Z",
     "iopub.status.idle": "2021-03-20T15:44:21.250288Z",
     "shell.execute_reply": "2021-03-20T15:44:21.249797Z"
    }
   },
   "outputs": [],
   "source": [
    "url = \"https://public.tableau.com/interactive/views/COVID-19VaccineDashboardPublic/Vaccine?:embed=y&:showVizHome=n&:apiID=host0\"\n",
    "\n",
    "r = requests.get(url)\n",
    "soup = BeautifulSoup(r.text, \"html.parser\")"
   ]
  },
  {
   "cell_type": "code",
   "execution_count": 3,
   "metadata": {
    "execution": {
     "iopub.execute_input": "2021-03-20T15:44:21.255958Z",
     "iopub.status.busy": "2021-03-20T15:44:21.254740Z",
     "iopub.status.idle": "2021-03-20T15:44:21.256549Z",
     "shell.execute_reply": "2021-03-20T15:44:21.256966Z"
    }
   },
   "outputs": [],
   "source": [
    "tableauData = json.loads(soup.find(\"textarea\",{\"id\": \"tsConfigContainer\"}).text)"
   ]
  },
  {
   "cell_type": "markdown",
   "metadata": {},
   "source": [
    "Get the link to the Tableau data"
   ]
  },
  {
   "cell_type": "code",
   "execution_count": 4,
   "metadata": {
    "execution": {
     "iopub.execute_input": "2021-03-20T15:44:21.261129Z",
     "iopub.status.busy": "2021-03-20T15:44:21.260028Z",
     "iopub.status.idle": "2021-03-20T15:44:21.261711Z",
     "shell.execute_reply": "2021-03-20T15:44:21.262129Z"
    }
   },
   "outputs": [],
   "source": [
    "dataUrl = f'https://public.tableau.com{tableauData[\"vizql_root\"]}/bootstrapSession/sessions/{tableauData[\"sessionid\"]}'"
   ]
  },
  {
   "cell_type": "code",
   "execution_count": 5,
   "metadata": {
    "execution": {
     "iopub.execute_input": "2021-03-20T15:44:21.268673Z",
     "iopub.status.busy": "2021-03-20T15:44:21.268139Z",
     "iopub.status.idle": "2021-03-20T15:44:21.658996Z",
     "shell.execute_reply": "2021-03-20T15:44:21.659455Z"
    }
   },
   "outputs": [],
   "source": [
    "r = requests.post(dataUrl, data= {\n",
    "    \"sheet_id\": tableauData[\"sheetId\"],\n",
    "})\n",
    "\n",
    "dataReg = re.search('\\d+;({.*})\\d+;({.*})', r.text, re.MULTILINE)\n",
    "data1 = json.loads(dataReg.group(2))\n",
    "\n",
    "dataJson = data1[\"secondaryInfo\"][\"presModelMap\"][\"dataDictionary\"][\"presModelHolder\"][\"genDataDictionaryPresModel\"][\"dataSegments\"][\"0\"][\"dataColumns\"]"
   ]
  },
  {
   "cell_type": "markdown",
   "metadata": {},
   "source": [
    "Isolate what you want"
   ]
  },
  {
   "cell_type": "code",
   "execution_count": 6,
   "metadata": {
    "execution": {
     "iopub.execute_input": "2021-03-20T15:44:21.663927Z",
     "iopub.status.busy": "2021-03-20T15:44:21.662789Z",
     "iopub.status.idle": "2021-03-20T15:44:21.664518Z",
     "shell.execute_reply": "2021-03-20T15:44:21.664937Z"
    }
   },
   "outputs": [],
   "source": [
    "counties = dataJson[2]['dataValues'][:58]"
   ]
  },
  {
   "cell_type": "code",
   "execution_count": 7,
   "metadata": {
    "execution": {
     "iopub.execute_input": "2021-03-20T15:44:21.669365Z",
     "iopub.status.busy": "2021-03-20T15:44:21.668156Z",
     "iopub.status.idle": "2021-03-20T15:44:21.669958Z",
     "shell.execute_reply": "2021-03-20T15:44:21.670380Z"
    }
   },
   "outputs": [],
   "source": [
    "doses = dataJson[0]['dataValues'][3:61]"
   ]
  },
  {
   "cell_type": "markdown",
   "metadata": {},
   "source": [
    "Data formatting"
   ]
  },
  {
   "cell_type": "code",
   "execution_count": 8,
   "metadata": {
    "execution": {
     "iopub.execute_input": "2021-03-20T15:44:21.674641Z",
     "iopub.status.busy": "2021-03-20T15:44:21.673520Z",
     "iopub.status.idle": "2021-03-20T15:44:21.675230Z",
     "shell.execute_reply": "2021-03-20T15:44:21.675679Z"
    }
   },
   "outputs": [],
   "source": [
    "zipped = dict(zip(counties, doses))"
   ]
  },
  {
   "cell_type": "code",
   "execution_count": 9,
   "metadata": {
    "execution": {
     "iopub.execute_input": "2021-03-20T15:44:21.682253Z",
     "iopub.status.busy": "2021-03-20T15:44:21.680939Z",
     "iopub.status.idle": "2021-03-20T15:44:21.683000Z",
     "shell.execute_reply": "2021-03-20T15:44:21.683458Z"
    }
   },
   "outputs": [],
   "source": [
    "df = pd.Series(zipped).reset_index()"
   ]
  },
  {
   "cell_type": "code",
   "execution_count": 10,
   "metadata": {
    "execution": {
     "iopub.execute_input": "2021-03-20T15:44:21.687840Z",
     "iopub.status.busy": "2021-03-20T15:44:21.686677Z",
     "iopub.status.idle": "2021-03-20T15:44:21.688507Z",
     "shell.execute_reply": "2021-03-20T15:44:21.688925Z"
    }
   },
   "outputs": [],
   "source": [
    "df.columns = ['location','doses']"
   ]
  },
  {
   "cell_type": "markdown",
   "metadata": {},
   "source": [
    "Grab the overall California total"
   ]
  },
  {
   "cell_type": "code",
   "execution_count": 11,
   "metadata": {
    "execution": {
     "iopub.execute_input": "2021-03-20T15:44:21.693316Z",
     "iopub.status.busy": "2021-03-20T15:44:21.692146Z",
     "iopub.status.idle": "2021-03-20T15:44:21.693902Z",
     "shell.execute_reply": "2021-03-20T15:44:21.694317Z"
    }
   },
   "outputs": [],
   "source": [
    "add = {'location':'California','doses':dataJson[0]['dataValues'][2]}"
   ]
  },
  {
   "cell_type": "code",
   "execution_count": 12,
   "metadata": {
    "execution": {
     "iopub.execute_input": "2021-03-20T15:44:21.701250Z",
     "iopub.status.busy": "2021-03-20T15:44:21.700142Z",
     "iopub.status.idle": "2021-03-20T15:44:21.701838Z",
     "shell.execute_reply": "2021-03-20T15:44:21.702255Z"
    }
   },
   "outputs": [],
   "source": [
    "df = df.append(add, ignore_index=True)"
   ]
  },
  {
   "cell_type": "code",
   "execution_count": 13,
   "metadata": {
    "execution": {
     "iopub.execute_input": "2021-03-20T15:44:21.707165Z",
     "iopub.status.busy": "2021-03-20T15:44:21.706013Z",
     "iopub.status.idle": "2021-03-20T15:44:21.707779Z",
     "shell.execute_reply": "2021-03-20T15:44:21.708200Z"
    }
   },
   "outputs": [],
   "source": [
    "df = df.sort_values(by='location')"
   ]
  },
  {
   "cell_type": "code",
   "execution_count": 14,
   "metadata": {
    "execution": {
     "iopub.execute_input": "2021-03-20T15:44:21.714979Z",
     "iopub.status.busy": "2021-03-20T15:44:21.713739Z",
     "iopub.status.idle": "2021-03-20T15:44:21.715585Z",
     "shell.execute_reply": "2021-03-20T15:44:21.716007Z"
    }
   },
   "outputs": [],
   "source": [
    "df = df[df.location == 'California'].append(df[df.location != 'California']).reset_index(drop=True)"
   ]
  },
  {
   "cell_type": "code",
   "execution_count": null,
   "metadata": {},
   "outputs": [],
   "source": []
  },
  {
   "cell_type": "code",
   "execution_count": 15,
   "metadata": {
    "execution": {
     "iopub.execute_input": "2021-03-20T15:44:21.719518Z",
     "iopub.status.busy": "2021-03-20T15:44:21.718985Z",
     "iopub.status.idle": "2021-03-20T15:44:21.736490Z",
     "shell.execute_reply": "2021-03-20T15:44:21.736039Z"
    }
   },
   "outputs": [],
   "source": [
    "tz = pytz.timezone(\"America/New_York\")"
   ]
  },
  {
   "cell_type": "code",
   "execution_count": 16,
   "metadata": {
    "execution": {
     "iopub.execute_input": "2021-03-20T15:44:21.741015Z",
     "iopub.status.busy": "2021-03-20T15:44:21.739758Z",
     "iopub.status.idle": "2021-03-20T15:44:21.741602Z",
     "shell.execute_reply": "2021-03-20T15:44:21.742030Z"
    }
   },
   "outputs": [],
   "source": [
    "today = datetime.now(tz).date()"
   ]
  },
  {
   "cell_type": "code",
   "execution_count": 17,
   "metadata": {
    "execution": {
     "iopub.execute_input": "2021-03-20T15:44:21.750428Z",
     "iopub.status.busy": "2021-03-20T15:44:21.748815Z",
     "iopub.status.idle": "2021-03-20T15:44:21.751014Z",
     "shell.execute_reply": "2021-03-20T15:44:21.751464Z"
    }
   },
   "outputs": [],
   "source": [
    "data_dir = os.path.join(os.path.abspath(\"\"), \"data\")"
   ]
  },
  {
   "cell_type": "code",
   "execution_count": 18,
   "metadata": {
    "execution": {
     "iopub.execute_input": "2021-03-20T15:44:21.757195Z",
     "iopub.status.busy": "2021-03-20T15:44:21.754792Z",
     "iopub.status.idle": "2021-03-20T15:44:21.758999Z",
     "shell.execute_reply": "2021-03-20T15:44:21.759420Z"
    }
   },
   "outputs": [],
   "source": [
    "df.to_csv(os.path.join(data_dir, f\"{today}.csv\"), index=False)"
   ]
  },
  {
   "cell_type": "code",
   "execution_count": null,
   "metadata": {},
   "outputs": [],
   "source": []
  }
 ],
 "metadata": {
  "kernelspec": {
   "display_name": "Python 3",
   "language": "python",
   "name": "python3"
  },
  "language_info": {
   "codemirror_mode": {
    "name": "ipython",
    "version": 3
   },
   "file_extension": ".py",
   "mimetype": "text/x-python",
   "name": "python",
   "nbconvert_exporter": "python",
   "pygments_lexer": "ipython3",
   "version": "3.8.8"
  }
 },
 "nbformat": 4,
 "nbformat_minor": 4
}
