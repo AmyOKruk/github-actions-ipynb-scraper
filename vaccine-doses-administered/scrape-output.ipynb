{
 "cells": [
  {
   "cell_type": "markdown",
   "metadata": {},
   "source": [
    "# California COVID vaccinations scrape"
   ]
  },
  {
   "cell_type": "markdown",
   "metadata": {},
   "source": [
    "By [Amy O'Kruk](https://twitter.com/amyokruk)"
   ]
  },
  {
   "cell_type": "markdown",
   "metadata": {},
   "source": [
    "Downloads data on vaccine doses administered by county and statewide from a Tableau-powered dashboard from the California Department of Public Health."
   ]
  },
  {
   "cell_type": "code",
   "execution_count": 1,
   "metadata": {
    "execution": {
     "iopub.execute_input": "2021-03-21T16:25:50.770972Z",
     "iopub.status.busy": "2021-03-21T16:25:50.770256Z",
     "iopub.status.idle": "2021-03-21T16:25:51.165862Z",
     "shell.execute_reply": "2021-03-21T16:25:51.164993Z"
    }
   },
   "outputs": [],
   "source": [
    "import pandas as pd\n",
    "import requests\n",
    "from bs4 import BeautifulSoup\n",
    "import json\n",
    "import re\n",
    "import time\n",
    "from time import gmtime, strftime \n",
    "import os\n",
    "import pytz\n",
    "from datetime import datetime"
   ]
  },
  {
   "cell_type": "markdown",
   "metadata": {},
   "source": [
    "Scrape the dashboard page"
   ]
  },
  {
   "cell_type": "code",
   "execution_count": 2,
   "metadata": {
    "execution": {
     "iopub.execute_input": "2021-03-21T16:25:51.173114Z",
     "iopub.status.busy": "2021-03-21T16:25:51.169830Z",
     "iopub.status.idle": "2021-03-21T16:25:51.820880Z",
     "shell.execute_reply": "2021-03-21T16:25:51.819996Z"
    }
   },
   "outputs": [],
   "source": [
    "url = \"https://public.tableau.com/interactive/views/COVID-19VaccineDashboardPublic/Vaccine?:embed=y&:showVizHome=n&:apiID=host0\"\n",
    "\n",
    "r = requests.get(url)\n",
    "soup = BeautifulSoup(r.text, \"html.parser\")"
   ]
  },
  {
   "cell_type": "code",
   "execution_count": 3,
   "metadata": {
    "execution": {
     "iopub.execute_input": "2021-03-21T16:25:51.826129Z",
     "iopub.status.busy": "2021-03-21T16:25:51.825565Z",
     "iopub.status.idle": "2021-03-21T16:25:51.829051Z",
     "shell.execute_reply": "2021-03-21T16:25:51.829509Z"
    }
   },
   "outputs": [],
   "source": [
    "tableauData = json.loads(soup.find(\"textarea\",{\"id\": \"tsConfigContainer\"}).text)"
   ]
  },
  {
   "cell_type": "markdown",
   "metadata": {},
   "source": [
    "Get the link to the Tableau data"
   ]
  },
  {
   "cell_type": "code",
   "execution_count": 4,
   "metadata": {
    "execution": {
     "iopub.execute_input": "2021-03-21T16:25:51.833230Z",
     "iopub.status.busy": "2021-03-21T16:25:51.832704Z",
     "iopub.status.idle": "2021-03-21T16:25:51.836449Z",
     "shell.execute_reply": "2021-03-21T16:25:51.835975Z"
    }
   },
   "outputs": [],
   "source": [
    "dataUrl = f'https://public.tableau.com{tableauData[\"vizql_root\"]}/bootstrapSession/sessions/{tableauData[\"sessionid\"]}'"
   ]
  },
  {
   "cell_type": "code",
   "execution_count": 5,
   "metadata": {
    "execution": {
     "iopub.execute_input": "2021-03-21T16:25:51.844864Z",
     "iopub.status.busy": "2021-03-21T16:25:51.844157Z",
     "iopub.status.idle": "2021-03-21T16:25:52.308290Z",
     "shell.execute_reply": "2021-03-21T16:25:52.307712Z"
    }
   },
   "outputs": [],
   "source": [
    "r = requests.post(dataUrl, data= {\n",
    "    \"sheet_id\": tableauData[\"sheetId\"],\n",
    "})\n",
    "\n",
    "dataReg = re.search('\\d+;({.*})\\d+;({.*})', r.text, re.MULTILINE)\n",
    "data1 = json.loads(dataReg.group(2))\n",
    "\n",
    "dataJson = data1[\"secondaryInfo\"][\"presModelMap\"][\"dataDictionary\"][\"presModelHolder\"][\"genDataDictionaryPresModel\"][\"dataSegments\"][\"0\"][\"dataColumns\"]"
   ]
  },
  {
   "cell_type": "markdown",
   "metadata": {},
   "source": [
    "Isolate what you want"
   ]
  },
  {
   "cell_type": "code",
   "execution_count": 6,
   "metadata": {
    "execution": {
     "iopub.execute_input": "2021-03-21T16:25:52.312921Z",
     "iopub.status.busy": "2021-03-21T16:25:52.312277Z",
     "iopub.status.idle": "2021-03-21T16:25:52.316207Z",
     "shell.execute_reply": "2021-03-21T16:25:52.315402Z"
    }
   },
   "outputs": [],
   "source": [
    "counties = dataJson[2]['dataValues'][:58]"
   ]
  },
  {
   "cell_type": "code",
   "execution_count": 7,
   "metadata": {
    "execution": {
     "iopub.execute_input": "2021-03-21T16:25:52.319605Z",
     "iopub.status.busy": "2021-03-21T16:25:52.319079Z",
     "iopub.status.idle": "2021-03-21T16:25:52.321113Z",
     "shell.execute_reply": "2021-03-21T16:25:52.321507Z"
    }
   },
   "outputs": [],
   "source": [
    "doses = dataJson[0]['dataValues'][3:61]"
   ]
  },
  {
   "cell_type": "markdown",
   "metadata": {},
   "source": [
    "Data formatting"
   ]
  },
  {
   "cell_type": "code",
   "execution_count": 8,
   "metadata": {
    "execution": {
     "iopub.execute_input": "2021-03-21T16:25:52.325536Z",
     "iopub.status.busy": "2021-03-21T16:25:52.324916Z",
     "iopub.status.idle": "2021-03-21T16:25:52.328941Z",
     "shell.execute_reply": "2021-03-21T16:25:52.328538Z"
    }
   },
   "outputs": [],
   "source": [
    "zipped = dict(zip(counties, doses))"
   ]
  },
  {
   "cell_type": "code",
   "execution_count": 9,
   "metadata": {
    "execution": {
     "iopub.execute_input": "2021-03-21T16:25:52.335745Z",
     "iopub.status.busy": "2021-03-21T16:25:52.334506Z",
     "iopub.status.idle": "2021-03-21T16:25:52.336663Z",
     "shell.execute_reply": "2021-03-21T16:25:52.337197Z"
    }
   },
   "outputs": [],
   "source": [
    "df = pd.Series(zipped).reset_index()"
   ]
  },
  {
   "cell_type": "code",
   "execution_count": 10,
   "metadata": {
    "execution": {
     "iopub.execute_input": "2021-03-21T16:25:52.343553Z",
     "iopub.status.busy": "2021-03-21T16:25:52.341721Z",
     "iopub.status.idle": "2021-03-21T16:25:52.344341Z",
     "shell.execute_reply": "2021-03-21T16:25:52.345145Z"
    }
   },
   "outputs": [],
   "source": [
    "df.columns = ['location','doses']"
   ]
  },
  {
   "cell_type": "markdown",
   "metadata": {},
   "source": [
    "Grab the overall California total"
   ]
  },
  {
   "cell_type": "code",
   "execution_count": 11,
   "metadata": {
    "execution": {
     "iopub.execute_input": "2021-03-21T16:25:52.350361Z",
     "iopub.status.busy": "2021-03-21T16:25:52.348837Z",
     "iopub.status.idle": "2021-03-21T16:25:52.351034Z",
     "shell.execute_reply": "2021-03-21T16:25:52.351512Z"
    }
   },
   "outputs": [],
   "source": [
    "add = {'location':'California','doses':dataJson[0]['dataValues'][2]}"
   ]
  },
  {
   "cell_type": "code",
   "execution_count": 12,
   "metadata": {
    "execution": {
     "iopub.execute_input": "2021-03-21T16:25:52.360544Z",
     "iopub.status.busy": "2021-03-21T16:25:52.359087Z",
     "iopub.status.idle": "2021-03-21T16:25:52.361329Z",
     "shell.execute_reply": "2021-03-21T16:25:52.361834Z"
    }
   },
   "outputs": [],
   "source": [
    "df = df.append(add, ignore_index=True)"
   ]
  },
  {
   "cell_type": "code",
   "execution_count": 13,
   "metadata": {
    "execution": {
     "iopub.execute_input": "2021-03-21T16:25:52.368078Z",
     "iopub.status.busy": "2021-03-21T16:25:52.366079Z",
     "iopub.status.idle": "2021-03-21T16:25:52.368702Z",
     "shell.execute_reply": "2021-03-21T16:25:52.369127Z"
    }
   },
   "outputs": [],
   "source": [
    "df = df.sort_values(by='location')"
   ]
  },
  {
   "cell_type": "code",
   "execution_count": 14,
   "metadata": {
    "execution": {
     "iopub.execute_input": "2021-03-21T16:25:52.376813Z",
     "iopub.status.busy": "2021-03-21T16:25:52.375274Z",
     "iopub.status.idle": "2021-03-21T16:25:52.377489Z",
     "shell.execute_reply": "2021-03-21T16:25:52.378092Z"
    }
   },
   "outputs": [],
   "source": [
    "df = df[df.location == 'California'].append(df[df.location != 'California']).reset_index(drop=True)"
   ]
  },
  {
   "cell_type": "code",
   "execution_count": null,
   "metadata": {},
   "outputs": [],
   "source": []
  },
  {
   "cell_type": "code",
   "execution_count": 15,
   "metadata": {
    "execution": {
     "iopub.execute_input": "2021-03-21T16:25:52.381639Z",
     "iopub.status.busy": "2021-03-21T16:25:52.381110Z",
     "iopub.status.idle": "2021-03-21T16:25:52.401743Z",
     "shell.execute_reply": "2021-03-21T16:25:52.401130Z"
    }
   },
   "outputs": [],
   "source": [
    "tz = pytz.timezone(\"America/New_York\")"
   ]
  },
  {
   "cell_type": "code",
   "execution_count": 16,
   "metadata": {
    "execution": {
     "iopub.execute_input": "2021-03-21T16:25:52.406911Z",
     "iopub.status.busy": "2021-03-21T16:25:52.405351Z",
     "iopub.status.idle": "2021-03-21T16:25:52.407778Z",
     "shell.execute_reply": "2021-03-21T16:25:52.408391Z"
    }
   },
   "outputs": [],
   "source": [
    "today = datetime.now(tz).date()"
   ]
  },
  {
   "cell_type": "code",
   "execution_count": 17,
   "metadata": {
    "execution": {
     "iopub.execute_input": "2021-03-21T16:25:52.413092Z",
     "iopub.status.busy": "2021-03-21T16:25:52.411673Z",
     "iopub.status.idle": "2021-03-21T16:25:52.413681Z",
     "shell.execute_reply": "2021-03-21T16:25:52.414126Z"
    }
   },
   "outputs": [],
   "source": [
    "data_dir = os.path.join(os.path.abspath(\"\"), \"data\")"
   ]
  },
  {
   "cell_type": "code",
   "execution_count": 18,
   "metadata": {
    "execution": {
     "iopub.execute_input": "2021-03-21T16:25:52.420621Z",
     "iopub.status.busy": "2021-03-21T16:25:52.417673Z",
     "iopub.status.idle": "2021-03-21T16:25:52.422960Z",
     "shell.execute_reply": "2021-03-21T16:25:52.422383Z"
    }
   },
   "outputs": [],
   "source": [
    "df.to_csv(os.path.join(data_dir, f\"{today}.csv\"), index=False)"
   ]
  },
  {
   "cell_type": "code",
   "execution_count": null,
   "metadata": {},
   "outputs": [],
   "source": []
  }
 ],
 "metadata": {
  "kernelspec": {
   "display_name": "Python 3",
   "language": "python",
   "name": "python3"
  },
  "language_info": {
   "codemirror_mode": {
    "name": "ipython",
    "version": 3
   },
   "file_extension": ".py",
   "mimetype": "text/x-python",
   "name": "python",
   "nbconvert_exporter": "python",
   "pygments_lexer": "ipython3",
   "version": "3.8.8"
  }
 },
 "nbformat": 4,
 "nbformat_minor": 4
}
