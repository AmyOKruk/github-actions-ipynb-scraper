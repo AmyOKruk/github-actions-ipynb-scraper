{
 "cells": [
  {
   "cell_type": "markdown",
   "metadata": {},
   "source": [
    "# California COVID vaccinations scrape"
   ]
  },
  {
   "cell_type": "markdown",
   "metadata": {},
   "source": [
    "By [Amy O'Kruk](https://twitter.com/amyokruk)"
   ]
  },
  {
   "cell_type": "markdown",
   "metadata": {},
   "source": [
    "Downloads data on vaccine doses administered by county and statewide from a Tableau-powered dashboard from the California Department of Public Health."
   ]
  },
  {
   "cell_type": "code",
   "execution_count": 1,
   "metadata": {
    "execution": {
     "iopub.execute_input": "2021-03-13T17:12:56.780763Z",
     "iopub.status.busy": "2021-03-13T17:12:56.780058Z",
     "iopub.status.idle": "2021-03-13T17:12:57.236138Z",
     "shell.execute_reply": "2021-03-13T17:12:57.235529Z"
    }
   },
   "outputs": [],
   "source": [
    "import pandas as pd\n",
    "import requests\n",
    "from bs4 import BeautifulSoup\n",
    "import json\n",
    "import re\n",
    "import time\n",
    "from time import gmtime, strftime \n",
    "import os\n",
    "import pytz\n",
    "from datetime import datetime"
   ]
  },
  {
   "cell_type": "markdown",
   "metadata": {},
   "source": [
    "Scrape the dashboard page"
   ]
  },
  {
   "cell_type": "code",
   "execution_count": 2,
   "metadata": {
    "execution": {
     "iopub.execute_input": "2021-03-13T17:12:57.241824Z",
     "iopub.status.busy": "2021-03-13T17:12:57.239465Z",
     "iopub.status.idle": "2021-03-13T17:12:57.543724Z",
     "shell.execute_reply": "2021-03-13T17:12:57.543225Z"
    }
   },
   "outputs": [],
   "source": [
    "url = \"https://public.tableau.com/interactive/views/COVID-19VaccineDashboardPublic/Vaccine?:embed=y&:showVizHome=n&:apiID=host0\"\n",
    "\n",
    "r = requests.get(url)\n",
    "soup = BeautifulSoup(r.text, \"html.parser\")"
   ]
  },
  {
   "cell_type": "code",
   "execution_count": 3,
   "metadata": {
    "execution": {
     "iopub.execute_input": "2021-03-13T17:12:57.548813Z",
     "iopub.status.busy": "2021-03-13T17:12:57.548188Z",
     "iopub.status.idle": "2021-03-13T17:12:57.551993Z",
     "shell.execute_reply": "2021-03-13T17:12:57.551508Z"
    }
   },
   "outputs": [],
   "source": [
    "tableauData = json.loads(soup.find(\"textarea\",{\"id\": \"tsConfigContainer\"}).text)"
   ]
  },
  {
   "cell_type": "markdown",
   "metadata": {},
   "source": [
    "Get the link to the Tableau data"
   ]
  },
  {
   "cell_type": "code",
   "execution_count": 4,
   "metadata": {
    "execution": {
     "iopub.execute_input": "2021-03-13T17:12:57.554983Z",
     "iopub.status.busy": "2021-03-13T17:12:57.553867Z",
     "iopub.status.idle": "2021-03-13T17:12:57.558994Z",
     "shell.execute_reply": "2021-03-13T17:12:57.559724Z"
    }
   },
   "outputs": [],
   "source": [
    "dataUrl = f'https://public.tableau.com{tableauData[\"vizql_root\"]}/bootstrapSession/sessions/{tableauData[\"sessionid\"]}'"
   ]
  },
  {
   "cell_type": "code",
   "execution_count": 5,
   "metadata": {
    "execution": {
     "iopub.execute_input": "2021-03-13T17:12:57.567254Z",
     "iopub.status.busy": "2021-03-13T17:12:57.566374Z",
     "iopub.status.idle": "2021-03-13T17:12:57.897776Z",
     "shell.execute_reply": "2021-03-13T17:12:57.897284Z"
    }
   },
   "outputs": [],
   "source": [
    "r = requests.post(dataUrl, data= {\n",
    "    \"sheet_id\": tableauData[\"sheetId\"],\n",
    "})\n",
    "\n",
    "dataReg = re.search('\\d+;({.*})\\d+;({.*})', r.text, re.MULTILINE)\n",
    "data1 = json.loads(dataReg.group(2))\n",
    "\n",
    "dataJson = data1[\"secondaryInfo\"][\"presModelMap\"][\"dataDictionary\"][\"presModelHolder\"][\"genDataDictionaryPresModel\"][\"dataSegments\"][\"0\"][\"dataColumns\"]"
   ]
  },
  {
   "cell_type": "markdown",
   "metadata": {},
   "source": [
    "Isolate what you want"
   ]
  },
  {
   "cell_type": "code",
   "execution_count": 6,
   "metadata": {
    "execution": {
     "iopub.execute_input": "2021-03-13T17:12:57.901580Z",
     "iopub.status.busy": "2021-03-13T17:12:57.901013Z",
     "iopub.status.idle": "2021-03-13T17:12:57.904070Z",
     "shell.execute_reply": "2021-03-13T17:12:57.904563Z"
    }
   },
   "outputs": [],
   "source": [
    "counties = dataJson[2]['dataValues'][:58]"
   ]
  },
  {
   "cell_type": "code",
   "execution_count": 7,
   "metadata": {
    "execution": {
     "iopub.execute_input": "2021-03-13T17:12:57.908757Z",
     "iopub.status.busy": "2021-03-13T17:12:57.908134Z",
     "iopub.status.idle": "2021-03-13T17:12:57.911635Z",
     "shell.execute_reply": "2021-03-13T17:12:57.912044Z"
    }
   },
   "outputs": [],
   "source": [
    "doses = dataJson[0]['dataValues'][3:61]"
   ]
  },
  {
   "cell_type": "markdown",
   "metadata": {},
   "source": [
    "Data formatting"
   ]
  },
  {
   "cell_type": "code",
   "execution_count": 8,
   "metadata": {
    "execution": {
     "iopub.execute_input": "2021-03-13T17:12:57.915362Z",
     "iopub.status.busy": "2021-03-13T17:12:57.914833Z",
     "iopub.status.idle": "2021-03-13T17:12:57.918863Z",
     "shell.execute_reply": "2021-03-13T17:12:57.919278Z"
    }
   },
   "outputs": [],
   "source": [
    "zipped = dict(zip(counties, doses))"
   ]
  },
  {
   "cell_type": "code",
   "execution_count": 9,
   "metadata": {
    "execution": {
     "iopub.execute_input": "2021-03-13T17:12:57.925426Z",
     "iopub.status.busy": "2021-03-13T17:12:57.924853Z",
     "iopub.status.idle": "2021-03-13T17:12:57.932187Z",
     "shell.execute_reply": "2021-03-13T17:12:57.931242Z"
    }
   },
   "outputs": [],
   "source": [
    "df = pd.Series(zipped).reset_index()"
   ]
  },
  {
   "cell_type": "code",
   "execution_count": 10,
   "metadata": {
    "execution": {
     "iopub.execute_input": "2021-03-13T17:12:57.936662Z",
     "iopub.status.busy": "2021-03-13T17:12:57.936027Z",
     "iopub.status.idle": "2021-03-13T17:12:57.939549Z",
     "shell.execute_reply": "2021-03-13T17:12:57.939955Z"
    }
   },
   "outputs": [],
   "source": [
    "df.columns = ['location','doses']"
   ]
  },
  {
   "cell_type": "markdown",
   "metadata": {},
   "source": [
    "Grab the overall California total"
   ]
  },
  {
   "cell_type": "code",
   "execution_count": 11,
   "metadata": {
    "execution": {
     "iopub.execute_input": "2021-03-13T17:12:57.943547Z",
     "iopub.status.busy": "2021-03-13T17:12:57.943034Z",
     "iopub.status.idle": "2021-03-13T17:12:57.946244Z",
     "shell.execute_reply": "2021-03-13T17:12:57.946648Z"
    }
   },
   "outputs": [],
   "source": [
    "add = {'location':'California','doses':dataJson[0]['dataValues'][2]}"
   ]
  },
  {
   "cell_type": "code",
   "execution_count": 12,
   "metadata": {
    "execution": {
     "iopub.execute_input": "2021-03-13T17:12:57.953069Z",
     "iopub.status.busy": "2021-03-13T17:12:57.952425Z",
     "iopub.status.idle": "2021-03-13T17:12:57.955865Z",
     "shell.execute_reply": "2021-03-13T17:12:57.956440Z"
    }
   },
   "outputs": [],
   "source": [
    "df = df.append(add, ignore_index=True)"
   ]
  },
  {
   "cell_type": "code",
   "execution_count": 13,
   "metadata": {
    "execution": {
     "iopub.execute_input": "2021-03-13T17:12:57.960836Z",
     "iopub.status.busy": "2021-03-13T17:12:57.960260Z",
     "iopub.status.idle": "2021-03-13T17:12:57.963480Z",
     "shell.execute_reply": "2021-03-13T17:12:57.963884Z"
    }
   },
   "outputs": [],
   "source": [
    "df = df.sort_values(by='location')"
   ]
  },
  {
   "cell_type": "code",
   "execution_count": 14,
   "metadata": {
    "execution": {
     "iopub.execute_input": "2021-03-13T17:12:57.971367Z",
     "iopub.status.busy": "2021-03-13T17:12:57.970848Z",
     "iopub.status.idle": "2021-03-13T17:12:57.974055Z",
     "shell.execute_reply": "2021-03-13T17:12:57.974492Z"
    }
   },
   "outputs": [],
   "source": [
    "df = df[df.location == 'California'].append(df[df.location != 'California']).reset_index(drop=True)"
   ]
  },
  {
   "cell_type": "code",
   "execution_count": null,
   "metadata": {},
   "outputs": [],
   "source": []
  },
  {
   "cell_type": "code",
   "execution_count": 15,
   "metadata": {
    "execution": {
     "iopub.execute_input": "2021-03-13T17:12:57.978040Z",
     "iopub.status.busy": "2021-03-13T17:12:57.977533Z",
     "iopub.status.idle": "2021-03-13T17:12:57.997308Z",
     "shell.execute_reply": "2021-03-13T17:12:57.996814Z"
    }
   },
   "outputs": [],
   "source": [
    "tz = pytz.timezone(\"America/New_York\")"
   ]
  },
  {
   "cell_type": "code",
   "execution_count": 16,
   "metadata": {
    "execution": {
     "iopub.execute_input": "2021-03-13T17:12:58.001272Z",
     "iopub.status.busy": "2021-03-13T17:12:58.000687Z",
     "iopub.status.idle": "2021-03-13T17:12:58.004584Z",
     "shell.execute_reply": "2021-03-13T17:12:58.004025Z"
    }
   },
   "outputs": [],
   "source": [
    "today = datetime.now(tz).date()"
   ]
  },
  {
   "cell_type": "code",
   "execution_count": 17,
   "metadata": {
    "execution": {
     "iopub.execute_input": "2021-03-13T17:12:58.010656Z",
     "iopub.status.busy": "2021-03-13T17:12:58.010096Z",
     "iopub.status.idle": "2021-03-13T17:12:58.014055Z",
     "shell.execute_reply": "2021-03-13T17:12:58.013529Z"
    }
   },
   "outputs": [],
   "source": [
    "data_dir = os.path.join(os.path.abspath(\"\"), \"data\")"
   ]
  },
  {
   "cell_type": "code",
   "execution_count": 18,
   "metadata": {
    "execution": {
     "iopub.execute_input": "2021-03-13T17:12:58.021541Z",
     "iopub.status.busy": "2021-03-13T17:12:58.018426Z",
     "iopub.status.idle": "2021-03-13T17:12:58.028306Z",
     "shell.execute_reply": "2021-03-13T17:12:58.027459Z"
    }
   },
   "outputs": [],
   "source": [
    "df.to_csv(os.path.join(data_dir, f\"{today}.csv\"), index=False)"
   ]
  },
  {
   "cell_type": "code",
   "execution_count": null,
   "metadata": {},
   "outputs": [],
   "source": []
  }
 ],
 "metadata": {
  "kernelspec": {
   "display_name": "Python 3",
   "language": "python",
   "name": "python3"
  },
  "language_info": {
   "codemirror_mode": {
    "name": "ipython",
    "version": 3
   },
   "file_extension": ".py",
   "mimetype": "text/x-python",
   "name": "python",
   "nbconvert_exporter": "python",
   "pygments_lexer": "ipython3",
   "version": "3.8.8"
  }
 },
 "nbformat": 4,
 "nbformat_minor": 4
}
