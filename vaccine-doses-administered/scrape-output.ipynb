{
 "cells": [
  {
   "cell_type": "markdown",
   "metadata": {},
   "source": [
    "# California COVID vaccinations scrape"
   ]
  },
  {
   "cell_type": "markdown",
   "metadata": {},
   "source": [
    "By [Amy O'Kruk](https://twitter.com/amyokruk)"
   ]
  },
  {
   "cell_type": "markdown",
   "metadata": {},
   "source": [
    "Downloads data on vaccine doses administered by county and statewide from a Tableau-powered dashboard from the California Department of Public Health."
   ]
  },
  {
   "cell_type": "code",
   "execution_count": 1,
   "metadata": {
    "execution": {
     "iopub.execute_input": "2021-03-21T06:46:36.687822Z",
     "iopub.status.busy": "2021-03-21T06:46:36.687191Z",
     "iopub.status.idle": "2021-03-21T06:46:37.062878Z",
     "shell.execute_reply": "2021-03-21T06:46:37.061752Z"
    }
   },
   "outputs": [],
   "source": [
    "import pandas as pd\n",
    "import requests\n",
    "from bs4 import BeautifulSoup\n",
    "import json\n",
    "import re\n",
    "import time\n",
    "from time import gmtime, strftime \n",
    "import os\n",
    "import pytz\n",
    "from datetime import datetime"
   ]
  },
  {
   "cell_type": "markdown",
   "metadata": {},
   "source": [
    "Scrape the dashboard page"
   ]
  },
  {
   "cell_type": "code",
   "execution_count": 2,
   "metadata": {
    "execution": {
     "iopub.execute_input": "2021-03-21T06:46:37.070027Z",
     "iopub.status.busy": "2021-03-21T06:46:37.067811Z",
     "iopub.status.idle": "2021-03-21T06:46:37.527527Z",
     "shell.execute_reply": "2021-03-21T06:46:37.526705Z"
    }
   },
   "outputs": [],
   "source": [
    "url = \"https://public.tableau.com/interactive/views/COVID-19VaccineDashboardPublic/Vaccine?:embed=y&:showVizHome=n&:apiID=host0\"\n",
    "\n",
    "r = requests.get(url)\n",
    "soup = BeautifulSoup(r.text, \"html.parser\")"
   ]
  },
  {
   "cell_type": "code",
   "execution_count": 3,
   "metadata": {
    "execution": {
     "iopub.execute_input": "2021-03-21T06:46:37.532457Z",
     "iopub.status.busy": "2021-03-21T06:46:37.531936Z",
     "iopub.status.idle": "2021-03-21T06:46:37.534949Z",
     "shell.execute_reply": "2021-03-21T06:46:37.534442Z"
    }
   },
   "outputs": [],
   "source": [
    "tableauData = json.loads(soup.find(\"textarea\",{\"id\": \"tsConfigContainer\"}).text)"
   ]
  },
  {
   "cell_type": "markdown",
   "metadata": {},
   "source": [
    "Get the link to the Tableau data"
   ]
  },
  {
   "cell_type": "code",
   "execution_count": 4,
   "metadata": {
    "execution": {
     "iopub.execute_input": "2021-03-21T06:46:37.539520Z",
     "iopub.status.busy": "2021-03-21T06:46:37.538276Z",
     "iopub.status.idle": "2021-03-21T06:46:37.540103Z",
     "shell.execute_reply": "2021-03-21T06:46:37.540578Z"
    }
   },
   "outputs": [],
   "source": [
    "dataUrl = f'https://public.tableau.com{tableauData[\"vizql_root\"]}/bootstrapSession/sessions/{tableauData[\"sessionid\"]}'"
   ]
  },
  {
   "cell_type": "code",
   "execution_count": 5,
   "metadata": {
    "execution": {
     "iopub.execute_input": "2021-03-21T06:46:37.547715Z",
     "iopub.status.busy": "2021-03-21T06:46:37.547173Z",
     "iopub.status.idle": "2021-03-21T06:46:37.808689Z",
     "shell.execute_reply": "2021-03-21T06:46:37.808161Z"
    }
   },
   "outputs": [],
   "source": [
    "r = requests.post(dataUrl, data= {\n",
    "    \"sheet_id\": tableauData[\"sheetId\"],\n",
    "})\n",
    "\n",
    "dataReg = re.search('\\d+;({.*})\\d+;({.*})', r.text, re.MULTILINE)\n",
    "data1 = json.loads(dataReg.group(2))\n",
    "\n",
    "dataJson = data1[\"secondaryInfo\"][\"presModelMap\"][\"dataDictionary\"][\"presModelHolder\"][\"genDataDictionaryPresModel\"][\"dataSegments\"][\"0\"][\"dataColumns\"]"
   ]
  },
  {
   "cell_type": "markdown",
   "metadata": {},
   "source": [
    "Isolate what you want"
   ]
  },
  {
   "cell_type": "code",
   "execution_count": 6,
   "metadata": {
    "execution": {
     "iopub.execute_input": "2021-03-21T06:46:37.813274Z",
     "iopub.status.busy": "2021-03-21T06:46:37.812136Z",
     "iopub.status.idle": "2021-03-21T06:46:37.813860Z",
     "shell.execute_reply": "2021-03-21T06:46:37.814286Z"
    }
   },
   "outputs": [],
   "source": [
    "counties = dataJson[2]['dataValues'][:58]"
   ]
  },
  {
   "cell_type": "code",
   "execution_count": 7,
   "metadata": {
    "execution": {
     "iopub.execute_input": "2021-03-21T06:46:37.818518Z",
     "iopub.status.busy": "2021-03-21T06:46:37.817361Z",
     "iopub.status.idle": "2021-03-21T06:46:37.819181Z",
     "shell.execute_reply": "2021-03-21T06:46:37.819609Z"
    }
   },
   "outputs": [],
   "source": [
    "doses = dataJson[0]['dataValues'][3:61]"
   ]
  },
  {
   "cell_type": "markdown",
   "metadata": {},
   "source": [
    "Data formatting"
   ]
  },
  {
   "cell_type": "code",
   "execution_count": 8,
   "metadata": {
    "execution": {
     "iopub.execute_input": "2021-03-21T06:46:37.823634Z",
     "iopub.status.busy": "2021-03-21T06:46:37.822716Z",
     "iopub.status.idle": "2021-03-21T06:46:37.824477Z",
     "shell.execute_reply": "2021-03-21T06:46:37.824903Z"
    }
   },
   "outputs": [],
   "source": [
    "zipped = dict(zip(counties, doses))"
   ]
  },
  {
   "cell_type": "code",
   "execution_count": 9,
   "metadata": {
    "execution": {
     "iopub.execute_input": "2021-03-21T06:46:37.831511Z",
     "iopub.status.busy": "2021-03-21T06:46:37.830248Z",
     "iopub.status.idle": "2021-03-21T06:46:37.832097Z",
     "shell.execute_reply": "2021-03-21T06:46:37.832519Z"
    }
   },
   "outputs": [],
   "source": [
    "df = pd.Series(zipped).reset_index()"
   ]
  },
  {
   "cell_type": "code",
   "execution_count": 10,
   "metadata": {
    "execution": {
     "iopub.execute_input": "2021-03-21T06:46:37.836943Z",
     "iopub.status.busy": "2021-03-21T06:46:37.835792Z",
     "iopub.status.idle": "2021-03-21T06:46:37.837614Z",
     "shell.execute_reply": "2021-03-21T06:46:37.838036Z"
    }
   },
   "outputs": [],
   "source": [
    "df.columns = ['location','doses']"
   ]
  },
  {
   "cell_type": "markdown",
   "metadata": {},
   "source": [
    "Grab the overall California total"
   ]
  },
  {
   "cell_type": "code",
   "execution_count": 11,
   "metadata": {
    "execution": {
     "iopub.execute_input": "2021-03-21T06:46:37.842495Z",
     "iopub.status.busy": "2021-03-21T06:46:37.841381Z",
     "iopub.status.idle": "2021-03-21T06:46:37.843081Z",
     "shell.execute_reply": "2021-03-21T06:46:37.843499Z"
    }
   },
   "outputs": [],
   "source": [
    "add = {'location':'California','doses':dataJson[0]['dataValues'][2]}"
   ]
  },
  {
   "cell_type": "code",
   "execution_count": 12,
   "metadata": {
    "execution": {
     "iopub.execute_input": "2021-03-21T06:46:37.850591Z",
     "iopub.status.busy": "2021-03-21T06:46:37.849384Z",
     "iopub.status.idle": "2021-03-21T06:46:37.851241Z",
     "shell.execute_reply": "2021-03-21T06:46:37.851668Z"
    }
   },
   "outputs": [],
   "source": [
    "df = df.append(add, ignore_index=True)"
   ]
  },
  {
   "cell_type": "code",
   "execution_count": 13,
   "metadata": {
    "execution": {
     "iopub.execute_input": "2021-03-21T06:46:37.856690Z",
     "iopub.status.busy": "2021-03-21T06:46:37.855532Z",
     "iopub.status.idle": "2021-03-21T06:46:37.857352Z",
     "shell.execute_reply": "2021-03-21T06:46:37.857777Z"
    }
   },
   "outputs": [],
   "source": [
    "df = df.sort_values(by='location')"
   ]
  },
  {
   "cell_type": "code",
   "execution_count": 14,
   "metadata": {
    "execution": {
     "iopub.execute_input": "2021-03-21T06:46:37.864354Z",
     "iopub.status.busy": "2021-03-21T06:46:37.863181Z",
     "iopub.status.idle": "2021-03-21T06:46:37.864952Z",
     "shell.execute_reply": "2021-03-21T06:46:37.865375Z"
    }
   },
   "outputs": [],
   "source": [
    "df = df[df.location == 'California'].append(df[df.location != 'California']).reset_index(drop=True)"
   ]
  },
  {
   "cell_type": "code",
   "execution_count": null,
   "metadata": {},
   "outputs": [],
   "source": []
  },
  {
   "cell_type": "code",
   "execution_count": 15,
   "metadata": {
    "execution": {
     "iopub.execute_input": "2021-03-21T06:46:37.868816Z",
     "iopub.status.busy": "2021-03-21T06:46:37.868313Z",
     "iopub.status.idle": "2021-03-21T06:46:37.885215Z",
     "shell.execute_reply": "2021-03-21T06:46:37.885629Z"
    }
   },
   "outputs": [],
   "source": [
    "tz = pytz.timezone(\"America/New_York\")"
   ]
  },
  {
   "cell_type": "code",
   "execution_count": 16,
   "metadata": {
    "execution": {
     "iopub.execute_input": "2021-03-21T06:46:37.889881Z",
     "iopub.status.busy": "2021-03-21T06:46:37.888738Z",
     "iopub.status.idle": "2021-03-21T06:46:37.890505Z",
     "shell.execute_reply": "2021-03-21T06:46:37.890948Z"
    }
   },
   "outputs": [],
   "source": [
    "today = datetime.now(tz).date()"
   ]
  },
  {
   "cell_type": "code",
   "execution_count": 17,
   "metadata": {
    "execution": {
     "iopub.execute_input": "2021-03-21T06:46:37.895225Z",
     "iopub.status.busy": "2021-03-21T06:46:37.894026Z",
     "iopub.status.idle": "2021-03-21T06:46:37.896041Z",
     "shell.execute_reply": "2021-03-21T06:46:37.896619Z"
    }
   },
   "outputs": [],
   "source": [
    "data_dir = os.path.join(os.path.abspath(\"\"), \"data\")"
   ]
  },
  {
   "cell_type": "code",
   "execution_count": 18,
   "metadata": {
    "execution": {
     "iopub.execute_input": "2021-03-21T06:46:37.900945Z",
     "iopub.status.busy": "2021-03-21T06:46:37.899732Z",
     "iopub.status.idle": "2021-03-21T06:46:37.903859Z",
     "shell.execute_reply": "2021-03-21T06:46:37.904258Z"
    }
   },
   "outputs": [],
   "source": [
    "df.to_csv(os.path.join(data_dir, f\"{today}.csv\"), index=False)"
   ]
  },
  {
   "cell_type": "code",
   "execution_count": null,
   "metadata": {},
   "outputs": [],
   "source": []
  }
 ],
 "metadata": {
  "kernelspec": {
   "display_name": "Python 3",
   "language": "python",
   "name": "python3"
  },
  "language_info": {
   "codemirror_mode": {
    "name": "ipython",
    "version": 3
   },
   "file_extension": ".py",
   "mimetype": "text/x-python",
   "name": "python",
   "nbconvert_exporter": "python",
   "pygments_lexer": "ipython3",
   "version": "3.8.8"
  }
 },
 "nbformat": 4,
 "nbformat_minor": 4
}
