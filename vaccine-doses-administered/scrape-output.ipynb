{
 "cells": [
  {
   "cell_type": "markdown",
   "metadata": {},
   "source": [
    "# California COVID vaccinations scrape"
   ]
  },
  {
   "cell_type": "markdown",
   "metadata": {},
   "source": [
    "By [Amy O'Kruk](https://twitter.com/amyokruk)"
   ]
  },
  {
   "cell_type": "markdown",
   "metadata": {},
   "source": [
    "Downloads data on vaccine doses administered by county and statewide from a Tableau-powered dashboard from the California Department of Public Health."
   ]
  },
  {
   "cell_type": "code",
   "execution_count": 1,
   "metadata": {
    "execution": {
     "iopub.execute_input": "2021-03-13T18:47:56.388331Z",
     "iopub.status.busy": "2021-03-13T18:47:56.387562Z",
     "iopub.status.idle": "2021-03-13T18:47:56.886665Z",
     "shell.execute_reply": "2021-03-13T18:47:56.885533Z"
    }
   },
   "outputs": [],
   "source": [
    "import pandas as pd\n",
    "import requests\n",
    "from bs4 import BeautifulSoup\n",
    "import json\n",
    "import re\n",
    "import time\n",
    "from time import gmtime, strftime \n",
    "import os\n",
    "import pytz\n",
    "from datetime import datetime"
   ]
  },
  {
   "cell_type": "markdown",
   "metadata": {},
   "source": [
    "Scrape the dashboard page"
   ]
  },
  {
   "cell_type": "code",
   "execution_count": 2,
   "metadata": {
    "execution": {
     "iopub.execute_input": "2021-03-13T18:47:56.893411Z",
     "iopub.status.busy": "2021-03-13T18:47:56.890822Z",
     "iopub.status.idle": "2021-03-13T18:47:57.307946Z",
     "shell.execute_reply": "2021-03-13T18:47:57.307303Z"
    }
   },
   "outputs": [],
   "source": [
    "url = \"https://public.tableau.com/interactive/views/COVID-19VaccineDashboardPublic/Vaccine?:embed=y&:showVizHome=n&:apiID=host0\"\n",
    "\n",
    "r = requests.get(url)\n",
    "soup = BeautifulSoup(r.text, \"html.parser\")"
   ]
  },
  {
   "cell_type": "code",
   "execution_count": 3,
   "metadata": {
    "execution": {
     "iopub.execute_input": "2021-03-13T18:47:57.313246Z",
     "iopub.status.busy": "2021-03-13T18:47:57.312643Z",
     "iopub.status.idle": "2021-03-13T18:47:57.316881Z",
     "shell.execute_reply": "2021-03-13T18:47:57.316376Z"
    }
   },
   "outputs": [],
   "source": [
    "tableauData = json.loads(soup.find(\"textarea\",{\"id\": \"tsConfigContainer\"}).text)"
   ]
  },
  {
   "cell_type": "markdown",
   "metadata": {},
   "source": [
    "Get the link to the Tableau data"
   ]
  },
  {
   "cell_type": "code",
   "execution_count": 4,
   "metadata": {
    "execution": {
     "iopub.execute_input": "2021-03-13T18:47:57.322097Z",
     "iopub.status.busy": "2021-03-13T18:47:57.320669Z",
     "iopub.status.idle": "2021-03-13T18:47:57.322830Z",
     "shell.execute_reply": "2021-03-13T18:47:57.323317Z"
    }
   },
   "outputs": [],
   "source": [
    "dataUrl = f'https://public.tableau.com{tableauData[\"vizql_root\"]}/bootstrapSession/sessions/{tableauData[\"sessionid\"]}'"
   ]
  },
  {
   "cell_type": "code",
   "execution_count": 5,
   "metadata": {
    "execution": {
     "iopub.execute_input": "2021-03-13T18:47:57.332312Z",
     "iopub.status.busy": "2021-03-13T18:47:57.330280Z",
     "iopub.status.idle": "2021-03-13T18:47:57.546826Z",
     "shell.execute_reply": "2021-03-13T18:47:57.546261Z"
    }
   },
   "outputs": [],
   "source": [
    "r = requests.post(dataUrl, data= {\n",
    "    \"sheet_id\": tableauData[\"sheetId\"],\n",
    "})\n",
    "\n",
    "dataReg = re.search('\\d+;({.*})\\d+;({.*})', r.text, re.MULTILINE)\n",
    "data1 = json.loads(dataReg.group(2))\n",
    "\n",
    "dataJson = data1[\"secondaryInfo\"][\"presModelMap\"][\"dataDictionary\"][\"presModelHolder\"][\"genDataDictionaryPresModel\"][\"dataSegments\"][\"0\"][\"dataColumns\"]"
   ]
  },
  {
   "cell_type": "markdown",
   "metadata": {},
   "source": [
    "Isolate what you want"
   ]
  },
  {
   "cell_type": "code",
   "execution_count": 6,
   "metadata": {
    "execution": {
     "iopub.execute_input": "2021-03-13T18:47:57.552703Z",
     "iopub.status.busy": "2021-03-13T18:47:57.551054Z",
     "iopub.status.idle": "2021-03-13T18:47:57.553576Z",
     "shell.execute_reply": "2021-03-13T18:47:57.554145Z"
    }
   },
   "outputs": [],
   "source": [
    "counties = dataJson[2]['dataValues'][:58]"
   ]
  },
  {
   "cell_type": "code",
   "execution_count": 7,
   "metadata": {
    "execution": {
     "iopub.execute_input": "2021-03-13T18:47:57.559869Z",
     "iopub.status.busy": "2021-03-13T18:47:57.558170Z",
     "iopub.status.idle": "2021-03-13T18:47:57.560575Z",
     "shell.execute_reply": "2021-03-13T18:47:57.561082Z"
    }
   },
   "outputs": [],
   "source": [
    "doses = dataJson[0]['dataValues'][3:61]"
   ]
  },
  {
   "cell_type": "markdown",
   "metadata": {},
   "source": [
    "Data formatting"
   ]
  },
  {
   "cell_type": "code",
   "execution_count": 8,
   "metadata": {
    "execution": {
     "iopub.execute_input": "2021-03-13T18:47:57.566002Z",
     "iopub.status.busy": "2021-03-13T18:47:57.564794Z",
     "iopub.status.idle": "2021-03-13T18:47:57.567087Z",
     "shell.execute_reply": "2021-03-13T18:47:57.567630Z"
    }
   },
   "outputs": [],
   "source": [
    "zipped = dict(zip(counties, doses))"
   ]
  },
  {
   "cell_type": "code",
   "execution_count": 9,
   "metadata": {
    "execution": {
     "iopub.execute_input": "2021-03-13T18:47:57.575346Z",
     "iopub.status.busy": "2021-03-13T18:47:57.573744Z",
     "iopub.status.idle": "2021-03-13T18:47:57.576148Z",
     "shell.execute_reply": "2021-03-13T18:47:57.576697Z"
    }
   },
   "outputs": [],
   "source": [
    "df = pd.Series(zipped).reset_index()"
   ]
  },
  {
   "cell_type": "code",
   "execution_count": 10,
   "metadata": {
    "execution": {
     "iopub.execute_input": "2021-03-13T18:47:57.582819Z",
     "iopub.status.busy": "2021-03-13T18:47:57.581184Z",
     "iopub.status.idle": "2021-03-13T18:47:57.583532Z",
     "shell.execute_reply": "2021-03-13T18:47:57.584077Z"
    }
   },
   "outputs": [],
   "source": [
    "df.columns = ['location','doses']"
   ]
  },
  {
   "cell_type": "markdown",
   "metadata": {},
   "source": [
    "Grab the overall California total"
   ]
  },
  {
   "cell_type": "code",
   "execution_count": 11,
   "metadata": {
    "execution": {
     "iopub.execute_input": "2021-03-13T18:47:57.589917Z",
     "iopub.status.busy": "2021-03-13T18:47:57.588379Z",
     "iopub.status.idle": "2021-03-13T18:47:57.590703Z",
     "shell.execute_reply": "2021-03-13T18:47:57.591262Z"
    }
   },
   "outputs": [],
   "source": [
    "add = {'location':'California','doses':dataJson[0]['dataValues'][2]}"
   ]
  },
  {
   "cell_type": "code",
   "execution_count": 12,
   "metadata": {
    "execution": {
     "iopub.execute_input": "2021-03-13T18:47:57.601918Z",
     "iopub.status.busy": "2021-03-13T18:47:57.598737Z",
     "iopub.status.idle": "2021-03-13T18:47:57.602601Z",
     "shell.execute_reply": "2021-03-13T18:47:57.603094Z"
    }
   },
   "outputs": [],
   "source": [
    "df = df.append(add, ignore_index=True)"
   ]
  },
  {
   "cell_type": "code",
   "execution_count": 13,
   "metadata": {
    "execution": {
     "iopub.execute_input": "2021-03-13T18:47:57.608649Z",
     "iopub.status.busy": "2021-03-13T18:47:57.607936Z",
     "iopub.status.idle": "2021-03-13T18:47:57.610629Z",
     "shell.execute_reply": "2021-03-13T18:47:57.611194Z"
    }
   },
   "outputs": [],
   "source": [
    "df = df.sort_values(by='location')"
   ]
  },
  {
   "cell_type": "code",
   "execution_count": 14,
   "metadata": {
    "execution": {
     "iopub.execute_input": "2021-03-13T18:47:57.619782Z",
     "iopub.status.busy": "2021-03-13T18:47:57.618182Z",
     "iopub.status.idle": "2021-03-13T18:47:57.620481Z",
     "shell.execute_reply": "2021-03-13T18:47:57.621021Z"
    }
   },
   "outputs": [],
   "source": [
    "df = df[df.location == 'California'].append(df[df.location != 'California']).reset_index(drop=True)"
   ]
  },
  {
   "cell_type": "code",
   "execution_count": null,
   "metadata": {},
   "outputs": [],
   "source": []
  },
  {
   "cell_type": "code",
   "execution_count": 15,
   "metadata": {
    "execution": {
     "iopub.execute_input": "2021-03-13T18:47:57.625076Z",
     "iopub.status.busy": "2021-03-13T18:47:57.624419Z",
     "iopub.status.idle": "2021-03-13T18:47:57.652528Z",
     "shell.execute_reply": "2021-03-13T18:47:57.651841Z"
    }
   },
   "outputs": [],
   "source": [
    "tz = pytz.timezone(\"America/New_York\")"
   ]
  },
  {
   "cell_type": "code",
   "execution_count": 16,
   "metadata": {
    "execution": {
     "iopub.execute_input": "2021-03-13T18:47:57.659084Z",
     "iopub.status.busy": "2021-03-13T18:47:57.657980Z",
     "iopub.status.idle": "2021-03-13T18:47:57.665021Z",
     "shell.execute_reply": "2021-03-13T18:47:57.664172Z"
    }
   },
   "outputs": [],
   "source": [
    "today = datetime.now(tz).date()"
   ]
  },
  {
   "cell_type": "code",
   "execution_count": 17,
   "metadata": {
    "execution": {
     "iopub.execute_input": "2021-03-13T18:47:57.671012Z",
     "iopub.status.busy": "2021-03-13T18:47:57.669372Z",
     "iopub.status.idle": "2021-03-13T18:47:57.671783Z",
     "shell.execute_reply": "2021-03-13T18:47:57.672323Z"
    }
   },
   "outputs": [],
   "source": [
    "data_dir = os.path.join(os.path.abspath(\"\"), \"data\")"
   ]
  },
  {
   "cell_type": "code",
   "execution_count": 18,
   "metadata": {
    "execution": {
     "iopub.execute_input": "2021-03-13T18:47:57.677342Z",
     "iopub.status.busy": "2021-03-13T18:47:57.676731Z",
     "iopub.status.idle": "2021-03-13T18:47:57.682104Z",
     "shell.execute_reply": "2021-03-13T18:47:57.682654Z"
    }
   },
   "outputs": [],
   "source": [
    "df.to_csv(os.path.join(data_dir, f\"{today}.csv\"), index=False)"
   ]
  },
  {
   "cell_type": "code",
   "execution_count": null,
   "metadata": {},
   "outputs": [],
   "source": []
  }
 ],
 "metadata": {
  "kernelspec": {
   "display_name": "Python 3",
   "language": "python",
   "name": "python3"
  },
  "language_info": {
   "codemirror_mode": {
    "name": "ipython",
    "version": 3
   },
   "file_extension": ".py",
   "mimetype": "text/x-python",
   "name": "python",
   "nbconvert_exporter": "python",
   "pygments_lexer": "ipython3",
   "version": "3.8.8"
  }
 },
 "nbformat": 4,
 "nbformat_minor": 4
}
