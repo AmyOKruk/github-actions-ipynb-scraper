{
 "cells": [
  {
   "cell_type": "markdown",
   "metadata": {},
   "source": [
    "# California COVID vaccinations scrape"
   ]
  },
  {
   "cell_type": "markdown",
   "metadata": {},
   "source": [
    "By [Amy O'Kruk](https://twitter.com/amyokruk)"
   ]
  },
  {
   "cell_type": "markdown",
   "metadata": {},
   "source": [
    "Downloads data on vaccine doses administered by county and statewide from a Tableau-powered dashboard from the California Department of Public Health."
   ]
  },
  {
   "cell_type": "code",
   "execution_count": 1,
   "metadata": {
    "execution": {
     "iopub.execute_input": "2021-03-09T21:11:50.266911Z",
     "iopub.status.busy": "2021-03-09T21:11:50.266230Z",
     "iopub.status.idle": "2021-03-09T21:11:50.755561Z",
     "shell.execute_reply": "2021-03-09T21:11:50.754973Z"
    }
   },
   "outputs": [],
   "source": [
    "import pandas as pd\n",
    "import requests\n",
    "from bs4 import BeautifulSoup\n",
    "import json\n",
    "import re\n",
    "import time\n",
    "from time import gmtime, strftime \n",
    "import os\n",
    "import pytz\n",
    "from datetime import datetime"
   ]
  },
  {
   "cell_type": "markdown",
   "metadata": {},
   "source": [
    "Scrape the dashboard page"
   ]
  },
  {
   "cell_type": "code",
   "execution_count": 2,
   "metadata": {
    "execution": {
     "iopub.execute_input": "2021-03-09T21:11:50.762098Z",
     "iopub.status.busy": "2021-03-09T21:11:50.761393Z",
     "iopub.status.idle": "2021-03-09T21:11:50.997092Z",
     "shell.execute_reply": "2021-03-09T21:11:50.996560Z"
    }
   },
   "outputs": [],
   "source": [
    "url = \"https://public.tableau.com/interactive/views/COVID-19VaccineDashboardPublic/Vaccine?:embed=y&:showVizHome=n&:apiID=host0\"\n",
    "\n",
    "r = requests.get(url)\n",
    "soup = BeautifulSoup(r.text, \"html.parser\")"
   ]
  },
  {
   "cell_type": "code",
   "execution_count": 3,
   "metadata": {
    "execution": {
     "iopub.execute_input": "2021-03-09T21:11:51.002254Z",
     "iopub.status.busy": "2021-03-09T21:11:51.001683Z",
     "iopub.status.idle": "2021-03-09T21:11:51.005129Z",
     "shell.execute_reply": "2021-03-09T21:11:51.005573Z"
    }
   },
   "outputs": [],
   "source": [
    "tableauData = json.loads(soup.find(\"textarea\",{\"id\": \"tsConfigContainer\"}).text)"
   ]
  },
  {
   "cell_type": "markdown",
   "metadata": {},
   "source": [
    "Get the link to the Tableau data"
   ]
  },
  {
   "cell_type": "code",
   "execution_count": 4,
   "metadata": {
    "execution": {
     "iopub.execute_input": "2021-03-09T21:11:51.010044Z",
     "iopub.status.busy": "2021-03-09T21:11:51.009470Z",
     "iopub.status.idle": "2021-03-09T21:11:51.013052Z",
     "shell.execute_reply": "2021-03-09T21:11:51.013491Z"
    }
   },
   "outputs": [],
   "source": [
    "dataUrl = f'https://public.tableau.com{tableauData[\"vizql_root\"]}/bootstrapSession/sessions/{tableauData[\"sessionid\"]}'"
   ]
  },
  {
   "cell_type": "code",
   "execution_count": 5,
   "metadata": {
    "execution": {
     "iopub.execute_input": "2021-03-09T21:11:51.020153Z",
     "iopub.status.busy": "2021-03-09T21:11:51.019486Z",
     "iopub.status.idle": "2021-03-09T21:11:52.116124Z",
     "shell.execute_reply": "2021-03-09T21:11:52.115531Z"
    }
   },
   "outputs": [],
   "source": [
    "r = requests.post(dataUrl, data= {\n",
    "    \"sheet_id\": tableauData[\"sheetId\"],\n",
    "})\n",
    "\n",
    "dataReg = re.search('\\d+;({.*})\\d+;({.*})', r.text, re.MULTILINE)\n",
    "data1 = json.loads(dataReg.group(2))\n",
    "\n",
    "dataJson = data1[\"secondaryInfo\"][\"presModelMap\"][\"dataDictionary\"][\"presModelHolder\"][\"genDataDictionaryPresModel\"][\"dataSegments\"][\"0\"][\"dataColumns\"]"
   ]
  },
  {
   "cell_type": "markdown",
   "metadata": {},
   "source": [
    "Isolate what you want"
   ]
  },
  {
   "cell_type": "code",
   "execution_count": 6,
   "metadata": {
    "execution": {
     "iopub.execute_input": "2021-03-09T21:11:52.122226Z",
     "iopub.status.busy": "2021-03-09T21:11:52.120583Z",
     "iopub.status.idle": "2021-03-09T21:11:52.122981Z",
     "shell.execute_reply": "2021-03-09T21:11:52.123509Z"
    }
   },
   "outputs": [],
   "source": [
    "counties = dataJson[2]['dataValues'][:58]"
   ]
  },
  {
   "cell_type": "code",
   "execution_count": 7,
   "metadata": {
    "execution": {
     "iopub.execute_input": "2021-03-09T21:11:52.129132Z",
     "iopub.status.busy": "2021-03-09T21:11:52.127353Z",
     "iopub.status.idle": "2021-03-09T21:11:52.129963Z",
     "shell.execute_reply": "2021-03-09T21:11:52.130546Z"
    }
   },
   "outputs": [],
   "source": [
    "doses = dataJson[0]['dataValues'][3:61]"
   ]
  },
  {
   "cell_type": "markdown",
   "metadata": {},
   "source": [
    "Data formatting"
   ]
  },
  {
   "cell_type": "code",
   "execution_count": 8,
   "metadata": {
    "execution": {
     "iopub.execute_input": "2021-03-09T21:11:52.136542Z",
     "iopub.status.busy": "2021-03-09T21:11:52.134946Z",
     "iopub.status.idle": "2021-03-09T21:11:52.137264Z",
     "shell.execute_reply": "2021-03-09T21:11:52.137800Z"
    }
   },
   "outputs": [],
   "source": [
    "zipped = dict(zip(counties, doses))"
   ]
  },
  {
   "cell_type": "code",
   "execution_count": 9,
   "metadata": {
    "execution": {
     "iopub.execute_input": "2021-03-09T21:11:52.145855Z",
     "iopub.status.busy": "2021-03-09T21:11:52.144148Z",
     "iopub.status.idle": "2021-03-09T21:11:52.146590Z",
     "shell.execute_reply": "2021-03-09T21:11:52.147142Z"
    }
   },
   "outputs": [],
   "source": [
    "df = pd.Series(zipped).reset_index()"
   ]
  },
  {
   "cell_type": "code",
   "execution_count": 10,
   "metadata": {
    "execution": {
     "iopub.execute_input": "2021-03-09T21:11:52.155008Z",
     "iopub.status.busy": "2021-03-09T21:11:52.153312Z",
     "iopub.status.idle": "2021-03-09T21:11:52.155672Z",
     "shell.execute_reply": "2021-03-09T21:11:52.156159Z"
    }
   },
   "outputs": [],
   "source": [
    "df.columns = ['location','doses']"
   ]
  },
  {
   "cell_type": "markdown",
   "metadata": {},
   "source": [
    "Grab the overall California total"
   ]
  },
  {
   "cell_type": "code",
   "execution_count": 11,
   "metadata": {
    "execution": {
     "iopub.execute_input": "2021-03-09T21:11:52.161404Z",
     "iopub.status.busy": "2021-03-09T21:11:52.159826Z",
     "iopub.status.idle": "2021-03-09T21:11:52.162101Z",
     "shell.execute_reply": "2021-03-09T21:11:52.162692Z"
    }
   },
   "outputs": [],
   "source": [
    "add = {'location':'California','doses':dataJson[0]['dataValues'][2]}"
   ]
  },
  {
   "cell_type": "code",
   "execution_count": 12,
   "metadata": {
    "execution": {
     "iopub.execute_input": "2021-03-09T21:11:52.170305Z",
     "iopub.status.busy": "2021-03-09T21:11:52.169736Z",
     "iopub.status.idle": "2021-03-09T21:11:52.172115Z",
     "shell.execute_reply": "2021-03-09T21:11:52.172561Z"
    }
   },
   "outputs": [],
   "source": [
    "df = df.append(add, ignore_index=True)"
   ]
  },
  {
   "cell_type": "code",
   "execution_count": 13,
   "metadata": {
    "execution": {
     "iopub.execute_input": "2021-03-09T21:11:52.178381Z",
     "iopub.status.busy": "2021-03-09T21:11:52.176876Z",
     "iopub.status.idle": "2021-03-09T21:11:52.179063Z",
     "shell.execute_reply": "2021-03-09T21:11:52.180074Z"
    }
   },
   "outputs": [],
   "source": [
    "df = df.sort_values(by='location')"
   ]
  },
  {
   "cell_type": "code",
   "execution_count": 14,
   "metadata": {
    "execution": {
     "iopub.execute_input": "2021-03-09T21:11:52.186300Z",
     "iopub.status.busy": "2021-03-09T21:11:52.185699Z",
     "iopub.status.idle": "2021-03-09T21:11:52.188603Z",
     "shell.execute_reply": "2021-03-09T21:11:52.188109Z"
    }
   },
   "outputs": [],
   "source": [
    "df = df[df.location == 'California'].append(df[df.location != 'California']).reset_index(drop=True)"
   ]
  },
  {
   "cell_type": "code",
   "execution_count": null,
   "metadata": {},
   "outputs": [],
   "source": []
  },
  {
   "cell_type": "code",
   "execution_count": 15,
   "metadata": {
    "execution": {
     "iopub.execute_input": "2021-03-09T21:11:52.192420Z",
     "iopub.status.busy": "2021-03-09T21:11:52.191835Z",
     "iopub.status.idle": "2021-03-09T21:11:52.210338Z",
     "shell.execute_reply": "2021-03-09T21:11:52.209857Z"
    }
   },
   "outputs": [],
   "source": [
    "tz = pytz.timezone(\"America/New_York\")"
   ]
  },
  {
   "cell_type": "code",
   "execution_count": 16,
   "metadata": {
    "execution": {
     "iopub.execute_input": "2021-03-09T21:11:52.215305Z",
     "iopub.status.busy": "2021-03-09T21:11:52.213761Z",
     "iopub.status.idle": "2021-03-09T21:11:52.215942Z",
     "shell.execute_reply": "2021-03-09T21:11:52.216427Z"
    }
   },
   "outputs": [],
   "source": [
    "today = datetime.now(tz).date()"
   ]
  },
  {
   "cell_type": "code",
   "execution_count": 17,
   "metadata": {
    "execution": {
     "iopub.execute_input": "2021-03-09T21:11:52.221268Z",
     "iopub.status.busy": "2021-03-09T21:11:52.219897Z",
     "iopub.status.idle": "2021-03-09T21:11:52.221901Z",
     "shell.execute_reply": "2021-03-09T21:11:52.222397Z"
    }
   },
   "outputs": [],
   "source": [
    "data_dir = os.path.join(os.path.abspath(\"\"), \"data\")"
   ]
  },
  {
   "cell_type": "code",
   "execution_count": 18,
   "metadata": {
    "execution": {
     "iopub.execute_input": "2021-03-09T21:11:52.226902Z",
     "iopub.status.busy": "2021-03-09T21:11:52.225848Z",
     "iopub.status.idle": "2021-03-09T21:11:52.231187Z",
     "shell.execute_reply": "2021-03-09T21:11:52.230718Z"
    }
   },
   "outputs": [],
   "source": [
    "df.to_csv(os.path.join(data_dir, f\"{today}.csv\"), index=False)"
   ]
  },
  {
   "cell_type": "code",
   "execution_count": null,
   "metadata": {},
   "outputs": [],
   "source": []
  }
 ],
 "metadata": {
  "kernelspec": {
   "display_name": "Python 3",
   "language": "python",
   "name": "python3"
  },
  "language_info": {
   "codemirror_mode": {
    "name": "ipython",
    "version": 3
   },
   "file_extension": ".py",
   "mimetype": "text/x-python",
   "name": "python",
   "nbconvert_exporter": "python",
   "pygments_lexer": "ipython3",
   "version": "3.8.8"
  }
 },
 "nbformat": 4,
 "nbformat_minor": 4
}
