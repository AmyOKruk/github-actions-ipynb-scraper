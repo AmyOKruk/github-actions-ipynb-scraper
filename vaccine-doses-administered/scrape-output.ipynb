{
 "cells": [
  {
   "cell_type": "markdown",
   "metadata": {},
   "source": [
    "# California COVID vaccinations scrape"
   ]
  },
  {
   "cell_type": "markdown",
   "metadata": {},
   "source": [
    "By [Amy O'Kruk](https://twitter.com/amyokruk)"
   ]
  },
  {
   "cell_type": "markdown",
   "metadata": {},
   "source": [
    "Downloads data on vaccine doses administered by county and statewide from a Tableau-powered dashboard from the California Department of Public Health."
   ]
  },
  {
   "cell_type": "code",
   "execution_count": 1,
   "metadata": {
    "execution": {
     "iopub.execute_input": "2021-03-17T15:12:55.911552Z",
     "iopub.status.busy": "2021-03-17T15:12:55.910806Z",
     "iopub.status.idle": "2021-03-17T15:12:56.299337Z",
     "shell.execute_reply": "2021-03-17T15:12:56.298230Z"
    }
   },
   "outputs": [],
   "source": [
    "import pandas as pd\n",
    "import requests\n",
    "from bs4 import BeautifulSoup\n",
    "import json\n",
    "import re\n",
    "import time\n",
    "from time import gmtime, strftime \n",
    "import os\n",
    "import pytz\n",
    "from datetime import datetime"
   ]
  },
  {
   "cell_type": "markdown",
   "metadata": {},
   "source": [
    "Scrape the dashboard page"
   ]
  },
  {
   "cell_type": "code",
   "execution_count": 2,
   "metadata": {
    "execution": {
     "iopub.execute_input": "2021-03-17T15:12:56.307604Z",
     "iopub.status.busy": "2021-03-17T15:12:56.304050Z",
     "iopub.status.idle": "2021-03-17T15:12:56.573148Z",
     "shell.execute_reply": "2021-03-17T15:12:56.573939Z"
    }
   },
   "outputs": [],
   "source": [
    "url = \"https://public.tableau.com/interactive/views/COVID-19VaccineDashboardPublic/Vaccine?:embed=y&:showVizHome=n&:apiID=host0\"\n",
    "\n",
    "r = requests.get(url)\n",
    "soup = BeautifulSoup(r.text, \"html.parser\")"
   ]
  },
  {
   "cell_type": "code",
   "execution_count": 3,
   "metadata": {
    "execution": {
     "iopub.execute_input": "2021-03-17T15:12:56.578997Z",
     "iopub.status.busy": "2021-03-17T15:12:56.578434Z",
     "iopub.status.idle": "2021-03-17T15:12:56.582509Z",
     "shell.execute_reply": "2021-03-17T15:12:56.582073Z"
    }
   },
   "outputs": [],
   "source": [
    "tableauData = json.loads(soup.find(\"textarea\",{\"id\": \"tsConfigContainer\"}).text)"
   ]
  },
  {
   "cell_type": "markdown",
   "metadata": {},
   "source": [
    "Get the link to the Tableau data"
   ]
  },
  {
   "cell_type": "code",
   "execution_count": 4,
   "metadata": {
    "execution": {
     "iopub.execute_input": "2021-03-17T15:12:56.586499Z",
     "iopub.status.busy": "2021-03-17T15:12:56.585594Z",
     "iopub.status.idle": "2021-03-17T15:12:56.587403Z",
     "shell.execute_reply": "2021-03-17T15:12:56.587778Z"
    }
   },
   "outputs": [],
   "source": [
    "dataUrl = f'https://public.tableau.com{tableauData[\"vizql_root\"]}/bootstrapSession/sessions/{tableauData[\"sessionid\"]}'"
   ]
  },
  {
   "cell_type": "code",
   "execution_count": 5,
   "metadata": {
    "execution": {
     "iopub.execute_input": "2021-03-17T15:12:56.594095Z",
     "iopub.status.busy": "2021-03-17T15:12:56.593563Z",
     "iopub.status.idle": "2021-03-17T15:12:57.012880Z",
     "shell.execute_reply": "2021-03-17T15:12:57.012075Z"
    }
   },
   "outputs": [],
   "source": [
    "r = requests.post(dataUrl, data= {\n",
    "    \"sheet_id\": tableauData[\"sheetId\"],\n",
    "})\n",
    "\n",
    "dataReg = re.search('\\d+;({.*})\\d+;({.*})', r.text, re.MULTILINE)\n",
    "data1 = json.loads(dataReg.group(2))\n",
    "\n",
    "dataJson = data1[\"secondaryInfo\"][\"presModelMap\"][\"dataDictionary\"][\"presModelHolder\"][\"genDataDictionaryPresModel\"][\"dataSegments\"][\"0\"][\"dataColumns\"]"
   ]
  },
  {
   "cell_type": "markdown",
   "metadata": {},
   "source": [
    "Isolate what you want"
   ]
  },
  {
   "cell_type": "code",
   "execution_count": 6,
   "metadata": {
    "execution": {
     "iopub.execute_input": "2021-03-17T15:12:57.017741Z",
     "iopub.status.busy": "2021-03-17T15:12:57.016818Z",
     "iopub.status.idle": "2021-03-17T15:12:57.018267Z",
     "shell.execute_reply": "2021-03-17T15:12:57.018684Z"
    }
   },
   "outputs": [],
   "source": [
    "counties = dataJson[2]['dataValues'][:58]"
   ]
  },
  {
   "cell_type": "code",
   "execution_count": 7,
   "metadata": {
    "execution": {
     "iopub.execute_input": "2021-03-17T15:12:57.022975Z",
     "iopub.status.busy": "2021-03-17T15:12:57.021790Z",
     "iopub.status.idle": "2021-03-17T15:12:57.023625Z",
     "shell.execute_reply": "2021-03-17T15:12:57.024049Z"
    }
   },
   "outputs": [],
   "source": [
    "doses = dataJson[0]['dataValues'][3:61]"
   ]
  },
  {
   "cell_type": "markdown",
   "metadata": {},
   "source": [
    "Data formatting"
   ]
  },
  {
   "cell_type": "code",
   "execution_count": 8,
   "metadata": {
    "execution": {
     "iopub.execute_input": "2021-03-17T15:12:57.028379Z",
     "iopub.status.busy": "2021-03-17T15:12:57.027171Z",
     "iopub.status.idle": "2021-03-17T15:12:57.028960Z",
     "shell.execute_reply": "2021-03-17T15:12:57.029398Z"
    }
   },
   "outputs": [],
   "source": [
    "zipped = dict(zip(counties, doses))"
   ]
  },
  {
   "cell_type": "code",
   "execution_count": 9,
   "metadata": {
    "execution": {
     "iopub.execute_input": "2021-03-17T15:12:57.035254Z",
     "iopub.status.busy": "2021-03-17T15:12:57.034048Z",
     "iopub.status.idle": "2021-03-17T15:12:57.035848Z",
     "shell.execute_reply": "2021-03-17T15:12:57.036428Z"
    }
   },
   "outputs": [],
   "source": [
    "df = pd.Series(zipped).reset_index()"
   ]
  },
  {
   "cell_type": "code",
   "execution_count": 10,
   "metadata": {
    "execution": {
     "iopub.execute_input": "2021-03-17T15:12:57.040614Z",
     "iopub.status.busy": "2021-03-17T15:12:57.039662Z",
     "iopub.status.idle": "2021-03-17T15:12:57.041048Z",
     "shell.execute_reply": "2021-03-17T15:12:57.041346Z"
    }
   },
   "outputs": [],
   "source": [
    "df.columns = ['location','doses']"
   ]
  },
  {
   "cell_type": "markdown",
   "metadata": {},
   "source": [
    "Grab the overall California total"
   ]
  },
  {
   "cell_type": "code",
   "execution_count": 11,
   "metadata": {
    "execution": {
     "iopub.execute_input": "2021-03-17T15:12:57.044828Z",
     "iopub.status.busy": "2021-03-17T15:12:57.043878Z",
     "iopub.status.idle": "2021-03-17T15:12:57.045590Z",
     "shell.execute_reply": "2021-03-17T15:12:57.045987Z"
    }
   },
   "outputs": [],
   "source": [
    "add = {'location':'California','doses':dataJson[0]['dataValues'][2]}"
   ]
  },
  {
   "cell_type": "code",
   "execution_count": 12,
   "metadata": {
    "execution": {
     "iopub.execute_input": "2021-03-17T15:12:57.052293Z",
     "iopub.status.busy": "2021-03-17T15:12:57.051446Z",
     "iopub.status.idle": "2021-03-17T15:12:57.055445Z",
     "shell.execute_reply": "2021-03-17T15:12:57.055818Z"
    }
   },
   "outputs": [],
   "source": [
    "df = df.append(add, ignore_index=True)"
   ]
  },
  {
   "cell_type": "code",
   "execution_count": 13,
   "metadata": {
    "execution": {
     "iopub.execute_input": "2021-03-17T15:12:57.060706Z",
     "iopub.status.busy": "2021-03-17T15:12:57.059679Z",
     "iopub.status.idle": "2021-03-17T15:12:57.061241Z",
     "shell.execute_reply": "2021-03-17T15:12:57.061655Z"
    }
   },
   "outputs": [],
   "source": [
    "df = df.sort_values(by='location')"
   ]
  },
  {
   "cell_type": "code",
   "execution_count": 14,
   "metadata": {
    "execution": {
     "iopub.execute_input": "2021-03-17T15:12:57.068188Z",
     "iopub.status.busy": "2021-03-17T15:12:57.066860Z",
     "iopub.status.idle": "2021-03-17T15:12:57.068837Z",
     "shell.execute_reply": "2021-03-17T15:12:57.069264Z"
    }
   },
   "outputs": [],
   "source": [
    "df = df[df.location == 'California'].append(df[df.location != 'California']).reset_index(drop=True)"
   ]
  },
  {
   "cell_type": "code",
   "execution_count": null,
   "metadata": {},
   "outputs": [],
   "source": []
  },
  {
   "cell_type": "code",
   "execution_count": 15,
   "metadata": {
    "execution": {
     "iopub.execute_input": "2021-03-17T15:12:57.072363Z",
     "iopub.status.busy": "2021-03-17T15:12:57.071893Z",
     "iopub.status.idle": "2021-03-17T15:12:57.089365Z",
     "shell.execute_reply": "2021-03-17T15:12:57.088908Z"
    }
   },
   "outputs": [],
   "source": [
    "tz = pytz.timezone(\"America/New_York\")"
   ]
  },
  {
   "cell_type": "code",
   "execution_count": 16,
   "metadata": {
    "execution": {
     "iopub.execute_input": "2021-03-17T15:12:57.092693Z",
     "iopub.status.busy": "2021-03-17T15:12:57.091935Z",
     "iopub.status.idle": "2021-03-17T15:12:57.093970Z",
     "shell.execute_reply": "2021-03-17T15:12:57.093574Z"
    }
   },
   "outputs": [],
   "source": [
    "today = datetime.now(tz).date()"
   ]
  },
  {
   "cell_type": "code",
   "execution_count": 17,
   "metadata": {
    "execution": {
     "iopub.execute_input": "2021-03-17T15:12:57.097985Z",
     "iopub.status.busy": "2021-03-17T15:12:57.096878Z",
     "iopub.status.idle": "2021-03-17T15:12:57.098571Z",
     "shell.execute_reply": "2021-03-17T15:12:57.099108Z"
    }
   },
   "outputs": [],
   "source": [
    "data_dir = os.path.join(os.path.abspath(\"\"), \"data\")"
   ]
  },
  {
   "cell_type": "code",
   "execution_count": 18,
   "metadata": {
    "execution": {
     "iopub.execute_input": "2021-03-17T15:12:57.102717Z",
     "iopub.status.busy": "2021-03-17T15:12:57.101853Z",
     "iopub.status.idle": "2021-03-17T15:12:57.105837Z",
     "shell.execute_reply": "2021-03-17T15:12:57.105441Z"
    }
   },
   "outputs": [],
   "source": [
    "df.to_csv(os.path.join(data_dir, f\"{today}.csv\"), index=False)"
   ]
  },
  {
   "cell_type": "code",
   "execution_count": null,
   "metadata": {},
   "outputs": [],
   "source": []
  }
 ],
 "metadata": {
  "kernelspec": {
   "display_name": "Python 3",
   "language": "python",
   "name": "python3"
  },
  "language_info": {
   "codemirror_mode": {
    "name": "ipython",
    "version": 3
   },
   "file_extension": ".py",
   "mimetype": "text/x-python",
   "name": "python",
   "nbconvert_exporter": "python",
   "pygments_lexer": "ipython3",
   "version": "3.8.8"
  }
 },
 "nbformat": 4,
 "nbformat_minor": 4
}
