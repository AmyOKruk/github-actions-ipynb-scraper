{
 "cells": [
  {
   "cell_type": "markdown",
   "metadata": {},
   "source": [
    "# California COVID vaccinations scrape"
   ]
  },
  {
   "cell_type": "markdown",
   "metadata": {},
   "source": [
    "By [Amy O'Kruk](https://twitter.com/amyokruk)"
   ]
  },
  {
   "cell_type": "markdown",
   "metadata": {},
   "source": [
    "Downloads data on vaccine doses administered by county and statewide from a Tableau-powered dashboard from the California Department of Public Health."
   ]
  },
  {
   "cell_type": "code",
   "execution_count": 1,
   "metadata": {
    "execution": {
     "iopub.execute_input": "2021-03-23T09:45:46.585399Z",
     "iopub.status.busy": "2021-03-23T09:45:46.584495Z",
     "iopub.status.idle": "2021-03-23T09:45:47.055072Z",
     "shell.execute_reply": "2021-03-23T09:45:47.054489Z"
    }
   },
   "outputs": [],
   "source": [
    "import pandas as pd\n",
    "import requests\n",
    "from bs4 import BeautifulSoup\n",
    "import json\n",
    "import re\n",
    "import time\n",
    "from time import gmtime, strftime \n",
    "import os\n",
    "import pytz\n",
    "from datetime import datetime"
   ]
  },
  {
   "cell_type": "markdown",
   "metadata": {},
   "source": [
    "Scrape the dashboard page"
   ]
  },
  {
   "cell_type": "code",
   "execution_count": 2,
   "metadata": {
    "execution": {
     "iopub.execute_input": "2021-03-23T09:45:47.059387Z",
     "iopub.status.busy": "2021-03-23T09:45:47.058895Z",
     "iopub.status.idle": "2021-03-23T09:45:48.369669Z",
     "shell.execute_reply": "2021-03-23T09:45:48.368755Z"
    }
   },
   "outputs": [],
   "source": [
    "url = \"https://public.tableau.com/interactive/views/COVID-19VaccineDashboardPublic/Vaccine?:embed=y&:showVizHome=n&:apiID=host0\"\n",
    "\n",
    "r = requests.get(url)\n",
    "soup = BeautifulSoup(r.text, \"html.parser\")"
   ]
  },
  {
   "cell_type": "code",
   "execution_count": 3,
   "metadata": {
    "execution": {
     "iopub.execute_input": "2021-03-23T09:45:48.374410Z",
     "iopub.status.busy": "2021-03-23T09:45:48.373926Z",
     "iopub.status.idle": "2021-03-23T09:45:48.377309Z",
     "shell.execute_reply": "2021-03-23T09:45:48.376927Z"
    }
   },
   "outputs": [],
   "source": [
    "tableauData = json.loads(soup.find(\"textarea\",{\"id\": \"tsConfigContainer\"}).text)"
   ]
  },
  {
   "cell_type": "markdown",
   "metadata": {},
   "source": [
    "Get the link to the Tableau data"
   ]
  },
  {
   "cell_type": "code",
   "execution_count": 4,
   "metadata": {
    "execution": {
     "iopub.execute_input": "2021-03-23T09:45:48.380676Z",
     "iopub.status.busy": "2021-03-23T09:45:48.380165Z",
     "iopub.status.idle": "2021-03-23T09:45:48.383537Z",
     "shell.execute_reply": "2021-03-23T09:45:48.383113Z"
    }
   },
   "outputs": [],
   "source": [
    "dataUrl = f'https://public.tableau.com{tableauData[\"vizql_root\"]}/bootstrapSession/sessions/{tableauData[\"sessionid\"]}'"
   ]
  },
  {
   "cell_type": "code",
   "execution_count": 5,
   "metadata": {
    "execution": {
     "iopub.execute_input": "2021-03-23T09:45:48.389613Z",
     "iopub.status.busy": "2021-03-23T09:45:48.389132Z",
     "iopub.status.idle": "2021-03-23T09:45:48.702452Z",
     "shell.execute_reply": "2021-03-23T09:45:48.702934Z"
    }
   },
   "outputs": [],
   "source": [
    "r = requests.post(dataUrl, data= {\n",
    "    \"sheet_id\": tableauData[\"sheetId\"],\n",
    "})\n",
    "\n",
    "dataReg = re.search('\\d+;({.*})\\d+;({.*})', r.text, re.MULTILINE)\n",
    "data1 = json.loads(dataReg.group(2))\n",
    "\n",
    "dataJson = data1[\"secondaryInfo\"][\"presModelMap\"][\"dataDictionary\"][\"presModelHolder\"][\"genDataDictionaryPresModel\"][\"dataSegments\"][\"0\"][\"dataColumns\"]"
   ]
  },
  {
   "cell_type": "markdown",
   "metadata": {},
   "source": [
    "Isolate what you want"
   ]
  },
  {
   "cell_type": "code",
   "execution_count": 6,
   "metadata": {
    "execution": {
     "iopub.execute_input": "2021-03-23T09:45:48.706574Z",
     "iopub.status.busy": "2021-03-23T09:45:48.706076Z",
     "iopub.status.idle": "2021-03-23T09:45:48.708087Z",
     "shell.execute_reply": "2021-03-23T09:45:48.707605Z"
    }
   },
   "outputs": [],
   "source": [
    "counties = dataJson[2]['dataValues'][:58]"
   ]
  },
  {
   "cell_type": "code",
   "execution_count": 7,
   "metadata": {
    "execution": {
     "iopub.execute_input": "2021-03-23T09:45:48.711483Z",
     "iopub.status.busy": "2021-03-23T09:45:48.711002Z",
     "iopub.status.idle": "2021-03-23T09:45:48.713813Z",
     "shell.execute_reply": "2021-03-23T09:45:48.714187Z"
    }
   },
   "outputs": [],
   "source": [
    "doses = dataJson[0]['dataValues'][3:61]"
   ]
  },
  {
   "cell_type": "markdown",
   "metadata": {},
   "source": [
    "Data formatting"
   ]
  },
  {
   "cell_type": "code",
   "execution_count": 8,
   "metadata": {
    "execution": {
     "iopub.execute_input": "2021-03-23T09:45:48.718533Z",
     "iopub.status.busy": "2021-03-23T09:45:48.717507Z",
     "iopub.status.idle": "2021-03-23T09:45:48.719091Z",
     "shell.execute_reply": "2021-03-23T09:45:48.719483Z"
    }
   },
   "outputs": [],
   "source": [
    "zipped = dict(zip(counties, doses))"
   ]
  },
  {
   "cell_type": "code",
   "execution_count": 9,
   "metadata": {
    "execution": {
     "iopub.execute_input": "2021-03-23T09:45:48.725655Z",
     "iopub.status.busy": "2021-03-23T09:45:48.724504Z",
     "iopub.status.idle": "2021-03-23T09:45:48.726212Z",
     "shell.execute_reply": "2021-03-23T09:45:48.726558Z"
    }
   },
   "outputs": [],
   "source": [
    "df = pd.Series(zipped).reset_index()"
   ]
  },
  {
   "cell_type": "code",
   "execution_count": 10,
   "metadata": {
    "execution": {
     "iopub.execute_input": "2021-03-23T09:45:48.730320Z",
     "iopub.status.busy": "2021-03-23T09:45:48.729469Z",
     "iopub.status.idle": "2021-03-23T09:45:48.731116Z",
     "shell.execute_reply": "2021-03-23T09:45:48.731531Z"
    }
   },
   "outputs": [],
   "source": [
    "df.columns = ['location','doses']"
   ]
  },
  {
   "cell_type": "markdown",
   "metadata": {},
   "source": [
    "Grab the overall California total"
   ]
  },
  {
   "cell_type": "code",
   "execution_count": 11,
   "metadata": {
    "execution": {
     "iopub.execute_input": "2021-03-23T09:45:48.735495Z",
     "iopub.status.busy": "2021-03-23T09:45:48.734486Z",
     "iopub.status.idle": "2021-03-23T09:45:48.736081Z",
     "shell.execute_reply": "2021-03-23T09:45:48.736479Z"
    }
   },
   "outputs": [],
   "source": [
    "add = {'location':'California','doses':dataJson[0]['dataValues'][2]}"
   ]
  },
  {
   "cell_type": "code",
   "execution_count": 12,
   "metadata": {
    "execution": {
     "iopub.execute_input": "2021-03-23T09:45:48.742556Z",
     "iopub.status.busy": "2021-03-23T09:45:48.741754Z",
     "iopub.status.idle": "2021-03-23T09:45:48.743398Z",
     "shell.execute_reply": "2021-03-23T09:45:48.743795Z"
    }
   },
   "outputs": [],
   "source": [
    "df = df.append(add, ignore_index=True)"
   ]
  },
  {
   "cell_type": "code",
   "execution_count": 13,
   "metadata": {
    "execution": {
     "iopub.execute_input": "2021-03-23T09:45:48.748157Z",
     "iopub.status.busy": "2021-03-23T09:45:48.747217Z",
     "iopub.status.idle": "2021-03-23T09:45:48.749388Z",
     "shell.execute_reply": "2021-03-23T09:45:48.748998Z"
    }
   },
   "outputs": [],
   "source": [
    "df = df.sort_values(by='location')"
   ]
  },
  {
   "cell_type": "code",
   "execution_count": 14,
   "metadata": {
    "execution": {
     "iopub.execute_input": "2021-03-23T09:45:48.755129Z",
     "iopub.status.busy": "2021-03-23T09:45:48.754182Z",
     "iopub.status.idle": "2021-03-23T09:45:48.755872Z",
     "shell.execute_reply": "2021-03-23T09:45:48.756324Z"
    }
   },
   "outputs": [],
   "source": [
    "df = df[df.location == 'California'].append(df[df.location != 'California']).reset_index(drop=True)"
   ]
  },
  {
   "cell_type": "code",
   "execution_count": null,
   "metadata": {},
   "outputs": [],
   "source": []
  },
  {
   "cell_type": "code",
   "execution_count": 15,
   "metadata": {
    "execution": {
     "iopub.execute_input": "2021-03-23T09:45:48.759621Z",
     "iopub.status.busy": "2021-03-23T09:45:48.759109Z",
     "iopub.status.idle": "2021-03-23T09:45:48.777488Z",
     "shell.execute_reply": "2021-03-23T09:45:48.777029Z"
    }
   },
   "outputs": [],
   "source": [
    "tz = pytz.timezone(\"America/New_York\")"
   ]
  },
  {
   "cell_type": "code",
   "execution_count": 16,
   "metadata": {
    "execution": {
     "iopub.execute_input": "2021-03-23T09:45:48.781927Z",
     "iopub.status.busy": "2021-03-23T09:45:48.780736Z",
     "iopub.status.idle": "2021-03-23T09:45:48.782553Z",
     "shell.execute_reply": "2021-03-23T09:45:48.783010Z"
    }
   },
   "outputs": [],
   "source": [
    "today = datetime.now(tz).date()"
   ]
  },
  {
   "cell_type": "code",
   "execution_count": 17,
   "metadata": {
    "execution": {
     "iopub.execute_input": "2021-03-23T09:45:48.786744Z",
     "iopub.status.busy": "2021-03-23T09:45:48.785838Z",
     "iopub.status.idle": "2021-03-23T09:45:48.787421Z",
     "shell.execute_reply": "2021-03-23T09:45:48.787766Z"
    }
   },
   "outputs": [],
   "source": [
    "data_dir = os.path.join(os.path.abspath(\"\"), \"data\")"
   ]
  },
  {
   "cell_type": "code",
   "execution_count": 18,
   "metadata": {
    "execution": {
     "iopub.execute_input": "2021-03-23T09:45:48.791695Z",
     "iopub.status.busy": "2021-03-23T09:45:48.790708Z",
     "iopub.status.idle": "2021-03-23T09:45:48.795562Z",
     "shell.execute_reply": "2021-03-23T09:45:48.795060Z"
    }
   },
   "outputs": [],
   "source": [
    "df.to_csv(os.path.join(data_dir, f\"{today}.csv\"), index=False)"
   ]
  },
  {
   "cell_type": "code",
   "execution_count": null,
   "metadata": {},
   "outputs": [],
   "source": []
  }
 ],
 "metadata": {
  "kernelspec": {
   "display_name": "Python 3",
   "language": "python",
   "name": "python3"
  },
  "language_info": {
   "codemirror_mode": {
    "name": "ipython",
    "version": 3
   },
   "file_extension": ".py",
   "mimetype": "text/x-python",
   "name": "python",
   "nbconvert_exporter": "python",
   "pygments_lexer": "ipython3",
   "version": "3.8.8"
  }
 },
 "nbformat": 4,
 "nbformat_minor": 4
}
