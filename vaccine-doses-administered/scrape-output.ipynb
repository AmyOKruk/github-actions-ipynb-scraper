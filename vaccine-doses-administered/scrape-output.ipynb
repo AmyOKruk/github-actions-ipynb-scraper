{
 "cells": [
  {
   "cell_type": "markdown",
   "metadata": {},
   "source": [
    "# California COVID vaccinations scrape"
   ]
  },
  {
   "cell_type": "markdown",
   "metadata": {},
   "source": [
    "By [Amy O'Kruk](https://twitter.com/amyokruk)"
   ]
  },
  {
   "cell_type": "markdown",
   "metadata": {},
   "source": [
    "Downloads data on vaccine doses administered by county and statewide from a Tableau-powered dashboard from the California Department of Public Health."
   ]
  },
  {
   "cell_type": "code",
   "execution_count": 1,
   "metadata": {
    "execution": {
     "iopub.execute_input": "2021-03-18T13:16:43.707990Z",
     "iopub.status.busy": "2021-03-18T13:16:43.706829Z",
     "iopub.status.idle": "2021-03-18T13:16:44.186930Z",
     "shell.execute_reply": "2021-03-18T13:16:44.185804Z"
    }
   },
   "outputs": [],
   "source": [
    "import pandas as pd\n",
    "import requests\n",
    "from bs4 import BeautifulSoup\n",
    "import json\n",
    "import re\n",
    "import time\n",
    "from time import gmtime, strftime \n",
    "import os\n",
    "import pytz\n",
    "from datetime import datetime"
   ]
  },
  {
   "cell_type": "markdown",
   "metadata": {},
   "source": [
    "Scrape the dashboard page"
   ]
  },
  {
   "cell_type": "code",
   "execution_count": 2,
   "metadata": {
    "execution": {
     "iopub.execute_input": "2021-03-18T13:16:44.193289Z",
     "iopub.status.busy": "2021-03-18T13:16:44.190824Z",
     "iopub.status.idle": "2021-03-18T13:16:44.736847Z",
     "shell.execute_reply": "2021-03-18T13:16:44.736194Z"
    }
   },
   "outputs": [],
   "source": [
    "url = \"https://public.tableau.com/interactive/views/COVID-19VaccineDashboardPublic/Vaccine?:embed=y&:showVizHome=n&:apiID=host0\"\n",
    "\n",
    "r = requests.get(url)\n",
    "soup = BeautifulSoup(r.text, \"html.parser\")"
   ]
  },
  {
   "cell_type": "code",
   "execution_count": 3,
   "metadata": {
    "execution": {
     "iopub.execute_input": "2021-03-18T13:16:44.741870Z",
     "iopub.status.busy": "2021-03-18T13:16:44.741340Z",
     "iopub.status.idle": "2021-03-18T13:16:44.745017Z",
     "shell.execute_reply": "2021-03-18T13:16:44.744273Z"
    }
   },
   "outputs": [],
   "source": [
    "tableauData = json.loads(soup.find(\"textarea\",{\"id\": \"tsConfigContainer\"}).text)"
   ]
  },
  {
   "cell_type": "markdown",
   "metadata": {},
   "source": [
    "Get the link to the Tableau data"
   ]
  },
  {
   "cell_type": "code",
   "execution_count": 4,
   "metadata": {
    "execution": {
     "iopub.execute_input": "2021-03-18T13:16:44.749478Z",
     "iopub.status.busy": "2021-03-18T13:16:44.748332Z",
     "iopub.status.idle": "2021-03-18T13:16:44.750074Z",
     "shell.execute_reply": "2021-03-18T13:16:44.750501Z"
    }
   },
   "outputs": [],
   "source": [
    "dataUrl = f'https://public.tableau.com{tableauData[\"vizql_root\"]}/bootstrapSession/sessions/{tableauData[\"sessionid\"]}'"
   ]
  },
  {
   "cell_type": "code",
   "execution_count": 5,
   "metadata": {
    "execution": {
     "iopub.execute_input": "2021-03-18T13:16:44.757274Z",
     "iopub.status.busy": "2021-03-18T13:16:44.756728Z",
     "iopub.status.idle": "2021-03-18T13:16:44.975206Z",
     "shell.execute_reply": "2021-03-18T13:16:44.974650Z"
    }
   },
   "outputs": [],
   "source": [
    "r = requests.post(dataUrl, data= {\n",
    "    \"sheet_id\": tableauData[\"sheetId\"],\n",
    "})\n",
    "\n",
    "dataReg = re.search('\\d+;({.*})\\d+;({.*})', r.text, re.MULTILINE)\n",
    "data1 = json.loads(dataReg.group(2))\n",
    "\n",
    "dataJson = data1[\"secondaryInfo\"][\"presModelMap\"][\"dataDictionary\"][\"presModelHolder\"][\"genDataDictionaryPresModel\"][\"dataSegments\"][\"0\"][\"dataColumns\"]"
   ]
  },
  {
   "cell_type": "markdown",
   "metadata": {},
   "source": [
    "Isolate what you want"
   ]
  },
  {
   "cell_type": "code",
   "execution_count": 6,
   "metadata": {
    "execution": {
     "iopub.execute_input": "2021-03-18T13:16:44.979965Z",
     "iopub.status.busy": "2021-03-18T13:16:44.978777Z",
     "iopub.status.idle": "2021-03-18T13:16:44.980583Z",
     "shell.execute_reply": "2021-03-18T13:16:44.981037Z"
    }
   },
   "outputs": [],
   "source": [
    "counties = dataJson[2]['dataValues'][:58]"
   ]
  },
  {
   "cell_type": "code",
   "execution_count": 7,
   "metadata": {
    "execution": {
     "iopub.execute_input": "2021-03-18T13:16:44.985673Z",
     "iopub.status.busy": "2021-03-18T13:16:44.984300Z",
     "iopub.status.idle": "2021-03-18T13:16:44.986274Z",
     "shell.execute_reply": "2021-03-18T13:16:44.986835Z"
    }
   },
   "outputs": [],
   "source": [
    "doses = dataJson[0]['dataValues'][3:61]"
   ]
  },
  {
   "cell_type": "markdown",
   "metadata": {},
   "source": [
    "Data formatting"
   ]
  },
  {
   "cell_type": "code",
   "execution_count": 8,
   "metadata": {
    "execution": {
     "iopub.execute_input": "2021-03-18T13:16:44.991347Z",
     "iopub.status.busy": "2021-03-18T13:16:44.990079Z",
     "iopub.status.idle": "2021-03-18T13:16:44.991964Z",
     "shell.execute_reply": "2021-03-18T13:16:44.992394Z"
    }
   },
   "outputs": [],
   "source": [
    "zipped = dict(zip(counties, doses))"
   ]
  },
  {
   "cell_type": "code",
   "execution_count": 9,
   "metadata": {
    "execution": {
     "iopub.execute_input": "2021-03-18T13:16:44.999080Z",
     "iopub.status.busy": "2021-03-18T13:16:44.997864Z",
     "iopub.status.idle": "2021-03-18T13:16:44.999685Z",
     "shell.execute_reply": "2021-03-18T13:16:45.000115Z"
    }
   },
   "outputs": [],
   "source": [
    "df = pd.Series(zipped).reset_index()"
   ]
  },
  {
   "cell_type": "code",
   "execution_count": 10,
   "metadata": {
    "execution": {
     "iopub.execute_input": "2021-03-18T13:16:45.004608Z",
     "iopub.status.busy": "2021-03-18T13:16:45.003414Z",
     "iopub.status.idle": "2021-03-18T13:16:45.005205Z",
     "shell.execute_reply": "2021-03-18T13:16:45.005631Z"
    }
   },
   "outputs": [],
   "source": [
    "df.columns = ['location','doses']"
   ]
  },
  {
   "cell_type": "markdown",
   "metadata": {},
   "source": [
    "Grab the overall California total"
   ]
  },
  {
   "cell_type": "code",
   "execution_count": 11,
   "metadata": {
    "execution": {
     "iopub.execute_input": "2021-03-18T13:16:45.010338Z",
     "iopub.status.busy": "2021-03-18T13:16:45.008889Z",
     "iopub.status.idle": "2021-03-18T13:16:45.010922Z",
     "shell.execute_reply": "2021-03-18T13:16:45.011387Z"
    }
   },
   "outputs": [],
   "source": [
    "add = {'location':'California','doses':dataJson[0]['dataValues'][2]}"
   ]
  },
  {
   "cell_type": "code",
   "execution_count": 12,
   "metadata": {
    "execution": {
     "iopub.execute_input": "2021-03-18T13:16:45.018737Z",
     "iopub.status.busy": "2021-03-18T13:16:45.017373Z",
     "iopub.status.idle": "2021-03-18T13:16:45.019361Z",
     "shell.execute_reply": "2021-03-18T13:16:45.019794Z"
    }
   },
   "outputs": [],
   "source": [
    "df = df.append(add, ignore_index=True)"
   ]
  },
  {
   "cell_type": "code",
   "execution_count": 13,
   "metadata": {
    "execution": {
     "iopub.execute_input": "2021-03-18T13:16:45.024638Z",
     "iopub.status.busy": "2021-03-18T13:16:45.023527Z",
     "iopub.status.idle": "2021-03-18T13:16:45.025334Z",
     "shell.execute_reply": "2021-03-18T13:16:45.025761Z"
    }
   },
   "outputs": [],
   "source": [
    "df = df.sort_values(by='location')"
   ]
  },
  {
   "cell_type": "code",
   "execution_count": 14,
   "metadata": {
    "execution": {
     "iopub.execute_input": "2021-03-18T13:16:45.032435Z",
     "iopub.status.busy": "2021-03-18T13:16:45.031210Z",
     "iopub.status.idle": "2021-03-18T13:16:45.033013Z",
     "shell.execute_reply": "2021-03-18T13:16:45.033434Z"
    }
   },
   "outputs": [],
   "source": [
    "df = df[df.location == 'California'].append(df[df.location != 'California']).reset_index(drop=True)"
   ]
  },
  {
   "cell_type": "code",
   "execution_count": null,
   "metadata": {},
   "outputs": [],
   "source": []
  },
  {
   "cell_type": "code",
   "execution_count": 15,
   "metadata": {
    "execution": {
     "iopub.execute_input": "2021-03-18T13:16:45.036868Z",
     "iopub.status.busy": "2021-03-18T13:16:45.036356Z",
     "iopub.status.idle": "2021-03-18T13:16:45.054186Z",
     "shell.execute_reply": "2021-03-18T13:16:45.053613Z"
    }
   },
   "outputs": [],
   "source": [
    "tz = pytz.timezone(\"America/New_York\")"
   ]
  },
  {
   "cell_type": "code",
   "execution_count": 16,
   "metadata": {
    "execution": {
     "iopub.execute_input": "2021-03-18T13:16:45.059697Z",
     "iopub.status.busy": "2021-03-18T13:16:45.057625Z",
     "iopub.status.idle": "2021-03-18T13:16:45.060308Z",
     "shell.execute_reply": "2021-03-18T13:16:45.060816Z"
    }
   },
   "outputs": [],
   "source": [
    "today = datetime.now(tz).date()"
   ]
  },
  {
   "cell_type": "code",
   "execution_count": 17,
   "metadata": {
    "execution": {
     "iopub.execute_input": "2021-03-18T13:16:45.065466Z",
     "iopub.status.busy": "2021-03-18T13:16:45.064135Z",
     "iopub.status.idle": "2021-03-18T13:16:45.066246Z",
     "shell.execute_reply": "2021-03-18T13:16:45.066718Z"
    }
   },
   "outputs": [],
   "source": [
    "data_dir = os.path.join(os.path.abspath(\"\"), \"data\")"
   ]
  },
  {
   "cell_type": "code",
   "execution_count": 18,
   "metadata": {
    "execution": {
     "iopub.execute_input": "2021-03-18T13:16:45.071273Z",
     "iopub.status.busy": "2021-03-18T13:16:45.069903Z",
     "iopub.status.idle": "2021-03-18T13:16:45.075069Z",
     "shell.execute_reply": "2021-03-18T13:16:45.074505Z"
    }
   },
   "outputs": [],
   "source": [
    "df.to_csv(os.path.join(data_dir, f\"{today}.csv\"), index=False)"
   ]
  },
  {
   "cell_type": "code",
   "execution_count": null,
   "metadata": {},
   "outputs": [],
   "source": []
  }
 ],
 "metadata": {
  "kernelspec": {
   "display_name": "Python 3",
   "language": "python",
   "name": "python3"
  },
  "language_info": {
   "codemirror_mode": {
    "name": "ipython",
    "version": 3
   },
   "file_extension": ".py",
   "mimetype": "text/x-python",
   "name": "python",
   "nbconvert_exporter": "python",
   "pygments_lexer": "ipython3",
   "version": "3.8.8"
  }
 },
 "nbformat": 4,
 "nbformat_minor": 4
}
