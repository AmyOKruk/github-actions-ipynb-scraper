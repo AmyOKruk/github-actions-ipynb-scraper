{
 "cells": [
  {
   "cell_type": "markdown",
   "metadata": {},
   "source": [
    "# California COVID vaccinations scrape"
   ]
  },
  {
   "cell_type": "markdown",
   "metadata": {},
   "source": [
    "By [Amy O'Kruk](https://twitter.com/amyokruk)"
   ]
  },
  {
   "cell_type": "markdown",
   "metadata": {},
   "source": [
    "Downloads data on vaccine doses administered by county and statewide from a Tableau-powered dashboard from the California Department of Public Health."
   ]
  },
  {
   "cell_type": "code",
   "execution_count": 1,
   "metadata": {
    "execution": {
     "iopub.execute_input": "2021-03-16T20:13:22.667331Z",
     "iopub.status.busy": "2021-03-16T20:13:22.666534Z",
     "iopub.status.idle": "2021-03-16T20:13:23.092550Z",
     "shell.execute_reply": "2021-03-16T20:13:23.091107Z"
    }
   },
   "outputs": [],
   "source": [
    "import pandas as pd\n",
    "import requests\n",
    "from bs4 import BeautifulSoup\n",
    "import json\n",
    "import re\n",
    "import time\n",
    "from time import gmtime, strftime \n",
    "import os\n",
    "import pytz\n",
    "from datetime import datetime"
   ]
  },
  {
   "cell_type": "markdown",
   "metadata": {},
   "source": [
    "Scrape the dashboard page"
   ]
  },
  {
   "cell_type": "code",
   "execution_count": 2,
   "metadata": {
    "execution": {
     "iopub.execute_input": "2021-03-16T20:13:23.098374Z",
     "iopub.status.busy": "2021-03-16T20:13:23.095826Z",
     "iopub.status.idle": "2021-03-16T20:13:23.594110Z",
     "shell.execute_reply": "2021-03-16T20:13:23.593674Z"
    }
   },
   "outputs": [],
   "source": [
    "url = \"https://public.tableau.com/interactive/views/COVID-19VaccineDashboardPublic/Vaccine?:embed=y&:showVizHome=n&:apiID=host0\"\n",
    "\n",
    "r = requests.get(url)\n",
    "soup = BeautifulSoup(r.text, \"html.parser\")"
   ]
  },
  {
   "cell_type": "code",
   "execution_count": 3,
   "metadata": {
    "execution": {
     "iopub.execute_input": "2021-03-16T20:13:23.599051Z",
     "iopub.status.busy": "2021-03-16T20:13:23.598437Z",
     "iopub.status.idle": "2021-03-16T20:13:23.606127Z",
     "shell.execute_reply": "2021-03-16T20:13:23.605687Z"
    }
   },
   "outputs": [],
   "source": [
    "tableauData = json.loads(soup.find(\"textarea\",{\"id\": \"tsConfigContainer\"}).text)"
   ]
  },
  {
   "cell_type": "markdown",
   "metadata": {},
   "source": [
    "Get the link to the Tableau data"
   ]
  },
  {
   "cell_type": "code",
   "execution_count": 4,
   "metadata": {
    "execution": {
     "iopub.execute_input": "2021-03-16T20:13:23.613784Z",
     "iopub.status.busy": "2021-03-16T20:13:23.612809Z",
     "iopub.status.idle": "2021-03-16T20:13:23.614734Z",
     "shell.execute_reply": "2021-03-16T20:13:23.615121Z"
    }
   },
   "outputs": [],
   "source": [
    "dataUrl = f'https://public.tableau.com{tableauData[\"vizql_root\"]}/bootstrapSession/sessions/{tableauData[\"sessionid\"]}'"
   ]
  },
  {
   "cell_type": "code",
   "execution_count": 5,
   "metadata": {
    "execution": {
     "iopub.execute_input": "2021-03-16T20:13:23.621819Z",
     "iopub.status.busy": "2021-03-16T20:13:23.621296Z",
     "iopub.status.idle": "2021-03-16T20:13:23.827497Z",
     "shell.execute_reply": "2021-03-16T20:13:23.828241Z"
    }
   },
   "outputs": [],
   "source": [
    "r = requests.post(dataUrl, data= {\n",
    "    \"sheet_id\": tableauData[\"sheetId\"],\n",
    "})\n",
    "\n",
    "dataReg = re.search('\\d+;({.*})\\d+;({.*})', r.text, re.MULTILINE)\n",
    "data1 = json.loads(dataReg.group(2))\n",
    "\n",
    "dataJson = data1[\"secondaryInfo\"][\"presModelMap\"][\"dataDictionary\"][\"presModelHolder\"][\"genDataDictionaryPresModel\"][\"dataSegments\"][\"0\"][\"dataColumns\"]"
   ]
  },
  {
   "cell_type": "markdown",
   "metadata": {},
   "source": [
    "Isolate what you want"
   ]
  },
  {
   "cell_type": "code",
   "execution_count": 6,
   "metadata": {
    "execution": {
     "iopub.execute_input": "2021-03-16T20:13:23.831767Z",
     "iopub.status.busy": "2021-03-16T20:13:23.831304Z",
     "iopub.status.idle": "2021-03-16T20:13:23.834810Z",
     "shell.execute_reply": "2021-03-16T20:13:23.834125Z"
    }
   },
   "outputs": [],
   "source": [
    "counties = dataJson[2]['dataValues'][:58]"
   ]
  },
  {
   "cell_type": "code",
   "execution_count": 7,
   "metadata": {
    "execution": {
     "iopub.execute_input": "2021-03-16T20:13:23.838730Z",
     "iopub.status.busy": "2021-03-16T20:13:23.838153Z",
     "iopub.status.idle": "2021-03-16T20:13:23.843294Z",
     "shell.execute_reply": "2021-03-16T20:13:23.842779Z"
    }
   },
   "outputs": [],
   "source": [
    "doses = dataJson[0]['dataValues'][3:61]"
   ]
  },
  {
   "cell_type": "markdown",
   "metadata": {},
   "source": [
    "Data formatting"
   ]
  },
  {
   "cell_type": "code",
   "execution_count": 8,
   "metadata": {
    "execution": {
     "iopub.execute_input": "2021-03-16T20:13:23.846526Z",
     "iopub.status.busy": "2021-03-16T20:13:23.846044Z",
     "iopub.status.idle": "2021-03-16T20:13:23.848259Z",
     "shell.execute_reply": "2021-03-16T20:13:23.847828Z"
    }
   },
   "outputs": [],
   "source": [
    "zipped = dict(zip(counties, doses))"
   ]
  },
  {
   "cell_type": "code",
   "execution_count": 9,
   "metadata": {
    "execution": {
     "iopub.execute_input": "2021-03-16T20:13:23.853748Z",
     "iopub.status.busy": "2021-03-16T20:13:23.853286Z",
     "iopub.status.idle": "2021-03-16T20:13:23.856714Z",
     "shell.execute_reply": "2021-03-16T20:13:23.856282Z"
    }
   },
   "outputs": [],
   "source": [
    "df = pd.Series(zipped).reset_index()"
   ]
  },
  {
   "cell_type": "code",
   "execution_count": 10,
   "metadata": {
    "execution": {
     "iopub.execute_input": "2021-03-16T20:13:23.861346Z",
     "iopub.status.busy": "2021-03-16T20:13:23.860685Z",
     "iopub.status.idle": "2021-03-16T20:13:23.864416Z",
     "shell.execute_reply": "2021-03-16T20:13:23.864022Z"
    }
   },
   "outputs": [],
   "source": [
    "df.columns = ['location','doses']"
   ]
  },
  {
   "cell_type": "markdown",
   "metadata": {},
   "source": [
    "Grab the overall California total"
   ]
  },
  {
   "cell_type": "code",
   "execution_count": 11,
   "metadata": {
    "execution": {
     "iopub.execute_input": "2021-03-16T20:13:23.868359Z",
     "iopub.status.busy": "2021-03-16T20:13:23.867883Z",
     "iopub.status.idle": "2021-03-16T20:13:23.871608Z",
     "shell.execute_reply": "2021-03-16T20:13:23.872010Z"
    }
   },
   "outputs": [],
   "source": [
    "add = {'location':'California','doses':dataJson[0]['dataValues'][2]}"
   ]
  },
  {
   "cell_type": "code",
   "execution_count": 12,
   "metadata": {
    "execution": {
     "iopub.execute_input": "2021-03-16T20:13:23.879244Z",
     "iopub.status.busy": "2021-03-16T20:13:23.878750Z",
     "iopub.status.idle": "2021-03-16T20:13:23.882500Z",
     "shell.execute_reply": "2021-03-16T20:13:23.881869Z"
    }
   },
   "outputs": [],
   "source": [
    "df = df.append(add, ignore_index=True)"
   ]
  },
  {
   "cell_type": "code",
   "execution_count": 13,
   "metadata": {
    "execution": {
     "iopub.execute_input": "2021-03-16T20:13:23.887692Z",
     "iopub.status.busy": "2021-03-16T20:13:23.886458Z",
     "iopub.status.idle": "2021-03-16T20:13:23.888733Z",
     "shell.execute_reply": "2021-03-16T20:13:23.889278Z"
    }
   },
   "outputs": [],
   "source": [
    "df = df.sort_values(by='location')"
   ]
  },
  {
   "cell_type": "code",
   "execution_count": 14,
   "metadata": {
    "execution": {
     "iopub.execute_input": "2021-03-16T20:13:23.895269Z",
     "iopub.status.busy": "2021-03-16T20:13:23.894377Z",
     "iopub.status.idle": "2021-03-16T20:13:23.896458Z",
     "shell.execute_reply": "2021-03-16T20:13:23.896069Z"
    }
   },
   "outputs": [],
   "source": [
    "df = df[df.location == 'California'].append(df[df.location != 'California']).reset_index(drop=True)"
   ]
  },
  {
   "cell_type": "code",
   "execution_count": null,
   "metadata": {},
   "outputs": [],
   "source": []
  },
  {
   "cell_type": "code",
   "execution_count": 15,
   "metadata": {
    "execution": {
     "iopub.execute_input": "2021-03-16T20:13:23.899751Z",
     "iopub.status.busy": "2021-03-16T20:13:23.899275Z",
     "iopub.status.idle": "2021-03-16T20:13:23.920503Z",
     "shell.execute_reply": "2021-03-16T20:13:23.919860Z"
    }
   },
   "outputs": [],
   "source": [
    "tz = pytz.timezone(\"America/New_York\")"
   ]
  },
  {
   "cell_type": "code",
   "execution_count": 16,
   "metadata": {
    "execution": {
     "iopub.execute_input": "2021-03-16T20:13:23.933257Z",
     "iopub.status.busy": "2021-03-16T20:13:23.932196Z",
     "iopub.status.idle": "2021-03-16T20:13:23.934021Z",
     "shell.execute_reply": "2021-03-16T20:13:23.934543Z"
    }
   },
   "outputs": [],
   "source": [
    "today = datetime.now(tz).date()"
   ]
  },
  {
   "cell_type": "code",
   "execution_count": 17,
   "metadata": {
    "execution": {
     "iopub.execute_input": "2021-03-16T20:13:23.940243Z",
     "iopub.status.busy": "2021-03-16T20:13:23.938323Z",
     "iopub.status.idle": "2021-03-16T20:13:23.941536Z",
     "shell.execute_reply": "2021-03-16T20:13:23.942044Z"
    }
   },
   "outputs": [],
   "source": [
    "data_dir = os.path.join(os.path.abspath(\"\"), \"data\")"
   ]
  },
  {
   "cell_type": "code",
   "execution_count": 18,
   "metadata": {
    "execution": {
     "iopub.execute_input": "2021-03-16T20:13:23.946935Z",
     "iopub.status.busy": "2021-03-16T20:13:23.946368Z",
     "iopub.status.idle": "2021-03-16T20:13:23.951653Z",
     "shell.execute_reply": "2021-03-16T20:13:23.951198Z"
    }
   },
   "outputs": [],
   "source": [
    "df.to_csv(os.path.join(data_dir, f\"{today}.csv\"), index=False)"
   ]
  },
  {
   "cell_type": "code",
   "execution_count": null,
   "metadata": {},
   "outputs": [],
   "source": []
  }
 ],
 "metadata": {
  "kernelspec": {
   "display_name": "Python 3",
   "language": "python",
   "name": "python3"
  },
  "language_info": {
   "codemirror_mode": {
    "name": "ipython",
    "version": 3
   },
   "file_extension": ".py",
   "mimetype": "text/x-python",
   "name": "python",
   "nbconvert_exporter": "python",
   "pygments_lexer": "ipython3",
   "version": "3.8.8"
  }
 },
 "nbformat": 4,
 "nbformat_minor": 4
}
