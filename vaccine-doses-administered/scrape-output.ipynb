{
 "cells": [
  {
   "cell_type": "markdown",
   "metadata": {},
   "source": [
    "# California COVID vaccinations scrape"
   ]
  },
  {
   "cell_type": "markdown",
   "metadata": {},
   "source": [
    "By [Amy O'Kruk](https://twitter.com/amyokruk)"
   ]
  },
  {
   "cell_type": "markdown",
   "metadata": {},
   "source": [
    "Downloads data on vaccine doses administered by county and statewide from a Tableau-powered dashboard from the California Department of Public Health."
   ]
  },
  {
   "cell_type": "code",
   "execution_count": 1,
   "metadata": {
    "execution": {
     "iopub.execute_input": "2021-03-22T11:40:51.379585Z",
     "iopub.status.busy": "2021-03-22T11:40:51.378912Z",
     "iopub.status.idle": "2021-03-22T11:40:51.825366Z",
     "shell.execute_reply": "2021-03-22T11:40:51.824606Z"
    }
   },
   "outputs": [],
   "source": [
    "import pandas as pd\n",
    "import requests\n",
    "from bs4 import BeautifulSoup\n",
    "import json\n",
    "import re\n",
    "import time\n",
    "from time import gmtime, strftime \n",
    "import os\n",
    "import pytz\n",
    "from datetime import datetime"
   ]
  },
  {
   "cell_type": "markdown",
   "metadata": {},
   "source": [
    "Scrape the dashboard page"
   ]
  },
  {
   "cell_type": "code",
   "execution_count": 2,
   "metadata": {
    "execution": {
     "iopub.execute_input": "2021-03-22T11:40:51.831823Z",
     "iopub.status.busy": "2021-03-22T11:40:51.829531Z",
     "iopub.status.idle": "2021-03-22T11:40:52.139597Z",
     "shell.execute_reply": "2021-03-22T11:40:52.138538Z"
    }
   },
   "outputs": [],
   "source": [
    "url = \"https://public.tableau.com/interactive/views/COVID-19VaccineDashboardPublic/Vaccine?:embed=y&:showVizHome=n&:apiID=host0\"\n",
    "\n",
    "r = requests.get(url)\n",
    "soup = BeautifulSoup(r.text, \"html.parser\")"
   ]
  },
  {
   "cell_type": "code",
   "execution_count": 3,
   "metadata": {
    "execution": {
     "iopub.execute_input": "2021-03-22T11:40:52.144903Z",
     "iopub.status.busy": "2021-03-22T11:40:52.144349Z",
     "iopub.status.idle": "2021-03-22T11:40:52.147170Z",
     "shell.execute_reply": "2021-03-22T11:40:52.146687Z"
    }
   },
   "outputs": [],
   "source": [
    "tableauData = json.loads(soup.find(\"textarea\",{\"id\": \"tsConfigContainer\"}).text)"
   ]
  },
  {
   "cell_type": "markdown",
   "metadata": {},
   "source": [
    "Get the link to the Tableau data"
   ]
  },
  {
   "cell_type": "code",
   "execution_count": 4,
   "metadata": {
    "execution": {
     "iopub.execute_input": "2021-03-22T11:40:52.152517Z",
     "iopub.status.busy": "2021-03-22T11:40:52.151505Z",
     "iopub.status.idle": "2021-03-22T11:40:52.153532Z",
     "shell.execute_reply": "2021-03-22T11:40:52.153973Z"
    }
   },
   "outputs": [],
   "source": [
    "dataUrl = f'https://public.tableau.com{tableauData[\"vizql_root\"]}/bootstrapSession/sessions/{tableauData[\"sessionid\"]}'"
   ]
  },
  {
   "cell_type": "code",
   "execution_count": 5,
   "metadata": {
    "execution": {
     "iopub.execute_input": "2021-03-22T11:40:52.162018Z",
     "iopub.status.busy": "2021-03-22T11:40:52.159542Z",
     "iopub.status.idle": "2021-03-22T11:40:52.421463Z",
     "shell.execute_reply": "2021-03-22T11:40:52.420910Z"
    }
   },
   "outputs": [],
   "source": [
    "r = requests.post(dataUrl, data= {\n",
    "    \"sheet_id\": tableauData[\"sheetId\"],\n",
    "})\n",
    "\n",
    "dataReg = re.search('\\d+;({.*})\\d+;({.*})', r.text, re.MULTILINE)\n",
    "data1 = json.loads(dataReg.group(2))\n",
    "\n",
    "dataJson = data1[\"secondaryInfo\"][\"presModelMap\"][\"dataDictionary\"][\"presModelHolder\"][\"genDataDictionaryPresModel\"][\"dataSegments\"][\"0\"][\"dataColumns\"]"
   ]
  },
  {
   "cell_type": "markdown",
   "metadata": {},
   "source": [
    "Isolate what you want"
   ]
  },
  {
   "cell_type": "code",
   "execution_count": 6,
   "metadata": {
    "execution": {
     "iopub.execute_input": "2021-03-22T11:40:52.426082Z",
     "iopub.status.busy": "2021-03-22T11:40:52.425436Z",
     "iopub.status.idle": "2021-03-22T11:40:52.429548Z",
     "shell.execute_reply": "2021-03-22T11:40:52.428735Z"
    }
   },
   "outputs": [],
   "source": [
    "counties = dataJson[2]['dataValues'][:58]"
   ]
  },
  {
   "cell_type": "code",
   "execution_count": 7,
   "metadata": {
    "execution": {
     "iopub.execute_input": "2021-03-22T11:40:52.433711Z",
     "iopub.status.busy": "2021-03-22T11:40:52.433179Z",
     "iopub.status.idle": "2021-03-22T11:40:52.437066Z",
     "shell.execute_reply": "2021-03-22T11:40:52.436499Z"
    }
   },
   "outputs": [],
   "source": [
    "doses = dataJson[0]['dataValues'][3:61]"
   ]
  },
  {
   "cell_type": "markdown",
   "metadata": {},
   "source": [
    "Data formatting"
   ]
  },
  {
   "cell_type": "code",
   "execution_count": 8,
   "metadata": {
    "execution": {
     "iopub.execute_input": "2021-03-22T11:40:52.441702Z",
     "iopub.status.busy": "2021-03-22T11:40:52.440527Z",
     "iopub.status.idle": "2021-03-22T11:40:52.442314Z",
     "shell.execute_reply": "2021-03-22T11:40:52.442747Z"
    }
   },
   "outputs": [],
   "source": [
    "zipped = dict(zip(counties, doses))"
   ]
  },
  {
   "cell_type": "code",
   "execution_count": 9,
   "metadata": {
    "execution": {
     "iopub.execute_input": "2021-03-22T11:40:52.450360Z",
     "iopub.status.busy": "2021-03-22T11:40:52.449015Z",
     "iopub.status.idle": "2021-03-22T11:40:52.450989Z",
     "shell.execute_reply": "2021-03-22T11:40:52.451451Z"
    }
   },
   "outputs": [],
   "source": [
    "df = pd.Series(zipped).reset_index()"
   ]
  },
  {
   "cell_type": "code",
   "execution_count": 10,
   "metadata": {
    "execution": {
     "iopub.execute_input": "2021-03-22T11:40:52.456451Z",
     "iopub.status.busy": "2021-03-22T11:40:52.455088Z",
     "iopub.status.idle": "2021-03-22T11:40:52.457065Z",
     "shell.execute_reply": "2021-03-22T11:40:52.457499Z"
    }
   },
   "outputs": [],
   "source": [
    "df.columns = ['location','doses']"
   ]
  },
  {
   "cell_type": "markdown",
   "metadata": {},
   "source": [
    "Grab the overall California total"
   ]
  },
  {
   "cell_type": "code",
   "execution_count": 11,
   "metadata": {
    "execution": {
     "iopub.execute_input": "2021-03-22T11:40:52.462093Z",
     "iopub.status.busy": "2021-03-22T11:40:52.460926Z",
     "iopub.status.idle": "2021-03-22T11:40:52.462701Z",
     "shell.execute_reply": "2021-03-22T11:40:52.463131Z"
    }
   },
   "outputs": [],
   "source": [
    "add = {'location':'California','doses':dataJson[0]['dataValues'][2]}"
   ]
  },
  {
   "cell_type": "code",
   "execution_count": 12,
   "metadata": {
    "execution": {
     "iopub.execute_input": "2021-03-22T11:40:52.471006Z",
     "iopub.status.busy": "2021-03-22T11:40:52.469659Z",
     "iopub.status.idle": "2021-03-22T11:40:52.471659Z",
     "shell.execute_reply": "2021-03-22T11:40:52.472111Z"
    }
   },
   "outputs": [],
   "source": [
    "df = df.append(add, ignore_index=True)"
   ]
  },
  {
   "cell_type": "code",
   "execution_count": 13,
   "metadata": {
    "execution": {
     "iopub.execute_input": "2021-03-22T11:40:52.477776Z",
     "iopub.status.busy": "2021-03-22T11:40:52.476741Z",
     "iopub.status.idle": "2021-03-22T11:40:52.478712Z",
     "shell.execute_reply": "2021-03-22T11:40:52.479342Z"
    }
   },
   "outputs": [],
   "source": [
    "df = df.sort_values(by='location')"
   ]
  },
  {
   "cell_type": "code",
   "execution_count": 14,
   "metadata": {
    "execution": {
     "iopub.execute_input": "2021-03-22T11:40:52.487490Z",
     "iopub.status.busy": "2021-03-22T11:40:52.485961Z",
     "iopub.status.idle": "2021-03-22T11:40:52.488117Z",
     "shell.execute_reply": "2021-03-22T11:40:52.488556Z"
    }
   },
   "outputs": [],
   "source": [
    "df = df[df.location == 'California'].append(df[df.location != 'California']).reset_index(drop=True)"
   ]
  },
  {
   "cell_type": "code",
   "execution_count": null,
   "metadata": {},
   "outputs": [],
   "source": []
  },
  {
   "cell_type": "code",
   "execution_count": 15,
   "metadata": {
    "execution": {
     "iopub.execute_input": "2021-03-22T11:40:52.492512Z",
     "iopub.status.busy": "2021-03-22T11:40:52.491988Z",
     "iopub.status.idle": "2021-03-22T11:40:52.510895Z",
     "shell.execute_reply": "2021-03-22T11:40:52.510338Z"
    }
   },
   "outputs": [],
   "source": [
    "tz = pytz.timezone(\"America/New_York\")"
   ]
  },
  {
   "cell_type": "code",
   "execution_count": 16,
   "metadata": {
    "execution": {
     "iopub.execute_input": "2021-03-22T11:40:52.515909Z",
     "iopub.status.busy": "2021-03-22T11:40:52.514534Z",
     "iopub.status.idle": "2021-03-22T11:40:52.516524Z",
     "shell.execute_reply": "2021-03-22T11:40:52.516961Z"
    }
   },
   "outputs": [],
   "source": [
    "today = datetime.now(tz).date()"
   ]
  },
  {
   "cell_type": "code",
   "execution_count": 17,
   "metadata": {
    "execution": {
     "iopub.execute_input": "2021-03-22T11:40:52.521666Z",
     "iopub.status.busy": "2021-03-22T11:40:52.520494Z",
     "iopub.status.idle": "2021-03-22T11:40:52.522279Z",
     "shell.execute_reply": "2021-03-22T11:40:52.522711Z"
    }
   },
   "outputs": [],
   "source": [
    "data_dir = os.path.join(os.path.abspath(\"\"), \"data\")"
   ]
  },
  {
   "cell_type": "code",
   "execution_count": 18,
   "metadata": {
    "execution": {
     "iopub.execute_input": "2021-03-22T11:40:52.527911Z",
     "iopub.status.busy": "2021-03-22T11:40:52.526472Z",
     "iopub.status.idle": "2021-03-22T11:40:52.531320Z",
     "shell.execute_reply": "2021-03-22T11:40:52.530820Z"
    }
   },
   "outputs": [],
   "source": [
    "df.to_csv(os.path.join(data_dir, f\"{today}.csv\"), index=False)"
   ]
  },
  {
   "cell_type": "code",
   "execution_count": null,
   "metadata": {},
   "outputs": [],
   "source": []
  }
 ],
 "metadata": {
  "kernelspec": {
   "display_name": "Python 3",
   "language": "python",
   "name": "python3"
  },
  "language_info": {
   "codemirror_mode": {
    "name": "ipython",
    "version": 3
   },
   "file_extension": ".py",
   "mimetype": "text/x-python",
   "name": "python",
   "nbconvert_exporter": "python",
   "pygments_lexer": "ipython3",
   "version": "3.8.8"
  }
 },
 "nbformat": 4,
 "nbformat_minor": 4
}
