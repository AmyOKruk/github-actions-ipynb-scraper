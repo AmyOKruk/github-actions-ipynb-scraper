{
 "cells": [
  {
   "cell_type": "markdown",
   "metadata": {},
   "source": [
    "# California COVID vaccinations scrape"
   ]
  },
  {
   "cell_type": "markdown",
   "metadata": {},
   "source": [
    "By [Amy O'Kruk](https://twitter.com/amyokruk)"
   ]
  },
  {
   "cell_type": "markdown",
   "metadata": {},
   "source": [
    "Downloads data on vaccine doses administered by county and statewide from a Tableau-powered dashboard from the California Department of Public Health."
   ]
  },
  {
   "cell_type": "code",
   "execution_count": 1,
   "metadata": {
    "execution": {
     "iopub.execute_input": "2021-03-23T09:14:02.274764Z",
     "iopub.status.busy": "2021-03-23T09:14:02.274172Z",
     "iopub.status.idle": "2021-03-23T09:14:02.713054Z",
     "shell.execute_reply": "2021-03-23T09:14:02.712010Z"
    }
   },
   "outputs": [],
   "source": [
    "import pandas as pd\n",
    "import requests\n",
    "from bs4 import BeautifulSoup\n",
    "import json\n",
    "import re\n",
    "import time\n",
    "from time import gmtime, strftime \n",
    "import os\n",
    "import pytz\n",
    "from datetime import datetime"
   ]
  },
  {
   "cell_type": "markdown",
   "metadata": {},
   "source": [
    "Scrape the dashboard page"
   ]
  },
  {
   "cell_type": "code",
   "execution_count": 2,
   "metadata": {
    "execution": {
     "iopub.execute_input": "2021-03-23T09:14:02.719797Z",
     "iopub.status.busy": "2021-03-23T09:14:02.716724Z",
     "iopub.status.idle": "2021-03-23T09:14:03.090771Z",
     "shell.execute_reply": "2021-03-23T09:14:03.090262Z"
    }
   },
   "outputs": [],
   "source": [
    "url = \"https://public.tableau.com/interactive/views/COVID-19VaccineDashboardPublic/Vaccine?:embed=y&:showVizHome=n&:apiID=host0\"\n",
    "\n",
    "r = requests.get(url)\n",
    "soup = BeautifulSoup(r.text, \"html.parser\")"
   ]
  },
  {
   "cell_type": "code",
   "execution_count": 3,
   "metadata": {
    "execution": {
     "iopub.execute_input": "2021-03-23T09:14:03.095773Z",
     "iopub.status.busy": "2021-03-23T09:14:03.095242Z",
     "iopub.status.idle": "2021-03-23T09:14:03.098787Z",
     "shell.execute_reply": "2021-03-23T09:14:03.098323Z"
    }
   },
   "outputs": [],
   "source": [
    "tableauData = json.loads(soup.find(\"textarea\",{\"id\": \"tsConfigContainer\"}).text)"
   ]
  },
  {
   "cell_type": "markdown",
   "metadata": {},
   "source": [
    "Get the link to the Tableau data"
   ]
  },
  {
   "cell_type": "code",
   "execution_count": 4,
   "metadata": {
    "execution": {
     "iopub.execute_input": "2021-03-23T09:14:03.102322Z",
     "iopub.status.busy": "2021-03-23T09:14:03.101798Z",
     "iopub.status.idle": "2021-03-23T09:14:03.105124Z",
     "shell.execute_reply": "2021-03-23T09:14:03.104698Z"
    }
   },
   "outputs": [],
   "source": [
    "dataUrl = f'https://public.tableau.com{tableauData[\"vizql_root\"]}/bootstrapSession/sessions/{tableauData[\"sessionid\"]}'"
   ]
  },
  {
   "cell_type": "code",
   "execution_count": 5,
   "metadata": {
    "execution": {
     "iopub.execute_input": "2021-03-23T09:14:03.111409Z",
     "iopub.status.busy": "2021-03-23T09:14:03.110873Z",
     "iopub.status.idle": "2021-03-23T09:14:03.397366Z",
     "shell.execute_reply": "2021-03-23T09:14:03.396580Z"
    }
   },
   "outputs": [],
   "source": [
    "r = requests.post(dataUrl, data= {\n",
    "    \"sheet_id\": tableauData[\"sheetId\"],\n",
    "})\n",
    "\n",
    "dataReg = re.search('\\d+;({.*})\\d+;({.*})', r.text, re.MULTILINE)\n",
    "data1 = json.loads(dataReg.group(2))\n",
    "\n",
    "dataJson = data1[\"secondaryInfo\"][\"presModelMap\"][\"dataDictionary\"][\"presModelHolder\"][\"genDataDictionaryPresModel\"][\"dataSegments\"][\"0\"][\"dataColumns\"]"
   ]
  },
  {
   "cell_type": "markdown",
   "metadata": {},
   "source": [
    "Isolate what you want"
   ]
  },
  {
   "cell_type": "code",
   "execution_count": 6,
   "metadata": {
    "execution": {
     "iopub.execute_input": "2021-03-23T09:14:03.401391Z",
     "iopub.status.busy": "2021-03-23T09:14:03.400783Z",
     "iopub.status.idle": "2021-03-23T09:14:03.405350Z",
     "shell.execute_reply": "2021-03-23T09:14:03.404474Z"
    }
   },
   "outputs": [],
   "source": [
    "counties = dataJson[2]['dataValues'][:58]"
   ]
  },
  {
   "cell_type": "code",
   "execution_count": 7,
   "metadata": {
    "execution": {
     "iopub.execute_input": "2021-03-23T09:14:03.409655Z",
     "iopub.status.busy": "2021-03-23T09:14:03.408536Z",
     "iopub.status.idle": "2021-03-23T09:14:03.410372Z",
     "shell.execute_reply": "2021-03-23T09:14:03.410798Z"
    }
   },
   "outputs": [],
   "source": [
    "doses = dataJson[0]['dataValues'][3:61]"
   ]
  },
  {
   "cell_type": "markdown",
   "metadata": {},
   "source": [
    "Data formatting"
   ]
  },
  {
   "cell_type": "code",
   "execution_count": 8,
   "metadata": {
    "execution": {
     "iopub.execute_input": "2021-03-23T09:14:03.417161Z",
     "iopub.status.busy": "2021-03-23T09:14:03.416445Z",
     "iopub.status.idle": "2021-03-23T09:14:03.433641Z",
     "shell.execute_reply": "2021-03-23T09:14:03.433196Z"
    }
   },
   "outputs": [],
   "source": [
    "zipped = dict(zip(counties, doses))"
   ]
  },
  {
   "cell_type": "code",
   "execution_count": 9,
   "metadata": {
    "execution": {
     "iopub.execute_input": "2021-03-23T09:14:03.440005Z",
     "iopub.status.busy": "2021-03-23T09:14:03.439062Z",
     "iopub.status.idle": "2021-03-23T09:14:03.440785Z",
     "shell.execute_reply": "2021-03-23T09:14:03.441213Z"
    }
   },
   "outputs": [],
   "source": [
    "df = pd.Series(zipped).reset_index()"
   ]
  },
  {
   "cell_type": "code",
   "execution_count": 10,
   "metadata": {
    "execution": {
     "iopub.execute_input": "2021-03-23T09:14:03.445877Z",
     "iopub.status.busy": "2021-03-23T09:14:03.444688Z",
     "iopub.status.idle": "2021-03-23T09:14:03.446512Z",
     "shell.execute_reply": "2021-03-23T09:14:03.446940Z"
    }
   },
   "outputs": [],
   "source": [
    "df.columns = ['location','doses']"
   ]
  },
  {
   "cell_type": "markdown",
   "metadata": {},
   "source": [
    "Grab the overall California total"
   ]
  },
  {
   "cell_type": "code",
   "execution_count": 11,
   "metadata": {
    "execution": {
     "iopub.execute_input": "2021-03-23T09:14:03.451091Z",
     "iopub.status.busy": "2021-03-23T09:14:03.450018Z",
     "iopub.status.idle": "2021-03-23T09:14:03.451701Z",
     "shell.execute_reply": "2021-03-23T09:14:03.452123Z"
    }
   },
   "outputs": [],
   "source": [
    "add = {'location':'California','doses':dataJson[0]['dataValues'][2]}"
   ]
  },
  {
   "cell_type": "code",
   "execution_count": 12,
   "metadata": {
    "execution": {
     "iopub.execute_input": "2021-03-23T09:14:03.458950Z",
     "iopub.status.busy": "2021-03-23T09:14:03.457801Z",
     "iopub.status.idle": "2021-03-23T09:14:03.459632Z",
     "shell.execute_reply": "2021-03-23T09:14:03.460071Z"
    }
   },
   "outputs": [],
   "source": [
    "df = df.append(add, ignore_index=True)"
   ]
  },
  {
   "cell_type": "code",
   "execution_count": 13,
   "metadata": {
    "execution": {
     "iopub.execute_input": "2021-03-23T09:14:03.464804Z",
     "iopub.status.busy": "2021-03-23T09:14:03.463717Z",
     "iopub.status.idle": "2021-03-23T09:14:03.465394Z",
     "shell.execute_reply": "2021-03-23T09:14:03.465837Z"
    }
   },
   "outputs": [],
   "source": [
    "df = df.sort_values(by='location')"
   ]
  },
  {
   "cell_type": "code",
   "execution_count": 14,
   "metadata": {
    "execution": {
     "iopub.execute_input": "2021-03-23T09:14:03.472047Z",
     "iopub.status.busy": "2021-03-23T09:14:03.470912Z",
     "iopub.status.idle": "2021-03-23T09:14:03.472611Z",
     "shell.execute_reply": "2021-03-23T09:14:03.473044Z"
    }
   },
   "outputs": [],
   "source": [
    "df = df[df.location == 'California'].append(df[df.location != 'California']).reset_index(drop=True)"
   ]
  },
  {
   "cell_type": "code",
   "execution_count": null,
   "metadata": {},
   "outputs": [],
   "source": []
  },
  {
   "cell_type": "code",
   "execution_count": 15,
   "metadata": {
    "execution": {
     "iopub.execute_input": "2021-03-23T09:14:03.476535Z",
     "iopub.status.busy": "2021-03-23T09:14:03.476032Z",
     "iopub.status.idle": "2021-03-23T09:14:03.492851Z",
     "shell.execute_reply": "2021-03-23T09:14:03.492353Z"
    }
   },
   "outputs": [],
   "source": [
    "tz = pytz.timezone(\"America/New_York\")"
   ]
  },
  {
   "cell_type": "code",
   "execution_count": 16,
   "metadata": {
    "execution": {
     "iopub.execute_input": "2021-03-23T09:14:03.496962Z",
     "iopub.status.busy": "2021-03-23T09:14:03.495835Z",
     "iopub.status.idle": "2021-03-23T09:14:03.497557Z",
     "shell.execute_reply": "2021-03-23T09:14:03.498023Z"
    }
   },
   "outputs": [],
   "source": [
    "today = datetime.now(tz).date()"
   ]
  },
  {
   "cell_type": "code",
   "execution_count": 17,
   "metadata": {
    "execution": {
     "iopub.execute_input": "2021-03-23T09:14:03.502453Z",
     "iopub.status.busy": "2021-03-23T09:14:03.501162Z",
     "iopub.status.idle": "2021-03-23T09:14:03.503045Z",
     "shell.execute_reply": "2021-03-23T09:14:03.503470Z"
    }
   },
   "outputs": [],
   "source": [
    "data_dir = os.path.join(os.path.abspath(\"\"), \"data\")"
   ]
  },
  {
   "cell_type": "code",
   "execution_count": 18,
   "metadata": {
    "execution": {
     "iopub.execute_input": "2021-03-23T09:14:03.508946Z",
     "iopub.status.busy": "2021-03-23T09:14:03.506811Z",
     "iopub.status.idle": "2021-03-23T09:14:03.511307Z",
     "shell.execute_reply": "2021-03-23T09:14:03.510827Z"
    }
   },
   "outputs": [],
   "source": [
    "df.to_csv(os.path.join(data_dir, f\"{today}.csv\"), index=False)"
   ]
  },
  {
   "cell_type": "code",
   "execution_count": null,
   "metadata": {},
   "outputs": [],
   "source": []
  }
 ],
 "metadata": {
  "kernelspec": {
   "display_name": "Python 3",
   "language": "python",
   "name": "python3"
  },
  "language_info": {
   "codemirror_mode": {
    "name": "ipython",
    "version": 3
   },
   "file_extension": ".py",
   "mimetype": "text/x-python",
   "name": "python",
   "nbconvert_exporter": "python",
   "pygments_lexer": "ipython3",
   "version": "3.8.8"
  }
 },
 "nbformat": 4,
 "nbformat_minor": 4
}
