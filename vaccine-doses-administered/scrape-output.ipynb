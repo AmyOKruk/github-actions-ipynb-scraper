{
 "cells": [
  {
   "cell_type": "markdown",
   "metadata": {},
   "source": [
    "# California COVID vaccinations scrape"
   ]
  },
  {
   "cell_type": "markdown",
   "metadata": {},
   "source": [
    "By [Amy O'Kruk](https://twitter.com/amyokruk)"
   ]
  },
  {
   "cell_type": "markdown",
   "metadata": {},
   "source": [
    "Downloads data on vaccine doses administered by county and statewide from a Tableau-powered dashboard from the California Department of Public Health."
   ]
  },
  {
   "cell_type": "code",
   "execution_count": 1,
   "metadata": {
    "execution": {
     "iopub.execute_input": "2021-03-09T06:13:49.605873Z",
     "iopub.status.busy": "2021-03-09T06:13:49.605185Z",
     "iopub.status.idle": "2021-03-09T06:13:49.956282Z",
     "shell.execute_reply": "2021-03-09T06:13:49.955698Z"
    }
   },
   "outputs": [],
   "source": [
    "import pandas as pd\n",
    "import requests\n",
    "from bs4 import BeautifulSoup\n",
    "import json\n",
    "import re\n",
    "import time\n",
    "from time import gmtime, strftime \n",
    "import os\n",
    "import pytz\n",
    "from datetime import datetime"
   ]
  },
  {
   "cell_type": "markdown",
   "metadata": {},
   "source": [
    "Scrape the dashboard page"
   ]
  },
  {
   "cell_type": "code",
   "execution_count": 2,
   "metadata": {
    "execution": {
     "iopub.execute_input": "2021-03-09T06:13:49.961512Z",
     "iopub.status.busy": "2021-03-09T06:13:49.959509Z",
     "iopub.status.idle": "2021-03-09T06:13:50.195470Z",
     "shell.execute_reply": "2021-03-09T06:13:50.194749Z"
    }
   },
   "outputs": [],
   "source": [
    "url = \"https://public.tableau.com/interactive/views/COVID-19VaccineDashboardPublic/Vaccine?:embed=y&:showVizHome=n&:apiID=host0\"\n",
    "\n",
    "r = requests.get(url)\n",
    "soup = BeautifulSoup(r.text, \"html.parser\")"
   ]
  },
  {
   "cell_type": "code",
   "execution_count": 3,
   "metadata": {
    "execution": {
     "iopub.execute_input": "2021-03-09T06:13:50.200117Z",
     "iopub.status.busy": "2021-03-09T06:13:50.199541Z",
     "iopub.status.idle": "2021-03-09T06:13:50.203471Z",
     "shell.execute_reply": "2021-03-09T06:13:50.202986Z"
    }
   },
   "outputs": [],
   "source": [
    "tableauData = json.loads(soup.find(\"textarea\",{\"id\": \"tsConfigContainer\"}).text)"
   ]
  },
  {
   "cell_type": "markdown",
   "metadata": {},
   "source": [
    "Get the link to the Tableau data"
   ]
  },
  {
   "cell_type": "code",
   "execution_count": 4,
   "metadata": {
    "execution": {
     "iopub.execute_input": "2021-03-09T06:13:50.207249Z",
     "iopub.status.busy": "2021-03-09T06:13:50.206708Z",
     "iopub.status.idle": "2021-03-09T06:13:50.210410Z",
     "shell.execute_reply": "2021-03-09T06:13:50.210868Z"
    }
   },
   "outputs": [],
   "source": [
    "dataUrl = f'https://public.tableau.com{tableauData[\"vizql_root\"]}/bootstrapSession/sessions/{tableauData[\"sessionid\"]}'"
   ]
  },
  {
   "cell_type": "code",
   "execution_count": 5,
   "metadata": {
    "execution": {
     "iopub.execute_input": "2021-03-09T06:13:50.217174Z",
     "iopub.status.busy": "2021-03-09T06:13:50.216326Z",
     "iopub.status.idle": "2021-03-09T06:13:50.466574Z",
     "shell.execute_reply": "2021-03-09T06:13:50.467085Z"
    }
   },
   "outputs": [],
   "source": [
    "r = requests.post(dataUrl, data= {\n",
    "    \"sheet_id\": tableauData[\"sheetId\"],\n",
    "})\n",
    "\n",
    "dataReg = re.search('\\d+;({.*})\\d+;({.*})', r.text, re.MULTILINE)\n",
    "data1 = json.loads(dataReg.group(2))\n",
    "\n",
    "dataJson = data1[\"secondaryInfo\"][\"presModelMap\"][\"dataDictionary\"][\"presModelHolder\"][\"genDataDictionaryPresModel\"][\"dataSegments\"][\"0\"][\"dataColumns\"]"
   ]
  },
  {
   "cell_type": "markdown",
   "metadata": {},
   "source": [
    "Isolate what you want"
   ]
  },
  {
   "cell_type": "code",
   "execution_count": 6,
   "metadata": {
    "execution": {
     "iopub.execute_input": "2021-03-09T06:13:50.472761Z",
     "iopub.status.busy": "2021-03-09T06:13:50.471262Z",
     "iopub.status.idle": "2021-03-09T06:13:50.473540Z",
     "shell.execute_reply": "2021-03-09T06:13:50.474057Z"
    }
   },
   "outputs": [],
   "source": [
    "counties = dataJson[2]['dataValues'][:58]"
   ]
  },
  {
   "cell_type": "code",
   "execution_count": 7,
   "metadata": {
    "execution": {
     "iopub.execute_input": "2021-03-09T06:13:50.479343Z",
     "iopub.status.busy": "2021-03-09T06:13:50.477817Z",
     "iopub.status.idle": "2021-03-09T06:13:50.480116Z",
     "shell.execute_reply": "2021-03-09T06:13:50.480641Z"
    }
   },
   "outputs": [],
   "source": [
    "doses = dataJson[0]['dataValues'][3:61]"
   ]
  },
  {
   "cell_type": "markdown",
   "metadata": {},
   "source": [
    "Data formatting"
   ]
  },
  {
   "cell_type": "code",
   "execution_count": 8,
   "metadata": {
    "execution": {
     "iopub.execute_input": "2021-03-09T06:13:50.485846Z",
     "iopub.status.busy": "2021-03-09T06:13:50.484171Z",
     "iopub.status.idle": "2021-03-09T06:13:50.486508Z",
     "shell.execute_reply": "2021-03-09T06:13:50.487016Z"
    }
   },
   "outputs": [],
   "source": [
    "zipped = dict(zip(counties, doses))"
   ]
  },
  {
   "cell_type": "code",
   "execution_count": 9,
   "metadata": {
    "execution": {
     "iopub.execute_input": "2021-03-09T06:13:50.493771Z",
     "iopub.status.busy": "2021-03-09T06:13:50.493066Z",
     "iopub.status.idle": "2021-03-09T06:13:50.495842Z",
     "shell.execute_reply": "2021-03-09T06:13:50.496347Z"
    }
   },
   "outputs": [],
   "source": [
    "df = pd.Series(zipped).reset_index()"
   ]
  },
  {
   "cell_type": "code",
   "execution_count": 10,
   "metadata": {
    "execution": {
     "iopub.execute_input": "2021-03-09T06:13:50.502153Z",
     "iopub.status.busy": "2021-03-09T06:13:50.499936Z",
     "iopub.status.idle": "2021-03-09T06:13:50.502823Z",
     "shell.execute_reply": "2021-03-09T06:13:50.503324Z"
    }
   },
   "outputs": [],
   "source": [
    "df.columns = ['location','doses']"
   ]
  },
  {
   "cell_type": "markdown",
   "metadata": {},
   "source": [
    "Grab the overall California total"
   ]
  },
  {
   "cell_type": "code",
   "execution_count": 11,
   "metadata": {
    "execution": {
     "iopub.execute_input": "2021-03-09T06:13:50.514751Z",
     "iopub.status.busy": "2021-03-09T06:13:50.513242Z",
     "iopub.status.idle": "2021-03-09T06:13:50.516457Z",
     "shell.execute_reply": "2021-03-09T06:13:50.515310Z"
    }
   },
   "outputs": [],
   "source": [
    "add = {'location':'California','doses':dataJson[0]['dataValues'][2]}"
   ]
  },
  {
   "cell_type": "code",
   "execution_count": 12,
   "metadata": {
    "execution": {
     "iopub.execute_input": "2021-03-09T06:13:50.524649Z",
     "iopub.status.busy": "2021-03-09T06:13:50.523419Z",
     "iopub.status.idle": "2021-03-09T06:13:50.525351Z",
     "shell.execute_reply": "2021-03-09T06:13:50.525823Z"
    }
   },
   "outputs": [],
   "source": [
    "df = df.append(add, ignore_index=True)"
   ]
  },
  {
   "cell_type": "code",
   "execution_count": 13,
   "metadata": {
    "execution": {
     "iopub.execute_input": "2021-03-09T06:13:50.531288Z",
     "iopub.status.busy": "2021-03-09T06:13:50.529999Z",
     "iopub.status.idle": "2021-03-09T06:13:50.531991Z",
     "shell.execute_reply": "2021-03-09T06:13:50.532539Z"
    }
   },
   "outputs": [],
   "source": [
    "df = df.sort_values(by='location')"
   ]
  },
  {
   "cell_type": "code",
   "execution_count": 14,
   "metadata": {
    "execution": {
     "iopub.execute_input": "2021-03-09T06:13:50.540047Z",
     "iopub.status.busy": "2021-03-09T06:13:50.538543Z",
     "iopub.status.idle": "2021-03-09T06:13:50.540726Z",
     "shell.execute_reply": "2021-03-09T06:13:50.541213Z"
    }
   },
   "outputs": [],
   "source": [
    "df = df[df.location == 'California'].append(df[df.location != 'California']).reset_index(drop=True)"
   ]
  },
  {
   "cell_type": "code",
   "execution_count": null,
   "metadata": {},
   "outputs": [],
   "source": []
  },
  {
   "cell_type": "code",
   "execution_count": 15,
   "metadata": {
    "execution": {
     "iopub.execute_input": "2021-03-09T06:13:50.544686Z",
     "iopub.status.busy": "2021-03-09T06:13:50.544107Z",
     "iopub.status.idle": "2021-03-09T06:13:50.565568Z",
     "shell.execute_reply": "2021-03-09T06:13:50.565010Z"
    }
   },
   "outputs": [],
   "source": [
    "tz = pytz.timezone(\"America/New_York\")"
   ]
  },
  {
   "cell_type": "code",
   "execution_count": 16,
   "metadata": {
    "execution": {
     "iopub.execute_input": "2021-03-09T06:13:50.569798Z",
     "iopub.status.busy": "2021-03-09T06:13:50.568564Z",
     "iopub.status.idle": "2021-03-09T06:13:50.570465Z",
     "shell.execute_reply": "2021-03-09T06:13:50.570917Z"
    }
   },
   "outputs": [],
   "source": [
    "today = datetime.now(tz).date()"
   ]
  },
  {
   "cell_type": "code",
   "execution_count": 17,
   "metadata": {
    "execution": {
     "iopub.execute_input": "2021-03-09T06:13:50.575325Z",
     "iopub.status.busy": "2021-03-09T06:13:50.574103Z",
     "iopub.status.idle": "2021-03-09T06:13:50.576500Z",
     "shell.execute_reply": "2021-03-09T06:13:50.577009Z"
    }
   },
   "outputs": [],
   "source": [
    "data_dir = os.path.join(os.path.abspath(\"\"), \"data\")"
   ]
  },
  {
   "cell_type": "code",
   "execution_count": 18,
   "metadata": {
    "execution": {
     "iopub.execute_input": "2021-03-09T06:13:50.581066Z",
     "iopub.status.busy": "2021-03-09T06:13:50.580513Z",
     "iopub.status.idle": "2021-03-09T06:13:50.584490Z",
     "shell.execute_reply": "2021-03-09T06:13:50.584921Z"
    }
   },
   "outputs": [],
   "source": [
    "df.to_csv(os.path.join(data_dir, f\"{today}.csv\"), index=False)"
   ]
  },
  {
   "cell_type": "code",
   "execution_count": null,
   "metadata": {},
   "outputs": [],
   "source": []
  }
 ],
 "metadata": {
  "kernelspec": {
   "display_name": "Python 3",
   "language": "python",
   "name": "python3"
  },
  "language_info": {
   "codemirror_mode": {
    "name": "ipython",
    "version": 3
   },
   "file_extension": ".py",
   "mimetype": "text/x-python",
   "name": "python",
   "nbconvert_exporter": "python",
   "pygments_lexer": "ipython3",
   "version": "3.8.8"
  }
 },
 "nbformat": 4,
 "nbformat_minor": 4
}
