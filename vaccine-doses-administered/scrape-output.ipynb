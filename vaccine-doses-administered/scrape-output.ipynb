{
 "cells": [
  {
   "cell_type": "markdown",
   "metadata": {},
   "source": [
    "# California COVID vaccinations scrape"
   ]
  },
  {
   "cell_type": "markdown",
   "metadata": {},
   "source": [
    "By [Amy O'Kruk](https://twitter.com/amyokruk)"
   ]
  },
  {
   "cell_type": "markdown",
   "metadata": {},
   "source": [
    "Downloads data on vaccine doses administered by county and statewide from a Tableau-powered dashboard from the California Department of Public Health."
   ]
  },
  {
   "cell_type": "code",
   "execution_count": 1,
   "metadata": {
    "execution": {
     "iopub.execute_input": "2021-03-24T15:54:06.156255Z",
     "iopub.status.busy": "2021-03-24T15:54:06.155391Z",
     "iopub.status.idle": "2021-03-24T15:54:06.604776Z",
     "shell.execute_reply": "2021-03-24T15:54:06.605216Z"
    }
   },
   "outputs": [],
   "source": [
    "import pandas as pd\n",
    "import requests\n",
    "from bs4 import BeautifulSoup\n",
    "import json\n",
    "import re\n",
    "import time\n",
    "from time import gmtime, strftime \n",
    "import os\n",
    "import pytz\n",
    "from datetime import datetime"
   ]
  },
  {
   "cell_type": "markdown",
   "metadata": {},
   "source": [
    "Scrape the dashboard page"
   ]
  },
  {
   "cell_type": "code",
   "execution_count": 2,
   "metadata": {
    "execution": {
     "iopub.execute_input": "2021-03-24T15:54:06.613380Z",
     "iopub.status.busy": "2021-03-24T15:54:06.608146Z",
     "iopub.status.idle": "2021-03-24T15:54:07.108477Z",
     "shell.execute_reply": "2021-03-24T15:54:07.107957Z"
    }
   },
   "outputs": [],
   "source": [
    "url = \"https://public.tableau.com/interactive/views/COVID-19VaccineDashboardPublic/Vaccine?:embed=y&:showVizHome=n&:apiID=host0\"\n",
    "\n",
    "r = requests.get(url)\n",
    "soup = BeautifulSoup(r.text, \"html.parser\")"
   ]
  },
  {
   "cell_type": "code",
   "execution_count": 3,
   "metadata": {
    "execution": {
     "iopub.execute_input": "2021-03-24T15:54:07.114764Z",
     "iopub.status.busy": "2021-03-24T15:54:07.113201Z",
     "iopub.status.idle": "2021-03-24T15:54:07.115584Z",
     "shell.execute_reply": "2021-03-24T15:54:07.116154Z"
    }
   },
   "outputs": [],
   "source": [
    "tableauData = json.loads(soup.find(\"textarea\",{\"id\": \"tsConfigContainer\"}).text)"
   ]
  },
  {
   "cell_type": "markdown",
   "metadata": {},
   "source": [
    "Get the link to the Tableau data"
   ]
  },
  {
   "cell_type": "code",
   "execution_count": 4,
   "metadata": {
    "execution": {
     "iopub.execute_input": "2021-03-24T15:54:07.121022Z",
     "iopub.status.busy": "2021-03-24T15:54:07.119468Z",
     "iopub.status.idle": "2021-03-24T15:54:07.122030Z",
     "shell.execute_reply": "2021-03-24T15:54:07.122701Z"
    }
   },
   "outputs": [],
   "source": [
    "dataUrl = f'https://public.tableau.com{tableauData[\"vizql_root\"]}/bootstrapSession/sessions/{tableauData[\"sessionid\"]}'"
   ]
  },
  {
   "cell_type": "code",
   "execution_count": 5,
   "metadata": {
    "execution": {
     "iopub.execute_input": "2021-03-24T15:54:07.130373Z",
     "iopub.status.busy": "2021-03-24T15:54:07.129576Z",
     "iopub.status.idle": "2021-03-24T15:54:07.354679Z",
     "shell.execute_reply": "2021-03-24T15:54:07.354002Z"
    }
   },
   "outputs": [],
   "source": [
    "r = requests.post(dataUrl, data= {\n",
    "    \"sheet_id\": tableauData[\"sheetId\"],\n",
    "})\n",
    "\n",
    "dataReg = re.search('\\d+;({.*})\\d+;({.*})', r.text, re.MULTILINE)\n",
    "data1 = json.loads(dataReg.group(2))\n",
    "\n",
    "dataJson = data1[\"secondaryInfo\"][\"presModelMap\"][\"dataDictionary\"][\"presModelHolder\"][\"genDataDictionaryPresModel\"][\"dataSegments\"][\"0\"][\"dataColumns\"]"
   ]
  },
  {
   "cell_type": "markdown",
   "metadata": {},
   "source": [
    "Isolate what you want"
   ]
  },
  {
   "cell_type": "code",
   "execution_count": 6,
   "metadata": {
    "execution": {
     "iopub.execute_input": "2021-03-24T15:54:07.359312Z",
     "iopub.status.busy": "2021-03-24T15:54:07.358309Z",
     "iopub.status.idle": "2021-03-24T15:54:07.360307Z",
     "shell.execute_reply": "2021-03-24T15:54:07.360745Z"
    }
   },
   "outputs": [],
   "source": [
    "counties = dataJson[2]['dataValues'][:58]"
   ]
  },
  {
   "cell_type": "code",
   "execution_count": 7,
   "metadata": {
    "execution": {
     "iopub.execute_input": "2021-03-24T15:54:07.364939Z",
     "iopub.status.busy": "2021-03-24T15:54:07.363934Z",
     "iopub.status.idle": "2021-03-24T15:54:07.366660Z",
     "shell.execute_reply": "2021-03-24T15:54:07.366077Z"
    }
   },
   "outputs": [],
   "source": [
    "doses = dataJson[0]['dataValues'][3:61]"
   ]
  },
  {
   "cell_type": "markdown",
   "metadata": {},
   "source": [
    "Data formatting"
   ]
  },
  {
   "cell_type": "code",
   "execution_count": 8,
   "metadata": {
    "execution": {
     "iopub.execute_input": "2021-03-24T15:54:07.371892Z",
     "iopub.status.busy": "2021-03-24T15:54:07.370177Z",
     "iopub.status.idle": "2021-03-24T15:54:07.372512Z",
     "shell.execute_reply": "2021-03-24T15:54:07.373103Z"
    }
   },
   "outputs": [],
   "source": [
    "zipped = dict(zip(counties, doses))"
   ]
  },
  {
   "cell_type": "code",
   "execution_count": 9,
   "metadata": {
    "execution": {
     "iopub.execute_input": "2021-03-24T15:54:07.379794Z",
     "iopub.status.busy": "2021-03-24T15:54:07.379186Z",
     "iopub.status.idle": "2021-03-24T15:54:07.382322Z",
     "shell.execute_reply": "2021-03-24T15:54:07.381770Z"
    }
   },
   "outputs": [],
   "source": [
    "df = pd.Series(zipped).reset_index()"
   ]
  },
  {
   "cell_type": "code",
   "execution_count": 10,
   "metadata": {
    "execution": {
     "iopub.execute_input": "2021-03-24T15:54:07.387534Z",
     "iopub.status.busy": "2021-03-24T15:54:07.386139Z",
     "iopub.status.idle": "2021-03-24T15:54:07.388183Z",
     "shell.execute_reply": "2021-03-24T15:54:07.388652Z"
    }
   },
   "outputs": [],
   "source": [
    "df.columns = ['location','doses']"
   ]
  },
  {
   "cell_type": "markdown",
   "metadata": {},
   "source": [
    "Grab the overall California total"
   ]
  },
  {
   "cell_type": "code",
   "execution_count": 11,
   "metadata": {
    "execution": {
     "iopub.execute_input": "2021-03-24T15:54:07.393231Z",
     "iopub.status.busy": "2021-03-24T15:54:07.391985Z",
     "iopub.status.idle": "2021-03-24T15:54:07.393909Z",
     "shell.execute_reply": "2021-03-24T15:54:07.394367Z"
    }
   },
   "outputs": [],
   "source": [
    "add = {'location':'California','doses':dataJson[0]['dataValues'][2]}"
   ]
  },
  {
   "cell_type": "code",
   "execution_count": 12,
   "metadata": {
    "execution": {
     "iopub.execute_input": "2021-03-24T15:54:07.399643Z",
     "iopub.status.busy": "2021-03-24T15:54:07.399126Z",
     "iopub.status.idle": "2021-03-24T15:54:07.405827Z",
     "shell.execute_reply": "2021-03-24T15:54:07.404734Z"
    }
   },
   "outputs": [],
   "source": [
    "df = df.append(add, ignore_index=True)"
   ]
  },
  {
   "cell_type": "code",
   "execution_count": 13,
   "metadata": {
    "execution": {
     "iopub.execute_input": "2021-03-24T15:54:07.410536Z",
     "iopub.status.busy": "2021-03-24T15:54:07.409887Z",
     "iopub.status.idle": "2021-03-24T15:54:07.413718Z",
     "shell.execute_reply": "2021-03-24T15:54:07.414216Z"
    }
   },
   "outputs": [],
   "source": [
    "df = df.sort_values(by='location')"
   ]
  },
  {
   "cell_type": "code",
   "execution_count": 14,
   "metadata": {
    "execution": {
     "iopub.execute_input": "2021-03-24T15:54:07.421427Z",
     "iopub.status.busy": "2021-03-24T15:54:07.420900Z",
     "iopub.status.idle": "2021-03-24T15:54:07.424868Z",
     "shell.execute_reply": "2021-03-24T15:54:07.425471Z"
    }
   },
   "outputs": [],
   "source": [
    "df = df[df.location == 'California'].append(df[df.location != 'California']).reset_index(drop=True)"
   ]
  },
  {
   "cell_type": "code",
   "execution_count": null,
   "metadata": {},
   "outputs": [],
   "source": []
  },
  {
   "cell_type": "code",
   "execution_count": 15,
   "metadata": {
    "execution": {
     "iopub.execute_input": "2021-03-24T15:54:07.429254Z",
     "iopub.status.busy": "2021-03-24T15:54:07.428559Z",
     "iopub.status.idle": "2021-03-24T15:54:07.449308Z",
     "shell.execute_reply": "2021-03-24T15:54:07.449847Z"
    }
   },
   "outputs": [],
   "source": [
    "tz = pytz.timezone(\"America/New_York\")"
   ]
  },
  {
   "cell_type": "code",
   "execution_count": 16,
   "metadata": {
    "execution": {
     "iopub.execute_input": "2021-03-24T15:54:07.453376Z",
     "iopub.status.busy": "2021-03-24T15:54:07.452840Z",
     "iopub.status.idle": "2021-03-24T15:54:07.456837Z",
     "shell.execute_reply": "2021-03-24T15:54:07.456141Z"
    }
   },
   "outputs": [],
   "source": [
    "today = datetime.now(tz).date()"
   ]
  },
  {
   "cell_type": "code",
   "execution_count": 17,
   "metadata": {
    "execution": {
     "iopub.execute_input": "2021-03-24T15:54:07.460724Z",
     "iopub.status.busy": "2021-03-24T15:54:07.460108Z",
     "iopub.status.idle": "2021-03-24T15:54:07.464474Z",
     "shell.execute_reply": "2021-03-24T15:54:07.464986Z"
    }
   },
   "outputs": [],
   "source": [
    "data_dir = os.path.join(os.path.abspath(\"\"), \"data\")"
   ]
  },
  {
   "cell_type": "code",
   "execution_count": 18,
   "metadata": {
    "execution": {
     "iopub.execute_input": "2021-03-24T15:54:07.470039Z",
     "iopub.status.busy": "2021-03-24T15:54:07.468751Z",
     "iopub.status.idle": "2021-03-24T15:54:07.474216Z",
     "shell.execute_reply": "2021-03-24T15:54:07.473365Z"
    }
   },
   "outputs": [],
   "source": [
    "df.to_csv(os.path.join(data_dir, f\"{today}.csv\"), index=False)"
   ]
  },
  {
   "cell_type": "code",
   "execution_count": null,
   "metadata": {},
   "outputs": [],
   "source": []
  }
 ],
 "metadata": {
  "kernelspec": {
   "display_name": "Python 3",
   "language": "python",
   "name": "python3"
  },
  "language_info": {
   "codemirror_mode": {
    "name": "ipython",
    "version": 3
   },
   "file_extension": ".py",
   "mimetype": "text/x-python",
   "name": "python",
   "nbconvert_exporter": "python",
   "pygments_lexer": "ipython3",
   "version": "3.8.8"
  }
 },
 "nbformat": 4,
 "nbformat_minor": 4
}
