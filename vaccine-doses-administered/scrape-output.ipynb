{
 "cells": [
  {
   "cell_type": "markdown",
   "metadata": {},
   "source": [
    "# California COVID vaccinations scrape"
   ]
  },
  {
   "cell_type": "markdown",
   "metadata": {},
   "source": [
    "By [Amy O'Kruk](https://twitter.com/amyokruk)"
   ]
  },
  {
   "cell_type": "markdown",
   "metadata": {},
   "source": [
    "Downloads data on vaccine doses administered by county and statewide from a Tableau-powered dashboard from the California Department of Public Health."
   ]
  },
  {
   "cell_type": "code",
   "execution_count": 1,
   "metadata": {
    "execution": {
     "iopub.execute_input": "2021-03-10T04:41:54.717857Z",
     "iopub.status.busy": "2021-03-10T04:41:54.716799Z",
     "iopub.status.idle": "2021-03-10T04:41:55.088848Z",
     "shell.execute_reply": "2021-03-10T04:41:55.087912Z"
    }
   },
   "outputs": [],
   "source": [
    "import pandas as pd\n",
    "import requests\n",
    "from bs4 import BeautifulSoup\n",
    "import json\n",
    "import re\n",
    "import time\n",
    "from time import gmtime, strftime \n",
    "import os\n",
    "import pytz\n",
    "from datetime import datetime"
   ]
  },
  {
   "cell_type": "markdown",
   "metadata": {},
   "source": [
    "Scrape the dashboard page"
   ]
  },
  {
   "cell_type": "code",
   "execution_count": 2,
   "metadata": {
    "execution": {
     "iopub.execute_input": "2021-03-10T04:41:55.094839Z",
     "iopub.status.busy": "2021-03-10T04:41:55.093081Z",
     "iopub.status.idle": "2021-03-10T04:41:55.460642Z",
     "shell.execute_reply": "2021-03-10T04:41:55.459876Z"
    }
   },
   "outputs": [],
   "source": [
    "url = \"https://public.tableau.com/interactive/views/COVID-19VaccineDashboardPublic/Vaccine?:embed=y&:showVizHome=n&:apiID=host0\"\n",
    "\n",
    "r = requests.get(url)\n",
    "soup = BeautifulSoup(r.text, \"html.parser\")"
   ]
  },
  {
   "cell_type": "code",
   "execution_count": 3,
   "metadata": {
    "execution": {
     "iopub.execute_input": "2021-03-10T04:41:55.466410Z",
     "iopub.status.busy": "2021-03-10T04:41:55.465560Z",
     "iopub.status.idle": "2021-03-10T04:41:55.469305Z",
     "shell.execute_reply": "2021-03-10T04:41:55.468853Z"
    }
   },
   "outputs": [],
   "source": [
    "tableauData = json.loads(soup.find(\"textarea\",{\"id\": \"tsConfigContainer\"}).text)"
   ]
  },
  {
   "cell_type": "markdown",
   "metadata": {},
   "source": [
    "Get the link to the Tableau data"
   ]
  },
  {
   "cell_type": "code",
   "execution_count": 4,
   "metadata": {
    "execution": {
     "iopub.execute_input": "2021-03-10T04:41:55.472756Z",
     "iopub.status.busy": "2021-03-10T04:41:55.472220Z",
     "iopub.status.idle": "2021-03-10T04:41:55.474350Z",
     "shell.execute_reply": "2021-03-10T04:41:55.474722Z"
    }
   },
   "outputs": [],
   "source": [
    "dataUrl = f'https://public.tableau.com{tableauData[\"vizql_root\"]}/bootstrapSession/sessions/{tableauData[\"sessionid\"]}'"
   ]
  },
  {
   "cell_type": "code",
   "execution_count": 5,
   "metadata": {
    "execution": {
     "iopub.execute_input": "2021-03-10T04:41:55.481181Z",
     "iopub.status.busy": "2021-03-10T04:41:55.480613Z",
     "iopub.status.idle": "2021-03-10T04:41:56.309924Z",
     "shell.execute_reply": "2021-03-10T04:41:56.309058Z"
    }
   },
   "outputs": [],
   "source": [
    "r = requests.post(dataUrl, data= {\n",
    "    \"sheet_id\": tableauData[\"sheetId\"],\n",
    "})\n",
    "\n",
    "dataReg = re.search('\\d+;({.*})\\d+;({.*})', r.text, re.MULTILINE)\n",
    "data1 = json.loads(dataReg.group(2))\n",
    "\n",
    "dataJson = data1[\"secondaryInfo\"][\"presModelMap\"][\"dataDictionary\"][\"presModelHolder\"][\"genDataDictionaryPresModel\"][\"dataSegments\"][\"0\"][\"dataColumns\"]"
   ]
  },
  {
   "cell_type": "markdown",
   "metadata": {},
   "source": [
    "Isolate what you want"
   ]
  },
  {
   "cell_type": "code",
   "execution_count": 6,
   "metadata": {
    "execution": {
     "iopub.execute_input": "2021-03-10T04:41:56.314588Z",
     "iopub.status.busy": "2021-03-10T04:41:56.313334Z",
     "iopub.status.idle": "2021-03-10T04:41:56.315170Z",
     "shell.execute_reply": "2021-03-10T04:41:56.315571Z"
    }
   },
   "outputs": [],
   "source": [
    "counties = dataJson[2]['dataValues'][:58]"
   ]
  },
  {
   "cell_type": "code",
   "execution_count": 7,
   "metadata": {
    "execution": {
     "iopub.execute_input": "2021-03-10T04:41:56.320156Z",
     "iopub.status.busy": "2021-03-10T04:41:56.318984Z",
     "iopub.status.idle": "2021-03-10T04:41:56.320818Z",
     "shell.execute_reply": "2021-03-10T04:41:56.321272Z"
    }
   },
   "outputs": [],
   "source": [
    "doses = dataJson[0]['dataValues'][3:61]"
   ]
  },
  {
   "cell_type": "markdown",
   "metadata": {},
   "source": [
    "Data formatting"
   ]
  },
  {
   "cell_type": "code",
   "execution_count": 8,
   "metadata": {
    "execution": {
     "iopub.execute_input": "2021-03-10T04:41:56.325265Z",
     "iopub.status.busy": "2021-03-10T04:41:56.324106Z",
     "iopub.status.idle": "2021-03-10T04:41:56.325863Z",
     "shell.execute_reply": "2021-03-10T04:41:56.326304Z"
    }
   },
   "outputs": [],
   "source": [
    "zipped = dict(zip(counties, doses))"
   ]
  },
  {
   "cell_type": "code",
   "execution_count": 9,
   "metadata": {
    "execution": {
     "iopub.execute_input": "2021-03-10T04:41:56.332442Z",
     "iopub.status.busy": "2021-03-10T04:41:56.331269Z",
     "iopub.status.idle": "2021-03-10T04:41:56.333076Z",
     "shell.execute_reply": "2021-03-10T04:41:56.333478Z"
    }
   },
   "outputs": [],
   "source": [
    "df = pd.Series(zipped).reset_index()"
   ]
  },
  {
   "cell_type": "code",
   "execution_count": 10,
   "metadata": {
    "execution": {
     "iopub.execute_input": "2021-03-10T04:41:56.337540Z",
     "iopub.status.busy": "2021-03-10T04:41:56.336361Z",
     "iopub.status.idle": "2021-03-10T04:41:56.338129Z",
     "shell.execute_reply": "2021-03-10T04:41:56.338545Z"
    }
   },
   "outputs": [],
   "source": [
    "df.columns = ['location','doses']"
   ]
  },
  {
   "cell_type": "markdown",
   "metadata": {},
   "source": [
    "Grab the overall California total"
   ]
  },
  {
   "cell_type": "code",
   "execution_count": 11,
   "metadata": {
    "execution": {
     "iopub.execute_input": "2021-03-10T04:41:56.342513Z",
     "iopub.status.busy": "2021-03-10T04:41:56.341439Z",
     "iopub.status.idle": "2021-03-10T04:41:56.343080Z",
     "shell.execute_reply": "2021-03-10T04:41:56.343475Z"
    }
   },
   "outputs": [],
   "source": [
    "add = {'location':'California','doses':dataJson[0]['dataValues'][2]}"
   ]
  },
  {
   "cell_type": "code",
   "execution_count": 12,
   "metadata": {
    "execution": {
     "iopub.execute_input": "2021-03-10T04:41:56.350587Z",
     "iopub.status.busy": "2021-03-10T04:41:56.349341Z",
     "iopub.status.idle": "2021-03-10T04:41:56.351177Z",
     "shell.execute_reply": "2021-03-10T04:41:56.351607Z"
    }
   },
   "outputs": [],
   "source": [
    "df = df.append(add, ignore_index=True)"
   ]
  },
  {
   "cell_type": "code",
   "execution_count": 13,
   "metadata": {
    "execution": {
     "iopub.execute_input": "2021-03-10T04:41:56.356101Z",
     "iopub.status.busy": "2021-03-10T04:41:56.355264Z",
     "iopub.status.idle": "2021-03-10T04:41:56.356906Z",
     "shell.execute_reply": "2021-03-10T04:41:56.357279Z"
    }
   },
   "outputs": [],
   "source": [
    "df = df.sort_values(by='location')"
   ]
  },
  {
   "cell_type": "code",
   "execution_count": 14,
   "metadata": {
    "execution": {
     "iopub.execute_input": "2021-03-10T04:41:56.362919Z",
     "iopub.status.busy": "2021-03-10T04:41:56.362075Z",
     "iopub.status.idle": "2021-03-10T04:41:56.364213Z",
     "shell.execute_reply": "2021-03-10T04:41:56.363748Z"
    }
   },
   "outputs": [],
   "source": [
    "df = df[df.location == 'California'].append(df[df.location != 'California']).reset_index(drop=True)"
   ]
  },
  {
   "cell_type": "code",
   "execution_count": null,
   "metadata": {},
   "outputs": [],
   "source": []
  },
  {
   "cell_type": "code",
   "execution_count": 15,
   "metadata": {
    "execution": {
     "iopub.execute_input": "2021-03-10T04:41:56.367194Z",
     "iopub.status.busy": "2021-03-10T04:41:56.366717Z",
     "iopub.status.idle": "2021-03-10T04:41:56.382190Z",
     "shell.execute_reply": "2021-03-10T04:41:56.381717Z"
    }
   },
   "outputs": [],
   "source": [
    "tz = pytz.timezone(\"America/New_York\")"
   ]
  },
  {
   "cell_type": "code",
   "execution_count": 16,
   "metadata": {
    "execution": {
     "iopub.execute_input": "2021-03-10T04:41:56.386143Z",
     "iopub.status.busy": "2021-03-10T04:41:56.384994Z",
     "iopub.status.idle": "2021-03-10T04:41:56.386757Z",
     "shell.execute_reply": "2021-03-10T04:41:56.387185Z"
    }
   },
   "outputs": [],
   "source": [
    "today = datetime.now(tz).date()"
   ]
  },
  {
   "cell_type": "code",
   "execution_count": 17,
   "metadata": {
    "execution": {
     "iopub.execute_input": "2021-03-10T04:41:56.391301Z",
     "iopub.status.busy": "2021-03-10T04:41:56.390197Z",
     "iopub.status.idle": "2021-03-10T04:41:56.391893Z",
     "shell.execute_reply": "2021-03-10T04:41:56.392315Z"
    }
   },
   "outputs": [],
   "source": [
    "data_dir = os.path.join(os.path.abspath(\"\"), \"data\")"
   ]
  },
  {
   "cell_type": "code",
   "execution_count": 18,
   "metadata": {
    "execution": {
     "iopub.execute_input": "2021-03-10T04:41:56.396489Z",
     "iopub.status.busy": "2021-03-10T04:41:56.395503Z",
     "iopub.status.idle": "2021-03-10T04:41:56.399655Z",
     "shell.execute_reply": "2021-03-10T04:41:56.399170Z"
    }
   },
   "outputs": [],
   "source": [
    "df.to_csv(os.path.join(data_dir, f\"{today}.csv\"), index=False)"
   ]
  },
  {
   "cell_type": "code",
   "execution_count": null,
   "metadata": {},
   "outputs": [],
   "source": []
  }
 ],
 "metadata": {
  "kernelspec": {
   "display_name": "Python 3",
   "language": "python",
   "name": "python3"
  },
  "language_info": {
   "codemirror_mode": {
    "name": "ipython",
    "version": 3
   },
   "file_extension": ".py",
   "mimetype": "text/x-python",
   "name": "python",
   "nbconvert_exporter": "python",
   "pygments_lexer": "ipython3",
   "version": "3.8.8"
  }
 },
 "nbformat": 4,
 "nbformat_minor": 4
}
