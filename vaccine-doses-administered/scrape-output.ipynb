{
 "cells": [
  {
   "cell_type": "markdown",
   "metadata": {},
   "source": [
    "# California COVID vaccinations scrape"
   ]
  },
  {
   "cell_type": "markdown",
   "metadata": {},
   "source": [
    "By [Amy O'Kruk](https://twitter.com/amyokruk)"
   ]
  },
  {
   "cell_type": "markdown",
   "metadata": {},
   "source": [
    "Downloads data on vaccine doses administered by county and statewide from a Tableau-powered dashboard from the California Department of Public Health."
   ]
  },
  {
   "cell_type": "code",
   "execution_count": 1,
   "metadata": {
    "execution": {
     "iopub.execute_input": "2021-03-22T09:46:05.972400Z",
     "iopub.status.busy": "2021-03-22T09:46:05.971455Z",
     "iopub.status.idle": "2021-03-22T09:46:06.451479Z",
     "shell.execute_reply": "2021-03-22T09:46:06.450812Z"
    }
   },
   "outputs": [],
   "source": [
    "import pandas as pd\n",
    "import requests\n",
    "from bs4 import BeautifulSoup\n",
    "import json\n",
    "import re\n",
    "import time\n",
    "from time import gmtime, strftime \n",
    "import os\n",
    "import pytz\n",
    "from datetime import datetime"
   ]
  },
  {
   "cell_type": "markdown",
   "metadata": {},
   "source": [
    "Scrape the dashboard page"
   ]
  },
  {
   "cell_type": "code",
   "execution_count": 2,
   "metadata": {
    "execution": {
     "iopub.execute_input": "2021-03-22T09:46:06.458061Z",
     "iopub.status.busy": "2021-03-22T09:46:06.457450Z",
     "iopub.status.idle": "2021-03-22T09:46:06.816821Z",
     "shell.execute_reply": "2021-03-22T09:46:06.816272Z"
    }
   },
   "outputs": [],
   "source": [
    "url = \"https://public.tableau.com/interactive/views/COVID-19VaccineDashboardPublic/Vaccine?:embed=y&:showVizHome=n&:apiID=host0\"\n",
    "\n",
    "r = requests.get(url)\n",
    "soup = BeautifulSoup(r.text, \"html.parser\")"
   ]
  },
  {
   "cell_type": "code",
   "execution_count": 3,
   "metadata": {
    "execution": {
     "iopub.execute_input": "2021-03-22T09:46:06.822175Z",
     "iopub.status.busy": "2021-03-22T09:46:06.821541Z",
     "iopub.status.idle": "2021-03-22T09:46:06.825711Z",
     "shell.execute_reply": "2021-03-22T09:46:06.824906Z"
    }
   },
   "outputs": [],
   "source": [
    "tableauData = json.loads(soup.find(\"textarea\",{\"id\": \"tsConfigContainer\"}).text)"
   ]
  },
  {
   "cell_type": "markdown",
   "metadata": {},
   "source": [
    "Get the link to the Tableau data"
   ]
  },
  {
   "cell_type": "code",
   "execution_count": 4,
   "metadata": {
    "execution": {
     "iopub.execute_input": "2021-03-22T09:46:06.830735Z",
     "iopub.status.busy": "2021-03-22T09:46:06.829270Z",
     "iopub.status.idle": "2021-03-22T09:46:06.831405Z",
     "shell.execute_reply": "2021-03-22T09:46:06.831929Z"
    }
   },
   "outputs": [],
   "source": [
    "dataUrl = f'https://public.tableau.com{tableauData[\"vizql_root\"]}/bootstrapSession/sessions/{tableauData[\"sessionid\"]}'"
   ]
  },
  {
   "cell_type": "code",
   "execution_count": 5,
   "metadata": {
    "execution": {
     "iopub.execute_input": "2021-03-22T09:46:06.839830Z",
     "iopub.status.busy": "2021-03-22T09:46:06.839170Z",
     "iopub.status.idle": "2021-03-22T09:46:07.027337Z",
     "shell.execute_reply": "2021-03-22T09:46:07.026794Z"
    }
   },
   "outputs": [],
   "source": [
    "r = requests.post(dataUrl, data= {\n",
    "    \"sheet_id\": tableauData[\"sheetId\"],\n",
    "})\n",
    "\n",
    "dataReg = re.search('\\d+;({.*})\\d+;({.*})', r.text, re.MULTILINE)\n",
    "data1 = json.loads(dataReg.group(2))\n",
    "\n",
    "dataJson = data1[\"secondaryInfo\"][\"presModelMap\"][\"dataDictionary\"][\"presModelHolder\"][\"genDataDictionaryPresModel\"][\"dataSegments\"][\"0\"][\"dataColumns\"]"
   ]
  },
  {
   "cell_type": "markdown",
   "metadata": {},
   "source": [
    "Isolate what you want"
   ]
  },
  {
   "cell_type": "code",
   "execution_count": 6,
   "metadata": {
    "execution": {
     "iopub.execute_input": "2021-03-22T09:46:07.031971Z",
     "iopub.status.busy": "2021-03-22T09:46:07.031277Z",
     "iopub.status.idle": "2021-03-22T09:46:07.034935Z",
     "shell.execute_reply": "2021-03-22T09:46:07.035443Z"
    }
   },
   "outputs": [],
   "source": [
    "counties = dataJson[2]['dataValues'][:58]"
   ]
  },
  {
   "cell_type": "code",
   "execution_count": 7,
   "metadata": {
    "execution": {
     "iopub.execute_input": "2021-03-22T09:46:07.039655Z",
     "iopub.status.busy": "2021-03-22T09:46:07.039048Z",
     "iopub.status.idle": "2021-03-22T09:46:07.043193Z",
     "shell.execute_reply": "2021-03-22T09:46:07.043692Z"
    }
   },
   "outputs": [],
   "source": [
    "doses = dataJson[0]['dataValues'][3:61]"
   ]
  },
  {
   "cell_type": "markdown",
   "metadata": {},
   "source": [
    "Data formatting"
   ]
  },
  {
   "cell_type": "code",
   "execution_count": 8,
   "metadata": {
    "execution": {
     "iopub.execute_input": "2021-03-22T09:46:07.048153Z",
     "iopub.status.busy": "2021-03-22T09:46:07.047531Z",
     "iopub.status.idle": "2021-03-22T09:46:07.052365Z",
     "shell.execute_reply": "2021-03-22T09:46:07.051589Z"
    }
   },
   "outputs": [],
   "source": [
    "zipped = dict(zip(counties, doses))"
   ]
  },
  {
   "cell_type": "code",
   "execution_count": 9,
   "metadata": {
    "execution": {
     "iopub.execute_input": "2021-03-22T09:46:07.059170Z",
     "iopub.status.busy": "2021-03-22T09:46:07.058565Z",
     "iopub.status.idle": "2021-03-22T09:46:07.062944Z",
     "shell.execute_reply": "2021-03-22T09:46:07.063433Z"
    }
   },
   "outputs": [],
   "source": [
    "df = pd.Series(zipped).reset_index()"
   ]
  },
  {
   "cell_type": "code",
   "execution_count": 10,
   "metadata": {
    "execution": {
     "iopub.execute_input": "2021-03-22T09:46:07.068628Z",
     "iopub.status.busy": "2021-03-22T09:46:07.067738Z",
     "iopub.status.idle": "2021-03-22T09:46:07.072215Z",
     "shell.execute_reply": "2021-03-22T09:46:07.071638Z"
    }
   },
   "outputs": [],
   "source": [
    "df.columns = ['location','doses']"
   ]
  },
  {
   "cell_type": "markdown",
   "metadata": {},
   "source": [
    "Grab the overall California total"
   ]
  },
  {
   "cell_type": "code",
   "execution_count": 11,
   "metadata": {
    "execution": {
     "iopub.execute_input": "2021-03-22T09:46:07.077965Z",
     "iopub.status.busy": "2021-03-22T09:46:07.076304Z",
     "iopub.status.idle": "2021-03-22T09:46:07.078606Z",
     "shell.execute_reply": "2021-03-22T09:46:07.079187Z"
    }
   },
   "outputs": [],
   "source": [
    "add = {'location':'California','doses':dataJson[0]['dataValues'][2]}"
   ]
  },
  {
   "cell_type": "code",
   "execution_count": 12,
   "metadata": {
    "execution": {
     "iopub.execute_input": "2021-03-22T09:46:07.089524Z",
     "iopub.status.busy": "2021-03-22T09:46:07.088353Z",
     "iopub.status.idle": "2021-03-22T09:46:07.090922Z",
     "shell.execute_reply": "2021-03-22T09:46:07.091399Z"
    }
   },
   "outputs": [],
   "source": [
    "df = df.append(add, ignore_index=True)"
   ]
  },
  {
   "cell_type": "code",
   "execution_count": 13,
   "metadata": {
    "execution": {
     "iopub.execute_input": "2021-03-22T09:46:07.102749Z",
     "iopub.status.busy": "2021-03-22T09:46:07.101278Z",
     "iopub.status.idle": "2021-03-22T09:46:07.104367Z",
     "shell.execute_reply": "2021-03-22T09:46:07.103402Z"
    }
   },
   "outputs": [],
   "source": [
    "df = df.sort_values(by='location')"
   ]
  },
  {
   "cell_type": "code",
   "execution_count": 14,
   "metadata": {
    "execution": {
     "iopub.execute_input": "2021-03-22T09:46:07.112544Z",
     "iopub.status.busy": "2021-03-22T09:46:07.111932Z",
     "iopub.status.idle": "2021-03-22T09:46:07.118554Z",
     "shell.execute_reply": "2021-03-22T09:46:07.117773Z"
    }
   },
   "outputs": [],
   "source": [
    "df = df[df.location == 'California'].append(df[df.location != 'California']).reset_index(drop=True)"
   ]
  },
  {
   "cell_type": "code",
   "execution_count": null,
   "metadata": {},
   "outputs": [],
   "source": []
  },
  {
   "cell_type": "code",
   "execution_count": 15,
   "metadata": {
    "execution": {
     "iopub.execute_input": "2021-03-22T09:46:07.122660Z",
     "iopub.status.busy": "2021-03-22T09:46:07.122043Z",
     "iopub.status.idle": "2021-03-22T09:46:07.144836Z",
     "shell.execute_reply": "2021-03-22T09:46:07.144296Z"
    }
   },
   "outputs": [],
   "source": [
    "tz = pytz.timezone(\"America/New_York\")"
   ]
  },
  {
   "cell_type": "code",
   "execution_count": 16,
   "metadata": {
    "execution": {
     "iopub.execute_input": "2021-03-22T09:46:07.150034Z",
     "iopub.status.busy": "2021-03-22T09:46:07.148918Z",
     "iopub.status.idle": "2021-03-22T09:46:07.151799Z",
     "shell.execute_reply": "2021-03-22T09:46:07.151262Z"
    }
   },
   "outputs": [],
   "source": [
    "today = datetime.now(tz).date()"
   ]
  },
  {
   "cell_type": "code",
   "execution_count": 17,
   "metadata": {
    "execution": {
     "iopub.execute_input": "2021-03-22T09:46:07.156501Z",
     "iopub.status.busy": "2021-03-22T09:46:07.154422Z",
     "iopub.status.idle": "2021-03-22T09:46:07.159309Z",
     "shell.execute_reply": "2021-03-22T09:46:07.159785Z"
    }
   },
   "outputs": [],
   "source": [
    "data_dir = os.path.join(os.path.abspath(\"\"), \"data\")"
   ]
  },
  {
   "cell_type": "code",
   "execution_count": 18,
   "metadata": {
    "execution": {
     "iopub.execute_input": "2021-03-22T09:46:07.164988Z",
     "iopub.status.busy": "2021-03-22T09:46:07.163606Z",
     "iopub.status.idle": "2021-03-22T09:46:07.169247Z",
     "shell.execute_reply": "2021-03-22T09:46:07.168605Z"
    }
   },
   "outputs": [],
   "source": [
    "df.to_csv(os.path.join(data_dir, f\"{today}.csv\"), index=False)"
   ]
  },
  {
   "cell_type": "code",
   "execution_count": null,
   "metadata": {},
   "outputs": [],
   "source": []
  }
 ],
 "metadata": {
  "kernelspec": {
   "display_name": "Python 3",
   "language": "python",
   "name": "python3"
  },
  "language_info": {
   "codemirror_mode": {
    "name": "ipython",
    "version": 3
   },
   "file_extension": ".py",
   "mimetype": "text/x-python",
   "name": "python",
   "nbconvert_exporter": "python",
   "pygments_lexer": "ipython3",
   "version": "3.8.8"
  }
 },
 "nbformat": 4,
 "nbformat_minor": 4
}
