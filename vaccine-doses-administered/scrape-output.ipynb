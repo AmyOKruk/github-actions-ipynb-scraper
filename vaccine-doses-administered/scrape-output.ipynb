{
 "cells": [
  {
   "cell_type": "markdown",
   "metadata": {},
   "source": [
    "# California COVID vaccinations scrape"
   ]
  },
  {
   "cell_type": "markdown",
   "metadata": {},
   "source": [
    "By [Amy O'Kruk](https://twitter.com/amyokruk)"
   ]
  },
  {
   "cell_type": "markdown",
   "metadata": {},
   "source": [
    "Downloads data on vaccine doses administered by county and statewide from a Tableau-powered dashboard from the California Department of Public Health."
   ]
  },
  {
   "cell_type": "code",
   "execution_count": 1,
   "metadata": {
    "execution": {
     "iopub.execute_input": "2021-03-15T23:29:23.106729Z",
     "iopub.status.busy": "2021-03-15T23:29:23.105602Z",
     "iopub.status.idle": "2021-03-15T23:29:23.539226Z",
     "shell.execute_reply": "2021-03-15T23:29:23.538274Z"
    }
   },
   "outputs": [],
   "source": [
    "import pandas as pd\n",
    "import requests\n",
    "from bs4 import BeautifulSoup\n",
    "import json\n",
    "import re\n",
    "import time\n",
    "from time import gmtime, strftime \n",
    "import os\n",
    "import pytz\n",
    "from datetime import datetime"
   ]
  },
  {
   "cell_type": "markdown",
   "metadata": {},
   "source": [
    "Scrape the dashboard page"
   ]
  },
  {
   "cell_type": "code",
   "execution_count": 2,
   "metadata": {
    "execution": {
     "iopub.execute_input": "2021-03-15T23:29:23.545960Z",
     "iopub.status.busy": "2021-03-15T23:29:23.545424Z",
     "iopub.status.idle": "2021-03-15T23:29:24.531091Z",
     "shell.execute_reply": "2021-03-15T23:29:24.531828Z"
    }
   },
   "outputs": [],
   "source": [
    "url = \"https://public.tableau.com/interactive/views/COVID-19VaccineDashboardPublic/Vaccine?:embed=y&:showVizHome=n&:apiID=host0\"\n",
    "\n",
    "r = requests.get(url)\n",
    "soup = BeautifulSoup(r.text, \"html.parser\")"
   ]
  },
  {
   "cell_type": "code",
   "execution_count": 3,
   "metadata": {
    "execution": {
     "iopub.execute_input": "2021-03-15T23:29:24.538803Z",
     "iopub.status.busy": "2021-03-15T23:29:24.537707Z",
     "iopub.status.idle": "2021-03-15T23:29:24.539680Z",
     "shell.execute_reply": "2021-03-15T23:29:24.539259Z"
    }
   },
   "outputs": [],
   "source": [
    "tableauData = json.loads(soup.find(\"textarea\",{\"id\": \"tsConfigContainer\"}).text)"
   ]
  },
  {
   "cell_type": "markdown",
   "metadata": {},
   "source": [
    "Get the link to the Tableau data"
   ]
  },
  {
   "cell_type": "code",
   "execution_count": 4,
   "metadata": {
    "execution": {
     "iopub.execute_input": "2021-03-15T23:29:24.544305Z",
     "iopub.status.busy": "2021-03-15T23:29:24.543762Z",
     "iopub.status.idle": "2021-03-15T23:29:24.546278Z",
     "shell.execute_reply": "2021-03-15T23:29:24.545855Z"
    }
   },
   "outputs": [],
   "source": [
    "dataUrl = f'https://public.tableau.com{tableauData[\"vizql_root\"]}/bootstrapSession/sessions/{tableauData[\"sessionid\"]}'"
   ]
  },
  {
   "cell_type": "code",
   "execution_count": 5,
   "metadata": {
    "execution": {
     "iopub.execute_input": "2021-03-15T23:29:24.553269Z",
     "iopub.status.busy": "2021-03-15T23:29:24.552748Z",
     "iopub.status.idle": "2021-03-15T23:30:24.394570Z",
     "shell.execute_reply": "2021-03-15T23:30:24.393771Z"
    }
   },
   "outputs": [],
   "source": [
    "r = requests.post(dataUrl, data= {\n",
    "    \"sheet_id\": tableauData[\"sheetId\"],\n",
    "})\n",
    "\n",
    "dataReg = re.search('\\d+;({.*})\\d+;({.*})', r.text, re.MULTILINE)\n",
    "data1 = json.loads(dataReg.group(2))\n",
    "\n",
    "dataJson = data1[\"secondaryInfo\"][\"presModelMap\"][\"dataDictionary\"][\"presModelHolder\"][\"genDataDictionaryPresModel\"][\"dataSegments\"][\"0\"][\"dataColumns\"]"
   ]
  },
  {
   "cell_type": "markdown",
   "metadata": {},
   "source": [
    "Isolate what you want"
   ]
  },
  {
   "cell_type": "code",
   "execution_count": 6,
   "metadata": {
    "execution": {
     "iopub.execute_input": "2021-03-15T23:30:24.398371Z",
     "iopub.status.busy": "2021-03-15T23:30:24.397836Z",
     "iopub.status.idle": "2021-03-15T23:30:24.401752Z",
     "shell.execute_reply": "2021-03-15T23:30:24.401324Z"
    }
   },
   "outputs": [],
   "source": [
    "counties = dataJson[2]['dataValues'][:58]"
   ]
  },
  {
   "cell_type": "code",
   "execution_count": 7,
   "metadata": {
    "execution": {
     "iopub.execute_input": "2021-03-15T23:30:24.405976Z",
     "iopub.status.busy": "2021-03-15T23:30:24.404863Z",
     "iopub.status.idle": "2021-03-15T23:30:24.406597Z",
     "shell.execute_reply": "2021-03-15T23:30:24.406996Z"
    }
   },
   "outputs": [],
   "source": [
    "doses = dataJson[0]['dataValues'][3:61]"
   ]
  },
  {
   "cell_type": "markdown",
   "metadata": {},
   "source": [
    "Data formatting"
   ]
  },
  {
   "cell_type": "code",
   "execution_count": 8,
   "metadata": {
    "execution": {
     "iopub.execute_input": "2021-03-15T23:30:24.411278Z",
     "iopub.status.busy": "2021-03-15T23:30:24.410134Z",
     "iopub.status.idle": "2021-03-15T23:30:24.411951Z",
     "shell.execute_reply": "2021-03-15T23:30:24.412412Z"
    }
   },
   "outputs": [],
   "source": [
    "zipped = dict(zip(counties, doses))"
   ]
  },
  {
   "cell_type": "code",
   "execution_count": 9,
   "metadata": {
    "execution": {
     "iopub.execute_input": "2021-03-15T23:30:24.418321Z",
     "iopub.status.busy": "2021-03-15T23:30:24.417217Z",
     "iopub.status.idle": "2021-03-15T23:30:24.418950Z",
     "shell.execute_reply": "2021-03-15T23:30:24.419348Z"
    }
   },
   "outputs": [],
   "source": [
    "df = pd.Series(zipped).reset_index()"
   ]
  },
  {
   "cell_type": "code",
   "execution_count": 10,
   "metadata": {
    "execution": {
     "iopub.execute_input": "2021-03-15T23:30:24.423767Z",
     "iopub.status.busy": "2021-03-15T23:30:24.422577Z",
     "iopub.status.idle": "2021-03-15T23:30:24.424388Z",
     "shell.execute_reply": "2021-03-15T23:30:24.424815Z"
    }
   },
   "outputs": [],
   "source": [
    "df.columns = ['location','doses']"
   ]
  },
  {
   "cell_type": "markdown",
   "metadata": {},
   "source": [
    "Grab the overall California total"
   ]
  },
  {
   "cell_type": "code",
   "execution_count": 11,
   "metadata": {
    "execution": {
     "iopub.execute_input": "2021-03-15T23:30:24.429005Z",
     "iopub.status.busy": "2021-03-15T23:30:24.427911Z",
     "iopub.status.idle": "2021-03-15T23:30:24.429569Z",
     "shell.execute_reply": "2021-03-15T23:30:24.429963Z"
    }
   },
   "outputs": [],
   "source": [
    "add = {'location':'California','doses':dataJson[0]['dataValues'][2]}"
   ]
  },
  {
   "cell_type": "code",
   "execution_count": 12,
   "metadata": {
    "execution": {
     "iopub.execute_input": "2021-03-15T23:30:24.436235Z",
     "iopub.status.busy": "2021-03-15T23:30:24.435189Z",
     "iopub.status.idle": "2021-03-15T23:30:24.436987Z",
     "shell.execute_reply": "2021-03-15T23:30:24.437381Z"
    }
   },
   "outputs": [],
   "source": [
    "df = df.append(add, ignore_index=True)"
   ]
  },
  {
   "cell_type": "code",
   "execution_count": 13,
   "metadata": {
    "execution": {
     "iopub.execute_input": "2021-03-15T23:30:24.441864Z",
     "iopub.status.busy": "2021-03-15T23:30:24.441014Z",
     "iopub.status.idle": "2021-03-15T23:30:24.442632Z",
     "shell.execute_reply": "2021-03-15T23:30:24.443024Z"
    }
   },
   "outputs": [],
   "source": [
    "df = df.sort_values(by='location')"
   ]
  },
  {
   "cell_type": "code",
   "execution_count": 14,
   "metadata": {
    "execution": {
     "iopub.execute_input": "2021-03-15T23:30:24.449151Z",
     "iopub.status.busy": "2021-03-15T23:30:24.447970Z",
     "iopub.status.idle": "2021-03-15T23:30:24.449705Z",
     "shell.execute_reply": "2021-03-15T23:30:24.450126Z"
    }
   },
   "outputs": [],
   "source": [
    "df = df[df.location == 'California'].append(df[df.location != 'California']).reset_index(drop=True)"
   ]
  },
  {
   "cell_type": "code",
   "execution_count": null,
   "metadata": {},
   "outputs": [],
   "source": []
  },
  {
   "cell_type": "code",
   "execution_count": 15,
   "metadata": {
    "execution": {
     "iopub.execute_input": "2021-03-15T23:30:24.453530Z",
     "iopub.status.busy": "2021-03-15T23:30:24.453030Z",
     "iopub.status.idle": "2021-03-15T23:30:24.469861Z",
     "shell.execute_reply": "2021-03-15T23:30:24.469310Z"
    }
   },
   "outputs": [],
   "source": [
    "tz = pytz.timezone(\"America/New_York\")"
   ]
  },
  {
   "cell_type": "code",
   "execution_count": 16,
   "metadata": {
    "execution": {
     "iopub.execute_input": "2021-03-15T23:30:24.473960Z",
     "iopub.status.busy": "2021-03-15T23:30:24.472777Z",
     "iopub.status.idle": "2021-03-15T23:30:24.474582Z",
     "shell.execute_reply": "2021-03-15T23:30:24.475050Z"
    }
   },
   "outputs": [],
   "source": [
    "today = datetime.now(tz).date()"
   ]
  },
  {
   "cell_type": "code",
   "execution_count": 17,
   "metadata": {
    "execution": {
     "iopub.execute_input": "2021-03-15T23:30:24.479453Z",
     "iopub.status.busy": "2021-03-15T23:30:24.478266Z",
     "iopub.status.idle": "2021-03-15T23:30:24.480085Z",
     "shell.execute_reply": "2021-03-15T23:30:24.480538Z"
    }
   },
   "outputs": [],
   "source": [
    "data_dir = os.path.join(os.path.abspath(\"\"), \"data\")"
   ]
  },
  {
   "cell_type": "code",
   "execution_count": 18,
   "metadata": {
    "execution": {
     "iopub.execute_input": "2021-03-15T23:30:24.484690Z",
     "iopub.status.busy": "2021-03-15T23:30:24.483688Z",
     "iopub.status.idle": "2021-03-15T23:30:24.488017Z",
     "shell.execute_reply": "2021-03-15T23:30:24.487478Z"
    }
   },
   "outputs": [],
   "source": [
    "df.to_csv(os.path.join(data_dir, f\"{today}.csv\"), index=False)"
   ]
  },
  {
   "cell_type": "code",
   "execution_count": null,
   "metadata": {},
   "outputs": [],
   "source": []
  }
 ],
 "metadata": {
  "kernelspec": {
   "display_name": "Python 3",
   "language": "python",
   "name": "python3"
  },
  "language_info": {
   "codemirror_mode": {
    "name": "ipython",
    "version": 3
   },
   "file_extension": ".py",
   "mimetype": "text/x-python",
   "name": "python",
   "nbconvert_exporter": "python",
   "pygments_lexer": "ipython3",
   "version": "3.8.8"
  }
 },
 "nbformat": 4,
 "nbformat_minor": 4
}
