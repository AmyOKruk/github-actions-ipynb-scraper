{
 "cells": [
  {
   "cell_type": "markdown",
   "metadata": {},
   "source": [
    "# California COVID vaccinations scrape"
   ]
  },
  {
   "cell_type": "markdown",
   "metadata": {},
   "source": [
    "By [Amy O'Kruk](https://twitter.com/amyokruk)"
   ]
  },
  {
   "cell_type": "markdown",
   "metadata": {},
   "source": [
    "Downloads data on vaccine doses administered by county and statewide from a Tableau-powered dashboard from the California Department of Public Health."
   ]
  },
  {
   "cell_type": "code",
   "execution_count": 1,
   "metadata": {
    "execution": {
     "iopub.execute_input": "2021-03-14T00:31:44.296398Z",
     "iopub.status.busy": "2021-03-14T00:31:44.295844Z",
     "iopub.status.idle": "2021-03-14T00:31:44.686126Z",
     "shell.execute_reply": "2021-03-14T00:31:44.685469Z"
    }
   },
   "outputs": [],
   "source": [
    "import pandas as pd\n",
    "import requests\n",
    "from bs4 import BeautifulSoup\n",
    "import json\n",
    "import re\n",
    "import time\n",
    "from time import gmtime, strftime \n",
    "import os\n",
    "import pytz\n",
    "from datetime import datetime"
   ]
  },
  {
   "cell_type": "markdown",
   "metadata": {},
   "source": [
    "Scrape the dashboard page"
   ]
  },
  {
   "cell_type": "code",
   "execution_count": 2,
   "metadata": {
    "execution": {
     "iopub.execute_input": "2021-03-14T00:31:44.691283Z",
     "iopub.status.busy": "2021-03-14T00:31:44.690671Z",
     "iopub.status.idle": "2021-03-14T00:31:45.082977Z",
     "shell.execute_reply": "2021-03-14T00:31:45.082069Z"
    }
   },
   "outputs": [],
   "source": [
    "url = \"https://public.tableau.com/interactive/views/COVID-19VaccineDashboardPublic/Vaccine?:embed=y&:showVizHome=n&:apiID=host0\"\n",
    "\n",
    "r = requests.get(url)\n",
    "soup = BeautifulSoup(r.text, \"html.parser\")"
   ]
  },
  {
   "cell_type": "code",
   "execution_count": 3,
   "metadata": {
    "execution": {
     "iopub.execute_input": "2021-03-14T00:31:45.087946Z",
     "iopub.status.busy": "2021-03-14T00:31:45.087410Z",
     "iopub.status.idle": "2021-03-14T00:31:45.090854Z",
     "shell.execute_reply": "2021-03-14T00:31:45.091263Z"
    }
   },
   "outputs": [],
   "source": [
    "tableauData = json.loads(soup.find(\"textarea\",{\"id\": \"tsConfigContainer\"}).text)"
   ]
  },
  {
   "cell_type": "markdown",
   "metadata": {},
   "source": [
    "Get the link to the Tableau data"
   ]
  },
  {
   "cell_type": "code",
   "execution_count": 4,
   "metadata": {
    "execution": {
     "iopub.execute_input": "2021-03-14T00:31:45.095055Z",
     "iopub.status.busy": "2021-03-14T00:31:45.094507Z",
     "iopub.status.idle": "2021-03-14T00:31:45.098284Z",
     "shell.execute_reply": "2021-03-14T00:31:45.097863Z"
    }
   },
   "outputs": [],
   "source": [
    "dataUrl = f'https://public.tableau.com{tableauData[\"vizql_root\"]}/bootstrapSession/sessions/{tableauData[\"sessionid\"]}'"
   ]
  },
  {
   "cell_type": "code",
   "execution_count": 5,
   "metadata": {
    "execution": {
     "iopub.execute_input": "2021-03-14T00:31:45.105243Z",
     "iopub.status.busy": "2021-03-14T00:31:45.104697Z",
     "iopub.status.idle": "2021-03-14T00:31:45.294424Z",
     "shell.execute_reply": "2021-03-14T00:31:45.293920Z"
    }
   },
   "outputs": [],
   "source": [
    "r = requests.post(dataUrl, data= {\n",
    "    \"sheet_id\": tableauData[\"sheetId\"],\n",
    "})\n",
    "\n",
    "dataReg = re.search('\\d+;({.*})\\d+;({.*})', r.text, re.MULTILINE)\n",
    "data1 = json.loads(dataReg.group(2))\n",
    "\n",
    "dataJson = data1[\"secondaryInfo\"][\"presModelMap\"][\"dataDictionary\"][\"presModelHolder\"][\"genDataDictionaryPresModel\"][\"dataSegments\"][\"0\"][\"dataColumns\"]"
   ]
  },
  {
   "cell_type": "markdown",
   "metadata": {},
   "source": [
    "Isolate what you want"
   ]
  },
  {
   "cell_type": "code",
   "execution_count": 6,
   "metadata": {
    "execution": {
     "iopub.execute_input": "2021-03-14T00:31:45.300431Z",
     "iopub.status.busy": "2021-03-14T00:31:45.298396Z",
     "iopub.status.idle": "2021-03-14T00:31:45.301183Z",
     "shell.execute_reply": "2021-03-14T00:31:45.301782Z"
    }
   },
   "outputs": [],
   "source": [
    "counties = dataJson[2]['dataValues'][:58]"
   ]
  },
  {
   "cell_type": "code",
   "execution_count": 7,
   "metadata": {
    "execution": {
     "iopub.execute_input": "2021-03-14T00:31:45.307526Z",
     "iopub.status.busy": "2021-03-14T00:31:45.305697Z",
     "iopub.status.idle": "2021-03-14T00:31:45.308208Z",
     "shell.execute_reply": "2021-03-14T00:31:45.308656Z"
    }
   },
   "outputs": [],
   "source": [
    "doses = dataJson[0]['dataValues'][3:61]"
   ]
  },
  {
   "cell_type": "markdown",
   "metadata": {},
   "source": [
    "Data formatting"
   ]
  },
  {
   "cell_type": "code",
   "execution_count": 8,
   "metadata": {
    "execution": {
     "iopub.execute_input": "2021-03-14T00:31:45.313517Z",
     "iopub.status.busy": "2021-03-14T00:31:45.312144Z",
     "iopub.status.idle": "2021-03-14T00:31:45.314133Z",
     "shell.execute_reply": "2021-03-14T00:31:45.314575Z"
    }
   },
   "outputs": [],
   "source": [
    "zipped = dict(zip(counties, doses))"
   ]
  },
  {
   "cell_type": "code",
   "execution_count": 9,
   "metadata": {
    "execution": {
     "iopub.execute_input": "2021-03-14T00:31:45.321473Z",
     "iopub.status.busy": "2021-03-14T00:31:45.320322Z",
     "iopub.status.idle": "2021-03-14T00:31:45.322624Z",
     "shell.execute_reply": "2021-03-14T00:31:45.323171Z"
    }
   },
   "outputs": [],
   "source": [
    "df = pd.Series(zipped).reset_index()"
   ]
  },
  {
   "cell_type": "code",
   "execution_count": 10,
   "metadata": {
    "execution": {
     "iopub.execute_input": "2021-03-14T00:31:45.327650Z",
     "iopub.status.busy": "2021-03-14T00:31:45.326572Z",
     "iopub.status.idle": "2021-03-14T00:31:45.328326Z",
     "shell.execute_reply": "2021-03-14T00:31:45.328756Z"
    }
   },
   "outputs": [],
   "source": [
    "df.columns = ['location','doses']"
   ]
  },
  {
   "cell_type": "markdown",
   "metadata": {},
   "source": [
    "Grab the overall California total"
   ]
  },
  {
   "cell_type": "code",
   "execution_count": 11,
   "metadata": {
    "execution": {
     "iopub.execute_input": "2021-03-14T00:31:45.333353Z",
     "iopub.status.busy": "2021-03-14T00:31:45.332085Z",
     "iopub.status.idle": "2021-03-14T00:31:45.334341Z",
     "shell.execute_reply": "2021-03-14T00:31:45.334860Z"
    }
   },
   "outputs": [],
   "source": [
    "add = {'location':'California','doses':dataJson[0]['dataValues'][2]}"
   ]
  },
  {
   "cell_type": "code",
   "execution_count": 12,
   "metadata": {
    "execution": {
     "iopub.execute_input": "2021-03-14T00:31:45.344496Z",
     "iopub.status.busy": "2021-03-14T00:31:45.343425Z",
     "iopub.status.idle": "2021-03-14T00:31:45.345502Z",
     "shell.execute_reply": "2021-03-14T00:31:45.345979Z"
    }
   },
   "outputs": [],
   "source": [
    "df = df.append(add, ignore_index=True)"
   ]
  },
  {
   "cell_type": "code",
   "execution_count": 13,
   "metadata": {
    "execution": {
     "iopub.execute_input": "2021-03-14T00:31:45.351921Z",
     "iopub.status.busy": "2021-03-14T00:31:45.350212Z",
     "iopub.status.idle": "2021-03-14T00:31:45.352563Z",
     "shell.execute_reply": "2021-03-14T00:31:45.353024Z"
    }
   },
   "outputs": [],
   "source": [
    "df = df.sort_values(by='location')"
   ]
  },
  {
   "cell_type": "code",
   "execution_count": 14,
   "metadata": {
    "execution": {
     "iopub.execute_input": "2021-03-14T00:31:45.359729Z",
     "iopub.status.busy": "2021-03-14T00:31:45.358776Z",
     "iopub.status.idle": "2021-03-14T00:31:45.360588Z",
     "shell.execute_reply": "2021-03-14T00:31:45.361018Z"
    }
   },
   "outputs": [],
   "source": [
    "df = df[df.location == 'California'].append(df[df.location != 'California']).reset_index(drop=True)"
   ]
  },
  {
   "cell_type": "code",
   "execution_count": null,
   "metadata": {},
   "outputs": [],
   "source": []
  },
  {
   "cell_type": "code",
   "execution_count": 15,
   "metadata": {
    "execution": {
     "iopub.execute_input": "2021-03-14T00:31:45.364799Z",
     "iopub.status.busy": "2021-03-14T00:31:45.364275Z",
     "iopub.status.idle": "2021-03-14T00:31:45.382745Z",
     "shell.execute_reply": "2021-03-14T00:31:45.383245Z"
    }
   },
   "outputs": [],
   "source": [
    "tz = pytz.timezone(\"America/New_York\")"
   ]
  },
  {
   "cell_type": "code",
   "execution_count": 16,
   "metadata": {
    "execution": {
     "iopub.execute_input": "2021-03-14T00:31:45.389504Z",
     "iopub.status.busy": "2021-03-14T00:31:45.387589Z",
     "iopub.status.idle": "2021-03-14T00:31:45.390457Z",
     "shell.execute_reply": "2021-03-14T00:31:45.390018Z"
    }
   },
   "outputs": [],
   "source": [
    "today = datetime.now(tz).date()"
   ]
  },
  {
   "cell_type": "code",
   "execution_count": 17,
   "metadata": {
    "execution": {
     "iopub.execute_input": "2021-03-14T00:31:45.395988Z",
     "iopub.status.busy": "2021-03-14T00:31:45.394409Z",
     "iopub.status.idle": "2021-03-14T00:31:45.396793Z",
     "shell.execute_reply": "2021-03-14T00:31:45.397330Z"
    }
   },
   "outputs": [],
   "source": [
    "data_dir = os.path.join(os.path.abspath(\"\"), \"data\")"
   ]
  },
  {
   "cell_type": "code",
   "execution_count": 18,
   "metadata": {
    "execution": {
     "iopub.execute_input": "2021-03-14T00:31:45.401767Z",
     "iopub.status.busy": "2021-03-14T00:31:45.400779Z",
     "iopub.status.idle": "2021-03-14T00:31:45.406805Z",
     "shell.execute_reply": "2021-03-14T00:31:45.406346Z"
    }
   },
   "outputs": [],
   "source": [
    "df.to_csv(os.path.join(data_dir, f\"{today}.csv\"), index=False)"
   ]
  },
  {
   "cell_type": "code",
   "execution_count": null,
   "metadata": {},
   "outputs": [],
   "source": []
  }
 ],
 "metadata": {
  "kernelspec": {
   "display_name": "Python 3",
   "language": "python",
   "name": "python3"
  },
  "language_info": {
   "codemirror_mode": {
    "name": "ipython",
    "version": 3
   },
   "file_extension": ".py",
   "mimetype": "text/x-python",
   "name": "python",
   "nbconvert_exporter": "python",
   "pygments_lexer": "ipython3",
   "version": "3.8.8"
  }
 },
 "nbformat": 4,
 "nbformat_minor": 4
}
