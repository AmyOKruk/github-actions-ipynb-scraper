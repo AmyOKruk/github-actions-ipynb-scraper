{
 "cells": [
  {
   "cell_type": "markdown",
   "metadata": {},
   "source": [
    "# California COVID vaccinations scrape"
   ]
  },
  {
   "cell_type": "markdown",
   "metadata": {},
   "source": [
    "By [Amy O'Kruk](https://twitter.com/amyokruk)"
   ]
  },
  {
   "cell_type": "markdown",
   "metadata": {},
   "source": [
    "Downloads data on vaccine doses administered by county and statewide from a Tableau-powered dashboard from the California Department of Public Health."
   ]
  },
  {
   "cell_type": "code",
   "execution_count": 1,
   "metadata": {
    "execution": {
     "iopub.execute_input": "2021-03-22T19:37:14.080090Z",
     "iopub.status.busy": "2021-03-22T19:37:14.079466Z",
     "iopub.status.idle": "2021-03-22T19:37:14.429331Z",
     "shell.execute_reply": "2021-03-22T19:37:14.428315Z"
    }
   },
   "outputs": [],
   "source": [
    "import pandas as pd\n",
    "import requests\n",
    "from bs4 import BeautifulSoup\n",
    "import json\n",
    "import re\n",
    "import time\n",
    "from time import gmtime, strftime \n",
    "import os\n",
    "import pytz\n",
    "from datetime import datetime"
   ]
  },
  {
   "cell_type": "markdown",
   "metadata": {},
   "source": [
    "Scrape the dashboard page"
   ]
  },
  {
   "cell_type": "code",
   "execution_count": 2,
   "metadata": {
    "execution": {
     "iopub.execute_input": "2021-03-22T19:37:14.435366Z",
     "iopub.status.busy": "2021-03-22T19:37:14.433208Z",
     "iopub.status.idle": "2021-03-22T19:37:14.788450Z",
     "shell.execute_reply": "2021-03-22T19:37:14.787931Z"
    }
   },
   "outputs": [],
   "source": [
    "url = \"https://public.tableau.com/interactive/views/COVID-19VaccineDashboardPublic/Vaccine?:embed=y&:showVizHome=n&:apiID=host0\"\n",
    "\n",
    "r = requests.get(url)\n",
    "soup = BeautifulSoup(r.text, \"html.parser\")"
   ]
  },
  {
   "cell_type": "code",
   "execution_count": 3,
   "metadata": {
    "execution": {
     "iopub.execute_input": "2021-03-22T19:37:14.793887Z",
     "iopub.status.busy": "2021-03-22T19:37:14.793391Z",
     "iopub.status.idle": "2021-03-22T19:37:14.796827Z",
     "shell.execute_reply": "2021-03-22T19:37:14.796273Z"
    }
   },
   "outputs": [],
   "source": [
    "tableauData = json.loads(soup.find(\"textarea\",{\"id\": \"tsConfigContainer\"}).text)"
   ]
  },
  {
   "cell_type": "markdown",
   "metadata": {},
   "source": [
    "Get the link to the Tableau data"
   ]
  },
  {
   "cell_type": "code",
   "execution_count": 4,
   "metadata": {
    "execution": {
     "iopub.execute_input": "2021-03-22T19:37:14.801003Z",
     "iopub.status.busy": "2021-03-22T19:37:14.799824Z",
     "iopub.status.idle": "2021-03-22T19:37:14.801622Z",
     "shell.execute_reply": "2021-03-22T19:37:14.802018Z"
    }
   },
   "outputs": [],
   "source": [
    "dataUrl = f'https://public.tableau.com{tableauData[\"vizql_root\"]}/bootstrapSession/sessions/{tableauData[\"sessionid\"]}'"
   ]
  },
  {
   "cell_type": "code",
   "execution_count": 5,
   "metadata": {
    "execution": {
     "iopub.execute_input": "2021-03-22T19:37:14.807817Z",
     "iopub.status.busy": "2021-03-22T19:37:14.807325Z",
     "iopub.status.idle": "2021-03-22T19:37:15.059052Z",
     "shell.execute_reply": "2021-03-22T19:37:15.058240Z"
    }
   },
   "outputs": [],
   "source": [
    "r = requests.post(dataUrl, data= {\n",
    "    \"sheet_id\": tableauData[\"sheetId\"],\n",
    "})\n",
    "\n",
    "dataReg = re.search('\\d+;({.*})\\d+;({.*})', r.text, re.MULTILINE)\n",
    "data1 = json.loads(dataReg.group(2))\n",
    "\n",
    "dataJson = data1[\"secondaryInfo\"][\"presModelMap\"][\"dataDictionary\"][\"presModelHolder\"][\"genDataDictionaryPresModel\"][\"dataSegments\"][\"0\"][\"dataColumns\"]"
   ]
  },
  {
   "cell_type": "markdown",
   "metadata": {},
   "source": [
    "Isolate what you want"
   ]
  },
  {
   "cell_type": "code",
   "execution_count": 6,
   "metadata": {
    "execution": {
     "iopub.execute_input": "2021-03-22T19:37:15.064069Z",
     "iopub.status.busy": "2021-03-22T19:37:15.063270Z",
     "iopub.status.idle": "2021-03-22T19:37:15.067179Z",
     "shell.execute_reply": "2021-03-22T19:37:15.066737Z"
    }
   },
   "outputs": [],
   "source": [
    "counties = dataJson[2]['dataValues'][:58]"
   ]
  },
  {
   "cell_type": "code",
   "execution_count": 7,
   "metadata": {
    "execution": {
     "iopub.execute_input": "2021-03-22T19:37:15.071267Z",
     "iopub.status.busy": "2021-03-22T19:37:15.070406Z",
     "iopub.status.idle": "2021-03-22T19:37:15.071983Z",
     "shell.execute_reply": "2021-03-22T19:37:15.072443Z"
    }
   },
   "outputs": [],
   "source": [
    "doses = dataJson[0]['dataValues'][3:61]"
   ]
  },
  {
   "cell_type": "markdown",
   "metadata": {},
   "source": [
    "Data formatting"
   ]
  },
  {
   "cell_type": "code",
   "execution_count": 8,
   "metadata": {
    "execution": {
     "iopub.execute_input": "2021-03-22T19:37:15.076300Z",
     "iopub.status.busy": "2021-03-22T19:37:15.075287Z",
     "iopub.status.idle": "2021-03-22T19:37:15.076885Z",
     "shell.execute_reply": "2021-03-22T19:37:15.077283Z"
    }
   },
   "outputs": [],
   "source": [
    "zipped = dict(zip(counties, doses))"
   ]
  },
  {
   "cell_type": "code",
   "execution_count": 9,
   "metadata": {
    "execution": {
     "iopub.execute_input": "2021-03-22T19:37:15.083506Z",
     "iopub.status.busy": "2021-03-22T19:37:15.082394Z",
     "iopub.status.idle": "2021-03-22T19:37:15.084120Z",
     "shell.execute_reply": "2021-03-22T19:37:15.084522Z"
    }
   },
   "outputs": [],
   "source": [
    "df = pd.Series(zipped).reset_index()"
   ]
  },
  {
   "cell_type": "code",
   "execution_count": 10,
   "metadata": {
    "execution": {
     "iopub.execute_input": "2021-03-22T19:37:15.088428Z",
     "iopub.status.busy": "2021-03-22T19:37:15.087284Z",
     "iopub.status.idle": "2021-03-22T19:37:15.088998Z",
     "shell.execute_reply": "2021-03-22T19:37:15.089390Z"
    }
   },
   "outputs": [],
   "source": [
    "df.columns = ['location','doses']"
   ]
  },
  {
   "cell_type": "markdown",
   "metadata": {},
   "source": [
    "Grab the overall California total"
   ]
  },
  {
   "cell_type": "code",
   "execution_count": 11,
   "metadata": {
    "execution": {
     "iopub.execute_input": "2021-03-22T19:37:15.093356Z",
     "iopub.status.busy": "2021-03-22T19:37:15.092335Z",
     "iopub.status.idle": "2021-03-22T19:37:15.094043Z",
     "shell.execute_reply": "2021-03-22T19:37:15.094468Z"
    }
   },
   "outputs": [],
   "source": [
    "add = {'location':'California','doses':dataJson[0]['dataValues'][2]}"
   ]
  },
  {
   "cell_type": "code",
   "execution_count": 12,
   "metadata": {
    "execution": {
     "iopub.execute_input": "2021-03-22T19:37:15.101032Z",
     "iopub.status.busy": "2021-03-22T19:37:15.099990Z",
     "iopub.status.idle": "2021-03-22T19:37:15.101603Z",
     "shell.execute_reply": "2021-03-22T19:37:15.102000Z"
    }
   },
   "outputs": [],
   "source": [
    "df = df.append(add, ignore_index=True)"
   ]
  },
  {
   "cell_type": "code",
   "execution_count": 13,
   "metadata": {
    "execution": {
     "iopub.execute_input": "2021-03-22T19:37:15.106744Z",
     "iopub.status.busy": "2021-03-22T19:37:15.105612Z",
     "iopub.status.idle": "2021-03-22T19:37:15.107362Z",
     "shell.execute_reply": "2021-03-22T19:37:15.107759Z"
    }
   },
   "outputs": [],
   "source": [
    "df = df.sort_values(by='location')"
   ]
  },
  {
   "cell_type": "code",
   "execution_count": 14,
   "metadata": {
    "execution": {
     "iopub.execute_input": "2021-03-22T19:37:15.114110Z",
     "iopub.status.busy": "2021-03-22T19:37:15.113023Z",
     "iopub.status.idle": "2021-03-22T19:37:15.114817Z",
     "shell.execute_reply": "2021-03-22T19:37:15.115256Z"
    }
   },
   "outputs": [],
   "source": [
    "df = df[df.location == 'California'].append(df[df.location != 'California']).reset_index(drop=True)"
   ]
  },
  {
   "cell_type": "code",
   "execution_count": null,
   "metadata": {},
   "outputs": [],
   "source": []
  },
  {
   "cell_type": "code",
   "execution_count": 15,
   "metadata": {
    "execution": {
     "iopub.execute_input": "2021-03-22T19:37:15.118362Z",
     "iopub.status.busy": "2021-03-22T19:37:15.117885Z",
     "iopub.status.idle": "2021-03-22T19:37:15.134496Z",
     "shell.execute_reply": "2021-03-22T19:37:15.134034Z"
    }
   },
   "outputs": [],
   "source": [
    "tz = pytz.timezone(\"America/New_York\")"
   ]
  },
  {
   "cell_type": "code",
   "execution_count": 16,
   "metadata": {
    "execution": {
     "iopub.execute_input": "2021-03-22T19:37:15.138428Z",
     "iopub.status.busy": "2021-03-22T19:37:15.137316Z",
     "iopub.status.idle": "2021-03-22T19:37:15.139052Z",
     "shell.execute_reply": "2021-03-22T19:37:15.139422Z"
    }
   },
   "outputs": [],
   "source": [
    "today = datetime.now(tz).date()"
   ]
  },
  {
   "cell_type": "code",
   "execution_count": 17,
   "metadata": {
    "execution": {
     "iopub.execute_input": "2021-03-22T19:37:15.144008Z",
     "iopub.status.busy": "2021-03-22T19:37:15.142860Z",
     "iopub.status.idle": "2021-03-22T19:37:15.144590Z",
     "shell.execute_reply": "2021-03-22T19:37:15.144943Z"
    }
   },
   "outputs": [],
   "source": [
    "data_dir = os.path.join(os.path.abspath(\"\"), \"data\")"
   ]
  },
  {
   "cell_type": "code",
   "execution_count": 18,
   "metadata": {
    "execution": {
     "iopub.execute_input": "2021-03-22T19:37:15.148585Z",
     "iopub.status.busy": "2021-03-22T19:37:15.147915Z",
     "iopub.status.idle": "2021-03-22T19:37:15.151955Z",
     "shell.execute_reply": "2021-03-22T19:37:15.151555Z"
    }
   },
   "outputs": [],
   "source": [
    "df.to_csv(os.path.join(data_dir, f\"{today}.csv\"), index=False)"
   ]
  },
  {
   "cell_type": "code",
   "execution_count": null,
   "metadata": {},
   "outputs": [],
   "source": []
  }
 ],
 "metadata": {
  "kernelspec": {
   "display_name": "Python 3",
   "language": "python",
   "name": "python3"
  },
  "language_info": {
   "codemirror_mode": {
    "name": "ipython",
    "version": 3
   },
   "file_extension": ".py",
   "mimetype": "text/x-python",
   "name": "python",
   "nbconvert_exporter": "python",
   "pygments_lexer": "ipython3",
   "version": "3.8.8"
  }
 },
 "nbformat": 4,
 "nbformat_minor": 4
}
