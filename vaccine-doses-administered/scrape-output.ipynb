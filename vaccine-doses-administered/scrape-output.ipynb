{
 "cells": [
  {
   "cell_type": "markdown",
   "metadata": {},
   "source": [
    "# California COVID vaccinations scrape"
   ]
  },
  {
   "cell_type": "markdown",
   "metadata": {},
   "source": [
    "By [Amy O'Kruk](https://twitter.com/amyokruk)"
   ]
  },
  {
   "cell_type": "markdown",
   "metadata": {},
   "source": [
    "Downloads data on vaccine doses administered by county and statewide from a Tableau-powered dashboard from the California Department of Public Health."
   ]
  },
  {
   "cell_type": "code",
   "execution_count": 1,
   "metadata": {
    "execution": {
     "iopub.execute_input": "2021-03-21T12:22:07.183720Z",
     "iopub.status.busy": "2021-03-21T12:22:07.182935Z",
     "iopub.status.idle": "2021-03-21T12:22:07.696112Z",
     "shell.execute_reply": "2021-03-21T12:22:07.695016Z"
    }
   },
   "outputs": [],
   "source": [
    "import pandas as pd\n",
    "import requests\n",
    "from bs4 import BeautifulSoup\n",
    "import json\n",
    "import re\n",
    "import time\n",
    "from time import gmtime, strftime \n",
    "import os\n",
    "import pytz\n",
    "from datetime import datetime"
   ]
  },
  {
   "cell_type": "markdown",
   "metadata": {},
   "source": [
    "Scrape the dashboard page"
   ]
  },
  {
   "cell_type": "code",
   "execution_count": 2,
   "metadata": {
    "execution": {
     "iopub.execute_input": "2021-03-21T12:22:07.702822Z",
     "iopub.status.busy": "2021-03-21T12:22:07.700112Z",
     "iopub.status.idle": "2021-03-21T12:22:08.732779Z",
     "shell.execute_reply": "2021-03-21T12:22:08.732163Z"
    }
   },
   "outputs": [],
   "source": [
    "url = \"https://public.tableau.com/interactive/views/COVID-19VaccineDashboardPublic/Vaccine?:embed=y&:showVizHome=n&:apiID=host0\"\n",
    "\n",
    "r = requests.get(url)\n",
    "soup = BeautifulSoup(r.text, \"html.parser\")"
   ]
  },
  {
   "cell_type": "code",
   "execution_count": 3,
   "metadata": {
    "execution": {
     "iopub.execute_input": "2021-03-21T12:22:08.738079Z",
     "iopub.status.busy": "2021-03-21T12:22:08.737439Z",
     "iopub.status.idle": "2021-03-21T12:22:08.743809Z",
     "shell.execute_reply": "2021-03-21T12:22:08.743257Z"
    }
   },
   "outputs": [],
   "source": [
    "tableauData = json.loads(soup.find(\"textarea\",{\"id\": \"tsConfigContainer\"}).text)"
   ]
  },
  {
   "cell_type": "markdown",
   "metadata": {},
   "source": [
    "Get the link to the Tableau data"
   ]
  },
  {
   "cell_type": "code",
   "execution_count": 4,
   "metadata": {
    "execution": {
     "iopub.execute_input": "2021-03-21T12:22:08.748805Z",
     "iopub.status.busy": "2021-03-21T12:22:08.747352Z",
     "iopub.status.idle": "2021-03-21T12:22:08.749477Z",
     "shell.execute_reply": "2021-03-21T12:22:08.750072Z"
    }
   },
   "outputs": [],
   "source": [
    "dataUrl = f'https://public.tableau.com{tableauData[\"vizql_root\"]}/bootstrapSession/sessions/{tableauData[\"sessionid\"]}'"
   ]
  },
  {
   "cell_type": "code",
   "execution_count": 5,
   "metadata": {
    "execution": {
     "iopub.execute_input": "2021-03-21T12:22:08.757108Z",
     "iopub.status.busy": "2021-03-21T12:22:08.756495Z",
     "iopub.status.idle": "2021-03-21T12:22:09.247624Z",
     "shell.execute_reply": "2021-03-21T12:22:09.247019Z"
    }
   },
   "outputs": [],
   "source": [
    "r = requests.post(dataUrl, data= {\n",
    "    \"sheet_id\": tableauData[\"sheetId\"],\n",
    "})\n",
    "\n",
    "dataReg = re.search('\\d+;({.*})\\d+;({.*})', r.text, re.MULTILINE)\n",
    "data1 = json.loads(dataReg.group(2))\n",
    "\n",
    "dataJson = data1[\"secondaryInfo\"][\"presModelMap\"][\"dataDictionary\"][\"presModelHolder\"][\"genDataDictionaryPresModel\"][\"dataSegments\"][\"0\"][\"dataColumns\"]"
   ]
  },
  {
   "cell_type": "markdown",
   "metadata": {},
   "source": [
    "Isolate what you want"
   ]
  },
  {
   "cell_type": "code",
   "execution_count": 6,
   "metadata": {
    "execution": {
     "iopub.execute_input": "2021-03-21T12:22:09.252277Z",
     "iopub.status.busy": "2021-03-21T12:22:09.251674Z",
     "iopub.status.idle": "2021-03-21T12:22:09.255661Z",
     "shell.execute_reply": "2021-03-21T12:22:09.255053Z"
    }
   },
   "outputs": [],
   "source": [
    "counties = dataJson[2]['dataValues'][:58]"
   ]
  },
  {
   "cell_type": "code",
   "execution_count": 7,
   "metadata": {
    "execution": {
     "iopub.execute_input": "2021-03-21T12:22:09.259665Z",
     "iopub.status.busy": "2021-03-21T12:22:09.259088Z",
     "iopub.status.idle": "2021-03-21T12:22:09.263669Z",
     "shell.execute_reply": "2021-03-21T12:22:09.262619Z"
    }
   },
   "outputs": [],
   "source": [
    "doses = dataJson[0]['dataValues'][3:61]"
   ]
  },
  {
   "cell_type": "markdown",
   "metadata": {},
   "source": [
    "Data formatting"
   ]
  },
  {
   "cell_type": "code",
   "execution_count": 8,
   "metadata": {
    "execution": {
     "iopub.execute_input": "2021-03-21T12:22:09.267507Z",
     "iopub.status.busy": "2021-03-21T12:22:09.266857Z",
     "iopub.status.idle": "2021-03-21T12:22:09.271462Z",
     "shell.execute_reply": "2021-03-21T12:22:09.270610Z"
    }
   },
   "outputs": [],
   "source": [
    "zipped = dict(zip(counties, doses))"
   ]
  },
  {
   "cell_type": "code",
   "execution_count": 9,
   "metadata": {
    "execution": {
     "iopub.execute_input": "2021-03-21T12:22:09.278224Z",
     "iopub.status.busy": "2021-03-21T12:22:09.277550Z",
     "iopub.status.idle": "2021-03-21T12:22:09.281773Z",
     "shell.execute_reply": "2021-03-21T12:22:09.281177Z"
    }
   },
   "outputs": [],
   "source": [
    "df = pd.Series(zipped).reset_index()"
   ]
  },
  {
   "cell_type": "code",
   "execution_count": 10,
   "metadata": {
    "execution": {
     "iopub.execute_input": "2021-03-21T12:22:09.286045Z",
     "iopub.status.busy": "2021-03-21T12:22:09.285436Z",
     "iopub.status.idle": "2021-03-21T12:22:09.289593Z",
     "shell.execute_reply": "2021-03-21T12:22:09.289055Z"
    }
   },
   "outputs": [],
   "source": [
    "df.columns = ['location','doses']"
   ]
  },
  {
   "cell_type": "markdown",
   "metadata": {},
   "source": [
    "Grab the overall California total"
   ]
  },
  {
   "cell_type": "code",
   "execution_count": 11,
   "metadata": {
    "execution": {
     "iopub.execute_input": "2021-03-21T12:22:09.293684Z",
     "iopub.status.busy": "2021-03-21T12:22:09.293056Z",
     "iopub.status.idle": "2021-03-21T12:22:09.296722Z",
     "shell.execute_reply": "2021-03-21T12:22:09.297226Z"
    }
   },
   "outputs": [],
   "source": [
    "add = {'location':'California','doses':dataJson[0]['dataValues'][2]}"
   ]
  },
  {
   "cell_type": "code",
   "execution_count": 12,
   "metadata": {
    "execution": {
     "iopub.execute_input": "2021-03-21T12:22:09.307170Z",
     "iopub.status.busy": "2021-03-21T12:22:09.306514Z",
     "iopub.status.idle": "2021-03-21T12:22:09.310634Z",
     "shell.execute_reply": "2021-03-21T12:22:09.310065Z"
    }
   },
   "outputs": [],
   "source": [
    "df = df.append(add, ignore_index=True)"
   ]
  },
  {
   "cell_type": "code",
   "execution_count": 13,
   "metadata": {
    "execution": {
     "iopub.execute_input": "2021-03-21T12:22:09.315716Z",
     "iopub.status.busy": "2021-03-21T12:22:09.315115Z",
     "iopub.status.idle": "2021-03-21T12:22:09.329791Z",
     "shell.execute_reply": "2021-03-21T12:22:09.329233Z"
    }
   },
   "outputs": [],
   "source": [
    "df = df.sort_values(by='location')"
   ]
  },
  {
   "cell_type": "code",
   "execution_count": 14,
   "metadata": {
    "execution": {
     "iopub.execute_input": "2021-03-21T12:22:09.337662Z",
     "iopub.status.busy": "2021-03-21T12:22:09.337054Z",
     "iopub.status.idle": "2021-03-21T12:22:09.340931Z",
     "shell.execute_reply": "2021-03-21T12:22:09.341387Z"
    }
   },
   "outputs": [],
   "source": [
    "df = df[df.location == 'California'].append(df[df.location != 'California']).reset_index(drop=True)"
   ]
  },
  {
   "cell_type": "code",
   "execution_count": null,
   "metadata": {},
   "outputs": [],
   "source": []
  },
  {
   "cell_type": "code",
   "execution_count": 15,
   "metadata": {
    "execution": {
     "iopub.execute_input": "2021-03-21T12:22:09.345514Z",
     "iopub.status.busy": "2021-03-21T12:22:09.344921Z",
     "iopub.status.idle": "2021-03-21T12:22:09.560121Z",
     "shell.execute_reply": "2021-03-21T12:22:09.559521Z"
    }
   },
   "outputs": [],
   "source": [
    "tz = pytz.timezone(\"America/New_York\")"
   ]
  },
  {
   "cell_type": "code",
   "execution_count": 16,
   "metadata": {
    "execution": {
     "iopub.execute_input": "2021-03-21T12:22:09.564310Z",
     "iopub.status.busy": "2021-03-21T12:22:09.563605Z",
     "iopub.status.idle": "2021-03-21T12:22:09.566569Z",
     "shell.execute_reply": "2021-03-21T12:22:09.565511Z"
    }
   },
   "outputs": [],
   "source": [
    "today = datetime.now(tz).date()"
   ]
  },
  {
   "cell_type": "code",
   "execution_count": 17,
   "metadata": {
    "execution": {
     "iopub.execute_input": "2021-03-21T12:22:09.571556Z",
     "iopub.status.busy": "2021-03-21T12:22:09.570428Z",
     "iopub.status.idle": "2021-03-21T12:22:09.575483Z",
     "shell.execute_reply": "2021-03-21T12:22:09.574822Z"
    }
   },
   "outputs": [],
   "source": [
    "data_dir = os.path.join(os.path.abspath(\"\"), \"data\")"
   ]
  },
  {
   "cell_type": "code",
   "execution_count": 18,
   "metadata": {
    "execution": {
     "iopub.execute_input": "2021-03-21T12:22:09.580396Z",
     "iopub.status.busy": "2021-03-21T12:22:09.579550Z",
     "iopub.status.idle": "2021-03-21T12:22:09.584286Z",
     "shell.execute_reply": "2021-03-21T12:22:09.584820Z"
    }
   },
   "outputs": [],
   "source": [
    "df.to_csv(os.path.join(data_dir, f\"{today}.csv\"), index=False)"
   ]
  },
  {
   "cell_type": "code",
   "execution_count": null,
   "metadata": {},
   "outputs": [],
   "source": []
  }
 ],
 "metadata": {
  "kernelspec": {
   "display_name": "Python 3",
   "language": "python",
   "name": "python3"
  },
  "language_info": {
   "codemirror_mode": {
    "name": "ipython",
    "version": 3
   },
   "file_extension": ".py",
   "mimetype": "text/x-python",
   "name": "python",
   "nbconvert_exporter": "python",
   "pygments_lexer": "ipython3",
   "version": "3.8.8"
  }
 },
 "nbformat": 4,
 "nbformat_minor": 4
}
