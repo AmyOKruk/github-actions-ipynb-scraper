{
 "cells": [
  {
   "cell_type": "markdown",
   "metadata": {},
   "source": [
    "# California COVID vaccinations scrape"
   ]
  },
  {
   "cell_type": "markdown",
   "metadata": {},
   "source": [
    "By [Amy O'Kruk](https://twitter.com/amyokruk)"
   ]
  },
  {
   "cell_type": "markdown",
   "metadata": {},
   "source": [
    "Downloads data on vaccine doses administered by county and statewide from a Tableau-powered dashboard from the California Department of Public Health."
   ]
  },
  {
   "cell_type": "code",
   "execution_count": 1,
   "metadata": {
    "execution": {
     "iopub.execute_input": "2021-03-24T23:54:53.889165Z",
     "iopub.status.busy": "2021-03-24T23:54:53.888247Z",
     "iopub.status.idle": "2021-03-24T23:54:54.338047Z",
     "shell.execute_reply": "2021-03-24T23:54:54.337436Z"
    }
   },
   "outputs": [],
   "source": [
    "import pandas as pd\n",
    "import requests\n",
    "from bs4 import BeautifulSoup\n",
    "import json\n",
    "import re\n",
    "import time\n",
    "from time import gmtime, strftime \n",
    "import os\n",
    "import pytz\n",
    "from datetime import datetime"
   ]
  },
  {
   "cell_type": "markdown",
   "metadata": {},
   "source": [
    "Scrape the dashboard page"
   ]
  },
  {
   "cell_type": "code",
   "execution_count": 2,
   "metadata": {
    "execution": {
     "iopub.execute_input": "2021-03-24T23:54:54.341194Z",
     "iopub.status.busy": "2021-03-24T23:54:54.340547Z",
     "iopub.status.idle": "2021-03-24T23:54:54.961278Z",
     "shell.execute_reply": "2021-03-24T23:54:54.960097Z"
    }
   },
   "outputs": [],
   "source": [
    "url = \"https://public.tableau.com/interactive/views/COVID-19VaccineDashboardPublic/Vaccine?:embed=y&:showVizHome=n&:apiID=host0\"\n",
    "\n",
    "r = requests.get(url)\n",
    "soup = BeautifulSoup(r.text, \"html.parser\")"
   ]
  },
  {
   "cell_type": "code",
   "execution_count": 3,
   "metadata": {
    "execution": {
     "iopub.execute_input": "2021-03-24T23:54:54.967750Z",
     "iopub.status.busy": "2021-03-24T23:54:54.966668Z",
     "iopub.status.idle": "2021-03-24T23:54:54.969463Z",
     "shell.execute_reply": "2021-03-24T23:54:54.968888Z"
    }
   },
   "outputs": [],
   "source": [
    "tableauData = json.loads(soup.find(\"textarea\",{\"id\": \"tsConfigContainer\"}).text)"
   ]
  },
  {
   "cell_type": "markdown",
   "metadata": {},
   "source": [
    "Get the link to the Tableau data"
   ]
  },
  {
   "cell_type": "code",
   "execution_count": 4,
   "metadata": {
    "execution": {
     "iopub.execute_input": "2021-03-24T23:54:54.974538Z",
     "iopub.status.busy": "2021-03-24T23:54:54.973039Z",
     "iopub.status.idle": "2021-03-24T23:54:54.975279Z",
     "shell.execute_reply": "2021-03-24T23:54:54.975753Z"
    }
   },
   "outputs": [],
   "source": [
    "dataUrl = f'https://public.tableau.com{tableauData[\"vizql_root\"]}/bootstrapSession/sessions/{tableauData[\"sessionid\"]}'"
   ]
  },
  {
   "cell_type": "code",
   "execution_count": 5,
   "metadata": {
    "execution": {
     "iopub.execute_input": "2021-03-24T23:54:54.986148Z",
     "iopub.status.busy": "2021-03-24T23:54:54.985579Z",
     "iopub.status.idle": "2021-03-24T23:54:55.308694Z",
     "shell.execute_reply": "2021-03-24T23:54:55.308037Z"
    }
   },
   "outputs": [],
   "source": [
    "r = requests.post(dataUrl, data= {\n",
    "    \"sheet_id\": tableauData[\"sheetId\"],\n",
    "})\n",
    "\n",
    "dataReg = re.search('\\d+;({.*})\\d+;({.*})', r.text, re.MULTILINE)\n",
    "data1 = json.loads(dataReg.group(2))\n",
    "\n",
    "dataJson = data1[\"secondaryInfo\"][\"presModelMap\"][\"dataDictionary\"][\"presModelHolder\"][\"genDataDictionaryPresModel\"][\"dataSegments\"][\"0\"][\"dataColumns\"]"
   ]
  },
  {
   "cell_type": "markdown",
   "metadata": {},
   "source": [
    "Isolate what you want"
   ]
  },
  {
   "cell_type": "code",
   "execution_count": 6,
   "metadata": {
    "execution": {
     "iopub.execute_input": "2021-03-24T23:54:55.314409Z",
     "iopub.status.busy": "2021-03-24T23:54:55.312877Z",
     "iopub.status.idle": "2021-03-24T23:54:55.315009Z",
     "shell.execute_reply": "2021-03-24T23:54:55.315561Z"
    }
   },
   "outputs": [],
   "source": [
    "counties = dataJson[2]['dataValues'][:58]"
   ]
  },
  {
   "cell_type": "code",
   "execution_count": 7,
   "metadata": {
    "execution": {
     "iopub.execute_input": "2021-03-24T23:54:55.320322Z",
     "iopub.status.busy": "2021-03-24T23:54:55.318982Z",
     "iopub.status.idle": "2021-03-24T23:54:55.321114Z",
     "shell.execute_reply": "2021-03-24T23:54:55.321561Z"
    }
   },
   "outputs": [],
   "source": [
    "doses = dataJson[0]['dataValues'][3:61]"
   ]
  },
  {
   "cell_type": "markdown",
   "metadata": {},
   "source": [
    "Data formatting"
   ]
  },
  {
   "cell_type": "code",
   "execution_count": 8,
   "metadata": {
    "execution": {
     "iopub.execute_input": "2021-03-24T23:54:55.326634Z",
     "iopub.status.busy": "2021-03-24T23:54:55.325183Z",
     "iopub.status.idle": "2021-03-24T23:54:55.327536Z",
     "shell.execute_reply": "2021-03-24T23:54:55.328009Z"
    }
   },
   "outputs": [],
   "source": [
    "zipped = dict(zip(counties, doses))"
   ]
  },
  {
   "cell_type": "code",
   "execution_count": 9,
   "metadata": {
    "execution": {
     "iopub.execute_input": "2021-03-24T23:54:55.334463Z",
     "iopub.status.busy": "2021-03-24T23:54:55.333760Z",
     "iopub.status.idle": "2021-03-24T23:54:55.336718Z",
     "shell.execute_reply": "2021-03-24T23:54:55.336169Z"
    }
   },
   "outputs": [],
   "source": [
    "df = pd.Series(zipped).reset_index()"
   ]
  },
  {
   "cell_type": "code",
   "execution_count": 10,
   "metadata": {
    "execution": {
     "iopub.execute_input": "2021-03-24T23:54:55.341579Z",
     "iopub.status.busy": "2021-03-24T23:54:55.340192Z",
     "iopub.status.idle": "2021-03-24T23:54:55.342173Z",
     "shell.execute_reply": "2021-03-24T23:54:55.342631Z"
    }
   },
   "outputs": [],
   "source": [
    "df.columns = ['location','doses']"
   ]
  },
  {
   "cell_type": "markdown",
   "metadata": {},
   "source": [
    "Grab the overall California total"
   ]
  },
  {
   "cell_type": "code",
   "execution_count": 11,
   "metadata": {
    "execution": {
     "iopub.execute_input": "2021-03-24T23:54:55.347374Z",
     "iopub.status.busy": "2021-03-24T23:54:55.346113Z",
     "iopub.status.idle": "2021-03-24T23:54:55.348035Z",
     "shell.execute_reply": "2021-03-24T23:54:55.348517Z"
    }
   },
   "outputs": [],
   "source": [
    "add = {'location':'California','doses':dataJson[0]['dataValues'][2]}"
   ]
  },
  {
   "cell_type": "code",
   "execution_count": 12,
   "metadata": {
    "execution": {
     "iopub.execute_input": "2021-03-24T23:54:55.356215Z",
     "iopub.status.busy": "2021-03-24T23:54:55.354719Z",
     "iopub.status.idle": "2021-03-24T23:54:55.356953Z",
     "shell.execute_reply": "2021-03-24T23:54:55.357423Z"
    }
   },
   "outputs": [],
   "source": [
    "df = df.append(add, ignore_index=True)"
   ]
  },
  {
   "cell_type": "code",
   "execution_count": 13,
   "metadata": {
    "execution": {
     "iopub.execute_input": "2021-03-24T23:54:55.363073Z",
     "iopub.status.busy": "2021-03-24T23:54:55.361494Z",
     "iopub.status.idle": "2021-03-24T23:54:55.363698Z",
     "shell.execute_reply": "2021-03-24T23:54:55.364136Z"
    }
   },
   "outputs": [],
   "source": [
    "df = df.sort_values(by='location')"
   ]
  },
  {
   "cell_type": "code",
   "execution_count": 14,
   "metadata": {
    "execution": {
     "iopub.execute_input": "2021-03-24T23:54:55.371577Z",
     "iopub.status.busy": "2021-03-24T23:54:55.370048Z",
     "iopub.status.idle": "2021-03-24T23:54:55.372259Z",
     "shell.execute_reply": "2021-03-24T23:54:55.372698Z"
    }
   },
   "outputs": [],
   "source": [
    "df = df[df.location == 'California'].append(df[df.location != 'California']).reset_index(drop=True)"
   ]
  },
  {
   "cell_type": "code",
   "execution_count": null,
   "metadata": {},
   "outputs": [],
   "source": []
  },
  {
   "cell_type": "code",
   "execution_count": 15,
   "metadata": {
    "execution": {
     "iopub.execute_input": "2021-03-24T23:54:55.376337Z",
     "iopub.status.busy": "2021-03-24T23:54:55.375803Z",
     "iopub.status.idle": "2021-03-24T23:54:55.394604Z",
     "shell.execute_reply": "2021-03-24T23:54:55.395070Z"
    }
   },
   "outputs": [],
   "source": [
    "tz = pytz.timezone(\"America/New_York\")"
   ]
  },
  {
   "cell_type": "code",
   "execution_count": 16,
   "metadata": {
    "execution": {
     "iopub.execute_input": "2021-03-24T23:54:55.400235Z",
     "iopub.status.busy": "2021-03-24T23:54:55.398522Z",
     "iopub.status.idle": "2021-03-24T23:54:55.401065Z",
     "shell.execute_reply": "2021-03-24T23:54:55.401580Z"
    }
   },
   "outputs": [],
   "source": [
    "today = datetime.now(tz).date()"
   ]
  },
  {
   "cell_type": "code",
   "execution_count": 17,
   "metadata": {
    "execution": {
     "iopub.execute_input": "2021-03-24T23:54:55.405395Z",
     "iopub.status.busy": "2021-03-24T23:54:55.404706Z",
     "iopub.status.idle": "2021-03-24T23:54:55.407618Z",
     "shell.execute_reply": "2021-03-24T23:54:55.407045Z"
    }
   },
   "outputs": [],
   "source": [
    "data_dir = os.path.join(os.path.abspath(\"\"), \"data\")"
   ]
  },
  {
   "cell_type": "code",
   "execution_count": 18,
   "metadata": {
    "execution": {
     "iopub.execute_input": "2021-03-24T23:54:55.413398Z",
     "iopub.status.busy": "2021-03-24T23:54:55.410938Z",
     "iopub.status.idle": "2021-03-24T23:54:55.415284Z",
     "shell.execute_reply": "2021-03-24T23:54:55.415755Z"
    }
   },
   "outputs": [],
   "source": [
    "df.to_csv(os.path.join(data_dir, f\"{today}.csv\"), index=False)"
   ]
  },
  {
   "cell_type": "code",
   "execution_count": null,
   "metadata": {},
   "outputs": [],
   "source": []
  }
 ],
 "metadata": {
  "kernelspec": {
   "display_name": "Python 3",
   "language": "python",
   "name": "python3"
  },
  "language_info": {
   "codemirror_mode": {
    "name": "ipython",
    "version": 3
   },
   "file_extension": ".py",
   "mimetype": "text/x-python",
   "name": "python",
   "nbconvert_exporter": "python",
   "pygments_lexer": "ipython3",
   "version": "3.8.8"
  }
 },
 "nbformat": 4,
 "nbformat_minor": 4
}
