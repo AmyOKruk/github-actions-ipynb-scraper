{
 "cells": [
  {
   "cell_type": "markdown",
   "metadata": {},
   "source": [
    "# California COVID vaccinations scrape"
   ]
  },
  {
   "cell_type": "markdown",
   "metadata": {},
   "source": [
    "By [Amy O'Kruk](https://twitter.com/amyokruk)"
   ]
  },
  {
   "cell_type": "markdown",
   "metadata": {},
   "source": [
    "Downloads data on vaccine doses administered by county and statewide from a Tableau-powered dashboard from the California Department of Public Health."
   ]
  },
  {
   "cell_type": "code",
   "execution_count": 1,
   "metadata": {
    "execution": {
     "iopub.execute_input": "2021-03-20T09:43:45.704455Z",
     "iopub.status.busy": "2021-03-20T09:43:45.703831Z",
     "iopub.status.idle": "2021-03-20T09:43:46.106041Z",
     "shell.execute_reply": "2021-03-20T09:43:46.105025Z"
    }
   },
   "outputs": [],
   "source": [
    "import pandas as pd\n",
    "import requests\n",
    "from bs4 import BeautifulSoup\n",
    "import json\n",
    "import re\n",
    "import time\n",
    "from time import gmtime, strftime \n",
    "import os\n",
    "import pytz\n",
    "from datetime import datetime"
   ]
  },
  {
   "cell_type": "markdown",
   "metadata": {},
   "source": [
    "Scrape the dashboard page"
   ]
  },
  {
   "cell_type": "code",
   "execution_count": 2,
   "metadata": {
    "execution": {
     "iopub.execute_input": "2021-03-20T09:43:46.110286Z",
     "iopub.status.busy": "2021-03-20T09:43:46.109855Z",
     "iopub.status.idle": "2021-03-20T09:43:46.563663Z",
     "shell.execute_reply": "2021-03-20T09:43:46.562781Z"
    }
   },
   "outputs": [],
   "source": [
    "url = \"https://public.tableau.com/interactive/views/COVID-19VaccineDashboardPublic/Vaccine?:embed=y&:showVizHome=n&:apiID=host0\"\n",
    "\n",
    "r = requests.get(url)\n",
    "soup = BeautifulSoup(r.text, \"html.parser\")"
   ]
  },
  {
   "cell_type": "code",
   "execution_count": 3,
   "metadata": {
    "execution": {
     "iopub.execute_input": "2021-03-20T09:43:46.567157Z",
     "iopub.status.busy": "2021-03-20T09:43:46.566793Z",
     "iopub.status.idle": "2021-03-20T09:43:46.569728Z",
     "shell.execute_reply": "2021-03-20T09:43:46.570017Z"
    }
   },
   "outputs": [],
   "source": [
    "tableauData = json.loads(soup.find(\"textarea\",{\"id\": \"tsConfigContainer\"}).text)"
   ]
  },
  {
   "cell_type": "markdown",
   "metadata": {},
   "source": [
    "Get the link to the Tableau data"
   ]
  },
  {
   "cell_type": "code",
   "execution_count": 4,
   "metadata": {
    "execution": {
     "iopub.execute_input": "2021-03-20T09:43:46.573012Z",
     "iopub.status.busy": "2021-03-20T09:43:46.572599Z",
     "iopub.status.idle": "2021-03-20T09:43:46.576001Z",
     "shell.execute_reply": "2021-03-20T09:43:46.575643Z"
    }
   },
   "outputs": [],
   "source": [
    "dataUrl = f'https://public.tableau.com{tableauData[\"vizql_root\"]}/bootstrapSession/sessions/{tableauData[\"sessionid\"]}'"
   ]
  },
  {
   "cell_type": "code",
   "execution_count": 5,
   "metadata": {
    "execution": {
     "iopub.execute_input": "2021-03-20T09:43:46.580828Z",
     "iopub.status.busy": "2021-03-20T09:43:46.580337Z",
     "iopub.status.idle": "2021-03-20T09:43:46.838646Z",
     "shell.execute_reply": "2021-03-20T09:43:46.838036Z"
    }
   },
   "outputs": [],
   "source": [
    "r = requests.post(dataUrl, data= {\n",
    "    \"sheet_id\": tableauData[\"sheetId\"],\n",
    "})\n",
    "\n",
    "dataReg = re.search('\\d+;({.*})\\d+;({.*})', r.text, re.MULTILINE)\n",
    "data1 = json.loads(dataReg.group(2))\n",
    "\n",
    "dataJson = data1[\"secondaryInfo\"][\"presModelMap\"][\"dataDictionary\"][\"presModelHolder\"][\"genDataDictionaryPresModel\"][\"dataSegments\"][\"0\"][\"dataColumns\"]"
   ]
  },
  {
   "cell_type": "markdown",
   "metadata": {},
   "source": [
    "Isolate what you want"
   ]
  },
  {
   "cell_type": "code",
   "execution_count": 6,
   "metadata": {
    "execution": {
     "iopub.execute_input": "2021-03-20T09:43:46.842948Z",
     "iopub.status.busy": "2021-03-20T09:43:46.841477Z",
     "iopub.status.idle": "2021-03-20T09:43:46.843648Z",
     "shell.execute_reply": "2021-03-20T09:43:46.844178Z"
    }
   },
   "outputs": [],
   "source": [
    "counties = dataJson[2]['dataValues'][:58]"
   ]
  },
  {
   "cell_type": "code",
   "execution_count": 7,
   "metadata": {
    "execution": {
     "iopub.execute_input": "2021-03-20T09:43:46.848122Z",
     "iopub.status.busy": "2021-03-20T09:43:46.847092Z",
     "iopub.status.idle": "2021-03-20T09:43:46.848531Z",
     "shell.execute_reply": "2021-03-20T09:43:46.848844Z"
    }
   },
   "outputs": [],
   "source": [
    "doses = dataJson[0]['dataValues'][3:61]"
   ]
  },
  {
   "cell_type": "markdown",
   "metadata": {},
   "source": [
    "Data formatting"
   ]
  },
  {
   "cell_type": "code",
   "execution_count": 8,
   "metadata": {
    "execution": {
     "iopub.execute_input": "2021-03-20T09:43:46.851470Z",
     "iopub.status.busy": "2021-03-20T09:43:46.851110Z",
     "iopub.status.idle": "2021-03-20T09:43:46.853087Z",
     "shell.execute_reply": "2021-03-20T09:43:46.852665Z"
    }
   },
   "outputs": [],
   "source": [
    "zipped = dict(zip(counties, doses))"
   ]
  },
  {
   "cell_type": "code",
   "execution_count": 9,
   "metadata": {
    "execution": {
     "iopub.execute_input": "2021-03-20T09:43:46.857427Z",
     "iopub.status.busy": "2021-03-20T09:43:46.857062Z",
     "iopub.status.idle": "2021-03-20T09:43:46.858808Z",
     "shell.execute_reply": "2021-03-20T09:43:46.858425Z"
    }
   },
   "outputs": [],
   "source": [
    "df = pd.Series(zipped).reset_index()"
   ]
  },
  {
   "cell_type": "code",
   "execution_count": 10,
   "metadata": {
    "execution": {
     "iopub.execute_input": "2021-03-20T09:43:46.861398Z",
     "iopub.status.busy": "2021-03-20T09:43:46.861037Z",
     "iopub.status.idle": "2021-03-20T09:43:46.862805Z",
     "shell.execute_reply": "2021-03-20T09:43:46.862424Z"
    }
   },
   "outputs": [],
   "source": [
    "df.columns = ['location','doses']"
   ]
  },
  {
   "cell_type": "markdown",
   "metadata": {},
   "source": [
    "Grab the overall California total"
   ]
  },
  {
   "cell_type": "code",
   "execution_count": 11,
   "metadata": {
    "execution": {
     "iopub.execute_input": "2021-03-20T09:43:46.865325Z",
     "iopub.status.busy": "2021-03-20T09:43:46.864962Z",
     "iopub.status.idle": "2021-03-20T09:43:46.866673Z",
     "shell.execute_reply": "2021-03-20T09:43:46.866334Z"
    }
   },
   "outputs": [],
   "source": [
    "add = {'location':'California','doses':dataJson[0]['dataValues'][2]}"
   ]
  },
  {
   "cell_type": "code",
   "execution_count": 12,
   "metadata": {
    "execution": {
     "iopub.execute_input": "2021-03-20T09:43:46.871797Z",
     "iopub.status.busy": "2021-03-20T09:43:46.871435Z",
     "iopub.status.idle": "2021-03-20T09:43:46.873163Z",
     "shell.execute_reply": "2021-03-20T09:43:46.872786Z"
    }
   },
   "outputs": [],
   "source": [
    "df = df.append(add, ignore_index=True)"
   ]
  },
  {
   "cell_type": "code",
   "execution_count": 13,
   "metadata": {
    "execution": {
     "iopub.execute_input": "2021-03-20T09:43:46.876182Z",
     "iopub.status.busy": "2021-03-20T09:43:46.875823Z",
     "iopub.status.idle": "2021-03-20T09:43:46.877514Z",
     "shell.execute_reply": "2021-03-20T09:43:46.877199Z"
    }
   },
   "outputs": [],
   "source": [
    "df = df.sort_values(by='location')"
   ]
  },
  {
   "cell_type": "code",
   "execution_count": 14,
   "metadata": {
    "execution": {
     "iopub.execute_input": "2021-03-20T09:43:46.881566Z",
     "iopub.status.busy": "2021-03-20T09:43:46.881207Z",
     "iopub.status.idle": "2021-03-20T09:43:46.882882Z",
     "shell.execute_reply": "2021-03-20T09:43:46.882581Z"
    }
   },
   "outputs": [],
   "source": [
    "df = df[df.location == 'California'].append(df[df.location != 'California']).reset_index(drop=True)"
   ]
  },
  {
   "cell_type": "code",
   "execution_count": null,
   "metadata": {},
   "outputs": [],
   "source": []
  },
  {
   "cell_type": "code",
   "execution_count": 15,
   "metadata": {
    "execution": {
     "iopub.execute_input": "2021-03-20T09:43:46.885606Z",
     "iopub.status.busy": "2021-03-20T09:43:46.885246Z",
     "iopub.status.idle": "2021-03-20T09:43:46.898545Z",
     "shell.execute_reply": "2021-03-20T09:43:46.898211Z"
    }
   },
   "outputs": [],
   "source": [
    "tz = pytz.timezone(\"America/New_York\")"
   ]
  },
  {
   "cell_type": "code",
   "execution_count": 16,
   "metadata": {
    "execution": {
     "iopub.execute_input": "2021-03-20T09:43:46.901444Z",
     "iopub.status.busy": "2021-03-20T09:43:46.901081Z",
     "iopub.status.idle": "2021-03-20T09:43:46.902496Z",
     "shell.execute_reply": "2021-03-20T09:43:46.902779Z"
    }
   },
   "outputs": [],
   "source": [
    "today = datetime.now(tz).date()"
   ]
  },
  {
   "cell_type": "code",
   "execution_count": 17,
   "metadata": {
    "execution": {
     "iopub.execute_input": "2021-03-20T09:43:46.905343Z",
     "iopub.status.busy": "2021-03-20T09:43:46.904976Z",
     "iopub.status.idle": "2021-03-20T09:43:46.906669Z",
     "shell.execute_reply": "2021-03-20T09:43:46.906333Z"
    }
   },
   "outputs": [],
   "source": [
    "data_dir = os.path.join(os.path.abspath(\"\"), \"data\")"
   ]
  },
  {
   "cell_type": "code",
   "execution_count": 18,
   "metadata": {
    "execution": {
     "iopub.execute_input": "2021-03-20T09:43:46.909697Z",
     "iopub.status.busy": "2021-03-20T09:43:46.908887Z",
     "iopub.status.idle": "2021-03-20T09:43:46.912807Z",
     "shell.execute_reply": "2021-03-20T09:43:46.912467Z"
    }
   },
   "outputs": [],
   "source": [
    "df.to_csv(os.path.join(data_dir, f\"{today}.csv\"), index=False)"
   ]
  },
  {
   "cell_type": "code",
   "execution_count": null,
   "metadata": {},
   "outputs": [],
   "source": []
  }
 ],
 "metadata": {
  "kernelspec": {
   "display_name": "Python 3",
   "language": "python",
   "name": "python3"
  },
  "language_info": {
   "codemirror_mode": {
    "name": "ipython",
    "version": 3
   },
   "file_extension": ".py",
   "mimetype": "text/x-python",
   "name": "python",
   "nbconvert_exporter": "python",
   "pygments_lexer": "ipython3",
   "version": "3.8.8"
  }
 },
 "nbformat": 4,
 "nbformat_minor": 4
}
