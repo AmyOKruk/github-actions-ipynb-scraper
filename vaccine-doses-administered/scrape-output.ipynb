{
 "cells": [
  {
   "cell_type": "markdown",
   "metadata": {},
   "source": [
    "# California COVID vaccinations scrape"
   ]
  },
  {
   "cell_type": "markdown",
   "metadata": {},
   "source": [
    "By [Amy O'Kruk](https://twitter.com/amyokruk)"
   ]
  },
  {
   "cell_type": "markdown",
   "metadata": {},
   "source": [
    "Downloads data on vaccine doses administered by county and statewide from a Tableau-powered dashboard from the California Department of Public Health."
   ]
  },
  {
   "cell_type": "code",
   "execution_count": 1,
   "metadata": {
    "execution": {
     "iopub.execute_input": "2021-03-25T07:46:44.449287Z",
     "iopub.status.busy": "2021-03-25T07:46:44.448751Z",
     "iopub.status.idle": "2021-03-25T07:46:44.988054Z",
     "shell.execute_reply": "2021-03-25T07:46:44.987071Z"
    }
   },
   "outputs": [],
   "source": [
    "import pandas as pd\n",
    "import requests\n",
    "from bs4 import BeautifulSoup\n",
    "import json\n",
    "import re\n",
    "import time\n",
    "from time import gmtime, strftime \n",
    "import os\n",
    "import pytz\n",
    "from datetime import datetime"
   ]
  },
  {
   "cell_type": "markdown",
   "metadata": {},
   "source": [
    "Scrape the dashboard page"
   ]
  },
  {
   "cell_type": "code",
   "execution_count": 2,
   "metadata": {
    "execution": {
     "iopub.execute_input": "2021-03-25T07:46:44.994440Z",
     "iopub.status.busy": "2021-03-25T07:46:44.991370Z",
     "iopub.status.idle": "2021-03-25T07:46:45.380258Z",
     "shell.execute_reply": "2021-03-25T07:46:45.379740Z"
    }
   },
   "outputs": [],
   "source": [
    "url = \"https://public.tableau.com/interactive/views/COVID-19VaccineDashboardPublic/Vaccine?:embed=y&:showVizHome=n&:apiID=host0\"\n",
    "\n",
    "r = requests.get(url)\n",
    "soup = BeautifulSoup(r.text, \"html.parser\")"
   ]
  },
  {
   "cell_type": "code",
   "execution_count": 3,
   "metadata": {
    "execution": {
     "iopub.execute_input": "2021-03-25T07:46:45.385396Z",
     "iopub.status.busy": "2021-03-25T07:46:45.384878Z",
     "iopub.status.idle": "2021-03-25T07:46:45.387832Z",
     "shell.execute_reply": "2021-03-25T07:46:45.388267Z"
    }
   },
   "outputs": [],
   "source": [
    "tableauData = json.loads(soup.find(\"textarea\",{\"id\": \"tsConfigContainer\"}).text)"
   ]
  },
  {
   "cell_type": "markdown",
   "metadata": {},
   "source": [
    "Get the link to the Tableau data"
   ]
  },
  {
   "cell_type": "code",
   "execution_count": 4,
   "metadata": {
    "execution": {
     "iopub.execute_input": "2021-03-25T07:46:45.391862Z",
     "iopub.status.busy": "2021-03-25T07:46:45.391387Z",
     "iopub.status.idle": "2021-03-25T07:46:45.394433Z",
     "shell.execute_reply": "2021-03-25T07:46:45.394873Z"
    }
   },
   "outputs": [],
   "source": [
    "dataUrl = f'https://public.tableau.com{tableauData[\"vizql_root\"]}/bootstrapSession/sessions/{tableauData[\"sessionid\"]}'"
   ]
  },
  {
   "cell_type": "code",
   "execution_count": 5,
   "metadata": {
    "execution": {
     "iopub.execute_input": "2021-03-25T07:46:45.402269Z",
     "iopub.status.busy": "2021-03-25T07:46:45.401737Z",
     "iopub.status.idle": "2021-03-25T07:46:45.718572Z",
     "shell.execute_reply": "2021-03-25T07:46:45.717806Z"
    }
   },
   "outputs": [],
   "source": [
    "r = requests.post(dataUrl, data= {\n",
    "    \"sheet_id\": tableauData[\"sheetId\"],\n",
    "})\n",
    "\n",
    "dataReg = re.search('\\d+;({.*})\\d+;({.*})', r.text, re.MULTILINE)\n",
    "data1 = json.loads(dataReg.group(2))\n",
    "\n",
    "dataJson = data1[\"secondaryInfo\"][\"presModelMap\"][\"dataDictionary\"][\"presModelHolder\"][\"genDataDictionaryPresModel\"][\"dataSegments\"][\"0\"][\"dataColumns\"]"
   ]
  },
  {
   "cell_type": "markdown",
   "metadata": {},
   "source": [
    "Isolate what you want"
   ]
  },
  {
   "cell_type": "code",
   "execution_count": 6,
   "metadata": {
    "execution": {
     "iopub.execute_input": "2021-03-25T07:46:45.722458Z",
     "iopub.status.busy": "2021-03-25T07:46:45.721937Z",
     "iopub.status.idle": "2021-03-25T07:46:45.725370Z",
     "shell.execute_reply": "2021-03-25T07:46:45.724948Z"
    }
   },
   "outputs": [],
   "source": [
    "counties = dataJson[2]['dataValues'][:58]"
   ]
  },
  {
   "cell_type": "code",
   "execution_count": 7,
   "metadata": {
    "execution": {
     "iopub.execute_input": "2021-03-25T07:46:45.729512Z",
     "iopub.status.busy": "2021-03-25T07:46:45.728499Z",
     "iopub.status.idle": "2021-03-25T07:46:45.730168Z",
     "shell.execute_reply": "2021-03-25T07:46:45.730512Z"
    }
   },
   "outputs": [],
   "source": [
    "doses = dataJson[0]['dataValues'][3:61]"
   ]
  },
  {
   "cell_type": "markdown",
   "metadata": {},
   "source": [
    "Data formatting"
   ]
  },
  {
   "cell_type": "code",
   "execution_count": 8,
   "metadata": {
    "execution": {
     "iopub.execute_input": "2021-03-25T07:46:45.734343Z",
     "iopub.status.busy": "2021-03-25T07:46:45.733188Z",
     "iopub.status.idle": "2021-03-25T07:46:45.734924Z",
     "shell.execute_reply": "2021-03-25T07:46:45.735310Z"
    }
   },
   "outputs": [],
   "source": [
    "zipped = dict(zip(counties, doses))"
   ]
  },
  {
   "cell_type": "code",
   "execution_count": 9,
   "metadata": {
    "execution": {
     "iopub.execute_input": "2021-03-25T07:46:45.741009Z",
     "iopub.status.busy": "2021-03-25T07:46:45.740140Z",
     "iopub.status.idle": "2021-03-25T07:46:45.742680Z",
     "shell.execute_reply": "2021-03-25T07:46:45.741882Z"
    }
   },
   "outputs": [],
   "source": [
    "df = pd.Series(zipped).reset_index()"
   ]
  },
  {
   "cell_type": "code",
   "execution_count": 10,
   "metadata": {
    "execution": {
     "iopub.execute_input": "2021-03-25T07:46:45.747344Z",
     "iopub.status.busy": "2021-03-25T07:46:45.745738Z",
     "iopub.status.idle": "2021-03-25T07:46:45.747942Z",
     "shell.execute_reply": "2021-03-25T07:46:45.748334Z"
    }
   },
   "outputs": [],
   "source": [
    "df.columns = ['location','doses']"
   ]
  },
  {
   "cell_type": "markdown",
   "metadata": {},
   "source": [
    "Grab the overall California total"
   ]
  },
  {
   "cell_type": "code",
   "execution_count": 11,
   "metadata": {
    "execution": {
     "iopub.execute_input": "2021-03-25T07:46:45.753473Z",
     "iopub.status.busy": "2021-03-25T07:46:45.751622Z",
     "iopub.status.idle": "2021-03-25T07:46:45.754088Z",
     "shell.execute_reply": "2021-03-25T07:46:45.754510Z"
    }
   },
   "outputs": [],
   "source": [
    "add = {'location':'California','doses':dataJson[0]['dataValues'][2]}"
   ]
  },
  {
   "cell_type": "code",
   "execution_count": 12,
   "metadata": {
    "execution": {
     "iopub.execute_input": "2021-03-25T07:46:45.761633Z",
     "iopub.status.busy": "2021-03-25T07:46:45.760453Z",
     "iopub.status.idle": "2021-03-25T07:46:45.762410Z",
     "shell.execute_reply": "2021-03-25T07:46:45.762824Z"
    }
   },
   "outputs": [],
   "source": [
    "df = df.append(add, ignore_index=True)"
   ]
  },
  {
   "cell_type": "code",
   "execution_count": 13,
   "metadata": {
    "execution": {
     "iopub.execute_input": "2021-03-25T07:46:45.767470Z",
     "iopub.status.busy": "2021-03-25T07:46:45.766424Z",
     "iopub.status.idle": "2021-03-25T07:46:45.768177Z",
     "shell.execute_reply": "2021-03-25T07:46:45.768614Z"
    }
   },
   "outputs": [],
   "source": [
    "df = df.sort_values(by='location')"
   ]
  },
  {
   "cell_type": "code",
   "execution_count": 14,
   "metadata": {
    "execution": {
     "iopub.execute_input": "2021-03-25T07:46:45.775318Z",
     "iopub.status.busy": "2021-03-25T07:46:45.773966Z",
     "iopub.status.idle": "2021-03-25T07:46:45.775858Z",
     "shell.execute_reply": "2021-03-25T07:46:45.776394Z"
    }
   },
   "outputs": [],
   "source": [
    "df = df[df.location == 'California'].append(df[df.location != 'California']).reset_index(drop=True)"
   ]
  },
  {
   "cell_type": "code",
   "execution_count": null,
   "metadata": {},
   "outputs": [],
   "source": []
  },
  {
   "cell_type": "code",
   "execution_count": 15,
   "metadata": {
    "execution": {
     "iopub.execute_input": "2021-03-25T07:46:45.780046Z",
     "iopub.status.busy": "2021-03-25T07:46:45.779505Z",
     "iopub.status.idle": "2021-03-25T07:46:45.796693Z",
     "shell.execute_reply": "2021-03-25T07:46:45.796163Z"
    }
   },
   "outputs": [],
   "source": [
    "tz = pytz.timezone(\"America/New_York\")"
   ]
  },
  {
   "cell_type": "code",
   "execution_count": 16,
   "metadata": {
    "execution": {
     "iopub.execute_input": "2021-03-25T07:46:45.800765Z",
     "iopub.status.busy": "2021-03-25T07:46:45.799735Z",
     "iopub.status.idle": "2021-03-25T07:46:45.801396Z",
     "shell.execute_reply": "2021-03-25T07:46:45.801817Z"
    }
   },
   "outputs": [],
   "source": [
    "today = datetime.now(tz).date()"
   ]
  },
  {
   "cell_type": "code",
   "execution_count": 17,
   "metadata": {
    "execution": {
     "iopub.execute_input": "2021-03-25T07:46:45.805428Z",
     "iopub.status.busy": "2021-03-25T07:46:45.804891Z",
     "iopub.status.idle": "2021-03-25T07:46:45.807669Z",
     "shell.execute_reply": "2021-03-25T07:46:45.807222Z"
    }
   },
   "outputs": [],
   "source": [
    "data_dir = os.path.join(os.path.abspath(\"\"), \"data\")"
   ]
  },
  {
   "cell_type": "code",
   "execution_count": 18,
   "metadata": {
    "execution": {
     "iopub.execute_input": "2021-03-25T07:46:45.811214Z",
     "iopub.status.busy": "2021-03-25T07:46:45.810747Z",
     "iopub.status.idle": "2021-03-25T07:46:45.818289Z",
     "shell.execute_reply": "2021-03-25T07:46:45.817850Z"
    }
   },
   "outputs": [],
   "source": [
    "df.to_csv(os.path.join(data_dir, f\"{today}.csv\"), index=False)"
   ]
  },
  {
   "cell_type": "code",
   "execution_count": null,
   "metadata": {},
   "outputs": [],
   "source": []
  }
 ],
 "metadata": {
  "kernelspec": {
   "display_name": "Python 3",
   "language": "python",
   "name": "python3"
  },
  "language_info": {
   "codemirror_mode": {
    "name": "ipython",
    "version": 3
   },
   "file_extension": ".py",
   "mimetype": "text/x-python",
   "name": "python",
   "nbconvert_exporter": "python",
   "pygments_lexer": "ipython3",
   "version": "3.8.8"
  }
 },
 "nbformat": 4,
 "nbformat_minor": 4
}
