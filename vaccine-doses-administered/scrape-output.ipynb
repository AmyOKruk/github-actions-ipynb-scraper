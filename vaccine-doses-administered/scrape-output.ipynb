{
 "cells": [
  {
   "cell_type": "markdown",
   "metadata": {},
   "source": [
    "# California COVID vaccinations scrape"
   ]
  },
  {
   "cell_type": "markdown",
   "metadata": {},
   "source": [
    "By [Amy O'Kruk](https://twitter.com/amyokruk)"
   ]
  },
  {
   "cell_type": "markdown",
   "metadata": {},
   "source": [
    "Downloads data on vaccine doses administered by county and statewide from a Tableau-powered dashboard from the California Department of Public Health."
   ]
  },
  {
   "cell_type": "code",
   "execution_count": 1,
   "metadata": {
    "execution": {
     "iopub.execute_input": "2021-03-23T07:41:56.378064Z",
     "iopub.status.busy": "2021-03-23T07:41:56.377361Z",
     "iopub.status.idle": "2021-03-23T07:41:56.808242Z",
     "shell.execute_reply": "2021-03-23T07:41:56.807594Z"
    }
   },
   "outputs": [],
   "source": [
    "import pandas as pd\n",
    "import requests\n",
    "from bs4 import BeautifulSoup\n",
    "import json\n",
    "import re\n",
    "import time\n",
    "from time import gmtime, strftime \n",
    "import os\n",
    "import pytz\n",
    "from datetime import datetime"
   ]
  },
  {
   "cell_type": "markdown",
   "metadata": {},
   "source": [
    "Scrape the dashboard page"
   ]
  },
  {
   "cell_type": "code",
   "execution_count": 2,
   "metadata": {
    "execution": {
     "iopub.execute_input": "2021-03-23T07:41:56.814941Z",
     "iopub.status.busy": "2021-03-23T07:41:56.811989Z",
     "iopub.status.idle": "2021-03-23T07:41:57.360443Z",
     "shell.execute_reply": "2021-03-23T07:41:57.359558Z"
    }
   },
   "outputs": [],
   "source": [
    "url = \"https://public.tableau.com/interactive/views/COVID-19VaccineDashboardPublic/Vaccine?:embed=y&:showVizHome=n&:apiID=host0\"\n",
    "\n",
    "r = requests.get(url)\n",
    "soup = BeautifulSoup(r.text, \"html.parser\")"
   ]
  },
  {
   "cell_type": "code",
   "execution_count": 3,
   "metadata": {
    "execution": {
     "iopub.execute_input": "2021-03-23T07:41:57.366284Z",
     "iopub.status.busy": "2021-03-23T07:41:57.365619Z",
     "iopub.status.idle": "2021-03-23T07:41:57.370125Z",
     "shell.execute_reply": "2021-03-23T07:41:57.369587Z"
    }
   },
   "outputs": [],
   "source": [
    "tableauData = json.loads(soup.find(\"textarea\",{\"id\": \"tsConfigContainer\"}).text)"
   ]
  },
  {
   "cell_type": "markdown",
   "metadata": {},
   "source": [
    "Get the link to the Tableau data"
   ]
  },
  {
   "cell_type": "code",
   "execution_count": 4,
   "metadata": {
    "execution": {
     "iopub.execute_input": "2021-03-23T07:41:57.374421Z",
     "iopub.status.busy": "2021-03-23T07:41:57.373788Z",
     "iopub.status.idle": "2021-03-23T07:41:57.377615Z",
     "shell.execute_reply": "2021-03-23T07:41:57.377142Z"
    }
   },
   "outputs": [],
   "source": [
    "dataUrl = f'https://public.tableau.com{tableauData[\"vizql_root\"]}/bootstrapSession/sessions/{tableauData[\"sessionid\"]}'"
   ]
  },
  {
   "cell_type": "code",
   "execution_count": 5,
   "metadata": {
    "execution": {
     "iopub.execute_input": "2021-03-23T07:41:57.385614Z",
     "iopub.status.busy": "2021-03-23T07:41:57.384825Z",
     "iopub.status.idle": "2021-03-23T07:41:58.052018Z",
     "shell.execute_reply": "2021-03-23T07:41:58.051384Z"
    }
   },
   "outputs": [],
   "source": [
    "r = requests.post(dataUrl, data= {\n",
    "    \"sheet_id\": tableauData[\"sheetId\"],\n",
    "})\n",
    "\n",
    "dataReg = re.search('\\d+;({.*})\\d+;({.*})', r.text, re.MULTILINE)\n",
    "data1 = json.loads(dataReg.group(2))\n",
    "\n",
    "dataJson = data1[\"secondaryInfo\"][\"presModelMap\"][\"dataDictionary\"][\"presModelHolder\"][\"genDataDictionaryPresModel\"][\"dataSegments\"][\"0\"][\"dataColumns\"]"
   ]
  },
  {
   "cell_type": "markdown",
   "metadata": {},
   "source": [
    "Isolate what you want"
   ]
  },
  {
   "cell_type": "code",
   "execution_count": 6,
   "metadata": {
    "execution": {
     "iopub.execute_input": "2021-03-23T07:41:58.057792Z",
     "iopub.status.busy": "2021-03-23T07:41:58.056092Z",
     "iopub.status.idle": "2021-03-23T07:41:58.058535Z",
     "shell.execute_reply": "2021-03-23T07:41:58.059200Z"
    }
   },
   "outputs": [],
   "source": [
    "counties = dataJson[2]['dataValues'][:58]"
   ]
  },
  {
   "cell_type": "code",
   "execution_count": 7,
   "metadata": {
    "execution": {
     "iopub.execute_input": "2021-03-23T07:41:58.065301Z",
     "iopub.status.busy": "2021-03-23T07:41:58.063692Z",
     "iopub.status.idle": "2021-03-23T07:41:58.066106Z",
     "shell.execute_reply": "2021-03-23T07:41:58.066719Z"
    }
   },
   "outputs": [],
   "source": [
    "doses = dataJson[0]['dataValues'][3:61]"
   ]
  },
  {
   "cell_type": "markdown",
   "metadata": {},
   "source": [
    "Data formatting"
   ]
  },
  {
   "cell_type": "code",
   "execution_count": 8,
   "metadata": {
    "execution": {
     "iopub.execute_input": "2021-03-23T07:41:58.071992Z",
     "iopub.status.busy": "2021-03-23T07:41:58.070560Z",
     "iopub.status.idle": "2021-03-23T07:41:58.072768Z",
     "shell.execute_reply": "2021-03-23T07:41:58.073335Z"
    }
   },
   "outputs": [],
   "source": [
    "zipped = dict(zip(counties, doses))"
   ]
  },
  {
   "cell_type": "code",
   "execution_count": 9,
   "metadata": {
    "execution": {
     "iopub.execute_input": "2021-03-23T07:41:58.081278Z",
     "iopub.status.busy": "2021-03-23T07:41:58.079852Z",
     "iopub.status.idle": "2021-03-23T07:41:58.082038Z",
     "shell.execute_reply": "2021-03-23T07:41:58.082569Z"
    }
   },
   "outputs": [],
   "source": [
    "df = pd.Series(zipped).reset_index()"
   ]
  },
  {
   "cell_type": "code",
   "execution_count": 10,
   "metadata": {
    "execution": {
     "iopub.execute_input": "2021-03-23T07:41:58.088154Z",
     "iopub.status.busy": "2021-03-23T07:41:58.086686Z",
     "iopub.status.idle": "2021-03-23T07:41:58.089636Z",
     "shell.execute_reply": "2021-03-23T07:41:58.089157Z"
    }
   },
   "outputs": [],
   "source": [
    "df.columns = ['location','doses']"
   ]
  },
  {
   "cell_type": "markdown",
   "metadata": {},
   "source": [
    "Grab the overall California total"
   ]
  },
  {
   "cell_type": "code",
   "execution_count": 11,
   "metadata": {
    "execution": {
     "iopub.execute_input": "2021-03-23T07:41:58.094320Z",
     "iopub.status.busy": "2021-03-23T07:41:58.093088Z",
     "iopub.status.idle": "2021-03-23T07:41:58.095552Z",
     "shell.execute_reply": "2021-03-23T07:41:58.095088Z"
    }
   },
   "outputs": [],
   "source": [
    "add = {'location':'California','doses':dataJson[0]['dataValues'][2]}"
   ]
  },
  {
   "cell_type": "code",
   "execution_count": 12,
   "metadata": {
    "execution": {
     "iopub.execute_input": "2021-03-23T07:41:58.104075Z",
     "iopub.status.busy": "2021-03-23T07:41:58.102677Z",
     "iopub.status.idle": "2021-03-23T07:41:58.104753Z",
     "shell.execute_reply": "2021-03-23T07:41:58.105239Z"
    }
   },
   "outputs": [],
   "source": [
    "df = df.append(add, ignore_index=True)"
   ]
  },
  {
   "cell_type": "code",
   "execution_count": 13,
   "metadata": {
    "execution": {
     "iopub.execute_input": "2021-03-23T07:41:58.110672Z",
     "iopub.status.busy": "2021-03-23T07:41:58.109445Z",
     "iopub.status.idle": "2021-03-23T07:41:58.111721Z",
     "shell.execute_reply": "2021-03-23T07:41:58.112211Z"
    }
   },
   "outputs": [],
   "source": [
    "df = df.sort_values(by='location')"
   ]
  },
  {
   "cell_type": "code",
   "execution_count": 14,
   "metadata": {
    "execution": {
     "iopub.execute_input": "2021-03-23T07:41:58.120343Z",
     "iopub.status.busy": "2021-03-23T07:41:58.119737Z",
     "iopub.status.idle": "2021-03-23T07:41:58.123580Z",
     "shell.execute_reply": "2021-03-23T07:41:58.122954Z"
    }
   },
   "outputs": [],
   "source": [
    "df = df[df.location == 'California'].append(df[df.location != 'California']).reset_index(drop=True)"
   ]
  },
  {
   "cell_type": "code",
   "execution_count": null,
   "metadata": {},
   "outputs": [],
   "source": []
  },
  {
   "cell_type": "code",
   "execution_count": 15,
   "metadata": {
    "execution": {
     "iopub.execute_input": "2021-03-23T07:41:58.127786Z",
     "iopub.status.busy": "2021-03-23T07:41:58.127186Z",
     "iopub.status.idle": "2021-03-23T07:41:58.147582Z",
     "shell.execute_reply": "2021-03-23T07:41:58.146986Z"
    }
   },
   "outputs": [],
   "source": [
    "tz = pytz.timezone(\"America/New_York\")"
   ]
  },
  {
   "cell_type": "code",
   "execution_count": 16,
   "metadata": {
    "execution": {
     "iopub.execute_input": "2021-03-23T07:41:58.152862Z",
     "iopub.status.busy": "2021-03-23T07:41:58.151515Z",
     "iopub.status.idle": "2021-03-23T07:41:58.153536Z",
     "shell.execute_reply": "2021-03-23T07:41:58.154058Z"
    }
   },
   "outputs": [],
   "source": [
    "today = datetime.now(tz).date()"
   ]
  },
  {
   "cell_type": "code",
   "execution_count": 17,
   "metadata": {
    "execution": {
     "iopub.execute_input": "2021-03-23T07:41:58.159065Z",
     "iopub.status.busy": "2021-03-23T07:41:58.157481Z",
     "iopub.status.idle": "2021-03-23T07:41:58.159704Z",
     "shell.execute_reply": "2021-03-23T07:41:58.160213Z"
    }
   },
   "outputs": [],
   "source": [
    "data_dir = os.path.join(os.path.abspath(\"\"), \"data\")"
   ]
  },
  {
   "cell_type": "code",
   "execution_count": 18,
   "metadata": {
    "execution": {
     "iopub.execute_input": "2021-03-23T07:41:58.165744Z",
     "iopub.status.busy": "2021-03-23T07:41:58.164317Z",
     "iopub.status.idle": "2021-03-23T07:41:58.168994Z",
     "shell.execute_reply": "2021-03-23T07:41:58.169458Z"
    }
   },
   "outputs": [],
   "source": [
    "df.to_csv(os.path.join(data_dir, f\"{today}.csv\"), index=False)"
   ]
  },
  {
   "cell_type": "code",
   "execution_count": null,
   "metadata": {},
   "outputs": [],
   "source": []
  }
 ],
 "metadata": {
  "kernelspec": {
   "display_name": "Python 3",
   "language": "python",
   "name": "python3"
  },
  "language_info": {
   "codemirror_mode": {
    "name": "ipython",
    "version": 3
   },
   "file_extension": ".py",
   "mimetype": "text/x-python",
   "name": "python",
   "nbconvert_exporter": "python",
   "pygments_lexer": "ipython3",
   "version": "3.8.8"
  }
 },
 "nbformat": 4,
 "nbformat_minor": 4
}
