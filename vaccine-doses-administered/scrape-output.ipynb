{
 "cells": [
  {
   "cell_type": "markdown",
   "metadata": {},
   "source": [
    "# California COVID vaccinations scrape"
   ]
  },
  {
   "cell_type": "markdown",
   "metadata": {},
   "source": [
    "By [Amy O'Kruk](https://twitter.com/amyokruk)"
   ]
  },
  {
   "cell_type": "markdown",
   "metadata": {},
   "source": [
    "Downloads data on vaccine doses administered by county and statewide from a Tableau-powered dashboard from the California Department of Public Health."
   ]
  },
  {
   "cell_type": "code",
   "execution_count": 1,
   "metadata": {
    "execution": {
     "iopub.execute_input": "2021-03-19T05:43:52.401651Z",
     "iopub.status.busy": "2021-03-19T05:43:52.400773Z",
     "iopub.status.idle": "2021-03-19T05:43:52.763505Z",
     "shell.execute_reply": "2021-03-19T05:43:52.762791Z"
    }
   },
   "outputs": [],
   "source": [
    "import pandas as pd\n",
    "import requests\n",
    "from bs4 import BeautifulSoup\n",
    "import json\n",
    "import re\n",
    "import time\n",
    "from time import gmtime, strftime \n",
    "import os\n",
    "import pytz\n",
    "from datetime import datetime"
   ]
  },
  {
   "cell_type": "markdown",
   "metadata": {},
   "source": [
    "Scrape the dashboard page"
   ]
  },
  {
   "cell_type": "code",
   "execution_count": 2,
   "metadata": {
    "execution": {
     "iopub.execute_input": "2021-03-19T05:43:52.770520Z",
     "iopub.status.busy": "2021-03-19T05:43:52.769832Z",
     "iopub.status.idle": "2021-03-19T05:43:53.204659Z",
     "shell.execute_reply": "2021-03-19T05:43:53.203557Z"
    }
   },
   "outputs": [],
   "source": [
    "url = \"https://public.tableau.com/interactive/views/COVID-19VaccineDashboardPublic/Vaccine?:embed=y&:showVizHome=n&:apiID=host0\"\n",
    "\n",
    "r = requests.get(url)\n",
    "soup = BeautifulSoup(r.text, \"html.parser\")"
   ]
  },
  {
   "cell_type": "code",
   "execution_count": 3,
   "metadata": {
    "execution": {
     "iopub.execute_input": "2021-03-19T05:43:53.209527Z",
     "iopub.status.busy": "2021-03-19T05:43:53.209000Z",
     "iopub.status.idle": "2021-03-19T05:43:53.211668Z",
     "shell.execute_reply": "2021-03-19T05:43:53.211229Z"
    }
   },
   "outputs": [],
   "source": [
    "tableauData = json.loads(soup.find(\"textarea\",{\"id\": \"tsConfigContainer\"}).text)"
   ]
  },
  {
   "cell_type": "markdown",
   "metadata": {},
   "source": [
    "Get the link to the Tableau data"
   ]
  },
  {
   "cell_type": "code",
   "execution_count": 4,
   "metadata": {
    "execution": {
     "iopub.execute_input": "2021-03-19T05:43:53.215128Z",
     "iopub.status.busy": "2021-03-19T05:43:53.214614Z",
     "iopub.status.idle": "2021-03-19T05:43:53.218731Z",
     "shell.execute_reply": "2021-03-19T05:43:53.218276Z"
    }
   },
   "outputs": [],
   "source": [
    "dataUrl = f'https://public.tableau.com{tableauData[\"vizql_root\"]}/bootstrapSession/sessions/{tableauData[\"sessionid\"]}'"
   ]
  },
  {
   "cell_type": "code",
   "execution_count": 5,
   "metadata": {
    "execution": {
     "iopub.execute_input": "2021-03-19T05:43:53.228896Z",
     "iopub.status.busy": "2021-03-19T05:43:53.228331Z",
     "iopub.status.idle": "2021-03-19T05:43:53.837062Z",
     "shell.execute_reply": "2021-03-19T05:43:53.836334Z"
    }
   },
   "outputs": [],
   "source": [
    "r = requests.post(dataUrl, data= {\n",
    "    \"sheet_id\": tableauData[\"sheetId\"],\n",
    "})\n",
    "\n",
    "dataReg = re.search('\\d+;({.*})\\d+;({.*})', r.text, re.MULTILINE)\n",
    "data1 = json.loads(dataReg.group(2))\n",
    "\n",
    "dataJson = data1[\"secondaryInfo\"][\"presModelMap\"][\"dataDictionary\"][\"presModelHolder\"][\"genDataDictionaryPresModel\"][\"dataSegments\"][\"0\"][\"dataColumns\"]"
   ]
  },
  {
   "cell_type": "markdown",
   "metadata": {},
   "source": [
    "Isolate what you want"
   ]
  },
  {
   "cell_type": "code",
   "execution_count": 6,
   "metadata": {
    "execution": {
     "iopub.execute_input": "2021-03-19T05:43:53.841185Z",
     "iopub.status.busy": "2021-03-19T05:43:53.840644Z",
     "iopub.status.idle": "2021-03-19T05:43:53.843120Z",
     "shell.execute_reply": "2021-03-19T05:43:53.842666Z"
    }
   },
   "outputs": [],
   "source": [
    "counties = dataJson[2]['dataValues'][:58]"
   ]
  },
  {
   "cell_type": "code",
   "execution_count": 7,
   "metadata": {
    "execution": {
     "iopub.execute_input": "2021-03-19T05:43:53.847473Z",
     "iopub.status.busy": "2021-03-19T05:43:53.846256Z",
     "iopub.status.idle": "2021-03-19T05:43:53.848084Z",
     "shell.execute_reply": "2021-03-19T05:43:53.848543Z"
    }
   },
   "outputs": [],
   "source": [
    "doses = dataJson[0]['dataValues'][3:61]"
   ]
  },
  {
   "cell_type": "markdown",
   "metadata": {},
   "source": [
    "Data formatting"
   ]
  },
  {
   "cell_type": "code",
   "execution_count": 8,
   "metadata": {
    "execution": {
     "iopub.execute_input": "2021-03-19T05:43:53.852108Z",
     "iopub.status.busy": "2021-03-19T05:43:53.851240Z",
     "iopub.status.idle": "2021-03-19T05:43:53.852847Z",
     "shell.execute_reply": "2021-03-19T05:43:53.853269Z"
    }
   },
   "outputs": [],
   "source": [
    "zipped = dict(zip(counties, doses))"
   ]
  },
  {
   "cell_type": "code",
   "execution_count": 9,
   "metadata": {
    "execution": {
     "iopub.execute_input": "2021-03-19T05:43:53.859047Z",
     "iopub.status.busy": "2021-03-19T05:43:53.858294Z",
     "iopub.status.idle": "2021-03-19T05:43:53.859960Z",
     "shell.execute_reply": "2021-03-19T05:43:53.860413Z"
    }
   },
   "outputs": [],
   "source": [
    "df = pd.Series(zipped).reset_index()"
   ]
  },
  {
   "cell_type": "code",
   "execution_count": 10,
   "metadata": {
    "execution": {
     "iopub.execute_input": "2021-03-19T05:43:53.864466Z",
     "iopub.status.busy": "2021-03-19T05:43:53.863581Z",
     "iopub.status.idle": "2021-03-19T05:43:53.865174Z",
     "shell.execute_reply": "2021-03-19T05:43:53.865568Z"
    }
   },
   "outputs": [],
   "source": [
    "df.columns = ['location','doses']"
   ]
  },
  {
   "cell_type": "markdown",
   "metadata": {},
   "source": [
    "Grab the overall California total"
   ]
  },
  {
   "cell_type": "code",
   "execution_count": 11,
   "metadata": {
    "execution": {
     "iopub.execute_input": "2021-03-19T05:43:53.869283Z",
     "iopub.status.busy": "2021-03-19T05:43:53.868341Z",
     "iopub.status.idle": "2021-03-19T05:43:53.869825Z",
     "shell.execute_reply": "2021-03-19T05:43:53.870217Z"
    }
   },
   "outputs": [],
   "source": [
    "add = {'location':'California','doses':dataJson[0]['dataValues'][2]}"
   ]
  },
  {
   "cell_type": "code",
   "execution_count": 12,
   "metadata": {
    "execution": {
     "iopub.execute_input": "2021-03-19T05:43:53.876803Z",
     "iopub.status.busy": "2021-03-19T05:43:53.875607Z",
     "iopub.status.idle": "2021-03-19T05:43:53.877482Z",
     "shell.execute_reply": "2021-03-19T05:43:53.877902Z"
    }
   },
   "outputs": [],
   "source": [
    "df = df.append(add, ignore_index=True)"
   ]
  },
  {
   "cell_type": "code",
   "execution_count": 13,
   "metadata": {
    "execution": {
     "iopub.execute_input": "2021-03-19T05:43:53.882571Z",
     "iopub.status.busy": "2021-03-19T05:43:53.881353Z",
     "iopub.status.idle": "2021-03-19T05:43:53.883183Z",
     "shell.execute_reply": "2021-03-19T05:43:53.883606Z"
    }
   },
   "outputs": [],
   "source": [
    "df = df.sort_values(by='location')"
   ]
  },
  {
   "cell_type": "code",
   "execution_count": 14,
   "metadata": {
    "execution": {
     "iopub.execute_input": "2021-03-19T05:43:53.889976Z",
     "iopub.status.busy": "2021-03-19T05:43:53.888748Z",
     "iopub.status.idle": "2021-03-19T05:43:53.890571Z",
     "shell.execute_reply": "2021-03-19T05:43:53.890994Z"
    }
   },
   "outputs": [],
   "source": [
    "df = df[df.location == 'California'].append(df[df.location != 'California']).reset_index(drop=True)"
   ]
  },
  {
   "cell_type": "code",
   "execution_count": null,
   "metadata": {},
   "outputs": [],
   "source": []
  },
  {
   "cell_type": "code",
   "execution_count": 15,
   "metadata": {
    "execution": {
     "iopub.execute_input": "2021-03-19T05:43:53.894393Z",
     "iopub.status.busy": "2021-03-19T05:43:53.893886Z",
     "iopub.status.idle": "2021-03-19T05:43:53.911094Z",
     "shell.execute_reply": "2021-03-19T05:43:53.910588Z"
    }
   },
   "outputs": [],
   "source": [
    "tz = pytz.timezone(\"America/New_York\")"
   ]
  },
  {
   "cell_type": "code",
   "execution_count": 16,
   "metadata": {
    "execution": {
     "iopub.execute_input": "2021-03-19T05:43:53.915275Z",
     "iopub.status.busy": "2021-03-19T05:43:53.914110Z",
     "iopub.status.idle": "2021-03-19T05:43:53.915855Z",
     "shell.execute_reply": "2021-03-19T05:43:53.916325Z"
    }
   },
   "outputs": [],
   "source": [
    "today = datetime.now(tz).date()"
   ]
  },
  {
   "cell_type": "code",
   "execution_count": 17,
   "metadata": {
    "execution": {
     "iopub.execute_input": "2021-03-19T05:43:53.920542Z",
     "iopub.status.busy": "2021-03-19T05:43:53.919367Z",
     "iopub.status.idle": "2021-03-19T05:43:53.921133Z",
     "shell.execute_reply": "2021-03-19T05:43:53.921557Z"
    }
   },
   "outputs": [],
   "source": [
    "data_dir = os.path.join(os.path.abspath(\"\"), \"data\")"
   ]
  },
  {
   "cell_type": "code",
   "execution_count": 18,
   "metadata": {
    "execution": {
     "iopub.execute_input": "2021-03-19T05:43:53.927016Z",
     "iopub.status.busy": "2021-03-19T05:43:53.924768Z",
     "iopub.status.idle": "2021-03-19T05:43:53.929489Z",
     "shell.execute_reply": "2021-03-19T05:43:53.928923Z"
    }
   },
   "outputs": [],
   "source": [
    "df.to_csv(os.path.join(data_dir, f\"{today}.csv\"), index=False)"
   ]
  },
  {
   "cell_type": "code",
   "execution_count": null,
   "metadata": {},
   "outputs": [],
   "source": []
  }
 ],
 "metadata": {
  "kernelspec": {
   "display_name": "Python 3",
   "language": "python",
   "name": "python3"
  },
  "language_info": {
   "codemirror_mode": {
    "name": "ipython",
    "version": 3
   },
   "file_extension": ".py",
   "mimetype": "text/x-python",
   "name": "python",
   "nbconvert_exporter": "python",
   "pygments_lexer": "ipython3",
   "version": "3.8.8"
  }
 },
 "nbformat": 4,
 "nbformat_minor": 4
}
