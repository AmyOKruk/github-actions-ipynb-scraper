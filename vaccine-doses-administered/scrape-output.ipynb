{
 "cells": [
  {
   "cell_type": "markdown",
   "metadata": {},
   "source": [
    "# California COVID vaccinations scrape"
   ]
  },
  {
   "cell_type": "markdown",
   "metadata": {},
   "source": [
    "By [Amy O'Kruk](https://twitter.com/amyokruk)"
   ]
  },
  {
   "cell_type": "markdown",
   "metadata": {},
   "source": [
    "Downloads data on vaccine doses administered by county and statewide from a Tableau-powered dashboard from the California Department of Public Health."
   ]
  },
  {
   "cell_type": "code",
   "execution_count": 1,
   "metadata": {
    "execution": {
     "iopub.execute_input": "2021-03-15T04:15:52.319806Z",
     "iopub.status.busy": "2021-03-15T04:15:52.319113Z",
     "iopub.status.idle": "2021-03-15T04:15:52.729305Z",
     "shell.execute_reply": "2021-03-15T04:15:52.728668Z"
    }
   },
   "outputs": [],
   "source": [
    "import pandas as pd\n",
    "import requests\n",
    "from bs4 import BeautifulSoup\n",
    "import json\n",
    "import re\n",
    "import time\n",
    "from time import gmtime, strftime \n",
    "import os\n",
    "import pytz\n",
    "from datetime import datetime"
   ]
  },
  {
   "cell_type": "markdown",
   "metadata": {},
   "source": [
    "Scrape the dashboard page"
   ]
  },
  {
   "cell_type": "code",
   "execution_count": 2,
   "metadata": {
    "execution": {
     "iopub.execute_input": "2021-03-15T04:15:52.736156Z",
     "iopub.status.busy": "2021-03-15T04:15:52.733183Z",
     "iopub.status.idle": "2021-03-15T04:15:53.060867Z",
     "shell.execute_reply": "2021-03-15T04:15:53.059907Z"
    }
   },
   "outputs": [],
   "source": [
    "url = \"https://public.tableau.com/interactive/views/COVID-19VaccineDashboardPublic/Vaccine?:embed=y&:showVizHome=n&:apiID=host0\"\n",
    "\n",
    "r = requests.get(url)\n",
    "soup = BeautifulSoup(r.text, \"html.parser\")"
   ]
  },
  {
   "cell_type": "code",
   "execution_count": 3,
   "metadata": {
    "execution": {
     "iopub.execute_input": "2021-03-15T04:15:53.066369Z",
     "iopub.status.busy": "2021-03-15T04:15:53.065659Z",
     "iopub.status.idle": "2021-03-15T04:15:53.069417Z",
     "shell.execute_reply": "2021-03-15T04:15:53.070336Z"
    }
   },
   "outputs": [],
   "source": [
    "tableauData = json.loads(soup.find(\"textarea\",{\"id\": \"tsConfigContainer\"}).text)"
   ]
  },
  {
   "cell_type": "markdown",
   "metadata": {},
   "source": [
    "Get the link to the Tableau data"
   ]
  },
  {
   "cell_type": "code",
   "execution_count": 4,
   "metadata": {
    "execution": {
     "iopub.execute_input": "2021-03-15T04:15:53.074023Z",
     "iopub.status.busy": "2021-03-15T04:15:53.073431Z",
     "iopub.status.idle": "2021-03-15T04:15:53.077437Z",
     "shell.execute_reply": "2021-03-15T04:15:53.076786Z"
    }
   },
   "outputs": [],
   "source": [
    "dataUrl = f'https://public.tableau.com{tableauData[\"vizql_root\"]}/bootstrapSession/sessions/{tableauData[\"sessionid\"]}'"
   ]
  },
  {
   "cell_type": "code",
   "execution_count": 5,
   "metadata": {
    "execution": {
     "iopub.execute_input": "2021-03-15T04:15:53.084188Z",
     "iopub.status.busy": "2021-03-15T04:15:53.083590Z",
     "iopub.status.idle": "2021-03-15T04:15:53.389801Z",
     "shell.execute_reply": "2021-03-15T04:15:53.387902Z"
    }
   },
   "outputs": [],
   "source": [
    "r = requests.post(dataUrl, data= {\n",
    "    \"sheet_id\": tableauData[\"sheetId\"],\n",
    "})\n",
    "\n",
    "dataReg = re.search('\\d+;({.*})\\d+;({.*})', r.text, re.MULTILINE)\n",
    "data1 = json.loads(dataReg.group(2))\n",
    "\n",
    "dataJson = data1[\"secondaryInfo\"][\"presModelMap\"][\"dataDictionary\"][\"presModelHolder\"][\"genDataDictionaryPresModel\"][\"dataSegments\"][\"0\"][\"dataColumns\"]"
   ]
  },
  {
   "cell_type": "markdown",
   "metadata": {},
   "source": [
    "Isolate what you want"
   ]
  },
  {
   "cell_type": "code",
   "execution_count": 6,
   "metadata": {
    "execution": {
     "iopub.execute_input": "2021-03-15T04:15:53.394004Z",
     "iopub.status.busy": "2021-03-15T04:15:53.393410Z",
     "iopub.status.idle": "2021-03-15T04:15:53.397821Z",
     "shell.execute_reply": "2021-03-15T04:15:53.397293Z"
    }
   },
   "outputs": [],
   "source": [
    "counties = dataJson[2]['dataValues'][:58]"
   ]
  },
  {
   "cell_type": "code",
   "execution_count": 7,
   "metadata": {
    "execution": {
     "iopub.execute_input": "2021-03-15T04:15:53.401813Z",
     "iopub.status.busy": "2021-03-15T04:15:53.401210Z",
     "iopub.status.idle": "2021-03-15T04:15:53.405133Z",
     "shell.execute_reply": "2021-03-15T04:15:53.404524Z"
    }
   },
   "outputs": [],
   "source": [
    "doses = dataJson[0]['dataValues'][3:61]"
   ]
  },
  {
   "cell_type": "markdown",
   "metadata": {},
   "source": [
    "Data formatting"
   ]
  },
  {
   "cell_type": "code",
   "execution_count": 8,
   "metadata": {
    "execution": {
     "iopub.execute_input": "2021-03-15T04:15:53.409625Z",
     "iopub.status.busy": "2021-03-15T04:15:53.409032Z",
     "iopub.status.idle": "2021-03-15T04:15:53.413109Z",
     "shell.execute_reply": "2021-03-15T04:15:53.412530Z"
    }
   },
   "outputs": [],
   "source": [
    "zipped = dict(zip(counties, doses))"
   ]
  },
  {
   "cell_type": "code",
   "execution_count": 9,
   "metadata": {
    "execution": {
     "iopub.execute_input": "2021-03-15T04:15:53.419499Z",
     "iopub.status.busy": "2021-03-15T04:15:53.418900Z",
     "iopub.status.idle": "2021-03-15T04:15:53.422415Z",
     "shell.execute_reply": "2021-03-15T04:15:53.423123Z"
    }
   },
   "outputs": [],
   "source": [
    "df = pd.Series(zipped).reset_index()"
   ]
  },
  {
   "cell_type": "code",
   "execution_count": 10,
   "metadata": {
    "execution": {
     "iopub.execute_input": "2021-03-15T04:15:53.427410Z",
     "iopub.status.busy": "2021-03-15T04:15:53.426819Z",
     "iopub.status.idle": "2021-03-15T04:15:53.430376Z",
     "shell.execute_reply": "2021-03-15T04:15:53.430848Z"
    }
   },
   "outputs": [],
   "source": [
    "df.columns = ['location','doses']"
   ]
  },
  {
   "cell_type": "markdown",
   "metadata": {},
   "source": [
    "Grab the overall California total"
   ]
  },
  {
   "cell_type": "code",
   "execution_count": 11,
   "metadata": {
    "execution": {
     "iopub.execute_input": "2021-03-15T04:15:53.434979Z",
     "iopub.status.busy": "2021-03-15T04:15:53.434375Z",
     "iopub.status.idle": "2021-03-15T04:15:53.439461Z",
     "shell.execute_reply": "2021-03-15T04:15:53.438701Z"
    }
   },
   "outputs": [],
   "source": [
    "add = {'location':'California','doses':dataJson[0]['dataValues'][2]}"
   ]
  },
  {
   "cell_type": "code",
   "execution_count": 12,
   "metadata": {
    "execution": {
     "iopub.execute_input": "2021-03-15T04:15:53.446759Z",
     "iopub.status.busy": "2021-03-15T04:15:53.446168Z",
     "iopub.status.idle": "2021-03-15T04:15:53.450073Z",
     "shell.execute_reply": "2021-03-15T04:15:53.449551Z"
    }
   },
   "outputs": [],
   "source": [
    "df = df.append(add, ignore_index=True)"
   ]
  },
  {
   "cell_type": "code",
   "execution_count": 13,
   "metadata": {
    "execution": {
     "iopub.execute_input": "2021-03-15T04:15:53.454954Z",
     "iopub.status.busy": "2021-03-15T04:15:53.454361Z",
     "iopub.status.idle": "2021-03-15T04:15:53.457907Z",
     "shell.execute_reply": "2021-03-15T04:15:53.458410Z"
    }
   },
   "outputs": [],
   "source": [
    "df = df.sort_values(by='location')"
   ]
  },
  {
   "cell_type": "code",
   "execution_count": 14,
   "metadata": {
    "execution": {
     "iopub.execute_input": "2021-03-15T04:15:53.464973Z",
     "iopub.status.busy": "2021-03-15T04:15:53.464288Z",
     "iopub.status.idle": "2021-03-15T04:15:53.468390Z",
     "shell.execute_reply": "2021-03-15T04:15:53.467769Z"
    }
   },
   "outputs": [],
   "source": [
    "df = df[df.location == 'California'].append(df[df.location != 'California']).reset_index(drop=True)"
   ]
  },
  {
   "cell_type": "code",
   "execution_count": null,
   "metadata": {},
   "outputs": [],
   "source": []
  },
  {
   "cell_type": "code",
   "execution_count": 15,
   "metadata": {
    "execution": {
     "iopub.execute_input": "2021-03-15T04:15:53.472163Z",
     "iopub.status.busy": "2021-03-15T04:15:53.471572Z",
     "iopub.status.idle": "2021-03-15T04:15:53.493405Z",
     "shell.execute_reply": "2021-03-15T04:15:53.493986Z"
    }
   },
   "outputs": [],
   "source": [
    "tz = pytz.timezone(\"America/New_York\")"
   ]
  },
  {
   "cell_type": "code",
   "execution_count": 16,
   "metadata": {
    "execution": {
     "iopub.execute_input": "2021-03-15T04:15:53.498021Z",
     "iopub.status.busy": "2021-03-15T04:15:53.497431Z",
     "iopub.status.idle": "2021-03-15T04:15:53.501163Z",
     "shell.execute_reply": "2021-03-15T04:15:53.501669Z"
    }
   },
   "outputs": [],
   "source": [
    "today = datetime.now(tz).date()"
   ]
  },
  {
   "cell_type": "code",
   "execution_count": 17,
   "metadata": {
    "execution": {
     "iopub.execute_input": "2021-03-15T04:15:53.505800Z",
     "iopub.status.busy": "2021-03-15T04:15:53.505204Z",
     "iopub.status.idle": "2021-03-15T04:15:53.509133Z",
     "shell.execute_reply": "2021-03-15T04:15:53.508583Z"
    }
   },
   "outputs": [],
   "source": [
    "data_dir = os.path.join(os.path.abspath(\"\"), \"data\")"
   ]
  },
  {
   "cell_type": "code",
   "execution_count": 18,
   "metadata": {
    "execution": {
     "iopub.execute_input": "2021-03-15T04:15:53.516131Z",
     "iopub.status.busy": "2021-03-15T04:15:53.514271Z",
     "iopub.status.idle": "2021-03-15T04:15:53.519657Z",
     "shell.execute_reply": "2021-03-15T04:15:53.519063Z"
    }
   },
   "outputs": [],
   "source": [
    "df.to_csv(os.path.join(data_dir, f\"{today}.csv\"), index=False)"
   ]
  },
  {
   "cell_type": "code",
   "execution_count": null,
   "metadata": {},
   "outputs": [],
   "source": []
  }
 ],
 "metadata": {
  "kernelspec": {
   "display_name": "Python 3",
   "language": "python",
   "name": "python3"
  },
  "language_info": {
   "codemirror_mode": {
    "name": "ipython",
    "version": 3
   },
   "file_extension": ".py",
   "mimetype": "text/x-python",
   "name": "python",
   "nbconvert_exporter": "python",
   "pygments_lexer": "ipython3",
   "version": "3.8.8"
  }
 },
 "nbformat": 4,
 "nbformat_minor": 4
}
