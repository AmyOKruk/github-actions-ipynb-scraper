{
 "cells": [
  {
   "cell_type": "markdown",
   "metadata": {},
   "source": [
    "# California COVID vaccinations scrape"
   ]
  },
  {
   "cell_type": "markdown",
   "metadata": {},
   "source": [
    "By [Amy O'Kruk](https://twitter.com/amyokruk)"
   ]
  },
  {
   "cell_type": "markdown",
   "metadata": {},
   "source": [
    "Downloads data on vaccine doses administered by county and statewide from a Tableau-powered dashboard from the California Department of Public Health."
   ]
  },
  {
   "cell_type": "code",
   "execution_count": 1,
   "metadata": {
    "execution": {
     "iopub.execute_input": "2021-03-24T07:52:17.654759Z",
     "iopub.status.busy": "2021-03-24T07:52:17.654106Z",
     "iopub.status.idle": "2021-03-24T07:52:18.132220Z",
     "shell.execute_reply": "2021-03-24T07:52:18.131079Z"
    }
   },
   "outputs": [],
   "source": [
    "import pandas as pd\n",
    "import requests\n",
    "from bs4 import BeautifulSoup\n",
    "import json\n",
    "import re\n",
    "import time\n",
    "from time import gmtime, strftime \n",
    "import os\n",
    "import pytz\n",
    "from datetime import datetime"
   ]
  },
  {
   "cell_type": "markdown",
   "metadata": {},
   "source": [
    "Scrape the dashboard page"
   ]
  },
  {
   "cell_type": "code",
   "execution_count": 2,
   "metadata": {
    "execution": {
     "iopub.execute_input": "2021-03-24T07:52:18.141572Z",
     "iopub.status.busy": "2021-03-24T07:52:18.136349Z",
     "iopub.status.idle": "2021-03-24T07:52:18.621602Z",
     "shell.execute_reply": "2021-03-24T07:52:18.620707Z"
    }
   },
   "outputs": [],
   "source": [
    "url = \"https://public.tableau.com/interactive/views/COVID-19VaccineDashboardPublic/Vaccine?:embed=y&:showVizHome=n&:apiID=host0\"\n",
    "\n",
    "r = requests.get(url)\n",
    "soup = BeautifulSoup(r.text, \"html.parser\")"
   ]
  },
  {
   "cell_type": "code",
   "execution_count": 3,
   "metadata": {
    "execution": {
     "iopub.execute_input": "2021-03-24T07:52:18.626543Z",
     "iopub.status.busy": "2021-03-24T07:52:18.625967Z",
     "iopub.status.idle": "2021-03-24T07:52:18.629997Z",
     "shell.execute_reply": "2021-03-24T07:52:18.629221Z"
    }
   },
   "outputs": [],
   "source": [
    "tableauData = json.loads(soup.find(\"textarea\",{\"id\": \"tsConfigContainer\"}).text)"
   ]
  },
  {
   "cell_type": "markdown",
   "metadata": {},
   "source": [
    "Get the link to the Tableau data"
   ]
  },
  {
   "cell_type": "code",
   "execution_count": 4,
   "metadata": {
    "execution": {
     "iopub.execute_input": "2021-03-24T07:52:18.634536Z",
     "iopub.status.busy": "2021-03-24T07:52:18.633817Z",
     "iopub.status.idle": "2021-03-24T07:52:18.637826Z",
     "shell.execute_reply": "2021-03-24T07:52:18.638296Z"
    }
   },
   "outputs": [],
   "source": [
    "dataUrl = f'https://public.tableau.com{tableauData[\"vizql_root\"]}/bootstrapSession/sessions/{tableauData[\"sessionid\"]}'"
   ]
  },
  {
   "cell_type": "code",
   "execution_count": 5,
   "metadata": {
    "execution": {
     "iopub.execute_input": "2021-03-24T07:52:18.645921Z",
     "iopub.status.busy": "2021-03-24T07:52:18.645298Z",
     "iopub.status.idle": "2021-03-24T07:52:19.056970Z",
     "shell.execute_reply": "2021-03-24T07:52:19.056422Z"
    }
   },
   "outputs": [],
   "source": [
    "r = requests.post(dataUrl, data= {\n",
    "    \"sheet_id\": tableauData[\"sheetId\"],\n",
    "})\n",
    "\n",
    "dataReg = re.search('\\d+;({.*})\\d+;({.*})', r.text, re.MULTILINE)\n",
    "data1 = json.loads(dataReg.group(2))\n",
    "\n",
    "dataJson = data1[\"secondaryInfo\"][\"presModelMap\"][\"dataDictionary\"][\"presModelHolder\"][\"genDataDictionaryPresModel\"][\"dataSegments\"][\"0\"][\"dataColumns\"]"
   ]
  },
  {
   "cell_type": "markdown",
   "metadata": {},
   "source": [
    "Isolate what you want"
   ]
  },
  {
   "cell_type": "code",
   "execution_count": 6,
   "metadata": {
    "execution": {
     "iopub.execute_input": "2021-03-24T07:52:19.061960Z",
     "iopub.status.busy": "2021-03-24T07:52:19.060602Z",
     "iopub.status.idle": "2021-03-24T07:52:19.062597Z",
     "shell.execute_reply": "2021-03-24T07:52:19.063075Z"
    }
   },
   "outputs": [],
   "source": [
    "counties = dataJson[2]['dataValues'][:58]"
   ]
  },
  {
   "cell_type": "code",
   "execution_count": 7,
   "metadata": {
    "execution": {
     "iopub.execute_input": "2021-03-24T07:52:19.068102Z",
     "iopub.status.busy": "2021-03-24T07:52:19.066621Z",
     "iopub.status.idle": "2021-03-24T07:52:19.069808Z",
     "shell.execute_reply": "2021-03-24T07:52:19.070415Z"
    }
   },
   "outputs": [],
   "source": [
    "doses = dataJson[0]['dataValues'][3:61]"
   ]
  },
  {
   "cell_type": "markdown",
   "metadata": {},
   "source": [
    "Data formatting"
   ]
  },
  {
   "cell_type": "code",
   "execution_count": 8,
   "metadata": {
    "execution": {
     "iopub.execute_input": "2021-03-24T07:52:19.075462Z",
     "iopub.status.busy": "2021-03-24T07:52:19.074213Z",
     "iopub.status.idle": "2021-03-24T07:52:19.076185Z",
     "shell.execute_reply": "2021-03-24T07:52:19.076650Z"
    }
   },
   "outputs": [],
   "source": [
    "zipped = dict(zip(counties, doses))"
   ]
  },
  {
   "cell_type": "code",
   "execution_count": 9,
   "metadata": {
    "execution": {
     "iopub.execute_input": "2021-03-24T07:52:19.083909Z",
     "iopub.status.busy": "2021-03-24T07:52:19.082535Z",
     "iopub.status.idle": "2021-03-24T07:52:19.084876Z",
     "shell.execute_reply": "2021-03-24T07:52:19.085385Z"
    }
   },
   "outputs": [],
   "source": [
    "df = pd.Series(zipped).reset_index()"
   ]
  },
  {
   "cell_type": "code",
   "execution_count": 10,
   "metadata": {
    "execution": {
     "iopub.execute_input": "2021-03-24T07:52:19.090846Z",
     "iopub.status.busy": "2021-03-24T07:52:19.089618Z",
     "iopub.status.idle": "2021-03-24T07:52:19.091615Z",
     "shell.execute_reply": "2021-03-24T07:52:19.092108Z"
    }
   },
   "outputs": [],
   "source": [
    "df.columns = ['location','doses']"
   ]
  },
  {
   "cell_type": "markdown",
   "metadata": {},
   "source": [
    "Grab the overall California total"
   ]
  },
  {
   "cell_type": "code",
   "execution_count": 11,
   "metadata": {
    "execution": {
     "iopub.execute_input": "2021-03-24T07:52:19.097025Z",
     "iopub.status.busy": "2021-03-24T07:52:19.095727Z",
     "iopub.status.idle": "2021-03-24T07:52:19.097635Z",
     "shell.execute_reply": "2021-03-24T07:52:19.098090Z"
    }
   },
   "outputs": [],
   "source": [
    "add = {'location':'California','doses':dataJson[0]['dataValues'][2]}"
   ]
  },
  {
   "cell_type": "code",
   "execution_count": 12,
   "metadata": {
    "execution": {
     "iopub.execute_input": "2021-03-24T07:52:19.106780Z",
     "iopub.status.busy": "2021-03-24T07:52:19.105442Z",
     "iopub.status.idle": "2021-03-24T07:52:19.107456Z",
     "shell.execute_reply": "2021-03-24T07:52:19.107962Z"
    }
   },
   "outputs": [],
   "source": [
    "df = df.append(add, ignore_index=True)"
   ]
  },
  {
   "cell_type": "code",
   "execution_count": 13,
   "metadata": {
    "execution": {
     "iopub.execute_input": "2021-03-24T07:52:19.113550Z",
     "iopub.status.busy": "2021-03-24T07:52:19.112175Z",
     "iopub.status.idle": "2021-03-24T07:52:19.114220Z",
     "shell.execute_reply": "2021-03-24T07:52:19.114751Z"
    }
   },
   "outputs": [],
   "source": [
    "df = df.sort_values(by='location')"
   ]
  },
  {
   "cell_type": "code",
   "execution_count": 14,
   "metadata": {
    "execution": {
     "iopub.execute_input": "2021-03-24T07:52:19.122902Z",
     "iopub.status.busy": "2021-03-24T07:52:19.121524Z",
     "iopub.status.idle": "2021-03-24T07:52:19.123542Z",
     "shell.execute_reply": "2021-03-24T07:52:19.124051Z"
    }
   },
   "outputs": [],
   "source": [
    "df = df[df.location == 'California'].append(df[df.location != 'California']).reset_index(drop=True)"
   ]
  },
  {
   "cell_type": "code",
   "execution_count": null,
   "metadata": {},
   "outputs": [],
   "source": []
  },
  {
   "cell_type": "code",
   "execution_count": 15,
   "metadata": {
    "execution": {
     "iopub.execute_input": "2021-03-24T07:52:19.127849Z",
     "iopub.status.busy": "2021-03-24T07:52:19.127269Z",
     "iopub.status.idle": "2021-03-24T07:52:19.155771Z",
     "shell.execute_reply": "2021-03-24T07:52:19.155138Z"
    }
   },
   "outputs": [],
   "source": [
    "tz = pytz.timezone(\"America/New_York\")"
   ]
  },
  {
   "cell_type": "code",
   "execution_count": 16,
   "metadata": {
    "execution": {
     "iopub.execute_input": "2021-03-24T07:52:19.160691Z",
     "iopub.status.busy": "2021-03-24T07:52:19.159119Z",
     "iopub.status.idle": "2021-03-24T07:52:19.161348Z",
     "shell.execute_reply": "2021-03-24T07:52:19.161828Z"
    }
   },
   "outputs": [],
   "source": [
    "today = datetime.now(tz).date()"
   ]
  },
  {
   "cell_type": "code",
   "execution_count": 17,
   "metadata": {
    "execution": {
     "iopub.execute_input": "2021-03-24T07:52:19.167227Z",
     "iopub.status.busy": "2021-03-24T07:52:19.165773Z",
     "iopub.status.idle": "2021-03-24T07:52:19.167967Z",
     "shell.execute_reply": "2021-03-24T07:52:19.168486Z"
    }
   },
   "outputs": [],
   "source": [
    "data_dir = os.path.join(os.path.abspath(\"\"), \"data\")"
   ]
  },
  {
   "cell_type": "code",
   "execution_count": 18,
   "metadata": {
    "execution": {
     "iopub.execute_input": "2021-03-24T07:52:19.174547Z",
     "iopub.status.busy": "2021-03-24T07:52:19.172091Z",
     "iopub.status.idle": "2021-03-24T07:52:19.177333Z",
     "shell.execute_reply": "2021-03-24T07:52:19.176764Z"
    }
   },
   "outputs": [],
   "source": [
    "df.to_csv(os.path.join(data_dir, f\"{today}.csv\"), index=False)"
   ]
  },
  {
   "cell_type": "code",
   "execution_count": null,
   "metadata": {},
   "outputs": [],
   "source": []
  }
 ],
 "metadata": {
  "kernelspec": {
   "display_name": "Python 3",
   "language": "python",
   "name": "python3"
  },
  "language_info": {
   "codemirror_mode": {
    "name": "ipython",
    "version": 3
   },
   "file_extension": ".py",
   "mimetype": "text/x-python",
   "name": "python",
   "nbconvert_exporter": "python",
   "pygments_lexer": "ipython3",
   "version": "3.8.8"
  }
 },
 "nbformat": 4,
 "nbformat_minor": 4
}
