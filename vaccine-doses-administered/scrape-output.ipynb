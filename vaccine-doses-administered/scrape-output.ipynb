{
 "cells": [
  {
   "cell_type": "markdown",
   "metadata": {},
   "source": [
    "# California COVID vaccinations scrape"
   ]
  },
  {
   "cell_type": "markdown",
   "metadata": {},
   "source": [
    "By [Amy O'Kruk](https://twitter.com/amyokruk)"
   ]
  },
  {
   "cell_type": "markdown",
   "metadata": {},
   "source": [
    "Downloads data on vaccine doses administered by county and statewide from a Tableau-powered dashboard from the California Department of Public Health."
   ]
  },
  {
   "cell_type": "code",
   "execution_count": 1,
   "metadata": {
    "execution": {
     "iopub.execute_input": "2021-03-18T22:14:06.800586Z",
     "iopub.status.busy": "2021-03-18T22:14:06.799991Z",
     "iopub.status.idle": "2021-03-18T22:14:07.360207Z",
     "shell.execute_reply": "2021-03-18T22:14:07.359523Z"
    }
   },
   "outputs": [],
   "source": [
    "import pandas as pd\n",
    "import requests\n",
    "from bs4 import BeautifulSoup\n",
    "import json\n",
    "import re\n",
    "import time\n",
    "from time import gmtime, strftime \n",
    "import os\n",
    "import pytz\n",
    "from datetime import datetime"
   ]
  },
  {
   "cell_type": "markdown",
   "metadata": {},
   "source": [
    "Scrape the dashboard page"
   ]
  },
  {
   "cell_type": "code",
   "execution_count": 2,
   "metadata": {
    "execution": {
     "iopub.execute_input": "2021-03-18T22:14:07.366051Z",
     "iopub.status.busy": "2021-03-18T22:14:07.363810Z",
     "iopub.status.idle": "2021-03-18T22:14:07.805720Z",
     "shell.execute_reply": "2021-03-18T22:14:07.805162Z"
    }
   },
   "outputs": [],
   "source": [
    "url = \"https://public.tableau.com/interactive/views/COVID-19VaccineDashboardPublic/Vaccine?:embed=y&:showVizHome=n&:apiID=host0\"\n",
    "\n",
    "r = requests.get(url)\n",
    "soup = BeautifulSoup(r.text, \"html.parser\")"
   ]
  },
  {
   "cell_type": "code",
   "execution_count": 3,
   "metadata": {
    "execution": {
     "iopub.execute_input": "2021-03-18T22:14:07.811369Z",
     "iopub.status.busy": "2021-03-18T22:14:07.810745Z",
     "iopub.status.idle": "2021-03-18T22:14:07.814484Z",
     "shell.execute_reply": "2021-03-18T22:14:07.813971Z"
    }
   },
   "outputs": [],
   "source": [
    "tableauData = json.loads(soup.find(\"textarea\",{\"id\": \"tsConfigContainer\"}).text)"
   ]
  },
  {
   "cell_type": "markdown",
   "metadata": {},
   "source": [
    "Get the link to the Tableau data"
   ]
  },
  {
   "cell_type": "code",
   "execution_count": 4,
   "metadata": {
    "execution": {
     "iopub.execute_input": "2021-03-18T22:14:07.817888Z",
     "iopub.status.busy": "2021-03-18T22:14:07.817377Z",
     "iopub.status.idle": "2021-03-18T22:14:07.820717Z",
     "shell.execute_reply": "2021-03-18T22:14:07.820292Z"
    }
   },
   "outputs": [],
   "source": [
    "dataUrl = f'https://public.tableau.com{tableauData[\"vizql_root\"]}/bootstrapSession/sessions/{tableauData[\"sessionid\"]}'"
   ]
  },
  {
   "cell_type": "code",
   "execution_count": 5,
   "metadata": {
    "execution": {
     "iopub.execute_input": "2021-03-18T22:14:07.826949Z",
     "iopub.status.busy": "2021-03-18T22:14:07.826385Z",
     "iopub.status.idle": "2021-03-18T22:14:08.062721Z",
     "shell.execute_reply": "2021-03-18T22:14:08.062111Z"
    }
   },
   "outputs": [],
   "source": [
    "r = requests.post(dataUrl, data= {\n",
    "    \"sheet_id\": tableauData[\"sheetId\"],\n",
    "})\n",
    "\n",
    "dataReg = re.search('\\d+;({.*})\\d+;({.*})', r.text, re.MULTILINE)\n",
    "data1 = json.loads(dataReg.group(2))\n",
    "\n",
    "dataJson = data1[\"secondaryInfo\"][\"presModelMap\"][\"dataDictionary\"][\"presModelHolder\"][\"genDataDictionaryPresModel\"][\"dataSegments\"][\"0\"][\"dataColumns\"]"
   ]
  },
  {
   "cell_type": "markdown",
   "metadata": {},
   "source": [
    "Isolate what you want"
   ]
  },
  {
   "cell_type": "code",
   "execution_count": 6,
   "metadata": {
    "execution": {
     "iopub.execute_input": "2021-03-18T22:14:08.066481Z",
     "iopub.status.busy": "2021-03-18T22:14:08.065957Z",
     "iopub.status.idle": "2021-03-18T22:14:08.068786Z",
     "shell.execute_reply": "2021-03-18T22:14:08.069199Z"
    }
   },
   "outputs": [],
   "source": [
    "counties = dataJson[2]['dataValues'][:58]"
   ]
  },
  {
   "cell_type": "code",
   "execution_count": 7,
   "metadata": {
    "execution": {
     "iopub.execute_input": "2021-03-18T22:14:08.073031Z",
     "iopub.status.busy": "2021-03-18T22:14:08.072517Z",
     "iopub.status.idle": "2021-03-18T22:14:08.076018Z",
     "shell.execute_reply": "2021-03-18T22:14:08.075567Z"
    }
   },
   "outputs": [],
   "source": [
    "doses = dataJson[0]['dataValues'][3:61]"
   ]
  },
  {
   "cell_type": "markdown",
   "metadata": {},
   "source": [
    "Data formatting"
   ]
  },
  {
   "cell_type": "code",
   "execution_count": 8,
   "metadata": {
    "execution": {
     "iopub.execute_input": "2021-03-18T22:14:08.079551Z",
     "iopub.status.busy": "2021-03-18T22:14:08.079058Z",
     "iopub.status.idle": "2021-03-18T22:14:08.082361Z",
     "shell.execute_reply": "2021-03-18T22:14:08.081887Z"
    }
   },
   "outputs": [],
   "source": [
    "zipped = dict(zip(counties, doses))"
   ]
  },
  {
   "cell_type": "code",
   "execution_count": 9,
   "metadata": {
    "execution": {
     "iopub.execute_input": "2021-03-18T22:14:08.088348Z",
     "iopub.status.busy": "2021-03-18T22:14:08.087680Z",
     "iopub.status.idle": "2021-03-18T22:14:08.091732Z",
     "shell.execute_reply": "2021-03-18T22:14:08.091207Z"
    }
   },
   "outputs": [],
   "source": [
    "df = pd.Series(zipped).reset_index()"
   ]
  },
  {
   "cell_type": "code",
   "execution_count": 10,
   "metadata": {
    "execution": {
     "iopub.execute_input": "2021-03-18T22:14:08.095432Z",
     "iopub.status.busy": "2021-03-18T22:14:08.094959Z",
     "iopub.status.idle": "2021-03-18T22:14:08.098135Z",
     "shell.execute_reply": "2021-03-18T22:14:08.097709Z"
    }
   },
   "outputs": [],
   "source": [
    "df.columns = ['location','doses']"
   ]
  },
  {
   "cell_type": "markdown",
   "metadata": {},
   "source": [
    "Grab the overall California total"
   ]
  },
  {
   "cell_type": "code",
   "execution_count": 11,
   "metadata": {
    "execution": {
     "iopub.execute_input": "2021-03-18T22:14:08.101411Z",
     "iopub.status.busy": "2021-03-18T22:14:08.100939Z",
     "iopub.status.idle": "2021-03-18T22:14:08.104376Z",
     "shell.execute_reply": "2021-03-18T22:14:08.103949Z"
    }
   },
   "outputs": [],
   "source": [
    "add = {'location':'California','doses':dataJson[0]['dataValues'][2]}"
   ]
  },
  {
   "cell_type": "code",
   "execution_count": 12,
   "metadata": {
    "execution": {
     "iopub.execute_input": "2021-03-18T22:14:08.110875Z",
     "iopub.status.busy": "2021-03-18T22:14:08.110352Z",
     "iopub.status.idle": "2021-03-18T22:14:08.113872Z",
     "shell.execute_reply": "2021-03-18T22:14:08.113412Z"
    }
   },
   "outputs": [],
   "source": [
    "df = df.append(add, ignore_index=True)"
   ]
  },
  {
   "cell_type": "code",
   "execution_count": 13,
   "metadata": {
    "execution": {
     "iopub.execute_input": "2021-03-18T22:14:08.118109Z",
     "iopub.status.busy": "2021-03-18T22:14:08.117570Z",
     "iopub.status.idle": "2021-03-18T22:14:08.121055Z",
     "shell.execute_reply": "2021-03-18T22:14:08.120597Z"
    }
   },
   "outputs": [],
   "source": [
    "df = df.sort_values(by='location')"
   ]
  },
  {
   "cell_type": "code",
   "execution_count": 14,
   "metadata": {
    "execution": {
     "iopub.execute_input": "2021-03-18T22:14:08.126815Z",
     "iopub.status.busy": "2021-03-18T22:14:08.126289Z",
     "iopub.status.idle": "2021-03-18T22:14:08.129620Z",
     "shell.execute_reply": "2021-03-18T22:14:08.129172Z"
    }
   },
   "outputs": [],
   "source": [
    "df = df[df.location == 'California'].append(df[df.location != 'California']).reset_index(drop=True)"
   ]
  },
  {
   "cell_type": "code",
   "execution_count": null,
   "metadata": {},
   "outputs": [],
   "source": []
  },
  {
   "cell_type": "code",
   "execution_count": 15,
   "metadata": {
    "execution": {
     "iopub.execute_input": "2021-03-18T22:14:08.132806Z",
     "iopub.status.busy": "2021-03-18T22:14:08.132331Z",
     "iopub.status.idle": "2021-03-18T22:14:08.149432Z",
     "shell.execute_reply": "2021-03-18T22:14:08.148906Z"
    }
   },
   "outputs": [],
   "source": [
    "tz = pytz.timezone(\"America/New_York\")"
   ]
  },
  {
   "cell_type": "code",
   "execution_count": 16,
   "metadata": {
    "execution": {
     "iopub.execute_input": "2021-03-18T22:14:08.153493Z",
     "iopub.status.busy": "2021-03-18T22:14:08.152714Z",
     "iopub.status.idle": "2021-03-18T22:14:08.156147Z",
     "shell.execute_reply": "2021-03-18T22:14:08.156631Z"
    }
   },
   "outputs": [],
   "source": [
    "today = datetime.now(tz).date()"
   ]
  },
  {
   "cell_type": "code",
   "execution_count": 17,
   "metadata": {
    "execution": {
     "iopub.execute_input": "2021-03-18T22:14:08.159964Z",
     "iopub.status.busy": "2021-03-18T22:14:08.159490Z",
     "iopub.status.idle": "2021-03-18T22:14:08.162961Z",
     "shell.execute_reply": "2021-03-18T22:14:08.162434Z"
    }
   },
   "outputs": [],
   "source": [
    "data_dir = os.path.join(os.path.abspath(\"\"), \"data\")"
   ]
  },
  {
   "cell_type": "code",
   "execution_count": 18,
   "metadata": {
    "execution": {
     "iopub.execute_input": "2021-03-18T22:14:08.168366Z",
     "iopub.status.busy": "2021-03-18T22:14:08.167860Z",
     "iopub.status.idle": "2021-03-18T22:14:08.202746Z",
     "shell.execute_reply": "2021-03-18T22:14:08.201909Z"
    }
   },
   "outputs": [],
   "source": [
    "df.to_csv(os.path.join(data_dir, f\"{today}.csv\"), index=False)"
   ]
  },
  {
   "cell_type": "code",
   "execution_count": null,
   "metadata": {},
   "outputs": [],
   "source": []
  }
 ],
 "metadata": {
  "kernelspec": {
   "display_name": "Python 3",
   "language": "python",
   "name": "python3"
  },
  "language_info": {
   "codemirror_mode": {
    "name": "ipython",
    "version": 3
   },
   "file_extension": ".py",
   "mimetype": "text/x-python",
   "name": "python",
   "nbconvert_exporter": "python",
   "pygments_lexer": "ipython3",
   "version": "3.8.8"
  }
 },
 "nbformat": 4,
 "nbformat_minor": 4
}
