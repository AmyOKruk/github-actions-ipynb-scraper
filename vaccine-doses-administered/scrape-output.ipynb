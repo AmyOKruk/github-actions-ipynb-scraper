{
 "cells": [
  {
   "cell_type": "markdown",
   "metadata": {},
   "source": [
    "# California COVID vaccinations scrape"
   ]
  },
  {
   "cell_type": "markdown",
   "metadata": {},
   "source": [
    "By [Amy O'Kruk](https://twitter.com/amyokruk)"
   ]
  },
  {
   "cell_type": "markdown",
   "metadata": {},
   "source": [
    "Downloads data on vaccine doses administered by county and statewide from a Tableau-powered dashboard from the California Department of Public Health."
   ]
  },
  {
   "cell_type": "code",
   "execution_count": 1,
   "metadata": {
    "execution": {
     "iopub.execute_input": "2021-03-22T18:56:00.127153Z",
     "iopub.status.busy": "2021-03-22T18:56:00.126478Z",
     "iopub.status.idle": "2021-03-22T18:56:00.530789Z",
     "shell.execute_reply": "2021-03-22T18:56:00.530182Z"
    }
   },
   "outputs": [],
   "source": [
    "import pandas as pd\n",
    "import requests\n",
    "from bs4 import BeautifulSoup\n",
    "import json\n",
    "import re\n",
    "import time\n",
    "from time import gmtime, strftime \n",
    "import os\n",
    "import pytz\n",
    "from datetime import datetime"
   ]
  },
  {
   "cell_type": "markdown",
   "metadata": {},
   "source": [
    "Scrape the dashboard page"
   ]
  },
  {
   "cell_type": "code",
   "execution_count": 2,
   "metadata": {
    "execution": {
     "iopub.execute_input": "2021-03-22T18:56:00.536229Z",
     "iopub.status.busy": "2021-03-22T18:56:00.534086Z",
     "iopub.status.idle": "2021-03-22T18:56:00.806494Z",
     "shell.execute_reply": "2021-03-22T18:56:00.806011Z"
    }
   },
   "outputs": [],
   "source": [
    "url = \"https://public.tableau.com/interactive/views/COVID-19VaccineDashboardPublic/Vaccine?:embed=y&:showVizHome=n&:apiID=host0\"\n",
    "\n",
    "r = requests.get(url)\n",
    "soup = BeautifulSoup(r.text, \"html.parser\")"
   ]
  },
  {
   "cell_type": "code",
   "execution_count": 3,
   "metadata": {
    "execution": {
     "iopub.execute_input": "2021-03-22T18:56:00.812005Z",
     "iopub.status.busy": "2021-03-22T18:56:00.811430Z",
     "iopub.status.idle": "2021-03-22T18:56:00.815208Z",
     "shell.execute_reply": "2021-03-22T18:56:00.814747Z"
    }
   },
   "outputs": [],
   "source": [
    "tableauData = json.loads(soup.find(\"textarea\",{\"id\": \"tsConfigContainer\"}).text)"
   ]
  },
  {
   "cell_type": "markdown",
   "metadata": {},
   "source": [
    "Get the link to the Tableau data"
   ]
  },
  {
   "cell_type": "code",
   "execution_count": 4,
   "metadata": {
    "execution": {
     "iopub.execute_input": "2021-03-22T18:56:00.819504Z",
     "iopub.status.busy": "2021-03-22T18:56:00.818206Z",
     "iopub.status.idle": "2021-03-22T18:56:00.820155Z",
     "shell.execute_reply": "2021-03-22T18:56:00.820602Z"
    }
   },
   "outputs": [],
   "source": [
    "dataUrl = f'https://public.tableau.com{tableauData[\"vizql_root\"]}/bootstrapSession/sessions/{tableauData[\"sessionid\"]}'"
   ]
  },
  {
   "cell_type": "code",
   "execution_count": 5,
   "metadata": {
    "execution": {
     "iopub.execute_input": "2021-03-22T18:56:00.827260Z",
     "iopub.status.busy": "2021-03-22T18:56:00.826714Z",
     "iopub.status.idle": "2021-03-22T18:56:00.968802Z",
     "shell.execute_reply": "2021-03-22T18:56:00.969226Z"
    }
   },
   "outputs": [],
   "source": [
    "r = requests.post(dataUrl, data= {\n",
    "    \"sheet_id\": tableauData[\"sheetId\"],\n",
    "})\n",
    "\n",
    "dataReg = re.search('\\d+;({.*})\\d+;({.*})', r.text, re.MULTILINE)\n",
    "data1 = json.loads(dataReg.group(2))\n",
    "\n",
    "dataJson = data1[\"secondaryInfo\"][\"presModelMap\"][\"dataDictionary\"][\"presModelHolder\"][\"genDataDictionaryPresModel\"][\"dataSegments\"][\"0\"][\"dataColumns\"]"
   ]
  },
  {
   "cell_type": "markdown",
   "metadata": {},
   "source": [
    "Isolate what you want"
   ]
  },
  {
   "cell_type": "code",
   "execution_count": 6,
   "metadata": {
    "execution": {
     "iopub.execute_input": "2021-03-22T18:56:00.973766Z",
     "iopub.status.busy": "2021-03-22T18:56:00.972502Z",
     "iopub.status.idle": "2021-03-22T18:56:00.974433Z",
     "shell.execute_reply": "2021-03-22T18:56:00.974882Z"
    }
   },
   "outputs": [],
   "source": [
    "counties = dataJson[2]['dataValues'][:58]"
   ]
  },
  {
   "cell_type": "code",
   "execution_count": 7,
   "metadata": {
    "execution": {
     "iopub.execute_input": "2021-03-22T18:56:00.978910Z",
     "iopub.status.busy": "2021-03-22T18:56:00.977888Z",
     "iopub.status.idle": "2021-03-22T18:56:00.979708Z",
     "shell.execute_reply": "2021-03-22T18:56:00.980335Z"
    }
   },
   "outputs": [],
   "source": [
    "doses = dataJson[0]['dataValues'][3:61]"
   ]
  },
  {
   "cell_type": "markdown",
   "metadata": {},
   "source": [
    "Data formatting"
   ]
  },
  {
   "cell_type": "code",
   "execution_count": 8,
   "metadata": {
    "execution": {
     "iopub.execute_input": "2021-03-22T18:56:00.984552Z",
     "iopub.status.busy": "2021-03-22T18:56:00.983303Z",
     "iopub.status.idle": "2021-03-22T18:56:00.985205Z",
     "shell.execute_reply": "2021-03-22T18:56:00.985646Z"
    }
   },
   "outputs": [],
   "source": [
    "zipped = dict(zip(counties, doses))"
   ]
  },
  {
   "cell_type": "code",
   "execution_count": 9,
   "metadata": {
    "execution": {
     "iopub.execute_input": "2021-03-22T18:56:00.992012Z",
     "iopub.status.busy": "2021-03-22T18:56:00.990760Z",
     "iopub.status.idle": "2021-03-22T18:56:00.992667Z",
     "shell.execute_reply": "2021-03-22T18:56:00.993096Z"
    }
   },
   "outputs": [],
   "source": [
    "df = pd.Series(zipped).reset_index()"
   ]
  },
  {
   "cell_type": "code",
   "execution_count": 10,
   "metadata": {
    "execution": {
     "iopub.execute_input": "2021-03-22T18:56:00.997342Z",
     "iopub.status.busy": "2021-03-22T18:56:00.996523Z",
     "iopub.status.idle": "2021-03-22T18:56:00.998687Z",
     "shell.execute_reply": "2021-03-22T18:56:00.999137Z"
    }
   },
   "outputs": [],
   "source": [
    "df.columns = ['location','doses']"
   ]
  },
  {
   "cell_type": "markdown",
   "metadata": {},
   "source": [
    "Grab the overall California total"
   ]
  },
  {
   "cell_type": "code",
   "execution_count": 11,
   "metadata": {
    "execution": {
     "iopub.execute_input": "2021-03-22T18:56:01.003404Z",
     "iopub.status.busy": "2021-03-22T18:56:01.002244Z",
     "iopub.status.idle": "2021-03-22T18:56:01.003969Z",
     "shell.execute_reply": "2021-03-22T18:56:01.004433Z"
    }
   },
   "outputs": [],
   "source": [
    "add = {'location':'California','doses':dataJson[0]['dataValues'][2]}"
   ]
  },
  {
   "cell_type": "code",
   "execution_count": 12,
   "metadata": {
    "execution": {
     "iopub.execute_input": "2021-03-22T18:56:01.011744Z",
     "iopub.status.busy": "2021-03-22T18:56:01.009988Z",
     "iopub.status.idle": "2021-03-22T18:56:01.012923Z",
     "shell.execute_reply": "2021-03-22T18:56:01.013427Z"
    }
   },
   "outputs": [],
   "source": [
    "df = df.append(add, ignore_index=True)"
   ]
  },
  {
   "cell_type": "code",
   "execution_count": 13,
   "metadata": {
    "execution": {
     "iopub.execute_input": "2021-03-22T18:56:01.018429Z",
     "iopub.status.busy": "2021-03-22T18:56:01.017213Z",
     "iopub.status.idle": "2021-03-22T18:56:01.018994Z",
     "shell.execute_reply": "2021-03-22T18:56:01.019454Z"
    }
   },
   "outputs": [],
   "source": [
    "df = df.sort_values(by='location')"
   ]
  },
  {
   "cell_type": "code",
   "execution_count": 14,
   "metadata": {
    "execution": {
     "iopub.execute_input": "2021-03-22T18:56:01.025791Z",
     "iopub.status.busy": "2021-03-22T18:56:01.024636Z",
     "iopub.status.idle": "2021-03-22T18:56:01.026446Z",
     "shell.execute_reply": "2021-03-22T18:56:01.027307Z"
    }
   },
   "outputs": [],
   "source": [
    "df = df[df.location == 'California'].append(df[df.location != 'California']).reset_index(drop=True)"
   ]
  },
  {
   "cell_type": "code",
   "execution_count": null,
   "metadata": {},
   "outputs": [],
   "source": []
  },
  {
   "cell_type": "code",
   "execution_count": 15,
   "metadata": {
    "execution": {
     "iopub.execute_input": "2021-03-22T18:56:01.030725Z",
     "iopub.status.busy": "2021-03-22T18:56:01.030139Z",
     "iopub.status.idle": "2021-03-22T18:56:01.049738Z",
     "shell.execute_reply": "2021-03-22T18:56:01.049185Z"
    }
   },
   "outputs": [],
   "source": [
    "tz = pytz.timezone(\"America/New_York\")"
   ]
  },
  {
   "cell_type": "code",
   "execution_count": 16,
   "metadata": {
    "execution": {
     "iopub.execute_input": "2021-03-22T18:56:01.054171Z",
     "iopub.status.busy": "2021-03-22T18:56:01.052992Z",
     "iopub.status.idle": "2021-03-22T18:56:01.054817Z",
     "shell.execute_reply": "2021-03-22T18:56:01.055332Z"
    }
   },
   "outputs": [],
   "source": [
    "today = datetime.now(tz).date()"
   ]
  },
  {
   "cell_type": "code",
   "execution_count": 17,
   "metadata": {
    "execution": {
     "iopub.execute_input": "2021-03-22T18:56:01.060694Z",
     "iopub.status.busy": "2021-03-22T18:56:01.059222Z",
     "iopub.status.idle": "2021-03-22T18:56:01.061285Z",
     "shell.execute_reply": "2021-03-22T18:56:01.061810Z"
    }
   },
   "outputs": [],
   "source": [
    "data_dir = os.path.join(os.path.abspath(\"\"), \"data\")"
   ]
  },
  {
   "cell_type": "code",
   "execution_count": 18,
   "metadata": {
    "execution": {
     "iopub.execute_input": "2021-03-22T18:56:01.066339Z",
     "iopub.status.busy": "2021-03-22T18:56:01.065143Z",
     "iopub.status.idle": "2021-03-22T18:56:01.070174Z",
     "shell.execute_reply": "2021-03-22T18:56:01.069633Z"
    }
   },
   "outputs": [],
   "source": [
    "df.to_csv(os.path.join(data_dir, f\"{today}.csv\"), index=False)"
   ]
  },
  {
   "cell_type": "code",
   "execution_count": null,
   "metadata": {},
   "outputs": [],
   "source": []
  }
 ],
 "metadata": {
  "kernelspec": {
   "display_name": "Python 3",
   "language": "python",
   "name": "python3"
  },
  "language_info": {
   "codemirror_mode": {
    "name": "ipython",
    "version": 3
   },
   "file_extension": ".py",
   "mimetype": "text/x-python",
   "name": "python",
   "nbconvert_exporter": "python",
   "pygments_lexer": "ipython3",
   "version": "3.8.8"
  }
 },
 "nbformat": 4,
 "nbformat_minor": 4
}
