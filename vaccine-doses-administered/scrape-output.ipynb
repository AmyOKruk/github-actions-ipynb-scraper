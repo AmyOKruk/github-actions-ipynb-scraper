{
 "cells": [
  {
   "cell_type": "markdown",
   "metadata": {},
   "source": [
    "# California COVID vaccinations scrape"
   ]
  },
  {
   "cell_type": "markdown",
   "metadata": {},
   "source": [
    "By [Amy O'Kruk](https://twitter.com/amyokruk)"
   ]
  },
  {
   "cell_type": "markdown",
   "metadata": {},
   "source": [
    "Downloads data on vaccine doses administered by county and statewide from a Tableau-powered dashboard from the California Department of Public Health."
   ]
  },
  {
   "cell_type": "code",
   "execution_count": 1,
   "metadata": {
    "execution": {
     "iopub.execute_input": "2021-03-23T19:37:32.153601Z",
     "iopub.status.busy": "2021-03-23T19:37:32.152967Z",
     "iopub.status.idle": "2021-03-23T19:37:32.519556Z",
     "shell.execute_reply": "2021-03-23T19:37:32.518596Z"
    }
   },
   "outputs": [],
   "source": [
    "import pandas as pd\n",
    "import requests\n",
    "from bs4 import BeautifulSoup\n",
    "import json\n",
    "import re\n",
    "import time\n",
    "from time import gmtime, strftime \n",
    "import os\n",
    "import pytz\n",
    "from datetime import datetime"
   ]
  },
  {
   "cell_type": "markdown",
   "metadata": {},
   "source": [
    "Scrape the dashboard page"
   ]
  },
  {
   "cell_type": "code",
   "execution_count": 2,
   "metadata": {
    "execution": {
     "iopub.execute_input": "2021-03-23T19:37:32.525230Z",
     "iopub.status.busy": "2021-03-23T19:37:32.522864Z",
     "iopub.status.idle": "2021-03-23T19:37:32.978844Z",
     "shell.execute_reply": "2021-03-23T19:37:32.978371Z"
    }
   },
   "outputs": [],
   "source": [
    "url = \"https://public.tableau.com/interactive/views/COVID-19VaccineDashboardPublic/Vaccine?:embed=y&:showVizHome=n&:apiID=host0\"\n",
    "\n",
    "r = requests.get(url)\n",
    "soup = BeautifulSoup(r.text, \"html.parser\")"
   ]
  },
  {
   "cell_type": "code",
   "execution_count": 3,
   "metadata": {
    "execution": {
     "iopub.execute_input": "2021-03-23T19:37:32.983589Z",
     "iopub.status.busy": "2021-03-23T19:37:32.983054Z",
     "iopub.status.idle": "2021-03-23T19:37:32.986309Z",
     "shell.execute_reply": "2021-03-23T19:37:32.986766Z"
    }
   },
   "outputs": [],
   "source": [
    "tableauData = json.loads(soup.find(\"textarea\",{\"id\": \"tsConfigContainer\"}).text)"
   ]
  },
  {
   "cell_type": "markdown",
   "metadata": {},
   "source": [
    "Get the link to the Tableau data"
   ]
  },
  {
   "cell_type": "code",
   "execution_count": 4,
   "metadata": {
    "execution": {
     "iopub.execute_input": "2021-03-23T19:37:32.990447Z",
     "iopub.status.busy": "2021-03-23T19:37:32.989905Z",
     "iopub.status.idle": "2021-03-23T19:37:32.993836Z",
     "shell.execute_reply": "2021-03-23T19:37:32.993380Z"
    }
   },
   "outputs": [],
   "source": [
    "dataUrl = f'https://public.tableau.com{tableauData[\"vizql_root\"]}/bootstrapSession/sessions/{tableauData[\"sessionid\"]}'"
   ]
  },
  {
   "cell_type": "code",
   "execution_count": 5,
   "metadata": {
    "execution": {
     "iopub.execute_input": "2021-03-23T19:37:33.000650Z",
     "iopub.status.busy": "2021-03-23T19:37:32.999986Z",
     "iopub.status.idle": "2021-03-23T19:37:33.236248Z",
     "shell.execute_reply": "2021-03-23T19:37:33.235765Z"
    }
   },
   "outputs": [],
   "source": [
    "r = requests.post(dataUrl, data= {\n",
    "    \"sheet_id\": tableauData[\"sheetId\"],\n",
    "})\n",
    "\n",
    "dataReg = re.search('\\d+;({.*})\\d+;({.*})', r.text, re.MULTILINE)\n",
    "data1 = json.loads(dataReg.group(2))\n",
    "\n",
    "dataJson = data1[\"secondaryInfo\"][\"presModelMap\"][\"dataDictionary\"][\"presModelHolder\"][\"genDataDictionaryPresModel\"][\"dataSegments\"][\"0\"][\"dataColumns\"]"
   ]
  },
  {
   "cell_type": "markdown",
   "metadata": {},
   "source": [
    "Isolate what you want"
   ]
  },
  {
   "cell_type": "code",
   "execution_count": 6,
   "metadata": {
    "execution": {
     "iopub.execute_input": "2021-03-23T19:37:33.241421Z",
     "iopub.status.busy": "2021-03-23T19:37:33.239997Z",
     "iopub.status.idle": "2021-03-23T19:37:33.242060Z",
     "shell.execute_reply": "2021-03-23T19:37:33.242507Z"
    }
   },
   "outputs": [],
   "source": [
    "counties = dataJson[2]['dataValues'][:58]"
   ]
  },
  {
   "cell_type": "code",
   "execution_count": 7,
   "metadata": {
    "execution": {
     "iopub.execute_input": "2021-03-23T19:37:33.247221Z",
     "iopub.status.busy": "2021-03-23T19:37:33.245928Z",
     "iopub.status.idle": "2021-03-23T19:37:33.247784Z",
     "shell.execute_reply": "2021-03-23T19:37:33.248210Z"
    }
   },
   "outputs": [],
   "source": [
    "doses = dataJson[0]['dataValues'][3:61]"
   ]
  },
  {
   "cell_type": "markdown",
   "metadata": {},
   "source": [
    "Data formatting"
   ]
  },
  {
   "cell_type": "code",
   "execution_count": 8,
   "metadata": {
    "execution": {
     "iopub.execute_input": "2021-03-23T19:37:33.252276Z",
     "iopub.status.busy": "2021-03-23T19:37:33.251724Z",
     "iopub.status.idle": "2021-03-23T19:37:33.254501Z",
     "shell.execute_reply": "2021-03-23T19:37:33.253902Z"
    }
   },
   "outputs": [],
   "source": [
    "zipped = dict(zip(counties, doses))"
   ]
  },
  {
   "cell_type": "code",
   "execution_count": 9,
   "metadata": {
    "execution": {
     "iopub.execute_input": "2021-03-23T19:37:33.262343Z",
     "iopub.status.busy": "2021-03-23T19:37:33.261811Z",
     "iopub.status.idle": "2021-03-23T19:37:33.264530Z",
     "shell.execute_reply": "2021-03-23T19:37:33.263990Z"
    }
   },
   "outputs": [],
   "source": [
    "df = pd.Series(zipped).reset_index()"
   ]
  },
  {
   "cell_type": "code",
   "execution_count": 10,
   "metadata": {
    "execution": {
     "iopub.execute_input": "2021-03-23T19:37:33.270040Z",
     "iopub.status.busy": "2021-03-23T19:37:33.268478Z",
     "iopub.status.idle": "2021-03-23T19:37:33.270640Z",
     "shell.execute_reply": "2021-03-23T19:37:33.271061Z"
    }
   },
   "outputs": [],
   "source": [
    "df.columns = ['location','doses']"
   ]
  },
  {
   "cell_type": "markdown",
   "metadata": {},
   "source": [
    "Grab the overall California total"
   ]
  },
  {
   "cell_type": "code",
   "execution_count": 11,
   "metadata": {
    "execution": {
     "iopub.execute_input": "2021-03-23T19:37:33.275614Z",
     "iopub.status.busy": "2021-03-23T19:37:33.274591Z",
     "iopub.status.idle": "2021-03-23T19:37:33.276766Z",
     "shell.execute_reply": "2021-03-23T19:37:33.277337Z"
    }
   },
   "outputs": [],
   "source": [
    "add = {'location':'California','doses':dataJson[0]['dataValues'][2]}"
   ]
  },
  {
   "cell_type": "code",
   "execution_count": 12,
   "metadata": {
    "execution": {
     "iopub.execute_input": "2021-03-23T19:37:33.285618Z",
     "iopub.status.busy": "2021-03-23T19:37:33.283921Z",
     "iopub.status.idle": "2021-03-23T19:37:33.286188Z",
     "shell.execute_reply": "2021-03-23T19:37:33.286662Z"
    }
   },
   "outputs": [],
   "source": [
    "df = df.append(add, ignore_index=True)"
   ]
  },
  {
   "cell_type": "code",
   "execution_count": 13,
   "metadata": {
    "execution": {
     "iopub.execute_input": "2021-03-23T19:37:33.292422Z",
     "iopub.status.busy": "2021-03-23T19:37:33.291056Z",
     "iopub.status.idle": "2021-03-23T19:37:33.293096Z",
     "shell.execute_reply": "2021-03-23T19:37:33.293696Z"
    }
   },
   "outputs": [],
   "source": [
    "df = df.sort_values(by='location')"
   ]
  },
  {
   "cell_type": "code",
   "execution_count": 14,
   "metadata": {
    "execution": {
     "iopub.execute_input": "2021-03-23T19:37:33.301563Z",
     "iopub.status.busy": "2021-03-23T19:37:33.301003Z",
     "iopub.status.idle": "2021-03-23T19:37:33.303703Z",
     "shell.execute_reply": "2021-03-23T19:37:33.303232Z"
    }
   },
   "outputs": [],
   "source": [
    "df = df[df.location == 'California'].append(df[df.location != 'California']).reset_index(drop=True)"
   ]
  },
  {
   "cell_type": "code",
   "execution_count": null,
   "metadata": {},
   "outputs": [],
   "source": []
  },
  {
   "cell_type": "code",
   "execution_count": 15,
   "metadata": {
    "execution": {
     "iopub.execute_input": "2021-03-23T19:37:33.307263Z",
     "iopub.status.busy": "2021-03-23T19:37:33.306760Z",
     "iopub.status.idle": "2021-03-23T19:37:33.329350Z",
     "shell.execute_reply": "2021-03-23T19:37:33.328895Z"
    }
   },
   "outputs": [],
   "source": [
    "tz = pytz.timezone(\"America/New_York\")"
   ]
  },
  {
   "cell_type": "code",
   "execution_count": 16,
   "metadata": {
    "execution": {
     "iopub.execute_input": "2021-03-23T19:37:33.333897Z",
     "iopub.status.busy": "2021-03-23T19:37:33.332665Z",
     "iopub.status.idle": "2021-03-23T19:37:33.334499Z",
     "shell.execute_reply": "2021-03-23T19:37:33.334992Z"
    }
   },
   "outputs": [],
   "source": [
    "today = datetime.now(tz).date()"
   ]
  },
  {
   "cell_type": "code",
   "execution_count": 17,
   "metadata": {
    "execution": {
     "iopub.execute_input": "2021-03-23T19:37:33.338671Z",
     "iopub.status.busy": "2021-03-23T19:37:33.338073Z",
     "iopub.status.idle": "2021-03-23T19:37:33.340097Z",
     "shell.execute_reply": "2021-03-23T19:37:33.340514Z"
    }
   },
   "outputs": [],
   "source": [
    "data_dir = os.path.join(os.path.abspath(\"\"), \"data\")"
   ]
  },
  {
   "cell_type": "code",
   "execution_count": 18,
   "metadata": {
    "execution": {
     "iopub.execute_input": "2021-03-23T19:37:33.344592Z",
     "iopub.status.busy": "2021-03-23T19:37:33.343963Z",
     "iopub.status.idle": "2021-03-23T19:37:33.348746Z",
     "shell.execute_reply": "2021-03-23T19:37:33.348192Z"
    }
   },
   "outputs": [],
   "source": [
    "df.to_csv(os.path.join(data_dir, f\"{today}.csv\"), index=False)"
   ]
  },
  {
   "cell_type": "code",
   "execution_count": null,
   "metadata": {},
   "outputs": [],
   "source": []
  }
 ],
 "metadata": {
  "kernelspec": {
   "display_name": "Python 3",
   "language": "python",
   "name": "python3"
  },
  "language_info": {
   "codemirror_mode": {
    "name": "ipython",
    "version": 3
   },
   "file_extension": ".py",
   "mimetype": "text/x-python",
   "name": "python",
   "nbconvert_exporter": "python",
   "pygments_lexer": "ipython3",
   "version": "3.8.8"
  }
 },
 "nbformat": 4,
 "nbformat_minor": 4
}
