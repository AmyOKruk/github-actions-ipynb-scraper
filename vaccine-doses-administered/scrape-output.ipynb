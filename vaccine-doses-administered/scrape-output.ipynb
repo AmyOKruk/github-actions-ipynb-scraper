{
 "cells": [
  {
   "cell_type": "markdown",
   "metadata": {},
   "source": [
    "# California COVID vaccinations scrape"
   ]
  },
  {
   "cell_type": "markdown",
   "metadata": {},
   "source": [
    "By [Amy O'Kruk](https://twitter.com/amyokruk)"
   ]
  },
  {
   "cell_type": "markdown",
   "metadata": {},
   "source": [
    "Downloads data on vaccine doses administered by county and statewide from a Tableau-powered dashboard from the California Department of Public Health."
   ]
  },
  {
   "cell_type": "code",
   "execution_count": 1,
   "metadata": {
    "execution": {
     "iopub.execute_input": "2021-03-14T03:13:42.950001Z",
     "iopub.status.busy": "2021-03-14T03:13:42.949328Z",
     "iopub.status.idle": "2021-03-14T03:13:43.375714Z",
     "shell.execute_reply": "2021-03-14T03:13:43.374651Z"
    }
   },
   "outputs": [],
   "source": [
    "import pandas as pd\n",
    "import requests\n",
    "from bs4 import BeautifulSoup\n",
    "import json\n",
    "import re\n",
    "import time\n",
    "from time import gmtime, strftime \n",
    "import os\n",
    "import pytz\n",
    "from datetime import datetime"
   ]
  },
  {
   "cell_type": "markdown",
   "metadata": {},
   "source": [
    "Scrape the dashboard page"
   ]
  },
  {
   "cell_type": "code",
   "execution_count": 2,
   "metadata": {
    "execution": {
     "iopub.execute_input": "2021-03-14T03:13:43.381593Z",
     "iopub.status.busy": "2021-03-14T03:13:43.379599Z",
     "iopub.status.idle": "2021-03-14T03:13:44.051823Z",
     "shell.execute_reply": "2021-03-14T03:13:44.051308Z"
    }
   },
   "outputs": [],
   "source": [
    "url = \"https://public.tableau.com/interactive/views/COVID-19VaccineDashboardPublic/Vaccine?:embed=y&:showVizHome=n&:apiID=host0\"\n",
    "\n",
    "r = requests.get(url)\n",
    "soup = BeautifulSoup(r.text, \"html.parser\")"
   ]
  },
  {
   "cell_type": "code",
   "execution_count": 3,
   "metadata": {
    "execution": {
     "iopub.execute_input": "2021-03-14T03:13:44.071479Z",
     "iopub.status.busy": "2021-03-14T03:13:44.070875Z",
     "iopub.status.idle": "2021-03-14T03:13:44.075194Z",
     "shell.execute_reply": "2021-03-14T03:13:44.074714Z"
    }
   },
   "outputs": [],
   "source": [
    "tableauData = json.loads(soup.find(\"textarea\",{\"id\": \"tsConfigContainer\"}).text)"
   ]
  },
  {
   "cell_type": "markdown",
   "metadata": {},
   "source": [
    "Get the link to the Tableau data"
   ]
  },
  {
   "cell_type": "code",
   "execution_count": 4,
   "metadata": {
    "execution": {
     "iopub.execute_input": "2021-03-14T03:13:44.080182Z",
     "iopub.status.busy": "2021-03-14T03:13:44.078708Z",
     "iopub.status.idle": "2021-03-14T03:13:44.080872Z",
     "shell.execute_reply": "2021-03-14T03:13:44.081330Z"
    }
   },
   "outputs": [],
   "source": [
    "dataUrl = f'https://public.tableau.com{tableauData[\"vizql_root\"]}/bootstrapSession/sessions/{tableauData[\"sessionid\"]}'"
   ]
  },
  {
   "cell_type": "code",
   "execution_count": 5,
   "metadata": {
    "execution": {
     "iopub.execute_input": "2021-03-14T03:13:44.087867Z",
     "iopub.status.busy": "2021-03-14T03:13:44.087279Z",
     "iopub.status.idle": "2021-03-14T03:13:44.435147Z",
     "shell.execute_reply": "2021-03-14T03:13:44.435707Z"
    }
   },
   "outputs": [],
   "source": [
    "r = requests.post(dataUrl, data= {\n",
    "    \"sheet_id\": tableauData[\"sheetId\"],\n",
    "})\n",
    "\n",
    "dataReg = re.search('\\d+;({.*})\\d+;({.*})', r.text, re.MULTILINE)\n",
    "data1 = json.loads(dataReg.group(2))\n",
    "\n",
    "dataJson = data1[\"secondaryInfo\"][\"presModelMap\"][\"dataDictionary\"][\"presModelHolder\"][\"genDataDictionaryPresModel\"][\"dataSegments\"][\"0\"][\"dataColumns\"]"
   ]
  },
  {
   "cell_type": "markdown",
   "metadata": {},
   "source": [
    "Isolate what you want"
   ]
  },
  {
   "cell_type": "code",
   "execution_count": 6,
   "metadata": {
    "execution": {
     "iopub.execute_input": "2021-03-14T03:13:44.440034Z",
     "iopub.status.busy": "2021-03-14T03:13:44.439327Z",
     "iopub.status.idle": "2021-03-14T03:13:44.443371Z",
     "shell.execute_reply": "2021-03-14T03:13:44.442917Z"
    }
   },
   "outputs": [],
   "source": [
    "counties = dataJson[2]['dataValues'][:58]"
   ]
  },
  {
   "cell_type": "code",
   "execution_count": 7,
   "metadata": {
    "execution": {
     "iopub.execute_input": "2021-03-14T03:13:44.447710Z",
     "iopub.status.busy": "2021-03-14T03:13:44.446979Z",
     "iopub.status.idle": "2021-03-14T03:13:44.451122Z",
     "shell.execute_reply": "2021-03-14T03:13:44.450607Z"
    }
   },
   "outputs": [],
   "source": [
    "doses = dataJson[0]['dataValues'][3:61]"
   ]
  },
  {
   "cell_type": "markdown",
   "metadata": {},
   "source": [
    "Data formatting"
   ]
  },
  {
   "cell_type": "code",
   "execution_count": 8,
   "metadata": {
    "execution": {
     "iopub.execute_input": "2021-03-14T03:13:44.456063Z",
     "iopub.status.busy": "2021-03-14T03:13:44.454525Z",
     "iopub.status.idle": "2021-03-14T03:13:44.456682Z",
     "shell.execute_reply": "2021-03-14T03:13:44.457171Z"
    }
   },
   "outputs": [],
   "source": [
    "zipped = dict(zip(counties, doses))"
   ]
  },
  {
   "cell_type": "code",
   "execution_count": 9,
   "metadata": {
    "execution": {
     "iopub.execute_input": "2021-03-14T03:13:44.463865Z",
     "iopub.status.busy": "2021-03-14T03:13:44.462472Z",
     "iopub.status.idle": "2021-03-14T03:13:44.464819Z",
     "shell.execute_reply": "2021-03-14T03:13:44.465325Z"
    }
   },
   "outputs": [],
   "source": [
    "df = pd.Series(zipped).reset_index()"
   ]
  },
  {
   "cell_type": "code",
   "execution_count": 10,
   "metadata": {
    "execution": {
     "iopub.execute_input": "2021-03-14T03:13:44.469862Z",
     "iopub.status.busy": "2021-03-14T03:13:44.468537Z",
     "iopub.status.idle": "2021-03-14T03:13:44.470532Z",
     "shell.execute_reply": "2021-03-14T03:13:44.470940Z"
    }
   },
   "outputs": [],
   "source": [
    "df.columns = ['location','doses']"
   ]
  },
  {
   "cell_type": "markdown",
   "metadata": {},
   "source": [
    "Grab the overall California total"
   ]
  },
  {
   "cell_type": "code",
   "execution_count": 11,
   "metadata": {
    "execution": {
     "iopub.execute_input": "2021-03-14T03:13:44.475789Z",
     "iopub.status.busy": "2021-03-14T03:13:44.474453Z",
     "iopub.status.idle": "2021-03-14T03:13:44.476499Z",
     "shell.execute_reply": "2021-03-14T03:13:44.476996Z"
    }
   },
   "outputs": [],
   "source": [
    "add = {'location':'California','doses':dataJson[0]['dataValues'][2]}"
   ]
  },
  {
   "cell_type": "code",
   "execution_count": 12,
   "metadata": {
    "execution": {
     "iopub.execute_input": "2021-03-14T03:13:44.485345Z",
     "iopub.status.busy": "2021-03-14T03:13:44.484040Z",
     "iopub.status.idle": "2021-03-14T03:13:44.485921Z",
     "shell.execute_reply": "2021-03-14T03:13:44.486383Z"
    }
   },
   "outputs": [],
   "source": [
    "df = df.append(add, ignore_index=True)"
   ]
  },
  {
   "cell_type": "code",
   "execution_count": 13,
   "metadata": {
    "execution": {
     "iopub.execute_input": "2021-03-14T03:13:44.492009Z",
     "iopub.status.busy": "2021-03-14T03:13:44.490575Z",
     "iopub.status.idle": "2021-03-14T03:13:44.492774Z",
     "shell.execute_reply": "2021-03-14T03:13:44.493489Z"
    }
   },
   "outputs": [],
   "source": [
    "df = df.sort_values(by='location')"
   ]
  },
  {
   "cell_type": "code",
   "execution_count": 14,
   "metadata": {
    "execution": {
     "iopub.execute_input": "2021-03-14T03:13:44.501842Z",
     "iopub.status.busy": "2021-03-14T03:13:44.500352Z",
     "iopub.status.idle": "2021-03-14T03:13:44.502613Z",
     "shell.execute_reply": "2021-03-14T03:13:44.503098Z"
    }
   },
   "outputs": [],
   "source": [
    "df = df[df.location == 'California'].append(df[df.location != 'California']).reset_index(drop=True)"
   ]
  },
  {
   "cell_type": "code",
   "execution_count": null,
   "metadata": {},
   "outputs": [],
   "source": []
  },
  {
   "cell_type": "code",
   "execution_count": 15,
   "metadata": {
    "execution": {
     "iopub.execute_input": "2021-03-14T03:13:44.506864Z",
     "iopub.status.busy": "2021-03-14T03:13:44.506256Z",
     "iopub.status.idle": "2021-03-14T03:13:44.530136Z",
     "shell.execute_reply": "2021-03-14T03:13:44.530589Z"
    }
   },
   "outputs": [],
   "source": [
    "tz = pytz.timezone(\"America/New_York\")"
   ]
  },
  {
   "cell_type": "code",
   "execution_count": 16,
   "metadata": {
    "execution": {
     "iopub.execute_input": "2021-03-14T03:13:44.535490Z",
     "iopub.status.busy": "2021-03-14T03:13:44.533967Z",
     "iopub.status.idle": "2021-03-14T03:13:44.536253Z",
     "shell.execute_reply": "2021-03-14T03:13:44.536741Z"
    }
   },
   "outputs": [],
   "source": [
    "today = datetime.now(tz).date()"
   ]
  },
  {
   "cell_type": "code",
   "execution_count": 17,
   "metadata": {
    "execution": {
     "iopub.execute_input": "2021-03-14T03:13:44.541846Z",
     "iopub.status.busy": "2021-03-14T03:13:44.540215Z",
     "iopub.status.idle": "2021-03-14T03:13:44.542637Z",
     "shell.execute_reply": "2021-03-14T03:13:44.543279Z"
    }
   },
   "outputs": [],
   "source": [
    "data_dir = os.path.join(os.path.abspath(\"\"), \"data\")"
   ]
  },
  {
   "cell_type": "code",
   "execution_count": 18,
   "metadata": {
    "execution": {
     "iopub.execute_input": "2021-03-14T03:13:44.548020Z",
     "iopub.status.busy": "2021-03-14T03:13:44.546934Z",
     "iopub.status.idle": "2021-03-14T03:13:44.551952Z",
     "shell.execute_reply": "2021-03-14T03:13:44.551401Z"
    }
   },
   "outputs": [],
   "source": [
    "df.to_csv(os.path.join(data_dir, f\"{today}.csv\"), index=False)"
   ]
  },
  {
   "cell_type": "code",
   "execution_count": null,
   "metadata": {},
   "outputs": [],
   "source": []
  }
 ],
 "metadata": {
  "kernelspec": {
   "display_name": "Python 3",
   "language": "python",
   "name": "python3"
  },
  "language_info": {
   "codemirror_mode": {
    "name": "ipython",
    "version": 3
   },
   "file_extension": ".py",
   "mimetype": "text/x-python",
   "name": "python",
   "nbconvert_exporter": "python",
   "pygments_lexer": "ipython3",
   "version": "3.8.8"
  }
 },
 "nbformat": 4,
 "nbformat_minor": 4
}
