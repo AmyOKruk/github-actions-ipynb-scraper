{
 "cells": [
  {
   "cell_type": "markdown",
   "metadata": {},
   "source": [
    "# California COVID vaccinations scrape"
   ]
  },
  {
   "cell_type": "markdown",
   "metadata": {},
   "source": [
    "By [Amy O'Kruk](https://twitter.com/amyokruk)"
   ]
  },
  {
   "cell_type": "markdown",
   "metadata": {},
   "source": [
    "Downloads data on vaccine doses administered by county and statewide from a Tableau-powered dashboard from the California Department of Public Health."
   ]
  },
  {
   "cell_type": "code",
   "execution_count": 1,
   "metadata": {
    "execution": {
     "iopub.execute_input": "2021-03-16T01:27:40.722954Z",
     "iopub.status.busy": "2021-03-16T01:27:40.722366Z",
     "iopub.status.idle": "2021-03-16T01:27:41.147356Z",
     "shell.execute_reply": "2021-03-16T01:27:41.146236Z"
    }
   },
   "outputs": [],
   "source": [
    "import pandas as pd\n",
    "import requests\n",
    "from bs4 import BeautifulSoup\n",
    "import json\n",
    "import re\n",
    "import time\n",
    "from time import gmtime, strftime \n",
    "import os\n",
    "import pytz\n",
    "from datetime import datetime"
   ]
  },
  {
   "cell_type": "markdown",
   "metadata": {},
   "source": [
    "Scrape the dashboard page"
   ]
  },
  {
   "cell_type": "code",
   "execution_count": 2,
   "metadata": {
    "execution": {
     "iopub.execute_input": "2021-03-16T01:27:41.152696Z",
     "iopub.status.busy": "2021-03-16T01:27:41.150775Z",
     "iopub.status.idle": "2021-03-16T01:27:41.537911Z",
     "shell.execute_reply": "2021-03-16T01:27:41.537119Z"
    }
   },
   "outputs": [],
   "source": [
    "url = \"https://public.tableau.com/interactive/views/COVID-19VaccineDashboardPublic/Vaccine?:embed=y&:showVizHome=n&:apiID=host0\"\n",
    "\n",
    "r = requests.get(url)\n",
    "soup = BeautifulSoup(r.text, \"html.parser\")"
   ]
  },
  {
   "cell_type": "code",
   "execution_count": 3,
   "metadata": {
    "execution": {
     "iopub.execute_input": "2021-03-16T01:27:41.543507Z",
     "iopub.status.busy": "2021-03-16T01:27:41.542959Z",
     "iopub.status.idle": "2021-03-16T01:27:41.546511Z",
     "shell.execute_reply": "2021-03-16T01:27:41.546074Z"
    }
   },
   "outputs": [],
   "source": [
    "tableauData = json.loads(soup.find(\"textarea\",{\"id\": \"tsConfigContainer\"}).text)"
   ]
  },
  {
   "cell_type": "markdown",
   "metadata": {},
   "source": [
    "Get the link to the Tableau data"
   ]
  },
  {
   "cell_type": "code",
   "execution_count": 4,
   "metadata": {
    "execution": {
     "iopub.execute_input": "2021-03-16T01:27:41.550857Z",
     "iopub.status.busy": "2021-03-16T01:27:41.549740Z",
     "iopub.status.idle": "2021-03-16T01:27:41.551467Z",
     "shell.execute_reply": "2021-03-16T01:27:41.551893Z"
    }
   },
   "outputs": [],
   "source": [
    "dataUrl = f'https://public.tableau.com{tableauData[\"vizql_root\"]}/bootstrapSession/sessions/{tableauData[\"sessionid\"]}'"
   ]
  },
  {
   "cell_type": "code",
   "execution_count": 5,
   "metadata": {
    "execution": {
     "iopub.execute_input": "2021-03-16T01:27:41.558731Z",
     "iopub.status.busy": "2021-03-16T01:27:41.558206Z",
     "iopub.status.idle": "2021-03-16T01:27:42.056450Z",
     "shell.execute_reply": "2021-03-16T01:27:42.055928Z"
    }
   },
   "outputs": [],
   "source": [
    "r = requests.post(dataUrl, data= {\n",
    "    \"sheet_id\": tableauData[\"sheetId\"],\n",
    "})\n",
    "\n",
    "dataReg = re.search('\\d+;({.*})\\d+;({.*})', r.text, re.MULTILINE)\n",
    "data1 = json.loads(dataReg.group(2))\n",
    "\n",
    "dataJson = data1[\"secondaryInfo\"][\"presModelMap\"][\"dataDictionary\"][\"presModelHolder\"][\"genDataDictionaryPresModel\"][\"dataSegments\"][\"0\"][\"dataColumns\"]"
   ]
  },
  {
   "cell_type": "markdown",
   "metadata": {},
   "source": [
    "Isolate what you want"
   ]
  },
  {
   "cell_type": "code",
   "execution_count": 6,
   "metadata": {
    "execution": {
     "iopub.execute_input": "2021-03-16T01:27:42.060511Z",
     "iopub.status.busy": "2021-03-16T01:27:42.059991Z",
     "iopub.status.idle": "2021-03-16T01:27:42.064789Z",
     "shell.execute_reply": "2021-03-16T01:27:42.064251Z"
    }
   },
   "outputs": [],
   "source": [
    "counties = dataJson[2]['dataValues'][:58]"
   ]
  },
  {
   "cell_type": "code",
   "execution_count": 7,
   "metadata": {
    "execution": {
     "iopub.execute_input": "2021-03-16T01:27:42.070182Z",
     "iopub.status.busy": "2021-03-16T01:27:42.068680Z",
     "iopub.status.idle": "2021-03-16T01:27:42.070823Z",
     "shell.execute_reply": "2021-03-16T01:27:42.071381Z"
    }
   },
   "outputs": [],
   "source": [
    "doses = dataJson[0]['dataValues'][3:61]"
   ]
  },
  {
   "cell_type": "markdown",
   "metadata": {},
   "source": [
    "Data formatting"
   ]
  },
  {
   "cell_type": "code",
   "execution_count": 8,
   "metadata": {
    "execution": {
     "iopub.execute_input": "2021-03-16T01:27:42.076175Z",
     "iopub.status.busy": "2021-03-16T01:27:42.074817Z",
     "iopub.status.idle": "2021-03-16T01:27:42.076763Z",
     "shell.execute_reply": "2021-03-16T01:27:42.077185Z"
    }
   },
   "outputs": [],
   "source": [
    "zipped = dict(zip(counties, doses))"
   ]
  },
  {
   "cell_type": "code",
   "execution_count": 9,
   "metadata": {
    "execution": {
     "iopub.execute_input": "2021-03-16T01:27:42.083846Z",
     "iopub.status.busy": "2021-03-16T01:27:42.082581Z",
     "iopub.status.idle": "2021-03-16T01:27:42.084439Z",
     "shell.execute_reply": "2021-03-16T01:27:42.084857Z"
    }
   },
   "outputs": [],
   "source": [
    "df = pd.Series(zipped).reset_index()"
   ]
  },
  {
   "cell_type": "code",
   "execution_count": 10,
   "metadata": {
    "execution": {
     "iopub.execute_input": "2021-03-16T01:27:42.089395Z",
     "iopub.status.busy": "2021-03-16T01:27:42.088209Z",
     "iopub.status.idle": "2021-03-16T01:27:42.089989Z",
     "shell.execute_reply": "2021-03-16T01:27:42.090406Z"
    }
   },
   "outputs": [],
   "source": [
    "df.columns = ['location','doses']"
   ]
  },
  {
   "cell_type": "markdown",
   "metadata": {},
   "source": [
    "Grab the overall California total"
   ]
  },
  {
   "cell_type": "code",
   "execution_count": 11,
   "metadata": {
    "execution": {
     "iopub.execute_input": "2021-03-16T01:27:42.094199Z",
     "iopub.status.busy": "2021-03-16T01:27:42.093693Z",
     "iopub.status.idle": "2021-03-16T01:27:42.095741Z",
     "shell.execute_reply": "2021-03-16T01:27:42.095273Z"
    }
   },
   "outputs": [],
   "source": [
    "add = {'location':'California','doses':dataJson[0]['dataValues'][2]}"
   ]
  },
  {
   "cell_type": "code",
   "execution_count": 12,
   "metadata": {
    "execution": {
     "iopub.execute_input": "2021-03-16T01:27:42.102715Z",
     "iopub.status.busy": "2021-03-16T01:27:42.101515Z",
     "iopub.status.idle": "2021-03-16T01:27:42.103393Z",
     "shell.execute_reply": "2021-03-16T01:27:42.103820Z"
    }
   },
   "outputs": [],
   "source": [
    "df = df.append(add, ignore_index=True)"
   ]
  },
  {
   "cell_type": "code",
   "execution_count": 13,
   "metadata": {
    "execution": {
     "iopub.execute_input": "2021-03-16T01:27:42.108800Z",
     "iopub.status.busy": "2021-03-16T01:27:42.107691Z",
     "iopub.status.idle": "2021-03-16T01:27:42.109374Z",
     "shell.execute_reply": "2021-03-16T01:27:42.109790Z"
    }
   },
   "outputs": [],
   "source": [
    "df = df.sort_values(by='location')"
   ]
  },
  {
   "cell_type": "code",
   "execution_count": 14,
   "metadata": {
    "execution": {
     "iopub.execute_input": "2021-03-16T01:27:42.116142Z",
     "iopub.status.busy": "2021-03-16T01:27:42.114977Z",
     "iopub.status.idle": "2021-03-16T01:27:42.116806Z",
     "shell.execute_reply": "2021-03-16T01:27:42.117227Z"
    }
   },
   "outputs": [],
   "source": [
    "df = df[df.location == 'California'].append(df[df.location != 'California']).reset_index(drop=True)"
   ]
  },
  {
   "cell_type": "code",
   "execution_count": null,
   "metadata": {},
   "outputs": [],
   "source": []
  },
  {
   "cell_type": "code",
   "execution_count": 15,
   "metadata": {
    "execution": {
     "iopub.execute_input": "2021-03-16T01:27:42.120556Z",
     "iopub.status.busy": "2021-03-16T01:27:42.120053Z",
     "iopub.status.idle": "2021-03-16T01:27:42.137444Z",
     "shell.execute_reply": "2021-03-16T01:27:42.136980Z"
    }
   },
   "outputs": [],
   "source": [
    "tz = pytz.timezone(\"America/New_York\")"
   ]
  },
  {
   "cell_type": "code",
   "execution_count": 16,
   "metadata": {
    "execution": {
     "iopub.execute_input": "2021-03-16T01:27:42.141597Z",
     "iopub.status.busy": "2021-03-16T01:27:42.140492Z",
     "iopub.status.idle": "2021-03-16T01:27:42.142196Z",
     "shell.execute_reply": "2021-03-16T01:27:42.142616Z"
    }
   },
   "outputs": [],
   "source": [
    "today = datetime.now(tz).date()"
   ]
  },
  {
   "cell_type": "code",
   "execution_count": 17,
   "metadata": {
    "execution": {
     "iopub.execute_input": "2021-03-16T01:27:42.146712Z",
     "iopub.status.busy": "2021-03-16T01:27:42.145619Z",
     "iopub.status.idle": "2021-03-16T01:27:42.147315Z",
     "shell.execute_reply": "2021-03-16T01:27:42.147743Z"
    }
   },
   "outputs": [],
   "source": [
    "data_dir = os.path.join(os.path.abspath(\"\"), \"data\")"
   ]
  },
  {
   "cell_type": "code",
   "execution_count": 18,
   "metadata": {
    "execution": {
     "iopub.execute_input": "2021-03-16T01:27:42.151965Z",
     "iopub.status.busy": "2021-03-16T01:27:42.150849Z",
     "iopub.status.idle": "2021-03-16T01:27:42.155398Z",
     "shell.execute_reply": "2021-03-16T01:27:42.154924Z"
    }
   },
   "outputs": [],
   "source": [
    "df.to_csv(os.path.join(data_dir, f\"{today}.csv\"), index=False)"
   ]
  },
  {
   "cell_type": "code",
   "execution_count": null,
   "metadata": {},
   "outputs": [],
   "source": []
  }
 ],
 "metadata": {
  "kernelspec": {
   "display_name": "Python 3",
   "language": "python",
   "name": "python3"
  },
  "language_info": {
   "codemirror_mode": {
    "name": "ipython",
    "version": 3
   },
   "file_extension": ".py",
   "mimetype": "text/x-python",
   "name": "python",
   "nbconvert_exporter": "python",
   "pygments_lexer": "ipython3",
   "version": "3.8.8"
  }
 },
 "nbformat": 4,
 "nbformat_minor": 4
}
