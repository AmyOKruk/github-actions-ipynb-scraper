{
 "cells": [
  {
   "cell_type": "markdown",
   "metadata": {},
   "source": [
    "# California COVID vaccinations scrape"
   ]
  },
  {
   "cell_type": "markdown",
   "metadata": {},
   "source": [
    "By [Amy O'Kruk](https://twitter.com/amyokruk)"
   ]
  },
  {
   "cell_type": "markdown",
   "metadata": {},
   "source": [
    "Downloads data on vaccine doses administered by county and statewide from a Tableau-powered dashboard from the California Department of Public Health."
   ]
  },
  {
   "cell_type": "code",
   "execution_count": 1,
   "metadata": {
    "execution": {
     "iopub.execute_input": "2021-03-22T02:37:45.599613Z",
     "iopub.status.busy": "2021-03-22T02:37:45.598915Z",
     "iopub.status.idle": "2021-03-22T02:37:45.978274Z",
     "shell.execute_reply": "2021-03-22T02:37:45.977433Z"
    }
   },
   "outputs": [],
   "source": [
    "import pandas as pd\n",
    "import requests\n",
    "from bs4 import BeautifulSoup\n",
    "import json\n",
    "import re\n",
    "import time\n",
    "from time import gmtime, strftime \n",
    "import os\n",
    "import pytz\n",
    "from datetime import datetime"
   ]
  },
  {
   "cell_type": "markdown",
   "metadata": {},
   "source": [
    "Scrape the dashboard page"
   ]
  },
  {
   "cell_type": "code",
   "execution_count": 2,
   "metadata": {
    "execution": {
     "iopub.execute_input": "2021-03-22T02:37:45.983613Z",
     "iopub.status.busy": "2021-03-22T02:37:45.981360Z",
     "iopub.status.idle": "2021-03-22T02:37:46.514191Z",
     "shell.execute_reply": "2021-03-22T02:37:46.513264Z"
    }
   },
   "outputs": [],
   "source": [
    "url = \"https://public.tableau.com/interactive/views/COVID-19VaccineDashboardPublic/Vaccine?:embed=y&:showVizHome=n&:apiID=host0\"\n",
    "\n",
    "r = requests.get(url)\n",
    "soup = BeautifulSoup(r.text, \"html.parser\")"
   ]
  },
  {
   "cell_type": "code",
   "execution_count": 3,
   "metadata": {
    "execution": {
     "iopub.execute_input": "2021-03-22T02:37:46.518972Z",
     "iopub.status.busy": "2021-03-22T02:37:46.518441Z",
     "iopub.status.idle": "2021-03-22T02:37:46.523084Z",
     "shell.execute_reply": "2021-03-22T02:37:46.523863Z"
    }
   },
   "outputs": [],
   "source": [
    "tableauData = json.loads(soup.find(\"textarea\",{\"id\": \"tsConfigContainer\"}).text)"
   ]
  },
  {
   "cell_type": "markdown",
   "metadata": {},
   "source": [
    "Get the link to the Tableau data"
   ]
  },
  {
   "cell_type": "code",
   "execution_count": 4,
   "metadata": {
    "execution": {
     "iopub.execute_input": "2021-03-22T02:37:46.527146Z",
     "iopub.status.busy": "2021-03-22T02:37:46.526677Z",
     "iopub.status.idle": "2021-03-22T02:37:46.529944Z",
     "shell.execute_reply": "2021-03-22T02:37:46.530429Z"
    }
   },
   "outputs": [],
   "source": [
    "dataUrl = f'https://public.tableau.com{tableauData[\"vizql_root\"]}/bootstrapSession/sessions/{tableauData[\"sessionid\"]}'"
   ]
  },
  {
   "cell_type": "code",
   "execution_count": 5,
   "metadata": {
    "execution": {
     "iopub.execute_input": "2021-03-22T02:37:46.536010Z",
     "iopub.status.busy": "2021-03-22T02:37:46.535133Z",
     "iopub.status.idle": "2021-03-22T02:37:47.078180Z",
     "shell.execute_reply": "2021-03-22T02:37:47.077657Z"
    }
   },
   "outputs": [],
   "source": [
    "r = requests.post(dataUrl, data= {\n",
    "    \"sheet_id\": tableauData[\"sheetId\"],\n",
    "})\n",
    "\n",
    "dataReg = re.search('\\d+;({.*})\\d+;({.*})', r.text, re.MULTILINE)\n",
    "data1 = json.loads(dataReg.group(2))\n",
    "\n",
    "dataJson = data1[\"secondaryInfo\"][\"presModelMap\"][\"dataDictionary\"][\"presModelHolder\"][\"genDataDictionaryPresModel\"][\"dataSegments\"][\"0\"][\"dataColumns\"]"
   ]
  },
  {
   "cell_type": "markdown",
   "metadata": {},
   "source": [
    "Isolate what you want"
   ]
  },
  {
   "cell_type": "code",
   "execution_count": 6,
   "metadata": {
    "execution": {
     "iopub.execute_input": "2021-03-22T02:37:47.082183Z",
     "iopub.status.busy": "2021-03-22T02:37:47.081324Z",
     "iopub.status.idle": "2021-03-22T02:37:47.082914Z",
     "shell.execute_reply": "2021-03-22T02:37:47.083465Z"
    }
   },
   "outputs": [],
   "source": [
    "counties = dataJson[2]['dataValues'][:58]"
   ]
  },
  {
   "cell_type": "code",
   "execution_count": 7,
   "metadata": {
    "execution": {
     "iopub.execute_input": "2021-03-22T02:37:47.086481Z",
     "iopub.status.busy": "2021-03-22T02:37:47.085257Z",
     "iopub.status.idle": "2021-03-22T02:37:47.088710Z",
     "shell.execute_reply": "2021-03-22T02:37:47.088141Z"
    }
   },
   "outputs": [],
   "source": [
    "doses = dataJson[0]['dataValues'][3:61]"
   ]
  },
  {
   "cell_type": "markdown",
   "metadata": {},
   "source": [
    "Data formatting"
   ]
  },
  {
   "cell_type": "code",
   "execution_count": 8,
   "metadata": {
    "execution": {
     "iopub.execute_input": "2021-03-22T02:37:47.092264Z",
     "iopub.status.busy": "2021-03-22T02:37:47.091403Z",
     "iopub.status.idle": "2021-03-22T02:37:47.093115Z",
     "shell.execute_reply": "2021-03-22T02:37:47.093552Z"
    }
   },
   "outputs": [],
   "source": [
    "zipped = dict(zip(counties, doses))"
   ]
  },
  {
   "cell_type": "code",
   "execution_count": 9,
   "metadata": {
    "execution": {
     "iopub.execute_input": "2021-03-22T02:37:47.099581Z",
     "iopub.status.busy": "2021-03-22T02:37:47.098438Z",
     "iopub.status.idle": "2021-03-22T02:37:47.101064Z",
     "shell.execute_reply": "2021-03-22T02:37:47.100614Z"
    }
   },
   "outputs": [],
   "source": [
    "df = pd.Series(zipped).reset_index()"
   ]
  },
  {
   "cell_type": "code",
   "execution_count": 10,
   "metadata": {
    "execution": {
     "iopub.execute_input": "2021-03-22T02:37:47.105761Z",
     "iopub.status.busy": "2021-03-22T02:37:47.104565Z",
     "iopub.status.idle": "2021-03-22T02:37:47.106282Z",
     "shell.execute_reply": "2021-03-22T02:37:47.106673Z"
    }
   },
   "outputs": [],
   "source": [
    "df.columns = ['location','doses']"
   ]
  },
  {
   "cell_type": "markdown",
   "metadata": {},
   "source": [
    "Grab the overall California total"
   ]
  },
  {
   "cell_type": "code",
   "execution_count": 11,
   "metadata": {
    "execution": {
     "iopub.execute_input": "2021-03-22T02:37:47.110814Z",
     "iopub.status.busy": "2021-03-22T02:37:47.109747Z",
     "iopub.status.idle": "2021-03-22T02:37:47.111341Z",
     "shell.execute_reply": "2021-03-22T02:37:47.111737Z"
    }
   },
   "outputs": [],
   "source": [
    "add = {'location':'California','doses':dataJson[0]['dataValues'][2]}"
   ]
  },
  {
   "cell_type": "code",
   "execution_count": 12,
   "metadata": {
    "execution": {
     "iopub.execute_input": "2021-03-22T02:37:47.118031Z",
     "iopub.status.busy": "2021-03-22T02:37:47.117189Z",
     "iopub.status.idle": "2021-03-22T02:37:47.119320Z",
     "shell.execute_reply": "2021-03-22T02:37:47.118928Z"
    }
   },
   "outputs": [],
   "source": [
    "df = df.append(add, ignore_index=True)"
   ]
  },
  {
   "cell_type": "code",
   "execution_count": 13,
   "metadata": {
    "execution": {
     "iopub.execute_input": "2021-03-22T02:37:47.124174Z",
     "iopub.status.busy": "2021-03-22T02:37:47.123286Z",
     "iopub.status.idle": "2021-03-22T02:37:47.125119Z",
     "shell.execute_reply": "2021-03-22T02:37:47.125513Z"
    }
   },
   "outputs": [],
   "source": [
    "df = df.sort_values(by='location')"
   ]
  },
  {
   "cell_type": "code",
   "execution_count": 14,
   "metadata": {
    "execution": {
     "iopub.execute_input": "2021-03-22T02:37:47.132188Z",
     "iopub.status.busy": "2021-03-22T02:37:47.131012Z",
     "iopub.status.idle": "2021-03-22T02:37:47.132799Z",
     "shell.execute_reply": "2021-03-22T02:37:47.133216Z"
    }
   },
   "outputs": [],
   "source": [
    "df = df[df.location == 'California'].append(df[df.location != 'California']).reset_index(drop=True)"
   ]
  },
  {
   "cell_type": "code",
   "execution_count": null,
   "metadata": {},
   "outputs": [],
   "source": []
  },
  {
   "cell_type": "code",
   "execution_count": 15,
   "metadata": {
    "execution": {
     "iopub.execute_input": "2021-03-22T02:37:47.136315Z",
     "iopub.status.busy": "2021-03-22T02:37:47.135779Z",
     "iopub.status.idle": "2021-03-22T02:37:47.151675Z",
     "shell.execute_reply": "2021-03-22T02:37:47.152043Z"
    }
   },
   "outputs": [],
   "source": [
    "tz = pytz.timezone(\"America/New_York\")"
   ]
  },
  {
   "cell_type": "code",
   "execution_count": 16,
   "metadata": {
    "execution": {
     "iopub.execute_input": "2021-03-22T02:37:47.155393Z",
     "iopub.status.busy": "2021-03-22T02:37:47.154784Z",
     "iopub.status.idle": "2021-03-22T02:37:47.156940Z",
     "shell.execute_reply": "2021-03-22T02:37:47.157312Z"
    }
   },
   "outputs": [],
   "source": [
    "today = datetime.now(tz).date()"
   ]
  },
  {
   "cell_type": "code",
   "execution_count": 17,
   "metadata": {
    "execution": {
     "iopub.execute_input": "2021-03-22T02:37:47.161461Z",
     "iopub.status.busy": "2021-03-22T02:37:47.160185Z",
     "iopub.status.idle": "2021-03-22T02:37:47.162263Z",
     "shell.execute_reply": "2021-03-22T02:37:47.162656Z"
    }
   },
   "outputs": [],
   "source": [
    "data_dir = os.path.join(os.path.abspath(\"\"), \"data\")"
   ]
  },
  {
   "cell_type": "code",
   "execution_count": 18,
   "metadata": {
    "execution": {
     "iopub.execute_input": "2021-03-22T02:37:47.166193Z",
     "iopub.status.busy": "2021-03-22T02:37:47.165701Z",
     "iopub.status.idle": "2021-03-22T02:37:47.169570Z",
     "shell.execute_reply": "2021-03-22T02:37:47.169953Z"
    }
   },
   "outputs": [],
   "source": [
    "df.to_csv(os.path.join(data_dir, f\"{today}.csv\"), index=False)"
   ]
  },
  {
   "cell_type": "code",
   "execution_count": null,
   "metadata": {},
   "outputs": [],
   "source": []
  }
 ],
 "metadata": {
  "kernelspec": {
   "display_name": "Python 3",
   "language": "python",
   "name": "python3"
  },
  "language_info": {
   "codemirror_mode": {
    "name": "ipython",
    "version": 3
   },
   "file_extension": ".py",
   "mimetype": "text/x-python",
   "name": "python",
   "nbconvert_exporter": "python",
   "pygments_lexer": "ipython3",
   "version": "3.8.8"
  }
 },
 "nbformat": 4,
 "nbformat_minor": 4
}
