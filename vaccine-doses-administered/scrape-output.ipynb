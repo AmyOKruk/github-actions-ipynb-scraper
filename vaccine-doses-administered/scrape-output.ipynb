{
 "cells": [
  {
   "cell_type": "markdown",
   "metadata": {},
   "source": [
    "# California COVID vaccinations scrape"
   ]
  },
  {
   "cell_type": "markdown",
   "metadata": {},
   "source": [
    "By [Amy O'Kruk](https://twitter.com/amyokruk)"
   ]
  },
  {
   "cell_type": "markdown",
   "metadata": {},
   "source": [
    "Downloads data on vaccine doses administered by county and statewide from a Tableau-powered dashboard from the California Department of Public Health."
   ]
  },
  {
   "cell_type": "code",
   "execution_count": 1,
   "metadata": {
    "execution": {
     "iopub.execute_input": "2021-03-24T10:28:49.801820Z",
     "iopub.status.busy": "2021-03-24T10:28:49.800768Z",
     "iopub.status.idle": "2021-03-24T10:28:50.262770Z",
     "shell.execute_reply": "2021-03-24T10:28:50.261960Z"
    }
   },
   "outputs": [],
   "source": [
    "import pandas as pd\n",
    "import requests\n",
    "from bs4 import BeautifulSoup\n",
    "import json\n",
    "import re\n",
    "import time\n",
    "from time import gmtime, strftime \n",
    "import os\n",
    "import pytz\n",
    "from datetime import datetime"
   ]
  },
  {
   "cell_type": "markdown",
   "metadata": {},
   "source": [
    "Scrape the dashboard page"
   ]
  },
  {
   "cell_type": "code",
   "execution_count": 2,
   "metadata": {
    "execution": {
     "iopub.execute_input": "2021-03-24T10:28:50.268800Z",
     "iopub.status.busy": "2021-03-24T10:28:50.266524Z",
     "iopub.status.idle": "2021-03-24T10:28:50.756686Z",
     "shell.execute_reply": "2021-03-24T10:28:50.757086Z"
    }
   },
   "outputs": [],
   "source": [
    "url = \"https://public.tableau.com/interactive/views/COVID-19VaccineDashboardPublic/Vaccine?:embed=y&:showVizHome=n&:apiID=host0\"\n",
    "\n",
    "r = requests.get(url)\n",
    "soup = BeautifulSoup(r.text, \"html.parser\")"
   ]
  },
  {
   "cell_type": "code",
   "execution_count": 3,
   "metadata": {
    "execution": {
     "iopub.execute_input": "2021-03-24T10:28:50.769486Z",
     "iopub.status.busy": "2021-03-24T10:28:50.768963Z",
     "iopub.status.idle": "2021-03-24T10:28:50.772502Z",
     "shell.execute_reply": "2021-03-24T10:28:50.771981Z"
    }
   },
   "outputs": [],
   "source": [
    "tableauData = json.loads(soup.find(\"textarea\",{\"id\": \"tsConfigContainer\"}).text)"
   ]
  },
  {
   "cell_type": "markdown",
   "metadata": {},
   "source": [
    "Get the link to the Tableau data"
   ]
  },
  {
   "cell_type": "code",
   "execution_count": 4,
   "metadata": {
    "execution": {
     "iopub.execute_input": "2021-03-24T10:28:50.776478Z",
     "iopub.status.busy": "2021-03-24T10:28:50.775569Z",
     "iopub.status.idle": "2021-03-24T10:28:50.777728Z",
     "shell.execute_reply": "2021-03-24T10:28:50.777246Z"
    }
   },
   "outputs": [],
   "source": [
    "dataUrl = f'https://public.tableau.com{tableauData[\"vizql_root\"]}/bootstrapSession/sessions/{tableauData[\"sessionid\"]}'"
   ]
  },
  {
   "cell_type": "code",
   "execution_count": 5,
   "metadata": {
    "execution": {
     "iopub.execute_input": "2021-03-24T10:28:50.785052Z",
     "iopub.status.busy": "2021-03-24T10:28:50.784520Z",
     "iopub.status.idle": "2021-03-24T10:28:52.084700Z",
     "shell.execute_reply": "2021-03-24T10:28:52.083774Z"
    }
   },
   "outputs": [],
   "source": [
    "r = requests.post(dataUrl, data= {\n",
    "    \"sheet_id\": tableauData[\"sheetId\"],\n",
    "})\n",
    "\n",
    "dataReg = re.search('\\d+;({.*})\\d+;({.*})', r.text, re.MULTILINE)\n",
    "data1 = json.loads(dataReg.group(2))\n",
    "\n",
    "dataJson = data1[\"secondaryInfo\"][\"presModelMap\"][\"dataDictionary\"][\"presModelHolder\"][\"genDataDictionaryPresModel\"][\"dataSegments\"][\"0\"][\"dataColumns\"]"
   ]
  },
  {
   "cell_type": "markdown",
   "metadata": {},
   "source": [
    "Isolate what you want"
   ]
  },
  {
   "cell_type": "code",
   "execution_count": 6,
   "metadata": {
    "execution": {
     "iopub.execute_input": "2021-03-24T10:28:52.088444Z",
     "iopub.status.busy": "2021-03-24T10:28:52.088072Z",
     "iopub.status.idle": "2021-03-24T10:28:52.091996Z",
     "shell.execute_reply": "2021-03-24T10:28:52.091615Z"
    }
   },
   "outputs": [],
   "source": [
    "counties = dataJson[2]['dataValues'][:58]"
   ]
  },
  {
   "cell_type": "code",
   "execution_count": 7,
   "metadata": {
    "execution": {
     "iopub.execute_input": "2021-03-24T10:28:52.094974Z",
     "iopub.status.busy": "2021-03-24T10:28:52.094547Z",
     "iopub.status.idle": "2021-03-24T10:28:52.097369Z",
     "shell.execute_reply": "2021-03-24T10:28:52.097773Z"
    }
   },
   "outputs": [],
   "source": [
    "doses = dataJson[0]['dataValues'][3:61]"
   ]
  },
  {
   "cell_type": "markdown",
   "metadata": {},
   "source": [
    "Data formatting"
   ]
  },
  {
   "cell_type": "code",
   "execution_count": 8,
   "metadata": {
    "execution": {
     "iopub.execute_input": "2021-03-24T10:28:52.100689Z",
     "iopub.status.busy": "2021-03-24T10:28:52.100277Z",
     "iopub.status.idle": "2021-03-24T10:28:52.103216Z",
     "shell.execute_reply": "2021-03-24T10:28:52.102878Z"
    }
   },
   "outputs": [],
   "source": [
    "zipped = dict(zip(counties, doses))"
   ]
  },
  {
   "cell_type": "code",
   "execution_count": 9,
   "metadata": {
    "execution": {
     "iopub.execute_input": "2021-03-24T10:28:52.108096Z",
     "iopub.status.busy": "2021-03-24T10:28:52.107605Z",
     "iopub.status.idle": "2021-03-24T10:28:52.111116Z",
     "shell.execute_reply": "2021-03-24T10:28:52.110747Z"
    }
   },
   "outputs": [],
   "source": [
    "df = pd.Series(zipped).reset_index()"
   ]
  },
  {
   "cell_type": "code",
   "execution_count": 10,
   "metadata": {
    "execution": {
     "iopub.execute_input": "2021-03-24T10:28:52.113902Z",
     "iopub.status.busy": "2021-03-24T10:28:52.113544Z",
     "iopub.status.idle": "2021-03-24T10:28:52.116685Z",
     "shell.execute_reply": "2021-03-24T10:28:52.116296Z"
    }
   },
   "outputs": [],
   "source": [
    "df.columns = ['location','doses']"
   ]
  },
  {
   "cell_type": "markdown",
   "metadata": {},
   "source": [
    "Grab the overall California total"
   ]
  },
  {
   "cell_type": "code",
   "execution_count": 11,
   "metadata": {
    "execution": {
     "iopub.execute_input": "2021-03-24T10:28:52.120222Z",
     "iopub.status.busy": "2021-03-24T10:28:52.119724Z",
     "iopub.status.idle": "2021-03-24T10:28:52.122929Z",
     "shell.execute_reply": "2021-03-24T10:28:52.122556Z"
    }
   },
   "outputs": [],
   "source": [
    "add = {'location':'California','doses':dataJson[0]['dataValues'][2]}"
   ]
  },
  {
   "cell_type": "code",
   "execution_count": 12,
   "metadata": {
    "execution": {
     "iopub.execute_input": "2021-03-24T10:28:52.128017Z",
     "iopub.status.busy": "2021-03-24T10:28:52.127560Z",
     "iopub.status.idle": "2021-03-24T10:28:52.131214Z",
     "shell.execute_reply": "2021-03-24T10:28:52.130796Z"
    }
   },
   "outputs": [],
   "source": [
    "df = df.append(add, ignore_index=True)"
   ]
  },
  {
   "cell_type": "code",
   "execution_count": 13,
   "metadata": {
    "execution": {
     "iopub.execute_input": "2021-03-24T10:28:52.134920Z",
     "iopub.status.busy": "2021-03-24T10:28:52.134439Z",
     "iopub.status.idle": "2021-03-24T10:28:52.138154Z",
     "shell.execute_reply": "2021-03-24T10:28:52.137762Z"
    }
   },
   "outputs": [],
   "source": [
    "df = df.sort_values(by='location')"
   ]
  },
  {
   "cell_type": "code",
   "execution_count": 14,
   "metadata": {
    "execution": {
     "iopub.execute_input": "2021-03-24T10:28:52.142989Z",
     "iopub.status.busy": "2021-03-24T10:28:52.142526Z",
     "iopub.status.idle": "2021-03-24T10:28:52.146182Z",
     "shell.execute_reply": "2021-03-24T10:28:52.145764Z"
    }
   },
   "outputs": [],
   "source": [
    "df = df[df.location == 'California'].append(df[df.location != 'California']).reset_index(drop=True)"
   ]
  },
  {
   "cell_type": "code",
   "execution_count": null,
   "metadata": {},
   "outputs": [],
   "source": []
  },
  {
   "cell_type": "code",
   "execution_count": 15,
   "metadata": {
    "execution": {
     "iopub.execute_input": "2021-03-24T10:28:52.149422Z",
     "iopub.status.busy": "2021-03-24T10:28:52.148909Z",
     "iopub.status.idle": "2021-03-24T10:28:52.167903Z",
     "shell.execute_reply": "2021-03-24T10:28:52.167004Z"
    }
   },
   "outputs": [],
   "source": [
    "tz = pytz.timezone(\"America/New_York\")"
   ]
  },
  {
   "cell_type": "code",
   "execution_count": 16,
   "metadata": {
    "execution": {
     "iopub.execute_input": "2021-03-24T10:28:52.171705Z",
     "iopub.status.busy": "2021-03-24T10:28:52.171009Z",
     "iopub.status.idle": "2021-03-24T10:28:52.175423Z",
     "shell.execute_reply": "2021-03-24T10:28:52.174750Z"
    }
   },
   "outputs": [],
   "source": [
    "today = datetime.now(tz).date()"
   ]
  },
  {
   "cell_type": "code",
   "execution_count": 17,
   "metadata": {
    "execution": {
     "iopub.execute_input": "2021-03-24T10:28:52.178425Z",
     "iopub.status.busy": "2021-03-24T10:28:52.178008Z",
     "iopub.status.idle": "2021-03-24T10:28:52.180924Z",
     "shell.execute_reply": "2021-03-24T10:28:52.181352Z"
    }
   },
   "outputs": [],
   "source": [
    "data_dir = os.path.join(os.path.abspath(\"\"), \"data\")"
   ]
  },
  {
   "cell_type": "code",
   "execution_count": 18,
   "metadata": {
    "execution": {
     "iopub.execute_input": "2021-03-24T10:28:52.185100Z",
     "iopub.status.busy": "2021-03-24T10:28:52.184592Z",
     "iopub.status.idle": "2021-03-24T10:28:52.188608Z",
     "shell.execute_reply": "2021-03-24T10:28:52.188187Z"
    }
   },
   "outputs": [],
   "source": [
    "df.to_csv(os.path.join(data_dir, f\"{today}.csv\"), index=False)"
   ]
  },
  {
   "cell_type": "code",
   "execution_count": null,
   "metadata": {},
   "outputs": [],
   "source": []
  }
 ],
 "metadata": {
  "kernelspec": {
   "display_name": "Python 3",
   "language": "python",
   "name": "python3"
  },
  "language_info": {
   "codemirror_mode": {
    "name": "ipython",
    "version": 3
   },
   "file_extension": ".py",
   "mimetype": "text/x-python",
   "name": "python",
   "nbconvert_exporter": "python",
   "pygments_lexer": "ipython3",
   "version": "3.8.8"
  }
 },
 "nbformat": 4,
 "nbformat_minor": 4
}
