{
 "cells": [
  {
   "cell_type": "markdown",
   "metadata": {},
   "source": [
    "# California COVID vaccinations scrape"
   ]
  },
  {
   "cell_type": "markdown",
   "metadata": {},
   "source": [
    "By [Amy O'Kruk](https://twitter.com/amyokruk)"
   ]
  },
  {
   "cell_type": "markdown",
   "metadata": {},
   "source": [
    "Downloads data on vaccine doses administered by county and statewide from a Tableau-powered dashboard from the California Department of Public Health."
   ]
  },
  {
   "cell_type": "code",
   "execution_count": 1,
   "metadata": {
    "execution": {
     "iopub.execute_input": "2021-03-19T15:44:53.813000Z",
     "iopub.status.busy": "2021-03-19T15:44:53.812404Z",
     "iopub.status.idle": "2021-03-19T15:44:54.206354Z",
     "shell.execute_reply": "2021-03-19T15:44:54.205840Z"
    }
   },
   "outputs": [],
   "source": [
    "import pandas as pd\n",
    "import requests\n",
    "from bs4 import BeautifulSoup\n",
    "import json\n",
    "import re\n",
    "import time\n",
    "from time import gmtime, strftime \n",
    "import os\n",
    "import pytz\n",
    "from datetime import datetime"
   ]
  },
  {
   "cell_type": "markdown",
   "metadata": {},
   "source": [
    "Scrape the dashboard page"
   ]
  },
  {
   "cell_type": "code",
   "execution_count": 2,
   "metadata": {
    "execution": {
     "iopub.execute_input": "2021-03-19T15:44:54.211947Z",
     "iopub.status.busy": "2021-03-19T15:44:54.209604Z",
     "iopub.status.idle": "2021-03-19T15:44:54.527813Z",
     "shell.execute_reply": "2021-03-19T15:44:54.527236Z"
    }
   },
   "outputs": [],
   "source": [
    "url = \"https://public.tableau.com/interactive/views/COVID-19VaccineDashboardPublic/Vaccine?:embed=y&:showVizHome=n&:apiID=host0\"\n",
    "\n",
    "r = requests.get(url)\n",
    "soup = BeautifulSoup(r.text, \"html.parser\")"
   ]
  },
  {
   "cell_type": "code",
   "execution_count": 3,
   "metadata": {
    "execution": {
     "iopub.execute_input": "2021-03-19T15:44:54.533007Z",
     "iopub.status.busy": "2021-03-19T15:44:54.532256Z",
     "iopub.status.idle": "2021-03-19T15:44:54.535676Z",
     "shell.execute_reply": "2021-03-19T15:44:54.536135Z"
    }
   },
   "outputs": [],
   "source": [
    "tableauData = json.loads(soup.find(\"textarea\",{\"id\": \"tsConfigContainer\"}).text)"
   ]
  },
  {
   "cell_type": "markdown",
   "metadata": {},
   "source": [
    "Get the link to the Tableau data"
   ]
  },
  {
   "cell_type": "code",
   "execution_count": 4,
   "metadata": {
    "execution": {
     "iopub.execute_input": "2021-03-19T15:44:54.540319Z",
     "iopub.status.busy": "2021-03-19T15:44:54.539206Z",
     "iopub.status.idle": "2021-03-19T15:44:54.540964Z",
     "shell.execute_reply": "2021-03-19T15:44:54.541408Z"
    }
   },
   "outputs": [],
   "source": [
    "dataUrl = f'https://public.tableau.com{tableauData[\"vizql_root\"]}/bootstrapSession/sessions/{tableauData[\"sessionid\"]}'"
   ]
  },
  {
   "cell_type": "code",
   "execution_count": 5,
   "metadata": {
    "execution": {
     "iopub.execute_input": "2021-03-19T15:44:54.547420Z",
     "iopub.status.busy": "2021-03-19T15:44:54.546836Z",
     "iopub.status.idle": "2021-03-19T15:44:54.665946Z",
     "shell.execute_reply": "2021-03-19T15:44:54.665430Z"
    }
   },
   "outputs": [],
   "source": [
    "r = requests.post(dataUrl, data= {\n",
    "    \"sheet_id\": tableauData[\"sheetId\"],\n",
    "})\n",
    "\n",
    "dataReg = re.search('\\d+;({.*})\\d+;({.*})', r.text, re.MULTILINE)\n",
    "data1 = json.loads(dataReg.group(2))\n",
    "\n",
    "dataJson = data1[\"secondaryInfo\"][\"presModelMap\"][\"dataDictionary\"][\"presModelHolder\"][\"genDataDictionaryPresModel\"][\"dataSegments\"][\"0\"][\"dataColumns\"]"
   ]
  },
  {
   "cell_type": "markdown",
   "metadata": {},
   "source": [
    "Isolate what you want"
   ]
  },
  {
   "cell_type": "code",
   "execution_count": 6,
   "metadata": {
    "execution": {
     "iopub.execute_input": "2021-03-19T15:44:54.670920Z",
     "iopub.status.busy": "2021-03-19T15:44:54.669583Z",
     "iopub.status.idle": "2021-03-19T15:44:54.671667Z",
     "shell.execute_reply": "2021-03-19T15:44:54.672064Z"
    }
   },
   "outputs": [],
   "source": [
    "counties = dataJson[2]['dataValues'][:58]"
   ]
  },
  {
   "cell_type": "code",
   "execution_count": 7,
   "metadata": {
    "execution": {
     "iopub.execute_input": "2021-03-19T15:44:54.677275Z",
     "iopub.status.busy": "2021-03-19T15:44:54.675918Z",
     "iopub.status.idle": "2021-03-19T15:44:54.677812Z",
     "shell.execute_reply": "2021-03-19T15:44:54.678227Z"
    }
   },
   "outputs": [],
   "source": [
    "doses = dataJson[0]['dataValues'][3:61]"
   ]
  },
  {
   "cell_type": "markdown",
   "metadata": {},
   "source": [
    "Data formatting"
   ]
  },
  {
   "cell_type": "code",
   "execution_count": 8,
   "metadata": {
    "execution": {
     "iopub.execute_input": "2021-03-19T15:44:54.682995Z",
     "iopub.status.busy": "2021-03-19T15:44:54.681652Z",
     "iopub.status.idle": "2021-03-19T15:44:54.683560Z",
     "shell.execute_reply": "2021-03-19T15:44:54.684072Z"
    }
   },
   "outputs": [],
   "source": [
    "zipped = dict(zip(counties, doses))"
   ]
  },
  {
   "cell_type": "code",
   "execution_count": 9,
   "metadata": {
    "execution": {
     "iopub.execute_input": "2021-03-19T15:44:54.690783Z",
     "iopub.status.busy": "2021-03-19T15:44:54.689708Z",
     "iopub.status.idle": "2021-03-19T15:44:54.692107Z",
     "shell.execute_reply": "2021-03-19T15:44:54.692506Z"
    }
   },
   "outputs": [],
   "source": [
    "df = pd.Series(zipped).reset_index()"
   ]
  },
  {
   "cell_type": "code",
   "execution_count": 10,
   "metadata": {
    "execution": {
     "iopub.execute_input": "2021-03-19T15:44:54.697377Z",
     "iopub.status.busy": "2021-03-19T15:44:54.695953Z",
     "iopub.status.idle": "2021-03-19T15:44:54.698085Z",
     "shell.execute_reply": "2021-03-19T15:44:54.698499Z"
    }
   },
   "outputs": [],
   "source": [
    "df.columns = ['location','doses']"
   ]
  },
  {
   "cell_type": "markdown",
   "metadata": {},
   "source": [
    "Grab the overall California total"
   ]
  },
  {
   "cell_type": "code",
   "execution_count": 11,
   "metadata": {
    "execution": {
     "iopub.execute_input": "2021-03-19T15:44:54.703617Z",
     "iopub.status.busy": "2021-03-19T15:44:54.702094Z",
     "iopub.status.idle": "2021-03-19T15:44:54.704409Z",
     "shell.execute_reply": "2021-03-19T15:44:54.704999Z"
    }
   },
   "outputs": [],
   "source": [
    "add = {'location':'California','doses':dataJson[0]['dataValues'][2]}"
   ]
  },
  {
   "cell_type": "code",
   "execution_count": 12,
   "metadata": {
    "execution": {
     "iopub.execute_input": "2021-03-19T15:44:54.712551Z",
     "iopub.status.busy": "2021-03-19T15:44:54.711315Z",
     "iopub.status.idle": "2021-03-19T15:44:54.713222Z",
     "shell.execute_reply": "2021-03-19T15:44:54.713746Z"
    }
   },
   "outputs": [],
   "source": [
    "df = df.append(add, ignore_index=True)"
   ]
  },
  {
   "cell_type": "code",
   "execution_count": 13,
   "metadata": {
    "execution": {
     "iopub.execute_input": "2021-03-19T15:44:54.719345Z",
     "iopub.status.busy": "2021-03-19T15:44:54.718062Z",
     "iopub.status.idle": "2021-03-19T15:44:54.721004Z",
     "shell.execute_reply": "2021-03-19T15:44:54.721689Z"
    }
   },
   "outputs": [],
   "source": [
    "df = df.sort_values(by='location')"
   ]
  },
  {
   "cell_type": "code",
   "execution_count": 14,
   "metadata": {
    "execution": {
     "iopub.execute_input": "2021-03-19T15:44:54.728233Z",
     "iopub.status.busy": "2021-03-19T15:44:54.727086Z",
     "iopub.status.idle": "2021-03-19T15:44:54.728841Z",
     "shell.execute_reply": "2021-03-19T15:44:54.729275Z"
    }
   },
   "outputs": [],
   "source": [
    "df = df[df.location == 'California'].append(df[df.location != 'California']).reset_index(drop=True)"
   ]
  },
  {
   "cell_type": "code",
   "execution_count": null,
   "metadata": {},
   "outputs": [],
   "source": []
  },
  {
   "cell_type": "code",
   "execution_count": 15,
   "metadata": {
    "execution": {
     "iopub.execute_input": "2021-03-19T15:44:54.732393Z",
     "iopub.status.busy": "2021-03-19T15:44:54.731921Z",
     "iopub.status.idle": "2021-03-19T15:44:54.747940Z",
     "shell.execute_reply": "2021-03-19T15:44:54.747549Z"
    }
   },
   "outputs": [],
   "source": [
    "tz = pytz.timezone(\"America/New_York\")"
   ]
  },
  {
   "cell_type": "code",
   "execution_count": 16,
   "metadata": {
    "execution": {
     "iopub.execute_input": "2021-03-19T15:44:54.752417Z",
     "iopub.status.busy": "2021-03-19T15:44:54.751276Z",
     "iopub.status.idle": "2021-03-19T15:44:54.752982Z",
     "shell.execute_reply": "2021-03-19T15:44:54.753467Z"
    }
   },
   "outputs": [],
   "source": [
    "today = datetime.now(tz).date()"
   ]
  },
  {
   "cell_type": "code",
   "execution_count": 17,
   "metadata": {
    "execution": {
     "iopub.execute_input": "2021-03-19T15:44:54.757199Z",
     "iopub.status.busy": "2021-03-19T15:44:54.756302Z",
     "iopub.status.idle": "2021-03-19T15:44:54.757978Z",
     "shell.execute_reply": "2021-03-19T15:44:54.758371Z"
    }
   },
   "outputs": [],
   "source": [
    "data_dir = os.path.join(os.path.abspath(\"\"), \"data\")"
   ]
  },
  {
   "cell_type": "code",
   "execution_count": 18,
   "metadata": {
    "execution": {
     "iopub.execute_input": "2021-03-19T15:44:54.761817Z",
     "iopub.status.busy": "2021-03-19T15:44:54.761284Z",
     "iopub.status.idle": "2021-03-19T15:44:54.765533Z",
     "shell.execute_reply": "2021-03-19T15:44:54.765912Z"
    }
   },
   "outputs": [],
   "source": [
    "df.to_csv(os.path.join(data_dir, f\"{today}.csv\"), index=False)"
   ]
  },
  {
   "cell_type": "code",
   "execution_count": null,
   "metadata": {},
   "outputs": [],
   "source": []
  }
 ],
 "metadata": {
  "kernelspec": {
   "display_name": "Python 3",
   "language": "python",
   "name": "python3"
  },
  "language_info": {
   "codemirror_mode": {
    "name": "ipython",
    "version": 3
   },
   "file_extension": ".py",
   "mimetype": "text/x-python",
   "name": "python",
   "nbconvert_exporter": "python",
   "pygments_lexer": "ipython3",
   "version": "3.8.8"
  }
 },
 "nbformat": 4,
 "nbformat_minor": 4
}
