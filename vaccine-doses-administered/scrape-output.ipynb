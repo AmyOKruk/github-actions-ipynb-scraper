{
 "cells": [
  {
   "cell_type": "markdown",
   "metadata": {},
   "source": [
    "# California COVID vaccinations scrape"
   ]
  },
  {
   "cell_type": "markdown",
   "metadata": {},
   "source": [
    "By [Amy O'Kruk](https://twitter.com/amyokruk)"
   ]
  },
  {
   "cell_type": "markdown",
   "metadata": {},
   "source": [
    "Downloads data on vaccine doses administered by county and statewide from a Tableau-powered dashboard from the California Department of Public Health."
   ]
  },
  {
   "cell_type": "code",
   "execution_count": 1,
   "metadata": {
    "execution": {
     "iopub.execute_input": "2021-03-14T03:44:19.162752Z",
     "iopub.status.busy": "2021-03-14T03:44:19.162124Z",
     "iopub.status.idle": "2021-03-14T03:44:19.552020Z",
     "shell.execute_reply": "2021-03-14T03:44:19.551459Z"
    }
   },
   "outputs": [],
   "source": [
    "import pandas as pd\n",
    "import requests\n",
    "from bs4 import BeautifulSoup\n",
    "import json\n",
    "import re\n",
    "import time\n",
    "from time import gmtime, strftime \n",
    "import os\n",
    "import pytz\n",
    "from datetime import datetime"
   ]
  },
  {
   "cell_type": "markdown",
   "metadata": {},
   "source": [
    "Scrape the dashboard page"
   ]
  },
  {
   "cell_type": "code",
   "execution_count": 2,
   "metadata": {
    "execution": {
     "iopub.execute_input": "2021-03-14T03:44:19.558548Z",
     "iopub.status.busy": "2021-03-14T03:44:19.558022Z",
     "iopub.status.idle": "2021-03-14T03:44:20.153155Z",
     "shell.execute_reply": "2021-03-14T03:44:20.152487Z"
    }
   },
   "outputs": [],
   "source": [
    "url = \"https://public.tableau.com/interactive/views/COVID-19VaccineDashboardPublic/Vaccine?:embed=y&:showVizHome=n&:apiID=host0\"\n",
    "\n",
    "r = requests.get(url)\n",
    "soup = BeautifulSoup(r.text, \"html.parser\")"
   ]
  },
  {
   "cell_type": "code",
   "execution_count": 3,
   "metadata": {
    "execution": {
     "iopub.execute_input": "2021-03-14T03:44:20.158001Z",
     "iopub.status.busy": "2021-03-14T03:44:20.157460Z",
     "iopub.status.idle": "2021-03-14T03:44:20.160883Z",
     "shell.execute_reply": "2021-03-14T03:44:20.160414Z"
    }
   },
   "outputs": [],
   "source": [
    "tableauData = json.loads(soup.find(\"textarea\",{\"id\": \"tsConfigContainer\"}).text)"
   ]
  },
  {
   "cell_type": "markdown",
   "metadata": {},
   "source": [
    "Get the link to the Tableau data"
   ]
  },
  {
   "cell_type": "code",
   "execution_count": 4,
   "metadata": {
    "execution": {
     "iopub.execute_input": "2021-03-14T03:44:20.165984Z",
     "iopub.status.busy": "2021-03-14T03:44:20.164862Z",
     "iopub.status.idle": "2021-03-14T03:44:20.166572Z",
     "shell.execute_reply": "2021-03-14T03:44:20.166995Z"
    }
   },
   "outputs": [],
   "source": [
    "dataUrl = f'https://public.tableau.com{tableauData[\"vizql_root\"]}/bootstrapSession/sessions/{tableauData[\"sessionid\"]}'"
   ]
  },
  {
   "cell_type": "code",
   "execution_count": 5,
   "metadata": {
    "execution": {
     "iopub.execute_input": "2021-03-14T03:44:20.173594Z",
     "iopub.status.busy": "2021-03-14T03:44:20.172999Z",
     "iopub.status.idle": "2021-03-14T03:44:20.769130Z",
     "shell.execute_reply": "2021-03-14T03:44:20.768544Z"
    }
   },
   "outputs": [],
   "source": [
    "r = requests.post(dataUrl, data= {\n",
    "    \"sheet_id\": tableauData[\"sheetId\"],\n",
    "})\n",
    "\n",
    "dataReg = re.search('\\d+;({.*})\\d+;({.*})', r.text, re.MULTILINE)\n",
    "data1 = json.loads(dataReg.group(2))\n",
    "\n",
    "dataJson = data1[\"secondaryInfo\"][\"presModelMap\"][\"dataDictionary\"][\"presModelHolder\"][\"genDataDictionaryPresModel\"][\"dataSegments\"][\"0\"][\"dataColumns\"]"
   ]
  },
  {
   "cell_type": "markdown",
   "metadata": {},
   "source": [
    "Isolate what you want"
   ]
  },
  {
   "cell_type": "code",
   "execution_count": 6,
   "metadata": {
    "execution": {
     "iopub.execute_input": "2021-03-14T03:44:20.774575Z",
     "iopub.status.busy": "2021-03-14T03:44:20.773026Z",
     "iopub.status.idle": "2021-03-14T03:44:20.775501Z",
     "shell.execute_reply": "2021-03-14T03:44:20.776037Z"
    }
   },
   "outputs": [],
   "source": [
    "counties = dataJson[2]['dataValues'][:58]"
   ]
  },
  {
   "cell_type": "code",
   "execution_count": 7,
   "metadata": {
    "execution": {
     "iopub.execute_input": "2021-03-14T03:44:20.780922Z",
     "iopub.status.busy": "2021-03-14T03:44:20.779406Z",
     "iopub.status.idle": "2021-03-14T03:44:20.781642Z",
     "shell.execute_reply": "2021-03-14T03:44:20.782173Z"
    }
   },
   "outputs": [],
   "source": [
    "doses = dataJson[0]['dataValues'][3:61]"
   ]
  },
  {
   "cell_type": "markdown",
   "metadata": {},
   "source": [
    "Data formatting"
   ]
  },
  {
   "cell_type": "code",
   "execution_count": 8,
   "metadata": {
    "execution": {
     "iopub.execute_input": "2021-03-14T03:44:20.786460Z",
     "iopub.status.busy": "2021-03-14T03:44:20.785286Z",
     "iopub.status.idle": "2021-03-14T03:44:20.787202Z",
     "shell.execute_reply": "2021-03-14T03:44:20.787630Z"
    }
   },
   "outputs": [],
   "source": [
    "zipped = dict(zip(counties, doses))"
   ]
  },
  {
   "cell_type": "code",
   "execution_count": 9,
   "metadata": {
    "execution": {
     "iopub.execute_input": "2021-03-14T03:44:20.794645Z",
     "iopub.status.busy": "2021-03-14T03:44:20.793412Z",
     "iopub.status.idle": "2021-03-14T03:44:20.795237Z",
     "shell.execute_reply": "2021-03-14T03:44:20.795663Z"
    }
   },
   "outputs": [],
   "source": [
    "df = pd.Series(zipped).reset_index()"
   ]
  },
  {
   "cell_type": "code",
   "execution_count": 10,
   "metadata": {
    "execution": {
     "iopub.execute_input": "2021-03-14T03:44:20.800107Z",
     "iopub.status.busy": "2021-03-14T03:44:20.798926Z",
     "iopub.status.idle": "2021-03-14T03:44:20.800788Z",
     "shell.execute_reply": "2021-03-14T03:44:20.801337Z"
    }
   },
   "outputs": [],
   "source": [
    "df.columns = ['location','doses']"
   ]
  },
  {
   "cell_type": "markdown",
   "metadata": {},
   "source": [
    "Grab the overall California total"
   ]
  },
  {
   "cell_type": "code",
   "execution_count": 11,
   "metadata": {
    "execution": {
     "iopub.execute_input": "2021-03-14T03:44:20.805497Z",
     "iopub.status.busy": "2021-03-14T03:44:20.804984Z",
     "iopub.status.idle": "2021-03-14T03:44:20.812539Z",
     "shell.execute_reply": "2021-03-14T03:44:20.812032Z"
    }
   },
   "outputs": [],
   "source": [
    "add = {'location':'California','doses':dataJson[0]['dataValues'][2]}"
   ]
  },
  {
   "cell_type": "code",
   "execution_count": 12,
   "metadata": {
    "execution": {
     "iopub.execute_input": "2021-03-14T03:44:20.820661Z",
     "iopub.status.busy": "2021-03-14T03:44:20.820022Z",
     "iopub.status.idle": "2021-03-14T03:44:20.821610Z",
     "shell.execute_reply": "2021-03-14T03:44:20.821157Z"
    }
   },
   "outputs": [],
   "source": [
    "df = df.append(add, ignore_index=True)"
   ]
  },
  {
   "cell_type": "code",
   "execution_count": 13,
   "metadata": {
    "execution": {
     "iopub.execute_input": "2021-03-14T03:44:20.826620Z",
     "iopub.status.busy": "2021-03-14T03:44:20.825422Z",
     "iopub.status.idle": "2021-03-14T03:44:20.827272Z",
     "shell.execute_reply": "2021-03-14T03:44:20.827698Z"
    }
   },
   "outputs": [],
   "source": [
    "df = df.sort_values(by='location')"
   ]
  },
  {
   "cell_type": "code",
   "execution_count": 14,
   "metadata": {
    "execution": {
     "iopub.execute_input": "2021-03-14T03:44:20.834523Z",
     "iopub.status.busy": "2021-03-14T03:44:20.832963Z",
     "iopub.status.idle": "2021-03-14T03:44:20.835126Z",
     "shell.execute_reply": "2021-03-14T03:44:20.835553Z"
    }
   },
   "outputs": [],
   "source": [
    "df = df[df.location == 'California'].append(df[df.location != 'California']).reset_index(drop=True)"
   ]
  },
  {
   "cell_type": "code",
   "execution_count": null,
   "metadata": {},
   "outputs": [],
   "source": []
  },
  {
   "cell_type": "code",
   "execution_count": 15,
   "metadata": {
    "execution": {
     "iopub.execute_input": "2021-03-14T03:44:20.838913Z",
     "iopub.status.busy": "2021-03-14T03:44:20.838394Z",
     "iopub.status.idle": "2021-03-14T03:44:20.855817Z",
     "shell.execute_reply": "2021-03-14T03:44:20.855339Z"
    }
   },
   "outputs": [],
   "source": [
    "tz = pytz.timezone(\"America/New_York\")"
   ]
  },
  {
   "cell_type": "code",
   "execution_count": 16,
   "metadata": {
    "execution": {
     "iopub.execute_input": "2021-03-14T03:44:20.860149Z",
     "iopub.status.busy": "2021-03-14T03:44:20.858928Z",
     "iopub.status.idle": "2021-03-14T03:44:20.860772Z",
     "shell.execute_reply": "2021-03-14T03:44:20.861198Z"
    }
   },
   "outputs": [],
   "source": [
    "today = datetime.now(tz).date()"
   ]
  },
  {
   "cell_type": "code",
   "execution_count": 17,
   "metadata": {
    "execution": {
     "iopub.execute_input": "2021-03-14T03:44:20.865412Z",
     "iopub.status.busy": "2021-03-14T03:44:20.864286Z",
     "iopub.status.idle": "2021-03-14T03:44:20.866400Z",
     "shell.execute_reply": "2021-03-14T03:44:20.866798Z"
    }
   },
   "outputs": [],
   "source": [
    "data_dir = os.path.join(os.path.abspath(\"\"), \"data\")"
   ]
  },
  {
   "cell_type": "code",
   "execution_count": 18,
   "metadata": {
    "execution": {
     "iopub.execute_input": "2021-03-14T03:44:20.871110Z",
     "iopub.status.busy": "2021-03-14T03:44:20.869937Z",
     "iopub.status.idle": "2021-03-14T03:44:20.874343Z",
     "shell.execute_reply": "2021-03-14T03:44:20.873909Z"
    }
   },
   "outputs": [],
   "source": [
    "df.to_csv(os.path.join(data_dir, f\"{today}.csv\"), index=False)"
   ]
  },
  {
   "cell_type": "code",
   "execution_count": null,
   "metadata": {},
   "outputs": [],
   "source": []
  }
 ],
 "metadata": {
  "kernelspec": {
   "display_name": "Python 3",
   "language": "python",
   "name": "python3"
  },
  "language_info": {
   "codemirror_mode": {
    "name": "ipython",
    "version": 3
   },
   "file_extension": ".py",
   "mimetype": "text/x-python",
   "name": "python",
   "nbconvert_exporter": "python",
   "pygments_lexer": "ipython3",
   "version": "3.8.8"
  }
 },
 "nbformat": 4,
 "nbformat_minor": 4
}
