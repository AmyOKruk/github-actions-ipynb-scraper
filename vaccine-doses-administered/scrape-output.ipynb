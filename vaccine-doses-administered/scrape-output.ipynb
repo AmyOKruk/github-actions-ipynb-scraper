{
 "cells": [
  {
   "cell_type": "markdown",
   "metadata": {},
   "source": [
    "# California COVID vaccinations scrape"
   ]
  },
  {
   "cell_type": "markdown",
   "metadata": {},
   "source": [
    "By [Amy O'Kruk](https://twitter.com/amyokruk)"
   ]
  },
  {
   "cell_type": "markdown",
   "metadata": {},
   "source": [
    "Downloads data on vaccine doses administered by county and statewide from a Tableau-powered dashboard from the California Department of Public Health."
   ]
  },
  {
   "cell_type": "code",
   "execution_count": 1,
   "metadata": {
    "execution": {
     "iopub.execute_input": "2021-03-19T17:57:55.455136Z",
     "iopub.status.busy": "2021-03-19T17:57:55.454489Z",
     "iopub.status.idle": "2021-03-19T17:57:55.851755Z",
     "shell.execute_reply": "2021-03-19T17:57:55.851184Z"
    }
   },
   "outputs": [],
   "source": [
    "import pandas as pd\n",
    "import requests\n",
    "from bs4 import BeautifulSoup\n",
    "import json\n",
    "import re\n",
    "import time\n",
    "from time import gmtime, strftime \n",
    "import os\n",
    "import pytz\n",
    "from datetime import datetime"
   ]
  },
  {
   "cell_type": "markdown",
   "metadata": {},
   "source": [
    "Scrape the dashboard page"
   ]
  },
  {
   "cell_type": "code",
   "execution_count": 2,
   "metadata": {
    "execution": {
     "iopub.execute_input": "2021-03-19T17:57:55.857275Z",
     "iopub.status.busy": "2021-03-19T17:57:55.855007Z",
     "iopub.status.idle": "2021-03-19T17:57:56.219749Z",
     "shell.execute_reply": "2021-03-19T17:57:56.219252Z"
    }
   },
   "outputs": [],
   "source": [
    "url = \"https://public.tableau.com/interactive/views/COVID-19VaccineDashboardPublic/Vaccine?:embed=y&:showVizHome=n&:apiID=host0\"\n",
    "\n",
    "r = requests.get(url)\n",
    "soup = BeautifulSoup(r.text, \"html.parser\")"
   ]
  },
  {
   "cell_type": "code",
   "execution_count": 3,
   "metadata": {
    "execution": {
     "iopub.execute_input": "2021-03-19T17:57:56.225243Z",
     "iopub.status.busy": "2021-03-19T17:57:56.224682Z",
     "iopub.status.idle": "2021-03-19T17:57:56.228360Z",
     "shell.execute_reply": "2021-03-19T17:57:56.227909Z"
    }
   },
   "outputs": [],
   "source": [
    "tableauData = json.loads(soup.find(\"textarea\",{\"id\": \"tsConfigContainer\"}).text)"
   ]
  },
  {
   "cell_type": "markdown",
   "metadata": {},
   "source": [
    "Get the link to the Tableau data"
   ]
  },
  {
   "cell_type": "code",
   "execution_count": 4,
   "metadata": {
    "execution": {
     "iopub.execute_input": "2021-03-19T17:57:56.231864Z",
     "iopub.status.busy": "2021-03-19T17:57:56.231315Z",
     "iopub.status.idle": "2021-03-19T17:57:56.235121Z",
     "shell.execute_reply": "2021-03-19T17:57:56.234528Z"
    }
   },
   "outputs": [],
   "source": [
    "dataUrl = f'https://public.tableau.com{tableauData[\"vizql_root\"]}/bootstrapSession/sessions/{tableauData[\"sessionid\"]}'"
   ]
  },
  {
   "cell_type": "code",
   "execution_count": 5,
   "metadata": {
    "execution": {
     "iopub.execute_input": "2021-03-19T17:57:56.242315Z",
     "iopub.status.busy": "2021-03-19T17:57:56.241700Z",
     "iopub.status.idle": "2021-03-19T17:57:56.721844Z",
     "shell.execute_reply": "2021-03-19T17:57:56.721373Z"
    }
   },
   "outputs": [],
   "source": [
    "r = requests.post(dataUrl, data= {\n",
    "    \"sheet_id\": tableauData[\"sheetId\"],\n",
    "})\n",
    "\n",
    "dataReg = re.search('\\d+;({.*})\\d+;({.*})', r.text, re.MULTILINE)\n",
    "data1 = json.loads(dataReg.group(2))\n",
    "\n",
    "dataJson = data1[\"secondaryInfo\"][\"presModelMap\"][\"dataDictionary\"][\"presModelHolder\"][\"genDataDictionaryPresModel\"][\"dataSegments\"][\"0\"][\"dataColumns\"]"
   ]
  },
  {
   "cell_type": "markdown",
   "metadata": {},
   "source": [
    "Isolate what you want"
   ]
  },
  {
   "cell_type": "code",
   "execution_count": 6,
   "metadata": {
    "execution": {
     "iopub.execute_input": "2021-03-19T17:57:56.726972Z",
     "iopub.status.busy": "2021-03-19T17:57:56.725725Z",
     "iopub.status.idle": "2021-03-19T17:57:56.727631Z",
     "shell.execute_reply": "2021-03-19T17:57:56.728060Z"
    }
   },
   "outputs": [],
   "source": [
    "counties = dataJson[2]['dataValues'][:58]"
   ]
  },
  {
   "cell_type": "code",
   "execution_count": 7,
   "metadata": {
    "execution": {
     "iopub.execute_input": "2021-03-19T17:57:56.732418Z",
     "iopub.status.busy": "2021-03-19T17:57:56.731149Z",
     "iopub.status.idle": "2021-03-19T17:57:56.733051Z",
     "shell.execute_reply": "2021-03-19T17:57:56.733506Z"
    }
   },
   "outputs": [],
   "source": [
    "doses = dataJson[0]['dataValues'][3:61]"
   ]
  },
  {
   "cell_type": "markdown",
   "metadata": {},
   "source": [
    "Data formatting"
   ]
  },
  {
   "cell_type": "code",
   "execution_count": 8,
   "metadata": {
    "execution": {
     "iopub.execute_input": "2021-03-19T17:57:56.737972Z",
     "iopub.status.busy": "2021-03-19T17:57:56.736520Z",
     "iopub.status.idle": "2021-03-19T17:57:56.738592Z",
     "shell.execute_reply": "2021-03-19T17:57:56.739017Z"
    }
   },
   "outputs": [],
   "source": [
    "zipped = dict(zip(counties, doses))"
   ]
  },
  {
   "cell_type": "code",
   "execution_count": 9,
   "metadata": {
    "execution": {
     "iopub.execute_input": "2021-03-19T17:57:56.745155Z",
     "iopub.status.busy": "2021-03-19T17:57:56.744161Z",
     "iopub.status.idle": "2021-03-19T17:57:56.745980Z",
     "shell.execute_reply": "2021-03-19T17:57:56.746407Z"
    }
   },
   "outputs": [],
   "source": [
    "df = pd.Series(zipped).reset_index()"
   ]
  },
  {
   "cell_type": "code",
   "execution_count": 10,
   "metadata": {
    "execution": {
     "iopub.execute_input": "2021-03-19T17:57:56.750855Z",
     "iopub.status.busy": "2021-03-19T17:57:56.749538Z",
     "iopub.status.idle": "2021-03-19T17:57:56.751561Z",
     "shell.execute_reply": "2021-03-19T17:57:56.752039Z"
    }
   },
   "outputs": [],
   "source": [
    "df.columns = ['location','doses']"
   ]
  },
  {
   "cell_type": "markdown",
   "metadata": {},
   "source": [
    "Grab the overall California total"
   ]
  },
  {
   "cell_type": "code",
   "execution_count": 11,
   "metadata": {
    "execution": {
     "iopub.execute_input": "2021-03-19T17:57:56.757557Z",
     "iopub.status.busy": "2021-03-19T17:57:56.756294Z",
     "iopub.status.idle": "2021-03-19T17:57:56.758150Z",
     "shell.execute_reply": "2021-03-19T17:57:56.758573Z"
    }
   },
   "outputs": [],
   "source": [
    "add = {'location':'California','doses':dataJson[0]['dataValues'][2]}"
   ]
  },
  {
   "cell_type": "code",
   "execution_count": 12,
   "metadata": {
    "execution": {
     "iopub.execute_input": "2021-03-19T17:57:56.765944Z",
     "iopub.status.busy": "2021-03-19T17:57:56.764554Z",
     "iopub.status.idle": "2021-03-19T17:57:56.766661Z",
     "shell.execute_reply": "2021-03-19T17:57:56.767127Z"
    }
   },
   "outputs": [],
   "source": [
    "df = df.append(add, ignore_index=True)"
   ]
  },
  {
   "cell_type": "code",
   "execution_count": 13,
   "metadata": {
    "execution": {
     "iopub.execute_input": "2021-03-19T17:57:56.772866Z",
     "iopub.status.busy": "2021-03-19T17:57:56.771708Z",
     "iopub.status.idle": "2021-03-19T17:57:56.773568Z",
     "shell.execute_reply": "2021-03-19T17:57:56.774020Z"
    }
   },
   "outputs": [],
   "source": [
    "df = df.sort_values(by='location')"
   ]
  },
  {
   "cell_type": "code",
   "execution_count": 14,
   "metadata": {
    "execution": {
     "iopub.execute_input": "2021-03-19T17:57:56.780606Z",
     "iopub.status.busy": "2021-03-19T17:57:56.779334Z",
     "iopub.status.idle": "2021-03-19T17:57:56.781289Z",
     "shell.execute_reply": "2021-03-19T17:57:56.781797Z"
    }
   },
   "outputs": [],
   "source": [
    "df = df[df.location == 'California'].append(df[df.location != 'California']).reset_index(drop=True)"
   ]
  },
  {
   "cell_type": "code",
   "execution_count": null,
   "metadata": {},
   "outputs": [],
   "source": []
  },
  {
   "cell_type": "code",
   "execution_count": 15,
   "metadata": {
    "execution": {
     "iopub.execute_input": "2021-03-19T17:57:56.785584Z",
     "iopub.status.busy": "2021-03-19T17:57:56.785042Z",
     "iopub.status.idle": "2021-03-19T17:57:56.802887Z",
     "shell.execute_reply": "2021-03-19T17:57:56.802426Z"
    }
   },
   "outputs": [],
   "source": [
    "tz = pytz.timezone(\"America/New_York\")"
   ]
  },
  {
   "cell_type": "code",
   "execution_count": 16,
   "metadata": {
    "execution": {
     "iopub.execute_input": "2021-03-19T17:57:56.807269Z",
     "iopub.status.busy": "2021-03-19T17:57:56.805921Z",
     "iopub.status.idle": "2021-03-19T17:57:56.807895Z",
     "shell.execute_reply": "2021-03-19T17:57:56.808372Z"
    }
   },
   "outputs": [],
   "source": [
    "today = datetime.now(tz).date()"
   ]
  },
  {
   "cell_type": "code",
   "execution_count": 17,
   "metadata": {
    "execution": {
     "iopub.execute_input": "2021-03-19T17:57:56.812815Z",
     "iopub.status.busy": "2021-03-19T17:57:56.811547Z",
     "iopub.status.idle": "2021-03-19T17:57:56.813456Z",
     "shell.execute_reply": "2021-03-19T17:57:56.813907Z"
    }
   },
   "outputs": [],
   "source": [
    "data_dir = os.path.join(os.path.abspath(\"\"), \"data\")"
   ]
  },
  {
   "cell_type": "code",
   "execution_count": 18,
   "metadata": {
    "execution": {
     "iopub.execute_input": "2021-03-19T17:57:56.818525Z",
     "iopub.status.busy": "2021-03-19T17:57:56.817785Z",
     "iopub.status.idle": "2021-03-19T17:57:56.822340Z",
     "shell.execute_reply": "2021-03-19T17:57:56.821893Z"
    }
   },
   "outputs": [],
   "source": [
    "df.to_csv(os.path.join(data_dir, f\"{today}.csv\"), index=False)"
   ]
  },
  {
   "cell_type": "code",
   "execution_count": null,
   "metadata": {},
   "outputs": [],
   "source": []
  }
 ],
 "metadata": {
  "kernelspec": {
   "display_name": "Python 3",
   "language": "python",
   "name": "python3"
  },
  "language_info": {
   "codemirror_mode": {
    "name": "ipython",
    "version": 3
   },
   "file_extension": ".py",
   "mimetype": "text/x-python",
   "name": "python",
   "nbconvert_exporter": "python",
   "pygments_lexer": "ipython3",
   "version": "3.8.8"
  }
 },
 "nbformat": 4,
 "nbformat_minor": 4
}
