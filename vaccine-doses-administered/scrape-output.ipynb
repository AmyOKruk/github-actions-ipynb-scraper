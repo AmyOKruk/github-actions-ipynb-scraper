{
 "cells": [
  {
   "cell_type": "markdown",
   "metadata": {},
   "source": [
    "# California COVID vaccinations scrape"
   ]
  },
  {
   "cell_type": "markdown",
   "metadata": {},
   "source": [
    "By [Amy O'Kruk](https://twitter.com/amyokruk)"
   ]
  },
  {
   "cell_type": "markdown",
   "metadata": {},
   "source": [
    "Downloads data on vaccine doses administered by county and statewide from a Tableau-powered dashboard from the California Department of Public Health."
   ]
  },
  {
   "cell_type": "code",
   "execution_count": 1,
   "metadata": {
    "execution": {
     "iopub.execute_input": "2021-03-23T16:19:51.423448Z",
     "iopub.status.busy": "2021-03-23T16:19:51.422899Z",
     "iopub.status.idle": "2021-03-23T16:19:51.745720Z",
     "shell.execute_reply": "2021-03-23T16:19:51.744828Z"
    }
   },
   "outputs": [],
   "source": [
    "import pandas as pd\n",
    "import requests\n",
    "from bs4 import BeautifulSoup\n",
    "import json\n",
    "import re\n",
    "import time\n",
    "from time import gmtime, strftime \n",
    "import os\n",
    "import pytz\n",
    "from datetime import datetime"
   ]
  },
  {
   "cell_type": "markdown",
   "metadata": {},
   "source": [
    "Scrape the dashboard page"
   ]
  },
  {
   "cell_type": "code",
   "execution_count": 2,
   "metadata": {
    "execution": {
     "iopub.execute_input": "2021-03-23T16:19:51.750449Z",
     "iopub.status.busy": "2021-03-23T16:19:51.748876Z",
     "iopub.status.idle": "2021-03-23T16:19:52.234657Z",
     "shell.execute_reply": "2021-03-23T16:19:52.233824Z"
    }
   },
   "outputs": [],
   "source": [
    "url = \"https://public.tableau.com/interactive/views/COVID-19VaccineDashboardPublic/Vaccine?:embed=y&:showVizHome=n&:apiID=host0\"\n",
    "\n",
    "r = requests.get(url)\n",
    "soup = BeautifulSoup(r.text, \"html.parser\")"
   ]
  },
  {
   "cell_type": "code",
   "execution_count": 3,
   "metadata": {
    "execution": {
     "iopub.execute_input": "2021-03-23T16:19:52.238835Z",
     "iopub.status.busy": "2021-03-23T16:19:52.238377Z",
     "iopub.status.idle": "2021-03-23T16:19:52.241529Z",
     "shell.execute_reply": "2021-03-23T16:19:52.241095Z"
    }
   },
   "outputs": [],
   "source": [
    "tableauData = json.loads(soup.find(\"textarea\",{\"id\": \"tsConfigContainer\"}).text)"
   ]
  },
  {
   "cell_type": "markdown",
   "metadata": {},
   "source": [
    "Get the link to the Tableau data"
   ]
  },
  {
   "cell_type": "code",
   "execution_count": 4,
   "metadata": {
    "execution": {
     "iopub.execute_input": "2021-03-23T16:19:52.244797Z",
     "iopub.status.busy": "2021-03-23T16:19:52.244320Z",
     "iopub.status.idle": "2021-03-23T16:19:52.248161Z",
     "shell.execute_reply": "2021-03-23T16:19:52.247769Z"
    }
   },
   "outputs": [],
   "source": [
    "dataUrl = f'https://public.tableau.com{tableauData[\"vizql_root\"]}/bootstrapSession/sessions/{tableauData[\"sessionid\"]}'"
   ]
  },
  {
   "cell_type": "code",
   "execution_count": 5,
   "metadata": {
    "execution": {
     "iopub.execute_input": "2021-03-23T16:19:52.253532Z",
     "iopub.status.busy": "2021-03-23T16:19:52.253064Z",
     "iopub.status.idle": "2021-03-23T16:19:54.650455Z",
     "shell.execute_reply": "2021-03-23T16:19:54.649928Z"
    }
   },
   "outputs": [],
   "source": [
    "r = requests.post(dataUrl, data= {\n",
    "    \"sheet_id\": tableauData[\"sheetId\"],\n",
    "})\n",
    "\n",
    "dataReg = re.search('\\d+;({.*})\\d+;({.*})', r.text, re.MULTILINE)\n",
    "data1 = json.loads(dataReg.group(2))\n",
    "\n",
    "dataJson = data1[\"secondaryInfo\"][\"presModelMap\"][\"dataDictionary\"][\"presModelHolder\"][\"genDataDictionaryPresModel\"][\"dataSegments\"][\"0\"][\"dataColumns\"]"
   ]
  },
  {
   "cell_type": "markdown",
   "metadata": {},
   "source": [
    "Isolate what you want"
   ]
  },
  {
   "cell_type": "code",
   "execution_count": 6,
   "metadata": {
    "execution": {
     "iopub.execute_input": "2021-03-23T16:19:54.654628Z",
     "iopub.status.busy": "2021-03-23T16:19:54.653510Z",
     "iopub.status.idle": "2021-03-23T16:19:54.655212Z",
     "shell.execute_reply": "2021-03-23T16:19:54.655626Z"
    }
   },
   "outputs": [],
   "source": [
    "counties = dataJson[2]['dataValues'][:58]"
   ]
  },
  {
   "cell_type": "code",
   "execution_count": 7,
   "metadata": {
    "execution": {
     "iopub.execute_input": "2021-03-23T16:19:54.659276Z",
     "iopub.status.busy": "2021-03-23T16:19:54.658404Z",
     "iopub.status.idle": "2021-03-23T16:19:54.659981Z",
     "shell.execute_reply": "2021-03-23T16:19:54.660349Z"
    }
   },
   "outputs": [],
   "source": [
    "doses = dataJson[0]['dataValues'][3:61]"
   ]
  },
  {
   "cell_type": "markdown",
   "metadata": {},
   "source": [
    "Data formatting"
   ]
  },
  {
   "cell_type": "code",
   "execution_count": 8,
   "metadata": {
    "execution": {
     "iopub.execute_input": "2021-03-23T16:19:54.663615Z",
     "iopub.status.busy": "2021-03-23T16:19:54.662845Z",
     "iopub.status.idle": "2021-03-23T16:19:54.664423Z",
     "shell.execute_reply": "2021-03-23T16:19:54.664789Z"
    }
   },
   "outputs": [],
   "source": [
    "zipped = dict(zip(counties, doses))"
   ]
  },
  {
   "cell_type": "code",
   "execution_count": 9,
   "metadata": {
    "execution": {
     "iopub.execute_input": "2021-03-23T16:19:54.670135Z",
     "iopub.status.busy": "2021-03-23T16:19:54.669265Z",
     "iopub.status.idle": "2021-03-23T16:19:54.670885Z",
     "shell.execute_reply": "2021-03-23T16:19:54.671251Z"
    }
   },
   "outputs": [],
   "source": [
    "df = pd.Series(zipped).reset_index()"
   ]
  },
  {
   "cell_type": "code",
   "execution_count": 10,
   "metadata": {
    "execution": {
     "iopub.execute_input": "2021-03-23T16:19:54.674665Z",
     "iopub.status.busy": "2021-03-23T16:19:54.673882Z",
     "iopub.status.idle": "2021-03-23T16:19:54.675736Z",
     "shell.execute_reply": "2021-03-23T16:19:54.675375Z"
    }
   },
   "outputs": [],
   "source": [
    "df.columns = ['location','doses']"
   ]
  },
  {
   "cell_type": "markdown",
   "metadata": {},
   "source": [
    "Grab the overall California total"
   ]
  },
  {
   "cell_type": "code",
   "execution_count": 11,
   "metadata": {
    "execution": {
     "iopub.execute_input": "2021-03-23T16:19:54.679074Z",
     "iopub.status.busy": "2021-03-23T16:19:54.678284Z",
     "iopub.status.idle": "2021-03-23T16:19:54.679877Z",
     "shell.execute_reply": "2021-03-23T16:19:54.680242Z"
    }
   },
   "outputs": [],
   "source": [
    "add = {'location':'California','doses':dataJson[0]['dataValues'][2]}"
   ]
  },
  {
   "cell_type": "code",
   "execution_count": 12,
   "metadata": {
    "execution": {
     "iopub.execute_input": "2021-03-23T16:19:54.685855Z",
     "iopub.status.busy": "2021-03-23T16:19:54.685083Z",
     "iopub.status.idle": "2021-03-23T16:19:54.686636Z",
     "shell.execute_reply": "2021-03-23T16:19:54.687001Z"
    }
   },
   "outputs": [],
   "source": [
    "df = df.append(add, ignore_index=True)"
   ]
  },
  {
   "cell_type": "code",
   "execution_count": 13,
   "metadata": {
    "execution": {
     "iopub.execute_input": "2021-03-23T16:19:54.690873Z",
     "iopub.status.busy": "2021-03-23T16:19:54.690088Z",
     "iopub.status.idle": "2021-03-23T16:19:54.692094Z",
     "shell.execute_reply": "2021-03-23T16:19:54.691727Z"
    }
   },
   "outputs": [],
   "source": [
    "df = df.sort_values(by='location')"
   ]
  },
  {
   "cell_type": "code",
   "execution_count": 14,
   "metadata": {
    "execution": {
     "iopub.execute_input": "2021-03-23T16:19:54.697205Z",
     "iopub.status.busy": "2021-03-23T16:19:54.696437Z",
     "iopub.status.idle": "2021-03-23T16:19:54.697954Z",
     "shell.execute_reply": "2021-03-23T16:19:54.698340Z"
    }
   },
   "outputs": [],
   "source": [
    "df = df[df.location == 'California'].append(df[df.location != 'California']).reset_index(drop=True)"
   ]
  },
  {
   "cell_type": "code",
   "execution_count": null,
   "metadata": {},
   "outputs": [],
   "source": []
  },
  {
   "cell_type": "code",
   "execution_count": 15,
   "metadata": {
    "execution": {
     "iopub.execute_input": "2021-03-23T16:19:54.701119Z",
     "iopub.status.busy": "2021-03-23T16:19:54.700683Z",
     "iopub.status.idle": "2021-03-23T16:19:54.715471Z",
     "shell.execute_reply": "2021-03-23T16:19:54.715841Z"
    }
   },
   "outputs": [],
   "source": [
    "tz = pytz.timezone(\"America/New_York\")"
   ]
  },
  {
   "cell_type": "code",
   "execution_count": 16,
   "metadata": {
    "execution": {
     "iopub.execute_input": "2021-03-23T16:19:54.719574Z",
     "iopub.status.busy": "2021-03-23T16:19:54.718575Z",
     "iopub.status.idle": "2021-03-23T16:19:54.720155Z",
     "shell.execute_reply": "2021-03-23T16:19:54.720524Z"
    }
   },
   "outputs": [],
   "source": [
    "today = datetime.now(tz).date()"
   ]
  },
  {
   "cell_type": "code",
   "execution_count": 17,
   "metadata": {
    "execution": {
     "iopub.execute_input": "2021-03-23T16:19:54.723865Z",
     "iopub.status.busy": "2021-03-23T16:19:54.723106Z",
     "iopub.status.idle": "2021-03-23T16:19:54.724669Z",
     "shell.execute_reply": "2021-03-23T16:19:54.725008Z"
    }
   },
   "outputs": [],
   "source": [
    "data_dir = os.path.join(os.path.abspath(\"\"), \"data\")"
   ]
  },
  {
   "cell_type": "code",
   "execution_count": 18,
   "metadata": {
    "execution": {
     "iopub.execute_input": "2021-03-23T16:19:54.728620Z",
     "iopub.status.busy": "2021-03-23T16:19:54.727634Z",
     "iopub.status.idle": "2021-03-23T16:19:54.731875Z",
     "shell.execute_reply": "2021-03-23T16:19:54.731435Z"
    }
   },
   "outputs": [],
   "source": [
    "df.to_csv(os.path.join(data_dir, f\"{today}.csv\"), index=False)"
   ]
  },
  {
   "cell_type": "code",
   "execution_count": null,
   "metadata": {},
   "outputs": [],
   "source": []
  }
 ],
 "metadata": {
  "kernelspec": {
   "display_name": "Python 3",
   "language": "python",
   "name": "python3"
  },
  "language_info": {
   "codemirror_mode": {
    "name": "ipython",
    "version": 3
   },
   "file_extension": ".py",
   "mimetype": "text/x-python",
   "name": "python",
   "nbconvert_exporter": "python",
   "pygments_lexer": "ipython3",
   "version": "3.8.8"
  }
 },
 "nbformat": 4,
 "nbformat_minor": 4
}
