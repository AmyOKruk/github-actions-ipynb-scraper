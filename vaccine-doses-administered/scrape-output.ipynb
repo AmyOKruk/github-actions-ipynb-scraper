{
 "cells": [
  {
   "cell_type": "markdown",
   "metadata": {},
   "source": [
    "# California COVID vaccinations scrape"
   ]
  },
  {
   "cell_type": "markdown",
   "metadata": {},
   "source": [
    "By [Amy O'Kruk](https://twitter.com/amyokruk)"
   ]
  },
  {
   "cell_type": "markdown",
   "metadata": {},
   "source": [
    "Downloads data on vaccine doses administered by county and statewide from a Tableau-powered dashboard from the California Department of Public Health."
   ]
  },
  {
   "cell_type": "code",
   "execution_count": 1,
   "metadata": {
    "execution": {
     "iopub.execute_input": "2021-03-15T01:29:15.512428Z",
     "iopub.status.busy": "2021-03-15T01:29:15.511771Z",
     "iopub.status.idle": "2021-03-15T01:29:15.887225Z",
     "shell.execute_reply": "2021-03-15T01:29:15.886692Z"
    }
   },
   "outputs": [],
   "source": [
    "import pandas as pd\n",
    "import requests\n",
    "from bs4 import BeautifulSoup\n",
    "import json\n",
    "import re\n",
    "import time\n",
    "from time import gmtime, strftime \n",
    "import os\n",
    "import pytz\n",
    "from datetime import datetime"
   ]
  },
  {
   "cell_type": "markdown",
   "metadata": {},
   "source": [
    "Scrape the dashboard page"
   ]
  },
  {
   "cell_type": "code",
   "execution_count": 2,
   "metadata": {
    "execution": {
     "iopub.execute_input": "2021-03-15T01:29:15.892618Z",
     "iopub.status.busy": "2021-03-15T01:29:15.890374Z",
     "iopub.status.idle": "2021-03-15T01:29:16.233993Z",
     "shell.execute_reply": "2021-03-15T01:29:16.233183Z"
    }
   },
   "outputs": [],
   "source": [
    "url = \"https://public.tableau.com/interactive/views/COVID-19VaccineDashboardPublic/Vaccine?:embed=y&:showVizHome=n&:apiID=host0\"\n",
    "\n",
    "r = requests.get(url)\n",
    "soup = BeautifulSoup(r.text, \"html.parser\")"
   ]
  },
  {
   "cell_type": "code",
   "execution_count": 3,
   "metadata": {
    "execution": {
     "iopub.execute_input": "2021-03-15T01:29:16.238319Z",
     "iopub.status.busy": "2021-03-15T01:29:16.237864Z",
     "iopub.status.idle": "2021-03-15T01:29:16.241669Z",
     "shell.execute_reply": "2021-03-15T01:29:16.240794Z"
    }
   },
   "outputs": [],
   "source": [
    "tableauData = json.loads(soup.find(\"textarea\",{\"id\": \"tsConfigContainer\"}).text)"
   ]
  },
  {
   "cell_type": "markdown",
   "metadata": {},
   "source": [
    "Get the link to the Tableau data"
   ]
  },
  {
   "cell_type": "code",
   "execution_count": 4,
   "metadata": {
    "execution": {
     "iopub.execute_input": "2021-03-15T01:29:16.245168Z",
     "iopub.status.busy": "2021-03-15T01:29:16.244678Z",
     "iopub.status.idle": "2021-03-15T01:29:16.248485Z",
     "shell.execute_reply": "2021-03-15T01:29:16.247883Z"
    }
   },
   "outputs": [],
   "source": [
    "dataUrl = f'https://public.tableau.com{tableauData[\"vizql_root\"]}/bootstrapSession/sessions/{tableauData[\"sessionid\"]}'"
   ]
  },
  {
   "cell_type": "code",
   "execution_count": 5,
   "metadata": {
    "execution": {
     "iopub.execute_input": "2021-03-15T01:29:16.255244Z",
     "iopub.status.busy": "2021-03-15T01:29:16.254391Z",
     "iopub.status.idle": "2021-03-15T01:29:16.527456Z",
     "shell.execute_reply": "2021-03-15T01:29:16.526990Z"
    }
   },
   "outputs": [],
   "source": [
    "r = requests.post(dataUrl, data= {\n",
    "    \"sheet_id\": tableauData[\"sheetId\"],\n",
    "})\n",
    "\n",
    "dataReg = re.search('\\d+;({.*})\\d+;({.*})', r.text, re.MULTILINE)\n",
    "data1 = json.loads(dataReg.group(2))\n",
    "\n",
    "dataJson = data1[\"secondaryInfo\"][\"presModelMap\"][\"dataDictionary\"][\"presModelHolder\"][\"genDataDictionaryPresModel\"][\"dataSegments\"][\"0\"][\"dataColumns\"]"
   ]
  },
  {
   "cell_type": "markdown",
   "metadata": {},
   "source": [
    "Isolate what you want"
   ]
  },
  {
   "cell_type": "code",
   "execution_count": 6,
   "metadata": {
    "execution": {
     "iopub.execute_input": "2021-03-15T01:29:16.531109Z",
     "iopub.status.busy": "2021-03-15T01:29:16.530627Z",
     "iopub.status.idle": "2021-03-15T01:29:16.534114Z",
     "shell.execute_reply": "2021-03-15T01:29:16.534478Z"
    }
   },
   "outputs": [],
   "source": [
    "counties = dataJson[2]['dataValues'][:58]"
   ]
  },
  {
   "cell_type": "code",
   "execution_count": 7,
   "metadata": {
    "execution": {
     "iopub.execute_input": "2021-03-15T01:29:16.537823Z",
     "iopub.status.busy": "2021-03-15T01:29:16.537361Z",
     "iopub.status.idle": "2021-03-15T01:29:16.541233Z",
     "shell.execute_reply": "2021-03-15T01:29:16.540779Z"
    }
   },
   "outputs": [],
   "source": [
    "doses = dataJson[0]['dataValues'][3:61]"
   ]
  },
  {
   "cell_type": "markdown",
   "metadata": {},
   "source": [
    "Data formatting"
   ]
  },
  {
   "cell_type": "code",
   "execution_count": 8,
   "metadata": {
    "execution": {
     "iopub.execute_input": "2021-03-15T01:29:16.544358Z",
     "iopub.status.busy": "2021-03-15T01:29:16.543849Z",
     "iopub.status.idle": "2021-03-15T01:29:16.546962Z",
     "shell.execute_reply": "2021-03-15T01:29:16.547325Z"
    }
   },
   "outputs": [],
   "source": [
    "zipped = dict(zip(counties, doses))"
   ]
  },
  {
   "cell_type": "code",
   "execution_count": 9,
   "metadata": {
    "execution": {
     "iopub.execute_input": "2021-03-15T01:29:16.552625Z",
     "iopub.status.busy": "2021-03-15T01:29:16.552162Z",
     "iopub.status.idle": "2021-03-15T01:29:16.555707Z",
     "shell.execute_reply": "2021-03-15T01:29:16.556210Z"
    }
   },
   "outputs": [],
   "source": [
    "df = pd.Series(zipped).reset_index()"
   ]
  },
  {
   "cell_type": "code",
   "execution_count": 10,
   "metadata": {
    "execution": {
     "iopub.execute_input": "2021-03-15T01:29:16.559498Z",
     "iopub.status.busy": "2021-03-15T01:29:16.559043Z",
     "iopub.status.idle": "2021-03-15T01:29:16.562468Z",
     "shell.execute_reply": "2021-03-15T01:29:16.561750Z"
    }
   },
   "outputs": [],
   "source": [
    "df.columns = ['location','doses']"
   ]
  },
  {
   "cell_type": "markdown",
   "metadata": {},
   "source": [
    "Grab the overall California total"
   ]
  },
  {
   "cell_type": "code",
   "execution_count": 11,
   "metadata": {
    "execution": {
     "iopub.execute_input": "2021-03-15T01:29:16.565692Z",
     "iopub.status.busy": "2021-03-15T01:29:16.565213Z",
     "iopub.status.idle": "2021-03-15T01:29:16.568141Z",
     "shell.execute_reply": "2021-03-15T01:29:16.568513Z"
    }
   },
   "outputs": [],
   "source": [
    "add = {'location':'California','doses':dataJson[0]['dataValues'][2]}"
   ]
  },
  {
   "cell_type": "code",
   "execution_count": 12,
   "metadata": {
    "execution": {
     "iopub.execute_input": "2021-03-15T01:29:16.574252Z",
     "iopub.status.busy": "2021-03-15T01:29:16.573781Z",
     "iopub.status.idle": "2021-03-15T01:29:16.577385Z",
     "shell.execute_reply": "2021-03-15T01:29:16.576956Z"
    }
   },
   "outputs": [],
   "source": [
    "df = df.append(add, ignore_index=True)"
   ]
  },
  {
   "cell_type": "code",
   "execution_count": 13,
   "metadata": {
    "execution": {
     "iopub.execute_input": "2021-03-15T01:29:16.581512Z",
     "iopub.status.busy": "2021-03-15T01:29:16.580635Z",
     "iopub.status.idle": "2021-03-15T01:29:16.582170Z",
     "shell.execute_reply": "2021-03-15T01:29:16.582637Z"
    }
   },
   "outputs": [],
   "source": [
    "df = df.sort_values(by='location')"
   ]
  },
  {
   "cell_type": "code",
   "execution_count": 14,
   "metadata": {
    "execution": {
     "iopub.execute_input": "2021-03-15T01:29:16.588255Z",
     "iopub.status.busy": "2021-03-15T01:29:16.587357Z",
     "iopub.status.idle": "2021-03-15T01:29:16.588921Z",
     "shell.execute_reply": "2021-03-15T01:29:16.589394Z"
    }
   },
   "outputs": [],
   "source": [
    "df = df[df.location == 'California'].append(df[df.location != 'California']).reset_index(drop=True)"
   ]
  },
  {
   "cell_type": "code",
   "execution_count": null,
   "metadata": {},
   "outputs": [],
   "source": []
  },
  {
   "cell_type": "code",
   "execution_count": 15,
   "metadata": {
    "execution": {
     "iopub.execute_input": "2021-03-15T01:29:16.592375Z",
     "iopub.status.busy": "2021-03-15T01:29:16.591902Z",
     "iopub.status.idle": "2021-03-15T01:29:16.608356Z",
     "shell.execute_reply": "2021-03-15T01:29:16.607863Z"
    }
   },
   "outputs": [],
   "source": [
    "tz = pytz.timezone(\"America/New_York\")"
   ]
  },
  {
   "cell_type": "code",
   "execution_count": 16,
   "metadata": {
    "execution": {
     "iopub.execute_input": "2021-03-15T01:29:16.612100Z",
     "iopub.status.busy": "2021-03-15T01:29:16.610971Z",
     "iopub.status.idle": "2021-03-15T01:29:16.612693Z",
     "shell.execute_reply": "2021-03-15T01:29:16.613123Z"
    }
   },
   "outputs": [],
   "source": [
    "today = datetime.now(tz).date()"
   ]
  },
  {
   "cell_type": "code",
   "execution_count": 17,
   "metadata": {
    "execution": {
     "iopub.execute_input": "2021-03-15T01:29:16.617186Z",
     "iopub.status.busy": "2021-03-15T01:29:16.615869Z",
     "iopub.status.idle": "2021-03-15T01:29:16.618619Z",
     "shell.execute_reply": "2021-03-15T01:29:16.618188Z"
    }
   },
   "outputs": [],
   "source": [
    "data_dir = os.path.join(os.path.abspath(\"\"), \"data\")"
   ]
  },
  {
   "cell_type": "code",
   "execution_count": 18,
   "metadata": {
    "execution": {
     "iopub.execute_input": "2021-03-15T01:29:16.622384Z",
     "iopub.status.busy": "2021-03-15T01:29:16.621360Z",
     "iopub.status.idle": "2021-03-15T01:29:16.625617Z",
     "shell.execute_reply": "2021-03-15T01:29:16.625142Z"
    }
   },
   "outputs": [],
   "source": [
    "df.to_csv(os.path.join(data_dir, f\"{today}.csv\"), index=False)"
   ]
  },
  {
   "cell_type": "code",
   "execution_count": null,
   "metadata": {},
   "outputs": [],
   "source": []
  }
 ],
 "metadata": {
  "kernelspec": {
   "display_name": "Python 3",
   "language": "python",
   "name": "python3"
  },
  "language_info": {
   "codemirror_mode": {
    "name": "ipython",
    "version": 3
   },
   "file_extension": ".py",
   "mimetype": "text/x-python",
   "name": "python",
   "nbconvert_exporter": "python",
   "pygments_lexer": "ipython3",
   "version": "3.8.8"
  }
 },
 "nbformat": 4,
 "nbformat_minor": 4
}
