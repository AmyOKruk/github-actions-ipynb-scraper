{
 "cells": [
  {
   "cell_type": "markdown",
   "metadata": {},
   "source": [
    "# California COVID vaccinations scrape"
   ]
  },
  {
   "cell_type": "markdown",
   "metadata": {},
   "source": [
    "By [Amy O'Kruk](https://twitter.com/amyokruk)"
   ]
  },
  {
   "cell_type": "markdown",
   "metadata": {},
   "source": [
    "Downloads data on vaccine doses administered by county and statewide from a Tableau-powered dashboard from the California Department of Public Health."
   ]
  },
  {
   "cell_type": "code",
   "execution_count": 1,
   "metadata": {
    "execution": {
     "iopub.execute_input": "2021-03-14T22:46:09.353168Z",
     "iopub.status.busy": "2021-03-14T22:46:09.352134Z",
     "iopub.status.idle": "2021-03-14T22:46:09.742093Z",
     "shell.execute_reply": "2021-03-14T22:46:09.742760Z"
    }
   },
   "outputs": [],
   "source": [
    "import pandas as pd\n",
    "import requests\n",
    "from bs4 import BeautifulSoup\n",
    "import json\n",
    "import re\n",
    "import time\n",
    "from time import gmtime, strftime \n",
    "import os\n",
    "import pytz\n",
    "from datetime import datetime"
   ]
  },
  {
   "cell_type": "markdown",
   "metadata": {},
   "source": [
    "Scrape the dashboard page"
   ]
  },
  {
   "cell_type": "code",
   "execution_count": 2,
   "metadata": {
    "execution": {
     "iopub.execute_input": "2021-03-14T22:46:09.749151Z",
     "iopub.status.busy": "2021-03-14T22:46:09.746561Z",
     "iopub.status.idle": "2021-03-14T22:46:09.998879Z",
     "shell.execute_reply": "2021-03-14T22:46:09.998064Z"
    }
   },
   "outputs": [],
   "source": [
    "url = \"https://public.tableau.com/interactive/views/COVID-19VaccineDashboardPublic/Vaccine?:embed=y&:showVizHome=n&:apiID=host0\"\n",
    "\n",
    "r = requests.get(url)\n",
    "soup = BeautifulSoup(r.text, \"html.parser\")"
   ]
  },
  {
   "cell_type": "code",
   "execution_count": 3,
   "metadata": {
    "execution": {
     "iopub.execute_input": "2021-03-14T22:46:10.005181Z",
     "iopub.status.busy": "2021-03-14T22:46:10.003903Z",
     "iopub.status.idle": "2021-03-14T22:46:10.005769Z",
     "shell.execute_reply": "2021-03-14T22:46:10.006197Z"
    }
   },
   "outputs": [],
   "source": [
    "tableauData = json.loads(soup.find(\"textarea\",{\"id\": \"tsConfigContainer\"}).text)"
   ]
  },
  {
   "cell_type": "markdown",
   "metadata": {},
   "source": [
    "Get the link to the Tableau data"
   ]
  },
  {
   "cell_type": "code",
   "execution_count": 4,
   "metadata": {
    "execution": {
     "iopub.execute_input": "2021-03-14T22:46:10.010425Z",
     "iopub.status.busy": "2021-03-14T22:46:10.009184Z",
     "iopub.status.idle": "2021-03-14T22:46:10.011033Z",
     "shell.execute_reply": "2021-03-14T22:46:10.011457Z"
    }
   },
   "outputs": [],
   "source": [
    "dataUrl = f'https://public.tableau.com{tableauData[\"vizql_root\"]}/bootstrapSession/sessions/{tableauData[\"sessionid\"]}'"
   ]
  },
  {
   "cell_type": "code",
   "execution_count": 5,
   "metadata": {
    "execution": {
     "iopub.execute_input": "2021-03-14T22:46:10.017815Z",
     "iopub.status.busy": "2021-03-14T22:46:10.017278Z",
     "iopub.status.idle": "2021-03-14T22:46:10.206089Z",
     "shell.execute_reply": "2021-03-14T22:46:10.205234Z"
    }
   },
   "outputs": [],
   "source": [
    "r = requests.post(dataUrl, data= {\n",
    "    \"sheet_id\": tableauData[\"sheetId\"],\n",
    "})\n",
    "\n",
    "dataReg = re.search('\\d+;({.*})\\d+;({.*})', r.text, re.MULTILINE)\n",
    "data1 = json.loads(dataReg.group(2))\n",
    "\n",
    "dataJson = data1[\"secondaryInfo\"][\"presModelMap\"][\"dataDictionary\"][\"presModelHolder\"][\"genDataDictionaryPresModel\"][\"dataSegments\"][\"0\"][\"dataColumns\"]"
   ]
  },
  {
   "cell_type": "markdown",
   "metadata": {},
   "source": [
    "Isolate what you want"
   ]
  },
  {
   "cell_type": "code",
   "execution_count": 6,
   "metadata": {
    "execution": {
     "iopub.execute_input": "2021-03-14T22:46:10.210519Z",
     "iopub.status.busy": "2021-03-14T22:46:10.209476Z",
     "iopub.status.idle": "2021-03-14T22:46:10.211108Z",
     "shell.execute_reply": "2021-03-14T22:46:10.211504Z"
    }
   },
   "outputs": [],
   "source": [
    "counties = dataJson[2]['dataValues'][:58]"
   ]
  },
  {
   "cell_type": "code",
   "execution_count": 7,
   "metadata": {
    "execution": {
     "iopub.execute_input": "2021-03-14T22:46:10.215441Z",
     "iopub.status.busy": "2021-03-14T22:46:10.214327Z",
     "iopub.status.idle": "2021-03-14T22:46:10.216095Z",
     "shell.execute_reply": "2021-03-14T22:46:10.216519Z"
    }
   },
   "outputs": [],
   "source": [
    "doses = dataJson[0]['dataValues'][3:61]"
   ]
  },
  {
   "cell_type": "markdown",
   "metadata": {},
   "source": [
    "Data formatting"
   ]
  },
  {
   "cell_type": "code",
   "execution_count": 8,
   "metadata": {
    "execution": {
     "iopub.execute_input": "2021-03-14T22:46:10.220280Z",
     "iopub.status.busy": "2021-03-14T22:46:10.219130Z",
     "iopub.status.idle": "2021-03-14T22:46:10.220876Z",
     "shell.execute_reply": "2021-03-14T22:46:10.221285Z"
    }
   },
   "outputs": [],
   "source": [
    "zipped = dict(zip(counties, doses))"
   ]
  },
  {
   "cell_type": "code",
   "execution_count": 9,
   "metadata": {
    "execution": {
     "iopub.execute_input": "2021-03-14T22:46:10.227611Z",
     "iopub.status.busy": "2021-03-14T22:46:10.226474Z",
     "iopub.status.idle": "2021-03-14T22:46:10.228125Z",
     "shell.execute_reply": "2021-03-14T22:46:10.228506Z"
    }
   },
   "outputs": [],
   "source": [
    "df = pd.Series(zipped).reset_index()"
   ]
  },
  {
   "cell_type": "code",
   "execution_count": 10,
   "metadata": {
    "execution": {
     "iopub.execute_input": "2021-03-14T22:46:10.232237Z",
     "iopub.status.busy": "2021-03-14T22:46:10.231229Z",
     "iopub.status.idle": "2021-03-14T22:46:10.232810Z",
     "shell.execute_reply": "2021-03-14T22:46:10.233206Z"
    }
   },
   "outputs": [],
   "source": [
    "df.columns = ['location','doses']"
   ]
  },
  {
   "cell_type": "markdown",
   "metadata": {},
   "source": [
    "Grab the overall California total"
   ]
  },
  {
   "cell_type": "code",
   "execution_count": 11,
   "metadata": {
    "execution": {
     "iopub.execute_input": "2021-03-14T22:46:10.236993Z",
     "iopub.status.busy": "2021-03-14T22:46:10.235978Z",
     "iopub.status.idle": "2021-03-14T22:46:10.237692Z",
     "shell.execute_reply": "2021-03-14T22:46:10.238121Z"
    }
   },
   "outputs": [],
   "source": [
    "add = {'location':'California','doses':dataJson[0]['dataValues'][2]}"
   ]
  },
  {
   "cell_type": "code",
   "execution_count": 12,
   "metadata": {
    "execution": {
     "iopub.execute_input": "2021-03-14T22:46:10.244301Z",
     "iopub.status.busy": "2021-03-14T22:46:10.243743Z",
     "iopub.status.idle": "2021-03-14T22:46:10.246312Z",
     "shell.execute_reply": "2021-03-14T22:46:10.245861Z"
    }
   },
   "outputs": [],
   "source": [
    "df = df.append(add, ignore_index=True)"
   ]
  },
  {
   "cell_type": "code",
   "execution_count": 13,
   "metadata": {
    "execution": {
     "iopub.execute_input": "2021-03-14T22:46:10.250934Z",
     "iopub.status.busy": "2021-03-14T22:46:10.249858Z",
     "iopub.status.idle": "2021-03-14T22:46:10.251583Z",
     "shell.execute_reply": "2021-03-14T22:46:10.251957Z"
    }
   },
   "outputs": [],
   "source": [
    "df = df.sort_values(by='location')"
   ]
  },
  {
   "cell_type": "code",
   "execution_count": 14,
   "metadata": {
    "execution": {
     "iopub.execute_input": "2021-03-14T22:46:10.258274Z",
     "iopub.status.busy": "2021-03-14T22:46:10.257253Z",
     "iopub.status.idle": "2021-03-14T22:46:10.258843Z",
     "shell.execute_reply": "2021-03-14T22:46:10.259240Z"
    }
   },
   "outputs": [],
   "source": [
    "df = df[df.location == 'California'].append(df[df.location != 'California']).reset_index(drop=True)"
   ]
  },
  {
   "cell_type": "code",
   "execution_count": null,
   "metadata": {},
   "outputs": [],
   "source": []
  },
  {
   "cell_type": "code",
   "execution_count": 15,
   "metadata": {
    "execution": {
     "iopub.execute_input": "2021-03-14T22:46:10.262410Z",
     "iopub.status.busy": "2021-03-14T22:46:10.261979Z",
     "iopub.status.idle": "2021-03-14T22:46:10.278909Z",
     "shell.execute_reply": "2021-03-14T22:46:10.278479Z"
    }
   },
   "outputs": [],
   "source": [
    "tz = pytz.timezone(\"America/New_York\")"
   ]
  },
  {
   "cell_type": "code",
   "execution_count": 16,
   "metadata": {
    "execution": {
     "iopub.execute_input": "2021-03-14T22:46:10.282581Z",
     "iopub.status.busy": "2021-03-14T22:46:10.281649Z",
     "iopub.status.idle": "2021-03-14T22:46:10.283070Z",
     "shell.execute_reply": "2021-03-14T22:46:10.283419Z"
    }
   },
   "outputs": [],
   "source": [
    "today = datetime.now(tz).date()"
   ]
  },
  {
   "cell_type": "code",
   "execution_count": 17,
   "metadata": {
    "execution": {
     "iopub.execute_input": "2021-03-14T22:46:10.287572Z",
     "iopub.status.busy": "2021-03-14T22:46:10.286444Z",
     "iopub.status.idle": "2021-03-14T22:46:10.288172Z",
     "shell.execute_reply": "2021-03-14T22:46:10.288625Z"
    }
   },
   "outputs": [],
   "source": [
    "data_dir = os.path.join(os.path.abspath(\"\"), \"data\")"
   ]
  },
  {
   "cell_type": "code",
   "execution_count": 18,
   "metadata": {
    "execution": {
     "iopub.execute_input": "2021-03-14T22:46:10.292757Z",
     "iopub.status.busy": "2021-03-14T22:46:10.291673Z",
     "iopub.status.idle": "2021-03-14T22:46:10.295857Z",
     "shell.execute_reply": "2021-03-14T22:46:10.295397Z"
    }
   },
   "outputs": [],
   "source": [
    "df.to_csv(os.path.join(data_dir, f\"{today}.csv\"), index=False)"
   ]
  },
  {
   "cell_type": "code",
   "execution_count": null,
   "metadata": {},
   "outputs": [],
   "source": []
  }
 ],
 "metadata": {
  "kernelspec": {
   "display_name": "Python 3",
   "language": "python",
   "name": "python3"
  },
  "language_info": {
   "codemirror_mode": {
    "name": "ipython",
    "version": 3
   },
   "file_extension": ".py",
   "mimetype": "text/x-python",
   "name": "python",
   "nbconvert_exporter": "python",
   "pygments_lexer": "ipython3",
   "version": "3.8.8"
  }
 },
 "nbformat": 4,
 "nbformat_minor": 4
}
