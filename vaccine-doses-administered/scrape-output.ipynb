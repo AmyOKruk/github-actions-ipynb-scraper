{
 "cells": [
  {
   "cell_type": "markdown",
   "metadata": {},
   "source": [
    "# California COVID vaccinations scrape"
   ]
  },
  {
   "cell_type": "markdown",
   "metadata": {},
   "source": [
    "By [Amy O'Kruk](https://twitter.com/amyokruk)"
   ]
  },
  {
   "cell_type": "markdown",
   "metadata": {},
   "source": [
    "Downloads data on vaccine doses administered by county and statewide from a Tableau-powered dashboard from the California Department of Public Health."
   ]
  },
  {
   "cell_type": "code",
   "execution_count": 1,
   "metadata": {
    "execution": {
     "iopub.execute_input": "2021-03-22T04:20:38.806385Z",
     "iopub.status.busy": "2021-03-22T04:20:38.805749Z",
     "iopub.status.idle": "2021-03-22T04:20:39.235237Z",
     "shell.execute_reply": "2021-03-22T04:20:39.234132Z"
    }
   },
   "outputs": [],
   "source": [
    "import pandas as pd\n",
    "import requests\n",
    "from bs4 import BeautifulSoup\n",
    "import json\n",
    "import re\n",
    "import time\n",
    "from time import gmtime, strftime \n",
    "import os\n",
    "import pytz\n",
    "from datetime import datetime"
   ]
  },
  {
   "cell_type": "markdown",
   "metadata": {},
   "source": [
    "Scrape the dashboard page"
   ]
  },
  {
   "cell_type": "code",
   "execution_count": 2,
   "metadata": {
    "execution": {
     "iopub.execute_input": "2021-03-22T04:20:39.241771Z",
     "iopub.status.busy": "2021-03-22T04:20:39.240027Z",
     "iopub.status.idle": "2021-03-22T04:20:39.980550Z",
     "shell.execute_reply": "2021-03-22T04:20:39.979894Z"
    }
   },
   "outputs": [],
   "source": [
    "url = \"https://public.tableau.com/interactive/views/COVID-19VaccineDashboardPublic/Vaccine?:embed=y&:showVizHome=n&:apiID=host0\"\n",
    "\n",
    "r = requests.get(url)\n",
    "soup = BeautifulSoup(r.text, \"html.parser\")"
   ]
  },
  {
   "cell_type": "code",
   "execution_count": 3,
   "metadata": {
    "execution": {
     "iopub.execute_input": "2021-03-22T04:20:39.985463Z",
     "iopub.status.busy": "2021-03-22T04:20:39.984945Z",
     "iopub.status.idle": "2021-03-22T04:20:39.988857Z",
     "shell.execute_reply": "2021-03-22T04:20:39.988329Z"
    }
   },
   "outputs": [],
   "source": [
    "tableauData = json.loads(soup.find(\"textarea\",{\"id\": \"tsConfigContainer\"}).text)"
   ]
  },
  {
   "cell_type": "markdown",
   "metadata": {},
   "source": [
    "Get the link to the Tableau data"
   ]
  },
  {
   "cell_type": "code",
   "execution_count": 4,
   "metadata": {
    "execution": {
     "iopub.execute_input": "2021-03-22T04:20:39.993533Z",
     "iopub.status.busy": "2021-03-22T04:20:39.992628Z",
     "iopub.status.idle": "2021-03-22T04:20:39.994670Z",
     "shell.execute_reply": "2021-03-22T04:20:39.995127Z"
    }
   },
   "outputs": [],
   "source": [
    "dataUrl = f'https://public.tableau.com{tableauData[\"vizql_root\"]}/bootstrapSession/sessions/{tableauData[\"sessionid\"]}'"
   ]
  },
  {
   "cell_type": "code",
   "execution_count": 5,
   "metadata": {
    "execution": {
     "iopub.execute_input": "2021-03-22T04:20:40.001804Z",
     "iopub.status.busy": "2021-03-22T04:20:40.001271Z",
     "iopub.status.idle": "2021-03-22T04:20:40.449079Z",
     "shell.execute_reply": "2021-03-22T04:20:40.448250Z"
    }
   },
   "outputs": [],
   "source": [
    "r = requests.post(dataUrl, data= {\n",
    "    \"sheet_id\": tableauData[\"sheetId\"],\n",
    "})\n",
    "\n",
    "dataReg = re.search('\\d+;({.*})\\d+;({.*})', r.text, re.MULTILINE)\n",
    "data1 = json.loads(dataReg.group(2))\n",
    "\n",
    "dataJson = data1[\"secondaryInfo\"][\"presModelMap\"][\"dataDictionary\"][\"presModelHolder\"][\"genDataDictionaryPresModel\"][\"dataSegments\"][\"0\"][\"dataColumns\"]"
   ]
  },
  {
   "cell_type": "markdown",
   "metadata": {},
   "source": [
    "Isolate what you want"
   ]
  },
  {
   "cell_type": "code",
   "execution_count": 6,
   "metadata": {
    "execution": {
     "iopub.execute_input": "2021-03-22T04:20:40.453307Z",
     "iopub.status.busy": "2021-03-22T04:20:40.452767Z",
     "iopub.status.idle": "2021-03-22T04:20:40.456364Z",
     "shell.execute_reply": "2021-03-22T04:20:40.455928Z"
    }
   },
   "outputs": [],
   "source": [
    "counties = dataJson[2]['dataValues'][:58]"
   ]
  },
  {
   "cell_type": "code",
   "execution_count": 7,
   "metadata": {
    "execution": {
     "iopub.execute_input": "2021-03-22T04:20:40.460814Z",
     "iopub.status.busy": "2021-03-22T04:20:40.459705Z",
     "iopub.status.idle": "2021-03-22T04:20:40.461406Z",
     "shell.execute_reply": "2021-03-22T04:20:40.461832Z"
    }
   },
   "outputs": [],
   "source": [
    "doses = dataJson[0]['dataValues'][3:61]"
   ]
  },
  {
   "cell_type": "markdown",
   "metadata": {},
   "source": [
    "Data formatting"
   ]
  },
  {
   "cell_type": "code",
   "execution_count": 8,
   "metadata": {
    "execution": {
     "iopub.execute_input": "2021-03-22T04:20:40.466511Z",
     "iopub.status.busy": "2021-03-22T04:20:40.465307Z",
     "iopub.status.idle": "2021-03-22T04:20:40.467175Z",
     "shell.execute_reply": "2021-03-22T04:20:40.467631Z"
    }
   },
   "outputs": [],
   "source": [
    "zipped = dict(zip(counties, doses))"
   ]
  },
  {
   "cell_type": "code",
   "execution_count": 9,
   "metadata": {
    "execution": {
     "iopub.execute_input": "2021-03-22T04:20:40.474489Z",
     "iopub.status.busy": "2021-03-22T04:20:40.473196Z",
     "iopub.status.idle": "2021-03-22T04:20:40.475101Z",
     "shell.execute_reply": "2021-03-22T04:20:40.475551Z"
    }
   },
   "outputs": [],
   "source": [
    "df = pd.Series(zipped).reset_index()"
   ]
  },
  {
   "cell_type": "code",
   "execution_count": 10,
   "metadata": {
    "execution": {
     "iopub.execute_input": "2021-03-22T04:20:40.480260Z",
     "iopub.status.busy": "2021-03-22T04:20:40.479128Z",
     "iopub.status.idle": "2021-03-22T04:20:40.481070Z",
     "shell.execute_reply": "2021-03-22T04:20:40.481518Z"
    }
   },
   "outputs": [],
   "source": [
    "df.columns = ['location','doses']"
   ]
  },
  {
   "cell_type": "markdown",
   "metadata": {},
   "source": [
    "Grab the overall California total"
   ]
  },
  {
   "cell_type": "code",
   "execution_count": 11,
   "metadata": {
    "execution": {
     "iopub.execute_input": "2021-03-22T04:20:40.486298Z",
     "iopub.status.busy": "2021-03-22T04:20:40.485094Z",
     "iopub.status.idle": "2021-03-22T04:20:40.486902Z",
     "shell.execute_reply": "2021-03-22T04:20:40.487333Z"
    }
   },
   "outputs": [],
   "source": [
    "add = {'location':'California','doses':dataJson[0]['dataValues'][2]}"
   ]
  },
  {
   "cell_type": "code",
   "execution_count": 12,
   "metadata": {
    "execution": {
     "iopub.execute_input": "2021-03-22T04:20:40.496607Z",
     "iopub.status.busy": "2021-03-22T04:20:40.495299Z",
     "iopub.status.idle": "2021-03-22T04:20:40.497202Z",
     "shell.execute_reply": "2021-03-22T04:20:40.497630Z"
    }
   },
   "outputs": [],
   "source": [
    "df = df.append(add, ignore_index=True)"
   ]
  },
  {
   "cell_type": "code",
   "execution_count": 13,
   "metadata": {
    "execution": {
     "iopub.execute_input": "2021-03-22T04:20:40.502830Z",
     "iopub.status.busy": "2021-03-22T04:20:40.501631Z",
     "iopub.status.idle": "2021-03-22T04:20:40.503438Z",
     "shell.execute_reply": "2021-03-22T04:20:40.503893Z"
    }
   },
   "outputs": [],
   "source": [
    "df = df.sort_values(by='location')"
   ]
  },
  {
   "cell_type": "code",
   "execution_count": 14,
   "metadata": {
    "execution": {
     "iopub.execute_input": "2021-03-22T04:20:40.516465Z",
     "iopub.status.busy": "2021-03-22T04:20:40.515783Z",
     "iopub.status.idle": "2021-03-22T04:20:40.517549Z",
     "shell.execute_reply": "2021-03-22T04:20:40.517953Z"
    }
   },
   "outputs": [],
   "source": [
    "df = df[df.location == 'California'].append(df[df.location != 'California']).reset_index(drop=True)"
   ]
  },
  {
   "cell_type": "code",
   "execution_count": null,
   "metadata": {},
   "outputs": [],
   "source": []
  },
  {
   "cell_type": "code",
   "execution_count": 15,
   "metadata": {
    "execution": {
     "iopub.execute_input": "2021-03-22T04:20:40.521661Z",
     "iopub.status.busy": "2021-03-22T04:20:40.521039Z",
     "iopub.status.idle": "2021-03-22T04:20:40.538405Z",
     "shell.execute_reply": "2021-03-22T04:20:40.537951Z"
    }
   },
   "outputs": [],
   "source": [
    "tz = pytz.timezone(\"America/New_York\")"
   ]
  },
  {
   "cell_type": "code",
   "execution_count": 16,
   "metadata": {
    "execution": {
     "iopub.execute_input": "2021-03-22T04:20:40.544243Z",
     "iopub.status.busy": "2021-03-22T04:20:40.543010Z",
     "iopub.status.idle": "2021-03-22T04:20:40.544836Z",
     "shell.execute_reply": "2021-03-22T04:20:40.545270Z"
    }
   },
   "outputs": [],
   "source": [
    "today = datetime.now(tz).date()"
   ]
  },
  {
   "cell_type": "code",
   "execution_count": 17,
   "metadata": {
    "execution": {
     "iopub.execute_input": "2021-03-22T04:20:40.549649Z",
     "iopub.status.busy": "2021-03-22T04:20:40.548530Z",
     "iopub.status.idle": "2021-03-22T04:20:40.550240Z",
     "shell.execute_reply": "2021-03-22T04:20:40.550684Z"
    }
   },
   "outputs": [],
   "source": [
    "data_dir = os.path.join(os.path.abspath(\"\"), \"data\")"
   ]
  },
  {
   "cell_type": "code",
   "execution_count": 18,
   "metadata": {
    "execution": {
     "iopub.execute_input": "2021-03-22T04:20:40.556546Z",
     "iopub.status.busy": "2021-03-22T04:20:40.555534Z",
     "iopub.status.idle": "2021-03-22T04:20:40.558807Z",
     "shell.execute_reply": "2021-03-22T04:20:40.558367Z"
    }
   },
   "outputs": [],
   "source": [
    "df.to_csv(os.path.join(data_dir, f\"{today}.csv\"), index=False)"
   ]
  },
  {
   "cell_type": "code",
   "execution_count": null,
   "metadata": {},
   "outputs": [],
   "source": []
  }
 ],
 "metadata": {
  "kernelspec": {
   "display_name": "Python 3",
   "language": "python",
   "name": "python3"
  },
  "language_info": {
   "codemirror_mode": {
    "name": "ipython",
    "version": 3
   },
   "file_extension": ".py",
   "mimetype": "text/x-python",
   "name": "python",
   "nbconvert_exporter": "python",
   "pygments_lexer": "ipython3",
   "version": "3.8.8"
  }
 },
 "nbformat": 4,
 "nbformat_minor": 4
}
