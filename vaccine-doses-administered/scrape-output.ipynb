{
 "cells": [
  {
   "cell_type": "markdown",
   "metadata": {},
   "source": [
    "# California COVID vaccinations scrape"
   ]
  },
  {
   "cell_type": "markdown",
   "metadata": {},
   "source": [
    "By [Amy O'Kruk](https://twitter.com/amyokruk)"
   ]
  },
  {
   "cell_type": "markdown",
   "metadata": {},
   "source": [
    "Downloads data on vaccine doses administered by county and statewide from a Tableau-powered dashboard from the California Department of Public Health."
   ]
  },
  {
   "cell_type": "code",
   "execution_count": 1,
   "metadata": {
    "execution": {
     "iopub.execute_input": "2021-03-12T20:13:43.974378Z",
     "iopub.status.busy": "2021-03-12T20:13:43.973695Z",
     "iopub.status.idle": "2021-03-12T20:13:44.336396Z",
     "shell.execute_reply": "2021-03-12T20:13:44.335620Z"
    }
   },
   "outputs": [],
   "source": [
    "import pandas as pd\n",
    "import requests\n",
    "from bs4 import BeautifulSoup\n",
    "import json\n",
    "import re\n",
    "import time\n",
    "from time import gmtime, strftime \n",
    "import os\n",
    "import pytz\n",
    "from datetime import datetime"
   ]
  },
  {
   "cell_type": "markdown",
   "metadata": {},
   "source": [
    "Scrape the dashboard page"
   ]
  },
  {
   "cell_type": "code",
   "execution_count": 2,
   "metadata": {
    "execution": {
     "iopub.execute_input": "2021-03-12T20:13:44.342435Z",
     "iopub.status.busy": "2021-03-12T20:13:44.341813Z",
     "iopub.status.idle": "2021-03-12T20:13:44.585890Z",
     "shell.execute_reply": "2021-03-12T20:13:44.585441Z"
    }
   },
   "outputs": [],
   "source": [
    "url = \"https://public.tableau.com/interactive/views/COVID-19VaccineDashboardPublic/Vaccine?:embed=y&:showVizHome=n&:apiID=host0\"\n",
    "\n",
    "r = requests.get(url)\n",
    "soup = BeautifulSoup(r.text, \"html.parser\")"
   ]
  },
  {
   "cell_type": "code",
   "execution_count": 3,
   "metadata": {
    "execution": {
     "iopub.execute_input": "2021-03-12T20:13:44.590603Z",
     "iopub.status.busy": "2021-03-12T20:13:44.590035Z",
     "iopub.status.idle": "2021-03-12T20:13:44.593252Z",
     "shell.execute_reply": "2021-03-12T20:13:44.593615Z"
    }
   },
   "outputs": [],
   "source": [
    "tableauData = json.loads(soup.find(\"textarea\",{\"id\": \"tsConfigContainer\"}).text)"
   ]
  },
  {
   "cell_type": "markdown",
   "metadata": {},
   "source": [
    "Get the link to the Tableau data"
   ]
  },
  {
   "cell_type": "code",
   "execution_count": 4,
   "metadata": {
    "execution": {
     "iopub.execute_input": "2021-03-12T20:13:44.596901Z",
     "iopub.status.busy": "2021-03-12T20:13:44.596441Z",
     "iopub.status.idle": "2021-03-12T20:13:44.599436Z",
     "shell.execute_reply": "2021-03-12T20:13:44.599800Z"
    }
   },
   "outputs": [],
   "source": [
    "dataUrl = f'https://public.tableau.com{tableauData[\"vizql_root\"]}/bootstrapSession/sessions/{tableauData[\"sessionid\"]}'"
   ]
  },
  {
   "cell_type": "code",
   "execution_count": 5,
   "metadata": {
    "execution": {
     "iopub.execute_input": "2021-03-12T20:13:44.605531Z",
     "iopub.status.busy": "2021-03-12T20:13:44.604605Z",
     "iopub.status.idle": "2021-03-12T20:13:44.730098Z",
     "shell.execute_reply": "2021-03-12T20:13:44.729513Z"
    }
   },
   "outputs": [],
   "source": [
    "r = requests.post(dataUrl, data= {\n",
    "    \"sheet_id\": tableauData[\"sheetId\"],\n",
    "})\n",
    "\n",
    "dataReg = re.search('\\d+;({.*})\\d+;({.*})', r.text, re.MULTILINE)\n",
    "data1 = json.loads(dataReg.group(2))\n",
    "\n",
    "dataJson = data1[\"secondaryInfo\"][\"presModelMap\"][\"dataDictionary\"][\"presModelHolder\"][\"genDataDictionaryPresModel\"][\"dataSegments\"][\"0\"][\"dataColumns\"]"
   ]
  },
  {
   "cell_type": "markdown",
   "metadata": {},
   "source": [
    "Isolate what you want"
   ]
  },
  {
   "cell_type": "code",
   "execution_count": 6,
   "metadata": {
    "execution": {
     "iopub.execute_input": "2021-03-12T20:13:44.733268Z",
     "iopub.status.busy": "2021-03-12T20:13:44.732797Z",
     "iopub.status.idle": "2021-03-12T20:13:44.736051Z",
     "shell.execute_reply": "2021-03-12T20:13:44.736452Z"
    }
   },
   "outputs": [],
   "source": [
    "counties = dataJson[2]['dataValues'][:58]"
   ]
  },
  {
   "cell_type": "code",
   "execution_count": 7,
   "metadata": {
    "execution": {
     "iopub.execute_input": "2021-03-12T20:13:44.740052Z",
     "iopub.status.busy": "2021-03-12T20:13:44.739311Z",
     "iopub.status.idle": "2021-03-12T20:13:44.742492Z",
     "shell.execute_reply": "2021-03-12T20:13:44.742905Z"
    }
   },
   "outputs": [],
   "source": [
    "doses = dataJson[0]['dataValues'][3:61]"
   ]
  },
  {
   "cell_type": "markdown",
   "metadata": {},
   "source": [
    "Data formatting"
   ]
  },
  {
   "cell_type": "code",
   "execution_count": 8,
   "metadata": {
    "execution": {
     "iopub.execute_input": "2021-03-12T20:13:44.746320Z",
     "iopub.status.busy": "2021-03-12T20:13:44.745847Z",
     "iopub.status.idle": "2021-03-12T20:13:44.749135Z",
     "shell.execute_reply": "2021-03-12T20:13:44.748699Z"
    }
   },
   "outputs": [],
   "source": [
    "zipped = dict(zip(counties, doses))"
   ]
  },
  {
   "cell_type": "code",
   "execution_count": 9,
   "metadata": {
    "execution": {
     "iopub.execute_input": "2021-03-12T20:13:44.754390Z",
     "iopub.status.busy": "2021-03-12T20:13:44.753898Z",
     "iopub.status.idle": "2021-03-12T20:13:44.757075Z",
     "shell.execute_reply": "2021-03-12T20:13:44.757452Z"
    }
   },
   "outputs": [],
   "source": [
    "df = pd.Series(zipped).reset_index()"
   ]
  },
  {
   "cell_type": "code",
   "execution_count": 10,
   "metadata": {
    "execution": {
     "iopub.execute_input": "2021-03-12T20:13:44.760810Z",
     "iopub.status.busy": "2021-03-12T20:13:44.760340Z",
     "iopub.status.idle": "2021-03-12T20:13:44.763474Z",
     "shell.execute_reply": "2021-03-12T20:13:44.763847Z"
    }
   },
   "outputs": [],
   "source": [
    "df.columns = ['location','doses']"
   ]
  },
  {
   "cell_type": "markdown",
   "metadata": {},
   "source": [
    "Grab the overall California total"
   ]
  },
  {
   "cell_type": "code",
   "execution_count": 11,
   "metadata": {
    "execution": {
     "iopub.execute_input": "2021-03-12T20:13:44.767535Z",
     "iopub.status.busy": "2021-03-12T20:13:44.766985Z",
     "iopub.status.idle": "2021-03-12T20:13:44.770561Z",
     "shell.execute_reply": "2021-03-12T20:13:44.770139Z"
    }
   },
   "outputs": [],
   "source": [
    "add = {'location':'California','doses':dataJson[0]['dataValues'][2]}"
   ]
  },
  {
   "cell_type": "code",
   "execution_count": 12,
   "metadata": {
    "execution": {
     "iopub.execute_input": "2021-03-12T20:13:44.776350Z",
     "iopub.status.busy": "2021-03-12T20:13:44.775853Z",
     "iopub.status.idle": "2021-03-12T20:13:44.778949Z",
     "shell.execute_reply": "2021-03-12T20:13:44.779354Z"
    }
   },
   "outputs": [],
   "source": [
    "df = df.append(add, ignore_index=True)"
   ]
  },
  {
   "cell_type": "code",
   "execution_count": 13,
   "metadata": {
    "execution": {
     "iopub.execute_input": "2021-03-12T20:13:44.783511Z",
     "iopub.status.busy": "2021-03-12T20:13:44.783012Z",
     "iopub.status.idle": "2021-03-12T20:13:44.786029Z",
     "shell.execute_reply": "2021-03-12T20:13:44.786470Z"
    }
   },
   "outputs": [],
   "source": [
    "df = df.sort_values(by='location')"
   ]
  },
  {
   "cell_type": "code",
   "execution_count": 14,
   "metadata": {
    "execution": {
     "iopub.execute_input": "2021-03-12T20:13:44.791660Z",
     "iopub.status.busy": "2021-03-12T20:13:44.791184Z",
     "iopub.status.idle": "2021-03-12T20:13:44.794573Z",
     "shell.execute_reply": "2021-03-12T20:13:44.794159Z"
    }
   },
   "outputs": [],
   "source": [
    "df = df[df.location == 'California'].append(df[df.location != 'California']).reset_index(drop=True)"
   ]
  },
  {
   "cell_type": "code",
   "execution_count": null,
   "metadata": {},
   "outputs": [],
   "source": []
  },
  {
   "cell_type": "code",
   "execution_count": 15,
   "metadata": {
    "execution": {
     "iopub.execute_input": "2021-03-12T20:13:44.798086Z",
     "iopub.status.busy": "2021-03-12T20:13:44.797436Z",
     "iopub.status.idle": "2021-03-12T20:13:44.815908Z",
     "shell.execute_reply": "2021-03-12T20:13:44.814953Z"
    }
   },
   "outputs": [],
   "source": [
    "tz = pytz.timezone(\"America/New_York\")"
   ]
  },
  {
   "cell_type": "code",
   "execution_count": 16,
   "metadata": {
    "execution": {
     "iopub.execute_input": "2021-03-12T20:13:44.819076Z",
     "iopub.status.busy": "2021-03-12T20:13:44.818607Z",
     "iopub.status.idle": "2021-03-12T20:13:44.821568Z",
     "shell.execute_reply": "2021-03-12T20:13:44.821941Z"
    }
   },
   "outputs": [],
   "source": [
    "today = datetime.now(tz).date()"
   ]
  },
  {
   "cell_type": "code",
   "execution_count": 17,
   "metadata": {
    "execution": {
     "iopub.execute_input": "2021-03-12T20:13:44.825465Z",
     "iopub.status.busy": "2021-03-12T20:13:44.824986Z",
     "iopub.status.idle": "2021-03-12T20:13:44.827931Z",
     "shell.execute_reply": "2021-03-12T20:13:44.828332Z"
    }
   },
   "outputs": [],
   "source": [
    "data_dir = os.path.join(os.path.abspath(\"\"), \"data\")"
   ]
  },
  {
   "cell_type": "code",
   "execution_count": 18,
   "metadata": {
    "execution": {
     "iopub.execute_input": "2021-03-12T20:13:44.834197Z",
     "iopub.status.busy": "2021-03-12T20:13:44.831941Z",
     "iopub.status.idle": "2021-03-12T20:13:44.836944Z",
     "shell.execute_reply": "2021-03-12T20:13:44.837313Z"
    }
   },
   "outputs": [],
   "source": [
    "df.to_csv(os.path.join(data_dir, f\"{today}.csv\"), index=False)"
   ]
  },
  {
   "cell_type": "code",
   "execution_count": null,
   "metadata": {},
   "outputs": [],
   "source": []
  }
 ],
 "metadata": {
  "kernelspec": {
   "display_name": "Python 3",
   "language": "python",
   "name": "python3"
  },
  "language_info": {
   "codemirror_mode": {
    "name": "ipython",
    "version": 3
   },
   "file_extension": ".py",
   "mimetype": "text/x-python",
   "name": "python",
   "nbconvert_exporter": "python",
   "pygments_lexer": "ipython3",
   "version": "3.8.8"
  }
 },
 "nbformat": 4,
 "nbformat_minor": 4
}
