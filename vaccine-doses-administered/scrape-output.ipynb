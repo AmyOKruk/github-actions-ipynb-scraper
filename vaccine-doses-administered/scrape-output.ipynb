{
 "cells": [
  {
   "cell_type": "markdown",
   "metadata": {},
   "source": [
    "# California COVID vaccinations scrape"
   ]
  },
  {
   "cell_type": "markdown",
   "metadata": {},
   "source": [
    "By [Amy O'Kruk](https://twitter.com/amyokruk)"
   ]
  },
  {
   "cell_type": "markdown",
   "metadata": {},
   "source": [
    "Downloads data on vaccine doses administered by county and statewide from a Tableau-powered dashboard from the California Department of Public Health."
   ]
  },
  {
   "cell_type": "code",
   "execution_count": 1,
   "metadata": {
    "execution": {
     "iopub.execute_input": "2021-03-21T10:14:27.212926Z",
     "iopub.status.busy": "2021-03-21T10:14:27.212203Z",
     "iopub.status.idle": "2021-03-21T10:14:27.615375Z",
     "shell.execute_reply": "2021-03-21T10:14:27.614749Z"
    }
   },
   "outputs": [],
   "source": [
    "import pandas as pd\n",
    "import requests\n",
    "from bs4 import BeautifulSoup\n",
    "import json\n",
    "import re\n",
    "import time\n",
    "from time import gmtime, strftime \n",
    "import os\n",
    "import pytz\n",
    "from datetime import datetime"
   ]
  },
  {
   "cell_type": "markdown",
   "metadata": {},
   "source": [
    "Scrape the dashboard page"
   ]
  },
  {
   "cell_type": "code",
   "execution_count": 2,
   "metadata": {
    "execution": {
     "iopub.execute_input": "2021-03-21T10:14:27.621257Z",
     "iopub.status.busy": "2021-03-21T10:14:27.618972Z",
     "iopub.status.idle": "2021-03-21T10:14:28.193889Z",
     "shell.execute_reply": "2021-03-21T10:14:28.193364Z"
    }
   },
   "outputs": [],
   "source": [
    "url = \"https://public.tableau.com/interactive/views/COVID-19VaccineDashboardPublic/Vaccine?:embed=y&:showVizHome=n&:apiID=host0\"\n",
    "\n",
    "r = requests.get(url)\n",
    "soup = BeautifulSoup(r.text, \"html.parser\")"
   ]
  },
  {
   "cell_type": "code",
   "execution_count": 3,
   "metadata": {
    "execution": {
     "iopub.execute_input": "2021-03-21T10:14:28.198836Z",
     "iopub.status.busy": "2021-03-21T10:14:28.198306Z",
     "iopub.status.idle": "2021-03-21T10:14:28.201778Z",
     "shell.execute_reply": "2021-03-21T10:14:28.201320Z"
    }
   },
   "outputs": [],
   "source": [
    "tableauData = json.loads(soup.find(\"textarea\",{\"id\": \"tsConfigContainer\"}).text)"
   ]
  },
  {
   "cell_type": "markdown",
   "metadata": {},
   "source": [
    "Get the link to the Tableau data"
   ]
  },
  {
   "cell_type": "code",
   "execution_count": 4,
   "metadata": {
    "execution": {
     "iopub.execute_input": "2021-03-21T10:14:28.206244Z",
     "iopub.status.busy": "2021-03-21T10:14:28.204994Z",
     "iopub.status.idle": "2021-03-21T10:14:28.206918Z",
     "shell.execute_reply": "2021-03-21T10:14:28.207345Z"
    }
   },
   "outputs": [],
   "source": [
    "dataUrl = f'https://public.tableau.com{tableauData[\"vizql_root\"]}/bootstrapSession/sessions/{tableauData[\"sessionid\"]}'"
   ]
  },
  {
   "cell_type": "code",
   "execution_count": 5,
   "metadata": {
    "execution": {
     "iopub.execute_input": "2021-03-21T10:14:28.214059Z",
     "iopub.status.busy": "2021-03-21T10:14:28.213515Z",
     "iopub.status.idle": "2021-03-21T10:14:28.817094Z",
     "shell.execute_reply": "2021-03-21T10:14:28.816599Z"
    }
   },
   "outputs": [],
   "source": [
    "r = requests.post(dataUrl, data= {\n",
    "    \"sheet_id\": tableauData[\"sheetId\"],\n",
    "})\n",
    "\n",
    "dataReg = re.search('\\d+;({.*})\\d+;({.*})', r.text, re.MULTILINE)\n",
    "data1 = json.loads(dataReg.group(2))\n",
    "\n",
    "dataJson = data1[\"secondaryInfo\"][\"presModelMap\"][\"dataDictionary\"][\"presModelHolder\"][\"genDataDictionaryPresModel\"][\"dataSegments\"][\"0\"][\"dataColumns\"]"
   ]
  },
  {
   "cell_type": "markdown",
   "metadata": {},
   "source": [
    "Isolate what you want"
   ]
  },
  {
   "cell_type": "code",
   "execution_count": 6,
   "metadata": {
    "execution": {
     "iopub.execute_input": "2021-03-21T10:14:28.822008Z",
     "iopub.status.busy": "2021-03-21T10:14:28.820724Z",
     "iopub.status.idle": "2021-03-21T10:14:28.822627Z",
     "shell.execute_reply": "2021-03-21T10:14:28.823038Z"
    }
   },
   "outputs": [],
   "source": [
    "counties = dataJson[2]['dataValues'][:58]"
   ]
  },
  {
   "cell_type": "code",
   "execution_count": 7,
   "metadata": {
    "execution": {
     "iopub.execute_input": "2021-03-21T10:14:28.827699Z",
     "iopub.status.busy": "2021-03-21T10:14:28.826355Z",
     "iopub.status.idle": "2021-03-21T10:14:28.828324Z",
     "shell.execute_reply": "2021-03-21T10:14:28.828749Z"
    }
   },
   "outputs": [],
   "source": [
    "doses = dataJson[0]['dataValues'][3:61]"
   ]
  },
  {
   "cell_type": "markdown",
   "metadata": {},
   "source": [
    "Data formatting"
   ]
  },
  {
   "cell_type": "code",
   "execution_count": 8,
   "metadata": {
    "execution": {
     "iopub.execute_input": "2021-03-21T10:14:28.833204Z",
     "iopub.status.busy": "2021-03-21T10:14:28.832006Z",
     "iopub.status.idle": "2021-03-21T10:14:28.833808Z",
     "shell.execute_reply": "2021-03-21T10:14:28.834231Z"
    }
   },
   "outputs": [],
   "source": [
    "zipped = dict(zip(counties, doses))"
   ]
  },
  {
   "cell_type": "code",
   "execution_count": 9,
   "metadata": {
    "execution": {
     "iopub.execute_input": "2021-03-21T10:14:28.841175Z",
     "iopub.status.busy": "2021-03-21T10:14:28.839852Z",
     "iopub.status.idle": "2021-03-21T10:14:28.841790Z",
     "shell.execute_reply": "2021-03-21T10:14:28.842220Z"
    }
   },
   "outputs": [],
   "source": [
    "df = pd.Series(zipped).reset_index()"
   ]
  },
  {
   "cell_type": "code",
   "execution_count": 10,
   "metadata": {
    "execution": {
     "iopub.execute_input": "2021-03-21T10:14:28.846838Z",
     "iopub.status.busy": "2021-03-21T10:14:28.845586Z",
     "iopub.status.idle": "2021-03-21T10:14:28.847875Z",
     "shell.execute_reply": "2021-03-21T10:14:28.848341Z"
    }
   },
   "outputs": [],
   "source": [
    "df.columns = ['location','doses']"
   ]
  },
  {
   "cell_type": "markdown",
   "metadata": {},
   "source": [
    "Grab the overall California total"
   ]
  },
  {
   "cell_type": "code",
   "execution_count": 11,
   "metadata": {
    "execution": {
     "iopub.execute_input": "2021-03-21T10:14:28.853100Z",
     "iopub.status.busy": "2021-03-21T10:14:28.851698Z",
     "iopub.status.idle": "2021-03-21T10:14:28.853718Z",
     "shell.execute_reply": "2021-03-21T10:14:28.854143Z"
    }
   },
   "outputs": [],
   "source": [
    "add = {'location':'California','doses':dataJson[0]['dataValues'][2]}"
   ]
  },
  {
   "cell_type": "code",
   "execution_count": 12,
   "metadata": {
    "execution": {
     "iopub.execute_input": "2021-03-21T10:14:28.862177Z",
     "iopub.status.busy": "2021-03-21T10:14:28.860260Z",
     "iopub.status.idle": "2021-03-21T10:14:28.862910Z",
     "shell.execute_reply": "2021-03-21T10:14:28.863653Z"
    }
   },
   "outputs": [],
   "source": [
    "df = df.append(add, ignore_index=True)"
   ]
  },
  {
   "cell_type": "code",
   "execution_count": 13,
   "metadata": {
    "execution": {
     "iopub.execute_input": "2021-03-21T10:14:28.868918Z",
     "iopub.status.busy": "2021-03-21T10:14:28.867664Z",
     "iopub.status.idle": "2021-03-21T10:14:28.869605Z",
     "shell.execute_reply": "2021-03-21T10:14:28.870036Z"
    }
   },
   "outputs": [],
   "source": [
    "df = df.sort_values(by='location')"
   ]
  },
  {
   "cell_type": "code",
   "execution_count": 14,
   "metadata": {
    "execution": {
     "iopub.execute_input": "2021-03-21T10:14:28.876700Z",
     "iopub.status.busy": "2021-03-21T10:14:28.875413Z",
     "iopub.status.idle": "2021-03-21T10:14:28.877261Z",
     "shell.execute_reply": "2021-03-21T10:14:28.877698Z"
    }
   },
   "outputs": [],
   "source": [
    "df = df[df.location == 'California'].append(df[df.location != 'California']).reset_index(drop=True)"
   ]
  },
  {
   "cell_type": "code",
   "execution_count": null,
   "metadata": {},
   "outputs": [],
   "source": []
  },
  {
   "cell_type": "code",
   "execution_count": 15,
   "metadata": {
    "execution": {
     "iopub.execute_input": "2021-03-21T10:14:28.881245Z",
     "iopub.status.busy": "2021-03-21T10:14:28.880756Z",
     "iopub.status.idle": "2021-03-21T10:14:28.898151Z",
     "shell.execute_reply": "2021-03-21T10:14:28.898567Z"
    }
   },
   "outputs": [],
   "source": [
    "tz = pytz.timezone(\"America/New_York\")"
   ]
  },
  {
   "cell_type": "code",
   "execution_count": 16,
   "metadata": {
    "execution": {
     "iopub.execute_input": "2021-03-21T10:14:28.902954Z",
     "iopub.status.busy": "2021-03-21T10:14:28.901695Z",
     "iopub.status.idle": "2021-03-21T10:14:28.903595Z",
     "shell.execute_reply": "2021-03-21T10:14:28.904050Z"
    }
   },
   "outputs": [],
   "source": [
    "today = datetime.now(tz).date()"
   ]
  },
  {
   "cell_type": "code",
   "execution_count": 17,
   "metadata": {
    "execution": {
     "iopub.execute_input": "2021-03-21T10:14:28.908706Z",
     "iopub.status.busy": "2021-03-21T10:14:28.907396Z",
     "iopub.status.idle": "2021-03-21T10:14:28.909415Z",
     "shell.execute_reply": "2021-03-21T10:14:28.909973Z"
    }
   },
   "outputs": [],
   "source": [
    "data_dir = os.path.join(os.path.abspath(\"\"), \"data\")"
   ]
  },
  {
   "cell_type": "code",
   "execution_count": 18,
   "metadata": {
    "execution": {
     "iopub.execute_input": "2021-03-21T10:14:28.915087Z",
     "iopub.status.busy": "2021-03-21T10:14:28.913165Z",
     "iopub.status.idle": "2021-03-21T10:14:28.918153Z",
     "shell.execute_reply": "2021-03-21T10:14:28.917615Z"
    }
   },
   "outputs": [],
   "source": [
    "df.to_csv(os.path.join(data_dir, f\"{today}.csv\"), index=False)"
   ]
  },
  {
   "cell_type": "code",
   "execution_count": null,
   "metadata": {},
   "outputs": [],
   "source": []
  }
 ],
 "metadata": {
  "kernelspec": {
   "display_name": "Python 3",
   "language": "python",
   "name": "python3"
  },
  "language_info": {
   "codemirror_mode": {
    "name": "ipython",
    "version": 3
   },
   "file_extension": ".py",
   "mimetype": "text/x-python",
   "name": "python",
   "nbconvert_exporter": "python",
   "pygments_lexer": "ipython3",
   "version": "3.8.8"
  }
 },
 "nbformat": 4,
 "nbformat_minor": 4
}
