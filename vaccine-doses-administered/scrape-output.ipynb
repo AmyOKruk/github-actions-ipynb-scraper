{
 "cells": [
  {
   "cell_type": "markdown",
   "metadata": {},
   "source": [
    "# California COVID vaccinations scrape"
   ]
  },
  {
   "cell_type": "markdown",
   "metadata": {},
   "source": [
    "By [Amy O'Kruk](https://twitter.com/amyokruk)"
   ]
  },
  {
   "cell_type": "markdown",
   "metadata": {},
   "source": [
    "Downloads data on vaccine doses administered by county and statewide from a Tableau-powered dashboard from the California Department of Public Health."
   ]
  },
  {
   "cell_type": "code",
   "execution_count": 1,
   "metadata": {
    "execution": {
     "iopub.execute_input": "2021-03-20T18:27:46.104143Z",
     "iopub.status.busy": "2021-03-20T18:27:46.103456Z",
     "iopub.status.idle": "2021-03-20T18:27:46.473328Z",
     "shell.execute_reply": "2021-03-20T18:27:46.472738Z"
    }
   },
   "outputs": [],
   "source": [
    "import pandas as pd\n",
    "import requests\n",
    "from bs4 import BeautifulSoup\n",
    "import json\n",
    "import re\n",
    "import time\n",
    "from time import gmtime, strftime \n",
    "import os\n",
    "import pytz\n",
    "from datetime import datetime"
   ]
  },
  {
   "cell_type": "markdown",
   "metadata": {},
   "source": [
    "Scrape the dashboard page"
   ]
  },
  {
   "cell_type": "code",
   "execution_count": 2,
   "metadata": {
    "execution": {
     "iopub.execute_input": "2021-03-20T18:27:46.479485Z",
     "iopub.status.busy": "2021-03-20T18:27:46.478870Z",
     "iopub.status.idle": "2021-03-20T18:27:46.955271Z",
     "shell.execute_reply": "2021-03-20T18:27:46.954717Z"
    }
   },
   "outputs": [],
   "source": [
    "url = \"https://public.tableau.com/interactive/views/COVID-19VaccineDashboardPublic/Vaccine?:embed=y&:showVizHome=n&:apiID=host0\"\n",
    "\n",
    "r = requests.get(url)\n",
    "soup = BeautifulSoup(r.text, \"html.parser\")"
   ]
  },
  {
   "cell_type": "code",
   "execution_count": 3,
   "metadata": {
    "execution": {
     "iopub.execute_input": "2021-03-20T18:27:46.962028Z",
     "iopub.status.busy": "2021-03-20T18:27:46.961542Z",
     "iopub.status.idle": "2021-03-20T18:27:46.964940Z",
     "shell.execute_reply": "2021-03-20T18:27:46.964533Z"
    }
   },
   "outputs": [],
   "source": [
    "tableauData = json.loads(soup.find(\"textarea\",{\"id\": \"tsConfigContainer\"}).text)"
   ]
  },
  {
   "cell_type": "markdown",
   "metadata": {},
   "source": [
    "Get the link to the Tableau data"
   ]
  },
  {
   "cell_type": "code",
   "execution_count": 4,
   "metadata": {
    "execution": {
     "iopub.execute_input": "2021-03-20T18:27:46.968367Z",
     "iopub.status.busy": "2021-03-20T18:27:46.967860Z",
     "iopub.status.idle": "2021-03-20T18:27:46.971303Z",
     "shell.execute_reply": "2021-03-20T18:27:46.970751Z"
    }
   },
   "outputs": [],
   "source": [
    "dataUrl = f'https://public.tableau.com{tableauData[\"vizql_root\"]}/bootstrapSession/sessions/{tableauData[\"sessionid\"]}'"
   ]
  },
  {
   "cell_type": "code",
   "execution_count": 5,
   "metadata": {
    "execution": {
     "iopub.execute_input": "2021-03-20T18:27:46.978005Z",
     "iopub.status.busy": "2021-03-20T18:27:46.977502Z",
     "iopub.status.idle": "2021-03-20T18:27:47.284810Z",
     "shell.execute_reply": "2021-03-20T18:27:47.284306Z"
    }
   },
   "outputs": [],
   "source": [
    "r = requests.post(dataUrl, data= {\n",
    "    \"sheet_id\": tableauData[\"sheetId\"],\n",
    "})\n",
    "\n",
    "dataReg = re.search('\\d+;({.*})\\d+;({.*})', r.text, re.MULTILINE)\n",
    "data1 = json.loads(dataReg.group(2))\n",
    "\n",
    "dataJson = data1[\"secondaryInfo\"][\"presModelMap\"][\"dataDictionary\"][\"presModelHolder\"][\"genDataDictionaryPresModel\"][\"dataSegments\"][\"0\"][\"dataColumns\"]"
   ]
  },
  {
   "cell_type": "markdown",
   "metadata": {},
   "source": [
    "Isolate what you want"
   ]
  },
  {
   "cell_type": "code",
   "execution_count": 6,
   "metadata": {
    "execution": {
     "iopub.execute_input": "2021-03-20T18:27:47.288718Z",
     "iopub.status.busy": "2021-03-20T18:27:47.288194Z",
     "iopub.status.idle": "2021-03-20T18:27:47.291775Z",
     "shell.execute_reply": "2021-03-20T18:27:47.291335Z"
    }
   },
   "outputs": [],
   "source": [
    "counties = dataJson[2]['dataValues'][:58]"
   ]
  },
  {
   "cell_type": "code",
   "execution_count": 7,
   "metadata": {
    "execution": {
     "iopub.execute_input": "2021-03-20T18:27:47.295430Z",
     "iopub.status.busy": "2021-03-20T18:27:47.294875Z",
     "iopub.status.idle": "2021-03-20T18:27:47.298239Z",
     "shell.execute_reply": "2021-03-20T18:27:47.297807Z"
    }
   },
   "outputs": [],
   "source": [
    "doses = dataJson[0]['dataValues'][3:61]"
   ]
  },
  {
   "cell_type": "markdown",
   "metadata": {},
   "source": [
    "Data formatting"
   ]
  },
  {
   "cell_type": "code",
   "execution_count": 8,
   "metadata": {
    "execution": {
     "iopub.execute_input": "2021-03-20T18:27:47.301986Z",
     "iopub.status.busy": "2021-03-20T18:27:47.301475Z",
     "iopub.status.idle": "2021-03-20T18:27:47.304843Z",
     "shell.execute_reply": "2021-03-20T18:27:47.304417Z"
    }
   },
   "outputs": [],
   "source": [
    "zipped = dict(zip(counties, doses))"
   ]
  },
  {
   "cell_type": "code",
   "execution_count": 9,
   "metadata": {
    "execution": {
     "iopub.execute_input": "2021-03-20T18:27:47.310481Z",
     "iopub.status.busy": "2021-03-20T18:27:47.309963Z",
     "iopub.status.idle": "2021-03-20T18:27:47.313304Z",
     "shell.execute_reply": "2021-03-20T18:27:47.312878Z"
    }
   },
   "outputs": [],
   "source": [
    "df = pd.Series(zipped).reset_index()"
   ]
  },
  {
   "cell_type": "code",
   "execution_count": 10,
   "metadata": {
    "execution": {
     "iopub.execute_input": "2021-03-20T18:27:47.318052Z",
     "iopub.status.busy": "2021-03-20T18:27:47.316851Z",
     "iopub.status.idle": "2021-03-20T18:27:47.318658Z",
     "shell.execute_reply": "2021-03-20T18:27:47.319102Z"
    }
   },
   "outputs": [],
   "source": [
    "df.columns = ['location','doses']"
   ]
  },
  {
   "cell_type": "markdown",
   "metadata": {},
   "source": [
    "Grab the overall California total"
   ]
  },
  {
   "cell_type": "code",
   "execution_count": 11,
   "metadata": {
    "execution": {
     "iopub.execute_input": "2021-03-20T18:27:47.323453Z",
     "iopub.status.busy": "2021-03-20T18:27:47.322260Z",
     "iopub.status.idle": "2021-03-20T18:27:47.324112Z",
     "shell.execute_reply": "2021-03-20T18:27:47.324544Z"
    }
   },
   "outputs": [],
   "source": [
    "add = {'location':'California','doses':dataJson[0]['dataValues'][2]}"
   ]
  },
  {
   "cell_type": "code",
   "execution_count": 12,
   "metadata": {
    "execution": {
     "iopub.execute_input": "2021-03-20T18:27:47.331996Z",
     "iopub.status.busy": "2021-03-20T18:27:47.330567Z",
     "iopub.status.idle": "2021-03-20T18:27:47.332581Z",
     "shell.execute_reply": "2021-03-20T18:27:47.333005Z"
    }
   },
   "outputs": [],
   "source": [
    "df = df.append(add, ignore_index=True)"
   ]
  },
  {
   "cell_type": "code",
   "execution_count": 13,
   "metadata": {
    "execution": {
     "iopub.execute_input": "2021-03-20T18:27:47.337993Z",
     "iopub.status.busy": "2021-03-20T18:27:47.336853Z",
     "iopub.status.idle": "2021-03-20T18:27:47.338589Z",
     "shell.execute_reply": "2021-03-20T18:27:47.339038Z"
    }
   },
   "outputs": [],
   "source": [
    "df = df.sort_values(by='location')"
   ]
  },
  {
   "cell_type": "code",
   "execution_count": 14,
   "metadata": {
    "execution": {
     "iopub.execute_input": "2021-03-20T18:27:47.345563Z",
     "iopub.status.busy": "2021-03-20T18:27:47.344351Z",
     "iopub.status.idle": "2021-03-20T18:27:47.346329Z",
     "shell.execute_reply": "2021-03-20T18:27:47.346773Z"
    }
   },
   "outputs": [],
   "source": [
    "df = df[df.location == 'California'].append(df[df.location != 'California']).reset_index(drop=True)"
   ]
  },
  {
   "cell_type": "code",
   "execution_count": null,
   "metadata": {},
   "outputs": [],
   "source": []
  },
  {
   "cell_type": "code",
   "execution_count": 15,
   "metadata": {
    "execution": {
     "iopub.execute_input": "2021-03-20T18:27:47.350136Z",
     "iopub.status.busy": "2021-03-20T18:27:47.349626Z",
     "iopub.status.idle": "2021-03-20T18:27:47.367856Z",
     "shell.execute_reply": "2021-03-20T18:27:47.367348Z"
    }
   },
   "outputs": [],
   "source": [
    "tz = pytz.timezone(\"America/New_York\")"
   ]
  },
  {
   "cell_type": "code",
   "execution_count": 16,
   "metadata": {
    "execution": {
     "iopub.execute_input": "2021-03-20T18:27:47.372452Z",
     "iopub.status.busy": "2021-03-20T18:27:47.371217Z",
     "iopub.status.idle": "2021-03-20T18:27:47.373050Z",
     "shell.execute_reply": "2021-03-20T18:27:47.373474Z"
    }
   },
   "outputs": [],
   "source": [
    "today = datetime.now(tz).date()"
   ]
  },
  {
   "cell_type": "code",
   "execution_count": 17,
   "metadata": {
    "execution": {
     "iopub.execute_input": "2021-03-20T18:27:47.377887Z",
     "iopub.status.busy": "2021-03-20T18:27:47.376765Z",
     "iopub.status.idle": "2021-03-20T18:27:47.378663Z",
     "shell.execute_reply": "2021-03-20T18:27:47.379120Z"
    }
   },
   "outputs": [],
   "source": [
    "data_dir = os.path.join(os.path.abspath(\"\"), \"data\")"
   ]
  },
  {
   "cell_type": "code",
   "execution_count": 18,
   "metadata": {
    "execution": {
     "iopub.execute_input": "2021-03-20T18:27:47.382887Z",
     "iopub.status.busy": "2021-03-20T18:27:47.382369Z",
     "iopub.status.idle": "2021-03-20T18:27:47.386700Z",
     "shell.execute_reply": "2021-03-20T18:27:47.386299Z"
    }
   },
   "outputs": [],
   "source": [
    "df.to_csv(os.path.join(data_dir, f\"{today}.csv\"), index=False)"
   ]
  },
  {
   "cell_type": "code",
   "execution_count": null,
   "metadata": {},
   "outputs": [],
   "source": []
  }
 ],
 "metadata": {
  "kernelspec": {
   "display_name": "Python 3",
   "language": "python",
   "name": "python3"
  },
  "language_info": {
   "codemirror_mode": {
    "name": "ipython",
    "version": 3
   },
   "file_extension": ".py",
   "mimetype": "text/x-python",
   "name": "python",
   "nbconvert_exporter": "python",
   "pygments_lexer": "ipython3",
   "version": "3.8.8"
  }
 },
 "nbformat": 4,
 "nbformat_minor": 4
}
