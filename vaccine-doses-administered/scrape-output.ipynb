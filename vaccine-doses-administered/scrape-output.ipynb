{
 "cells": [
  {
   "cell_type": "markdown",
   "metadata": {},
   "source": [
    "# California COVID vaccinations scrape"
   ]
  },
  {
   "cell_type": "markdown",
   "metadata": {},
   "source": [
    "By [Amy O'Kruk](https://twitter.com/amyokruk)"
   ]
  },
  {
   "cell_type": "markdown",
   "metadata": {},
   "source": [
    "Downloads data on vaccine doses administered by county and statewide from a Tableau-powered dashboard from the California Department of Public Health."
   ]
  },
  {
   "cell_type": "code",
   "execution_count": 1,
   "metadata": {
    "execution": {
     "iopub.execute_input": "2021-03-21T05:43:27.777070Z",
     "iopub.status.busy": "2021-03-21T05:43:27.776382Z",
     "iopub.status.idle": "2021-03-21T05:43:28.257314Z",
     "shell.execute_reply": "2021-03-21T05:43:28.256255Z"
    }
   },
   "outputs": [],
   "source": [
    "import pandas as pd\n",
    "import requests\n",
    "from bs4 import BeautifulSoup\n",
    "import json\n",
    "import re\n",
    "import time\n",
    "from time import gmtime, strftime \n",
    "import os\n",
    "import pytz\n",
    "from datetime import datetime"
   ]
  },
  {
   "cell_type": "markdown",
   "metadata": {},
   "source": [
    "Scrape the dashboard page"
   ]
  },
  {
   "cell_type": "code",
   "execution_count": 2,
   "metadata": {
    "execution": {
     "iopub.execute_input": "2021-03-21T05:43:28.263944Z",
     "iopub.status.busy": "2021-03-21T05:43:28.261156Z",
     "iopub.status.idle": "2021-03-21T05:43:29.230399Z",
     "shell.execute_reply": "2021-03-21T05:43:29.229843Z"
    }
   },
   "outputs": [],
   "source": [
    "url = \"https://public.tableau.com/interactive/views/COVID-19VaccineDashboardPublic/Vaccine?:embed=y&:showVizHome=n&:apiID=host0\"\n",
    "\n",
    "r = requests.get(url)\n",
    "soup = BeautifulSoup(r.text, \"html.parser\")"
   ]
  },
  {
   "cell_type": "code",
   "execution_count": 3,
   "metadata": {
    "execution": {
     "iopub.execute_input": "2021-03-21T05:43:29.235457Z",
     "iopub.status.busy": "2021-03-21T05:43:29.234817Z",
     "iopub.status.idle": "2021-03-21T05:43:29.238671Z",
     "shell.execute_reply": "2021-03-21T05:43:29.239153Z"
    }
   },
   "outputs": [],
   "source": [
    "tableauData = json.loads(soup.find(\"textarea\",{\"id\": \"tsConfigContainer\"}).text)"
   ]
  },
  {
   "cell_type": "markdown",
   "metadata": {},
   "source": [
    "Get the link to the Tableau data"
   ]
  },
  {
   "cell_type": "code",
   "execution_count": 4,
   "metadata": {
    "execution": {
     "iopub.execute_input": "2021-03-21T05:43:29.242922Z",
     "iopub.status.busy": "2021-03-21T05:43:29.242330Z",
     "iopub.status.idle": "2021-03-21T05:43:29.245824Z",
     "shell.execute_reply": "2021-03-21T05:43:29.246289Z"
    }
   },
   "outputs": [],
   "source": [
    "dataUrl = f'https://public.tableau.com{tableauData[\"vizql_root\"]}/bootstrapSession/sessions/{tableauData[\"sessionid\"]}'"
   ]
  },
  {
   "cell_type": "code",
   "execution_count": 5,
   "metadata": {
    "execution": {
     "iopub.execute_input": "2021-03-21T05:43:29.253183Z",
     "iopub.status.busy": "2021-03-21T05:43:29.252563Z",
     "iopub.status.idle": "2021-03-21T05:43:29.386722Z",
     "shell.execute_reply": "2021-03-21T05:43:29.385852Z"
    }
   },
   "outputs": [],
   "source": [
    "r = requests.post(dataUrl, data= {\n",
    "    \"sheet_id\": tableauData[\"sheetId\"],\n",
    "})\n",
    "\n",
    "dataReg = re.search('\\d+;({.*})\\d+;({.*})', r.text, re.MULTILINE)\n",
    "data1 = json.loads(dataReg.group(2))\n",
    "\n",
    "dataJson = data1[\"secondaryInfo\"][\"presModelMap\"][\"dataDictionary\"][\"presModelHolder\"][\"genDataDictionaryPresModel\"][\"dataSegments\"][\"0\"][\"dataColumns\"]"
   ]
  },
  {
   "cell_type": "markdown",
   "metadata": {},
   "source": [
    "Isolate what you want"
   ]
  },
  {
   "cell_type": "code",
   "execution_count": 6,
   "metadata": {
    "execution": {
     "iopub.execute_input": "2021-03-21T05:43:29.391704Z",
     "iopub.status.busy": "2021-03-21T05:43:29.390288Z",
     "iopub.status.idle": "2021-03-21T05:43:29.392358Z",
     "shell.execute_reply": "2021-03-21T05:43:29.392852Z"
    }
   },
   "outputs": [],
   "source": [
    "counties = dataJson[2]['dataValues'][:58]"
   ]
  },
  {
   "cell_type": "code",
   "execution_count": 7,
   "metadata": {
    "execution": {
     "iopub.execute_input": "2021-03-21T05:43:29.397865Z",
     "iopub.status.busy": "2021-03-21T05:43:29.396414Z",
     "iopub.status.idle": "2021-03-21T05:43:29.398528Z",
     "shell.execute_reply": "2021-03-21T05:43:29.399199Z"
    }
   },
   "outputs": [],
   "source": [
    "doses = dataJson[0]['dataValues'][3:61]"
   ]
  },
  {
   "cell_type": "markdown",
   "metadata": {},
   "source": [
    "Data formatting"
   ]
  },
  {
   "cell_type": "code",
   "execution_count": 8,
   "metadata": {
    "execution": {
     "iopub.execute_input": "2021-03-21T05:43:29.404133Z",
     "iopub.status.busy": "2021-03-21T05:43:29.402715Z",
     "iopub.status.idle": "2021-03-21T05:43:29.404786Z",
     "shell.execute_reply": "2021-03-21T05:43:29.405284Z"
    }
   },
   "outputs": [],
   "source": [
    "zipped = dict(zip(counties, doses))"
   ]
  },
  {
   "cell_type": "code",
   "execution_count": 9,
   "metadata": {
    "execution": {
     "iopub.execute_input": "2021-03-21T05:43:29.413101Z",
     "iopub.status.busy": "2021-03-21T05:43:29.411584Z",
     "iopub.status.idle": "2021-03-21T05:43:29.413749Z",
     "shell.execute_reply": "2021-03-21T05:43:29.414254Z"
    }
   },
   "outputs": [],
   "source": [
    "df = pd.Series(zipped).reset_index()"
   ]
  },
  {
   "cell_type": "code",
   "execution_count": 10,
   "metadata": {
    "execution": {
     "iopub.execute_input": "2021-03-21T05:43:29.419104Z",
     "iopub.status.busy": "2021-03-21T05:43:29.417707Z",
     "iopub.status.idle": "2021-03-21T05:43:29.419783Z",
     "shell.execute_reply": "2021-03-21T05:43:29.420279Z"
    }
   },
   "outputs": [],
   "source": [
    "df.columns = ['location','doses']"
   ]
  },
  {
   "cell_type": "markdown",
   "metadata": {},
   "source": [
    "Grab the overall California total"
   ]
  },
  {
   "cell_type": "code",
   "execution_count": 11,
   "metadata": {
    "execution": {
     "iopub.execute_input": "2021-03-21T05:43:29.425089Z",
     "iopub.status.busy": "2021-03-21T05:43:29.423725Z",
     "iopub.status.idle": "2021-03-21T05:43:29.426026Z",
     "shell.execute_reply": "2021-03-21T05:43:29.426533Z"
    }
   },
   "outputs": [],
   "source": [
    "add = {'location':'California','doses':dataJson[0]['dataValues'][2]}"
   ]
  },
  {
   "cell_type": "code",
   "execution_count": 12,
   "metadata": {
    "execution": {
     "iopub.execute_input": "2021-03-21T05:43:29.434317Z",
     "iopub.status.busy": "2021-03-21T05:43:29.432903Z",
     "iopub.status.idle": "2021-03-21T05:43:29.434999Z",
     "shell.execute_reply": "2021-03-21T05:43:29.435543Z"
    }
   },
   "outputs": [],
   "source": [
    "df = df.append(add, ignore_index=True)"
   ]
  },
  {
   "cell_type": "code",
   "execution_count": 13,
   "metadata": {
    "execution": {
     "iopub.execute_input": "2021-03-21T05:43:29.441675Z",
     "iopub.status.busy": "2021-03-21T05:43:29.440083Z",
     "iopub.status.idle": "2021-03-21T05:43:29.442395Z",
     "shell.execute_reply": "2021-03-21T05:43:29.442956Z"
    }
   },
   "outputs": [],
   "source": [
    "df = df.sort_values(by='location')"
   ]
  },
  {
   "cell_type": "code",
   "execution_count": 14,
   "metadata": {
    "execution": {
     "iopub.execute_input": "2021-03-21T05:43:29.450708Z",
     "iopub.status.busy": "2021-03-21T05:43:29.449338Z",
     "iopub.status.idle": "2021-03-21T05:43:29.451365Z",
     "shell.execute_reply": "2021-03-21T05:43:29.451906Z"
    }
   },
   "outputs": [],
   "source": [
    "df = df[df.location == 'California'].append(df[df.location != 'California']).reset_index(drop=True)"
   ]
  },
  {
   "cell_type": "code",
   "execution_count": null,
   "metadata": {},
   "outputs": [],
   "source": []
  },
  {
   "cell_type": "code",
   "execution_count": 15,
   "metadata": {
    "execution": {
     "iopub.execute_input": "2021-03-21T05:43:29.455611Z",
     "iopub.status.busy": "2021-03-21T05:43:29.454986Z",
     "iopub.status.idle": "2021-03-21T05:43:29.476226Z",
     "shell.execute_reply": "2021-03-21T05:43:29.475655Z"
    }
   },
   "outputs": [],
   "source": [
    "tz = pytz.timezone(\"America/New_York\")"
   ]
  },
  {
   "cell_type": "code",
   "execution_count": 16,
   "metadata": {
    "execution": {
     "iopub.execute_input": "2021-03-21T05:43:29.481112Z",
     "iopub.status.busy": "2021-03-21T05:43:29.479616Z",
     "iopub.status.idle": "2021-03-21T05:43:29.481764Z",
     "shell.execute_reply": "2021-03-21T05:43:29.482261Z"
    }
   },
   "outputs": [],
   "source": [
    "today = datetime.now(tz).date()"
   ]
  },
  {
   "cell_type": "code",
   "execution_count": 17,
   "metadata": {
    "execution": {
     "iopub.execute_input": "2021-03-21T05:43:29.487309Z",
     "iopub.status.busy": "2021-03-21T05:43:29.485788Z",
     "iopub.status.idle": "2021-03-21T05:43:29.488007Z",
     "shell.execute_reply": "2021-03-21T05:43:29.488603Z"
    }
   },
   "outputs": [],
   "source": [
    "data_dir = os.path.join(os.path.abspath(\"\"), \"data\")"
   ]
  },
  {
   "cell_type": "code",
   "execution_count": 18,
   "metadata": {
    "execution": {
     "iopub.execute_input": "2021-03-21T05:43:29.493340Z",
     "iopub.status.busy": "2021-03-21T05:43:29.492001Z",
     "iopub.status.idle": "2021-03-21T05:43:29.512456Z",
     "shell.execute_reply": "2021-03-21T05:43:29.511955Z"
    }
   },
   "outputs": [],
   "source": [
    "df.to_csv(os.path.join(data_dir, f\"{today}.csv\"), index=False)"
   ]
  },
  {
   "cell_type": "code",
   "execution_count": null,
   "metadata": {},
   "outputs": [],
   "source": []
  }
 ],
 "metadata": {
  "kernelspec": {
   "display_name": "Python 3",
   "language": "python",
   "name": "python3"
  },
  "language_info": {
   "codemirror_mode": {
    "name": "ipython",
    "version": 3
   },
   "file_extension": ".py",
   "mimetype": "text/x-python",
   "name": "python",
   "nbconvert_exporter": "python",
   "pygments_lexer": "ipython3",
   "version": "3.8.8"
  }
 },
 "nbformat": 4,
 "nbformat_minor": 4
}
