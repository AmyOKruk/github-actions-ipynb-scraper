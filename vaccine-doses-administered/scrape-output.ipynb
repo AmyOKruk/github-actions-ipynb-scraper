{
 "cells": [
  {
   "cell_type": "markdown",
   "metadata": {},
   "source": [
    "# California COVID vaccinations scrape"
   ]
  },
  {
   "cell_type": "markdown",
   "metadata": {},
   "source": [
    "By [Amy O'Kruk](https://twitter.com/amyokruk)"
   ]
  },
  {
   "cell_type": "markdown",
   "metadata": {},
   "source": [
    "Downloads data on vaccine doses administered by county and statewide from a Tableau-powered dashboard from the California Department of Public Health."
   ]
  },
  {
   "cell_type": "code",
   "execution_count": 1,
   "metadata": {
    "execution": {
     "iopub.execute_input": "2021-03-14T15:43:46.727632Z",
     "iopub.status.busy": "2021-03-14T15:43:46.726894Z",
     "iopub.status.idle": "2021-03-14T15:43:47.121995Z",
     "shell.execute_reply": "2021-03-14T15:43:47.121365Z"
    }
   },
   "outputs": [],
   "source": [
    "import pandas as pd\n",
    "import requests\n",
    "from bs4 import BeautifulSoup\n",
    "import json\n",
    "import re\n",
    "import time\n",
    "from time import gmtime, strftime \n",
    "import os\n",
    "import pytz\n",
    "from datetime import datetime"
   ]
  },
  {
   "cell_type": "markdown",
   "metadata": {},
   "source": [
    "Scrape the dashboard page"
   ]
  },
  {
   "cell_type": "code",
   "execution_count": 2,
   "metadata": {
    "execution": {
     "iopub.execute_input": "2021-03-14T15:43:47.127219Z",
     "iopub.status.busy": "2021-03-14T15:43:47.125430Z",
     "iopub.status.idle": "2021-03-14T15:43:47.497979Z",
     "shell.execute_reply": "2021-03-14T15:43:47.497054Z"
    }
   },
   "outputs": [],
   "source": [
    "url = \"https://public.tableau.com/interactive/views/COVID-19VaccineDashboardPublic/Vaccine?:embed=y&:showVizHome=n&:apiID=host0\"\n",
    "\n",
    "r = requests.get(url)\n",
    "soup = BeautifulSoup(r.text, \"html.parser\")"
   ]
  },
  {
   "cell_type": "code",
   "execution_count": 3,
   "metadata": {
    "execution": {
     "iopub.execute_input": "2021-03-14T15:43:47.502807Z",
     "iopub.status.busy": "2021-03-14T15:43:47.502274Z",
     "iopub.status.idle": "2021-03-14T15:43:47.505891Z",
     "shell.execute_reply": "2021-03-14T15:43:47.505392Z"
    }
   },
   "outputs": [],
   "source": [
    "tableauData = json.loads(soup.find(\"textarea\",{\"id\": \"tsConfigContainer\"}).text)"
   ]
  },
  {
   "cell_type": "markdown",
   "metadata": {},
   "source": [
    "Get the link to the Tableau data"
   ]
  },
  {
   "cell_type": "code",
   "execution_count": 4,
   "metadata": {
    "execution": {
     "iopub.execute_input": "2021-03-14T15:43:47.509507Z",
     "iopub.status.busy": "2021-03-14T15:43:47.508993Z",
     "iopub.status.idle": "2021-03-14T15:43:47.512415Z",
     "shell.execute_reply": "2021-03-14T15:43:47.511959Z"
    }
   },
   "outputs": [],
   "source": [
    "dataUrl = f'https://public.tableau.com{tableauData[\"vizql_root\"]}/bootstrapSession/sessions/{tableauData[\"sessionid\"]}'"
   ]
  },
  {
   "cell_type": "code",
   "execution_count": 5,
   "metadata": {
    "execution": {
     "iopub.execute_input": "2021-03-14T15:43:47.518978Z",
     "iopub.status.busy": "2021-03-14T15:43:47.518452Z",
     "iopub.status.idle": "2021-03-14T15:43:47.669053Z",
     "shell.execute_reply": "2021-03-14T15:43:47.668524Z"
    }
   },
   "outputs": [],
   "source": [
    "r = requests.post(dataUrl, data= {\n",
    "    \"sheet_id\": tableauData[\"sheetId\"],\n",
    "})\n",
    "\n",
    "dataReg = re.search('\\d+;({.*})\\d+;({.*})', r.text, re.MULTILINE)\n",
    "data1 = json.loads(dataReg.group(2))\n",
    "\n",
    "dataJson = data1[\"secondaryInfo\"][\"presModelMap\"][\"dataDictionary\"][\"presModelHolder\"][\"genDataDictionaryPresModel\"][\"dataSegments\"][\"0\"][\"dataColumns\"]"
   ]
  },
  {
   "cell_type": "markdown",
   "metadata": {},
   "source": [
    "Isolate what you want"
   ]
  },
  {
   "cell_type": "code",
   "execution_count": 6,
   "metadata": {
    "execution": {
     "iopub.execute_input": "2021-03-14T15:43:47.673052Z",
     "iopub.status.busy": "2021-03-14T15:43:47.672532Z",
     "iopub.status.idle": "2021-03-14T15:43:47.676033Z",
     "shell.execute_reply": "2021-03-14T15:43:47.675565Z"
    }
   },
   "outputs": [],
   "source": [
    "counties = dataJson[2]['dataValues'][:58]"
   ]
  },
  {
   "cell_type": "code",
   "execution_count": 7,
   "metadata": {
    "execution": {
     "iopub.execute_input": "2021-03-14T15:43:47.679926Z",
     "iopub.status.busy": "2021-03-14T15:43:47.679393Z",
     "iopub.status.idle": "2021-03-14T15:43:47.682815Z",
     "shell.execute_reply": "2021-03-14T15:43:47.682345Z"
    }
   },
   "outputs": [],
   "source": [
    "doses = dataJson[0]['dataValues'][3:61]"
   ]
  },
  {
   "cell_type": "markdown",
   "metadata": {},
   "source": [
    "Data formatting"
   ]
  },
  {
   "cell_type": "code",
   "execution_count": 8,
   "metadata": {
    "execution": {
     "iopub.execute_input": "2021-03-14T15:43:47.686374Z",
     "iopub.status.busy": "2021-03-14T15:43:47.685850Z",
     "iopub.status.idle": "2021-03-14T15:43:47.689323Z",
     "shell.execute_reply": "2021-03-14T15:43:47.688863Z"
    }
   },
   "outputs": [],
   "source": [
    "zipped = dict(zip(counties, doses))"
   ]
  },
  {
   "cell_type": "code",
   "execution_count": 9,
   "metadata": {
    "execution": {
     "iopub.execute_input": "2021-03-14T15:43:47.695182Z",
     "iopub.status.busy": "2021-03-14T15:43:47.694651Z",
     "iopub.status.idle": "2021-03-14T15:43:47.698104Z",
     "shell.execute_reply": "2021-03-14T15:43:47.698689Z"
    }
   },
   "outputs": [],
   "source": [
    "df = pd.Series(zipped).reset_index()"
   ]
  },
  {
   "cell_type": "code",
   "execution_count": 10,
   "metadata": {
    "execution": {
     "iopub.execute_input": "2021-03-14T15:43:47.704014Z",
     "iopub.status.busy": "2021-03-14T15:43:47.703501Z",
     "iopub.status.idle": "2021-03-14T15:43:47.707780Z",
     "shell.execute_reply": "2021-03-14T15:43:47.707306Z"
    }
   },
   "outputs": [],
   "source": [
    "df.columns = ['location','doses']"
   ]
  },
  {
   "cell_type": "markdown",
   "metadata": {},
   "source": [
    "Grab the overall California total"
   ]
  },
  {
   "cell_type": "code",
   "execution_count": 11,
   "metadata": {
    "execution": {
     "iopub.execute_input": "2021-03-14T15:43:47.711632Z",
     "iopub.status.busy": "2021-03-14T15:43:47.711098Z",
     "iopub.status.idle": "2021-03-14T15:43:47.715195Z",
     "shell.execute_reply": "2021-03-14T15:43:47.714729Z"
    }
   },
   "outputs": [],
   "source": [
    "add = {'location':'California','doses':dataJson[0]['dataValues'][2]}"
   ]
  },
  {
   "cell_type": "code",
   "execution_count": 12,
   "metadata": {
    "execution": {
     "iopub.execute_input": "2021-03-14T15:43:47.721977Z",
     "iopub.status.busy": "2021-03-14T15:43:47.721439Z",
     "iopub.status.idle": "2021-03-14T15:43:47.725028Z",
     "shell.execute_reply": "2021-03-14T15:43:47.724359Z"
    }
   },
   "outputs": [],
   "source": [
    "df = df.append(add, ignore_index=True)"
   ]
  },
  {
   "cell_type": "code",
   "execution_count": 13,
   "metadata": {
    "execution": {
     "iopub.execute_input": "2021-03-14T15:43:47.729410Z",
     "iopub.status.busy": "2021-03-14T15:43:47.728896Z",
     "iopub.status.idle": "2021-03-14T15:43:47.732517Z",
     "shell.execute_reply": "2021-03-14T15:43:47.732047Z"
    }
   },
   "outputs": [],
   "source": [
    "df = df.sort_values(by='location')"
   ]
  },
  {
   "cell_type": "code",
   "execution_count": 14,
   "metadata": {
    "execution": {
     "iopub.execute_input": "2021-03-14T15:43:47.738440Z",
     "iopub.status.busy": "2021-03-14T15:43:47.737917Z",
     "iopub.status.idle": "2021-03-14T15:43:47.741493Z",
     "shell.execute_reply": "2021-03-14T15:43:47.740767Z"
    }
   },
   "outputs": [],
   "source": [
    "df = df[df.location == 'California'].append(df[df.location != 'California']).reset_index(drop=True)"
   ]
  },
  {
   "cell_type": "code",
   "execution_count": null,
   "metadata": {},
   "outputs": [],
   "source": []
  },
  {
   "cell_type": "code",
   "execution_count": 15,
   "metadata": {
    "execution": {
     "iopub.execute_input": "2021-03-14T15:43:47.745540Z",
     "iopub.status.busy": "2021-03-14T15:43:47.745024Z",
     "iopub.status.idle": "2021-03-14T15:43:47.763715Z",
     "shell.execute_reply": "2021-03-14T15:43:47.763212Z"
    }
   },
   "outputs": [],
   "source": [
    "tz = pytz.timezone(\"America/New_York\")"
   ]
  },
  {
   "cell_type": "code",
   "execution_count": 16,
   "metadata": {
    "execution": {
     "iopub.execute_input": "2021-03-14T15:43:47.767501Z",
     "iopub.status.busy": "2021-03-14T15:43:47.766986Z",
     "iopub.status.idle": "2021-03-14T15:43:47.770518Z",
     "shell.execute_reply": "2021-03-14T15:43:47.770053Z"
    }
   },
   "outputs": [],
   "source": [
    "today = datetime.now(tz).date()"
   ]
  },
  {
   "cell_type": "code",
   "execution_count": 17,
   "metadata": {
    "execution": {
     "iopub.execute_input": "2021-03-14T15:43:47.774541Z",
     "iopub.status.busy": "2021-03-14T15:43:47.774010Z",
     "iopub.status.idle": "2021-03-14T15:43:47.777446Z",
     "shell.execute_reply": "2021-03-14T15:43:47.776985Z"
    }
   },
   "outputs": [],
   "source": [
    "data_dir = os.path.join(os.path.abspath(\"\"), \"data\")"
   ]
  },
  {
   "cell_type": "code",
   "execution_count": 18,
   "metadata": {
    "execution": {
     "iopub.execute_input": "2021-03-14T15:43:47.781598Z",
     "iopub.status.busy": "2021-03-14T15:43:47.780981Z",
     "iopub.status.idle": "2021-03-14T15:43:47.787149Z",
     "shell.execute_reply": "2021-03-14T15:43:47.786148Z"
    }
   },
   "outputs": [],
   "source": [
    "df.to_csv(os.path.join(data_dir, f\"{today}.csv\"), index=False)"
   ]
  },
  {
   "cell_type": "code",
   "execution_count": null,
   "metadata": {},
   "outputs": [],
   "source": []
  }
 ],
 "metadata": {
  "kernelspec": {
   "display_name": "Python 3",
   "language": "python",
   "name": "python3"
  },
  "language_info": {
   "codemirror_mode": {
    "name": "ipython",
    "version": 3
   },
   "file_extension": ".py",
   "mimetype": "text/x-python",
   "name": "python",
   "nbconvert_exporter": "python",
   "pygments_lexer": "ipython3",
   "version": "3.8.8"
  }
 },
 "nbformat": 4,
 "nbformat_minor": 4
}
