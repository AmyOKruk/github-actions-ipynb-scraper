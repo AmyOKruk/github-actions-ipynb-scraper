{
 "cells": [
  {
   "cell_type": "markdown",
   "metadata": {},
   "source": [
    "# California COVID vaccinations scrape"
   ]
  },
  {
   "cell_type": "markdown",
   "metadata": {},
   "source": [
    "By [Amy O'Kruk](https://twitter.com/amyokruk)"
   ]
  },
  {
   "cell_type": "markdown",
   "metadata": {},
   "source": [
    "Downloads data on vaccine doses administered by county and statewide from a Tableau-powered dashboard from the California Department of Public Health."
   ]
  },
  {
   "cell_type": "code",
   "execution_count": 1,
   "metadata": {
    "execution": {
     "iopub.execute_input": "2021-03-10T15:12:35.714479Z",
     "iopub.status.busy": "2021-03-10T15:12:35.713859Z",
     "iopub.status.idle": "2021-03-10T15:12:36.084294Z",
     "shell.execute_reply": "2021-03-10T15:12:36.083196Z"
    }
   },
   "outputs": [],
   "source": [
    "import pandas as pd\n",
    "import requests\n",
    "from bs4 import BeautifulSoup\n",
    "import json\n",
    "import re\n",
    "import time\n",
    "from time import gmtime, strftime \n",
    "import os\n",
    "import pytz\n",
    "from datetime import datetime"
   ]
  },
  {
   "cell_type": "markdown",
   "metadata": {},
   "source": [
    "Scrape the dashboard page"
   ]
  },
  {
   "cell_type": "code",
   "execution_count": 2,
   "metadata": {
    "execution": {
     "iopub.execute_input": "2021-03-10T15:12:36.090689Z",
     "iopub.status.busy": "2021-03-10T15:12:36.087990Z",
     "iopub.status.idle": "2021-03-10T15:12:36.323618Z",
     "shell.execute_reply": "2021-03-10T15:12:36.324317Z"
    }
   },
   "outputs": [],
   "source": [
    "url = \"https://public.tableau.com/interactive/views/COVID-19VaccineDashboardPublic/Vaccine?:embed=y&:showVizHome=n&:apiID=host0\"\n",
    "\n",
    "r = requests.get(url)\n",
    "soup = BeautifulSoup(r.text, \"html.parser\")"
   ]
  },
  {
   "cell_type": "code",
   "execution_count": 3,
   "metadata": {
    "execution": {
     "iopub.execute_input": "2021-03-10T15:12:36.329223Z",
     "iopub.status.busy": "2021-03-10T15:12:36.328715Z",
     "iopub.status.idle": "2021-03-10T15:12:36.332074Z",
     "shell.execute_reply": "2021-03-10T15:12:36.331641Z"
    }
   },
   "outputs": [],
   "source": [
    "tableauData = json.loads(soup.find(\"textarea\",{\"id\": \"tsConfigContainer\"}).text)"
   ]
  },
  {
   "cell_type": "markdown",
   "metadata": {},
   "source": [
    "Get the link to the Tableau data"
   ]
  },
  {
   "cell_type": "code",
   "execution_count": 4,
   "metadata": {
    "execution": {
     "iopub.execute_input": "2021-03-10T15:12:36.335813Z",
     "iopub.status.busy": "2021-03-10T15:12:36.334992Z",
     "iopub.status.idle": "2021-03-10T15:12:36.337150Z",
     "shell.execute_reply": "2021-03-10T15:12:36.336717Z"
    }
   },
   "outputs": [],
   "source": [
    "dataUrl = f'https://public.tableau.com{tableauData[\"vizql_root\"]}/bootstrapSession/sessions/{tableauData[\"sessionid\"]}'"
   ]
  },
  {
   "cell_type": "code",
   "execution_count": 5,
   "metadata": {
    "execution": {
     "iopub.execute_input": "2021-03-10T15:12:36.343610Z",
     "iopub.status.busy": "2021-03-10T15:12:36.343114Z",
     "iopub.status.idle": "2021-03-10T15:12:37.596309Z",
     "shell.execute_reply": "2021-03-10T15:12:37.595412Z"
    }
   },
   "outputs": [],
   "source": [
    "r = requests.post(dataUrl, data= {\n",
    "    \"sheet_id\": tableauData[\"sheetId\"],\n",
    "})\n",
    "\n",
    "dataReg = re.search('\\d+;({.*})\\d+;({.*})', r.text, re.MULTILINE)\n",
    "data1 = json.loads(dataReg.group(2))\n",
    "\n",
    "dataJson = data1[\"secondaryInfo\"][\"presModelMap\"][\"dataDictionary\"][\"presModelHolder\"][\"genDataDictionaryPresModel\"][\"dataSegments\"][\"0\"][\"dataColumns\"]"
   ]
  },
  {
   "cell_type": "markdown",
   "metadata": {},
   "source": [
    "Isolate what you want"
   ]
  },
  {
   "cell_type": "code",
   "execution_count": 6,
   "metadata": {
    "execution": {
     "iopub.execute_input": "2021-03-10T15:12:37.600239Z",
     "iopub.status.busy": "2021-03-10T15:12:37.599719Z",
     "iopub.status.idle": "2021-03-10T15:12:37.603147Z",
     "shell.execute_reply": "2021-03-10T15:12:37.602678Z"
    }
   },
   "outputs": [],
   "source": [
    "counties = dataJson[2]['dataValues'][:58]"
   ]
  },
  {
   "cell_type": "code",
   "execution_count": 7,
   "metadata": {
    "execution": {
     "iopub.execute_input": "2021-03-10T15:12:37.606703Z",
     "iopub.status.busy": "2021-03-10T15:12:37.606162Z",
     "iopub.status.idle": "2021-03-10T15:12:37.609505Z",
     "shell.execute_reply": "2021-03-10T15:12:37.609016Z"
    }
   },
   "outputs": [],
   "source": [
    "doses = dataJson[0]['dataValues'][3:61]"
   ]
  },
  {
   "cell_type": "markdown",
   "metadata": {},
   "source": [
    "Data formatting"
   ]
  },
  {
   "cell_type": "code",
   "execution_count": 8,
   "metadata": {
    "execution": {
     "iopub.execute_input": "2021-03-10T15:12:37.613029Z",
     "iopub.status.busy": "2021-03-10T15:12:37.612523Z",
     "iopub.status.idle": "2021-03-10T15:12:37.615478Z",
     "shell.execute_reply": "2021-03-10T15:12:37.615911Z"
    }
   },
   "outputs": [],
   "source": [
    "zipped = dict(zip(counties, doses))"
   ]
  },
  {
   "cell_type": "code",
   "execution_count": 9,
   "metadata": {
    "execution": {
     "iopub.execute_input": "2021-03-10T15:12:37.621689Z",
     "iopub.status.busy": "2021-03-10T15:12:37.621176Z",
     "iopub.status.idle": "2021-03-10T15:12:37.624840Z",
     "shell.execute_reply": "2021-03-10T15:12:37.623984Z"
    }
   },
   "outputs": [],
   "source": [
    "df = pd.Series(zipped).reset_index()"
   ]
  },
  {
   "cell_type": "code",
   "execution_count": 10,
   "metadata": {
    "execution": {
     "iopub.execute_input": "2021-03-10T15:12:37.628290Z",
     "iopub.status.busy": "2021-03-10T15:12:37.627770Z",
     "iopub.status.idle": "2021-03-10T15:12:37.630998Z",
     "shell.execute_reply": "2021-03-10T15:12:37.630627Z"
    }
   },
   "outputs": [],
   "source": [
    "df.columns = ['location','doses']"
   ]
  },
  {
   "cell_type": "markdown",
   "metadata": {},
   "source": [
    "Grab the overall California total"
   ]
  },
  {
   "cell_type": "code",
   "execution_count": 11,
   "metadata": {
    "execution": {
     "iopub.execute_input": "2021-03-10T15:12:37.634371Z",
     "iopub.status.busy": "2021-03-10T15:12:37.633836Z",
     "iopub.status.idle": "2021-03-10T15:12:37.636761Z",
     "shell.execute_reply": "2021-03-10T15:12:37.637161Z"
    }
   },
   "outputs": [],
   "source": [
    "add = {'location':'California','doses':dataJson[0]['dataValues'][2]}"
   ]
  },
  {
   "cell_type": "code",
   "execution_count": 12,
   "metadata": {
    "execution": {
     "iopub.execute_input": "2021-03-10T15:12:37.643577Z",
     "iopub.status.busy": "2021-03-10T15:12:37.643074Z",
     "iopub.status.idle": "2021-03-10T15:12:37.645875Z",
     "shell.execute_reply": "2021-03-10T15:12:37.646228Z"
    }
   },
   "outputs": [],
   "source": [
    "df = df.append(add, ignore_index=True)"
   ]
  },
  {
   "cell_type": "code",
   "execution_count": 13,
   "metadata": {
    "execution": {
     "iopub.execute_input": "2021-03-10T15:12:37.650373Z",
     "iopub.status.busy": "2021-03-10T15:12:37.649832Z",
     "iopub.status.idle": "2021-03-10T15:12:37.653048Z",
     "shell.execute_reply": "2021-03-10T15:12:37.652616Z"
    }
   },
   "outputs": [],
   "source": [
    "df = df.sort_values(by='location')"
   ]
  },
  {
   "cell_type": "code",
   "execution_count": 14,
   "metadata": {
    "execution": {
     "iopub.execute_input": "2021-03-10T15:12:37.658209Z",
     "iopub.status.busy": "2021-03-10T15:12:37.657730Z",
     "iopub.status.idle": "2021-03-10T15:12:37.660945Z",
     "shell.execute_reply": "2021-03-10T15:12:37.660493Z"
    }
   },
   "outputs": [],
   "source": [
    "df = df[df.location == 'California'].append(df[df.location != 'California']).reset_index(drop=True)"
   ]
  },
  {
   "cell_type": "code",
   "execution_count": null,
   "metadata": {},
   "outputs": [],
   "source": []
  },
  {
   "cell_type": "code",
   "execution_count": 15,
   "metadata": {
    "execution": {
     "iopub.execute_input": "2021-03-10T15:12:37.664044Z",
     "iopub.status.busy": "2021-03-10T15:12:37.663566Z",
     "iopub.status.idle": "2021-03-10T15:12:37.681864Z",
     "shell.execute_reply": "2021-03-10T15:12:37.681108Z"
    }
   },
   "outputs": [],
   "source": [
    "tz = pytz.timezone(\"America/New_York\")"
   ]
  },
  {
   "cell_type": "code",
   "execution_count": 16,
   "metadata": {
    "execution": {
     "iopub.execute_input": "2021-03-10T15:12:37.685165Z",
     "iopub.status.busy": "2021-03-10T15:12:37.684691Z",
     "iopub.status.idle": "2021-03-10T15:12:37.688086Z",
     "shell.execute_reply": "2021-03-10T15:12:37.687630Z"
    }
   },
   "outputs": [],
   "source": [
    "today = datetime.now(tz).date()"
   ]
  },
  {
   "cell_type": "code",
   "execution_count": 17,
   "metadata": {
    "execution": {
     "iopub.execute_input": "2021-03-10T15:12:37.691399Z",
     "iopub.status.busy": "2021-03-10T15:12:37.690929Z",
     "iopub.status.idle": "2021-03-10T15:12:37.694084Z",
     "shell.execute_reply": "2021-03-10T15:12:37.693701Z"
    }
   },
   "outputs": [],
   "source": [
    "data_dir = os.path.join(os.path.abspath(\"\"), \"data\")"
   ]
  },
  {
   "cell_type": "code",
   "execution_count": 18,
   "metadata": {
    "execution": {
     "iopub.execute_input": "2021-03-10T15:12:37.698324Z",
     "iopub.status.busy": "2021-03-10T15:12:37.697112Z",
     "iopub.status.idle": "2021-03-10T15:12:37.702429Z",
     "shell.execute_reply": "2021-03-10T15:12:37.702046Z"
    }
   },
   "outputs": [],
   "source": [
    "df.to_csv(os.path.join(data_dir, f\"{today}.csv\"), index=False)"
   ]
  },
  {
   "cell_type": "code",
   "execution_count": null,
   "metadata": {},
   "outputs": [],
   "source": []
  }
 ],
 "metadata": {
  "kernelspec": {
   "display_name": "Python 3",
   "language": "python",
   "name": "python3"
  },
  "language_info": {
   "codemirror_mode": {
    "name": "ipython",
    "version": 3
   },
   "file_extension": ".py",
   "mimetype": "text/x-python",
   "name": "python",
   "nbconvert_exporter": "python",
   "pygments_lexer": "ipython3",
   "version": "3.8.8"
  }
 },
 "nbformat": 4,
 "nbformat_minor": 4
}
