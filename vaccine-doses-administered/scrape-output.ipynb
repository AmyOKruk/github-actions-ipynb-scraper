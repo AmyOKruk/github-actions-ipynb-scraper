{
 "cells": [
  {
   "cell_type": "markdown",
   "metadata": {},
   "source": [
    "# California COVID vaccinations scrape"
   ]
  },
  {
   "cell_type": "markdown",
   "metadata": {},
   "source": [
    "By [Amy O'Kruk](https://twitter.com/amyokruk)"
   ]
  },
  {
   "cell_type": "markdown",
   "metadata": {},
   "source": [
    "Downloads data on vaccine doses administered by county and statewide from a Tableau-powered dashboard from the California Department of Public Health."
   ]
  },
  {
   "cell_type": "code",
   "execution_count": 1,
   "metadata": {
    "execution": {
     "iopub.execute_input": "2021-03-21T07:12:13.836338Z",
     "iopub.status.busy": "2021-03-21T07:12:13.835650Z",
     "iopub.status.idle": "2021-03-21T07:12:14.259668Z",
     "shell.execute_reply": "2021-03-21T07:12:14.259063Z"
    }
   },
   "outputs": [],
   "source": [
    "import pandas as pd\n",
    "import requests\n",
    "from bs4 import BeautifulSoup\n",
    "import json\n",
    "import re\n",
    "import time\n",
    "from time import gmtime, strftime \n",
    "import os\n",
    "import pytz\n",
    "from datetime import datetime"
   ]
  },
  {
   "cell_type": "markdown",
   "metadata": {},
   "source": [
    "Scrape the dashboard page"
   ]
  },
  {
   "cell_type": "code",
   "execution_count": 2,
   "metadata": {
    "execution": {
     "iopub.execute_input": "2021-03-21T07:12:14.266209Z",
     "iopub.status.busy": "2021-03-21T07:12:14.263192Z",
     "iopub.status.idle": "2021-03-21T07:12:14.576073Z",
     "shell.execute_reply": "2021-03-21T07:12:14.574689Z"
    }
   },
   "outputs": [],
   "source": [
    "url = \"https://public.tableau.com/interactive/views/COVID-19VaccineDashboardPublic/Vaccine?:embed=y&:showVizHome=n&:apiID=host0\"\n",
    "\n",
    "r = requests.get(url)\n",
    "soup = BeautifulSoup(r.text, \"html.parser\")"
   ]
  },
  {
   "cell_type": "code",
   "execution_count": 3,
   "metadata": {
    "execution": {
     "iopub.execute_input": "2021-03-21T07:12:14.581652Z",
     "iopub.status.busy": "2021-03-21T07:12:14.581078Z",
     "iopub.status.idle": "2021-03-21T07:12:14.584487Z",
     "shell.execute_reply": "2021-03-21T07:12:14.584979Z"
    }
   },
   "outputs": [],
   "source": [
    "tableauData = json.loads(soup.find(\"textarea\",{\"id\": \"tsConfigContainer\"}).text)"
   ]
  },
  {
   "cell_type": "markdown",
   "metadata": {},
   "source": [
    "Get the link to the Tableau data"
   ]
  },
  {
   "cell_type": "code",
   "execution_count": 4,
   "metadata": {
    "execution": {
     "iopub.execute_input": "2021-03-21T07:12:14.589602Z",
     "iopub.status.busy": "2021-03-21T07:12:14.588256Z",
     "iopub.status.idle": "2021-03-21T07:12:14.590337Z",
     "shell.execute_reply": "2021-03-21T07:12:14.590820Z"
    }
   },
   "outputs": [],
   "source": [
    "dataUrl = f'https://public.tableau.com{tableauData[\"vizql_root\"]}/bootstrapSession/sessions/{tableauData[\"sessionid\"]}'"
   ]
  },
  {
   "cell_type": "code",
   "execution_count": 5,
   "metadata": {
    "execution": {
     "iopub.execute_input": "2021-03-21T07:12:14.596943Z",
     "iopub.status.busy": "2021-03-21T07:12:14.594718Z",
     "iopub.status.idle": "2021-03-21T07:12:14.963134Z",
     "shell.execute_reply": "2021-03-21T07:12:14.962540Z"
    }
   },
   "outputs": [],
   "source": [
    "r = requests.post(dataUrl, data= {\n",
    "    \"sheet_id\": tableauData[\"sheetId\"],\n",
    "})\n",
    "\n",
    "dataReg = re.search('\\d+;({.*})\\d+;({.*})', r.text, re.MULTILINE)\n",
    "data1 = json.loads(dataReg.group(2))\n",
    "\n",
    "dataJson = data1[\"secondaryInfo\"][\"presModelMap\"][\"dataDictionary\"][\"presModelHolder\"][\"genDataDictionaryPresModel\"][\"dataSegments\"][\"0\"][\"dataColumns\"]"
   ]
  },
  {
   "cell_type": "markdown",
   "metadata": {},
   "source": [
    "Isolate what you want"
   ]
  },
  {
   "cell_type": "code",
   "execution_count": 6,
   "metadata": {
    "execution": {
     "iopub.execute_input": "2021-03-21T07:12:14.968197Z",
     "iopub.status.busy": "2021-03-21T07:12:14.966732Z",
     "iopub.status.idle": "2021-03-21T07:12:14.968846Z",
     "shell.execute_reply": "2021-03-21T07:12:14.969337Z"
    }
   },
   "outputs": [],
   "source": [
    "counties = dataJson[2]['dataValues'][:58]"
   ]
  },
  {
   "cell_type": "code",
   "execution_count": 7,
   "metadata": {
    "execution": {
     "iopub.execute_input": "2021-03-21T07:12:14.973216Z",
     "iopub.status.busy": "2021-03-21T07:12:14.972633Z",
     "iopub.status.idle": "2021-03-21T07:12:14.975196Z",
     "shell.execute_reply": "2021-03-21T07:12:14.975665Z"
    }
   },
   "outputs": [],
   "source": [
    "doses = dataJson[0]['dataValues'][3:61]"
   ]
  },
  {
   "cell_type": "markdown",
   "metadata": {},
   "source": [
    "Data formatting"
   ]
  },
  {
   "cell_type": "code",
   "execution_count": 8,
   "metadata": {
    "execution": {
     "iopub.execute_input": "2021-03-21T07:12:14.980442Z",
     "iopub.status.busy": "2021-03-21T07:12:14.978955Z",
     "iopub.status.idle": "2021-03-21T07:12:14.981082Z",
     "shell.execute_reply": "2021-03-21T07:12:14.981630Z"
    }
   },
   "outputs": [],
   "source": [
    "zipped = dict(zip(counties, doses))"
   ]
  },
  {
   "cell_type": "code",
   "execution_count": 9,
   "metadata": {
    "execution": {
     "iopub.execute_input": "2021-03-21T07:12:14.989475Z",
     "iopub.status.busy": "2021-03-21T07:12:14.987991Z",
     "iopub.status.idle": "2021-03-21T07:12:14.990117Z",
     "shell.execute_reply": "2021-03-21T07:12:14.990603Z"
    }
   },
   "outputs": [],
   "source": [
    "df = pd.Series(zipped).reset_index()"
   ]
  },
  {
   "cell_type": "code",
   "execution_count": 10,
   "metadata": {
    "execution": {
     "iopub.execute_input": "2021-03-21T07:12:14.995387Z",
     "iopub.status.busy": "2021-03-21T07:12:14.993949Z",
     "iopub.status.idle": "2021-03-21T07:12:14.996050Z",
     "shell.execute_reply": "2021-03-21T07:12:14.996537Z"
    }
   },
   "outputs": [],
   "source": [
    "df.columns = ['location','doses']"
   ]
  },
  {
   "cell_type": "markdown",
   "metadata": {},
   "source": [
    "Grab the overall California total"
   ]
  },
  {
   "cell_type": "code",
   "execution_count": 11,
   "metadata": {
    "execution": {
     "iopub.execute_input": "2021-03-21T07:12:15.000368Z",
     "iopub.status.busy": "2021-03-21T07:12:14.999763Z",
     "iopub.status.idle": "2021-03-21T07:12:15.002236Z",
     "shell.execute_reply": "2021-03-21T07:12:15.001473Z"
    }
   },
   "outputs": [],
   "source": [
    "add = {'location':'California','doses':dataJson[0]['dataValues'][2]}"
   ]
  },
  {
   "cell_type": "code",
   "execution_count": 12,
   "metadata": {
    "execution": {
     "iopub.execute_input": "2021-03-21T07:12:15.009717Z",
     "iopub.status.busy": "2021-03-21T07:12:15.008366Z",
     "iopub.status.idle": "2021-03-21T07:12:15.010416Z",
     "shell.execute_reply": "2021-03-21T07:12:15.010964Z"
    }
   },
   "outputs": [],
   "source": [
    "df = df.append(add, ignore_index=True)"
   ]
  },
  {
   "cell_type": "code",
   "execution_count": 13,
   "metadata": {
    "execution": {
     "iopub.execute_input": "2021-03-21T07:12:15.016284Z",
     "iopub.status.busy": "2021-03-21T07:12:15.014871Z",
     "iopub.status.idle": "2021-03-21T07:12:15.016922Z",
     "shell.execute_reply": "2021-03-21T07:12:15.017420Z"
    }
   },
   "outputs": [],
   "source": [
    "df = df.sort_values(by='location')"
   ]
  },
  {
   "cell_type": "code",
   "execution_count": 14,
   "metadata": {
    "execution": {
     "iopub.execute_input": "2021-03-21T07:12:15.024797Z",
     "iopub.status.busy": "2021-03-21T07:12:15.023450Z",
     "iopub.status.idle": "2021-03-21T07:12:15.025431Z",
     "shell.execute_reply": "2021-03-21T07:12:15.025911Z"
    }
   },
   "outputs": [],
   "source": [
    "df = df[df.location == 'California'].append(df[df.location != 'California']).reset_index(drop=True)"
   ]
  },
  {
   "cell_type": "code",
   "execution_count": null,
   "metadata": {},
   "outputs": [],
   "source": []
  },
  {
   "cell_type": "code",
   "execution_count": 15,
   "metadata": {
    "execution": {
     "iopub.execute_input": "2021-03-21T07:12:15.029696Z",
     "iopub.status.busy": "2021-03-21T07:12:15.029133Z",
     "iopub.status.idle": "2021-03-21T07:12:15.049296Z",
     "shell.execute_reply": "2021-03-21T07:12:15.049747Z"
    }
   },
   "outputs": [],
   "source": [
    "tz = pytz.timezone(\"America/New_York\")"
   ]
  },
  {
   "cell_type": "code",
   "execution_count": 16,
   "metadata": {
    "execution": {
     "iopub.execute_input": "2021-03-21T07:12:15.054408Z",
     "iopub.status.busy": "2021-03-21T07:12:15.053106Z",
     "iopub.status.idle": "2021-03-21T07:12:15.055139Z",
     "shell.execute_reply": "2021-03-21T07:12:15.055623Z"
    }
   },
   "outputs": [],
   "source": [
    "today = datetime.now(tz).date()"
   ]
  },
  {
   "cell_type": "code",
   "execution_count": 17,
   "metadata": {
    "execution": {
     "iopub.execute_input": "2021-03-21T07:12:15.060017Z",
     "iopub.status.busy": "2021-03-21T07:12:15.059416Z",
     "iopub.status.idle": "2021-03-21T07:12:15.061869Z",
     "shell.execute_reply": "2021-03-21T07:12:15.062319Z"
    }
   },
   "outputs": [],
   "source": [
    "data_dir = os.path.join(os.path.abspath(\"\"), \"data\")"
   ]
  },
  {
   "cell_type": "code",
   "execution_count": 18,
   "metadata": {
    "execution": {
     "iopub.execute_input": "2021-03-21T07:12:15.067199Z",
     "iopub.status.busy": "2021-03-21T07:12:15.066010Z",
     "iopub.status.idle": "2021-03-21T07:12:15.070279Z",
     "shell.execute_reply": "2021-03-21T07:12:15.070736Z"
    }
   },
   "outputs": [],
   "source": [
    "df.to_csv(os.path.join(data_dir, f\"{today}.csv\"), index=False)"
   ]
  },
  {
   "cell_type": "code",
   "execution_count": null,
   "metadata": {},
   "outputs": [],
   "source": []
  }
 ],
 "metadata": {
  "kernelspec": {
   "display_name": "Python 3",
   "language": "python",
   "name": "python3"
  },
  "language_info": {
   "codemirror_mode": {
    "name": "ipython",
    "version": 3
   },
   "file_extension": ".py",
   "mimetype": "text/x-python",
   "name": "python",
   "nbconvert_exporter": "python",
   "pygments_lexer": "ipython3",
   "version": "3.8.8"
  }
 },
 "nbformat": 4,
 "nbformat_minor": 4
}
