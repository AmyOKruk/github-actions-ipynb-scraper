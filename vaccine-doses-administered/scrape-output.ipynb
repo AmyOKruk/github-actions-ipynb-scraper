{
 "cells": [
  {
   "cell_type": "markdown",
   "metadata": {},
   "source": [
    "# California COVID vaccinations scrape"
   ]
  },
  {
   "cell_type": "markdown",
   "metadata": {},
   "source": [
    "By [Amy O'Kruk](https://twitter.com/amyokruk)"
   ]
  },
  {
   "cell_type": "markdown",
   "metadata": {},
   "source": [
    "Downloads data on vaccine doses administered by county and statewide from a Tableau-powered dashboard from the California Department of Public Health."
   ]
  },
  {
   "cell_type": "code",
   "execution_count": 1,
   "metadata": {
    "execution": {
     "iopub.execute_input": "2021-03-10T08:46:28.900818Z",
     "iopub.status.busy": "2021-03-10T08:46:28.900229Z",
     "iopub.status.idle": "2021-03-10T08:46:29.335629Z",
     "shell.execute_reply": "2021-03-10T08:46:29.334530Z"
    }
   },
   "outputs": [],
   "source": [
    "import pandas as pd\n",
    "import requests\n",
    "from bs4 import BeautifulSoup\n",
    "import json\n",
    "import re\n",
    "import time\n",
    "from time import gmtime, strftime \n",
    "import os\n",
    "import pytz\n",
    "from datetime import datetime"
   ]
  },
  {
   "cell_type": "markdown",
   "metadata": {},
   "source": [
    "Scrape the dashboard page"
   ]
  },
  {
   "cell_type": "code",
   "execution_count": 2,
   "metadata": {
    "execution": {
     "iopub.execute_input": "2021-03-10T08:46:29.339534Z",
     "iopub.status.busy": "2021-03-10T08:46:29.339028Z",
     "iopub.status.idle": "2021-03-10T08:46:29.616188Z",
     "shell.execute_reply": "2021-03-10T08:46:29.615386Z"
    }
   },
   "outputs": [],
   "source": [
    "url = \"https://public.tableau.com/interactive/views/COVID-19VaccineDashboardPublic/Vaccine?:embed=y&:showVizHome=n&:apiID=host0\"\n",
    "\n",
    "r = requests.get(url)\n",
    "soup = BeautifulSoup(r.text, \"html.parser\")"
   ]
  },
  {
   "cell_type": "code",
   "execution_count": 3,
   "metadata": {
    "execution": {
     "iopub.execute_input": "2021-03-10T08:46:29.622016Z",
     "iopub.status.busy": "2021-03-10T08:46:29.620868Z",
     "iopub.status.idle": "2021-03-10T08:46:29.622598Z",
     "shell.execute_reply": "2021-03-10T08:46:29.623026Z"
    }
   },
   "outputs": [],
   "source": [
    "tableauData = json.loads(soup.find(\"textarea\",{\"id\": \"tsConfigContainer\"}).text)"
   ]
  },
  {
   "cell_type": "markdown",
   "metadata": {},
   "source": [
    "Get the link to the Tableau data"
   ]
  },
  {
   "cell_type": "code",
   "execution_count": 4,
   "metadata": {
    "execution": {
     "iopub.execute_input": "2021-03-10T08:46:29.627188Z",
     "iopub.status.busy": "2021-03-10T08:46:29.626048Z",
     "iopub.status.idle": "2021-03-10T08:46:29.627772Z",
     "shell.execute_reply": "2021-03-10T08:46:29.628195Z"
    }
   },
   "outputs": [],
   "source": [
    "dataUrl = f'https://public.tableau.com{tableauData[\"vizql_root\"]}/bootstrapSession/sessions/{tableauData[\"sessionid\"]}'"
   ]
  },
  {
   "cell_type": "code",
   "execution_count": 5,
   "metadata": {
    "execution": {
     "iopub.execute_input": "2021-03-10T08:46:29.635197Z",
     "iopub.status.busy": "2021-03-10T08:46:29.634672Z",
     "iopub.status.idle": "2021-03-10T08:46:29.840667Z",
     "shell.execute_reply": "2021-03-10T08:46:29.839821Z"
    }
   },
   "outputs": [],
   "source": [
    "r = requests.post(dataUrl, data= {\n",
    "    \"sheet_id\": tableauData[\"sheetId\"],\n",
    "})\n",
    "\n",
    "dataReg = re.search('\\d+;({.*})\\d+;({.*})', r.text, re.MULTILINE)\n",
    "data1 = json.loads(dataReg.group(2))\n",
    "\n",
    "dataJson = data1[\"secondaryInfo\"][\"presModelMap\"][\"dataDictionary\"][\"presModelHolder\"][\"genDataDictionaryPresModel\"][\"dataSegments\"][\"0\"][\"dataColumns\"]"
   ]
  },
  {
   "cell_type": "markdown",
   "metadata": {},
   "source": [
    "Isolate what you want"
   ]
  },
  {
   "cell_type": "code",
   "execution_count": 6,
   "metadata": {
    "execution": {
     "iopub.execute_input": "2021-03-10T08:46:29.845955Z",
     "iopub.status.busy": "2021-03-10T08:46:29.844693Z",
     "iopub.status.idle": "2021-03-10T08:46:29.846585Z",
     "shell.execute_reply": "2021-03-10T08:46:29.846979Z"
    }
   },
   "outputs": [],
   "source": [
    "counties = dataJson[2]['dataValues'][:58]"
   ]
  },
  {
   "cell_type": "code",
   "execution_count": 7,
   "metadata": {
    "execution": {
     "iopub.execute_input": "2021-03-10T08:46:29.851552Z",
     "iopub.status.busy": "2021-03-10T08:46:29.850354Z",
     "iopub.status.idle": "2021-03-10T08:46:29.852214Z",
     "shell.execute_reply": "2021-03-10T08:46:29.852655Z"
    }
   },
   "outputs": [],
   "source": [
    "doses = dataJson[0]['dataValues'][3:61]"
   ]
  },
  {
   "cell_type": "markdown",
   "metadata": {},
   "source": [
    "Data formatting"
   ]
  },
  {
   "cell_type": "code",
   "execution_count": 8,
   "metadata": {
    "execution": {
     "iopub.execute_input": "2021-03-10T08:46:29.856838Z",
     "iopub.status.busy": "2021-03-10T08:46:29.855675Z",
     "iopub.status.idle": "2021-03-10T08:46:29.857508Z",
     "shell.execute_reply": "2021-03-10T08:46:29.857910Z"
    }
   },
   "outputs": [],
   "source": [
    "zipped = dict(zip(counties, doses))"
   ]
  },
  {
   "cell_type": "code",
   "execution_count": 9,
   "metadata": {
    "execution": {
     "iopub.execute_input": "2021-03-10T08:46:29.864399Z",
     "iopub.status.busy": "2021-03-10T08:46:29.863113Z",
     "iopub.status.idle": "2021-03-10T08:46:29.865008Z",
     "shell.execute_reply": "2021-03-10T08:46:29.865432Z"
    }
   },
   "outputs": [],
   "source": [
    "df = pd.Series(zipped).reset_index()"
   ]
  },
  {
   "cell_type": "code",
   "execution_count": 10,
   "metadata": {
    "execution": {
     "iopub.execute_input": "2021-03-10T08:46:29.869762Z",
     "iopub.status.busy": "2021-03-10T08:46:29.868642Z",
     "iopub.status.idle": "2021-03-10T08:46:29.870451Z",
     "shell.execute_reply": "2021-03-10T08:46:29.870880Z"
    }
   },
   "outputs": [],
   "source": [
    "df.columns = ['location','doses']"
   ]
  },
  {
   "cell_type": "markdown",
   "metadata": {},
   "source": [
    "Grab the overall California total"
   ]
  },
  {
   "cell_type": "code",
   "execution_count": 11,
   "metadata": {
    "execution": {
     "iopub.execute_input": "2021-03-10T08:46:29.875173Z",
     "iopub.status.busy": "2021-03-10T08:46:29.874054Z",
     "iopub.status.idle": "2021-03-10T08:46:29.875760Z",
     "shell.execute_reply": "2021-03-10T08:46:29.876182Z"
    }
   },
   "outputs": [],
   "source": [
    "add = {'location':'California','doses':dataJson[0]['dataValues'][2]}"
   ]
  },
  {
   "cell_type": "code",
   "execution_count": 12,
   "metadata": {
    "execution": {
     "iopub.execute_input": "2021-03-10T08:46:29.883612Z",
     "iopub.status.busy": "2021-03-10T08:46:29.882423Z",
     "iopub.status.idle": "2021-03-10T08:46:29.884205Z",
     "shell.execute_reply": "2021-03-10T08:46:29.884643Z"
    }
   },
   "outputs": [],
   "source": [
    "df = df.append(add, ignore_index=True)"
   ]
  },
  {
   "cell_type": "code",
   "execution_count": 13,
   "metadata": {
    "execution": {
     "iopub.execute_input": "2021-03-10T08:46:29.889321Z",
     "iopub.status.busy": "2021-03-10T08:46:29.888237Z",
     "iopub.status.idle": "2021-03-10T08:46:29.889895Z",
     "shell.execute_reply": "2021-03-10T08:46:29.890321Z"
    }
   },
   "outputs": [],
   "source": [
    "df = df.sort_values(by='location')"
   ]
  },
  {
   "cell_type": "code",
   "execution_count": 14,
   "metadata": {
    "execution": {
     "iopub.execute_input": "2021-03-10T08:46:29.895856Z",
     "iopub.status.busy": "2021-03-10T08:46:29.895332Z",
     "iopub.status.idle": "2021-03-10T08:46:29.897740Z",
     "shell.execute_reply": "2021-03-10T08:46:29.897308Z"
    }
   },
   "outputs": [],
   "source": [
    "df = df[df.location == 'California'].append(df[df.location != 'California']).reset_index(drop=True)"
   ]
  },
  {
   "cell_type": "code",
   "execution_count": null,
   "metadata": {},
   "outputs": [],
   "source": []
  },
  {
   "cell_type": "code",
   "execution_count": 15,
   "metadata": {
    "execution": {
     "iopub.execute_input": "2021-03-10T08:46:29.901111Z",
     "iopub.status.busy": "2021-03-10T08:46:29.900588Z",
     "iopub.status.idle": "2021-03-10T08:46:29.917104Z",
     "shell.execute_reply": "2021-03-10T08:46:29.917503Z"
    }
   },
   "outputs": [],
   "source": [
    "tz = pytz.timezone(\"America/New_York\")"
   ]
  },
  {
   "cell_type": "code",
   "execution_count": 16,
   "metadata": {
    "execution": {
     "iopub.execute_input": "2021-03-10T08:46:29.921677Z",
     "iopub.status.busy": "2021-03-10T08:46:29.920574Z",
     "iopub.status.idle": "2021-03-10T08:46:29.922286Z",
     "shell.execute_reply": "2021-03-10T08:46:29.922715Z"
    }
   },
   "outputs": [],
   "source": [
    "today = datetime.now(tz).date()"
   ]
  },
  {
   "cell_type": "code",
   "execution_count": 17,
   "metadata": {
    "execution": {
     "iopub.execute_input": "2021-03-10T08:46:29.926867Z",
     "iopub.status.busy": "2021-03-10T08:46:29.925711Z",
     "iopub.status.idle": "2021-03-10T08:46:29.928094Z",
     "shell.execute_reply": "2021-03-10T08:46:29.927659Z"
    }
   },
   "outputs": [],
   "source": [
    "data_dir = os.path.join(os.path.abspath(\"\"), \"data\")"
   ]
  },
  {
   "cell_type": "code",
   "execution_count": 18,
   "metadata": {
    "execution": {
     "iopub.execute_input": "2021-03-10T08:46:29.932410Z",
     "iopub.status.busy": "2021-03-10T08:46:29.931174Z",
     "iopub.status.idle": "2021-03-10T08:46:29.935690Z",
     "shell.execute_reply": "2021-03-10T08:46:29.935181Z"
    }
   },
   "outputs": [],
   "source": [
    "df.to_csv(os.path.join(data_dir, f\"{today}.csv\"), index=False)"
   ]
  },
  {
   "cell_type": "code",
   "execution_count": null,
   "metadata": {},
   "outputs": [],
   "source": []
  }
 ],
 "metadata": {
  "kernelspec": {
   "display_name": "Python 3",
   "language": "python",
   "name": "python3"
  },
  "language_info": {
   "codemirror_mode": {
    "name": "ipython",
    "version": 3
   },
   "file_extension": ".py",
   "mimetype": "text/x-python",
   "name": "python",
   "nbconvert_exporter": "python",
   "pygments_lexer": "ipython3",
   "version": "3.8.8"
  }
 },
 "nbformat": 4,
 "nbformat_minor": 4
}
