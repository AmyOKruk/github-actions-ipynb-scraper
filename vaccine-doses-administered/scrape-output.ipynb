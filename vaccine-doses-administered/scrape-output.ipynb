{
 "cells": [
  {
   "cell_type": "markdown",
   "metadata": {},
   "source": [
    "# California COVID vaccinations scrape"
   ]
  },
  {
   "cell_type": "markdown",
   "metadata": {},
   "source": [
    "By [Amy O'Kruk](https://twitter.com/amyokruk)"
   ]
  },
  {
   "cell_type": "markdown",
   "metadata": {},
   "source": [
    "Downloads data on vaccine doses administered by county and statewide from a Tableau-powered dashboard from the California Department of Public Health."
   ]
  },
  {
   "cell_type": "code",
   "execution_count": 1,
   "metadata": {
    "execution": {
     "iopub.execute_input": "2021-03-12T09:12:52.515774Z",
     "iopub.status.busy": "2021-03-12T09:12:52.515143Z",
     "iopub.status.idle": "2021-03-12T09:12:52.940604Z",
     "shell.execute_reply": "2021-03-12T09:12:52.939623Z"
    }
   },
   "outputs": [],
   "source": [
    "import pandas as pd\n",
    "import requests\n",
    "from bs4 import BeautifulSoup\n",
    "import json\n",
    "import re\n",
    "import time\n",
    "from time import gmtime, strftime \n",
    "import os\n",
    "import pytz\n",
    "from datetime import datetime"
   ]
  },
  {
   "cell_type": "markdown",
   "metadata": {},
   "source": [
    "Scrape the dashboard page"
   ]
  },
  {
   "cell_type": "code",
   "execution_count": 2,
   "metadata": {
    "execution": {
     "iopub.execute_input": "2021-03-12T09:12:52.951704Z",
     "iopub.status.busy": "2021-03-12T09:12:52.951169Z",
     "iopub.status.idle": "2021-03-12T09:12:53.577197Z",
     "shell.execute_reply": "2021-03-12T09:12:53.576636Z"
    }
   },
   "outputs": [],
   "source": [
    "url = \"https://public.tableau.com/interactive/views/COVID-19VaccineDashboardPublic/Vaccine?:embed=y&:showVizHome=n&:apiID=host0\"\n",
    "\n",
    "r = requests.get(url)\n",
    "soup = BeautifulSoup(r.text, \"html.parser\")"
   ]
  },
  {
   "cell_type": "code",
   "execution_count": 3,
   "metadata": {
    "execution": {
     "iopub.execute_input": "2021-03-12T09:12:53.582425Z",
     "iopub.status.busy": "2021-03-12T09:12:53.581769Z",
     "iopub.status.idle": "2021-03-12T09:12:53.585438Z",
     "shell.execute_reply": "2021-03-12T09:12:53.585002Z"
    }
   },
   "outputs": [],
   "source": [
    "tableauData = json.loads(soup.find(\"textarea\",{\"id\": \"tsConfigContainer\"}).text)"
   ]
  },
  {
   "cell_type": "markdown",
   "metadata": {},
   "source": [
    "Get the link to the Tableau data"
   ]
  },
  {
   "cell_type": "code",
   "execution_count": 4,
   "metadata": {
    "execution": {
     "iopub.execute_input": "2021-03-12T09:12:53.589839Z",
     "iopub.status.busy": "2021-03-12T09:12:53.588651Z",
     "iopub.status.idle": "2021-03-12T09:12:53.590514Z",
     "shell.execute_reply": "2021-03-12T09:12:53.590942Z"
    }
   },
   "outputs": [],
   "source": [
    "dataUrl = f'https://public.tableau.com{tableauData[\"vizql_root\"]}/bootstrapSession/sessions/{tableauData[\"sessionid\"]}'"
   ]
  },
  {
   "cell_type": "code",
   "execution_count": 5,
   "metadata": {
    "execution": {
     "iopub.execute_input": "2021-03-12T09:12:53.597446Z",
     "iopub.status.busy": "2021-03-12T09:12:53.596920Z",
     "iopub.status.idle": "2021-03-12T09:12:54.089534Z",
     "shell.execute_reply": "2021-03-12T09:12:54.088943Z"
    }
   },
   "outputs": [],
   "source": [
    "r = requests.post(dataUrl, data= {\n",
    "    \"sheet_id\": tableauData[\"sheetId\"],\n",
    "})\n",
    "\n",
    "dataReg = re.search('\\d+;({.*})\\d+;({.*})', r.text, re.MULTILINE)\n",
    "data1 = json.loads(dataReg.group(2))\n",
    "\n",
    "dataJson = data1[\"secondaryInfo\"][\"presModelMap\"][\"dataDictionary\"][\"presModelHolder\"][\"genDataDictionaryPresModel\"][\"dataSegments\"][\"0\"][\"dataColumns\"]"
   ]
  },
  {
   "cell_type": "markdown",
   "metadata": {},
   "source": [
    "Isolate what you want"
   ]
  },
  {
   "cell_type": "code",
   "execution_count": 6,
   "metadata": {
    "execution": {
     "iopub.execute_input": "2021-03-12T09:12:54.094360Z",
     "iopub.status.busy": "2021-03-12T09:12:54.093061Z",
     "iopub.status.idle": "2021-03-12T09:12:54.094954Z",
     "shell.execute_reply": "2021-03-12T09:12:54.095401Z"
    }
   },
   "outputs": [],
   "source": [
    "counties = dataJson[2]['dataValues'][:58]"
   ]
  },
  {
   "cell_type": "code",
   "execution_count": 7,
   "metadata": {
    "execution": {
     "iopub.execute_input": "2021-03-12T09:12:54.099712Z",
     "iopub.status.busy": "2021-03-12T09:12:54.098674Z",
     "iopub.status.idle": "2021-03-12T09:12:54.101026Z",
     "shell.execute_reply": "2021-03-12T09:12:54.100549Z"
    }
   },
   "outputs": [],
   "source": [
    "doses = dataJson[0]['dataValues'][3:61]"
   ]
  },
  {
   "cell_type": "markdown",
   "metadata": {},
   "source": [
    "Data formatting"
   ]
  },
  {
   "cell_type": "code",
   "execution_count": 8,
   "metadata": {
    "execution": {
     "iopub.execute_input": "2021-03-12T09:12:54.105426Z",
     "iopub.status.busy": "2021-03-12T09:12:54.104220Z",
     "iopub.status.idle": "2021-03-12T09:12:54.106050Z",
     "shell.execute_reply": "2021-03-12T09:12:54.106485Z"
    }
   },
   "outputs": [],
   "source": [
    "zipped = dict(zip(counties, doses))"
   ]
  },
  {
   "cell_type": "code",
   "execution_count": 9,
   "metadata": {
    "execution": {
     "iopub.execute_input": "2021-03-12T09:12:54.113046Z",
     "iopub.status.busy": "2021-03-12T09:12:54.111812Z",
     "iopub.status.idle": "2021-03-12T09:12:54.113643Z",
     "shell.execute_reply": "2021-03-12T09:12:54.114095Z"
    }
   },
   "outputs": [],
   "source": [
    "df = pd.Series(zipped).reset_index()"
   ]
  },
  {
   "cell_type": "code",
   "execution_count": 10,
   "metadata": {
    "execution": {
     "iopub.execute_input": "2021-03-12T09:12:54.118604Z",
     "iopub.status.busy": "2021-03-12T09:12:54.117389Z",
     "iopub.status.idle": "2021-03-12T09:12:54.119204Z",
     "shell.execute_reply": "2021-03-12T09:12:54.119629Z"
    }
   },
   "outputs": [],
   "source": [
    "df.columns = ['location','doses']"
   ]
  },
  {
   "cell_type": "markdown",
   "metadata": {},
   "source": [
    "Grab the overall California total"
   ]
  },
  {
   "cell_type": "code",
   "execution_count": 11,
   "metadata": {
    "execution": {
     "iopub.execute_input": "2021-03-12T09:12:54.124680Z",
     "iopub.status.busy": "2021-03-12T09:12:54.123615Z",
     "iopub.status.idle": "2021-03-12T09:12:54.125341Z",
     "shell.execute_reply": "2021-03-12T09:12:54.125753Z"
    }
   },
   "outputs": [],
   "source": [
    "add = {'location':'California','doses':dataJson[0]['dataValues'][2]}"
   ]
  },
  {
   "cell_type": "code",
   "execution_count": 12,
   "metadata": {
    "execution": {
     "iopub.execute_input": "2021-03-12T09:12:54.132862Z",
     "iopub.status.busy": "2021-03-12T09:12:54.131604Z",
     "iopub.status.idle": "2021-03-12T09:12:54.133477Z",
     "shell.execute_reply": "2021-03-12T09:12:54.133928Z"
    }
   },
   "outputs": [],
   "source": [
    "df = df.append(add, ignore_index=True)"
   ]
  },
  {
   "cell_type": "code",
   "execution_count": 13,
   "metadata": {
    "execution": {
     "iopub.execute_input": "2021-03-12T09:12:54.138815Z",
     "iopub.status.busy": "2021-03-12T09:12:54.137690Z",
     "iopub.status.idle": "2021-03-12T09:12:54.139411Z",
     "shell.execute_reply": "2021-03-12T09:12:54.139837Z"
    }
   },
   "outputs": [],
   "source": [
    "df = df.sort_values(by='location')"
   ]
  },
  {
   "cell_type": "code",
   "execution_count": 14,
   "metadata": {
    "execution": {
     "iopub.execute_input": "2021-03-12T09:12:54.146142Z",
     "iopub.status.busy": "2021-03-12T09:12:54.144937Z",
     "iopub.status.idle": "2021-03-12T09:12:54.146741Z",
     "shell.execute_reply": "2021-03-12T09:12:54.147167Z"
    }
   },
   "outputs": [],
   "source": [
    "df = df[df.location == 'California'].append(df[df.location != 'California']).reset_index(drop=True)"
   ]
  },
  {
   "cell_type": "code",
   "execution_count": null,
   "metadata": {},
   "outputs": [],
   "source": []
  },
  {
   "cell_type": "code",
   "execution_count": 15,
   "metadata": {
    "execution": {
     "iopub.execute_input": "2021-03-12T09:12:54.150713Z",
     "iopub.status.busy": "2021-03-12T09:12:54.150196Z",
     "iopub.status.idle": "2021-03-12T09:12:54.166922Z",
     "shell.execute_reply": "2021-03-12T09:12:54.167350Z"
    }
   },
   "outputs": [],
   "source": [
    "tz = pytz.timezone(\"America/New_York\")"
   ]
  },
  {
   "cell_type": "code",
   "execution_count": 16,
   "metadata": {
    "execution": {
     "iopub.execute_input": "2021-03-12T09:12:54.171964Z",
     "iopub.status.busy": "2021-03-12T09:12:54.170440Z",
     "iopub.status.idle": "2021-03-12T09:12:54.172589Z",
     "shell.execute_reply": "2021-03-12T09:12:54.173036Z"
    }
   },
   "outputs": [],
   "source": [
    "today = datetime.now(tz).date()"
   ]
  },
  {
   "cell_type": "code",
   "execution_count": 17,
   "metadata": {
    "execution": {
     "iopub.execute_input": "2021-03-12T09:12:54.177355Z",
     "iopub.status.busy": "2021-03-12T09:12:54.176206Z",
     "iopub.status.idle": "2021-03-12T09:12:54.177982Z",
     "shell.execute_reply": "2021-03-12T09:12:54.178419Z"
    }
   },
   "outputs": [],
   "source": [
    "data_dir = os.path.join(os.path.abspath(\"\"), \"data\")"
   ]
  },
  {
   "cell_type": "code",
   "execution_count": 18,
   "metadata": {
    "execution": {
     "iopub.execute_input": "2021-03-12T09:12:54.182615Z",
     "iopub.status.busy": "2021-03-12T09:12:54.182062Z",
     "iopub.status.idle": "2021-03-12T09:12:54.187110Z",
     "shell.execute_reply": "2021-03-12T09:12:54.186409Z"
    }
   },
   "outputs": [],
   "source": [
    "df.to_csv(os.path.join(data_dir, f\"{today}.csv\"), index=False)"
   ]
  },
  {
   "cell_type": "code",
   "execution_count": null,
   "metadata": {},
   "outputs": [],
   "source": []
  }
 ],
 "metadata": {
  "kernelspec": {
   "display_name": "Python 3",
   "language": "python",
   "name": "python3"
  },
  "language_info": {
   "codemirror_mode": {
    "name": "ipython",
    "version": 3
   },
   "file_extension": ".py",
   "mimetype": "text/x-python",
   "name": "python",
   "nbconvert_exporter": "python",
   "pygments_lexer": "ipython3",
   "version": "3.8.8"
  }
 },
 "nbformat": 4,
 "nbformat_minor": 4
}
