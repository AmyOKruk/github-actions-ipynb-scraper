{
 "cells": [
  {
   "cell_type": "markdown",
   "metadata": {},
   "source": [
    "# California COVID vaccinations scrape"
   ]
  },
  {
   "cell_type": "markdown",
   "metadata": {},
   "source": [
    "By [Amy O'Kruk](https://twitter.com/amyokruk)"
   ]
  },
  {
   "cell_type": "markdown",
   "metadata": {},
   "source": [
    "Downloads data on vaccine doses administered by county and statewide from a Tableau-powered dashboard from the California Department of Public Health."
   ]
  },
  {
   "cell_type": "code",
   "execution_count": 1,
   "metadata": {
    "execution": {
     "iopub.execute_input": "2021-03-21T21:12:00.566300Z",
     "iopub.status.busy": "2021-03-21T21:12:00.565556Z",
     "iopub.status.idle": "2021-03-21T21:12:00.993064Z",
     "shell.execute_reply": "2021-03-21T21:12:00.992425Z"
    }
   },
   "outputs": [],
   "source": [
    "import pandas as pd\n",
    "import requests\n",
    "from bs4 import BeautifulSoup\n",
    "import json\n",
    "import re\n",
    "import time\n",
    "from time import gmtime, strftime \n",
    "import os\n",
    "import pytz\n",
    "from datetime import datetime"
   ]
  },
  {
   "cell_type": "markdown",
   "metadata": {},
   "source": [
    "Scrape the dashboard page"
   ]
  },
  {
   "cell_type": "code",
   "execution_count": 2,
   "metadata": {
    "execution": {
     "iopub.execute_input": "2021-03-21T21:12:01.000111Z",
     "iopub.status.busy": "2021-03-21T21:12:00.997326Z",
     "iopub.status.idle": "2021-03-21T21:12:01.414903Z",
     "shell.execute_reply": "2021-03-21T21:12:01.414306Z"
    }
   },
   "outputs": [],
   "source": [
    "url = \"https://public.tableau.com/interactive/views/COVID-19VaccineDashboardPublic/Vaccine?:embed=y&:showVizHome=n&:apiID=host0\"\n",
    "\n",
    "r = requests.get(url)\n",
    "soup = BeautifulSoup(r.text, \"html.parser\")"
   ]
  },
  {
   "cell_type": "code",
   "execution_count": 3,
   "metadata": {
    "execution": {
     "iopub.execute_input": "2021-03-21T21:12:01.420371Z",
     "iopub.status.busy": "2021-03-21T21:12:01.419757Z",
     "iopub.status.idle": "2021-03-21T21:12:01.423924Z",
     "shell.execute_reply": "2021-03-21T21:12:01.423349Z"
    }
   },
   "outputs": [],
   "source": [
    "tableauData = json.loads(soup.find(\"textarea\",{\"id\": \"tsConfigContainer\"}).text)"
   ]
  },
  {
   "cell_type": "markdown",
   "metadata": {},
   "source": [
    "Get the link to the Tableau data"
   ]
  },
  {
   "cell_type": "code",
   "execution_count": 4,
   "metadata": {
    "execution": {
     "iopub.execute_input": "2021-03-21T21:12:01.428245Z",
     "iopub.status.busy": "2021-03-21T21:12:01.427639Z",
     "iopub.status.idle": "2021-03-21T21:12:01.431237Z",
     "shell.execute_reply": "2021-03-21T21:12:01.431802Z"
    }
   },
   "outputs": [],
   "source": [
    "dataUrl = f'https://public.tableau.com{tableauData[\"vizql_root\"]}/bootstrapSession/sessions/{tableauData[\"sessionid\"]}'"
   ]
  },
  {
   "cell_type": "code",
   "execution_count": 5,
   "metadata": {
    "execution": {
     "iopub.execute_input": "2021-03-21T21:12:01.439324Z",
     "iopub.status.busy": "2021-03-21T21:12:01.438763Z",
     "iopub.status.idle": "2021-03-21T21:12:01.731568Z",
     "shell.execute_reply": "2021-03-21T21:12:01.732133Z"
    }
   },
   "outputs": [],
   "source": [
    "r = requests.post(dataUrl, data= {\n",
    "    \"sheet_id\": tableauData[\"sheetId\"],\n",
    "})\n",
    "\n",
    "dataReg = re.search('\\d+;({.*})\\d+;({.*})', r.text, re.MULTILINE)\n",
    "data1 = json.loads(dataReg.group(2))\n",
    "\n",
    "dataJson = data1[\"secondaryInfo\"][\"presModelMap\"][\"dataDictionary\"][\"presModelHolder\"][\"genDataDictionaryPresModel\"][\"dataSegments\"][\"0\"][\"dataColumns\"]"
   ]
  },
  {
   "cell_type": "markdown",
   "metadata": {},
   "source": [
    "Isolate what you want"
   ]
  },
  {
   "cell_type": "code",
   "execution_count": 6,
   "metadata": {
    "execution": {
     "iopub.execute_input": "2021-03-21T21:12:01.736739Z",
     "iopub.status.busy": "2021-03-21T21:12:01.736144Z",
     "iopub.status.idle": "2021-03-21T21:12:01.738729Z",
     "shell.execute_reply": "2021-03-21T21:12:01.738260Z"
    }
   },
   "outputs": [],
   "source": [
    "counties = dataJson[2]['dataValues'][:58]"
   ]
  },
  {
   "cell_type": "code",
   "execution_count": 7,
   "metadata": {
    "execution": {
     "iopub.execute_input": "2021-03-21T21:12:01.742348Z",
     "iopub.status.busy": "2021-03-21T21:12:01.741221Z",
     "iopub.status.idle": "2021-03-21T21:12:01.745471Z",
     "shell.execute_reply": "2021-03-21T21:12:01.744488Z"
    }
   },
   "outputs": [],
   "source": [
    "doses = dataJson[0]['dataValues'][3:61]"
   ]
  },
  {
   "cell_type": "markdown",
   "metadata": {},
   "source": [
    "Data formatting"
   ]
  },
  {
   "cell_type": "code",
   "execution_count": 8,
   "metadata": {
    "execution": {
     "iopub.execute_input": "2021-03-21T21:12:01.749410Z",
     "iopub.status.busy": "2021-03-21T21:12:01.748880Z",
     "iopub.status.idle": "2021-03-21T21:12:01.752511Z",
     "shell.execute_reply": "2021-03-21T21:12:01.753006Z"
    }
   },
   "outputs": [],
   "source": [
    "zipped = dict(zip(counties, doses))"
   ]
  },
  {
   "cell_type": "code",
   "execution_count": 9,
   "metadata": {
    "execution": {
     "iopub.execute_input": "2021-03-21T21:12:01.760227Z",
     "iopub.status.busy": "2021-03-21T21:12:01.759602Z",
     "iopub.status.idle": "2021-03-21T21:12:01.763255Z",
     "shell.execute_reply": "2021-03-21T21:12:01.763757Z"
    }
   },
   "outputs": [],
   "source": [
    "df = pd.Series(zipped).reset_index()"
   ]
  },
  {
   "cell_type": "code",
   "execution_count": 10,
   "metadata": {
    "execution": {
     "iopub.execute_input": "2021-03-21T21:12:01.768136Z",
     "iopub.status.busy": "2021-03-21T21:12:01.767588Z",
     "iopub.status.idle": "2021-03-21T21:12:01.771153Z",
     "shell.execute_reply": "2021-03-21T21:12:01.771714Z"
    }
   },
   "outputs": [],
   "source": [
    "df.columns = ['location','doses']"
   ]
  },
  {
   "cell_type": "markdown",
   "metadata": {},
   "source": [
    "Grab the overall California total"
   ]
  },
  {
   "cell_type": "code",
   "execution_count": 11,
   "metadata": {
    "execution": {
     "iopub.execute_input": "2021-03-21T21:12:01.776267Z",
     "iopub.status.busy": "2021-03-21T21:12:01.775664Z",
     "iopub.status.idle": "2021-03-21T21:12:01.779546Z",
     "shell.execute_reply": "2021-03-21T21:12:01.779038Z"
    }
   },
   "outputs": [],
   "source": [
    "add = {'location':'California','doses':dataJson[0]['dataValues'][2]}"
   ]
  },
  {
   "cell_type": "code",
   "execution_count": 12,
   "metadata": {
    "execution": {
     "iopub.execute_input": "2021-03-21T21:12:01.787219Z",
     "iopub.status.busy": "2021-03-21T21:12:01.786610Z",
     "iopub.status.idle": "2021-03-21T21:12:01.790214Z",
     "shell.execute_reply": "2021-03-21T21:12:01.790684Z"
    }
   },
   "outputs": [],
   "source": [
    "df = df.append(add, ignore_index=True)"
   ]
  },
  {
   "cell_type": "code",
   "execution_count": 13,
   "metadata": {
    "execution": {
     "iopub.execute_input": "2021-03-21T21:12:01.795728Z",
     "iopub.status.busy": "2021-03-21T21:12:01.795131Z",
     "iopub.status.idle": "2021-03-21T21:12:01.799154Z",
     "shell.execute_reply": "2021-03-21T21:12:01.798402Z"
    }
   },
   "outputs": [],
   "source": [
    "df = df.sort_values(by='location')"
   ]
  },
  {
   "cell_type": "code",
   "execution_count": 14,
   "metadata": {
    "execution": {
     "iopub.execute_input": "2021-03-21T21:12:01.806285Z",
     "iopub.status.busy": "2021-03-21T21:12:01.805698Z",
     "iopub.status.idle": "2021-03-21T21:12:01.809542Z",
     "shell.execute_reply": "2021-03-21T21:12:01.809048Z"
    }
   },
   "outputs": [],
   "source": [
    "df = df[df.location == 'California'].append(df[df.location != 'California']).reset_index(drop=True)"
   ]
  },
  {
   "cell_type": "code",
   "execution_count": null,
   "metadata": {},
   "outputs": [],
   "source": []
  },
  {
   "cell_type": "code",
   "execution_count": 15,
   "metadata": {
    "execution": {
     "iopub.execute_input": "2021-03-21T21:12:01.813929Z",
     "iopub.status.busy": "2021-03-21T21:12:01.813082Z",
     "iopub.status.idle": "2021-03-21T21:12:01.837259Z",
     "shell.execute_reply": "2021-03-21T21:12:01.836784Z"
    }
   },
   "outputs": [],
   "source": [
    "tz = pytz.timezone(\"America/New_York\")"
   ]
  },
  {
   "cell_type": "code",
   "execution_count": 16,
   "metadata": {
    "execution": {
     "iopub.execute_input": "2021-03-21T21:12:01.841442Z",
     "iopub.status.busy": "2021-03-21T21:12:01.840701Z",
     "iopub.status.idle": "2021-03-21T21:12:01.844839Z",
     "shell.execute_reply": "2021-03-21T21:12:01.844345Z"
    }
   },
   "outputs": [],
   "source": [
    "today = datetime.now(tz).date()"
   ]
  },
  {
   "cell_type": "code",
   "execution_count": 17,
   "metadata": {
    "execution": {
     "iopub.execute_input": "2021-03-21T21:12:01.849886Z",
     "iopub.status.busy": "2021-03-21T21:12:01.848319Z",
     "iopub.status.idle": "2021-03-21T21:12:01.850628Z",
     "shell.execute_reply": "2021-03-21T21:12:01.851263Z"
    }
   },
   "outputs": [],
   "source": [
    "data_dir = os.path.join(os.path.abspath(\"\"), \"data\")"
   ]
  },
  {
   "cell_type": "code",
   "execution_count": 18,
   "metadata": {
    "execution": {
     "iopub.execute_input": "2021-03-21T21:12:01.855532Z",
     "iopub.status.busy": "2021-03-21T21:12:01.854981Z",
     "iopub.status.idle": "2021-03-21T21:12:01.860435Z",
     "shell.execute_reply": "2021-03-21T21:12:01.859633Z"
    }
   },
   "outputs": [],
   "source": [
    "df.to_csv(os.path.join(data_dir, f\"{today}.csv\"), index=False)"
   ]
  },
  {
   "cell_type": "code",
   "execution_count": null,
   "metadata": {},
   "outputs": [],
   "source": []
  }
 ],
 "metadata": {
  "kernelspec": {
   "display_name": "Python 3",
   "language": "python",
   "name": "python3"
  },
  "language_info": {
   "codemirror_mode": {
    "name": "ipython",
    "version": 3
   },
   "file_extension": ".py",
   "mimetype": "text/x-python",
   "name": "python",
   "nbconvert_exporter": "python",
   "pygments_lexer": "ipython3",
   "version": "3.8.8"
  }
 },
 "nbformat": 4,
 "nbformat_minor": 4
}
