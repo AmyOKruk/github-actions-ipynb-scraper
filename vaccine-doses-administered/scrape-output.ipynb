{
 "cells": [
  {
   "cell_type": "markdown",
   "metadata": {},
   "source": [
    "# California COVID vaccinations scrape"
   ]
  },
  {
   "cell_type": "markdown",
   "metadata": {},
   "source": [
    "By [Amy O'Kruk](https://twitter.com/amyokruk)"
   ]
  },
  {
   "cell_type": "markdown",
   "metadata": {},
   "source": [
    "Downloads data on vaccine doses administered by county and statewide from a Tableau-powered dashboard from the California Department of Public Health."
   ]
  },
  {
   "cell_type": "code",
   "execution_count": 1,
   "metadata": {
    "execution": {
     "iopub.execute_input": "2021-03-16T04:15:29.904414Z",
     "iopub.status.busy": "2021-03-16T04:15:29.903876Z",
     "iopub.status.idle": "2021-03-16T04:15:30.222328Z",
     "shell.execute_reply": "2021-03-16T04:15:30.221392Z"
    }
   },
   "outputs": [],
   "source": [
    "import pandas as pd\n",
    "import requests\n",
    "from bs4 import BeautifulSoup\n",
    "import json\n",
    "import re\n",
    "import time\n",
    "from time import gmtime, strftime \n",
    "import os\n",
    "import pytz\n",
    "from datetime import datetime"
   ]
  },
  {
   "cell_type": "markdown",
   "metadata": {},
   "source": [
    "Scrape the dashboard page"
   ]
  },
  {
   "cell_type": "code",
   "execution_count": 2,
   "metadata": {
    "execution": {
     "iopub.execute_input": "2021-03-16T04:15:30.227560Z",
     "iopub.status.busy": "2021-03-16T04:15:30.225678Z",
     "iopub.status.idle": "2021-03-16T04:15:30.717721Z",
     "shell.execute_reply": "2021-03-16T04:15:30.717199Z"
    }
   },
   "outputs": [],
   "source": [
    "url = \"https://public.tableau.com/interactive/views/COVID-19VaccineDashboardPublic/Vaccine?:embed=y&:showVizHome=n&:apiID=host0\"\n",
    "\n",
    "r = requests.get(url)\n",
    "soup = BeautifulSoup(r.text, \"html.parser\")"
   ]
  },
  {
   "cell_type": "code",
   "execution_count": 3,
   "metadata": {
    "execution": {
     "iopub.execute_input": "2021-03-16T04:15:30.721991Z",
     "iopub.status.busy": "2021-03-16T04:15:30.721483Z",
     "iopub.status.idle": "2021-03-16T04:15:30.724689Z",
     "shell.execute_reply": "2021-03-16T04:15:30.724259Z"
    }
   },
   "outputs": [],
   "source": [
    "tableauData = json.loads(soup.find(\"textarea\",{\"id\": \"tsConfigContainer\"}).text)"
   ]
  },
  {
   "cell_type": "markdown",
   "metadata": {},
   "source": [
    "Get the link to the Tableau data"
   ]
  },
  {
   "cell_type": "code",
   "execution_count": 4,
   "metadata": {
    "execution": {
     "iopub.execute_input": "2021-03-16T04:15:30.728093Z",
     "iopub.status.busy": "2021-03-16T04:15:30.727305Z",
     "iopub.status.idle": "2021-03-16T04:15:30.729314Z",
     "shell.execute_reply": "2021-03-16T04:15:30.728954Z"
    }
   },
   "outputs": [],
   "source": [
    "dataUrl = f'https://public.tableau.com{tableauData[\"vizql_root\"]}/bootstrapSession/sessions/{tableauData[\"sessionid\"]}'"
   ]
  },
  {
   "cell_type": "code",
   "execution_count": 5,
   "metadata": {
    "execution": {
     "iopub.execute_input": "2021-03-16T04:15:30.734989Z",
     "iopub.status.busy": "2021-03-16T04:15:30.734540Z",
     "iopub.status.idle": "2021-03-16T04:15:31.356703Z",
     "shell.execute_reply": "2021-03-16T04:15:31.356248Z"
    }
   },
   "outputs": [],
   "source": [
    "r = requests.post(dataUrl, data= {\n",
    "    \"sheet_id\": tableauData[\"sheetId\"],\n",
    "})\n",
    "\n",
    "dataReg = re.search('\\d+;({.*})\\d+;({.*})', r.text, re.MULTILINE)\n",
    "data1 = json.loads(dataReg.group(2))\n",
    "\n",
    "dataJson = data1[\"secondaryInfo\"][\"presModelMap\"][\"dataDictionary\"][\"presModelHolder\"][\"genDataDictionaryPresModel\"][\"dataSegments\"][\"0\"][\"dataColumns\"]"
   ]
  },
  {
   "cell_type": "markdown",
   "metadata": {},
   "source": [
    "Isolate what you want"
   ]
  },
  {
   "cell_type": "code",
   "execution_count": 6,
   "metadata": {
    "execution": {
     "iopub.execute_input": "2021-03-16T04:15:31.360526Z",
     "iopub.status.busy": "2021-03-16T04:15:31.359636Z",
     "iopub.status.idle": "2021-03-16T04:15:31.361219Z",
     "shell.execute_reply": "2021-03-16T04:15:31.361618Z"
    }
   },
   "outputs": [],
   "source": [
    "counties = dataJson[2]['dataValues'][:58]"
   ]
  },
  {
   "cell_type": "code",
   "execution_count": 7,
   "metadata": {
    "execution": {
     "iopub.execute_input": "2021-03-16T04:15:31.364331Z",
     "iopub.status.busy": "2021-03-16T04:15:31.363243Z",
     "iopub.status.idle": "2021-03-16T04:15:31.366234Z",
     "shell.execute_reply": "2021-03-16T04:15:31.365869Z"
    }
   },
   "outputs": [],
   "source": [
    "doses = dataJson[0]['dataValues'][3:61]"
   ]
  },
  {
   "cell_type": "markdown",
   "metadata": {},
   "source": [
    "Data formatting"
   ]
  },
  {
   "cell_type": "code",
   "execution_count": 8,
   "metadata": {
    "execution": {
     "iopub.execute_input": "2021-03-16T04:15:31.369556Z",
     "iopub.status.busy": "2021-03-16T04:15:31.368757Z",
     "iopub.status.idle": "2021-03-16T04:15:31.370714Z",
     "shell.execute_reply": "2021-03-16T04:15:31.370329Z"
    }
   },
   "outputs": [],
   "source": [
    "zipped = dict(zip(counties, doses))"
   ]
  },
  {
   "cell_type": "code",
   "execution_count": 9,
   "metadata": {
    "execution": {
     "iopub.execute_input": "2021-03-16T04:15:31.376275Z",
     "iopub.status.busy": "2021-03-16T04:15:31.375382Z",
     "iopub.status.idle": "2021-03-16T04:15:31.376993Z",
     "shell.execute_reply": "2021-03-16T04:15:31.377384Z"
    }
   },
   "outputs": [],
   "source": [
    "df = pd.Series(zipped).reset_index()"
   ]
  },
  {
   "cell_type": "code",
   "execution_count": 10,
   "metadata": {
    "execution": {
     "iopub.execute_input": "2021-03-16T04:15:31.381082Z",
     "iopub.status.busy": "2021-03-16T04:15:31.380320Z",
     "iopub.status.idle": "2021-03-16T04:15:31.381966Z",
     "shell.execute_reply": "2021-03-16T04:15:31.382305Z"
    }
   },
   "outputs": [],
   "source": [
    "df.columns = ['location','doses']"
   ]
  },
  {
   "cell_type": "markdown",
   "metadata": {},
   "source": [
    "Grab the overall California total"
   ]
  },
  {
   "cell_type": "code",
   "execution_count": 11,
   "metadata": {
    "execution": {
     "iopub.execute_input": "2021-03-16T04:15:31.385803Z",
     "iopub.status.busy": "2021-03-16T04:15:31.385024Z",
     "iopub.status.idle": "2021-03-16T04:15:31.386627Z",
     "shell.execute_reply": "2021-03-16T04:15:31.386991Z"
    }
   },
   "outputs": [],
   "source": [
    "add = {'location':'California','doses':dataJson[0]['dataValues'][2]}"
   ]
  },
  {
   "cell_type": "code",
   "execution_count": 12,
   "metadata": {
    "execution": {
     "iopub.execute_input": "2021-03-16T04:15:31.393070Z",
     "iopub.status.busy": "2021-03-16T04:15:31.392161Z",
     "iopub.status.idle": "2021-03-16T04:15:31.393682Z",
     "shell.execute_reply": "2021-03-16T04:15:31.394047Z"
    }
   },
   "outputs": [],
   "source": [
    "df = df.append(add, ignore_index=True)"
   ]
  },
  {
   "cell_type": "code",
   "execution_count": 13,
   "metadata": {
    "execution": {
     "iopub.execute_input": "2021-03-16T04:15:31.398083Z",
     "iopub.status.busy": "2021-03-16T04:15:31.397288Z",
     "iopub.status.idle": "2021-03-16T04:15:31.399184Z",
     "shell.execute_reply": "2021-03-16T04:15:31.398815Z"
    }
   },
   "outputs": [],
   "source": [
    "df = df.sort_values(by='location')"
   ]
  },
  {
   "cell_type": "code",
   "execution_count": 14,
   "metadata": {
    "execution": {
     "iopub.execute_input": "2021-03-16T04:15:31.404529Z",
     "iopub.status.busy": "2021-03-16T04:15:31.403757Z",
     "iopub.status.idle": "2021-03-16T04:15:31.405332Z",
     "shell.execute_reply": "2021-03-16T04:15:31.405713Z"
    }
   },
   "outputs": [],
   "source": [
    "df = df[df.location == 'California'].append(df[df.location != 'California']).reset_index(drop=True)"
   ]
  },
  {
   "cell_type": "code",
   "execution_count": null,
   "metadata": {},
   "outputs": [],
   "source": []
  },
  {
   "cell_type": "code",
   "execution_count": 15,
   "metadata": {
    "execution": {
     "iopub.execute_input": "2021-03-16T04:15:31.408606Z",
     "iopub.status.busy": "2021-03-16T04:15:31.408172Z",
     "iopub.status.idle": "2021-03-16T04:15:31.423331Z",
     "shell.execute_reply": "2021-03-16T04:15:31.422934Z"
    }
   },
   "outputs": [],
   "source": [
    "tz = pytz.timezone(\"America/New_York\")"
   ]
  },
  {
   "cell_type": "code",
   "execution_count": 16,
   "metadata": {
    "execution": {
     "iopub.execute_input": "2021-03-16T04:15:31.426912Z",
     "iopub.status.busy": "2021-03-16T04:15:31.426128Z",
     "iopub.status.idle": "2021-03-16T04:15:31.427745Z",
     "shell.execute_reply": "2021-03-16T04:15:31.428114Z"
    }
   },
   "outputs": [],
   "source": [
    "today = datetime.now(tz).date()"
   ]
  },
  {
   "cell_type": "code",
   "execution_count": 17,
   "metadata": {
    "execution": {
     "iopub.execute_input": "2021-03-16T04:15:31.431809Z",
     "iopub.status.busy": "2021-03-16T04:15:31.431024Z",
     "iopub.status.idle": "2021-03-16T04:15:31.432910Z",
     "shell.execute_reply": "2021-03-16T04:15:31.432537Z"
    }
   },
   "outputs": [],
   "source": [
    "data_dir = os.path.join(os.path.abspath(\"\"), \"data\")"
   ]
  },
  {
   "cell_type": "code",
   "execution_count": 18,
   "metadata": {
    "execution": {
     "iopub.execute_input": "2021-03-16T04:15:31.436750Z",
     "iopub.status.busy": "2021-03-16T04:15:31.435566Z",
     "iopub.status.idle": "2021-03-16T04:15:31.439681Z",
     "shell.execute_reply": "2021-03-16T04:15:31.439244Z"
    }
   },
   "outputs": [],
   "source": [
    "df.to_csv(os.path.join(data_dir, f\"{today}.csv\"), index=False)"
   ]
  },
  {
   "cell_type": "code",
   "execution_count": null,
   "metadata": {},
   "outputs": [],
   "source": []
  }
 ],
 "metadata": {
  "kernelspec": {
   "display_name": "Python 3",
   "language": "python",
   "name": "python3"
  },
  "language_info": {
   "codemirror_mode": {
    "name": "ipython",
    "version": 3
   },
   "file_extension": ".py",
   "mimetype": "text/x-python",
   "name": "python",
   "nbconvert_exporter": "python",
   "pygments_lexer": "ipython3",
   "version": "3.8.8"
  }
 },
 "nbformat": 4,
 "nbformat_minor": 4
}
