{
 "cells": [
  {
   "cell_type": "markdown",
   "metadata": {},
   "source": [
    "# California COVID vaccinations scrape"
   ]
  },
  {
   "cell_type": "markdown",
   "metadata": {},
   "source": [
    "By [Amy O'Kruk](https://twitter.com/amyokruk)"
   ]
  },
  {
   "cell_type": "markdown",
   "metadata": {},
   "source": [
    "Downloads data on vaccine doses administered by county and statewide from a Tableau-powered dashboard from the California Department of Public Health."
   ]
  },
  {
   "cell_type": "code",
   "execution_count": 1,
   "metadata": {
    "execution": {
     "iopub.execute_input": "2021-03-12T07:40:23.082658Z",
     "iopub.status.busy": "2021-03-12T07:40:23.081923Z",
     "iopub.status.idle": "2021-03-12T07:40:23.552690Z",
     "shell.execute_reply": "2021-03-12T07:40:23.551966Z"
    }
   },
   "outputs": [],
   "source": [
    "import pandas as pd\n",
    "import requests\n",
    "from bs4 import BeautifulSoup\n",
    "import json\n",
    "import re\n",
    "import time\n",
    "from time import gmtime, strftime \n",
    "import os\n",
    "import pytz\n",
    "from datetime import datetime"
   ]
  },
  {
   "cell_type": "markdown",
   "metadata": {},
   "source": [
    "Scrape the dashboard page"
   ]
  },
  {
   "cell_type": "code",
   "execution_count": 2,
   "metadata": {
    "execution": {
     "iopub.execute_input": "2021-03-12T07:40:23.560432Z",
     "iopub.status.busy": "2021-03-12T07:40:23.559539Z",
     "iopub.status.idle": "2021-03-12T07:40:23.995548Z",
     "shell.execute_reply": "2021-03-12T07:40:23.994989Z"
    }
   },
   "outputs": [],
   "source": [
    "url = \"https://public.tableau.com/interactive/views/COVID-19VaccineDashboardPublic/Vaccine?:embed=y&:showVizHome=n&:apiID=host0\"\n",
    "\n",
    "r = requests.get(url)\n",
    "soup = BeautifulSoup(r.text, \"html.parser\")"
   ]
  },
  {
   "cell_type": "code",
   "execution_count": 3,
   "metadata": {
    "execution": {
     "iopub.execute_input": "2021-03-12T07:40:24.000738Z",
     "iopub.status.busy": "2021-03-12T07:40:24.000082Z",
     "iopub.status.idle": "2021-03-12T07:40:24.004062Z",
     "shell.execute_reply": "2021-03-12T07:40:24.003562Z"
    }
   },
   "outputs": [],
   "source": [
    "tableauData = json.loads(soup.find(\"textarea\",{\"id\": \"tsConfigContainer\"}).text)"
   ]
  },
  {
   "cell_type": "markdown",
   "metadata": {},
   "source": [
    "Get the link to the Tableau data"
   ]
  },
  {
   "cell_type": "code",
   "execution_count": 4,
   "metadata": {
    "execution": {
     "iopub.execute_input": "2021-03-12T07:40:24.013409Z",
     "iopub.status.busy": "2021-03-12T07:40:24.008093Z",
     "iopub.status.idle": "2021-03-12T07:40:24.014181Z",
     "shell.execute_reply": "2021-03-12T07:40:24.014675Z"
    }
   },
   "outputs": [],
   "source": [
    "dataUrl = f'https://public.tableau.com{tableauData[\"vizql_root\"]}/bootstrapSession/sessions/{tableauData[\"sessionid\"]}'"
   ]
  },
  {
   "cell_type": "code",
   "execution_count": 5,
   "metadata": {
    "execution": {
     "iopub.execute_input": "2021-03-12T07:40:24.021805Z",
     "iopub.status.busy": "2021-03-12T07:40:24.020850Z",
     "iopub.status.idle": "2021-03-12T07:40:24.536789Z",
     "shell.execute_reply": "2021-03-12T07:40:24.536190Z"
    }
   },
   "outputs": [],
   "source": [
    "r = requests.post(dataUrl, data= {\n",
    "    \"sheet_id\": tableauData[\"sheetId\"],\n",
    "})\n",
    "\n",
    "dataReg = re.search('\\d+;({.*})\\d+;({.*})', r.text, re.MULTILINE)\n",
    "data1 = json.loads(dataReg.group(2))\n",
    "\n",
    "dataJson = data1[\"secondaryInfo\"][\"presModelMap\"][\"dataDictionary\"][\"presModelHolder\"][\"genDataDictionaryPresModel\"][\"dataSegments\"][\"0\"][\"dataColumns\"]"
   ]
  },
  {
   "cell_type": "markdown",
   "metadata": {},
   "source": [
    "Isolate what you want"
   ]
  },
  {
   "cell_type": "code",
   "execution_count": 6,
   "metadata": {
    "execution": {
     "iopub.execute_input": "2021-03-12T07:40:24.540922Z",
     "iopub.status.busy": "2021-03-12T07:40:24.540201Z",
     "iopub.status.idle": "2021-03-12T07:40:24.543858Z",
     "shell.execute_reply": "2021-03-12T07:40:24.544359Z"
    }
   },
   "outputs": [],
   "source": [
    "counties = dataJson[2]['dataValues'][:58]"
   ]
  },
  {
   "cell_type": "code",
   "execution_count": 7,
   "metadata": {
    "execution": {
     "iopub.execute_input": "2021-03-12T07:40:24.548295Z",
     "iopub.status.busy": "2021-03-12T07:40:24.547540Z",
     "iopub.status.idle": "2021-03-12T07:40:24.551450Z",
     "shell.execute_reply": "2021-03-12T07:40:24.552083Z"
    }
   },
   "outputs": [],
   "source": [
    "doses = dataJson[0]['dataValues'][3:61]"
   ]
  },
  {
   "cell_type": "markdown",
   "metadata": {},
   "source": [
    "Data formatting"
   ]
  },
  {
   "cell_type": "code",
   "execution_count": 8,
   "metadata": {
    "execution": {
     "iopub.execute_input": "2021-03-12T07:40:24.557275Z",
     "iopub.status.busy": "2021-03-12T07:40:24.555834Z",
     "iopub.status.idle": "2021-03-12T07:40:24.561211Z",
     "shell.execute_reply": "2021-03-12T07:40:24.560609Z"
    }
   },
   "outputs": [],
   "source": [
    "zipped = dict(zip(counties, doses))"
   ]
  },
  {
   "cell_type": "code",
   "execution_count": 9,
   "metadata": {
    "execution": {
     "iopub.execute_input": "2021-03-12T07:40:24.568345Z",
     "iopub.status.busy": "2021-03-12T07:40:24.567736Z",
     "iopub.status.idle": "2021-03-12T07:40:24.571577Z",
     "shell.execute_reply": "2021-03-12T07:40:24.571110Z"
    }
   },
   "outputs": [],
   "source": [
    "df = pd.Series(zipped).reset_index()"
   ]
  },
  {
   "cell_type": "code",
   "execution_count": 10,
   "metadata": {
    "execution": {
     "iopub.execute_input": "2021-03-12T07:40:24.576853Z",
     "iopub.status.busy": "2021-03-12T07:40:24.575425Z",
     "iopub.status.idle": "2021-03-12T07:40:24.577557Z",
     "shell.execute_reply": "2021-03-12T07:40:24.578137Z"
    }
   },
   "outputs": [],
   "source": [
    "df.columns = ['location','doses']"
   ]
  },
  {
   "cell_type": "markdown",
   "metadata": {},
   "source": [
    "Grab the overall California total"
   ]
  },
  {
   "cell_type": "code",
   "execution_count": 11,
   "metadata": {
    "execution": {
     "iopub.execute_input": "2021-03-12T07:40:24.583865Z",
     "iopub.status.busy": "2021-03-12T07:40:24.581978Z",
     "iopub.status.idle": "2021-03-12T07:40:24.584762Z",
     "shell.execute_reply": "2021-03-12T07:40:24.585387Z"
    }
   },
   "outputs": [],
   "source": [
    "add = {'location':'California','doses':dataJson[0]['dataValues'][2]}"
   ]
  },
  {
   "cell_type": "code",
   "execution_count": 12,
   "metadata": {
    "execution": {
     "iopub.execute_input": "2021-03-12T07:40:24.593993Z",
     "iopub.status.busy": "2021-03-12T07:40:24.592548Z",
     "iopub.status.idle": "2021-03-12T07:40:24.594670Z",
     "shell.execute_reply": "2021-03-12T07:40:24.595226Z"
    }
   },
   "outputs": [],
   "source": [
    "df = df.append(add, ignore_index=True)"
   ]
  },
  {
   "cell_type": "code",
   "execution_count": 13,
   "metadata": {
    "execution": {
     "iopub.execute_input": "2021-03-12T07:40:24.600876Z",
     "iopub.status.busy": "2021-03-12T07:40:24.599485Z",
     "iopub.status.idle": "2021-03-12T07:40:24.601523Z",
     "shell.execute_reply": "2021-03-12T07:40:24.602002Z"
    }
   },
   "outputs": [],
   "source": [
    "df = df.sort_values(by='location')"
   ]
  },
  {
   "cell_type": "code",
   "execution_count": 14,
   "metadata": {
    "execution": {
     "iopub.execute_input": "2021-03-12T07:40:24.609570Z",
     "iopub.status.busy": "2021-03-12T07:40:24.608134Z",
     "iopub.status.idle": "2021-03-12T07:40:24.610213Z",
     "shell.execute_reply": "2021-03-12T07:40:24.610695Z"
    }
   },
   "outputs": [],
   "source": [
    "df = df[df.location == 'California'].append(df[df.location != 'California']).reset_index(drop=True)"
   ]
  },
  {
   "cell_type": "code",
   "execution_count": null,
   "metadata": {},
   "outputs": [],
   "source": []
  },
  {
   "cell_type": "code",
   "execution_count": 15,
   "metadata": {
    "execution": {
     "iopub.execute_input": "2021-03-12T07:40:24.614304Z",
     "iopub.status.busy": "2021-03-12T07:40:24.613709Z",
     "iopub.status.idle": "2021-03-12T07:40:24.633602Z",
     "shell.execute_reply": "2021-03-12T07:40:24.634018Z"
    }
   },
   "outputs": [],
   "source": [
    "tz = pytz.timezone(\"America/New_York\")"
   ]
  },
  {
   "cell_type": "code",
   "execution_count": 16,
   "metadata": {
    "execution": {
     "iopub.execute_input": "2021-03-12T07:40:24.638936Z",
     "iopub.status.busy": "2021-03-12T07:40:24.637729Z",
     "iopub.status.idle": "2021-03-12T07:40:24.639623Z",
     "shell.execute_reply": "2021-03-12T07:40:24.640102Z"
    }
   },
   "outputs": [],
   "source": [
    "today = datetime.now(tz).date()"
   ]
  },
  {
   "cell_type": "code",
   "execution_count": 17,
   "metadata": {
    "execution": {
     "iopub.execute_input": "2021-03-12T07:40:24.644859Z",
     "iopub.status.busy": "2021-03-12T07:40:24.643500Z",
     "iopub.status.idle": "2021-03-12T07:40:24.645671Z",
     "shell.execute_reply": "2021-03-12T07:40:24.646118Z"
    }
   },
   "outputs": [],
   "source": [
    "data_dir = os.path.join(os.path.abspath(\"\"), \"data\")"
   ]
  },
  {
   "cell_type": "code",
   "execution_count": 18,
   "metadata": {
    "execution": {
     "iopub.execute_input": "2021-03-12T07:40:24.652464Z",
     "iopub.status.busy": "2021-03-12T07:40:24.649521Z",
     "iopub.status.idle": "2021-03-12T07:40:24.654227Z",
     "shell.execute_reply": "2021-03-12T07:40:24.654720Z"
    }
   },
   "outputs": [],
   "source": [
    "df.to_csv(os.path.join(data_dir, f\"{today}.csv\"), index=False)"
   ]
  },
  {
   "cell_type": "code",
   "execution_count": null,
   "metadata": {},
   "outputs": [],
   "source": []
  }
 ],
 "metadata": {
  "kernelspec": {
   "display_name": "Python 3",
   "language": "python",
   "name": "python3"
  },
  "language_info": {
   "codemirror_mode": {
    "name": "ipython",
    "version": 3
   },
   "file_extension": ".py",
   "mimetype": "text/x-python",
   "name": "python",
   "nbconvert_exporter": "python",
   "pygments_lexer": "ipython3",
   "version": "3.8.8"
  }
 },
 "nbformat": 4,
 "nbformat_minor": 4
}
