{
 "cells": [
  {
   "cell_type": "markdown",
   "metadata": {},
   "source": [
    "# California COVID vaccinations scrape"
   ]
  },
  {
   "cell_type": "markdown",
   "metadata": {},
   "source": [
    "By [Amy O'Kruk](https://twitter.com/amyokruk)"
   ]
  },
  {
   "cell_type": "markdown",
   "metadata": {},
   "source": [
    "Downloads data on vaccine doses administered by county and statewide from a Tableau-powered dashboard from the California Department of Public Health."
   ]
  },
  {
   "cell_type": "code",
   "execution_count": 1,
   "metadata": {
    "execution": {
     "iopub.execute_input": "2021-03-20T17:19:03.058076Z",
     "iopub.status.busy": "2021-03-20T17:19:03.053580Z",
     "iopub.status.idle": "2021-03-20T17:19:03.560884Z",
     "shell.execute_reply": "2021-03-20T17:19:03.561379Z"
    }
   },
   "outputs": [],
   "source": [
    "import pandas as pd\n",
    "import requests\n",
    "from bs4 import BeautifulSoup\n",
    "import json\n",
    "import re\n",
    "import time\n",
    "from time import gmtime, strftime \n",
    "import os\n",
    "import pytz\n",
    "from datetime import datetime"
   ]
  },
  {
   "cell_type": "markdown",
   "metadata": {},
   "source": [
    "Scrape the dashboard page"
   ]
  },
  {
   "cell_type": "code",
   "execution_count": 2,
   "metadata": {
    "execution": {
     "iopub.execute_input": "2021-03-20T17:19:03.568651Z",
     "iopub.status.busy": "2021-03-20T17:19:03.565428Z",
     "iopub.status.idle": "2021-03-20T17:19:03.962592Z",
     "shell.execute_reply": "2021-03-20T17:19:03.961556Z"
    }
   },
   "outputs": [],
   "source": [
    "url = \"https://public.tableau.com/interactive/views/COVID-19VaccineDashboardPublic/Vaccine?:embed=y&:showVizHome=n&:apiID=host0\"\n",
    "\n",
    "r = requests.get(url)\n",
    "soup = BeautifulSoup(r.text, \"html.parser\")"
   ]
  },
  {
   "cell_type": "code",
   "execution_count": 3,
   "metadata": {
    "execution": {
     "iopub.execute_input": "2021-03-20T17:19:03.968323Z",
     "iopub.status.busy": "2021-03-20T17:19:03.967668Z",
     "iopub.status.idle": "2021-03-20T17:19:03.971736Z",
     "shell.execute_reply": "2021-03-20T17:19:03.971108Z"
    }
   },
   "outputs": [],
   "source": [
    "tableauData = json.loads(soup.find(\"textarea\",{\"id\": \"tsConfigContainer\"}).text)"
   ]
  },
  {
   "cell_type": "markdown",
   "metadata": {},
   "source": [
    "Get the link to the Tableau data"
   ]
  },
  {
   "cell_type": "code",
   "execution_count": 4,
   "metadata": {
    "execution": {
     "iopub.execute_input": "2021-03-20T17:19:03.977894Z",
     "iopub.status.busy": "2021-03-20T17:19:03.976678Z",
     "iopub.status.idle": "2021-03-20T17:19:03.981454Z",
     "shell.execute_reply": "2021-03-20T17:19:03.980861Z"
    }
   },
   "outputs": [],
   "source": [
    "dataUrl = f'https://public.tableau.com{tableauData[\"vizql_root\"]}/bootstrapSession/sessions/{tableauData[\"sessionid\"]}'"
   ]
  },
  {
   "cell_type": "code",
   "execution_count": 5,
   "metadata": {
    "execution": {
     "iopub.execute_input": "2021-03-20T17:19:03.990177Z",
     "iopub.status.busy": "2021-03-20T17:19:03.989028Z",
     "iopub.status.idle": "2021-03-20T17:19:04.128588Z",
     "shell.execute_reply": "2021-03-20T17:19:04.129186Z"
    }
   },
   "outputs": [],
   "source": [
    "r = requests.post(dataUrl, data= {\n",
    "    \"sheet_id\": tableauData[\"sheetId\"],\n",
    "})\n",
    "\n",
    "dataReg = re.search('\\d+;({.*})\\d+;({.*})', r.text, re.MULTILINE)\n",
    "data1 = json.loads(dataReg.group(2))\n",
    "\n",
    "dataJson = data1[\"secondaryInfo\"][\"presModelMap\"][\"dataDictionary\"][\"presModelHolder\"][\"genDataDictionaryPresModel\"][\"dataSegments\"][\"0\"][\"dataColumns\"]"
   ]
  },
  {
   "cell_type": "markdown",
   "metadata": {},
   "source": [
    "Isolate what you want"
   ]
  },
  {
   "cell_type": "code",
   "execution_count": 6,
   "metadata": {
    "execution": {
     "iopub.execute_input": "2021-03-20T17:19:04.134383Z",
     "iopub.status.busy": "2021-03-20T17:19:04.133784Z",
     "iopub.status.idle": "2021-03-20T17:19:04.137602Z",
     "shell.execute_reply": "2021-03-20T17:19:04.138107Z"
    }
   },
   "outputs": [],
   "source": [
    "counties = dataJson[2]['dataValues'][:58]"
   ]
  },
  {
   "cell_type": "code",
   "execution_count": 7,
   "metadata": {
    "execution": {
     "iopub.execute_input": "2021-03-20T17:19:04.143013Z",
     "iopub.status.busy": "2021-03-20T17:19:04.142346Z",
     "iopub.status.idle": "2021-03-20T17:19:04.146105Z",
     "shell.execute_reply": "2021-03-20T17:19:04.146732Z"
    }
   },
   "outputs": [],
   "source": [
    "doses = dataJson[0]['dataValues'][3:61]"
   ]
  },
  {
   "cell_type": "markdown",
   "metadata": {},
   "source": [
    "Data formatting"
   ]
  },
  {
   "cell_type": "code",
   "execution_count": 8,
   "metadata": {
    "execution": {
     "iopub.execute_input": "2021-03-20T17:19:04.151497Z",
     "iopub.status.busy": "2021-03-20T17:19:04.150743Z",
     "iopub.status.idle": "2021-03-20T17:19:04.154947Z",
     "shell.execute_reply": "2021-03-20T17:19:04.154059Z"
    }
   },
   "outputs": [],
   "source": [
    "zipped = dict(zip(counties, doses))"
   ]
  },
  {
   "cell_type": "code",
   "execution_count": 9,
   "metadata": {
    "execution": {
     "iopub.execute_input": "2021-03-20T17:19:04.161607Z",
     "iopub.status.busy": "2021-03-20T17:19:04.160911Z",
     "iopub.status.idle": "2021-03-20T17:19:04.165358Z",
     "shell.execute_reply": "2021-03-20T17:19:04.164814Z"
    }
   },
   "outputs": [],
   "source": [
    "df = pd.Series(zipped).reset_index()"
   ]
  },
  {
   "cell_type": "code",
   "execution_count": 10,
   "metadata": {
    "execution": {
     "iopub.execute_input": "2021-03-20T17:19:04.169983Z",
     "iopub.status.busy": "2021-03-20T17:19:04.169384Z",
     "iopub.status.idle": "2021-03-20T17:19:04.173572Z",
     "shell.execute_reply": "2021-03-20T17:19:04.172858Z"
    }
   },
   "outputs": [],
   "source": [
    "df.columns = ['location','doses']"
   ]
  },
  {
   "cell_type": "markdown",
   "metadata": {},
   "source": [
    "Grab the overall California total"
   ]
  },
  {
   "cell_type": "code",
   "execution_count": 11,
   "metadata": {
    "execution": {
     "iopub.execute_input": "2021-03-20T17:19:04.178444Z",
     "iopub.status.busy": "2021-03-20T17:19:04.177498Z",
     "iopub.status.idle": "2021-03-20T17:19:04.181973Z",
     "shell.execute_reply": "2021-03-20T17:19:04.181434Z"
    }
   },
   "outputs": [],
   "source": [
    "add = {'location':'California','doses':dataJson[0]['dataValues'][2]}"
   ]
  },
  {
   "cell_type": "code",
   "execution_count": 12,
   "metadata": {
    "execution": {
     "iopub.execute_input": "2021-03-20T17:19:04.190023Z",
     "iopub.status.busy": "2021-03-20T17:19:04.189312Z",
     "iopub.status.idle": "2021-03-20T17:19:04.193599Z",
     "shell.execute_reply": "2021-03-20T17:19:04.192824Z"
    }
   },
   "outputs": [],
   "source": [
    "df = df.append(add, ignore_index=True)"
   ]
  },
  {
   "cell_type": "code",
   "execution_count": 13,
   "metadata": {
    "execution": {
     "iopub.execute_input": "2021-03-20T17:19:04.199266Z",
     "iopub.status.busy": "2021-03-20T17:19:04.198658Z",
     "iopub.status.idle": "2021-03-20T17:19:04.203137Z",
     "shell.execute_reply": "2021-03-20T17:19:04.202590Z"
    }
   },
   "outputs": [],
   "source": [
    "df = df.sort_values(by='location')"
   ]
  },
  {
   "cell_type": "code",
   "execution_count": 14,
   "metadata": {
    "execution": {
     "iopub.execute_input": "2021-03-20T17:19:04.209996Z",
     "iopub.status.busy": "2021-03-20T17:19:04.209390Z",
     "iopub.status.idle": "2021-03-20T17:19:04.213683Z",
     "shell.execute_reply": "2021-03-20T17:19:04.213132Z"
    }
   },
   "outputs": [],
   "source": [
    "df = df[df.location == 'California'].append(df[df.location != 'California']).reset_index(drop=True)"
   ]
  },
  {
   "cell_type": "code",
   "execution_count": null,
   "metadata": {},
   "outputs": [],
   "source": []
  },
  {
   "cell_type": "code",
   "execution_count": 15,
   "metadata": {
    "execution": {
     "iopub.execute_input": "2021-03-20T17:19:04.217866Z",
     "iopub.status.busy": "2021-03-20T17:19:04.217260Z",
     "iopub.status.idle": "2021-03-20T17:19:04.241589Z",
     "shell.execute_reply": "2021-03-20T17:19:04.240917Z"
    }
   },
   "outputs": [],
   "source": [
    "tz = pytz.timezone(\"America/New_York\")"
   ]
  },
  {
   "cell_type": "code",
   "execution_count": 16,
   "metadata": {
    "execution": {
     "iopub.execute_input": "2021-03-20T17:19:04.246290Z",
     "iopub.status.busy": "2021-03-20T17:19:04.245685Z",
     "iopub.status.idle": "2021-03-20T17:19:04.250047Z",
     "shell.execute_reply": "2021-03-20T17:19:04.249460Z"
    }
   },
   "outputs": [],
   "source": [
    "today = datetime.now(tz).date()"
   ]
  },
  {
   "cell_type": "code",
   "execution_count": 17,
   "metadata": {
    "execution": {
     "iopub.execute_input": "2021-03-20T17:19:04.255346Z",
     "iopub.status.busy": "2021-03-20T17:19:04.253896Z",
     "iopub.status.idle": "2021-03-20T17:19:04.256054Z",
     "shell.execute_reply": "2021-03-20T17:19:04.256648Z"
    }
   },
   "outputs": [],
   "source": [
    "data_dir = os.path.join(os.path.abspath(\"\"), \"data\")"
   ]
  },
  {
   "cell_type": "code",
   "execution_count": 18,
   "metadata": {
    "execution": {
     "iopub.execute_input": "2021-03-20T17:19:04.261206Z",
     "iopub.status.busy": "2021-03-20T17:19:04.260585Z",
     "iopub.status.idle": "2021-03-20T17:19:04.265883Z",
     "shell.execute_reply": "2021-03-20T17:19:04.265327Z"
    }
   },
   "outputs": [],
   "source": [
    "df.to_csv(os.path.join(data_dir, f\"{today}.csv\"), index=False)"
   ]
  },
  {
   "cell_type": "code",
   "execution_count": null,
   "metadata": {},
   "outputs": [],
   "source": []
  }
 ],
 "metadata": {
  "kernelspec": {
   "display_name": "Python 3",
   "language": "python",
   "name": "python3"
  },
  "language_info": {
   "codemirror_mode": {
    "name": "ipython",
    "version": 3
   },
   "file_extension": ".py",
   "mimetype": "text/x-python",
   "name": "python",
   "nbconvert_exporter": "python",
   "pygments_lexer": "ipython3",
   "version": "3.8.8"
  }
 },
 "nbformat": 4,
 "nbformat_minor": 4
}
