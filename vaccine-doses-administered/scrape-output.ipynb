{
 "cells": [
  {
   "cell_type": "markdown",
   "metadata": {},
   "source": [
    "# California COVID vaccinations scrape"
   ]
  },
  {
   "cell_type": "markdown",
   "metadata": {},
   "source": [
    "By [Amy O'Kruk](https://twitter.com/amyokruk)"
   ]
  },
  {
   "cell_type": "markdown",
   "metadata": {},
   "source": [
    "Downloads data on vaccine doses administered by county and statewide from a Tableau-powered dashboard from the California Department of Public Health."
   ]
  },
  {
   "cell_type": "code",
   "execution_count": 1,
   "metadata": {
    "execution": {
     "iopub.execute_input": "2021-03-12T21:11:34.958476Z",
     "iopub.status.busy": "2021-03-12T21:11:34.957837Z",
     "iopub.status.idle": "2021-03-12T21:11:35.405450Z",
     "shell.execute_reply": "2021-03-12T21:11:35.404461Z"
    }
   },
   "outputs": [],
   "source": [
    "import pandas as pd\n",
    "import requests\n",
    "from bs4 import BeautifulSoup\n",
    "import json\n",
    "import re\n",
    "import time\n",
    "from time import gmtime, strftime \n",
    "import os\n",
    "import pytz\n",
    "from datetime import datetime"
   ]
  },
  {
   "cell_type": "markdown",
   "metadata": {},
   "source": [
    "Scrape the dashboard page"
   ]
  },
  {
   "cell_type": "code",
   "execution_count": 2,
   "metadata": {
    "execution": {
     "iopub.execute_input": "2021-03-12T21:11:35.410613Z",
     "iopub.status.busy": "2021-03-12T21:11:35.409997Z",
     "iopub.status.idle": "2021-03-12T21:11:35.920812Z",
     "shell.execute_reply": "2021-03-12T21:11:35.920245Z"
    }
   },
   "outputs": [],
   "source": [
    "url = \"https://public.tableau.com/interactive/views/COVID-19VaccineDashboardPublic/Vaccine?:embed=y&:showVizHome=n&:apiID=host0\"\n",
    "\n",
    "r = requests.get(url)\n",
    "soup = BeautifulSoup(r.text, \"html.parser\")"
   ]
  },
  {
   "cell_type": "code",
   "execution_count": 3,
   "metadata": {
    "execution": {
     "iopub.execute_input": "2021-03-12T21:11:35.926332Z",
     "iopub.status.busy": "2021-03-12T21:11:35.925752Z",
     "iopub.status.idle": "2021-03-12T21:11:35.930106Z",
     "shell.execute_reply": "2021-03-12T21:11:35.929605Z"
    }
   },
   "outputs": [],
   "source": [
    "tableauData = json.loads(soup.find(\"textarea\",{\"id\": \"tsConfigContainer\"}).text)"
   ]
  },
  {
   "cell_type": "markdown",
   "metadata": {},
   "source": [
    "Get the link to the Tableau data"
   ]
  },
  {
   "cell_type": "code",
   "execution_count": 4,
   "metadata": {
    "execution": {
     "iopub.execute_input": "2021-03-12T21:11:35.933651Z",
     "iopub.status.busy": "2021-03-12T21:11:35.933150Z",
     "iopub.status.idle": "2021-03-12T21:11:35.936382Z",
     "shell.execute_reply": "2021-03-12T21:11:35.936808Z"
    }
   },
   "outputs": [],
   "source": [
    "dataUrl = f'https://public.tableau.com{tableauData[\"vizql_root\"]}/bootstrapSession/sessions/{tableauData[\"sessionid\"]}'"
   ]
  },
  {
   "cell_type": "code",
   "execution_count": 5,
   "metadata": {
    "execution": {
     "iopub.execute_input": "2021-03-12T21:11:35.944584Z",
     "iopub.status.busy": "2021-03-12T21:11:35.943772Z",
     "iopub.status.idle": "2021-03-12T21:11:36.154570Z",
     "shell.execute_reply": "2021-03-12T21:11:36.154001Z"
    }
   },
   "outputs": [],
   "source": [
    "r = requests.post(dataUrl, data= {\n",
    "    \"sheet_id\": tableauData[\"sheetId\"],\n",
    "})\n",
    "\n",
    "dataReg = re.search('\\d+;({.*})\\d+;({.*})', r.text, re.MULTILINE)\n",
    "data1 = json.loads(dataReg.group(2))\n",
    "\n",
    "dataJson = data1[\"secondaryInfo\"][\"presModelMap\"][\"dataDictionary\"][\"presModelHolder\"][\"genDataDictionaryPresModel\"][\"dataSegments\"][\"0\"][\"dataColumns\"]"
   ]
  },
  {
   "cell_type": "markdown",
   "metadata": {},
   "source": [
    "Isolate what you want"
   ]
  },
  {
   "cell_type": "code",
   "execution_count": 6,
   "metadata": {
    "execution": {
     "iopub.execute_input": "2021-03-12T21:11:36.158687Z",
     "iopub.status.busy": "2021-03-12T21:11:36.158132Z",
     "iopub.status.idle": "2021-03-12T21:11:36.162332Z",
     "shell.execute_reply": "2021-03-12T21:11:36.161742Z"
    }
   },
   "outputs": [],
   "source": [
    "counties = dataJson[2]['dataValues'][:58]"
   ]
  },
  {
   "cell_type": "code",
   "execution_count": 7,
   "metadata": {
    "execution": {
     "iopub.execute_input": "2021-03-12T21:11:36.166052Z",
     "iopub.status.busy": "2021-03-12T21:11:36.165436Z",
     "iopub.status.idle": "2021-03-12T21:11:36.169628Z",
     "shell.execute_reply": "2021-03-12T21:11:36.169129Z"
    }
   },
   "outputs": [],
   "source": [
    "doses = dataJson[0]['dataValues'][3:61]"
   ]
  },
  {
   "cell_type": "markdown",
   "metadata": {},
   "source": [
    "Data formatting"
   ]
  },
  {
   "cell_type": "code",
   "execution_count": 8,
   "metadata": {
    "execution": {
     "iopub.execute_input": "2021-03-12T21:11:36.173451Z",
     "iopub.status.busy": "2021-03-12T21:11:36.172783Z",
     "iopub.status.idle": "2021-03-12T21:11:36.177087Z",
     "shell.execute_reply": "2021-03-12T21:11:36.177692Z"
    }
   },
   "outputs": [],
   "source": [
    "zipped = dict(zip(counties, doses))"
   ]
  },
  {
   "cell_type": "code",
   "execution_count": 9,
   "metadata": {
    "execution": {
     "iopub.execute_input": "2021-03-12T21:11:36.184140Z",
     "iopub.status.busy": "2021-03-12T21:11:36.183509Z",
     "iopub.status.idle": "2021-03-12T21:11:36.187744Z",
     "shell.execute_reply": "2021-03-12T21:11:36.187164Z"
    }
   },
   "outputs": [],
   "source": [
    "df = pd.Series(zipped).reset_index()"
   ]
  },
  {
   "cell_type": "code",
   "execution_count": 10,
   "metadata": {
    "execution": {
     "iopub.execute_input": "2021-03-12T21:11:36.193326Z",
     "iopub.status.busy": "2021-03-12T21:11:36.191758Z",
     "iopub.status.idle": "2021-03-12T21:11:36.194021Z",
     "shell.execute_reply": "2021-03-12T21:11:36.194517Z"
    }
   },
   "outputs": [],
   "source": [
    "df.columns = ['location','doses']"
   ]
  },
  {
   "cell_type": "markdown",
   "metadata": {},
   "source": [
    "Grab the overall California total"
   ]
  },
  {
   "cell_type": "code",
   "execution_count": 11,
   "metadata": {
    "execution": {
     "iopub.execute_input": "2021-03-12T21:11:36.199526Z",
     "iopub.status.busy": "2021-03-12T21:11:36.198033Z",
     "iopub.status.idle": "2021-03-12T21:11:36.200194Z",
     "shell.execute_reply": "2021-03-12T21:11:36.200657Z"
    }
   },
   "outputs": [],
   "source": [
    "add = {'location':'California','doses':dataJson[0]['dataValues'][2]}"
   ]
  },
  {
   "cell_type": "code",
   "execution_count": 12,
   "metadata": {
    "execution": {
     "iopub.execute_input": "2021-03-12T21:11:36.209482Z",
     "iopub.status.busy": "2021-03-12T21:11:36.208086Z",
     "iopub.status.idle": "2021-03-12T21:11:36.210156Z",
     "shell.execute_reply": "2021-03-12T21:11:36.210676Z"
    }
   },
   "outputs": [],
   "source": [
    "df = df.append(add, ignore_index=True)"
   ]
  },
  {
   "cell_type": "code",
   "execution_count": 13,
   "metadata": {
    "execution": {
     "iopub.execute_input": "2021-03-12T21:11:36.216507Z",
     "iopub.status.busy": "2021-03-12T21:11:36.215128Z",
     "iopub.status.idle": "2021-03-12T21:11:36.217213Z",
     "shell.execute_reply": "2021-03-12T21:11:36.217835Z"
    }
   },
   "outputs": [],
   "source": [
    "df = df.sort_values(by='location')"
   ]
  },
  {
   "cell_type": "code",
   "execution_count": 14,
   "metadata": {
    "execution": {
     "iopub.execute_input": "2021-03-12T21:11:36.226935Z",
     "iopub.status.busy": "2021-03-12T21:11:36.225536Z",
     "iopub.status.idle": "2021-03-12T21:11:36.227678Z",
     "shell.execute_reply": "2021-03-12T21:11:36.228201Z"
    }
   },
   "outputs": [],
   "source": [
    "df = df[df.location == 'California'].append(df[df.location != 'California']).reset_index(drop=True)"
   ]
  },
  {
   "cell_type": "code",
   "execution_count": null,
   "metadata": {},
   "outputs": [],
   "source": []
  },
  {
   "cell_type": "code",
   "execution_count": 15,
   "metadata": {
    "execution": {
     "iopub.execute_input": "2021-03-12T21:11:36.232075Z",
     "iopub.status.busy": "2021-03-12T21:11:36.231487Z",
     "iopub.status.idle": "2021-03-12T21:11:36.251208Z",
     "shell.execute_reply": "2021-03-12T21:11:36.250679Z"
    }
   },
   "outputs": [],
   "source": [
    "tz = pytz.timezone(\"America/New_York\")"
   ]
  },
  {
   "cell_type": "code",
   "execution_count": 16,
   "metadata": {
    "execution": {
     "iopub.execute_input": "2021-03-12T21:11:36.256401Z",
     "iopub.status.busy": "2021-03-12T21:11:36.254922Z",
     "iopub.status.idle": "2021-03-12T21:11:36.257076Z",
     "shell.execute_reply": "2021-03-12T21:11:36.257577Z"
    }
   },
   "outputs": [],
   "source": [
    "today = datetime.now(tz).date()"
   ]
  },
  {
   "cell_type": "code",
   "execution_count": 17,
   "metadata": {
    "execution": {
     "iopub.execute_input": "2021-03-12T21:11:36.262533Z",
     "iopub.status.busy": "2021-03-12T21:11:36.261068Z",
     "iopub.status.idle": "2021-03-12T21:11:36.263192Z",
     "shell.execute_reply": "2021-03-12T21:11:36.263715Z"
    }
   },
   "outputs": [],
   "source": [
    "data_dir = os.path.join(os.path.abspath(\"\"), \"data\")"
   ]
  },
  {
   "cell_type": "code",
   "execution_count": 18,
   "metadata": {
    "execution": {
     "iopub.execute_input": "2021-03-12T21:11:36.267964Z",
     "iopub.status.busy": "2021-03-12T21:11:36.267153Z",
     "iopub.status.idle": "2021-03-12T21:11:36.272669Z",
     "shell.execute_reply": "2021-03-12T21:11:36.272011Z"
    }
   },
   "outputs": [],
   "source": [
    "df.to_csv(os.path.join(data_dir, f\"{today}.csv\"), index=False)"
   ]
  },
  {
   "cell_type": "code",
   "execution_count": null,
   "metadata": {},
   "outputs": [],
   "source": []
  }
 ],
 "metadata": {
  "kernelspec": {
   "display_name": "Python 3",
   "language": "python",
   "name": "python3"
  },
  "language_info": {
   "codemirror_mode": {
    "name": "ipython",
    "version": 3
   },
   "file_extension": ".py",
   "mimetype": "text/x-python",
   "name": "python",
   "nbconvert_exporter": "python",
   "pygments_lexer": "ipython3",
   "version": "3.8.8"
  }
 },
 "nbformat": 4,
 "nbformat_minor": 4
}
