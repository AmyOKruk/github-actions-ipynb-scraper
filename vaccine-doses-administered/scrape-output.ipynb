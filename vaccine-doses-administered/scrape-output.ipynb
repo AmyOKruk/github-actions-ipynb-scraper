{
 "cells": [
  {
   "cell_type": "markdown",
   "metadata": {},
   "source": [
    "# California COVID vaccinations scrape"
   ]
  },
  {
   "cell_type": "markdown",
   "metadata": {},
   "source": [
    "By [Amy O'Kruk](https://twitter.com/amyokruk)"
   ]
  },
  {
   "cell_type": "markdown",
   "metadata": {},
   "source": [
    "Downloads data on vaccine doses administered by county and statewide from a Tableau-powered dashboard from the California Department of Public Health."
   ]
  },
  {
   "cell_type": "code",
   "execution_count": 1,
   "metadata": {
    "execution": {
     "iopub.execute_input": "2021-03-21T10:48:58.438050Z",
     "iopub.status.busy": "2021-03-21T10:48:58.437382Z",
     "iopub.status.idle": "2021-03-21T10:48:58.863948Z",
     "shell.execute_reply": "2021-03-21T10:48:58.863363Z"
    }
   },
   "outputs": [],
   "source": [
    "import pandas as pd\n",
    "import requests\n",
    "from bs4 import BeautifulSoup\n",
    "import json\n",
    "import re\n",
    "import time\n",
    "from time import gmtime, strftime \n",
    "import os\n",
    "import pytz\n",
    "from datetime import datetime"
   ]
  },
  {
   "cell_type": "markdown",
   "metadata": {},
   "source": [
    "Scrape the dashboard page"
   ]
  },
  {
   "cell_type": "code",
   "execution_count": 2,
   "metadata": {
    "execution": {
     "iopub.execute_input": "2021-03-21T10:48:58.869135Z",
     "iopub.status.busy": "2021-03-21T10:48:58.867363Z",
     "iopub.status.idle": "2021-03-21T10:48:59.228447Z",
     "shell.execute_reply": "2021-03-21T10:48:59.228918Z"
    }
   },
   "outputs": [],
   "source": [
    "url = \"https://public.tableau.com/interactive/views/COVID-19VaccineDashboardPublic/Vaccine?:embed=y&:showVizHome=n&:apiID=host0\"\n",
    "\n",
    "r = requests.get(url)\n",
    "soup = BeautifulSoup(r.text, \"html.parser\")"
   ]
  },
  {
   "cell_type": "code",
   "execution_count": 3,
   "metadata": {
    "execution": {
     "iopub.execute_input": "2021-03-21T10:48:59.233898Z",
     "iopub.status.busy": "2021-03-21T10:48:59.233326Z",
     "iopub.status.idle": "2021-03-21T10:48:59.236619Z",
     "shell.execute_reply": "2021-03-21T10:48:59.237072Z"
    }
   },
   "outputs": [],
   "source": [
    "tableauData = json.loads(soup.find(\"textarea\",{\"id\": \"tsConfigContainer\"}).text)"
   ]
  },
  {
   "cell_type": "markdown",
   "metadata": {},
   "source": [
    "Get the link to the Tableau data"
   ]
  },
  {
   "cell_type": "code",
   "execution_count": 4,
   "metadata": {
    "execution": {
     "iopub.execute_input": "2021-03-21T10:48:59.241626Z",
     "iopub.status.busy": "2021-03-21T10:48:59.240322Z",
     "iopub.status.idle": "2021-03-21T10:48:59.242253Z",
     "shell.execute_reply": "2021-03-21T10:48:59.242732Z"
    }
   },
   "outputs": [],
   "source": [
    "dataUrl = f'https://public.tableau.com{tableauData[\"vizql_root\"]}/bootstrapSession/sessions/{tableauData[\"sessionid\"]}'"
   ]
  },
  {
   "cell_type": "code",
   "execution_count": 5,
   "metadata": {
    "execution": {
     "iopub.execute_input": "2021-03-21T10:48:59.250247Z",
     "iopub.status.busy": "2021-03-21T10:48:59.249654Z",
     "iopub.status.idle": "2021-03-21T10:48:59.613947Z",
     "shell.execute_reply": "2021-03-21T10:48:59.613428Z"
    }
   },
   "outputs": [],
   "source": [
    "r = requests.post(dataUrl, data= {\n",
    "    \"sheet_id\": tableauData[\"sheetId\"],\n",
    "})\n",
    "\n",
    "dataReg = re.search('\\d+;({.*})\\d+;({.*})', r.text, re.MULTILINE)\n",
    "data1 = json.loads(dataReg.group(2))\n",
    "\n",
    "dataJson = data1[\"secondaryInfo\"][\"presModelMap\"][\"dataDictionary\"][\"presModelHolder\"][\"genDataDictionaryPresModel\"][\"dataSegments\"][\"0\"][\"dataColumns\"]"
   ]
  },
  {
   "cell_type": "markdown",
   "metadata": {},
   "source": [
    "Isolate what you want"
   ]
  },
  {
   "cell_type": "code",
   "execution_count": 6,
   "metadata": {
    "execution": {
     "iopub.execute_input": "2021-03-21T10:48:59.618743Z",
     "iopub.status.busy": "2021-03-21T10:48:59.617383Z",
     "iopub.status.idle": "2021-03-21T10:48:59.619373Z",
     "shell.execute_reply": "2021-03-21T10:48:59.619856Z"
    }
   },
   "outputs": [],
   "source": [
    "counties = dataJson[2]['dataValues'][:58]"
   ]
  },
  {
   "cell_type": "code",
   "execution_count": 7,
   "metadata": {
    "execution": {
     "iopub.execute_input": "2021-03-21T10:48:59.624625Z",
     "iopub.status.busy": "2021-03-21T10:48:59.623261Z",
     "iopub.status.idle": "2021-03-21T10:48:59.625254Z",
     "shell.execute_reply": "2021-03-21T10:48:59.625731Z"
    }
   },
   "outputs": [],
   "source": [
    "doses = dataJson[0]['dataValues'][3:61]"
   ]
  },
  {
   "cell_type": "markdown",
   "metadata": {},
   "source": [
    "Data formatting"
   ]
  },
  {
   "cell_type": "code",
   "execution_count": 8,
   "metadata": {
    "execution": {
     "iopub.execute_input": "2021-03-21T10:48:59.630348Z",
     "iopub.status.busy": "2021-03-21T10:48:59.628927Z",
     "iopub.status.idle": "2021-03-21T10:48:59.630984Z",
     "shell.execute_reply": "2021-03-21T10:48:59.631463Z"
    }
   },
   "outputs": [],
   "source": [
    "zipped = dict(zip(counties, doses))"
   ]
  },
  {
   "cell_type": "code",
   "execution_count": 9,
   "metadata": {
    "execution": {
     "iopub.execute_input": "2021-03-21T10:48:59.638317Z",
     "iopub.status.busy": "2021-03-21T10:48:59.636836Z",
     "iopub.status.idle": "2021-03-21T10:48:59.638947Z",
     "shell.execute_reply": "2021-03-21T10:48:59.639427Z"
    }
   },
   "outputs": [],
   "source": [
    "df = pd.Series(zipped).reset_index()"
   ]
  },
  {
   "cell_type": "code",
   "execution_count": 10,
   "metadata": {
    "execution": {
     "iopub.execute_input": "2021-03-21T10:48:59.644176Z",
     "iopub.status.busy": "2021-03-21T10:48:59.642763Z",
     "iopub.status.idle": "2021-03-21T10:48:59.644839Z",
     "shell.execute_reply": "2021-03-21T10:48:59.645319Z"
    }
   },
   "outputs": [],
   "source": [
    "df.columns = ['location','doses']"
   ]
  },
  {
   "cell_type": "markdown",
   "metadata": {},
   "source": [
    "Grab the overall California total"
   ]
  },
  {
   "cell_type": "code",
   "execution_count": 11,
   "metadata": {
    "execution": {
     "iopub.execute_input": "2021-03-21T10:48:59.650016Z",
     "iopub.status.busy": "2021-03-21T10:48:59.648638Z",
     "iopub.status.idle": "2021-03-21T10:48:59.650645Z",
     "shell.execute_reply": "2021-03-21T10:48:59.651123Z"
    }
   },
   "outputs": [],
   "source": [
    "add = {'location':'California','doses':dataJson[0]['dataValues'][2]}"
   ]
  },
  {
   "cell_type": "code",
   "execution_count": 12,
   "metadata": {
    "execution": {
     "iopub.execute_input": "2021-03-21T10:48:59.657730Z",
     "iopub.status.busy": "2021-03-21T10:48:59.657136Z",
     "iopub.status.idle": "2021-03-21T10:48:59.659924Z",
     "shell.execute_reply": "2021-03-21T10:48:59.659451Z"
    }
   },
   "outputs": [],
   "source": [
    "df = df.append(add, ignore_index=True)"
   ]
  },
  {
   "cell_type": "code",
   "execution_count": 13,
   "metadata": {
    "execution": {
     "iopub.execute_input": "2021-03-21T10:48:59.665239Z",
     "iopub.status.busy": "2021-03-21T10:48:59.663804Z",
     "iopub.status.idle": "2021-03-21T10:48:59.665880Z",
     "shell.execute_reply": "2021-03-21T10:48:59.666360Z"
    }
   },
   "outputs": [],
   "source": [
    "df = df.sort_values(by='location')"
   ]
  },
  {
   "cell_type": "code",
   "execution_count": 14,
   "metadata": {
    "execution": {
     "iopub.execute_input": "2021-03-21T10:48:59.673530Z",
     "iopub.status.busy": "2021-03-21T10:48:59.672171Z",
     "iopub.status.idle": "2021-03-21T10:48:59.674157Z",
     "shell.execute_reply": "2021-03-21T10:48:59.674634Z"
    }
   },
   "outputs": [],
   "source": [
    "df = df[df.location == 'California'].append(df[df.location != 'California']).reset_index(drop=True)"
   ]
  },
  {
   "cell_type": "code",
   "execution_count": null,
   "metadata": {},
   "outputs": [],
   "source": []
  },
  {
   "cell_type": "code",
   "execution_count": 15,
   "metadata": {
    "execution": {
     "iopub.execute_input": "2021-03-21T10:48:59.678152Z",
     "iopub.status.busy": "2021-03-21T10:48:59.677586Z",
     "iopub.status.idle": "2021-03-21T10:48:59.696746Z",
     "shell.execute_reply": "2021-03-21T10:48:59.697210Z"
    }
   },
   "outputs": [],
   "source": [
    "tz = pytz.timezone(\"America/New_York\")"
   ]
  },
  {
   "cell_type": "code",
   "execution_count": 16,
   "metadata": {
    "execution": {
     "iopub.execute_input": "2021-03-21T10:48:59.701872Z",
     "iopub.status.busy": "2021-03-21T10:48:59.700446Z",
     "iopub.status.idle": "2021-03-21T10:48:59.702506Z",
     "shell.execute_reply": "2021-03-21T10:48:59.702998Z"
    }
   },
   "outputs": [],
   "source": [
    "today = datetime.now(tz).date()"
   ]
  },
  {
   "cell_type": "code",
   "execution_count": 17,
   "metadata": {
    "execution": {
     "iopub.execute_input": "2021-03-21T10:48:59.707761Z",
     "iopub.status.busy": "2021-03-21T10:48:59.706355Z",
     "iopub.status.idle": "2021-03-21T10:48:59.708425Z",
     "shell.execute_reply": "2021-03-21T10:48:59.708908Z"
    }
   },
   "outputs": [],
   "source": [
    "data_dir = os.path.join(os.path.abspath(\"\"), \"data\")"
   ]
  },
  {
   "cell_type": "code",
   "execution_count": 18,
   "metadata": {
    "execution": {
     "iopub.execute_input": "2021-03-21T10:48:59.713226Z",
     "iopub.status.busy": "2021-03-21T10:48:59.712146Z",
     "iopub.status.idle": "2021-03-21T10:48:59.718628Z",
     "shell.execute_reply": "2021-03-21T10:48:59.718096Z"
    }
   },
   "outputs": [],
   "source": [
    "df.to_csv(os.path.join(data_dir, f\"{today}.csv\"), index=False)"
   ]
  },
  {
   "cell_type": "code",
   "execution_count": null,
   "metadata": {},
   "outputs": [],
   "source": []
  }
 ],
 "metadata": {
  "kernelspec": {
   "display_name": "Python 3",
   "language": "python",
   "name": "python3"
  },
  "language_info": {
   "codemirror_mode": {
    "name": "ipython",
    "version": 3
   },
   "file_extension": ".py",
   "mimetype": "text/x-python",
   "name": "python",
   "nbconvert_exporter": "python",
   "pygments_lexer": "ipython3",
   "version": "3.8.8"
  }
 },
 "nbformat": 4,
 "nbformat_minor": 4
}
