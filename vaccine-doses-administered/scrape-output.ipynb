{
 "cells": [
  {
   "cell_type": "markdown",
   "metadata": {},
   "source": [
    "# California COVID vaccinations scrape"
   ]
  },
  {
   "cell_type": "markdown",
   "metadata": {},
   "source": [
    "By [Amy O'Kruk](https://twitter.com/amyokruk)"
   ]
  },
  {
   "cell_type": "markdown",
   "metadata": {},
   "source": [
    "Downloads data on vaccine doses administered by county and statewide from a Tableau-powered dashboard from the California Department of Public Health."
   ]
  },
  {
   "cell_type": "code",
   "execution_count": 1,
   "metadata": {
    "execution": {
     "iopub.execute_input": "2021-03-12T19:16:53.853275Z",
     "iopub.status.busy": "2021-03-12T19:16:53.852422Z",
     "iopub.status.idle": "2021-03-12T19:16:54.251978Z",
     "shell.execute_reply": "2021-03-12T19:16:54.251153Z"
    }
   },
   "outputs": [],
   "source": [
    "import pandas as pd\n",
    "import requests\n",
    "from bs4 import BeautifulSoup\n",
    "import json\n",
    "import re\n",
    "import time\n",
    "from time import gmtime, strftime \n",
    "import os\n",
    "import pytz\n",
    "from datetime import datetime"
   ]
  },
  {
   "cell_type": "markdown",
   "metadata": {},
   "source": [
    "Scrape the dashboard page"
   ]
  },
  {
   "cell_type": "code",
   "execution_count": 2,
   "metadata": {
    "execution": {
     "iopub.execute_input": "2021-03-12T19:16:54.259250Z",
     "iopub.status.busy": "2021-03-12T19:16:54.255961Z",
     "iopub.status.idle": "2021-03-12T19:16:54.693966Z",
     "shell.execute_reply": "2021-03-12T19:16:54.693361Z"
    }
   },
   "outputs": [],
   "source": [
    "url = \"https://public.tableau.com/interactive/views/COVID-19VaccineDashboardPublic/Vaccine?:embed=y&:showVizHome=n&:apiID=host0\"\n",
    "\n",
    "r = requests.get(url)\n",
    "soup = BeautifulSoup(r.text, \"html.parser\")"
   ]
  },
  {
   "cell_type": "code",
   "execution_count": 3,
   "metadata": {
    "execution": {
     "iopub.execute_input": "2021-03-12T19:16:54.698518Z",
     "iopub.status.busy": "2021-03-12T19:16:54.698046Z",
     "iopub.status.idle": "2021-03-12T19:16:54.701623Z",
     "shell.execute_reply": "2021-03-12T19:16:54.701222Z"
    }
   },
   "outputs": [],
   "source": [
    "tableauData = json.loads(soup.find(\"textarea\",{\"id\": \"tsConfigContainer\"}).text)"
   ]
  },
  {
   "cell_type": "markdown",
   "metadata": {},
   "source": [
    "Get the link to the Tableau data"
   ]
  },
  {
   "cell_type": "code",
   "execution_count": 4,
   "metadata": {
    "execution": {
     "iopub.execute_input": "2021-03-12T19:16:54.706594Z",
     "iopub.status.busy": "2021-03-12T19:16:54.705169Z",
     "iopub.status.idle": "2021-03-12T19:16:54.707278Z",
     "shell.execute_reply": "2021-03-12T19:16:54.707776Z"
    }
   },
   "outputs": [],
   "source": [
    "dataUrl = f'https://public.tableau.com{tableauData[\"vizql_root\"]}/bootstrapSession/sessions/{tableauData[\"sessionid\"]}'"
   ]
  },
  {
   "cell_type": "code",
   "execution_count": 5,
   "metadata": {
    "execution": {
     "iopub.execute_input": "2021-03-12T19:16:54.715411Z",
     "iopub.status.busy": "2021-03-12T19:16:54.714589Z",
     "iopub.status.idle": "2021-03-12T19:16:54.932205Z",
     "shell.execute_reply": "2021-03-12T19:16:54.931762Z"
    }
   },
   "outputs": [],
   "source": [
    "r = requests.post(dataUrl, data= {\n",
    "    \"sheet_id\": tableauData[\"sheetId\"],\n",
    "})\n",
    "\n",
    "dataReg = re.search('\\d+;({.*})\\d+;({.*})', r.text, re.MULTILINE)\n",
    "data1 = json.loads(dataReg.group(2))\n",
    "\n",
    "dataJson = data1[\"secondaryInfo\"][\"presModelMap\"][\"dataDictionary\"][\"presModelHolder\"][\"genDataDictionaryPresModel\"][\"dataSegments\"][\"0\"][\"dataColumns\"]"
   ]
  },
  {
   "cell_type": "markdown",
   "metadata": {},
   "source": [
    "Isolate what you want"
   ]
  },
  {
   "cell_type": "code",
   "execution_count": 6,
   "metadata": {
    "execution": {
     "iopub.execute_input": "2021-03-12T19:16:54.940961Z",
     "iopub.status.busy": "2021-03-12T19:16:54.939813Z",
     "iopub.status.idle": "2021-03-12T19:16:54.941560Z",
     "shell.execute_reply": "2021-03-12T19:16:54.942019Z"
    }
   },
   "outputs": [],
   "source": [
    "counties = dataJson[2]['dataValues'][:58]"
   ]
  },
  {
   "cell_type": "code",
   "execution_count": 7,
   "metadata": {
    "execution": {
     "iopub.execute_input": "2021-03-12T19:16:54.947184Z",
     "iopub.status.busy": "2021-03-12T19:16:54.945739Z",
     "iopub.status.idle": "2021-03-12T19:16:54.948622Z",
     "shell.execute_reply": "2021-03-12T19:16:54.949439Z"
    }
   },
   "outputs": [],
   "source": [
    "doses = dataJson[0]['dataValues'][3:61]"
   ]
  },
  {
   "cell_type": "markdown",
   "metadata": {},
   "source": [
    "Data formatting"
   ]
  },
  {
   "cell_type": "code",
   "execution_count": 8,
   "metadata": {
    "execution": {
     "iopub.execute_input": "2021-03-12T19:16:54.954840Z",
     "iopub.status.busy": "2021-03-12T19:16:54.954227Z",
     "iopub.status.idle": "2021-03-12T19:16:54.957212Z",
     "shell.execute_reply": "2021-03-12T19:16:54.956478Z"
    }
   },
   "outputs": [],
   "source": [
    "zipped = dict(zip(counties, doses))"
   ]
  },
  {
   "cell_type": "code",
   "execution_count": 9,
   "metadata": {
    "execution": {
     "iopub.execute_input": "2021-03-12T19:16:54.964479Z",
     "iopub.status.busy": "2021-03-12T19:16:54.962981Z",
     "iopub.status.idle": "2021-03-12T19:16:54.965732Z",
     "shell.execute_reply": "2021-03-12T19:16:54.966233Z"
    }
   },
   "outputs": [],
   "source": [
    "df = pd.Series(zipped).reset_index()"
   ]
  },
  {
   "cell_type": "code",
   "execution_count": 10,
   "metadata": {
    "execution": {
     "iopub.execute_input": "2021-03-12T19:16:54.972116Z",
     "iopub.status.busy": "2021-03-12T19:16:54.971269Z",
     "iopub.status.idle": "2021-03-12T19:16:54.974344Z",
     "shell.execute_reply": "2021-03-12T19:16:54.975205Z"
    }
   },
   "outputs": [],
   "source": [
    "df.columns = ['location','doses']"
   ]
  },
  {
   "cell_type": "markdown",
   "metadata": {},
   "source": [
    "Grab the overall California total"
   ]
  },
  {
   "cell_type": "code",
   "execution_count": 11,
   "metadata": {
    "execution": {
     "iopub.execute_input": "2021-03-12T19:16:54.985228Z",
     "iopub.status.busy": "2021-03-12T19:16:54.982894Z",
     "iopub.status.idle": "2021-03-12T19:16:54.987187Z",
     "shell.execute_reply": "2021-03-12T19:16:54.986214Z"
    }
   },
   "outputs": [],
   "source": [
    "add = {'location':'California','doses':dataJson[0]['dataValues'][2]}"
   ]
  },
  {
   "cell_type": "code",
   "execution_count": 12,
   "metadata": {
    "execution": {
     "iopub.execute_input": "2021-03-12T19:16:54.995222Z",
     "iopub.status.busy": "2021-03-12T19:16:54.993850Z",
     "iopub.status.idle": "2021-03-12T19:16:54.998593Z",
     "shell.execute_reply": "2021-03-12T19:16:54.997924Z"
    }
   },
   "outputs": [],
   "source": [
    "df = df.append(add, ignore_index=True)"
   ]
  },
  {
   "cell_type": "code",
   "execution_count": 13,
   "metadata": {
    "execution": {
     "iopub.execute_input": "2021-03-12T19:16:55.004173Z",
     "iopub.status.busy": "2021-03-12T19:16:55.002686Z",
     "iopub.status.idle": "2021-03-12T19:16:55.005351Z",
     "shell.execute_reply": "2021-03-12T19:16:55.006177Z"
    }
   },
   "outputs": [],
   "source": [
    "df = df.sort_values(by='location')"
   ]
  },
  {
   "cell_type": "code",
   "execution_count": 14,
   "metadata": {
    "execution": {
     "iopub.execute_input": "2021-03-12T19:16:55.013340Z",
     "iopub.status.busy": "2021-03-12T19:16:55.011873Z",
     "iopub.status.idle": "2021-03-12T19:16:55.014298Z",
     "shell.execute_reply": "2021-03-12T19:16:55.015144Z"
    }
   },
   "outputs": [],
   "source": [
    "df = df[df.location == 'California'].append(df[df.location != 'California']).reset_index(drop=True)"
   ]
  },
  {
   "cell_type": "code",
   "execution_count": null,
   "metadata": {},
   "outputs": [],
   "source": []
  },
  {
   "cell_type": "code",
   "execution_count": 15,
   "metadata": {
    "execution": {
     "iopub.execute_input": "2021-03-12T19:16:55.022431Z",
     "iopub.status.busy": "2021-03-12T19:16:55.020548Z",
     "iopub.status.idle": "2021-03-12T19:16:55.040893Z",
     "shell.execute_reply": "2021-03-12T19:16:55.040265Z"
    }
   },
   "outputs": [],
   "source": [
    "tz = pytz.timezone(\"America/New_York\")"
   ]
  },
  {
   "cell_type": "code",
   "execution_count": 16,
   "metadata": {
    "execution": {
     "iopub.execute_input": "2021-03-12T19:16:55.047519Z",
     "iopub.status.busy": "2021-03-12T19:16:55.045437Z",
     "iopub.status.idle": "2021-03-12T19:16:55.048635Z",
     "shell.execute_reply": "2021-03-12T19:16:55.049385Z"
    }
   },
   "outputs": [],
   "source": [
    "today = datetime.now(tz).date()"
   ]
  },
  {
   "cell_type": "code",
   "execution_count": 17,
   "metadata": {
    "execution": {
     "iopub.execute_input": "2021-03-12T19:16:55.056026Z",
     "iopub.status.busy": "2021-03-12T19:16:55.055107Z",
     "iopub.status.idle": "2021-03-12T19:16:55.061966Z",
     "shell.execute_reply": "2021-03-12T19:16:55.061049Z"
    }
   },
   "outputs": [],
   "source": [
    "data_dir = os.path.join(os.path.abspath(\"\"), \"data\")"
   ]
  },
  {
   "cell_type": "code",
   "execution_count": 18,
   "metadata": {
    "execution": {
     "iopub.execute_input": "2021-03-12T19:16:55.067128Z",
     "iopub.status.busy": "2021-03-12T19:16:55.065468Z",
     "iopub.status.idle": "2021-03-12T19:16:55.076615Z",
     "shell.execute_reply": "2021-03-12T19:16:55.075353Z"
    }
   },
   "outputs": [],
   "source": [
    "df.to_csv(os.path.join(data_dir, f\"{today}.csv\"), index=False)"
   ]
  },
  {
   "cell_type": "code",
   "execution_count": null,
   "metadata": {},
   "outputs": [],
   "source": []
  }
 ],
 "metadata": {
  "kernelspec": {
   "display_name": "Python 3",
   "language": "python",
   "name": "python3"
  },
  "language_info": {
   "codemirror_mode": {
    "name": "ipython",
    "version": 3
   },
   "file_extension": ".py",
   "mimetype": "text/x-python",
   "name": "python",
   "nbconvert_exporter": "python",
   "pygments_lexer": "ipython3",
   "version": "3.8.8"
  }
 },
 "nbformat": 4,
 "nbformat_minor": 4
}
