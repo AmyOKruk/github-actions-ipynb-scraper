{
 "cells": [
  {
   "cell_type": "markdown",
   "metadata": {},
   "source": [
    "# California COVID vaccinations scrape"
   ]
  },
  {
   "cell_type": "markdown",
   "metadata": {},
   "source": [
    "By [Amy O'Kruk](https://twitter.com/amyokruk)"
   ]
  },
  {
   "cell_type": "markdown",
   "metadata": {},
   "source": [
    "Downloads data on vaccine doses administered by county and statewide from a Tableau-powered dashboard from the California Department of Public Health."
   ]
  },
  {
   "cell_type": "code",
   "execution_count": 1,
   "metadata": {
    "execution": {
     "iopub.execute_input": "2021-03-18T14:41:17.338991Z",
     "iopub.status.busy": "2021-03-18T14:41:17.338275Z",
     "iopub.status.idle": "2021-03-18T14:41:17.782480Z",
     "shell.execute_reply": "2021-03-18T14:41:17.781645Z"
    }
   },
   "outputs": [],
   "source": [
    "import pandas as pd\n",
    "import requests\n",
    "from bs4 import BeautifulSoup\n",
    "import json\n",
    "import re\n",
    "import time\n",
    "from time import gmtime, strftime \n",
    "import os\n",
    "import pytz\n",
    "from datetime import datetime"
   ]
  },
  {
   "cell_type": "markdown",
   "metadata": {},
   "source": [
    "Scrape the dashboard page"
   ]
  },
  {
   "cell_type": "code",
   "execution_count": 2,
   "metadata": {
    "execution": {
     "iopub.execute_input": "2021-03-18T14:41:17.789261Z",
     "iopub.status.busy": "2021-03-18T14:41:17.788724Z",
     "iopub.status.idle": "2021-03-18T14:41:18.111063Z",
     "shell.execute_reply": "2021-03-18T14:41:18.110512Z"
    }
   },
   "outputs": [],
   "source": [
    "url = \"https://public.tableau.com/interactive/views/COVID-19VaccineDashboardPublic/Vaccine?:embed=y&:showVizHome=n&:apiID=host0\"\n",
    "\n",
    "r = requests.get(url)\n",
    "soup = BeautifulSoup(r.text, \"html.parser\")"
   ]
  },
  {
   "cell_type": "code",
   "execution_count": 3,
   "metadata": {
    "execution": {
     "iopub.execute_input": "2021-03-18T14:41:18.116416Z",
     "iopub.status.busy": "2021-03-18T14:41:18.115873Z",
     "iopub.status.idle": "2021-03-18T14:41:18.119359Z",
     "shell.execute_reply": "2021-03-18T14:41:18.118916Z"
    }
   },
   "outputs": [],
   "source": [
    "tableauData = json.loads(soup.find(\"textarea\",{\"id\": \"tsConfigContainer\"}).text)"
   ]
  },
  {
   "cell_type": "markdown",
   "metadata": {},
   "source": [
    "Get the link to the Tableau data"
   ]
  },
  {
   "cell_type": "code",
   "execution_count": 4,
   "metadata": {
    "execution": {
     "iopub.execute_input": "2021-03-18T14:41:18.122959Z",
     "iopub.status.busy": "2021-03-18T14:41:18.122445Z",
     "iopub.status.idle": "2021-03-18T14:41:18.125814Z",
     "shell.execute_reply": "2021-03-18T14:41:18.125360Z"
    }
   },
   "outputs": [],
   "source": [
    "dataUrl = f'https://public.tableau.com{tableauData[\"vizql_root\"]}/bootstrapSession/sessions/{tableauData[\"sessionid\"]}'"
   ]
  },
  {
   "cell_type": "code",
   "execution_count": 5,
   "metadata": {
    "execution": {
     "iopub.execute_input": "2021-03-18T14:41:18.132529Z",
     "iopub.status.busy": "2021-03-18T14:41:18.132004Z",
     "iopub.status.idle": "2021-03-18T14:41:18.359916Z",
     "shell.execute_reply": "2021-03-18T14:41:18.360655Z"
    }
   },
   "outputs": [],
   "source": [
    "r = requests.post(dataUrl, data= {\n",
    "    \"sheet_id\": tableauData[\"sheetId\"],\n",
    "})\n",
    "\n",
    "dataReg = re.search('\\d+;({.*})\\d+;({.*})', r.text, re.MULTILINE)\n",
    "data1 = json.loads(dataReg.group(2))\n",
    "\n",
    "dataJson = data1[\"secondaryInfo\"][\"presModelMap\"][\"dataDictionary\"][\"presModelHolder\"][\"genDataDictionaryPresModel\"][\"dataSegments\"][\"0\"][\"dataColumns\"]"
   ]
  },
  {
   "cell_type": "markdown",
   "metadata": {},
   "source": [
    "Isolate what you want"
   ]
  },
  {
   "cell_type": "code",
   "execution_count": 6,
   "metadata": {
    "execution": {
     "iopub.execute_input": "2021-03-18T14:41:18.367070Z",
     "iopub.status.busy": "2021-03-18T14:41:18.365748Z",
     "iopub.status.idle": "2021-03-18T14:41:18.368023Z",
     "shell.execute_reply": "2021-03-18T14:41:18.367593Z"
    }
   },
   "outputs": [],
   "source": [
    "counties = dataJson[2]['dataValues'][:58]"
   ]
  },
  {
   "cell_type": "code",
   "execution_count": 7,
   "metadata": {
    "execution": {
     "iopub.execute_input": "2021-03-18T14:41:18.372210Z",
     "iopub.status.busy": "2021-03-18T14:41:18.371016Z",
     "iopub.status.idle": "2021-03-18T14:41:18.372844Z",
     "shell.execute_reply": "2021-03-18T14:41:18.373253Z"
    }
   },
   "outputs": [],
   "source": [
    "doses = dataJson[0]['dataValues'][3:61]"
   ]
  },
  {
   "cell_type": "markdown",
   "metadata": {},
   "source": [
    "Data formatting"
   ]
  },
  {
   "cell_type": "code",
   "execution_count": 8,
   "metadata": {
    "execution": {
     "iopub.execute_input": "2021-03-18T14:41:18.377581Z",
     "iopub.status.busy": "2021-03-18T14:41:18.376407Z",
     "iopub.status.idle": "2021-03-18T14:41:18.378178Z",
     "shell.execute_reply": "2021-03-18T14:41:18.378598Z"
    }
   },
   "outputs": [],
   "source": [
    "zipped = dict(zip(counties, doses))"
   ]
  },
  {
   "cell_type": "code",
   "execution_count": 9,
   "metadata": {
    "execution": {
     "iopub.execute_input": "2021-03-18T14:41:18.384958Z",
     "iopub.status.busy": "2021-03-18T14:41:18.383838Z",
     "iopub.status.idle": "2021-03-18T14:41:18.385543Z",
     "shell.execute_reply": "2021-03-18T14:41:18.385960Z"
    }
   },
   "outputs": [],
   "source": [
    "df = pd.Series(zipped).reset_index()"
   ]
  },
  {
   "cell_type": "code",
   "execution_count": 10,
   "metadata": {
    "execution": {
     "iopub.execute_input": "2021-03-18T14:41:18.390373Z",
     "iopub.status.busy": "2021-03-18T14:41:18.389203Z",
     "iopub.status.idle": "2021-03-18T14:41:18.390957Z",
     "shell.execute_reply": "2021-03-18T14:41:18.391377Z"
    }
   },
   "outputs": [],
   "source": [
    "df.columns = ['location','doses']"
   ]
  },
  {
   "cell_type": "markdown",
   "metadata": {},
   "source": [
    "Grab the overall California total"
   ]
  },
  {
   "cell_type": "code",
   "execution_count": 11,
   "metadata": {
    "execution": {
     "iopub.execute_input": "2021-03-18T14:41:18.395522Z",
     "iopub.status.busy": "2021-03-18T14:41:18.394454Z",
     "iopub.status.idle": "2021-03-18T14:41:18.396097Z",
     "shell.execute_reply": "2021-03-18T14:41:18.396513Z"
    }
   },
   "outputs": [],
   "source": [
    "add = {'location':'California','doses':dataJson[0]['dataValues'][2]}"
   ]
  },
  {
   "cell_type": "code",
   "execution_count": 12,
   "metadata": {
    "execution": {
     "iopub.execute_input": "2021-03-18T14:41:18.403675Z",
     "iopub.status.busy": "2021-03-18T14:41:18.402520Z",
     "iopub.status.idle": "2021-03-18T14:41:18.404249Z",
     "shell.execute_reply": "2021-03-18T14:41:18.404667Z"
    }
   },
   "outputs": [],
   "source": [
    "df = df.append(add, ignore_index=True)"
   ]
  },
  {
   "cell_type": "code",
   "execution_count": 13,
   "metadata": {
    "execution": {
     "iopub.execute_input": "2021-03-18T14:41:18.409656Z",
     "iopub.status.busy": "2021-03-18T14:41:18.408470Z",
     "iopub.status.idle": "2021-03-18T14:41:18.410311Z",
     "shell.execute_reply": "2021-03-18T14:41:18.410730Z"
    }
   },
   "outputs": [],
   "source": [
    "df = df.sort_values(by='location')"
   ]
  },
  {
   "cell_type": "code",
   "execution_count": 14,
   "metadata": {
    "execution": {
     "iopub.execute_input": "2021-03-18T14:41:18.416844Z",
     "iopub.status.busy": "2021-03-18T14:41:18.416000Z",
     "iopub.status.idle": "2021-03-18T14:41:18.417705Z",
     "shell.execute_reply": "2021-03-18T14:41:18.418138Z"
    }
   },
   "outputs": [],
   "source": [
    "df = df[df.location == 'California'].append(df[df.location != 'California']).reset_index(drop=True)"
   ]
  },
  {
   "cell_type": "code",
   "execution_count": null,
   "metadata": {},
   "outputs": [],
   "source": []
  },
  {
   "cell_type": "code",
   "execution_count": 15,
   "metadata": {
    "execution": {
     "iopub.execute_input": "2021-03-18T14:41:18.421422Z",
     "iopub.status.busy": "2021-03-18T14:41:18.420918Z",
     "iopub.status.idle": "2021-03-18T14:41:18.438388Z",
     "shell.execute_reply": "2021-03-18T14:41:18.437951Z"
    }
   },
   "outputs": [],
   "source": [
    "tz = pytz.timezone(\"America/New_York\")"
   ]
  },
  {
   "cell_type": "code",
   "execution_count": 16,
   "metadata": {
    "execution": {
     "iopub.execute_input": "2021-03-18T14:41:18.442654Z",
     "iopub.status.busy": "2021-03-18T14:41:18.441523Z",
     "iopub.status.idle": "2021-03-18T14:41:18.443241Z",
     "shell.execute_reply": "2021-03-18T14:41:18.443700Z"
    }
   },
   "outputs": [],
   "source": [
    "today = datetime.now(tz).date()"
   ]
  },
  {
   "cell_type": "code",
   "execution_count": 17,
   "metadata": {
    "execution": {
     "iopub.execute_input": "2021-03-18T14:41:18.447929Z",
     "iopub.status.busy": "2021-03-18T14:41:18.446801Z",
     "iopub.status.idle": "2021-03-18T14:41:18.448521Z",
     "shell.execute_reply": "2021-03-18T14:41:18.448945Z"
    }
   },
   "outputs": [],
   "source": [
    "data_dir = os.path.join(os.path.abspath(\"\"), \"data\")"
   ]
  },
  {
   "cell_type": "code",
   "execution_count": 18,
   "metadata": {
    "execution": {
     "iopub.execute_input": "2021-03-18T14:41:18.452458Z",
     "iopub.status.busy": "2021-03-18T14:41:18.451988Z",
     "iopub.status.idle": "2021-03-18T14:41:18.455757Z",
     "shell.execute_reply": "2021-03-18T14:41:18.456158Z"
    }
   },
   "outputs": [],
   "source": [
    "df.to_csv(os.path.join(data_dir, f\"{today}.csv\"), index=False)"
   ]
  },
  {
   "cell_type": "code",
   "execution_count": null,
   "metadata": {},
   "outputs": [],
   "source": []
  }
 ],
 "metadata": {
  "kernelspec": {
   "display_name": "Python 3",
   "language": "python",
   "name": "python3"
  },
  "language_info": {
   "codemirror_mode": {
    "name": "ipython",
    "version": 3
   },
   "file_extension": ".py",
   "mimetype": "text/x-python",
   "name": "python",
   "nbconvert_exporter": "python",
   "pygments_lexer": "ipython3",
   "version": "3.8.8"
  }
 },
 "nbformat": 4,
 "nbformat_minor": 4
}
