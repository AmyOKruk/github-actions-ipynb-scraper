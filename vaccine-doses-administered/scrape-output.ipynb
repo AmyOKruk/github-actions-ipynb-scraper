{
 "cells": [
  {
   "cell_type": "markdown",
   "metadata": {},
   "source": [
    "# California COVID vaccinations scrape"
   ]
  },
  {
   "cell_type": "markdown",
   "metadata": {},
   "source": [
    "By [Amy O'Kruk](https://twitter.com/amyokruk)"
   ]
  },
  {
   "cell_type": "markdown",
   "metadata": {},
   "source": [
    "Downloads data on vaccine doses administered by county and statewide from a Tableau-powered dashboard from the California Department of Public Health."
   ]
  },
  {
   "cell_type": "code",
   "execution_count": 1,
   "metadata": {
    "execution": {
     "iopub.execute_input": "2021-03-09T14:13:11.639535Z",
     "iopub.status.busy": "2021-03-09T14:13:11.638860Z",
     "iopub.status.idle": "2021-03-09T14:13:12.037721Z",
     "shell.execute_reply": "2021-03-09T14:13:12.036594Z"
    }
   },
   "outputs": [],
   "source": [
    "import pandas as pd\n",
    "import requests\n",
    "from bs4 import BeautifulSoup\n",
    "import json\n",
    "import re\n",
    "import time\n",
    "from time import gmtime, strftime \n",
    "import os\n",
    "import pytz\n",
    "from datetime import datetime"
   ]
  },
  {
   "cell_type": "markdown",
   "metadata": {},
   "source": [
    "Scrape the dashboard page"
   ]
  },
  {
   "cell_type": "code",
   "execution_count": 2,
   "metadata": {
    "execution": {
     "iopub.execute_input": "2021-03-09T14:13:12.043812Z",
     "iopub.status.busy": "2021-03-09T14:13:12.041902Z",
     "iopub.status.idle": "2021-03-09T14:13:12.334167Z",
     "shell.execute_reply": "2021-03-09T14:13:12.333607Z"
    }
   },
   "outputs": [],
   "source": [
    "url = \"https://public.tableau.com/interactive/views/COVID-19VaccineDashboardPublic/Vaccine?:embed=y&:showVizHome=n&:apiID=host0\"\n",
    "\n",
    "r = requests.get(url)\n",
    "soup = BeautifulSoup(r.text, \"html.parser\")"
   ]
  },
  {
   "cell_type": "code",
   "execution_count": 3,
   "metadata": {
    "execution": {
     "iopub.execute_input": "2021-03-09T14:13:12.339079Z",
     "iopub.status.busy": "2021-03-09T14:13:12.338529Z",
     "iopub.status.idle": "2021-03-09T14:13:12.342195Z",
     "shell.execute_reply": "2021-03-09T14:13:12.341410Z"
    }
   },
   "outputs": [],
   "source": [
    "tableauData = json.loads(soup.find(\"textarea\",{\"id\": \"tsConfigContainer\"}).text)"
   ]
  },
  {
   "cell_type": "markdown",
   "metadata": {},
   "source": [
    "Get the link to the Tableau data"
   ]
  },
  {
   "cell_type": "code",
   "execution_count": 4,
   "metadata": {
    "execution": {
     "iopub.execute_input": "2021-03-09T14:13:12.345455Z",
     "iopub.status.busy": "2021-03-09T14:13:12.344942Z",
     "iopub.status.idle": "2021-03-09T14:13:12.347871Z",
     "shell.execute_reply": "2021-03-09T14:13:12.348274Z"
    }
   },
   "outputs": [],
   "source": [
    "dataUrl = f'https://public.tableau.com{tableauData[\"vizql_root\"]}/bootstrapSession/sessions/{tableauData[\"sessionid\"]}'"
   ]
  },
  {
   "cell_type": "code",
   "execution_count": 5,
   "metadata": {
    "execution": {
     "iopub.execute_input": "2021-03-09T14:13:12.354264Z",
     "iopub.status.busy": "2021-03-09T14:13:12.353718Z",
     "iopub.status.idle": "2021-03-09T14:13:12.757190Z",
     "shell.execute_reply": "2021-03-09T14:13:12.757667Z"
    }
   },
   "outputs": [],
   "source": [
    "r = requests.post(dataUrl, data= {\n",
    "    \"sheet_id\": tableauData[\"sheetId\"],\n",
    "})\n",
    "\n",
    "dataReg = re.search('\\d+;({.*})\\d+;({.*})', r.text, re.MULTILINE)\n",
    "data1 = json.loads(dataReg.group(2))\n",
    "\n",
    "dataJson = data1[\"secondaryInfo\"][\"presModelMap\"][\"dataDictionary\"][\"presModelHolder\"][\"genDataDictionaryPresModel\"][\"dataSegments\"][\"0\"][\"dataColumns\"]"
   ]
  },
  {
   "cell_type": "markdown",
   "metadata": {},
   "source": [
    "Isolate what you want"
   ]
  },
  {
   "cell_type": "code",
   "execution_count": 6,
   "metadata": {
    "execution": {
     "iopub.execute_input": "2021-03-09T14:13:12.762772Z",
     "iopub.status.busy": "2021-03-09T14:13:12.762270Z",
     "iopub.status.idle": "2021-03-09T14:13:12.765805Z",
     "shell.execute_reply": "2021-03-09T14:13:12.765366Z"
    }
   },
   "outputs": [],
   "source": [
    "counties = dataJson[2]['dataValues'][:58]"
   ]
  },
  {
   "cell_type": "code",
   "execution_count": 7,
   "metadata": {
    "execution": {
     "iopub.execute_input": "2021-03-09T14:13:12.769253Z",
     "iopub.status.busy": "2021-03-09T14:13:12.768780Z",
     "iopub.status.idle": "2021-03-09T14:13:12.771993Z",
     "shell.execute_reply": "2021-03-09T14:13:12.771559Z"
    }
   },
   "outputs": [],
   "source": [
    "doses = dataJson[0]['dataValues'][3:61]"
   ]
  },
  {
   "cell_type": "markdown",
   "metadata": {},
   "source": [
    "Data formatting"
   ]
  },
  {
   "cell_type": "code",
   "execution_count": 8,
   "metadata": {
    "execution": {
     "iopub.execute_input": "2021-03-09T14:13:12.775417Z",
     "iopub.status.busy": "2021-03-09T14:13:12.774890Z",
     "iopub.status.idle": "2021-03-09T14:13:12.778193Z",
     "shell.execute_reply": "2021-03-09T14:13:12.777741Z"
    }
   },
   "outputs": [],
   "source": [
    "zipped = dict(zip(counties, doses))"
   ]
  },
  {
   "cell_type": "code",
   "execution_count": 9,
   "metadata": {
    "execution": {
     "iopub.execute_input": "2021-03-09T14:13:12.783586Z",
     "iopub.status.busy": "2021-03-09T14:13:12.783099Z",
     "iopub.status.idle": "2021-03-09T14:13:12.785973Z",
     "shell.execute_reply": "2021-03-09T14:13:12.786373Z"
    }
   },
   "outputs": [],
   "source": [
    "df = pd.Series(zipped).reset_index()"
   ]
  },
  {
   "cell_type": "code",
   "execution_count": 10,
   "metadata": {
    "execution": {
     "iopub.execute_input": "2021-03-09T14:13:12.790686Z",
     "iopub.status.busy": "2021-03-09T14:13:12.789503Z",
     "iopub.status.idle": "2021-03-09T14:13:12.791356Z",
     "shell.execute_reply": "2021-03-09T14:13:12.791757Z"
    }
   },
   "outputs": [],
   "source": [
    "df.columns = ['location','doses']"
   ]
  },
  {
   "cell_type": "markdown",
   "metadata": {},
   "source": [
    "Grab the overall California total"
   ]
  },
  {
   "cell_type": "code",
   "execution_count": 11,
   "metadata": {
    "execution": {
     "iopub.execute_input": "2021-03-09T14:13:12.795729Z",
     "iopub.status.busy": "2021-03-09T14:13:12.794588Z",
     "iopub.status.idle": "2021-03-09T14:13:12.796243Z",
     "shell.execute_reply": "2021-03-09T14:13:12.796637Z"
    }
   },
   "outputs": [],
   "source": [
    "add = {'location':'California','doses':dataJson[0]['dataValues'][2]}"
   ]
  },
  {
   "cell_type": "code",
   "execution_count": 12,
   "metadata": {
    "execution": {
     "iopub.execute_input": "2021-03-09T14:13:12.802637Z",
     "iopub.status.busy": "2021-03-09T14:13:12.801684Z",
     "iopub.status.idle": "2021-03-09T14:13:12.803193Z",
     "shell.execute_reply": "2021-03-09T14:13:12.803636Z"
    }
   },
   "outputs": [],
   "source": [
    "df = df.append(add, ignore_index=True)"
   ]
  },
  {
   "cell_type": "code",
   "execution_count": 13,
   "metadata": {
    "execution": {
     "iopub.execute_input": "2021-03-09T14:13:12.808400Z",
     "iopub.status.busy": "2021-03-09T14:13:12.807371Z",
     "iopub.status.idle": "2021-03-09T14:13:12.808954Z",
     "shell.execute_reply": "2021-03-09T14:13:12.809348Z"
    }
   },
   "outputs": [],
   "source": [
    "df = df.sort_values(by='location')"
   ]
  },
  {
   "cell_type": "code",
   "execution_count": 14,
   "metadata": {
    "execution": {
     "iopub.execute_input": "2021-03-09T14:13:12.814832Z",
     "iopub.status.busy": "2021-03-09T14:13:12.813898Z",
     "iopub.status.idle": "2021-03-09T14:13:12.815620Z",
     "shell.execute_reply": "2021-03-09T14:13:12.816012Z"
    }
   },
   "outputs": [],
   "source": [
    "df = df[df.location == 'California'].append(df[df.location != 'California']).reset_index(drop=True)"
   ]
  },
  {
   "cell_type": "code",
   "execution_count": null,
   "metadata": {},
   "outputs": [],
   "source": []
  },
  {
   "cell_type": "code",
   "execution_count": 15,
   "metadata": {
    "execution": {
     "iopub.execute_input": "2021-03-09T14:13:12.818871Z",
     "iopub.status.busy": "2021-03-09T14:13:12.818454Z",
     "iopub.status.idle": "2021-03-09T14:13:12.834084Z",
     "shell.execute_reply": "2021-03-09T14:13:12.834464Z"
    }
   },
   "outputs": [],
   "source": [
    "tz = pytz.timezone(\"America/New_York\")"
   ]
  },
  {
   "cell_type": "code",
   "execution_count": 16,
   "metadata": {
    "execution": {
     "iopub.execute_input": "2021-03-09T14:13:12.838618Z",
     "iopub.status.busy": "2021-03-09T14:13:12.837480Z",
     "iopub.status.idle": "2021-03-09T14:13:12.839295Z",
     "shell.execute_reply": "2021-03-09T14:13:12.839698Z"
    }
   },
   "outputs": [],
   "source": [
    "today = datetime.now(tz).date()"
   ]
  },
  {
   "cell_type": "code",
   "execution_count": 17,
   "metadata": {
    "execution": {
     "iopub.execute_input": "2021-03-09T14:13:12.843901Z",
     "iopub.status.busy": "2021-03-09T14:13:12.842737Z",
     "iopub.status.idle": "2021-03-09T14:13:12.844483Z",
     "shell.execute_reply": "2021-03-09T14:13:12.844905Z"
    }
   },
   "outputs": [],
   "source": [
    "data_dir = os.path.join(os.path.abspath(\"\"), \"data\")"
   ]
  },
  {
   "cell_type": "code",
   "execution_count": 18,
   "metadata": {
    "execution": {
     "iopub.execute_input": "2021-03-09T14:13:12.849266Z",
     "iopub.status.busy": "2021-03-09T14:13:12.848073Z",
     "iopub.status.idle": "2021-03-09T14:13:12.852451Z",
     "shell.execute_reply": "2021-03-09T14:13:12.852018Z"
    }
   },
   "outputs": [],
   "source": [
    "df.to_csv(os.path.join(data_dir, f\"{today}.csv\"), index=False)"
   ]
  },
  {
   "cell_type": "code",
   "execution_count": null,
   "metadata": {},
   "outputs": [],
   "source": []
  }
 ],
 "metadata": {
  "kernelspec": {
   "display_name": "Python 3",
   "language": "python",
   "name": "python3"
  },
  "language_info": {
   "codemirror_mode": {
    "name": "ipython",
    "version": 3
   },
   "file_extension": ".py",
   "mimetype": "text/x-python",
   "name": "python",
   "nbconvert_exporter": "python",
   "pygments_lexer": "ipython3",
   "version": "3.8.8"
  }
 },
 "nbformat": 4,
 "nbformat_minor": 4
}
