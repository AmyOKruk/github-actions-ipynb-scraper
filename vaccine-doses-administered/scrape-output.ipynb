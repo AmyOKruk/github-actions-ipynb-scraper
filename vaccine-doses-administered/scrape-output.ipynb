{
 "cells": [
  {
   "cell_type": "markdown",
   "metadata": {},
   "source": [
    "# California COVID vaccinations scrape"
   ]
  },
  {
   "cell_type": "markdown",
   "metadata": {},
   "source": [
    "By [Amy O'Kruk](https://twitter.com/amyokruk)"
   ]
  },
  {
   "cell_type": "markdown",
   "metadata": {},
   "source": [
    "Downloads data on vaccine doses administered by county and statewide from a Tableau-powered dashboard from the California Department of Public Health."
   ]
  },
  {
   "cell_type": "code",
   "execution_count": 1,
   "metadata": {
    "execution": {
     "iopub.execute_input": "2021-03-25T20:17:01.618848Z",
     "iopub.status.busy": "2021-03-25T20:17:01.618350Z",
     "iopub.status.idle": "2021-03-25T20:17:01.944509Z",
     "shell.execute_reply": "2021-03-25T20:17:01.943470Z"
    }
   },
   "outputs": [],
   "source": [
    "import pandas as pd\n",
    "import requests\n",
    "from bs4 import BeautifulSoup\n",
    "import json\n",
    "import re\n",
    "import time\n",
    "from time import gmtime, strftime \n",
    "import os\n",
    "import pytz\n",
    "from datetime import datetime"
   ]
  },
  {
   "cell_type": "markdown",
   "metadata": {},
   "source": [
    "Scrape the dashboard page"
   ]
  },
  {
   "cell_type": "code",
   "execution_count": 2,
   "metadata": {
    "execution": {
     "iopub.execute_input": "2021-03-25T20:17:01.951332Z",
     "iopub.status.busy": "2021-03-25T20:17:01.949033Z",
     "iopub.status.idle": "2021-03-25T20:17:02.578813Z",
     "shell.execute_reply": "2021-03-25T20:17:02.579369Z"
    }
   },
   "outputs": [],
   "source": [
    "url = \"https://public.tableau.com/interactive/views/COVID-19VaccineDashboardPublic/Vaccine?:embed=y&:showVizHome=n&:apiID=host0\"\n",
    "\n",
    "r = requests.get(url)\n",
    "soup = BeautifulSoup(r.text, \"html.parser\")"
   ]
  },
  {
   "cell_type": "code",
   "execution_count": 3,
   "metadata": {
    "execution": {
     "iopub.execute_input": "2021-03-25T20:17:02.584641Z",
     "iopub.status.busy": "2021-03-25T20:17:02.583944Z",
     "iopub.status.idle": "2021-03-25T20:17:02.587621Z",
     "shell.execute_reply": "2021-03-25T20:17:02.587031Z"
    }
   },
   "outputs": [],
   "source": [
    "tableauData = json.loads(soup.find(\"textarea\",{\"id\": \"tsConfigContainer\"}).text)"
   ]
  },
  {
   "cell_type": "markdown",
   "metadata": {},
   "source": [
    "Get the link to the Tableau data"
   ]
  },
  {
   "cell_type": "code",
   "execution_count": 4,
   "metadata": {
    "execution": {
     "iopub.execute_input": "2021-03-25T20:17:02.590769Z",
     "iopub.status.busy": "2021-03-25T20:17:02.590033Z",
     "iopub.status.idle": "2021-03-25T20:17:02.591830Z",
     "shell.execute_reply": "2021-03-25T20:17:02.591460Z"
    }
   },
   "outputs": [],
   "source": [
    "dataUrl = f'https://public.tableau.com{tableauData[\"vizql_root\"]}/bootstrapSession/sessions/{tableauData[\"sessionid\"]}'"
   ]
  },
  {
   "cell_type": "code",
   "execution_count": 5,
   "metadata": {
    "execution": {
     "iopub.execute_input": "2021-03-25T20:17:02.597579Z",
     "iopub.status.busy": "2021-03-25T20:17:02.597087Z",
     "iopub.status.idle": "2021-03-25T20:17:02.851768Z",
     "shell.execute_reply": "2021-03-25T20:17:02.851126Z"
    }
   },
   "outputs": [],
   "source": [
    "r = requests.post(dataUrl, data= {\n",
    "    \"sheet_id\": tableauData[\"sheetId\"],\n",
    "})\n",
    "\n",
    "dataReg = re.search('\\d+;({.*})\\d+;({.*})', r.text, re.MULTILINE)\n",
    "data1 = json.loads(dataReg.group(2))\n",
    "\n",
    "dataJson = data1[\"secondaryInfo\"][\"presModelMap\"][\"dataDictionary\"][\"presModelHolder\"][\"genDataDictionaryPresModel\"][\"dataSegments\"][\"0\"][\"dataColumns\"]"
   ]
  },
  {
   "cell_type": "markdown",
   "metadata": {},
   "source": [
    "Isolate what you want"
   ]
  },
  {
   "cell_type": "code",
   "execution_count": 6,
   "metadata": {
    "execution": {
     "iopub.execute_input": "2021-03-25T20:17:02.856643Z",
     "iopub.status.busy": "2021-03-25T20:17:02.855128Z",
     "iopub.status.idle": "2021-03-25T20:17:02.857424Z",
     "shell.execute_reply": "2021-03-25T20:17:02.858023Z"
    }
   },
   "outputs": [],
   "source": [
    "counties = dataJson[2]['dataValues'][:58]"
   ]
  },
  {
   "cell_type": "code",
   "execution_count": 7,
   "metadata": {
    "execution": {
     "iopub.execute_input": "2021-03-25T20:17:02.861447Z",
     "iopub.status.busy": "2021-03-25T20:17:02.860721Z",
     "iopub.status.idle": "2021-03-25T20:17:02.862569Z",
     "shell.execute_reply": "2021-03-25T20:17:02.862205Z"
    }
   },
   "outputs": [],
   "source": [
    "doses = dataJson[0]['dataValues'][3:61]"
   ]
  },
  {
   "cell_type": "markdown",
   "metadata": {},
   "source": [
    "Data formatting"
   ]
  },
  {
   "cell_type": "code",
   "execution_count": 8,
   "metadata": {
    "execution": {
     "iopub.execute_input": "2021-03-25T20:17:02.866390Z",
     "iopub.status.busy": "2021-03-25T20:17:02.865173Z",
     "iopub.status.idle": "2021-03-25T20:17:02.867058Z",
     "shell.execute_reply": "2021-03-25T20:17:02.867480Z"
    }
   },
   "outputs": [],
   "source": [
    "zipped = dict(zip(counties, doses))"
   ]
  },
  {
   "cell_type": "code",
   "execution_count": 9,
   "metadata": {
    "execution": {
     "iopub.execute_input": "2021-03-25T20:17:02.873566Z",
     "iopub.status.busy": "2021-03-25T20:17:02.872413Z",
     "iopub.status.idle": "2021-03-25T20:17:02.874087Z",
     "shell.execute_reply": "2021-03-25T20:17:02.874436Z"
    }
   },
   "outputs": [],
   "source": [
    "df = pd.Series(zipped).reset_index()"
   ]
  },
  {
   "cell_type": "code",
   "execution_count": 10,
   "metadata": {
    "execution": {
     "iopub.execute_input": "2021-03-25T20:17:02.877684Z",
     "iopub.status.busy": "2021-03-25T20:17:02.876953Z",
     "iopub.status.idle": "2021-03-25T20:17:02.878787Z",
     "shell.execute_reply": "2021-03-25T20:17:02.878438Z"
    }
   },
   "outputs": [],
   "source": [
    "df.columns = ['location','doses']"
   ]
  },
  {
   "cell_type": "markdown",
   "metadata": {},
   "source": [
    "Grab the overall California total"
   ]
  },
  {
   "cell_type": "code",
   "execution_count": 11,
   "metadata": {
    "execution": {
     "iopub.execute_input": "2021-03-25T20:17:02.882709Z",
     "iopub.status.busy": "2021-03-25T20:17:02.881533Z",
     "iopub.status.idle": "2021-03-25T20:17:02.883330Z",
     "shell.execute_reply": "2021-03-25T20:17:02.883726Z"
    }
   },
   "outputs": [],
   "source": [
    "add = {'location':'California','doses':dataJson[0]['dataValues'][2]}"
   ]
  },
  {
   "cell_type": "code",
   "execution_count": 12,
   "metadata": {
    "execution": {
     "iopub.execute_input": "2021-03-25T20:17:02.889280Z",
     "iopub.status.busy": "2021-03-25T20:17:02.888546Z",
     "iopub.status.idle": "2021-03-25T20:17:02.890144Z",
     "shell.execute_reply": "2021-03-25T20:17:02.890476Z"
    }
   },
   "outputs": [],
   "source": [
    "df = df.append(add, ignore_index=True)"
   ]
  },
  {
   "cell_type": "code",
   "execution_count": 13,
   "metadata": {
    "execution": {
     "iopub.execute_input": "2021-03-25T20:17:02.894314Z",
     "iopub.status.busy": "2021-03-25T20:17:02.893465Z",
     "iopub.status.idle": "2021-03-25T20:17:02.895065Z",
     "shell.execute_reply": "2021-03-25T20:17:02.895417Z"
    }
   },
   "outputs": [],
   "source": [
    "df = df.sort_values(by='location')"
   ]
  },
  {
   "cell_type": "code",
   "execution_count": 14,
   "metadata": {
    "execution": {
     "iopub.execute_input": "2021-03-25T20:17:02.900673Z",
     "iopub.status.busy": "2021-03-25T20:17:02.899941Z",
     "iopub.status.idle": "2021-03-25T20:17:02.901455Z",
     "shell.execute_reply": "2021-03-25T20:17:02.901813Z"
    }
   },
   "outputs": [],
   "source": [
    "df = df[df.location == 'California'].append(df[df.location != 'California']).reset_index(drop=True)"
   ]
  },
  {
   "cell_type": "code",
   "execution_count": null,
   "metadata": {},
   "outputs": [],
   "source": []
  },
  {
   "cell_type": "code",
   "execution_count": 15,
   "metadata": {
    "execution": {
     "iopub.execute_input": "2021-03-25T20:17:02.904503Z",
     "iopub.status.busy": "2021-03-25T20:17:02.904085Z",
     "iopub.status.idle": "2021-03-25T20:17:02.918051Z",
     "shell.execute_reply": "2021-03-25T20:17:02.917672Z"
    }
   },
   "outputs": [],
   "source": [
    "tz = pytz.timezone(\"America/New_York\")"
   ]
  },
  {
   "cell_type": "code",
   "execution_count": 16,
   "metadata": {
    "execution": {
     "iopub.execute_input": "2021-03-25T20:17:02.921191Z",
     "iopub.status.busy": "2021-03-25T20:17:02.920455Z",
     "iopub.status.idle": "2021-03-25T20:17:02.922267Z",
     "shell.execute_reply": "2021-03-25T20:17:02.921909Z"
    }
   },
   "outputs": [],
   "source": [
    "today = datetime.now(tz).date()"
   ]
  },
  {
   "cell_type": "code",
   "execution_count": 17,
   "metadata": {
    "execution": {
     "iopub.execute_input": "2021-03-25T20:17:02.925487Z",
     "iopub.status.busy": "2021-03-25T20:17:02.924758Z",
     "iopub.status.idle": "2021-03-25T20:17:02.926715Z",
     "shell.execute_reply": "2021-03-25T20:17:02.926290Z"
    }
   },
   "outputs": [],
   "source": [
    "data_dir = os.path.join(os.path.abspath(\"\"), \"data\")"
   ]
  },
  {
   "cell_type": "code",
   "execution_count": 18,
   "metadata": {
    "execution": {
     "iopub.execute_input": "2021-03-25T20:17:02.930669Z",
     "iopub.status.busy": "2021-03-25T20:17:02.929758Z",
     "iopub.status.idle": "2021-03-25T20:17:02.933720Z",
     "shell.execute_reply": "2021-03-25T20:17:02.933226Z"
    }
   },
   "outputs": [],
   "source": [
    "df.to_csv(os.path.join(data_dir, f\"{today}.csv\"), index=False)"
   ]
  },
  {
   "cell_type": "code",
   "execution_count": null,
   "metadata": {},
   "outputs": [],
   "source": []
  }
 ],
 "metadata": {
  "kernelspec": {
   "display_name": "Python 3",
   "language": "python",
   "name": "python3"
  },
  "language_info": {
   "codemirror_mode": {
    "name": "ipython",
    "version": 3
   },
   "file_extension": ".py",
   "mimetype": "text/x-python",
   "name": "python",
   "nbconvert_exporter": "python",
   "pygments_lexer": "ipython3",
   "version": "3.8.8"
  }
 },
 "nbformat": 4,
 "nbformat_minor": 4
}
