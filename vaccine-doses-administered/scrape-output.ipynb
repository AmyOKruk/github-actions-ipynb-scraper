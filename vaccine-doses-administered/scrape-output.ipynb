{
 "cells": [
  {
   "cell_type": "markdown",
   "metadata": {},
   "source": [
    "# California COVID vaccinations scrape"
   ]
  },
  {
   "cell_type": "markdown",
   "metadata": {},
   "source": [
    "By [Amy O'Kruk](https://twitter.com/amyokruk)"
   ]
  },
  {
   "cell_type": "markdown",
   "metadata": {},
   "source": [
    "Downloads data on vaccine doses administered by county and statewide from a Tableau-powered dashboard from the California Department of Public Health."
   ]
  },
  {
   "cell_type": "code",
   "execution_count": 1,
   "metadata": {
    "execution": {
     "iopub.execute_input": "2021-03-19T23:13:05.789541Z",
     "iopub.status.busy": "2021-03-19T23:13:05.788766Z",
     "iopub.status.idle": "2021-03-19T23:13:06.213991Z",
     "shell.execute_reply": "2021-03-19T23:13:06.213096Z"
    }
   },
   "outputs": [],
   "source": [
    "import pandas as pd\n",
    "import requests\n",
    "from bs4 import BeautifulSoup\n",
    "import json\n",
    "import re\n",
    "import time\n",
    "from time import gmtime, strftime \n",
    "import os\n",
    "import pytz\n",
    "from datetime import datetime"
   ]
  },
  {
   "cell_type": "markdown",
   "metadata": {},
   "source": [
    "Scrape the dashboard page"
   ]
  },
  {
   "cell_type": "code",
   "execution_count": 2,
   "metadata": {
    "execution": {
     "iopub.execute_input": "2021-03-19T23:13:06.224888Z",
     "iopub.status.busy": "2021-03-19T23:13:06.218298Z",
     "iopub.status.idle": "2021-03-19T23:13:06.472529Z",
     "shell.execute_reply": "2021-03-19T23:13:06.472021Z"
    }
   },
   "outputs": [],
   "source": [
    "url = \"https://public.tableau.com/interactive/views/COVID-19VaccineDashboardPublic/Vaccine?:embed=y&:showVizHome=n&:apiID=host0\"\n",
    "\n",
    "r = requests.get(url)\n",
    "soup = BeautifulSoup(r.text, \"html.parser\")"
   ]
  },
  {
   "cell_type": "code",
   "execution_count": 3,
   "metadata": {
    "execution": {
     "iopub.execute_input": "2021-03-19T23:13:06.476976Z",
     "iopub.status.busy": "2021-03-19T23:13:06.476517Z",
     "iopub.status.idle": "2021-03-19T23:13:06.480027Z",
     "shell.execute_reply": "2021-03-19T23:13:06.480506Z"
    }
   },
   "outputs": [],
   "source": [
    "tableauData = json.loads(soup.find(\"textarea\",{\"id\": \"tsConfigContainer\"}).text)"
   ]
  },
  {
   "cell_type": "markdown",
   "metadata": {},
   "source": [
    "Get the link to the Tableau data"
   ]
  },
  {
   "cell_type": "code",
   "execution_count": 4,
   "metadata": {
    "execution": {
     "iopub.execute_input": "2021-03-19T23:13:06.484214Z",
     "iopub.status.busy": "2021-03-19T23:13:06.483659Z",
     "iopub.status.idle": "2021-03-19T23:13:06.488204Z",
     "shell.execute_reply": "2021-03-19T23:13:06.487063Z"
    }
   },
   "outputs": [],
   "source": [
    "dataUrl = f'https://public.tableau.com{tableauData[\"vizql_root\"]}/bootstrapSession/sessions/{tableauData[\"sessionid\"]}'"
   ]
  },
  {
   "cell_type": "code",
   "execution_count": 5,
   "metadata": {
    "execution": {
     "iopub.execute_input": "2021-03-19T23:13:06.498109Z",
     "iopub.status.busy": "2021-03-19T23:13:06.497294Z",
     "iopub.status.idle": "2021-03-19T23:13:06.668935Z",
     "shell.execute_reply": "2021-03-19T23:13:06.668428Z"
    }
   },
   "outputs": [],
   "source": [
    "r = requests.post(dataUrl, data= {\n",
    "    \"sheet_id\": tableauData[\"sheetId\"],\n",
    "})\n",
    "\n",
    "dataReg = re.search('\\d+;({.*})\\d+;({.*})', r.text, re.MULTILINE)\n",
    "data1 = json.loads(dataReg.group(2))\n",
    "\n",
    "dataJson = data1[\"secondaryInfo\"][\"presModelMap\"][\"dataDictionary\"][\"presModelHolder\"][\"genDataDictionaryPresModel\"][\"dataSegments\"][\"0\"][\"dataColumns\"]"
   ]
  },
  {
   "cell_type": "markdown",
   "metadata": {},
   "source": [
    "Isolate what you want"
   ]
  },
  {
   "cell_type": "code",
   "execution_count": 6,
   "metadata": {
    "execution": {
     "iopub.execute_input": "2021-03-19T23:13:06.672572Z",
     "iopub.status.busy": "2021-03-19T23:13:06.672066Z",
     "iopub.status.idle": "2021-03-19T23:13:06.675858Z",
     "shell.execute_reply": "2021-03-19T23:13:06.674970Z"
    }
   },
   "outputs": [],
   "source": [
    "counties = dataJson[2]['dataValues'][:58]"
   ]
  },
  {
   "cell_type": "code",
   "execution_count": 7,
   "metadata": {
    "execution": {
     "iopub.execute_input": "2021-03-19T23:13:06.679895Z",
     "iopub.status.busy": "2021-03-19T23:13:06.679026Z",
     "iopub.status.idle": "2021-03-19T23:13:06.681315Z",
     "shell.execute_reply": "2021-03-19T23:13:06.680811Z"
    }
   },
   "outputs": [],
   "source": [
    "doses = dataJson[0]['dataValues'][3:61]"
   ]
  },
  {
   "cell_type": "markdown",
   "metadata": {},
   "source": [
    "Data formatting"
   ]
  },
  {
   "cell_type": "code",
   "execution_count": 8,
   "metadata": {
    "execution": {
     "iopub.execute_input": "2021-03-19T23:13:06.684775Z",
     "iopub.status.busy": "2021-03-19T23:13:06.684181Z",
     "iopub.status.idle": "2021-03-19T23:13:06.685861Z",
     "shell.execute_reply": "2021-03-19T23:13:06.686264Z"
    }
   },
   "outputs": [],
   "source": [
    "zipped = dict(zip(counties, doses))"
   ]
  },
  {
   "cell_type": "code",
   "execution_count": 9,
   "metadata": {
    "execution": {
     "iopub.execute_input": "2021-03-19T23:13:06.693656Z",
     "iopub.status.busy": "2021-03-19T23:13:06.692059Z",
     "iopub.status.idle": "2021-03-19T23:13:06.694277Z",
     "shell.execute_reply": "2021-03-19T23:13:06.694777Z"
    }
   },
   "outputs": [],
   "source": [
    "df = pd.Series(zipped).reset_index()"
   ]
  },
  {
   "cell_type": "code",
   "execution_count": 10,
   "metadata": {
    "execution": {
     "iopub.execute_input": "2021-03-19T23:13:06.699638Z",
     "iopub.status.busy": "2021-03-19T23:13:06.698677Z",
     "iopub.status.idle": "2021-03-19T23:13:06.700506Z",
     "shell.execute_reply": "2021-03-19T23:13:06.701004Z"
    }
   },
   "outputs": [],
   "source": [
    "df.columns = ['location','doses']"
   ]
  },
  {
   "cell_type": "markdown",
   "metadata": {},
   "source": [
    "Grab the overall California total"
   ]
  },
  {
   "cell_type": "code",
   "execution_count": 11,
   "metadata": {
    "execution": {
     "iopub.execute_input": "2021-03-19T23:13:06.705171Z",
     "iopub.status.busy": "2021-03-19T23:13:06.703977Z",
     "iopub.status.idle": "2021-03-19T23:13:06.705961Z",
     "shell.execute_reply": "2021-03-19T23:13:06.706390Z"
    }
   },
   "outputs": [],
   "source": [
    "add = {'location':'California','doses':dataJson[0]['dataValues'][2]}"
   ]
  },
  {
   "cell_type": "code",
   "execution_count": 12,
   "metadata": {
    "execution": {
     "iopub.execute_input": "2021-03-19T23:13:06.713368Z",
     "iopub.status.busy": "2021-03-19T23:13:06.712455Z",
     "iopub.status.idle": "2021-03-19T23:13:06.714268Z",
     "shell.execute_reply": "2021-03-19T23:13:06.714699Z"
    }
   },
   "outputs": [],
   "source": [
    "df = df.append(add, ignore_index=True)"
   ]
  },
  {
   "cell_type": "code",
   "execution_count": 13,
   "metadata": {
    "execution": {
     "iopub.execute_input": "2021-03-19T23:13:06.719772Z",
     "iopub.status.busy": "2021-03-19T23:13:06.718680Z",
     "iopub.status.idle": "2021-03-19T23:13:06.722050Z",
     "shell.execute_reply": "2021-03-19T23:13:06.721521Z"
    }
   },
   "outputs": [],
   "source": [
    "df = df.sort_values(by='location')"
   ]
  },
  {
   "cell_type": "code",
   "execution_count": 14,
   "metadata": {
    "execution": {
     "iopub.execute_input": "2021-03-19T23:13:06.728997Z",
     "iopub.status.busy": "2021-03-19T23:13:06.727728Z",
     "iopub.status.idle": "2021-03-19T23:13:06.729555Z",
     "shell.execute_reply": "2021-03-19T23:13:06.729957Z"
    }
   },
   "outputs": [],
   "source": [
    "df = df[df.location == 'California'].append(df[df.location != 'California']).reset_index(drop=True)"
   ]
  },
  {
   "cell_type": "code",
   "execution_count": null,
   "metadata": {},
   "outputs": [],
   "source": []
  },
  {
   "cell_type": "code",
   "execution_count": 15,
   "metadata": {
    "execution": {
     "iopub.execute_input": "2021-03-19T23:13:06.733280Z",
     "iopub.status.busy": "2021-03-19T23:13:06.732781Z",
     "iopub.status.idle": "2021-03-19T23:13:06.751742Z",
     "shell.execute_reply": "2021-03-19T23:13:06.751125Z"
    }
   },
   "outputs": [],
   "source": [
    "tz = pytz.timezone(\"America/New_York\")"
   ]
  },
  {
   "cell_type": "code",
   "execution_count": 16,
   "metadata": {
    "execution": {
     "iopub.execute_input": "2021-03-19T23:13:06.756590Z",
     "iopub.status.busy": "2021-03-19T23:13:06.755298Z",
     "iopub.status.idle": "2021-03-19T23:13:06.757183Z",
     "shell.execute_reply": "2021-03-19T23:13:06.757624Z"
    }
   },
   "outputs": [],
   "source": [
    "today = datetime.now(tz).date()"
   ]
  },
  {
   "cell_type": "code",
   "execution_count": 17,
   "metadata": {
    "execution": {
     "iopub.execute_input": "2021-03-19T23:13:06.763163Z",
     "iopub.status.busy": "2021-03-19T23:13:06.761838Z",
     "iopub.status.idle": "2021-03-19T23:13:06.764379Z",
     "shell.execute_reply": "2021-03-19T23:13:06.763774Z"
    }
   },
   "outputs": [],
   "source": [
    "data_dir = os.path.join(os.path.abspath(\"\"), \"data\")"
   ]
  },
  {
   "cell_type": "code",
   "execution_count": 18,
   "metadata": {
    "execution": {
     "iopub.execute_input": "2021-03-19T23:13:06.772156Z",
     "iopub.status.busy": "2021-03-19T23:13:06.770972Z",
     "iopub.status.idle": "2021-03-19T23:13:06.774736Z",
     "shell.execute_reply": "2021-03-19T23:13:06.775191Z"
    }
   },
   "outputs": [],
   "source": [
    "df.to_csv(os.path.join(data_dir, f\"{today}.csv\"), index=False)"
   ]
  },
  {
   "cell_type": "code",
   "execution_count": null,
   "metadata": {},
   "outputs": [],
   "source": []
  }
 ],
 "metadata": {
  "kernelspec": {
   "display_name": "Python 3",
   "language": "python",
   "name": "python3"
  },
  "language_info": {
   "codemirror_mode": {
    "name": "ipython",
    "version": 3
   },
   "file_extension": ".py",
   "mimetype": "text/x-python",
   "name": "python",
   "nbconvert_exporter": "python",
   "pygments_lexer": "ipython3",
   "version": "3.8.8"
  }
 },
 "nbformat": 4,
 "nbformat_minor": 4
}
