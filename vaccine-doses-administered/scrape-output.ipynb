{
 "cells": [
  {
   "cell_type": "markdown",
   "metadata": {},
   "source": [
    "# California COVID vaccinations scrape"
   ]
  },
  {
   "cell_type": "markdown",
   "metadata": {},
   "source": [
    "By [Amy O'Kruk](https://twitter.com/amyokruk)"
   ]
  },
  {
   "cell_type": "markdown",
   "metadata": {},
   "source": [
    "Downloads data on vaccine doses administered by county and statewide from a Tableau-powered dashboard from the California Department of Public Health."
   ]
  },
  {
   "cell_type": "code",
   "execution_count": 1,
   "metadata": {
    "execution": {
     "iopub.execute_input": "2021-03-14T17:13:12.410657Z",
     "iopub.status.busy": "2021-03-14T17:13:12.409875Z",
     "iopub.status.idle": "2021-03-14T17:13:12.840717Z",
     "shell.execute_reply": "2021-03-14T17:13:12.839497Z"
    }
   },
   "outputs": [],
   "source": [
    "import pandas as pd\n",
    "import requests\n",
    "from bs4 import BeautifulSoup\n",
    "import json\n",
    "import re\n",
    "import time\n",
    "from time import gmtime, strftime \n",
    "import os\n",
    "import pytz\n",
    "from datetime import datetime"
   ]
  },
  {
   "cell_type": "markdown",
   "metadata": {},
   "source": [
    "Scrape the dashboard page"
   ]
  },
  {
   "cell_type": "code",
   "execution_count": 2,
   "metadata": {
    "execution": {
     "iopub.execute_input": "2021-03-14T17:13:12.846801Z",
     "iopub.status.busy": "2021-03-14T17:13:12.844873Z",
     "iopub.status.idle": "2021-03-14T17:13:13.201581Z",
     "shell.execute_reply": "2021-03-14T17:13:13.200577Z"
    }
   },
   "outputs": [],
   "source": [
    "url = \"https://public.tableau.com/interactive/views/COVID-19VaccineDashboardPublic/Vaccine?:embed=y&:showVizHome=n&:apiID=host0\"\n",
    "\n",
    "r = requests.get(url)\n",
    "soup = BeautifulSoup(r.text, \"html.parser\")"
   ]
  },
  {
   "cell_type": "code",
   "execution_count": 3,
   "metadata": {
    "execution": {
     "iopub.execute_input": "2021-03-14T17:13:13.207398Z",
     "iopub.status.busy": "2021-03-14T17:13:13.206676Z",
     "iopub.status.idle": "2021-03-14T17:13:13.211872Z",
     "shell.execute_reply": "2021-03-14T17:13:13.210858Z"
    }
   },
   "outputs": [],
   "source": [
    "tableauData = json.loads(soup.find(\"textarea\",{\"id\": \"tsConfigContainer\"}).text)"
   ]
  },
  {
   "cell_type": "markdown",
   "metadata": {},
   "source": [
    "Get the link to the Tableau data"
   ]
  },
  {
   "cell_type": "code",
   "execution_count": 4,
   "metadata": {
    "execution": {
     "iopub.execute_input": "2021-03-14T17:13:13.216281Z",
     "iopub.status.busy": "2021-03-14T17:13:13.215615Z",
     "iopub.status.idle": "2021-03-14T17:13:13.219835Z",
     "shell.execute_reply": "2021-03-14T17:13:13.219287Z"
    }
   },
   "outputs": [],
   "source": [
    "dataUrl = f'https://public.tableau.com{tableauData[\"vizql_root\"]}/bootstrapSession/sessions/{tableauData[\"sessionid\"]}'"
   ]
  },
  {
   "cell_type": "code",
   "execution_count": 5,
   "metadata": {
    "execution": {
     "iopub.execute_input": "2021-03-14T17:13:13.228184Z",
     "iopub.status.busy": "2021-03-14T17:13:13.227165Z",
     "iopub.status.idle": "2021-03-14T17:13:13.783679Z",
     "shell.execute_reply": "2021-03-14T17:13:13.783072Z"
    }
   },
   "outputs": [],
   "source": [
    "r = requests.post(dataUrl, data= {\n",
    "    \"sheet_id\": tableauData[\"sheetId\"],\n",
    "})\n",
    "\n",
    "dataReg = re.search('\\d+;({.*})\\d+;({.*})', r.text, re.MULTILINE)\n",
    "data1 = json.loads(dataReg.group(2))\n",
    "\n",
    "dataJson = data1[\"secondaryInfo\"][\"presModelMap\"][\"dataDictionary\"][\"presModelHolder\"][\"genDataDictionaryPresModel\"][\"dataSegments\"][\"0\"][\"dataColumns\"]"
   ]
  },
  {
   "cell_type": "markdown",
   "metadata": {},
   "source": [
    "Isolate what you want"
   ]
  },
  {
   "cell_type": "code",
   "execution_count": 6,
   "metadata": {
    "execution": {
     "iopub.execute_input": "2021-03-14T17:13:13.789016Z",
     "iopub.status.busy": "2021-03-14T17:13:13.787549Z",
     "iopub.status.idle": "2021-03-14T17:13:13.789691Z",
     "shell.execute_reply": "2021-03-14T17:13:13.790192Z"
    }
   },
   "outputs": [],
   "source": [
    "counties = dataJson[2]['dataValues'][:58]"
   ]
  },
  {
   "cell_type": "code",
   "execution_count": 7,
   "metadata": {
    "execution": {
     "iopub.execute_input": "2021-03-14T17:13:13.795157Z",
     "iopub.status.busy": "2021-03-14T17:13:13.793755Z",
     "iopub.status.idle": "2021-03-14T17:13:13.795855Z",
     "shell.execute_reply": "2021-03-14T17:13:13.796361Z"
    }
   },
   "outputs": [],
   "source": [
    "doses = dataJson[0]['dataValues'][3:61]"
   ]
  },
  {
   "cell_type": "markdown",
   "metadata": {},
   "source": [
    "Data formatting"
   ]
  },
  {
   "cell_type": "code",
   "execution_count": 8,
   "metadata": {
    "execution": {
     "iopub.execute_input": "2021-03-14T17:13:13.801447Z",
     "iopub.status.busy": "2021-03-14T17:13:13.800047Z",
     "iopub.status.idle": "2021-03-14T17:13:13.802118Z",
     "shell.execute_reply": "2021-03-14T17:13:13.802784Z"
    }
   },
   "outputs": [],
   "source": [
    "zipped = dict(zip(counties, doses))"
   ]
  },
  {
   "cell_type": "code",
   "execution_count": 9,
   "metadata": {
    "execution": {
     "iopub.execute_input": "2021-03-14T17:13:13.809480Z",
     "iopub.status.busy": "2021-03-14T17:13:13.808871Z",
     "iopub.status.idle": "2021-03-14T17:13:13.816015Z",
     "shell.execute_reply": "2021-03-14T17:13:13.816505Z"
    }
   },
   "outputs": [],
   "source": [
    "df = pd.Series(zipped).reset_index()"
   ]
  },
  {
   "cell_type": "code",
   "execution_count": 10,
   "metadata": {
    "execution": {
     "iopub.execute_input": "2021-03-14T17:13:13.823104Z",
     "iopub.status.busy": "2021-03-14T17:13:13.821626Z",
     "iopub.status.idle": "2021-03-14T17:13:13.823777Z",
     "shell.execute_reply": "2021-03-14T17:13:13.824286Z"
    }
   },
   "outputs": [],
   "source": [
    "df.columns = ['location','doses']"
   ]
  },
  {
   "cell_type": "markdown",
   "metadata": {},
   "source": [
    "Grab the overall California total"
   ]
  },
  {
   "cell_type": "code",
   "execution_count": 11,
   "metadata": {
    "execution": {
     "iopub.execute_input": "2021-03-14T17:13:13.829438Z",
     "iopub.status.busy": "2021-03-14T17:13:13.828038Z",
     "iopub.status.idle": "2021-03-14T17:13:13.830109Z",
     "shell.execute_reply": "2021-03-14T17:13:13.830641Z"
    }
   },
   "outputs": [],
   "source": [
    "add = {'location':'California','doses':dataJson[0]['dataValues'][2]}"
   ]
  },
  {
   "cell_type": "code",
   "execution_count": 12,
   "metadata": {
    "execution": {
     "iopub.execute_input": "2021-03-14T17:13:13.839139Z",
     "iopub.status.busy": "2021-03-14T17:13:13.837725Z",
     "iopub.status.idle": "2021-03-14T17:13:13.839817Z",
     "shell.execute_reply": "2021-03-14T17:13:13.840322Z"
    }
   },
   "outputs": [],
   "source": [
    "df = df.append(add, ignore_index=True)"
   ]
  },
  {
   "cell_type": "code",
   "execution_count": 13,
   "metadata": {
    "execution": {
     "iopub.execute_input": "2021-03-14T17:13:13.851337Z",
     "iopub.status.busy": "2021-03-14T17:13:13.849909Z",
     "iopub.status.idle": "2021-03-14T17:13:13.852022Z",
     "shell.execute_reply": "2021-03-14T17:13:13.852570Z"
    }
   },
   "outputs": [],
   "source": [
    "df = df.sort_values(by='location')"
   ]
  },
  {
   "cell_type": "code",
   "execution_count": 14,
   "metadata": {
    "execution": {
     "iopub.execute_input": "2021-03-14T17:13:13.860416Z",
     "iopub.status.busy": "2021-03-14T17:13:13.859011Z",
     "iopub.status.idle": "2021-03-14T17:13:13.861192Z",
     "shell.execute_reply": "2021-03-14T17:13:13.861699Z"
    }
   },
   "outputs": [],
   "source": [
    "df = df[df.location == 'California'].append(df[df.location != 'California']).reset_index(drop=True)"
   ]
  },
  {
   "cell_type": "code",
   "execution_count": null,
   "metadata": {},
   "outputs": [],
   "source": []
  },
  {
   "cell_type": "code",
   "execution_count": 15,
   "metadata": {
    "execution": {
     "iopub.execute_input": "2021-03-14T17:13:13.866069Z",
     "iopub.status.busy": "2021-03-14T17:13:13.865463Z",
     "iopub.status.idle": "2021-03-14T17:13:13.897677Z",
     "shell.execute_reply": "2021-03-14T17:13:13.897102Z"
    }
   },
   "outputs": [],
   "source": [
    "tz = pytz.timezone(\"America/New_York\")"
   ]
  },
  {
   "cell_type": "code",
   "execution_count": 16,
   "metadata": {
    "execution": {
     "iopub.execute_input": "2021-03-14T17:13:13.902853Z",
     "iopub.status.busy": "2021-03-14T17:13:13.901512Z",
     "iopub.status.idle": "2021-03-14T17:13:13.903584Z",
     "shell.execute_reply": "2021-03-14T17:13:13.904131Z"
    }
   },
   "outputs": [],
   "source": [
    "today = datetime.now(tz).date()"
   ]
  },
  {
   "cell_type": "code",
   "execution_count": 17,
   "metadata": {
    "execution": {
     "iopub.execute_input": "2021-03-14T17:13:13.909591Z",
     "iopub.status.busy": "2021-03-14T17:13:13.907995Z",
     "iopub.status.idle": "2021-03-14T17:13:13.910276Z",
     "shell.execute_reply": "2021-03-14T17:13:13.910786Z"
    }
   },
   "outputs": [],
   "source": [
    "data_dir = os.path.join(os.path.abspath(\"\"), \"data\")"
   ]
  },
  {
   "cell_type": "code",
   "execution_count": 18,
   "metadata": {
    "execution": {
     "iopub.execute_input": "2021-03-14T17:13:13.917741Z",
     "iopub.status.busy": "2021-03-14T17:13:13.917086Z",
     "iopub.status.idle": "2021-03-14T17:13:14.091722Z",
     "shell.execute_reply": "2021-03-14T17:13:14.092207Z"
    }
   },
   "outputs": [],
   "source": [
    "df.to_csv(os.path.join(data_dir, f\"{today}.csv\"), index=False)"
   ]
  },
  {
   "cell_type": "code",
   "execution_count": null,
   "metadata": {},
   "outputs": [],
   "source": []
  }
 ],
 "metadata": {
  "kernelspec": {
   "display_name": "Python 3",
   "language": "python",
   "name": "python3"
  },
  "language_info": {
   "codemirror_mode": {
    "name": "ipython",
    "version": 3
   },
   "file_extension": ".py",
   "mimetype": "text/x-python",
   "name": "python",
   "nbconvert_exporter": "python",
   "pygments_lexer": "ipython3",
   "version": "3.8.8"
  }
 },
 "nbformat": 4,
 "nbformat_minor": 4
}
