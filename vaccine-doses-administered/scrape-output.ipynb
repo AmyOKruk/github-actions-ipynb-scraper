{
 "cells": [
  {
   "cell_type": "markdown",
   "metadata": {},
   "source": [
    "# California COVID vaccinations scrape"
   ]
  },
  {
   "cell_type": "markdown",
   "metadata": {},
   "source": [
    "By [Amy O'Kruk](https://twitter.com/amyokruk)"
   ]
  },
  {
   "cell_type": "markdown",
   "metadata": {},
   "source": [
    "Downloads data on vaccine doses administered by county and statewide from a Tableau-powered dashboard from the California Department of Public Health."
   ]
  },
  {
   "cell_type": "code",
   "execution_count": 1,
   "metadata": {
    "execution": {
     "iopub.execute_input": "2021-03-10T08:15:11.111620Z",
     "iopub.status.busy": "2021-03-10T08:15:11.110981Z",
     "iopub.status.idle": "2021-03-10T08:15:11.554085Z",
     "shell.execute_reply": "2021-03-10T08:15:11.553107Z"
    }
   },
   "outputs": [],
   "source": [
    "import pandas as pd\n",
    "import requests\n",
    "from bs4 import BeautifulSoup\n",
    "import json\n",
    "import re\n",
    "import time\n",
    "from time import gmtime, strftime \n",
    "import os\n",
    "import pytz\n",
    "from datetime import datetime"
   ]
  },
  {
   "cell_type": "markdown",
   "metadata": {},
   "source": [
    "Scrape the dashboard page"
   ]
  },
  {
   "cell_type": "code",
   "execution_count": 2,
   "metadata": {
    "execution": {
     "iopub.execute_input": "2021-03-10T08:15:11.560256Z",
     "iopub.status.busy": "2021-03-10T08:15:11.557698Z",
     "iopub.status.idle": "2021-03-10T08:15:11.936870Z",
     "shell.execute_reply": "2021-03-10T08:15:11.936365Z"
    }
   },
   "outputs": [],
   "source": [
    "url = \"https://public.tableau.com/interactive/views/COVID-19VaccineDashboardPublic/Vaccine?:embed=y&:showVizHome=n&:apiID=host0\"\n",
    "\n",
    "r = requests.get(url)\n",
    "soup = BeautifulSoup(r.text, \"html.parser\")"
   ]
  },
  {
   "cell_type": "code",
   "execution_count": 3,
   "metadata": {
    "execution": {
     "iopub.execute_input": "2021-03-10T08:15:11.941903Z",
     "iopub.status.busy": "2021-03-10T08:15:11.941376Z",
     "iopub.status.idle": "2021-03-10T08:15:11.944877Z",
     "shell.execute_reply": "2021-03-10T08:15:11.944413Z"
    }
   },
   "outputs": [],
   "source": [
    "tableauData = json.loads(soup.find(\"textarea\",{\"id\": \"tsConfigContainer\"}).text)"
   ]
  },
  {
   "cell_type": "markdown",
   "metadata": {},
   "source": [
    "Get the link to the Tableau data"
   ]
  },
  {
   "cell_type": "code",
   "execution_count": 4,
   "metadata": {
    "execution": {
     "iopub.execute_input": "2021-03-10T08:15:11.948487Z",
     "iopub.status.busy": "2021-03-10T08:15:11.947957Z",
     "iopub.status.idle": "2021-03-10T08:15:11.951439Z",
     "shell.execute_reply": "2021-03-10T08:15:11.950891Z"
    }
   },
   "outputs": [],
   "source": [
    "dataUrl = f'https://public.tableau.com{tableauData[\"vizql_root\"]}/bootstrapSession/sessions/{tableauData[\"sessionid\"]}'"
   ]
  },
  {
   "cell_type": "code",
   "execution_count": 5,
   "metadata": {
    "execution": {
     "iopub.execute_input": "2021-03-10T08:15:11.958862Z",
     "iopub.status.busy": "2021-03-10T08:15:11.958331Z",
     "iopub.status.idle": "2021-03-10T08:15:12.336719Z",
     "shell.execute_reply": "2021-03-10T08:15:12.335682Z"
    }
   },
   "outputs": [],
   "source": [
    "r = requests.post(dataUrl, data= {\n",
    "    \"sheet_id\": tableauData[\"sheetId\"],\n",
    "})\n",
    "\n",
    "dataReg = re.search('\\d+;({.*})\\d+;({.*})', r.text, re.MULTILINE)\n",
    "data1 = json.loads(dataReg.group(2))\n",
    "\n",
    "dataJson = data1[\"secondaryInfo\"][\"presModelMap\"][\"dataDictionary\"][\"presModelHolder\"][\"genDataDictionaryPresModel\"][\"dataSegments\"][\"0\"][\"dataColumns\"]"
   ]
  },
  {
   "cell_type": "markdown",
   "metadata": {},
   "source": [
    "Isolate what you want"
   ]
  },
  {
   "cell_type": "code",
   "execution_count": 6,
   "metadata": {
    "execution": {
     "iopub.execute_input": "2021-03-10T08:15:12.341945Z",
     "iopub.status.busy": "2021-03-10T08:15:12.341409Z",
     "iopub.status.idle": "2021-03-10T08:15:12.344823Z",
     "shell.execute_reply": "2021-03-10T08:15:12.344378Z"
    }
   },
   "outputs": [],
   "source": [
    "counties = dataJson[2]['dataValues'][:58]"
   ]
  },
  {
   "cell_type": "code",
   "execution_count": 7,
   "metadata": {
    "execution": {
     "iopub.execute_input": "2021-03-10T08:15:12.349097Z",
     "iopub.status.busy": "2021-03-10T08:15:12.348000Z",
     "iopub.status.idle": "2021-03-10T08:15:12.349681Z",
     "shell.execute_reply": "2021-03-10T08:15:12.350108Z"
    }
   },
   "outputs": [],
   "source": [
    "doses = dataJson[0]['dataValues'][3:61]"
   ]
  },
  {
   "cell_type": "markdown",
   "metadata": {},
   "source": [
    "Data formatting"
   ]
  },
  {
   "cell_type": "code",
   "execution_count": 8,
   "metadata": {
    "execution": {
     "iopub.execute_input": "2021-03-10T08:15:12.354256Z",
     "iopub.status.busy": "2021-03-10T08:15:12.353208Z",
     "iopub.status.idle": "2021-03-10T08:15:12.354916Z",
     "shell.execute_reply": "2021-03-10T08:15:12.355344Z"
    }
   },
   "outputs": [],
   "source": [
    "zipped = dict(zip(counties, doses))"
   ]
  },
  {
   "cell_type": "code",
   "execution_count": 9,
   "metadata": {
    "execution": {
     "iopub.execute_input": "2021-03-10T08:15:12.361533Z",
     "iopub.status.busy": "2021-03-10T08:15:12.360412Z",
     "iopub.status.idle": "2021-03-10T08:15:12.362123Z",
     "shell.execute_reply": "2021-03-10T08:15:12.362549Z"
    }
   },
   "outputs": [],
   "source": [
    "df = pd.Series(zipped).reset_index()"
   ]
  },
  {
   "cell_type": "code",
   "execution_count": 10,
   "metadata": {
    "execution": {
     "iopub.execute_input": "2021-03-10T08:15:12.366278Z",
     "iopub.status.busy": "2021-03-10T08:15:12.365754Z",
     "iopub.status.idle": "2021-03-10T08:15:12.367278Z",
     "shell.execute_reply": "2021-03-10T08:15:12.367736Z"
    }
   },
   "outputs": [],
   "source": [
    "df.columns = ['location','doses']"
   ]
  },
  {
   "cell_type": "markdown",
   "metadata": {},
   "source": [
    "Grab the overall California total"
   ]
  },
  {
   "cell_type": "code",
   "execution_count": 11,
   "metadata": {
    "execution": {
     "iopub.execute_input": "2021-03-10T08:15:12.371442Z",
     "iopub.status.busy": "2021-03-10T08:15:12.370878Z",
     "iopub.status.idle": "2021-03-10T08:15:12.372458Z",
     "shell.execute_reply": "2021-03-10T08:15:12.372915Z"
    }
   },
   "outputs": [],
   "source": [
    "add = {'location':'California','doses':dataJson[0]['dataValues'][2]}"
   ]
  },
  {
   "cell_type": "code",
   "execution_count": 12,
   "metadata": {
    "execution": {
     "iopub.execute_input": "2021-03-10T08:15:12.379867Z",
     "iopub.status.busy": "2021-03-10T08:15:12.378599Z",
     "iopub.status.idle": "2021-03-10T08:15:12.380477Z",
     "shell.execute_reply": "2021-03-10T08:15:12.380903Z"
    }
   },
   "outputs": [],
   "source": [
    "df = df.append(add, ignore_index=True)"
   ]
  },
  {
   "cell_type": "code",
   "execution_count": 13,
   "metadata": {
    "execution": {
     "iopub.execute_input": "2021-03-10T08:15:12.385670Z",
     "iopub.status.busy": "2021-03-10T08:15:12.384608Z",
     "iopub.status.idle": "2021-03-10T08:15:12.386313Z",
     "shell.execute_reply": "2021-03-10T08:15:12.386738Z"
    }
   },
   "outputs": [],
   "source": [
    "df = df.sort_values(by='location')"
   ]
  },
  {
   "cell_type": "code",
   "execution_count": 14,
   "metadata": {
    "execution": {
     "iopub.execute_input": "2021-03-10T08:15:12.392883Z",
     "iopub.status.busy": "2021-03-10T08:15:12.391763Z",
     "iopub.status.idle": "2021-03-10T08:15:12.393478Z",
     "shell.execute_reply": "2021-03-10T08:15:12.393936Z"
    }
   },
   "outputs": [],
   "source": [
    "df = df[df.location == 'California'].append(df[df.location != 'California']).reset_index(drop=True)"
   ]
  },
  {
   "cell_type": "code",
   "execution_count": null,
   "metadata": {},
   "outputs": [],
   "source": []
  },
  {
   "cell_type": "code",
   "execution_count": 15,
   "metadata": {
    "execution": {
     "iopub.execute_input": "2021-03-10T08:15:12.397238Z",
     "iopub.status.busy": "2021-03-10T08:15:12.396726Z",
     "iopub.status.idle": "2021-03-10T08:15:12.419410Z",
     "shell.execute_reply": "2021-03-10T08:15:12.418854Z"
    }
   },
   "outputs": [],
   "source": [
    "tz = pytz.timezone(\"America/New_York\")"
   ]
  },
  {
   "cell_type": "code",
   "execution_count": 16,
   "metadata": {
    "execution": {
     "iopub.execute_input": "2021-03-10T08:15:12.423789Z",
     "iopub.status.busy": "2021-03-10T08:15:12.422691Z",
     "iopub.status.idle": "2021-03-10T08:15:12.424414Z",
     "shell.execute_reply": "2021-03-10T08:15:12.424840Z"
    }
   },
   "outputs": [],
   "source": [
    "today = datetime.now(tz).date()"
   ]
  },
  {
   "cell_type": "code",
   "execution_count": 17,
   "metadata": {
    "execution": {
     "iopub.execute_input": "2021-03-10T08:15:12.429072Z",
     "iopub.status.busy": "2021-03-10T08:15:12.427831Z",
     "iopub.status.idle": "2021-03-10T08:15:12.429665Z",
     "shell.execute_reply": "2021-03-10T08:15:12.430093Z"
    }
   },
   "outputs": [],
   "source": [
    "data_dir = os.path.join(os.path.abspath(\"\"), \"data\")"
   ]
  },
  {
   "cell_type": "code",
   "execution_count": 18,
   "metadata": {
    "execution": {
     "iopub.execute_input": "2021-03-10T08:15:12.434914Z",
     "iopub.status.busy": "2021-03-10T08:15:12.433554Z",
     "iopub.status.idle": "2021-03-10T08:15:12.438403Z",
     "shell.execute_reply": "2021-03-10T08:15:12.437868Z"
    }
   },
   "outputs": [],
   "source": [
    "df.to_csv(os.path.join(data_dir, f\"{today}.csv\"), index=False)"
   ]
  },
  {
   "cell_type": "code",
   "execution_count": null,
   "metadata": {},
   "outputs": [],
   "source": []
  }
 ],
 "metadata": {
  "kernelspec": {
   "display_name": "Python 3",
   "language": "python",
   "name": "python3"
  },
  "language_info": {
   "codemirror_mode": {
    "name": "ipython",
    "version": 3
   },
   "file_extension": ".py",
   "mimetype": "text/x-python",
   "name": "python",
   "nbconvert_exporter": "python",
   "pygments_lexer": "ipython3",
   "version": "3.8.8"
  }
 },
 "nbformat": 4,
 "nbformat_minor": 4
}
