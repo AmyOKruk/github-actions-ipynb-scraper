{
 "cells": [
  {
   "cell_type": "markdown",
   "metadata": {},
   "source": [
    "# California COVID vaccinations scrape"
   ]
  },
  {
   "cell_type": "markdown",
   "metadata": {},
   "source": [
    "By [Amy O'Kruk](https://twitter.com/amyokruk)"
   ]
  },
  {
   "cell_type": "markdown",
   "metadata": {},
   "source": [
    "Downloads data on vaccine doses administered by county and statewide from a Tableau-powered dashboard from the California Department of Public Health."
   ]
  },
  {
   "cell_type": "code",
   "execution_count": 1,
   "metadata": {
    "execution": {
     "iopub.execute_input": "2021-03-21T00:32:31.271472Z",
     "iopub.status.busy": "2021-03-21T00:32:31.270882Z",
     "iopub.status.idle": "2021-03-21T00:32:31.632946Z",
     "shell.execute_reply": "2021-03-21T00:32:31.631808Z"
    }
   },
   "outputs": [],
   "source": [
    "import pandas as pd\n",
    "import requests\n",
    "from bs4 import BeautifulSoup\n",
    "import json\n",
    "import re\n",
    "import time\n",
    "from time import gmtime, strftime \n",
    "import os\n",
    "import pytz\n",
    "from datetime import datetime"
   ]
  },
  {
   "cell_type": "markdown",
   "metadata": {},
   "source": [
    "Scrape the dashboard page"
   ]
  },
  {
   "cell_type": "code",
   "execution_count": 2,
   "metadata": {
    "execution": {
     "iopub.execute_input": "2021-03-21T00:32:31.638814Z",
     "iopub.status.busy": "2021-03-21T00:32:31.636324Z",
     "iopub.status.idle": "2021-03-21T00:32:32.034800Z",
     "shell.execute_reply": "2021-03-21T00:32:32.033566Z"
    }
   },
   "outputs": [],
   "source": [
    "url = \"https://public.tableau.com/interactive/views/COVID-19VaccineDashboardPublic/Vaccine?:embed=y&:showVizHome=n&:apiID=host0\"\n",
    "\n",
    "r = requests.get(url)\n",
    "soup = BeautifulSoup(r.text, \"html.parser\")"
   ]
  },
  {
   "cell_type": "code",
   "execution_count": 3,
   "metadata": {
    "execution": {
     "iopub.execute_input": "2021-03-21T00:32:32.040518Z",
     "iopub.status.busy": "2021-03-21T00:32:32.039611Z",
     "iopub.status.idle": "2021-03-21T00:32:32.043407Z",
     "shell.execute_reply": "2021-03-21T00:32:32.043007Z"
    }
   },
   "outputs": [],
   "source": [
    "tableauData = json.loads(soup.find(\"textarea\",{\"id\": \"tsConfigContainer\"}).text)"
   ]
  },
  {
   "cell_type": "markdown",
   "metadata": {},
   "source": [
    "Get the link to the Tableau data"
   ]
  },
  {
   "cell_type": "code",
   "execution_count": 4,
   "metadata": {
    "execution": {
     "iopub.execute_input": "2021-03-21T00:32:32.047426Z",
     "iopub.status.busy": "2021-03-21T00:32:32.046259Z",
     "iopub.status.idle": "2021-03-21T00:32:32.048076Z",
     "shell.execute_reply": "2021-03-21T00:32:32.048500Z"
    }
   },
   "outputs": [],
   "source": [
    "dataUrl = f'https://public.tableau.com{tableauData[\"vizql_root\"]}/bootstrapSession/sessions/{tableauData[\"sessionid\"]}'"
   ]
  },
  {
   "cell_type": "code",
   "execution_count": 5,
   "metadata": {
    "execution": {
     "iopub.execute_input": "2021-03-21T00:32:32.054617Z",
     "iopub.status.busy": "2021-03-21T00:32:32.054096Z",
     "iopub.status.idle": "2021-03-21T00:32:32.224261Z",
     "shell.execute_reply": "2021-03-21T00:32:32.223754Z"
    }
   },
   "outputs": [],
   "source": [
    "r = requests.post(dataUrl, data= {\n",
    "    \"sheet_id\": tableauData[\"sheetId\"],\n",
    "})\n",
    "\n",
    "dataReg = re.search('\\d+;({.*})\\d+;({.*})', r.text, re.MULTILINE)\n",
    "data1 = json.loads(dataReg.group(2))\n",
    "\n",
    "dataJson = data1[\"secondaryInfo\"][\"presModelMap\"][\"dataDictionary\"][\"presModelHolder\"][\"genDataDictionaryPresModel\"][\"dataSegments\"][\"0\"][\"dataColumns\"]"
   ]
  },
  {
   "cell_type": "markdown",
   "metadata": {},
   "source": [
    "Isolate what you want"
   ]
  },
  {
   "cell_type": "code",
   "execution_count": 6,
   "metadata": {
    "execution": {
     "iopub.execute_input": "2021-03-21T00:32:32.228792Z",
     "iopub.status.busy": "2021-03-21T00:32:32.227521Z",
     "iopub.status.idle": "2021-03-21T00:32:32.229430Z",
     "shell.execute_reply": "2021-03-21T00:32:32.229866Z"
    }
   },
   "outputs": [],
   "source": [
    "counties = dataJson[2]['dataValues'][:58]"
   ]
  },
  {
   "cell_type": "code",
   "execution_count": 7,
   "metadata": {
    "execution": {
     "iopub.execute_input": "2021-03-21T00:32:32.234249Z",
     "iopub.status.busy": "2021-03-21T00:32:32.232986Z",
     "iopub.status.idle": "2021-03-21T00:32:32.234836Z",
     "shell.execute_reply": "2021-03-21T00:32:32.235257Z"
    }
   },
   "outputs": [],
   "source": [
    "doses = dataJson[0]['dataValues'][3:61]"
   ]
  },
  {
   "cell_type": "markdown",
   "metadata": {},
   "source": [
    "Data formatting"
   ]
  },
  {
   "cell_type": "code",
   "execution_count": 8,
   "metadata": {
    "execution": {
     "iopub.execute_input": "2021-03-21T00:32:32.239383Z",
     "iopub.status.busy": "2021-03-21T00:32:32.238311Z",
     "iopub.status.idle": "2021-03-21T00:32:32.239938Z",
     "shell.execute_reply": "2021-03-21T00:32:32.240333Z"
    }
   },
   "outputs": [],
   "source": [
    "zipped = dict(zip(counties, doses))"
   ]
  },
  {
   "cell_type": "code",
   "execution_count": 9,
   "metadata": {
    "execution": {
     "iopub.execute_input": "2021-03-21T00:32:32.246521Z",
     "iopub.status.busy": "2021-03-21T00:32:32.245356Z",
     "iopub.status.idle": "2021-03-21T00:32:32.247039Z",
     "shell.execute_reply": "2021-03-21T00:32:32.247459Z"
    }
   },
   "outputs": [],
   "source": [
    "df = pd.Series(zipped).reset_index()"
   ]
  },
  {
   "cell_type": "code",
   "execution_count": 10,
   "metadata": {
    "execution": {
     "iopub.execute_input": "2021-03-21T00:32:32.251376Z",
     "iopub.status.busy": "2021-03-21T00:32:32.250479Z",
     "iopub.status.idle": "2021-03-21T00:32:32.252233Z",
     "shell.execute_reply": "2021-03-21T00:32:32.252686Z"
    }
   },
   "outputs": [],
   "source": [
    "df.columns = ['location','doses']"
   ]
  },
  {
   "cell_type": "markdown",
   "metadata": {},
   "source": [
    "Grab the overall California total"
   ]
  },
  {
   "cell_type": "code",
   "execution_count": 11,
   "metadata": {
    "execution": {
     "iopub.execute_input": "2021-03-21T00:32:32.256802Z",
     "iopub.status.busy": "2021-03-21T00:32:32.255671Z",
     "iopub.status.idle": "2021-03-21T00:32:32.257399Z",
     "shell.execute_reply": "2021-03-21T00:32:32.257821Z"
    }
   },
   "outputs": [],
   "source": [
    "add = {'location':'California','doses':dataJson[0]['dataValues'][2]}"
   ]
  },
  {
   "cell_type": "code",
   "execution_count": 12,
   "metadata": {
    "execution": {
     "iopub.execute_input": "2021-03-21T00:32:32.264684Z",
     "iopub.status.busy": "2021-03-21T00:32:32.263497Z",
     "iopub.status.idle": "2021-03-21T00:32:32.265287Z",
     "shell.execute_reply": "2021-03-21T00:32:32.265687Z"
    }
   },
   "outputs": [],
   "source": [
    "df = df.append(add, ignore_index=True)"
   ]
  },
  {
   "cell_type": "code",
   "execution_count": 13,
   "metadata": {
    "execution": {
     "iopub.execute_input": "2021-03-21T00:32:32.270495Z",
     "iopub.status.busy": "2021-03-21T00:32:32.269419Z",
     "iopub.status.idle": "2021-03-21T00:32:32.271214Z",
     "shell.execute_reply": "2021-03-21T00:32:32.271640Z"
    }
   },
   "outputs": [],
   "source": [
    "df = df.sort_values(by='location')"
   ]
  },
  {
   "cell_type": "code",
   "execution_count": 14,
   "metadata": {
    "execution": {
     "iopub.execute_input": "2021-03-21T00:32:32.278076Z",
     "iopub.status.busy": "2021-03-21T00:32:32.276889Z",
     "iopub.status.idle": "2021-03-21T00:32:32.278660Z",
     "shell.execute_reply": "2021-03-21T00:32:32.279073Z"
    }
   },
   "outputs": [],
   "source": [
    "df = df[df.location == 'California'].append(df[df.location != 'California']).reset_index(drop=True)"
   ]
  },
  {
   "cell_type": "code",
   "execution_count": null,
   "metadata": {},
   "outputs": [],
   "source": []
  },
  {
   "cell_type": "code",
   "execution_count": 15,
   "metadata": {
    "execution": {
     "iopub.execute_input": "2021-03-21T00:32:32.282418Z",
     "iopub.status.busy": "2021-03-21T00:32:32.281888Z",
     "iopub.status.idle": "2021-03-21T00:32:32.298762Z",
     "shell.execute_reply": "2021-03-21T00:32:32.299165Z"
    }
   },
   "outputs": [],
   "source": [
    "tz = pytz.timezone(\"America/New_York\")"
   ]
  },
  {
   "cell_type": "code",
   "execution_count": 16,
   "metadata": {
    "execution": {
     "iopub.execute_input": "2021-03-21T00:32:32.303347Z",
     "iopub.status.busy": "2021-03-21T00:32:32.302141Z",
     "iopub.status.idle": "2021-03-21T00:32:32.303933Z",
     "shell.execute_reply": "2021-03-21T00:32:32.304355Z"
    }
   },
   "outputs": [],
   "source": [
    "today = datetime.now(tz).date()"
   ]
  },
  {
   "cell_type": "code",
   "execution_count": 17,
   "metadata": {
    "execution": {
     "iopub.execute_input": "2021-03-21T00:32:32.308460Z",
     "iopub.status.busy": "2021-03-21T00:32:32.307369Z",
     "iopub.status.idle": "2021-03-21T00:32:32.309071Z",
     "shell.execute_reply": "2021-03-21T00:32:32.309500Z"
    }
   },
   "outputs": [],
   "source": [
    "data_dir = os.path.join(os.path.abspath(\"\"), \"data\")"
   ]
  },
  {
   "cell_type": "code",
   "execution_count": 18,
   "metadata": {
    "execution": {
     "iopub.execute_input": "2021-03-21T00:32:32.313728Z",
     "iopub.status.busy": "2021-03-21T00:32:32.312651Z",
     "iopub.status.idle": "2021-03-21T00:32:32.317022Z",
     "shell.execute_reply": "2021-03-21T00:32:32.316494Z"
    }
   },
   "outputs": [],
   "source": [
    "df.to_csv(os.path.join(data_dir, f\"{today}.csv\"), index=False)"
   ]
  },
  {
   "cell_type": "code",
   "execution_count": null,
   "metadata": {},
   "outputs": [],
   "source": []
  }
 ],
 "metadata": {
  "kernelspec": {
   "display_name": "Python 3",
   "language": "python",
   "name": "python3"
  },
  "language_info": {
   "codemirror_mode": {
    "name": "ipython",
    "version": 3
   },
   "file_extension": ".py",
   "mimetype": "text/x-python",
   "name": "python",
   "nbconvert_exporter": "python",
   "pygments_lexer": "ipython3",
   "version": "3.8.8"
  }
 },
 "nbformat": 4,
 "nbformat_minor": 4
}
