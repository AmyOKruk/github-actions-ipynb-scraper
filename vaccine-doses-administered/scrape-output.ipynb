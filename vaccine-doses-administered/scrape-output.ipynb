{
 "cells": [
  {
   "cell_type": "markdown",
   "metadata": {},
   "source": [
    "# California COVID vaccinations scrape"
   ]
  },
  {
   "cell_type": "markdown",
   "metadata": {},
   "source": [
    "By [Amy O'Kruk](https://twitter.com/amyokruk)"
   ]
  },
  {
   "cell_type": "markdown",
   "metadata": {},
   "source": [
    "Downloads data on vaccine doses administered by county and statewide from a Tableau-powered dashboard from the California Department of Public Health."
   ]
  },
  {
   "cell_type": "code",
   "execution_count": 1,
   "metadata": {
    "execution": {
     "iopub.execute_input": "2021-03-09T10:43:35.540407Z",
     "iopub.status.busy": "2021-03-09T10:43:35.539780Z",
     "iopub.status.idle": "2021-03-09T10:43:35.913670Z",
     "shell.execute_reply": "2021-03-09T10:43:35.912676Z"
    }
   },
   "outputs": [],
   "source": [
    "import pandas as pd\n",
    "import requests\n",
    "from bs4 import BeautifulSoup\n",
    "import json\n",
    "import re\n",
    "import time\n",
    "from time import gmtime, strftime \n",
    "import os\n",
    "import pytz\n",
    "from datetime import datetime"
   ]
  },
  {
   "cell_type": "markdown",
   "metadata": {},
   "source": [
    "Scrape the dashboard page"
   ]
  },
  {
   "cell_type": "code",
   "execution_count": 2,
   "metadata": {
    "execution": {
     "iopub.execute_input": "2021-03-09T10:43:35.919785Z",
     "iopub.status.busy": "2021-03-09T10:43:35.917279Z",
     "iopub.status.idle": "2021-03-09T10:43:36.649383Z",
     "shell.execute_reply": "2021-03-09T10:43:36.648354Z"
    }
   },
   "outputs": [],
   "source": [
    "url = \"https://public.tableau.com/interactive/views/COVID-19VaccineDashboardPublic/Vaccine?:embed=y&:showVizHome=n&:apiID=host0\"\n",
    "\n",
    "r = requests.get(url)\n",
    "soup = BeautifulSoup(r.text, \"html.parser\")"
   ]
  },
  {
   "cell_type": "code",
   "execution_count": 3,
   "metadata": {
    "execution": {
     "iopub.execute_input": "2021-03-09T10:43:36.654607Z",
     "iopub.status.busy": "2021-03-09T10:43:36.654077Z",
     "iopub.status.idle": "2021-03-09T10:43:36.657236Z",
     "shell.execute_reply": "2021-03-09T10:43:36.657649Z"
    }
   },
   "outputs": [],
   "source": [
    "tableauData = json.loads(soup.find(\"textarea\",{\"id\": \"tsConfigContainer\"}).text)"
   ]
  },
  {
   "cell_type": "markdown",
   "metadata": {},
   "source": [
    "Get the link to the Tableau data"
   ]
  },
  {
   "cell_type": "code",
   "execution_count": 4,
   "metadata": {
    "execution": {
     "iopub.execute_input": "2021-03-09T10:43:36.661278Z",
     "iopub.status.busy": "2021-03-09T10:43:36.660758Z",
     "iopub.status.idle": "2021-03-09T10:43:36.664105Z",
     "shell.execute_reply": "2021-03-09T10:43:36.663650Z"
    }
   },
   "outputs": [],
   "source": [
    "dataUrl = f'https://public.tableau.com{tableauData[\"vizql_root\"]}/bootstrapSession/sessions/{tableauData[\"sessionid\"]}'"
   ]
  },
  {
   "cell_type": "code",
   "execution_count": 5,
   "metadata": {
    "execution": {
     "iopub.execute_input": "2021-03-09T10:43:36.670470Z",
     "iopub.status.busy": "2021-03-09T10:43:36.669921Z",
     "iopub.status.idle": "2021-03-09T10:43:36.853076Z",
     "shell.execute_reply": "2021-03-09T10:43:36.851763Z"
    }
   },
   "outputs": [],
   "source": [
    "r = requests.post(dataUrl, data= {\n",
    "    \"sheet_id\": tableauData[\"sheetId\"],\n",
    "})\n",
    "\n",
    "dataReg = re.search('\\d+;({.*})\\d+;({.*})', r.text, re.MULTILINE)\n",
    "data1 = json.loads(dataReg.group(2))\n",
    "\n",
    "dataJson = data1[\"secondaryInfo\"][\"presModelMap\"][\"dataDictionary\"][\"presModelHolder\"][\"genDataDictionaryPresModel\"][\"dataSegments\"][\"0\"][\"dataColumns\"]"
   ]
  },
  {
   "cell_type": "markdown",
   "metadata": {},
   "source": [
    "Isolate what you want"
   ]
  },
  {
   "cell_type": "code",
   "execution_count": 6,
   "metadata": {
    "execution": {
     "iopub.execute_input": "2021-03-09T10:43:36.858438Z",
     "iopub.status.busy": "2021-03-09T10:43:36.857390Z",
     "iopub.status.idle": "2021-03-09T10:43:36.859017Z",
     "shell.execute_reply": "2021-03-09T10:43:36.859444Z"
    }
   },
   "outputs": [],
   "source": [
    "counties = dataJson[2]['dataValues'][:58]"
   ]
  },
  {
   "cell_type": "code",
   "execution_count": 7,
   "metadata": {
    "execution": {
     "iopub.execute_input": "2021-03-09T10:43:36.863782Z",
     "iopub.status.busy": "2021-03-09T10:43:36.862613Z",
     "iopub.status.idle": "2021-03-09T10:43:36.864406Z",
     "shell.execute_reply": "2021-03-09T10:43:36.864850Z"
    }
   },
   "outputs": [],
   "source": [
    "doses = dataJson[0]['dataValues'][3:61]"
   ]
  },
  {
   "cell_type": "markdown",
   "metadata": {},
   "source": [
    "Data formatting"
   ]
  },
  {
   "cell_type": "code",
   "execution_count": 8,
   "metadata": {
    "execution": {
     "iopub.execute_input": "2021-03-09T10:43:36.869157Z",
     "iopub.status.busy": "2021-03-09T10:43:36.867900Z",
     "iopub.status.idle": "2021-03-09T10:43:36.869761Z",
     "shell.execute_reply": "2021-03-09T10:43:36.870193Z"
    }
   },
   "outputs": [],
   "source": [
    "zipped = dict(zip(counties, doses))"
   ]
  },
  {
   "cell_type": "code",
   "execution_count": 9,
   "metadata": {
    "execution": {
     "iopub.execute_input": "2021-03-09T10:43:36.876395Z",
     "iopub.status.busy": "2021-03-09T10:43:36.875453Z",
     "iopub.status.idle": "2021-03-09T10:43:36.881133Z",
     "shell.execute_reply": "2021-03-09T10:43:36.880576Z"
    }
   },
   "outputs": [],
   "source": [
    "df = pd.Series(zipped).reset_index()"
   ]
  },
  {
   "cell_type": "code",
   "execution_count": 10,
   "metadata": {
    "execution": {
     "iopub.execute_input": "2021-03-09T10:43:36.885477Z",
     "iopub.status.busy": "2021-03-09T10:43:36.884377Z",
     "iopub.status.idle": "2021-03-09T10:43:36.886077Z",
     "shell.execute_reply": "2021-03-09T10:43:36.886509Z"
    }
   },
   "outputs": [],
   "source": [
    "df.columns = ['location','doses']"
   ]
  },
  {
   "cell_type": "markdown",
   "metadata": {},
   "source": [
    "Grab the overall California total"
   ]
  },
  {
   "cell_type": "code",
   "execution_count": 11,
   "metadata": {
    "execution": {
     "iopub.execute_input": "2021-03-09T10:43:36.890935Z",
     "iopub.status.busy": "2021-03-09T10:43:36.889723Z",
     "iopub.status.idle": "2021-03-09T10:43:36.891596Z",
     "shell.execute_reply": "2021-03-09T10:43:36.892027Z"
    }
   },
   "outputs": [],
   "source": [
    "add = {'location':'California','doses':dataJson[0]['dataValues'][2]}"
   ]
  },
  {
   "cell_type": "code",
   "execution_count": 12,
   "metadata": {
    "execution": {
     "iopub.execute_input": "2021-03-09T10:43:36.899083Z",
     "iopub.status.busy": "2021-03-09T10:43:36.897948Z",
     "iopub.status.idle": "2021-03-09T10:43:36.899680Z",
     "shell.execute_reply": "2021-03-09T10:43:36.900134Z"
    }
   },
   "outputs": [],
   "source": [
    "df = df.append(add, ignore_index=True)"
   ]
  },
  {
   "cell_type": "code",
   "execution_count": 13,
   "metadata": {
    "execution": {
     "iopub.execute_input": "2021-03-09T10:43:36.905072Z",
     "iopub.status.busy": "2021-03-09T10:43:36.903804Z",
     "iopub.status.idle": "2021-03-09T10:43:36.905678Z",
     "shell.execute_reply": "2021-03-09T10:43:36.906109Z"
    }
   },
   "outputs": [],
   "source": [
    "df = df.sort_values(by='location')"
   ]
  },
  {
   "cell_type": "code",
   "execution_count": 14,
   "metadata": {
    "execution": {
     "iopub.execute_input": "2021-03-09T10:43:36.912586Z",
     "iopub.status.busy": "2021-03-09T10:43:36.911374Z",
     "iopub.status.idle": "2021-03-09T10:43:36.913271Z",
     "shell.execute_reply": "2021-03-09T10:43:36.913715Z"
    }
   },
   "outputs": [],
   "source": [
    "df = df[df.location == 'California'].append(df[df.location != 'California']).reset_index(drop=True)"
   ]
  },
  {
   "cell_type": "code",
   "execution_count": null,
   "metadata": {},
   "outputs": [],
   "source": []
  },
  {
   "cell_type": "code",
   "execution_count": 15,
   "metadata": {
    "execution": {
     "iopub.execute_input": "2021-03-09T10:43:36.917045Z",
     "iopub.status.busy": "2021-03-09T10:43:36.916528Z",
     "iopub.status.idle": "2021-03-09T10:43:36.933577Z",
     "shell.execute_reply": "2021-03-09T10:43:36.933083Z"
    }
   },
   "outputs": [],
   "source": [
    "tz = pytz.timezone(\"America/New_York\")"
   ]
  },
  {
   "cell_type": "code",
   "execution_count": 16,
   "metadata": {
    "execution": {
     "iopub.execute_input": "2021-03-09T10:43:36.937934Z",
     "iopub.status.busy": "2021-03-09T10:43:36.936811Z",
     "iopub.status.idle": "2021-03-09T10:43:36.938530Z",
     "shell.execute_reply": "2021-03-09T10:43:36.938968Z"
    }
   },
   "outputs": [],
   "source": [
    "today = datetime.now(tz).date()"
   ]
  },
  {
   "cell_type": "code",
   "execution_count": 17,
   "metadata": {
    "execution": {
     "iopub.execute_input": "2021-03-09T10:43:36.943489Z",
     "iopub.status.busy": "2021-03-09T10:43:36.942319Z",
     "iopub.status.idle": "2021-03-09T10:43:36.944124Z",
     "shell.execute_reply": "2021-03-09T10:43:36.944575Z"
    }
   },
   "outputs": [],
   "source": [
    "data_dir = os.path.join(os.path.abspath(\"\"), \"data\")"
   ]
  },
  {
   "cell_type": "code",
   "execution_count": 18,
   "metadata": {
    "execution": {
     "iopub.execute_input": "2021-03-09T10:43:36.948928Z",
     "iopub.status.busy": "2021-03-09T10:43:36.947792Z",
     "iopub.status.idle": "2021-03-09T10:43:36.952353Z",
     "shell.execute_reply": "2021-03-09T10:43:36.951796Z"
    }
   },
   "outputs": [],
   "source": [
    "df.to_csv(os.path.join(data_dir, f\"{today}.csv\"), index=False)"
   ]
  },
  {
   "cell_type": "code",
   "execution_count": null,
   "metadata": {},
   "outputs": [],
   "source": []
  }
 ],
 "metadata": {
  "kernelspec": {
   "display_name": "Python 3",
   "language": "python",
   "name": "python3"
  },
  "language_info": {
   "codemirror_mode": {
    "name": "ipython",
    "version": 3
   },
   "file_extension": ".py",
   "mimetype": "text/x-python",
   "name": "python",
   "nbconvert_exporter": "python",
   "pygments_lexer": "ipython3",
   "version": "3.8.8"
  }
 },
 "nbformat": 4,
 "nbformat_minor": 4
}
