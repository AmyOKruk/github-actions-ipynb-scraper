{
 "cells": [
  {
   "cell_type": "markdown",
   "metadata": {},
   "source": [
    "# California COVID vaccinations scrape"
   ]
  },
  {
   "cell_type": "markdown",
   "metadata": {},
   "source": [
    "By [Amy O'Kruk](https://twitter.com/amyokruk)"
   ]
  },
  {
   "cell_type": "markdown",
   "metadata": {},
   "source": [
    "Downloads data on vaccine doses administered by county and statewide from a Tableau-powered dashboard from the California Department of Public Health."
   ]
  },
  {
   "cell_type": "code",
   "execution_count": 1,
   "metadata": {
    "execution": {
     "iopub.execute_input": "2021-03-17T18:47:26.667088Z",
     "iopub.status.busy": "2021-03-17T18:47:26.666410Z",
     "iopub.status.idle": "2021-03-17T18:47:27.010864Z",
     "shell.execute_reply": "2021-03-17T18:47:27.010379Z"
    }
   },
   "outputs": [],
   "source": [
    "import pandas as pd\n",
    "import requests\n",
    "from bs4 import BeautifulSoup\n",
    "import json\n",
    "import re\n",
    "import time\n",
    "from time import gmtime, strftime \n",
    "import os\n",
    "import pytz\n",
    "from datetime import datetime"
   ]
  },
  {
   "cell_type": "markdown",
   "metadata": {},
   "source": [
    "Scrape the dashboard page"
   ]
  },
  {
   "cell_type": "code",
   "execution_count": 2,
   "metadata": {
    "execution": {
     "iopub.execute_input": "2021-03-17T18:47:27.015469Z",
     "iopub.status.busy": "2021-03-17T18:47:27.013623Z",
     "iopub.status.idle": "2021-03-17T18:47:27.265408Z",
     "shell.execute_reply": "2021-03-17T18:47:27.264972Z"
    }
   },
   "outputs": [],
   "source": [
    "url = \"https://public.tableau.com/interactive/views/COVID-19VaccineDashboardPublic/Vaccine?:embed=y&:showVizHome=n&:apiID=host0\"\n",
    "\n",
    "r = requests.get(url)\n",
    "soup = BeautifulSoup(r.text, \"html.parser\")"
   ]
  },
  {
   "cell_type": "code",
   "execution_count": 3,
   "metadata": {
    "execution": {
     "iopub.execute_input": "2021-03-17T18:47:27.270055Z",
     "iopub.status.busy": "2021-03-17T18:47:27.269518Z",
     "iopub.status.idle": "2021-03-17T18:47:27.276365Z",
     "shell.execute_reply": "2021-03-17T18:47:27.275943Z"
    }
   },
   "outputs": [],
   "source": [
    "tableauData = json.loads(soup.find(\"textarea\",{\"id\": \"tsConfigContainer\"}).text)"
   ]
  },
  {
   "cell_type": "markdown",
   "metadata": {},
   "source": [
    "Get the link to the Tableau data"
   ]
  },
  {
   "cell_type": "code",
   "execution_count": 4,
   "metadata": {
    "execution": {
     "iopub.execute_input": "2021-03-17T18:47:27.283274Z",
     "iopub.status.busy": "2021-03-17T18:47:27.282804Z",
     "iopub.status.idle": "2021-03-17T18:47:27.286521Z",
     "shell.execute_reply": "2021-03-17T18:47:27.285984Z"
    }
   },
   "outputs": [],
   "source": [
    "dataUrl = f'https://public.tableau.com{tableauData[\"vizql_root\"]}/bootstrapSession/sessions/{tableauData[\"sessionid\"]}'"
   ]
  },
  {
   "cell_type": "code",
   "execution_count": 5,
   "metadata": {
    "execution": {
     "iopub.execute_input": "2021-03-17T18:47:27.292451Z",
     "iopub.status.busy": "2021-03-17T18:47:27.291959Z",
     "iopub.status.idle": "2021-03-17T18:47:27.631711Z",
     "shell.execute_reply": "2021-03-17T18:47:27.631284Z"
    }
   },
   "outputs": [],
   "source": [
    "r = requests.post(dataUrl, data= {\n",
    "    \"sheet_id\": tableauData[\"sheetId\"],\n",
    "})\n",
    "\n",
    "dataReg = re.search('\\d+;({.*})\\d+;({.*})', r.text, re.MULTILINE)\n",
    "data1 = json.loads(dataReg.group(2))\n",
    "\n",
    "dataJson = data1[\"secondaryInfo\"][\"presModelMap\"][\"dataDictionary\"][\"presModelHolder\"][\"genDataDictionaryPresModel\"][\"dataSegments\"][\"0\"][\"dataColumns\"]"
   ]
  },
  {
   "cell_type": "markdown",
   "metadata": {},
   "source": [
    "Isolate what you want"
   ]
  },
  {
   "cell_type": "code",
   "execution_count": 6,
   "metadata": {
    "execution": {
     "iopub.execute_input": "2021-03-17T18:47:27.634781Z",
     "iopub.status.busy": "2021-03-17T18:47:27.634327Z",
     "iopub.status.idle": "2021-03-17T18:47:27.638403Z",
     "shell.execute_reply": "2021-03-17T18:47:27.637938Z"
    }
   },
   "outputs": [],
   "source": [
    "counties = dataJson[2]['dataValues'][:58]"
   ]
  },
  {
   "cell_type": "code",
   "execution_count": 7,
   "metadata": {
    "execution": {
     "iopub.execute_input": "2021-03-17T18:47:27.641671Z",
     "iopub.status.busy": "2021-03-17T18:47:27.641163Z",
     "iopub.status.idle": "2021-03-17T18:47:27.645013Z",
     "shell.execute_reply": "2021-03-17T18:47:27.644615Z"
    }
   },
   "outputs": [],
   "source": [
    "doses = dataJson[0]['dataValues'][3:61]"
   ]
  },
  {
   "cell_type": "markdown",
   "metadata": {},
   "source": [
    "Data formatting"
   ]
  },
  {
   "cell_type": "code",
   "execution_count": 8,
   "metadata": {
    "execution": {
     "iopub.execute_input": "2021-03-17T18:47:27.648477Z",
     "iopub.status.busy": "2021-03-17T18:47:27.647666Z",
     "iopub.status.idle": "2021-03-17T18:47:27.649347Z",
     "shell.execute_reply": "2021-03-17T18:47:27.649702Z"
    }
   },
   "outputs": [],
   "source": [
    "zipped = dict(zip(counties, doses))"
   ]
  },
  {
   "cell_type": "code",
   "execution_count": 9,
   "metadata": {
    "execution": {
     "iopub.execute_input": "2021-03-17T18:47:27.654374Z",
     "iopub.status.busy": "2021-03-17T18:47:27.653898Z",
     "iopub.status.idle": "2021-03-17T18:47:27.656336Z",
     "shell.execute_reply": "2021-03-17T18:47:27.655869Z"
    }
   },
   "outputs": [],
   "source": [
    "df = pd.Series(zipped).reset_index()"
   ]
  },
  {
   "cell_type": "code",
   "execution_count": 10,
   "metadata": {
    "execution": {
     "iopub.execute_input": "2021-03-17T18:47:27.660396Z",
     "iopub.status.busy": "2021-03-17T18:47:27.659546Z",
     "iopub.status.idle": "2021-03-17T18:47:27.661050Z",
     "shell.execute_reply": "2021-03-17T18:47:27.661493Z"
    }
   },
   "outputs": [],
   "source": [
    "df.columns = ['location','doses']"
   ]
  },
  {
   "cell_type": "markdown",
   "metadata": {},
   "source": [
    "Grab the overall California total"
   ]
  },
  {
   "cell_type": "code",
   "execution_count": 11,
   "metadata": {
    "execution": {
     "iopub.execute_input": "2021-03-17T18:47:27.665026Z",
     "iopub.status.busy": "2021-03-17T18:47:27.664181Z",
     "iopub.status.idle": "2021-03-17T18:47:27.665889Z",
     "shell.execute_reply": "2021-03-17T18:47:27.666306Z"
    }
   },
   "outputs": [],
   "source": [
    "add = {'location':'California','doses':dataJson[0]['dataValues'][2]}"
   ]
  },
  {
   "cell_type": "code",
   "execution_count": 12,
   "metadata": {
    "execution": {
     "iopub.execute_input": "2021-03-17T18:47:27.672676Z",
     "iopub.status.busy": "2021-03-17T18:47:27.671568Z",
     "iopub.status.idle": "2021-03-17T18:47:27.673182Z",
     "shell.execute_reply": "2021-03-17T18:47:27.673560Z"
    }
   },
   "outputs": [],
   "source": [
    "df = df.append(add, ignore_index=True)"
   ]
  },
  {
   "cell_type": "code",
   "execution_count": 13,
   "metadata": {
    "execution": {
     "iopub.execute_input": "2021-03-17T18:47:27.677951Z",
     "iopub.status.busy": "2021-03-17T18:47:27.677129Z",
     "iopub.status.idle": "2021-03-17T18:47:27.678930Z",
     "shell.execute_reply": "2021-03-17T18:47:27.679280Z"
    }
   },
   "outputs": [],
   "source": [
    "df = df.sort_values(by='location')"
   ]
  },
  {
   "cell_type": "code",
   "execution_count": 14,
   "metadata": {
    "execution": {
     "iopub.execute_input": "2021-03-17T18:47:27.684685Z",
     "iopub.status.busy": "2021-03-17T18:47:27.683826Z",
     "iopub.status.idle": "2021-03-17T18:47:27.685335Z",
     "shell.execute_reply": "2021-03-17T18:47:27.685768Z"
    }
   },
   "outputs": [],
   "source": [
    "df = df[df.location == 'California'].append(df[df.location != 'California']).reset_index(drop=True)"
   ]
  },
  {
   "cell_type": "code",
   "execution_count": null,
   "metadata": {},
   "outputs": [],
   "source": []
  },
  {
   "cell_type": "code",
   "execution_count": 15,
   "metadata": {
    "execution": {
     "iopub.execute_input": "2021-03-17T18:47:27.688731Z",
     "iopub.status.busy": "2021-03-17T18:47:27.688254Z",
     "iopub.status.idle": "2021-03-17T18:47:27.704976Z",
     "shell.execute_reply": "2021-03-17T18:47:27.705501Z"
    }
   },
   "outputs": [],
   "source": [
    "tz = pytz.timezone(\"America/New_York\")"
   ]
  },
  {
   "cell_type": "code",
   "execution_count": 16,
   "metadata": {
    "execution": {
     "iopub.execute_input": "2021-03-17T18:47:27.711004Z",
     "iopub.status.busy": "2021-03-17T18:47:27.710559Z",
     "iopub.status.idle": "2021-03-17T18:47:27.712853Z",
     "shell.execute_reply": "2021-03-17T18:47:27.713203Z"
    }
   },
   "outputs": [],
   "source": [
    "today = datetime.now(tz).date()"
   ]
  },
  {
   "cell_type": "code",
   "execution_count": 17,
   "metadata": {
    "execution": {
     "iopub.execute_input": "2021-03-17T18:47:27.715292Z",
     "iopub.status.busy": "2021-03-17T18:47:27.714840Z",
     "iopub.status.idle": "2021-03-17T18:47:27.718162Z",
     "shell.execute_reply": "2021-03-17T18:47:27.717739Z"
    }
   },
   "outputs": [],
   "source": [
    "data_dir = os.path.join(os.path.abspath(\"\"), \"data\")"
   ]
  },
  {
   "cell_type": "code",
   "execution_count": 18,
   "metadata": {
    "execution": {
     "iopub.execute_input": "2021-03-17T18:47:27.722065Z",
     "iopub.status.busy": "2021-03-17T18:47:27.720820Z",
     "iopub.status.idle": "2021-03-17T18:47:27.725313Z",
     "shell.execute_reply": "2021-03-17T18:47:27.724915Z"
    }
   },
   "outputs": [],
   "source": [
    "df.to_csv(os.path.join(data_dir, f\"{today}.csv\"), index=False)"
   ]
  },
  {
   "cell_type": "code",
   "execution_count": null,
   "metadata": {},
   "outputs": [],
   "source": []
  }
 ],
 "metadata": {
  "kernelspec": {
   "display_name": "Python 3",
   "language": "python",
   "name": "python3"
  },
  "language_info": {
   "codemirror_mode": {
    "name": "ipython",
    "version": 3
   },
   "file_extension": ".py",
   "mimetype": "text/x-python",
   "name": "python",
   "nbconvert_exporter": "python",
   "pygments_lexer": "ipython3",
   "version": "3.8.8"
  }
 },
 "nbformat": 4,
 "nbformat_minor": 4
}
