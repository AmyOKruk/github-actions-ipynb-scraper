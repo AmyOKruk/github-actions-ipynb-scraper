{
 "cells": [
  {
   "cell_type": "markdown",
   "metadata": {},
   "source": [
    "# California COVID vaccinations scrape"
   ]
  },
  {
   "cell_type": "markdown",
   "metadata": {},
   "source": [
    "By [Amy O'Kruk](https://twitter.com/amyokruk)"
   ]
  },
  {
   "cell_type": "markdown",
   "metadata": {},
   "source": [
    "Downloads data on vaccine doses administered by county and statewide from a Tableau-powered dashboard from the California Department of Public Health."
   ]
  },
  {
   "cell_type": "code",
   "execution_count": 1,
   "metadata": {
    "execution": {
     "iopub.execute_input": "2021-03-20T20:13:47.516436Z",
     "iopub.status.busy": "2021-03-20T20:13:47.515372Z",
     "iopub.status.idle": "2021-03-20T20:13:47.880663Z",
     "shell.execute_reply": "2021-03-20T20:13:47.880068Z"
    }
   },
   "outputs": [],
   "source": [
    "import pandas as pd\n",
    "import requests\n",
    "from bs4 import BeautifulSoup\n",
    "import json\n",
    "import re\n",
    "import time\n",
    "from time import gmtime, strftime \n",
    "import os\n",
    "import pytz\n",
    "from datetime import datetime"
   ]
  },
  {
   "cell_type": "markdown",
   "metadata": {},
   "source": [
    "Scrape the dashboard page"
   ]
  },
  {
   "cell_type": "code",
   "execution_count": 2,
   "metadata": {
    "execution": {
     "iopub.execute_input": "2021-03-20T20:13:47.885113Z",
     "iopub.status.busy": "2021-03-20T20:13:47.884584Z",
     "iopub.status.idle": "2021-03-20T20:13:48.246378Z",
     "shell.execute_reply": "2021-03-20T20:13:48.245286Z"
    }
   },
   "outputs": [],
   "source": [
    "url = \"https://public.tableau.com/interactive/views/COVID-19VaccineDashboardPublic/Vaccine?:embed=y&:showVizHome=n&:apiID=host0\"\n",
    "\n",
    "r = requests.get(url)\n",
    "soup = BeautifulSoup(r.text, \"html.parser\")"
   ]
  },
  {
   "cell_type": "code",
   "execution_count": 3,
   "metadata": {
    "execution": {
     "iopub.execute_input": "2021-03-20T20:13:48.251140Z",
     "iopub.status.busy": "2021-03-20T20:13:48.250627Z",
     "iopub.status.idle": "2021-03-20T20:13:48.253709Z",
     "shell.execute_reply": "2021-03-20T20:13:48.254107Z"
    }
   },
   "outputs": [],
   "source": [
    "tableauData = json.loads(soup.find(\"textarea\",{\"id\": \"tsConfigContainer\"}).text)"
   ]
  },
  {
   "cell_type": "markdown",
   "metadata": {},
   "source": [
    "Get the link to the Tableau data"
   ]
  },
  {
   "cell_type": "code",
   "execution_count": 4,
   "metadata": {
    "execution": {
     "iopub.execute_input": "2021-03-20T20:13:48.257580Z",
     "iopub.status.busy": "2021-03-20T20:13:48.257075Z",
     "iopub.status.idle": "2021-03-20T20:13:48.260628Z",
     "shell.execute_reply": "2021-03-20T20:13:48.260193Z"
    }
   },
   "outputs": [],
   "source": [
    "dataUrl = f'https://public.tableau.com{tableauData[\"vizql_root\"]}/bootstrapSession/sessions/{tableauData[\"sessionid\"]}'"
   ]
  },
  {
   "cell_type": "code",
   "execution_count": 5,
   "metadata": {
    "execution": {
     "iopub.execute_input": "2021-03-20T20:13:48.267007Z",
     "iopub.status.busy": "2021-03-20T20:13:48.266492Z",
     "iopub.status.idle": "2021-03-20T20:13:48.702992Z",
     "shell.execute_reply": "2021-03-20T20:13:48.701951Z"
    }
   },
   "outputs": [],
   "source": [
    "r = requests.post(dataUrl, data= {\n",
    "    \"sheet_id\": tableauData[\"sheetId\"],\n",
    "})\n",
    "\n",
    "dataReg = re.search('\\d+;({.*})\\d+;({.*})', r.text, re.MULTILINE)\n",
    "data1 = json.loads(dataReg.group(2))\n",
    "\n",
    "dataJson = data1[\"secondaryInfo\"][\"presModelMap\"][\"dataDictionary\"][\"presModelHolder\"][\"genDataDictionaryPresModel\"][\"dataSegments\"][\"0\"][\"dataColumns\"]"
   ]
  },
  {
   "cell_type": "markdown",
   "metadata": {},
   "source": [
    "Isolate what you want"
   ]
  },
  {
   "cell_type": "code",
   "execution_count": 6,
   "metadata": {
    "execution": {
     "iopub.execute_input": "2021-03-20T20:13:48.706375Z",
     "iopub.status.busy": "2021-03-20T20:13:48.705754Z",
     "iopub.status.idle": "2021-03-20T20:13:48.709662Z",
     "shell.execute_reply": "2021-03-20T20:13:48.709192Z"
    }
   },
   "outputs": [],
   "source": [
    "counties = dataJson[2]['dataValues'][:58]"
   ]
  },
  {
   "cell_type": "code",
   "execution_count": 7,
   "metadata": {
    "execution": {
     "iopub.execute_input": "2021-03-20T20:13:48.712677Z",
     "iopub.status.busy": "2021-03-20T20:13:48.712263Z",
     "iopub.status.idle": "2021-03-20T20:13:48.715679Z",
     "shell.execute_reply": "2021-03-20T20:13:48.715251Z"
    }
   },
   "outputs": [],
   "source": [
    "doses = dataJson[0]['dataValues'][3:61]"
   ]
  },
  {
   "cell_type": "markdown",
   "metadata": {},
   "source": [
    "Data formatting"
   ]
  },
  {
   "cell_type": "code",
   "execution_count": 8,
   "metadata": {
    "execution": {
     "iopub.execute_input": "2021-03-20T20:13:48.718720Z",
     "iopub.status.busy": "2021-03-20T20:13:48.718254Z",
     "iopub.status.idle": "2021-03-20T20:13:48.721637Z",
     "shell.execute_reply": "2021-03-20T20:13:48.721219Z"
    }
   },
   "outputs": [],
   "source": [
    "zipped = dict(zip(counties, doses))"
   ]
  },
  {
   "cell_type": "code",
   "execution_count": 9,
   "metadata": {
    "execution": {
     "iopub.execute_input": "2021-03-20T20:13:48.727300Z",
     "iopub.status.busy": "2021-03-20T20:13:48.726832Z",
     "iopub.status.idle": "2021-03-20T20:13:48.729804Z",
     "shell.execute_reply": "2021-03-20T20:13:48.730199Z"
    }
   },
   "outputs": [],
   "source": [
    "df = pd.Series(zipped).reset_index()"
   ]
  },
  {
   "cell_type": "code",
   "execution_count": 10,
   "metadata": {
    "execution": {
     "iopub.execute_input": "2021-03-20T20:13:48.733398Z",
     "iopub.status.busy": "2021-03-20T20:13:48.732985Z",
     "iopub.status.idle": "2021-03-20T20:13:48.736603Z",
     "shell.execute_reply": "2021-03-20T20:13:48.736180Z"
    }
   },
   "outputs": [],
   "source": [
    "df.columns = ['location','doses']"
   ]
  },
  {
   "cell_type": "markdown",
   "metadata": {},
   "source": [
    "Grab the overall California total"
   ]
  },
  {
   "cell_type": "code",
   "execution_count": 11,
   "metadata": {
    "execution": {
     "iopub.execute_input": "2021-03-20T20:13:48.741301Z",
     "iopub.status.busy": "2021-03-20T20:13:48.740688Z",
     "iopub.status.idle": "2021-03-20T20:13:48.745046Z",
     "shell.execute_reply": "2021-03-20T20:13:48.744100Z"
    }
   },
   "outputs": [],
   "source": [
    "add = {'location':'California','doses':dataJson[0]['dataValues'][2]}"
   ]
  },
  {
   "cell_type": "code",
   "execution_count": 12,
   "metadata": {
    "execution": {
     "iopub.execute_input": "2021-03-20T20:13:48.751083Z",
     "iopub.status.busy": "2021-03-20T20:13:48.750577Z",
     "iopub.status.idle": "2021-03-20T20:13:48.754066Z",
     "shell.execute_reply": "2021-03-20T20:13:48.753618Z"
    }
   },
   "outputs": [],
   "source": [
    "df = df.append(add, ignore_index=True)"
   ]
  },
  {
   "cell_type": "code",
   "execution_count": 13,
   "metadata": {
    "execution": {
     "iopub.execute_input": "2021-03-20T20:13:48.758110Z",
     "iopub.status.busy": "2021-03-20T20:13:48.757711Z",
     "iopub.status.idle": "2021-03-20T20:13:48.760765Z",
     "shell.execute_reply": "2021-03-20T20:13:48.760307Z"
    }
   },
   "outputs": [],
   "source": [
    "df = df.sort_values(by='location')"
   ]
  },
  {
   "cell_type": "code",
   "execution_count": 14,
   "metadata": {
    "execution": {
     "iopub.execute_input": "2021-03-20T20:13:48.766311Z",
     "iopub.status.busy": "2021-03-20T20:13:48.765852Z",
     "iopub.status.idle": "2021-03-20T20:13:48.769815Z",
     "shell.execute_reply": "2021-03-20T20:13:48.769391Z"
    }
   },
   "outputs": [],
   "source": [
    "df = df[df.location == 'California'].append(df[df.location != 'California']).reset_index(drop=True)"
   ]
  },
  {
   "cell_type": "code",
   "execution_count": null,
   "metadata": {},
   "outputs": [],
   "source": []
  },
  {
   "cell_type": "code",
   "execution_count": 15,
   "metadata": {
    "execution": {
     "iopub.execute_input": "2021-03-20T20:13:48.773036Z",
     "iopub.status.busy": "2021-03-20T20:13:48.772564Z",
     "iopub.status.idle": "2021-03-20T20:13:48.790412Z",
     "shell.execute_reply": "2021-03-20T20:13:48.790907Z"
    }
   },
   "outputs": [],
   "source": [
    "tz = pytz.timezone(\"America/New_York\")"
   ]
  },
  {
   "cell_type": "code",
   "execution_count": 16,
   "metadata": {
    "execution": {
     "iopub.execute_input": "2021-03-20T20:13:48.794371Z",
     "iopub.status.busy": "2021-03-20T20:13:48.793895Z",
     "iopub.status.idle": "2021-03-20T20:13:48.797202Z",
     "shell.execute_reply": "2021-03-20T20:13:48.796782Z"
    }
   },
   "outputs": [],
   "source": [
    "today = datetime.now(tz).date()"
   ]
  },
  {
   "cell_type": "code",
   "execution_count": 17,
   "metadata": {
    "execution": {
     "iopub.execute_input": "2021-03-20T20:13:48.801190Z",
     "iopub.status.busy": "2021-03-20T20:13:48.800656Z",
     "iopub.status.idle": "2021-03-20T20:13:48.804098Z",
     "shell.execute_reply": "2021-03-20T20:13:48.803654Z"
    }
   },
   "outputs": [],
   "source": [
    "data_dir = os.path.join(os.path.abspath(\"\"), \"data\")"
   ]
  },
  {
   "cell_type": "code",
   "execution_count": 18,
   "metadata": {
    "execution": {
     "iopub.execute_input": "2021-03-20T20:13:48.809857Z",
     "iopub.status.busy": "2021-03-20T20:13:48.807305Z",
     "iopub.status.idle": "2021-03-20T20:13:48.813032Z",
     "shell.execute_reply": "2021-03-20T20:13:48.812612Z"
    }
   },
   "outputs": [],
   "source": [
    "df.to_csv(os.path.join(data_dir, f\"{today}.csv\"), index=False)"
   ]
  },
  {
   "cell_type": "code",
   "execution_count": null,
   "metadata": {},
   "outputs": [],
   "source": []
  }
 ],
 "metadata": {
  "kernelspec": {
   "display_name": "Python 3",
   "language": "python",
   "name": "python3"
  },
  "language_info": {
   "codemirror_mode": {
    "name": "ipython",
    "version": 3
   },
   "file_extension": ".py",
   "mimetype": "text/x-python",
   "name": "python",
   "nbconvert_exporter": "python",
   "pygments_lexer": "ipython3",
   "version": "3.8.8"
  }
 },
 "nbformat": 4,
 "nbformat_minor": 4
}
