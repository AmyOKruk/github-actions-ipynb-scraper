{
 "cells": [
  {
   "cell_type": "markdown",
   "metadata": {},
   "source": [
    "# California COVID vaccinations scrape"
   ]
  },
  {
   "cell_type": "markdown",
   "metadata": {},
   "source": [
    "By [Amy O'Kruk](https://twitter.com/amyokruk)"
   ]
  },
  {
   "cell_type": "markdown",
   "metadata": {},
   "source": [
    "Downloads data on vaccine doses administered by county and statewide from a Tableau-powered dashboard from the California Department of Public Health."
   ]
  },
  {
   "cell_type": "code",
   "execution_count": 1,
   "metadata": {
    "execution": {
     "iopub.execute_input": "2021-03-12T02:55:11.379266Z",
     "iopub.status.busy": "2021-03-12T02:55:11.378561Z",
     "iopub.status.idle": "2021-03-12T02:55:11.762612Z",
     "shell.execute_reply": "2021-03-12T02:55:11.761665Z"
    }
   },
   "outputs": [],
   "source": [
    "import pandas as pd\n",
    "import requests\n",
    "from bs4 import BeautifulSoup\n",
    "import json\n",
    "import re\n",
    "import time\n",
    "from time import gmtime, strftime \n",
    "import os\n",
    "import pytz\n",
    "from datetime import datetime"
   ]
  },
  {
   "cell_type": "markdown",
   "metadata": {},
   "source": [
    "Scrape the dashboard page"
   ]
  },
  {
   "cell_type": "code",
   "execution_count": 2,
   "metadata": {
    "execution": {
     "iopub.execute_input": "2021-03-12T02:55:11.769654Z",
     "iopub.status.busy": "2021-03-12T02:55:11.769081Z",
     "iopub.status.idle": "2021-03-12T02:55:11.983363Z",
     "shell.execute_reply": "2021-03-12T02:55:11.982792Z"
    }
   },
   "outputs": [],
   "source": [
    "url = \"https://public.tableau.com/interactive/views/COVID-19VaccineDashboardPublic/Vaccine?:embed=y&:showVizHome=n&:apiID=host0\"\n",
    "\n",
    "r = requests.get(url)\n",
    "soup = BeautifulSoup(r.text, \"html.parser\")"
   ]
  },
  {
   "cell_type": "code",
   "execution_count": 3,
   "metadata": {
    "execution": {
     "iopub.execute_input": "2021-03-12T02:55:11.988311Z",
     "iopub.status.busy": "2021-03-12T02:55:11.987713Z",
     "iopub.status.idle": "2021-03-12T02:55:11.991378Z",
     "shell.execute_reply": "2021-03-12T02:55:11.991794Z"
    }
   },
   "outputs": [],
   "source": [
    "tableauData = json.loads(soup.find(\"textarea\",{\"id\": \"tsConfigContainer\"}).text)"
   ]
  },
  {
   "cell_type": "markdown",
   "metadata": {},
   "source": [
    "Get the link to the Tableau data"
   ]
  },
  {
   "cell_type": "code",
   "execution_count": 4,
   "metadata": {
    "execution": {
     "iopub.execute_input": "2021-03-12T02:55:11.996318Z",
     "iopub.status.busy": "2021-03-12T02:55:11.995013Z",
     "iopub.status.idle": "2021-03-12T02:55:11.996920Z",
     "shell.execute_reply": "2021-03-12T02:55:11.997350Z"
    }
   },
   "outputs": [],
   "source": [
    "dataUrl = f'https://public.tableau.com{tableauData[\"vizql_root\"]}/bootstrapSession/sessions/{tableauData[\"sessionid\"]}'"
   ]
  },
  {
   "cell_type": "code",
   "execution_count": 5,
   "metadata": {
    "execution": {
     "iopub.execute_input": "2021-03-12T02:55:12.004048Z",
     "iopub.status.busy": "2021-03-12T02:55:12.003492Z",
     "iopub.status.idle": "2021-03-12T02:55:12.492720Z",
     "shell.execute_reply": "2021-03-12T02:55:12.492142Z"
    }
   },
   "outputs": [],
   "source": [
    "r = requests.post(dataUrl, data= {\n",
    "    \"sheet_id\": tableauData[\"sheetId\"],\n",
    "})\n",
    "\n",
    "dataReg = re.search('\\d+;({.*})\\d+;({.*})', r.text, re.MULTILINE)\n",
    "data1 = json.loads(dataReg.group(2))\n",
    "\n",
    "dataJson = data1[\"secondaryInfo\"][\"presModelMap\"][\"dataDictionary\"][\"presModelHolder\"][\"genDataDictionaryPresModel\"][\"dataSegments\"][\"0\"][\"dataColumns\"]"
   ]
  },
  {
   "cell_type": "markdown",
   "metadata": {},
   "source": [
    "Isolate what you want"
   ]
  },
  {
   "cell_type": "code",
   "execution_count": 6,
   "metadata": {
    "execution": {
     "iopub.execute_input": "2021-03-12T02:55:12.497670Z",
     "iopub.status.busy": "2021-03-12T02:55:12.496323Z",
     "iopub.status.idle": "2021-03-12T02:55:12.498258Z",
     "shell.execute_reply": "2021-03-12T02:55:12.498832Z"
    }
   },
   "outputs": [],
   "source": [
    "counties = dataJson[2]['dataValues'][:58]"
   ]
  },
  {
   "cell_type": "code",
   "execution_count": 7,
   "metadata": {
    "execution": {
     "iopub.execute_input": "2021-03-12T02:55:12.509786Z",
     "iopub.status.busy": "2021-03-12T02:55:12.508826Z",
     "iopub.status.idle": "2021-03-12T02:55:12.510759Z",
     "shell.execute_reply": "2021-03-12T02:55:12.511185Z"
    }
   },
   "outputs": [],
   "source": [
    "doses = dataJson[0]['dataValues'][3:61]"
   ]
  },
  {
   "cell_type": "markdown",
   "metadata": {},
   "source": [
    "Data formatting"
   ]
  },
  {
   "cell_type": "code",
   "execution_count": 8,
   "metadata": {
    "execution": {
     "iopub.execute_input": "2021-03-12T02:55:12.515755Z",
     "iopub.status.busy": "2021-03-12T02:55:12.514815Z",
     "iopub.status.idle": "2021-03-12T02:55:12.516755Z",
     "shell.execute_reply": "2021-03-12T02:55:12.517162Z"
    }
   },
   "outputs": [],
   "source": [
    "zipped = dict(zip(counties, doses))"
   ]
  },
  {
   "cell_type": "code",
   "execution_count": 9,
   "metadata": {
    "execution": {
     "iopub.execute_input": "2021-03-12T02:55:12.523660Z",
     "iopub.status.busy": "2021-03-12T02:55:12.522372Z",
     "iopub.status.idle": "2021-03-12T02:55:12.524260Z",
     "shell.execute_reply": "2021-03-12T02:55:12.524685Z"
    }
   },
   "outputs": [],
   "source": [
    "df = pd.Series(zipped).reset_index()"
   ]
  },
  {
   "cell_type": "code",
   "execution_count": 10,
   "metadata": {
    "execution": {
     "iopub.execute_input": "2021-03-12T02:55:12.529214Z",
     "iopub.status.busy": "2021-03-12T02:55:12.527899Z",
     "iopub.status.idle": "2021-03-12T02:55:12.529804Z",
     "shell.execute_reply": "2021-03-12T02:55:12.530256Z"
    }
   },
   "outputs": [],
   "source": [
    "df.columns = ['location','doses']"
   ]
  },
  {
   "cell_type": "markdown",
   "metadata": {},
   "source": [
    "Grab the overall California total"
   ]
  },
  {
   "cell_type": "code",
   "execution_count": 11,
   "metadata": {
    "execution": {
     "iopub.execute_input": "2021-03-12T02:55:12.534734Z",
     "iopub.status.busy": "2021-03-12T02:55:12.533439Z",
     "iopub.status.idle": "2021-03-12T02:55:12.535354Z",
     "shell.execute_reply": "2021-03-12T02:55:12.535792Z"
    }
   },
   "outputs": [],
   "source": [
    "add = {'location':'California','doses':dataJson[0]['dataValues'][2]}"
   ]
  },
  {
   "cell_type": "code",
   "execution_count": 12,
   "metadata": {
    "execution": {
     "iopub.execute_input": "2021-03-12T02:55:12.549533Z",
     "iopub.status.busy": "2021-03-12T02:55:12.548429Z",
     "iopub.status.idle": "2021-03-12T02:55:12.550099Z",
     "shell.execute_reply": "2021-03-12T02:55:12.550518Z"
    }
   },
   "outputs": [],
   "source": [
    "df = df.append(add, ignore_index=True)"
   ]
  },
  {
   "cell_type": "code",
   "execution_count": 13,
   "metadata": {
    "execution": {
     "iopub.execute_input": "2021-03-12T02:55:12.555447Z",
     "iopub.status.busy": "2021-03-12T02:55:12.554243Z",
     "iopub.status.idle": "2021-03-12T02:55:12.556102Z",
     "shell.execute_reply": "2021-03-12T02:55:12.556530Z"
    }
   },
   "outputs": [],
   "source": [
    "df = df.sort_values(by='location')"
   ]
  },
  {
   "cell_type": "code",
   "execution_count": 14,
   "metadata": {
    "execution": {
     "iopub.execute_input": "2021-03-12T02:55:12.562997Z",
     "iopub.status.busy": "2021-03-12T02:55:12.561777Z",
     "iopub.status.idle": "2021-03-12T02:55:12.563625Z",
     "shell.execute_reply": "2021-03-12T02:55:12.564056Z"
    }
   },
   "outputs": [],
   "source": [
    "df = df[df.location == 'California'].append(df[df.location != 'California']).reset_index(drop=True)"
   ]
  },
  {
   "cell_type": "code",
   "execution_count": null,
   "metadata": {},
   "outputs": [],
   "source": []
  },
  {
   "cell_type": "code",
   "execution_count": 15,
   "metadata": {
    "execution": {
     "iopub.execute_input": "2021-03-12T02:55:12.567567Z",
     "iopub.status.busy": "2021-03-12T02:55:12.567009Z",
     "iopub.status.idle": "2021-03-12T02:55:12.584963Z",
     "shell.execute_reply": "2021-03-12T02:55:12.584330Z"
    }
   },
   "outputs": [],
   "source": [
    "tz = pytz.timezone(\"America/New_York\")"
   ]
  },
  {
   "cell_type": "code",
   "execution_count": 16,
   "metadata": {
    "execution": {
     "iopub.execute_input": "2021-03-12T02:55:12.589839Z",
     "iopub.status.busy": "2021-03-12T02:55:12.588580Z",
     "iopub.status.idle": "2021-03-12T02:55:12.590439Z",
     "shell.execute_reply": "2021-03-12T02:55:12.590867Z"
    }
   },
   "outputs": [],
   "source": [
    "today = datetime.now(tz).date()"
   ]
  },
  {
   "cell_type": "code",
   "execution_count": 17,
   "metadata": {
    "execution": {
     "iopub.execute_input": "2021-03-12T02:55:12.595352Z",
     "iopub.status.busy": "2021-03-12T02:55:12.594015Z",
     "iopub.status.idle": "2021-03-12T02:55:12.595990Z",
     "shell.execute_reply": "2021-03-12T02:55:12.596415Z"
    }
   },
   "outputs": [],
   "source": [
    "data_dir = os.path.join(os.path.abspath(\"\"), \"data\")"
   ]
  },
  {
   "cell_type": "code",
   "execution_count": 18,
   "metadata": {
    "execution": {
     "iopub.execute_input": "2021-03-12T02:55:12.600801Z",
     "iopub.status.busy": "2021-03-12T02:55:12.599595Z",
     "iopub.status.idle": "2021-03-12T02:55:12.604438Z",
     "shell.execute_reply": "2021-03-12T02:55:12.603719Z"
    }
   },
   "outputs": [],
   "source": [
    "df.to_csv(os.path.join(data_dir, f\"{today}.csv\"), index=False)"
   ]
  },
  {
   "cell_type": "code",
   "execution_count": null,
   "metadata": {},
   "outputs": [],
   "source": []
  }
 ],
 "metadata": {
  "kernelspec": {
   "display_name": "Python 3",
   "language": "python",
   "name": "python3"
  },
  "language_info": {
   "codemirror_mode": {
    "name": "ipython",
    "version": 3
   },
   "file_extension": ".py",
   "mimetype": "text/x-python",
   "name": "python",
   "nbconvert_exporter": "python",
   "pygments_lexer": "ipython3",
   "version": "3.8.8"
  }
 },
 "nbformat": 4,
 "nbformat_minor": 4
}
