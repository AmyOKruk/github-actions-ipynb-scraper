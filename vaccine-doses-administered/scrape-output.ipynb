{
 "cells": [
  {
   "cell_type": "markdown",
   "metadata": {},
   "source": [
    "# California COVID vaccinations scrape"
   ]
  },
  {
   "cell_type": "markdown",
   "metadata": {},
   "source": [
    "By [Amy O'Kruk](https://twitter.com/amyokruk)"
   ]
  },
  {
   "cell_type": "markdown",
   "metadata": {},
   "source": [
    "Downloads data on vaccine doses administered by county and statewide from a Tableau-powered dashboard from the California Department of Public Health."
   ]
  },
  {
   "cell_type": "code",
   "execution_count": 1,
   "metadata": {
    "execution": {
     "iopub.execute_input": "2021-03-19T04:50:42.500333Z",
     "iopub.status.busy": "2021-03-19T04:50:42.499577Z",
     "iopub.status.idle": "2021-03-19T04:50:43.035529Z",
     "shell.execute_reply": "2021-03-19T04:50:43.034475Z"
    }
   },
   "outputs": [],
   "source": [
    "import pandas as pd\n",
    "import requests\n",
    "from bs4 import BeautifulSoup\n",
    "import json\n",
    "import re\n",
    "import time\n",
    "from time import gmtime, strftime \n",
    "import os\n",
    "import pytz\n",
    "from datetime import datetime"
   ]
  },
  {
   "cell_type": "markdown",
   "metadata": {},
   "source": [
    "Scrape the dashboard page"
   ]
  },
  {
   "cell_type": "code",
   "execution_count": 2,
   "metadata": {
    "execution": {
     "iopub.execute_input": "2021-03-19T04:50:43.042885Z",
     "iopub.status.busy": "2021-03-19T04:50:43.039496Z",
     "iopub.status.idle": "2021-03-19T04:50:43.295612Z",
     "shell.execute_reply": "2021-03-19T04:50:43.295057Z"
    }
   },
   "outputs": [],
   "source": [
    "url = \"https://public.tableau.com/interactive/views/COVID-19VaccineDashboardPublic/Vaccine?:embed=y&:showVizHome=n&:apiID=host0\"\n",
    "\n",
    "r = requests.get(url)\n",
    "soup = BeautifulSoup(r.text, \"html.parser\")"
   ]
  },
  {
   "cell_type": "code",
   "execution_count": 3,
   "metadata": {
    "execution": {
     "iopub.execute_input": "2021-03-19T04:50:43.301128Z",
     "iopub.status.busy": "2021-03-19T04:50:43.300445Z",
     "iopub.status.idle": "2021-03-19T04:50:43.304119Z",
     "shell.execute_reply": "2021-03-19T04:50:43.304587Z"
    }
   },
   "outputs": [],
   "source": [
    "tableauData = json.loads(soup.find(\"textarea\",{\"id\": \"tsConfigContainer\"}).text)"
   ]
  },
  {
   "cell_type": "markdown",
   "metadata": {},
   "source": [
    "Get the link to the Tableau data"
   ]
  },
  {
   "cell_type": "code",
   "execution_count": 4,
   "metadata": {
    "execution": {
     "iopub.execute_input": "2021-03-19T04:50:43.309748Z",
     "iopub.status.busy": "2021-03-19T04:50:43.308234Z",
     "iopub.status.idle": "2021-03-19T04:50:43.310430Z",
     "shell.execute_reply": "2021-03-19T04:50:43.310930Z"
    }
   },
   "outputs": [],
   "source": [
    "dataUrl = f'https://public.tableau.com{tableauData[\"vizql_root\"]}/bootstrapSession/sessions/{tableauData[\"sessionid\"]}'"
   ]
  },
  {
   "cell_type": "code",
   "execution_count": 5,
   "metadata": {
    "execution": {
     "iopub.execute_input": "2021-03-19T04:50:43.321616Z",
     "iopub.status.busy": "2021-03-19T04:50:43.320975Z",
     "iopub.status.idle": "2021-03-19T04:50:43.497158Z",
     "shell.execute_reply": "2021-03-19T04:50:43.496610Z"
    }
   },
   "outputs": [],
   "source": [
    "r = requests.post(dataUrl, data= {\n",
    "    \"sheet_id\": tableauData[\"sheetId\"],\n",
    "})\n",
    "\n",
    "dataReg = re.search('\\d+;({.*})\\d+;({.*})', r.text, re.MULTILINE)\n",
    "data1 = json.loads(dataReg.group(2))\n",
    "\n",
    "dataJson = data1[\"secondaryInfo\"][\"presModelMap\"][\"dataDictionary\"][\"presModelHolder\"][\"genDataDictionaryPresModel\"][\"dataSegments\"][\"0\"][\"dataColumns\"]"
   ]
  },
  {
   "cell_type": "markdown",
   "metadata": {},
   "source": [
    "Isolate what you want"
   ]
  },
  {
   "cell_type": "code",
   "execution_count": 6,
   "metadata": {
    "execution": {
     "iopub.execute_input": "2021-03-19T04:50:43.502795Z",
     "iopub.status.busy": "2021-03-19T04:50:43.501133Z",
     "iopub.status.idle": "2021-03-19T04:50:43.503485Z",
     "shell.execute_reply": "2021-03-19T04:50:43.504015Z"
    }
   },
   "outputs": [],
   "source": [
    "counties = dataJson[2]['dataValues'][:58]"
   ]
  },
  {
   "cell_type": "code",
   "execution_count": 7,
   "metadata": {
    "execution": {
     "iopub.execute_input": "2021-03-19T04:50:43.509004Z",
     "iopub.status.busy": "2021-03-19T04:50:43.507534Z",
     "iopub.status.idle": "2021-03-19T04:50:43.509709Z",
     "shell.execute_reply": "2021-03-19T04:50:43.510214Z"
    }
   },
   "outputs": [],
   "source": [
    "doses = dataJson[0]['dataValues'][3:61]"
   ]
  },
  {
   "cell_type": "markdown",
   "metadata": {},
   "source": [
    "Data formatting"
   ]
  },
  {
   "cell_type": "code",
   "execution_count": 8,
   "metadata": {
    "execution": {
     "iopub.execute_input": "2021-03-19T04:50:43.514457Z",
     "iopub.status.busy": "2021-03-19T04:50:43.513820Z",
     "iopub.status.idle": "2021-03-19T04:50:43.517136Z",
     "shell.execute_reply": "2021-03-19T04:50:43.516405Z"
    }
   },
   "outputs": [],
   "source": [
    "zipped = dict(zip(counties, doses))"
   ]
  },
  {
   "cell_type": "code",
   "execution_count": 9,
   "metadata": {
    "execution": {
     "iopub.execute_input": "2021-03-19T04:50:43.524629Z",
     "iopub.status.busy": "2021-03-19T04:50:43.523068Z",
     "iopub.status.idle": "2021-03-19T04:50:43.525302Z",
     "shell.execute_reply": "2021-03-19T04:50:43.525786Z"
    }
   },
   "outputs": [],
   "source": [
    "df = pd.Series(zipped).reset_index()"
   ]
  },
  {
   "cell_type": "code",
   "execution_count": 10,
   "metadata": {
    "execution": {
     "iopub.execute_input": "2021-03-19T04:50:43.530942Z",
     "iopub.status.busy": "2021-03-19T04:50:43.529427Z",
     "iopub.status.idle": "2021-03-19T04:50:43.531679Z",
     "shell.execute_reply": "2021-03-19T04:50:43.532201Z"
    }
   },
   "outputs": [],
   "source": [
    "df.columns = ['location','doses']"
   ]
  },
  {
   "cell_type": "markdown",
   "metadata": {},
   "source": [
    "Grab the overall California total"
   ]
  },
  {
   "cell_type": "code",
   "execution_count": 11,
   "metadata": {
    "execution": {
     "iopub.execute_input": "2021-03-19T04:50:43.537321Z",
     "iopub.status.busy": "2021-03-19T04:50:43.535906Z",
     "iopub.status.idle": "2021-03-19T04:50:43.538027Z",
     "shell.execute_reply": "2021-03-19T04:50:43.538548Z"
    }
   },
   "outputs": [],
   "source": [
    "add = {'location':'California','doses':dataJson[0]['dataValues'][2]}"
   ]
  },
  {
   "cell_type": "code",
   "execution_count": 12,
   "metadata": {
    "execution": {
     "iopub.execute_input": "2021-03-19T04:50:43.546811Z",
     "iopub.status.busy": "2021-03-19T04:50:43.545479Z",
     "iopub.status.idle": "2021-03-19T04:50:43.547575Z",
     "shell.execute_reply": "2021-03-19T04:50:43.548093Z"
    }
   },
   "outputs": [],
   "source": [
    "df = df.append(add, ignore_index=True)"
   ]
  },
  {
   "cell_type": "code",
   "execution_count": 13,
   "metadata": {
    "execution": {
     "iopub.execute_input": "2021-03-19T04:50:43.553963Z",
     "iopub.status.busy": "2021-03-19T04:50:43.552461Z",
     "iopub.status.idle": "2021-03-19T04:50:43.554656Z",
     "shell.execute_reply": "2021-03-19T04:50:43.555176Z"
    }
   },
   "outputs": [],
   "source": [
    "df = df.sort_values(by='location')"
   ]
  },
  {
   "cell_type": "code",
   "execution_count": 14,
   "metadata": {
    "execution": {
     "iopub.execute_input": "2021-03-19T04:50:43.562414Z",
     "iopub.status.busy": "2021-03-19T04:50:43.560958Z",
     "iopub.status.idle": "2021-03-19T04:50:43.563109Z",
     "shell.execute_reply": "2021-03-19T04:50:43.563614Z"
    }
   },
   "outputs": [],
   "source": [
    "df = df[df.location == 'California'].append(df[df.location != 'California']).reset_index(drop=True)"
   ]
  },
  {
   "cell_type": "code",
   "execution_count": null,
   "metadata": {},
   "outputs": [],
   "source": []
  },
  {
   "cell_type": "code",
   "execution_count": 15,
   "metadata": {
    "execution": {
     "iopub.execute_input": "2021-03-19T04:50:43.568194Z",
     "iopub.status.busy": "2021-03-19T04:50:43.567418Z",
     "iopub.status.idle": "2021-03-19T04:50:43.591050Z",
     "shell.execute_reply": "2021-03-19T04:50:43.590445Z"
    }
   },
   "outputs": [],
   "source": [
    "tz = pytz.timezone(\"America/New_York\")"
   ]
  },
  {
   "cell_type": "code",
   "execution_count": 16,
   "metadata": {
    "execution": {
     "iopub.execute_input": "2021-03-19T04:50:43.595606Z",
     "iopub.status.busy": "2021-03-19T04:50:43.594930Z",
     "iopub.status.idle": "2021-03-19T04:50:43.597416Z",
     "shell.execute_reply": "2021-03-19T04:50:43.597897Z"
    }
   },
   "outputs": [],
   "source": [
    "today = datetime.now(tz).date()"
   ]
  },
  {
   "cell_type": "code",
   "execution_count": 17,
   "metadata": {
    "execution": {
     "iopub.execute_input": "2021-03-19T04:50:43.603038Z",
     "iopub.status.busy": "2021-03-19T04:50:43.601707Z",
     "iopub.status.idle": "2021-03-19T04:50:43.604705Z",
     "shell.execute_reply": "2021-03-19T04:50:43.604163Z"
    }
   },
   "outputs": [],
   "source": [
    "data_dir = os.path.join(os.path.abspath(\"\"), \"data\")"
   ]
  },
  {
   "cell_type": "code",
   "execution_count": 18,
   "metadata": {
    "execution": {
     "iopub.execute_input": "2021-03-19T04:50:43.611324Z",
     "iopub.status.busy": "2021-03-19T04:50:43.608428Z",
     "iopub.status.idle": "2021-03-19T04:50:43.614067Z",
     "shell.execute_reply": "2021-03-19T04:50:43.613464Z"
    }
   },
   "outputs": [],
   "source": [
    "df.to_csv(os.path.join(data_dir, f\"{today}.csv\"), index=False)"
   ]
  },
  {
   "cell_type": "code",
   "execution_count": null,
   "metadata": {},
   "outputs": [],
   "source": []
  }
 ],
 "metadata": {
  "kernelspec": {
   "display_name": "Python 3",
   "language": "python",
   "name": "python3"
  },
  "language_info": {
   "codemirror_mode": {
    "name": "ipython",
    "version": 3
   },
   "file_extension": ".py",
   "mimetype": "text/x-python",
   "name": "python",
   "nbconvert_exporter": "python",
   "pygments_lexer": "ipython3",
   "version": "3.8.8"
  }
 },
 "nbformat": 4,
 "nbformat_minor": 4
}
