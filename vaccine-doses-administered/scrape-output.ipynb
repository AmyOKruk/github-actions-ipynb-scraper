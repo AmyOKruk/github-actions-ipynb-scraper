{
 "cells": [
  {
   "cell_type": "markdown",
   "metadata": {},
   "source": [
    "# California COVID vaccinations scrape"
   ]
  },
  {
   "cell_type": "markdown",
   "metadata": {},
   "source": [
    "By [Amy O'Kruk](https://twitter.com/amyokruk)"
   ]
  },
  {
   "cell_type": "markdown",
   "metadata": {},
   "source": [
    "Downloads data on vaccine doses administered by county and statewide from a Tableau-powered dashboard from the California Department of Public Health."
   ]
  },
  {
   "cell_type": "code",
   "execution_count": 1,
   "metadata": {
    "execution": {
     "iopub.execute_input": "2021-03-17T19:36:43.219426Z",
     "iopub.status.busy": "2021-03-17T19:36:43.218729Z",
     "iopub.status.idle": "2021-03-17T19:36:43.653917Z",
     "shell.execute_reply": "2021-03-17T19:36:43.652877Z"
    }
   },
   "outputs": [],
   "source": [
    "import pandas as pd\n",
    "import requests\n",
    "from bs4 import BeautifulSoup\n",
    "import json\n",
    "import re\n",
    "import time\n",
    "from time import gmtime, strftime \n",
    "import os\n",
    "import pytz\n",
    "from datetime import datetime"
   ]
  },
  {
   "cell_type": "markdown",
   "metadata": {},
   "source": [
    "Scrape the dashboard page"
   ]
  },
  {
   "cell_type": "code",
   "execution_count": 2,
   "metadata": {
    "execution": {
     "iopub.execute_input": "2021-03-17T19:36:43.660132Z",
     "iopub.status.busy": "2021-03-17T19:36:43.657801Z",
     "iopub.status.idle": "2021-03-17T19:36:44.000509Z",
     "shell.execute_reply": "2021-03-17T19:36:43.999693Z"
    }
   },
   "outputs": [],
   "source": [
    "url = \"https://public.tableau.com/interactive/views/COVID-19VaccineDashboardPublic/Vaccine?:embed=y&:showVizHome=n&:apiID=host0\"\n",
    "\n",
    "r = requests.get(url)\n",
    "soup = BeautifulSoup(r.text, \"html.parser\")"
   ]
  },
  {
   "cell_type": "code",
   "execution_count": 3,
   "metadata": {
    "execution": {
     "iopub.execute_input": "2021-03-17T19:36:44.006312Z",
     "iopub.status.busy": "2021-03-17T19:36:44.005790Z",
     "iopub.status.idle": "2021-03-17T19:36:44.008994Z",
     "shell.execute_reply": "2021-03-17T19:36:44.009408Z"
    }
   },
   "outputs": [],
   "source": [
    "tableauData = json.loads(soup.find(\"textarea\",{\"id\": \"tsConfigContainer\"}).text)"
   ]
  },
  {
   "cell_type": "markdown",
   "metadata": {},
   "source": [
    "Get the link to the Tableau data"
   ]
  },
  {
   "cell_type": "code",
   "execution_count": 4,
   "metadata": {
    "execution": {
     "iopub.execute_input": "2021-03-17T19:36:44.014244Z",
     "iopub.status.busy": "2021-03-17T19:36:44.012982Z",
     "iopub.status.idle": "2021-03-17T19:36:44.014851Z",
     "shell.execute_reply": "2021-03-17T19:36:44.015287Z"
    }
   },
   "outputs": [],
   "source": [
    "dataUrl = f'https://public.tableau.com{tableauData[\"vizql_root\"]}/bootstrapSession/sessions/{tableauData[\"sessionid\"]}'"
   ]
  },
  {
   "cell_type": "code",
   "execution_count": 5,
   "metadata": {
    "execution": {
     "iopub.execute_input": "2021-03-17T19:36:44.021881Z",
     "iopub.status.busy": "2021-03-17T19:36:44.021317Z",
     "iopub.status.idle": "2021-03-17T19:36:44.259525Z",
     "shell.execute_reply": "2021-03-17T19:36:44.258656Z"
    }
   },
   "outputs": [],
   "source": [
    "r = requests.post(dataUrl, data= {\n",
    "    \"sheet_id\": tableauData[\"sheetId\"],\n",
    "})\n",
    "\n",
    "dataReg = re.search('\\d+;({.*})\\d+;({.*})', r.text, re.MULTILINE)\n",
    "data1 = json.loads(dataReg.group(2))\n",
    "\n",
    "dataJson = data1[\"secondaryInfo\"][\"presModelMap\"][\"dataDictionary\"][\"presModelHolder\"][\"genDataDictionaryPresModel\"][\"dataSegments\"][\"0\"][\"dataColumns\"]"
   ]
  },
  {
   "cell_type": "markdown",
   "metadata": {},
   "source": [
    "Isolate what you want"
   ]
  },
  {
   "cell_type": "code",
   "execution_count": 6,
   "metadata": {
    "execution": {
     "iopub.execute_input": "2021-03-17T19:36:44.265366Z",
     "iopub.status.busy": "2021-03-17T19:36:44.264449Z",
     "iopub.status.idle": "2021-03-17T19:36:44.266328Z",
     "shell.execute_reply": "2021-03-17T19:36:44.266850Z"
    }
   },
   "outputs": [],
   "source": [
    "counties = dataJson[2]['dataValues'][:58]"
   ]
  },
  {
   "cell_type": "code",
   "execution_count": 7,
   "metadata": {
    "execution": {
     "iopub.execute_input": "2021-03-17T19:36:44.270804Z",
     "iopub.status.busy": "2021-03-17T19:36:44.270292Z",
     "iopub.status.idle": "2021-03-17T19:36:44.273031Z",
     "shell.execute_reply": "2021-03-17T19:36:44.272539Z"
    }
   },
   "outputs": [],
   "source": [
    "doses = dataJson[0]['dataValues'][3:61]"
   ]
  },
  {
   "cell_type": "markdown",
   "metadata": {},
   "source": [
    "Data formatting"
   ]
  },
  {
   "cell_type": "code",
   "execution_count": 8,
   "metadata": {
    "execution": {
     "iopub.execute_input": "2021-03-17T19:36:44.277779Z",
     "iopub.status.busy": "2021-03-17T19:36:44.276580Z",
     "iopub.status.idle": "2021-03-17T19:36:44.278557Z",
     "shell.execute_reply": "2021-03-17T19:36:44.279014Z"
    }
   },
   "outputs": [],
   "source": [
    "zipped = dict(zip(counties, doses))"
   ]
  },
  {
   "cell_type": "code",
   "execution_count": 9,
   "metadata": {
    "execution": {
     "iopub.execute_input": "2021-03-17T19:36:44.286016Z",
     "iopub.status.busy": "2021-03-17T19:36:44.284662Z",
     "iopub.status.idle": "2021-03-17T19:36:44.286617Z",
     "shell.execute_reply": "2021-03-17T19:36:44.287045Z"
    }
   },
   "outputs": [],
   "source": [
    "df = pd.Series(zipped).reset_index()"
   ]
  },
  {
   "cell_type": "code",
   "execution_count": 10,
   "metadata": {
    "execution": {
     "iopub.execute_input": "2021-03-17T19:36:44.291736Z",
     "iopub.status.busy": "2021-03-17T19:36:44.290621Z",
     "iopub.status.idle": "2021-03-17T19:36:44.293228Z",
     "shell.execute_reply": "2021-03-17T19:36:44.293672Z"
    }
   },
   "outputs": [],
   "source": [
    "df.columns = ['location','doses']"
   ]
  },
  {
   "cell_type": "markdown",
   "metadata": {},
   "source": [
    "Grab the overall California total"
   ]
  },
  {
   "cell_type": "code",
   "execution_count": 11,
   "metadata": {
    "execution": {
     "iopub.execute_input": "2021-03-17T19:36:44.298475Z",
     "iopub.status.busy": "2021-03-17T19:36:44.297290Z",
     "iopub.status.idle": "2021-03-17T19:36:44.299138Z",
     "shell.execute_reply": "2021-03-17T19:36:44.299572Z"
    }
   },
   "outputs": [],
   "source": [
    "add = {'location':'California','doses':dataJson[0]['dataValues'][2]}"
   ]
  },
  {
   "cell_type": "code",
   "execution_count": 12,
   "metadata": {
    "execution": {
     "iopub.execute_input": "2021-03-17T19:36:44.306841Z",
     "iopub.status.busy": "2021-03-17T19:36:44.305697Z",
     "iopub.status.idle": "2021-03-17T19:36:44.307854Z",
     "shell.execute_reply": "2021-03-17T19:36:44.308327Z"
    }
   },
   "outputs": [],
   "source": [
    "df = df.append(add, ignore_index=True)"
   ]
  },
  {
   "cell_type": "code",
   "execution_count": 13,
   "metadata": {
    "execution": {
     "iopub.execute_input": "2021-03-17T19:36:44.313746Z",
     "iopub.status.busy": "2021-03-17T19:36:44.312821Z",
     "iopub.status.idle": "2021-03-17T19:36:44.314843Z",
     "shell.execute_reply": "2021-03-17T19:36:44.315278Z"
    }
   },
   "outputs": [],
   "source": [
    "df = df.sort_values(by='location')"
   ]
  },
  {
   "cell_type": "code",
   "execution_count": 14,
   "metadata": {
    "execution": {
     "iopub.execute_input": "2021-03-17T19:36:44.322819Z",
     "iopub.status.busy": "2021-03-17T19:36:44.321629Z",
     "iopub.status.idle": "2021-03-17T19:36:44.323587Z",
     "shell.execute_reply": "2021-03-17T19:36:44.324038Z"
    }
   },
   "outputs": [],
   "source": [
    "df = df[df.location == 'California'].append(df[df.location != 'California']).reset_index(drop=True)"
   ]
  },
  {
   "cell_type": "code",
   "execution_count": null,
   "metadata": {},
   "outputs": [],
   "source": []
  },
  {
   "cell_type": "code",
   "execution_count": 15,
   "metadata": {
    "execution": {
     "iopub.execute_input": "2021-03-17T19:36:44.327877Z",
     "iopub.status.busy": "2021-03-17T19:36:44.327364Z",
     "iopub.status.idle": "2021-03-17T19:36:44.347339Z",
     "shell.execute_reply": "2021-03-17T19:36:44.346678Z"
    }
   },
   "outputs": [],
   "source": [
    "tz = pytz.timezone(\"America/New_York\")"
   ]
  },
  {
   "cell_type": "code",
   "execution_count": 16,
   "metadata": {
    "execution": {
     "iopub.execute_input": "2021-03-17T19:36:44.352072Z",
     "iopub.status.busy": "2021-03-17T19:36:44.350927Z",
     "iopub.status.idle": "2021-03-17T19:36:44.352653Z",
     "shell.execute_reply": "2021-03-17T19:36:44.353137Z"
    }
   },
   "outputs": [],
   "source": [
    "today = datetime.now(tz).date()"
   ]
  },
  {
   "cell_type": "code",
   "execution_count": 17,
   "metadata": {
    "execution": {
     "iopub.execute_input": "2021-03-17T19:36:44.358290Z",
     "iopub.status.busy": "2021-03-17T19:36:44.356772Z",
     "iopub.status.idle": "2021-03-17T19:36:44.358878Z",
     "shell.execute_reply": "2021-03-17T19:36:44.359313Z"
    }
   },
   "outputs": [],
   "source": [
    "data_dir = os.path.join(os.path.abspath(\"\"), \"data\")"
   ]
  },
  {
   "cell_type": "code",
   "execution_count": 18,
   "metadata": {
    "execution": {
     "iopub.execute_input": "2021-03-17T19:36:44.363839Z",
     "iopub.status.busy": "2021-03-17T19:36:44.362835Z",
     "iopub.status.idle": "2021-03-17T19:36:44.367666Z",
     "shell.execute_reply": "2021-03-17T19:36:44.367150Z"
    }
   },
   "outputs": [],
   "source": [
    "df.to_csv(os.path.join(data_dir, f\"{today}.csv\"), index=False)"
   ]
  },
  {
   "cell_type": "code",
   "execution_count": null,
   "metadata": {},
   "outputs": [],
   "source": []
  }
 ],
 "metadata": {
  "kernelspec": {
   "display_name": "Python 3",
   "language": "python",
   "name": "python3"
  },
  "language_info": {
   "codemirror_mode": {
    "name": "ipython",
    "version": 3
   },
   "file_extension": ".py",
   "mimetype": "text/x-python",
   "name": "python",
   "nbconvert_exporter": "python",
   "pygments_lexer": "ipython3",
   "version": "3.8.8"
  }
 },
 "nbformat": 4,
 "nbformat_minor": 4
}
