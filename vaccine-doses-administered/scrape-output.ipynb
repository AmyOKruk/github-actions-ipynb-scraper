{
 "cells": [
  {
   "cell_type": "markdown",
   "metadata": {},
   "source": [
    "# California COVID vaccinations scrape"
   ]
  },
  {
   "cell_type": "markdown",
   "metadata": {},
   "source": [
    "By [Amy O'Kruk](https://twitter.com/amyokruk)"
   ]
  },
  {
   "cell_type": "markdown",
   "metadata": {},
   "source": [
    "Downloads data on vaccine doses administered by county and statewide from a Tableau-powered dashboard from the California Department of Public Health."
   ]
  },
  {
   "cell_type": "code",
   "execution_count": 1,
   "metadata": {
    "execution": {
     "iopub.execute_input": "2021-03-10T21:11:29.134720Z",
     "iopub.status.busy": "2021-03-10T21:11:29.134229Z",
     "iopub.status.idle": "2021-03-10T21:11:29.472314Z",
     "shell.execute_reply": "2021-03-10T21:11:29.471163Z"
    }
   },
   "outputs": [],
   "source": [
    "import pandas as pd\n",
    "import requests\n",
    "from bs4 import BeautifulSoup\n",
    "import json\n",
    "import re\n",
    "import time\n",
    "from time import gmtime, strftime \n",
    "import os\n",
    "import pytz\n",
    "from datetime import datetime"
   ]
  },
  {
   "cell_type": "markdown",
   "metadata": {},
   "source": [
    "Scrape the dashboard page"
   ]
  },
  {
   "cell_type": "code",
   "execution_count": 2,
   "metadata": {
    "execution": {
     "iopub.execute_input": "2021-03-10T21:11:29.477988Z",
     "iopub.status.busy": "2021-03-10T21:11:29.476133Z",
     "iopub.status.idle": "2021-03-10T21:11:29.869020Z",
     "shell.execute_reply": "2021-03-10T21:11:29.868236Z"
    }
   },
   "outputs": [],
   "source": [
    "url = \"https://public.tableau.com/interactive/views/COVID-19VaccineDashboardPublic/Vaccine?:embed=y&:showVizHome=n&:apiID=host0\"\n",
    "\n",
    "r = requests.get(url)\n",
    "soup = BeautifulSoup(r.text, \"html.parser\")"
   ]
  },
  {
   "cell_type": "code",
   "execution_count": 3,
   "metadata": {
    "execution": {
     "iopub.execute_input": "2021-03-10T21:11:29.873867Z",
     "iopub.status.busy": "2021-03-10T21:11:29.873098Z",
     "iopub.status.idle": "2021-03-10T21:11:29.874544Z",
     "shell.execute_reply": "2021-03-10T21:11:29.874848Z"
    }
   },
   "outputs": [],
   "source": [
    "tableauData = json.loads(soup.find(\"textarea\",{\"id\": \"tsConfigContainer\"}).text)"
   ]
  },
  {
   "cell_type": "markdown",
   "metadata": {},
   "source": [
    "Get the link to the Tableau data"
   ]
  },
  {
   "cell_type": "code",
   "execution_count": 4,
   "metadata": {
    "execution": {
     "iopub.execute_input": "2021-03-10T21:11:29.878405Z",
     "iopub.status.busy": "2021-03-10T21:11:29.877378Z",
     "iopub.status.idle": "2021-03-10T21:11:29.879068Z",
     "shell.execute_reply": "2021-03-10T21:11:29.879440Z"
    }
   },
   "outputs": [],
   "source": [
    "dataUrl = f'https://public.tableau.com{tableauData[\"vizql_root\"]}/bootstrapSession/sessions/{tableauData[\"sessionid\"]}'"
   ]
  },
  {
   "cell_type": "code",
   "execution_count": 5,
   "metadata": {
    "execution": {
     "iopub.execute_input": "2021-03-10T21:11:29.884979Z",
     "iopub.status.busy": "2021-03-10T21:11:29.884601Z",
     "iopub.status.idle": "2021-03-10T21:11:30.067333Z",
     "shell.execute_reply": "2021-03-10T21:11:30.066510Z"
    }
   },
   "outputs": [],
   "source": [
    "r = requests.post(dataUrl, data= {\n",
    "    \"sheet_id\": tableauData[\"sheetId\"],\n",
    "})\n",
    "\n",
    "dataReg = re.search('\\d+;({.*})\\d+;({.*})', r.text, re.MULTILINE)\n",
    "data1 = json.loads(dataReg.group(2))\n",
    "\n",
    "dataJson = data1[\"secondaryInfo\"][\"presModelMap\"][\"dataDictionary\"][\"presModelHolder\"][\"genDataDictionaryPresModel\"][\"dataSegments\"][\"0\"][\"dataColumns\"]"
   ]
  },
  {
   "cell_type": "markdown",
   "metadata": {},
   "source": [
    "Isolate what you want"
   ]
  },
  {
   "cell_type": "code",
   "execution_count": 6,
   "metadata": {
    "execution": {
     "iopub.execute_input": "2021-03-10T21:11:30.072664Z",
     "iopub.status.busy": "2021-03-10T21:11:30.071839Z",
     "iopub.status.idle": "2021-03-10T21:11:30.073442Z",
     "shell.execute_reply": "2021-03-10T21:11:30.073063Z"
    }
   },
   "outputs": [],
   "source": [
    "counties = dataJson[2]['dataValues'][:58]"
   ]
  },
  {
   "cell_type": "code",
   "execution_count": 7,
   "metadata": {
    "execution": {
     "iopub.execute_input": "2021-03-10T21:11:30.076767Z",
     "iopub.status.busy": "2021-03-10T21:11:30.075972Z",
     "iopub.status.idle": "2021-03-10T21:11:30.078026Z",
     "shell.execute_reply": "2021-03-10T21:11:30.077589Z"
    }
   },
   "outputs": [],
   "source": [
    "doses = dataJson[0]['dataValues'][3:61]"
   ]
  },
  {
   "cell_type": "markdown",
   "metadata": {},
   "source": [
    "Data formatting"
   ]
  },
  {
   "cell_type": "code",
   "execution_count": 8,
   "metadata": {
    "execution": {
     "iopub.execute_input": "2021-03-10T21:11:30.081662Z",
     "iopub.status.busy": "2021-03-10T21:11:30.080610Z",
     "iopub.status.idle": "2021-03-10T21:11:30.082295Z",
     "shell.execute_reply": "2021-03-10T21:11:30.082663Z"
    }
   },
   "outputs": [],
   "source": [
    "zipped = dict(zip(counties, doses))"
   ]
  },
  {
   "cell_type": "code",
   "execution_count": 9,
   "metadata": {
    "execution": {
     "iopub.execute_input": "2021-03-10T21:11:30.087860Z",
     "iopub.status.busy": "2021-03-10T21:11:30.087139Z",
     "iopub.status.idle": "2021-03-10T21:11:30.088942Z",
     "shell.execute_reply": "2021-03-10T21:11:30.088606Z"
    }
   },
   "outputs": [],
   "source": [
    "df = pd.Series(zipped).reset_index()"
   ]
  },
  {
   "cell_type": "code",
   "execution_count": 10,
   "metadata": {
    "execution": {
     "iopub.execute_input": "2021-03-10T21:11:30.092476Z",
     "iopub.status.busy": "2021-03-10T21:11:30.091392Z",
     "iopub.status.idle": "2021-03-10T21:11:30.092935Z",
     "shell.execute_reply": "2021-03-10T21:11:30.093277Z"
    }
   },
   "outputs": [],
   "source": [
    "df.columns = ['location','doses']"
   ]
  },
  {
   "cell_type": "markdown",
   "metadata": {},
   "source": [
    "Grab the overall California total"
   ]
  },
  {
   "cell_type": "code",
   "execution_count": 11,
   "metadata": {
    "execution": {
     "iopub.execute_input": "2021-03-10T21:11:30.096683Z",
     "iopub.status.busy": "2021-03-10T21:11:30.095804Z",
     "iopub.status.idle": "2021-03-10T21:11:30.097330Z",
     "shell.execute_reply": "2021-03-10T21:11:30.097637Z"
    }
   },
   "outputs": [],
   "source": [
    "add = {'location':'California','doses':dataJson[0]['dataValues'][2]}"
   ]
  },
  {
   "cell_type": "code",
   "execution_count": 12,
   "metadata": {
    "execution": {
     "iopub.execute_input": "2021-03-10T21:11:30.103284Z",
     "iopub.status.busy": "2021-03-10T21:11:30.102528Z",
     "iopub.status.idle": "2021-03-10T21:11:30.104211Z",
     "shell.execute_reply": "2021-03-10T21:11:30.104582Z"
    }
   },
   "outputs": [],
   "source": [
    "df = df.append(add, ignore_index=True)"
   ]
  },
  {
   "cell_type": "code",
   "execution_count": 13,
   "metadata": {
    "execution": {
     "iopub.execute_input": "2021-03-10T21:11:30.108525Z",
     "iopub.status.busy": "2021-03-10T21:11:30.107808Z",
     "iopub.status.idle": "2021-03-10T21:11:30.109503Z",
     "shell.execute_reply": "2021-03-10T21:11:30.109184Z"
    }
   },
   "outputs": [],
   "source": [
    "df = df.sort_values(by='location')"
   ]
  },
  {
   "cell_type": "code",
   "execution_count": 14,
   "metadata": {
    "execution": {
     "iopub.execute_input": "2021-03-10T21:11:30.114468Z",
     "iopub.status.busy": "2021-03-10T21:11:30.113604Z",
     "iopub.status.idle": "2021-03-10T21:11:30.115105Z",
     "shell.execute_reply": "2021-03-10T21:11:30.115558Z"
    }
   },
   "outputs": [],
   "source": [
    "df = df[df.location == 'California'].append(df[df.location != 'California']).reset_index(drop=True)"
   ]
  },
  {
   "cell_type": "code",
   "execution_count": null,
   "metadata": {},
   "outputs": [],
   "source": []
  },
  {
   "cell_type": "code",
   "execution_count": 15,
   "metadata": {
    "execution": {
     "iopub.execute_input": "2021-03-10T21:11:30.118675Z",
     "iopub.status.busy": "2021-03-10T21:11:30.118240Z",
     "iopub.status.idle": "2021-03-10T21:11:30.132461Z",
     "shell.execute_reply": "2021-03-10T21:11:30.132039Z"
    }
   },
   "outputs": [],
   "source": [
    "tz = pytz.timezone(\"America/New_York\")"
   ]
  },
  {
   "cell_type": "code",
   "execution_count": 16,
   "metadata": {
    "execution": {
     "iopub.execute_input": "2021-03-10T21:11:30.135040Z",
     "iopub.status.busy": "2021-03-10T21:11:30.134676Z",
     "iopub.status.idle": "2021-03-10T21:11:30.136786Z",
     "shell.execute_reply": "2021-03-10T21:11:30.136368Z"
    }
   },
   "outputs": [],
   "source": [
    "today = datetime.now(tz).date()"
   ]
  },
  {
   "cell_type": "code",
   "execution_count": 17,
   "metadata": {
    "execution": {
     "iopub.execute_input": "2021-03-10T21:11:30.140143Z",
     "iopub.status.busy": "2021-03-10T21:11:30.139388Z",
     "iopub.status.idle": "2021-03-10T21:11:30.140912Z",
     "shell.execute_reply": "2021-03-10T21:11:30.141264Z"
    }
   },
   "outputs": [],
   "source": [
    "data_dir = os.path.join(os.path.abspath(\"\"), \"data\")"
   ]
  },
  {
   "cell_type": "code",
   "execution_count": 18,
   "metadata": {
    "execution": {
     "iopub.execute_input": "2021-03-10T21:11:30.145063Z",
     "iopub.status.busy": "2021-03-10T21:11:30.144229Z",
     "iopub.status.idle": "2021-03-10T21:11:30.148521Z",
     "shell.execute_reply": "2021-03-10T21:11:30.148047Z"
    }
   },
   "outputs": [],
   "source": [
    "df.to_csv(os.path.join(data_dir, f\"{today}.csv\"), index=False)"
   ]
  },
  {
   "cell_type": "code",
   "execution_count": null,
   "metadata": {},
   "outputs": [],
   "source": []
  }
 ],
 "metadata": {
  "kernelspec": {
   "display_name": "Python 3",
   "language": "python",
   "name": "python3"
  },
  "language_info": {
   "codemirror_mode": {
    "name": "ipython",
    "version": 3
   },
   "file_extension": ".py",
   "mimetype": "text/x-python",
   "name": "python",
   "nbconvert_exporter": "python",
   "pygments_lexer": "ipython3",
   "version": "3.8.8"
  }
 },
 "nbformat": 4,
 "nbformat_minor": 4
}
