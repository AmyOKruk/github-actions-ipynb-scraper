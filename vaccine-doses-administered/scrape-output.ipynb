{
 "cells": [
  {
   "cell_type": "markdown",
   "metadata": {},
   "source": [
    "# California COVID vaccinations scrape"
   ]
  },
  {
   "cell_type": "markdown",
   "metadata": {},
   "source": [
    "By [Amy O'Kruk](https://twitter.com/amyokruk)"
   ]
  },
  {
   "cell_type": "markdown",
   "metadata": {},
   "source": [
    "Downloads data on vaccine doses administered by county and statewide from a Tableau-powered dashboard from the California Department of Public Health."
   ]
  },
  {
   "cell_type": "code",
   "execution_count": 1,
   "metadata": {
    "execution": {
     "iopub.execute_input": "2021-03-12T14:40:50.857593Z",
     "iopub.status.busy": "2021-03-12T14:40:50.856874Z",
     "iopub.status.idle": "2021-03-12T14:40:51.257798Z",
     "shell.execute_reply": "2021-03-12T14:40:51.257181Z"
    }
   },
   "outputs": [],
   "source": [
    "import pandas as pd\n",
    "import requests\n",
    "from bs4 import BeautifulSoup\n",
    "import json\n",
    "import re\n",
    "import time\n",
    "from time import gmtime, strftime \n",
    "import os\n",
    "import pytz\n",
    "from datetime import datetime"
   ]
  },
  {
   "cell_type": "markdown",
   "metadata": {},
   "source": [
    "Scrape the dashboard page"
   ]
  },
  {
   "cell_type": "code",
   "execution_count": 2,
   "metadata": {
    "execution": {
     "iopub.execute_input": "2021-03-12T14:40:51.263770Z",
     "iopub.status.busy": "2021-03-12T14:40:51.261495Z",
     "iopub.status.idle": "2021-03-12T14:40:51.959355Z",
     "shell.execute_reply": "2021-03-12T14:40:51.958761Z"
    }
   },
   "outputs": [],
   "source": [
    "url = \"https://public.tableau.com/interactive/views/COVID-19VaccineDashboardPublic/Vaccine?:embed=y&:showVizHome=n&:apiID=host0\"\n",
    "\n",
    "r = requests.get(url)\n",
    "soup = BeautifulSoup(r.text, \"html.parser\")"
   ]
  },
  {
   "cell_type": "code",
   "execution_count": 3,
   "metadata": {
    "execution": {
     "iopub.execute_input": "2021-03-12T14:40:51.964591Z",
     "iopub.status.busy": "2021-03-12T14:40:51.963985Z",
     "iopub.status.idle": "2021-03-12T14:40:51.967974Z",
     "shell.execute_reply": "2021-03-12T14:40:51.967439Z"
    }
   },
   "outputs": [],
   "source": [
    "tableauData = json.loads(soup.find(\"textarea\",{\"id\": \"tsConfigContainer\"}).text)"
   ]
  },
  {
   "cell_type": "markdown",
   "metadata": {},
   "source": [
    "Get the link to the Tableau data"
   ]
  },
  {
   "cell_type": "code",
   "execution_count": 4,
   "metadata": {
    "execution": {
     "iopub.execute_input": "2021-03-12T14:40:51.971938Z",
     "iopub.status.busy": "2021-03-12T14:40:51.971339Z",
     "iopub.status.idle": "2021-03-12T14:40:51.974641Z",
     "shell.execute_reply": "2021-03-12T14:40:51.975120Z"
    }
   },
   "outputs": [],
   "source": [
    "dataUrl = f'https://public.tableau.com{tableauData[\"vizql_root\"]}/bootstrapSession/sessions/{tableauData[\"sessionid\"]}'"
   ]
  },
  {
   "cell_type": "code",
   "execution_count": 5,
   "metadata": {
    "execution": {
     "iopub.execute_input": "2021-03-12T14:40:51.982106Z",
     "iopub.status.busy": "2021-03-12T14:40:51.980983Z",
     "iopub.status.idle": "2021-03-12T14:40:52.450743Z",
     "shell.execute_reply": "2021-03-12T14:40:52.449897Z"
    }
   },
   "outputs": [],
   "source": [
    "r = requests.post(dataUrl, data= {\n",
    "    \"sheet_id\": tableauData[\"sheetId\"],\n",
    "})\n",
    "\n",
    "dataReg = re.search('\\d+;({.*})\\d+;({.*})', r.text, re.MULTILINE)\n",
    "data1 = json.loads(dataReg.group(2))\n",
    "\n",
    "dataJson = data1[\"secondaryInfo\"][\"presModelMap\"][\"dataDictionary\"][\"presModelHolder\"][\"genDataDictionaryPresModel\"][\"dataSegments\"][\"0\"][\"dataColumns\"]"
   ]
  },
  {
   "cell_type": "markdown",
   "metadata": {},
   "source": [
    "Isolate what you want"
   ]
  },
  {
   "cell_type": "code",
   "execution_count": 6,
   "metadata": {
    "execution": {
     "iopub.execute_input": "2021-03-12T14:40:52.455876Z",
     "iopub.status.busy": "2021-03-12T14:40:52.455168Z",
     "iopub.status.idle": "2021-03-12T14:40:52.459733Z",
     "shell.execute_reply": "2021-03-12T14:40:52.459118Z"
    }
   },
   "outputs": [],
   "source": [
    "counties = dataJson[2]['dataValues'][:58]"
   ]
  },
  {
   "cell_type": "code",
   "execution_count": 7,
   "metadata": {
    "execution": {
     "iopub.execute_input": "2021-03-12T14:40:52.464322Z",
     "iopub.status.busy": "2021-03-12T14:40:52.463643Z",
     "iopub.status.idle": "2021-03-12T14:40:52.467979Z",
     "shell.execute_reply": "2021-03-12T14:40:52.467379Z"
    }
   },
   "outputs": [],
   "source": [
    "doses = dataJson[0]['dataValues'][3:61]"
   ]
  },
  {
   "cell_type": "markdown",
   "metadata": {},
   "source": [
    "Data formatting"
   ]
  },
  {
   "cell_type": "code",
   "execution_count": 8,
   "metadata": {
    "execution": {
     "iopub.execute_input": "2021-03-12T14:40:52.471943Z",
     "iopub.status.busy": "2021-03-12T14:40:52.471229Z",
     "iopub.status.idle": "2021-03-12T14:40:52.476724Z",
     "shell.execute_reply": "2021-03-12T14:40:52.476121Z"
    }
   },
   "outputs": [],
   "source": [
    "zipped = dict(zip(counties, doses))"
   ]
  },
  {
   "cell_type": "code",
   "execution_count": 9,
   "metadata": {
    "execution": {
     "iopub.execute_input": "2021-03-12T14:40:52.484287Z",
     "iopub.status.busy": "2021-03-12T14:40:52.483611Z",
     "iopub.status.idle": "2021-03-12T14:40:52.487845Z",
     "shell.execute_reply": "2021-03-12T14:40:52.488647Z"
    }
   },
   "outputs": [],
   "source": [
    "df = pd.Series(zipped).reset_index()"
   ]
  },
  {
   "cell_type": "code",
   "execution_count": 10,
   "metadata": {
    "execution": {
     "iopub.execute_input": "2021-03-12T14:40:52.493768Z",
     "iopub.status.busy": "2021-03-12T14:40:52.493116Z",
     "iopub.status.idle": "2021-03-12T14:40:52.497287Z",
     "shell.execute_reply": "2021-03-12T14:40:52.496646Z"
    }
   },
   "outputs": [],
   "source": [
    "df.columns = ['location','doses']"
   ]
  },
  {
   "cell_type": "markdown",
   "metadata": {},
   "source": [
    "Grab the overall California total"
   ]
  },
  {
   "cell_type": "code",
   "execution_count": 11,
   "metadata": {
    "execution": {
     "iopub.execute_input": "2021-03-12T14:40:52.502589Z",
     "iopub.status.busy": "2021-03-12T14:40:52.501628Z",
     "iopub.status.idle": "2021-03-12T14:40:52.506139Z",
     "shell.execute_reply": "2021-03-12T14:40:52.505571Z"
    }
   },
   "outputs": [],
   "source": [
    "add = {'location':'California','doses':dataJson[0]['dataValues'][2]}"
   ]
  },
  {
   "cell_type": "code",
   "execution_count": 12,
   "metadata": {
    "execution": {
     "iopub.execute_input": "2021-03-12T14:40:52.513564Z",
     "iopub.status.busy": "2021-03-12T14:40:52.512935Z",
     "iopub.status.idle": "2021-03-12T14:40:52.516681Z",
     "shell.execute_reply": "2021-03-12T14:40:52.517519Z"
    }
   },
   "outputs": [],
   "source": [
    "df = df.append(add, ignore_index=True)"
   ]
  },
  {
   "cell_type": "code",
   "execution_count": 13,
   "metadata": {
    "execution": {
     "iopub.execute_input": "2021-03-12T14:40:52.522901Z",
     "iopub.status.busy": "2021-03-12T14:40:52.522242Z",
     "iopub.status.idle": "2021-03-12T14:40:52.525940Z",
     "shell.execute_reply": "2021-03-12T14:40:52.526568Z"
    }
   },
   "outputs": [],
   "source": [
    "df = df.sort_values(by='location')"
   ]
  },
  {
   "cell_type": "code",
   "execution_count": 14,
   "metadata": {
    "execution": {
     "iopub.execute_input": "2021-03-12T14:40:52.534077Z",
     "iopub.status.busy": "2021-03-12T14:40:52.533453Z",
     "iopub.status.idle": "2021-03-12T14:40:52.536994Z",
     "shell.execute_reply": "2021-03-12T14:40:52.537740Z"
    }
   },
   "outputs": [],
   "source": [
    "df = df[df.location == 'California'].append(df[df.location != 'California']).reset_index(drop=True)"
   ]
  },
  {
   "cell_type": "code",
   "execution_count": null,
   "metadata": {},
   "outputs": [],
   "source": []
  },
  {
   "cell_type": "code",
   "execution_count": 15,
   "metadata": {
    "execution": {
     "iopub.execute_input": "2021-03-12T14:40:52.541899Z",
     "iopub.status.busy": "2021-03-12T14:40:52.541008Z",
     "iopub.status.idle": "2021-03-12T14:40:52.564287Z",
     "shell.execute_reply": "2021-03-12T14:40:52.564788Z"
    }
   },
   "outputs": [],
   "source": [
    "tz = pytz.timezone(\"America/New_York\")"
   ]
  },
  {
   "cell_type": "code",
   "execution_count": 16,
   "metadata": {
    "execution": {
     "iopub.execute_input": "2021-03-12T14:40:52.568797Z",
     "iopub.status.busy": "2021-03-12T14:40:52.568197Z",
     "iopub.status.idle": "2021-03-12T14:40:52.572074Z",
     "shell.execute_reply": "2021-03-12T14:40:52.571534Z"
    }
   },
   "outputs": [],
   "source": [
    "today = datetime.now(tz).date()"
   ]
  },
  {
   "cell_type": "code",
   "execution_count": 17,
   "metadata": {
    "execution": {
     "iopub.execute_input": "2021-03-12T14:40:52.576046Z",
     "iopub.status.busy": "2021-03-12T14:40:52.575443Z",
     "iopub.status.idle": "2021-03-12T14:40:52.579694Z",
     "shell.execute_reply": "2021-03-12T14:40:52.579158Z"
    }
   },
   "outputs": [],
   "source": [
    "data_dir = os.path.join(os.path.abspath(\"\"), \"data\")"
   ]
  },
  {
   "cell_type": "code",
   "execution_count": 18,
   "metadata": {
    "execution": {
     "iopub.execute_input": "2021-03-12T14:40:52.584849Z",
     "iopub.status.busy": "2021-03-12T14:40:52.583033Z",
     "iopub.status.idle": "2021-03-12T14:40:52.588940Z",
     "shell.execute_reply": "2021-03-12T14:40:52.589444Z"
    }
   },
   "outputs": [],
   "source": [
    "df.to_csv(os.path.join(data_dir, f\"{today}.csv\"), index=False)"
   ]
  },
  {
   "cell_type": "code",
   "execution_count": null,
   "metadata": {},
   "outputs": [],
   "source": []
  }
 ],
 "metadata": {
  "kernelspec": {
   "display_name": "Python 3",
   "language": "python",
   "name": "python3"
  },
  "language_info": {
   "codemirror_mode": {
    "name": "ipython",
    "version": 3
   },
   "file_extension": ".py",
   "mimetype": "text/x-python",
   "name": "python",
   "nbconvert_exporter": "python",
   "pygments_lexer": "ipython3",
   "version": "3.8.8"
  }
 },
 "nbformat": 4,
 "nbformat_minor": 4
}
