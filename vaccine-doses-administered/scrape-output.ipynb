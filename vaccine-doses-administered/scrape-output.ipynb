{
 "cells": [
  {
   "cell_type": "markdown",
   "metadata": {},
   "source": [
    "# California COVID vaccinations scrape"
   ]
  },
  {
   "cell_type": "markdown",
   "metadata": {},
   "source": [
    "By [Amy O'Kruk](https://twitter.com/amyokruk)"
   ]
  },
  {
   "cell_type": "markdown",
   "metadata": {},
   "source": [
    "Downloads data on vaccine doses administered by county and statewide from a Tableau-powered dashboard from the California Department of Public Health."
   ]
  },
  {
   "cell_type": "code",
   "execution_count": 1,
   "metadata": {
    "execution": {
     "iopub.execute_input": "2021-03-17T15:44:37.574940Z",
     "iopub.status.busy": "2021-03-17T15:44:37.573644Z",
     "iopub.status.idle": "2021-03-17T15:44:38.127278Z",
     "shell.execute_reply": "2021-03-17T15:44:38.126353Z"
    }
   },
   "outputs": [],
   "source": [
    "import pandas as pd\n",
    "import requests\n",
    "from bs4 import BeautifulSoup\n",
    "import json\n",
    "import re\n",
    "import time\n",
    "from time import gmtime, strftime \n",
    "import os\n",
    "import pytz\n",
    "from datetime import datetime"
   ]
  },
  {
   "cell_type": "markdown",
   "metadata": {},
   "source": [
    "Scrape the dashboard page"
   ]
  },
  {
   "cell_type": "code",
   "execution_count": 2,
   "metadata": {
    "execution": {
     "iopub.execute_input": "2021-03-17T15:44:38.133965Z",
     "iopub.status.busy": "2021-03-17T15:44:38.131152Z",
     "iopub.status.idle": "2021-03-17T15:44:38.362156Z",
     "shell.execute_reply": "2021-03-17T15:44:38.361495Z"
    }
   },
   "outputs": [],
   "source": [
    "url = \"https://public.tableau.com/interactive/views/COVID-19VaccineDashboardPublic/Vaccine?:embed=y&:showVizHome=n&:apiID=host0\"\n",
    "\n",
    "r = requests.get(url)\n",
    "soup = BeautifulSoup(r.text, \"html.parser\")"
   ]
  },
  {
   "cell_type": "code",
   "execution_count": 3,
   "metadata": {
    "execution": {
     "iopub.execute_input": "2021-03-17T15:44:38.367355Z",
     "iopub.status.busy": "2021-03-17T15:44:38.366727Z",
     "iopub.status.idle": "2021-03-17T15:44:38.370436Z",
     "shell.execute_reply": "2021-03-17T15:44:38.370909Z"
    }
   },
   "outputs": [],
   "source": [
    "tableauData = json.loads(soup.find(\"textarea\",{\"id\": \"tsConfigContainer\"}).text)"
   ]
  },
  {
   "cell_type": "markdown",
   "metadata": {},
   "source": [
    "Get the link to the Tableau data"
   ]
  },
  {
   "cell_type": "code",
   "execution_count": 4,
   "metadata": {
    "execution": {
     "iopub.execute_input": "2021-03-17T15:44:38.374736Z",
     "iopub.status.busy": "2021-03-17T15:44:38.374151Z",
     "iopub.status.idle": "2021-03-17T15:44:38.378177Z",
     "shell.execute_reply": "2021-03-17T15:44:38.377270Z"
    }
   },
   "outputs": [],
   "source": [
    "dataUrl = f'https://public.tableau.com{tableauData[\"vizql_root\"]}/bootstrapSession/sessions/{tableauData[\"sessionid\"]}'"
   ]
  },
  {
   "cell_type": "code",
   "execution_count": 5,
   "metadata": {
    "execution": {
     "iopub.execute_input": "2021-03-17T15:44:38.389428Z",
     "iopub.status.busy": "2021-03-17T15:44:38.388822Z",
     "iopub.status.idle": "2021-03-17T15:44:38.531713Z",
     "shell.execute_reply": "2021-03-17T15:44:38.531120Z"
    }
   },
   "outputs": [],
   "source": [
    "r = requests.post(dataUrl, data= {\n",
    "    \"sheet_id\": tableauData[\"sheetId\"],\n",
    "})\n",
    "\n",
    "dataReg = re.search('\\d+;({.*})\\d+;({.*})', r.text, re.MULTILINE)\n",
    "data1 = json.loads(dataReg.group(2))\n",
    "\n",
    "dataJson = data1[\"secondaryInfo\"][\"presModelMap\"][\"dataDictionary\"][\"presModelHolder\"][\"genDataDictionaryPresModel\"][\"dataSegments\"][\"0\"][\"dataColumns\"]"
   ]
  },
  {
   "cell_type": "markdown",
   "metadata": {},
   "source": [
    "Isolate what you want"
   ]
  },
  {
   "cell_type": "code",
   "execution_count": 6,
   "metadata": {
    "execution": {
     "iopub.execute_input": "2021-03-17T15:44:38.536187Z",
     "iopub.status.busy": "2021-03-17T15:44:38.535586Z",
     "iopub.status.idle": "2021-03-17T15:44:38.538930Z",
     "shell.execute_reply": "2021-03-17T15:44:38.539470Z"
    }
   },
   "outputs": [],
   "source": [
    "counties = dataJson[2]['dataValues'][:58]"
   ]
  },
  {
   "cell_type": "code",
   "execution_count": 7,
   "metadata": {
    "execution": {
     "iopub.execute_input": "2021-03-17T15:44:38.543241Z",
     "iopub.status.busy": "2021-03-17T15:44:38.542618Z",
     "iopub.status.idle": "2021-03-17T15:44:38.546791Z",
     "shell.execute_reply": "2021-03-17T15:44:38.546265Z"
    }
   },
   "outputs": [],
   "source": [
    "doses = dataJson[0]['dataValues'][3:61]"
   ]
  },
  {
   "cell_type": "markdown",
   "metadata": {},
   "source": [
    "Data formatting"
   ]
  },
  {
   "cell_type": "code",
   "execution_count": 8,
   "metadata": {
    "execution": {
     "iopub.execute_input": "2021-03-17T15:44:38.550437Z",
     "iopub.status.busy": "2021-03-17T15:44:38.549846Z",
     "iopub.status.idle": "2021-03-17T15:44:38.553936Z",
     "shell.execute_reply": "2021-03-17T15:44:38.553327Z"
    }
   },
   "outputs": [],
   "source": [
    "zipped = dict(zip(counties, doses))"
   ]
  },
  {
   "cell_type": "code",
   "execution_count": 9,
   "metadata": {
    "execution": {
     "iopub.execute_input": "2021-03-17T15:44:38.561186Z",
     "iopub.status.busy": "2021-03-17T15:44:38.559796Z",
     "iopub.status.idle": "2021-03-17T15:44:38.561931Z",
     "shell.execute_reply": "2021-03-17T15:44:38.562426Z"
    }
   },
   "outputs": [],
   "source": [
    "df = pd.Series(zipped).reset_index()"
   ]
  },
  {
   "cell_type": "code",
   "execution_count": 10,
   "metadata": {
    "execution": {
     "iopub.execute_input": "2021-03-17T15:44:38.567331Z",
     "iopub.status.busy": "2021-03-17T15:44:38.565999Z",
     "iopub.status.idle": "2021-03-17T15:44:38.568119Z",
     "shell.execute_reply": "2021-03-17T15:44:38.568746Z"
    }
   },
   "outputs": [],
   "source": [
    "df.columns = ['location','doses']"
   ]
  },
  {
   "cell_type": "markdown",
   "metadata": {},
   "source": [
    "Grab the overall California total"
   ]
  },
  {
   "cell_type": "code",
   "execution_count": 11,
   "metadata": {
    "execution": {
     "iopub.execute_input": "2021-03-17T15:44:38.573548Z",
     "iopub.status.busy": "2021-03-17T15:44:38.572253Z",
     "iopub.status.idle": "2021-03-17T15:44:38.574214Z",
     "shell.execute_reply": "2021-03-17T15:44:38.574711Z"
    }
   },
   "outputs": [],
   "source": [
    "add = {'location':'California','doses':dataJson[0]['dataValues'][2]}"
   ]
  },
  {
   "cell_type": "code",
   "execution_count": 12,
   "metadata": {
    "execution": {
     "iopub.execute_input": "2021-03-17T15:44:38.582583Z",
     "iopub.status.busy": "2021-03-17T15:44:38.581195Z",
     "iopub.status.idle": "2021-03-17T15:44:38.583286Z",
     "shell.execute_reply": "2021-03-17T15:44:38.583786Z"
    }
   },
   "outputs": [],
   "source": [
    "df = df.append(add, ignore_index=True)"
   ]
  },
  {
   "cell_type": "code",
   "execution_count": 13,
   "metadata": {
    "execution": {
     "iopub.execute_input": "2021-03-17T15:44:38.589310Z",
     "iopub.status.busy": "2021-03-17T15:44:38.587946Z",
     "iopub.status.idle": "2021-03-17T15:44:38.589963Z",
     "shell.execute_reply": "2021-03-17T15:44:38.590458Z"
    }
   },
   "outputs": [],
   "source": [
    "df = df.sort_values(by='location')"
   ]
  },
  {
   "cell_type": "code",
   "execution_count": 14,
   "metadata": {
    "execution": {
     "iopub.execute_input": "2021-03-17T15:44:38.597704Z",
     "iopub.status.busy": "2021-03-17T15:44:38.596274Z",
     "iopub.status.idle": "2021-03-17T15:44:38.598356Z",
     "shell.execute_reply": "2021-03-17T15:44:38.606408Z"
    }
   },
   "outputs": [],
   "source": [
    "df = df[df.location == 'California'].append(df[df.location != 'California']).reset_index(drop=True)"
   ]
  },
  {
   "cell_type": "code",
   "execution_count": null,
   "metadata": {},
   "outputs": [],
   "source": []
  },
  {
   "cell_type": "code",
   "execution_count": 15,
   "metadata": {
    "execution": {
     "iopub.execute_input": "2021-03-17T15:44:38.612194Z",
     "iopub.status.busy": "2021-03-17T15:44:38.611610Z",
     "iopub.status.idle": "2021-03-17T15:44:38.631883Z",
     "shell.execute_reply": "2021-03-17T15:44:38.632352Z"
    }
   },
   "outputs": [],
   "source": [
    "tz = pytz.timezone(\"America/New_York\")"
   ]
  },
  {
   "cell_type": "code",
   "execution_count": 16,
   "metadata": {
    "execution": {
     "iopub.execute_input": "2021-03-17T15:44:38.637061Z",
     "iopub.status.busy": "2021-03-17T15:44:38.635670Z",
     "iopub.status.idle": "2021-03-17T15:44:38.637712Z",
     "shell.execute_reply": "2021-03-17T15:44:38.638207Z"
    }
   },
   "outputs": [],
   "source": [
    "today = datetime.now(tz).date()"
   ]
  },
  {
   "cell_type": "code",
   "execution_count": 17,
   "metadata": {
    "execution": {
     "iopub.execute_input": "2021-03-17T15:44:38.646091Z",
     "iopub.status.busy": "2021-03-17T15:44:38.645492Z",
     "iopub.status.idle": "2021-03-17T15:44:38.647466Z",
     "shell.execute_reply": "2021-03-17T15:44:38.647930Z"
    }
   },
   "outputs": [],
   "source": [
    "data_dir = os.path.join(os.path.abspath(\"\"), \"data\")"
   ]
  },
  {
   "cell_type": "code",
   "execution_count": 18,
   "metadata": {
    "execution": {
     "iopub.execute_input": "2021-03-17T15:44:38.652665Z",
     "iopub.status.busy": "2021-03-17T15:44:38.651470Z",
     "iopub.status.idle": "2021-03-17T15:44:38.655914Z",
     "shell.execute_reply": "2021-03-17T15:44:38.656376Z"
    }
   },
   "outputs": [],
   "source": [
    "df.to_csv(os.path.join(data_dir, f\"{today}.csv\"), index=False)"
   ]
  },
  {
   "cell_type": "code",
   "execution_count": null,
   "metadata": {},
   "outputs": [],
   "source": []
  }
 ],
 "metadata": {
  "kernelspec": {
   "display_name": "Python 3",
   "language": "python",
   "name": "python3"
  },
  "language_info": {
   "codemirror_mode": {
    "name": "ipython",
    "version": 3
   },
   "file_extension": ".py",
   "mimetype": "text/x-python",
   "name": "python",
   "nbconvert_exporter": "python",
   "pygments_lexer": "ipython3",
   "version": "3.8.8"
  }
 },
 "nbformat": 4,
 "nbformat_minor": 4
}
