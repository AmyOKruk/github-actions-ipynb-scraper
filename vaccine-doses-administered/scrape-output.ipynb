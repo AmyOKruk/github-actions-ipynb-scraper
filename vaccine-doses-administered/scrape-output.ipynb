{
 "cells": [
  {
   "cell_type": "markdown",
   "metadata": {},
   "source": [
    "# California COVID vaccinations scrape"
   ]
  },
  {
   "cell_type": "markdown",
   "metadata": {},
   "source": [
    "By [Amy O'Kruk](https://twitter.com/amyokruk)"
   ]
  },
  {
   "cell_type": "markdown",
   "metadata": {},
   "source": [
    "Downloads data on vaccine doses administered by county and statewide from a Tableau-powered dashboard from the California Department of Public Health."
   ]
  },
  {
   "cell_type": "code",
   "execution_count": 1,
   "metadata": {
    "execution": {
     "iopub.execute_input": "2021-03-23T11:12:08.569189Z",
     "iopub.status.busy": "2021-03-23T11:12:08.568527Z",
     "iopub.status.idle": "2021-03-23T11:12:10.267324Z",
     "shell.execute_reply": "2021-03-23T11:12:10.266183Z"
    }
   },
   "outputs": [],
   "source": [
    "import pandas as pd\n",
    "import requests\n",
    "from bs4 import BeautifulSoup\n",
    "import json\n",
    "import re\n",
    "import time\n",
    "from time import gmtime, strftime \n",
    "import os\n",
    "import pytz\n",
    "from datetime import datetime"
   ]
  },
  {
   "cell_type": "markdown",
   "metadata": {},
   "source": [
    "Scrape the dashboard page"
   ]
  },
  {
   "cell_type": "code",
   "execution_count": 2,
   "metadata": {
    "execution": {
     "iopub.execute_input": "2021-03-23T11:12:10.274032Z",
     "iopub.status.busy": "2021-03-23T11:12:10.271000Z",
     "iopub.status.idle": "2021-03-23T11:12:10.525362Z",
     "shell.execute_reply": "2021-03-23T11:12:10.524866Z"
    }
   },
   "outputs": [],
   "source": [
    "url = \"https://public.tableau.com/interactive/views/COVID-19VaccineDashboardPublic/Vaccine?:embed=y&:showVizHome=n&:apiID=host0\"\n",
    "\n",
    "r = requests.get(url)\n",
    "soup = BeautifulSoup(r.text, \"html.parser\")"
   ]
  },
  {
   "cell_type": "code",
   "execution_count": 3,
   "metadata": {
    "execution": {
     "iopub.execute_input": "2021-03-23T11:12:10.530271Z",
     "iopub.status.busy": "2021-03-23T11:12:10.529752Z",
     "iopub.status.idle": "2021-03-23T11:12:10.533207Z",
     "shell.execute_reply": "2021-03-23T11:12:10.532749Z"
    }
   },
   "outputs": [],
   "source": [
    "tableauData = json.loads(soup.find(\"textarea\",{\"id\": \"tsConfigContainer\"}).text)"
   ]
  },
  {
   "cell_type": "markdown",
   "metadata": {},
   "source": [
    "Get the link to the Tableau data"
   ]
  },
  {
   "cell_type": "code",
   "execution_count": 4,
   "metadata": {
    "execution": {
     "iopub.execute_input": "2021-03-23T11:12:10.536919Z",
     "iopub.status.busy": "2021-03-23T11:12:10.536409Z",
     "iopub.status.idle": "2021-03-23T11:12:10.539781Z",
     "shell.execute_reply": "2021-03-23T11:12:10.539330Z"
    }
   },
   "outputs": [],
   "source": [
    "dataUrl = f'https://public.tableau.com{tableauData[\"vizql_root\"]}/bootstrapSession/sessions/{tableauData[\"sessionid\"]}'"
   ]
  },
  {
   "cell_type": "code",
   "execution_count": 5,
   "metadata": {
    "execution": {
     "iopub.execute_input": "2021-03-23T11:12:10.546228Z",
     "iopub.status.busy": "2021-03-23T11:12:10.545712Z",
     "iopub.status.idle": "2021-03-23T11:12:10.673554Z",
     "shell.execute_reply": "2021-03-23T11:12:10.672700Z"
    }
   },
   "outputs": [],
   "source": [
    "r = requests.post(dataUrl, data= {\n",
    "    \"sheet_id\": tableauData[\"sheetId\"],\n",
    "})\n",
    "\n",
    "dataReg = re.search('\\d+;({.*})\\d+;({.*})', r.text, re.MULTILINE)\n",
    "data1 = json.loads(dataReg.group(2))\n",
    "\n",
    "dataJson = data1[\"secondaryInfo\"][\"presModelMap\"][\"dataDictionary\"][\"presModelHolder\"][\"genDataDictionaryPresModel\"][\"dataSegments\"][\"0\"][\"dataColumns\"]"
   ]
  },
  {
   "cell_type": "markdown",
   "metadata": {},
   "source": [
    "Isolate what you want"
   ]
  },
  {
   "cell_type": "code",
   "execution_count": 6,
   "metadata": {
    "execution": {
     "iopub.execute_input": "2021-03-23T11:12:10.677445Z",
     "iopub.status.busy": "2021-03-23T11:12:10.676933Z",
     "iopub.status.idle": "2021-03-23T11:12:10.680254Z",
     "shell.execute_reply": "2021-03-23T11:12:10.679804Z"
    }
   },
   "outputs": [],
   "source": [
    "counties = dataJson[2]['dataValues'][:58]"
   ]
  },
  {
   "cell_type": "code",
   "execution_count": 7,
   "metadata": {
    "execution": {
     "iopub.execute_input": "2021-03-23T11:12:10.683972Z",
     "iopub.status.busy": "2021-03-23T11:12:10.683251Z",
     "iopub.status.idle": "2021-03-23T11:12:10.686508Z",
     "shell.execute_reply": "2021-03-23T11:12:10.687204Z"
    }
   },
   "outputs": [],
   "source": [
    "doses = dataJson[0]['dataValues'][3:61]"
   ]
  },
  {
   "cell_type": "markdown",
   "metadata": {},
   "source": [
    "Data formatting"
   ]
  },
  {
   "cell_type": "code",
   "execution_count": 8,
   "metadata": {
    "execution": {
     "iopub.execute_input": "2021-03-23T11:12:10.690741Z",
     "iopub.status.busy": "2021-03-23T11:12:10.690199Z",
     "iopub.status.idle": "2021-03-23T11:12:10.693123Z",
     "shell.execute_reply": "2021-03-23T11:12:10.693558Z"
    }
   },
   "outputs": [],
   "source": [
    "zipped = dict(zip(counties, doses))"
   ]
  },
  {
   "cell_type": "code",
   "execution_count": 9,
   "metadata": {
    "execution": {
     "iopub.execute_input": "2021-03-23T11:12:10.700190Z",
     "iopub.status.busy": "2021-03-23T11:12:10.698668Z",
     "iopub.status.idle": "2021-03-23T11:12:10.702767Z",
     "shell.execute_reply": "2021-03-23T11:12:10.703206Z"
    }
   },
   "outputs": [],
   "source": [
    "df = pd.Series(zipped).reset_index()"
   ]
  },
  {
   "cell_type": "code",
   "execution_count": 10,
   "metadata": {
    "execution": {
     "iopub.execute_input": "2021-03-23T11:12:10.707103Z",
     "iopub.status.busy": "2021-03-23T11:12:10.706582Z",
     "iopub.status.idle": "2021-03-23T11:12:10.710141Z",
     "shell.execute_reply": "2021-03-23T11:12:10.709691Z"
    }
   },
   "outputs": [],
   "source": [
    "df.columns = ['location','doses']"
   ]
  },
  {
   "cell_type": "markdown",
   "metadata": {},
   "source": [
    "Grab the overall California total"
   ]
  },
  {
   "cell_type": "code",
   "execution_count": 11,
   "metadata": {
    "execution": {
     "iopub.execute_input": "2021-03-23T11:12:10.713819Z",
     "iopub.status.busy": "2021-03-23T11:12:10.713316Z",
     "iopub.status.idle": "2021-03-23T11:12:10.716671Z",
     "shell.execute_reply": "2021-03-23T11:12:10.716223Z"
    }
   },
   "outputs": [],
   "source": [
    "add = {'location':'California','doses':dataJson[0]['dataValues'][2]}"
   ]
  },
  {
   "cell_type": "code",
   "execution_count": 12,
   "metadata": {
    "execution": {
     "iopub.execute_input": "2021-03-23T11:12:10.723008Z",
     "iopub.status.busy": "2021-03-23T11:12:10.722488Z",
     "iopub.status.idle": "2021-03-23T11:12:10.725664Z",
     "shell.execute_reply": "2021-03-23T11:12:10.726092Z"
    }
   },
   "outputs": [],
   "source": [
    "df = df.append(add, ignore_index=True)"
   ]
  },
  {
   "cell_type": "code",
   "execution_count": 13,
   "metadata": {
    "execution": {
     "iopub.execute_input": "2021-03-23T11:12:10.733352Z",
     "iopub.status.busy": "2021-03-23T11:12:10.732842Z",
     "iopub.status.idle": "2021-03-23T11:12:10.738776Z",
     "shell.execute_reply": "2021-03-23T11:12:10.738292Z"
    }
   },
   "outputs": [],
   "source": [
    "df = df.sort_values(by='location')"
   ]
  },
  {
   "cell_type": "code",
   "execution_count": 14,
   "metadata": {
    "execution": {
     "iopub.execute_input": "2021-03-23T11:12:10.744638Z",
     "iopub.status.busy": "2021-03-23T11:12:10.744129Z",
     "iopub.status.idle": "2021-03-23T11:12:10.747844Z",
     "shell.execute_reply": "2021-03-23T11:12:10.748279Z"
    }
   },
   "outputs": [],
   "source": [
    "df = df[df.location == 'California'].append(df[df.location != 'California']).reset_index(drop=True)"
   ]
  },
  {
   "cell_type": "code",
   "execution_count": null,
   "metadata": {},
   "outputs": [],
   "source": []
  },
  {
   "cell_type": "code",
   "execution_count": 15,
   "metadata": {
    "execution": {
     "iopub.execute_input": "2021-03-23T11:12:10.751750Z",
     "iopub.status.busy": "2021-03-23T11:12:10.751243Z",
     "iopub.status.idle": "2021-03-23T11:12:10.770956Z",
     "shell.execute_reply": "2021-03-23T11:12:10.771407Z"
    }
   },
   "outputs": [],
   "source": [
    "tz = pytz.timezone(\"America/New_York\")"
   ]
  },
  {
   "cell_type": "code",
   "execution_count": 16,
   "metadata": {
    "execution": {
     "iopub.execute_input": "2021-03-23T11:12:10.775081Z",
     "iopub.status.busy": "2021-03-23T11:12:10.774565Z",
     "iopub.status.idle": "2021-03-23T11:12:10.778033Z",
     "shell.execute_reply": "2021-03-23T11:12:10.777571Z"
    }
   },
   "outputs": [],
   "source": [
    "today = datetime.now(tz).date()"
   ]
  },
  {
   "cell_type": "code",
   "execution_count": 17,
   "metadata": {
    "execution": {
     "iopub.execute_input": "2021-03-23T11:12:10.781730Z",
     "iopub.status.busy": "2021-03-23T11:12:10.781223Z",
     "iopub.status.idle": "2021-03-23T11:12:10.784850Z",
     "shell.execute_reply": "2021-03-23T11:12:10.784164Z"
    }
   },
   "outputs": [],
   "source": [
    "data_dir = os.path.join(os.path.abspath(\"\"), \"data\")"
   ]
  },
  {
   "cell_type": "code",
   "execution_count": 18,
   "metadata": {
    "execution": {
     "iopub.execute_input": "2021-03-23T11:12:10.791089Z",
     "iopub.status.busy": "2021-03-23T11:12:10.788457Z",
     "iopub.status.idle": "2021-03-23T11:12:10.794347Z",
     "shell.execute_reply": "2021-03-23T11:12:10.793895Z"
    }
   },
   "outputs": [],
   "source": [
    "df.to_csv(os.path.join(data_dir, f\"{today}.csv\"), index=False)"
   ]
  },
  {
   "cell_type": "code",
   "execution_count": null,
   "metadata": {},
   "outputs": [],
   "source": []
  }
 ],
 "metadata": {
  "kernelspec": {
   "display_name": "Python 3",
   "language": "python",
   "name": "python3"
  },
  "language_info": {
   "codemirror_mode": {
    "name": "ipython",
    "version": 3
   },
   "file_extension": ".py",
   "mimetype": "text/x-python",
   "name": "python",
   "nbconvert_exporter": "python",
   "pygments_lexer": "ipython3",
   "version": "3.8.8"
  }
 },
 "nbformat": 4,
 "nbformat_minor": 4
}
