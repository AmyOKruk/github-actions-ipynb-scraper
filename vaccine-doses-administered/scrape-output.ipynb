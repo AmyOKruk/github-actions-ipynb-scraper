{
 "cells": [
  {
   "cell_type": "markdown",
   "metadata": {},
   "source": [
    "# California COVID vaccinations scrape"
   ]
  },
  {
   "cell_type": "markdown",
   "metadata": {},
   "source": [
    "By [Amy O'Kruk](https://twitter.com/amyokruk)"
   ]
  },
  {
   "cell_type": "markdown",
   "metadata": {},
   "source": [
    "Downloads data on vaccine doses administered by county and statewide from a Tableau-powered dashboard from the California Department of Public Health."
   ]
  },
  {
   "cell_type": "code",
   "execution_count": 1,
   "metadata": {
    "execution": {
     "iopub.execute_input": "2021-03-25T09:20:04.293569Z",
     "iopub.status.busy": "2021-03-25T09:20:04.292958Z",
     "iopub.status.idle": "2021-03-25T09:20:04.634929Z",
     "shell.execute_reply": "2021-03-25T09:20:04.634427Z"
    }
   },
   "outputs": [],
   "source": [
    "import pandas as pd\n",
    "import requests\n",
    "from bs4 import BeautifulSoup\n",
    "import json\n",
    "import re\n",
    "import time\n",
    "from time import gmtime, strftime \n",
    "import os\n",
    "import pytz\n",
    "from datetime import datetime"
   ]
  },
  {
   "cell_type": "markdown",
   "metadata": {},
   "source": [
    "Scrape the dashboard page"
   ]
  },
  {
   "cell_type": "code",
   "execution_count": 2,
   "metadata": {
    "execution": {
     "iopub.execute_input": "2021-03-25T09:20:04.640029Z",
     "iopub.status.busy": "2021-03-25T09:20:04.637929Z",
     "iopub.status.idle": "2021-03-25T09:20:05.049072Z",
     "shell.execute_reply": "2021-03-25T09:20:05.049495Z"
    }
   },
   "outputs": [],
   "source": [
    "url = \"https://public.tableau.com/interactive/views/COVID-19VaccineDashboardPublic/Vaccine?:embed=y&:showVizHome=n&:apiID=host0\"\n",
    "\n",
    "r = requests.get(url)\n",
    "soup = BeautifulSoup(r.text, \"html.parser\")"
   ]
  },
  {
   "cell_type": "code",
   "execution_count": 3,
   "metadata": {
    "execution": {
     "iopub.execute_input": "2021-03-25T09:20:05.053820Z",
     "iopub.status.busy": "2021-03-25T09:20:05.053451Z",
     "iopub.status.idle": "2021-03-25T09:20:05.056778Z",
     "shell.execute_reply": "2021-03-25T09:20:05.057154Z"
    }
   },
   "outputs": [],
   "source": [
    "tableauData = json.loads(soup.find(\"textarea\",{\"id\": \"tsConfigContainer\"}).text)"
   ]
  },
  {
   "cell_type": "markdown",
   "metadata": {},
   "source": [
    "Get the link to the Tableau data"
   ]
  },
  {
   "cell_type": "code",
   "execution_count": 4,
   "metadata": {
    "execution": {
     "iopub.execute_input": "2021-03-25T09:20:05.060765Z",
     "iopub.status.busy": "2021-03-25T09:20:05.060218Z",
     "iopub.status.idle": "2021-03-25T09:20:05.063797Z",
     "shell.execute_reply": "2021-03-25T09:20:05.064464Z"
    }
   },
   "outputs": [],
   "source": [
    "dataUrl = f'https://public.tableau.com{tableauData[\"vizql_root\"]}/bootstrapSession/sessions/{tableauData[\"sessionid\"]}'"
   ]
  },
  {
   "cell_type": "code",
   "execution_count": 5,
   "metadata": {
    "execution": {
     "iopub.execute_input": "2021-03-25T09:20:05.071342Z",
     "iopub.status.busy": "2021-03-25T09:20:05.070844Z",
     "iopub.status.idle": "2021-03-25T09:20:05.648869Z",
     "shell.execute_reply": "2021-03-25T09:20:05.647758Z"
    }
   },
   "outputs": [],
   "source": [
    "r = requests.post(dataUrl, data= {\n",
    "    \"sheet_id\": tableauData[\"sheetId\"],\n",
    "})\n",
    "\n",
    "dataReg = re.search('\\d+;({.*})\\d+;({.*})', r.text, re.MULTILINE)\n",
    "data1 = json.loads(dataReg.group(2))\n",
    "\n",
    "dataJson = data1[\"secondaryInfo\"][\"presModelMap\"][\"dataDictionary\"][\"presModelHolder\"][\"genDataDictionaryPresModel\"][\"dataSegments\"][\"0\"][\"dataColumns\"]"
   ]
  },
  {
   "cell_type": "markdown",
   "metadata": {},
   "source": [
    "Isolate what you want"
   ]
  },
  {
   "cell_type": "code",
   "execution_count": 6,
   "metadata": {
    "execution": {
     "iopub.execute_input": "2021-03-25T09:20:05.652062Z",
     "iopub.status.busy": "2021-03-25T09:20:05.651592Z",
     "iopub.status.idle": "2021-03-25T09:20:05.655841Z",
     "shell.execute_reply": "2021-03-25T09:20:05.655021Z"
    }
   },
   "outputs": [],
   "source": [
    "counties = dataJson[2]['dataValues'][:58]"
   ]
  },
  {
   "cell_type": "code",
   "execution_count": 7,
   "metadata": {
    "execution": {
     "iopub.execute_input": "2021-03-25T09:20:05.658903Z",
     "iopub.status.busy": "2021-03-25T09:20:05.658396Z",
     "iopub.status.idle": "2021-03-25T09:20:05.661775Z",
     "shell.execute_reply": "2021-03-25T09:20:05.661351Z"
    }
   },
   "outputs": [],
   "source": [
    "doses = dataJson[0]['dataValues'][3:61]"
   ]
  },
  {
   "cell_type": "markdown",
   "metadata": {},
   "source": [
    "Data formatting"
   ]
  },
  {
   "cell_type": "code",
   "execution_count": 8,
   "metadata": {
    "execution": {
     "iopub.execute_input": "2021-03-25T09:20:05.665121Z",
     "iopub.status.busy": "2021-03-25T09:20:05.664645Z",
     "iopub.status.idle": "2021-03-25T09:20:05.667586Z",
     "shell.execute_reply": "2021-03-25T09:20:05.667218Z"
    }
   },
   "outputs": [],
   "source": [
    "zipped = dict(zip(counties, doses))"
   ]
  },
  {
   "cell_type": "code",
   "execution_count": 9,
   "metadata": {
    "execution": {
     "iopub.execute_input": "2021-03-25T09:20:05.672645Z",
     "iopub.status.busy": "2021-03-25T09:20:05.672201Z",
     "iopub.status.idle": "2021-03-25T09:20:05.675440Z",
     "shell.execute_reply": "2021-03-25T09:20:05.675023Z"
    }
   },
   "outputs": [],
   "source": [
    "df = pd.Series(zipped).reset_index()"
   ]
  },
  {
   "cell_type": "code",
   "execution_count": 10,
   "metadata": {
    "execution": {
     "iopub.execute_input": "2021-03-25T09:20:05.678462Z",
     "iopub.status.busy": "2021-03-25T09:20:05.678085Z",
     "iopub.status.idle": "2021-03-25T09:20:05.681506Z",
     "shell.execute_reply": "2021-03-25T09:20:05.681144Z"
    }
   },
   "outputs": [],
   "source": [
    "df.columns = ['location','doses']"
   ]
  },
  {
   "cell_type": "markdown",
   "metadata": {},
   "source": [
    "Grab the overall California total"
   ]
  },
  {
   "cell_type": "code",
   "execution_count": 11,
   "metadata": {
    "execution": {
     "iopub.execute_input": "2021-03-25T09:20:05.684587Z",
     "iopub.status.busy": "2021-03-25T09:20:05.684065Z",
     "iopub.status.idle": "2021-03-25T09:20:05.687224Z",
     "shell.execute_reply": "2021-03-25T09:20:05.686922Z"
    }
   },
   "outputs": [],
   "source": [
    "add = {'location':'California','doses':dataJson[0]['dataValues'][2]}"
   ]
  },
  {
   "cell_type": "code",
   "execution_count": 12,
   "metadata": {
    "execution": {
     "iopub.execute_input": "2021-03-25T09:20:05.692842Z",
     "iopub.status.busy": "2021-03-25T09:20:05.692420Z",
     "iopub.status.idle": "2021-03-25T09:20:05.695678Z",
     "shell.execute_reply": "2021-03-25T09:20:05.695286Z"
    }
   },
   "outputs": [],
   "source": [
    "df = df.append(add, ignore_index=True)"
   ]
  },
  {
   "cell_type": "code",
   "execution_count": 13,
   "metadata": {
    "execution": {
     "iopub.execute_input": "2021-03-25T09:20:05.699472Z",
     "iopub.status.busy": "2021-03-25T09:20:05.698946Z",
     "iopub.status.idle": "2021-03-25T09:20:05.703153Z",
     "shell.execute_reply": "2021-03-25T09:20:05.702712Z"
    }
   },
   "outputs": [],
   "source": [
    "df = df.sort_values(by='location')"
   ]
  },
  {
   "cell_type": "code",
   "execution_count": 14,
   "metadata": {
    "execution": {
     "iopub.execute_input": "2021-03-25T09:20:05.709628Z",
     "iopub.status.busy": "2021-03-25T09:20:05.709159Z",
     "iopub.status.idle": "2021-03-25T09:20:05.712690Z",
     "shell.execute_reply": "2021-03-25T09:20:05.712225Z"
    }
   },
   "outputs": [],
   "source": [
    "df = df[df.location == 'California'].append(df[df.location != 'California']).reset_index(drop=True)"
   ]
  },
  {
   "cell_type": "code",
   "execution_count": null,
   "metadata": {},
   "outputs": [],
   "source": []
  },
  {
   "cell_type": "code",
   "execution_count": 15,
   "metadata": {
    "execution": {
     "iopub.execute_input": "2021-03-25T09:20:05.717919Z",
     "iopub.status.busy": "2021-03-25T09:20:05.717023Z",
     "iopub.status.idle": "2021-03-25T09:20:05.735290Z",
     "shell.execute_reply": "2021-03-25T09:20:05.736005Z"
    }
   },
   "outputs": [],
   "source": [
    "tz = pytz.timezone(\"America/New_York\")"
   ]
  },
  {
   "cell_type": "code",
   "execution_count": 16,
   "metadata": {
    "execution": {
     "iopub.execute_input": "2021-03-25T09:20:05.739478Z",
     "iopub.status.busy": "2021-03-25T09:20:05.739010Z",
     "iopub.status.idle": "2021-03-25T09:20:05.741371Z",
     "shell.execute_reply": "2021-03-25T09:20:05.740909Z"
    }
   },
   "outputs": [],
   "source": [
    "today = datetime.now(tz).date()"
   ]
  },
  {
   "cell_type": "code",
   "execution_count": 17,
   "metadata": {
    "execution": {
     "iopub.execute_input": "2021-03-25T09:20:05.744631Z",
     "iopub.status.busy": "2021-03-25T09:20:05.744135Z",
     "iopub.status.idle": "2021-03-25T09:20:05.746869Z",
     "shell.execute_reply": "2021-03-25T09:20:05.747238Z"
    }
   },
   "outputs": [],
   "source": [
    "data_dir = os.path.join(os.path.abspath(\"\"), \"data\")"
   ]
  },
  {
   "cell_type": "code",
   "execution_count": 18,
   "metadata": {
    "execution": {
     "iopub.execute_input": "2021-03-25T09:20:05.751476Z",
     "iopub.status.busy": "2021-03-25T09:20:05.750497Z",
     "iopub.status.idle": "2021-03-25T09:20:05.754999Z",
     "shell.execute_reply": "2021-03-25T09:20:05.754376Z"
    }
   },
   "outputs": [],
   "source": [
    "df.to_csv(os.path.join(data_dir, f\"{today}.csv\"), index=False)"
   ]
  },
  {
   "cell_type": "code",
   "execution_count": null,
   "metadata": {},
   "outputs": [],
   "source": []
  }
 ],
 "metadata": {
  "kernelspec": {
   "display_name": "Python 3",
   "language": "python",
   "name": "python3"
  },
  "language_info": {
   "codemirror_mode": {
    "name": "ipython",
    "version": 3
   },
   "file_extension": ".py",
   "mimetype": "text/x-python",
   "name": "python",
   "nbconvert_exporter": "python",
   "pygments_lexer": "ipython3",
   "version": "3.8.8"
  }
 },
 "nbformat": 4,
 "nbformat_minor": 4
}
