{
 "cells": [
  {
   "cell_type": "markdown",
   "metadata": {},
   "source": [
    "# California COVID vaccinations scrape"
   ]
  },
  {
   "cell_type": "markdown",
   "metadata": {},
   "source": [
    "By [Amy O'Kruk](https://twitter.com/amyokruk)"
   ]
  },
  {
   "cell_type": "markdown",
   "metadata": {},
   "source": [
    "Downloads data on vaccine doses administered by county and statewide from a Tableau-powered dashboard from the California Department of Public Health."
   ]
  },
  {
   "cell_type": "code",
   "execution_count": 1,
   "metadata": {
    "execution": {
     "iopub.execute_input": "2021-03-14T10:43:19.846707Z",
     "iopub.status.busy": "2021-03-14T10:43:19.844836Z",
     "iopub.status.idle": "2021-03-14T10:43:20.264354Z",
     "shell.execute_reply": "2021-03-14T10:43:20.263287Z"
    }
   },
   "outputs": [],
   "source": [
    "import pandas as pd\n",
    "import requests\n",
    "from bs4 import BeautifulSoup\n",
    "import json\n",
    "import re\n",
    "import time\n",
    "from time import gmtime, strftime \n",
    "import os\n",
    "import pytz\n",
    "from datetime import datetime"
   ]
  },
  {
   "cell_type": "markdown",
   "metadata": {},
   "source": [
    "Scrape the dashboard page"
   ]
  },
  {
   "cell_type": "code",
   "execution_count": 2,
   "metadata": {
    "execution": {
     "iopub.execute_input": "2021-03-14T10:43:20.270664Z",
     "iopub.status.busy": "2021-03-14T10:43:20.267759Z",
     "iopub.status.idle": "2021-03-14T10:43:20.840827Z",
     "shell.execute_reply": "2021-03-14T10:43:20.839836Z"
    }
   },
   "outputs": [],
   "source": [
    "url = \"https://public.tableau.com/interactive/views/COVID-19VaccineDashboardPublic/Vaccine?:embed=y&:showVizHome=n&:apiID=host0\"\n",
    "\n",
    "r = requests.get(url)\n",
    "soup = BeautifulSoup(r.text, \"html.parser\")"
   ]
  },
  {
   "cell_type": "code",
   "execution_count": 3,
   "metadata": {
    "execution": {
     "iopub.execute_input": "2021-03-14T10:43:20.845361Z",
     "iopub.status.busy": "2021-03-14T10:43:20.844840Z",
     "iopub.status.idle": "2021-03-14T10:43:20.848575Z",
     "shell.execute_reply": "2021-03-14T10:43:20.849197Z"
    }
   },
   "outputs": [],
   "source": [
    "tableauData = json.loads(soup.find(\"textarea\",{\"id\": \"tsConfigContainer\"}).text)"
   ]
  },
  {
   "cell_type": "markdown",
   "metadata": {},
   "source": [
    "Get the link to the Tableau data"
   ]
  },
  {
   "cell_type": "code",
   "execution_count": 4,
   "metadata": {
    "execution": {
     "iopub.execute_input": "2021-03-14T10:43:20.853025Z",
     "iopub.status.busy": "2021-03-14T10:43:20.852289Z",
     "iopub.status.idle": "2021-03-14T10:43:20.856156Z",
     "shell.execute_reply": "2021-03-14T10:43:20.857117Z"
    }
   },
   "outputs": [],
   "source": [
    "dataUrl = f'https://public.tableau.com{tableauData[\"vizql_root\"]}/bootstrapSession/sessions/{tableauData[\"sessionid\"]}'"
   ]
  },
  {
   "cell_type": "code",
   "execution_count": 5,
   "metadata": {
    "execution": {
     "iopub.execute_input": "2021-03-14T10:43:20.864839Z",
     "iopub.status.busy": "2021-03-14T10:43:20.863795Z",
     "iopub.status.idle": "2021-03-14T10:43:21.231147Z",
     "shell.execute_reply": "2021-03-14T10:43:21.230676Z"
    }
   },
   "outputs": [],
   "source": [
    "r = requests.post(dataUrl, data= {\n",
    "    \"sheet_id\": tableauData[\"sheetId\"],\n",
    "})\n",
    "\n",
    "dataReg = re.search('\\d+;({.*})\\d+;({.*})', r.text, re.MULTILINE)\n",
    "data1 = json.loads(dataReg.group(2))\n",
    "\n",
    "dataJson = data1[\"secondaryInfo\"][\"presModelMap\"][\"dataDictionary\"][\"presModelHolder\"][\"genDataDictionaryPresModel\"][\"dataSegments\"][\"0\"][\"dataColumns\"]"
   ]
  },
  {
   "cell_type": "markdown",
   "metadata": {},
   "source": [
    "Isolate what you want"
   ]
  },
  {
   "cell_type": "code",
   "execution_count": 6,
   "metadata": {
    "execution": {
     "iopub.execute_input": "2021-03-14T10:43:21.235592Z",
     "iopub.status.busy": "2021-03-14T10:43:21.234724Z",
     "iopub.status.idle": "2021-03-14T10:43:21.236962Z",
     "shell.execute_reply": "2021-03-14T10:43:21.236432Z"
    }
   },
   "outputs": [],
   "source": [
    "counties = dataJson[2]['dataValues'][:58]"
   ]
  },
  {
   "cell_type": "code",
   "execution_count": 7,
   "metadata": {
    "execution": {
     "iopub.execute_input": "2021-03-14T10:43:21.242272Z",
     "iopub.status.busy": "2021-03-14T10:43:21.240884Z",
     "iopub.status.idle": "2021-03-14T10:43:21.242816Z",
     "shell.execute_reply": "2021-03-14T10:43:21.243228Z"
    }
   },
   "outputs": [],
   "source": [
    "doses = dataJson[0]['dataValues'][3:61]"
   ]
  },
  {
   "cell_type": "markdown",
   "metadata": {},
   "source": [
    "Data formatting"
   ]
  },
  {
   "cell_type": "code",
   "execution_count": 8,
   "metadata": {
    "execution": {
     "iopub.execute_input": "2021-03-14T10:43:21.247820Z",
     "iopub.status.busy": "2021-03-14T10:43:21.246677Z",
     "iopub.status.idle": "2021-03-14T10:43:21.248426Z",
     "shell.execute_reply": "2021-03-14T10:43:21.248891Z"
    }
   },
   "outputs": [],
   "source": [
    "zipped = dict(zip(counties, doses))"
   ]
  },
  {
   "cell_type": "code",
   "execution_count": 9,
   "metadata": {
    "execution": {
     "iopub.execute_input": "2021-03-14T10:43:21.256110Z",
     "iopub.status.busy": "2021-03-14T10:43:21.254586Z",
     "iopub.status.idle": "2021-03-14T10:43:21.256659Z",
     "shell.execute_reply": "2021-03-14T10:43:21.257232Z"
    }
   },
   "outputs": [],
   "source": [
    "df = pd.Series(zipped).reset_index()"
   ]
  },
  {
   "cell_type": "code",
   "execution_count": 10,
   "metadata": {
    "execution": {
     "iopub.execute_input": "2021-03-14T10:43:21.262158Z",
     "iopub.status.busy": "2021-03-14T10:43:21.260989Z",
     "iopub.status.idle": "2021-03-14T10:43:21.263601Z",
     "shell.execute_reply": "2021-03-14T10:43:21.263068Z"
    }
   },
   "outputs": [],
   "source": [
    "df.columns = ['location','doses']"
   ]
  },
  {
   "cell_type": "markdown",
   "metadata": {},
   "source": [
    "Grab the overall California total"
   ]
  },
  {
   "cell_type": "code",
   "execution_count": 11,
   "metadata": {
    "execution": {
     "iopub.execute_input": "2021-03-14T10:43:21.268492Z",
     "iopub.status.busy": "2021-03-14T10:43:21.267095Z",
     "iopub.status.idle": "2021-03-14T10:43:21.269130Z",
     "shell.execute_reply": "2021-03-14T10:43:21.269663Z"
    }
   },
   "outputs": [],
   "source": [
    "add = {'location':'California','doses':dataJson[0]['dataValues'][2]}"
   ]
  },
  {
   "cell_type": "code",
   "execution_count": 12,
   "metadata": {
    "execution": {
     "iopub.execute_input": "2021-03-14T10:43:21.277853Z",
     "iopub.status.busy": "2021-03-14T10:43:21.276676Z",
     "iopub.status.idle": "2021-03-14T10:43:21.278459Z",
     "shell.execute_reply": "2021-03-14T10:43:21.278874Z"
    }
   },
   "outputs": [],
   "source": [
    "df = df.append(add, ignore_index=True)"
   ]
  },
  {
   "cell_type": "code",
   "execution_count": 13,
   "metadata": {
    "execution": {
     "iopub.execute_input": "2021-03-14T10:43:21.283907Z",
     "iopub.status.busy": "2021-03-14T10:43:21.282985Z",
     "iopub.status.idle": "2021-03-14T10:43:21.284805Z",
     "shell.execute_reply": "2021-03-14T10:43:21.285394Z"
    }
   },
   "outputs": [],
   "source": [
    "df = df.sort_values(by='location')"
   ]
  },
  {
   "cell_type": "code",
   "execution_count": 14,
   "metadata": {
    "execution": {
     "iopub.execute_input": "2021-03-14T10:43:21.293017Z",
     "iopub.status.busy": "2021-03-14T10:43:21.291779Z",
     "iopub.status.idle": "2021-03-14T10:43:21.293792Z",
     "shell.execute_reply": "2021-03-14T10:43:21.294335Z"
    }
   },
   "outputs": [],
   "source": [
    "df = df[df.location == 'California'].append(df[df.location != 'California']).reset_index(drop=True)"
   ]
  },
  {
   "cell_type": "code",
   "execution_count": null,
   "metadata": {},
   "outputs": [],
   "source": []
  },
  {
   "cell_type": "code",
   "execution_count": 15,
   "metadata": {
    "execution": {
     "iopub.execute_input": "2021-03-14T10:43:21.297624Z",
     "iopub.status.busy": "2021-03-14T10:43:21.297134Z",
     "iopub.status.idle": "2021-03-14T10:43:21.320298Z",
     "shell.execute_reply": "2021-03-14T10:43:21.320874Z"
    }
   },
   "outputs": [],
   "source": [
    "tz = pytz.timezone(\"America/New_York\")"
   ]
  },
  {
   "cell_type": "code",
   "execution_count": 16,
   "metadata": {
    "execution": {
     "iopub.execute_input": "2021-03-14T10:43:21.325769Z",
     "iopub.status.busy": "2021-03-14T10:43:21.324475Z",
     "iopub.status.idle": "2021-03-14T10:43:21.326505Z",
     "shell.execute_reply": "2021-03-14T10:43:21.326967Z"
    }
   },
   "outputs": [],
   "source": [
    "today = datetime.now(tz).date()"
   ]
  },
  {
   "cell_type": "code",
   "execution_count": 17,
   "metadata": {
    "execution": {
     "iopub.execute_input": "2021-03-14T10:43:21.331850Z",
     "iopub.status.busy": "2021-03-14T10:43:21.330358Z",
     "iopub.status.idle": "2021-03-14T10:43:21.332629Z",
     "shell.execute_reply": "2021-03-14T10:43:21.333683Z"
    }
   },
   "outputs": [],
   "source": [
    "data_dir = os.path.join(os.path.abspath(\"\"), \"data\")"
   ]
  },
  {
   "cell_type": "code",
   "execution_count": 18,
   "metadata": {
    "execution": {
     "iopub.execute_input": "2021-03-14T10:43:21.340576Z",
     "iopub.status.busy": "2021-03-14T10:43:21.337290Z",
     "iopub.status.idle": "2021-03-14T10:43:21.344208Z",
     "shell.execute_reply": "2021-03-14T10:43:21.343670Z"
    }
   },
   "outputs": [],
   "source": [
    "df.to_csv(os.path.join(data_dir, f\"{today}.csv\"), index=False)"
   ]
  },
  {
   "cell_type": "code",
   "execution_count": null,
   "metadata": {},
   "outputs": [],
   "source": []
  }
 ],
 "metadata": {
  "kernelspec": {
   "display_name": "Python 3",
   "language": "python",
   "name": "python3"
  },
  "language_info": {
   "codemirror_mode": {
    "name": "ipython",
    "version": 3
   },
   "file_extension": ".py",
   "mimetype": "text/x-python",
   "name": "python",
   "nbconvert_exporter": "python",
   "pygments_lexer": "ipython3",
   "version": "3.8.8"
  }
 },
 "nbformat": 4,
 "nbformat_minor": 4
}
