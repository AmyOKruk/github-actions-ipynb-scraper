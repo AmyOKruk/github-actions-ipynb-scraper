{
 "cells": [
  {
   "cell_type": "markdown",
   "metadata": {},
   "source": [
    "# California COVID vaccinations scrape"
   ]
  },
  {
   "cell_type": "markdown",
   "metadata": {},
   "source": [
    "By [Amy O'Kruk](https://twitter.com/amyokruk)"
   ]
  },
  {
   "cell_type": "markdown",
   "metadata": {},
   "source": [
    "Downloads data on vaccine doses administered by county and statewide from a Tableau-powered dashboard from the California Department of Public Health."
   ]
  },
  {
   "cell_type": "code",
   "execution_count": 1,
   "metadata": {
    "execution": {
     "iopub.execute_input": "2021-03-17T04:15:21.284235Z",
     "iopub.status.busy": "2021-03-17T04:15:21.283653Z",
     "iopub.status.idle": "2021-03-17T04:15:21.624840Z",
     "shell.execute_reply": "2021-03-17T04:15:21.624290Z"
    }
   },
   "outputs": [],
   "source": [
    "import pandas as pd\n",
    "import requests\n",
    "from bs4 import BeautifulSoup\n",
    "import json\n",
    "import re\n",
    "import time\n",
    "from time import gmtime, strftime \n",
    "import os\n",
    "import pytz\n",
    "from datetime import datetime"
   ]
  },
  {
   "cell_type": "markdown",
   "metadata": {},
   "source": [
    "Scrape the dashboard page"
   ]
  },
  {
   "cell_type": "code",
   "execution_count": 2,
   "metadata": {
    "execution": {
     "iopub.execute_input": "2021-03-17T04:15:21.629683Z",
     "iopub.status.busy": "2021-03-17T04:15:21.627842Z",
     "iopub.status.idle": "2021-03-17T04:15:21.882183Z",
     "shell.execute_reply": "2021-03-17T04:15:21.881719Z"
    }
   },
   "outputs": [],
   "source": [
    "url = \"https://public.tableau.com/interactive/views/COVID-19VaccineDashboardPublic/Vaccine?:embed=y&:showVizHome=n&:apiID=host0\"\n",
    "\n",
    "r = requests.get(url)\n",
    "soup = BeautifulSoup(r.text, \"html.parser\")"
   ]
  },
  {
   "cell_type": "code",
   "execution_count": 3,
   "metadata": {
    "execution": {
     "iopub.execute_input": "2021-03-17T04:15:21.886511Z",
     "iopub.status.busy": "2021-03-17T04:15:21.886011Z",
     "iopub.status.idle": "2021-03-17T04:15:21.889750Z",
     "shell.execute_reply": "2021-03-17T04:15:21.889376Z"
    }
   },
   "outputs": [],
   "source": [
    "tableauData = json.loads(soup.find(\"textarea\",{\"id\": \"tsConfigContainer\"}).text)"
   ]
  },
  {
   "cell_type": "markdown",
   "metadata": {},
   "source": [
    "Get the link to the Tableau data"
   ]
  },
  {
   "cell_type": "code",
   "execution_count": 4,
   "metadata": {
    "execution": {
     "iopub.execute_input": "2021-03-17T04:15:21.892635Z",
     "iopub.status.busy": "2021-03-17T04:15:21.892204Z",
     "iopub.status.idle": "2021-03-17T04:15:21.895428Z",
     "shell.execute_reply": "2021-03-17T04:15:21.895065Z"
    }
   },
   "outputs": [],
   "source": [
    "dataUrl = f'https://public.tableau.com{tableauData[\"vizql_root\"]}/bootstrapSession/sessions/{tableauData[\"sessionid\"]}'"
   ]
  },
  {
   "cell_type": "code",
   "execution_count": 5,
   "metadata": {
    "execution": {
     "iopub.execute_input": "2021-03-17T04:15:21.900921Z",
     "iopub.status.busy": "2021-03-17T04:15:21.900476Z",
     "iopub.status.idle": "2021-03-17T04:15:22.168417Z",
     "shell.execute_reply": "2021-03-17T04:15:22.167912Z"
    }
   },
   "outputs": [],
   "source": [
    "r = requests.post(dataUrl, data= {\n",
    "    \"sheet_id\": tableauData[\"sheetId\"],\n",
    "})\n",
    "\n",
    "dataReg = re.search('\\d+;({.*})\\d+;({.*})', r.text, re.MULTILINE)\n",
    "data1 = json.loads(dataReg.group(2))\n",
    "\n",
    "dataJson = data1[\"secondaryInfo\"][\"presModelMap\"][\"dataDictionary\"][\"presModelHolder\"][\"genDataDictionaryPresModel\"][\"dataSegments\"][\"0\"][\"dataColumns\"]"
   ]
  },
  {
   "cell_type": "markdown",
   "metadata": {},
   "source": [
    "Isolate what you want"
   ]
  },
  {
   "cell_type": "code",
   "execution_count": 6,
   "metadata": {
    "execution": {
     "iopub.execute_input": "2021-03-17T04:15:22.172629Z",
     "iopub.status.busy": "2021-03-17T04:15:22.171546Z",
     "iopub.status.idle": "2021-03-17T04:15:22.173195Z",
     "shell.execute_reply": "2021-03-17T04:15:22.173601Z"
    }
   },
   "outputs": [],
   "source": [
    "counties = dataJson[2]['dataValues'][:58]"
   ]
  },
  {
   "cell_type": "code",
   "execution_count": 7,
   "metadata": {
    "execution": {
     "iopub.execute_input": "2021-03-17T04:15:22.177132Z",
     "iopub.status.busy": "2021-03-17T04:15:22.176361Z",
     "iopub.status.idle": "2021-03-17T04:15:22.178248Z",
     "shell.execute_reply": "2021-03-17T04:15:22.177888Z"
    }
   },
   "outputs": [],
   "source": [
    "doses = dataJson[0]['dataValues'][3:61]"
   ]
  },
  {
   "cell_type": "markdown",
   "metadata": {},
   "source": [
    "Data formatting"
   ]
  },
  {
   "cell_type": "code",
   "execution_count": 8,
   "metadata": {
    "execution": {
     "iopub.execute_input": "2021-03-17T04:15:22.181468Z",
     "iopub.status.busy": "2021-03-17T04:15:22.180712Z",
     "iopub.status.idle": "2021-03-17T04:15:22.182328Z",
     "shell.execute_reply": "2021-03-17T04:15:22.182665Z"
    }
   },
   "outputs": [],
   "source": [
    "zipped = dict(zip(counties, doses))"
   ]
  },
  {
   "cell_type": "code",
   "execution_count": 9,
   "metadata": {
    "execution": {
     "iopub.execute_input": "2021-03-17T04:15:22.187476Z",
     "iopub.status.busy": "2021-03-17T04:15:22.187026Z",
     "iopub.status.idle": "2021-03-17T04:15:22.189185Z",
     "shell.execute_reply": "2021-03-17T04:15:22.188737Z"
    }
   },
   "outputs": [],
   "source": [
    "df = pd.Series(zipped).reset_index()"
   ]
  },
  {
   "cell_type": "code",
   "execution_count": 10,
   "metadata": {
    "execution": {
     "iopub.execute_input": "2021-03-17T04:15:22.192586Z",
     "iopub.status.busy": "2021-03-17T04:15:22.191821Z",
     "iopub.status.idle": "2021-03-17T04:15:22.193459Z",
     "shell.execute_reply": "2021-03-17T04:15:22.193795Z"
    }
   },
   "outputs": [],
   "source": [
    "df.columns = ['location','doses']"
   ]
  },
  {
   "cell_type": "markdown",
   "metadata": {},
   "source": [
    "Grab the overall California total"
   ]
  },
  {
   "cell_type": "code",
   "execution_count": 11,
   "metadata": {
    "execution": {
     "iopub.execute_input": "2021-03-17T04:15:22.197180Z",
     "iopub.status.busy": "2021-03-17T04:15:22.196415Z",
     "iopub.status.idle": "2021-03-17T04:15:22.197997Z",
     "shell.execute_reply": "2021-03-17T04:15:22.198335Z"
    }
   },
   "outputs": [],
   "source": [
    "add = {'location':'California','doses':dataJson[0]['dataValues'][2]}"
   ]
  },
  {
   "cell_type": "code",
   "execution_count": 12,
   "metadata": {
    "execution": {
     "iopub.execute_input": "2021-03-17T04:15:22.203994Z",
     "iopub.status.busy": "2021-03-17T04:15:22.203221Z",
     "iopub.status.idle": "2021-03-17T04:15:22.204735Z",
     "shell.execute_reply": "2021-03-17T04:15:22.205097Z"
    }
   },
   "outputs": [],
   "source": [
    "df = df.append(add, ignore_index=True)"
   ]
  },
  {
   "cell_type": "code",
   "execution_count": 13,
   "metadata": {
    "execution": {
     "iopub.execute_input": "2021-03-17T04:15:22.208413Z",
     "iopub.status.busy": "2021-03-17T04:15:22.207975Z",
     "iopub.status.idle": "2021-03-17T04:15:22.210123Z",
     "shell.execute_reply": "2021-03-17T04:15:22.209744Z"
    }
   },
   "outputs": [],
   "source": [
    "df = df.sort_values(by='location')"
   ]
  },
  {
   "cell_type": "code",
   "execution_count": 14,
   "metadata": {
    "execution": {
     "iopub.execute_input": "2021-03-17T04:15:22.215272Z",
     "iopub.status.busy": "2021-03-17T04:15:22.214476Z",
     "iopub.status.idle": "2021-03-17T04:15:22.216136Z",
     "shell.execute_reply": "2021-03-17T04:15:22.216473Z"
    }
   },
   "outputs": [],
   "source": [
    "df = df[df.location == 'California'].append(df[df.location != 'California']).reset_index(drop=True)"
   ]
  },
  {
   "cell_type": "code",
   "execution_count": null,
   "metadata": {},
   "outputs": [],
   "source": []
  },
  {
   "cell_type": "code",
   "execution_count": 15,
   "metadata": {
    "execution": {
     "iopub.execute_input": "2021-03-17T04:15:22.219307Z",
     "iopub.status.busy": "2021-03-17T04:15:22.218870Z",
     "iopub.status.idle": "2021-03-17T04:15:22.234219Z",
     "shell.execute_reply": "2021-03-17T04:15:22.233810Z"
    }
   },
   "outputs": [],
   "source": [
    "tz = pytz.timezone(\"America/New_York\")"
   ]
  },
  {
   "cell_type": "code",
   "execution_count": 16,
   "metadata": {
    "execution": {
     "iopub.execute_input": "2021-03-17T04:15:22.237500Z",
     "iopub.status.busy": "2021-03-17T04:15:22.236722Z",
     "iopub.status.idle": "2021-03-17T04:15:22.238615Z",
     "shell.execute_reply": "2021-03-17T04:15:22.238232Z"
    }
   },
   "outputs": [],
   "source": [
    "today = datetime.now(tz).date()"
   ]
  },
  {
   "cell_type": "code",
   "execution_count": 17,
   "metadata": {
    "execution": {
     "iopub.execute_input": "2021-03-17T04:15:22.242013Z",
     "iopub.status.busy": "2021-03-17T04:15:22.241232Z",
     "iopub.status.idle": "2021-03-17T04:15:22.242881Z",
     "shell.execute_reply": "2021-03-17T04:15:22.243222Z"
    }
   },
   "outputs": [],
   "source": [
    "data_dir = os.path.join(os.path.abspath(\"\"), \"data\")"
   ]
  },
  {
   "cell_type": "code",
   "execution_count": 18,
   "metadata": {
    "execution": {
     "iopub.execute_input": "2021-03-17T04:15:22.246892Z",
     "iopub.status.busy": "2021-03-17T04:15:22.245836Z",
     "iopub.status.idle": "2021-03-17T04:15:22.250295Z",
     "shell.execute_reply": "2021-03-17T04:15:22.249884Z"
    }
   },
   "outputs": [],
   "source": [
    "df.to_csv(os.path.join(data_dir, f\"{today}.csv\"), index=False)"
   ]
  },
  {
   "cell_type": "code",
   "execution_count": null,
   "metadata": {},
   "outputs": [],
   "source": []
  }
 ],
 "metadata": {
  "kernelspec": {
   "display_name": "Python 3",
   "language": "python",
   "name": "python3"
  },
  "language_info": {
   "codemirror_mode": {
    "name": "ipython",
    "version": 3
   },
   "file_extension": ".py",
   "mimetype": "text/x-python",
   "name": "python",
   "nbconvert_exporter": "python",
   "pygments_lexer": "ipython3",
   "version": "3.8.8"
  }
 },
 "nbformat": 4,
 "nbformat_minor": 4
}
