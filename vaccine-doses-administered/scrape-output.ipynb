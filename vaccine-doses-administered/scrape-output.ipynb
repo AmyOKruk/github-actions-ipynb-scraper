{
 "cells": [
  {
   "cell_type": "markdown",
   "metadata": {},
   "source": [
    "# California COVID vaccinations scrape"
   ]
  },
  {
   "cell_type": "markdown",
   "metadata": {},
   "source": [
    "By [Amy O'Kruk](https://twitter.com/amyokruk)"
   ]
  },
  {
   "cell_type": "markdown",
   "metadata": {},
   "source": [
    "Downloads data on vaccine doses administered by county and statewide from a Tableau-powered dashboard from the California Department of Public Health."
   ]
  },
  {
   "cell_type": "code",
   "execution_count": 1,
   "metadata": {
    "execution": {
     "iopub.execute_input": "2021-03-16T15:43:58.269886Z",
     "iopub.status.busy": "2021-03-16T15:43:58.269220Z",
     "iopub.status.idle": "2021-03-16T15:43:58.640256Z",
     "shell.execute_reply": "2021-03-16T15:43:58.639122Z"
    }
   },
   "outputs": [],
   "source": [
    "import pandas as pd\n",
    "import requests\n",
    "from bs4 import BeautifulSoup\n",
    "import json\n",
    "import re\n",
    "import time\n",
    "from time import gmtime, strftime \n",
    "import os\n",
    "import pytz\n",
    "from datetime import datetime"
   ]
  },
  {
   "cell_type": "markdown",
   "metadata": {},
   "source": [
    "Scrape the dashboard page"
   ]
  },
  {
   "cell_type": "code",
   "execution_count": 2,
   "metadata": {
    "execution": {
     "iopub.execute_input": "2021-03-16T15:43:58.647414Z",
     "iopub.status.busy": "2021-03-16T15:43:58.644901Z",
     "iopub.status.idle": "2021-03-16T15:43:58.932799Z",
     "shell.execute_reply": "2021-03-16T15:43:58.932090Z"
    }
   },
   "outputs": [],
   "source": [
    "url = \"https://public.tableau.com/interactive/views/COVID-19VaccineDashboardPublic/Vaccine?:embed=y&:showVizHome=n&:apiID=host0\"\n",
    "\n",
    "r = requests.get(url)\n",
    "soup = BeautifulSoup(r.text, \"html.parser\")"
   ]
  },
  {
   "cell_type": "code",
   "execution_count": 3,
   "metadata": {
    "execution": {
     "iopub.execute_input": "2021-03-16T15:43:58.937672Z",
     "iopub.status.busy": "2021-03-16T15:43:58.937113Z",
     "iopub.status.idle": "2021-03-16T15:43:58.940061Z",
     "shell.execute_reply": "2021-03-16T15:43:58.940458Z"
    }
   },
   "outputs": [],
   "source": [
    "tableauData = json.loads(soup.find(\"textarea\",{\"id\": \"tsConfigContainer\"}).text)"
   ]
  },
  {
   "cell_type": "markdown",
   "metadata": {},
   "source": [
    "Get the link to the Tableau data"
   ]
  },
  {
   "cell_type": "code",
   "execution_count": 4,
   "metadata": {
    "execution": {
     "iopub.execute_input": "2021-03-16T15:43:58.945985Z",
     "iopub.status.busy": "2021-03-16T15:43:58.944172Z",
     "iopub.status.idle": "2021-03-16T15:43:58.946588Z",
     "shell.execute_reply": "2021-03-16T15:43:58.947016Z"
    }
   },
   "outputs": [],
   "source": [
    "dataUrl = f'https://public.tableau.com{tableauData[\"vizql_root\"]}/bootstrapSession/sessions/{tableauData[\"sessionid\"]}'"
   ]
  },
  {
   "cell_type": "code",
   "execution_count": 5,
   "metadata": {
    "execution": {
     "iopub.execute_input": "2021-03-16T15:43:58.953557Z",
     "iopub.status.busy": "2021-03-16T15:43:58.953003Z",
     "iopub.status.idle": "2021-03-16T15:43:59.414680Z",
     "shell.execute_reply": "2021-03-16T15:43:59.413776Z"
    }
   },
   "outputs": [],
   "source": [
    "r = requests.post(dataUrl, data= {\n",
    "    \"sheet_id\": tableauData[\"sheetId\"],\n",
    "})\n",
    "\n",
    "dataReg = re.search('\\d+;({.*})\\d+;({.*})', r.text, re.MULTILINE)\n",
    "data1 = json.loads(dataReg.group(2))\n",
    "\n",
    "dataJson = data1[\"secondaryInfo\"][\"presModelMap\"][\"dataDictionary\"][\"presModelHolder\"][\"genDataDictionaryPresModel\"][\"dataSegments\"][\"0\"][\"dataColumns\"]"
   ]
  },
  {
   "cell_type": "markdown",
   "metadata": {},
   "source": [
    "Isolate what you want"
   ]
  },
  {
   "cell_type": "code",
   "execution_count": 6,
   "metadata": {
    "execution": {
     "iopub.execute_input": "2021-03-16T15:43:59.419496Z",
     "iopub.status.busy": "2021-03-16T15:43:59.418310Z",
     "iopub.status.idle": "2021-03-16T15:43:59.420050Z",
     "shell.execute_reply": "2021-03-16T15:43:59.420444Z"
    }
   },
   "outputs": [],
   "source": [
    "counties = dataJson[2]['dataValues'][:58]"
   ]
  },
  {
   "cell_type": "code",
   "execution_count": 7,
   "metadata": {
    "execution": {
     "iopub.execute_input": "2021-03-16T15:43:59.424699Z",
     "iopub.status.busy": "2021-03-16T15:43:59.423537Z",
     "iopub.status.idle": "2021-03-16T15:43:59.425295Z",
     "shell.execute_reply": "2021-03-16T15:43:59.425760Z"
    }
   },
   "outputs": [],
   "source": [
    "doses = dataJson[0]['dataValues'][3:61]"
   ]
  },
  {
   "cell_type": "markdown",
   "metadata": {},
   "source": [
    "Data formatting"
   ]
  },
  {
   "cell_type": "code",
   "execution_count": 8,
   "metadata": {
    "execution": {
     "iopub.execute_input": "2021-03-16T15:43:59.430030Z",
     "iopub.status.busy": "2021-03-16T15:43:59.428656Z",
     "iopub.status.idle": "2021-03-16T15:43:59.430619Z",
     "shell.execute_reply": "2021-03-16T15:43:59.431035Z"
    }
   },
   "outputs": [],
   "source": [
    "zipped = dict(zip(counties, doses))"
   ]
  },
  {
   "cell_type": "code",
   "execution_count": 9,
   "metadata": {
    "execution": {
     "iopub.execute_input": "2021-03-16T15:43:59.437460Z",
     "iopub.status.busy": "2021-03-16T15:43:59.436196Z",
     "iopub.status.idle": "2021-03-16T15:43:59.438058Z",
     "shell.execute_reply": "2021-03-16T15:43:59.438482Z"
    }
   },
   "outputs": [],
   "source": [
    "df = pd.Series(zipped).reset_index()"
   ]
  },
  {
   "cell_type": "code",
   "execution_count": 10,
   "metadata": {
    "execution": {
     "iopub.execute_input": "2021-03-16T15:43:59.442689Z",
     "iopub.status.busy": "2021-03-16T15:43:59.441582Z",
     "iopub.status.idle": "2021-03-16T15:43:59.443230Z",
     "shell.execute_reply": "2021-03-16T15:43:59.443653Z"
    }
   },
   "outputs": [],
   "source": [
    "df.columns = ['location','doses']"
   ]
  },
  {
   "cell_type": "markdown",
   "metadata": {},
   "source": [
    "Grab the overall California total"
   ]
  },
  {
   "cell_type": "code",
   "execution_count": 11,
   "metadata": {
    "execution": {
     "iopub.execute_input": "2021-03-16T15:43:59.448050Z",
     "iopub.status.busy": "2021-03-16T15:43:59.446843Z",
     "iopub.status.idle": "2021-03-16T15:43:59.448649Z",
     "shell.execute_reply": "2021-03-16T15:43:59.449072Z"
    }
   },
   "outputs": [],
   "source": [
    "add = {'location':'California','doses':dataJson[0]['dataValues'][2]}"
   ]
  },
  {
   "cell_type": "code",
   "execution_count": 12,
   "metadata": {
    "execution": {
     "iopub.execute_input": "2021-03-16T15:43:59.455904Z",
     "iopub.status.busy": "2021-03-16T15:43:59.454738Z",
     "iopub.status.idle": "2021-03-16T15:43:59.456612Z",
     "shell.execute_reply": "2021-03-16T15:43:59.457040Z"
    }
   },
   "outputs": [],
   "source": [
    "df = df.append(add, ignore_index=True)"
   ]
  },
  {
   "cell_type": "code",
   "execution_count": 13,
   "metadata": {
    "execution": {
     "iopub.execute_input": "2021-03-16T15:43:59.461997Z",
     "iopub.status.busy": "2021-03-16T15:43:59.460663Z",
     "iopub.status.idle": "2021-03-16T15:43:59.462583Z",
     "shell.execute_reply": "2021-03-16T15:43:59.463013Z"
    }
   },
   "outputs": [],
   "source": [
    "df = df.sort_values(by='location')"
   ]
  },
  {
   "cell_type": "code",
   "execution_count": 14,
   "metadata": {
    "execution": {
     "iopub.execute_input": "2021-03-16T15:43:59.469094Z",
     "iopub.status.busy": "2021-03-16T15:43:59.467975Z",
     "iopub.status.idle": "2021-03-16T15:43:59.469724Z",
     "shell.execute_reply": "2021-03-16T15:43:59.470151Z"
    }
   },
   "outputs": [],
   "source": [
    "df = df[df.location == 'California'].append(df[df.location != 'California']).reset_index(drop=True)"
   ]
  },
  {
   "cell_type": "code",
   "execution_count": null,
   "metadata": {},
   "outputs": [],
   "source": []
  },
  {
   "cell_type": "code",
   "execution_count": 15,
   "metadata": {
    "execution": {
     "iopub.execute_input": "2021-03-16T15:43:59.473461Z",
     "iopub.status.busy": "2021-03-16T15:43:59.472942Z",
     "iopub.status.idle": "2021-03-16T15:43:59.490432Z",
     "shell.execute_reply": "2021-03-16T15:43:59.489992Z"
    }
   },
   "outputs": [],
   "source": [
    "tz = pytz.timezone(\"America/New_York\")"
   ]
  },
  {
   "cell_type": "code",
   "execution_count": 16,
   "metadata": {
    "execution": {
     "iopub.execute_input": "2021-03-16T15:43:59.494723Z",
     "iopub.status.busy": "2021-03-16T15:43:59.493435Z",
     "iopub.status.idle": "2021-03-16T15:43:59.495565Z",
     "shell.execute_reply": "2021-03-16T15:43:59.496038Z"
    }
   },
   "outputs": [],
   "source": [
    "today = datetime.now(tz).date()"
   ]
  },
  {
   "cell_type": "code",
   "execution_count": 17,
   "metadata": {
    "execution": {
     "iopub.execute_input": "2021-03-16T15:43:59.500437Z",
     "iopub.status.busy": "2021-03-16T15:43:59.499267Z",
     "iopub.status.idle": "2021-03-16T15:43:59.501035Z",
     "shell.execute_reply": "2021-03-16T15:43:59.501480Z"
    }
   },
   "outputs": [],
   "source": [
    "data_dir = os.path.join(os.path.abspath(\"\"), \"data\")"
   ]
  },
  {
   "cell_type": "code",
   "execution_count": 18,
   "metadata": {
    "execution": {
     "iopub.execute_input": "2021-03-16T15:43:59.505178Z",
     "iopub.status.busy": "2021-03-16T15:43:59.504672Z",
     "iopub.status.idle": "2021-03-16T15:43:59.509114Z",
     "shell.execute_reply": "2021-03-16T15:43:59.508658Z"
    }
   },
   "outputs": [],
   "source": [
    "df.to_csv(os.path.join(data_dir, f\"{today}.csv\"), index=False)"
   ]
  },
  {
   "cell_type": "code",
   "execution_count": null,
   "metadata": {},
   "outputs": [],
   "source": []
  }
 ],
 "metadata": {
  "kernelspec": {
   "display_name": "Python 3",
   "language": "python",
   "name": "python3"
  },
  "language_info": {
   "codemirror_mode": {
    "name": "ipython",
    "version": 3
   },
   "file_extension": ".py",
   "mimetype": "text/x-python",
   "name": "python",
   "nbconvert_exporter": "python",
   "pygments_lexer": "ipython3",
   "version": "3.8.8"
  }
 },
 "nbformat": 4,
 "nbformat_minor": 4
}
