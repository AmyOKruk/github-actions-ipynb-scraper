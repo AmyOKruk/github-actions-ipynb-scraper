{
 "cells": [
  {
   "cell_type": "markdown",
   "metadata": {},
   "source": [
    "# California COVID vaccinations scrape"
   ]
  },
  {
   "cell_type": "markdown",
   "metadata": {},
   "source": [
    "By [Amy O'Kruk](https://twitter.com/amyokruk)"
   ]
  },
  {
   "cell_type": "markdown",
   "metadata": {},
   "source": [
    "Downloads data on vaccine doses administered by county and statewide from a Tableau-powered dashboard from the California Department of Public Health."
   ]
  },
  {
   "cell_type": "code",
   "execution_count": 1,
   "metadata": {
    "execution": {
     "iopub.execute_input": "2021-03-23T14:13:32.175980Z",
     "iopub.status.busy": "2021-03-23T14:13:32.175353Z",
     "iopub.status.idle": "2021-03-23T14:13:32.540540Z",
     "shell.execute_reply": "2021-03-23T14:13:32.539887Z"
    }
   },
   "outputs": [],
   "source": [
    "import pandas as pd\n",
    "import requests\n",
    "from bs4 import BeautifulSoup\n",
    "import json\n",
    "import re\n",
    "import time\n",
    "from time import gmtime, strftime \n",
    "import os\n",
    "import pytz\n",
    "from datetime import datetime"
   ]
  },
  {
   "cell_type": "markdown",
   "metadata": {},
   "source": [
    "Scrape the dashboard page"
   ]
  },
  {
   "cell_type": "code",
   "execution_count": 2,
   "metadata": {
    "execution": {
     "iopub.execute_input": "2021-03-23T14:13:32.545227Z",
     "iopub.status.busy": "2021-03-23T14:13:32.544643Z",
     "iopub.status.idle": "2021-03-23T14:13:33.223158Z",
     "shell.execute_reply": "2021-03-23T14:13:33.223906Z"
    }
   },
   "outputs": [],
   "source": [
    "url = \"https://public.tableau.com/interactive/views/COVID-19VaccineDashboardPublic/Vaccine?:embed=y&:showVizHome=n&:apiID=host0\"\n",
    "\n",
    "r = requests.get(url)\n",
    "soup = BeautifulSoup(r.text, \"html.parser\")"
   ]
  },
  {
   "cell_type": "code",
   "execution_count": 3,
   "metadata": {
    "execution": {
     "iopub.execute_input": "2021-03-23T14:13:33.228899Z",
     "iopub.status.busy": "2021-03-23T14:13:33.228404Z",
     "iopub.status.idle": "2021-03-23T14:13:33.231814Z",
     "shell.execute_reply": "2021-03-23T14:13:33.231380Z"
    }
   },
   "outputs": [],
   "source": [
    "tableauData = json.loads(soup.find(\"textarea\",{\"id\": \"tsConfigContainer\"}).text)"
   ]
  },
  {
   "cell_type": "markdown",
   "metadata": {},
   "source": [
    "Get the link to the Tableau data"
   ]
  },
  {
   "cell_type": "code",
   "execution_count": 4,
   "metadata": {
    "execution": {
     "iopub.execute_input": "2021-03-23T14:13:33.236177Z",
     "iopub.status.busy": "2021-03-23T14:13:33.234985Z",
     "iopub.status.idle": "2021-03-23T14:13:33.236826Z",
     "shell.execute_reply": "2021-03-23T14:13:33.237249Z"
    }
   },
   "outputs": [],
   "source": [
    "dataUrl = f'https://public.tableau.com{tableauData[\"vizql_root\"]}/bootstrapSession/sessions/{tableauData[\"sessionid\"]}'"
   ]
  },
  {
   "cell_type": "code",
   "execution_count": 5,
   "metadata": {
    "execution": {
     "iopub.execute_input": "2021-03-23T14:13:33.243636Z",
     "iopub.status.busy": "2021-03-23T14:13:33.243077Z",
     "iopub.status.idle": "2021-03-23T14:13:33.619111Z",
     "shell.execute_reply": "2021-03-23T14:13:33.618181Z"
    }
   },
   "outputs": [],
   "source": [
    "r = requests.post(dataUrl, data= {\n",
    "    \"sheet_id\": tableauData[\"sheetId\"],\n",
    "})\n",
    "\n",
    "dataReg = re.search('\\d+;({.*})\\d+;({.*})', r.text, re.MULTILINE)\n",
    "data1 = json.loads(dataReg.group(2))\n",
    "\n",
    "dataJson = data1[\"secondaryInfo\"][\"presModelMap\"][\"dataDictionary\"][\"presModelHolder\"][\"genDataDictionaryPresModel\"][\"dataSegments\"][\"0\"][\"dataColumns\"]"
   ]
  },
  {
   "cell_type": "markdown",
   "metadata": {},
   "source": [
    "Isolate what you want"
   ]
  },
  {
   "cell_type": "code",
   "execution_count": 6,
   "metadata": {
    "execution": {
     "iopub.execute_input": "2021-03-23T14:13:33.622973Z",
     "iopub.status.busy": "2021-03-23T14:13:33.622458Z",
     "iopub.status.idle": "2021-03-23T14:13:33.625933Z",
     "shell.execute_reply": "2021-03-23T14:13:33.625479Z"
    }
   },
   "outputs": [],
   "source": [
    "counties = dataJson[2]['dataValues'][:58]"
   ]
  },
  {
   "cell_type": "code",
   "execution_count": 7,
   "metadata": {
    "execution": {
     "iopub.execute_input": "2021-03-23T14:13:33.629691Z",
     "iopub.status.busy": "2021-03-23T14:13:33.629174Z",
     "iopub.status.idle": "2021-03-23T14:13:33.632181Z",
     "shell.execute_reply": "2021-03-23T14:13:33.632613Z"
    }
   },
   "outputs": [],
   "source": [
    "doses = dataJson[0]['dataValues'][3:61]"
   ]
  },
  {
   "cell_type": "markdown",
   "metadata": {},
   "source": [
    "Data formatting"
   ]
  },
  {
   "cell_type": "code",
   "execution_count": 8,
   "metadata": {
    "execution": {
     "iopub.execute_input": "2021-03-23T14:13:33.636221Z",
     "iopub.status.busy": "2021-03-23T14:13:33.635713Z",
     "iopub.status.idle": "2021-03-23T14:13:33.639181Z",
     "shell.execute_reply": "2021-03-23T14:13:33.638704Z"
    }
   },
   "outputs": [],
   "source": [
    "zipped = dict(zip(counties, doses))"
   ]
  },
  {
   "cell_type": "code",
   "execution_count": 9,
   "metadata": {
    "execution": {
     "iopub.execute_input": "2021-03-23T14:13:33.644822Z",
     "iopub.status.busy": "2021-03-23T14:13:33.644314Z",
     "iopub.status.idle": "2021-03-23T14:13:33.647755Z",
     "shell.execute_reply": "2021-03-23T14:13:33.647304Z"
    }
   },
   "outputs": [],
   "source": [
    "df = pd.Series(zipped).reset_index()"
   ]
  },
  {
   "cell_type": "code",
   "execution_count": 10,
   "metadata": {
    "execution": {
     "iopub.execute_input": "2021-03-23T14:13:33.651419Z",
     "iopub.status.busy": "2021-03-23T14:13:33.650885Z",
     "iopub.status.idle": "2021-03-23T14:13:33.654198Z",
     "shell.execute_reply": "2021-03-23T14:13:33.653775Z"
    }
   },
   "outputs": [],
   "source": [
    "df.columns = ['location','doses']"
   ]
  },
  {
   "cell_type": "markdown",
   "metadata": {},
   "source": [
    "Grab the overall California total"
   ]
  },
  {
   "cell_type": "code",
   "execution_count": 11,
   "metadata": {
    "execution": {
     "iopub.execute_input": "2021-03-23T14:13:33.657694Z",
     "iopub.status.busy": "2021-03-23T14:13:33.657193Z",
     "iopub.status.idle": "2021-03-23T14:13:33.660648Z",
     "shell.execute_reply": "2021-03-23T14:13:33.660199Z"
    }
   },
   "outputs": [],
   "source": [
    "add = {'location':'California','doses':dataJson[0]['dataValues'][2]}"
   ]
  },
  {
   "cell_type": "code",
   "execution_count": 12,
   "metadata": {
    "execution": {
     "iopub.execute_input": "2021-03-23T14:13:33.666849Z",
     "iopub.status.busy": "2021-03-23T14:13:33.666346Z",
     "iopub.status.idle": "2021-03-23T14:13:33.669813Z",
     "shell.execute_reply": "2021-03-23T14:13:33.669369Z"
    }
   },
   "outputs": [],
   "source": [
    "df = df.append(add, ignore_index=True)"
   ]
  },
  {
   "cell_type": "code",
   "execution_count": 13,
   "metadata": {
    "execution": {
     "iopub.execute_input": "2021-03-23T14:13:33.673924Z",
     "iopub.status.busy": "2021-03-23T14:13:33.673421Z",
     "iopub.status.idle": "2021-03-23T14:13:33.676885Z",
     "shell.execute_reply": "2021-03-23T14:13:33.676438Z"
    }
   },
   "outputs": [],
   "source": [
    "df = df.sort_values(by='location')"
   ]
  },
  {
   "cell_type": "code",
   "execution_count": 14,
   "metadata": {
    "execution": {
     "iopub.execute_input": "2021-03-23T14:13:33.682494Z",
     "iopub.status.busy": "2021-03-23T14:13:33.681990Z",
     "iopub.status.idle": "2021-03-23T14:13:33.685242Z",
     "shell.execute_reply": "2021-03-23T14:13:33.684775Z"
    }
   },
   "outputs": [],
   "source": [
    "df = df[df.location == 'California'].append(df[df.location != 'California']).reset_index(drop=True)"
   ]
  },
  {
   "cell_type": "code",
   "execution_count": null,
   "metadata": {},
   "outputs": [],
   "source": []
  },
  {
   "cell_type": "code",
   "execution_count": 15,
   "metadata": {
    "execution": {
     "iopub.execute_input": "2021-03-23T14:13:33.688845Z",
     "iopub.status.busy": "2021-03-23T14:13:33.687989Z",
     "iopub.status.idle": "2021-03-23T14:13:33.707363Z",
     "shell.execute_reply": "2021-03-23T14:13:33.706797Z"
    }
   },
   "outputs": [],
   "source": [
    "tz = pytz.timezone(\"America/New_York\")"
   ]
  },
  {
   "cell_type": "code",
   "execution_count": 16,
   "metadata": {
    "execution": {
     "iopub.execute_input": "2021-03-23T14:13:33.711700Z",
     "iopub.status.busy": "2021-03-23T14:13:33.711181Z",
     "iopub.status.idle": "2021-03-23T14:13:33.714584Z",
     "shell.execute_reply": "2021-03-23T14:13:33.715061Z"
    }
   },
   "outputs": [],
   "source": [
    "today = datetime.now(tz).date()"
   ]
  },
  {
   "cell_type": "code",
   "execution_count": 17,
   "metadata": {
    "execution": {
     "iopub.execute_input": "2021-03-23T14:13:33.718410Z",
     "iopub.status.busy": "2021-03-23T14:13:33.717904Z",
     "iopub.status.idle": "2021-03-23T14:13:33.721423Z",
     "shell.execute_reply": "2021-03-23T14:13:33.720970Z"
    }
   },
   "outputs": [],
   "source": [
    "data_dir = os.path.join(os.path.abspath(\"\"), \"data\")"
   ]
  },
  {
   "cell_type": "code",
   "execution_count": 18,
   "metadata": {
    "execution": {
     "iopub.execute_input": "2021-03-23T14:13:33.726466Z",
     "iopub.status.busy": "2021-03-23T14:13:33.724590Z",
     "iopub.status.idle": "2021-03-23T14:13:33.729339Z",
     "shell.execute_reply": "2021-03-23T14:13:33.729734Z"
    }
   },
   "outputs": [],
   "source": [
    "df.to_csv(os.path.join(data_dir, f\"{today}.csv\"), index=False)"
   ]
  },
  {
   "cell_type": "code",
   "execution_count": null,
   "metadata": {},
   "outputs": [],
   "source": []
  }
 ],
 "metadata": {
  "kernelspec": {
   "display_name": "Python 3",
   "language": "python",
   "name": "python3"
  },
  "language_info": {
   "codemirror_mode": {
    "name": "ipython",
    "version": 3
   },
   "file_extension": ".py",
   "mimetype": "text/x-python",
   "name": "python",
   "nbconvert_exporter": "python",
   "pygments_lexer": "ipython3",
   "version": "3.8.8"
  }
 },
 "nbformat": 4,
 "nbformat_minor": 4
}
