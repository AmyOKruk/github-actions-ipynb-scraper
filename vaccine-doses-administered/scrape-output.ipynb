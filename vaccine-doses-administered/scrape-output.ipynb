{
 "cells": [
  {
   "cell_type": "markdown",
   "metadata": {},
   "source": [
    "# California COVID vaccinations scrape"
   ]
  },
  {
   "cell_type": "markdown",
   "metadata": {},
   "source": [
    "By [Amy O'Kruk](https://twitter.com/amyokruk)"
   ]
  },
  {
   "cell_type": "markdown",
   "metadata": {},
   "source": [
    "Downloads data on vaccine doses administered by county and statewide from a Tableau-powered dashboard from the California Department of Public Health."
   ]
  },
  {
   "cell_type": "code",
   "execution_count": 1,
   "metadata": {
    "execution": {
     "iopub.execute_input": "2021-03-25T22:43:38.410729Z",
     "iopub.status.busy": "2021-03-25T22:43:38.409701Z",
     "iopub.status.idle": "2021-03-25T22:43:38.816814Z",
     "shell.execute_reply": "2021-03-25T22:43:38.815767Z"
    }
   },
   "outputs": [],
   "source": [
    "import pandas as pd\n",
    "import requests\n",
    "from bs4 import BeautifulSoup\n",
    "import json\n",
    "import re\n",
    "import time\n",
    "from time import gmtime, strftime \n",
    "import os\n",
    "import pytz\n",
    "from datetime import datetime"
   ]
  },
  {
   "cell_type": "markdown",
   "metadata": {},
   "source": [
    "Scrape the dashboard page"
   ]
  },
  {
   "cell_type": "code",
   "execution_count": 2,
   "metadata": {
    "execution": {
     "iopub.execute_input": "2021-03-25T22:43:38.823426Z",
     "iopub.status.busy": "2021-03-25T22:43:38.820402Z",
     "iopub.status.idle": "2021-03-25T22:43:39.344747Z",
     "shell.execute_reply": "2021-03-25T22:43:39.345312Z"
    }
   },
   "outputs": [],
   "source": [
    "url = \"https://public.tableau.com/interactive/views/COVID-19VaccineDashboardPublic/Vaccine?:embed=y&:showVizHome=n&:apiID=host0\"\n",
    "\n",
    "r = requests.get(url)\n",
    "soup = BeautifulSoup(r.text, \"html.parser\")"
   ]
  },
  {
   "cell_type": "code",
   "execution_count": 3,
   "metadata": {
    "execution": {
     "iopub.execute_input": "2021-03-25T22:43:39.351832Z",
     "iopub.status.busy": "2021-03-25T22:43:39.349997Z",
     "iopub.status.idle": "2021-03-25T22:43:39.354800Z",
     "shell.execute_reply": "2021-03-25T22:43:39.354381Z"
    }
   },
   "outputs": [],
   "source": [
    "tableauData = json.loads(soup.find(\"textarea\",{\"id\": \"tsConfigContainer\"}).text)"
   ]
  },
  {
   "cell_type": "markdown",
   "metadata": {},
   "source": [
    "Get the link to the Tableau data"
   ]
  },
  {
   "cell_type": "code",
   "execution_count": 4,
   "metadata": {
    "execution": {
     "iopub.execute_input": "2021-03-25T22:43:39.358887Z",
     "iopub.status.busy": "2021-03-25T22:43:39.358021Z",
     "iopub.status.idle": "2021-03-25T22:43:39.359661Z",
     "shell.execute_reply": "2021-03-25T22:43:39.360086Z"
    }
   },
   "outputs": [],
   "source": [
    "dataUrl = f'https://public.tableau.com{tableauData[\"vizql_root\"]}/bootstrapSession/sessions/{tableauData[\"sessionid\"]}'"
   ]
  },
  {
   "cell_type": "code",
   "execution_count": 5,
   "metadata": {
    "execution": {
     "iopub.execute_input": "2021-03-25T22:43:39.366501Z",
     "iopub.status.busy": "2021-03-25T22:43:39.365942Z",
     "iopub.status.idle": "2021-03-25T22:43:39.573834Z",
     "shell.execute_reply": "2021-03-25T22:43:39.573339Z"
    }
   },
   "outputs": [],
   "source": [
    "r = requests.post(dataUrl, data= {\n",
    "    \"sheet_id\": tableauData[\"sheetId\"],\n",
    "})\n",
    "\n",
    "dataReg = re.search('\\d+;({.*})\\d+;({.*})', r.text, re.MULTILINE)\n",
    "data1 = json.loads(dataReg.group(2))\n",
    "\n",
    "dataJson = data1[\"secondaryInfo\"][\"presModelMap\"][\"dataDictionary\"][\"presModelHolder\"][\"genDataDictionaryPresModel\"][\"dataSegments\"][\"0\"][\"dataColumns\"]"
   ]
  },
  {
   "cell_type": "markdown",
   "metadata": {},
   "source": [
    "Isolate what you want"
   ]
  },
  {
   "cell_type": "code",
   "execution_count": 6,
   "metadata": {
    "execution": {
     "iopub.execute_input": "2021-03-25T22:43:39.577678Z",
     "iopub.status.busy": "2021-03-25T22:43:39.577180Z",
     "iopub.status.idle": "2021-03-25T22:43:39.580771Z",
     "shell.execute_reply": "2021-03-25T22:43:39.580307Z"
    }
   },
   "outputs": [],
   "source": [
    "counties = dataJson[2]['dataValues'][:58]"
   ]
  },
  {
   "cell_type": "code",
   "execution_count": 7,
   "metadata": {
    "execution": {
     "iopub.execute_input": "2021-03-25T22:43:39.584151Z",
     "iopub.status.busy": "2021-03-25T22:43:39.583678Z",
     "iopub.status.idle": "2021-03-25T22:43:39.586743Z",
     "shell.execute_reply": "2021-03-25T22:43:39.587160Z"
    }
   },
   "outputs": [],
   "source": [
    "doses = dataJson[0]['dataValues'][3:61]"
   ]
  },
  {
   "cell_type": "markdown",
   "metadata": {},
   "source": [
    "Data formatting"
   ]
  },
  {
   "cell_type": "code",
   "execution_count": 8,
   "metadata": {
    "execution": {
     "iopub.execute_input": "2021-03-25T22:43:39.590560Z",
     "iopub.status.busy": "2021-03-25T22:43:39.590050Z",
     "iopub.status.idle": "2021-03-25T22:43:39.593724Z",
     "shell.execute_reply": "2021-03-25T22:43:39.593296Z"
    }
   },
   "outputs": [],
   "source": [
    "zipped = dict(zip(counties, doses))"
   ]
  },
  {
   "cell_type": "code",
   "execution_count": 9,
   "metadata": {
    "execution": {
     "iopub.execute_input": "2021-03-25T22:43:39.599052Z",
     "iopub.status.busy": "2021-03-25T22:43:39.598578Z",
     "iopub.status.idle": "2021-03-25T22:43:39.601477Z",
     "shell.execute_reply": "2021-03-25T22:43:39.601907Z"
    }
   },
   "outputs": [],
   "source": [
    "df = pd.Series(zipped).reset_index()"
   ]
  },
  {
   "cell_type": "code",
   "execution_count": 10,
   "metadata": {
    "execution": {
     "iopub.execute_input": "2021-03-25T22:43:39.605633Z",
     "iopub.status.busy": "2021-03-25T22:43:39.605121Z",
     "iopub.status.idle": "2021-03-25T22:43:39.608551Z",
     "shell.execute_reply": "2021-03-25T22:43:39.608083Z"
    }
   },
   "outputs": [],
   "source": [
    "df.columns = ['location','doses']"
   ]
  },
  {
   "cell_type": "markdown",
   "metadata": {},
   "source": [
    "Grab the overall California total"
   ]
  },
  {
   "cell_type": "code",
   "execution_count": 11,
   "metadata": {
    "execution": {
     "iopub.execute_input": "2021-03-25T22:43:39.612065Z",
     "iopub.status.busy": "2021-03-25T22:43:39.611555Z",
     "iopub.status.idle": "2021-03-25T22:43:39.615029Z",
     "shell.execute_reply": "2021-03-25T22:43:39.614570Z"
    }
   },
   "outputs": [],
   "source": [
    "add = {'location':'California','doses':dataJson[0]['dataValues'][2]}"
   ]
  },
  {
   "cell_type": "code",
   "execution_count": 12,
   "metadata": {
    "execution": {
     "iopub.execute_input": "2021-03-25T22:43:39.621215Z",
     "iopub.status.busy": "2021-03-25T22:43:39.620723Z",
     "iopub.status.idle": "2021-03-25T22:43:39.624045Z",
     "shell.execute_reply": "2021-03-25T22:43:39.623570Z"
    }
   },
   "outputs": [],
   "source": [
    "df = df.append(add, ignore_index=True)"
   ]
  },
  {
   "cell_type": "code",
   "execution_count": 13,
   "metadata": {
    "execution": {
     "iopub.execute_input": "2021-03-25T22:43:39.628233Z",
     "iopub.status.busy": "2021-03-25T22:43:39.627735Z",
     "iopub.status.idle": "2021-03-25T22:43:39.631032Z",
     "shell.execute_reply": "2021-03-25T22:43:39.630582Z"
    }
   },
   "outputs": [],
   "source": [
    "df = df.sort_values(by='location')"
   ]
  },
  {
   "cell_type": "code",
   "execution_count": 14,
   "metadata": {
    "execution": {
     "iopub.execute_input": "2021-03-25T22:43:39.636714Z",
     "iopub.status.busy": "2021-03-25T22:43:39.636226Z",
     "iopub.status.idle": "2021-03-25T22:43:39.639554Z",
     "shell.execute_reply": "2021-03-25T22:43:39.639134Z"
    }
   },
   "outputs": [],
   "source": [
    "df = df[df.location == 'California'].append(df[df.location != 'California']).reset_index(drop=True)"
   ]
  },
  {
   "cell_type": "code",
   "execution_count": null,
   "metadata": {},
   "outputs": [],
   "source": []
  },
  {
   "cell_type": "code",
   "execution_count": 15,
   "metadata": {
    "execution": {
     "iopub.execute_input": "2021-03-25T22:43:39.642847Z",
     "iopub.status.busy": "2021-03-25T22:43:39.642349Z",
     "iopub.status.idle": "2021-03-25T22:43:39.660346Z",
     "shell.execute_reply": "2021-03-25T22:43:39.659818Z"
    }
   },
   "outputs": [],
   "source": [
    "tz = pytz.timezone(\"America/New_York\")"
   ]
  },
  {
   "cell_type": "code",
   "execution_count": 16,
   "metadata": {
    "execution": {
     "iopub.execute_input": "2021-03-25T22:43:39.665443Z",
     "iopub.status.busy": "2021-03-25T22:43:39.664935Z",
     "iopub.status.idle": "2021-03-25T22:43:39.668696Z",
     "shell.execute_reply": "2021-03-25T22:43:39.668244Z"
    }
   },
   "outputs": [],
   "source": [
    "today = datetime.now(tz).date()"
   ]
  },
  {
   "cell_type": "code",
   "execution_count": 17,
   "metadata": {
    "execution": {
     "iopub.execute_input": "2021-03-25T22:43:39.671898Z",
     "iopub.status.busy": "2021-03-25T22:43:39.671374Z",
     "iopub.status.idle": "2021-03-25T22:43:39.674951Z",
     "shell.execute_reply": "2021-03-25T22:43:39.674523Z"
    }
   },
   "outputs": [],
   "source": [
    "data_dir = os.path.join(os.path.abspath(\"\"), \"data\")"
   ]
  },
  {
   "cell_type": "code",
   "execution_count": 18,
   "metadata": {
    "execution": {
     "iopub.execute_input": "2021-03-25T22:43:39.680646Z",
     "iopub.status.busy": "2021-03-25T22:43:39.678482Z",
     "iopub.status.idle": "2021-03-25T22:43:39.684439Z",
     "shell.execute_reply": "2021-03-25T22:43:39.683602Z"
    }
   },
   "outputs": [],
   "source": [
    "df.to_csv(os.path.join(data_dir, f\"{today}.csv\"), index=False)"
   ]
  },
  {
   "cell_type": "code",
   "execution_count": null,
   "metadata": {},
   "outputs": [],
   "source": []
  }
 ],
 "metadata": {
  "kernelspec": {
   "display_name": "Python 3",
   "language": "python",
   "name": "python3"
  },
  "language_info": {
   "codemirror_mode": {
    "name": "ipython",
    "version": 3
   },
   "file_extension": ".py",
   "mimetype": "text/x-python",
   "name": "python",
   "nbconvert_exporter": "python",
   "pygments_lexer": "ipython3",
   "version": "3.8.8"
  }
 },
 "nbformat": 4,
 "nbformat_minor": 4
}
