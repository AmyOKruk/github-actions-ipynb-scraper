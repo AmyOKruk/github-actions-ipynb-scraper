{
 "cells": [
  {
   "cell_type": "markdown",
   "metadata": {},
   "source": [
    "# California COVID vaccinations scrape"
   ]
  },
  {
   "cell_type": "markdown",
   "metadata": {},
   "source": [
    "By [Amy O'Kruk](https://twitter.com/amyokruk)"
   ]
  },
  {
   "cell_type": "markdown",
   "metadata": {},
   "source": [
    "Downloads data on vaccine doses administered by county and statewide from a Tableau-powered dashboard from the California Department of Public Health."
   ]
  },
  {
   "cell_type": "code",
   "execution_count": 1,
   "metadata": {
    "execution": {
     "iopub.execute_input": "2021-03-09T07:11:50.187419Z",
     "iopub.status.busy": "2021-03-09T07:11:50.186356Z",
     "iopub.status.idle": "2021-03-09T07:11:50.616981Z",
     "shell.execute_reply": "2021-03-09T07:11:50.616007Z"
    }
   },
   "outputs": [],
   "source": [
    "import pandas as pd\n",
    "import requests\n",
    "from bs4 import BeautifulSoup\n",
    "import json\n",
    "import re\n",
    "import time\n",
    "from time import gmtime, strftime \n",
    "import os\n",
    "import pytz\n",
    "from datetime import datetime"
   ]
  },
  {
   "cell_type": "markdown",
   "metadata": {},
   "source": [
    "Scrape the dashboard page"
   ]
  },
  {
   "cell_type": "code",
   "execution_count": 2,
   "metadata": {
    "execution": {
     "iopub.execute_input": "2021-03-09T07:11:50.623530Z",
     "iopub.status.busy": "2021-03-09T07:11:50.620843Z",
     "iopub.status.idle": "2021-03-09T07:11:51.175656Z",
     "shell.execute_reply": "2021-03-09T07:11:51.174134Z"
    }
   },
   "outputs": [],
   "source": [
    "url = \"https://public.tableau.com/interactive/views/COVID-19VaccineDashboardPublic/Vaccine?:embed=y&:showVizHome=n&:apiID=host0\"\n",
    "\n",
    "r = requests.get(url)\n",
    "soup = BeautifulSoup(r.text, \"html.parser\")"
   ]
  },
  {
   "cell_type": "code",
   "execution_count": 3,
   "metadata": {
    "execution": {
     "iopub.execute_input": "2021-03-09T07:11:51.180503Z",
     "iopub.status.busy": "2021-03-09T07:11:51.179908Z",
     "iopub.status.idle": "2021-03-09T07:11:51.183346Z",
     "shell.execute_reply": "2021-03-09T07:11:51.183848Z"
    }
   },
   "outputs": [],
   "source": [
    "tableauData = json.loads(soup.find(\"textarea\",{\"id\": \"tsConfigContainer\"}).text)"
   ]
  },
  {
   "cell_type": "markdown",
   "metadata": {},
   "source": [
    "Get the link to the Tableau data"
   ]
  },
  {
   "cell_type": "code",
   "execution_count": 4,
   "metadata": {
    "execution": {
     "iopub.execute_input": "2021-03-09T07:11:51.187748Z",
     "iopub.status.busy": "2021-03-09T07:11:51.187164Z",
     "iopub.status.idle": "2021-03-09T07:11:51.191204Z",
     "shell.execute_reply": "2021-03-09T07:11:51.191670Z"
    }
   },
   "outputs": [],
   "source": [
    "dataUrl = f'https://public.tableau.com{tableauData[\"vizql_root\"]}/bootstrapSession/sessions/{tableauData[\"sessionid\"]}'"
   ]
  },
  {
   "cell_type": "code",
   "execution_count": 5,
   "metadata": {
    "execution": {
     "iopub.execute_input": "2021-03-09T07:11:51.199192Z",
     "iopub.status.busy": "2021-03-09T07:11:51.198581Z",
     "iopub.status.idle": "2021-03-09T07:11:53.178904Z",
     "shell.execute_reply": "2021-03-09T07:11:53.178034Z"
    }
   },
   "outputs": [],
   "source": [
    "r = requests.post(dataUrl, data= {\n",
    "    \"sheet_id\": tableauData[\"sheetId\"],\n",
    "})\n",
    "\n",
    "dataReg = re.search('\\d+;({.*})\\d+;({.*})', r.text, re.MULTILINE)\n",
    "data1 = json.loads(dataReg.group(2))\n",
    "\n",
    "dataJson = data1[\"secondaryInfo\"][\"presModelMap\"][\"dataDictionary\"][\"presModelHolder\"][\"genDataDictionaryPresModel\"][\"dataSegments\"][\"0\"][\"dataColumns\"]"
   ]
  },
  {
   "cell_type": "markdown",
   "metadata": {},
   "source": [
    "Isolate what you want"
   ]
  },
  {
   "cell_type": "code",
   "execution_count": 6,
   "metadata": {
    "execution": {
     "iopub.execute_input": "2021-03-09T07:11:53.183086Z",
     "iopub.status.busy": "2021-03-09T07:11:53.182491Z",
     "iopub.status.idle": "2021-03-09T07:11:53.186347Z",
     "shell.execute_reply": "2021-03-09T07:11:53.185792Z"
    }
   },
   "outputs": [],
   "source": [
    "counties = dataJson[2]['dataValues'][:58]"
   ]
  },
  {
   "cell_type": "code",
   "execution_count": 7,
   "metadata": {
    "execution": {
     "iopub.execute_input": "2021-03-09T07:11:53.190373Z",
     "iopub.status.busy": "2021-03-09T07:11:53.189554Z",
     "iopub.status.idle": "2021-03-09T07:11:53.193943Z",
     "shell.execute_reply": "2021-03-09T07:11:53.192715Z"
    }
   },
   "outputs": [],
   "source": [
    "doses = dataJson[0]['dataValues'][3:61]"
   ]
  },
  {
   "cell_type": "markdown",
   "metadata": {},
   "source": [
    "Data formatting"
   ]
  },
  {
   "cell_type": "code",
   "execution_count": 8,
   "metadata": {
    "execution": {
     "iopub.execute_input": "2021-03-09T07:11:53.197608Z",
     "iopub.status.busy": "2021-03-09T07:11:53.197024Z",
     "iopub.status.idle": "2021-03-09T07:11:53.201036Z",
     "shell.execute_reply": "2021-03-09T07:11:53.200491Z"
    }
   },
   "outputs": [],
   "source": [
    "zipped = dict(zip(counties, doses))"
   ]
  },
  {
   "cell_type": "code",
   "execution_count": 9,
   "metadata": {
    "execution": {
     "iopub.execute_input": "2021-03-09T07:11:53.207181Z",
     "iopub.status.busy": "2021-03-09T07:11:53.206599Z",
     "iopub.status.idle": "2021-03-09T07:11:53.210414Z",
     "shell.execute_reply": "2021-03-09T07:11:53.210878Z"
    }
   },
   "outputs": [],
   "source": [
    "df = pd.Series(zipped).reset_index()"
   ]
  },
  {
   "cell_type": "code",
   "execution_count": 10,
   "metadata": {
    "execution": {
     "iopub.execute_input": "2021-03-09T07:11:53.214856Z",
     "iopub.status.busy": "2021-03-09T07:11:53.214272Z",
     "iopub.status.idle": "2021-03-09T07:11:53.218181Z",
     "shell.execute_reply": "2021-03-09T07:11:53.217626Z"
    }
   },
   "outputs": [],
   "source": [
    "df.columns = ['location','doses']"
   ]
  },
  {
   "cell_type": "markdown",
   "metadata": {},
   "source": [
    "Grab the overall California total"
   ]
  },
  {
   "cell_type": "code",
   "execution_count": 11,
   "metadata": {
    "execution": {
     "iopub.execute_input": "2021-03-09T07:11:53.222744Z",
     "iopub.status.busy": "2021-03-09T07:11:53.222131Z",
     "iopub.status.idle": "2021-03-09T07:11:53.225527Z",
     "shell.execute_reply": "2021-03-09T07:11:53.226045Z"
    }
   },
   "outputs": [],
   "source": [
    "add = {'location':'California','doses':dataJson[0]['dataValues'][2]}"
   ]
  },
  {
   "cell_type": "code",
   "execution_count": 12,
   "metadata": {
    "execution": {
     "iopub.execute_input": "2021-03-09T07:11:53.233155Z",
     "iopub.status.busy": "2021-03-09T07:11:53.232547Z",
     "iopub.status.idle": "2021-03-09T07:11:53.236044Z",
     "shell.execute_reply": "2021-03-09T07:11:53.236548Z"
    }
   },
   "outputs": [],
   "source": [
    "df = df.append(add, ignore_index=True)"
   ]
  },
  {
   "cell_type": "code",
   "execution_count": 13,
   "metadata": {
    "execution": {
     "iopub.execute_input": "2021-03-09T07:11:53.242176Z",
     "iopub.status.busy": "2021-03-09T07:11:53.239479Z",
     "iopub.status.idle": "2021-03-09T07:11:53.246291Z",
     "shell.execute_reply": "2021-03-09T07:11:53.246961Z"
    }
   },
   "outputs": [],
   "source": [
    "df = df.sort_values(by='location')"
   ]
  },
  {
   "cell_type": "code",
   "execution_count": 14,
   "metadata": {
    "execution": {
     "iopub.execute_input": "2021-03-09T07:11:53.259681Z",
     "iopub.status.busy": "2021-03-09T07:11:53.259092Z",
     "iopub.status.idle": "2021-03-09T07:11:53.263135Z",
     "shell.execute_reply": "2021-03-09T07:11:53.262633Z"
    }
   },
   "outputs": [],
   "source": [
    "df = df[df.location == 'California'].append(df[df.location != 'California']).reset_index(drop=True)"
   ]
  },
  {
   "cell_type": "code",
   "execution_count": null,
   "metadata": {},
   "outputs": [],
   "source": []
  },
  {
   "cell_type": "code",
   "execution_count": 15,
   "metadata": {
    "execution": {
     "iopub.execute_input": "2021-03-09T07:11:53.266982Z",
     "iopub.status.busy": "2021-03-09T07:11:53.265956Z",
     "iopub.status.idle": "2021-03-09T07:11:53.288669Z",
     "shell.execute_reply": "2021-03-09T07:11:53.287602Z"
    }
   },
   "outputs": [],
   "source": [
    "tz = pytz.timezone(\"America/New_York\")"
   ]
  },
  {
   "cell_type": "code",
   "execution_count": 16,
   "metadata": {
    "execution": {
     "iopub.execute_input": "2021-03-09T07:11:53.292843Z",
     "iopub.status.busy": "2021-03-09T07:11:53.292248Z",
     "iopub.status.idle": "2021-03-09T07:11:53.295731Z",
     "shell.execute_reply": "2021-03-09T07:11:53.296212Z"
    }
   },
   "outputs": [],
   "source": [
    "today = datetime.now(tz).date()"
   ]
  },
  {
   "cell_type": "code",
   "execution_count": 17,
   "metadata": {
    "execution": {
     "iopub.execute_input": "2021-03-09T07:11:53.300470Z",
     "iopub.status.busy": "2021-03-09T07:11:53.299870Z",
     "iopub.status.idle": "2021-03-09T07:11:53.303904Z",
     "shell.execute_reply": "2021-03-09T07:11:53.303376Z"
    }
   },
   "outputs": [],
   "source": [
    "data_dir = os.path.join(os.path.abspath(\"\"), \"data\")"
   ]
  },
  {
   "cell_type": "code",
   "execution_count": 18,
   "metadata": {
    "execution": {
     "iopub.execute_input": "2021-03-09T07:11:53.310256Z",
     "iopub.status.busy": "2021-03-09T07:11:53.308123Z",
     "iopub.status.idle": "2021-03-09T07:11:53.314435Z",
     "shell.execute_reply": "2021-03-09T07:11:53.315047Z"
    }
   },
   "outputs": [],
   "source": [
    "df.to_csv(os.path.join(data_dir, f\"{today}.csv\"), index=False)"
   ]
  },
  {
   "cell_type": "code",
   "execution_count": null,
   "metadata": {},
   "outputs": [],
   "source": []
  }
 ],
 "metadata": {
  "kernelspec": {
   "display_name": "Python 3",
   "language": "python",
   "name": "python3"
  },
  "language_info": {
   "codemirror_mode": {
    "name": "ipython",
    "version": 3
   },
   "file_extension": ".py",
   "mimetype": "text/x-python",
   "name": "python",
   "nbconvert_exporter": "python",
   "pygments_lexer": "ipython3",
   "version": "3.8.8"
  }
 },
 "nbformat": 4,
 "nbformat_minor": 4
}
