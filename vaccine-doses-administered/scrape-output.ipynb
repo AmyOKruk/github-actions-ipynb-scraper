{
 "cells": [
  {
   "cell_type": "markdown",
   "metadata": {},
   "source": [
    "# California COVID vaccinations scrape"
   ]
  },
  {
   "cell_type": "markdown",
   "metadata": {},
   "source": [
    "By [Amy O'Kruk](https://twitter.com/amyokruk)"
   ]
  },
  {
   "cell_type": "markdown",
   "metadata": {},
   "source": [
    "Downloads data on vaccine doses administered by county and statewide from a Tableau-powered dashboard from the California Department of Public Health."
   ]
  },
  {
   "cell_type": "code",
   "execution_count": 1,
   "metadata": {
    "execution": {
     "iopub.execute_input": "2021-03-16T12:17:01.239587Z",
     "iopub.status.busy": "2021-03-16T12:17:01.238873Z",
     "iopub.status.idle": "2021-03-16T12:17:01.705056Z",
     "shell.execute_reply": "2021-03-16T12:17:01.703750Z"
    }
   },
   "outputs": [],
   "source": [
    "import pandas as pd\n",
    "import requests\n",
    "from bs4 import BeautifulSoup\n",
    "import json\n",
    "import re\n",
    "import time\n",
    "from time import gmtime, strftime \n",
    "import os\n",
    "import pytz\n",
    "from datetime import datetime"
   ]
  },
  {
   "cell_type": "markdown",
   "metadata": {},
   "source": [
    "Scrape the dashboard page"
   ]
  },
  {
   "cell_type": "code",
   "execution_count": 2,
   "metadata": {
    "execution": {
     "iopub.execute_input": "2021-03-16T12:17:01.711857Z",
     "iopub.status.busy": "2021-03-16T12:17:01.709347Z",
     "iopub.status.idle": "2021-03-16T12:17:02.072543Z",
     "shell.execute_reply": "2021-03-16T12:17:02.073049Z"
    }
   },
   "outputs": [],
   "source": [
    "url = \"https://public.tableau.com/interactive/views/COVID-19VaccineDashboardPublic/Vaccine?:embed=y&:showVizHome=n&:apiID=host0\"\n",
    "\n",
    "r = requests.get(url)\n",
    "soup = BeautifulSoup(r.text, \"html.parser\")"
   ]
  },
  {
   "cell_type": "code",
   "execution_count": 3,
   "metadata": {
    "execution": {
     "iopub.execute_input": "2021-03-16T12:17:02.076812Z",
     "iopub.status.busy": "2021-03-16T12:17:02.075515Z",
     "iopub.status.idle": "2021-03-16T12:17:02.082460Z",
     "shell.execute_reply": "2021-03-16T12:17:02.081895Z"
    }
   },
   "outputs": [],
   "source": [
    "tableauData = json.loads(soup.find(\"textarea\",{\"id\": \"tsConfigContainer\"}).text)"
   ]
  },
  {
   "cell_type": "markdown",
   "metadata": {},
   "source": [
    "Get the link to the Tableau data"
   ]
  },
  {
   "cell_type": "code",
   "execution_count": 4,
   "metadata": {
    "execution": {
     "iopub.execute_input": "2021-03-16T12:17:02.086794Z",
     "iopub.status.busy": "2021-03-16T12:17:02.086056Z",
     "iopub.status.idle": "2021-03-16T12:17:02.089991Z",
     "shell.execute_reply": "2021-03-16T12:17:02.089508Z"
    }
   },
   "outputs": [],
   "source": [
    "dataUrl = f'https://public.tableau.com{tableauData[\"vizql_root\"]}/bootstrapSession/sessions/{tableauData[\"sessionid\"]}'"
   ]
  },
  {
   "cell_type": "code",
   "execution_count": 5,
   "metadata": {
    "execution": {
     "iopub.execute_input": "2021-03-16T12:17:02.097645Z",
     "iopub.status.busy": "2021-03-16T12:17:02.096552Z",
     "iopub.status.idle": "2021-03-16T12:17:02.308822Z",
     "shell.execute_reply": "2021-03-16T12:17:02.308237Z"
    }
   },
   "outputs": [],
   "source": [
    "r = requests.post(dataUrl, data= {\n",
    "    \"sheet_id\": tableauData[\"sheetId\"],\n",
    "})\n",
    "\n",
    "dataReg = re.search('\\d+;({.*})\\d+;({.*})', r.text, re.MULTILINE)\n",
    "data1 = json.loads(dataReg.group(2))\n",
    "\n",
    "dataJson = data1[\"secondaryInfo\"][\"presModelMap\"][\"dataDictionary\"][\"presModelHolder\"][\"genDataDictionaryPresModel\"][\"dataSegments\"][\"0\"][\"dataColumns\"]"
   ]
  },
  {
   "cell_type": "markdown",
   "metadata": {},
   "source": [
    "Isolate what you want"
   ]
  },
  {
   "cell_type": "code",
   "execution_count": 6,
   "metadata": {
    "execution": {
     "iopub.execute_input": "2021-03-16T12:17:02.313286Z",
     "iopub.status.busy": "2021-03-16T12:17:02.312643Z",
     "iopub.status.idle": "2021-03-16T12:17:02.316395Z",
     "shell.execute_reply": "2021-03-16T12:17:02.316828Z"
    }
   },
   "outputs": [],
   "source": [
    "counties = dataJson[2]['dataValues'][:58]"
   ]
  },
  {
   "cell_type": "code",
   "execution_count": 7,
   "metadata": {
    "execution": {
     "iopub.execute_input": "2021-03-16T12:17:02.322228Z",
     "iopub.status.busy": "2021-03-16T12:17:02.320752Z",
     "iopub.status.idle": "2021-03-16T12:17:02.322973Z",
     "shell.execute_reply": "2021-03-16T12:17:02.323438Z"
    }
   },
   "outputs": [],
   "source": [
    "doses = dataJson[0]['dataValues'][3:61]"
   ]
  },
  {
   "cell_type": "markdown",
   "metadata": {},
   "source": [
    "Data formatting"
   ]
  },
  {
   "cell_type": "code",
   "execution_count": 8,
   "metadata": {
    "execution": {
     "iopub.execute_input": "2021-03-16T12:17:02.329033Z",
     "iopub.status.busy": "2021-03-16T12:17:02.327545Z",
     "iopub.status.idle": "2021-03-16T12:17:02.329650Z",
     "shell.execute_reply": "2021-03-16T12:17:02.330112Z"
    }
   },
   "outputs": [],
   "source": [
    "zipped = dict(zip(counties, doses))"
   ]
  },
  {
   "cell_type": "code",
   "execution_count": 9,
   "metadata": {
    "execution": {
     "iopub.execute_input": "2021-03-16T12:17:02.337358Z",
     "iopub.status.busy": "2021-03-16T12:17:02.335718Z",
     "iopub.status.idle": "2021-03-16T12:17:02.337993Z",
     "shell.execute_reply": "2021-03-16T12:17:02.338445Z"
    }
   },
   "outputs": [],
   "source": [
    "df = pd.Series(zipped).reset_index()"
   ]
  },
  {
   "cell_type": "code",
   "execution_count": 10,
   "metadata": {
    "execution": {
     "iopub.execute_input": "2021-03-16T12:17:02.343379Z",
     "iopub.status.busy": "2021-03-16T12:17:02.341964Z",
     "iopub.status.idle": "2021-03-16T12:17:02.344078Z",
     "shell.execute_reply": "2021-03-16T12:17:02.344525Z"
    }
   },
   "outputs": [],
   "source": [
    "df.columns = ['location','doses']"
   ]
  },
  {
   "cell_type": "markdown",
   "metadata": {},
   "source": [
    "Grab the overall California total"
   ]
  },
  {
   "cell_type": "code",
   "execution_count": 11,
   "metadata": {
    "execution": {
     "iopub.execute_input": "2021-03-16T12:17:02.349771Z",
     "iopub.status.busy": "2021-03-16T12:17:02.348308Z",
     "iopub.status.idle": "2021-03-16T12:17:02.350478Z",
     "shell.execute_reply": "2021-03-16T12:17:02.350950Z"
    }
   },
   "outputs": [],
   "source": [
    "add = {'location':'California','doses':dataJson[0]['dataValues'][2]}"
   ]
  },
  {
   "cell_type": "code",
   "execution_count": 12,
   "metadata": {
    "execution": {
     "iopub.execute_input": "2021-03-16T12:17:02.358822Z",
     "iopub.status.busy": "2021-03-16T12:17:02.357491Z",
     "iopub.status.idle": "2021-03-16T12:17:02.359518Z",
     "shell.execute_reply": "2021-03-16T12:17:02.360027Z"
    }
   },
   "outputs": [],
   "source": [
    "df = df.append(add, ignore_index=True)"
   ]
  },
  {
   "cell_type": "code",
   "execution_count": 13,
   "metadata": {
    "execution": {
     "iopub.execute_input": "2021-03-16T12:17:02.365597Z",
     "iopub.status.busy": "2021-03-16T12:17:02.364292Z",
     "iopub.status.idle": "2021-03-16T12:17:02.366398Z",
     "shell.execute_reply": "2021-03-16T12:17:02.366974Z"
    }
   },
   "outputs": [],
   "source": [
    "df = df.sort_values(by='location')"
   ]
  },
  {
   "cell_type": "code",
   "execution_count": 14,
   "metadata": {
    "execution": {
     "iopub.execute_input": "2021-03-16T12:17:02.374170Z",
     "iopub.status.busy": "2021-03-16T12:17:02.372812Z",
     "iopub.status.idle": "2021-03-16T12:17:02.374866Z",
     "shell.execute_reply": "2021-03-16T12:17:02.375338Z"
    }
   },
   "outputs": [],
   "source": [
    "df = df[df.location == 'California'].append(df[df.location != 'California']).reset_index(drop=True)"
   ]
  },
  {
   "cell_type": "code",
   "execution_count": null,
   "metadata": {},
   "outputs": [],
   "source": []
  },
  {
   "cell_type": "code",
   "execution_count": 15,
   "metadata": {
    "execution": {
     "iopub.execute_input": "2021-03-16T12:17:02.379281Z",
     "iopub.status.busy": "2021-03-16T12:17:02.378658Z",
     "iopub.status.idle": "2021-03-16T12:17:02.399522Z",
     "shell.execute_reply": "2021-03-16T12:17:02.400103Z"
    }
   },
   "outputs": [],
   "source": [
    "tz = pytz.timezone(\"America/New_York\")"
   ]
  },
  {
   "cell_type": "code",
   "execution_count": 16,
   "metadata": {
    "execution": {
     "iopub.execute_input": "2021-03-16T12:17:02.405074Z",
     "iopub.status.busy": "2021-03-16T12:17:02.403724Z",
     "iopub.status.idle": "2021-03-16T12:17:02.405696Z",
     "shell.execute_reply": "2021-03-16T12:17:02.406199Z"
    }
   },
   "outputs": [],
   "source": [
    "today = datetime.now(tz).date()"
   ]
  },
  {
   "cell_type": "code",
   "execution_count": 17,
   "metadata": {
    "execution": {
     "iopub.execute_input": "2021-03-16T12:17:02.411098Z",
     "iopub.status.busy": "2021-03-16T12:17:02.409604Z",
     "iopub.status.idle": "2021-03-16T12:17:02.411818Z",
     "shell.execute_reply": "2021-03-16T12:17:02.412302Z"
    }
   },
   "outputs": [],
   "source": [
    "data_dir = os.path.join(os.path.abspath(\"\"), \"data\")"
   ]
  },
  {
   "cell_type": "code",
   "execution_count": 18,
   "metadata": {
    "execution": {
     "iopub.execute_input": "2021-03-16T12:17:02.418245Z",
     "iopub.status.busy": "2021-03-16T12:17:02.415841Z",
     "iopub.status.idle": "2021-03-16T12:17:02.420824Z",
     "shell.execute_reply": "2021-03-16T12:17:02.420354Z"
    }
   },
   "outputs": [],
   "source": [
    "df.to_csv(os.path.join(data_dir, f\"{today}.csv\"), index=False)"
   ]
  },
  {
   "cell_type": "code",
   "execution_count": null,
   "metadata": {},
   "outputs": [],
   "source": []
  }
 ],
 "metadata": {
  "kernelspec": {
   "display_name": "Python 3",
   "language": "python",
   "name": "python3"
  },
  "language_info": {
   "codemirror_mode": {
    "name": "ipython",
    "version": 3
   },
   "file_extension": ".py",
   "mimetype": "text/x-python",
   "name": "python",
   "nbconvert_exporter": "python",
   "pygments_lexer": "ipython3",
   "version": "3.8.8"
  }
 },
 "nbformat": 4,
 "nbformat_minor": 4
}
