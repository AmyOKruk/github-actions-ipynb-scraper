{
 "cells": [
  {
   "cell_type": "markdown",
   "metadata": {},
   "source": [
    "# California COVID vaccinations scrape"
   ]
  },
  {
   "cell_type": "markdown",
   "metadata": {},
   "source": [
    "By [Amy O'Kruk](https://twitter.com/amyokruk)"
   ]
  },
  {
   "cell_type": "markdown",
   "metadata": {},
   "source": [
    "Downloads data on vaccine doses administered by county and statewide from a Tableau-powered dashboard from the California Department of Public Health."
   ]
  },
  {
   "cell_type": "code",
   "execution_count": 1,
   "metadata": {
    "execution": {
     "iopub.execute_input": "2021-03-15T13:40:37.809979Z",
     "iopub.status.busy": "2021-03-15T13:40:37.809371Z",
     "iopub.status.idle": "2021-03-15T13:40:39.282630Z",
     "shell.execute_reply": "2021-03-15T13:40:39.281856Z"
    }
   },
   "outputs": [],
   "source": [
    "import pandas as pd\n",
    "import requests\n",
    "from bs4 import BeautifulSoup\n",
    "import json\n",
    "import re\n",
    "import time\n",
    "from time import gmtime, strftime \n",
    "import os\n",
    "import pytz\n",
    "from datetime import datetime"
   ]
  },
  {
   "cell_type": "markdown",
   "metadata": {},
   "source": [
    "Scrape the dashboard page"
   ]
  },
  {
   "cell_type": "code",
   "execution_count": 2,
   "metadata": {
    "execution": {
     "iopub.execute_input": "2021-03-15T13:40:39.289175Z",
     "iopub.status.busy": "2021-03-15T13:40:39.288628Z",
     "iopub.status.idle": "2021-03-15T13:40:39.804301Z",
     "shell.execute_reply": "2021-03-15T13:40:39.803765Z"
    }
   },
   "outputs": [],
   "source": [
    "url = \"https://public.tableau.com/interactive/views/COVID-19VaccineDashboardPublic/Vaccine?:embed=y&:showVizHome=n&:apiID=host0\"\n",
    "\n",
    "r = requests.get(url)\n",
    "soup = BeautifulSoup(r.text, \"html.parser\")"
   ]
  },
  {
   "cell_type": "code",
   "execution_count": 3,
   "metadata": {
    "execution": {
     "iopub.execute_input": "2021-03-15T13:40:39.810213Z",
     "iopub.status.busy": "2021-03-15T13:40:39.809391Z",
     "iopub.status.idle": "2021-03-15T13:40:39.813550Z",
     "shell.execute_reply": "2021-03-15T13:40:39.813090Z"
    }
   },
   "outputs": [],
   "source": [
    "tableauData = json.loads(soup.find(\"textarea\",{\"id\": \"tsConfigContainer\"}).text)"
   ]
  },
  {
   "cell_type": "markdown",
   "metadata": {},
   "source": [
    "Get the link to the Tableau data"
   ]
  },
  {
   "cell_type": "code",
   "execution_count": 4,
   "metadata": {
    "execution": {
     "iopub.execute_input": "2021-03-15T13:40:39.817249Z",
     "iopub.status.busy": "2021-03-15T13:40:39.816729Z",
     "iopub.status.idle": "2021-03-15T13:40:39.819829Z",
     "shell.execute_reply": "2021-03-15T13:40:39.820269Z"
    }
   },
   "outputs": [],
   "source": [
    "dataUrl = f'https://public.tableau.com{tableauData[\"vizql_root\"]}/bootstrapSession/sessions/{tableauData[\"sessionid\"]}'"
   ]
  },
  {
   "cell_type": "code",
   "execution_count": 5,
   "metadata": {
    "execution": {
     "iopub.execute_input": "2021-03-15T13:40:39.826967Z",
     "iopub.status.busy": "2021-03-15T13:40:39.826440Z",
     "iopub.status.idle": "2021-03-15T13:40:40.070509Z",
     "shell.execute_reply": "2021-03-15T13:40:40.069451Z"
    }
   },
   "outputs": [],
   "source": [
    "r = requests.post(dataUrl, data= {\n",
    "    \"sheet_id\": tableauData[\"sheetId\"],\n",
    "})\n",
    "\n",
    "dataReg = re.search('\\d+;({.*})\\d+;({.*})', r.text, re.MULTILINE)\n",
    "data1 = json.loads(dataReg.group(2))\n",
    "\n",
    "dataJson = data1[\"secondaryInfo\"][\"presModelMap\"][\"dataDictionary\"][\"presModelHolder\"][\"genDataDictionaryPresModel\"][\"dataSegments\"][\"0\"][\"dataColumns\"]"
   ]
  },
  {
   "cell_type": "markdown",
   "metadata": {},
   "source": [
    "Isolate what you want"
   ]
  },
  {
   "cell_type": "code",
   "execution_count": 6,
   "metadata": {
    "execution": {
     "iopub.execute_input": "2021-03-15T13:40:40.074336Z",
     "iopub.status.busy": "2021-03-15T13:40:40.073810Z",
     "iopub.status.idle": "2021-03-15T13:40:40.077752Z",
     "shell.execute_reply": "2021-03-15T13:40:40.077281Z"
    }
   },
   "outputs": [],
   "source": [
    "counties = dataJson[2]['dataValues'][:58]"
   ]
  },
  {
   "cell_type": "code",
   "execution_count": 7,
   "metadata": {
    "execution": {
     "iopub.execute_input": "2021-03-15T13:40:40.081409Z",
     "iopub.status.busy": "2021-03-15T13:40:40.080890Z",
     "iopub.status.idle": "2021-03-15T13:40:40.084397Z",
     "shell.execute_reply": "2021-03-15T13:40:40.083905Z"
    }
   },
   "outputs": [],
   "source": [
    "doses = dataJson[0]['dataValues'][3:61]"
   ]
  },
  {
   "cell_type": "markdown",
   "metadata": {},
   "source": [
    "Data formatting"
   ]
  },
  {
   "cell_type": "code",
   "execution_count": 8,
   "metadata": {
    "execution": {
     "iopub.execute_input": "2021-03-15T13:40:40.088029Z",
     "iopub.status.busy": "2021-03-15T13:40:40.087497Z",
     "iopub.status.idle": "2021-03-15T13:40:40.090824Z",
     "shell.execute_reply": "2021-03-15T13:40:40.090339Z"
    }
   },
   "outputs": [],
   "source": [
    "zipped = dict(zip(counties, doses))"
   ]
  },
  {
   "cell_type": "code",
   "execution_count": 9,
   "metadata": {
    "execution": {
     "iopub.execute_input": "2021-03-15T13:40:40.096575Z",
     "iopub.status.busy": "2021-03-15T13:40:40.096047Z",
     "iopub.status.idle": "2021-03-15T13:40:40.099616Z",
     "shell.execute_reply": "2021-03-15T13:40:40.099129Z"
    }
   },
   "outputs": [],
   "source": [
    "df = pd.Series(zipped).reset_index()"
   ]
  },
  {
   "cell_type": "code",
   "execution_count": 10,
   "metadata": {
    "execution": {
     "iopub.execute_input": "2021-03-15T13:40:40.103332Z",
     "iopub.status.busy": "2021-03-15T13:40:40.102812Z",
     "iopub.status.idle": "2021-03-15T13:40:40.106368Z",
     "shell.execute_reply": "2021-03-15T13:40:40.105910Z"
    }
   },
   "outputs": [],
   "source": [
    "df.columns = ['location','doses']"
   ]
  },
  {
   "cell_type": "markdown",
   "metadata": {},
   "source": [
    "Grab the overall California total"
   ]
  },
  {
   "cell_type": "code",
   "execution_count": 11,
   "metadata": {
    "execution": {
     "iopub.execute_input": "2021-03-15T13:40:40.109990Z",
     "iopub.status.busy": "2021-03-15T13:40:40.109476Z",
     "iopub.status.idle": "2021-03-15T13:40:40.112998Z",
     "shell.execute_reply": "2021-03-15T13:40:40.112542Z"
    }
   },
   "outputs": [],
   "source": [
    "add = {'location':'California','doses':dataJson[0]['dataValues'][2]}"
   ]
  },
  {
   "cell_type": "code",
   "execution_count": 12,
   "metadata": {
    "execution": {
     "iopub.execute_input": "2021-03-15T13:40:40.119362Z",
     "iopub.status.busy": "2021-03-15T13:40:40.118845Z",
     "iopub.status.idle": "2021-03-15T13:40:40.122400Z",
     "shell.execute_reply": "2021-03-15T13:40:40.121740Z"
    }
   },
   "outputs": [],
   "source": [
    "df = df.append(add, ignore_index=True)"
   ]
  },
  {
   "cell_type": "code",
   "execution_count": 13,
   "metadata": {
    "execution": {
     "iopub.execute_input": "2021-03-15T13:40:40.126595Z",
     "iopub.status.busy": "2021-03-15T13:40:40.126078Z",
     "iopub.status.idle": "2021-03-15T13:40:40.129167Z",
     "shell.execute_reply": "2021-03-15T13:40:40.129604Z"
    }
   },
   "outputs": [],
   "source": [
    "df = df.sort_values(by='location')"
   ]
  },
  {
   "cell_type": "code",
   "execution_count": 14,
   "metadata": {
    "execution": {
     "iopub.execute_input": "2021-03-15T13:40:40.135412Z",
     "iopub.status.busy": "2021-03-15T13:40:40.134895Z",
     "iopub.status.idle": "2021-03-15T13:40:40.138310Z",
     "shell.execute_reply": "2021-03-15T13:40:40.137853Z"
    }
   },
   "outputs": [],
   "source": [
    "df = df[df.location == 'California'].append(df[df.location != 'California']).reset_index(drop=True)"
   ]
  },
  {
   "cell_type": "code",
   "execution_count": null,
   "metadata": {},
   "outputs": [],
   "source": []
  },
  {
   "cell_type": "code",
   "execution_count": 15,
   "metadata": {
    "execution": {
     "iopub.execute_input": "2021-03-15T13:40:40.141886Z",
     "iopub.status.busy": "2021-03-15T13:40:40.141132Z",
     "iopub.status.idle": "2021-03-15T13:40:40.160003Z",
     "shell.execute_reply": "2021-03-15T13:40:40.159052Z"
    }
   },
   "outputs": [],
   "source": [
    "tz = pytz.timezone(\"America/New_York\")"
   ]
  },
  {
   "cell_type": "code",
   "execution_count": 16,
   "metadata": {
    "execution": {
     "iopub.execute_input": "2021-03-15T13:40:40.163367Z",
     "iopub.status.busy": "2021-03-15T13:40:40.162844Z",
     "iopub.status.idle": "2021-03-15T13:40:40.166326Z",
     "shell.execute_reply": "2021-03-15T13:40:40.165863Z"
    }
   },
   "outputs": [],
   "source": [
    "today = datetime.now(tz).date()"
   ]
  },
  {
   "cell_type": "code",
   "execution_count": 17,
   "metadata": {
    "execution": {
     "iopub.execute_input": "2021-03-15T13:40:40.170050Z",
     "iopub.status.busy": "2021-03-15T13:40:40.169527Z",
     "iopub.status.idle": "2021-03-15T13:40:40.172965Z",
     "shell.execute_reply": "2021-03-15T13:40:40.172510Z"
    }
   },
   "outputs": [],
   "source": [
    "data_dir = os.path.join(os.path.abspath(\"\"), \"data\")"
   ]
  },
  {
   "cell_type": "code",
   "execution_count": 18,
   "metadata": {
    "execution": {
     "iopub.execute_input": "2021-03-15T13:40:40.178900Z",
     "iopub.status.busy": "2021-03-15T13:40:40.176426Z",
     "iopub.status.idle": "2021-03-15T13:40:40.182156Z",
     "shell.execute_reply": "2021-03-15T13:40:40.181700Z"
    }
   },
   "outputs": [],
   "source": [
    "df.to_csv(os.path.join(data_dir, f\"{today}.csv\"), index=False)"
   ]
  },
  {
   "cell_type": "code",
   "execution_count": null,
   "metadata": {},
   "outputs": [],
   "source": []
  }
 ],
 "metadata": {
  "kernelspec": {
   "display_name": "Python 3",
   "language": "python",
   "name": "python3"
  },
  "language_info": {
   "codemirror_mode": {
    "name": "ipython",
    "version": 3
   },
   "file_extension": ".py",
   "mimetype": "text/x-python",
   "name": "python",
   "nbconvert_exporter": "python",
   "pygments_lexer": "ipython3",
   "version": "3.8.8"
  }
 },
 "nbformat": 4,
 "nbformat_minor": 4
}
