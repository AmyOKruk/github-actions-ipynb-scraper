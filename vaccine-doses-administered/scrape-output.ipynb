{
 "cells": [
  {
   "cell_type": "markdown",
   "metadata": {},
   "source": [
    "# California COVID vaccinations scrape"
   ]
  },
  {
   "cell_type": "markdown",
   "metadata": {},
   "source": [
    "By [Amy O'Kruk](https://twitter.com/amyokruk)"
   ]
  },
  {
   "cell_type": "markdown",
   "metadata": {},
   "source": [
    "Downloads data on vaccine doses administered by county and statewide from a Tableau-powered dashboard from the California Department of Public Health."
   ]
  },
  {
   "cell_type": "code",
   "execution_count": 1,
   "metadata": {
    "execution": {
     "iopub.execute_input": "2021-03-17T05:13:14.383296Z",
     "iopub.status.busy": "2021-03-17T05:13:14.382366Z",
     "iopub.status.idle": "2021-03-17T05:13:14.804698Z",
     "shell.execute_reply": "2021-03-17T05:13:14.803618Z"
    }
   },
   "outputs": [],
   "source": [
    "import pandas as pd\n",
    "import requests\n",
    "from bs4 import BeautifulSoup\n",
    "import json\n",
    "import re\n",
    "import time\n",
    "from time import gmtime, strftime \n",
    "import os\n",
    "import pytz\n",
    "from datetime import datetime"
   ]
  },
  {
   "cell_type": "markdown",
   "metadata": {},
   "source": [
    "Scrape the dashboard page"
   ]
  },
  {
   "cell_type": "code",
   "execution_count": 2,
   "metadata": {
    "execution": {
     "iopub.execute_input": "2021-03-17T05:13:14.811475Z",
     "iopub.status.busy": "2021-03-17T05:13:14.809053Z",
     "iopub.status.idle": "2021-03-17T05:13:15.405723Z",
     "shell.execute_reply": "2021-03-17T05:13:15.404668Z"
    }
   },
   "outputs": [],
   "source": [
    "url = \"https://public.tableau.com/interactive/views/COVID-19VaccineDashboardPublic/Vaccine?:embed=y&:showVizHome=n&:apiID=host0\"\n",
    "\n",
    "r = requests.get(url)\n",
    "soup = BeautifulSoup(r.text, \"html.parser\")"
   ]
  },
  {
   "cell_type": "code",
   "execution_count": 3,
   "metadata": {
    "execution": {
     "iopub.execute_input": "2021-03-17T05:13:15.410346Z",
     "iopub.status.busy": "2021-03-17T05:13:15.409853Z",
     "iopub.status.idle": "2021-03-17T05:13:15.413075Z",
     "shell.execute_reply": "2021-03-17T05:13:15.413531Z"
    }
   },
   "outputs": [],
   "source": [
    "tableauData = json.loads(soup.find(\"textarea\",{\"id\": \"tsConfigContainer\"}).text)"
   ]
  },
  {
   "cell_type": "markdown",
   "metadata": {},
   "source": [
    "Get the link to the Tableau data"
   ]
  },
  {
   "cell_type": "code",
   "execution_count": 4,
   "metadata": {
    "execution": {
     "iopub.execute_input": "2021-03-17T05:13:15.417099Z",
     "iopub.status.busy": "2021-03-17T05:13:15.416578Z",
     "iopub.status.idle": "2021-03-17T05:13:15.419841Z",
     "shell.execute_reply": "2021-03-17T05:13:15.419375Z"
    }
   },
   "outputs": [],
   "source": [
    "dataUrl = f'https://public.tableau.com{tableauData[\"vizql_root\"]}/bootstrapSession/sessions/{tableauData[\"sessionid\"]}'"
   ]
  },
  {
   "cell_type": "code",
   "execution_count": 5,
   "metadata": {
    "execution": {
     "iopub.execute_input": "2021-03-17T05:13:15.426430Z",
     "iopub.status.busy": "2021-03-17T05:13:15.425824Z",
     "iopub.status.idle": "2021-03-17T05:13:15.909300Z",
     "shell.execute_reply": "2021-03-17T05:13:15.908403Z"
    }
   },
   "outputs": [],
   "source": [
    "r = requests.post(dataUrl, data= {\n",
    "    \"sheet_id\": tableauData[\"sheetId\"],\n",
    "})\n",
    "\n",
    "dataReg = re.search('\\d+;({.*})\\d+;({.*})', r.text, re.MULTILINE)\n",
    "data1 = json.loads(dataReg.group(2))\n",
    "\n",
    "dataJson = data1[\"secondaryInfo\"][\"presModelMap\"][\"dataDictionary\"][\"presModelHolder\"][\"genDataDictionaryPresModel\"][\"dataSegments\"][\"0\"][\"dataColumns\"]"
   ]
  },
  {
   "cell_type": "markdown",
   "metadata": {},
   "source": [
    "Isolate what you want"
   ]
  },
  {
   "cell_type": "code",
   "execution_count": 6,
   "metadata": {
    "execution": {
     "iopub.execute_input": "2021-03-17T05:13:15.913243Z",
     "iopub.status.busy": "2021-03-17T05:13:15.912680Z",
     "iopub.status.idle": "2021-03-17T05:13:15.916396Z",
     "shell.execute_reply": "2021-03-17T05:13:15.915919Z"
    }
   },
   "outputs": [],
   "source": [
    "counties = dataJson[2]['dataValues'][:58]"
   ]
  },
  {
   "cell_type": "code",
   "execution_count": 7,
   "metadata": {
    "execution": {
     "iopub.execute_input": "2021-03-17T05:13:15.919947Z",
     "iopub.status.busy": "2021-03-17T05:13:15.919438Z",
     "iopub.status.idle": "2021-03-17T05:13:15.923000Z",
     "shell.execute_reply": "2021-03-17T05:13:15.922550Z"
    }
   },
   "outputs": [],
   "source": [
    "doses = dataJson[0]['dataValues'][3:61]"
   ]
  },
  {
   "cell_type": "markdown",
   "metadata": {},
   "source": [
    "Data formatting"
   ]
  },
  {
   "cell_type": "code",
   "execution_count": 8,
   "metadata": {
    "execution": {
     "iopub.execute_input": "2021-03-17T05:13:15.926473Z",
     "iopub.status.busy": "2021-03-17T05:13:15.925958Z",
     "iopub.status.idle": "2021-03-17T05:13:15.929328Z",
     "shell.execute_reply": "2021-03-17T05:13:15.928850Z"
    }
   },
   "outputs": [],
   "source": [
    "zipped = dict(zip(counties, doses))"
   ]
  },
  {
   "cell_type": "code",
   "execution_count": 9,
   "metadata": {
    "execution": {
     "iopub.execute_input": "2021-03-17T05:13:15.935052Z",
     "iopub.status.busy": "2021-03-17T05:13:15.934534Z",
     "iopub.status.idle": "2021-03-17T05:13:15.937900Z",
     "shell.execute_reply": "2021-03-17T05:13:15.937463Z"
    }
   },
   "outputs": [],
   "source": [
    "df = pd.Series(zipped).reset_index()"
   ]
  },
  {
   "cell_type": "code",
   "execution_count": 10,
   "metadata": {
    "execution": {
     "iopub.execute_input": "2021-03-17T05:13:15.942145Z",
     "iopub.status.busy": "2021-03-17T05:13:15.941225Z",
     "iopub.status.idle": "2021-03-17T05:13:15.943577Z",
     "shell.execute_reply": "2021-03-17T05:13:15.943046Z"
    }
   },
   "outputs": [],
   "source": [
    "df.columns = ['location','doses']"
   ]
  },
  {
   "cell_type": "markdown",
   "metadata": {},
   "source": [
    "Grab the overall California total"
   ]
  },
  {
   "cell_type": "code",
   "execution_count": 11,
   "metadata": {
    "execution": {
     "iopub.execute_input": "2021-03-17T05:13:15.948094Z",
     "iopub.status.busy": "2021-03-17T05:13:15.946911Z",
     "iopub.status.idle": "2021-03-17T05:13:15.948694Z",
     "shell.execute_reply": "2021-03-17T05:13:15.949155Z"
    }
   },
   "outputs": [],
   "source": [
    "add = {'location':'California','doses':dataJson[0]['dataValues'][2]}"
   ]
  },
  {
   "cell_type": "code",
   "execution_count": 12,
   "metadata": {
    "execution": {
     "iopub.execute_input": "2021-03-17T05:13:15.956097Z",
     "iopub.status.busy": "2021-03-17T05:13:15.954880Z",
     "iopub.status.idle": "2021-03-17T05:13:15.956694Z",
     "shell.execute_reply": "2021-03-17T05:13:15.957156Z"
    }
   },
   "outputs": [],
   "source": [
    "df = df.append(add, ignore_index=True)"
   ]
  },
  {
   "cell_type": "code",
   "execution_count": 13,
   "metadata": {
    "execution": {
     "iopub.execute_input": "2021-03-17T05:13:15.968848Z",
     "iopub.status.busy": "2021-03-17T05:13:15.967548Z",
     "iopub.status.idle": "2021-03-17T05:13:15.969466Z",
     "shell.execute_reply": "2021-03-17T05:13:15.969892Z"
    }
   },
   "outputs": [],
   "source": [
    "df = df.sort_values(by='location')"
   ]
  },
  {
   "cell_type": "code",
   "execution_count": 14,
   "metadata": {
    "execution": {
     "iopub.execute_input": "2021-03-17T05:13:15.976567Z",
     "iopub.status.busy": "2021-03-17T05:13:15.975366Z",
     "iopub.status.idle": "2021-03-17T05:13:15.977240Z",
     "shell.execute_reply": "2021-03-17T05:13:15.977675Z"
    }
   },
   "outputs": [],
   "source": [
    "df = df[df.location == 'California'].append(df[df.location != 'California']).reset_index(drop=True)"
   ]
  },
  {
   "cell_type": "code",
   "execution_count": null,
   "metadata": {},
   "outputs": [],
   "source": []
  },
  {
   "cell_type": "code",
   "execution_count": 15,
   "metadata": {
    "execution": {
     "iopub.execute_input": "2021-03-17T05:13:15.981143Z",
     "iopub.status.busy": "2021-03-17T05:13:15.980592Z",
     "iopub.status.idle": "2021-03-17T05:13:15.999231Z",
     "shell.execute_reply": "2021-03-17T05:13:15.998764Z"
    }
   },
   "outputs": [],
   "source": [
    "tz = pytz.timezone(\"America/New_York\")"
   ]
  },
  {
   "cell_type": "code",
   "execution_count": 16,
   "metadata": {
    "execution": {
     "iopub.execute_input": "2021-03-17T05:13:16.002639Z",
     "iopub.status.busy": "2021-03-17T05:13:16.002135Z",
     "iopub.status.idle": "2021-03-17T05:13:16.005510Z",
     "shell.execute_reply": "2021-03-17T05:13:16.004967Z"
    }
   },
   "outputs": [],
   "source": [
    "today = datetime.now(tz).date()"
   ]
  },
  {
   "cell_type": "code",
   "execution_count": 17,
   "metadata": {
    "execution": {
     "iopub.execute_input": "2021-03-17T05:13:16.008685Z",
     "iopub.status.busy": "2021-03-17T05:13:16.008205Z",
     "iopub.status.idle": "2021-03-17T05:13:16.011645Z",
     "shell.execute_reply": "2021-03-17T05:13:16.011198Z"
    }
   },
   "outputs": [],
   "source": [
    "data_dir = os.path.join(os.path.abspath(\"\"), \"data\")"
   ]
  },
  {
   "cell_type": "code",
   "execution_count": 18,
   "metadata": {
    "execution": {
     "iopub.execute_input": "2021-03-17T05:13:16.015049Z",
     "iopub.status.busy": "2021-03-17T05:13:16.014570Z",
     "iopub.status.idle": "2021-03-17T05:13:16.019182Z",
     "shell.execute_reply": "2021-03-17T05:13:16.018752Z"
    }
   },
   "outputs": [],
   "source": [
    "df.to_csv(os.path.join(data_dir, f\"{today}.csv\"), index=False)"
   ]
  },
  {
   "cell_type": "code",
   "execution_count": null,
   "metadata": {},
   "outputs": [],
   "source": []
  }
 ],
 "metadata": {
  "kernelspec": {
   "display_name": "Python 3",
   "language": "python",
   "name": "python3"
  },
  "language_info": {
   "codemirror_mode": {
    "name": "ipython",
    "version": 3
   },
   "file_extension": ".py",
   "mimetype": "text/x-python",
   "name": "python",
   "nbconvert_exporter": "python",
   "pygments_lexer": "ipython3",
   "version": "3.8.8"
  }
 },
 "nbformat": 4,
 "nbformat_minor": 4
}
