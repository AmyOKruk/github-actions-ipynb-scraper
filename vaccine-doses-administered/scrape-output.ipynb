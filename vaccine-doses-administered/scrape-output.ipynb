{
 "cells": [
  {
   "cell_type": "markdown",
   "metadata": {},
   "source": [
    "# California COVID vaccinations scrape"
   ]
  },
  {
   "cell_type": "markdown",
   "metadata": {},
   "source": [
    "By [Amy O'Kruk](https://twitter.com/amyokruk)"
   ]
  },
  {
   "cell_type": "markdown",
   "metadata": {},
   "source": [
    "Downloads data on vaccine doses administered by county and statewide from a Tableau-powered dashboard from the California Department of Public Health."
   ]
  },
  {
   "cell_type": "code",
   "execution_count": 1,
   "metadata": {
    "execution": {
     "iopub.execute_input": "2021-03-16T10:14:47.913762Z",
     "iopub.status.busy": "2021-03-16T10:14:47.913130Z",
     "iopub.status.idle": "2021-03-16T10:14:48.349085Z",
     "shell.execute_reply": "2021-03-16T10:14:48.348042Z"
    }
   },
   "outputs": [],
   "source": [
    "import pandas as pd\n",
    "import requests\n",
    "from bs4 import BeautifulSoup\n",
    "import json\n",
    "import re\n",
    "import time\n",
    "from time import gmtime, strftime \n",
    "import os\n",
    "import pytz\n",
    "from datetime import datetime"
   ]
  },
  {
   "cell_type": "markdown",
   "metadata": {},
   "source": [
    "Scrape the dashboard page"
   ]
  },
  {
   "cell_type": "code",
   "execution_count": 2,
   "metadata": {
    "execution": {
     "iopub.execute_input": "2021-03-16T10:14:48.356217Z",
     "iopub.status.busy": "2021-03-16T10:14:48.355634Z",
     "iopub.status.idle": "2021-03-16T10:14:48.887865Z",
     "shell.execute_reply": "2021-03-16T10:14:48.886743Z"
    }
   },
   "outputs": [],
   "source": [
    "url = \"https://public.tableau.com/interactive/views/COVID-19VaccineDashboardPublic/Vaccine?:embed=y&:showVizHome=n&:apiID=host0\"\n",
    "\n",
    "r = requests.get(url)\n",
    "soup = BeautifulSoup(r.text, \"html.parser\")"
   ]
  },
  {
   "cell_type": "code",
   "execution_count": 3,
   "metadata": {
    "execution": {
     "iopub.execute_input": "2021-03-16T10:14:48.892915Z",
     "iopub.status.busy": "2021-03-16T10:14:48.892378Z",
     "iopub.status.idle": "2021-03-16T10:14:48.895891Z",
     "shell.execute_reply": "2021-03-16T10:14:48.895439Z"
    }
   },
   "outputs": [],
   "source": [
    "tableauData = json.loads(soup.find(\"textarea\",{\"id\": \"tsConfigContainer\"}).text)"
   ]
  },
  {
   "cell_type": "markdown",
   "metadata": {},
   "source": [
    "Get the link to the Tableau data"
   ]
  },
  {
   "cell_type": "code",
   "execution_count": 4,
   "metadata": {
    "execution": {
     "iopub.execute_input": "2021-03-16T10:14:48.899549Z",
     "iopub.status.busy": "2021-03-16T10:14:48.899005Z",
     "iopub.status.idle": "2021-03-16T10:14:48.902488Z",
     "shell.execute_reply": "2021-03-16T10:14:48.902047Z"
    }
   },
   "outputs": [],
   "source": [
    "dataUrl = f'https://public.tableau.com{tableauData[\"vizql_root\"]}/bootstrapSession/sessions/{tableauData[\"sessionid\"]}'"
   ]
  },
  {
   "cell_type": "code",
   "execution_count": 5,
   "metadata": {
    "execution": {
     "iopub.execute_input": "2021-03-16T10:14:48.909202Z",
     "iopub.status.busy": "2021-03-16T10:14:48.908657Z",
     "iopub.status.idle": "2021-03-16T10:14:49.454612Z",
     "shell.execute_reply": "2021-03-16T10:14:49.453372Z"
    }
   },
   "outputs": [],
   "source": [
    "r = requests.post(dataUrl, data= {\n",
    "    \"sheet_id\": tableauData[\"sheetId\"],\n",
    "})\n",
    "\n",
    "dataReg = re.search('\\d+;({.*})\\d+;({.*})', r.text, re.MULTILINE)\n",
    "data1 = json.loads(dataReg.group(2))\n",
    "\n",
    "dataJson = data1[\"secondaryInfo\"][\"presModelMap\"][\"dataDictionary\"][\"presModelHolder\"][\"genDataDictionaryPresModel\"][\"dataSegments\"][\"0\"][\"dataColumns\"]"
   ]
  },
  {
   "cell_type": "markdown",
   "metadata": {},
   "source": [
    "Isolate what you want"
   ]
  },
  {
   "cell_type": "code",
   "execution_count": 6,
   "metadata": {
    "execution": {
     "iopub.execute_input": "2021-03-16T10:14:49.458652Z",
     "iopub.status.busy": "2021-03-16T10:14:49.458110Z",
     "iopub.status.idle": "2021-03-16T10:14:49.461172Z",
     "shell.execute_reply": "2021-03-16T10:14:49.461628Z"
    }
   },
   "outputs": [],
   "source": [
    "counties = dataJson[2]['dataValues'][:58]"
   ]
  },
  {
   "cell_type": "code",
   "execution_count": 7,
   "metadata": {
    "execution": {
     "iopub.execute_input": "2021-03-16T10:14:49.466024Z",
     "iopub.status.busy": "2021-03-16T10:14:49.465483Z",
     "iopub.status.idle": "2021-03-16T10:14:49.468756Z",
     "shell.execute_reply": "2021-03-16T10:14:49.469368Z"
    }
   },
   "outputs": [],
   "source": [
    "doses = dataJson[0]['dataValues'][3:61]"
   ]
  },
  {
   "cell_type": "markdown",
   "metadata": {},
   "source": [
    "Data formatting"
   ]
  },
  {
   "cell_type": "code",
   "execution_count": 8,
   "metadata": {
    "execution": {
     "iopub.execute_input": "2021-03-16T10:14:49.475591Z",
     "iopub.status.busy": "2021-03-16T10:14:49.475036Z",
     "iopub.status.idle": "2021-03-16T10:14:49.480865Z",
     "shell.execute_reply": "2021-03-16T10:14:49.481451Z"
    }
   },
   "outputs": [],
   "source": [
    "zipped = dict(zip(counties, doses))"
   ]
  },
  {
   "cell_type": "code",
   "execution_count": 9,
   "metadata": {
    "execution": {
     "iopub.execute_input": "2021-03-16T10:14:49.496163Z",
     "iopub.status.busy": "2021-03-16T10:14:49.487193Z",
     "iopub.status.idle": "2021-03-16T10:14:49.497209Z",
     "shell.execute_reply": "2021-03-16T10:14:49.496756Z"
    }
   },
   "outputs": [],
   "source": [
    "df = pd.Series(zipped).reset_index()"
   ]
  },
  {
   "cell_type": "code",
   "execution_count": 10,
   "metadata": {
    "execution": {
     "iopub.execute_input": "2021-03-16T10:14:49.501019Z",
     "iopub.status.busy": "2021-03-16T10:14:49.500465Z",
     "iopub.status.idle": "2021-03-16T10:14:49.502728Z",
     "shell.execute_reply": "2021-03-16T10:14:49.502256Z"
    }
   },
   "outputs": [],
   "source": [
    "df.columns = ['location','doses']"
   ]
  },
  {
   "cell_type": "markdown",
   "metadata": {},
   "source": [
    "Grab the overall California total"
   ]
  },
  {
   "cell_type": "code",
   "execution_count": 11,
   "metadata": {
    "execution": {
     "iopub.execute_input": "2021-03-16T10:14:49.506547Z",
     "iopub.status.busy": "2021-03-16T10:14:49.506017Z",
     "iopub.status.idle": "2021-03-16T10:14:49.509484Z",
     "shell.execute_reply": "2021-03-16T10:14:49.509015Z"
    }
   },
   "outputs": [],
   "source": [
    "add = {'location':'California','doses':dataJson[0]['dataValues'][2]}"
   ]
  },
  {
   "cell_type": "code",
   "execution_count": 12,
   "metadata": {
    "execution": {
     "iopub.execute_input": "2021-03-16T10:14:49.516071Z",
     "iopub.status.busy": "2021-03-16T10:14:49.515540Z",
     "iopub.status.idle": "2021-03-16T10:14:49.519017Z",
     "shell.execute_reply": "2021-03-16T10:14:49.518521Z"
    }
   },
   "outputs": [],
   "source": [
    "df = df.append(add, ignore_index=True)"
   ]
  },
  {
   "cell_type": "code",
   "execution_count": 13,
   "metadata": {
    "execution": {
     "iopub.execute_input": "2021-03-16T10:14:49.523348Z",
     "iopub.status.busy": "2021-03-16T10:14:49.522783Z",
     "iopub.status.idle": "2021-03-16T10:14:49.526287Z",
     "shell.execute_reply": "2021-03-16T10:14:49.525816Z"
    }
   },
   "outputs": [],
   "source": [
    "df = df.sort_values(by='location')"
   ]
  },
  {
   "cell_type": "code",
   "execution_count": 14,
   "metadata": {
    "execution": {
     "iopub.execute_input": "2021-03-16T10:14:49.532163Z",
     "iopub.status.busy": "2021-03-16T10:14:49.531627Z",
     "iopub.status.idle": "2021-03-16T10:14:49.534592Z",
     "shell.execute_reply": "2021-03-16T10:14:49.535072Z"
    }
   },
   "outputs": [],
   "source": [
    "df = df[df.location == 'California'].append(df[df.location != 'California']).reset_index(drop=True)"
   ]
  },
  {
   "cell_type": "code",
   "execution_count": null,
   "metadata": {},
   "outputs": [],
   "source": []
  },
  {
   "cell_type": "code",
   "execution_count": 15,
   "metadata": {
    "execution": {
     "iopub.execute_input": "2021-03-16T10:14:49.538578Z",
     "iopub.status.busy": "2021-03-16T10:14:49.538048Z",
     "iopub.status.idle": "2021-03-16T10:14:49.557638Z",
     "shell.execute_reply": "2021-03-16T10:14:49.557142Z"
    }
   },
   "outputs": [],
   "source": [
    "tz = pytz.timezone(\"America/New_York\")"
   ]
  },
  {
   "cell_type": "code",
   "execution_count": 16,
   "metadata": {
    "execution": {
     "iopub.execute_input": "2021-03-16T10:14:49.561630Z",
     "iopub.status.busy": "2021-03-16T10:14:49.560908Z",
     "iopub.status.idle": "2021-03-16T10:14:49.564643Z",
     "shell.execute_reply": "2021-03-16T10:14:49.564164Z"
    }
   },
   "outputs": [],
   "source": [
    "today = datetime.now(tz).date()"
   ]
  },
  {
   "cell_type": "code",
   "execution_count": 17,
   "metadata": {
    "execution": {
     "iopub.execute_input": "2021-03-16T10:14:49.568521Z",
     "iopub.status.busy": "2021-03-16T10:14:49.567990Z",
     "iopub.status.idle": "2021-03-16T10:14:49.571656Z",
     "shell.execute_reply": "2021-03-16T10:14:49.571176Z"
    }
   },
   "outputs": [],
   "source": [
    "data_dir = os.path.join(os.path.abspath(\"\"), \"data\")"
   ]
  },
  {
   "cell_type": "code",
   "execution_count": 18,
   "metadata": {
    "execution": {
     "iopub.execute_input": "2021-03-16T10:14:49.577116Z",
     "iopub.status.busy": "2021-03-16T10:14:49.575336Z",
     "iopub.status.idle": "2021-03-16T10:14:49.581248Z",
     "shell.execute_reply": "2021-03-16T10:14:49.580748Z"
    }
   },
   "outputs": [],
   "source": [
    "df.to_csv(os.path.join(data_dir, f\"{today}.csv\"), index=False)"
   ]
  },
  {
   "cell_type": "code",
   "execution_count": null,
   "metadata": {},
   "outputs": [],
   "source": []
  }
 ],
 "metadata": {
  "kernelspec": {
   "display_name": "Python 3",
   "language": "python",
   "name": "python3"
  },
  "language_info": {
   "codemirror_mode": {
    "name": "ipython",
    "version": 3
   },
   "file_extension": ".py",
   "mimetype": "text/x-python",
   "name": "python",
   "nbconvert_exporter": "python",
   "pygments_lexer": "ipython3",
   "version": "3.8.8"
  }
 },
 "nbformat": 4,
 "nbformat_minor": 4
}
