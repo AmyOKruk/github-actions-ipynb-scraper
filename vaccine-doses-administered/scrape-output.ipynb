{
 "cells": [
  {
   "cell_type": "markdown",
   "metadata": {},
   "source": [
    "# California COVID vaccinations scrape"
   ]
  },
  {
   "cell_type": "markdown",
   "metadata": {},
   "source": [
    "By [Amy O'Kruk](https://twitter.com/amyokruk)"
   ]
  },
  {
   "cell_type": "markdown",
   "metadata": {},
   "source": [
    "Downloads data on vaccine doses administered by county and statewide from a Tableau-powered dashboard from the California Department of Public Health."
   ]
  },
  {
   "cell_type": "code",
   "execution_count": 1,
   "metadata": {
    "execution": {
     "iopub.execute_input": "2021-03-12T20:41:17.612124Z",
     "iopub.status.busy": "2021-03-12T20:41:17.611439Z",
     "iopub.status.idle": "2021-03-12T20:41:18.032888Z",
     "shell.execute_reply": "2021-03-12T20:41:18.032271Z"
    }
   },
   "outputs": [],
   "source": [
    "import pandas as pd\n",
    "import requests\n",
    "from bs4 import BeautifulSoup\n",
    "import json\n",
    "import re\n",
    "import time\n",
    "from time import gmtime, strftime \n",
    "import os\n",
    "import pytz\n",
    "from datetime import datetime"
   ]
  },
  {
   "cell_type": "markdown",
   "metadata": {},
   "source": [
    "Scrape the dashboard page"
   ]
  },
  {
   "cell_type": "code",
   "execution_count": 2,
   "metadata": {
    "execution": {
     "iopub.execute_input": "2021-03-12T20:41:18.038824Z",
     "iopub.status.busy": "2021-03-12T20:41:18.036430Z",
     "iopub.status.idle": "2021-03-12T20:41:18.331148Z",
     "shell.execute_reply": "2021-03-12T20:41:18.330604Z"
    }
   },
   "outputs": [],
   "source": [
    "url = \"https://public.tableau.com/interactive/views/COVID-19VaccineDashboardPublic/Vaccine?:embed=y&:showVizHome=n&:apiID=host0\"\n",
    "\n",
    "r = requests.get(url)\n",
    "soup = BeautifulSoup(r.text, \"html.parser\")"
   ]
  },
  {
   "cell_type": "code",
   "execution_count": 3,
   "metadata": {
    "execution": {
     "iopub.execute_input": "2021-03-12T20:41:18.336248Z",
     "iopub.status.busy": "2021-03-12T20:41:18.335665Z",
     "iopub.status.idle": "2021-03-12T20:41:18.339519Z",
     "shell.execute_reply": "2021-03-12T20:41:18.338969Z"
    }
   },
   "outputs": [],
   "source": [
    "tableauData = json.loads(soup.find(\"textarea\",{\"id\": \"tsConfigContainer\"}).text)"
   ]
  },
  {
   "cell_type": "markdown",
   "metadata": {},
   "source": [
    "Get the link to the Tableau data"
   ]
  },
  {
   "cell_type": "code",
   "execution_count": 4,
   "metadata": {
    "execution": {
     "iopub.execute_input": "2021-03-12T20:41:18.343667Z",
     "iopub.status.busy": "2021-03-12T20:41:18.343049Z",
     "iopub.status.idle": "2021-03-12T20:41:18.346850Z",
     "shell.execute_reply": "2021-03-12T20:41:18.346340Z"
    }
   },
   "outputs": [],
   "source": [
    "dataUrl = f'https://public.tableau.com{tableauData[\"vizql_root\"]}/bootstrapSession/sessions/{tableauData[\"sessionid\"]}'"
   ]
  },
  {
   "cell_type": "code",
   "execution_count": 5,
   "metadata": {
    "execution": {
     "iopub.execute_input": "2021-03-12T20:41:18.353755Z",
     "iopub.status.busy": "2021-03-12T20:41:18.352692Z",
     "iopub.status.idle": "2021-03-12T20:41:18.557595Z",
     "shell.execute_reply": "2021-03-12T20:41:18.557067Z"
    }
   },
   "outputs": [],
   "source": [
    "r = requests.post(dataUrl, data= {\n",
    "    \"sheet_id\": tableauData[\"sheetId\"],\n",
    "})\n",
    "\n",
    "dataReg = re.search('\\d+;({.*})\\d+;({.*})', r.text, re.MULTILINE)\n",
    "data1 = json.loads(dataReg.group(2))\n",
    "\n",
    "dataJson = data1[\"secondaryInfo\"][\"presModelMap\"][\"dataDictionary\"][\"presModelHolder\"][\"genDataDictionaryPresModel\"][\"dataSegments\"][\"0\"][\"dataColumns\"]"
   ]
  },
  {
   "cell_type": "markdown",
   "metadata": {},
   "source": [
    "Isolate what you want"
   ]
  },
  {
   "cell_type": "code",
   "execution_count": 6,
   "metadata": {
    "execution": {
     "iopub.execute_input": "2021-03-12T20:41:18.561691Z",
     "iopub.status.busy": "2021-03-12T20:41:18.561112Z",
     "iopub.status.idle": "2021-03-12T20:41:18.564790Z",
     "shell.execute_reply": "2021-03-12T20:41:18.564244Z"
    }
   },
   "outputs": [],
   "source": [
    "counties = dataJson[2]['dataValues'][:58]"
   ]
  },
  {
   "cell_type": "code",
   "execution_count": 7,
   "metadata": {
    "execution": {
     "iopub.execute_input": "2021-03-12T20:41:18.568583Z",
     "iopub.status.busy": "2021-03-12T20:41:18.567996Z",
     "iopub.status.idle": "2021-03-12T20:41:18.571717Z",
     "shell.execute_reply": "2021-03-12T20:41:18.571139Z"
    }
   },
   "outputs": [],
   "source": [
    "doses = dataJson[0]['dataValues'][3:61]"
   ]
  },
  {
   "cell_type": "markdown",
   "metadata": {},
   "source": [
    "Data formatting"
   ]
  },
  {
   "cell_type": "code",
   "execution_count": 8,
   "metadata": {
    "execution": {
     "iopub.execute_input": "2021-03-12T20:41:18.575593Z",
     "iopub.status.busy": "2021-03-12T20:41:18.574865Z",
     "iopub.status.idle": "2021-03-12T20:41:18.578739Z",
     "shell.execute_reply": "2021-03-12T20:41:18.578202Z"
    }
   },
   "outputs": [],
   "source": [
    "zipped = dict(zip(counties, doses))"
   ]
  },
  {
   "cell_type": "code",
   "execution_count": 9,
   "metadata": {
    "execution": {
     "iopub.execute_input": "2021-03-12T20:41:18.584513Z",
     "iopub.status.busy": "2021-03-12T20:41:18.583938Z",
     "iopub.status.idle": "2021-03-12T20:41:18.587623Z",
     "shell.execute_reply": "2021-03-12T20:41:18.587087Z"
    }
   },
   "outputs": [],
   "source": [
    "df = pd.Series(zipped).reset_index()"
   ]
  },
  {
   "cell_type": "code",
   "execution_count": 10,
   "metadata": {
    "execution": {
     "iopub.execute_input": "2021-03-12T20:41:18.591551Z",
     "iopub.status.busy": "2021-03-12T20:41:18.590882Z",
     "iopub.status.idle": "2021-03-12T20:41:18.594749Z",
     "shell.execute_reply": "2021-03-12T20:41:18.594035Z"
    }
   },
   "outputs": [],
   "source": [
    "df.columns = ['location','doses']"
   ]
  },
  {
   "cell_type": "markdown",
   "metadata": {},
   "source": [
    "Grab the overall California total"
   ]
  },
  {
   "cell_type": "code",
   "execution_count": 11,
   "metadata": {
    "execution": {
     "iopub.execute_input": "2021-03-12T20:41:18.598516Z",
     "iopub.status.busy": "2021-03-12T20:41:18.597940Z",
     "iopub.status.idle": "2021-03-12T20:41:18.601631Z",
     "shell.execute_reply": "2021-03-12T20:41:18.601122Z"
    }
   },
   "outputs": [],
   "source": [
    "add = {'location':'California','doses':dataJson[0]['dataValues'][2]}"
   ]
  },
  {
   "cell_type": "code",
   "execution_count": 12,
   "metadata": {
    "execution": {
     "iopub.execute_input": "2021-03-12T20:41:18.608626Z",
     "iopub.status.busy": "2021-03-12T20:41:18.607241Z",
     "iopub.status.idle": "2021-03-12T20:41:18.611371Z",
     "shell.execute_reply": "2021-03-12T20:41:18.611855Z"
    }
   },
   "outputs": [],
   "source": [
    "df = df.append(add, ignore_index=True)"
   ]
  },
  {
   "cell_type": "code",
   "execution_count": 13,
   "metadata": {
    "execution": {
     "iopub.execute_input": "2021-03-12T20:41:18.616691Z",
     "iopub.status.busy": "2021-03-12T20:41:18.613988Z",
     "iopub.status.idle": "2021-03-12T20:41:18.619912Z",
     "shell.execute_reply": "2021-03-12T20:41:18.619364Z"
    }
   },
   "outputs": [],
   "source": [
    "df = df.sort_values(by='location')"
   ]
  },
  {
   "cell_type": "code",
   "execution_count": 14,
   "metadata": {
    "execution": {
     "iopub.execute_input": "2021-03-12T20:41:18.626010Z",
     "iopub.status.busy": "2021-03-12T20:41:18.625432Z",
     "iopub.status.idle": "2021-03-12T20:41:18.629349Z",
     "shell.execute_reply": "2021-03-12T20:41:18.628840Z"
    }
   },
   "outputs": [],
   "source": [
    "df = df[df.location == 'California'].append(df[df.location != 'California']).reset_index(drop=True)"
   ]
  },
  {
   "cell_type": "code",
   "execution_count": null,
   "metadata": {},
   "outputs": [],
   "source": []
  },
  {
   "cell_type": "code",
   "execution_count": 15,
   "metadata": {
    "execution": {
     "iopub.execute_input": "2021-03-12T20:41:18.633105Z",
     "iopub.status.busy": "2021-03-12T20:41:18.632526Z",
     "iopub.status.idle": "2021-03-12T20:41:18.654629Z",
     "shell.execute_reply": "2021-03-12T20:41:18.655124Z"
    }
   },
   "outputs": [],
   "source": [
    "tz = pytz.timezone(\"America/New_York\")"
   ]
  },
  {
   "cell_type": "code",
   "execution_count": 16,
   "metadata": {
    "execution": {
     "iopub.execute_input": "2021-03-12T20:41:18.658742Z",
     "iopub.status.busy": "2021-03-12T20:41:18.658168Z",
     "iopub.status.idle": "2021-03-12T20:41:18.662254Z",
     "shell.execute_reply": "2021-03-12T20:41:18.661501Z"
    }
   },
   "outputs": [],
   "source": [
    "today = datetime.now(tz).date()"
   ]
  },
  {
   "cell_type": "code",
   "execution_count": 17,
   "metadata": {
    "execution": {
     "iopub.execute_input": "2021-03-12T20:41:18.665805Z",
     "iopub.status.busy": "2021-03-12T20:41:18.665225Z",
     "iopub.status.idle": "2021-03-12T20:41:18.669327Z",
     "shell.execute_reply": "2021-03-12T20:41:18.668703Z"
    }
   },
   "outputs": [],
   "source": [
    "data_dir = os.path.join(os.path.abspath(\"\"), \"data\")"
   ]
  },
  {
   "cell_type": "code",
   "execution_count": 18,
   "metadata": {
    "execution": {
     "iopub.execute_input": "2021-03-12T20:41:18.673576Z",
     "iopub.status.busy": "2021-03-12T20:41:18.672527Z",
     "iopub.status.idle": "2021-03-12T20:41:18.677285Z",
     "shell.execute_reply": "2021-03-12T20:41:18.676759Z"
    }
   },
   "outputs": [],
   "source": [
    "df.to_csv(os.path.join(data_dir, f\"{today}.csv\"), index=False)"
   ]
  },
  {
   "cell_type": "code",
   "execution_count": null,
   "metadata": {},
   "outputs": [],
   "source": []
  }
 ],
 "metadata": {
  "kernelspec": {
   "display_name": "Python 3",
   "language": "python",
   "name": "python3"
  },
  "language_info": {
   "codemirror_mode": {
    "name": "ipython",
    "version": 3
   },
   "file_extension": ".py",
   "mimetype": "text/x-python",
   "name": "python",
   "nbconvert_exporter": "python",
   "pygments_lexer": "ipython3",
   "version": "3.8.8"
  }
 },
 "nbformat": 4,
 "nbformat_minor": 4
}
