{
 "cells": [
  {
   "cell_type": "markdown",
   "metadata": {},
   "source": [
    "# California COVID vaccinations scrape"
   ]
  },
  {
   "cell_type": "markdown",
   "metadata": {},
   "source": [
    "By [Amy O'Kruk](https://twitter.com/amyokruk)"
   ]
  },
  {
   "cell_type": "markdown",
   "metadata": {},
   "source": [
    "Downloads data on vaccine doses administered by county and statewide from a Tableau-powered dashboard from the California Department of Public Health."
   ]
  },
  {
   "cell_type": "code",
   "execution_count": 1,
   "metadata": {
    "execution": {
     "iopub.execute_input": "2021-03-18T19:09:56.796550Z",
     "iopub.status.busy": "2021-03-18T19:09:56.795919Z",
     "iopub.status.idle": "2021-03-18T19:09:57.289229Z",
     "shell.execute_reply": "2021-03-18T19:09:57.288600Z"
    }
   },
   "outputs": [],
   "source": [
    "import pandas as pd\n",
    "import requests\n",
    "from bs4 import BeautifulSoup\n",
    "import json\n",
    "import re\n",
    "import time\n",
    "from time import gmtime, strftime \n",
    "import os\n",
    "import pytz\n",
    "from datetime import datetime"
   ]
  },
  {
   "cell_type": "markdown",
   "metadata": {},
   "source": [
    "Scrape the dashboard page"
   ]
  },
  {
   "cell_type": "code",
   "execution_count": 2,
   "metadata": {
    "execution": {
     "iopub.execute_input": "2021-03-18T19:09:57.293430Z",
     "iopub.status.busy": "2021-03-18T19:09:57.292863Z",
     "iopub.status.idle": "2021-03-18T19:09:57.501894Z",
     "shell.execute_reply": "2021-03-18T19:09:57.500864Z"
    }
   },
   "outputs": [],
   "source": [
    "url = \"https://public.tableau.com/interactive/views/COVID-19VaccineDashboardPublic/Vaccine?:embed=y&:showVizHome=n&:apiID=host0\"\n",
    "\n",
    "r = requests.get(url)\n",
    "soup = BeautifulSoup(r.text, \"html.parser\")"
   ]
  },
  {
   "cell_type": "code",
   "execution_count": 3,
   "metadata": {
    "execution": {
     "iopub.execute_input": "2021-03-18T19:09:57.506831Z",
     "iopub.status.busy": "2021-03-18T19:09:57.506206Z",
     "iopub.status.idle": "2021-03-18T19:09:57.510489Z",
     "shell.execute_reply": "2021-03-18T19:09:57.509930Z"
    }
   },
   "outputs": [],
   "source": [
    "tableauData = json.loads(soup.find(\"textarea\",{\"id\": \"tsConfigContainer\"}).text)"
   ]
  },
  {
   "cell_type": "markdown",
   "metadata": {},
   "source": [
    "Get the link to the Tableau data"
   ]
  },
  {
   "cell_type": "code",
   "execution_count": 4,
   "metadata": {
    "execution": {
     "iopub.execute_input": "2021-03-18T19:09:57.514626Z",
     "iopub.status.busy": "2021-03-18T19:09:57.514047Z",
     "iopub.status.idle": "2021-03-18T19:09:57.518402Z",
     "shell.execute_reply": "2021-03-18T19:09:57.517942Z"
    }
   },
   "outputs": [],
   "source": [
    "dataUrl = f'https://public.tableau.com{tableauData[\"vizql_root\"]}/bootstrapSession/sessions/{tableauData[\"sessionid\"]}'"
   ]
  },
  {
   "cell_type": "code",
   "execution_count": 5,
   "metadata": {
    "execution": {
     "iopub.execute_input": "2021-03-18T19:09:57.525070Z",
     "iopub.status.busy": "2021-03-18T19:09:57.524438Z",
     "iopub.status.idle": "2021-03-18T19:09:57.708909Z",
     "shell.execute_reply": "2021-03-18T19:09:57.708401Z"
    }
   },
   "outputs": [],
   "source": [
    "r = requests.post(dataUrl, data= {\n",
    "    \"sheet_id\": tableauData[\"sheetId\"],\n",
    "})\n",
    "\n",
    "dataReg = re.search('\\d+;({.*})\\d+;({.*})', r.text, re.MULTILINE)\n",
    "data1 = json.loads(dataReg.group(2))\n",
    "\n",
    "dataJson = data1[\"secondaryInfo\"][\"presModelMap\"][\"dataDictionary\"][\"presModelHolder\"][\"genDataDictionaryPresModel\"][\"dataSegments\"][\"0\"][\"dataColumns\"]"
   ]
  },
  {
   "cell_type": "markdown",
   "metadata": {},
   "source": [
    "Isolate what you want"
   ]
  },
  {
   "cell_type": "code",
   "execution_count": 6,
   "metadata": {
    "execution": {
     "iopub.execute_input": "2021-03-18T19:09:57.714902Z",
     "iopub.status.busy": "2021-03-18T19:09:57.712953Z",
     "iopub.status.idle": "2021-03-18T19:09:57.715588Z",
     "shell.execute_reply": "2021-03-18T19:09:57.716073Z"
    }
   },
   "outputs": [],
   "source": [
    "counties = dataJson[2]['dataValues'][:58]"
   ]
  },
  {
   "cell_type": "code",
   "execution_count": 7,
   "metadata": {
    "execution": {
     "iopub.execute_input": "2021-03-18T19:09:57.720986Z",
     "iopub.status.busy": "2021-03-18T19:09:57.719554Z",
     "iopub.status.idle": "2021-03-18T19:09:57.721586Z",
     "shell.execute_reply": "2021-03-18T19:09:57.722130Z"
    }
   },
   "outputs": [],
   "source": [
    "doses = dataJson[0]['dataValues'][3:61]"
   ]
  },
  {
   "cell_type": "markdown",
   "metadata": {},
   "source": [
    "Data formatting"
   ]
  },
  {
   "cell_type": "code",
   "execution_count": 8,
   "metadata": {
    "execution": {
     "iopub.execute_input": "2021-03-18T19:09:57.727466Z",
     "iopub.status.busy": "2021-03-18T19:09:57.725750Z",
     "iopub.status.idle": "2021-03-18T19:09:57.728069Z",
     "shell.execute_reply": "2021-03-18T19:09:57.728531Z"
    }
   },
   "outputs": [],
   "source": [
    "zipped = dict(zip(counties, doses))"
   ]
  },
  {
   "cell_type": "code",
   "execution_count": 9,
   "metadata": {
    "execution": {
     "iopub.execute_input": "2021-03-18T19:09:57.735339Z",
     "iopub.status.busy": "2021-03-18T19:09:57.733837Z",
     "iopub.status.idle": "2021-03-18T19:09:57.735919Z",
     "shell.execute_reply": "2021-03-18T19:09:57.736346Z"
    }
   },
   "outputs": [],
   "source": [
    "df = pd.Series(zipped).reset_index()"
   ]
  },
  {
   "cell_type": "code",
   "execution_count": 10,
   "metadata": {
    "execution": {
     "iopub.execute_input": "2021-03-18T19:09:57.741313Z",
     "iopub.status.busy": "2021-03-18T19:09:57.739930Z",
     "iopub.status.idle": "2021-03-18T19:09:57.741970Z",
     "shell.execute_reply": "2021-03-18T19:09:57.742446Z"
    }
   },
   "outputs": [],
   "source": [
    "df.columns = ['location','doses']"
   ]
  },
  {
   "cell_type": "markdown",
   "metadata": {},
   "source": [
    "Grab the overall California total"
   ]
  },
  {
   "cell_type": "code",
   "execution_count": 11,
   "metadata": {
    "execution": {
     "iopub.execute_input": "2021-03-18T19:09:57.747303Z",
     "iopub.status.busy": "2021-03-18T19:09:57.745966Z",
     "iopub.status.idle": "2021-03-18T19:09:57.748066Z",
     "shell.execute_reply": "2021-03-18T19:09:57.748508Z"
    }
   },
   "outputs": [],
   "source": [
    "add = {'location':'California','doses':dataJson[0]['dataValues'][2]}"
   ]
  },
  {
   "cell_type": "code",
   "execution_count": 12,
   "metadata": {
    "execution": {
     "iopub.execute_input": "2021-03-18T19:09:57.758241Z",
     "iopub.status.busy": "2021-03-18T19:09:57.755268Z",
     "iopub.status.idle": "2021-03-18T19:09:57.759235Z",
     "shell.execute_reply": "2021-03-18T19:09:57.760158Z"
    }
   },
   "outputs": [],
   "source": [
    "df = df.append(add, ignore_index=True)"
   ]
  },
  {
   "cell_type": "code",
   "execution_count": 13,
   "metadata": {
    "execution": {
     "iopub.execute_input": "2021-03-18T19:09:57.766018Z",
     "iopub.status.busy": "2021-03-18T19:09:57.764640Z",
     "iopub.status.idle": "2021-03-18T19:09:57.766873Z",
     "shell.execute_reply": "2021-03-18T19:09:57.767301Z"
    }
   },
   "outputs": [],
   "source": [
    "df = df.sort_values(by='location')"
   ]
  },
  {
   "cell_type": "code",
   "execution_count": 14,
   "metadata": {
    "execution": {
     "iopub.execute_input": "2021-03-18T19:09:57.774253Z",
     "iopub.status.busy": "2021-03-18T19:09:57.772787Z",
     "iopub.status.idle": "2021-03-18T19:09:57.775590Z",
     "shell.execute_reply": "2021-03-18T19:09:57.776025Z"
    }
   },
   "outputs": [],
   "source": [
    "df = df[df.location == 'California'].append(df[df.location != 'California']).reset_index(drop=True)"
   ]
  },
  {
   "cell_type": "code",
   "execution_count": null,
   "metadata": {},
   "outputs": [],
   "source": []
  },
  {
   "cell_type": "code",
   "execution_count": 15,
   "metadata": {
    "execution": {
     "iopub.execute_input": "2021-03-18T19:09:57.779732Z",
     "iopub.status.busy": "2021-03-18T19:09:57.779191Z",
     "iopub.status.idle": "2021-03-18T19:09:57.798659Z",
     "shell.execute_reply": "2021-03-18T19:09:57.798009Z"
    }
   },
   "outputs": [],
   "source": [
    "tz = pytz.timezone(\"America/New_York\")"
   ]
  },
  {
   "cell_type": "code",
   "execution_count": 16,
   "metadata": {
    "execution": {
     "iopub.execute_input": "2021-03-18T19:09:57.803302Z",
     "iopub.status.busy": "2021-03-18T19:09:57.801881Z",
     "iopub.status.idle": "2021-03-18T19:09:57.803972Z",
     "shell.execute_reply": "2021-03-18T19:09:57.804412Z"
    }
   },
   "outputs": [],
   "source": [
    "today = datetime.now(tz).date()"
   ]
  },
  {
   "cell_type": "code",
   "execution_count": 17,
   "metadata": {
    "execution": {
     "iopub.execute_input": "2021-03-18T19:09:57.809370Z",
     "iopub.status.busy": "2021-03-18T19:09:57.807860Z",
     "iopub.status.idle": "2021-03-18T19:09:57.810036Z",
     "shell.execute_reply": "2021-03-18T19:09:57.810515Z"
    }
   },
   "outputs": [],
   "source": [
    "data_dir = os.path.join(os.path.abspath(\"\"), \"data\")"
   ]
  },
  {
   "cell_type": "code",
   "execution_count": 18,
   "metadata": {
    "execution": {
     "iopub.execute_input": "2021-03-18T19:09:57.815152Z",
     "iopub.status.busy": "2021-03-18T19:09:57.814537Z",
     "iopub.status.idle": "2021-03-18T19:09:57.819228Z",
     "shell.execute_reply": "2021-03-18T19:09:57.818715Z"
    }
   },
   "outputs": [],
   "source": [
    "df.to_csv(os.path.join(data_dir, f\"{today}.csv\"), index=False)"
   ]
  },
  {
   "cell_type": "code",
   "execution_count": null,
   "metadata": {},
   "outputs": [],
   "source": []
  }
 ],
 "metadata": {
  "kernelspec": {
   "display_name": "Python 3",
   "language": "python",
   "name": "python3"
  },
  "language_info": {
   "codemirror_mode": {
    "name": "ipython",
    "version": 3
   },
   "file_extension": ".py",
   "mimetype": "text/x-python",
   "name": "python",
   "nbconvert_exporter": "python",
   "pygments_lexer": "ipython3",
   "version": "3.8.8"
  }
 },
 "nbformat": 4,
 "nbformat_minor": 4
}
