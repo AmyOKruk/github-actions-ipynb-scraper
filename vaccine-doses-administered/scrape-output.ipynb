{
 "cells": [
  {
   "cell_type": "markdown",
   "metadata": {},
   "source": [
    "# California COVID vaccinations scrape"
   ]
  },
  {
   "cell_type": "markdown",
   "metadata": {},
   "source": [
    "By [Amy O'Kruk](https://twitter.com/amyokruk)"
   ]
  },
  {
   "cell_type": "markdown",
   "metadata": {},
   "source": [
    "Downloads data on vaccine doses administered by county and statewide from a Tableau-powered dashboard from the California Department of Public Health."
   ]
  },
  {
   "cell_type": "code",
   "execution_count": 1,
   "metadata": {
    "execution": {
     "iopub.execute_input": "2021-03-16T02:53:43.633328Z",
     "iopub.status.busy": "2021-03-16T02:53:43.632723Z",
     "iopub.status.idle": "2021-03-16T02:53:44.082013Z",
     "shell.execute_reply": "2021-03-16T02:53:44.081294Z"
    }
   },
   "outputs": [],
   "source": [
    "import pandas as pd\n",
    "import requests\n",
    "from bs4 import BeautifulSoup\n",
    "import json\n",
    "import re\n",
    "import time\n",
    "from time import gmtime, strftime \n",
    "import os\n",
    "import pytz\n",
    "from datetime import datetime"
   ]
  },
  {
   "cell_type": "markdown",
   "metadata": {},
   "source": [
    "Scrape the dashboard page"
   ]
  },
  {
   "cell_type": "code",
   "execution_count": 2,
   "metadata": {
    "execution": {
     "iopub.execute_input": "2021-03-16T02:53:44.088581Z",
     "iopub.status.busy": "2021-03-16T02:53:44.085788Z",
     "iopub.status.idle": "2021-03-16T02:53:44.624020Z",
     "shell.execute_reply": "2021-03-16T02:53:44.623537Z"
    }
   },
   "outputs": [],
   "source": [
    "url = \"https://public.tableau.com/interactive/views/COVID-19VaccineDashboardPublic/Vaccine?:embed=y&:showVizHome=n&:apiID=host0\"\n",
    "\n",
    "r = requests.get(url)\n",
    "soup = BeautifulSoup(r.text, \"html.parser\")"
   ]
  },
  {
   "cell_type": "code",
   "execution_count": 3,
   "metadata": {
    "execution": {
     "iopub.execute_input": "2021-03-16T02:53:44.629699Z",
     "iopub.status.busy": "2021-03-16T02:53:44.628535Z",
     "iopub.status.idle": "2021-03-16T02:53:44.630288Z",
     "shell.execute_reply": "2021-03-16T02:53:44.630745Z"
    }
   },
   "outputs": [],
   "source": [
    "tableauData = json.loads(soup.find(\"textarea\",{\"id\": \"tsConfigContainer\"}).text)"
   ]
  },
  {
   "cell_type": "markdown",
   "metadata": {},
   "source": [
    "Get the link to the Tableau data"
   ]
  },
  {
   "cell_type": "code",
   "execution_count": 4,
   "metadata": {
    "execution": {
     "iopub.execute_input": "2021-03-16T02:53:44.635216Z",
     "iopub.status.busy": "2021-03-16T02:53:44.633994Z",
     "iopub.status.idle": "2021-03-16T02:53:44.635877Z",
     "shell.execute_reply": "2021-03-16T02:53:44.636306Z"
    }
   },
   "outputs": [],
   "source": [
    "dataUrl = f'https://public.tableau.com{tableauData[\"vizql_root\"]}/bootstrapSession/sessions/{tableauData[\"sessionid\"]}'"
   ]
  },
  {
   "cell_type": "code",
   "execution_count": 5,
   "metadata": {
    "execution": {
     "iopub.execute_input": "2021-03-16T02:53:44.642950Z",
     "iopub.status.busy": "2021-03-16T02:53:44.642386Z",
     "iopub.status.idle": "2021-03-16T02:53:44.853620Z",
     "shell.execute_reply": "2021-03-16T02:53:44.852785Z"
    }
   },
   "outputs": [],
   "source": [
    "r = requests.post(dataUrl, data= {\n",
    "    \"sheet_id\": tableauData[\"sheetId\"],\n",
    "})\n",
    "\n",
    "dataReg = re.search('\\d+;({.*})\\d+;({.*})', r.text, re.MULTILINE)\n",
    "data1 = json.loads(dataReg.group(2))\n",
    "\n",
    "dataJson = data1[\"secondaryInfo\"][\"presModelMap\"][\"dataDictionary\"][\"presModelHolder\"][\"genDataDictionaryPresModel\"][\"dataSegments\"][\"0\"][\"dataColumns\"]"
   ]
  },
  {
   "cell_type": "markdown",
   "metadata": {},
   "source": [
    "Isolate what you want"
   ]
  },
  {
   "cell_type": "code",
   "execution_count": 6,
   "metadata": {
    "execution": {
     "iopub.execute_input": "2021-03-16T02:53:44.860289Z",
     "iopub.status.busy": "2021-03-16T02:53:44.858822Z",
     "iopub.status.idle": "2021-03-16T02:53:44.861395Z",
     "shell.execute_reply": "2021-03-16T02:53:44.860947Z"
    }
   },
   "outputs": [],
   "source": [
    "counties = dataJson[2]['dataValues'][:58]"
   ]
  },
  {
   "cell_type": "code",
   "execution_count": 7,
   "metadata": {
    "execution": {
     "iopub.execute_input": "2021-03-16T02:53:44.865600Z",
     "iopub.status.busy": "2021-03-16T02:53:44.864516Z",
     "iopub.status.idle": "2021-03-16T02:53:44.866188Z",
     "shell.execute_reply": "2021-03-16T02:53:44.866637Z"
    }
   },
   "outputs": [],
   "source": [
    "doses = dataJson[0]['dataValues'][3:61]"
   ]
  },
  {
   "cell_type": "markdown",
   "metadata": {},
   "source": [
    "Data formatting"
   ]
  },
  {
   "cell_type": "code",
   "execution_count": 8,
   "metadata": {
    "execution": {
     "iopub.execute_input": "2021-03-16T02:53:44.871153Z",
     "iopub.status.busy": "2021-03-16T02:53:44.869829Z",
     "iopub.status.idle": "2021-03-16T02:53:44.871842Z",
     "shell.execute_reply": "2021-03-16T02:53:44.872276Z"
    }
   },
   "outputs": [],
   "source": [
    "zipped = dict(zip(counties, doses))"
   ]
  },
  {
   "cell_type": "code",
   "execution_count": 9,
   "metadata": {
    "execution": {
     "iopub.execute_input": "2021-03-16T02:53:44.878694Z",
     "iopub.status.busy": "2021-03-16T02:53:44.877453Z",
     "iopub.status.idle": "2021-03-16T02:53:44.879284Z",
     "shell.execute_reply": "2021-03-16T02:53:44.879706Z"
    }
   },
   "outputs": [],
   "source": [
    "df = pd.Series(zipped).reset_index()"
   ]
  },
  {
   "cell_type": "code",
   "execution_count": 10,
   "metadata": {
    "execution": {
     "iopub.execute_input": "2021-03-16T02:53:44.884283Z",
     "iopub.status.busy": "2021-03-16T02:53:44.883018Z",
     "iopub.status.idle": "2021-03-16T02:53:44.884867Z",
     "shell.execute_reply": "2021-03-16T02:53:44.885287Z"
    }
   },
   "outputs": [],
   "source": [
    "df.columns = ['location','doses']"
   ]
  },
  {
   "cell_type": "markdown",
   "metadata": {},
   "source": [
    "Grab the overall California total"
   ]
  },
  {
   "cell_type": "code",
   "execution_count": 11,
   "metadata": {
    "execution": {
     "iopub.execute_input": "2021-03-16T02:53:44.889662Z",
     "iopub.status.busy": "2021-03-16T02:53:44.888487Z",
     "iopub.status.idle": "2021-03-16T02:53:44.890252Z",
     "shell.execute_reply": "2021-03-16T02:53:44.890697Z"
    }
   },
   "outputs": [],
   "source": [
    "add = {'location':'California','doses':dataJson[0]['dataValues'][2]}"
   ]
  },
  {
   "cell_type": "code",
   "execution_count": 12,
   "metadata": {
    "execution": {
     "iopub.execute_input": "2021-03-16T02:53:44.897473Z",
     "iopub.status.busy": "2021-03-16T02:53:44.896374Z",
     "iopub.status.idle": "2021-03-16T02:53:44.898058Z",
     "shell.execute_reply": "2021-03-16T02:53:44.898649Z"
    }
   },
   "outputs": [],
   "source": [
    "df = df.append(add, ignore_index=True)"
   ]
  },
  {
   "cell_type": "code",
   "execution_count": 13,
   "metadata": {
    "execution": {
     "iopub.execute_input": "2021-03-16T02:53:44.903627Z",
     "iopub.status.busy": "2021-03-16T02:53:44.902482Z",
     "iopub.status.idle": "2021-03-16T02:53:44.904215Z",
     "shell.execute_reply": "2021-03-16T02:53:44.904635Z"
    }
   },
   "outputs": [],
   "source": [
    "df = df.sort_values(by='location')"
   ]
  },
  {
   "cell_type": "code",
   "execution_count": 14,
   "metadata": {
    "execution": {
     "iopub.execute_input": "2021-03-16T02:53:44.910905Z",
     "iopub.status.busy": "2021-03-16T02:53:44.909796Z",
     "iopub.status.idle": "2021-03-16T02:53:44.911494Z",
     "shell.execute_reply": "2021-03-16T02:53:44.911915Z"
    }
   },
   "outputs": [],
   "source": [
    "df = df[df.location == 'California'].append(df[df.location != 'California']).reset_index(drop=True)"
   ]
  },
  {
   "cell_type": "code",
   "execution_count": null,
   "metadata": {},
   "outputs": [],
   "source": []
  },
  {
   "cell_type": "code",
   "execution_count": 15,
   "metadata": {
    "execution": {
     "iopub.execute_input": "2021-03-16T02:53:44.915414Z",
     "iopub.status.busy": "2021-03-16T02:53:44.914904Z",
     "iopub.status.idle": "2021-03-16T02:53:44.932554Z",
     "shell.execute_reply": "2021-03-16T02:53:44.932099Z"
    }
   },
   "outputs": [],
   "source": [
    "tz = pytz.timezone(\"America/New_York\")"
   ]
  },
  {
   "cell_type": "code",
   "execution_count": 16,
   "metadata": {
    "execution": {
     "iopub.execute_input": "2021-03-16T02:53:44.936967Z",
     "iopub.status.busy": "2021-03-16T02:53:44.935802Z",
     "iopub.status.idle": "2021-03-16T02:53:44.937551Z",
     "shell.execute_reply": "2021-03-16T02:53:44.937980Z"
    }
   },
   "outputs": [],
   "source": [
    "today = datetime.now(tz).date()"
   ]
  },
  {
   "cell_type": "code",
   "execution_count": 17,
   "metadata": {
    "execution": {
     "iopub.execute_input": "2021-03-16T02:53:44.942446Z",
     "iopub.status.busy": "2021-03-16T02:53:44.941185Z",
     "iopub.status.idle": "2021-03-16T02:53:44.943065Z",
     "shell.execute_reply": "2021-03-16T02:53:44.943490Z"
    }
   },
   "outputs": [],
   "source": [
    "data_dir = os.path.join(os.path.abspath(\"\"), \"data\")"
   ]
  },
  {
   "cell_type": "code",
   "execution_count": 18,
   "metadata": {
    "execution": {
     "iopub.execute_input": "2021-03-16T02:53:44.947758Z",
     "iopub.status.busy": "2021-03-16T02:53:44.947221Z",
     "iopub.status.idle": "2021-03-16T02:53:44.951300Z",
     "shell.execute_reply": "2021-03-16T02:53:44.950776Z"
    }
   },
   "outputs": [],
   "source": [
    "df.to_csv(os.path.join(data_dir, f\"{today}.csv\"), index=False)"
   ]
  },
  {
   "cell_type": "code",
   "execution_count": null,
   "metadata": {},
   "outputs": [],
   "source": []
  }
 ],
 "metadata": {
  "kernelspec": {
   "display_name": "Python 3",
   "language": "python",
   "name": "python3"
  },
  "language_info": {
   "codemirror_mode": {
    "name": "ipython",
    "version": 3
   },
   "file_extension": ".py",
   "mimetype": "text/x-python",
   "name": "python",
   "nbconvert_exporter": "python",
   "pygments_lexer": "ipython3",
   "version": "3.8.8"
  }
 },
 "nbformat": 4,
 "nbformat_minor": 4
}
