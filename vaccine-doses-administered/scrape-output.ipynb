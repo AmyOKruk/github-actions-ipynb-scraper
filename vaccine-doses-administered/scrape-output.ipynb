{
 "cells": [
  {
   "cell_type": "markdown",
   "metadata": {},
   "source": [
    "# California COVID vaccinations scrape"
   ]
  },
  {
   "cell_type": "markdown",
   "metadata": {},
   "source": [
    "By [Amy O'Kruk](https://twitter.com/amyokruk)"
   ]
  },
  {
   "cell_type": "markdown",
   "metadata": {},
   "source": [
    "Downloads data on vaccine doses administered by county and statewide from a Tableau-powered dashboard from the California Department of Public Health."
   ]
  },
  {
   "cell_type": "code",
   "execution_count": 1,
   "metadata": {
    "execution": {
     "iopub.execute_input": "2021-03-10T23:12:04.124629Z",
     "iopub.status.busy": "2021-03-10T23:12:04.124011Z",
     "iopub.status.idle": "2021-03-10T23:12:04.533375Z",
     "shell.execute_reply": "2021-03-10T23:12:04.532558Z"
    }
   },
   "outputs": [],
   "source": [
    "import pandas as pd\n",
    "import requests\n",
    "from bs4 import BeautifulSoup\n",
    "import json\n",
    "import re\n",
    "import time\n",
    "from time import gmtime, strftime \n",
    "import os\n",
    "import pytz\n",
    "from datetime import datetime"
   ]
  },
  {
   "cell_type": "markdown",
   "metadata": {},
   "source": [
    "Scrape the dashboard page"
   ]
  },
  {
   "cell_type": "code",
   "execution_count": 2,
   "metadata": {
    "execution": {
     "iopub.execute_input": "2021-03-10T23:12:04.538031Z",
     "iopub.status.busy": "2021-03-10T23:12:04.537366Z",
     "iopub.status.idle": "2021-03-10T23:12:04.781434Z",
     "shell.execute_reply": "2021-03-10T23:12:04.780505Z"
    }
   },
   "outputs": [],
   "source": [
    "url = \"https://public.tableau.com/interactive/views/COVID-19VaccineDashboardPublic/Vaccine?:embed=y&:showVizHome=n&:apiID=host0\"\n",
    "\n",
    "r = requests.get(url)\n",
    "soup = BeautifulSoup(r.text, \"html.parser\")"
   ]
  },
  {
   "cell_type": "code",
   "execution_count": 3,
   "metadata": {
    "execution": {
     "iopub.execute_input": "2021-03-10T23:12:04.787105Z",
     "iopub.status.busy": "2021-03-10T23:12:04.786257Z",
     "iopub.status.idle": "2021-03-10T23:12:04.791020Z",
     "shell.execute_reply": "2021-03-10T23:12:04.790471Z"
    }
   },
   "outputs": [],
   "source": [
    "tableauData = json.loads(soup.find(\"textarea\",{\"id\": \"tsConfigContainer\"}).text)"
   ]
  },
  {
   "cell_type": "markdown",
   "metadata": {},
   "source": [
    "Get the link to the Tableau data"
   ]
  },
  {
   "cell_type": "code",
   "execution_count": 4,
   "metadata": {
    "execution": {
     "iopub.execute_input": "2021-03-10T23:12:04.796915Z",
     "iopub.status.busy": "2021-03-10T23:12:04.795607Z",
     "iopub.status.idle": "2021-03-10T23:12:04.800514Z",
     "shell.execute_reply": "2021-03-10T23:12:04.800053Z"
    }
   },
   "outputs": [],
   "source": [
    "dataUrl = f'https://public.tableau.com{tableauData[\"vizql_root\"]}/bootstrapSession/sessions/{tableauData[\"sessionid\"]}'"
   ]
  },
  {
   "cell_type": "code",
   "execution_count": 5,
   "metadata": {
    "execution": {
     "iopub.execute_input": "2021-03-10T23:12:04.808107Z",
     "iopub.status.busy": "2021-03-10T23:12:04.807146Z",
     "iopub.status.idle": "2021-03-10T23:12:04.965202Z",
     "shell.execute_reply": "2021-03-10T23:12:04.964693Z"
    }
   },
   "outputs": [],
   "source": [
    "r = requests.post(dataUrl, data= {\n",
    "    \"sheet_id\": tableauData[\"sheetId\"],\n",
    "})\n",
    "\n",
    "dataReg = re.search('\\d+;({.*})\\d+;({.*})', r.text, re.MULTILINE)\n",
    "data1 = json.loads(dataReg.group(2))\n",
    "\n",
    "dataJson = data1[\"secondaryInfo\"][\"presModelMap\"][\"dataDictionary\"][\"presModelHolder\"][\"genDataDictionaryPresModel\"][\"dataSegments\"][\"0\"][\"dataColumns\"]"
   ]
  },
  {
   "cell_type": "markdown",
   "metadata": {},
   "source": [
    "Isolate what you want"
   ]
  },
  {
   "cell_type": "code",
   "execution_count": 6,
   "metadata": {
    "execution": {
     "iopub.execute_input": "2021-03-10T23:12:04.969551Z",
     "iopub.status.busy": "2021-03-10T23:12:04.969025Z",
     "iopub.status.idle": "2021-03-10T23:12:04.973052Z",
     "shell.execute_reply": "2021-03-10T23:12:04.972422Z"
    }
   },
   "outputs": [],
   "source": [
    "counties = dataJson[2]['dataValues'][:58]"
   ]
  },
  {
   "cell_type": "code",
   "execution_count": 7,
   "metadata": {
    "execution": {
     "iopub.execute_input": "2021-03-10T23:12:04.978730Z",
     "iopub.status.busy": "2021-03-10T23:12:04.978197Z",
     "iopub.status.idle": "2021-03-10T23:12:04.982951Z",
     "shell.execute_reply": "2021-03-10T23:12:04.983526Z"
    }
   },
   "outputs": [],
   "source": [
    "doses = dataJson[0]['dataValues'][3:61]"
   ]
  },
  {
   "cell_type": "markdown",
   "metadata": {},
   "source": [
    "Data formatting"
   ]
  },
  {
   "cell_type": "code",
   "execution_count": 8,
   "metadata": {
    "execution": {
     "iopub.execute_input": "2021-03-10T23:12:04.987735Z",
     "iopub.status.busy": "2021-03-10T23:12:04.987141Z",
     "iopub.status.idle": "2021-03-10T23:12:04.989261Z",
     "shell.execute_reply": "2021-03-10T23:12:04.988804Z"
    }
   },
   "outputs": [],
   "source": [
    "zipped = dict(zip(counties, doses))"
   ]
  },
  {
   "cell_type": "code",
   "execution_count": 9,
   "metadata": {
    "execution": {
     "iopub.execute_input": "2021-03-10T23:12:04.995508Z",
     "iopub.status.busy": "2021-03-10T23:12:04.994979Z",
     "iopub.status.idle": "2021-03-10T23:12:04.998548Z",
     "shell.execute_reply": "2021-03-10T23:12:04.998100Z"
    }
   },
   "outputs": [],
   "source": [
    "df = pd.Series(zipped).reset_index()"
   ]
  },
  {
   "cell_type": "code",
   "execution_count": 10,
   "metadata": {
    "execution": {
     "iopub.execute_input": "2021-03-10T23:12:05.002564Z",
     "iopub.status.busy": "2021-03-10T23:12:05.001851Z",
     "iopub.status.idle": "2021-03-10T23:12:05.005638Z",
     "shell.execute_reply": "2021-03-10T23:12:05.007717Z"
    }
   },
   "outputs": [],
   "source": [
    "df.columns = ['location','doses']"
   ]
  },
  {
   "cell_type": "markdown",
   "metadata": {},
   "source": [
    "Grab the overall California total"
   ]
  },
  {
   "cell_type": "code",
   "execution_count": 11,
   "metadata": {
    "execution": {
     "iopub.execute_input": "2021-03-10T23:12:05.014642Z",
     "iopub.status.busy": "2021-03-10T23:12:05.012052Z",
     "iopub.status.idle": "2021-03-10T23:12:05.015261Z",
     "shell.execute_reply": "2021-03-10T23:12:05.015721Z"
    }
   },
   "outputs": [],
   "source": [
    "add = {'location':'California','doses':dataJson[0]['dataValues'][2]}"
   ]
  },
  {
   "cell_type": "code",
   "execution_count": 12,
   "metadata": {
    "execution": {
     "iopub.execute_input": "2021-03-10T23:12:05.026675Z",
     "iopub.status.busy": "2021-03-10T23:12:05.024425Z",
     "iopub.status.idle": "2021-03-10T23:12:05.027301Z",
     "shell.execute_reply": "2021-03-10T23:12:05.027753Z"
    }
   },
   "outputs": [],
   "source": [
    "df = df.append(add, ignore_index=True)"
   ]
  },
  {
   "cell_type": "code",
   "execution_count": 13,
   "metadata": {
    "execution": {
     "iopub.execute_input": "2021-03-10T23:12:05.033011Z",
     "iopub.status.busy": "2021-03-10T23:12:05.031639Z",
     "iopub.status.idle": "2021-03-10T23:12:05.033656Z",
     "shell.execute_reply": "2021-03-10T23:12:05.034132Z"
    }
   },
   "outputs": [],
   "source": [
    "df = df.sort_values(by='location')"
   ]
  },
  {
   "cell_type": "code",
   "execution_count": 14,
   "metadata": {
    "execution": {
     "iopub.execute_input": "2021-03-10T23:12:05.041710Z",
     "iopub.status.busy": "2021-03-10T23:12:05.040338Z",
     "iopub.status.idle": "2021-03-10T23:12:05.042334Z",
     "shell.execute_reply": "2021-03-10T23:12:05.042752Z"
    }
   },
   "outputs": [],
   "source": [
    "df = df[df.location == 'California'].append(df[df.location != 'California']).reset_index(drop=True)"
   ]
  },
  {
   "cell_type": "code",
   "execution_count": null,
   "metadata": {},
   "outputs": [],
   "source": []
  },
  {
   "cell_type": "code",
   "execution_count": 15,
   "metadata": {
    "execution": {
     "iopub.execute_input": "2021-03-10T23:12:05.046080Z",
     "iopub.status.busy": "2021-03-10T23:12:05.045544Z",
     "iopub.status.idle": "2021-03-10T23:12:05.068641Z",
     "shell.execute_reply": "2021-03-10T23:12:05.067830Z"
    }
   },
   "outputs": [],
   "source": [
    "tz = pytz.timezone(\"America/New_York\")"
   ]
  },
  {
   "cell_type": "code",
   "execution_count": 16,
   "metadata": {
    "execution": {
     "iopub.execute_input": "2021-03-10T23:12:05.073709Z",
     "iopub.status.busy": "2021-03-10T23:12:05.072471Z",
     "iopub.status.idle": "2021-03-10T23:12:05.074382Z",
     "shell.execute_reply": "2021-03-10T23:12:05.074800Z"
    }
   },
   "outputs": [],
   "source": [
    "today = datetime.now(tz).date()"
   ]
  },
  {
   "cell_type": "code",
   "execution_count": 17,
   "metadata": {
    "execution": {
     "iopub.execute_input": "2021-03-10T23:12:05.079515Z",
     "iopub.status.busy": "2021-03-10T23:12:05.078186Z",
     "iopub.status.idle": "2021-03-10T23:12:05.080155Z",
     "shell.execute_reply": "2021-03-10T23:12:05.080846Z"
    }
   },
   "outputs": [],
   "source": [
    "data_dir = os.path.join(os.path.abspath(\"\"), \"data\")"
   ]
  },
  {
   "cell_type": "code",
   "execution_count": 18,
   "metadata": {
    "execution": {
     "iopub.execute_input": "2021-03-10T23:12:05.086554Z",
     "iopub.status.busy": "2021-03-10T23:12:05.084960Z",
     "iopub.status.idle": "2021-03-10T23:12:05.090048Z",
     "shell.execute_reply": "2021-03-10T23:12:05.090539Z"
    }
   },
   "outputs": [],
   "source": [
    "df.to_csv(os.path.join(data_dir, f\"{today}.csv\"), index=False)"
   ]
  },
  {
   "cell_type": "code",
   "execution_count": null,
   "metadata": {},
   "outputs": [],
   "source": []
  }
 ],
 "metadata": {
  "kernelspec": {
   "display_name": "Python 3",
   "language": "python",
   "name": "python3"
  },
  "language_info": {
   "codemirror_mode": {
    "name": "ipython",
    "version": 3
   },
   "file_extension": ".py",
   "mimetype": "text/x-python",
   "name": "python",
   "nbconvert_exporter": "python",
   "pygments_lexer": "ipython3",
   "version": "3.8.8"
  }
 },
 "nbformat": 4,
 "nbformat_minor": 4
}
