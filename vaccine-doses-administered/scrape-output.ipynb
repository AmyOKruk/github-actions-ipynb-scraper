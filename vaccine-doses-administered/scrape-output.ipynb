{
 "cells": [
  {
   "cell_type": "markdown",
   "metadata": {},
   "source": [
    "# California COVID vaccinations scrape"
   ]
  },
  {
   "cell_type": "markdown",
   "metadata": {},
   "source": [
    "By [Amy O'Kruk](https://twitter.com/amyokruk)"
   ]
  },
  {
   "cell_type": "markdown",
   "metadata": {},
   "source": [
    "Downloads data on vaccine doses administered by county and statewide from a Tableau-powered dashboard from the California Department of Public Health."
   ]
  },
  {
   "cell_type": "code",
   "execution_count": 1,
   "metadata": {
    "execution": {
     "iopub.execute_input": "2021-03-23T03:16:33.840644Z",
     "iopub.status.busy": "2021-03-23T03:16:33.840044Z",
     "iopub.status.idle": "2021-03-23T03:16:34.220733Z",
     "shell.execute_reply": "2021-03-23T03:16:34.219692Z"
    }
   },
   "outputs": [],
   "source": [
    "import pandas as pd\n",
    "import requests\n",
    "from bs4 import BeautifulSoup\n",
    "import json\n",
    "import re\n",
    "import time\n",
    "from time import gmtime, strftime \n",
    "import os\n",
    "import pytz\n",
    "from datetime import datetime"
   ]
  },
  {
   "cell_type": "markdown",
   "metadata": {},
   "source": [
    "Scrape the dashboard page"
   ]
  },
  {
   "cell_type": "code",
   "execution_count": 2,
   "metadata": {
    "execution": {
     "iopub.execute_input": "2021-03-23T03:16:34.226577Z",
     "iopub.status.busy": "2021-03-23T03:16:34.224646Z",
     "iopub.status.idle": "2021-03-23T03:16:34.657460Z",
     "shell.execute_reply": "2021-03-23T03:16:34.657968Z"
    }
   },
   "outputs": [],
   "source": [
    "url = \"https://public.tableau.com/interactive/views/COVID-19VaccineDashboardPublic/Vaccine?:embed=y&:showVizHome=n&:apiID=host0\"\n",
    "\n",
    "r = requests.get(url)\n",
    "soup = BeautifulSoup(r.text, \"html.parser\")"
   ]
  },
  {
   "cell_type": "code",
   "execution_count": 3,
   "metadata": {
    "execution": {
     "iopub.execute_input": "2021-03-23T03:16:34.663245Z",
     "iopub.status.busy": "2021-03-23T03:16:34.662607Z",
     "iopub.status.idle": "2021-03-23T03:16:34.666152Z",
     "shell.execute_reply": "2021-03-23T03:16:34.665721Z"
    }
   },
   "outputs": [],
   "source": [
    "tableauData = json.loads(soup.find(\"textarea\",{\"id\": \"tsConfigContainer\"}).text)"
   ]
  },
  {
   "cell_type": "markdown",
   "metadata": {},
   "source": [
    "Get the link to the Tableau data"
   ]
  },
  {
   "cell_type": "code",
   "execution_count": 4,
   "metadata": {
    "execution": {
     "iopub.execute_input": "2021-03-23T03:16:34.670467Z",
     "iopub.status.busy": "2021-03-23T03:16:34.669349Z",
     "iopub.status.idle": "2021-03-23T03:16:34.671143Z",
     "shell.execute_reply": "2021-03-23T03:16:34.671577Z"
    }
   },
   "outputs": [],
   "source": [
    "dataUrl = f'https://public.tableau.com{tableauData[\"vizql_root\"]}/bootstrapSession/sessions/{tableauData[\"sessionid\"]}'"
   ]
  },
  {
   "cell_type": "code",
   "execution_count": 5,
   "metadata": {
    "execution": {
     "iopub.execute_input": "2021-03-23T03:16:34.678122Z",
     "iopub.status.busy": "2021-03-23T03:16:34.677600Z",
     "iopub.status.idle": "2021-03-23T03:16:34.965891Z",
     "shell.execute_reply": "2021-03-23T03:16:34.965005Z"
    }
   },
   "outputs": [],
   "source": [
    "r = requests.post(dataUrl, data= {\n",
    "    \"sheet_id\": tableauData[\"sheetId\"],\n",
    "})\n",
    "\n",
    "dataReg = re.search('\\d+;({.*})\\d+;({.*})', r.text, re.MULTILINE)\n",
    "data1 = json.loads(dataReg.group(2))\n",
    "\n",
    "dataJson = data1[\"secondaryInfo\"][\"presModelMap\"][\"dataDictionary\"][\"presModelHolder\"][\"genDataDictionaryPresModel\"][\"dataSegments\"][\"0\"][\"dataColumns\"]"
   ]
  },
  {
   "cell_type": "markdown",
   "metadata": {},
   "source": [
    "Isolate what you want"
   ]
  },
  {
   "cell_type": "code",
   "execution_count": 6,
   "metadata": {
    "execution": {
     "iopub.execute_input": "2021-03-23T03:16:34.970831Z",
     "iopub.status.busy": "2021-03-23T03:16:34.969664Z",
     "iopub.status.idle": "2021-03-23T03:16:34.971460Z",
     "shell.execute_reply": "2021-03-23T03:16:34.971891Z"
    }
   },
   "outputs": [],
   "source": [
    "counties = dataJson[2]['dataValues'][:58]"
   ]
  },
  {
   "cell_type": "code",
   "execution_count": 7,
   "metadata": {
    "execution": {
     "iopub.execute_input": "2021-03-23T03:16:34.975918Z",
     "iopub.status.busy": "2021-03-23T03:16:34.974864Z",
     "iopub.status.idle": "2021-03-23T03:16:34.976506Z",
     "shell.execute_reply": "2021-03-23T03:16:34.976896Z"
    }
   },
   "outputs": [],
   "source": [
    "doses = dataJson[0]['dataValues'][3:61]"
   ]
  },
  {
   "cell_type": "markdown",
   "metadata": {},
   "source": [
    "Data formatting"
   ]
  },
  {
   "cell_type": "code",
   "execution_count": 8,
   "metadata": {
    "execution": {
     "iopub.execute_input": "2021-03-23T03:16:34.981236Z",
     "iopub.status.busy": "2021-03-23T03:16:34.980113Z",
     "iopub.status.idle": "2021-03-23T03:16:34.981774Z",
     "shell.execute_reply": "2021-03-23T03:16:34.982162Z"
    }
   },
   "outputs": [],
   "source": [
    "zipped = dict(zip(counties, doses))"
   ]
  },
  {
   "cell_type": "code",
   "execution_count": 9,
   "metadata": {
    "execution": {
     "iopub.execute_input": "2021-03-23T03:16:34.988312Z",
     "iopub.status.busy": "2021-03-23T03:16:34.987183Z",
     "iopub.status.idle": "2021-03-23T03:16:34.988953Z",
     "shell.execute_reply": "2021-03-23T03:16:34.989371Z"
    }
   },
   "outputs": [],
   "source": [
    "df = pd.Series(zipped).reset_index()"
   ]
  },
  {
   "cell_type": "code",
   "execution_count": 10,
   "metadata": {
    "execution": {
     "iopub.execute_input": "2021-03-23T03:16:34.993354Z",
     "iopub.status.busy": "2021-03-23T03:16:34.992523Z",
     "iopub.status.idle": "2021-03-23T03:16:34.994219Z",
     "shell.execute_reply": "2021-03-23T03:16:34.994622Z"
    }
   },
   "outputs": [],
   "source": [
    "df.columns = ['location','doses']"
   ]
  },
  {
   "cell_type": "markdown",
   "metadata": {},
   "source": [
    "Grab the overall California total"
   ]
  },
  {
   "cell_type": "code",
   "execution_count": 11,
   "metadata": {
    "execution": {
     "iopub.execute_input": "2021-03-23T03:16:34.998826Z",
     "iopub.status.busy": "2021-03-23T03:16:34.997721Z",
     "iopub.status.idle": "2021-03-23T03:16:34.999445Z",
     "shell.execute_reply": "2021-03-23T03:16:34.999866Z"
    }
   },
   "outputs": [],
   "source": [
    "add = {'location':'California','doses':dataJson[0]['dataValues'][2]}"
   ]
  },
  {
   "cell_type": "code",
   "execution_count": 12,
   "metadata": {
    "execution": {
     "iopub.execute_input": "2021-03-23T03:16:35.006732Z",
     "iopub.status.busy": "2021-03-23T03:16:35.005596Z",
     "iopub.status.idle": "2021-03-23T03:16:35.007357Z",
     "shell.execute_reply": "2021-03-23T03:16:35.007766Z"
    }
   },
   "outputs": [],
   "source": [
    "df = df.append(add, ignore_index=True)"
   ]
  },
  {
   "cell_type": "code",
   "execution_count": 13,
   "metadata": {
    "execution": {
     "iopub.execute_input": "2021-03-23T03:16:35.012589Z",
     "iopub.status.busy": "2021-03-23T03:16:35.011468Z",
     "iopub.status.idle": "2021-03-23T03:16:35.013174Z",
     "shell.execute_reply": "2021-03-23T03:16:35.013592Z"
    }
   },
   "outputs": [],
   "source": [
    "df = df.sort_values(by='location')"
   ]
  },
  {
   "cell_type": "code",
   "execution_count": 14,
   "metadata": {
    "execution": {
     "iopub.execute_input": "2021-03-23T03:16:35.019729Z",
     "iopub.status.busy": "2021-03-23T03:16:35.018795Z",
     "iopub.status.idle": "2021-03-23T03:16:35.020588Z",
     "shell.execute_reply": "2021-03-23T03:16:35.020994Z"
    }
   },
   "outputs": [],
   "source": [
    "df = df[df.location == 'California'].append(df[df.location != 'California']).reset_index(drop=True)"
   ]
  },
  {
   "cell_type": "code",
   "execution_count": null,
   "metadata": {},
   "outputs": [],
   "source": []
  },
  {
   "cell_type": "code",
   "execution_count": 15,
   "metadata": {
    "execution": {
     "iopub.execute_input": "2021-03-23T03:16:35.024333Z",
     "iopub.status.busy": "2021-03-23T03:16:35.023833Z",
     "iopub.status.idle": "2021-03-23T03:16:35.040768Z",
     "shell.execute_reply": "2021-03-23T03:16:35.040255Z"
    }
   },
   "outputs": [],
   "source": [
    "tz = pytz.timezone(\"America/New_York\")"
   ]
  },
  {
   "cell_type": "code",
   "execution_count": 16,
   "metadata": {
    "execution": {
     "iopub.execute_input": "2021-03-23T03:16:35.044873Z",
     "iopub.status.busy": "2021-03-23T03:16:35.043727Z",
     "iopub.status.idle": "2021-03-23T03:16:35.045481Z",
     "shell.execute_reply": "2021-03-23T03:16:35.045904Z"
    }
   },
   "outputs": [],
   "source": [
    "today = datetime.now(tz).date()"
   ]
  },
  {
   "cell_type": "code",
   "execution_count": 17,
   "metadata": {
    "execution": {
     "iopub.execute_input": "2021-03-23T03:16:35.050137Z",
     "iopub.status.busy": "2021-03-23T03:16:35.048970Z",
     "iopub.status.idle": "2021-03-23T03:16:35.050726Z",
     "shell.execute_reply": "2021-03-23T03:16:35.051181Z"
    }
   },
   "outputs": [],
   "source": [
    "data_dir = os.path.join(os.path.abspath(\"\"), \"data\")"
   ]
  },
  {
   "cell_type": "code",
   "execution_count": 18,
   "metadata": {
    "execution": {
     "iopub.execute_input": "2021-03-23T03:16:35.055397Z",
     "iopub.status.busy": "2021-03-23T03:16:35.054295Z",
     "iopub.status.idle": "2021-03-23T03:16:35.058602Z",
     "shell.execute_reply": "2021-03-23T03:16:35.058175Z"
    }
   },
   "outputs": [],
   "source": [
    "df.to_csv(os.path.join(data_dir, f\"{today}.csv\"), index=False)"
   ]
  },
  {
   "cell_type": "code",
   "execution_count": null,
   "metadata": {},
   "outputs": [],
   "source": []
  }
 ],
 "metadata": {
  "kernelspec": {
   "display_name": "Python 3",
   "language": "python",
   "name": "python3"
  },
  "language_info": {
   "codemirror_mode": {
    "name": "ipython",
    "version": 3
   },
   "file_extension": ".py",
   "mimetype": "text/x-python",
   "name": "python",
   "nbconvert_exporter": "python",
   "pygments_lexer": "ipython3",
   "version": "3.8.8"
  }
 },
 "nbformat": 4,
 "nbformat_minor": 4
}
