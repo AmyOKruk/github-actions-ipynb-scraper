{
 "cells": [
  {
   "cell_type": "markdown",
   "metadata": {},
   "source": [
    "# California COVID vaccinations scrape"
   ]
  },
  {
   "cell_type": "markdown",
   "metadata": {},
   "source": [
    "By [Amy O'Kruk](https://twitter.com/amyokruk)"
   ]
  },
  {
   "cell_type": "markdown",
   "metadata": {},
   "source": [
    "Downloads data on vaccine doses administered by county and statewide from a Tableau-powered dashboard from the California Department of Public Health."
   ]
  },
  {
   "cell_type": "code",
   "execution_count": 1,
   "metadata": {
    "execution": {
     "iopub.execute_input": "2021-03-21T23:13:28.430433Z",
     "iopub.status.busy": "2021-03-21T23:13:28.429818Z",
     "iopub.status.idle": "2021-03-21T23:13:28.772177Z",
     "shell.execute_reply": "2021-03-21T23:13:28.771077Z"
    }
   },
   "outputs": [],
   "source": [
    "import pandas as pd\n",
    "import requests\n",
    "from bs4 import BeautifulSoup\n",
    "import json\n",
    "import re\n",
    "import time\n",
    "from time import gmtime, strftime \n",
    "import os\n",
    "import pytz\n",
    "from datetime import datetime"
   ]
  },
  {
   "cell_type": "markdown",
   "metadata": {},
   "source": [
    "Scrape the dashboard page"
   ]
  },
  {
   "cell_type": "code",
   "execution_count": 2,
   "metadata": {
    "execution": {
     "iopub.execute_input": "2021-03-21T23:13:28.778748Z",
     "iopub.status.busy": "2021-03-21T23:13:28.777999Z",
     "iopub.status.idle": "2021-03-21T23:13:29.252300Z",
     "shell.execute_reply": "2021-03-21T23:13:29.251816Z"
    }
   },
   "outputs": [],
   "source": [
    "url = \"https://public.tableau.com/interactive/views/COVID-19VaccineDashboardPublic/Vaccine?:embed=y&:showVizHome=n&:apiID=host0\"\n",
    "\n",
    "r = requests.get(url)\n",
    "soup = BeautifulSoup(r.text, \"html.parser\")"
   ]
  },
  {
   "cell_type": "code",
   "execution_count": 3,
   "metadata": {
    "execution": {
     "iopub.execute_input": "2021-03-21T23:13:29.257727Z",
     "iopub.status.busy": "2021-03-21T23:13:29.257215Z",
     "iopub.status.idle": "2021-03-21T23:13:29.260605Z",
     "shell.execute_reply": "2021-03-21T23:13:29.260129Z"
    }
   },
   "outputs": [],
   "source": [
    "tableauData = json.loads(soup.find(\"textarea\",{\"id\": \"tsConfigContainer\"}).text)"
   ]
  },
  {
   "cell_type": "markdown",
   "metadata": {},
   "source": [
    "Get the link to the Tableau data"
   ]
  },
  {
   "cell_type": "code",
   "execution_count": 4,
   "metadata": {
    "execution": {
     "iopub.execute_input": "2021-03-21T23:13:29.264058Z",
     "iopub.status.busy": "2021-03-21T23:13:29.263528Z",
     "iopub.status.idle": "2021-03-21T23:13:29.266812Z",
     "shell.execute_reply": "2021-03-21T23:13:29.266383Z"
    }
   },
   "outputs": [],
   "source": [
    "dataUrl = f'https://public.tableau.com{tableauData[\"vizql_root\"]}/bootstrapSession/sessions/{tableauData[\"sessionid\"]}'"
   ]
  },
  {
   "cell_type": "code",
   "execution_count": 5,
   "metadata": {
    "execution": {
     "iopub.execute_input": "2021-03-21T23:13:29.273464Z",
     "iopub.status.busy": "2021-03-21T23:13:29.272941Z",
     "iopub.status.idle": "2021-03-21T23:13:29.603044Z",
     "shell.execute_reply": "2021-03-21T23:13:29.602542Z"
    }
   },
   "outputs": [],
   "source": [
    "r = requests.post(dataUrl, data= {\n",
    "    \"sheet_id\": tableauData[\"sheetId\"],\n",
    "})\n",
    "\n",
    "dataReg = re.search('\\d+;({.*})\\d+;({.*})', r.text, re.MULTILINE)\n",
    "data1 = json.loads(dataReg.group(2))\n",
    "\n",
    "dataJson = data1[\"secondaryInfo\"][\"presModelMap\"][\"dataDictionary\"][\"presModelHolder\"][\"genDataDictionaryPresModel\"][\"dataSegments\"][\"0\"][\"dataColumns\"]"
   ]
  },
  {
   "cell_type": "markdown",
   "metadata": {},
   "source": [
    "Isolate what you want"
   ]
  },
  {
   "cell_type": "code",
   "execution_count": 6,
   "metadata": {
    "execution": {
     "iopub.execute_input": "2021-03-21T23:13:29.607112Z",
     "iopub.status.busy": "2021-03-21T23:13:29.606596Z",
     "iopub.status.idle": "2021-03-21T23:13:29.610577Z",
     "shell.execute_reply": "2021-03-21T23:13:29.610159Z"
    }
   },
   "outputs": [],
   "source": [
    "counties = dataJson[2]['dataValues'][:58]"
   ]
  },
  {
   "cell_type": "code",
   "execution_count": 7,
   "metadata": {
    "execution": {
     "iopub.execute_input": "2021-03-21T23:13:29.614047Z",
     "iopub.status.busy": "2021-03-21T23:13:29.613541Z",
     "iopub.status.idle": "2021-03-21T23:13:29.616993Z",
     "shell.execute_reply": "2021-03-21T23:13:29.616537Z"
    }
   },
   "outputs": [],
   "source": [
    "doses = dataJson[0]['dataValues'][3:61]"
   ]
  },
  {
   "cell_type": "markdown",
   "metadata": {},
   "source": [
    "Data formatting"
   ]
  },
  {
   "cell_type": "code",
   "execution_count": 8,
   "metadata": {
    "execution": {
     "iopub.execute_input": "2021-03-21T23:13:29.620369Z",
     "iopub.status.busy": "2021-03-21T23:13:29.619838Z",
     "iopub.status.idle": "2021-03-21T23:13:29.623312Z",
     "shell.execute_reply": "2021-03-21T23:13:29.623709Z"
    }
   },
   "outputs": [],
   "source": [
    "zipped = dict(zip(counties, doses))"
   ]
  },
  {
   "cell_type": "code",
   "execution_count": 9,
   "metadata": {
    "execution": {
     "iopub.execute_input": "2021-03-21T23:13:29.629142Z",
     "iopub.status.busy": "2021-03-21T23:13:29.628676Z",
     "iopub.status.idle": "2021-03-21T23:13:29.632499Z",
     "shell.execute_reply": "2021-03-21T23:13:29.632023Z"
    }
   },
   "outputs": [],
   "source": [
    "df = pd.Series(zipped).reset_index()"
   ]
  },
  {
   "cell_type": "code",
   "execution_count": 10,
   "metadata": {
    "execution": {
     "iopub.execute_input": "2021-03-21T23:13:29.636014Z",
     "iopub.status.busy": "2021-03-21T23:13:29.635547Z",
     "iopub.status.idle": "2021-03-21T23:13:29.638456Z",
     "shell.execute_reply": "2021-03-21T23:13:29.638883Z"
    }
   },
   "outputs": [],
   "source": [
    "df.columns = ['location','doses']"
   ]
  },
  {
   "cell_type": "markdown",
   "metadata": {},
   "source": [
    "Grab the overall California total"
   ]
  },
  {
   "cell_type": "code",
   "execution_count": 11,
   "metadata": {
    "execution": {
     "iopub.execute_input": "2021-03-21T23:13:29.642318Z",
     "iopub.status.busy": "2021-03-21T23:13:29.641853Z",
     "iopub.status.idle": "2021-03-21T23:13:29.645090Z",
     "shell.execute_reply": "2021-03-21T23:13:29.645456Z"
    }
   },
   "outputs": [],
   "source": [
    "add = {'location':'California','doses':dataJson[0]['dataValues'][2]}"
   ]
  },
  {
   "cell_type": "code",
   "execution_count": 12,
   "metadata": {
    "execution": {
     "iopub.execute_input": "2021-03-21T23:13:29.651381Z",
     "iopub.status.busy": "2021-03-21T23:13:29.650877Z",
     "iopub.status.idle": "2021-03-21T23:13:29.654319Z",
     "shell.execute_reply": "2021-03-21T23:13:29.653895Z"
    }
   },
   "outputs": [],
   "source": [
    "df = df.append(add, ignore_index=True)"
   ]
  },
  {
   "cell_type": "code",
   "execution_count": 13,
   "metadata": {
    "execution": {
     "iopub.execute_input": "2021-03-21T23:13:29.658096Z",
     "iopub.status.busy": "2021-03-21T23:13:29.657596Z",
     "iopub.status.idle": "2021-03-21T23:13:29.661710Z",
     "shell.execute_reply": "2021-03-21T23:13:29.661289Z"
    }
   },
   "outputs": [],
   "source": [
    "df = df.sort_values(by='location')"
   ]
  },
  {
   "cell_type": "code",
   "execution_count": 14,
   "metadata": {
    "execution": {
     "iopub.execute_input": "2021-03-21T23:13:29.666872Z",
     "iopub.status.busy": "2021-03-21T23:13:29.666378Z",
     "iopub.status.idle": "2021-03-21T23:13:29.670181Z",
     "shell.execute_reply": "2021-03-21T23:13:29.670553Z"
    }
   },
   "outputs": [],
   "source": [
    "df = df[df.location == 'California'].append(df[df.location != 'California']).reset_index(drop=True)"
   ]
  },
  {
   "cell_type": "code",
   "execution_count": null,
   "metadata": {},
   "outputs": [],
   "source": []
  },
  {
   "cell_type": "code",
   "execution_count": 15,
   "metadata": {
    "execution": {
     "iopub.execute_input": "2021-03-21T23:13:29.673779Z",
     "iopub.status.busy": "2021-03-21T23:13:29.672904Z",
     "iopub.status.idle": "2021-03-21T23:13:29.689629Z",
     "shell.execute_reply": "2021-03-21T23:13:29.688842Z"
    }
   },
   "outputs": [],
   "source": [
    "tz = pytz.timezone(\"America/New_York\")"
   ]
  },
  {
   "cell_type": "code",
   "execution_count": 16,
   "metadata": {
    "execution": {
     "iopub.execute_input": "2021-03-21T23:13:29.692632Z",
     "iopub.status.busy": "2021-03-21T23:13:29.692189Z",
     "iopub.status.idle": "2021-03-21T23:13:29.696405Z",
     "shell.execute_reply": "2021-03-21T23:13:29.695935Z"
    }
   },
   "outputs": [],
   "source": [
    "today = datetime.now(tz).date()"
   ]
  },
  {
   "cell_type": "code",
   "execution_count": 17,
   "metadata": {
    "execution": {
     "iopub.execute_input": "2021-03-21T23:13:29.700111Z",
     "iopub.status.busy": "2021-03-21T23:13:29.699603Z",
     "iopub.status.idle": "2021-03-21T23:13:29.704934Z",
     "shell.execute_reply": "2021-03-21T23:13:29.704121Z"
    }
   },
   "outputs": [],
   "source": [
    "data_dir = os.path.join(os.path.abspath(\"\"), \"data\")"
   ]
  },
  {
   "cell_type": "code",
   "execution_count": 18,
   "metadata": {
    "execution": {
     "iopub.execute_input": "2021-03-21T23:13:29.709152Z",
     "iopub.status.busy": "2021-03-21T23:13:29.708043Z",
     "iopub.status.idle": "2021-03-21T23:13:29.712453Z",
     "shell.execute_reply": "2021-03-21T23:13:29.712883Z"
    }
   },
   "outputs": [],
   "source": [
    "df.to_csv(os.path.join(data_dir, f\"{today}.csv\"), index=False)"
   ]
  },
  {
   "cell_type": "code",
   "execution_count": null,
   "metadata": {},
   "outputs": [],
   "source": []
  }
 ],
 "metadata": {
  "kernelspec": {
   "display_name": "Python 3",
   "language": "python",
   "name": "python3"
  },
  "language_info": {
   "codemirror_mode": {
    "name": "ipython",
    "version": 3
   },
   "file_extension": ".py",
   "mimetype": "text/x-python",
   "name": "python",
   "nbconvert_exporter": "python",
   "pygments_lexer": "ipython3",
   "version": "3.8.8"
  }
 },
 "nbformat": 4,
 "nbformat_minor": 4
}
