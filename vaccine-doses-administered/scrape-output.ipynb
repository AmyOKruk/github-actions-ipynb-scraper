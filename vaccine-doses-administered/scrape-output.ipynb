{
 "cells": [
  {
   "cell_type": "markdown",
   "metadata": {},
   "source": [
    "# California COVID vaccinations scrape"
   ]
  },
  {
   "cell_type": "markdown",
   "metadata": {},
   "source": [
    "By [Amy O'Kruk](https://twitter.com/amyokruk)"
   ]
  },
  {
   "cell_type": "markdown",
   "metadata": {},
   "source": [
    "Downloads data on vaccine doses administered by county and statewide from a Tableau-powered dashboard from the California Department of Public Health."
   ]
  },
  {
   "cell_type": "code",
   "execution_count": 1,
   "metadata": {
    "execution": {
     "iopub.execute_input": "2021-03-20T04:16:08.134736Z",
     "iopub.status.busy": "2021-03-20T04:16:08.133989Z",
     "iopub.status.idle": "2021-03-20T04:16:08.565776Z",
     "shell.execute_reply": "2021-03-20T04:16:08.565181Z"
    }
   },
   "outputs": [],
   "source": [
    "import pandas as pd\n",
    "import requests\n",
    "from bs4 import BeautifulSoup\n",
    "import json\n",
    "import re\n",
    "import time\n",
    "from time import gmtime, strftime \n",
    "import os\n",
    "import pytz\n",
    "from datetime import datetime"
   ]
  },
  {
   "cell_type": "markdown",
   "metadata": {},
   "source": [
    "Scrape the dashboard page"
   ]
  },
  {
   "cell_type": "code",
   "execution_count": 2,
   "metadata": {
    "execution": {
     "iopub.execute_input": "2021-03-20T04:16:08.572384Z",
     "iopub.status.busy": "2021-03-20T04:16:08.569239Z",
     "iopub.status.idle": "2021-03-20T04:16:09.379769Z",
     "shell.execute_reply": "2021-03-20T04:16:09.378732Z"
    }
   },
   "outputs": [],
   "source": [
    "url = \"https://public.tableau.com/interactive/views/COVID-19VaccineDashboardPublic/Vaccine?:embed=y&:showVizHome=n&:apiID=host0\"\n",
    "\n",
    "r = requests.get(url)\n",
    "soup = BeautifulSoup(r.text, \"html.parser\")"
   ]
  },
  {
   "cell_type": "code",
   "execution_count": 3,
   "metadata": {
    "execution": {
     "iopub.execute_input": "2021-03-20T04:16:09.385651Z",
     "iopub.status.busy": "2021-03-20T04:16:09.384207Z",
     "iopub.status.idle": "2021-03-20T04:16:09.386315Z",
     "shell.execute_reply": "2021-03-20T04:16:09.386879Z"
    }
   },
   "outputs": [],
   "source": [
    "tableauData = json.loads(soup.find(\"textarea\",{\"id\": \"tsConfigContainer\"}).text)"
   ]
  },
  {
   "cell_type": "markdown",
   "metadata": {},
   "source": [
    "Get the link to the Tableau data"
   ]
  },
  {
   "cell_type": "code",
   "execution_count": 4,
   "metadata": {
    "execution": {
     "iopub.execute_input": "2021-03-20T04:16:09.391297Z",
     "iopub.status.busy": "2021-03-20T04:16:09.390028Z",
     "iopub.status.idle": "2021-03-20T04:16:09.391924Z",
     "shell.execute_reply": "2021-03-20T04:16:09.392401Z"
    }
   },
   "outputs": [],
   "source": [
    "dataUrl = f'https://public.tableau.com{tableauData[\"vizql_root\"]}/bootstrapSession/sessions/{tableauData[\"sessionid\"]}'"
   ]
  },
  {
   "cell_type": "code",
   "execution_count": 5,
   "metadata": {
    "execution": {
     "iopub.execute_input": "2021-03-20T04:16:09.399652Z",
     "iopub.status.busy": "2021-03-20T04:16:09.399069Z",
     "iopub.status.idle": "2021-03-20T04:16:09.663048Z",
     "shell.execute_reply": "2021-03-20T04:16:09.662485Z"
    }
   },
   "outputs": [],
   "source": [
    "r = requests.post(dataUrl, data= {\n",
    "    \"sheet_id\": tableauData[\"sheetId\"],\n",
    "})\n",
    "\n",
    "dataReg = re.search('\\d+;({.*})\\d+;({.*})', r.text, re.MULTILINE)\n",
    "data1 = json.loads(dataReg.group(2))\n",
    "\n",
    "dataJson = data1[\"secondaryInfo\"][\"presModelMap\"][\"dataDictionary\"][\"presModelHolder\"][\"genDataDictionaryPresModel\"][\"dataSegments\"][\"0\"][\"dataColumns\"]"
   ]
  },
  {
   "cell_type": "markdown",
   "metadata": {},
   "source": [
    "Isolate what you want"
   ]
  },
  {
   "cell_type": "code",
   "execution_count": 6,
   "metadata": {
    "execution": {
     "iopub.execute_input": "2021-03-20T04:16:09.667768Z",
     "iopub.status.busy": "2021-03-20T04:16:09.666477Z",
     "iopub.status.idle": "2021-03-20T04:16:09.668593Z",
     "shell.execute_reply": "2021-03-20T04:16:09.669301Z"
    }
   },
   "outputs": [],
   "source": [
    "counties = dataJson[2]['dataValues'][:58]"
   ]
  },
  {
   "cell_type": "code",
   "execution_count": 7,
   "metadata": {
    "execution": {
     "iopub.execute_input": "2021-03-20T04:16:09.673898Z",
     "iopub.status.busy": "2021-03-20T04:16:09.672537Z",
     "iopub.status.idle": "2021-03-20T04:16:09.674554Z",
     "shell.execute_reply": "2021-03-20T04:16:09.675037Z"
    }
   },
   "outputs": [],
   "source": [
    "doses = dataJson[0]['dataValues'][3:61]"
   ]
  },
  {
   "cell_type": "markdown",
   "metadata": {},
   "source": [
    "Data formatting"
   ]
  },
  {
   "cell_type": "code",
   "execution_count": 8,
   "metadata": {
    "execution": {
     "iopub.execute_input": "2021-03-20T04:16:09.679536Z",
     "iopub.status.busy": "2021-03-20T04:16:09.678213Z",
     "iopub.status.idle": "2021-03-20T04:16:09.680162Z",
     "shell.execute_reply": "2021-03-20T04:16:09.680640Z"
    }
   },
   "outputs": [],
   "source": [
    "zipped = dict(zip(counties, doses))"
   ]
  },
  {
   "cell_type": "code",
   "execution_count": 9,
   "metadata": {
    "execution": {
     "iopub.execute_input": "2021-03-20T04:16:09.687375Z",
     "iopub.status.busy": "2021-03-20T04:16:09.685989Z",
     "iopub.status.idle": "2021-03-20T04:16:09.688001Z",
     "shell.execute_reply": "2021-03-20T04:16:09.688480Z"
    }
   },
   "outputs": [],
   "source": [
    "df = pd.Series(zipped).reset_index()"
   ]
  },
  {
   "cell_type": "code",
   "execution_count": 10,
   "metadata": {
    "execution": {
     "iopub.execute_input": "2021-03-20T04:16:09.693076Z",
     "iopub.status.busy": "2021-03-20T04:16:09.691742Z",
     "iopub.status.idle": "2021-03-20T04:16:09.693705Z",
     "shell.execute_reply": "2021-03-20T04:16:09.694268Z"
    }
   },
   "outputs": [],
   "source": [
    "df.columns = ['location','doses']"
   ]
  },
  {
   "cell_type": "markdown",
   "metadata": {},
   "source": [
    "Grab the overall California total"
   ]
  },
  {
   "cell_type": "code",
   "execution_count": 11,
   "metadata": {
    "execution": {
     "iopub.execute_input": "2021-03-20T04:16:09.699916Z",
     "iopub.status.busy": "2021-03-20T04:16:09.698303Z",
     "iopub.status.idle": "2021-03-20T04:16:09.700601Z",
     "shell.execute_reply": "2021-03-20T04:16:09.701091Z"
    }
   },
   "outputs": [],
   "source": [
    "add = {'location':'California','doses':dataJson[0]['dataValues'][2]}"
   ]
  },
  {
   "cell_type": "code",
   "execution_count": 12,
   "metadata": {
    "execution": {
     "iopub.execute_input": "2021-03-20T04:16:09.708959Z",
     "iopub.status.busy": "2021-03-20T04:16:09.707448Z",
     "iopub.status.idle": "2021-03-20T04:16:09.709583Z",
     "shell.execute_reply": "2021-03-20T04:16:09.710099Z"
    }
   },
   "outputs": [],
   "source": [
    "df = df.append(add, ignore_index=True)"
   ]
  },
  {
   "cell_type": "code",
   "execution_count": 13,
   "metadata": {
    "execution": {
     "iopub.execute_input": "2021-03-20T04:16:09.715472Z",
     "iopub.status.busy": "2021-03-20T04:16:09.714125Z",
     "iopub.status.idle": "2021-03-20T04:16:09.716169Z",
     "shell.execute_reply": "2021-03-20T04:16:09.716651Z"
    }
   },
   "outputs": [],
   "source": [
    "df = df.sort_values(by='location')"
   ]
  },
  {
   "cell_type": "code",
   "execution_count": 14,
   "metadata": {
    "execution": {
     "iopub.execute_input": "2021-03-20T04:16:09.723509Z",
     "iopub.status.busy": "2021-03-20T04:16:09.722139Z",
     "iopub.status.idle": "2021-03-20T04:16:09.724206Z",
     "shell.execute_reply": "2021-03-20T04:16:09.724688Z"
    }
   },
   "outputs": [],
   "source": [
    "df = df[df.location == 'California'].append(df[df.location != 'California']).reset_index(drop=True)"
   ]
  },
  {
   "cell_type": "code",
   "execution_count": null,
   "metadata": {},
   "outputs": [],
   "source": []
  },
  {
   "cell_type": "code",
   "execution_count": 15,
   "metadata": {
    "execution": {
     "iopub.execute_input": "2021-03-20T04:16:09.728452Z",
     "iopub.status.busy": "2021-03-20T04:16:09.727632Z",
     "iopub.status.idle": "2021-03-20T04:16:09.747970Z",
     "shell.execute_reply": "2021-03-20T04:16:09.747401Z"
    }
   },
   "outputs": [],
   "source": [
    "tz = pytz.timezone(\"America/New_York\")"
   ]
  },
  {
   "cell_type": "code",
   "execution_count": 16,
   "metadata": {
    "execution": {
     "iopub.execute_input": "2021-03-20T04:16:09.752648Z",
     "iopub.status.busy": "2021-03-20T04:16:09.751267Z",
     "iopub.status.idle": "2021-03-20T04:16:09.753283Z",
     "shell.execute_reply": "2021-03-20T04:16:09.753768Z"
    }
   },
   "outputs": [],
   "source": [
    "today = datetime.now(tz).date()"
   ]
  },
  {
   "cell_type": "code",
   "execution_count": 17,
   "metadata": {
    "execution": {
     "iopub.execute_input": "2021-03-20T04:16:09.758465Z",
     "iopub.status.busy": "2021-03-20T04:16:09.757035Z",
     "iopub.status.idle": "2021-03-20T04:16:09.759178Z",
     "shell.execute_reply": "2021-03-20T04:16:09.759669Z"
    }
   },
   "outputs": [],
   "source": [
    "data_dir = os.path.join(os.path.abspath(\"\"), \"data\")"
   ]
  },
  {
   "cell_type": "code",
   "execution_count": 18,
   "metadata": {
    "execution": {
     "iopub.execute_input": "2021-03-20T04:16:09.765233Z",
     "iopub.status.busy": "2021-03-20T04:16:09.764093Z",
     "iopub.status.idle": "2021-03-20T04:16:09.767693Z",
     "shell.execute_reply": "2021-03-20T04:16:09.767117Z"
    }
   },
   "outputs": [],
   "source": [
    "df.to_csv(os.path.join(data_dir, f\"{today}.csv\"), index=False)"
   ]
  },
  {
   "cell_type": "code",
   "execution_count": null,
   "metadata": {},
   "outputs": [],
   "source": []
  }
 ],
 "metadata": {
  "kernelspec": {
   "display_name": "Python 3",
   "language": "python",
   "name": "python3"
  },
  "language_info": {
   "codemirror_mode": {
    "name": "ipython",
    "version": 3
   },
   "file_extension": ".py",
   "mimetype": "text/x-python",
   "name": "python",
   "nbconvert_exporter": "python",
   "pygments_lexer": "ipython3",
   "version": "3.8.8"
  }
 },
 "nbformat": 4,
 "nbformat_minor": 4
}
