{
 "cells": [
  {
   "cell_type": "markdown",
   "metadata": {},
   "source": [
    "# California COVID vaccinations scrape"
   ]
  },
  {
   "cell_type": "markdown",
   "metadata": {},
   "source": [
    "By [Amy O'Kruk](https://twitter.com/amyokruk)"
   ]
  },
  {
   "cell_type": "markdown",
   "metadata": {},
   "source": [
    "Downloads data on vaccine doses administered by county and statewide from a Tableau-powered dashboard from the California Department of Public Health."
   ]
  },
  {
   "cell_type": "code",
   "execution_count": 1,
   "metadata": {
    "execution": {
     "iopub.execute_input": "2021-03-13T03:43:57.365058Z",
     "iopub.status.busy": "2021-03-13T03:43:57.364459Z",
     "iopub.status.idle": "2021-03-13T03:43:57.760549Z",
     "shell.execute_reply": "2021-03-13T03:43:57.759992Z"
    }
   },
   "outputs": [],
   "source": [
    "import pandas as pd\n",
    "import requests\n",
    "from bs4 import BeautifulSoup\n",
    "import json\n",
    "import re\n",
    "import time\n",
    "from time import gmtime, strftime \n",
    "import os\n",
    "import pytz\n",
    "from datetime import datetime"
   ]
  },
  {
   "cell_type": "markdown",
   "metadata": {},
   "source": [
    "Scrape the dashboard page"
   ]
  },
  {
   "cell_type": "code",
   "execution_count": 2,
   "metadata": {
    "execution": {
     "iopub.execute_input": "2021-03-13T03:43:57.766586Z",
     "iopub.status.busy": "2021-03-13T03:43:57.764082Z",
     "iopub.status.idle": "2021-03-13T03:43:58.404169Z",
     "shell.execute_reply": "2021-03-13T03:43:58.403618Z"
    }
   },
   "outputs": [],
   "source": [
    "url = \"https://public.tableau.com/interactive/views/COVID-19VaccineDashboardPublic/Vaccine?:embed=y&:showVizHome=n&:apiID=host0\"\n",
    "\n",
    "r = requests.get(url)\n",
    "soup = BeautifulSoup(r.text, \"html.parser\")"
   ]
  },
  {
   "cell_type": "code",
   "execution_count": 3,
   "metadata": {
    "execution": {
     "iopub.execute_input": "2021-03-13T03:43:58.410247Z",
     "iopub.status.busy": "2021-03-13T03:43:58.408789Z",
     "iopub.status.idle": "2021-03-13T03:43:58.410913Z",
     "shell.execute_reply": "2021-03-13T03:43:58.411389Z"
    }
   },
   "outputs": [],
   "source": [
    "tableauData = json.loads(soup.find(\"textarea\",{\"id\": \"tsConfigContainer\"}).text)"
   ]
  },
  {
   "cell_type": "markdown",
   "metadata": {},
   "source": [
    "Get the link to the Tableau data"
   ]
  },
  {
   "cell_type": "code",
   "execution_count": 4,
   "metadata": {
    "execution": {
     "iopub.execute_input": "2021-03-13T03:43:58.416287Z",
     "iopub.status.busy": "2021-03-13T03:43:58.414577Z",
     "iopub.status.idle": "2021-03-13T03:43:58.417095Z",
     "shell.execute_reply": "2021-03-13T03:43:58.417699Z"
    }
   },
   "outputs": [],
   "source": [
    "dataUrl = f'https://public.tableau.com{tableauData[\"vizql_root\"]}/bootstrapSession/sessions/{tableauData[\"sessionid\"]}'"
   ]
  },
  {
   "cell_type": "code",
   "execution_count": 5,
   "metadata": {
    "execution": {
     "iopub.execute_input": "2021-03-13T03:43:58.424614Z",
     "iopub.status.busy": "2021-03-13T03:43:58.424038Z",
     "iopub.status.idle": "2021-03-13T03:43:58.709206Z",
     "shell.execute_reply": "2021-03-13T03:43:58.708734Z"
    }
   },
   "outputs": [],
   "source": [
    "r = requests.post(dataUrl, data= {\n",
    "    \"sheet_id\": tableauData[\"sheetId\"],\n",
    "})\n",
    "\n",
    "dataReg = re.search('\\d+;({.*})\\d+;({.*})', r.text, re.MULTILINE)\n",
    "data1 = json.loads(dataReg.group(2))\n",
    "\n",
    "dataJson = data1[\"secondaryInfo\"][\"presModelMap\"][\"dataDictionary\"][\"presModelHolder\"][\"genDataDictionaryPresModel\"][\"dataSegments\"][\"0\"][\"dataColumns\"]"
   ]
  },
  {
   "cell_type": "markdown",
   "metadata": {},
   "source": [
    "Isolate what you want"
   ]
  },
  {
   "cell_type": "code",
   "execution_count": 6,
   "metadata": {
    "execution": {
     "iopub.execute_input": "2021-03-13T03:43:58.713877Z",
     "iopub.status.busy": "2021-03-13T03:43:58.712557Z",
     "iopub.status.idle": "2021-03-13T03:43:58.714516Z",
     "shell.execute_reply": "2021-03-13T03:43:58.715137Z"
    }
   },
   "outputs": [],
   "source": [
    "counties = dataJson[2]['dataValues'][:58]"
   ]
  },
  {
   "cell_type": "code",
   "execution_count": 7,
   "metadata": {
    "execution": {
     "iopub.execute_input": "2021-03-13T03:43:58.720277Z",
     "iopub.status.busy": "2021-03-13T03:43:58.718969Z",
     "iopub.status.idle": "2021-03-13T03:43:58.721041Z",
     "shell.execute_reply": "2021-03-13T03:43:58.722999Z"
    }
   },
   "outputs": [],
   "source": [
    "doses = dataJson[0]['dataValues'][3:61]"
   ]
  },
  {
   "cell_type": "markdown",
   "metadata": {},
   "source": [
    "Data formatting"
   ]
  },
  {
   "cell_type": "code",
   "execution_count": 8,
   "metadata": {
    "execution": {
     "iopub.execute_input": "2021-03-13T03:43:58.728257Z",
     "iopub.status.busy": "2021-03-13T03:43:58.726680Z",
     "iopub.status.idle": "2021-03-13T03:43:58.728843Z",
     "shell.execute_reply": "2021-03-13T03:43:58.729253Z"
    }
   },
   "outputs": [],
   "source": [
    "zipped = dict(zip(counties, doses))"
   ]
  },
  {
   "cell_type": "code",
   "execution_count": 9,
   "metadata": {
    "execution": {
     "iopub.execute_input": "2021-03-13T03:43:58.736654Z",
     "iopub.status.busy": "2021-03-13T03:43:58.735405Z",
     "iopub.status.idle": "2021-03-13T03:43:58.737248Z",
     "shell.execute_reply": "2021-03-13T03:43:58.737739Z"
    }
   },
   "outputs": [],
   "source": [
    "df = pd.Series(zipped).reset_index()"
   ]
  },
  {
   "cell_type": "code",
   "execution_count": 10,
   "metadata": {
    "execution": {
     "iopub.execute_input": "2021-03-13T03:43:58.742269Z",
     "iopub.status.busy": "2021-03-13T03:43:58.741007Z",
     "iopub.status.idle": "2021-03-13T03:43:58.742884Z",
     "shell.execute_reply": "2021-03-13T03:43:58.743373Z"
    }
   },
   "outputs": [],
   "source": [
    "df.columns = ['location','doses']"
   ]
  },
  {
   "cell_type": "markdown",
   "metadata": {},
   "source": [
    "Grab the overall California total"
   ]
  },
  {
   "cell_type": "code",
   "execution_count": 11,
   "metadata": {
    "execution": {
     "iopub.execute_input": "2021-03-13T03:43:58.748819Z",
     "iopub.status.busy": "2021-03-13T03:43:58.748218Z",
     "iopub.status.idle": "2021-03-13T03:43:58.749848Z",
     "shell.execute_reply": "2021-03-13T03:43:58.749304Z"
    }
   },
   "outputs": [],
   "source": [
    "add = {'location':'California','doses':dataJson[0]['dataValues'][2]}"
   ]
  },
  {
   "cell_type": "code",
   "execution_count": 12,
   "metadata": {
    "execution": {
     "iopub.execute_input": "2021-03-13T03:43:58.756730Z",
     "iopub.status.busy": "2021-03-13T03:43:58.755681Z",
     "iopub.status.idle": "2021-03-13T03:43:58.757567Z",
     "shell.execute_reply": "2021-03-13T03:43:58.757968Z"
    }
   },
   "outputs": [],
   "source": [
    "df = df.append(add, ignore_index=True)"
   ]
  },
  {
   "cell_type": "code",
   "execution_count": 13,
   "metadata": {
    "execution": {
     "iopub.execute_input": "2021-03-13T03:43:58.762693Z",
     "iopub.status.busy": "2021-03-13T03:43:58.761621Z",
     "iopub.status.idle": "2021-03-13T03:43:58.763330Z",
     "shell.execute_reply": "2021-03-13T03:43:58.763781Z"
    }
   },
   "outputs": [],
   "source": [
    "df = df.sort_values(by='location')"
   ]
  },
  {
   "cell_type": "code",
   "execution_count": 14,
   "metadata": {
    "execution": {
     "iopub.execute_input": "2021-03-13T03:43:58.769588Z",
     "iopub.status.busy": "2021-03-13T03:43:58.768651Z",
     "iopub.status.idle": "2021-03-13T03:43:58.770413Z",
     "shell.execute_reply": "2021-03-13T03:43:58.770814Z"
    }
   },
   "outputs": [],
   "source": [
    "df = df[df.location == 'California'].append(df[df.location != 'California']).reset_index(drop=True)"
   ]
  },
  {
   "cell_type": "code",
   "execution_count": null,
   "metadata": {},
   "outputs": [],
   "source": []
  },
  {
   "cell_type": "code",
   "execution_count": 15,
   "metadata": {
    "execution": {
     "iopub.execute_input": "2021-03-13T03:43:58.773763Z",
     "iopub.status.busy": "2021-03-13T03:43:58.773245Z",
     "iopub.status.idle": "2021-03-13T03:43:58.789850Z",
     "shell.execute_reply": "2021-03-13T03:43:58.789394Z"
    }
   },
   "outputs": [],
   "source": [
    "tz = pytz.timezone(\"America/New_York\")"
   ]
  },
  {
   "cell_type": "code",
   "execution_count": 16,
   "metadata": {
    "execution": {
     "iopub.execute_input": "2021-03-13T03:43:58.793838Z",
     "iopub.status.busy": "2021-03-13T03:43:58.792819Z",
     "iopub.status.idle": "2021-03-13T03:43:58.794694Z",
     "shell.execute_reply": "2021-03-13T03:43:58.795111Z"
    }
   },
   "outputs": [],
   "source": [
    "today = datetime.now(tz).date()"
   ]
  },
  {
   "cell_type": "code",
   "execution_count": 17,
   "metadata": {
    "execution": {
     "iopub.execute_input": "2021-03-13T03:43:58.799506Z",
     "iopub.status.busy": "2021-03-13T03:43:58.798180Z",
     "iopub.status.idle": "2021-03-13T03:43:58.800191Z",
     "shell.execute_reply": "2021-03-13T03:43:58.800587Z"
    }
   },
   "outputs": [],
   "source": [
    "data_dir = os.path.join(os.path.abspath(\"\"), \"data\")"
   ]
  },
  {
   "cell_type": "code",
   "execution_count": 18,
   "metadata": {
    "execution": {
     "iopub.execute_input": "2021-03-13T03:43:58.803651Z",
     "iopub.status.busy": "2021-03-13T03:43:58.802263Z",
     "iopub.status.idle": "2021-03-13T03:43:58.809656Z",
     "shell.execute_reply": "2021-03-13T03:43:58.808769Z"
    }
   },
   "outputs": [],
   "source": [
    "df.to_csv(os.path.join(data_dir, f\"{today}.csv\"), index=False)"
   ]
  },
  {
   "cell_type": "code",
   "execution_count": null,
   "metadata": {},
   "outputs": [],
   "source": []
  }
 ],
 "metadata": {
  "kernelspec": {
   "display_name": "Python 3",
   "language": "python",
   "name": "python3"
  },
  "language_info": {
   "codemirror_mode": {
    "name": "ipython",
    "version": 3
   },
   "file_extension": ".py",
   "mimetype": "text/x-python",
   "name": "python",
   "nbconvert_exporter": "python",
   "pygments_lexer": "ipython3",
   "version": "3.8.8"
  }
 },
 "nbformat": 4,
 "nbformat_minor": 4
}
