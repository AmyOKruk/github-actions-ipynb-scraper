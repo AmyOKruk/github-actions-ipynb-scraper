{
 "cells": [
  {
   "cell_type": "markdown",
   "metadata": {},
   "source": [
    "# California COVID vaccinations scrape"
   ]
  },
  {
   "cell_type": "markdown",
   "metadata": {},
   "source": [
    "By [Amy O'Kruk](https://twitter.com/amyokruk)"
   ]
  },
  {
   "cell_type": "markdown",
   "metadata": {},
   "source": [
    "Downloads data on vaccine doses administered by county and statewide from a Tableau-powered dashboard from the California Department of Public Health."
   ]
  },
  {
   "cell_type": "code",
   "execution_count": 1,
   "metadata": {
    "execution": {
     "iopub.execute_input": "2021-03-13T23:43:14.949396Z",
     "iopub.status.busy": "2021-03-13T23:43:14.948885Z",
     "iopub.status.idle": "2021-03-13T23:43:15.267849Z",
     "shell.execute_reply": "2021-03-13T23:43:15.266946Z"
    }
   },
   "outputs": [],
   "source": [
    "import pandas as pd\n",
    "import requests\n",
    "from bs4 import BeautifulSoup\n",
    "import json\n",
    "import re\n",
    "import time\n",
    "from time import gmtime, strftime \n",
    "import os\n",
    "import pytz\n",
    "from datetime import datetime"
   ]
  },
  {
   "cell_type": "markdown",
   "metadata": {},
   "source": [
    "Scrape the dashboard page"
   ]
  },
  {
   "cell_type": "code",
   "execution_count": 2,
   "metadata": {
    "execution": {
     "iopub.execute_input": "2021-03-13T23:43:15.271649Z",
     "iopub.status.busy": "2021-03-13T23:43:15.270822Z",
     "iopub.status.idle": "2021-03-13T23:43:15.760903Z",
     "shell.execute_reply": "2021-03-13T23:43:15.760005Z"
    }
   },
   "outputs": [],
   "source": [
    "url = \"https://public.tableau.com/interactive/views/COVID-19VaccineDashboardPublic/Vaccine?:embed=y&:showVizHome=n&:apiID=host0\"\n",
    "\n",
    "r = requests.get(url)\n",
    "soup = BeautifulSoup(r.text, \"html.parser\")"
   ]
  },
  {
   "cell_type": "code",
   "execution_count": 3,
   "metadata": {
    "execution": {
     "iopub.execute_input": "2021-03-13T23:43:15.764975Z",
     "iopub.status.busy": "2021-03-13T23:43:15.764529Z",
     "iopub.status.idle": "2021-03-13T23:43:15.767127Z",
     "shell.execute_reply": "2021-03-13T23:43:15.767496Z"
    }
   },
   "outputs": [],
   "source": [
    "tableauData = json.loads(soup.find(\"textarea\",{\"id\": \"tsConfigContainer\"}).text)"
   ]
  },
  {
   "cell_type": "markdown",
   "metadata": {},
   "source": [
    "Get the link to the Tableau data"
   ]
  },
  {
   "cell_type": "code",
   "execution_count": 4,
   "metadata": {
    "execution": {
     "iopub.execute_input": "2021-03-13T23:43:15.770576Z",
     "iopub.status.busy": "2021-03-13T23:43:15.770139Z",
     "iopub.status.idle": "2021-03-13T23:43:15.773021Z",
     "shell.execute_reply": "2021-03-13T23:43:15.772615Z"
    }
   },
   "outputs": [],
   "source": [
    "dataUrl = f'https://public.tableau.com{tableauData[\"vizql_root\"]}/bootstrapSession/sessions/{tableauData[\"sessionid\"]}'"
   ]
  },
  {
   "cell_type": "code",
   "execution_count": 5,
   "metadata": {
    "execution": {
     "iopub.execute_input": "2021-03-13T23:43:15.778380Z",
     "iopub.status.busy": "2021-03-13T23:43:15.777937Z",
     "iopub.status.idle": "2021-03-13T23:43:16.046609Z",
     "shell.execute_reply": "2021-03-13T23:43:16.046171Z"
    }
   },
   "outputs": [],
   "source": [
    "r = requests.post(dataUrl, data= {\n",
    "    \"sheet_id\": tableauData[\"sheetId\"],\n",
    "})\n",
    "\n",
    "dataReg = re.search('\\d+;({.*})\\d+;({.*})', r.text, re.MULTILINE)\n",
    "data1 = json.loads(dataReg.group(2))\n",
    "\n",
    "dataJson = data1[\"secondaryInfo\"][\"presModelMap\"][\"dataDictionary\"][\"presModelHolder\"][\"genDataDictionaryPresModel\"][\"dataSegments\"][\"0\"][\"dataColumns\"]"
   ]
  },
  {
   "cell_type": "markdown",
   "metadata": {},
   "source": [
    "Isolate what you want"
   ]
  },
  {
   "cell_type": "code",
   "execution_count": 6,
   "metadata": {
    "execution": {
     "iopub.execute_input": "2021-03-13T23:43:16.050070Z",
     "iopub.status.busy": "2021-03-13T23:43:16.049593Z",
     "iopub.status.idle": "2021-03-13T23:43:16.052314Z",
     "shell.execute_reply": "2021-03-13T23:43:16.052683Z"
    }
   },
   "outputs": [],
   "source": [
    "counties = dataJson[2]['dataValues'][:58]"
   ]
  },
  {
   "cell_type": "code",
   "execution_count": 7,
   "metadata": {
    "execution": {
     "iopub.execute_input": "2021-03-13T23:43:16.055990Z",
     "iopub.status.busy": "2021-03-13T23:43:16.055523Z",
     "iopub.status.idle": "2021-03-13T23:43:16.058500Z",
     "shell.execute_reply": "2021-03-13T23:43:16.058103Z"
    }
   },
   "outputs": [],
   "source": [
    "doses = dataJson[0]['dataValues'][3:61]"
   ]
  },
  {
   "cell_type": "markdown",
   "metadata": {},
   "source": [
    "Data formatting"
   ]
  },
  {
   "cell_type": "code",
   "execution_count": 8,
   "metadata": {
    "execution": {
     "iopub.execute_input": "2021-03-13T23:43:16.061588Z",
     "iopub.status.busy": "2021-03-13T23:43:16.061150Z",
     "iopub.status.idle": "2021-03-13T23:43:16.064178Z",
     "shell.execute_reply": "2021-03-13T23:43:16.063601Z"
    }
   },
   "outputs": [],
   "source": [
    "zipped = dict(zip(counties, doses))"
   ]
  },
  {
   "cell_type": "code",
   "execution_count": 9,
   "metadata": {
    "execution": {
     "iopub.execute_input": "2021-03-13T23:43:16.069128Z",
     "iopub.status.busy": "2021-03-13T23:43:16.068694Z",
     "iopub.status.idle": "2021-03-13T23:43:16.071205Z",
     "shell.execute_reply": "2021-03-13T23:43:16.071795Z"
    }
   },
   "outputs": [],
   "source": [
    "df = pd.Series(zipped).reset_index()"
   ]
  },
  {
   "cell_type": "code",
   "execution_count": 10,
   "metadata": {
    "execution": {
     "iopub.execute_input": "2021-03-13T23:43:16.074862Z",
     "iopub.status.busy": "2021-03-13T23:43:16.074427Z",
     "iopub.status.idle": "2021-03-13T23:43:16.077383Z",
     "shell.execute_reply": "2021-03-13T23:43:16.076998Z"
    }
   },
   "outputs": [],
   "source": [
    "df.columns = ['location','doses']"
   ]
  },
  {
   "cell_type": "markdown",
   "metadata": {},
   "source": [
    "Grab the overall California total"
   ]
  },
  {
   "cell_type": "code",
   "execution_count": 11,
   "metadata": {
    "execution": {
     "iopub.execute_input": "2021-03-13T23:43:16.080478Z",
     "iopub.status.busy": "2021-03-13T23:43:16.080042Z",
     "iopub.status.idle": "2021-03-13T23:43:16.082535Z",
     "shell.execute_reply": "2021-03-13T23:43:16.083072Z"
    }
   },
   "outputs": [],
   "source": [
    "add = {'location':'California','doses':dataJson[0]['dataValues'][2]}"
   ]
  },
  {
   "cell_type": "code",
   "execution_count": 12,
   "metadata": {
    "execution": {
     "iopub.execute_input": "2021-03-13T23:43:16.088569Z",
     "iopub.status.busy": "2021-03-13T23:43:16.088122Z",
     "iopub.status.idle": "2021-03-13T23:43:16.091186Z",
     "shell.execute_reply": "2021-03-13T23:43:16.090619Z"
    }
   },
   "outputs": [],
   "source": [
    "df = df.append(add, ignore_index=True)"
   ]
  },
  {
   "cell_type": "code",
   "execution_count": 13,
   "metadata": {
    "execution": {
     "iopub.execute_input": "2021-03-13T23:43:16.094844Z",
     "iopub.status.busy": "2021-03-13T23:43:16.094408Z",
     "iopub.status.idle": "2021-03-13T23:43:16.097321Z",
     "shell.execute_reply": "2021-03-13T23:43:16.096955Z"
    }
   },
   "outputs": [],
   "source": [
    "df = df.sort_values(by='location')"
   ]
  },
  {
   "cell_type": "code",
   "execution_count": 14,
   "metadata": {
    "execution": {
     "iopub.execute_input": "2021-03-13T23:43:16.102214Z",
     "iopub.status.busy": "2021-03-13T23:43:16.101776Z",
     "iopub.status.idle": "2021-03-13T23:43:16.104299Z",
     "shell.execute_reply": "2021-03-13T23:43:16.104878Z"
    }
   },
   "outputs": [],
   "source": [
    "df = df[df.location == 'California'].append(df[df.location != 'California']).reset_index(drop=True)"
   ]
  },
  {
   "cell_type": "code",
   "execution_count": null,
   "metadata": {},
   "outputs": [],
   "source": []
  },
  {
   "cell_type": "code",
   "execution_count": 15,
   "metadata": {
    "execution": {
     "iopub.execute_input": "2021-03-13T23:43:16.107922Z",
     "iopub.status.busy": "2021-03-13T23:43:16.107437Z",
     "iopub.status.idle": "2021-03-13T23:43:16.123507Z",
     "shell.execute_reply": "2021-03-13T23:43:16.123109Z"
    }
   },
   "outputs": [],
   "source": [
    "tz = pytz.timezone(\"America/New_York\")"
   ]
  },
  {
   "cell_type": "code",
   "execution_count": 16,
   "metadata": {
    "execution": {
     "iopub.execute_input": "2021-03-13T23:43:16.126580Z",
     "iopub.status.busy": "2021-03-13T23:43:16.126143Z",
     "iopub.status.idle": "2021-03-13T23:43:16.128844Z",
     "shell.execute_reply": "2021-03-13T23:43:16.129215Z"
    }
   },
   "outputs": [],
   "source": [
    "today = datetime.now(tz).date()"
   ]
  },
  {
   "cell_type": "code",
   "execution_count": 17,
   "metadata": {
    "execution": {
     "iopub.execute_input": "2021-03-13T23:43:16.132439Z",
     "iopub.status.busy": "2021-03-13T23:43:16.131998Z",
     "iopub.status.idle": "2021-03-13T23:43:16.134567Z",
     "shell.execute_reply": "2021-03-13T23:43:16.134934Z"
    }
   },
   "outputs": [],
   "source": [
    "data_dir = os.path.join(os.path.abspath(\"\"), \"data\")"
   ]
  },
  {
   "cell_type": "code",
   "execution_count": 18,
   "metadata": {
    "execution": {
     "iopub.execute_input": "2021-03-13T23:43:16.138369Z",
     "iopub.status.busy": "2021-03-13T23:43:16.137914Z",
     "iopub.status.idle": "2021-03-13T23:43:16.142815Z",
     "shell.execute_reply": "2021-03-13T23:43:16.142420Z"
    }
   },
   "outputs": [],
   "source": [
    "df.to_csv(os.path.join(data_dir, f\"{today}.csv\"), index=False)"
   ]
  },
  {
   "cell_type": "code",
   "execution_count": null,
   "metadata": {},
   "outputs": [],
   "source": []
  }
 ],
 "metadata": {
  "kernelspec": {
   "display_name": "Python 3",
   "language": "python",
   "name": "python3"
  },
  "language_info": {
   "codemirror_mode": {
    "name": "ipython",
    "version": 3
   },
   "file_extension": ".py",
   "mimetype": "text/x-python",
   "name": "python",
   "nbconvert_exporter": "python",
   "pygments_lexer": "ipython3",
   "version": "3.8.8"
  }
 },
 "nbformat": 4,
 "nbformat_minor": 4
}
