{
 "cells": [
  {
   "cell_type": "markdown",
   "metadata": {},
   "source": [
    "# California COVID vaccinations scrape"
   ]
  },
  {
   "cell_type": "markdown",
   "metadata": {},
   "source": [
    "By [Amy O'Kruk](https://twitter.com/amyokruk)"
   ]
  },
  {
   "cell_type": "markdown",
   "metadata": {},
   "source": [
    "Downloads data on vaccine doses administered by county and statewide from a Tableau-powered dashboard from the California Department of Public Health."
   ]
  },
  {
   "cell_type": "code",
   "execution_count": 1,
   "metadata": {
    "execution": {
     "iopub.execute_input": "2021-03-11T23:43:43.805594Z",
     "iopub.status.busy": "2021-03-11T23:43:43.804497Z",
     "iopub.status.idle": "2021-03-11T23:43:44.125272Z",
     "shell.execute_reply": "2021-03-11T23:43:44.124449Z"
    }
   },
   "outputs": [],
   "source": [
    "import pandas as pd\n",
    "import requests\n",
    "from bs4 import BeautifulSoup\n",
    "import json\n",
    "import re\n",
    "import time\n",
    "from time import gmtime, strftime \n",
    "import os\n",
    "import pytz\n",
    "from datetime import datetime"
   ]
  },
  {
   "cell_type": "markdown",
   "metadata": {},
   "source": [
    "Scrape the dashboard page"
   ]
  },
  {
   "cell_type": "code",
   "execution_count": 2,
   "metadata": {
    "execution": {
     "iopub.execute_input": "2021-03-11T23:43:44.131011Z",
     "iopub.status.busy": "2021-03-11T23:43:44.128517Z",
     "iopub.status.idle": "2021-03-11T23:43:44.575465Z",
     "shell.execute_reply": "2021-03-11T23:43:44.574588Z"
    }
   },
   "outputs": [],
   "source": [
    "url = \"https://public.tableau.com/interactive/views/COVID-19VaccineDashboardPublic/Vaccine?:embed=y&:showVizHome=n&:apiID=host0\"\n",
    "\n",
    "r = requests.get(url)\n",
    "soup = BeautifulSoup(r.text, \"html.parser\")"
   ]
  },
  {
   "cell_type": "code",
   "execution_count": 3,
   "metadata": {
    "execution": {
     "iopub.execute_input": "2021-03-11T23:43:44.579734Z",
     "iopub.status.busy": "2021-03-11T23:43:44.579261Z",
     "iopub.status.idle": "2021-03-11T23:43:44.583004Z",
     "shell.execute_reply": "2021-03-11T23:43:44.582382Z"
    }
   },
   "outputs": [],
   "source": [
    "tableauData = json.loads(soup.find(\"textarea\",{\"id\": \"tsConfigContainer\"}).text)"
   ]
  },
  {
   "cell_type": "markdown",
   "metadata": {},
   "source": [
    "Get the link to the Tableau data"
   ]
  },
  {
   "cell_type": "code",
   "execution_count": 4,
   "metadata": {
    "execution": {
     "iopub.execute_input": "2021-03-11T23:43:44.586481Z",
     "iopub.status.busy": "2021-03-11T23:43:44.586010Z",
     "iopub.status.idle": "2021-03-11T23:43:44.589397Z",
     "shell.execute_reply": "2021-03-11T23:43:44.588999Z"
    }
   },
   "outputs": [],
   "source": [
    "dataUrl = f'https://public.tableau.com{tableauData[\"vizql_root\"]}/bootstrapSession/sessions/{tableauData[\"sessionid\"]}'"
   ]
  },
  {
   "cell_type": "code",
   "execution_count": 5,
   "metadata": {
    "execution": {
     "iopub.execute_input": "2021-03-11T23:43:44.595765Z",
     "iopub.status.busy": "2021-03-11T23:43:44.594887Z",
     "iopub.status.idle": "2021-03-11T23:43:44.835023Z",
     "shell.execute_reply": "2021-03-11T23:43:44.835480Z"
    }
   },
   "outputs": [],
   "source": [
    "r = requests.post(dataUrl, data= {\n",
    "    \"sheet_id\": tableauData[\"sheetId\"],\n",
    "})\n",
    "\n",
    "dataReg = re.search('\\d+;({.*})\\d+;({.*})', r.text, re.MULTILINE)\n",
    "data1 = json.loads(dataReg.group(2))\n",
    "\n",
    "dataJson = data1[\"secondaryInfo\"][\"presModelMap\"][\"dataDictionary\"][\"presModelHolder\"][\"genDataDictionaryPresModel\"][\"dataSegments\"][\"0\"][\"dataColumns\"]"
   ]
  },
  {
   "cell_type": "markdown",
   "metadata": {},
   "source": [
    "Isolate what you want"
   ]
  },
  {
   "cell_type": "code",
   "execution_count": 6,
   "metadata": {
    "execution": {
     "iopub.execute_input": "2021-03-11T23:43:44.839528Z",
     "iopub.status.busy": "2021-03-11T23:43:44.838993Z",
     "iopub.status.idle": "2021-03-11T23:43:44.842898Z",
     "shell.execute_reply": "2021-03-11T23:43:44.842361Z"
    }
   },
   "outputs": [],
   "source": [
    "counties = dataJson[2]['dataValues'][:58]"
   ]
  },
  {
   "cell_type": "code",
   "execution_count": 7,
   "metadata": {
    "execution": {
     "iopub.execute_input": "2021-03-11T23:43:44.846705Z",
     "iopub.status.busy": "2021-03-11T23:43:44.846074Z",
     "iopub.status.idle": "2021-03-11T23:43:44.850063Z",
     "shell.execute_reply": "2021-03-11T23:43:44.850481Z"
    }
   },
   "outputs": [],
   "source": [
    "doses = dataJson[0]['dataValues'][3:61]"
   ]
  },
  {
   "cell_type": "markdown",
   "metadata": {},
   "source": [
    "Data formatting"
   ]
  },
  {
   "cell_type": "code",
   "execution_count": 8,
   "metadata": {
    "execution": {
     "iopub.execute_input": "2021-03-11T23:43:44.854014Z",
     "iopub.status.busy": "2021-03-11T23:43:44.853492Z",
     "iopub.status.idle": "2021-03-11T23:43:44.856752Z",
     "shell.execute_reply": "2021-03-11T23:43:44.857233Z"
    }
   },
   "outputs": [],
   "source": [
    "zipped = dict(zip(counties, doses))"
   ]
  },
  {
   "cell_type": "code",
   "execution_count": 9,
   "metadata": {
    "execution": {
     "iopub.execute_input": "2021-03-11T23:43:44.862878Z",
     "iopub.status.busy": "2021-03-11T23:43:44.862244Z",
     "iopub.status.idle": "2021-03-11T23:43:44.866042Z",
     "shell.execute_reply": "2021-03-11T23:43:44.866490Z"
    }
   },
   "outputs": [],
   "source": [
    "df = pd.Series(zipped).reset_index()"
   ]
  },
  {
   "cell_type": "code",
   "execution_count": 10,
   "metadata": {
    "execution": {
     "iopub.execute_input": "2021-03-11T23:43:44.869965Z",
     "iopub.status.busy": "2021-03-11T23:43:44.869499Z",
     "iopub.status.idle": "2021-03-11T23:43:44.872633Z",
     "shell.execute_reply": "2021-03-11T23:43:44.873052Z"
    }
   },
   "outputs": [],
   "source": [
    "df.columns = ['location','doses']"
   ]
  },
  {
   "cell_type": "markdown",
   "metadata": {},
   "source": [
    "Grab the overall California total"
   ]
  },
  {
   "cell_type": "code",
   "execution_count": 11,
   "metadata": {
    "execution": {
     "iopub.execute_input": "2021-03-11T23:43:44.876732Z",
     "iopub.status.busy": "2021-03-11T23:43:44.876256Z",
     "iopub.status.idle": "2021-03-11T23:43:44.879988Z",
     "shell.execute_reply": "2021-03-11T23:43:44.879356Z"
    }
   },
   "outputs": [],
   "source": [
    "add = {'location':'California','doses':dataJson[0]['dataValues'][2]}"
   ]
  },
  {
   "cell_type": "code",
   "execution_count": 12,
   "metadata": {
    "execution": {
     "iopub.execute_input": "2021-03-11T23:43:44.886319Z",
     "iopub.status.busy": "2021-03-11T23:43:44.885790Z",
     "iopub.status.idle": "2021-03-11T23:43:44.888745Z",
     "shell.execute_reply": "2021-03-11T23:43:44.889119Z"
    }
   },
   "outputs": [],
   "source": [
    "df = df.append(add, ignore_index=True)"
   ]
  },
  {
   "cell_type": "code",
   "execution_count": 13,
   "metadata": {
    "execution": {
     "iopub.execute_input": "2021-03-11T23:43:44.893344Z",
     "iopub.status.busy": "2021-03-11T23:43:44.892507Z",
     "iopub.status.idle": "2021-03-11T23:43:44.894137Z",
     "shell.execute_reply": "2021-03-11T23:43:44.894559Z"
    }
   },
   "outputs": [],
   "source": [
    "df = df.sort_values(by='location')"
   ]
  },
  {
   "cell_type": "code",
   "execution_count": 14,
   "metadata": {
    "execution": {
     "iopub.execute_input": "2021-03-11T23:43:44.902592Z",
     "iopub.status.busy": "2021-03-11T23:43:44.901302Z",
     "iopub.status.idle": "2021-03-11T23:43:44.903228Z",
     "shell.execute_reply": "2021-03-11T23:43:44.903653Z"
    }
   },
   "outputs": [],
   "source": [
    "df = df[df.location == 'California'].append(df[df.location != 'California']).reset_index(drop=True)"
   ]
  },
  {
   "cell_type": "code",
   "execution_count": null,
   "metadata": {},
   "outputs": [],
   "source": []
  },
  {
   "cell_type": "code",
   "execution_count": 15,
   "metadata": {
    "execution": {
     "iopub.execute_input": "2021-03-11T23:43:44.906884Z",
     "iopub.status.busy": "2021-03-11T23:43:44.906279Z",
     "iopub.status.idle": "2021-03-11T23:43:44.923362Z",
     "shell.execute_reply": "2021-03-11T23:43:44.923739Z"
    }
   },
   "outputs": [],
   "source": [
    "tz = pytz.timezone(\"America/New_York\")"
   ]
  },
  {
   "cell_type": "code",
   "execution_count": 16,
   "metadata": {
    "execution": {
     "iopub.execute_input": "2021-03-11T23:43:44.928263Z",
     "iopub.status.busy": "2021-03-11T23:43:44.926957Z",
     "iopub.status.idle": "2021-03-11T23:43:44.928857Z",
     "shell.execute_reply": "2021-03-11T23:43:44.929252Z"
    }
   },
   "outputs": [],
   "source": [
    "today = datetime.now(tz).date()"
   ]
  },
  {
   "cell_type": "code",
   "execution_count": 17,
   "metadata": {
    "execution": {
     "iopub.execute_input": "2021-03-11T23:43:44.933658Z",
     "iopub.status.busy": "2021-03-11T23:43:44.932395Z",
     "iopub.status.idle": "2021-03-11T23:43:44.934319Z",
     "shell.execute_reply": "2021-03-11T23:43:44.934778Z"
    }
   },
   "outputs": [],
   "source": [
    "data_dir = os.path.join(os.path.abspath(\"\"), \"data\")"
   ]
  },
  {
   "cell_type": "code",
   "execution_count": 18,
   "metadata": {
    "execution": {
     "iopub.execute_input": "2021-03-11T23:43:44.938931Z",
     "iopub.status.busy": "2021-03-11T23:43:44.938017Z",
     "iopub.status.idle": "2021-03-11T23:43:44.942322Z",
     "shell.execute_reply": "2021-03-11T23:43:44.941757Z"
    }
   },
   "outputs": [],
   "source": [
    "df.to_csv(os.path.join(data_dir, f\"{today}.csv\"), index=False)"
   ]
  },
  {
   "cell_type": "code",
   "execution_count": null,
   "metadata": {},
   "outputs": [],
   "source": []
  }
 ],
 "metadata": {
  "kernelspec": {
   "display_name": "Python 3",
   "language": "python",
   "name": "python3"
  },
  "language_info": {
   "codemirror_mode": {
    "name": "ipython",
    "version": 3
   },
   "file_extension": ".py",
   "mimetype": "text/x-python",
   "name": "python",
   "nbconvert_exporter": "python",
   "pygments_lexer": "ipython3",
   "version": "3.8.8"
  }
 },
 "nbformat": 4,
 "nbformat_minor": 4
}
