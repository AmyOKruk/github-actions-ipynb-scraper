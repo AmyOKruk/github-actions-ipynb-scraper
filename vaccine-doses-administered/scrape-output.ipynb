{
 "cells": [
  {
   "cell_type": "markdown",
   "metadata": {},
   "source": [
    "# California COVID vaccinations scrape"
   ]
  },
  {
   "cell_type": "markdown",
   "metadata": {},
   "source": [
    "By [Amy O'Kruk](https://twitter.com/amyokruk)"
   ]
  },
  {
   "cell_type": "markdown",
   "metadata": {},
   "source": [
    "Downloads data on vaccine doses administered by county and statewide from a Tableau-powered dashboard from the California Department of Public Health."
   ]
  },
  {
   "cell_type": "code",
   "execution_count": 1,
   "metadata": {
    "execution": {
     "iopub.execute_input": "2021-03-19T12:55:01.626796Z",
     "iopub.status.busy": "2021-03-19T12:55:01.626158Z",
     "iopub.status.idle": "2021-03-19T12:55:02.090587Z",
     "shell.execute_reply": "2021-03-19T12:55:02.089974Z"
    }
   },
   "outputs": [],
   "source": [
    "import pandas as pd\n",
    "import requests\n",
    "from bs4 import BeautifulSoup\n",
    "import json\n",
    "import re\n",
    "import time\n",
    "from time import gmtime, strftime \n",
    "import os\n",
    "import pytz\n",
    "from datetime import datetime"
   ]
  },
  {
   "cell_type": "markdown",
   "metadata": {},
   "source": [
    "Scrape the dashboard page"
   ]
  },
  {
   "cell_type": "code",
   "execution_count": 2,
   "metadata": {
    "execution": {
     "iopub.execute_input": "2021-03-19T12:55:02.096845Z",
     "iopub.status.busy": "2021-03-19T12:55:02.094267Z",
     "iopub.status.idle": "2021-03-19T12:55:02.527153Z",
     "shell.execute_reply": "2021-03-19T12:55:02.526259Z"
    }
   },
   "outputs": [],
   "source": [
    "url = \"https://public.tableau.com/interactive/views/COVID-19VaccineDashboardPublic/Vaccine?:embed=y&:showVizHome=n&:apiID=host0\"\n",
    "\n",
    "r = requests.get(url)\n",
    "soup = BeautifulSoup(r.text, \"html.parser\")"
   ]
  },
  {
   "cell_type": "code",
   "execution_count": 3,
   "metadata": {
    "execution": {
     "iopub.execute_input": "2021-03-19T12:55:02.532241Z",
     "iopub.status.busy": "2021-03-19T12:55:02.531674Z",
     "iopub.status.idle": "2021-03-19T12:55:02.536103Z",
     "shell.execute_reply": "2021-03-19T12:55:02.535518Z"
    }
   },
   "outputs": [],
   "source": [
    "tableauData = json.loads(soup.find(\"textarea\",{\"id\": \"tsConfigContainer\"}).text)"
   ]
  },
  {
   "cell_type": "markdown",
   "metadata": {},
   "source": [
    "Get the link to the Tableau data"
   ]
  },
  {
   "cell_type": "code",
   "execution_count": 4,
   "metadata": {
    "execution": {
     "iopub.execute_input": "2021-03-19T12:55:02.540529Z",
     "iopub.status.busy": "2021-03-19T12:55:02.539287Z",
     "iopub.status.idle": "2021-03-19T12:55:02.541242Z",
     "shell.execute_reply": "2021-03-19T12:55:02.541839Z"
    }
   },
   "outputs": [],
   "source": [
    "dataUrl = f'https://public.tableau.com{tableauData[\"vizql_root\"]}/bootstrapSession/sessions/{tableauData[\"sessionid\"]}'"
   ]
  },
  {
   "cell_type": "code",
   "execution_count": 5,
   "metadata": {
    "execution": {
     "iopub.execute_input": "2021-03-19T12:55:02.549034Z",
     "iopub.status.busy": "2021-03-19T12:55:02.548470Z",
     "iopub.status.idle": "2021-03-19T12:55:02.871469Z",
     "shell.execute_reply": "2021-03-19T12:55:02.870996Z"
    }
   },
   "outputs": [],
   "source": [
    "r = requests.post(dataUrl, data= {\n",
    "    \"sheet_id\": tableauData[\"sheetId\"],\n",
    "})\n",
    "\n",
    "dataReg = re.search('\\d+;({.*})\\d+;({.*})', r.text, re.MULTILINE)\n",
    "data1 = json.loads(dataReg.group(2))\n",
    "\n",
    "dataJson = data1[\"secondaryInfo\"][\"presModelMap\"][\"dataDictionary\"][\"presModelHolder\"][\"genDataDictionaryPresModel\"][\"dataSegments\"][\"0\"][\"dataColumns\"]"
   ]
  },
  {
   "cell_type": "markdown",
   "metadata": {},
   "source": [
    "Isolate what you want"
   ]
  },
  {
   "cell_type": "code",
   "execution_count": 6,
   "metadata": {
    "execution": {
     "iopub.execute_input": "2021-03-19T12:55:02.878318Z",
     "iopub.status.busy": "2021-03-19T12:55:02.876662Z",
     "iopub.status.idle": "2021-03-19T12:55:02.878923Z",
     "shell.execute_reply": "2021-03-19T12:55:02.879372Z"
    }
   },
   "outputs": [],
   "source": [
    "counties = dataJson[2]['dataValues'][:58]"
   ]
  },
  {
   "cell_type": "code",
   "execution_count": 7,
   "metadata": {
    "execution": {
     "iopub.execute_input": "2021-03-19T12:55:02.884020Z",
     "iopub.status.busy": "2021-03-19T12:55:02.882719Z",
     "iopub.status.idle": "2021-03-19T12:55:02.884742Z",
     "shell.execute_reply": "2021-03-19T12:55:02.885419Z"
    }
   },
   "outputs": [],
   "source": [
    "doses = dataJson[0]['dataValues'][3:61]"
   ]
  },
  {
   "cell_type": "markdown",
   "metadata": {},
   "source": [
    "Data formatting"
   ]
  },
  {
   "cell_type": "code",
   "execution_count": 8,
   "metadata": {
    "execution": {
     "iopub.execute_input": "2021-03-19T12:55:02.889673Z",
     "iopub.status.busy": "2021-03-19T12:55:02.888985Z",
     "iopub.status.idle": "2021-03-19T12:55:02.891457Z",
     "shell.execute_reply": "2021-03-19T12:55:02.891902Z"
    }
   },
   "outputs": [],
   "source": [
    "zipped = dict(zip(counties, doses))"
   ]
  },
  {
   "cell_type": "code",
   "execution_count": 9,
   "metadata": {
    "execution": {
     "iopub.execute_input": "2021-03-19T12:55:02.898204Z",
     "iopub.status.busy": "2021-03-19T12:55:02.897324Z",
     "iopub.status.idle": "2021-03-19T12:55:02.900201Z",
     "shell.execute_reply": "2021-03-19T12:55:02.899726Z"
    }
   },
   "outputs": [],
   "source": [
    "df = pd.Series(zipped).reset_index()"
   ]
  },
  {
   "cell_type": "code",
   "execution_count": 10,
   "metadata": {
    "execution": {
     "iopub.execute_input": "2021-03-19T12:55:02.905407Z",
     "iopub.status.busy": "2021-03-19T12:55:02.903763Z",
     "iopub.status.idle": "2021-03-19T12:55:02.906048Z",
     "shell.execute_reply": "2021-03-19T12:55:02.906532Z"
    }
   },
   "outputs": [],
   "source": [
    "df.columns = ['location','doses']"
   ]
  },
  {
   "cell_type": "markdown",
   "metadata": {},
   "source": [
    "Grab the overall California total"
   ]
  },
  {
   "cell_type": "code",
   "execution_count": 11,
   "metadata": {
    "execution": {
     "iopub.execute_input": "2021-03-19T12:55:02.911779Z",
     "iopub.status.busy": "2021-03-19T12:55:02.910613Z",
     "iopub.status.idle": "2021-03-19T12:55:02.912535Z",
     "shell.execute_reply": "2021-03-19T12:55:02.913015Z"
    }
   },
   "outputs": [],
   "source": [
    "add = {'location':'California','doses':dataJson[0]['dataValues'][2]}"
   ]
  },
  {
   "cell_type": "code",
   "execution_count": 12,
   "metadata": {
    "execution": {
     "iopub.execute_input": "2021-03-19T12:55:02.921351Z",
     "iopub.status.busy": "2021-03-19T12:55:02.919669Z",
     "iopub.status.idle": "2021-03-19T12:55:02.922108Z",
     "shell.execute_reply": "2021-03-19T12:55:02.922745Z"
    }
   },
   "outputs": [],
   "source": [
    "df = df.append(add, ignore_index=True)"
   ]
  },
  {
   "cell_type": "code",
   "execution_count": 13,
   "metadata": {
    "execution": {
     "iopub.execute_input": "2021-03-19T12:55:02.928648Z",
     "iopub.status.busy": "2021-03-19T12:55:02.927228Z",
     "iopub.status.idle": "2021-03-19T12:55:02.929364Z",
     "shell.execute_reply": "2021-03-19T12:55:02.929853Z"
    }
   },
   "outputs": [],
   "source": [
    "df = df.sort_values(by='location')"
   ]
  },
  {
   "cell_type": "code",
   "execution_count": 14,
   "metadata": {
    "execution": {
     "iopub.execute_input": "2021-03-19T12:55:02.937158Z",
     "iopub.status.busy": "2021-03-19T12:55:02.935929Z",
     "iopub.status.idle": "2021-03-19T12:55:02.937833Z",
     "shell.execute_reply": "2021-03-19T12:55:02.938325Z"
    }
   },
   "outputs": [],
   "source": [
    "df = df[df.location == 'California'].append(df[df.location != 'California']).reset_index(drop=True)"
   ]
  },
  {
   "cell_type": "code",
   "execution_count": null,
   "metadata": {},
   "outputs": [],
   "source": []
  },
  {
   "cell_type": "code",
   "execution_count": 15,
   "metadata": {
    "execution": {
     "iopub.execute_input": "2021-03-19T12:55:02.942032Z",
     "iopub.status.busy": "2021-03-19T12:55:02.941452Z",
     "iopub.status.idle": "2021-03-19T12:55:02.961661Z",
     "shell.execute_reply": "2021-03-19T12:55:02.961110Z"
    }
   },
   "outputs": [],
   "source": [
    "tz = pytz.timezone(\"America/New_York\")"
   ]
  },
  {
   "cell_type": "code",
   "execution_count": 16,
   "metadata": {
    "execution": {
     "iopub.execute_input": "2021-03-19T12:55:02.967006Z",
     "iopub.status.busy": "2021-03-19T12:55:02.965366Z",
     "iopub.status.idle": "2021-03-19T12:55:02.967611Z",
     "shell.execute_reply": "2021-03-19T12:55:02.968076Z"
    }
   },
   "outputs": [],
   "source": [
    "today = datetime.now(tz).date()"
   ]
  },
  {
   "cell_type": "code",
   "execution_count": 17,
   "metadata": {
    "execution": {
     "iopub.execute_input": "2021-03-19T12:55:02.973048Z",
     "iopub.status.busy": "2021-03-19T12:55:02.971440Z",
     "iopub.status.idle": "2021-03-19T12:55:02.973630Z",
     "shell.execute_reply": "2021-03-19T12:55:02.974065Z"
    }
   },
   "outputs": [],
   "source": [
    "data_dir = os.path.join(os.path.abspath(\"\"), \"data\")"
   ]
  },
  {
   "cell_type": "code",
   "execution_count": 18,
   "metadata": {
    "execution": {
     "iopub.execute_input": "2021-03-19T12:55:02.978456Z",
     "iopub.status.busy": "2021-03-19T12:55:02.977437Z",
     "iopub.status.idle": "2021-03-19T12:55:02.981936Z",
     "shell.execute_reply": "2021-03-19T12:55:02.982358Z"
    }
   },
   "outputs": [],
   "source": [
    "df.to_csv(os.path.join(data_dir, f\"{today}.csv\"), index=False)"
   ]
  },
  {
   "cell_type": "code",
   "execution_count": null,
   "metadata": {},
   "outputs": [],
   "source": []
  }
 ],
 "metadata": {
  "kernelspec": {
   "display_name": "Python 3",
   "language": "python",
   "name": "python3"
  },
  "language_info": {
   "codemirror_mode": {
    "name": "ipython",
    "version": 3
   },
   "file_extension": ".py",
   "mimetype": "text/x-python",
   "name": "python",
   "nbconvert_exporter": "python",
   "pygments_lexer": "ipython3",
   "version": "3.8.8"
  }
 },
 "nbformat": 4,
 "nbformat_minor": 4
}
