{
 "cells": [
  {
   "cell_type": "markdown",
   "metadata": {},
   "source": [
    "# California COVID vaccinations scrape"
   ]
  },
  {
   "cell_type": "markdown",
   "metadata": {},
   "source": [
    "By [Amy O'Kruk](https://twitter.com/amyokruk)"
   ]
  },
  {
   "cell_type": "markdown",
   "metadata": {},
   "source": [
    "Downloads data on vaccine doses administered by county and statewide from a Tableau-powered dashboard from the California Department of Public Health."
   ]
  },
  {
   "cell_type": "code",
   "execution_count": 1,
   "metadata": {
    "execution": {
     "iopub.execute_input": "2021-03-17T04:49:46.397398Z",
     "iopub.status.busy": "2021-03-17T04:49:46.396756Z",
     "iopub.status.idle": "2021-03-17T04:49:46.736489Z",
     "shell.execute_reply": "2021-03-17T04:49:46.735367Z"
    }
   },
   "outputs": [],
   "source": [
    "import pandas as pd\n",
    "import requests\n",
    "from bs4 import BeautifulSoup\n",
    "import json\n",
    "import re\n",
    "import time\n",
    "from time import gmtime, strftime \n",
    "import os\n",
    "import pytz\n",
    "from datetime import datetime"
   ]
  },
  {
   "cell_type": "markdown",
   "metadata": {},
   "source": [
    "Scrape the dashboard page"
   ]
  },
  {
   "cell_type": "code",
   "execution_count": 2,
   "metadata": {
    "execution": {
     "iopub.execute_input": "2021-03-17T04:49:46.741598Z",
     "iopub.status.busy": "2021-03-17T04:49:46.739961Z",
     "iopub.status.idle": "2021-03-17T04:49:47.128565Z",
     "shell.execute_reply": "2021-03-17T04:49:47.127310Z"
    }
   },
   "outputs": [],
   "source": [
    "url = \"https://public.tableau.com/interactive/views/COVID-19VaccineDashboardPublic/Vaccine?:embed=y&:showVizHome=n&:apiID=host0\"\n",
    "\n",
    "r = requests.get(url)\n",
    "soup = BeautifulSoup(r.text, \"html.parser\")"
   ]
  },
  {
   "cell_type": "code",
   "execution_count": 3,
   "metadata": {
    "execution": {
     "iopub.execute_input": "2021-03-17T04:49:47.134282Z",
     "iopub.status.busy": "2021-03-17T04:49:47.133176Z",
     "iopub.status.idle": "2021-03-17T04:49:47.134833Z",
     "shell.execute_reply": "2021-03-17T04:49:47.135249Z"
    }
   },
   "outputs": [],
   "source": [
    "tableauData = json.loads(soup.find(\"textarea\",{\"id\": \"tsConfigContainer\"}).text)"
   ]
  },
  {
   "cell_type": "markdown",
   "metadata": {},
   "source": [
    "Get the link to the Tableau data"
   ]
  },
  {
   "cell_type": "code",
   "execution_count": 4,
   "metadata": {
    "execution": {
     "iopub.execute_input": "2021-03-17T04:49:47.138781Z",
     "iopub.status.busy": "2021-03-17T04:49:47.138020Z",
     "iopub.status.idle": "2021-03-17T04:49:47.140127Z",
     "shell.execute_reply": "2021-03-17T04:49:47.139696Z"
    }
   },
   "outputs": [],
   "source": [
    "dataUrl = f'https://public.tableau.com{tableauData[\"vizql_root\"]}/bootstrapSession/sessions/{tableauData[\"sessionid\"]}'"
   ]
  },
  {
   "cell_type": "code",
   "execution_count": 5,
   "metadata": {
    "execution": {
     "iopub.execute_input": "2021-03-17T04:49:47.146574Z",
     "iopub.status.busy": "2021-03-17T04:49:47.146048Z",
     "iopub.status.idle": "2021-03-17T04:49:47.741493Z",
     "shell.execute_reply": "2021-03-17T04:49:47.740836Z"
    }
   },
   "outputs": [],
   "source": [
    "r = requests.post(dataUrl, data= {\n",
    "    \"sheet_id\": tableauData[\"sheetId\"],\n",
    "})\n",
    "\n",
    "dataReg = re.search('\\d+;({.*})\\d+;({.*})', r.text, re.MULTILINE)\n",
    "data1 = json.loads(dataReg.group(2))\n",
    "\n",
    "dataJson = data1[\"secondaryInfo\"][\"presModelMap\"][\"dataDictionary\"][\"presModelHolder\"][\"genDataDictionaryPresModel\"][\"dataSegments\"][\"0\"][\"dataColumns\"]"
   ]
  },
  {
   "cell_type": "markdown",
   "metadata": {},
   "source": [
    "Isolate what you want"
   ]
  },
  {
   "cell_type": "code",
   "execution_count": 6,
   "metadata": {
    "execution": {
     "iopub.execute_input": "2021-03-17T04:49:47.746622Z",
     "iopub.status.busy": "2021-03-17T04:49:47.745078Z",
     "iopub.status.idle": "2021-03-17T04:49:47.747394Z",
     "shell.execute_reply": "2021-03-17T04:49:47.747954Z"
    }
   },
   "outputs": [],
   "source": [
    "counties = dataJson[2]['dataValues'][:58]"
   ]
  },
  {
   "cell_type": "code",
   "execution_count": 7,
   "metadata": {
    "execution": {
     "iopub.execute_input": "2021-03-17T04:49:47.752343Z",
     "iopub.status.busy": "2021-03-17T04:49:47.751906Z",
     "iopub.status.idle": "2021-03-17T04:49:47.753753Z",
     "shell.execute_reply": "2021-03-17T04:49:47.754172Z"
    }
   },
   "outputs": [],
   "source": [
    "doses = dataJson[0]['dataValues'][3:61]"
   ]
  },
  {
   "cell_type": "markdown",
   "metadata": {},
   "source": [
    "Data formatting"
   ]
  },
  {
   "cell_type": "code",
   "execution_count": 8,
   "metadata": {
    "execution": {
     "iopub.execute_input": "2021-03-17T04:49:47.757872Z",
     "iopub.status.busy": "2021-03-17T04:49:47.756929Z",
     "iopub.status.idle": "2021-03-17T04:49:47.758656Z",
     "shell.execute_reply": "2021-03-17T04:49:47.759101Z"
    }
   },
   "outputs": [],
   "source": [
    "zipped = dict(zip(counties, doses))"
   ]
  },
  {
   "cell_type": "code",
   "execution_count": 9,
   "metadata": {
    "execution": {
     "iopub.execute_input": "2021-03-17T04:49:47.764895Z",
     "iopub.status.busy": "2021-03-17T04:49:47.763966Z",
     "iopub.status.idle": "2021-03-17T04:49:47.765614Z",
     "shell.execute_reply": "2021-03-17T04:49:47.765961Z"
    }
   },
   "outputs": [],
   "source": [
    "df = pd.Series(zipped).reset_index()"
   ]
  },
  {
   "cell_type": "code",
   "execution_count": 10,
   "metadata": {
    "execution": {
     "iopub.execute_input": "2021-03-17T04:49:47.770058Z",
     "iopub.status.busy": "2021-03-17T04:49:47.768842Z",
     "iopub.status.idle": "2021-03-17T04:49:47.770657Z",
     "shell.execute_reply": "2021-03-17T04:49:47.771083Z"
    }
   },
   "outputs": [],
   "source": [
    "df.columns = ['location','doses']"
   ]
  },
  {
   "cell_type": "markdown",
   "metadata": {},
   "source": [
    "Grab the overall California total"
   ]
  },
  {
   "cell_type": "code",
   "execution_count": 11,
   "metadata": {
    "execution": {
     "iopub.execute_input": "2021-03-17T04:49:47.775071Z",
     "iopub.status.busy": "2021-03-17T04:49:47.774188Z",
     "iopub.status.idle": "2021-03-17T04:49:47.776306Z",
     "shell.execute_reply": "2021-03-17T04:49:47.775909Z"
    }
   },
   "outputs": [],
   "source": [
    "add = {'location':'California','doses':dataJson[0]['dataValues'][2]}"
   ]
  },
  {
   "cell_type": "code",
   "execution_count": 12,
   "metadata": {
    "execution": {
     "iopub.execute_input": "2021-03-17T04:49:47.783051Z",
     "iopub.status.busy": "2021-03-17T04:49:47.781944Z",
     "iopub.status.idle": "2021-03-17T04:49:47.783677Z",
     "shell.execute_reply": "2021-03-17T04:49:47.784111Z"
    }
   },
   "outputs": [],
   "source": [
    "df = df.append(add, ignore_index=True)"
   ]
  },
  {
   "cell_type": "code",
   "execution_count": 13,
   "metadata": {
    "execution": {
     "iopub.execute_input": "2021-03-17T04:49:47.788446Z",
     "iopub.status.busy": "2021-03-17T04:49:47.787637Z",
     "iopub.status.idle": "2021-03-17T04:49:47.789353Z",
     "shell.execute_reply": "2021-03-17T04:49:47.789781Z"
    }
   },
   "outputs": [],
   "source": [
    "df = df.sort_values(by='location')"
   ]
  },
  {
   "cell_type": "code",
   "execution_count": 14,
   "metadata": {
    "execution": {
     "iopub.execute_input": "2021-03-17T04:49:47.796245Z",
     "iopub.status.busy": "2021-03-17T04:49:47.795024Z",
     "iopub.status.idle": "2021-03-17T04:49:47.796911Z",
     "shell.execute_reply": "2021-03-17T04:49:47.797304Z"
    }
   },
   "outputs": [],
   "source": [
    "df = df[df.location == 'California'].append(df[df.location != 'California']).reset_index(drop=True)"
   ]
  },
  {
   "cell_type": "code",
   "execution_count": null,
   "metadata": {},
   "outputs": [],
   "source": []
  },
  {
   "cell_type": "code",
   "execution_count": 15,
   "metadata": {
    "execution": {
     "iopub.execute_input": "2021-03-17T04:49:47.800429Z",
     "iopub.status.busy": "2021-03-17T04:49:47.799958Z",
     "iopub.status.idle": "2021-03-17T04:49:47.816697Z",
     "shell.execute_reply": "2021-03-17T04:49:47.816223Z"
    }
   },
   "outputs": [],
   "source": [
    "tz = pytz.timezone(\"America/New_York\")"
   ]
  },
  {
   "cell_type": "code",
   "execution_count": 16,
   "metadata": {
    "execution": {
     "iopub.execute_input": "2021-03-17T04:49:47.820644Z",
     "iopub.status.busy": "2021-03-17T04:49:47.819431Z",
     "iopub.status.idle": "2021-03-17T04:49:47.821192Z",
     "shell.execute_reply": "2021-03-17T04:49:47.821620Z"
    }
   },
   "outputs": [],
   "source": [
    "today = datetime.now(tz).date()"
   ]
  },
  {
   "cell_type": "code",
   "execution_count": 17,
   "metadata": {
    "execution": {
     "iopub.execute_input": "2021-03-17T04:49:47.826018Z",
     "iopub.status.busy": "2021-03-17T04:49:47.824808Z",
     "iopub.status.idle": "2021-03-17T04:49:47.826566Z",
     "shell.execute_reply": "2021-03-17T04:49:47.827008Z"
    }
   },
   "outputs": [],
   "source": [
    "data_dir = os.path.join(os.path.abspath(\"\"), \"data\")"
   ]
  },
  {
   "cell_type": "code",
   "execution_count": 18,
   "metadata": {
    "execution": {
     "iopub.execute_input": "2021-03-17T04:49:47.830814Z",
     "iopub.status.busy": "2021-03-17T04:49:47.830326Z",
     "iopub.status.idle": "2021-03-17T04:49:47.834514Z",
     "shell.execute_reply": "2021-03-17T04:49:47.834035Z"
    }
   },
   "outputs": [],
   "source": [
    "df.to_csv(os.path.join(data_dir, f\"{today}.csv\"), index=False)"
   ]
  },
  {
   "cell_type": "code",
   "execution_count": null,
   "metadata": {},
   "outputs": [],
   "source": []
  }
 ],
 "metadata": {
  "kernelspec": {
   "display_name": "Python 3",
   "language": "python",
   "name": "python3"
  },
  "language_info": {
   "codemirror_mode": {
    "name": "ipython",
    "version": 3
   },
   "file_extension": ".py",
   "mimetype": "text/x-python",
   "name": "python",
   "nbconvert_exporter": "python",
   "pygments_lexer": "ipython3",
   "version": "3.8.8"
  }
 },
 "nbformat": 4,
 "nbformat_minor": 4
}
