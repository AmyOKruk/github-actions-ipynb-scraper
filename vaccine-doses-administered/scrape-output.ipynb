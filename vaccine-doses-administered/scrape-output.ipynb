{
 "cells": [
  {
   "cell_type": "markdown",
   "metadata": {},
   "source": [
    "# California COVID vaccinations scrape"
   ]
  },
  {
   "cell_type": "markdown",
   "metadata": {},
   "source": [
    "By [Amy O'Kruk](https://twitter.com/amyokruk)"
   ]
  },
  {
   "cell_type": "markdown",
   "metadata": {},
   "source": [
    "Downloads data on vaccine doses administered by county and statewide from a Tableau-powered dashboard from the California Department of Public Health."
   ]
  },
  {
   "cell_type": "code",
   "execution_count": 1,
   "metadata": {
    "execution": {
     "iopub.execute_input": "2021-03-12T14:13:23.367959Z",
     "iopub.status.busy": "2021-03-12T14:13:23.367268Z",
     "iopub.status.idle": "2021-03-12T14:13:24.795462Z",
     "shell.execute_reply": "2021-03-12T14:13:24.794182Z"
    }
   },
   "outputs": [],
   "source": [
    "import pandas as pd\n",
    "import requests\n",
    "from bs4 import BeautifulSoup\n",
    "import json\n",
    "import re\n",
    "import time\n",
    "from time import gmtime, strftime \n",
    "import os\n",
    "import pytz\n",
    "from datetime import datetime"
   ]
  },
  {
   "cell_type": "markdown",
   "metadata": {},
   "source": [
    "Scrape the dashboard page"
   ]
  },
  {
   "cell_type": "code",
   "execution_count": 2,
   "metadata": {
    "execution": {
     "iopub.execute_input": "2021-03-12T14:13:24.801883Z",
     "iopub.status.busy": "2021-03-12T14:13:24.799432Z",
     "iopub.status.idle": "2021-03-12T14:13:25.406323Z",
     "shell.execute_reply": "2021-03-12T14:13:25.405447Z"
    }
   },
   "outputs": [],
   "source": [
    "url = \"https://public.tableau.com/interactive/views/COVID-19VaccineDashboardPublic/Vaccine?:embed=y&:showVizHome=n&:apiID=host0\"\n",
    "\n",
    "r = requests.get(url)\n",
    "soup = BeautifulSoup(r.text, \"html.parser\")"
   ]
  },
  {
   "cell_type": "code",
   "execution_count": 3,
   "metadata": {
    "execution": {
     "iopub.execute_input": "2021-03-12T14:13:25.412577Z",
     "iopub.status.busy": "2021-03-12T14:13:25.411634Z",
     "iopub.status.idle": "2021-03-12T14:13:25.416763Z",
     "shell.execute_reply": "2021-03-12T14:13:25.415991Z"
    }
   },
   "outputs": [],
   "source": [
    "tableauData = json.loads(soup.find(\"textarea\",{\"id\": \"tsConfigContainer\"}).text)"
   ]
  },
  {
   "cell_type": "markdown",
   "metadata": {},
   "source": [
    "Get the link to the Tableau data"
   ]
  },
  {
   "cell_type": "code",
   "execution_count": 4,
   "metadata": {
    "execution": {
     "iopub.execute_input": "2021-03-12T14:13:25.421939Z",
     "iopub.status.busy": "2021-03-12T14:13:25.420461Z",
     "iopub.status.idle": "2021-03-12T14:13:25.422549Z",
     "shell.execute_reply": "2021-03-12T14:13:25.422979Z"
    }
   },
   "outputs": [],
   "source": [
    "dataUrl = f'https://public.tableau.com{tableauData[\"vizql_root\"]}/bootstrapSession/sessions/{tableauData[\"sessionid\"]}'"
   ]
  },
  {
   "cell_type": "code",
   "execution_count": 5,
   "metadata": {
    "execution": {
     "iopub.execute_input": "2021-03-12T14:13:25.429973Z",
     "iopub.status.busy": "2021-03-12T14:13:25.429429Z",
     "iopub.status.idle": "2021-03-12T14:13:25.872520Z",
     "shell.execute_reply": "2021-03-12T14:13:25.871444Z"
    }
   },
   "outputs": [],
   "source": [
    "r = requests.post(dataUrl, data= {\n",
    "    \"sheet_id\": tableauData[\"sheetId\"],\n",
    "})\n",
    "\n",
    "dataReg = re.search('\\d+;({.*})\\d+;({.*})', r.text, re.MULTILINE)\n",
    "data1 = json.loads(dataReg.group(2))\n",
    "\n",
    "dataJson = data1[\"secondaryInfo\"][\"presModelMap\"][\"dataDictionary\"][\"presModelHolder\"][\"genDataDictionaryPresModel\"][\"dataSegments\"][\"0\"][\"dataColumns\"]"
   ]
  },
  {
   "cell_type": "markdown",
   "metadata": {},
   "source": [
    "Isolate what you want"
   ]
  },
  {
   "cell_type": "code",
   "execution_count": 6,
   "metadata": {
    "execution": {
     "iopub.execute_input": "2021-03-12T14:13:25.878288Z",
     "iopub.status.busy": "2021-03-12T14:13:25.876775Z",
     "iopub.status.idle": "2021-03-12T14:13:25.878895Z",
     "shell.execute_reply": "2021-03-12T14:13:25.879325Z"
    }
   },
   "outputs": [],
   "source": [
    "counties = dataJson[2]['dataValues'][:58]"
   ]
  },
  {
   "cell_type": "code",
   "execution_count": 7,
   "metadata": {
    "execution": {
     "iopub.execute_input": "2021-03-12T14:13:25.884262Z",
     "iopub.status.busy": "2021-03-12T14:13:25.882944Z",
     "iopub.status.idle": "2021-03-12T14:13:25.884859Z",
     "shell.execute_reply": "2021-03-12T14:13:25.885292Z"
    }
   },
   "outputs": [],
   "source": [
    "doses = dataJson[0]['dataValues'][3:61]"
   ]
  },
  {
   "cell_type": "markdown",
   "metadata": {},
   "source": [
    "Data formatting"
   ]
  },
  {
   "cell_type": "code",
   "execution_count": 8,
   "metadata": {
    "execution": {
     "iopub.execute_input": "2021-03-12T14:13:25.889837Z",
     "iopub.status.busy": "2021-03-12T14:13:25.888635Z",
     "iopub.status.idle": "2021-03-12T14:13:25.891208Z",
     "shell.execute_reply": "2021-03-12T14:13:25.890496Z"
    }
   },
   "outputs": [],
   "source": [
    "zipped = dict(zip(counties, doses))"
   ]
  },
  {
   "cell_type": "code",
   "execution_count": 9,
   "metadata": {
    "execution": {
     "iopub.execute_input": "2021-03-12T14:13:25.899784Z",
     "iopub.status.busy": "2021-03-12T14:13:25.898201Z",
     "iopub.status.idle": "2021-03-12T14:13:25.900411Z",
     "shell.execute_reply": "2021-03-12T14:13:25.900857Z"
    }
   },
   "outputs": [],
   "source": [
    "df = pd.Series(zipped).reset_index()"
   ]
  },
  {
   "cell_type": "code",
   "execution_count": 10,
   "metadata": {
    "execution": {
     "iopub.execute_input": "2021-03-12T14:13:25.905261Z",
     "iopub.status.busy": "2021-03-12T14:13:25.904313Z",
     "iopub.status.idle": "2021-03-12T14:13:25.906336Z",
     "shell.execute_reply": "2021-03-12T14:13:25.906741Z"
    }
   },
   "outputs": [],
   "source": [
    "df.columns = ['location','doses']"
   ]
  },
  {
   "cell_type": "markdown",
   "metadata": {},
   "source": [
    "Grab the overall California total"
   ]
  },
  {
   "cell_type": "code",
   "execution_count": 11,
   "metadata": {
    "execution": {
     "iopub.execute_input": "2021-03-12T14:13:25.911074Z",
     "iopub.status.busy": "2021-03-12T14:13:25.910141Z",
     "iopub.status.idle": "2021-03-12T14:13:25.912447Z",
     "shell.execute_reply": "2021-03-12T14:13:25.912004Z"
    }
   },
   "outputs": [],
   "source": [
    "add = {'location':'California','doses':dataJson[0]['dataValues'][2]}"
   ]
  },
  {
   "cell_type": "code",
   "execution_count": 12,
   "metadata": {
    "execution": {
     "iopub.execute_input": "2021-03-12T14:13:25.920411Z",
     "iopub.status.busy": "2021-03-12T14:13:25.918982Z",
     "iopub.status.idle": "2021-03-12T14:13:25.921194Z",
     "shell.execute_reply": "2021-03-12T14:13:25.921676Z"
    }
   },
   "outputs": [],
   "source": [
    "df = df.append(add, ignore_index=True)"
   ]
  },
  {
   "cell_type": "code",
   "execution_count": 13,
   "metadata": {
    "execution": {
     "iopub.execute_input": "2021-03-12T14:13:25.926884Z",
     "iopub.status.busy": "2021-03-12T14:13:25.925966Z",
     "iopub.status.idle": "2021-03-12T14:13:25.928421Z",
     "shell.execute_reply": "2021-03-12T14:13:25.927875Z"
    }
   },
   "outputs": [],
   "source": [
    "df = df.sort_values(by='location')"
   ]
  },
  {
   "cell_type": "code",
   "execution_count": 14,
   "metadata": {
    "execution": {
     "iopub.execute_input": "2021-03-12T14:13:25.935754Z",
     "iopub.status.busy": "2021-03-12T14:13:25.934292Z",
     "iopub.status.idle": "2021-03-12T14:13:25.936448Z",
     "shell.execute_reply": "2021-03-12T14:13:25.936886Z"
    }
   },
   "outputs": [],
   "source": [
    "df = df[df.location == 'California'].append(df[df.location != 'California']).reset_index(drop=True)"
   ]
  },
  {
   "cell_type": "code",
   "execution_count": null,
   "metadata": {},
   "outputs": [],
   "source": []
  },
  {
   "cell_type": "code",
   "execution_count": 15,
   "metadata": {
    "execution": {
     "iopub.execute_input": "2021-03-12T14:13:25.941047Z",
     "iopub.status.busy": "2021-03-12T14:13:25.940309Z",
     "iopub.status.idle": "2021-03-12T14:13:25.958534Z",
     "shell.execute_reply": "2021-03-12T14:13:25.958952Z"
    }
   },
   "outputs": [],
   "source": [
    "tz = pytz.timezone(\"America/New_York\")"
   ]
  },
  {
   "cell_type": "code",
   "execution_count": 16,
   "metadata": {
    "execution": {
     "iopub.execute_input": "2021-03-12T14:13:25.963533Z",
     "iopub.status.busy": "2021-03-12T14:13:25.962240Z",
     "iopub.status.idle": "2021-03-12T14:13:25.964516Z",
     "shell.execute_reply": "2021-03-12T14:13:25.965071Z"
    }
   },
   "outputs": [],
   "source": [
    "today = datetime.now(tz).date()"
   ]
  },
  {
   "cell_type": "code",
   "execution_count": 17,
   "metadata": {
    "execution": {
     "iopub.execute_input": "2021-03-12T14:13:25.970145Z",
     "iopub.status.busy": "2021-03-12T14:13:25.968595Z",
     "iopub.status.idle": "2021-03-12T14:13:25.970820Z",
     "shell.execute_reply": "2021-03-12T14:13:25.971267Z"
    }
   },
   "outputs": [],
   "source": [
    "data_dir = os.path.join(os.path.abspath(\"\"), \"data\")"
   ]
  },
  {
   "cell_type": "code",
   "execution_count": 18,
   "metadata": {
    "execution": {
     "iopub.execute_input": "2021-03-12T14:13:25.975292Z",
     "iopub.status.busy": "2021-03-12T14:13:25.974764Z",
     "iopub.status.idle": "2021-03-12T14:13:25.978957Z",
     "shell.execute_reply": "2021-03-12T14:13:25.979376Z"
    }
   },
   "outputs": [],
   "source": [
    "df.to_csv(os.path.join(data_dir, f\"{today}.csv\"), index=False)"
   ]
  },
  {
   "cell_type": "code",
   "execution_count": null,
   "metadata": {},
   "outputs": [],
   "source": []
  }
 ],
 "metadata": {
  "kernelspec": {
   "display_name": "Python 3",
   "language": "python",
   "name": "python3"
  },
  "language_info": {
   "codemirror_mode": {
    "name": "ipython",
    "version": 3
   },
   "file_extension": ".py",
   "mimetype": "text/x-python",
   "name": "python",
   "nbconvert_exporter": "python",
   "pygments_lexer": "ipython3",
   "version": "3.8.8"
  }
 },
 "nbformat": 4,
 "nbformat_minor": 4
}
