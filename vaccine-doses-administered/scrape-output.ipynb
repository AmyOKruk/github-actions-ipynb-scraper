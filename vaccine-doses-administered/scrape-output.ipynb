{
 "cells": [
  {
   "cell_type": "markdown",
   "metadata": {},
   "source": [
    "# California COVID vaccinations scrape"
   ]
  },
  {
   "cell_type": "markdown",
   "metadata": {},
   "source": [
    "By [Amy O'Kruk](https://twitter.com/amyokruk)"
   ]
  },
  {
   "cell_type": "markdown",
   "metadata": {},
   "source": [
    "Downloads data on vaccine doses administered by county and statewide from a Tableau-powered dashboard from the California Department of Public Health."
   ]
  },
  {
   "cell_type": "code",
   "execution_count": 1,
   "metadata": {
    "execution": {
     "iopub.execute_input": "2021-03-20T13:41:14.878884Z",
     "iopub.status.busy": "2021-03-20T13:41:14.878304Z",
     "iopub.status.idle": "2021-03-20T13:41:15.298837Z",
     "shell.execute_reply": "2021-03-20T13:41:15.297899Z"
    }
   },
   "outputs": [],
   "source": [
    "import pandas as pd\n",
    "import requests\n",
    "from bs4 import BeautifulSoup\n",
    "import json\n",
    "import re\n",
    "import time\n",
    "from time import gmtime, strftime \n",
    "import os\n",
    "import pytz\n",
    "from datetime import datetime"
   ]
  },
  {
   "cell_type": "markdown",
   "metadata": {},
   "source": [
    "Scrape the dashboard page"
   ]
  },
  {
   "cell_type": "code",
   "execution_count": 2,
   "metadata": {
    "execution": {
     "iopub.execute_input": "2021-03-20T13:41:15.303454Z",
     "iopub.status.busy": "2021-03-20T13:41:15.302960Z",
     "iopub.status.idle": "2021-03-20T13:41:15.859194Z",
     "shell.execute_reply": "2021-03-20T13:41:15.858393Z"
    }
   },
   "outputs": [],
   "source": [
    "url = \"https://public.tableau.com/interactive/views/COVID-19VaccineDashboardPublic/Vaccine?:embed=y&:showVizHome=n&:apiID=host0\"\n",
    "\n",
    "r = requests.get(url)\n",
    "soup = BeautifulSoup(r.text, \"html.parser\")"
   ]
  },
  {
   "cell_type": "code",
   "execution_count": 3,
   "metadata": {
    "execution": {
     "iopub.execute_input": "2021-03-20T13:41:15.864618Z",
     "iopub.status.busy": "2021-03-20T13:41:15.863415Z",
     "iopub.status.idle": "2021-03-20T13:41:15.865304Z",
     "shell.execute_reply": "2021-03-20T13:41:15.865702Z"
    }
   },
   "outputs": [],
   "source": [
    "tableauData = json.loads(soup.find(\"textarea\",{\"id\": \"tsConfigContainer\"}).text)"
   ]
  },
  {
   "cell_type": "markdown",
   "metadata": {},
   "source": [
    "Get the link to the Tableau data"
   ]
  },
  {
   "cell_type": "code",
   "execution_count": 4,
   "metadata": {
    "execution": {
     "iopub.execute_input": "2021-03-20T13:41:15.869784Z",
     "iopub.status.busy": "2021-03-20T13:41:15.868658Z",
     "iopub.status.idle": "2021-03-20T13:41:15.870350Z",
     "shell.execute_reply": "2021-03-20T13:41:15.870742Z"
    }
   },
   "outputs": [],
   "source": [
    "dataUrl = f'https://public.tableau.com{tableauData[\"vizql_root\"]}/bootstrapSession/sessions/{tableauData[\"sessionid\"]}'"
   ]
  },
  {
   "cell_type": "code",
   "execution_count": 5,
   "metadata": {
    "execution": {
     "iopub.execute_input": "2021-03-20T13:41:15.877038Z",
     "iopub.status.busy": "2021-03-20T13:41:15.876479Z",
     "iopub.status.idle": "2021-03-20T13:41:16.192403Z",
     "shell.execute_reply": "2021-03-20T13:41:16.191396Z"
    }
   },
   "outputs": [],
   "source": [
    "r = requests.post(dataUrl, data= {\n",
    "    \"sheet_id\": tableauData[\"sheetId\"],\n",
    "})\n",
    "\n",
    "dataReg = re.search('\\d+;({.*})\\d+;({.*})', r.text, re.MULTILINE)\n",
    "data1 = json.loads(dataReg.group(2))\n",
    "\n",
    "dataJson = data1[\"secondaryInfo\"][\"presModelMap\"][\"dataDictionary\"][\"presModelHolder\"][\"genDataDictionaryPresModel\"][\"dataSegments\"][\"0\"][\"dataColumns\"]"
   ]
  },
  {
   "cell_type": "markdown",
   "metadata": {},
   "source": [
    "Isolate what you want"
   ]
  },
  {
   "cell_type": "code",
   "execution_count": 6,
   "metadata": {
    "execution": {
     "iopub.execute_input": "2021-03-20T13:41:16.195882Z",
     "iopub.status.busy": "2021-03-20T13:41:16.195454Z",
     "iopub.status.idle": "2021-03-20T13:41:16.198951Z",
     "shell.execute_reply": "2021-03-20T13:41:16.198578Z"
    }
   },
   "outputs": [],
   "source": [
    "counties = dataJson[2]['dataValues'][:58]"
   ]
  },
  {
   "cell_type": "code",
   "execution_count": 7,
   "metadata": {
    "execution": {
     "iopub.execute_input": "2021-03-20T13:41:16.202316Z",
     "iopub.status.busy": "2021-03-20T13:41:16.201801Z",
     "iopub.status.idle": "2021-03-20T13:41:16.205105Z",
     "shell.execute_reply": "2021-03-20T13:41:16.204650Z"
    }
   },
   "outputs": [],
   "source": [
    "doses = dataJson[0]['dataValues'][3:61]"
   ]
  },
  {
   "cell_type": "markdown",
   "metadata": {},
   "source": [
    "Data formatting"
   ]
  },
  {
   "cell_type": "code",
   "execution_count": 8,
   "metadata": {
    "execution": {
     "iopub.execute_input": "2021-03-20T13:41:16.208013Z",
     "iopub.status.busy": "2021-03-20T13:41:16.207595Z",
     "iopub.status.idle": "2021-03-20T13:41:16.211030Z",
     "shell.execute_reply": "2021-03-20T13:41:16.210662Z"
    }
   },
   "outputs": [],
   "source": [
    "zipped = dict(zip(counties, doses))"
   ]
  },
  {
   "cell_type": "code",
   "execution_count": 9,
   "metadata": {
    "execution": {
     "iopub.execute_input": "2021-03-20T13:41:16.215788Z",
     "iopub.status.busy": "2021-03-20T13:41:16.215343Z",
     "iopub.status.idle": "2021-03-20T13:41:16.218471Z",
     "shell.execute_reply": "2021-03-20T13:41:16.217998Z"
    }
   },
   "outputs": [],
   "source": [
    "df = pd.Series(zipped).reset_index()"
   ]
  },
  {
   "cell_type": "code",
   "execution_count": 10,
   "metadata": {
    "execution": {
     "iopub.execute_input": "2021-03-20T13:41:16.221753Z",
     "iopub.status.busy": "2021-03-20T13:41:16.221338Z",
     "iopub.status.idle": "2021-03-20T13:41:16.224693Z",
     "shell.execute_reply": "2021-03-20T13:41:16.224277Z"
    }
   },
   "outputs": [],
   "source": [
    "df.columns = ['location','doses']"
   ]
  },
  {
   "cell_type": "markdown",
   "metadata": {},
   "source": [
    "Grab the overall California total"
   ]
  },
  {
   "cell_type": "code",
   "execution_count": 11,
   "metadata": {
    "execution": {
     "iopub.execute_input": "2021-03-20T13:41:16.227860Z",
     "iopub.status.busy": "2021-03-20T13:41:16.227444Z",
     "iopub.status.idle": "2021-03-20T13:41:16.230665Z",
     "shell.execute_reply": "2021-03-20T13:41:16.230249Z"
    }
   },
   "outputs": [],
   "source": [
    "add = {'location':'California','doses':dataJson[0]['dataValues'][2]}"
   ]
  },
  {
   "cell_type": "code",
   "execution_count": 12,
   "metadata": {
    "execution": {
     "iopub.execute_input": "2021-03-20T13:41:16.236612Z",
     "iopub.status.busy": "2021-03-20T13:41:16.236194Z",
     "iopub.status.idle": "2021-03-20T13:41:16.239426Z",
     "shell.execute_reply": "2021-03-20T13:41:16.239009Z"
    }
   },
   "outputs": [],
   "source": [
    "df = df.append(add, ignore_index=True)"
   ]
  },
  {
   "cell_type": "code",
   "execution_count": 13,
   "metadata": {
    "execution": {
     "iopub.execute_input": "2021-03-20T13:41:16.243351Z",
     "iopub.status.busy": "2021-03-20T13:41:16.242881Z",
     "iopub.status.idle": "2021-03-20T13:41:16.246167Z",
     "shell.execute_reply": "2021-03-20T13:41:16.245732Z"
    }
   },
   "outputs": [],
   "source": [
    "df = df.sort_values(by='location')"
   ]
  },
  {
   "cell_type": "code",
   "execution_count": 14,
   "metadata": {
    "execution": {
     "iopub.execute_input": "2021-03-20T13:41:16.251865Z",
     "iopub.status.busy": "2021-03-20T13:41:16.251332Z",
     "iopub.status.idle": "2021-03-20T13:41:16.254709Z",
     "shell.execute_reply": "2021-03-20T13:41:16.254292Z"
    }
   },
   "outputs": [],
   "source": [
    "df = df[df.location == 'California'].append(df[df.location != 'California']).reset_index(drop=True)"
   ]
  },
  {
   "cell_type": "code",
   "execution_count": null,
   "metadata": {},
   "outputs": [],
   "source": []
  },
  {
   "cell_type": "code",
   "execution_count": 15,
   "metadata": {
    "execution": {
     "iopub.execute_input": "2021-03-20T13:41:16.257774Z",
     "iopub.status.busy": "2021-03-20T13:41:16.257290Z",
     "iopub.status.idle": "2021-03-20T13:41:16.274676Z",
     "shell.execute_reply": "2021-03-20T13:41:16.273885Z"
    }
   },
   "outputs": [],
   "source": [
    "tz = pytz.timezone(\"America/New_York\")"
   ]
  },
  {
   "cell_type": "code",
   "execution_count": 16,
   "metadata": {
    "execution": {
     "iopub.execute_input": "2021-03-20T13:41:16.277636Z",
     "iopub.status.busy": "2021-03-20T13:41:16.277158Z",
     "iopub.status.idle": "2021-03-20T13:41:16.280412Z",
     "shell.execute_reply": "2021-03-20T13:41:16.279957Z"
    }
   },
   "outputs": [],
   "source": [
    "today = datetime.now(tz).date()"
   ]
  },
  {
   "cell_type": "code",
   "execution_count": 17,
   "metadata": {
    "execution": {
     "iopub.execute_input": "2021-03-20T13:41:16.283750Z",
     "iopub.status.busy": "2021-03-20T13:41:16.283272Z",
     "iopub.status.idle": "2021-03-20T13:41:16.286374Z",
     "shell.execute_reply": "2021-03-20T13:41:16.286005Z"
    }
   },
   "outputs": [],
   "source": [
    "data_dir = os.path.join(os.path.abspath(\"\"), \"data\")"
   ]
  },
  {
   "cell_type": "code",
   "execution_count": 18,
   "metadata": {
    "execution": {
     "iopub.execute_input": "2021-03-20T13:41:16.291459Z",
     "iopub.status.busy": "2021-03-20T13:41:16.289338Z",
     "iopub.status.idle": "2021-03-20T13:41:16.295033Z",
     "shell.execute_reply": "2021-03-20T13:41:16.294129Z"
    }
   },
   "outputs": [],
   "source": [
    "df.to_csv(os.path.join(data_dir, f\"{today}.csv\"), index=False)"
   ]
  },
  {
   "cell_type": "code",
   "execution_count": null,
   "metadata": {},
   "outputs": [],
   "source": []
  }
 ],
 "metadata": {
  "kernelspec": {
   "display_name": "Python 3",
   "language": "python",
   "name": "python3"
  },
  "language_info": {
   "codemirror_mode": {
    "name": "ipython",
    "version": 3
   },
   "file_extension": ".py",
   "mimetype": "text/x-python",
   "name": "python",
   "nbconvert_exporter": "python",
   "pygments_lexer": "ipython3",
   "version": "3.8.8"
  }
 },
 "nbformat": 4,
 "nbformat_minor": 4
}
