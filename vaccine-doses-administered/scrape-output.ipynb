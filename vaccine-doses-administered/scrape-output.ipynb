{
 "cells": [
  {
   "cell_type": "markdown",
   "metadata": {},
   "source": [
    "# California COVID vaccinations scrape"
   ]
  },
  {
   "cell_type": "markdown",
   "metadata": {},
   "source": [
    "By [Amy O'Kruk](https://twitter.com/amyokruk)"
   ]
  },
  {
   "cell_type": "markdown",
   "metadata": {},
   "source": [
    "Downloads data on vaccine doses administered by county and statewide from a Tableau-powered dashboard from the California Department of Public Health."
   ]
  },
  {
   "cell_type": "code",
   "execution_count": 1,
   "metadata": {
    "execution": {
     "iopub.execute_input": "2021-03-12T00:30:02.087956Z",
     "iopub.status.busy": "2021-03-12T00:30:02.087426Z",
     "iopub.status.idle": "2021-03-12T00:30:02.557703Z",
     "shell.execute_reply": "2021-03-12T00:30:02.556790Z"
    }
   },
   "outputs": [],
   "source": [
    "import pandas as pd\n",
    "import requests\n",
    "from bs4 import BeautifulSoup\n",
    "import json\n",
    "import re\n",
    "import time\n",
    "from time import gmtime, strftime \n",
    "import os\n",
    "import pytz\n",
    "from datetime import datetime"
   ]
  },
  {
   "cell_type": "markdown",
   "metadata": {},
   "source": [
    "Scrape the dashboard page"
   ]
  },
  {
   "cell_type": "code",
   "execution_count": 2,
   "metadata": {
    "execution": {
     "iopub.execute_input": "2021-03-12T00:30:02.562378Z",
     "iopub.status.busy": "2021-03-12T00:30:02.560822Z",
     "iopub.status.idle": "2021-03-12T00:30:03.031387Z",
     "shell.execute_reply": "2021-03-12T00:30:03.030925Z"
    }
   },
   "outputs": [],
   "source": [
    "url = \"https://public.tableau.com/interactive/views/COVID-19VaccineDashboardPublic/Vaccine?:embed=y&:showVizHome=n&:apiID=host0\"\n",
    "\n",
    "r = requests.get(url)\n",
    "soup = BeautifulSoup(r.text, \"html.parser\")"
   ]
  },
  {
   "cell_type": "code",
   "execution_count": 3,
   "metadata": {
    "execution": {
     "iopub.execute_input": "2021-03-12T00:30:03.035570Z",
     "iopub.status.busy": "2021-03-12T00:30:03.035107Z",
     "iopub.status.idle": "2021-03-12T00:30:03.038116Z",
     "shell.execute_reply": "2021-03-12T00:30:03.037754Z"
    }
   },
   "outputs": [],
   "source": [
    "tableauData = json.loads(soup.find(\"textarea\",{\"id\": \"tsConfigContainer\"}).text)"
   ]
  },
  {
   "cell_type": "markdown",
   "metadata": {},
   "source": [
    "Get the link to the Tableau data"
   ]
  },
  {
   "cell_type": "code",
   "execution_count": 4,
   "metadata": {
    "execution": {
     "iopub.execute_input": "2021-03-12T00:30:03.040899Z",
     "iopub.status.busy": "2021-03-12T00:30:03.040465Z",
     "iopub.status.idle": "2021-03-12T00:30:03.044161Z",
     "shell.execute_reply": "2021-03-12T00:30:03.043711Z"
    }
   },
   "outputs": [],
   "source": [
    "dataUrl = f'https://public.tableau.com{tableauData[\"vizql_root\"]}/bootstrapSession/sessions/{tableauData[\"sessionid\"]}'"
   ]
  },
  {
   "cell_type": "code",
   "execution_count": 5,
   "metadata": {
    "execution": {
     "iopub.execute_input": "2021-03-12T00:30:03.049691Z",
     "iopub.status.busy": "2021-03-12T00:30:03.049221Z",
     "iopub.status.idle": "2021-03-12T00:30:03.367645Z",
     "shell.execute_reply": "2021-03-12T00:30:03.367077Z"
    }
   },
   "outputs": [],
   "source": [
    "r = requests.post(dataUrl, data= {\n",
    "    \"sheet_id\": tableauData[\"sheetId\"],\n",
    "})\n",
    "\n",
    "dataReg = re.search('\\d+;({.*})\\d+;({.*})', r.text, re.MULTILINE)\n",
    "data1 = json.loads(dataReg.group(2))\n",
    "\n",
    "dataJson = data1[\"secondaryInfo\"][\"presModelMap\"][\"dataDictionary\"][\"presModelHolder\"][\"genDataDictionaryPresModel\"][\"dataSegments\"][\"0\"][\"dataColumns\"]"
   ]
  },
  {
   "cell_type": "markdown",
   "metadata": {},
   "source": [
    "Isolate what you want"
   ]
  },
  {
   "cell_type": "code",
   "execution_count": 6,
   "metadata": {
    "execution": {
     "iopub.execute_input": "2021-03-12T00:30:03.371651Z",
     "iopub.status.busy": "2021-03-12T00:30:03.370615Z",
     "iopub.status.idle": "2021-03-12T00:30:03.372194Z",
     "shell.execute_reply": "2021-03-12T00:30:03.372560Z"
    }
   },
   "outputs": [],
   "source": [
    "counties = dataJson[2]['dataValues'][:58]"
   ]
  },
  {
   "cell_type": "code",
   "execution_count": 7,
   "metadata": {
    "execution": {
     "iopub.execute_input": "2021-03-12T00:30:03.375953Z",
     "iopub.status.busy": "2021-03-12T00:30:03.375192Z",
     "iopub.status.idle": "2021-03-12T00:30:03.377115Z",
     "shell.execute_reply": "2021-03-12T00:30:03.376747Z"
    }
   },
   "outputs": [],
   "source": [
    "doses = dataJson[0]['dataValues'][3:61]"
   ]
  },
  {
   "cell_type": "markdown",
   "metadata": {},
   "source": [
    "Data formatting"
   ]
  },
  {
   "cell_type": "code",
   "execution_count": 8,
   "metadata": {
    "execution": {
     "iopub.execute_input": "2021-03-12T00:30:03.380396Z",
     "iopub.status.busy": "2021-03-12T00:30:03.379628Z",
     "iopub.status.idle": "2021-03-12T00:30:03.381517Z",
     "shell.execute_reply": "2021-03-12T00:30:03.381128Z"
    }
   },
   "outputs": [],
   "source": [
    "zipped = dict(zip(counties, doses))"
   ]
  },
  {
   "cell_type": "code",
   "execution_count": 9,
   "metadata": {
    "execution": {
     "iopub.execute_input": "2021-03-12T00:30:03.386741Z",
     "iopub.status.busy": "2021-03-12T00:30:03.385963Z",
     "iopub.status.idle": "2021-03-12T00:30:03.387828Z",
     "shell.execute_reply": "2021-03-12T00:30:03.387466Z"
    }
   },
   "outputs": [],
   "source": [
    "df = pd.Series(zipped).reset_index()"
   ]
  },
  {
   "cell_type": "code",
   "execution_count": 10,
   "metadata": {
    "execution": {
     "iopub.execute_input": "2021-03-12T00:30:03.391232Z",
     "iopub.status.busy": "2021-03-12T00:30:03.390465Z",
     "iopub.status.idle": "2021-03-12T00:30:03.392121Z",
     "shell.execute_reply": "2021-03-12T00:30:03.392462Z"
    }
   },
   "outputs": [],
   "source": [
    "df.columns = ['location','doses']"
   ]
  },
  {
   "cell_type": "markdown",
   "metadata": {},
   "source": [
    "Grab the overall California total"
   ]
  },
  {
   "cell_type": "code",
   "execution_count": 11,
   "metadata": {
    "execution": {
     "iopub.execute_input": "2021-03-12T00:30:03.395846Z",
     "iopub.status.busy": "2021-03-12T00:30:03.395079Z",
     "iopub.status.idle": "2021-03-12T00:30:03.396684Z",
     "shell.execute_reply": "2021-03-12T00:30:03.397024Z"
    }
   },
   "outputs": [],
   "source": [
    "add = {'location':'California','doses':dataJson[0]['dataValues'][2]}"
   ]
  },
  {
   "cell_type": "code",
   "execution_count": 12,
   "metadata": {
    "execution": {
     "iopub.execute_input": "2021-03-12T00:30:03.402726Z",
     "iopub.status.busy": "2021-03-12T00:30:03.401951Z",
     "iopub.status.idle": "2021-03-12T00:30:03.403528Z",
     "shell.execute_reply": "2021-03-12T00:30:03.403869Z"
    }
   },
   "outputs": [],
   "source": [
    "df = df.append(add, ignore_index=True)"
   ]
  },
  {
   "cell_type": "code",
   "execution_count": 13,
   "metadata": {
    "execution": {
     "iopub.execute_input": "2021-03-12T00:30:03.407752Z",
     "iopub.status.busy": "2021-03-12T00:30:03.406995Z",
     "iopub.status.idle": "2021-03-12T00:30:03.408598Z",
     "shell.execute_reply": "2021-03-12T00:30:03.408936Z"
    }
   },
   "outputs": [],
   "source": [
    "df = df.sort_values(by='location')"
   ]
  },
  {
   "cell_type": "code",
   "execution_count": 14,
   "metadata": {
    "execution": {
     "iopub.execute_input": "2021-03-12T00:30:03.414107Z",
     "iopub.status.busy": "2021-03-12T00:30:03.413327Z",
     "iopub.status.idle": "2021-03-12T00:30:03.414854Z",
     "shell.execute_reply": "2021-03-12T00:30:03.415218Z"
    }
   },
   "outputs": [],
   "source": [
    "df = df[df.location == 'California'].append(df[df.location != 'California']).reset_index(drop=True)"
   ]
  },
  {
   "cell_type": "code",
   "execution_count": null,
   "metadata": {},
   "outputs": [],
   "source": []
  },
  {
   "cell_type": "code",
   "execution_count": 15,
   "metadata": {
    "execution": {
     "iopub.execute_input": "2021-03-12T00:30:03.418049Z",
     "iopub.status.busy": "2021-03-12T00:30:03.417610Z",
     "iopub.status.idle": "2021-03-12T00:30:03.432492Z",
     "shell.execute_reply": "2021-03-12T00:30:03.432022Z"
    }
   },
   "outputs": [],
   "source": [
    "tz = pytz.timezone(\"America/New_York\")"
   ]
  },
  {
   "cell_type": "code",
   "execution_count": 16,
   "metadata": {
    "execution": {
     "iopub.execute_input": "2021-03-12T00:30:03.436009Z",
     "iopub.status.busy": "2021-03-12T00:30:03.435044Z",
     "iopub.status.idle": "2021-03-12T00:30:03.436555Z",
     "shell.execute_reply": "2021-03-12T00:30:03.436941Z"
    }
   },
   "outputs": [],
   "source": [
    "today = datetime.now(tz).date()"
   ]
  },
  {
   "cell_type": "code",
   "execution_count": 17,
   "metadata": {
    "execution": {
     "iopub.execute_input": "2021-03-12T00:30:03.440471Z",
     "iopub.status.busy": "2021-03-12T00:30:03.439595Z",
     "iopub.status.idle": "2021-03-12T00:30:03.441120Z",
     "shell.execute_reply": "2021-03-12T00:30:03.441516Z"
    }
   },
   "outputs": [],
   "source": [
    "data_dir = os.path.join(os.path.abspath(\"\"), \"data\")"
   ]
  },
  {
   "cell_type": "code",
   "execution_count": 18,
   "metadata": {
    "execution": {
     "iopub.execute_input": "2021-03-12T00:30:03.445951Z",
     "iopub.status.busy": "2021-03-12T00:30:03.444166Z",
     "iopub.status.idle": "2021-03-12T00:30:03.447625Z",
     "shell.execute_reply": "2021-03-12T00:30:03.447964Z"
    }
   },
   "outputs": [],
   "source": [
    "df.to_csv(os.path.join(data_dir, f\"{today}.csv\"), index=False)"
   ]
  },
  {
   "cell_type": "code",
   "execution_count": null,
   "metadata": {},
   "outputs": [],
   "source": []
  }
 ],
 "metadata": {
  "kernelspec": {
   "display_name": "Python 3",
   "language": "python",
   "name": "python3"
  },
  "language_info": {
   "codemirror_mode": {
    "name": "ipython",
    "version": 3
   },
   "file_extension": ".py",
   "mimetype": "text/x-python",
   "name": "python",
   "nbconvert_exporter": "python",
   "pygments_lexer": "ipython3",
   "version": "3.8.8"
  }
 },
 "nbformat": 4,
 "nbformat_minor": 4
}
