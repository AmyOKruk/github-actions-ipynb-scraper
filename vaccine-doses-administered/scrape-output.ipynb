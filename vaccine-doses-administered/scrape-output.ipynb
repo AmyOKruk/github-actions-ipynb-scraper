{
 "cells": [
  {
   "cell_type": "markdown",
   "metadata": {},
   "source": [
    "# California COVID vaccinations scrape"
   ]
  },
  {
   "cell_type": "markdown",
   "metadata": {},
   "source": [
    "By [Amy O'Kruk](https://twitter.com/amyokruk)"
   ]
  },
  {
   "cell_type": "markdown",
   "metadata": {},
   "source": [
    "Downloads data on vaccine doses administered by county and statewide from a Tableau-powered dashboard from the California Department of Public Health."
   ]
  },
  {
   "cell_type": "code",
   "execution_count": 1,
   "metadata": {
    "execution": {
     "iopub.execute_input": "2021-03-15T00:30:50.789745Z",
     "iopub.status.busy": "2021-03-15T00:30:50.788610Z",
     "iopub.status.idle": "2021-03-15T00:30:51.240653Z",
     "shell.execute_reply": "2021-03-15T00:30:51.238967Z"
    }
   },
   "outputs": [],
   "source": [
    "import pandas as pd\n",
    "import requests\n",
    "from bs4 import BeautifulSoup\n",
    "import json\n",
    "import re\n",
    "import time\n",
    "from time import gmtime, strftime \n",
    "import os\n",
    "import pytz\n",
    "from datetime import datetime"
   ]
  },
  {
   "cell_type": "markdown",
   "metadata": {},
   "source": [
    "Scrape the dashboard page"
   ]
  },
  {
   "cell_type": "code",
   "execution_count": 2,
   "metadata": {
    "execution": {
     "iopub.execute_input": "2021-03-15T00:30:51.246165Z",
     "iopub.status.busy": "2021-03-15T00:30:51.244357Z",
     "iopub.status.idle": "2021-03-15T00:30:51.845913Z",
     "shell.execute_reply": "2021-03-15T00:30:51.845081Z"
    }
   },
   "outputs": [],
   "source": [
    "url = \"https://public.tableau.com/interactive/views/COVID-19VaccineDashboardPublic/Vaccine?:embed=y&:showVizHome=n&:apiID=host0\"\n",
    "\n",
    "r = requests.get(url)\n",
    "soup = BeautifulSoup(r.text, \"html.parser\")"
   ]
  },
  {
   "cell_type": "code",
   "execution_count": 3,
   "metadata": {
    "execution": {
     "iopub.execute_input": "2021-03-15T00:30:51.850930Z",
     "iopub.status.busy": "2021-03-15T00:30:51.850410Z",
     "iopub.status.idle": "2021-03-15T00:30:51.853828Z",
     "shell.execute_reply": "2021-03-15T00:30:51.853389Z"
    }
   },
   "outputs": [],
   "source": [
    "tableauData = json.loads(soup.find(\"textarea\",{\"id\": \"tsConfigContainer\"}).text)"
   ]
  },
  {
   "cell_type": "markdown",
   "metadata": {},
   "source": [
    "Get the link to the Tableau data"
   ]
  },
  {
   "cell_type": "code",
   "execution_count": 4,
   "metadata": {
    "execution": {
     "iopub.execute_input": "2021-03-15T00:30:51.858586Z",
     "iopub.status.busy": "2021-03-15T00:30:51.857318Z",
     "iopub.status.idle": "2021-03-15T00:30:51.859186Z",
     "shell.execute_reply": "2021-03-15T00:30:51.859610Z"
    }
   },
   "outputs": [],
   "source": [
    "dataUrl = f'https://public.tableau.com{tableauData[\"vizql_root\"]}/bootstrapSession/sessions/{tableauData[\"sessionid\"]}'"
   ]
  },
  {
   "cell_type": "code",
   "execution_count": 5,
   "metadata": {
    "execution": {
     "iopub.execute_input": "2021-03-15T00:30:51.866368Z",
     "iopub.status.busy": "2021-03-15T00:30:51.865817Z",
     "iopub.status.idle": "2021-03-15T00:30:52.196308Z",
     "shell.execute_reply": "2021-03-15T00:30:52.197138Z"
    }
   },
   "outputs": [],
   "source": [
    "r = requests.post(dataUrl, data= {\n",
    "    \"sheet_id\": tableauData[\"sheetId\"],\n",
    "})\n",
    "\n",
    "dataReg = re.search('\\d+;({.*})\\d+;({.*})', r.text, re.MULTILINE)\n",
    "data1 = json.loads(dataReg.group(2))\n",
    "\n",
    "dataJson = data1[\"secondaryInfo\"][\"presModelMap\"][\"dataDictionary\"][\"presModelHolder\"][\"genDataDictionaryPresModel\"][\"dataSegments\"][\"0\"][\"dataColumns\"]"
   ]
  },
  {
   "cell_type": "markdown",
   "metadata": {},
   "source": [
    "Isolate what you want"
   ]
  },
  {
   "cell_type": "code",
   "execution_count": 6,
   "metadata": {
    "execution": {
     "iopub.execute_input": "2021-03-15T00:30:52.200847Z",
     "iopub.status.busy": "2021-03-15T00:30:52.199928Z",
     "iopub.status.idle": "2021-03-15T00:30:52.202448Z",
     "shell.execute_reply": "2021-03-15T00:30:52.202857Z"
    }
   },
   "outputs": [],
   "source": [
    "counties = dataJson[2]['dataValues'][:58]"
   ]
  },
  {
   "cell_type": "code",
   "execution_count": 7,
   "metadata": {
    "execution": {
     "iopub.execute_input": "2021-03-15T00:30:52.206423Z",
     "iopub.status.busy": "2021-03-15T00:30:52.205888Z",
     "iopub.status.idle": "2021-03-15T00:30:52.209593Z",
     "shell.execute_reply": "2021-03-15T00:30:52.209139Z"
    }
   },
   "outputs": [],
   "source": [
    "doses = dataJson[0]['dataValues'][3:61]"
   ]
  },
  {
   "cell_type": "markdown",
   "metadata": {},
   "source": [
    "Data formatting"
   ]
  },
  {
   "cell_type": "code",
   "execution_count": 8,
   "metadata": {
    "execution": {
     "iopub.execute_input": "2021-03-15T00:30:52.213001Z",
     "iopub.status.busy": "2021-03-15T00:30:52.212454Z",
     "iopub.status.idle": "2021-03-15T00:30:52.214898Z",
     "shell.execute_reply": "2021-03-15T00:30:52.214437Z"
    }
   },
   "outputs": [],
   "source": [
    "zipped = dict(zip(counties, doses))"
   ]
  },
  {
   "cell_type": "code",
   "execution_count": 9,
   "metadata": {
    "execution": {
     "iopub.execute_input": "2021-03-15T00:30:52.220385Z",
     "iopub.status.busy": "2021-03-15T00:30:52.219873Z",
     "iopub.status.idle": "2021-03-15T00:30:52.222009Z",
     "shell.execute_reply": "2021-03-15T00:30:52.221488Z"
    }
   },
   "outputs": [],
   "source": [
    "df = pd.Series(zipped).reset_index()"
   ]
  },
  {
   "cell_type": "code",
   "execution_count": 10,
   "metadata": {
    "execution": {
     "iopub.execute_input": "2021-03-15T00:30:52.225463Z",
     "iopub.status.busy": "2021-03-15T00:30:52.224913Z",
     "iopub.status.idle": "2021-03-15T00:30:52.227217Z",
     "shell.execute_reply": "2021-03-15T00:30:52.226747Z"
    }
   },
   "outputs": [],
   "source": [
    "df.columns = ['location','doses']"
   ]
  },
  {
   "cell_type": "markdown",
   "metadata": {},
   "source": [
    "Grab the overall California total"
   ]
  },
  {
   "cell_type": "code",
   "execution_count": 11,
   "metadata": {
    "execution": {
     "iopub.execute_input": "2021-03-15T00:30:52.230644Z",
     "iopub.status.busy": "2021-03-15T00:30:52.230129Z",
     "iopub.status.idle": "2021-03-15T00:30:52.232446Z",
     "shell.execute_reply": "2021-03-15T00:30:52.232018Z"
    }
   },
   "outputs": [],
   "source": [
    "add = {'location':'California','doses':dataJson[0]['dataValues'][2]}"
   ]
  },
  {
   "cell_type": "code",
   "execution_count": 12,
   "metadata": {
    "execution": {
     "iopub.execute_input": "2021-03-15T00:30:52.238582Z",
     "iopub.status.busy": "2021-03-15T00:30:52.238062Z",
     "iopub.status.idle": "2021-03-15T00:30:52.240224Z",
     "shell.execute_reply": "2021-03-15T00:30:52.239645Z"
    }
   },
   "outputs": [],
   "source": [
    "df = df.append(add, ignore_index=True)"
   ]
  },
  {
   "cell_type": "code",
   "execution_count": 13,
   "metadata": {
    "execution": {
     "iopub.execute_input": "2021-03-15T00:30:52.244264Z",
     "iopub.status.busy": "2021-03-15T00:30:52.243752Z",
     "iopub.status.idle": "2021-03-15T00:30:52.245972Z",
     "shell.execute_reply": "2021-03-15T00:30:52.245516Z"
    }
   },
   "outputs": [],
   "source": [
    "df = df.sort_values(by='location')"
   ]
  },
  {
   "cell_type": "code",
   "execution_count": 14,
   "metadata": {
    "execution": {
     "iopub.execute_input": "2021-03-15T00:30:52.251460Z",
     "iopub.status.busy": "2021-03-15T00:30:52.250948Z",
     "iopub.status.idle": "2021-03-15T00:30:52.252889Z",
     "shell.execute_reply": "2021-03-15T00:30:52.253353Z"
    }
   },
   "outputs": [],
   "source": [
    "df = df[df.location == 'California'].append(df[df.location != 'California']).reset_index(drop=True)"
   ]
  },
  {
   "cell_type": "code",
   "execution_count": null,
   "metadata": {},
   "outputs": [],
   "source": []
  },
  {
   "cell_type": "code",
   "execution_count": 15,
   "metadata": {
    "execution": {
     "iopub.execute_input": "2021-03-15T00:30:52.256553Z",
     "iopub.status.busy": "2021-03-15T00:30:52.256040Z",
     "iopub.status.idle": "2021-03-15T00:30:52.274384Z",
     "shell.execute_reply": "2021-03-15T00:30:52.273938Z"
    }
   },
   "outputs": [],
   "source": [
    "tz = pytz.timezone(\"America/New_York\")"
   ]
  },
  {
   "cell_type": "code",
   "execution_count": 16,
   "metadata": {
    "execution": {
     "iopub.execute_input": "2021-03-15T00:30:52.278717Z",
     "iopub.status.busy": "2021-03-15T00:30:52.277509Z",
     "iopub.status.idle": "2021-03-15T00:30:52.279317Z",
     "shell.execute_reply": "2021-03-15T00:30:52.279744Z"
    }
   },
   "outputs": [],
   "source": [
    "today = datetime.now(tz).date()"
   ]
  },
  {
   "cell_type": "code",
   "execution_count": 17,
   "metadata": {
    "execution": {
     "iopub.execute_input": "2021-03-15T00:30:52.284223Z",
     "iopub.status.busy": "2021-03-15T00:30:52.283122Z",
     "iopub.status.idle": "2021-03-15T00:30:52.284821Z",
     "shell.execute_reply": "2021-03-15T00:30:52.285281Z"
    }
   },
   "outputs": [],
   "source": [
    "data_dir = os.path.join(os.path.abspath(\"\"), \"data\")"
   ]
  },
  {
   "cell_type": "code",
   "execution_count": 18,
   "metadata": {
    "execution": {
     "iopub.execute_input": "2021-03-15T00:30:52.289962Z",
     "iopub.status.busy": "2021-03-15T00:30:52.288748Z",
     "iopub.status.idle": "2021-03-15T00:30:52.293612Z",
     "shell.execute_reply": "2021-03-15T00:30:52.293071Z"
    }
   },
   "outputs": [],
   "source": [
    "df.to_csv(os.path.join(data_dir, f\"{today}.csv\"), index=False)"
   ]
  },
  {
   "cell_type": "code",
   "execution_count": null,
   "metadata": {},
   "outputs": [],
   "source": []
  }
 ],
 "metadata": {
  "kernelspec": {
   "display_name": "Python 3",
   "language": "python",
   "name": "python3"
  },
  "language_info": {
   "codemirror_mode": {
    "name": "ipython",
    "version": 3
   },
   "file_extension": ".py",
   "mimetype": "text/x-python",
   "name": "python",
   "nbconvert_exporter": "python",
   "pygments_lexer": "ipython3",
   "version": "3.8.8"
  }
 },
 "nbformat": 4,
 "nbformat_minor": 4
}
