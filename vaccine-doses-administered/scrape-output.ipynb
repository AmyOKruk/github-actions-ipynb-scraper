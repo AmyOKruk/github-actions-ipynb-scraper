{
 "cells": [
  {
   "cell_type": "markdown",
   "metadata": {},
   "source": [
    "# California COVID vaccinations scrape"
   ]
  },
  {
   "cell_type": "markdown",
   "metadata": {},
   "source": [
    "By [Amy O'Kruk](https://twitter.com/amyokruk)"
   ]
  },
  {
   "cell_type": "markdown",
   "metadata": {},
   "source": [
    "Downloads data on vaccine doses administered by county and statewide from a Tableau-powered dashboard from the California Department of Public Health."
   ]
  },
  {
   "cell_type": "code",
   "execution_count": 1,
   "metadata": {
    "execution": {
     "iopub.execute_input": "2021-03-18T17:56:28.762825Z",
     "iopub.status.busy": "2021-03-18T17:56:28.761962Z",
     "iopub.status.idle": "2021-03-18T17:56:29.249163Z",
     "shell.execute_reply": "2021-03-18T17:56:29.248282Z"
    }
   },
   "outputs": [],
   "source": [
    "import pandas as pd\n",
    "import requests\n",
    "from bs4 import BeautifulSoup\n",
    "import json\n",
    "import re\n",
    "import time\n",
    "from time import gmtime, strftime \n",
    "import os\n",
    "import pytz\n",
    "from datetime import datetime"
   ]
  },
  {
   "cell_type": "markdown",
   "metadata": {},
   "source": [
    "Scrape the dashboard page"
   ]
  },
  {
   "cell_type": "code",
   "execution_count": 2,
   "metadata": {
    "execution": {
     "iopub.execute_input": "2021-03-18T17:56:29.255056Z",
     "iopub.status.busy": "2021-03-18T17:56:29.252741Z",
     "iopub.status.idle": "2021-03-18T17:56:29.600437Z",
     "shell.execute_reply": "2021-03-18T17:56:29.600868Z"
    }
   },
   "outputs": [],
   "source": [
    "url = \"https://public.tableau.com/interactive/views/COVID-19VaccineDashboardPublic/Vaccine?:embed=y&:showVizHome=n&:apiID=host0\"\n",
    "\n",
    "r = requests.get(url)\n",
    "soup = BeautifulSoup(r.text, \"html.parser\")"
   ]
  },
  {
   "cell_type": "code",
   "execution_count": 3,
   "metadata": {
    "execution": {
     "iopub.execute_input": "2021-03-18T17:56:29.605754Z",
     "iopub.status.busy": "2021-03-18T17:56:29.605179Z",
     "iopub.status.idle": "2021-03-18T17:56:29.609114Z",
     "shell.execute_reply": "2021-03-18T17:56:29.608234Z"
    }
   },
   "outputs": [],
   "source": [
    "tableauData = json.loads(soup.find(\"textarea\",{\"id\": \"tsConfigContainer\"}).text)"
   ]
  },
  {
   "cell_type": "markdown",
   "metadata": {},
   "source": [
    "Get the link to the Tableau data"
   ]
  },
  {
   "cell_type": "code",
   "execution_count": 4,
   "metadata": {
    "execution": {
     "iopub.execute_input": "2021-03-18T17:56:29.613442Z",
     "iopub.status.busy": "2021-03-18T17:56:29.612240Z",
     "iopub.status.idle": "2021-03-18T17:56:29.620974Z",
     "shell.execute_reply": "2021-03-18T17:56:29.621514Z"
    }
   },
   "outputs": [],
   "source": [
    "dataUrl = f'https://public.tableau.com{tableauData[\"vizql_root\"]}/bootstrapSession/sessions/{tableauData[\"sessionid\"]}'"
   ]
  },
  {
   "cell_type": "code",
   "execution_count": 5,
   "metadata": {
    "execution": {
     "iopub.execute_input": "2021-03-18T17:56:29.628897Z",
     "iopub.status.busy": "2021-03-18T17:56:29.628257Z",
     "iopub.status.idle": "2021-03-18T17:56:29.867623Z",
     "shell.execute_reply": "2021-03-18T17:56:29.868123Z"
    }
   },
   "outputs": [],
   "source": [
    "r = requests.post(dataUrl, data= {\n",
    "    \"sheet_id\": tableauData[\"sheetId\"],\n",
    "})\n",
    "\n",
    "dataReg = re.search('\\d+;({.*})\\d+;({.*})', r.text, re.MULTILINE)\n",
    "data1 = json.loads(dataReg.group(2))\n",
    "\n",
    "dataJson = data1[\"secondaryInfo\"][\"presModelMap\"][\"dataDictionary\"][\"presModelHolder\"][\"genDataDictionaryPresModel\"][\"dataSegments\"][\"0\"][\"dataColumns\"]"
   ]
  },
  {
   "cell_type": "markdown",
   "metadata": {},
   "source": [
    "Isolate what you want"
   ]
  },
  {
   "cell_type": "code",
   "execution_count": 6,
   "metadata": {
    "execution": {
     "iopub.execute_input": "2021-03-18T17:56:29.872790Z",
     "iopub.status.busy": "2021-03-18T17:56:29.872036Z",
     "iopub.status.idle": "2021-03-18T17:56:29.876144Z",
     "shell.execute_reply": "2021-03-18T17:56:29.875661Z"
    }
   },
   "outputs": [],
   "source": [
    "counties = dataJson[2]['dataValues'][:58]"
   ]
  },
  {
   "cell_type": "code",
   "execution_count": 7,
   "metadata": {
    "execution": {
     "iopub.execute_input": "2021-03-18T17:56:29.880499Z",
     "iopub.status.busy": "2021-03-18T17:56:29.879790Z",
     "iopub.status.idle": "2021-03-18T17:56:29.883899Z",
     "shell.execute_reply": "2021-03-18T17:56:29.883347Z"
    }
   },
   "outputs": [],
   "source": [
    "doses = dataJson[0]['dataValues'][3:61]"
   ]
  },
  {
   "cell_type": "markdown",
   "metadata": {},
   "source": [
    "Data formatting"
   ]
  },
  {
   "cell_type": "code",
   "execution_count": 8,
   "metadata": {
    "execution": {
     "iopub.execute_input": "2021-03-18T17:56:29.887586Z",
     "iopub.status.busy": "2021-03-18T17:56:29.887008Z",
     "iopub.status.idle": "2021-03-18T17:56:29.890922Z",
     "shell.execute_reply": "2021-03-18T17:56:29.890430Z"
    }
   },
   "outputs": [],
   "source": [
    "zipped = dict(zip(counties, doses))"
   ]
  },
  {
   "cell_type": "code",
   "execution_count": 9,
   "metadata": {
    "execution": {
     "iopub.execute_input": "2021-03-18T17:56:29.898319Z",
     "iopub.status.busy": "2021-03-18T17:56:29.896711Z",
     "iopub.status.idle": "2021-03-18T17:56:29.899093Z",
     "shell.execute_reply": "2021-03-18T17:56:29.899583Z"
    }
   },
   "outputs": [],
   "source": [
    "df = pd.Series(zipped).reset_index()"
   ]
  },
  {
   "cell_type": "code",
   "execution_count": 10,
   "metadata": {
    "execution": {
     "iopub.execute_input": "2021-03-18T17:56:29.904845Z",
     "iopub.status.busy": "2021-03-18T17:56:29.903146Z",
     "iopub.status.idle": "2021-03-18T17:56:29.905514Z",
     "shell.execute_reply": "2021-03-18T17:56:29.906004Z"
    }
   },
   "outputs": [],
   "source": [
    "df.columns = ['location','doses']"
   ]
  },
  {
   "cell_type": "markdown",
   "metadata": {},
   "source": [
    "Grab the overall California total"
   ]
  },
  {
   "cell_type": "code",
   "execution_count": 11,
   "metadata": {
    "execution": {
     "iopub.execute_input": "2021-03-18T17:56:29.910997Z",
     "iopub.status.busy": "2021-03-18T17:56:29.909541Z",
     "iopub.status.idle": "2021-03-18T17:56:29.911681Z",
     "shell.execute_reply": "2021-03-18T17:56:29.912168Z"
    }
   },
   "outputs": [],
   "source": [
    "add = {'location':'California','doses':dataJson[0]['dataValues'][2]}"
   ]
  },
  {
   "cell_type": "code",
   "execution_count": 12,
   "metadata": {
    "execution": {
     "iopub.execute_input": "2021-03-18T17:56:29.920250Z",
     "iopub.status.busy": "2021-03-18T17:56:29.918610Z",
     "iopub.status.idle": "2021-03-18T17:56:29.920951Z",
     "shell.execute_reply": "2021-03-18T17:56:29.921465Z"
    }
   },
   "outputs": [],
   "source": [
    "df = df.append(add, ignore_index=True)"
   ]
  },
  {
   "cell_type": "code",
   "execution_count": 13,
   "metadata": {
    "execution": {
     "iopub.execute_input": "2021-03-18T17:56:29.926829Z",
     "iopub.status.busy": "2021-03-18T17:56:29.925449Z",
     "iopub.status.idle": "2021-03-18T17:56:29.927583Z",
     "shell.execute_reply": "2021-03-18T17:56:29.928064Z"
    }
   },
   "outputs": [],
   "source": [
    "df = df.sort_values(by='location')"
   ]
  },
  {
   "cell_type": "code",
   "execution_count": 14,
   "metadata": {
    "execution": {
     "iopub.execute_input": "2021-03-18T17:56:29.935097Z",
     "iopub.status.busy": "2021-03-18T17:56:29.933693Z",
     "iopub.status.idle": "2021-03-18T17:56:29.935803Z",
     "shell.execute_reply": "2021-03-18T17:56:29.936286Z"
    }
   },
   "outputs": [],
   "source": [
    "df = df[df.location == 'California'].append(df[df.location != 'California']).reset_index(drop=True)"
   ]
  },
  {
   "cell_type": "code",
   "execution_count": null,
   "metadata": {},
   "outputs": [],
   "source": []
  },
  {
   "cell_type": "code",
   "execution_count": 15,
   "metadata": {
    "execution": {
     "iopub.execute_input": "2021-03-18T17:56:29.940093Z",
     "iopub.status.busy": "2021-03-18T17:56:29.939528Z",
     "iopub.status.idle": "2021-03-18T17:56:29.960756Z",
     "shell.execute_reply": "2021-03-18T17:56:29.960177Z"
    }
   },
   "outputs": [],
   "source": [
    "tz = pytz.timezone(\"America/New_York\")"
   ]
  },
  {
   "cell_type": "code",
   "execution_count": 16,
   "metadata": {
    "execution": {
     "iopub.execute_input": "2021-03-18T17:56:29.966019Z",
     "iopub.status.busy": "2021-03-18T17:56:29.964373Z",
     "iopub.status.idle": "2021-03-18T17:56:29.966746Z",
     "shell.execute_reply": "2021-03-18T17:56:29.967224Z"
    }
   },
   "outputs": [],
   "source": [
    "today = datetime.now(tz).date()"
   ]
  },
  {
   "cell_type": "code",
   "execution_count": 17,
   "metadata": {
    "execution": {
     "iopub.execute_input": "2021-03-18T17:56:29.972153Z",
     "iopub.status.busy": "2021-03-18T17:56:29.970667Z",
     "iopub.status.idle": "2021-03-18T17:56:29.972869Z",
     "shell.execute_reply": "2021-03-18T17:56:29.973358Z"
    }
   },
   "outputs": [],
   "source": [
    "data_dir = os.path.join(os.path.abspath(\"\"), \"data\")"
   ]
  },
  {
   "cell_type": "code",
   "execution_count": 18,
   "metadata": {
    "execution": {
     "iopub.execute_input": "2021-03-18T17:56:29.979324Z",
     "iopub.status.busy": "2021-03-18T17:56:29.976603Z",
     "iopub.status.idle": "2021-03-18T17:56:29.982253Z",
     "shell.execute_reply": "2021-03-18T17:56:29.981459Z"
    }
   },
   "outputs": [],
   "source": [
    "df.to_csv(os.path.join(data_dir, f\"{today}.csv\"), index=False)"
   ]
  },
  {
   "cell_type": "code",
   "execution_count": null,
   "metadata": {},
   "outputs": [],
   "source": []
  }
 ],
 "metadata": {
  "kernelspec": {
   "display_name": "Python 3",
   "language": "python",
   "name": "python3"
  },
  "language_info": {
   "codemirror_mode": {
    "name": "ipython",
    "version": 3
   },
   "file_extension": ".py",
   "mimetype": "text/x-python",
   "name": "python",
   "nbconvert_exporter": "python",
   "pygments_lexer": "ipython3",
   "version": "3.8.8"
  }
 },
 "nbformat": 4,
 "nbformat_minor": 4
}
