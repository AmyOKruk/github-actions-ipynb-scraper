{
 "cells": [
  {
   "cell_type": "markdown",
   "metadata": {},
   "source": [
    "# California COVID vaccinations scrape"
   ]
  },
  {
   "cell_type": "markdown",
   "metadata": {},
   "source": [
    "By [Amy O'Kruk](https://twitter.com/amyokruk)"
   ]
  },
  {
   "cell_type": "markdown",
   "metadata": {},
   "source": [
    "Downloads data on vaccine doses administered by county and statewide from a Tableau-powered dashboard from the California Department of Public Health."
   ]
  },
  {
   "cell_type": "code",
   "execution_count": 1,
   "metadata": {
    "execution": {
     "iopub.execute_input": "2021-03-24T22:55:21.663444Z",
     "iopub.status.busy": "2021-03-24T22:55:21.662128Z",
     "iopub.status.idle": "2021-03-24T22:55:22.153111Z",
     "shell.execute_reply": "2021-03-24T22:55:22.153614Z"
    }
   },
   "outputs": [],
   "source": [
    "import pandas as pd\n",
    "import requests\n",
    "from bs4 import BeautifulSoup\n",
    "import json\n",
    "import re\n",
    "import time\n",
    "from time import gmtime, strftime \n",
    "import os\n",
    "import pytz\n",
    "from datetime import datetime"
   ]
  },
  {
   "cell_type": "markdown",
   "metadata": {},
   "source": [
    "Scrape the dashboard page"
   ]
  },
  {
   "cell_type": "code",
   "execution_count": 2,
   "metadata": {
    "execution": {
     "iopub.execute_input": "2021-03-24T22:55:22.160704Z",
     "iopub.status.busy": "2021-03-24T22:55:22.157710Z",
     "iopub.status.idle": "2021-03-24T22:55:22.873558Z",
     "shell.execute_reply": "2021-03-24T22:55:22.872219Z"
    }
   },
   "outputs": [],
   "source": [
    "url = \"https://public.tableau.com/interactive/views/COVID-19VaccineDashboardPublic/Vaccine?:embed=y&:showVizHome=n&:apiID=host0\"\n",
    "\n",
    "r = requests.get(url)\n",
    "soup = BeautifulSoup(r.text, \"html.parser\")"
   ]
  },
  {
   "cell_type": "code",
   "execution_count": 3,
   "metadata": {
    "execution": {
     "iopub.execute_input": "2021-03-24T22:55:22.878788Z",
     "iopub.status.busy": "2021-03-24T22:55:22.878188Z",
     "iopub.status.idle": "2021-03-24T22:55:22.881927Z",
     "shell.execute_reply": "2021-03-24T22:55:22.882384Z"
    }
   },
   "outputs": [],
   "source": [
    "tableauData = json.loads(soup.find(\"textarea\",{\"id\": \"tsConfigContainer\"}).text)"
   ]
  },
  {
   "cell_type": "markdown",
   "metadata": {},
   "source": [
    "Get the link to the Tableau data"
   ]
  },
  {
   "cell_type": "code",
   "execution_count": 4,
   "metadata": {
    "execution": {
     "iopub.execute_input": "2021-03-24T22:55:22.888724Z",
     "iopub.status.busy": "2021-03-24T22:55:22.887692Z",
     "iopub.status.idle": "2021-03-24T22:55:22.892454Z",
     "shell.execute_reply": "2021-03-24T22:55:22.892953Z"
    }
   },
   "outputs": [],
   "source": [
    "dataUrl = f'https://public.tableau.com{tableauData[\"vizql_root\"]}/bootstrapSession/sessions/{tableauData[\"sessionid\"]}'"
   ]
  },
  {
   "cell_type": "code",
   "execution_count": 5,
   "metadata": {
    "execution": {
     "iopub.execute_input": "2021-03-24T22:55:22.899947Z",
     "iopub.status.busy": "2021-03-24T22:55:22.898251Z",
     "iopub.status.idle": "2021-03-24T22:55:23.279622Z",
     "shell.execute_reply": "2021-03-24T22:55:23.279034Z"
    }
   },
   "outputs": [],
   "source": [
    "r = requests.post(dataUrl, data= {\n",
    "    \"sheet_id\": tableauData[\"sheetId\"],\n",
    "})\n",
    "\n",
    "dataReg = re.search('\\d+;({.*})\\d+;({.*})', r.text, re.MULTILINE)\n",
    "data1 = json.loads(dataReg.group(2))\n",
    "\n",
    "dataJson = data1[\"secondaryInfo\"][\"presModelMap\"][\"dataDictionary\"][\"presModelHolder\"][\"genDataDictionaryPresModel\"][\"dataSegments\"][\"0\"][\"dataColumns\"]"
   ]
  },
  {
   "cell_type": "markdown",
   "metadata": {},
   "source": [
    "Isolate what you want"
   ]
  },
  {
   "cell_type": "code",
   "execution_count": 6,
   "metadata": {
    "execution": {
     "iopub.execute_input": "2021-03-24T22:55:23.284068Z",
     "iopub.status.busy": "2021-03-24T22:55:23.283476Z",
     "iopub.status.idle": "2021-03-24T22:55:23.287528Z",
     "shell.execute_reply": "2021-03-24T22:55:23.286924Z"
    }
   },
   "outputs": [],
   "source": [
    "counties = dataJson[2]['dataValues'][:58]"
   ]
  },
  {
   "cell_type": "code",
   "execution_count": 7,
   "metadata": {
    "execution": {
     "iopub.execute_input": "2021-03-24T22:55:23.292889Z",
     "iopub.status.busy": "2021-03-24T22:55:23.291566Z",
     "iopub.status.idle": "2021-03-24T22:55:23.293654Z",
     "shell.execute_reply": "2021-03-24T22:55:23.294111Z"
    }
   },
   "outputs": [],
   "source": [
    "doses = dataJson[0]['dataValues'][3:61]"
   ]
  },
  {
   "cell_type": "markdown",
   "metadata": {},
   "source": [
    "Data formatting"
   ]
  },
  {
   "cell_type": "code",
   "execution_count": 8,
   "metadata": {
    "execution": {
     "iopub.execute_input": "2021-03-24T22:55:23.299445Z",
     "iopub.status.busy": "2021-03-24T22:55:23.297828Z",
     "iopub.status.idle": "2021-03-24T22:55:23.300208Z",
     "shell.execute_reply": "2021-03-24T22:55:23.300708Z"
    }
   },
   "outputs": [],
   "source": [
    "zipped = dict(zip(counties, doses))"
   ]
  },
  {
   "cell_type": "code",
   "execution_count": 9,
   "metadata": {
    "execution": {
     "iopub.execute_input": "2021-03-24T22:55:23.309103Z",
     "iopub.status.busy": "2021-03-24T22:55:23.307728Z",
     "iopub.status.idle": "2021-03-24T22:55:23.309848Z",
     "shell.execute_reply": "2021-03-24T22:55:23.310367Z"
    }
   },
   "outputs": [],
   "source": [
    "df = pd.Series(zipped).reset_index()"
   ]
  },
  {
   "cell_type": "code",
   "execution_count": 10,
   "metadata": {
    "execution": {
     "iopub.execute_input": "2021-03-24T22:55:23.315434Z",
     "iopub.status.busy": "2021-03-24T22:55:23.314221Z",
     "iopub.status.idle": "2021-03-24T22:55:23.316404Z",
     "shell.execute_reply": "2021-03-24T22:55:23.316975Z"
    }
   },
   "outputs": [],
   "source": [
    "df.columns = ['location','doses']"
   ]
  },
  {
   "cell_type": "markdown",
   "metadata": {},
   "source": [
    "Grab the overall California total"
   ]
  },
  {
   "cell_type": "code",
   "execution_count": 11,
   "metadata": {
    "execution": {
     "iopub.execute_input": "2021-03-24T22:55:23.322221Z",
     "iopub.status.busy": "2021-03-24T22:55:23.320747Z",
     "iopub.status.idle": "2021-03-24T22:55:23.322903Z",
     "shell.execute_reply": "2021-03-24T22:55:23.323364Z"
    }
   },
   "outputs": [],
   "source": [
    "add = {'location':'California','doses':dataJson[0]['dataValues'][2]}"
   ]
  },
  {
   "cell_type": "code",
   "execution_count": 12,
   "metadata": {
    "execution": {
     "iopub.execute_input": "2021-03-24T22:55:23.331170Z",
     "iopub.status.busy": "2021-03-24T22:55:23.330116Z",
     "iopub.status.idle": "2021-03-24T22:55:23.332608Z",
     "shell.execute_reply": "2021-03-24T22:55:23.332125Z"
    }
   },
   "outputs": [],
   "source": [
    "df = df.append(add, ignore_index=True)"
   ]
  },
  {
   "cell_type": "code",
   "execution_count": 13,
   "metadata": {
    "execution": {
     "iopub.execute_input": "2021-03-24T22:55:23.338975Z",
     "iopub.status.busy": "2021-03-24T22:55:23.337413Z",
     "iopub.status.idle": "2021-03-24T22:55:23.339714Z",
     "shell.execute_reply": "2021-03-24T22:55:23.340257Z"
    }
   },
   "outputs": [],
   "source": [
    "df = df.sort_values(by='location')"
   ]
  },
  {
   "cell_type": "code",
   "execution_count": 14,
   "metadata": {
    "execution": {
     "iopub.execute_input": "2021-03-24T22:55:23.347285Z",
     "iopub.status.busy": "2021-03-24T22:55:23.346096Z",
     "iopub.status.idle": "2021-03-24T22:55:23.348081Z",
     "shell.execute_reply": "2021-03-24T22:55:23.348545Z"
    }
   },
   "outputs": [],
   "source": [
    "df = df[df.location == 'California'].append(df[df.location != 'California']).reset_index(drop=True)"
   ]
  },
  {
   "cell_type": "code",
   "execution_count": null,
   "metadata": {},
   "outputs": [],
   "source": []
  },
  {
   "cell_type": "code",
   "execution_count": 15,
   "metadata": {
    "execution": {
     "iopub.execute_input": "2021-03-24T22:55:23.352507Z",
     "iopub.status.busy": "2021-03-24T22:55:23.351651Z",
     "iopub.status.idle": "2021-03-24T22:55:23.371996Z",
     "shell.execute_reply": "2021-03-24T22:55:23.372429Z"
    }
   },
   "outputs": [],
   "source": [
    "tz = pytz.timezone(\"America/New_York\")"
   ]
  },
  {
   "cell_type": "code",
   "execution_count": 16,
   "metadata": {
    "execution": {
     "iopub.execute_input": "2021-03-24T22:55:23.378345Z",
     "iopub.status.busy": "2021-03-24T22:55:23.377293Z",
     "iopub.status.idle": "2021-03-24T22:55:23.379412Z",
     "shell.execute_reply": "2021-03-24T22:55:23.378892Z"
    }
   },
   "outputs": [],
   "source": [
    "today = datetime.now(tz).date()"
   ]
  },
  {
   "cell_type": "code",
   "execution_count": 17,
   "metadata": {
    "execution": {
     "iopub.execute_input": "2021-03-24T22:55:23.384602Z",
     "iopub.status.busy": "2021-03-24T22:55:23.382775Z",
     "iopub.status.idle": "2021-03-24T22:55:23.386204Z",
     "shell.execute_reply": "2021-03-24T22:55:23.385540Z"
    }
   },
   "outputs": [],
   "source": [
    "data_dir = os.path.join(os.path.abspath(\"\"), \"data\")"
   ]
  },
  {
   "cell_type": "code",
   "execution_count": 18,
   "metadata": {
    "execution": {
     "iopub.execute_input": "2021-03-24T22:55:23.391981Z",
     "iopub.status.busy": "2021-03-24T22:55:23.391372Z",
     "iopub.status.idle": "2021-03-24T22:55:23.594559Z",
     "shell.execute_reply": "2021-03-24T22:55:23.593963Z"
    }
   },
   "outputs": [],
   "source": [
    "df.to_csv(os.path.join(data_dir, f\"{today}.csv\"), index=False)"
   ]
  },
  {
   "cell_type": "code",
   "execution_count": null,
   "metadata": {},
   "outputs": [],
   "source": []
  }
 ],
 "metadata": {
  "kernelspec": {
   "display_name": "Python 3",
   "language": "python",
   "name": "python3"
  },
  "language_info": {
   "codemirror_mode": {
    "name": "ipython",
    "version": 3
   },
   "file_extension": ".py",
   "mimetype": "text/x-python",
   "name": "python",
   "nbconvert_exporter": "python",
   "pygments_lexer": "ipython3",
   "version": "3.8.8"
  }
 },
 "nbformat": 4,
 "nbformat_minor": 4
}
