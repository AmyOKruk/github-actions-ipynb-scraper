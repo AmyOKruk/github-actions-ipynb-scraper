{
 "cells": [
  {
   "cell_type": "markdown",
   "metadata": {},
   "source": [
    "# California COVID vaccinations scrape"
   ]
  },
  {
   "cell_type": "markdown",
   "metadata": {},
   "source": [
    "By [Amy O'Kruk](https://twitter.com/amyokruk)"
   ]
  },
  {
   "cell_type": "markdown",
   "metadata": {},
   "source": [
    "Downloads data on vaccine doses administered by county and statewide from a Tableau-powered dashboard from the California Department of Public Health."
   ]
  },
  {
   "cell_type": "code",
   "execution_count": 1,
   "metadata": {
    "execution": {
     "iopub.execute_input": "2021-03-10T22:45:44.931593Z",
     "iopub.status.busy": "2021-03-10T22:45:44.930960Z",
     "iopub.status.idle": "2021-03-10T22:45:45.314094Z",
     "shell.execute_reply": "2021-03-10T22:45:45.313511Z"
    }
   },
   "outputs": [],
   "source": [
    "import pandas as pd\n",
    "import requests\n",
    "from bs4 import BeautifulSoup\n",
    "import json\n",
    "import re\n",
    "import time\n",
    "from time import gmtime, strftime \n",
    "import os\n",
    "import pytz\n",
    "from datetime import datetime"
   ]
  },
  {
   "cell_type": "markdown",
   "metadata": {},
   "source": [
    "Scrape the dashboard page"
   ]
  },
  {
   "cell_type": "code",
   "execution_count": 2,
   "metadata": {
    "execution": {
     "iopub.execute_input": "2021-03-10T22:45:45.319689Z",
     "iopub.status.busy": "2021-03-10T22:45:45.317358Z",
     "iopub.status.idle": "2021-03-10T22:45:45.510730Z",
     "shell.execute_reply": "2021-03-10T22:45:45.510224Z"
    }
   },
   "outputs": [],
   "source": [
    "url = \"https://public.tableau.com/interactive/views/COVID-19VaccineDashboardPublic/Vaccine?:embed=y&:showVizHome=n&:apiID=host0\"\n",
    "\n",
    "r = requests.get(url)\n",
    "soup = BeautifulSoup(r.text, \"html.parser\")"
   ]
  },
  {
   "cell_type": "code",
   "execution_count": 3,
   "metadata": {
    "execution": {
     "iopub.execute_input": "2021-03-10T22:45:45.515656Z",
     "iopub.status.busy": "2021-03-10T22:45:45.515060Z",
     "iopub.status.idle": "2021-03-10T22:45:45.518350Z",
     "shell.execute_reply": "2021-03-10T22:45:45.518795Z"
    }
   },
   "outputs": [],
   "source": [
    "tableauData = json.loads(soup.find(\"textarea\",{\"id\": \"tsConfigContainer\"}).text)"
   ]
  },
  {
   "cell_type": "markdown",
   "metadata": {},
   "source": [
    "Get the link to the Tableau data"
   ]
  },
  {
   "cell_type": "code",
   "execution_count": 4,
   "metadata": {
    "execution": {
     "iopub.execute_input": "2021-03-10T22:45:45.522526Z",
     "iopub.status.busy": "2021-03-10T22:45:45.521941Z",
     "iopub.status.idle": "2021-03-10T22:45:45.525270Z",
     "shell.execute_reply": "2021-03-10T22:45:45.525722Z"
    }
   },
   "outputs": [],
   "source": [
    "dataUrl = f'https://public.tableau.com{tableauData[\"vizql_root\"]}/bootstrapSession/sessions/{tableauData[\"sessionid\"]}'"
   ]
  },
  {
   "cell_type": "code",
   "execution_count": 5,
   "metadata": {
    "execution": {
     "iopub.execute_input": "2021-03-10T22:45:45.532788Z",
     "iopub.status.busy": "2021-03-10T22:45:45.532132Z",
     "iopub.status.idle": "2021-03-10T22:45:45.729202Z",
     "shell.execute_reply": "2021-03-10T22:45:45.728671Z"
    }
   },
   "outputs": [],
   "source": [
    "r = requests.post(dataUrl, data= {\n",
    "    \"sheet_id\": tableauData[\"sheetId\"],\n",
    "})\n",
    "\n",
    "dataReg = re.search('\\d+;({.*})\\d+;({.*})', r.text, re.MULTILINE)\n",
    "data1 = json.loads(dataReg.group(2))\n",
    "\n",
    "dataJson = data1[\"secondaryInfo\"][\"presModelMap\"][\"dataDictionary\"][\"presModelHolder\"][\"genDataDictionaryPresModel\"][\"dataSegments\"][\"0\"][\"dataColumns\"]"
   ]
  },
  {
   "cell_type": "markdown",
   "metadata": {},
   "source": [
    "Isolate what you want"
   ]
  },
  {
   "cell_type": "code",
   "execution_count": 6,
   "metadata": {
    "execution": {
     "iopub.execute_input": "2021-03-10T22:45:45.734164Z",
     "iopub.status.busy": "2021-03-10T22:45:45.732788Z",
     "iopub.status.idle": "2021-03-10T22:45:45.734802Z",
     "shell.execute_reply": "2021-03-10T22:45:45.735288Z"
    }
   },
   "outputs": [],
   "source": [
    "counties = dataJson[2]['dataValues'][:58]"
   ]
  },
  {
   "cell_type": "code",
   "execution_count": 7,
   "metadata": {
    "execution": {
     "iopub.execute_input": "2021-03-10T22:45:45.739932Z",
     "iopub.status.busy": "2021-03-10T22:45:45.738571Z",
     "iopub.status.idle": "2021-03-10T22:45:45.740576Z",
     "shell.execute_reply": "2021-03-10T22:45:45.741095Z"
    }
   },
   "outputs": [],
   "source": [
    "doses = dataJson[0]['dataValues'][3:61]"
   ]
  },
  {
   "cell_type": "markdown",
   "metadata": {},
   "source": [
    "Data formatting"
   ]
  },
  {
   "cell_type": "code",
   "execution_count": 8,
   "metadata": {
    "execution": {
     "iopub.execute_input": "2021-03-10T22:45:45.745611Z",
     "iopub.status.busy": "2021-03-10T22:45:45.744286Z",
     "iopub.status.idle": "2021-03-10T22:45:45.746257Z",
     "shell.execute_reply": "2021-03-10T22:45:45.746874Z"
    }
   },
   "outputs": [],
   "source": [
    "zipped = dict(zip(counties, doses))"
   ]
  },
  {
   "cell_type": "code",
   "execution_count": 9,
   "metadata": {
    "execution": {
     "iopub.execute_input": "2021-03-10T22:45:45.753783Z",
     "iopub.status.busy": "2021-03-10T22:45:45.752445Z",
     "iopub.status.idle": "2021-03-10T22:45:45.754422Z",
     "shell.execute_reply": "2021-03-10T22:45:45.754895Z"
    }
   },
   "outputs": [],
   "source": [
    "df = pd.Series(zipped).reset_index()"
   ]
  },
  {
   "cell_type": "code",
   "execution_count": 10,
   "metadata": {
    "execution": {
     "iopub.execute_input": "2021-03-10T22:45:45.759576Z",
     "iopub.status.busy": "2021-03-10T22:45:45.758308Z",
     "iopub.status.idle": "2021-03-10T22:45:45.760216Z",
     "shell.execute_reply": "2021-03-10T22:45:45.760732Z"
    }
   },
   "outputs": [],
   "source": [
    "df.columns = ['location','doses']"
   ]
  },
  {
   "cell_type": "markdown",
   "metadata": {},
   "source": [
    "Grab the overall California total"
   ]
  },
  {
   "cell_type": "code",
   "execution_count": 11,
   "metadata": {
    "execution": {
     "iopub.execute_input": "2021-03-10T22:45:45.765476Z",
     "iopub.status.busy": "2021-03-10T22:45:45.764197Z",
     "iopub.status.idle": "2021-03-10T22:45:45.766116Z",
     "shell.execute_reply": "2021-03-10T22:45:45.766590Z"
    }
   },
   "outputs": [],
   "source": [
    "add = {'location':'California','doses':dataJson[0]['dataValues'][2]}"
   ]
  },
  {
   "cell_type": "code",
   "execution_count": 12,
   "metadata": {
    "execution": {
     "iopub.execute_input": "2021-03-10T22:45:45.774239Z",
     "iopub.status.busy": "2021-03-10T22:45:45.772975Z",
     "iopub.status.idle": "2021-03-10T22:45:45.774878Z",
     "shell.execute_reply": "2021-03-10T22:45:45.775348Z"
    }
   },
   "outputs": [],
   "source": [
    "df = df.append(add, ignore_index=True)"
   ]
  },
  {
   "cell_type": "code",
   "execution_count": 13,
   "metadata": {
    "execution": {
     "iopub.execute_input": "2021-03-10T22:45:45.780688Z",
     "iopub.status.busy": "2021-03-10T22:45:45.779422Z",
     "iopub.status.idle": "2021-03-10T22:45:45.781339Z",
     "shell.execute_reply": "2021-03-10T22:45:45.781810Z"
    }
   },
   "outputs": [],
   "source": [
    "df = df.sort_values(by='location')"
   ]
  },
  {
   "cell_type": "code",
   "execution_count": 14,
   "metadata": {
    "execution": {
     "iopub.execute_input": "2021-03-10T22:45:45.788804Z",
     "iopub.status.busy": "2021-03-10T22:45:45.787473Z",
     "iopub.status.idle": "2021-03-10T22:45:45.789449Z",
     "shell.execute_reply": "2021-03-10T22:45:45.789923Z"
    }
   },
   "outputs": [],
   "source": [
    "df = df[df.location == 'California'].append(df[df.location != 'California']).reset_index(drop=True)"
   ]
  },
  {
   "cell_type": "code",
   "execution_count": null,
   "metadata": {},
   "outputs": [],
   "source": []
  },
  {
   "cell_type": "code",
   "execution_count": 15,
   "metadata": {
    "execution": {
     "iopub.execute_input": "2021-03-10T22:45:45.793764Z",
     "iopub.status.busy": "2021-03-10T22:45:45.792918Z",
     "iopub.status.idle": "2021-03-10T22:45:45.811998Z",
     "shell.execute_reply": "2021-03-10T22:45:45.811449Z"
    }
   },
   "outputs": [],
   "source": [
    "tz = pytz.timezone(\"America/New_York\")"
   ]
  },
  {
   "cell_type": "code",
   "execution_count": 16,
   "metadata": {
    "execution": {
     "iopub.execute_input": "2021-03-10T22:45:45.816922Z",
     "iopub.status.busy": "2021-03-10T22:45:45.815501Z",
     "iopub.status.idle": "2021-03-10T22:45:45.817561Z",
     "shell.execute_reply": "2021-03-10T22:45:45.818036Z"
    }
   },
   "outputs": [],
   "source": [
    "today = datetime.now(tz).date()"
   ]
  },
  {
   "cell_type": "code",
   "execution_count": 17,
   "metadata": {
    "execution": {
     "iopub.execute_input": "2021-03-10T22:45:45.822839Z",
     "iopub.status.busy": "2021-03-10T22:45:45.821482Z",
     "iopub.status.idle": "2021-03-10T22:45:45.823488Z",
     "shell.execute_reply": "2021-03-10T22:45:45.823971Z"
    }
   },
   "outputs": [],
   "source": [
    "data_dir = os.path.join(os.path.abspath(\"\"), \"data\")"
   ]
  },
  {
   "cell_type": "code",
   "execution_count": 18,
   "metadata": {
    "execution": {
     "iopub.execute_input": "2021-03-10T22:45:45.829663Z",
     "iopub.status.busy": "2021-03-10T22:45:45.828164Z",
     "iopub.status.idle": "2021-03-10T22:45:45.832014Z",
     "shell.execute_reply": "2021-03-10T22:45:45.832463Z"
    }
   },
   "outputs": [],
   "source": [
    "df.to_csv(os.path.join(data_dir, f\"{today}.csv\"), index=False)"
   ]
  },
  {
   "cell_type": "code",
   "execution_count": null,
   "metadata": {},
   "outputs": [],
   "source": []
  }
 ],
 "metadata": {
  "kernelspec": {
   "display_name": "Python 3",
   "language": "python",
   "name": "python3"
  },
  "language_info": {
   "codemirror_mode": {
    "name": "ipython",
    "version": 3
   },
   "file_extension": ".py",
   "mimetype": "text/x-python",
   "name": "python",
   "nbconvert_exporter": "python",
   "pygments_lexer": "ipython3",
   "version": "3.8.8"
  }
 },
 "nbformat": 4,
 "nbformat_minor": 4
}
