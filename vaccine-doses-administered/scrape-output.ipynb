{
 "cells": [
  {
   "cell_type": "markdown",
   "metadata": {},
   "source": [
    "# California COVID vaccinations scrape"
   ]
  },
  {
   "cell_type": "markdown",
   "metadata": {},
   "source": [
    "By [Amy O'Kruk](https://twitter.com/amyokruk)"
   ]
  },
  {
   "cell_type": "markdown",
   "metadata": {},
   "source": [
    "Downloads data on vaccine doses administered by county and statewide from a Tableau-powered dashboard from the California Department of Public Health."
   ]
  },
  {
   "cell_type": "code",
   "execution_count": 1,
   "metadata": {
    "execution": {
     "iopub.execute_input": "2021-03-12T19:50:11.321727Z",
     "iopub.status.busy": "2021-03-12T19:50:11.321068Z",
     "iopub.status.idle": "2021-03-12T19:50:11.787983Z",
     "shell.execute_reply": "2021-03-12T19:50:11.787362Z"
    }
   },
   "outputs": [],
   "source": [
    "import pandas as pd\n",
    "import requests\n",
    "from bs4 import BeautifulSoup\n",
    "import json\n",
    "import re\n",
    "import time\n",
    "from time import gmtime, strftime \n",
    "import os\n",
    "import pytz\n",
    "from datetime import datetime"
   ]
  },
  {
   "cell_type": "markdown",
   "metadata": {},
   "source": [
    "Scrape the dashboard page"
   ]
  },
  {
   "cell_type": "code",
   "execution_count": 2,
   "metadata": {
    "execution": {
     "iopub.execute_input": "2021-03-12T19:50:11.794262Z",
     "iopub.status.busy": "2021-03-12T19:50:11.791545Z",
     "iopub.status.idle": "2021-03-12T19:50:12.292713Z",
     "shell.execute_reply": "2021-03-12T19:50:12.291718Z"
    }
   },
   "outputs": [],
   "source": [
    "url = \"https://public.tableau.com/interactive/views/COVID-19VaccineDashboardPublic/Vaccine?:embed=y&:showVizHome=n&:apiID=host0\"\n",
    "\n",
    "r = requests.get(url)\n",
    "soup = BeautifulSoup(r.text, \"html.parser\")"
   ]
  },
  {
   "cell_type": "code",
   "execution_count": 3,
   "metadata": {
    "execution": {
     "iopub.execute_input": "2021-03-12T19:50:12.297834Z",
     "iopub.status.busy": "2021-03-12T19:50:12.297194Z",
     "iopub.status.idle": "2021-03-12T19:50:12.301174Z",
     "shell.execute_reply": "2021-03-12T19:50:12.300685Z"
    }
   },
   "outputs": [],
   "source": [
    "tableauData = json.loads(soup.find(\"textarea\",{\"id\": \"tsConfigContainer\"}).text)"
   ]
  },
  {
   "cell_type": "markdown",
   "metadata": {},
   "source": [
    "Get the link to the Tableau data"
   ]
  },
  {
   "cell_type": "code",
   "execution_count": 4,
   "metadata": {
    "execution": {
     "iopub.execute_input": "2021-03-12T19:50:12.305053Z",
     "iopub.status.busy": "2021-03-12T19:50:12.304411Z",
     "iopub.status.idle": "2021-03-12T19:50:12.308234Z",
     "shell.execute_reply": "2021-03-12T19:50:12.307714Z"
    }
   },
   "outputs": [],
   "source": [
    "dataUrl = f'https://public.tableau.com{tableauData[\"vizql_root\"]}/bootstrapSession/sessions/{tableauData[\"sessionid\"]}'"
   ]
  },
  {
   "cell_type": "code",
   "execution_count": 5,
   "metadata": {
    "execution": {
     "iopub.execute_input": "2021-03-12T19:50:12.315640Z",
     "iopub.status.busy": "2021-03-12T19:50:12.314749Z",
     "iopub.status.idle": "2021-03-12T19:50:12.477636Z",
     "shell.execute_reply": "2021-03-12T19:50:12.477159Z"
    }
   },
   "outputs": [],
   "source": [
    "r = requests.post(dataUrl, data= {\n",
    "    \"sheet_id\": tableauData[\"sheetId\"],\n",
    "})\n",
    "\n",
    "dataReg = re.search('\\d+;({.*})\\d+;({.*})', r.text, re.MULTILINE)\n",
    "data1 = json.loads(dataReg.group(2))\n",
    "\n",
    "dataJson = data1[\"secondaryInfo\"][\"presModelMap\"][\"dataDictionary\"][\"presModelHolder\"][\"genDataDictionaryPresModel\"][\"dataSegments\"][\"0\"][\"dataColumns\"]"
   ]
  },
  {
   "cell_type": "markdown",
   "metadata": {},
   "source": [
    "Isolate what you want"
   ]
  },
  {
   "cell_type": "code",
   "execution_count": 6,
   "metadata": {
    "execution": {
     "iopub.execute_input": "2021-03-12T19:50:12.481570Z",
     "iopub.status.busy": "2021-03-12T19:50:12.481004Z",
     "iopub.status.idle": "2021-03-12T19:50:12.484310Z",
     "shell.execute_reply": "2021-03-12T19:50:12.484748Z"
    }
   },
   "outputs": [],
   "source": [
    "counties = dataJson[2]['dataValues'][:58]"
   ]
  },
  {
   "cell_type": "code",
   "execution_count": 7,
   "metadata": {
    "execution": {
     "iopub.execute_input": "2021-03-12T19:50:12.488818Z",
     "iopub.status.busy": "2021-03-12T19:50:12.488287Z",
     "iopub.status.idle": "2021-03-12T19:50:12.492012Z",
     "shell.execute_reply": "2021-03-12T19:50:12.491540Z"
    }
   },
   "outputs": [],
   "source": [
    "doses = dataJson[0]['dataValues'][3:61]"
   ]
  },
  {
   "cell_type": "markdown",
   "metadata": {},
   "source": [
    "Data formatting"
   ]
  },
  {
   "cell_type": "code",
   "execution_count": 8,
   "metadata": {
    "execution": {
     "iopub.execute_input": "2021-03-12T19:50:12.495412Z",
     "iopub.status.busy": "2021-03-12T19:50:12.494949Z",
     "iopub.status.idle": "2021-03-12T19:50:12.498706Z",
     "shell.execute_reply": "2021-03-12T19:50:12.498101Z"
    }
   },
   "outputs": [],
   "source": [
    "zipped = dict(zip(counties, doses))"
   ]
  },
  {
   "cell_type": "code",
   "execution_count": 9,
   "metadata": {
    "execution": {
     "iopub.execute_input": "2021-03-12T19:50:12.504877Z",
     "iopub.status.busy": "2021-03-12T19:50:12.504343Z",
     "iopub.status.idle": "2021-03-12T19:50:12.508093Z",
     "shell.execute_reply": "2021-03-12T19:50:12.507566Z"
    }
   },
   "outputs": [],
   "source": [
    "df = pd.Series(zipped).reset_index()"
   ]
  },
  {
   "cell_type": "code",
   "execution_count": 10,
   "metadata": {
    "execution": {
     "iopub.execute_input": "2021-03-12T19:50:12.511712Z",
     "iopub.status.busy": "2021-03-12T19:50:12.511247Z",
     "iopub.status.idle": "2021-03-12T19:50:12.515413Z",
     "shell.execute_reply": "2021-03-12T19:50:12.514841Z"
    }
   },
   "outputs": [],
   "source": [
    "df.columns = ['location','doses']"
   ]
  },
  {
   "cell_type": "markdown",
   "metadata": {},
   "source": [
    "Grab the overall California total"
   ]
  },
  {
   "cell_type": "code",
   "execution_count": 11,
   "metadata": {
    "execution": {
     "iopub.execute_input": "2021-03-12T19:50:12.519853Z",
     "iopub.status.busy": "2021-03-12T19:50:12.519122Z",
     "iopub.status.idle": "2021-03-12T19:50:12.523874Z",
     "shell.execute_reply": "2021-03-12T19:50:12.523013Z"
    }
   },
   "outputs": [],
   "source": [
    "add = {'location':'California','doses':dataJson[0]['dataValues'][2]}"
   ]
  },
  {
   "cell_type": "code",
   "execution_count": 12,
   "metadata": {
    "execution": {
     "iopub.execute_input": "2021-03-12T19:50:12.533087Z",
     "iopub.status.busy": "2021-03-12T19:50:12.532331Z",
     "iopub.status.idle": "2021-03-12T19:50:12.537416Z",
     "shell.execute_reply": "2021-03-12T19:50:12.536103Z"
    }
   },
   "outputs": [],
   "source": [
    "df = df.append(add, ignore_index=True)"
   ]
  },
  {
   "cell_type": "code",
   "execution_count": 13,
   "metadata": {
    "execution": {
     "iopub.execute_input": "2021-03-12T19:50:12.542515Z",
     "iopub.status.busy": "2021-03-12T19:50:12.541956Z",
     "iopub.status.idle": "2021-03-12T19:50:12.545352Z",
     "shell.execute_reply": "2021-03-12T19:50:12.545798Z"
    }
   },
   "outputs": [],
   "source": [
    "df = df.sort_values(by='location')"
   ]
  },
  {
   "cell_type": "code",
   "execution_count": 14,
   "metadata": {
    "execution": {
     "iopub.execute_input": "2021-03-12T19:50:12.553358Z",
     "iopub.status.busy": "2021-03-12T19:50:12.552586Z",
     "iopub.status.idle": "2021-03-12T19:50:12.557048Z",
     "shell.execute_reply": "2021-03-12T19:50:12.556477Z"
    }
   },
   "outputs": [],
   "source": [
    "df = df[df.location == 'California'].append(df[df.location != 'California']).reset_index(drop=True)"
   ]
  },
  {
   "cell_type": "code",
   "execution_count": null,
   "metadata": {},
   "outputs": [],
   "source": []
  },
  {
   "cell_type": "code",
   "execution_count": 15,
   "metadata": {
    "execution": {
     "iopub.execute_input": "2021-03-12T19:50:12.560704Z",
     "iopub.status.busy": "2021-03-12T19:50:12.560043Z",
     "iopub.status.idle": "2021-03-12T19:50:12.579564Z",
     "shell.execute_reply": "2021-03-12T19:50:12.578863Z"
    }
   },
   "outputs": [],
   "source": [
    "tz = pytz.timezone(\"America/New_York\")"
   ]
  },
  {
   "cell_type": "code",
   "execution_count": 16,
   "metadata": {
    "execution": {
     "iopub.execute_input": "2021-03-12T19:50:12.583094Z",
     "iopub.status.busy": "2021-03-12T19:50:12.582591Z",
     "iopub.status.idle": "2021-03-12T19:50:12.586726Z",
     "shell.execute_reply": "2021-03-12T19:50:12.586141Z"
    }
   },
   "outputs": [],
   "source": [
    "today = datetime.now(tz).date()"
   ]
  },
  {
   "cell_type": "code",
   "execution_count": 17,
   "metadata": {
    "execution": {
     "iopub.execute_input": "2021-03-12T19:50:12.590552Z",
     "iopub.status.busy": "2021-03-12T19:50:12.589582Z",
     "iopub.status.idle": "2021-03-12T19:50:12.593056Z",
     "shell.execute_reply": "2021-03-12T19:50:12.593457Z"
    }
   },
   "outputs": [],
   "source": [
    "data_dir = os.path.join(os.path.abspath(\"\"), \"data\")"
   ]
  },
  {
   "cell_type": "code",
   "execution_count": 18,
   "metadata": {
    "execution": {
     "iopub.execute_input": "2021-03-12T19:50:12.598398Z",
     "iopub.status.busy": "2021-03-12T19:50:12.597469Z",
     "iopub.status.idle": "2021-03-12T19:50:12.603335Z",
     "shell.execute_reply": "2021-03-12T19:50:12.603777Z"
    }
   },
   "outputs": [],
   "source": [
    "df.to_csv(os.path.join(data_dir, f\"{today}.csv\"), index=False)"
   ]
  },
  {
   "cell_type": "code",
   "execution_count": null,
   "metadata": {},
   "outputs": [],
   "source": []
  }
 ],
 "metadata": {
  "kernelspec": {
   "display_name": "Python 3",
   "language": "python",
   "name": "python3"
  },
  "language_info": {
   "codemirror_mode": {
    "name": "ipython",
    "version": 3
   },
   "file_extension": ".py",
   "mimetype": "text/x-python",
   "name": "python",
   "nbconvert_exporter": "python",
   "pygments_lexer": "ipython3",
   "version": "3.8.8"
  }
 },
 "nbformat": 4,
 "nbformat_minor": 4
}
