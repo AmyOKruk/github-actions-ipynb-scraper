{
 "cells": [
  {
   "cell_type": "markdown",
   "metadata": {},
   "source": [
    "# California COVID vaccinations scrape"
   ]
  },
  {
   "cell_type": "markdown",
   "metadata": {},
   "source": [
    "By [Amy O'Kruk](https://twitter.com/amyokruk)"
   ]
  },
  {
   "cell_type": "markdown",
   "metadata": {},
   "source": [
    "Downloads data on vaccine doses administered by county and statewide from a Tableau-powered dashboard from the California Department of Public Health."
   ]
  },
  {
   "cell_type": "code",
   "execution_count": 1,
   "metadata": {
    "execution": {
     "iopub.execute_input": "2021-03-18T18:15:43.081010Z",
     "iopub.status.busy": "2021-03-18T18:15:43.080413Z",
     "iopub.status.idle": "2021-03-18T18:15:43.494334Z",
     "shell.execute_reply": "2021-03-18T18:15:43.493304Z"
    }
   },
   "outputs": [],
   "source": [
    "import pandas as pd\n",
    "import requests\n",
    "from bs4 import BeautifulSoup\n",
    "import json\n",
    "import re\n",
    "import time\n",
    "from time import gmtime, strftime \n",
    "import os\n",
    "import pytz\n",
    "from datetime import datetime"
   ]
  },
  {
   "cell_type": "markdown",
   "metadata": {},
   "source": [
    "Scrape the dashboard page"
   ]
  },
  {
   "cell_type": "code",
   "execution_count": 2,
   "metadata": {
    "execution": {
     "iopub.execute_input": "2021-03-18T18:15:43.500147Z",
     "iopub.status.busy": "2021-03-18T18:15:43.497928Z",
     "iopub.status.idle": "2021-03-18T18:15:44.073095Z",
     "shell.execute_reply": "2021-03-18T18:15:44.072583Z"
    }
   },
   "outputs": [],
   "source": [
    "url = \"https://public.tableau.com/interactive/views/COVID-19VaccineDashboardPublic/Vaccine?:embed=y&:showVizHome=n&:apiID=host0\"\n",
    "\n",
    "r = requests.get(url)\n",
    "soup = BeautifulSoup(r.text, \"html.parser\")"
   ]
  },
  {
   "cell_type": "code",
   "execution_count": 3,
   "metadata": {
    "execution": {
     "iopub.execute_input": "2021-03-18T18:15:44.077848Z",
     "iopub.status.busy": "2021-03-18T18:15:44.077092Z",
     "iopub.status.idle": "2021-03-18T18:15:44.080975Z",
     "shell.execute_reply": "2021-03-18T18:15:44.080498Z"
    }
   },
   "outputs": [],
   "source": [
    "tableauData = json.loads(soup.find(\"textarea\",{\"id\": \"tsConfigContainer\"}).text)"
   ]
  },
  {
   "cell_type": "markdown",
   "metadata": {},
   "source": [
    "Get the link to the Tableau data"
   ]
  },
  {
   "cell_type": "code",
   "execution_count": 4,
   "metadata": {
    "execution": {
     "iopub.execute_input": "2021-03-18T18:15:44.086036Z",
     "iopub.status.busy": "2021-03-18T18:15:44.084363Z",
     "iopub.status.idle": "2021-03-18T18:15:44.086578Z",
     "shell.execute_reply": "2021-03-18T18:15:44.087073Z"
    }
   },
   "outputs": [],
   "source": [
    "dataUrl = f'https://public.tableau.com{tableauData[\"vizql_root\"]}/bootstrapSession/sessions/{tableauData[\"sessionid\"]}'"
   ]
  },
  {
   "cell_type": "code",
   "execution_count": 5,
   "metadata": {
    "execution": {
     "iopub.execute_input": "2021-03-18T18:15:44.093843Z",
     "iopub.status.busy": "2021-03-18T18:15:44.093235Z",
     "iopub.status.idle": "2021-03-18T18:15:44.399811Z",
     "shell.execute_reply": "2021-03-18T18:15:44.400247Z"
    }
   },
   "outputs": [],
   "source": [
    "r = requests.post(dataUrl, data= {\n",
    "    \"sheet_id\": tableauData[\"sheetId\"],\n",
    "})\n",
    "\n",
    "dataReg = re.search('\\d+;({.*})\\d+;({.*})', r.text, re.MULTILINE)\n",
    "data1 = json.loads(dataReg.group(2))\n",
    "\n",
    "dataJson = data1[\"secondaryInfo\"][\"presModelMap\"][\"dataDictionary\"][\"presModelHolder\"][\"genDataDictionaryPresModel\"][\"dataSegments\"][\"0\"][\"dataColumns\"]"
   ]
  },
  {
   "cell_type": "markdown",
   "metadata": {},
   "source": [
    "Isolate what you want"
   ]
  },
  {
   "cell_type": "code",
   "execution_count": 6,
   "metadata": {
    "execution": {
     "iopub.execute_input": "2021-03-18T18:15:44.405218Z",
     "iopub.status.busy": "2021-03-18T18:15:44.403926Z",
     "iopub.status.idle": "2021-03-18T18:15:44.405896Z",
     "shell.execute_reply": "2021-03-18T18:15:44.406341Z"
    }
   },
   "outputs": [],
   "source": [
    "counties = dataJson[2]['dataValues'][:58]"
   ]
  },
  {
   "cell_type": "code",
   "execution_count": 7,
   "metadata": {
    "execution": {
     "iopub.execute_input": "2021-03-18T18:15:44.411286Z",
     "iopub.status.busy": "2021-03-18T18:15:44.409807Z",
     "iopub.status.idle": "2021-03-18T18:15:44.412040Z",
     "shell.execute_reply": "2021-03-18T18:15:44.412534Z"
    }
   },
   "outputs": [],
   "source": [
    "doses = dataJson[0]['dataValues'][3:61]"
   ]
  },
  {
   "cell_type": "markdown",
   "metadata": {},
   "source": [
    "Data formatting"
   ]
  },
  {
   "cell_type": "code",
   "execution_count": 8,
   "metadata": {
    "execution": {
     "iopub.execute_input": "2021-03-18T18:15:44.417305Z",
     "iopub.status.busy": "2021-03-18T18:15:44.415927Z",
     "iopub.status.idle": "2021-03-18T18:15:44.418033Z",
     "shell.execute_reply": "2021-03-18T18:15:44.418586Z"
    }
   },
   "outputs": [],
   "source": [
    "zipped = dict(zip(counties, doses))"
   ]
  },
  {
   "cell_type": "code",
   "execution_count": 9,
   "metadata": {
    "execution": {
     "iopub.execute_input": "2021-03-18T18:15:44.425636Z",
     "iopub.status.busy": "2021-03-18T18:15:44.424315Z",
     "iopub.status.idle": "2021-03-18T18:15:44.426529Z",
     "shell.execute_reply": "2021-03-18T18:15:44.427022Z"
    }
   },
   "outputs": [],
   "source": [
    "df = pd.Series(zipped).reset_index()"
   ]
  },
  {
   "cell_type": "code",
   "execution_count": 10,
   "metadata": {
    "execution": {
     "iopub.execute_input": "2021-03-18T18:15:44.431246Z",
     "iopub.status.busy": "2021-03-18T18:15:44.430330Z",
     "iopub.status.idle": "2021-03-18T18:15:44.433268Z",
     "shell.execute_reply": "2021-03-18T18:15:44.433694Z"
    }
   },
   "outputs": [],
   "source": [
    "df.columns = ['location','doses']"
   ]
  },
  {
   "cell_type": "markdown",
   "metadata": {},
   "source": [
    "Grab the overall California total"
   ]
  },
  {
   "cell_type": "code",
   "execution_count": 11,
   "metadata": {
    "execution": {
     "iopub.execute_input": "2021-03-18T18:15:44.438448Z",
     "iopub.status.busy": "2021-03-18T18:15:44.437096Z",
     "iopub.status.idle": "2021-03-18T18:15:44.438995Z",
     "shell.execute_reply": "2021-03-18T18:15:44.439405Z"
    }
   },
   "outputs": [],
   "source": [
    "add = {'location':'California','doses':dataJson[0]['dataValues'][2]}"
   ]
  },
  {
   "cell_type": "code",
   "execution_count": 12,
   "metadata": {
    "execution": {
     "iopub.execute_input": "2021-03-18T18:15:44.447820Z",
     "iopub.status.busy": "2021-03-18T18:15:44.446339Z",
     "iopub.status.idle": "2021-03-18T18:15:44.448424Z",
     "shell.execute_reply": "2021-03-18T18:15:44.448843Z"
    }
   },
   "outputs": [],
   "source": [
    "df = df.append(add, ignore_index=True)"
   ]
  },
  {
   "cell_type": "code",
   "execution_count": 13,
   "metadata": {
    "execution": {
     "iopub.execute_input": "2021-03-18T18:15:44.453834Z",
     "iopub.status.busy": "2021-03-18T18:15:44.452901Z",
     "iopub.status.idle": "2021-03-18T18:15:44.454786Z",
     "shell.execute_reply": "2021-03-18T18:15:44.455225Z"
    }
   },
   "outputs": [],
   "source": [
    "df = df.sort_values(by='location')"
   ]
  },
  {
   "cell_type": "code",
   "execution_count": 14,
   "metadata": {
    "execution": {
     "iopub.execute_input": "2021-03-18T18:15:44.462244Z",
     "iopub.status.busy": "2021-03-18T18:15:44.460837Z",
     "iopub.status.idle": "2021-03-18T18:15:44.463098Z",
     "shell.execute_reply": "2021-03-18T18:15:44.463632Z"
    }
   },
   "outputs": [],
   "source": [
    "df = df[df.location == 'California'].append(df[df.location != 'California']).reset_index(drop=True)"
   ]
  },
  {
   "cell_type": "code",
   "execution_count": null,
   "metadata": {},
   "outputs": [],
   "source": []
  },
  {
   "cell_type": "code",
   "execution_count": 15,
   "metadata": {
    "execution": {
     "iopub.execute_input": "2021-03-18T18:15:44.467292Z",
     "iopub.status.busy": "2021-03-18T18:15:44.466665Z",
     "iopub.status.idle": "2021-03-18T18:15:44.484609Z",
     "shell.execute_reply": "2021-03-18T18:15:44.485002Z"
    }
   },
   "outputs": [],
   "source": [
    "tz = pytz.timezone(\"America/New_York\")"
   ]
  },
  {
   "cell_type": "code",
   "execution_count": 16,
   "metadata": {
    "execution": {
     "iopub.execute_input": "2021-03-18T18:15:44.489036Z",
     "iopub.status.busy": "2021-03-18T18:15:44.488061Z",
     "iopub.status.idle": "2021-03-18T18:15:44.489892Z",
     "shell.execute_reply": "2021-03-18T18:15:44.490295Z"
    }
   },
   "outputs": [],
   "source": [
    "today = datetime.now(tz).date()"
   ]
  },
  {
   "cell_type": "code",
   "execution_count": 17,
   "metadata": {
    "execution": {
     "iopub.execute_input": "2021-03-18T18:15:44.503427Z",
     "iopub.status.busy": "2021-03-18T18:15:44.502761Z",
     "iopub.status.idle": "2021-03-18T18:15:44.507000Z",
     "shell.execute_reply": "2021-03-18T18:15:44.506295Z"
    }
   },
   "outputs": [],
   "source": [
    "data_dir = os.path.join(os.path.abspath(\"\"), \"data\")"
   ]
  },
  {
   "cell_type": "code",
   "execution_count": 18,
   "metadata": {
    "execution": {
     "iopub.execute_input": "2021-03-18T18:15:44.511191Z",
     "iopub.status.busy": "2021-03-18T18:15:44.510663Z",
     "iopub.status.idle": "2021-03-18T18:15:44.515919Z",
     "shell.execute_reply": "2021-03-18T18:15:44.515143Z"
    }
   },
   "outputs": [],
   "source": [
    "df.to_csv(os.path.join(data_dir, f\"{today}.csv\"), index=False)"
   ]
  },
  {
   "cell_type": "code",
   "execution_count": null,
   "metadata": {},
   "outputs": [],
   "source": []
  }
 ],
 "metadata": {
  "kernelspec": {
   "display_name": "Python 3",
   "language": "python",
   "name": "python3"
  },
  "language_info": {
   "codemirror_mode": {
    "name": "ipython",
    "version": 3
   },
   "file_extension": ".py",
   "mimetype": "text/x-python",
   "name": "python",
   "nbconvert_exporter": "python",
   "pygments_lexer": "ipython3",
   "version": "3.8.8"
  }
 },
 "nbformat": 4,
 "nbformat_minor": 4
}
