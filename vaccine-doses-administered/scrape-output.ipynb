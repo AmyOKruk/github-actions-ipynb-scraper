{
 "cells": [
  {
   "cell_type": "markdown",
   "metadata": {},
   "source": [
    "# California COVID vaccinations scrape"
   ]
  },
  {
   "cell_type": "markdown",
   "metadata": {},
   "source": [
    "By [Amy O'Kruk](https://twitter.com/amyokruk)"
   ]
  },
  {
   "cell_type": "markdown",
   "metadata": {},
   "source": [
    "Downloads data on vaccine doses administered by county and statewide from a Tableau-powered dashboard from the California Department of Public Health."
   ]
  },
  {
   "cell_type": "code",
   "execution_count": 1,
   "metadata": {
    "execution": {
     "iopub.execute_input": "2021-03-16T05:42:08.908651Z",
     "iopub.status.busy": "2021-03-16T05:42:08.907898Z",
     "iopub.status.idle": "2021-03-16T05:42:09.384452Z",
     "shell.execute_reply": "2021-03-16T05:42:09.383499Z"
    }
   },
   "outputs": [],
   "source": [
    "import pandas as pd\n",
    "import requests\n",
    "from bs4 import BeautifulSoup\n",
    "import json\n",
    "import re\n",
    "import time\n",
    "from time import gmtime, strftime \n",
    "import os\n",
    "import pytz\n",
    "from datetime import datetime"
   ]
  },
  {
   "cell_type": "markdown",
   "metadata": {},
   "source": [
    "Scrape the dashboard page"
   ]
  },
  {
   "cell_type": "code",
   "execution_count": 2,
   "metadata": {
    "execution": {
     "iopub.execute_input": "2021-03-16T05:42:09.389027Z",
     "iopub.status.busy": "2021-03-16T05:42:09.388428Z",
     "iopub.status.idle": "2021-03-16T05:42:09.798743Z",
     "shell.execute_reply": "2021-03-16T05:42:09.799223Z"
    }
   },
   "outputs": [],
   "source": [
    "url = \"https://public.tableau.com/interactive/views/COVID-19VaccineDashboardPublic/Vaccine?:embed=y&:showVizHome=n&:apiID=host0\"\n",
    "\n",
    "r = requests.get(url)\n",
    "soup = BeautifulSoup(r.text, \"html.parser\")"
   ]
  },
  {
   "cell_type": "code",
   "execution_count": 3,
   "metadata": {
    "execution": {
     "iopub.execute_input": "2021-03-16T05:42:09.804792Z",
     "iopub.status.busy": "2021-03-16T05:42:09.804296Z",
     "iopub.status.idle": "2021-03-16T05:42:09.808527Z",
     "shell.execute_reply": "2021-03-16T05:42:09.807555Z"
    }
   },
   "outputs": [],
   "source": [
    "tableauData = json.loads(soup.find(\"textarea\",{\"id\": \"tsConfigContainer\"}).text)"
   ]
  },
  {
   "cell_type": "markdown",
   "metadata": {},
   "source": [
    "Get the link to the Tableau data"
   ]
  },
  {
   "cell_type": "code",
   "execution_count": 4,
   "metadata": {
    "execution": {
     "iopub.execute_input": "2021-03-16T05:42:09.812317Z",
     "iopub.status.busy": "2021-03-16T05:42:09.811709Z",
     "iopub.status.idle": "2021-03-16T05:42:09.815730Z",
     "shell.execute_reply": "2021-03-16T05:42:09.815162Z"
    }
   },
   "outputs": [],
   "source": [
    "dataUrl = f'https://public.tableau.com{tableauData[\"vizql_root\"]}/bootstrapSession/sessions/{tableauData[\"sessionid\"]}'"
   ]
  },
  {
   "cell_type": "code",
   "execution_count": 5,
   "metadata": {
    "execution": {
     "iopub.execute_input": "2021-03-16T05:42:09.822671Z",
     "iopub.status.busy": "2021-03-16T05:42:09.822145Z",
     "iopub.status.idle": "2021-03-16T05:42:10.515849Z",
     "shell.execute_reply": "2021-03-16T05:42:10.515338Z"
    }
   },
   "outputs": [],
   "source": [
    "r = requests.post(dataUrl, data= {\n",
    "    \"sheet_id\": tableauData[\"sheetId\"],\n",
    "})\n",
    "\n",
    "dataReg = re.search('\\d+;({.*})\\d+;({.*})', r.text, re.MULTILINE)\n",
    "data1 = json.loads(dataReg.group(2))\n",
    "\n",
    "dataJson = data1[\"secondaryInfo\"][\"presModelMap\"][\"dataDictionary\"][\"presModelHolder\"][\"genDataDictionaryPresModel\"][\"dataSegments\"][\"0\"][\"dataColumns\"]"
   ]
  },
  {
   "cell_type": "markdown",
   "metadata": {},
   "source": [
    "Isolate what you want"
   ]
  },
  {
   "cell_type": "code",
   "execution_count": 6,
   "metadata": {
    "execution": {
     "iopub.execute_input": "2021-03-16T05:42:10.519970Z",
     "iopub.status.busy": "2021-03-16T05:42:10.519326Z",
     "iopub.status.idle": "2021-03-16T05:42:10.521579Z",
     "shell.execute_reply": "2021-03-16T05:42:10.522015Z"
    }
   },
   "outputs": [],
   "source": [
    "counties = dataJson[2]['dataValues'][:58]"
   ]
  },
  {
   "cell_type": "code",
   "execution_count": 7,
   "metadata": {
    "execution": {
     "iopub.execute_input": "2021-03-16T05:42:10.526877Z",
     "iopub.status.busy": "2021-03-16T05:42:10.525552Z",
     "iopub.status.idle": "2021-03-16T05:42:10.527529Z",
     "shell.execute_reply": "2021-03-16T05:42:10.528011Z"
    }
   },
   "outputs": [],
   "source": [
    "doses = dataJson[0]['dataValues'][3:61]"
   ]
  },
  {
   "cell_type": "markdown",
   "metadata": {},
   "source": [
    "Data formatting"
   ]
  },
  {
   "cell_type": "code",
   "execution_count": 8,
   "metadata": {
    "execution": {
     "iopub.execute_input": "2021-03-16T05:42:10.532861Z",
     "iopub.status.busy": "2021-03-16T05:42:10.531384Z",
     "iopub.status.idle": "2021-03-16T05:42:10.533481Z",
     "shell.execute_reply": "2021-03-16T05:42:10.533944Z"
    }
   },
   "outputs": [],
   "source": [
    "zipped = dict(zip(counties, doses))"
   ]
  },
  {
   "cell_type": "code",
   "execution_count": 9,
   "metadata": {
    "execution": {
     "iopub.execute_input": "2021-03-16T05:42:10.541247Z",
     "iopub.status.busy": "2021-03-16T05:42:10.539852Z",
     "iopub.status.idle": "2021-03-16T05:42:10.541975Z",
     "shell.execute_reply": "2021-03-16T05:42:10.542558Z"
    }
   },
   "outputs": [],
   "source": [
    "df = pd.Series(zipped).reset_index()"
   ]
  },
  {
   "cell_type": "code",
   "execution_count": 10,
   "metadata": {
    "execution": {
     "iopub.execute_input": "2021-03-16T05:42:10.547485Z",
     "iopub.status.busy": "2021-03-16T05:42:10.546198Z",
     "iopub.status.idle": "2021-03-16T05:42:10.548114Z",
     "shell.execute_reply": "2021-03-16T05:42:10.548560Z"
    }
   },
   "outputs": [],
   "source": [
    "df.columns = ['location','doses']"
   ]
  },
  {
   "cell_type": "markdown",
   "metadata": {},
   "source": [
    "Grab the overall California total"
   ]
  },
  {
   "cell_type": "code",
   "execution_count": 11,
   "metadata": {
    "execution": {
     "iopub.execute_input": "2021-03-16T05:42:10.553197Z",
     "iopub.status.busy": "2021-03-16T05:42:10.552065Z",
     "iopub.status.idle": "2021-03-16T05:42:10.554242Z",
     "shell.execute_reply": "2021-03-16T05:42:10.554690Z"
    }
   },
   "outputs": [],
   "source": [
    "add = {'location':'California','doses':dataJson[0]['dataValues'][2]}"
   ]
  },
  {
   "cell_type": "code",
   "execution_count": 12,
   "metadata": {
    "execution": {
     "iopub.execute_input": "2021-03-16T05:42:10.562771Z",
     "iopub.status.busy": "2021-03-16T05:42:10.561450Z",
     "iopub.status.idle": "2021-03-16T05:42:10.563491Z",
     "shell.execute_reply": "2021-03-16T05:42:10.563955Z"
    }
   },
   "outputs": [],
   "source": [
    "df = df.append(add, ignore_index=True)"
   ]
  },
  {
   "cell_type": "code",
   "execution_count": 13,
   "metadata": {
    "execution": {
     "iopub.execute_input": "2021-03-16T05:42:10.570483Z",
     "iopub.status.busy": "2021-03-16T05:42:10.569085Z",
     "iopub.status.idle": "2021-03-16T05:42:10.571110Z",
     "shell.execute_reply": "2021-03-16T05:42:10.571583Z"
    }
   },
   "outputs": [],
   "source": [
    "df = df.sort_values(by='location')"
   ]
  },
  {
   "cell_type": "code",
   "execution_count": 14,
   "metadata": {
    "execution": {
     "iopub.execute_input": "2021-03-16T05:42:10.578928Z",
     "iopub.status.busy": "2021-03-16T05:42:10.577455Z",
     "iopub.status.idle": "2021-03-16T05:42:10.579553Z",
     "shell.execute_reply": "2021-03-16T05:42:10.580220Z"
    }
   },
   "outputs": [],
   "source": [
    "df = df[df.location == 'California'].append(df[df.location != 'California']).reset_index(drop=True)"
   ]
  },
  {
   "cell_type": "code",
   "execution_count": null,
   "metadata": {},
   "outputs": [],
   "source": []
  },
  {
   "cell_type": "code",
   "execution_count": 15,
   "metadata": {
    "execution": {
     "iopub.execute_input": "2021-03-16T05:42:10.584178Z",
     "iopub.status.busy": "2021-03-16T05:42:10.583540Z",
     "iopub.status.idle": "2021-03-16T05:42:10.602929Z",
     "shell.execute_reply": "2021-03-16T05:42:10.603348Z"
    }
   },
   "outputs": [],
   "source": [
    "tz = pytz.timezone(\"America/New_York\")"
   ]
  },
  {
   "cell_type": "code",
   "execution_count": 16,
   "metadata": {
    "execution": {
     "iopub.execute_input": "2021-03-16T05:42:10.608159Z",
     "iopub.status.busy": "2021-03-16T05:42:10.606686Z",
     "iopub.status.idle": "2021-03-16T05:42:10.608861Z",
     "shell.execute_reply": "2021-03-16T05:42:10.609398Z"
    }
   },
   "outputs": [],
   "source": [
    "today = datetime.now(tz).date()"
   ]
  },
  {
   "cell_type": "code",
   "execution_count": 17,
   "metadata": {
    "execution": {
     "iopub.execute_input": "2021-03-16T05:42:10.614516Z",
     "iopub.status.busy": "2021-03-16T05:42:10.613003Z",
     "iopub.status.idle": "2021-03-16T05:42:10.615104Z",
     "shell.execute_reply": "2021-03-16T05:42:10.615617Z"
    }
   },
   "outputs": [],
   "source": [
    "data_dir = os.path.join(os.path.abspath(\"\"), \"data\")"
   ]
  },
  {
   "cell_type": "code",
   "execution_count": 18,
   "metadata": {
    "execution": {
     "iopub.execute_input": "2021-03-16T05:42:10.621647Z",
     "iopub.status.busy": "2021-03-16T05:42:10.620646Z",
     "iopub.status.idle": "2021-03-16T05:42:10.624672Z",
     "shell.execute_reply": "2021-03-16T05:42:10.625077Z"
    }
   },
   "outputs": [],
   "source": [
    "df.to_csv(os.path.join(data_dir, f\"{today}.csv\"), index=False)"
   ]
  },
  {
   "cell_type": "code",
   "execution_count": null,
   "metadata": {},
   "outputs": [],
   "source": []
  }
 ],
 "metadata": {
  "kernelspec": {
   "display_name": "Python 3",
   "language": "python",
   "name": "python3"
  },
  "language_info": {
   "codemirror_mode": {
    "name": "ipython",
    "version": 3
   },
   "file_extension": ".py",
   "mimetype": "text/x-python",
   "name": "python",
   "nbconvert_exporter": "python",
   "pygments_lexer": "ipython3",
   "version": "3.8.8"
  }
 },
 "nbformat": 4,
 "nbformat_minor": 4
}
