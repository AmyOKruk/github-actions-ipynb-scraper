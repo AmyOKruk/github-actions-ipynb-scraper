{
 "cells": [
  {
   "cell_type": "markdown",
   "metadata": {},
   "source": [
    "# California COVID vaccinations scrape"
   ]
  },
  {
   "cell_type": "markdown",
   "metadata": {},
   "source": [
    "By [Amy O'Kruk](https://twitter.com/amyokruk)"
   ]
  },
  {
   "cell_type": "markdown",
   "metadata": {},
   "source": [
    "Downloads data on vaccine doses administered by county and statewide from a Tableau-powered dashboard from the California Department of Public Health."
   ]
  },
  {
   "cell_type": "code",
   "execution_count": 1,
   "metadata": {
    "execution": {
     "iopub.execute_input": "2021-03-09T14:40:30.170439Z",
     "iopub.status.busy": "2021-03-09T14:40:30.169909Z",
     "iopub.status.idle": "2021-03-09T14:40:30.686026Z",
     "shell.execute_reply": "2021-03-09T14:40:30.685102Z"
    }
   },
   "outputs": [],
   "source": [
    "import pandas as pd\n",
    "import requests\n",
    "from bs4 import BeautifulSoup\n",
    "import json\n",
    "import re\n",
    "import time\n",
    "from time import gmtime, strftime \n",
    "import os\n",
    "import pytz\n",
    "from datetime import datetime"
   ]
  },
  {
   "cell_type": "markdown",
   "metadata": {},
   "source": [
    "Scrape the dashboard page"
   ]
  },
  {
   "cell_type": "code",
   "execution_count": 2,
   "metadata": {
    "execution": {
     "iopub.execute_input": "2021-03-09T14:40:30.691589Z",
     "iopub.status.busy": "2021-03-09T14:40:30.689540Z",
     "iopub.status.idle": "2021-03-09T14:40:31.008647Z",
     "shell.execute_reply": "2021-03-09T14:40:31.008073Z"
    }
   },
   "outputs": [],
   "source": [
    "url = \"https://public.tableau.com/interactive/views/COVID-19VaccineDashboardPublic/Vaccine?:embed=y&:showVizHome=n&:apiID=host0\"\n",
    "\n",
    "r = requests.get(url)\n",
    "soup = BeautifulSoup(r.text, \"html.parser\")"
   ]
  },
  {
   "cell_type": "code",
   "execution_count": 3,
   "metadata": {
    "execution": {
     "iopub.execute_input": "2021-03-09T14:40:31.013393Z",
     "iopub.status.busy": "2021-03-09T14:40:31.012758Z",
     "iopub.status.idle": "2021-03-09T14:40:31.016518Z",
     "shell.execute_reply": "2021-03-09T14:40:31.015982Z"
    }
   },
   "outputs": [],
   "source": [
    "tableauData = json.loads(soup.find(\"textarea\",{\"id\": \"tsConfigContainer\"}).text)"
   ]
  },
  {
   "cell_type": "markdown",
   "metadata": {},
   "source": [
    "Get the link to the Tableau data"
   ]
  },
  {
   "cell_type": "code",
   "execution_count": 4,
   "metadata": {
    "execution": {
     "iopub.execute_input": "2021-03-09T14:40:31.020474Z",
     "iopub.status.busy": "2021-03-09T14:40:31.019337Z",
     "iopub.status.idle": "2021-03-09T14:40:31.021020Z",
     "shell.execute_reply": "2021-03-09T14:40:31.021447Z"
    }
   },
   "outputs": [],
   "source": [
    "dataUrl = f'https://public.tableau.com{tableauData[\"vizql_root\"]}/bootstrapSession/sessions/{tableauData[\"sessionid\"]}'"
   ]
  },
  {
   "cell_type": "code",
   "execution_count": 5,
   "metadata": {
    "execution": {
     "iopub.execute_input": "2021-03-09T14:40:31.026962Z",
     "iopub.status.busy": "2021-03-09T14:40:31.026423Z",
     "iopub.status.idle": "2021-03-09T14:40:31.256882Z",
     "shell.execute_reply": "2021-03-09T14:40:31.255771Z"
    }
   },
   "outputs": [],
   "source": [
    "r = requests.post(dataUrl, data= {\n",
    "    \"sheet_id\": tableauData[\"sheetId\"],\n",
    "})\n",
    "\n",
    "dataReg = re.search('\\d+;({.*})\\d+;({.*})', r.text, re.MULTILINE)\n",
    "data1 = json.loads(dataReg.group(2))\n",
    "\n",
    "dataJson = data1[\"secondaryInfo\"][\"presModelMap\"][\"dataDictionary\"][\"presModelHolder\"][\"genDataDictionaryPresModel\"][\"dataSegments\"][\"0\"][\"dataColumns\"]"
   ]
  },
  {
   "cell_type": "markdown",
   "metadata": {},
   "source": [
    "Isolate what you want"
   ]
  },
  {
   "cell_type": "code",
   "execution_count": 6,
   "metadata": {
    "execution": {
     "iopub.execute_input": "2021-03-09T14:40:31.261831Z",
     "iopub.status.busy": "2021-03-09T14:40:31.261010Z",
     "iopub.status.idle": "2021-03-09T14:40:31.262594Z",
     "shell.execute_reply": "2021-03-09T14:40:31.262232Z"
    }
   },
   "outputs": [],
   "source": [
    "counties = dataJson[2]['dataValues'][:58]"
   ]
  },
  {
   "cell_type": "code",
   "execution_count": 7,
   "metadata": {
    "execution": {
     "iopub.execute_input": "2021-03-09T14:40:31.265552Z",
     "iopub.status.busy": "2021-03-09T14:40:31.264942Z",
     "iopub.status.idle": "2021-03-09T14:40:31.266528Z",
     "shell.execute_reply": "2021-03-09T14:40:31.266818Z"
    }
   },
   "outputs": [],
   "source": [
    "doses = dataJson[0]['dataValues'][3:61]"
   ]
  },
  {
   "cell_type": "markdown",
   "metadata": {},
   "source": [
    "Data formatting"
   ]
  },
  {
   "cell_type": "code",
   "execution_count": 8,
   "metadata": {
    "execution": {
     "iopub.execute_input": "2021-03-09T14:40:31.269486Z",
     "iopub.status.busy": "2021-03-09T14:40:31.268967Z",
     "iopub.status.idle": "2021-03-09T14:40:31.270955Z",
     "shell.execute_reply": "2021-03-09T14:40:31.270595Z"
    }
   },
   "outputs": [],
   "source": [
    "zipped = dict(zip(counties, doses))"
   ]
  },
  {
   "cell_type": "code",
   "execution_count": 9,
   "metadata": {
    "execution": {
     "iopub.execute_input": "2021-03-09T14:40:31.275729Z",
     "iopub.status.busy": "2021-03-09T14:40:31.275364Z",
     "iopub.status.idle": "2021-03-09T14:40:31.276765Z",
     "shell.execute_reply": "2021-03-09T14:40:31.277046Z"
    }
   },
   "outputs": [],
   "source": [
    "df = pd.Series(zipped).reset_index()"
   ]
  },
  {
   "cell_type": "code",
   "execution_count": 10,
   "metadata": {
    "execution": {
     "iopub.execute_input": "2021-03-09T14:40:31.279655Z",
     "iopub.status.busy": "2021-03-09T14:40:31.279297Z",
     "iopub.status.idle": "2021-03-09T14:40:31.281047Z",
     "shell.execute_reply": "2021-03-09T14:40:31.280695Z"
    }
   },
   "outputs": [],
   "source": [
    "df.columns = ['location','doses']"
   ]
  },
  {
   "cell_type": "markdown",
   "metadata": {},
   "source": [
    "Grab the overall California total"
   ]
  },
  {
   "cell_type": "code",
   "execution_count": 11,
   "metadata": {
    "execution": {
     "iopub.execute_input": "2021-03-09T14:40:31.283949Z",
     "iopub.status.busy": "2021-03-09T14:40:31.283323Z",
     "iopub.status.idle": "2021-03-09T14:40:31.285312Z",
     "shell.execute_reply": "2021-03-09T14:40:31.284969Z"
    }
   },
   "outputs": [],
   "source": [
    "add = {'location':'California','doses':dataJson[0]['dataValues'][2]}"
   ]
  },
  {
   "cell_type": "code",
   "execution_count": 12,
   "metadata": {
    "execution": {
     "iopub.execute_input": "2021-03-09T14:40:31.291349Z",
     "iopub.status.busy": "2021-03-09T14:40:31.290551Z",
     "iopub.status.idle": "2021-03-09T14:40:31.292713Z",
     "shell.execute_reply": "2021-03-09T14:40:31.292215Z"
    }
   },
   "outputs": [],
   "source": [
    "df = df.append(add, ignore_index=True)"
   ]
  },
  {
   "cell_type": "code",
   "execution_count": 13,
   "metadata": {
    "execution": {
     "iopub.execute_input": "2021-03-09T14:40:31.296870Z",
     "iopub.status.busy": "2021-03-09T14:40:31.295995Z",
     "iopub.status.idle": "2021-03-09T14:40:31.297521Z",
     "shell.execute_reply": "2021-03-09T14:40:31.297821Z"
    }
   },
   "outputs": [],
   "source": [
    "df = df.sort_values(by='location')"
   ]
  },
  {
   "cell_type": "code",
   "execution_count": 14,
   "metadata": {
    "execution": {
     "iopub.execute_input": "2021-03-09T14:40:31.303561Z",
     "iopub.status.busy": "2021-03-09T14:40:31.302363Z",
     "iopub.status.idle": "2021-03-09T14:40:31.304152Z",
     "shell.execute_reply": "2021-03-09T14:40:31.304576Z"
    }
   },
   "outputs": [],
   "source": [
    "df = df[df.location == 'California'].append(df[df.location != 'California']).reset_index(drop=True)"
   ]
  },
  {
   "cell_type": "code",
   "execution_count": null,
   "metadata": {},
   "outputs": [],
   "source": []
  },
  {
   "cell_type": "code",
   "execution_count": 15,
   "metadata": {
    "execution": {
     "iopub.execute_input": "2021-03-09T14:40:31.307524Z",
     "iopub.status.busy": "2021-03-09T14:40:31.307103Z",
     "iopub.status.idle": "2021-03-09T14:40:31.321474Z",
     "shell.execute_reply": "2021-03-09T14:40:31.321081Z"
    }
   },
   "outputs": [],
   "source": [
    "tz = pytz.timezone(\"America/New_York\")"
   ]
  },
  {
   "cell_type": "code",
   "execution_count": 16,
   "metadata": {
    "execution": {
     "iopub.execute_input": "2021-03-09T14:40:31.324635Z",
     "iopub.status.busy": "2021-03-09T14:40:31.324262Z",
     "iopub.status.idle": "2021-03-09T14:40:31.327507Z",
     "shell.execute_reply": "2021-03-09T14:40:31.327011Z"
    }
   },
   "outputs": [],
   "source": [
    "today = datetime.now(tz).date()"
   ]
  },
  {
   "cell_type": "code",
   "execution_count": 17,
   "metadata": {
    "execution": {
     "iopub.execute_input": "2021-03-09T14:40:31.330493Z",
     "iopub.status.busy": "2021-03-09T14:40:31.330040Z",
     "iopub.status.idle": "2021-03-09T14:40:31.333390Z",
     "shell.execute_reply": "2021-03-09T14:40:31.332904Z"
    }
   },
   "outputs": [],
   "source": [
    "data_dir = os.path.join(os.path.abspath(\"\"), \"data\")"
   ]
  },
  {
   "cell_type": "code",
   "execution_count": 18,
   "metadata": {
    "execution": {
     "iopub.execute_input": "2021-03-09T14:40:31.337080Z",
     "iopub.status.busy": "2021-03-09T14:40:31.336654Z",
     "iopub.status.idle": "2021-03-09T14:40:31.341445Z",
     "shell.execute_reply": "2021-03-09T14:40:31.341106Z"
    }
   },
   "outputs": [],
   "source": [
    "df.to_csv(os.path.join(data_dir, f\"{today}.csv\"), index=False)"
   ]
  },
  {
   "cell_type": "code",
   "execution_count": null,
   "metadata": {},
   "outputs": [],
   "source": []
  }
 ],
 "metadata": {
  "kernelspec": {
   "display_name": "Python 3",
   "language": "python",
   "name": "python3"
  },
  "language_info": {
   "codemirror_mode": {
    "name": "ipython",
    "version": 3
   },
   "file_extension": ".py",
   "mimetype": "text/x-python",
   "name": "python",
   "nbconvert_exporter": "python",
   "pygments_lexer": "ipython3",
   "version": "3.8.8"
  }
 },
 "nbformat": 4,
 "nbformat_minor": 4
}
