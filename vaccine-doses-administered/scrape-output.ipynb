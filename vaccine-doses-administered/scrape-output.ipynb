{
 "cells": [
  {
   "cell_type": "markdown",
   "metadata": {},
   "source": [
    "# California COVID vaccinations scrape"
   ]
  },
  {
   "cell_type": "markdown",
   "metadata": {},
   "source": [
    "By [Amy O'Kruk](https://twitter.com/amyokruk)"
   ]
  },
  {
   "cell_type": "markdown",
   "metadata": {},
   "source": [
    "Downloads data on vaccine doses administered by county and statewide from a Tableau-powered dashboard from the California Department of Public Health."
   ]
  },
  {
   "cell_type": "code",
   "execution_count": 1,
   "metadata": {
    "execution": {
     "iopub.execute_input": "2021-03-10T13:40:46.230693Z",
     "iopub.status.busy": "2021-03-10T13:40:46.230095Z",
     "iopub.status.idle": "2021-03-10T13:40:46.665091Z",
     "shell.execute_reply": "2021-03-10T13:40:46.664514Z"
    }
   },
   "outputs": [],
   "source": [
    "import pandas as pd\n",
    "import requests\n",
    "from bs4 import BeautifulSoup\n",
    "import json\n",
    "import re\n",
    "import time\n",
    "from time import gmtime, strftime \n",
    "import os\n",
    "import pytz\n",
    "from datetime import datetime"
   ]
  },
  {
   "cell_type": "markdown",
   "metadata": {},
   "source": [
    "Scrape the dashboard page"
   ]
  },
  {
   "cell_type": "code",
   "execution_count": 2,
   "metadata": {
    "execution": {
     "iopub.execute_input": "2021-03-10T13:40:46.672622Z",
     "iopub.status.busy": "2021-03-10T13:40:46.671308Z",
     "iopub.status.idle": "2021-03-10T13:40:47.156270Z",
     "shell.execute_reply": "2021-03-10T13:40:47.155024Z"
    }
   },
   "outputs": [],
   "source": [
    "url = \"https://public.tableau.com/interactive/views/COVID-19VaccineDashboardPublic/Vaccine?:embed=y&:showVizHome=n&:apiID=host0\"\n",
    "\n",
    "r = requests.get(url)\n",
    "soup = BeautifulSoup(r.text, \"html.parser\")"
   ]
  },
  {
   "cell_type": "code",
   "execution_count": 3,
   "metadata": {
    "execution": {
     "iopub.execute_input": "2021-03-10T13:40:47.161093Z",
     "iopub.status.busy": "2021-03-10T13:40:47.160566Z",
     "iopub.status.idle": "2021-03-10T13:40:47.164106Z",
     "shell.execute_reply": "2021-03-10T13:40:47.163675Z"
    }
   },
   "outputs": [],
   "source": [
    "tableauData = json.loads(soup.find(\"textarea\",{\"id\": \"tsConfigContainer\"}).text)"
   ]
  },
  {
   "cell_type": "markdown",
   "metadata": {},
   "source": [
    "Get the link to the Tableau data"
   ]
  },
  {
   "cell_type": "code",
   "execution_count": 4,
   "metadata": {
    "execution": {
     "iopub.execute_input": "2021-03-10T13:40:47.167786Z",
     "iopub.status.busy": "2021-03-10T13:40:47.167181Z",
     "iopub.status.idle": "2021-03-10T13:40:47.170516Z",
     "shell.execute_reply": "2021-03-10T13:40:47.170897Z"
    }
   },
   "outputs": [],
   "source": [
    "dataUrl = f'https://public.tableau.com{tableauData[\"vizql_root\"]}/bootstrapSession/sessions/{tableauData[\"sessionid\"]}'"
   ]
  },
  {
   "cell_type": "code",
   "execution_count": 5,
   "metadata": {
    "execution": {
     "iopub.execute_input": "2021-03-10T13:40:47.177741Z",
     "iopub.status.busy": "2021-03-10T13:40:47.176970Z",
     "iopub.status.idle": "2021-03-10T13:40:47.411023Z",
     "shell.execute_reply": "2021-03-10T13:40:47.410200Z"
    }
   },
   "outputs": [],
   "source": [
    "r = requests.post(dataUrl, data= {\n",
    "    \"sheet_id\": tableauData[\"sheetId\"],\n",
    "})\n",
    "\n",
    "dataReg = re.search('\\d+;({.*})\\d+;({.*})', r.text, re.MULTILINE)\n",
    "data1 = json.loads(dataReg.group(2))\n",
    "\n",
    "dataJson = data1[\"secondaryInfo\"][\"presModelMap\"][\"dataDictionary\"][\"presModelHolder\"][\"genDataDictionaryPresModel\"][\"dataSegments\"][\"0\"][\"dataColumns\"]"
   ]
  },
  {
   "cell_type": "markdown",
   "metadata": {},
   "source": [
    "Isolate what you want"
   ]
  },
  {
   "cell_type": "code",
   "execution_count": 6,
   "metadata": {
    "execution": {
     "iopub.execute_input": "2021-03-10T13:40:47.416112Z",
     "iopub.status.busy": "2021-03-10T13:40:47.414951Z",
     "iopub.status.idle": "2021-03-10T13:40:47.416716Z",
     "shell.execute_reply": "2021-03-10T13:40:47.417143Z"
    }
   },
   "outputs": [],
   "source": [
    "counties = dataJson[2]['dataValues'][:58]"
   ]
  },
  {
   "cell_type": "code",
   "execution_count": 7,
   "metadata": {
    "execution": {
     "iopub.execute_input": "2021-03-10T13:40:47.421555Z",
     "iopub.status.busy": "2021-03-10T13:40:47.420284Z",
     "iopub.status.idle": "2021-03-10T13:40:47.422856Z",
     "shell.execute_reply": "2021-03-10T13:40:47.423289Z"
    }
   },
   "outputs": [],
   "source": [
    "doses = dataJson[0]['dataValues'][3:61]"
   ]
  },
  {
   "cell_type": "markdown",
   "metadata": {},
   "source": [
    "Data formatting"
   ]
  },
  {
   "cell_type": "code",
   "execution_count": 8,
   "metadata": {
    "execution": {
     "iopub.execute_input": "2021-03-10T13:40:47.427585Z",
     "iopub.status.busy": "2021-03-10T13:40:47.426513Z",
     "iopub.status.idle": "2021-03-10T13:40:47.428196Z",
     "shell.execute_reply": "2021-03-10T13:40:47.428624Z"
    }
   },
   "outputs": [],
   "source": [
    "zipped = dict(zip(counties, doses))"
   ]
  },
  {
   "cell_type": "code",
   "execution_count": 9,
   "metadata": {
    "execution": {
     "iopub.execute_input": "2021-03-10T13:40:47.435259Z",
     "iopub.status.busy": "2021-03-10T13:40:47.434113Z",
     "iopub.status.idle": "2021-03-10T13:40:47.436028Z",
     "shell.execute_reply": "2021-03-10T13:40:47.436456Z"
    }
   },
   "outputs": [],
   "source": [
    "df = pd.Series(zipped).reset_index()"
   ]
  },
  {
   "cell_type": "code",
   "execution_count": 10,
   "metadata": {
    "execution": {
     "iopub.execute_input": "2021-03-10T13:40:47.442112Z",
     "iopub.status.busy": "2021-03-10T13:40:47.440973Z",
     "iopub.status.idle": "2021-03-10T13:40:47.442701Z",
     "shell.execute_reply": "2021-03-10T13:40:47.443126Z"
    }
   },
   "outputs": [],
   "source": [
    "df.columns = ['location','doses']"
   ]
  },
  {
   "cell_type": "markdown",
   "metadata": {},
   "source": [
    "Grab the overall California total"
   ]
  },
  {
   "cell_type": "code",
   "execution_count": 11,
   "metadata": {
    "execution": {
     "iopub.execute_input": "2021-03-10T13:40:47.447372Z",
     "iopub.status.busy": "2021-03-10T13:40:47.446326Z",
     "iopub.status.idle": "2021-03-10T13:40:47.448579Z",
     "shell.execute_reply": "2021-03-10T13:40:47.448123Z"
    }
   },
   "outputs": [],
   "source": [
    "add = {'location':'California','doses':dataJson[0]['dataValues'][2]}"
   ]
  },
  {
   "cell_type": "code",
   "execution_count": 12,
   "metadata": {
    "execution": {
     "iopub.execute_input": "2021-03-10T13:40:47.456124Z",
     "iopub.status.busy": "2021-03-10T13:40:47.454822Z",
     "iopub.status.idle": "2021-03-10T13:40:47.456826Z",
     "shell.execute_reply": "2021-03-10T13:40:47.457291Z"
    }
   },
   "outputs": [],
   "source": [
    "df = df.append(add, ignore_index=True)"
   ]
  },
  {
   "cell_type": "code",
   "execution_count": 13,
   "metadata": {
    "execution": {
     "iopub.execute_input": "2021-03-10T13:40:47.462017Z",
     "iopub.status.busy": "2021-03-10T13:40:47.461057Z",
     "iopub.status.idle": "2021-03-10T13:40:47.463432Z",
     "shell.execute_reply": "2021-03-10T13:40:47.462862Z"
    }
   },
   "outputs": [],
   "source": [
    "df = df.sort_values(by='location')"
   ]
  },
  {
   "cell_type": "code",
   "execution_count": 14,
   "metadata": {
    "execution": {
     "iopub.execute_input": "2021-03-10T13:40:47.470145Z",
     "iopub.status.busy": "2021-03-10T13:40:47.468906Z",
     "iopub.status.idle": "2021-03-10T13:40:47.470727Z",
     "shell.execute_reply": "2021-03-10T13:40:47.471150Z"
    }
   },
   "outputs": [],
   "source": [
    "df = df[df.location == 'California'].append(df[df.location != 'California']).reset_index(drop=True)"
   ]
  },
  {
   "cell_type": "code",
   "execution_count": null,
   "metadata": {},
   "outputs": [],
   "source": []
  },
  {
   "cell_type": "code",
   "execution_count": 15,
   "metadata": {
    "execution": {
     "iopub.execute_input": "2021-03-10T13:40:47.474769Z",
     "iopub.status.busy": "2021-03-10T13:40:47.474099Z",
     "iopub.status.idle": "2021-03-10T13:40:47.491991Z",
     "shell.execute_reply": "2021-03-10T13:40:47.491497Z"
    }
   },
   "outputs": [],
   "source": [
    "tz = pytz.timezone(\"America/New_York\")"
   ]
  },
  {
   "cell_type": "code",
   "execution_count": 16,
   "metadata": {
    "execution": {
     "iopub.execute_input": "2021-03-10T13:40:47.496661Z",
     "iopub.status.busy": "2021-03-10T13:40:47.495504Z",
     "iopub.status.idle": "2021-03-10T13:40:47.497290Z",
     "shell.execute_reply": "2021-03-10T13:40:47.497733Z"
    }
   },
   "outputs": [],
   "source": [
    "today = datetime.now(tz).date()"
   ]
  },
  {
   "cell_type": "code",
   "execution_count": 17,
   "metadata": {
    "execution": {
     "iopub.execute_input": "2021-03-10T13:40:47.502555Z",
     "iopub.status.busy": "2021-03-10T13:40:47.501416Z",
     "iopub.status.idle": "2021-03-10T13:40:47.503150Z",
     "shell.execute_reply": "2021-03-10T13:40:47.503571Z"
    }
   },
   "outputs": [],
   "source": [
    "data_dir = os.path.join(os.path.abspath(\"\"), \"data\")"
   ]
  },
  {
   "cell_type": "code",
   "execution_count": 18,
   "metadata": {
    "execution": {
     "iopub.execute_input": "2021-03-10T13:40:47.507351Z",
     "iopub.status.busy": "2021-03-10T13:40:47.506825Z",
     "iopub.status.idle": "2021-03-10T13:40:47.511358Z",
     "shell.execute_reply": "2021-03-10T13:40:47.510831Z"
    }
   },
   "outputs": [],
   "source": [
    "df.to_csv(os.path.join(data_dir, f\"{today}.csv\"), index=False)"
   ]
  },
  {
   "cell_type": "code",
   "execution_count": null,
   "metadata": {},
   "outputs": [],
   "source": []
  }
 ],
 "metadata": {
  "kernelspec": {
   "display_name": "Python 3",
   "language": "python",
   "name": "python3"
  },
  "language_info": {
   "codemirror_mode": {
    "name": "ipython",
    "version": 3
   },
   "file_extension": ".py",
   "mimetype": "text/x-python",
   "name": "python",
   "nbconvert_exporter": "python",
   "pygments_lexer": "ipython3",
   "version": "3.8.8"
  }
 },
 "nbformat": 4,
 "nbformat_minor": 4
}
