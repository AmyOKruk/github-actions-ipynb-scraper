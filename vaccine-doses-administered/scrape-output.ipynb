{
 "cells": [
  {
   "cell_type": "markdown",
   "metadata": {},
   "source": [
    "# California COVID vaccinations scrape"
   ]
  },
  {
   "cell_type": "markdown",
   "metadata": {},
   "source": [
    "By [Amy O'Kruk](https://twitter.com/amyokruk)"
   ]
  },
  {
   "cell_type": "markdown",
   "metadata": {},
   "source": [
    "Downloads data on vaccine doses administered by county and statewide from a Tableau-powered dashboard from the California Department of Public Health."
   ]
  },
  {
   "cell_type": "code",
   "execution_count": 1,
   "metadata": {
    "execution": {
     "iopub.execute_input": "2021-03-23T20:14:52.148466Z",
     "iopub.status.busy": "2021-03-23T20:14:52.147714Z",
     "iopub.status.idle": "2021-03-23T20:14:52.544288Z",
     "shell.execute_reply": "2021-03-23T20:14:52.543249Z"
    }
   },
   "outputs": [],
   "source": [
    "import pandas as pd\n",
    "import requests\n",
    "from bs4 import BeautifulSoup\n",
    "import json\n",
    "import re\n",
    "import time\n",
    "from time import gmtime, strftime \n",
    "import os\n",
    "import pytz\n",
    "from datetime import datetime"
   ]
  },
  {
   "cell_type": "markdown",
   "metadata": {},
   "source": [
    "Scrape the dashboard page"
   ]
  },
  {
   "cell_type": "code",
   "execution_count": 2,
   "metadata": {
    "execution": {
     "iopub.execute_input": "2021-03-23T20:14:52.550686Z",
     "iopub.status.busy": "2021-03-23T20:14:52.547986Z",
     "iopub.status.idle": "2021-03-23T20:14:53.002085Z",
     "shell.execute_reply": "2021-03-23T20:14:53.001548Z"
    }
   },
   "outputs": [],
   "source": [
    "url = \"https://public.tableau.com/interactive/views/COVID-19VaccineDashboardPublic/Vaccine?:embed=y&:showVizHome=n&:apiID=host0\"\n",
    "\n",
    "r = requests.get(url)\n",
    "soup = BeautifulSoup(r.text, \"html.parser\")"
   ]
  },
  {
   "cell_type": "code",
   "execution_count": 3,
   "metadata": {
    "execution": {
     "iopub.execute_input": "2021-03-23T20:14:53.007043Z",
     "iopub.status.busy": "2021-03-23T20:14:53.006488Z",
     "iopub.status.idle": "2021-03-23T20:14:53.010036Z",
     "shell.execute_reply": "2021-03-23T20:14:53.009568Z"
    }
   },
   "outputs": [],
   "source": [
    "tableauData = json.loads(soup.find(\"textarea\",{\"id\": \"tsConfigContainer\"}).text)"
   ]
  },
  {
   "cell_type": "markdown",
   "metadata": {},
   "source": [
    "Get the link to the Tableau data"
   ]
  },
  {
   "cell_type": "code",
   "execution_count": 4,
   "metadata": {
    "execution": {
     "iopub.execute_input": "2021-03-23T20:14:53.014235Z",
     "iopub.status.busy": "2021-03-23T20:14:53.013136Z",
     "iopub.status.idle": "2021-03-23T20:14:53.014827Z",
     "shell.execute_reply": "2021-03-23T20:14:53.015253Z"
    }
   },
   "outputs": [],
   "source": [
    "dataUrl = f'https://public.tableau.com{tableauData[\"vizql_root\"]}/bootstrapSession/sessions/{tableauData[\"sessionid\"]}'"
   ]
  },
  {
   "cell_type": "code",
   "execution_count": 5,
   "metadata": {
    "execution": {
     "iopub.execute_input": "2021-03-23T20:14:53.021820Z",
     "iopub.status.busy": "2021-03-23T20:14:53.021286Z",
     "iopub.status.idle": "2021-03-23T20:14:53.585502Z",
     "shell.execute_reply": "2021-03-23T20:14:53.585002Z"
    }
   },
   "outputs": [],
   "source": [
    "r = requests.post(dataUrl, data= {\n",
    "    \"sheet_id\": tableauData[\"sheetId\"],\n",
    "})\n",
    "\n",
    "dataReg = re.search('\\d+;({.*})\\d+;({.*})', r.text, re.MULTILINE)\n",
    "data1 = json.loads(dataReg.group(2))\n",
    "\n",
    "dataJson = data1[\"secondaryInfo\"][\"presModelMap\"][\"dataDictionary\"][\"presModelHolder\"][\"genDataDictionaryPresModel\"][\"dataSegments\"][\"0\"][\"dataColumns\"]"
   ]
  },
  {
   "cell_type": "markdown",
   "metadata": {},
   "source": [
    "Isolate what you want"
   ]
  },
  {
   "cell_type": "code",
   "execution_count": 6,
   "metadata": {
    "execution": {
     "iopub.execute_input": "2021-03-23T20:14:53.590024Z",
     "iopub.status.busy": "2021-03-23T20:14:53.589073Z",
     "iopub.status.idle": "2021-03-23T20:14:53.591515Z",
     "shell.execute_reply": "2021-03-23T20:14:53.590997Z"
    }
   },
   "outputs": [],
   "source": [
    "counties = dataJson[2]['dataValues'][:58]"
   ]
  },
  {
   "cell_type": "code",
   "execution_count": 7,
   "metadata": {
    "execution": {
     "iopub.execute_input": "2021-03-23T20:14:53.594938Z",
     "iopub.status.busy": "2021-03-23T20:14:53.594418Z",
     "iopub.status.idle": "2021-03-23T20:14:53.596806Z",
     "shell.execute_reply": "2021-03-23T20:14:53.596280Z"
    }
   },
   "outputs": [],
   "source": [
    "doses = dataJson[0]['dataValues'][3:61]"
   ]
  },
  {
   "cell_type": "markdown",
   "metadata": {},
   "source": [
    "Data formatting"
   ]
  },
  {
   "cell_type": "code",
   "execution_count": 8,
   "metadata": {
    "execution": {
     "iopub.execute_input": "2021-03-23T20:14:53.600383Z",
     "iopub.status.busy": "2021-03-23T20:14:53.599852Z",
     "iopub.status.idle": "2021-03-23T20:14:53.601420Z",
     "shell.execute_reply": "2021-03-23T20:14:53.601847Z"
    }
   },
   "outputs": [],
   "source": [
    "zipped = dict(zip(counties, doses))"
   ]
  },
  {
   "cell_type": "code",
   "execution_count": 9,
   "metadata": {
    "execution": {
     "iopub.execute_input": "2021-03-23T20:14:53.606904Z",
     "iopub.status.busy": "2021-03-23T20:14:53.606394Z",
     "iopub.status.idle": "2021-03-23T20:14:53.609285Z",
     "shell.execute_reply": "2021-03-23T20:14:53.608857Z"
    }
   },
   "outputs": [],
   "source": [
    "df = pd.Series(zipped).reset_index()"
   ]
  },
  {
   "cell_type": "code",
   "execution_count": 10,
   "metadata": {
    "execution": {
     "iopub.execute_input": "2021-03-23T20:14:53.613821Z",
     "iopub.status.busy": "2021-03-23T20:14:53.612629Z",
     "iopub.status.idle": "2021-03-23T20:14:53.614420Z",
     "shell.execute_reply": "2021-03-23T20:14:53.614846Z"
    }
   },
   "outputs": [],
   "source": [
    "df.columns = ['location','doses']"
   ]
  },
  {
   "cell_type": "markdown",
   "metadata": {},
   "source": [
    "Grab the overall California total"
   ]
  },
  {
   "cell_type": "code",
   "execution_count": 11,
   "metadata": {
    "execution": {
     "iopub.execute_input": "2021-03-23T20:14:53.619374Z",
     "iopub.status.busy": "2021-03-23T20:14:53.618203Z",
     "iopub.status.idle": "2021-03-23T20:14:53.620013Z",
     "shell.execute_reply": "2021-03-23T20:14:53.620441Z"
    }
   },
   "outputs": [],
   "source": [
    "add = {'location':'California','doses':dataJson[0]['dataValues'][2]}"
   ]
  },
  {
   "cell_type": "code",
   "execution_count": 12,
   "metadata": {
    "execution": {
     "iopub.execute_input": "2021-03-23T20:14:53.635397Z",
     "iopub.status.busy": "2021-03-23T20:14:53.626734Z",
     "iopub.status.idle": "2021-03-23T20:14:53.636125Z",
     "shell.execute_reply": "2021-03-23T20:14:53.636561Z"
    }
   },
   "outputs": [],
   "source": [
    "df = df.append(add, ignore_index=True)"
   ]
  },
  {
   "cell_type": "code",
   "execution_count": 13,
   "metadata": {
    "execution": {
     "iopub.execute_input": "2021-03-23T20:14:53.641326Z",
     "iopub.status.busy": "2021-03-23T20:14:53.640813Z",
     "iopub.status.idle": "2021-03-23T20:14:53.642693Z",
     "shell.execute_reply": "2021-03-23T20:14:53.643199Z"
    }
   },
   "outputs": [],
   "source": [
    "df = df.sort_values(by='location')"
   ]
  },
  {
   "cell_type": "code",
   "execution_count": 14,
   "metadata": {
    "execution": {
     "iopub.execute_input": "2021-03-23T20:14:53.649181Z",
     "iopub.status.busy": "2021-03-23T20:14:53.648664Z",
     "iopub.status.idle": "2021-03-23T20:14:53.650316Z",
     "shell.execute_reply": "2021-03-23T20:14:53.650746Z"
    }
   },
   "outputs": [],
   "source": [
    "df = df[df.location == 'California'].append(df[df.location != 'California']).reset_index(drop=True)"
   ]
  },
  {
   "cell_type": "code",
   "execution_count": null,
   "metadata": {},
   "outputs": [],
   "source": []
  },
  {
   "cell_type": "code",
   "execution_count": 15,
   "metadata": {
    "execution": {
     "iopub.execute_input": "2021-03-23T20:14:53.654021Z",
     "iopub.status.busy": "2021-03-23T20:14:53.653431Z",
     "iopub.status.idle": "2021-03-23T20:14:53.670990Z",
     "shell.execute_reply": "2021-03-23T20:14:53.670546Z"
    }
   },
   "outputs": [],
   "source": [
    "tz = pytz.timezone(\"America/New_York\")"
   ]
  },
  {
   "cell_type": "code",
   "execution_count": 16,
   "metadata": {
    "execution": {
     "iopub.execute_input": "2021-03-23T20:14:53.675531Z",
     "iopub.status.busy": "2021-03-23T20:14:53.674199Z",
     "iopub.status.idle": "2021-03-23T20:14:53.676186Z",
     "shell.execute_reply": "2021-03-23T20:14:53.676613Z"
    }
   },
   "outputs": [],
   "source": [
    "today = datetime.now(tz).date()"
   ]
  },
  {
   "cell_type": "code",
   "execution_count": 17,
   "metadata": {
    "execution": {
     "iopub.execute_input": "2021-03-23T20:14:53.681036Z",
     "iopub.status.busy": "2021-03-23T20:14:53.679897Z",
     "iopub.status.idle": "2021-03-23T20:14:53.681695Z",
     "shell.execute_reply": "2021-03-23T20:14:53.682156Z"
    }
   },
   "outputs": [],
   "source": [
    "data_dir = os.path.join(os.path.abspath(\"\"), \"data\")"
   ]
  },
  {
   "cell_type": "code",
   "execution_count": 18,
   "metadata": {
    "execution": {
     "iopub.execute_input": "2021-03-23T20:14:53.686694Z",
     "iopub.status.busy": "2021-03-23T20:14:53.685505Z",
     "iopub.status.idle": "2021-03-23T20:14:53.690242Z",
     "shell.execute_reply": "2021-03-23T20:14:53.689595Z"
    }
   },
   "outputs": [],
   "source": [
    "df.to_csv(os.path.join(data_dir, f\"{today}.csv\"), index=False)"
   ]
  },
  {
   "cell_type": "code",
   "execution_count": null,
   "metadata": {},
   "outputs": [],
   "source": []
  }
 ],
 "metadata": {
  "kernelspec": {
   "display_name": "Python 3",
   "language": "python",
   "name": "python3"
  },
  "language_info": {
   "codemirror_mode": {
    "name": "ipython",
    "version": 3
   },
   "file_extension": ".py",
   "mimetype": "text/x-python",
   "name": "python",
   "nbconvert_exporter": "python",
   "pygments_lexer": "ipython3",
   "version": "3.8.8"
  }
 },
 "nbformat": 4,
 "nbformat_minor": 4
}
