{
 "cells": [
  {
   "cell_type": "markdown",
   "metadata": {},
   "source": [
    "# California COVID vaccinations scrape"
   ]
  },
  {
   "cell_type": "markdown",
   "metadata": {},
   "source": [
    "By [Amy O'Kruk](https://twitter.com/amyokruk)"
   ]
  },
  {
   "cell_type": "markdown",
   "metadata": {},
   "source": [
    "Downloads data on vaccine doses administered by county and statewide from a Tableau-powered dashboard from the California Department of Public Health."
   ]
  },
  {
   "cell_type": "code",
   "execution_count": 1,
   "metadata": {
    "execution": {
     "iopub.execute_input": "2021-03-11T05:12:46.103261Z",
     "iopub.status.busy": "2021-03-11T05:12:46.102612Z",
     "iopub.status.idle": "2021-03-11T05:12:46.522201Z",
     "shell.execute_reply": "2021-03-11T05:12:46.521142Z"
    }
   },
   "outputs": [],
   "source": [
    "import pandas as pd\n",
    "import requests\n",
    "from bs4 import BeautifulSoup\n",
    "import json\n",
    "import re\n",
    "import time\n",
    "from time import gmtime, strftime \n",
    "import os\n",
    "import pytz\n",
    "from datetime import datetime"
   ]
  },
  {
   "cell_type": "markdown",
   "metadata": {},
   "source": [
    "Scrape the dashboard page"
   ]
  },
  {
   "cell_type": "code",
   "execution_count": 2,
   "metadata": {
    "execution": {
     "iopub.execute_input": "2021-03-11T05:12:46.529555Z",
     "iopub.status.busy": "2021-03-11T05:12:46.526138Z",
     "iopub.status.idle": "2021-03-11T05:12:46.755218Z",
     "shell.execute_reply": "2021-03-11T05:12:46.754091Z"
    }
   },
   "outputs": [],
   "source": [
    "url = \"https://public.tableau.com/interactive/views/COVID-19VaccineDashboardPublic/Vaccine?:embed=y&:showVizHome=n&:apiID=host0\"\n",
    "\n",
    "r = requests.get(url)\n",
    "soup = BeautifulSoup(r.text, \"html.parser\")"
   ]
  },
  {
   "cell_type": "code",
   "execution_count": 3,
   "metadata": {
    "execution": {
     "iopub.execute_input": "2021-03-11T05:12:46.759962Z",
     "iopub.status.busy": "2021-03-11T05:12:46.759444Z",
     "iopub.status.idle": "2021-03-11T05:12:46.762529Z",
     "shell.execute_reply": "2021-03-11T05:12:46.763001Z"
    }
   },
   "outputs": [],
   "source": [
    "tableauData = json.loads(soup.find(\"textarea\",{\"id\": \"tsConfigContainer\"}).text)"
   ]
  },
  {
   "cell_type": "markdown",
   "metadata": {},
   "source": [
    "Get the link to the Tableau data"
   ]
  },
  {
   "cell_type": "code",
   "execution_count": 4,
   "metadata": {
    "execution": {
     "iopub.execute_input": "2021-03-11T05:12:46.766608Z",
     "iopub.status.busy": "2021-03-11T05:12:46.766097Z",
     "iopub.status.idle": "2021-03-11T05:12:46.769991Z",
     "shell.execute_reply": "2021-03-11T05:12:46.769514Z"
    }
   },
   "outputs": [],
   "source": [
    "dataUrl = f'https://public.tableau.com{tableauData[\"vizql_root\"]}/bootstrapSession/sessions/{tableauData[\"sessionid\"]}'"
   ]
  },
  {
   "cell_type": "code",
   "execution_count": 5,
   "metadata": {
    "execution": {
     "iopub.execute_input": "2021-03-11T05:12:46.776432Z",
     "iopub.status.busy": "2021-03-11T05:12:46.775913Z",
     "iopub.status.idle": "2021-03-11T05:12:46.909328Z",
     "shell.execute_reply": "2021-03-11T05:12:46.908326Z"
    }
   },
   "outputs": [],
   "source": [
    "r = requests.post(dataUrl, data= {\n",
    "    \"sheet_id\": tableauData[\"sheetId\"],\n",
    "})\n",
    "\n",
    "dataReg = re.search('\\d+;({.*})\\d+;({.*})', r.text, re.MULTILINE)\n",
    "data1 = json.loads(dataReg.group(2))\n",
    "\n",
    "dataJson = data1[\"secondaryInfo\"][\"presModelMap\"][\"dataDictionary\"][\"presModelHolder\"][\"genDataDictionaryPresModel\"][\"dataSegments\"][\"0\"][\"dataColumns\"]"
   ]
  },
  {
   "cell_type": "markdown",
   "metadata": {},
   "source": [
    "Isolate what you want"
   ]
  },
  {
   "cell_type": "code",
   "execution_count": 6,
   "metadata": {
    "execution": {
     "iopub.execute_input": "2021-03-11T05:12:46.913006Z",
     "iopub.status.busy": "2021-03-11T05:12:46.912491Z",
     "iopub.status.idle": "2021-03-11T05:12:46.916026Z",
     "shell.execute_reply": "2021-03-11T05:12:46.915559Z"
    }
   },
   "outputs": [],
   "source": [
    "counties = dataJson[2]['dataValues'][:58]"
   ]
  },
  {
   "cell_type": "code",
   "execution_count": 7,
   "metadata": {
    "execution": {
     "iopub.execute_input": "2021-03-11T05:12:46.919578Z",
     "iopub.status.busy": "2021-03-11T05:12:46.919053Z",
     "iopub.status.idle": "2021-03-11T05:12:46.922454Z",
     "shell.execute_reply": "2021-03-11T05:12:46.922011Z"
    }
   },
   "outputs": [],
   "source": [
    "doses = dataJson[0]['dataValues'][3:61]"
   ]
  },
  {
   "cell_type": "markdown",
   "metadata": {},
   "source": [
    "Data formatting"
   ]
  },
  {
   "cell_type": "code",
   "execution_count": 8,
   "metadata": {
    "execution": {
     "iopub.execute_input": "2021-03-11T05:12:46.925971Z",
     "iopub.status.busy": "2021-03-11T05:12:46.925461Z",
     "iopub.status.idle": "2021-03-11T05:12:46.928721Z",
     "shell.execute_reply": "2021-03-11T05:12:46.929154Z"
    }
   },
   "outputs": [],
   "source": [
    "zipped = dict(zip(counties, doses))"
   ]
  },
  {
   "cell_type": "code",
   "execution_count": 9,
   "metadata": {
    "execution": {
     "iopub.execute_input": "2021-03-11T05:12:46.934855Z",
     "iopub.status.busy": "2021-03-11T05:12:46.934312Z",
     "iopub.status.idle": "2021-03-11T05:12:46.937692Z",
     "shell.execute_reply": "2021-03-11T05:12:46.937231Z"
    }
   },
   "outputs": [],
   "source": [
    "df = pd.Series(zipped).reset_index()"
   ]
  },
  {
   "cell_type": "code",
   "execution_count": 10,
   "metadata": {
    "execution": {
     "iopub.execute_input": "2021-03-11T05:12:46.941306Z",
     "iopub.status.busy": "2021-03-11T05:12:46.940798Z",
     "iopub.status.idle": "2021-03-11T05:12:46.943875Z",
     "shell.execute_reply": "2021-03-11T05:12:46.944308Z"
    }
   },
   "outputs": [],
   "source": [
    "df.columns = ['location','doses']"
   ]
  },
  {
   "cell_type": "markdown",
   "metadata": {},
   "source": [
    "Grab the overall California total"
   ]
  },
  {
   "cell_type": "code",
   "execution_count": 11,
   "metadata": {
    "execution": {
     "iopub.execute_input": "2021-03-11T05:12:46.947982Z",
     "iopub.status.busy": "2021-03-11T05:12:46.947475Z",
     "iopub.status.idle": "2021-03-11T05:12:46.951040Z",
     "shell.execute_reply": "2021-03-11T05:12:46.950554Z"
    }
   },
   "outputs": [],
   "source": [
    "add = {'location':'California','doses':dataJson[0]['dataValues'][2]}"
   ]
  },
  {
   "cell_type": "code",
   "execution_count": 12,
   "metadata": {
    "execution": {
     "iopub.execute_input": "2021-03-11T05:12:46.957185Z",
     "iopub.status.busy": "2021-03-11T05:12:46.956675Z",
     "iopub.status.idle": "2021-03-11T05:12:46.959743Z",
     "shell.execute_reply": "2021-03-11T05:12:46.960177Z"
    }
   },
   "outputs": [],
   "source": [
    "df = df.append(add, ignore_index=True)"
   ]
  },
  {
   "cell_type": "code",
   "execution_count": 13,
   "metadata": {
    "execution": {
     "iopub.execute_input": "2021-03-11T05:12:46.964496Z",
     "iopub.status.busy": "2021-03-11T05:12:46.963984Z",
     "iopub.status.idle": "2021-03-11T05:12:46.967052Z",
     "shell.execute_reply": "2021-03-11T05:12:46.967489Z"
    }
   },
   "outputs": [],
   "source": [
    "df = df.sort_values(by='location')"
   ]
  },
  {
   "cell_type": "code",
   "execution_count": 14,
   "metadata": {
    "execution": {
     "iopub.execute_input": "2021-03-11T05:12:46.973155Z",
     "iopub.status.busy": "2021-03-11T05:12:46.972642Z",
     "iopub.status.idle": "2021-03-11T05:12:46.975744Z",
     "shell.execute_reply": "2021-03-11T05:12:46.976177Z"
    }
   },
   "outputs": [],
   "source": [
    "df = df[df.location == 'California'].append(df[df.location != 'California']).reset_index(drop=True)"
   ]
  },
  {
   "cell_type": "code",
   "execution_count": null,
   "metadata": {},
   "outputs": [],
   "source": []
  },
  {
   "cell_type": "code",
   "execution_count": 15,
   "metadata": {
    "execution": {
     "iopub.execute_input": "2021-03-11T05:12:46.979606Z",
     "iopub.status.busy": "2021-03-11T05:12:46.979087Z",
     "iopub.status.idle": "2021-03-11T05:12:46.998079Z",
     "shell.execute_reply": "2021-03-11T05:12:46.998513Z"
    }
   },
   "outputs": [],
   "source": [
    "tz = pytz.timezone(\"America/New_York\")"
   ]
  },
  {
   "cell_type": "code",
   "execution_count": 16,
   "metadata": {
    "execution": {
     "iopub.execute_input": "2021-03-11T05:12:47.002133Z",
     "iopub.status.busy": "2021-03-11T05:12:47.001631Z",
     "iopub.status.idle": "2021-03-11T05:12:47.003967Z",
     "shell.execute_reply": "2021-03-11T05:12:47.003502Z"
    }
   },
   "outputs": [],
   "source": [
    "today = datetime.now(tz).date()"
   ]
  },
  {
   "cell_type": "code",
   "execution_count": 17,
   "metadata": {
    "execution": {
     "iopub.execute_input": "2021-03-11T05:12:47.007335Z",
     "iopub.status.busy": "2021-03-11T05:12:47.006818Z",
     "iopub.status.idle": "2021-03-11T05:12:47.010138Z",
     "shell.execute_reply": "2021-03-11T05:12:47.009686Z"
    }
   },
   "outputs": [],
   "source": [
    "data_dir = os.path.join(os.path.abspath(\"\"), \"data\")"
   ]
  },
  {
   "cell_type": "code",
   "execution_count": 18,
   "metadata": {
    "execution": {
     "iopub.execute_input": "2021-03-11T05:12:47.015051Z",
     "iopub.status.busy": "2021-03-11T05:12:47.013228Z",
     "iopub.status.idle": "2021-03-11T05:12:47.018187Z",
     "shell.execute_reply": "2021-03-11T05:12:47.017734Z"
    }
   },
   "outputs": [],
   "source": [
    "df.to_csv(os.path.join(data_dir, f\"{today}.csv\"), index=False)"
   ]
  },
  {
   "cell_type": "code",
   "execution_count": null,
   "metadata": {},
   "outputs": [],
   "source": []
  }
 ],
 "metadata": {
  "kernelspec": {
   "display_name": "Python 3",
   "language": "python",
   "name": "python3"
  },
  "language_info": {
   "codemirror_mode": {
    "name": "ipython",
    "version": 3
   },
   "file_extension": ".py",
   "mimetype": "text/x-python",
   "name": "python",
   "nbconvert_exporter": "python",
   "pygments_lexer": "ipython3",
   "version": "3.8.8"
  }
 },
 "nbformat": 4,
 "nbformat_minor": 4
}
