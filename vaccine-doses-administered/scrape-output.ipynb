{
 "cells": [
  {
   "cell_type": "markdown",
   "metadata": {},
   "source": [
    "# California COVID vaccinations scrape"
   ]
  },
  {
   "cell_type": "markdown",
   "metadata": {},
   "source": [
    "By [Amy O'Kruk](https://twitter.com/amyokruk)"
   ]
  },
  {
   "cell_type": "markdown",
   "metadata": {},
   "source": [
    "Downloads data on vaccine doses administered by county and statewide from a Tableau-powered dashboard from the California Department of Public Health."
   ]
  },
  {
   "cell_type": "code",
   "execution_count": 1,
   "metadata": {
    "execution": {
     "iopub.execute_input": "2021-03-15T06:46:57.744200Z",
     "iopub.status.busy": "2021-03-15T06:46:57.743024Z",
     "iopub.status.idle": "2021-03-15T06:46:58.159735Z",
     "shell.execute_reply": "2021-03-15T06:46:58.160386Z"
    }
   },
   "outputs": [],
   "source": [
    "import pandas as pd\n",
    "import requests\n",
    "from bs4 import BeautifulSoup\n",
    "import json\n",
    "import re\n",
    "import time\n",
    "from time import gmtime, strftime \n",
    "import os\n",
    "import pytz\n",
    "from datetime import datetime"
   ]
  },
  {
   "cell_type": "markdown",
   "metadata": {},
   "source": [
    "Scrape the dashboard page"
   ]
  },
  {
   "cell_type": "code",
   "execution_count": 2,
   "metadata": {
    "execution": {
     "iopub.execute_input": "2021-03-15T06:46:58.164662Z",
     "iopub.status.busy": "2021-03-15T06:46:58.164134Z",
     "iopub.status.idle": "2021-03-15T06:46:58.661931Z",
     "shell.execute_reply": "2021-03-15T06:46:58.661444Z"
    }
   },
   "outputs": [],
   "source": [
    "url = \"https://public.tableau.com/interactive/views/COVID-19VaccineDashboardPublic/Vaccine?:embed=y&:showVizHome=n&:apiID=host0\"\n",
    "\n",
    "r = requests.get(url)\n",
    "soup = BeautifulSoup(r.text, \"html.parser\")"
   ]
  },
  {
   "cell_type": "code",
   "execution_count": 3,
   "metadata": {
    "execution": {
     "iopub.execute_input": "2021-03-15T06:46:58.666817Z",
     "iopub.status.busy": "2021-03-15T06:46:58.666333Z",
     "iopub.status.idle": "2021-03-15T06:46:58.669530Z",
     "shell.execute_reply": "2021-03-15T06:46:58.669125Z"
    }
   },
   "outputs": [],
   "source": [
    "tableauData = json.loads(soup.find(\"textarea\",{\"id\": \"tsConfigContainer\"}).text)"
   ]
  },
  {
   "cell_type": "markdown",
   "metadata": {},
   "source": [
    "Get the link to the Tableau data"
   ]
  },
  {
   "cell_type": "code",
   "execution_count": 4,
   "metadata": {
    "execution": {
     "iopub.execute_input": "2021-03-15T06:46:58.673869Z",
     "iopub.status.busy": "2021-03-15T06:46:58.672821Z",
     "iopub.status.idle": "2021-03-15T06:46:58.674939Z",
     "shell.execute_reply": "2021-03-15T06:46:58.675390Z"
    }
   },
   "outputs": [],
   "source": [
    "dataUrl = f'https://public.tableau.com{tableauData[\"vizql_root\"]}/bootstrapSession/sessions/{tableauData[\"sessionid\"]}'"
   ]
  },
  {
   "cell_type": "code",
   "execution_count": 5,
   "metadata": {
    "execution": {
     "iopub.execute_input": "2021-03-15T06:46:58.682460Z",
     "iopub.status.busy": "2021-03-15T06:46:58.681973Z",
     "iopub.status.idle": "2021-03-15T06:46:59.045517Z",
     "shell.execute_reply": "2021-03-15T06:46:59.044758Z"
    }
   },
   "outputs": [],
   "source": [
    "r = requests.post(dataUrl, data= {\n",
    "    \"sheet_id\": tableauData[\"sheetId\"],\n",
    "})\n",
    "\n",
    "dataReg = re.search('\\d+;({.*})\\d+;({.*})', r.text, re.MULTILINE)\n",
    "data1 = json.loads(dataReg.group(2))\n",
    "\n",
    "dataJson = data1[\"secondaryInfo\"][\"presModelMap\"][\"dataDictionary\"][\"presModelHolder\"][\"genDataDictionaryPresModel\"][\"dataSegments\"][\"0\"][\"dataColumns\"]"
   ]
  },
  {
   "cell_type": "markdown",
   "metadata": {},
   "source": [
    "Isolate what you want"
   ]
  },
  {
   "cell_type": "code",
   "execution_count": 6,
   "metadata": {
    "execution": {
     "iopub.execute_input": "2021-03-15T06:46:59.051810Z",
     "iopub.status.busy": "2021-03-15T06:46:59.051246Z",
     "iopub.status.idle": "2021-03-15T06:46:59.054789Z",
     "shell.execute_reply": "2021-03-15T06:46:59.054295Z"
    }
   },
   "outputs": [],
   "source": [
    "counties = dataJson[2]['dataValues'][:58]"
   ]
  },
  {
   "cell_type": "code",
   "execution_count": 7,
   "metadata": {
    "execution": {
     "iopub.execute_input": "2021-03-15T06:46:59.058690Z",
     "iopub.status.busy": "2021-03-15T06:46:59.057889Z",
     "iopub.status.idle": "2021-03-15T06:46:59.059443Z",
     "shell.execute_reply": "2021-03-15T06:46:59.059859Z"
    }
   },
   "outputs": [],
   "source": [
    "doses = dataJson[0]['dataValues'][3:61]"
   ]
  },
  {
   "cell_type": "markdown",
   "metadata": {},
   "source": [
    "Data formatting"
   ]
  },
  {
   "cell_type": "code",
   "execution_count": 8,
   "metadata": {
    "execution": {
     "iopub.execute_input": "2021-03-15T06:46:59.064177Z",
     "iopub.status.busy": "2021-03-15T06:46:59.062955Z",
     "iopub.status.idle": "2021-03-15T06:46:59.064751Z",
     "shell.execute_reply": "2021-03-15T06:46:59.065173Z"
    }
   },
   "outputs": [],
   "source": [
    "zipped = dict(zip(counties, doses))"
   ]
  },
  {
   "cell_type": "code",
   "execution_count": 9,
   "metadata": {
    "execution": {
     "iopub.execute_input": "2021-03-15T06:46:59.071214Z",
     "iopub.status.busy": "2021-03-15T06:46:59.070048Z",
     "iopub.status.idle": "2021-03-15T06:46:59.071797Z",
     "shell.execute_reply": "2021-03-15T06:46:59.072225Z"
    }
   },
   "outputs": [],
   "source": [
    "df = pd.Series(zipped).reset_index()"
   ]
  },
  {
   "cell_type": "code",
   "execution_count": 10,
   "metadata": {
    "execution": {
     "iopub.execute_input": "2021-03-15T06:46:59.076785Z",
     "iopub.status.busy": "2021-03-15T06:46:59.075658Z",
     "iopub.status.idle": "2021-03-15T06:46:59.077371Z",
     "shell.execute_reply": "2021-03-15T06:46:59.077785Z"
    }
   },
   "outputs": [],
   "source": [
    "df.columns = ['location','doses']"
   ]
  },
  {
   "cell_type": "markdown",
   "metadata": {},
   "source": [
    "Grab the overall California total"
   ]
  },
  {
   "cell_type": "code",
   "execution_count": 11,
   "metadata": {
    "execution": {
     "iopub.execute_input": "2021-03-15T06:46:59.083559Z",
     "iopub.status.busy": "2021-03-15T06:46:59.082431Z",
     "iopub.status.idle": "2021-03-15T06:46:59.084160Z",
     "shell.execute_reply": "2021-03-15T06:46:59.084586Z"
    }
   },
   "outputs": [],
   "source": [
    "add = {'location':'California','doses':dataJson[0]['dataValues'][2]}"
   ]
  },
  {
   "cell_type": "code",
   "execution_count": 12,
   "metadata": {
    "execution": {
     "iopub.execute_input": "2021-03-15T06:46:59.091492Z",
     "iopub.status.busy": "2021-03-15T06:46:59.090424Z",
     "iopub.status.idle": "2021-03-15T06:46:59.092077Z",
     "shell.execute_reply": "2021-03-15T06:46:59.092503Z"
    }
   },
   "outputs": [],
   "source": [
    "df = df.append(add, ignore_index=True)"
   ]
  },
  {
   "cell_type": "code",
   "execution_count": 13,
   "metadata": {
    "execution": {
     "iopub.execute_input": "2021-03-15T06:46:59.097665Z",
     "iopub.status.busy": "2021-03-15T06:46:59.096517Z",
     "iopub.status.idle": "2021-03-15T06:46:59.098262Z",
     "shell.execute_reply": "2021-03-15T06:46:59.098684Z"
    }
   },
   "outputs": [],
   "source": [
    "df = df.sort_values(by='location')"
   ]
  },
  {
   "cell_type": "code",
   "execution_count": 14,
   "metadata": {
    "execution": {
     "iopub.execute_input": "2021-03-15T06:46:59.105071Z",
     "iopub.status.busy": "2021-03-15T06:46:59.103898Z",
     "iopub.status.idle": "2021-03-15T06:46:59.105670Z",
     "shell.execute_reply": "2021-03-15T06:46:59.106095Z"
    }
   },
   "outputs": [],
   "source": [
    "df = df[df.location == 'California'].append(df[df.location != 'California']).reset_index(drop=True)"
   ]
  },
  {
   "cell_type": "code",
   "execution_count": null,
   "metadata": {},
   "outputs": [],
   "source": []
  },
  {
   "cell_type": "code",
   "execution_count": 15,
   "metadata": {
    "execution": {
     "iopub.execute_input": "2021-03-15T06:46:59.109575Z",
     "iopub.status.busy": "2021-03-15T06:46:59.108920Z",
     "iopub.status.idle": "2021-03-15T06:46:59.129164Z",
     "shell.execute_reply": "2021-03-15T06:46:59.129576Z"
    }
   },
   "outputs": [],
   "source": [
    "tz = pytz.timezone(\"America/New_York\")"
   ]
  },
  {
   "cell_type": "code",
   "execution_count": 16,
   "metadata": {
    "execution": {
     "iopub.execute_input": "2021-03-15T06:46:59.134561Z",
     "iopub.status.busy": "2021-03-15T06:46:59.133303Z",
     "iopub.status.idle": "2021-03-15T06:46:59.135166Z",
     "shell.execute_reply": "2021-03-15T06:46:59.135621Z"
    }
   },
   "outputs": [],
   "source": [
    "today = datetime.now(tz).date()"
   ]
  },
  {
   "cell_type": "code",
   "execution_count": 17,
   "metadata": {
    "execution": {
     "iopub.execute_input": "2021-03-15T06:46:59.139821Z",
     "iopub.status.busy": "2021-03-15T06:46:59.138681Z",
     "iopub.status.idle": "2021-03-15T06:46:59.140428Z",
     "shell.execute_reply": "2021-03-15T06:46:59.140861Z"
    }
   },
   "outputs": [],
   "source": [
    "data_dir = os.path.join(os.path.abspath(\"\"), \"data\")"
   ]
  },
  {
   "cell_type": "code",
   "execution_count": 18,
   "metadata": {
    "execution": {
     "iopub.execute_input": "2021-03-15T06:46:59.145758Z",
     "iopub.status.busy": "2021-03-15T06:46:59.145220Z",
     "iopub.status.idle": "2021-03-15T06:46:59.149686Z",
     "shell.execute_reply": "2021-03-15T06:46:59.149190Z"
    }
   },
   "outputs": [],
   "source": [
    "df.to_csv(os.path.join(data_dir, f\"{today}.csv\"), index=False)"
   ]
  },
  {
   "cell_type": "code",
   "execution_count": null,
   "metadata": {},
   "outputs": [],
   "source": []
  }
 ],
 "metadata": {
  "kernelspec": {
   "display_name": "Python 3",
   "language": "python",
   "name": "python3"
  },
  "language_info": {
   "codemirror_mode": {
    "name": "ipython",
    "version": 3
   },
   "file_extension": ".py",
   "mimetype": "text/x-python",
   "name": "python",
   "nbconvert_exporter": "python",
   "pygments_lexer": "ipython3",
   "version": "3.8.8"
  }
 },
 "nbformat": 4,
 "nbformat_minor": 4
}
