{
 "cells": [
  {
   "cell_type": "markdown",
   "metadata": {},
   "source": [
    "# California COVID vaccinations scrape"
   ]
  },
  {
   "cell_type": "markdown",
   "metadata": {},
   "source": [
    "By [Amy O'Kruk](https://twitter.com/amyokruk)"
   ]
  },
  {
   "cell_type": "markdown",
   "metadata": {},
   "source": [
    "Downloads data on vaccine doses administered by county and statewide from a Tableau-powered dashboard from the California Department of Public Health."
   ]
  },
  {
   "cell_type": "code",
   "execution_count": 1,
   "metadata": {
    "execution": {
     "iopub.execute_input": "2021-03-15T07:11:55.184018Z",
     "iopub.status.busy": "2021-03-15T07:11:55.183305Z",
     "iopub.status.idle": "2021-03-15T07:11:55.794180Z",
     "shell.execute_reply": "2021-03-15T07:11:55.793556Z"
    }
   },
   "outputs": [],
   "source": [
    "import pandas as pd\n",
    "import requests\n",
    "from bs4 import BeautifulSoup\n",
    "import json\n",
    "import re\n",
    "import time\n",
    "from time import gmtime, strftime \n",
    "import os\n",
    "import pytz\n",
    "from datetime import datetime"
   ]
  },
  {
   "cell_type": "markdown",
   "metadata": {},
   "source": [
    "Scrape the dashboard page"
   ]
  },
  {
   "cell_type": "code",
   "execution_count": 2,
   "metadata": {
    "execution": {
     "iopub.execute_input": "2021-03-15T07:11:55.799433Z",
     "iopub.status.busy": "2021-03-15T07:11:55.798720Z",
     "iopub.status.idle": "2021-03-15T07:11:56.440183Z",
     "shell.execute_reply": "2021-03-15T07:11:56.439584Z"
    }
   },
   "outputs": [],
   "source": [
    "url = \"https://public.tableau.com/interactive/views/COVID-19VaccineDashboardPublic/Vaccine?:embed=y&:showVizHome=n&:apiID=host0\"\n",
    "\n",
    "r = requests.get(url)\n",
    "soup = BeautifulSoup(r.text, \"html.parser\")"
   ]
  },
  {
   "cell_type": "code",
   "execution_count": 3,
   "metadata": {
    "execution": {
     "iopub.execute_input": "2021-03-15T07:11:56.446983Z",
     "iopub.status.busy": "2021-03-15T07:11:56.446017Z",
     "iopub.status.idle": "2021-03-15T07:11:56.449596Z",
     "shell.execute_reply": "2021-03-15T07:11:56.448857Z"
    }
   },
   "outputs": [],
   "source": [
    "tableauData = json.loads(soup.find(\"textarea\",{\"id\": \"tsConfigContainer\"}).text)"
   ]
  },
  {
   "cell_type": "markdown",
   "metadata": {},
   "source": [
    "Get the link to the Tableau data"
   ]
  },
  {
   "cell_type": "code",
   "execution_count": 4,
   "metadata": {
    "execution": {
     "iopub.execute_input": "2021-03-15T07:11:56.454889Z",
     "iopub.status.busy": "2021-03-15T07:11:56.453200Z",
     "iopub.status.idle": "2021-03-15T07:11:56.455538Z",
     "shell.execute_reply": "2021-03-15T07:11:56.456096Z"
    }
   },
   "outputs": [],
   "source": [
    "dataUrl = f'https://public.tableau.com{tableauData[\"vizql_root\"]}/bootstrapSession/sessions/{tableauData[\"sessionid\"]}'"
   ]
  },
  {
   "cell_type": "code",
   "execution_count": 5,
   "metadata": {
    "execution": {
     "iopub.execute_input": "2021-03-15T07:11:56.464259Z",
     "iopub.status.busy": "2021-03-15T07:11:56.463697Z",
     "iopub.status.idle": "2021-03-15T07:11:56.788922Z",
     "shell.execute_reply": "2021-03-15T07:11:56.788330Z"
    }
   },
   "outputs": [],
   "source": [
    "r = requests.post(dataUrl, data= {\n",
    "    \"sheet_id\": tableauData[\"sheetId\"],\n",
    "})\n",
    "\n",
    "dataReg = re.search('\\d+;({.*})\\d+;({.*})', r.text, re.MULTILINE)\n",
    "data1 = json.loads(dataReg.group(2))\n",
    "\n",
    "dataJson = data1[\"secondaryInfo\"][\"presModelMap\"][\"dataDictionary\"][\"presModelHolder\"][\"genDataDictionaryPresModel\"][\"dataSegments\"][\"0\"][\"dataColumns\"]"
   ]
  },
  {
   "cell_type": "markdown",
   "metadata": {},
   "source": [
    "Isolate what you want"
   ]
  },
  {
   "cell_type": "code",
   "execution_count": 6,
   "metadata": {
    "execution": {
     "iopub.execute_input": "2021-03-15T07:11:56.794432Z",
     "iopub.status.busy": "2021-03-15T07:11:56.792755Z",
     "iopub.status.idle": "2021-03-15T07:11:56.795208Z",
     "shell.execute_reply": "2021-03-15T07:11:56.795722Z"
    }
   },
   "outputs": [],
   "source": [
    "counties = dataJson[2]['dataValues'][:58]"
   ]
  },
  {
   "cell_type": "code",
   "execution_count": 7,
   "metadata": {
    "execution": {
     "iopub.execute_input": "2021-03-15T07:11:56.802006Z",
     "iopub.status.busy": "2021-03-15T07:11:56.800432Z",
     "iopub.status.idle": "2021-03-15T07:11:56.802772Z",
     "shell.execute_reply": "2021-03-15T07:11:56.803332Z"
    }
   },
   "outputs": [],
   "source": [
    "doses = dataJson[0]['dataValues'][3:61]"
   ]
  },
  {
   "cell_type": "markdown",
   "metadata": {},
   "source": [
    "Data formatting"
   ]
  },
  {
   "cell_type": "code",
   "execution_count": 8,
   "metadata": {
    "execution": {
     "iopub.execute_input": "2021-03-15T07:11:56.808313Z",
     "iopub.status.busy": "2021-03-15T07:11:56.807132Z",
     "iopub.status.idle": "2021-03-15T07:11:56.809745Z",
     "shell.execute_reply": "2021-03-15T07:11:56.809241Z"
    }
   },
   "outputs": [],
   "source": [
    "zipped = dict(zip(counties, doses))"
   ]
  },
  {
   "cell_type": "code",
   "execution_count": 9,
   "metadata": {
    "execution": {
     "iopub.execute_input": "2021-03-15T07:11:56.818197Z",
     "iopub.status.busy": "2021-03-15T07:11:56.816596Z",
     "iopub.status.idle": "2021-03-15T07:11:56.818954Z",
     "shell.execute_reply": "2021-03-15T07:11:56.819511Z"
    }
   },
   "outputs": [],
   "source": [
    "df = pd.Series(zipped).reset_index()"
   ]
  },
  {
   "cell_type": "code",
   "execution_count": 10,
   "metadata": {
    "execution": {
     "iopub.execute_input": "2021-03-15T07:11:56.824934Z",
     "iopub.status.busy": "2021-03-15T07:11:56.823293Z",
     "iopub.status.idle": "2021-03-15T07:11:56.825596Z",
     "shell.execute_reply": "2021-03-15T07:11:56.826167Z"
    }
   },
   "outputs": [],
   "source": [
    "df.columns = ['location','doses']"
   ]
  },
  {
   "cell_type": "markdown",
   "metadata": {},
   "source": [
    "Grab the overall California total"
   ]
  },
  {
   "cell_type": "code",
   "execution_count": 11,
   "metadata": {
    "execution": {
     "iopub.execute_input": "2021-03-15T07:11:56.831833Z",
     "iopub.status.busy": "2021-03-15T07:11:56.830418Z",
     "iopub.status.idle": "2021-03-15T07:11:56.832478Z",
     "shell.execute_reply": "2021-03-15T07:11:56.832965Z"
    }
   },
   "outputs": [],
   "source": [
    "add = {'location':'California','doses':dataJson[0]['dataValues'][2]}"
   ]
  },
  {
   "cell_type": "code",
   "execution_count": 12,
   "metadata": {
    "execution": {
     "iopub.execute_input": "2021-03-15T07:11:56.841376Z",
     "iopub.status.busy": "2021-03-15T07:11:56.839908Z",
     "iopub.status.idle": "2021-03-15T07:11:56.841998Z",
     "shell.execute_reply": "2021-03-15T07:11:56.842462Z"
    }
   },
   "outputs": [],
   "source": [
    "df = df.append(add, ignore_index=True)"
   ]
  },
  {
   "cell_type": "code",
   "execution_count": 13,
   "metadata": {
    "execution": {
     "iopub.execute_input": "2021-03-15T07:11:56.848381Z",
     "iopub.status.busy": "2021-03-15T07:11:56.846929Z",
     "iopub.status.idle": "2021-03-15T07:11:56.849062Z",
     "shell.execute_reply": "2021-03-15T07:11:56.849562Z"
    }
   },
   "outputs": [],
   "source": [
    "df = df.sort_values(by='location')"
   ]
  },
  {
   "cell_type": "code",
   "execution_count": 14,
   "metadata": {
    "execution": {
     "iopub.execute_input": "2021-03-15T07:11:56.856677Z",
     "iopub.status.busy": "2021-03-15T07:11:56.855445Z",
     "iopub.status.idle": "2021-03-15T07:11:56.857278Z",
     "shell.execute_reply": "2021-03-15T07:11:56.857730Z"
    }
   },
   "outputs": [],
   "source": [
    "df = df[df.location == 'California'].append(df[df.location != 'California']).reset_index(drop=True)"
   ]
  },
  {
   "cell_type": "code",
   "execution_count": null,
   "metadata": {},
   "outputs": [],
   "source": []
  },
  {
   "cell_type": "code",
   "execution_count": 15,
   "metadata": {
    "execution": {
     "iopub.execute_input": "2021-03-15T07:11:56.861682Z",
     "iopub.status.busy": "2021-03-15T07:11:56.860975Z",
     "iopub.status.idle": "2021-03-15T07:11:56.881779Z",
     "shell.execute_reply": "2021-03-15T07:11:56.880886Z"
    }
   },
   "outputs": [],
   "source": [
    "tz = pytz.timezone(\"America/New_York\")"
   ]
  },
  {
   "cell_type": "code",
   "execution_count": 16,
   "metadata": {
    "execution": {
     "iopub.execute_input": "2021-03-15T07:11:56.887166Z",
     "iopub.status.busy": "2021-03-15T07:11:56.885567Z",
     "iopub.status.idle": "2021-03-15T07:11:56.887855Z",
     "shell.execute_reply": "2021-03-15T07:11:56.888340Z"
    }
   },
   "outputs": [],
   "source": [
    "today = datetime.now(tz).date()"
   ]
  },
  {
   "cell_type": "code",
   "execution_count": 17,
   "metadata": {
    "execution": {
     "iopub.execute_input": "2021-03-15T07:11:56.893537Z",
     "iopub.status.busy": "2021-03-15T07:11:56.891803Z",
     "iopub.status.idle": "2021-03-15T07:11:56.894221Z",
     "shell.execute_reply": "2021-03-15T07:11:56.894843Z"
    }
   },
   "outputs": [],
   "source": [
    "data_dir = os.path.join(os.path.abspath(\"\"), \"data\")"
   ]
  },
  {
   "cell_type": "code",
   "execution_count": 18,
   "metadata": {
    "execution": {
     "iopub.execute_input": "2021-03-15T07:11:56.901671Z",
     "iopub.status.busy": "2021-03-15T07:11:56.898750Z",
     "iopub.status.idle": "2021-03-15T07:11:56.904028Z",
     "shell.execute_reply": "2021-03-15T07:11:56.904476Z"
    }
   },
   "outputs": [],
   "source": [
    "df.to_csv(os.path.join(data_dir, f\"{today}.csv\"), index=False)"
   ]
  },
  {
   "cell_type": "code",
   "execution_count": null,
   "metadata": {},
   "outputs": [],
   "source": []
  }
 ],
 "metadata": {
  "kernelspec": {
   "display_name": "Python 3",
   "language": "python",
   "name": "python3"
  },
  "language_info": {
   "codemirror_mode": {
    "name": "ipython",
    "version": 3
   },
   "file_extension": ".py",
   "mimetype": "text/x-python",
   "name": "python",
   "nbconvert_exporter": "python",
   "pygments_lexer": "ipython3",
   "version": "3.8.8"
  }
 },
 "nbformat": 4,
 "nbformat_minor": 4
}
