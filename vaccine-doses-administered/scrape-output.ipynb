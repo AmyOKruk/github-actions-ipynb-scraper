{
 "cells": [
  {
   "cell_type": "markdown",
   "metadata": {},
   "source": [
    "# California COVID vaccinations scrape"
   ]
  },
  {
   "cell_type": "markdown",
   "metadata": {},
   "source": [
    "By [Amy O'Kruk](https://twitter.com/amyokruk)"
   ]
  },
  {
   "cell_type": "markdown",
   "metadata": {},
   "source": [
    "Downloads data on vaccine doses administered by county and statewide from a Tableau-powered dashboard from the California Department of Public Health."
   ]
  },
  {
   "cell_type": "code",
   "execution_count": 1,
   "metadata": {
    "execution": {
     "iopub.execute_input": "2021-03-21T11:45:15.576250Z",
     "iopub.status.busy": "2021-03-21T11:45:15.575241Z",
     "iopub.status.idle": "2021-03-21T11:45:16.036807Z",
     "shell.execute_reply": "2021-03-21T11:45:16.035922Z"
    }
   },
   "outputs": [],
   "source": [
    "import pandas as pd\n",
    "import requests\n",
    "from bs4 import BeautifulSoup\n",
    "import json\n",
    "import re\n",
    "import time\n",
    "from time import gmtime, strftime \n",
    "import os\n",
    "import pytz\n",
    "from datetime import datetime"
   ]
  },
  {
   "cell_type": "markdown",
   "metadata": {},
   "source": [
    "Scrape the dashboard page"
   ]
  },
  {
   "cell_type": "code",
   "execution_count": 2,
   "metadata": {
    "execution": {
     "iopub.execute_input": "2021-03-21T11:45:16.041541Z",
     "iopub.status.busy": "2021-03-21T11:45:16.040948Z",
     "iopub.status.idle": "2021-03-21T11:45:16.347978Z",
     "shell.execute_reply": "2021-03-21T11:45:16.346734Z"
    }
   },
   "outputs": [],
   "source": [
    "url = \"https://public.tableau.com/interactive/views/COVID-19VaccineDashboardPublic/Vaccine?:embed=y&:showVizHome=n&:apiID=host0\"\n",
    "\n",
    "r = requests.get(url)\n",
    "soup = BeautifulSoup(r.text, \"html.parser\")"
   ]
  },
  {
   "cell_type": "code",
   "execution_count": 3,
   "metadata": {
    "execution": {
     "iopub.execute_input": "2021-03-21T11:45:16.355873Z",
     "iopub.status.busy": "2021-03-21T11:45:16.354695Z",
     "iopub.status.idle": "2021-03-21T11:45:16.361000Z",
     "shell.execute_reply": "2021-03-21T11:45:16.359578Z"
    }
   },
   "outputs": [],
   "source": [
    "tableauData = json.loads(soup.find(\"textarea\",{\"id\": \"tsConfigContainer\"}).text)"
   ]
  },
  {
   "cell_type": "markdown",
   "metadata": {},
   "source": [
    "Get the link to the Tableau data"
   ]
  },
  {
   "cell_type": "code",
   "execution_count": 4,
   "metadata": {
    "execution": {
     "iopub.execute_input": "2021-03-21T11:45:16.365333Z",
     "iopub.status.busy": "2021-03-21T11:45:16.363957Z",
     "iopub.status.idle": "2021-03-21T11:45:16.370740Z",
     "shell.execute_reply": "2021-03-21T11:45:16.369513Z"
    }
   },
   "outputs": [],
   "source": [
    "dataUrl = f'https://public.tableau.com{tableauData[\"vizql_root\"]}/bootstrapSession/sessions/{tableauData[\"sessionid\"]}'"
   ]
  },
  {
   "cell_type": "code",
   "execution_count": 5,
   "metadata": {
    "execution": {
     "iopub.execute_input": "2021-03-21T11:45:16.379102Z",
     "iopub.status.busy": "2021-03-21T11:45:16.378137Z",
     "iopub.status.idle": "2021-03-21T11:45:16.596423Z",
     "shell.execute_reply": "2021-03-21T11:45:16.595806Z"
    }
   },
   "outputs": [],
   "source": [
    "r = requests.post(dataUrl, data= {\n",
    "    \"sheet_id\": tableauData[\"sheetId\"],\n",
    "})\n",
    "\n",
    "dataReg = re.search('\\d+;({.*})\\d+;({.*})', r.text, re.MULTILINE)\n",
    "data1 = json.loads(dataReg.group(2))\n",
    "\n",
    "dataJson = data1[\"secondaryInfo\"][\"presModelMap\"][\"dataDictionary\"][\"presModelHolder\"][\"genDataDictionaryPresModel\"][\"dataSegments\"][\"0\"][\"dataColumns\"]"
   ]
  },
  {
   "cell_type": "markdown",
   "metadata": {},
   "source": [
    "Isolate what you want"
   ]
  },
  {
   "cell_type": "code",
   "execution_count": 6,
   "metadata": {
    "execution": {
     "iopub.execute_input": "2021-03-21T11:45:16.603222Z",
     "iopub.status.busy": "2021-03-21T11:45:16.602091Z",
     "iopub.status.idle": "2021-03-21T11:45:16.604830Z",
     "shell.execute_reply": "2021-03-21T11:45:16.605508Z"
    }
   },
   "outputs": [],
   "source": [
    "counties = dataJson[2]['dataValues'][:58]"
   ]
  },
  {
   "cell_type": "code",
   "execution_count": 7,
   "metadata": {
    "execution": {
     "iopub.execute_input": "2021-03-21T11:45:16.611382Z",
     "iopub.status.busy": "2021-03-21T11:45:16.609689Z",
     "iopub.status.idle": "2021-03-21T11:45:16.612248Z",
     "shell.execute_reply": "2021-03-21T11:45:16.612923Z"
    }
   },
   "outputs": [],
   "source": [
    "doses = dataJson[0]['dataValues'][3:61]"
   ]
  },
  {
   "cell_type": "markdown",
   "metadata": {},
   "source": [
    "Data formatting"
   ]
  },
  {
   "cell_type": "code",
   "execution_count": 8,
   "metadata": {
    "execution": {
     "iopub.execute_input": "2021-03-21T11:45:16.618746Z",
     "iopub.status.busy": "2021-03-21T11:45:16.616974Z",
     "iopub.status.idle": "2021-03-21T11:45:16.619710Z",
     "shell.execute_reply": "2021-03-21T11:45:16.620352Z"
    }
   },
   "outputs": [],
   "source": [
    "zipped = dict(zip(counties, doses))"
   ]
  },
  {
   "cell_type": "code",
   "execution_count": 9,
   "metadata": {
    "execution": {
     "iopub.execute_input": "2021-03-21T11:45:16.632063Z",
     "iopub.status.busy": "2021-03-21T11:45:16.631362Z",
     "iopub.status.idle": "2021-03-21T11:45:16.633520Z",
     "shell.execute_reply": "2021-03-21T11:45:16.634127Z"
    }
   },
   "outputs": [],
   "source": [
    "df = pd.Series(zipped).reset_index()"
   ]
  },
  {
   "cell_type": "code",
   "execution_count": 10,
   "metadata": {
    "execution": {
     "iopub.execute_input": "2021-03-21T11:45:16.638940Z",
     "iopub.status.busy": "2021-03-21T11:45:16.637845Z",
     "iopub.status.idle": "2021-03-21T11:45:16.639739Z",
     "shell.execute_reply": "2021-03-21T11:45:16.640323Z"
    }
   },
   "outputs": [],
   "source": [
    "df.columns = ['location','doses']"
   ]
  },
  {
   "cell_type": "markdown",
   "metadata": {},
   "source": [
    "Grab the overall California total"
   ]
  },
  {
   "cell_type": "code",
   "execution_count": 11,
   "metadata": {
    "execution": {
     "iopub.execute_input": "2021-03-21T11:45:16.645461Z",
     "iopub.status.busy": "2021-03-21T11:45:16.643971Z",
     "iopub.status.idle": "2021-03-21T11:45:16.646179Z",
     "shell.execute_reply": "2021-03-21T11:45:16.646715Z"
    }
   },
   "outputs": [],
   "source": [
    "add = {'location':'California','doses':dataJson[0]['dataValues'][2]}"
   ]
  },
  {
   "cell_type": "code",
   "execution_count": 12,
   "metadata": {
    "execution": {
     "iopub.execute_input": "2021-03-21T11:45:16.658814Z",
     "iopub.status.busy": "2021-03-21T11:45:16.657363Z",
     "iopub.status.idle": "2021-03-21T11:45:16.659520Z",
     "shell.execute_reply": "2021-03-21T11:45:16.660043Z"
    }
   },
   "outputs": [],
   "source": [
    "df = df.append(add, ignore_index=True)"
   ]
  },
  {
   "cell_type": "code",
   "execution_count": 13,
   "metadata": {
    "execution": {
     "iopub.execute_input": "2021-03-21T11:45:16.666116Z",
     "iopub.status.busy": "2021-03-21T11:45:16.664572Z",
     "iopub.status.idle": "2021-03-21T11:45:16.666780Z",
     "shell.execute_reply": "2021-03-21T11:45:16.667464Z"
    }
   },
   "outputs": [],
   "source": [
    "df = df.sort_values(by='location')"
   ]
  },
  {
   "cell_type": "code",
   "execution_count": 14,
   "metadata": {
    "execution": {
     "iopub.execute_input": "2021-03-21T11:45:16.675019Z",
     "iopub.status.busy": "2021-03-21T11:45:16.673411Z",
     "iopub.status.idle": "2021-03-21T11:45:16.675695Z",
     "shell.execute_reply": "2021-03-21T11:45:16.676209Z"
    }
   },
   "outputs": [],
   "source": [
    "df = df[df.location == 'California'].append(df[df.location != 'California']).reset_index(drop=True)"
   ]
  },
  {
   "cell_type": "code",
   "execution_count": null,
   "metadata": {},
   "outputs": [],
   "source": []
  },
  {
   "cell_type": "code",
   "execution_count": 15,
   "metadata": {
    "execution": {
     "iopub.execute_input": "2021-03-21T11:45:16.680069Z",
     "iopub.status.busy": "2021-03-21T11:45:16.679480Z",
     "iopub.status.idle": "2021-03-21T11:45:16.702679Z",
     "shell.execute_reply": "2021-03-21T11:45:16.703260Z"
    }
   },
   "outputs": [],
   "source": [
    "tz = pytz.timezone(\"America/New_York\")"
   ]
  },
  {
   "cell_type": "code",
   "execution_count": 16,
   "metadata": {
    "execution": {
     "iopub.execute_input": "2021-03-21T11:45:16.709210Z",
     "iopub.status.busy": "2021-03-21T11:45:16.708270Z",
     "iopub.status.idle": "2021-03-21T11:45:16.711031Z",
     "shell.execute_reply": "2021-03-21T11:45:16.711595Z"
    }
   },
   "outputs": [],
   "source": [
    "today = datetime.now(tz).date()"
   ]
  },
  {
   "cell_type": "code",
   "execution_count": 17,
   "metadata": {
    "execution": {
     "iopub.execute_input": "2021-03-21T11:45:16.717023Z",
     "iopub.status.busy": "2021-03-21T11:45:16.715520Z",
     "iopub.status.idle": "2021-03-21T11:45:16.717713Z",
     "shell.execute_reply": "2021-03-21T11:45:16.718207Z"
    }
   },
   "outputs": [],
   "source": [
    "data_dir = os.path.join(os.path.abspath(\"\"), \"data\")"
   ]
  },
  {
   "cell_type": "code",
   "execution_count": 18,
   "metadata": {
    "execution": {
     "iopub.execute_input": "2021-03-21T11:45:16.723479Z",
     "iopub.status.busy": "2021-03-21T11:45:16.722887Z",
     "iopub.status.idle": "2021-03-21T11:45:16.830846Z",
     "shell.execute_reply": "2021-03-21T11:45:16.830245Z"
    }
   },
   "outputs": [],
   "source": [
    "df.to_csv(os.path.join(data_dir, f\"{today}.csv\"), index=False)"
   ]
  },
  {
   "cell_type": "code",
   "execution_count": null,
   "metadata": {},
   "outputs": [],
   "source": []
  }
 ],
 "metadata": {
  "kernelspec": {
   "display_name": "Python 3",
   "language": "python",
   "name": "python3"
  },
  "language_info": {
   "codemirror_mode": {
    "name": "ipython",
    "version": 3
   },
   "file_extension": ".py",
   "mimetype": "text/x-python",
   "name": "python",
   "nbconvert_exporter": "python",
   "pygments_lexer": "ipython3",
   "version": "3.8.8"
  }
 },
 "nbformat": 4,
 "nbformat_minor": 4
}
