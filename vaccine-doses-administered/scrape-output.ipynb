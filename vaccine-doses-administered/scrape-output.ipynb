{
 "cells": [
  {
   "cell_type": "markdown",
   "metadata": {},
   "source": [
    "# California COVID vaccinations scrape"
   ]
  },
  {
   "cell_type": "markdown",
   "metadata": {},
   "source": [
    "By [Amy O'Kruk](https://twitter.com/amyokruk)"
   ]
  },
  {
   "cell_type": "markdown",
   "metadata": {},
   "source": [
    "Downloads data on vaccine doses administered by county and statewide from a Tableau-powered dashboard from the California Department of Public Health."
   ]
  },
  {
   "cell_type": "code",
   "execution_count": 1,
   "metadata": {
    "execution": {
     "iopub.execute_input": "2021-03-16T21:41:26.722856Z",
     "iopub.status.busy": "2021-03-16T21:41:26.722201Z",
     "iopub.status.idle": "2021-03-16T21:41:27.111682Z",
     "shell.execute_reply": "2021-03-16T21:41:27.112135Z"
    }
   },
   "outputs": [],
   "source": [
    "import pandas as pd\n",
    "import requests\n",
    "from bs4 import BeautifulSoup\n",
    "import json\n",
    "import re\n",
    "import time\n",
    "from time import gmtime, strftime \n",
    "import os\n",
    "import pytz\n",
    "from datetime import datetime"
   ]
  },
  {
   "cell_type": "markdown",
   "metadata": {},
   "source": [
    "Scrape the dashboard page"
   ]
  },
  {
   "cell_type": "code",
   "execution_count": 2,
   "metadata": {
    "execution": {
     "iopub.execute_input": "2021-03-16T21:41:27.119310Z",
     "iopub.status.busy": "2021-03-16T21:41:27.118725Z",
     "iopub.status.idle": "2021-03-16T21:41:27.410607Z",
     "shell.execute_reply": "2021-03-16T21:41:27.410047Z"
    }
   },
   "outputs": [],
   "source": [
    "url = \"https://public.tableau.com/interactive/views/COVID-19VaccineDashboardPublic/Vaccine?:embed=y&:showVizHome=n&:apiID=host0\"\n",
    "\n",
    "r = requests.get(url)\n",
    "soup = BeautifulSoup(r.text, \"html.parser\")"
   ]
  },
  {
   "cell_type": "code",
   "execution_count": 3,
   "metadata": {
    "execution": {
     "iopub.execute_input": "2021-03-16T21:41:27.416577Z",
     "iopub.status.busy": "2021-03-16T21:41:27.415262Z",
     "iopub.status.idle": "2021-03-16T21:41:27.417198Z",
     "shell.execute_reply": "2021-03-16T21:41:27.417646Z"
    }
   },
   "outputs": [],
   "source": [
    "tableauData = json.loads(soup.find(\"textarea\",{\"id\": \"tsConfigContainer\"}).text)"
   ]
  },
  {
   "cell_type": "markdown",
   "metadata": {},
   "source": [
    "Get the link to the Tableau data"
   ]
  },
  {
   "cell_type": "code",
   "execution_count": 4,
   "metadata": {
    "execution": {
     "iopub.execute_input": "2021-03-16T21:41:27.422161Z",
     "iopub.status.busy": "2021-03-16T21:41:27.420987Z",
     "iopub.status.idle": "2021-03-16T21:41:27.422772Z",
     "shell.execute_reply": "2021-03-16T21:41:27.423210Z"
    }
   },
   "outputs": [],
   "source": [
    "dataUrl = f'https://public.tableau.com{tableauData[\"vizql_root\"]}/bootstrapSession/sessions/{tableauData[\"sessionid\"]}'"
   ]
  },
  {
   "cell_type": "code",
   "execution_count": 5,
   "metadata": {
    "execution": {
     "iopub.execute_input": "2021-03-16T21:41:27.430166Z",
     "iopub.status.busy": "2021-03-16T21:41:27.429592Z",
     "iopub.status.idle": "2021-03-16T21:41:29.403845Z",
     "shell.execute_reply": "2021-03-16T21:41:29.402857Z"
    }
   },
   "outputs": [],
   "source": [
    "r = requests.post(dataUrl, data= {\n",
    "    \"sheet_id\": tableauData[\"sheetId\"],\n",
    "})\n",
    "\n",
    "dataReg = re.search('\\d+;({.*})\\d+;({.*})', r.text, re.MULTILINE)\n",
    "data1 = json.loads(dataReg.group(2))\n",
    "\n",
    "dataJson = data1[\"secondaryInfo\"][\"presModelMap\"][\"dataDictionary\"][\"presModelHolder\"][\"genDataDictionaryPresModel\"][\"dataSegments\"][\"0\"][\"dataColumns\"]"
   ]
  },
  {
   "cell_type": "markdown",
   "metadata": {},
   "source": [
    "Isolate what you want"
   ]
  },
  {
   "cell_type": "code",
   "execution_count": 6,
   "metadata": {
    "execution": {
     "iopub.execute_input": "2021-03-16T21:41:29.408040Z",
     "iopub.status.busy": "2021-03-16T21:41:29.407491Z",
     "iopub.status.idle": "2021-03-16T21:41:29.410693Z",
     "shell.execute_reply": "2021-03-16T21:41:29.411110Z"
    }
   },
   "outputs": [],
   "source": [
    "counties = dataJson[2]['dataValues'][:58]"
   ]
  },
  {
   "cell_type": "code",
   "execution_count": 7,
   "metadata": {
    "execution": {
     "iopub.execute_input": "2021-03-16T21:41:29.414995Z",
     "iopub.status.busy": "2021-03-16T21:41:29.414463Z",
     "iopub.status.idle": "2021-03-16T21:41:29.417989Z",
     "shell.execute_reply": "2021-03-16T21:41:29.417533Z"
    }
   },
   "outputs": [],
   "source": [
    "doses = dataJson[0]['dataValues'][3:61]"
   ]
  },
  {
   "cell_type": "markdown",
   "metadata": {},
   "source": [
    "Data formatting"
   ]
  },
  {
   "cell_type": "code",
   "execution_count": 8,
   "metadata": {
    "execution": {
     "iopub.execute_input": "2021-03-16T21:41:29.422433Z",
     "iopub.status.busy": "2021-03-16T21:41:29.421289Z",
     "iopub.status.idle": "2021-03-16T21:41:29.423047Z",
     "shell.execute_reply": "2021-03-16T21:41:29.423487Z"
    }
   },
   "outputs": [],
   "source": [
    "zipped = dict(zip(counties, doses))"
   ]
  },
  {
   "cell_type": "code",
   "execution_count": 9,
   "metadata": {
    "execution": {
     "iopub.execute_input": "2021-03-16T21:41:29.430277Z",
     "iopub.status.busy": "2021-03-16T21:41:29.429055Z",
     "iopub.status.idle": "2021-03-16T21:41:29.430988Z",
     "shell.execute_reply": "2021-03-16T21:41:29.431427Z"
    }
   },
   "outputs": [],
   "source": [
    "df = pd.Series(zipped).reset_index()"
   ]
  },
  {
   "cell_type": "code",
   "execution_count": 10,
   "metadata": {
    "execution": {
     "iopub.execute_input": "2021-03-16T21:41:29.436189Z",
     "iopub.status.busy": "2021-03-16T21:41:29.435029Z",
     "iopub.status.idle": "2021-03-16T21:41:29.436800Z",
     "shell.execute_reply": "2021-03-16T21:41:29.437237Z"
    }
   },
   "outputs": [],
   "source": [
    "df.columns = ['location','doses']"
   ]
  },
  {
   "cell_type": "markdown",
   "metadata": {},
   "source": [
    "Grab the overall California total"
   ]
  },
  {
   "cell_type": "code",
   "execution_count": 11,
   "metadata": {
    "execution": {
     "iopub.execute_input": "2021-03-16T21:41:29.441744Z",
     "iopub.status.busy": "2021-03-16T21:41:29.440626Z",
     "iopub.status.idle": "2021-03-16T21:41:29.442379Z",
     "shell.execute_reply": "2021-03-16T21:41:29.442823Z"
    }
   },
   "outputs": [],
   "source": [
    "add = {'location':'California','doses':dataJson[0]['dataValues'][2]}"
   ]
  },
  {
   "cell_type": "code",
   "execution_count": 12,
   "metadata": {
    "execution": {
     "iopub.execute_input": "2021-03-16T21:41:29.450245Z",
     "iopub.status.busy": "2021-03-16T21:41:29.449035Z",
     "iopub.status.idle": "2021-03-16T21:41:29.450869Z",
     "shell.execute_reply": "2021-03-16T21:41:29.451309Z"
    }
   },
   "outputs": [],
   "source": [
    "df = df.append(add, ignore_index=True)"
   ]
  },
  {
   "cell_type": "code",
   "execution_count": 13,
   "metadata": {
    "execution": {
     "iopub.execute_input": "2021-03-16T21:41:29.456654Z",
     "iopub.status.busy": "2021-03-16T21:41:29.455481Z",
     "iopub.status.idle": "2021-03-16T21:41:29.457277Z",
     "shell.execute_reply": "2021-03-16T21:41:29.457716Z"
    }
   },
   "outputs": [],
   "source": [
    "df = df.sort_values(by='location')"
   ]
  },
  {
   "cell_type": "code",
   "execution_count": 14,
   "metadata": {
    "execution": {
     "iopub.execute_input": "2021-03-16T21:41:29.464799Z",
     "iopub.status.busy": "2021-03-16T21:41:29.463479Z",
     "iopub.status.idle": "2021-03-16T21:41:29.465421Z",
     "shell.execute_reply": "2021-03-16T21:41:29.465864Z"
    }
   },
   "outputs": [],
   "source": [
    "df = df[df.location == 'California'].append(df[df.location != 'California']).reset_index(drop=True)"
   ]
  },
  {
   "cell_type": "code",
   "execution_count": null,
   "metadata": {},
   "outputs": [],
   "source": []
  },
  {
   "cell_type": "code",
   "execution_count": 15,
   "metadata": {
    "execution": {
     "iopub.execute_input": "2021-03-16T21:41:29.469603Z",
     "iopub.status.busy": "2021-03-16T21:41:29.469078Z",
     "iopub.status.idle": "2021-03-16T21:41:29.487695Z",
     "shell.execute_reply": "2021-03-16T21:41:29.487173Z"
    }
   },
   "outputs": [],
   "source": [
    "tz = pytz.timezone(\"America/New_York\")"
   ]
  },
  {
   "cell_type": "code",
   "execution_count": 16,
   "metadata": {
    "execution": {
     "iopub.execute_input": "2021-03-16T21:41:29.492442Z",
     "iopub.status.busy": "2021-03-16T21:41:29.491138Z",
     "iopub.status.idle": "2021-03-16T21:41:29.493059Z",
     "shell.execute_reply": "2021-03-16T21:41:29.493505Z"
    }
   },
   "outputs": [],
   "source": [
    "today = datetime.now(tz).date()"
   ]
  },
  {
   "cell_type": "code",
   "execution_count": 17,
   "metadata": {
    "execution": {
     "iopub.execute_input": "2021-03-16T21:41:29.498459Z",
     "iopub.status.busy": "2021-03-16T21:41:29.497089Z",
     "iopub.status.idle": "2021-03-16T21:41:29.499088Z",
     "shell.execute_reply": "2021-03-16T21:41:29.499540Z"
    }
   },
   "outputs": [],
   "source": [
    "data_dir = os.path.join(os.path.abspath(\"\"), \"data\")"
   ]
  },
  {
   "cell_type": "code",
   "execution_count": 18,
   "metadata": {
    "execution": {
     "iopub.execute_input": "2021-03-16T21:41:29.504411Z",
     "iopub.status.busy": "2021-03-16T21:41:29.503135Z",
     "iopub.status.idle": "2021-03-16T21:41:29.508025Z",
     "shell.execute_reply": "2021-03-16T21:41:29.507530Z"
    }
   },
   "outputs": [],
   "source": [
    "df.to_csv(os.path.join(data_dir, f\"{today}.csv\"), index=False)"
   ]
  },
  {
   "cell_type": "code",
   "execution_count": null,
   "metadata": {},
   "outputs": [],
   "source": []
  }
 ],
 "metadata": {
  "kernelspec": {
   "display_name": "Python 3",
   "language": "python",
   "name": "python3"
  },
  "language_info": {
   "codemirror_mode": {
    "name": "ipython",
    "version": 3
   },
   "file_extension": ".py",
   "mimetype": "text/x-python",
   "name": "python",
   "nbconvert_exporter": "python",
   "pygments_lexer": "ipython3",
   "version": "3.8.8"
  }
 },
 "nbformat": 4,
 "nbformat_minor": 4
}
