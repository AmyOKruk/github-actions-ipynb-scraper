{
 "cells": [
  {
   "cell_type": "markdown",
   "metadata": {},
   "source": [
    "# California COVID vaccinations scrape"
   ]
  },
  {
   "cell_type": "markdown",
   "metadata": {},
   "source": [
    "By [Amy O'Kruk](https://twitter.com/amyokruk)"
   ]
  },
  {
   "cell_type": "markdown",
   "metadata": {},
   "source": [
    "Downloads data on vaccine doses administered by county and statewide from a Tableau-powered dashboard from the California Department of Public Health."
   ]
  },
  {
   "cell_type": "code",
   "execution_count": 1,
   "metadata": {
    "execution": {
     "iopub.execute_input": "2021-03-09T10:14:11.377039Z",
     "iopub.status.busy": "2021-03-09T10:14:11.376452Z",
     "iopub.status.idle": "2021-03-09T10:14:11.783367Z",
     "shell.execute_reply": "2021-03-09T10:14:11.782181Z"
    }
   },
   "outputs": [],
   "source": [
    "import pandas as pd\n",
    "import requests\n",
    "from bs4 import BeautifulSoup\n",
    "import json\n",
    "import re\n",
    "import time\n",
    "from time import gmtime, strftime \n",
    "import os\n",
    "import pytz\n",
    "from datetime import datetime"
   ]
  },
  {
   "cell_type": "markdown",
   "metadata": {},
   "source": [
    "Scrape the dashboard page"
   ]
  },
  {
   "cell_type": "code",
   "execution_count": 2,
   "metadata": {
    "execution": {
     "iopub.execute_input": "2021-03-09T10:14:11.788644Z",
     "iopub.status.busy": "2021-03-09T10:14:11.786972Z",
     "iopub.status.idle": "2021-03-09T10:14:12.059317Z",
     "shell.execute_reply": "2021-03-09T10:14:12.058611Z"
    }
   },
   "outputs": [],
   "source": [
    "url = \"https://public.tableau.com/interactive/views/COVID-19VaccineDashboardPublic/Vaccine?:embed=y&:showVizHome=n&:apiID=host0\"\n",
    "\n",
    "r = requests.get(url)\n",
    "soup = BeautifulSoup(r.text, \"html.parser\")"
   ]
  },
  {
   "cell_type": "code",
   "execution_count": 3,
   "metadata": {
    "execution": {
     "iopub.execute_input": "2021-03-09T10:14:12.066108Z",
     "iopub.status.busy": "2021-03-09T10:14:12.064651Z",
     "iopub.status.idle": "2021-03-09T10:14:12.067019Z",
     "shell.execute_reply": "2021-03-09T10:14:12.067418Z"
    }
   },
   "outputs": [],
   "source": [
    "tableauData = json.loads(soup.find(\"textarea\",{\"id\": \"tsConfigContainer\"}).text)"
   ]
  },
  {
   "cell_type": "markdown",
   "metadata": {},
   "source": [
    "Get the link to the Tableau data"
   ]
  },
  {
   "cell_type": "code",
   "execution_count": 4,
   "metadata": {
    "execution": {
     "iopub.execute_input": "2021-03-09T10:14:12.071228Z",
     "iopub.status.busy": "2021-03-09T10:14:12.070214Z",
     "iopub.status.idle": "2021-03-09T10:14:12.071765Z",
     "shell.execute_reply": "2021-03-09T10:14:12.072117Z"
    }
   },
   "outputs": [],
   "source": [
    "dataUrl = f'https://public.tableau.com{tableauData[\"vizql_root\"]}/bootstrapSession/sessions/{tableauData[\"sessionid\"]}'"
   ]
  },
  {
   "cell_type": "code",
   "execution_count": 5,
   "metadata": {
    "execution": {
     "iopub.execute_input": "2021-03-09T10:14:12.077458Z",
     "iopub.status.busy": "2021-03-09T10:14:12.076893Z",
     "iopub.status.idle": "2021-03-09T10:14:12.268325Z",
     "shell.execute_reply": "2021-03-09T10:14:12.267485Z"
    }
   },
   "outputs": [],
   "source": [
    "r = requests.post(dataUrl, data= {\n",
    "    \"sheet_id\": tableauData[\"sheetId\"],\n",
    "})\n",
    "\n",
    "dataReg = re.search('\\d+;({.*})\\d+;({.*})', r.text, re.MULTILINE)\n",
    "data1 = json.loads(dataReg.group(2))\n",
    "\n",
    "dataJson = data1[\"secondaryInfo\"][\"presModelMap\"][\"dataDictionary\"][\"presModelHolder\"][\"genDataDictionaryPresModel\"][\"dataSegments\"][\"0\"][\"dataColumns\"]"
   ]
  },
  {
   "cell_type": "markdown",
   "metadata": {},
   "source": [
    "Isolate what you want"
   ]
  },
  {
   "cell_type": "code",
   "execution_count": 6,
   "metadata": {
    "execution": {
     "iopub.execute_input": "2021-03-09T10:14:12.272068Z",
     "iopub.status.busy": "2021-03-09T10:14:12.271294Z",
     "iopub.status.idle": "2021-03-09T10:14:12.272809Z",
     "shell.execute_reply": "2021-03-09T10:14:12.273250Z"
    }
   },
   "outputs": [],
   "source": [
    "counties = dataJson[2]['dataValues'][:58]"
   ]
  },
  {
   "cell_type": "code",
   "execution_count": 7,
   "metadata": {
    "execution": {
     "iopub.execute_input": "2021-03-09T10:14:12.276663Z",
     "iopub.status.busy": "2021-03-09T10:14:12.276022Z",
     "iopub.status.idle": "2021-03-09T10:14:12.277543Z",
     "shell.execute_reply": "2021-03-09T10:14:12.277879Z"
    }
   },
   "outputs": [],
   "source": [
    "doses = dataJson[0]['dataValues'][3:61]"
   ]
  },
  {
   "cell_type": "markdown",
   "metadata": {},
   "source": [
    "Data formatting"
   ]
  },
  {
   "cell_type": "code",
   "execution_count": 8,
   "metadata": {
    "execution": {
     "iopub.execute_input": "2021-03-09T10:14:12.281432Z",
     "iopub.status.busy": "2021-03-09T10:14:12.280268Z",
     "iopub.status.idle": "2021-03-09T10:14:12.282016Z",
     "shell.execute_reply": "2021-03-09T10:14:12.282369Z"
    }
   },
   "outputs": [],
   "source": [
    "zipped = dict(zip(counties, doses))"
   ]
  },
  {
   "cell_type": "code",
   "execution_count": 9,
   "metadata": {
    "execution": {
     "iopub.execute_input": "2021-03-09T10:14:12.287622Z",
     "iopub.status.busy": "2021-03-09T10:14:12.286770Z",
     "iopub.status.idle": "2021-03-09T10:14:12.288640Z",
     "shell.execute_reply": "2021-03-09T10:14:12.288295Z"
    }
   },
   "outputs": [],
   "source": [
    "df = pd.Series(zipped).reset_index()"
   ]
  },
  {
   "cell_type": "code",
   "execution_count": 10,
   "metadata": {
    "execution": {
     "iopub.execute_input": "2021-03-09T10:14:12.291555Z",
     "iopub.status.busy": "2021-03-09T10:14:12.291189Z",
     "iopub.status.idle": "2021-03-09T10:14:12.292895Z",
     "shell.execute_reply": "2021-03-09T10:14:12.292556Z"
    }
   },
   "outputs": [],
   "source": [
    "df.columns = ['location','doses']"
   ]
  },
  {
   "cell_type": "markdown",
   "metadata": {},
   "source": [
    "Grab the overall California total"
   ]
  },
  {
   "cell_type": "code",
   "execution_count": 11,
   "metadata": {
    "execution": {
     "iopub.execute_input": "2021-03-09T10:14:12.295727Z",
     "iopub.status.busy": "2021-03-09T10:14:12.295258Z",
     "iopub.status.idle": "2021-03-09T10:14:12.297264Z",
     "shell.execute_reply": "2021-03-09T10:14:12.297648Z"
    }
   },
   "outputs": [],
   "source": [
    "add = {'location':'California','doses':dataJson[0]['dataValues'][2]}"
   ]
  },
  {
   "cell_type": "code",
   "execution_count": 12,
   "metadata": {
    "execution": {
     "iopub.execute_input": "2021-03-09T10:14:12.303437Z",
     "iopub.status.busy": "2021-03-09T10:14:12.302355Z",
     "iopub.status.idle": "2021-03-09T10:14:12.303992Z",
     "shell.execute_reply": "2021-03-09T10:14:12.304410Z"
    }
   },
   "outputs": [],
   "source": [
    "df = df.append(add, ignore_index=True)"
   ]
  },
  {
   "cell_type": "code",
   "execution_count": 13,
   "metadata": {
    "execution": {
     "iopub.execute_input": "2021-03-09T10:14:12.308375Z",
     "iopub.status.busy": "2021-03-09T10:14:12.307842Z",
     "iopub.status.idle": "2021-03-09T10:14:12.309286Z",
     "shell.execute_reply": "2021-03-09T10:14:12.309574Z"
    }
   },
   "outputs": [],
   "source": [
    "df = df.sort_values(by='location')"
   ]
  },
  {
   "cell_type": "code",
   "execution_count": 14,
   "metadata": {
    "execution": {
     "iopub.execute_input": "2021-03-09T10:14:12.314981Z",
     "iopub.status.busy": "2021-03-09T10:14:12.314258Z",
     "iopub.status.idle": "2021-03-09T10:14:12.316085Z",
     "shell.execute_reply": "2021-03-09T10:14:12.315700Z"
    }
   },
   "outputs": [],
   "source": [
    "df = df[df.location == 'California'].append(df[df.location != 'California']).reset_index(drop=True)"
   ]
  },
  {
   "cell_type": "code",
   "execution_count": null,
   "metadata": {},
   "outputs": [],
   "source": []
  },
  {
   "cell_type": "code",
   "execution_count": 15,
   "metadata": {
    "execution": {
     "iopub.execute_input": "2021-03-09T10:14:12.318587Z",
     "iopub.status.busy": "2021-03-09T10:14:12.318130Z",
     "iopub.status.idle": "2021-03-09T10:14:12.335327Z",
     "shell.execute_reply": "2021-03-09T10:14:12.334835Z"
    }
   },
   "outputs": [],
   "source": [
    "tz = pytz.timezone(\"America/New_York\")"
   ]
  },
  {
   "cell_type": "code",
   "execution_count": 16,
   "metadata": {
    "execution": {
     "iopub.execute_input": "2021-03-09T10:14:12.339339Z",
     "iopub.status.busy": "2021-03-09T10:14:12.338136Z",
     "iopub.status.idle": "2021-03-09T10:14:12.339946Z",
     "shell.execute_reply": "2021-03-09T10:14:12.340366Z"
    }
   },
   "outputs": [],
   "source": [
    "today = datetime.now(tz).date()"
   ]
  },
  {
   "cell_type": "code",
   "execution_count": 17,
   "metadata": {
    "execution": {
     "iopub.execute_input": "2021-03-09T10:14:12.344092Z",
     "iopub.status.busy": "2021-03-09T10:14:12.342894Z",
     "iopub.status.idle": "2021-03-09T10:14:12.344632Z",
     "shell.execute_reply": "2021-03-09T10:14:12.344953Z"
    }
   },
   "outputs": [],
   "source": [
    "data_dir = os.path.join(os.path.abspath(\"\"), \"data\")"
   ]
  },
  {
   "cell_type": "code",
   "execution_count": 18,
   "metadata": {
    "execution": {
     "iopub.execute_input": "2021-03-09T10:14:12.348263Z",
     "iopub.status.busy": "2021-03-09T10:14:12.347240Z",
     "iopub.status.idle": "2021-03-09T10:14:12.351866Z",
     "shell.execute_reply": "2021-03-09T10:14:12.351444Z"
    }
   },
   "outputs": [],
   "source": [
    "df.to_csv(os.path.join(data_dir, f\"{today}.csv\"), index=False)"
   ]
  },
  {
   "cell_type": "code",
   "execution_count": null,
   "metadata": {},
   "outputs": [],
   "source": []
  }
 ],
 "metadata": {
  "kernelspec": {
   "display_name": "Python 3",
   "language": "python",
   "name": "python3"
  },
  "language_info": {
   "codemirror_mode": {
    "name": "ipython",
    "version": 3
   },
   "file_extension": ".py",
   "mimetype": "text/x-python",
   "name": "python",
   "nbconvert_exporter": "python",
   "pygments_lexer": "ipython3",
   "version": "3.8.8"
  }
 },
 "nbformat": 4,
 "nbformat_minor": 4
}
