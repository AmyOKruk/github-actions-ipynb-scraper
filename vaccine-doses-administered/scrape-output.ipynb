{
 "cells": [
  {
   "cell_type": "markdown",
   "metadata": {},
   "source": [
    "# California COVID vaccinations scrape"
   ]
  },
  {
   "cell_type": "markdown",
   "metadata": {},
   "source": [
    "By [Amy O'Kruk](https://twitter.com/amyokruk)"
   ]
  },
  {
   "cell_type": "markdown",
   "metadata": {},
   "source": [
    "Downloads data on vaccine doses administered by county and statewide from a Tableau-powered dashboard from the California Department of Public Health."
   ]
  },
  {
   "cell_type": "code",
   "execution_count": 1,
   "metadata": {
    "execution": {
     "iopub.execute_input": "2021-03-16T03:43:06.114852Z",
     "iopub.status.busy": "2021-03-16T03:43:06.114245Z",
     "iopub.status.idle": "2021-03-16T03:43:06.556274Z",
     "shell.execute_reply": "2021-03-16T03:43:06.555732Z"
    }
   },
   "outputs": [],
   "source": [
    "import pandas as pd\n",
    "import requests\n",
    "from bs4 import BeautifulSoup\n",
    "import json\n",
    "import re\n",
    "import time\n",
    "from time import gmtime, strftime \n",
    "import os\n",
    "import pytz\n",
    "from datetime import datetime"
   ]
  },
  {
   "cell_type": "markdown",
   "metadata": {},
   "source": [
    "Scrape the dashboard page"
   ]
  },
  {
   "cell_type": "code",
   "execution_count": 2,
   "metadata": {
    "execution": {
     "iopub.execute_input": "2021-03-16T03:43:06.559495Z",
     "iopub.status.busy": "2021-03-16T03:43:06.559038Z",
     "iopub.status.idle": "2021-03-16T03:43:07.260417Z",
     "shell.execute_reply": "2021-03-16T03:43:07.259564Z"
    }
   },
   "outputs": [],
   "source": [
    "url = \"https://public.tableau.com/interactive/views/COVID-19VaccineDashboardPublic/Vaccine?:embed=y&:showVizHome=n&:apiID=host0\"\n",
    "\n",
    "r = requests.get(url)\n",
    "soup = BeautifulSoup(r.text, \"html.parser\")"
   ]
  },
  {
   "cell_type": "code",
   "execution_count": 3,
   "metadata": {
    "execution": {
     "iopub.execute_input": "2021-03-16T03:43:07.264825Z",
     "iopub.status.busy": "2021-03-16T03:43:07.264356Z",
     "iopub.status.idle": "2021-03-16T03:43:07.267889Z",
     "shell.execute_reply": "2021-03-16T03:43:07.267346Z"
    }
   },
   "outputs": [],
   "source": [
    "tableauData = json.loads(soup.find(\"textarea\",{\"id\": \"tsConfigContainer\"}).text)"
   ]
  },
  {
   "cell_type": "markdown",
   "metadata": {},
   "source": [
    "Get the link to the Tableau data"
   ]
  },
  {
   "cell_type": "code",
   "execution_count": 4,
   "metadata": {
    "execution": {
     "iopub.execute_input": "2021-03-16T03:43:07.270858Z",
     "iopub.status.busy": "2021-03-16T03:43:07.270399Z",
     "iopub.status.idle": "2021-03-16T03:43:07.273894Z",
     "shell.execute_reply": "2021-03-16T03:43:07.273365Z"
    }
   },
   "outputs": [],
   "source": [
    "dataUrl = f'https://public.tableau.com{tableauData[\"vizql_root\"]}/bootstrapSession/sessions/{tableauData[\"sessionid\"]}'"
   ]
  },
  {
   "cell_type": "code",
   "execution_count": 5,
   "metadata": {
    "execution": {
     "iopub.execute_input": "2021-03-16T03:43:07.279623Z",
     "iopub.status.busy": "2021-03-16T03:43:07.279007Z",
     "iopub.status.idle": "2021-03-16T03:43:07.868143Z",
     "shell.execute_reply": "2021-03-16T03:43:07.868558Z"
    }
   },
   "outputs": [],
   "source": [
    "r = requests.post(dataUrl, data= {\n",
    "    \"sheet_id\": tableauData[\"sheetId\"],\n",
    "})\n",
    "\n",
    "dataReg = re.search('\\d+;({.*})\\d+;({.*})', r.text, re.MULTILINE)\n",
    "data1 = json.loads(dataReg.group(2))\n",
    "\n",
    "dataJson = data1[\"secondaryInfo\"][\"presModelMap\"][\"dataDictionary\"][\"presModelHolder\"][\"genDataDictionaryPresModel\"][\"dataSegments\"][\"0\"][\"dataColumns\"]"
   ]
  },
  {
   "cell_type": "markdown",
   "metadata": {},
   "source": [
    "Isolate what you want"
   ]
  },
  {
   "cell_type": "code",
   "execution_count": 6,
   "metadata": {
    "execution": {
     "iopub.execute_input": "2021-03-16T03:43:07.872126Z",
     "iopub.status.busy": "2021-03-16T03:43:07.871611Z",
     "iopub.status.idle": "2021-03-16T03:43:07.879469Z",
     "shell.execute_reply": "2021-03-16T03:43:07.879908Z"
    }
   },
   "outputs": [],
   "source": [
    "counties = dataJson[2]['dataValues'][:58]"
   ]
  },
  {
   "cell_type": "code",
   "execution_count": 7,
   "metadata": {
    "execution": {
     "iopub.execute_input": "2021-03-16T03:43:07.883038Z",
     "iopub.status.busy": "2021-03-16T03:43:07.882473Z",
     "iopub.status.idle": "2021-03-16T03:43:07.886258Z",
     "shell.execute_reply": "2021-03-16T03:43:07.885844Z"
    }
   },
   "outputs": [],
   "source": [
    "doses = dataJson[0]['dataValues'][3:61]"
   ]
  },
  {
   "cell_type": "markdown",
   "metadata": {},
   "source": [
    "Data formatting"
   ]
  },
  {
   "cell_type": "code",
   "execution_count": 8,
   "metadata": {
    "execution": {
     "iopub.execute_input": "2021-03-16T03:43:07.889219Z",
     "iopub.status.busy": "2021-03-16T03:43:07.888745Z",
     "iopub.status.idle": "2021-03-16T03:43:07.892417Z",
     "shell.execute_reply": "2021-03-16T03:43:07.891811Z"
    }
   },
   "outputs": [],
   "source": [
    "zipped = dict(zip(counties, doses))"
   ]
  },
  {
   "cell_type": "code",
   "execution_count": 9,
   "metadata": {
    "execution": {
     "iopub.execute_input": "2021-03-16T03:43:07.897535Z",
     "iopub.status.busy": "2021-03-16T03:43:07.897053Z",
     "iopub.status.idle": "2021-03-16T03:43:07.900456Z",
     "shell.execute_reply": "2021-03-16T03:43:07.899975Z"
    }
   },
   "outputs": [],
   "source": [
    "df = pd.Series(zipped).reset_index()"
   ]
  },
  {
   "cell_type": "code",
   "execution_count": 10,
   "metadata": {
    "execution": {
     "iopub.execute_input": "2021-03-16T03:43:07.903720Z",
     "iopub.status.busy": "2021-03-16T03:43:07.903253Z",
     "iopub.status.idle": "2021-03-16T03:43:07.906736Z",
     "shell.execute_reply": "2021-03-16T03:43:07.906253Z"
    }
   },
   "outputs": [],
   "source": [
    "df.columns = ['location','doses']"
   ]
  },
  {
   "cell_type": "markdown",
   "metadata": {},
   "source": [
    "Grab the overall California total"
   ]
  },
  {
   "cell_type": "code",
   "execution_count": 11,
   "metadata": {
    "execution": {
     "iopub.execute_input": "2021-03-16T03:43:07.911147Z",
     "iopub.status.busy": "2021-03-16T03:43:07.910685Z",
     "iopub.status.idle": "2021-03-16T03:43:07.914139Z",
     "shell.execute_reply": "2021-03-16T03:43:07.913749Z"
    }
   },
   "outputs": [],
   "source": [
    "add = {'location':'California','doses':dataJson[0]['dataValues'][2]}"
   ]
  },
  {
   "cell_type": "code",
   "execution_count": 12,
   "metadata": {
    "execution": {
     "iopub.execute_input": "2021-03-16T03:43:07.919794Z",
     "iopub.status.busy": "2021-03-16T03:43:07.919332Z",
     "iopub.status.idle": "2021-03-16T03:43:07.922682Z",
     "shell.execute_reply": "2021-03-16T03:43:07.922272Z"
    }
   },
   "outputs": [],
   "source": [
    "df = df.append(add, ignore_index=True)"
   ]
  },
  {
   "cell_type": "code",
   "execution_count": 13,
   "metadata": {
    "execution": {
     "iopub.execute_input": "2021-03-16T03:43:07.928178Z",
     "iopub.status.busy": "2021-03-16T03:43:07.927468Z",
     "iopub.status.idle": "2021-03-16T03:43:07.931041Z",
     "shell.execute_reply": "2021-03-16T03:43:07.930566Z"
    }
   },
   "outputs": [],
   "source": [
    "df = df.sort_values(by='location')"
   ]
  },
  {
   "cell_type": "code",
   "execution_count": 14,
   "metadata": {
    "execution": {
     "iopub.execute_input": "2021-03-16T03:43:07.936376Z",
     "iopub.status.busy": "2021-03-16T03:43:07.935844Z",
     "iopub.status.idle": "2021-03-16T03:43:07.938788Z",
     "shell.execute_reply": "2021-03-16T03:43:07.939386Z"
    }
   },
   "outputs": [],
   "source": [
    "df = df[df.location == 'California'].append(df[df.location != 'California']).reset_index(drop=True)"
   ]
  },
  {
   "cell_type": "code",
   "execution_count": null,
   "metadata": {},
   "outputs": [],
   "source": []
  },
  {
   "cell_type": "code",
   "execution_count": 15,
   "metadata": {
    "execution": {
     "iopub.execute_input": "2021-03-16T03:43:07.943385Z",
     "iopub.status.busy": "2021-03-16T03:43:07.942874Z",
     "iopub.status.idle": "2021-03-16T03:43:07.961951Z",
     "shell.execute_reply": "2021-03-16T03:43:07.962392Z"
    }
   },
   "outputs": [],
   "source": [
    "tz = pytz.timezone(\"America/New_York\")"
   ]
  },
  {
   "cell_type": "code",
   "execution_count": 16,
   "metadata": {
    "execution": {
     "iopub.execute_input": "2021-03-16T03:43:07.965812Z",
     "iopub.status.busy": "2021-03-16T03:43:07.965274Z",
     "iopub.status.idle": "2021-03-16T03:43:07.968929Z",
     "shell.execute_reply": "2021-03-16T03:43:07.968242Z"
    }
   },
   "outputs": [],
   "source": [
    "today = datetime.now(tz).date()"
   ]
  },
  {
   "cell_type": "code",
   "execution_count": 17,
   "metadata": {
    "execution": {
     "iopub.execute_input": "2021-03-16T03:43:07.972911Z",
     "iopub.status.busy": "2021-03-16T03:43:07.972338Z",
     "iopub.status.idle": "2021-03-16T03:43:07.975775Z",
     "shell.execute_reply": "2021-03-16T03:43:07.975363Z"
    }
   },
   "outputs": [],
   "source": [
    "data_dir = os.path.join(os.path.abspath(\"\"), \"data\")"
   ]
  },
  {
   "cell_type": "code",
   "execution_count": 18,
   "metadata": {
    "execution": {
     "iopub.execute_input": "2021-03-16T03:43:07.981307Z",
     "iopub.status.busy": "2021-03-16T03:43:07.978922Z",
     "iopub.status.idle": "2021-03-16T03:43:07.984490Z",
     "shell.execute_reply": "2021-03-16T03:43:07.984010Z"
    }
   },
   "outputs": [],
   "source": [
    "df.to_csv(os.path.join(data_dir, f\"{today}.csv\"), index=False)"
   ]
  },
  {
   "cell_type": "code",
   "execution_count": null,
   "metadata": {},
   "outputs": [],
   "source": []
  }
 ],
 "metadata": {
  "kernelspec": {
   "display_name": "Python 3",
   "language": "python",
   "name": "python3"
  },
  "language_info": {
   "codemirror_mode": {
    "name": "ipython",
    "version": 3
   },
   "file_extension": ".py",
   "mimetype": "text/x-python",
   "name": "python",
   "nbconvert_exporter": "python",
   "pygments_lexer": "ipython3",
   "version": "3.8.8"
  }
 },
 "nbformat": 4,
 "nbformat_minor": 4
}
