{
 "cells": [
  {
   "cell_type": "markdown",
   "metadata": {},
   "source": [
    "# California COVID vaccinations scrape"
   ]
  },
  {
   "cell_type": "markdown",
   "metadata": {},
   "source": [
    "By [Amy O'Kruk](https://twitter.com/amyokruk)"
   ]
  },
  {
   "cell_type": "markdown",
   "metadata": {},
   "source": [
    "Downloads data on vaccine doses administered by county and statewide from a Tableau-powered dashboard from the California Department of Public Health."
   ]
  },
  {
   "cell_type": "code",
   "execution_count": 1,
   "metadata": {
    "execution": {
     "iopub.execute_input": "2021-03-15T06:14:08.830742Z",
     "iopub.status.busy": "2021-03-15T06:14:08.830136Z",
     "iopub.status.idle": "2021-03-15T06:14:09.296883Z",
     "shell.execute_reply": "2021-03-15T06:14:09.296293Z"
    }
   },
   "outputs": [],
   "source": [
    "import pandas as pd\n",
    "import requests\n",
    "from bs4 import BeautifulSoup\n",
    "import json\n",
    "import re\n",
    "import time\n",
    "from time import gmtime, strftime \n",
    "import os\n",
    "import pytz\n",
    "from datetime import datetime"
   ]
  },
  {
   "cell_type": "markdown",
   "metadata": {},
   "source": [
    "Scrape the dashboard page"
   ]
  },
  {
   "cell_type": "code",
   "execution_count": 2,
   "metadata": {
    "execution": {
     "iopub.execute_input": "2021-03-15T06:14:09.303437Z",
     "iopub.status.busy": "2021-03-15T06:14:09.302908Z",
     "iopub.status.idle": "2021-03-15T06:14:09.956835Z",
     "shell.execute_reply": "2021-03-15T06:14:09.956355Z"
    }
   },
   "outputs": [],
   "source": [
    "url = \"https://public.tableau.com/interactive/views/COVID-19VaccineDashboardPublic/Vaccine?:embed=y&:showVizHome=n&:apiID=host0\"\n",
    "\n",
    "r = requests.get(url)\n",
    "soup = BeautifulSoup(r.text, \"html.parser\")"
   ]
  },
  {
   "cell_type": "code",
   "execution_count": 3,
   "metadata": {
    "execution": {
     "iopub.execute_input": "2021-03-15T06:14:09.961615Z",
     "iopub.status.busy": "2021-03-15T06:14:09.961113Z",
     "iopub.status.idle": "2021-03-15T06:14:09.964931Z",
     "shell.execute_reply": "2021-03-15T06:14:09.964115Z"
    }
   },
   "outputs": [],
   "source": [
    "tableauData = json.loads(soup.find(\"textarea\",{\"id\": \"tsConfigContainer\"}).text)"
   ]
  },
  {
   "cell_type": "markdown",
   "metadata": {},
   "source": [
    "Get the link to the Tableau data"
   ]
  },
  {
   "cell_type": "code",
   "execution_count": 4,
   "metadata": {
    "execution": {
     "iopub.execute_input": "2021-03-15T06:14:09.970533Z",
     "iopub.status.busy": "2021-03-15T06:14:09.969183Z",
     "iopub.status.idle": "2021-03-15T06:14:09.972084Z",
     "shell.execute_reply": "2021-03-15T06:14:09.971347Z"
    }
   },
   "outputs": [],
   "source": [
    "dataUrl = f'https://public.tableau.com{tableauData[\"vizql_root\"]}/bootstrapSession/sessions/{tableauData[\"sessionid\"]}'"
   ]
  },
  {
   "cell_type": "code",
   "execution_count": 5,
   "metadata": {
    "execution": {
     "iopub.execute_input": "2021-03-15T06:14:09.978834Z",
     "iopub.status.busy": "2021-03-15T06:14:09.978306Z",
     "iopub.status.idle": "2021-03-15T06:14:10.355753Z",
     "shell.execute_reply": "2021-03-15T06:14:10.355067Z"
    }
   },
   "outputs": [],
   "source": [
    "r = requests.post(dataUrl, data= {\n",
    "    \"sheet_id\": tableauData[\"sheetId\"],\n",
    "})\n",
    "\n",
    "dataReg = re.search('\\d+;({.*})\\d+;({.*})', r.text, re.MULTILINE)\n",
    "data1 = json.loads(dataReg.group(2))\n",
    "\n",
    "dataJson = data1[\"secondaryInfo\"][\"presModelMap\"][\"dataDictionary\"][\"presModelHolder\"][\"genDataDictionaryPresModel\"][\"dataSegments\"][\"0\"][\"dataColumns\"]"
   ]
  },
  {
   "cell_type": "markdown",
   "metadata": {},
   "source": [
    "Isolate what you want"
   ]
  },
  {
   "cell_type": "code",
   "execution_count": 6,
   "metadata": {
    "execution": {
     "iopub.execute_input": "2021-03-15T06:14:10.361320Z",
     "iopub.status.busy": "2021-03-15T06:14:10.360006Z",
     "iopub.status.idle": "2021-03-15T06:14:10.361953Z",
     "shell.execute_reply": "2021-03-15T06:14:10.362361Z"
    }
   },
   "outputs": [],
   "source": [
    "counties = dataJson[2]['dataValues'][:58]"
   ]
  },
  {
   "cell_type": "code",
   "execution_count": 7,
   "metadata": {
    "execution": {
     "iopub.execute_input": "2021-03-15T06:14:10.367975Z",
     "iopub.status.busy": "2021-03-15T06:14:10.366758Z",
     "iopub.status.idle": "2021-03-15T06:14:10.368580Z",
     "shell.execute_reply": "2021-03-15T06:14:10.369009Z"
    }
   },
   "outputs": [],
   "source": [
    "doses = dataJson[0]['dataValues'][3:61]"
   ]
  },
  {
   "cell_type": "markdown",
   "metadata": {},
   "source": [
    "Data formatting"
   ]
  },
  {
   "cell_type": "code",
   "execution_count": 8,
   "metadata": {
    "execution": {
     "iopub.execute_input": "2021-03-15T06:14:10.373198Z",
     "iopub.status.busy": "2021-03-15T06:14:10.372095Z",
     "iopub.status.idle": "2021-03-15T06:14:10.373858Z",
     "shell.execute_reply": "2021-03-15T06:14:10.374269Z"
    }
   },
   "outputs": [],
   "source": [
    "zipped = dict(zip(counties, doses))"
   ]
  },
  {
   "cell_type": "code",
   "execution_count": 9,
   "metadata": {
    "execution": {
     "iopub.execute_input": "2021-03-15T06:14:10.380934Z",
     "iopub.status.busy": "2021-03-15T06:14:10.379680Z",
     "iopub.status.idle": "2021-03-15T06:14:10.381549Z",
     "shell.execute_reply": "2021-03-15T06:14:10.382008Z"
    }
   },
   "outputs": [],
   "source": [
    "df = pd.Series(zipped).reset_index()"
   ]
  },
  {
   "cell_type": "code",
   "execution_count": 10,
   "metadata": {
    "execution": {
     "iopub.execute_input": "2021-03-15T06:14:10.386418Z",
     "iopub.status.busy": "2021-03-15T06:14:10.385275Z",
     "iopub.status.idle": "2021-03-15T06:14:10.387014Z",
     "shell.execute_reply": "2021-03-15T06:14:10.387444Z"
    }
   },
   "outputs": [],
   "source": [
    "df.columns = ['location','doses']"
   ]
  },
  {
   "cell_type": "markdown",
   "metadata": {},
   "source": [
    "Grab the overall California total"
   ]
  },
  {
   "cell_type": "code",
   "execution_count": 11,
   "metadata": {
    "execution": {
     "iopub.execute_input": "2021-03-15T06:14:10.391780Z",
     "iopub.status.busy": "2021-03-15T06:14:10.390664Z",
     "iopub.status.idle": "2021-03-15T06:14:10.392339Z",
     "shell.execute_reply": "2021-03-15T06:14:10.392737Z"
    }
   },
   "outputs": [],
   "source": [
    "add = {'location':'California','doses':dataJson[0]['dataValues'][2]}"
   ]
  },
  {
   "cell_type": "code",
   "execution_count": 12,
   "metadata": {
    "execution": {
     "iopub.execute_input": "2021-03-15T06:14:10.399927Z",
     "iopub.status.busy": "2021-03-15T06:14:10.398680Z",
     "iopub.status.idle": "2021-03-15T06:14:10.400528Z",
     "shell.execute_reply": "2021-03-15T06:14:10.400966Z"
    }
   },
   "outputs": [],
   "source": [
    "df = df.append(add, ignore_index=True)"
   ]
  },
  {
   "cell_type": "code",
   "execution_count": 13,
   "metadata": {
    "execution": {
     "iopub.execute_input": "2021-03-15T06:14:10.405824Z",
     "iopub.status.busy": "2021-03-15T06:14:10.405275Z",
     "iopub.status.idle": "2021-03-15T06:14:10.407984Z",
     "shell.execute_reply": "2021-03-15T06:14:10.407540Z"
    }
   },
   "outputs": [],
   "source": [
    "df = df.sort_values(by='location')"
   ]
  },
  {
   "cell_type": "code",
   "execution_count": 14,
   "metadata": {
    "execution": {
     "iopub.execute_input": "2021-03-15T06:14:10.414541Z",
     "iopub.status.busy": "2021-03-15T06:14:10.413380Z",
     "iopub.status.idle": "2021-03-15T06:14:10.415140Z",
     "shell.execute_reply": "2021-03-15T06:14:10.415568Z"
    }
   },
   "outputs": [],
   "source": [
    "df = df[df.location == 'California'].append(df[df.location != 'California']).reset_index(drop=True)"
   ]
  },
  {
   "cell_type": "code",
   "execution_count": null,
   "metadata": {},
   "outputs": [],
   "source": []
  },
  {
   "cell_type": "code",
   "execution_count": 15,
   "metadata": {
    "execution": {
     "iopub.execute_input": "2021-03-15T06:14:10.418868Z",
     "iopub.status.busy": "2021-03-15T06:14:10.418351Z",
     "iopub.status.idle": "2021-03-15T06:14:10.435484Z",
     "shell.execute_reply": "2021-03-15T06:14:10.434962Z"
    }
   },
   "outputs": [],
   "source": [
    "tz = pytz.timezone(\"America/New_York\")"
   ]
  },
  {
   "cell_type": "code",
   "execution_count": 16,
   "metadata": {
    "execution": {
     "iopub.execute_input": "2021-03-15T06:14:10.439903Z",
     "iopub.status.busy": "2021-03-15T06:14:10.438638Z",
     "iopub.status.idle": "2021-03-15T06:14:10.440562Z",
     "shell.execute_reply": "2021-03-15T06:14:10.441031Z"
    }
   },
   "outputs": [],
   "source": [
    "today = datetime.now(tz).date()"
   ]
  },
  {
   "cell_type": "code",
   "execution_count": 17,
   "metadata": {
    "execution": {
     "iopub.execute_input": "2021-03-15T06:14:10.447560Z",
     "iopub.status.busy": "2021-03-15T06:14:10.446396Z",
     "iopub.status.idle": "2021-03-15T06:14:10.448259Z",
     "shell.execute_reply": "2021-03-15T06:14:10.448691Z"
    }
   },
   "outputs": [],
   "source": [
    "data_dir = os.path.join(os.path.abspath(\"\"), \"data\")"
   ]
  },
  {
   "cell_type": "code",
   "execution_count": 18,
   "metadata": {
    "execution": {
     "iopub.execute_input": "2021-03-15T06:14:10.453801Z",
     "iopub.status.busy": "2021-03-15T06:14:10.451807Z",
     "iopub.status.idle": "2021-03-15T06:14:10.550501Z",
     "shell.execute_reply": "2021-03-15T06:14:10.551249Z"
    }
   },
   "outputs": [],
   "source": [
    "df.to_csv(os.path.join(data_dir, f\"{today}.csv\"), index=False)"
   ]
  },
  {
   "cell_type": "code",
   "execution_count": null,
   "metadata": {},
   "outputs": [],
   "source": []
  }
 ],
 "metadata": {
  "kernelspec": {
   "display_name": "Python 3",
   "language": "python",
   "name": "python3"
  },
  "language_info": {
   "codemirror_mode": {
    "name": "ipython",
    "version": 3
   },
   "file_extension": ".py",
   "mimetype": "text/x-python",
   "name": "python",
   "nbconvert_exporter": "python",
   "pygments_lexer": "ipython3",
   "version": "3.8.8"
  }
 },
 "nbformat": 4,
 "nbformat_minor": 4
}
