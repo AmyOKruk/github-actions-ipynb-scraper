{
 "cells": [
  {
   "cell_type": "markdown",
   "metadata": {},
   "source": [
    "# California COVID vaccinations scrape"
   ]
  },
  {
   "cell_type": "markdown",
   "metadata": {},
   "source": [
    "By [Amy O'Kruk](https://twitter.com/amyokruk)"
   ]
  },
  {
   "cell_type": "markdown",
   "metadata": {},
   "source": [
    "Downloads data on vaccine doses administered by county and statewide from a Tableau-powered dashboard from the California Department of Public Health."
   ]
  },
  {
   "cell_type": "code",
   "execution_count": 1,
   "metadata": {
    "execution": {
     "iopub.execute_input": "2021-03-22T22:47:22.907365Z",
     "iopub.status.busy": "2021-03-22T22:47:22.906754Z",
     "iopub.status.idle": "2021-03-22T22:47:23.298049Z",
     "shell.execute_reply": "2021-03-22T22:47:23.297484Z"
    }
   },
   "outputs": [],
   "source": [
    "import pandas as pd\n",
    "import requests\n",
    "from bs4 import BeautifulSoup\n",
    "import json\n",
    "import re\n",
    "import time\n",
    "from time import gmtime, strftime \n",
    "import os\n",
    "import pytz\n",
    "from datetime import datetime"
   ]
  },
  {
   "cell_type": "markdown",
   "metadata": {},
   "source": [
    "Scrape the dashboard page"
   ]
  },
  {
   "cell_type": "code",
   "execution_count": 2,
   "metadata": {
    "execution": {
     "iopub.execute_input": "2021-03-22T22:47:23.303889Z",
     "iopub.status.busy": "2021-03-22T22:47:23.301561Z",
     "iopub.status.idle": "2021-03-22T22:47:31.182635Z",
     "shell.execute_reply": "2021-03-22T22:47:31.182106Z"
    }
   },
   "outputs": [],
   "source": [
    "url = \"https://public.tableau.com/interactive/views/COVID-19VaccineDashboardPublic/Vaccine?:embed=y&:showVizHome=n&:apiID=host0\"\n",
    "\n",
    "r = requests.get(url)\n",
    "soup = BeautifulSoup(r.text, \"html.parser\")"
   ]
  },
  {
   "cell_type": "code",
   "execution_count": 3,
   "metadata": {
    "execution": {
     "iopub.execute_input": "2021-03-22T22:47:31.187980Z",
     "iopub.status.busy": "2021-03-22T22:47:31.187342Z",
     "iopub.status.idle": "2021-03-22T22:47:31.190575Z",
     "shell.execute_reply": "2021-03-22T22:47:31.191045Z"
    }
   },
   "outputs": [],
   "source": [
    "tableauData = json.loads(soup.find(\"textarea\",{\"id\": \"tsConfigContainer\"}).text)"
   ]
  },
  {
   "cell_type": "markdown",
   "metadata": {},
   "source": [
    "Get the link to the Tableau data"
   ]
  },
  {
   "cell_type": "code",
   "execution_count": 4,
   "metadata": {
    "execution": {
     "iopub.execute_input": "2021-03-22T22:47:31.194489Z",
     "iopub.status.busy": "2021-03-22T22:47:31.193982Z",
     "iopub.status.idle": "2021-03-22T22:47:31.197834Z",
     "shell.execute_reply": "2021-03-22T22:47:31.198265Z"
    }
   },
   "outputs": [],
   "source": [
    "dataUrl = f'https://public.tableau.com{tableauData[\"vizql_root\"]}/bootstrapSession/sessions/{tableauData[\"sessionid\"]}'"
   ]
  },
  {
   "cell_type": "code",
   "execution_count": 5,
   "metadata": {
    "execution": {
     "iopub.execute_input": "2021-03-22T22:47:31.204458Z",
     "iopub.status.busy": "2021-03-22T22:47:31.203868Z",
     "iopub.status.idle": "2021-03-22T22:47:31.689818Z",
     "shell.execute_reply": "2021-03-22T22:47:31.689210Z"
    }
   },
   "outputs": [],
   "source": [
    "r = requests.post(dataUrl, data= {\n",
    "    \"sheet_id\": tableauData[\"sheetId\"],\n",
    "})\n",
    "\n",
    "dataReg = re.search('\\d+;({.*})\\d+;({.*})', r.text, re.MULTILINE)\n",
    "data1 = json.loads(dataReg.group(2))\n",
    "\n",
    "dataJson = data1[\"secondaryInfo\"][\"presModelMap\"][\"dataDictionary\"][\"presModelHolder\"][\"genDataDictionaryPresModel\"][\"dataSegments\"][\"0\"][\"dataColumns\"]"
   ]
  },
  {
   "cell_type": "markdown",
   "metadata": {},
   "source": [
    "Isolate what you want"
   ]
  },
  {
   "cell_type": "code",
   "execution_count": 6,
   "metadata": {
    "execution": {
     "iopub.execute_input": "2021-03-22T22:47:31.694382Z",
     "iopub.status.busy": "2021-03-22T22:47:31.693786Z",
     "iopub.status.idle": "2021-03-22T22:47:31.699068Z",
     "shell.execute_reply": "2021-03-22T22:47:31.698465Z"
    }
   },
   "outputs": [],
   "source": [
    "counties = dataJson[2]['dataValues'][:58]"
   ]
  },
  {
   "cell_type": "code",
   "execution_count": 7,
   "metadata": {
    "execution": {
     "iopub.execute_input": "2021-03-22T22:47:31.703211Z",
     "iopub.status.busy": "2021-03-22T22:47:31.702558Z",
     "iopub.status.idle": "2021-03-22T22:47:31.706783Z",
     "shell.execute_reply": "2021-03-22T22:47:31.706121Z"
    }
   },
   "outputs": [],
   "source": [
    "doses = dataJson[0]['dataValues'][3:61]"
   ]
  },
  {
   "cell_type": "markdown",
   "metadata": {},
   "source": [
    "Data formatting"
   ]
  },
  {
   "cell_type": "code",
   "execution_count": 8,
   "metadata": {
    "execution": {
     "iopub.execute_input": "2021-03-22T22:47:31.712053Z",
     "iopub.status.busy": "2021-03-22T22:47:31.710381Z",
     "iopub.status.idle": "2021-03-22T22:47:31.712839Z",
     "shell.execute_reply": "2021-03-22T22:47:31.713368Z"
    }
   },
   "outputs": [],
   "source": [
    "zipped = dict(zip(counties, doses))"
   ]
  },
  {
   "cell_type": "code",
   "execution_count": 9,
   "metadata": {
    "execution": {
     "iopub.execute_input": "2021-03-22T22:47:31.720949Z",
     "iopub.status.busy": "2021-03-22T22:47:31.719506Z",
     "iopub.status.idle": "2021-03-22T22:47:31.721692Z",
     "shell.execute_reply": "2021-03-22T22:47:31.722168Z"
    }
   },
   "outputs": [],
   "source": [
    "df = pd.Series(zipped).reset_index()"
   ]
  },
  {
   "cell_type": "code",
   "execution_count": 10,
   "metadata": {
    "execution": {
     "iopub.execute_input": "2021-03-22T22:47:31.727633Z",
     "iopub.status.busy": "2021-03-22T22:47:31.725964Z",
     "iopub.status.idle": "2021-03-22T22:47:31.728331Z",
     "shell.execute_reply": "2021-03-22T22:47:31.728832Z"
    }
   },
   "outputs": [],
   "source": [
    "df.columns = ['location','doses']"
   ]
  },
  {
   "cell_type": "markdown",
   "metadata": {},
   "source": [
    "Grab the overall California total"
   ]
  },
  {
   "cell_type": "code",
   "execution_count": 11,
   "metadata": {
    "execution": {
     "iopub.execute_input": "2021-03-22T22:47:31.733985Z",
     "iopub.status.busy": "2021-03-22T22:47:31.732580Z",
     "iopub.status.idle": "2021-03-22T22:47:31.734824Z",
     "shell.execute_reply": "2021-03-22T22:47:31.735317Z"
    }
   },
   "outputs": [],
   "source": [
    "add = {'location':'California','doses':dataJson[0]['dataValues'][2]}"
   ]
  },
  {
   "cell_type": "code",
   "execution_count": 12,
   "metadata": {
    "execution": {
     "iopub.execute_input": "2021-03-22T22:47:31.744223Z",
     "iopub.status.busy": "2021-03-22T22:47:31.742171Z",
     "iopub.status.idle": "2021-03-22T22:47:31.744980Z",
     "shell.execute_reply": "2021-03-22T22:47:31.745497Z"
    }
   },
   "outputs": [],
   "source": [
    "df = df.append(add, ignore_index=True)"
   ]
  },
  {
   "cell_type": "code",
   "execution_count": 13,
   "metadata": {
    "execution": {
     "iopub.execute_input": "2021-03-22T22:47:31.751228Z",
     "iopub.status.busy": "2021-03-22T22:47:31.749797Z",
     "iopub.status.idle": "2021-03-22T22:47:31.751903Z",
     "shell.execute_reply": "2021-03-22T22:47:31.752384Z"
    }
   },
   "outputs": [],
   "source": [
    "df = df.sort_values(by='location')"
   ]
  },
  {
   "cell_type": "code",
   "execution_count": 14,
   "metadata": {
    "execution": {
     "iopub.execute_input": "2021-03-22T22:47:31.759714Z",
     "iopub.status.busy": "2021-03-22T22:47:31.758236Z",
     "iopub.status.idle": "2021-03-22T22:47:31.760370Z",
     "shell.execute_reply": "2021-03-22T22:47:31.760850Z"
    }
   },
   "outputs": [],
   "source": [
    "df = df[df.location == 'California'].append(df[df.location != 'California']).reset_index(drop=True)"
   ]
  },
  {
   "cell_type": "code",
   "execution_count": null,
   "metadata": {},
   "outputs": [],
   "source": []
  },
  {
   "cell_type": "code",
   "execution_count": 15,
   "metadata": {
    "execution": {
     "iopub.execute_input": "2021-03-22T22:47:31.764571Z",
     "iopub.status.busy": "2021-03-22T22:47:31.763997Z",
     "iopub.status.idle": "2021-03-22T22:47:31.783250Z",
     "shell.execute_reply": "2021-03-22T22:47:31.782788Z"
    }
   },
   "outputs": [],
   "source": [
    "tz = pytz.timezone(\"America/New_York\")"
   ]
  },
  {
   "cell_type": "code",
   "execution_count": 16,
   "metadata": {
    "execution": {
     "iopub.execute_input": "2021-03-22T22:47:31.787653Z",
     "iopub.status.busy": "2021-03-22T22:47:31.786304Z",
     "iopub.status.idle": "2021-03-22T22:47:31.788307Z",
     "shell.execute_reply": "2021-03-22T22:47:31.788750Z"
    }
   },
   "outputs": [],
   "source": [
    "today = datetime.now(tz).date()"
   ]
  },
  {
   "cell_type": "code",
   "execution_count": 17,
   "metadata": {
    "execution": {
     "iopub.execute_input": "2021-03-22T22:47:31.794008Z",
     "iopub.status.busy": "2021-03-22T22:47:31.792671Z",
     "iopub.status.idle": "2021-03-22T22:47:31.794624Z",
     "shell.execute_reply": "2021-03-22T22:47:31.795121Z"
    }
   },
   "outputs": [],
   "source": [
    "data_dir = os.path.join(os.path.abspath(\"\"), \"data\")"
   ]
  },
  {
   "cell_type": "code",
   "execution_count": 18,
   "metadata": {
    "execution": {
     "iopub.execute_input": "2021-03-22T22:47:31.799021Z",
     "iopub.status.busy": "2021-03-22T22:47:31.798426Z",
     "iopub.status.idle": "2021-03-22T22:47:31.803553Z",
     "shell.execute_reply": "2021-03-22T22:47:31.803058Z"
    }
   },
   "outputs": [],
   "source": [
    "df.to_csv(os.path.join(data_dir, f\"{today}.csv\"), index=False)"
   ]
  },
  {
   "cell_type": "code",
   "execution_count": null,
   "metadata": {},
   "outputs": [],
   "source": []
  }
 ],
 "metadata": {
  "kernelspec": {
   "display_name": "Python 3",
   "language": "python",
   "name": "python3"
  },
  "language_info": {
   "codemirror_mode": {
    "name": "ipython",
    "version": 3
   },
   "file_extension": ".py",
   "mimetype": "text/x-python",
   "name": "python",
   "nbconvert_exporter": "python",
   "pygments_lexer": "ipython3",
   "version": "3.8.8"
  }
 },
 "nbformat": 4,
 "nbformat_minor": 4
}
