{
 "cells": [
  {
   "cell_type": "markdown",
   "metadata": {},
   "source": [
    "# California COVID vaccinations scrape"
   ]
  },
  {
   "cell_type": "markdown",
   "metadata": {},
   "source": [
    "By [Amy O'Kruk](https://twitter.com/amyokruk)"
   ]
  },
  {
   "cell_type": "markdown",
   "metadata": {},
   "source": [
    "Downloads data on vaccine doses administered by county and statewide from a Tableau-powered dashboard from the California Department of Public Health."
   ]
  },
  {
   "cell_type": "code",
   "execution_count": 1,
   "metadata": {
    "execution": {
     "iopub.execute_input": "2021-03-20T22:45:55.130313Z",
     "iopub.status.busy": "2021-03-20T22:45:55.129288Z",
     "iopub.status.idle": "2021-03-20T22:45:55.477972Z",
     "shell.execute_reply": "2021-03-20T22:45:55.476832Z"
    }
   },
   "outputs": [],
   "source": [
    "import pandas as pd\n",
    "import requests\n",
    "from bs4 import BeautifulSoup\n",
    "import json\n",
    "import re\n",
    "import time\n",
    "from time import gmtime, strftime \n",
    "import os\n",
    "import pytz\n",
    "from datetime import datetime"
   ]
  },
  {
   "cell_type": "markdown",
   "metadata": {},
   "source": [
    "Scrape the dashboard page"
   ]
  },
  {
   "cell_type": "code",
   "execution_count": 2,
   "metadata": {
    "execution": {
     "iopub.execute_input": "2021-03-20T22:45:55.483906Z",
     "iopub.status.busy": "2021-03-20T22:45:55.481864Z",
     "iopub.status.idle": "2021-03-20T22:45:55.863600Z",
     "shell.execute_reply": "2021-03-20T22:45:55.862811Z"
    }
   },
   "outputs": [],
   "source": [
    "url = \"https://public.tableau.com/interactive/views/COVID-19VaccineDashboardPublic/Vaccine?:embed=y&:showVizHome=n&:apiID=host0\"\n",
    "\n",
    "r = requests.get(url)\n",
    "soup = BeautifulSoup(r.text, \"html.parser\")"
   ]
  },
  {
   "cell_type": "code",
   "execution_count": 3,
   "metadata": {
    "execution": {
     "iopub.execute_input": "2021-03-20T22:45:55.869603Z",
     "iopub.status.busy": "2021-03-20T22:45:55.868641Z",
     "iopub.status.idle": "2021-03-20T22:45:55.871517Z",
     "shell.execute_reply": "2021-03-20T22:45:55.871048Z"
    }
   },
   "outputs": [],
   "source": [
    "tableauData = json.loads(soup.find(\"textarea\",{\"id\": \"tsConfigContainer\"}).text)"
   ]
  },
  {
   "cell_type": "markdown",
   "metadata": {},
   "source": [
    "Get the link to the Tableau data"
   ]
  },
  {
   "cell_type": "code",
   "execution_count": 4,
   "metadata": {
    "execution": {
     "iopub.execute_input": "2021-03-20T22:45:55.874797Z",
     "iopub.status.busy": "2021-03-20T22:45:55.874285Z",
     "iopub.status.idle": "2021-03-20T22:45:55.876450Z",
     "shell.execute_reply": "2021-03-20T22:45:55.876010Z"
    }
   },
   "outputs": [],
   "source": [
    "dataUrl = f'https://public.tableau.com{tableauData[\"vizql_root\"]}/bootstrapSession/sessions/{tableauData[\"sessionid\"]}'"
   ]
  },
  {
   "cell_type": "code",
   "execution_count": 5,
   "metadata": {
    "execution": {
     "iopub.execute_input": "2021-03-20T22:45:55.882528Z",
     "iopub.status.busy": "2021-03-20T22:45:55.882036Z",
     "iopub.status.idle": "2021-03-20T22:45:56.491439Z",
     "shell.execute_reply": "2021-03-20T22:45:56.490412Z"
    }
   },
   "outputs": [],
   "source": [
    "r = requests.post(dataUrl, data= {\n",
    "    \"sheet_id\": tableauData[\"sheetId\"],\n",
    "})\n",
    "\n",
    "dataReg = re.search('\\d+;({.*})\\d+;({.*})', r.text, re.MULTILINE)\n",
    "data1 = json.loads(dataReg.group(2))\n",
    "\n",
    "dataJson = data1[\"secondaryInfo\"][\"presModelMap\"][\"dataDictionary\"][\"presModelHolder\"][\"genDataDictionaryPresModel\"][\"dataSegments\"][\"0\"][\"dataColumns\"]"
   ]
  },
  {
   "cell_type": "markdown",
   "metadata": {},
   "source": [
    "Isolate what you want"
   ]
  },
  {
   "cell_type": "code",
   "execution_count": 6,
   "metadata": {
    "execution": {
     "iopub.execute_input": "2021-03-20T22:45:56.495321Z",
     "iopub.status.busy": "2021-03-20T22:45:56.494892Z",
     "iopub.status.idle": "2021-03-20T22:45:56.498135Z",
     "shell.execute_reply": "2021-03-20T22:45:56.497671Z"
    }
   },
   "outputs": [],
   "source": [
    "counties = dataJson[2]['dataValues'][:58]"
   ]
  },
  {
   "cell_type": "code",
   "execution_count": 7,
   "metadata": {
    "execution": {
     "iopub.execute_input": "2021-03-20T22:45:56.501310Z",
     "iopub.status.busy": "2021-03-20T22:45:56.500889Z",
     "iopub.status.idle": "2021-03-20T22:45:56.503856Z",
     "shell.execute_reply": "2021-03-20T22:45:56.503426Z"
    }
   },
   "outputs": [],
   "source": [
    "doses = dataJson[0]['dataValues'][3:61]"
   ]
  },
  {
   "cell_type": "markdown",
   "metadata": {},
   "source": [
    "Data formatting"
   ]
  },
  {
   "cell_type": "code",
   "execution_count": 8,
   "metadata": {
    "execution": {
     "iopub.execute_input": "2021-03-20T22:45:56.506969Z",
     "iopub.status.busy": "2021-03-20T22:45:56.506550Z",
     "iopub.status.idle": "2021-03-20T22:45:56.509408Z",
     "shell.execute_reply": "2021-03-20T22:45:56.508969Z"
    }
   },
   "outputs": [],
   "source": [
    "zipped = dict(zip(counties, doses))"
   ]
  },
  {
   "cell_type": "code",
   "execution_count": 9,
   "metadata": {
    "execution": {
     "iopub.execute_input": "2021-03-20T22:45:56.514268Z",
     "iopub.status.busy": "2021-03-20T22:45:56.513754Z",
     "iopub.status.idle": "2021-03-20T22:45:56.517577Z",
     "shell.execute_reply": "2021-03-20T22:45:56.517212Z"
    }
   },
   "outputs": [],
   "source": [
    "df = pd.Series(zipped).reset_index()"
   ]
  },
  {
   "cell_type": "code",
   "execution_count": 10,
   "metadata": {
    "execution": {
     "iopub.execute_input": "2021-03-20T22:45:56.520613Z",
     "iopub.status.busy": "2021-03-20T22:45:56.520198Z",
     "iopub.status.idle": "2021-03-20T22:45:56.523255Z",
     "shell.execute_reply": "2021-03-20T22:45:56.522868Z"
    }
   },
   "outputs": [],
   "source": [
    "df.columns = ['location','doses']"
   ]
  },
  {
   "cell_type": "markdown",
   "metadata": {},
   "source": [
    "Grab the overall California total"
   ]
  },
  {
   "cell_type": "code",
   "execution_count": 11,
   "metadata": {
    "execution": {
     "iopub.execute_input": "2021-03-20T22:45:56.526151Z",
     "iopub.status.busy": "2021-03-20T22:45:56.525734Z",
     "iopub.status.idle": "2021-03-20T22:45:56.529243Z",
     "shell.execute_reply": "2021-03-20T22:45:56.529671Z"
    }
   },
   "outputs": [],
   "source": [
    "add = {'location':'California','doses':dataJson[0]['dataValues'][2]}"
   ]
  },
  {
   "cell_type": "code",
   "execution_count": 12,
   "metadata": {
    "execution": {
     "iopub.execute_input": "2021-03-20T22:45:56.535846Z",
     "iopub.status.busy": "2021-03-20T22:45:56.535371Z",
     "iopub.status.idle": "2021-03-20T22:45:56.538405Z",
     "shell.execute_reply": "2021-03-20T22:45:56.538039Z"
    }
   },
   "outputs": [],
   "source": [
    "df = df.append(add, ignore_index=True)"
   ]
  },
  {
   "cell_type": "code",
   "execution_count": 13,
   "metadata": {
    "execution": {
     "iopub.execute_input": "2021-03-20T22:45:56.542303Z",
     "iopub.status.busy": "2021-03-20T22:45:56.541820Z",
     "iopub.status.idle": "2021-03-20T22:45:56.544948Z",
     "shell.execute_reply": "2021-03-20T22:45:56.544468Z"
    }
   },
   "outputs": [],
   "source": [
    "df = df.sort_values(by='location')"
   ]
  },
  {
   "cell_type": "code",
   "execution_count": 14,
   "metadata": {
    "execution": {
     "iopub.execute_input": "2021-03-20T22:45:56.550544Z",
     "iopub.status.busy": "2021-03-20T22:45:56.550034Z",
     "iopub.status.idle": "2021-03-20T22:45:56.552930Z",
     "shell.execute_reply": "2021-03-20T22:45:56.553321Z"
    }
   },
   "outputs": [],
   "source": [
    "df = df[df.location == 'California'].append(df[df.location != 'California']).reset_index(drop=True)"
   ]
  },
  {
   "cell_type": "code",
   "execution_count": null,
   "metadata": {},
   "outputs": [],
   "source": []
  },
  {
   "cell_type": "code",
   "execution_count": 15,
   "metadata": {
    "execution": {
     "iopub.execute_input": "2021-03-20T22:45:56.556262Z",
     "iopub.status.busy": "2021-03-20T22:45:56.555842Z",
     "iopub.status.idle": "2021-03-20T22:45:56.570454Z",
     "shell.execute_reply": "2021-03-20T22:45:56.570808Z"
    }
   },
   "outputs": [],
   "source": [
    "tz = pytz.timezone(\"America/New_York\")"
   ]
  },
  {
   "cell_type": "code",
   "execution_count": 16,
   "metadata": {
    "execution": {
     "iopub.execute_input": "2021-03-20T22:45:56.573782Z",
     "iopub.status.busy": "2021-03-20T22:45:56.573365Z",
     "iopub.status.idle": "2021-03-20T22:45:56.576980Z",
     "shell.execute_reply": "2021-03-20T22:45:56.576404Z"
    }
   },
   "outputs": [],
   "source": [
    "today = datetime.now(tz).date()"
   ]
  },
  {
   "cell_type": "code",
   "execution_count": 17,
   "metadata": {
    "execution": {
     "iopub.execute_input": "2021-03-20T22:45:56.579966Z",
     "iopub.status.busy": "2021-03-20T22:45:56.579548Z",
     "iopub.status.idle": "2021-03-20T22:45:56.582598Z",
     "shell.execute_reply": "2021-03-20T22:45:56.582947Z"
    }
   },
   "outputs": [],
   "source": [
    "data_dir = os.path.join(os.path.abspath(\"\"), \"data\")"
   ]
  },
  {
   "cell_type": "code",
   "execution_count": 18,
   "metadata": {
    "execution": {
     "iopub.execute_input": "2021-03-20T22:45:56.586449Z",
     "iopub.status.busy": "2021-03-20T22:45:56.586010Z",
     "iopub.status.idle": "2021-03-20T22:45:56.591020Z",
     "shell.execute_reply": "2021-03-20T22:45:56.590592Z"
    }
   },
   "outputs": [],
   "source": [
    "df.to_csv(os.path.join(data_dir, f\"{today}.csv\"), index=False)"
   ]
  },
  {
   "cell_type": "code",
   "execution_count": null,
   "metadata": {},
   "outputs": [],
   "source": []
  }
 ],
 "metadata": {
  "kernelspec": {
   "display_name": "Python 3",
   "language": "python",
   "name": "python3"
  },
  "language_info": {
   "codemirror_mode": {
    "name": "ipython",
    "version": 3
   },
   "file_extension": ".py",
   "mimetype": "text/x-python",
   "name": "python",
   "nbconvert_exporter": "python",
   "pygments_lexer": "ipython3",
   "version": "3.8.8"
  }
 },
 "nbformat": 4,
 "nbformat_minor": 4
}
