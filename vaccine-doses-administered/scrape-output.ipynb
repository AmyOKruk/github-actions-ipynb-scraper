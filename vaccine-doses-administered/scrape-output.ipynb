{
 "cells": [
  {
   "cell_type": "markdown",
   "metadata": {},
   "source": [
    "# California COVID vaccinations scrape"
   ]
  },
  {
   "cell_type": "markdown",
   "metadata": {},
   "source": [
    "By [Amy O'Kruk](https://twitter.com/amyokruk)"
   ]
  },
  {
   "cell_type": "markdown",
   "metadata": {},
   "source": [
    "Downloads data on vaccine doses administered by county and statewide from a Tableau-powered dashboard from the California Department of Public Health."
   ]
  },
  {
   "cell_type": "code",
   "execution_count": 1,
   "metadata": {
    "execution": {
     "iopub.execute_input": "2021-03-15T23:50:06.096641Z",
     "iopub.status.busy": "2021-03-15T23:50:06.096023Z",
     "iopub.status.idle": "2021-03-15T23:50:06.559204Z",
     "shell.execute_reply": "2021-03-15T23:50:06.558096Z"
    }
   },
   "outputs": [],
   "source": [
    "import pandas as pd\n",
    "import requests\n",
    "from bs4 import BeautifulSoup\n",
    "import json\n",
    "import re\n",
    "import time\n",
    "from time import gmtime, strftime \n",
    "import os\n",
    "import pytz\n",
    "from datetime import datetime"
   ]
  },
  {
   "cell_type": "markdown",
   "metadata": {},
   "source": [
    "Scrape the dashboard page"
   ]
  },
  {
   "cell_type": "code",
   "execution_count": 2,
   "metadata": {
    "execution": {
     "iopub.execute_input": "2021-03-15T23:50:06.564850Z",
     "iopub.status.busy": "2021-03-15T23:50:06.562638Z",
     "iopub.status.idle": "2021-03-15T23:50:06.854140Z",
     "shell.execute_reply": "2021-03-15T23:50:06.854537Z"
    }
   },
   "outputs": [],
   "source": [
    "url = \"https://public.tableau.com/interactive/views/COVID-19VaccineDashboardPublic/Vaccine?:embed=y&:showVizHome=n&:apiID=host0\"\n",
    "\n",
    "r = requests.get(url)\n",
    "soup = BeautifulSoup(r.text, \"html.parser\")"
   ]
  },
  {
   "cell_type": "code",
   "execution_count": 3,
   "metadata": {
    "execution": {
     "iopub.execute_input": "2021-03-15T23:50:06.858834Z",
     "iopub.status.busy": "2021-03-15T23:50:06.858281Z",
     "iopub.status.idle": "2021-03-15T23:50:06.861654Z",
     "shell.execute_reply": "2021-03-15T23:50:06.862057Z"
    }
   },
   "outputs": [],
   "source": [
    "tableauData = json.loads(soup.find(\"textarea\",{\"id\": \"tsConfigContainer\"}).text)"
   ]
  },
  {
   "cell_type": "markdown",
   "metadata": {},
   "source": [
    "Get the link to the Tableau data"
   ]
  },
  {
   "cell_type": "code",
   "execution_count": 4,
   "metadata": {
    "execution": {
     "iopub.execute_input": "2021-03-15T23:50:06.865222Z",
     "iopub.status.busy": "2021-03-15T23:50:06.864711Z",
     "iopub.status.idle": "2021-03-15T23:50:06.868438Z",
     "shell.execute_reply": "2021-03-15T23:50:06.867595Z"
    }
   },
   "outputs": [],
   "source": [
    "dataUrl = f'https://public.tableau.com{tableauData[\"vizql_root\"]}/bootstrapSession/sessions/{tableauData[\"sessionid\"]}'"
   ]
  },
  {
   "cell_type": "code",
   "execution_count": 5,
   "metadata": {
    "execution": {
     "iopub.execute_input": "2021-03-15T23:50:06.874644Z",
     "iopub.status.busy": "2021-03-15T23:50:06.873946Z",
     "iopub.status.idle": "2021-03-15T23:50:07.138334Z",
     "shell.execute_reply": "2021-03-15T23:50:07.137739Z"
    }
   },
   "outputs": [],
   "source": [
    "r = requests.post(dataUrl, data= {\n",
    "    \"sheet_id\": tableauData[\"sheetId\"],\n",
    "})\n",
    "\n",
    "dataReg = re.search('\\d+;({.*})\\d+;({.*})', r.text, re.MULTILINE)\n",
    "data1 = json.loads(dataReg.group(2))\n",
    "\n",
    "dataJson = data1[\"secondaryInfo\"][\"presModelMap\"][\"dataDictionary\"][\"presModelHolder\"][\"genDataDictionaryPresModel\"][\"dataSegments\"][\"0\"][\"dataColumns\"]"
   ]
  },
  {
   "cell_type": "markdown",
   "metadata": {},
   "source": [
    "Isolate what you want"
   ]
  },
  {
   "cell_type": "code",
   "execution_count": 6,
   "metadata": {
    "execution": {
     "iopub.execute_input": "2021-03-15T23:50:07.142880Z",
     "iopub.status.busy": "2021-03-15T23:50:07.141750Z",
     "iopub.status.idle": "2021-03-15T23:50:07.143513Z",
     "shell.execute_reply": "2021-03-15T23:50:07.143933Z"
    }
   },
   "outputs": [],
   "source": [
    "counties = dataJson[2]['dataValues'][:58]"
   ]
  },
  {
   "cell_type": "code",
   "execution_count": 7,
   "metadata": {
    "execution": {
     "iopub.execute_input": "2021-03-15T23:50:07.148123Z",
     "iopub.status.busy": "2021-03-15T23:50:07.146971Z",
     "iopub.status.idle": "2021-03-15T23:50:07.148768Z",
     "shell.execute_reply": "2021-03-15T23:50:07.149458Z"
    }
   },
   "outputs": [],
   "source": [
    "doses = dataJson[0]['dataValues'][3:61]"
   ]
  },
  {
   "cell_type": "markdown",
   "metadata": {},
   "source": [
    "Data formatting"
   ]
  },
  {
   "cell_type": "code",
   "execution_count": 8,
   "metadata": {
    "execution": {
     "iopub.execute_input": "2021-03-15T23:50:07.153564Z",
     "iopub.status.busy": "2021-03-15T23:50:07.152262Z",
     "iopub.status.idle": "2021-03-15T23:50:07.154089Z",
     "shell.execute_reply": "2021-03-15T23:50:07.154529Z"
    }
   },
   "outputs": [],
   "source": [
    "zipped = dict(zip(counties, doses))"
   ]
  },
  {
   "cell_type": "code",
   "execution_count": 9,
   "metadata": {
    "execution": {
     "iopub.execute_input": "2021-03-15T23:50:07.160570Z",
     "iopub.status.busy": "2021-03-15T23:50:07.159232Z",
     "iopub.status.idle": "2021-03-15T23:50:07.161320Z",
     "shell.execute_reply": "2021-03-15T23:50:07.161717Z"
    }
   },
   "outputs": [],
   "source": [
    "df = pd.Series(zipped).reset_index()"
   ]
  },
  {
   "cell_type": "code",
   "execution_count": 10,
   "metadata": {
    "execution": {
     "iopub.execute_input": "2021-03-15T23:50:07.166067Z",
     "iopub.status.busy": "2021-03-15T23:50:07.164718Z",
     "iopub.status.idle": "2021-03-15T23:50:07.166617Z",
     "shell.execute_reply": "2021-03-15T23:50:07.167010Z"
    }
   },
   "outputs": [],
   "source": [
    "df.columns = ['location','doses']"
   ]
  },
  {
   "cell_type": "markdown",
   "metadata": {},
   "source": [
    "Grab the overall California total"
   ]
  },
  {
   "cell_type": "code",
   "execution_count": 11,
   "metadata": {
    "execution": {
     "iopub.execute_input": "2021-03-15T23:50:07.170724Z",
     "iopub.status.busy": "2021-03-15T23:50:07.169869Z",
     "iopub.status.idle": "2021-03-15T23:50:07.171601Z",
     "shell.execute_reply": "2021-03-15T23:50:07.172015Z"
    }
   },
   "outputs": [],
   "source": [
    "add = {'location':'California','doses':dataJson[0]['dataValues'][2]}"
   ]
  },
  {
   "cell_type": "code",
   "execution_count": 12,
   "metadata": {
    "execution": {
     "iopub.execute_input": "2021-03-15T23:50:07.178255Z",
     "iopub.status.busy": "2021-03-15T23:50:07.177618Z",
     "iopub.status.idle": "2021-03-15T23:50:07.180153Z",
     "shell.execute_reply": "2021-03-15T23:50:07.179556Z"
    }
   },
   "outputs": [],
   "source": [
    "df = df.append(add, ignore_index=True)"
   ]
  },
  {
   "cell_type": "code",
   "execution_count": 13,
   "metadata": {
    "execution": {
     "iopub.execute_input": "2021-03-15T23:50:07.185703Z",
     "iopub.status.busy": "2021-03-15T23:50:07.185051Z",
     "iopub.status.idle": "2021-03-15T23:50:07.189753Z",
     "shell.execute_reply": "2021-03-15T23:50:07.190179Z"
    }
   },
   "outputs": [],
   "source": [
    "df = df.sort_values(by='location')"
   ]
  },
  {
   "cell_type": "code",
   "execution_count": 14,
   "metadata": {
    "execution": {
     "iopub.execute_input": "2021-03-15T23:50:07.195393Z",
     "iopub.status.busy": "2021-03-15T23:50:07.194905Z",
     "iopub.status.idle": "2021-03-15T23:50:07.197908Z",
     "shell.execute_reply": "2021-03-15T23:50:07.197498Z"
    }
   },
   "outputs": [],
   "source": [
    "df = df[df.location == 'California'].append(df[df.location != 'California']).reset_index(drop=True)"
   ]
  },
  {
   "cell_type": "code",
   "execution_count": null,
   "metadata": {},
   "outputs": [],
   "source": []
  },
  {
   "cell_type": "code",
   "execution_count": 15,
   "metadata": {
    "execution": {
     "iopub.execute_input": "2021-03-15T23:50:07.200793Z",
     "iopub.status.busy": "2021-03-15T23:50:07.200250Z",
     "iopub.status.idle": "2021-03-15T23:50:07.220415Z",
     "shell.execute_reply": "2021-03-15T23:50:07.220023Z"
    }
   },
   "outputs": [],
   "source": [
    "tz = pytz.timezone(\"America/New_York\")"
   ]
  },
  {
   "cell_type": "code",
   "execution_count": 16,
   "metadata": {
    "execution": {
     "iopub.execute_input": "2021-03-15T23:50:07.224318Z",
     "iopub.status.busy": "2021-03-15T23:50:07.223137Z",
     "iopub.status.idle": "2021-03-15T23:50:07.225160Z",
     "shell.execute_reply": "2021-03-15T23:50:07.225593Z"
    }
   },
   "outputs": [],
   "source": [
    "today = datetime.now(tz).date()"
   ]
  },
  {
   "cell_type": "code",
   "execution_count": 17,
   "metadata": {
    "execution": {
     "iopub.execute_input": "2021-03-15T23:50:07.230131Z",
     "iopub.status.busy": "2021-03-15T23:50:07.228844Z",
     "iopub.status.idle": "2021-03-15T23:50:07.230677Z",
     "shell.execute_reply": "2021-03-15T23:50:07.231098Z"
    }
   },
   "outputs": [],
   "source": [
    "data_dir = os.path.join(os.path.abspath(\"\"), \"data\")"
   ]
  },
  {
   "cell_type": "code",
   "execution_count": 18,
   "metadata": {
    "execution": {
     "iopub.execute_input": "2021-03-15T23:50:07.234974Z",
     "iopub.status.busy": "2021-03-15T23:50:07.233796Z",
     "iopub.status.idle": "2021-03-15T23:50:07.238517Z",
     "shell.execute_reply": "2021-03-15T23:50:07.237902Z"
    }
   },
   "outputs": [],
   "source": [
    "df.to_csv(os.path.join(data_dir, f\"{today}.csv\"), index=False)"
   ]
  },
  {
   "cell_type": "code",
   "execution_count": null,
   "metadata": {},
   "outputs": [],
   "source": []
  }
 ],
 "metadata": {
  "kernelspec": {
   "display_name": "Python 3",
   "language": "python",
   "name": "python3"
  },
  "language_info": {
   "codemirror_mode": {
    "name": "ipython",
    "version": 3
   },
   "file_extension": ".py",
   "mimetype": "text/x-python",
   "name": "python",
   "nbconvert_exporter": "python",
   "pygments_lexer": "ipython3",
   "version": "3.8.8"
  }
 },
 "nbformat": 4,
 "nbformat_minor": 4
}
