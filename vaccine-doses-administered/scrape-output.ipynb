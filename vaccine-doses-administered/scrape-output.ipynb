{
 "cells": [
  {
   "cell_type": "markdown",
   "metadata": {},
   "source": [
    "# California COVID vaccinations scrape"
   ]
  },
  {
   "cell_type": "markdown",
   "metadata": {},
   "source": [
    "By [Amy O'Kruk](https://twitter.com/amyokruk)"
   ]
  },
  {
   "cell_type": "markdown",
   "metadata": {},
   "source": [
    "Downloads data on vaccine doses administered by county and statewide from a Tableau-powered dashboard from the California Department of Public Health."
   ]
  },
  {
   "cell_type": "code",
   "execution_count": 1,
   "metadata": {
    "execution": {
     "iopub.execute_input": "2021-03-14T17:54:51.842448Z",
     "iopub.status.busy": "2021-03-14T17:54:51.841195Z",
     "iopub.status.idle": "2021-03-14T17:54:52.325220Z",
     "shell.execute_reply": "2021-03-14T17:54:52.324051Z"
    }
   },
   "outputs": [],
   "source": [
    "import pandas as pd\n",
    "import requests\n",
    "from bs4 import BeautifulSoup\n",
    "import json\n",
    "import re\n",
    "import time\n",
    "from time import gmtime, strftime \n",
    "import os\n",
    "import pytz\n",
    "from datetime import datetime"
   ]
  },
  {
   "cell_type": "markdown",
   "metadata": {},
   "source": [
    "Scrape the dashboard page"
   ]
  },
  {
   "cell_type": "code",
   "execution_count": 2,
   "metadata": {
    "execution": {
     "iopub.execute_input": "2021-03-14T17:54:52.331940Z",
     "iopub.status.busy": "2021-03-14T17:54:52.329643Z",
     "iopub.status.idle": "2021-03-14T17:54:53.034749Z",
     "shell.execute_reply": "2021-03-14T17:54:53.033644Z"
    }
   },
   "outputs": [],
   "source": [
    "url = \"https://public.tableau.com/interactive/views/COVID-19VaccineDashboardPublic/Vaccine?:embed=y&:showVizHome=n&:apiID=host0\"\n",
    "\n",
    "r = requests.get(url)\n",
    "soup = BeautifulSoup(r.text, \"html.parser\")"
   ]
  },
  {
   "cell_type": "code",
   "execution_count": 3,
   "metadata": {
    "execution": {
     "iopub.execute_input": "2021-03-14T17:54:53.040670Z",
     "iopub.status.busy": "2021-03-14T17:54:53.040036Z",
     "iopub.status.idle": "2021-03-14T17:54:53.044266Z",
     "shell.execute_reply": "2021-03-14T17:54:53.043730Z"
    }
   },
   "outputs": [],
   "source": [
    "tableauData = json.loads(soup.find(\"textarea\",{\"id\": \"tsConfigContainer\"}).text)"
   ]
  },
  {
   "cell_type": "markdown",
   "metadata": {},
   "source": [
    "Get the link to the Tableau data"
   ]
  },
  {
   "cell_type": "code",
   "execution_count": 4,
   "metadata": {
    "execution": {
     "iopub.execute_input": "2021-03-14T17:54:53.050726Z",
     "iopub.status.busy": "2021-03-14T17:54:53.050028Z",
     "iopub.status.idle": "2021-03-14T17:54:53.054070Z",
     "shell.execute_reply": "2021-03-14T17:54:53.054571Z"
    }
   },
   "outputs": [],
   "source": [
    "dataUrl = f'https://public.tableau.com{tableauData[\"vizql_root\"]}/bootstrapSession/sessions/{tableauData[\"sessionid\"]}'"
   ]
  },
  {
   "cell_type": "code",
   "execution_count": 5,
   "metadata": {
    "execution": {
     "iopub.execute_input": "2021-03-14T17:54:53.061980Z",
     "iopub.status.busy": "2021-03-14T17:54:53.061314Z",
     "iopub.status.idle": "2021-03-14T17:54:53.352034Z",
     "shell.execute_reply": "2021-03-14T17:54:53.350827Z"
    }
   },
   "outputs": [],
   "source": [
    "r = requests.post(dataUrl, data= {\n",
    "    \"sheet_id\": tableauData[\"sheetId\"],\n",
    "})\n",
    "\n",
    "dataReg = re.search('\\d+;({.*})\\d+;({.*})', r.text, re.MULTILINE)\n",
    "data1 = json.loads(dataReg.group(2))\n",
    "\n",
    "dataJson = data1[\"secondaryInfo\"][\"presModelMap\"][\"dataDictionary\"][\"presModelHolder\"][\"genDataDictionaryPresModel\"][\"dataSegments\"][\"0\"][\"dataColumns\"]"
   ]
  },
  {
   "cell_type": "markdown",
   "metadata": {},
   "source": [
    "Isolate what you want"
   ]
  },
  {
   "cell_type": "code",
   "execution_count": 6,
   "metadata": {
    "execution": {
     "iopub.execute_input": "2021-03-14T17:54:53.356019Z",
     "iopub.status.busy": "2021-03-14T17:54:53.355326Z",
     "iopub.status.idle": "2021-03-14T17:54:53.358218Z",
     "shell.execute_reply": "2021-03-14T17:54:53.357433Z"
    }
   },
   "outputs": [],
   "source": [
    "counties = dataJson[2]['dataValues'][:58]"
   ]
  },
  {
   "cell_type": "code",
   "execution_count": 7,
   "metadata": {
    "execution": {
     "iopub.execute_input": "2021-03-14T17:54:53.362943Z",
     "iopub.status.busy": "2021-03-14T17:54:53.362340Z",
     "iopub.status.idle": "2021-03-14T17:54:53.365170Z",
     "shell.execute_reply": "2021-03-14T17:54:53.364651Z"
    }
   },
   "outputs": [],
   "source": [
    "doses = dataJson[0]['dataValues'][3:61]"
   ]
  },
  {
   "cell_type": "markdown",
   "metadata": {},
   "source": [
    "Data formatting"
   ]
  },
  {
   "cell_type": "code",
   "execution_count": 8,
   "metadata": {
    "execution": {
     "iopub.execute_input": "2021-03-14T17:54:53.370277Z",
     "iopub.status.busy": "2021-03-14T17:54:53.368924Z",
     "iopub.status.idle": "2021-03-14T17:54:53.370928Z",
     "shell.execute_reply": "2021-03-14T17:54:53.371519Z"
    }
   },
   "outputs": [],
   "source": [
    "zipped = dict(zip(counties, doses))"
   ]
  },
  {
   "cell_type": "code",
   "execution_count": 9,
   "metadata": {
    "execution": {
     "iopub.execute_input": "2021-03-14T17:54:53.378545Z",
     "iopub.status.busy": "2021-03-14T17:54:53.377087Z",
     "iopub.status.idle": "2021-03-14T17:54:53.379222Z",
     "shell.execute_reply": "2021-03-14T17:54:53.379719Z"
    }
   },
   "outputs": [],
   "source": [
    "df = pd.Series(zipped).reset_index()"
   ]
  },
  {
   "cell_type": "code",
   "execution_count": 10,
   "metadata": {
    "execution": {
     "iopub.execute_input": "2021-03-14T17:54:53.384999Z",
     "iopub.status.busy": "2021-03-14T17:54:53.383719Z",
     "iopub.status.idle": "2021-03-14T17:54:53.385607Z",
     "shell.execute_reply": "2021-03-14T17:54:53.386152Z"
    }
   },
   "outputs": [],
   "source": [
    "df.columns = ['location','doses']"
   ]
  },
  {
   "cell_type": "markdown",
   "metadata": {},
   "source": [
    "Grab the overall California total"
   ]
  },
  {
   "cell_type": "code",
   "execution_count": 11,
   "metadata": {
    "execution": {
     "iopub.execute_input": "2021-03-14T17:54:53.391143Z",
     "iopub.status.busy": "2021-03-14T17:54:53.390433Z",
     "iopub.status.idle": "2021-03-14T17:54:53.392871Z",
     "shell.execute_reply": "2021-03-14T17:54:53.393337Z"
    }
   },
   "outputs": [],
   "source": [
    "add = {'location':'California','doses':dataJson[0]['dataValues'][2]}"
   ]
  },
  {
   "cell_type": "code",
   "execution_count": 12,
   "metadata": {
    "execution": {
     "iopub.execute_input": "2021-03-14T17:54:53.401743Z",
     "iopub.status.busy": "2021-03-14T17:54:53.400568Z",
     "iopub.status.idle": "2021-03-14T17:54:53.403199Z",
     "shell.execute_reply": "2021-03-14T17:54:53.403698Z"
    }
   },
   "outputs": [],
   "source": [
    "df = df.append(add, ignore_index=True)"
   ]
  },
  {
   "cell_type": "code",
   "execution_count": 13,
   "metadata": {
    "execution": {
     "iopub.execute_input": "2021-03-14T17:54:53.408817Z",
     "iopub.status.busy": "2021-03-14T17:54:53.407873Z",
     "iopub.status.idle": "2021-03-14T17:54:53.410890Z",
     "shell.execute_reply": "2021-03-14T17:54:53.410326Z"
    }
   },
   "outputs": [],
   "source": [
    "df = df.sort_values(by='location')"
   ]
  },
  {
   "cell_type": "code",
   "execution_count": 14,
   "metadata": {
    "execution": {
     "iopub.execute_input": "2021-03-14T17:54:53.419131Z",
     "iopub.status.busy": "2021-03-14T17:54:53.417439Z",
     "iopub.status.idle": "2021-03-14T17:54:53.419986Z",
     "shell.execute_reply": "2021-03-14T17:54:53.420529Z"
    }
   },
   "outputs": [],
   "source": [
    "df = df[df.location == 'California'].append(df[df.location != 'California']).reset_index(drop=True)"
   ]
  },
  {
   "cell_type": "code",
   "execution_count": null,
   "metadata": {},
   "outputs": [],
   "source": []
  },
  {
   "cell_type": "code",
   "execution_count": 15,
   "metadata": {
    "execution": {
     "iopub.execute_input": "2021-03-14T17:54:53.424529Z",
     "iopub.status.busy": "2021-03-14T17:54:53.423927Z",
     "iopub.status.idle": "2021-03-14T17:54:53.443466Z",
     "shell.execute_reply": "2021-03-14T17:54:53.443910Z"
    }
   },
   "outputs": [],
   "source": [
    "tz = pytz.timezone(\"America/New_York\")"
   ]
  },
  {
   "cell_type": "code",
   "execution_count": 16,
   "metadata": {
    "execution": {
     "iopub.execute_input": "2021-03-14T17:54:53.449525Z",
     "iopub.status.busy": "2021-03-14T17:54:53.447820Z",
     "iopub.status.idle": "2021-03-14T17:54:53.450225Z",
     "shell.execute_reply": "2021-03-14T17:54:53.450722Z"
    }
   },
   "outputs": [],
   "source": [
    "today = datetime.now(tz).date()"
   ]
  },
  {
   "cell_type": "code",
   "execution_count": 17,
   "metadata": {
    "execution": {
     "iopub.execute_input": "2021-03-14T17:54:53.455584Z",
     "iopub.status.busy": "2021-03-14T17:54:53.454147Z",
     "iopub.status.idle": "2021-03-14T17:54:53.456186Z",
     "shell.execute_reply": "2021-03-14T17:54:53.456679Z"
    }
   },
   "outputs": [],
   "source": [
    "data_dir = os.path.join(os.path.abspath(\"\"), \"data\")"
   ]
  },
  {
   "cell_type": "code",
   "execution_count": 18,
   "metadata": {
    "execution": {
     "iopub.execute_input": "2021-03-14T17:54:53.460921Z",
     "iopub.status.busy": "2021-03-14T17:54:53.459797Z",
     "iopub.status.idle": "2021-03-14T17:54:53.464557Z",
     "shell.execute_reply": "2021-03-14T17:54:53.463908Z"
    }
   },
   "outputs": [],
   "source": [
    "df.to_csv(os.path.join(data_dir, f\"{today}.csv\"), index=False)"
   ]
  },
  {
   "cell_type": "code",
   "execution_count": null,
   "metadata": {},
   "outputs": [],
   "source": []
  }
 ],
 "metadata": {
  "kernelspec": {
   "display_name": "Python 3",
   "language": "python",
   "name": "python3"
  },
  "language_info": {
   "codemirror_mode": {
    "name": "ipython",
    "version": 3
   },
   "file_extension": ".py",
   "mimetype": "text/x-python",
   "name": "python",
   "nbconvert_exporter": "python",
   "pygments_lexer": "ipython3",
   "version": "3.8.8"
  }
 },
 "nbformat": 4,
 "nbformat_minor": 4
}
