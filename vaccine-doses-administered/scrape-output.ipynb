{
 "cells": [
  {
   "cell_type": "markdown",
   "metadata": {},
   "source": [
    "# California COVID vaccinations scrape"
   ]
  },
  {
   "cell_type": "markdown",
   "metadata": {},
   "source": [
    "By [Amy O'Kruk](https://twitter.com/amyokruk)"
   ]
  },
  {
   "cell_type": "markdown",
   "metadata": {},
   "source": [
    "Downloads data on vaccine doses administered by county and statewide from a Tableau-powered dashboard from the California Department of Public Health."
   ]
  },
  {
   "cell_type": "code",
   "execution_count": 1,
   "metadata": {
    "execution": {
     "iopub.execute_input": "2021-03-23T08:49:03.917336Z",
     "iopub.status.busy": "2021-03-23T08:49:03.916731Z",
     "iopub.status.idle": "2021-03-23T08:49:04.375308Z",
     "shell.execute_reply": "2021-03-23T08:49:04.374199Z"
    }
   },
   "outputs": [],
   "source": [
    "import pandas as pd\n",
    "import requests\n",
    "from bs4 import BeautifulSoup\n",
    "import json\n",
    "import re\n",
    "import time\n",
    "from time import gmtime, strftime \n",
    "import os\n",
    "import pytz\n",
    "from datetime import datetime"
   ]
  },
  {
   "cell_type": "markdown",
   "metadata": {},
   "source": [
    "Scrape the dashboard page"
   ]
  },
  {
   "cell_type": "code",
   "execution_count": 2,
   "metadata": {
    "execution": {
     "iopub.execute_input": "2021-03-23T08:49:04.382227Z",
     "iopub.status.busy": "2021-03-23T08:49:04.379131Z",
     "iopub.status.idle": "2021-03-23T08:49:04.707772Z",
     "shell.execute_reply": "2021-03-23T08:49:04.706749Z"
    }
   },
   "outputs": [],
   "source": [
    "url = \"https://public.tableau.com/interactive/views/COVID-19VaccineDashboardPublic/Vaccine?:embed=y&:showVizHome=n&:apiID=host0\"\n",
    "\n",
    "r = requests.get(url)\n",
    "soup = BeautifulSoup(r.text, \"html.parser\")"
   ]
  },
  {
   "cell_type": "code",
   "execution_count": 3,
   "metadata": {
    "execution": {
     "iopub.execute_input": "2021-03-23T08:49:04.712679Z",
     "iopub.status.busy": "2021-03-23T08:49:04.712157Z",
     "iopub.status.idle": "2021-03-23T08:49:04.715308Z",
     "shell.execute_reply": "2021-03-23T08:49:04.715767Z"
    }
   },
   "outputs": [],
   "source": [
    "tableauData = json.loads(soup.find(\"textarea\",{\"id\": \"tsConfigContainer\"}).text)"
   ]
  },
  {
   "cell_type": "markdown",
   "metadata": {},
   "source": [
    "Get the link to the Tableau data"
   ]
  },
  {
   "cell_type": "code",
   "execution_count": 4,
   "metadata": {
    "execution": {
     "iopub.execute_input": "2021-03-23T08:49:04.719342Z",
     "iopub.status.busy": "2021-03-23T08:49:04.718817Z",
     "iopub.status.idle": "2021-03-23T08:49:04.721877Z",
     "shell.execute_reply": "2021-03-23T08:49:04.722306Z"
    }
   },
   "outputs": [],
   "source": [
    "dataUrl = f'https://public.tableau.com{tableauData[\"vizql_root\"]}/bootstrapSession/sessions/{tableauData[\"sessionid\"]}'"
   ]
  },
  {
   "cell_type": "code",
   "execution_count": 5,
   "metadata": {
    "execution": {
     "iopub.execute_input": "2021-03-23T08:49:04.729110Z",
     "iopub.status.busy": "2021-03-23T08:49:04.728589Z",
     "iopub.status.idle": "2021-03-23T08:49:05.039382Z",
     "shell.execute_reply": "2021-03-23T08:49:05.038355Z"
    }
   },
   "outputs": [],
   "source": [
    "r = requests.post(dataUrl, data= {\n",
    "    \"sheet_id\": tableauData[\"sheetId\"],\n",
    "})\n",
    "\n",
    "dataReg = re.search('\\d+;({.*})\\d+;({.*})', r.text, re.MULTILINE)\n",
    "data1 = json.loads(dataReg.group(2))\n",
    "\n",
    "dataJson = data1[\"secondaryInfo\"][\"presModelMap\"][\"dataDictionary\"][\"presModelHolder\"][\"genDataDictionaryPresModel\"][\"dataSegments\"][\"0\"][\"dataColumns\"]"
   ]
  },
  {
   "cell_type": "markdown",
   "metadata": {},
   "source": [
    "Isolate what you want"
   ]
  },
  {
   "cell_type": "code",
   "execution_count": 6,
   "metadata": {
    "execution": {
     "iopub.execute_input": "2021-03-23T08:49:05.043068Z",
     "iopub.status.busy": "2021-03-23T08:49:05.042592Z",
     "iopub.status.idle": "2021-03-23T08:49:05.045719Z",
     "shell.execute_reply": "2021-03-23T08:49:05.046152Z"
    }
   },
   "outputs": [],
   "source": [
    "counties = dataJson[2]['dataValues'][:58]"
   ]
  },
  {
   "cell_type": "code",
   "execution_count": 7,
   "metadata": {
    "execution": {
     "iopub.execute_input": "2021-03-23T08:49:05.049885Z",
     "iopub.status.busy": "2021-03-23T08:49:05.049374Z",
     "iopub.status.idle": "2021-03-23T08:49:05.052750Z",
     "shell.execute_reply": "2021-03-23T08:49:05.052290Z"
    }
   },
   "outputs": [],
   "source": [
    "doses = dataJson[0]['dataValues'][3:61]"
   ]
  },
  {
   "cell_type": "markdown",
   "metadata": {},
   "source": [
    "Data formatting"
   ]
  },
  {
   "cell_type": "code",
   "execution_count": 8,
   "metadata": {
    "execution": {
     "iopub.execute_input": "2021-03-23T08:49:05.056357Z",
     "iopub.status.busy": "2021-03-23T08:49:05.055840Z",
     "iopub.status.idle": "2021-03-23T08:49:05.059243Z",
     "shell.execute_reply": "2021-03-23T08:49:05.058781Z"
    }
   },
   "outputs": [],
   "source": [
    "zipped = dict(zip(counties, doses))"
   ]
  },
  {
   "cell_type": "code",
   "execution_count": 9,
   "metadata": {
    "execution": {
     "iopub.execute_input": "2021-03-23T08:49:05.065356Z",
     "iopub.status.busy": "2021-03-23T08:49:05.064835Z",
     "iopub.status.idle": "2021-03-23T08:49:05.068315Z",
     "shell.execute_reply": "2021-03-23T08:49:05.067847Z"
    }
   },
   "outputs": [],
   "source": [
    "df = pd.Series(zipped).reset_index()"
   ]
  },
  {
   "cell_type": "code",
   "execution_count": 10,
   "metadata": {
    "execution": {
     "iopub.execute_input": "2021-03-23T08:49:05.072283Z",
     "iopub.status.busy": "2021-03-23T08:49:05.071759Z",
     "iopub.status.idle": "2021-03-23T08:49:05.075166Z",
     "shell.execute_reply": "2021-03-23T08:49:05.074713Z"
    }
   },
   "outputs": [],
   "source": [
    "df.columns = ['location','doses']"
   ]
  },
  {
   "cell_type": "markdown",
   "metadata": {},
   "source": [
    "Grab the overall California total"
   ]
  },
  {
   "cell_type": "code",
   "execution_count": 11,
   "metadata": {
    "execution": {
     "iopub.execute_input": "2021-03-23T08:49:05.079015Z",
     "iopub.status.busy": "2021-03-23T08:49:05.078505Z",
     "iopub.status.idle": "2021-03-23T08:49:05.082058Z",
     "shell.execute_reply": "2021-03-23T08:49:05.081603Z"
    }
   },
   "outputs": [],
   "source": [
    "add = {'location':'California','doses':dataJson[0]['dataValues'][2]}"
   ]
  },
  {
   "cell_type": "code",
   "execution_count": 12,
   "metadata": {
    "execution": {
     "iopub.execute_input": "2021-03-23T08:49:05.088698Z",
     "iopub.status.busy": "2021-03-23T08:49:05.088182Z",
     "iopub.status.idle": "2021-03-23T08:49:05.091829Z",
     "shell.execute_reply": "2021-03-23T08:49:05.091337Z"
    }
   },
   "outputs": [],
   "source": [
    "df = df.append(add, ignore_index=True)"
   ]
  },
  {
   "cell_type": "code",
   "execution_count": 13,
   "metadata": {
    "execution": {
     "iopub.execute_input": "2021-03-23T08:49:05.096462Z",
     "iopub.status.busy": "2021-03-23T08:49:05.095943Z",
     "iopub.status.idle": "2021-03-23T08:49:05.099585Z",
     "shell.execute_reply": "2021-03-23T08:49:05.099096Z"
    }
   },
   "outputs": [],
   "source": [
    "df = df.sort_values(by='location')"
   ]
  },
  {
   "cell_type": "code",
   "execution_count": 14,
   "metadata": {
    "execution": {
     "iopub.execute_input": "2021-03-23T08:49:05.105874Z",
     "iopub.status.busy": "2021-03-23T08:49:05.105343Z",
     "iopub.status.idle": "2021-03-23T08:49:05.108416Z",
     "shell.execute_reply": "2021-03-23T08:49:05.108854Z"
    }
   },
   "outputs": [],
   "source": [
    "df = df[df.location == 'California'].append(df[df.location != 'California']).reset_index(drop=True)"
   ]
  },
  {
   "cell_type": "code",
   "execution_count": null,
   "metadata": {},
   "outputs": [],
   "source": []
  },
  {
   "cell_type": "code",
   "execution_count": 15,
   "metadata": {
    "execution": {
     "iopub.execute_input": "2021-03-23T08:49:05.112650Z",
     "iopub.status.busy": "2021-03-23T08:49:05.112134Z",
     "iopub.status.idle": "2021-03-23T08:49:05.131651Z",
     "shell.execute_reply": "2021-03-23T08:49:05.131061Z"
    }
   },
   "outputs": [],
   "source": [
    "tz = pytz.timezone(\"America/New_York\")"
   ]
  },
  {
   "cell_type": "code",
   "execution_count": 16,
   "metadata": {
    "execution": {
     "iopub.execute_input": "2021-03-23T08:49:05.135881Z",
     "iopub.status.busy": "2021-03-23T08:49:05.135340Z",
     "iopub.status.idle": "2021-03-23T08:49:05.139088Z",
     "shell.execute_reply": "2021-03-23T08:49:05.138631Z"
    }
   },
   "outputs": [],
   "source": [
    "today = datetime.now(tz).date()"
   ]
  },
  {
   "cell_type": "code",
   "execution_count": 17,
   "metadata": {
    "execution": {
     "iopub.execute_input": "2021-03-23T08:49:05.142723Z",
     "iopub.status.busy": "2021-03-23T08:49:05.142217Z",
     "iopub.status.idle": "2021-03-23T08:49:05.145410Z",
     "shell.execute_reply": "2021-03-23T08:49:05.145809Z"
    }
   },
   "outputs": [],
   "source": [
    "data_dir = os.path.join(os.path.abspath(\"\"), \"data\")"
   ]
  },
  {
   "cell_type": "code",
   "execution_count": 18,
   "metadata": {
    "execution": {
     "iopub.execute_input": "2021-03-23T08:49:05.150074Z",
     "iopub.status.busy": "2021-03-23T08:49:05.149568Z",
     "iopub.status.idle": "2021-03-23T08:49:05.154120Z",
     "shell.execute_reply": "2021-03-23T08:49:05.153680Z"
    }
   },
   "outputs": [],
   "source": [
    "df.to_csv(os.path.join(data_dir, f\"{today}.csv\"), index=False)"
   ]
  },
  {
   "cell_type": "code",
   "execution_count": null,
   "metadata": {},
   "outputs": [],
   "source": []
  }
 ],
 "metadata": {
  "kernelspec": {
   "display_name": "Python 3",
   "language": "python",
   "name": "python3"
  },
  "language_info": {
   "codemirror_mode": {
    "name": "ipython",
    "version": 3
   },
   "file_extension": ".py",
   "mimetype": "text/x-python",
   "name": "python",
   "nbconvert_exporter": "python",
   "pygments_lexer": "ipython3",
   "version": "3.8.8"
  }
 },
 "nbformat": 4,
 "nbformat_minor": 4
}
