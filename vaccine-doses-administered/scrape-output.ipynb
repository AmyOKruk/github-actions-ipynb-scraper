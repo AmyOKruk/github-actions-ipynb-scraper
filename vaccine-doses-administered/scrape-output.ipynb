{
 "cells": [
  {
   "cell_type": "markdown",
   "metadata": {},
   "source": [
    "# California COVID vaccinations scrape"
   ]
  },
  {
   "cell_type": "markdown",
   "metadata": {},
   "source": [
    "By [Amy O'Kruk](https://twitter.com/amyokruk)"
   ]
  },
  {
   "cell_type": "markdown",
   "metadata": {},
   "source": [
    "Downloads data on vaccine doses administered by county and statewide from a Tableau-powered dashboard from the California Department of Public Health."
   ]
  },
  {
   "cell_type": "code",
   "execution_count": 1,
   "metadata": {
    "execution": {
     "iopub.execute_input": "2021-03-09T13:15:50.663050Z",
     "iopub.status.busy": "2021-03-09T13:15:50.662321Z",
     "iopub.status.idle": "2021-03-09T13:15:51.019297Z",
     "shell.execute_reply": "2021-03-09T13:15:51.018259Z"
    }
   },
   "outputs": [],
   "source": [
    "import pandas as pd\n",
    "import requests\n",
    "from bs4 import BeautifulSoup\n",
    "import json\n",
    "import re\n",
    "import time\n",
    "from time import gmtime, strftime \n",
    "import os\n",
    "import pytz\n",
    "from datetime import datetime"
   ]
  },
  {
   "cell_type": "markdown",
   "metadata": {},
   "source": [
    "Scrape the dashboard page"
   ]
  },
  {
   "cell_type": "code",
   "execution_count": 2,
   "metadata": {
    "execution": {
     "iopub.execute_input": "2021-03-09T13:15:51.023721Z",
     "iopub.status.busy": "2021-03-09T13:15:51.023234Z",
     "iopub.status.idle": "2021-03-09T13:15:51.504264Z",
     "shell.execute_reply": "2021-03-09T13:15:51.503202Z"
    }
   },
   "outputs": [],
   "source": [
    "url = \"https://public.tableau.com/interactive/views/COVID-19VaccineDashboardPublic/Vaccine?:embed=y&:showVizHome=n&:apiID=host0\"\n",
    "\n",
    "r = requests.get(url)\n",
    "soup = BeautifulSoup(r.text, \"html.parser\")"
   ]
  },
  {
   "cell_type": "code",
   "execution_count": 3,
   "metadata": {
    "execution": {
     "iopub.execute_input": "2021-03-09T13:15:51.508793Z",
     "iopub.status.busy": "2021-03-09T13:15:51.508240Z",
     "iopub.status.idle": "2021-03-09T13:15:51.511913Z",
     "shell.execute_reply": "2021-03-09T13:15:51.511558Z"
    }
   },
   "outputs": [],
   "source": [
    "tableauData = json.loads(soup.find(\"textarea\",{\"id\": \"tsConfigContainer\"}).text)"
   ]
  },
  {
   "cell_type": "markdown",
   "metadata": {},
   "source": [
    "Get the link to the Tableau data"
   ]
  },
  {
   "cell_type": "code",
   "execution_count": 4,
   "metadata": {
    "execution": {
     "iopub.execute_input": "2021-03-09T13:15:51.514991Z",
     "iopub.status.busy": "2021-03-09T13:15:51.514511Z",
     "iopub.status.idle": "2021-03-09T13:15:51.518211Z",
     "shell.execute_reply": "2021-03-09T13:15:51.517828Z"
    }
   },
   "outputs": [],
   "source": [
    "dataUrl = f'https://public.tableau.com{tableauData[\"vizql_root\"]}/bootstrapSession/sessions/{tableauData[\"sessionid\"]}'"
   ]
  },
  {
   "cell_type": "code",
   "execution_count": 5,
   "metadata": {
    "execution": {
     "iopub.execute_input": "2021-03-09T13:15:51.523257Z",
     "iopub.status.busy": "2021-03-09T13:15:51.522780Z",
     "iopub.status.idle": "2021-03-09T13:15:51.744382Z",
     "shell.execute_reply": "2021-03-09T13:15:51.743335Z"
    }
   },
   "outputs": [],
   "source": [
    "r = requests.post(dataUrl, data= {\n",
    "    \"sheet_id\": tableauData[\"sheetId\"],\n",
    "})\n",
    "\n",
    "dataReg = re.search('\\d+;({.*})\\d+;({.*})', r.text, re.MULTILINE)\n",
    "data1 = json.loads(dataReg.group(2))\n",
    "\n",
    "dataJson = data1[\"secondaryInfo\"][\"presModelMap\"][\"dataDictionary\"][\"presModelHolder\"][\"genDataDictionaryPresModel\"][\"dataSegments\"][\"0\"][\"dataColumns\"]"
   ]
  },
  {
   "cell_type": "markdown",
   "metadata": {},
   "source": [
    "Isolate what you want"
   ]
  },
  {
   "cell_type": "code",
   "execution_count": 6,
   "metadata": {
    "execution": {
     "iopub.execute_input": "2021-03-09T13:15:51.747646Z",
     "iopub.status.busy": "2021-03-09T13:15:51.747122Z",
     "iopub.status.idle": "2021-03-09T13:15:51.749933Z",
     "shell.execute_reply": "2021-03-09T13:15:51.750217Z"
    }
   },
   "outputs": [],
   "source": [
    "counties = dataJson[2]['dataValues'][:58]"
   ]
  },
  {
   "cell_type": "code",
   "execution_count": 7,
   "metadata": {
    "execution": {
     "iopub.execute_input": "2021-03-09T13:15:51.752588Z",
     "iopub.status.busy": "2021-03-09T13:15:51.752210Z",
     "iopub.status.idle": "2021-03-09T13:15:51.755161Z",
     "shell.execute_reply": "2021-03-09T13:15:51.754825Z"
    }
   },
   "outputs": [],
   "source": [
    "doses = dataJson[0]['dataValues'][3:61]"
   ]
  },
  {
   "cell_type": "markdown",
   "metadata": {},
   "source": [
    "Data formatting"
   ]
  },
  {
   "cell_type": "code",
   "execution_count": 8,
   "metadata": {
    "execution": {
     "iopub.execute_input": "2021-03-09T13:15:51.758258Z",
     "iopub.status.busy": "2021-03-09T13:15:51.757750Z",
     "iopub.status.idle": "2021-03-09T13:15:51.761134Z",
     "shell.execute_reply": "2021-03-09T13:15:51.761523Z"
    }
   },
   "outputs": [],
   "source": [
    "zipped = dict(zip(counties, doses))"
   ]
  },
  {
   "cell_type": "code",
   "execution_count": 9,
   "metadata": {
    "execution": {
     "iopub.execute_input": "2021-03-09T13:15:51.766740Z",
     "iopub.status.busy": "2021-03-09T13:15:51.766230Z",
     "iopub.status.idle": "2021-03-09T13:15:51.769381Z",
     "shell.execute_reply": "2021-03-09T13:15:51.769749Z"
    }
   },
   "outputs": [],
   "source": [
    "df = pd.Series(zipped).reset_index()"
   ]
  },
  {
   "cell_type": "code",
   "execution_count": 10,
   "metadata": {
    "execution": {
     "iopub.execute_input": "2021-03-09T13:15:51.772804Z",
     "iopub.status.busy": "2021-03-09T13:15:51.772362Z",
     "iopub.status.idle": "2021-03-09T13:15:51.775638Z",
     "shell.execute_reply": "2021-03-09T13:15:51.775191Z"
    }
   },
   "outputs": [],
   "source": [
    "df.columns = ['location','doses']"
   ]
  },
  {
   "cell_type": "markdown",
   "metadata": {},
   "source": [
    "Grab the overall California total"
   ]
  },
  {
   "cell_type": "code",
   "execution_count": 11,
   "metadata": {
    "execution": {
     "iopub.execute_input": "2021-03-09T13:15:51.778768Z",
     "iopub.status.busy": "2021-03-09T13:15:51.778267Z",
     "iopub.status.idle": "2021-03-09T13:15:51.781615Z",
     "shell.execute_reply": "2021-03-09T13:15:51.781993Z"
    }
   },
   "outputs": [],
   "source": [
    "add = {'location':'California','doses':dataJson[0]['dataValues'][2]}"
   ]
  },
  {
   "cell_type": "code",
   "execution_count": 12,
   "metadata": {
    "execution": {
     "iopub.execute_input": "2021-03-09T13:15:51.787156Z",
     "iopub.status.busy": "2021-03-09T13:15:51.786734Z",
     "iopub.status.idle": "2021-03-09T13:15:51.790597Z",
     "shell.execute_reply": "2021-03-09T13:15:51.790226Z"
    }
   },
   "outputs": [],
   "source": [
    "df = df.append(add, ignore_index=True)"
   ]
  },
  {
   "cell_type": "code",
   "execution_count": 13,
   "metadata": {
    "execution": {
     "iopub.execute_input": "2021-03-09T13:15:51.794239Z",
     "iopub.status.busy": "2021-03-09T13:15:51.793734Z",
     "iopub.status.idle": "2021-03-09T13:15:51.797195Z",
     "shell.execute_reply": "2021-03-09T13:15:51.796707Z"
    }
   },
   "outputs": [],
   "source": [
    "df = df.sort_values(by='location')"
   ]
  },
  {
   "cell_type": "code",
   "execution_count": 14,
   "metadata": {
    "execution": {
     "iopub.execute_input": "2021-03-09T13:15:51.802387Z",
     "iopub.status.busy": "2021-03-09T13:15:51.801880Z",
     "iopub.status.idle": "2021-03-09T13:15:51.805218Z",
     "shell.execute_reply": "2021-03-09T13:15:51.804797Z"
    }
   },
   "outputs": [],
   "source": [
    "df = df[df.location == 'California'].append(df[df.location != 'California']).reset_index(drop=True)"
   ]
  },
  {
   "cell_type": "code",
   "execution_count": null,
   "metadata": {},
   "outputs": [],
   "source": []
  },
  {
   "cell_type": "code",
   "execution_count": 15,
   "metadata": {
    "execution": {
     "iopub.execute_input": "2021-03-09T13:15:51.808023Z",
     "iopub.status.busy": "2021-03-09T13:15:51.807605Z",
     "iopub.status.idle": "2021-03-09T13:15:51.822792Z",
     "shell.execute_reply": "2021-03-09T13:15:51.822457Z"
    }
   },
   "outputs": [],
   "source": [
    "tz = pytz.timezone(\"America/New_York\")"
   ]
  },
  {
   "cell_type": "code",
   "execution_count": 16,
   "metadata": {
    "execution": {
     "iopub.execute_input": "2021-03-09T13:15:51.825834Z",
     "iopub.status.busy": "2021-03-09T13:15:51.825330Z",
     "iopub.status.idle": "2021-03-09T13:15:51.828293Z",
     "shell.execute_reply": "2021-03-09T13:15:51.827917Z"
    }
   },
   "outputs": [],
   "source": [
    "today = datetime.now(tz).date()"
   ]
  },
  {
   "cell_type": "code",
   "execution_count": 17,
   "metadata": {
    "execution": {
     "iopub.execute_input": "2021-03-09T13:15:51.831099Z",
     "iopub.status.busy": "2021-03-09T13:15:51.830680Z",
     "iopub.status.idle": "2021-03-09T13:15:51.834374Z",
     "shell.execute_reply": "2021-03-09T13:15:51.834054Z"
    }
   },
   "outputs": [],
   "source": [
    "data_dir = os.path.join(os.path.abspath(\"\"), \"data\")"
   ]
  },
  {
   "cell_type": "code",
   "execution_count": 18,
   "metadata": {
    "execution": {
     "iopub.execute_input": "2021-03-09T13:15:51.838540Z",
     "iopub.status.busy": "2021-03-09T13:15:51.837221Z",
     "iopub.status.idle": "2021-03-09T13:15:51.842527Z",
     "shell.execute_reply": "2021-03-09T13:15:51.842208Z"
    }
   },
   "outputs": [],
   "source": [
    "df.to_csv(os.path.join(data_dir, f\"{today}.csv\"), index=False)"
   ]
  },
  {
   "cell_type": "code",
   "execution_count": null,
   "metadata": {},
   "outputs": [],
   "source": []
  }
 ],
 "metadata": {
  "kernelspec": {
   "display_name": "Python 3",
   "language": "python",
   "name": "python3"
  },
  "language_info": {
   "codemirror_mode": {
    "name": "ipython",
    "version": 3
   },
   "file_extension": ".py",
   "mimetype": "text/x-python",
   "name": "python",
   "nbconvert_exporter": "python",
   "pygments_lexer": "ipython3",
   "version": "3.8.8"
  }
 },
 "nbformat": 4,
 "nbformat_minor": 4
}
