{
 "cells": [
  {
   "cell_type": "markdown",
   "metadata": {},
   "source": [
    "# California COVID vaccinations scrape"
   ]
  },
  {
   "cell_type": "markdown",
   "metadata": {},
   "source": [
    "By [Amy O'Kruk](https://twitter.com/amyokruk)"
   ]
  },
  {
   "cell_type": "markdown",
   "metadata": {},
   "source": [
    "Downloads data on vaccine doses administered by county and statewide from a Tableau-powered dashboard from the California Department of Public Health."
   ]
  },
  {
   "cell_type": "code",
   "execution_count": 1,
   "metadata": {
    "execution": {
     "iopub.execute_input": "2021-03-23T08:16:25.187995Z",
     "iopub.status.busy": "2021-03-23T08:16:25.185983Z",
     "iopub.status.idle": "2021-03-23T08:16:25.573735Z",
     "shell.execute_reply": "2021-03-23T08:16:25.573173Z"
    }
   },
   "outputs": [],
   "source": [
    "import pandas as pd\n",
    "import requests\n",
    "from bs4 import BeautifulSoup\n",
    "import json\n",
    "import re\n",
    "import time\n",
    "from time import gmtime, strftime \n",
    "import os\n",
    "import pytz\n",
    "from datetime import datetime"
   ]
  },
  {
   "cell_type": "markdown",
   "metadata": {},
   "source": [
    "Scrape the dashboard page"
   ]
  },
  {
   "cell_type": "code",
   "execution_count": 2,
   "metadata": {
    "execution": {
     "iopub.execute_input": "2021-03-23T08:16:25.580191Z",
     "iopub.status.busy": "2021-03-23T08:16:25.577400Z",
     "iopub.status.idle": "2021-03-23T08:16:26.771941Z",
     "shell.execute_reply": "2021-03-23T08:16:26.771501Z"
    }
   },
   "outputs": [],
   "source": [
    "url = \"https://public.tableau.com/interactive/views/COVID-19VaccineDashboardPublic/Vaccine?:embed=y&:showVizHome=n&:apiID=host0\"\n",
    "\n",
    "r = requests.get(url)\n",
    "soup = BeautifulSoup(r.text, \"html.parser\")"
   ]
  },
  {
   "cell_type": "code",
   "execution_count": 3,
   "metadata": {
    "execution": {
     "iopub.execute_input": "2021-03-23T08:16:26.776829Z",
     "iopub.status.busy": "2021-03-23T08:16:26.776323Z",
     "iopub.status.idle": "2021-03-23T08:16:26.779969Z",
     "shell.execute_reply": "2021-03-23T08:16:26.779585Z"
    }
   },
   "outputs": [],
   "source": [
    "tableauData = json.loads(soup.find(\"textarea\",{\"id\": \"tsConfigContainer\"}).text)"
   ]
  },
  {
   "cell_type": "markdown",
   "metadata": {},
   "source": [
    "Get the link to the Tableau data"
   ]
  },
  {
   "cell_type": "code",
   "execution_count": 4,
   "metadata": {
    "execution": {
     "iopub.execute_input": "2021-03-23T08:16:26.783759Z",
     "iopub.status.busy": "2021-03-23T08:16:26.783217Z",
     "iopub.status.idle": "2021-03-23T08:16:26.786899Z",
     "shell.execute_reply": "2021-03-23T08:16:26.786239Z"
    }
   },
   "outputs": [],
   "source": [
    "dataUrl = f'https://public.tableau.com{tableauData[\"vizql_root\"]}/bootstrapSession/sessions/{tableauData[\"sessionid\"]}'"
   ]
  },
  {
   "cell_type": "code",
   "execution_count": 5,
   "metadata": {
    "execution": {
     "iopub.execute_input": "2021-03-23T08:16:26.793181Z",
     "iopub.status.busy": "2021-03-23T08:16:26.792578Z",
     "iopub.status.idle": "2021-03-23T08:16:27.159400Z",
     "shell.execute_reply": "2021-03-23T08:16:27.158729Z"
    }
   },
   "outputs": [],
   "source": [
    "r = requests.post(dataUrl, data= {\n",
    "    \"sheet_id\": tableauData[\"sheetId\"],\n",
    "})\n",
    "\n",
    "dataReg = re.search('\\d+;({.*})\\d+;({.*})', r.text, re.MULTILINE)\n",
    "data1 = json.loads(dataReg.group(2))\n",
    "\n",
    "dataJson = data1[\"secondaryInfo\"][\"presModelMap\"][\"dataDictionary\"][\"presModelHolder\"][\"genDataDictionaryPresModel\"][\"dataSegments\"][\"0\"][\"dataColumns\"]"
   ]
  },
  {
   "cell_type": "markdown",
   "metadata": {},
   "source": [
    "Isolate what you want"
   ]
  },
  {
   "cell_type": "code",
   "execution_count": 6,
   "metadata": {
    "execution": {
     "iopub.execute_input": "2021-03-23T08:16:27.164473Z",
     "iopub.status.busy": "2021-03-23T08:16:27.163186Z",
     "iopub.status.idle": "2021-03-23T08:16:27.165238Z",
     "shell.execute_reply": "2021-03-23T08:16:27.165739Z"
    }
   },
   "outputs": [],
   "source": [
    "counties = dataJson[2]['dataValues'][:58]"
   ]
  },
  {
   "cell_type": "code",
   "execution_count": 7,
   "metadata": {
    "execution": {
     "iopub.execute_input": "2021-03-23T08:16:27.170602Z",
     "iopub.status.busy": "2021-03-23T08:16:27.169079Z",
     "iopub.status.idle": "2021-03-23T08:16:27.171251Z",
     "shell.execute_reply": "2021-03-23T08:16:27.171881Z"
    }
   },
   "outputs": [],
   "source": [
    "doses = dataJson[0]['dataValues'][3:61]"
   ]
  },
  {
   "cell_type": "markdown",
   "metadata": {},
   "source": [
    "Data formatting"
   ]
  },
  {
   "cell_type": "code",
   "execution_count": 8,
   "metadata": {
    "execution": {
     "iopub.execute_input": "2021-03-23T08:16:27.176577Z",
     "iopub.status.busy": "2021-03-23T08:16:27.175159Z",
     "iopub.status.idle": "2021-03-23T08:16:27.177169Z",
     "shell.execute_reply": "2021-03-23T08:16:27.177596Z"
    }
   },
   "outputs": [],
   "source": [
    "zipped = dict(zip(counties, doses))"
   ]
  },
  {
   "cell_type": "code",
   "execution_count": 9,
   "metadata": {
    "execution": {
     "iopub.execute_input": "2021-03-23T08:16:27.184341Z",
     "iopub.status.busy": "2021-03-23T08:16:27.183078Z",
     "iopub.status.idle": "2021-03-23T08:16:27.185074Z",
     "shell.execute_reply": "2021-03-23T08:16:27.185541Z"
    }
   },
   "outputs": [],
   "source": [
    "df = pd.Series(zipped).reset_index()"
   ]
  },
  {
   "cell_type": "code",
   "execution_count": 10,
   "metadata": {
    "execution": {
     "iopub.execute_input": "2021-03-23T08:16:27.190597Z",
     "iopub.status.busy": "2021-03-23T08:16:27.189379Z",
     "iopub.status.idle": "2021-03-23T08:16:27.191194Z",
     "shell.execute_reply": "2021-03-23T08:16:27.191608Z"
    }
   },
   "outputs": [],
   "source": [
    "df.columns = ['location','doses']"
   ]
  },
  {
   "cell_type": "markdown",
   "metadata": {},
   "source": [
    "Grab the overall California total"
   ]
  },
  {
   "cell_type": "code",
   "execution_count": 11,
   "metadata": {
    "execution": {
     "iopub.execute_input": "2021-03-23T08:16:27.196232Z",
     "iopub.status.busy": "2021-03-23T08:16:27.194949Z",
     "iopub.status.idle": "2021-03-23T08:16:27.196883Z",
     "shell.execute_reply": "2021-03-23T08:16:27.197299Z"
    }
   },
   "outputs": [],
   "source": [
    "add = {'location':'California','doses':dataJson[0]['dataValues'][2]}"
   ]
  },
  {
   "cell_type": "code",
   "execution_count": 12,
   "metadata": {
    "execution": {
     "iopub.execute_input": "2021-03-23T08:16:27.205146Z",
     "iopub.status.busy": "2021-03-23T08:16:27.203737Z",
     "iopub.status.idle": "2021-03-23T08:16:27.205734Z",
     "shell.execute_reply": "2021-03-23T08:16:27.206174Z"
    }
   },
   "outputs": [],
   "source": [
    "df = df.append(add, ignore_index=True)"
   ]
  },
  {
   "cell_type": "code",
   "execution_count": 13,
   "metadata": {
    "execution": {
     "iopub.execute_input": "2021-03-23T08:16:27.211444Z",
     "iopub.status.busy": "2021-03-23T08:16:27.210207Z",
     "iopub.status.idle": "2021-03-23T08:16:27.212108Z",
     "shell.execute_reply": "2021-03-23T08:16:27.212634Z"
    }
   },
   "outputs": [],
   "source": [
    "df = df.sort_values(by='location')"
   ]
  },
  {
   "cell_type": "code",
   "execution_count": 14,
   "metadata": {
    "execution": {
     "iopub.execute_input": "2021-03-23T08:16:27.219676Z",
     "iopub.status.busy": "2021-03-23T08:16:27.218145Z",
     "iopub.status.idle": "2021-03-23T08:16:27.220318Z",
     "shell.execute_reply": "2021-03-23T08:16:27.220770Z"
    }
   },
   "outputs": [],
   "source": [
    "df = df[df.location == 'California'].append(df[df.location != 'California']).reset_index(drop=True)"
   ]
  },
  {
   "cell_type": "code",
   "execution_count": null,
   "metadata": {},
   "outputs": [],
   "source": []
  },
  {
   "cell_type": "code",
   "execution_count": 15,
   "metadata": {
    "execution": {
     "iopub.execute_input": "2021-03-23T08:16:27.224408Z",
     "iopub.status.busy": "2021-03-23T08:16:27.223780Z",
     "iopub.status.idle": "2021-03-23T08:16:27.244221Z",
     "shell.execute_reply": "2021-03-23T08:16:27.244719Z"
    }
   },
   "outputs": [],
   "source": [
    "tz = pytz.timezone(\"America/New_York\")"
   ]
  },
  {
   "cell_type": "code",
   "execution_count": 16,
   "metadata": {
    "execution": {
     "iopub.execute_input": "2021-03-23T08:16:27.249984Z",
     "iopub.status.busy": "2021-03-23T08:16:27.248298Z",
     "iopub.status.idle": "2021-03-23T08:16:27.250762Z",
     "shell.execute_reply": "2021-03-23T08:16:27.251254Z"
    }
   },
   "outputs": [],
   "source": [
    "today = datetime.now(tz).date()"
   ]
  },
  {
   "cell_type": "code",
   "execution_count": 17,
   "metadata": {
    "execution": {
     "iopub.execute_input": "2021-03-23T08:16:27.256893Z",
     "iopub.status.busy": "2021-03-23T08:16:27.255469Z",
     "iopub.status.idle": "2021-03-23T08:16:27.257503Z",
     "shell.execute_reply": "2021-03-23T08:16:27.257931Z"
    }
   },
   "outputs": [],
   "source": [
    "data_dir = os.path.join(os.path.abspath(\"\"), \"data\")"
   ]
  },
  {
   "cell_type": "code",
   "execution_count": 18,
   "metadata": {
    "execution": {
     "iopub.execute_input": "2021-03-23T08:16:27.264178Z",
     "iopub.status.busy": "2021-03-23T08:16:27.261139Z",
     "iopub.status.idle": "2021-03-23T08:16:27.266579Z",
     "shell.execute_reply": "2021-03-23T08:16:27.267052Z"
    }
   },
   "outputs": [],
   "source": [
    "df.to_csv(os.path.join(data_dir, f\"{today}.csv\"), index=False)"
   ]
  },
  {
   "cell_type": "code",
   "execution_count": null,
   "metadata": {},
   "outputs": [],
   "source": []
  }
 ],
 "metadata": {
  "kernelspec": {
   "display_name": "Python 3",
   "language": "python",
   "name": "python3"
  },
  "language_info": {
   "codemirror_mode": {
    "name": "ipython",
    "version": 3
   },
   "file_extension": ".py",
   "mimetype": "text/x-python",
   "name": "python",
   "nbconvert_exporter": "python",
   "pygments_lexer": "ipython3",
   "version": "3.8.8"
  }
 },
 "nbformat": 4,
 "nbformat_minor": 4
}
