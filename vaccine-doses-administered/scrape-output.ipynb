{
 "cells": [
  {
   "cell_type": "markdown",
   "metadata": {},
   "source": [
    "# California COVID vaccinations scrape"
   ]
  },
  {
   "cell_type": "markdown",
   "metadata": {},
   "source": [
    "By [Amy O'Kruk](https://twitter.com/amyokruk)"
   ]
  },
  {
   "cell_type": "markdown",
   "metadata": {},
   "source": [
    "Downloads data on vaccine doses administered by county and statewide from a Tableau-powered dashboard from the California Department of Public Health."
   ]
  },
  {
   "cell_type": "code",
   "execution_count": 1,
   "metadata": {
    "execution": {
     "iopub.execute_input": "2021-03-11T09:44:42.988258Z",
     "iopub.status.busy": "2021-03-11T09:44:42.986974Z",
     "iopub.status.idle": "2021-03-11T09:44:43.398199Z",
     "shell.execute_reply": "2021-03-11T09:44:43.397078Z"
    }
   },
   "outputs": [],
   "source": [
    "import pandas as pd\n",
    "import requests\n",
    "from bs4 import BeautifulSoup\n",
    "import json\n",
    "import re\n",
    "import time\n",
    "from time import gmtime, strftime \n",
    "import os\n",
    "import pytz\n",
    "from datetime import datetime"
   ]
  },
  {
   "cell_type": "markdown",
   "metadata": {},
   "source": [
    "Scrape the dashboard page"
   ]
  },
  {
   "cell_type": "code",
   "execution_count": 2,
   "metadata": {
    "execution": {
     "iopub.execute_input": "2021-03-11T09:44:43.403410Z",
     "iopub.status.busy": "2021-03-11T09:44:43.402875Z",
     "iopub.status.idle": "2021-03-11T09:44:43.648571Z",
     "shell.execute_reply": "2021-03-11T09:44:43.647542Z"
    }
   },
   "outputs": [],
   "source": [
    "url = \"https://public.tableau.com/interactive/views/COVID-19VaccineDashboardPublic/Vaccine?:embed=y&:showVizHome=n&:apiID=host0\"\n",
    "\n",
    "r = requests.get(url)\n",
    "soup = BeautifulSoup(r.text, \"html.parser\")"
   ]
  },
  {
   "cell_type": "code",
   "execution_count": 3,
   "metadata": {
    "execution": {
     "iopub.execute_input": "2021-03-11T09:44:43.656255Z",
     "iopub.status.busy": "2021-03-11T09:44:43.654891Z",
     "iopub.status.idle": "2021-03-11T09:44:43.660914Z",
     "shell.execute_reply": "2021-03-11T09:44:43.660159Z"
    }
   },
   "outputs": [],
   "source": [
    "tableauData = json.loads(soup.find(\"textarea\",{\"id\": \"tsConfigContainer\"}).text)"
   ]
  },
  {
   "cell_type": "markdown",
   "metadata": {},
   "source": [
    "Get the link to the Tableau data"
   ]
  },
  {
   "cell_type": "code",
   "execution_count": 4,
   "metadata": {
    "execution": {
     "iopub.execute_input": "2021-03-11T09:44:43.667311Z",
     "iopub.status.busy": "2021-03-11T09:44:43.666658Z",
     "iopub.status.idle": "2021-03-11T09:44:43.670628Z",
     "shell.execute_reply": "2021-03-11T09:44:43.670176Z"
    }
   },
   "outputs": [],
   "source": [
    "dataUrl = f'https://public.tableau.com{tableauData[\"vizql_root\"]}/bootstrapSession/sessions/{tableauData[\"sessionid\"]}'"
   ]
  },
  {
   "cell_type": "code",
   "execution_count": 5,
   "metadata": {
    "execution": {
     "iopub.execute_input": "2021-03-11T09:44:43.678700Z",
     "iopub.status.busy": "2021-03-11T09:44:43.678099Z",
     "iopub.status.idle": "2021-03-11T09:44:44.218894Z",
     "shell.execute_reply": "2021-03-11T09:44:44.218045Z"
    }
   },
   "outputs": [],
   "source": [
    "r = requests.post(dataUrl, data= {\n",
    "    \"sheet_id\": tableauData[\"sheetId\"],\n",
    "})\n",
    "\n",
    "dataReg = re.search('\\d+;({.*})\\d+;({.*})', r.text, re.MULTILINE)\n",
    "data1 = json.loads(dataReg.group(2))\n",
    "\n",
    "dataJson = data1[\"secondaryInfo\"][\"presModelMap\"][\"dataDictionary\"][\"presModelHolder\"][\"genDataDictionaryPresModel\"][\"dataSegments\"][\"0\"][\"dataColumns\"]"
   ]
  },
  {
   "cell_type": "markdown",
   "metadata": {},
   "source": [
    "Isolate what you want"
   ]
  },
  {
   "cell_type": "code",
   "execution_count": 6,
   "metadata": {
    "execution": {
     "iopub.execute_input": "2021-03-11T09:44:44.223462Z",
     "iopub.status.busy": "2021-03-11T09:44:44.222935Z",
     "iopub.status.idle": "2021-03-11T09:44:44.224286Z",
     "shell.execute_reply": "2021-03-11T09:44:44.224714Z"
    }
   },
   "outputs": [],
   "source": [
    "counties = dataJson[2]['dataValues'][:58]"
   ]
  },
  {
   "cell_type": "code",
   "execution_count": 7,
   "metadata": {
    "execution": {
     "iopub.execute_input": "2021-03-11T09:44:44.228265Z",
     "iopub.status.busy": "2021-03-11T09:44:44.227750Z",
     "iopub.status.idle": "2021-03-11T09:44:44.229495Z",
     "shell.execute_reply": "2021-03-11T09:44:44.229999Z"
    }
   },
   "outputs": [],
   "source": [
    "doses = dataJson[0]['dataValues'][3:61]"
   ]
  },
  {
   "cell_type": "markdown",
   "metadata": {},
   "source": [
    "Data formatting"
   ]
  },
  {
   "cell_type": "code",
   "execution_count": 8,
   "metadata": {
    "execution": {
     "iopub.execute_input": "2021-03-11T09:44:44.233591Z",
     "iopub.status.busy": "2021-03-11T09:44:44.233028Z",
     "iopub.status.idle": "2021-03-11T09:44:44.235170Z",
     "shell.execute_reply": "2021-03-11T09:44:44.234711Z"
    }
   },
   "outputs": [],
   "source": [
    "zipped = dict(zip(counties, doses))"
   ]
  },
  {
   "cell_type": "code",
   "execution_count": 9,
   "metadata": {
    "execution": {
     "iopub.execute_input": "2021-03-11T09:44:44.240974Z",
     "iopub.status.busy": "2021-03-11T09:44:44.240383Z",
     "iopub.status.idle": "2021-03-11T09:44:44.242784Z",
     "shell.execute_reply": "2021-03-11T09:44:44.242342Z"
    }
   },
   "outputs": [],
   "source": [
    "df = pd.Series(zipped).reset_index()"
   ]
  },
  {
   "cell_type": "code",
   "execution_count": 10,
   "metadata": {
    "execution": {
     "iopub.execute_input": "2021-03-11T09:44:44.246534Z",
     "iopub.status.busy": "2021-03-11T09:44:44.246022Z",
     "iopub.status.idle": "2021-03-11T09:44:44.248191Z",
     "shell.execute_reply": "2021-03-11T09:44:44.247768Z"
    }
   },
   "outputs": [],
   "source": [
    "df.columns = ['location','doses']"
   ]
  },
  {
   "cell_type": "markdown",
   "metadata": {},
   "source": [
    "Grab the overall California total"
   ]
  },
  {
   "cell_type": "code",
   "execution_count": 11,
   "metadata": {
    "execution": {
     "iopub.execute_input": "2021-03-11T09:44:44.251762Z",
     "iopub.status.busy": "2021-03-11T09:44:44.251254Z",
     "iopub.status.idle": "2021-03-11T09:44:44.253065Z",
     "shell.execute_reply": "2021-03-11T09:44:44.253504Z"
    }
   },
   "outputs": [],
   "source": [
    "add = {'location':'California','doses':dataJson[0]['dataValues'][2]}"
   ]
  },
  {
   "cell_type": "code",
   "execution_count": 12,
   "metadata": {
    "execution": {
     "iopub.execute_input": "2021-03-11T09:44:44.260055Z",
     "iopub.status.busy": "2021-03-11T09:44:44.259505Z",
     "iopub.status.idle": "2021-03-11T09:44:44.261520Z",
     "shell.execute_reply": "2021-03-11T09:44:44.261039Z"
    }
   },
   "outputs": [],
   "source": [
    "df = df.append(add, ignore_index=True)"
   ]
  },
  {
   "cell_type": "code",
   "execution_count": 13,
   "metadata": {
    "execution": {
     "iopub.execute_input": "2021-03-11T09:44:44.265744Z",
     "iopub.status.busy": "2021-03-11T09:44:44.265227Z",
     "iopub.status.idle": "2021-03-11T09:44:44.266983Z",
     "shell.execute_reply": "2021-03-11T09:44:44.267411Z"
    }
   },
   "outputs": [],
   "source": [
    "df = df.sort_values(by='location')"
   ]
  },
  {
   "cell_type": "code",
   "execution_count": 14,
   "metadata": {
    "execution": {
     "iopub.execute_input": "2021-03-11T09:44:44.274028Z",
     "iopub.status.busy": "2021-03-11T09:44:44.272764Z",
     "iopub.status.idle": "2021-03-11T09:44:44.274626Z",
     "shell.execute_reply": "2021-03-11T09:44:44.275051Z"
    }
   },
   "outputs": [],
   "source": [
    "df = df[df.location == 'California'].append(df[df.location != 'California']).reset_index(drop=True)"
   ]
  },
  {
   "cell_type": "code",
   "execution_count": null,
   "metadata": {},
   "outputs": [],
   "source": []
  },
  {
   "cell_type": "code",
   "execution_count": 15,
   "metadata": {
    "execution": {
     "iopub.execute_input": "2021-03-11T09:44:44.278464Z",
     "iopub.status.busy": "2021-03-11T09:44:44.277916Z",
     "iopub.status.idle": "2021-03-11T09:44:44.295171Z",
     "shell.execute_reply": "2021-03-11T09:44:44.294690Z"
    }
   },
   "outputs": [],
   "source": [
    "tz = pytz.timezone(\"America/New_York\")"
   ]
  },
  {
   "cell_type": "code",
   "execution_count": 16,
   "metadata": {
    "execution": {
     "iopub.execute_input": "2021-03-11T09:44:44.298598Z",
     "iopub.status.busy": "2021-03-11T09:44:44.298083Z",
     "iopub.status.idle": "2021-03-11T09:44:44.300264Z",
     "shell.execute_reply": "2021-03-11T09:44:44.299809Z"
    }
   },
   "outputs": [],
   "source": [
    "today = datetime.now(tz).date()"
   ]
  },
  {
   "cell_type": "code",
   "execution_count": 17,
   "metadata": {
    "execution": {
     "iopub.execute_input": "2021-03-11T09:44:44.303950Z",
     "iopub.status.busy": "2021-03-11T09:44:44.303409Z",
     "iopub.status.idle": "2021-03-11T09:44:44.305430Z",
     "shell.execute_reply": "2021-03-11T09:44:44.304945Z"
    }
   },
   "outputs": [],
   "source": [
    "data_dir = os.path.join(os.path.abspath(\"\"), \"data\")"
   ]
  },
  {
   "cell_type": "code",
   "execution_count": 18,
   "metadata": {
    "execution": {
     "iopub.execute_input": "2021-03-11T09:44:44.309830Z",
     "iopub.status.busy": "2021-03-11T09:44:44.308560Z",
     "iopub.status.idle": "2021-03-11T09:44:44.313136Z",
     "shell.execute_reply": "2021-03-11T09:44:44.312679Z"
    }
   },
   "outputs": [],
   "source": [
    "df.to_csv(os.path.join(data_dir, f\"{today}.csv\"), index=False)"
   ]
  },
  {
   "cell_type": "code",
   "execution_count": null,
   "metadata": {},
   "outputs": [],
   "source": []
  }
 ],
 "metadata": {
  "kernelspec": {
   "display_name": "Python 3",
   "language": "python",
   "name": "python3"
  },
  "language_info": {
   "codemirror_mode": {
    "name": "ipython",
    "version": 3
   },
   "file_extension": ".py",
   "mimetype": "text/x-python",
   "name": "python",
   "nbconvert_exporter": "python",
   "pygments_lexer": "ipython3",
   "version": "3.8.8"
  }
 },
 "nbformat": 4,
 "nbformat_minor": 4
}
