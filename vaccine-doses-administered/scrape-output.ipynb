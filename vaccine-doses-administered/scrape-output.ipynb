{
 "cells": [
  {
   "cell_type": "markdown",
   "metadata": {},
   "source": [
    "# California COVID vaccinations scrape"
   ]
  },
  {
   "cell_type": "markdown",
   "metadata": {},
   "source": [
    "By [Amy O'Kruk](https://twitter.com/amyokruk)"
   ]
  },
  {
   "cell_type": "markdown",
   "metadata": {},
   "source": [
    "Downloads data on vaccine doses administered by county and statewide from a Tableau-powered dashboard from the California Department of Public Health."
   ]
  },
  {
   "cell_type": "code",
   "execution_count": 1,
   "metadata": {
    "execution": {
     "iopub.execute_input": "2021-03-11T13:41:17.845249Z",
     "iopub.status.busy": "2021-03-11T13:41:17.844522Z",
     "iopub.status.idle": "2021-03-11T13:41:18.246394Z",
     "shell.execute_reply": "2021-03-11T13:41:18.245334Z"
    }
   },
   "outputs": [],
   "source": [
    "import pandas as pd\n",
    "import requests\n",
    "from bs4 import BeautifulSoup\n",
    "import json\n",
    "import re\n",
    "import time\n",
    "from time import gmtime, strftime \n",
    "import os\n",
    "import pytz\n",
    "from datetime import datetime"
   ]
  },
  {
   "cell_type": "markdown",
   "metadata": {},
   "source": [
    "Scrape the dashboard page"
   ]
  },
  {
   "cell_type": "code",
   "execution_count": 2,
   "metadata": {
    "execution": {
     "iopub.execute_input": "2021-03-11T13:41:18.252765Z",
     "iopub.status.busy": "2021-03-11T13:41:18.249811Z",
     "iopub.status.idle": "2021-03-11T13:41:18.754903Z",
     "shell.execute_reply": "2021-03-11T13:41:18.753987Z"
    }
   },
   "outputs": [],
   "source": [
    "url = \"https://public.tableau.com/interactive/views/COVID-19VaccineDashboardPublic/Vaccine?:embed=y&:showVizHome=n&:apiID=host0\"\n",
    "\n",
    "r = requests.get(url)\n",
    "soup = BeautifulSoup(r.text, \"html.parser\")"
   ]
  },
  {
   "cell_type": "code",
   "execution_count": 3,
   "metadata": {
    "execution": {
     "iopub.execute_input": "2021-03-11T13:41:18.760292Z",
     "iopub.status.busy": "2021-03-11T13:41:18.759730Z",
     "iopub.status.idle": "2021-03-11T13:41:18.763816Z",
     "shell.execute_reply": "2021-03-11T13:41:18.762875Z"
    }
   },
   "outputs": [],
   "source": [
    "tableauData = json.loads(soup.find(\"textarea\",{\"id\": \"tsConfigContainer\"}).text)"
   ]
  },
  {
   "cell_type": "markdown",
   "metadata": {},
   "source": [
    "Get the link to the Tableau data"
   ]
  },
  {
   "cell_type": "code",
   "execution_count": 4,
   "metadata": {
    "execution": {
     "iopub.execute_input": "2021-03-11T13:41:18.768560Z",
     "iopub.status.busy": "2021-03-11T13:41:18.767744Z",
     "iopub.status.idle": "2021-03-11T13:41:18.772753Z",
     "shell.execute_reply": "2021-03-11T13:41:18.771994Z"
    }
   },
   "outputs": [],
   "source": [
    "dataUrl = f'https://public.tableau.com{tableauData[\"vizql_root\"]}/bootstrapSession/sessions/{tableauData[\"sessionid\"]}'"
   ]
  },
  {
   "cell_type": "code",
   "execution_count": 5,
   "metadata": {
    "execution": {
     "iopub.execute_input": "2021-03-11T13:41:18.781580Z",
     "iopub.status.busy": "2021-03-11T13:41:18.780603Z",
     "iopub.status.idle": "2021-03-11T13:41:18.929044Z",
     "shell.execute_reply": "2021-03-11T13:41:18.929570Z"
    }
   },
   "outputs": [],
   "source": [
    "r = requests.post(dataUrl, data= {\n",
    "    \"sheet_id\": tableauData[\"sheetId\"],\n",
    "})\n",
    "\n",
    "dataReg = re.search('\\d+;({.*})\\d+;({.*})', r.text, re.MULTILINE)\n",
    "data1 = json.loads(dataReg.group(2))\n",
    "\n",
    "dataJson = data1[\"secondaryInfo\"][\"presModelMap\"][\"dataDictionary\"][\"presModelHolder\"][\"genDataDictionaryPresModel\"][\"dataSegments\"][\"0\"][\"dataColumns\"]"
   ]
  },
  {
   "cell_type": "markdown",
   "metadata": {},
   "source": [
    "Isolate what you want"
   ]
  },
  {
   "cell_type": "code",
   "execution_count": 6,
   "metadata": {
    "execution": {
     "iopub.execute_input": "2021-03-11T13:41:18.933811Z",
     "iopub.status.busy": "2021-03-11T13:41:18.933256Z",
     "iopub.status.idle": "2021-03-11T13:41:18.938969Z",
     "shell.execute_reply": "2021-03-11T13:41:18.937533Z"
    }
   },
   "outputs": [],
   "source": [
    "counties = dataJson[2]['dataValues'][:58]"
   ]
  },
  {
   "cell_type": "code",
   "execution_count": 7,
   "metadata": {
    "execution": {
     "iopub.execute_input": "2021-03-11T13:41:18.942644Z",
     "iopub.status.busy": "2021-03-11T13:41:18.942085Z",
     "iopub.status.idle": "2021-03-11T13:41:18.946006Z",
     "shell.execute_reply": "2021-03-11T13:41:18.945393Z"
    }
   },
   "outputs": [],
   "source": [
    "doses = dataJson[0]['dataValues'][3:61]"
   ]
  },
  {
   "cell_type": "markdown",
   "metadata": {},
   "source": [
    "Data formatting"
   ]
  },
  {
   "cell_type": "code",
   "execution_count": 8,
   "metadata": {
    "execution": {
     "iopub.execute_input": "2021-03-11T13:41:18.949872Z",
     "iopub.status.busy": "2021-03-11T13:41:18.949184Z",
     "iopub.status.idle": "2021-03-11T13:41:18.953260Z",
     "shell.execute_reply": "2021-03-11T13:41:18.952752Z"
    }
   },
   "outputs": [],
   "source": [
    "zipped = dict(zip(counties, doses))"
   ]
  },
  {
   "cell_type": "code",
   "execution_count": 9,
   "metadata": {
    "execution": {
     "iopub.execute_input": "2021-03-11T13:41:18.960178Z",
     "iopub.status.busy": "2021-03-11T13:41:18.958730Z",
     "iopub.status.idle": "2021-03-11T13:41:18.961613Z",
     "shell.execute_reply": "2021-03-11T13:41:18.960989Z"
    }
   },
   "outputs": [],
   "source": [
    "df = pd.Series(zipped).reset_index()"
   ]
  },
  {
   "cell_type": "code",
   "execution_count": 10,
   "metadata": {
    "execution": {
     "iopub.execute_input": "2021-03-11T13:41:18.966800Z",
     "iopub.status.busy": "2021-03-11T13:41:18.965518Z",
     "iopub.status.idle": "2021-03-11T13:41:18.967620Z",
     "shell.execute_reply": "2021-03-11T13:41:18.968071Z"
    }
   },
   "outputs": [],
   "source": [
    "df.columns = ['location','doses']"
   ]
  },
  {
   "cell_type": "markdown",
   "metadata": {},
   "source": [
    "Grab the overall California total"
   ]
  },
  {
   "cell_type": "code",
   "execution_count": 11,
   "metadata": {
    "execution": {
     "iopub.execute_input": "2021-03-11T13:41:18.973418Z",
     "iopub.status.busy": "2021-03-11T13:41:18.971876Z",
     "iopub.status.idle": "2021-03-11T13:41:18.974218Z",
     "shell.execute_reply": "2021-03-11T13:41:18.974804Z"
    }
   },
   "outputs": [],
   "source": [
    "add = {'location':'California','doses':dataJson[0]['dataValues'][2]}"
   ]
  },
  {
   "cell_type": "code",
   "execution_count": 12,
   "metadata": {
    "execution": {
     "iopub.execute_input": "2021-03-11T13:41:18.983251Z",
     "iopub.status.busy": "2021-03-11T13:41:18.981938Z",
     "iopub.status.idle": "2021-03-11T13:41:18.983912Z",
     "shell.execute_reply": "2021-03-11T13:41:18.984416Z"
    }
   },
   "outputs": [],
   "source": [
    "df = df.append(add, ignore_index=True)"
   ]
  },
  {
   "cell_type": "code",
   "execution_count": 13,
   "metadata": {
    "execution": {
     "iopub.execute_input": "2021-03-11T13:41:18.991374Z",
     "iopub.status.busy": "2021-03-11T13:41:18.990032Z",
     "iopub.status.idle": "2021-03-11T13:41:18.992022Z",
     "shell.execute_reply": "2021-03-11T13:41:18.992587Z"
    }
   },
   "outputs": [],
   "source": [
    "df = df.sort_values(by='location')"
   ]
  },
  {
   "cell_type": "code",
   "execution_count": 14,
   "metadata": {
    "execution": {
     "iopub.execute_input": "2021-03-11T13:41:19.000246Z",
     "iopub.status.busy": "2021-03-11T13:41:18.998787Z",
     "iopub.status.idle": "2021-03-11T13:41:19.000934Z",
     "shell.execute_reply": "2021-03-11T13:41:19.001473Z"
    }
   },
   "outputs": [],
   "source": [
    "df = df[df.location == 'California'].append(df[df.location != 'California']).reset_index(drop=True)"
   ]
  },
  {
   "cell_type": "code",
   "execution_count": null,
   "metadata": {},
   "outputs": [],
   "source": []
  },
  {
   "cell_type": "code",
   "execution_count": 15,
   "metadata": {
    "execution": {
     "iopub.execute_input": "2021-03-11T13:41:19.005051Z",
     "iopub.status.busy": "2021-03-11T13:41:19.004485Z",
     "iopub.status.idle": "2021-03-11T13:41:19.023743Z",
     "shell.execute_reply": "2021-03-11T13:41:19.024332Z"
    }
   },
   "outputs": [],
   "source": [
    "tz = pytz.timezone(\"America/New_York\")"
   ]
  },
  {
   "cell_type": "code",
   "execution_count": 16,
   "metadata": {
    "execution": {
     "iopub.execute_input": "2021-03-11T13:41:19.029423Z",
     "iopub.status.busy": "2021-03-11T13:41:19.028388Z",
     "iopub.status.idle": "2021-03-11T13:41:19.030541Z",
     "shell.execute_reply": "2021-03-11T13:41:19.031011Z"
    }
   },
   "outputs": [],
   "source": [
    "today = datetime.now(tz).date()"
   ]
  },
  {
   "cell_type": "code",
   "execution_count": 17,
   "metadata": {
    "execution": {
     "iopub.execute_input": "2021-03-11T13:41:19.036333Z",
     "iopub.status.busy": "2021-03-11T13:41:19.034806Z",
     "iopub.status.idle": "2021-03-11T13:41:19.036991Z",
     "shell.execute_reply": "2021-03-11T13:41:19.037601Z"
    }
   },
   "outputs": [],
   "source": [
    "data_dir = os.path.join(os.path.abspath(\"\"), \"data\")"
   ]
  },
  {
   "cell_type": "code",
   "execution_count": 18,
   "metadata": {
    "execution": {
     "iopub.execute_input": "2021-03-11T13:41:19.041917Z",
     "iopub.status.busy": "2021-03-11T13:41:19.041288Z",
     "iopub.status.idle": "2021-03-11T13:41:19.046092Z",
     "shell.execute_reply": "2021-03-11T13:41:19.046555Z"
    }
   },
   "outputs": [],
   "source": [
    "df.to_csv(os.path.join(data_dir, f\"{today}.csv\"), index=False)"
   ]
  },
  {
   "cell_type": "code",
   "execution_count": null,
   "metadata": {},
   "outputs": [],
   "source": []
  }
 ],
 "metadata": {
  "kernelspec": {
   "display_name": "Python 3",
   "language": "python",
   "name": "python3"
  },
  "language_info": {
   "codemirror_mode": {
    "name": "ipython",
    "version": 3
   },
   "file_extension": ".py",
   "mimetype": "text/x-python",
   "name": "python",
   "nbconvert_exporter": "python",
   "pygments_lexer": "ipython3",
   "version": "3.8.8"
  }
 },
 "nbformat": 4,
 "nbformat_minor": 4
}
