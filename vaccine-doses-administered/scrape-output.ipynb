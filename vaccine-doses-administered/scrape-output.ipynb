{
 "cells": [
  {
   "cell_type": "markdown",
   "metadata": {},
   "source": [
    "# California COVID vaccinations scrape"
   ]
  },
  {
   "cell_type": "markdown",
   "metadata": {},
   "source": [
    "By [Amy O'Kruk](https://twitter.com/amyokruk)"
   ]
  },
  {
   "cell_type": "markdown",
   "metadata": {},
   "source": [
    "Downloads data on vaccine doses administered by county and statewide from a Tableau-powered dashboard from the California Department of Public Health."
   ]
  },
  {
   "cell_type": "code",
   "execution_count": 1,
   "metadata": {
    "execution": {
     "iopub.execute_input": "2021-03-21T04:15:43.635499Z",
     "iopub.status.busy": "2021-03-21T04:15:43.635013Z",
     "iopub.status.idle": "2021-03-21T04:15:43.988110Z",
     "shell.execute_reply": "2021-03-21T04:15:43.986925Z"
    }
   },
   "outputs": [],
   "source": [
    "import pandas as pd\n",
    "import requests\n",
    "from bs4 import BeautifulSoup\n",
    "import json\n",
    "import re\n",
    "import time\n",
    "from time import gmtime, strftime \n",
    "import os\n",
    "import pytz\n",
    "from datetime import datetime"
   ]
  },
  {
   "cell_type": "markdown",
   "metadata": {},
   "source": [
    "Scrape the dashboard page"
   ]
  },
  {
   "cell_type": "code",
   "execution_count": 2,
   "metadata": {
    "execution": {
     "iopub.execute_input": "2021-03-21T04:15:43.993115Z",
     "iopub.status.busy": "2021-03-21T04:15:43.992676Z",
     "iopub.status.idle": "2021-03-21T04:15:44.566902Z",
     "shell.execute_reply": "2021-03-21T04:15:44.566449Z"
    }
   },
   "outputs": [],
   "source": [
    "url = \"https://public.tableau.com/interactive/views/COVID-19VaccineDashboardPublic/Vaccine?:embed=y&:showVizHome=n&:apiID=host0\"\n",
    "\n",
    "r = requests.get(url)\n",
    "soup = BeautifulSoup(r.text, \"html.parser\")"
   ]
  },
  {
   "cell_type": "code",
   "execution_count": 3,
   "metadata": {
    "execution": {
     "iopub.execute_input": "2021-03-21T04:15:44.571062Z",
     "iopub.status.busy": "2021-03-21T04:15:44.570644Z",
     "iopub.status.idle": "2021-03-21T04:15:44.573839Z",
     "shell.execute_reply": "2021-03-21T04:15:44.573464Z"
    }
   },
   "outputs": [],
   "source": [
    "tableauData = json.loads(soup.find(\"textarea\",{\"id\": \"tsConfigContainer\"}).text)"
   ]
  },
  {
   "cell_type": "markdown",
   "metadata": {},
   "source": [
    "Get the link to the Tableau data"
   ]
  },
  {
   "cell_type": "code",
   "execution_count": 4,
   "metadata": {
    "execution": {
     "iopub.execute_input": "2021-03-21T04:15:44.576897Z",
     "iopub.status.busy": "2021-03-21T04:15:44.576165Z",
     "iopub.status.idle": "2021-03-21T04:15:44.577642Z",
     "shell.execute_reply": "2021-03-21T04:15:44.577920Z"
    }
   },
   "outputs": [],
   "source": [
    "dataUrl = f'https://public.tableau.com{tableauData[\"vizql_root\"]}/bootstrapSession/sessions/{tableauData[\"sessionid\"]}'"
   ]
  },
  {
   "cell_type": "code",
   "execution_count": 5,
   "metadata": {
    "execution": {
     "iopub.execute_input": "2021-03-21T04:15:44.583503Z",
     "iopub.status.busy": "2021-03-21T04:15:44.583051Z",
     "iopub.status.idle": "2021-03-21T04:16:06.516939Z",
     "shell.execute_reply": "2021-03-21T04:16:06.516288Z"
    }
   },
   "outputs": [],
   "source": [
    "r = requests.post(dataUrl, data= {\n",
    "    \"sheet_id\": tableauData[\"sheetId\"],\n",
    "})\n",
    "\n",
    "dataReg = re.search('\\d+;({.*})\\d+;({.*})', r.text, re.MULTILINE)\n",
    "data1 = json.loads(dataReg.group(2))\n",
    "\n",
    "dataJson = data1[\"secondaryInfo\"][\"presModelMap\"][\"dataDictionary\"][\"presModelHolder\"][\"genDataDictionaryPresModel\"][\"dataSegments\"][\"0\"][\"dataColumns\"]"
   ]
  },
  {
   "cell_type": "markdown",
   "metadata": {},
   "source": [
    "Isolate what you want"
   ]
  },
  {
   "cell_type": "code",
   "execution_count": 6,
   "metadata": {
    "execution": {
     "iopub.execute_input": "2021-03-21T04:16:06.522010Z",
     "iopub.status.busy": "2021-03-21T04:16:06.520572Z",
     "iopub.status.idle": "2021-03-21T04:16:06.522809Z",
     "shell.execute_reply": "2021-03-21T04:16:06.523339Z"
    }
   },
   "outputs": [],
   "source": [
    "counties = dataJson[2]['dataValues'][:58]"
   ]
  },
  {
   "cell_type": "code",
   "execution_count": 7,
   "metadata": {
    "execution": {
     "iopub.execute_input": "2021-03-21T04:16:06.526961Z",
     "iopub.status.busy": "2021-03-21T04:16:06.526213Z",
     "iopub.status.idle": "2021-03-21T04:16:06.528068Z",
     "shell.execute_reply": "2021-03-21T04:16:06.527718Z"
    }
   },
   "outputs": [],
   "source": [
    "doses = dataJson[0]['dataValues'][3:61]"
   ]
  },
  {
   "cell_type": "markdown",
   "metadata": {},
   "source": [
    "Data formatting"
   ]
  },
  {
   "cell_type": "code",
   "execution_count": 8,
   "metadata": {
    "execution": {
     "iopub.execute_input": "2021-03-21T04:16:06.531198Z",
     "iopub.status.busy": "2021-03-21T04:16:06.530484Z",
     "iopub.status.idle": "2021-03-21T04:16:06.532389Z",
     "shell.execute_reply": "2021-03-21T04:16:06.531953Z"
    }
   },
   "outputs": [],
   "source": [
    "zipped = dict(zip(counties, doses))"
   ]
  },
  {
   "cell_type": "code",
   "execution_count": 9,
   "metadata": {
    "execution": {
     "iopub.execute_input": "2021-03-21T04:16:06.537551Z",
     "iopub.status.busy": "2021-03-21T04:16:06.536840Z",
     "iopub.status.idle": "2021-03-21T04:16:06.538841Z",
     "shell.execute_reply": "2021-03-21T04:16:06.538352Z"
    }
   },
   "outputs": [],
   "source": [
    "df = pd.Series(zipped).reset_index()"
   ]
  },
  {
   "cell_type": "code",
   "execution_count": 10,
   "metadata": {
    "execution": {
     "iopub.execute_input": "2021-03-21T04:16:06.542145Z",
     "iopub.status.busy": "2021-03-21T04:16:06.541408Z",
     "iopub.status.idle": "2021-03-21T04:16:06.543290Z",
     "shell.execute_reply": "2021-03-21T04:16:06.542927Z"
    }
   },
   "outputs": [],
   "source": [
    "df.columns = ['location','doses']"
   ]
  },
  {
   "cell_type": "markdown",
   "metadata": {},
   "source": [
    "Grab the overall California total"
   ]
  },
  {
   "cell_type": "code",
   "execution_count": 11,
   "metadata": {
    "execution": {
     "iopub.execute_input": "2021-03-21T04:16:06.546475Z",
     "iopub.status.busy": "2021-03-21T04:16:06.545737Z",
     "iopub.status.idle": "2021-03-21T04:16:06.547598Z",
     "shell.execute_reply": "2021-03-21T04:16:06.547235Z"
    }
   },
   "outputs": [],
   "source": [
    "add = {'location':'California','doses':dataJson[0]['dataValues'][2]}"
   ]
  },
  {
   "cell_type": "code",
   "execution_count": 12,
   "metadata": {
    "execution": {
     "iopub.execute_input": "2021-03-21T04:16:06.552929Z",
     "iopub.status.busy": "2021-03-21T04:16:06.552565Z",
     "iopub.status.idle": "2021-03-21T04:16:06.554353Z",
     "shell.execute_reply": "2021-03-21T04:16:06.553968Z"
    }
   },
   "outputs": [],
   "source": [
    "df = df.append(add, ignore_index=True)"
   ]
  },
  {
   "cell_type": "code",
   "execution_count": 13,
   "metadata": {
    "execution": {
     "iopub.execute_input": "2021-03-21T04:16:06.557424Z",
     "iopub.status.busy": "2021-03-21T04:16:06.557068Z",
     "iopub.status.idle": "2021-03-21T04:16:06.558835Z",
     "shell.execute_reply": "2021-03-21T04:16:06.558459Z"
    }
   },
   "outputs": [],
   "source": [
    "df = df.sort_values(by='location')"
   ]
  },
  {
   "cell_type": "code",
   "execution_count": 14,
   "metadata": {
    "execution": {
     "iopub.execute_input": "2021-03-21T04:16:06.563594Z",
     "iopub.status.busy": "2021-03-21T04:16:06.562771Z",
     "iopub.status.idle": "2021-03-21T04:16:06.564627Z",
     "shell.execute_reply": "2021-03-21T04:16:06.564288Z"
    }
   },
   "outputs": [],
   "source": [
    "df = df[df.location == 'California'].append(df[df.location != 'California']).reset_index(drop=True)"
   ]
  },
  {
   "cell_type": "code",
   "execution_count": null,
   "metadata": {},
   "outputs": [],
   "source": []
  },
  {
   "cell_type": "code",
   "execution_count": 15,
   "metadata": {
    "execution": {
     "iopub.execute_input": "2021-03-21T04:16:06.567590Z",
     "iopub.status.busy": "2021-03-21T04:16:06.567129Z",
     "iopub.status.idle": "2021-03-21T04:16:06.581464Z",
     "shell.execute_reply": "2021-03-21T04:16:06.581104Z"
    }
   },
   "outputs": [],
   "source": [
    "tz = pytz.timezone(\"America/New_York\")"
   ]
  },
  {
   "cell_type": "code",
   "execution_count": 16,
   "metadata": {
    "execution": {
     "iopub.execute_input": "2021-03-21T04:16:06.585174Z",
     "iopub.status.busy": "2021-03-21T04:16:06.584402Z",
     "iopub.status.idle": "2021-03-21T04:16:06.586335Z",
     "shell.execute_reply": "2021-03-21T04:16:06.585909Z"
    }
   },
   "outputs": [],
   "source": [
    "today = datetime.now(tz).date()"
   ]
  },
  {
   "cell_type": "code",
   "execution_count": 17,
   "metadata": {
    "execution": {
     "iopub.execute_input": "2021-03-21T04:16:06.589596Z",
     "iopub.status.busy": "2021-03-21T04:16:06.588874Z",
     "iopub.status.idle": "2021-03-21T04:16:06.590777Z",
     "shell.execute_reply": "2021-03-21T04:16:06.590348Z"
    }
   },
   "outputs": [],
   "source": [
    "data_dir = os.path.join(os.path.abspath(\"\"), \"data\")"
   ]
  },
  {
   "cell_type": "code",
   "execution_count": 18,
   "metadata": {
    "execution": {
     "iopub.execute_input": "2021-03-21T04:16:06.593880Z",
     "iopub.status.busy": "2021-03-21T04:16:06.593461Z",
     "iopub.status.idle": "2021-03-21T04:16:06.597207Z",
     "shell.execute_reply": "2021-03-21T04:16:06.596775Z"
    }
   },
   "outputs": [],
   "source": [
    "df.to_csv(os.path.join(data_dir, f\"{today}.csv\"), index=False)"
   ]
  },
  {
   "cell_type": "code",
   "execution_count": null,
   "metadata": {},
   "outputs": [],
   "source": []
  }
 ],
 "metadata": {
  "kernelspec": {
   "display_name": "Python 3",
   "language": "python",
   "name": "python3"
  },
  "language_info": {
   "codemirror_mode": {
    "name": "ipython",
    "version": 3
   },
   "file_extension": ".py",
   "mimetype": "text/x-python",
   "name": "python",
   "nbconvert_exporter": "python",
   "pygments_lexer": "ipython3",
   "version": "3.8.8"
  }
 },
 "nbformat": 4,
 "nbformat_minor": 4
}
