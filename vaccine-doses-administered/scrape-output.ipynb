{
 "cells": [
  {
   "cell_type": "markdown",
   "metadata": {},
   "source": [
    "# California COVID vaccinations scrape"
   ]
  },
  {
   "cell_type": "markdown",
   "metadata": {},
   "source": [
    "By [Amy O'Kruk](https://twitter.com/amyokruk)"
   ]
  },
  {
   "cell_type": "markdown",
   "metadata": {},
   "source": [
    "Downloads data on vaccine doses administered by county and statewide from a Tableau-powered dashboard from the California Department of Public Health."
   ]
  },
  {
   "cell_type": "code",
   "execution_count": 1,
   "metadata": {
    "execution": {
     "iopub.execute_input": "2021-03-12T10:43:57.886311Z",
     "iopub.status.busy": "2021-03-12T10:43:57.885660Z",
     "iopub.status.idle": "2021-03-12T10:43:58.322363Z",
     "shell.execute_reply": "2021-03-12T10:43:58.323065Z"
    }
   },
   "outputs": [],
   "source": [
    "import pandas as pd\n",
    "import requests\n",
    "from bs4 import BeautifulSoup\n",
    "import json\n",
    "import re\n",
    "import time\n",
    "from time import gmtime, strftime \n",
    "import os\n",
    "import pytz\n",
    "from datetime import datetime"
   ]
  },
  {
   "cell_type": "markdown",
   "metadata": {},
   "source": [
    "Scrape the dashboard page"
   ]
  },
  {
   "cell_type": "code",
   "execution_count": 2,
   "metadata": {
    "execution": {
     "iopub.execute_input": "2021-03-12T10:43:58.329172Z",
     "iopub.status.busy": "2021-03-12T10:43:58.328612Z",
     "iopub.status.idle": "2021-03-12T10:43:58.986404Z",
     "shell.execute_reply": "2021-03-12T10:43:58.985404Z"
    }
   },
   "outputs": [],
   "source": [
    "url = \"https://public.tableau.com/interactive/views/COVID-19VaccineDashboardPublic/Vaccine?:embed=y&:showVizHome=n&:apiID=host0\"\n",
    "\n",
    "r = requests.get(url)\n",
    "soup = BeautifulSoup(r.text, \"html.parser\")"
   ]
  },
  {
   "cell_type": "code",
   "execution_count": 3,
   "metadata": {
    "execution": {
     "iopub.execute_input": "2021-03-12T10:43:58.993153Z",
     "iopub.status.busy": "2021-03-12T10:43:58.992629Z",
     "iopub.status.idle": "2021-03-12T10:43:58.996272Z",
     "shell.execute_reply": "2021-03-12T10:43:58.996681Z"
    }
   },
   "outputs": [],
   "source": [
    "tableauData = json.loads(soup.find(\"textarea\",{\"id\": \"tsConfigContainer\"}).text)"
   ]
  },
  {
   "cell_type": "markdown",
   "metadata": {},
   "source": [
    "Get the link to the Tableau data"
   ]
  },
  {
   "cell_type": "code",
   "execution_count": 4,
   "metadata": {
    "execution": {
     "iopub.execute_input": "2021-03-12T10:43:59.000152Z",
     "iopub.status.busy": "2021-03-12T10:43:58.999679Z",
     "iopub.status.idle": "2021-03-12T10:43:59.002851Z",
     "shell.execute_reply": "2021-03-12T10:43:59.002453Z"
    }
   },
   "outputs": [],
   "source": [
    "dataUrl = f'https://public.tableau.com{tableauData[\"vizql_root\"]}/bootstrapSession/sessions/{tableauData[\"sessionid\"]}'"
   ]
  },
  {
   "cell_type": "code",
   "execution_count": 5,
   "metadata": {
    "execution": {
     "iopub.execute_input": "2021-03-12T10:43:59.009281Z",
     "iopub.status.busy": "2021-03-12T10:43:59.008791Z",
     "iopub.status.idle": "2021-03-12T10:43:59.183670Z",
     "shell.execute_reply": "2021-03-12T10:43:59.183157Z"
    }
   },
   "outputs": [],
   "source": [
    "r = requests.post(dataUrl, data= {\n",
    "    \"sheet_id\": tableauData[\"sheetId\"],\n",
    "})\n",
    "\n",
    "dataReg = re.search('\\d+;({.*})\\d+;({.*})', r.text, re.MULTILINE)\n",
    "data1 = json.loads(dataReg.group(2))\n",
    "\n",
    "dataJson = data1[\"secondaryInfo\"][\"presModelMap\"][\"dataDictionary\"][\"presModelHolder\"][\"genDataDictionaryPresModel\"][\"dataSegments\"][\"0\"][\"dataColumns\"]"
   ]
  },
  {
   "cell_type": "markdown",
   "metadata": {},
   "source": [
    "Isolate what you want"
   ]
  },
  {
   "cell_type": "code",
   "execution_count": 6,
   "metadata": {
    "execution": {
     "iopub.execute_input": "2021-03-12T10:43:59.188186Z",
     "iopub.status.busy": "2021-03-12T10:43:59.187129Z",
     "iopub.status.idle": "2021-03-12T10:43:59.188738Z",
     "shell.execute_reply": "2021-03-12T10:43:59.189134Z"
    }
   },
   "outputs": [],
   "source": [
    "counties = dataJson[2]['dataValues'][:58]"
   ]
  },
  {
   "cell_type": "code",
   "execution_count": 7,
   "metadata": {
    "execution": {
     "iopub.execute_input": "2021-03-12T10:43:59.193206Z",
     "iopub.status.busy": "2021-03-12T10:43:59.192060Z",
     "iopub.status.idle": "2021-03-12T10:43:59.193859Z",
     "shell.execute_reply": "2021-03-12T10:43:59.194266Z"
    }
   },
   "outputs": [],
   "source": [
    "doses = dataJson[0]['dataValues'][3:61]"
   ]
  },
  {
   "cell_type": "markdown",
   "metadata": {},
   "source": [
    "Data formatting"
   ]
  },
  {
   "cell_type": "code",
   "execution_count": 8,
   "metadata": {
    "execution": {
     "iopub.execute_input": "2021-03-12T10:43:59.198572Z",
     "iopub.status.busy": "2021-03-12T10:43:59.197358Z",
     "iopub.status.idle": "2021-03-12T10:43:59.199129Z",
     "shell.execute_reply": "2021-03-12T10:43:59.199543Z"
    }
   },
   "outputs": [],
   "source": [
    "zipped = dict(zip(counties, doses))"
   ]
  },
  {
   "cell_type": "code",
   "execution_count": 9,
   "metadata": {
    "execution": {
     "iopub.execute_input": "2021-03-12T10:43:59.205758Z",
     "iopub.status.busy": "2021-03-12T10:43:59.204636Z",
     "iopub.status.idle": "2021-03-12T10:43:59.206343Z",
     "shell.execute_reply": "2021-03-12T10:43:59.206766Z"
    }
   },
   "outputs": [],
   "source": [
    "df = pd.Series(zipped).reset_index()"
   ]
  },
  {
   "cell_type": "code",
   "execution_count": 10,
   "metadata": {
    "execution": {
     "iopub.execute_input": "2021-03-12T10:43:59.210521Z",
     "iopub.status.busy": "2021-03-12T10:43:59.209688Z",
     "iopub.status.idle": "2021-03-12T10:43:59.211430Z",
     "shell.execute_reply": "2021-03-12T10:43:59.211858Z"
    }
   },
   "outputs": [],
   "source": [
    "df.columns = ['location','doses']"
   ]
  },
  {
   "cell_type": "markdown",
   "metadata": {},
   "source": [
    "Grab the overall California total"
   ]
  },
  {
   "cell_type": "code",
   "execution_count": 11,
   "metadata": {
    "execution": {
     "iopub.execute_input": "2021-03-12T10:43:59.215835Z",
     "iopub.status.busy": "2021-03-12T10:43:59.214990Z",
     "iopub.status.idle": "2021-03-12T10:43:59.216628Z",
     "shell.execute_reply": "2021-03-12T10:43:59.217027Z"
    }
   },
   "outputs": [],
   "source": [
    "add = {'location':'California','doses':dataJson[0]['dataValues'][2]}"
   ]
  },
  {
   "cell_type": "code",
   "execution_count": 12,
   "metadata": {
    "execution": {
     "iopub.execute_input": "2021-03-12T10:43:59.223634Z",
     "iopub.status.busy": "2021-03-12T10:43:59.222461Z",
     "iopub.status.idle": "2021-03-12T10:43:59.224245Z",
     "shell.execute_reply": "2021-03-12T10:43:59.224644Z"
    }
   },
   "outputs": [],
   "source": [
    "df = df.append(add, ignore_index=True)"
   ]
  },
  {
   "cell_type": "code",
   "execution_count": 13,
   "metadata": {
    "execution": {
     "iopub.execute_input": "2021-03-12T10:43:59.228998Z",
     "iopub.status.busy": "2021-03-12T10:43:59.228148Z",
     "iopub.status.idle": "2021-03-12T10:43:59.229875Z",
     "shell.execute_reply": "2021-03-12T10:43:59.230303Z"
    }
   },
   "outputs": [],
   "source": [
    "df = df.sort_values(by='location')"
   ]
  },
  {
   "cell_type": "code",
   "execution_count": 14,
   "metadata": {
    "execution": {
     "iopub.execute_input": "2021-03-12T10:43:59.236572Z",
     "iopub.status.busy": "2021-03-12T10:43:59.235492Z",
     "iopub.status.idle": "2021-03-12T10:43:59.237254Z",
     "shell.execute_reply": "2021-03-12T10:43:59.237748Z"
    }
   },
   "outputs": [],
   "source": [
    "df = df[df.location == 'California'].append(df[df.location != 'California']).reset_index(drop=True)"
   ]
  },
  {
   "cell_type": "code",
   "execution_count": null,
   "metadata": {},
   "outputs": [],
   "source": []
  },
  {
   "cell_type": "code",
   "execution_count": 15,
   "metadata": {
    "execution": {
     "iopub.execute_input": "2021-03-12T10:43:59.241066Z",
     "iopub.status.busy": "2021-03-12T10:43:59.240556Z",
     "iopub.status.idle": "2021-03-12T10:43:59.257339Z",
     "shell.execute_reply": "2021-03-12T10:43:59.256833Z"
    }
   },
   "outputs": [],
   "source": [
    "tz = pytz.timezone(\"America/New_York\")"
   ]
  },
  {
   "cell_type": "code",
   "execution_count": 16,
   "metadata": {
    "execution": {
     "iopub.execute_input": "2021-03-12T10:43:59.261448Z",
     "iopub.status.busy": "2021-03-12T10:43:59.260258Z",
     "iopub.status.idle": "2021-03-12T10:43:59.261941Z",
     "shell.execute_reply": "2021-03-12T10:43:59.262287Z"
    }
   },
   "outputs": [],
   "source": [
    "today = datetime.now(tz).date()"
   ]
  },
  {
   "cell_type": "code",
   "execution_count": 17,
   "metadata": {
    "execution": {
     "iopub.execute_input": "2021-03-12T10:43:59.266702Z",
     "iopub.status.busy": "2021-03-12T10:43:59.265521Z",
     "iopub.status.idle": "2021-03-12T10:43:59.267249Z",
     "shell.execute_reply": "2021-03-12T10:43:59.267644Z"
    }
   },
   "outputs": [],
   "source": [
    "data_dir = os.path.join(os.path.abspath(\"\"), \"data\")"
   ]
  },
  {
   "cell_type": "code",
   "execution_count": 18,
   "metadata": {
    "execution": {
     "iopub.execute_input": "2021-03-12T10:43:59.271335Z",
     "iopub.status.busy": "2021-03-12T10:43:59.270850Z",
     "iopub.status.idle": "2021-03-12T10:43:59.274972Z",
     "shell.execute_reply": "2021-03-12T10:43:59.274539Z"
    }
   },
   "outputs": [],
   "source": [
    "df.to_csv(os.path.join(data_dir, f\"{today}.csv\"), index=False)"
   ]
  },
  {
   "cell_type": "code",
   "execution_count": null,
   "metadata": {},
   "outputs": [],
   "source": []
  }
 ],
 "metadata": {
  "kernelspec": {
   "display_name": "Python 3",
   "language": "python",
   "name": "python3"
  },
  "language_info": {
   "codemirror_mode": {
    "name": "ipython",
    "version": 3
   },
   "file_extension": ".py",
   "mimetype": "text/x-python",
   "name": "python",
   "nbconvert_exporter": "python",
   "pygments_lexer": "ipython3",
   "version": "3.8.8"
  }
 },
 "nbformat": 4,
 "nbformat_minor": 4
}
