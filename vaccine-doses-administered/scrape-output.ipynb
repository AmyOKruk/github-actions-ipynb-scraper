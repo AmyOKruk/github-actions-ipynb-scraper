{
 "cells": [
  {
   "cell_type": "markdown",
   "metadata": {},
   "source": [
    "# California COVID vaccinations scrape"
   ]
  },
  {
   "cell_type": "markdown",
   "metadata": {},
   "source": [
    "By [Amy O'Kruk](https://twitter.com/amyokruk)"
   ]
  },
  {
   "cell_type": "markdown",
   "metadata": {},
   "source": [
    "Downloads data on vaccine doses administered by county and statewide from a Tableau-powered dashboard from the California Department of Public Health."
   ]
  },
  {
   "cell_type": "code",
   "execution_count": 1,
   "metadata": {
    "execution": {
     "iopub.execute_input": "2021-03-19T03:45:15.459589Z",
     "iopub.status.busy": "2021-03-19T03:45:15.458490Z",
     "iopub.status.idle": "2021-03-19T03:45:15.979174Z",
     "shell.execute_reply": "2021-03-19T03:45:15.979751Z"
    }
   },
   "outputs": [],
   "source": [
    "import pandas as pd\n",
    "import requests\n",
    "from bs4 import BeautifulSoup\n",
    "import json\n",
    "import re\n",
    "import time\n",
    "from time import gmtime, strftime \n",
    "import os\n",
    "import pytz\n",
    "from datetime import datetime"
   ]
  },
  {
   "cell_type": "markdown",
   "metadata": {},
   "source": [
    "Scrape the dashboard page"
   ]
  },
  {
   "cell_type": "code",
   "execution_count": 2,
   "metadata": {
    "execution": {
     "iopub.execute_input": "2021-03-19T03:45:15.986089Z",
     "iopub.status.busy": "2021-03-19T03:45:15.983792Z",
     "iopub.status.idle": "2021-03-19T03:45:16.356427Z",
     "shell.execute_reply": "2021-03-19T03:45:16.355494Z"
    }
   },
   "outputs": [],
   "source": [
    "url = \"https://public.tableau.com/interactive/views/COVID-19VaccineDashboardPublic/Vaccine?:embed=y&:showVizHome=n&:apiID=host0\"\n",
    "\n",
    "r = requests.get(url)\n",
    "soup = BeautifulSoup(r.text, \"html.parser\")"
   ]
  },
  {
   "cell_type": "code",
   "execution_count": 3,
   "metadata": {
    "execution": {
     "iopub.execute_input": "2021-03-19T03:45:16.361799Z",
     "iopub.status.busy": "2021-03-19T03:45:16.361161Z",
     "iopub.status.idle": "2021-03-19T03:45:16.365694Z",
     "shell.execute_reply": "2021-03-19T03:45:16.364752Z"
    }
   },
   "outputs": [],
   "source": [
    "tableauData = json.loads(soup.find(\"textarea\",{\"id\": \"tsConfigContainer\"}).text)"
   ]
  },
  {
   "cell_type": "markdown",
   "metadata": {},
   "source": [
    "Get the link to the Tableau data"
   ]
  },
  {
   "cell_type": "code",
   "execution_count": 4,
   "metadata": {
    "execution": {
     "iopub.execute_input": "2021-03-19T03:45:16.370476Z",
     "iopub.status.busy": "2021-03-19T03:45:16.369858Z",
     "iopub.status.idle": "2021-03-19T03:45:16.374221Z",
     "shell.execute_reply": "2021-03-19T03:45:16.373672Z"
    }
   },
   "outputs": [],
   "source": [
    "dataUrl = f'https://public.tableau.com{tableauData[\"vizql_root\"]}/bootstrapSession/sessions/{tableauData[\"sessionid\"]}'"
   ]
  },
  {
   "cell_type": "code",
   "execution_count": 5,
   "metadata": {
    "execution": {
     "iopub.execute_input": "2021-03-19T03:45:16.381637Z",
     "iopub.status.busy": "2021-03-19T03:45:16.379173Z",
     "iopub.status.idle": "2021-03-19T03:45:16.884565Z",
     "shell.execute_reply": "2021-03-19T03:45:16.883296Z"
    }
   },
   "outputs": [],
   "source": [
    "r = requests.post(dataUrl, data= {\n",
    "    \"sheet_id\": tableauData[\"sheetId\"],\n",
    "})\n",
    "\n",
    "dataReg = re.search('\\d+;({.*})\\d+;({.*})', r.text, re.MULTILINE)\n",
    "data1 = json.loads(dataReg.group(2))\n",
    "\n",
    "dataJson = data1[\"secondaryInfo\"][\"presModelMap\"][\"dataDictionary\"][\"presModelHolder\"][\"genDataDictionaryPresModel\"][\"dataSegments\"][\"0\"][\"dataColumns\"]"
   ]
  },
  {
   "cell_type": "markdown",
   "metadata": {},
   "source": [
    "Isolate what you want"
   ]
  },
  {
   "cell_type": "code",
   "execution_count": 6,
   "metadata": {
    "execution": {
     "iopub.execute_input": "2021-03-19T03:45:16.889220Z",
     "iopub.status.busy": "2021-03-19T03:45:16.888579Z",
     "iopub.status.idle": "2021-03-19T03:45:16.892880Z",
     "shell.execute_reply": "2021-03-19T03:45:16.892216Z"
    }
   },
   "outputs": [],
   "source": [
    "counties = dataJson[2]['dataValues'][:58]"
   ]
  },
  {
   "cell_type": "code",
   "execution_count": 7,
   "metadata": {
    "execution": {
     "iopub.execute_input": "2021-03-19T03:45:16.897015Z",
     "iopub.status.busy": "2021-03-19T03:45:16.896415Z",
     "iopub.status.idle": "2021-03-19T03:45:16.900414Z",
     "shell.execute_reply": "2021-03-19T03:45:16.901369Z"
    }
   },
   "outputs": [],
   "source": [
    "doses = dataJson[0]['dataValues'][3:61]"
   ]
  },
  {
   "cell_type": "markdown",
   "metadata": {},
   "source": [
    "Data formatting"
   ]
  },
  {
   "cell_type": "code",
   "execution_count": 8,
   "metadata": {
    "execution": {
     "iopub.execute_input": "2021-03-19T03:45:16.905429Z",
     "iopub.status.busy": "2021-03-19T03:45:16.904783Z",
     "iopub.status.idle": "2021-03-19T03:45:16.909287Z",
     "shell.execute_reply": "2021-03-19T03:45:16.908711Z"
    }
   },
   "outputs": [],
   "source": [
    "zipped = dict(zip(counties, doses))"
   ]
  },
  {
   "cell_type": "code",
   "execution_count": 9,
   "metadata": {
    "execution": {
     "iopub.execute_input": "2021-03-19T03:45:16.916191Z",
     "iopub.status.busy": "2021-03-19T03:45:16.915410Z",
     "iopub.status.idle": "2021-03-19T03:45:16.920273Z",
     "shell.execute_reply": "2021-03-19T03:45:16.919477Z"
    }
   },
   "outputs": [],
   "source": [
    "df = pd.Series(zipped).reset_index()"
   ]
  },
  {
   "cell_type": "code",
   "execution_count": 10,
   "metadata": {
    "execution": {
     "iopub.execute_input": "2021-03-19T03:45:16.924162Z",
     "iopub.status.busy": "2021-03-19T03:45:16.923566Z",
     "iopub.status.idle": "2021-03-19T03:45:16.927360Z",
     "shell.execute_reply": "2021-03-19T03:45:16.927792Z"
    }
   },
   "outputs": [],
   "source": [
    "df.columns = ['location','doses']"
   ]
  },
  {
   "cell_type": "markdown",
   "metadata": {},
   "source": [
    "Grab the overall California total"
   ]
  },
  {
   "cell_type": "code",
   "execution_count": 11,
   "metadata": {
    "execution": {
     "iopub.execute_input": "2021-03-19T03:45:16.932300Z",
     "iopub.status.busy": "2021-03-19T03:45:16.931439Z",
     "iopub.status.idle": "2021-03-19T03:45:16.935219Z",
     "shell.execute_reply": "2021-03-19T03:45:16.935701Z"
    }
   },
   "outputs": [],
   "source": [
    "add = {'location':'California','doses':dataJson[0]['dataValues'][2]}"
   ]
  },
  {
   "cell_type": "code",
   "execution_count": 12,
   "metadata": {
    "execution": {
     "iopub.execute_input": "2021-03-19T03:45:16.943138Z",
     "iopub.status.busy": "2021-03-19T03:45:16.942312Z",
     "iopub.status.idle": "2021-03-19T03:45:16.946121Z",
     "shell.execute_reply": "2021-03-19T03:45:16.945627Z"
    }
   },
   "outputs": [],
   "source": [
    "df = df.append(add, ignore_index=True)"
   ]
  },
  {
   "cell_type": "code",
   "execution_count": 13,
   "metadata": {
    "execution": {
     "iopub.execute_input": "2021-03-19T03:45:16.952551Z",
     "iopub.status.busy": "2021-03-19T03:45:16.951029Z",
     "iopub.status.idle": "2021-03-19T03:45:16.953291Z",
     "shell.execute_reply": "2021-03-19T03:45:16.953833Z"
    }
   },
   "outputs": [],
   "source": [
    "df = df.sort_values(by='location')"
   ]
  },
  {
   "cell_type": "code",
   "execution_count": 14,
   "metadata": {
    "execution": {
     "iopub.execute_input": "2021-03-19T03:45:16.961931Z",
     "iopub.status.busy": "2021-03-19T03:45:16.960471Z",
     "iopub.status.idle": "2021-03-19T03:45:16.962610Z",
     "shell.execute_reply": "2021-03-19T03:45:16.963968Z"
    }
   },
   "outputs": [],
   "source": [
    "df = df[df.location == 'California'].append(df[df.location != 'California']).reset_index(drop=True)"
   ]
  },
  {
   "cell_type": "code",
   "execution_count": null,
   "metadata": {},
   "outputs": [],
   "source": []
  },
  {
   "cell_type": "code",
   "execution_count": 15,
   "metadata": {
    "execution": {
     "iopub.execute_input": "2021-03-19T03:45:16.968868Z",
     "iopub.status.busy": "2021-03-19T03:45:16.968167Z",
     "iopub.status.idle": "2021-03-19T03:45:16.988099Z",
     "shell.execute_reply": "2021-03-19T03:45:16.987514Z"
    }
   },
   "outputs": [],
   "source": [
    "tz = pytz.timezone(\"America/New_York\")"
   ]
  },
  {
   "cell_type": "code",
   "execution_count": 16,
   "metadata": {
    "execution": {
     "iopub.execute_input": "2021-03-19T03:45:16.993468Z",
     "iopub.status.busy": "2021-03-19T03:45:16.991728Z",
     "iopub.status.idle": "2021-03-19T03:45:16.994234Z",
     "shell.execute_reply": "2021-03-19T03:45:16.995418Z"
    }
   },
   "outputs": [],
   "source": [
    "today = datetime.now(tz).date()"
   ]
  },
  {
   "cell_type": "code",
   "execution_count": 17,
   "metadata": {
    "execution": {
     "iopub.execute_input": "2021-03-19T03:45:17.001396Z",
     "iopub.status.busy": "2021-03-19T03:45:16.999705Z",
     "iopub.status.idle": "2021-03-19T03:45:17.002160Z",
     "shell.execute_reply": "2021-03-19T03:45:17.002704Z"
    }
   },
   "outputs": [],
   "source": [
    "data_dir = os.path.join(os.path.abspath(\"\"), \"data\")"
   ]
  },
  {
   "cell_type": "code",
   "execution_count": 18,
   "metadata": {
    "execution": {
     "iopub.execute_input": "2021-03-19T03:45:17.017731Z",
     "iopub.status.busy": "2021-03-19T03:45:17.006963Z",
     "iopub.status.idle": "2021-03-19T03:45:17.025442Z",
     "shell.execute_reply": "2021-03-19T03:45:17.026510Z"
    }
   },
   "outputs": [],
   "source": [
    "df.to_csv(os.path.join(data_dir, f\"{today}.csv\"), index=False)"
   ]
  },
  {
   "cell_type": "code",
   "execution_count": null,
   "metadata": {},
   "outputs": [],
   "source": []
  }
 ],
 "metadata": {
  "kernelspec": {
   "display_name": "Python 3",
   "language": "python",
   "name": "python3"
  },
  "language_info": {
   "codemirror_mode": {
    "name": "ipython",
    "version": 3
   },
   "file_extension": ".py",
   "mimetype": "text/x-python",
   "name": "python",
   "nbconvert_exporter": "python",
   "pygments_lexer": "ipython3",
   "version": "3.8.8"
  }
 },
 "nbformat": 4,
 "nbformat_minor": 4
}
