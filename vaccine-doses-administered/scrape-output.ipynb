{
 "cells": [
  {
   "cell_type": "markdown",
   "metadata": {},
   "source": [
    "# California COVID vaccinations scrape"
   ]
  },
  {
   "cell_type": "markdown",
   "metadata": {},
   "source": [
    "By [Amy O'Kruk](https://twitter.com/amyokruk)"
   ]
  },
  {
   "cell_type": "markdown",
   "metadata": {},
   "source": [
    "Downloads data on vaccine doses administered by county and statewide from a Tableau-powered dashboard from the California Department of Public Health."
   ]
  },
  {
   "cell_type": "code",
   "execution_count": 1,
   "metadata": {
    "execution": {
     "iopub.execute_input": "2021-03-14T13:15:28.237511Z",
     "iopub.status.busy": "2021-03-14T13:15:28.236827Z",
     "iopub.status.idle": "2021-03-14T13:15:28.615550Z",
     "shell.execute_reply": "2021-03-14T13:15:28.614708Z"
    }
   },
   "outputs": [],
   "source": [
    "import pandas as pd\n",
    "import requests\n",
    "from bs4 import BeautifulSoup\n",
    "import json\n",
    "import re\n",
    "import time\n",
    "from time import gmtime, strftime \n",
    "import os\n",
    "import pytz\n",
    "from datetime import datetime"
   ]
  },
  {
   "cell_type": "markdown",
   "metadata": {},
   "source": [
    "Scrape the dashboard page"
   ]
  },
  {
   "cell_type": "code",
   "execution_count": 2,
   "metadata": {
    "execution": {
     "iopub.execute_input": "2021-03-14T13:15:28.621037Z",
     "iopub.status.busy": "2021-03-14T13:15:28.618820Z",
     "iopub.status.idle": "2021-03-14T13:15:29.182708Z",
     "shell.execute_reply": "2021-03-14T13:15:29.182186Z"
    }
   },
   "outputs": [],
   "source": [
    "url = \"https://public.tableau.com/interactive/views/COVID-19VaccineDashboardPublic/Vaccine?:embed=y&:showVizHome=n&:apiID=host0\"\n",
    "\n",
    "r = requests.get(url)\n",
    "soup = BeautifulSoup(r.text, \"html.parser\")"
   ]
  },
  {
   "cell_type": "code",
   "execution_count": 3,
   "metadata": {
    "execution": {
     "iopub.execute_input": "2021-03-14T13:15:29.187108Z",
     "iopub.status.busy": "2021-03-14T13:15:29.186523Z",
     "iopub.status.idle": "2021-03-14T13:15:29.189625Z",
     "shell.execute_reply": "2021-03-14T13:15:29.190047Z"
    }
   },
   "outputs": [],
   "source": [
    "tableauData = json.loads(soup.find(\"textarea\",{\"id\": \"tsConfigContainer\"}).text)"
   ]
  },
  {
   "cell_type": "markdown",
   "metadata": {},
   "source": [
    "Get the link to the Tableau data"
   ]
  },
  {
   "cell_type": "code",
   "execution_count": 4,
   "metadata": {
    "execution": {
     "iopub.execute_input": "2021-03-14T13:15:29.194595Z",
     "iopub.status.busy": "2021-03-14T13:15:29.193351Z",
     "iopub.status.idle": "2021-03-14T13:15:29.195295Z",
     "shell.execute_reply": "2021-03-14T13:15:29.195744Z"
    }
   },
   "outputs": [],
   "source": [
    "dataUrl = f'https://public.tableau.com{tableauData[\"vizql_root\"]}/bootstrapSession/sessions/{tableauData[\"sessionid\"]}'"
   ]
  },
  {
   "cell_type": "code",
   "execution_count": 5,
   "metadata": {
    "execution": {
     "iopub.execute_input": "2021-03-14T13:15:29.201891Z",
     "iopub.status.busy": "2021-03-14T13:15:29.201357Z",
     "iopub.status.idle": "2021-03-14T13:15:29.431042Z",
     "shell.execute_reply": "2021-03-14T13:15:29.430539Z"
    }
   },
   "outputs": [],
   "source": [
    "r = requests.post(dataUrl, data= {\n",
    "    \"sheet_id\": tableauData[\"sheetId\"],\n",
    "})\n",
    "\n",
    "dataReg = re.search('\\d+;({.*})\\d+;({.*})', r.text, re.MULTILINE)\n",
    "data1 = json.loads(dataReg.group(2))\n",
    "\n",
    "dataJson = data1[\"secondaryInfo\"][\"presModelMap\"][\"dataDictionary\"][\"presModelHolder\"][\"genDataDictionaryPresModel\"][\"dataSegments\"][\"0\"][\"dataColumns\"]"
   ]
  },
  {
   "cell_type": "markdown",
   "metadata": {},
   "source": [
    "Isolate what you want"
   ]
  },
  {
   "cell_type": "code",
   "execution_count": 6,
   "metadata": {
    "execution": {
     "iopub.execute_input": "2021-03-14T13:15:29.435491Z",
     "iopub.status.busy": "2021-03-14T13:15:29.434266Z",
     "iopub.status.idle": "2021-03-14T13:15:29.436168Z",
     "shell.execute_reply": "2021-03-14T13:15:29.436625Z"
    }
   },
   "outputs": [],
   "source": [
    "counties = dataJson[2]['dataValues'][:58]"
   ]
  },
  {
   "cell_type": "code",
   "execution_count": 7,
   "metadata": {
    "execution": {
     "iopub.execute_input": "2021-03-14T13:15:29.441129Z",
     "iopub.status.busy": "2021-03-14T13:15:29.439636Z",
     "iopub.status.idle": "2021-03-14T13:15:29.441800Z",
     "shell.execute_reply": "2021-03-14T13:15:29.442240Z"
    }
   },
   "outputs": [],
   "source": [
    "doses = dataJson[0]['dataValues'][3:61]"
   ]
  },
  {
   "cell_type": "markdown",
   "metadata": {},
   "source": [
    "Data formatting"
   ]
  },
  {
   "cell_type": "code",
   "execution_count": 8,
   "metadata": {
    "execution": {
     "iopub.execute_input": "2021-03-14T13:15:29.446378Z",
     "iopub.status.busy": "2021-03-14T13:15:29.445309Z",
     "iopub.status.idle": "2021-03-14T13:15:29.447212Z",
     "shell.execute_reply": "2021-03-14T13:15:29.447651Z"
    }
   },
   "outputs": [],
   "source": [
    "zipped = dict(zip(counties, doses))"
   ]
  },
  {
   "cell_type": "code",
   "execution_count": 9,
   "metadata": {
    "execution": {
     "iopub.execute_input": "2021-03-14T13:15:29.453854Z",
     "iopub.status.busy": "2021-03-14T13:15:29.452704Z",
     "iopub.status.idle": "2021-03-14T13:15:29.454543Z",
     "shell.execute_reply": "2021-03-14T13:15:29.455003Z"
    }
   },
   "outputs": [],
   "source": [
    "df = pd.Series(zipped).reset_index()"
   ]
  },
  {
   "cell_type": "code",
   "execution_count": 10,
   "metadata": {
    "execution": {
     "iopub.execute_input": "2021-03-14T13:15:29.459753Z",
     "iopub.status.busy": "2021-03-14T13:15:29.458529Z",
     "iopub.status.idle": "2021-03-14T13:15:29.460328Z",
     "shell.execute_reply": "2021-03-14T13:15:29.460758Z"
    }
   },
   "outputs": [],
   "source": [
    "df.columns = ['location','doses']"
   ]
  },
  {
   "cell_type": "markdown",
   "metadata": {},
   "source": [
    "Grab the overall California total"
   ]
  },
  {
   "cell_type": "code",
   "execution_count": 11,
   "metadata": {
    "execution": {
     "iopub.execute_input": "2021-03-14T13:15:29.464813Z",
     "iopub.status.busy": "2021-03-14T13:15:29.463790Z",
     "iopub.status.idle": "2021-03-14T13:15:29.465499Z",
     "shell.execute_reply": "2021-03-14T13:15:29.465960Z"
    }
   },
   "outputs": [],
   "source": [
    "add = {'location':'California','doses':dataJson[0]['dataValues'][2]}"
   ]
  },
  {
   "cell_type": "code",
   "execution_count": 12,
   "metadata": {
    "execution": {
     "iopub.execute_input": "2021-03-14T13:15:29.473018Z",
     "iopub.status.busy": "2021-03-14T13:15:29.471640Z",
     "iopub.status.idle": "2021-03-14T13:15:29.473582Z",
     "shell.execute_reply": "2021-03-14T13:15:29.474008Z"
    }
   },
   "outputs": [],
   "source": [
    "df = df.append(add, ignore_index=True)"
   ]
  },
  {
   "cell_type": "code",
   "execution_count": 13,
   "metadata": {
    "execution": {
     "iopub.execute_input": "2021-03-14T13:15:29.478504Z",
     "iopub.status.busy": "2021-03-14T13:15:29.477598Z",
     "iopub.status.idle": "2021-03-14T13:15:29.479736Z",
     "shell.execute_reply": "2021-03-14T13:15:29.479311Z"
    }
   },
   "outputs": [],
   "source": [
    "df = df.sort_values(by='location')"
   ]
  },
  {
   "cell_type": "code",
   "execution_count": 14,
   "metadata": {
    "execution": {
     "iopub.execute_input": "2021-03-14T13:15:29.485605Z",
     "iopub.status.busy": "2021-03-14T13:15:29.484700Z",
     "iopub.status.idle": "2021-03-14T13:15:29.486372Z",
     "shell.execute_reply": "2021-03-14T13:15:29.486855Z"
    }
   },
   "outputs": [],
   "source": [
    "df = df[df.location == 'California'].append(df[df.location != 'California']).reset_index(drop=True)"
   ]
  },
  {
   "cell_type": "code",
   "execution_count": null,
   "metadata": {},
   "outputs": [],
   "source": []
  },
  {
   "cell_type": "code",
   "execution_count": 15,
   "metadata": {
    "execution": {
     "iopub.execute_input": "2021-03-14T13:15:29.490213Z",
     "iopub.status.busy": "2021-03-14T13:15:29.489713Z",
     "iopub.status.idle": "2021-03-14T13:15:29.506235Z",
     "shell.execute_reply": "2021-03-14T13:15:29.506663Z"
    }
   },
   "outputs": [],
   "source": [
    "tz = pytz.timezone(\"America/New_York\")"
   ]
  },
  {
   "cell_type": "code",
   "execution_count": 16,
   "metadata": {
    "execution": {
     "iopub.execute_input": "2021-03-14T13:15:29.510573Z",
     "iopub.status.busy": "2021-03-14T13:15:29.509476Z",
     "iopub.status.idle": "2021-03-14T13:15:29.511149Z",
     "shell.execute_reply": "2021-03-14T13:15:29.511574Z"
    }
   },
   "outputs": [],
   "source": [
    "today = datetime.now(tz).date()"
   ]
  },
  {
   "cell_type": "code",
   "execution_count": 17,
   "metadata": {
    "execution": {
     "iopub.execute_input": "2021-03-14T13:15:29.515593Z",
     "iopub.status.busy": "2021-03-14T13:15:29.514460Z",
     "iopub.status.idle": "2021-03-14T13:15:29.516151Z",
     "shell.execute_reply": "2021-03-14T13:15:29.516576Z"
    }
   },
   "outputs": [],
   "source": [
    "data_dir = os.path.join(os.path.abspath(\"\"), \"data\")"
   ]
  },
  {
   "cell_type": "code",
   "execution_count": 18,
   "metadata": {
    "execution": {
     "iopub.execute_input": "2021-03-14T13:15:29.522028Z",
     "iopub.status.busy": "2021-03-14T13:15:29.520977Z",
     "iopub.status.idle": "2021-03-14T13:15:29.524458Z",
     "shell.execute_reply": "2021-03-14T13:15:29.524032Z"
    }
   },
   "outputs": [],
   "source": [
    "df.to_csv(os.path.join(data_dir, f\"{today}.csv\"), index=False)"
   ]
  },
  {
   "cell_type": "code",
   "execution_count": null,
   "metadata": {},
   "outputs": [],
   "source": []
  }
 ],
 "metadata": {
  "kernelspec": {
   "display_name": "Python 3",
   "language": "python",
   "name": "python3"
  },
  "language_info": {
   "codemirror_mode": {
    "name": "ipython",
    "version": 3
   },
   "file_extension": ".py",
   "mimetype": "text/x-python",
   "name": "python",
   "nbconvert_exporter": "python",
   "pygments_lexer": "ipython3",
   "version": "3.8.8"
  }
 },
 "nbformat": 4,
 "nbformat_minor": 4
}
