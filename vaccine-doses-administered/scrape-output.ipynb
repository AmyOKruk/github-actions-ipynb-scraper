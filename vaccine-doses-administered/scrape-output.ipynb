{
 "cells": [
  {
   "cell_type": "markdown",
   "metadata": {},
   "source": [
    "# California COVID vaccinations scrape"
   ]
  },
  {
   "cell_type": "markdown",
   "metadata": {},
   "source": [
    "By [Amy O'Kruk](https://twitter.com/amyokruk)"
   ]
  },
  {
   "cell_type": "markdown",
   "metadata": {},
   "source": [
    "Downloads data on vaccine doses administered by county and statewide from a Tableau-powered dashboard from the California Department of Public Health."
   ]
  },
  {
   "cell_type": "code",
   "execution_count": 1,
   "metadata": {
    "execution": {
     "iopub.execute_input": "2021-03-25T05:56:35.864759Z",
     "iopub.status.busy": "2021-03-25T05:56:35.864089Z",
     "iopub.status.idle": "2021-03-25T05:56:36.365527Z",
     "shell.execute_reply": "2021-03-25T05:56:36.364935Z"
    }
   },
   "outputs": [],
   "source": [
    "import pandas as pd\n",
    "import requests\n",
    "from bs4 import BeautifulSoup\n",
    "import json\n",
    "import re\n",
    "import time\n",
    "from time import gmtime, strftime \n",
    "import os\n",
    "import pytz\n",
    "from datetime import datetime"
   ]
  },
  {
   "cell_type": "markdown",
   "metadata": {},
   "source": [
    "Scrape the dashboard page"
   ]
  },
  {
   "cell_type": "code",
   "execution_count": 2,
   "metadata": {
    "execution": {
     "iopub.execute_input": "2021-03-25T05:56:36.371461Z",
     "iopub.status.busy": "2021-03-25T05:56:36.368863Z",
     "iopub.status.idle": "2021-03-25T05:56:37.037999Z",
     "shell.execute_reply": "2021-03-25T05:56:37.038500Z"
    }
   },
   "outputs": [],
   "source": [
    "url = \"https://public.tableau.com/interactive/views/COVID-19VaccineDashboardPublic/Vaccine?:embed=y&:showVizHome=n&:apiID=host0\"\n",
    "\n",
    "r = requests.get(url)\n",
    "soup = BeautifulSoup(r.text, \"html.parser\")"
   ]
  },
  {
   "cell_type": "code",
   "execution_count": 3,
   "metadata": {
    "execution": {
     "iopub.execute_input": "2021-03-25T05:56:37.043542Z",
     "iopub.status.busy": "2021-03-25T05:56:37.042965Z",
     "iopub.status.idle": "2021-03-25T05:56:37.046317Z",
     "shell.execute_reply": "2021-03-25T05:56:37.046777Z"
    }
   },
   "outputs": [],
   "source": [
    "tableauData = json.loads(soup.find(\"textarea\",{\"id\": \"tsConfigContainer\"}).text)"
   ]
  },
  {
   "cell_type": "markdown",
   "metadata": {},
   "source": [
    "Get the link to the Tableau data"
   ]
  },
  {
   "cell_type": "code",
   "execution_count": 4,
   "metadata": {
    "execution": {
     "iopub.execute_input": "2021-03-25T05:56:37.051700Z",
     "iopub.status.busy": "2021-03-25T05:56:37.050233Z",
     "iopub.status.idle": "2021-03-25T05:56:37.052332Z",
     "shell.execute_reply": "2021-03-25T05:56:37.052810Z"
    }
   },
   "outputs": [],
   "source": [
    "dataUrl = f'https://public.tableau.com{tableauData[\"vizql_root\"]}/bootstrapSession/sessions/{tableauData[\"sessionid\"]}'"
   ]
  },
  {
   "cell_type": "code",
   "execution_count": 5,
   "metadata": {
    "execution": {
     "iopub.execute_input": "2021-03-25T05:56:37.060293Z",
     "iopub.status.busy": "2021-03-25T05:56:37.059700Z",
     "iopub.status.idle": "2021-03-25T05:56:37.583907Z",
     "shell.execute_reply": "2021-03-25T05:56:37.583389Z"
    }
   },
   "outputs": [],
   "source": [
    "r = requests.post(dataUrl, data= {\n",
    "    \"sheet_id\": tableauData[\"sheetId\"],\n",
    "})\n",
    "\n",
    "dataReg = re.search('\\d+;({.*})\\d+;({.*})', r.text, re.MULTILINE)\n",
    "data1 = json.loads(dataReg.group(2))\n",
    "\n",
    "dataJson = data1[\"secondaryInfo\"][\"presModelMap\"][\"dataDictionary\"][\"presModelHolder\"][\"genDataDictionaryPresModel\"][\"dataSegments\"][\"0\"][\"dataColumns\"]"
   ]
  },
  {
   "cell_type": "markdown",
   "metadata": {},
   "source": [
    "Isolate what you want"
   ]
  },
  {
   "cell_type": "code",
   "execution_count": 6,
   "metadata": {
    "execution": {
     "iopub.execute_input": "2021-03-25T05:56:37.588648Z",
     "iopub.status.busy": "2021-03-25T05:56:37.587300Z",
     "iopub.status.idle": "2021-03-25T05:56:37.589274Z",
     "shell.execute_reply": "2021-03-25T05:56:37.589750Z"
    }
   },
   "outputs": [],
   "source": [
    "counties = dataJson[2]['dataValues'][:58]"
   ]
  },
  {
   "cell_type": "code",
   "execution_count": 7,
   "metadata": {
    "execution": {
     "iopub.execute_input": "2021-03-25T05:56:37.593660Z",
     "iopub.status.busy": "2021-03-25T05:56:37.593079Z",
     "iopub.status.idle": "2021-03-25T05:56:37.597252Z",
     "shell.execute_reply": "2021-03-25T05:56:37.596088Z"
    }
   },
   "outputs": [],
   "source": [
    "doses = dataJson[0]['dataValues'][3:61]"
   ]
  },
  {
   "cell_type": "markdown",
   "metadata": {},
   "source": [
    "Data formatting"
   ]
  },
  {
   "cell_type": "code",
   "execution_count": 8,
   "metadata": {
    "execution": {
     "iopub.execute_input": "2021-03-25T05:56:37.601668Z",
     "iopub.status.busy": "2021-03-25T05:56:37.600421Z",
     "iopub.status.idle": "2021-03-25T05:56:37.602318Z",
     "shell.execute_reply": "2021-03-25T05:56:37.602793Z"
    }
   },
   "outputs": [],
   "source": [
    "zipped = dict(zip(counties, doses))"
   ]
  },
  {
   "cell_type": "code",
   "execution_count": 9,
   "metadata": {
    "execution": {
     "iopub.execute_input": "2021-03-25T05:56:37.609541Z",
     "iopub.status.busy": "2021-03-25T05:56:37.608207Z",
     "iopub.status.idle": "2021-03-25T05:56:37.610162Z",
     "shell.execute_reply": "2021-03-25T05:56:37.610662Z"
    }
   },
   "outputs": [],
   "source": [
    "df = pd.Series(zipped).reset_index()"
   ]
  },
  {
   "cell_type": "code",
   "execution_count": 10,
   "metadata": {
    "execution": {
     "iopub.execute_input": "2021-03-25T05:56:37.615368Z",
     "iopub.status.busy": "2021-03-25T05:56:37.613941Z",
     "iopub.status.idle": "2021-03-25T05:56:37.616307Z",
     "shell.execute_reply": "2021-03-25T05:56:37.616799Z"
    }
   },
   "outputs": [],
   "source": [
    "df.columns = ['location','doses']"
   ]
  },
  {
   "cell_type": "markdown",
   "metadata": {},
   "source": [
    "Grab the overall California total"
   ]
  },
  {
   "cell_type": "code",
   "execution_count": 11,
   "metadata": {
    "execution": {
     "iopub.execute_input": "2021-03-25T05:56:37.621305Z",
     "iopub.status.busy": "2021-03-25T05:56:37.620053Z",
     "iopub.status.idle": "2021-03-25T05:56:37.621933Z",
     "shell.execute_reply": "2021-03-25T05:56:37.622448Z"
    }
   },
   "outputs": [],
   "source": [
    "add = {'location':'California','doses':dataJson[0]['dataValues'][2]}"
   ]
  },
  {
   "cell_type": "code",
   "execution_count": 12,
   "metadata": {
    "execution": {
     "iopub.execute_input": "2021-03-25T05:56:37.631369Z",
     "iopub.status.busy": "2021-03-25T05:56:37.629963Z",
     "iopub.status.idle": "2021-03-25T05:56:37.631996Z",
     "shell.execute_reply": "2021-03-25T05:56:37.632471Z"
    }
   },
   "outputs": [],
   "source": [
    "df = df.append(add, ignore_index=True)"
   ]
  },
  {
   "cell_type": "code",
   "execution_count": 13,
   "metadata": {
    "execution": {
     "iopub.execute_input": "2021-03-25T05:56:37.637662Z",
     "iopub.status.busy": "2021-03-25T05:56:37.636330Z",
     "iopub.status.idle": "2021-03-25T05:56:37.638376Z",
     "shell.execute_reply": "2021-03-25T05:56:37.638934Z"
    }
   },
   "outputs": [],
   "source": [
    "df = df.sort_values(by='location')"
   ]
  },
  {
   "cell_type": "code",
   "execution_count": 14,
   "metadata": {
    "execution": {
     "iopub.execute_input": "2021-03-25T05:56:37.645714Z",
     "iopub.status.busy": "2021-03-25T05:56:37.644452Z",
     "iopub.status.idle": "2021-03-25T05:56:37.646361Z",
     "shell.execute_reply": "2021-03-25T05:56:37.646841Z"
    }
   },
   "outputs": [],
   "source": [
    "df = df[df.location == 'California'].append(df[df.location != 'California']).reset_index(drop=True)"
   ]
  },
  {
   "cell_type": "code",
   "execution_count": null,
   "metadata": {},
   "outputs": [],
   "source": []
  },
  {
   "cell_type": "code",
   "execution_count": 15,
   "metadata": {
    "execution": {
     "iopub.execute_input": "2021-03-25T05:56:37.650287Z",
     "iopub.status.busy": "2021-03-25T05:56:37.649698Z",
     "iopub.status.idle": "2021-03-25T05:56:37.670738Z",
     "shell.execute_reply": "2021-03-25T05:56:37.669859Z"
    }
   },
   "outputs": [],
   "source": [
    "tz = pytz.timezone(\"America/New_York\")"
   ]
  },
  {
   "cell_type": "code",
   "execution_count": 16,
   "metadata": {
    "execution": {
     "iopub.execute_input": "2021-03-25T05:56:37.675440Z",
     "iopub.status.busy": "2021-03-25T05:56:37.674864Z",
     "iopub.status.idle": "2021-03-25T05:56:37.684249Z",
     "shell.execute_reply": "2021-03-25T05:56:37.684781Z"
    }
   },
   "outputs": [],
   "source": [
    "today = datetime.now(tz).date()"
   ]
  },
  {
   "cell_type": "code",
   "execution_count": 17,
   "metadata": {
    "execution": {
     "iopub.execute_input": "2021-03-25T05:56:37.690257Z",
     "iopub.status.busy": "2021-03-25T05:56:37.688900Z",
     "iopub.status.idle": "2021-03-25T05:56:37.690880Z",
     "shell.execute_reply": "2021-03-25T05:56:37.691353Z"
    }
   },
   "outputs": [],
   "source": [
    "data_dir = os.path.join(os.path.abspath(\"\"), \"data\")"
   ]
  },
  {
   "cell_type": "code",
   "execution_count": 18,
   "metadata": {
    "execution": {
     "iopub.execute_input": "2021-03-25T05:56:37.697203Z",
     "iopub.status.busy": "2021-03-25T05:56:37.694563Z",
     "iopub.status.idle": "2021-03-25T05:56:37.705265Z",
     "shell.execute_reply": "2021-03-25T05:56:37.704705Z"
    }
   },
   "outputs": [],
   "source": [
    "df.to_csv(os.path.join(data_dir, f\"{today}.csv\"), index=False)"
   ]
  },
  {
   "cell_type": "code",
   "execution_count": null,
   "metadata": {},
   "outputs": [],
   "source": []
  }
 ],
 "metadata": {
  "kernelspec": {
   "display_name": "Python 3",
   "language": "python",
   "name": "python3"
  },
  "language_info": {
   "codemirror_mode": {
    "name": "ipython",
    "version": 3
   },
   "file_extension": ".py",
   "mimetype": "text/x-python",
   "name": "python",
   "nbconvert_exporter": "python",
   "pygments_lexer": "ipython3",
   "version": "3.8.8"
  }
 },
 "nbformat": 4,
 "nbformat_minor": 4
}
