{
 "cells": [
  {
   "cell_type": "markdown",
   "metadata": {},
   "source": [
    "# California COVID vaccinations scrape"
   ]
  },
  {
   "cell_type": "markdown",
   "metadata": {},
   "source": [
    "By [Amy O'Kruk](https://twitter.com/amyokruk)"
   ]
  },
  {
   "cell_type": "markdown",
   "metadata": {},
   "source": [
    "Downloads data on vaccine doses administered by county and statewide from a Tableau-powered dashboard from the California Department of Public Health."
   ]
  },
  {
   "cell_type": "code",
   "execution_count": 1,
   "metadata": {
    "execution": {
     "iopub.execute_input": "2021-03-11T03:12:33.374361Z",
     "iopub.status.busy": "2021-03-11T03:12:33.373791Z",
     "iopub.status.idle": "2021-03-11T03:12:33.845338Z",
     "shell.execute_reply": "2021-03-11T03:12:33.846127Z"
    }
   },
   "outputs": [],
   "source": [
    "import pandas as pd\n",
    "import requests\n",
    "from bs4 import BeautifulSoup\n",
    "import json\n",
    "import re\n",
    "import time\n",
    "from time import gmtime, strftime \n",
    "import os\n",
    "import pytz\n",
    "from datetime import datetime"
   ]
  },
  {
   "cell_type": "markdown",
   "metadata": {},
   "source": [
    "Scrape the dashboard page"
   ]
  },
  {
   "cell_type": "code",
   "execution_count": 2,
   "metadata": {
    "execution": {
     "iopub.execute_input": "2021-03-11T03:12:33.852366Z",
     "iopub.status.busy": "2021-03-11T03:12:33.849931Z",
     "iopub.status.idle": "2021-03-11T03:12:34.705427Z",
     "shell.execute_reply": "2021-03-11T03:12:34.705942Z"
    }
   },
   "outputs": [],
   "source": [
    "url = \"https://public.tableau.com/interactive/views/COVID-19VaccineDashboardPublic/Vaccine?:embed=y&:showVizHome=n&:apiID=host0\"\n",
    "\n",
    "r = requests.get(url)\n",
    "soup = BeautifulSoup(r.text, \"html.parser\")"
   ]
  },
  {
   "cell_type": "code",
   "execution_count": 3,
   "metadata": {
    "execution": {
     "iopub.execute_input": "2021-03-11T03:12:34.712116Z",
     "iopub.status.busy": "2021-03-11T03:12:34.711628Z",
     "iopub.status.idle": "2021-03-11T03:12:34.714849Z",
     "shell.execute_reply": "2021-03-11T03:12:34.714469Z"
    }
   },
   "outputs": [],
   "source": [
    "tableauData = json.loads(soup.find(\"textarea\",{\"id\": \"tsConfigContainer\"}).text)"
   ]
  },
  {
   "cell_type": "markdown",
   "metadata": {},
   "source": [
    "Get the link to the Tableau data"
   ]
  },
  {
   "cell_type": "code",
   "execution_count": 4,
   "metadata": {
    "execution": {
     "iopub.execute_input": "2021-03-11T03:12:34.718751Z",
     "iopub.status.busy": "2021-03-11T03:12:34.718318Z",
     "iopub.status.idle": "2021-03-11T03:12:34.719965Z",
     "shell.execute_reply": "2021-03-11T03:12:34.720624Z"
    }
   },
   "outputs": [],
   "source": [
    "dataUrl = f'https://public.tableau.com{tableauData[\"vizql_root\"]}/bootstrapSession/sessions/{tableauData[\"sessionid\"]}'"
   ]
  },
  {
   "cell_type": "code",
   "execution_count": 5,
   "metadata": {
    "execution": {
     "iopub.execute_input": "2021-03-11T03:12:34.726921Z",
     "iopub.status.busy": "2021-03-11T03:12:34.726360Z",
     "iopub.status.idle": "2021-03-11T03:12:35.161927Z",
     "shell.execute_reply": "2021-03-11T03:12:35.161045Z"
    }
   },
   "outputs": [],
   "source": [
    "r = requests.post(dataUrl, data= {\n",
    "    \"sheet_id\": tableauData[\"sheetId\"],\n",
    "})\n",
    "\n",
    "dataReg = re.search('\\d+;({.*})\\d+;({.*})', r.text, re.MULTILINE)\n",
    "data1 = json.loads(dataReg.group(2))\n",
    "\n",
    "dataJson = data1[\"secondaryInfo\"][\"presModelMap\"][\"dataDictionary\"][\"presModelHolder\"][\"genDataDictionaryPresModel\"][\"dataSegments\"][\"0\"][\"dataColumns\"]"
   ]
  },
  {
   "cell_type": "markdown",
   "metadata": {},
   "source": [
    "Isolate what you want"
   ]
  },
  {
   "cell_type": "code",
   "execution_count": 6,
   "metadata": {
    "execution": {
     "iopub.execute_input": "2021-03-11T03:12:35.167497Z",
     "iopub.status.busy": "2021-03-11T03:12:35.166521Z",
     "iopub.status.idle": "2021-03-11T03:12:35.168550Z",
     "shell.execute_reply": "2021-03-11T03:12:35.168050Z"
    }
   },
   "outputs": [],
   "source": [
    "counties = dataJson[2]['dataValues'][:58]"
   ]
  },
  {
   "cell_type": "code",
   "execution_count": 7,
   "metadata": {
    "execution": {
     "iopub.execute_input": "2021-03-11T03:12:35.175718Z",
     "iopub.status.busy": "2021-03-11T03:12:35.174640Z",
     "iopub.status.idle": "2021-03-11T03:12:35.177122Z",
     "shell.execute_reply": "2021-03-11T03:12:35.176643Z"
    }
   },
   "outputs": [],
   "source": [
    "doses = dataJson[0]['dataValues'][3:61]"
   ]
  },
  {
   "cell_type": "markdown",
   "metadata": {},
   "source": [
    "Data formatting"
   ]
  },
  {
   "cell_type": "code",
   "execution_count": 8,
   "metadata": {
    "execution": {
     "iopub.execute_input": "2021-03-11T03:12:35.181438Z",
     "iopub.status.busy": "2021-03-11T03:12:35.180291Z",
     "iopub.status.idle": "2021-03-11T03:12:35.182051Z",
     "shell.execute_reply": "2021-03-11T03:12:35.182480Z"
    }
   },
   "outputs": [],
   "source": [
    "zipped = dict(zip(counties, doses))"
   ]
  },
  {
   "cell_type": "code",
   "execution_count": 9,
   "metadata": {
    "execution": {
     "iopub.execute_input": "2021-03-11T03:12:35.188797Z",
     "iopub.status.busy": "2021-03-11T03:12:35.187643Z",
     "iopub.status.idle": "2021-03-11T03:12:35.189451Z",
     "shell.execute_reply": "2021-03-11T03:12:35.189881Z"
    }
   },
   "outputs": [],
   "source": [
    "df = pd.Series(zipped).reset_index()"
   ]
  },
  {
   "cell_type": "code",
   "execution_count": 10,
   "metadata": {
    "execution": {
     "iopub.execute_input": "2021-03-11T03:12:35.194059Z",
     "iopub.status.busy": "2021-03-11T03:12:35.192881Z",
     "iopub.status.idle": "2021-03-11T03:12:35.194648Z",
     "shell.execute_reply": "2021-03-11T03:12:35.195078Z"
    }
   },
   "outputs": [],
   "source": [
    "df.columns = ['location','doses']"
   ]
  },
  {
   "cell_type": "markdown",
   "metadata": {},
   "source": [
    "Grab the overall California total"
   ]
  },
  {
   "cell_type": "code",
   "execution_count": 11,
   "metadata": {
    "execution": {
     "iopub.execute_input": "2021-03-11T03:12:35.199333Z",
     "iopub.status.busy": "2021-03-11T03:12:35.198270Z",
     "iopub.status.idle": "2021-03-11T03:12:35.200105Z",
     "shell.execute_reply": "2021-03-11T03:12:35.200589Z"
    }
   },
   "outputs": [],
   "source": [
    "add = {'location':'California','doses':dataJson[0]['dataValues'][2]}"
   ]
  },
  {
   "cell_type": "code",
   "execution_count": 12,
   "metadata": {
    "execution": {
     "iopub.execute_input": "2021-03-11T03:12:35.207507Z",
     "iopub.status.busy": "2021-03-11T03:12:35.206268Z",
     "iopub.status.idle": "2021-03-11T03:12:35.208192Z",
     "shell.execute_reply": "2021-03-11T03:12:35.208601Z"
    }
   },
   "outputs": [],
   "source": [
    "df = df.append(add, ignore_index=True)"
   ]
  },
  {
   "cell_type": "code",
   "execution_count": 13,
   "metadata": {
    "execution": {
     "iopub.execute_input": "2021-03-11T03:12:35.213916Z",
     "iopub.status.busy": "2021-03-11T03:12:35.212590Z",
     "iopub.status.idle": "2021-03-11T03:12:35.214516Z",
     "shell.execute_reply": "2021-03-11T03:12:35.215083Z"
    }
   },
   "outputs": [],
   "source": [
    "df = df.sort_values(by='location')"
   ]
  },
  {
   "cell_type": "code",
   "execution_count": 14,
   "metadata": {
    "execution": {
     "iopub.execute_input": "2021-03-11T03:12:35.222065Z",
     "iopub.status.busy": "2021-03-11T03:12:35.220665Z",
     "iopub.status.idle": "2021-03-11T03:12:35.222671Z",
     "shell.execute_reply": "2021-03-11T03:12:35.223139Z"
    }
   },
   "outputs": [],
   "source": [
    "df = df[df.location == 'California'].append(df[df.location != 'California']).reset_index(drop=True)"
   ]
  },
  {
   "cell_type": "code",
   "execution_count": null,
   "metadata": {},
   "outputs": [],
   "source": []
  },
  {
   "cell_type": "code",
   "execution_count": 15,
   "metadata": {
    "execution": {
     "iopub.execute_input": "2021-03-11T03:12:35.226432Z",
     "iopub.status.busy": "2021-03-11T03:12:35.225889Z",
     "iopub.status.idle": "2021-03-11T03:12:35.242897Z",
     "shell.execute_reply": "2021-03-11T03:12:35.242436Z"
    }
   },
   "outputs": [],
   "source": [
    "tz = pytz.timezone(\"America/New_York\")"
   ]
  },
  {
   "cell_type": "code",
   "execution_count": 16,
   "metadata": {
    "execution": {
     "iopub.execute_input": "2021-03-11T03:12:35.246797Z",
     "iopub.status.busy": "2021-03-11T03:12:35.245855Z",
     "iopub.status.idle": "2021-03-11T03:12:35.248579Z",
     "shell.execute_reply": "2021-03-11T03:12:35.253190Z"
    }
   },
   "outputs": [],
   "source": [
    "today = datetime.now(tz).date()"
   ]
  },
  {
   "cell_type": "code",
   "execution_count": 17,
   "metadata": {
    "execution": {
     "iopub.execute_input": "2021-03-11T03:12:35.257340Z",
     "iopub.status.busy": "2021-03-11T03:12:35.256124Z",
     "iopub.status.idle": "2021-03-11T03:12:35.257984Z",
     "shell.execute_reply": "2021-03-11T03:12:35.258385Z"
    }
   },
   "outputs": [],
   "source": [
    "data_dir = os.path.join(os.path.abspath(\"\"), \"data\")"
   ]
  },
  {
   "cell_type": "code",
   "execution_count": 18,
   "metadata": {
    "execution": {
     "iopub.execute_input": "2021-03-11T03:12:35.262205Z",
     "iopub.status.busy": "2021-03-11T03:12:35.261682Z",
     "iopub.status.idle": "2021-03-11T03:12:35.266520Z",
     "shell.execute_reply": "2021-03-11T03:12:35.266966Z"
    }
   },
   "outputs": [],
   "source": [
    "df.to_csv(os.path.join(data_dir, f\"{today}.csv\"), index=False)"
   ]
  },
  {
   "cell_type": "code",
   "execution_count": null,
   "metadata": {},
   "outputs": [],
   "source": []
  }
 ],
 "metadata": {
  "kernelspec": {
   "display_name": "Python 3",
   "language": "python",
   "name": "python3"
  },
  "language_info": {
   "codemirror_mode": {
    "name": "ipython",
    "version": 3
   },
   "file_extension": ".py",
   "mimetype": "text/x-python",
   "name": "python",
   "nbconvert_exporter": "python",
   "pygments_lexer": "ipython3",
   "version": "3.8.8"
  }
 },
 "nbformat": 4,
 "nbformat_minor": 4
}
