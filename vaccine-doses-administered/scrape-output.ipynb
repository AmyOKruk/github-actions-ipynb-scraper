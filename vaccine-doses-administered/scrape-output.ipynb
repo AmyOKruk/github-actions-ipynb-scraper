{
 "cells": [
  {
   "cell_type": "markdown",
   "metadata": {},
   "source": [
    "# California COVID vaccinations scrape"
   ]
  },
  {
   "cell_type": "markdown",
   "metadata": {},
   "source": [
    "By [Amy O'Kruk](https://twitter.com/amyokruk)"
   ]
  },
  {
   "cell_type": "markdown",
   "metadata": {},
   "source": [
    "Downloads data on vaccine doses administered by county and statewide from a Tableau-powered dashboard from the California Department of Public Health."
   ]
  },
  {
   "cell_type": "code",
   "execution_count": 1,
   "metadata": {
    "execution": {
     "iopub.execute_input": "2021-03-18T02:17:51.800845Z",
     "iopub.status.busy": "2021-03-18T02:17:51.800206Z",
     "iopub.status.idle": "2021-03-18T02:17:52.265843Z",
     "shell.execute_reply": "2021-03-18T02:17:52.265196Z"
    }
   },
   "outputs": [],
   "source": [
    "import pandas as pd\n",
    "import requests\n",
    "from bs4 import BeautifulSoup\n",
    "import json\n",
    "import re\n",
    "import time\n",
    "from time import gmtime, strftime \n",
    "import os\n",
    "import pytz\n",
    "from datetime import datetime"
   ]
  },
  {
   "cell_type": "markdown",
   "metadata": {},
   "source": [
    "Scrape the dashboard page"
   ]
  },
  {
   "cell_type": "code",
   "execution_count": 2,
   "metadata": {
    "execution": {
     "iopub.execute_input": "2021-03-18T02:17:52.273363Z",
     "iopub.status.busy": "2021-03-18T02:17:52.270046Z",
     "iopub.status.idle": "2021-03-18T02:17:52.796002Z",
     "shell.execute_reply": "2021-03-18T02:17:52.794818Z"
    }
   },
   "outputs": [],
   "source": [
    "url = \"https://public.tableau.com/interactive/views/COVID-19VaccineDashboardPublic/Vaccine?:embed=y&:showVizHome=n&:apiID=host0\"\n",
    "\n",
    "r = requests.get(url)\n",
    "soup = BeautifulSoup(r.text, \"html.parser\")"
   ]
  },
  {
   "cell_type": "code",
   "execution_count": 3,
   "metadata": {
    "execution": {
     "iopub.execute_input": "2021-03-18T02:17:52.801409Z",
     "iopub.status.busy": "2021-03-18T02:17:52.800238Z",
     "iopub.status.idle": "2021-03-18T02:17:52.802273Z",
     "shell.execute_reply": "2021-03-18T02:17:52.802719Z"
    }
   },
   "outputs": [],
   "source": [
    "tableauData = json.loads(soup.find(\"textarea\",{\"id\": \"tsConfigContainer\"}).text)"
   ]
  },
  {
   "cell_type": "markdown",
   "metadata": {},
   "source": [
    "Get the link to the Tableau data"
   ]
  },
  {
   "cell_type": "code",
   "execution_count": 4,
   "metadata": {
    "execution": {
     "iopub.execute_input": "2021-03-18T02:17:52.807336Z",
     "iopub.status.busy": "2021-03-18T02:17:52.805926Z",
     "iopub.status.idle": "2021-03-18T02:17:52.807903Z",
     "shell.execute_reply": "2021-03-18T02:17:52.808353Z"
    }
   },
   "outputs": [],
   "source": [
    "dataUrl = f'https://public.tableau.com{tableauData[\"vizql_root\"]}/bootstrapSession/sessions/{tableauData[\"sessionid\"]}'"
   ]
  },
  {
   "cell_type": "code",
   "execution_count": 5,
   "metadata": {
    "execution": {
     "iopub.execute_input": "2021-03-18T02:17:52.814953Z",
     "iopub.status.busy": "2021-03-18T02:17:52.814383Z",
     "iopub.status.idle": "2021-03-18T02:17:53.085665Z",
     "shell.execute_reply": "2021-03-18T02:17:53.084759Z"
    }
   },
   "outputs": [],
   "source": [
    "r = requests.post(dataUrl, data= {\n",
    "    \"sheet_id\": tableauData[\"sheetId\"],\n",
    "})\n",
    "\n",
    "dataReg = re.search('\\d+;({.*})\\d+;({.*})', r.text, re.MULTILINE)\n",
    "data1 = json.loads(dataReg.group(2))\n",
    "\n",
    "dataJson = data1[\"secondaryInfo\"][\"presModelMap\"][\"dataDictionary\"][\"presModelHolder\"][\"genDataDictionaryPresModel\"][\"dataSegments\"][\"0\"][\"dataColumns\"]"
   ]
  },
  {
   "cell_type": "markdown",
   "metadata": {},
   "source": [
    "Isolate what you want"
   ]
  },
  {
   "cell_type": "code",
   "execution_count": 6,
   "metadata": {
    "execution": {
     "iopub.execute_input": "2021-03-18T02:17:53.090316Z",
     "iopub.status.busy": "2021-03-18T02:17:53.089686Z",
     "iopub.status.idle": "2021-03-18T02:17:53.093952Z",
     "shell.execute_reply": "2021-03-18T02:17:53.093506Z"
    }
   },
   "outputs": [],
   "source": [
    "counties = dataJson[2]['dataValues'][:58]"
   ]
  },
  {
   "cell_type": "code",
   "execution_count": 7,
   "metadata": {
    "execution": {
     "iopub.execute_input": "2021-03-18T02:17:53.097495Z",
     "iopub.status.busy": "2021-03-18T02:17:53.096909Z",
     "iopub.status.idle": "2021-03-18T02:17:53.100747Z",
     "shell.execute_reply": "2021-03-18T02:17:53.100271Z"
    }
   },
   "outputs": [],
   "source": [
    "doses = dataJson[0]['dataValues'][3:61]"
   ]
  },
  {
   "cell_type": "markdown",
   "metadata": {},
   "source": [
    "Data formatting"
   ]
  },
  {
   "cell_type": "code",
   "execution_count": 8,
   "metadata": {
    "execution": {
     "iopub.execute_input": "2021-03-18T02:17:53.104638Z",
     "iopub.status.busy": "2021-03-18T02:17:53.104070Z",
     "iopub.status.idle": "2021-03-18T02:17:53.106517Z",
     "shell.execute_reply": "2021-03-18T02:17:53.106082Z"
    }
   },
   "outputs": [],
   "source": [
    "zipped = dict(zip(counties, doses))"
   ]
  },
  {
   "cell_type": "code",
   "execution_count": 9,
   "metadata": {
    "execution": {
     "iopub.execute_input": "2021-03-18T02:17:53.113300Z",
     "iopub.status.busy": "2021-03-18T02:17:53.112291Z",
     "iopub.status.idle": "2021-03-18T02:17:53.114328Z",
     "shell.execute_reply": "2021-03-18T02:17:53.114759Z"
    }
   },
   "outputs": [],
   "source": [
    "df = pd.Series(zipped).reset_index()"
   ]
  },
  {
   "cell_type": "code",
   "execution_count": 10,
   "metadata": {
    "execution": {
     "iopub.execute_input": "2021-03-18T02:17:53.118974Z",
     "iopub.status.busy": "2021-03-18T02:17:53.118015Z",
     "iopub.status.idle": "2021-03-18T02:17:53.119767Z",
     "shell.execute_reply": "2021-03-18T02:17:53.120199Z"
    }
   },
   "outputs": [],
   "source": [
    "df.columns = ['location','doses']"
   ]
  },
  {
   "cell_type": "markdown",
   "metadata": {},
   "source": [
    "Grab the overall California total"
   ]
  },
  {
   "cell_type": "code",
   "execution_count": 11,
   "metadata": {
    "execution": {
     "iopub.execute_input": "2021-03-18T02:17:53.125156Z",
     "iopub.status.busy": "2021-03-18T02:17:53.123639Z",
     "iopub.status.idle": "2021-03-18T02:17:53.125923Z",
     "shell.execute_reply": "2021-03-18T02:17:53.126436Z"
    }
   },
   "outputs": [],
   "source": [
    "add = {'location':'California','doses':dataJson[0]['dataValues'][2]}"
   ]
  },
  {
   "cell_type": "code",
   "execution_count": 12,
   "metadata": {
    "execution": {
     "iopub.execute_input": "2021-03-18T02:17:53.134527Z",
     "iopub.status.busy": "2021-03-18T02:17:53.133236Z",
     "iopub.status.idle": "2021-03-18T02:17:53.135144Z",
     "shell.execute_reply": "2021-03-18T02:17:53.135586Z"
    }
   },
   "outputs": [],
   "source": [
    "df = df.append(add, ignore_index=True)"
   ]
  },
  {
   "cell_type": "code",
   "execution_count": 13,
   "metadata": {
    "execution": {
     "iopub.execute_input": "2021-03-18T02:17:53.138290Z",
     "iopub.status.busy": "2021-03-18T02:17:53.137701Z",
     "iopub.status.idle": "2021-03-18T02:17:53.141986Z",
     "shell.execute_reply": "2021-03-18T02:17:53.141555Z"
    }
   },
   "outputs": [],
   "source": [
    "df = df.sort_values(by='location')"
   ]
  },
  {
   "cell_type": "code",
   "execution_count": 14,
   "metadata": {
    "execution": {
     "iopub.execute_input": "2021-03-18T02:17:53.148531Z",
     "iopub.status.busy": "2021-03-18T02:17:53.147246Z",
     "iopub.status.idle": "2021-03-18T02:17:53.149639Z",
     "shell.execute_reply": "2021-03-18T02:17:53.149213Z"
    }
   },
   "outputs": [],
   "source": [
    "df = df[df.location == 'California'].append(df[df.location != 'California']).reset_index(drop=True)"
   ]
  },
  {
   "cell_type": "code",
   "execution_count": null,
   "metadata": {},
   "outputs": [],
   "source": []
  },
  {
   "cell_type": "code",
   "execution_count": 15,
   "metadata": {
    "execution": {
     "iopub.execute_input": "2021-03-18T02:17:53.153238Z",
     "iopub.status.busy": "2021-03-18T02:17:53.152668Z",
     "iopub.status.idle": "2021-03-18T02:17:53.170326Z",
     "shell.execute_reply": "2021-03-18T02:17:53.170972Z"
    }
   },
   "outputs": [],
   "source": [
    "tz = pytz.timezone(\"America/New_York\")"
   ]
  },
  {
   "cell_type": "code",
   "execution_count": 16,
   "metadata": {
    "execution": {
     "iopub.execute_input": "2021-03-18T02:17:53.176840Z",
     "iopub.status.busy": "2021-03-18T02:17:53.175109Z",
     "iopub.status.idle": "2021-03-18T02:17:53.177550Z",
     "shell.execute_reply": "2021-03-18T02:17:53.178159Z"
    }
   },
   "outputs": [],
   "source": [
    "today = datetime.now(tz).date()"
   ]
  },
  {
   "cell_type": "code",
   "execution_count": 17,
   "metadata": {
    "execution": {
     "iopub.execute_input": "2021-03-18T02:17:53.183541Z",
     "iopub.status.busy": "2021-03-18T02:17:53.181986Z",
     "iopub.status.idle": "2021-03-18T02:17:53.184275Z",
     "shell.execute_reply": "2021-03-18T02:17:53.184800Z"
    }
   },
   "outputs": [],
   "source": [
    "data_dir = os.path.join(os.path.abspath(\"\"), \"data\")"
   ]
  },
  {
   "cell_type": "code",
   "execution_count": 18,
   "metadata": {
    "execution": {
     "iopub.execute_input": "2021-03-18T02:17:53.189211Z",
     "iopub.status.busy": "2021-03-18T02:17:53.188665Z",
     "iopub.status.idle": "2021-03-18T02:17:53.193022Z",
     "shell.execute_reply": "2021-03-18T02:17:53.193437Z"
    }
   },
   "outputs": [],
   "source": [
    "df.to_csv(os.path.join(data_dir, f\"{today}.csv\"), index=False)"
   ]
  },
  {
   "cell_type": "code",
   "execution_count": null,
   "metadata": {},
   "outputs": [],
   "source": []
  }
 ],
 "metadata": {
  "kernelspec": {
   "display_name": "Python 3",
   "language": "python",
   "name": "python3"
  },
  "language_info": {
   "codemirror_mode": {
    "name": "ipython",
    "version": 3
   },
   "file_extension": ".py",
   "mimetype": "text/x-python",
   "name": "python",
   "nbconvert_exporter": "python",
   "pygments_lexer": "ipython3",
   "version": "3.8.8"
  }
 },
 "nbformat": 4,
 "nbformat_minor": 4
}
