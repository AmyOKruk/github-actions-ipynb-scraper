{
 "cells": [
  {
   "cell_type": "markdown",
   "metadata": {},
   "source": [
    "# California COVID vaccinations scrape"
   ]
  },
  {
   "cell_type": "markdown",
   "metadata": {},
   "source": [
    "By [Amy O'Kruk](https://twitter.com/amyokruk)"
   ]
  },
  {
   "cell_type": "markdown",
   "metadata": {},
   "source": [
    "Downloads data on vaccine doses administered by county and statewide from a Tableau-powered dashboard from the California Department of Public Health."
   ]
  },
  {
   "cell_type": "code",
   "execution_count": 1,
   "metadata": {
    "execution": {
     "iopub.execute_input": "2021-03-19T19:37:12.277099Z",
     "iopub.status.busy": "2021-03-19T19:37:12.276505Z",
     "iopub.status.idle": "2021-03-19T19:37:12.700174Z",
     "shell.execute_reply": "2021-03-19T19:37:12.699024Z"
    }
   },
   "outputs": [],
   "source": [
    "import pandas as pd\n",
    "import requests\n",
    "from bs4 import BeautifulSoup\n",
    "import json\n",
    "import re\n",
    "import time\n",
    "from time import gmtime, strftime \n",
    "import os\n",
    "import pytz\n",
    "from datetime import datetime"
   ]
  },
  {
   "cell_type": "markdown",
   "metadata": {},
   "source": [
    "Scrape the dashboard page"
   ]
  },
  {
   "cell_type": "code",
   "execution_count": 2,
   "metadata": {
    "execution": {
     "iopub.execute_input": "2021-03-19T19:37:12.706536Z",
     "iopub.status.busy": "2021-03-19T19:37:12.704183Z",
     "iopub.status.idle": "2021-03-19T19:37:13.094798Z",
     "shell.execute_reply": "2021-03-19T19:37:13.094193Z"
    }
   },
   "outputs": [],
   "source": [
    "url = \"https://public.tableau.com/interactive/views/COVID-19VaccineDashboardPublic/Vaccine?:embed=y&:showVizHome=n&:apiID=host0\"\n",
    "\n",
    "r = requests.get(url)\n",
    "soup = BeautifulSoup(r.text, \"html.parser\")"
   ]
  },
  {
   "cell_type": "code",
   "execution_count": 3,
   "metadata": {
    "execution": {
     "iopub.execute_input": "2021-03-19T19:37:13.099768Z",
     "iopub.status.busy": "2021-03-19T19:37:13.099249Z",
     "iopub.status.idle": "2021-03-19T19:37:13.102253Z",
     "shell.execute_reply": "2021-03-19T19:37:13.102656Z"
    }
   },
   "outputs": [],
   "source": [
    "tableauData = json.loads(soup.find(\"textarea\",{\"id\": \"tsConfigContainer\"}).text)"
   ]
  },
  {
   "cell_type": "markdown",
   "metadata": {},
   "source": [
    "Get the link to the Tableau data"
   ]
  },
  {
   "cell_type": "code",
   "execution_count": 4,
   "metadata": {
    "execution": {
     "iopub.execute_input": "2021-03-19T19:37:13.107066Z",
     "iopub.status.busy": "2021-03-19T19:37:13.105860Z",
     "iopub.status.idle": "2021-03-19T19:37:13.107728Z",
     "shell.execute_reply": "2021-03-19T19:37:13.108157Z"
    }
   },
   "outputs": [],
   "source": [
    "dataUrl = f'https://public.tableau.com{tableauData[\"vizql_root\"]}/bootstrapSession/sessions/{tableauData[\"sessionid\"]}'"
   ]
  },
  {
   "cell_type": "code",
   "execution_count": 5,
   "metadata": {
    "execution": {
     "iopub.execute_input": "2021-03-19T19:37:13.116182Z",
     "iopub.status.busy": "2021-03-19T19:37:13.114374Z",
     "iopub.status.idle": "2021-03-19T19:37:13.403506Z",
     "shell.execute_reply": "2021-03-19T19:37:13.402651Z"
    }
   },
   "outputs": [],
   "source": [
    "r = requests.post(dataUrl, data= {\n",
    "    \"sheet_id\": tableauData[\"sheetId\"],\n",
    "})\n",
    "\n",
    "dataReg = re.search('\\d+;({.*})\\d+;({.*})', r.text, re.MULTILINE)\n",
    "data1 = json.loads(dataReg.group(2))\n",
    "\n",
    "dataJson = data1[\"secondaryInfo\"][\"presModelMap\"][\"dataDictionary\"][\"presModelHolder\"][\"genDataDictionaryPresModel\"][\"dataSegments\"][\"0\"][\"dataColumns\"]"
   ]
  },
  {
   "cell_type": "markdown",
   "metadata": {},
   "source": [
    "Isolate what you want"
   ]
  },
  {
   "cell_type": "code",
   "execution_count": 6,
   "metadata": {
    "execution": {
     "iopub.execute_input": "2021-03-19T19:37:13.407177Z",
     "iopub.status.busy": "2021-03-19T19:37:13.406657Z",
     "iopub.status.idle": "2021-03-19T19:37:13.410132Z",
     "shell.execute_reply": "2021-03-19T19:37:13.409672Z"
    }
   },
   "outputs": [],
   "source": [
    "counties = dataJson[2]['dataValues'][:58]"
   ]
  },
  {
   "cell_type": "code",
   "execution_count": 7,
   "metadata": {
    "execution": {
     "iopub.execute_input": "2021-03-19T19:37:13.414449Z",
     "iopub.status.busy": "2021-03-19T19:37:13.413347Z",
     "iopub.status.idle": "2021-03-19T19:37:13.415045Z",
     "shell.execute_reply": "2021-03-19T19:37:13.415466Z"
    }
   },
   "outputs": [],
   "source": [
    "doses = dataJson[0]['dataValues'][3:61]"
   ]
  },
  {
   "cell_type": "markdown",
   "metadata": {},
   "source": [
    "Data formatting"
   ]
  },
  {
   "cell_type": "code",
   "execution_count": 8,
   "metadata": {
    "execution": {
     "iopub.execute_input": "2021-03-19T19:37:13.419712Z",
     "iopub.status.busy": "2021-03-19T19:37:13.418610Z",
     "iopub.status.idle": "2021-03-19T19:37:13.420331Z",
     "shell.execute_reply": "2021-03-19T19:37:13.420759Z"
    }
   },
   "outputs": [],
   "source": [
    "zipped = dict(zip(counties, doses))"
   ]
  },
  {
   "cell_type": "code",
   "execution_count": 9,
   "metadata": {
    "execution": {
     "iopub.execute_input": "2021-03-19T19:37:13.427169Z",
     "iopub.status.busy": "2021-03-19T19:37:13.426013Z",
     "iopub.status.idle": "2021-03-19T19:37:13.427949Z",
     "shell.execute_reply": "2021-03-19T19:37:13.428405Z"
    }
   },
   "outputs": [],
   "source": [
    "df = pd.Series(zipped).reset_index()"
   ]
  },
  {
   "cell_type": "code",
   "execution_count": 10,
   "metadata": {
    "execution": {
     "iopub.execute_input": "2021-03-19T19:37:13.432643Z",
     "iopub.status.busy": "2021-03-19T19:37:13.431572Z",
     "iopub.status.idle": "2021-03-19T19:37:13.433839Z",
     "shell.execute_reply": "2021-03-19T19:37:13.433389Z"
    }
   },
   "outputs": [],
   "source": [
    "df.columns = ['location','doses']"
   ]
  },
  {
   "cell_type": "markdown",
   "metadata": {},
   "source": [
    "Grab the overall California total"
   ]
  },
  {
   "cell_type": "code",
   "execution_count": 11,
   "metadata": {
    "execution": {
     "iopub.execute_input": "2021-03-19T19:37:13.438084Z",
     "iopub.status.busy": "2021-03-19T19:37:13.437003Z",
     "iopub.status.idle": "2021-03-19T19:37:13.438677Z",
     "shell.execute_reply": "2021-03-19T19:37:13.439099Z"
    }
   },
   "outputs": [],
   "source": [
    "add = {'location':'California','doses':dataJson[0]['dataValues'][2]}"
   ]
  },
  {
   "cell_type": "code",
   "execution_count": 12,
   "metadata": {
    "execution": {
     "iopub.execute_input": "2021-03-19T19:37:13.446165Z",
     "iopub.status.busy": "2021-03-19T19:37:13.445040Z",
     "iopub.status.idle": "2021-03-19T19:37:13.446755Z",
     "shell.execute_reply": "2021-03-19T19:37:13.447165Z"
    }
   },
   "outputs": [],
   "source": [
    "df = df.append(add, ignore_index=True)"
   ]
  },
  {
   "cell_type": "code",
   "execution_count": 13,
   "metadata": {
    "execution": {
     "iopub.execute_input": "2021-03-19T19:37:13.451949Z",
     "iopub.status.busy": "2021-03-19T19:37:13.451010Z",
     "iopub.status.idle": "2021-03-19T19:37:13.452888Z",
     "shell.execute_reply": "2021-03-19T19:37:13.453315Z"
    }
   },
   "outputs": [],
   "source": [
    "df = df.sort_values(by='location')"
   ]
  },
  {
   "cell_type": "code",
   "execution_count": 14,
   "metadata": {
    "execution": {
     "iopub.execute_input": "2021-03-19T19:37:13.460096Z",
     "iopub.status.busy": "2021-03-19T19:37:13.458820Z",
     "iopub.status.idle": "2021-03-19T19:37:13.460710Z",
     "shell.execute_reply": "2021-03-19T19:37:13.461131Z"
    }
   },
   "outputs": [],
   "source": [
    "df = df[df.location == 'California'].append(df[df.location != 'California']).reset_index(drop=True)"
   ]
  },
  {
   "cell_type": "code",
   "execution_count": null,
   "metadata": {},
   "outputs": [],
   "source": []
  },
  {
   "cell_type": "code",
   "execution_count": 15,
   "metadata": {
    "execution": {
     "iopub.execute_input": "2021-03-19T19:37:13.464516Z",
     "iopub.status.busy": "2021-03-19T19:37:13.463945Z",
     "iopub.status.idle": "2021-03-19T19:37:13.481032Z",
     "shell.execute_reply": "2021-03-19T19:37:13.481457Z"
    }
   },
   "outputs": [],
   "source": [
    "tz = pytz.timezone(\"America/New_York\")"
   ]
  },
  {
   "cell_type": "code",
   "execution_count": 16,
   "metadata": {
    "execution": {
     "iopub.execute_input": "2021-03-19T19:37:13.485874Z",
     "iopub.status.busy": "2021-03-19T19:37:13.484741Z",
     "iopub.status.idle": "2021-03-19T19:37:13.486470Z",
     "shell.execute_reply": "2021-03-19T19:37:13.486896Z"
    }
   },
   "outputs": [],
   "source": [
    "today = datetime.now(tz).date()"
   ]
  },
  {
   "cell_type": "code",
   "execution_count": 17,
   "metadata": {
    "execution": {
     "iopub.execute_input": "2021-03-19T19:37:13.496897Z",
     "iopub.status.busy": "2021-03-19T19:37:13.494741Z",
     "iopub.status.idle": "2021-03-19T19:37:13.498398Z",
     "shell.execute_reply": "2021-03-19T19:37:13.497658Z"
    }
   },
   "outputs": [],
   "source": [
    "data_dir = os.path.join(os.path.abspath(\"\"), \"data\")"
   ]
  },
  {
   "cell_type": "code",
   "execution_count": 18,
   "metadata": {
    "execution": {
     "iopub.execute_input": "2021-03-19T19:37:13.502657Z",
     "iopub.status.busy": "2021-03-19T19:37:13.501946Z",
     "iopub.status.idle": "2021-03-19T19:37:13.506435Z",
     "shell.execute_reply": "2021-03-19T19:37:13.505998Z"
    }
   },
   "outputs": [],
   "source": [
    "df.to_csv(os.path.join(data_dir, f\"{today}.csv\"), index=False)"
   ]
  },
  {
   "cell_type": "code",
   "execution_count": null,
   "metadata": {},
   "outputs": [],
   "source": []
  }
 ],
 "metadata": {
  "kernelspec": {
   "display_name": "Python 3",
   "language": "python",
   "name": "python3"
  },
  "language_info": {
   "codemirror_mode": {
    "name": "ipython",
    "version": 3
   },
   "file_extension": ".py",
   "mimetype": "text/x-python",
   "name": "python",
   "nbconvert_exporter": "python",
   "pygments_lexer": "ipython3",
   "version": "3.8.8"
  }
 },
 "nbformat": 4,
 "nbformat_minor": 4
}
