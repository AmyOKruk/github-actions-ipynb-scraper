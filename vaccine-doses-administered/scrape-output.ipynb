{
 "cells": [
  {
   "cell_type": "markdown",
   "metadata": {},
   "source": [
    "# California COVID vaccinations scrape"
   ]
  },
  {
   "cell_type": "markdown",
   "metadata": {},
   "source": [
    "By [Amy O'Kruk](https://twitter.com/amyokruk)"
   ]
  },
  {
   "cell_type": "markdown",
   "metadata": {},
   "source": [
    "Downloads data on vaccine doses administered by county and statewide from a Tableau-powered dashboard from the California Department of Public Health."
   ]
  },
  {
   "cell_type": "code",
   "execution_count": 1,
   "metadata": {
    "execution": {
     "iopub.execute_input": "2021-03-14T14:13:26.538399Z",
     "iopub.status.busy": "2021-03-14T14:13:26.537605Z",
     "iopub.status.idle": "2021-03-14T14:13:27.008503Z",
     "shell.execute_reply": "2021-03-14T14:13:27.007809Z"
    }
   },
   "outputs": [],
   "source": [
    "import pandas as pd\n",
    "import requests\n",
    "from bs4 import BeautifulSoup\n",
    "import json\n",
    "import re\n",
    "import time\n",
    "from time import gmtime, strftime \n",
    "import os\n",
    "import pytz\n",
    "from datetime import datetime"
   ]
  },
  {
   "cell_type": "markdown",
   "metadata": {},
   "source": [
    "Scrape the dashboard page"
   ]
  },
  {
   "cell_type": "code",
   "execution_count": 2,
   "metadata": {
    "execution": {
     "iopub.execute_input": "2021-03-14T14:13:27.014750Z",
     "iopub.status.busy": "2021-03-14T14:13:27.012257Z",
     "iopub.status.idle": "2021-03-14T14:13:27.548837Z",
     "shell.execute_reply": "2021-03-14T14:13:27.547965Z"
    }
   },
   "outputs": [],
   "source": [
    "url = \"https://public.tableau.com/interactive/views/COVID-19VaccineDashboardPublic/Vaccine?:embed=y&:showVizHome=n&:apiID=host0\"\n",
    "\n",
    "r = requests.get(url)\n",
    "soup = BeautifulSoup(r.text, \"html.parser\")"
   ]
  },
  {
   "cell_type": "code",
   "execution_count": 3,
   "metadata": {
    "execution": {
     "iopub.execute_input": "2021-03-14T14:13:27.555628Z",
     "iopub.status.busy": "2021-03-14T14:13:27.555013Z",
     "iopub.status.idle": "2021-03-14T14:13:27.560230Z",
     "shell.execute_reply": "2021-03-14T14:13:27.559312Z"
    }
   },
   "outputs": [],
   "source": [
    "tableauData = json.loads(soup.find(\"textarea\",{\"id\": \"tsConfigContainer\"}).text)"
   ]
  },
  {
   "cell_type": "markdown",
   "metadata": {},
   "source": [
    "Get the link to the Tableau data"
   ]
  },
  {
   "cell_type": "code",
   "execution_count": 4,
   "metadata": {
    "execution": {
     "iopub.execute_input": "2021-03-14T14:13:27.564429Z",
     "iopub.status.busy": "2021-03-14T14:13:27.563796Z",
     "iopub.status.idle": "2021-03-14T14:13:27.567919Z",
     "shell.execute_reply": "2021-03-14T14:13:27.567423Z"
    }
   },
   "outputs": [],
   "source": [
    "dataUrl = f'https://public.tableau.com{tableauData[\"vizql_root\"]}/bootstrapSession/sessions/{tableauData[\"sessionid\"]}'"
   ]
  },
  {
   "cell_type": "code",
   "execution_count": 5,
   "metadata": {
    "execution": {
     "iopub.execute_input": "2021-03-14T14:13:27.575015Z",
     "iopub.status.busy": "2021-03-14T14:13:27.574324Z",
     "iopub.status.idle": "2021-03-14T14:13:28.129203Z",
     "shell.execute_reply": "2021-03-14T14:13:28.128134Z"
    }
   },
   "outputs": [],
   "source": [
    "r = requests.post(dataUrl, data= {\n",
    "    \"sheet_id\": tableauData[\"sheetId\"],\n",
    "})\n",
    "\n",
    "dataReg = re.search('\\d+;({.*})\\d+;({.*})', r.text, re.MULTILINE)\n",
    "data1 = json.loads(dataReg.group(2))\n",
    "\n",
    "dataJson = data1[\"secondaryInfo\"][\"presModelMap\"][\"dataDictionary\"][\"presModelHolder\"][\"genDataDictionaryPresModel\"][\"dataSegments\"][\"0\"][\"dataColumns\"]"
   ]
  },
  {
   "cell_type": "markdown",
   "metadata": {},
   "source": [
    "Isolate what you want"
   ]
  },
  {
   "cell_type": "code",
   "execution_count": 6,
   "metadata": {
    "execution": {
     "iopub.execute_input": "2021-03-14T14:13:28.133322Z",
     "iopub.status.busy": "2021-03-14T14:13:28.132717Z",
     "iopub.status.idle": "2021-03-14T14:13:28.137898Z",
     "shell.execute_reply": "2021-03-14T14:13:28.136150Z"
    }
   },
   "outputs": [],
   "source": [
    "counties = dataJson[2]['dataValues'][:58]"
   ]
  },
  {
   "cell_type": "code",
   "execution_count": 7,
   "metadata": {
    "execution": {
     "iopub.execute_input": "2021-03-14T14:13:28.142404Z",
     "iopub.status.busy": "2021-03-14T14:13:28.141758Z",
     "iopub.status.idle": "2021-03-14T14:13:28.145200Z",
     "shell.execute_reply": "2021-03-14T14:13:28.145664Z"
    }
   },
   "outputs": [],
   "source": [
    "doses = dataJson[0]['dataValues'][3:61]"
   ]
  },
  {
   "cell_type": "markdown",
   "metadata": {},
   "source": [
    "Data formatting"
   ]
  },
  {
   "cell_type": "code",
   "execution_count": 8,
   "metadata": {
    "execution": {
     "iopub.execute_input": "2021-03-14T14:13:28.150839Z",
     "iopub.status.busy": "2021-03-14T14:13:28.149286Z",
     "iopub.status.idle": "2021-03-14T14:13:28.151500Z",
     "shell.execute_reply": "2021-03-14T14:13:28.152028Z"
    }
   },
   "outputs": [],
   "source": [
    "zipped = dict(zip(counties, doses))"
   ]
  },
  {
   "cell_type": "code",
   "execution_count": 9,
   "metadata": {
    "execution": {
     "iopub.execute_input": "2021-03-14T14:13:28.162063Z",
     "iopub.status.busy": "2021-03-14T14:13:28.160394Z",
     "iopub.status.idle": "2021-03-14T14:13:28.162815Z",
     "shell.execute_reply": "2021-03-14T14:13:28.163395Z"
    }
   },
   "outputs": [],
   "source": [
    "df = pd.Series(zipped).reset_index()"
   ]
  },
  {
   "cell_type": "code",
   "execution_count": 10,
   "metadata": {
    "execution": {
     "iopub.execute_input": "2021-03-14T14:13:28.168046Z",
     "iopub.status.busy": "2021-03-14T14:13:28.167402Z",
     "iopub.status.idle": "2021-03-14T14:13:28.171115Z",
     "shell.execute_reply": "2021-03-14T14:13:28.170277Z"
    }
   },
   "outputs": [],
   "source": [
    "df.columns = ['location','doses']"
   ]
  },
  {
   "cell_type": "markdown",
   "metadata": {},
   "source": [
    "Grab the overall California total"
   ]
  },
  {
   "cell_type": "code",
   "execution_count": 11,
   "metadata": {
    "execution": {
     "iopub.execute_input": "2021-03-14T14:13:28.176303Z",
     "iopub.status.busy": "2021-03-14T14:13:28.174947Z",
     "iopub.status.idle": "2021-03-14T14:13:28.176950Z",
     "shell.execute_reply": "2021-03-14T14:13:28.177425Z"
    }
   },
   "outputs": [],
   "source": [
    "add = {'location':'California','doses':dataJson[0]['dataValues'][2]}"
   ]
  },
  {
   "cell_type": "code",
   "execution_count": 12,
   "metadata": {
    "execution": {
     "iopub.execute_input": "2021-03-14T14:13:28.185992Z",
     "iopub.status.busy": "2021-03-14T14:13:28.184628Z",
     "iopub.status.idle": "2021-03-14T14:13:28.186805Z",
     "shell.execute_reply": "2021-03-14T14:13:28.187327Z"
    }
   },
   "outputs": [],
   "source": [
    "df = df.append(add, ignore_index=True)"
   ]
  },
  {
   "cell_type": "code",
   "execution_count": 13,
   "metadata": {
    "execution": {
     "iopub.execute_input": "2021-03-14T14:13:28.193564Z",
     "iopub.status.busy": "2021-03-14T14:13:28.192147Z",
     "iopub.status.idle": "2021-03-14T14:13:28.194199Z",
     "shell.execute_reply": "2021-03-14T14:13:28.194818Z"
    }
   },
   "outputs": [],
   "source": [
    "df = df.sort_values(by='location')"
   ]
  },
  {
   "cell_type": "code",
   "execution_count": 14,
   "metadata": {
    "execution": {
     "iopub.execute_input": "2021-03-14T14:13:28.202907Z",
     "iopub.status.busy": "2021-03-14T14:13:28.201277Z",
     "iopub.status.idle": "2021-03-14T14:13:28.203581Z",
     "shell.execute_reply": "2021-03-14T14:13:28.204103Z"
    }
   },
   "outputs": [],
   "source": [
    "df = df[df.location == 'California'].append(df[df.location != 'California']).reset_index(drop=True)"
   ]
  },
  {
   "cell_type": "code",
   "execution_count": null,
   "metadata": {},
   "outputs": [],
   "source": []
  },
  {
   "cell_type": "code",
   "execution_count": 15,
   "metadata": {
    "execution": {
     "iopub.execute_input": "2021-03-14T14:13:28.208126Z",
     "iopub.status.busy": "2021-03-14T14:13:28.207530Z",
     "iopub.status.idle": "2021-03-14T14:13:28.228316Z",
     "shell.execute_reply": "2021-03-14T14:13:28.227749Z"
    }
   },
   "outputs": [],
   "source": [
    "tz = pytz.timezone(\"America/New_York\")"
   ]
  },
  {
   "cell_type": "code",
   "execution_count": 16,
   "metadata": {
    "execution": {
     "iopub.execute_input": "2021-03-14T14:13:28.234121Z",
     "iopub.status.busy": "2021-03-14T14:13:28.232294Z",
     "iopub.status.idle": "2021-03-14T14:13:28.234863Z",
     "shell.execute_reply": "2021-03-14T14:13:28.235422Z"
    }
   },
   "outputs": [],
   "source": [
    "today = datetime.now(tz).date()"
   ]
  },
  {
   "cell_type": "code",
   "execution_count": 17,
   "metadata": {
    "execution": {
     "iopub.execute_input": "2021-03-14T14:13:28.240696Z",
     "iopub.status.busy": "2021-03-14T14:13:28.239282Z",
     "iopub.status.idle": "2021-03-14T14:13:28.241428Z",
     "shell.execute_reply": "2021-03-14T14:13:28.242252Z"
    }
   },
   "outputs": [],
   "source": [
    "data_dir = os.path.join(os.path.abspath(\"\"), \"data\")"
   ]
  },
  {
   "cell_type": "code",
   "execution_count": 18,
   "metadata": {
    "execution": {
     "iopub.execute_input": "2021-03-14T14:13:28.247419Z",
     "iopub.status.busy": "2021-03-14T14:13:28.245835Z",
     "iopub.status.idle": "2021-03-14T14:13:28.251384Z",
     "shell.execute_reply": "2021-03-14T14:13:28.250864Z"
    }
   },
   "outputs": [],
   "source": [
    "df.to_csv(os.path.join(data_dir, f\"{today}.csv\"), index=False)"
   ]
  },
  {
   "cell_type": "code",
   "execution_count": null,
   "metadata": {},
   "outputs": [],
   "source": []
  }
 ],
 "metadata": {
  "kernelspec": {
   "display_name": "Python 3",
   "language": "python",
   "name": "python3"
  },
  "language_info": {
   "codemirror_mode": {
    "name": "ipython",
    "version": 3
   },
   "file_extension": ".py",
   "mimetype": "text/x-python",
   "name": "python",
   "nbconvert_exporter": "python",
   "pygments_lexer": "ipython3",
   "version": "3.8.8"
  }
 },
 "nbformat": 4,
 "nbformat_minor": 4
}
