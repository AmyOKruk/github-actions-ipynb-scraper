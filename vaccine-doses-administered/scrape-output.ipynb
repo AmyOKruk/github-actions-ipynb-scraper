{
 "cells": [
  {
   "cell_type": "markdown",
   "metadata": {},
   "source": [
    "# California COVID vaccinations scrape"
   ]
  },
  {
   "cell_type": "markdown",
   "metadata": {},
   "source": [
    "By [Amy O'Kruk](https://twitter.com/amyokruk)"
   ]
  },
  {
   "cell_type": "markdown",
   "metadata": {},
   "source": [
    "Downloads data on vaccine doses administered by county and statewide from a Tableau-powered dashboard from the California Department of Public Health."
   ]
  },
  {
   "cell_type": "code",
   "execution_count": 1,
   "metadata": {
    "execution": {
     "iopub.execute_input": "2021-03-21T18:34:01.387187Z",
     "iopub.status.busy": "2021-03-21T18:34:01.385173Z",
     "iopub.status.idle": "2021-03-21T18:34:01.793920Z",
     "shell.execute_reply": "2021-03-21T18:34:01.792776Z"
    }
   },
   "outputs": [],
   "source": [
    "import pandas as pd\n",
    "import requests\n",
    "from bs4 import BeautifulSoup\n",
    "import json\n",
    "import re\n",
    "import time\n",
    "from time import gmtime, strftime \n",
    "import os\n",
    "import pytz\n",
    "from datetime import datetime"
   ]
  },
  {
   "cell_type": "markdown",
   "metadata": {},
   "source": [
    "Scrape the dashboard page"
   ]
  },
  {
   "cell_type": "code",
   "execution_count": 2,
   "metadata": {
    "execution": {
     "iopub.execute_input": "2021-03-21T18:34:01.800361Z",
     "iopub.status.busy": "2021-03-21T18:34:01.798685Z",
     "iopub.status.idle": "2021-03-21T18:34:02.158899Z",
     "shell.execute_reply": "2021-03-21T18:34:02.158073Z"
    }
   },
   "outputs": [],
   "source": [
    "url = \"https://public.tableau.com/interactive/views/COVID-19VaccineDashboardPublic/Vaccine?:embed=y&:showVizHome=n&:apiID=host0\"\n",
    "\n",
    "r = requests.get(url)\n",
    "soup = BeautifulSoup(r.text, \"html.parser\")"
   ]
  },
  {
   "cell_type": "code",
   "execution_count": 3,
   "metadata": {
    "execution": {
     "iopub.execute_input": "2021-03-21T18:34:02.164751Z",
     "iopub.status.busy": "2021-03-21T18:34:02.163670Z",
     "iopub.status.idle": "2021-03-21T18:34:02.165303Z",
     "shell.execute_reply": "2021-03-21T18:34:02.165742Z"
    }
   },
   "outputs": [],
   "source": [
    "tableauData = json.loads(soup.find(\"textarea\",{\"id\": \"tsConfigContainer\"}).text)"
   ]
  },
  {
   "cell_type": "markdown",
   "metadata": {},
   "source": [
    "Get the link to the Tableau data"
   ]
  },
  {
   "cell_type": "code",
   "execution_count": 4,
   "metadata": {
    "execution": {
     "iopub.execute_input": "2021-03-21T18:34:02.169780Z",
     "iopub.status.busy": "2021-03-21T18:34:02.168844Z",
     "iopub.status.idle": "2021-03-21T18:34:02.170662Z",
     "shell.execute_reply": "2021-03-21T18:34:02.171074Z"
    }
   },
   "outputs": [],
   "source": [
    "dataUrl = f'https://public.tableau.com{tableauData[\"vizql_root\"]}/bootstrapSession/sessions/{tableauData[\"sessionid\"]}'"
   ]
  },
  {
   "cell_type": "code",
   "execution_count": 5,
   "metadata": {
    "execution": {
     "iopub.execute_input": "2021-03-21T18:34:02.177609Z",
     "iopub.status.busy": "2021-03-21T18:34:02.177064Z",
     "iopub.status.idle": "2021-03-21T18:34:02.437999Z",
     "shell.execute_reply": "2021-03-21T18:34:02.437482Z"
    }
   },
   "outputs": [],
   "source": [
    "r = requests.post(dataUrl, data= {\n",
    "    \"sheet_id\": tableauData[\"sheetId\"],\n",
    "})\n",
    "\n",
    "dataReg = re.search('\\d+;({.*})\\d+;({.*})', r.text, re.MULTILINE)\n",
    "data1 = json.loads(dataReg.group(2))\n",
    "\n",
    "dataJson = data1[\"secondaryInfo\"][\"presModelMap\"][\"dataDictionary\"][\"presModelHolder\"][\"genDataDictionaryPresModel\"][\"dataSegments\"][\"0\"][\"dataColumns\"]"
   ]
  },
  {
   "cell_type": "markdown",
   "metadata": {},
   "source": [
    "Isolate what you want"
   ]
  },
  {
   "cell_type": "code",
   "execution_count": 6,
   "metadata": {
    "execution": {
     "iopub.execute_input": "2021-03-21T18:34:02.442608Z",
     "iopub.status.busy": "2021-03-21T18:34:02.441292Z",
     "iopub.status.idle": "2021-03-21T18:34:02.443224Z",
     "shell.execute_reply": "2021-03-21T18:34:02.443670Z"
    }
   },
   "outputs": [],
   "source": [
    "counties = dataJson[2]['dataValues'][:58]"
   ]
  },
  {
   "cell_type": "code",
   "execution_count": 7,
   "metadata": {
    "execution": {
     "iopub.execute_input": "2021-03-21T18:34:02.448039Z",
     "iopub.status.busy": "2021-03-21T18:34:02.446853Z",
     "iopub.status.idle": "2021-03-21T18:34:02.448634Z",
     "shell.execute_reply": "2021-03-21T18:34:02.449053Z"
    }
   },
   "outputs": [],
   "source": [
    "doses = dataJson[0]['dataValues'][3:61]"
   ]
  },
  {
   "cell_type": "markdown",
   "metadata": {},
   "source": [
    "Data formatting"
   ]
  },
  {
   "cell_type": "code",
   "execution_count": 8,
   "metadata": {
    "execution": {
     "iopub.execute_input": "2021-03-21T18:34:02.453263Z",
     "iopub.status.busy": "2021-03-21T18:34:02.452086Z",
     "iopub.status.idle": "2021-03-21T18:34:02.453965Z",
     "shell.execute_reply": "2021-03-21T18:34:02.454393Z"
    }
   },
   "outputs": [],
   "source": [
    "zipped = dict(zip(counties, doses))"
   ]
  },
  {
   "cell_type": "code",
   "execution_count": 9,
   "metadata": {
    "execution": {
     "iopub.execute_input": "2021-03-21T18:34:02.460613Z",
     "iopub.status.busy": "2021-03-21T18:34:02.459503Z",
     "iopub.status.idle": "2021-03-21T18:34:02.461193Z",
     "shell.execute_reply": "2021-03-21T18:34:02.461633Z"
    }
   },
   "outputs": [],
   "source": [
    "df = pd.Series(zipped).reset_index()"
   ]
  },
  {
   "cell_type": "code",
   "execution_count": 10,
   "metadata": {
    "execution": {
     "iopub.execute_input": "2021-03-21T18:34:02.465879Z",
     "iopub.status.busy": "2021-03-21T18:34:02.464695Z",
     "iopub.status.idle": "2021-03-21T18:34:02.466542Z",
     "shell.execute_reply": "2021-03-21T18:34:02.466961Z"
    }
   },
   "outputs": [],
   "source": [
    "df.columns = ['location','doses']"
   ]
  },
  {
   "cell_type": "markdown",
   "metadata": {},
   "source": [
    "Grab the overall California total"
   ]
  },
  {
   "cell_type": "code",
   "execution_count": 11,
   "metadata": {
    "execution": {
     "iopub.execute_input": "2021-03-21T18:34:02.471294Z",
     "iopub.status.busy": "2021-03-21T18:34:02.470108Z",
     "iopub.status.idle": "2021-03-21T18:34:02.471885Z",
     "shell.execute_reply": "2021-03-21T18:34:02.472305Z"
    }
   },
   "outputs": [],
   "source": [
    "add = {'location':'California','doses':dataJson[0]['dataValues'][2]}"
   ]
  },
  {
   "cell_type": "code",
   "execution_count": 12,
   "metadata": {
    "execution": {
     "iopub.execute_input": "2021-03-21T18:34:02.479365Z",
     "iopub.status.busy": "2021-03-21T18:34:02.478159Z",
     "iopub.status.idle": "2021-03-21T18:34:02.479959Z",
     "shell.execute_reply": "2021-03-21T18:34:02.480378Z"
    }
   },
   "outputs": [],
   "source": [
    "df = df.append(add, ignore_index=True)"
   ]
  },
  {
   "cell_type": "code",
   "execution_count": 13,
   "metadata": {
    "execution": {
     "iopub.execute_input": "2021-03-21T18:34:02.485307Z",
     "iopub.status.busy": "2021-03-21T18:34:02.484180Z",
     "iopub.status.idle": "2021-03-21T18:34:02.486021Z",
     "shell.execute_reply": "2021-03-21T18:34:02.486446Z"
    }
   },
   "outputs": [],
   "source": [
    "df = df.sort_values(by='location')"
   ]
  },
  {
   "cell_type": "code",
   "execution_count": 14,
   "metadata": {
    "execution": {
     "iopub.execute_input": "2021-03-21T18:34:02.492720Z",
     "iopub.status.busy": "2021-03-21T18:34:02.491623Z",
     "iopub.status.idle": "2021-03-21T18:34:02.493316Z",
     "shell.execute_reply": "2021-03-21T18:34:02.493768Z"
    }
   },
   "outputs": [],
   "source": [
    "df = df[df.location == 'California'].append(df[df.location != 'California']).reset_index(drop=True)"
   ]
  },
  {
   "cell_type": "code",
   "execution_count": null,
   "metadata": {},
   "outputs": [],
   "source": []
  },
  {
   "cell_type": "code",
   "execution_count": 15,
   "metadata": {
    "execution": {
     "iopub.execute_input": "2021-03-21T18:34:02.497180Z",
     "iopub.status.busy": "2021-03-21T18:34:02.496676Z",
     "iopub.status.idle": "2021-03-21T18:34:02.513507Z",
     "shell.execute_reply": "2021-03-21T18:34:02.513923Z"
    }
   },
   "outputs": [],
   "source": [
    "tz = pytz.timezone(\"America/New_York\")"
   ]
  },
  {
   "cell_type": "code",
   "execution_count": 16,
   "metadata": {
    "execution": {
     "iopub.execute_input": "2021-03-21T18:34:02.517991Z",
     "iopub.status.busy": "2021-03-21T18:34:02.516853Z",
     "iopub.status.idle": "2021-03-21T18:34:02.518584Z",
     "shell.execute_reply": "2021-03-21T18:34:02.519006Z"
    }
   },
   "outputs": [],
   "source": [
    "today = datetime.now(tz).date()"
   ]
  },
  {
   "cell_type": "code",
   "execution_count": 17,
   "metadata": {
    "execution": {
     "iopub.execute_input": "2021-03-21T18:34:02.523146Z",
     "iopub.status.busy": "2021-03-21T18:34:02.522034Z",
     "iopub.status.idle": "2021-03-21T18:34:02.523736Z",
     "shell.execute_reply": "2021-03-21T18:34:02.524156Z"
    }
   },
   "outputs": [],
   "source": [
    "data_dir = os.path.join(os.path.abspath(\"\"), \"data\")"
   ]
  },
  {
   "cell_type": "code",
   "execution_count": 18,
   "metadata": {
    "execution": {
     "iopub.execute_input": "2021-03-21T18:34:02.528441Z",
     "iopub.status.busy": "2021-03-21T18:34:02.527210Z",
     "iopub.status.idle": "2021-03-21T18:34:02.531826Z",
     "shell.execute_reply": "2021-03-21T18:34:02.531312Z"
    }
   },
   "outputs": [],
   "source": [
    "df.to_csv(os.path.join(data_dir, f\"{today}.csv\"), index=False)"
   ]
  },
  {
   "cell_type": "code",
   "execution_count": null,
   "metadata": {},
   "outputs": [],
   "source": []
  }
 ],
 "metadata": {
  "kernelspec": {
   "display_name": "Python 3",
   "language": "python",
   "name": "python3"
  },
  "language_info": {
   "codemirror_mode": {
    "name": "ipython",
    "version": 3
   },
   "file_extension": ".py",
   "mimetype": "text/x-python",
   "name": "python",
   "nbconvert_exporter": "python",
   "pygments_lexer": "ipython3",
   "version": "3.8.8"
  }
 },
 "nbformat": 4,
 "nbformat_minor": 4
}
