{
 "cells": [
  {
   "cell_type": "markdown",
   "metadata": {},
   "source": [
    "# California COVID vaccinations scrape"
   ]
  },
  {
   "cell_type": "markdown",
   "metadata": {},
   "source": [
    "By [Amy O'Kruk](https://twitter.com/amyokruk)"
   ]
  },
  {
   "cell_type": "markdown",
   "metadata": {},
   "source": [
    "Downloads data on vaccine doses administered by county and statewide from a Tableau-powered dashboard from the California Department of Public Health."
   ]
  },
  {
   "cell_type": "code",
   "execution_count": 1,
   "metadata": {
    "execution": {
     "iopub.execute_input": "2021-03-22T07:46:06.031530Z",
     "iopub.status.busy": "2021-03-22T07:46:06.030869Z",
     "iopub.status.idle": "2021-03-22T07:46:06.516126Z",
     "shell.execute_reply": "2021-03-22T07:46:06.515207Z"
    }
   },
   "outputs": [],
   "source": [
    "import pandas as pd\n",
    "import requests\n",
    "from bs4 import BeautifulSoup\n",
    "import json\n",
    "import re\n",
    "import time\n",
    "from time import gmtime, strftime \n",
    "import os\n",
    "import pytz\n",
    "from datetime import datetime"
   ]
  },
  {
   "cell_type": "markdown",
   "metadata": {},
   "source": [
    "Scrape the dashboard page"
   ]
  },
  {
   "cell_type": "code",
   "execution_count": 2,
   "metadata": {
    "execution": {
     "iopub.execute_input": "2021-03-22T07:46:06.524141Z",
     "iopub.status.busy": "2021-03-22T07:46:06.520552Z",
     "iopub.status.idle": "2021-03-22T07:46:07.347961Z",
     "shell.execute_reply": "2021-03-22T07:46:07.343849Z"
    }
   },
   "outputs": [],
   "source": [
    "url = \"https://public.tableau.com/interactive/views/COVID-19VaccineDashboardPublic/Vaccine?:embed=y&:showVizHome=n&:apiID=host0\"\n",
    "\n",
    "r = requests.get(url)\n",
    "soup = BeautifulSoup(r.text, \"html.parser\")"
   ]
  },
  {
   "cell_type": "code",
   "execution_count": 3,
   "metadata": {
    "execution": {
     "iopub.execute_input": "2021-03-22T07:46:07.353236Z",
     "iopub.status.busy": "2021-03-22T07:46:07.352455Z",
     "iopub.status.idle": "2021-03-22T07:46:07.355203Z",
     "shell.execute_reply": "2021-03-22T07:46:07.355756Z"
    }
   },
   "outputs": [],
   "source": [
    "tableauData = json.loads(soup.find(\"textarea\",{\"id\": \"tsConfigContainer\"}).text)"
   ]
  },
  {
   "cell_type": "markdown",
   "metadata": {},
   "source": [
    "Get the link to the Tableau data"
   ]
  },
  {
   "cell_type": "code",
   "execution_count": 4,
   "metadata": {
    "execution": {
     "iopub.execute_input": "2021-03-22T07:46:07.360960Z",
     "iopub.status.busy": "2021-03-22T07:46:07.359807Z",
     "iopub.status.idle": "2021-03-22T07:46:07.362117Z",
     "shell.execute_reply": "2021-03-22T07:46:07.362809Z"
    }
   },
   "outputs": [],
   "source": [
    "dataUrl = f'https://public.tableau.com{tableauData[\"vizql_root\"]}/bootstrapSession/sessions/{tableauData[\"sessionid\"]}'"
   ]
  },
  {
   "cell_type": "code",
   "execution_count": 5,
   "metadata": {
    "execution": {
     "iopub.execute_input": "2021-03-22T07:46:07.370797Z",
     "iopub.status.busy": "2021-03-22T07:46:07.370151Z",
     "iopub.status.idle": "2021-03-22T07:46:07.618012Z",
     "shell.execute_reply": "2021-03-22T07:46:07.617476Z"
    }
   },
   "outputs": [],
   "source": [
    "r = requests.post(dataUrl, data= {\n",
    "    \"sheet_id\": tableauData[\"sheetId\"],\n",
    "})\n",
    "\n",
    "dataReg = re.search('\\d+;({.*})\\d+;({.*})', r.text, re.MULTILINE)\n",
    "data1 = json.loads(dataReg.group(2))\n",
    "\n",
    "dataJson = data1[\"secondaryInfo\"][\"presModelMap\"][\"dataDictionary\"][\"presModelHolder\"][\"genDataDictionaryPresModel\"][\"dataSegments\"][\"0\"][\"dataColumns\"]"
   ]
  },
  {
   "cell_type": "markdown",
   "metadata": {},
   "source": [
    "Isolate what you want"
   ]
  },
  {
   "cell_type": "code",
   "execution_count": 6,
   "metadata": {
    "execution": {
     "iopub.execute_input": "2021-03-22T07:46:07.623432Z",
     "iopub.status.busy": "2021-03-22T07:46:07.622084Z",
     "iopub.status.idle": "2021-03-22T07:46:07.624154Z",
     "shell.execute_reply": "2021-03-22T07:46:07.624632Z"
    }
   },
   "outputs": [],
   "source": [
    "counties = dataJson[2]['dataValues'][:58]"
   ]
  },
  {
   "cell_type": "code",
   "execution_count": 7,
   "metadata": {
    "execution": {
     "iopub.execute_input": "2021-03-22T07:46:07.629380Z",
     "iopub.status.busy": "2021-03-22T07:46:07.627878Z",
     "iopub.status.idle": "2021-03-22T07:46:07.630069Z",
     "shell.execute_reply": "2021-03-22T07:46:07.630525Z"
    }
   },
   "outputs": [],
   "source": [
    "doses = dataJson[0]['dataValues'][3:61]"
   ]
  },
  {
   "cell_type": "markdown",
   "metadata": {},
   "source": [
    "Data formatting"
   ]
  },
  {
   "cell_type": "code",
   "execution_count": 8,
   "metadata": {
    "execution": {
     "iopub.execute_input": "2021-03-22T07:46:07.634885Z",
     "iopub.status.busy": "2021-03-22T07:46:07.633636Z",
     "iopub.status.idle": "2021-03-22T07:46:07.636410Z",
     "shell.execute_reply": "2021-03-22T07:46:07.635797Z"
    }
   },
   "outputs": [],
   "source": [
    "zipped = dict(zip(counties, doses))"
   ]
  },
  {
   "cell_type": "code",
   "execution_count": 9,
   "metadata": {
    "execution": {
     "iopub.execute_input": "2021-03-22T07:46:07.643854Z",
     "iopub.status.busy": "2021-03-22T07:46:07.642411Z",
     "iopub.status.idle": "2021-03-22T07:46:07.645477Z",
     "shell.execute_reply": "2021-03-22T07:46:07.647014Z"
    }
   },
   "outputs": [],
   "source": [
    "df = pd.Series(zipped).reset_index()"
   ]
  },
  {
   "cell_type": "code",
   "execution_count": 10,
   "metadata": {
    "execution": {
     "iopub.execute_input": "2021-03-22T07:46:07.651493Z",
     "iopub.status.busy": "2021-03-22T07:46:07.650329Z",
     "iopub.status.idle": "2021-03-22T07:46:07.652536Z",
     "shell.execute_reply": "2021-03-22T07:46:07.652966Z"
    }
   },
   "outputs": [],
   "source": [
    "df.columns = ['location','doses']"
   ]
  },
  {
   "cell_type": "markdown",
   "metadata": {},
   "source": [
    "Grab the overall California total"
   ]
  },
  {
   "cell_type": "code",
   "execution_count": 11,
   "metadata": {
    "execution": {
     "iopub.execute_input": "2021-03-22T07:46:07.658019Z",
     "iopub.status.busy": "2021-03-22T07:46:07.656619Z",
     "iopub.status.idle": "2021-03-22T07:46:07.658594Z",
     "shell.execute_reply": "2021-03-22T07:46:07.659028Z"
    }
   },
   "outputs": [],
   "source": [
    "add = {'location':'California','doses':dataJson[0]['dataValues'][2]}"
   ]
  },
  {
   "cell_type": "code",
   "execution_count": 12,
   "metadata": {
    "execution": {
     "iopub.execute_input": "2021-03-22T07:46:07.667175Z",
     "iopub.status.busy": "2021-03-22T07:46:07.665571Z",
     "iopub.status.idle": "2021-03-22T07:46:07.667776Z",
     "shell.execute_reply": "2021-03-22T07:46:07.668329Z"
    }
   },
   "outputs": [],
   "source": [
    "df = df.append(add, ignore_index=True)"
   ]
  },
  {
   "cell_type": "code",
   "execution_count": 13,
   "metadata": {
    "execution": {
     "iopub.execute_input": "2021-03-22T07:46:07.674201Z",
     "iopub.status.busy": "2021-03-22T07:46:07.672914Z",
     "iopub.status.idle": "2021-03-22T07:46:07.674815Z",
     "shell.execute_reply": "2021-03-22T07:46:07.675308Z"
    }
   },
   "outputs": [],
   "source": [
    "df = df.sort_values(by='location')"
   ]
  },
  {
   "cell_type": "code",
   "execution_count": 14,
   "metadata": {
    "execution": {
     "iopub.execute_input": "2021-03-22T07:46:07.684366Z",
     "iopub.status.busy": "2021-03-22T07:46:07.682851Z",
     "iopub.status.idle": "2021-03-22T07:46:07.684967Z",
     "shell.execute_reply": "2021-03-22T07:46:07.685581Z"
    }
   },
   "outputs": [],
   "source": [
    "df = df[df.location == 'California'].append(df[df.location != 'California']).reset_index(drop=True)"
   ]
  },
  {
   "cell_type": "code",
   "execution_count": null,
   "metadata": {},
   "outputs": [],
   "source": []
  },
  {
   "cell_type": "code",
   "execution_count": 15,
   "metadata": {
    "execution": {
     "iopub.execute_input": "2021-03-22T07:46:07.691055Z",
     "iopub.status.busy": "2021-03-22T07:46:07.690260Z",
     "iopub.status.idle": "2021-03-22T07:46:07.709165Z",
     "shell.execute_reply": "2021-03-22T07:46:07.708638Z"
    }
   },
   "outputs": [],
   "source": [
    "tz = pytz.timezone(\"America/New_York\")"
   ]
  },
  {
   "cell_type": "code",
   "execution_count": 16,
   "metadata": {
    "execution": {
     "iopub.execute_input": "2021-03-22T07:46:07.714357Z",
     "iopub.status.busy": "2021-03-22T07:46:07.712954Z",
     "iopub.status.idle": "2021-03-22T07:46:07.715026Z",
     "shell.execute_reply": "2021-03-22T07:46:07.715574Z"
    }
   },
   "outputs": [],
   "source": [
    "today = datetime.now(tz).date()"
   ]
  },
  {
   "cell_type": "code",
   "execution_count": 17,
   "metadata": {
    "execution": {
     "iopub.execute_input": "2021-03-22T07:46:07.720622Z",
     "iopub.status.busy": "2021-03-22T07:46:07.719127Z",
     "iopub.status.idle": "2021-03-22T07:46:07.721239Z",
     "shell.execute_reply": "2021-03-22T07:46:07.721696Z"
    }
   },
   "outputs": [],
   "source": [
    "data_dir = os.path.join(os.path.abspath(\"\"), \"data\")"
   ]
  },
  {
   "cell_type": "code",
   "execution_count": 18,
   "metadata": {
    "execution": {
     "iopub.execute_input": "2021-03-22T07:46:07.727310Z",
     "iopub.status.busy": "2021-03-22T07:46:07.725343Z",
     "iopub.status.idle": "2021-03-22T07:46:07.758852Z",
     "shell.execute_reply": "2021-03-22T07:46:07.759342Z"
    }
   },
   "outputs": [],
   "source": [
    "df.to_csv(os.path.join(data_dir, f\"{today}.csv\"), index=False)"
   ]
  },
  {
   "cell_type": "code",
   "execution_count": null,
   "metadata": {},
   "outputs": [],
   "source": []
  }
 ],
 "metadata": {
  "kernelspec": {
   "display_name": "Python 3",
   "language": "python",
   "name": "python3"
  },
  "language_info": {
   "codemirror_mode": {
    "name": "ipython",
    "version": 3
   },
   "file_extension": ".py",
   "mimetype": "text/x-python",
   "name": "python",
   "nbconvert_exporter": "python",
   "pygments_lexer": "ipython3",
   "version": "3.8.8"
  }
 },
 "nbformat": 4,
 "nbformat_minor": 4
}
