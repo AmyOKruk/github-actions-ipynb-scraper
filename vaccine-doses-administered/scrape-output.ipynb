{
 "cells": [
  {
   "cell_type": "markdown",
   "metadata": {},
   "source": [
    "# California COVID vaccinations scrape"
   ]
  },
  {
   "cell_type": "markdown",
   "metadata": {},
   "source": [
    "By [Amy O'Kruk](https://twitter.com/amyokruk)"
   ]
  },
  {
   "cell_type": "markdown",
   "metadata": {},
   "source": [
    "Downloads data on vaccine doses administered by county and statewide from a Tableau-powered dashboard from the California Department of Public Health."
   ]
  },
  {
   "cell_type": "code",
   "execution_count": 1,
   "metadata": {
    "execution": {
     "iopub.execute_input": "2021-03-13T05:12:48.778441Z",
     "iopub.status.busy": "2021-03-13T05:12:48.777817Z",
     "iopub.status.idle": "2021-03-13T05:12:49.144764Z",
     "shell.execute_reply": "2021-03-13T05:12:49.143618Z"
    }
   },
   "outputs": [],
   "source": [
    "import pandas as pd\n",
    "import requests\n",
    "from bs4 import BeautifulSoup\n",
    "import json\n",
    "import re\n",
    "import time\n",
    "from time import gmtime, strftime \n",
    "import os\n",
    "import pytz\n",
    "from datetime import datetime"
   ]
  },
  {
   "cell_type": "markdown",
   "metadata": {},
   "source": [
    "Scrape the dashboard page"
   ]
  },
  {
   "cell_type": "code",
   "execution_count": 2,
   "metadata": {
    "execution": {
     "iopub.execute_input": "2021-03-13T05:12:49.150268Z",
     "iopub.status.busy": "2021-03-13T05:12:49.149727Z",
     "iopub.status.idle": "2021-03-13T05:12:49.493104Z",
     "shell.execute_reply": "2021-03-13T05:12:49.492164Z"
    }
   },
   "outputs": [],
   "source": [
    "url = \"https://public.tableau.com/interactive/views/COVID-19VaccineDashboardPublic/Vaccine?:embed=y&:showVizHome=n&:apiID=host0\"\n",
    "\n",
    "r = requests.get(url)\n",
    "soup = BeautifulSoup(r.text, \"html.parser\")"
   ]
  },
  {
   "cell_type": "code",
   "execution_count": 3,
   "metadata": {
    "execution": {
     "iopub.execute_input": "2021-03-13T05:12:49.497914Z",
     "iopub.status.busy": "2021-03-13T05:12:49.497391Z",
     "iopub.status.idle": "2021-03-13T05:12:49.500909Z",
     "shell.execute_reply": "2021-03-13T05:12:49.500445Z"
    }
   },
   "outputs": [],
   "source": [
    "tableauData = json.loads(soup.find(\"textarea\",{\"id\": \"tsConfigContainer\"}).text)"
   ]
  },
  {
   "cell_type": "markdown",
   "metadata": {},
   "source": [
    "Get the link to the Tableau data"
   ]
  },
  {
   "cell_type": "code",
   "execution_count": 4,
   "metadata": {
    "execution": {
     "iopub.execute_input": "2021-03-13T05:12:49.504688Z",
     "iopub.status.busy": "2021-03-13T05:12:49.504165Z",
     "iopub.status.idle": "2021-03-13T05:12:49.507619Z",
     "shell.execute_reply": "2021-03-13T05:12:49.507131Z"
    }
   },
   "outputs": [],
   "source": [
    "dataUrl = f'https://public.tableau.com{tableauData[\"vizql_root\"]}/bootstrapSession/sessions/{tableauData[\"sessionid\"]}'"
   ]
  },
  {
   "cell_type": "code",
   "execution_count": 5,
   "metadata": {
    "execution": {
     "iopub.execute_input": "2021-03-13T05:12:49.514529Z",
     "iopub.status.busy": "2021-03-13T05:12:49.514001Z",
     "iopub.status.idle": "2021-03-13T05:12:49.714477Z",
     "shell.execute_reply": "2021-03-13T05:12:49.713407Z"
    }
   },
   "outputs": [],
   "source": [
    "r = requests.post(dataUrl, data= {\n",
    "    \"sheet_id\": tableauData[\"sheetId\"],\n",
    "})\n",
    "\n",
    "dataReg = re.search('\\d+;({.*})\\d+;({.*})', r.text, re.MULTILINE)\n",
    "data1 = json.loads(dataReg.group(2))\n",
    "\n",
    "dataJson = data1[\"secondaryInfo\"][\"presModelMap\"][\"dataDictionary\"][\"presModelHolder\"][\"genDataDictionaryPresModel\"][\"dataSegments\"][\"0\"][\"dataColumns\"]"
   ]
  },
  {
   "cell_type": "markdown",
   "metadata": {},
   "source": [
    "Isolate what you want"
   ]
  },
  {
   "cell_type": "code",
   "execution_count": 6,
   "metadata": {
    "execution": {
     "iopub.execute_input": "2021-03-13T05:12:49.718273Z",
     "iopub.status.busy": "2021-03-13T05:12:49.717755Z",
     "iopub.status.idle": "2021-03-13T05:12:49.721183Z",
     "shell.execute_reply": "2021-03-13T05:12:49.720727Z"
    }
   },
   "outputs": [],
   "source": [
    "counties = dataJson[2]['dataValues'][:58]"
   ]
  },
  {
   "cell_type": "code",
   "execution_count": 7,
   "metadata": {
    "execution": {
     "iopub.execute_input": "2021-03-13T05:12:49.724802Z",
     "iopub.status.busy": "2021-03-13T05:12:49.724283Z",
     "iopub.status.idle": "2021-03-13T05:12:49.727304Z",
     "shell.execute_reply": "2021-03-13T05:12:49.727746Z"
    }
   },
   "outputs": [],
   "source": [
    "doses = dataJson[0]['dataValues'][3:61]"
   ]
  },
  {
   "cell_type": "markdown",
   "metadata": {},
   "source": [
    "Data formatting"
   ]
  },
  {
   "cell_type": "code",
   "execution_count": 8,
   "metadata": {
    "execution": {
     "iopub.execute_input": "2021-03-13T05:12:49.731324Z",
     "iopub.status.busy": "2021-03-13T05:12:49.730774Z",
     "iopub.status.idle": "2021-03-13T05:12:49.733771Z",
     "shell.execute_reply": "2021-03-13T05:12:49.734210Z"
    }
   },
   "outputs": [],
   "source": [
    "zipped = dict(zip(counties, doses))"
   ]
  },
  {
   "cell_type": "code",
   "execution_count": 9,
   "metadata": {
    "execution": {
     "iopub.execute_input": "2021-03-13T05:12:49.739927Z",
     "iopub.status.busy": "2021-03-13T05:12:49.739413Z",
     "iopub.status.idle": "2021-03-13T05:12:49.742749Z",
     "shell.execute_reply": "2021-03-13T05:12:49.742287Z"
    }
   },
   "outputs": [],
   "source": [
    "df = pd.Series(zipped).reset_index()"
   ]
  },
  {
   "cell_type": "code",
   "execution_count": 10,
   "metadata": {
    "execution": {
     "iopub.execute_input": "2021-03-13T05:12:49.746358Z",
     "iopub.status.busy": "2021-03-13T05:12:49.745851Z",
     "iopub.status.idle": "2021-03-13T05:12:49.749605Z",
     "shell.execute_reply": "2021-03-13T05:12:49.748700Z"
    }
   },
   "outputs": [],
   "source": [
    "df.columns = ['location','doses']"
   ]
  },
  {
   "cell_type": "markdown",
   "metadata": {},
   "source": [
    "Grab the overall California total"
   ]
  },
  {
   "cell_type": "code",
   "execution_count": 11,
   "metadata": {
    "execution": {
     "iopub.execute_input": "2021-03-13T05:12:49.753021Z",
     "iopub.status.busy": "2021-03-13T05:12:49.752513Z",
     "iopub.status.idle": "2021-03-13T05:12:49.755442Z",
     "shell.execute_reply": "2021-03-13T05:12:49.755888Z"
    }
   },
   "outputs": [],
   "source": [
    "add = {'location':'California','doses':dataJson[0]['dataValues'][2]}"
   ]
  },
  {
   "cell_type": "code",
   "execution_count": 12,
   "metadata": {
    "execution": {
     "iopub.execute_input": "2021-03-13T05:12:49.762140Z",
     "iopub.status.busy": "2021-03-13T05:12:49.761625Z",
     "iopub.status.idle": "2021-03-13T05:12:49.765042Z",
     "shell.execute_reply": "2021-03-13T05:12:49.764579Z"
    }
   },
   "outputs": [],
   "source": [
    "df = df.append(add, ignore_index=True)"
   ]
  },
  {
   "cell_type": "code",
   "execution_count": 13,
   "metadata": {
    "execution": {
     "iopub.execute_input": "2021-03-13T05:12:49.769208Z",
     "iopub.status.busy": "2021-03-13T05:12:49.768694Z",
     "iopub.status.idle": "2021-03-13T05:12:49.771781Z",
     "shell.execute_reply": "2021-03-13T05:12:49.772220Z"
    }
   },
   "outputs": [],
   "source": [
    "df = df.sort_values(by='location')"
   ]
  },
  {
   "cell_type": "code",
   "execution_count": 14,
   "metadata": {
    "execution": {
     "iopub.execute_input": "2021-03-13T05:12:49.777982Z",
     "iopub.status.busy": "2021-03-13T05:12:49.777458Z",
     "iopub.status.idle": "2021-03-13T05:12:49.781101Z",
     "shell.execute_reply": "2021-03-13T05:12:49.780646Z"
    }
   },
   "outputs": [],
   "source": [
    "df = df[df.location == 'California'].append(df[df.location != 'California']).reset_index(drop=True)"
   ]
  },
  {
   "cell_type": "code",
   "execution_count": null,
   "metadata": {},
   "outputs": [],
   "source": []
  },
  {
   "cell_type": "code",
   "execution_count": 15,
   "metadata": {
    "execution": {
     "iopub.execute_input": "2021-03-13T05:12:49.784652Z",
     "iopub.status.busy": "2021-03-13T05:12:49.783895Z",
     "iopub.status.idle": "2021-03-13T05:12:49.803155Z",
     "shell.execute_reply": "2021-03-13T05:12:49.802666Z"
    }
   },
   "outputs": [],
   "source": [
    "tz = pytz.timezone(\"America/New_York\")"
   ]
  },
  {
   "cell_type": "code",
   "execution_count": 16,
   "metadata": {
    "execution": {
     "iopub.execute_input": "2021-03-13T05:12:49.806726Z",
     "iopub.status.busy": "2021-03-13T05:12:49.806209Z",
     "iopub.status.idle": "2021-03-13T05:12:49.809727Z",
     "shell.execute_reply": "2021-03-13T05:12:49.809258Z"
    }
   },
   "outputs": [],
   "source": [
    "today = datetime.now(tz).date()"
   ]
  },
  {
   "cell_type": "code",
   "execution_count": 17,
   "metadata": {
    "execution": {
     "iopub.execute_input": "2021-03-13T05:12:49.813385Z",
     "iopub.status.busy": "2021-03-13T05:12:49.812869Z",
     "iopub.status.idle": "2021-03-13T05:12:49.816363Z",
     "shell.execute_reply": "2021-03-13T05:12:49.815691Z"
    }
   },
   "outputs": [],
   "source": [
    "data_dir = os.path.join(os.path.abspath(\"\"), \"data\")"
   ]
  },
  {
   "cell_type": "code",
   "execution_count": 18,
   "metadata": {
    "execution": {
     "iopub.execute_input": "2021-03-13T05:12:49.820368Z",
     "iopub.status.busy": "2021-03-13T05:12:49.819840Z",
     "iopub.status.idle": "2021-03-13T05:12:49.825260Z",
     "shell.execute_reply": "2021-03-13T05:12:49.824804Z"
    }
   },
   "outputs": [],
   "source": [
    "df.to_csv(os.path.join(data_dir, f\"{today}.csv\"), index=False)"
   ]
  },
  {
   "cell_type": "code",
   "execution_count": null,
   "metadata": {},
   "outputs": [],
   "source": []
  }
 ],
 "metadata": {
  "kernelspec": {
   "display_name": "Python 3",
   "language": "python",
   "name": "python3"
  },
  "language_info": {
   "codemirror_mode": {
    "name": "ipython",
    "version": 3
   },
   "file_extension": ".py",
   "mimetype": "text/x-python",
   "name": "python",
   "nbconvert_exporter": "python",
   "pygments_lexer": "ipython3",
   "version": "3.8.8"
  }
 },
 "nbformat": 4,
 "nbformat_minor": 4
}
