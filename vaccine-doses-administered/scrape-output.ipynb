{
 "cells": [
  {
   "cell_type": "markdown",
   "metadata": {},
   "source": [
    "# California COVID vaccinations scrape"
   ]
  },
  {
   "cell_type": "markdown",
   "metadata": {},
   "source": [
    "By [Amy O'Kruk](https://twitter.com/amyokruk)"
   ]
  },
  {
   "cell_type": "markdown",
   "metadata": {},
   "source": [
    "Downloads data on vaccine doses administered by county and statewide from a Tableau-powered dashboard from the California Department of Public Health."
   ]
  },
  {
   "cell_type": "code",
   "execution_count": 1,
   "metadata": {
    "execution": {
     "iopub.execute_input": "2021-03-15T16:25:14.033393Z",
     "iopub.status.busy": "2021-03-15T16:25:14.032806Z",
     "iopub.status.idle": "2021-03-15T16:25:14.643577Z",
     "shell.execute_reply": "2021-03-15T16:25:14.644330Z"
    }
   },
   "outputs": [],
   "source": [
    "import pandas as pd\n",
    "import requests\n",
    "from bs4 import BeautifulSoup\n",
    "import json\n",
    "import re\n",
    "import time\n",
    "from time import gmtime, strftime \n",
    "import os\n",
    "import pytz\n",
    "from datetime import datetime"
   ]
  },
  {
   "cell_type": "markdown",
   "metadata": {},
   "source": [
    "Scrape the dashboard page"
   ]
  },
  {
   "cell_type": "code",
   "execution_count": 2,
   "metadata": {
    "execution": {
     "iopub.execute_input": "2021-03-15T16:25:14.651466Z",
     "iopub.status.busy": "2021-03-15T16:25:14.650925Z",
     "iopub.status.idle": "2021-03-15T16:25:15.032064Z",
     "shell.execute_reply": "2021-03-15T16:25:15.032662Z"
    }
   },
   "outputs": [],
   "source": [
    "url = \"https://public.tableau.com/interactive/views/COVID-19VaccineDashboardPublic/Vaccine?:embed=y&:showVizHome=n&:apiID=host0\"\n",
    "\n",
    "r = requests.get(url)\n",
    "soup = BeautifulSoup(r.text, \"html.parser\")"
   ]
  },
  {
   "cell_type": "code",
   "execution_count": 3,
   "metadata": {
    "execution": {
     "iopub.execute_input": "2021-03-15T16:25:15.039431Z",
     "iopub.status.busy": "2021-03-15T16:25:15.038714Z",
     "iopub.status.idle": "2021-03-15T16:25:15.042987Z",
     "shell.execute_reply": "2021-03-15T16:25:15.042405Z"
    }
   },
   "outputs": [],
   "source": [
    "tableauData = json.loads(soup.find(\"textarea\",{\"id\": \"tsConfigContainer\"}).text)"
   ]
  },
  {
   "cell_type": "markdown",
   "metadata": {},
   "source": [
    "Get the link to the Tableau data"
   ]
  },
  {
   "cell_type": "code",
   "execution_count": 4,
   "metadata": {
    "execution": {
     "iopub.execute_input": "2021-03-15T16:25:15.046632Z",
     "iopub.status.busy": "2021-03-15T16:25:15.046115Z",
     "iopub.status.idle": "2021-03-15T16:25:15.050128Z",
     "shell.execute_reply": "2021-03-15T16:25:15.049222Z"
    }
   },
   "outputs": [],
   "source": [
    "dataUrl = f'https://public.tableau.com{tableauData[\"vizql_root\"]}/bootstrapSession/sessions/{tableauData[\"sessionid\"]}'"
   ]
  },
  {
   "cell_type": "code",
   "execution_count": 5,
   "metadata": {
    "execution": {
     "iopub.execute_input": "2021-03-15T16:25:15.057806Z",
     "iopub.status.busy": "2021-03-15T16:25:15.057237Z",
     "iopub.status.idle": "2021-03-15T16:25:15.421015Z",
     "shell.execute_reply": "2021-03-15T16:25:15.420460Z"
    }
   },
   "outputs": [],
   "source": [
    "r = requests.post(dataUrl, data= {\n",
    "    \"sheet_id\": tableauData[\"sheetId\"],\n",
    "})\n",
    "\n",
    "dataReg = re.search('\\d+;({.*})\\d+;({.*})', r.text, re.MULTILINE)\n",
    "data1 = json.loads(dataReg.group(2))\n",
    "\n",
    "dataJson = data1[\"secondaryInfo\"][\"presModelMap\"][\"dataDictionary\"][\"presModelHolder\"][\"genDataDictionaryPresModel\"][\"dataSegments\"][\"0\"][\"dataColumns\"]"
   ]
  },
  {
   "cell_type": "markdown",
   "metadata": {},
   "source": [
    "Isolate what you want"
   ]
  },
  {
   "cell_type": "code",
   "execution_count": 6,
   "metadata": {
    "execution": {
     "iopub.execute_input": "2021-03-15T16:25:15.425106Z",
     "iopub.status.busy": "2021-03-15T16:25:15.424581Z",
     "iopub.status.idle": "2021-03-15T16:25:15.427977Z",
     "shell.execute_reply": "2021-03-15T16:25:15.427548Z"
    }
   },
   "outputs": [],
   "source": [
    "counties = dataJson[2]['dataValues'][:58]"
   ]
  },
  {
   "cell_type": "code",
   "execution_count": 7,
   "metadata": {
    "execution": {
     "iopub.execute_input": "2021-03-15T16:25:15.431897Z",
     "iopub.status.busy": "2021-03-15T16:25:15.431390Z",
     "iopub.status.idle": "2021-03-15T16:25:15.434864Z",
     "shell.execute_reply": "2021-03-15T16:25:15.434431Z"
    }
   },
   "outputs": [],
   "source": [
    "doses = dataJson[0]['dataValues'][3:61]"
   ]
  },
  {
   "cell_type": "markdown",
   "metadata": {},
   "source": [
    "Data formatting"
   ]
  },
  {
   "cell_type": "code",
   "execution_count": 8,
   "metadata": {
    "execution": {
     "iopub.execute_input": "2021-03-15T16:25:15.438583Z",
     "iopub.status.busy": "2021-03-15T16:25:15.438080Z",
     "iopub.status.idle": "2021-03-15T16:25:15.441396Z",
     "shell.execute_reply": "2021-03-15T16:25:15.440973Z"
    }
   },
   "outputs": [],
   "source": [
    "zipped = dict(zip(counties, doses))"
   ]
  },
  {
   "cell_type": "code",
   "execution_count": 9,
   "metadata": {
    "execution": {
     "iopub.execute_input": "2021-03-15T16:25:15.448818Z",
     "iopub.status.busy": "2021-03-15T16:25:15.447714Z",
     "iopub.status.idle": "2021-03-15T16:25:15.449406Z",
     "shell.execute_reply": "2021-03-15T16:25:15.449852Z"
    }
   },
   "outputs": [],
   "source": [
    "df = pd.Series(zipped).reset_index()"
   ]
  },
  {
   "cell_type": "code",
   "execution_count": 10,
   "metadata": {
    "execution": {
     "iopub.execute_input": "2021-03-15T16:25:15.458880Z",
     "iopub.status.busy": "2021-03-15T16:25:15.457942Z",
     "iopub.status.idle": "2021-03-15T16:25:15.460159Z",
     "shell.execute_reply": "2021-03-15T16:25:15.459732Z"
    }
   },
   "outputs": [],
   "source": [
    "df.columns = ['location','doses']"
   ]
  },
  {
   "cell_type": "markdown",
   "metadata": {},
   "source": [
    "Grab the overall California total"
   ]
  },
  {
   "cell_type": "code",
   "execution_count": 11,
   "metadata": {
    "execution": {
     "iopub.execute_input": "2021-03-15T16:25:15.464641Z",
     "iopub.status.busy": "2021-03-15T16:25:15.463445Z",
     "iopub.status.idle": "2021-03-15T16:25:15.465230Z",
     "shell.execute_reply": "2021-03-15T16:25:15.465647Z"
    }
   },
   "outputs": [],
   "source": [
    "add = {'location':'California','doses':dataJson[0]['dataValues'][2]}"
   ]
  },
  {
   "cell_type": "code",
   "execution_count": 12,
   "metadata": {
    "execution": {
     "iopub.execute_input": "2021-03-15T16:25:15.476899Z",
     "iopub.status.busy": "2021-03-15T16:25:15.475784Z",
     "iopub.status.idle": "2021-03-15T16:25:15.477532Z",
     "shell.execute_reply": "2021-03-15T16:25:15.478002Z"
    }
   },
   "outputs": [],
   "source": [
    "df = df.append(add, ignore_index=True)"
   ]
  },
  {
   "cell_type": "code",
   "execution_count": 13,
   "metadata": {
    "execution": {
     "iopub.execute_input": "2021-03-15T16:25:15.482642Z",
     "iopub.status.busy": "2021-03-15T16:25:15.481734Z",
     "iopub.status.idle": "2021-03-15T16:25:15.483579Z",
     "shell.execute_reply": "2021-03-15T16:25:15.484008Z"
    }
   },
   "outputs": [],
   "source": [
    "df = df.sort_values(by='location')"
   ]
  },
  {
   "cell_type": "code",
   "execution_count": 14,
   "metadata": {
    "execution": {
     "iopub.execute_input": "2021-03-15T16:25:15.490290Z",
     "iopub.status.busy": "2021-03-15T16:25:15.489183Z",
     "iopub.status.idle": "2021-03-15T16:25:15.490877Z",
     "shell.execute_reply": "2021-03-15T16:25:15.491297Z"
    }
   },
   "outputs": [],
   "source": [
    "df = df[df.location == 'California'].append(df[df.location != 'California']).reset_index(drop=True)"
   ]
  },
  {
   "cell_type": "code",
   "execution_count": null,
   "metadata": {},
   "outputs": [],
   "source": []
  },
  {
   "cell_type": "code",
   "execution_count": 15,
   "metadata": {
    "execution": {
     "iopub.execute_input": "2021-03-15T16:25:15.495643Z",
     "iopub.status.busy": "2021-03-15T16:25:15.495142Z",
     "iopub.status.idle": "2021-03-15T16:25:15.516072Z",
     "shell.execute_reply": "2021-03-15T16:25:15.516489Z"
    }
   },
   "outputs": [],
   "source": [
    "tz = pytz.timezone(\"America/New_York\")"
   ]
  },
  {
   "cell_type": "code",
   "execution_count": 16,
   "metadata": {
    "execution": {
     "iopub.execute_input": "2021-03-15T16:25:15.520950Z",
     "iopub.status.busy": "2021-03-15T16:25:15.519704Z",
     "iopub.status.idle": "2021-03-15T16:25:15.521609Z",
     "shell.execute_reply": "2021-03-15T16:25:15.522961Z"
    }
   },
   "outputs": [],
   "source": [
    "today = datetime.now(tz).date()"
   ]
  },
  {
   "cell_type": "code",
   "execution_count": 17,
   "metadata": {
    "execution": {
     "iopub.execute_input": "2021-03-15T16:25:15.529991Z",
     "iopub.status.busy": "2021-03-15T16:25:15.529410Z",
     "iopub.status.idle": "2021-03-15T16:25:15.531595Z",
     "shell.execute_reply": "2021-03-15T16:25:15.531990Z"
    }
   },
   "outputs": [],
   "source": [
    "data_dir = os.path.join(os.path.abspath(\"\"), \"data\")"
   ]
  },
  {
   "cell_type": "code",
   "execution_count": 18,
   "metadata": {
    "execution": {
     "iopub.execute_input": "2021-03-15T16:25:15.537913Z",
     "iopub.status.busy": "2021-03-15T16:25:15.535389Z",
     "iopub.status.idle": "2021-03-15T16:25:15.542179Z",
     "shell.execute_reply": "2021-03-15T16:25:15.541603Z"
    }
   },
   "outputs": [],
   "source": [
    "df.to_csv(os.path.join(data_dir, f\"{today}.csv\"), index=False)"
   ]
  },
  {
   "cell_type": "code",
   "execution_count": null,
   "metadata": {},
   "outputs": [],
   "source": []
  }
 ],
 "metadata": {
  "kernelspec": {
   "display_name": "Python 3",
   "language": "python",
   "name": "python3"
  },
  "language_info": {
   "codemirror_mode": {
    "name": "ipython",
    "version": 3
   },
   "file_extension": ".py",
   "mimetype": "text/x-python",
   "name": "python",
   "nbconvert_exporter": "python",
   "pygments_lexer": "ipython3",
   "version": "3.8.8"
  }
 },
 "nbformat": 4,
 "nbformat_minor": 4
}
