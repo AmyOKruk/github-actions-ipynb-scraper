{
 "cells": [
  {
   "cell_type": "markdown",
   "metadata": {},
   "source": [
    "# California COVID vaccinations scrape"
   ]
  },
  {
   "cell_type": "markdown",
   "metadata": {},
   "source": [
    "By [Amy O'Kruk](https://twitter.com/amyokruk)"
   ]
  },
  {
   "cell_type": "markdown",
   "metadata": {},
   "source": [
    "Downloads data on vaccine doses administered by county and statewide from a Tableau-powered dashboard from the California Department of Public Health."
   ]
  },
  {
   "cell_type": "code",
   "execution_count": 1,
   "metadata": {
    "execution": {
     "iopub.execute_input": "2021-03-25T01:00:29.858851Z",
     "iopub.status.busy": "2021-03-25T01:00:29.858123Z",
     "iopub.status.idle": "2021-03-25T01:00:30.289606Z",
     "shell.execute_reply": "2021-03-25T01:00:30.288996Z"
    }
   },
   "outputs": [],
   "source": [
    "import pandas as pd\n",
    "import requests\n",
    "from bs4 import BeautifulSoup\n",
    "import json\n",
    "import re\n",
    "import time\n",
    "from time import gmtime, strftime \n",
    "import os\n",
    "import pytz\n",
    "from datetime import datetime"
   ]
  },
  {
   "cell_type": "markdown",
   "metadata": {},
   "source": [
    "Scrape the dashboard page"
   ]
  },
  {
   "cell_type": "code",
   "execution_count": 2,
   "metadata": {
    "execution": {
     "iopub.execute_input": "2021-03-25T01:00:30.297486Z",
     "iopub.status.busy": "2021-03-25T01:00:30.296129Z",
     "iopub.status.idle": "2021-03-25T01:00:31.084630Z",
     "shell.execute_reply": "2021-03-25T01:00:31.083590Z"
    }
   },
   "outputs": [],
   "source": [
    "url = \"https://public.tableau.com/interactive/views/COVID-19VaccineDashboardPublic/Vaccine?:embed=y&:showVizHome=n&:apiID=host0\"\n",
    "\n",
    "r = requests.get(url)\n",
    "soup = BeautifulSoup(r.text, \"html.parser\")"
   ]
  },
  {
   "cell_type": "code",
   "execution_count": 3,
   "metadata": {
    "execution": {
     "iopub.execute_input": "2021-03-25T01:00:31.090395Z",
     "iopub.status.busy": "2021-03-25T01:00:31.089775Z",
     "iopub.status.idle": "2021-03-25T01:00:31.093842Z",
     "shell.execute_reply": "2021-03-25T01:00:31.093217Z"
    }
   },
   "outputs": [],
   "source": [
    "tableauData = json.loads(soup.find(\"textarea\",{\"id\": \"tsConfigContainer\"}).text)"
   ]
  },
  {
   "cell_type": "markdown",
   "metadata": {},
   "source": [
    "Get the link to the Tableau data"
   ]
  },
  {
   "cell_type": "code",
   "execution_count": 4,
   "metadata": {
    "execution": {
     "iopub.execute_input": "2021-03-25T01:00:31.098556Z",
     "iopub.status.busy": "2021-03-25T01:00:31.097935Z",
     "iopub.status.idle": "2021-03-25T01:00:31.100454Z",
     "shell.execute_reply": "2021-03-25T01:00:31.100966Z"
    }
   },
   "outputs": [],
   "source": [
    "dataUrl = f'https://public.tableau.com{tableauData[\"vizql_root\"]}/bootstrapSession/sessions/{tableauData[\"sessionid\"]}'"
   ]
  },
  {
   "cell_type": "code",
   "execution_count": 5,
   "metadata": {
    "execution": {
     "iopub.execute_input": "2021-03-25T01:00:31.108544Z",
     "iopub.status.busy": "2021-03-25T01:00:31.107882Z",
     "iopub.status.idle": "2021-03-25T01:00:31.479306Z",
     "shell.execute_reply": "2021-03-25T01:00:31.478752Z"
    }
   },
   "outputs": [],
   "source": [
    "r = requests.post(dataUrl, data= {\n",
    "    \"sheet_id\": tableauData[\"sheetId\"],\n",
    "})\n",
    "\n",
    "dataReg = re.search('\\d+;({.*})\\d+;({.*})', r.text, re.MULTILINE)\n",
    "data1 = json.loads(dataReg.group(2))\n",
    "\n",
    "dataJson = data1[\"secondaryInfo\"][\"presModelMap\"][\"dataDictionary\"][\"presModelHolder\"][\"genDataDictionaryPresModel\"][\"dataSegments\"][\"0\"][\"dataColumns\"]"
   ]
  },
  {
   "cell_type": "markdown",
   "metadata": {},
   "source": [
    "Isolate what you want"
   ]
  },
  {
   "cell_type": "code",
   "execution_count": 6,
   "metadata": {
    "execution": {
     "iopub.execute_input": "2021-03-25T01:00:31.483418Z",
     "iopub.status.busy": "2021-03-25T01:00:31.482842Z",
     "iopub.status.idle": "2021-03-25T01:00:31.486867Z",
     "shell.execute_reply": "2021-03-25T01:00:31.486205Z"
    }
   },
   "outputs": [],
   "source": [
    "counties = dataJson[2]['dataValues'][:58]"
   ]
  },
  {
   "cell_type": "code",
   "execution_count": 7,
   "metadata": {
    "execution": {
     "iopub.execute_input": "2021-03-25T01:00:31.491163Z",
     "iopub.status.busy": "2021-03-25T01:00:31.490602Z",
     "iopub.status.idle": "2021-03-25T01:00:31.494318Z",
     "shell.execute_reply": "2021-03-25T01:00:31.494856Z"
    }
   },
   "outputs": [],
   "source": [
    "doses = dataJson[0]['dataValues'][3:61]"
   ]
  },
  {
   "cell_type": "markdown",
   "metadata": {},
   "source": [
    "Data formatting"
   ]
  },
  {
   "cell_type": "code",
   "execution_count": 8,
   "metadata": {
    "execution": {
     "iopub.execute_input": "2021-03-25T01:00:31.499097Z",
     "iopub.status.busy": "2021-03-25T01:00:31.498449Z",
     "iopub.status.idle": "2021-03-25T01:00:31.502231Z",
     "shell.execute_reply": "2021-03-25T01:00:31.502811Z"
    }
   },
   "outputs": [],
   "source": [
    "zipped = dict(zip(counties, doses))"
   ]
  },
  {
   "cell_type": "code",
   "execution_count": 9,
   "metadata": {
    "execution": {
     "iopub.execute_input": "2021-03-25T01:00:31.510468Z",
     "iopub.status.busy": "2021-03-25T01:00:31.509828Z",
     "iopub.status.idle": "2021-03-25T01:00:31.513431Z",
     "shell.execute_reply": "2021-03-25T01:00:31.514251Z"
    }
   },
   "outputs": [],
   "source": [
    "df = pd.Series(zipped).reset_index()"
   ]
  },
  {
   "cell_type": "code",
   "execution_count": 10,
   "metadata": {
    "execution": {
     "iopub.execute_input": "2021-03-25T01:00:31.518464Z",
     "iopub.status.busy": "2021-03-25T01:00:31.517890Z",
     "iopub.status.idle": "2021-03-25T01:00:31.522193Z",
     "shell.execute_reply": "2021-03-25T01:00:31.521665Z"
    }
   },
   "outputs": [],
   "source": [
    "df.columns = ['location','doses']"
   ]
  },
  {
   "cell_type": "markdown",
   "metadata": {},
   "source": [
    "Grab the overall California total"
   ]
  },
  {
   "cell_type": "code",
   "execution_count": 11,
   "metadata": {
    "execution": {
     "iopub.execute_input": "2021-03-25T01:00:31.526356Z",
     "iopub.status.busy": "2021-03-25T01:00:31.525762Z",
     "iopub.status.idle": "2021-03-25T01:00:31.530020Z",
     "shell.execute_reply": "2021-03-25T01:00:31.529224Z"
    }
   },
   "outputs": [],
   "source": [
    "add = {'location':'California','doses':dataJson[0]['dataValues'][2]}"
   ]
  },
  {
   "cell_type": "code",
   "execution_count": 12,
   "metadata": {
    "execution": {
     "iopub.execute_input": "2021-03-25T01:00:31.537819Z",
     "iopub.status.busy": "2021-03-25T01:00:31.537218Z",
     "iopub.status.idle": "2021-03-25T01:00:31.541446Z",
     "shell.execute_reply": "2021-03-25T01:00:31.540563Z"
    }
   },
   "outputs": [],
   "source": [
    "df = df.append(add, ignore_index=True)"
   ]
  },
  {
   "cell_type": "code",
   "execution_count": 13,
   "metadata": {
    "execution": {
     "iopub.execute_input": "2021-03-25T01:00:31.546353Z",
     "iopub.status.busy": "2021-03-25T01:00:31.545758Z",
     "iopub.status.idle": "2021-03-25T01:00:31.549814Z",
     "shell.execute_reply": "2021-03-25T01:00:31.549267Z"
    }
   },
   "outputs": [],
   "source": [
    "df = df.sort_values(by='location')"
   ]
  },
  {
   "cell_type": "code",
   "execution_count": 14,
   "metadata": {
    "execution": {
     "iopub.execute_input": "2021-03-25T01:00:31.557648Z",
     "iopub.status.busy": "2021-03-25T01:00:31.557058Z",
     "iopub.status.idle": "2021-03-25T01:00:31.560503Z",
     "shell.execute_reply": "2021-03-25T01:00:31.561054Z"
    }
   },
   "outputs": [],
   "source": [
    "df = df[df.location == 'California'].append(df[df.location != 'California']).reset_index(drop=True)"
   ]
  },
  {
   "cell_type": "code",
   "execution_count": null,
   "metadata": {},
   "outputs": [],
   "source": []
  },
  {
   "cell_type": "code",
   "execution_count": 15,
   "metadata": {
    "execution": {
     "iopub.execute_input": "2021-03-25T01:00:31.565211Z",
     "iopub.status.busy": "2021-03-25T01:00:31.564528Z",
     "iopub.status.idle": "2021-03-25T01:00:31.587149Z",
     "shell.execute_reply": "2021-03-25T01:00:31.586331Z"
    }
   },
   "outputs": [],
   "source": [
    "tz = pytz.timezone(\"America/New_York\")"
   ]
  },
  {
   "cell_type": "code",
   "execution_count": 16,
   "metadata": {
    "execution": {
     "iopub.execute_input": "2021-03-25T01:00:31.591245Z",
     "iopub.status.busy": "2021-03-25T01:00:31.590626Z",
     "iopub.status.idle": "2021-03-25T01:00:31.594876Z",
     "shell.execute_reply": "2021-03-25T01:00:31.594018Z"
    }
   },
   "outputs": [],
   "source": [
    "today = datetime.now(tz).date()"
   ]
  },
  {
   "cell_type": "code",
   "execution_count": 17,
   "metadata": {
    "execution": {
     "iopub.execute_input": "2021-03-25T01:00:31.599840Z",
     "iopub.status.busy": "2021-03-25T01:00:31.599222Z",
     "iopub.status.idle": "2021-03-25T01:00:31.602981Z",
     "shell.execute_reply": "2021-03-25T01:00:31.603506Z"
    }
   },
   "outputs": [],
   "source": [
    "data_dir = os.path.join(os.path.abspath(\"\"), \"data\")"
   ]
  },
  {
   "cell_type": "code",
   "execution_count": 18,
   "metadata": {
    "execution": {
     "iopub.execute_input": "2021-03-25T01:00:31.607967Z",
     "iopub.status.busy": "2021-03-25T01:00:31.607382Z",
     "iopub.status.idle": "2021-03-25T01:00:31.613932Z",
     "shell.execute_reply": "2021-03-25T01:00:31.613378Z"
    }
   },
   "outputs": [],
   "source": [
    "df.to_csv(os.path.join(data_dir, f\"{today}.csv\"), index=False)"
   ]
  },
  {
   "cell_type": "code",
   "execution_count": null,
   "metadata": {},
   "outputs": [],
   "source": []
  }
 ],
 "metadata": {
  "kernelspec": {
   "display_name": "Python 3",
   "language": "python",
   "name": "python3"
  },
  "language_info": {
   "codemirror_mode": {
    "name": "ipython",
    "version": 3
   },
   "file_extension": ".py",
   "mimetype": "text/x-python",
   "name": "python",
   "nbconvert_exporter": "python",
   "pygments_lexer": "ipython3",
   "version": "3.8.8"
  }
 },
 "nbformat": 4,
 "nbformat_minor": 4
}
