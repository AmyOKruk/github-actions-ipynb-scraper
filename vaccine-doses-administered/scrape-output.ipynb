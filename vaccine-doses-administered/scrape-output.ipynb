{
 "cells": [
  {
   "cell_type": "markdown",
   "metadata": {},
   "source": [
    "# California COVID vaccinations scrape"
   ]
  },
  {
   "cell_type": "markdown",
   "metadata": {},
   "source": [
    "By [Amy O'Kruk](https://twitter.com/amyokruk)"
   ]
  },
  {
   "cell_type": "markdown",
   "metadata": {},
   "source": [
    "Downloads data on vaccine doses administered by county and statewide from a Tableau-powered dashboard from the California Department of Public Health."
   ]
  },
  {
   "cell_type": "code",
   "execution_count": 1,
   "metadata": {
    "execution": {
     "iopub.execute_input": "2021-03-19T22:14:16.468306Z",
     "iopub.status.busy": "2021-03-19T22:14:16.467680Z",
     "iopub.status.idle": "2021-03-19T22:14:16.902355Z",
     "shell.execute_reply": "2021-03-19T22:14:16.901388Z"
    }
   },
   "outputs": [],
   "source": [
    "import pandas as pd\n",
    "import requests\n",
    "from bs4 import BeautifulSoup\n",
    "import json\n",
    "import re\n",
    "import time\n",
    "from time import gmtime, strftime \n",
    "import os\n",
    "import pytz\n",
    "from datetime import datetime"
   ]
  },
  {
   "cell_type": "markdown",
   "metadata": {},
   "source": [
    "Scrape the dashboard page"
   ]
  },
  {
   "cell_type": "code",
   "execution_count": 2,
   "metadata": {
    "execution": {
     "iopub.execute_input": "2021-03-19T22:14:16.910050Z",
     "iopub.status.busy": "2021-03-19T22:14:16.909471Z",
     "iopub.status.idle": "2021-03-19T22:14:17.249080Z",
     "shell.execute_reply": "2021-03-19T22:14:17.248340Z"
    }
   },
   "outputs": [],
   "source": [
    "url = \"https://public.tableau.com/interactive/views/COVID-19VaccineDashboardPublic/Vaccine?:embed=y&:showVizHome=n&:apiID=host0\"\n",
    "\n",
    "r = requests.get(url)\n",
    "soup = BeautifulSoup(r.text, \"html.parser\")"
   ]
  },
  {
   "cell_type": "code",
   "execution_count": 3,
   "metadata": {
    "execution": {
     "iopub.execute_input": "2021-03-19T22:14:17.253362Z",
     "iopub.status.busy": "2021-03-19T22:14:17.252807Z",
     "iopub.status.idle": "2021-03-19T22:14:17.256067Z",
     "shell.execute_reply": "2021-03-19T22:14:17.256443Z"
    }
   },
   "outputs": [],
   "source": [
    "tableauData = json.loads(soup.find(\"textarea\",{\"id\": \"tsConfigContainer\"}).text)"
   ]
  },
  {
   "cell_type": "markdown",
   "metadata": {},
   "source": [
    "Get the link to the Tableau data"
   ]
  },
  {
   "cell_type": "code",
   "execution_count": 4,
   "metadata": {
    "execution": {
     "iopub.execute_input": "2021-03-19T22:14:17.260013Z",
     "iopub.status.busy": "2021-03-19T22:14:17.259257Z",
     "iopub.status.idle": "2021-03-19T22:14:17.263173Z",
     "shell.execute_reply": "2021-03-19T22:14:17.262743Z"
    }
   },
   "outputs": [],
   "source": [
    "dataUrl = f'https://public.tableau.com{tableauData[\"vizql_root\"]}/bootstrapSession/sessions/{tableauData[\"sessionid\"]}'"
   ]
  },
  {
   "cell_type": "code",
   "execution_count": 5,
   "metadata": {
    "execution": {
     "iopub.execute_input": "2021-03-19T22:14:17.269033Z",
     "iopub.status.busy": "2021-03-19T22:14:17.268495Z",
     "iopub.status.idle": "2021-03-19T22:14:17.405068Z",
     "shell.execute_reply": "2021-03-19T22:14:17.404524Z"
    }
   },
   "outputs": [],
   "source": [
    "r = requests.post(dataUrl, data= {\n",
    "    \"sheet_id\": tableauData[\"sheetId\"],\n",
    "})\n",
    "\n",
    "dataReg = re.search('\\d+;({.*})\\d+;({.*})', r.text, re.MULTILINE)\n",
    "data1 = json.loads(dataReg.group(2))\n",
    "\n",
    "dataJson = data1[\"secondaryInfo\"][\"presModelMap\"][\"dataDictionary\"][\"presModelHolder\"][\"genDataDictionaryPresModel\"][\"dataSegments\"][\"0\"][\"dataColumns\"]"
   ]
  },
  {
   "cell_type": "markdown",
   "metadata": {},
   "source": [
    "Isolate what you want"
   ]
  },
  {
   "cell_type": "code",
   "execution_count": 6,
   "metadata": {
    "execution": {
     "iopub.execute_input": "2021-03-19T22:14:17.409647Z",
     "iopub.status.busy": "2021-03-19T22:14:17.409017Z",
     "iopub.status.idle": "2021-03-19T22:14:17.413420Z",
     "shell.execute_reply": "2021-03-19T22:14:17.412659Z"
    }
   },
   "outputs": [],
   "source": [
    "counties = dataJson[2]['dataValues'][:58]"
   ]
  },
  {
   "cell_type": "code",
   "execution_count": 7,
   "metadata": {
    "execution": {
     "iopub.execute_input": "2021-03-19T22:14:17.417527Z",
     "iopub.status.busy": "2021-03-19T22:14:17.416848Z",
     "iopub.status.idle": "2021-03-19T22:14:17.421027Z",
     "shell.execute_reply": "2021-03-19T22:14:17.420541Z"
    }
   },
   "outputs": [],
   "source": [
    "doses = dataJson[0]['dataValues'][3:61]"
   ]
  },
  {
   "cell_type": "markdown",
   "metadata": {},
   "source": [
    "Data formatting"
   ]
  },
  {
   "cell_type": "code",
   "execution_count": 8,
   "metadata": {
    "execution": {
     "iopub.execute_input": "2021-03-19T22:14:17.424490Z",
     "iopub.status.busy": "2021-03-19T22:14:17.423943Z",
     "iopub.status.idle": "2021-03-19T22:14:17.428219Z",
     "shell.execute_reply": "2021-03-19T22:14:17.427727Z"
    }
   },
   "outputs": [],
   "source": [
    "zipped = dict(zip(counties, doses))"
   ]
  },
  {
   "cell_type": "code",
   "execution_count": 9,
   "metadata": {
    "execution": {
     "iopub.execute_input": "2021-03-19T22:14:17.434228Z",
     "iopub.status.busy": "2021-03-19T22:14:17.433598Z",
     "iopub.status.idle": "2021-03-19T22:14:17.437313Z",
     "shell.execute_reply": "2021-03-19T22:14:17.437896Z"
    }
   },
   "outputs": [],
   "source": [
    "df = pd.Series(zipped).reset_index()"
   ]
  },
  {
   "cell_type": "code",
   "execution_count": 10,
   "metadata": {
    "execution": {
     "iopub.execute_input": "2021-03-19T22:14:17.443748Z",
     "iopub.status.busy": "2021-03-19T22:14:17.442016Z",
     "iopub.status.idle": "2021-03-19T22:14:17.444440Z",
     "shell.execute_reply": "2021-03-19T22:14:17.444954Z"
    }
   },
   "outputs": [],
   "source": [
    "df.columns = ['location','doses']"
   ]
  },
  {
   "cell_type": "markdown",
   "metadata": {},
   "source": [
    "Grab the overall California total"
   ]
  },
  {
   "cell_type": "code",
   "execution_count": 11,
   "metadata": {
    "execution": {
     "iopub.execute_input": "2021-03-19T22:14:17.450024Z",
     "iopub.status.busy": "2021-03-19T22:14:17.448645Z",
     "iopub.status.idle": "2021-03-19T22:14:17.450685Z",
     "shell.execute_reply": "2021-03-19T22:14:17.451228Z"
    }
   },
   "outputs": [],
   "source": [
    "add = {'location':'California','doses':dataJson[0]['dataValues'][2]}"
   ]
  },
  {
   "cell_type": "code",
   "execution_count": 12,
   "metadata": {
    "execution": {
     "iopub.execute_input": "2021-03-19T22:14:17.458863Z",
     "iopub.status.busy": "2021-03-19T22:14:17.457451Z",
     "iopub.status.idle": "2021-03-19T22:14:17.459517Z",
     "shell.execute_reply": "2021-03-19T22:14:17.459976Z"
    }
   },
   "outputs": [],
   "source": [
    "df = df.append(add, ignore_index=True)"
   ]
  },
  {
   "cell_type": "code",
   "execution_count": 13,
   "metadata": {
    "execution": {
     "iopub.execute_input": "2021-03-19T22:14:17.465602Z",
     "iopub.status.busy": "2021-03-19T22:14:17.464323Z",
     "iopub.status.idle": "2021-03-19T22:14:17.466287Z",
     "shell.execute_reply": "2021-03-19T22:14:17.466744Z"
    }
   },
   "outputs": [],
   "source": [
    "df = df.sort_values(by='location')"
   ]
  },
  {
   "cell_type": "code",
   "execution_count": 14,
   "metadata": {
    "execution": {
     "iopub.execute_input": "2021-03-19T22:14:17.472883Z",
     "iopub.status.busy": "2021-03-19T22:14:17.471980Z",
     "iopub.status.idle": "2021-03-19T22:14:17.474087Z",
     "shell.execute_reply": "2021-03-19T22:14:17.473681Z"
    }
   },
   "outputs": [],
   "source": [
    "df = df[df.location == 'California'].append(df[df.location != 'California']).reset_index(drop=True)"
   ]
  },
  {
   "cell_type": "code",
   "execution_count": null,
   "metadata": {},
   "outputs": [],
   "source": []
  },
  {
   "cell_type": "code",
   "execution_count": 15,
   "metadata": {
    "execution": {
     "iopub.execute_input": "2021-03-19T22:14:17.477697Z",
     "iopub.status.busy": "2021-03-19T22:14:17.477051Z",
     "iopub.status.idle": "2021-03-19T22:14:17.495257Z",
     "shell.execute_reply": "2021-03-19T22:14:17.495700Z"
    }
   },
   "outputs": [],
   "source": [
    "tz = pytz.timezone(\"America/New_York\")"
   ]
  },
  {
   "cell_type": "code",
   "execution_count": 16,
   "metadata": {
    "execution": {
     "iopub.execute_input": "2021-03-19T22:14:17.500298Z",
     "iopub.status.busy": "2021-03-19T22:14:17.499057Z",
     "iopub.status.idle": "2021-03-19T22:14:17.500900Z",
     "shell.execute_reply": "2021-03-19T22:14:17.501383Z"
    }
   },
   "outputs": [],
   "source": [
    "today = datetime.now(tz).date()"
   ]
  },
  {
   "cell_type": "code",
   "execution_count": 17,
   "metadata": {
    "execution": {
     "iopub.execute_input": "2021-03-19T22:14:17.506244Z",
     "iopub.status.busy": "2021-03-19T22:14:17.504942Z",
     "iopub.status.idle": "2021-03-19T22:14:17.506972Z",
     "shell.execute_reply": "2021-03-19T22:14:17.507472Z"
    }
   },
   "outputs": [],
   "source": [
    "data_dir = os.path.join(os.path.abspath(\"\"), \"data\")"
   ]
  },
  {
   "cell_type": "code",
   "execution_count": 18,
   "metadata": {
    "execution": {
     "iopub.execute_input": "2021-03-19T22:14:17.512539Z",
     "iopub.status.busy": "2021-03-19T22:14:17.511162Z",
     "iopub.status.idle": "2021-03-19T22:14:17.516073Z",
     "shell.execute_reply": "2021-03-19T22:14:17.516483Z"
    }
   },
   "outputs": [],
   "source": [
    "df.to_csv(os.path.join(data_dir, f\"{today}.csv\"), index=False)"
   ]
  },
  {
   "cell_type": "code",
   "execution_count": null,
   "metadata": {},
   "outputs": [],
   "source": []
  }
 ],
 "metadata": {
  "kernelspec": {
   "display_name": "Python 3",
   "language": "python",
   "name": "python3"
  },
  "language_info": {
   "codemirror_mode": {
    "name": "ipython",
    "version": 3
   },
   "file_extension": ".py",
   "mimetype": "text/x-python",
   "name": "python",
   "nbconvert_exporter": "python",
   "pygments_lexer": "ipython3",
   "version": "3.8.8"
  }
 },
 "nbformat": 4,
 "nbformat_minor": 4
}
