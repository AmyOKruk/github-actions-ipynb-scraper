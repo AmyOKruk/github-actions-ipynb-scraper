{
 "cells": [
  {
   "cell_type": "markdown",
   "metadata": {},
   "source": [
    "# California COVID vaccinations scrape"
   ]
  },
  {
   "cell_type": "markdown",
   "metadata": {},
   "source": [
    "By [Amy O'Kruk](https://twitter.com/amyokruk)"
   ]
  },
  {
   "cell_type": "markdown",
   "metadata": {},
   "source": [
    "Downloads data on vaccine doses administered by county and statewide from a Tableau-powered dashboard from the California Department of Public Health."
   ]
  },
  {
   "cell_type": "code",
   "execution_count": 1,
   "metadata": {
    "execution": {
     "iopub.execute_input": "2021-03-10T11:39:28.855377Z",
     "iopub.status.busy": "2021-03-10T11:39:28.854774Z",
     "iopub.status.idle": "2021-03-10T11:39:29.226162Z",
     "shell.execute_reply": "2021-03-10T11:39:29.225571Z"
    }
   },
   "outputs": [],
   "source": [
    "import pandas as pd\n",
    "import requests\n",
    "from bs4 import BeautifulSoup\n",
    "import json\n",
    "import re\n",
    "import time\n",
    "from time import gmtime, strftime \n",
    "import os\n",
    "import pytz\n",
    "from datetime import datetime"
   ]
  },
  {
   "cell_type": "markdown",
   "metadata": {},
   "source": [
    "Scrape the dashboard page"
   ]
  },
  {
   "cell_type": "code",
   "execution_count": 2,
   "metadata": {
    "execution": {
     "iopub.execute_input": "2021-03-10T11:39:29.231636Z",
     "iopub.status.busy": "2021-03-10T11:39:29.229461Z",
     "iopub.status.idle": "2021-03-10T11:39:29.771368Z",
     "shell.execute_reply": "2021-03-10T11:39:29.770654Z"
    }
   },
   "outputs": [],
   "source": [
    "url = \"https://public.tableau.com/interactive/views/COVID-19VaccineDashboardPublic/Vaccine?:embed=y&:showVizHome=n&:apiID=host0\"\n",
    "\n",
    "r = requests.get(url)\n",
    "soup = BeautifulSoup(r.text, \"html.parser\")"
   ]
  },
  {
   "cell_type": "code",
   "execution_count": 3,
   "metadata": {
    "execution": {
     "iopub.execute_input": "2021-03-10T11:39:29.777043Z",
     "iopub.status.busy": "2021-03-10T11:39:29.776245Z",
     "iopub.status.idle": "2021-03-10T11:39:29.780302Z",
     "shell.execute_reply": "2021-03-10T11:39:29.779863Z"
    }
   },
   "outputs": [],
   "source": [
    "tableauData = json.loads(soup.find(\"textarea\",{\"id\": \"tsConfigContainer\"}).text)"
   ]
  },
  {
   "cell_type": "markdown",
   "metadata": {},
   "source": [
    "Get the link to the Tableau data"
   ]
  },
  {
   "cell_type": "code",
   "execution_count": 4,
   "metadata": {
    "execution": {
     "iopub.execute_input": "2021-03-10T11:39:29.784788Z",
     "iopub.status.busy": "2021-03-10T11:39:29.783512Z",
     "iopub.status.idle": "2021-03-10T11:39:29.785395Z",
     "shell.execute_reply": "2021-03-10T11:39:29.785827Z"
    }
   },
   "outputs": [],
   "source": [
    "dataUrl = f'https://public.tableau.com{tableauData[\"vizql_root\"]}/bootstrapSession/sessions/{tableauData[\"sessionid\"]}'"
   ]
  },
  {
   "cell_type": "code",
   "execution_count": 5,
   "metadata": {
    "execution": {
     "iopub.execute_input": "2021-03-10T11:39:29.792563Z",
     "iopub.status.busy": "2021-03-10T11:39:29.792033Z",
     "iopub.status.idle": "2021-03-10T11:39:30.003431Z",
     "shell.execute_reply": "2021-03-10T11:39:30.002949Z"
    }
   },
   "outputs": [],
   "source": [
    "r = requests.post(dataUrl, data= {\n",
    "    \"sheet_id\": tableauData[\"sheetId\"],\n",
    "})\n",
    "\n",
    "dataReg = re.search('\\d+;({.*})\\d+;({.*})', r.text, re.MULTILINE)\n",
    "data1 = json.loads(dataReg.group(2))\n",
    "\n",
    "dataJson = data1[\"secondaryInfo\"][\"presModelMap\"][\"dataDictionary\"][\"presModelHolder\"][\"genDataDictionaryPresModel\"][\"dataSegments\"][\"0\"][\"dataColumns\"]"
   ]
  },
  {
   "cell_type": "markdown",
   "metadata": {},
   "source": [
    "Isolate what you want"
   ]
  },
  {
   "cell_type": "code",
   "execution_count": 6,
   "metadata": {
    "execution": {
     "iopub.execute_input": "2021-03-10T11:39:30.008058Z",
     "iopub.status.busy": "2021-03-10T11:39:30.007050Z",
     "iopub.status.idle": "2021-03-10T11:39:30.009652Z",
     "shell.execute_reply": "2021-03-10T11:39:30.009214Z"
    }
   },
   "outputs": [],
   "source": [
    "counties = dataJson[2]['dataValues'][:58]"
   ]
  },
  {
   "cell_type": "code",
   "execution_count": 7,
   "metadata": {
    "execution": {
     "iopub.execute_input": "2021-03-10T11:39:30.014017Z",
     "iopub.status.busy": "2021-03-10T11:39:30.012888Z",
     "iopub.status.idle": "2021-03-10T11:39:30.014616Z",
     "shell.execute_reply": "2021-03-10T11:39:30.015054Z"
    }
   },
   "outputs": [],
   "source": [
    "doses = dataJson[0]['dataValues'][3:61]"
   ]
  },
  {
   "cell_type": "markdown",
   "metadata": {},
   "source": [
    "Data formatting"
   ]
  },
  {
   "cell_type": "code",
   "execution_count": 8,
   "metadata": {
    "execution": {
     "iopub.execute_input": "2021-03-10T11:39:30.019460Z",
     "iopub.status.busy": "2021-03-10T11:39:30.018280Z",
     "iopub.status.idle": "2021-03-10T11:39:30.020161Z",
     "shell.execute_reply": "2021-03-10T11:39:30.020601Z"
    }
   },
   "outputs": [],
   "source": [
    "zipped = dict(zip(counties, doses))"
   ]
  },
  {
   "cell_type": "code",
   "execution_count": 9,
   "metadata": {
    "execution": {
     "iopub.execute_input": "2021-03-10T11:39:30.027161Z",
     "iopub.status.busy": "2021-03-10T11:39:30.026048Z",
     "iopub.status.idle": "2021-03-10T11:39:30.027819Z",
     "shell.execute_reply": "2021-03-10T11:39:30.028253Z"
    }
   },
   "outputs": [],
   "source": [
    "df = pd.Series(zipped).reset_index()"
   ]
  },
  {
   "cell_type": "code",
   "execution_count": 10,
   "metadata": {
    "execution": {
     "iopub.execute_input": "2021-03-10T11:39:30.032012Z",
     "iopub.status.busy": "2021-03-10T11:39:30.031437Z",
     "iopub.status.idle": "2021-03-10T11:39:30.034013Z",
     "shell.execute_reply": "2021-03-10T11:39:30.033575Z"
    }
   },
   "outputs": [],
   "source": [
    "df.columns = ['location','doses']"
   ]
  },
  {
   "cell_type": "markdown",
   "metadata": {},
   "source": [
    "Grab the overall California total"
   ]
  },
  {
   "cell_type": "code",
   "execution_count": 11,
   "metadata": {
    "execution": {
     "iopub.execute_input": "2021-03-10T11:39:30.038412Z",
     "iopub.status.busy": "2021-03-10T11:39:30.037398Z",
     "iopub.status.idle": "2021-03-10T11:39:30.039574Z",
     "shell.execute_reply": "2021-03-10T11:39:30.039111Z"
    }
   },
   "outputs": [],
   "source": [
    "add = {'location':'California','doses':dataJson[0]['dataValues'][2]}"
   ]
  },
  {
   "cell_type": "code",
   "execution_count": 12,
   "metadata": {
    "execution": {
     "iopub.execute_input": "2021-03-10T11:39:30.047038Z",
     "iopub.status.busy": "2021-03-10T11:39:30.045870Z",
     "iopub.status.idle": "2021-03-10T11:39:30.047747Z",
     "shell.execute_reply": "2021-03-10T11:39:30.048172Z"
    }
   },
   "outputs": [],
   "source": [
    "df = df.append(add, ignore_index=True)"
   ]
  },
  {
   "cell_type": "code",
   "execution_count": 13,
   "metadata": {
    "execution": {
     "iopub.execute_input": "2021-03-10T11:39:30.052911Z",
     "iopub.status.busy": "2021-03-10T11:39:30.051797Z",
     "iopub.status.idle": "2021-03-10T11:39:30.053574Z",
     "shell.execute_reply": "2021-03-10T11:39:30.054006Z"
    }
   },
   "outputs": [],
   "source": [
    "df = df.sort_values(by='location')"
   ]
  },
  {
   "cell_type": "code",
   "execution_count": 14,
   "metadata": {
    "execution": {
     "iopub.execute_input": "2021-03-10T11:39:30.059912Z",
     "iopub.status.busy": "2021-03-10T11:39:30.058999Z",
     "iopub.status.idle": "2021-03-10T11:39:30.060919Z",
     "shell.execute_reply": "2021-03-10T11:39:30.061324Z"
    }
   },
   "outputs": [],
   "source": [
    "df = df[df.location == 'California'].append(df[df.location != 'California']).reset_index(drop=True)"
   ]
  },
  {
   "cell_type": "code",
   "execution_count": null,
   "metadata": {},
   "outputs": [],
   "source": []
  },
  {
   "cell_type": "code",
   "execution_count": 15,
   "metadata": {
    "execution": {
     "iopub.execute_input": "2021-03-10T11:39:30.064396Z",
     "iopub.status.busy": "2021-03-10T11:39:30.063919Z",
     "iopub.status.idle": "2021-03-10T11:39:30.079851Z",
     "shell.execute_reply": "2021-03-10T11:39:30.079344Z"
    }
   },
   "outputs": [],
   "source": [
    "tz = pytz.timezone(\"America/New_York\")"
   ]
  },
  {
   "cell_type": "code",
   "execution_count": 16,
   "metadata": {
    "execution": {
     "iopub.execute_input": "2021-03-10T11:39:30.083768Z",
     "iopub.status.busy": "2021-03-10T11:39:30.082704Z",
     "iopub.status.idle": "2021-03-10T11:39:30.084552Z",
     "shell.execute_reply": "2021-03-10T11:39:30.084983Z"
    }
   },
   "outputs": [],
   "source": [
    "today = datetime.now(tz).date()"
   ]
  },
  {
   "cell_type": "code",
   "execution_count": 17,
   "metadata": {
    "execution": {
     "iopub.execute_input": "2021-03-10T11:39:30.089184Z",
     "iopub.status.busy": "2021-03-10T11:39:30.087920Z",
     "iopub.status.idle": "2021-03-10T11:39:30.089680Z",
     "shell.execute_reply": "2021-03-10T11:39:30.089982Z"
    }
   },
   "outputs": [],
   "source": [
    "data_dir = os.path.join(os.path.abspath(\"\"), \"data\")"
   ]
  },
  {
   "cell_type": "code",
   "execution_count": 18,
   "metadata": {
    "execution": {
     "iopub.execute_input": "2021-03-10T11:39:30.095059Z",
     "iopub.status.busy": "2021-03-10T11:39:30.092869Z",
     "iopub.status.idle": "2021-03-10T11:39:30.097484Z",
     "shell.execute_reply": "2021-03-10T11:39:30.096987Z"
    }
   },
   "outputs": [],
   "source": [
    "df.to_csv(os.path.join(data_dir, f\"{today}.csv\"), index=False)"
   ]
  },
  {
   "cell_type": "code",
   "execution_count": null,
   "metadata": {},
   "outputs": [],
   "source": []
  }
 ],
 "metadata": {
  "kernelspec": {
   "display_name": "Python 3",
   "language": "python",
   "name": "python3"
  },
  "language_info": {
   "codemirror_mode": {
    "name": "ipython",
    "version": 3
   },
   "file_extension": ".py",
   "mimetype": "text/x-python",
   "name": "python",
   "nbconvert_exporter": "python",
   "pygments_lexer": "ipython3",
   "version": "3.8.8"
  }
 },
 "nbformat": 4,
 "nbformat_minor": 4
}
