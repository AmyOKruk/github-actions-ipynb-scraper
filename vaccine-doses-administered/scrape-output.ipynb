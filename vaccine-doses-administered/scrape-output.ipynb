{
 "cells": [
  {
   "cell_type": "markdown",
   "metadata": {},
   "source": [
    "# California COVID vaccinations scrape"
   ]
  },
  {
   "cell_type": "markdown",
   "metadata": {},
   "source": [
    "By [Amy O'Kruk](https://twitter.com/amyokruk)"
   ]
  },
  {
   "cell_type": "markdown",
   "metadata": {},
   "source": [
    "Downloads data on vaccine doses administered by county and statewide from a Tableau-powered dashboard from the California Department of Public Health."
   ]
  },
  {
   "cell_type": "code",
   "execution_count": 1,
   "metadata": {
    "execution": {
     "iopub.execute_input": "2021-03-14T09:44:16.418585Z",
     "iopub.status.busy": "2021-03-14T09:44:16.417981Z",
     "iopub.status.idle": "2021-03-14T09:44:16.919151Z",
     "shell.execute_reply": "2021-03-14T09:44:16.919642Z"
    }
   },
   "outputs": [],
   "source": [
    "import pandas as pd\n",
    "import requests\n",
    "from bs4 import BeautifulSoup\n",
    "import json\n",
    "import re\n",
    "import time\n",
    "from time import gmtime, strftime \n",
    "import os\n",
    "import pytz\n",
    "from datetime import datetime"
   ]
  },
  {
   "cell_type": "markdown",
   "metadata": {},
   "source": [
    "Scrape the dashboard page"
   ]
  },
  {
   "cell_type": "code",
   "execution_count": 2,
   "metadata": {
    "execution": {
     "iopub.execute_input": "2021-03-14T09:44:16.926735Z",
     "iopub.status.busy": "2021-03-14T09:44:16.923816Z",
     "iopub.status.idle": "2021-03-14T09:44:17.444927Z",
     "shell.execute_reply": "2021-03-14T09:44:17.445431Z"
    }
   },
   "outputs": [],
   "source": [
    "url = \"https://public.tableau.com/interactive/views/COVID-19VaccineDashboardPublic/Vaccine?:embed=y&:showVizHome=n&:apiID=host0\"\n",
    "\n",
    "r = requests.get(url)\n",
    "soup = BeautifulSoup(r.text, \"html.parser\")"
   ]
  },
  {
   "cell_type": "code",
   "execution_count": 3,
   "metadata": {
    "execution": {
     "iopub.execute_input": "2021-03-14T09:44:17.450335Z",
     "iopub.status.busy": "2021-03-14T09:44:17.449799Z",
     "iopub.status.idle": "2021-03-14T09:44:17.453464Z",
     "shell.execute_reply": "2021-03-14T09:44:17.453015Z"
    }
   },
   "outputs": [],
   "source": [
    "tableauData = json.loads(soup.find(\"textarea\",{\"id\": \"tsConfigContainer\"}).text)"
   ]
  },
  {
   "cell_type": "markdown",
   "metadata": {},
   "source": [
    "Get the link to the Tableau data"
   ]
  },
  {
   "cell_type": "code",
   "execution_count": 4,
   "metadata": {
    "execution": {
     "iopub.execute_input": "2021-03-14T09:44:17.458449Z",
     "iopub.status.busy": "2021-03-14T09:44:17.457023Z",
     "iopub.status.idle": "2021-03-14T09:44:17.459103Z",
     "shell.execute_reply": "2021-03-14T09:44:17.459568Z"
    }
   },
   "outputs": [],
   "source": [
    "dataUrl = f'https://public.tableau.com{tableauData[\"vizql_root\"]}/bootstrapSession/sessions/{tableauData[\"sessionid\"]}'"
   ]
  },
  {
   "cell_type": "code",
   "execution_count": 5,
   "metadata": {
    "execution": {
     "iopub.execute_input": "2021-03-14T09:44:17.466697Z",
     "iopub.status.busy": "2021-03-14T09:44:17.466144Z",
     "iopub.status.idle": "2021-03-14T09:44:17.630966Z",
     "shell.execute_reply": "2021-03-14T09:44:17.630339Z"
    }
   },
   "outputs": [],
   "source": [
    "r = requests.post(dataUrl, data= {\n",
    "    \"sheet_id\": tableauData[\"sheetId\"],\n",
    "})\n",
    "\n",
    "dataReg = re.search('\\d+;({.*})\\d+;({.*})', r.text, re.MULTILINE)\n",
    "data1 = json.loads(dataReg.group(2))\n",
    "\n",
    "dataJson = data1[\"secondaryInfo\"][\"presModelMap\"][\"dataDictionary\"][\"presModelHolder\"][\"genDataDictionaryPresModel\"][\"dataSegments\"][\"0\"][\"dataColumns\"]"
   ]
  },
  {
   "cell_type": "markdown",
   "metadata": {},
   "source": [
    "Isolate what you want"
   ]
  },
  {
   "cell_type": "code",
   "execution_count": 6,
   "metadata": {
    "execution": {
     "iopub.execute_input": "2021-03-14T09:44:17.636237Z",
     "iopub.status.busy": "2021-03-14T09:44:17.634803Z",
     "iopub.status.idle": "2021-03-14T09:44:17.636937Z",
     "shell.execute_reply": "2021-03-14T09:44:17.637408Z"
    }
   },
   "outputs": [],
   "source": [
    "counties = dataJson[2]['dataValues'][:58]"
   ]
  },
  {
   "cell_type": "code",
   "execution_count": 7,
   "metadata": {
    "execution": {
     "iopub.execute_input": "2021-03-14T09:44:17.642425Z",
     "iopub.status.busy": "2021-03-14T09:44:17.640859Z",
     "iopub.status.idle": "2021-03-14T09:44:17.643098Z",
     "shell.execute_reply": "2021-03-14T09:44:17.643561Z"
    }
   },
   "outputs": [],
   "source": [
    "doses = dataJson[0]['dataValues'][3:61]"
   ]
  },
  {
   "cell_type": "markdown",
   "metadata": {},
   "source": [
    "Data formatting"
   ]
  },
  {
   "cell_type": "code",
   "execution_count": 8,
   "metadata": {
    "execution": {
     "iopub.execute_input": "2021-03-14T09:44:17.647725Z",
     "iopub.status.busy": "2021-03-14T09:44:17.646692Z",
     "iopub.status.idle": "2021-03-14T09:44:17.649034Z",
     "shell.execute_reply": "2021-03-14T09:44:17.649529Z"
    }
   },
   "outputs": [],
   "source": [
    "zipped = dict(zip(counties, doses))"
   ]
  },
  {
   "cell_type": "code",
   "execution_count": 9,
   "metadata": {
    "execution": {
     "iopub.execute_input": "2021-03-14T09:44:17.656777Z",
     "iopub.status.busy": "2021-03-14T09:44:17.655352Z",
     "iopub.status.idle": "2021-03-14T09:44:17.657420Z",
     "shell.execute_reply": "2021-03-14T09:44:17.657907Z"
    }
   },
   "outputs": [],
   "source": [
    "df = pd.Series(zipped).reset_index()"
   ]
  },
  {
   "cell_type": "code",
   "execution_count": 10,
   "metadata": {
    "execution": {
     "iopub.execute_input": "2021-03-14T09:44:17.662521Z",
     "iopub.status.busy": "2021-03-14T09:44:17.661219Z",
     "iopub.status.idle": "2021-03-14T09:44:17.663298Z",
     "shell.execute_reply": "2021-03-14T09:44:17.663914Z"
    }
   },
   "outputs": [],
   "source": [
    "df.columns = ['location','doses']"
   ]
  },
  {
   "cell_type": "markdown",
   "metadata": {},
   "source": [
    "Grab the overall California total"
   ]
  },
  {
   "cell_type": "code",
   "execution_count": 11,
   "metadata": {
    "execution": {
     "iopub.execute_input": "2021-03-14T09:44:17.668718Z",
     "iopub.status.busy": "2021-03-14T09:44:17.667536Z",
     "iopub.status.idle": "2021-03-14T09:44:17.669588Z",
     "shell.execute_reply": "2021-03-14T09:44:17.670040Z"
    }
   },
   "outputs": [],
   "source": [
    "add = {'location':'California','doses':dataJson[0]['dataValues'][2]}"
   ]
  },
  {
   "cell_type": "code",
   "execution_count": 12,
   "metadata": {
    "execution": {
     "iopub.execute_input": "2021-03-14T09:44:17.677341Z",
     "iopub.status.busy": "2021-03-14T09:44:17.675125Z",
     "iopub.status.idle": "2021-03-14T09:44:17.679868Z",
     "shell.execute_reply": "2021-03-14T09:44:17.679344Z"
    }
   },
   "outputs": [],
   "source": [
    "df = df.append(add, ignore_index=True)"
   ]
  },
  {
   "cell_type": "code",
   "execution_count": 13,
   "metadata": {
    "execution": {
     "iopub.execute_input": "2021-03-14T09:44:17.685629Z",
     "iopub.status.busy": "2021-03-14T09:44:17.684262Z",
     "iopub.status.idle": "2021-03-14T09:44:17.686239Z",
     "shell.execute_reply": "2021-03-14T09:44:17.686737Z"
    }
   },
   "outputs": [],
   "source": [
    "df = df.sort_values(by='location')"
   ]
  },
  {
   "cell_type": "code",
   "execution_count": 14,
   "metadata": {
    "execution": {
     "iopub.execute_input": "2021-03-14T09:44:17.694293Z",
     "iopub.status.busy": "2021-03-14T09:44:17.692995Z",
     "iopub.status.idle": "2021-03-14T09:44:17.695160Z",
     "shell.execute_reply": "2021-03-14T09:44:17.695704Z"
    }
   },
   "outputs": [],
   "source": [
    "df = df[df.location == 'California'].append(df[df.location != 'California']).reset_index(drop=True)"
   ]
  },
  {
   "cell_type": "code",
   "execution_count": null,
   "metadata": {},
   "outputs": [],
   "source": []
  },
  {
   "cell_type": "code",
   "execution_count": 15,
   "metadata": {
    "execution": {
     "iopub.execute_input": "2021-03-14T09:44:17.699363Z",
     "iopub.status.busy": "2021-03-14T09:44:17.698781Z",
     "iopub.status.idle": "2021-03-14T09:44:17.717401Z",
     "shell.execute_reply": "2021-03-14T09:44:17.717835Z"
    }
   },
   "outputs": [],
   "source": [
    "tz = pytz.timezone(\"America/New_York\")"
   ]
  },
  {
   "cell_type": "code",
   "execution_count": 16,
   "metadata": {
    "execution": {
     "iopub.execute_input": "2021-03-14T09:44:17.722347Z",
     "iopub.status.busy": "2021-03-14T09:44:17.721347Z",
     "iopub.status.idle": "2021-03-14T09:44:17.723320Z",
     "shell.execute_reply": "2021-03-14T09:44:17.723763Z"
    }
   },
   "outputs": [],
   "source": [
    "today = datetime.now(tz).date()"
   ]
  },
  {
   "cell_type": "code",
   "execution_count": 17,
   "metadata": {
    "execution": {
     "iopub.execute_input": "2021-03-14T09:44:17.730776Z",
     "iopub.status.busy": "2021-03-14T09:44:17.729720Z",
     "iopub.status.idle": "2021-03-14T09:44:17.731430Z",
     "shell.execute_reply": "2021-03-14T09:44:17.731859Z"
    }
   },
   "outputs": [],
   "source": [
    "data_dir = os.path.join(os.path.abspath(\"\"), \"data\")"
   ]
  },
  {
   "cell_type": "code",
   "execution_count": 18,
   "metadata": {
    "execution": {
     "iopub.execute_input": "2021-03-14T09:44:17.736513Z",
     "iopub.status.busy": "2021-03-14T09:44:17.735910Z",
     "iopub.status.idle": "2021-03-14T09:44:17.740409Z",
     "shell.execute_reply": "2021-03-14T09:44:17.740861Z"
    }
   },
   "outputs": [],
   "source": [
    "df.to_csv(os.path.join(data_dir, f\"{today}.csv\"), index=False)"
   ]
  },
  {
   "cell_type": "code",
   "execution_count": null,
   "metadata": {},
   "outputs": [],
   "source": []
  }
 ],
 "metadata": {
  "kernelspec": {
   "display_name": "Python 3",
   "language": "python",
   "name": "python3"
  },
  "language_info": {
   "codemirror_mode": {
    "name": "ipython",
    "version": 3
   },
   "file_extension": ".py",
   "mimetype": "text/x-python",
   "name": "python",
   "nbconvert_exporter": "python",
   "pygments_lexer": "ipython3",
   "version": "3.8.8"
  }
 },
 "nbformat": 4,
 "nbformat_minor": 4
}
