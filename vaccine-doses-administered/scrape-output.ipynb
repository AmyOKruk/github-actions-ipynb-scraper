{
 "cells": [
  {
   "cell_type": "markdown",
   "metadata": {},
   "source": [
    "# California COVID vaccinations scrape"
   ]
  },
  {
   "cell_type": "markdown",
   "metadata": {},
   "source": [
    "By [Amy O'Kruk](https://twitter.com/amyokruk)"
   ]
  },
  {
   "cell_type": "markdown",
   "metadata": {},
   "source": [
    "Downloads data on vaccine doses administered by county and statewide from a Tableau-powered dashboard from the California Department of Public Health."
   ]
  },
  {
   "cell_type": "code",
   "execution_count": 1,
   "metadata": {
    "execution": {
     "iopub.execute_input": "2021-03-16T19:10:09.435248Z",
     "iopub.status.busy": "2021-03-16T19:10:09.434654Z",
     "iopub.status.idle": "2021-03-16T19:10:09.862952Z",
     "shell.execute_reply": "2021-03-16T19:10:09.861936Z"
    }
   },
   "outputs": [],
   "source": [
    "import pandas as pd\n",
    "import requests\n",
    "from bs4 import BeautifulSoup\n",
    "import json\n",
    "import re\n",
    "import time\n",
    "from time import gmtime, strftime \n",
    "import os\n",
    "import pytz\n",
    "from datetime import datetime"
   ]
  },
  {
   "cell_type": "markdown",
   "metadata": {},
   "source": [
    "Scrape the dashboard page"
   ]
  },
  {
   "cell_type": "code",
   "execution_count": 2,
   "metadata": {
    "execution": {
     "iopub.execute_input": "2021-03-16T19:10:09.869072Z",
     "iopub.status.busy": "2021-03-16T19:10:09.866644Z",
     "iopub.status.idle": "2021-03-16T19:10:10.198056Z",
     "shell.execute_reply": "2021-03-16T19:10:10.197346Z"
    }
   },
   "outputs": [],
   "source": [
    "url = \"https://public.tableau.com/interactive/views/COVID-19VaccineDashboardPublic/Vaccine?:embed=y&:showVizHome=n&:apiID=host0\"\n",
    "\n",
    "r = requests.get(url)\n",
    "soup = BeautifulSoup(r.text, \"html.parser\")"
   ]
  },
  {
   "cell_type": "code",
   "execution_count": 3,
   "metadata": {
    "execution": {
     "iopub.execute_input": "2021-03-16T19:10:10.203727Z",
     "iopub.status.busy": "2021-03-16T19:10:10.202944Z",
     "iopub.status.idle": "2021-03-16T19:10:10.206565Z",
     "shell.execute_reply": "2021-03-16T19:10:10.206989Z"
    }
   },
   "outputs": [],
   "source": [
    "tableauData = json.loads(soup.find(\"textarea\",{\"id\": \"tsConfigContainer\"}).text)"
   ]
  },
  {
   "cell_type": "markdown",
   "metadata": {},
   "source": [
    "Get the link to the Tableau data"
   ]
  },
  {
   "cell_type": "code",
   "execution_count": 4,
   "metadata": {
    "execution": {
     "iopub.execute_input": "2021-03-16T19:10:10.211393Z",
     "iopub.status.busy": "2021-03-16T19:10:10.210194Z",
     "iopub.status.idle": "2021-03-16T19:10:10.212046Z",
     "shell.execute_reply": "2021-03-16T19:10:10.212465Z"
    }
   },
   "outputs": [],
   "source": [
    "dataUrl = f'https://public.tableau.com{tableauData[\"vizql_root\"]}/bootstrapSession/sessions/{tableauData[\"sessionid\"]}'"
   ]
  },
  {
   "cell_type": "code",
   "execution_count": 5,
   "metadata": {
    "execution": {
     "iopub.execute_input": "2021-03-16T19:10:10.219110Z",
     "iopub.status.busy": "2021-03-16T19:10:10.218587Z",
     "iopub.status.idle": "2021-03-16T19:10:10.427853Z",
     "shell.execute_reply": "2021-03-16T19:10:10.426905Z"
    }
   },
   "outputs": [],
   "source": [
    "r = requests.post(dataUrl, data= {\n",
    "    \"sheet_id\": tableauData[\"sheetId\"],\n",
    "})\n",
    "\n",
    "dataReg = re.search('\\d+;({.*})\\d+;({.*})', r.text, re.MULTILINE)\n",
    "data1 = json.loads(dataReg.group(2))\n",
    "\n",
    "dataJson = data1[\"secondaryInfo\"][\"presModelMap\"][\"dataDictionary\"][\"presModelHolder\"][\"genDataDictionaryPresModel\"][\"dataSegments\"][\"0\"][\"dataColumns\"]"
   ]
  },
  {
   "cell_type": "markdown",
   "metadata": {},
   "source": [
    "Isolate what you want"
   ]
  },
  {
   "cell_type": "code",
   "execution_count": 6,
   "metadata": {
    "execution": {
     "iopub.execute_input": "2021-03-16T19:10:10.433988Z",
     "iopub.status.busy": "2021-03-16T19:10:10.433411Z",
     "iopub.status.idle": "2021-03-16T19:10:10.435962Z",
     "shell.execute_reply": "2021-03-16T19:10:10.435496Z"
    }
   },
   "outputs": [],
   "source": [
    "counties = dataJson[2]['dataValues'][:58]"
   ]
  },
  {
   "cell_type": "code",
   "execution_count": 7,
   "metadata": {
    "execution": {
     "iopub.execute_input": "2021-03-16T19:10:10.441354Z",
     "iopub.status.busy": "2021-03-16T19:10:10.440283Z",
     "iopub.status.idle": "2021-03-16T19:10:10.443243Z",
     "shell.execute_reply": "2021-03-16T19:10:10.442789Z"
    }
   },
   "outputs": [],
   "source": [
    "doses = dataJson[0]['dataValues'][3:61]"
   ]
  },
  {
   "cell_type": "markdown",
   "metadata": {},
   "source": [
    "Data formatting"
   ]
  },
  {
   "cell_type": "code",
   "execution_count": 8,
   "metadata": {
    "execution": {
     "iopub.execute_input": "2021-03-16T19:10:10.447724Z",
     "iopub.status.busy": "2021-03-16T19:10:10.446431Z",
     "iopub.status.idle": "2021-03-16T19:10:10.448371Z",
     "shell.execute_reply": "2021-03-16T19:10:10.448852Z"
    }
   },
   "outputs": [],
   "source": [
    "zipped = dict(zip(counties, doses))"
   ]
  },
  {
   "cell_type": "code",
   "execution_count": 9,
   "metadata": {
    "execution": {
     "iopub.execute_input": "2021-03-16T19:10:10.455506Z",
     "iopub.status.busy": "2021-03-16T19:10:10.454252Z",
     "iopub.status.idle": "2021-03-16T19:10:10.456099Z",
     "shell.execute_reply": "2021-03-16T19:10:10.456520Z"
    }
   },
   "outputs": [],
   "source": [
    "df = pd.Series(zipped).reset_index()"
   ]
  },
  {
   "cell_type": "code",
   "execution_count": 10,
   "metadata": {
    "execution": {
     "iopub.execute_input": "2021-03-16T19:10:10.461086Z",
     "iopub.status.busy": "2021-03-16T19:10:10.459920Z",
     "iopub.status.idle": "2021-03-16T19:10:10.461758Z",
     "shell.execute_reply": "2021-03-16T19:10:10.462206Z"
    }
   },
   "outputs": [],
   "source": [
    "df.columns = ['location','doses']"
   ]
  },
  {
   "cell_type": "markdown",
   "metadata": {},
   "source": [
    "Grab the overall California total"
   ]
  },
  {
   "cell_type": "code",
   "execution_count": 11,
   "metadata": {
    "execution": {
     "iopub.execute_input": "2021-03-16T19:10:10.466709Z",
     "iopub.status.busy": "2021-03-16T19:10:10.465466Z",
     "iopub.status.idle": "2021-03-16T19:10:10.467296Z",
     "shell.execute_reply": "2021-03-16T19:10:10.467713Z"
    }
   },
   "outputs": [],
   "source": [
    "add = {'location':'California','doses':dataJson[0]['dataValues'][2]}"
   ]
  },
  {
   "cell_type": "code",
   "execution_count": 12,
   "metadata": {
    "execution": {
     "iopub.execute_input": "2021-03-16T19:10:10.474928Z",
     "iopub.status.busy": "2021-03-16T19:10:10.473756Z",
     "iopub.status.idle": "2021-03-16T19:10:10.475650Z",
     "shell.execute_reply": "2021-03-16T19:10:10.476076Z"
    }
   },
   "outputs": [],
   "source": [
    "df = df.append(add, ignore_index=True)"
   ]
  },
  {
   "cell_type": "code",
   "execution_count": 13,
   "metadata": {
    "execution": {
     "iopub.execute_input": "2021-03-16T19:10:10.481031Z",
     "iopub.status.busy": "2021-03-16T19:10:10.479846Z",
     "iopub.status.idle": "2021-03-16T19:10:10.481626Z",
     "shell.execute_reply": "2021-03-16T19:10:10.482048Z"
    }
   },
   "outputs": [],
   "source": [
    "df = df.sort_values(by='location')"
   ]
  },
  {
   "cell_type": "code",
   "execution_count": 14,
   "metadata": {
    "execution": {
     "iopub.execute_input": "2021-03-16T19:10:10.488372Z",
     "iopub.status.busy": "2021-03-16T19:10:10.487199Z",
     "iopub.status.idle": "2021-03-16T19:10:10.488968Z",
     "shell.execute_reply": "2021-03-16T19:10:10.489389Z"
    }
   },
   "outputs": [],
   "source": [
    "df = df[df.location == 'California'].append(df[df.location != 'California']).reset_index(drop=True)"
   ]
  },
  {
   "cell_type": "code",
   "execution_count": null,
   "metadata": {},
   "outputs": [],
   "source": []
  },
  {
   "cell_type": "code",
   "execution_count": 15,
   "metadata": {
    "execution": {
     "iopub.execute_input": "2021-03-16T19:10:10.492635Z",
     "iopub.status.busy": "2021-03-16T19:10:10.492131Z",
     "iopub.status.idle": "2021-03-16T19:10:10.510036Z",
     "shell.execute_reply": "2021-03-16T19:10:10.510487Z"
    }
   },
   "outputs": [],
   "source": [
    "tz = pytz.timezone(\"America/New_York\")"
   ]
  },
  {
   "cell_type": "code",
   "execution_count": 16,
   "metadata": {
    "execution": {
     "iopub.execute_input": "2021-03-16T19:10:10.514783Z",
     "iopub.status.busy": "2021-03-16T19:10:10.513639Z",
     "iopub.status.idle": "2021-03-16T19:10:10.515374Z",
     "shell.execute_reply": "2021-03-16T19:10:10.515795Z"
    }
   },
   "outputs": [],
   "source": [
    "today = datetime.now(tz).date()"
   ]
  },
  {
   "cell_type": "code",
   "execution_count": 17,
   "metadata": {
    "execution": {
     "iopub.execute_input": "2021-03-16T19:10:10.520297Z",
     "iopub.status.busy": "2021-03-16T19:10:10.518940Z",
     "iopub.status.idle": "2021-03-16T19:10:10.520947Z",
     "shell.execute_reply": "2021-03-16T19:10:10.521381Z"
    }
   },
   "outputs": [],
   "source": [
    "data_dir = os.path.join(os.path.abspath(\"\"), \"data\")"
   ]
  },
  {
   "cell_type": "code",
   "execution_count": 18,
   "metadata": {
    "execution": {
     "iopub.execute_input": "2021-03-16T19:10:10.525686Z",
     "iopub.status.busy": "2021-03-16T19:10:10.524576Z",
     "iopub.status.idle": "2021-03-16T19:10:10.529177Z",
     "shell.execute_reply": "2021-03-16T19:10:10.528657Z"
    }
   },
   "outputs": [],
   "source": [
    "df.to_csv(os.path.join(data_dir, f\"{today}.csv\"), index=False)"
   ]
  },
  {
   "cell_type": "code",
   "execution_count": null,
   "metadata": {},
   "outputs": [],
   "source": []
  }
 ],
 "metadata": {
  "kernelspec": {
   "display_name": "Python 3",
   "language": "python",
   "name": "python3"
  },
  "language_info": {
   "codemirror_mode": {
    "name": "ipython",
    "version": 3
   },
   "file_extension": ".py",
   "mimetype": "text/x-python",
   "name": "python",
   "nbconvert_exporter": "python",
   "pygments_lexer": "ipython3",
   "version": "3.8.8"
  }
 },
 "nbformat": 4,
 "nbformat_minor": 4
}
