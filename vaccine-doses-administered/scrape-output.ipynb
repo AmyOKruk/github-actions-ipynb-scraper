{
 "cells": [
  {
   "cell_type": "markdown",
   "metadata": {},
   "source": [
    "# California COVID vaccinations scrape"
   ]
  },
  {
   "cell_type": "markdown",
   "metadata": {},
   "source": [
    "By [Amy O'Kruk](https://twitter.com/amyokruk)"
   ]
  },
  {
   "cell_type": "markdown",
   "metadata": {},
   "source": [
    "Downloads data on vaccine doses administered by county and statewide from a Tableau-powered dashboard from the California Department of Public Health."
   ]
  },
  {
   "cell_type": "code",
   "execution_count": 1,
   "metadata": {
    "execution": {
     "iopub.execute_input": "2021-03-10T07:12:12.850586Z",
     "iopub.status.busy": "2021-03-10T07:12:12.849808Z",
     "iopub.status.idle": "2021-03-10T07:12:13.323571Z",
     "shell.execute_reply": "2021-03-10T07:12:13.322566Z"
    }
   },
   "outputs": [],
   "source": [
    "import pandas as pd\n",
    "import requests\n",
    "from bs4 import BeautifulSoup\n",
    "import json\n",
    "import re\n",
    "import time\n",
    "from time import gmtime, strftime \n",
    "import os\n",
    "import pytz\n",
    "from datetime import datetime"
   ]
  },
  {
   "cell_type": "markdown",
   "metadata": {},
   "source": [
    "Scrape the dashboard page"
   ]
  },
  {
   "cell_type": "code",
   "execution_count": 2,
   "metadata": {
    "execution": {
     "iopub.execute_input": "2021-03-10T07:12:13.330843Z",
     "iopub.status.busy": "2021-03-10T07:12:13.330150Z",
     "iopub.status.idle": "2021-03-10T07:12:13.898157Z",
     "shell.execute_reply": "2021-03-10T07:12:13.898618Z"
    }
   },
   "outputs": [],
   "source": [
    "url = \"https://public.tableau.com/interactive/views/COVID-19VaccineDashboardPublic/Vaccine?:embed=y&:showVizHome=n&:apiID=host0\"\n",
    "\n",
    "r = requests.get(url)\n",
    "soup = BeautifulSoup(r.text, \"html.parser\")"
   ]
  },
  {
   "cell_type": "code",
   "execution_count": 3,
   "metadata": {
    "execution": {
     "iopub.execute_input": "2021-03-10T07:12:13.904220Z",
     "iopub.status.busy": "2021-03-10T07:12:13.903633Z",
     "iopub.status.idle": "2021-03-10T07:12:13.907066Z",
     "shell.execute_reply": "2021-03-10T07:12:13.907507Z"
    }
   },
   "outputs": [],
   "source": [
    "tableauData = json.loads(soup.find(\"textarea\",{\"id\": \"tsConfigContainer\"}).text)"
   ]
  },
  {
   "cell_type": "markdown",
   "metadata": {},
   "source": [
    "Get the link to the Tableau data"
   ]
  },
  {
   "cell_type": "code",
   "execution_count": 4,
   "metadata": {
    "execution": {
     "iopub.execute_input": "2021-03-10T07:12:13.911488Z",
     "iopub.status.busy": "2021-03-10T07:12:13.910871Z",
     "iopub.status.idle": "2021-03-10T07:12:13.914447Z",
     "shell.execute_reply": "2021-03-10T07:12:13.914906Z"
    }
   },
   "outputs": [],
   "source": [
    "dataUrl = f'https://public.tableau.com{tableauData[\"vizql_root\"]}/bootstrapSession/sessions/{tableauData[\"sessionid\"]}'"
   ]
  },
  {
   "cell_type": "code",
   "execution_count": 5,
   "metadata": {
    "execution": {
     "iopub.execute_input": "2021-03-10T07:12:13.922248Z",
     "iopub.status.busy": "2021-03-10T07:12:13.921684Z",
     "iopub.status.idle": "2021-03-10T07:12:14.488859Z",
     "shell.execute_reply": "2021-03-10T07:12:14.488297Z"
    }
   },
   "outputs": [],
   "source": [
    "r = requests.post(dataUrl, data= {\n",
    "    \"sheet_id\": tableauData[\"sheetId\"],\n",
    "})\n",
    "\n",
    "dataReg = re.search('\\d+;({.*})\\d+;({.*})', r.text, re.MULTILINE)\n",
    "data1 = json.loads(dataReg.group(2))\n",
    "\n",
    "dataJson = data1[\"secondaryInfo\"][\"presModelMap\"][\"dataDictionary\"][\"presModelHolder\"][\"genDataDictionaryPresModel\"][\"dataSegments\"][\"0\"][\"dataColumns\"]"
   ]
  },
  {
   "cell_type": "markdown",
   "metadata": {},
   "source": [
    "Isolate what you want"
   ]
  },
  {
   "cell_type": "code",
   "execution_count": 6,
   "metadata": {
    "execution": {
     "iopub.execute_input": "2021-03-10T07:12:14.494535Z",
     "iopub.status.busy": "2021-03-10T07:12:14.492585Z",
     "iopub.status.idle": "2021-03-10T07:12:14.495251Z",
     "shell.execute_reply": "2021-03-10T07:12:14.495874Z"
    }
   },
   "outputs": [],
   "source": [
    "counties = dataJson[2]['dataValues'][:58]"
   ]
  },
  {
   "cell_type": "code",
   "execution_count": 7,
   "metadata": {
    "execution": {
     "iopub.execute_input": "2021-03-10T07:12:14.501449Z",
     "iopub.status.busy": "2021-03-10T07:12:14.499862Z",
     "iopub.status.idle": "2021-03-10T07:12:14.502103Z",
     "shell.execute_reply": "2021-03-10T07:12:14.502613Z"
    }
   },
   "outputs": [],
   "source": [
    "doses = dataJson[0]['dataValues'][3:61]"
   ]
  },
  {
   "cell_type": "markdown",
   "metadata": {},
   "source": [
    "Data formatting"
   ]
  },
  {
   "cell_type": "code",
   "execution_count": 8,
   "metadata": {
    "execution": {
     "iopub.execute_input": "2021-03-10T07:12:14.507924Z",
     "iopub.status.busy": "2021-03-10T07:12:14.506408Z",
     "iopub.status.idle": "2021-03-10T07:12:14.508692Z",
     "shell.execute_reply": "2021-03-10T07:12:14.509223Z"
    }
   },
   "outputs": [],
   "source": [
    "zipped = dict(zip(counties, doses))"
   ]
  },
  {
   "cell_type": "code",
   "execution_count": 9,
   "metadata": {
    "execution": {
     "iopub.execute_input": "2021-03-10T07:12:14.516955Z",
     "iopub.status.busy": "2021-03-10T07:12:14.515505Z",
     "iopub.status.idle": "2021-03-10T07:12:14.517632Z",
     "shell.execute_reply": "2021-03-10T07:12:14.518140Z"
    }
   },
   "outputs": [],
   "source": [
    "df = pd.Series(zipped).reset_index()"
   ]
  },
  {
   "cell_type": "code",
   "execution_count": 10,
   "metadata": {
    "execution": {
     "iopub.execute_input": "2021-03-10T07:12:14.523192Z",
     "iopub.status.busy": "2021-03-10T07:12:14.521810Z",
     "iopub.status.idle": "2021-03-10T07:12:14.523838Z",
     "shell.execute_reply": "2021-03-10T07:12:14.524343Z"
    }
   },
   "outputs": [],
   "source": [
    "df.columns = ['location','doses']"
   ]
  },
  {
   "cell_type": "markdown",
   "metadata": {},
   "source": [
    "Grab the overall California total"
   ]
  },
  {
   "cell_type": "code",
   "execution_count": 11,
   "metadata": {
    "execution": {
     "iopub.execute_input": "2021-03-10T07:12:14.529689Z",
     "iopub.status.busy": "2021-03-10T07:12:14.528539Z",
     "iopub.status.idle": "2021-03-10T07:12:14.531311Z",
     "shell.execute_reply": "2021-03-10T07:12:14.530749Z"
    }
   },
   "outputs": [],
   "source": [
    "add = {'location':'California','doses':dataJson[0]['dataValues'][2]}"
   ]
  },
  {
   "cell_type": "code",
   "execution_count": 12,
   "metadata": {
    "execution": {
     "iopub.execute_input": "2021-03-10T07:12:14.539707Z",
     "iopub.status.busy": "2021-03-10T07:12:14.538485Z",
     "iopub.status.idle": "2021-03-10T07:12:14.540899Z",
     "shell.execute_reply": "2021-03-10T07:12:14.541435Z"
    }
   },
   "outputs": [],
   "source": [
    "df = df.append(add, ignore_index=True)"
   ]
  },
  {
   "cell_type": "code",
   "execution_count": 13,
   "metadata": {
    "execution": {
     "iopub.execute_input": "2021-03-10T07:12:14.548313Z",
     "iopub.status.busy": "2021-03-10T07:12:14.546894Z",
     "iopub.status.idle": "2021-03-10T07:12:14.549188Z",
     "shell.execute_reply": "2021-03-10T07:12:14.549821Z"
    }
   },
   "outputs": [],
   "source": [
    "df = df.sort_values(by='location')"
   ]
  },
  {
   "cell_type": "code",
   "execution_count": 14,
   "metadata": {
    "execution": {
     "iopub.execute_input": "2021-03-10T07:12:14.557734Z",
     "iopub.status.busy": "2021-03-10T07:12:14.556514Z",
     "iopub.status.idle": "2021-03-10T07:12:14.559273Z",
     "shell.execute_reply": "2021-03-10T07:12:14.559857Z"
    }
   },
   "outputs": [],
   "source": [
    "df = df[df.location == 'California'].append(df[df.location != 'California']).reset_index(drop=True)"
   ]
  },
  {
   "cell_type": "code",
   "execution_count": null,
   "metadata": {},
   "outputs": [],
   "source": []
  },
  {
   "cell_type": "code",
   "execution_count": 15,
   "metadata": {
    "execution": {
     "iopub.execute_input": "2021-03-10T07:12:14.564047Z",
     "iopub.status.busy": "2021-03-10T07:12:14.563347Z",
     "iopub.status.idle": "2021-03-10T07:12:14.586575Z",
     "shell.execute_reply": "2021-03-10T07:12:14.586066Z"
    }
   },
   "outputs": [],
   "source": [
    "tz = pytz.timezone(\"America/New_York\")"
   ]
  },
  {
   "cell_type": "code",
   "execution_count": 16,
   "metadata": {
    "execution": {
     "iopub.execute_input": "2021-03-10T07:12:14.592076Z",
     "iopub.status.busy": "2021-03-10T07:12:14.590376Z",
     "iopub.status.idle": "2021-03-10T07:12:14.592892Z",
     "shell.execute_reply": "2021-03-10T07:12:14.593428Z"
    }
   },
   "outputs": [],
   "source": [
    "today = datetime.now(tz).date()"
   ]
  },
  {
   "cell_type": "code",
   "execution_count": 17,
   "metadata": {
    "execution": {
     "iopub.execute_input": "2021-03-10T07:12:14.598953Z",
     "iopub.status.busy": "2021-03-10T07:12:14.597449Z",
     "iopub.status.idle": "2021-03-10T07:12:14.599848Z",
     "shell.execute_reply": "2021-03-10T07:12:14.600446Z"
    }
   },
   "outputs": [],
   "source": [
    "data_dir = os.path.join(os.path.abspath(\"\"), \"data\")"
   ]
  },
  {
   "cell_type": "code",
   "execution_count": 18,
   "metadata": {
    "execution": {
     "iopub.execute_input": "2021-03-10T07:12:14.606137Z",
     "iopub.status.busy": "2021-03-10T07:12:14.605477Z",
     "iopub.status.idle": "2021-03-10T07:12:14.610855Z",
     "shell.execute_reply": "2021-03-10T07:12:14.610332Z"
    }
   },
   "outputs": [],
   "source": [
    "df.to_csv(os.path.join(data_dir, f\"{today}.csv\"), index=False)"
   ]
  },
  {
   "cell_type": "code",
   "execution_count": null,
   "metadata": {},
   "outputs": [],
   "source": []
  }
 ],
 "metadata": {
  "kernelspec": {
   "display_name": "Python 3",
   "language": "python",
   "name": "python3"
  },
  "language_info": {
   "codemirror_mode": {
    "name": "ipython",
    "version": 3
   },
   "file_extension": ".py",
   "mimetype": "text/x-python",
   "name": "python",
   "nbconvert_exporter": "python",
   "pygments_lexer": "ipython3",
   "version": "3.8.8"
  }
 },
 "nbformat": 4,
 "nbformat_minor": 4
}
