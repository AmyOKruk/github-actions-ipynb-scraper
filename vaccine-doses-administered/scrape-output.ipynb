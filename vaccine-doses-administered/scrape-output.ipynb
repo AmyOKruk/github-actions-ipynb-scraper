{
 "cells": [
  {
   "cell_type": "markdown",
   "metadata": {},
   "source": [
    "# California COVID vaccinations scrape"
   ]
  },
  {
   "cell_type": "markdown",
   "metadata": {},
   "source": [
    "By [Amy O'Kruk](https://twitter.com/amyokruk)"
   ]
  },
  {
   "cell_type": "markdown",
   "metadata": {},
   "source": [
    "Downloads data on vaccine doses administered by county and statewide from a Tableau-powered dashboard from the California Department of Public Health."
   ]
  },
  {
   "cell_type": "code",
   "execution_count": 1,
   "metadata": {
    "execution": {
     "iopub.execute_input": "2021-03-20T16:25:46.075157Z",
     "iopub.status.busy": "2021-03-20T16:25:46.074401Z",
     "iopub.status.idle": "2021-03-20T16:25:46.524554Z",
     "shell.execute_reply": "2021-03-20T16:25:46.523522Z"
    }
   },
   "outputs": [],
   "source": [
    "import pandas as pd\n",
    "import requests\n",
    "from bs4 import BeautifulSoup\n",
    "import json\n",
    "import re\n",
    "import time\n",
    "from time import gmtime, strftime \n",
    "import os\n",
    "import pytz\n",
    "from datetime import datetime"
   ]
  },
  {
   "cell_type": "markdown",
   "metadata": {},
   "source": [
    "Scrape the dashboard page"
   ]
  },
  {
   "cell_type": "code",
   "execution_count": 2,
   "metadata": {
    "execution": {
     "iopub.execute_input": "2021-03-20T16:25:46.531373Z",
     "iopub.status.busy": "2021-03-20T16:25:46.528509Z",
     "iopub.status.idle": "2021-03-20T16:25:47.076487Z",
     "shell.execute_reply": "2021-03-20T16:25:47.075435Z"
    }
   },
   "outputs": [],
   "source": [
    "url = \"https://public.tableau.com/interactive/views/COVID-19VaccineDashboardPublic/Vaccine?:embed=y&:showVizHome=n&:apiID=host0\"\n",
    "\n",
    "r = requests.get(url)\n",
    "soup = BeautifulSoup(r.text, \"html.parser\")"
   ]
  },
  {
   "cell_type": "code",
   "execution_count": 3,
   "metadata": {
    "execution": {
     "iopub.execute_input": "2021-03-20T16:25:47.082047Z",
     "iopub.status.busy": "2021-03-20T16:25:47.081449Z",
     "iopub.status.idle": "2021-03-20T16:25:47.085601Z",
     "shell.execute_reply": "2021-03-20T16:25:47.084797Z"
    }
   },
   "outputs": [],
   "source": [
    "tableauData = json.loads(soup.find(\"textarea\",{\"id\": \"tsConfigContainer\"}).text)"
   ]
  },
  {
   "cell_type": "markdown",
   "metadata": {},
   "source": [
    "Get the link to the Tableau data"
   ]
  },
  {
   "cell_type": "code",
   "execution_count": 4,
   "metadata": {
    "execution": {
     "iopub.execute_input": "2021-03-20T16:25:47.089608Z",
     "iopub.status.busy": "2021-03-20T16:25:47.089014Z",
     "iopub.status.idle": "2021-03-20T16:25:47.092902Z",
     "shell.execute_reply": "2021-03-20T16:25:47.092376Z"
    }
   },
   "outputs": [],
   "source": [
    "dataUrl = f'https://public.tableau.com{tableauData[\"vizql_root\"]}/bootstrapSession/sessions/{tableauData[\"sessionid\"]}'"
   ]
  },
  {
   "cell_type": "code",
   "execution_count": 5,
   "metadata": {
    "execution": {
     "iopub.execute_input": "2021-03-20T16:25:47.100273Z",
     "iopub.status.busy": "2021-03-20T16:25:47.099074Z",
     "iopub.status.idle": "2021-03-20T16:25:47.356366Z",
     "shell.execute_reply": "2021-03-20T16:25:47.356885Z"
    }
   },
   "outputs": [],
   "source": [
    "r = requests.post(dataUrl, data= {\n",
    "    \"sheet_id\": tableauData[\"sheetId\"],\n",
    "})\n",
    "\n",
    "dataReg = re.search('\\d+;({.*})\\d+;({.*})', r.text, re.MULTILINE)\n",
    "data1 = json.loads(dataReg.group(2))\n",
    "\n",
    "dataJson = data1[\"secondaryInfo\"][\"presModelMap\"][\"dataDictionary\"][\"presModelHolder\"][\"genDataDictionaryPresModel\"][\"dataSegments\"][\"0\"][\"dataColumns\"]"
   ]
  },
  {
   "cell_type": "markdown",
   "metadata": {},
   "source": [
    "Isolate what you want"
   ]
  },
  {
   "cell_type": "code",
   "execution_count": 6,
   "metadata": {
    "execution": {
     "iopub.execute_input": "2021-03-20T16:25:47.361308Z",
     "iopub.status.busy": "2021-03-20T16:25:47.360713Z",
     "iopub.status.idle": "2021-03-20T16:25:47.364617Z",
     "shell.execute_reply": "2021-03-20T16:25:47.364086Z"
    }
   },
   "outputs": [],
   "source": [
    "counties = dataJson[2]['dataValues'][:58]"
   ]
  },
  {
   "cell_type": "code",
   "execution_count": 7,
   "metadata": {
    "execution": {
     "iopub.execute_input": "2021-03-20T16:25:47.368739Z",
     "iopub.status.busy": "2021-03-20T16:25:47.368143Z",
     "iopub.status.idle": "2021-03-20T16:25:47.373120Z",
     "shell.execute_reply": "2021-03-20T16:25:47.373619Z"
    }
   },
   "outputs": [],
   "source": [
    "doses = dataJson[0]['dataValues'][3:61]"
   ]
  },
  {
   "cell_type": "markdown",
   "metadata": {},
   "source": [
    "Data formatting"
   ]
  },
  {
   "cell_type": "code",
   "execution_count": 8,
   "metadata": {
    "execution": {
     "iopub.execute_input": "2021-03-20T16:25:47.378202Z",
     "iopub.status.busy": "2021-03-20T16:25:47.376050Z",
     "iopub.status.idle": "2021-03-20T16:25:47.380927Z",
     "shell.execute_reply": "2021-03-20T16:25:47.381387Z"
    }
   },
   "outputs": [],
   "source": [
    "zipped = dict(zip(counties, doses))"
   ]
  },
  {
   "cell_type": "code",
   "execution_count": 9,
   "metadata": {
    "execution": {
     "iopub.execute_input": "2021-03-20T16:25:47.388139Z",
     "iopub.status.busy": "2021-03-20T16:25:47.387520Z",
     "iopub.status.idle": "2021-03-20T16:25:47.391325Z",
     "shell.execute_reply": "2021-03-20T16:25:47.390775Z"
    }
   },
   "outputs": [],
   "source": [
    "df = pd.Series(zipped).reset_index()"
   ]
  },
  {
   "cell_type": "code",
   "execution_count": 10,
   "metadata": {
    "execution": {
     "iopub.execute_input": "2021-03-20T16:25:47.395586Z",
     "iopub.status.busy": "2021-03-20T16:25:47.394998Z",
     "iopub.status.idle": "2021-03-20T16:25:47.398254Z",
     "shell.execute_reply": "2021-03-20T16:25:47.398976Z"
    }
   },
   "outputs": [],
   "source": [
    "df.columns = ['location','doses']"
   ]
  },
  {
   "cell_type": "markdown",
   "metadata": {},
   "source": [
    "Grab the overall California total"
   ]
  },
  {
   "cell_type": "code",
   "execution_count": 11,
   "metadata": {
    "execution": {
     "iopub.execute_input": "2021-03-20T16:25:47.403445Z",
     "iopub.status.busy": "2021-03-20T16:25:47.402860Z",
     "iopub.status.idle": "2021-03-20T16:25:47.406878Z",
     "shell.execute_reply": "2021-03-20T16:25:47.406357Z"
    }
   },
   "outputs": [],
   "source": [
    "add = {'location':'California','doses':dataJson[0]['dataValues'][2]}"
   ]
  },
  {
   "cell_type": "code",
   "execution_count": 12,
   "metadata": {
    "execution": {
     "iopub.execute_input": "2021-03-20T16:25:47.414235Z",
     "iopub.status.busy": "2021-03-20T16:25:47.413656Z",
     "iopub.status.idle": "2021-03-20T16:25:47.417644Z",
     "shell.execute_reply": "2021-03-20T16:25:47.417060Z"
    }
   },
   "outputs": [],
   "source": [
    "df = df.append(add, ignore_index=True)"
   ]
  },
  {
   "cell_type": "code",
   "execution_count": 13,
   "metadata": {
    "execution": {
     "iopub.execute_input": "2021-03-20T16:25:47.422393Z",
     "iopub.status.busy": "2021-03-20T16:25:47.421810Z",
     "iopub.status.idle": "2021-03-20T16:25:47.425653Z",
     "shell.execute_reply": "2021-03-20T16:25:47.425141Z"
    }
   },
   "outputs": [],
   "source": [
    "df = df.sort_values(by='location')"
   ]
  },
  {
   "cell_type": "code",
   "execution_count": 14,
   "metadata": {
    "execution": {
     "iopub.execute_input": "2021-03-20T16:25:47.432377Z",
     "iopub.status.busy": "2021-03-20T16:25:47.431752Z",
     "iopub.status.idle": "2021-03-20T16:25:47.435756Z",
     "shell.execute_reply": "2021-03-20T16:25:47.435022Z"
    }
   },
   "outputs": [],
   "source": [
    "df = df[df.location == 'California'].append(df[df.location != 'California']).reset_index(drop=True)"
   ]
  },
  {
   "cell_type": "code",
   "execution_count": null,
   "metadata": {},
   "outputs": [],
   "source": []
  },
  {
   "cell_type": "code",
   "execution_count": 15,
   "metadata": {
    "execution": {
     "iopub.execute_input": "2021-03-20T16:25:47.440285Z",
     "iopub.status.busy": "2021-03-20T16:25:47.439358Z",
     "iopub.status.idle": "2021-03-20T16:25:47.460401Z",
     "shell.execute_reply": "2021-03-20T16:25:47.460879Z"
    }
   },
   "outputs": [],
   "source": [
    "tz = pytz.timezone(\"America/New_York\")"
   ]
  },
  {
   "cell_type": "code",
   "execution_count": 16,
   "metadata": {
    "execution": {
     "iopub.execute_input": "2021-03-20T16:25:47.465458Z",
     "iopub.status.busy": "2021-03-20T16:25:47.464876Z",
     "iopub.status.idle": "2021-03-20T16:25:47.468831Z",
     "shell.execute_reply": "2021-03-20T16:25:47.468078Z"
    }
   },
   "outputs": [],
   "source": [
    "today = datetime.now(tz).date()"
   ]
  },
  {
   "cell_type": "code",
   "execution_count": 17,
   "metadata": {
    "execution": {
     "iopub.execute_input": "2021-03-20T16:25:47.473195Z",
     "iopub.status.busy": "2021-03-20T16:25:47.472429Z",
     "iopub.status.idle": "2021-03-20T16:25:47.476526Z",
     "shell.execute_reply": "2021-03-20T16:25:47.475794Z"
    }
   },
   "outputs": [],
   "source": [
    "data_dir = os.path.join(os.path.abspath(\"\"), \"data\")"
   ]
  },
  {
   "cell_type": "code",
   "execution_count": 18,
   "metadata": {
    "execution": {
     "iopub.execute_input": "2021-03-20T16:25:47.481425Z",
     "iopub.status.busy": "2021-03-20T16:25:47.480453Z",
     "iopub.status.idle": "2021-03-20T16:25:47.487599Z",
     "shell.execute_reply": "2021-03-20T16:25:47.486795Z"
    }
   },
   "outputs": [],
   "source": [
    "df.to_csv(os.path.join(data_dir, f\"{today}.csv\"), index=False)"
   ]
  },
  {
   "cell_type": "code",
   "execution_count": null,
   "metadata": {},
   "outputs": [],
   "source": []
  }
 ],
 "metadata": {
  "kernelspec": {
   "display_name": "Python 3",
   "language": "python",
   "name": "python3"
  },
  "language_info": {
   "codemirror_mode": {
    "name": "ipython",
    "version": 3
   },
   "file_extension": ".py",
   "mimetype": "text/x-python",
   "name": "python",
   "nbconvert_exporter": "python",
   "pygments_lexer": "ipython3",
   "version": "3.8.8"
  }
 },
 "nbformat": 4,
 "nbformat_minor": 4
}
