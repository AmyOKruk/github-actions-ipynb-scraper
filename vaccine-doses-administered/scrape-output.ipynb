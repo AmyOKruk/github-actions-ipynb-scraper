{
 "cells": [
  {
   "cell_type": "markdown",
   "metadata": {},
   "source": [
    "# California COVID vaccinations scrape"
   ]
  },
  {
   "cell_type": "markdown",
   "metadata": {},
   "source": [
    "By [Amy O'Kruk](https://twitter.com/amyokruk)"
   ]
  },
  {
   "cell_type": "markdown",
   "metadata": {},
   "source": [
    "Downloads data on vaccine doses administered by county and statewide from a Tableau-powered dashboard from the California Department of Public Health."
   ]
  },
  {
   "cell_type": "code",
   "execution_count": 1,
   "metadata": {
    "execution": {
     "iopub.execute_input": "2021-03-20T00:30:36.166722Z",
     "iopub.status.busy": "2021-03-20T00:30:36.165261Z",
     "iopub.status.idle": "2021-03-20T00:30:36.565681Z",
     "shell.execute_reply": "2021-03-20T00:30:36.564680Z"
    }
   },
   "outputs": [],
   "source": [
    "import pandas as pd\n",
    "import requests\n",
    "from bs4 import BeautifulSoup\n",
    "import json\n",
    "import re\n",
    "import time\n",
    "from time import gmtime, strftime \n",
    "import os\n",
    "import pytz\n",
    "from datetime import datetime"
   ]
  },
  {
   "cell_type": "markdown",
   "metadata": {},
   "source": [
    "Scrape the dashboard page"
   ]
  },
  {
   "cell_type": "code",
   "execution_count": 2,
   "metadata": {
    "execution": {
     "iopub.execute_input": "2021-03-20T00:30:36.571742Z",
     "iopub.status.busy": "2021-03-20T00:30:36.569242Z",
     "iopub.status.idle": "2021-03-20T00:30:36.917047Z",
     "shell.execute_reply": "2021-03-20T00:30:36.915663Z"
    }
   },
   "outputs": [],
   "source": [
    "url = \"https://public.tableau.com/interactive/views/COVID-19VaccineDashboardPublic/Vaccine?:embed=y&:showVizHome=n&:apiID=host0\"\n",
    "\n",
    "r = requests.get(url)\n",
    "soup = BeautifulSoup(r.text, \"html.parser\")"
   ]
  },
  {
   "cell_type": "code",
   "execution_count": 3,
   "metadata": {
    "execution": {
     "iopub.execute_input": "2021-03-20T00:30:36.921867Z",
     "iopub.status.busy": "2021-03-20T00:30:36.921345Z",
     "iopub.status.idle": "2021-03-20T00:30:36.924870Z",
     "shell.execute_reply": "2021-03-20T00:30:36.924391Z"
    }
   },
   "outputs": [],
   "source": [
    "tableauData = json.loads(soup.find(\"textarea\",{\"id\": \"tsConfigContainer\"}).text)"
   ]
  },
  {
   "cell_type": "markdown",
   "metadata": {},
   "source": [
    "Get the link to the Tableau data"
   ]
  },
  {
   "cell_type": "code",
   "execution_count": 4,
   "metadata": {
    "execution": {
     "iopub.execute_input": "2021-03-20T00:30:36.929206Z",
     "iopub.status.busy": "2021-03-20T00:30:36.928033Z",
     "iopub.status.idle": "2021-03-20T00:30:36.929896Z",
     "shell.execute_reply": "2021-03-20T00:30:36.930318Z"
    }
   },
   "outputs": [],
   "source": [
    "dataUrl = f'https://public.tableau.com{tableauData[\"vizql_root\"]}/bootstrapSession/sessions/{tableauData[\"sessionid\"]}'"
   ]
  },
  {
   "cell_type": "code",
   "execution_count": 5,
   "metadata": {
    "execution": {
     "iopub.execute_input": "2021-03-20T00:30:36.936579Z",
     "iopub.status.busy": "2021-03-20T00:30:36.936034Z",
     "iopub.status.idle": "2021-03-20T00:30:37.238654Z",
     "shell.execute_reply": "2021-03-20T00:30:37.237616Z"
    }
   },
   "outputs": [],
   "source": [
    "r = requests.post(dataUrl, data= {\n",
    "    \"sheet_id\": tableauData[\"sheetId\"],\n",
    "})\n",
    "\n",
    "dataReg = re.search('\\d+;({.*})\\d+;({.*})', r.text, re.MULTILINE)\n",
    "data1 = json.loads(dataReg.group(2))\n",
    "\n",
    "dataJson = data1[\"secondaryInfo\"][\"presModelMap\"][\"dataDictionary\"][\"presModelHolder\"][\"genDataDictionaryPresModel\"][\"dataSegments\"][\"0\"][\"dataColumns\"]"
   ]
  },
  {
   "cell_type": "markdown",
   "metadata": {},
   "source": [
    "Isolate what you want"
   ]
  },
  {
   "cell_type": "code",
   "execution_count": 6,
   "metadata": {
    "execution": {
     "iopub.execute_input": "2021-03-20T00:30:37.243153Z",
     "iopub.status.busy": "2021-03-20T00:30:37.242634Z",
     "iopub.status.idle": "2021-03-20T00:30:37.245934Z",
     "shell.execute_reply": "2021-03-20T00:30:37.246359Z"
    }
   },
   "outputs": [],
   "source": [
    "counties = dataJson[2]['dataValues'][:58]"
   ]
  },
  {
   "cell_type": "code",
   "execution_count": 7,
   "metadata": {
    "execution": {
     "iopub.execute_input": "2021-03-20T00:30:37.250641Z",
     "iopub.status.busy": "2021-03-20T00:30:37.249723Z",
     "iopub.status.idle": "2021-03-20T00:30:37.251697Z",
     "shell.execute_reply": "2021-03-20T00:30:37.252254Z"
    }
   },
   "outputs": [],
   "source": [
    "doses = dataJson[0]['dataValues'][3:61]"
   ]
  },
  {
   "cell_type": "markdown",
   "metadata": {},
   "source": [
    "Data formatting"
   ]
  },
  {
   "cell_type": "code",
   "execution_count": 8,
   "metadata": {
    "execution": {
     "iopub.execute_input": "2021-03-20T00:30:37.256441Z",
     "iopub.status.busy": "2021-03-20T00:30:37.255413Z",
     "iopub.status.idle": "2021-03-20T00:30:37.257043Z",
     "shell.execute_reply": "2021-03-20T00:30:37.257464Z"
    }
   },
   "outputs": [],
   "source": [
    "zipped = dict(zip(counties, doses))"
   ]
  },
  {
   "cell_type": "code",
   "execution_count": 9,
   "metadata": {
    "execution": {
     "iopub.execute_input": "2021-03-20T00:30:37.263809Z",
     "iopub.status.busy": "2021-03-20T00:30:37.262725Z",
     "iopub.status.idle": "2021-03-20T00:30:37.264509Z",
     "shell.execute_reply": "2021-03-20T00:30:37.264942Z"
    }
   },
   "outputs": [],
   "source": [
    "df = pd.Series(zipped).reset_index()"
   ]
  },
  {
   "cell_type": "code",
   "execution_count": 10,
   "metadata": {
    "execution": {
     "iopub.execute_input": "2021-03-20T00:30:37.269499Z",
     "iopub.status.busy": "2021-03-20T00:30:37.268402Z",
     "iopub.status.idle": "2021-03-20T00:30:37.270085Z",
     "shell.execute_reply": "2021-03-20T00:30:37.270478Z"
    }
   },
   "outputs": [],
   "source": [
    "df.columns = ['location','doses']"
   ]
  },
  {
   "cell_type": "markdown",
   "metadata": {},
   "source": [
    "Grab the overall California total"
   ]
  },
  {
   "cell_type": "code",
   "execution_count": 11,
   "metadata": {
    "execution": {
     "iopub.execute_input": "2021-03-20T00:30:37.274649Z",
     "iopub.status.busy": "2021-03-20T00:30:37.273572Z",
     "iopub.status.idle": "2021-03-20T00:30:37.275244Z",
     "shell.execute_reply": "2021-03-20T00:30:37.275665Z"
    }
   },
   "outputs": [],
   "source": [
    "add = {'location':'California','doses':dataJson[0]['dataValues'][2]}"
   ]
  },
  {
   "cell_type": "code",
   "execution_count": 12,
   "metadata": {
    "execution": {
     "iopub.execute_input": "2021-03-20T00:30:37.282577Z",
     "iopub.status.busy": "2021-03-20T00:30:37.281322Z",
     "iopub.status.idle": "2021-03-20T00:30:37.283951Z",
     "shell.execute_reply": "2021-03-20T00:30:37.283557Z"
    }
   },
   "outputs": [],
   "source": [
    "df = df.append(add, ignore_index=True)"
   ]
  },
  {
   "cell_type": "code",
   "execution_count": 13,
   "metadata": {
    "execution": {
     "iopub.execute_input": "2021-03-20T00:30:37.289075Z",
     "iopub.status.busy": "2021-03-20T00:30:37.287975Z",
     "iopub.status.idle": "2021-03-20T00:30:37.289669Z",
     "shell.execute_reply": "2021-03-20T00:30:37.290060Z"
    }
   },
   "outputs": [],
   "source": [
    "df = df.sort_values(by='location')"
   ]
  },
  {
   "cell_type": "code",
   "execution_count": 14,
   "metadata": {
    "execution": {
     "iopub.execute_input": "2021-03-20T00:30:37.296024Z",
     "iopub.status.busy": "2021-03-20T00:30:37.295101Z",
     "iopub.status.idle": "2021-03-20T00:30:37.296914Z",
     "shell.execute_reply": "2021-03-20T00:30:37.297340Z"
    }
   },
   "outputs": [],
   "source": [
    "df = df[df.location == 'California'].append(df[df.location != 'California']).reset_index(drop=True)"
   ]
  },
  {
   "cell_type": "code",
   "execution_count": null,
   "metadata": {},
   "outputs": [],
   "source": []
  },
  {
   "cell_type": "code",
   "execution_count": 15,
   "metadata": {
    "execution": {
     "iopub.execute_input": "2021-03-20T00:30:37.300745Z",
     "iopub.status.busy": "2021-03-20T00:30:37.300247Z",
     "iopub.status.idle": "2021-03-20T00:30:37.317605Z",
     "shell.execute_reply": "2021-03-20T00:30:37.317166Z"
    }
   },
   "outputs": [],
   "source": [
    "tz = pytz.timezone(\"America/New_York\")"
   ]
  },
  {
   "cell_type": "code",
   "execution_count": 16,
   "metadata": {
    "execution": {
     "iopub.execute_input": "2021-03-20T00:30:37.321885Z",
     "iopub.status.busy": "2021-03-20T00:30:37.320746Z",
     "iopub.status.idle": "2021-03-20T00:30:37.322478Z",
     "shell.execute_reply": "2021-03-20T00:30:37.322915Z"
    }
   },
   "outputs": [],
   "source": [
    "today = datetime.now(tz).date()"
   ]
  },
  {
   "cell_type": "code",
   "execution_count": 17,
   "metadata": {
    "execution": {
     "iopub.execute_input": "2021-03-20T00:30:37.327490Z",
     "iopub.status.busy": "2021-03-20T00:30:37.326360Z",
     "iopub.status.idle": "2021-03-20T00:30:37.328089Z",
     "shell.execute_reply": "2021-03-20T00:30:37.328539Z"
    }
   },
   "outputs": [],
   "source": [
    "data_dir = os.path.join(os.path.abspath(\"\"), \"data\")"
   ]
  },
  {
   "cell_type": "code",
   "execution_count": 18,
   "metadata": {
    "execution": {
     "iopub.execute_input": "2021-03-20T00:30:37.333246Z",
     "iopub.status.busy": "2021-03-20T00:30:37.331900Z",
     "iopub.status.idle": "2021-03-20T00:30:37.336827Z",
     "shell.execute_reply": "2021-03-20T00:30:37.336294Z"
    }
   },
   "outputs": [],
   "source": [
    "df.to_csv(os.path.join(data_dir, f\"{today}.csv\"), index=False)"
   ]
  },
  {
   "cell_type": "code",
   "execution_count": null,
   "metadata": {},
   "outputs": [],
   "source": []
  }
 ],
 "metadata": {
  "kernelspec": {
   "display_name": "Python 3",
   "language": "python",
   "name": "python3"
  },
  "language_info": {
   "codemirror_mode": {
    "name": "ipython",
    "version": 3
   },
   "file_extension": ".py",
   "mimetype": "text/x-python",
   "name": "python",
   "nbconvert_exporter": "python",
   "pygments_lexer": "ipython3",
   "version": "3.8.8"
  }
 },
 "nbformat": 4,
 "nbformat_minor": 4
}
