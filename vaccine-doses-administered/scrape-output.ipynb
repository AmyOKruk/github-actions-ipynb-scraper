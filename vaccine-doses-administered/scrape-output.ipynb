{
 "cells": [
  {
   "cell_type": "markdown",
   "metadata": {},
   "source": [
    "# California COVID vaccinations scrape"
   ]
  },
  {
   "cell_type": "markdown",
   "metadata": {},
   "source": [
    "By [Amy O'Kruk](https://twitter.com/amyokruk)"
   ]
  },
  {
   "cell_type": "markdown",
   "metadata": {},
   "source": [
    "Downloads data on vaccine doses administered by county and statewide from a Tableau-powered dashboard from the California Department of Public Health."
   ]
  },
  {
   "cell_type": "code",
   "execution_count": 1,
   "metadata": {
    "execution": {
     "iopub.execute_input": "2021-03-22T03:16:35.650239Z",
     "iopub.status.busy": "2021-03-22T03:16:35.649644Z",
     "iopub.status.idle": "2021-03-22T03:16:36.048728Z",
     "shell.execute_reply": "2021-03-22T03:16:36.047553Z"
    }
   },
   "outputs": [],
   "source": [
    "import pandas as pd\n",
    "import requests\n",
    "from bs4 import BeautifulSoup\n",
    "import json\n",
    "import re\n",
    "import time\n",
    "from time import gmtime, strftime \n",
    "import os\n",
    "import pytz\n",
    "from datetime import datetime"
   ]
  },
  {
   "cell_type": "markdown",
   "metadata": {},
   "source": [
    "Scrape the dashboard page"
   ]
  },
  {
   "cell_type": "code",
   "execution_count": 2,
   "metadata": {
    "execution": {
     "iopub.execute_input": "2021-03-22T03:16:36.054035Z",
     "iopub.status.busy": "2021-03-22T03:16:36.052035Z",
     "iopub.status.idle": "2021-03-22T03:16:36.382528Z",
     "shell.execute_reply": "2021-03-22T03:16:36.381914Z"
    }
   },
   "outputs": [],
   "source": [
    "url = \"https://public.tableau.com/interactive/views/COVID-19VaccineDashboardPublic/Vaccine?:embed=y&:showVizHome=n&:apiID=host0\"\n",
    "\n",
    "r = requests.get(url)\n",
    "soup = BeautifulSoup(r.text, \"html.parser\")"
   ]
  },
  {
   "cell_type": "code",
   "execution_count": 3,
   "metadata": {
    "execution": {
     "iopub.execute_input": "2021-03-22T03:16:36.387054Z",
     "iopub.status.busy": "2021-03-22T03:16:36.386529Z",
     "iopub.status.idle": "2021-03-22T03:16:36.390167Z",
     "shell.execute_reply": "2021-03-22T03:16:36.389718Z"
    }
   },
   "outputs": [],
   "source": [
    "tableauData = json.loads(soup.find(\"textarea\",{\"id\": \"tsConfigContainer\"}).text)"
   ]
  },
  {
   "cell_type": "markdown",
   "metadata": {},
   "source": [
    "Get the link to the Tableau data"
   ]
  },
  {
   "cell_type": "code",
   "execution_count": 4,
   "metadata": {
    "execution": {
     "iopub.execute_input": "2021-03-22T03:16:36.393347Z",
     "iopub.status.busy": "2021-03-22T03:16:36.392899Z",
     "iopub.status.idle": "2021-03-22T03:16:36.396174Z",
     "shell.execute_reply": "2021-03-22T03:16:36.395802Z"
    }
   },
   "outputs": [],
   "source": [
    "dataUrl = f'https://public.tableau.com{tableauData[\"vizql_root\"]}/bootstrapSession/sessions/{tableauData[\"sessionid\"]}'"
   ]
  },
  {
   "cell_type": "code",
   "execution_count": 5,
   "metadata": {
    "execution": {
     "iopub.execute_input": "2021-03-22T03:16:36.402333Z",
     "iopub.status.busy": "2021-03-22T03:16:36.401644Z",
     "iopub.status.idle": "2021-03-22T03:16:36.611161Z",
     "shell.execute_reply": "2021-03-22T03:16:36.610647Z"
    }
   },
   "outputs": [],
   "source": [
    "r = requests.post(dataUrl, data= {\n",
    "    \"sheet_id\": tableauData[\"sheetId\"],\n",
    "})\n",
    "\n",
    "dataReg = re.search('\\d+;({.*})\\d+;({.*})', r.text, re.MULTILINE)\n",
    "data1 = json.loads(dataReg.group(2))\n",
    "\n",
    "dataJson = data1[\"secondaryInfo\"][\"presModelMap\"][\"dataDictionary\"][\"presModelHolder\"][\"genDataDictionaryPresModel\"][\"dataSegments\"][\"0\"][\"dataColumns\"]"
   ]
  },
  {
   "cell_type": "markdown",
   "metadata": {},
   "source": [
    "Isolate what you want"
   ]
  },
  {
   "cell_type": "code",
   "execution_count": 6,
   "metadata": {
    "execution": {
     "iopub.execute_input": "2021-03-22T03:16:36.616681Z",
     "iopub.status.busy": "2021-03-22T03:16:36.616104Z",
     "iopub.status.idle": "2021-03-22T03:16:36.618398Z",
     "shell.execute_reply": "2021-03-22T03:16:36.618890Z"
    }
   },
   "outputs": [],
   "source": [
    "counties = dataJson[2]['dataValues'][:58]"
   ]
  },
  {
   "cell_type": "code",
   "execution_count": 7,
   "metadata": {
    "execution": {
     "iopub.execute_input": "2021-03-22T03:16:36.627225Z",
     "iopub.status.busy": "2021-03-22T03:16:36.626351Z",
     "iopub.status.idle": "2021-03-22T03:16:36.629211Z",
     "shell.execute_reply": "2021-03-22T03:16:36.629744Z"
    }
   },
   "outputs": [],
   "source": [
    "doses = dataJson[0]['dataValues'][3:61]"
   ]
  },
  {
   "cell_type": "markdown",
   "metadata": {},
   "source": [
    "Data formatting"
   ]
  },
  {
   "cell_type": "code",
   "execution_count": 8,
   "metadata": {
    "execution": {
     "iopub.execute_input": "2021-03-22T03:16:36.634647Z",
     "iopub.status.busy": "2021-03-22T03:16:36.633299Z",
     "iopub.status.idle": "2021-03-22T03:16:36.635305Z",
     "shell.execute_reply": "2021-03-22T03:16:36.635877Z"
    }
   },
   "outputs": [],
   "source": [
    "zipped = dict(zip(counties, doses))"
   ]
  },
  {
   "cell_type": "code",
   "execution_count": 9,
   "metadata": {
    "execution": {
     "iopub.execute_input": "2021-03-22T03:16:36.643409Z",
     "iopub.status.busy": "2021-03-22T03:16:36.642067Z",
     "iopub.status.idle": "2021-03-22T03:16:36.644064Z",
     "shell.execute_reply": "2021-03-22T03:16:36.644670Z"
    }
   },
   "outputs": [],
   "source": [
    "df = pd.Series(zipped).reset_index()"
   ]
  },
  {
   "cell_type": "code",
   "execution_count": 10,
   "metadata": {
    "execution": {
     "iopub.execute_input": "2021-03-22T03:16:36.649327Z",
     "iopub.status.busy": "2021-03-22T03:16:36.648009Z",
     "iopub.status.idle": "2021-03-22T03:16:36.649976Z",
     "shell.execute_reply": "2021-03-22T03:16:36.650451Z"
    }
   },
   "outputs": [],
   "source": [
    "df.columns = ['location','doses']"
   ]
  },
  {
   "cell_type": "markdown",
   "metadata": {},
   "source": [
    "Grab the overall California total"
   ]
  },
  {
   "cell_type": "code",
   "execution_count": 11,
   "metadata": {
    "execution": {
     "iopub.execute_input": "2021-03-22T03:16:36.654912Z",
     "iopub.status.busy": "2021-03-22T03:16:36.653964Z",
     "iopub.status.idle": "2021-03-22T03:16:36.655998Z",
     "shell.execute_reply": "2021-03-22T03:16:36.656485Z"
    }
   },
   "outputs": [],
   "source": [
    "add = {'location':'California','doses':dataJson[0]['dataValues'][2]}"
   ]
  },
  {
   "cell_type": "code",
   "execution_count": 12,
   "metadata": {
    "execution": {
     "iopub.execute_input": "2021-03-22T03:16:36.663004Z",
     "iopub.status.busy": "2021-03-22T03:16:36.662367Z",
     "iopub.status.idle": "2021-03-22T03:16:36.664445Z",
     "shell.execute_reply": "2021-03-22T03:16:36.664833Z"
    }
   },
   "outputs": [],
   "source": [
    "df = df.append(add, ignore_index=True)"
   ]
  },
  {
   "cell_type": "code",
   "execution_count": 13,
   "metadata": {
    "execution": {
     "iopub.execute_input": "2021-03-22T03:16:36.670077Z",
     "iopub.status.busy": "2021-03-22T03:16:36.669486Z",
     "iopub.status.idle": "2021-03-22T03:16:36.675807Z",
     "shell.execute_reply": "2021-03-22T03:16:36.675332Z"
    }
   },
   "outputs": [],
   "source": [
    "df = df.sort_values(by='location')"
   ]
  },
  {
   "cell_type": "code",
   "execution_count": 14,
   "metadata": {
    "execution": {
     "iopub.execute_input": "2021-03-22T03:16:36.682291Z",
     "iopub.status.busy": "2021-03-22T03:16:36.681774Z",
     "iopub.status.idle": "2021-03-22T03:16:36.685309Z",
     "shell.execute_reply": "2021-03-22T03:16:36.685739Z"
    }
   },
   "outputs": [],
   "source": [
    "df = df[df.location == 'California'].append(df[df.location != 'California']).reset_index(drop=True)"
   ]
  },
  {
   "cell_type": "code",
   "execution_count": null,
   "metadata": {},
   "outputs": [],
   "source": []
  },
  {
   "cell_type": "code",
   "execution_count": 15,
   "metadata": {
    "execution": {
     "iopub.execute_input": "2021-03-22T03:16:36.689395Z",
     "iopub.status.busy": "2021-03-22T03:16:36.688899Z",
     "iopub.status.idle": "2021-03-22T03:16:36.708508Z",
     "shell.execute_reply": "2021-03-22T03:16:36.707490Z"
    }
   },
   "outputs": [],
   "source": [
    "tz = pytz.timezone(\"America/New_York\")"
   ]
  },
  {
   "cell_type": "code",
   "execution_count": 16,
   "metadata": {
    "execution": {
     "iopub.execute_input": "2021-03-22T03:16:36.711664Z",
     "iopub.status.busy": "2021-03-22T03:16:36.711202Z",
     "iopub.status.idle": "2021-03-22T03:16:36.714322Z",
     "shell.execute_reply": "2021-03-22T03:16:36.714795Z"
    }
   },
   "outputs": [],
   "source": [
    "today = datetime.now(tz).date()"
   ]
  },
  {
   "cell_type": "code",
   "execution_count": 17,
   "metadata": {
    "execution": {
     "iopub.execute_input": "2021-03-22T03:16:36.718518Z",
     "iopub.status.busy": "2021-03-22T03:16:36.718031Z",
     "iopub.status.idle": "2021-03-22T03:16:36.721465Z",
     "shell.execute_reply": "2021-03-22T03:16:36.721029Z"
    }
   },
   "outputs": [],
   "source": [
    "data_dir = os.path.join(os.path.abspath(\"\"), \"data\")"
   ]
  },
  {
   "cell_type": "code",
   "execution_count": 18,
   "metadata": {
    "execution": {
     "iopub.execute_input": "2021-03-22T03:16:36.727387Z",
     "iopub.status.busy": "2021-03-22T03:16:36.724771Z",
     "iopub.status.idle": "2021-03-22T03:16:36.730457Z",
     "shell.execute_reply": "2021-03-22T03:16:36.730946Z"
    }
   },
   "outputs": [],
   "source": [
    "df.to_csv(os.path.join(data_dir, f\"{today}.csv\"), index=False)"
   ]
  },
  {
   "cell_type": "code",
   "execution_count": null,
   "metadata": {},
   "outputs": [],
   "source": []
  }
 ],
 "metadata": {
  "kernelspec": {
   "display_name": "Python 3",
   "language": "python",
   "name": "python3"
  },
  "language_info": {
   "codemirror_mode": {
    "name": "ipython",
    "version": 3
   },
   "file_extension": ".py",
   "mimetype": "text/x-python",
   "name": "python",
   "nbconvert_exporter": "python",
   "pygments_lexer": "ipython3",
   "version": "3.8.8"
  }
 },
 "nbformat": 4,
 "nbformat_minor": 4
}
