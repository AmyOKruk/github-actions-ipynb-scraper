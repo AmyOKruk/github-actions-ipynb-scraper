{
 "cells": [
  {
   "cell_type": "markdown",
   "metadata": {},
   "source": [
    "# California COVID vaccinations scrape"
   ]
  },
  {
   "cell_type": "markdown",
   "metadata": {},
   "source": [
    "By [Amy O'Kruk](https://twitter.com/amyokruk)"
   ]
  },
  {
   "cell_type": "markdown",
   "metadata": {},
   "source": [
    "Downloads data on vaccine doses administered by county and statewide from a Tableau-powered dashboard from the California Department of Public Health."
   ]
  },
  {
   "cell_type": "code",
   "execution_count": 1,
   "metadata": {
    "execution": {
     "iopub.execute_input": "2021-03-10T14:13:07.269034Z",
     "iopub.status.busy": "2021-03-10T14:13:07.268428Z",
     "iopub.status.idle": "2021-03-10T14:13:07.659033Z",
     "shell.execute_reply": "2021-03-10T14:13:07.657995Z"
    }
   },
   "outputs": [],
   "source": [
    "import pandas as pd\n",
    "import requests\n",
    "from bs4 import BeautifulSoup\n",
    "import json\n",
    "import re\n",
    "import time\n",
    "from time import gmtime, strftime \n",
    "import os\n",
    "import pytz\n",
    "from datetime import datetime"
   ]
  },
  {
   "cell_type": "markdown",
   "metadata": {},
   "source": [
    "Scrape the dashboard page"
   ]
  },
  {
   "cell_type": "code",
   "execution_count": 2,
   "metadata": {
    "execution": {
     "iopub.execute_input": "2021-03-10T14:13:07.665877Z",
     "iopub.status.busy": "2021-03-10T14:13:07.662796Z",
     "iopub.status.idle": "2021-03-10T14:13:08.078685Z",
     "shell.execute_reply": "2021-03-10T14:13:08.078179Z"
    }
   },
   "outputs": [],
   "source": [
    "url = \"https://public.tableau.com/interactive/views/COVID-19VaccineDashboardPublic/Vaccine?:embed=y&:showVizHome=n&:apiID=host0\"\n",
    "\n",
    "r = requests.get(url)\n",
    "soup = BeautifulSoup(r.text, \"html.parser\")"
   ]
  },
  {
   "cell_type": "code",
   "execution_count": 3,
   "metadata": {
    "execution": {
     "iopub.execute_input": "2021-03-10T14:13:08.083667Z",
     "iopub.status.busy": "2021-03-10T14:13:08.083144Z",
     "iopub.status.idle": "2021-03-10T14:13:08.085865Z",
     "shell.execute_reply": "2021-03-10T14:13:08.085369Z"
    }
   },
   "outputs": [],
   "source": [
    "tableauData = json.loads(soup.find(\"textarea\",{\"id\": \"tsConfigContainer\"}).text)"
   ]
  },
  {
   "cell_type": "markdown",
   "metadata": {},
   "source": [
    "Get the link to the Tableau data"
   ]
  },
  {
   "cell_type": "code",
   "execution_count": 4,
   "metadata": {
    "execution": {
     "iopub.execute_input": "2021-03-10T14:13:08.089656Z",
     "iopub.status.busy": "2021-03-10T14:13:08.089110Z",
     "iopub.status.idle": "2021-03-10T14:13:08.092515Z",
     "shell.execute_reply": "2021-03-10T14:13:08.092064Z"
    }
   },
   "outputs": [],
   "source": [
    "dataUrl = f'https://public.tableau.com{tableauData[\"vizql_root\"]}/bootstrapSession/sessions/{tableauData[\"sessionid\"]}'"
   ]
  },
  {
   "cell_type": "code",
   "execution_count": 5,
   "metadata": {
    "execution": {
     "iopub.execute_input": "2021-03-10T14:13:08.099017Z",
     "iopub.status.busy": "2021-03-10T14:13:08.098495Z",
     "iopub.status.idle": "2021-03-10T14:13:08.687666Z",
     "shell.execute_reply": "2021-03-10T14:13:08.687184Z"
    }
   },
   "outputs": [],
   "source": [
    "r = requests.post(dataUrl, data= {\n",
    "    \"sheet_id\": tableauData[\"sheetId\"],\n",
    "})\n",
    "\n",
    "dataReg = re.search('\\d+;({.*})\\d+;({.*})', r.text, re.MULTILINE)\n",
    "data1 = json.loads(dataReg.group(2))\n",
    "\n",
    "dataJson = data1[\"secondaryInfo\"][\"presModelMap\"][\"dataDictionary\"][\"presModelHolder\"][\"genDataDictionaryPresModel\"][\"dataSegments\"][\"0\"][\"dataColumns\"]"
   ]
  },
  {
   "cell_type": "markdown",
   "metadata": {},
   "source": [
    "Isolate what you want"
   ]
  },
  {
   "cell_type": "code",
   "execution_count": 6,
   "metadata": {
    "execution": {
     "iopub.execute_input": "2021-03-10T14:13:08.691618Z",
     "iopub.status.busy": "2021-03-10T14:13:08.691090Z",
     "iopub.status.idle": "2021-03-10T14:13:08.695787Z",
     "shell.execute_reply": "2021-03-10T14:13:08.695309Z"
    }
   },
   "outputs": [],
   "source": [
    "counties = dataJson[2]['dataValues'][:58]"
   ]
  },
  {
   "cell_type": "code",
   "execution_count": 7,
   "metadata": {
    "execution": {
     "iopub.execute_input": "2021-03-10T14:13:08.699208Z",
     "iopub.status.busy": "2021-03-10T14:13:08.698683Z",
     "iopub.status.idle": "2021-03-10T14:13:08.701622Z",
     "shell.execute_reply": "2021-03-10T14:13:08.702039Z"
    }
   },
   "outputs": [],
   "source": [
    "doses = dataJson[0]['dataValues'][3:61]"
   ]
  },
  {
   "cell_type": "markdown",
   "metadata": {},
   "source": [
    "Data formatting"
   ]
  },
  {
   "cell_type": "code",
   "execution_count": 8,
   "metadata": {
    "execution": {
     "iopub.execute_input": "2021-03-10T14:13:08.706138Z",
     "iopub.status.busy": "2021-03-10T14:13:08.705019Z",
     "iopub.status.idle": "2021-03-10T14:13:08.706706Z",
     "shell.execute_reply": "2021-03-10T14:13:08.707101Z"
    }
   },
   "outputs": [],
   "source": [
    "zipped = dict(zip(counties, doses))"
   ]
  },
  {
   "cell_type": "code",
   "execution_count": 9,
   "metadata": {
    "execution": {
     "iopub.execute_input": "2021-03-10T14:13:08.713532Z",
     "iopub.status.busy": "2021-03-10T14:13:08.712408Z",
     "iopub.status.idle": "2021-03-10T14:13:08.714114Z",
     "shell.execute_reply": "2021-03-10T14:13:08.714508Z"
    }
   },
   "outputs": [],
   "source": [
    "df = pd.Series(zipped).reset_index()"
   ]
  },
  {
   "cell_type": "code",
   "execution_count": 10,
   "metadata": {
    "execution": {
     "iopub.execute_input": "2021-03-10T14:13:08.718077Z",
     "iopub.status.busy": "2021-03-10T14:13:08.717553Z",
     "iopub.status.idle": "2021-03-10T14:13:08.723633Z",
     "shell.execute_reply": "2021-03-10T14:13:08.722852Z"
    }
   },
   "outputs": [],
   "source": [
    "df.columns = ['location','doses']"
   ]
  },
  {
   "cell_type": "markdown",
   "metadata": {},
   "source": [
    "Grab the overall California total"
   ]
  },
  {
   "cell_type": "code",
   "execution_count": 11,
   "metadata": {
    "execution": {
     "iopub.execute_input": "2021-03-10T14:13:08.728388Z",
     "iopub.status.busy": "2021-03-10T14:13:08.727191Z",
     "iopub.status.idle": "2021-03-10T14:13:08.728985Z",
     "shell.execute_reply": "2021-03-10T14:13:08.729408Z"
    }
   },
   "outputs": [],
   "source": [
    "add = {'location':'California','doses':dataJson[0]['dataValues'][2]}"
   ]
  },
  {
   "cell_type": "code",
   "execution_count": 12,
   "metadata": {
    "execution": {
     "iopub.execute_input": "2021-03-10T14:13:08.736779Z",
     "iopub.status.busy": "2021-03-10T14:13:08.735515Z",
     "iopub.status.idle": "2021-03-10T14:13:08.737384Z",
     "shell.execute_reply": "2021-03-10T14:13:08.737848Z"
    }
   },
   "outputs": [],
   "source": [
    "df = df.append(add, ignore_index=True)"
   ]
  },
  {
   "cell_type": "code",
   "execution_count": 13,
   "metadata": {
    "execution": {
     "iopub.execute_input": "2021-03-10T14:13:08.743049Z",
     "iopub.status.busy": "2021-03-10T14:13:08.741910Z",
     "iopub.status.idle": "2021-03-10T14:13:08.743654Z",
     "shell.execute_reply": "2021-03-10T14:13:08.744047Z"
    }
   },
   "outputs": [],
   "source": [
    "df = df.sort_values(by='location')"
   ]
  },
  {
   "cell_type": "code",
   "execution_count": 14,
   "metadata": {
    "execution": {
     "iopub.execute_input": "2021-03-10T14:13:08.750291Z",
     "iopub.status.busy": "2021-03-10T14:13:08.749220Z",
     "iopub.status.idle": "2021-03-10T14:13:08.751505Z",
     "shell.execute_reply": "2021-03-10T14:13:08.751029Z"
    }
   },
   "outputs": [],
   "source": [
    "df = df[df.location == 'California'].append(df[df.location != 'California']).reset_index(drop=True)"
   ]
  },
  {
   "cell_type": "code",
   "execution_count": null,
   "metadata": {},
   "outputs": [],
   "source": []
  },
  {
   "cell_type": "code",
   "execution_count": 15,
   "metadata": {
    "execution": {
     "iopub.execute_input": "2021-03-10T14:13:08.754659Z",
     "iopub.status.busy": "2021-03-10T14:13:08.754149Z",
     "iopub.status.idle": "2021-03-10T14:13:08.770783Z",
     "shell.execute_reply": "2021-03-10T14:13:08.771193Z"
    }
   },
   "outputs": [],
   "source": [
    "tz = pytz.timezone(\"America/New_York\")"
   ]
  },
  {
   "cell_type": "code",
   "execution_count": 16,
   "metadata": {
    "execution": {
     "iopub.execute_input": "2021-03-10T14:13:08.775195Z",
     "iopub.status.busy": "2021-03-10T14:13:08.774320Z",
     "iopub.status.idle": "2021-03-10T14:13:08.775912Z",
     "shell.execute_reply": "2021-03-10T14:13:08.776307Z"
    }
   },
   "outputs": [],
   "source": [
    "today = datetime.now(tz).date()"
   ]
  },
  {
   "cell_type": "code",
   "execution_count": 17,
   "metadata": {
    "execution": {
     "iopub.execute_input": "2021-03-10T14:13:08.780368Z",
     "iopub.status.busy": "2021-03-10T14:13:08.779168Z",
     "iopub.status.idle": "2021-03-10T14:13:08.781033Z",
     "shell.execute_reply": "2021-03-10T14:13:08.781477Z"
    }
   },
   "outputs": [],
   "source": [
    "data_dir = os.path.join(os.path.abspath(\"\"), \"data\")"
   ]
  },
  {
   "cell_type": "code",
   "execution_count": 18,
   "metadata": {
    "execution": {
     "iopub.execute_input": "2021-03-10T14:13:08.785552Z",
     "iopub.status.busy": "2021-03-10T14:13:08.784352Z",
     "iopub.status.idle": "2021-03-10T14:13:08.789031Z",
     "shell.execute_reply": "2021-03-10T14:13:08.788574Z"
    }
   },
   "outputs": [],
   "source": [
    "df.to_csv(os.path.join(data_dir, f\"{today}.csv\"), index=False)"
   ]
  },
  {
   "cell_type": "code",
   "execution_count": null,
   "metadata": {},
   "outputs": [],
   "source": []
  }
 ],
 "metadata": {
  "kernelspec": {
   "display_name": "Python 3",
   "language": "python",
   "name": "python3"
  },
  "language_info": {
   "codemirror_mode": {
    "name": "ipython",
    "version": 3
   },
   "file_extension": ".py",
   "mimetype": "text/x-python",
   "name": "python",
   "nbconvert_exporter": "python",
   "pygments_lexer": "ipython3",
   "version": "3.8.8"
  }
 },
 "nbformat": 4,
 "nbformat_minor": 4
}
