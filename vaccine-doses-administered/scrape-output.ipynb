{
 "cells": [
  {
   "cell_type": "markdown",
   "metadata": {},
   "source": [
    "# California COVID vaccinations scrape"
   ]
  },
  {
   "cell_type": "markdown",
   "metadata": {},
   "source": [
    "By [Amy O'Kruk](https://twitter.com/amyokruk)"
   ]
  },
  {
   "cell_type": "markdown",
   "metadata": {},
   "source": [
    "Downloads data on vaccine doses administered by county and statewide from a Tableau-powered dashboard from the California Department of Public Health."
   ]
  },
  {
   "cell_type": "code",
   "execution_count": 1,
   "metadata": {
    "execution": {
     "iopub.execute_input": "2021-03-09T05:42:06.081602Z",
     "iopub.status.busy": "2021-03-09T05:42:06.080965Z",
     "iopub.status.idle": "2021-03-09T05:42:06.438958Z",
     "shell.execute_reply": "2021-03-09T05:42:06.438033Z"
    }
   },
   "outputs": [],
   "source": [
    "import pandas as pd\n",
    "import requests\n",
    "from bs4 import BeautifulSoup\n",
    "import json\n",
    "import re\n",
    "import time\n",
    "from time import gmtime, strftime \n",
    "import os\n",
    "import pytz\n",
    "from datetime import datetime"
   ]
  },
  {
   "cell_type": "markdown",
   "metadata": {},
   "source": [
    "Scrape the dashboard page"
   ]
  },
  {
   "cell_type": "code",
   "execution_count": 2,
   "metadata": {
    "execution": {
     "iopub.execute_input": "2021-03-09T05:42:06.445275Z",
     "iopub.status.busy": "2021-03-09T05:42:06.444638Z",
     "iopub.status.idle": "2021-03-09T05:42:06.998220Z",
     "shell.execute_reply": "2021-03-09T05:42:06.997459Z"
    }
   },
   "outputs": [],
   "source": [
    "url = \"https://public.tableau.com/interactive/views/COVID-19VaccineDashboardPublic/Vaccine?:embed=y&:showVizHome=n&:apiID=host0\"\n",
    "\n",
    "r = requests.get(url)\n",
    "soup = BeautifulSoup(r.text, \"html.parser\")"
   ]
  },
  {
   "cell_type": "code",
   "execution_count": 3,
   "metadata": {
    "execution": {
     "iopub.execute_input": "2021-03-09T05:42:07.002918Z",
     "iopub.status.busy": "2021-03-09T05:42:07.002395Z",
     "iopub.status.idle": "2021-03-09T05:42:07.005586Z",
     "shell.execute_reply": "2021-03-09T05:42:07.006018Z"
    }
   },
   "outputs": [],
   "source": [
    "tableauData = json.loads(soup.find(\"textarea\",{\"id\": \"tsConfigContainer\"}).text)"
   ]
  },
  {
   "cell_type": "markdown",
   "metadata": {},
   "source": [
    "Get the link to the Tableau data"
   ]
  },
  {
   "cell_type": "code",
   "execution_count": 4,
   "metadata": {
    "execution": {
     "iopub.execute_input": "2021-03-09T05:42:07.011020Z",
     "iopub.status.busy": "2021-03-09T05:42:07.009630Z",
     "iopub.status.idle": "2021-03-09T05:42:07.011709Z",
     "shell.execute_reply": "2021-03-09T05:42:07.012195Z"
    }
   },
   "outputs": [],
   "source": [
    "dataUrl = f'https://public.tableau.com{tableauData[\"vizql_root\"]}/bootstrapSession/sessions/{tableauData[\"sessionid\"]}'"
   ]
  },
  {
   "cell_type": "code",
   "execution_count": 5,
   "metadata": {
    "execution": {
     "iopub.execute_input": "2021-03-09T05:42:07.018551Z",
     "iopub.status.busy": "2021-03-09T05:42:07.017928Z",
     "iopub.status.idle": "2021-03-09T05:42:07.303288Z",
     "shell.execute_reply": "2021-03-09T05:42:07.302802Z"
    }
   },
   "outputs": [],
   "source": [
    "r = requests.post(dataUrl, data= {\n",
    "    \"sheet_id\": tableauData[\"sheetId\"],\n",
    "})\n",
    "\n",
    "dataReg = re.search('\\d+;({.*})\\d+;({.*})', r.text, re.MULTILINE)\n",
    "data1 = json.loads(dataReg.group(2))\n",
    "\n",
    "dataJson = data1[\"secondaryInfo\"][\"presModelMap\"][\"dataDictionary\"][\"presModelHolder\"][\"genDataDictionaryPresModel\"][\"dataSegments\"][\"0\"][\"dataColumns\"]"
   ]
  },
  {
   "cell_type": "markdown",
   "metadata": {},
   "source": [
    "Isolate what you want"
   ]
  },
  {
   "cell_type": "code",
   "execution_count": 6,
   "metadata": {
    "execution": {
     "iopub.execute_input": "2021-03-09T05:42:07.308240Z",
     "iopub.status.busy": "2021-03-09T05:42:07.307033Z",
     "iopub.status.idle": "2021-03-09T05:42:07.308848Z",
     "shell.execute_reply": "2021-03-09T05:42:07.309502Z"
    }
   },
   "outputs": [],
   "source": [
    "counties = dataJson[2]['dataValues'][:58]"
   ]
  },
  {
   "cell_type": "code",
   "execution_count": 7,
   "metadata": {
    "execution": {
     "iopub.execute_input": "2021-03-09T05:42:07.314007Z",
     "iopub.status.busy": "2021-03-09T05:42:07.312823Z",
     "iopub.status.idle": "2021-03-09T05:42:07.314633Z",
     "shell.execute_reply": "2021-03-09T05:42:07.315074Z"
    }
   },
   "outputs": [],
   "source": [
    "doses = dataJson[0]['dataValues'][3:61]"
   ]
  },
  {
   "cell_type": "markdown",
   "metadata": {},
   "source": [
    "Data formatting"
   ]
  },
  {
   "cell_type": "code",
   "execution_count": 8,
   "metadata": {
    "execution": {
     "iopub.execute_input": "2021-03-09T05:42:07.319389Z",
     "iopub.status.busy": "2021-03-09T05:42:07.318215Z",
     "iopub.status.idle": "2021-03-09T05:42:07.319961Z",
     "shell.execute_reply": "2021-03-09T05:42:07.320399Z"
    }
   },
   "outputs": [],
   "source": [
    "zipped = dict(zip(counties, doses))"
   ]
  },
  {
   "cell_type": "code",
   "execution_count": 9,
   "metadata": {
    "execution": {
     "iopub.execute_input": "2021-03-09T05:42:07.327580Z",
     "iopub.status.busy": "2021-03-09T05:42:07.326195Z",
     "iopub.status.idle": "2021-03-09T05:42:07.328223Z",
     "shell.execute_reply": "2021-03-09T05:42:07.328658Z"
    }
   },
   "outputs": [],
   "source": [
    "df = pd.Series(zipped).reset_index()"
   ]
  },
  {
   "cell_type": "code",
   "execution_count": 10,
   "metadata": {
    "execution": {
     "iopub.execute_input": "2021-03-09T05:42:07.332994Z",
     "iopub.status.busy": "2021-03-09T05:42:07.331748Z",
     "iopub.status.idle": "2021-03-09T05:42:07.333568Z",
     "shell.execute_reply": "2021-03-09T05:42:07.334006Z"
    }
   },
   "outputs": [],
   "source": [
    "df.columns = ['location','doses']"
   ]
  },
  {
   "cell_type": "markdown",
   "metadata": {},
   "source": [
    "Grab the overall California total"
   ]
  },
  {
   "cell_type": "code",
   "execution_count": 11,
   "metadata": {
    "execution": {
     "iopub.execute_input": "2021-03-09T05:42:07.338317Z",
     "iopub.status.busy": "2021-03-09T05:42:07.337269Z",
     "iopub.status.idle": "2021-03-09T05:42:07.339129Z",
     "shell.execute_reply": "2021-03-09T05:42:07.339644Z"
    }
   },
   "outputs": [],
   "source": [
    "add = {'location':'California','doses':dataJson[0]['dataValues'][2]}"
   ]
  },
  {
   "cell_type": "code",
   "execution_count": 12,
   "metadata": {
    "execution": {
     "iopub.execute_input": "2021-03-09T05:42:07.347079Z",
     "iopub.status.busy": "2021-03-09T05:42:07.345729Z",
     "iopub.status.idle": "2021-03-09T05:42:07.347650Z",
     "shell.execute_reply": "2021-03-09T05:42:07.348085Z"
    }
   },
   "outputs": [],
   "source": [
    "df = df.append(add, ignore_index=True)"
   ]
  },
  {
   "cell_type": "code",
   "execution_count": 13,
   "metadata": {
    "execution": {
     "iopub.execute_input": "2021-03-09T05:42:07.353456Z",
     "iopub.status.busy": "2021-03-09T05:42:07.352160Z",
     "iopub.status.idle": "2021-03-09T05:42:07.354025Z",
     "shell.execute_reply": "2021-03-09T05:42:07.354480Z"
    }
   },
   "outputs": [],
   "source": [
    "df = df.sort_values(by='location')"
   ]
  },
  {
   "cell_type": "code",
   "execution_count": 14,
   "metadata": {
    "execution": {
     "iopub.execute_input": "2021-03-09T05:42:07.360629Z",
     "iopub.status.busy": "2021-03-09T05:42:07.359706Z",
     "iopub.status.idle": "2021-03-09T05:42:07.361443Z",
     "shell.execute_reply": "2021-03-09T05:42:07.361988Z"
    }
   },
   "outputs": [],
   "source": [
    "df = df[df.location == 'California'].append(df[df.location != 'California']).reset_index(drop=True)"
   ]
  },
  {
   "cell_type": "code",
   "execution_count": null,
   "metadata": {},
   "outputs": [],
   "source": []
  },
  {
   "cell_type": "code",
   "execution_count": 15,
   "metadata": {
    "execution": {
     "iopub.execute_input": "2021-03-09T05:42:07.365285Z",
     "iopub.status.busy": "2021-03-09T05:42:07.364768Z",
     "iopub.status.idle": "2021-03-09T05:42:07.384546Z",
     "shell.execute_reply": "2021-03-09T05:42:07.384014Z"
    }
   },
   "outputs": [],
   "source": [
    "tz = pytz.timezone(\"America/New_York\")"
   ]
  },
  {
   "cell_type": "code",
   "execution_count": 16,
   "metadata": {
    "execution": {
     "iopub.execute_input": "2021-03-09T05:42:07.389036Z",
     "iopub.status.busy": "2021-03-09T05:42:07.387845Z",
     "iopub.status.idle": "2021-03-09T05:42:07.389817Z",
     "shell.execute_reply": "2021-03-09T05:42:07.390323Z"
    }
   },
   "outputs": [],
   "source": [
    "today = datetime.now(tz).date()"
   ]
  },
  {
   "cell_type": "code",
   "execution_count": 17,
   "metadata": {
    "execution": {
     "iopub.execute_input": "2021-03-09T05:42:07.394817Z",
     "iopub.status.busy": "2021-03-09T05:42:07.393502Z",
     "iopub.status.idle": "2021-03-09T05:42:07.395403Z",
     "shell.execute_reply": "2021-03-09T05:42:07.395882Z"
    }
   },
   "outputs": [],
   "source": [
    "data_dir = os.path.join(os.path.abspath(\"\"), \"data\")"
   ]
  },
  {
   "cell_type": "code",
   "execution_count": 18,
   "metadata": {
    "execution": {
     "iopub.execute_input": "2021-03-09T05:42:07.400345Z",
     "iopub.status.busy": "2021-03-09T05:42:07.399069Z",
     "iopub.status.idle": "2021-03-09T05:42:07.404107Z",
     "shell.execute_reply": "2021-03-09T05:42:07.403587Z"
    }
   },
   "outputs": [],
   "source": [
    "df.to_csv(os.path.join(data_dir, f\"{today}.csv\"), index=False)"
   ]
  },
  {
   "cell_type": "code",
   "execution_count": null,
   "metadata": {},
   "outputs": [],
   "source": []
  }
 ],
 "metadata": {
  "kernelspec": {
   "display_name": "Python 3",
   "language": "python",
   "name": "python3"
  },
  "language_info": {
   "codemirror_mode": {
    "name": "ipython",
    "version": 3
   },
   "file_extension": ".py",
   "mimetype": "text/x-python",
   "name": "python",
   "nbconvert_exporter": "python",
   "pygments_lexer": "ipython3",
   "version": "3.8.8"
  }
 },
 "nbformat": 4,
 "nbformat_minor": 4
}
