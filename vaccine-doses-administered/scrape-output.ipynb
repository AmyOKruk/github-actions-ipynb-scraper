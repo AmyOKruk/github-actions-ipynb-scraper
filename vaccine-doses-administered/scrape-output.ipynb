{
 "cells": [
  {
   "cell_type": "markdown",
   "metadata": {},
   "source": [
    "# California COVID vaccinations scrape"
   ]
  },
  {
   "cell_type": "markdown",
   "metadata": {},
   "source": [
    "By [Amy O'Kruk](https://twitter.com/amyokruk)"
   ]
  },
  {
   "cell_type": "markdown",
   "metadata": {},
   "source": [
    "Downloads data on vaccine doses administered by county and statewide from a Tableau-powered dashboard from the California Department of Public Health."
   ]
  },
  {
   "cell_type": "code",
   "execution_count": 1,
   "metadata": {
    "execution": {
     "iopub.execute_input": "2021-03-22T10:45:21.535979Z",
     "iopub.status.busy": "2021-03-22T10:45:21.535371Z",
     "iopub.status.idle": "2021-03-22T10:45:21.927682Z",
     "shell.execute_reply": "2021-03-22T10:45:21.927087Z"
    }
   },
   "outputs": [],
   "source": [
    "import pandas as pd\n",
    "import requests\n",
    "from bs4 import BeautifulSoup\n",
    "import json\n",
    "import re\n",
    "import time\n",
    "from time import gmtime, strftime \n",
    "import os\n",
    "import pytz\n",
    "from datetime import datetime"
   ]
  },
  {
   "cell_type": "markdown",
   "metadata": {},
   "source": [
    "Scrape the dashboard page"
   ]
  },
  {
   "cell_type": "code",
   "execution_count": 2,
   "metadata": {
    "execution": {
     "iopub.execute_input": "2021-03-22T10:45:21.934825Z",
     "iopub.status.busy": "2021-03-22T10:45:21.934215Z",
     "iopub.status.idle": "2021-03-22T10:45:22.321681Z",
     "shell.execute_reply": "2021-03-22T10:45:22.321161Z"
    }
   },
   "outputs": [],
   "source": [
    "url = \"https://public.tableau.com/interactive/views/COVID-19VaccineDashboardPublic/Vaccine?:embed=y&:showVizHome=n&:apiID=host0\"\n",
    "\n",
    "r = requests.get(url)\n",
    "soup = BeautifulSoup(r.text, \"html.parser\")"
   ]
  },
  {
   "cell_type": "code",
   "execution_count": 3,
   "metadata": {
    "execution": {
     "iopub.execute_input": "2021-03-22T10:45:22.327002Z",
     "iopub.status.busy": "2021-03-22T10:45:22.326400Z",
     "iopub.status.idle": "2021-03-22T10:45:22.330082Z",
     "shell.execute_reply": "2021-03-22T10:45:22.329645Z"
    }
   },
   "outputs": [],
   "source": [
    "tableauData = json.loads(soup.find(\"textarea\",{\"id\": \"tsConfigContainer\"}).text)"
   ]
  },
  {
   "cell_type": "markdown",
   "metadata": {},
   "source": [
    "Get the link to the Tableau data"
   ]
  },
  {
   "cell_type": "code",
   "execution_count": 4,
   "metadata": {
    "execution": {
     "iopub.execute_input": "2021-03-22T10:45:22.333707Z",
     "iopub.status.busy": "2021-03-22T10:45:22.333204Z",
     "iopub.status.idle": "2021-03-22T10:45:22.336565Z",
     "shell.execute_reply": "2021-03-22T10:45:22.337008Z"
    }
   },
   "outputs": [],
   "source": [
    "dataUrl = f'https://public.tableau.com{tableauData[\"vizql_root\"]}/bootstrapSession/sessions/{tableauData[\"sessionid\"]}'"
   ]
  },
  {
   "cell_type": "code",
   "execution_count": 5,
   "metadata": {
    "execution": {
     "iopub.execute_input": "2021-03-22T10:45:22.343965Z",
     "iopub.status.busy": "2021-03-22T10:45:22.343382Z",
     "iopub.status.idle": "2021-03-22T10:45:22.590498Z",
     "shell.execute_reply": "2021-03-22T10:45:22.589909Z"
    }
   },
   "outputs": [],
   "source": [
    "r = requests.post(dataUrl, data= {\n",
    "    \"sheet_id\": tableauData[\"sheetId\"],\n",
    "})\n",
    "\n",
    "dataReg = re.search('\\d+;({.*})\\d+;({.*})', r.text, re.MULTILINE)\n",
    "data1 = json.loads(dataReg.group(2))\n",
    "\n",
    "dataJson = data1[\"secondaryInfo\"][\"presModelMap\"][\"dataDictionary\"][\"presModelHolder\"][\"genDataDictionaryPresModel\"][\"dataSegments\"][\"0\"][\"dataColumns\"]"
   ]
  },
  {
   "cell_type": "markdown",
   "metadata": {},
   "source": [
    "Isolate what you want"
   ]
  },
  {
   "cell_type": "code",
   "execution_count": 6,
   "metadata": {
    "execution": {
     "iopub.execute_input": "2021-03-22T10:45:22.595180Z",
     "iopub.status.busy": "2021-03-22T10:45:22.593937Z",
     "iopub.status.idle": "2021-03-22T10:45:22.595849Z",
     "shell.execute_reply": "2021-03-22T10:45:22.596532Z"
    }
   },
   "outputs": [],
   "source": [
    "counties = dataJson[2]['dataValues'][:58]"
   ]
  },
  {
   "cell_type": "code",
   "execution_count": 7,
   "metadata": {
    "execution": {
     "iopub.execute_input": "2021-03-22T10:45:22.601431Z",
     "iopub.status.busy": "2021-03-22T10:45:22.599972Z",
     "iopub.status.idle": "2021-03-22T10:45:22.602257Z",
     "shell.execute_reply": "2021-03-22T10:45:22.602949Z"
    }
   },
   "outputs": [],
   "source": [
    "doses = dataJson[0]['dataValues'][3:61]"
   ]
  },
  {
   "cell_type": "markdown",
   "metadata": {},
   "source": [
    "Data formatting"
   ]
  },
  {
   "cell_type": "code",
   "execution_count": 8,
   "metadata": {
    "execution": {
     "iopub.execute_input": "2021-03-22T10:45:22.607380Z",
     "iopub.status.busy": "2021-03-22T10:45:22.606057Z",
     "iopub.status.idle": "2021-03-22T10:45:22.608010Z",
     "shell.execute_reply": "2021-03-22T10:45:22.608466Z"
    }
   },
   "outputs": [],
   "source": [
    "zipped = dict(zip(counties, doses))"
   ]
  },
  {
   "cell_type": "code",
   "execution_count": 9,
   "metadata": {
    "execution": {
     "iopub.execute_input": "2021-03-22T10:45:22.617130Z",
     "iopub.status.busy": "2021-03-22T10:45:22.616474Z",
     "iopub.status.idle": "2021-03-22T10:45:22.618072Z",
     "shell.execute_reply": "2021-03-22T10:45:22.617618Z"
    }
   },
   "outputs": [],
   "source": [
    "df = pd.Series(zipped).reset_index()"
   ]
  },
  {
   "cell_type": "code",
   "execution_count": 10,
   "metadata": {
    "execution": {
     "iopub.execute_input": "2021-03-22T10:45:22.622675Z",
     "iopub.status.busy": "2021-03-22T10:45:22.621378Z",
     "iopub.status.idle": "2021-03-22T10:45:22.623267Z",
     "shell.execute_reply": "2021-03-22T10:45:22.623692Z"
    }
   },
   "outputs": [],
   "source": [
    "df.columns = ['location','doses']"
   ]
  },
  {
   "cell_type": "markdown",
   "metadata": {},
   "source": [
    "Grab the overall California total"
   ]
  },
  {
   "cell_type": "code",
   "execution_count": 11,
   "metadata": {
    "execution": {
     "iopub.execute_input": "2021-03-22T10:45:22.628278Z",
     "iopub.status.busy": "2021-03-22T10:45:22.626841Z",
     "iopub.status.idle": "2021-03-22T10:45:22.628888Z",
     "shell.execute_reply": "2021-03-22T10:45:22.629310Z"
    }
   },
   "outputs": [],
   "source": [
    "add = {'location':'California','doses':dataJson[0]['dataValues'][2]}"
   ]
  },
  {
   "cell_type": "code",
   "execution_count": 12,
   "metadata": {
    "execution": {
     "iopub.execute_input": "2021-03-22T10:45:22.636342Z",
     "iopub.status.busy": "2021-03-22T10:45:22.635162Z",
     "iopub.status.idle": "2021-03-22T10:45:22.636951Z",
     "shell.execute_reply": "2021-03-22T10:45:22.637451Z"
    }
   },
   "outputs": [],
   "source": [
    "df = df.append(add, ignore_index=True)"
   ]
  },
  {
   "cell_type": "code",
   "execution_count": 13,
   "metadata": {
    "execution": {
     "iopub.execute_input": "2021-03-22T10:45:22.642210Z",
     "iopub.status.busy": "2021-03-22T10:45:22.641251Z",
     "iopub.status.idle": "2021-03-22T10:45:22.643330Z",
     "shell.execute_reply": "2021-03-22T10:45:22.643775Z"
    }
   },
   "outputs": [],
   "source": [
    "df = df.sort_values(by='location')"
   ]
  },
  {
   "cell_type": "code",
   "execution_count": 14,
   "metadata": {
    "execution": {
     "iopub.execute_input": "2021-03-22T10:45:22.650121Z",
     "iopub.status.busy": "2021-03-22T10:45:22.648985Z",
     "iopub.status.idle": "2021-03-22T10:45:22.650861Z",
     "shell.execute_reply": "2021-03-22T10:45:22.651356Z"
    }
   },
   "outputs": [],
   "source": [
    "df = df[df.location == 'California'].append(df[df.location != 'California']).reset_index(drop=True)"
   ]
  },
  {
   "cell_type": "code",
   "execution_count": null,
   "metadata": {},
   "outputs": [],
   "source": []
  },
  {
   "cell_type": "code",
   "execution_count": 15,
   "metadata": {
    "execution": {
     "iopub.execute_input": "2021-03-22T10:45:22.654891Z",
     "iopub.status.busy": "2021-03-22T10:45:22.654348Z",
     "iopub.status.idle": "2021-03-22T10:45:22.673004Z",
     "shell.execute_reply": "2021-03-22T10:45:22.672477Z"
    }
   },
   "outputs": [],
   "source": [
    "tz = pytz.timezone(\"America/New_York\")"
   ]
  },
  {
   "cell_type": "code",
   "execution_count": 16,
   "metadata": {
    "execution": {
     "iopub.execute_input": "2021-03-22T10:45:22.677358Z",
     "iopub.status.busy": "2021-03-22T10:45:22.676177Z",
     "iopub.status.idle": "2021-03-22T10:45:22.677917Z",
     "shell.execute_reply": "2021-03-22T10:45:22.678362Z"
    }
   },
   "outputs": [],
   "source": [
    "today = datetime.now(tz).date()"
   ]
  },
  {
   "cell_type": "code",
   "execution_count": 17,
   "metadata": {
    "execution": {
     "iopub.execute_input": "2021-03-22T10:45:22.682907Z",
     "iopub.status.busy": "2021-03-22T10:45:22.681563Z",
     "iopub.status.idle": "2021-03-22T10:45:22.683541Z",
     "shell.execute_reply": "2021-03-22T10:45:22.684040Z"
    }
   },
   "outputs": [],
   "source": [
    "data_dir = os.path.join(os.path.abspath(\"\"), \"data\")"
   ]
  },
  {
   "cell_type": "code",
   "execution_count": 18,
   "metadata": {
    "execution": {
     "iopub.execute_input": "2021-03-22T10:45:22.688407Z",
     "iopub.status.busy": "2021-03-22T10:45:22.687259Z",
     "iopub.status.idle": "2021-03-22T10:45:22.692086Z",
     "shell.execute_reply": "2021-03-22T10:45:22.691657Z"
    }
   },
   "outputs": [],
   "source": [
    "df.to_csv(os.path.join(data_dir, f\"{today}.csv\"), index=False)"
   ]
  },
  {
   "cell_type": "code",
   "execution_count": null,
   "metadata": {},
   "outputs": [],
   "source": []
  }
 ],
 "metadata": {
  "kernelspec": {
   "display_name": "Python 3",
   "language": "python",
   "name": "python3"
  },
  "language_info": {
   "codemirror_mode": {
    "name": "ipython",
    "version": 3
   },
   "file_extension": ".py",
   "mimetype": "text/x-python",
   "name": "python",
   "nbconvert_exporter": "python",
   "pygments_lexer": "ipython3",
   "version": "3.8.8"
  }
 },
 "nbformat": 4,
 "nbformat_minor": 4
}
