{
 "cells": [
  {
   "cell_type": "markdown",
   "metadata": {},
   "source": [
    "# California COVID vaccinations scrape"
   ]
  },
  {
   "cell_type": "markdown",
   "metadata": {},
   "source": [
    "By [Amy O'Kruk](https://twitter.com/amyokruk)"
   ]
  },
  {
   "cell_type": "markdown",
   "metadata": {},
   "source": [
    "Downloads data on vaccine doses administered by county and statewide from a Tableau-powered dashboard from the California Department of Public Health."
   ]
  },
  {
   "cell_type": "code",
   "execution_count": 1,
   "metadata": {
    "execution": {
     "iopub.execute_input": "2021-03-19T14:13:13.178332Z",
     "iopub.status.busy": "2021-03-19T14:13:13.177667Z",
     "iopub.status.idle": "2021-03-19T14:13:13.674021Z",
     "shell.execute_reply": "2021-03-19T14:13:13.673331Z"
    }
   },
   "outputs": [],
   "source": [
    "import pandas as pd\n",
    "import requests\n",
    "from bs4 import BeautifulSoup\n",
    "import json\n",
    "import re\n",
    "import time\n",
    "from time import gmtime, strftime \n",
    "import os\n",
    "import pytz\n",
    "from datetime import datetime"
   ]
  },
  {
   "cell_type": "markdown",
   "metadata": {},
   "source": [
    "Scrape the dashboard page"
   ]
  },
  {
   "cell_type": "code",
   "execution_count": 2,
   "metadata": {
    "execution": {
     "iopub.execute_input": "2021-03-19T14:13:13.679349Z",
     "iopub.status.busy": "2021-03-19T14:13:13.678742Z",
     "iopub.status.idle": "2021-03-19T14:13:14.085943Z",
     "shell.execute_reply": "2021-03-19T14:13:14.086969Z"
    }
   },
   "outputs": [],
   "source": [
    "url = \"https://public.tableau.com/interactive/views/COVID-19VaccineDashboardPublic/Vaccine?:embed=y&:showVizHome=n&:apiID=host0\"\n",
    "\n",
    "r = requests.get(url)\n",
    "soup = BeautifulSoup(r.text, \"html.parser\")"
   ]
  },
  {
   "cell_type": "code",
   "execution_count": 3,
   "metadata": {
    "execution": {
     "iopub.execute_input": "2021-03-19T14:13:14.093182Z",
     "iopub.status.busy": "2021-03-19T14:13:14.092358Z",
     "iopub.status.idle": "2021-03-19T14:13:14.096668Z",
     "shell.execute_reply": "2021-03-19T14:13:14.096114Z"
    }
   },
   "outputs": [],
   "source": [
    "tableauData = json.loads(soup.find(\"textarea\",{\"id\": \"tsConfigContainer\"}).text)"
   ]
  },
  {
   "cell_type": "markdown",
   "metadata": {},
   "source": [
    "Get the link to the Tableau data"
   ]
  },
  {
   "cell_type": "code",
   "execution_count": 4,
   "metadata": {
    "execution": {
     "iopub.execute_input": "2021-03-19T14:13:14.103993Z",
     "iopub.status.busy": "2021-03-19T14:13:14.102529Z",
     "iopub.status.idle": "2021-03-19T14:13:14.105663Z",
     "shell.execute_reply": "2021-03-19T14:13:14.106472Z"
    }
   },
   "outputs": [],
   "source": [
    "dataUrl = f'https://public.tableau.com{tableauData[\"vizql_root\"]}/bootstrapSession/sessions/{tableauData[\"sessionid\"]}'"
   ]
  },
  {
   "cell_type": "code",
   "execution_count": 5,
   "metadata": {
    "execution": {
     "iopub.execute_input": "2021-03-19T14:13:14.118073Z",
     "iopub.status.busy": "2021-03-19T14:13:14.117397Z",
     "iopub.status.idle": "2021-03-19T14:13:14.354161Z",
     "shell.execute_reply": "2021-03-19T14:13:14.353194Z"
    }
   },
   "outputs": [],
   "source": [
    "r = requests.post(dataUrl, data= {\n",
    "    \"sheet_id\": tableauData[\"sheetId\"],\n",
    "})\n",
    "\n",
    "dataReg = re.search('\\d+;({.*})\\d+;({.*})', r.text, re.MULTILINE)\n",
    "data1 = json.loads(dataReg.group(2))\n",
    "\n",
    "dataJson = data1[\"secondaryInfo\"][\"presModelMap\"][\"dataDictionary\"][\"presModelHolder\"][\"genDataDictionaryPresModel\"][\"dataSegments\"][\"0\"][\"dataColumns\"]"
   ]
  },
  {
   "cell_type": "markdown",
   "metadata": {},
   "source": [
    "Isolate what you want"
   ]
  },
  {
   "cell_type": "code",
   "execution_count": 6,
   "metadata": {
    "execution": {
     "iopub.execute_input": "2021-03-19T14:13:14.359044Z",
     "iopub.status.busy": "2021-03-19T14:13:14.358242Z",
     "iopub.status.idle": "2021-03-19T14:13:14.362461Z",
     "shell.execute_reply": "2021-03-19T14:13:14.361872Z"
    }
   },
   "outputs": [],
   "source": [
    "counties = dataJson[2]['dataValues'][:58]"
   ]
  },
  {
   "cell_type": "code",
   "execution_count": 7,
   "metadata": {
    "execution": {
     "iopub.execute_input": "2021-03-19T14:13:14.367123Z",
     "iopub.status.busy": "2021-03-19T14:13:14.366423Z",
     "iopub.status.idle": "2021-03-19T14:13:14.370793Z",
     "shell.execute_reply": "2021-03-19T14:13:14.370055Z"
    }
   },
   "outputs": [],
   "source": [
    "doses = dataJson[0]['dataValues'][3:61]"
   ]
  },
  {
   "cell_type": "markdown",
   "metadata": {},
   "source": [
    "Data formatting"
   ]
  },
  {
   "cell_type": "code",
   "execution_count": 8,
   "metadata": {
    "execution": {
     "iopub.execute_input": "2021-03-19T14:13:14.380311Z",
     "iopub.status.busy": "2021-03-19T14:13:14.379535Z",
     "iopub.status.idle": "2021-03-19T14:13:14.384074Z",
     "shell.execute_reply": "2021-03-19T14:13:14.383524Z"
    }
   },
   "outputs": [],
   "source": [
    "zipped = dict(zip(counties, doses))"
   ]
  },
  {
   "cell_type": "code",
   "execution_count": 9,
   "metadata": {
    "execution": {
     "iopub.execute_input": "2021-03-19T14:13:14.391932Z",
     "iopub.status.busy": "2021-03-19T14:13:14.391357Z",
     "iopub.status.idle": "2021-03-19T14:13:14.395761Z",
     "shell.execute_reply": "2021-03-19T14:13:14.395157Z"
    }
   },
   "outputs": [],
   "source": [
    "df = pd.Series(zipped).reset_index()"
   ]
  },
  {
   "cell_type": "code",
   "execution_count": 10,
   "metadata": {
    "execution": {
     "iopub.execute_input": "2021-03-19T14:13:14.400253Z",
     "iopub.status.busy": "2021-03-19T14:13:14.399626Z",
     "iopub.status.idle": "2021-03-19T14:13:14.403318Z",
     "shell.execute_reply": "2021-03-19T14:13:14.403921Z"
    }
   },
   "outputs": [],
   "source": [
    "df.columns = ['location','doses']"
   ]
  },
  {
   "cell_type": "markdown",
   "metadata": {},
   "source": [
    "Grab the overall California total"
   ]
  },
  {
   "cell_type": "code",
   "execution_count": 11,
   "metadata": {
    "execution": {
     "iopub.execute_input": "2021-03-19T14:13:14.409323Z",
     "iopub.status.busy": "2021-03-19T14:13:14.408295Z",
     "iopub.status.idle": "2021-03-19T14:13:14.410637Z",
     "shell.execute_reply": "2021-03-19T14:13:14.411143Z"
    }
   },
   "outputs": [],
   "source": [
    "add = {'location':'California','doses':dataJson[0]['dataValues'][2]}"
   ]
  },
  {
   "cell_type": "code",
   "execution_count": 12,
   "metadata": {
    "execution": {
     "iopub.execute_input": "2021-03-19T14:13:14.420739Z",
     "iopub.status.busy": "2021-03-19T14:13:14.419386Z",
     "iopub.status.idle": "2021-03-19T14:13:14.423115Z",
     "shell.execute_reply": "2021-03-19T14:13:14.423678Z"
    }
   },
   "outputs": [],
   "source": [
    "df = df.append(add, ignore_index=True)"
   ]
  },
  {
   "cell_type": "code",
   "execution_count": 13,
   "metadata": {
    "execution": {
     "iopub.execute_input": "2021-03-19T14:13:14.431257Z",
     "iopub.status.busy": "2021-03-19T14:13:14.429485Z",
     "iopub.status.idle": "2021-03-19T14:13:14.432026Z",
     "shell.execute_reply": "2021-03-19T14:13:14.432591Z"
    }
   },
   "outputs": [],
   "source": [
    "df = df.sort_values(by='location')"
   ]
  },
  {
   "cell_type": "code",
   "execution_count": 14,
   "metadata": {
    "execution": {
     "iopub.execute_input": "2021-03-19T14:13:14.441173Z",
     "iopub.status.busy": "2021-03-19T14:13:14.439529Z",
     "iopub.status.idle": "2021-03-19T14:13:14.441903Z",
     "shell.execute_reply": "2021-03-19T14:13:14.442463Z"
    }
   },
   "outputs": [],
   "source": [
    "df = df[df.location == 'California'].append(df[df.location != 'California']).reset_index(drop=True)"
   ]
  },
  {
   "cell_type": "code",
   "execution_count": null,
   "metadata": {},
   "outputs": [],
   "source": []
  },
  {
   "cell_type": "code",
   "execution_count": 15,
   "metadata": {
    "execution": {
     "iopub.execute_input": "2021-03-19T14:13:14.446402Z",
     "iopub.status.busy": "2021-03-19T14:13:14.445814Z",
     "iopub.status.idle": "2021-03-19T14:13:14.467025Z",
     "shell.execute_reply": "2021-03-19T14:13:14.468178Z"
    }
   },
   "outputs": [],
   "source": [
    "tz = pytz.timezone(\"America/New_York\")"
   ]
  },
  {
   "cell_type": "code",
   "execution_count": 16,
   "metadata": {
    "execution": {
     "iopub.execute_input": "2021-03-19T14:13:14.474749Z",
     "iopub.status.busy": "2021-03-19T14:13:14.472877Z",
     "iopub.status.idle": "2021-03-19T14:13:14.475523Z",
     "shell.execute_reply": "2021-03-19T14:13:14.476055Z"
    }
   },
   "outputs": [],
   "source": [
    "today = datetime.now(tz).date()"
   ]
  },
  {
   "cell_type": "code",
   "execution_count": 17,
   "metadata": {
    "execution": {
     "iopub.execute_input": "2021-03-19T14:13:14.481965Z",
     "iopub.status.busy": "2021-03-19T14:13:14.480456Z",
     "iopub.status.idle": "2021-03-19T14:13:14.482700Z",
     "shell.execute_reply": "2021-03-19T14:13:14.483303Z"
    }
   },
   "outputs": [],
   "source": [
    "data_dir = os.path.join(os.path.abspath(\"\"), \"data\")"
   ]
  },
  {
   "cell_type": "code",
   "execution_count": 18,
   "metadata": {
    "execution": {
     "iopub.execute_input": "2021-03-19T14:13:14.489291Z",
     "iopub.status.busy": "2021-03-19T14:13:14.488034Z",
     "iopub.status.idle": "2021-03-19T14:13:14.493521Z",
     "shell.execute_reply": "2021-03-19T14:13:14.492919Z"
    }
   },
   "outputs": [],
   "source": [
    "df.to_csv(os.path.join(data_dir, f\"{today}.csv\"), index=False)"
   ]
  },
  {
   "cell_type": "code",
   "execution_count": null,
   "metadata": {},
   "outputs": [],
   "source": []
  }
 ],
 "metadata": {
  "kernelspec": {
   "display_name": "Python 3",
   "language": "python",
   "name": "python3"
  },
  "language_info": {
   "codemirror_mode": {
    "name": "ipython",
    "version": 3
   },
   "file_extension": ".py",
   "mimetype": "text/x-python",
   "name": "python",
   "nbconvert_exporter": "python",
   "pygments_lexer": "ipython3",
   "version": "3.8.8"
  }
 },
 "nbformat": 4,
 "nbformat_minor": 4
}
