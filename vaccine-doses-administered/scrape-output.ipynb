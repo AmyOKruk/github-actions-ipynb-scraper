{
 "cells": [
  {
   "cell_type": "markdown",
   "metadata": {},
   "source": [
    "# California COVID vaccinations scrape"
   ]
  },
  {
   "cell_type": "markdown",
   "metadata": {},
   "source": [
    "By [Amy O'Kruk](https://twitter.com/amyokruk)"
   ]
  },
  {
   "cell_type": "markdown",
   "metadata": {},
   "source": [
    "Downloads data on vaccine doses administered by county and statewide from a Tableau-powered dashboard from the California Department of Public Health."
   ]
  },
  {
   "cell_type": "code",
   "execution_count": 1,
   "metadata": {
    "execution": {
     "iopub.execute_input": "2021-03-19T09:13:30.099831Z",
     "iopub.status.busy": "2021-03-19T09:13:30.099229Z",
     "iopub.status.idle": "2021-03-19T09:13:30.505123Z",
     "shell.execute_reply": "2021-03-19T09:13:30.504602Z"
    }
   },
   "outputs": [],
   "source": [
    "import pandas as pd\n",
    "import requests\n",
    "from bs4 import BeautifulSoup\n",
    "import json\n",
    "import re\n",
    "import time\n",
    "from time import gmtime, strftime \n",
    "import os\n",
    "import pytz\n",
    "from datetime import datetime"
   ]
  },
  {
   "cell_type": "markdown",
   "metadata": {},
   "source": [
    "Scrape the dashboard page"
   ]
  },
  {
   "cell_type": "code",
   "execution_count": 2,
   "metadata": {
    "execution": {
     "iopub.execute_input": "2021-03-19T09:13:30.511643Z",
     "iopub.status.busy": "2021-03-19T09:13:30.510838Z",
     "iopub.status.idle": "2021-03-19T09:13:30.774659Z",
     "shell.execute_reply": "2021-03-19T09:13:30.774186Z"
    }
   },
   "outputs": [],
   "source": [
    "url = \"https://public.tableau.com/interactive/views/COVID-19VaccineDashboardPublic/Vaccine?:embed=y&:showVizHome=n&:apiID=host0\"\n",
    "\n",
    "r = requests.get(url)\n",
    "soup = BeautifulSoup(r.text, \"html.parser\")"
   ]
  },
  {
   "cell_type": "code",
   "execution_count": 3,
   "metadata": {
    "execution": {
     "iopub.execute_input": "2021-03-19T09:13:30.780027Z",
     "iopub.status.busy": "2021-03-19T09:13:30.779519Z",
     "iopub.status.idle": "2021-03-19T09:13:30.783319Z",
     "shell.execute_reply": "2021-03-19T09:13:30.782751Z"
    }
   },
   "outputs": [],
   "source": [
    "tableauData = json.loads(soup.find(\"textarea\",{\"id\": \"tsConfigContainer\"}).text)"
   ]
  },
  {
   "cell_type": "markdown",
   "metadata": {},
   "source": [
    "Get the link to the Tableau data"
   ]
  },
  {
   "cell_type": "code",
   "execution_count": 4,
   "metadata": {
    "execution": {
     "iopub.execute_input": "2021-03-19T09:13:30.788182Z",
     "iopub.status.busy": "2021-03-19T09:13:30.786484Z",
     "iopub.status.idle": "2021-03-19T09:13:30.788939Z",
     "shell.execute_reply": "2021-03-19T09:13:30.789393Z"
    }
   },
   "outputs": [],
   "source": [
    "dataUrl = f'https://public.tableau.com{tableauData[\"vizql_root\"]}/bootstrapSession/sessions/{tableauData[\"sessionid\"]}'"
   ]
  },
  {
   "cell_type": "code",
   "execution_count": 5,
   "metadata": {
    "execution": {
     "iopub.execute_input": "2021-03-19T09:13:30.796583Z",
     "iopub.status.busy": "2021-03-19T09:13:30.795972Z",
     "iopub.status.idle": "2021-03-19T09:13:30.897539Z",
     "shell.execute_reply": "2021-03-19T09:13:30.896967Z"
    }
   },
   "outputs": [],
   "source": [
    "r = requests.post(dataUrl, data= {\n",
    "    \"sheet_id\": tableauData[\"sheetId\"],\n",
    "})\n",
    "\n",
    "dataReg = re.search('\\d+;({.*})\\d+;({.*})', r.text, re.MULTILINE)\n",
    "data1 = json.loads(dataReg.group(2))\n",
    "\n",
    "dataJson = data1[\"secondaryInfo\"][\"presModelMap\"][\"dataDictionary\"][\"presModelHolder\"][\"genDataDictionaryPresModel\"][\"dataSegments\"][\"0\"][\"dataColumns\"]"
   ]
  },
  {
   "cell_type": "markdown",
   "metadata": {},
   "source": [
    "Isolate what you want"
   ]
  },
  {
   "cell_type": "code",
   "execution_count": 6,
   "metadata": {
    "execution": {
     "iopub.execute_input": "2021-03-19T09:13:30.901283Z",
     "iopub.status.busy": "2021-03-19T09:13:30.900806Z",
     "iopub.status.idle": "2021-03-19T09:13:30.905213Z",
     "shell.execute_reply": "2021-03-19T09:13:30.904430Z"
    }
   },
   "outputs": [],
   "source": [
    "counties = dataJson[2]['dataValues'][:58]"
   ]
  },
  {
   "cell_type": "code",
   "execution_count": 7,
   "metadata": {
    "execution": {
     "iopub.execute_input": "2021-03-19T09:13:30.909663Z",
     "iopub.status.busy": "2021-03-19T09:13:30.909107Z",
     "iopub.status.idle": "2021-03-19T09:13:30.913063Z",
     "shell.execute_reply": "2021-03-19T09:13:30.912573Z"
    }
   },
   "outputs": [],
   "source": [
    "doses = dataJson[0]['dataValues'][3:61]"
   ]
  },
  {
   "cell_type": "markdown",
   "metadata": {},
   "source": [
    "Data formatting"
   ]
  },
  {
   "cell_type": "code",
   "execution_count": 8,
   "metadata": {
    "execution": {
     "iopub.execute_input": "2021-03-19T09:13:30.916508Z",
     "iopub.status.busy": "2021-03-19T09:13:30.915997Z",
     "iopub.status.idle": "2021-03-19T09:13:30.919684Z",
     "shell.execute_reply": "2021-03-19T09:13:30.920275Z"
    }
   },
   "outputs": [],
   "source": [
    "zipped = dict(zip(counties, doses))"
   ]
  },
  {
   "cell_type": "code",
   "execution_count": 9,
   "metadata": {
    "execution": {
     "iopub.execute_input": "2021-03-19T09:13:30.926029Z",
     "iopub.status.busy": "2021-03-19T09:13:30.925521Z",
     "iopub.status.idle": "2021-03-19T09:13:30.928091Z",
     "shell.execute_reply": "2021-03-19T09:13:30.927658Z"
    }
   },
   "outputs": [],
   "source": [
    "df = pd.Series(zipped).reset_index()"
   ]
  },
  {
   "cell_type": "code",
   "execution_count": 10,
   "metadata": {
    "execution": {
     "iopub.execute_input": "2021-03-19T09:13:30.932143Z",
     "iopub.status.busy": "2021-03-19T09:13:30.931220Z",
     "iopub.status.idle": "2021-03-19T09:13:30.933468Z",
     "shell.execute_reply": "2021-03-19T09:13:30.933856Z"
    }
   },
   "outputs": [],
   "source": [
    "df.columns = ['location','doses']"
   ]
  },
  {
   "cell_type": "markdown",
   "metadata": {},
   "source": [
    "Grab the overall California total"
   ]
  },
  {
   "cell_type": "code",
   "execution_count": 11,
   "metadata": {
    "execution": {
     "iopub.execute_input": "2021-03-19T09:13:30.938346Z",
     "iopub.status.busy": "2021-03-19T09:13:30.937149Z",
     "iopub.status.idle": "2021-03-19T09:13:30.938906Z",
     "shell.execute_reply": "2021-03-19T09:13:30.939322Z"
    }
   },
   "outputs": [],
   "source": [
    "add = {'location':'California','doses':dataJson[0]['dataValues'][2]}"
   ]
  },
  {
   "cell_type": "code",
   "execution_count": 12,
   "metadata": {
    "execution": {
     "iopub.execute_input": "2021-03-19T09:13:30.946708Z",
     "iopub.status.busy": "2021-03-19T09:13:30.945307Z",
     "iopub.status.idle": "2021-03-19T09:13:30.947437Z",
     "shell.execute_reply": "2021-03-19T09:13:30.947986Z"
    }
   },
   "outputs": [],
   "source": [
    "df = df.append(add, ignore_index=True)"
   ]
  },
  {
   "cell_type": "code",
   "execution_count": 13,
   "metadata": {
    "execution": {
     "iopub.execute_input": "2021-03-19T09:13:30.953234Z",
     "iopub.status.busy": "2021-03-19T09:13:30.951903Z",
     "iopub.status.idle": "2021-03-19T09:13:30.953888Z",
     "shell.execute_reply": "2021-03-19T09:13:30.954326Z"
    }
   },
   "outputs": [],
   "source": [
    "df = df.sort_values(by='location')"
   ]
  },
  {
   "cell_type": "code",
   "execution_count": 14,
   "metadata": {
    "execution": {
     "iopub.execute_input": "2021-03-19T09:13:30.961900Z",
     "iopub.status.busy": "2021-03-19T09:13:30.960248Z",
     "iopub.status.idle": "2021-03-19T09:13:30.962768Z",
     "shell.execute_reply": "2021-03-19T09:13:30.963292Z"
    }
   },
   "outputs": [],
   "source": [
    "df = df[df.location == 'California'].append(df[df.location != 'California']).reset_index(drop=True)"
   ]
  },
  {
   "cell_type": "code",
   "execution_count": null,
   "metadata": {},
   "outputs": [],
   "source": []
  },
  {
   "cell_type": "code",
   "execution_count": 15,
   "metadata": {
    "execution": {
     "iopub.execute_input": "2021-03-19T09:13:30.967067Z",
     "iopub.status.busy": "2021-03-19T09:13:30.966563Z",
     "iopub.status.idle": "2021-03-19T09:13:30.987503Z",
     "shell.execute_reply": "2021-03-19T09:13:30.986972Z"
    }
   },
   "outputs": [],
   "source": [
    "tz = pytz.timezone(\"America/New_York\")"
   ]
  },
  {
   "cell_type": "code",
   "execution_count": 16,
   "metadata": {
    "execution": {
     "iopub.execute_input": "2021-03-19T09:13:30.991990Z",
     "iopub.status.busy": "2021-03-19T09:13:30.990636Z",
     "iopub.status.idle": "2021-03-19T09:13:30.992615Z",
     "shell.execute_reply": "2021-03-19T09:13:30.993169Z"
    }
   },
   "outputs": [],
   "source": [
    "today = datetime.now(tz).date()"
   ]
  },
  {
   "cell_type": "code",
   "execution_count": 17,
   "metadata": {
    "execution": {
     "iopub.execute_input": "2021-03-19T09:13:30.998118Z",
     "iopub.status.busy": "2021-03-19T09:13:30.996850Z",
     "iopub.status.idle": "2021-03-19T09:13:30.998681Z",
     "shell.execute_reply": "2021-03-19T09:13:30.999174Z"
    }
   },
   "outputs": [],
   "source": [
    "data_dir = os.path.join(os.path.abspath(\"\"), \"data\")"
   ]
  },
  {
   "cell_type": "code",
   "execution_count": 18,
   "metadata": {
    "execution": {
     "iopub.execute_input": "2021-03-19T09:13:31.003278Z",
     "iopub.status.busy": "2021-03-19T09:13:31.002777Z",
     "iopub.status.idle": "2021-03-19T09:13:31.006667Z",
     "shell.execute_reply": "2021-03-19T09:13:31.007076Z"
    }
   },
   "outputs": [],
   "source": [
    "df.to_csv(os.path.join(data_dir, f\"{today}.csv\"), index=False)"
   ]
  },
  {
   "cell_type": "code",
   "execution_count": null,
   "metadata": {},
   "outputs": [],
   "source": []
  }
 ],
 "metadata": {
  "kernelspec": {
   "display_name": "Python 3",
   "language": "python",
   "name": "python3"
  },
  "language_info": {
   "codemirror_mode": {
    "name": "ipython",
    "version": 3
   },
   "file_extension": ".py",
   "mimetype": "text/x-python",
   "name": "python",
   "nbconvert_exporter": "python",
   "pygments_lexer": "ipython3",
   "version": "3.8.8"
  }
 },
 "nbformat": 4,
 "nbformat_minor": 4
}
