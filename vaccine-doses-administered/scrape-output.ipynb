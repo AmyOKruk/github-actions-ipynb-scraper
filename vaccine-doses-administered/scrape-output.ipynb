{
 "cells": [
  {
   "cell_type": "markdown",
   "metadata": {},
   "source": [
    "# California COVID vaccinations scrape"
   ]
  },
  {
   "cell_type": "markdown",
   "metadata": {},
   "source": [
    "By [Amy O'Kruk](https://twitter.com/amyokruk)"
   ]
  },
  {
   "cell_type": "markdown",
   "metadata": {},
   "source": [
    "Downloads data on vaccine doses administered by county and statewide from a Tableau-powered dashboard from the California Department of Public Health."
   ]
  },
  {
   "cell_type": "code",
   "execution_count": 1,
   "metadata": {
    "execution": {
     "iopub.execute_input": "2021-03-15T02:16:26.854933Z",
     "iopub.status.busy": "2021-03-15T02:16:26.854273Z",
     "iopub.status.idle": "2021-03-15T02:16:27.158807Z",
     "shell.execute_reply": "2021-03-15T02:16:27.157965Z"
    }
   },
   "outputs": [],
   "source": [
    "import pandas as pd\n",
    "import requests\n",
    "from bs4 import BeautifulSoup\n",
    "import json\n",
    "import re\n",
    "import time\n",
    "from time import gmtime, strftime \n",
    "import os\n",
    "import pytz\n",
    "from datetime import datetime"
   ]
  },
  {
   "cell_type": "markdown",
   "metadata": {},
   "source": [
    "Scrape the dashboard page"
   ]
  },
  {
   "cell_type": "code",
   "execution_count": 2,
   "metadata": {
    "execution": {
     "iopub.execute_input": "2021-03-15T02:16:27.163995Z",
     "iopub.status.busy": "2021-03-15T02:16:27.161468Z",
     "iopub.status.idle": "2021-03-15T02:16:27.771926Z",
     "shell.execute_reply": "2021-03-15T02:16:27.770905Z"
    }
   },
   "outputs": [],
   "source": [
    "url = \"https://public.tableau.com/interactive/views/COVID-19VaccineDashboardPublic/Vaccine?:embed=y&:showVizHome=n&:apiID=host0\"\n",
    "\n",
    "r = requests.get(url)\n",
    "soup = BeautifulSoup(r.text, \"html.parser\")"
   ]
  },
  {
   "cell_type": "code",
   "execution_count": 3,
   "metadata": {
    "execution": {
     "iopub.execute_input": "2021-03-15T02:16:27.775985Z",
     "iopub.status.busy": "2021-03-15T02:16:27.775610Z",
     "iopub.status.idle": "2021-03-15T02:16:27.779029Z",
     "shell.execute_reply": "2021-03-15T02:16:27.778692Z"
    }
   },
   "outputs": [],
   "source": [
    "tableauData = json.loads(soup.find(\"textarea\",{\"id\": \"tsConfigContainer\"}).text)"
   ]
  },
  {
   "cell_type": "markdown",
   "metadata": {},
   "source": [
    "Get the link to the Tableau data"
   ]
  },
  {
   "cell_type": "code",
   "execution_count": 4,
   "metadata": {
    "execution": {
     "iopub.execute_input": "2021-03-15T02:16:27.781682Z",
     "iopub.status.busy": "2021-03-15T02:16:27.781305Z",
     "iopub.status.idle": "2021-03-15T02:16:27.784176Z",
     "shell.execute_reply": "2021-03-15T02:16:27.783848Z"
    }
   },
   "outputs": [],
   "source": [
    "dataUrl = f'https://public.tableau.com{tableauData[\"vizql_root\"]}/bootstrapSession/sessions/{tableauData[\"sessionid\"]}'"
   ]
  },
  {
   "cell_type": "code",
   "execution_count": 5,
   "metadata": {
    "execution": {
     "iopub.execute_input": "2021-03-15T02:16:27.789558Z",
     "iopub.status.busy": "2021-03-15T02:16:27.788885Z",
     "iopub.status.idle": "2021-03-15T02:16:28.028971Z",
     "shell.execute_reply": "2021-03-15T02:16:28.028511Z"
    }
   },
   "outputs": [],
   "source": [
    "r = requests.post(dataUrl, data= {\n",
    "    \"sheet_id\": tableauData[\"sheetId\"],\n",
    "})\n",
    "\n",
    "dataReg = re.search('\\d+;({.*})\\d+;({.*})', r.text, re.MULTILINE)\n",
    "data1 = json.loads(dataReg.group(2))\n",
    "\n",
    "dataJson = data1[\"secondaryInfo\"][\"presModelMap\"][\"dataDictionary\"][\"presModelHolder\"][\"genDataDictionaryPresModel\"][\"dataSegments\"][\"0\"][\"dataColumns\"]"
   ]
  },
  {
   "cell_type": "markdown",
   "metadata": {},
   "source": [
    "Isolate what you want"
   ]
  },
  {
   "cell_type": "code",
   "execution_count": 6,
   "metadata": {
    "execution": {
     "iopub.execute_input": "2021-03-15T02:16:28.032174Z",
     "iopub.status.busy": "2021-03-15T02:16:28.031751Z",
     "iopub.status.idle": "2021-03-15T02:16:28.035036Z",
     "shell.execute_reply": "2021-03-15T02:16:28.034537Z"
    }
   },
   "outputs": [],
   "source": [
    "counties = dataJson[2]['dataValues'][:58]"
   ]
  },
  {
   "cell_type": "code",
   "execution_count": 7,
   "metadata": {
    "execution": {
     "iopub.execute_input": "2021-03-15T02:16:28.038771Z",
     "iopub.status.busy": "2021-03-15T02:16:28.038254Z",
     "iopub.status.idle": "2021-03-15T02:16:28.041831Z",
     "shell.execute_reply": "2021-03-15T02:16:28.041333Z"
    }
   },
   "outputs": [],
   "source": [
    "doses = dataJson[0]['dataValues'][3:61]"
   ]
  },
  {
   "cell_type": "markdown",
   "metadata": {},
   "source": [
    "Data formatting"
   ]
  },
  {
   "cell_type": "code",
   "execution_count": 8,
   "metadata": {
    "execution": {
     "iopub.execute_input": "2021-03-15T02:16:28.045327Z",
     "iopub.status.busy": "2021-03-15T02:16:28.044772Z",
     "iopub.status.idle": "2021-03-15T02:16:28.047673Z",
     "shell.execute_reply": "2021-03-15T02:16:28.048111Z"
    }
   },
   "outputs": [],
   "source": [
    "zipped = dict(zip(counties, doses))"
   ]
  },
  {
   "cell_type": "code",
   "execution_count": 9,
   "metadata": {
    "execution": {
     "iopub.execute_input": "2021-03-15T02:16:28.054073Z",
     "iopub.status.busy": "2021-03-15T02:16:28.053549Z",
     "iopub.status.idle": "2021-03-15T02:16:28.057009Z",
     "shell.execute_reply": "2021-03-15T02:16:28.056578Z"
    }
   },
   "outputs": [],
   "source": [
    "df = pd.Series(zipped).reset_index()"
   ]
  },
  {
   "cell_type": "code",
   "execution_count": 10,
   "metadata": {
    "execution": {
     "iopub.execute_input": "2021-03-15T02:16:28.060358Z",
     "iopub.status.busy": "2021-03-15T02:16:28.059939Z",
     "iopub.status.idle": "2021-03-15T02:16:28.062827Z",
     "shell.execute_reply": "2021-03-15T02:16:28.062456Z"
    }
   },
   "outputs": [],
   "source": [
    "df.columns = ['location','doses']"
   ]
  },
  {
   "cell_type": "markdown",
   "metadata": {},
   "source": [
    "Grab the overall California total"
   ]
  },
  {
   "cell_type": "code",
   "execution_count": 11,
   "metadata": {
    "execution": {
     "iopub.execute_input": "2021-03-15T02:16:28.065605Z",
     "iopub.status.busy": "2021-03-15T02:16:28.065235Z",
     "iopub.status.idle": "2021-03-15T02:16:28.067968Z",
     "shell.execute_reply": "2021-03-15T02:16:28.067639Z"
    }
   },
   "outputs": [],
   "source": [
    "add = {'location':'California','doses':dataJson[0]['dataValues'][2]}"
   ]
  },
  {
   "cell_type": "code",
   "execution_count": 12,
   "metadata": {
    "execution": {
     "iopub.execute_input": "2021-03-15T02:16:28.072954Z",
     "iopub.status.busy": "2021-03-15T02:16:28.072589Z",
     "iopub.status.idle": "2021-03-15T02:16:28.075708Z",
     "shell.execute_reply": "2021-03-15T02:16:28.075223Z"
    }
   },
   "outputs": [],
   "source": [
    "df = df.append(add, ignore_index=True)"
   ]
  },
  {
   "cell_type": "code",
   "execution_count": 13,
   "metadata": {
    "execution": {
     "iopub.execute_input": "2021-03-15T02:16:28.078795Z",
     "iopub.status.busy": "2021-03-15T02:16:28.078430Z",
     "iopub.status.idle": "2021-03-15T02:16:28.081539Z",
     "shell.execute_reply": "2021-03-15T02:16:28.081847Z"
    }
   },
   "outputs": [],
   "source": [
    "df = df.sort_values(by='location')"
   ]
  },
  {
   "cell_type": "code",
   "execution_count": 14,
   "metadata": {
    "execution": {
     "iopub.execute_input": "2021-03-15T02:16:28.086640Z",
     "iopub.status.busy": "2021-03-15T02:16:28.086205Z",
     "iopub.status.idle": "2021-03-15T02:16:28.089738Z",
     "shell.execute_reply": "2021-03-15T02:16:28.089430Z"
    }
   },
   "outputs": [],
   "source": [
    "df = df[df.location == 'California'].append(df[df.location != 'California']).reset_index(drop=True)"
   ]
  },
  {
   "cell_type": "code",
   "execution_count": null,
   "metadata": {},
   "outputs": [],
   "source": []
  },
  {
   "cell_type": "code",
   "execution_count": 15,
   "metadata": {
    "execution": {
     "iopub.execute_input": "2021-03-15T02:16:28.092182Z",
     "iopub.status.busy": "2021-03-15T02:16:28.091821Z",
     "iopub.status.idle": "2021-03-15T02:16:28.106142Z",
     "shell.execute_reply": "2021-03-15T02:16:28.105817Z"
    }
   },
   "outputs": [],
   "source": [
    "tz = pytz.timezone(\"America/New_York\")"
   ]
  },
  {
   "cell_type": "code",
   "execution_count": 16,
   "metadata": {
    "execution": {
     "iopub.execute_input": "2021-03-15T02:16:28.108379Z",
     "iopub.status.busy": "2021-03-15T02:16:28.108019Z",
     "iopub.status.idle": "2021-03-15T02:16:28.111765Z",
     "shell.execute_reply": "2021-03-15T02:16:28.111242Z"
    }
   },
   "outputs": [],
   "source": [
    "today = datetime.now(tz).date()"
   ]
  },
  {
   "cell_type": "code",
   "execution_count": 17,
   "metadata": {
    "execution": {
     "iopub.execute_input": "2021-03-15T02:16:28.114276Z",
     "iopub.status.busy": "2021-03-15T02:16:28.113854Z",
     "iopub.status.idle": "2021-03-15T02:16:28.117209Z",
     "shell.execute_reply": "2021-03-15T02:16:28.116867Z"
    }
   },
   "outputs": [],
   "source": [
    "data_dir = os.path.join(os.path.abspath(\"\"), \"data\")"
   ]
  },
  {
   "cell_type": "code",
   "execution_count": 18,
   "metadata": {
    "execution": {
     "iopub.execute_input": "2021-03-15T02:16:28.119806Z",
     "iopub.status.busy": "2021-03-15T02:16:28.119441Z",
     "iopub.status.idle": "2021-03-15T02:16:28.123766Z",
     "shell.execute_reply": "2021-03-15T02:16:28.123444Z"
    }
   },
   "outputs": [],
   "source": [
    "df.to_csv(os.path.join(data_dir, f\"{today}.csv\"), index=False)"
   ]
  },
  {
   "cell_type": "code",
   "execution_count": null,
   "metadata": {},
   "outputs": [],
   "source": []
  }
 ],
 "metadata": {
  "kernelspec": {
   "display_name": "Python 3",
   "language": "python",
   "name": "python3"
  },
  "language_info": {
   "codemirror_mode": {
    "name": "ipython",
    "version": 3
   },
   "file_extension": ".py",
   "mimetype": "text/x-python",
   "name": "python",
   "nbconvert_exporter": "python",
   "pygments_lexer": "ipython3",
   "version": "3.8.8"
  }
 },
 "nbformat": 4,
 "nbformat_minor": 4
}
