{
 "cells": [
  {
   "cell_type": "markdown",
   "metadata": {},
   "source": [
    "# California COVID vaccinations scrape"
   ]
  },
  {
   "cell_type": "markdown",
   "metadata": {},
   "source": [
    "By [Amy O'Kruk](https://twitter.com/amyokruk)"
   ]
  },
  {
   "cell_type": "markdown",
   "metadata": {},
   "source": [
    "Downloads data on vaccine doses administered by county and statewide from a Tableau-powered dashboard from the California Department of Public Health."
   ]
  },
  {
   "cell_type": "code",
   "execution_count": 1,
   "metadata": {
    "execution": {
     "iopub.execute_input": "2021-03-16T08:45:43.782208Z",
     "iopub.status.busy": "2021-03-16T08:45:43.781455Z",
     "iopub.status.idle": "2021-03-16T08:45:44.187612Z",
     "shell.execute_reply": "2021-03-16T08:45:44.186496Z"
    }
   },
   "outputs": [],
   "source": [
    "import pandas as pd\n",
    "import requests\n",
    "from bs4 import BeautifulSoup\n",
    "import json\n",
    "import re\n",
    "import time\n",
    "from time import gmtime, strftime \n",
    "import os\n",
    "import pytz\n",
    "from datetime import datetime"
   ]
  },
  {
   "cell_type": "markdown",
   "metadata": {},
   "source": [
    "Scrape the dashboard page"
   ]
  },
  {
   "cell_type": "code",
   "execution_count": 2,
   "metadata": {
    "execution": {
     "iopub.execute_input": "2021-03-16T08:45:44.193592Z",
     "iopub.status.busy": "2021-03-16T08:45:44.190949Z",
     "iopub.status.idle": "2021-03-16T08:45:44.714653Z",
     "shell.execute_reply": "2021-03-16T08:45:44.714135Z"
    }
   },
   "outputs": [],
   "source": [
    "url = \"https://public.tableau.com/interactive/views/COVID-19VaccineDashboardPublic/Vaccine?:embed=y&:showVizHome=n&:apiID=host0\"\n",
    "\n",
    "r = requests.get(url)\n",
    "soup = BeautifulSoup(r.text, \"html.parser\")"
   ]
  },
  {
   "cell_type": "code",
   "execution_count": 3,
   "metadata": {
    "execution": {
     "iopub.execute_input": "2021-03-16T08:45:44.720859Z",
     "iopub.status.busy": "2021-03-16T08:45:44.719502Z",
     "iopub.status.idle": "2021-03-16T08:45:44.721640Z",
     "shell.execute_reply": "2021-03-16T08:45:44.722288Z"
    }
   },
   "outputs": [],
   "source": [
    "tableauData = json.loads(soup.find(\"textarea\",{\"id\": \"tsConfigContainer\"}).text)"
   ]
  },
  {
   "cell_type": "markdown",
   "metadata": {},
   "source": [
    "Get the link to the Tableau data"
   ]
  },
  {
   "cell_type": "code",
   "execution_count": 4,
   "metadata": {
    "execution": {
     "iopub.execute_input": "2021-03-16T08:45:44.727010Z",
     "iopub.status.busy": "2021-03-16T08:45:44.725588Z",
     "iopub.status.idle": "2021-03-16T08:45:44.727636Z",
     "shell.execute_reply": "2021-03-16T08:45:44.728090Z"
    }
   },
   "outputs": [],
   "source": [
    "dataUrl = f'https://public.tableau.com{tableauData[\"vizql_root\"]}/bootstrapSession/sessions/{tableauData[\"sessionid\"]}'"
   ]
  },
  {
   "cell_type": "code",
   "execution_count": 5,
   "metadata": {
    "execution": {
     "iopub.execute_input": "2021-03-16T08:45:44.734958Z",
     "iopub.status.busy": "2021-03-16T08:45:44.734347Z",
     "iopub.status.idle": "2021-03-16T08:45:45.196947Z",
     "shell.execute_reply": "2021-03-16T08:45:45.196510Z"
    }
   },
   "outputs": [],
   "source": [
    "r = requests.post(dataUrl, data= {\n",
    "    \"sheet_id\": tableauData[\"sheetId\"],\n",
    "})\n",
    "\n",
    "dataReg = re.search('\\d+;({.*})\\d+;({.*})', r.text, re.MULTILINE)\n",
    "data1 = json.loads(dataReg.group(2))\n",
    "\n",
    "dataJson = data1[\"secondaryInfo\"][\"presModelMap\"][\"dataDictionary\"][\"presModelHolder\"][\"genDataDictionaryPresModel\"][\"dataSegments\"][\"0\"][\"dataColumns\"]"
   ]
  },
  {
   "cell_type": "markdown",
   "metadata": {},
   "source": [
    "Isolate what you want"
   ]
  },
  {
   "cell_type": "code",
   "execution_count": 6,
   "metadata": {
    "execution": {
     "iopub.execute_input": "2021-03-16T08:45:45.201657Z",
     "iopub.status.busy": "2021-03-16T08:45:45.200457Z",
     "iopub.status.idle": "2021-03-16T08:45:45.202386Z",
     "shell.execute_reply": "2021-03-16T08:45:45.202973Z"
    }
   },
   "outputs": [],
   "source": [
    "counties = dataJson[2]['dataValues'][:58]"
   ]
  },
  {
   "cell_type": "code",
   "execution_count": 7,
   "metadata": {
    "execution": {
     "iopub.execute_input": "2021-03-16T08:45:45.207886Z",
     "iopub.status.busy": "2021-03-16T08:45:45.206583Z",
     "iopub.status.idle": "2021-03-16T08:45:45.208564Z",
     "shell.execute_reply": "2021-03-16T08:45:45.208968Z"
    }
   },
   "outputs": [],
   "source": [
    "doses = dataJson[0]['dataValues'][3:61]"
   ]
  },
  {
   "cell_type": "markdown",
   "metadata": {},
   "source": [
    "Data formatting"
   ]
  },
  {
   "cell_type": "code",
   "execution_count": 8,
   "metadata": {
    "execution": {
     "iopub.execute_input": "2021-03-16T08:45:45.213129Z",
     "iopub.status.busy": "2021-03-16T08:45:45.212183Z",
     "iopub.status.idle": "2021-03-16T08:45:45.214153Z",
     "shell.execute_reply": "2021-03-16T08:45:45.214721Z"
    }
   },
   "outputs": [],
   "source": [
    "zipped = dict(zip(counties, doses))"
   ]
  },
  {
   "cell_type": "code",
   "execution_count": 9,
   "metadata": {
    "execution": {
     "iopub.execute_input": "2021-03-16T08:45:45.221005Z",
     "iopub.status.busy": "2021-03-16T08:45:45.220446Z",
     "iopub.status.idle": "2021-03-16T08:45:45.222676Z",
     "shell.execute_reply": "2021-03-16T08:45:45.223133Z"
    }
   },
   "outputs": [],
   "source": [
    "df = pd.Series(zipped).reset_index()"
   ]
  },
  {
   "cell_type": "code",
   "execution_count": 10,
   "metadata": {
    "execution": {
     "iopub.execute_input": "2021-03-16T08:45:45.228311Z",
     "iopub.status.busy": "2021-03-16T08:45:45.226952Z",
     "iopub.status.idle": "2021-03-16T08:45:45.228910Z",
     "shell.execute_reply": "2021-03-16T08:45:45.229345Z"
    }
   },
   "outputs": [],
   "source": [
    "df.columns = ['location','doses']"
   ]
  },
  {
   "cell_type": "markdown",
   "metadata": {},
   "source": [
    "Grab the overall California total"
   ]
  },
  {
   "cell_type": "code",
   "execution_count": 11,
   "metadata": {
    "execution": {
     "iopub.execute_input": "2021-03-16T08:45:45.234089Z",
     "iopub.status.busy": "2021-03-16T08:45:45.232648Z",
     "iopub.status.idle": "2021-03-16T08:45:45.234905Z",
     "shell.execute_reply": "2021-03-16T08:45:45.235485Z"
    }
   },
   "outputs": [],
   "source": [
    "add = {'location':'California','doses':dataJson[0]['dataValues'][2]}"
   ]
  },
  {
   "cell_type": "code",
   "execution_count": 12,
   "metadata": {
    "execution": {
     "iopub.execute_input": "2021-03-16T08:45:45.242645Z",
     "iopub.status.busy": "2021-03-16T08:45:45.241597Z",
     "iopub.status.idle": "2021-03-16T08:45:45.243540Z",
     "shell.execute_reply": "2021-03-16T08:45:45.243933Z"
    }
   },
   "outputs": [],
   "source": [
    "df = df.append(add, ignore_index=True)"
   ]
  },
  {
   "cell_type": "code",
   "execution_count": 13,
   "metadata": {
    "execution": {
     "iopub.execute_input": "2021-03-16T08:45:45.249252Z",
     "iopub.status.busy": "2021-03-16T08:45:45.247885Z",
     "iopub.status.idle": "2021-03-16T08:45:45.252323Z",
     "shell.execute_reply": "2021-03-16T08:45:45.252851Z"
    }
   },
   "outputs": [],
   "source": [
    "df = df.sort_values(by='location')"
   ]
  },
  {
   "cell_type": "code",
   "execution_count": 14,
   "metadata": {
    "execution": {
     "iopub.execute_input": "2021-03-16T08:45:45.260442Z",
     "iopub.status.busy": "2021-03-16T08:45:45.259021Z",
     "iopub.status.idle": "2021-03-16T08:45:45.261261Z",
     "shell.execute_reply": "2021-03-16T08:45:45.261873Z"
    }
   },
   "outputs": [],
   "source": [
    "df = df[df.location == 'California'].append(df[df.location != 'California']).reset_index(drop=True)"
   ]
  },
  {
   "cell_type": "code",
   "execution_count": null,
   "metadata": {},
   "outputs": [],
   "source": []
  },
  {
   "cell_type": "code",
   "execution_count": 15,
   "metadata": {
    "execution": {
     "iopub.execute_input": "2021-03-16T08:45:45.266301Z",
     "iopub.status.busy": "2021-03-16T08:45:45.265671Z",
     "iopub.status.idle": "2021-03-16T08:45:45.285537Z",
     "shell.execute_reply": "2021-03-16T08:45:45.285983Z"
    }
   },
   "outputs": [],
   "source": [
    "tz = pytz.timezone(\"America/New_York\")"
   ]
  },
  {
   "cell_type": "code",
   "execution_count": 16,
   "metadata": {
    "execution": {
     "iopub.execute_input": "2021-03-16T08:45:45.290696Z",
     "iopub.status.busy": "2021-03-16T08:45:45.289283Z",
     "iopub.status.idle": "2021-03-16T08:45:45.291358Z",
     "shell.execute_reply": "2021-03-16T08:45:45.291807Z"
    }
   },
   "outputs": [],
   "source": [
    "today = datetime.now(tz).date()"
   ]
  },
  {
   "cell_type": "code",
   "execution_count": 17,
   "metadata": {
    "execution": {
     "iopub.execute_input": "2021-03-16T08:45:45.296886Z",
     "iopub.status.busy": "2021-03-16T08:45:45.295099Z",
     "iopub.status.idle": "2021-03-16T08:45:45.297498Z",
     "shell.execute_reply": "2021-03-16T08:45:45.297966Z"
    }
   },
   "outputs": [],
   "source": [
    "data_dir = os.path.join(os.path.abspath(\"\"), \"data\")"
   ]
  },
  {
   "cell_type": "code",
   "execution_count": 18,
   "metadata": {
    "execution": {
     "iopub.execute_input": "2021-03-16T08:45:45.302020Z",
     "iopub.status.busy": "2021-03-16T08:45:45.301464Z",
     "iopub.status.idle": "2021-03-16T08:45:45.306020Z",
     "shell.execute_reply": "2021-03-16T08:45:45.306440Z"
    }
   },
   "outputs": [],
   "source": [
    "df.to_csv(os.path.join(data_dir, f\"{today}.csv\"), index=False)"
   ]
  },
  {
   "cell_type": "code",
   "execution_count": null,
   "metadata": {},
   "outputs": [],
   "source": []
  }
 ],
 "metadata": {
  "kernelspec": {
   "display_name": "Python 3",
   "language": "python",
   "name": "python3"
  },
  "language_info": {
   "codemirror_mode": {
    "name": "ipython",
    "version": 3
   },
   "file_extension": ".py",
   "mimetype": "text/x-python",
   "name": "python",
   "nbconvert_exporter": "python",
   "pygments_lexer": "ipython3",
   "version": "3.8.8"
  }
 },
 "nbformat": 4,
 "nbformat_minor": 4
}
