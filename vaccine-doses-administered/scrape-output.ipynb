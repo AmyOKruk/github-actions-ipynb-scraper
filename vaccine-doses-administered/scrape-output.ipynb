{
 "cells": [
  {
   "cell_type": "markdown",
   "metadata": {},
   "source": [
    "# California COVID vaccinations scrape"
   ]
  },
  {
   "cell_type": "markdown",
   "metadata": {},
   "source": [
    "By [Amy O'Kruk](https://twitter.com/amyokruk)"
   ]
  },
  {
   "cell_type": "markdown",
   "metadata": {},
   "source": [
    "Downloads data on vaccine doses administered by county and statewide from a Tableau-powered dashboard from the California Department of Public Health."
   ]
  },
  {
   "cell_type": "code",
   "execution_count": 1,
   "metadata": {
    "execution": {
     "iopub.execute_input": "2021-03-23T04:52:30.560317Z",
     "iopub.status.busy": "2021-03-23T04:52:30.559588Z",
     "iopub.status.idle": "2021-03-23T04:52:31.047876Z",
     "shell.execute_reply": "2021-03-23T04:52:31.045693Z"
    }
   },
   "outputs": [],
   "source": [
    "import pandas as pd\n",
    "import requests\n",
    "from bs4 import BeautifulSoup\n",
    "import json\n",
    "import re\n",
    "import time\n",
    "from time import gmtime, strftime \n",
    "import os\n",
    "import pytz\n",
    "from datetime import datetime"
   ]
  },
  {
   "cell_type": "markdown",
   "metadata": {},
   "source": [
    "Scrape the dashboard page"
   ]
  },
  {
   "cell_type": "code",
   "execution_count": 2,
   "metadata": {
    "execution": {
     "iopub.execute_input": "2021-03-23T04:52:31.055378Z",
     "iopub.status.busy": "2021-03-23T04:52:31.054733Z",
     "iopub.status.idle": "2021-03-23T04:52:31.421960Z",
     "shell.execute_reply": "2021-03-23T04:52:31.421462Z"
    }
   },
   "outputs": [],
   "source": [
    "url = \"https://public.tableau.com/interactive/views/COVID-19VaccineDashboardPublic/Vaccine?:embed=y&:showVizHome=n&:apiID=host0\"\n",
    "\n",
    "r = requests.get(url)\n",
    "soup = BeautifulSoup(r.text, \"html.parser\")"
   ]
  },
  {
   "cell_type": "code",
   "execution_count": 3,
   "metadata": {
    "execution": {
     "iopub.execute_input": "2021-03-23T04:52:31.426949Z",
     "iopub.status.busy": "2021-03-23T04:52:31.426410Z",
     "iopub.status.idle": "2021-03-23T04:52:31.430368Z",
     "shell.execute_reply": "2021-03-23T04:52:31.429626Z"
    }
   },
   "outputs": [],
   "source": [
    "tableauData = json.loads(soup.find(\"textarea\",{\"id\": \"tsConfigContainer\"}).text)"
   ]
  },
  {
   "cell_type": "markdown",
   "metadata": {},
   "source": [
    "Get the link to the Tableau data"
   ]
  },
  {
   "cell_type": "code",
   "execution_count": 4,
   "metadata": {
    "execution": {
     "iopub.execute_input": "2021-03-23T04:52:31.435932Z",
     "iopub.status.busy": "2021-03-23T04:52:31.434454Z",
     "iopub.status.idle": "2021-03-23T04:52:31.436731Z",
     "shell.execute_reply": "2021-03-23T04:52:31.437211Z"
    }
   },
   "outputs": [],
   "source": [
    "dataUrl = f'https://public.tableau.com{tableauData[\"vizql_root\"]}/bootstrapSession/sessions/{tableauData[\"sessionid\"]}'"
   ]
  },
  {
   "cell_type": "code",
   "execution_count": 5,
   "metadata": {
    "execution": {
     "iopub.execute_input": "2021-03-23T04:52:31.445510Z",
     "iopub.status.busy": "2021-03-23T04:52:31.444126Z",
     "iopub.status.idle": "2021-03-23T04:52:31.560823Z",
     "shell.execute_reply": "2021-03-23T04:52:31.560258Z"
    }
   },
   "outputs": [],
   "source": [
    "r = requests.post(dataUrl, data= {\n",
    "    \"sheet_id\": tableauData[\"sheetId\"],\n",
    "})\n",
    "\n",
    "dataReg = re.search('\\d+;({.*})\\d+;({.*})', r.text, re.MULTILINE)\n",
    "data1 = json.loads(dataReg.group(2))\n",
    "\n",
    "dataJson = data1[\"secondaryInfo\"][\"presModelMap\"][\"dataDictionary\"][\"presModelHolder\"][\"genDataDictionaryPresModel\"][\"dataSegments\"][\"0\"][\"dataColumns\"]"
   ]
  },
  {
   "cell_type": "markdown",
   "metadata": {},
   "source": [
    "Isolate what you want"
   ]
  },
  {
   "cell_type": "code",
   "execution_count": 6,
   "metadata": {
    "execution": {
     "iopub.execute_input": "2021-03-23T04:52:31.566469Z",
     "iopub.status.busy": "2021-03-23T04:52:31.564939Z",
     "iopub.status.idle": "2021-03-23T04:52:31.567165Z",
     "shell.execute_reply": "2021-03-23T04:52:31.568662Z"
    }
   },
   "outputs": [],
   "source": [
    "counties = dataJson[2]['dataValues'][:58]"
   ]
  },
  {
   "cell_type": "code",
   "execution_count": 7,
   "metadata": {
    "execution": {
     "iopub.execute_input": "2021-03-23T04:52:31.573183Z",
     "iopub.status.busy": "2021-03-23T04:52:31.572542Z",
     "iopub.status.idle": "2021-03-23T04:52:31.577438Z",
     "shell.execute_reply": "2021-03-23T04:52:31.577917Z"
    }
   },
   "outputs": [],
   "source": [
    "doses = dataJson[0]['dataValues'][3:61]"
   ]
  },
  {
   "cell_type": "markdown",
   "metadata": {},
   "source": [
    "Data formatting"
   ]
  },
  {
   "cell_type": "code",
   "execution_count": 8,
   "metadata": {
    "execution": {
     "iopub.execute_input": "2021-03-23T04:52:31.582854Z",
     "iopub.status.busy": "2021-03-23T04:52:31.582201Z",
     "iopub.status.idle": "2021-03-23T04:52:31.586107Z",
     "shell.execute_reply": "2021-03-23T04:52:31.586670Z"
    }
   },
   "outputs": [],
   "source": [
    "zipped = dict(zip(counties, doses))"
   ]
  },
  {
   "cell_type": "code",
   "execution_count": 9,
   "metadata": {
    "execution": {
     "iopub.execute_input": "2021-03-23T04:52:31.593423Z",
     "iopub.status.busy": "2021-03-23T04:52:31.592764Z",
     "iopub.status.idle": "2021-03-23T04:52:31.596546Z",
     "shell.execute_reply": "2021-03-23T04:52:31.596018Z"
    }
   },
   "outputs": [],
   "source": [
    "df = pd.Series(zipped).reset_index()"
   ]
  },
  {
   "cell_type": "code",
   "execution_count": 10,
   "metadata": {
    "execution": {
     "iopub.execute_input": "2021-03-23T04:52:31.602151Z",
     "iopub.status.busy": "2021-03-23T04:52:31.600435Z",
     "iopub.status.idle": "2021-03-23T04:52:31.602867Z",
     "shell.execute_reply": "2021-03-23T04:52:31.603358Z"
    }
   },
   "outputs": [],
   "source": [
    "df.columns = ['location','doses']"
   ]
  },
  {
   "cell_type": "markdown",
   "metadata": {},
   "source": [
    "Grab the overall California total"
   ]
  },
  {
   "cell_type": "code",
   "execution_count": 11,
   "metadata": {
    "execution": {
     "iopub.execute_input": "2021-03-23T04:52:31.608650Z",
     "iopub.status.busy": "2021-03-23T04:52:31.607970Z",
     "iopub.status.idle": "2021-03-23T04:52:31.611287Z",
     "shell.execute_reply": "2021-03-23T04:52:31.610778Z"
    }
   },
   "outputs": [],
   "source": [
    "add = {'location':'California','doses':dataJson[0]['dataValues'][2]}"
   ]
  },
  {
   "cell_type": "code",
   "execution_count": 12,
   "metadata": {
    "execution": {
     "iopub.execute_input": "2021-03-23T04:52:31.619692Z",
     "iopub.status.busy": "2021-03-23T04:52:31.618144Z",
     "iopub.status.idle": "2021-03-23T04:52:31.620972Z",
     "shell.execute_reply": "2021-03-23T04:52:31.621512Z"
    }
   },
   "outputs": [],
   "source": [
    "df = df.append(add, ignore_index=True)"
   ]
  },
  {
   "cell_type": "code",
   "execution_count": 13,
   "metadata": {
    "execution": {
     "iopub.execute_input": "2021-03-23T04:52:31.628572Z",
     "iopub.status.busy": "2021-03-23T04:52:31.626702Z",
     "iopub.status.idle": "2021-03-23T04:52:31.629398Z",
     "shell.execute_reply": "2021-03-23T04:52:31.629909Z"
    }
   },
   "outputs": [],
   "source": [
    "df = df.sort_values(by='location')"
   ]
  },
  {
   "cell_type": "code",
   "execution_count": 14,
   "metadata": {
    "execution": {
     "iopub.execute_input": "2021-03-23T04:52:31.637999Z",
     "iopub.status.busy": "2021-03-23T04:52:31.636306Z",
     "iopub.status.idle": "2021-03-23T04:52:31.638739Z",
     "shell.execute_reply": "2021-03-23T04:52:31.639289Z"
    }
   },
   "outputs": [],
   "source": [
    "df = df[df.location == 'California'].append(df[df.location != 'California']).reset_index(drop=True)"
   ]
  },
  {
   "cell_type": "code",
   "execution_count": null,
   "metadata": {},
   "outputs": [],
   "source": []
  },
  {
   "cell_type": "code",
   "execution_count": 15,
   "metadata": {
    "execution": {
     "iopub.execute_input": "2021-03-23T04:52:31.643523Z",
     "iopub.status.busy": "2021-03-23T04:52:31.642960Z",
     "iopub.status.idle": "2021-03-23T04:52:31.670939Z",
     "shell.execute_reply": "2021-03-23T04:52:31.670009Z"
    }
   },
   "outputs": [],
   "source": [
    "tz = pytz.timezone(\"America/New_York\")"
   ]
  },
  {
   "cell_type": "code",
   "execution_count": 16,
   "metadata": {
    "execution": {
     "iopub.execute_input": "2021-03-23T04:52:31.674753Z",
     "iopub.status.busy": "2021-03-23T04:52:31.674162Z",
     "iopub.status.idle": "2021-03-23T04:52:31.677702Z",
     "shell.execute_reply": "2021-03-23T04:52:31.678324Z"
    }
   },
   "outputs": [],
   "source": [
    "today = datetime.now(tz).date()"
   ]
  },
  {
   "cell_type": "code",
   "execution_count": 17,
   "metadata": {
    "execution": {
     "iopub.execute_input": "2021-03-23T04:52:31.683624Z",
     "iopub.status.busy": "2021-03-23T04:52:31.682029Z",
     "iopub.status.idle": "2021-03-23T04:52:31.684334Z",
     "shell.execute_reply": "2021-03-23T04:52:31.684839Z"
    }
   },
   "outputs": [],
   "source": [
    "data_dir = os.path.join(os.path.abspath(\"\"), \"data\")"
   ]
  },
  {
   "cell_type": "code",
   "execution_count": 18,
   "metadata": {
    "execution": {
     "iopub.execute_input": "2021-03-23T04:52:31.689782Z",
     "iopub.status.busy": "2021-03-23T04:52:31.688385Z",
     "iopub.status.idle": "2021-03-23T04:52:31.693836Z",
     "shell.execute_reply": "2021-03-23T04:52:31.693153Z"
    }
   },
   "outputs": [],
   "source": [
    "df.to_csv(os.path.join(data_dir, f\"{today}.csv\"), index=False)"
   ]
  },
  {
   "cell_type": "code",
   "execution_count": null,
   "metadata": {},
   "outputs": [],
   "source": []
  }
 ],
 "metadata": {
  "kernelspec": {
   "display_name": "Python 3",
   "language": "python",
   "name": "python3"
  },
  "language_info": {
   "codemirror_mode": {
    "name": "ipython",
    "version": 3
   },
   "file_extension": ".py",
   "mimetype": "text/x-python",
   "name": "python",
   "nbconvert_exporter": "python",
   "pygments_lexer": "ipython3",
   "version": "3.8.8"
  }
 },
 "nbformat": 4,
 "nbformat_minor": 4
}
