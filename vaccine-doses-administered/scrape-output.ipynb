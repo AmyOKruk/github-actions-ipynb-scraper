{
 "cells": [
  {
   "cell_type": "markdown",
   "metadata": {},
   "source": [
    "# California COVID vaccinations scrape"
   ]
  },
  {
   "cell_type": "markdown",
   "metadata": {},
   "source": [
    "By [Amy O'Kruk](https://twitter.com/amyokruk)"
   ]
  },
  {
   "cell_type": "markdown",
   "metadata": {},
   "source": [
    "Downloads data on vaccine doses administered by county and statewide from a Tableau-powered dashboard from the California Department of Public Health."
   ]
  },
  {
   "cell_type": "code",
   "execution_count": 1,
   "metadata": {
    "execution": {
     "iopub.execute_input": "2021-03-18T04:15:43.666033Z",
     "iopub.status.busy": "2021-03-18T04:15:43.663448Z",
     "iopub.status.idle": "2021-03-18T04:15:44.156771Z",
     "shell.execute_reply": "2021-03-18T04:15:44.155830Z"
    }
   },
   "outputs": [],
   "source": [
    "import pandas as pd\n",
    "import requests\n",
    "from bs4 import BeautifulSoup\n",
    "import json\n",
    "import re\n",
    "import time\n",
    "from time import gmtime, strftime \n",
    "import os\n",
    "import pytz\n",
    "from datetime import datetime"
   ]
  },
  {
   "cell_type": "markdown",
   "metadata": {},
   "source": [
    "Scrape the dashboard page"
   ]
  },
  {
   "cell_type": "code",
   "execution_count": 2,
   "metadata": {
    "execution": {
     "iopub.execute_input": "2021-03-18T04:15:44.162477Z",
     "iopub.status.busy": "2021-03-18T04:15:44.160225Z",
     "iopub.status.idle": "2021-03-18T04:15:44.760750Z",
     "shell.execute_reply": "2021-03-18T04:15:44.761491Z"
    }
   },
   "outputs": [],
   "source": [
    "url = \"https://public.tableau.com/interactive/views/COVID-19VaccineDashboardPublic/Vaccine?:embed=y&:showVizHome=n&:apiID=host0\"\n",
    "\n",
    "r = requests.get(url)\n",
    "soup = BeautifulSoup(r.text, \"html.parser\")"
   ]
  },
  {
   "cell_type": "code",
   "execution_count": 3,
   "metadata": {
    "execution": {
     "iopub.execute_input": "2021-03-18T04:15:44.766847Z",
     "iopub.status.busy": "2021-03-18T04:15:44.766313Z",
     "iopub.status.idle": "2021-03-18T04:15:44.769874Z",
     "shell.execute_reply": "2021-03-18T04:15:44.769381Z"
    }
   },
   "outputs": [],
   "source": [
    "tableauData = json.loads(soup.find(\"textarea\",{\"id\": \"tsConfigContainer\"}).text)"
   ]
  },
  {
   "cell_type": "markdown",
   "metadata": {},
   "source": [
    "Get the link to the Tableau data"
   ]
  },
  {
   "cell_type": "code",
   "execution_count": 4,
   "metadata": {
    "execution": {
     "iopub.execute_input": "2021-03-18T04:15:44.774309Z",
     "iopub.status.busy": "2021-03-18T04:15:44.773182Z",
     "iopub.status.idle": "2021-03-18T04:15:44.774905Z",
     "shell.execute_reply": "2021-03-18T04:15:44.775327Z"
    }
   },
   "outputs": [],
   "source": [
    "dataUrl = f'https://public.tableau.com{tableauData[\"vizql_root\"]}/bootstrapSession/sessions/{tableauData[\"sessionid\"]}'"
   ]
  },
  {
   "cell_type": "code",
   "execution_count": 5,
   "metadata": {
    "execution": {
     "iopub.execute_input": "2021-03-18T04:15:44.782134Z",
     "iopub.status.busy": "2021-03-18T04:15:44.781564Z",
     "iopub.status.idle": "2021-03-18T04:15:45.091511Z",
     "shell.execute_reply": "2021-03-18T04:15:45.090948Z"
    }
   },
   "outputs": [],
   "source": [
    "r = requests.post(dataUrl, data= {\n",
    "    \"sheet_id\": tableauData[\"sheetId\"],\n",
    "})\n",
    "\n",
    "dataReg = re.search('\\d+;({.*})\\d+;({.*})', r.text, re.MULTILINE)\n",
    "data1 = json.loads(dataReg.group(2))\n",
    "\n",
    "dataJson = data1[\"secondaryInfo\"][\"presModelMap\"][\"dataDictionary\"][\"presModelHolder\"][\"genDataDictionaryPresModel\"][\"dataSegments\"][\"0\"][\"dataColumns\"]"
   ]
  },
  {
   "cell_type": "markdown",
   "metadata": {},
   "source": [
    "Isolate what you want"
   ]
  },
  {
   "cell_type": "code",
   "execution_count": 6,
   "metadata": {
    "execution": {
     "iopub.execute_input": "2021-03-18T04:15:45.096040Z",
     "iopub.status.busy": "2021-03-18T04:15:45.094824Z",
     "iopub.status.idle": "2021-03-18T04:15:45.096654Z",
     "shell.execute_reply": "2021-03-18T04:15:45.097077Z"
    }
   },
   "outputs": [],
   "source": [
    "counties = dataJson[2]['dataValues'][:58]"
   ]
  },
  {
   "cell_type": "code",
   "execution_count": 7,
   "metadata": {
    "execution": {
     "iopub.execute_input": "2021-03-18T04:15:45.101402Z",
     "iopub.status.busy": "2021-03-18T04:15:45.100171Z",
     "iopub.status.idle": "2021-03-18T04:15:45.102028Z",
     "shell.execute_reply": "2021-03-18T04:15:45.102459Z"
    }
   },
   "outputs": [],
   "source": [
    "doses = dataJson[0]['dataValues'][3:61]"
   ]
  },
  {
   "cell_type": "markdown",
   "metadata": {},
   "source": [
    "Data formatting"
   ]
  },
  {
   "cell_type": "code",
   "execution_count": 8,
   "metadata": {
    "execution": {
     "iopub.execute_input": "2021-03-18T04:15:45.106387Z",
     "iopub.status.busy": "2021-03-18T04:15:45.105291Z",
     "iopub.status.idle": "2021-03-18T04:15:45.106962Z",
     "shell.execute_reply": "2021-03-18T04:15:45.107359Z"
    }
   },
   "outputs": [],
   "source": [
    "zipped = dict(zip(counties, doses))"
   ]
  },
  {
   "cell_type": "code",
   "execution_count": 9,
   "metadata": {
    "execution": {
     "iopub.execute_input": "2021-03-18T04:15:45.113671Z",
     "iopub.status.busy": "2021-03-18T04:15:45.112540Z",
     "iopub.status.idle": "2021-03-18T04:15:45.114281Z",
     "shell.execute_reply": "2021-03-18T04:15:45.114703Z"
    }
   },
   "outputs": [],
   "source": [
    "df = pd.Series(zipped).reset_index()"
   ]
  },
  {
   "cell_type": "code",
   "execution_count": 10,
   "metadata": {
    "execution": {
     "iopub.execute_input": "2021-03-18T04:15:45.118975Z",
     "iopub.status.busy": "2021-03-18T04:15:45.117884Z",
     "iopub.status.idle": "2021-03-18T04:15:45.119571Z",
     "shell.execute_reply": "2021-03-18T04:15:45.119977Z"
    }
   },
   "outputs": [],
   "source": [
    "df.columns = ['location','doses']"
   ]
  },
  {
   "cell_type": "markdown",
   "metadata": {},
   "source": [
    "Grab the overall California total"
   ]
  },
  {
   "cell_type": "code",
   "execution_count": 11,
   "metadata": {
    "execution": {
     "iopub.execute_input": "2021-03-18T04:15:45.124150Z",
     "iopub.status.busy": "2021-03-18T04:15:45.123058Z",
     "iopub.status.idle": "2021-03-18T04:15:45.124741Z",
     "shell.execute_reply": "2021-03-18T04:15:45.125160Z"
    }
   },
   "outputs": [],
   "source": [
    "add = {'location':'California','doses':dataJson[0]['dataValues'][2]}"
   ]
  },
  {
   "cell_type": "code",
   "execution_count": 12,
   "metadata": {
    "execution": {
     "iopub.execute_input": "2021-03-18T04:15:45.132050Z",
     "iopub.status.busy": "2021-03-18T04:15:45.130866Z",
     "iopub.status.idle": "2021-03-18T04:15:45.132679Z",
     "shell.execute_reply": "2021-03-18T04:15:45.133102Z"
    }
   },
   "outputs": [],
   "source": [
    "df = df.append(add, ignore_index=True)"
   ]
  },
  {
   "cell_type": "code",
   "execution_count": 13,
   "metadata": {
    "execution": {
     "iopub.execute_input": "2021-03-18T04:15:45.137988Z",
     "iopub.status.busy": "2021-03-18T04:15:45.136833Z",
     "iopub.status.idle": "2021-03-18T04:15:45.138699Z",
     "shell.execute_reply": "2021-03-18T04:15:45.139124Z"
    }
   },
   "outputs": [],
   "source": [
    "df = df.sort_values(by='location')"
   ]
  },
  {
   "cell_type": "code",
   "execution_count": 14,
   "metadata": {
    "execution": {
     "iopub.execute_input": "2021-03-18T04:15:45.145115Z",
     "iopub.status.busy": "2021-03-18T04:15:45.143996Z",
     "iopub.status.idle": "2021-03-18T04:15:45.145793Z",
     "shell.execute_reply": "2021-03-18T04:15:45.146201Z"
    }
   },
   "outputs": [],
   "source": [
    "df = df[df.location == 'California'].append(df[df.location != 'California']).reset_index(drop=True)"
   ]
  },
  {
   "cell_type": "code",
   "execution_count": null,
   "metadata": {},
   "outputs": [],
   "source": []
  },
  {
   "cell_type": "code",
   "execution_count": 15,
   "metadata": {
    "execution": {
     "iopub.execute_input": "2021-03-18T04:15:45.149380Z",
     "iopub.status.busy": "2021-03-18T04:15:45.148853Z",
     "iopub.status.idle": "2021-03-18T04:15:45.166317Z",
     "shell.execute_reply": "2021-03-18T04:15:45.165723Z"
    }
   },
   "outputs": [],
   "source": [
    "tz = pytz.timezone(\"America/New_York\")"
   ]
  },
  {
   "cell_type": "code",
   "execution_count": 16,
   "metadata": {
    "execution": {
     "iopub.execute_input": "2021-03-18T04:15:45.170701Z",
     "iopub.status.busy": "2021-03-18T04:15:45.169352Z",
     "iopub.status.idle": "2021-03-18T04:15:45.171355Z",
     "shell.execute_reply": "2021-03-18T04:15:45.171792Z"
    }
   },
   "outputs": [],
   "source": [
    "today = datetime.now(tz).date()"
   ]
  },
  {
   "cell_type": "code",
   "execution_count": 17,
   "metadata": {
    "execution": {
     "iopub.execute_input": "2021-03-18T04:15:45.175955Z",
     "iopub.status.busy": "2021-03-18T04:15:45.174855Z",
     "iopub.status.idle": "2021-03-18T04:15:45.176543Z",
     "shell.execute_reply": "2021-03-18T04:15:45.176966Z"
    }
   },
   "outputs": [],
   "source": [
    "data_dir = os.path.join(os.path.abspath(\"\"), \"data\")"
   ]
  },
  {
   "cell_type": "code",
   "execution_count": 18,
   "metadata": {
    "execution": {
     "iopub.execute_input": "2021-03-18T04:15:45.180699Z",
     "iopub.status.busy": "2021-03-18T04:15:45.180175Z",
     "iopub.status.idle": "2021-03-18T04:15:45.184377Z",
     "shell.execute_reply": "2021-03-18T04:15:45.183862Z"
    }
   },
   "outputs": [],
   "source": [
    "df.to_csv(os.path.join(data_dir, f\"{today}.csv\"), index=False)"
   ]
  },
  {
   "cell_type": "code",
   "execution_count": null,
   "metadata": {},
   "outputs": [],
   "source": []
  }
 ],
 "metadata": {
  "kernelspec": {
   "display_name": "Python 3",
   "language": "python",
   "name": "python3"
  },
  "language_info": {
   "codemirror_mode": {
    "name": "ipython",
    "version": 3
   },
   "file_extension": ".py",
   "mimetype": "text/x-python",
   "name": "python",
   "nbconvert_exporter": "python",
   "pygments_lexer": "ipython3",
   "version": "3.8.8"
  }
 },
 "nbformat": 4,
 "nbformat_minor": 4
}
