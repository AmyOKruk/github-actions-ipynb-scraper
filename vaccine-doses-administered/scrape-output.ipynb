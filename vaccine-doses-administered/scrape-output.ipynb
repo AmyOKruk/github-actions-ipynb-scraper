{
 "cells": [
  {
   "cell_type": "markdown",
   "metadata": {},
   "source": [
    "# California COVID vaccinations scrape"
   ]
  },
  {
   "cell_type": "markdown",
   "metadata": {},
   "source": [
    "By [Amy O'Kruk](https://twitter.com/amyokruk)"
   ]
  },
  {
   "cell_type": "markdown",
   "metadata": {},
   "source": [
    "Downloads data on vaccine doses administered by county and statewide from a Tableau-powered dashboard from the California Department of Public Health."
   ]
  },
  {
   "cell_type": "code",
   "execution_count": 1,
   "metadata": {
    "execution": {
     "iopub.execute_input": "2021-03-22T15:13:25.773727Z",
     "iopub.status.busy": "2021-03-22T15:13:25.773151Z",
     "iopub.status.idle": "2021-03-22T15:13:26.151665Z",
     "shell.execute_reply": "2021-03-22T15:13:26.150690Z"
    }
   },
   "outputs": [],
   "source": [
    "import pandas as pd\n",
    "import requests\n",
    "from bs4 import BeautifulSoup\n",
    "import json\n",
    "import re\n",
    "import time\n",
    "from time import gmtime, strftime \n",
    "import os\n",
    "import pytz\n",
    "from datetime import datetime"
   ]
  },
  {
   "cell_type": "markdown",
   "metadata": {},
   "source": [
    "Scrape the dashboard page"
   ]
  },
  {
   "cell_type": "code",
   "execution_count": 2,
   "metadata": {
    "execution": {
     "iopub.execute_input": "2021-03-22T15:13:26.157688Z",
     "iopub.status.busy": "2021-03-22T15:13:26.155470Z",
     "iopub.status.idle": "2021-03-22T15:13:26.468618Z",
     "shell.execute_reply": "2021-03-22T15:13:26.467861Z"
    }
   },
   "outputs": [],
   "source": [
    "url = \"https://public.tableau.com/interactive/views/COVID-19VaccineDashboardPublic/Vaccine?:embed=y&:showVizHome=n&:apiID=host0\"\n",
    "\n",
    "r = requests.get(url)\n",
    "soup = BeautifulSoup(r.text, \"html.parser\")"
   ]
  },
  {
   "cell_type": "code",
   "execution_count": 3,
   "metadata": {
    "execution": {
     "iopub.execute_input": "2021-03-22T15:13:26.474499Z",
     "iopub.status.busy": "2021-03-22T15:13:26.473620Z",
     "iopub.status.idle": "2021-03-22T15:13:26.477504Z",
     "shell.execute_reply": "2021-03-22T15:13:26.477072Z"
    }
   },
   "outputs": [],
   "source": [
    "tableauData = json.loads(soup.find(\"textarea\",{\"id\": \"tsConfigContainer\"}).text)"
   ]
  },
  {
   "cell_type": "markdown",
   "metadata": {},
   "source": [
    "Get the link to the Tableau data"
   ]
  },
  {
   "cell_type": "code",
   "execution_count": 4,
   "metadata": {
    "execution": {
     "iopub.execute_input": "2021-03-22T15:13:26.481832Z",
     "iopub.status.busy": "2021-03-22T15:13:26.480579Z",
     "iopub.status.idle": "2021-03-22T15:13:26.482517Z",
     "shell.execute_reply": "2021-03-22T15:13:26.482946Z"
    }
   },
   "outputs": [],
   "source": [
    "dataUrl = f'https://public.tableau.com{tableauData[\"vizql_root\"]}/bootstrapSession/sessions/{tableauData[\"sessionid\"]}'"
   ]
  },
  {
   "cell_type": "code",
   "execution_count": 5,
   "metadata": {
    "execution": {
     "iopub.execute_input": "2021-03-22T15:13:26.489218Z",
     "iopub.status.busy": "2021-03-22T15:13:26.488691Z",
     "iopub.status.idle": "2021-03-22T15:13:26.787934Z",
     "shell.execute_reply": "2021-03-22T15:13:26.787467Z"
    }
   },
   "outputs": [],
   "source": [
    "r = requests.post(dataUrl, data= {\n",
    "    \"sheet_id\": tableauData[\"sheetId\"],\n",
    "})\n",
    "\n",
    "dataReg = re.search('\\d+;({.*})\\d+;({.*})', r.text, re.MULTILINE)\n",
    "data1 = json.loads(dataReg.group(2))\n",
    "\n",
    "dataJson = data1[\"secondaryInfo\"][\"presModelMap\"][\"dataDictionary\"][\"presModelHolder\"][\"genDataDictionaryPresModel\"][\"dataSegments\"][\"0\"][\"dataColumns\"]"
   ]
  },
  {
   "cell_type": "markdown",
   "metadata": {},
   "source": [
    "Isolate what you want"
   ]
  },
  {
   "cell_type": "code",
   "execution_count": 6,
   "metadata": {
    "execution": {
     "iopub.execute_input": "2021-03-22T15:13:26.791729Z",
     "iopub.status.busy": "2021-03-22T15:13:26.791206Z",
     "iopub.status.idle": "2021-03-22T15:13:26.793237Z",
     "shell.execute_reply": "2021-03-22T15:13:26.792727Z"
    }
   },
   "outputs": [],
   "source": [
    "counties = dataJson[2]['dataValues'][:58]"
   ]
  },
  {
   "cell_type": "code",
   "execution_count": 7,
   "metadata": {
    "execution": {
     "iopub.execute_input": "2021-03-22T15:13:26.797288Z",
     "iopub.status.busy": "2021-03-22T15:13:26.796776Z",
     "iopub.status.idle": "2021-03-22T15:13:26.798975Z",
     "shell.execute_reply": "2021-03-22T15:13:26.798523Z"
    }
   },
   "outputs": [],
   "source": [
    "doses = dataJson[0]['dataValues'][3:61]"
   ]
  },
  {
   "cell_type": "markdown",
   "metadata": {},
   "source": [
    "Data formatting"
   ]
  },
  {
   "cell_type": "code",
   "execution_count": 8,
   "metadata": {
    "execution": {
     "iopub.execute_input": "2021-03-22T15:13:26.801079Z",
     "iopub.status.busy": "2021-03-22T15:13:26.800577Z",
     "iopub.status.idle": "2021-03-22T15:13:26.809245Z",
     "shell.execute_reply": "2021-03-22T15:13:26.808815Z"
    }
   },
   "outputs": [],
   "source": [
    "zipped = dict(zip(counties, doses))"
   ]
  },
  {
   "cell_type": "code",
   "execution_count": 9,
   "metadata": {
    "execution": {
     "iopub.execute_input": "2021-03-22T15:13:26.814827Z",
     "iopub.status.busy": "2021-03-22T15:13:26.814324Z",
     "iopub.status.idle": "2021-03-22T15:13:26.815964Z",
     "shell.execute_reply": "2021-03-22T15:13:26.816397Z"
    }
   },
   "outputs": [],
   "source": [
    "df = pd.Series(zipped).reset_index()"
   ]
  },
  {
   "cell_type": "code",
   "execution_count": 10,
   "metadata": {
    "execution": {
     "iopub.execute_input": "2021-03-22T15:13:26.820182Z",
     "iopub.status.busy": "2021-03-22T15:13:26.819359Z",
     "iopub.status.idle": "2021-03-22T15:13:26.820872Z",
     "shell.execute_reply": "2021-03-22T15:13:26.821326Z"
    }
   },
   "outputs": [],
   "source": [
    "df.columns = ['location','doses']"
   ]
  },
  {
   "cell_type": "markdown",
   "metadata": {},
   "source": [
    "Grab the overall California total"
   ]
  },
  {
   "cell_type": "code",
   "execution_count": 11,
   "metadata": {
    "execution": {
     "iopub.execute_input": "2021-03-22T15:13:26.824821Z",
     "iopub.status.busy": "2021-03-22T15:13:26.824293Z",
     "iopub.status.idle": "2021-03-22T15:13:26.826408Z",
     "shell.execute_reply": "2021-03-22T15:13:26.825945Z"
    }
   },
   "outputs": [],
   "source": [
    "add = {'location':'California','doses':dataJson[0]['dataValues'][2]}"
   ]
  },
  {
   "cell_type": "code",
   "execution_count": 12,
   "metadata": {
    "execution": {
     "iopub.execute_input": "2021-03-22T15:13:26.833921Z",
     "iopub.status.busy": "2021-03-22T15:13:26.832810Z",
     "iopub.status.idle": "2021-03-22T15:13:26.834527Z",
     "shell.execute_reply": "2021-03-22T15:13:26.834924Z"
    }
   },
   "outputs": [],
   "source": [
    "df = df.append(add, ignore_index=True)"
   ]
  },
  {
   "cell_type": "code",
   "execution_count": 13,
   "metadata": {
    "execution": {
     "iopub.execute_input": "2021-03-22T15:13:26.839546Z",
     "iopub.status.busy": "2021-03-22T15:13:26.838551Z",
     "iopub.status.idle": "2021-03-22T15:13:26.840205Z",
     "shell.execute_reply": "2021-03-22T15:13:26.840715Z"
    }
   },
   "outputs": [],
   "source": [
    "df = df.sort_values(by='location')"
   ]
  },
  {
   "cell_type": "code",
   "execution_count": 14,
   "metadata": {
    "execution": {
     "iopub.execute_input": "2021-03-22T15:13:26.846992Z",
     "iopub.status.busy": "2021-03-22T15:13:26.845832Z",
     "iopub.status.idle": "2021-03-22T15:13:26.847682Z",
     "shell.execute_reply": "2021-03-22T15:13:26.848106Z"
    }
   },
   "outputs": [],
   "source": [
    "df = df[df.location == 'California'].append(df[df.location != 'California']).reset_index(drop=True)"
   ]
  },
  {
   "cell_type": "code",
   "execution_count": null,
   "metadata": {},
   "outputs": [],
   "source": []
  },
  {
   "cell_type": "code",
   "execution_count": 15,
   "metadata": {
    "execution": {
     "iopub.execute_input": "2021-03-22T15:13:26.851324Z",
     "iopub.status.busy": "2021-03-22T15:13:26.850818Z",
     "iopub.status.idle": "2021-03-22T15:13:26.869167Z",
     "shell.execute_reply": "2021-03-22T15:13:26.869573Z"
    }
   },
   "outputs": [],
   "source": [
    "tz = pytz.timezone(\"America/New_York\")"
   ]
  },
  {
   "cell_type": "code",
   "execution_count": 16,
   "metadata": {
    "execution": {
     "iopub.execute_input": "2021-03-22T15:13:26.873718Z",
     "iopub.status.busy": "2021-03-22T15:13:26.872665Z",
     "iopub.status.idle": "2021-03-22T15:13:26.874403Z",
     "shell.execute_reply": "2021-03-22T15:13:26.874841Z"
    }
   },
   "outputs": [],
   "source": [
    "today = datetime.now(tz).date()"
   ]
  },
  {
   "cell_type": "code",
   "execution_count": 17,
   "metadata": {
    "execution": {
     "iopub.execute_input": "2021-03-22T15:13:26.878814Z",
     "iopub.status.busy": "2021-03-22T15:13:26.877834Z",
     "iopub.status.idle": "2021-03-22T15:13:26.880035Z",
     "shell.execute_reply": "2021-03-22T15:13:26.879625Z"
    }
   },
   "outputs": [],
   "source": [
    "data_dir = os.path.join(os.path.abspath(\"\"), \"data\")"
   ]
  },
  {
   "cell_type": "code",
   "execution_count": 18,
   "metadata": {
    "execution": {
     "iopub.execute_input": "2021-03-22T15:13:26.884669Z",
     "iopub.status.busy": "2021-03-22T15:13:26.882876Z",
     "iopub.status.idle": "2021-03-22T15:13:26.908903Z",
     "shell.execute_reply": "2021-03-22T15:13:26.909627Z"
    }
   },
   "outputs": [],
   "source": [
    "df.to_csv(os.path.join(data_dir, f\"{today}.csv\"), index=False)"
   ]
  },
  {
   "cell_type": "code",
   "execution_count": null,
   "metadata": {},
   "outputs": [],
   "source": []
  }
 ],
 "metadata": {
  "kernelspec": {
   "display_name": "Python 3",
   "language": "python",
   "name": "python3"
  },
  "language_info": {
   "codemirror_mode": {
    "name": "ipython",
    "version": 3
   },
   "file_extension": ".py",
   "mimetype": "text/x-python",
   "name": "python",
   "nbconvert_exporter": "python",
   "pygments_lexer": "ipython3",
   "version": "3.8.8"
  }
 },
 "nbformat": 4,
 "nbformat_minor": 4
}
