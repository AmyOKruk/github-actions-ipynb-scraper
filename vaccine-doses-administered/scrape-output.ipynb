{
 "cells": [
  {
   "cell_type": "markdown",
   "metadata": {},
   "source": [
    "# California COVID vaccinations scrape"
   ]
  },
  {
   "cell_type": "markdown",
   "metadata": {},
   "source": [
    "By [Amy O'Kruk](https://twitter.com/amyokruk)"
   ]
  },
  {
   "cell_type": "markdown",
   "metadata": {},
   "source": [
    "Downloads data on vaccine doses administered by county and statewide from a Tableau-powered dashboard from the California Department of Public Health."
   ]
  },
  {
   "cell_type": "code",
   "execution_count": 1,
   "metadata": {
    "execution": {
     "iopub.execute_input": "2021-03-18T15:44:36.388279Z",
     "iopub.status.busy": "2021-03-18T15:44:36.387603Z",
     "iopub.status.idle": "2021-03-18T15:44:36.943004Z",
     "shell.execute_reply": "2021-03-18T15:44:36.941998Z"
    }
   },
   "outputs": [],
   "source": [
    "import pandas as pd\n",
    "import requests\n",
    "from bs4 import BeautifulSoup\n",
    "import json\n",
    "import re\n",
    "import time\n",
    "from time import gmtime, strftime \n",
    "import os\n",
    "import pytz\n",
    "from datetime import datetime"
   ]
  },
  {
   "cell_type": "markdown",
   "metadata": {},
   "source": [
    "Scrape the dashboard page"
   ]
  },
  {
   "cell_type": "code",
   "execution_count": 2,
   "metadata": {
    "execution": {
     "iopub.execute_input": "2021-03-18T15:44:36.949585Z",
     "iopub.status.busy": "2021-03-18T15:44:36.946566Z",
     "iopub.status.idle": "2021-03-18T15:44:37.380441Z",
     "shell.execute_reply": "2021-03-18T15:44:37.379932Z"
    }
   },
   "outputs": [],
   "source": [
    "url = \"https://public.tableau.com/interactive/views/COVID-19VaccineDashboardPublic/Vaccine?:embed=y&:showVizHome=n&:apiID=host0\"\n",
    "\n",
    "r = requests.get(url)\n",
    "soup = BeautifulSoup(r.text, \"html.parser\")"
   ]
  },
  {
   "cell_type": "code",
   "execution_count": 3,
   "metadata": {
    "execution": {
     "iopub.execute_input": "2021-03-18T15:44:37.385904Z",
     "iopub.status.busy": "2021-03-18T15:44:37.385372Z",
     "iopub.status.idle": "2021-03-18T15:44:37.388746Z",
     "shell.execute_reply": "2021-03-18T15:44:37.389248Z"
    }
   },
   "outputs": [],
   "source": [
    "tableauData = json.loads(soup.find(\"textarea\",{\"id\": \"tsConfigContainer\"}).text)"
   ]
  },
  {
   "cell_type": "markdown",
   "metadata": {},
   "source": [
    "Get the link to the Tableau data"
   ]
  },
  {
   "cell_type": "code",
   "execution_count": 4,
   "metadata": {
    "execution": {
     "iopub.execute_input": "2021-03-18T15:44:37.392963Z",
     "iopub.status.busy": "2021-03-18T15:44:37.392437Z",
     "iopub.status.idle": "2021-03-18T15:44:37.395970Z",
     "shell.execute_reply": "2021-03-18T15:44:37.395508Z"
    }
   },
   "outputs": [],
   "source": [
    "dataUrl = f'https://public.tableau.com{tableauData[\"vizql_root\"]}/bootstrapSession/sessions/{tableauData[\"sessionid\"]}'"
   ]
  },
  {
   "cell_type": "code",
   "execution_count": 5,
   "metadata": {
    "execution": {
     "iopub.execute_input": "2021-03-18T15:44:37.402305Z",
     "iopub.status.busy": "2021-03-18T15:44:37.401774Z",
     "iopub.status.idle": "2021-03-18T15:44:37.692953Z",
     "shell.execute_reply": "2021-03-18T15:44:37.691897Z"
    }
   },
   "outputs": [],
   "source": [
    "r = requests.post(dataUrl, data= {\n",
    "    \"sheet_id\": tableauData[\"sheetId\"],\n",
    "})\n",
    "\n",
    "dataReg = re.search('\\d+;({.*})\\d+;({.*})', r.text, re.MULTILINE)\n",
    "data1 = json.loads(dataReg.group(2))\n",
    "\n",
    "dataJson = data1[\"secondaryInfo\"][\"presModelMap\"][\"dataDictionary\"][\"presModelHolder\"][\"genDataDictionaryPresModel\"][\"dataSegments\"][\"0\"][\"dataColumns\"]"
   ]
  },
  {
   "cell_type": "markdown",
   "metadata": {},
   "source": [
    "Isolate what you want"
   ]
  },
  {
   "cell_type": "code",
   "execution_count": 6,
   "metadata": {
    "execution": {
     "iopub.execute_input": "2021-03-18T15:44:37.696730Z",
     "iopub.status.busy": "2021-03-18T15:44:37.696208Z",
     "iopub.status.idle": "2021-03-18T15:44:37.699859Z",
     "shell.execute_reply": "2021-03-18T15:44:37.699398Z"
    }
   },
   "outputs": [],
   "source": [
    "counties = dataJson[2]['dataValues'][:58]"
   ]
  },
  {
   "cell_type": "code",
   "execution_count": 7,
   "metadata": {
    "execution": {
     "iopub.execute_input": "2021-03-18T15:44:37.703373Z",
     "iopub.status.busy": "2021-03-18T15:44:37.702846Z",
     "iopub.status.idle": "2021-03-18T15:44:37.706304Z",
     "shell.execute_reply": "2021-03-18T15:44:37.705664Z"
    }
   },
   "outputs": [],
   "source": [
    "doses = dataJson[0]['dataValues'][3:61]"
   ]
  },
  {
   "cell_type": "markdown",
   "metadata": {},
   "source": [
    "Data formatting"
   ]
  },
  {
   "cell_type": "code",
   "execution_count": 8,
   "metadata": {
    "execution": {
     "iopub.execute_input": "2021-03-18T15:44:37.709802Z",
     "iopub.status.busy": "2021-03-18T15:44:37.709282Z",
     "iopub.status.idle": "2021-03-18T15:44:37.713132Z",
     "shell.execute_reply": "2021-03-18T15:44:37.712682Z"
    }
   },
   "outputs": [],
   "source": [
    "zipped = dict(zip(counties, doses))"
   ]
  },
  {
   "cell_type": "code",
   "execution_count": 9,
   "metadata": {
    "execution": {
     "iopub.execute_input": "2021-03-18T15:44:37.718687Z",
     "iopub.status.busy": "2021-03-18T15:44:37.718171Z",
     "iopub.status.idle": "2021-03-18T15:44:37.721403Z",
     "shell.execute_reply": "2021-03-18T15:44:37.720983Z"
    }
   },
   "outputs": [],
   "source": [
    "df = pd.Series(zipped).reset_index()"
   ]
  },
  {
   "cell_type": "code",
   "execution_count": 10,
   "metadata": {
    "execution": {
     "iopub.execute_input": "2021-03-18T15:44:37.725173Z",
     "iopub.status.busy": "2021-03-18T15:44:37.724663Z",
     "iopub.status.idle": "2021-03-18T15:44:37.728082Z",
     "shell.execute_reply": "2021-03-18T15:44:37.727446Z"
    }
   },
   "outputs": [],
   "source": [
    "df.columns = ['location','doses']"
   ]
  },
  {
   "cell_type": "markdown",
   "metadata": {},
   "source": [
    "Grab the overall California total"
   ]
  },
  {
   "cell_type": "code",
   "execution_count": 11,
   "metadata": {
    "execution": {
     "iopub.execute_input": "2021-03-18T15:44:37.731624Z",
     "iopub.status.busy": "2021-03-18T15:44:37.731143Z",
     "iopub.status.idle": "2021-03-18T15:44:37.734353Z",
     "shell.execute_reply": "2021-03-18T15:44:37.733936Z"
    }
   },
   "outputs": [],
   "source": [
    "add = {'location':'California','doses':dataJson[0]['dataValues'][2]}"
   ]
  },
  {
   "cell_type": "code",
   "execution_count": 12,
   "metadata": {
    "execution": {
     "iopub.execute_input": "2021-03-18T15:44:37.740383Z",
     "iopub.status.busy": "2021-03-18T15:44:37.739905Z",
     "iopub.status.idle": "2021-03-18T15:44:37.743218Z",
     "shell.execute_reply": "2021-03-18T15:44:37.742739Z"
    }
   },
   "outputs": [],
   "source": [
    "df = df.append(add, ignore_index=True)"
   ]
  },
  {
   "cell_type": "code",
   "execution_count": 13,
   "metadata": {
    "execution": {
     "iopub.execute_input": "2021-03-18T15:44:37.747360Z",
     "iopub.status.busy": "2021-03-18T15:44:37.746814Z",
     "iopub.status.idle": "2021-03-18T15:44:37.750689Z",
     "shell.execute_reply": "2021-03-18T15:44:37.750018Z"
    }
   },
   "outputs": [],
   "source": [
    "df = df.sort_values(by='location')"
   ]
  },
  {
   "cell_type": "code",
   "execution_count": 14,
   "metadata": {
    "execution": {
     "iopub.execute_input": "2021-03-18T15:44:37.756472Z",
     "iopub.status.busy": "2021-03-18T15:44:37.755950Z",
     "iopub.status.idle": "2021-03-18T15:44:37.759063Z",
     "shell.execute_reply": "2021-03-18T15:44:37.759502Z"
    }
   },
   "outputs": [],
   "source": [
    "df = df[df.location == 'California'].append(df[df.location != 'California']).reset_index(drop=True)"
   ]
  },
  {
   "cell_type": "code",
   "execution_count": null,
   "metadata": {},
   "outputs": [],
   "source": []
  },
  {
   "cell_type": "code",
   "execution_count": 15,
   "metadata": {
    "execution": {
     "iopub.execute_input": "2021-03-18T15:44:37.763389Z",
     "iopub.status.busy": "2021-03-18T15:44:37.762282Z",
     "iopub.status.idle": "2021-03-18T15:44:37.781779Z",
     "shell.execute_reply": "2021-03-18T15:44:37.781118Z"
    }
   },
   "outputs": [],
   "source": [
    "tz = pytz.timezone(\"America/New_York\")"
   ]
  },
  {
   "cell_type": "code",
   "execution_count": 16,
   "metadata": {
    "execution": {
     "iopub.execute_input": "2021-03-18T15:44:37.786368Z",
     "iopub.status.busy": "2021-03-18T15:44:37.785852Z",
     "iopub.status.idle": "2021-03-18T15:44:37.789381Z",
     "shell.execute_reply": "2021-03-18T15:44:37.788918Z"
    }
   },
   "outputs": [],
   "source": [
    "today = datetime.now(tz).date()"
   ]
  },
  {
   "cell_type": "code",
   "execution_count": 17,
   "metadata": {
    "execution": {
     "iopub.execute_input": "2021-03-18T15:44:37.792964Z",
     "iopub.status.busy": "2021-03-18T15:44:37.792447Z",
     "iopub.status.idle": "2021-03-18T15:44:37.796240Z",
     "shell.execute_reply": "2021-03-18T15:44:37.795558Z"
    }
   },
   "outputs": [],
   "source": [
    "data_dir = os.path.join(os.path.abspath(\"\"), \"data\")"
   ]
  },
  {
   "cell_type": "code",
   "execution_count": 18,
   "metadata": {
    "execution": {
     "iopub.execute_input": "2021-03-18T15:44:37.800403Z",
     "iopub.status.busy": "2021-03-18T15:44:37.799870Z",
     "iopub.status.idle": "2021-03-18T15:44:37.805614Z",
     "shell.execute_reply": "2021-03-18T15:44:37.805121Z"
    }
   },
   "outputs": [],
   "source": [
    "df.to_csv(os.path.join(data_dir, f\"{today}.csv\"), index=False)"
   ]
  },
  {
   "cell_type": "code",
   "execution_count": null,
   "metadata": {},
   "outputs": [],
   "source": []
  }
 ],
 "metadata": {
  "kernelspec": {
   "display_name": "Python 3",
   "language": "python",
   "name": "python3"
  },
  "language_info": {
   "codemirror_mode": {
    "name": "ipython",
    "version": 3
   },
   "file_extension": ".py",
   "mimetype": "text/x-python",
   "name": "python",
   "nbconvert_exporter": "python",
   "pygments_lexer": "ipython3",
   "version": "3.8.8"
  }
 },
 "nbformat": 4,
 "nbformat_minor": 4
}
