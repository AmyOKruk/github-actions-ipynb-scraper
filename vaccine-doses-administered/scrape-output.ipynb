{
 "cells": [
  {
   "cell_type": "markdown",
   "metadata": {},
   "source": [
    "# California COVID vaccinations scrape"
   ]
  },
  {
   "cell_type": "markdown",
   "metadata": {},
   "source": [
    "By [Amy O'Kruk](https://twitter.com/amyokruk)"
   ]
  },
  {
   "cell_type": "markdown",
   "metadata": {},
   "source": [
    "Downloads data on vaccine doses administered by county and statewide from a Tableau-powered dashboard from the California Department of Public Health."
   ]
  },
  {
   "cell_type": "code",
   "execution_count": 1,
   "metadata": {
    "execution": {
     "iopub.execute_input": "2021-03-17T10:14:18.583988Z",
     "iopub.status.busy": "2021-03-17T10:14:18.583288Z",
     "iopub.status.idle": "2021-03-17T10:14:19.001840Z",
     "shell.execute_reply": "2021-03-17T10:14:19.000816Z"
    }
   },
   "outputs": [],
   "source": [
    "import pandas as pd\n",
    "import requests\n",
    "from bs4 import BeautifulSoup\n",
    "import json\n",
    "import re\n",
    "import time\n",
    "from time import gmtime, strftime \n",
    "import os\n",
    "import pytz\n",
    "from datetime import datetime"
   ]
  },
  {
   "cell_type": "markdown",
   "metadata": {},
   "source": [
    "Scrape the dashboard page"
   ]
  },
  {
   "cell_type": "code",
   "execution_count": 2,
   "metadata": {
    "execution": {
     "iopub.execute_input": "2021-03-17T10:14:19.007494Z",
     "iopub.status.busy": "2021-03-17T10:14:19.007034Z",
     "iopub.status.idle": "2021-03-17T10:14:19.784581Z",
     "shell.execute_reply": "2021-03-17T10:14:19.785069Z"
    }
   },
   "outputs": [],
   "source": [
    "url = \"https://public.tableau.com/interactive/views/COVID-19VaccineDashboardPublic/Vaccine?:embed=y&:showVizHome=n&:apiID=host0\"\n",
    "\n",
    "r = requests.get(url)\n",
    "soup = BeautifulSoup(r.text, \"html.parser\")"
   ]
  },
  {
   "cell_type": "code",
   "execution_count": 3,
   "metadata": {
    "execution": {
     "iopub.execute_input": "2021-03-17T10:14:19.789982Z",
     "iopub.status.busy": "2021-03-17T10:14:19.789264Z",
     "iopub.status.idle": "2021-03-17T10:14:19.792736Z",
     "shell.execute_reply": "2021-03-17T10:14:19.792351Z"
    }
   },
   "outputs": [],
   "source": [
    "tableauData = json.loads(soup.find(\"textarea\",{\"id\": \"tsConfigContainer\"}).text)"
   ]
  },
  {
   "cell_type": "markdown",
   "metadata": {},
   "source": [
    "Get the link to the Tableau data"
   ]
  },
  {
   "cell_type": "code",
   "execution_count": 4,
   "metadata": {
    "execution": {
     "iopub.execute_input": "2021-03-17T10:14:19.797470Z",
     "iopub.status.busy": "2021-03-17T10:14:19.796904Z",
     "iopub.status.idle": "2021-03-17T10:14:19.800315Z",
     "shell.execute_reply": "2021-03-17T10:14:19.799636Z"
    }
   },
   "outputs": [],
   "source": [
    "dataUrl = f'https://public.tableau.com{tableauData[\"vizql_root\"]}/bootstrapSession/sessions/{tableauData[\"sessionid\"]}'"
   ]
  },
  {
   "cell_type": "code",
   "execution_count": 5,
   "metadata": {
    "execution": {
     "iopub.execute_input": "2021-03-17T10:14:19.808148Z",
     "iopub.status.busy": "2021-03-17T10:14:19.807489Z",
     "iopub.status.idle": "2021-03-17T10:14:20.324627Z",
     "shell.execute_reply": "2021-03-17T10:14:20.324211Z"
    }
   },
   "outputs": [],
   "source": [
    "r = requests.post(dataUrl, data= {\n",
    "    \"sheet_id\": tableauData[\"sheetId\"],\n",
    "})\n",
    "\n",
    "dataReg = re.search('\\d+;({.*})\\d+;({.*})', r.text, re.MULTILINE)\n",
    "data1 = json.loads(dataReg.group(2))\n",
    "\n",
    "dataJson = data1[\"secondaryInfo\"][\"presModelMap\"][\"dataDictionary\"][\"presModelHolder\"][\"genDataDictionaryPresModel\"][\"dataSegments\"][\"0\"][\"dataColumns\"]"
   ]
  },
  {
   "cell_type": "markdown",
   "metadata": {},
   "source": [
    "Isolate what you want"
   ]
  },
  {
   "cell_type": "code",
   "execution_count": 6,
   "metadata": {
    "execution": {
     "iopub.execute_input": "2021-03-17T10:14:20.330478Z",
     "iopub.status.busy": "2021-03-17T10:14:20.329220Z",
     "iopub.status.idle": "2021-03-17T10:14:20.331085Z",
     "shell.execute_reply": "2021-03-17T10:14:20.331602Z"
    }
   },
   "outputs": [],
   "source": [
    "counties = dataJson[2]['dataValues'][:58]"
   ]
  },
  {
   "cell_type": "code",
   "execution_count": 7,
   "metadata": {
    "execution": {
     "iopub.execute_input": "2021-03-17T10:14:20.335462Z",
     "iopub.status.busy": "2021-03-17T10:14:20.334615Z",
     "iopub.status.idle": "2021-03-17T10:14:20.336462Z",
     "shell.execute_reply": "2021-03-17T10:14:20.336948Z"
    }
   },
   "outputs": [],
   "source": [
    "doses = dataJson[0]['dataValues'][3:61]"
   ]
  },
  {
   "cell_type": "markdown",
   "metadata": {},
   "source": [
    "Data formatting"
   ]
  },
  {
   "cell_type": "code",
   "execution_count": 8,
   "metadata": {
    "execution": {
     "iopub.execute_input": "2021-03-17T10:14:20.345473Z",
     "iopub.status.busy": "2021-03-17T10:14:20.340396Z",
     "iopub.status.idle": "2021-03-17T10:14:20.346016Z",
     "shell.execute_reply": "2021-03-17T10:14:20.346461Z"
    }
   },
   "outputs": [],
   "source": [
    "zipped = dict(zip(counties, doses))"
   ]
  },
  {
   "cell_type": "code",
   "execution_count": 9,
   "metadata": {
    "execution": {
     "iopub.execute_input": "2021-03-17T10:14:20.352696Z",
     "iopub.status.busy": "2021-03-17T10:14:20.351520Z",
     "iopub.status.idle": "2021-03-17T10:14:20.353485Z",
     "shell.execute_reply": "2021-03-17T10:14:20.354050Z"
    }
   },
   "outputs": [],
   "source": [
    "df = pd.Series(zipped).reset_index()"
   ]
  },
  {
   "cell_type": "code",
   "execution_count": 10,
   "metadata": {
    "execution": {
     "iopub.execute_input": "2021-03-17T10:14:20.358696Z",
     "iopub.status.busy": "2021-03-17T10:14:20.357415Z",
     "iopub.status.idle": "2021-03-17T10:14:20.359318Z",
     "shell.execute_reply": "2021-03-17T10:14:20.359722Z"
    }
   },
   "outputs": [],
   "source": [
    "df.columns = ['location','doses']"
   ]
  },
  {
   "cell_type": "markdown",
   "metadata": {},
   "source": [
    "Grab the overall California total"
   ]
  },
  {
   "cell_type": "code",
   "execution_count": 11,
   "metadata": {
    "execution": {
     "iopub.execute_input": "2021-03-17T10:14:20.363769Z",
     "iopub.status.busy": "2021-03-17T10:14:20.362886Z",
     "iopub.status.idle": "2021-03-17T10:14:20.365169Z",
     "shell.execute_reply": "2021-03-17T10:14:20.364796Z"
    }
   },
   "outputs": [],
   "source": [
    "add = {'location':'California','doses':dataJson[0]['dataValues'][2]}"
   ]
  },
  {
   "cell_type": "code",
   "execution_count": 12,
   "metadata": {
    "execution": {
     "iopub.execute_input": "2021-03-17T10:14:20.371959Z",
     "iopub.status.busy": "2021-03-17T10:14:20.371040Z",
     "iopub.status.idle": "2021-03-17T10:14:20.372634Z",
     "shell.execute_reply": "2021-03-17T10:14:20.373101Z"
    }
   },
   "outputs": [],
   "source": [
    "df = df.append(add, ignore_index=True)"
   ]
  },
  {
   "cell_type": "code",
   "execution_count": 13,
   "metadata": {
    "execution": {
     "iopub.execute_input": "2021-03-17T10:14:20.378048Z",
     "iopub.status.busy": "2021-03-17T10:14:20.376979Z",
     "iopub.status.idle": "2021-03-17T10:14:20.378870Z",
     "shell.execute_reply": "2021-03-17T10:14:20.379353Z"
    }
   },
   "outputs": [],
   "source": [
    "df = df.sort_values(by='location')"
   ]
  },
  {
   "cell_type": "code",
   "execution_count": 14,
   "metadata": {
    "execution": {
     "iopub.execute_input": "2021-03-17T10:14:20.392942Z",
     "iopub.status.busy": "2021-03-17T10:14:20.392210Z",
     "iopub.status.idle": "2021-03-17T10:14:20.394913Z",
     "shell.execute_reply": "2021-03-17T10:14:20.395684Z"
    }
   },
   "outputs": [],
   "source": [
    "df = df[df.location == 'California'].append(df[df.location != 'California']).reset_index(drop=True)"
   ]
  },
  {
   "cell_type": "code",
   "execution_count": null,
   "metadata": {},
   "outputs": [],
   "source": []
  },
  {
   "cell_type": "code",
   "execution_count": 15,
   "metadata": {
    "execution": {
     "iopub.execute_input": "2021-03-17T10:14:20.398996Z",
     "iopub.status.busy": "2021-03-17T10:14:20.398460Z",
     "iopub.status.idle": "2021-03-17T10:14:20.417179Z",
     "shell.execute_reply": "2021-03-17T10:14:20.416691Z"
    }
   },
   "outputs": [],
   "source": [
    "tz = pytz.timezone(\"America/New_York\")"
   ]
  },
  {
   "cell_type": "code",
   "execution_count": 16,
   "metadata": {
    "execution": {
     "iopub.execute_input": "2021-03-17T10:14:20.421654Z",
     "iopub.status.busy": "2021-03-17T10:14:20.420192Z",
     "iopub.status.idle": "2021-03-17T10:14:20.422251Z",
     "shell.execute_reply": "2021-03-17T10:14:20.422724Z"
    }
   },
   "outputs": [],
   "source": [
    "today = datetime.now(tz).date()"
   ]
  },
  {
   "cell_type": "code",
   "execution_count": 17,
   "metadata": {
    "execution": {
     "iopub.execute_input": "2021-03-17T10:14:20.427979Z",
     "iopub.status.busy": "2021-03-17T10:14:20.426911Z",
     "iopub.status.idle": "2021-03-17T10:14:20.429346Z",
     "shell.execute_reply": "2021-03-17T10:14:20.429981Z"
    }
   },
   "outputs": [],
   "source": [
    "data_dir = os.path.join(os.path.abspath(\"\"), \"data\")"
   ]
  },
  {
   "cell_type": "code",
   "execution_count": 18,
   "metadata": {
    "execution": {
     "iopub.execute_input": "2021-03-17T10:14:20.433936Z",
     "iopub.status.busy": "2021-03-17T10:14:20.433163Z",
     "iopub.status.idle": "2021-03-17T10:14:20.458307Z",
     "shell.execute_reply": "2021-03-17T10:14:20.459110Z"
    }
   },
   "outputs": [],
   "source": [
    "df.to_csv(os.path.join(data_dir, f\"{today}.csv\"), index=False)"
   ]
  },
  {
   "cell_type": "code",
   "execution_count": null,
   "metadata": {},
   "outputs": [],
   "source": []
  }
 ],
 "metadata": {
  "kernelspec": {
   "display_name": "Python 3",
   "language": "python",
   "name": "python3"
  },
  "language_info": {
   "codemirror_mode": {
    "name": "ipython",
    "version": 3
   },
   "file_extension": ".py",
   "mimetype": "text/x-python",
   "name": "python",
   "nbconvert_exporter": "python",
   "pygments_lexer": "ipython3",
   "version": "3.8.8"
  }
 },
 "nbformat": 4,
 "nbformat_minor": 4
}
