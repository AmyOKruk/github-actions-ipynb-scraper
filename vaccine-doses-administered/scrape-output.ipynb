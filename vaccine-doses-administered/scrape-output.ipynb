{
 "cells": [
  {
   "cell_type": "markdown",
   "metadata": {},
   "source": [
    "# California COVID vaccinations scrape"
   ]
  },
  {
   "cell_type": "markdown",
   "metadata": {},
   "source": [
    "By [Amy O'Kruk](https://twitter.com/amyokruk)"
   ]
  },
  {
   "cell_type": "markdown",
   "metadata": {},
   "source": [
    "Downloads data on vaccine doses administered by county and statewide from a Tableau-powered dashboard from the California Department of Public Health."
   ]
  },
  {
   "cell_type": "code",
   "execution_count": 1,
   "metadata": {
    "execution": {
     "iopub.execute_input": "2021-03-24T19:02:53.075325Z",
     "iopub.status.busy": "2021-03-24T19:02:53.074635Z",
     "iopub.status.idle": "2021-03-24T19:02:54.185728Z",
     "shell.execute_reply": "2021-03-24T19:02:54.186216Z"
    }
   },
   "outputs": [],
   "source": [
    "import pandas as pd\n",
    "import requests\n",
    "from bs4 import BeautifulSoup\n",
    "import json\n",
    "import re\n",
    "import time\n",
    "from time import gmtime, strftime \n",
    "import os\n",
    "import pytz\n",
    "from datetime import datetime"
   ]
  },
  {
   "cell_type": "markdown",
   "metadata": {},
   "source": [
    "Scrape the dashboard page"
   ]
  },
  {
   "cell_type": "code",
   "execution_count": 2,
   "metadata": {
    "execution": {
     "iopub.execute_input": "2021-03-24T19:02:54.194768Z",
     "iopub.status.busy": "2021-03-24T19:02:54.192978Z",
     "iopub.status.idle": "2021-03-24T19:02:54.810235Z",
     "shell.execute_reply": "2021-03-24T19:02:54.809676Z"
    }
   },
   "outputs": [],
   "source": [
    "url = \"https://public.tableau.com/interactive/views/COVID-19VaccineDashboardPublic/Vaccine?:embed=y&:showVizHome=n&:apiID=host0\"\n",
    "\n",
    "r = requests.get(url)\n",
    "soup = BeautifulSoup(r.text, \"html.parser\")"
   ]
  },
  {
   "cell_type": "code",
   "execution_count": 3,
   "metadata": {
    "execution": {
     "iopub.execute_input": "2021-03-24T19:02:54.815807Z",
     "iopub.status.busy": "2021-03-24T19:02:54.815105Z",
     "iopub.status.idle": "2021-03-24T19:02:54.819531Z",
     "shell.execute_reply": "2021-03-24T19:02:54.818747Z"
    }
   },
   "outputs": [],
   "source": [
    "tableauData = json.loads(soup.find(\"textarea\",{\"id\": \"tsConfigContainer\"}).text)"
   ]
  },
  {
   "cell_type": "markdown",
   "metadata": {},
   "source": [
    "Get the link to the Tableau data"
   ]
  },
  {
   "cell_type": "code",
   "execution_count": 4,
   "metadata": {
    "execution": {
     "iopub.execute_input": "2021-03-24T19:02:54.824048Z",
     "iopub.status.busy": "2021-03-24T19:02:54.823405Z",
     "iopub.status.idle": "2021-03-24T19:02:54.827621Z",
     "shell.execute_reply": "2021-03-24T19:02:54.826987Z"
    }
   },
   "outputs": [],
   "source": [
    "dataUrl = f'https://public.tableau.com{tableauData[\"vizql_root\"]}/bootstrapSession/sessions/{tableauData[\"sessionid\"]}'"
   ]
  },
  {
   "cell_type": "code",
   "execution_count": 5,
   "metadata": {
    "execution": {
     "iopub.execute_input": "2021-03-24T19:02:54.835219Z",
     "iopub.status.busy": "2021-03-24T19:02:54.833855Z",
     "iopub.status.idle": "2021-03-24T19:02:55.135389Z",
     "shell.execute_reply": "2021-03-24T19:02:55.136159Z"
    }
   },
   "outputs": [],
   "source": [
    "r = requests.post(dataUrl, data= {\n",
    "    \"sheet_id\": tableauData[\"sheetId\"],\n",
    "})\n",
    "\n",
    "dataReg = re.search('\\d+;({.*})\\d+;({.*})', r.text, re.MULTILINE)\n",
    "data1 = json.loads(dataReg.group(2))\n",
    "\n",
    "dataJson = data1[\"secondaryInfo\"][\"presModelMap\"][\"dataDictionary\"][\"presModelHolder\"][\"genDataDictionaryPresModel\"][\"dataSegments\"][\"0\"][\"dataColumns\"]"
   ]
  },
  {
   "cell_type": "markdown",
   "metadata": {},
   "source": [
    "Isolate what you want"
   ]
  },
  {
   "cell_type": "code",
   "execution_count": 6,
   "metadata": {
    "execution": {
     "iopub.execute_input": "2021-03-24T19:02:55.140536Z",
     "iopub.status.busy": "2021-03-24T19:02:55.139958Z",
     "iopub.status.idle": "2021-03-24T19:02:55.144075Z",
     "shell.execute_reply": "2021-03-24T19:02:55.143548Z"
    }
   },
   "outputs": [],
   "source": [
    "counties = dataJson[2]['dataValues'][:58]"
   ]
  },
  {
   "cell_type": "code",
   "execution_count": 7,
   "metadata": {
    "execution": {
     "iopub.execute_input": "2021-03-24T19:02:55.149025Z",
     "iopub.status.busy": "2021-03-24T19:02:55.147583Z",
     "iopub.status.idle": "2021-03-24T19:02:55.149660Z",
     "shell.execute_reply": "2021-03-24T19:02:55.150251Z"
    }
   },
   "outputs": [],
   "source": [
    "doses = dataJson[0]['dataValues'][3:61]"
   ]
  },
  {
   "cell_type": "markdown",
   "metadata": {},
   "source": [
    "Data formatting"
   ]
  },
  {
   "cell_type": "code",
   "execution_count": 8,
   "metadata": {
    "execution": {
     "iopub.execute_input": "2021-03-24T19:02:55.154371Z",
     "iopub.status.busy": "2021-03-24T19:02:55.153525Z",
     "iopub.status.idle": "2021-03-24T19:02:55.156130Z",
     "shell.execute_reply": "2021-03-24T19:02:55.155642Z"
    }
   },
   "outputs": [],
   "source": [
    "zipped = dict(zip(counties, doses))"
   ]
  },
  {
   "cell_type": "code",
   "execution_count": 9,
   "metadata": {
    "execution": {
     "iopub.execute_input": "2021-03-24T19:02:55.162638Z",
     "iopub.status.busy": "2021-03-24T19:02:55.162046Z",
     "iopub.status.idle": "2021-03-24T19:02:55.164625Z",
     "shell.execute_reply": "2021-03-24T19:02:55.164149Z"
    }
   },
   "outputs": [],
   "source": [
    "df = pd.Series(zipped).reset_index()"
   ]
  },
  {
   "cell_type": "code",
   "execution_count": 10,
   "metadata": {
    "execution": {
     "iopub.execute_input": "2021-03-24T19:02:55.169562Z",
     "iopub.status.busy": "2021-03-24T19:02:55.168177Z",
     "iopub.status.idle": "2021-03-24T19:02:55.170229Z",
     "shell.execute_reply": "2021-03-24T19:02:55.170701Z"
    }
   },
   "outputs": [],
   "source": [
    "df.columns = ['location','doses']"
   ]
  },
  {
   "cell_type": "markdown",
   "metadata": {},
   "source": [
    "Grab the overall California total"
   ]
  },
  {
   "cell_type": "code",
   "execution_count": 11,
   "metadata": {
    "execution": {
     "iopub.execute_input": "2021-03-24T19:02:55.175929Z",
     "iopub.status.busy": "2021-03-24T19:02:55.175220Z",
     "iopub.status.idle": "2021-03-24T19:02:55.180405Z",
     "shell.execute_reply": "2021-03-24T19:02:55.179891Z"
    }
   },
   "outputs": [],
   "source": [
    "add = {'location':'California','doses':dataJson[0]['dataValues'][2]}"
   ]
  },
  {
   "cell_type": "code",
   "execution_count": 12,
   "metadata": {
    "execution": {
     "iopub.execute_input": "2021-03-24T19:02:55.188825Z",
     "iopub.status.busy": "2021-03-24T19:02:55.187375Z",
     "iopub.status.idle": "2021-03-24T19:02:55.189648Z",
     "shell.execute_reply": "2021-03-24T19:02:55.190225Z"
    }
   },
   "outputs": [],
   "source": [
    "df = df.append(add, ignore_index=True)"
   ]
  },
  {
   "cell_type": "code",
   "execution_count": 13,
   "metadata": {
    "execution": {
     "iopub.execute_input": "2021-03-24T19:02:55.195842Z",
     "iopub.status.busy": "2021-03-24T19:02:55.194503Z",
     "iopub.status.idle": "2021-03-24T19:02:55.196595Z",
     "shell.execute_reply": "2021-03-24T19:02:55.197145Z"
    }
   },
   "outputs": [],
   "source": [
    "df = df.sort_values(by='location')"
   ]
  },
  {
   "cell_type": "code",
   "execution_count": 14,
   "metadata": {
    "execution": {
     "iopub.execute_input": "2021-03-24T19:02:55.204749Z",
     "iopub.status.busy": "2021-03-24T19:02:55.203172Z",
     "iopub.status.idle": "2021-03-24T19:02:55.206137Z",
     "shell.execute_reply": "2021-03-24T19:02:55.207137Z"
    }
   },
   "outputs": [],
   "source": [
    "df = df[df.location == 'California'].append(df[df.location != 'California']).reset_index(drop=True)"
   ]
  },
  {
   "cell_type": "code",
   "execution_count": null,
   "metadata": {},
   "outputs": [],
   "source": []
  },
  {
   "cell_type": "code",
   "execution_count": 15,
   "metadata": {
    "execution": {
     "iopub.execute_input": "2021-03-24T19:02:55.211771Z",
     "iopub.status.busy": "2021-03-24T19:02:55.210803Z",
     "iopub.status.idle": "2021-03-24T19:02:55.231019Z",
     "shell.execute_reply": "2021-03-24T19:02:55.231498Z"
    }
   },
   "outputs": [],
   "source": [
    "tz = pytz.timezone(\"America/New_York\")"
   ]
  },
  {
   "cell_type": "code",
   "execution_count": 16,
   "metadata": {
    "execution": {
     "iopub.execute_input": "2021-03-24T19:02:55.236406Z",
     "iopub.status.busy": "2021-03-24T19:02:55.234740Z",
     "iopub.status.idle": "2021-03-24T19:02:55.237152Z",
     "shell.execute_reply": "2021-03-24T19:02:55.237676Z"
    }
   },
   "outputs": [],
   "source": [
    "today = datetime.now(tz).date()"
   ]
  },
  {
   "cell_type": "code",
   "execution_count": 17,
   "metadata": {
    "execution": {
     "iopub.execute_input": "2021-03-24T19:02:55.242531Z",
     "iopub.status.busy": "2021-03-24T19:02:55.241085Z",
     "iopub.status.idle": "2021-03-24T19:02:55.243286Z",
     "shell.execute_reply": "2021-03-24T19:02:55.243762Z"
    }
   },
   "outputs": [],
   "source": [
    "data_dir = os.path.join(os.path.abspath(\"\"), \"data\")"
   ]
  },
  {
   "cell_type": "code",
   "execution_count": 18,
   "metadata": {
    "execution": {
     "iopub.execute_input": "2021-03-24T19:02:55.248980Z",
     "iopub.status.busy": "2021-03-24T19:02:55.247433Z",
     "iopub.status.idle": "2021-03-24T19:02:55.257677Z",
     "shell.execute_reply": "2021-03-24T19:02:55.258394Z"
    }
   },
   "outputs": [],
   "source": [
    "df.to_csv(os.path.join(data_dir, f\"{today}.csv\"), index=False)"
   ]
  },
  {
   "cell_type": "code",
   "execution_count": null,
   "metadata": {},
   "outputs": [],
   "source": []
  }
 ],
 "metadata": {
  "kernelspec": {
   "display_name": "Python 3",
   "language": "python",
   "name": "python3"
  },
  "language_info": {
   "codemirror_mode": {
    "name": "ipython",
    "version": 3
   },
   "file_extension": ".py",
   "mimetype": "text/x-python",
   "name": "python",
   "nbconvert_exporter": "python",
   "pygments_lexer": "ipython3",
   "version": "3.8.8"
  }
 },
 "nbformat": 4,
 "nbformat_minor": 4
}
