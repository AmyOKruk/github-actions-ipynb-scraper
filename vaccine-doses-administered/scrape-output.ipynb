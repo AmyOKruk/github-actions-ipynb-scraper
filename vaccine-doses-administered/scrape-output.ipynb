{
 "cells": [
  {
   "cell_type": "markdown",
   "metadata": {},
   "source": [
    "# California COVID vaccinations scrape"
   ]
  },
  {
   "cell_type": "markdown",
   "metadata": {},
   "source": [
    "By [Amy O'Kruk](https://twitter.com/amyokruk)"
   ]
  },
  {
   "cell_type": "markdown",
   "metadata": {},
   "source": [
    "Downloads data on vaccine doses administered by county and statewide from a Tableau-powered dashboard from the California Department of Public Health."
   ]
  },
  {
   "cell_type": "code",
   "execution_count": 1,
   "metadata": {
    "execution": {
     "iopub.execute_input": "2021-03-13T09:43:34.227916Z",
     "iopub.status.busy": "2021-03-13T09:43:34.226790Z",
     "iopub.status.idle": "2021-03-13T09:43:34.584994Z",
     "shell.execute_reply": "2021-03-13T09:43:34.584032Z"
    }
   },
   "outputs": [],
   "source": [
    "import pandas as pd\n",
    "import requests\n",
    "from bs4 import BeautifulSoup\n",
    "import json\n",
    "import re\n",
    "import time\n",
    "from time import gmtime, strftime \n",
    "import os\n",
    "import pytz\n",
    "from datetime import datetime"
   ]
  },
  {
   "cell_type": "markdown",
   "metadata": {},
   "source": [
    "Scrape the dashboard page"
   ]
  },
  {
   "cell_type": "code",
   "execution_count": 2,
   "metadata": {
    "execution": {
     "iopub.execute_input": "2021-03-13T09:43:34.590944Z",
     "iopub.status.busy": "2021-03-13T09:43:34.588723Z",
     "iopub.status.idle": "2021-03-13T09:43:35.639429Z",
     "shell.execute_reply": "2021-03-13T09:43:35.638815Z"
    }
   },
   "outputs": [],
   "source": [
    "url = \"https://public.tableau.com/interactive/views/COVID-19VaccineDashboardPublic/Vaccine?:embed=y&:showVizHome=n&:apiID=host0\"\n",
    "\n",
    "r = requests.get(url)\n",
    "soup = BeautifulSoup(r.text, \"html.parser\")"
   ]
  },
  {
   "cell_type": "code",
   "execution_count": 3,
   "metadata": {
    "execution": {
     "iopub.execute_input": "2021-03-13T09:43:35.644915Z",
     "iopub.status.busy": "2021-03-13T09:43:35.644304Z",
     "iopub.status.idle": "2021-03-13T09:43:35.648440Z",
     "shell.execute_reply": "2021-03-13T09:43:35.647929Z"
    }
   },
   "outputs": [],
   "source": [
    "tableauData = json.loads(soup.find(\"textarea\",{\"id\": \"tsConfigContainer\"}).text)"
   ]
  },
  {
   "cell_type": "markdown",
   "metadata": {},
   "source": [
    "Get the link to the Tableau data"
   ]
  },
  {
   "cell_type": "code",
   "execution_count": 4,
   "metadata": {
    "execution": {
     "iopub.execute_input": "2021-03-13T09:43:35.652329Z",
     "iopub.status.busy": "2021-03-13T09:43:35.651729Z",
     "iopub.status.idle": "2021-03-13T09:43:35.656033Z",
     "shell.execute_reply": "2021-03-13T09:43:35.655402Z"
    }
   },
   "outputs": [],
   "source": [
    "dataUrl = f'https://public.tableau.com{tableauData[\"vizql_root\"]}/bootstrapSession/sessions/{tableauData[\"sessionid\"]}'"
   ]
  },
  {
   "cell_type": "code",
   "execution_count": 5,
   "metadata": {
    "execution": {
     "iopub.execute_input": "2021-03-13T09:43:35.662785Z",
     "iopub.status.busy": "2021-03-13T09:43:35.662192Z",
     "iopub.status.idle": "2021-03-13T09:43:36.626632Z",
     "shell.execute_reply": "2021-03-13T09:43:36.625887Z"
    }
   },
   "outputs": [],
   "source": [
    "r = requests.post(dataUrl, data= {\n",
    "    \"sheet_id\": tableauData[\"sheetId\"],\n",
    "})\n",
    "\n",
    "dataReg = re.search('\\d+;({.*})\\d+;({.*})', r.text, re.MULTILINE)\n",
    "data1 = json.loads(dataReg.group(2))\n",
    "\n",
    "dataJson = data1[\"secondaryInfo\"][\"presModelMap\"][\"dataDictionary\"][\"presModelHolder\"][\"genDataDictionaryPresModel\"][\"dataSegments\"][\"0\"][\"dataColumns\"]"
   ]
  },
  {
   "cell_type": "markdown",
   "metadata": {},
   "source": [
    "Isolate what you want"
   ]
  },
  {
   "cell_type": "code",
   "execution_count": 6,
   "metadata": {
    "execution": {
     "iopub.execute_input": "2021-03-13T09:43:36.632499Z",
     "iopub.status.busy": "2021-03-13T09:43:36.630792Z",
     "iopub.status.idle": "2021-03-13T09:43:36.633209Z",
     "shell.execute_reply": "2021-03-13T09:43:36.633769Z"
    }
   },
   "outputs": [],
   "source": [
    "counties = dataJson[2]['dataValues'][:58]"
   ]
  },
  {
   "cell_type": "code",
   "execution_count": 7,
   "metadata": {
    "execution": {
     "iopub.execute_input": "2021-03-13T09:43:36.640162Z",
     "iopub.status.busy": "2021-03-13T09:43:36.637598Z",
     "iopub.status.idle": "2021-03-13T09:43:36.643346Z",
     "shell.execute_reply": "2021-03-13T09:43:36.642673Z"
    }
   },
   "outputs": [],
   "source": [
    "doses = dataJson[0]['dataValues'][3:61]"
   ]
  },
  {
   "cell_type": "markdown",
   "metadata": {},
   "source": [
    "Data formatting"
   ]
  },
  {
   "cell_type": "code",
   "execution_count": 8,
   "metadata": {
    "execution": {
     "iopub.execute_input": "2021-03-13T09:43:36.650994Z",
     "iopub.status.busy": "2021-03-13T09:43:36.649406Z",
     "iopub.status.idle": "2021-03-13T09:43:36.651677Z",
     "shell.execute_reply": "2021-03-13T09:43:36.652208Z"
    }
   },
   "outputs": [],
   "source": [
    "zipped = dict(zip(counties, doses))"
   ]
  },
  {
   "cell_type": "code",
   "execution_count": 9,
   "metadata": {
    "execution": {
     "iopub.execute_input": "2021-03-13T09:43:36.658733Z",
     "iopub.status.busy": "2021-03-13T09:43:36.658106Z",
     "iopub.status.idle": "2021-03-13T09:43:36.660538Z",
     "shell.execute_reply": "2021-03-13T09:43:36.661070Z"
    }
   },
   "outputs": [],
   "source": [
    "df = pd.Series(zipped).reset_index()"
   ]
  },
  {
   "cell_type": "code",
   "execution_count": 10,
   "metadata": {
    "execution": {
     "iopub.execute_input": "2021-03-13T09:43:36.666062Z",
     "iopub.status.busy": "2021-03-13T09:43:36.664690Z",
     "iopub.status.idle": "2021-03-13T09:43:36.666828Z",
     "shell.execute_reply": "2021-03-13T09:43:36.667374Z"
    }
   },
   "outputs": [],
   "source": [
    "df.columns = ['location','doses']"
   ]
  },
  {
   "cell_type": "markdown",
   "metadata": {},
   "source": [
    "Grab the overall California total"
   ]
  },
  {
   "cell_type": "code",
   "execution_count": 11,
   "metadata": {
    "execution": {
     "iopub.execute_input": "2021-03-13T09:43:36.673102Z",
     "iopub.status.busy": "2021-03-13T09:43:36.671426Z",
     "iopub.status.idle": "2021-03-13T09:43:36.673903Z",
     "shell.execute_reply": "2021-03-13T09:43:36.674494Z"
    }
   },
   "outputs": [],
   "source": [
    "add = {'location':'California','doses':dataJson[0]['dataValues'][2]}"
   ]
  },
  {
   "cell_type": "code",
   "execution_count": 12,
   "metadata": {
    "execution": {
     "iopub.execute_input": "2021-03-13T09:43:36.682572Z",
     "iopub.status.busy": "2021-03-13T09:43:36.681193Z",
     "iopub.status.idle": "2021-03-13T09:43:36.683282Z",
     "shell.execute_reply": "2021-03-13T09:43:36.683800Z"
    }
   },
   "outputs": [],
   "source": [
    "df = df.append(add, ignore_index=True)"
   ]
  },
  {
   "cell_type": "code",
   "execution_count": 13,
   "metadata": {
    "execution": {
     "iopub.execute_input": "2021-03-13T09:43:36.689418Z",
     "iopub.status.busy": "2021-03-13T09:43:36.688011Z",
     "iopub.status.idle": "2021-03-13T09:43:36.690070Z",
     "shell.execute_reply": "2021-03-13T09:43:36.690566Z"
    }
   },
   "outputs": [],
   "source": [
    "df = df.sort_values(by='location')"
   ]
  },
  {
   "cell_type": "code",
   "execution_count": 14,
   "metadata": {
    "execution": {
     "iopub.execute_input": "2021-03-13T09:43:36.697428Z",
     "iopub.status.busy": "2021-03-13T09:43:36.696088Z",
     "iopub.status.idle": "2021-03-13T09:43:36.698077Z",
     "shell.execute_reply": "2021-03-13T09:43:36.698565Z"
    }
   },
   "outputs": [],
   "source": [
    "df = df[df.location == 'California'].append(df[df.location != 'California']).reset_index(drop=True)"
   ]
  },
  {
   "cell_type": "code",
   "execution_count": null,
   "metadata": {},
   "outputs": [],
   "source": []
  },
  {
   "cell_type": "code",
   "execution_count": 15,
   "metadata": {
    "execution": {
     "iopub.execute_input": "2021-03-13T09:43:36.702103Z",
     "iopub.status.busy": "2021-03-13T09:43:36.701526Z",
     "iopub.status.idle": "2021-03-13T09:43:36.720758Z",
     "shell.execute_reply": "2021-03-13T09:43:36.721204Z"
    }
   },
   "outputs": [],
   "source": [
    "tz = pytz.timezone(\"America/New_York\")"
   ]
  },
  {
   "cell_type": "code",
   "execution_count": 16,
   "metadata": {
    "execution": {
     "iopub.execute_input": "2021-03-13T09:43:36.725712Z",
     "iopub.status.busy": "2021-03-13T09:43:36.724354Z",
     "iopub.status.idle": "2021-03-13T09:43:36.726329Z",
     "shell.execute_reply": "2021-03-13T09:43:36.726809Z"
    }
   },
   "outputs": [],
   "source": [
    "today = datetime.now(tz).date()"
   ]
  },
  {
   "cell_type": "code",
   "execution_count": 17,
   "metadata": {
    "execution": {
     "iopub.execute_input": "2021-03-13T09:43:36.731248Z",
     "iopub.status.busy": "2021-03-13T09:43:36.729943Z",
     "iopub.status.idle": "2021-03-13T09:43:36.731877Z",
     "shell.execute_reply": "2021-03-13T09:43:36.732350Z"
    }
   },
   "outputs": [],
   "source": [
    "data_dir = os.path.join(os.path.abspath(\"\"), \"data\")"
   ]
  },
  {
   "cell_type": "code",
   "execution_count": 18,
   "metadata": {
    "execution": {
     "iopub.execute_input": "2021-03-13T09:43:36.736706Z",
     "iopub.status.busy": "2021-03-13T09:43:36.735700Z",
     "iopub.status.idle": "2021-03-13T09:43:36.740385Z",
     "shell.execute_reply": "2021-03-13T09:43:36.739916Z"
    }
   },
   "outputs": [],
   "source": [
    "df.to_csv(os.path.join(data_dir, f\"{today}.csv\"), index=False)"
   ]
  },
  {
   "cell_type": "code",
   "execution_count": null,
   "metadata": {},
   "outputs": [],
   "source": []
  }
 ],
 "metadata": {
  "kernelspec": {
   "display_name": "Python 3",
   "language": "python",
   "name": "python3"
  },
  "language_info": {
   "codemirror_mode": {
    "name": "ipython",
    "version": 3
   },
   "file_extension": ".py",
   "mimetype": "text/x-python",
   "name": "python",
   "nbconvert_exporter": "python",
   "pygments_lexer": "ipython3",
   "version": "3.8.8"
  }
 },
 "nbformat": 4,
 "nbformat_minor": 4
}
