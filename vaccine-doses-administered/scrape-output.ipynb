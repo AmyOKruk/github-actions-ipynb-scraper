{
 "cells": [
  {
   "cell_type": "markdown",
   "metadata": {},
   "source": [
    "# California COVID vaccinations scrape"
   ]
  },
  {
   "cell_type": "markdown",
   "metadata": {},
   "source": [
    "By [Amy O'Kruk](https://twitter.com/amyokruk)"
   ]
  },
  {
   "cell_type": "markdown",
   "metadata": {},
   "source": [
    "Downloads data on vaccine doses administered by county and statewide from a Tableau-powered dashboard from the California Department of Public Health."
   ]
  },
  {
   "cell_type": "code",
   "execution_count": 1,
   "metadata": {
    "execution": {
     "iopub.execute_input": "2021-03-22T07:16:39.757830Z",
     "iopub.status.busy": "2021-03-22T07:16:39.757209Z",
     "iopub.status.idle": "2021-03-22T07:16:40.114658Z",
     "shell.execute_reply": "2021-03-22T07:16:40.114124Z"
    }
   },
   "outputs": [],
   "source": [
    "import pandas as pd\n",
    "import requests\n",
    "from bs4 import BeautifulSoup\n",
    "import json\n",
    "import re\n",
    "import time\n",
    "from time import gmtime, strftime \n",
    "import os\n",
    "import pytz\n",
    "from datetime import datetime"
   ]
  },
  {
   "cell_type": "markdown",
   "metadata": {},
   "source": [
    "Scrape the dashboard page"
   ]
  },
  {
   "cell_type": "code",
   "execution_count": 2,
   "metadata": {
    "execution": {
     "iopub.execute_input": "2021-03-22T07:16:40.119687Z",
     "iopub.status.busy": "2021-03-22T07:16:40.117589Z",
     "iopub.status.idle": "2021-03-22T07:16:40.454222Z",
     "shell.execute_reply": "2021-03-22T07:16:40.453730Z"
    }
   },
   "outputs": [],
   "source": [
    "url = \"https://public.tableau.com/interactive/views/COVID-19VaccineDashboardPublic/Vaccine?:embed=y&:showVizHome=n&:apiID=host0\"\n",
    "\n",
    "r = requests.get(url)\n",
    "soup = BeautifulSoup(r.text, \"html.parser\")"
   ]
  },
  {
   "cell_type": "code",
   "execution_count": 3,
   "metadata": {
    "execution": {
     "iopub.execute_input": "2021-03-22T07:16:40.458665Z",
     "iopub.status.busy": "2021-03-22T07:16:40.458142Z",
     "iopub.status.idle": "2021-03-22T07:16:40.461797Z",
     "shell.execute_reply": "2021-03-22T07:16:40.461352Z"
    }
   },
   "outputs": [],
   "source": [
    "tableauData = json.loads(soup.find(\"textarea\",{\"id\": \"tsConfigContainer\"}).text)"
   ]
  },
  {
   "cell_type": "markdown",
   "metadata": {},
   "source": [
    "Get the link to the Tableau data"
   ]
  },
  {
   "cell_type": "code",
   "execution_count": 4,
   "metadata": {
    "execution": {
     "iopub.execute_input": "2021-03-22T07:16:40.465380Z",
     "iopub.status.busy": "2021-03-22T07:16:40.464880Z",
     "iopub.status.idle": "2021-03-22T07:16:40.468229Z",
     "shell.execute_reply": "2021-03-22T07:16:40.468622Z"
    }
   },
   "outputs": [],
   "source": [
    "dataUrl = f'https://public.tableau.com{tableauData[\"vizql_root\"]}/bootstrapSession/sessions/{tableauData[\"sessionid\"]}'"
   ]
  },
  {
   "cell_type": "code",
   "execution_count": 5,
   "metadata": {
    "execution": {
     "iopub.execute_input": "2021-03-22T07:16:40.474526Z",
     "iopub.status.busy": "2021-03-22T07:16:40.474008Z",
     "iopub.status.idle": "2021-03-22T07:16:40.602332Z",
     "shell.execute_reply": "2021-03-22T07:16:40.601898Z"
    }
   },
   "outputs": [],
   "source": [
    "r = requests.post(dataUrl, data= {\n",
    "    \"sheet_id\": tableauData[\"sheetId\"],\n",
    "})\n",
    "\n",
    "dataReg = re.search('\\d+;({.*})\\d+;({.*})', r.text, re.MULTILINE)\n",
    "data1 = json.loads(dataReg.group(2))\n",
    "\n",
    "dataJson = data1[\"secondaryInfo\"][\"presModelMap\"][\"dataDictionary\"][\"presModelHolder\"][\"genDataDictionaryPresModel\"][\"dataSegments\"][\"0\"][\"dataColumns\"]"
   ]
  },
  {
   "cell_type": "markdown",
   "metadata": {},
   "source": [
    "Isolate what you want"
   ]
  },
  {
   "cell_type": "code",
   "execution_count": 6,
   "metadata": {
    "execution": {
     "iopub.execute_input": "2021-03-22T07:16:40.607773Z",
     "iopub.status.busy": "2021-03-22T07:16:40.607284Z",
     "iopub.status.idle": "2021-03-22T07:16:40.610887Z",
     "shell.execute_reply": "2021-03-22T07:16:40.610122Z"
    }
   },
   "outputs": [],
   "source": [
    "counties = dataJson[2]['dataValues'][:58]"
   ]
  },
  {
   "cell_type": "code",
   "execution_count": 7,
   "metadata": {
    "execution": {
     "iopub.execute_input": "2021-03-22T07:16:40.614157Z",
     "iopub.status.busy": "2021-03-22T07:16:40.612738Z",
     "iopub.status.idle": "2021-03-22T07:16:40.616704Z",
     "shell.execute_reply": "2021-03-22T07:16:40.617085Z"
    }
   },
   "outputs": [],
   "source": [
    "doses = dataJson[0]['dataValues'][3:61]"
   ]
  },
  {
   "cell_type": "markdown",
   "metadata": {},
   "source": [
    "Data formatting"
   ]
  },
  {
   "cell_type": "code",
   "execution_count": 8,
   "metadata": {
    "execution": {
     "iopub.execute_input": "2021-03-22T07:16:40.620527Z",
     "iopub.status.busy": "2021-03-22T07:16:40.620056Z",
     "iopub.status.idle": "2021-03-22T07:16:40.623027Z",
     "shell.execute_reply": "2021-03-22T07:16:40.623397Z"
    }
   },
   "outputs": [],
   "source": [
    "zipped = dict(zip(counties, doses))"
   ]
  },
  {
   "cell_type": "code",
   "execution_count": 9,
   "metadata": {
    "execution": {
     "iopub.execute_input": "2021-03-22T07:16:40.628381Z",
     "iopub.status.busy": "2021-03-22T07:16:40.627919Z",
     "iopub.status.idle": "2021-03-22T07:16:40.631240Z",
     "shell.execute_reply": "2021-03-22T07:16:40.630820Z"
    }
   },
   "outputs": [],
   "source": [
    "df = pd.Series(zipped).reset_index()"
   ]
  },
  {
   "cell_type": "code",
   "execution_count": 10,
   "metadata": {
    "execution": {
     "iopub.execute_input": "2021-03-22T07:16:40.634400Z",
     "iopub.status.busy": "2021-03-22T07:16:40.633936Z",
     "iopub.status.idle": "2021-03-22T07:16:40.637109Z",
     "shell.execute_reply": "2021-03-22T07:16:40.637505Z"
    }
   },
   "outputs": [],
   "source": [
    "df.columns = ['location','doses']"
   ]
  },
  {
   "cell_type": "markdown",
   "metadata": {},
   "source": [
    "Grab the overall California total"
   ]
  },
  {
   "cell_type": "code",
   "execution_count": 11,
   "metadata": {
    "execution": {
     "iopub.execute_input": "2021-03-22T07:16:40.640698Z",
     "iopub.status.busy": "2021-03-22T07:16:40.640235Z",
     "iopub.status.idle": "2021-03-22T07:16:40.643538Z",
     "shell.execute_reply": "2021-03-22T07:16:40.643120Z"
    }
   },
   "outputs": [],
   "source": [
    "add = {'location':'California','doses':dataJson[0]['dataValues'][2]}"
   ]
  },
  {
   "cell_type": "code",
   "execution_count": 12,
   "metadata": {
    "execution": {
     "iopub.execute_input": "2021-03-22T07:16:40.649073Z",
     "iopub.status.busy": "2021-03-22T07:16:40.648610Z",
     "iopub.status.idle": "2021-03-22T07:16:40.652229Z",
     "shell.execute_reply": "2021-03-22T07:16:40.651800Z"
    }
   },
   "outputs": [],
   "source": [
    "df = df.append(add, ignore_index=True)"
   ]
  },
  {
   "cell_type": "code",
   "execution_count": 13,
   "metadata": {
    "execution": {
     "iopub.execute_input": "2021-03-22T07:16:40.656198Z",
     "iopub.status.busy": "2021-03-22T07:16:40.655734Z",
     "iopub.status.idle": "2021-03-22T07:16:40.659100Z",
     "shell.execute_reply": "2021-03-22T07:16:40.658691Z"
    }
   },
   "outputs": [],
   "source": [
    "df = df.sort_values(by='location')"
   ]
  },
  {
   "cell_type": "code",
   "execution_count": 14,
   "metadata": {
    "execution": {
     "iopub.execute_input": "2021-03-22T07:16:40.664061Z",
     "iopub.status.busy": "2021-03-22T07:16:40.663593Z",
     "iopub.status.idle": "2021-03-22T07:16:40.666914Z",
     "shell.execute_reply": "2021-03-22T07:16:40.667316Z"
    }
   },
   "outputs": [],
   "source": [
    "df = df[df.location == 'California'].append(df[df.location != 'California']).reset_index(drop=True)"
   ]
  },
  {
   "cell_type": "code",
   "execution_count": null,
   "metadata": {},
   "outputs": [],
   "source": []
  },
  {
   "cell_type": "code",
   "execution_count": 15,
   "metadata": {
    "execution": {
     "iopub.execute_input": "2021-03-22T07:16:40.670942Z",
     "iopub.status.busy": "2021-03-22T07:16:40.670117Z",
     "iopub.status.idle": "2021-03-22T07:16:40.687638Z",
     "shell.execute_reply": "2021-03-22T07:16:40.686992Z"
    }
   },
   "outputs": [],
   "source": [
    "tz = pytz.timezone(\"America/New_York\")"
   ]
  },
  {
   "cell_type": "code",
   "execution_count": 16,
   "metadata": {
    "execution": {
     "iopub.execute_input": "2021-03-22T07:16:40.690793Z",
     "iopub.status.busy": "2021-03-22T07:16:40.690283Z",
     "iopub.status.idle": "2021-03-22T07:16:40.693703Z",
     "shell.execute_reply": "2021-03-22T07:16:40.693082Z"
    }
   },
   "outputs": [],
   "source": [
    "today = datetime.now(tz).date()"
   ]
  },
  {
   "cell_type": "code",
   "execution_count": 17,
   "metadata": {
    "execution": {
     "iopub.execute_input": "2021-03-22T07:16:40.696990Z",
     "iopub.status.busy": "2021-03-22T07:16:40.696426Z",
     "iopub.status.idle": "2021-03-22T07:16:40.700177Z",
     "shell.execute_reply": "2021-03-22T07:16:40.699408Z"
    }
   },
   "outputs": [],
   "source": [
    "data_dir = os.path.join(os.path.abspath(\"\"), \"data\")"
   ]
  },
  {
   "cell_type": "code",
   "execution_count": 18,
   "metadata": {
    "execution": {
     "iopub.execute_input": "2021-03-22T07:16:40.703961Z",
     "iopub.status.busy": "2021-03-22T07:16:40.703420Z",
     "iopub.status.idle": "2021-03-22T07:16:40.708130Z",
     "shell.execute_reply": "2021-03-22T07:16:40.708524Z"
    }
   },
   "outputs": [],
   "source": [
    "df.to_csv(os.path.join(data_dir, f\"{today}.csv\"), index=False)"
   ]
  },
  {
   "cell_type": "code",
   "execution_count": null,
   "metadata": {},
   "outputs": [],
   "source": []
  }
 ],
 "metadata": {
  "kernelspec": {
   "display_name": "Python 3",
   "language": "python",
   "name": "python3"
  },
  "language_info": {
   "codemirror_mode": {
    "name": "ipython",
    "version": 3
   },
   "file_extension": ".py",
   "mimetype": "text/x-python",
   "name": "python",
   "nbconvert_exporter": "python",
   "pygments_lexer": "ipython3",
   "version": "3.8.8"
  }
 },
 "nbformat": 4,
 "nbformat_minor": 4
}
