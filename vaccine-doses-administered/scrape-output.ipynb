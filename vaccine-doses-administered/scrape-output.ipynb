{
 "cells": [
  {
   "cell_type": "markdown",
   "metadata": {},
   "source": [
    "# California COVID vaccinations scrape"
   ]
  },
  {
   "cell_type": "markdown",
   "metadata": {},
   "source": [
    "By [Amy O'Kruk](https://twitter.com/amyokruk)"
   ]
  },
  {
   "cell_type": "markdown",
   "metadata": {},
   "source": [
    "Downloads data on vaccine doses administered by county and statewide from a Tableau-powered dashboard from the California Department of Public Health."
   ]
  },
  {
   "cell_type": "code",
   "execution_count": 1,
   "metadata": {
    "execution": {
     "iopub.execute_input": "2021-03-15T10:44:16.527326Z",
     "iopub.status.busy": "2021-03-15T10:44:16.525951Z",
     "iopub.status.idle": "2021-03-15T10:44:17.107791Z",
     "shell.execute_reply": "2021-03-15T10:44:17.106541Z"
    }
   },
   "outputs": [],
   "source": [
    "import pandas as pd\n",
    "import requests\n",
    "from bs4 import BeautifulSoup\n",
    "import json\n",
    "import re\n",
    "import time\n",
    "from time import gmtime, strftime \n",
    "import os\n",
    "import pytz\n",
    "from datetime import datetime"
   ]
  },
  {
   "cell_type": "markdown",
   "metadata": {},
   "source": [
    "Scrape the dashboard page"
   ]
  },
  {
   "cell_type": "code",
   "execution_count": 2,
   "metadata": {
    "execution": {
     "iopub.execute_input": "2021-03-15T10:44:17.115321Z",
     "iopub.status.busy": "2021-03-15T10:44:17.112672Z",
     "iopub.status.idle": "2021-03-15T10:44:17.677111Z",
     "shell.execute_reply": "2021-03-15T10:44:17.676531Z"
    }
   },
   "outputs": [],
   "source": [
    "url = \"https://public.tableau.com/interactive/views/COVID-19VaccineDashboardPublic/Vaccine?:embed=y&:showVizHome=n&:apiID=host0\"\n",
    "\n",
    "r = requests.get(url)\n",
    "soup = BeautifulSoup(r.text, \"html.parser\")"
   ]
  },
  {
   "cell_type": "code",
   "execution_count": 3,
   "metadata": {
    "execution": {
     "iopub.execute_input": "2021-03-15T10:44:17.682887Z",
     "iopub.status.busy": "2021-03-15T10:44:17.682245Z",
     "iopub.status.idle": "2021-03-15T10:44:17.685941Z",
     "shell.execute_reply": "2021-03-15T10:44:17.686474Z"
    }
   },
   "outputs": [],
   "source": [
    "tableauData = json.loads(soup.find(\"textarea\",{\"id\": \"tsConfigContainer\"}).text)"
   ]
  },
  {
   "cell_type": "markdown",
   "metadata": {},
   "source": [
    "Get the link to the Tableau data"
   ]
  },
  {
   "cell_type": "code",
   "execution_count": 4,
   "metadata": {
    "execution": {
     "iopub.execute_input": "2021-03-15T10:44:17.692227Z",
     "iopub.status.busy": "2021-03-15T10:44:17.690614Z",
     "iopub.status.idle": "2021-03-15T10:44:17.692926Z",
     "shell.execute_reply": "2021-03-15T10:44:17.693449Z"
    }
   },
   "outputs": [],
   "source": [
    "dataUrl = f'https://public.tableau.com{tableauData[\"vizql_root\"]}/bootstrapSession/sessions/{tableauData[\"sessionid\"]}'"
   ]
  },
  {
   "cell_type": "code",
   "execution_count": 5,
   "metadata": {
    "execution": {
     "iopub.execute_input": "2021-03-15T10:44:17.701978Z",
     "iopub.status.busy": "2021-03-15T10:44:17.701235Z",
     "iopub.status.idle": "2021-03-15T10:44:17.930023Z",
     "shell.execute_reply": "2021-03-15T10:44:17.929422Z"
    }
   },
   "outputs": [],
   "source": [
    "r = requests.post(dataUrl, data= {\n",
    "    \"sheet_id\": tableauData[\"sheetId\"],\n",
    "})\n",
    "\n",
    "dataReg = re.search('\\d+;({.*})\\d+;({.*})', r.text, re.MULTILINE)\n",
    "data1 = json.loads(dataReg.group(2))\n",
    "\n",
    "dataJson = data1[\"secondaryInfo\"][\"presModelMap\"][\"dataDictionary\"][\"presModelHolder\"][\"genDataDictionaryPresModel\"][\"dataSegments\"][\"0\"][\"dataColumns\"]"
   ]
  },
  {
   "cell_type": "markdown",
   "metadata": {},
   "source": [
    "Isolate what you want"
   ]
  },
  {
   "cell_type": "code",
   "execution_count": 6,
   "metadata": {
    "execution": {
     "iopub.execute_input": "2021-03-15T10:44:17.936179Z",
     "iopub.status.busy": "2021-03-15T10:44:17.934482Z",
     "iopub.status.idle": "2021-03-15T10:44:17.936860Z",
     "shell.execute_reply": "2021-03-15T10:44:17.937496Z"
    }
   },
   "outputs": [],
   "source": [
    "counties = dataJson[2]['dataValues'][:58]"
   ]
  },
  {
   "cell_type": "code",
   "execution_count": 7,
   "metadata": {
    "execution": {
     "iopub.execute_input": "2021-03-15T10:44:17.943426Z",
     "iopub.status.busy": "2021-03-15T10:44:17.941762Z",
     "iopub.status.idle": "2021-03-15T10:44:17.944118Z",
     "shell.execute_reply": "2021-03-15T10:44:17.944642Z"
    }
   },
   "outputs": [],
   "source": [
    "doses = dataJson[0]['dataValues'][3:61]"
   ]
  },
  {
   "cell_type": "markdown",
   "metadata": {},
   "source": [
    "Data formatting"
   ]
  },
  {
   "cell_type": "code",
   "execution_count": 8,
   "metadata": {
    "execution": {
     "iopub.execute_input": "2021-03-15T10:44:17.951053Z",
     "iopub.status.busy": "2021-03-15T10:44:17.949418Z",
     "iopub.status.idle": "2021-03-15T10:44:17.951747Z",
     "shell.execute_reply": "2021-03-15T10:44:17.952272Z"
    }
   },
   "outputs": [],
   "source": [
    "zipped = dict(zip(counties, doses))"
   ]
  },
  {
   "cell_type": "code",
   "execution_count": 9,
   "metadata": {
    "execution": {
     "iopub.execute_input": "2021-03-15T10:44:17.961672Z",
     "iopub.status.busy": "2021-03-15T10:44:17.960896Z",
     "iopub.status.idle": "2021-03-15T10:44:17.962914Z",
     "shell.execute_reply": "2021-03-15T10:44:17.962330Z"
    }
   },
   "outputs": [],
   "source": [
    "df = pd.Series(zipped).reset_index()"
   ]
  },
  {
   "cell_type": "code",
   "execution_count": 10,
   "metadata": {
    "execution": {
     "iopub.execute_input": "2021-03-15T10:44:17.969334Z",
     "iopub.status.busy": "2021-03-15T10:44:17.967796Z",
     "iopub.status.idle": "2021-03-15T10:44:17.970020Z",
     "shell.execute_reply": "2021-03-15T10:44:17.970576Z"
    }
   },
   "outputs": [],
   "source": [
    "df.columns = ['location','doses']"
   ]
  },
  {
   "cell_type": "markdown",
   "metadata": {},
   "source": [
    "Grab the overall California total"
   ]
  },
  {
   "cell_type": "code",
   "execution_count": 11,
   "metadata": {
    "execution": {
     "iopub.execute_input": "2021-03-15T10:44:17.976512Z",
     "iopub.status.busy": "2021-03-15T10:44:17.974901Z",
     "iopub.status.idle": "2021-03-15T10:44:17.977211Z",
     "shell.execute_reply": "2021-03-15T10:44:17.977738Z"
    }
   },
   "outputs": [],
   "source": [
    "add = {'location':'California','doses':dataJson[0]['dataValues'][2]}"
   ]
  },
  {
   "cell_type": "code",
   "execution_count": 12,
   "metadata": {
    "execution": {
     "iopub.execute_input": "2021-03-15T10:44:17.988069Z",
     "iopub.status.busy": "2021-03-15T10:44:17.986400Z",
     "iopub.status.idle": "2021-03-15T10:44:17.988767Z",
     "shell.execute_reply": "2021-03-15T10:44:17.989289Z"
    }
   },
   "outputs": [],
   "source": [
    "df = df.append(add, ignore_index=True)"
   ]
  },
  {
   "cell_type": "code",
   "execution_count": 13,
   "metadata": {
    "execution": {
     "iopub.execute_input": "2021-03-15T10:44:17.996576Z",
     "iopub.status.busy": "2021-03-15T10:44:17.994894Z",
     "iopub.status.idle": "2021-03-15T10:44:17.997277Z",
     "shell.execute_reply": "2021-03-15T10:44:17.997966Z"
    }
   },
   "outputs": [],
   "source": [
    "df = df.sort_values(by='location')"
   ]
  },
  {
   "cell_type": "code",
   "execution_count": 14,
   "metadata": {
    "execution": {
     "iopub.execute_input": "2021-03-15T10:44:18.007332Z",
     "iopub.status.busy": "2021-03-15T10:44:18.005644Z",
     "iopub.status.idle": "2021-03-15T10:44:18.008033Z",
     "shell.execute_reply": "2021-03-15T10:44:18.008557Z"
    }
   },
   "outputs": [],
   "source": [
    "df = df[df.location == 'California'].append(df[df.location != 'California']).reset_index(drop=True)"
   ]
  },
  {
   "cell_type": "code",
   "execution_count": null,
   "metadata": {},
   "outputs": [],
   "source": []
  },
  {
   "cell_type": "code",
   "execution_count": 15,
   "metadata": {
    "execution": {
     "iopub.execute_input": "2021-03-15T10:44:18.013313Z",
     "iopub.status.busy": "2021-03-15T10:44:18.012602Z",
     "iopub.status.idle": "2021-03-15T10:44:18.035078Z",
     "shell.execute_reply": "2021-03-15T10:44:18.034467Z"
    }
   },
   "outputs": [],
   "source": [
    "tz = pytz.timezone(\"America/New_York\")"
   ]
  },
  {
   "cell_type": "code",
   "execution_count": 16,
   "metadata": {
    "execution": {
     "iopub.execute_input": "2021-03-15T10:44:18.040572Z",
     "iopub.status.busy": "2021-03-15T10:44:18.039142Z",
     "iopub.status.idle": "2021-03-15T10:44:18.041271Z",
     "shell.execute_reply": "2021-03-15T10:44:18.041792Z"
    }
   },
   "outputs": [],
   "source": [
    "today = datetime.now(tz).date()"
   ]
  },
  {
   "cell_type": "code",
   "execution_count": 17,
   "metadata": {
    "execution": {
     "iopub.execute_input": "2021-03-15T10:44:18.047832Z",
     "iopub.status.busy": "2021-03-15T10:44:18.046277Z",
     "iopub.status.idle": "2021-03-15T10:44:18.048545Z",
     "shell.execute_reply": "2021-03-15T10:44:18.049067Z"
    }
   },
   "outputs": [],
   "source": [
    "data_dir = os.path.join(os.path.abspath(\"\"), \"data\")"
   ]
  },
  {
   "cell_type": "code",
   "execution_count": 18,
   "metadata": {
    "execution": {
     "iopub.execute_input": "2021-03-15T10:44:18.054719Z",
     "iopub.status.busy": "2021-03-15T10:44:18.053180Z",
     "iopub.status.idle": "2021-03-15T10:44:18.058939Z",
     "shell.execute_reply": "2021-03-15T10:44:18.058293Z"
    }
   },
   "outputs": [],
   "source": [
    "df.to_csv(os.path.join(data_dir, f\"{today}.csv\"), index=False)"
   ]
  },
  {
   "cell_type": "code",
   "execution_count": null,
   "metadata": {},
   "outputs": [],
   "source": []
  }
 ],
 "metadata": {
  "kernelspec": {
   "display_name": "Python 3",
   "language": "python",
   "name": "python3"
  },
  "language_info": {
   "codemirror_mode": {
    "name": "ipython",
    "version": 3
   },
   "file_extension": ".py",
   "mimetype": "text/x-python",
   "name": "python",
   "nbconvert_exporter": "python",
   "pygments_lexer": "ipython3",
   "version": "3.8.8"
  }
 },
 "nbformat": 4,
 "nbformat_minor": 4
}
