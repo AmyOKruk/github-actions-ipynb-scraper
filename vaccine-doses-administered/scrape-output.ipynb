{
 "cells": [
  {
   "cell_type": "markdown",
   "metadata": {},
   "source": [
    "# California COVID vaccinations scrape"
   ]
  },
  {
   "cell_type": "markdown",
   "metadata": {},
   "source": [
    "By [Amy O'Kruk](https://twitter.com/amyokruk)"
   ]
  },
  {
   "cell_type": "markdown",
   "metadata": {},
   "source": [
    "Downloads data on vaccine doses administered by county and statewide from a Tableau-powered dashboard from the California Department of Public Health."
   ]
  },
  {
   "cell_type": "code",
   "execution_count": 1,
   "metadata": {
    "execution": {
     "iopub.execute_input": "2021-03-15T12:16:51.142286Z",
     "iopub.status.busy": "2021-03-15T12:16:51.141667Z",
     "iopub.status.idle": "2021-03-15T12:16:51.663665Z",
     "shell.execute_reply": "2021-03-15T12:16:51.663054Z"
    }
   },
   "outputs": [],
   "source": [
    "import pandas as pd\n",
    "import requests\n",
    "from bs4 import BeautifulSoup\n",
    "import json\n",
    "import re\n",
    "import time\n",
    "from time import gmtime, strftime \n",
    "import os\n",
    "import pytz\n",
    "from datetime import datetime"
   ]
  },
  {
   "cell_type": "markdown",
   "metadata": {},
   "source": [
    "Scrape the dashboard page"
   ]
  },
  {
   "cell_type": "code",
   "execution_count": 2,
   "metadata": {
    "execution": {
     "iopub.execute_input": "2021-03-15T12:16:51.669558Z",
     "iopub.status.busy": "2021-03-15T12:16:51.667442Z",
     "iopub.status.idle": "2021-03-15T12:16:52.506811Z",
     "shell.execute_reply": "2021-03-15T12:16:52.505755Z"
    }
   },
   "outputs": [],
   "source": [
    "url = \"https://public.tableau.com/interactive/views/COVID-19VaccineDashboardPublic/Vaccine?:embed=y&:showVizHome=n&:apiID=host0\"\n",
    "\n",
    "r = requests.get(url)\n",
    "soup = BeautifulSoup(r.text, \"html.parser\")"
   ]
  },
  {
   "cell_type": "code",
   "execution_count": 3,
   "metadata": {
    "execution": {
     "iopub.execute_input": "2021-03-15T12:16:52.512026Z",
     "iopub.status.busy": "2021-03-15T12:16:52.511464Z",
     "iopub.status.idle": "2021-03-15T12:16:52.515365Z",
     "shell.execute_reply": "2021-03-15T12:16:52.514872Z"
    }
   },
   "outputs": [],
   "source": [
    "tableauData = json.loads(soup.find(\"textarea\",{\"id\": \"tsConfigContainer\"}).text)"
   ]
  },
  {
   "cell_type": "markdown",
   "metadata": {},
   "source": [
    "Get the link to the Tableau data"
   ]
  },
  {
   "cell_type": "code",
   "execution_count": 4,
   "metadata": {
    "execution": {
     "iopub.execute_input": "2021-03-15T12:16:52.519280Z",
     "iopub.status.busy": "2021-03-15T12:16:52.518750Z",
     "iopub.status.idle": "2021-03-15T12:16:52.522316Z",
     "shell.execute_reply": "2021-03-15T12:16:52.521771Z"
    }
   },
   "outputs": [],
   "source": [
    "dataUrl = f'https://public.tableau.com{tableauData[\"vizql_root\"]}/bootstrapSession/sessions/{tableauData[\"sessionid\"]}'"
   ]
  },
  {
   "cell_type": "code",
   "execution_count": 5,
   "metadata": {
    "execution": {
     "iopub.execute_input": "2021-03-15T12:16:52.529538Z",
     "iopub.status.busy": "2021-03-15T12:16:52.528400Z",
     "iopub.status.idle": "2021-03-15T12:16:52.867718Z",
     "shell.execute_reply": "2021-03-15T12:16:52.866620Z"
    }
   },
   "outputs": [],
   "source": [
    "r = requests.post(dataUrl, data= {\n",
    "    \"sheet_id\": tableauData[\"sheetId\"],\n",
    "})\n",
    "\n",
    "dataReg = re.search('\\d+;({.*})\\d+;({.*})', r.text, re.MULTILINE)\n",
    "data1 = json.loads(dataReg.group(2))\n",
    "\n",
    "dataJson = data1[\"secondaryInfo\"][\"presModelMap\"][\"dataDictionary\"][\"presModelHolder\"][\"genDataDictionaryPresModel\"][\"dataSegments\"][\"0\"][\"dataColumns\"]"
   ]
  },
  {
   "cell_type": "markdown",
   "metadata": {},
   "source": [
    "Isolate what you want"
   ]
  },
  {
   "cell_type": "code",
   "execution_count": 6,
   "metadata": {
    "execution": {
     "iopub.execute_input": "2021-03-15T12:16:52.871803Z",
     "iopub.status.busy": "2021-03-15T12:16:52.871128Z",
     "iopub.status.idle": "2021-03-15T12:16:52.875443Z",
     "shell.execute_reply": "2021-03-15T12:16:52.874554Z"
    }
   },
   "outputs": [],
   "source": [
    "counties = dataJson[2]['dataValues'][:58]"
   ]
  },
  {
   "cell_type": "code",
   "execution_count": 7,
   "metadata": {
    "execution": {
     "iopub.execute_input": "2021-03-15T12:16:52.879591Z",
     "iopub.status.busy": "2021-03-15T12:16:52.878937Z",
     "iopub.status.idle": "2021-03-15T12:16:52.882723Z",
     "shell.execute_reply": "2021-03-15T12:16:52.882267Z"
    }
   },
   "outputs": [],
   "source": [
    "doses = dataJson[0]['dataValues'][3:61]"
   ]
  },
  {
   "cell_type": "markdown",
   "metadata": {},
   "source": [
    "Data formatting"
   ]
  },
  {
   "cell_type": "code",
   "execution_count": 8,
   "metadata": {
    "execution": {
     "iopub.execute_input": "2021-03-15T12:16:52.886633Z",
     "iopub.status.busy": "2021-03-15T12:16:52.886111Z",
     "iopub.status.idle": "2021-03-15T12:16:52.889698Z",
     "shell.execute_reply": "2021-03-15T12:16:52.889199Z"
    }
   },
   "outputs": [],
   "source": [
    "zipped = dict(zip(counties, doses))"
   ]
  },
  {
   "cell_type": "code",
   "execution_count": 9,
   "metadata": {
    "execution": {
     "iopub.execute_input": "2021-03-15T12:16:52.896938Z",
     "iopub.status.busy": "2021-03-15T12:16:52.895554Z",
     "iopub.status.idle": "2021-03-15T12:16:52.897549Z",
     "shell.execute_reply": "2021-03-15T12:16:52.897983Z"
    }
   },
   "outputs": [],
   "source": [
    "df = pd.Series(zipped).reset_index()"
   ]
  },
  {
   "cell_type": "code",
   "execution_count": 10,
   "metadata": {
    "execution": {
     "iopub.execute_input": "2021-03-15T12:16:52.902853Z",
     "iopub.status.busy": "2021-03-15T12:16:52.901545Z",
     "iopub.status.idle": "2021-03-15T12:16:52.903460Z",
     "shell.execute_reply": "2021-03-15T12:16:52.903889Z"
    }
   },
   "outputs": [],
   "source": [
    "df.columns = ['location','doses']"
   ]
  },
  {
   "cell_type": "markdown",
   "metadata": {},
   "source": [
    "Grab the overall California total"
   ]
  },
  {
   "cell_type": "code",
   "execution_count": 11,
   "metadata": {
    "execution": {
     "iopub.execute_input": "2021-03-15T12:16:52.909038Z",
     "iopub.status.busy": "2021-03-15T12:16:52.907494Z",
     "iopub.status.idle": "2021-03-15T12:16:52.909634Z",
     "shell.execute_reply": "2021-03-15T12:16:52.910064Z"
    }
   },
   "outputs": [],
   "source": [
    "add = {'location':'California','doses':dataJson[0]['dataValues'][2]}"
   ]
  },
  {
   "cell_type": "code",
   "execution_count": 12,
   "metadata": {
    "execution": {
     "iopub.execute_input": "2021-03-15T12:16:52.917672Z",
     "iopub.status.busy": "2021-03-15T12:16:52.916321Z",
     "iopub.status.idle": "2021-03-15T12:16:52.918285Z",
     "shell.execute_reply": "2021-03-15T12:16:52.918837Z"
    }
   },
   "outputs": [],
   "source": [
    "df = df.append(add, ignore_index=True)"
   ]
  },
  {
   "cell_type": "code",
   "execution_count": 13,
   "metadata": {
    "execution": {
     "iopub.execute_input": "2021-03-15T12:16:52.924157Z",
     "iopub.status.busy": "2021-03-15T12:16:52.922886Z",
     "iopub.status.idle": "2021-03-15T12:16:52.924774Z",
     "shell.execute_reply": "2021-03-15T12:16:52.925207Z"
    }
   },
   "outputs": [],
   "source": [
    "df = df.sort_values(by='location')"
   ]
  },
  {
   "cell_type": "code",
   "execution_count": 14,
   "metadata": {
    "execution": {
     "iopub.execute_input": "2021-03-15T12:16:52.932018Z",
     "iopub.status.busy": "2021-03-15T12:16:52.930851Z",
     "iopub.status.idle": "2021-03-15T12:16:52.932650Z",
     "shell.execute_reply": "2021-03-15T12:16:52.933091Z"
    }
   },
   "outputs": [],
   "source": [
    "df = df[df.location == 'California'].append(df[df.location != 'California']).reset_index(drop=True)"
   ]
  },
  {
   "cell_type": "code",
   "execution_count": null,
   "metadata": {},
   "outputs": [],
   "source": []
  },
  {
   "cell_type": "code",
   "execution_count": 15,
   "metadata": {
    "execution": {
     "iopub.execute_input": "2021-03-15T12:16:52.937076Z",
     "iopub.status.busy": "2021-03-15T12:16:52.936352Z",
     "iopub.status.idle": "2021-03-15T12:16:52.954870Z",
     "shell.execute_reply": "2021-03-15T12:16:52.954372Z"
    }
   },
   "outputs": [],
   "source": [
    "tz = pytz.timezone(\"America/New_York\")"
   ]
  },
  {
   "cell_type": "code",
   "execution_count": 16,
   "metadata": {
    "execution": {
     "iopub.execute_input": "2021-03-15T12:16:52.958358Z",
     "iopub.status.busy": "2021-03-15T12:16:52.956863Z",
     "iopub.status.idle": "2021-03-15T12:16:52.960557Z",
     "shell.execute_reply": "2021-03-15T12:16:52.960084Z"
    }
   },
   "outputs": [],
   "source": [
    "today = datetime.now(tz).date()"
   ]
  },
  {
   "cell_type": "code",
   "execution_count": 17,
   "metadata": {
    "execution": {
     "iopub.execute_input": "2021-03-15T12:16:52.965223Z",
     "iopub.status.busy": "2021-03-15T12:16:52.963874Z",
     "iopub.status.idle": "2021-03-15T12:16:52.965840Z",
     "shell.execute_reply": "2021-03-15T12:16:52.966269Z"
    }
   },
   "outputs": [],
   "source": [
    "data_dir = os.path.join(os.path.abspath(\"\"), \"data\")"
   ]
  },
  {
   "cell_type": "code",
   "execution_count": 18,
   "metadata": {
    "execution": {
     "iopub.execute_input": "2021-03-15T12:16:52.970913Z",
     "iopub.status.busy": "2021-03-15T12:16:52.969629Z",
     "iopub.status.idle": "2021-03-15T12:16:52.974610Z",
     "shell.execute_reply": "2021-03-15T12:16:52.974081Z"
    }
   },
   "outputs": [],
   "source": [
    "df.to_csv(os.path.join(data_dir, f\"{today}.csv\"), index=False)"
   ]
  },
  {
   "cell_type": "code",
   "execution_count": null,
   "metadata": {},
   "outputs": [],
   "source": []
  }
 ],
 "metadata": {
  "kernelspec": {
   "display_name": "Python 3",
   "language": "python",
   "name": "python3"
  },
  "language_info": {
   "codemirror_mode": {
    "name": "ipython",
    "version": 3
   },
   "file_extension": ".py",
   "mimetype": "text/x-python",
   "name": "python",
   "nbconvert_exporter": "python",
   "pygments_lexer": "ipython3",
   "version": "3.8.8"
  }
 },
 "nbformat": 4,
 "nbformat_minor": 4
}
