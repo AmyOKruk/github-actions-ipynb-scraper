{
 "cells": [
  {
   "cell_type": "markdown",
   "metadata": {},
   "source": [
    "# California COVID vaccinations scrape"
   ]
  },
  {
   "cell_type": "markdown",
   "metadata": {},
   "source": [
    "By [Amy O'Kruk](https://twitter.com/amyokruk)"
   ]
  },
  {
   "cell_type": "markdown",
   "metadata": {},
   "source": [
    "Downloads data on vaccine doses administered by county and statewide from a Tableau-powered dashboard from the California Department of Public Health."
   ]
  },
  {
   "cell_type": "code",
   "execution_count": 1,
   "metadata": {
    "execution": {
     "iopub.execute_input": "2021-03-21T13:46:45.924194Z",
     "iopub.status.busy": "2021-03-21T13:46:45.923247Z",
     "iopub.status.idle": "2021-03-21T13:46:46.304383Z",
     "shell.execute_reply": "2021-03-21T13:46:46.303438Z"
    }
   },
   "outputs": [],
   "source": [
    "import pandas as pd\n",
    "import requests\n",
    "from bs4 import BeautifulSoup\n",
    "import json\n",
    "import re\n",
    "import time\n",
    "from time import gmtime, strftime \n",
    "import os\n",
    "import pytz\n",
    "from datetime import datetime"
   ]
  },
  {
   "cell_type": "markdown",
   "metadata": {},
   "source": [
    "Scrape the dashboard page"
   ]
  },
  {
   "cell_type": "code",
   "execution_count": 2,
   "metadata": {
    "execution": {
     "iopub.execute_input": "2021-03-21T13:46:46.310499Z",
     "iopub.status.busy": "2021-03-21T13:46:46.308083Z",
     "iopub.status.idle": "2021-03-21T13:46:46.597897Z",
     "shell.execute_reply": "2021-03-21T13:46:46.597175Z"
    }
   },
   "outputs": [],
   "source": [
    "url = \"https://public.tableau.com/interactive/views/COVID-19VaccineDashboardPublic/Vaccine?:embed=y&:showVizHome=n&:apiID=host0\"\n",
    "\n",
    "r = requests.get(url)\n",
    "soup = BeautifulSoup(r.text, \"html.parser\")"
   ]
  },
  {
   "cell_type": "code",
   "execution_count": 3,
   "metadata": {
    "execution": {
     "iopub.execute_input": "2021-03-21T13:46:46.602994Z",
     "iopub.status.busy": "2021-03-21T13:46:46.601991Z",
     "iopub.status.idle": "2021-03-21T13:46:46.606186Z",
     "shell.execute_reply": "2021-03-21T13:46:46.605684Z"
    }
   },
   "outputs": [],
   "source": [
    "tableauData = json.loads(soup.find(\"textarea\",{\"id\": \"tsConfigContainer\"}).text)"
   ]
  },
  {
   "cell_type": "markdown",
   "metadata": {},
   "source": [
    "Get the link to the Tableau data"
   ]
  },
  {
   "cell_type": "code",
   "execution_count": 4,
   "metadata": {
    "execution": {
     "iopub.execute_input": "2021-03-21T13:46:46.609932Z",
     "iopub.status.busy": "2021-03-21T13:46:46.609034Z",
     "iopub.status.idle": "2021-03-21T13:46:46.610832Z",
     "shell.execute_reply": "2021-03-21T13:46:46.611250Z"
    }
   },
   "outputs": [],
   "source": [
    "dataUrl = f'https://public.tableau.com{tableauData[\"vizql_root\"]}/bootstrapSession/sessions/{tableauData[\"sessionid\"]}'"
   ]
  },
  {
   "cell_type": "code",
   "execution_count": 5,
   "metadata": {
    "execution": {
     "iopub.execute_input": "2021-03-21T13:46:46.618033Z",
     "iopub.status.busy": "2021-03-21T13:46:46.617451Z",
     "iopub.status.idle": "2021-03-21T13:46:47.130963Z",
     "shell.execute_reply": "2021-03-21T13:46:47.130453Z"
    }
   },
   "outputs": [],
   "source": [
    "r = requests.post(dataUrl, data= {\n",
    "    \"sheet_id\": tableauData[\"sheetId\"],\n",
    "})\n",
    "\n",
    "dataReg = re.search('\\d+;({.*})\\d+;({.*})', r.text, re.MULTILINE)\n",
    "data1 = json.loads(dataReg.group(2))\n",
    "\n",
    "dataJson = data1[\"secondaryInfo\"][\"presModelMap\"][\"dataDictionary\"][\"presModelHolder\"][\"genDataDictionaryPresModel\"][\"dataSegments\"][\"0\"][\"dataColumns\"]"
   ]
  },
  {
   "cell_type": "markdown",
   "metadata": {},
   "source": [
    "Isolate what you want"
   ]
  },
  {
   "cell_type": "code",
   "execution_count": 6,
   "metadata": {
    "execution": {
     "iopub.execute_input": "2021-03-21T13:46:47.136256Z",
     "iopub.status.busy": "2021-03-21T13:46:47.134836Z",
     "iopub.status.idle": "2021-03-21T13:46:47.136914Z",
     "shell.execute_reply": "2021-03-21T13:46:47.137384Z"
    }
   },
   "outputs": [],
   "source": [
    "counties = dataJson[2]['dataValues'][:58]"
   ]
  },
  {
   "cell_type": "code",
   "execution_count": 7,
   "metadata": {
    "execution": {
     "iopub.execute_input": "2021-03-21T13:46:47.142466Z",
     "iopub.status.busy": "2021-03-21T13:46:47.140995Z",
     "iopub.status.idle": "2021-03-21T13:46:47.143083Z",
     "shell.execute_reply": "2021-03-21T13:46:47.143546Z"
    }
   },
   "outputs": [],
   "source": [
    "doses = dataJson[0]['dataValues'][3:61]"
   ]
  },
  {
   "cell_type": "markdown",
   "metadata": {},
   "source": [
    "Data formatting"
   ]
  },
  {
   "cell_type": "code",
   "execution_count": 8,
   "metadata": {
    "execution": {
     "iopub.execute_input": "2021-03-21T13:46:47.147588Z",
     "iopub.status.busy": "2021-03-21T13:46:47.146784Z",
     "iopub.status.idle": "2021-03-21T13:46:47.152695Z",
     "shell.execute_reply": "2021-03-21T13:46:47.152139Z"
    }
   },
   "outputs": [],
   "source": [
    "zipped = dict(zip(counties, doses))"
   ]
  },
  {
   "cell_type": "code",
   "execution_count": 9,
   "metadata": {
    "execution": {
     "iopub.execute_input": "2021-03-21T13:46:47.159546Z",
     "iopub.status.busy": "2021-03-21T13:46:47.158164Z",
     "iopub.status.idle": "2021-03-21T13:46:47.160163Z",
     "shell.execute_reply": "2021-03-21T13:46:47.160612Z"
    }
   },
   "outputs": [],
   "source": [
    "df = pd.Series(zipped).reset_index()"
   ]
  },
  {
   "cell_type": "code",
   "execution_count": 10,
   "metadata": {
    "execution": {
     "iopub.execute_input": "2021-03-21T13:46:47.166023Z",
     "iopub.status.busy": "2021-03-21T13:46:47.164585Z",
     "iopub.status.idle": "2021-03-21T13:46:47.166760Z",
     "shell.execute_reply": "2021-03-21T13:46:47.167206Z"
    }
   },
   "outputs": [],
   "source": [
    "df.columns = ['location','doses']"
   ]
  },
  {
   "cell_type": "markdown",
   "metadata": {},
   "source": [
    "Grab the overall California total"
   ]
  },
  {
   "cell_type": "code",
   "execution_count": 11,
   "metadata": {
    "execution": {
     "iopub.execute_input": "2021-03-21T13:46:47.171955Z",
     "iopub.status.busy": "2021-03-21T13:46:47.170593Z",
     "iopub.status.idle": "2021-03-21T13:46:47.172637Z",
     "shell.execute_reply": "2021-03-21T13:46:47.173084Z"
    }
   },
   "outputs": [],
   "source": [
    "add = {'location':'California','doses':dataJson[0]['dataValues'][2]}"
   ]
  },
  {
   "cell_type": "code",
   "execution_count": 12,
   "metadata": {
    "execution": {
     "iopub.execute_input": "2021-03-21T13:46:47.179446Z",
     "iopub.status.busy": "2021-03-21T13:46:47.177144Z",
     "iopub.status.idle": "2021-03-21T13:46:47.181791Z",
     "shell.execute_reply": "2021-03-21T13:46:47.181260Z"
    }
   },
   "outputs": [],
   "source": [
    "df = df.append(add, ignore_index=True)"
   ]
  },
  {
   "cell_type": "code",
   "execution_count": 13,
   "metadata": {
    "execution": {
     "iopub.execute_input": "2021-03-21T13:46:47.186615Z",
     "iopub.status.busy": "2021-03-21T13:46:47.185643Z",
     "iopub.status.idle": "2021-03-21T13:46:47.187528Z",
     "shell.execute_reply": "2021-03-21T13:46:47.187970Z"
    }
   },
   "outputs": [],
   "source": [
    "df = df.sort_values(by='location')"
   ]
  },
  {
   "cell_type": "code",
   "execution_count": 14,
   "metadata": {
    "execution": {
     "iopub.execute_input": "2021-03-21T13:46:47.193506Z",
     "iopub.status.busy": "2021-03-21T13:46:47.192322Z",
     "iopub.status.idle": "2021-03-21T13:46:47.195388Z",
     "shell.execute_reply": "2021-03-21T13:46:47.195800Z"
    }
   },
   "outputs": [],
   "source": [
    "df = df[df.location == 'California'].append(df[df.location != 'California']).reset_index(drop=True)"
   ]
  },
  {
   "cell_type": "code",
   "execution_count": null,
   "metadata": {},
   "outputs": [],
   "source": []
  },
  {
   "cell_type": "code",
   "execution_count": 15,
   "metadata": {
    "execution": {
     "iopub.execute_input": "2021-03-21T13:46:47.199139Z",
     "iopub.status.busy": "2021-03-21T13:46:47.198623Z",
     "iopub.status.idle": "2021-03-21T13:46:47.216901Z",
     "shell.execute_reply": "2021-03-21T13:46:47.217354Z"
    }
   },
   "outputs": [],
   "source": [
    "tz = pytz.timezone(\"America/New_York\")"
   ]
  },
  {
   "cell_type": "code",
   "execution_count": 16,
   "metadata": {
    "execution": {
     "iopub.execute_input": "2021-03-21T13:46:47.222057Z",
     "iopub.status.busy": "2021-03-21T13:46:47.220643Z",
     "iopub.status.idle": "2021-03-21T13:46:47.222692Z",
     "shell.execute_reply": "2021-03-21T13:46:47.223129Z"
    }
   },
   "outputs": [],
   "source": [
    "today = datetime.now(tz).date()"
   ]
  },
  {
   "cell_type": "code",
   "execution_count": 17,
   "metadata": {
    "execution": {
     "iopub.execute_input": "2021-03-21T13:46:47.228059Z",
     "iopub.status.busy": "2021-03-21T13:46:47.226441Z",
     "iopub.status.idle": "2021-03-21T13:46:47.228623Z",
     "shell.execute_reply": "2021-03-21T13:46:47.229052Z"
    }
   },
   "outputs": [],
   "source": [
    "data_dir = os.path.join(os.path.abspath(\"\"), \"data\")"
   ]
  },
  {
   "cell_type": "code",
   "execution_count": 18,
   "metadata": {
    "execution": {
     "iopub.execute_input": "2021-03-21T13:46:47.233028Z",
     "iopub.status.busy": "2021-03-21T13:46:47.232042Z",
     "iopub.status.idle": "2021-03-21T13:46:47.236032Z",
     "shell.execute_reply": "2021-03-21T13:46:47.236428Z"
    }
   },
   "outputs": [],
   "source": [
    "df.to_csv(os.path.join(data_dir, f\"{today}.csv\"), index=False)"
   ]
  },
  {
   "cell_type": "code",
   "execution_count": null,
   "metadata": {},
   "outputs": [],
   "source": []
  }
 ],
 "metadata": {
  "kernelspec": {
   "display_name": "Python 3",
   "language": "python",
   "name": "python3"
  },
  "language_info": {
   "codemirror_mode": {
    "name": "ipython",
    "version": 3
   },
   "file_extension": ".py",
   "mimetype": "text/x-python",
   "name": "python",
   "nbconvert_exporter": "python",
   "pygments_lexer": "ipython3",
   "version": "3.8.8"
  }
 },
 "nbformat": 4,
 "nbformat_minor": 4
}
