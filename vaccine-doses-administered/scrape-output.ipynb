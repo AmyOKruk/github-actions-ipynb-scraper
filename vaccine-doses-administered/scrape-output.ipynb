{
 "cells": [
  {
   "cell_type": "markdown",
   "metadata": {},
   "source": [
    "# California COVID vaccinations scrape"
   ]
  },
  {
   "cell_type": "markdown",
   "metadata": {},
   "source": [
    "By [Amy O'Kruk](https://twitter.com/amyokruk)"
   ]
  },
  {
   "cell_type": "markdown",
   "metadata": {},
   "source": [
    "Downloads data on vaccine doses administered by county and statewide from a Tableau-powered dashboard from the California Department of Public Health."
   ]
  },
  {
   "cell_type": "code",
   "execution_count": 1,
   "metadata": {
    "execution": {
     "iopub.execute_input": "2021-03-15T15:44:06.737213Z",
     "iopub.status.busy": "2021-03-15T15:44:06.736453Z",
     "iopub.status.idle": "2021-03-15T15:44:07.187498Z",
     "shell.execute_reply": "2021-03-15T15:44:07.186883Z"
    }
   },
   "outputs": [],
   "source": [
    "import pandas as pd\n",
    "import requests\n",
    "from bs4 import BeautifulSoup\n",
    "import json\n",
    "import re\n",
    "import time\n",
    "from time import gmtime, strftime \n",
    "import os\n",
    "import pytz\n",
    "from datetime import datetime"
   ]
  },
  {
   "cell_type": "markdown",
   "metadata": {},
   "source": [
    "Scrape the dashboard page"
   ]
  },
  {
   "cell_type": "code",
   "execution_count": 2,
   "metadata": {
    "execution": {
     "iopub.execute_input": "2021-03-15T15:44:07.193212Z",
     "iopub.status.busy": "2021-03-15T15:44:07.190935Z",
     "iopub.status.idle": "2021-03-15T15:44:08.101094Z",
     "shell.execute_reply": "2021-03-15T15:44:08.100534Z"
    }
   },
   "outputs": [],
   "source": [
    "url = \"https://public.tableau.com/interactive/views/COVID-19VaccineDashboardPublic/Vaccine?:embed=y&:showVizHome=n&:apiID=host0\"\n",
    "\n",
    "r = requests.get(url)\n",
    "soup = BeautifulSoup(r.text, \"html.parser\")"
   ]
  },
  {
   "cell_type": "code",
   "execution_count": 3,
   "metadata": {
    "execution": {
     "iopub.execute_input": "2021-03-15T15:44:08.106205Z",
     "iopub.status.busy": "2021-03-15T15:44:08.105622Z",
     "iopub.status.idle": "2021-03-15T15:44:08.109197Z",
     "shell.execute_reply": "2021-03-15T15:44:08.108693Z"
    }
   },
   "outputs": [],
   "source": [
    "tableauData = json.loads(soup.find(\"textarea\",{\"id\": \"tsConfigContainer\"}).text)"
   ]
  },
  {
   "cell_type": "markdown",
   "metadata": {},
   "source": [
    "Get the link to the Tableau data"
   ]
  },
  {
   "cell_type": "code",
   "execution_count": 4,
   "metadata": {
    "execution": {
     "iopub.execute_input": "2021-03-15T15:44:08.113683Z",
     "iopub.status.busy": "2021-03-15T15:44:08.112321Z",
     "iopub.status.idle": "2021-03-15T15:44:08.114334Z",
     "shell.execute_reply": "2021-03-15T15:44:08.114826Z"
    }
   },
   "outputs": [],
   "source": [
    "dataUrl = f'https://public.tableau.com{tableauData[\"vizql_root\"]}/bootstrapSession/sessions/{tableauData[\"sessionid\"]}'"
   ]
  },
  {
   "cell_type": "code",
   "execution_count": 5,
   "metadata": {
    "execution": {
     "iopub.execute_input": "2021-03-15T15:44:08.121555Z",
     "iopub.status.busy": "2021-03-15T15:44:08.120944Z",
     "iopub.status.idle": "2021-03-15T15:44:08.308973Z",
     "shell.execute_reply": "2021-03-15T15:44:08.308497Z"
    }
   },
   "outputs": [],
   "source": [
    "r = requests.post(dataUrl, data= {\n",
    "    \"sheet_id\": tableauData[\"sheetId\"],\n",
    "})\n",
    "\n",
    "dataReg = re.search('\\d+;({.*})\\d+;({.*})', r.text, re.MULTILINE)\n",
    "data1 = json.loads(dataReg.group(2))\n",
    "\n",
    "dataJson = data1[\"secondaryInfo\"][\"presModelMap\"][\"dataDictionary\"][\"presModelHolder\"][\"genDataDictionaryPresModel\"][\"dataSegments\"][\"0\"][\"dataColumns\"]"
   ]
  },
  {
   "cell_type": "markdown",
   "metadata": {},
   "source": [
    "Isolate what you want"
   ]
  },
  {
   "cell_type": "code",
   "execution_count": 6,
   "metadata": {
    "execution": {
     "iopub.execute_input": "2021-03-15T15:44:08.312943Z",
     "iopub.status.busy": "2021-03-15T15:44:08.312418Z",
     "iopub.status.idle": "2021-03-15T15:44:08.315397Z",
     "shell.execute_reply": "2021-03-15T15:44:08.315798Z"
    }
   },
   "outputs": [],
   "source": [
    "counties = dataJson[2]['dataValues'][:58]"
   ]
  },
  {
   "cell_type": "code",
   "execution_count": 7,
   "metadata": {
    "execution": {
     "iopub.execute_input": "2021-03-15T15:44:08.319495Z",
     "iopub.status.busy": "2021-03-15T15:44:08.318984Z",
     "iopub.status.idle": "2021-03-15T15:44:08.322340Z",
     "shell.execute_reply": "2021-03-15T15:44:08.321907Z"
    }
   },
   "outputs": [],
   "source": [
    "doses = dataJson[0]['dataValues'][3:61]"
   ]
  },
  {
   "cell_type": "markdown",
   "metadata": {},
   "source": [
    "Data formatting"
   ]
  },
  {
   "cell_type": "code",
   "execution_count": 8,
   "metadata": {
    "execution": {
     "iopub.execute_input": "2021-03-15T15:44:08.326605Z",
     "iopub.status.busy": "2021-03-15T15:44:08.325386Z",
     "iopub.status.idle": "2021-03-15T15:44:08.327206Z",
     "shell.execute_reply": "2021-03-15T15:44:08.327633Z"
    }
   },
   "outputs": [],
   "source": [
    "zipped = dict(zip(counties, doses))"
   ]
  },
  {
   "cell_type": "code",
   "execution_count": 9,
   "metadata": {
    "execution": {
     "iopub.execute_input": "2021-03-15T15:44:08.333409Z",
     "iopub.status.busy": "2021-03-15T15:44:08.332862Z",
     "iopub.status.idle": "2021-03-15T15:44:08.335470Z",
     "shell.execute_reply": "2021-03-15T15:44:08.335010Z"
    }
   },
   "outputs": [],
   "source": [
    "df = pd.Series(zipped).reset_index()"
   ]
  },
  {
   "cell_type": "code",
   "execution_count": 10,
   "metadata": {
    "execution": {
     "iopub.execute_input": "2021-03-15T15:44:08.339883Z",
     "iopub.status.busy": "2021-03-15T15:44:08.338678Z",
     "iopub.status.idle": "2021-03-15T15:44:08.340537Z",
     "shell.execute_reply": "2021-03-15T15:44:08.340962Z"
    }
   },
   "outputs": [],
   "source": [
    "df.columns = ['location','doses']"
   ]
  },
  {
   "cell_type": "markdown",
   "metadata": {},
   "source": [
    "Grab the overall California total"
   ]
  },
  {
   "cell_type": "code",
   "execution_count": 11,
   "metadata": {
    "execution": {
     "iopub.execute_input": "2021-03-15T15:44:08.345338Z",
     "iopub.status.busy": "2021-03-15T15:44:08.344118Z",
     "iopub.status.idle": "2021-03-15T15:44:08.345931Z",
     "shell.execute_reply": "2021-03-15T15:44:08.346355Z"
    }
   },
   "outputs": [],
   "source": [
    "add = {'location':'California','doses':dataJson[0]['dataValues'][2]}"
   ]
  },
  {
   "cell_type": "code",
   "execution_count": 12,
   "metadata": {
    "execution": {
     "iopub.execute_input": "2021-03-15T15:44:08.353248Z",
     "iopub.status.busy": "2021-03-15T15:44:08.352099Z",
     "iopub.status.idle": "2021-03-15T15:44:08.353843Z",
     "shell.execute_reply": "2021-03-15T15:44:08.354270Z"
    }
   },
   "outputs": [],
   "source": [
    "df = df.append(add, ignore_index=True)"
   ]
  },
  {
   "cell_type": "code",
   "execution_count": 13,
   "metadata": {
    "execution": {
     "iopub.execute_input": "2021-03-15T15:44:08.359430Z",
     "iopub.status.busy": "2021-03-15T15:44:08.358196Z",
     "iopub.status.idle": "2021-03-15T15:44:08.360019Z",
     "shell.execute_reply": "2021-03-15T15:44:08.360440Z"
    }
   },
   "outputs": [],
   "source": [
    "df = df.sort_values(by='location')"
   ]
  },
  {
   "cell_type": "code",
   "execution_count": 14,
   "metadata": {
    "execution": {
     "iopub.execute_input": "2021-03-15T15:44:08.368016Z",
     "iopub.status.busy": "2021-03-15T15:44:08.367420Z",
     "iopub.status.idle": "2021-03-15T15:44:08.368953Z",
     "shell.execute_reply": "2021-03-15T15:44:08.368499Z"
    }
   },
   "outputs": [],
   "source": [
    "df = df[df.location == 'California'].append(df[df.location != 'California']).reset_index(drop=True)"
   ]
  },
  {
   "cell_type": "code",
   "execution_count": null,
   "metadata": {},
   "outputs": [],
   "source": []
  },
  {
   "cell_type": "code",
   "execution_count": 15,
   "metadata": {
    "execution": {
     "iopub.execute_input": "2021-03-15T15:44:08.372269Z",
     "iopub.status.busy": "2021-03-15T15:44:08.371760Z",
     "iopub.status.idle": "2021-03-15T15:44:08.388585Z",
     "shell.execute_reply": "2021-03-15T15:44:08.388156Z"
    }
   },
   "outputs": [],
   "source": [
    "tz = pytz.timezone(\"America/New_York\")"
   ]
  },
  {
   "cell_type": "code",
   "execution_count": 16,
   "metadata": {
    "execution": {
     "iopub.execute_input": "2021-03-15T15:44:08.393040Z",
     "iopub.status.busy": "2021-03-15T15:44:08.391644Z",
     "iopub.status.idle": "2021-03-15T15:44:08.393719Z",
     "shell.execute_reply": "2021-03-15T15:44:08.394148Z"
    }
   },
   "outputs": [],
   "source": [
    "today = datetime.now(tz).date()"
   ]
  },
  {
   "cell_type": "code",
   "execution_count": 17,
   "metadata": {
    "execution": {
     "iopub.execute_input": "2021-03-15T15:44:08.398607Z",
     "iopub.status.busy": "2021-03-15T15:44:08.397497Z",
     "iopub.status.idle": "2021-03-15T15:44:08.399283Z",
     "shell.execute_reply": "2021-03-15T15:44:08.399710Z"
    }
   },
   "outputs": [],
   "source": [
    "data_dir = os.path.join(os.path.abspath(\"\"), \"data\")"
   ]
  },
  {
   "cell_type": "code",
   "execution_count": 18,
   "metadata": {
    "execution": {
     "iopub.execute_input": "2021-03-15T15:44:08.404017Z",
     "iopub.status.busy": "2021-03-15T15:44:08.402973Z",
     "iopub.status.idle": "2021-03-15T15:44:08.416429Z",
     "shell.execute_reply": "2021-03-15T15:44:08.415743Z"
    }
   },
   "outputs": [],
   "source": [
    "df.to_csv(os.path.join(data_dir, f\"{today}.csv\"), index=False)"
   ]
  },
  {
   "cell_type": "code",
   "execution_count": null,
   "metadata": {},
   "outputs": [],
   "source": []
  }
 ],
 "metadata": {
  "kernelspec": {
   "display_name": "Python 3",
   "language": "python",
   "name": "python3"
  },
  "language_info": {
   "codemirror_mode": {
    "name": "ipython",
    "version": 3
   },
   "file_extension": ".py",
   "mimetype": "text/x-python",
   "name": "python",
   "nbconvert_exporter": "python",
   "pygments_lexer": "ipython3",
   "version": "3.8.8"
  }
 },
 "nbformat": 4,
 "nbformat_minor": 4
}
