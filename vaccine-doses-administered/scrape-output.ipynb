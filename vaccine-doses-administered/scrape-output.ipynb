{
 "cells": [
  {
   "cell_type": "markdown",
   "metadata": {},
   "source": [
    "# California COVID vaccinations scrape"
   ]
  },
  {
   "cell_type": "markdown",
   "metadata": {},
   "source": [
    "By [Amy O'Kruk](https://twitter.com/amyokruk)"
   ]
  },
  {
   "cell_type": "markdown",
   "metadata": {},
   "source": [
    "Downloads data on vaccine doses administered by county and statewide from a Tableau-powered dashboard from the California Department of Public Health."
   ]
  },
  {
   "cell_type": "code",
   "execution_count": 1,
   "metadata": {
    "execution": {
     "iopub.execute_input": "2021-03-17T23:43:08.930760Z",
     "iopub.status.busy": "2021-03-17T23:43:08.930165Z",
     "iopub.status.idle": "2021-03-17T23:43:09.769058Z",
     "shell.execute_reply": "2021-03-17T23:43:09.767927Z"
    }
   },
   "outputs": [],
   "source": [
    "import pandas as pd\n",
    "import requests\n",
    "from bs4 import BeautifulSoup\n",
    "import json\n",
    "import re\n",
    "import time\n",
    "from time import gmtime, strftime \n",
    "import os\n",
    "import pytz\n",
    "from datetime import datetime"
   ]
  },
  {
   "cell_type": "markdown",
   "metadata": {},
   "source": [
    "Scrape the dashboard page"
   ]
  },
  {
   "cell_type": "code",
   "execution_count": 2,
   "metadata": {
    "execution": {
     "iopub.execute_input": "2021-03-17T23:43:09.775351Z",
     "iopub.status.busy": "2021-03-17T23:43:09.774724Z",
     "iopub.status.idle": "2021-03-17T23:43:10.274624Z",
     "shell.execute_reply": "2021-03-17T23:43:10.274195Z"
    }
   },
   "outputs": [],
   "source": [
    "url = \"https://public.tableau.com/interactive/views/COVID-19VaccineDashboardPublic/Vaccine?:embed=y&:showVizHome=n&:apiID=host0\"\n",
    "\n",
    "r = requests.get(url)\n",
    "soup = BeautifulSoup(r.text, \"html.parser\")"
   ]
  },
  {
   "cell_type": "code",
   "execution_count": 3,
   "metadata": {
    "execution": {
     "iopub.execute_input": "2021-03-17T23:43:10.279232Z",
     "iopub.status.busy": "2021-03-17T23:43:10.278665Z",
     "iopub.status.idle": "2021-03-17T23:43:10.282026Z",
     "shell.execute_reply": "2021-03-17T23:43:10.281605Z"
    }
   },
   "outputs": [],
   "source": [
    "tableauData = json.loads(soup.find(\"textarea\",{\"id\": \"tsConfigContainer\"}).text)"
   ]
  },
  {
   "cell_type": "markdown",
   "metadata": {},
   "source": [
    "Get the link to the Tableau data"
   ]
  },
  {
   "cell_type": "code",
   "execution_count": 4,
   "metadata": {
    "execution": {
     "iopub.execute_input": "2021-03-17T23:43:10.286068Z",
     "iopub.status.busy": "2021-03-17T23:43:10.284957Z",
     "iopub.status.idle": "2021-03-17T23:43:10.286708Z",
     "shell.execute_reply": "2021-03-17T23:43:10.287127Z"
    }
   },
   "outputs": [],
   "source": [
    "dataUrl = f'https://public.tableau.com{tableauData[\"vizql_root\"]}/bootstrapSession/sessions/{tableauData[\"sessionid\"]}'"
   ]
  },
  {
   "cell_type": "code",
   "execution_count": 5,
   "metadata": {
    "execution": {
     "iopub.execute_input": "2021-03-17T23:43:10.293369Z",
     "iopub.status.busy": "2021-03-17T23:43:10.292843Z",
     "iopub.status.idle": "2021-03-17T23:43:10.581614Z",
     "shell.execute_reply": "2021-03-17T23:43:10.580796Z"
    }
   },
   "outputs": [],
   "source": [
    "r = requests.post(dataUrl, data= {\n",
    "    \"sheet_id\": tableauData[\"sheetId\"],\n",
    "})\n",
    "\n",
    "dataReg = re.search('\\d+;({.*})\\d+;({.*})', r.text, re.MULTILINE)\n",
    "data1 = json.loads(dataReg.group(2))\n",
    "\n",
    "dataJson = data1[\"secondaryInfo\"][\"presModelMap\"][\"dataDictionary\"][\"presModelHolder\"][\"genDataDictionaryPresModel\"][\"dataSegments\"][\"0\"][\"dataColumns\"]"
   ]
  },
  {
   "cell_type": "markdown",
   "metadata": {},
   "source": [
    "Isolate what you want"
   ]
  },
  {
   "cell_type": "code",
   "execution_count": 6,
   "metadata": {
    "execution": {
     "iopub.execute_input": "2021-03-17T23:43:10.587464Z",
     "iopub.status.busy": "2021-03-17T23:43:10.586429Z",
     "iopub.status.idle": "2021-03-17T23:43:10.588359Z",
     "shell.execute_reply": "2021-03-17T23:43:10.587939Z"
    }
   },
   "outputs": [],
   "source": [
    "counties = dataJson[2]['dataValues'][:58]"
   ]
  },
  {
   "cell_type": "code",
   "execution_count": 7,
   "metadata": {
    "execution": {
     "iopub.execute_input": "2021-03-17T23:43:10.592722Z",
     "iopub.status.busy": "2021-03-17T23:43:10.591485Z",
     "iopub.status.idle": "2021-03-17T23:43:10.593318Z",
     "shell.execute_reply": "2021-03-17T23:43:10.593747Z"
    }
   },
   "outputs": [],
   "source": [
    "doses = dataJson[0]['dataValues'][3:61]"
   ]
  },
  {
   "cell_type": "markdown",
   "metadata": {},
   "source": [
    "Data formatting"
   ]
  },
  {
   "cell_type": "code",
   "execution_count": 8,
   "metadata": {
    "execution": {
     "iopub.execute_input": "2021-03-17T23:43:10.597821Z",
     "iopub.status.busy": "2021-03-17T23:43:10.596658Z",
     "iopub.status.idle": "2021-03-17T23:43:10.598440Z",
     "shell.execute_reply": "2021-03-17T23:43:10.598839Z"
    }
   },
   "outputs": [],
   "source": [
    "zipped = dict(zip(counties, doses))"
   ]
  },
  {
   "cell_type": "code",
   "execution_count": 9,
   "metadata": {
    "execution": {
     "iopub.execute_input": "2021-03-17T23:43:10.604995Z",
     "iopub.status.busy": "2021-03-17T23:43:10.603841Z",
     "iopub.status.idle": "2021-03-17T23:43:10.605654Z",
     "shell.execute_reply": "2021-03-17T23:43:10.606092Z"
    }
   },
   "outputs": [],
   "source": [
    "df = pd.Series(zipped).reset_index()"
   ]
  },
  {
   "cell_type": "code",
   "execution_count": 10,
   "metadata": {
    "execution": {
     "iopub.execute_input": "2021-03-17T23:43:10.610295Z",
     "iopub.status.busy": "2021-03-17T23:43:10.609266Z",
     "iopub.status.idle": "2021-03-17T23:43:10.610845Z",
     "shell.execute_reply": "2021-03-17T23:43:10.611260Z"
    }
   },
   "outputs": [],
   "source": [
    "df.columns = ['location','doses']"
   ]
  },
  {
   "cell_type": "markdown",
   "metadata": {},
   "source": [
    "Grab the overall California total"
   ]
  },
  {
   "cell_type": "code",
   "execution_count": 11,
   "metadata": {
    "execution": {
     "iopub.execute_input": "2021-03-17T23:43:10.615550Z",
     "iopub.status.busy": "2021-03-17T23:43:10.614388Z",
     "iopub.status.idle": "2021-03-17T23:43:10.616108Z",
     "shell.execute_reply": "2021-03-17T23:43:10.616502Z"
    }
   },
   "outputs": [],
   "source": [
    "add = {'location':'California','doses':dataJson[0]['dataValues'][2]}"
   ]
  },
  {
   "cell_type": "code",
   "execution_count": 12,
   "metadata": {
    "execution": {
     "iopub.execute_input": "2021-03-17T23:43:10.623132Z",
     "iopub.status.busy": "2021-03-17T23:43:10.621897Z",
     "iopub.status.idle": "2021-03-17T23:43:10.623731Z",
     "shell.execute_reply": "2021-03-17T23:43:10.624153Z"
    }
   },
   "outputs": [],
   "source": [
    "df = df.append(add, ignore_index=True)"
   ]
  },
  {
   "cell_type": "code",
   "execution_count": 13,
   "metadata": {
    "execution": {
     "iopub.execute_input": "2021-03-17T23:43:10.628581Z",
     "iopub.status.busy": "2021-03-17T23:43:10.627521Z",
     "iopub.status.idle": "2021-03-17T23:43:10.629237Z",
     "shell.execute_reply": "2021-03-17T23:43:10.629635Z"
    }
   },
   "outputs": [],
   "source": [
    "df = df.sort_values(by='location')"
   ]
  },
  {
   "cell_type": "code",
   "execution_count": 14,
   "metadata": {
    "execution": {
     "iopub.execute_input": "2021-03-17T23:43:10.635690Z",
     "iopub.status.busy": "2021-03-17T23:43:10.634480Z",
     "iopub.status.idle": "2021-03-17T23:43:10.636350Z",
     "shell.execute_reply": "2021-03-17T23:43:10.636777Z"
    }
   },
   "outputs": [],
   "source": [
    "df = df[df.location == 'California'].append(df[df.location != 'California']).reset_index(drop=True)"
   ]
  },
  {
   "cell_type": "code",
   "execution_count": null,
   "metadata": {},
   "outputs": [],
   "source": []
  },
  {
   "cell_type": "code",
   "execution_count": 15,
   "metadata": {
    "execution": {
     "iopub.execute_input": "2021-03-17T23:43:10.639844Z",
     "iopub.status.busy": "2021-03-17T23:43:10.639368Z",
     "iopub.status.idle": "2021-03-17T23:43:10.655898Z",
     "shell.execute_reply": "2021-03-17T23:43:10.655452Z"
    }
   },
   "outputs": [],
   "source": [
    "tz = pytz.timezone(\"America/New_York\")"
   ]
  },
  {
   "cell_type": "code",
   "execution_count": 16,
   "metadata": {
    "execution": {
     "iopub.execute_input": "2021-03-17T23:43:10.659786Z",
     "iopub.status.busy": "2021-03-17T23:43:10.658731Z",
     "iopub.status.idle": "2021-03-17T23:43:10.660552Z",
     "shell.execute_reply": "2021-03-17T23:43:10.660955Z"
    }
   },
   "outputs": [],
   "source": [
    "today = datetime.now(tz).date()"
   ]
  },
  {
   "cell_type": "code",
   "execution_count": 17,
   "metadata": {
    "execution": {
     "iopub.execute_input": "2021-03-17T23:43:10.664843Z",
     "iopub.status.busy": "2021-03-17T23:43:10.663780Z",
     "iopub.status.idle": "2021-03-17T23:43:10.665415Z",
     "shell.execute_reply": "2021-03-17T23:43:10.665812Z"
    }
   },
   "outputs": [],
   "source": [
    "data_dir = os.path.join(os.path.abspath(\"\"), \"data\")"
   ]
  },
  {
   "cell_type": "code",
   "execution_count": 18,
   "metadata": {
    "execution": {
     "iopub.execute_input": "2021-03-17T23:43:10.670114Z",
     "iopub.status.busy": "2021-03-17T23:43:10.668897Z",
     "iopub.status.idle": "2021-03-17T23:43:10.673225Z",
     "shell.execute_reply": "2021-03-17T23:43:10.672745Z"
    }
   },
   "outputs": [],
   "source": [
    "df.to_csv(os.path.join(data_dir, f\"{today}.csv\"), index=False)"
   ]
  },
  {
   "cell_type": "code",
   "execution_count": null,
   "metadata": {},
   "outputs": [],
   "source": []
  }
 ],
 "metadata": {
  "kernelspec": {
   "display_name": "Python 3",
   "language": "python",
   "name": "python3"
  },
  "language_info": {
   "codemirror_mode": {
    "name": "ipython",
    "version": 3
   },
   "file_extension": ".py",
   "mimetype": "text/x-python",
   "name": "python",
   "nbconvert_exporter": "python",
   "pygments_lexer": "ipython3",
   "version": "3.8.8"
  }
 },
 "nbformat": 4,
 "nbformat_minor": 4
}
