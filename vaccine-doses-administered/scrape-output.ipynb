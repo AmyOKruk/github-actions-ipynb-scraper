{
 "cells": [
  {
   "cell_type": "markdown",
   "metadata": {},
   "source": [
    "# California COVID vaccinations scrape"
   ]
  },
  {
   "cell_type": "markdown",
   "metadata": {},
   "source": [
    "By [Amy O'Kruk](https://twitter.com/amyokruk)"
   ]
  },
  {
   "cell_type": "markdown",
   "metadata": {},
   "source": [
    "Downloads data on vaccine doses administered by county and statewide from a Tableau-powered dashboard from the California Department of Public Health."
   ]
  },
  {
   "cell_type": "code",
   "execution_count": 1,
   "metadata": {
    "execution": {
     "iopub.execute_input": "2021-03-13T15:12:48.122561Z",
     "iopub.status.busy": "2021-03-13T15:12:48.121885Z",
     "iopub.status.idle": "2021-03-13T15:12:48.779740Z",
     "shell.execute_reply": "2021-03-13T15:12:48.778707Z"
    }
   },
   "outputs": [],
   "source": [
    "import pandas as pd\n",
    "import requests\n",
    "from bs4 import BeautifulSoup\n",
    "import json\n",
    "import re\n",
    "import time\n",
    "from time import gmtime, strftime \n",
    "import os\n",
    "import pytz\n",
    "from datetime import datetime"
   ]
  },
  {
   "cell_type": "markdown",
   "metadata": {},
   "source": [
    "Scrape the dashboard page"
   ]
  },
  {
   "cell_type": "code",
   "execution_count": 2,
   "metadata": {
    "execution": {
     "iopub.execute_input": "2021-03-13T15:12:48.784381Z",
     "iopub.status.busy": "2021-03-13T15:12:48.783833Z",
     "iopub.status.idle": "2021-03-13T15:12:49.378089Z",
     "shell.execute_reply": "2021-03-13T15:12:49.376918Z"
    }
   },
   "outputs": [],
   "source": [
    "url = \"https://public.tableau.com/interactive/views/COVID-19VaccineDashboardPublic/Vaccine?:embed=y&:showVizHome=n&:apiID=host0\"\n",
    "\n",
    "r = requests.get(url)\n",
    "soup = BeautifulSoup(r.text, \"html.parser\")"
   ]
  },
  {
   "cell_type": "code",
   "execution_count": 3,
   "metadata": {
    "execution": {
     "iopub.execute_input": "2021-03-13T15:12:49.384419Z",
     "iopub.status.busy": "2021-03-13T15:12:49.383074Z",
     "iopub.status.idle": "2021-03-13T15:12:49.385079Z",
     "shell.execute_reply": "2021-03-13T15:12:49.385533Z"
    }
   },
   "outputs": [],
   "source": [
    "tableauData = json.loads(soup.find(\"textarea\",{\"id\": \"tsConfigContainer\"}).text)"
   ]
  },
  {
   "cell_type": "markdown",
   "metadata": {},
   "source": [
    "Get the link to the Tableau data"
   ]
  },
  {
   "cell_type": "code",
   "execution_count": 4,
   "metadata": {
    "execution": {
     "iopub.execute_input": "2021-03-13T15:12:49.390032Z",
     "iopub.status.busy": "2021-03-13T15:12:49.388731Z",
     "iopub.status.idle": "2021-03-13T15:12:49.390647Z",
     "shell.execute_reply": "2021-03-13T15:12:49.391092Z"
    }
   },
   "outputs": [],
   "source": [
    "dataUrl = f'https://public.tableau.com{tableauData[\"vizql_root\"]}/bootstrapSession/sessions/{tableauData[\"sessionid\"]}'"
   ]
  },
  {
   "cell_type": "code",
   "execution_count": 5,
   "metadata": {
    "execution": {
     "iopub.execute_input": "2021-03-13T15:12:49.398000Z",
     "iopub.status.busy": "2021-03-13T15:12:49.397449Z",
     "iopub.status.idle": "2021-03-13T15:12:49.605322Z",
     "shell.execute_reply": "2021-03-13T15:12:49.604791Z"
    }
   },
   "outputs": [],
   "source": [
    "r = requests.post(dataUrl, data= {\n",
    "    \"sheet_id\": tableauData[\"sheetId\"],\n",
    "})\n",
    "\n",
    "dataReg = re.search('\\d+;({.*})\\d+;({.*})', r.text, re.MULTILINE)\n",
    "data1 = json.loads(dataReg.group(2))\n",
    "\n",
    "dataJson = data1[\"secondaryInfo\"][\"presModelMap\"][\"dataDictionary\"][\"presModelHolder\"][\"genDataDictionaryPresModel\"][\"dataSegments\"][\"0\"][\"dataColumns\"]"
   ]
  },
  {
   "cell_type": "markdown",
   "metadata": {},
   "source": [
    "Isolate what you want"
   ]
  },
  {
   "cell_type": "code",
   "execution_count": 6,
   "metadata": {
    "execution": {
     "iopub.execute_input": "2021-03-13T15:12:49.610414Z",
     "iopub.status.busy": "2021-03-13T15:12:49.609100Z",
     "iopub.status.idle": "2021-03-13T15:12:49.611031Z",
     "shell.execute_reply": "2021-03-13T15:12:49.611473Z"
    }
   },
   "outputs": [],
   "source": [
    "counties = dataJson[2]['dataValues'][:58]"
   ]
  },
  {
   "cell_type": "code",
   "execution_count": 7,
   "metadata": {
    "execution": {
     "iopub.execute_input": "2021-03-13T15:12:49.617666Z",
     "iopub.status.busy": "2021-03-13T15:12:49.616268Z",
     "iopub.status.idle": "2021-03-13T15:12:49.618271Z",
     "shell.execute_reply": "2021-03-13T15:12:49.618714Z"
    }
   },
   "outputs": [],
   "source": [
    "doses = dataJson[0]['dataValues'][3:61]"
   ]
  },
  {
   "cell_type": "markdown",
   "metadata": {},
   "source": [
    "Data formatting"
   ]
  },
  {
   "cell_type": "code",
   "execution_count": 8,
   "metadata": {
    "execution": {
     "iopub.execute_input": "2021-03-13T15:12:49.622714Z",
     "iopub.status.busy": "2021-03-13T15:12:49.621944Z",
     "iopub.status.idle": "2021-03-13T15:12:49.625821Z",
     "shell.execute_reply": "2021-03-13T15:12:49.625252Z"
    }
   },
   "outputs": [],
   "source": [
    "zipped = dict(zip(counties, doses))"
   ]
  },
  {
   "cell_type": "code",
   "execution_count": 9,
   "metadata": {
    "execution": {
     "iopub.execute_input": "2021-03-13T15:12:49.632555Z",
     "iopub.status.busy": "2021-03-13T15:12:49.631460Z",
     "iopub.status.idle": "2021-03-13T15:12:49.633427Z",
     "shell.execute_reply": "2021-03-13T15:12:49.633880Z"
    }
   },
   "outputs": [],
   "source": [
    "df = pd.Series(zipped).reset_index()"
   ]
  },
  {
   "cell_type": "code",
   "execution_count": 10,
   "metadata": {
    "execution": {
     "iopub.execute_input": "2021-03-13T15:12:49.638368Z",
     "iopub.status.busy": "2021-03-13T15:12:49.637283Z",
     "iopub.status.idle": "2021-03-13T15:12:49.639616Z",
     "shell.execute_reply": "2021-03-13T15:12:49.639137Z"
    }
   },
   "outputs": [],
   "source": [
    "df.columns = ['location','doses']"
   ]
  },
  {
   "cell_type": "markdown",
   "metadata": {},
   "source": [
    "Grab the overall California total"
   ]
  },
  {
   "cell_type": "code",
   "execution_count": 11,
   "metadata": {
    "execution": {
     "iopub.execute_input": "2021-03-13T15:12:49.644151Z",
     "iopub.status.busy": "2021-03-13T15:12:49.642925Z",
     "iopub.status.idle": "2021-03-13T15:12:49.644896Z",
     "shell.execute_reply": "2021-03-13T15:12:49.645354Z"
    }
   },
   "outputs": [],
   "source": [
    "add = {'location':'California','doses':dataJson[0]['dataValues'][2]}"
   ]
  },
  {
   "cell_type": "code",
   "execution_count": 12,
   "metadata": {
    "execution": {
     "iopub.execute_input": "2021-03-13T15:12:49.652975Z",
     "iopub.status.busy": "2021-03-13T15:12:49.651662Z",
     "iopub.status.idle": "2021-03-13T15:12:49.653587Z",
     "shell.execute_reply": "2021-03-13T15:12:49.654029Z"
    }
   },
   "outputs": [],
   "source": [
    "df = df.append(add, ignore_index=True)"
   ]
  },
  {
   "cell_type": "code",
   "execution_count": 13,
   "metadata": {
    "execution": {
     "iopub.execute_input": "2021-03-13T15:12:49.659432Z",
     "iopub.status.busy": "2021-03-13T15:12:49.658210Z",
     "iopub.status.idle": "2021-03-13T15:12:49.660117Z",
     "shell.execute_reply": "2021-03-13T15:12:49.660624Z"
    }
   },
   "outputs": [],
   "source": [
    "df = df.sort_values(by='location')"
   ]
  },
  {
   "cell_type": "code",
   "execution_count": 14,
   "metadata": {
    "execution": {
     "iopub.execute_input": "2021-03-13T15:12:49.667412Z",
     "iopub.status.busy": "2021-03-13T15:12:49.666165Z",
     "iopub.status.idle": "2021-03-13T15:12:49.668031Z",
     "shell.execute_reply": "2021-03-13T15:12:49.668476Z"
    }
   },
   "outputs": [],
   "source": [
    "df = df[df.location == 'California'].append(df[df.location != 'California']).reset_index(drop=True)"
   ]
  },
  {
   "cell_type": "code",
   "execution_count": null,
   "metadata": {},
   "outputs": [],
   "source": []
  },
  {
   "cell_type": "code",
   "execution_count": 15,
   "metadata": {
    "execution": {
     "iopub.execute_input": "2021-03-13T15:12:49.672082Z",
     "iopub.status.busy": "2021-03-13T15:12:49.671554Z",
     "iopub.status.idle": "2021-03-13T15:12:49.689361Z",
     "shell.execute_reply": "2021-03-13T15:12:49.688825Z"
    }
   },
   "outputs": [],
   "source": [
    "tz = pytz.timezone(\"America/New_York\")"
   ]
  },
  {
   "cell_type": "code",
   "execution_count": 16,
   "metadata": {
    "execution": {
     "iopub.execute_input": "2021-03-13T15:12:49.693716Z",
     "iopub.status.busy": "2021-03-13T15:12:49.692560Z",
     "iopub.status.idle": "2021-03-13T15:12:49.694324Z",
     "shell.execute_reply": "2021-03-13T15:12:49.694767Z"
    }
   },
   "outputs": [],
   "source": [
    "today = datetime.now(tz).date()"
   ]
  },
  {
   "cell_type": "code",
   "execution_count": 17,
   "metadata": {
    "execution": {
     "iopub.execute_input": "2021-03-13T15:12:49.701199Z",
     "iopub.status.busy": "2021-03-13T15:12:49.700016Z",
     "iopub.status.idle": "2021-03-13T15:12:49.701825Z",
     "shell.execute_reply": "2021-03-13T15:12:49.702268Z"
    }
   },
   "outputs": [],
   "source": [
    "data_dir = os.path.join(os.path.abspath(\"\"), \"data\")"
   ]
  },
  {
   "cell_type": "code",
   "execution_count": 18,
   "metadata": {
    "execution": {
     "iopub.execute_input": "2021-03-13T15:12:49.706862Z",
     "iopub.status.busy": "2021-03-13T15:12:49.705569Z",
     "iopub.status.idle": "2021-03-13T15:12:49.710553Z",
     "shell.execute_reply": "2021-03-13T15:12:49.710010Z"
    }
   },
   "outputs": [],
   "source": [
    "df.to_csv(os.path.join(data_dir, f\"{today}.csv\"), index=False)"
   ]
  },
  {
   "cell_type": "code",
   "execution_count": null,
   "metadata": {},
   "outputs": [],
   "source": []
  }
 ],
 "metadata": {
  "kernelspec": {
   "display_name": "Python 3",
   "language": "python",
   "name": "python3"
  },
  "language_info": {
   "codemirror_mode": {
    "name": "ipython",
    "version": 3
   },
   "file_extension": ".py",
   "mimetype": "text/x-python",
   "name": "python",
   "nbconvert_exporter": "python",
   "pygments_lexer": "ipython3",
   "version": "3.8.8"
  }
 },
 "nbformat": 4,
 "nbformat_minor": 4
}
