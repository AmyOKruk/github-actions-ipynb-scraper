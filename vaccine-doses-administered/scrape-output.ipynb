{
 "cells": [
  {
   "cell_type": "markdown",
   "metadata": {},
   "source": [
    "# California COVID vaccinations scrape"
   ]
  },
  {
   "cell_type": "markdown",
   "metadata": {},
   "source": [
    "By [Amy O'Kruk](https://twitter.com/amyokruk)"
   ]
  },
  {
   "cell_type": "markdown",
   "metadata": {},
   "source": [
    "Downloads data on vaccine doses administered by county and statewide from a Tableau-powered dashboard from the California Department of Public Health."
   ]
  },
  {
   "cell_type": "code",
   "execution_count": 1,
   "metadata": {
    "execution": {
     "iopub.execute_input": "2021-03-12T15:44:26.778271Z",
     "iopub.status.busy": "2021-03-12T15:44:26.777584Z",
     "iopub.status.idle": "2021-03-12T15:44:27.163012Z",
     "shell.execute_reply": "2021-03-12T15:44:27.163495Z"
    }
   },
   "outputs": [],
   "source": [
    "import pandas as pd\n",
    "import requests\n",
    "from bs4 import BeautifulSoup\n",
    "import json\n",
    "import re\n",
    "import time\n",
    "from time import gmtime, strftime \n",
    "import os\n",
    "import pytz\n",
    "from datetime import datetime"
   ]
  },
  {
   "cell_type": "markdown",
   "metadata": {},
   "source": [
    "Scrape the dashboard page"
   ]
  },
  {
   "cell_type": "code",
   "execution_count": 2,
   "metadata": {
    "execution": {
     "iopub.execute_input": "2021-03-12T15:44:27.169505Z",
     "iopub.status.busy": "2021-03-12T15:44:27.167328Z",
     "iopub.status.idle": "2021-03-12T15:44:27.921322Z",
     "shell.execute_reply": "2021-03-12T15:44:27.920792Z"
    }
   },
   "outputs": [],
   "source": [
    "url = \"https://public.tableau.com/interactive/views/COVID-19VaccineDashboardPublic/Vaccine?:embed=y&:showVizHome=n&:apiID=host0\"\n",
    "\n",
    "r = requests.get(url)\n",
    "soup = BeautifulSoup(r.text, \"html.parser\")"
   ]
  },
  {
   "cell_type": "code",
   "execution_count": 3,
   "metadata": {
    "execution": {
     "iopub.execute_input": "2021-03-12T15:44:27.925984Z",
     "iopub.status.busy": "2021-03-12T15:44:27.925411Z",
     "iopub.status.idle": "2021-03-12T15:44:27.929093Z",
     "shell.execute_reply": "2021-03-12T15:44:27.928616Z"
    }
   },
   "outputs": [],
   "source": [
    "tableauData = json.loads(soup.find(\"textarea\",{\"id\": \"tsConfigContainer\"}).text)"
   ]
  },
  {
   "cell_type": "markdown",
   "metadata": {},
   "source": [
    "Get the link to the Tableau data"
   ]
  },
  {
   "cell_type": "code",
   "execution_count": 4,
   "metadata": {
    "execution": {
     "iopub.execute_input": "2021-03-12T15:44:27.932779Z",
     "iopub.status.busy": "2021-03-12T15:44:27.932206Z",
     "iopub.status.idle": "2021-03-12T15:44:27.935896Z",
     "shell.execute_reply": "2021-03-12T15:44:27.935407Z"
    }
   },
   "outputs": [],
   "source": [
    "dataUrl = f'https://public.tableau.com{tableauData[\"vizql_root\"]}/bootstrapSession/sessions/{tableauData[\"sessionid\"]}'"
   ]
  },
  {
   "cell_type": "code",
   "execution_count": 5,
   "metadata": {
    "execution": {
     "iopub.execute_input": "2021-03-12T15:44:27.942729Z",
     "iopub.status.busy": "2021-03-12T15:44:27.942128Z",
     "iopub.status.idle": "2021-03-12T15:44:28.630103Z",
     "shell.execute_reply": "2021-03-12T15:44:28.628824Z"
    }
   },
   "outputs": [],
   "source": [
    "r = requests.post(dataUrl, data= {\n",
    "    \"sheet_id\": tableauData[\"sheetId\"],\n",
    "})\n",
    "\n",
    "dataReg = re.search('\\d+;({.*})\\d+;({.*})', r.text, re.MULTILINE)\n",
    "data1 = json.loads(dataReg.group(2))\n",
    "\n",
    "dataJson = data1[\"secondaryInfo\"][\"presModelMap\"][\"dataDictionary\"][\"presModelHolder\"][\"genDataDictionaryPresModel\"][\"dataSegments\"][\"0\"][\"dataColumns\"]"
   ]
  },
  {
   "cell_type": "markdown",
   "metadata": {},
   "source": [
    "Isolate what you want"
   ]
  },
  {
   "cell_type": "code",
   "execution_count": 6,
   "metadata": {
    "execution": {
     "iopub.execute_input": "2021-03-12T15:44:28.634905Z",
     "iopub.status.busy": "2021-03-12T15:44:28.634159Z",
     "iopub.status.idle": "2021-03-12T15:44:28.637971Z",
     "shell.execute_reply": "2021-03-12T15:44:28.638517Z"
    }
   },
   "outputs": [],
   "source": [
    "counties = dataJson[2]['dataValues'][:58]"
   ]
  },
  {
   "cell_type": "code",
   "execution_count": 7,
   "metadata": {
    "execution": {
     "iopub.execute_input": "2021-03-12T15:44:28.644229Z",
     "iopub.status.busy": "2021-03-12T15:44:28.642511Z",
     "iopub.status.idle": "2021-03-12T15:44:28.646453Z",
     "shell.execute_reply": "2021-03-12T15:44:28.647046Z"
    }
   },
   "outputs": [],
   "source": [
    "doses = dataJson[0]['dataValues'][3:61]"
   ]
  },
  {
   "cell_type": "markdown",
   "metadata": {},
   "source": [
    "Data formatting"
   ]
  },
  {
   "cell_type": "code",
   "execution_count": 8,
   "metadata": {
    "execution": {
     "iopub.execute_input": "2021-03-12T15:44:28.652709Z",
     "iopub.status.busy": "2021-03-12T15:44:28.650997Z",
     "iopub.status.idle": "2021-03-12T15:44:28.653449Z",
     "shell.execute_reply": "2021-03-12T15:44:28.654011Z"
    }
   },
   "outputs": [],
   "source": [
    "zipped = dict(zip(counties, doses))"
   ]
  },
  {
   "cell_type": "code",
   "execution_count": 9,
   "metadata": {
    "execution": {
     "iopub.execute_input": "2021-03-12T15:44:28.663196Z",
     "iopub.status.busy": "2021-03-12T15:44:28.661512Z",
     "iopub.status.idle": "2021-03-12T15:44:28.663920Z",
     "shell.execute_reply": "2021-03-12T15:44:28.664469Z"
    }
   },
   "outputs": [],
   "source": [
    "df = pd.Series(zipped).reset_index()"
   ]
  },
  {
   "cell_type": "code",
   "execution_count": 10,
   "metadata": {
    "execution": {
     "iopub.execute_input": "2021-03-12T15:44:28.670123Z",
     "iopub.status.busy": "2021-03-12T15:44:28.668498Z",
     "iopub.status.idle": "2021-03-12T15:44:28.670868Z",
     "shell.execute_reply": "2021-03-12T15:44:28.671411Z"
    }
   },
   "outputs": [],
   "source": [
    "df.columns = ['location','doses']"
   ]
  },
  {
   "cell_type": "markdown",
   "metadata": {},
   "source": [
    "Grab the overall California total"
   ]
  },
  {
   "cell_type": "code",
   "execution_count": 11,
   "metadata": {
    "execution": {
     "iopub.execute_input": "2021-03-12T15:44:28.676650Z",
     "iopub.status.busy": "2021-03-12T15:44:28.675296Z",
     "iopub.status.idle": "2021-03-12T15:44:28.677504Z",
     "shell.execute_reply": "2021-03-12T15:44:28.678080Z"
    }
   },
   "outputs": [],
   "source": [
    "add = {'location':'California','doses':dataJson[0]['dataValues'][2]}"
   ]
  },
  {
   "cell_type": "code",
   "execution_count": 12,
   "metadata": {
    "execution": {
     "iopub.execute_input": "2021-03-12T15:44:28.686566Z",
     "iopub.status.busy": "2021-03-12T15:44:28.685092Z",
     "iopub.status.idle": "2021-03-12T15:44:28.687291Z",
     "shell.execute_reply": "2021-03-12T15:44:28.687825Z"
    }
   },
   "outputs": [],
   "source": [
    "df = df.append(add, ignore_index=True)"
   ]
  },
  {
   "cell_type": "code",
   "execution_count": 13,
   "metadata": {
    "execution": {
     "iopub.execute_input": "2021-03-12T15:44:28.693947Z",
     "iopub.status.busy": "2021-03-12T15:44:28.692380Z",
     "iopub.status.idle": "2021-03-12T15:44:28.694642Z",
     "shell.execute_reply": "2021-03-12T15:44:28.695224Z"
    }
   },
   "outputs": [],
   "source": [
    "df = df.sort_values(by='location')"
   ]
  },
  {
   "cell_type": "code",
   "execution_count": 14,
   "metadata": {
    "execution": {
     "iopub.execute_input": "2021-03-12T15:44:28.702884Z",
     "iopub.status.busy": "2021-03-12T15:44:28.701384Z",
     "iopub.status.idle": "2021-03-12T15:44:28.703989Z",
     "shell.execute_reply": "2021-03-12T15:44:28.704654Z"
    }
   },
   "outputs": [],
   "source": [
    "df = df[df.location == 'California'].append(df[df.location != 'California']).reset_index(drop=True)"
   ]
  },
  {
   "cell_type": "code",
   "execution_count": null,
   "metadata": {},
   "outputs": [],
   "source": []
  },
  {
   "cell_type": "code",
   "execution_count": 15,
   "metadata": {
    "execution": {
     "iopub.execute_input": "2021-03-12T15:44:28.708388Z",
     "iopub.status.busy": "2021-03-12T15:44:28.707764Z",
     "iopub.status.idle": "2021-03-12T15:44:28.728294Z",
     "shell.execute_reply": "2021-03-12T15:44:28.728767Z"
    }
   },
   "outputs": [],
   "source": [
    "tz = pytz.timezone(\"America/New_York\")"
   ]
  },
  {
   "cell_type": "code",
   "execution_count": 16,
   "metadata": {
    "execution": {
     "iopub.execute_input": "2021-03-12T15:44:28.733634Z",
     "iopub.status.busy": "2021-03-12T15:44:28.732192Z",
     "iopub.status.idle": "2021-03-12T15:44:28.734291Z",
     "shell.execute_reply": "2021-03-12T15:44:28.735006Z"
    }
   },
   "outputs": [],
   "source": [
    "today = datetime.now(tz).date()"
   ]
  },
  {
   "cell_type": "code",
   "execution_count": 17,
   "metadata": {
    "execution": {
     "iopub.execute_input": "2021-03-12T15:44:28.739991Z",
     "iopub.status.busy": "2021-03-12T15:44:28.738504Z",
     "iopub.status.idle": "2021-03-12T15:44:28.740649Z",
     "shell.execute_reply": "2021-03-12T15:44:28.741150Z"
    }
   },
   "outputs": [],
   "source": [
    "data_dir = os.path.join(os.path.abspath(\"\"), \"data\")"
   ]
  },
  {
   "cell_type": "code",
   "execution_count": 18,
   "metadata": {
    "execution": {
     "iopub.execute_input": "2021-03-12T15:44:28.745380Z",
     "iopub.status.busy": "2021-03-12T15:44:28.744601Z",
     "iopub.status.idle": "2021-03-12T15:44:28.748964Z",
     "shell.execute_reply": "2021-03-12T15:44:28.749429Z"
    }
   },
   "outputs": [],
   "source": [
    "df.to_csv(os.path.join(data_dir, f\"{today}.csv\"), index=False)"
   ]
  },
  {
   "cell_type": "code",
   "execution_count": null,
   "metadata": {},
   "outputs": [],
   "source": []
  }
 ],
 "metadata": {
  "kernelspec": {
   "display_name": "Python 3",
   "language": "python",
   "name": "python3"
  },
  "language_info": {
   "codemirror_mode": {
    "name": "ipython",
    "version": 3
   },
   "file_extension": ".py",
   "mimetype": "text/x-python",
   "name": "python",
   "nbconvert_exporter": "python",
   "pygments_lexer": "ipython3",
   "version": "3.8.8"
  }
 },
 "nbformat": 4,
 "nbformat_minor": 4
}
