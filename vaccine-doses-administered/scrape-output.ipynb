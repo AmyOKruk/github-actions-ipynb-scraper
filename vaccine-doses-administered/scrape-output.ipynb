{
 "cells": [
  {
   "cell_type": "markdown",
   "metadata": {},
   "source": [
    "# California COVID vaccinations scrape"
   ]
  },
  {
   "cell_type": "markdown",
   "metadata": {},
   "source": [
    "By [Amy O'Kruk](https://twitter.com/amyokruk)"
   ]
  },
  {
   "cell_type": "markdown",
   "metadata": {},
   "source": [
    "Downloads data on vaccine doses administered by county and statewide from a Tableau-powered dashboard from the California Department of Public Health."
   ]
  },
  {
   "cell_type": "code",
   "execution_count": 1,
   "metadata": {
    "execution": {
     "iopub.execute_input": "2021-03-09T16:19:51.480458Z",
     "iopub.status.busy": "2021-03-09T16:19:51.479771Z",
     "iopub.status.idle": "2021-03-09T16:19:51.896870Z",
     "shell.execute_reply": "2021-03-09T16:19:51.896212Z"
    }
   },
   "outputs": [],
   "source": [
    "import pandas as pd\n",
    "import requests\n",
    "from bs4 import BeautifulSoup\n",
    "import json\n",
    "import re\n",
    "import time\n",
    "from time import gmtime, strftime \n",
    "import os\n",
    "import pytz\n",
    "from datetime import datetime"
   ]
  },
  {
   "cell_type": "markdown",
   "metadata": {},
   "source": [
    "Scrape the dashboard page"
   ]
  },
  {
   "cell_type": "code",
   "execution_count": 2,
   "metadata": {
    "execution": {
     "iopub.execute_input": "2021-03-09T16:19:51.903957Z",
     "iopub.status.busy": "2021-03-09T16:19:51.901462Z",
     "iopub.status.idle": "2021-03-09T16:19:52.276404Z",
     "shell.execute_reply": "2021-03-09T16:19:52.275860Z"
    }
   },
   "outputs": [],
   "source": [
    "url = \"https://public.tableau.com/interactive/views/COVID-19VaccineDashboardPublic/Vaccine?:embed=y&:showVizHome=n&:apiID=host0\"\n",
    "\n",
    "r = requests.get(url)\n",
    "soup = BeautifulSoup(r.text, \"html.parser\")"
   ]
  },
  {
   "cell_type": "code",
   "execution_count": 3,
   "metadata": {
    "execution": {
     "iopub.execute_input": "2021-03-09T16:19:52.281695Z",
     "iopub.status.busy": "2021-03-09T16:19:52.281116Z",
     "iopub.status.idle": "2021-03-09T16:19:52.284896Z",
     "shell.execute_reply": "2021-03-09T16:19:52.284386Z"
    }
   },
   "outputs": [],
   "source": [
    "tableauData = json.loads(soup.find(\"textarea\",{\"id\": \"tsConfigContainer\"}).text)"
   ]
  },
  {
   "cell_type": "markdown",
   "metadata": {},
   "source": [
    "Get the link to the Tableau data"
   ]
  },
  {
   "cell_type": "code",
   "execution_count": 4,
   "metadata": {
    "execution": {
     "iopub.execute_input": "2021-03-09T16:19:52.289108Z",
     "iopub.status.busy": "2021-03-09T16:19:52.288382Z",
     "iopub.status.idle": "2021-03-09T16:19:52.291885Z",
     "shell.execute_reply": "2021-03-09T16:19:52.292440Z"
    }
   },
   "outputs": [],
   "source": [
    "dataUrl = f'https://public.tableau.com{tableauData[\"vizql_root\"]}/bootstrapSession/sessions/{tableauData[\"sessionid\"]}'"
   ]
  },
  {
   "cell_type": "code",
   "execution_count": 5,
   "metadata": {
    "execution": {
     "iopub.execute_input": "2021-03-09T16:19:52.299308Z",
     "iopub.status.busy": "2021-03-09T16:19:52.298648Z",
     "iopub.status.idle": "2021-03-09T16:19:52.512258Z",
     "shell.execute_reply": "2021-03-09T16:19:52.511714Z"
    }
   },
   "outputs": [],
   "source": [
    "r = requests.post(dataUrl, data= {\n",
    "    \"sheet_id\": tableauData[\"sheetId\"],\n",
    "})\n",
    "\n",
    "dataReg = re.search('\\d+;({.*})\\d+;({.*})', r.text, re.MULTILINE)\n",
    "data1 = json.loads(dataReg.group(2))\n",
    "\n",
    "dataJson = data1[\"secondaryInfo\"][\"presModelMap\"][\"dataDictionary\"][\"presModelHolder\"][\"genDataDictionaryPresModel\"][\"dataSegments\"][\"0\"][\"dataColumns\"]"
   ]
  },
  {
   "cell_type": "markdown",
   "metadata": {},
   "source": [
    "Isolate what you want"
   ]
  },
  {
   "cell_type": "code",
   "execution_count": 6,
   "metadata": {
    "execution": {
     "iopub.execute_input": "2021-03-09T16:19:52.518107Z",
     "iopub.status.busy": "2021-03-09T16:19:52.516525Z",
     "iopub.status.idle": "2021-03-09T16:19:52.520146Z",
     "shell.execute_reply": "2021-03-09T16:19:52.519552Z"
    }
   },
   "outputs": [],
   "source": [
    "counties = dataJson[2]['dataValues'][:58]"
   ]
  },
  {
   "cell_type": "code",
   "execution_count": 7,
   "metadata": {
    "execution": {
     "iopub.execute_input": "2021-03-09T16:19:52.526301Z",
     "iopub.status.busy": "2021-03-09T16:19:52.525583Z",
     "iopub.status.idle": "2021-03-09T16:19:52.529863Z",
     "shell.execute_reply": "2021-03-09T16:19:52.530344Z"
    }
   },
   "outputs": [],
   "source": [
    "doses = dataJson[0]['dataValues'][3:61]"
   ]
  },
  {
   "cell_type": "markdown",
   "metadata": {},
   "source": [
    "Data formatting"
   ]
  },
  {
   "cell_type": "code",
   "execution_count": 8,
   "metadata": {
    "execution": {
     "iopub.execute_input": "2021-03-09T16:19:52.535154Z",
     "iopub.status.busy": "2021-03-09T16:19:52.533728Z",
     "iopub.status.idle": "2021-03-09T16:19:52.535803Z",
     "shell.execute_reply": "2021-03-09T16:19:52.536297Z"
    }
   },
   "outputs": [],
   "source": [
    "zipped = dict(zip(counties, doses))"
   ]
  },
  {
   "cell_type": "code",
   "execution_count": 9,
   "metadata": {
    "execution": {
     "iopub.execute_input": "2021-03-09T16:19:52.543453Z",
     "iopub.status.busy": "2021-03-09T16:19:52.542051Z",
     "iopub.status.idle": "2021-03-09T16:19:52.544105Z",
     "shell.execute_reply": "2021-03-09T16:19:52.544596Z"
    }
   },
   "outputs": [],
   "source": [
    "df = pd.Series(zipped).reset_index()"
   ]
  },
  {
   "cell_type": "code",
   "execution_count": 10,
   "metadata": {
    "execution": {
     "iopub.execute_input": "2021-03-09T16:19:52.549265Z",
     "iopub.status.busy": "2021-03-09T16:19:52.547948Z",
     "iopub.status.idle": "2021-03-09T16:19:52.549903Z",
     "shell.execute_reply": "2021-03-09T16:19:52.550401Z"
    }
   },
   "outputs": [],
   "source": [
    "df.columns = ['location','doses']"
   ]
  },
  {
   "cell_type": "markdown",
   "metadata": {},
   "source": [
    "Grab the overall California total"
   ]
  },
  {
   "cell_type": "code",
   "execution_count": 11,
   "metadata": {
    "execution": {
     "iopub.execute_input": "2021-03-09T16:19:52.557458Z",
     "iopub.status.busy": "2021-03-09T16:19:52.553792Z",
     "iopub.status.idle": "2021-03-09T16:19:52.558417Z",
     "shell.execute_reply": "2021-03-09T16:19:52.558914Z"
    }
   },
   "outputs": [],
   "source": [
    "add = {'location':'California','doses':dataJson[0]['dataValues'][2]}"
   ]
  },
  {
   "cell_type": "code",
   "execution_count": 12,
   "metadata": {
    "execution": {
     "iopub.execute_input": "2021-03-09T16:19:52.568068Z",
     "iopub.status.busy": "2021-03-09T16:19:52.566719Z",
     "iopub.status.idle": "2021-03-09T16:19:52.568713Z",
     "shell.execute_reply": "2021-03-09T16:19:52.569237Z"
    }
   },
   "outputs": [],
   "source": [
    "df = df.append(add, ignore_index=True)"
   ]
  },
  {
   "cell_type": "code",
   "execution_count": 13,
   "metadata": {
    "execution": {
     "iopub.execute_input": "2021-03-09T16:19:52.574868Z",
     "iopub.status.busy": "2021-03-09T16:19:52.573549Z",
     "iopub.status.idle": "2021-03-09T16:19:52.575512Z",
     "shell.execute_reply": "2021-03-09T16:19:52.576003Z"
    }
   },
   "outputs": [],
   "source": [
    "df = df.sort_values(by='location')"
   ]
  },
  {
   "cell_type": "code",
   "execution_count": 14,
   "metadata": {
    "execution": {
     "iopub.execute_input": "2021-03-09T16:19:52.583186Z",
     "iopub.status.busy": "2021-03-09T16:19:52.581883Z",
     "iopub.status.idle": "2021-03-09T16:19:52.583832Z",
     "shell.execute_reply": "2021-03-09T16:19:52.584324Z"
    }
   },
   "outputs": [],
   "source": [
    "df = df[df.location == 'California'].append(df[df.location != 'California']).reset_index(drop=True)"
   ]
  },
  {
   "cell_type": "code",
   "execution_count": null,
   "metadata": {},
   "outputs": [],
   "source": []
  },
  {
   "cell_type": "code",
   "execution_count": 15,
   "metadata": {
    "execution": {
     "iopub.execute_input": "2021-03-09T16:19:52.588297Z",
     "iopub.status.busy": "2021-03-09T16:19:52.587717Z",
     "iopub.status.idle": "2021-03-09T16:19:52.608924Z",
     "shell.execute_reply": "2021-03-09T16:19:52.608368Z"
    }
   },
   "outputs": [],
   "source": [
    "tz = pytz.timezone(\"America/New_York\")"
   ]
  },
  {
   "cell_type": "code",
   "execution_count": 16,
   "metadata": {
    "execution": {
     "iopub.execute_input": "2021-03-09T16:19:52.613740Z",
     "iopub.status.busy": "2021-03-09T16:19:52.612330Z",
     "iopub.status.idle": "2021-03-09T16:19:52.614400Z",
     "shell.execute_reply": "2021-03-09T16:19:52.614904Z"
    }
   },
   "outputs": [],
   "source": [
    "today = datetime.now(tz).date()"
   ]
  },
  {
   "cell_type": "code",
   "execution_count": 17,
   "metadata": {
    "execution": {
     "iopub.execute_input": "2021-03-09T16:19:52.619909Z",
     "iopub.status.busy": "2021-03-09T16:19:52.618419Z",
     "iopub.status.idle": "2021-03-09T16:19:52.620956Z",
     "shell.execute_reply": "2021-03-09T16:19:52.621423Z"
    }
   },
   "outputs": [],
   "source": [
    "data_dir = os.path.join(os.path.abspath(\"\"), \"data\")"
   ]
  },
  {
   "cell_type": "code",
   "execution_count": 18,
   "metadata": {
    "execution": {
     "iopub.execute_input": "2021-03-09T16:19:52.626616Z",
     "iopub.status.busy": "2021-03-09T16:19:52.624691Z",
     "iopub.status.idle": "2021-03-09T16:19:52.635358Z",
     "shell.execute_reply": "2021-03-09T16:19:52.634861Z"
    }
   },
   "outputs": [],
   "source": [
    "df.to_csv(os.path.join(data_dir, f\"{today}.csv\"), index=False)"
   ]
  },
  {
   "cell_type": "code",
   "execution_count": null,
   "metadata": {},
   "outputs": [],
   "source": []
  }
 ],
 "metadata": {
  "kernelspec": {
   "display_name": "Python 3",
   "language": "python",
   "name": "python3"
  },
  "language_info": {
   "codemirror_mode": {
    "name": "ipython",
    "version": 3
   },
   "file_extension": ".py",
   "mimetype": "text/x-python",
   "name": "python",
   "nbconvert_exporter": "python",
   "pygments_lexer": "ipython3",
   "version": "3.8.8"
  }
 },
 "nbformat": 4,
 "nbformat_minor": 4
}
