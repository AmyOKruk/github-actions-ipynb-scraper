{
 "cells": [
  {
   "cell_type": "markdown",
   "metadata": {},
   "source": [
    "# California COVID vaccinations scrape"
   ]
  },
  {
   "cell_type": "markdown",
   "metadata": {},
   "source": [
    "By [Amy O'Kruk](https://twitter.com/amyokruk)"
   ]
  },
  {
   "cell_type": "markdown",
   "metadata": {},
   "source": [
    "Downloads data on vaccine doses administered by county and statewide from a Tableau-powered dashboard from the California Department of Public Health."
   ]
  },
  {
   "cell_type": "code",
   "execution_count": 1,
   "metadata": {
    "execution": {
     "iopub.execute_input": "2021-03-18T20:13:52.752122Z",
     "iopub.status.busy": "2021-03-18T20:13:52.751457Z",
     "iopub.status.idle": "2021-03-18T20:13:53.138374Z",
     "shell.execute_reply": "2021-03-18T20:13:53.137252Z"
    }
   },
   "outputs": [],
   "source": [
    "import pandas as pd\n",
    "import requests\n",
    "from bs4 import BeautifulSoup\n",
    "import json\n",
    "import re\n",
    "import time\n",
    "from time import gmtime, strftime \n",
    "import os\n",
    "import pytz\n",
    "from datetime import datetime"
   ]
  },
  {
   "cell_type": "markdown",
   "metadata": {},
   "source": [
    "Scrape the dashboard page"
   ]
  },
  {
   "cell_type": "code",
   "execution_count": 2,
   "metadata": {
    "execution": {
     "iopub.execute_input": "2021-03-18T20:13:53.145167Z",
     "iopub.status.busy": "2021-03-18T20:13:53.142060Z",
     "iopub.status.idle": "2021-03-18T20:13:53.489146Z",
     "shell.execute_reply": "2021-03-18T20:13:53.488232Z"
    }
   },
   "outputs": [],
   "source": [
    "url = \"https://public.tableau.com/interactive/views/COVID-19VaccineDashboardPublic/Vaccine?:embed=y&:showVizHome=n&:apiID=host0\"\n",
    "\n",
    "r = requests.get(url)\n",
    "soup = BeautifulSoup(r.text, \"html.parser\")"
   ]
  },
  {
   "cell_type": "code",
   "execution_count": 3,
   "metadata": {
    "execution": {
     "iopub.execute_input": "2021-03-18T20:13:53.493671Z",
     "iopub.status.busy": "2021-03-18T20:13:53.493187Z",
     "iopub.status.idle": "2021-03-18T20:13:53.496494Z",
     "shell.execute_reply": "2021-03-18T20:13:53.496002Z"
    }
   },
   "outputs": [],
   "source": [
    "tableauData = json.loads(soup.find(\"textarea\",{\"id\": \"tsConfigContainer\"}).text)"
   ]
  },
  {
   "cell_type": "markdown",
   "metadata": {},
   "source": [
    "Get the link to the Tableau data"
   ]
  },
  {
   "cell_type": "code",
   "execution_count": 4,
   "metadata": {
    "execution": {
     "iopub.execute_input": "2021-03-18T20:13:53.500060Z",
     "iopub.status.busy": "2021-03-18T20:13:53.499542Z",
     "iopub.status.idle": "2021-03-18T20:13:53.503077Z",
     "shell.execute_reply": "2021-03-18T20:13:53.502624Z"
    }
   },
   "outputs": [],
   "source": [
    "dataUrl = f'https://public.tableau.com{tableauData[\"vizql_root\"]}/bootstrapSession/sessions/{tableauData[\"sessionid\"]}'"
   ]
  },
  {
   "cell_type": "code",
   "execution_count": 5,
   "metadata": {
    "execution": {
     "iopub.execute_input": "2021-03-18T20:13:53.509820Z",
     "iopub.status.busy": "2021-03-18T20:13:53.509290Z",
     "iopub.status.idle": "2021-03-18T20:13:53.837581Z",
     "shell.execute_reply": "2021-03-18T20:13:53.836986Z"
    }
   },
   "outputs": [],
   "source": [
    "r = requests.post(dataUrl, data= {\n",
    "    \"sheet_id\": tableauData[\"sheetId\"],\n",
    "})\n",
    "\n",
    "dataReg = re.search('\\d+;({.*})\\d+;({.*})', r.text, re.MULTILINE)\n",
    "data1 = json.loads(dataReg.group(2))\n",
    "\n",
    "dataJson = data1[\"secondaryInfo\"][\"presModelMap\"][\"dataDictionary\"][\"presModelHolder\"][\"genDataDictionaryPresModel\"][\"dataSegments\"][\"0\"][\"dataColumns\"]"
   ]
  },
  {
   "cell_type": "markdown",
   "metadata": {},
   "source": [
    "Isolate what you want"
   ]
  },
  {
   "cell_type": "code",
   "execution_count": 6,
   "metadata": {
    "execution": {
     "iopub.execute_input": "2021-03-18T20:13:53.842094Z",
     "iopub.status.busy": "2021-03-18T20:13:53.841606Z",
     "iopub.status.idle": "2021-03-18T20:13:53.844693Z",
     "shell.execute_reply": "2021-03-18T20:13:53.845105Z"
    }
   },
   "outputs": [],
   "source": [
    "counties = dataJson[2]['dataValues'][:58]"
   ]
  },
  {
   "cell_type": "code",
   "execution_count": 7,
   "metadata": {
    "execution": {
     "iopub.execute_input": "2021-03-18T20:13:53.848815Z",
     "iopub.status.busy": "2021-03-18T20:13:53.848275Z",
     "iopub.status.idle": "2021-03-18T20:13:53.851671Z",
     "shell.execute_reply": "2021-03-18T20:13:53.851267Z"
    }
   },
   "outputs": [],
   "source": [
    "doses = dataJson[0]['dataValues'][3:61]"
   ]
  },
  {
   "cell_type": "markdown",
   "metadata": {},
   "source": [
    "Data formatting"
   ]
  },
  {
   "cell_type": "code",
   "execution_count": 8,
   "metadata": {
    "execution": {
     "iopub.execute_input": "2021-03-18T20:13:53.855184Z",
     "iopub.status.busy": "2021-03-18T20:13:53.854713Z",
     "iopub.status.idle": "2021-03-18T20:13:53.857489Z",
     "shell.execute_reply": "2021-03-18T20:13:53.857862Z"
    }
   },
   "outputs": [],
   "source": [
    "zipped = dict(zip(counties, doses))"
   ]
  },
  {
   "cell_type": "code",
   "execution_count": 9,
   "metadata": {
    "execution": {
     "iopub.execute_input": "2021-03-18T20:13:53.863575Z",
     "iopub.status.busy": "2021-03-18T20:13:53.863071Z",
     "iopub.status.idle": "2021-03-18T20:13:53.865883Z",
     "shell.execute_reply": "2021-03-18T20:13:53.866253Z"
    }
   },
   "outputs": [],
   "source": [
    "df = pd.Series(zipped).reset_index()"
   ]
  },
  {
   "cell_type": "code",
   "execution_count": 10,
   "metadata": {
    "execution": {
     "iopub.execute_input": "2021-03-18T20:13:53.869652Z",
     "iopub.status.busy": "2021-03-18T20:13:53.869181Z",
     "iopub.status.idle": "2021-03-18T20:13:53.872020Z",
     "shell.execute_reply": "2021-03-18T20:13:53.872462Z"
    }
   },
   "outputs": [],
   "source": [
    "df.columns = ['location','doses']"
   ]
  },
  {
   "cell_type": "markdown",
   "metadata": {},
   "source": [
    "Grab the overall California total"
   ]
  },
  {
   "cell_type": "code",
   "execution_count": 11,
   "metadata": {
    "execution": {
     "iopub.execute_input": "2021-03-18T20:13:53.876666Z",
     "iopub.status.busy": "2021-03-18T20:13:53.875542Z",
     "iopub.status.idle": "2021-03-18T20:13:53.877288Z",
     "shell.execute_reply": "2021-03-18T20:13:53.877742Z"
    }
   },
   "outputs": [],
   "source": [
    "add = {'location':'California','doses':dataJson[0]['dataValues'][2]}"
   ]
  },
  {
   "cell_type": "code",
   "execution_count": 12,
   "metadata": {
    "execution": {
     "iopub.execute_input": "2021-03-18T20:13:53.884309Z",
     "iopub.status.busy": "2021-03-18T20:13:53.883227Z",
     "iopub.status.idle": "2021-03-18T20:13:53.884950Z",
     "shell.execute_reply": "2021-03-18T20:13:53.885348Z"
    }
   },
   "outputs": [],
   "source": [
    "df = df.append(add, ignore_index=True)"
   ]
  },
  {
   "cell_type": "code",
   "execution_count": 13,
   "metadata": {
    "execution": {
     "iopub.execute_input": "2021-03-18T20:13:53.889737Z",
     "iopub.status.busy": "2021-03-18T20:13:53.888890Z",
     "iopub.status.idle": "2021-03-18T20:13:53.890641Z",
     "shell.execute_reply": "2021-03-18T20:13:53.891072Z"
    }
   },
   "outputs": [],
   "source": [
    "df = df.sort_values(by='location')"
   ]
  },
  {
   "cell_type": "code",
   "execution_count": 14,
   "metadata": {
    "execution": {
     "iopub.execute_input": "2021-03-18T20:13:53.896734Z",
     "iopub.status.busy": "2021-03-18T20:13:53.895889Z",
     "iopub.status.idle": "2021-03-18T20:13:53.897523Z",
     "shell.execute_reply": "2021-03-18T20:13:53.897921Z"
    }
   },
   "outputs": [],
   "source": [
    "df = df[df.location == 'California'].append(df[df.location != 'California']).reset_index(drop=True)"
   ]
  },
  {
   "cell_type": "code",
   "execution_count": null,
   "metadata": {},
   "outputs": [],
   "source": []
  },
  {
   "cell_type": "code",
   "execution_count": 15,
   "metadata": {
    "execution": {
     "iopub.execute_input": "2021-03-18T20:13:53.900969Z",
     "iopub.status.busy": "2021-03-18T20:13:53.900481Z",
     "iopub.status.idle": "2021-03-18T20:13:53.915177Z",
     "shell.execute_reply": "2021-03-18T20:13:53.914809Z"
    }
   },
   "outputs": [],
   "source": [
    "tz = pytz.timezone(\"America/New_York\")"
   ]
  },
  {
   "cell_type": "code",
   "execution_count": 16,
   "metadata": {
    "execution": {
     "iopub.execute_input": "2021-03-18T20:13:53.918779Z",
     "iopub.status.busy": "2021-03-18T20:13:53.917692Z",
     "iopub.status.idle": "2021-03-18T20:13:53.919448Z",
     "shell.execute_reply": "2021-03-18T20:13:53.919846Z"
    }
   },
   "outputs": [],
   "source": [
    "today = datetime.now(tz).date()"
   ]
  },
  {
   "cell_type": "code",
   "execution_count": 17,
   "metadata": {
    "execution": {
     "iopub.execute_input": "2021-03-18T20:13:53.923892Z",
     "iopub.status.busy": "2021-03-18T20:13:53.922852Z",
     "iopub.status.idle": "2021-03-18T20:13:53.924485Z",
     "shell.execute_reply": "2021-03-18T20:13:53.924898Z"
    }
   },
   "outputs": [],
   "source": [
    "data_dir = os.path.join(os.path.abspath(\"\"), \"data\")"
   ]
  },
  {
   "cell_type": "code",
   "execution_count": 18,
   "metadata": {
    "execution": {
     "iopub.execute_input": "2021-03-18T20:13:53.928460Z",
     "iopub.status.busy": "2021-03-18T20:13:53.927919Z",
     "iopub.status.idle": "2021-03-18T20:13:53.932321Z",
     "shell.execute_reply": "2021-03-18T20:13:53.931812Z"
    }
   },
   "outputs": [],
   "source": [
    "df.to_csv(os.path.join(data_dir, f\"{today}.csv\"), index=False)"
   ]
  },
  {
   "cell_type": "code",
   "execution_count": null,
   "metadata": {},
   "outputs": [],
   "source": []
  }
 ],
 "metadata": {
  "kernelspec": {
   "display_name": "Python 3",
   "language": "python",
   "name": "python3"
  },
  "language_info": {
   "codemirror_mode": {
    "name": "ipython",
    "version": 3
   },
   "file_extension": ".py",
   "mimetype": "text/x-python",
   "name": "python",
   "nbconvert_exporter": "python",
   "pygments_lexer": "ipython3",
   "version": "3.8.8"
  }
 },
 "nbformat": 4,
 "nbformat_minor": 4
}
