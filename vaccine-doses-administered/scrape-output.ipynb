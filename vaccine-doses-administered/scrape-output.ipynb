{
 "cells": [
  {
   "cell_type": "markdown",
   "metadata": {},
   "source": [
    "# California COVID vaccinations scrape"
   ]
  },
  {
   "cell_type": "markdown",
   "metadata": {},
   "source": [
    "By [Amy O'Kruk](https://twitter.com/amyokruk)"
   ]
  },
  {
   "cell_type": "markdown",
   "metadata": {},
   "source": [
    "Downloads data on vaccine doses administered by county and statewide from a Tableau-powered dashboard from the California Department of Public Health."
   ]
  },
  {
   "cell_type": "code",
   "execution_count": 1,
   "metadata": {
    "execution": {
     "iopub.execute_input": "2021-03-16T09:43:07.284552Z",
     "iopub.status.busy": "2021-03-16T09:43:07.283895Z",
     "iopub.status.idle": "2021-03-16T09:43:07.676204Z",
     "shell.execute_reply": "2021-03-16T09:43:07.675046Z"
    }
   },
   "outputs": [],
   "source": [
    "import pandas as pd\n",
    "import requests\n",
    "from bs4 import BeautifulSoup\n",
    "import json\n",
    "import re\n",
    "import time\n",
    "from time import gmtime, strftime \n",
    "import os\n",
    "import pytz\n",
    "from datetime import datetime"
   ]
  },
  {
   "cell_type": "markdown",
   "metadata": {},
   "source": [
    "Scrape the dashboard page"
   ]
  },
  {
   "cell_type": "code",
   "execution_count": 2,
   "metadata": {
    "execution": {
     "iopub.execute_input": "2021-03-16T09:43:07.682935Z",
     "iopub.status.busy": "2021-03-16T09:43:07.680774Z",
     "iopub.status.idle": "2021-03-16T09:43:08.246283Z",
     "shell.execute_reply": "2021-03-16T09:43:08.245185Z"
    }
   },
   "outputs": [],
   "source": [
    "url = \"https://public.tableau.com/interactive/views/COVID-19VaccineDashboardPublic/Vaccine?:embed=y&:showVizHome=n&:apiID=host0\"\n",
    "\n",
    "r = requests.get(url)\n",
    "soup = BeautifulSoup(r.text, \"html.parser\")"
   ]
  },
  {
   "cell_type": "code",
   "execution_count": 3,
   "metadata": {
    "execution": {
     "iopub.execute_input": "2021-03-16T09:43:08.251076Z",
     "iopub.status.busy": "2021-03-16T09:43:08.250591Z",
     "iopub.status.idle": "2021-03-16T09:43:08.252808Z",
     "shell.execute_reply": "2021-03-16T09:43:08.253207Z"
    }
   },
   "outputs": [],
   "source": [
    "tableauData = json.loads(soup.find(\"textarea\",{\"id\": \"tsConfigContainer\"}).text)"
   ]
  },
  {
   "cell_type": "markdown",
   "metadata": {},
   "source": [
    "Get the link to the Tableau data"
   ]
  },
  {
   "cell_type": "code",
   "execution_count": 4,
   "metadata": {
    "execution": {
     "iopub.execute_input": "2021-03-16T09:43:08.256642Z",
     "iopub.status.busy": "2021-03-16T09:43:08.256143Z",
     "iopub.status.idle": "2021-03-16T09:43:08.259124Z",
     "shell.execute_reply": "2021-03-16T09:43:08.259533Z"
    }
   },
   "outputs": [],
   "source": [
    "dataUrl = f'https://public.tableau.com{tableauData[\"vizql_root\"]}/bootstrapSession/sessions/{tableauData[\"sessionid\"]}'"
   ]
  },
  {
   "cell_type": "code",
   "execution_count": 5,
   "metadata": {
    "execution": {
     "iopub.execute_input": "2021-03-16T09:43:08.265897Z",
     "iopub.status.busy": "2021-03-16T09:43:08.265364Z",
     "iopub.status.idle": "2021-03-16T09:43:08.552240Z",
     "shell.execute_reply": "2021-03-16T09:43:08.551726Z"
    }
   },
   "outputs": [],
   "source": [
    "r = requests.post(dataUrl, data= {\n",
    "    \"sheet_id\": tableauData[\"sheetId\"],\n",
    "})\n",
    "\n",
    "dataReg = re.search('\\d+;({.*})\\d+;({.*})', r.text, re.MULTILINE)\n",
    "data1 = json.loads(dataReg.group(2))\n",
    "\n",
    "dataJson = data1[\"secondaryInfo\"][\"presModelMap\"][\"dataDictionary\"][\"presModelHolder\"][\"genDataDictionaryPresModel\"][\"dataSegments\"][\"0\"][\"dataColumns\"]"
   ]
  },
  {
   "cell_type": "markdown",
   "metadata": {},
   "source": [
    "Isolate what you want"
   ]
  },
  {
   "cell_type": "code",
   "execution_count": 6,
   "metadata": {
    "execution": {
     "iopub.execute_input": "2021-03-16T09:43:08.557020Z",
     "iopub.status.busy": "2021-03-16T09:43:08.555696Z",
     "iopub.status.idle": "2021-03-16T09:43:08.557606Z",
     "shell.execute_reply": "2021-03-16T09:43:08.558030Z"
    }
   },
   "outputs": [],
   "source": [
    "counties = dataJson[2]['dataValues'][:58]"
   ]
  },
  {
   "cell_type": "code",
   "execution_count": 7,
   "metadata": {
    "execution": {
     "iopub.execute_input": "2021-03-16T09:43:08.562287Z",
     "iopub.status.busy": "2021-03-16T09:43:08.561153Z",
     "iopub.status.idle": "2021-03-16T09:43:08.562982Z",
     "shell.execute_reply": "2021-03-16T09:43:08.563438Z"
    }
   },
   "outputs": [],
   "source": [
    "doses = dataJson[0]['dataValues'][3:61]"
   ]
  },
  {
   "cell_type": "markdown",
   "metadata": {},
   "source": [
    "Data formatting"
   ]
  },
  {
   "cell_type": "code",
   "execution_count": 8,
   "metadata": {
    "execution": {
     "iopub.execute_input": "2021-03-16T09:43:08.567482Z",
     "iopub.status.busy": "2021-03-16T09:43:08.566378Z",
     "iopub.status.idle": "2021-03-16T09:43:08.568076Z",
     "shell.execute_reply": "2021-03-16T09:43:08.568500Z"
    }
   },
   "outputs": [],
   "source": [
    "zipped = dict(zip(counties, doses))"
   ]
  },
  {
   "cell_type": "code",
   "execution_count": 9,
   "metadata": {
    "execution": {
     "iopub.execute_input": "2021-03-16T09:43:08.574923Z",
     "iopub.status.busy": "2021-03-16T09:43:08.573717Z",
     "iopub.status.idle": "2021-03-16T09:43:08.575541Z",
     "shell.execute_reply": "2021-03-16T09:43:08.575973Z"
    }
   },
   "outputs": [],
   "source": [
    "df = pd.Series(zipped).reset_index()"
   ]
  },
  {
   "cell_type": "code",
   "execution_count": 10,
   "metadata": {
    "execution": {
     "iopub.execute_input": "2021-03-16T09:43:08.580089Z",
     "iopub.status.busy": "2021-03-16T09:43:08.579166Z",
     "iopub.status.idle": "2021-03-16T09:43:08.580991Z",
     "shell.execute_reply": "2021-03-16T09:43:08.581427Z"
    }
   },
   "outputs": [],
   "source": [
    "df.columns = ['location','doses']"
   ]
  },
  {
   "cell_type": "markdown",
   "metadata": {},
   "source": [
    "Grab the overall California total"
   ]
  },
  {
   "cell_type": "code",
   "execution_count": 11,
   "metadata": {
    "execution": {
     "iopub.execute_input": "2021-03-16T09:43:08.585829Z",
     "iopub.status.busy": "2021-03-16T09:43:08.584629Z",
     "iopub.status.idle": "2021-03-16T09:43:08.586485Z",
     "shell.execute_reply": "2021-03-16T09:43:08.586919Z"
    }
   },
   "outputs": [],
   "source": [
    "add = {'location':'California','doses':dataJson[0]['dataValues'][2]}"
   ]
  },
  {
   "cell_type": "code",
   "execution_count": 12,
   "metadata": {
    "execution": {
     "iopub.execute_input": "2021-03-16T09:43:08.593857Z",
     "iopub.status.busy": "2021-03-16T09:43:08.592728Z",
     "iopub.status.idle": "2021-03-16T09:43:08.594448Z",
     "shell.execute_reply": "2021-03-16T09:43:08.594870Z"
    }
   },
   "outputs": [],
   "source": [
    "df = df.append(add, ignore_index=True)"
   ]
  },
  {
   "cell_type": "code",
   "execution_count": 13,
   "metadata": {
    "execution": {
     "iopub.execute_input": "2021-03-16T09:43:08.599841Z",
     "iopub.status.busy": "2021-03-16T09:43:08.598627Z",
     "iopub.status.idle": "2021-03-16T09:43:08.600524Z",
     "shell.execute_reply": "2021-03-16T09:43:08.600952Z"
    }
   },
   "outputs": [],
   "source": [
    "df = df.sort_values(by='location')"
   ]
  },
  {
   "cell_type": "code",
   "execution_count": 14,
   "metadata": {
    "execution": {
     "iopub.execute_input": "2021-03-16T09:43:08.607186Z",
     "iopub.status.busy": "2021-03-16T09:43:08.606060Z",
     "iopub.status.idle": "2021-03-16T09:43:08.607802Z",
     "shell.execute_reply": "2021-03-16T09:43:08.608229Z"
    }
   },
   "outputs": [],
   "source": [
    "df = df[df.location == 'California'].append(df[df.location != 'California']).reset_index(drop=True)"
   ]
  },
  {
   "cell_type": "code",
   "execution_count": null,
   "metadata": {},
   "outputs": [],
   "source": []
  },
  {
   "cell_type": "code",
   "execution_count": 15,
   "metadata": {
    "execution": {
     "iopub.execute_input": "2021-03-16T09:43:08.611543Z",
     "iopub.status.busy": "2021-03-16T09:43:08.611011Z",
     "iopub.status.idle": "2021-03-16T09:43:08.628316Z",
     "shell.execute_reply": "2021-03-16T09:43:08.627804Z"
    }
   },
   "outputs": [],
   "source": [
    "tz = pytz.timezone(\"America/New_York\")"
   ]
  },
  {
   "cell_type": "code",
   "execution_count": 16,
   "metadata": {
    "execution": {
     "iopub.execute_input": "2021-03-16T09:43:08.632268Z",
     "iopub.status.busy": "2021-03-16T09:43:08.631180Z",
     "iopub.status.idle": "2021-03-16T09:43:08.632873Z",
     "shell.execute_reply": "2021-03-16T09:43:08.633297Z"
    }
   },
   "outputs": [],
   "source": [
    "today = datetime.now(tz).date()"
   ]
  },
  {
   "cell_type": "code",
   "execution_count": 17,
   "metadata": {
    "execution": {
     "iopub.execute_input": "2021-03-16T09:43:08.637444Z",
     "iopub.status.busy": "2021-03-16T09:43:08.636347Z",
     "iopub.status.idle": "2021-03-16T09:43:08.638041Z",
     "shell.execute_reply": "2021-03-16T09:43:08.638534Z"
    }
   },
   "outputs": [],
   "source": [
    "data_dir = os.path.join(os.path.abspath(\"\"), \"data\")"
   ]
  },
  {
   "cell_type": "code",
   "execution_count": 18,
   "metadata": {
    "execution": {
     "iopub.execute_input": "2021-03-16T09:43:08.644035Z",
     "iopub.status.busy": "2021-03-16T09:43:08.641622Z",
     "iopub.status.idle": "2021-03-16T09:43:08.646395Z",
     "shell.execute_reply": "2021-03-16T09:43:08.645879Z"
    }
   },
   "outputs": [],
   "source": [
    "df.to_csv(os.path.join(data_dir, f\"{today}.csv\"), index=False)"
   ]
  },
  {
   "cell_type": "code",
   "execution_count": null,
   "metadata": {},
   "outputs": [],
   "source": []
  }
 ],
 "metadata": {
  "kernelspec": {
   "display_name": "Python 3",
   "language": "python",
   "name": "python3"
  },
  "language_info": {
   "codemirror_mode": {
    "name": "ipython",
    "version": 3
   },
   "file_extension": ".py",
   "mimetype": "text/x-python",
   "name": "python",
   "nbconvert_exporter": "python",
   "pygments_lexer": "ipython3",
   "version": "3.8.8"
  }
 },
 "nbformat": 4,
 "nbformat_minor": 4
}
