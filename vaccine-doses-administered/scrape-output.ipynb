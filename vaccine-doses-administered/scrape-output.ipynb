{
 "cells": [
  {
   "cell_type": "markdown",
   "metadata": {},
   "source": [
    "# California COVID vaccinations scrape"
   ]
  },
  {
   "cell_type": "markdown",
   "metadata": {},
   "source": [
    "By [Amy O'Kruk](https://twitter.com/amyokruk)"
   ]
  },
  {
   "cell_type": "markdown",
   "metadata": {},
   "source": [
    "Downloads data on vaccine doses administered by county and statewide from a Tableau-powered dashboard from the California Department of Public Health."
   ]
  },
  {
   "cell_type": "code",
   "execution_count": 1,
   "metadata": {
    "execution": {
     "iopub.execute_input": "2021-03-14T06:13:55.190841Z",
     "iopub.status.busy": "2021-03-14T06:13:55.189807Z",
     "iopub.status.idle": "2021-03-14T06:13:55.583491Z",
     "shell.execute_reply": "2021-03-14T06:13:55.582571Z"
    }
   },
   "outputs": [],
   "source": [
    "import pandas as pd\n",
    "import requests\n",
    "from bs4 import BeautifulSoup\n",
    "import json\n",
    "import re\n",
    "import time\n",
    "from time import gmtime, strftime \n",
    "import os\n",
    "import pytz\n",
    "from datetime import datetime"
   ]
  },
  {
   "cell_type": "markdown",
   "metadata": {},
   "source": [
    "Scrape the dashboard page"
   ]
  },
  {
   "cell_type": "code",
   "execution_count": 2,
   "metadata": {
    "execution": {
     "iopub.execute_input": "2021-03-14T06:13:55.590444Z",
     "iopub.status.busy": "2021-03-14T06:13:55.589910Z",
     "iopub.status.idle": "2021-03-14T06:13:56.068911Z",
     "shell.execute_reply": "2021-03-14T06:13:56.068297Z"
    }
   },
   "outputs": [],
   "source": [
    "url = \"https://public.tableau.com/interactive/views/COVID-19VaccineDashboardPublic/Vaccine?:embed=y&:showVizHome=n&:apiID=host0\"\n",
    "\n",
    "r = requests.get(url)\n",
    "soup = BeautifulSoup(r.text, \"html.parser\")"
   ]
  },
  {
   "cell_type": "code",
   "execution_count": 3,
   "metadata": {
    "execution": {
     "iopub.execute_input": "2021-03-14T06:13:56.075125Z",
     "iopub.status.busy": "2021-03-14T06:13:56.073834Z",
     "iopub.status.idle": "2021-03-14T06:13:56.075799Z",
     "shell.execute_reply": "2021-03-14T06:13:56.076295Z"
    }
   },
   "outputs": [],
   "source": [
    "tableauData = json.loads(soup.find(\"textarea\",{\"id\": \"tsConfigContainer\"}).text)"
   ]
  },
  {
   "cell_type": "markdown",
   "metadata": {},
   "source": [
    "Get the link to the Tableau data"
   ]
  },
  {
   "cell_type": "code",
   "execution_count": 4,
   "metadata": {
    "execution": {
     "iopub.execute_input": "2021-03-14T06:13:56.080830Z",
     "iopub.status.busy": "2021-03-14T06:13:56.079513Z",
     "iopub.status.idle": "2021-03-14T06:13:56.081404Z",
     "shell.execute_reply": "2021-03-14T06:13:56.081821Z"
    }
   },
   "outputs": [],
   "source": [
    "dataUrl = f'https://public.tableau.com{tableauData[\"vizql_root\"]}/bootstrapSession/sessions/{tableauData[\"sessionid\"]}'"
   ]
  },
  {
   "cell_type": "code",
   "execution_count": 5,
   "metadata": {
    "execution": {
     "iopub.execute_input": "2021-03-14T06:13:56.088293Z",
     "iopub.status.busy": "2021-03-14T06:13:56.087772Z",
     "iopub.status.idle": "2021-03-14T06:13:56.270003Z",
     "shell.execute_reply": "2021-03-14T06:13:56.266972Z"
    }
   },
   "outputs": [],
   "source": [
    "r = requests.post(dataUrl, data= {\n",
    "    \"sheet_id\": tableauData[\"sheetId\"],\n",
    "})\n",
    "\n",
    "dataReg = re.search('\\d+;({.*})\\d+;({.*})', r.text, re.MULTILINE)\n",
    "data1 = json.loads(dataReg.group(2))\n",
    "\n",
    "dataJson = data1[\"secondaryInfo\"][\"presModelMap\"][\"dataDictionary\"][\"presModelHolder\"][\"genDataDictionaryPresModel\"][\"dataSegments\"][\"0\"][\"dataColumns\"]"
   ]
  },
  {
   "cell_type": "markdown",
   "metadata": {},
   "source": [
    "Isolate what you want"
   ]
  },
  {
   "cell_type": "code",
   "execution_count": 6,
   "metadata": {
    "execution": {
     "iopub.execute_input": "2021-03-14T06:13:56.274826Z",
     "iopub.status.busy": "2021-03-14T06:13:56.274160Z",
     "iopub.status.idle": "2021-03-14T06:13:56.275844Z",
     "shell.execute_reply": "2021-03-14T06:13:56.276366Z"
    }
   },
   "outputs": [],
   "source": [
    "counties = dataJson[2]['dataValues'][:58]"
   ]
  },
  {
   "cell_type": "code",
   "execution_count": 7,
   "metadata": {
    "execution": {
     "iopub.execute_input": "2021-03-14T06:13:56.281332Z",
     "iopub.status.busy": "2021-03-14T06:13:56.279920Z",
     "iopub.status.idle": "2021-03-14T06:13:56.281908Z",
     "shell.execute_reply": "2021-03-14T06:13:56.282339Z"
    }
   },
   "outputs": [],
   "source": [
    "doses = dataJson[0]['dataValues'][3:61]"
   ]
  },
  {
   "cell_type": "markdown",
   "metadata": {},
   "source": [
    "Data formatting"
   ]
  },
  {
   "cell_type": "code",
   "execution_count": 8,
   "metadata": {
    "execution": {
     "iopub.execute_input": "2021-03-14T06:13:56.286511Z",
     "iopub.status.busy": "2021-03-14T06:13:56.285376Z",
     "iopub.status.idle": "2021-03-14T06:13:56.287112Z",
     "shell.execute_reply": "2021-03-14T06:13:56.287536Z"
    }
   },
   "outputs": [],
   "source": [
    "zipped = dict(zip(counties, doses))"
   ]
  },
  {
   "cell_type": "code",
   "execution_count": 9,
   "metadata": {
    "execution": {
     "iopub.execute_input": "2021-03-14T06:13:56.294225Z",
     "iopub.status.busy": "2021-03-14T06:13:56.292921Z",
     "iopub.status.idle": "2021-03-14T06:13:56.294817Z",
     "shell.execute_reply": "2021-03-14T06:13:56.295243Z"
    }
   },
   "outputs": [],
   "source": [
    "df = pd.Series(zipped).reset_index()"
   ]
  },
  {
   "cell_type": "code",
   "execution_count": 10,
   "metadata": {
    "execution": {
     "iopub.execute_input": "2021-03-14T06:13:56.299651Z",
     "iopub.status.busy": "2021-03-14T06:13:56.298549Z",
     "iopub.status.idle": "2021-03-14T06:13:56.300245Z",
     "shell.execute_reply": "2021-03-14T06:13:56.300688Z"
    }
   },
   "outputs": [],
   "source": [
    "df.columns = ['location','doses']"
   ]
  },
  {
   "cell_type": "markdown",
   "metadata": {},
   "source": [
    "Grab the overall California total"
   ]
  },
  {
   "cell_type": "code",
   "execution_count": 11,
   "metadata": {
    "execution": {
     "iopub.execute_input": "2021-03-14T06:13:56.305042Z",
     "iopub.status.busy": "2021-03-14T06:13:56.303872Z",
     "iopub.status.idle": "2021-03-14T06:13:56.305632Z",
     "shell.execute_reply": "2021-03-14T06:13:56.306054Z"
    }
   },
   "outputs": [],
   "source": [
    "add = {'location':'California','doses':dataJson[0]['dataValues'][2]}"
   ]
  },
  {
   "cell_type": "code",
   "execution_count": 12,
   "metadata": {
    "execution": {
     "iopub.execute_input": "2021-03-14T06:13:56.313102Z",
     "iopub.status.busy": "2021-03-14T06:13:56.311895Z",
     "iopub.status.idle": "2021-03-14T06:13:56.313761Z",
     "shell.execute_reply": "2021-03-14T06:13:56.314188Z"
    }
   },
   "outputs": [],
   "source": [
    "df = df.append(add, ignore_index=True)"
   ]
  },
  {
   "cell_type": "code",
   "execution_count": 13,
   "metadata": {
    "execution": {
     "iopub.execute_input": "2021-03-14T06:13:56.319018Z",
     "iopub.status.busy": "2021-03-14T06:13:56.317874Z",
     "iopub.status.idle": "2021-03-14T06:13:56.319616Z",
     "shell.execute_reply": "2021-03-14T06:13:56.320042Z"
    }
   },
   "outputs": [],
   "source": [
    "df = df.sort_values(by='location')"
   ]
  },
  {
   "cell_type": "code",
   "execution_count": 14,
   "metadata": {
    "execution": {
     "iopub.execute_input": "2021-03-14T06:13:56.326412Z",
     "iopub.status.busy": "2021-03-14T06:13:56.325273Z",
     "iopub.status.idle": "2021-03-14T06:13:56.327116Z",
     "shell.execute_reply": "2021-03-14T06:13:56.327546Z"
    }
   },
   "outputs": [],
   "source": [
    "df = df[df.location == 'California'].append(df[df.location != 'California']).reset_index(drop=True)"
   ]
  },
  {
   "cell_type": "code",
   "execution_count": null,
   "metadata": {},
   "outputs": [],
   "source": []
  },
  {
   "cell_type": "code",
   "execution_count": 15,
   "metadata": {
    "execution": {
     "iopub.execute_input": "2021-03-14T06:13:56.331058Z",
     "iopub.status.busy": "2021-03-14T06:13:56.330550Z",
     "iopub.status.idle": "2021-03-14T06:13:56.347915Z",
     "shell.execute_reply": "2021-03-14T06:13:56.347456Z"
    }
   },
   "outputs": [],
   "source": [
    "tz = pytz.timezone(\"America/New_York\")"
   ]
  },
  {
   "cell_type": "code",
   "execution_count": 16,
   "metadata": {
    "execution": {
     "iopub.execute_input": "2021-03-14T06:13:56.352359Z",
     "iopub.status.busy": "2021-03-14T06:13:56.351106Z",
     "iopub.status.idle": "2021-03-14T06:13:56.352995Z",
     "shell.execute_reply": "2021-03-14T06:13:56.353427Z"
    }
   },
   "outputs": [],
   "source": [
    "today = datetime.now(tz).date()"
   ]
  },
  {
   "cell_type": "code",
   "execution_count": 17,
   "metadata": {
    "execution": {
     "iopub.execute_input": "2021-03-14T06:13:56.357427Z",
     "iopub.status.busy": "2021-03-14T06:13:56.356478Z",
     "iopub.status.idle": "2021-03-14T06:13:56.358706Z",
     "shell.execute_reply": "2021-03-14T06:13:56.358276Z"
    }
   },
   "outputs": [],
   "source": [
    "data_dir = os.path.join(os.path.abspath(\"\"), \"data\")"
   ]
  },
  {
   "cell_type": "code",
   "execution_count": 18,
   "metadata": {
    "execution": {
     "iopub.execute_input": "2021-03-14T06:13:56.363389Z",
     "iopub.status.busy": "2021-03-14T06:13:56.362220Z",
     "iopub.status.idle": "2021-03-14T06:13:56.367371Z",
     "shell.execute_reply": "2021-03-14T06:13:56.366865Z"
    }
   },
   "outputs": [],
   "source": [
    "df.to_csv(os.path.join(data_dir, f\"{today}.csv\"), index=False)"
   ]
  },
  {
   "cell_type": "code",
   "execution_count": null,
   "metadata": {},
   "outputs": [],
   "source": []
  }
 ],
 "metadata": {
  "kernelspec": {
   "display_name": "Python 3",
   "language": "python",
   "name": "python3"
  },
  "language_info": {
   "codemirror_mode": {
    "name": "ipython",
    "version": 3
   },
   "file_extension": ".py",
   "mimetype": "text/x-python",
   "name": "python",
   "nbconvert_exporter": "python",
   "pygments_lexer": "ipython3",
   "version": "3.8.8"
  }
 },
 "nbformat": 4,
 "nbformat_minor": 4
}
