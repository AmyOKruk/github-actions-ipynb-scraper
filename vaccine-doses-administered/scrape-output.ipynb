{
 "cells": [
  {
   "cell_type": "markdown",
   "metadata": {},
   "source": [
    "# California COVID vaccinations scrape"
   ]
  },
  {
   "cell_type": "markdown",
   "metadata": {},
   "source": [
    "By [Amy O'Kruk](https://twitter.com/amyokruk)"
   ]
  },
  {
   "cell_type": "markdown",
   "metadata": {},
   "source": [
    "Downloads data on vaccine doses administered by county and statewide from a Tableau-powered dashboard from the California Department of Public Health."
   ]
  },
  {
   "cell_type": "code",
   "execution_count": 1,
   "metadata": {
    "execution": {
     "iopub.execute_input": "2021-03-13T20:13:25.940312Z",
     "iopub.status.busy": "2021-03-13T20:13:25.939706Z",
     "iopub.status.idle": "2021-03-13T20:13:26.380232Z",
     "shell.execute_reply": "2021-03-13T20:13:26.379149Z"
    }
   },
   "outputs": [],
   "source": [
    "import pandas as pd\n",
    "import requests\n",
    "from bs4 import BeautifulSoup\n",
    "import json\n",
    "import re\n",
    "import time\n",
    "from time import gmtime, strftime \n",
    "import os\n",
    "import pytz\n",
    "from datetime import datetime"
   ]
  },
  {
   "cell_type": "markdown",
   "metadata": {},
   "source": [
    "Scrape the dashboard page"
   ]
  },
  {
   "cell_type": "code",
   "execution_count": 2,
   "metadata": {
    "execution": {
     "iopub.execute_input": "2021-03-13T20:13:26.387198Z",
     "iopub.status.busy": "2021-03-13T20:13:26.386545Z",
     "iopub.status.idle": "2021-03-13T20:13:26.727880Z",
     "shell.execute_reply": "2021-03-13T20:13:26.726884Z"
    }
   },
   "outputs": [],
   "source": [
    "url = \"https://public.tableau.com/interactive/views/COVID-19VaccineDashboardPublic/Vaccine?:embed=y&:showVizHome=n&:apiID=host0\"\n",
    "\n",
    "r = requests.get(url)\n",
    "soup = BeautifulSoup(r.text, \"html.parser\")"
   ]
  },
  {
   "cell_type": "code",
   "execution_count": 3,
   "metadata": {
    "execution": {
     "iopub.execute_input": "2021-03-13T20:13:26.732769Z",
     "iopub.status.busy": "2021-03-13T20:13:26.732254Z",
     "iopub.status.idle": "2021-03-13T20:13:26.735597Z",
     "shell.execute_reply": "2021-03-13T20:13:26.735175Z"
    }
   },
   "outputs": [],
   "source": [
    "tableauData = json.loads(soup.find(\"textarea\",{\"id\": \"tsConfigContainer\"}).text)"
   ]
  },
  {
   "cell_type": "markdown",
   "metadata": {},
   "source": [
    "Get the link to the Tableau data"
   ]
  },
  {
   "cell_type": "code",
   "execution_count": 4,
   "metadata": {
    "execution": {
     "iopub.execute_input": "2021-03-13T20:13:26.739174Z",
     "iopub.status.busy": "2021-03-13T20:13:26.738666Z",
     "iopub.status.idle": "2021-03-13T20:13:26.742078Z",
     "shell.execute_reply": "2021-03-13T20:13:26.741663Z"
    }
   },
   "outputs": [],
   "source": [
    "dataUrl = f'https://public.tableau.com{tableauData[\"vizql_root\"]}/bootstrapSession/sessions/{tableauData[\"sessionid\"]}'"
   ]
  },
  {
   "cell_type": "code",
   "execution_count": 5,
   "metadata": {
    "execution": {
     "iopub.execute_input": "2021-03-13T20:13:26.749307Z",
     "iopub.status.busy": "2021-03-13T20:13:26.748362Z",
     "iopub.status.idle": "2021-03-13T20:13:26.966461Z",
     "shell.execute_reply": "2021-03-13T20:13:26.965962Z"
    }
   },
   "outputs": [],
   "source": [
    "r = requests.post(dataUrl, data= {\n",
    "    \"sheet_id\": tableauData[\"sheetId\"],\n",
    "})\n",
    "\n",
    "dataReg = re.search('\\d+;({.*})\\d+;({.*})', r.text, re.MULTILINE)\n",
    "data1 = json.loads(dataReg.group(2))\n",
    "\n",
    "dataJson = data1[\"secondaryInfo\"][\"presModelMap\"][\"dataDictionary\"][\"presModelHolder\"][\"genDataDictionaryPresModel\"][\"dataSegments\"][\"0\"][\"dataColumns\"]"
   ]
  },
  {
   "cell_type": "markdown",
   "metadata": {},
   "source": [
    "Isolate what you want"
   ]
  },
  {
   "cell_type": "code",
   "execution_count": 6,
   "metadata": {
    "execution": {
     "iopub.execute_input": "2021-03-13T20:13:26.970574Z",
     "iopub.status.busy": "2021-03-13T20:13:26.970068Z",
     "iopub.status.idle": "2021-03-13T20:13:26.972257Z",
     "shell.execute_reply": "2021-03-13T20:13:26.972653Z"
    }
   },
   "outputs": [],
   "source": [
    "counties = dataJson[2]['dataValues'][:58]"
   ]
  },
  {
   "cell_type": "code",
   "execution_count": 7,
   "metadata": {
    "execution": {
     "iopub.execute_input": "2021-03-13T20:13:26.976918Z",
     "iopub.status.busy": "2021-03-13T20:13:26.976030Z",
     "iopub.status.idle": "2021-03-13T20:13:26.978060Z",
     "shell.execute_reply": "2021-03-13T20:13:26.978468Z"
    }
   },
   "outputs": [],
   "source": [
    "doses = dataJson[0]['dataValues'][3:61]"
   ]
  },
  {
   "cell_type": "markdown",
   "metadata": {},
   "source": [
    "Data formatting"
   ]
  },
  {
   "cell_type": "code",
   "execution_count": 8,
   "metadata": {
    "execution": {
     "iopub.execute_input": "2021-03-13T20:13:26.982379Z",
     "iopub.status.busy": "2021-03-13T20:13:26.981497Z",
     "iopub.status.idle": "2021-03-13T20:13:26.983772Z",
     "shell.execute_reply": "2021-03-13T20:13:26.983345Z"
    }
   },
   "outputs": [],
   "source": [
    "zipped = dict(zip(counties, doses))"
   ]
  },
  {
   "cell_type": "code",
   "execution_count": 9,
   "metadata": {
    "execution": {
     "iopub.execute_input": "2021-03-13T20:13:26.989983Z",
     "iopub.status.busy": "2021-03-13T20:13:26.988853Z",
     "iopub.status.idle": "2021-03-13T20:13:26.990565Z",
     "shell.execute_reply": "2021-03-13T20:13:26.990987Z"
    }
   },
   "outputs": [],
   "source": [
    "df = pd.Series(zipped).reset_index()"
   ]
  },
  {
   "cell_type": "code",
   "execution_count": 10,
   "metadata": {
    "execution": {
     "iopub.execute_input": "2021-03-13T20:13:26.994727Z",
     "iopub.status.busy": "2021-03-13T20:13:26.994196Z",
     "iopub.status.idle": "2021-03-13T20:13:26.996446Z",
     "shell.execute_reply": "2021-03-13T20:13:26.996027Z"
    }
   },
   "outputs": [],
   "source": [
    "df.columns = ['location','doses']"
   ]
  },
  {
   "cell_type": "markdown",
   "metadata": {},
   "source": [
    "Grab the overall California total"
   ]
  },
  {
   "cell_type": "code",
   "execution_count": 11,
   "metadata": {
    "execution": {
     "iopub.execute_input": "2021-03-13T20:13:27.000462Z",
     "iopub.status.busy": "2021-03-13T20:13:26.999581Z",
     "iopub.status.idle": "2021-03-13T20:13:27.002104Z",
     "shell.execute_reply": "2021-03-13T20:13:27.001654Z"
    }
   },
   "outputs": [],
   "source": [
    "add = {'location':'California','doses':dataJson[0]['dataValues'][2]}"
   ]
  },
  {
   "cell_type": "code",
   "execution_count": 12,
   "metadata": {
    "execution": {
     "iopub.execute_input": "2021-03-13T20:13:27.008914Z",
     "iopub.status.busy": "2021-03-13T20:13:27.007813Z",
     "iopub.status.idle": "2021-03-13T20:13:27.009518Z",
     "shell.execute_reply": "2021-03-13T20:13:27.009948Z"
    }
   },
   "outputs": [],
   "source": [
    "df = df.append(add, ignore_index=True)"
   ]
  },
  {
   "cell_type": "code",
   "execution_count": 13,
   "metadata": {
    "execution": {
     "iopub.execute_input": "2021-03-13T20:13:27.014704Z",
     "iopub.status.busy": "2021-03-13T20:13:27.013783Z",
     "iopub.status.idle": "2021-03-13T20:13:27.016055Z",
     "shell.execute_reply": "2021-03-13T20:13:27.015533Z"
    }
   },
   "outputs": [],
   "source": [
    "df = df.sort_values(by='location')"
   ]
  },
  {
   "cell_type": "code",
   "execution_count": 14,
   "metadata": {
    "execution": {
     "iopub.execute_input": "2021-03-13T20:13:27.022845Z",
     "iopub.status.busy": "2021-03-13T20:13:27.021683Z",
     "iopub.status.idle": "2021-03-13T20:13:27.023445Z",
     "shell.execute_reply": "2021-03-13T20:13:27.023870Z"
    }
   },
   "outputs": [],
   "source": [
    "df = df[df.location == 'California'].append(df[df.location != 'California']).reset_index(drop=True)"
   ]
  },
  {
   "cell_type": "code",
   "execution_count": null,
   "metadata": {},
   "outputs": [],
   "source": []
  },
  {
   "cell_type": "code",
   "execution_count": 15,
   "metadata": {
    "execution": {
     "iopub.execute_input": "2021-03-13T20:13:27.027570Z",
     "iopub.status.busy": "2021-03-13T20:13:27.027062Z",
     "iopub.status.idle": "2021-03-13T20:13:27.045263Z",
     "shell.execute_reply": "2021-03-13T20:13:27.044819Z"
    }
   },
   "outputs": [],
   "source": [
    "tz = pytz.timezone(\"America/New_York\")"
   ]
  },
  {
   "cell_type": "code",
   "execution_count": 16,
   "metadata": {
    "execution": {
     "iopub.execute_input": "2021-03-13T20:13:27.049096Z",
     "iopub.status.busy": "2021-03-13T20:13:27.048160Z",
     "iopub.status.idle": "2021-03-13T20:13:27.049964Z",
     "shell.execute_reply": "2021-03-13T20:13:27.050390Z"
    }
   },
   "outputs": [],
   "source": [
    "today = datetime.now(tz).date()"
   ]
  },
  {
   "cell_type": "code",
   "execution_count": 17,
   "metadata": {
    "execution": {
     "iopub.execute_input": "2021-03-13T20:13:27.055811Z",
     "iopub.status.busy": "2021-03-13T20:13:27.054713Z",
     "iopub.status.idle": "2021-03-13T20:13:27.056399Z",
     "shell.execute_reply": "2021-03-13T20:13:27.056821Z"
    }
   },
   "outputs": [],
   "source": [
    "data_dir = os.path.join(os.path.abspath(\"\"), \"data\")"
   ]
  },
  {
   "cell_type": "code",
   "execution_count": 18,
   "metadata": {
    "execution": {
     "iopub.execute_input": "2021-03-13T20:13:27.060569Z",
     "iopub.status.busy": "2021-03-13T20:13:27.060068Z",
     "iopub.status.idle": "2021-03-13T20:13:27.064655Z",
     "shell.execute_reply": "2021-03-13T20:13:27.064147Z"
    }
   },
   "outputs": [],
   "source": [
    "df.to_csv(os.path.join(data_dir, f\"{today}.csv\"), index=False)"
   ]
  },
  {
   "cell_type": "code",
   "execution_count": null,
   "metadata": {},
   "outputs": [],
   "source": []
  }
 ],
 "metadata": {
  "kernelspec": {
   "display_name": "Python 3",
   "language": "python",
   "name": "python3"
  },
  "language_info": {
   "codemirror_mode": {
    "name": "ipython",
    "version": 3
   },
   "file_extension": ".py",
   "mimetype": "text/x-python",
   "name": "python",
   "nbconvert_exporter": "python",
   "pygments_lexer": "ipython3",
   "version": "3.8.8"
  }
 },
 "nbformat": 4,
 "nbformat_minor": 4
}
