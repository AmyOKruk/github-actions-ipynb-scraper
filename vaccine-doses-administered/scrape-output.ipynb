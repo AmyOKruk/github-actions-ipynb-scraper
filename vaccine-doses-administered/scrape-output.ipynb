{
 "cells": [
  {
   "cell_type": "markdown",
   "metadata": {},
   "source": [
    "# California COVID vaccinations scrape"
   ]
  },
  {
   "cell_type": "markdown",
   "metadata": {},
   "source": [
    "By [Amy O'Kruk](https://twitter.com/amyokruk)"
   ]
  },
  {
   "cell_type": "markdown",
   "metadata": {},
   "source": [
    "Downloads data on vaccine doses administered by county and statewide from a Tableau-powered dashboard from the California Department of Public Health."
   ]
  },
  {
   "cell_type": "code",
   "execution_count": 1,
   "metadata": {
    "execution": {
     "iopub.execute_input": "2021-03-10T21:41:21.131956Z",
     "iopub.status.busy": "2021-03-10T21:41:21.129586Z",
     "iopub.status.idle": "2021-03-10T21:41:21.546943Z",
     "shell.execute_reply": "2021-03-10T21:41:21.545995Z"
    }
   },
   "outputs": [],
   "source": [
    "import pandas as pd\n",
    "import requests\n",
    "from bs4 import BeautifulSoup\n",
    "import json\n",
    "import re\n",
    "import time\n",
    "from time import gmtime, strftime \n",
    "import os\n",
    "import pytz\n",
    "from datetime import datetime"
   ]
  },
  {
   "cell_type": "markdown",
   "metadata": {},
   "source": [
    "Scrape the dashboard page"
   ]
  },
  {
   "cell_type": "code",
   "execution_count": 2,
   "metadata": {
    "execution": {
     "iopub.execute_input": "2021-03-10T21:41:21.555075Z",
     "iopub.status.busy": "2021-03-10T21:41:21.552057Z",
     "iopub.status.idle": "2021-03-10T21:41:21.790268Z",
     "shell.execute_reply": "2021-03-10T21:41:21.789224Z"
    }
   },
   "outputs": [],
   "source": [
    "url = \"https://public.tableau.com/interactive/views/COVID-19VaccineDashboardPublic/Vaccine?:embed=y&:showVizHome=n&:apiID=host0\"\n",
    "\n",
    "r = requests.get(url)\n",
    "soup = BeautifulSoup(r.text, \"html.parser\")"
   ]
  },
  {
   "cell_type": "code",
   "execution_count": 3,
   "metadata": {
    "execution": {
     "iopub.execute_input": "2021-03-10T21:41:21.795849Z",
     "iopub.status.busy": "2021-03-10T21:41:21.795159Z",
     "iopub.status.idle": "2021-03-10T21:41:21.799050Z",
     "shell.execute_reply": "2021-03-10T21:41:21.799600Z"
    }
   },
   "outputs": [],
   "source": [
    "tableauData = json.loads(soup.find(\"textarea\",{\"id\": \"tsConfigContainer\"}).text)"
   ]
  },
  {
   "cell_type": "markdown",
   "metadata": {},
   "source": [
    "Get the link to the Tableau data"
   ]
  },
  {
   "cell_type": "code",
   "execution_count": 4,
   "metadata": {
    "execution": {
     "iopub.execute_input": "2021-03-10T21:41:21.803051Z",
     "iopub.status.busy": "2021-03-10T21:41:21.802520Z",
     "iopub.status.idle": "2021-03-10T21:41:21.806066Z",
     "shell.execute_reply": "2021-03-10T21:41:21.805529Z"
    }
   },
   "outputs": [],
   "source": [
    "dataUrl = f'https://public.tableau.com{tableauData[\"vizql_root\"]}/bootstrapSession/sessions/{tableauData[\"sessionid\"]}'"
   ]
  },
  {
   "cell_type": "code",
   "execution_count": 5,
   "metadata": {
    "execution": {
     "iopub.execute_input": "2021-03-10T21:41:21.812091Z",
     "iopub.status.busy": "2021-03-10T21:41:21.811514Z",
     "iopub.status.idle": "2021-03-10T21:41:22.019680Z",
     "shell.execute_reply": "2021-03-10T21:41:22.019106Z"
    }
   },
   "outputs": [],
   "source": [
    "r = requests.post(dataUrl, data= {\n",
    "    \"sheet_id\": tableauData[\"sheetId\"],\n",
    "})\n",
    "\n",
    "dataReg = re.search('\\d+;({.*})\\d+;({.*})', r.text, re.MULTILINE)\n",
    "data1 = json.loads(dataReg.group(2))\n",
    "\n",
    "dataJson = data1[\"secondaryInfo\"][\"presModelMap\"][\"dataDictionary\"][\"presModelHolder\"][\"genDataDictionaryPresModel\"][\"dataSegments\"][\"0\"][\"dataColumns\"]"
   ]
  },
  {
   "cell_type": "markdown",
   "metadata": {},
   "source": [
    "Isolate what you want"
   ]
  },
  {
   "cell_type": "code",
   "execution_count": 6,
   "metadata": {
    "execution": {
     "iopub.execute_input": "2021-03-10T21:41:22.024103Z",
     "iopub.status.busy": "2021-03-10T21:41:22.023568Z",
     "iopub.status.idle": "2021-03-10T21:41:22.027703Z",
     "shell.execute_reply": "2021-03-10T21:41:22.027077Z"
    }
   },
   "outputs": [],
   "source": [
    "counties = dataJson[2]['dataValues'][:58]"
   ]
  },
  {
   "cell_type": "code",
   "execution_count": 7,
   "metadata": {
    "execution": {
     "iopub.execute_input": "2021-03-10T21:41:22.032179Z",
     "iopub.status.busy": "2021-03-10T21:41:22.031503Z",
     "iopub.status.idle": "2021-03-10T21:41:22.035401Z",
     "shell.execute_reply": "2021-03-10T21:41:22.035869Z"
    }
   },
   "outputs": [],
   "source": [
    "doses = dataJson[0]['dataValues'][3:61]"
   ]
  },
  {
   "cell_type": "markdown",
   "metadata": {},
   "source": [
    "Data formatting"
   ]
  },
  {
   "cell_type": "code",
   "execution_count": 8,
   "metadata": {
    "execution": {
     "iopub.execute_input": "2021-03-10T21:41:22.040037Z",
     "iopub.status.busy": "2021-03-10T21:41:22.039452Z",
     "iopub.status.idle": "2021-03-10T21:41:22.042206Z",
     "shell.execute_reply": "2021-03-10T21:41:22.041198Z"
    }
   },
   "outputs": [],
   "source": [
    "zipped = dict(zip(counties, doses))"
   ]
  },
  {
   "cell_type": "code",
   "execution_count": 9,
   "metadata": {
    "execution": {
     "iopub.execute_input": "2021-03-10T21:41:22.047974Z",
     "iopub.status.busy": "2021-03-10T21:41:22.047356Z",
     "iopub.status.idle": "2021-03-10T21:41:22.051591Z",
     "shell.execute_reply": "2021-03-10T21:41:22.052137Z"
    }
   },
   "outputs": [],
   "source": [
    "df = pd.Series(zipped).reset_index()"
   ]
  },
  {
   "cell_type": "code",
   "execution_count": 10,
   "metadata": {
    "execution": {
     "iopub.execute_input": "2021-03-10T21:41:22.056957Z",
     "iopub.status.busy": "2021-03-10T21:41:22.056294Z",
     "iopub.status.idle": "2021-03-10T21:41:22.060646Z",
     "shell.execute_reply": "2021-03-10T21:41:22.059962Z"
    }
   },
   "outputs": [],
   "source": [
    "df.columns = ['location','doses']"
   ]
  },
  {
   "cell_type": "markdown",
   "metadata": {},
   "source": [
    "Grab the overall California total"
   ]
  },
  {
   "cell_type": "code",
   "execution_count": 11,
   "metadata": {
    "execution": {
     "iopub.execute_input": "2021-03-10T21:41:22.065094Z",
     "iopub.status.busy": "2021-03-10T21:41:22.064534Z",
     "iopub.status.idle": "2021-03-10T21:41:22.068377Z",
     "shell.execute_reply": "2021-03-10T21:41:22.067857Z"
    }
   },
   "outputs": [],
   "source": [
    "add = {'location':'California','doses':dataJson[0]['dataValues'][2]}"
   ]
  },
  {
   "cell_type": "code",
   "execution_count": 12,
   "metadata": {
    "execution": {
     "iopub.execute_input": "2021-03-10T21:41:22.075583Z",
     "iopub.status.busy": "2021-03-10T21:41:22.074963Z",
     "iopub.status.idle": "2021-03-10T21:41:22.078908Z",
     "shell.execute_reply": "2021-03-10T21:41:22.078327Z"
    }
   },
   "outputs": [],
   "source": [
    "df = df.append(add, ignore_index=True)"
   ]
  },
  {
   "cell_type": "code",
   "execution_count": 13,
   "metadata": {
    "execution": {
     "iopub.execute_input": "2021-03-10T21:41:22.084038Z",
     "iopub.status.busy": "2021-03-10T21:41:22.083450Z",
     "iopub.status.idle": "2021-03-10T21:41:22.087297Z",
     "shell.execute_reply": "2021-03-10T21:41:22.086753Z"
    }
   },
   "outputs": [],
   "source": [
    "df = df.sort_values(by='location')"
   ]
  },
  {
   "cell_type": "code",
   "execution_count": 14,
   "metadata": {
    "execution": {
     "iopub.execute_input": "2021-03-10T21:41:22.093446Z",
     "iopub.status.busy": "2021-03-10T21:41:22.092878Z",
     "iopub.status.idle": "2021-03-10T21:41:22.097272Z",
     "shell.execute_reply": "2021-03-10T21:41:22.096692Z"
    }
   },
   "outputs": [],
   "source": [
    "df = df[df.location == 'California'].append(df[df.location != 'California']).reset_index(drop=True)"
   ]
  },
  {
   "cell_type": "code",
   "execution_count": null,
   "metadata": {},
   "outputs": [],
   "source": []
  },
  {
   "cell_type": "code",
   "execution_count": 15,
   "metadata": {
    "execution": {
     "iopub.execute_input": "2021-03-10T21:41:22.101093Z",
     "iopub.status.busy": "2021-03-10T21:41:22.100579Z",
     "iopub.status.idle": "2021-03-10T21:41:22.124763Z",
     "shell.execute_reply": "2021-03-10T21:41:22.123660Z"
    }
   },
   "outputs": [],
   "source": [
    "tz = pytz.timezone(\"America/New_York\")"
   ]
  },
  {
   "cell_type": "code",
   "execution_count": 16,
   "metadata": {
    "execution": {
     "iopub.execute_input": "2021-03-10T21:41:22.128945Z",
     "iopub.status.busy": "2021-03-10T21:41:22.128403Z",
     "iopub.status.idle": "2021-03-10T21:41:22.132103Z",
     "shell.execute_reply": "2021-03-10T21:41:22.131549Z"
    }
   },
   "outputs": [],
   "source": [
    "today = datetime.now(tz).date()"
   ]
  },
  {
   "cell_type": "code",
   "execution_count": 17,
   "metadata": {
    "execution": {
     "iopub.execute_input": "2021-03-10T21:41:22.135930Z",
     "iopub.status.busy": "2021-03-10T21:41:22.135358Z",
     "iopub.status.idle": "2021-03-10T21:41:22.139158Z",
     "shell.execute_reply": "2021-03-10T21:41:22.138666Z"
    }
   },
   "outputs": [],
   "source": [
    "data_dir = os.path.join(os.path.abspath(\"\"), \"data\")"
   ]
  },
  {
   "cell_type": "code",
   "execution_count": 18,
   "metadata": {
    "execution": {
     "iopub.execute_input": "2021-03-10T21:41:22.145050Z",
     "iopub.status.busy": "2021-03-10T21:41:22.143278Z",
     "iopub.status.idle": "2021-03-10T21:41:22.150004Z",
     "shell.execute_reply": "2021-03-10T21:41:22.149380Z"
    }
   },
   "outputs": [],
   "source": [
    "df.to_csv(os.path.join(data_dir, f\"{today}.csv\"), index=False)"
   ]
  },
  {
   "cell_type": "code",
   "execution_count": null,
   "metadata": {},
   "outputs": [],
   "source": []
  }
 ],
 "metadata": {
  "kernelspec": {
   "display_name": "Python 3",
   "language": "python",
   "name": "python3"
  },
  "language_info": {
   "codemirror_mode": {
    "name": "ipython",
    "version": 3
   },
   "file_extension": ".py",
   "mimetype": "text/x-python",
   "name": "python",
   "nbconvert_exporter": "python",
   "pygments_lexer": "ipython3",
   "version": "3.8.8"
  }
 },
 "nbformat": 4,
 "nbformat_minor": 4
}
