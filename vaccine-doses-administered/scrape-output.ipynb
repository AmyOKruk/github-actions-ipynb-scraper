{
 "cells": [
  {
   "cell_type": "markdown",
   "metadata": {},
   "source": [
    "# California COVID vaccinations scrape"
   ]
  },
  {
   "cell_type": "markdown",
   "metadata": {},
   "source": [
    "By [Amy O'Kruk](https://twitter.com/amyokruk)"
   ]
  },
  {
   "cell_type": "markdown",
   "metadata": {},
   "source": [
    "Downloads data on vaccine doses administered by county and statewide from a Tableau-powered dashboard from the California Department of Public Health."
   ]
  },
  {
   "cell_type": "code",
   "execution_count": 1,
   "metadata": {
    "execution": {
     "iopub.execute_input": "2021-03-12T12:54:22.695813Z",
     "iopub.status.busy": "2021-03-12T12:54:22.695387Z",
     "iopub.status.idle": "2021-03-12T12:54:23.068469Z",
     "shell.execute_reply": "2021-03-12T12:54:23.067461Z"
    }
   },
   "outputs": [],
   "source": [
    "import pandas as pd\n",
    "import requests\n",
    "from bs4 import BeautifulSoup\n",
    "import json\n",
    "import re\n",
    "import time\n",
    "from time import gmtime, strftime \n",
    "import os\n",
    "import pytz\n",
    "from datetime import datetime"
   ]
  },
  {
   "cell_type": "markdown",
   "metadata": {},
   "source": [
    "Scrape the dashboard page"
   ]
  },
  {
   "cell_type": "code",
   "execution_count": 2,
   "metadata": {
    "execution": {
     "iopub.execute_input": "2021-03-12T12:54:23.073706Z",
     "iopub.status.busy": "2021-03-12T12:54:23.072018Z",
     "iopub.status.idle": "2021-03-12T12:54:23.656075Z",
     "shell.execute_reply": "2021-03-12T12:54:23.655135Z"
    }
   },
   "outputs": [],
   "source": [
    "url = \"https://public.tableau.com/interactive/views/COVID-19VaccineDashboardPublic/Vaccine?:embed=y&:showVizHome=n&:apiID=host0\"\n",
    "\n",
    "r = requests.get(url)\n",
    "soup = BeautifulSoup(r.text, \"html.parser\")"
   ]
  },
  {
   "cell_type": "code",
   "execution_count": 3,
   "metadata": {
    "execution": {
     "iopub.execute_input": "2021-03-12T12:54:23.660287Z",
     "iopub.status.busy": "2021-03-12T12:54:23.659852Z",
     "iopub.status.idle": "2021-03-12T12:54:23.663007Z",
     "shell.execute_reply": "2021-03-12T12:54:23.662600Z"
    }
   },
   "outputs": [],
   "source": [
    "tableauData = json.loads(soup.find(\"textarea\",{\"id\": \"tsConfigContainer\"}).text)"
   ]
  },
  {
   "cell_type": "markdown",
   "metadata": {},
   "source": [
    "Get the link to the Tableau data"
   ]
  },
  {
   "cell_type": "code",
   "execution_count": 4,
   "metadata": {
    "execution": {
     "iopub.execute_input": "2021-03-12T12:54:23.666039Z",
     "iopub.status.busy": "2021-03-12T12:54:23.665558Z",
     "iopub.status.idle": "2021-03-12T12:54:23.668761Z",
     "shell.execute_reply": "2021-03-12T12:54:23.669086Z"
    }
   },
   "outputs": [],
   "source": [
    "dataUrl = f'https://public.tableau.com{tableauData[\"vizql_root\"]}/bootstrapSession/sessions/{tableauData[\"sessionid\"]}'"
   ]
  },
  {
   "cell_type": "code",
   "execution_count": 5,
   "metadata": {
    "execution": {
     "iopub.execute_input": "2021-03-12T12:54:23.674858Z",
     "iopub.status.busy": "2021-03-12T12:54:23.674005Z",
     "iopub.status.idle": "2021-03-12T12:54:23.897644Z",
     "shell.execute_reply": "2021-03-12T12:54:23.897047Z"
    }
   },
   "outputs": [],
   "source": [
    "r = requests.post(dataUrl, data= {\n",
    "    \"sheet_id\": tableauData[\"sheetId\"],\n",
    "})\n",
    "\n",
    "dataReg = re.search('\\d+;({.*})\\d+;({.*})', r.text, re.MULTILINE)\n",
    "data1 = json.loads(dataReg.group(2))\n",
    "\n",
    "dataJson = data1[\"secondaryInfo\"][\"presModelMap\"][\"dataDictionary\"][\"presModelHolder\"][\"genDataDictionaryPresModel\"][\"dataSegments\"][\"0\"][\"dataColumns\"]"
   ]
  },
  {
   "cell_type": "markdown",
   "metadata": {},
   "source": [
    "Isolate what you want"
   ]
  },
  {
   "cell_type": "code",
   "execution_count": 6,
   "metadata": {
    "execution": {
     "iopub.execute_input": "2021-03-12T12:54:23.901079Z",
     "iopub.status.busy": "2021-03-12T12:54:23.900708Z",
     "iopub.status.idle": "2021-03-12T12:54:23.903854Z",
     "shell.execute_reply": "2021-03-12T12:54:23.903485Z"
    }
   },
   "outputs": [],
   "source": [
    "counties = dataJson[2]['dataValues'][:58]"
   ]
  },
  {
   "cell_type": "code",
   "execution_count": 7,
   "metadata": {
    "execution": {
     "iopub.execute_input": "2021-03-12T12:54:23.906522Z",
     "iopub.status.busy": "2021-03-12T12:54:23.906132Z",
     "iopub.status.idle": "2021-03-12T12:54:23.909392Z",
     "shell.execute_reply": "2021-03-12T12:54:23.908935Z"
    }
   },
   "outputs": [],
   "source": [
    "doses = dataJson[0]['dataValues'][3:61]"
   ]
  },
  {
   "cell_type": "markdown",
   "metadata": {},
   "source": [
    "Data formatting"
   ]
  },
  {
   "cell_type": "code",
   "execution_count": 8,
   "metadata": {
    "execution": {
     "iopub.execute_input": "2021-03-12T12:54:23.911915Z",
     "iopub.status.busy": "2021-03-12T12:54:23.911557Z",
     "iopub.status.idle": "2021-03-12T12:54:23.914158Z",
     "shell.execute_reply": "2021-03-12T12:54:23.913858Z"
    }
   },
   "outputs": [],
   "source": [
    "zipped = dict(zip(counties, doses))"
   ]
  },
  {
   "cell_type": "code",
   "execution_count": 9,
   "metadata": {
    "execution": {
     "iopub.execute_input": "2021-03-12T12:54:23.918596Z",
     "iopub.status.busy": "2021-03-12T12:54:23.918143Z",
     "iopub.status.idle": "2021-03-12T12:54:23.921070Z",
     "shell.execute_reply": "2021-03-12T12:54:23.920749Z"
    }
   },
   "outputs": [],
   "source": [
    "df = pd.Series(zipped).reset_index()"
   ]
  },
  {
   "cell_type": "code",
   "execution_count": 10,
   "metadata": {
    "execution": {
     "iopub.execute_input": "2021-03-12T12:54:23.924149Z",
     "iopub.status.busy": "2021-03-12T12:54:23.923644Z",
     "iopub.status.idle": "2021-03-12T12:54:23.926967Z",
     "shell.execute_reply": "2021-03-12T12:54:23.926593Z"
    }
   },
   "outputs": [],
   "source": [
    "df.columns = ['location','doses']"
   ]
  },
  {
   "cell_type": "markdown",
   "metadata": {},
   "source": [
    "Grab the overall California total"
   ]
  },
  {
   "cell_type": "code",
   "execution_count": 11,
   "metadata": {
    "execution": {
     "iopub.execute_input": "2021-03-12T12:54:23.930143Z",
     "iopub.status.busy": "2021-03-12T12:54:23.929728Z",
     "iopub.status.idle": "2021-03-12T12:54:23.932604Z",
     "shell.execute_reply": "2021-03-12T12:54:23.932164Z"
    }
   },
   "outputs": [],
   "source": [
    "add = {'location':'California','doses':dataJson[0]['dataValues'][2]}"
   ]
  },
  {
   "cell_type": "code",
   "execution_count": 12,
   "metadata": {
    "execution": {
     "iopub.execute_input": "2021-03-12T12:54:23.937534Z",
     "iopub.status.busy": "2021-03-12T12:54:23.937125Z",
     "iopub.status.idle": "2021-03-12T12:54:23.940374Z",
     "shell.execute_reply": "2021-03-12T12:54:23.939886Z"
    }
   },
   "outputs": [],
   "source": [
    "df = df.append(add, ignore_index=True)"
   ]
  },
  {
   "cell_type": "code",
   "execution_count": 13,
   "metadata": {
    "execution": {
     "iopub.execute_input": "2021-03-12T12:54:23.943876Z",
     "iopub.status.busy": "2021-03-12T12:54:23.943460Z",
     "iopub.status.idle": "2021-03-12T12:54:23.946339Z",
     "shell.execute_reply": "2021-03-12T12:54:23.945947Z"
    }
   },
   "outputs": [],
   "source": [
    "df = df.sort_values(by='location')"
   ]
  },
  {
   "cell_type": "code",
   "execution_count": 14,
   "metadata": {
    "execution": {
     "iopub.execute_input": "2021-03-12T12:54:23.950941Z",
     "iopub.status.busy": "2021-03-12T12:54:23.950519Z",
     "iopub.status.idle": "2021-03-12T12:54:23.953030Z",
     "shell.execute_reply": "2021-03-12T12:54:23.953383Z"
    }
   },
   "outputs": [],
   "source": [
    "df = df[df.location == 'California'].append(df[df.location != 'California']).reset_index(drop=True)"
   ]
  },
  {
   "cell_type": "code",
   "execution_count": null,
   "metadata": {},
   "outputs": [],
   "source": []
  },
  {
   "cell_type": "code",
   "execution_count": 15,
   "metadata": {
    "execution": {
     "iopub.execute_input": "2021-03-12T12:54:23.956940Z",
     "iopub.status.busy": "2021-03-12T12:54:23.956264Z",
     "iopub.status.idle": "2021-03-12T12:54:23.972631Z",
     "shell.execute_reply": "2021-03-12T12:54:23.971739Z"
    }
   },
   "outputs": [],
   "source": [
    "tz = pytz.timezone(\"America/New_York\")"
   ]
  },
  {
   "cell_type": "code",
   "execution_count": 16,
   "metadata": {
    "execution": {
     "iopub.execute_input": "2021-03-12T12:54:23.976331Z",
     "iopub.status.busy": "2021-03-12T12:54:23.975833Z",
     "iopub.status.idle": "2021-03-12T12:54:23.979684Z",
     "shell.execute_reply": "2021-03-12T12:54:23.979312Z"
    }
   },
   "outputs": [],
   "source": [
    "today = datetime.now(tz).date()"
   ]
  },
  {
   "cell_type": "code",
   "execution_count": 17,
   "metadata": {
    "execution": {
     "iopub.execute_input": "2021-03-12T12:54:23.982662Z",
     "iopub.status.busy": "2021-03-12T12:54:23.981869Z",
     "iopub.status.idle": "2021-03-12T12:54:23.985321Z",
     "shell.execute_reply": "2021-03-12T12:54:23.984880Z"
    }
   },
   "outputs": [],
   "source": [
    "data_dir = os.path.join(os.path.abspath(\"\"), \"data\")"
   ]
  },
  {
   "cell_type": "code",
   "execution_count": 18,
   "metadata": {
    "execution": {
     "iopub.execute_input": "2021-03-12T12:54:23.989275Z",
     "iopub.status.busy": "2021-03-12T12:54:23.988478Z",
     "iopub.status.idle": "2021-03-12T12:54:23.993829Z",
     "shell.execute_reply": "2021-03-12T12:54:23.994180Z"
    }
   },
   "outputs": [],
   "source": [
    "df.to_csv(os.path.join(data_dir, f\"{today}.csv\"), index=False)"
   ]
  },
  {
   "cell_type": "code",
   "execution_count": null,
   "metadata": {},
   "outputs": [],
   "source": []
  }
 ],
 "metadata": {
  "kernelspec": {
   "display_name": "Python 3",
   "language": "python",
   "name": "python3"
  },
  "language_info": {
   "codemirror_mode": {
    "name": "ipython",
    "version": 3
   },
   "file_extension": ".py",
   "mimetype": "text/x-python",
   "name": "python",
   "nbconvert_exporter": "python",
   "pygments_lexer": "ipython3",
   "version": "3.8.8"
  }
 },
 "nbformat": 4,
 "nbformat_minor": 4
}
