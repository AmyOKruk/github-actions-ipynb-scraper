{
 "cells": [
  {
   "cell_type": "markdown",
   "metadata": {},
   "source": [
    "# California COVID vaccinations scrape"
   ]
  },
  {
   "cell_type": "markdown",
   "metadata": {},
   "source": [
    "By [Amy O'Kruk](https://twitter.com/amyokruk)"
   ]
  },
  {
   "cell_type": "markdown",
   "metadata": {},
   "source": [
    "Downloads data on vaccine doses administered by county and statewide from a Tableau-powered dashboard from the California Department of Public Health."
   ]
  },
  {
   "cell_type": "code",
   "execution_count": 1,
   "metadata": {
    "execution": {
     "iopub.execute_input": "2021-03-16T10:44:05.204531Z",
     "iopub.status.busy": "2021-03-16T10:44:05.203942Z",
     "iopub.status.idle": "2021-03-16T10:44:05.642262Z",
     "shell.execute_reply": "2021-03-16T10:44:05.641414Z"
    }
   },
   "outputs": [],
   "source": [
    "import pandas as pd\n",
    "import requests\n",
    "from bs4 import BeautifulSoup\n",
    "import json\n",
    "import re\n",
    "import time\n",
    "from time import gmtime, strftime \n",
    "import os\n",
    "import pytz\n",
    "from datetime import datetime"
   ]
  },
  {
   "cell_type": "markdown",
   "metadata": {},
   "source": [
    "Scrape the dashboard page"
   ]
  },
  {
   "cell_type": "code",
   "execution_count": 2,
   "metadata": {
    "execution": {
     "iopub.execute_input": "2021-03-16T10:44:05.646556Z",
     "iopub.status.busy": "2021-03-16T10:44:05.645966Z",
     "iopub.status.idle": "2021-03-16T10:44:06.274312Z",
     "shell.execute_reply": "2021-03-16T10:44:06.273778Z"
    }
   },
   "outputs": [],
   "source": [
    "url = \"https://public.tableau.com/interactive/views/COVID-19VaccineDashboardPublic/Vaccine?:embed=y&:showVizHome=n&:apiID=host0\"\n",
    "\n",
    "r = requests.get(url)\n",
    "soup = BeautifulSoup(r.text, \"html.parser\")"
   ]
  },
  {
   "cell_type": "code",
   "execution_count": 3,
   "metadata": {
    "execution": {
     "iopub.execute_input": "2021-03-16T10:44:06.279968Z",
     "iopub.status.busy": "2021-03-16T10:44:06.278763Z",
     "iopub.status.idle": "2021-03-16T10:44:06.280551Z",
     "shell.execute_reply": "2021-03-16T10:44:06.280979Z"
    }
   },
   "outputs": [],
   "source": [
    "tableauData = json.loads(soup.find(\"textarea\",{\"id\": \"tsConfigContainer\"}).text)"
   ]
  },
  {
   "cell_type": "markdown",
   "metadata": {},
   "source": [
    "Get the link to the Tableau data"
   ]
  },
  {
   "cell_type": "code",
   "execution_count": 4,
   "metadata": {
    "execution": {
     "iopub.execute_input": "2021-03-16T10:44:06.285144Z",
     "iopub.status.busy": "2021-03-16T10:44:06.283976Z",
     "iopub.status.idle": "2021-03-16T10:44:06.285796Z",
     "shell.execute_reply": "2021-03-16T10:44:06.286247Z"
    }
   },
   "outputs": [],
   "source": [
    "dataUrl = f'https://public.tableau.com{tableauData[\"vizql_root\"]}/bootstrapSession/sessions/{tableauData[\"sessionid\"]}'"
   ]
  },
  {
   "cell_type": "code",
   "execution_count": 5,
   "metadata": {
    "execution": {
     "iopub.execute_input": "2021-03-16T10:44:06.292612Z",
     "iopub.status.busy": "2021-03-16T10:44:06.292063Z",
     "iopub.status.idle": "2021-03-16T10:44:06.939745Z",
     "shell.execute_reply": "2021-03-16T10:44:06.938994Z"
    }
   },
   "outputs": [],
   "source": [
    "r = requests.post(dataUrl, data= {\n",
    "    \"sheet_id\": tableauData[\"sheetId\"],\n",
    "})\n",
    "\n",
    "dataReg = re.search('\\d+;({.*})\\d+;({.*})', r.text, re.MULTILINE)\n",
    "data1 = json.loads(dataReg.group(2))\n",
    "\n",
    "dataJson = data1[\"secondaryInfo\"][\"presModelMap\"][\"dataDictionary\"][\"presModelHolder\"][\"genDataDictionaryPresModel\"][\"dataSegments\"][\"0\"][\"dataColumns\"]"
   ]
  },
  {
   "cell_type": "markdown",
   "metadata": {},
   "source": [
    "Isolate what you want"
   ]
  },
  {
   "cell_type": "code",
   "execution_count": 6,
   "metadata": {
    "execution": {
     "iopub.execute_input": "2021-03-16T10:44:06.944844Z",
     "iopub.status.busy": "2021-03-16T10:44:06.943711Z",
     "iopub.status.idle": "2021-03-16T10:44:06.945431Z",
     "shell.execute_reply": "2021-03-16T10:44:06.945851Z"
    }
   },
   "outputs": [],
   "source": [
    "counties = dataJson[2]['dataValues'][:58]"
   ]
  },
  {
   "cell_type": "code",
   "execution_count": 7,
   "metadata": {
    "execution": {
     "iopub.execute_input": "2021-03-16T10:44:06.949950Z",
     "iopub.status.busy": "2021-03-16T10:44:06.949031Z",
     "iopub.status.idle": "2021-03-16T10:44:06.950853Z",
     "shell.execute_reply": "2021-03-16T10:44:06.951290Z"
    }
   },
   "outputs": [],
   "source": [
    "doses = dataJson[0]['dataValues'][3:61]"
   ]
  },
  {
   "cell_type": "markdown",
   "metadata": {},
   "source": [
    "Data formatting"
   ]
  },
  {
   "cell_type": "code",
   "execution_count": 8,
   "metadata": {
    "execution": {
     "iopub.execute_input": "2021-03-16T10:44:06.955312Z",
     "iopub.status.busy": "2021-03-16T10:44:06.954385Z",
     "iopub.status.idle": "2021-03-16T10:44:06.956725Z",
     "shell.execute_reply": "2021-03-16T10:44:06.956277Z"
    }
   },
   "outputs": [],
   "source": [
    "zipped = dict(zip(counties, doses))"
   ]
  },
  {
   "cell_type": "code",
   "execution_count": 9,
   "metadata": {
    "execution": {
     "iopub.execute_input": "2021-03-16T10:44:06.963049Z",
     "iopub.status.busy": "2021-03-16T10:44:06.962139Z",
     "iopub.status.idle": "2021-03-16T10:44:06.963977Z",
     "shell.execute_reply": "2021-03-16T10:44:06.964407Z"
    }
   },
   "outputs": [],
   "source": [
    "df = pd.Series(zipped).reset_index()"
   ]
  },
  {
   "cell_type": "code",
   "execution_count": 10,
   "metadata": {
    "execution": {
     "iopub.execute_input": "2021-03-16T10:44:06.969008Z",
     "iopub.status.busy": "2021-03-16T10:44:06.967765Z",
     "iopub.status.idle": "2021-03-16T10:44:06.969609Z",
     "shell.execute_reply": "2021-03-16T10:44:06.970034Z"
    }
   },
   "outputs": [],
   "source": [
    "df.columns = ['location','doses']"
   ]
  },
  {
   "cell_type": "markdown",
   "metadata": {},
   "source": [
    "Grab the overall California total"
   ]
  },
  {
   "cell_type": "code",
   "execution_count": 11,
   "metadata": {
    "execution": {
     "iopub.execute_input": "2021-03-16T10:44:06.974132Z",
     "iopub.status.busy": "2021-03-16T10:44:06.973213Z",
     "iopub.status.idle": "2021-03-16T10:44:06.974941Z",
     "shell.execute_reply": "2021-03-16T10:44:06.975370Z"
    }
   },
   "outputs": [],
   "source": [
    "add = {'location':'California','doses':dataJson[0]['dataValues'][2]}"
   ]
  },
  {
   "cell_type": "code",
   "execution_count": 12,
   "metadata": {
    "execution": {
     "iopub.execute_input": "2021-03-16T10:44:06.982519Z",
     "iopub.status.busy": "2021-03-16T10:44:06.981352Z",
     "iopub.status.idle": "2021-03-16T10:44:06.983222Z",
     "shell.execute_reply": "2021-03-16T10:44:06.983659Z"
    }
   },
   "outputs": [],
   "source": [
    "df = df.append(add, ignore_index=True)"
   ]
  },
  {
   "cell_type": "code",
   "execution_count": 13,
   "metadata": {
    "execution": {
     "iopub.execute_input": "2021-03-16T10:44:06.988628Z",
     "iopub.status.busy": "2021-03-16T10:44:06.987702Z",
     "iopub.status.idle": "2021-03-16T10:44:06.989466Z",
     "shell.execute_reply": "2021-03-16T10:44:06.989894Z"
    }
   },
   "outputs": [],
   "source": [
    "df = df.sort_values(by='location')"
   ]
  },
  {
   "cell_type": "code",
   "execution_count": 14,
   "metadata": {
    "execution": {
     "iopub.execute_input": "2021-03-16T10:44:06.996733Z",
     "iopub.status.busy": "2021-03-16T10:44:06.995560Z",
     "iopub.status.idle": "2021-03-16T10:44:06.997330Z",
     "shell.execute_reply": "2021-03-16T10:44:06.997754Z"
    }
   },
   "outputs": [],
   "source": [
    "df = df[df.location == 'California'].append(df[df.location != 'California']).reset_index(drop=True)"
   ]
  },
  {
   "cell_type": "code",
   "execution_count": null,
   "metadata": {},
   "outputs": [],
   "source": []
  },
  {
   "cell_type": "code",
   "execution_count": 15,
   "metadata": {
    "execution": {
     "iopub.execute_input": "2021-03-16T10:44:07.001042Z",
     "iopub.status.busy": "2021-03-16T10:44:07.000522Z",
     "iopub.status.idle": "2021-03-16T10:44:07.018903Z",
     "shell.execute_reply": "2021-03-16T10:44:07.018446Z"
    }
   },
   "outputs": [],
   "source": [
    "tz = pytz.timezone(\"America/New_York\")"
   ]
  },
  {
   "cell_type": "code",
   "execution_count": 16,
   "metadata": {
    "execution": {
     "iopub.execute_input": "2021-03-16T10:44:07.023309Z",
     "iopub.status.busy": "2021-03-16T10:44:07.022181Z",
     "iopub.status.idle": "2021-03-16T10:44:07.023896Z",
     "shell.execute_reply": "2021-03-16T10:44:07.024324Z"
    }
   },
   "outputs": [],
   "source": [
    "today = datetime.now(tz).date()"
   ]
  },
  {
   "cell_type": "code",
   "execution_count": 17,
   "metadata": {
    "execution": {
     "iopub.execute_input": "2021-03-16T10:44:07.028608Z",
     "iopub.status.busy": "2021-03-16T10:44:07.027515Z",
     "iopub.status.idle": "2021-03-16T10:44:07.029202Z",
     "shell.execute_reply": "2021-03-16T10:44:07.029625Z"
    }
   },
   "outputs": [],
   "source": [
    "data_dir = os.path.join(os.path.abspath(\"\"), \"data\")"
   ]
  },
  {
   "cell_type": "code",
   "execution_count": 18,
   "metadata": {
    "execution": {
     "iopub.execute_input": "2021-03-16T10:44:07.033880Z",
     "iopub.status.busy": "2021-03-16T10:44:07.032806Z",
     "iopub.status.idle": "2021-03-16T10:44:07.037606Z",
     "shell.execute_reply": "2021-03-16T10:44:07.037090Z"
    }
   },
   "outputs": [],
   "source": [
    "df.to_csv(os.path.join(data_dir, f\"{today}.csv\"), index=False)"
   ]
  },
  {
   "cell_type": "code",
   "execution_count": null,
   "metadata": {},
   "outputs": [],
   "source": []
  }
 ],
 "metadata": {
  "kernelspec": {
   "display_name": "Python 3",
   "language": "python",
   "name": "python3"
  },
  "language_info": {
   "codemirror_mode": {
    "name": "ipython",
    "version": 3
   },
   "file_extension": ".py",
   "mimetype": "text/x-python",
   "name": "python",
   "nbconvert_exporter": "python",
   "pygments_lexer": "ipython3",
   "version": "3.8.8"
  }
 },
 "nbformat": 4,
 "nbformat_minor": 4
}
