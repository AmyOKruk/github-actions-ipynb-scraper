{
 "cells": [
  {
   "cell_type": "markdown",
   "metadata": {},
   "source": [
    "# California COVID vaccinations scrape"
   ]
  },
  {
   "cell_type": "markdown",
   "metadata": {},
   "source": [
    "By [Amy O'Kruk](https://twitter.com/amyokruk)"
   ]
  },
  {
   "cell_type": "markdown",
   "metadata": {},
   "source": [
    "Downloads data on vaccine doses administered by county and statewide from a Tableau-powered dashboard from the California Department of Public Health."
   ]
  },
  {
   "cell_type": "code",
   "execution_count": 1,
   "metadata": {
    "execution": {
     "iopub.execute_input": "2021-03-15T15:13:00.603590Z",
     "iopub.status.busy": "2021-03-15T15:13:00.602911Z",
     "iopub.status.idle": "2021-03-15T15:13:01.134601Z",
     "shell.execute_reply": "2021-03-15T15:13:01.133471Z"
    }
   },
   "outputs": [],
   "source": [
    "import pandas as pd\n",
    "import requests\n",
    "from bs4 import BeautifulSoup\n",
    "import json\n",
    "import re\n",
    "import time\n",
    "from time import gmtime, strftime \n",
    "import os\n",
    "import pytz\n",
    "from datetime import datetime"
   ]
  },
  {
   "cell_type": "markdown",
   "metadata": {},
   "source": [
    "Scrape the dashboard page"
   ]
  },
  {
   "cell_type": "code",
   "execution_count": 2,
   "metadata": {
    "execution": {
     "iopub.execute_input": "2021-03-15T15:13:01.142898Z",
     "iopub.status.busy": "2021-03-15T15:13:01.142242Z",
     "iopub.status.idle": "2021-03-15T15:13:01.542879Z",
     "shell.execute_reply": "2021-03-15T15:13:01.543329Z"
    }
   },
   "outputs": [],
   "source": [
    "url = \"https://public.tableau.com/interactive/views/COVID-19VaccineDashboardPublic/Vaccine?:embed=y&:showVizHome=n&:apiID=host0\"\n",
    "\n",
    "r = requests.get(url)\n",
    "soup = BeautifulSoup(r.text, \"html.parser\")"
   ]
  },
  {
   "cell_type": "code",
   "execution_count": 3,
   "metadata": {
    "execution": {
     "iopub.execute_input": "2021-03-15T15:13:01.550669Z",
     "iopub.status.busy": "2021-03-15T15:13:01.548860Z",
     "iopub.status.idle": "2021-03-15T15:13:01.551405Z",
     "shell.execute_reply": "2021-03-15T15:13:01.551896Z"
    }
   },
   "outputs": [],
   "source": [
    "tableauData = json.loads(soup.find(\"textarea\",{\"id\": \"tsConfigContainer\"}).text)"
   ]
  },
  {
   "cell_type": "markdown",
   "metadata": {},
   "source": [
    "Get the link to the Tableau data"
   ]
  },
  {
   "cell_type": "code",
   "execution_count": 4,
   "metadata": {
    "execution": {
     "iopub.execute_input": "2021-03-15T15:13:01.559167Z",
     "iopub.status.busy": "2021-03-15T15:13:01.558029Z",
     "iopub.status.idle": "2021-03-15T15:13:01.560406Z",
     "shell.execute_reply": "2021-03-15T15:13:01.560876Z"
    }
   },
   "outputs": [],
   "source": [
    "dataUrl = f'https://public.tableau.com{tableauData[\"vizql_root\"]}/bootstrapSession/sessions/{tableauData[\"sessionid\"]}'"
   ]
  },
  {
   "cell_type": "code",
   "execution_count": 5,
   "metadata": {
    "execution": {
     "iopub.execute_input": "2021-03-15T15:13:01.568930Z",
     "iopub.status.busy": "2021-03-15T15:13:01.568377Z",
     "iopub.status.idle": "2021-03-15T15:13:01.943571Z",
     "shell.execute_reply": "2021-03-15T15:13:01.942390Z"
    }
   },
   "outputs": [],
   "source": [
    "r = requests.post(dataUrl, data= {\n",
    "    \"sheet_id\": tableauData[\"sheetId\"],\n",
    "})\n",
    "\n",
    "dataReg = re.search('\\d+;({.*})\\d+;({.*})', r.text, re.MULTILINE)\n",
    "data1 = json.loads(dataReg.group(2))\n",
    "\n",
    "dataJson = data1[\"secondaryInfo\"][\"presModelMap\"][\"dataDictionary\"][\"presModelHolder\"][\"genDataDictionaryPresModel\"][\"dataSegments\"][\"0\"][\"dataColumns\"]"
   ]
  },
  {
   "cell_type": "markdown",
   "metadata": {},
   "source": [
    "Isolate what you want"
   ]
  },
  {
   "cell_type": "code",
   "execution_count": 6,
   "metadata": {
    "execution": {
     "iopub.execute_input": "2021-03-15T15:13:01.948710Z",
     "iopub.status.busy": "2021-03-15T15:13:01.947983Z",
     "iopub.status.idle": "2021-03-15T15:13:01.951516Z",
     "shell.execute_reply": "2021-03-15T15:13:01.952217Z"
    }
   },
   "outputs": [],
   "source": [
    "counties = dataJson[2]['dataValues'][:58]"
   ]
  },
  {
   "cell_type": "code",
   "execution_count": 7,
   "metadata": {
    "execution": {
     "iopub.execute_input": "2021-03-15T15:13:01.958060Z",
     "iopub.status.busy": "2021-03-15T15:13:01.957118Z",
     "iopub.status.idle": "2021-03-15T15:13:01.960958Z",
     "shell.execute_reply": "2021-03-15T15:13:01.961478Z"
    }
   },
   "outputs": [],
   "source": [
    "doses = dataJson[0]['dataValues'][3:61]"
   ]
  },
  {
   "cell_type": "markdown",
   "metadata": {},
   "source": [
    "Data formatting"
   ]
  },
  {
   "cell_type": "code",
   "execution_count": 8,
   "metadata": {
    "execution": {
     "iopub.execute_input": "2021-03-15T15:13:01.966159Z",
     "iopub.status.busy": "2021-03-15T15:13:01.965281Z",
     "iopub.status.idle": "2021-03-15T15:13:01.969568Z",
     "shell.execute_reply": "2021-03-15T15:13:01.969059Z"
    }
   },
   "outputs": [],
   "source": [
    "zipped = dict(zip(counties, doses))"
   ]
  },
  {
   "cell_type": "code",
   "execution_count": 9,
   "metadata": {
    "execution": {
     "iopub.execute_input": "2021-03-15T15:13:01.979247Z",
     "iopub.status.busy": "2021-03-15T15:13:01.978106Z",
     "iopub.status.idle": "2021-03-15T15:13:01.983278Z",
     "shell.execute_reply": "2021-03-15T15:13:01.982682Z"
    }
   },
   "outputs": [],
   "source": [
    "df = pd.Series(zipped).reset_index()"
   ]
  },
  {
   "cell_type": "code",
   "execution_count": 10,
   "metadata": {
    "execution": {
     "iopub.execute_input": "2021-03-15T15:13:01.987620Z",
     "iopub.status.busy": "2021-03-15T15:13:01.987106Z",
     "iopub.status.idle": "2021-03-15T15:13:01.990360Z",
     "shell.execute_reply": "2021-03-15T15:13:01.990807Z"
    }
   },
   "outputs": [],
   "source": [
    "df.columns = ['location','doses']"
   ]
  },
  {
   "cell_type": "markdown",
   "metadata": {},
   "source": [
    "Grab the overall California total"
   ]
  },
  {
   "cell_type": "code",
   "execution_count": 11,
   "metadata": {
    "execution": {
     "iopub.execute_input": "2021-03-15T15:13:02.001978Z",
     "iopub.status.busy": "2021-03-15T15:13:02.001363Z",
     "iopub.status.idle": "2021-03-15T15:13:02.006639Z",
     "shell.execute_reply": "2021-03-15T15:13:02.005795Z"
    }
   },
   "outputs": [],
   "source": [
    "add = {'location':'California','doses':dataJson[0]['dataValues'][2]}"
   ]
  },
  {
   "cell_type": "code",
   "execution_count": 12,
   "metadata": {
    "execution": {
     "iopub.execute_input": "2021-03-15T15:13:02.015901Z",
     "iopub.status.busy": "2021-03-15T15:13:02.015288Z",
     "iopub.status.idle": "2021-03-15T15:13:02.020564Z",
     "shell.execute_reply": "2021-03-15T15:13:02.019097Z"
    }
   },
   "outputs": [],
   "source": [
    "df = df.append(add, ignore_index=True)"
   ]
  },
  {
   "cell_type": "code",
   "execution_count": 13,
   "metadata": {
    "execution": {
     "iopub.execute_input": "2021-03-15T15:13:02.025925Z",
     "iopub.status.busy": "2021-03-15T15:13:02.025375Z",
     "iopub.status.idle": "2021-03-15T15:13:02.028609Z",
     "shell.execute_reply": "2021-03-15T15:13:02.029080Z"
    }
   },
   "outputs": [],
   "source": [
    "df = df.sort_values(by='location')"
   ]
  },
  {
   "cell_type": "code",
   "execution_count": 14,
   "metadata": {
    "execution": {
     "iopub.execute_input": "2021-03-15T15:13:02.037493Z",
     "iopub.status.busy": "2021-03-15T15:13:02.036949Z",
     "iopub.status.idle": "2021-03-15T15:13:02.040557Z",
     "shell.execute_reply": "2021-03-15T15:13:02.040116Z"
    }
   },
   "outputs": [],
   "source": [
    "df = df[df.location == 'California'].append(df[df.location != 'California']).reset_index(drop=True)"
   ]
  },
  {
   "cell_type": "code",
   "execution_count": null,
   "metadata": {},
   "outputs": [],
   "source": []
  },
  {
   "cell_type": "code",
   "execution_count": 15,
   "metadata": {
    "execution": {
     "iopub.execute_input": "2021-03-15T15:13:02.044276Z",
     "iopub.status.busy": "2021-03-15T15:13:02.043753Z",
     "iopub.status.idle": "2021-03-15T15:13:02.063002Z",
     "shell.execute_reply": "2021-03-15T15:13:02.062285Z"
    }
   },
   "outputs": [],
   "source": [
    "tz = pytz.timezone(\"America/New_York\")"
   ]
  },
  {
   "cell_type": "code",
   "execution_count": 16,
   "metadata": {
    "execution": {
     "iopub.execute_input": "2021-03-15T15:13:02.070255Z",
     "iopub.status.busy": "2021-03-15T15:13:02.069150Z",
     "iopub.status.idle": "2021-03-15T15:13:02.072214Z",
     "shell.execute_reply": "2021-03-15T15:13:02.071489Z"
    }
   },
   "outputs": [],
   "source": [
    "today = datetime.now(tz).date()"
   ]
  },
  {
   "cell_type": "code",
   "execution_count": 17,
   "metadata": {
    "execution": {
     "iopub.execute_input": "2021-03-15T15:13:02.076634Z",
     "iopub.status.busy": "2021-03-15T15:13:02.075707Z",
     "iopub.status.idle": "2021-03-15T15:13:02.078283Z",
     "shell.execute_reply": "2021-03-15T15:13:02.078862Z"
    }
   },
   "outputs": [],
   "source": [
    "data_dir = os.path.join(os.path.abspath(\"\"), \"data\")"
   ]
  },
  {
   "cell_type": "code",
   "execution_count": 18,
   "metadata": {
    "execution": {
     "iopub.execute_input": "2021-03-15T15:13:02.085232Z",
     "iopub.status.busy": "2021-03-15T15:13:02.083652Z",
     "iopub.status.idle": "2021-03-15T15:13:02.101520Z",
     "shell.execute_reply": "2021-03-15T15:13:02.101986Z"
    }
   },
   "outputs": [],
   "source": [
    "df.to_csv(os.path.join(data_dir, f\"{today}.csv\"), index=False)"
   ]
  },
  {
   "cell_type": "code",
   "execution_count": null,
   "metadata": {},
   "outputs": [],
   "source": []
  }
 ],
 "metadata": {
  "kernelspec": {
   "display_name": "Python 3",
   "language": "python",
   "name": "python3"
  },
  "language_info": {
   "codemirror_mode": {
    "name": "ipython",
    "version": 3
   },
   "file_extension": ".py",
   "mimetype": "text/x-python",
   "name": "python",
   "nbconvert_exporter": "python",
   "pygments_lexer": "ipython3",
   "version": "3.8.8"
  }
 },
 "nbformat": 4,
 "nbformat_minor": 4
}
