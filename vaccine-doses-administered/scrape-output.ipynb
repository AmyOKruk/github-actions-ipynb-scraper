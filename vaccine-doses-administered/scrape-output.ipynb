{
 "cells": [
  {
   "cell_type": "markdown",
   "metadata": {},
   "source": [
    "# California COVID vaccinations scrape"
   ]
  },
  {
   "cell_type": "markdown",
   "metadata": {},
   "source": [
    "By [Amy O'Kruk](https://twitter.com/amyokruk)"
   ]
  },
  {
   "cell_type": "markdown",
   "metadata": {},
   "source": [
    "Downloads data on vaccine doses administered by county and statewide from a Tableau-powered dashboard from the California Department of Public Health."
   ]
  },
  {
   "cell_type": "code",
   "execution_count": 1,
   "metadata": {
    "execution": {
     "iopub.execute_input": "2021-03-10T02:14:36.038206Z",
     "iopub.status.busy": "2021-03-10T02:14:36.037651Z",
     "iopub.status.idle": "2021-03-10T02:14:36.457954Z",
     "shell.execute_reply": "2021-03-10T02:14:36.457020Z"
    }
   },
   "outputs": [],
   "source": [
    "import pandas as pd\n",
    "import requests\n",
    "from bs4 import BeautifulSoup\n",
    "import json\n",
    "import re\n",
    "import time\n",
    "from time import gmtime, strftime \n",
    "import os\n",
    "import pytz\n",
    "from datetime import datetime"
   ]
  },
  {
   "cell_type": "markdown",
   "metadata": {},
   "source": [
    "Scrape the dashboard page"
   ]
  },
  {
   "cell_type": "code",
   "execution_count": 2,
   "metadata": {
    "execution": {
     "iopub.execute_input": "2021-03-10T02:14:36.464040Z",
     "iopub.status.busy": "2021-03-10T02:14:36.461908Z",
     "iopub.status.idle": "2021-03-10T02:14:36.861211Z",
     "shell.execute_reply": "2021-03-10T02:14:36.860751Z"
    }
   },
   "outputs": [],
   "source": [
    "url = \"https://public.tableau.com/interactive/views/COVID-19VaccineDashboardPublic/Vaccine?:embed=y&:showVizHome=n&:apiID=host0\"\n",
    "\n",
    "r = requests.get(url)\n",
    "soup = BeautifulSoup(r.text, \"html.parser\")"
   ]
  },
  {
   "cell_type": "code",
   "execution_count": 3,
   "metadata": {
    "execution": {
     "iopub.execute_input": "2021-03-10T02:14:36.867214Z",
     "iopub.status.busy": "2021-03-10T02:14:36.866023Z",
     "iopub.status.idle": "2021-03-10T02:14:36.867773Z",
     "shell.execute_reply": "2021-03-10T02:14:36.868177Z"
    }
   },
   "outputs": [],
   "source": [
    "tableauData = json.loads(soup.find(\"textarea\",{\"id\": \"tsConfigContainer\"}).text)"
   ]
  },
  {
   "cell_type": "markdown",
   "metadata": {},
   "source": [
    "Get the link to the Tableau data"
   ]
  },
  {
   "cell_type": "code",
   "execution_count": 4,
   "metadata": {
    "execution": {
     "iopub.execute_input": "2021-03-10T02:14:36.871970Z",
     "iopub.status.busy": "2021-03-10T02:14:36.871132Z",
     "iopub.status.idle": "2021-03-10T02:14:36.872798Z",
     "shell.execute_reply": "2021-03-10T02:14:36.873220Z"
    }
   },
   "outputs": [],
   "source": [
    "dataUrl = f'https://public.tableau.com{tableauData[\"vizql_root\"]}/bootstrapSession/sessions/{tableauData[\"sessionid\"]}'"
   ]
  },
  {
   "cell_type": "code",
   "execution_count": 5,
   "metadata": {
    "execution": {
     "iopub.execute_input": "2021-03-10T02:14:36.879786Z",
     "iopub.status.busy": "2021-03-10T02:14:36.879262Z",
     "iopub.status.idle": "2021-03-10T02:14:37.130454Z",
     "shell.execute_reply": "2021-03-10T02:14:37.129569Z"
    }
   },
   "outputs": [],
   "source": [
    "r = requests.post(dataUrl, data= {\n",
    "    \"sheet_id\": tableauData[\"sheetId\"],\n",
    "})\n",
    "\n",
    "dataReg = re.search('\\d+;({.*})\\d+;({.*})', r.text, re.MULTILINE)\n",
    "data1 = json.loads(dataReg.group(2))\n",
    "\n",
    "dataJson = data1[\"secondaryInfo\"][\"presModelMap\"][\"dataDictionary\"][\"presModelHolder\"][\"genDataDictionaryPresModel\"][\"dataSegments\"][\"0\"][\"dataColumns\"]"
   ]
  },
  {
   "cell_type": "markdown",
   "metadata": {},
   "source": [
    "Isolate what you want"
   ]
  },
  {
   "cell_type": "code",
   "execution_count": 6,
   "metadata": {
    "execution": {
     "iopub.execute_input": "2021-03-10T02:14:37.134908Z",
     "iopub.status.busy": "2021-03-10T02:14:37.133755Z",
     "iopub.status.idle": "2021-03-10T02:14:37.135468Z",
     "shell.execute_reply": "2021-03-10T02:14:37.135861Z"
    }
   },
   "outputs": [],
   "source": [
    "counties = dataJson[2]['dataValues'][:58]"
   ]
  },
  {
   "cell_type": "code",
   "execution_count": 7,
   "metadata": {
    "execution": {
     "iopub.execute_input": "2021-03-10T02:14:37.139809Z",
     "iopub.status.busy": "2021-03-10T02:14:37.138788Z",
     "iopub.status.idle": "2021-03-10T02:14:37.140370Z",
     "shell.execute_reply": "2021-03-10T02:14:37.140763Z"
    }
   },
   "outputs": [],
   "source": [
    "doses = dataJson[0]['dataValues'][3:61]"
   ]
  },
  {
   "cell_type": "markdown",
   "metadata": {},
   "source": [
    "Data formatting"
   ]
  },
  {
   "cell_type": "code",
   "execution_count": 8,
   "metadata": {
    "execution": {
     "iopub.execute_input": "2021-03-10T02:14:37.144670Z",
     "iopub.status.busy": "2021-03-10T02:14:37.143625Z",
     "iopub.status.idle": "2021-03-10T02:14:37.145228Z",
     "shell.execute_reply": "2021-03-10T02:14:37.145622Z"
    }
   },
   "outputs": [],
   "source": [
    "zipped = dict(zip(counties, doses))"
   ]
  },
  {
   "cell_type": "code",
   "execution_count": 9,
   "metadata": {
    "execution": {
     "iopub.execute_input": "2021-03-10T02:14:37.151199Z",
     "iopub.status.busy": "2021-03-10T02:14:37.150115Z",
     "iopub.status.idle": "2021-03-10T02:14:37.151758Z",
     "shell.execute_reply": "2021-03-10T02:14:37.152150Z"
    }
   },
   "outputs": [],
   "source": [
    "df = pd.Series(zipped).reset_index()"
   ]
  },
  {
   "cell_type": "code",
   "execution_count": 10,
   "metadata": {
    "execution": {
     "iopub.execute_input": "2021-03-10T02:14:37.156009Z",
     "iopub.status.busy": "2021-03-10T02:14:37.154911Z",
     "iopub.status.idle": "2021-03-10T02:14:37.156503Z",
     "shell.execute_reply": "2021-03-10T02:14:37.156846Z"
    }
   },
   "outputs": [],
   "source": [
    "df.columns = ['location','doses']"
   ]
  },
  {
   "cell_type": "markdown",
   "metadata": {},
   "source": [
    "Grab the overall California total"
   ]
  },
  {
   "cell_type": "code",
   "execution_count": 11,
   "metadata": {
    "execution": {
     "iopub.execute_input": "2021-03-10T02:14:37.160616Z",
     "iopub.status.busy": "2021-03-10T02:14:37.159541Z",
     "iopub.status.idle": "2021-03-10T02:14:37.161176Z",
     "shell.execute_reply": "2021-03-10T02:14:37.161568Z"
    }
   },
   "outputs": [],
   "source": [
    "add = {'location':'California','doses':dataJson[0]['dataValues'][2]}"
   ]
  },
  {
   "cell_type": "code",
   "execution_count": 12,
   "metadata": {
    "execution": {
     "iopub.execute_input": "2021-03-10T02:14:37.167536Z",
     "iopub.status.busy": "2021-03-10T02:14:37.166736Z",
     "iopub.status.idle": "2021-03-10T02:14:37.168449Z",
     "shell.execute_reply": "2021-03-10T02:14:37.168816Z"
    }
   },
   "outputs": [],
   "source": [
    "df = df.append(add, ignore_index=True)"
   ]
  },
  {
   "cell_type": "code",
   "execution_count": 13,
   "metadata": {
    "execution": {
     "iopub.execute_input": "2021-03-10T02:14:37.172738Z",
     "iopub.status.busy": "2021-03-10T02:14:37.172043Z",
     "iopub.status.idle": "2021-03-10T02:14:37.173862Z",
     "shell.execute_reply": "2021-03-10T02:14:37.173493Z"
    }
   },
   "outputs": [],
   "source": [
    "df = df.sort_values(by='location')"
   ]
  },
  {
   "cell_type": "code",
   "execution_count": 14,
   "metadata": {
    "execution": {
     "iopub.execute_input": "2021-03-10T02:14:37.179944Z",
     "iopub.status.busy": "2021-03-10T02:14:37.178770Z",
     "iopub.status.idle": "2021-03-10T02:14:37.180535Z",
     "shell.execute_reply": "2021-03-10T02:14:37.180880Z"
    }
   },
   "outputs": [],
   "source": [
    "df = df[df.location == 'California'].append(df[df.location != 'California']).reset_index(drop=True)"
   ]
  },
  {
   "cell_type": "code",
   "execution_count": null,
   "metadata": {},
   "outputs": [],
   "source": []
  },
  {
   "cell_type": "code",
   "execution_count": 15,
   "metadata": {
    "execution": {
     "iopub.execute_input": "2021-03-10T02:14:37.183703Z",
     "iopub.status.busy": "2021-03-10T02:14:37.183290Z",
     "iopub.status.idle": "2021-03-10T02:14:37.198580Z",
     "shell.execute_reply": "2021-03-10T02:14:37.198130Z"
    }
   },
   "outputs": [],
   "source": [
    "tz = pytz.timezone(\"America/New_York\")"
   ]
  },
  {
   "cell_type": "code",
   "execution_count": 16,
   "metadata": {
    "execution": {
     "iopub.execute_input": "2021-03-10T02:14:37.201893Z",
     "iopub.status.busy": "2021-03-10T02:14:37.201114Z",
     "iopub.status.idle": "2021-03-10T02:14:37.203151Z",
     "shell.execute_reply": "2021-03-10T02:14:37.202740Z"
    }
   },
   "outputs": [],
   "source": [
    "today = datetime.now(tz).date()"
   ]
  },
  {
   "cell_type": "code",
   "execution_count": 17,
   "metadata": {
    "execution": {
     "iopub.execute_input": "2021-03-10T02:14:37.207019Z",
     "iopub.status.busy": "2021-03-10T02:14:37.205844Z",
     "iopub.status.idle": "2021-03-10T02:14:37.207652Z",
     "shell.execute_reply": "2021-03-10T02:14:37.207996Z"
    }
   },
   "outputs": [],
   "source": [
    "data_dir = os.path.join(os.path.abspath(\"\"), \"data\")"
   ]
  },
  {
   "cell_type": "code",
   "execution_count": 18,
   "metadata": {
    "execution": {
     "iopub.execute_input": "2021-03-10T02:14:37.211877Z",
     "iopub.status.busy": "2021-03-10T02:14:37.210686Z",
     "iopub.status.idle": "2021-03-10T02:14:37.215008Z",
     "shell.execute_reply": "2021-03-10T02:14:37.214484Z"
    }
   },
   "outputs": [],
   "source": [
    "df.to_csv(os.path.join(data_dir, f\"{today}.csv\"), index=False)"
   ]
  },
  {
   "cell_type": "code",
   "execution_count": null,
   "metadata": {},
   "outputs": [],
   "source": []
  }
 ],
 "metadata": {
  "kernelspec": {
   "display_name": "Python 3",
   "language": "python",
   "name": "python3"
  },
  "language_info": {
   "codemirror_mode": {
    "name": "ipython",
    "version": 3
   },
   "file_extension": ".py",
   "mimetype": "text/x-python",
   "name": "python",
   "nbconvert_exporter": "python",
   "pygments_lexer": "ipython3",
   "version": "3.8.8"
  }
 },
 "nbformat": 4,
 "nbformat_minor": 4
}
