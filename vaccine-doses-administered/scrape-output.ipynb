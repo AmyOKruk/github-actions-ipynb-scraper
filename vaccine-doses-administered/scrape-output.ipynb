{
 "cells": [
  {
   "cell_type": "markdown",
   "metadata": {},
   "source": [
    "# California COVID vaccinations scrape"
   ]
  },
  {
   "cell_type": "markdown",
   "metadata": {},
   "source": [
    "By [Amy O'Kruk](https://twitter.com/amyokruk)"
   ]
  },
  {
   "cell_type": "markdown",
   "metadata": {},
   "source": [
    "Downloads data on vaccine doses administered by county and statewide from a Tableau-powered dashboard from the California Department of Public Health."
   ]
  },
  {
   "cell_type": "code",
   "execution_count": 1,
   "metadata": {
    "execution": {
     "iopub.execute_input": "2021-03-12T10:14:25.089130Z",
     "iopub.status.busy": "2021-03-12T10:14:25.088536Z",
     "iopub.status.idle": "2021-03-12T10:14:25.524131Z",
     "shell.execute_reply": "2021-03-12T10:14:25.523044Z"
    }
   },
   "outputs": [],
   "source": [
    "import pandas as pd\n",
    "import requests\n",
    "from bs4 import BeautifulSoup\n",
    "import json\n",
    "import re\n",
    "import time\n",
    "from time import gmtime, strftime \n",
    "import os\n",
    "import pytz\n",
    "from datetime import datetime"
   ]
  },
  {
   "cell_type": "markdown",
   "metadata": {},
   "source": [
    "Scrape the dashboard page"
   ]
  },
  {
   "cell_type": "code",
   "execution_count": 2,
   "metadata": {
    "execution": {
     "iopub.execute_input": "2021-03-12T10:14:25.529975Z",
     "iopub.status.busy": "2021-03-12T10:14:25.527754Z",
     "iopub.status.idle": "2021-03-12T10:14:26.030998Z",
     "shell.execute_reply": "2021-03-12T10:14:26.031472Z"
    }
   },
   "outputs": [],
   "source": [
    "url = \"https://public.tableau.com/interactive/views/COVID-19VaccineDashboardPublic/Vaccine?:embed=y&:showVizHome=n&:apiID=host0\"\n",
    "\n",
    "r = requests.get(url)\n",
    "soup = BeautifulSoup(r.text, \"html.parser\")"
   ]
  },
  {
   "cell_type": "code",
   "execution_count": 3,
   "metadata": {
    "execution": {
     "iopub.execute_input": "2021-03-12T10:14:26.036446Z",
     "iopub.status.busy": "2021-03-12T10:14:26.035921Z",
     "iopub.status.idle": "2021-03-12T10:14:26.039891Z",
     "shell.execute_reply": "2021-03-12T10:14:26.039442Z"
    }
   },
   "outputs": [],
   "source": [
    "tableauData = json.loads(soup.find(\"textarea\",{\"id\": \"tsConfigContainer\"}).text)"
   ]
  },
  {
   "cell_type": "markdown",
   "metadata": {},
   "source": [
    "Get the link to the Tableau data"
   ]
  },
  {
   "cell_type": "code",
   "execution_count": 4,
   "metadata": {
    "execution": {
     "iopub.execute_input": "2021-03-12T10:14:26.044379Z",
     "iopub.status.busy": "2021-03-12T10:14:26.043142Z",
     "iopub.status.idle": "2021-03-12T10:14:26.044975Z",
     "shell.execute_reply": "2021-03-12T10:14:26.045397Z"
    }
   },
   "outputs": [],
   "source": [
    "dataUrl = f'https://public.tableau.com{tableauData[\"vizql_root\"]}/bootstrapSession/sessions/{tableauData[\"sessionid\"]}'"
   ]
  },
  {
   "cell_type": "code",
   "execution_count": 5,
   "metadata": {
    "execution": {
     "iopub.execute_input": "2021-03-12T10:14:26.051828Z",
     "iopub.status.busy": "2021-03-12T10:14:26.051299Z",
     "iopub.status.idle": "2021-03-12T10:14:26.495771Z",
     "shell.execute_reply": "2021-03-12T10:14:26.495197Z"
    }
   },
   "outputs": [],
   "source": [
    "r = requests.post(dataUrl, data= {\n",
    "    \"sheet_id\": tableauData[\"sheetId\"],\n",
    "})\n",
    "\n",
    "dataReg = re.search('\\d+;({.*})\\d+;({.*})', r.text, re.MULTILINE)\n",
    "data1 = json.loads(dataReg.group(2))\n",
    "\n",
    "dataJson = data1[\"secondaryInfo\"][\"presModelMap\"][\"dataDictionary\"][\"presModelHolder\"][\"genDataDictionaryPresModel\"][\"dataSegments\"][\"0\"][\"dataColumns\"]"
   ]
  },
  {
   "cell_type": "markdown",
   "metadata": {},
   "source": [
    "Isolate what you want"
   ]
  },
  {
   "cell_type": "code",
   "execution_count": 6,
   "metadata": {
    "execution": {
     "iopub.execute_input": "2021-03-12T10:14:26.500145Z",
     "iopub.status.busy": "2021-03-12T10:14:26.499023Z",
     "iopub.status.idle": "2021-03-12T10:14:26.501295Z",
     "shell.execute_reply": "2021-03-12T10:14:26.500865Z"
    }
   },
   "outputs": [],
   "source": [
    "counties = dataJson[2]['dataValues'][:58]"
   ]
  },
  {
   "cell_type": "code",
   "execution_count": 7,
   "metadata": {
    "execution": {
     "iopub.execute_input": "2021-03-12T10:14:26.506189Z",
     "iopub.status.busy": "2021-03-12T10:14:26.504641Z",
     "iopub.status.idle": "2021-03-12T10:14:26.506810Z",
     "shell.execute_reply": "2021-03-12T10:14:26.507341Z"
    }
   },
   "outputs": [],
   "source": [
    "doses = dataJson[0]['dataValues'][3:61]"
   ]
  },
  {
   "cell_type": "markdown",
   "metadata": {},
   "source": [
    "Data formatting"
   ]
  },
  {
   "cell_type": "code",
   "execution_count": 8,
   "metadata": {
    "execution": {
     "iopub.execute_input": "2021-03-12T10:14:26.511996Z",
     "iopub.status.busy": "2021-03-12T10:14:26.510509Z",
     "iopub.status.idle": "2021-03-12T10:14:26.512719Z",
     "shell.execute_reply": "2021-03-12T10:14:26.513158Z"
    }
   },
   "outputs": [],
   "source": [
    "zipped = dict(zip(counties, doses))"
   ]
  },
  {
   "cell_type": "code",
   "execution_count": 9,
   "metadata": {
    "execution": {
     "iopub.execute_input": "2021-03-12T10:14:26.519640Z",
     "iopub.status.busy": "2021-03-12T10:14:26.518341Z",
     "iopub.status.idle": "2021-03-12T10:14:26.520229Z",
     "shell.execute_reply": "2021-03-12T10:14:26.520653Z"
    }
   },
   "outputs": [],
   "source": [
    "df = pd.Series(zipped).reset_index()"
   ]
  },
  {
   "cell_type": "code",
   "execution_count": 10,
   "metadata": {
    "execution": {
     "iopub.execute_input": "2021-03-12T10:14:26.525146Z",
     "iopub.status.busy": "2021-03-12T10:14:26.523976Z",
     "iopub.status.idle": "2021-03-12T10:14:26.525791Z",
     "shell.execute_reply": "2021-03-12T10:14:26.526212Z"
    }
   },
   "outputs": [],
   "source": [
    "df.columns = ['location','doses']"
   ]
  },
  {
   "cell_type": "markdown",
   "metadata": {},
   "source": [
    "Grab the overall California total"
   ]
  },
  {
   "cell_type": "code",
   "execution_count": 11,
   "metadata": {
    "execution": {
     "iopub.execute_input": "2021-03-12T10:14:26.530264Z",
     "iopub.status.busy": "2021-03-12T10:14:26.529382Z",
     "iopub.status.idle": "2021-03-12T10:14:26.531588Z",
     "shell.execute_reply": "2021-03-12T10:14:26.531135Z"
    }
   },
   "outputs": [],
   "source": [
    "add = {'location':'California','doses':dataJson[0]['dataValues'][2]}"
   ]
  },
  {
   "cell_type": "code",
   "execution_count": 12,
   "metadata": {
    "execution": {
     "iopub.execute_input": "2021-03-12T10:14:26.538767Z",
     "iopub.status.busy": "2021-03-12T10:14:26.537555Z",
     "iopub.status.idle": "2021-03-12T10:14:26.539431Z",
     "shell.execute_reply": "2021-03-12T10:14:26.539862Z"
    }
   },
   "outputs": [],
   "source": [
    "df = df.append(add, ignore_index=True)"
   ]
  },
  {
   "cell_type": "code",
   "execution_count": 13,
   "metadata": {
    "execution": {
     "iopub.execute_input": "2021-03-12T10:14:26.544573Z",
     "iopub.status.busy": "2021-03-12T10:14:26.543540Z",
     "iopub.status.idle": "2021-03-12T10:14:26.545121Z",
     "shell.execute_reply": "2021-03-12T10:14:26.545511Z"
    }
   },
   "outputs": [],
   "source": [
    "df = df.sort_values(by='location')"
   ]
  },
  {
   "cell_type": "code",
   "execution_count": 14,
   "metadata": {
    "execution": {
     "iopub.execute_input": "2021-03-12T10:14:26.551782Z",
     "iopub.status.busy": "2021-03-12T10:14:26.550500Z",
     "iopub.status.idle": "2021-03-12T10:14:26.552372Z",
     "shell.execute_reply": "2021-03-12T10:14:26.552792Z"
    }
   },
   "outputs": [],
   "source": [
    "df = df[df.location == 'California'].append(df[df.location != 'California']).reset_index(drop=True)"
   ]
  },
  {
   "cell_type": "code",
   "execution_count": null,
   "metadata": {},
   "outputs": [],
   "source": []
  },
  {
   "cell_type": "code",
   "execution_count": 15,
   "metadata": {
    "execution": {
     "iopub.execute_input": "2021-03-12T10:14:26.556082Z",
     "iopub.status.busy": "2021-03-12T10:14:26.555571Z",
     "iopub.status.idle": "2021-03-12T10:14:26.572826Z",
     "shell.execute_reply": "2021-03-12T10:14:26.572317Z"
    }
   },
   "outputs": [],
   "source": [
    "tz = pytz.timezone(\"America/New_York\")"
   ]
  },
  {
   "cell_type": "code",
   "execution_count": 16,
   "metadata": {
    "execution": {
     "iopub.execute_input": "2021-03-12T10:14:26.576796Z",
     "iopub.status.busy": "2021-03-12T10:14:26.575714Z",
     "iopub.status.idle": "2021-03-12T10:14:26.577405Z",
     "shell.execute_reply": "2021-03-12T10:14:26.577830Z"
    }
   },
   "outputs": [],
   "source": [
    "today = datetime.now(tz).date()"
   ]
  },
  {
   "cell_type": "code",
   "execution_count": 17,
   "metadata": {
    "execution": {
     "iopub.execute_input": "2021-03-12T10:14:26.582102Z",
     "iopub.status.busy": "2021-03-12T10:14:26.580868Z",
     "iopub.status.idle": "2021-03-12T10:14:26.582683Z",
     "shell.execute_reply": "2021-03-12T10:14:26.583103Z"
    }
   },
   "outputs": [],
   "source": [
    "data_dir = os.path.join(os.path.abspath(\"\"), \"data\")"
   ]
  },
  {
   "cell_type": "code",
   "execution_count": 18,
   "metadata": {
    "execution": {
     "iopub.execute_input": "2021-03-12T10:14:26.586779Z",
     "iopub.status.busy": "2021-03-12T10:14:26.586257Z",
     "iopub.status.idle": "2021-03-12T10:14:26.590502Z",
     "shell.execute_reply": "2021-03-12T10:14:26.589993Z"
    }
   },
   "outputs": [],
   "source": [
    "df.to_csv(os.path.join(data_dir, f\"{today}.csv\"), index=False)"
   ]
  },
  {
   "cell_type": "code",
   "execution_count": null,
   "metadata": {},
   "outputs": [],
   "source": []
  }
 ],
 "metadata": {
  "kernelspec": {
   "display_name": "Python 3",
   "language": "python",
   "name": "python3"
  },
  "language_info": {
   "codemirror_mode": {
    "name": "ipython",
    "version": 3
   },
   "file_extension": ".py",
   "mimetype": "text/x-python",
   "name": "python",
   "nbconvert_exporter": "python",
   "pygments_lexer": "ipython3",
   "version": "3.8.8"
  }
 },
 "nbformat": 4,
 "nbformat_minor": 4
}
