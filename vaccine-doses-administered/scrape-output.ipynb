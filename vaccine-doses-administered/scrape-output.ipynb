{
 "cells": [
  {
   "cell_type": "markdown",
   "metadata": {},
   "source": [
    "# California COVID vaccinations scrape"
   ]
  },
  {
   "cell_type": "markdown",
   "metadata": {},
   "source": [
    "By [Amy O'Kruk](https://twitter.com/amyokruk)"
   ]
  },
  {
   "cell_type": "markdown",
   "metadata": {},
   "source": [
    "Downloads data on vaccine doses administered by county and statewide from a Tableau-powered dashboard from the California Department of Public Health."
   ]
  },
  {
   "cell_type": "code",
   "execution_count": 1,
   "metadata": {
    "execution": {
     "iopub.execute_input": "2021-03-13T09:13:19.695034Z",
     "iopub.status.busy": "2021-03-13T09:13:19.694529Z",
     "iopub.status.idle": "2021-03-13T09:13:20.055477Z",
     "shell.execute_reply": "2021-03-13T09:13:20.054492Z"
    }
   },
   "outputs": [],
   "source": [
    "import pandas as pd\n",
    "import requests\n",
    "from bs4 import BeautifulSoup\n",
    "import json\n",
    "import re\n",
    "import time\n",
    "from time import gmtime, strftime \n",
    "import os\n",
    "import pytz\n",
    "from datetime import datetime"
   ]
  },
  {
   "cell_type": "markdown",
   "metadata": {},
   "source": [
    "Scrape the dashboard page"
   ]
  },
  {
   "cell_type": "code",
   "execution_count": 2,
   "metadata": {
    "execution": {
     "iopub.execute_input": "2021-03-13T09:13:20.061529Z",
     "iopub.status.busy": "2021-03-13T09:13:20.059656Z",
     "iopub.status.idle": "2021-03-13T09:13:20.657982Z",
     "shell.execute_reply": "2021-03-13T09:13:20.656938Z"
    }
   },
   "outputs": [],
   "source": [
    "url = \"https://public.tableau.com/interactive/views/COVID-19VaccineDashboardPublic/Vaccine?:embed=y&:showVizHome=n&:apiID=host0\"\n",
    "\n",
    "r = requests.get(url)\n",
    "soup = BeautifulSoup(r.text, \"html.parser\")"
   ]
  },
  {
   "cell_type": "code",
   "execution_count": 3,
   "metadata": {
    "execution": {
     "iopub.execute_input": "2021-03-13T09:13:20.662833Z",
     "iopub.status.busy": "2021-03-13T09:13:20.662301Z",
     "iopub.status.idle": "2021-03-13T09:13:20.665614Z",
     "shell.execute_reply": "2021-03-13T09:13:20.665172Z"
    }
   },
   "outputs": [],
   "source": [
    "tableauData = json.loads(soup.find(\"textarea\",{\"id\": \"tsConfigContainer\"}).text)"
   ]
  },
  {
   "cell_type": "markdown",
   "metadata": {},
   "source": [
    "Get the link to the Tableau data"
   ]
  },
  {
   "cell_type": "code",
   "execution_count": 4,
   "metadata": {
    "execution": {
     "iopub.execute_input": "2021-03-13T09:13:20.670062Z",
     "iopub.status.busy": "2021-03-13T09:13:20.668888Z",
     "iopub.status.idle": "2021-03-13T09:13:20.670734Z",
     "shell.execute_reply": "2021-03-13T09:13:20.671190Z"
    }
   },
   "outputs": [],
   "source": [
    "dataUrl = f'https://public.tableau.com{tableauData[\"vizql_root\"]}/bootstrapSession/sessions/{tableauData[\"sessionid\"]}'"
   ]
  },
  {
   "cell_type": "code",
   "execution_count": 5,
   "metadata": {
    "execution": {
     "iopub.execute_input": "2021-03-13T09:13:20.678000Z",
     "iopub.status.busy": "2021-03-13T09:13:20.677471Z",
     "iopub.status.idle": "2021-03-13T09:13:20.900744Z",
     "shell.execute_reply": "2021-03-13T09:13:20.900241Z"
    }
   },
   "outputs": [],
   "source": [
    "r = requests.post(dataUrl, data= {\n",
    "    \"sheet_id\": tableauData[\"sheetId\"],\n",
    "})\n",
    "\n",
    "dataReg = re.search('\\d+;({.*})\\d+;({.*})', r.text, re.MULTILINE)\n",
    "data1 = json.loads(dataReg.group(2))\n",
    "\n",
    "dataJson = data1[\"secondaryInfo\"][\"presModelMap\"][\"dataDictionary\"][\"presModelHolder\"][\"genDataDictionaryPresModel\"][\"dataSegments\"][\"0\"][\"dataColumns\"]"
   ]
  },
  {
   "cell_type": "markdown",
   "metadata": {},
   "source": [
    "Isolate what you want"
   ]
  },
  {
   "cell_type": "code",
   "execution_count": 6,
   "metadata": {
    "execution": {
     "iopub.execute_input": "2021-03-13T09:13:20.905466Z",
     "iopub.status.busy": "2021-03-13T09:13:20.904173Z",
     "iopub.status.idle": "2021-03-13T09:13:20.906067Z",
     "shell.execute_reply": "2021-03-13T09:13:20.906499Z"
    }
   },
   "outputs": [],
   "source": [
    "counties = dataJson[2]['dataValues'][:58]"
   ]
  },
  {
   "cell_type": "code",
   "execution_count": 7,
   "metadata": {
    "execution": {
     "iopub.execute_input": "2021-03-13T09:13:20.910984Z",
     "iopub.status.busy": "2021-03-13T09:13:20.909814Z",
     "iopub.status.idle": "2021-03-13T09:13:20.911626Z",
     "shell.execute_reply": "2021-03-13T09:13:20.912065Z"
    }
   },
   "outputs": [],
   "source": [
    "doses = dataJson[0]['dataValues'][3:61]"
   ]
  },
  {
   "cell_type": "markdown",
   "metadata": {},
   "source": [
    "Data formatting"
   ]
  },
  {
   "cell_type": "code",
   "execution_count": 8,
   "metadata": {
    "execution": {
     "iopub.execute_input": "2021-03-13T09:13:20.915385Z",
     "iopub.status.busy": "2021-03-13T09:13:20.914875Z",
     "iopub.status.idle": "2021-03-13T09:13:20.917085Z",
     "shell.execute_reply": "2021-03-13T09:13:20.916676Z"
    }
   },
   "outputs": [],
   "source": [
    "zipped = dict(zip(counties, doses))"
   ]
  },
  {
   "cell_type": "code",
   "execution_count": 9,
   "metadata": {
    "execution": {
     "iopub.execute_input": "2021-03-13T09:13:20.923670Z",
     "iopub.status.busy": "2021-03-13T09:13:20.922305Z",
     "iopub.status.idle": "2021-03-13T09:13:20.924254Z",
     "shell.execute_reply": "2021-03-13T09:13:20.924682Z"
    }
   },
   "outputs": [],
   "source": [
    "df = pd.Series(zipped).reset_index()"
   ]
  },
  {
   "cell_type": "code",
   "execution_count": 10,
   "metadata": {
    "execution": {
     "iopub.execute_input": "2021-03-13T09:13:20.929191Z",
     "iopub.status.busy": "2021-03-13T09:13:20.927939Z",
     "iopub.status.idle": "2021-03-13T09:13:20.929791Z",
     "shell.execute_reply": "2021-03-13T09:13:20.930222Z"
    }
   },
   "outputs": [],
   "source": [
    "df.columns = ['location','doses']"
   ]
  },
  {
   "cell_type": "markdown",
   "metadata": {},
   "source": [
    "Grab the overall California total"
   ]
  },
  {
   "cell_type": "code",
   "execution_count": 11,
   "metadata": {
    "execution": {
     "iopub.execute_input": "2021-03-13T09:13:20.934455Z",
     "iopub.status.busy": "2021-03-13T09:13:20.933400Z",
     "iopub.status.idle": "2021-03-13T09:13:20.935704Z",
     "shell.execute_reply": "2021-03-13T09:13:20.935241Z"
    }
   },
   "outputs": [],
   "source": [
    "add = {'location':'California','doses':dataJson[0]['dataValues'][2]}"
   ]
  },
  {
   "cell_type": "code",
   "execution_count": 12,
   "metadata": {
    "execution": {
     "iopub.execute_input": "2021-03-13T09:13:20.942603Z",
     "iopub.status.busy": "2021-03-13T09:13:20.941319Z",
     "iopub.status.idle": "2021-03-13T09:13:20.943243Z",
     "shell.execute_reply": "2021-03-13T09:13:20.943683Z"
    }
   },
   "outputs": [],
   "source": [
    "df = df.append(add, ignore_index=True)"
   ]
  },
  {
   "cell_type": "code",
   "execution_count": 13,
   "metadata": {
    "execution": {
     "iopub.execute_input": "2021-03-13T09:13:20.948554Z",
     "iopub.status.busy": "2021-03-13T09:13:20.947283Z",
     "iopub.status.idle": "2021-03-13T09:13:20.949150Z",
     "shell.execute_reply": "2021-03-13T09:13:20.949579Z"
    }
   },
   "outputs": [],
   "source": [
    "df = df.sort_values(by='location')"
   ]
  },
  {
   "cell_type": "code",
   "execution_count": 14,
   "metadata": {
    "execution": {
     "iopub.execute_input": "2021-03-13T09:13:20.956782Z",
     "iopub.status.busy": "2021-03-13T09:13:20.955667Z",
     "iopub.status.idle": "2021-03-13T09:13:20.957374Z",
     "shell.execute_reply": "2021-03-13T09:13:20.957802Z"
    }
   },
   "outputs": [],
   "source": [
    "df = df[df.location == 'California'].append(df[df.location != 'California']).reset_index(drop=True)"
   ]
  },
  {
   "cell_type": "code",
   "execution_count": null,
   "metadata": {},
   "outputs": [],
   "source": []
  },
  {
   "cell_type": "code",
   "execution_count": 15,
   "metadata": {
    "execution": {
     "iopub.execute_input": "2021-03-13T09:13:20.961221Z",
     "iopub.status.busy": "2021-03-13T09:13:20.960707Z",
     "iopub.status.idle": "2021-03-13T09:13:20.977602Z",
     "shell.execute_reply": "2021-03-13T09:13:20.977108Z"
    }
   },
   "outputs": [],
   "source": [
    "tz = pytz.timezone(\"America/New_York\")"
   ]
  },
  {
   "cell_type": "code",
   "execution_count": 16,
   "metadata": {
    "execution": {
     "iopub.execute_input": "2021-03-13T09:13:20.981647Z",
     "iopub.status.busy": "2021-03-13T09:13:20.980540Z",
     "iopub.status.idle": "2021-03-13T09:13:20.982236Z",
     "shell.execute_reply": "2021-03-13T09:13:20.982673Z"
    }
   },
   "outputs": [],
   "source": [
    "today = datetime.now(tz).date()"
   ]
  },
  {
   "cell_type": "code",
   "execution_count": 17,
   "metadata": {
    "execution": {
     "iopub.execute_input": "2021-03-13T09:13:20.987324Z",
     "iopub.status.busy": "2021-03-13T09:13:20.986020Z",
     "iopub.status.idle": "2021-03-13T09:13:20.987910Z",
     "shell.execute_reply": "2021-03-13T09:13:20.988348Z"
    }
   },
   "outputs": [],
   "source": [
    "data_dir = os.path.join(os.path.abspath(\"\"), \"data\")"
   ]
  },
  {
   "cell_type": "code",
   "execution_count": 18,
   "metadata": {
    "execution": {
     "iopub.execute_input": "2021-03-13T09:13:20.992572Z",
     "iopub.status.busy": "2021-03-13T09:13:20.991496Z",
     "iopub.status.idle": "2021-03-13T09:13:20.995754Z",
     "shell.execute_reply": "2021-03-13T09:13:20.995321Z"
    }
   },
   "outputs": [],
   "source": [
    "df.to_csv(os.path.join(data_dir, f\"{today}.csv\"), index=False)"
   ]
  },
  {
   "cell_type": "code",
   "execution_count": null,
   "metadata": {},
   "outputs": [],
   "source": []
  }
 ],
 "metadata": {
  "kernelspec": {
   "display_name": "Python 3",
   "language": "python",
   "name": "python3"
  },
  "language_info": {
   "codemirror_mode": {
    "name": "ipython",
    "version": 3
   },
   "file_extension": ".py",
   "mimetype": "text/x-python",
   "name": "python",
   "nbconvert_exporter": "python",
   "pygments_lexer": "ipython3",
   "version": "3.8.8"
  }
 },
 "nbformat": 4,
 "nbformat_minor": 4
}
