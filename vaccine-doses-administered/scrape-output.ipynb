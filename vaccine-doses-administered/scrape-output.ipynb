{
 "cells": [
  {
   "cell_type": "markdown",
   "metadata": {},
   "source": [
    "# California COVID vaccinations scrape"
   ]
  },
  {
   "cell_type": "markdown",
   "metadata": {},
   "source": [
    "By [Amy O'Kruk](https://twitter.com/amyokruk)"
   ]
  },
  {
   "cell_type": "markdown",
   "metadata": {},
   "source": [
    "Downloads data on vaccine doses administered by county and statewide from a Tableau-powered dashboard from the California Department of Public Health."
   ]
  },
  {
   "cell_type": "code",
   "execution_count": 1,
   "metadata": {
    "execution": {
     "iopub.execute_input": "2021-03-20T11:40:06.608830Z",
     "iopub.status.busy": "2021-03-20T11:40:06.608188Z",
     "iopub.status.idle": "2021-03-20T11:40:06.999007Z",
     "shell.execute_reply": "2021-03-20T11:40:06.998060Z"
    }
   },
   "outputs": [],
   "source": [
    "import pandas as pd\n",
    "import requests\n",
    "from bs4 import BeautifulSoup\n",
    "import json\n",
    "import re\n",
    "import time\n",
    "from time import gmtime, strftime \n",
    "import os\n",
    "import pytz\n",
    "from datetime import datetime"
   ]
  },
  {
   "cell_type": "markdown",
   "metadata": {},
   "source": [
    "Scrape the dashboard page"
   ]
  },
  {
   "cell_type": "code",
   "execution_count": 2,
   "metadata": {
    "execution": {
     "iopub.execute_input": "2021-03-20T11:40:07.004527Z",
     "iopub.status.busy": "2021-03-20T11:40:07.002795Z",
     "iopub.status.idle": "2021-03-20T11:40:07.502510Z",
     "shell.execute_reply": "2021-03-20T11:40:07.502965Z"
    }
   },
   "outputs": [],
   "source": [
    "url = \"https://public.tableau.com/interactive/views/COVID-19VaccineDashboardPublic/Vaccine?:embed=y&:showVizHome=n&:apiID=host0\"\n",
    "\n",
    "r = requests.get(url)\n",
    "soup = BeautifulSoup(r.text, \"html.parser\")"
   ]
  },
  {
   "cell_type": "code",
   "execution_count": 3,
   "metadata": {
    "execution": {
     "iopub.execute_input": "2021-03-20T11:40:07.507850Z",
     "iopub.status.busy": "2021-03-20T11:40:07.507132Z",
     "iopub.status.idle": "2021-03-20T11:40:07.511724Z",
     "shell.execute_reply": "2021-03-20T11:40:07.511245Z"
    }
   },
   "outputs": [],
   "source": [
    "tableauData = json.loads(soup.find(\"textarea\",{\"id\": \"tsConfigContainer\"}).text)"
   ]
  },
  {
   "cell_type": "markdown",
   "metadata": {},
   "source": [
    "Get the link to the Tableau data"
   ]
  },
  {
   "cell_type": "code",
   "execution_count": 4,
   "metadata": {
    "execution": {
     "iopub.execute_input": "2021-03-20T11:40:07.515379Z",
     "iopub.status.busy": "2021-03-20T11:40:07.514773Z",
     "iopub.status.idle": "2021-03-20T11:40:07.518147Z",
     "shell.execute_reply": "2021-03-20T11:40:07.518551Z"
    }
   },
   "outputs": [],
   "source": [
    "dataUrl = f'https://public.tableau.com{tableauData[\"vizql_root\"]}/bootstrapSession/sessions/{tableauData[\"sessionid\"]}'"
   ]
  },
  {
   "cell_type": "code",
   "execution_count": 5,
   "metadata": {
    "execution": {
     "iopub.execute_input": "2021-03-20T11:40:07.525192Z",
     "iopub.status.busy": "2021-03-20T11:40:07.524566Z",
     "iopub.status.idle": "2021-03-20T11:40:07.888315Z",
     "shell.execute_reply": "2021-03-20T11:40:07.887822Z"
    }
   },
   "outputs": [],
   "source": [
    "r = requests.post(dataUrl, data= {\n",
    "    \"sheet_id\": tableauData[\"sheetId\"],\n",
    "})\n",
    "\n",
    "dataReg = re.search('\\d+;({.*})\\d+;({.*})', r.text, re.MULTILINE)\n",
    "data1 = json.loads(dataReg.group(2))\n",
    "\n",
    "dataJson = data1[\"secondaryInfo\"][\"presModelMap\"][\"dataDictionary\"][\"presModelHolder\"][\"genDataDictionaryPresModel\"][\"dataSegments\"][\"0\"][\"dataColumns\"]"
   ]
  },
  {
   "cell_type": "markdown",
   "metadata": {},
   "source": [
    "Isolate what you want"
   ]
  },
  {
   "cell_type": "code",
   "execution_count": 6,
   "metadata": {
    "execution": {
     "iopub.execute_input": "2021-03-20T11:40:07.892849Z",
     "iopub.status.busy": "2021-03-20T11:40:07.891579Z",
     "iopub.status.idle": "2021-03-20T11:40:07.893500Z",
     "shell.execute_reply": "2021-03-20T11:40:07.893986Z"
    }
   },
   "outputs": [],
   "source": [
    "counties = dataJson[2]['dataValues'][:58]"
   ]
  },
  {
   "cell_type": "code",
   "execution_count": 7,
   "metadata": {
    "execution": {
     "iopub.execute_input": "2021-03-20T11:40:07.897938Z",
     "iopub.status.busy": "2021-03-20T11:40:07.897416Z",
     "iopub.status.idle": "2021-03-20T11:40:07.900406Z",
     "shell.execute_reply": "2021-03-20T11:40:07.899873Z"
    }
   },
   "outputs": [],
   "source": [
    "doses = dataJson[0]['dataValues'][3:61]"
   ]
  },
  {
   "cell_type": "markdown",
   "metadata": {},
   "source": [
    "Data formatting"
   ]
  },
  {
   "cell_type": "code",
   "execution_count": 8,
   "metadata": {
    "execution": {
     "iopub.execute_input": "2021-03-20T11:40:07.905021Z",
     "iopub.status.busy": "2021-03-20T11:40:07.903658Z",
     "iopub.status.idle": "2021-03-20T11:40:07.905604Z",
     "shell.execute_reply": "2021-03-20T11:40:07.906025Z"
    }
   },
   "outputs": [],
   "source": [
    "zipped = dict(zip(counties, doses))"
   ]
  },
  {
   "cell_type": "code",
   "execution_count": 9,
   "metadata": {
    "execution": {
     "iopub.execute_input": "2021-03-20T11:40:07.912947Z",
     "iopub.status.busy": "2021-03-20T11:40:07.911620Z",
     "iopub.status.idle": "2021-03-20T11:40:07.913506Z",
     "shell.execute_reply": "2021-03-20T11:40:07.914088Z"
    }
   },
   "outputs": [],
   "source": [
    "df = pd.Series(zipped).reset_index()"
   ]
  },
  {
   "cell_type": "code",
   "execution_count": 10,
   "metadata": {
    "execution": {
     "iopub.execute_input": "2021-03-20T11:40:07.919097Z",
     "iopub.status.busy": "2021-03-20T11:40:07.917696Z",
     "iopub.status.idle": "2021-03-20T11:40:07.919757Z",
     "shell.execute_reply": "2021-03-20T11:40:07.920147Z"
    }
   },
   "outputs": [],
   "source": [
    "df.columns = ['location','doses']"
   ]
  },
  {
   "cell_type": "markdown",
   "metadata": {},
   "source": [
    "Grab the overall California total"
   ]
  },
  {
   "cell_type": "code",
   "execution_count": 11,
   "metadata": {
    "execution": {
     "iopub.execute_input": "2021-03-20T11:40:07.924520Z",
     "iopub.status.busy": "2021-03-20T11:40:07.923311Z",
     "iopub.status.idle": "2021-03-20T11:40:07.925104Z",
     "shell.execute_reply": "2021-03-20T11:40:07.925535Z"
    }
   },
   "outputs": [],
   "source": [
    "add = {'location':'California','doses':dataJson[0]['dataValues'][2]}"
   ]
  },
  {
   "cell_type": "code",
   "execution_count": 12,
   "metadata": {
    "execution": {
     "iopub.execute_input": "2021-03-20T11:40:07.934044Z",
     "iopub.status.busy": "2021-03-20T11:40:07.932543Z",
     "iopub.status.idle": "2021-03-20T11:40:07.934787Z",
     "shell.execute_reply": "2021-03-20T11:40:07.935226Z"
    }
   },
   "outputs": [],
   "source": [
    "df = df.append(add, ignore_index=True)"
   ]
  },
  {
   "cell_type": "code",
   "execution_count": 13,
   "metadata": {
    "execution": {
     "iopub.execute_input": "2021-03-20T11:40:07.940889Z",
     "iopub.status.busy": "2021-03-20T11:40:07.939491Z",
     "iopub.status.idle": "2021-03-20T11:40:07.941561Z",
     "shell.execute_reply": "2021-03-20T11:40:07.942015Z"
    }
   },
   "outputs": [],
   "source": [
    "df = df.sort_values(by='location')"
   ]
  },
  {
   "cell_type": "code",
   "execution_count": 14,
   "metadata": {
    "execution": {
     "iopub.execute_input": "2021-03-20T11:40:07.952264Z",
     "iopub.status.busy": "2021-03-20T11:40:07.950865Z",
     "iopub.status.idle": "2021-03-20T11:40:07.952934Z",
     "shell.execute_reply": "2021-03-20T11:40:07.953377Z"
    }
   },
   "outputs": [],
   "source": [
    "df = df[df.location == 'California'].append(df[df.location != 'California']).reset_index(drop=True)"
   ]
  },
  {
   "cell_type": "code",
   "execution_count": null,
   "metadata": {},
   "outputs": [],
   "source": []
  },
  {
   "cell_type": "code",
   "execution_count": 15,
   "metadata": {
    "execution": {
     "iopub.execute_input": "2021-03-20T11:40:07.956861Z",
     "iopub.status.busy": "2021-03-20T11:40:07.956213Z",
     "iopub.status.idle": "2021-03-20T11:40:07.975060Z",
     "shell.execute_reply": "2021-03-20T11:40:07.975569Z"
    }
   },
   "outputs": [],
   "source": [
    "tz = pytz.timezone(\"America/New_York\")"
   ]
  },
  {
   "cell_type": "code",
   "execution_count": 16,
   "metadata": {
    "execution": {
     "iopub.execute_input": "2021-03-20T11:40:07.980168Z",
     "iopub.status.busy": "2021-03-20T11:40:07.978889Z",
     "iopub.status.idle": "2021-03-20T11:40:07.980905Z",
     "shell.execute_reply": "2021-03-20T11:40:07.981395Z"
    }
   },
   "outputs": [],
   "source": [
    "today = datetime.now(tz).date()"
   ]
  },
  {
   "cell_type": "code",
   "execution_count": 17,
   "metadata": {
    "execution": {
     "iopub.execute_input": "2021-03-20T11:40:07.986271Z",
     "iopub.status.busy": "2021-03-20T11:40:07.984828Z",
     "iopub.status.idle": "2021-03-20T11:40:07.986948Z",
     "shell.execute_reply": "2021-03-20T11:40:07.987401Z"
    }
   },
   "outputs": [],
   "source": [
    "data_dir = os.path.join(os.path.abspath(\"\"), \"data\")"
   ]
  },
  {
   "cell_type": "code",
   "execution_count": 18,
   "metadata": {
    "execution": {
     "iopub.execute_input": "2021-03-20T11:40:07.991846Z",
     "iopub.status.busy": "2021-03-20T11:40:07.990605Z",
     "iopub.status.idle": "2021-03-20T11:40:07.995190Z",
     "shell.execute_reply": "2021-03-20T11:40:07.995835Z"
    }
   },
   "outputs": [],
   "source": [
    "df.to_csv(os.path.join(data_dir, f\"{today}.csv\"), index=False)"
   ]
  },
  {
   "cell_type": "code",
   "execution_count": null,
   "metadata": {},
   "outputs": [],
   "source": []
  }
 ],
 "metadata": {
  "kernelspec": {
   "display_name": "Python 3",
   "language": "python",
   "name": "python3"
  },
  "language_info": {
   "codemirror_mode": {
    "name": "ipython",
    "version": 3
   },
   "file_extension": ".py",
   "mimetype": "text/x-python",
   "name": "python",
   "nbconvert_exporter": "python",
   "pygments_lexer": "ipython3",
   "version": "3.8.8"
  }
 },
 "nbformat": 4,
 "nbformat_minor": 4
}
