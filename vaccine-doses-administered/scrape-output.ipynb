{
 "cells": [
  {
   "cell_type": "markdown",
   "metadata": {},
   "source": [
    "# California COVID vaccinations scrape"
   ]
  },
  {
   "cell_type": "markdown",
   "metadata": {},
   "source": [
    "By [Amy O'Kruk](https://twitter.com/amyokruk)"
   ]
  },
  {
   "cell_type": "markdown",
   "metadata": {},
   "source": [
    "Downloads data on vaccine doses administered by county and statewide from a Tableau-powered dashboard from the California Department of Public Health."
   ]
  },
  {
   "cell_type": "code",
   "execution_count": 1,
   "metadata": {
    "execution": {
     "iopub.execute_input": "2021-03-10T04:13:40.611163Z",
     "iopub.status.busy": "2021-03-10T04:13:40.610535Z",
     "iopub.status.idle": "2021-03-10T04:13:41.055965Z",
     "shell.execute_reply": "2021-03-10T04:13:41.055384Z"
    }
   },
   "outputs": [],
   "source": [
    "import pandas as pd\n",
    "import requests\n",
    "from bs4 import BeautifulSoup\n",
    "import json\n",
    "import re\n",
    "import time\n",
    "from time import gmtime, strftime \n",
    "import os\n",
    "import pytz\n",
    "from datetime import datetime"
   ]
  },
  {
   "cell_type": "markdown",
   "metadata": {},
   "source": [
    "Scrape the dashboard page"
   ]
  },
  {
   "cell_type": "code",
   "execution_count": 2,
   "metadata": {
    "execution": {
     "iopub.execute_input": "2021-03-10T04:13:41.062867Z",
     "iopub.status.busy": "2021-03-10T04:13:41.060170Z",
     "iopub.status.idle": "2021-03-10T04:13:42.395581Z",
     "shell.execute_reply": "2021-03-10T04:13:42.395065Z"
    }
   },
   "outputs": [],
   "source": [
    "url = \"https://public.tableau.com/interactive/views/COVID-19VaccineDashboardPublic/Vaccine?:embed=y&:showVizHome=n&:apiID=host0\"\n",
    "\n",
    "r = requests.get(url)\n",
    "soup = BeautifulSoup(r.text, \"html.parser\")"
   ]
  },
  {
   "cell_type": "code",
   "execution_count": 3,
   "metadata": {
    "execution": {
     "iopub.execute_input": "2021-03-10T04:13:42.402418Z",
     "iopub.status.busy": "2021-03-10T04:13:42.400948Z",
     "iopub.status.idle": "2021-03-10T04:13:42.403036Z",
     "shell.execute_reply": "2021-03-10T04:13:42.403790Z"
    }
   },
   "outputs": [],
   "source": [
    "tableauData = json.loads(soup.find(\"textarea\",{\"id\": \"tsConfigContainer\"}).text)"
   ]
  },
  {
   "cell_type": "markdown",
   "metadata": {},
   "source": [
    "Get the link to the Tableau data"
   ]
  },
  {
   "cell_type": "code",
   "execution_count": 4,
   "metadata": {
    "execution": {
     "iopub.execute_input": "2021-03-10T04:13:42.409916Z",
     "iopub.status.busy": "2021-03-10T04:13:42.408006Z",
     "iopub.status.idle": "2021-03-10T04:13:42.410749Z",
     "shell.execute_reply": "2021-03-10T04:13:42.411362Z"
    }
   },
   "outputs": [],
   "source": [
    "dataUrl = f'https://public.tableau.com{tableauData[\"vizql_root\"]}/bootstrapSession/sessions/{tableauData[\"sessionid\"]}'"
   ]
  },
  {
   "cell_type": "code",
   "execution_count": 5,
   "metadata": {
    "execution": {
     "iopub.execute_input": "2021-03-10T04:13:42.418879Z",
     "iopub.status.busy": "2021-03-10T04:13:42.418252Z",
     "iopub.status.idle": "2021-03-10T04:13:42.761360Z",
     "shell.execute_reply": "2021-03-10T04:13:42.760282Z"
    }
   },
   "outputs": [],
   "source": [
    "r = requests.post(dataUrl, data= {\n",
    "    \"sheet_id\": tableauData[\"sheetId\"],\n",
    "})\n",
    "\n",
    "dataReg = re.search('\\d+;({.*})\\d+;({.*})', r.text, re.MULTILINE)\n",
    "data1 = json.loads(dataReg.group(2))\n",
    "\n",
    "dataJson = data1[\"secondaryInfo\"][\"presModelMap\"][\"dataDictionary\"][\"presModelHolder\"][\"genDataDictionaryPresModel\"][\"dataSegments\"][\"0\"][\"dataColumns\"]"
   ]
  },
  {
   "cell_type": "markdown",
   "metadata": {},
   "source": [
    "Isolate what you want"
   ]
  },
  {
   "cell_type": "code",
   "execution_count": 6,
   "metadata": {
    "execution": {
     "iopub.execute_input": "2021-03-10T04:13:42.765337Z",
     "iopub.status.busy": "2021-03-10T04:13:42.764803Z",
     "iopub.status.idle": "2021-03-10T04:13:42.768678Z",
     "shell.execute_reply": "2021-03-10T04:13:42.768200Z"
    }
   },
   "outputs": [],
   "source": [
    "counties = dataJson[2]['dataValues'][:58]"
   ]
  },
  {
   "cell_type": "code",
   "execution_count": 7,
   "metadata": {
    "execution": {
     "iopub.execute_input": "2021-03-10T04:13:42.772351Z",
     "iopub.status.busy": "2021-03-10T04:13:42.771818Z",
     "iopub.status.idle": "2021-03-10T04:13:42.775248Z",
     "shell.execute_reply": "2021-03-10T04:13:42.774751Z"
    }
   },
   "outputs": [],
   "source": [
    "doses = dataJson[0]['dataValues'][3:61]"
   ]
  },
  {
   "cell_type": "markdown",
   "metadata": {},
   "source": [
    "Data formatting"
   ]
  },
  {
   "cell_type": "code",
   "execution_count": 8,
   "metadata": {
    "execution": {
     "iopub.execute_input": "2021-03-10T04:13:42.778893Z",
     "iopub.status.busy": "2021-03-10T04:13:42.778360Z",
     "iopub.status.idle": "2021-03-10T04:13:42.781971Z",
     "shell.execute_reply": "2021-03-10T04:13:42.781448Z"
    }
   },
   "outputs": [],
   "source": [
    "zipped = dict(zip(counties, doses))"
   ]
  },
  {
   "cell_type": "code",
   "execution_count": 9,
   "metadata": {
    "execution": {
     "iopub.execute_input": "2021-03-10T04:13:42.787857Z",
     "iopub.status.busy": "2021-03-10T04:13:42.787329Z",
     "iopub.status.idle": "2021-03-10T04:13:42.790960Z",
     "shell.execute_reply": "2021-03-10T04:13:42.790492Z"
    }
   },
   "outputs": [],
   "source": [
    "df = pd.Series(zipped).reset_index()"
   ]
  },
  {
   "cell_type": "code",
   "execution_count": 10,
   "metadata": {
    "execution": {
     "iopub.execute_input": "2021-03-10T04:13:42.794793Z",
     "iopub.status.busy": "2021-03-10T04:13:42.794237Z",
     "iopub.status.idle": "2021-03-10T04:13:42.797552Z",
     "shell.execute_reply": "2021-03-10T04:13:42.798008Z"
    }
   },
   "outputs": [],
   "source": [
    "df.columns = ['location','doses']"
   ]
  },
  {
   "cell_type": "markdown",
   "metadata": {},
   "source": [
    "Grab the overall California total"
   ]
  },
  {
   "cell_type": "code",
   "execution_count": 11,
   "metadata": {
    "execution": {
     "iopub.execute_input": "2021-03-10T04:13:42.801893Z",
     "iopub.status.busy": "2021-03-10T04:13:42.801314Z",
     "iopub.status.idle": "2021-03-10T04:13:42.805180Z",
     "shell.execute_reply": "2021-03-10T04:13:42.804586Z"
    }
   },
   "outputs": [],
   "source": [
    "add = {'location':'California','doses':dataJson[0]['dataValues'][2]}"
   ]
  },
  {
   "cell_type": "code",
   "execution_count": 12,
   "metadata": {
    "execution": {
     "iopub.execute_input": "2021-03-10T04:13:42.813361Z",
     "iopub.status.busy": "2021-03-10T04:13:42.812820Z",
     "iopub.status.idle": "2021-03-10T04:13:42.816240Z",
     "shell.execute_reply": "2021-03-10T04:13:42.816688Z"
    }
   },
   "outputs": [],
   "source": [
    "df = df.append(add, ignore_index=True)"
   ]
  },
  {
   "cell_type": "code",
   "execution_count": 13,
   "metadata": {
    "execution": {
     "iopub.execute_input": "2021-03-10T04:13:42.820947Z",
     "iopub.status.busy": "2021-03-10T04:13:42.820423Z",
     "iopub.status.idle": "2021-03-10T04:13:42.824031Z",
     "shell.execute_reply": "2021-03-10T04:13:42.823562Z"
    }
   },
   "outputs": [],
   "source": [
    "df = df.sort_values(by='location')"
   ]
  },
  {
   "cell_type": "code",
   "execution_count": 14,
   "metadata": {
    "execution": {
     "iopub.execute_input": "2021-03-10T04:13:42.830052Z",
     "iopub.status.busy": "2021-03-10T04:13:42.829516Z",
     "iopub.status.idle": "2021-03-10T04:13:42.832505Z",
     "shell.execute_reply": "2021-03-10T04:13:42.832914Z"
    }
   },
   "outputs": [],
   "source": [
    "df = df[df.location == 'California'].append(df[df.location != 'California']).reset_index(drop=True)"
   ]
  },
  {
   "cell_type": "code",
   "execution_count": null,
   "metadata": {},
   "outputs": [],
   "source": []
  },
  {
   "cell_type": "code",
   "execution_count": 15,
   "metadata": {
    "execution": {
     "iopub.execute_input": "2021-03-10T04:13:42.836225Z",
     "iopub.status.busy": "2021-03-10T04:13:42.835698Z",
     "iopub.status.idle": "2021-03-10T04:13:42.854408Z",
     "shell.execute_reply": "2021-03-10T04:13:42.854944Z"
    }
   },
   "outputs": [],
   "source": [
    "tz = pytz.timezone(\"America/New_York\")"
   ]
  },
  {
   "cell_type": "code",
   "execution_count": 16,
   "metadata": {
    "execution": {
     "iopub.execute_input": "2021-03-10T04:13:42.862012Z",
     "iopub.status.busy": "2021-03-10T04:13:42.861418Z",
     "iopub.status.idle": "2021-03-10T04:13:42.865051Z",
     "shell.execute_reply": "2021-03-10T04:13:42.864551Z"
    }
   },
   "outputs": [],
   "source": [
    "today = datetime.now(tz).date()"
   ]
  },
  {
   "cell_type": "code",
   "execution_count": 17,
   "metadata": {
    "execution": {
     "iopub.execute_input": "2021-03-10T04:13:42.869739Z",
     "iopub.status.busy": "2021-03-10T04:13:42.868497Z",
     "iopub.status.idle": "2021-03-10T04:13:42.870363Z",
     "shell.execute_reply": "2021-03-10T04:13:42.870806Z"
    }
   },
   "outputs": [],
   "source": [
    "data_dir = os.path.join(os.path.abspath(\"\"), \"data\")"
   ]
  },
  {
   "cell_type": "code",
   "execution_count": 18,
   "metadata": {
    "execution": {
     "iopub.execute_input": "2021-03-10T04:13:42.875696Z",
     "iopub.status.busy": "2021-03-10T04:13:42.874538Z",
     "iopub.status.idle": "2021-03-10T04:13:42.908082Z",
     "shell.execute_reply": "2021-03-10T04:13:42.908512Z"
    }
   },
   "outputs": [],
   "source": [
    "df.to_csv(os.path.join(data_dir, f\"{today}.csv\"), index=False)"
   ]
  },
  {
   "cell_type": "code",
   "execution_count": null,
   "metadata": {},
   "outputs": [],
   "source": []
  }
 ],
 "metadata": {
  "kernelspec": {
   "display_name": "Python 3",
   "language": "python",
   "name": "python3"
  },
  "language_info": {
   "codemirror_mode": {
    "name": "ipython",
    "version": 3
   },
   "file_extension": ".py",
   "mimetype": "text/x-python",
   "name": "python",
   "nbconvert_exporter": "python",
   "pygments_lexer": "ipython3",
   "version": "3.8.8"
  }
 },
 "nbformat": 4,
 "nbformat_minor": 4
}
