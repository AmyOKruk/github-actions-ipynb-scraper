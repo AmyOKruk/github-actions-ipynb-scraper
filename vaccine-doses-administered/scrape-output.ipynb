{
 "cells": [
  {
   "cell_type": "markdown",
   "metadata": {},
   "source": [
    "# California COVID vaccinations scrape"
   ]
  },
  {
   "cell_type": "markdown",
   "metadata": {},
   "source": [
    "By [Amy O'Kruk](https://twitter.com/amyokruk)"
   ]
  },
  {
   "cell_type": "markdown",
   "metadata": {},
   "source": [
    "Downloads data on vaccine doses administered by county and statewide from a Tableau-powered dashboard from the California Department of Public Health."
   ]
  },
  {
   "cell_type": "code",
   "execution_count": 1,
   "metadata": {
    "execution": {
     "iopub.execute_input": "2021-03-14T19:36:09.954870Z",
     "iopub.status.busy": "2021-03-14T19:36:09.954129Z",
     "iopub.status.idle": "2021-03-14T19:36:10.351912Z",
     "shell.execute_reply": "2021-03-14T19:36:10.351283Z"
    }
   },
   "outputs": [],
   "source": [
    "import pandas as pd\n",
    "import requests\n",
    "from bs4 import BeautifulSoup\n",
    "import json\n",
    "import re\n",
    "import time\n",
    "from time import gmtime, strftime \n",
    "import os\n",
    "import pytz\n",
    "from datetime import datetime"
   ]
  },
  {
   "cell_type": "markdown",
   "metadata": {},
   "source": [
    "Scrape the dashboard page"
   ]
  },
  {
   "cell_type": "code",
   "execution_count": 2,
   "metadata": {
    "execution": {
     "iopub.execute_input": "2021-03-14T19:36:10.358007Z",
     "iopub.status.busy": "2021-03-14T19:36:10.355422Z",
     "iopub.status.idle": "2021-03-14T19:36:10.649620Z",
     "shell.execute_reply": "2021-03-14T19:36:10.650172Z"
    }
   },
   "outputs": [],
   "source": [
    "url = \"https://public.tableau.com/interactive/views/COVID-19VaccineDashboardPublic/Vaccine?:embed=y&:showVizHome=n&:apiID=host0\"\n",
    "\n",
    "r = requests.get(url)\n",
    "soup = BeautifulSoup(r.text, \"html.parser\")"
   ]
  },
  {
   "cell_type": "code",
   "execution_count": 3,
   "metadata": {
    "execution": {
     "iopub.execute_input": "2021-03-14T19:36:10.657010Z",
     "iopub.status.busy": "2021-03-14T19:36:10.655316Z",
     "iopub.status.idle": "2021-03-14T19:36:10.657780Z",
     "shell.execute_reply": "2021-03-14T19:36:10.658348Z"
    }
   },
   "outputs": [],
   "source": [
    "tableauData = json.loads(soup.find(\"textarea\",{\"id\": \"tsConfigContainer\"}).text)"
   ]
  },
  {
   "cell_type": "markdown",
   "metadata": {},
   "source": [
    "Get the link to the Tableau data"
   ]
  },
  {
   "cell_type": "code",
   "execution_count": 4,
   "metadata": {
    "execution": {
     "iopub.execute_input": "2021-03-14T19:36:10.663866Z",
     "iopub.status.busy": "2021-03-14T19:36:10.662173Z",
     "iopub.status.idle": "2021-03-14T19:36:10.664593Z",
     "shell.execute_reply": "2021-03-14T19:36:10.665187Z"
    }
   },
   "outputs": [],
   "source": [
    "dataUrl = f'https://public.tableau.com{tableauData[\"vizql_root\"]}/bootstrapSession/sessions/{tableauData[\"sessionid\"]}'"
   ]
  },
  {
   "cell_type": "code",
   "execution_count": 5,
   "metadata": {
    "execution": {
     "iopub.execute_input": "2021-03-14T19:36:10.675871Z",
     "iopub.status.busy": "2021-03-14T19:36:10.672808Z",
     "iopub.status.idle": "2021-03-14T19:36:11.176615Z",
     "shell.execute_reply": "2021-03-14T19:36:11.175711Z"
    }
   },
   "outputs": [],
   "source": [
    "r = requests.post(dataUrl, data= {\n",
    "    \"sheet_id\": tableauData[\"sheetId\"],\n",
    "})\n",
    "\n",
    "dataReg = re.search('\\d+;({.*})\\d+;({.*})', r.text, re.MULTILINE)\n",
    "data1 = json.loads(dataReg.group(2))\n",
    "\n",
    "dataJson = data1[\"secondaryInfo\"][\"presModelMap\"][\"dataDictionary\"][\"presModelHolder\"][\"genDataDictionaryPresModel\"][\"dataSegments\"][\"0\"][\"dataColumns\"]"
   ]
  },
  {
   "cell_type": "markdown",
   "metadata": {},
   "source": [
    "Isolate what you want"
   ]
  },
  {
   "cell_type": "code",
   "execution_count": 6,
   "metadata": {
    "execution": {
     "iopub.execute_input": "2021-03-14T19:36:11.180826Z",
     "iopub.status.busy": "2021-03-14T19:36:11.180221Z",
     "iopub.status.idle": "2021-03-14T19:36:11.184713Z",
     "shell.execute_reply": "2021-03-14T19:36:11.184207Z"
    }
   },
   "outputs": [],
   "source": [
    "counties = dataJson[2]['dataValues'][:58]"
   ]
  },
  {
   "cell_type": "code",
   "execution_count": 7,
   "metadata": {
    "execution": {
     "iopub.execute_input": "2021-03-14T19:36:11.188643Z",
     "iopub.status.busy": "2021-03-14T19:36:11.188036Z",
     "iopub.status.idle": "2021-03-14T19:36:11.191851Z",
     "shell.execute_reply": "2021-03-14T19:36:11.191340Z"
    }
   },
   "outputs": [],
   "source": [
    "doses = dataJson[0]['dataValues'][3:61]"
   ]
  },
  {
   "cell_type": "markdown",
   "metadata": {},
   "source": [
    "Data formatting"
   ]
  },
  {
   "cell_type": "code",
   "execution_count": 8,
   "metadata": {
    "execution": {
     "iopub.execute_input": "2021-03-14T19:36:11.197097Z",
     "iopub.status.busy": "2021-03-14T19:36:11.196129Z",
     "iopub.status.idle": "2021-03-14T19:36:11.198202Z",
     "shell.execute_reply": "2021-03-14T19:36:11.197676Z"
    }
   },
   "outputs": [],
   "source": [
    "zipped = dict(zip(counties, doses))"
   ]
  },
  {
   "cell_type": "code",
   "execution_count": 9,
   "metadata": {
    "execution": {
     "iopub.execute_input": "2021-03-14T19:36:11.205267Z",
     "iopub.status.busy": "2021-03-14T19:36:11.203830Z",
     "iopub.status.idle": "2021-03-14T19:36:11.205927Z",
     "shell.execute_reply": "2021-03-14T19:36:11.206444Z"
    }
   },
   "outputs": [],
   "source": [
    "df = pd.Series(zipped).reset_index()"
   ]
  },
  {
   "cell_type": "code",
   "execution_count": 10,
   "metadata": {
    "execution": {
     "iopub.execute_input": "2021-03-14T19:36:11.211207Z",
     "iopub.status.busy": "2021-03-14T19:36:11.209851Z",
     "iopub.status.idle": "2021-03-14T19:36:11.211864Z",
     "shell.execute_reply": "2021-03-14T19:36:11.212363Z"
    }
   },
   "outputs": [],
   "source": [
    "df.columns = ['location','doses']"
   ]
  },
  {
   "cell_type": "markdown",
   "metadata": {},
   "source": [
    "Grab the overall California total"
   ]
  },
  {
   "cell_type": "code",
   "execution_count": 11,
   "metadata": {
    "execution": {
     "iopub.execute_input": "2021-03-14T19:36:11.217089Z",
     "iopub.status.busy": "2021-03-14T19:36:11.215759Z",
     "iopub.status.idle": "2021-03-14T19:36:11.217744Z",
     "shell.execute_reply": "2021-03-14T19:36:11.218244Z"
    }
   },
   "outputs": [],
   "source": [
    "add = {'location':'California','doses':dataJson[0]['dataValues'][2]}"
   ]
  },
  {
   "cell_type": "code",
   "execution_count": 12,
   "metadata": {
    "execution": {
     "iopub.execute_input": "2021-03-14T19:36:11.225875Z",
     "iopub.status.busy": "2021-03-14T19:36:11.224524Z",
     "iopub.status.idle": "2021-03-14T19:36:11.226627Z",
     "shell.execute_reply": "2021-03-14T19:36:11.227128Z"
    }
   },
   "outputs": [],
   "source": [
    "df = df.append(add, ignore_index=True)"
   ]
  },
  {
   "cell_type": "code",
   "execution_count": 13,
   "metadata": {
    "execution": {
     "iopub.execute_input": "2021-03-14T19:36:11.232998Z",
     "iopub.status.busy": "2021-03-14T19:36:11.231909Z",
     "iopub.status.idle": "2021-03-14T19:36:11.233894Z",
     "shell.execute_reply": "2021-03-14T19:36:11.234395Z"
    }
   },
   "outputs": [],
   "source": [
    "df = df.sort_values(by='location')"
   ]
  },
  {
   "cell_type": "code",
   "execution_count": 14,
   "metadata": {
    "execution": {
     "iopub.execute_input": "2021-03-14T19:36:11.241721Z",
     "iopub.status.busy": "2021-03-14T19:36:11.240428Z",
     "iopub.status.idle": "2021-03-14T19:36:11.242415Z",
     "shell.execute_reply": "2021-03-14T19:36:11.243002Z"
    }
   },
   "outputs": [],
   "source": [
    "df = df[df.location == 'California'].append(df[df.location != 'California']).reset_index(drop=True)"
   ]
  },
  {
   "cell_type": "code",
   "execution_count": null,
   "metadata": {},
   "outputs": [],
   "source": []
  },
  {
   "cell_type": "code",
   "execution_count": 15,
   "metadata": {
    "execution": {
     "iopub.execute_input": "2021-03-14T19:36:11.246657Z",
     "iopub.status.busy": "2021-03-14T19:36:11.246058Z",
     "iopub.status.idle": "2021-03-14T19:36:11.267471Z",
     "shell.execute_reply": "2021-03-14T19:36:11.266910Z"
    }
   },
   "outputs": [],
   "source": [
    "tz = pytz.timezone(\"America/New_York\")"
   ]
  },
  {
   "cell_type": "code",
   "execution_count": 16,
   "metadata": {
    "execution": {
     "iopub.execute_input": "2021-03-14T19:36:11.271519Z",
     "iopub.status.busy": "2021-03-14T19:36:11.270928Z",
     "iopub.status.idle": "2021-03-14T19:36:11.274853Z",
     "shell.execute_reply": "2021-03-14T19:36:11.274348Z"
    }
   },
   "outputs": [],
   "source": [
    "today = datetime.now(tz).date()"
   ]
  },
  {
   "cell_type": "code",
   "execution_count": 17,
   "metadata": {
    "execution": {
     "iopub.execute_input": "2021-03-14T19:36:11.279296Z",
     "iopub.status.busy": "2021-03-14T19:36:11.278700Z",
     "iopub.status.idle": "2021-03-14T19:36:11.282529Z",
     "shell.execute_reply": "2021-03-14T19:36:11.282007Z"
    }
   },
   "outputs": [],
   "source": [
    "data_dir = os.path.join(os.path.abspath(\"\"), \"data\")"
   ]
  },
  {
   "cell_type": "code",
   "execution_count": 18,
   "metadata": {
    "execution": {
     "iopub.execute_input": "2021-03-14T19:36:11.286891Z",
     "iopub.status.busy": "2021-03-14T19:36:11.285961Z",
     "iopub.status.idle": "2021-03-14T19:36:11.292000Z",
     "shell.execute_reply": "2021-03-14T19:36:11.292470Z"
    }
   },
   "outputs": [],
   "source": [
    "df.to_csv(os.path.join(data_dir, f\"{today}.csv\"), index=False)"
   ]
  },
  {
   "cell_type": "code",
   "execution_count": null,
   "metadata": {},
   "outputs": [],
   "source": []
  }
 ],
 "metadata": {
  "kernelspec": {
   "display_name": "Python 3",
   "language": "python",
   "name": "python3"
  },
  "language_info": {
   "codemirror_mode": {
    "name": "ipython",
    "version": 3
   },
   "file_extension": ".py",
   "mimetype": "text/x-python",
   "name": "python",
   "nbconvert_exporter": "python",
   "pygments_lexer": "ipython3",
   "version": "3.8.8"
  }
 },
 "nbformat": 4,
 "nbformat_minor": 4
}
