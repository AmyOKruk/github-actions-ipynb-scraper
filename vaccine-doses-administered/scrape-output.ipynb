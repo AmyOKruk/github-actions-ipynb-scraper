{
 "cells": [
  {
   "cell_type": "markdown",
   "metadata": {},
   "source": [
    "# California COVID vaccinations scrape"
   ]
  },
  {
   "cell_type": "markdown",
   "metadata": {},
   "source": [
    "By [Amy O'Kruk](https://twitter.com/amyokruk)"
   ]
  },
  {
   "cell_type": "markdown",
   "metadata": {},
   "source": [
    "Downloads data on vaccine doses administered by county and statewide from a Tableau-powered dashboard from the California Department of Public Health."
   ]
  },
  {
   "cell_type": "code",
   "execution_count": 1,
   "metadata": {
    "execution": {
     "iopub.execute_input": "2021-03-23T19:11:21.550695Z",
     "iopub.status.busy": "2021-03-23T19:11:21.550074Z",
     "iopub.status.idle": "2021-03-23T19:11:21.929162Z",
     "shell.execute_reply": "2021-03-23T19:11:21.928304Z"
    }
   },
   "outputs": [],
   "source": [
    "import pandas as pd\n",
    "import requests\n",
    "from bs4 import BeautifulSoup\n",
    "import json\n",
    "import re\n",
    "import time\n",
    "from time import gmtime, strftime \n",
    "import os\n",
    "import pytz\n",
    "from datetime import datetime"
   ]
  },
  {
   "cell_type": "markdown",
   "metadata": {},
   "source": [
    "Scrape the dashboard page"
   ]
  },
  {
   "cell_type": "code",
   "execution_count": 2,
   "metadata": {
    "execution": {
     "iopub.execute_input": "2021-03-23T19:11:21.934840Z",
     "iopub.status.busy": "2021-03-23T19:11:21.932276Z",
     "iopub.status.idle": "2021-03-23T19:11:22.352160Z",
     "shell.execute_reply": "2021-03-23T19:11:22.351231Z"
    }
   },
   "outputs": [],
   "source": [
    "url = \"https://public.tableau.com/interactive/views/COVID-19VaccineDashboardPublic/Vaccine?:embed=y&:showVizHome=n&:apiID=host0\"\n",
    "\n",
    "r = requests.get(url)\n",
    "soup = BeautifulSoup(r.text, \"html.parser\")"
   ]
  },
  {
   "cell_type": "code",
   "execution_count": 3,
   "metadata": {
    "execution": {
     "iopub.execute_input": "2021-03-23T19:11:22.356586Z",
     "iopub.status.busy": "2021-03-23T19:11:22.356048Z",
     "iopub.status.idle": "2021-03-23T19:11:22.359574Z",
     "shell.execute_reply": "2021-03-23T19:11:22.359997Z"
    }
   },
   "outputs": [],
   "source": [
    "tableauData = json.loads(soup.find(\"textarea\",{\"id\": \"tsConfigContainer\"}).text)"
   ]
  },
  {
   "cell_type": "markdown",
   "metadata": {},
   "source": [
    "Get the link to the Tableau data"
   ]
  },
  {
   "cell_type": "code",
   "execution_count": 4,
   "metadata": {
    "execution": {
     "iopub.execute_input": "2021-03-23T19:11:22.363491Z",
     "iopub.status.busy": "2021-03-23T19:11:22.362956Z",
     "iopub.status.idle": "2021-03-23T19:11:22.365624Z",
     "shell.execute_reply": "2021-03-23T19:11:22.365165Z"
    }
   },
   "outputs": [],
   "source": [
    "dataUrl = f'https://public.tableau.com{tableauData[\"vizql_root\"]}/bootstrapSession/sessions/{tableauData[\"sessionid\"]}'"
   ]
  },
  {
   "cell_type": "code",
   "execution_count": 5,
   "metadata": {
    "execution": {
     "iopub.execute_input": "2021-03-23T19:11:22.371367Z",
     "iopub.status.busy": "2021-03-23T19:11:22.369400Z",
     "iopub.status.idle": "2021-03-23T19:11:22.764405Z",
     "shell.execute_reply": "2021-03-23T19:11:22.762947Z"
    }
   },
   "outputs": [],
   "source": [
    "r = requests.post(dataUrl, data= {\n",
    "    \"sheet_id\": tableauData[\"sheetId\"],\n",
    "})\n",
    "\n",
    "dataReg = re.search('\\d+;({.*})\\d+;({.*})', r.text, re.MULTILINE)\n",
    "data1 = json.loads(dataReg.group(2))\n",
    "\n",
    "dataJson = data1[\"secondaryInfo\"][\"presModelMap\"][\"dataDictionary\"][\"presModelHolder\"][\"genDataDictionaryPresModel\"][\"dataSegments\"][\"0\"][\"dataColumns\"]"
   ]
  },
  {
   "cell_type": "markdown",
   "metadata": {},
   "source": [
    "Isolate what you want"
   ]
  },
  {
   "cell_type": "code",
   "execution_count": 6,
   "metadata": {
    "execution": {
     "iopub.execute_input": "2021-03-23T19:11:22.769073Z",
     "iopub.status.busy": "2021-03-23T19:11:22.768421Z",
     "iopub.status.idle": "2021-03-23T19:11:22.772917Z",
     "shell.execute_reply": "2021-03-23T19:11:22.772248Z"
    }
   },
   "outputs": [],
   "source": [
    "counties = dataJson[2]['dataValues'][:58]"
   ]
  },
  {
   "cell_type": "code",
   "execution_count": 7,
   "metadata": {
    "execution": {
     "iopub.execute_input": "2021-03-23T19:11:22.777535Z",
     "iopub.status.busy": "2021-03-23T19:11:22.775631Z",
     "iopub.status.idle": "2021-03-23T19:11:22.781478Z",
     "shell.execute_reply": "2021-03-23T19:11:22.780889Z"
    }
   },
   "outputs": [],
   "source": [
    "doses = dataJson[0]['dataValues'][3:61]"
   ]
  },
  {
   "cell_type": "markdown",
   "metadata": {},
   "source": [
    "Data formatting"
   ]
  },
  {
   "cell_type": "code",
   "execution_count": 8,
   "metadata": {
    "execution": {
     "iopub.execute_input": "2021-03-23T19:11:22.785838Z",
     "iopub.status.busy": "2021-03-23T19:11:22.785187Z",
     "iopub.status.idle": "2021-03-23T19:11:22.789474Z",
     "shell.execute_reply": "2021-03-23T19:11:22.788854Z"
    }
   },
   "outputs": [],
   "source": [
    "zipped = dict(zip(counties, doses))"
   ]
  },
  {
   "cell_type": "code",
   "execution_count": 9,
   "metadata": {
    "execution": {
     "iopub.execute_input": "2021-03-23T19:11:22.796156Z",
     "iopub.status.busy": "2021-03-23T19:11:22.795556Z",
     "iopub.status.idle": "2021-03-23T19:11:22.799624Z",
     "shell.execute_reply": "2021-03-23T19:11:22.799030Z"
    }
   },
   "outputs": [],
   "source": [
    "df = pd.Series(zipped).reset_index()"
   ]
  },
  {
   "cell_type": "code",
   "execution_count": 10,
   "metadata": {
    "execution": {
     "iopub.execute_input": "2021-03-23T19:11:22.803870Z",
     "iopub.status.busy": "2021-03-23T19:11:22.803271Z",
     "iopub.status.idle": "2021-03-23T19:11:22.806897Z",
     "shell.execute_reply": "2021-03-23T19:11:22.807363Z"
    }
   },
   "outputs": [],
   "source": [
    "df.columns = ['location','doses']"
   ]
  },
  {
   "cell_type": "markdown",
   "metadata": {},
   "source": [
    "Grab the overall California total"
   ]
  },
  {
   "cell_type": "code",
   "execution_count": 11,
   "metadata": {
    "execution": {
     "iopub.execute_input": "2021-03-23T19:11:22.811810Z",
     "iopub.status.busy": "2021-03-23T19:11:22.811221Z",
     "iopub.status.idle": "2021-03-23T19:11:22.815818Z",
     "shell.execute_reply": "2021-03-23T19:11:22.814666Z"
    }
   },
   "outputs": [],
   "source": [
    "add = {'location':'California','doses':dataJson[0]['dataValues'][2]}"
   ]
  },
  {
   "cell_type": "code",
   "execution_count": 12,
   "metadata": {
    "execution": {
     "iopub.execute_input": "2021-03-23T19:11:22.822638Z",
     "iopub.status.busy": "2021-03-23T19:11:22.822060Z",
     "iopub.status.idle": "2021-03-23T19:11:22.826676Z",
     "shell.execute_reply": "2021-03-23T19:11:22.825678Z"
    }
   },
   "outputs": [],
   "source": [
    "df = df.append(add, ignore_index=True)"
   ]
  },
  {
   "cell_type": "code",
   "execution_count": 13,
   "metadata": {
    "execution": {
     "iopub.execute_input": "2021-03-23T19:11:22.831283Z",
     "iopub.status.busy": "2021-03-23T19:11:22.830714Z",
     "iopub.status.idle": "2021-03-23T19:11:22.834462Z",
     "shell.execute_reply": "2021-03-23T19:11:22.834948Z"
    }
   },
   "outputs": [],
   "source": [
    "df = df.sort_values(by='location')"
   ]
  },
  {
   "cell_type": "code",
   "execution_count": 14,
   "metadata": {
    "execution": {
     "iopub.execute_input": "2021-03-23T19:11:22.841390Z",
     "iopub.status.busy": "2021-03-23T19:11:22.840830Z",
     "iopub.status.idle": "2021-03-23T19:11:22.844593Z",
     "shell.execute_reply": "2021-03-23T19:11:22.845069Z"
    }
   },
   "outputs": [],
   "source": [
    "df = df[df.location == 'California'].append(df[df.location != 'California']).reset_index(drop=True)"
   ]
  },
  {
   "cell_type": "code",
   "execution_count": null,
   "metadata": {},
   "outputs": [],
   "source": []
  },
  {
   "cell_type": "code",
   "execution_count": 15,
   "metadata": {
    "execution": {
     "iopub.execute_input": "2021-03-23T19:11:22.849075Z",
     "iopub.status.busy": "2021-03-23T19:11:22.848166Z",
     "iopub.status.idle": "2021-03-23T19:11:22.868575Z",
     "shell.execute_reply": "2021-03-23T19:11:22.869005Z"
    }
   },
   "outputs": [],
   "source": [
    "tz = pytz.timezone(\"America/New_York\")"
   ]
  },
  {
   "cell_type": "code",
   "execution_count": 16,
   "metadata": {
    "execution": {
     "iopub.execute_input": "2021-03-23T19:11:22.872877Z",
     "iopub.status.busy": "2021-03-23T19:11:22.872247Z",
     "iopub.status.idle": "2021-03-23T19:11:22.875601Z",
     "shell.execute_reply": "2021-03-23T19:11:22.876062Z"
    }
   },
   "outputs": [],
   "source": [
    "today = datetime.now(tz).date()"
   ]
  },
  {
   "cell_type": "code",
   "execution_count": 17,
   "metadata": {
    "execution": {
     "iopub.execute_input": "2021-03-23T19:11:22.879813Z",
     "iopub.status.busy": "2021-03-23T19:11:22.879246Z",
     "iopub.status.idle": "2021-03-23T19:11:22.882903Z",
     "shell.execute_reply": "2021-03-23T19:11:22.882430Z"
    }
   },
   "outputs": [],
   "source": [
    "data_dir = os.path.join(os.path.abspath(\"\"), \"data\")"
   ]
  },
  {
   "cell_type": "code",
   "execution_count": 18,
   "metadata": {
    "execution": {
     "iopub.execute_input": "2021-03-23T19:11:22.887166Z",
     "iopub.status.busy": "2021-03-23T19:11:22.886422Z",
     "iopub.status.idle": "2021-03-23T19:11:22.892543Z",
     "shell.execute_reply": "2021-03-23T19:11:22.892077Z"
    }
   },
   "outputs": [],
   "source": [
    "df.to_csv(os.path.join(data_dir, f\"{today}.csv\"), index=False)"
   ]
  },
  {
   "cell_type": "code",
   "execution_count": null,
   "metadata": {},
   "outputs": [],
   "source": []
  }
 ],
 "metadata": {
  "kernelspec": {
   "display_name": "Python 3",
   "language": "python",
   "name": "python3"
  },
  "language_info": {
   "codemirror_mode": {
    "name": "ipython",
    "version": 3
   },
   "file_extension": ".py",
   "mimetype": "text/x-python",
   "name": "python",
   "nbconvert_exporter": "python",
   "pygments_lexer": "ipython3",
   "version": "3.8.8"
  }
 },
 "nbformat": 4,
 "nbformat_minor": 4
}
