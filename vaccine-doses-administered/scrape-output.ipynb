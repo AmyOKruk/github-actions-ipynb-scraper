{
 "cells": [
  {
   "cell_type": "markdown",
   "metadata": {},
   "source": [
    "# California COVID vaccinations scrape"
   ]
  },
  {
   "cell_type": "markdown",
   "metadata": {},
   "source": [
    "By [Amy O'Kruk](https://twitter.com/amyokruk)"
   ]
  },
  {
   "cell_type": "markdown",
   "metadata": {},
   "source": [
    "Downloads data on vaccine doses administered by county and statewide from a Tableau-powered dashboard from the California Department of Public Health."
   ]
  },
  {
   "cell_type": "code",
   "execution_count": 1,
   "metadata": {
    "execution": {
     "iopub.execute_input": "2021-03-23T12:18:07.283727Z",
     "iopub.status.busy": "2021-03-23T12:18:07.283070Z",
     "iopub.status.idle": "2021-03-23T12:18:07.694087Z",
     "shell.execute_reply": "2021-03-23T12:18:07.693103Z"
    }
   },
   "outputs": [],
   "source": [
    "import pandas as pd\n",
    "import requests\n",
    "from bs4 import BeautifulSoup\n",
    "import json\n",
    "import re\n",
    "import time\n",
    "from time import gmtime, strftime \n",
    "import os\n",
    "import pytz\n",
    "from datetime import datetime"
   ]
  },
  {
   "cell_type": "markdown",
   "metadata": {},
   "source": [
    "Scrape the dashboard page"
   ]
  },
  {
   "cell_type": "code",
   "execution_count": 2,
   "metadata": {
    "execution": {
     "iopub.execute_input": "2021-03-23T12:18:07.701088Z",
     "iopub.status.busy": "2021-03-23T12:18:07.697960Z",
     "iopub.status.idle": "2021-03-23T12:18:14.721173Z",
     "shell.execute_reply": "2021-03-23T12:18:14.721857Z"
    }
   },
   "outputs": [],
   "source": [
    "url = \"https://public.tableau.com/interactive/views/COVID-19VaccineDashboardPublic/Vaccine?:embed=y&:showVizHome=n&:apiID=host0\"\n",
    "\n",
    "r = requests.get(url)\n",
    "soup = BeautifulSoup(r.text, \"html.parser\")"
   ]
  },
  {
   "cell_type": "code",
   "execution_count": 3,
   "metadata": {
    "execution": {
     "iopub.execute_input": "2021-03-23T12:18:14.727539Z",
     "iopub.status.busy": "2021-03-23T12:18:14.724644Z",
     "iopub.status.idle": "2021-03-23T12:18:14.731545Z",
     "shell.execute_reply": "2021-03-23T12:18:14.732105Z"
    }
   },
   "outputs": [],
   "source": [
    "tableauData = json.loads(soup.find(\"textarea\",{\"id\": \"tsConfigContainer\"}).text)"
   ]
  },
  {
   "cell_type": "markdown",
   "metadata": {},
   "source": [
    "Get the link to the Tableau data"
   ]
  },
  {
   "cell_type": "code",
   "execution_count": 4,
   "metadata": {
    "execution": {
     "iopub.execute_input": "2021-03-23T12:18:14.736068Z",
     "iopub.status.busy": "2021-03-23T12:18:14.735375Z",
     "iopub.status.idle": "2021-03-23T12:18:14.739119Z",
     "shell.execute_reply": "2021-03-23T12:18:14.739641Z"
    }
   },
   "outputs": [],
   "source": [
    "dataUrl = f'https://public.tableau.com{tableauData[\"vizql_root\"]}/bootstrapSession/sessions/{tableauData[\"sessionid\"]}'"
   ]
  },
  {
   "cell_type": "code",
   "execution_count": 5,
   "metadata": {
    "execution": {
     "iopub.execute_input": "2021-03-23T12:18:14.745658Z",
     "iopub.status.busy": "2021-03-23T12:18:14.743339Z",
     "iopub.status.idle": "2021-03-23T12:18:14.929911Z",
     "shell.execute_reply": "2021-03-23T12:18:14.929019Z"
    }
   },
   "outputs": [],
   "source": [
    "r = requests.post(dataUrl, data= {\n",
    "    \"sheet_id\": tableauData[\"sheetId\"],\n",
    "})\n",
    "\n",
    "dataReg = re.search('\\d+;({.*})\\d+;({.*})', r.text, re.MULTILINE)\n",
    "data1 = json.loads(dataReg.group(2))\n",
    "\n",
    "dataJson = data1[\"secondaryInfo\"][\"presModelMap\"][\"dataDictionary\"][\"presModelHolder\"][\"genDataDictionaryPresModel\"][\"dataSegments\"][\"0\"][\"dataColumns\"]"
   ]
  },
  {
   "cell_type": "markdown",
   "metadata": {},
   "source": [
    "Isolate what you want"
   ]
  },
  {
   "cell_type": "code",
   "execution_count": 6,
   "metadata": {
    "execution": {
     "iopub.execute_input": "2021-03-23T12:18:14.934630Z",
     "iopub.status.busy": "2021-03-23T12:18:14.934072Z",
     "iopub.status.idle": "2021-03-23T12:18:14.938163Z",
     "shell.execute_reply": "2021-03-23T12:18:14.937472Z"
    }
   },
   "outputs": [],
   "source": [
    "counties = dataJson[2]['dataValues'][:58]"
   ]
  },
  {
   "cell_type": "code",
   "execution_count": 7,
   "metadata": {
    "execution": {
     "iopub.execute_input": "2021-03-23T12:18:14.942196Z",
     "iopub.status.busy": "2021-03-23T12:18:14.941554Z",
     "iopub.status.idle": "2021-03-23T12:18:14.945494Z",
     "shell.execute_reply": "2021-03-23T12:18:14.945007Z"
    }
   },
   "outputs": [],
   "source": [
    "doses = dataJson[0]['dataValues'][3:61]"
   ]
  },
  {
   "cell_type": "markdown",
   "metadata": {},
   "source": [
    "Data formatting"
   ]
  },
  {
   "cell_type": "code",
   "execution_count": 8,
   "metadata": {
    "execution": {
     "iopub.execute_input": "2021-03-23T12:18:14.949479Z",
     "iopub.status.busy": "2021-03-23T12:18:14.948912Z",
     "iopub.status.idle": "2021-03-23T12:18:14.952758Z",
     "shell.execute_reply": "2021-03-23T12:18:14.951994Z"
    }
   },
   "outputs": [],
   "source": [
    "zipped = dict(zip(counties, doses))"
   ]
  },
  {
   "cell_type": "code",
   "execution_count": 9,
   "metadata": {
    "execution": {
     "iopub.execute_input": "2021-03-23T12:18:14.958785Z",
     "iopub.status.busy": "2021-03-23T12:18:14.958214Z",
     "iopub.status.idle": "2021-03-23T12:18:14.960895Z",
     "shell.execute_reply": "2021-03-23T12:18:14.960159Z"
    }
   },
   "outputs": [],
   "source": [
    "df = pd.Series(zipped).reset_index()"
   ]
  },
  {
   "cell_type": "code",
   "execution_count": 10,
   "metadata": {
    "execution": {
     "iopub.execute_input": "2021-03-23T12:18:14.965799Z",
     "iopub.status.busy": "2021-03-23T12:18:14.964395Z",
     "iopub.status.idle": "2021-03-23T12:18:14.966498Z",
     "shell.execute_reply": "2021-03-23T12:18:14.966985Z"
    }
   },
   "outputs": [],
   "source": [
    "df.columns = ['location','doses']"
   ]
  },
  {
   "cell_type": "markdown",
   "metadata": {},
   "source": [
    "Grab the overall California total"
   ]
  },
  {
   "cell_type": "code",
   "execution_count": 11,
   "metadata": {
    "execution": {
     "iopub.execute_input": "2021-03-23T12:18:14.971704Z",
     "iopub.status.busy": "2021-03-23T12:18:14.970380Z",
     "iopub.status.idle": "2021-03-23T12:18:14.972348Z",
     "shell.execute_reply": "2021-03-23T12:18:14.972829Z"
    }
   },
   "outputs": [],
   "source": [
    "add = {'location':'California','doses':dataJson[0]['dataValues'][2]}"
   ]
  },
  {
   "cell_type": "code",
   "execution_count": 12,
   "metadata": {
    "execution": {
     "iopub.execute_input": "2021-03-23T12:18:14.982318Z",
     "iopub.status.busy": "2021-03-23T12:18:14.980590Z",
     "iopub.status.idle": "2021-03-23T12:18:14.983460Z",
     "shell.execute_reply": "2021-03-23T12:18:14.982897Z"
    }
   },
   "outputs": [],
   "source": [
    "df = df.append(add, ignore_index=True)"
   ]
  },
  {
   "cell_type": "code",
   "execution_count": 13,
   "metadata": {
    "execution": {
     "iopub.execute_input": "2021-03-23T12:18:14.988841Z",
     "iopub.status.busy": "2021-03-23T12:18:14.987529Z",
     "iopub.status.idle": "2021-03-23T12:18:14.989487Z",
     "shell.execute_reply": "2021-03-23T12:18:14.990014Z"
    }
   },
   "outputs": [],
   "source": [
    "df = df.sort_values(by='location')"
   ]
  },
  {
   "cell_type": "code",
   "execution_count": 14,
   "metadata": {
    "execution": {
     "iopub.execute_input": "2021-03-23T12:18:14.997675Z",
     "iopub.status.busy": "2021-03-23T12:18:14.996331Z",
     "iopub.status.idle": "2021-03-23T12:18:14.998405Z",
     "shell.execute_reply": "2021-03-23T12:18:14.998906Z"
    }
   },
   "outputs": [],
   "source": [
    "df = df[df.location == 'California'].append(df[df.location != 'California']).reset_index(drop=True)"
   ]
  },
  {
   "cell_type": "code",
   "execution_count": null,
   "metadata": {},
   "outputs": [],
   "source": []
  },
  {
   "cell_type": "code",
   "execution_count": 15,
   "metadata": {
    "execution": {
     "iopub.execute_input": "2021-03-23T12:18:15.002599Z",
     "iopub.status.busy": "2021-03-23T12:18:15.002026Z",
     "iopub.status.idle": "2021-03-23T12:18:15.030783Z",
     "shell.execute_reply": "2021-03-23T12:18:15.030256Z"
    }
   },
   "outputs": [],
   "source": [
    "tz = pytz.timezone(\"America/New_York\")"
   ]
  },
  {
   "cell_type": "code",
   "execution_count": 16,
   "metadata": {
    "execution": {
     "iopub.execute_input": "2021-03-23T12:18:15.035789Z",
     "iopub.status.busy": "2021-03-23T12:18:15.034366Z",
     "iopub.status.idle": "2021-03-23T12:18:15.036426Z",
     "shell.execute_reply": "2021-03-23T12:18:15.036914Z"
    }
   },
   "outputs": [],
   "source": [
    "today = datetime.now(tz).date()"
   ]
  },
  {
   "cell_type": "code",
   "execution_count": 17,
   "metadata": {
    "execution": {
     "iopub.execute_input": "2021-03-23T12:18:15.042396Z",
     "iopub.status.busy": "2021-03-23T12:18:15.040342Z",
     "iopub.status.idle": "2021-03-23T12:18:15.043065Z",
     "shell.execute_reply": "2021-03-23T12:18:15.043532Z"
    }
   },
   "outputs": [],
   "source": [
    "data_dir = os.path.join(os.path.abspath(\"\"), \"data\")"
   ]
  },
  {
   "cell_type": "code",
   "execution_count": 18,
   "metadata": {
    "execution": {
     "iopub.execute_input": "2021-03-23T12:18:15.048339Z",
     "iopub.status.busy": "2021-03-23T12:18:15.046912Z",
     "iopub.status.idle": "2021-03-23T12:18:15.052090Z",
     "shell.execute_reply": "2021-03-23T12:18:15.051510Z"
    }
   },
   "outputs": [],
   "source": [
    "df.to_csv(os.path.join(data_dir, f\"{today}.csv\"), index=False)"
   ]
  },
  {
   "cell_type": "code",
   "execution_count": null,
   "metadata": {},
   "outputs": [],
   "source": []
  }
 ],
 "metadata": {
  "kernelspec": {
   "display_name": "Python 3",
   "language": "python",
   "name": "python3"
  },
  "language_info": {
   "codemirror_mode": {
    "name": "ipython",
    "version": 3
   },
   "file_extension": ".py",
   "mimetype": "text/x-python",
   "name": "python",
   "nbconvert_exporter": "python",
   "pygments_lexer": "ipython3",
   "version": "3.8.8"
  }
 },
 "nbformat": 4,
 "nbformat_minor": 4
}
