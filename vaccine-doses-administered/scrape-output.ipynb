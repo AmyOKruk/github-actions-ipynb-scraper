{
 "cells": [
  {
   "cell_type": "markdown",
   "metadata": {},
   "source": [
    "# California COVID vaccinations scrape"
   ]
  },
  {
   "cell_type": "markdown",
   "metadata": {},
   "source": [
    "By [Amy O'Kruk](https://twitter.com/amyokruk)"
   ]
  },
  {
   "cell_type": "markdown",
   "metadata": {},
   "source": [
    "Downloads data on vaccine doses administered by county and statewide from a Tableau-powered dashboard from the California Department of Public Health."
   ]
  },
  {
   "cell_type": "code",
   "execution_count": 1,
   "metadata": {
    "execution": {
     "iopub.execute_input": "2021-03-15T14:40:37.825872Z",
     "iopub.status.busy": "2021-03-15T14:40:37.825152Z",
     "iopub.status.idle": "2021-03-15T14:40:38.394940Z",
     "shell.execute_reply": "2021-03-15T14:40:38.393976Z"
    }
   },
   "outputs": [],
   "source": [
    "import pandas as pd\n",
    "import requests\n",
    "from bs4 import BeautifulSoup\n",
    "import json\n",
    "import re\n",
    "import time\n",
    "from time import gmtime, strftime \n",
    "import os\n",
    "import pytz\n",
    "from datetime import datetime"
   ]
  },
  {
   "cell_type": "markdown",
   "metadata": {},
   "source": [
    "Scrape the dashboard page"
   ]
  },
  {
   "cell_type": "code",
   "execution_count": 2,
   "metadata": {
    "execution": {
     "iopub.execute_input": "2021-03-15T14:40:38.402851Z",
     "iopub.status.busy": "2021-03-15T14:40:38.398894Z",
     "iopub.status.idle": "2021-03-15T14:40:38.685541Z",
     "shell.execute_reply": "2021-03-15T14:40:38.686010Z"
    }
   },
   "outputs": [],
   "source": [
    "url = \"https://public.tableau.com/interactive/views/COVID-19VaccineDashboardPublic/Vaccine?:embed=y&:showVizHome=n&:apiID=host0\"\n",
    "\n",
    "r = requests.get(url)\n",
    "soup = BeautifulSoup(r.text, \"html.parser\")"
   ]
  },
  {
   "cell_type": "code",
   "execution_count": 3,
   "metadata": {
    "execution": {
     "iopub.execute_input": "2021-03-15T14:40:38.692329Z",
     "iopub.status.busy": "2021-03-15T14:40:38.691741Z",
     "iopub.status.idle": "2021-03-15T14:40:38.695678Z",
     "shell.execute_reply": "2021-03-15T14:40:38.695193Z"
    }
   },
   "outputs": [],
   "source": [
    "tableauData = json.loads(soup.find(\"textarea\",{\"id\": \"tsConfigContainer\"}).text)"
   ]
  },
  {
   "cell_type": "markdown",
   "metadata": {},
   "source": [
    "Get the link to the Tableau data"
   ]
  },
  {
   "cell_type": "code",
   "execution_count": 4,
   "metadata": {
    "execution": {
     "iopub.execute_input": "2021-03-15T14:40:38.699847Z",
     "iopub.status.busy": "2021-03-15T14:40:38.699110Z",
     "iopub.status.idle": "2021-03-15T14:40:38.703691Z",
     "shell.execute_reply": "2021-03-15T14:40:38.703160Z"
    }
   },
   "outputs": [],
   "source": [
    "dataUrl = f'https://public.tableau.com{tableauData[\"vizql_root\"]}/bootstrapSession/sessions/{tableauData[\"sessionid\"]}'"
   ]
  },
  {
   "cell_type": "code",
   "execution_count": 5,
   "metadata": {
    "execution": {
     "iopub.execute_input": "2021-03-15T14:40:38.710845Z",
     "iopub.status.busy": "2021-03-15T14:40:38.710201Z",
     "iopub.status.idle": "2021-03-15T14:40:38.896678Z",
     "shell.execute_reply": "2021-03-15T14:40:38.896048Z"
    }
   },
   "outputs": [],
   "source": [
    "r = requests.post(dataUrl, data= {\n",
    "    \"sheet_id\": tableauData[\"sheetId\"],\n",
    "})\n",
    "\n",
    "dataReg = re.search('\\d+;({.*})\\d+;({.*})', r.text, re.MULTILINE)\n",
    "data1 = json.loads(dataReg.group(2))\n",
    "\n",
    "dataJson = data1[\"secondaryInfo\"][\"presModelMap\"][\"dataDictionary\"][\"presModelHolder\"][\"genDataDictionaryPresModel\"][\"dataSegments\"][\"0\"][\"dataColumns\"]"
   ]
  },
  {
   "cell_type": "markdown",
   "metadata": {},
   "source": [
    "Isolate what you want"
   ]
  },
  {
   "cell_type": "code",
   "execution_count": 6,
   "metadata": {
    "execution": {
     "iopub.execute_input": "2021-03-15T14:40:38.901059Z",
     "iopub.status.busy": "2021-03-15T14:40:38.900457Z",
     "iopub.status.idle": "2021-03-15T14:40:38.904698Z",
     "shell.execute_reply": "2021-03-15T14:40:38.904213Z"
    }
   },
   "outputs": [],
   "source": [
    "counties = dataJson[2]['dataValues'][:58]"
   ]
  },
  {
   "cell_type": "code",
   "execution_count": 7,
   "metadata": {
    "execution": {
     "iopub.execute_input": "2021-03-15T14:40:38.908473Z",
     "iopub.status.busy": "2021-03-15T14:40:38.907884Z",
     "iopub.status.idle": "2021-03-15T14:40:38.911336Z",
     "shell.execute_reply": "2021-03-15T14:40:38.911779Z"
    }
   },
   "outputs": [],
   "source": [
    "doses = dataJson[0]['dataValues'][3:61]"
   ]
  },
  {
   "cell_type": "markdown",
   "metadata": {},
   "source": [
    "Data formatting"
   ]
  },
  {
   "cell_type": "code",
   "execution_count": 8,
   "metadata": {
    "execution": {
     "iopub.execute_input": "2021-03-15T14:40:38.915708Z",
     "iopub.status.busy": "2021-03-15T14:40:38.915144Z",
     "iopub.status.idle": "2021-03-15T14:40:38.919114Z",
     "shell.execute_reply": "2021-03-15T14:40:38.919555Z"
    }
   },
   "outputs": [],
   "source": [
    "zipped = dict(zip(counties, doses))"
   ]
  },
  {
   "cell_type": "code",
   "execution_count": 9,
   "metadata": {
    "execution": {
     "iopub.execute_input": "2021-03-15T14:40:38.925910Z",
     "iopub.status.busy": "2021-03-15T14:40:38.925361Z",
     "iopub.status.idle": "2021-03-15T14:40:38.929293Z",
     "shell.execute_reply": "2021-03-15T14:40:38.928713Z"
    }
   },
   "outputs": [],
   "source": [
    "df = pd.Series(zipped).reset_index()"
   ]
  },
  {
   "cell_type": "code",
   "execution_count": 10,
   "metadata": {
    "execution": {
     "iopub.execute_input": "2021-03-15T14:40:38.934322Z",
     "iopub.status.busy": "2021-03-15T14:40:38.933639Z",
     "iopub.status.idle": "2021-03-15T14:40:38.937656Z",
     "shell.execute_reply": "2021-03-15T14:40:38.937142Z"
    }
   },
   "outputs": [],
   "source": [
    "df.columns = ['location','doses']"
   ]
  },
  {
   "cell_type": "markdown",
   "metadata": {},
   "source": [
    "Grab the overall California total"
   ]
  },
  {
   "cell_type": "code",
   "execution_count": 11,
   "metadata": {
    "execution": {
     "iopub.execute_input": "2021-03-15T14:40:38.941708Z",
     "iopub.status.busy": "2021-03-15T14:40:38.941158Z",
     "iopub.status.idle": "2021-03-15T14:40:38.945321Z",
     "shell.execute_reply": "2021-03-15T14:40:38.944672Z"
    }
   },
   "outputs": [],
   "source": [
    "add = {'location':'California','doses':dataJson[0]['dataValues'][2]}"
   ]
  },
  {
   "cell_type": "code",
   "execution_count": 12,
   "metadata": {
    "execution": {
     "iopub.execute_input": "2021-03-15T14:40:38.953123Z",
     "iopub.status.busy": "2021-03-15T14:40:38.952561Z",
     "iopub.status.idle": "2021-03-15T14:40:38.956489Z",
     "shell.execute_reply": "2021-03-15T14:40:38.955922Z"
    }
   },
   "outputs": [],
   "source": [
    "df = df.append(add, ignore_index=True)"
   ]
  },
  {
   "cell_type": "code",
   "execution_count": 13,
   "metadata": {
    "execution": {
     "iopub.execute_input": "2021-03-15T14:40:38.961722Z",
     "iopub.status.busy": "2021-03-15T14:40:38.960780Z",
     "iopub.status.idle": "2021-03-15T14:40:38.965654Z",
     "shell.execute_reply": "2021-03-15T14:40:38.965094Z"
    }
   },
   "outputs": [],
   "source": [
    "df = df.sort_values(by='location')"
   ]
  },
  {
   "cell_type": "code",
   "execution_count": 14,
   "metadata": {
    "execution": {
     "iopub.execute_input": "2021-03-15T14:40:38.972371Z",
     "iopub.status.busy": "2021-03-15T14:40:38.971809Z",
     "iopub.status.idle": "2021-03-15T14:40:38.975139Z",
     "shell.execute_reply": "2021-03-15T14:40:38.975887Z"
    }
   },
   "outputs": [],
   "source": [
    "df = df[df.location == 'California'].append(df[df.location != 'California']).reset_index(drop=True)"
   ]
  },
  {
   "cell_type": "code",
   "execution_count": null,
   "metadata": {},
   "outputs": [],
   "source": []
  },
  {
   "cell_type": "code",
   "execution_count": 15,
   "metadata": {
    "execution": {
     "iopub.execute_input": "2021-03-15T14:40:38.979838Z",
     "iopub.status.busy": "2021-03-15T14:40:38.979275Z",
     "iopub.status.idle": "2021-03-15T14:40:39.000494Z",
     "shell.execute_reply": "2021-03-15T14:40:39.000006Z"
    }
   },
   "outputs": [],
   "source": [
    "tz = pytz.timezone(\"America/New_York\")"
   ]
  },
  {
   "cell_type": "code",
   "execution_count": 16,
   "metadata": {
    "execution": {
     "iopub.execute_input": "2021-03-15T14:40:39.004515Z",
     "iopub.status.busy": "2021-03-15T14:40:39.003913Z",
     "iopub.status.idle": "2021-03-15T14:40:39.007851Z",
     "shell.execute_reply": "2021-03-15T14:40:39.007344Z"
    }
   },
   "outputs": [],
   "source": [
    "today = datetime.now(tz).date()"
   ]
  },
  {
   "cell_type": "code",
   "execution_count": 17,
   "metadata": {
    "execution": {
     "iopub.execute_input": "2021-03-15T14:40:39.012035Z",
     "iopub.status.busy": "2021-03-15T14:40:39.011474Z",
     "iopub.status.idle": "2021-03-15T14:40:39.015473Z",
     "shell.execute_reply": "2021-03-15T14:40:39.014715Z"
    }
   },
   "outputs": [],
   "source": [
    "data_dir = os.path.join(os.path.abspath(\"\"), \"data\")"
   ]
  },
  {
   "cell_type": "code",
   "execution_count": 18,
   "metadata": {
    "execution": {
     "iopub.execute_input": "2021-03-15T14:40:39.021040Z",
     "iopub.status.busy": "2021-03-15T14:40:39.019085Z",
     "iopub.status.idle": "2021-03-15T14:40:39.025884Z",
     "shell.execute_reply": "2021-03-15T14:40:39.025102Z"
    }
   },
   "outputs": [],
   "source": [
    "df.to_csv(os.path.join(data_dir, f\"{today}.csv\"), index=False)"
   ]
  },
  {
   "cell_type": "code",
   "execution_count": null,
   "metadata": {},
   "outputs": [],
   "source": []
  }
 ],
 "metadata": {
  "kernelspec": {
   "display_name": "Python 3",
   "language": "python",
   "name": "python3"
  },
  "language_info": {
   "codemirror_mode": {
    "name": "ipython",
    "version": 3
   },
   "file_extension": ".py",
   "mimetype": "text/x-python",
   "name": "python",
   "nbconvert_exporter": "python",
   "pygments_lexer": "ipython3",
   "version": "3.8.8"
  }
 },
 "nbformat": 4,
 "nbformat_minor": 4
}
