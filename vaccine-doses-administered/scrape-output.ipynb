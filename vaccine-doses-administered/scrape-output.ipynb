{
 "cells": [
  {
   "cell_type": "markdown",
   "metadata": {},
   "source": [
    "# California COVID vaccinations scrape"
   ]
  },
  {
   "cell_type": "markdown",
   "metadata": {},
   "source": [
    "By [Amy O'Kruk](https://twitter.com/amyokruk)"
   ]
  },
  {
   "cell_type": "markdown",
   "metadata": {},
   "source": [
    "Downloads data on vaccine doses administered by county and statewide from a Tableau-powered dashboard from the California Department of Public Health."
   ]
  },
  {
   "cell_type": "code",
   "execution_count": 1,
   "metadata": {
    "execution": {
     "iopub.execute_input": "2021-03-11T11:11:58.186541Z",
     "iopub.status.busy": "2021-03-11T11:11:58.186004Z",
     "iopub.status.idle": "2021-03-11T11:11:58.546290Z",
     "shell.execute_reply": "2021-03-11T11:11:58.545211Z"
    }
   },
   "outputs": [],
   "source": [
    "import pandas as pd\n",
    "import requests\n",
    "from bs4 import BeautifulSoup\n",
    "import json\n",
    "import re\n",
    "import time\n",
    "from time import gmtime, strftime \n",
    "import os\n",
    "import pytz\n",
    "from datetime import datetime"
   ]
  },
  {
   "cell_type": "markdown",
   "metadata": {},
   "source": [
    "Scrape the dashboard page"
   ]
  },
  {
   "cell_type": "code",
   "execution_count": 2,
   "metadata": {
    "execution": {
     "iopub.execute_input": "2021-03-11T11:11:58.551629Z",
     "iopub.status.busy": "2021-03-11T11:11:58.549491Z",
     "iopub.status.idle": "2021-03-11T11:11:59.052234Z",
     "shell.execute_reply": "2021-03-11T11:11:59.051757Z"
    }
   },
   "outputs": [],
   "source": [
    "url = \"https://public.tableau.com/interactive/views/COVID-19VaccineDashboardPublic/Vaccine?:embed=y&:showVizHome=n&:apiID=host0\"\n",
    "\n",
    "r = requests.get(url)\n",
    "soup = BeautifulSoup(r.text, \"html.parser\")"
   ]
  },
  {
   "cell_type": "code",
   "execution_count": 3,
   "metadata": {
    "execution": {
     "iopub.execute_input": "2021-03-11T11:11:59.056848Z",
     "iopub.status.busy": "2021-03-11T11:11:59.056329Z",
     "iopub.status.idle": "2021-03-11T11:11:59.059823Z",
     "shell.execute_reply": "2021-03-11T11:11:59.059426Z"
    }
   },
   "outputs": [],
   "source": [
    "tableauData = json.loads(soup.find(\"textarea\",{\"id\": \"tsConfigContainer\"}).text)"
   ]
  },
  {
   "cell_type": "markdown",
   "metadata": {},
   "source": [
    "Get the link to the Tableau data"
   ]
  },
  {
   "cell_type": "code",
   "execution_count": 4,
   "metadata": {
    "execution": {
     "iopub.execute_input": "2021-03-11T11:11:59.063025Z",
     "iopub.status.busy": "2021-03-11T11:11:59.062604Z",
     "iopub.status.idle": "2021-03-11T11:11:59.065834Z",
     "shell.execute_reply": "2021-03-11T11:11:59.065527Z"
    }
   },
   "outputs": [],
   "source": [
    "dataUrl = f'https://public.tableau.com{tableauData[\"vizql_root\"]}/bootstrapSession/sessions/{tableauData[\"sessionid\"]}'"
   ]
  },
  {
   "cell_type": "code",
   "execution_count": 5,
   "metadata": {
    "execution": {
     "iopub.execute_input": "2021-03-11T11:11:59.071151Z",
     "iopub.status.busy": "2021-03-11T11:11:59.070626Z",
     "iopub.status.idle": "2021-03-11T11:11:59.372181Z",
     "shell.execute_reply": "2021-03-11T11:11:59.371383Z"
    }
   },
   "outputs": [],
   "source": [
    "r = requests.post(dataUrl, data= {\n",
    "    \"sheet_id\": tableauData[\"sheetId\"],\n",
    "})\n",
    "\n",
    "dataReg = re.search('\\d+;({.*})\\d+;({.*})', r.text, re.MULTILINE)\n",
    "data1 = json.loads(dataReg.group(2))\n",
    "\n",
    "dataJson = data1[\"secondaryInfo\"][\"presModelMap\"][\"dataDictionary\"][\"presModelHolder\"][\"genDataDictionaryPresModel\"][\"dataSegments\"][\"0\"][\"dataColumns\"]"
   ]
  },
  {
   "cell_type": "markdown",
   "metadata": {},
   "source": [
    "Isolate what you want"
   ]
  },
  {
   "cell_type": "code",
   "execution_count": 6,
   "metadata": {
    "execution": {
     "iopub.execute_input": "2021-03-11T11:11:59.377844Z",
     "iopub.status.busy": "2021-03-11T11:11:59.377294Z",
     "iopub.status.idle": "2021-03-11T11:11:59.378631Z",
     "shell.execute_reply": "2021-03-11T11:11:59.378261Z"
    }
   },
   "outputs": [],
   "source": [
    "counties = dataJson[2]['dataValues'][:58]"
   ]
  },
  {
   "cell_type": "code",
   "execution_count": 7,
   "metadata": {
    "execution": {
     "iopub.execute_input": "2021-03-11T11:11:59.381989Z",
     "iopub.status.busy": "2021-03-11T11:11:59.381200Z",
     "iopub.status.idle": "2021-03-11T11:11:59.383296Z",
     "shell.execute_reply": "2021-03-11T11:11:59.382859Z"
    }
   },
   "outputs": [],
   "source": [
    "doses = dataJson[0]['dataValues'][3:61]"
   ]
  },
  {
   "cell_type": "markdown",
   "metadata": {},
   "source": [
    "Data formatting"
   ]
  },
  {
   "cell_type": "code",
   "execution_count": 8,
   "metadata": {
    "execution": {
     "iopub.execute_input": "2021-03-11T11:11:59.387179Z",
     "iopub.status.busy": "2021-03-11T11:11:59.386126Z",
     "iopub.status.idle": "2021-03-11T11:11:59.387745Z",
     "shell.execute_reply": "2021-03-11T11:11:59.388097Z"
    }
   },
   "outputs": [],
   "source": [
    "zipped = dict(zip(counties, doses))"
   ]
  },
  {
   "cell_type": "code",
   "execution_count": 9,
   "metadata": {
    "execution": {
     "iopub.execute_input": "2021-03-11T11:11:59.393874Z",
     "iopub.status.busy": "2021-03-11T11:11:59.392890Z",
     "iopub.status.idle": "2021-03-11T11:11:59.394446Z",
     "shell.execute_reply": "2021-03-11T11:11:59.394847Z"
    }
   },
   "outputs": [],
   "source": [
    "df = pd.Series(zipped).reset_index()"
   ]
  },
  {
   "cell_type": "code",
   "execution_count": 10,
   "metadata": {
    "execution": {
     "iopub.execute_input": "2021-03-11T11:11:59.398972Z",
     "iopub.status.busy": "2021-03-11T11:11:59.397805Z",
     "iopub.status.idle": "2021-03-11T11:11:59.399633Z",
     "shell.execute_reply": "2021-03-11T11:11:59.400038Z"
    }
   },
   "outputs": [],
   "source": [
    "df.columns = ['location','doses']"
   ]
  },
  {
   "cell_type": "markdown",
   "metadata": {},
   "source": [
    "Grab the overall California total"
   ]
  },
  {
   "cell_type": "code",
   "execution_count": 11,
   "metadata": {
    "execution": {
     "iopub.execute_input": "2021-03-11T11:11:59.403079Z",
     "iopub.status.busy": "2021-03-11T11:11:59.402715Z",
     "iopub.status.idle": "2021-03-11T11:11:59.404884Z",
     "shell.execute_reply": "2021-03-11T11:11:59.404426Z"
    }
   },
   "outputs": [],
   "source": [
    "add = {'location':'California','doses':dataJson[0]['dataValues'][2]}"
   ]
  },
  {
   "cell_type": "code",
   "execution_count": 12,
   "metadata": {
    "execution": {
     "iopub.execute_input": "2021-03-11T11:11:59.410834Z",
     "iopub.status.busy": "2021-03-11T11:11:59.410033Z",
     "iopub.status.idle": "2021-03-11T11:11:59.411706Z",
     "shell.execute_reply": "2021-03-11T11:11:59.412059Z"
    }
   },
   "outputs": [],
   "source": [
    "df = df.append(add, ignore_index=True)"
   ]
  },
  {
   "cell_type": "code",
   "execution_count": 13,
   "metadata": {
    "execution": {
     "iopub.execute_input": "2021-03-11T11:11:59.416528Z",
     "iopub.status.busy": "2021-03-11T11:11:59.415443Z",
     "iopub.status.idle": "2021-03-11T11:11:59.417061Z",
     "shell.execute_reply": "2021-03-11T11:11:59.417405Z"
    }
   },
   "outputs": [],
   "source": [
    "df = df.sort_values(by='location')"
   ]
  },
  {
   "cell_type": "code",
   "execution_count": 14,
   "metadata": {
    "execution": {
     "iopub.execute_input": "2021-03-11T11:11:59.422606Z",
     "iopub.status.busy": "2021-03-11T11:11:59.421648Z",
     "iopub.status.idle": "2021-03-11T11:11:59.423105Z",
     "shell.execute_reply": "2021-03-11T11:11:59.423452Z"
    }
   },
   "outputs": [],
   "source": [
    "df = df[df.location == 'California'].append(df[df.location != 'California']).reset_index(drop=True)"
   ]
  },
  {
   "cell_type": "code",
   "execution_count": null,
   "metadata": {},
   "outputs": [],
   "source": []
  },
  {
   "cell_type": "code",
   "execution_count": 15,
   "metadata": {
    "execution": {
     "iopub.execute_input": "2021-03-11T11:11:59.426010Z",
     "iopub.status.busy": "2021-03-11T11:11:59.425504Z",
     "iopub.status.idle": "2021-03-11T11:11:59.440022Z",
     "shell.execute_reply": "2021-03-11T11:11:59.439568Z"
    }
   },
   "outputs": [],
   "source": [
    "tz = pytz.timezone(\"America/New_York\")"
   ]
  },
  {
   "cell_type": "code",
   "execution_count": 16,
   "metadata": {
    "execution": {
     "iopub.execute_input": "2021-03-11T11:11:59.443534Z",
     "iopub.status.busy": "2021-03-11T11:11:59.442476Z",
     "iopub.status.idle": "2021-03-11T11:11:59.444051Z",
     "shell.execute_reply": "2021-03-11T11:11:59.444399Z"
    }
   },
   "outputs": [],
   "source": [
    "today = datetime.now(tz).date()"
   ]
  },
  {
   "cell_type": "code",
   "execution_count": 17,
   "metadata": {
    "execution": {
     "iopub.execute_input": "2021-03-11T11:11:59.448376Z",
     "iopub.status.busy": "2021-03-11T11:11:59.447395Z",
     "iopub.status.idle": "2021-03-11T11:11:59.449090Z",
     "shell.execute_reply": "2021-03-11T11:11:59.449511Z"
    }
   },
   "outputs": [],
   "source": [
    "data_dir = os.path.join(os.path.abspath(\"\"), \"data\")"
   ]
  },
  {
   "cell_type": "code",
   "execution_count": 18,
   "metadata": {
    "execution": {
     "iopub.execute_input": "2021-03-11T11:11:59.453285Z",
     "iopub.status.busy": "2021-03-11T11:11:59.452408Z",
     "iopub.status.idle": "2021-03-11T11:11:59.456728Z",
     "shell.execute_reply": "2021-03-11T11:11:59.456323Z"
    }
   },
   "outputs": [],
   "source": [
    "df.to_csv(os.path.join(data_dir, f\"{today}.csv\"), index=False)"
   ]
  },
  {
   "cell_type": "code",
   "execution_count": null,
   "metadata": {},
   "outputs": [],
   "source": []
  }
 ],
 "metadata": {
  "kernelspec": {
   "display_name": "Python 3",
   "language": "python",
   "name": "python3"
  },
  "language_info": {
   "codemirror_mode": {
    "name": "ipython",
    "version": 3
   },
   "file_extension": ".py",
   "mimetype": "text/x-python",
   "name": "python",
   "nbconvert_exporter": "python",
   "pygments_lexer": "ipython3",
   "version": "3.8.8"
  }
 },
 "nbformat": 4,
 "nbformat_minor": 4
}
