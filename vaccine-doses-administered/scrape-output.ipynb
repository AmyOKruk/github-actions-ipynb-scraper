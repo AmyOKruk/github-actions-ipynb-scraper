{
 "cells": [
  {
   "cell_type": "markdown",
   "metadata": {},
   "source": [
    "# California COVID vaccinations scrape"
   ]
  },
  {
   "cell_type": "markdown",
   "metadata": {},
   "source": [
    "By [Amy O'Kruk](https://twitter.com/amyokruk)"
   ]
  },
  {
   "cell_type": "markdown",
   "metadata": {},
   "source": [
    "Downloads data on vaccine doses administered by county and statewide from a Tableau-powered dashboard from the California Department of Public Health."
   ]
  },
  {
   "cell_type": "code",
   "execution_count": 1,
   "metadata": {
    "execution": {
     "iopub.execute_input": "2021-03-14T08:14:52.826174Z",
     "iopub.status.busy": "2021-03-14T08:14:52.825335Z",
     "iopub.status.idle": "2021-03-14T08:14:53.215266Z",
     "shell.execute_reply": "2021-03-14T08:14:53.214624Z"
    }
   },
   "outputs": [],
   "source": [
    "import pandas as pd\n",
    "import requests\n",
    "from bs4 import BeautifulSoup\n",
    "import json\n",
    "import re\n",
    "import time\n",
    "from time import gmtime, strftime \n",
    "import os\n",
    "import pytz\n",
    "from datetime import datetime"
   ]
  },
  {
   "cell_type": "markdown",
   "metadata": {},
   "source": [
    "Scrape the dashboard page"
   ]
  },
  {
   "cell_type": "code",
   "execution_count": 2,
   "metadata": {
    "execution": {
     "iopub.execute_input": "2021-03-14T08:14:53.220736Z",
     "iopub.status.busy": "2021-03-14T08:14:53.218748Z",
     "iopub.status.idle": "2021-03-14T08:14:54.670104Z",
     "shell.execute_reply": "2021-03-14T08:14:54.669623Z"
    }
   },
   "outputs": [],
   "source": [
    "url = \"https://public.tableau.com/interactive/views/COVID-19VaccineDashboardPublic/Vaccine?:embed=y&:showVizHome=n&:apiID=host0\"\n",
    "\n",
    "r = requests.get(url)\n",
    "soup = BeautifulSoup(r.text, \"html.parser\")"
   ]
  },
  {
   "cell_type": "code",
   "execution_count": 3,
   "metadata": {
    "execution": {
     "iopub.execute_input": "2021-03-14T08:14:54.674045Z",
     "iopub.status.busy": "2021-03-14T08:14:54.673514Z",
     "iopub.status.idle": "2021-03-14T08:14:54.676762Z",
     "shell.execute_reply": "2021-03-14T08:14:54.676290Z"
    }
   },
   "outputs": [],
   "source": [
    "tableauData = json.loads(soup.find(\"textarea\",{\"id\": \"tsConfigContainer\"}).text)"
   ]
  },
  {
   "cell_type": "markdown",
   "metadata": {},
   "source": [
    "Get the link to the Tableau data"
   ]
  },
  {
   "cell_type": "code",
   "execution_count": 4,
   "metadata": {
    "execution": {
     "iopub.execute_input": "2021-03-14T08:14:54.681164Z",
     "iopub.status.busy": "2021-03-14T08:14:54.680620Z",
     "iopub.status.idle": "2021-03-14T08:14:54.683673Z",
     "shell.execute_reply": "2021-03-14T08:14:54.684183Z"
    }
   },
   "outputs": [],
   "source": [
    "dataUrl = f'https://public.tableau.com{tableauData[\"vizql_root\"]}/bootstrapSession/sessions/{tableauData[\"sessionid\"]}'"
   ]
  },
  {
   "cell_type": "code",
   "execution_count": 5,
   "metadata": {
    "execution": {
     "iopub.execute_input": "2021-03-14T08:14:54.690165Z",
     "iopub.status.busy": "2021-03-14T08:14:54.689524Z",
     "iopub.status.idle": "2021-03-14T08:14:55.234113Z",
     "shell.execute_reply": "2021-03-14T08:14:55.233393Z"
    }
   },
   "outputs": [],
   "source": [
    "r = requests.post(dataUrl, data= {\n",
    "    \"sheet_id\": tableauData[\"sheetId\"],\n",
    "})\n",
    "\n",
    "dataReg = re.search('\\d+;({.*})\\d+;({.*})', r.text, re.MULTILINE)\n",
    "data1 = json.loads(dataReg.group(2))\n",
    "\n",
    "dataJson = data1[\"secondaryInfo\"][\"presModelMap\"][\"dataDictionary\"][\"presModelHolder\"][\"genDataDictionaryPresModel\"][\"dataSegments\"][\"0\"][\"dataColumns\"]"
   ]
  },
  {
   "cell_type": "markdown",
   "metadata": {},
   "source": [
    "Isolate what you want"
   ]
  },
  {
   "cell_type": "code",
   "execution_count": 6,
   "metadata": {
    "execution": {
     "iopub.execute_input": "2021-03-14T08:14:55.238805Z",
     "iopub.status.busy": "2021-03-14T08:14:55.238147Z",
     "iopub.status.idle": "2021-03-14T08:14:55.242323Z",
     "shell.execute_reply": "2021-03-14T08:14:55.243448Z"
    }
   },
   "outputs": [],
   "source": [
    "counties = dataJson[2]['dataValues'][:58]"
   ]
  },
  {
   "cell_type": "code",
   "execution_count": 7,
   "metadata": {
    "execution": {
     "iopub.execute_input": "2021-03-14T08:14:55.247258Z",
     "iopub.status.busy": "2021-03-14T08:14:55.246264Z",
     "iopub.status.idle": "2021-03-14T08:14:55.249485Z",
     "shell.execute_reply": "2021-03-14T08:14:55.250120Z"
    }
   },
   "outputs": [],
   "source": [
    "doses = dataJson[0]['dataValues'][3:61]"
   ]
  },
  {
   "cell_type": "markdown",
   "metadata": {},
   "source": [
    "Data formatting"
   ]
  },
  {
   "cell_type": "code",
   "execution_count": 8,
   "metadata": {
    "execution": {
     "iopub.execute_input": "2021-03-14T08:14:55.254643Z",
     "iopub.status.busy": "2021-03-14T08:14:55.253974Z",
     "iopub.status.idle": "2021-03-14T08:14:55.258701Z",
     "shell.execute_reply": "2021-03-14T08:14:55.257985Z"
    }
   },
   "outputs": [],
   "source": [
    "zipped = dict(zip(counties, doses))"
   ]
  },
  {
   "cell_type": "code",
   "execution_count": 9,
   "metadata": {
    "execution": {
     "iopub.execute_input": "2021-03-14T08:14:55.265349Z",
     "iopub.status.busy": "2021-03-14T08:14:55.264731Z",
     "iopub.status.idle": "2021-03-14T08:14:55.269219Z",
     "shell.execute_reply": "2021-03-14T08:14:55.268368Z"
    }
   },
   "outputs": [],
   "source": [
    "df = pd.Series(zipped).reset_index()"
   ]
  },
  {
   "cell_type": "code",
   "execution_count": 10,
   "metadata": {
    "execution": {
     "iopub.execute_input": "2021-03-14T08:14:55.273798Z",
     "iopub.status.busy": "2021-03-14T08:14:55.273154Z",
     "iopub.status.idle": "2021-03-14T08:14:55.277630Z",
     "shell.execute_reply": "2021-03-14T08:14:55.276903Z"
    }
   },
   "outputs": [],
   "source": [
    "df.columns = ['location','doses']"
   ]
  },
  {
   "cell_type": "markdown",
   "metadata": {},
   "source": [
    "Grab the overall California total"
   ]
  },
  {
   "cell_type": "code",
   "execution_count": 11,
   "metadata": {
    "execution": {
     "iopub.execute_input": "2021-03-14T08:14:55.282264Z",
     "iopub.status.busy": "2021-03-14T08:14:55.281643Z",
     "iopub.status.idle": "2021-03-14T08:14:55.286108Z",
     "shell.execute_reply": "2021-03-14T08:14:55.285012Z"
    }
   },
   "outputs": [],
   "source": [
    "add = {'location':'California','doses':dataJson[0]['dataValues'][2]}"
   ]
  },
  {
   "cell_type": "code",
   "execution_count": 12,
   "metadata": {
    "execution": {
     "iopub.execute_input": "2021-03-14T08:14:55.293311Z",
     "iopub.status.busy": "2021-03-14T08:14:55.292755Z",
     "iopub.status.idle": "2021-03-14T08:14:55.296408Z",
     "shell.execute_reply": "2021-03-14T08:14:55.295880Z"
    }
   },
   "outputs": [],
   "source": [
    "df = df.append(add, ignore_index=True)"
   ]
  },
  {
   "cell_type": "code",
   "execution_count": 13,
   "metadata": {
    "execution": {
     "iopub.execute_input": "2021-03-14T08:14:55.300763Z",
     "iopub.status.busy": "2021-03-14T08:14:55.300235Z",
     "iopub.status.idle": "2021-03-14T08:14:55.304356Z",
     "shell.execute_reply": "2021-03-14T08:14:55.303310Z"
    }
   },
   "outputs": [],
   "source": [
    "df = df.sort_values(by='location')"
   ]
  },
  {
   "cell_type": "code",
   "execution_count": 14,
   "metadata": {
    "execution": {
     "iopub.execute_input": "2021-03-14T08:14:55.310684Z",
     "iopub.status.busy": "2021-03-14T08:14:55.310075Z",
     "iopub.status.idle": "2021-03-14T08:14:55.312897Z",
     "shell.execute_reply": "2021-03-14T08:14:55.312347Z"
    }
   },
   "outputs": [],
   "source": [
    "df = df[df.location == 'California'].append(df[df.location != 'California']).reset_index(drop=True)"
   ]
  },
  {
   "cell_type": "code",
   "execution_count": null,
   "metadata": {},
   "outputs": [],
   "source": []
  },
  {
   "cell_type": "code",
   "execution_count": 15,
   "metadata": {
    "execution": {
     "iopub.execute_input": "2021-03-14T08:14:55.316777Z",
     "iopub.status.busy": "2021-03-14T08:14:55.315985Z",
     "iopub.status.idle": "2021-03-14T08:14:55.337016Z",
     "shell.execute_reply": "2021-03-14T08:14:55.336014Z"
    }
   },
   "outputs": [],
   "source": [
    "tz = pytz.timezone(\"America/New_York\")"
   ]
  },
  {
   "cell_type": "code",
   "execution_count": 16,
   "metadata": {
    "execution": {
     "iopub.execute_input": "2021-03-14T08:14:55.341539Z",
     "iopub.status.busy": "2021-03-14T08:14:55.340699Z",
     "iopub.status.idle": "2021-03-14T08:14:55.343904Z",
     "shell.execute_reply": "2021-03-14T08:14:55.344403Z"
    }
   },
   "outputs": [],
   "source": [
    "today = datetime.now(tz).date()"
   ]
  },
  {
   "cell_type": "code",
   "execution_count": 17,
   "metadata": {
    "execution": {
     "iopub.execute_input": "2021-03-14T08:14:55.348161Z",
     "iopub.status.busy": "2021-03-14T08:14:55.347283Z",
     "iopub.status.idle": "2021-03-14T08:14:55.351567Z",
     "shell.execute_reply": "2021-03-14T08:14:55.351083Z"
    }
   },
   "outputs": [],
   "source": [
    "data_dir = os.path.join(os.path.abspath(\"\"), \"data\")"
   ]
  },
  {
   "cell_type": "code",
   "execution_count": 18,
   "metadata": {
    "execution": {
     "iopub.execute_input": "2021-03-14T08:14:55.356409Z",
     "iopub.status.busy": "2021-03-14T08:14:55.355220Z",
     "iopub.status.idle": "2021-03-14T08:14:55.359631Z",
     "shell.execute_reply": "2021-03-14T08:14:55.360054Z"
    }
   },
   "outputs": [],
   "source": [
    "df.to_csv(os.path.join(data_dir, f\"{today}.csv\"), index=False)"
   ]
  },
  {
   "cell_type": "code",
   "execution_count": null,
   "metadata": {},
   "outputs": [],
   "source": []
  }
 ],
 "metadata": {
  "kernelspec": {
   "display_name": "Python 3",
   "language": "python",
   "name": "python3"
  },
  "language_info": {
   "codemirror_mode": {
    "name": "ipython",
    "version": 3
   },
   "file_extension": ".py",
   "mimetype": "text/x-python",
   "name": "python",
   "nbconvert_exporter": "python",
   "pygments_lexer": "ipython3",
   "version": "3.8.8"
  }
 },
 "nbformat": 4,
 "nbformat_minor": 4
}
