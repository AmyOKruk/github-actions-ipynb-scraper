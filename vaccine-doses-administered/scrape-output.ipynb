{
 "cells": [
  {
   "cell_type": "markdown",
   "metadata": {},
   "source": [
    "# California COVID vaccinations scrape"
   ]
  },
  {
   "cell_type": "markdown",
   "metadata": {},
   "source": [
    "By [Amy O'Kruk](https://twitter.com/amyokruk)"
   ]
  },
  {
   "cell_type": "markdown",
   "metadata": {},
   "source": [
    "Downloads data on vaccine doses administered by county and statewide from a Tableau-powered dashboard from the California Department of Public Health."
   ]
  },
  {
   "cell_type": "code",
   "execution_count": 1,
   "metadata": {
    "execution": {
     "iopub.execute_input": "2021-03-13T20:40:45.791400Z",
     "iopub.status.busy": "2021-03-13T20:40:45.790698Z",
     "iopub.status.idle": "2021-03-13T20:40:46.186568Z",
     "shell.execute_reply": "2021-03-13T20:40:46.185402Z"
    }
   },
   "outputs": [],
   "source": [
    "import pandas as pd\n",
    "import requests\n",
    "from bs4 import BeautifulSoup\n",
    "import json\n",
    "import re\n",
    "import time\n",
    "from time import gmtime, strftime \n",
    "import os\n",
    "import pytz\n",
    "from datetime import datetime"
   ]
  },
  {
   "cell_type": "markdown",
   "metadata": {},
   "source": [
    "Scrape the dashboard page"
   ]
  },
  {
   "cell_type": "code",
   "execution_count": 2,
   "metadata": {
    "execution": {
     "iopub.execute_input": "2021-03-13T20:40:46.192998Z",
     "iopub.status.busy": "2021-03-13T20:40:46.192090Z",
     "iopub.status.idle": "2021-03-13T20:40:46.804875Z",
     "shell.execute_reply": "2021-03-13T20:40:46.804377Z"
    }
   },
   "outputs": [],
   "source": [
    "url = \"https://public.tableau.com/interactive/views/COVID-19VaccineDashboardPublic/Vaccine?:embed=y&:showVizHome=n&:apiID=host0\"\n",
    "\n",
    "r = requests.get(url)\n",
    "soup = BeautifulSoup(r.text, \"html.parser\")"
   ]
  },
  {
   "cell_type": "code",
   "execution_count": 3,
   "metadata": {
    "execution": {
     "iopub.execute_input": "2021-03-13T20:40:46.809641Z",
     "iopub.status.busy": "2021-03-13T20:40:46.809087Z",
     "iopub.status.idle": "2021-03-13T20:40:46.812759Z",
     "shell.execute_reply": "2021-03-13T20:40:46.812241Z"
    }
   },
   "outputs": [],
   "source": [
    "tableauData = json.loads(soup.find(\"textarea\",{\"id\": \"tsConfigContainer\"}).text)"
   ]
  },
  {
   "cell_type": "markdown",
   "metadata": {},
   "source": [
    "Get the link to the Tableau data"
   ]
  },
  {
   "cell_type": "code",
   "execution_count": 4,
   "metadata": {
    "execution": {
     "iopub.execute_input": "2021-03-13T20:40:46.817271Z",
     "iopub.status.busy": "2021-03-13T20:40:46.816747Z",
     "iopub.status.idle": "2021-03-13T20:40:46.821121Z",
     "shell.execute_reply": "2021-03-13T20:40:46.820654Z"
    }
   },
   "outputs": [],
   "source": [
    "dataUrl = f'https://public.tableau.com{tableauData[\"vizql_root\"]}/bootstrapSession/sessions/{tableauData[\"sessionid\"]}'"
   ]
  },
  {
   "cell_type": "code",
   "execution_count": 5,
   "metadata": {
    "execution": {
     "iopub.execute_input": "2021-03-13T20:40:46.828103Z",
     "iopub.status.busy": "2021-03-13T20:40:46.827486Z",
     "iopub.status.idle": "2021-03-13T20:40:47.056476Z",
     "shell.execute_reply": "2021-03-13T20:40:47.055957Z"
    }
   },
   "outputs": [],
   "source": [
    "r = requests.post(dataUrl, data= {\n",
    "    \"sheet_id\": tableauData[\"sheetId\"],\n",
    "})\n",
    "\n",
    "dataReg = re.search('\\d+;({.*})\\d+;({.*})', r.text, re.MULTILINE)\n",
    "data1 = json.loads(dataReg.group(2))\n",
    "\n",
    "dataJson = data1[\"secondaryInfo\"][\"presModelMap\"][\"dataDictionary\"][\"presModelHolder\"][\"genDataDictionaryPresModel\"][\"dataSegments\"][\"0\"][\"dataColumns\"]"
   ]
  },
  {
   "cell_type": "markdown",
   "metadata": {},
   "source": [
    "Isolate what you want"
   ]
  },
  {
   "cell_type": "code",
   "execution_count": 6,
   "metadata": {
    "execution": {
     "iopub.execute_input": "2021-03-13T20:40:47.060363Z",
     "iopub.status.busy": "2021-03-13T20:40:47.059846Z",
     "iopub.status.idle": "2021-03-13T20:40:47.062004Z",
     "shell.execute_reply": "2021-03-13T20:40:47.061445Z"
    }
   },
   "outputs": [],
   "source": [
    "counties = dataJson[2]['dataValues'][:58]"
   ]
  },
  {
   "cell_type": "code",
   "execution_count": 7,
   "metadata": {
    "execution": {
     "iopub.execute_input": "2021-03-13T20:40:47.065603Z",
     "iopub.status.busy": "2021-03-13T20:40:47.065052Z",
     "iopub.status.idle": "2021-03-13T20:40:47.067280Z",
     "shell.execute_reply": "2021-03-13T20:40:47.066570Z"
    }
   },
   "outputs": [],
   "source": [
    "doses = dataJson[0]['dataValues'][3:61]"
   ]
  },
  {
   "cell_type": "markdown",
   "metadata": {},
   "source": [
    "Data formatting"
   ]
  },
  {
   "cell_type": "code",
   "execution_count": 8,
   "metadata": {
    "execution": {
     "iopub.execute_input": "2021-03-13T20:40:47.071252Z",
     "iopub.status.busy": "2021-03-13T20:40:47.070731Z",
     "iopub.status.idle": "2021-03-13T20:40:47.072174Z",
     "shell.execute_reply": "2021-03-13T20:40:47.072687Z"
    }
   },
   "outputs": [],
   "source": [
    "zipped = dict(zip(counties, doses))"
   ]
  },
  {
   "cell_type": "code",
   "execution_count": 9,
   "metadata": {
    "execution": {
     "iopub.execute_input": "2021-03-13T20:40:47.080176Z",
     "iopub.status.busy": "2021-03-13T20:40:47.079650Z",
     "iopub.status.idle": "2021-03-13T20:40:47.081884Z",
     "shell.execute_reply": "2021-03-13T20:40:47.081330Z"
    }
   },
   "outputs": [],
   "source": [
    "df = pd.Series(zipped).reset_index()"
   ]
  },
  {
   "cell_type": "code",
   "execution_count": 10,
   "metadata": {
    "execution": {
     "iopub.execute_input": "2021-03-13T20:40:47.085451Z",
     "iopub.status.busy": "2021-03-13T20:40:47.084927Z",
     "iopub.status.idle": "2021-03-13T20:40:47.086655Z",
     "shell.execute_reply": "2021-03-13T20:40:47.087084Z"
    }
   },
   "outputs": [],
   "source": [
    "df.columns = ['location','doses']"
   ]
  },
  {
   "cell_type": "markdown",
   "metadata": {},
   "source": [
    "Grab the overall California total"
   ]
  },
  {
   "cell_type": "code",
   "execution_count": 11,
   "metadata": {
    "execution": {
     "iopub.execute_input": "2021-03-13T20:40:47.091511Z",
     "iopub.status.busy": "2021-03-13T20:40:47.090199Z",
     "iopub.status.idle": "2021-03-13T20:40:47.092095Z",
     "shell.execute_reply": "2021-03-13T20:40:47.092520Z"
    }
   },
   "outputs": [],
   "source": [
    "add = {'location':'California','doses':dataJson[0]['dataValues'][2]}"
   ]
  },
  {
   "cell_type": "code",
   "execution_count": 12,
   "metadata": {
    "execution": {
     "iopub.execute_input": "2021-03-13T20:40:47.099456Z",
     "iopub.status.busy": "2021-03-13T20:40:47.098668Z",
     "iopub.status.idle": "2021-03-13T20:40:47.100036Z",
     "shell.execute_reply": "2021-03-13T20:40:47.100745Z"
    }
   },
   "outputs": [],
   "source": [
    "df = df.append(add, ignore_index=True)"
   ]
  },
  {
   "cell_type": "code",
   "execution_count": 13,
   "metadata": {
    "execution": {
     "iopub.execute_input": "2021-03-13T20:40:47.105411Z",
     "iopub.status.busy": "2021-03-13T20:40:47.104889Z",
     "iopub.status.idle": "2021-03-13T20:40:47.107196Z",
     "shell.execute_reply": "2021-03-13T20:40:47.106721Z"
    }
   },
   "outputs": [],
   "source": [
    "df = df.sort_values(by='location')"
   ]
  },
  {
   "cell_type": "code",
   "execution_count": 14,
   "metadata": {
    "execution": {
     "iopub.execute_input": "2021-03-13T20:40:47.116155Z",
     "iopub.status.busy": "2021-03-13T20:40:47.114994Z",
     "iopub.status.idle": "2021-03-13T20:40:47.117982Z",
     "shell.execute_reply": "2021-03-13T20:40:47.117077Z"
    }
   },
   "outputs": [],
   "source": [
    "df = df[df.location == 'California'].append(df[df.location != 'California']).reset_index(drop=True)"
   ]
  },
  {
   "cell_type": "code",
   "execution_count": null,
   "metadata": {},
   "outputs": [],
   "source": []
  },
  {
   "cell_type": "code",
   "execution_count": 15,
   "metadata": {
    "execution": {
     "iopub.execute_input": "2021-03-13T20:40:47.121858Z",
     "iopub.status.busy": "2021-03-13T20:40:47.121314Z",
     "iopub.status.idle": "2021-03-13T20:40:47.138935Z",
     "shell.execute_reply": "2021-03-13T20:40:47.138445Z"
    }
   },
   "outputs": [],
   "source": [
    "tz = pytz.timezone(\"America/New_York\")"
   ]
  },
  {
   "cell_type": "code",
   "execution_count": 16,
   "metadata": {
    "execution": {
     "iopub.execute_input": "2021-03-13T20:40:47.143598Z",
     "iopub.status.busy": "2021-03-13T20:40:47.142452Z",
     "iopub.status.idle": "2021-03-13T20:40:47.144194Z",
     "shell.execute_reply": "2021-03-13T20:40:47.144622Z"
    }
   },
   "outputs": [],
   "source": [
    "today = datetime.now(tz).date()"
   ]
  },
  {
   "cell_type": "code",
   "execution_count": 17,
   "metadata": {
    "execution": {
     "iopub.execute_input": "2021-03-13T20:40:47.149144Z",
     "iopub.status.busy": "2021-03-13T20:40:47.148068Z",
     "iopub.status.idle": "2021-03-13T20:40:47.150378Z",
     "shell.execute_reply": "2021-03-13T20:40:47.149911Z"
    }
   },
   "outputs": [],
   "source": [
    "data_dir = os.path.join(os.path.abspath(\"\"), \"data\")"
   ]
  },
  {
   "cell_type": "code",
   "execution_count": 18,
   "metadata": {
    "execution": {
     "iopub.execute_input": "2021-03-13T20:40:47.154980Z",
     "iopub.status.busy": "2021-03-13T20:40:47.153814Z",
     "iopub.status.idle": "2021-03-13T20:40:47.158441Z",
     "shell.execute_reply": "2021-03-13T20:40:47.158000Z"
    }
   },
   "outputs": [],
   "source": [
    "df.to_csv(os.path.join(data_dir, f\"{today}.csv\"), index=False)"
   ]
  },
  {
   "cell_type": "code",
   "execution_count": null,
   "metadata": {},
   "outputs": [],
   "source": []
  }
 ],
 "metadata": {
  "kernelspec": {
   "display_name": "Python 3",
   "language": "python",
   "name": "python3"
  },
  "language_info": {
   "codemirror_mode": {
    "name": "ipython",
    "version": 3
   },
   "file_extension": ".py",
   "mimetype": "text/x-python",
   "name": "python",
   "nbconvert_exporter": "python",
   "pygments_lexer": "ipython3",
   "version": "3.8.8"
  }
 },
 "nbformat": 4,
 "nbformat_minor": 4
}
