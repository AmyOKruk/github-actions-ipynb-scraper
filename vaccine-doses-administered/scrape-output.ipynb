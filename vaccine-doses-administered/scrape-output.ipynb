{
 "cells": [
  {
   "cell_type": "markdown",
   "metadata": {},
   "source": [
    "# California COVID vaccinations scrape"
   ]
  },
  {
   "cell_type": "markdown",
   "metadata": {},
   "source": [
    "By [Amy O'Kruk](https://twitter.com/amyokruk)"
   ]
  },
  {
   "cell_type": "markdown",
   "metadata": {},
   "source": [
    "Downloads data on vaccine doses administered by county and statewide from a Tableau-powered dashboard from the California Department of Public Health."
   ]
  },
  {
   "cell_type": "code",
   "execution_count": 1,
   "metadata": {
    "execution": {
     "iopub.execute_input": "2021-03-13T21:11:24.096022Z",
     "iopub.status.busy": "2021-03-13T21:11:24.095438Z",
     "iopub.status.idle": "2021-03-13T21:11:24.445340Z",
     "shell.execute_reply": "2021-03-13T21:11:24.444492Z"
    }
   },
   "outputs": [],
   "source": [
    "import pandas as pd\n",
    "import requests\n",
    "from bs4 import BeautifulSoup\n",
    "import json\n",
    "import re\n",
    "import time\n",
    "from time import gmtime, strftime \n",
    "import os\n",
    "import pytz\n",
    "from datetime import datetime"
   ]
  },
  {
   "cell_type": "markdown",
   "metadata": {},
   "source": [
    "Scrape the dashboard page"
   ]
  },
  {
   "cell_type": "code",
   "execution_count": 2,
   "metadata": {
    "execution": {
     "iopub.execute_input": "2021-03-13T21:11:24.451288Z",
     "iopub.status.busy": "2021-03-13T21:11:24.450211Z",
     "iopub.status.idle": "2021-03-13T21:11:24.843830Z",
     "shell.execute_reply": "2021-03-13T21:11:24.843362Z"
    }
   },
   "outputs": [],
   "source": [
    "url = \"https://public.tableau.com/interactive/views/COVID-19VaccineDashboardPublic/Vaccine?:embed=y&:showVizHome=n&:apiID=host0\"\n",
    "\n",
    "r = requests.get(url)\n",
    "soup = BeautifulSoup(r.text, \"html.parser\")"
   ]
  },
  {
   "cell_type": "code",
   "execution_count": 3,
   "metadata": {
    "execution": {
     "iopub.execute_input": "2021-03-13T21:11:24.848482Z",
     "iopub.status.busy": "2021-03-13T21:11:24.847922Z",
     "iopub.status.idle": "2021-03-13T21:11:24.851807Z",
     "shell.execute_reply": "2021-03-13T21:11:24.851341Z"
    }
   },
   "outputs": [],
   "source": [
    "tableauData = json.loads(soup.find(\"textarea\",{\"id\": \"tsConfigContainer\"}).text)"
   ]
  },
  {
   "cell_type": "markdown",
   "metadata": {},
   "source": [
    "Get the link to the Tableau data"
   ]
  },
  {
   "cell_type": "code",
   "execution_count": 4,
   "metadata": {
    "execution": {
     "iopub.execute_input": "2021-03-13T21:11:24.855199Z",
     "iopub.status.busy": "2021-03-13T21:11:24.854666Z",
     "iopub.status.idle": "2021-03-13T21:11:24.857905Z",
     "shell.execute_reply": "2021-03-13T21:11:24.858342Z"
    }
   },
   "outputs": [],
   "source": [
    "dataUrl = f'https://public.tableau.com{tableauData[\"vizql_root\"]}/bootstrapSession/sessions/{tableauData[\"sessionid\"]}'"
   ]
  },
  {
   "cell_type": "code",
   "execution_count": 5,
   "metadata": {
    "execution": {
     "iopub.execute_input": "2021-03-13T21:11:24.864700Z",
     "iopub.status.busy": "2021-03-13T21:11:24.864111Z",
     "iopub.status.idle": "2021-03-13T21:11:25.041127Z",
     "shell.execute_reply": "2021-03-13T21:11:25.040634Z"
    }
   },
   "outputs": [],
   "source": [
    "r = requests.post(dataUrl, data= {\n",
    "    \"sheet_id\": tableauData[\"sheetId\"],\n",
    "})\n",
    "\n",
    "dataReg = re.search('\\d+;({.*})\\d+;({.*})', r.text, re.MULTILINE)\n",
    "data1 = json.loads(dataReg.group(2))\n",
    "\n",
    "dataJson = data1[\"secondaryInfo\"][\"presModelMap\"][\"dataDictionary\"][\"presModelHolder\"][\"genDataDictionaryPresModel\"][\"dataSegments\"][\"0\"][\"dataColumns\"]"
   ]
  },
  {
   "cell_type": "markdown",
   "metadata": {},
   "source": [
    "Isolate what you want"
   ]
  },
  {
   "cell_type": "code",
   "execution_count": 6,
   "metadata": {
    "execution": {
     "iopub.execute_input": "2021-03-13T21:11:25.044781Z",
     "iopub.status.busy": "2021-03-13T21:11:25.044225Z",
     "iopub.status.idle": "2021-03-13T21:11:25.048091Z",
     "shell.execute_reply": "2021-03-13T21:11:25.047543Z"
    }
   },
   "outputs": [],
   "source": [
    "counties = dataJson[2]['dataValues'][:58]"
   ]
  },
  {
   "cell_type": "code",
   "execution_count": 7,
   "metadata": {
    "execution": {
     "iopub.execute_input": "2021-03-13T21:11:25.054576Z",
     "iopub.status.busy": "2021-03-13T21:11:25.052640Z",
     "iopub.status.idle": "2021-03-13T21:11:25.057790Z",
     "shell.execute_reply": "2021-03-13T21:11:25.058412Z"
    }
   },
   "outputs": [],
   "source": [
    "doses = dataJson[0]['dataValues'][3:61]"
   ]
  },
  {
   "cell_type": "markdown",
   "metadata": {},
   "source": [
    "Data formatting"
   ]
  },
  {
   "cell_type": "code",
   "execution_count": 8,
   "metadata": {
    "execution": {
     "iopub.execute_input": "2021-03-13T21:11:25.063570Z",
     "iopub.status.busy": "2021-03-13T21:11:25.061838Z",
     "iopub.status.idle": "2021-03-13T21:11:25.067377Z",
     "shell.execute_reply": "2021-03-13T21:11:25.066744Z"
    }
   },
   "outputs": [],
   "source": [
    "zipped = dict(zip(counties, doses))"
   ]
  },
  {
   "cell_type": "code",
   "execution_count": 9,
   "metadata": {
    "execution": {
     "iopub.execute_input": "2021-03-13T21:11:25.074234Z",
     "iopub.status.busy": "2021-03-13T21:11:25.072892Z",
     "iopub.status.idle": "2021-03-13T21:11:25.074866Z",
     "shell.execute_reply": "2021-03-13T21:11:25.075320Z"
    }
   },
   "outputs": [],
   "source": [
    "df = pd.Series(zipped).reset_index()"
   ]
  },
  {
   "cell_type": "code",
   "execution_count": 10,
   "metadata": {
    "execution": {
     "iopub.execute_input": "2021-03-13T21:11:25.079682Z",
     "iopub.status.busy": "2021-03-13T21:11:25.078568Z",
     "iopub.status.idle": "2021-03-13T21:11:25.080353Z",
     "shell.execute_reply": "2021-03-13T21:11:25.080804Z"
    }
   },
   "outputs": [],
   "source": [
    "df.columns = ['location','doses']"
   ]
  },
  {
   "cell_type": "markdown",
   "metadata": {},
   "source": [
    "Grab the overall California total"
   ]
  },
  {
   "cell_type": "code",
   "execution_count": 11,
   "metadata": {
    "execution": {
     "iopub.execute_input": "2021-03-13T21:11:25.085225Z",
     "iopub.status.busy": "2021-03-13T21:11:25.084035Z",
     "iopub.status.idle": "2021-03-13T21:11:25.085841Z",
     "shell.execute_reply": "2021-03-13T21:11:25.086303Z"
    }
   },
   "outputs": [],
   "source": [
    "add = {'location':'California','doses':dataJson[0]['dataValues'][2]}"
   ]
  },
  {
   "cell_type": "code",
   "execution_count": 12,
   "metadata": {
    "execution": {
     "iopub.execute_input": "2021-03-13T21:11:25.092951Z",
     "iopub.status.busy": "2021-03-13T21:11:25.091857Z",
     "iopub.status.idle": "2021-03-13T21:11:25.093625Z",
     "shell.execute_reply": "2021-03-13T21:11:25.094104Z"
    }
   },
   "outputs": [],
   "source": [
    "df = df.append(add, ignore_index=True)"
   ]
  },
  {
   "cell_type": "code",
   "execution_count": 13,
   "metadata": {
    "execution": {
     "iopub.execute_input": "2021-03-13T21:11:25.099070Z",
     "iopub.status.busy": "2021-03-13T21:11:25.097830Z",
     "iopub.status.idle": "2021-03-13T21:11:25.099657Z",
     "shell.execute_reply": "2021-03-13T21:11:25.100096Z"
    }
   },
   "outputs": [],
   "source": [
    "df = df.sort_values(by='location')"
   ]
  },
  {
   "cell_type": "code",
   "execution_count": 14,
   "metadata": {
    "execution": {
     "iopub.execute_input": "2021-03-13T21:11:25.106367Z",
     "iopub.status.busy": "2021-03-13T21:11:25.105199Z",
     "iopub.status.idle": "2021-03-13T21:11:25.106948Z",
     "shell.execute_reply": "2021-03-13T21:11:25.107389Z"
    }
   },
   "outputs": [],
   "source": [
    "df = df[df.location == 'California'].append(df[df.location != 'California']).reset_index(drop=True)"
   ]
  },
  {
   "cell_type": "code",
   "execution_count": null,
   "metadata": {},
   "outputs": [],
   "source": []
  },
  {
   "cell_type": "code",
   "execution_count": 15,
   "metadata": {
    "execution": {
     "iopub.execute_input": "2021-03-13T21:11:25.110666Z",
     "iopub.status.busy": "2021-03-13T21:11:25.110143Z",
     "iopub.status.idle": "2021-03-13T21:11:25.127558Z",
     "shell.execute_reply": "2021-03-13T21:11:25.127043Z"
    }
   },
   "outputs": [],
   "source": [
    "tz = pytz.timezone(\"America/New_York\")"
   ]
  },
  {
   "cell_type": "code",
   "execution_count": 16,
   "metadata": {
    "execution": {
     "iopub.execute_input": "2021-03-13T21:11:25.131905Z",
     "iopub.status.busy": "2021-03-13T21:11:25.130712Z",
     "iopub.status.idle": "2021-03-13T21:11:25.132539Z",
     "shell.execute_reply": "2021-03-13T21:11:25.132978Z"
    }
   },
   "outputs": [],
   "source": [
    "today = datetime.now(tz).date()"
   ]
  },
  {
   "cell_type": "code",
   "execution_count": 17,
   "metadata": {
    "execution": {
     "iopub.execute_input": "2021-03-13T21:11:25.137055Z",
     "iopub.status.busy": "2021-03-13T21:11:25.135898Z",
     "iopub.status.idle": "2021-03-13T21:11:25.137652Z",
     "shell.execute_reply": "2021-03-13T21:11:25.138091Z"
    }
   },
   "outputs": [],
   "source": [
    "data_dir = os.path.join(os.path.abspath(\"\"), \"data\")"
   ]
  },
  {
   "cell_type": "code",
   "execution_count": 18,
   "metadata": {
    "execution": {
     "iopub.execute_input": "2021-03-13T21:11:25.142066Z",
     "iopub.status.busy": "2021-03-13T21:11:25.140971Z",
     "iopub.status.idle": "2021-03-13T21:11:25.144976Z",
     "shell.execute_reply": "2021-03-13T21:11:25.145386Z"
    }
   },
   "outputs": [],
   "source": [
    "df.to_csv(os.path.join(data_dir, f\"{today}.csv\"), index=False)"
   ]
  },
  {
   "cell_type": "code",
   "execution_count": null,
   "metadata": {},
   "outputs": [],
   "source": []
  }
 ],
 "metadata": {
  "kernelspec": {
   "display_name": "Python 3",
   "language": "python",
   "name": "python3"
  },
  "language_info": {
   "codemirror_mode": {
    "name": "ipython",
    "version": 3
   },
   "file_extension": ".py",
   "mimetype": "text/x-python",
   "name": "python",
   "nbconvert_exporter": "python",
   "pygments_lexer": "ipython3",
   "version": "3.8.8"
  }
 },
 "nbformat": 4,
 "nbformat_minor": 4
}
