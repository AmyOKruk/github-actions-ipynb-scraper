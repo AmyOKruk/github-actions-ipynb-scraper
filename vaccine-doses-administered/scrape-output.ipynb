{
 "cells": [
  {
   "cell_type": "markdown",
   "metadata": {},
   "source": [
    "# California COVID vaccinations scrape"
   ]
  },
  {
   "cell_type": "markdown",
   "metadata": {},
   "source": [
    "By [Amy O'Kruk](https://twitter.com/amyokruk)"
   ]
  },
  {
   "cell_type": "markdown",
   "metadata": {},
   "source": [
    "Downloads data on vaccine doses administered by county and statewide from a Tableau-powered dashboard from the California Department of Public Health."
   ]
  },
  {
   "cell_type": "code",
   "execution_count": 1,
   "metadata": {
    "execution": {
     "iopub.execute_input": "2021-03-20T18:50:37.654820Z",
     "iopub.status.busy": "2021-03-20T18:50:37.653842Z",
     "iopub.status.idle": "2021-03-20T18:50:38.050836Z",
     "shell.execute_reply": "2021-03-20T18:50:38.050220Z"
    }
   },
   "outputs": [],
   "source": [
    "import pandas as pd\n",
    "import requests\n",
    "from bs4 import BeautifulSoup\n",
    "import json\n",
    "import re\n",
    "import time\n",
    "from time import gmtime, strftime \n",
    "import os\n",
    "import pytz\n",
    "from datetime import datetime"
   ]
  },
  {
   "cell_type": "markdown",
   "metadata": {},
   "source": [
    "Scrape the dashboard page"
   ]
  },
  {
   "cell_type": "code",
   "execution_count": 2,
   "metadata": {
    "execution": {
     "iopub.execute_input": "2021-03-20T18:50:38.056140Z",
     "iopub.status.busy": "2021-03-20T18:50:38.054037Z",
     "iopub.status.idle": "2021-03-20T18:50:38.586032Z",
     "shell.execute_reply": "2021-03-20T18:50:38.585267Z"
    }
   },
   "outputs": [],
   "source": [
    "url = \"https://public.tableau.com/interactive/views/COVID-19VaccineDashboardPublic/Vaccine?:embed=y&:showVizHome=n&:apiID=host0\"\n",
    "\n",
    "r = requests.get(url)\n",
    "soup = BeautifulSoup(r.text, \"html.parser\")"
   ]
  },
  {
   "cell_type": "code",
   "execution_count": 3,
   "metadata": {
    "execution": {
     "iopub.execute_input": "2021-03-20T18:50:38.590505Z",
     "iopub.status.busy": "2021-03-20T18:50:38.590022Z",
     "iopub.status.idle": "2021-03-20T18:50:38.593339Z",
     "shell.execute_reply": "2021-03-20T18:50:38.592917Z"
    }
   },
   "outputs": [],
   "source": [
    "tableauData = json.loads(soup.find(\"textarea\",{\"id\": \"tsConfigContainer\"}).text)"
   ]
  },
  {
   "cell_type": "markdown",
   "metadata": {},
   "source": [
    "Get the link to the Tableau data"
   ]
  },
  {
   "cell_type": "code",
   "execution_count": 4,
   "metadata": {
    "execution": {
     "iopub.execute_input": "2021-03-20T18:50:38.597072Z",
     "iopub.status.busy": "2021-03-20T18:50:38.596069Z",
     "iopub.status.idle": "2021-03-20T18:50:38.597930Z",
     "shell.execute_reply": "2021-03-20T18:50:38.598355Z"
    }
   },
   "outputs": [],
   "source": [
    "dataUrl = f'https://public.tableau.com{tableauData[\"vizql_root\"]}/bootstrapSession/sessions/{tableauData[\"sessionid\"]}'"
   ]
  },
  {
   "cell_type": "code",
   "execution_count": 5,
   "metadata": {
    "execution": {
     "iopub.execute_input": "2021-03-20T18:50:38.604609Z",
     "iopub.status.busy": "2021-03-20T18:50:38.604061Z",
     "iopub.status.idle": "2021-03-20T18:50:39.019629Z",
     "shell.execute_reply": "2021-03-20T18:50:39.018558Z"
    }
   },
   "outputs": [],
   "source": [
    "r = requests.post(dataUrl, data= {\n",
    "    \"sheet_id\": tableauData[\"sheetId\"],\n",
    "})\n",
    "\n",
    "dataReg = re.search('\\d+;({.*})\\d+;({.*})', r.text, re.MULTILINE)\n",
    "data1 = json.loads(dataReg.group(2))\n",
    "\n",
    "dataJson = data1[\"secondaryInfo\"][\"presModelMap\"][\"dataDictionary\"][\"presModelHolder\"][\"genDataDictionaryPresModel\"][\"dataSegments\"][\"0\"][\"dataColumns\"]"
   ]
  },
  {
   "cell_type": "markdown",
   "metadata": {},
   "source": [
    "Isolate what you want"
   ]
  },
  {
   "cell_type": "code",
   "execution_count": 6,
   "metadata": {
    "execution": {
     "iopub.execute_input": "2021-03-20T18:50:39.024098Z",
     "iopub.status.busy": "2021-03-20T18:50:39.023014Z",
     "iopub.status.idle": "2021-03-20T18:50:39.024728Z",
     "shell.execute_reply": "2021-03-20T18:50:39.025167Z"
    }
   },
   "outputs": [],
   "source": [
    "counties = dataJson[2]['dataValues'][:58]"
   ]
  },
  {
   "cell_type": "code",
   "execution_count": 7,
   "metadata": {
    "execution": {
     "iopub.execute_input": "2021-03-20T18:50:39.028921Z",
     "iopub.status.busy": "2021-03-20T18:50:39.027989Z",
     "iopub.status.idle": "2021-03-20T18:50:39.029659Z",
     "shell.execute_reply": "2021-03-20T18:50:39.030058Z"
    }
   },
   "outputs": [],
   "source": [
    "doses = dataJson[0]['dataValues'][3:61]"
   ]
  },
  {
   "cell_type": "markdown",
   "metadata": {},
   "source": [
    "Data formatting"
   ]
  },
  {
   "cell_type": "code",
   "execution_count": 8,
   "metadata": {
    "execution": {
     "iopub.execute_input": "2021-03-20T18:50:39.033720Z",
     "iopub.status.busy": "2021-03-20T18:50:39.032766Z",
     "iopub.status.idle": "2021-03-20T18:50:39.034473Z",
     "shell.execute_reply": "2021-03-20T18:50:39.034898Z"
    }
   },
   "outputs": [],
   "source": [
    "zipped = dict(zip(counties, doses))"
   ]
  },
  {
   "cell_type": "code",
   "execution_count": 9,
   "metadata": {
    "execution": {
     "iopub.execute_input": "2021-03-20T18:50:39.040949Z",
     "iopub.status.busy": "2021-03-20T18:50:39.039848Z",
     "iopub.status.idle": "2021-03-20T18:50:39.041535Z",
     "shell.execute_reply": "2021-03-20T18:50:39.041932Z"
    }
   },
   "outputs": [],
   "source": [
    "df = pd.Series(zipped).reset_index()"
   ]
  },
  {
   "cell_type": "code",
   "execution_count": 10,
   "metadata": {
    "execution": {
     "iopub.execute_input": "2021-03-20T18:50:39.045860Z",
     "iopub.status.busy": "2021-03-20T18:50:39.044908Z",
     "iopub.status.idle": "2021-03-20T18:50:39.046621Z",
     "shell.execute_reply": "2021-03-20T18:50:39.047016Z"
    }
   },
   "outputs": [],
   "source": [
    "df.columns = ['location','doses']"
   ]
  },
  {
   "cell_type": "markdown",
   "metadata": {},
   "source": [
    "Grab the overall California total"
   ]
  },
  {
   "cell_type": "code",
   "execution_count": 11,
   "metadata": {
    "execution": {
     "iopub.execute_input": "2021-03-20T18:50:39.051136Z",
     "iopub.status.busy": "2021-03-20T18:50:39.050002Z",
     "iopub.status.idle": "2021-03-20T18:50:39.051770Z",
     "shell.execute_reply": "2021-03-20T18:50:39.052163Z"
    }
   },
   "outputs": [],
   "source": [
    "add = {'location':'California','doses':dataJson[0]['dataValues'][2]}"
   ]
  },
  {
   "cell_type": "code",
   "execution_count": 12,
   "metadata": {
    "execution": {
     "iopub.execute_input": "2021-03-20T18:50:39.058669Z",
     "iopub.status.busy": "2021-03-20T18:50:39.057561Z",
     "iopub.status.idle": "2021-03-20T18:50:39.059226Z",
     "shell.execute_reply": "2021-03-20T18:50:39.059616Z"
    }
   },
   "outputs": [],
   "source": [
    "df = df.append(add, ignore_index=True)"
   ]
  },
  {
   "cell_type": "code",
   "execution_count": 13,
   "metadata": {
    "execution": {
     "iopub.execute_input": "2021-03-20T18:50:39.063987Z",
     "iopub.status.busy": "2021-03-20T18:50:39.063150Z",
     "iopub.status.idle": "2021-03-20T18:50:39.064846Z",
     "shell.execute_reply": "2021-03-20T18:50:39.065242Z"
    }
   },
   "outputs": [],
   "source": [
    "df = df.sort_values(by='location')"
   ]
  },
  {
   "cell_type": "code",
   "execution_count": 14,
   "metadata": {
    "execution": {
     "iopub.execute_input": "2021-03-20T18:50:39.071421Z",
     "iopub.status.busy": "2021-03-20T18:50:39.070352Z",
     "iopub.status.idle": "2021-03-20T18:50:39.072021Z",
     "shell.execute_reply": "2021-03-20T18:50:39.072444Z"
    }
   },
   "outputs": [],
   "source": [
    "df = df[df.location == 'California'].append(df[df.location != 'California']).reset_index(drop=True)"
   ]
  },
  {
   "cell_type": "code",
   "execution_count": null,
   "metadata": {},
   "outputs": [],
   "source": []
  },
  {
   "cell_type": "code",
   "execution_count": 15,
   "metadata": {
    "execution": {
     "iopub.execute_input": "2021-03-20T18:50:39.075715Z",
     "iopub.status.busy": "2021-03-20T18:50:39.075245Z",
     "iopub.status.idle": "2021-03-20T18:50:39.091535Z",
     "shell.execute_reply": "2021-03-20T18:50:39.091051Z"
    }
   },
   "outputs": [],
   "source": [
    "tz = pytz.timezone(\"America/New_York\")"
   ]
  },
  {
   "cell_type": "code",
   "execution_count": 16,
   "metadata": {
    "execution": {
     "iopub.execute_input": "2021-03-20T18:50:39.094899Z",
     "iopub.status.busy": "2021-03-20T18:50:39.094123Z",
     "iopub.status.idle": "2021-03-20T18:50:39.096158Z",
     "shell.execute_reply": "2021-03-20T18:50:39.095738Z"
    }
   },
   "outputs": [],
   "source": [
    "today = datetime.now(tz).date()"
   ]
  },
  {
   "cell_type": "code",
   "execution_count": 17,
   "metadata": {
    "execution": {
     "iopub.execute_input": "2021-03-20T18:50:39.100320Z",
     "iopub.status.busy": "2021-03-20T18:50:39.099205Z",
     "iopub.status.idle": "2021-03-20T18:50:39.100934Z",
     "shell.execute_reply": "2021-03-20T18:50:39.101348Z"
    }
   },
   "outputs": [],
   "source": [
    "data_dir = os.path.join(os.path.abspath(\"\"), \"data\")"
   ]
  },
  {
   "cell_type": "code",
   "execution_count": 18,
   "metadata": {
    "execution": {
     "iopub.execute_input": "2021-03-20T18:50:39.106369Z",
     "iopub.status.busy": "2021-03-20T18:50:39.104200Z",
     "iopub.status.idle": "2021-03-20T18:50:39.108625Z",
     "shell.execute_reply": "2021-03-20T18:50:39.108151Z"
    }
   },
   "outputs": [],
   "source": [
    "df.to_csv(os.path.join(data_dir, f\"{today}.csv\"), index=False)"
   ]
  },
  {
   "cell_type": "code",
   "execution_count": null,
   "metadata": {},
   "outputs": [],
   "source": []
  }
 ],
 "metadata": {
  "kernelspec": {
   "display_name": "Python 3",
   "language": "python",
   "name": "python3"
  },
  "language_info": {
   "codemirror_mode": {
    "name": "ipython",
    "version": 3
   },
   "file_extension": ".py",
   "mimetype": "text/x-python",
   "name": "python",
   "nbconvert_exporter": "python",
   "pygments_lexer": "ipython3",
   "version": "3.8.8"
  }
 },
 "nbformat": 4,
 "nbformat_minor": 4
}
