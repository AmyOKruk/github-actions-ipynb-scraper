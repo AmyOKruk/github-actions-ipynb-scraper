{
 "cells": [
  {
   "cell_type": "markdown",
   "metadata": {},
   "source": [
    "# California COVID vaccinations scrape"
   ]
  },
  {
   "cell_type": "markdown",
   "metadata": {},
   "source": [
    "By [Amy O'Kruk](https://twitter.com/amyokruk)"
   ]
  },
  {
   "cell_type": "markdown",
   "metadata": {},
   "source": [
    "Downloads data on vaccine doses administered by county and statewide from a Tableau-powered dashboard from the California Department of Public Health."
   ]
  },
  {
   "cell_type": "code",
   "execution_count": 1,
   "metadata": {
    "execution": {
     "iopub.execute_input": "2021-03-15T03:43:34.281913Z",
     "iopub.status.busy": "2021-03-15T03:43:34.277173Z",
     "iopub.status.idle": "2021-03-15T03:43:34.726025Z",
     "shell.execute_reply": "2021-03-15T03:43:34.724844Z"
    }
   },
   "outputs": [],
   "source": [
    "import pandas as pd\n",
    "import requests\n",
    "from bs4 import BeautifulSoup\n",
    "import json\n",
    "import re\n",
    "import time\n",
    "from time import gmtime, strftime \n",
    "import os\n",
    "import pytz\n",
    "from datetime import datetime"
   ]
  },
  {
   "cell_type": "markdown",
   "metadata": {},
   "source": [
    "Scrape the dashboard page"
   ]
  },
  {
   "cell_type": "code",
   "execution_count": 2,
   "metadata": {
    "execution": {
     "iopub.execute_input": "2021-03-15T03:43:34.732244Z",
     "iopub.status.busy": "2021-03-15T03:43:34.729868Z",
     "iopub.status.idle": "2021-03-15T03:43:35.293832Z",
     "shell.execute_reply": "2021-03-15T03:43:35.293230Z"
    }
   },
   "outputs": [],
   "source": [
    "url = \"https://public.tableau.com/interactive/views/COVID-19VaccineDashboardPublic/Vaccine?:embed=y&:showVizHome=n&:apiID=host0\"\n",
    "\n",
    "r = requests.get(url)\n",
    "soup = BeautifulSoup(r.text, \"html.parser\")"
   ]
  },
  {
   "cell_type": "code",
   "execution_count": 3,
   "metadata": {
    "execution": {
     "iopub.execute_input": "2021-03-15T03:43:35.299644Z",
     "iopub.status.busy": "2021-03-15T03:43:35.299100Z",
     "iopub.status.idle": "2021-03-15T03:43:35.303436Z",
     "shell.execute_reply": "2021-03-15T03:43:35.302950Z"
    }
   },
   "outputs": [],
   "source": [
    "tableauData = json.loads(soup.find(\"textarea\",{\"id\": \"tsConfigContainer\"}).text)"
   ]
  },
  {
   "cell_type": "markdown",
   "metadata": {},
   "source": [
    "Get the link to the Tableau data"
   ]
  },
  {
   "cell_type": "code",
   "execution_count": 4,
   "metadata": {
    "execution": {
     "iopub.execute_input": "2021-03-15T03:43:35.308445Z",
     "iopub.status.busy": "2021-03-15T03:43:35.307188Z",
     "iopub.status.idle": "2021-03-15T03:43:35.309065Z",
     "shell.execute_reply": "2021-03-15T03:43:35.309509Z"
    }
   },
   "outputs": [],
   "source": [
    "dataUrl = f'https://public.tableau.com{tableauData[\"vizql_root\"]}/bootstrapSession/sessions/{tableauData[\"sessionid\"]}'"
   ]
  },
  {
   "cell_type": "code",
   "execution_count": 5,
   "metadata": {
    "execution": {
     "iopub.execute_input": "2021-03-15T03:43:35.316392Z",
     "iopub.status.busy": "2021-03-15T03:43:35.315836Z",
     "iopub.status.idle": "2021-03-15T03:43:35.767382Z",
     "shell.execute_reply": "2021-03-15T03:43:35.766728Z"
    }
   },
   "outputs": [],
   "source": [
    "r = requests.post(dataUrl, data= {\n",
    "    \"sheet_id\": tableauData[\"sheetId\"],\n",
    "})\n",
    "\n",
    "dataReg = re.search('\\d+;({.*})\\d+;({.*})', r.text, re.MULTILINE)\n",
    "data1 = json.loads(dataReg.group(2))\n",
    "\n",
    "dataJson = data1[\"secondaryInfo\"][\"presModelMap\"][\"dataDictionary\"][\"presModelHolder\"][\"genDataDictionaryPresModel\"][\"dataSegments\"][\"0\"][\"dataColumns\"]"
   ]
  },
  {
   "cell_type": "markdown",
   "metadata": {},
   "source": [
    "Isolate what you want"
   ]
  },
  {
   "cell_type": "code",
   "execution_count": 6,
   "metadata": {
    "execution": {
     "iopub.execute_input": "2021-03-15T03:43:35.772403Z",
     "iopub.status.busy": "2021-03-15T03:43:35.771135Z",
     "iopub.status.idle": "2021-03-15T03:43:35.773011Z",
     "shell.execute_reply": "2021-03-15T03:43:35.773445Z"
    }
   },
   "outputs": [],
   "source": [
    "counties = dataJson[2]['dataValues'][:58]"
   ]
  },
  {
   "cell_type": "code",
   "execution_count": 7,
   "metadata": {
    "execution": {
     "iopub.execute_input": "2021-03-15T03:43:35.777896Z",
     "iopub.status.busy": "2021-03-15T03:43:35.776692Z",
     "iopub.status.idle": "2021-03-15T03:43:35.778602Z",
     "shell.execute_reply": "2021-03-15T03:43:35.779043Z"
    }
   },
   "outputs": [],
   "source": [
    "doses = dataJson[0]['dataValues'][3:61]"
   ]
  },
  {
   "cell_type": "markdown",
   "metadata": {},
   "source": [
    "Data formatting"
   ]
  },
  {
   "cell_type": "code",
   "execution_count": 8,
   "metadata": {
    "execution": {
     "iopub.execute_input": "2021-03-15T03:43:35.783426Z",
     "iopub.status.busy": "2021-03-15T03:43:35.782184Z",
     "iopub.status.idle": "2021-03-15T03:43:35.784028Z",
     "shell.execute_reply": "2021-03-15T03:43:35.784464Z"
    }
   },
   "outputs": [],
   "source": [
    "zipped = dict(zip(counties, doses))"
   ]
  },
  {
   "cell_type": "code",
   "execution_count": 9,
   "metadata": {
    "execution": {
     "iopub.execute_input": "2021-03-15T03:43:35.791143Z",
     "iopub.status.busy": "2021-03-15T03:43:35.789873Z",
     "iopub.status.idle": "2021-03-15T03:43:35.791752Z",
     "shell.execute_reply": "2021-03-15T03:43:35.792189Z"
    }
   },
   "outputs": [],
   "source": [
    "df = pd.Series(zipped).reset_index()"
   ]
  },
  {
   "cell_type": "code",
   "execution_count": 10,
   "metadata": {
    "execution": {
     "iopub.execute_input": "2021-03-15T03:43:35.796638Z",
     "iopub.status.busy": "2021-03-15T03:43:35.795419Z",
     "iopub.status.idle": "2021-03-15T03:43:35.797310Z",
     "shell.execute_reply": "2021-03-15T03:43:35.797758Z"
    }
   },
   "outputs": [],
   "source": [
    "df.columns = ['location','doses']"
   ]
  },
  {
   "cell_type": "markdown",
   "metadata": {},
   "source": [
    "Grab the overall California total"
   ]
  },
  {
   "cell_type": "code",
   "execution_count": 11,
   "metadata": {
    "execution": {
     "iopub.execute_input": "2021-03-15T03:43:35.802166Z",
     "iopub.status.busy": "2021-03-15T03:43:35.801017Z",
     "iopub.status.idle": "2021-03-15T03:43:35.802844Z",
     "shell.execute_reply": "2021-03-15T03:43:35.803286Z"
    }
   },
   "outputs": [],
   "source": [
    "add = {'location':'California','doses':dataJson[0]['dataValues'][2]}"
   ]
  },
  {
   "cell_type": "code",
   "execution_count": 12,
   "metadata": {
    "execution": {
     "iopub.execute_input": "2021-03-15T03:43:35.810833Z",
     "iopub.status.busy": "2021-03-15T03:43:35.809527Z",
     "iopub.status.idle": "2021-03-15T03:43:35.811460Z",
     "shell.execute_reply": "2021-03-15T03:43:35.811901Z"
    }
   },
   "outputs": [],
   "source": [
    "df = df.append(add, ignore_index=True)"
   ]
  },
  {
   "cell_type": "code",
   "execution_count": 13,
   "metadata": {
    "execution": {
     "iopub.execute_input": "2021-03-15T03:43:35.816977Z",
     "iopub.status.busy": "2021-03-15T03:43:35.815800Z",
     "iopub.status.idle": "2021-03-15T03:43:35.817674Z",
     "shell.execute_reply": "2021-03-15T03:43:35.818143Z"
    }
   },
   "outputs": [],
   "source": [
    "df = df.sort_values(by='location')"
   ]
  },
  {
   "cell_type": "code",
   "execution_count": 14,
   "metadata": {
    "execution": {
     "iopub.execute_input": "2021-03-15T03:43:35.824528Z",
     "iopub.status.busy": "2021-03-15T03:43:35.823613Z",
     "iopub.status.idle": "2021-03-15T03:43:35.825487Z",
     "shell.execute_reply": "2021-03-15T03:43:35.825900Z"
    }
   },
   "outputs": [],
   "source": [
    "df = df[df.location == 'California'].append(df[df.location != 'California']).reset_index(drop=True)"
   ]
  },
  {
   "cell_type": "code",
   "execution_count": null,
   "metadata": {},
   "outputs": [],
   "source": []
  },
  {
   "cell_type": "code",
   "execution_count": 15,
   "metadata": {
    "execution": {
     "iopub.execute_input": "2021-03-15T03:43:35.829282Z",
     "iopub.status.busy": "2021-03-15T03:43:35.828756Z",
     "iopub.status.idle": "2021-03-15T03:43:35.847110Z",
     "shell.execute_reply": "2021-03-15T03:43:35.846572Z"
    }
   },
   "outputs": [],
   "source": [
    "tz = pytz.timezone(\"America/New_York\")"
   ]
  },
  {
   "cell_type": "code",
   "execution_count": 16,
   "metadata": {
    "execution": {
     "iopub.execute_input": "2021-03-15T03:43:35.851623Z",
     "iopub.status.busy": "2021-03-15T03:43:35.850256Z",
     "iopub.status.idle": "2021-03-15T03:43:35.852286Z",
     "shell.execute_reply": "2021-03-15T03:43:35.852722Z"
    }
   },
   "outputs": [],
   "source": [
    "today = datetime.now(tz).date()"
   ]
  },
  {
   "cell_type": "code",
   "execution_count": 17,
   "metadata": {
    "execution": {
     "iopub.execute_input": "2021-03-15T03:43:35.856096Z",
     "iopub.status.busy": "2021-03-15T03:43:35.855568Z",
     "iopub.status.idle": "2021-03-15T03:43:35.865706Z",
     "shell.execute_reply": "2021-03-15T03:43:35.865187Z"
    }
   },
   "outputs": [],
   "source": [
    "data_dir = os.path.join(os.path.abspath(\"\"), \"data\")"
   ]
  },
  {
   "cell_type": "code",
   "execution_count": 18,
   "metadata": {
    "execution": {
     "iopub.execute_input": "2021-03-15T03:43:35.871059Z",
     "iopub.status.busy": "2021-03-15T03:43:35.869008Z",
     "iopub.status.idle": "2021-03-15T03:43:36.050595Z",
     "shell.execute_reply": "2021-03-15T03:43:36.049686Z"
    }
   },
   "outputs": [],
   "source": [
    "df.to_csv(os.path.join(data_dir, f\"{today}.csv\"), index=False)"
   ]
  },
  {
   "cell_type": "code",
   "execution_count": null,
   "metadata": {},
   "outputs": [],
   "source": []
  }
 ],
 "metadata": {
  "kernelspec": {
   "display_name": "Python 3",
   "language": "python",
   "name": "python3"
  },
  "language_info": {
   "codemirror_mode": {
    "name": "ipython",
    "version": 3
   },
   "file_extension": ".py",
   "mimetype": "text/x-python",
   "name": "python",
   "nbconvert_exporter": "python",
   "pygments_lexer": "ipython3",
   "version": "3.8.8"
  }
 },
 "nbformat": 4,
 "nbformat_minor": 4
}
