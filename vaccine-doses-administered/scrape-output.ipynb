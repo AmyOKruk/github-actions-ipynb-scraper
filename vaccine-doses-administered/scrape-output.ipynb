{
 "cells": [
  {
   "cell_type": "markdown",
   "metadata": {},
   "source": [
    "# California COVID vaccinations scrape"
   ]
  },
  {
   "cell_type": "markdown",
   "metadata": {},
   "source": [
    "By [Amy O'Kruk](https://twitter.com/amyokruk)"
   ]
  },
  {
   "cell_type": "markdown",
   "metadata": {},
   "source": [
    "Downloads data on vaccine doses administered by county and statewide from a Tableau-powered dashboard from the California Department of Public Health."
   ]
  },
  {
   "cell_type": "code",
   "execution_count": 1,
   "metadata": {
    "execution": {
     "iopub.execute_input": "2021-03-09T13:40:44.450842Z",
     "iopub.status.busy": "2021-03-09T13:40:44.450269Z",
     "iopub.status.idle": "2021-03-09T13:40:44.894283Z",
     "shell.execute_reply": "2021-03-09T13:40:44.893348Z"
    }
   },
   "outputs": [],
   "source": [
    "import pandas as pd\n",
    "import requests\n",
    "from bs4 import BeautifulSoup\n",
    "import json\n",
    "import re\n",
    "import time\n",
    "from time import gmtime, strftime \n",
    "import os\n",
    "import pytz\n",
    "from datetime import datetime"
   ]
  },
  {
   "cell_type": "markdown",
   "metadata": {},
   "source": [
    "Scrape the dashboard page"
   ]
  },
  {
   "cell_type": "code",
   "execution_count": 2,
   "metadata": {
    "execution": {
     "iopub.execute_input": "2021-03-09T13:40:44.898650Z",
     "iopub.status.busy": "2021-03-09T13:40:44.898080Z",
     "iopub.status.idle": "2021-03-09T13:40:45.206304Z",
     "shell.execute_reply": "2021-03-09T13:40:45.205234Z"
    }
   },
   "outputs": [],
   "source": [
    "url = \"https://public.tableau.com/interactive/views/COVID-19VaccineDashboardPublic/Vaccine?:embed=y&:showVizHome=n&:apiID=host0\"\n",
    "\n",
    "r = requests.get(url)\n",
    "soup = BeautifulSoup(r.text, \"html.parser\")"
   ]
  },
  {
   "cell_type": "code",
   "execution_count": 3,
   "metadata": {
    "execution": {
     "iopub.execute_input": "2021-03-09T13:40:45.210929Z",
     "iopub.status.busy": "2021-03-09T13:40:45.210416Z",
     "iopub.status.idle": "2021-03-09T13:40:45.213501Z",
     "shell.execute_reply": "2021-03-09T13:40:45.213092Z"
    }
   },
   "outputs": [],
   "source": [
    "tableauData = json.loads(soup.find(\"textarea\",{\"id\": \"tsConfigContainer\"}).text)"
   ]
  },
  {
   "cell_type": "markdown",
   "metadata": {},
   "source": [
    "Get the link to the Tableau data"
   ]
  },
  {
   "cell_type": "code",
   "execution_count": 4,
   "metadata": {
    "execution": {
     "iopub.execute_input": "2021-03-09T13:40:45.217433Z",
     "iopub.status.busy": "2021-03-09T13:40:45.216921Z",
     "iopub.status.idle": "2021-03-09T13:40:45.220320Z",
     "shell.execute_reply": "2021-03-09T13:40:45.219906Z"
    }
   },
   "outputs": [],
   "source": [
    "dataUrl = f'https://public.tableau.com{tableauData[\"vizql_root\"]}/bootstrapSession/sessions/{tableauData[\"sessionid\"]}'"
   ]
  },
  {
   "cell_type": "code",
   "execution_count": 5,
   "metadata": {
    "execution": {
     "iopub.execute_input": "2021-03-09T13:40:45.226706Z",
     "iopub.status.busy": "2021-03-09T13:40:45.226133Z",
     "iopub.status.idle": "2021-03-09T13:40:45.388447Z",
     "shell.execute_reply": "2021-03-09T13:40:45.389181Z"
    }
   },
   "outputs": [],
   "source": [
    "r = requests.post(dataUrl, data= {\n",
    "    \"sheet_id\": tableauData[\"sheetId\"],\n",
    "})\n",
    "\n",
    "dataReg = re.search('\\d+;({.*})\\d+;({.*})', r.text, re.MULTILINE)\n",
    "data1 = json.loads(dataReg.group(2))\n",
    "\n",
    "dataJson = data1[\"secondaryInfo\"][\"presModelMap\"][\"dataDictionary\"][\"presModelHolder\"][\"genDataDictionaryPresModel\"][\"dataSegments\"][\"0\"][\"dataColumns\"]"
   ]
  },
  {
   "cell_type": "markdown",
   "metadata": {},
   "source": [
    "Isolate what you want"
   ]
  },
  {
   "cell_type": "code",
   "execution_count": 6,
   "metadata": {
    "execution": {
     "iopub.execute_input": "2021-03-09T13:40:45.395400Z",
     "iopub.status.busy": "2021-03-09T13:40:45.394355Z",
     "iopub.status.idle": "2021-03-09T13:40:45.396329Z",
     "shell.execute_reply": "2021-03-09T13:40:45.395886Z"
    }
   },
   "outputs": [],
   "source": [
    "counties = dataJson[2]['dataValues'][:58]"
   ]
  },
  {
   "cell_type": "code",
   "execution_count": 7,
   "metadata": {
    "execution": {
     "iopub.execute_input": "2021-03-09T13:40:45.400601Z",
     "iopub.status.busy": "2021-03-09T13:40:45.399410Z",
     "iopub.status.idle": "2021-03-09T13:40:45.401281Z",
     "shell.execute_reply": "2021-03-09T13:40:45.401708Z"
    }
   },
   "outputs": [],
   "source": [
    "doses = dataJson[0]['dataValues'][3:61]"
   ]
  },
  {
   "cell_type": "markdown",
   "metadata": {},
   "source": [
    "Data formatting"
   ]
  },
  {
   "cell_type": "code",
   "execution_count": 8,
   "metadata": {
    "execution": {
     "iopub.execute_input": "2021-03-09T13:40:45.405953Z",
     "iopub.status.busy": "2021-03-09T13:40:45.404734Z",
     "iopub.status.idle": "2021-03-09T13:40:45.406577Z",
     "shell.execute_reply": "2021-03-09T13:40:45.407030Z"
    }
   },
   "outputs": [],
   "source": [
    "zipped = dict(zip(counties, doses))"
   ]
  },
  {
   "cell_type": "code",
   "execution_count": 9,
   "metadata": {
    "execution": {
     "iopub.execute_input": "2021-03-09T13:40:45.413139Z",
     "iopub.status.busy": "2021-03-09T13:40:45.412135Z",
     "iopub.status.idle": "2021-03-09T13:40:45.414238Z",
     "shell.execute_reply": "2021-03-09T13:40:45.413796Z"
    }
   },
   "outputs": [],
   "source": [
    "df = pd.Series(zipped).reset_index()"
   ]
  },
  {
   "cell_type": "code",
   "execution_count": 10,
   "metadata": {
    "execution": {
     "iopub.execute_input": "2021-03-09T13:40:45.418155Z",
     "iopub.status.busy": "2021-03-09T13:40:45.417315Z",
     "iopub.status.idle": "2021-03-09T13:40:45.418991Z",
     "shell.execute_reply": "2021-03-09T13:40:45.419386Z"
    }
   },
   "outputs": [],
   "source": [
    "df.columns = ['location','doses']"
   ]
  },
  {
   "cell_type": "markdown",
   "metadata": {},
   "source": [
    "Grab the overall California total"
   ]
  },
  {
   "cell_type": "code",
   "execution_count": 11,
   "metadata": {
    "execution": {
     "iopub.execute_input": "2021-03-09T13:40:45.423124Z",
     "iopub.status.busy": "2021-03-09T13:40:45.422319Z",
     "iopub.status.idle": "2021-03-09T13:40:45.424444Z",
     "shell.execute_reply": "2021-03-09T13:40:45.424013Z"
    }
   },
   "outputs": [],
   "source": [
    "add = {'location':'California','doses':dataJson[0]['dataValues'][2]}"
   ]
  },
  {
   "cell_type": "code",
   "execution_count": 12,
   "metadata": {
    "execution": {
     "iopub.execute_input": "2021-03-09T13:40:45.431235Z",
     "iopub.status.busy": "2021-03-09T13:40:45.430326Z",
     "iopub.status.idle": "2021-03-09T13:40:45.432189Z",
     "shell.execute_reply": "2021-03-09T13:40:45.432589Z"
    }
   },
   "outputs": [],
   "source": [
    "df = df.append(add, ignore_index=True)"
   ]
  },
  {
   "cell_type": "code",
   "execution_count": 13,
   "metadata": {
    "execution": {
     "iopub.execute_input": "2021-03-09T13:40:45.436842Z",
     "iopub.status.busy": "2021-03-09T13:40:45.435979Z",
     "iopub.status.idle": "2021-03-09T13:40:45.437720Z",
     "shell.execute_reply": "2021-03-09T13:40:45.438117Z"
    }
   },
   "outputs": [],
   "source": [
    "df = df.sort_values(by='location')"
   ]
  },
  {
   "cell_type": "code",
   "execution_count": 14,
   "metadata": {
    "execution": {
     "iopub.execute_input": "2021-03-09T13:40:45.444466Z",
     "iopub.status.busy": "2021-03-09T13:40:45.443374Z",
     "iopub.status.idle": "2021-03-09T13:40:45.445039Z",
     "shell.execute_reply": "2021-03-09T13:40:45.445459Z"
    }
   },
   "outputs": [],
   "source": [
    "df = df[df.location == 'California'].append(df[df.location != 'California']).reset_index(drop=True)"
   ]
  },
  {
   "cell_type": "code",
   "execution_count": null,
   "metadata": {},
   "outputs": [],
   "source": []
  },
  {
   "cell_type": "code",
   "execution_count": 15,
   "metadata": {
    "execution": {
     "iopub.execute_input": "2021-03-09T13:40:45.448850Z",
     "iopub.status.busy": "2021-03-09T13:40:45.448350Z",
     "iopub.status.idle": "2021-03-09T13:40:45.465800Z",
     "shell.execute_reply": "2021-03-09T13:40:45.465304Z"
    }
   },
   "outputs": [],
   "source": [
    "tz = pytz.timezone(\"America/New_York\")"
   ]
  },
  {
   "cell_type": "code",
   "execution_count": 16,
   "metadata": {
    "execution": {
     "iopub.execute_input": "2021-03-09T13:40:45.470069Z",
     "iopub.status.busy": "2021-03-09T13:40:45.468846Z",
     "iopub.status.idle": "2021-03-09T13:40:45.470712Z",
     "shell.execute_reply": "2021-03-09T13:40:45.471144Z"
    }
   },
   "outputs": [],
   "source": [
    "today = datetime.now(tz).date()"
   ]
  },
  {
   "cell_type": "code",
   "execution_count": 17,
   "metadata": {
    "execution": {
     "iopub.execute_input": "2021-03-09T13:40:45.475389Z",
     "iopub.status.busy": "2021-03-09T13:40:45.474197Z",
     "iopub.status.idle": "2021-03-09T13:40:45.476060Z",
     "shell.execute_reply": "2021-03-09T13:40:45.476488Z"
    }
   },
   "outputs": [],
   "source": [
    "data_dir = os.path.join(os.path.abspath(\"\"), \"data\")"
   ]
  },
  {
   "cell_type": "code",
   "execution_count": 18,
   "metadata": {
    "execution": {
     "iopub.execute_input": "2021-03-09T13:40:45.480793Z",
     "iopub.status.busy": "2021-03-09T13:40:45.479633Z",
     "iopub.status.idle": "2021-03-09T13:40:45.484195Z",
     "shell.execute_reply": "2021-03-09T13:40:45.483677Z"
    }
   },
   "outputs": [],
   "source": [
    "df.to_csv(os.path.join(data_dir, f\"{today}.csv\"), index=False)"
   ]
  },
  {
   "cell_type": "code",
   "execution_count": null,
   "metadata": {},
   "outputs": [],
   "source": []
  }
 ],
 "metadata": {
  "kernelspec": {
   "display_name": "Python 3",
   "language": "python",
   "name": "python3"
  },
  "language_info": {
   "codemirror_mode": {
    "name": "ipython",
    "version": 3
   },
   "file_extension": ".py",
   "mimetype": "text/x-python",
   "name": "python",
   "nbconvert_exporter": "python",
   "pygments_lexer": "ipython3",
   "version": "3.8.8"
  }
 },
 "nbformat": 4,
 "nbformat_minor": 4
}
