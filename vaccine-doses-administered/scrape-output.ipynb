{
 "cells": [
  {
   "cell_type": "markdown",
   "metadata": {},
   "source": [
    "# California COVID vaccinations scrape"
   ]
  },
  {
   "cell_type": "markdown",
   "metadata": {},
   "source": [
    "By [Amy O'Kruk](https://twitter.com/amyokruk)"
   ]
  },
  {
   "cell_type": "markdown",
   "metadata": {},
   "source": [
    "Downloads data on vaccine doses administered by county and statewide from a Tableau-powered dashboard from the California Department of Public Health."
   ]
  },
  {
   "cell_type": "code",
   "execution_count": 1,
   "metadata": {
    "execution": {
     "iopub.execute_input": "2021-03-09T17:19:51.309375Z",
     "iopub.status.busy": "2021-03-09T17:19:51.307918Z",
     "iopub.status.idle": "2021-03-09T17:19:52.585233Z",
     "shell.execute_reply": "2021-03-09T17:19:52.584234Z"
    }
   },
   "outputs": [],
   "source": [
    "import pandas as pd\n",
    "import requests\n",
    "from bs4 import BeautifulSoup\n",
    "import json\n",
    "import re\n",
    "import time\n",
    "from time import gmtime, strftime \n",
    "import os\n",
    "import pytz\n",
    "from datetime import datetime"
   ]
  },
  {
   "cell_type": "markdown",
   "metadata": {},
   "source": [
    "Scrape the dashboard page"
   ]
  },
  {
   "cell_type": "code",
   "execution_count": 2,
   "metadata": {
    "execution": {
     "iopub.execute_input": "2021-03-09T17:19:52.591528Z",
     "iopub.status.busy": "2021-03-09T17:19:52.590859Z",
     "iopub.status.idle": "2021-03-09T17:19:53.048284Z",
     "shell.execute_reply": "2021-03-09T17:19:53.048835Z"
    }
   },
   "outputs": [],
   "source": [
    "url = \"https://public.tableau.com/interactive/views/COVID-19VaccineDashboardPublic/Vaccine?:embed=y&:showVizHome=n&:apiID=host0\"\n",
    "\n",
    "r = requests.get(url)\n",
    "soup = BeautifulSoup(r.text, \"html.parser\")"
   ]
  },
  {
   "cell_type": "code",
   "execution_count": 3,
   "metadata": {
    "execution": {
     "iopub.execute_input": "2021-03-09T17:19:53.056005Z",
     "iopub.status.busy": "2021-03-09T17:19:53.053976Z",
     "iopub.status.idle": "2021-03-09T17:19:53.056789Z",
     "shell.execute_reply": "2021-03-09T17:19:53.057267Z"
    }
   },
   "outputs": [],
   "source": [
    "tableauData = json.loads(soup.find(\"textarea\",{\"id\": \"tsConfigContainer\"}).text)"
   ]
  },
  {
   "cell_type": "markdown",
   "metadata": {},
   "source": [
    "Get the link to the Tableau data"
   ]
  },
  {
   "cell_type": "code",
   "execution_count": 4,
   "metadata": {
    "execution": {
     "iopub.execute_input": "2021-03-09T17:19:53.062324Z",
     "iopub.status.busy": "2021-03-09T17:19:53.060829Z",
     "iopub.status.idle": "2021-03-09T17:19:53.062982Z",
     "shell.execute_reply": "2021-03-09T17:19:53.063503Z"
    }
   },
   "outputs": [],
   "source": [
    "dataUrl = f'https://public.tableau.com{tableauData[\"vizql_root\"]}/bootstrapSession/sessions/{tableauData[\"sessionid\"]}'"
   ]
  },
  {
   "cell_type": "code",
   "execution_count": 5,
   "metadata": {
    "execution": {
     "iopub.execute_input": "2021-03-09T17:19:53.071807Z",
     "iopub.status.busy": "2021-03-09T17:19:53.071171Z",
     "iopub.status.idle": "2021-03-09T17:19:53.244160Z",
     "shell.execute_reply": "2021-03-09T17:19:53.243602Z"
    }
   },
   "outputs": [],
   "source": [
    "r = requests.post(dataUrl, data= {\n",
    "    \"sheet_id\": tableauData[\"sheetId\"],\n",
    "})\n",
    "\n",
    "dataReg = re.search('\\d+;({.*})\\d+;({.*})', r.text, re.MULTILINE)\n",
    "data1 = json.loads(dataReg.group(2))\n",
    "\n",
    "dataJson = data1[\"secondaryInfo\"][\"presModelMap\"][\"dataDictionary\"][\"presModelHolder\"][\"genDataDictionaryPresModel\"][\"dataSegments\"][\"0\"][\"dataColumns\"]"
   ]
  },
  {
   "cell_type": "markdown",
   "metadata": {},
   "source": [
    "Isolate what you want"
   ]
  },
  {
   "cell_type": "code",
   "execution_count": 6,
   "metadata": {
    "execution": {
     "iopub.execute_input": "2021-03-09T17:19:53.249694Z",
     "iopub.status.busy": "2021-03-09T17:19:53.248182Z",
     "iopub.status.idle": "2021-03-09T17:19:53.250335Z",
     "shell.execute_reply": "2021-03-09T17:19:53.250892Z"
    }
   },
   "outputs": [],
   "source": [
    "counties = dataJson[2]['dataValues'][:58]"
   ]
  },
  {
   "cell_type": "code",
   "execution_count": 7,
   "metadata": {
    "execution": {
     "iopub.execute_input": "2021-03-09T17:19:53.255786Z",
     "iopub.status.busy": "2021-03-09T17:19:53.254322Z",
     "iopub.status.idle": "2021-03-09T17:19:53.256579Z",
     "shell.execute_reply": "2021-03-09T17:19:53.257211Z"
    }
   },
   "outputs": [],
   "source": [
    "doses = dataJson[0]['dataValues'][3:61]"
   ]
  },
  {
   "cell_type": "markdown",
   "metadata": {},
   "source": [
    "Data formatting"
   ]
  },
  {
   "cell_type": "code",
   "execution_count": 8,
   "metadata": {
    "execution": {
     "iopub.execute_input": "2021-03-09T17:19:53.262037Z",
     "iopub.status.busy": "2021-03-09T17:19:53.260603Z",
     "iopub.status.idle": "2021-03-09T17:19:53.262715Z",
     "shell.execute_reply": "2021-03-09T17:19:53.263161Z"
    }
   },
   "outputs": [],
   "source": [
    "zipped = dict(zip(counties, doses))"
   ]
  },
  {
   "cell_type": "code",
   "execution_count": 9,
   "metadata": {
    "execution": {
     "iopub.execute_input": "2021-03-09T17:19:53.271112Z",
     "iopub.status.busy": "2021-03-09T17:19:53.269304Z",
     "iopub.status.idle": "2021-03-09T17:19:53.271800Z",
     "shell.execute_reply": "2021-03-09T17:19:53.272287Z"
    }
   },
   "outputs": [],
   "source": [
    "df = pd.Series(zipped).reset_index()"
   ]
  },
  {
   "cell_type": "code",
   "execution_count": 10,
   "metadata": {
    "execution": {
     "iopub.execute_input": "2021-03-09T17:19:53.277897Z",
     "iopub.status.busy": "2021-03-09T17:19:53.276375Z",
     "iopub.status.idle": "2021-03-09T17:19:53.278525Z",
     "shell.execute_reply": "2021-03-09T17:19:53.279002Z"
    }
   },
   "outputs": [],
   "source": [
    "df.columns = ['location','doses']"
   ]
  },
  {
   "cell_type": "markdown",
   "metadata": {},
   "source": [
    "Grab the overall California total"
   ]
  },
  {
   "cell_type": "code",
   "execution_count": 11,
   "metadata": {
    "execution": {
     "iopub.execute_input": "2021-03-09T17:19:53.283703Z",
     "iopub.status.busy": "2021-03-09T17:19:53.282469Z",
     "iopub.status.idle": "2021-03-09T17:19:53.284459Z",
     "shell.execute_reply": "2021-03-09T17:19:53.284957Z"
    }
   },
   "outputs": [],
   "source": [
    "add = {'location':'California','doses':dataJson[0]['dataValues'][2]}"
   ]
  },
  {
   "cell_type": "code",
   "execution_count": 12,
   "metadata": {
    "execution": {
     "iopub.execute_input": "2021-03-09T17:19:53.295897Z",
     "iopub.status.busy": "2021-03-09T17:19:53.294314Z",
     "iopub.status.idle": "2021-03-09T17:19:53.296559Z",
     "shell.execute_reply": "2021-03-09T17:19:53.297054Z"
    }
   },
   "outputs": [],
   "source": [
    "df = df.append(add, ignore_index=True)"
   ]
  },
  {
   "cell_type": "code",
   "execution_count": 13,
   "metadata": {
    "execution": {
     "iopub.execute_input": "2021-03-09T17:19:53.303048Z",
     "iopub.status.busy": "2021-03-09T17:19:53.301549Z",
     "iopub.status.idle": "2021-03-09T17:19:53.303892Z",
     "shell.execute_reply": "2021-03-09T17:19:53.304441Z"
    }
   },
   "outputs": [],
   "source": [
    "df = df.sort_values(by='location')"
   ]
  },
  {
   "cell_type": "code",
   "execution_count": 14,
   "metadata": {
    "execution": {
     "iopub.execute_input": "2021-03-09T17:19:53.312295Z",
     "iopub.status.busy": "2021-03-09T17:19:53.310877Z",
     "iopub.status.idle": "2021-03-09T17:19:53.312963Z",
     "shell.execute_reply": "2021-03-09T17:19:53.313463Z"
    }
   },
   "outputs": [],
   "source": [
    "df = df[df.location == 'California'].append(df[df.location != 'California']).reset_index(drop=True)"
   ]
  },
  {
   "cell_type": "code",
   "execution_count": null,
   "metadata": {},
   "outputs": [],
   "source": []
  },
  {
   "cell_type": "code",
   "execution_count": 15,
   "metadata": {
    "execution": {
     "iopub.execute_input": "2021-03-09T17:19:53.317297Z",
     "iopub.status.busy": "2021-03-09T17:19:53.316760Z",
     "iopub.status.idle": "2021-03-09T17:19:53.336791Z",
     "shell.execute_reply": "2021-03-09T17:19:53.337395Z"
    }
   },
   "outputs": [],
   "source": [
    "tz = pytz.timezone(\"America/New_York\")"
   ]
  },
  {
   "cell_type": "code",
   "execution_count": 16,
   "metadata": {
    "execution": {
     "iopub.execute_input": "2021-03-09T17:19:53.342420Z",
     "iopub.status.busy": "2021-03-09T17:19:53.340954Z",
     "iopub.status.idle": "2021-03-09T17:19:53.343061Z",
     "shell.execute_reply": "2021-03-09T17:19:53.343579Z"
    }
   },
   "outputs": [],
   "source": [
    "today = datetime.now(tz).date()"
   ]
  },
  {
   "cell_type": "code",
   "execution_count": 17,
   "metadata": {
    "execution": {
     "iopub.execute_input": "2021-03-09T17:19:53.348561Z",
     "iopub.status.busy": "2021-03-09T17:19:53.347123Z",
     "iopub.status.idle": "2021-03-09T17:19:53.349150Z",
     "shell.execute_reply": "2021-03-09T17:19:53.349967Z"
    }
   },
   "outputs": [],
   "source": [
    "data_dir = os.path.join(os.path.abspath(\"\"), \"data\")"
   ]
  },
  {
   "cell_type": "code",
   "execution_count": 18,
   "metadata": {
    "execution": {
     "iopub.execute_input": "2021-03-09T17:19:53.355258Z",
     "iopub.status.busy": "2021-03-09T17:19:53.353901Z",
     "iopub.status.idle": "2021-03-09T17:19:53.358426Z",
     "shell.execute_reply": "2021-03-09T17:19:53.358926Z"
    }
   },
   "outputs": [],
   "source": [
    "df.to_csv(os.path.join(data_dir, f\"{today}.csv\"), index=False)"
   ]
  },
  {
   "cell_type": "code",
   "execution_count": null,
   "metadata": {},
   "outputs": [],
   "source": []
  }
 ],
 "metadata": {
  "kernelspec": {
   "display_name": "Python 3",
   "language": "python",
   "name": "python3"
  },
  "language_info": {
   "codemirror_mode": {
    "name": "ipython",
    "version": 3
   },
   "file_extension": ".py",
   "mimetype": "text/x-python",
   "name": "python",
   "nbconvert_exporter": "python",
   "pygments_lexer": "ipython3",
   "version": "3.8.8"
  }
 },
 "nbformat": 4,
 "nbformat_minor": 4
}
