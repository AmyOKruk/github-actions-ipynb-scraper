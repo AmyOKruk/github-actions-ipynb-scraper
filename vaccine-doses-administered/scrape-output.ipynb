{
 "cells": [
  {
   "cell_type": "markdown",
   "metadata": {},
   "source": [
    "# California COVID vaccinations scrape"
   ]
  },
  {
   "cell_type": "markdown",
   "metadata": {},
   "source": [
    "By [Amy O'Kruk](https://twitter.com/amyokruk)"
   ]
  },
  {
   "cell_type": "markdown",
   "metadata": {},
   "source": [
    "Downloads data on vaccine doses administered by county and statewide from a Tableau-powered dashboard from the California Department of Public Health."
   ]
  },
  {
   "cell_type": "code",
   "execution_count": 1,
   "metadata": {
    "execution": {
     "iopub.execute_input": "2021-03-17T02:55:50.742467Z",
     "iopub.status.busy": "2021-03-17T02:55:50.741680Z",
     "iopub.status.idle": "2021-03-17T02:55:51.233765Z",
     "shell.execute_reply": "2021-03-17T02:55:51.232659Z"
    }
   },
   "outputs": [],
   "source": [
    "import pandas as pd\n",
    "import requests\n",
    "from bs4 import BeautifulSoup\n",
    "import json\n",
    "import re\n",
    "import time\n",
    "from time import gmtime, strftime \n",
    "import os\n",
    "import pytz\n",
    "from datetime import datetime"
   ]
  },
  {
   "cell_type": "markdown",
   "metadata": {},
   "source": [
    "Scrape the dashboard page"
   ]
  },
  {
   "cell_type": "code",
   "execution_count": 2,
   "metadata": {
    "execution": {
     "iopub.execute_input": "2021-03-17T02:55:51.238262Z",
     "iopub.status.busy": "2021-03-17T02:55:51.237674Z",
     "iopub.status.idle": "2021-03-17T02:55:51.556371Z",
     "shell.execute_reply": "2021-03-17T02:55:51.555497Z"
    }
   },
   "outputs": [],
   "source": [
    "url = \"https://public.tableau.com/interactive/views/COVID-19VaccineDashboardPublic/Vaccine?:embed=y&:showVizHome=n&:apiID=host0\"\n",
    "\n",
    "r = requests.get(url)\n",
    "soup = BeautifulSoup(r.text, \"html.parser\")"
   ]
  },
  {
   "cell_type": "code",
   "execution_count": 3,
   "metadata": {
    "execution": {
     "iopub.execute_input": "2021-03-17T02:55:51.561156Z",
     "iopub.status.busy": "2021-03-17T02:55:51.560607Z",
     "iopub.status.idle": "2021-03-17T02:55:51.564381Z",
     "shell.execute_reply": "2021-03-17T02:55:51.563841Z"
    }
   },
   "outputs": [],
   "source": [
    "tableauData = json.loads(soup.find(\"textarea\",{\"id\": \"tsConfigContainer\"}).text)"
   ]
  },
  {
   "cell_type": "markdown",
   "metadata": {},
   "source": [
    "Get the link to the Tableau data"
   ]
  },
  {
   "cell_type": "code",
   "execution_count": 4,
   "metadata": {
    "execution": {
     "iopub.execute_input": "2021-03-17T02:55:51.568628Z",
     "iopub.status.busy": "2021-03-17T02:55:51.568070Z",
     "iopub.status.idle": "2021-03-17T02:55:51.571943Z",
     "shell.execute_reply": "2021-03-17T02:55:51.571159Z"
    }
   },
   "outputs": [],
   "source": [
    "dataUrl = f'https://public.tableau.com{tableauData[\"vizql_root\"]}/bootstrapSession/sessions/{tableauData[\"sessionid\"]}'"
   ]
  },
  {
   "cell_type": "code",
   "execution_count": 5,
   "metadata": {
    "execution": {
     "iopub.execute_input": "2021-03-17T02:55:51.579003Z",
     "iopub.status.busy": "2021-03-17T02:55:51.578411Z",
     "iopub.status.idle": "2021-03-17T02:55:51.813915Z",
     "shell.execute_reply": "2021-03-17T02:55:51.813426Z"
    }
   },
   "outputs": [],
   "source": [
    "r = requests.post(dataUrl, data= {\n",
    "    \"sheet_id\": tableauData[\"sheetId\"],\n",
    "})\n",
    "\n",
    "dataReg = re.search('\\d+;({.*})\\d+;({.*})', r.text, re.MULTILINE)\n",
    "data1 = json.loads(dataReg.group(2))\n",
    "\n",
    "dataJson = data1[\"secondaryInfo\"][\"presModelMap\"][\"dataDictionary\"][\"presModelHolder\"][\"genDataDictionaryPresModel\"][\"dataSegments\"][\"0\"][\"dataColumns\"]"
   ]
  },
  {
   "cell_type": "markdown",
   "metadata": {},
   "source": [
    "Isolate what you want"
   ]
  },
  {
   "cell_type": "code",
   "execution_count": 6,
   "metadata": {
    "execution": {
     "iopub.execute_input": "2021-03-17T02:55:51.819856Z",
     "iopub.status.busy": "2021-03-17T02:55:51.818541Z",
     "iopub.status.idle": "2021-03-17T02:55:51.820488Z",
     "shell.execute_reply": "2021-03-17T02:55:51.820912Z"
    }
   },
   "outputs": [],
   "source": [
    "counties = dataJson[2]['dataValues'][:58]"
   ]
  },
  {
   "cell_type": "code",
   "execution_count": 7,
   "metadata": {
    "execution": {
     "iopub.execute_input": "2021-03-17T02:55:51.825926Z",
     "iopub.status.busy": "2021-03-17T02:55:51.824386Z",
     "iopub.status.idle": "2021-03-17T02:55:51.826526Z",
     "shell.execute_reply": "2021-03-17T02:55:51.826972Z"
    }
   },
   "outputs": [],
   "source": [
    "doses = dataJson[0]['dataValues'][3:61]"
   ]
  },
  {
   "cell_type": "markdown",
   "metadata": {},
   "source": [
    "Data formatting"
   ]
  },
  {
   "cell_type": "code",
   "execution_count": 8,
   "metadata": {
    "execution": {
     "iopub.execute_input": "2021-03-17T02:55:51.831712Z",
     "iopub.status.busy": "2021-03-17T02:55:51.830386Z",
     "iopub.status.idle": "2021-03-17T02:55:51.832385Z",
     "shell.execute_reply": "2021-03-17T02:55:51.832914Z"
    }
   },
   "outputs": [],
   "source": [
    "zipped = dict(zip(counties, doses))"
   ]
  },
  {
   "cell_type": "code",
   "execution_count": 9,
   "metadata": {
    "execution": {
     "iopub.execute_input": "2021-03-17T02:55:51.839714Z",
     "iopub.status.busy": "2021-03-17T02:55:51.838193Z",
     "iopub.status.idle": "2021-03-17T02:55:51.840348Z",
     "shell.execute_reply": "2021-03-17T02:55:51.840818Z"
    }
   },
   "outputs": [],
   "source": [
    "df = pd.Series(zipped).reset_index()"
   ]
  },
  {
   "cell_type": "code",
   "execution_count": 10,
   "metadata": {
    "execution": {
     "iopub.execute_input": "2021-03-17T02:55:51.845192Z",
     "iopub.status.busy": "2021-03-17T02:55:51.844189Z",
     "iopub.status.idle": "2021-03-17T02:55:51.846129Z",
     "shell.execute_reply": "2021-03-17T02:55:51.846608Z"
    }
   },
   "outputs": [],
   "source": [
    "df.columns = ['location','doses']"
   ]
  },
  {
   "cell_type": "markdown",
   "metadata": {},
   "source": [
    "Grab the overall California total"
   ]
  },
  {
   "cell_type": "code",
   "execution_count": 11,
   "metadata": {
    "execution": {
     "iopub.execute_input": "2021-03-17T02:55:51.851477Z",
     "iopub.status.busy": "2021-03-17T02:55:51.850126Z",
     "iopub.status.idle": "2021-03-17T02:55:51.852086Z",
     "shell.execute_reply": "2021-03-17T02:55:51.852523Z"
    }
   },
   "outputs": [],
   "source": [
    "add = {'location':'California','doses':dataJson[0]['dataValues'][2]}"
   ]
  },
  {
   "cell_type": "code",
   "execution_count": 12,
   "metadata": {
    "execution": {
     "iopub.execute_input": "2021-03-17T02:55:51.860145Z",
     "iopub.status.busy": "2021-03-17T02:55:51.858851Z",
     "iopub.status.idle": "2021-03-17T02:55:51.860751Z",
     "shell.execute_reply": "2021-03-17T02:55:51.861175Z"
    }
   },
   "outputs": [],
   "source": [
    "df = df.append(add, ignore_index=True)"
   ]
  },
  {
   "cell_type": "code",
   "execution_count": 13,
   "metadata": {
    "execution": {
     "iopub.execute_input": "2021-03-17T02:55:51.867087Z",
     "iopub.status.busy": "2021-03-17T02:55:51.865700Z",
     "iopub.status.idle": "2021-03-17T02:55:51.867841Z",
     "shell.execute_reply": "2021-03-17T02:55:51.868357Z"
    }
   },
   "outputs": [],
   "source": [
    "df = df.sort_values(by='location')"
   ]
  },
  {
   "cell_type": "code",
   "execution_count": 14,
   "metadata": {
    "execution": {
     "iopub.execute_input": "2021-03-17T02:55:51.875205Z",
     "iopub.status.busy": "2021-03-17T02:55:51.873738Z",
     "iopub.status.idle": "2021-03-17T02:55:51.875840Z",
     "shell.execute_reply": "2021-03-17T02:55:51.876292Z"
    }
   },
   "outputs": [],
   "source": [
    "df = df[df.location == 'California'].append(df[df.location != 'California']).reset_index(drop=True)"
   ]
  },
  {
   "cell_type": "code",
   "execution_count": null,
   "metadata": {},
   "outputs": [],
   "source": []
  },
  {
   "cell_type": "code",
   "execution_count": 15,
   "metadata": {
    "execution": {
     "iopub.execute_input": "2021-03-17T02:55:51.881407Z",
     "iopub.status.busy": "2021-03-17T02:55:51.879414Z",
     "iopub.status.idle": "2021-03-17T02:55:51.899913Z",
     "shell.execute_reply": "2021-03-17T02:55:51.900333Z"
    }
   },
   "outputs": [],
   "source": [
    "tz = pytz.timezone(\"America/New_York\")"
   ]
  },
  {
   "cell_type": "code",
   "execution_count": 16,
   "metadata": {
    "execution": {
     "iopub.execute_input": "2021-03-17T02:55:51.904861Z",
     "iopub.status.busy": "2021-03-17T02:55:51.903500Z",
     "iopub.status.idle": "2021-03-17T02:55:51.905695Z",
     "shell.execute_reply": "2021-03-17T02:55:51.906374Z"
    }
   },
   "outputs": [],
   "source": [
    "today = datetime.now(tz).date()"
   ]
  },
  {
   "cell_type": "code",
   "execution_count": 17,
   "metadata": {
    "execution": {
     "iopub.execute_input": "2021-03-17T02:55:51.913902Z",
     "iopub.status.busy": "2021-03-17T02:55:51.912528Z",
     "iopub.status.idle": "2021-03-17T02:55:51.914558Z",
     "shell.execute_reply": "2021-03-17T02:55:51.915038Z"
    }
   },
   "outputs": [],
   "source": [
    "data_dir = os.path.join(os.path.abspath(\"\"), \"data\")"
   ]
  },
  {
   "cell_type": "code",
   "execution_count": 18,
   "metadata": {
    "execution": {
     "iopub.execute_input": "2021-03-17T02:55:51.921986Z",
     "iopub.status.busy": "2021-03-17T02:55:51.918714Z",
     "iopub.status.idle": "2021-03-17T02:55:51.925005Z",
     "shell.execute_reply": "2021-03-17T02:55:51.924463Z"
    }
   },
   "outputs": [],
   "source": [
    "df.to_csv(os.path.join(data_dir, f\"{today}.csv\"), index=False)"
   ]
  },
  {
   "cell_type": "code",
   "execution_count": null,
   "metadata": {},
   "outputs": [],
   "source": []
  }
 ],
 "metadata": {
  "kernelspec": {
   "display_name": "Python 3",
   "language": "python",
   "name": "python3"
  },
  "language_info": {
   "codemirror_mode": {
    "name": "ipython",
    "version": 3
   },
   "file_extension": ".py",
   "mimetype": "text/x-python",
   "name": "python",
   "nbconvert_exporter": "python",
   "pygments_lexer": "ipython3",
   "version": "3.8.8"
  }
 },
 "nbformat": 4,
 "nbformat_minor": 4
}
