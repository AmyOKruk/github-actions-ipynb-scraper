{
 "cells": [
  {
   "cell_type": "markdown",
   "metadata": {},
   "source": [
    "# California COVID vaccinations scrape"
   ]
  },
  {
   "cell_type": "markdown",
   "metadata": {},
   "source": [
    "By [Amy O'Kruk](https://twitter.com/amyokruk)"
   ]
  },
  {
   "cell_type": "markdown",
   "metadata": {},
   "source": [
    "Downloads data on vaccine doses administered by county and statewide from a Tableau-powered dashboard from the California Department of Public Health."
   ]
  },
  {
   "cell_type": "code",
   "execution_count": 1,
   "metadata": {
    "execution": {
     "iopub.execute_input": "2021-03-23T13:30:51.413099Z",
     "iopub.status.busy": "2021-03-23T13:30:51.412455Z",
     "iopub.status.idle": "2021-03-23T13:30:51.878906Z",
     "shell.execute_reply": "2021-03-23T13:30:51.879360Z"
    }
   },
   "outputs": [],
   "source": [
    "import pandas as pd\n",
    "import requests\n",
    "from bs4 import BeautifulSoup\n",
    "import json\n",
    "import re\n",
    "import time\n",
    "from time import gmtime, strftime \n",
    "import os\n",
    "import pytz\n",
    "from datetime import datetime"
   ]
  },
  {
   "cell_type": "markdown",
   "metadata": {},
   "source": [
    "Scrape the dashboard page"
   ]
  },
  {
   "cell_type": "code",
   "execution_count": 2,
   "metadata": {
    "execution": {
     "iopub.execute_input": "2021-03-23T13:30:51.885642Z",
     "iopub.status.busy": "2021-03-23T13:30:51.883057Z",
     "iopub.status.idle": "2021-03-23T13:30:52.294539Z",
     "shell.execute_reply": "2021-03-23T13:30:52.293518Z"
    }
   },
   "outputs": [],
   "source": [
    "url = \"https://public.tableau.com/interactive/views/COVID-19VaccineDashboardPublic/Vaccine?:embed=y&:showVizHome=n&:apiID=host0\"\n",
    "\n",
    "r = requests.get(url)\n",
    "soup = BeautifulSoup(r.text, \"html.parser\")"
   ]
  },
  {
   "cell_type": "code",
   "execution_count": 3,
   "metadata": {
    "execution": {
     "iopub.execute_input": "2021-03-23T13:30:52.299044Z",
     "iopub.status.busy": "2021-03-23T13:30:52.298520Z",
     "iopub.status.idle": "2021-03-23T13:30:52.302748Z",
     "shell.execute_reply": "2021-03-23T13:30:52.302169Z"
    }
   },
   "outputs": [],
   "source": [
    "tableauData = json.loads(soup.find(\"textarea\",{\"id\": \"tsConfigContainer\"}).text)"
   ]
  },
  {
   "cell_type": "markdown",
   "metadata": {},
   "source": [
    "Get the link to the Tableau data"
   ]
  },
  {
   "cell_type": "code",
   "execution_count": 4,
   "metadata": {
    "execution": {
     "iopub.execute_input": "2021-03-23T13:30:52.306171Z",
     "iopub.status.busy": "2021-03-23T13:30:52.305641Z",
     "iopub.status.idle": "2021-03-23T13:30:52.309864Z",
     "shell.execute_reply": "2021-03-23T13:30:52.309214Z"
    }
   },
   "outputs": [],
   "source": [
    "dataUrl = f'https://public.tableau.com{tableauData[\"vizql_root\"]}/bootstrapSession/sessions/{tableauData[\"sessionid\"]}'"
   ]
  },
  {
   "cell_type": "code",
   "execution_count": 5,
   "metadata": {
    "execution": {
     "iopub.execute_input": "2021-03-23T13:30:52.316739Z",
     "iopub.status.busy": "2021-03-23T13:30:52.316219Z",
     "iopub.status.idle": "2021-03-23T13:30:52.848818Z",
     "shell.execute_reply": "2021-03-23T13:30:52.848363Z"
    }
   },
   "outputs": [],
   "source": [
    "r = requests.post(dataUrl, data= {\n",
    "    \"sheet_id\": tableauData[\"sheetId\"],\n",
    "})\n",
    "\n",
    "dataReg = re.search('\\d+;({.*})\\d+;({.*})', r.text, re.MULTILINE)\n",
    "data1 = json.loads(dataReg.group(2))\n",
    "\n",
    "dataJson = data1[\"secondaryInfo\"][\"presModelMap\"][\"dataDictionary\"][\"presModelHolder\"][\"genDataDictionaryPresModel\"][\"dataSegments\"][\"0\"][\"dataColumns\"]"
   ]
  },
  {
   "cell_type": "markdown",
   "metadata": {},
   "source": [
    "Isolate what you want"
   ]
  },
  {
   "cell_type": "code",
   "execution_count": 6,
   "metadata": {
    "execution": {
     "iopub.execute_input": "2021-03-23T13:30:52.852253Z",
     "iopub.status.busy": "2021-03-23T13:30:52.851766Z",
     "iopub.status.idle": "2021-03-23T13:30:52.854959Z",
     "shell.execute_reply": "2021-03-23T13:30:52.856659Z"
    }
   },
   "outputs": [],
   "source": [
    "counties = dataJson[2]['dataValues'][:58]"
   ]
  },
  {
   "cell_type": "code",
   "execution_count": 7,
   "metadata": {
    "execution": {
     "iopub.execute_input": "2021-03-23T13:30:52.860514Z",
     "iopub.status.busy": "2021-03-23T13:30:52.860015Z",
     "iopub.status.idle": "2021-03-23T13:30:52.863032Z",
     "shell.execute_reply": "2021-03-23T13:30:52.863435Z"
    }
   },
   "outputs": [],
   "source": [
    "doses = dataJson[0]['dataValues'][3:61]"
   ]
  },
  {
   "cell_type": "markdown",
   "metadata": {},
   "source": [
    "Data formatting"
   ]
  },
  {
   "cell_type": "code",
   "execution_count": 8,
   "metadata": {
    "execution": {
     "iopub.execute_input": "2021-03-23T13:30:52.866825Z",
     "iopub.status.busy": "2021-03-23T13:30:52.866352Z",
     "iopub.status.idle": "2021-03-23T13:30:52.870050Z",
     "shell.execute_reply": "2021-03-23T13:30:52.869618Z"
    }
   },
   "outputs": [],
   "source": [
    "zipped = dict(zip(counties, doses))"
   ]
  },
  {
   "cell_type": "code",
   "execution_count": 9,
   "metadata": {
    "execution": {
     "iopub.execute_input": "2021-03-23T13:30:52.875770Z",
     "iopub.status.busy": "2021-03-23T13:30:52.875317Z",
     "iopub.status.idle": "2021-03-23T13:30:52.878351Z",
     "shell.execute_reply": "2021-03-23T13:30:52.878770Z"
    }
   },
   "outputs": [],
   "source": [
    "df = pd.Series(zipped).reset_index()"
   ]
  },
  {
   "cell_type": "code",
   "execution_count": 10,
   "metadata": {
    "execution": {
     "iopub.execute_input": "2021-03-23T13:30:52.882198Z",
     "iopub.status.busy": "2021-03-23T13:30:52.881729Z",
     "iopub.status.idle": "2021-03-23T13:30:52.884737Z",
     "shell.execute_reply": "2021-03-23T13:30:52.885245Z"
    }
   },
   "outputs": [],
   "source": [
    "df.columns = ['location','doses']"
   ]
  },
  {
   "cell_type": "markdown",
   "metadata": {},
   "source": [
    "Grab the overall California total"
   ]
  },
  {
   "cell_type": "code",
   "execution_count": 11,
   "metadata": {
    "execution": {
     "iopub.execute_input": "2021-03-23T13:30:52.889739Z",
     "iopub.status.busy": "2021-03-23T13:30:52.888504Z",
     "iopub.status.idle": "2021-03-23T13:30:52.890384Z",
     "shell.execute_reply": "2021-03-23T13:30:52.890840Z"
    }
   },
   "outputs": [],
   "source": [
    "add = {'location':'California','doses':dataJson[0]['dataValues'][2]}"
   ]
  },
  {
   "cell_type": "code",
   "execution_count": 12,
   "metadata": {
    "execution": {
     "iopub.execute_input": "2021-03-23T13:30:52.897783Z",
     "iopub.status.busy": "2021-03-23T13:30:52.896585Z",
     "iopub.status.idle": "2021-03-23T13:30:52.898311Z",
     "shell.execute_reply": "2021-03-23T13:30:52.898791Z"
    }
   },
   "outputs": [],
   "source": [
    "df = df.append(add, ignore_index=True)"
   ]
  },
  {
   "cell_type": "code",
   "execution_count": 13,
   "metadata": {
    "execution": {
     "iopub.execute_input": "2021-03-23T13:30:52.903728Z",
     "iopub.status.busy": "2021-03-23T13:30:52.902652Z",
     "iopub.status.idle": "2021-03-23T13:30:52.904362Z",
     "shell.execute_reply": "2021-03-23T13:30:52.904762Z"
    }
   },
   "outputs": [],
   "source": [
    "df = df.sort_values(by='location')"
   ]
  },
  {
   "cell_type": "code",
   "execution_count": 14,
   "metadata": {
    "execution": {
     "iopub.execute_input": "2021-03-23T13:30:52.911057Z",
     "iopub.status.busy": "2021-03-23T13:30:52.909969Z",
     "iopub.status.idle": "2021-03-23T13:30:52.912256Z",
     "shell.execute_reply": "2021-03-23T13:30:52.911783Z"
    }
   },
   "outputs": [],
   "source": [
    "df = df[df.location == 'California'].append(df[df.location != 'California']).reset_index(drop=True)"
   ]
  },
  {
   "cell_type": "code",
   "execution_count": null,
   "metadata": {},
   "outputs": [],
   "source": []
  },
  {
   "cell_type": "code",
   "execution_count": 15,
   "metadata": {
    "execution": {
     "iopub.execute_input": "2021-03-23T13:30:52.915665Z",
     "iopub.status.busy": "2021-03-23T13:30:52.915120Z",
     "iopub.status.idle": "2021-03-23T13:30:52.932864Z",
     "shell.execute_reply": "2021-03-23T13:30:52.932407Z"
    }
   },
   "outputs": [],
   "source": [
    "tz = pytz.timezone(\"America/New_York\")"
   ]
  },
  {
   "cell_type": "code",
   "execution_count": 16,
   "metadata": {
    "execution": {
     "iopub.execute_input": "2021-03-23T13:30:52.939688Z",
     "iopub.status.busy": "2021-03-23T13:30:52.938399Z",
     "iopub.status.idle": "2021-03-23T13:30:52.940331Z",
     "shell.execute_reply": "2021-03-23T13:30:52.940881Z"
    }
   },
   "outputs": [],
   "source": [
    "today = datetime.now(tz).date()"
   ]
  },
  {
   "cell_type": "code",
   "execution_count": 17,
   "metadata": {
    "execution": {
     "iopub.execute_input": "2021-03-23T13:30:52.945222Z",
     "iopub.status.busy": "2021-03-23T13:30:52.944058Z",
     "iopub.status.idle": "2021-03-23T13:30:52.946390Z",
     "shell.execute_reply": "2021-03-23T13:30:52.945920Z"
    }
   },
   "outputs": [],
   "source": [
    "data_dir = os.path.join(os.path.abspath(\"\"), \"data\")"
   ]
  },
  {
   "cell_type": "code",
   "execution_count": 18,
   "metadata": {
    "execution": {
     "iopub.execute_input": "2021-03-23T13:30:52.950383Z",
     "iopub.status.busy": "2021-03-23T13:30:52.949749Z",
     "iopub.status.idle": "2021-03-23T13:30:52.955553Z",
     "shell.execute_reply": "2021-03-23T13:30:52.954926Z"
    }
   },
   "outputs": [],
   "source": [
    "df.to_csv(os.path.join(data_dir, f\"{today}.csv\"), index=False)"
   ]
  },
  {
   "cell_type": "code",
   "execution_count": null,
   "metadata": {},
   "outputs": [],
   "source": []
  }
 ],
 "metadata": {
  "kernelspec": {
   "display_name": "Python 3",
   "language": "python",
   "name": "python3"
  },
  "language_info": {
   "codemirror_mode": {
    "name": "ipython",
    "version": 3
   },
   "file_extension": ".py",
   "mimetype": "text/x-python",
   "name": "python",
   "nbconvert_exporter": "python",
   "pygments_lexer": "ipython3",
   "version": "3.8.8"
  }
 },
 "nbformat": 4,
 "nbformat_minor": 4
}
