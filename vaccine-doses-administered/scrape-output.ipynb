{
 "cells": [
  {
   "cell_type": "markdown",
   "metadata": {},
   "source": [
    "# California COVID vaccinations scrape"
   ]
  },
  {
   "cell_type": "markdown",
   "metadata": {},
   "source": [
    "By [Amy O'Kruk](https://twitter.com/amyokruk)"
   ]
  },
  {
   "cell_type": "markdown",
   "metadata": {},
   "source": [
    "Downloads data on vaccine doses administered by county and statewide from a Tableau-powered dashboard from the California Department of Public Health."
   ]
  },
  {
   "cell_type": "code",
   "execution_count": 1,
   "metadata": {
    "execution": {
     "iopub.execute_input": "2021-03-19T12:17:04.534890Z",
     "iopub.status.busy": "2021-03-19T12:17:04.534108Z",
     "iopub.status.idle": "2021-03-19T12:17:05.057376Z",
     "shell.execute_reply": "2021-03-19T12:17:05.056776Z"
    }
   },
   "outputs": [],
   "source": [
    "import pandas as pd\n",
    "import requests\n",
    "from bs4 import BeautifulSoup\n",
    "import json\n",
    "import re\n",
    "import time\n",
    "from time import gmtime, strftime \n",
    "import os\n",
    "import pytz\n",
    "from datetime import datetime"
   ]
  },
  {
   "cell_type": "markdown",
   "metadata": {},
   "source": [
    "Scrape the dashboard page"
   ]
  },
  {
   "cell_type": "code",
   "execution_count": 2,
   "metadata": {
    "execution": {
     "iopub.execute_input": "2021-03-19T12:17:05.064772Z",
     "iopub.status.busy": "2021-03-19T12:17:05.060953Z",
     "iopub.status.idle": "2021-03-19T12:17:05.311561Z",
     "shell.execute_reply": "2021-03-19T12:17:05.310681Z"
    }
   },
   "outputs": [],
   "source": [
    "url = \"https://public.tableau.com/interactive/views/COVID-19VaccineDashboardPublic/Vaccine?:embed=y&:showVizHome=n&:apiID=host0\"\n",
    "\n",
    "r = requests.get(url)\n",
    "soup = BeautifulSoup(r.text, \"html.parser\")"
   ]
  },
  {
   "cell_type": "code",
   "execution_count": 3,
   "metadata": {
    "execution": {
     "iopub.execute_input": "2021-03-19T12:17:05.317907Z",
     "iopub.status.busy": "2021-03-19T12:17:05.317319Z",
     "iopub.status.idle": "2021-03-19T12:17:05.321009Z",
     "shell.execute_reply": "2021-03-19T12:17:05.321423Z"
    }
   },
   "outputs": [],
   "source": [
    "tableauData = json.loads(soup.find(\"textarea\",{\"id\": \"tsConfigContainer\"}).text)"
   ]
  },
  {
   "cell_type": "markdown",
   "metadata": {},
   "source": [
    "Get the link to the Tableau data"
   ]
  },
  {
   "cell_type": "code",
   "execution_count": 4,
   "metadata": {
    "execution": {
     "iopub.execute_input": "2021-03-19T12:17:05.328212Z",
     "iopub.status.busy": "2021-03-19T12:17:05.327666Z",
     "iopub.status.idle": "2021-03-19T12:17:05.331602Z",
     "shell.execute_reply": "2021-03-19T12:17:05.330858Z"
    }
   },
   "outputs": [],
   "source": [
    "dataUrl = f'https://public.tableau.com{tableauData[\"vizql_root\"]}/bootstrapSession/sessions/{tableauData[\"sessionid\"]}'"
   ]
  },
  {
   "cell_type": "code",
   "execution_count": 5,
   "metadata": {
    "execution": {
     "iopub.execute_input": "2021-03-19T12:17:05.338141Z",
     "iopub.status.busy": "2021-03-19T12:17:05.337592Z",
     "iopub.status.idle": "2021-03-19T12:17:05.459659Z",
     "shell.execute_reply": "2021-03-19T12:17:05.460136Z"
    }
   },
   "outputs": [],
   "source": [
    "r = requests.post(dataUrl, data= {\n",
    "    \"sheet_id\": tableauData[\"sheetId\"],\n",
    "})\n",
    "\n",
    "dataReg = re.search('\\d+;({.*})\\d+;({.*})', r.text, re.MULTILINE)\n",
    "data1 = json.loads(dataReg.group(2))\n",
    "\n",
    "dataJson = data1[\"secondaryInfo\"][\"presModelMap\"][\"dataDictionary\"][\"presModelHolder\"][\"genDataDictionaryPresModel\"][\"dataSegments\"][\"0\"][\"dataColumns\"]"
   ]
  },
  {
   "cell_type": "markdown",
   "metadata": {},
   "source": [
    "Isolate what you want"
   ]
  },
  {
   "cell_type": "code",
   "execution_count": 6,
   "metadata": {
    "execution": {
     "iopub.execute_input": "2021-03-19T12:17:05.465128Z",
     "iopub.status.busy": "2021-03-19T12:17:05.463879Z",
     "iopub.status.idle": "2021-03-19T12:17:05.465742Z",
     "shell.execute_reply": "2021-03-19T12:17:05.466225Z"
    }
   },
   "outputs": [],
   "source": [
    "counties = dataJson[2]['dataValues'][:58]"
   ]
  },
  {
   "cell_type": "code",
   "execution_count": 7,
   "metadata": {
    "execution": {
     "iopub.execute_input": "2021-03-19T12:17:05.469533Z",
     "iopub.status.busy": "2021-03-19T12:17:05.468472Z",
     "iopub.status.idle": "2021-03-19T12:17:05.473621Z",
     "shell.execute_reply": "2021-03-19T12:17:05.473113Z"
    }
   },
   "outputs": [],
   "source": [
    "doses = dataJson[0]['dataValues'][3:61]"
   ]
  },
  {
   "cell_type": "markdown",
   "metadata": {},
   "source": [
    "Data formatting"
   ]
  },
  {
   "cell_type": "code",
   "execution_count": 8,
   "metadata": {
    "execution": {
     "iopub.execute_input": "2021-03-19T12:17:05.478082Z",
     "iopub.status.busy": "2021-03-19T12:17:05.476854Z",
     "iopub.status.idle": "2021-03-19T12:17:05.478812Z",
     "shell.execute_reply": "2021-03-19T12:17:05.479338Z"
    }
   },
   "outputs": [],
   "source": [
    "zipped = dict(zip(counties, doses))"
   ]
  },
  {
   "cell_type": "code",
   "execution_count": 9,
   "metadata": {
    "execution": {
     "iopub.execute_input": "2021-03-19T12:17:05.485662Z",
     "iopub.status.busy": "2021-03-19T12:17:05.484973Z",
     "iopub.status.idle": "2021-03-19T12:17:05.488937Z",
     "shell.execute_reply": "2021-03-19T12:17:05.488300Z"
    }
   },
   "outputs": [],
   "source": [
    "df = pd.Series(zipped).reset_index()"
   ]
  },
  {
   "cell_type": "code",
   "execution_count": 10,
   "metadata": {
    "execution": {
     "iopub.execute_input": "2021-03-19T12:17:05.493515Z",
     "iopub.status.busy": "2021-03-19T12:17:05.492152Z",
     "iopub.status.idle": "2021-03-19T12:17:05.494097Z",
     "shell.execute_reply": "2021-03-19T12:17:05.494557Z"
    }
   },
   "outputs": [],
   "source": [
    "df.columns = ['location','doses']"
   ]
  },
  {
   "cell_type": "markdown",
   "metadata": {},
   "source": [
    "Grab the overall California total"
   ]
  },
  {
   "cell_type": "code",
   "execution_count": 11,
   "metadata": {
    "execution": {
     "iopub.execute_input": "2021-03-19T12:17:05.498968Z",
     "iopub.status.busy": "2021-03-19T12:17:05.497671Z",
     "iopub.status.idle": "2021-03-19T12:17:05.499679Z",
     "shell.execute_reply": "2021-03-19T12:17:05.500142Z"
    }
   },
   "outputs": [],
   "source": [
    "add = {'location':'California','doses':dataJson[0]['dataValues'][2]}"
   ]
  },
  {
   "cell_type": "code",
   "execution_count": 12,
   "metadata": {
    "execution": {
     "iopub.execute_input": "2021-03-19T12:17:05.506207Z",
     "iopub.status.busy": "2021-03-19T12:17:05.504250Z",
     "iopub.status.idle": "2021-03-19T12:17:05.508516Z",
     "shell.execute_reply": "2021-03-19T12:17:05.507916Z"
    }
   },
   "outputs": [],
   "source": [
    "df = df.append(add, ignore_index=True)"
   ]
  },
  {
   "cell_type": "code",
   "execution_count": 13,
   "metadata": {
    "execution": {
     "iopub.execute_input": "2021-03-19T12:17:05.513614Z",
     "iopub.status.busy": "2021-03-19T12:17:05.512213Z",
     "iopub.status.idle": "2021-03-19T12:17:05.514247Z",
     "shell.execute_reply": "2021-03-19T12:17:05.514757Z"
    }
   },
   "outputs": [],
   "source": [
    "df = df.sort_values(by='location')"
   ]
  },
  {
   "cell_type": "code",
   "execution_count": 14,
   "metadata": {
    "execution": {
     "iopub.execute_input": "2021-03-19T12:17:05.522518Z",
     "iopub.status.busy": "2021-03-19T12:17:05.521109Z",
     "iopub.status.idle": "2021-03-19T12:17:05.523150Z",
     "shell.execute_reply": "2021-03-19T12:17:05.523634Z"
    }
   },
   "outputs": [],
   "source": [
    "df = df[df.location == 'California'].append(df[df.location != 'California']).reset_index(drop=True)"
   ]
  },
  {
   "cell_type": "code",
   "execution_count": null,
   "metadata": {},
   "outputs": [],
   "source": []
  },
  {
   "cell_type": "code",
   "execution_count": 15,
   "metadata": {
    "execution": {
     "iopub.execute_input": "2021-03-19T12:17:05.527414Z",
     "iopub.status.busy": "2021-03-19T12:17:05.526835Z",
     "iopub.status.idle": "2021-03-19T12:17:05.546666Z",
     "shell.execute_reply": "2021-03-19T12:17:05.546081Z"
    }
   },
   "outputs": [],
   "source": [
    "tz = pytz.timezone(\"America/New_York\")"
   ]
  },
  {
   "cell_type": "code",
   "execution_count": 16,
   "metadata": {
    "execution": {
     "iopub.execute_input": "2021-03-19T12:17:05.551762Z",
     "iopub.status.busy": "2021-03-19T12:17:05.550347Z",
     "iopub.status.idle": "2021-03-19T12:17:05.552396Z",
     "shell.execute_reply": "2021-03-19T12:17:05.552884Z"
    }
   },
   "outputs": [],
   "source": [
    "today = datetime.now(tz).date()"
   ]
  },
  {
   "cell_type": "code",
   "execution_count": 17,
   "metadata": {
    "execution": {
     "iopub.execute_input": "2021-03-19T12:17:05.557814Z",
     "iopub.status.busy": "2021-03-19T12:17:05.556393Z",
     "iopub.status.idle": "2021-03-19T12:17:05.558489Z",
     "shell.execute_reply": "2021-03-19T12:17:05.558983Z"
    }
   },
   "outputs": [],
   "source": [
    "data_dir = os.path.join(os.path.abspath(\"\"), \"data\")"
   ]
  },
  {
   "cell_type": "code",
   "execution_count": 18,
   "metadata": {
    "execution": {
     "iopub.execute_input": "2021-03-19T12:17:05.564899Z",
     "iopub.status.busy": "2021-03-19T12:17:05.562238Z",
     "iopub.status.idle": "2021-03-19T12:17:05.568472Z",
     "shell.execute_reply": "2021-03-19T12:17:05.568928Z"
    }
   },
   "outputs": [],
   "source": [
    "df.to_csv(os.path.join(data_dir, f\"{today}.csv\"), index=False)"
   ]
  },
  {
   "cell_type": "code",
   "execution_count": null,
   "metadata": {},
   "outputs": [],
   "source": []
  }
 ],
 "metadata": {
  "kernelspec": {
   "display_name": "Python 3",
   "language": "python",
   "name": "python3"
  },
  "language_info": {
   "codemirror_mode": {
    "name": "ipython",
    "version": 3
   },
   "file_extension": ".py",
   "mimetype": "text/x-python",
   "name": "python",
   "nbconvert_exporter": "python",
   "pygments_lexer": "ipython3",
   "version": "3.8.8"
  }
 },
 "nbformat": 4,
 "nbformat_minor": 4
}
