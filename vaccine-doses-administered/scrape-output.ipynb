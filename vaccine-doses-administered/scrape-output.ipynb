{
 "cells": [
  {
   "cell_type": "markdown",
   "metadata": {},
   "source": [
    "# California COVID vaccinations scrape"
   ]
  },
  {
   "cell_type": "markdown",
   "metadata": {},
   "source": [
    "By [Amy O'Kruk](https://twitter.com/amyokruk)"
   ]
  },
  {
   "cell_type": "markdown",
   "metadata": {},
   "source": [
    "Downloads data on vaccine doses administered by county and statewide from a Tableau-powered dashboard from the California Department of Public Health."
   ]
  },
  {
   "cell_type": "code",
   "execution_count": 1,
   "metadata": {
    "execution": {
     "iopub.execute_input": "2021-03-23T23:13:49.860169Z",
     "iopub.status.busy": "2021-03-23T23:13:49.859543Z",
     "iopub.status.idle": "2021-03-23T23:13:50.249230Z",
     "shell.execute_reply": "2021-03-23T23:13:50.247987Z"
    }
   },
   "outputs": [],
   "source": [
    "import pandas as pd\n",
    "import requests\n",
    "from bs4 import BeautifulSoup\n",
    "import json\n",
    "import re\n",
    "import time\n",
    "from time import gmtime, strftime \n",
    "import os\n",
    "import pytz\n",
    "from datetime import datetime"
   ]
  },
  {
   "cell_type": "markdown",
   "metadata": {},
   "source": [
    "Scrape the dashboard page"
   ]
  },
  {
   "cell_type": "code",
   "execution_count": 2,
   "metadata": {
    "execution": {
     "iopub.execute_input": "2021-03-23T23:13:50.254834Z",
     "iopub.status.busy": "2021-03-23T23:13:50.252673Z",
     "iopub.status.idle": "2021-03-23T23:13:50.906590Z",
     "shell.execute_reply": "2021-03-23T23:13:50.905742Z"
    }
   },
   "outputs": [],
   "source": [
    "url = \"https://public.tableau.com/interactive/views/COVID-19VaccineDashboardPublic/Vaccine?:embed=y&:showVizHome=n&:apiID=host0\"\n",
    "\n",
    "r = requests.get(url)\n",
    "soup = BeautifulSoup(r.text, \"html.parser\")"
   ]
  },
  {
   "cell_type": "code",
   "execution_count": 3,
   "metadata": {
    "execution": {
     "iopub.execute_input": "2021-03-23T23:13:50.911411Z",
     "iopub.status.busy": "2021-03-23T23:13:50.910926Z",
     "iopub.status.idle": "2021-03-23T23:13:50.914282Z",
     "shell.execute_reply": "2021-03-23T23:13:50.913805Z"
    }
   },
   "outputs": [],
   "source": [
    "tableauData = json.loads(soup.find(\"textarea\",{\"id\": \"tsConfigContainer\"}).text)"
   ]
  },
  {
   "cell_type": "markdown",
   "metadata": {},
   "source": [
    "Get the link to the Tableau data"
   ]
  },
  {
   "cell_type": "code",
   "execution_count": 4,
   "metadata": {
    "execution": {
     "iopub.execute_input": "2021-03-23T23:13:50.918105Z",
     "iopub.status.busy": "2021-03-23T23:13:50.917118Z",
     "iopub.status.idle": "2021-03-23T23:13:50.918607Z",
     "shell.execute_reply": "2021-03-23T23:13:50.919057Z"
    }
   },
   "outputs": [],
   "source": [
    "dataUrl = f'https://public.tableau.com{tableauData[\"vizql_root\"]}/bootstrapSession/sessions/{tableauData[\"sessionid\"]}'"
   ]
  },
  {
   "cell_type": "code",
   "execution_count": 5,
   "metadata": {
    "execution": {
     "iopub.execute_input": "2021-03-23T23:13:50.924925Z",
     "iopub.status.busy": "2021-03-23T23:13:50.924385Z",
     "iopub.status.idle": "2021-03-23T23:13:51.303974Z",
     "shell.execute_reply": "2021-03-23T23:13:51.303189Z"
    }
   },
   "outputs": [],
   "source": [
    "r = requests.post(dataUrl, data= {\n",
    "    \"sheet_id\": tableauData[\"sheetId\"],\n",
    "})\n",
    "\n",
    "dataReg = re.search('\\d+;({.*})\\d+;({.*})', r.text, re.MULTILINE)\n",
    "data1 = json.loads(dataReg.group(2))\n",
    "\n",
    "dataJson = data1[\"secondaryInfo\"][\"presModelMap\"][\"dataDictionary\"][\"presModelHolder\"][\"genDataDictionaryPresModel\"][\"dataSegments\"][\"0\"][\"dataColumns\"]"
   ]
  },
  {
   "cell_type": "markdown",
   "metadata": {},
   "source": [
    "Isolate what you want"
   ]
  },
  {
   "cell_type": "code",
   "execution_count": 6,
   "metadata": {
    "execution": {
     "iopub.execute_input": "2021-03-23T23:13:51.307944Z",
     "iopub.status.busy": "2021-03-23T23:13:51.307421Z",
     "iopub.status.idle": "2021-03-23T23:13:51.310783Z",
     "shell.execute_reply": "2021-03-23T23:13:51.310371Z"
    }
   },
   "outputs": [],
   "source": [
    "counties = dataJson[2]['dataValues'][:58]"
   ]
  },
  {
   "cell_type": "code",
   "execution_count": 7,
   "metadata": {
    "execution": {
     "iopub.execute_input": "2021-03-23T23:13:51.314597Z",
     "iopub.status.busy": "2021-03-23T23:13:51.313719Z",
     "iopub.status.idle": "2021-03-23T23:13:51.315444Z",
     "shell.execute_reply": "2021-03-23T23:13:51.315867Z"
    }
   },
   "outputs": [],
   "source": [
    "doses = dataJson[0]['dataValues'][3:61]"
   ]
  },
  {
   "cell_type": "markdown",
   "metadata": {},
   "source": [
    "Data formatting"
   ]
  },
  {
   "cell_type": "code",
   "execution_count": 8,
   "metadata": {
    "execution": {
     "iopub.execute_input": "2021-03-23T23:13:51.320061Z",
     "iopub.status.busy": "2021-03-23T23:13:51.318919Z",
     "iopub.status.idle": "2021-03-23T23:13:51.320724Z",
     "shell.execute_reply": "2021-03-23T23:13:51.321143Z"
    }
   },
   "outputs": [],
   "source": [
    "zipped = dict(zip(counties, doses))"
   ]
  },
  {
   "cell_type": "code",
   "execution_count": 9,
   "metadata": {
    "execution": {
     "iopub.execute_input": "2021-03-23T23:13:51.327748Z",
     "iopub.status.busy": "2021-03-23T23:13:51.326654Z",
     "iopub.status.idle": "2021-03-23T23:13:51.328417Z",
     "shell.execute_reply": "2021-03-23T23:13:51.328848Z"
    }
   },
   "outputs": [],
   "source": [
    "df = pd.Series(zipped).reset_index()"
   ]
  },
  {
   "cell_type": "code",
   "execution_count": 10,
   "metadata": {
    "execution": {
     "iopub.execute_input": "2021-03-23T23:13:51.333156Z",
     "iopub.status.busy": "2021-03-23T23:13:51.332018Z",
     "iopub.status.idle": "2021-03-23T23:13:51.333761Z",
     "shell.execute_reply": "2021-03-23T23:13:51.334179Z"
    }
   },
   "outputs": [],
   "source": [
    "df.columns = ['location','doses']"
   ]
  },
  {
   "cell_type": "markdown",
   "metadata": {},
   "source": [
    "Grab the overall California total"
   ]
  },
  {
   "cell_type": "code",
   "execution_count": 11,
   "metadata": {
    "execution": {
     "iopub.execute_input": "2021-03-23T23:13:51.338099Z",
     "iopub.status.busy": "2021-03-23T23:13:51.337246Z",
     "iopub.status.idle": "2021-03-23T23:13:51.339153Z",
     "shell.execute_reply": "2021-03-23T23:13:51.339520Z"
    }
   },
   "outputs": [],
   "source": [
    "add = {'location':'California','doses':dataJson[0]['dataValues'][2]}"
   ]
  },
  {
   "cell_type": "code",
   "execution_count": 12,
   "metadata": {
    "execution": {
     "iopub.execute_input": "2021-03-23T23:13:51.346429Z",
     "iopub.status.busy": "2021-03-23T23:13:51.345200Z",
     "iopub.status.idle": "2021-03-23T23:13:51.347033Z",
     "shell.execute_reply": "2021-03-23T23:13:51.347424Z"
    }
   },
   "outputs": [],
   "source": [
    "df = df.append(add, ignore_index=True)"
   ]
  },
  {
   "cell_type": "code",
   "execution_count": 13,
   "metadata": {
    "execution": {
     "iopub.execute_input": "2021-03-23T23:13:51.351928Z",
     "iopub.status.busy": "2021-03-23T23:13:51.351054Z",
     "iopub.status.idle": "2021-03-23T23:13:51.352761Z",
     "shell.execute_reply": "2021-03-23T23:13:51.353178Z"
    }
   },
   "outputs": [],
   "source": [
    "df = df.sort_values(by='location')"
   ]
  },
  {
   "cell_type": "code",
   "execution_count": 14,
   "metadata": {
    "execution": {
     "iopub.execute_input": "2021-03-23T23:13:51.359472Z",
     "iopub.status.busy": "2021-03-23T23:13:51.358330Z",
     "iopub.status.idle": "2021-03-23T23:13:51.360063Z",
     "shell.execute_reply": "2021-03-23T23:13:51.360486Z"
    }
   },
   "outputs": [],
   "source": [
    "df = df[df.location == 'California'].append(df[df.location != 'California']).reset_index(drop=True)"
   ]
  },
  {
   "cell_type": "code",
   "execution_count": null,
   "metadata": {},
   "outputs": [],
   "source": []
  },
  {
   "cell_type": "code",
   "execution_count": 15,
   "metadata": {
    "execution": {
     "iopub.execute_input": "2021-03-23T23:13:51.363493Z",
     "iopub.status.busy": "2021-03-23T23:13:51.363027Z",
     "iopub.status.idle": "2021-03-23T23:13:51.379560Z",
     "shell.execute_reply": "2021-03-23T23:13:51.379149Z"
    }
   },
   "outputs": [],
   "source": [
    "tz = pytz.timezone(\"America/New_York\")"
   ]
  },
  {
   "cell_type": "code",
   "execution_count": 16,
   "metadata": {
    "execution": {
     "iopub.execute_input": "2021-03-23T23:13:51.383383Z",
     "iopub.status.busy": "2021-03-23T23:13:51.382916Z",
     "iopub.status.idle": "2021-03-23T23:13:51.386566Z",
     "shell.execute_reply": "2021-03-23T23:13:51.386136Z"
    }
   },
   "outputs": [],
   "source": [
    "today = datetime.now(tz).date()"
   ]
  },
  {
   "cell_type": "code",
   "execution_count": 17,
   "metadata": {
    "execution": {
     "iopub.execute_input": "2021-03-23T23:13:51.390043Z",
     "iopub.status.busy": "2021-03-23T23:13:51.389538Z",
     "iopub.status.idle": "2021-03-23T23:13:51.392977Z",
     "shell.execute_reply": "2021-03-23T23:13:51.392503Z"
    }
   },
   "outputs": [],
   "source": [
    "data_dir = os.path.join(os.path.abspath(\"\"), \"data\")"
   ]
  },
  {
   "cell_type": "code",
   "execution_count": 18,
   "metadata": {
    "execution": {
     "iopub.execute_input": "2021-03-23T23:13:51.397741Z",
     "iopub.status.busy": "2021-03-23T23:13:51.396084Z",
     "iopub.status.idle": "2021-03-23T23:13:51.402159Z",
     "shell.execute_reply": "2021-03-23T23:13:51.401263Z"
    }
   },
   "outputs": [],
   "source": [
    "df.to_csv(os.path.join(data_dir, f\"{today}.csv\"), index=False)"
   ]
  },
  {
   "cell_type": "code",
   "execution_count": null,
   "metadata": {},
   "outputs": [],
   "source": []
  }
 ],
 "metadata": {
  "kernelspec": {
   "display_name": "Python 3",
   "language": "python",
   "name": "python3"
  },
  "language_info": {
   "codemirror_mode": {
    "name": "ipython",
    "version": 3
   },
   "file_extension": ".py",
   "mimetype": "text/x-python",
   "name": "python",
   "nbconvert_exporter": "python",
   "pygments_lexer": "ipython3",
   "version": "3.8.8"
  }
 },
 "nbformat": 4,
 "nbformat_minor": 4
}
