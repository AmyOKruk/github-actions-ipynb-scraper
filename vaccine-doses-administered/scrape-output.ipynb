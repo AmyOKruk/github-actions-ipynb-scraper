{
 "cells": [
  {
   "cell_type": "markdown",
   "metadata": {},
   "source": [
    "# California COVID vaccinations scrape"
   ]
  },
  {
   "cell_type": "markdown",
   "metadata": {},
   "source": [
    "By [Amy O'Kruk](https://twitter.com/amyokruk)"
   ]
  },
  {
   "cell_type": "markdown",
   "metadata": {},
   "source": [
    "Downloads data on vaccine doses administered by county and statewide from a Tableau-powered dashboard from the California Department of Public Health."
   ]
  },
  {
   "cell_type": "code",
   "execution_count": 1,
   "metadata": {
    "execution": {
     "iopub.execute_input": "2021-03-09T04:15:33.762035Z",
     "iopub.status.busy": "2021-03-09T04:15:33.761425Z",
     "iopub.status.idle": "2021-03-09T04:15:34.124034Z",
     "shell.execute_reply": "2021-03-09T04:15:34.123150Z"
    }
   },
   "outputs": [],
   "source": [
    "import pandas as pd\n",
    "import requests\n",
    "from bs4 import BeautifulSoup\n",
    "import json\n",
    "import re\n",
    "import time\n",
    "from time import gmtime, strftime \n",
    "import os\n",
    "import pytz\n",
    "from datetime import datetime"
   ]
  },
  {
   "cell_type": "markdown",
   "metadata": {},
   "source": [
    "Scrape the dashboard page"
   ]
  },
  {
   "cell_type": "code",
   "execution_count": 2,
   "metadata": {
    "execution": {
     "iopub.execute_input": "2021-03-09T04:15:34.130108Z",
     "iopub.status.busy": "2021-03-09T04:15:34.128146Z",
     "iopub.status.idle": "2021-03-09T04:15:34.480730Z",
     "shell.execute_reply": "2021-03-09T04:15:34.480235Z"
    }
   },
   "outputs": [],
   "source": [
    "url = \"https://public.tableau.com/interactive/views/COVID-19VaccineDashboardPublic/Vaccine?:embed=y&:showVizHome=n&:apiID=host0\"\n",
    "\n",
    "r = requests.get(url)\n",
    "soup = BeautifulSoup(r.text, \"html.parser\")"
   ]
  },
  {
   "cell_type": "code",
   "execution_count": 3,
   "metadata": {
    "execution": {
     "iopub.execute_input": "2021-03-09T04:15:34.484835Z",
     "iopub.status.busy": "2021-03-09T04:15:34.484359Z",
     "iopub.status.idle": "2021-03-09T04:15:34.487476Z",
     "shell.execute_reply": "2021-03-09T04:15:34.487860Z"
    }
   },
   "outputs": [],
   "source": [
    "tableauData = json.loads(soup.find(\"textarea\",{\"id\": \"tsConfigContainer\"}).text)"
   ]
  },
  {
   "cell_type": "markdown",
   "metadata": {},
   "source": [
    "Get the link to the Tableau data"
   ]
  },
  {
   "cell_type": "code",
   "execution_count": 4,
   "metadata": {
    "execution": {
     "iopub.execute_input": "2021-03-09T04:15:34.491189Z",
     "iopub.status.busy": "2021-03-09T04:15:34.490666Z",
     "iopub.status.idle": "2021-03-09T04:15:34.493693Z",
     "shell.execute_reply": "2021-03-09T04:15:34.494094Z"
    }
   },
   "outputs": [],
   "source": [
    "dataUrl = f'https://public.tableau.com{tableauData[\"vizql_root\"]}/bootstrapSession/sessions/{tableauData[\"sessionid\"]}'"
   ]
  },
  {
   "cell_type": "code",
   "execution_count": 5,
   "metadata": {
    "execution": {
     "iopub.execute_input": "2021-03-09T04:15:34.500001Z",
     "iopub.status.busy": "2021-03-09T04:15:34.499352Z",
     "iopub.status.idle": "2021-03-09T04:15:34.977296Z",
     "shell.execute_reply": "2021-03-09T04:15:34.976727Z"
    }
   },
   "outputs": [],
   "source": [
    "r = requests.post(dataUrl, data= {\n",
    "    \"sheet_id\": tableauData[\"sheetId\"],\n",
    "})\n",
    "\n",
    "dataReg = re.search('\\d+;({.*})\\d+;({.*})', r.text, re.MULTILINE)\n",
    "data1 = json.loads(dataReg.group(2))\n",
    "\n",
    "dataJson = data1[\"secondaryInfo\"][\"presModelMap\"][\"dataDictionary\"][\"presModelHolder\"][\"genDataDictionaryPresModel\"][\"dataSegments\"][\"0\"][\"dataColumns\"]"
   ]
  },
  {
   "cell_type": "markdown",
   "metadata": {},
   "source": [
    "Isolate what you want"
   ]
  },
  {
   "cell_type": "code",
   "execution_count": 6,
   "metadata": {
    "execution": {
     "iopub.execute_input": "2021-03-09T04:15:34.982552Z",
     "iopub.status.busy": "2021-03-09T04:15:34.981253Z",
     "iopub.status.idle": "2021-03-09T04:15:34.983174Z",
     "shell.execute_reply": "2021-03-09T04:15:34.983681Z"
    }
   },
   "outputs": [],
   "source": [
    "counties = dataJson[2]['dataValues'][:58]"
   ]
  },
  {
   "cell_type": "code",
   "execution_count": 7,
   "metadata": {
    "execution": {
     "iopub.execute_input": "2021-03-09T04:15:34.988685Z",
     "iopub.status.busy": "2021-03-09T04:15:34.987281Z",
     "iopub.status.idle": "2021-03-09T04:15:34.989289Z",
     "shell.execute_reply": "2021-03-09T04:15:34.989755Z"
    }
   },
   "outputs": [],
   "source": [
    "doses = dataJson[0]['dataValues'][3:61]"
   ]
  },
  {
   "cell_type": "markdown",
   "metadata": {},
   "source": [
    "Data formatting"
   ]
  },
  {
   "cell_type": "code",
   "execution_count": 8,
   "metadata": {
    "execution": {
     "iopub.execute_input": "2021-03-09T04:15:34.994149Z",
     "iopub.status.busy": "2021-03-09T04:15:34.992920Z",
     "iopub.status.idle": "2021-03-09T04:15:34.994853Z",
     "shell.execute_reply": "2021-03-09T04:15:34.995301Z"
    }
   },
   "outputs": [],
   "source": [
    "zipped = dict(zip(counties, doses))"
   ]
  },
  {
   "cell_type": "code",
   "execution_count": 9,
   "metadata": {
    "execution": {
     "iopub.execute_input": "2021-03-09T04:15:35.002207Z",
     "iopub.status.busy": "2021-03-09T04:15:35.000682Z",
     "iopub.status.idle": "2021-03-09T04:15:35.003044Z",
     "shell.execute_reply": "2021-03-09T04:15:35.003470Z"
    }
   },
   "outputs": [],
   "source": [
    "df = pd.Series(zipped).reset_index()"
   ]
  },
  {
   "cell_type": "code",
   "execution_count": 10,
   "metadata": {
    "execution": {
     "iopub.execute_input": "2021-03-09T04:15:35.007594Z",
     "iopub.status.busy": "2021-03-09T04:15:35.006661Z",
     "iopub.status.idle": "2021-03-09T04:15:35.008406Z",
     "shell.execute_reply": "2021-03-09T04:15:35.008809Z"
    }
   },
   "outputs": [],
   "source": [
    "df.columns = ['location','doses']"
   ]
  },
  {
   "cell_type": "markdown",
   "metadata": {},
   "source": [
    "Grab the overall California total"
   ]
  },
  {
   "cell_type": "code",
   "execution_count": 11,
   "metadata": {
    "execution": {
     "iopub.execute_input": "2021-03-09T04:15:35.012820Z",
     "iopub.status.busy": "2021-03-09T04:15:35.011728Z",
     "iopub.status.idle": "2021-03-09T04:15:35.013466Z",
     "shell.execute_reply": "2021-03-09T04:15:35.013866Z"
    }
   },
   "outputs": [],
   "source": [
    "add = {'location':'California','doses':dataJson[0]['dataValues'][2]}"
   ]
  },
  {
   "cell_type": "code",
   "execution_count": 12,
   "metadata": {
    "execution": {
     "iopub.execute_input": "2021-03-09T04:15:35.019941Z",
     "iopub.status.busy": "2021-03-09T04:15:35.018177Z",
     "iopub.status.idle": "2021-03-09T04:15:35.022198Z",
     "shell.execute_reply": "2021-03-09T04:15:35.021772Z"
    }
   },
   "outputs": [],
   "source": [
    "df = df.append(add, ignore_index=True)"
   ]
  },
  {
   "cell_type": "code",
   "execution_count": 13,
   "metadata": {
    "execution": {
     "iopub.execute_input": "2021-03-09T04:15:35.026772Z",
     "iopub.status.busy": "2021-03-09T04:15:35.025859Z",
     "iopub.status.idle": "2021-03-09T04:15:35.027888Z",
     "shell.execute_reply": "2021-03-09T04:15:35.028330Z"
    }
   },
   "outputs": [],
   "source": [
    "df = df.sort_values(by='location')"
   ]
  },
  {
   "cell_type": "code",
   "execution_count": 14,
   "metadata": {
    "execution": {
     "iopub.execute_input": "2021-03-09T04:15:35.035321Z",
     "iopub.status.busy": "2021-03-09T04:15:35.034125Z",
     "iopub.status.idle": "2021-03-09T04:15:35.036064Z",
     "shell.execute_reply": "2021-03-09T04:15:35.036524Z"
    }
   },
   "outputs": [],
   "source": [
    "df = df[df.location == 'California'].append(df[df.location != 'California']).reset_index(drop=True)"
   ]
  },
  {
   "cell_type": "code",
   "execution_count": null,
   "metadata": {},
   "outputs": [],
   "source": []
  },
  {
   "cell_type": "code",
   "execution_count": 15,
   "metadata": {
    "execution": {
     "iopub.execute_input": "2021-03-09T04:15:35.040087Z",
     "iopub.status.busy": "2021-03-09T04:15:35.039541Z",
     "iopub.status.idle": "2021-03-09T04:15:35.058461Z",
     "shell.execute_reply": "2021-03-09T04:15:35.058916Z"
    }
   },
   "outputs": [],
   "source": [
    "tz = pytz.timezone(\"America/New_York\")"
   ]
  },
  {
   "cell_type": "code",
   "execution_count": 16,
   "metadata": {
    "execution": {
     "iopub.execute_input": "2021-03-09T04:15:35.063721Z",
     "iopub.status.busy": "2021-03-09T04:15:35.062240Z",
     "iopub.status.idle": "2021-03-09T04:15:35.064560Z",
     "shell.execute_reply": "2021-03-09T04:15:35.065120Z"
    }
   },
   "outputs": [],
   "source": [
    "today = datetime.now(tz).date()"
   ]
  },
  {
   "cell_type": "code",
   "execution_count": 17,
   "metadata": {
    "execution": {
     "iopub.execute_input": "2021-03-09T04:15:35.069656Z",
     "iopub.status.busy": "2021-03-09T04:15:35.068286Z",
     "iopub.status.idle": "2021-03-09T04:15:35.070255Z",
     "shell.execute_reply": "2021-03-09T04:15:35.070756Z"
    }
   },
   "outputs": [],
   "source": [
    "data_dir = os.path.join(os.path.abspath(\"\"), \"data\")"
   ]
  },
  {
   "cell_type": "code",
   "execution_count": 18,
   "metadata": {
    "execution": {
     "iopub.execute_input": "2021-03-09T04:15:35.074802Z",
     "iopub.status.busy": "2021-03-09T04:15:35.074021Z",
     "iopub.status.idle": "2021-03-09T04:15:35.078517Z",
     "shell.execute_reply": "2021-03-09T04:15:35.078928Z"
    }
   },
   "outputs": [],
   "source": [
    "df.to_csv(os.path.join(data_dir, f\"{today}.csv\"), index=False)"
   ]
  },
  {
   "cell_type": "code",
   "execution_count": null,
   "metadata": {},
   "outputs": [],
   "source": []
  }
 ],
 "metadata": {
  "kernelspec": {
   "display_name": "Python 3",
   "language": "python",
   "name": "python3"
  },
  "language_info": {
   "codemirror_mode": {
    "name": "ipython",
    "version": 3
   },
   "file_extension": ".py",
   "mimetype": "text/x-python",
   "name": "python",
   "nbconvert_exporter": "python",
   "pygments_lexer": "ipython3",
   "version": "3.8.8"
  }
 },
 "nbformat": 4,
 "nbformat_minor": 4
}
