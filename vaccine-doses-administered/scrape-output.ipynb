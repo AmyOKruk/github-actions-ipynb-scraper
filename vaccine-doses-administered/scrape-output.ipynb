{
 "cells": [
  {
   "cell_type": "markdown",
   "metadata": {},
   "source": [
    "# California COVID vaccinations scrape"
   ]
  },
  {
   "cell_type": "markdown",
   "metadata": {},
   "source": [
    "By [Amy O'Kruk](https://twitter.com/amyokruk)"
   ]
  },
  {
   "cell_type": "markdown",
   "metadata": {},
   "source": [
    "Downloads data on vaccine doses administered by county and statewide from a Tableau-powered dashboard from the California Department of Public Health."
   ]
  },
  {
   "cell_type": "code",
   "execution_count": 1,
   "metadata": {
    "execution": {
     "iopub.execute_input": "2021-03-16T08:15:01.247326Z",
     "iopub.status.busy": "2021-03-16T08:15:01.246589Z",
     "iopub.status.idle": "2021-03-16T08:15:01.699959Z",
     "shell.execute_reply": "2021-03-16T08:15:01.699202Z"
    }
   },
   "outputs": [],
   "source": [
    "import pandas as pd\n",
    "import requests\n",
    "from bs4 import BeautifulSoup\n",
    "import json\n",
    "import re\n",
    "import time\n",
    "from time import gmtime, strftime \n",
    "import os\n",
    "import pytz\n",
    "from datetime import datetime"
   ]
  },
  {
   "cell_type": "markdown",
   "metadata": {},
   "source": [
    "Scrape the dashboard page"
   ]
  },
  {
   "cell_type": "code",
   "execution_count": 2,
   "metadata": {
    "execution": {
     "iopub.execute_input": "2021-03-16T08:15:01.706499Z",
     "iopub.status.busy": "2021-03-16T08:15:01.704047Z",
     "iopub.status.idle": "2021-03-16T08:15:02.306657Z",
     "shell.execute_reply": "2021-03-16T08:15:02.306060Z"
    }
   },
   "outputs": [],
   "source": [
    "url = \"https://public.tableau.com/interactive/views/COVID-19VaccineDashboardPublic/Vaccine?:embed=y&:showVizHome=n&:apiID=host0\"\n",
    "\n",
    "r = requests.get(url)\n",
    "soup = BeautifulSoup(r.text, \"html.parser\")"
   ]
  },
  {
   "cell_type": "code",
   "execution_count": 3,
   "metadata": {
    "execution": {
     "iopub.execute_input": "2021-03-16T08:15:02.311897Z",
     "iopub.status.busy": "2021-03-16T08:15:02.311304Z",
     "iopub.status.idle": "2021-03-16T08:15:02.315688Z",
     "shell.execute_reply": "2021-03-16T08:15:02.315143Z"
    }
   },
   "outputs": [],
   "source": [
    "tableauData = json.loads(soup.find(\"textarea\",{\"id\": \"tsConfigContainer\"}).text)"
   ]
  },
  {
   "cell_type": "markdown",
   "metadata": {},
   "source": [
    "Get the link to the Tableau data"
   ]
  },
  {
   "cell_type": "code",
   "execution_count": 4,
   "metadata": {
    "execution": {
     "iopub.execute_input": "2021-03-16T08:15:02.319947Z",
     "iopub.status.busy": "2021-03-16T08:15:02.319277Z",
     "iopub.status.idle": "2021-03-16T08:15:02.321498Z",
     "shell.execute_reply": "2021-03-16T08:15:02.321951Z"
    }
   },
   "outputs": [],
   "source": [
    "dataUrl = f'https://public.tableau.com{tableauData[\"vizql_root\"]}/bootstrapSession/sessions/{tableauData[\"sessionid\"]}'"
   ]
  },
  {
   "cell_type": "code",
   "execution_count": 5,
   "metadata": {
    "execution": {
     "iopub.execute_input": "2021-03-16T08:15:02.329267Z",
     "iopub.status.busy": "2021-03-16T08:15:02.328663Z",
     "iopub.status.idle": "2021-03-16T08:15:02.664224Z",
     "shell.execute_reply": "2021-03-16T08:15:02.663708Z"
    }
   },
   "outputs": [],
   "source": [
    "r = requests.post(dataUrl, data= {\n",
    "    \"sheet_id\": tableauData[\"sheetId\"],\n",
    "})\n",
    "\n",
    "dataReg = re.search('\\d+;({.*})\\d+;({.*})', r.text, re.MULTILINE)\n",
    "data1 = json.loads(dataReg.group(2))\n",
    "\n",
    "dataJson = data1[\"secondaryInfo\"][\"presModelMap\"][\"dataDictionary\"][\"presModelHolder\"][\"genDataDictionaryPresModel\"][\"dataSegments\"][\"0\"][\"dataColumns\"]"
   ]
  },
  {
   "cell_type": "markdown",
   "metadata": {},
   "source": [
    "Isolate what you want"
   ]
  },
  {
   "cell_type": "code",
   "execution_count": 6,
   "metadata": {
    "execution": {
     "iopub.execute_input": "2021-03-16T08:15:02.668585Z",
     "iopub.status.busy": "2021-03-16T08:15:02.667818Z",
     "iopub.status.idle": "2021-03-16T08:15:02.670286Z",
     "shell.execute_reply": "2021-03-16T08:15:02.670947Z"
    }
   },
   "outputs": [],
   "source": [
    "counties = dataJson[2]['dataValues'][:58]"
   ]
  },
  {
   "cell_type": "code",
   "execution_count": 7,
   "metadata": {
    "execution": {
     "iopub.execute_input": "2021-03-16T08:15:02.677020Z",
     "iopub.status.busy": "2021-03-16T08:15:02.675195Z",
     "iopub.status.idle": "2021-03-16T08:15:02.677733Z",
     "shell.execute_reply": "2021-03-16T08:15:02.678333Z"
    }
   },
   "outputs": [],
   "source": [
    "doses = dataJson[0]['dataValues'][3:61]"
   ]
  },
  {
   "cell_type": "markdown",
   "metadata": {},
   "source": [
    "Data formatting"
   ]
  },
  {
   "cell_type": "code",
   "execution_count": 8,
   "metadata": {
    "execution": {
     "iopub.execute_input": "2021-03-16T08:15:02.684521Z",
     "iopub.status.busy": "2021-03-16T08:15:02.682581Z",
     "iopub.status.idle": "2021-03-16T08:15:02.685573Z",
     "shell.execute_reply": "2021-03-16T08:15:02.686281Z"
    }
   },
   "outputs": [],
   "source": [
    "zipped = dict(zip(counties, doses))"
   ]
  },
  {
   "cell_type": "code",
   "execution_count": 9,
   "metadata": {
    "execution": {
     "iopub.execute_input": "2021-03-16T08:15:02.693600Z",
     "iopub.status.busy": "2021-03-16T08:15:02.692207Z",
     "iopub.status.idle": "2021-03-16T08:15:02.694233Z",
     "shell.execute_reply": "2021-03-16T08:15:02.694719Z"
    }
   },
   "outputs": [],
   "source": [
    "df = pd.Series(zipped).reset_index()"
   ]
  },
  {
   "cell_type": "code",
   "execution_count": 10,
   "metadata": {
    "execution": {
     "iopub.execute_input": "2021-03-16T08:15:02.700412Z",
     "iopub.status.busy": "2021-03-16T08:15:02.698887Z",
     "iopub.status.idle": "2021-03-16T08:15:02.701426Z",
     "shell.execute_reply": "2021-03-16T08:15:02.701939Z"
    }
   },
   "outputs": [],
   "source": [
    "df.columns = ['location','doses']"
   ]
  },
  {
   "cell_type": "markdown",
   "metadata": {},
   "source": [
    "Grab the overall California total"
   ]
  },
  {
   "cell_type": "code",
   "execution_count": 11,
   "metadata": {
    "execution": {
     "iopub.execute_input": "2021-03-16T08:15:02.707240Z",
     "iopub.status.busy": "2021-03-16T08:15:02.705754Z",
     "iopub.status.idle": "2021-03-16T08:15:02.707973Z",
     "shell.execute_reply": "2021-03-16T08:15:02.708494Z"
    }
   },
   "outputs": [],
   "source": [
    "add = {'location':'California','doses':dataJson[0]['dataValues'][2]}"
   ]
  },
  {
   "cell_type": "code",
   "execution_count": 12,
   "metadata": {
    "execution": {
     "iopub.execute_input": "2021-03-16T08:15:02.717526Z",
     "iopub.status.busy": "2021-03-16T08:15:02.716103Z",
     "iopub.status.idle": "2021-03-16T08:15:02.718691Z",
     "shell.execute_reply": "2021-03-16T08:15:02.718134Z"
    }
   },
   "outputs": [],
   "source": [
    "df = df.append(add, ignore_index=True)"
   ]
  },
  {
   "cell_type": "code",
   "execution_count": 13,
   "metadata": {
    "execution": {
     "iopub.execute_input": "2021-03-16T08:15:02.723930Z",
     "iopub.status.busy": "2021-03-16T08:15:02.722669Z",
     "iopub.status.idle": "2021-03-16T08:15:02.725003Z",
     "shell.execute_reply": "2021-03-16T08:15:02.725493Z"
    }
   },
   "outputs": [],
   "source": [
    "df = df.sort_values(by='location')"
   ]
  },
  {
   "cell_type": "code",
   "execution_count": 14,
   "metadata": {
    "execution": {
     "iopub.execute_input": "2021-03-16T08:15:02.733618Z",
     "iopub.status.busy": "2021-03-16T08:15:02.732167Z",
     "iopub.status.idle": "2021-03-16T08:15:02.734278Z",
     "shell.execute_reply": "2021-03-16T08:15:02.734816Z"
    }
   },
   "outputs": [],
   "source": [
    "df = df[df.location == 'California'].append(df[df.location != 'California']).reset_index(drop=True)"
   ]
  },
  {
   "cell_type": "code",
   "execution_count": null,
   "metadata": {},
   "outputs": [],
   "source": []
  },
  {
   "cell_type": "code",
   "execution_count": 15,
   "metadata": {
    "execution": {
     "iopub.execute_input": "2021-03-16T08:15:02.738779Z",
     "iopub.status.busy": "2021-03-16T08:15:02.738220Z",
     "iopub.status.idle": "2021-03-16T08:15:02.756997Z",
     "shell.execute_reply": "2021-03-16T08:15:02.757434Z"
    }
   },
   "outputs": [],
   "source": [
    "tz = pytz.timezone(\"America/New_York\")"
   ]
  },
  {
   "cell_type": "code",
   "execution_count": 16,
   "metadata": {
    "execution": {
     "iopub.execute_input": "2021-03-16T08:15:02.762281Z",
     "iopub.status.busy": "2021-03-16T08:15:02.760911Z",
     "iopub.status.idle": "2021-03-16T08:15:02.762905Z",
     "shell.execute_reply": "2021-03-16T08:15:02.763392Z"
    }
   },
   "outputs": [],
   "source": [
    "today = datetime.now(tz).date()"
   ]
  },
  {
   "cell_type": "code",
   "execution_count": 17,
   "metadata": {
    "execution": {
     "iopub.execute_input": "2021-03-16T08:15:02.768421Z",
     "iopub.status.busy": "2021-03-16T08:15:02.766943Z",
     "iopub.status.idle": "2021-03-16T08:15:02.769238Z",
     "shell.execute_reply": "2021-03-16T08:15:02.769902Z"
    }
   },
   "outputs": [],
   "source": [
    "data_dir = os.path.join(os.path.abspath(\"\"), \"data\")"
   ]
  },
  {
   "cell_type": "code",
   "execution_count": 18,
   "metadata": {
    "execution": {
     "iopub.execute_input": "2021-03-16T08:15:02.774984Z",
     "iopub.status.busy": "2021-03-16T08:15:02.773626Z",
     "iopub.status.idle": "2021-03-16T08:15:02.778864Z",
     "shell.execute_reply": "2021-03-16T08:15:02.778239Z"
    }
   },
   "outputs": [],
   "source": [
    "df.to_csv(os.path.join(data_dir, f\"{today}.csv\"), index=False)"
   ]
  },
  {
   "cell_type": "code",
   "execution_count": null,
   "metadata": {},
   "outputs": [],
   "source": []
  }
 ],
 "metadata": {
  "kernelspec": {
   "display_name": "Python 3",
   "language": "python",
   "name": "python3"
  },
  "language_info": {
   "codemirror_mode": {
    "name": "ipython",
    "version": 3
   },
   "file_extension": ".py",
   "mimetype": "text/x-python",
   "name": "python",
   "nbconvert_exporter": "python",
   "pygments_lexer": "ipython3",
   "version": "3.8.8"
  }
 },
 "nbformat": 4,
 "nbformat_minor": 4
}
