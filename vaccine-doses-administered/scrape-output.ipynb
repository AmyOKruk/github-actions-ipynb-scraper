{
 "cells": [
  {
   "cell_type": "markdown",
   "metadata": {},
   "source": [
    "# California COVID vaccinations scrape"
   ]
  },
  {
   "cell_type": "markdown",
   "metadata": {},
   "source": [
    "By [Amy O'Kruk](https://twitter.com/amyokruk)"
   ]
  },
  {
   "cell_type": "markdown",
   "metadata": {},
   "source": [
    "Downloads data on vaccine doses administered by county and statewide from a Tableau-powered dashboard from the California Department of Public Health."
   ]
  },
  {
   "cell_type": "code",
   "execution_count": 1,
   "metadata": {
    "execution": {
     "iopub.execute_input": "2021-03-16T22:46:42.998349Z",
     "iopub.status.busy": "2021-03-16T22:46:42.997721Z",
     "iopub.status.idle": "2021-03-16T22:46:43.398289Z",
     "shell.execute_reply": "2021-03-16T22:46:43.398765Z"
    }
   },
   "outputs": [],
   "source": [
    "import pandas as pd\n",
    "import requests\n",
    "from bs4 import BeautifulSoup\n",
    "import json\n",
    "import re\n",
    "import time\n",
    "from time import gmtime, strftime \n",
    "import os\n",
    "import pytz\n",
    "from datetime import datetime"
   ]
  },
  {
   "cell_type": "markdown",
   "metadata": {},
   "source": [
    "Scrape the dashboard page"
   ]
  },
  {
   "cell_type": "code",
   "execution_count": 2,
   "metadata": {
    "execution": {
     "iopub.execute_input": "2021-03-16T22:46:43.405117Z",
     "iopub.status.busy": "2021-03-16T22:46:43.402812Z",
     "iopub.status.idle": "2021-03-16T22:46:43.779189Z",
     "shell.execute_reply": "2021-03-16T22:46:43.778419Z"
    }
   },
   "outputs": [],
   "source": [
    "url = \"https://public.tableau.com/interactive/views/COVID-19VaccineDashboardPublic/Vaccine?:embed=y&:showVizHome=n&:apiID=host0\"\n",
    "\n",
    "r = requests.get(url)\n",
    "soup = BeautifulSoup(r.text, \"html.parser\")"
   ]
  },
  {
   "cell_type": "code",
   "execution_count": 3,
   "metadata": {
    "execution": {
     "iopub.execute_input": "2021-03-16T22:46:43.785037Z",
     "iopub.status.busy": "2021-03-16T22:46:43.783404Z",
     "iopub.status.idle": "2021-03-16T22:46:43.785700Z",
     "shell.execute_reply": "2021-03-16T22:46:43.786148Z"
    }
   },
   "outputs": [],
   "source": [
    "tableauData = json.loads(soup.find(\"textarea\",{\"id\": \"tsConfigContainer\"}).text)"
   ]
  },
  {
   "cell_type": "markdown",
   "metadata": {},
   "source": [
    "Get the link to the Tableau data"
   ]
  },
  {
   "cell_type": "code",
   "execution_count": 4,
   "metadata": {
    "execution": {
     "iopub.execute_input": "2021-03-16T22:46:43.790848Z",
     "iopub.status.busy": "2021-03-16T22:46:43.789431Z",
     "iopub.status.idle": "2021-03-16T22:46:43.791589Z",
     "shell.execute_reply": "2021-03-16T22:46:43.792116Z"
    }
   },
   "outputs": [],
   "source": [
    "dataUrl = f'https://public.tableau.com{tableauData[\"vizql_root\"]}/bootstrapSession/sessions/{tableauData[\"sessionid\"]}'"
   ]
  },
  {
   "cell_type": "code",
   "execution_count": 5,
   "metadata": {
    "execution": {
     "iopub.execute_input": "2021-03-16T22:46:43.798534Z",
     "iopub.status.busy": "2021-03-16T22:46:43.797902Z",
     "iopub.status.idle": "2021-03-16T22:46:44.203782Z",
     "shell.execute_reply": "2021-03-16T22:46:44.203299Z"
    }
   },
   "outputs": [],
   "source": [
    "r = requests.post(dataUrl, data= {\n",
    "    \"sheet_id\": tableauData[\"sheetId\"],\n",
    "})\n",
    "\n",
    "dataReg = re.search('\\d+;({.*})\\d+;({.*})', r.text, re.MULTILINE)\n",
    "data1 = json.loads(dataReg.group(2))\n",
    "\n",
    "dataJson = data1[\"secondaryInfo\"][\"presModelMap\"][\"dataDictionary\"][\"presModelHolder\"][\"genDataDictionaryPresModel\"][\"dataSegments\"][\"0\"][\"dataColumns\"]"
   ]
  },
  {
   "cell_type": "markdown",
   "metadata": {},
   "source": [
    "Isolate what you want"
   ]
  },
  {
   "cell_type": "code",
   "execution_count": 6,
   "metadata": {
    "execution": {
     "iopub.execute_input": "2021-03-16T22:46:44.207897Z",
     "iopub.status.busy": "2021-03-16T22:46:44.207375Z",
     "iopub.status.idle": "2021-03-16T22:46:44.211788Z",
     "shell.execute_reply": "2021-03-16T22:46:44.210954Z"
    }
   },
   "outputs": [],
   "source": [
    "counties = dataJson[2]['dataValues'][:58]"
   ]
  },
  {
   "cell_type": "code",
   "execution_count": 7,
   "metadata": {
    "execution": {
     "iopub.execute_input": "2021-03-16T22:46:44.216593Z",
     "iopub.status.busy": "2021-03-16T22:46:44.215150Z",
     "iopub.status.idle": "2021-03-16T22:46:44.217171Z",
     "shell.execute_reply": "2021-03-16T22:46:44.217640Z"
    }
   },
   "outputs": [],
   "source": [
    "doses = dataJson[0]['dataValues'][3:61]"
   ]
  },
  {
   "cell_type": "markdown",
   "metadata": {},
   "source": [
    "Data formatting"
   ]
  },
  {
   "cell_type": "code",
   "execution_count": 8,
   "metadata": {
    "execution": {
     "iopub.execute_input": "2021-03-16T22:46:44.221520Z",
     "iopub.status.busy": "2021-03-16T22:46:44.220594Z",
     "iopub.status.idle": "2021-03-16T22:46:44.223341Z",
     "shell.execute_reply": "2021-03-16T22:46:44.222827Z"
    }
   },
   "outputs": [],
   "source": [
    "zipped = dict(zip(counties, doses))"
   ]
  },
  {
   "cell_type": "code",
   "execution_count": 9,
   "metadata": {
    "execution": {
     "iopub.execute_input": "2021-03-16T22:46:44.229648Z",
     "iopub.status.busy": "2021-03-16T22:46:44.228630Z",
     "iopub.status.idle": "2021-03-16T22:46:44.230704Z",
     "shell.execute_reply": "2021-03-16T22:46:44.231151Z"
    }
   },
   "outputs": [],
   "source": [
    "df = pd.Series(zipped).reset_index()"
   ]
  },
  {
   "cell_type": "code",
   "execution_count": 10,
   "metadata": {
    "execution": {
     "iopub.execute_input": "2021-03-16T22:46:44.235617Z",
     "iopub.status.busy": "2021-03-16T22:46:44.234584Z",
     "iopub.status.idle": "2021-03-16T22:46:44.236623Z",
     "shell.execute_reply": "2021-03-16T22:46:44.237208Z"
    }
   },
   "outputs": [],
   "source": [
    "df.columns = ['location','doses']"
   ]
  },
  {
   "cell_type": "markdown",
   "metadata": {},
   "source": [
    "Grab the overall California total"
   ]
  },
  {
   "cell_type": "code",
   "execution_count": 11,
   "metadata": {
    "execution": {
     "iopub.execute_input": "2021-03-16T22:46:44.241963Z",
     "iopub.status.busy": "2021-03-16T22:46:44.240523Z",
     "iopub.status.idle": "2021-03-16T22:46:44.242559Z",
     "shell.execute_reply": "2021-03-16T22:46:44.243026Z"
    }
   },
   "outputs": [],
   "source": [
    "add = {'location':'California','doses':dataJson[0]['dataValues'][2]}"
   ]
  },
  {
   "cell_type": "code",
   "execution_count": 12,
   "metadata": {
    "execution": {
     "iopub.execute_input": "2021-03-16T22:46:44.249922Z",
     "iopub.status.busy": "2021-03-16T22:46:44.248852Z",
     "iopub.status.idle": "2021-03-16T22:46:44.250695Z",
     "shell.execute_reply": "2021-03-16T22:46:44.251157Z"
    }
   },
   "outputs": [],
   "source": [
    "df = df.append(add, ignore_index=True)"
   ]
  },
  {
   "cell_type": "code",
   "execution_count": 13,
   "metadata": {
    "execution": {
     "iopub.execute_input": "2021-03-16T22:46:44.256200Z",
     "iopub.status.busy": "2021-03-16T22:46:44.255130Z",
     "iopub.status.idle": "2021-03-16T22:46:44.256829Z",
     "shell.execute_reply": "2021-03-16T22:46:44.257312Z"
    }
   },
   "outputs": [],
   "source": [
    "df = df.sort_values(by='location')"
   ]
  },
  {
   "cell_type": "code",
   "execution_count": 14,
   "metadata": {
    "execution": {
     "iopub.execute_input": "2021-03-16T22:46:44.263812Z",
     "iopub.status.busy": "2021-03-16T22:46:44.262440Z",
     "iopub.status.idle": "2021-03-16T22:46:44.264409Z",
     "shell.execute_reply": "2021-03-16T22:46:44.264883Z"
    }
   },
   "outputs": [],
   "source": [
    "df = df[df.location == 'California'].append(df[df.location != 'California']).reset_index(drop=True)"
   ]
  },
  {
   "cell_type": "code",
   "execution_count": null,
   "metadata": {},
   "outputs": [],
   "source": []
  },
  {
   "cell_type": "code",
   "execution_count": 15,
   "metadata": {
    "execution": {
     "iopub.execute_input": "2021-03-16T22:46:44.268560Z",
     "iopub.status.busy": "2021-03-16T22:46:44.267804Z",
     "iopub.status.idle": "2021-03-16T22:46:44.286310Z",
     "shell.execute_reply": "2021-03-16T22:46:44.285790Z"
    }
   },
   "outputs": [],
   "source": [
    "tz = pytz.timezone(\"America/New_York\")"
   ]
  },
  {
   "cell_type": "code",
   "execution_count": 16,
   "metadata": {
    "execution": {
     "iopub.execute_input": "2021-03-16T22:46:44.290775Z",
     "iopub.status.busy": "2021-03-16T22:46:44.289390Z",
     "iopub.status.idle": "2021-03-16T22:46:44.291371Z",
     "shell.execute_reply": "2021-03-16T22:46:44.291915Z"
    }
   },
   "outputs": [],
   "source": [
    "today = datetime.now(tz).date()"
   ]
  },
  {
   "cell_type": "code",
   "execution_count": 17,
   "metadata": {
    "execution": {
     "iopub.execute_input": "2021-03-16T22:46:44.296587Z",
     "iopub.status.busy": "2021-03-16T22:46:44.295394Z",
     "iopub.status.idle": "2021-03-16T22:46:44.297911Z",
     "shell.execute_reply": "2021-03-16T22:46:44.297343Z"
    }
   },
   "outputs": [],
   "source": [
    "data_dir = os.path.join(os.path.abspath(\"\"), \"data\")"
   ]
  },
  {
   "cell_type": "code",
   "execution_count": 18,
   "metadata": {
    "execution": {
     "iopub.execute_input": "2021-03-16T22:46:44.302786Z",
     "iopub.status.busy": "2021-03-16T22:46:44.301485Z",
     "iopub.status.idle": "2021-03-16T22:46:44.306086Z",
     "shell.execute_reply": "2021-03-16T22:46:44.306531Z"
    }
   },
   "outputs": [],
   "source": [
    "df.to_csv(os.path.join(data_dir, f\"{today}.csv\"), index=False)"
   ]
  },
  {
   "cell_type": "code",
   "execution_count": null,
   "metadata": {},
   "outputs": [],
   "source": []
  }
 ],
 "metadata": {
  "kernelspec": {
   "display_name": "Python 3",
   "language": "python",
   "name": "python3"
  },
  "language_info": {
   "codemirror_mode": {
    "name": "ipython",
    "version": 3
   },
   "file_extension": ".py",
   "mimetype": "text/x-python",
   "name": "python",
   "nbconvert_exporter": "python",
   "pygments_lexer": "ipython3",
   "version": "3.8.8"
  }
 },
 "nbformat": 4,
 "nbformat_minor": 4
}
