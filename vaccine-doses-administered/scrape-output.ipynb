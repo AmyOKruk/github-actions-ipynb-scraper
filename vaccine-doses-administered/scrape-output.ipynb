{
 "cells": [
  {
   "cell_type": "markdown",
   "metadata": {},
   "source": [
    "# California COVID vaccinations scrape"
   ]
  },
  {
   "cell_type": "markdown",
   "metadata": {},
   "source": [
    "By [Amy O'Kruk](https://twitter.com/amyokruk)"
   ]
  },
  {
   "cell_type": "markdown",
   "metadata": {},
   "source": [
    "Downloads data on vaccine doses administered by county and statewide from a Tableau-powered dashboard from the California Department of Public Health."
   ]
  },
  {
   "cell_type": "code",
   "execution_count": 1,
   "metadata": {
    "execution": {
     "iopub.execute_input": "2021-03-20T10:44:30.432042Z",
     "iopub.status.busy": "2021-03-20T10:44:30.431456Z",
     "iopub.status.idle": "2021-03-20T10:44:30.799782Z",
     "shell.execute_reply": "2021-03-20T10:44:30.798856Z"
    }
   },
   "outputs": [],
   "source": [
    "import pandas as pd\n",
    "import requests\n",
    "from bs4 import BeautifulSoup\n",
    "import json\n",
    "import re\n",
    "import time\n",
    "from time import gmtime, strftime \n",
    "import os\n",
    "import pytz\n",
    "from datetime import datetime"
   ]
  },
  {
   "cell_type": "markdown",
   "metadata": {},
   "source": [
    "Scrape the dashboard page"
   ]
  },
  {
   "cell_type": "code",
   "execution_count": 2,
   "metadata": {
    "execution": {
     "iopub.execute_input": "2021-03-20T10:44:30.806075Z",
     "iopub.status.busy": "2021-03-20T10:44:30.805499Z",
     "iopub.status.idle": "2021-03-20T10:44:31.272559Z",
     "shell.execute_reply": "2021-03-20T10:44:31.273294Z"
    }
   },
   "outputs": [],
   "source": [
    "url = \"https://public.tableau.com/interactive/views/COVID-19VaccineDashboardPublic/Vaccine?:embed=y&:showVizHome=n&:apiID=host0\"\n",
    "\n",
    "r = requests.get(url)\n",
    "soup = BeautifulSoup(r.text, \"html.parser\")"
   ]
  },
  {
   "cell_type": "code",
   "execution_count": 3,
   "metadata": {
    "execution": {
     "iopub.execute_input": "2021-03-20T10:44:31.278923Z",
     "iopub.status.busy": "2021-03-20T10:44:31.278400Z",
     "iopub.status.idle": "2021-03-20T10:44:31.282207Z",
     "shell.execute_reply": "2021-03-20T10:44:31.281790Z"
    }
   },
   "outputs": [],
   "source": [
    "tableauData = json.loads(soup.find(\"textarea\",{\"id\": \"tsConfigContainer\"}).text)"
   ]
  },
  {
   "cell_type": "markdown",
   "metadata": {},
   "source": [
    "Get the link to the Tableau data"
   ]
  },
  {
   "cell_type": "code",
   "execution_count": 4,
   "metadata": {
    "execution": {
     "iopub.execute_input": "2021-03-20T10:44:31.286226Z",
     "iopub.status.busy": "2021-03-20T10:44:31.284971Z",
     "iopub.status.idle": "2021-03-20T10:44:31.286737Z",
     "shell.execute_reply": "2021-03-20T10:44:31.287080Z"
    }
   },
   "outputs": [],
   "source": [
    "dataUrl = f'https://public.tableau.com{tableauData[\"vizql_root\"]}/bootstrapSession/sessions/{tableauData[\"sessionid\"]}'"
   ]
  },
  {
   "cell_type": "code",
   "execution_count": 5,
   "metadata": {
    "execution": {
     "iopub.execute_input": "2021-03-20T10:44:31.293469Z",
     "iopub.status.busy": "2021-03-20T10:44:31.292937Z",
     "iopub.status.idle": "2021-03-20T10:44:31.602582Z",
     "shell.execute_reply": "2021-03-20T10:44:31.601568Z"
    }
   },
   "outputs": [],
   "source": [
    "r = requests.post(dataUrl, data= {\n",
    "    \"sheet_id\": tableauData[\"sheetId\"],\n",
    "})\n",
    "\n",
    "dataReg = re.search('\\d+;({.*})\\d+;({.*})', r.text, re.MULTILINE)\n",
    "data1 = json.loads(dataReg.group(2))\n",
    "\n",
    "dataJson = data1[\"secondaryInfo\"][\"presModelMap\"][\"dataDictionary\"][\"presModelHolder\"][\"genDataDictionaryPresModel\"][\"dataSegments\"][\"0\"][\"dataColumns\"]"
   ]
  },
  {
   "cell_type": "markdown",
   "metadata": {},
   "source": [
    "Isolate what you want"
   ]
  },
  {
   "cell_type": "code",
   "execution_count": 6,
   "metadata": {
    "execution": {
     "iopub.execute_input": "2021-03-20T10:44:31.606394Z",
     "iopub.status.busy": "2021-03-20T10:44:31.605853Z",
     "iopub.status.idle": "2021-03-20T10:44:31.609359Z",
     "shell.execute_reply": "2021-03-20T10:44:31.608901Z"
    }
   },
   "outputs": [],
   "source": [
    "counties = dataJson[2]['dataValues'][:58]"
   ]
  },
  {
   "cell_type": "code",
   "execution_count": 7,
   "metadata": {
    "execution": {
     "iopub.execute_input": "2021-03-20T10:44:31.612988Z",
     "iopub.status.busy": "2021-03-20T10:44:31.612498Z",
     "iopub.status.idle": "2021-03-20T10:44:31.615784Z",
     "shell.execute_reply": "2021-03-20T10:44:31.615330Z"
    }
   },
   "outputs": [],
   "source": [
    "doses = dataJson[0]['dataValues'][3:61]"
   ]
  },
  {
   "cell_type": "markdown",
   "metadata": {},
   "source": [
    "Data formatting"
   ]
  },
  {
   "cell_type": "code",
   "execution_count": 8,
   "metadata": {
    "execution": {
     "iopub.execute_input": "2021-03-20T10:44:31.619360Z",
     "iopub.status.busy": "2021-03-20T10:44:31.618851Z",
     "iopub.status.idle": "2021-03-20T10:44:31.622351Z",
     "shell.execute_reply": "2021-03-20T10:44:31.621910Z"
    }
   },
   "outputs": [],
   "source": [
    "zipped = dict(zip(counties, doses))"
   ]
  },
  {
   "cell_type": "code",
   "execution_count": 9,
   "metadata": {
    "execution": {
     "iopub.execute_input": "2021-03-20T10:44:31.627548Z",
     "iopub.status.busy": "2021-03-20T10:44:31.627134Z",
     "iopub.status.idle": "2021-03-20T10:44:31.630390Z",
     "shell.execute_reply": "2021-03-20T10:44:31.629949Z"
    }
   },
   "outputs": [],
   "source": [
    "df = pd.Series(zipped).reset_index()"
   ]
  },
  {
   "cell_type": "code",
   "execution_count": 10,
   "metadata": {
    "execution": {
     "iopub.execute_input": "2021-03-20T10:44:31.634052Z",
     "iopub.status.busy": "2021-03-20T10:44:31.633492Z",
     "iopub.status.idle": "2021-03-20T10:44:31.636862Z",
     "shell.execute_reply": "2021-03-20T10:44:31.636412Z"
    }
   },
   "outputs": [],
   "source": [
    "df.columns = ['location','doses']"
   ]
  },
  {
   "cell_type": "markdown",
   "metadata": {},
   "source": [
    "Grab the overall California total"
   ]
  },
  {
   "cell_type": "code",
   "execution_count": 11,
   "metadata": {
    "execution": {
     "iopub.execute_input": "2021-03-20T10:44:31.640389Z",
     "iopub.status.busy": "2021-03-20T10:44:31.639882Z",
     "iopub.status.idle": "2021-03-20T10:44:31.643875Z",
     "shell.execute_reply": "2021-03-20T10:44:31.643423Z"
    }
   },
   "outputs": [],
   "source": [
    "add = {'location':'California','doses':dataJson[0]['dataValues'][2]}"
   ]
  },
  {
   "cell_type": "code",
   "execution_count": 12,
   "metadata": {
    "execution": {
     "iopub.execute_input": "2021-03-20T10:44:31.650018Z",
     "iopub.status.busy": "2021-03-20T10:44:31.649467Z",
     "iopub.status.idle": "2021-03-20T10:44:31.652807Z",
     "shell.execute_reply": "2021-03-20T10:44:31.652346Z"
    }
   },
   "outputs": [],
   "source": [
    "df = df.append(add, ignore_index=True)"
   ]
  },
  {
   "cell_type": "code",
   "execution_count": 13,
   "metadata": {
    "execution": {
     "iopub.execute_input": "2021-03-20T10:44:31.656943Z",
     "iopub.status.busy": "2021-03-20T10:44:31.656435Z",
     "iopub.status.idle": "2021-03-20T10:44:31.659950Z",
     "shell.execute_reply": "2021-03-20T10:44:31.659483Z"
    }
   },
   "outputs": [],
   "source": [
    "df = df.sort_values(by='location')"
   ]
  },
  {
   "cell_type": "code",
   "execution_count": 14,
   "metadata": {
    "execution": {
     "iopub.execute_input": "2021-03-20T10:44:31.665425Z",
     "iopub.status.busy": "2021-03-20T10:44:31.664917Z",
     "iopub.status.idle": "2021-03-20T10:44:31.668353Z",
     "shell.execute_reply": "2021-03-20T10:44:31.667893Z"
    }
   },
   "outputs": [],
   "source": [
    "df = df[df.location == 'California'].append(df[df.location != 'California']).reset_index(drop=True)"
   ]
  },
  {
   "cell_type": "code",
   "execution_count": null,
   "metadata": {},
   "outputs": [],
   "source": []
  },
  {
   "cell_type": "code",
   "execution_count": 15,
   "metadata": {
    "execution": {
     "iopub.execute_input": "2021-03-20T10:44:31.671752Z",
     "iopub.status.busy": "2021-03-20T10:44:31.671007Z",
     "iopub.status.idle": "2021-03-20T10:44:31.689461Z",
     "shell.execute_reply": "2021-03-20T10:44:31.688947Z"
    }
   },
   "outputs": [],
   "source": [
    "tz = pytz.timezone(\"America/New_York\")"
   ]
  },
  {
   "cell_type": "code",
   "execution_count": 16,
   "metadata": {
    "execution": {
     "iopub.execute_input": "2021-03-20T10:44:31.692734Z",
     "iopub.status.busy": "2021-03-20T10:44:31.692261Z",
     "iopub.status.idle": "2021-03-20T10:44:31.695505Z",
     "shell.execute_reply": "2021-03-20T10:44:31.695064Z"
    }
   },
   "outputs": [],
   "source": [
    "today = datetime.now(tz).date()"
   ]
  },
  {
   "cell_type": "code",
   "execution_count": 17,
   "metadata": {
    "execution": {
     "iopub.execute_input": "2021-03-20T10:44:31.699004Z",
     "iopub.status.busy": "2021-03-20T10:44:31.698492Z",
     "iopub.status.idle": "2021-03-20T10:44:31.702348Z",
     "shell.execute_reply": "2021-03-20T10:44:31.701734Z"
    }
   },
   "outputs": [],
   "source": [
    "data_dir = os.path.join(os.path.abspath(\"\"), \"data\")"
   ]
  },
  {
   "cell_type": "code",
   "execution_count": 18,
   "metadata": {
    "execution": {
     "iopub.execute_input": "2021-03-20T10:44:31.707287Z",
     "iopub.status.busy": "2021-03-20T10:44:31.705667Z",
     "iopub.status.idle": "2021-03-20T10:44:31.711907Z",
     "shell.execute_reply": "2021-03-20T10:44:31.711050Z"
    }
   },
   "outputs": [],
   "source": [
    "df.to_csv(os.path.join(data_dir, f\"{today}.csv\"), index=False)"
   ]
  },
  {
   "cell_type": "code",
   "execution_count": null,
   "metadata": {},
   "outputs": [],
   "source": []
  }
 ],
 "metadata": {
  "kernelspec": {
   "display_name": "Python 3",
   "language": "python",
   "name": "python3"
  },
  "language_info": {
   "codemirror_mode": {
    "name": "ipython",
    "version": 3
   },
   "file_extension": ".py",
   "mimetype": "text/x-python",
   "name": "python",
   "nbconvert_exporter": "python",
   "pygments_lexer": "ipython3",
   "version": "3.8.8"
  }
 },
 "nbformat": 4,
 "nbformat_minor": 4
}
