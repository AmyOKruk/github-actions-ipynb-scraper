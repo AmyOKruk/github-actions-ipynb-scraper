{
 "cells": [
  {
   "cell_type": "markdown",
   "metadata": {},
   "source": [
    "# California COVID vaccinations scrape"
   ]
  },
  {
   "cell_type": "markdown",
   "metadata": {},
   "source": [
    "By [Amy O'Kruk](https://twitter.com/amyokruk)"
   ]
  },
  {
   "cell_type": "markdown",
   "metadata": {},
   "source": [
    "Downloads data on vaccine doses administered by county and statewide from a Tableau-powered dashboard from the California Department of Public Health."
   ]
  },
  {
   "cell_type": "code",
   "execution_count": 1,
   "metadata": {
    "execution": {
     "iopub.execute_input": "2021-03-18T10:44:25.217175Z",
     "iopub.status.busy": "2021-03-18T10:44:25.216490Z",
     "iopub.status.idle": "2021-03-18T10:44:25.675239Z",
     "shell.execute_reply": "2021-03-18T10:44:25.674635Z"
    }
   },
   "outputs": [],
   "source": [
    "import pandas as pd\n",
    "import requests\n",
    "from bs4 import BeautifulSoup\n",
    "import json\n",
    "import re\n",
    "import time\n",
    "from time import gmtime, strftime \n",
    "import os\n",
    "import pytz\n",
    "from datetime import datetime"
   ]
  },
  {
   "cell_type": "markdown",
   "metadata": {},
   "source": [
    "Scrape the dashboard page"
   ]
  },
  {
   "cell_type": "code",
   "execution_count": 2,
   "metadata": {
    "execution": {
     "iopub.execute_input": "2021-03-18T10:44:25.682831Z",
     "iopub.status.busy": "2021-03-18T10:44:25.682171Z",
     "iopub.status.idle": "2021-03-18T10:44:26.641794Z",
     "shell.execute_reply": "2021-03-18T10:44:26.642730Z"
    }
   },
   "outputs": [],
   "source": [
    "url = \"https://public.tableau.com/interactive/views/COVID-19VaccineDashboardPublic/Vaccine?:embed=y&:showVizHome=n&:apiID=host0\"\n",
    "\n",
    "r = requests.get(url)\n",
    "soup = BeautifulSoup(r.text, \"html.parser\")"
   ]
  },
  {
   "cell_type": "code",
   "execution_count": 3,
   "metadata": {
    "execution": {
     "iopub.execute_input": "2021-03-18T10:44:26.646487Z",
     "iopub.status.busy": "2021-03-18T10:44:26.645925Z",
     "iopub.status.idle": "2021-03-18T10:44:26.650953Z",
     "shell.execute_reply": "2021-03-18T10:44:26.650482Z"
    }
   },
   "outputs": [],
   "source": [
    "tableauData = json.loads(soup.find(\"textarea\",{\"id\": \"tsConfigContainer\"}).text)"
   ]
  },
  {
   "cell_type": "markdown",
   "metadata": {},
   "source": [
    "Get the link to the Tableau data"
   ]
  },
  {
   "cell_type": "code",
   "execution_count": 4,
   "metadata": {
    "execution": {
     "iopub.execute_input": "2021-03-18T10:44:26.655575Z",
     "iopub.status.busy": "2021-03-18T10:44:26.654210Z",
     "iopub.status.idle": "2021-03-18T10:44:26.656251Z",
     "shell.execute_reply": "2021-03-18T10:44:26.656762Z"
    }
   },
   "outputs": [],
   "source": [
    "dataUrl = f'https://public.tableau.com{tableauData[\"vizql_root\"]}/bootstrapSession/sessions/{tableauData[\"sessionid\"]}'"
   ]
  },
  {
   "cell_type": "code",
   "execution_count": 5,
   "metadata": {
    "execution": {
     "iopub.execute_input": "2021-03-18T10:44:26.666054Z",
     "iopub.status.busy": "2021-03-18T10:44:26.665352Z",
     "iopub.status.idle": "2021-03-18T10:44:27.218734Z",
     "shell.execute_reply": "2021-03-18T10:44:27.218190Z"
    }
   },
   "outputs": [],
   "source": [
    "r = requests.post(dataUrl, data= {\n",
    "    \"sheet_id\": tableauData[\"sheetId\"],\n",
    "})\n",
    "\n",
    "dataReg = re.search('\\d+;({.*})\\d+;({.*})', r.text, re.MULTILINE)\n",
    "data1 = json.loads(dataReg.group(2))\n",
    "\n",
    "dataJson = data1[\"secondaryInfo\"][\"presModelMap\"][\"dataDictionary\"][\"presModelHolder\"][\"genDataDictionaryPresModel\"][\"dataSegments\"][\"0\"][\"dataColumns\"]"
   ]
  },
  {
   "cell_type": "markdown",
   "metadata": {},
   "source": [
    "Isolate what you want"
   ]
  },
  {
   "cell_type": "code",
   "execution_count": 6,
   "metadata": {
    "execution": {
     "iopub.execute_input": "2021-03-18T10:44:27.223115Z",
     "iopub.status.busy": "2021-03-18T10:44:27.222591Z",
     "iopub.status.idle": "2021-03-18T10:44:27.226299Z",
     "shell.execute_reply": "2021-03-18T10:44:27.225745Z"
    }
   },
   "outputs": [],
   "source": [
    "counties = dataJson[2]['dataValues'][:58]"
   ]
  },
  {
   "cell_type": "code",
   "execution_count": 7,
   "metadata": {
    "execution": {
     "iopub.execute_input": "2021-03-18T10:44:27.230306Z",
     "iopub.status.busy": "2021-03-18T10:44:27.229776Z",
     "iopub.status.idle": "2021-03-18T10:44:27.233238Z",
     "shell.execute_reply": "2021-03-18T10:44:27.233682Z"
    }
   },
   "outputs": [],
   "source": [
    "doses = dataJson[0]['dataValues'][3:61]"
   ]
  },
  {
   "cell_type": "markdown",
   "metadata": {},
   "source": [
    "Data formatting"
   ]
  },
  {
   "cell_type": "code",
   "execution_count": 8,
   "metadata": {
    "execution": {
     "iopub.execute_input": "2021-03-18T10:44:27.237801Z",
     "iopub.status.busy": "2021-03-18T10:44:27.237284Z",
     "iopub.status.idle": "2021-03-18T10:44:27.241072Z",
     "shell.execute_reply": "2021-03-18T10:44:27.240522Z"
    }
   },
   "outputs": [],
   "source": [
    "zipped = dict(zip(counties, doses))"
   ]
  },
  {
   "cell_type": "code",
   "execution_count": 9,
   "metadata": {
    "execution": {
     "iopub.execute_input": "2021-03-18T10:44:27.247184Z",
     "iopub.status.busy": "2021-03-18T10:44:27.246518Z",
     "iopub.status.idle": "2021-03-18T10:44:27.250348Z",
     "shell.execute_reply": "2021-03-18T10:44:27.249841Z"
    }
   },
   "outputs": [],
   "source": [
    "df = pd.Series(zipped).reset_index()"
   ]
  },
  {
   "cell_type": "code",
   "execution_count": 10,
   "metadata": {
    "execution": {
     "iopub.execute_input": "2021-03-18T10:44:27.254534Z",
     "iopub.status.busy": "2021-03-18T10:44:27.253980Z",
     "iopub.status.idle": "2021-03-18T10:44:27.257992Z",
     "shell.execute_reply": "2021-03-18T10:44:27.257232Z"
    }
   },
   "outputs": [],
   "source": [
    "df.columns = ['location','doses']"
   ]
  },
  {
   "cell_type": "markdown",
   "metadata": {},
   "source": [
    "Grab the overall California total"
   ]
  },
  {
   "cell_type": "code",
   "execution_count": 11,
   "metadata": {
    "execution": {
     "iopub.execute_input": "2021-03-18T10:44:27.261804Z",
     "iopub.status.busy": "2021-03-18T10:44:27.261211Z",
     "iopub.status.idle": "2021-03-18T10:44:27.265287Z",
     "shell.execute_reply": "2021-03-18T10:44:27.264600Z"
    }
   },
   "outputs": [],
   "source": [
    "add = {'location':'California','doses':dataJson[0]['dataValues'][2]}"
   ]
  },
  {
   "cell_type": "code",
   "execution_count": 12,
   "metadata": {
    "execution": {
     "iopub.execute_input": "2021-03-18T10:44:27.273621Z",
     "iopub.status.busy": "2021-03-18T10:44:27.270652Z",
     "iopub.status.idle": "2021-03-18T10:44:27.276964Z",
     "shell.execute_reply": "2021-03-18T10:44:27.276439Z"
    }
   },
   "outputs": [],
   "source": [
    "df = df.append(add, ignore_index=True)"
   ]
  },
  {
   "cell_type": "code",
   "execution_count": 13,
   "metadata": {
    "execution": {
     "iopub.execute_input": "2021-03-18T10:44:27.281668Z",
     "iopub.status.busy": "2021-03-18T10:44:27.281139Z",
     "iopub.status.idle": "2021-03-18T10:44:27.285077Z",
     "shell.execute_reply": "2021-03-18T10:44:27.284550Z"
    }
   },
   "outputs": [],
   "source": [
    "df = df.sort_values(by='location')"
   ]
  },
  {
   "cell_type": "code",
   "execution_count": 14,
   "metadata": {
    "execution": {
     "iopub.execute_input": "2021-03-18T10:44:27.291384Z",
     "iopub.status.busy": "2021-03-18T10:44:27.290837Z",
     "iopub.status.idle": "2021-03-18T10:44:27.294353Z",
     "shell.execute_reply": "2021-03-18T10:44:27.294799Z"
    }
   },
   "outputs": [],
   "source": [
    "df = df[df.location == 'California'].append(df[df.location != 'California']).reset_index(drop=True)"
   ]
  },
  {
   "cell_type": "code",
   "execution_count": null,
   "metadata": {},
   "outputs": [],
   "source": []
  },
  {
   "cell_type": "code",
   "execution_count": 15,
   "metadata": {
    "execution": {
     "iopub.execute_input": "2021-03-18T10:44:27.300261Z",
     "iopub.status.busy": "2021-03-18T10:44:27.298000Z",
     "iopub.status.idle": "2021-03-18T10:44:27.322141Z",
     "shell.execute_reply": "2021-03-18T10:44:27.321132Z"
    }
   },
   "outputs": [],
   "source": [
    "tz = pytz.timezone(\"America/New_York\")"
   ]
  },
  {
   "cell_type": "code",
   "execution_count": 16,
   "metadata": {
    "execution": {
     "iopub.execute_input": "2021-03-18T10:44:27.326713Z",
     "iopub.status.busy": "2021-03-18T10:44:27.326186Z",
     "iopub.status.idle": "2021-03-18T10:44:27.330764Z",
     "shell.execute_reply": "2021-03-18T10:44:27.331517Z"
    }
   },
   "outputs": [],
   "source": [
    "today = datetime.now(tz).date()"
   ]
  },
  {
   "cell_type": "code",
   "execution_count": 17,
   "metadata": {
    "execution": {
     "iopub.execute_input": "2021-03-18T10:44:27.335737Z",
     "iopub.status.busy": "2021-03-18T10:44:27.335196Z",
     "iopub.status.idle": "2021-03-18T10:44:27.339331Z",
     "shell.execute_reply": "2021-03-18T10:44:27.338864Z"
    }
   },
   "outputs": [],
   "source": [
    "data_dir = os.path.join(os.path.abspath(\"\"), \"data\")"
   ]
  },
  {
   "cell_type": "code",
   "execution_count": 18,
   "metadata": {
    "execution": {
     "iopub.execute_input": "2021-03-18T10:44:27.343916Z",
     "iopub.status.busy": "2021-03-18T10:44:27.342506Z",
     "iopub.status.idle": "2021-03-18T10:44:27.349497Z",
     "shell.execute_reply": "2021-03-18T10:44:27.348835Z"
    }
   },
   "outputs": [],
   "source": [
    "df.to_csv(os.path.join(data_dir, f\"{today}.csv\"), index=False)"
   ]
  },
  {
   "cell_type": "code",
   "execution_count": null,
   "metadata": {},
   "outputs": [],
   "source": []
  }
 ],
 "metadata": {
  "kernelspec": {
   "display_name": "Python 3",
   "language": "python",
   "name": "python3"
  },
  "language_info": {
   "codemirror_mode": {
    "name": "ipython",
    "version": 3
   },
   "file_extension": ".py",
   "mimetype": "text/x-python",
   "name": "python",
   "nbconvert_exporter": "python",
   "pygments_lexer": "ipython3",
   "version": "3.8.8"
  }
 },
 "nbformat": 4,
 "nbformat_minor": 4
}
