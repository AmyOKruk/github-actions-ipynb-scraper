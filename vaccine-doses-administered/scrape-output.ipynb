{
 "cells": [
  {
   "cell_type": "markdown",
   "metadata": {},
   "source": [
    "# California COVID vaccinations scrape"
   ]
  },
  {
   "cell_type": "markdown",
   "metadata": {},
   "source": [
    "By [Amy O'Kruk](https://twitter.com/amyokruk)"
   ]
  },
  {
   "cell_type": "markdown",
   "metadata": {},
   "source": [
    "Downloads data on vaccine doses administered by county and statewide from a Tableau-powered dashboard from the California Department of Public Health."
   ]
  },
  {
   "cell_type": "code",
   "execution_count": 1,
   "metadata": {
    "execution": {
     "iopub.execute_input": "2021-03-13T14:12:59.455905Z",
     "iopub.status.busy": "2021-03-13T14:12:59.455235Z",
     "iopub.status.idle": "2021-03-13T14:12:59.863030Z",
     "shell.execute_reply": "2021-03-13T14:12:59.862295Z"
    }
   },
   "outputs": [],
   "source": [
    "import pandas as pd\n",
    "import requests\n",
    "from bs4 import BeautifulSoup\n",
    "import json\n",
    "import re\n",
    "import time\n",
    "from time import gmtime, strftime \n",
    "import os\n",
    "import pytz\n",
    "from datetime import datetime"
   ]
  },
  {
   "cell_type": "markdown",
   "metadata": {},
   "source": [
    "Scrape the dashboard page"
   ]
  },
  {
   "cell_type": "code",
   "execution_count": 2,
   "metadata": {
    "execution": {
     "iopub.execute_input": "2021-03-13T14:12:59.868174Z",
     "iopub.status.busy": "2021-03-13T14:12:59.866541Z",
     "iopub.status.idle": "2021-03-13T14:13:00.388256Z",
     "shell.execute_reply": "2021-03-13T14:13:00.388734Z"
    }
   },
   "outputs": [],
   "source": [
    "url = \"https://public.tableau.com/interactive/views/COVID-19VaccineDashboardPublic/Vaccine?:embed=y&:showVizHome=n&:apiID=host0\"\n",
    "\n",
    "r = requests.get(url)\n",
    "soup = BeautifulSoup(r.text, \"html.parser\")"
   ]
  },
  {
   "cell_type": "code",
   "execution_count": 3,
   "metadata": {
    "execution": {
     "iopub.execute_input": "2021-03-13T14:13:00.394563Z",
     "iopub.status.busy": "2021-03-13T14:13:00.393120Z",
     "iopub.status.idle": "2021-03-13T14:13:00.395229Z",
     "shell.execute_reply": "2021-03-13T14:13:00.395725Z"
    }
   },
   "outputs": [],
   "source": [
    "tableauData = json.loads(soup.find(\"textarea\",{\"id\": \"tsConfigContainer\"}).text)"
   ]
  },
  {
   "cell_type": "markdown",
   "metadata": {},
   "source": [
    "Get the link to the Tableau data"
   ]
  },
  {
   "cell_type": "code",
   "execution_count": 4,
   "metadata": {
    "execution": {
     "iopub.execute_input": "2021-03-13T14:13:00.400146Z",
     "iopub.status.busy": "2021-03-13T14:13:00.398888Z",
     "iopub.status.idle": "2021-03-13T14:13:00.400788Z",
     "shell.execute_reply": "2021-03-13T14:13:00.401282Z"
    }
   },
   "outputs": [],
   "source": [
    "dataUrl = f'https://public.tableau.com{tableauData[\"vizql_root\"]}/bootstrapSession/sessions/{tableauData[\"sessionid\"]}'"
   ]
  },
  {
   "cell_type": "code",
   "execution_count": 5,
   "metadata": {
    "execution": {
     "iopub.execute_input": "2021-03-13T14:13:00.408080Z",
     "iopub.status.busy": "2021-03-13T14:13:00.407479Z",
     "iopub.status.idle": "2021-03-13T14:13:00.644007Z",
     "shell.execute_reply": "2021-03-13T14:13:00.643391Z"
    }
   },
   "outputs": [],
   "source": [
    "r = requests.post(dataUrl, data= {\n",
    "    \"sheet_id\": tableauData[\"sheetId\"],\n",
    "})\n",
    "\n",
    "dataReg = re.search('\\d+;({.*})\\d+;({.*})', r.text, re.MULTILINE)\n",
    "data1 = json.loads(dataReg.group(2))\n",
    "\n",
    "dataJson = data1[\"secondaryInfo\"][\"presModelMap\"][\"dataDictionary\"][\"presModelHolder\"][\"genDataDictionaryPresModel\"][\"dataSegments\"][\"0\"][\"dataColumns\"]"
   ]
  },
  {
   "cell_type": "markdown",
   "metadata": {},
   "source": [
    "Isolate what you want"
   ]
  },
  {
   "cell_type": "code",
   "execution_count": 6,
   "metadata": {
    "execution": {
     "iopub.execute_input": "2021-03-13T14:13:00.648857Z",
     "iopub.status.busy": "2021-03-13T14:13:00.647515Z",
     "iopub.status.idle": "2021-03-13T14:13:00.649498Z",
     "shell.execute_reply": "2021-03-13T14:13:00.649993Z"
    }
   },
   "outputs": [],
   "source": [
    "counties = dataJson[2]['dataValues'][:58]"
   ]
  },
  {
   "cell_type": "code",
   "execution_count": 7,
   "metadata": {
    "execution": {
     "iopub.execute_input": "2021-03-13T14:13:00.654737Z",
     "iopub.status.busy": "2021-03-13T14:13:00.653271Z",
     "iopub.status.idle": "2021-03-13T14:13:00.655379Z",
     "shell.execute_reply": "2021-03-13T14:13:00.655870Z"
    }
   },
   "outputs": [],
   "source": [
    "doses = dataJson[0]['dataValues'][3:61]"
   ]
  },
  {
   "cell_type": "markdown",
   "metadata": {},
   "source": [
    "Data formatting"
   ]
  },
  {
   "cell_type": "code",
   "execution_count": 8,
   "metadata": {
    "execution": {
     "iopub.execute_input": "2021-03-13T14:13:00.660360Z",
     "iopub.status.busy": "2021-03-13T14:13:00.659053Z",
     "iopub.status.idle": "2021-03-13T14:13:00.661003Z",
     "shell.execute_reply": "2021-03-13T14:13:00.661496Z"
    }
   },
   "outputs": [],
   "source": [
    "zipped = dict(zip(counties, doses))"
   ]
  },
  {
   "cell_type": "code",
   "execution_count": 9,
   "metadata": {
    "execution": {
     "iopub.execute_input": "2021-03-13T14:13:00.668441Z",
     "iopub.status.busy": "2021-03-13T14:13:00.667014Z",
     "iopub.status.idle": "2021-03-13T14:13:00.669098Z",
     "shell.execute_reply": "2021-03-13T14:13:00.669761Z"
    }
   },
   "outputs": [],
   "source": [
    "df = pd.Series(zipped).reset_index()"
   ]
  },
  {
   "cell_type": "code",
   "execution_count": 10,
   "metadata": {
    "execution": {
     "iopub.execute_input": "2021-03-13T14:13:00.674762Z",
     "iopub.status.busy": "2021-03-13T14:13:00.673489Z",
     "iopub.status.idle": "2021-03-13T14:13:00.675409Z",
     "shell.execute_reply": "2021-03-13T14:13:00.675904Z"
    }
   },
   "outputs": [],
   "source": [
    "df.columns = ['location','doses']"
   ]
  },
  {
   "cell_type": "markdown",
   "metadata": {},
   "source": [
    "Grab the overall California total"
   ]
  },
  {
   "cell_type": "code",
   "execution_count": 11,
   "metadata": {
    "execution": {
     "iopub.execute_input": "2021-03-13T14:13:00.680950Z",
     "iopub.status.busy": "2021-03-13T14:13:00.679643Z",
     "iopub.status.idle": "2021-03-13T14:13:00.681596Z",
     "shell.execute_reply": "2021-03-13T14:13:00.682088Z"
    }
   },
   "outputs": [],
   "source": [
    "add = {'location':'California','doses':dataJson[0]['dataValues'][2]}"
   ]
  },
  {
   "cell_type": "code",
   "execution_count": 12,
   "metadata": {
    "execution": {
     "iopub.execute_input": "2021-03-13T14:13:00.689526Z",
     "iopub.status.busy": "2021-03-13T14:13:00.688210Z",
     "iopub.status.idle": "2021-03-13T14:13:00.690306Z",
     "shell.execute_reply": "2021-03-13T14:13:00.690829Z"
    }
   },
   "outputs": [],
   "source": [
    "df = df.append(add, ignore_index=True)"
   ]
  },
  {
   "cell_type": "code",
   "execution_count": 13,
   "metadata": {
    "execution": {
     "iopub.execute_input": "2021-03-13T14:13:00.695978Z",
     "iopub.status.busy": "2021-03-13T14:13:00.694728Z",
     "iopub.status.idle": "2021-03-13T14:13:00.696621Z",
     "shell.execute_reply": "2021-03-13T14:13:00.697111Z"
    }
   },
   "outputs": [],
   "source": [
    "df = df.sort_values(by='location')"
   ]
  },
  {
   "cell_type": "code",
   "execution_count": 14,
   "metadata": {
    "execution": {
     "iopub.execute_input": "2021-03-13T14:13:00.704306Z",
     "iopub.status.busy": "2021-03-13T14:13:00.702983Z",
     "iopub.status.idle": "2021-03-13T14:13:00.704952Z",
     "shell.execute_reply": "2021-03-13T14:13:00.705446Z"
    }
   },
   "outputs": [],
   "source": [
    "df = df[df.location == 'California'].append(df[df.location != 'California']).reset_index(drop=True)"
   ]
  },
  {
   "cell_type": "code",
   "execution_count": null,
   "metadata": {},
   "outputs": [],
   "source": []
  },
  {
   "cell_type": "code",
   "execution_count": 15,
   "metadata": {
    "execution": {
     "iopub.execute_input": "2021-03-13T14:13:00.709269Z",
     "iopub.status.busy": "2021-03-13T14:13:00.708687Z",
     "iopub.status.idle": "2021-03-13T14:13:00.728131Z",
     "shell.execute_reply": "2021-03-13T14:13:00.728597Z"
    }
   },
   "outputs": [],
   "source": [
    "tz = pytz.timezone(\"America/New_York\")"
   ]
  },
  {
   "cell_type": "code",
   "execution_count": 16,
   "metadata": {
    "execution": {
     "iopub.execute_input": "2021-03-13T14:13:00.733707Z",
     "iopub.status.busy": "2021-03-13T14:13:00.732097Z",
     "iopub.status.idle": "2021-03-13T14:13:00.734374Z",
     "shell.execute_reply": "2021-03-13T14:13:00.734876Z"
    }
   },
   "outputs": [],
   "source": [
    "today = datetime.now(tz).date()"
   ]
  },
  {
   "cell_type": "code",
   "execution_count": 17,
   "metadata": {
    "execution": {
     "iopub.execute_input": "2021-03-13T14:13:00.739765Z",
     "iopub.status.busy": "2021-03-13T14:13:00.738234Z",
     "iopub.status.idle": "2021-03-13T14:13:00.740411Z",
     "shell.execute_reply": "2021-03-13T14:13:00.740908Z"
    }
   },
   "outputs": [],
   "source": [
    "data_dir = os.path.join(os.path.abspath(\"\"), \"data\")"
   ]
  },
  {
   "cell_type": "code",
   "execution_count": 18,
   "metadata": {
    "execution": {
     "iopub.execute_input": "2021-03-13T14:13:00.745348Z",
     "iopub.status.busy": "2021-03-13T14:13:00.744149Z",
     "iopub.status.idle": "2021-03-13T14:13:00.748692Z",
     "shell.execute_reply": "2021-03-13T14:13:00.749158Z"
    }
   },
   "outputs": [],
   "source": [
    "df.to_csv(os.path.join(data_dir, f\"{today}.csv\"), index=False)"
   ]
  },
  {
   "cell_type": "code",
   "execution_count": null,
   "metadata": {},
   "outputs": [],
   "source": []
  }
 ],
 "metadata": {
  "kernelspec": {
   "display_name": "Python 3",
   "language": "python",
   "name": "python3"
  },
  "language_info": {
   "codemirror_mode": {
    "name": "ipython",
    "version": 3
   },
   "file_extension": ".py",
   "mimetype": "text/x-python",
   "name": "python",
   "nbconvert_exporter": "python",
   "pygments_lexer": "ipython3",
   "version": "3.8.8"
  }
 },
 "nbformat": 4,
 "nbformat_minor": 4
}
