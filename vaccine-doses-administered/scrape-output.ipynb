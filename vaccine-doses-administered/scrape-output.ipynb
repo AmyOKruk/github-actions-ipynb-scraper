{
 "cells": [
  {
   "cell_type": "markdown",
   "metadata": {},
   "source": [
    "# California COVID vaccinations scrape"
   ]
  },
  {
   "cell_type": "markdown",
   "metadata": {},
   "source": [
    "By [Amy O'Kruk](https://twitter.com/amyokruk)"
   ]
  },
  {
   "cell_type": "markdown",
   "metadata": {},
   "source": [
    "Downloads data on vaccine doses administered by county and statewide from a Tableau-powered dashboard from the California Department of Public Health."
   ]
  },
  {
   "cell_type": "code",
   "execution_count": 1,
   "metadata": {
    "execution": {
     "iopub.execute_input": "2021-03-23T11:41:28.990403Z",
     "iopub.status.busy": "2021-03-23T11:41:28.989772Z",
     "iopub.status.idle": "2021-03-23T11:41:29.822940Z",
     "shell.execute_reply": "2021-03-23T11:41:29.821906Z"
    }
   },
   "outputs": [],
   "source": [
    "import pandas as pd\n",
    "import requests\n",
    "from bs4 import BeautifulSoup\n",
    "import json\n",
    "import re\n",
    "import time\n",
    "from time import gmtime, strftime \n",
    "import os\n",
    "import pytz\n",
    "from datetime import datetime"
   ]
  },
  {
   "cell_type": "markdown",
   "metadata": {},
   "source": [
    "Scrape the dashboard page"
   ]
  },
  {
   "cell_type": "code",
   "execution_count": 2,
   "metadata": {
    "execution": {
     "iopub.execute_input": "2021-03-23T11:41:29.829486Z",
     "iopub.status.busy": "2021-03-23T11:41:29.826763Z",
     "iopub.status.idle": "2021-03-23T11:41:30.552763Z",
     "shell.execute_reply": "2021-03-23T11:41:30.552241Z"
    }
   },
   "outputs": [],
   "source": [
    "url = \"https://public.tableau.com/interactive/views/COVID-19VaccineDashboardPublic/Vaccine?:embed=y&:showVizHome=n&:apiID=host0\"\n",
    "\n",
    "r = requests.get(url)\n",
    "soup = BeautifulSoup(r.text, \"html.parser\")"
   ]
  },
  {
   "cell_type": "code",
   "execution_count": 3,
   "metadata": {
    "execution": {
     "iopub.execute_input": "2021-03-23T11:41:30.558140Z",
     "iopub.status.busy": "2021-03-23T11:41:30.557594Z",
     "iopub.status.idle": "2021-03-23T11:41:30.561003Z",
     "shell.execute_reply": "2021-03-23T11:41:30.560548Z"
    }
   },
   "outputs": [],
   "source": [
    "tableauData = json.loads(soup.find(\"textarea\",{\"id\": \"tsConfigContainer\"}).text)"
   ]
  },
  {
   "cell_type": "markdown",
   "metadata": {},
   "source": [
    "Get the link to the Tableau data"
   ]
  },
  {
   "cell_type": "code",
   "execution_count": 4,
   "metadata": {
    "execution": {
     "iopub.execute_input": "2021-03-23T11:41:30.564877Z",
     "iopub.status.busy": "2021-03-23T11:41:30.564362Z",
     "iopub.status.idle": "2021-03-23T11:41:30.568007Z",
     "shell.execute_reply": "2021-03-23T11:41:30.567549Z"
    }
   },
   "outputs": [],
   "source": [
    "dataUrl = f'https://public.tableau.com{tableauData[\"vizql_root\"]}/bootstrapSession/sessions/{tableauData[\"sessionid\"]}'"
   ]
  },
  {
   "cell_type": "code",
   "execution_count": 5,
   "metadata": {
    "execution": {
     "iopub.execute_input": "2021-03-23T11:41:30.574871Z",
     "iopub.status.busy": "2021-03-23T11:41:30.574138Z",
     "iopub.status.idle": "2021-03-23T11:41:30.869488Z",
     "shell.execute_reply": "2021-03-23T11:41:30.868391Z"
    }
   },
   "outputs": [],
   "source": [
    "r = requests.post(dataUrl, data= {\n",
    "    \"sheet_id\": tableauData[\"sheetId\"],\n",
    "})\n",
    "\n",
    "dataReg = re.search('\\d+;({.*})\\d+;({.*})', r.text, re.MULTILINE)\n",
    "data1 = json.loads(dataReg.group(2))\n",
    "\n",
    "dataJson = data1[\"secondaryInfo\"][\"presModelMap\"][\"dataDictionary\"][\"presModelHolder\"][\"genDataDictionaryPresModel\"][\"dataSegments\"][\"0\"][\"dataColumns\"]"
   ]
  },
  {
   "cell_type": "markdown",
   "metadata": {},
   "source": [
    "Isolate what you want"
   ]
  },
  {
   "cell_type": "code",
   "execution_count": 6,
   "metadata": {
    "execution": {
     "iopub.execute_input": "2021-03-23T11:41:30.874716Z",
     "iopub.status.busy": "2021-03-23T11:41:30.874186Z",
     "iopub.status.idle": "2021-03-23T11:41:30.877736Z",
     "shell.execute_reply": "2021-03-23T11:41:30.877282Z"
    }
   },
   "outputs": [],
   "source": [
    "counties = dataJson[2]['dataValues'][:58]"
   ]
  },
  {
   "cell_type": "code",
   "execution_count": 7,
   "metadata": {
    "execution": {
     "iopub.execute_input": "2021-03-23T11:41:30.880950Z",
     "iopub.status.busy": "2021-03-23T11:41:30.879822Z",
     "iopub.status.idle": "2021-03-23T11:41:30.883854Z",
     "shell.execute_reply": "2021-03-23T11:41:30.883364Z"
    }
   },
   "outputs": [],
   "source": [
    "doses = dataJson[0]['dataValues'][3:61]"
   ]
  },
  {
   "cell_type": "markdown",
   "metadata": {},
   "source": [
    "Data formatting"
   ]
  },
  {
   "cell_type": "code",
   "execution_count": 8,
   "metadata": {
    "execution": {
     "iopub.execute_input": "2021-03-23T11:41:30.887660Z",
     "iopub.status.busy": "2021-03-23T11:41:30.887092Z",
     "iopub.status.idle": "2021-03-23T11:41:30.891336Z",
     "shell.execute_reply": "2021-03-23T11:41:30.890374Z"
    }
   },
   "outputs": [],
   "source": [
    "zipped = dict(zip(counties, doses))"
   ]
  },
  {
   "cell_type": "code",
   "execution_count": 9,
   "metadata": {
    "execution": {
     "iopub.execute_input": "2021-03-23T11:41:30.897420Z",
     "iopub.status.busy": "2021-03-23T11:41:30.896797Z",
     "iopub.status.idle": "2021-03-23T11:41:30.900734Z",
     "shell.execute_reply": "2021-03-23T11:41:30.900213Z"
    }
   },
   "outputs": [],
   "source": [
    "df = pd.Series(zipped).reset_index()"
   ]
  },
  {
   "cell_type": "code",
   "execution_count": 10,
   "metadata": {
    "execution": {
     "iopub.execute_input": "2021-03-23T11:41:30.904847Z",
     "iopub.status.busy": "2021-03-23T11:41:30.904335Z",
     "iopub.status.idle": "2021-03-23T11:41:30.908177Z",
     "shell.execute_reply": "2021-03-23T11:41:30.907709Z"
    }
   },
   "outputs": [],
   "source": [
    "df.columns = ['location','doses']"
   ]
  },
  {
   "cell_type": "markdown",
   "metadata": {},
   "source": [
    "Grab the overall California total"
   ]
  },
  {
   "cell_type": "code",
   "execution_count": 11,
   "metadata": {
    "execution": {
     "iopub.execute_input": "2021-03-23T11:41:30.911992Z",
     "iopub.status.busy": "2021-03-23T11:41:30.911483Z",
     "iopub.status.idle": "2021-03-23T11:41:30.914991Z",
     "shell.execute_reply": "2021-03-23T11:41:30.914534Z"
    }
   },
   "outputs": [],
   "source": [
    "add = {'location':'California','doses':dataJson[0]['dataValues'][2]}"
   ]
  },
  {
   "cell_type": "code",
   "execution_count": 12,
   "metadata": {
    "execution": {
     "iopub.execute_input": "2021-03-23T11:41:30.921360Z",
     "iopub.status.busy": "2021-03-23T11:41:30.920847Z",
     "iopub.status.idle": "2021-03-23T11:41:30.932359Z",
     "shell.execute_reply": "2021-03-23T11:41:30.931051Z"
    }
   },
   "outputs": [],
   "source": [
    "df = df.append(add, ignore_index=True)"
   ]
  },
  {
   "cell_type": "code",
   "execution_count": 13,
   "metadata": {
    "execution": {
     "iopub.execute_input": "2021-03-23T11:41:30.937260Z",
     "iopub.status.busy": "2021-03-23T11:41:30.936751Z",
     "iopub.status.idle": "2021-03-23T11:41:30.949924Z",
     "shell.execute_reply": "2021-03-23T11:41:30.949062Z"
    }
   },
   "outputs": [],
   "source": [
    "df = df.sort_values(by='location')"
   ]
  },
  {
   "cell_type": "code",
   "execution_count": 14,
   "metadata": {
    "execution": {
     "iopub.execute_input": "2021-03-23T11:41:30.956596Z",
     "iopub.status.busy": "2021-03-23T11:41:30.956077Z",
     "iopub.status.idle": "2021-03-23T11:41:30.973812Z",
     "shell.execute_reply": "2021-03-23T11:41:30.969516Z"
    }
   },
   "outputs": [],
   "source": [
    "df = df[df.location == 'California'].append(df[df.location != 'California']).reset_index(drop=True)"
   ]
  },
  {
   "cell_type": "code",
   "execution_count": null,
   "metadata": {},
   "outputs": [],
   "source": []
  },
  {
   "cell_type": "code",
   "execution_count": 15,
   "metadata": {
    "execution": {
     "iopub.execute_input": "2021-03-23T11:41:30.977455Z",
     "iopub.status.busy": "2021-03-23T11:41:30.976940Z",
     "iopub.status.idle": "2021-03-23T11:41:31.001694Z",
     "shell.execute_reply": "2021-03-23T11:41:31.000678Z"
    }
   },
   "outputs": [],
   "source": [
    "tz = pytz.timezone(\"America/New_York\")"
   ]
  },
  {
   "cell_type": "code",
   "execution_count": 16,
   "metadata": {
    "execution": {
     "iopub.execute_input": "2021-03-23T11:41:31.005650Z",
     "iopub.status.busy": "2021-03-23T11:41:31.004941Z",
     "iopub.status.idle": "2021-03-23T11:41:31.008790Z",
     "shell.execute_reply": "2021-03-23T11:41:31.008343Z"
    }
   },
   "outputs": [],
   "source": [
    "today = datetime.now(tz).date()"
   ]
  },
  {
   "cell_type": "code",
   "execution_count": 17,
   "metadata": {
    "execution": {
     "iopub.execute_input": "2021-03-23T11:41:31.012257Z",
     "iopub.status.busy": "2021-03-23T11:41:31.011745Z",
     "iopub.status.idle": "2021-03-23T11:41:31.014757Z",
     "shell.execute_reply": "2021-03-23T11:41:31.015187Z"
    }
   },
   "outputs": [],
   "source": [
    "data_dir = os.path.join(os.path.abspath(\"\"), \"data\")"
   ]
  },
  {
   "cell_type": "code",
   "execution_count": 18,
   "metadata": {
    "execution": {
     "iopub.execute_input": "2021-03-23T11:41:31.020241Z",
     "iopub.status.busy": "2021-03-23T11:41:31.019718Z",
     "iopub.status.idle": "2021-03-23T11:41:31.024063Z",
     "shell.execute_reply": "2021-03-23T11:41:31.023623Z"
    }
   },
   "outputs": [],
   "source": [
    "df.to_csv(os.path.join(data_dir, f\"{today}.csv\"), index=False)"
   ]
  },
  {
   "cell_type": "code",
   "execution_count": null,
   "metadata": {},
   "outputs": [],
   "source": []
  }
 ],
 "metadata": {
  "kernelspec": {
   "display_name": "Python 3",
   "language": "python",
   "name": "python3"
  },
  "language_info": {
   "codemirror_mode": {
    "name": "ipython",
    "version": 3
   },
   "file_extension": ".py",
   "mimetype": "text/x-python",
   "name": "python",
   "nbconvert_exporter": "python",
   "pygments_lexer": "ipython3",
   "version": "3.8.8"
  }
 },
 "nbformat": 4,
 "nbformat_minor": 4
}
