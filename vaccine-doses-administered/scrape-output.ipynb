{
 "cells": [
  {
   "cell_type": "markdown",
   "metadata": {},
   "source": [
    "# California COVID vaccinations scrape"
   ]
  },
  {
   "cell_type": "markdown",
   "metadata": {},
   "source": [
    "By [Amy O'Kruk](https://twitter.com/amyokruk)"
   ]
  },
  {
   "cell_type": "markdown",
   "metadata": {},
   "source": [
    "Downloads data on vaccine doses administered by county and statewide from a Tableau-powered dashboard from the California Department of Public Health."
   ]
  },
  {
   "cell_type": "code",
   "execution_count": 1,
   "metadata": {
    "execution": {
     "iopub.execute_input": "2021-03-22T13:20:52.363423Z",
     "iopub.status.busy": "2021-03-22T13:20:52.362764Z",
     "iopub.status.idle": "2021-03-22T13:20:52.735977Z",
     "shell.execute_reply": "2021-03-22T13:20:52.736423Z"
    }
   },
   "outputs": [],
   "source": [
    "import pandas as pd\n",
    "import requests\n",
    "from bs4 import BeautifulSoup\n",
    "import json\n",
    "import re\n",
    "import time\n",
    "from time import gmtime, strftime \n",
    "import os\n",
    "import pytz\n",
    "from datetime import datetime"
   ]
  },
  {
   "cell_type": "markdown",
   "metadata": {},
   "source": [
    "Scrape the dashboard page"
   ]
  },
  {
   "cell_type": "code",
   "execution_count": 2,
   "metadata": {
    "execution": {
     "iopub.execute_input": "2021-03-22T13:20:52.742587Z",
     "iopub.status.busy": "2021-03-22T13:20:52.740345Z",
     "iopub.status.idle": "2021-03-22T13:20:53.246100Z",
     "shell.execute_reply": "2021-03-22T13:20:53.245262Z"
    }
   },
   "outputs": [],
   "source": [
    "url = \"https://public.tableau.com/interactive/views/COVID-19VaccineDashboardPublic/Vaccine?:embed=y&:showVizHome=n&:apiID=host0\"\n",
    "\n",
    "r = requests.get(url)\n",
    "soup = BeautifulSoup(r.text, \"html.parser\")"
   ]
  },
  {
   "cell_type": "code",
   "execution_count": 3,
   "metadata": {
    "execution": {
     "iopub.execute_input": "2021-03-22T13:20:53.252131Z",
     "iopub.status.busy": "2021-03-22T13:20:53.251232Z",
     "iopub.status.idle": "2021-03-22T13:20:53.255284Z",
     "shell.execute_reply": "2021-03-22T13:20:53.254845Z"
    }
   },
   "outputs": [],
   "source": [
    "tableauData = json.loads(soup.find(\"textarea\",{\"id\": \"tsConfigContainer\"}).text)"
   ]
  },
  {
   "cell_type": "markdown",
   "metadata": {},
   "source": [
    "Get the link to the Tableau data"
   ]
  },
  {
   "cell_type": "code",
   "execution_count": 4,
   "metadata": {
    "execution": {
     "iopub.execute_input": "2021-03-22T13:20:53.259662Z",
     "iopub.status.busy": "2021-03-22T13:20:53.258494Z",
     "iopub.status.idle": "2021-03-22T13:20:53.260263Z",
     "shell.execute_reply": "2021-03-22T13:20:53.260687Z"
    }
   },
   "outputs": [],
   "source": [
    "dataUrl = f'https://public.tableau.com{tableauData[\"vizql_root\"]}/bootstrapSession/sessions/{tableauData[\"sessionid\"]}'"
   ]
  },
  {
   "cell_type": "code",
   "execution_count": 5,
   "metadata": {
    "execution": {
     "iopub.execute_input": "2021-03-22T13:20:53.267326Z",
     "iopub.status.busy": "2021-03-22T13:20:53.266796Z",
     "iopub.status.idle": "2021-03-22T13:20:53.592684Z",
     "shell.execute_reply": "2021-03-22T13:20:53.591883Z"
    }
   },
   "outputs": [],
   "source": [
    "r = requests.post(dataUrl, data= {\n",
    "    \"sheet_id\": tableauData[\"sheetId\"],\n",
    "})\n",
    "\n",
    "dataReg = re.search('\\d+;({.*})\\d+;({.*})', r.text, re.MULTILINE)\n",
    "data1 = json.loads(dataReg.group(2))\n",
    "\n",
    "dataJson = data1[\"secondaryInfo\"][\"presModelMap\"][\"dataDictionary\"][\"presModelHolder\"][\"genDataDictionaryPresModel\"][\"dataSegments\"][\"0\"][\"dataColumns\"]"
   ]
  },
  {
   "cell_type": "markdown",
   "metadata": {},
   "source": [
    "Isolate what you want"
   ]
  },
  {
   "cell_type": "code",
   "execution_count": 6,
   "metadata": {
    "execution": {
     "iopub.execute_input": "2021-03-22T13:20:53.598805Z",
     "iopub.status.busy": "2021-03-22T13:20:53.597522Z",
     "iopub.status.idle": "2021-03-22T13:20:53.599747Z",
     "shell.execute_reply": "2021-03-22T13:20:53.599300Z"
    }
   },
   "outputs": [],
   "source": [
    "counties = dataJson[2]['dataValues'][:58]"
   ]
  },
  {
   "cell_type": "code",
   "execution_count": 7,
   "metadata": {
    "execution": {
     "iopub.execute_input": "2021-03-22T13:20:53.604149Z",
     "iopub.status.busy": "2021-03-22T13:20:53.602969Z",
     "iopub.status.idle": "2021-03-22T13:20:53.604806Z",
     "shell.execute_reply": "2021-03-22T13:20:53.605231Z"
    }
   },
   "outputs": [],
   "source": [
    "doses = dataJson[0]['dataValues'][3:61]"
   ]
  },
  {
   "cell_type": "markdown",
   "metadata": {},
   "source": [
    "Data formatting"
   ]
  },
  {
   "cell_type": "code",
   "execution_count": 8,
   "metadata": {
    "execution": {
     "iopub.execute_input": "2021-03-22T13:20:53.609165Z",
     "iopub.status.busy": "2021-03-22T13:20:53.608262Z",
     "iopub.status.idle": "2021-03-22T13:20:53.610110Z",
     "shell.execute_reply": "2021-03-22T13:20:53.610535Z"
    }
   },
   "outputs": [],
   "source": [
    "zipped = dict(zip(counties, doses))"
   ]
  },
  {
   "cell_type": "code",
   "execution_count": 9,
   "metadata": {
    "execution": {
     "iopub.execute_input": "2021-03-22T13:20:53.617220Z",
     "iopub.status.busy": "2021-03-22T13:20:53.616014Z",
     "iopub.status.idle": "2021-03-22T13:20:53.617838Z",
     "shell.execute_reply": "2021-03-22T13:20:53.618261Z"
    }
   },
   "outputs": [],
   "source": [
    "df = pd.Series(zipped).reset_index()"
   ]
  },
  {
   "cell_type": "code",
   "execution_count": 10,
   "metadata": {
    "execution": {
     "iopub.execute_input": "2021-03-22T13:20:53.622497Z",
     "iopub.status.busy": "2021-03-22T13:20:53.621392Z",
     "iopub.status.idle": "2021-03-22T13:20:53.623082Z",
     "shell.execute_reply": "2021-03-22T13:20:53.623503Z"
    }
   },
   "outputs": [],
   "source": [
    "df.columns = ['location','doses']"
   ]
  },
  {
   "cell_type": "markdown",
   "metadata": {},
   "source": [
    "Grab the overall California total"
   ]
  },
  {
   "cell_type": "code",
   "execution_count": 11,
   "metadata": {
    "execution": {
     "iopub.execute_input": "2021-03-22T13:20:53.627991Z",
     "iopub.status.busy": "2021-03-22T13:20:53.626864Z",
     "iopub.status.idle": "2021-03-22T13:20:53.628585Z",
     "shell.execute_reply": "2021-03-22T13:20:53.629006Z"
    }
   },
   "outputs": [],
   "source": [
    "add = {'location':'California','doses':dataJson[0]['dataValues'][2]}"
   ]
  },
  {
   "cell_type": "code",
   "execution_count": 12,
   "metadata": {
    "execution": {
     "iopub.execute_input": "2021-03-22T13:20:53.636017Z",
     "iopub.status.busy": "2021-03-22T13:20:53.634882Z",
     "iopub.status.idle": "2021-03-22T13:20:53.636601Z",
     "shell.execute_reply": "2021-03-22T13:20:53.637024Z"
    }
   },
   "outputs": [],
   "source": [
    "df = df.append(add, ignore_index=True)"
   ]
  },
  {
   "cell_type": "code",
   "execution_count": 13,
   "metadata": {
    "execution": {
     "iopub.execute_input": "2021-03-22T13:20:53.641956Z",
     "iopub.status.busy": "2021-03-22T13:20:53.640786Z",
     "iopub.status.idle": "2021-03-22T13:20:53.642555Z",
     "shell.execute_reply": "2021-03-22T13:20:53.642975Z"
    }
   },
   "outputs": [],
   "source": [
    "df = df.sort_values(by='location')"
   ]
  },
  {
   "cell_type": "code",
   "execution_count": 14,
   "metadata": {
    "execution": {
     "iopub.execute_input": "2021-03-22T13:20:53.649949Z",
     "iopub.status.busy": "2021-03-22T13:20:53.648744Z",
     "iopub.status.idle": "2021-03-22T13:20:53.650605Z",
     "shell.execute_reply": "2021-03-22T13:20:53.651030Z"
    }
   },
   "outputs": [],
   "source": [
    "df = df[df.location == 'California'].append(df[df.location != 'California']).reset_index(drop=True)"
   ]
  },
  {
   "cell_type": "code",
   "execution_count": null,
   "metadata": {},
   "outputs": [],
   "source": []
  },
  {
   "cell_type": "code",
   "execution_count": 15,
   "metadata": {
    "execution": {
     "iopub.execute_input": "2021-03-22T13:20:53.654405Z",
     "iopub.status.busy": "2021-03-22T13:20:53.653899Z",
     "iopub.status.idle": "2021-03-22T13:20:53.671297Z",
     "shell.execute_reply": "2021-03-22T13:20:53.671721Z"
    }
   },
   "outputs": [],
   "source": [
    "tz = pytz.timezone(\"America/New_York\")"
   ]
  },
  {
   "cell_type": "code",
   "execution_count": 16,
   "metadata": {
    "execution": {
     "iopub.execute_input": "2021-03-22T13:20:53.677478Z",
     "iopub.status.busy": "2021-03-22T13:20:53.676337Z",
     "iopub.status.idle": "2021-03-22T13:20:53.678060Z",
     "shell.execute_reply": "2021-03-22T13:20:53.678485Z"
    }
   },
   "outputs": [],
   "source": [
    "today = datetime.now(tz).date()"
   ]
  },
  {
   "cell_type": "code",
   "execution_count": 17,
   "metadata": {
    "execution": {
     "iopub.execute_input": "2021-03-22T13:20:53.682980Z",
     "iopub.status.busy": "2021-03-22T13:20:53.681787Z",
     "iopub.status.idle": "2021-03-22T13:20:53.683559Z",
     "shell.execute_reply": "2021-03-22T13:20:53.683976Z"
    }
   },
   "outputs": [],
   "source": [
    "data_dir = os.path.join(os.path.abspath(\"\"), \"data\")"
   ]
  },
  {
   "cell_type": "code",
   "execution_count": 18,
   "metadata": {
    "execution": {
     "iopub.execute_input": "2021-03-22T13:20:53.688277Z",
     "iopub.status.busy": "2021-03-22T13:20:53.687109Z",
     "iopub.status.idle": "2021-03-22T13:20:53.691771Z",
     "shell.execute_reply": "2021-03-22T13:20:53.691256Z"
    }
   },
   "outputs": [],
   "source": [
    "df.to_csv(os.path.join(data_dir, f\"{today}.csv\"), index=False)"
   ]
  },
  {
   "cell_type": "code",
   "execution_count": null,
   "metadata": {},
   "outputs": [],
   "source": []
  }
 ],
 "metadata": {
  "kernelspec": {
   "display_name": "Python 3",
   "language": "python",
   "name": "python3"
  },
  "language_info": {
   "codemirror_mode": {
    "name": "ipython",
    "version": 3
   },
   "file_extension": ".py",
   "mimetype": "text/x-python",
   "name": "python",
   "nbconvert_exporter": "python",
   "pygments_lexer": "ipython3",
   "version": "3.8.8"
  }
 },
 "nbformat": 4,
 "nbformat_minor": 4
}
