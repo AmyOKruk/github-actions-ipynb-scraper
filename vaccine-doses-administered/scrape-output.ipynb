{
 "cells": [
  {
   "cell_type": "markdown",
   "metadata": {},
   "source": [
    "# California COVID vaccinations scrape"
   ]
  },
  {
   "cell_type": "markdown",
   "metadata": {},
   "source": [
    "By [Amy O'Kruk](https://twitter.com/amyokruk)"
   ]
  },
  {
   "cell_type": "markdown",
   "metadata": {},
   "source": [
    "Downloads data on vaccine doses administered by county and statewide from a Tableau-powered dashboard from the California Department of Public Health."
   ]
  },
  {
   "cell_type": "code",
   "execution_count": 1,
   "metadata": {
    "execution": {
     "iopub.execute_input": "2021-03-15T03:13:28.608335Z",
     "iopub.status.busy": "2021-03-15T03:13:28.607795Z",
     "iopub.status.idle": "2021-03-15T03:13:29.071689Z",
     "shell.execute_reply": "2021-03-15T03:13:29.071122Z"
    }
   },
   "outputs": [],
   "source": [
    "import pandas as pd\n",
    "import requests\n",
    "from bs4 import BeautifulSoup\n",
    "import json\n",
    "import re\n",
    "import time\n",
    "from time import gmtime, strftime \n",
    "import os\n",
    "import pytz\n",
    "from datetime import datetime"
   ]
  },
  {
   "cell_type": "markdown",
   "metadata": {},
   "source": [
    "Scrape the dashboard page"
   ]
  },
  {
   "cell_type": "code",
   "execution_count": 2,
   "metadata": {
    "execution": {
     "iopub.execute_input": "2021-03-15T03:13:29.077867Z",
     "iopub.status.busy": "2021-03-15T03:13:29.077334Z",
     "iopub.status.idle": "2021-03-15T03:13:30.328394Z",
     "shell.execute_reply": "2021-03-15T03:13:30.327904Z"
    }
   },
   "outputs": [],
   "source": [
    "url = \"https://public.tableau.com/interactive/views/COVID-19VaccineDashboardPublic/Vaccine?:embed=y&:showVizHome=n&:apiID=host0\"\n",
    "\n",
    "r = requests.get(url)\n",
    "soup = BeautifulSoup(r.text, \"html.parser\")"
   ]
  },
  {
   "cell_type": "code",
   "execution_count": 3,
   "metadata": {
    "execution": {
     "iopub.execute_input": "2021-03-15T03:13:30.332817Z",
     "iopub.status.busy": "2021-03-15T03:13:30.332301Z",
     "iopub.status.idle": "2021-03-15T03:13:30.335799Z",
     "shell.execute_reply": "2021-03-15T03:13:30.335359Z"
    }
   },
   "outputs": [],
   "source": [
    "tableauData = json.loads(soup.find(\"textarea\",{\"id\": \"tsConfigContainer\"}).text)"
   ]
  },
  {
   "cell_type": "markdown",
   "metadata": {},
   "source": [
    "Get the link to the Tableau data"
   ]
  },
  {
   "cell_type": "code",
   "execution_count": 4,
   "metadata": {
    "execution": {
     "iopub.execute_input": "2021-03-15T03:13:30.339791Z",
     "iopub.status.busy": "2021-03-15T03:13:30.338663Z",
     "iopub.status.idle": "2021-03-15T03:13:30.340406Z",
     "shell.execute_reply": "2021-03-15T03:13:30.340798Z"
    }
   },
   "outputs": [],
   "source": [
    "dataUrl = f'https://public.tableau.com{tableauData[\"vizql_root\"]}/bootstrapSession/sessions/{tableauData[\"sessionid\"]}'"
   ]
  },
  {
   "cell_type": "code",
   "execution_count": 5,
   "metadata": {
    "execution": {
     "iopub.execute_input": "2021-03-15T03:13:30.346679Z",
     "iopub.status.busy": "2021-03-15T03:13:30.346170Z",
     "iopub.status.idle": "2021-03-15T03:13:30.744635Z",
     "shell.execute_reply": "2021-03-15T03:13:30.744159Z"
    }
   },
   "outputs": [],
   "source": [
    "r = requests.post(dataUrl, data= {\n",
    "    \"sheet_id\": tableauData[\"sheetId\"],\n",
    "})\n",
    "\n",
    "dataReg = re.search('\\d+;({.*})\\d+;({.*})', r.text, re.MULTILINE)\n",
    "data1 = json.loads(dataReg.group(2))\n",
    "\n",
    "dataJson = data1[\"secondaryInfo\"][\"presModelMap\"][\"dataDictionary\"][\"presModelHolder\"][\"genDataDictionaryPresModel\"][\"dataSegments\"][\"0\"][\"dataColumns\"]"
   ]
  },
  {
   "cell_type": "markdown",
   "metadata": {},
   "source": [
    "Isolate what you want"
   ]
  },
  {
   "cell_type": "code",
   "execution_count": 6,
   "metadata": {
    "execution": {
     "iopub.execute_input": "2021-03-15T03:13:30.748863Z",
     "iopub.status.busy": "2021-03-15T03:13:30.747749Z",
     "iopub.status.idle": "2021-03-15T03:13:30.749433Z",
     "shell.execute_reply": "2021-03-15T03:13:30.749826Z"
    }
   },
   "outputs": [],
   "source": [
    "counties = dataJson[2]['dataValues'][:58]"
   ]
  },
  {
   "cell_type": "code",
   "execution_count": 7,
   "metadata": {
    "execution": {
     "iopub.execute_input": "2021-03-15T03:13:30.753862Z",
     "iopub.status.busy": "2021-03-15T03:13:30.752751Z",
     "iopub.status.idle": "2021-03-15T03:13:30.754420Z",
     "shell.execute_reply": "2021-03-15T03:13:30.754864Z"
    }
   },
   "outputs": [],
   "source": [
    "doses = dataJson[0]['dataValues'][3:61]"
   ]
  },
  {
   "cell_type": "markdown",
   "metadata": {},
   "source": [
    "Data formatting"
   ]
  },
  {
   "cell_type": "code",
   "execution_count": 8,
   "metadata": {
    "execution": {
     "iopub.execute_input": "2021-03-15T03:13:30.758365Z",
     "iopub.status.busy": "2021-03-15T03:13:30.757848Z",
     "iopub.status.idle": "2021-03-15T03:13:30.761897Z",
     "shell.execute_reply": "2021-03-15T03:13:30.761490Z"
    }
   },
   "outputs": [],
   "source": [
    "zipped = dict(zip(counties, doses))"
   ]
  },
  {
   "cell_type": "code",
   "execution_count": 9,
   "metadata": {
    "execution": {
     "iopub.execute_input": "2021-03-15T03:13:30.767716Z",
     "iopub.status.busy": "2021-03-15T03:13:30.766682Z",
     "iopub.status.idle": "2021-03-15T03:13:30.768280Z",
     "shell.execute_reply": "2021-03-15T03:13:30.768675Z"
    }
   },
   "outputs": [],
   "source": [
    "df = pd.Series(zipped).reset_index()"
   ]
  },
  {
   "cell_type": "code",
   "execution_count": 10,
   "metadata": {
    "execution": {
     "iopub.execute_input": "2021-03-15T03:13:30.772691Z",
     "iopub.status.busy": "2021-03-15T03:13:30.771533Z",
     "iopub.status.idle": "2021-03-15T03:13:30.773302Z",
     "shell.execute_reply": "2021-03-15T03:13:30.773729Z"
    }
   },
   "outputs": [],
   "source": [
    "df.columns = ['location','doses']"
   ]
  },
  {
   "cell_type": "markdown",
   "metadata": {},
   "source": [
    "Grab the overall California total"
   ]
  },
  {
   "cell_type": "code",
   "execution_count": 11,
   "metadata": {
    "execution": {
     "iopub.execute_input": "2021-03-15T03:13:30.777402Z",
     "iopub.status.busy": "2021-03-15T03:13:30.776488Z",
     "iopub.status.idle": "2021-03-15T03:13:30.778165Z",
     "shell.execute_reply": "2021-03-15T03:13:30.778562Z"
    }
   },
   "outputs": [],
   "source": [
    "add = {'location':'California','doses':dataJson[0]['dataValues'][2]}"
   ]
  },
  {
   "cell_type": "code",
   "execution_count": 12,
   "metadata": {
    "execution": {
     "iopub.execute_input": "2021-03-15T03:13:30.784729Z",
     "iopub.status.busy": "2021-03-15T03:13:30.783702Z",
     "iopub.status.idle": "2021-03-15T03:13:30.785389Z",
     "shell.execute_reply": "2021-03-15T03:13:30.785786Z"
    }
   },
   "outputs": [],
   "source": [
    "df = df.append(add, ignore_index=True)"
   ]
  },
  {
   "cell_type": "code",
   "execution_count": 13,
   "metadata": {
    "execution": {
     "iopub.execute_input": "2021-03-15T03:13:30.790156Z",
     "iopub.status.busy": "2021-03-15T03:13:30.789357Z",
     "iopub.status.idle": "2021-03-15T03:13:30.790883Z",
     "shell.execute_reply": "2021-03-15T03:13:30.791238Z"
    }
   },
   "outputs": [],
   "source": [
    "df = df.sort_values(by='location')"
   ]
  },
  {
   "cell_type": "code",
   "execution_count": 14,
   "metadata": {
    "execution": {
     "iopub.execute_input": "2021-03-15T03:13:30.796478Z",
     "iopub.status.busy": "2021-03-15T03:13:30.795757Z",
     "iopub.status.idle": "2021-03-15T03:13:30.797709Z",
     "shell.execute_reply": "2021-03-15T03:13:30.797292Z"
    }
   },
   "outputs": [],
   "source": [
    "df = df[df.location == 'California'].append(df[df.location != 'California']).reset_index(drop=True)"
   ]
  },
  {
   "cell_type": "code",
   "execution_count": null,
   "metadata": {},
   "outputs": [],
   "source": []
  },
  {
   "cell_type": "code",
   "execution_count": 15,
   "metadata": {
    "execution": {
     "iopub.execute_input": "2021-03-15T03:13:30.800642Z",
     "iopub.status.busy": "2021-03-15T03:13:30.800196Z",
     "iopub.status.idle": "2021-03-15T03:13:30.816720Z",
     "shell.execute_reply": "2021-03-15T03:13:30.816277Z"
    }
   },
   "outputs": [],
   "source": [
    "tz = pytz.timezone(\"America/New_York\")"
   ]
  },
  {
   "cell_type": "code",
   "execution_count": 16,
   "metadata": {
    "execution": {
     "iopub.execute_input": "2021-03-15T03:13:30.820580Z",
     "iopub.status.busy": "2021-03-15T03:13:30.819522Z",
     "iopub.status.idle": "2021-03-15T03:13:30.821155Z",
     "shell.execute_reply": "2021-03-15T03:13:30.821579Z"
    }
   },
   "outputs": [],
   "source": [
    "today = datetime.now(tz).date()"
   ]
  },
  {
   "cell_type": "code",
   "execution_count": 17,
   "metadata": {
    "execution": {
     "iopub.execute_input": "2021-03-15T03:13:30.825587Z",
     "iopub.status.busy": "2021-03-15T03:13:30.824534Z",
     "iopub.status.idle": "2021-03-15T03:13:30.826172Z",
     "shell.execute_reply": "2021-03-15T03:13:30.826525Z"
    }
   },
   "outputs": [],
   "source": [
    "data_dir = os.path.join(os.path.abspath(\"\"), \"data\")"
   ]
  },
  {
   "cell_type": "code",
   "execution_count": 18,
   "metadata": {
    "execution": {
     "iopub.execute_input": "2021-03-15T03:13:30.830327Z",
     "iopub.status.busy": "2021-03-15T03:13:30.829320Z",
     "iopub.status.idle": "2021-03-15T03:13:30.854082Z",
     "shell.execute_reply": "2021-03-15T03:13:30.854784Z"
    }
   },
   "outputs": [],
   "source": [
    "df.to_csv(os.path.join(data_dir, f\"{today}.csv\"), index=False)"
   ]
  },
  {
   "cell_type": "code",
   "execution_count": null,
   "metadata": {},
   "outputs": [],
   "source": []
  }
 ],
 "metadata": {
  "kernelspec": {
   "display_name": "Python 3",
   "language": "python",
   "name": "python3"
  },
  "language_info": {
   "codemirror_mode": {
    "name": "ipython",
    "version": 3
   },
   "file_extension": ".py",
   "mimetype": "text/x-python",
   "name": "python",
   "nbconvert_exporter": "python",
   "pygments_lexer": "ipython3",
   "version": "3.8.8"
  }
 },
 "nbformat": 4,
 "nbformat_minor": 4
}
