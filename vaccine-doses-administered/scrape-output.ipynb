{
 "cells": [
  {
   "cell_type": "markdown",
   "metadata": {},
   "source": [
    "# California COVID vaccinations scrape"
   ]
  },
  {
   "cell_type": "markdown",
   "metadata": {},
   "source": [
    "By [Amy O'Kruk](https://twitter.com/amyokruk)"
   ]
  },
  {
   "cell_type": "markdown",
   "metadata": {},
   "source": [
    "Downloads data on vaccine doses administered by county and statewide from a Tableau-powered dashboard from the California Department of Public Health."
   ]
  },
  {
   "cell_type": "code",
   "execution_count": 1,
   "metadata": {
    "execution": {
     "iopub.execute_input": "2021-03-13T03:13:24.826708Z",
     "iopub.status.busy": "2021-03-13T03:13:24.826164Z",
     "iopub.status.idle": "2021-03-13T03:13:25.208682Z",
     "shell.execute_reply": "2021-03-13T03:13:25.206338Z"
    }
   },
   "outputs": [],
   "source": [
    "import pandas as pd\n",
    "import requests\n",
    "from bs4 import BeautifulSoup\n",
    "import json\n",
    "import re\n",
    "import time\n",
    "from time import gmtime, strftime \n",
    "import os\n",
    "import pytz\n",
    "from datetime import datetime"
   ]
  },
  {
   "cell_type": "markdown",
   "metadata": {},
   "source": [
    "Scrape the dashboard page"
   ]
  },
  {
   "cell_type": "code",
   "execution_count": 2,
   "metadata": {
    "execution": {
     "iopub.execute_input": "2021-03-13T03:13:25.214603Z",
     "iopub.status.busy": "2021-03-13T03:13:25.212329Z",
     "iopub.status.idle": "2021-03-13T03:13:25.960364Z",
     "shell.execute_reply": "2021-03-13T03:13:25.959785Z"
    }
   },
   "outputs": [],
   "source": [
    "url = \"https://public.tableau.com/interactive/views/COVID-19VaccineDashboardPublic/Vaccine?:embed=y&:showVizHome=n&:apiID=host0\"\n",
    "\n",
    "r = requests.get(url)\n",
    "soup = BeautifulSoup(r.text, \"html.parser\")"
   ]
  },
  {
   "cell_type": "code",
   "execution_count": 3,
   "metadata": {
    "execution": {
     "iopub.execute_input": "2021-03-13T03:13:25.965535Z",
     "iopub.status.busy": "2021-03-13T03:13:25.964855Z",
     "iopub.status.idle": "2021-03-13T03:13:25.968189Z",
     "shell.execute_reply": "2021-03-13T03:13:25.968588Z"
    }
   },
   "outputs": [],
   "source": [
    "tableauData = json.loads(soup.find(\"textarea\",{\"id\": \"tsConfigContainer\"}).text)"
   ]
  },
  {
   "cell_type": "markdown",
   "metadata": {},
   "source": [
    "Get the link to the Tableau data"
   ]
  },
  {
   "cell_type": "code",
   "execution_count": 4,
   "metadata": {
    "execution": {
     "iopub.execute_input": "2021-03-13T03:13:25.972693Z",
     "iopub.status.busy": "2021-03-13T03:13:25.971736Z",
     "iopub.status.idle": "2021-03-13T03:13:25.974041Z",
     "shell.execute_reply": "2021-03-13T03:13:25.973644Z"
    }
   },
   "outputs": [],
   "source": [
    "dataUrl = f'https://public.tableau.com{tableauData[\"vizql_root\"]}/bootstrapSession/sessions/{tableauData[\"sessionid\"]}'"
   ]
  },
  {
   "cell_type": "code",
   "execution_count": 5,
   "metadata": {
    "execution": {
     "iopub.execute_input": "2021-03-13T03:13:25.980553Z",
     "iopub.status.busy": "2021-03-13T03:13:25.980072Z",
     "iopub.status.idle": "2021-03-13T03:13:26.147273Z",
     "shell.execute_reply": "2021-03-13T03:13:26.146684Z"
    }
   },
   "outputs": [],
   "source": [
    "r = requests.post(dataUrl, data= {\n",
    "    \"sheet_id\": tableauData[\"sheetId\"],\n",
    "})\n",
    "\n",
    "dataReg = re.search('\\d+;({.*})\\d+;({.*})', r.text, re.MULTILINE)\n",
    "data1 = json.loads(dataReg.group(2))\n",
    "\n",
    "dataJson = data1[\"secondaryInfo\"][\"presModelMap\"][\"dataDictionary\"][\"presModelHolder\"][\"genDataDictionaryPresModel\"][\"dataSegments\"][\"0\"][\"dataColumns\"]"
   ]
  },
  {
   "cell_type": "markdown",
   "metadata": {},
   "source": [
    "Isolate what you want"
   ]
  },
  {
   "cell_type": "code",
   "execution_count": 6,
   "metadata": {
    "execution": {
     "iopub.execute_input": "2021-03-13T03:13:26.151345Z",
     "iopub.status.busy": "2021-03-13T03:13:26.150824Z",
     "iopub.status.idle": "2021-03-13T03:13:26.153068Z",
     "shell.execute_reply": "2021-03-13T03:13:26.153504Z"
    }
   },
   "outputs": [],
   "source": [
    "counties = dataJson[2]['dataValues'][:58]"
   ]
  },
  {
   "cell_type": "code",
   "execution_count": 7,
   "metadata": {
    "execution": {
     "iopub.execute_input": "2021-03-13T03:13:26.158297Z",
     "iopub.status.busy": "2021-03-13T03:13:26.157076Z",
     "iopub.status.idle": "2021-03-13T03:13:26.158888Z",
     "shell.execute_reply": "2021-03-13T03:13:26.159316Z"
    }
   },
   "outputs": [],
   "source": [
    "doses = dataJson[0]['dataValues'][3:61]"
   ]
  },
  {
   "cell_type": "markdown",
   "metadata": {},
   "source": [
    "Data formatting"
   ]
  },
  {
   "cell_type": "code",
   "execution_count": 8,
   "metadata": {
    "execution": {
     "iopub.execute_input": "2021-03-13T03:13:26.163686Z",
     "iopub.status.busy": "2021-03-13T03:13:26.162541Z",
     "iopub.status.idle": "2021-03-13T03:13:26.164286Z",
     "shell.execute_reply": "2021-03-13T03:13:26.164695Z"
    }
   },
   "outputs": [],
   "source": [
    "zipped = dict(zip(counties, doses))"
   ]
  },
  {
   "cell_type": "code",
   "execution_count": 9,
   "metadata": {
    "execution": {
     "iopub.execute_input": "2021-03-13T03:13:26.171086Z",
     "iopub.status.busy": "2021-03-13T03:13:26.169959Z",
     "iopub.status.idle": "2021-03-13T03:13:26.171685Z",
     "shell.execute_reply": "2021-03-13T03:13:26.172112Z"
    }
   },
   "outputs": [],
   "source": [
    "df = pd.Series(zipped).reset_index()"
   ]
  },
  {
   "cell_type": "code",
   "execution_count": 10,
   "metadata": {
    "execution": {
     "iopub.execute_input": "2021-03-13T03:13:26.176593Z",
     "iopub.status.busy": "2021-03-13T03:13:26.175429Z",
     "iopub.status.idle": "2021-03-13T03:13:26.177174Z",
     "shell.execute_reply": "2021-03-13T03:13:26.177623Z"
    }
   },
   "outputs": [],
   "source": [
    "df.columns = ['location','doses']"
   ]
  },
  {
   "cell_type": "markdown",
   "metadata": {},
   "source": [
    "Grab the overall California total"
   ]
  },
  {
   "cell_type": "code",
   "execution_count": 11,
   "metadata": {
    "execution": {
     "iopub.execute_input": "2021-03-13T03:13:26.181971Z",
     "iopub.status.busy": "2021-03-13T03:13:26.180741Z",
     "iopub.status.idle": "2021-03-13T03:13:26.182567Z",
     "shell.execute_reply": "2021-03-13T03:13:26.182990Z"
    }
   },
   "outputs": [],
   "source": [
    "add = {'location':'California','doses':dataJson[0]['dataValues'][2]}"
   ]
  },
  {
   "cell_type": "code",
   "execution_count": 12,
   "metadata": {
    "execution": {
     "iopub.execute_input": "2021-03-13T03:13:26.189962Z",
     "iopub.status.busy": "2021-03-13T03:13:26.188736Z",
     "iopub.status.idle": "2021-03-13T03:13:26.190513Z",
     "shell.execute_reply": "2021-03-13T03:13:26.190907Z"
    }
   },
   "outputs": [],
   "source": [
    "df = df.append(add, ignore_index=True)"
   ]
  },
  {
   "cell_type": "code",
   "execution_count": 13,
   "metadata": {
    "execution": {
     "iopub.execute_input": "2021-03-13T03:13:26.195419Z",
     "iopub.status.busy": "2021-03-13T03:13:26.194579Z",
     "iopub.status.idle": "2021-03-13T03:13:26.196247Z",
     "shell.execute_reply": "2021-03-13T03:13:26.196676Z"
    }
   },
   "outputs": [],
   "source": [
    "df = df.sort_values(by='location')"
   ]
  },
  {
   "cell_type": "code",
   "execution_count": 14,
   "metadata": {
    "execution": {
     "iopub.execute_input": "2021-03-13T03:13:26.203535Z",
     "iopub.status.busy": "2021-03-13T03:13:26.202976Z",
     "iopub.status.idle": "2021-03-13T03:13:26.206081Z",
     "shell.execute_reply": "2021-03-13T03:13:26.206480Z"
    }
   },
   "outputs": [],
   "source": [
    "df = df[df.location == 'California'].append(df[df.location != 'California']).reset_index(drop=True)"
   ]
  },
  {
   "cell_type": "code",
   "execution_count": null,
   "metadata": {},
   "outputs": [],
   "source": []
  },
  {
   "cell_type": "code",
   "execution_count": 15,
   "metadata": {
    "execution": {
     "iopub.execute_input": "2021-03-13T03:13:26.210620Z",
     "iopub.status.busy": "2021-03-13T03:13:26.209990Z",
     "iopub.status.idle": "2021-03-13T03:13:26.230267Z",
     "shell.execute_reply": "2021-03-13T03:13:26.230658Z"
    }
   },
   "outputs": [],
   "source": [
    "tz = pytz.timezone(\"America/New_York\")"
   ]
  },
  {
   "cell_type": "code",
   "execution_count": 16,
   "metadata": {
    "execution": {
     "iopub.execute_input": "2021-03-13T03:13:26.234507Z",
     "iopub.status.busy": "2021-03-13T03:13:26.233480Z",
     "iopub.status.idle": "2021-03-13T03:13:26.235676Z",
     "shell.execute_reply": "2021-03-13T03:13:26.235240Z"
    }
   },
   "outputs": [],
   "source": [
    "today = datetime.now(tz).date()"
   ]
  },
  {
   "cell_type": "code",
   "execution_count": 17,
   "metadata": {
    "execution": {
     "iopub.execute_input": "2021-03-13T03:13:26.239673Z",
     "iopub.status.busy": "2021-03-13T03:13:26.238591Z",
     "iopub.status.idle": "2021-03-13T03:13:26.240163Z",
     "shell.execute_reply": "2021-03-13T03:13:26.240531Z"
    }
   },
   "outputs": [],
   "source": [
    "data_dir = os.path.join(os.path.abspath(\"\"), \"data\")"
   ]
  },
  {
   "cell_type": "code",
   "execution_count": 18,
   "metadata": {
    "execution": {
     "iopub.execute_input": "2021-03-13T03:13:26.244444Z",
     "iopub.status.busy": "2021-03-13T03:13:26.243285Z",
     "iopub.status.idle": "2021-03-13T03:13:26.247569Z",
     "shell.execute_reply": "2021-03-13T03:13:26.247145Z"
    }
   },
   "outputs": [],
   "source": [
    "df.to_csv(os.path.join(data_dir, f\"{today}.csv\"), index=False)"
   ]
  },
  {
   "cell_type": "code",
   "execution_count": null,
   "metadata": {},
   "outputs": [],
   "source": []
  }
 ],
 "metadata": {
  "kernelspec": {
   "display_name": "Python 3",
   "language": "python",
   "name": "python3"
  },
  "language_info": {
   "codemirror_mode": {
    "name": "ipython",
    "version": 3
   },
   "file_extension": ".py",
   "mimetype": "text/x-python",
   "name": "python",
   "nbconvert_exporter": "python",
   "pygments_lexer": "ipython3",
   "version": "3.8.8"
  }
 },
 "nbformat": 4,
 "nbformat_minor": 4
}
