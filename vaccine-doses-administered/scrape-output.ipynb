{
 "cells": [
  {
   "cell_type": "markdown",
   "metadata": {},
   "source": [
    "# California COVID vaccinations scrape"
   ]
  },
  {
   "cell_type": "markdown",
   "metadata": {},
   "source": [
    "By [Amy O'Kruk](https://twitter.com/amyokruk)"
   ]
  },
  {
   "cell_type": "markdown",
   "metadata": {},
   "source": [
    "Downloads data on vaccine doses administered by county and statewide from a Tableau-powered dashboard from the California Department of Public Health."
   ]
  },
  {
   "cell_type": "code",
   "execution_count": 1,
   "metadata": {
    "execution": {
     "iopub.execute_input": "2021-03-22T15:45:35.098542Z",
     "iopub.status.busy": "2021-03-22T15:45:35.097884Z",
     "iopub.status.idle": "2021-03-22T15:45:35.492777Z",
     "shell.execute_reply": "2021-03-22T15:45:35.491859Z"
    }
   },
   "outputs": [],
   "source": [
    "import pandas as pd\n",
    "import requests\n",
    "from bs4 import BeautifulSoup\n",
    "import json\n",
    "import re\n",
    "import time\n",
    "from time import gmtime, strftime \n",
    "import os\n",
    "import pytz\n",
    "from datetime import datetime"
   ]
  },
  {
   "cell_type": "markdown",
   "metadata": {},
   "source": [
    "Scrape the dashboard page"
   ]
  },
  {
   "cell_type": "code",
   "execution_count": 2,
   "metadata": {
    "execution": {
     "iopub.execute_input": "2021-03-22T15:45:35.498779Z",
     "iopub.status.busy": "2021-03-22T15:45:35.496442Z",
     "iopub.status.idle": "2021-03-22T15:45:35.862456Z",
     "shell.execute_reply": "2021-03-22T15:45:35.861955Z"
    }
   },
   "outputs": [],
   "source": [
    "url = \"https://public.tableau.com/interactive/views/COVID-19VaccineDashboardPublic/Vaccine?:embed=y&:showVizHome=n&:apiID=host0\"\n",
    "\n",
    "r = requests.get(url)\n",
    "soup = BeautifulSoup(r.text, \"html.parser\")"
   ]
  },
  {
   "cell_type": "code",
   "execution_count": 3,
   "metadata": {
    "execution": {
     "iopub.execute_input": "2021-03-22T15:45:35.867133Z",
     "iopub.status.busy": "2021-03-22T15:45:35.866572Z",
     "iopub.status.idle": "2021-03-22T15:45:35.870321Z",
     "shell.execute_reply": "2021-03-22T15:45:35.869812Z"
    }
   },
   "outputs": [],
   "source": [
    "tableauData = json.loads(soup.find(\"textarea\",{\"id\": \"tsConfigContainer\"}).text)"
   ]
  },
  {
   "cell_type": "markdown",
   "metadata": {},
   "source": [
    "Get the link to the Tableau data"
   ]
  },
  {
   "cell_type": "code",
   "execution_count": 4,
   "metadata": {
    "execution": {
     "iopub.execute_input": "2021-03-22T15:45:35.875070Z",
     "iopub.status.busy": "2021-03-22T15:45:35.873670Z",
     "iopub.status.idle": "2021-03-22T15:45:35.875694Z",
     "shell.execute_reply": "2021-03-22T15:45:35.876164Z"
    }
   },
   "outputs": [],
   "source": [
    "dataUrl = f'https://public.tableau.com{tableauData[\"vizql_root\"]}/bootstrapSession/sessions/{tableauData[\"sessionid\"]}'"
   ]
  },
  {
   "cell_type": "code",
   "execution_count": 5,
   "metadata": {
    "execution": {
     "iopub.execute_input": "2021-03-22T15:45:35.882684Z",
     "iopub.status.busy": "2021-03-22T15:45:35.882105Z",
     "iopub.status.idle": "2021-03-22T15:45:36.111955Z",
     "shell.execute_reply": "2021-03-22T15:45:36.112409Z"
    }
   },
   "outputs": [],
   "source": [
    "r = requests.post(dataUrl, data= {\n",
    "    \"sheet_id\": tableauData[\"sheetId\"],\n",
    "})\n",
    "\n",
    "dataReg = re.search('\\d+;({.*})\\d+;({.*})', r.text, re.MULTILINE)\n",
    "data1 = json.loads(dataReg.group(2))\n",
    "\n",
    "dataJson = data1[\"secondaryInfo\"][\"presModelMap\"][\"dataDictionary\"][\"presModelHolder\"][\"genDataDictionaryPresModel\"][\"dataSegments\"][\"0\"][\"dataColumns\"]"
   ]
  },
  {
   "cell_type": "markdown",
   "metadata": {},
   "source": [
    "Isolate what you want"
   ]
  },
  {
   "cell_type": "code",
   "execution_count": 6,
   "metadata": {
    "execution": {
     "iopub.execute_input": "2021-03-22T15:45:36.117281Z",
     "iopub.status.busy": "2021-03-22T15:45:36.115942Z",
     "iopub.status.idle": "2021-03-22T15:45:36.117928Z",
     "shell.execute_reply": "2021-03-22T15:45:36.118403Z"
    }
   },
   "outputs": [],
   "source": [
    "counties = dataJson[2]['dataValues'][:58]"
   ]
  },
  {
   "cell_type": "code",
   "execution_count": 7,
   "metadata": {
    "execution": {
     "iopub.execute_input": "2021-03-22T15:45:36.122945Z",
     "iopub.status.busy": "2021-03-22T15:45:36.121596Z",
     "iopub.status.idle": "2021-03-22T15:45:36.123567Z",
     "shell.execute_reply": "2021-03-22T15:45:36.124048Z"
    }
   },
   "outputs": [],
   "source": [
    "doses = dataJson[0]['dataValues'][3:61]"
   ]
  },
  {
   "cell_type": "markdown",
   "metadata": {},
   "source": [
    "Data formatting"
   ]
  },
  {
   "cell_type": "code",
   "execution_count": 8,
   "metadata": {
    "execution": {
     "iopub.execute_input": "2021-03-22T15:45:36.128527Z",
     "iopub.status.busy": "2021-03-22T15:45:36.127169Z",
     "iopub.status.idle": "2021-03-22T15:45:36.129157Z",
     "shell.execute_reply": "2021-03-22T15:45:36.129665Z"
    }
   },
   "outputs": [],
   "source": [
    "zipped = dict(zip(counties, doses))"
   ]
  },
  {
   "cell_type": "code",
   "execution_count": 9,
   "metadata": {
    "execution": {
     "iopub.execute_input": "2021-03-22T15:45:36.136393Z",
     "iopub.status.busy": "2021-03-22T15:45:36.134946Z",
     "iopub.status.idle": "2021-03-22T15:45:36.137089Z",
     "shell.execute_reply": "2021-03-22T15:45:36.137583Z"
    }
   },
   "outputs": [],
   "source": [
    "df = pd.Series(zipped).reset_index()"
   ]
  },
  {
   "cell_type": "code",
   "execution_count": 10,
   "metadata": {
    "execution": {
     "iopub.execute_input": "2021-03-22T15:45:36.142153Z",
     "iopub.status.busy": "2021-03-22T15:45:36.140822Z",
     "iopub.status.idle": "2021-03-22T15:45:36.142772Z",
     "shell.execute_reply": "2021-03-22T15:45:36.143241Z"
    }
   },
   "outputs": [],
   "source": [
    "df.columns = ['location','doses']"
   ]
  },
  {
   "cell_type": "markdown",
   "metadata": {},
   "source": [
    "Grab the overall California total"
   ]
  },
  {
   "cell_type": "code",
   "execution_count": 11,
   "metadata": {
    "execution": {
     "iopub.execute_input": "2021-03-22T15:45:36.147784Z",
     "iopub.status.busy": "2021-03-22T15:45:36.146498Z",
     "iopub.status.idle": "2021-03-22T15:45:36.148407Z",
     "shell.execute_reply": "2021-03-22T15:45:36.148877Z"
    }
   },
   "outputs": [],
   "source": [
    "add = {'location':'California','doses':dataJson[0]['dataValues'][2]}"
   ]
  },
  {
   "cell_type": "code",
   "execution_count": 12,
   "metadata": {
    "execution": {
     "iopub.execute_input": "2021-03-22T15:45:36.156214Z",
     "iopub.status.busy": "2021-03-22T15:45:36.154899Z",
     "iopub.status.idle": "2021-03-22T15:45:36.156899Z",
     "shell.execute_reply": "2021-03-22T15:45:36.157368Z"
    }
   },
   "outputs": [],
   "source": [
    "df = df.append(add, ignore_index=True)"
   ]
  },
  {
   "cell_type": "code",
   "execution_count": 13,
   "metadata": {
    "execution": {
     "iopub.execute_input": "2021-03-22T15:45:36.162393Z",
     "iopub.status.busy": "2021-03-22T15:45:36.161187Z",
     "iopub.status.idle": "2021-03-22T15:45:36.163074Z",
     "shell.execute_reply": "2021-03-22T15:45:36.163544Z"
    }
   },
   "outputs": [],
   "source": [
    "df = df.sort_values(by='location')"
   ]
  },
  {
   "cell_type": "code",
   "execution_count": 14,
   "metadata": {
    "execution": {
     "iopub.execute_input": "2021-03-22T15:45:36.170429Z",
     "iopub.status.busy": "2021-03-22T15:45:36.169038Z",
     "iopub.status.idle": "2021-03-22T15:45:36.171059Z",
     "shell.execute_reply": "2021-03-22T15:45:36.171541Z"
    }
   },
   "outputs": [],
   "source": [
    "df = df[df.location == 'California'].append(df[df.location != 'California']).reset_index(drop=True)"
   ]
  },
  {
   "cell_type": "code",
   "execution_count": null,
   "metadata": {},
   "outputs": [],
   "source": []
  },
  {
   "cell_type": "code",
   "execution_count": 15,
   "metadata": {
    "execution": {
     "iopub.execute_input": "2021-03-22T15:45:36.174998Z",
     "iopub.status.busy": "2021-03-22T15:45:36.174439Z",
     "iopub.status.idle": "2021-03-22T15:45:36.194181Z",
     "shell.execute_reply": "2021-03-22T15:45:36.193707Z"
    }
   },
   "outputs": [],
   "source": [
    "tz = pytz.timezone(\"America/New_York\")"
   ]
  },
  {
   "cell_type": "code",
   "execution_count": 16,
   "metadata": {
    "execution": {
     "iopub.execute_input": "2021-03-22T15:45:36.199358Z",
     "iopub.status.busy": "2021-03-22T15:45:36.197256Z",
     "iopub.status.idle": "2021-03-22T15:45:36.200000Z",
     "shell.execute_reply": "2021-03-22T15:45:36.200473Z"
    }
   },
   "outputs": [],
   "source": [
    "today = datetime.now(tz).date()"
   ]
  },
  {
   "cell_type": "code",
   "execution_count": 17,
   "metadata": {
    "execution": {
     "iopub.execute_input": "2021-03-22T15:45:36.205311Z",
     "iopub.status.busy": "2021-03-22T15:45:36.203938Z",
     "iopub.status.idle": "2021-03-22T15:45:36.205964Z",
     "shell.execute_reply": "2021-03-22T15:45:36.206432Z"
    }
   },
   "outputs": [],
   "source": [
    "data_dir = os.path.join(os.path.abspath(\"\"), \"data\")"
   ]
  },
  {
   "cell_type": "code",
   "execution_count": 18,
   "metadata": {
    "execution": {
     "iopub.execute_input": "2021-03-22T15:45:36.212266Z",
     "iopub.status.busy": "2021-03-22T15:45:36.209759Z",
     "iopub.status.idle": "2021-03-22T15:45:36.214309Z",
     "shell.execute_reply": "2021-03-22T15:45:36.214747Z"
    }
   },
   "outputs": [],
   "source": [
    "df.to_csv(os.path.join(data_dir, f\"{today}.csv\"), index=False)"
   ]
  },
  {
   "cell_type": "code",
   "execution_count": null,
   "metadata": {},
   "outputs": [],
   "source": []
  }
 ],
 "metadata": {
  "kernelspec": {
   "display_name": "Python 3",
   "language": "python",
   "name": "python3"
  },
  "language_info": {
   "codemirror_mode": {
    "name": "ipython",
    "version": 3
   },
   "file_extension": ".py",
   "mimetype": "text/x-python",
   "name": "python",
   "nbconvert_exporter": "python",
   "pygments_lexer": "ipython3",
   "version": "3.8.8"
  }
 },
 "nbformat": 4,
 "nbformat_minor": 4
}
