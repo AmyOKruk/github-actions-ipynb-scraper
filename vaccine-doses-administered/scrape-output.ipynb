{
 "cells": [
  {
   "cell_type": "markdown",
   "metadata": {},
   "source": [
    "# California COVID vaccinations scrape"
   ]
  },
  {
   "cell_type": "markdown",
   "metadata": {},
   "source": [
    "By [Amy O'Kruk](https://twitter.com/amyokruk)"
   ]
  },
  {
   "cell_type": "markdown",
   "metadata": {},
   "source": [
    "Downloads data on vaccine doses administered by county and statewide from a Tableau-powered dashboard from the California Department of Public Health."
   ]
  },
  {
   "cell_type": "code",
   "execution_count": 1,
   "metadata": {
    "execution": {
     "iopub.execute_input": "2021-03-15T19:10:11.357946Z",
     "iopub.status.busy": "2021-03-15T19:10:11.357280Z",
     "iopub.status.idle": "2021-03-15T19:10:11.816547Z",
     "shell.execute_reply": "2021-03-15T19:10:11.815476Z"
    }
   },
   "outputs": [],
   "source": [
    "import pandas as pd\n",
    "import requests\n",
    "from bs4 import BeautifulSoup\n",
    "import json\n",
    "import re\n",
    "import time\n",
    "from time import gmtime, strftime \n",
    "import os\n",
    "import pytz\n",
    "from datetime import datetime"
   ]
  },
  {
   "cell_type": "markdown",
   "metadata": {},
   "source": [
    "Scrape the dashboard page"
   ]
  },
  {
   "cell_type": "code",
   "execution_count": 2,
   "metadata": {
    "execution": {
     "iopub.execute_input": "2021-03-15T19:10:11.822570Z",
     "iopub.status.busy": "2021-03-15T19:10:11.820269Z",
     "iopub.status.idle": "2021-03-15T19:10:12.094972Z",
     "shell.execute_reply": "2021-03-15T19:10:12.094480Z"
    }
   },
   "outputs": [],
   "source": [
    "url = \"https://public.tableau.com/interactive/views/COVID-19VaccineDashboardPublic/Vaccine?:embed=y&:showVizHome=n&:apiID=host0\"\n",
    "\n",
    "r = requests.get(url)\n",
    "soup = BeautifulSoup(r.text, \"html.parser\")"
   ]
  },
  {
   "cell_type": "code",
   "execution_count": 3,
   "metadata": {
    "execution": {
     "iopub.execute_input": "2021-03-15T19:10:12.101927Z",
     "iopub.status.busy": "2021-03-15T19:10:12.101207Z",
     "iopub.status.idle": "2021-03-15T19:10:12.104911Z",
     "shell.execute_reply": "2021-03-15T19:10:12.105330Z"
    }
   },
   "outputs": [],
   "source": [
    "tableauData = json.loads(soup.find(\"textarea\",{\"id\": \"tsConfigContainer\"}).text)"
   ]
  },
  {
   "cell_type": "markdown",
   "metadata": {},
   "source": [
    "Get the link to the Tableau data"
   ]
  },
  {
   "cell_type": "code",
   "execution_count": 4,
   "metadata": {
    "execution": {
     "iopub.execute_input": "2021-03-15T19:10:12.109769Z",
     "iopub.status.busy": "2021-03-15T19:10:12.108792Z",
     "iopub.status.idle": "2021-03-15T19:10:12.111208Z",
     "shell.execute_reply": "2021-03-15T19:10:12.110743Z"
    }
   },
   "outputs": [],
   "source": [
    "dataUrl = f'https://public.tableau.com{tableauData[\"vizql_root\"]}/bootstrapSession/sessions/{tableauData[\"sessionid\"]}'"
   ]
  },
  {
   "cell_type": "code",
   "execution_count": 5,
   "metadata": {
    "execution": {
     "iopub.execute_input": "2021-03-15T19:10:12.118087Z",
     "iopub.status.busy": "2021-03-15T19:10:12.117559Z",
     "iopub.status.idle": "2021-03-15T19:10:12.296112Z",
     "shell.execute_reply": "2021-03-15T19:10:12.295609Z"
    }
   },
   "outputs": [],
   "source": [
    "r = requests.post(dataUrl, data= {\n",
    "    \"sheet_id\": tableauData[\"sheetId\"],\n",
    "})\n",
    "\n",
    "dataReg = re.search('\\d+;({.*})\\d+;({.*})', r.text, re.MULTILINE)\n",
    "data1 = json.loads(dataReg.group(2))\n",
    "\n",
    "dataJson = data1[\"secondaryInfo\"][\"presModelMap\"][\"dataDictionary\"][\"presModelHolder\"][\"genDataDictionaryPresModel\"][\"dataSegments\"][\"0\"][\"dataColumns\"]"
   ]
  },
  {
   "cell_type": "markdown",
   "metadata": {},
   "source": [
    "Isolate what you want"
   ]
  },
  {
   "cell_type": "code",
   "execution_count": 6,
   "metadata": {
    "execution": {
     "iopub.execute_input": "2021-03-15T19:10:12.300190Z",
     "iopub.status.busy": "2021-03-15T19:10:12.299667Z",
     "iopub.status.idle": "2021-03-15T19:10:12.302795Z",
     "shell.execute_reply": "2021-03-15T19:10:12.303230Z"
    }
   },
   "outputs": [],
   "source": [
    "counties = dataJson[2]['dataValues'][:58]"
   ]
  },
  {
   "cell_type": "code",
   "execution_count": 7,
   "metadata": {
    "execution": {
     "iopub.execute_input": "2021-03-15T19:10:12.307119Z",
     "iopub.status.busy": "2021-03-15T19:10:12.306603Z",
     "iopub.status.idle": "2021-03-15T19:10:12.310138Z",
     "shell.execute_reply": "2021-03-15T19:10:12.309676Z"
    }
   },
   "outputs": [],
   "source": [
    "doses = dataJson[0]['dataValues'][3:61]"
   ]
  },
  {
   "cell_type": "markdown",
   "metadata": {},
   "source": [
    "Data formatting"
   ]
  },
  {
   "cell_type": "code",
   "execution_count": 8,
   "metadata": {
    "execution": {
     "iopub.execute_input": "2021-03-15T19:10:12.314489Z",
     "iopub.status.busy": "2021-03-15T19:10:12.313726Z",
     "iopub.status.idle": "2021-03-15T19:10:12.317914Z",
     "shell.execute_reply": "2021-03-15T19:10:12.317419Z"
    }
   },
   "outputs": [],
   "source": [
    "zipped = dict(zip(counties, doses))"
   ]
  },
  {
   "cell_type": "code",
   "execution_count": 9,
   "metadata": {
    "execution": {
     "iopub.execute_input": "2021-03-15T19:10:12.324735Z",
     "iopub.status.busy": "2021-03-15T19:10:12.323373Z",
     "iopub.status.idle": "2021-03-15T19:10:12.327163Z",
     "shell.execute_reply": "2021-03-15T19:10:12.327594Z"
    }
   },
   "outputs": [],
   "source": [
    "df = pd.Series(zipped).reset_index()"
   ]
  },
  {
   "cell_type": "code",
   "execution_count": 10,
   "metadata": {
    "execution": {
     "iopub.execute_input": "2021-03-15T19:10:12.331656Z",
     "iopub.status.busy": "2021-03-15T19:10:12.331150Z",
     "iopub.status.idle": "2021-03-15T19:10:12.334591Z",
     "shell.execute_reply": "2021-03-15T19:10:12.334140Z"
    }
   },
   "outputs": [],
   "source": [
    "df.columns = ['location','doses']"
   ]
  },
  {
   "cell_type": "markdown",
   "metadata": {},
   "source": [
    "Grab the overall California total"
   ]
  },
  {
   "cell_type": "code",
   "execution_count": 11,
   "metadata": {
    "execution": {
     "iopub.execute_input": "2021-03-15T19:10:12.338401Z",
     "iopub.status.busy": "2021-03-15T19:10:12.337888Z",
     "iopub.status.idle": "2021-03-15T19:10:12.341620Z",
     "shell.execute_reply": "2021-03-15T19:10:12.341088Z"
    }
   },
   "outputs": [],
   "source": [
    "add = {'location':'California','doses':dataJson[0]['dataValues'][2]}"
   ]
  },
  {
   "cell_type": "code",
   "execution_count": 12,
   "metadata": {
    "execution": {
     "iopub.execute_input": "2021-03-15T19:10:12.349083Z",
     "iopub.status.busy": "2021-03-15T19:10:12.348508Z",
     "iopub.status.idle": "2021-03-15T19:10:12.351829Z",
     "shell.execute_reply": "2021-03-15T19:10:12.352229Z"
    }
   },
   "outputs": [],
   "source": [
    "df = df.append(add, ignore_index=True)"
   ]
  },
  {
   "cell_type": "code",
   "execution_count": 13,
   "metadata": {
    "execution": {
     "iopub.execute_input": "2021-03-15T19:10:12.357163Z",
     "iopub.status.busy": "2021-03-15T19:10:12.356637Z",
     "iopub.status.idle": "2021-03-15T19:10:12.360668Z",
     "shell.execute_reply": "2021-03-15T19:10:12.359860Z"
    }
   },
   "outputs": [],
   "source": [
    "df = df.sort_values(by='location')"
   ]
  },
  {
   "cell_type": "code",
   "execution_count": 14,
   "metadata": {
    "execution": {
     "iopub.execute_input": "2021-03-15T19:10:12.366451Z",
     "iopub.status.busy": "2021-03-15T19:10:12.365940Z",
     "iopub.status.idle": "2021-03-15T19:10:12.370128Z",
     "shell.execute_reply": "2021-03-15T19:10:12.368968Z"
    }
   },
   "outputs": [],
   "source": [
    "df = df[df.location == 'California'].append(df[df.location != 'California']).reset_index(drop=True)"
   ]
  },
  {
   "cell_type": "code",
   "execution_count": null,
   "metadata": {},
   "outputs": [],
   "source": []
  },
  {
   "cell_type": "code",
   "execution_count": 15,
   "metadata": {
    "execution": {
     "iopub.execute_input": "2021-03-15T19:10:12.373650Z",
     "iopub.status.busy": "2021-03-15T19:10:12.372871Z",
     "iopub.status.idle": "2021-03-15T19:10:12.393212Z",
     "shell.execute_reply": "2021-03-15T19:10:12.391936Z"
    }
   },
   "outputs": [],
   "source": [
    "tz = pytz.timezone(\"America/New_York\")"
   ]
  },
  {
   "cell_type": "code",
   "execution_count": 16,
   "metadata": {
    "execution": {
     "iopub.execute_input": "2021-03-15T19:10:12.397445Z",
     "iopub.status.busy": "2021-03-15T19:10:12.396875Z",
     "iopub.status.idle": "2021-03-15T19:10:12.399347Z",
     "shell.execute_reply": "2021-03-15T19:10:12.399749Z"
    }
   },
   "outputs": [],
   "source": [
    "today = datetime.now(tz).date()"
   ]
  },
  {
   "cell_type": "code",
   "execution_count": 17,
   "metadata": {
    "execution": {
     "iopub.execute_input": "2021-03-15T19:10:12.403871Z",
     "iopub.status.busy": "2021-03-15T19:10:12.403341Z",
     "iopub.status.idle": "2021-03-15T19:10:12.407206Z",
     "shell.execute_reply": "2021-03-15T19:10:12.406291Z"
    }
   },
   "outputs": [],
   "source": [
    "data_dir = os.path.join(os.path.abspath(\"\"), \"data\")"
   ]
  },
  {
   "cell_type": "code",
   "execution_count": 18,
   "metadata": {
    "execution": {
     "iopub.execute_input": "2021-03-15T19:10:12.423194Z",
     "iopub.status.busy": "2021-03-15T19:10:12.414470Z",
     "iopub.status.idle": "2021-03-15T19:10:12.428412Z",
     "shell.execute_reply": "2021-03-15T19:10:12.427934Z"
    }
   },
   "outputs": [],
   "source": [
    "df.to_csv(os.path.join(data_dir, f\"{today}.csv\"), index=False)"
   ]
  },
  {
   "cell_type": "code",
   "execution_count": null,
   "metadata": {},
   "outputs": [],
   "source": []
  }
 ],
 "metadata": {
  "kernelspec": {
   "display_name": "Python 3",
   "language": "python",
   "name": "python3"
  },
  "language_info": {
   "codemirror_mode": {
    "name": "ipython",
    "version": 3
   },
   "file_extension": ".py",
   "mimetype": "text/x-python",
   "name": "python",
   "nbconvert_exporter": "python",
   "pygments_lexer": "ipython3",
   "version": "3.8.8"
  }
 },
 "nbformat": 4,
 "nbformat_minor": 4
}
