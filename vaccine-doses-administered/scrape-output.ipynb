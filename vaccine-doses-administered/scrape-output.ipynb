{
 "cells": [
  {
   "cell_type": "markdown",
   "metadata": {},
   "source": [
    "# California COVID vaccinations scrape"
   ]
  },
  {
   "cell_type": "markdown",
   "metadata": {},
   "source": [
    "By [Amy O'Kruk](https://twitter.com/amyokruk)"
   ]
  },
  {
   "cell_type": "markdown",
   "metadata": {},
   "source": [
    "Downloads data on vaccine doses administered by county and statewide from a Tableau-powered dashboard from the California Department of Public Health."
   ]
  },
  {
   "cell_type": "code",
   "execution_count": 1,
   "metadata": {
    "execution": {
     "iopub.execute_input": "2021-03-17T11:39:42.620730Z",
     "iopub.status.busy": "2021-03-17T11:39:42.620218Z",
     "iopub.status.idle": "2021-03-17T11:39:42.938222Z",
     "shell.execute_reply": "2021-03-17T11:39:42.937633Z"
    }
   },
   "outputs": [],
   "source": [
    "import pandas as pd\n",
    "import requests\n",
    "from bs4 import BeautifulSoup\n",
    "import json\n",
    "import re\n",
    "import time\n",
    "from time import gmtime, strftime \n",
    "import os\n",
    "import pytz\n",
    "from datetime import datetime"
   ]
  },
  {
   "cell_type": "markdown",
   "metadata": {},
   "source": [
    "Scrape the dashboard page"
   ]
  },
  {
   "cell_type": "code",
   "execution_count": 2,
   "metadata": {
    "execution": {
     "iopub.execute_input": "2021-03-17T11:39:42.942586Z",
     "iopub.status.busy": "2021-03-17T11:39:42.941223Z",
     "iopub.status.idle": "2021-03-17T11:39:43.346817Z",
     "shell.execute_reply": "2021-03-17T11:39:43.346392Z"
    }
   },
   "outputs": [],
   "source": [
    "url = \"https://public.tableau.com/interactive/views/COVID-19VaccineDashboardPublic/Vaccine?:embed=y&:showVizHome=n&:apiID=host0\"\n",
    "\n",
    "r = requests.get(url)\n",
    "soup = BeautifulSoup(r.text, \"html.parser\")"
   ]
  },
  {
   "cell_type": "code",
   "execution_count": 3,
   "metadata": {
    "execution": {
     "iopub.execute_input": "2021-03-17T11:39:43.351420Z",
     "iopub.status.busy": "2021-03-17T11:39:43.350555Z",
     "iopub.status.idle": "2021-03-17T11:39:43.352114Z",
     "shell.execute_reply": "2021-03-17T11:39:43.352481Z"
    }
   },
   "outputs": [],
   "source": [
    "tableauData = json.loads(soup.find(\"textarea\",{\"id\": \"tsConfigContainer\"}).text)"
   ]
  },
  {
   "cell_type": "markdown",
   "metadata": {},
   "source": [
    "Get the link to the Tableau data"
   ]
  },
  {
   "cell_type": "code",
   "execution_count": 4,
   "metadata": {
    "execution": {
     "iopub.execute_input": "2021-03-17T11:39:43.355798Z",
     "iopub.status.busy": "2021-03-17T11:39:43.355036Z",
     "iopub.status.idle": "2021-03-17T11:39:43.356622Z",
     "shell.execute_reply": "2021-03-17T11:39:43.356957Z"
    }
   },
   "outputs": [],
   "source": [
    "dataUrl = f'https://public.tableau.com{tableauData[\"vizql_root\"]}/bootstrapSession/sessions/{tableauData[\"sessionid\"]}'"
   ]
  },
  {
   "cell_type": "code",
   "execution_count": 5,
   "metadata": {
    "execution": {
     "iopub.execute_input": "2021-03-17T11:39:43.362463Z",
     "iopub.status.busy": "2021-03-17T11:39:43.361996Z",
     "iopub.status.idle": "2021-03-17T11:39:43.739203Z",
     "shell.execute_reply": "2021-03-17T11:39:43.738754Z"
    }
   },
   "outputs": [],
   "source": [
    "r = requests.post(dataUrl, data= {\n",
    "    \"sheet_id\": tableauData[\"sheetId\"],\n",
    "})\n",
    "\n",
    "dataReg = re.search('\\d+;({.*})\\d+;({.*})', r.text, re.MULTILINE)\n",
    "data1 = json.loads(dataReg.group(2))\n",
    "\n",
    "dataJson = data1[\"secondaryInfo\"][\"presModelMap\"][\"dataDictionary\"][\"presModelHolder\"][\"genDataDictionaryPresModel\"][\"dataSegments\"][\"0\"][\"dataColumns\"]"
   ]
  },
  {
   "cell_type": "markdown",
   "metadata": {},
   "source": [
    "Isolate what you want"
   ]
  },
  {
   "cell_type": "code",
   "execution_count": 6,
   "metadata": {
    "execution": {
     "iopub.execute_input": "2021-03-17T11:39:43.743360Z",
     "iopub.status.busy": "2021-03-17T11:39:43.742349Z",
     "iopub.status.idle": "2021-03-17T11:39:43.743926Z",
     "shell.execute_reply": "2021-03-17T11:39:43.744285Z"
    }
   },
   "outputs": [],
   "source": [
    "counties = dataJson[2]['dataValues'][:58]"
   ]
  },
  {
   "cell_type": "code",
   "execution_count": 7,
   "metadata": {
    "execution": {
     "iopub.execute_input": "2021-03-17T11:39:43.747764Z",
     "iopub.status.busy": "2021-03-17T11:39:43.747004Z",
     "iopub.status.idle": "2021-03-17T11:39:43.748593Z",
     "shell.execute_reply": "2021-03-17T11:39:43.748932Z"
    }
   },
   "outputs": [],
   "source": [
    "doses = dataJson[0]['dataValues'][3:61]"
   ]
  },
  {
   "cell_type": "markdown",
   "metadata": {},
   "source": [
    "Data formatting"
   ]
  },
  {
   "cell_type": "code",
   "execution_count": 8,
   "metadata": {
    "execution": {
     "iopub.execute_input": "2021-03-17T11:39:43.752185Z",
     "iopub.status.busy": "2021-03-17T11:39:43.751422Z",
     "iopub.status.idle": "2021-03-17T11:39:43.752969Z",
     "shell.execute_reply": "2021-03-17T11:39:43.753329Z"
    }
   },
   "outputs": [],
   "source": [
    "zipped = dict(zip(counties, doses))"
   ]
  },
  {
   "cell_type": "code",
   "execution_count": 9,
   "metadata": {
    "execution": {
     "iopub.execute_input": "2021-03-17T11:39:43.758482Z",
     "iopub.status.busy": "2021-03-17T11:39:43.757681Z",
     "iopub.status.idle": "2021-03-17T11:39:43.759255Z",
     "shell.execute_reply": "2021-03-17T11:39:43.759615Z"
    }
   },
   "outputs": [],
   "source": [
    "df = pd.Series(zipped).reset_index()"
   ]
  },
  {
   "cell_type": "code",
   "execution_count": 10,
   "metadata": {
    "execution": {
     "iopub.execute_input": "2021-03-17T11:39:43.763000Z",
     "iopub.status.busy": "2021-03-17T11:39:43.762237Z",
     "iopub.status.idle": "2021-03-17T11:39:43.763807Z",
     "shell.execute_reply": "2021-03-17T11:39:43.764170Z"
    }
   },
   "outputs": [],
   "source": [
    "df.columns = ['location','doses']"
   ]
  },
  {
   "cell_type": "markdown",
   "metadata": {},
   "source": [
    "Grab the overall California total"
   ]
  },
  {
   "cell_type": "code",
   "execution_count": 11,
   "metadata": {
    "execution": {
     "iopub.execute_input": "2021-03-17T11:39:43.767525Z",
     "iopub.status.busy": "2021-03-17T11:39:43.766759Z",
     "iopub.status.idle": "2021-03-17T11:39:43.768617Z",
     "shell.execute_reply": "2021-03-17T11:39:43.768233Z"
    }
   },
   "outputs": [],
   "source": [
    "add = {'location':'California','doses':dataJson[0]['dataValues'][2]}"
   ]
  },
  {
   "cell_type": "code",
   "execution_count": 12,
   "metadata": {
    "execution": {
     "iopub.execute_input": "2021-03-17T11:39:43.774119Z",
     "iopub.status.busy": "2021-03-17T11:39:43.773369Z",
     "iopub.status.idle": "2021-03-17T11:39:43.775278Z",
     "shell.execute_reply": "2021-03-17T11:39:43.774902Z"
    }
   },
   "outputs": [],
   "source": [
    "df = df.append(add, ignore_index=True)"
   ]
  },
  {
   "cell_type": "code",
   "execution_count": 13,
   "metadata": {
    "execution": {
     "iopub.execute_input": "2021-03-17T11:39:43.779111Z",
     "iopub.status.busy": "2021-03-17T11:39:43.778348Z",
     "iopub.status.idle": "2021-03-17T11:39:43.780201Z",
     "shell.execute_reply": "2021-03-17T11:39:43.779842Z"
    }
   },
   "outputs": [],
   "source": [
    "df = df.sort_values(by='location')"
   ]
  },
  {
   "cell_type": "code",
   "execution_count": 14,
   "metadata": {
    "execution": {
     "iopub.execute_input": "2021-03-17T11:39:43.785267Z",
     "iopub.status.busy": "2021-03-17T11:39:43.784512Z",
     "iopub.status.idle": "2021-03-17T11:39:43.786106Z",
     "shell.execute_reply": "2021-03-17T11:39:43.786462Z"
    }
   },
   "outputs": [],
   "source": [
    "df = df[df.location == 'California'].append(df[df.location != 'California']).reset_index(drop=True)"
   ]
  },
  {
   "cell_type": "code",
   "execution_count": null,
   "metadata": {},
   "outputs": [],
   "source": []
  },
  {
   "cell_type": "code",
   "execution_count": 15,
   "metadata": {
    "execution": {
     "iopub.execute_input": "2021-03-17T11:39:43.789246Z",
     "iopub.status.busy": "2021-03-17T11:39:43.788816Z",
     "iopub.status.idle": "2021-03-17T11:39:43.804642Z",
     "shell.execute_reply": "2021-03-17T11:39:43.804174Z"
    }
   },
   "outputs": [],
   "source": [
    "tz = pytz.timezone(\"America/New_York\")"
   ]
  },
  {
   "cell_type": "code",
   "execution_count": 16,
   "metadata": {
    "execution": {
     "iopub.execute_input": "2021-03-17T11:39:43.808268Z",
     "iopub.status.busy": "2021-03-17T11:39:43.807243Z",
     "iopub.status.idle": "2021-03-17T11:39:43.809394Z",
     "shell.execute_reply": "2021-03-17T11:39:43.808972Z"
    }
   },
   "outputs": [],
   "source": [
    "today = datetime.now(tz).date()"
   ]
  },
  {
   "cell_type": "code",
   "execution_count": 17,
   "metadata": {
    "execution": {
     "iopub.execute_input": "2021-03-17T11:39:43.813346Z",
     "iopub.status.busy": "2021-03-17T11:39:43.812168Z",
     "iopub.status.idle": "2021-03-17T11:39:43.813877Z",
     "shell.execute_reply": "2021-03-17T11:39:43.814258Z"
    }
   },
   "outputs": [],
   "source": [
    "data_dir = os.path.join(os.path.abspath(\"\"), \"data\")"
   ]
  },
  {
   "cell_type": "code",
   "execution_count": 18,
   "metadata": {
    "execution": {
     "iopub.execute_input": "2021-03-17T11:39:43.817878Z",
     "iopub.status.busy": "2021-03-17T11:39:43.816955Z",
     "iopub.status.idle": "2021-03-17T11:39:43.820848Z",
     "shell.execute_reply": "2021-03-17T11:39:43.820409Z"
    }
   },
   "outputs": [],
   "source": [
    "df.to_csv(os.path.join(data_dir, f\"{today}.csv\"), index=False)"
   ]
  },
  {
   "cell_type": "code",
   "execution_count": null,
   "metadata": {},
   "outputs": [],
   "source": []
  }
 ],
 "metadata": {
  "kernelspec": {
   "display_name": "Python 3",
   "language": "python",
   "name": "python3"
  },
  "language_info": {
   "codemirror_mode": {
    "name": "ipython",
    "version": 3
   },
   "file_extension": ".py",
   "mimetype": "text/x-python",
   "name": "python",
   "nbconvert_exporter": "python",
   "pygments_lexer": "ipython3",
   "version": "3.8.8"
  }
 },
 "nbformat": 4,
 "nbformat_minor": 4
}
