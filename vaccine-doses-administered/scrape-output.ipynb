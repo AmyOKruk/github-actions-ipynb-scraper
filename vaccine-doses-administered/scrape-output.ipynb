{
 "cells": [
  {
   "cell_type": "markdown",
   "metadata": {},
   "source": [
    "# California COVID vaccinations scrape"
   ]
  },
  {
   "cell_type": "markdown",
   "metadata": {},
   "source": [
    "By [Amy O'Kruk](https://twitter.com/amyokruk)"
   ]
  },
  {
   "cell_type": "markdown",
   "metadata": {},
   "source": [
    "Downloads data on vaccine doses administered by county and statewide from a Tableau-powered dashboard from the California Department of Public Health."
   ]
  },
  {
   "cell_type": "code",
   "execution_count": 1,
   "metadata": {
    "execution": {
     "iopub.execute_input": "2021-03-09T11:39:37.285173Z",
     "iopub.status.busy": "2021-03-09T11:39:37.284548Z",
     "iopub.status.idle": "2021-03-09T11:39:37.708574Z",
     "shell.execute_reply": "2021-03-09T11:39:37.707609Z"
    }
   },
   "outputs": [],
   "source": [
    "import pandas as pd\n",
    "import requests\n",
    "from bs4 import BeautifulSoup\n",
    "import json\n",
    "import re\n",
    "import time\n",
    "from time import gmtime, strftime \n",
    "import os\n",
    "import pytz\n",
    "from datetime import datetime"
   ]
  },
  {
   "cell_type": "markdown",
   "metadata": {},
   "source": [
    "Scrape the dashboard page"
   ]
  },
  {
   "cell_type": "code",
   "execution_count": 2,
   "metadata": {
    "execution": {
     "iopub.execute_input": "2021-03-09T11:39:37.712956Z",
     "iopub.status.busy": "2021-03-09T11:39:37.712390Z",
     "iopub.status.idle": "2021-03-09T11:39:38.281924Z",
     "shell.execute_reply": "2021-03-09T11:39:38.281424Z"
    }
   },
   "outputs": [],
   "source": [
    "url = \"https://public.tableau.com/interactive/views/COVID-19VaccineDashboardPublic/Vaccine?:embed=y&:showVizHome=n&:apiID=host0\"\n",
    "\n",
    "r = requests.get(url)\n",
    "soup = BeautifulSoup(r.text, \"html.parser\")"
   ]
  },
  {
   "cell_type": "code",
   "execution_count": 3,
   "metadata": {
    "execution": {
     "iopub.execute_input": "2021-03-09T11:39:38.287012Z",
     "iopub.status.busy": "2021-03-09T11:39:38.286486Z",
     "iopub.status.idle": "2021-03-09T11:39:38.289897Z",
     "shell.execute_reply": "2021-03-09T11:39:38.289454Z"
    }
   },
   "outputs": [],
   "source": [
    "tableauData = json.loads(soup.find(\"textarea\",{\"id\": \"tsConfigContainer\"}).text)"
   ]
  },
  {
   "cell_type": "markdown",
   "metadata": {},
   "source": [
    "Get the link to the Tableau data"
   ]
  },
  {
   "cell_type": "code",
   "execution_count": 4,
   "metadata": {
    "execution": {
     "iopub.execute_input": "2021-03-09T11:39:38.293438Z",
     "iopub.status.busy": "2021-03-09T11:39:38.292921Z",
     "iopub.status.idle": "2021-03-09T11:39:38.296243Z",
     "shell.execute_reply": "2021-03-09T11:39:38.295819Z"
    }
   },
   "outputs": [],
   "source": [
    "dataUrl = f'https://public.tableau.com{tableauData[\"vizql_root\"]}/bootstrapSession/sessions/{tableauData[\"sessionid\"]}'"
   ]
  },
  {
   "cell_type": "code",
   "execution_count": 5,
   "metadata": {
    "execution": {
     "iopub.execute_input": "2021-03-09T11:39:38.302361Z",
     "iopub.status.busy": "2021-03-09T11:39:38.301830Z",
     "iopub.status.idle": "2021-03-09T11:39:38.813996Z",
     "shell.execute_reply": "2021-03-09T11:39:38.813516Z"
    }
   },
   "outputs": [],
   "source": [
    "r = requests.post(dataUrl, data= {\n",
    "    \"sheet_id\": tableauData[\"sheetId\"],\n",
    "})\n",
    "\n",
    "dataReg = re.search('\\d+;({.*})\\d+;({.*})', r.text, re.MULTILINE)\n",
    "data1 = json.loads(dataReg.group(2))\n",
    "\n",
    "dataJson = data1[\"secondaryInfo\"][\"presModelMap\"][\"dataDictionary\"][\"presModelHolder\"][\"genDataDictionaryPresModel\"][\"dataSegments\"][\"0\"][\"dataColumns\"]"
   ]
  },
  {
   "cell_type": "markdown",
   "metadata": {},
   "source": [
    "Isolate what you want"
   ]
  },
  {
   "cell_type": "code",
   "execution_count": 6,
   "metadata": {
    "execution": {
     "iopub.execute_input": "2021-03-09T11:39:38.818806Z",
     "iopub.status.busy": "2021-03-09T11:39:38.817513Z",
     "iopub.status.idle": "2021-03-09T11:39:38.819514Z",
     "shell.execute_reply": "2021-03-09T11:39:38.819946Z"
    }
   },
   "outputs": [],
   "source": [
    "counties = dataJson[2]['dataValues'][:58]"
   ]
  },
  {
   "cell_type": "code",
   "execution_count": 7,
   "metadata": {
    "execution": {
     "iopub.execute_input": "2021-03-09T11:39:38.825379Z",
     "iopub.status.busy": "2021-03-09T11:39:38.824234Z",
     "iopub.status.idle": "2021-03-09T11:39:38.825988Z",
     "shell.execute_reply": "2021-03-09T11:39:38.826421Z"
    }
   },
   "outputs": [],
   "source": [
    "doses = dataJson[0]['dataValues'][3:61]"
   ]
  },
  {
   "cell_type": "markdown",
   "metadata": {},
   "source": [
    "Data formatting"
   ]
  },
  {
   "cell_type": "code",
   "execution_count": 8,
   "metadata": {
    "execution": {
     "iopub.execute_input": "2021-03-09T11:39:38.831380Z",
     "iopub.status.busy": "2021-03-09T11:39:38.829698Z",
     "iopub.status.idle": "2021-03-09T11:39:38.832096Z",
     "shell.execute_reply": "2021-03-09T11:39:38.832533Z"
    }
   },
   "outputs": [],
   "source": [
    "zipped = dict(zip(counties, doses))"
   ]
  },
  {
   "cell_type": "code",
   "execution_count": 9,
   "metadata": {
    "execution": {
     "iopub.execute_input": "2021-03-09T11:39:38.839479Z",
     "iopub.status.busy": "2021-03-09T11:39:38.837915Z",
     "iopub.status.idle": "2021-03-09T11:39:38.840233Z",
     "shell.execute_reply": "2021-03-09T11:39:38.840783Z"
    }
   },
   "outputs": [],
   "source": [
    "df = pd.Series(zipped).reset_index()"
   ]
  },
  {
   "cell_type": "code",
   "execution_count": 10,
   "metadata": {
    "execution": {
     "iopub.execute_input": "2021-03-09T11:39:38.845281Z",
     "iopub.status.busy": "2021-03-09T11:39:38.844119Z",
     "iopub.status.idle": "2021-03-09T11:39:38.845866Z",
     "shell.execute_reply": "2021-03-09T11:39:38.846289Z"
    }
   },
   "outputs": [],
   "source": [
    "df.columns = ['location','doses']"
   ]
  },
  {
   "cell_type": "markdown",
   "metadata": {},
   "source": [
    "Grab the overall California total"
   ]
  },
  {
   "cell_type": "code",
   "execution_count": 11,
   "metadata": {
    "execution": {
     "iopub.execute_input": "2021-03-09T11:39:38.850738Z",
     "iopub.status.busy": "2021-03-09T11:39:38.849634Z",
     "iopub.status.idle": "2021-03-09T11:39:38.851336Z",
     "shell.execute_reply": "2021-03-09T11:39:38.851761Z"
    }
   },
   "outputs": [],
   "source": [
    "add = {'location':'California','doses':dataJson[0]['dataValues'][2]}"
   ]
  },
  {
   "cell_type": "code",
   "execution_count": 12,
   "metadata": {
    "execution": {
     "iopub.execute_input": "2021-03-09T11:39:38.858723Z",
     "iopub.status.busy": "2021-03-09T11:39:38.857618Z",
     "iopub.status.idle": "2021-03-09T11:39:38.859319Z",
     "shell.execute_reply": "2021-03-09T11:39:38.859747Z"
    }
   },
   "outputs": [],
   "source": [
    "df = df.append(add, ignore_index=True)"
   ]
  },
  {
   "cell_type": "code",
   "execution_count": 13,
   "metadata": {
    "execution": {
     "iopub.execute_input": "2021-03-09T11:39:38.865112Z",
     "iopub.status.busy": "2021-03-09T11:39:38.863531Z",
     "iopub.status.idle": "2021-03-09T11:39:38.865696Z",
     "shell.execute_reply": "2021-03-09T11:39:38.866120Z"
    }
   },
   "outputs": [],
   "source": [
    "df = df.sort_values(by='location')"
   ]
  },
  {
   "cell_type": "code",
   "execution_count": 14,
   "metadata": {
    "execution": {
     "iopub.execute_input": "2021-03-09T11:39:38.872899Z",
     "iopub.status.busy": "2021-03-09T11:39:38.871716Z",
     "iopub.status.idle": "2021-03-09T11:39:38.873496Z",
     "shell.execute_reply": "2021-03-09T11:39:38.873925Z"
    }
   },
   "outputs": [],
   "source": [
    "df = df[df.location == 'California'].append(df[df.location != 'California']).reset_index(drop=True)"
   ]
  },
  {
   "cell_type": "code",
   "execution_count": null,
   "metadata": {},
   "outputs": [],
   "source": []
  },
  {
   "cell_type": "code",
   "execution_count": 15,
   "metadata": {
    "execution": {
     "iopub.execute_input": "2021-03-09T11:39:38.878005Z",
     "iopub.status.busy": "2021-03-09T11:39:38.877496Z",
     "iopub.status.idle": "2021-03-09T11:39:38.894726Z",
     "shell.execute_reply": "2021-03-09T11:39:38.894280Z"
    }
   },
   "outputs": [],
   "source": [
    "tz = pytz.timezone(\"America/New_York\")"
   ]
  },
  {
   "cell_type": "code",
   "execution_count": 16,
   "metadata": {
    "execution": {
     "iopub.execute_input": "2021-03-09T11:39:38.899022Z",
     "iopub.status.busy": "2021-03-09T11:39:38.897951Z",
     "iopub.status.idle": "2021-03-09T11:39:38.900435Z",
     "shell.execute_reply": "2021-03-09T11:39:38.899984Z"
    }
   },
   "outputs": [],
   "source": [
    "today = datetime.now(tz).date()"
   ]
  },
  {
   "cell_type": "code",
   "execution_count": 17,
   "metadata": {
    "execution": {
     "iopub.execute_input": "2021-03-09T11:39:38.904664Z",
     "iopub.status.busy": "2021-03-09T11:39:38.903525Z",
     "iopub.status.idle": "2021-03-09T11:39:38.905255Z",
     "shell.execute_reply": "2021-03-09T11:39:38.905678Z"
    }
   },
   "outputs": [],
   "source": [
    "data_dir = os.path.join(os.path.abspath(\"\"), \"data\")"
   ]
  },
  {
   "cell_type": "code",
   "execution_count": 18,
   "metadata": {
    "execution": {
     "iopub.execute_input": "2021-03-09T11:39:38.910136Z",
     "iopub.status.busy": "2021-03-09T11:39:38.908908Z",
     "iopub.status.idle": "2021-03-09T11:39:38.961972Z",
     "shell.execute_reply": "2021-03-09T11:39:38.961333Z"
    }
   },
   "outputs": [],
   "source": [
    "df.to_csv(os.path.join(data_dir, f\"{today}.csv\"), index=False)"
   ]
  },
  {
   "cell_type": "code",
   "execution_count": null,
   "metadata": {},
   "outputs": [],
   "source": []
  }
 ],
 "metadata": {
  "kernelspec": {
   "display_name": "Python 3",
   "language": "python",
   "name": "python3"
  },
  "language_info": {
   "codemirror_mode": {
    "name": "ipython",
    "version": 3
   },
   "file_extension": ".py",
   "mimetype": "text/x-python",
   "name": "python",
   "nbconvert_exporter": "python",
   "pygments_lexer": "ipython3",
   "version": "3.8.8"
  }
 },
 "nbformat": 4,
 "nbformat_minor": 4
}
