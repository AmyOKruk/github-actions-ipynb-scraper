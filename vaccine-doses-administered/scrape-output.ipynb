{
 "cells": [
  {
   "cell_type": "markdown",
   "metadata": {},
   "source": [
    "# California COVID vaccinations scrape"
   ]
  },
  {
   "cell_type": "markdown",
   "metadata": {},
   "source": [
    "By [Amy O'Kruk](https://twitter.com/amyokruk)"
   ]
  },
  {
   "cell_type": "markdown",
   "metadata": {},
   "source": [
    "Downloads data on vaccine doses administered by county and statewide from a Tableau-powered dashboard from the California Department of Public Health."
   ]
  },
  {
   "cell_type": "code",
   "execution_count": 1,
   "metadata": {
    "execution": {
     "iopub.execute_input": "2021-03-14T05:42:04.983787Z",
     "iopub.status.busy": "2021-03-14T05:42:04.983299Z",
     "iopub.status.idle": "2021-03-14T05:42:05.316363Z",
     "shell.execute_reply": "2021-03-14T05:42:05.315388Z"
    }
   },
   "outputs": [],
   "source": [
    "import pandas as pd\n",
    "import requests\n",
    "from bs4 import BeautifulSoup\n",
    "import json\n",
    "import re\n",
    "import time\n",
    "from time import gmtime, strftime \n",
    "import os\n",
    "import pytz\n",
    "from datetime import datetime"
   ]
  },
  {
   "cell_type": "markdown",
   "metadata": {},
   "source": [
    "Scrape the dashboard page"
   ]
  },
  {
   "cell_type": "code",
   "execution_count": 2,
   "metadata": {
    "execution": {
     "iopub.execute_input": "2021-03-14T05:42:05.321204Z",
     "iopub.status.busy": "2021-03-14T05:42:05.319266Z",
     "iopub.status.idle": "2021-03-14T05:42:05.959838Z",
     "shell.execute_reply": "2021-03-14T05:42:05.959026Z"
    }
   },
   "outputs": [],
   "source": [
    "url = \"https://public.tableau.com/interactive/views/COVID-19VaccineDashboardPublic/Vaccine?:embed=y&:showVizHome=n&:apiID=host0\"\n",
    "\n",
    "r = requests.get(url)\n",
    "soup = BeautifulSoup(r.text, \"html.parser\")"
   ]
  },
  {
   "cell_type": "code",
   "execution_count": 3,
   "metadata": {
    "execution": {
     "iopub.execute_input": "2021-03-14T05:42:05.965274Z",
     "iopub.status.busy": "2021-03-14T05:42:05.964479Z",
     "iopub.status.idle": "2021-03-14T05:42:05.968670Z",
     "shell.execute_reply": "2021-03-14T05:42:05.968358Z"
    }
   },
   "outputs": [],
   "source": [
    "tableauData = json.loads(soup.find(\"textarea\",{\"id\": \"tsConfigContainer\"}).text)"
   ]
  },
  {
   "cell_type": "markdown",
   "metadata": {},
   "source": [
    "Get the link to the Tableau data"
   ]
  },
  {
   "cell_type": "code",
   "execution_count": 4,
   "metadata": {
    "execution": {
     "iopub.execute_input": "2021-03-14T05:42:05.972766Z",
     "iopub.status.busy": "2021-03-14T05:42:05.971602Z",
     "iopub.status.idle": "2021-03-14T05:42:05.973370Z",
     "shell.execute_reply": "2021-03-14T05:42:05.973792Z"
    }
   },
   "outputs": [],
   "source": [
    "dataUrl = f'https://public.tableau.com{tableauData[\"vizql_root\"]}/bootstrapSession/sessions/{tableauData[\"sessionid\"]}'"
   ]
  },
  {
   "cell_type": "code",
   "execution_count": 5,
   "metadata": {
    "execution": {
     "iopub.execute_input": "2021-03-14T05:42:05.979817Z",
     "iopub.status.busy": "2021-03-14T05:42:05.979329Z",
     "iopub.status.idle": "2021-03-14T05:42:06.327184Z",
     "shell.execute_reply": "2021-03-14T05:42:06.326334Z"
    }
   },
   "outputs": [],
   "source": [
    "r = requests.post(dataUrl, data= {\n",
    "    \"sheet_id\": tableauData[\"sheetId\"],\n",
    "})\n",
    "\n",
    "dataReg = re.search('\\d+;({.*})\\d+;({.*})', r.text, re.MULTILINE)\n",
    "data1 = json.loads(dataReg.group(2))\n",
    "\n",
    "dataJson = data1[\"secondaryInfo\"][\"presModelMap\"][\"dataDictionary\"][\"presModelHolder\"][\"genDataDictionaryPresModel\"][\"dataSegments\"][\"0\"][\"dataColumns\"]"
   ]
  },
  {
   "cell_type": "markdown",
   "metadata": {},
   "source": [
    "Isolate what you want"
   ]
  },
  {
   "cell_type": "code",
   "execution_count": 6,
   "metadata": {
    "execution": {
     "iopub.execute_input": "2021-03-14T05:42:06.331706Z",
     "iopub.status.busy": "2021-03-14T05:42:06.330698Z",
     "iopub.status.idle": "2021-03-14T05:42:06.332394Z",
     "shell.execute_reply": "2021-03-14T05:42:06.332817Z"
    }
   },
   "outputs": [],
   "source": [
    "counties = dataJson[2]['dataValues'][:58]"
   ]
  },
  {
   "cell_type": "code",
   "execution_count": 7,
   "metadata": {
    "execution": {
     "iopub.execute_input": "2021-03-14T05:42:06.336865Z",
     "iopub.status.busy": "2021-03-14T05:42:06.336063Z",
     "iopub.status.idle": "2021-03-14T05:42:06.338149Z",
     "shell.execute_reply": "2021-03-14T05:42:06.337696Z"
    }
   },
   "outputs": [],
   "source": [
    "doses = dataJson[0]['dataValues'][3:61]"
   ]
  },
  {
   "cell_type": "markdown",
   "metadata": {},
   "source": [
    "Data formatting"
   ]
  },
  {
   "cell_type": "code",
   "execution_count": 8,
   "metadata": {
    "execution": {
     "iopub.execute_input": "2021-03-14T05:42:06.341583Z",
     "iopub.status.busy": "2021-03-14T05:42:06.340819Z",
     "iopub.status.idle": "2021-03-14T05:42:06.342816Z",
     "shell.execute_reply": "2021-03-14T05:42:06.342424Z"
    }
   },
   "outputs": [],
   "source": [
    "zipped = dict(zip(counties, doses))"
   ]
  },
  {
   "cell_type": "code",
   "execution_count": 9,
   "metadata": {
    "execution": {
     "iopub.execute_input": "2021-03-14T05:42:06.348083Z",
     "iopub.status.busy": "2021-03-14T05:42:06.347278Z",
     "iopub.status.idle": "2021-03-14T05:42:06.349376Z",
     "shell.execute_reply": "2021-03-14T05:42:06.349008Z"
    }
   },
   "outputs": [],
   "source": [
    "df = pd.Series(zipped).reset_index()"
   ]
  },
  {
   "cell_type": "code",
   "execution_count": 10,
   "metadata": {
    "execution": {
     "iopub.execute_input": "2021-03-14T05:42:06.352655Z",
     "iopub.status.busy": "2021-03-14T05:42:06.351924Z",
     "iopub.status.idle": "2021-03-14T05:42:06.353936Z",
     "shell.execute_reply": "2021-03-14T05:42:06.353483Z"
    }
   },
   "outputs": [],
   "source": [
    "df.columns = ['location','doses']"
   ]
  },
  {
   "cell_type": "markdown",
   "metadata": {},
   "source": [
    "Grab the overall California total"
   ]
  },
  {
   "cell_type": "code",
   "execution_count": 11,
   "metadata": {
    "execution": {
     "iopub.execute_input": "2021-03-14T05:42:06.356980Z",
     "iopub.status.busy": "2021-03-14T05:42:06.356621Z",
     "iopub.status.idle": "2021-03-14T05:42:06.358086Z",
     "shell.execute_reply": "2021-03-14T05:42:06.358393Z"
    }
   },
   "outputs": [],
   "source": [
    "add = {'location':'California','doses':dataJson[0]['dataValues'][2]}"
   ]
  },
  {
   "cell_type": "code",
   "execution_count": 12,
   "metadata": {
    "execution": {
     "iopub.execute_input": "2021-03-14T05:42:06.363898Z",
     "iopub.status.busy": "2021-03-14T05:42:06.362999Z",
     "iopub.status.idle": "2021-03-14T05:42:06.365116Z",
     "shell.execute_reply": "2021-03-14T05:42:06.364718Z"
    }
   },
   "outputs": [],
   "source": [
    "df = df.append(add, ignore_index=True)"
   ]
  },
  {
   "cell_type": "code",
   "execution_count": 13,
   "metadata": {
    "execution": {
     "iopub.execute_input": "2021-03-14T05:42:06.368805Z",
     "iopub.status.busy": "2021-03-14T05:42:06.368104Z",
     "iopub.status.idle": "2021-03-14T05:42:06.370093Z",
     "shell.execute_reply": "2021-03-14T05:42:06.369569Z"
    }
   },
   "outputs": [],
   "source": [
    "df = df.sort_values(by='location')"
   ]
  },
  {
   "cell_type": "code",
   "execution_count": 14,
   "metadata": {
    "execution": {
     "iopub.execute_input": "2021-03-14T05:42:06.375520Z",
     "iopub.status.busy": "2021-03-14T05:42:06.374500Z",
     "iopub.status.idle": "2021-03-14T05:42:06.376067Z",
     "shell.execute_reply": "2021-03-14T05:42:06.376415Z"
    }
   },
   "outputs": [],
   "source": [
    "df = df[df.location == 'California'].append(df[df.location != 'California']).reset_index(drop=True)"
   ]
  },
  {
   "cell_type": "code",
   "execution_count": null,
   "metadata": {},
   "outputs": [],
   "source": []
  },
  {
   "cell_type": "code",
   "execution_count": 15,
   "metadata": {
    "execution": {
     "iopub.execute_input": "2021-03-14T05:42:06.379261Z",
     "iopub.status.busy": "2021-03-14T05:42:06.378731Z",
     "iopub.status.idle": "2021-03-14T05:42:06.393885Z",
     "shell.execute_reply": "2021-03-14T05:42:06.393430Z"
    }
   },
   "outputs": [],
   "source": [
    "tz = pytz.timezone(\"America/New_York\")"
   ]
  },
  {
   "cell_type": "code",
   "execution_count": 16,
   "metadata": {
    "execution": {
     "iopub.execute_input": "2021-03-14T05:42:06.397946Z",
     "iopub.status.busy": "2021-03-14T05:42:06.396766Z",
     "iopub.status.idle": "2021-03-14T05:42:06.398511Z",
     "shell.execute_reply": "2021-03-14T05:42:06.398916Z"
    }
   },
   "outputs": [],
   "source": [
    "today = datetime.now(tz).date()"
   ]
  },
  {
   "cell_type": "code",
   "execution_count": 17,
   "metadata": {
    "execution": {
     "iopub.execute_input": "2021-03-14T05:42:06.402263Z",
     "iopub.status.busy": "2021-03-14T05:42:06.401616Z",
     "iopub.status.idle": "2021-03-14T05:42:06.403686Z",
     "shell.execute_reply": "2021-03-14T05:42:06.403179Z"
    }
   },
   "outputs": [],
   "source": [
    "data_dir = os.path.join(os.path.abspath(\"\"), \"data\")"
   ]
  },
  {
   "cell_type": "code",
   "execution_count": 18,
   "metadata": {
    "execution": {
     "iopub.execute_input": "2021-03-14T05:42:06.407273Z",
     "iopub.status.busy": "2021-03-14T05:42:06.406350Z",
     "iopub.status.idle": "2021-03-14T05:42:06.411527Z",
     "shell.execute_reply": "2021-03-14T05:42:06.411018Z"
    }
   },
   "outputs": [],
   "source": [
    "df.to_csv(os.path.join(data_dir, f\"{today}.csv\"), index=False)"
   ]
  },
  {
   "cell_type": "code",
   "execution_count": null,
   "metadata": {},
   "outputs": [],
   "source": []
  }
 ],
 "metadata": {
  "kernelspec": {
   "display_name": "Python 3",
   "language": "python",
   "name": "python3"
  },
  "language_info": {
   "codemirror_mode": {
    "name": "ipython",
    "version": 3
   },
   "file_extension": ".py",
   "mimetype": "text/x-python",
   "name": "python",
   "nbconvert_exporter": "python",
   "pygments_lexer": "ipython3",
   "version": "3.8.8"
  }
 },
 "nbformat": 4,
 "nbformat_minor": 4
}
