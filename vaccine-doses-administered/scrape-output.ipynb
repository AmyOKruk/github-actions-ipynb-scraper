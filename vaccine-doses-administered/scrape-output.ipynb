{
 "cells": [
  {
   "cell_type": "markdown",
   "metadata": {},
   "source": [
    "# California COVID vaccinations scrape"
   ]
  },
  {
   "cell_type": "markdown",
   "metadata": {},
   "source": [
    "By [Amy O'Kruk](https://twitter.com/amyokruk)"
   ]
  },
  {
   "cell_type": "markdown",
   "metadata": {},
   "source": [
    "Downloads data on vaccine doses administered by county and statewide from a Tableau-powered dashboard from the California Department of Public Health."
   ]
  },
  {
   "cell_type": "code",
   "execution_count": 1,
   "metadata": {
    "execution": {
     "iopub.execute_input": "2021-03-17T06:13:58.935209Z",
     "iopub.status.busy": "2021-03-17T06:13:58.934320Z",
     "iopub.status.idle": "2021-03-17T06:13:59.279170Z",
     "shell.execute_reply": "2021-03-17T06:13:59.277807Z"
    }
   },
   "outputs": [],
   "source": [
    "import pandas as pd\n",
    "import requests\n",
    "from bs4 import BeautifulSoup\n",
    "import json\n",
    "import re\n",
    "import time\n",
    "from time import gmtime, strftime \n",
    "import os\n",
    "import pytz\n",
    "from datetime import datetime"
   ]
  },
  {
   "cell_type": "markdown",
   "metadata": {},
   "source": [
    "Scrape the dashboard page"
   ]
  },
  {
   "cell_type": "code",
   "execution_count": 2,
   "metadata": {
    "execution": {
     "iopub.execute_input": "2021-03-17T06:13:59.285142Z",
     "iopub.status.busy": "2021-03-17T06:13:59.282745Z",
     "iopub.status.idle": "2021-03-17T06:13:59.658012Z",
     "shell.execute_reply": "2021-03-17T06:13:59.657254Z"
    }
   },
   "outputs": [],
   "source": [
    "url = \"https://public.tableau.com/interactive/views/COVID-19VaccineDashboardPublic/Vaccine?:embed=y&:showVizHome=n&:apiID=host0\"\n",
    "\n",
    "r = requests.get(url)\n",
    "soup = BeautifulSoup(r.text, \"html.parser\")"
   ]
  },
  {
   "cell_type": "code",
   "execution_count": 3,
   "metadata": {
    "execution": {
     "iopub.execute_input": "2021-03-17T06:13:59.665091Z",
     "iopub.status.busy": "2021-03-17T06:13:59.663674Z",
     "iopub.status.idle": "2021-03-17T06:13:59.665956Z",
     "shell.execute_reply": "2021-03-17T06:13:59.665545Z"
    }
   },
   "outputs": [],
   "source": [
    "tableauData = json.loads(soup.find(\"textarea\",{\"id\": \"tsConfigContainer\"}).text)"
   ]
  },
  {
   "cell_type": "markdown",
   "metadata": {},
   "source": [
    "Get the link to the Tableau data"
   ]
  },
  {
   "cell_type": "code",
   "execution_count": 4,
   "metadata": {
    "execution": {
     "iopub.execute_input": "2021-03-17T06:13:59.669838Z",
     "iopub.status.busy": "2021-03-17T06:13:59.668843Z",
     "iopub.status.idle": "2021-03-17T06:13:59.670687Z",
     "shell.execute_reply": "2021-03-17T06:13:59.671086Z"
    }
   },
   "outputs": [],
   "source": [
    "dataUrl = f'https://public.tableau.com{tableauData[\"vizql_root\"]}/bootstrapSession/sessions/{tableauData[\"sessionid\"]}'"
   ]
  },
  {
   "cell_type": "code",
   "execution_count": 5,
   "metadata": {
    "execution": {
     "iopub.execute_input": "2021-03-17T06:13:59.676853Z",
     "iopub.status.busy": "2021-03-17T06:13:59.674834Z",
     "iopub.status.idle": "2021-03-17T06:14:00.137244Z",
     "shell.execute_reply": "2021-03-17T06:14:00.136401Z"
    }
   },
   "outputs": [],
   "source": [
    "r = requests.post(dataUrl, data= {\n",
    "    \"sheet_id\": tableauData[\"sheetId\"],\n",
    "})\n",
    "\n",
    "dataReg = re.search('\\d+;({.*})\\d+;({.*})', r.text, re.MULTILINE)\n",
    "data1 = json.loads(dataReg.group(2))\n",
    "\n",
    "dataJson = data1[\"secondaryInfo\"][\"presModelMap\"][\"dataDictionary\"][\"presModelHolder\"][\"genDataDictionaryPresModel\"][\"dataSegments\"][\"0\"][\"dataColumns\"]"
   ]
  },
  {
   "cell_type": "markdown",
   "metadata": {},
   "source": [
    "Isolate what you want"
   ]
  },
  {
   "cell_type": "code",
   "execution_count": 6,
   "metadata": {
    "execution": {
     "iopub.execute_input": "2021-03-17T06:14:00.142426Z",
     "iopub.status.busy": "2021-03-17T06:14:00.141273Z",
     "iopub.status.idle": "2021-03-17T06:14:00.143043Z",
     "shell.execute_reply": "2021-03-17T06:14:00.143462Z"
    }
   },
   "outputs": [],
   "source": [
    "counties = dataJson[2]['dataValues'][:58]"
   ]
  },
  {
   "cell_type": "code",
   "execution_count": 7,
   "metadata": {
    "execution": {
     "iopub.execute_input": "2021-03-17T06:14:00.147534Z",
     "iopub.status.busy": "2021-03-17T06:14:00.146383Z",
     "iopub.status.idle": "2021-03-17T06:14:00.148111Z",
     "shell.execute_reply": "2021-03-17T06:14:00.148537Z"
    }
   },
   "outputs": [],
   "source": [
    "doses = dataJson[0]['dataValues'][3:61]"
   ]
  },
  {
   "cell_type": "markdown",
   "metadata": {},
   "source": [
    "Data formatting"
   ]
  },
  {
   "cell_type": "code",
   "execution_count": 8,
   "metadata": {
    "execution": {
     "iopub.execute_input": "2021-03-17T06:14:00.152230Z",
     "iopub.status.busy": "2021-03-17T06:14:00.151299Z",
     "iopub.status.idle": "2021-03-17T06:14:00.153004Z",
     "shell.execute_reply": "2021-03-17T06:14:00.153400Z"
    }
   },
   "outputs": [],
   "source": [
    "zipped = dict(zip(counties, doses))"
   ]
  },
  {
   "cell_type": "code",
   "execution_count": 9,
   "metadata": {
    "execution": {
     "iopub.execute_input": "2021-03-17T06:14:00.159905Z",
     "iopub.status.busy": "2021-03-17T06:14:00.158673Z",
     "iopub.status.idle": "2021-03-17T06:14:00.160463Z",
     "shell.execute_reply": "2021-03-17T06:14:00.160855Z"
    }
   },
   "outputs": [],
   "source": [
    "df = pd.Series(zipped).reset_index()"
   ]
  },
  {
   "cell_type": "code",
   "execution_count": 10,
   "metadata": {
    "execution": {
     "iopub.execute_input": "2021-03-17T06:14:00.164755Z",
     "iopub.status.busy": "2021-03-17T06:14:00.163828Z",
     "iopub.status.idle": "2021-03-17T06:14:00.165478Z",
     "shell.execute_reply": "2021-03-17T06:14:00.165874Z"
    }
   },
   "outputs": [],
   "source": [
    "df.columns = ['location','doses']"
   ]
  },
  {
   "cell_type": "markdown",
   "metadata": {},
   "source": [
    "Grab the overall California total"
   ]
  },
  {
   "cell_type": "code",
   "execution_count": 11,
   "metadata": {
    "execution": {
     "iopub.execute_input": "2021-03-17T06:14:00.169834Z",
     "iopub.status.busy": "2021-03-17T06:14:00.168816Z",
     "iopub.status.idle": "2021-03-17T06:14:00.170652Z",
     "shell.execute_reply": "2021-03-17T06:14:00.171052Z"
    }
   },
   "outputs": [],
   "source": [
    "add = {'location':'California','doses':dataJson[0]['dataValues'][2]}"
   ]
  },
  {
   "cell_type": "code",
   "execution_count": 12,
   "metadata": {
    "execution": {
     "iopub.execute_input": "2021-03-17T06:14:00.177649Z",
     "iopub.status.busy": "2021-03-17T06:14:00.176548Z",
     "iopub.status.idle": "2021-03-17T06:14:00.178215Z",
     "shell.execute_reply": "2021-03-17T06:14:00.178641Z"
    }
   },
   "outputs": [],
   "source": [
    "df = df.append(add, ignore_index=True)"
   ]
  },
  {
   "cell_type": "code",
   "execution_count": 13,
   "metadata": {
    "execution": {
     "iopub.execute_input": "2021-03-17T06:14:00.182818Z",
     "iopub.status.busy": "2021-03-17T06:14:00.181974Z",
     "iopub.status.idle": "2021-03-17T06:14:00.183739Z",
     "shell.execute_reply": "2021-03-17T06:14:00.184109Z"
    }
   },
   "outputs": [],
   "source": [
    "df = df.sort_values(by='location')"
   ]
  },
  {
   "cell_type": "code",
   "execution_count": 14,
   "metadata": {
    "execution": {
     "iopub.execute_input": "2021-03-17T06:14:00.190382Z",
     "iopub.status.busy": "2021-03-17T06:14:00.189214Z",
     "iopub.status.idle": "2021-03-17T06:14:00.190997Z",
     "shell.execute_reply": "2021-03-17T06:14:00.191435Z"
    }
   },
   "outputs": [],
   "source": [
    "df = df[df.location == 'California'].append(df[df.location != 'California']).reset_index(drop=True)"
   ]
  },
  {
   "cell_type": "code",
   "execution_count": null,
   "metadata": {},
   "outputs": [],
   "source": []
  },
  {
   "cell_type": "code",
   "execution_count": 15,
   "metadata": {
    "execution": {
     "iopub.execute_input": "2021-03-17T06:14:00.194609Z",
     "iopub.status.busy": "2021-03-17T06:14:00.194117Z",
     "iopub.status.idle": "2021-03-17T06:14:00.209851Z",
     "shell.execute_reply": "2021-03-17T06:14:00.209448Z"
    }
   },
   "outputs": [],
   "source": [
    "tz = pytz.timezone(\"America/New_York\")"
   ]
  },
  {
   "cell_type": "code",
   "execution_count": 16,
   "metadata": {
    "execution": {
     "iopub.execute_input": "2021-03-17T06:14:00.213606Z",
     "iopub.status.busy": "2021-03-17T06:14:00.212676Z",
     "iopub.status.idle": "2021-03-17T06:14:00.214393Z",
     "shell.execute_reply": "2021-03-17T06:14:00.214816Z"
    }
   },
   "outputs": [],
   "source": [
    "today = datetime.now(tz).date()"
   ]
  },
  {
   "cell_type": "code",
   "execution_count": 17,
   "metadata": {
    "execution": {
     "iopub.execute_input": "2021-03-17T06:14:00.218817Z",
     "iopub.status.busy": "2021-03-17T06:14:00.217743Z",
     "iopub.status.idle": "2021-03-17T06:14:00.219363Z",
     "shell.execute_reply": "2021-03-17T06:14:00.219752Z"
    }
   },
   "outputs": [],
   "source": [
    "data_dir = os.path.join(os.path.abspath(\"\"), \"data\")"
   ]
  },
  {
   "cell_type": "code",
   "execution_count": 18,
   "metadata": {
    "execution": {
     "iopub.execute_input": "2021-03-17T06:14:00.223851Z",
     "iopub.status.busy": "2021-03-17T06:14:00.222902Z",
     "iopub.status.idle": "2021-03-17T06:14:00.226889Z",
     "shell.execute_reply": "2021-03-17T06:14:00.226428Z"
    }
   },
   "outputs": [],
   "source": [
    "df.to_csv(os.path.join(data_dir, f\"{today}.csv\"), index=False)"
   ]
  },
  {
   "cell_type": "code",
   "execution_count": null,
   "metadata": {},
   "outputs": [],
   "source": []
  }
 ],
 "metadata": {
  "kernelspec": {
   "display_name": "Python 3",
   "language": "python",
   "name": "python3"
  },
  "language_info": {
   "codemirror_mode": {
    "name": "ipython",
    "version": 3
   },
   "file_extension": ".py",
   "mimetype": "text/x-python",
   "name": "python",
   "nbconvert_exporter": "python",
   "pygments_lexer": "ipython3",
   "version": "3.8.8"
  }
 },
 "nbformat": 4,
 "nbformat_minor": 4
}
