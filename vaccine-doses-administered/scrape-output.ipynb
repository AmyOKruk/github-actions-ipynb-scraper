{
 "cells": [
  {
   "cell_type": "markdown",
   "metadata": {},
   "source": [
    "# California COVID vaccinations scrape"
   ]
  },
  {
   "cell_type": "markdown",
   "metadata": {},
   "source": [
    "By [Amy O'Kruk](https://twitter.com/amyokruk)"
   ]
  },
  {
   "cell_type": "markdown",
   "metadata": {},
   "source": [
    "Downloads data on vaccine doses administered by county and statewide from a Tableau-powered dashboard from the California Department of Public Health."
   ]
  },
  {
   "cell_type": "code",
   "execution_count": 1,
   "metadata": {
    "execution": {
     "iopub.execute_input": "2021-03-24T11:53:30.069453Z",
     "iopub.status.busy": "2021-03-24T11:53:30.068329Z",
     "iopub.status.idle": "2021-03-24T11:53:30.626359Z",
     "shell.execute_reply": "2021-03-24T11:53:30.625118Z"
    }
   },
   "outputs": [],
   "source": [
    "import pandas as pd\n",
    "import requests\n",
    "from bs4 import BeautifulSoup\n",
    "import json\n",
    "import re\n",
    "import time\n",
    "from time import gmtime, strftime \n",
    "import os\n",
    "import pytz\n",
    "from datetime import datetime"
   ]
  },
  {
   "cell_type": "markdown",
   "metadata": {},
   "source": [
    "Scrape the dashboard page"
   ]
  },
  {
   "cell_type": "code",
   "execution_count": 2,
   "metadata": {
    "execution": {
     "iopub.execute_input": "2021-03-24T11:53:30.632354Z",
     "iopub.status.busy": "2021-03-24T11:53:30.630327Z",
     "iopub.status.idle": "2021-03-24T11:53:31.149380Z",
     "shell.execute_reply": "2021-03-24T11:53:31.148653Z"
    }
   },
   "outputs": [],
   "source": [
    "url = \"https://public.tableau.com/interactive/views/COVID-19VaccineDashboardPublic/Vaccine?:embed=y&:showVizHome=n&:apiID=host0\"\n",
    "\n",
    "r = requests.get(url)\n",
    "soup = BeautifulSoup(r.text, \"html.parser\")"
   ]
  },
  {
   "cell_type": "code",
   "execution_count": 3,
   "metadata": {
    "execution": {
     "iopub.execute_input": "2021-03-24T11:53:31.155473Z",
     "iopub.status.busy": "2021-03-24T11:53:31.154601Z",
     "iopub.status.idle": "2021-03-24T11:53:31.158645Z",
     "shell.execute_reply": "2021-03-24T11:53:31.158191Z"
    }
   },
   "outputs": [],
   "source": [
    "tableauData = json.loads(soup.find(\"textarea\",{\"id\": \"tsConfigContainer\"}).text)"
   ]
  },
  {
   "cell_type": "markdown",
   "metadata": {},
   "source": [
    "Get the link to the Tableau data"
   ]
  },
  {
   "cell_type": "code",
   "execution_count": 4,
   "metadata": {
    "execution": {
     "iopub.execute_input": "2021-03-24T11:53:31.163196Z",
     "iopub.status.busy": "2021-03-24T11:53:31.162017Z",
     "iopub.status.idle": "2021-03-24T11:53:31.163798Z",
     "shell.execute_reply": "2021-03-24T11:53:31.164238Z"
    }
   },
   "outputs": [],
   "source": [
    "dataUrl = f'https://public.tableau.com{tableauData[\"vizql_root\"]}/bootstrapSession/sessions/{tableauData[\"sessionid\"]}'"
   ]
  },
  {
   "cell_type": "code",
   "execution_count": 5,
   "metadata": {
    "execution": {
     "iopub.execute_input": "2021-03-24T11:53:31.171221Z",
     "iopub.status.busy": "2021-03-24T11:53:31.170475Z",
     "iopub.status.idle": "2021-03-24T11:53:31.559539Z",
     "shell.execute_reply": "2021-03-24T11:53:31.559051Z"
    }
   },
   "outputs": [],
   "source": [
    "r = requests.post(dataUrl, data= {\n",
    "    \"sheet_id\": tableauData[\"sheetId\"],\n",
    "})\n",
    "\n",
    "dataReg = re.search('\\d+;({.*})\\d+;({.*})', r.text, re.MULTILINE)\n",
    "data1 = json.loads(dataReg.group(2))\n",
    "\n",
    "dataJson = data1[\"secondaryInfo\"][\"presModelMap\"][\"dataDictionary\"][\"presModelHolder\"][\"genDataDictionaryPresModel\"][\"dataSegments\"][\"0\"][\"dataColumns\"]"
   ]
  },
  {
   "cell_type": "markdown",
   "metadata": {},
   "source": [
    "Isolate what you want"
   ]
  },
  {
   "cell_type": "code",
   "execution_count": 6,
   "metadata": {
    "execution": {
     "iopub.execute_input": "2021-03-24T11:53:31.564039Z",
     "iopub.status.busy": "2021-03-24T11:53:31.563489Z",
     "iopub.status.idle": "2021-03-24T11:53:31.566864Z",
     "shell.execute_reply": "2021-03-24T11:53:31.567322Z"
    }
   },
   "outputs": [],
   "source": [
    "counties = dataJson[2]['dataValues'][:58]"
   ]
  },
  {
   "cell_type": "code",
   "execution_count": 7,
   "metadata": {
    "execution": {
     "iopub.execute_input": "2021-03-24T11:53:31.571372Z",
     "iopub.status.busy": "2021-03-24T11:53:31.570801Z",
     "iopub.status.idle": "2021-03-24T11:53:31.574340Z",
     "shell.execute_reply": "2021-03-24T11:53:31.573898Z"
    }
   },
   "outputs": [],
   "source": [
    "doses = dataJson[0]['dataValues'][3:61]"
   ]
  },
  {
   "cell_type": "markdown",
   "metadata": {},
   "source": [
    "Data formatting"
   ]
  },
  {
   "cell_type": "code",
   "execution_count": 8,
   "metadata": {
    "execution": {
     "iopub.execute_input": "2021-03-24T11:53:31.578216Z",
     "iopub.status.busy": "2021-03-24T11:53:31.577685Z",
     "iopub.status.idle": "2021-03-24T11:53:31.581321Z",
     "shell.execute_reply": "2021-03-24T11:53:31.581782Z"
    }
   },
   "outputs": [],
   "source": [
    "zipped = dict(zip(counties, doses))"
   ]
  },
  {
   "cell_type": "code",
   "execution_count": 9,
   "metadata": {
    "execution": {
     "iopub.execute_input": "2021-03-24T11:53:31.588006Z",
     "iopub.status.busy": "2021-03-24T11:53:31.587471Z",
     "iopub.status.idle": "2021-03-24T11:53:31.591283Z",
     "shell.execute_reply": "2021-03-24T11:53:31.590770Z"
    }
   },
   "outputs": [],
   "source": [
    "df = pd.Series(zipped).reset_index()"
   ]
  },
  {
   "cell_type": "code",
   "execution_count": 10,
   "metadata": {
    "execution": {
     "iopub.execute_input": "2021-03-24T11:53:31.595704Z",
     "iopub.status.busy": "2021-03-24T11:53:31.595161Z",
     "iopub.status.idle": "2021-03-24T11:53:31.598841Z",
     "shell.execute_reply": "2021-03-24T11:53:31.598328Z"
    }
   },
   "outputs": [],
   "source": [
    "df.columns = ['location','doses']"
   ]
  },
  {
   "cell_type": "markdown",
   "metadata": {},
   "source": [
    "Grab the overall California total"
   ]
  },
  {
   "cell_type": "code",
   "execution_count": 11,
   "metadata": {
    "execution": {
     "iopub.execute_input": "2021-03-24T11:53:31.603198Z",
     "iopub.status.busy": "2021-03-24T11:53:31.602617Z",
     "iopub.status.idle": "2021-03-24T11:53:31.606282Z",
     "shell.execute_reply": "2021-03-24T11:53:31.605798Z"
    }
   },
   "outputs": [],
   "source": [
    "add = {'location':'California','doses':dataJson[0]['dataValues'][2]}"
   ]
  },
  {
   "cell_type": "code",
   "execution_count": 12,
   "metadata": {
    "execution": {
     "iopub.execute_input": "2021-03-24T11:53:31.613787Z",
     "iopub.status.busy": "2021-03-24T11:53:31.613213Z",
     "iopub.status.idle": "2021-03-24T11:53:31.617171Z",
     "shell.execute_reply": "2021-03-24T11:53:31.616693Z"
    }
   },
   "outputs": [],
   "source": [
    "df = df.append(add, ignore_index=True)"
   ]
  },
  {
   "cell_type": "code",
   "execution_count": 13,
   "metadata": {
    "execution": {
     "iopub.execute_input": "2021-03-24T11:53:31.622401Z",
     "iopub.status.busy": "2021-03-24T11:53:31.621861Z",
     "iopub.status.idle": "2021-03-24T11:53:31.625260Z",
     "shell.execute_reply": "2021-03-24T11:53:31.625713Z"
    }
   },
   "outputs": [],
   "source": [
    "df = df.sort_values(by='location')"
   ]
  },
  {
   "cell_type": "code",
   "execution_count": 14,
   "metadata": {
    "execution": {
     "iopub.execute_input": "2021-03-24T11:53:31.632456Z",
     "iopub.status.busy": "2021-03-24T11:53:31.631919Z",
     "iopub.status.idle": "2021-03-24T11:53:31.635763Z",
     "shell.execute_reply": "2021-03-24T11:53:31.635283Z"
    }
   },
   "outputs": [],
   "source": [
    "df = df[df.location == 'California'].append(df[df.location != 'California']).reset_index(drop=True)"
   ]
  },
  {
   "cell_type": "code",
   "execution_count": null,
   "metadata": {},
   "outputs": [],
   "source": []
  },
  {
   "cell_type": "code",
   "execution_count": 15,
   "metadata": {
    "execution": {
     "iopub.execute_input": "2021-03-24T11:53:31.639794Z",
     "iopub.status.busy": "2021-03-24T11:53:31.639259Z",
     "iopub.status.idle": "2021-03-24T11:53:31.658697Z",
     "shell.execute_reply": "2021-03-24T11:53:31.658185Z"
    }
   },
   "outputs": [],
   "source": [
    "tz = pytz.timezone(\"America/New_York\")"
   ]
  },
  {
   "cell_type": "code",
   "execution_count": 16,
   "metadata": {
    "execution": {
     "iopub.execute_input": "2021-03-24T11:53:31.663056Z",
     "iopub.status.busy": "2021-03-24T11:53:31.662446Z",
     "iopub.status.idle": "2021-03-24T11:53:31.665854Z",
     "shell.execute_reply": "2021-03-24T11:53:31.666320Z"
    }
   },
   "outputs": [],
   "source": [
    "today = datetime.now(tz).date()"
   ]
  },
  {
   "cell_type": "code",
   "execution_count": 17,
   "metadata": {
    "execution": {
     "iopub.execute_input": "2021-03-24T11:53:31.670697Z",
     "iopub.status.busy": "2021-03-24T11:53:31.670152Z",
     "iopub.status.idle": "2021-03-24T11:53:31.676356Z",
     "shell.execute_reply": "2021-03-24T11:53:31.675852Z"
    }
   },
   "outputs": [],
   "source": [
    "data_dir = os.path.join(os.path.abspath(\"\"), \"data\")"
   ]
  },
  {
   "cell_type": "code",
   "execution_count": 18,
   "metadata": {
    "execution": {
     "iopub.execute_input": "2021-03-24T11:53:31.680977Z",
     "iopub.status.busy": "2021-03-24T11:53:31.680425Z",
     "iopub.status.idle": "2021-03-24T11:53:31.752778Z",
     "shell.execute_reply": "2021-03-24T11:53:31.751984Z"
    }
   },
   "outputs": [],
   "source": [
    "df.to_csv(os.path.join(data_dir, f\"{today}.csv\"), index=False)"
   ]
  },
  {
   "cell_type": "code",
   "execution_count": null,
   "metadata": {},
   "outputs": [],
   "source": []
  }
 ],
 "metadata": {
  "kernelspec": {
   "display_name": "Python 3",
   "language": "python",
   "name": "python3"
  },
  "language_info": {
   "codemirror_mode": {
    "name": "ipython",
    "version": 3
   },
   "file_extension": ".py",
   "mimetype": "text/x-python",
   "name": "python",
   "nbconvert_exporter": "python",
   "pygments_lexer": "ipython3",
   "version": "3.8.8"
  }
 },
 "nbformat": 4,
 "nbformat_minor": 4
}
