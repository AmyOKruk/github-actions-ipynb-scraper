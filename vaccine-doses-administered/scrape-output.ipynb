{
 "cells": [
  {
   "cell_type": "markdown",
   "metadata": {},
   "source": [
    "# California COVID vaccinations scrape"
   ]
  },
  {
   "cell_type": "markdown",
   "metadata": {},
   "source": [
    "By [Amy O'Kruk](https://twitter.com/amyokruk)"
   ]
  },
  {
   "cell_type": "markdown",
   "metadata": {},
   "source": [
    "Downloads data on vaccine doses administered by county and statewide from a Tableau-powered dashboard from the California Department of Public Health."
   ]
  },
  {
   "cell_type": "code",
   "execution_count": 1,
   "metadata": {
    "execution": {
     "iopub.execute_input": "2021-03-09T22:15:30.816308Z",
     "iopub.status.busy": "2021-03-09T22:15:30.815592Z",
     "iopub.status.idle": "2021-03-09T22:15:31.351986Z",
     "shell.execute_reply": "2021-03-09T22:15:31.350900Z"
    }
   },
   "outputs": [],
   "source": [
    "import pandas as pd\n",
    "import requests\n",
    "from bs4 import BeautifulSoup\n",
    "import json\n",
    "import re\n",
    "import time\n",
    "from time import gmtime, strftime \n",
    "import os\n",
    "import pytz\n",
    "from datetime import datetime"
   ]
  },
  {
   "cell_type": "markdown",
   "metadata": {},
   "source": [
    "Scrape the dashboard page"
   ]
  },
  {
   "cell_type": "code",
   "execution_count": 2,
   "metadata": {
    "execution": {
     "iopub.execute_input": "2021-03-09T22:15:31.359150Z",
     "iopub.status.busy": "2021-03-09T22:15:31.355821Z",
     "iopub.status.idle": "2021-03-09T22:15:31.821637Z",
     "shell.execute_reply": "2021-03-09T22:15:31.820531Z"
    }
   },
   "outputs": [],
   "source": [
    "url = \"https://public.tableau.com/interactive/views/COVID-19VaccineDashboardPublic/Vaccine?:embed=y&:showVizHome=n&:apiID=host0\"\n",
    "\n",
    "r = requests.get(url)\n",
    "soup = BeautifulSoup(r.text, \"html.parser\")"
   ]
  },
  {
   "cell_type": "code",
   "execution_count": 3,
   "metadata": {
    "execution": {
     "iopub.execute_input": "2021-03-09T22:15:31.826712Z",
     "iopub.status.busy": "2021-03-09T22:15:31.826118Z",
     "iopub.status.idle": "2021-03-09T22:15:31.830121Z",
     "shell.execute_reply": "2021-03-09T22:15:31.829613Z"
    }
   },
   "outputs": [],
   "source": [
    "tableauData = json.loads(soup.find(\"textarea\",{\"id\": \"tsConfigContainer\"}).text)"
   ]
  },
  {
   "cell_type": "markdown",
   "metadata": {},
   "source": [
    "Get the link to the Tableau data"
   ]
  },
  {
   "cell_type": "code",
   "execution_count": 4,
   "metadata": {
    "execution": {
     "iopub.execute_input": "2021-03-09T22:15:31.834039Z",
     "iopub.status.busy": "2021-03-09T22:15:31.833488Z",
     "iopub.status.idle": "2021-03-09T22:15:31.837894Z",
     "shell.execute_reply": "2021-03-09T22:15:31.837373Z"
    }
   },
   "outputs": [],
   "source": [
    "dataUrl = f'https://public.tableau.com{tableauData[\"vizql_root\"]}/bootstrapSession/sessions/{tableauData[\"sessionid\"]}'"
   ]
  },
  {
   "cell_type": "code",
   "execution_count": 5,
   "metadata": {
    "execution": {
     "iopub.execute_input": "2021-03-09T22:15:31.844684Z",
     "iopub.status.busy": "2021-03-09T22:15:31.844104Z",
     "iopub.status.idle": "2021-03-09T22:15:32.419158Z",
     "shell.execute_reply": "2021-03-09T22:15:32.418602Z"
    }
   },
   "outputs": [],
   "source": [
    "r = requests.post(dataUrl, data= {\n",
    "    \"sheet_id\": tableauData[\"sheetId\"],\n",
    "})\n",
    "\n",
    "dataReg = re.search('\\d+;({.*})\\d+;({.*})', r.text, re.MULTILINE)\n",
    "data1 = json.loads(dataReg.group(2))\n",
    "\n",
    "dataJson = data1[\"secondaryInfo\"][\"presModelMap\"][\"dataDictionary\"][\"presModelHolder\"][\"genDataDictionaryPresModel\"][\"dataSegments\"][\"0\"][\"dataColumns\"]"
   ]
  },
  {
   "cell_type": "markdown",
   "metadata": {},
   "source": [
    "Isolate what you want"
   ]
  },
  {
   "cell_type": "code",
   "execution_count": 6,
   "metadata": {
    "execution": {
     "iopub.execute_input": "2021-03-09T22:15:32.423229Z",
     "iopub.status.busy": "2021-03-09T22:15:32.422546Z",
     "iopub.status.idle": "2021-03-09T22:15:32.426945Z",
     "shell.execute_reply": "2021-03-09T22:15:32.426407Z"
    }
   },
   "outputs": [],
   "source": [
    "counties = dataJson[2]['dataValues'][:58]"
   ]
  },
  {
   "cell_type": "code",
   "execution_count": 7,
   "metadata": {
    "execution": {
     "iopub.execute_input": "2021-03-09T22:15:32.430720Z",
     "iopub.status.busy": "2021-03-09T22:15:32.430119Z",
     "iopub.status.idle": "2021-03-09T22:15:32.433934Z",
     "shell.execute_reply": "2021-03-09T22:15:32.434401Z"
    }
   },
   "outputs": [],
   "source": [
    "doses = dataJson[0]['dataValues'][3:61]"
   ]
  },
  {
   "cell_type": "markdown",
   "metadata": {},
   "source": [
    "Data formatting"
   ]
  },
  {
   "cell_type": "code",
   "execution_count": 8,
   "metadata": {
    "execution": {
     "iopub.execute_input": "2021-03-09T22:15:32.438426Z",
     "iopub.status.busy": "2021-03-09T22:15:32.437789Z",
     "iopub.status.idle": "2021-03-09T22:15:32.442089Z",
     "shell.execute_reply": "2021-03-09T22:15:32.441591Z"
    }
   },
   "outputs": [],
   "source": [
    "zipped = dict(zip(counties, doses))"
   ]
  },
  {
   "cell_type": "code",
   "execution_count": 9,
   "metadata": {
    "execution": {
     "iopub.execute_input": "2021-03-09T22:15:32.453601Z",
     "iopub.status.busy": "2021-03-09T22:15:32.452997Z",
     "iopub.status.idle": "2021-03-09T22:15:32.460063Z",
     "shell.execute_reply": "2021-03-09T22:15:32.459165Z"
    }
   },
   "outputs": [],
   "source": [
    "df = pd.Series(zipped).reset_index()"
   ]
  },
  {
   "cell_type": "code",
   "execution_count": 10,
   "metadata": {
    "execution": {
     "iopub.execute_input": "2021-03-09T22:15:32.465572Z",
     "iopub.status.busy": "2021-03-09T22:15:32.464814Z",
     "iopub.status.idle": "2021-03-09T22:15:32.469532Z",
     "shell.execute_reply": "2021-03-09T22:15:32.468917Z"
    }
   },
   "outputs": [],
   "source": [
    "df.columns = ['location','doses']"
   ]
  },
  {
   "cell_type": "markdown",
   "metadata": {},
   "source": [
    "Grab the overall California total"
   ]
  },
  {
   "cell_type": "code",
   "execution_count": 11,
   "metadata": {
    "execution": {
     "iopub.execute_input": "2021-03-09T22:15:32.473607Z",
     "iopub.status.busy": "2021-03-09T22:15:32.472924Z",
     "iopub.status.idle": "2021-03-09T22:15:32.477816Z",
     "shell.execute_reply": "2021-03-09T22:15:32.477246Z"
    }
   },
   "outputs": [],
   "source": [
    "add = {'location':'California','doses':dataJson[0]['dataValues'][2]}"
   ]
  },
  {
   "cell_type": "code",
   "execution_count": 12,
   "metadata": {
    "execution": {
     "iopub.execute_input": "2021-03-09T22:15:32.485231Z",
     "iopub.status.busy": "2021-03-09T22:15:32.484595Z",
     "iopub.status.idle": "2021-03-09T22:15:32.488221Z",
     "shell.execute_reply": "2021-03-09T22:15:32.488760Z"
    }
   },
   "outputs": [],
   "source": [
    "df = df.append(add, ignore_index=True)"
   ]
  },
  {
   "cell_type": "code",
   "execution_count": 13,
   "metadata": {
    "execution": {
     "iopub.execute_input": "2021-03-09T22:15:32.500156Z",
     "iopub.status.busy": "2021-03-09T22:15:32.499199Z",
     "iopub.status.idle": "2021-03-09T22:15:32.503090Z",
     "shell.execute_reply": "2021-03-09T22:15:32.503680Z"
    }
   },
   "outputs": [],
   "source": [
    "df = df.sort_values(by='location')"
   ]
  },
  {
   "cell_type": "code",
   "execution_count": 14,
   "metadata": {
    "execution": {
     "iopub.execute_input": "2021-03-09T22:15:32.510167Z",
     "iopub.status.busy": "2021-03-09T22:15:32.509480Z",
     "iopub.status.idle": "2021-03-09T22:15:32.514071Z",
     "shell.execute_reply": "2021-03-09T22:15:32.513230Z"
    }
   },
   "outputs": [],
   "source": [
    "df = df[df.location == 'California'].append(df[df.location != 'California']).reset_index(drop=True)"
   ]
  },
  {
   "cell_type": "code",
   "execution_count": null,
   "metadata": {},
   "outputs": [],
   "source": []
  },
  {
   "cell_type": "code",
   "execution_count": 15,
   "metadata": {
    "execution": {
     "iopub.execute_input": "2021-03-09T22:15:32.517917Z",
     "iopub.status.busy": "2021-03-09T22:15:32.517233Z",
     "iopub.status.idle": "2021-03-09T22:15:32.539652Z",
     "shell.execute_reply": "2021-03-09T22:15:32.539149Z"
    }
   },
   "outputs": [],
   "source": [
    "tz = pytz.timezone(\"America/New_York\")"
   ]
  },
  {
   "cell_type": "code",
   "execution_count": 16,
   "metadata": {
    "execution": {
     "iopub.execute_input": "2021-03-09T22:15:32.543442Z",
     "iopub.status.busy": "2021-03-09T22:15:32.542841Z",
     "iopub.status.idle": "2021-03-09T22:15:32.546732Z",
     "shell.execute_reply": "2021-03-09T22:15:32.546130Z"
    }
   },
   "outputs": [],
   "source": [
    "today = datetime.now(tz).date()"
   ]
  },
  {
   "cell_type": "code",
   "execution_count": 17,
   "metadata": {
    "execution": {
     "iopub.execute_input": "2021-03-09T22:15:32.550519Z",
     "iopub.status.busy": "2021-03-09T22:15:32.549928Z",
     "iopub.status.idle": "2021-03-09T22:15:32.553741Z",
     "shell.execute_reply": "2021-03-09T22:15:32.553251Z"
    }
   },
   "outputs": [],
   "source": [
    "data_dir = os.path.join(os.path.abspath(\"\"), \"data\")"
   ]
  },
  {
   "cell_type": "code",
   "execution_count": 18,
   "metadata": {
    "execution": {
     "iopub.execute_input": "2021-03-09T22:15:32.558573Z",
     "iopub.status.busy": "2021-03-09T22:15:32.557262Z",
     "iopub.status.idle": "2021-03-09T22:15:32.562008Z",
     "shell.execute_reply": "2021-03-09T22:15:32.561425Z"
    }
   },
   "outputs": [],
   "source": [
    "df.to_csv(os.path.join(data_dir, f\"{today}.csv\"), index=False)"
   ]
  },
  {
   "cell_type": "code",
   "execution_count": null,
   "metadata": {},
   "outputs": [],
   "source": []
  }
 ],
 "metadata": {
  "kernelspec": {
   "display_name": "Python 3",
   "language": "python",
   "name": "python3"
  },
  "language_info": {
   "codemirror_mode": {
    "name": "ipython",
    "version": 3
   },
   "file_extension": ".py",
   "mimetype": "text/x-python",
   "name": "python",
   "nbconvert_exporter": "python",
   "pygments_lexer": "ipython3",
   "version": "3.8.8"
  }
 },
 "nbformat": 4,
 "nbformat_minor": 4
}
