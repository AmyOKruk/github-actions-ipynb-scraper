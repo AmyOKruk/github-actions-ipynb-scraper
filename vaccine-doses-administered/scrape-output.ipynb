{
 "cells": [
  {
   "cell_type": "markdown",
   "metadata": {},
   "source": [
    "# California COVID vaccinations scrape"
   ]
  },
  {
   "cell_type": "markdown",
   "metadata": {},
   "source": [
    "By [Amy O'Kruk](https://twitter.com/amyokruk)"
   ]
  },
  {
   "cell_type": "markdown",
   "metadata": {},
   "source": [
    "Downloads data on vaccine doses administered by county and statewide from a Tableau-powered dashboard from the California Department of Public Health."
   ]
  },
  {
   "cell_type": "code",
   "execution_count": 1,
   "metadata": {
    "execution": {
     "iopub.execute_input": "2021-03-11T23:13:24.228094Z",
     "iopub.status.busy": "2021-03-11T23:13:24.227275Z",
     "iopub.status.idle": "2021-03-11T23:13:24.633175Z",
     "shell.execute_reply": "2021-03-11T23:13:24.632044Z"
    }
   },
   "outputs": [],
   "source": [
    "import pandas as pd\n",
    "import requests\n",
    "from bs4 import BeautifulSoup\n",
    "import json\n",
    "import re\n",
    "import time\n",
    "from time import gmtime, strftime \n",
    "import os\n",
    "import pytz\n",
    "from datetime import datetime"
   ]
  },
  {
   "cell_type": "markdown",
   "metadata": {},
   "source": [
    "Scrape the dashboard page"
   ]
  },
  {
   "cell_type": "code",
   "execution_count": 2,
   "metadata": {
    "execution": {
     "iopub.execute_input": "2021-03-11T23:13:24.639802Z",
     "iopub.status.busy": "2021-03-11T23:13:24.638602Z",
     "iopub.status.idle": "2021-03-11T23:13:24.958375Z",
     "shell.execute_reply": "2021-03-11T23:13:24.957491Z"
    }
   },
   "outputs": [],
   "source": [
    "url = \"https://public.tableau.com/interactive/views/COVID-19VaccineDashboardPublic/Vaccine?:embed=y&:showVizHome=n&:apiID=host0\"\n",
    "\n",
    "r = requests.get(url)\n",
    "soup = BeautifulSoup(r.text, \"html.parser\")"
   ]
  },
  {
   "cell_type": "code",
   "execution_count": 3,
   "metadata": {
    "execution": {
     "iopub.execute_input": "2021-03-11T23:13:24.962948Z",
     "iopub.status.busy": "2021-03-11T23:13:24.962418Z",
     "iopub.status.idle": "2021-03-11T23:13:24.965989Z",
     "shell.execute_reply": "2021-03-11T23:13:24.965534Z"
    }
   },
   "outputs": [],
   "source": [
    "tableauData = json.loads(soup.find(\"textarea\",{\"id\": \"tsConfigContainer\"}).text)"
   ]
  },
  {
   "cell_type": "markdown",
   "metadata": {},
   "source": [
    "Get the link to the Tableau data"
   ]
  },
  {
   "cell_type": "code",
   "execution_count": 4,
   "metadata": {
    "execution": {
     "iopub.execute_input": "2021-03-11T23:13:24.969423Z",
     "iopub.status.busy": "2021-03-11T23:13:24.968890Z",
     "iopub.status.idle": "2021-03-11T23:13:24.972223Z",
     "shell.execute_reply": "2021-03-11T23:13:24.971771Z"
    }
   },
   "outputs": [],
   "source": [
    "dataUrl = f'https://public.tableau.com{tableauData[\"vizql_root\"]}/bootstrapSession/sessions/{tableauData[\"sessionid\"]}'"
   ]
  },
  {
   "cell_type": "code",
   "execution_count": 5,
   "metadata": {
    "execution": {
     "iopub.execute_input": "2021-03-11T23:13:24.978872Z",
     "iopub.status.busy": "2021-03-11T23:13:24.978014Z",
     "iopub.status.idle": "2021-03-11T23:13:25.562406Z",
     "shell.execute_reply": "2021-03-11T23:13:25.561559Z"
    }
   },
   "outputs": [],
   "source": [
    "r = requests.post(dataUrl, data= {\n",
    "    \"sheet_id\": tableauData[\"sheetId\"],\n",
    "})\n",
    "\n",
    "dataReg = re.search('\\d+;({.*})\\d+;({.*})', r.text, re.MULTILINE)\n",
    "data1 = json.loads(dataReg.group(2))\n",
    "\n",
    "dataJson = data1[\"secondaryInfo\"][\"presModelMap\"][\"dataDictionary\"][\"presModelHolder\"][\"genDataDictionaryPresModel\"][\"dataSegments\"][\"0\"][\"dataColumns\"]"
   ]
  },
  {
   "cell_type": "markdown",
   "metadata": {},
   "source": [
    "Isolate what you want"
   ]
  },
  {
   "cell_type": "code",
   "execution_count": 6,
   "metadata": {
    "execution": {
     "iopub.execute_input": "2021-03-11T23:13:25.566244Z",
     "iopub.status.busy": "2021-03-11T23:13:25.565730Z",
     "iopub.status.idle": "2021-03-11T23:13:25.568813Z",
     "shell.execute_reply": "2021-03-11T23:13:25.569189Z"
    }
   },
   "outputs": [],
   "source": [
    "counties = dataJson[2]['dataValues'][:58]"
   ]
  },
  {
   "cell_type": "code",
   "execution_count": 7,
   "metadata": {
    "execution": {
     "iopub.execute_input": "2021-03-11T23:13:25.572755Z",
     "iopub.status.busy": "2021-03-11T23:13:25.572246Z",
     "iopub.status.idle": "2021-03-11T23:13:25.575466Z",
     "shell.execute_reply": "2021-03-11T23:13:25.575053Z"
    }
   },
   "outputs": [],
   "source": [
    "doses = dataJson[0]['dataValues'][3:61]"
   ]
  },
  {
   "cell_type": "markdown",
   "metadata": {},
   "source": [
    "Data formatting"
   ]
  },
  {
   "cell_type": "code",
   "execution_count": 8,
   "metadata": {
    "execution": {
     "iopub.execute_input": "2021-03-11T23:13:25.578629Z",
     "iopub.status.busy": "2021-03-11T23:13:25.578150Z",
     "iopub.status.idle": "2021-03-11T23:13:25.581471Z",
     "shell.execute_reply": "2021-03-11T23:13:25.581051Z"
    }
   },
   "outputs": [],
   "source": [
    "zipped = dict(zip(counties, doses))"
   ]
  },
  {
   "cell_type": "code",
   "execution_count": 9,
   "metadata": {
    "execution": {
     "iopub.execute_input": "2021-03-11T23:13:25.586995Z",
     "iopub.status.busy": "2021-03-11T23:13:25.586472Z",
     "iopub.status.idle": "2021-03-11T23:13:25.589807Z",
     "shell.execute_reply": "2021-03-11T23:13:25.589341Z"
    }
   },
   "outputs": [],
   "source": [
    "df = pd.Series(zipped).reset_index()"
   ]
  },
  {
   "cell_type": "code",
   "execution_count": 10,
   "metadata": {
    "execution": {
     "iopub.execute_input": "2021-03-11T23:13:25.593603Z",
     "iopub.status.busy": "2021-03-11T23:13:25.592743Z",
     "iopub.status.idle": "2021-03-11T23:13:25.594390Z",
     "shell.execute_reply": "2021-03-11T23:13:25.594818Z"
    }
   },
   "outputs": [],
   "source": [
    "df.columns = ['location','doses']"
   ]
  },
  {
   "cell_type": "markdown",
   "metadata": {},
   "source": [
    "Grab the overall California total"
   ]
  },
  {
   "cell_type": "code",
   "execution_count": 11,
   "metadata": {
    "execution": {
     "iopub.execute_input": "2021-03-11T23:13:25.598944Z",
     "iopub.status.busy": "2021-03-11T23:13:25.597918Z",
     "iopub.status.idle": "2021-03-11T23:13:25.599499Z",
     "shell.execute_reply": "2021-03-11T23:13:25.599895Z"
    }
   },
   "outputs": [],
   "source": [
    "add = {'location':'California','doses':dataJson[0]['dataValues'][2]}"
   ]
  },
  {
   "cell_type": "code",
   "execution_count": 12,
   "metadata": {
    "execution": {
     "iopub.execute_input": "2021-03-11T23:13:25.606613Z",
     "iopub.status.busy": "2021-03-11T23:13:25.605558Z",
     "iopub.status.idle": "2021-03-11T23:13:25.607178Z",
     "shell.execute_reply": "2021-03-11T23:13:25.607608Z"
    }
   },
   "outputs": [],
   "source": [
    "df = df.append(add, ignore_index=True)"
   ]
  },
  {
   "cell_type": "code",
   "execution_count": 13,
   "metadata": {
    "execution": {
     "iopub.execute_input": "2021-03-11T23:13:25.612092Z",
     "iopub.status.busy": "2021-03-11T23:13:25.611114Z",
     "iopub.status.idle": "2021-03-11T23:13:25.612710Z",
     "shell.execute_reply": "2021-03-11T23:13:25.613109Z"
    }
   },
   "outputs": [],
   "source": [
    "df = df.sort_values(by='location')"
   ]
  },
  {
   "cell_type": "code",
   "execution_count": 14,
   "metadata": {
    "execution": {
     "iopub.execute_input": "2021-03-11T23:13:25.619215Z",
     "iopub.status.busy": "2021-03-11T23:13:25.617978Z",
     "iopub.status.idle": "2021-03-11T23:13:25.619804Z",
     "shell.execute_reply": "2021-03-11T23:13:25.620232Z"
    }
   },
   "outputs": [],
   "source": [
    "df = df[df.location == 'California'].append(df[df.location != 'California']).reset_index(drop=True)"
   ]
  },
  {
   "cell_type": "code",
   "execution_count": null,
   "metadata": {},
   "outputs": [],
   "source": []
  },
  {
   "cell_type": "code",
   "execution_count": 15,
   "metadata": {
    "execution": {
     "iopub.execute_input": "2021-03-11T23:13:25.623487Z",
     "iopub.status.busy": "2021-03-11T23:13:25.622972Z",
     "iopub.status.idle": "2021-03-11T23:13:25.639707Z",
     "shell.execute_reply": "2021-03-11T23:13:25.639220Z"
    }
   },
   "outputs": [],
   "source": [
    "tz = pytz.timezone(\"America/New_York\")"
   ]
  },
  {
   "cell_type": "code",
   "execution_count": 16,
   "metadata": {
    "execution": {
     "iopub.execute_input": "2021-03-11T23:13:25.643911Z",
     "iopub.status.busy": "2021-03-11T23:13:25.642869Z",
     "iopub.status.idle": "2021-03-11T23:13:25.644473Z",
     "shell.execute_reply": "2021-03-11T23:13:25.644868Z"
    }
   },
   "outputs": [],
   "source": [
    "today = datetime.now(tz).date()"
   ]
  },
  {
   "cell_type": "code",
   "execution_count": 17,
   "metadata": {
    "execution": {
     "iopub.execute_input": "2021-03-11T23:13:25.648969Z",
     "iopub.status.busy": "2021-03-11T23:13:25.647864Z",
     "iopub.status.idle": "2021-03-11T23:13:25.649574Z",
     "shell.execute_reply": "2021-03-11T23:13:25.650033Z"
    }
   },
   "outputs": [],
   "source": [
    "data_dir = os.path.join(os.path.abspath(\"\"), \"data\")"
   ]
  },
  {
   "cell_type": "code",
   "execution_count": 18,
   "metadata": {
    "execution": {
     "iopub.execute_input": "2021-03-11T23:13:25.653708Z",
     "iopub.status.busy": "2021-03-11T23:13:25.653218Z",
     "iopub.status.idle": "2021-03-11T23:13:25.656878Z",
     "shell.execute_reply": "2021-03-11T23:13:25.657255Z"
    }
   },
   "outputs": [],
   "source": [
    "df.to_csv(os.path.join(data_dir, f\"{today}.csv\"), index=False)"
   ]
  },
  {
   "cell_type": "code",
   "execution_count": null,
   "metadata": {},
   "outputs": [],
   "source": []
  }
 ],
 "metadata": {
  "kernelspec": {
   "display_name": "Python 3",
   "language": "python",
   "name": "python3"
  },
  "language_info": {
   "codemirror_mode": {
    "name": "ipython",
    "version": 3
   },
   "file_extension": ".py",
   "mimetype": "text/x-python",
   "name": "python",
   "nbconvert_exporter": "python",
   "pygments_lexer": "ipython3",
   "version": "3.8.8"
  }
 },
 "nbformat": 4,
 "nbformat_minor": 4
}
