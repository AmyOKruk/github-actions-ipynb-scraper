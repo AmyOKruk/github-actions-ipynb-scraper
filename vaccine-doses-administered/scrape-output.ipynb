{
 "cells": [
  {
   "cell_type": "markdown",
   "metadata": {},
   "source": [
    "# California COVID vaccinations scrape"
   ]
  },
  {
   "cell_type": "markdown",
   "metadata": {},
   "source": [
    "By [Amy O'Kruk](https://twitter.com/amyokruk)"
   ]
  },
  {
   "cell_type": "markdown",
   "metadata": {},
   "source": [
    "Downloads data on vaccine doses administered by county and statewide from a Tableau-powered dashboard from the California Department of Public Health."
   ]
  },
  {
   "cell_type": "code",
   "execution_count": 1,
   "metadata": {
    "execution": {
     "iopub.execute_input": "2021-03-09T03:30:50.038325Z",
     "iopub.status.busy": "2021-03-09T03:30:50.037660Z",
     "iopub.status.idle": "2021-03-09T03:30:50.508419Z",
     "shell.execute_reply": "2021-03-09T03:30:50.507322Z"
    }
   },
   "outputs": [],
   "source": [
    "import pandas as pd\n",
    "import requests\n",
    "from bs4 import BeautifulSoup\n",
    "import json\n",
    "import re\n",
    "import time\n",
    "from time import gmtime, strftime \n",
    "import os\n",
    "import pytz\n",
    "from datetime import datetime"
   ]
  },
  {
   "cell_type": "markdown",
   "metadata": {},
   "source": [
    "Scrape the dashboard page"
   ]
  },
  {
   "cell_type": "code",
   "execution_count": 2,
   "metadata": {
    "execution": {
     "iopub.execute_input": "2021-03-09T03:30:50.516358Z",
     "iopub.status.busy": "2021-03-09T03:30:50.512923Z",
     "iopub.status.idle": "2021-03-09T03:30:51.112440Z",
     "shell.execute_reply": "2021-03-09T03:30:51.111926Z"
    }
   },
   "outputs": [],
   "source": [
    "url = \"https://public.tableau.com/interactive/views/COVID-19VaccineDashboardPublic/Vaccine?:embed=y&:showVizHome=n&:apiID=host0\"\n",
    "\n",
    "r = requests.get(url)\n",
    "soup = BeautifulSoup(r.text, \"html.parser\")"
   ]
  },
  {
   "cell_type": "code",
   "execution_count": 3,
   "metadata": {
    "execution": {
     "iopub.execute_input": "2021-03-09T03:30:51.117476Z",
     "iopub.status.busy": "2021-03-09T03:30:51.116951Z",
     "iopub.status.idle": "2021-03-09T03:30:51.120496Z",
     "shell.execute_reply": "2021-03-09T03:30:51.120027Z"
    }
   },
   "outputs": [],
   "source": [
    "tableauData = json.loads(soup.find(\"textarea\",{\"id\": \"tsConfigContainer\"}).text)"
   ]
  },
  {
   "cell_type": "markdown",
   "metadata": {},
   "source": [
    "Get the link to the Tableau data"
   ]
  },
  {
   "cell_type": "code",
   "execution_count": 4,
   "metadata": {
    "execution": {
     "iopub.execute_input": "2021-03-09T03:30:51.124766Z",
     "iopub.status.busy": "2021-03-09T03:30:51.124252Z",
     "iopub.status.idle": "2021-03-09T03:30:51.128951Z",
     "shell.execute_reply": "2021-03-09T03:30:51.128506Z"
    }
   },
   "outputs": [],
   "source": [
    "dataUrl = f'https://public.tableau.com{tableauData[\"vizql_root\"]}/bootstrapSession/sessions/{tableauData[\"sessionid\"]}'"
   ]
  },
  {
   "cell_type": "code",
   "execution_count": 5,
   "metadata": {
    "execution": {
     "iopub.execute_input": "2021-03-09T03:30:51.137368Z",
     "iopub.status.busy": "2021-03-09T03:30:51.136743Z",
     "iopub.status.idle": "2021-03-09T03:30:51.338580Z",
     "shell.execute_reply": "2021-03-09T03:30:51.338079Z"
    }
   },
   "outputs": [],
   "source": [
    "r = requests.post(dataUrl, data= {\n",
    "    \"sheet_id\": tableauData[\"sheetId\"],\n",
    "})\n",
    "\n",
    "dataReg = re.search('\\d+;({.*})\\d+;({.*})', r.text, re.MULTILINE)\n",
    "data1 = json.loads(dataReg.group(2))\n",
    "\n",
    "dataJson = data1[\"secondaryInfo\"][\"presModelMap\"][\"dataDictionary\"][\"presModelHolder\"][\"genDataDictionaryPresModel\"][\"dataSegments\"][\"0\"][\"dataColumns\"]"
   ]
  },
  {
   "cell_type": "markdown",
   "metadata": {},
   "source": [
    "Isolate what you want"
   ]
  },
  {
   "cell_type": "code",
   "execution_count": 6,
   "metadata": {
    "execution": {
     "iopub.execute_input": "2021-03-09T03:30:51.342658Z",
     "iopub.status.busy": "2021-03-09T03:30:51.342138Z",
     "iopub.status.idle": "2021-03-09T03:30:51.345687Z",
     "shell.execute_reply": "2021-03-09T03:30:51.345204Z"
    }
   },
   "outputs": [],
   "source": [
    "counties = dataJson[2]['dataValues'][:58]"
   ]
  },
  {
   "cell_type": "code",
   "execution_count": 7,
   "metadata": {
    "execution": {
     "iopub.execute_input": "2021-03-09T03:30:51.349585Z",
     "iopub.status.busy": "2021-03-09T03:30:51.348883Z",
     "iopub.status.idle": "2021-03-09T03:30:51.352588Z",
     "shell.execute_reply": "2021-03-09T03:30:51.352148Z"
    }
   },
   "outputs": [],
   "source": [
    "doses = dataJson[0]['dataValues'][3:61]"
   ]
  },
  {
   "cell_type": "markdown",
   "metadata": {},
   "source": [
    "Data formatting"
   ]
  },
  {
   "cell_type": "code",
   "execution_count": 8,
   "metadata": {
    "execution": {
     "iopub.execute_input": "2021-03-09T03:30:51.356938Z",
     "iopub.status.busy": "2021-03-09T03:30:51.355730Z",
     "iopub.status.idle": "2021-03-09T03:30:51.357589Z",
     "shell.execute_reply": "2021-03-09T03:30:51.358016Z"
    }
   },
   "outputs": [],
   "source": [
    "zipped = dict(zip(counties, doses))"
   ]
  },
  {
   "cell_type": "code",
   "execution_count": 9,
   "metadata": {
    "execution": {
     "iopub.execute_input": "2021-03-09T03:30:51.364776Z",
     "iopub.status.busy": "2021-03-09T03:30:51.363550Z",
     "iopub.status.idle": "2021-03-09T03:30:51.365372Z",
     "shell.execute_reply": "2021-03-09T03:30:51.365797Z"
    }
   },
   "outputs": [],
   "source": [
    "df = pd.Series(zipped).reset_index()"
   ]
  },
  {
   "cell_type": "code",
   "execution_count": 10,
   "metadata": {
    "execution": {
     "iopub.execute_input": "2021-03-09T03:30:51.370391Z",
     "iopub.status.busy": "2021-03-09T03:30:51.369075Z",
     "iopub.status.idle": "2021-03-09T03:30:51.371076Z",
     "shell.execute_reply": "2021-03-09T03:30:51.371563Z"
    }
   },
   "outputs": [],
   "source": [
    "df.columns = ['location','doses']"
   ]
  },
  {
   "cell_type": "markdown",
   "metadata": {},
   "source": [
    "Grab the overall California total"
   ]
  },
  {
   "cell_type": "code",
   "execution_count": 11,
   "metadata": {
    "execution": {
     "iopub.execute_input": "2021-03-09T03:30:51.376308Z",
     "iopub.status.busy": "2021-03-09T03:30:51.375049Z",
     "iopub.status.idle": "2021-03-09T03:30:51.376909Z",
     "shell.execute_reply": "2021-03-09T03:30:51.377330Z"
    }
   },
   "outputs": [],
   "source": [
    "add = {'location':'California','doses':dataJson[0]['dataValues'][2]}"
   ]
  },
  {
   "cell_type": "code",
   "execution_count": 12,
   "metadata": {
    "execution": {
     "iopub.execute_input": "2021-03-09T03:30:51.384297Z",
     "iopub.status.busy": "2021-03-09T03:30:51.383090Z",
     "iopub.status.idle": "2021-03-09T03:30:51.384892Z",
     "shell.execute_reply": "2021-03-09T03:30:51.385316Z"
    }
   },
   "outputs": [],
   "source": [
    "df = df.append(add, ignore_index=True)"
   ]
  },
  {
   "cell_type": "code",
   "execution_count": 13,
   "metadata": {
    "execution": {
     "iopub.execute_input": "2021-03-09T03:30:51.390509Z",
     "iopub.status.busy": "2021-03-09T03:30:51.389184Z",
     "iopub.status.idle": "2021-03-09T03:30:51.391281Z",
     "shell.execute_reply": "2021-03-09T03:30:51.391724Z"
    }
   },
   "outputs": [],
   "source": [
    "df = df.sort_values(by='location')"
   ]
  },
  {
   "cell_type": "code",
   "execution_count": 14,
   "metadata": {
    "execution": {
     "iopub.execute_input": "2021-03-09T03:30:51.398198Z",
     "iopub.status.busy": "2021-03-09T03:30:51.397044Z",
     "iopub.status.idle": "2021-03-09T03:30:51.398914Z",
     "shell.execute_reply": "2021-03-09T03:30:51.399364Z"
    }
   },
   "outputs": [],
   "source": [
    "df = df[df.location == 'California'].append(df[df.location != 'California']).reset_index(drop=True)"
   ]
  },
  {
   "cell_type": "code",
   "execution_count": null,
   "metadata": {},
   "outputs": [],
   "source": []
  },
  {
   "cell_type": "code",
   "execution_count": 15,
   "metadata": {
    "execution": {
     "iopub.execute_input": "2021-03-09T03:30:51.402725Z",
     "iopub.status.busy": "2021-03-09T03:30:51.402128Z",
     "iopub.status.idle": "2021-03-09T03:30:51.418987Z",
     "shell.execute_reply": "2021-03-09T03:30:51.419411Z"
    }
   },
   "outputs": [],
   "source": [
    "tz = pytz.timezone(\"America/New_York\")"
   ]
  },
  {
   "cell_type": "code",
   "execution_count": 16,
   "metadata": {
    "execution": {
     "iopub.execute_input": "2021-03-09T03:30:51.424050Z",
     "iopub.status.busy": "2021-03-09T03:30:51.422849Z",
     "iopub.status.idle": "2021-03-09T03:30:51.424653Z",
     "shell.execute_reply": "2021-03-09T03:30:51.425080Z"
    }
   },
   "outputs": [],
   "source": [
    "today = datetime.now(tz).date()"
   ]
  },
  {
   "cell_type": "code",
   "execution_count": 17,
   "metadata": {
    "execution": {
     "iopub.execute_input": "2021-03-09T03:30:51.430111Z",
     "iopub.status.busy": "2021-03-09T03:30:51.429349Z",
     "iopub.status.idle": "2021-03-09T03:30:51.431359Z",
     "shell.execute_reply": "2021-03-09T03:30:51.431755Z"
    }
   },
   "outputs": [],
   "source": [
    "data_dir = os.path.join(os.path.abspath(\"\"), \"data\")"
   ]
  },
  {
   "cell_type": "code",
   "execution_count": 18,
   "metadata": {
    "execution": {
     "iopub.execute_input": "2021-03-09T03:30:51.437442Z",
     "iopub.status.busy": "2021-03-09T03:30:51.435046Z",
     "iopub.status.idle": "2021-03-09T03:30:51.439231Z",
     "shell.execute_reply": "2021-03-09T03:30:51.439632Z"
    }
   },
   "outputs": [],
   "source": [
    "df.to_csv(os.path.join(data_dir, f\"{today}.csv\"), index=False)"
   ]
  },
  {
   "cell_type": "code",
   "execution_count": null,
   "metadata": {},
   "outputs": [],
   "source": []
  }
 ],
 "metadata": {
  "kernelspec": {
   "display_name": "Python 3",
   "language": "python",
   "name": "python3"
  },
  "language_info": {
   "codemirror_mode": {
    "name": "ipython",
    "version": 3
   },
   "file_extension": ".py",
   "mimetype": "text/x-python",
   "name": "python",
   "nbconvert_exporter": "python",
   "pygments_lexer": "ipython3",
   "version": "3.8.8"
  }
 },
 "nbformat": 4,
 "nbformat_minor": 4
}
