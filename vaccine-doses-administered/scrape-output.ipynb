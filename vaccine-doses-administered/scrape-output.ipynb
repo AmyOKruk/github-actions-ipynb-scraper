{
 "cells": [
  {
   "cell_type": "markdown",
   "metadata": {},
   "source": [
    "# California COVID vaccinations scrape"
   ]
  },
  {
   "cell_type": "markdown",
   "metadata": {},
   "source": [
    "By [Amy O'Kruk](https://twitter.com/amyokruk)"
   ]
  },
  {
   "cell_type": "markdown",
   "metadata": {},
   "source": [
    "Downloads data on vaccine doses administered by county and statewide from a Tableau-powered dashboard from the California Department of Public Health."
   ]
  },
  {
   "cell_type": "code",
   "execution_count": 1,
   "metadata": {
    "execution": {
     "iopub.execute_input": "2021-03-23T22:15:04.036552Z",
     "iopub.status.busy": "2021-03-23T22:15:04.035920Z",
     "iopub.status.idle": "2021-03-23T22:15:04.468124Z",
     "shell.execute_reply": "2021-03-23T22:15:04.467497Z"
    }
   },
   "outputs": [],
   "source": [
    "import pandas as pd\n",
    "import requests\n",
    "from bs4 import BeautifulSoup\n",
    "import json\n",
    "import re\n",
    "import time\n",
    "from time import gmtime, strftime \n",
    "import os\n",
    "import pytz\n",
    "from datetime import datetime"
   ]
  },
  {
   "cell_type": "markdown",
   "metadata": {},
   "source": [
    "Scrape the dashboard page"
   ]
  },
  {
   "cell_type": "code",
   "execution_count": 2,
   "metadata": {
    "execution": {
     "iopub.execute_input": "2021-03-23T22:15:04.474210Z",
     "iopub.status.busy": "2021-03-23T22:15:04.472043Z",
     "iopub.status.idle": "2021-03-23T22:15:04.896282Z",
     "shell.execute_reply": "2021-03-23T22:15:04.895287Z"
    }
   },
   "outputs": [],
   "source": [
    "url = \"https://public.tableau.com/interactive/views/COVID-19VaccineDashboardPublic/Vaccine?:embed=y&:showVizHome=n&:apiID=host0\"\n",
    "\n",
    "r = requests.get(url)\n",
    "soup = BeautifulSoup(r.text, \"html.parser\")"
   ]
  },
  {
   "cell_type": "code",
   "execution_count": 3,
   "metadata": {
    "execution": {
     "iopub.execute_input": "2021-03-23T22:15:04.901625Z",
     "iopub.status.busy": "2021-03-23T22:15:04.900805Z",
     "iopub.status.idle": "2021-03-23T22:15:04.905181Z",
     "shell.execute_reply": "2021-03-23T22:15:04.904671Z"
    }
   },
   "outputs": [],
   "source": [
    "tableauData = json.loads(soup.find(\"textarea\",{\"id\": \"tsConfigContainer\"}).text)"
   ]
  },
  {
   "cell_type": "markdown",
   "metadata": {},
   "source": [
    "Get the link to the Tableau data"
   ]
  },
  {
   "cell_type": "code",
   "execution_count": 4,
   "metadata": {
    "execution": {
     "iopub.execute_input": "2021-03-23T22:15:04.909169Z",
     "iopub.status.busy": "2021-03-23T22:15:04.908553Z",
     "iopub.status.idle": "2021-03-23T22:15:04.912734Z",
     "shell.execute_reply": "2021-03-23T22:15:04.912298Z"
    }
   },
   "outputs": [],
   "source": [
    "dataUrl = f'https://public.tableau.com{tableauData[\"vizql_root\"]}/bootstrapSession/sessions/{tableauData[\"sessionid\"]}'"
   ]
  },
  {
   "cell_type": "code",
   "execution_count": 5,
   "metadata": {
    "execution": {
     "iopub.execute_input": "2021-03-23T22:15:04.917743Z",
     "iopub.status.busy": "2021-03-23T22:15:04.917089Z",
     "iopub.status.idle": "2021-03-23T22:15:05.354315Z",
     "shell.execute_reply": "2021-03-23T22:15:05.353750Z"
    }
   },
   "outputs": [],
   "source": [
    "r = requests.post(dataUrl, data= {\n",
    "    \"sheet_id\": tableauData[\"sheetId\"],\n",
    "})\n",
    "\n",
    "dataReg = re.search('\\d+;({.*})\\d+;({.*})', r.text, re.MULTILINE)\n",
    "data1 = json.loads(dataReg.group(2))\n",
    "\n",
    "dataJson = data1[\"secondaryInfo\"][\"presModelMap\"][\"dataDictionary\"][\"presModelHolder\"][\"genDataDictionaryPresModel\"][\"dataSegments\"][\"0\"][\"dataColumns\"]"
   ]
  },
  {
   "cell_type": "markdown",
   "metadata": {},
   "source": [
    "Isolate what you want"
   ]
  },
  {
   "cell_type": "code",
   "execution_count": 6,
   "metadata": {
    "execution": {
     "iopub.execute_input": "2021-03-23T22:15:05.359725Z",
     "iopub.status.busy": "2021-03-23T22:15:05.357983Z",
     "iopub.status.idle": "2021-03-23T22:15:05.360337Z",
     "shell.execute_reply": "2021-03-23T22:15:05.360831Z"
    }
   },
   "outputs": [],
   "source": [
    "counties = dataJson[2]['dataValues'][:58]"
   ]
  },
  {
   "cell_type": "code",
   "execution_count": 7,
   "metadata": {
    "execution": {
     "iopub.execute_input": "2021-03-23T22:15:05.366011Z",
     "iopub.status.busy": "2021-03-23T22:15:05.364427Z",
     "iopub.status.idle": "2021-03-23T22:15:05.366659Z",
     "shell.execute_reply": "2021-03-23T22:15:05.367179Z"
    }
   },
   "outputs": [],
   "source": [
    "doses = dataJson[0]['dataValues'][3:61]"
   ]
  },
  {
   "cell_type": "markdown",
   "metadata": {},
   "source": [
    "Data formatting"
   ]
  },
  {
   "cell_type": "code",
   "execution_count": 8,
   "metadata": {
    "execution": {
     "iopub.execute_input": "2021-03-23T22:15:05.372250Z",
     "iopub.status.busy": "2021-03-23T22:15:05.370786Z",
     "iopub.status.idle": "2021-03-23T22:15:05.373034Z",
     "shell.execute_reply": "2021-03-23T22:15:05.373533Z"
    }
   },
   "outputs": [],
   "source": [
    "zipped = dict(zip(counties, doses))"
   ]
  },
  {
   "cell_type": "code",
   "execution_count": 9,
   "metadata": {
    "execution": {
     "iopub.execute_input": "2021-03-23T22:15:05.381078Z",
     "iopub.status.busy": "2021-03-23T22:15:05.379493Z",
     "iopub.status.idle": "2021-03-23T22:15:05.381734Z",
     "shell.execute_reply": "2021-03-23T22:15:05.382229Z"
    }
   },
   "outputs": [],
   "source": [
    "df = pd.Series(zipped).reset_index()"
   ]
  },
  {
   "cell_type": "code",
   "execution_count": 10,
   "metadata": {
    "execution": {
     "iopub.execute_input": "2021-03-23T22:15:05.387514Z",
     "iopub.status.busy": "2021-03-23T22:15:05.386053Z",
     "iopub.status.idle": "2021-03-23T22:15:05.388186Z",
     "shell.execute_reply": "2021-03-23T22:15:05.388695Z"
    }
   },
   "outputs": [],
   "source": [
    "df.columns = ['location','doses']"
   ]
  },
  {
   "cell_type": "markdown",
   "metadata": {},
   "source": [
    "Grab the overall California total"
   ]
  },
  {
   "cell_type": "code",
   "execution_count": 11,
   "metadata": {
    "execution": {
     "iopub.execute_input": "2021-03-23T22:15:05.393888Z",
     "iopub.status.busy": "2021-03-23T22:15:05.392337Z",
     "iopub.status.idle": "2021-03-23T22:15:05.394567Z",
     "shell.execute_reply": "2021-03-23T22:15:05.395162Z"
    }
   },
   "outputs": [],
   "source": [
    "add = {'location':'California','doses':dataJson[0]['dataValues'][2]}"
   ]
  },
  {
   "cell_type": "code",
   "execution_count": 12,
   "metadata": {
    "execution": {
     "iopub.execute_input": "2021-03-23T22:15:05.403432Z",
     "iopub.status.busy": "2021-03-23T22:15:05.402047Z",
     "iopub.status.idle": "2021-03-23T22:15:05.404224Z",
     "shell.execute_reply": "2021-03-23T22:15:05.404815Z"
    }
   },
   "outputs": [],
   "source": [
    "df = df.append(add, ignore_index=True)"
   ]
  },
  {
   "cell_type": "code",
   "execution_count": 13,
   "metadata": {
    "execution": {
     "iopub.execute_input": "2021-03-23T22:15:05.410783Z",
     "iopub.status.busy": "2021-03-23T22:15:05.409378Z",
     "iopub.status.idle": "2021-03-23T22:15:05.411456Z",
     "shell.execute_reply": "2021-03-23T22:15:05.411957Z"
    }
   },
   "outputs": [],
   "source": [
    "df = df.sort_values(by='location')"
   ]
  },
  {
   "cell_type": "code",
   "execution_count": 14,
   "metadata": {
    "execution": {
     "iopub.execute_input": "2021-03-23T22:15:05.419545Z",
     "iopub.status.busy": "2021-03-23T22:15:05.418081Z",
     "iopub.status.idle": "2021-03-23T22:15:05.420188Z",
     "shell.execute_reply": "2021-03-23T22:15:05.420742Z"
    }
   },
   "outputs": [],
   "source": [
    "df = df[df.location == 'California'].append(df[df.location != 'California']).reset_index(drop=True)"
   ]
  },
  {
   "cell_type": "code",
   "execution_count": null,
   "metadata": {},
   "outputs": [],
   "source": []
  },
  {
   "cell_type": "code",
   "execution_count": 15,
   "metadata": {
    "execution": {
     "iopub.execute_input": "2021-03-23T22:15:05.424946Z",
     "iopub.status.busy": "2021-03-23T22:15:05.424307Z",
     "iopub.status.idle": "2021-03-23T22:15:05.444097Z",
     "shell.execute_reply": "2021-03-23T22:15:05.444606Z"
    }
   },
   "outputs": [],
   "source": [
    "tz = pytz.timezone(\"America/New_York\")"
   ]
  },
  {
   "cell_type": "code",
   "execution_count": 16,
   "metadata": {
    "execution": {
     "iopub.execute_input": "2021-03-23T22:15:05.449669Z",
     "iopub.status.busy": "2021-03-23T22:15:05.448117Z",
     "iopub.status.idle": "2021-03-23T22:15:05.450359Z",
     "shell.execute_reply": "2021-03-23T22:15:05.450891Z"
    }
   },
   "outputs": [],
   "source": [
    "today = datetime.now(tz).date()"
   ]
  },
  {
   "cell_type": "code",
   "execution_count": 17,
   "metadata": {
    "execution": {
     "iopub.execute_input": "2021-03-23T22:15:05.456163Z",
     "iopub.status.busy": "2021-03-23T22:15:05.454588Z",
     "iopub.status.idle": "2021-03-23T22:15:05.456832Z",
     "shell.execute_reply": "2021-03-23T22:15:05.457368Z"
    }
   },
   "outputs": [],
   "source": [
    "data_dir = os.path.join(os.path.abspath(\"\"), \"data\")"
   ]
  },
  {
   "cell_type": "code",
   "execution_count": 18,
   "metadata": {
    "execution": {
     "iopub.execute_input": "2021-03-23T22:15:05.463124Z",
     "iopub.status.busy": "2021-03-23T22:15:05.461609Z",
     "iopub.status.idle": "2021-03-23T22:15:05.467356Z",
     "shell.execute_reply": "2021-03-23T22:15:05.466780Z"
    }
   },
   "outputs": [],
   "source": [
    "df.to_csv(os.path.join(data_dir, f\"{today}.csv\"), index=False)"
   ]
  },
  {
   "cell_type": "code",
   "execution_count": null,
   "metadata": {},
   "outputs": [],
   "source": []
  }
 ],
 "metadata": {
  "kernelspec": {
   "display_name": "Python 3",
   "language": "python",
   "name": "python3"
  },
  "language_info": {
   "codemirror_mode": {
    "name": "ipython",
    "version": 3
   },
   "file_extension": ".py",
   "mimetype": "text/x-python",
   "name": "python",
   "nbconvert_exporter": "python",
   "pygments_lexer": "ipython3",
   "version": "3.8.8"
  }
 },
 "nbformat": 4,
 "nbformat_minor": 4
}
