{
 "cells": [
  {
   "cell_type": "markdown",
   "metadata": {},
   "source": [
    "# California COVID vaccinations scrape"
   ]
  },
  {
   "cell_type": "markdown",
   "metadata": {},
   "source": [
    "By [Amy O'Kruk](https://twitter.com/amyokruk)"
   ]
  },
  {
   "cell_type": "markdown",
   "metadata": {},
   "source": [
    "Downloads data on vaccine doses administered by county and statewide from a Tableau-powered dashboard from the California Department of Public Health."
   ]
  },
  {
   "cell_type": "code",
   "execution_count": 1,
   "metadata": {
    "execution": {
     "iopub.execute_input": "2021-03-11T02:14:45.864206Z",
     "iopub.status.busy": "2021-03-11T02:14:45.859784Z",
     "iopub.status.idle": "2021-03-11T02:14:46.359631Z",
     "shell.execute_reply": "2021-03-11T02:14:46.358605Z"
    }
   },
   "outputs": [],
   "source": [
    "import pandas as pd\n",
    "import requests\n",
    "from bs4 import BeautifulSoup\n",
    "import json\n",
    "import re\n",
    "import time\n",
    "from time import gmtime, strftime \n",
    "import os\n",
    "import pytz\n",
    "from datetime import datetime"
   ]
  },
  {
   "cell_type": "markdown",
   "metadata": {},
   "source": [
    "Scrape the dashboard page"
   ]
  },
  {
   "cell_type": "code",
   "execution_count": 2,
   "metadata": {
    "execution": {
     "iopub.execute_input": "2021-03-11T02:14:46.369177Z",
     "iopub.status.busy": "2021-03-11T02:14:46.368441Z",
     "iopub.status.idle": "2021-03-11T02:14:46.634833Z",
     "shell.execute_reply": "2021-03-11T02:14:46.635632Z"
    }
   },
   "outputs": [],
   "source": [
    "url = \"https://public.tableau.com/interactive/views/COVID-19VaccineDashboardPublic/Vaccine?:embed=y&:showVizHome=n&:apiID=host0\"\n",
    "\n",
    "r = requests.get(url)\n",
    "soup = BeautifulSoup(r.text, \"html.parser\")"
   ]
  },
  {
   "cell_type": "code",
   "execution_count": 3,
   "metadata": {
    "execution": {
     "iopub.execute_input": "2021-03-11T02:14:46.641158Z",
     "iopub.status.busy": "2021-03-11T02:14:46.640557Z",
     "iopub.status.idle": "2021-03-11T02:14:46.644726Z",
     "shell.execute_reply": "2021-03-11T02:14:46.644181Z"
    }
   },
   "outputs": [],
   "source": [
    "tableauData = json.loads(soup.find(\"textarea\",{\"id\": \"tsConfigContainer\"}).text)"
   ]
  },
  {
   "cell_type": "markdown",
   "metadata": {},
   "source": [
    "Get the link to the Tableau data"
   ]
  },
  {
   "cell_type": "code",
   "execution_count": 4,
   "metadata": {
    "execution": {
     "iopub.execute_input": "2021-03-11T02:14:46.650058Z",
     "iopub.status.busy": "2021-03-11T02:14:46.648524Z",
     "iopub.status.idle": "2021-03-11T02:14:46.650813Z",
     "shell.execute_reply": "2021-03-11T02:14:46.651333Z"
    }
   },
   "outputs": [],
   "source": [
    "dataUrl = f'https://public.tableau.com{tableauData[\"vizql_root\"]}/bootstrapSession/sessions/{tableauData[\"sessionid\"]}'"
   ]
  },
  {
   "cell_type": "code",
   "execution_count": 5,
   "metadata": {
    "execution": {
     "iopub.execute_input": "2021-03-11T02:14:46.659585Z",
     "iopub.status.busy": "2021-03-11T02:14:46.658737Z",
     "iopub.status.idle": "2021-03-11T02:14:47.163453Z",
     "shell.execute_reply": "2021-03-11T02:14:47.163989Z"
    }
   },
   "outputs": [],
   "source": [
    "r = requests.post(dataUrl, data= {\n",
    "    \"sheet_id\": tableauData[\"sheetId\"],\n",
    "})\n",
    "\n",
    "dataReg = re.search('\\d+;({.*})\\d+;({.*})', r.text, re.MULTILINE)\n",
    "data1 = json.loads(dataReg.group(2))\n",
    "\n",
    "dataJson = data1[\"secondaryInfo\"][\"presModelMap\"][\"dataDictionary\"][\"presModelHolder\"][\"genDataDictionaryPresModel\"][\"dataSegments\"][\"0\"][\"dataColumns\"]"
   ]
  },
  {
   "cell_type": "markdown",
   "metadata": {},
   "source": [
    "Isolate what you want"
   ]
  },
  {
   "cell_type": "code",
   "execution_count": 6,
   "metadata": {
    "execution": {
     "iopub.execute_input": "2021-03-11T02:14:47.170391Z",
     "iopub.status.busy": "2021-03-11T02:14:47.169743Z",
     "iopub.status.idle": "2021-03-11T02:14:47.172267Z",
     "shell.execute_reply": "2021-03-11T02:14:47.172961Z"
    }
   },
   "outputs": [],
   "source": [
    "counties = dataJson[2]['dataValues'][:58]"
   ]
  },
  {
   "cell_type": "code",
   "execution_count": 7,
   "metadata": {
    "execution": {
     "iopub.execute_input": "2021-03-11T02:14:47.177348Z",
     "iopub.status.busy": "2021-03-11T02:14:47.176645Z",
     "iopub.status.idle": "2021-03-11T02:14:47.185610Z",
     "shell.execute_reply": "2021-03-11T02:14:47.186132Z"
    }
   },
   "outputs": [],
   "source": [
    "doses = dataJson[0]['dataValues'][3:61]"
   ]
  },
  {
   "cell_type": "markdown",
   "metadata": {},
   "source": [
    "Data formatting"
   ]
  },
  {
   "cell_type": "code",
   "execution_count": 8,
   "metadata": {
    "execution": {
     "iopub.execute_input": "2021-03-11T02:14:47.191767Z",
     "iopub.status.busy": "2021-03-11T02:14:47.190311Z",
     "iopub.status.idle": "2021-03-11T02:14:47.192593Z",
     "shell.execute_reply": "2021-03-11T02:14:47.193099Z"
    }
   },
   "outputs": [],
   "source": [
    "zipped = dict(zip(counties, doses))"
   ]
  },
  {
   "cell_type": "code",
   "execution_count": 9,
   "metadata": {
    "execution": {
     "iopub.execute_input": "2021-03-11T02:14:47.200508Z",
     "iopub.status.busy": "2021-03-11T02:14:47.199411Z",
     "iopub.status.idle": "2021-03-11T02:14:47.201594Z",
     "shell.execute_reply": "2021-03-11T02:14:47.202060Z"
    }
   },
   "outputs": [],
   "source": [
    "df = pd.Series(zipped).reset_index()"
   ]
  },
  {
   "cell_type": "code",
   "execution_count": 10,
   "metadata": {
    "execution": {
     "iopub.execute_input": "2021-03-11T02:14:47.207161Z",
     "iopub.status.busy": "2021-03-11T02:14:47.206492Z",
     "iopub.status.idle": "2021-03-11T02:14:47.209161Z",
     "shell.execute_reply": "2021-03-11T02:14:47.208535Z"
    }
   },
   "outputs": [],
   "source": [
    "df.columns = ['location','doses']"
   ]
  },
  {
   "cell_type": "markdown",
   "metadata": {},
   "source": [
    "Grab the overall California total"
   ]
  },
  {
   "cell_type": "code",
   "execution_count": 11,
   "metadata": {
    "execution": {
     "iopub.execute_input": "2021-03-11T02:14:47.213182Z",
     "iopub.status.busy": "2021-03-11T02:14:47.212591Z",
     "iopub.status.idle": "2021-03-11T02:14:47.216019Z",
     "shell.execute_reply": "2021-03-11T02:14:47.216527Z"
    }
   },
   "outputs": [],
   "source": [
    "add = {'location':'California','doses':dataJson[0]['dataValues'][2]}"
   ]
  },
  {
   "cell_type": "code",
   "execution_count": 12,
   "metadata": {
    "execution": {
     "iopub.execute_input": "2021-03-11T02:14:47.224610Z",
     "iopub.status.busy": "2021-03-11T02:14:47.223953Z",
     "iopub.status.idle": "2021-03-11T02:14:47.226129Z",
     "shell.execute_reply": "2021-03-11T02:14:47.226636Z"
    }
   },
   "outputs": [],
   "source": [
    "df = df.append(add, ignore_index=True)"
   ]
  },
  {
   "cell_type": "code",
   "execution_count": 13,
   "metadata": {
    "execution": {
     "iopub.execute_input": "2021-03-11T02:14:47.231728Z",
     "iopub.status.busy": "2021-03-11T02:14:47.231105Z",
     "iopub.status.idle": "2021-03-11T02:14:47.233185Z",
     "shell.execute_reply": "2021-03-11T02:14:47.233699Z"
    }
   },
   "outputs": [],
   "source": [
    "df = df.sort_values(by='location')"
   ]
  },
  {
   "cell_type": "code",
   "execution_count": 14,
   "metadata": {
    "execution": {
     "iopub.execute_input": "2021-03-11T02:14:47.240680Z",
     "iopub.status.busy": "2021-03-11T02:14:47.240080Z",
     "iopub.status.idle": "2021-03-11T02:14:47.242576Z",
     "shell.execute_reply": "2021-03-11T02:14:47.242043Z"
    }
   },
   "outputs": [],
   "source": [
    "df = df[df.location == 'California'].append(df[df.location != 'California']).reset_index(drop=True)"
   ]
  },
  {
   "cell_type": "code",
   "execution_count": null,
   "metadata": {},
   "outputs": [],
   "source": []
  },
  {
   "cell_type": "code",
   "execution_count": 15,
   "metadata": {
    "execution": {
     "iopub.execute_input": "2021-03-11T02:14:47.246315Z",
     "iopub.status.busy": "2021-03-11T02:14:47.245711Z",
     "iopub.status.idle": "2021-03-11T02:14:47.267148Z",
     "shell.execute_reply": "2021-03-11T02:14:47.266619Z"
    }
   },
   "outputs": [],
   "source": [
    "tz = pytz.timezone(\"America/New_York\")"
   ]
  },
  {
   "cell_type": "code",
   "execution_count": 16,
   "metadata": {
    "execution": {
     "iopub.execute_input": "2021-03-11T02:14:47.271987Z",
     "iopub.status.busy": "2021-03-11T02:14:47.270889Z",
     "iopub.status.idle": "2021-03-11T02:14:47.272985Z",
     "shell.execute_reply": "2021-03-11T02:14:47.273584Z"
    }
   },
   "outputs": [],
   "source": [
    "today = datetime.now(tz).date()"
   ]
  },
  {
   "cell_type": "code",
   "execution_count": 17,
   "metadata": {
    "execution": {
     "iopub.execute_input": "2021-03-11T02:14:47.278722Z",
     "iopub.status.busy": "2021-03-11T02:14:47.277612Z",
     "iopub.status.idle": "2021-03-11T02:14:47.280525Z",
     "shell.execute_reply": "2021-03-11T02:14:47.279987Z"
    }
   },
   "outputs": [],
   "source": [
    "data_dir = os.path.join(os.path.abspath(\"\"), \"data\")"
   ]
  },
  {
   "cell_type": "code",
   "execution_count": 18,
   "metadata": {
    "execution": {
     "iopub.execute_input": "2021-03-11T02:14:47.285632Z",
     "iopub.status.busy": "2021-03-11T02:14:47.284542Z",
     "iopub.status.idle": "2021-03-11T02:14:47.289331Z",
     "shell.execute_reply": "2021-03-11T02:14:47.289807Z"
    }
   },
   "outputs": [],
   "source": [
    "df.to_csv(os.path.join(data_dir, f\"{today}.csv\"), index=False)"
   ]
  },
  {
   "cell_type": "code",
   "execution_count": null,
   "metadata": {},
   "outputs": [],
   "source": []
  }
 ],
 "metadata": {
  "kernelspec": {
   "display_name": "Python 3",
   "language": "python",
   "name": "python3"
  },
  "language_info": {
   "codemirror_mode": {
    "name": "ipython",
    "version": 3
   },
   "file_extension": ".py",
   "mimetype": "text/x-python",
   "name": "python",
   "nbconvert_exporter": "python",
   "pygments_lexer": "ipython3",
   "version": "3.8.8"
  }
 },
 "nbformat": 4,
 "nbformat_minor": 4
}
