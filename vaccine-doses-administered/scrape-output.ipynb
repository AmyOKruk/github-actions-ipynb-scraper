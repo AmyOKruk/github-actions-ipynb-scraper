{
 "cells": [
  {
   "cell_type": "markdown",
   "metadata": {},
   "source": [
    "# California COVID vaccinations scrape"
   ]
  },
  {
   "cell_type": "markdown",
   "metadata": {},
   "source": [
    "By [Amy O'Kruk](https://twitter.com/amyokruk)"
   ]
  },
  {
   "cell_type": "markdown",
   "metadata": {},
   "source": [
    "Downloads data on vaccine doses administered by county and statewide from a Tableau-powered dashboard from the California Department of Public Health."
   ]
  },
  {
   "cell_type": "code",
   "execution_count": 1,
   "metadata": {
    "execution": {
     "iopub.execute_input": "2021-03-16T11:12:18.847928Z",
     "iopub.status.busy": "2021-03-16T11:12:18.847374Z",
     "iopub.status.idle": "2021-03-16T11:12:19.251250Z",
     "shell.execute_reply": "2021-03-16T11:12:19.250322Z"
    }
   },
   "outputs": [],
   "source": [
    "import pandas as pd\n",
    "import requests\n",
    "from bs4 import BeautifulSoup\n",
    "import json\n",
    "import re\n",
    "import time\n",
    "from time import gmtime, strftime \n",
    "import os\n",
    "import pytz\n",
    "from datetime import datetime"
   ]
  },
  {
   "cell_type": "markdown",
   "metadata": {},
   "source": [
    "Scrape the dashboard page"
   ]
  },
  {
   "cell_type": "code",
   "execution_count": 2,
   "metadata": {
    "execution": {
     "iopub.execute_input": "2021-03-16T11:12:19.256481Z",
     "iopub.status.busy": "2021-03-16T11:12:19.254773Z",
     "iopub.status.idle": "2021-03-16T11:12:19.734587Z",
     "shell.execute_reply": "2021-03-16T11:12:19.735090Z"
    }
   },
   "outputs": [],
   "source": [
    "url = \"https://public.tableau.com/interactive/views/COVID-19VaccineDashboardPublic/Vaccine?:embed=y&:showVizHome=n&:apiID=host0\"\n",
    "\n",
    "r = requests.get(url)\n",
    "soup = BeautifulSoup(r.text, \"html.parser\")"
   ]
  },
  {
   "cell_type": "code",
   "execution_count": 3,
   "metadata": {
    "execution": {
     "iopub.execute_input": "2021-03-16T11:12:19.739873Z",
     "iopub.status.busy": "2021-03-16T11:12:19.739355Z",
     "iopub.status.idle": "2021-03-16T11:12:19.745476Z",
     "shell.execute_reply": "2021-03-16T11:12:19.745878Z"
    }
   },
   "outputs": [],
   "source": [
    "tableauData = json.loads(soup.find(\"textarea\",{\"id\": \"tsConfigContainer\"}).text)"
   ]
  },
  {
   "cell_type": "markdown",
   "metadata": {},
   "source": [
    "Get the link to the Tableau data"
   ]
  },
  {
   "cell_type": "code",
   "execution_count": 4,
   "metadata": {
    "execution": {
     "iopub.execute_input": "2021-03-16T11:12:19.749248Z",
     "iopub.status.busy": "2021-03-16T11:12:19.748751Z",
     "iopub.status.idle": "2021-03-16T11:12:19.755862Z",
     "shell.execute_reply": "2021-03-16T11:12:19.755215Z"
    }
   },
   "outputs": [],
   "source": [
    "dataUrl = f'https://public.tableau.com{tableauData[\"vizql_root\"]}/bootstrapSession/sessions/{tableauData[\"sessionid\"]}'"
   ]
  },
  {
   "cell_type": "code",
   "execution_count": 5,
   "metadata": {
    "execution": {
     "iopub.execute_input": "2021-03-16T11:12:19.762212Z",
     "iopub.status.busy": "2021-03-16T11:12:19.761424Z",
     "iopub.status.idle": "2021-03-16T11:12:20.504208Z",
     "shell.execute_reply": "2021-03-16T11:12:20.503618Z"
    }
   },
   "outputs": [],
   "source": [
    "r = requests.post(dataUrl, data= {\n",
    "    \"sheet_id\": tableauData[\"sheetId\"],\n",
    "})\n",
    "\n",
    "dataReg = re.search('\\d+;({.*})\\d+;({.*})', r.text, re.MULTILINE)\n",
    "data1 = json.loads(dataReg.group(2))\n",
    "\n",
    "dataJson = data1[\"secondaryInfo\"][\"presModelMap\"][\"dataDictionary\"][\"presModelHolder\"][\"genDataDictionaryPresModel\"][\"dataSegments\"][\"0\"][\"dataColumns\"]"
   ]
  },
  {
   "cell_type": "markdown",
   "metadata": {},
   "source": [
    "Isolate what you want"
   ]
  },
  {
   "cell_type": "code",
   "execution_count": 6,
   "metadata": {
    "execution": {
     "iopub.execute_input": "2021-03-16T11:12:20.509300Z",
     "iopub.status.busy": "2021-03-16T11:12:20.507882Z",
     "iopub.status.idle": "2021-03-16T11:12:20.509986Z",
     "shell.execute_reply": "2021-03-16T11:12:20.510463Z"
    }
   },
   "outputs": [],
   "source": [
    "counties = dataJson[2]['dataValues'][:58]"
   ]
  },
  {
   "cell_type": "code",
   "execution_count": 7,
   "metadata": {
    "execution": {
     "iopub.execute_input": "2021-03-16T11:12:20.514826Z",
     "iopub.status.busy": "2021-03-16T11:12:20.513666Z",
     "iopub.status.idle": "2021-03-16T11:12:20.515492Z",
     "shell.execute_reply": "2021-03-16T11:12:20.515918Z"
    }
   },
   "outputs": [],
   "source": [
    "doses = dataJson[0]['dataValues'][3:61]"
   ]
  },
  {
   "cell_type": "markdown",
   "metadata": {},
   "source": [
    "Data formatting"
   ]
  },
  {
   "cell_type": "code",
   "execution_count": 8,
   "metadata": {
    "execution": {
     "iopub.execute_input": "2021-03-16T11:12:20.520056Z",
     "iopub.status.busy": "2021-03-16T11:12:20.518956Z",
     "iopub.status.idle": "2021-03-16T11:12:20.520646Z",
     "shell.execute_reply": "2021-03-16T11:12:20.521064Z"
    }
   },
   "outputs": [],
   "source": [
    "zipped = dict(zip(counties, doses))"
   ]
  },
  {
   "cell_type": "code",
   "execution_count": 9,
   "metadata": {
    "execution": {
     "iopub.execute_input": "2021-03-16T11:12:20.527728Z",
     "iopub.status.busy": "2021-03-16T11:12:20.526546Z",
     "iopub.status.idle": "2021-03-16T11:12:20.528389Z",
     "shell.execute_reply": "2021-03-16T11:12:20.528813Z"
    }
   },
   "outputs": [],
   "source": [
    "df = pd.Series(zipped).reset_index()"
   ]
  },
  {
   "cell_type": "code",
   "execution_count": 10,
   "metadata": {
    "execution": {
     "iopub.execute_input": "2021-03-16T11:12:20.533128Z",
     "iopub.status.busy": "2021-03-16T11:12:20.531984Z",
     "iopub.status.idle": "2021-03-16T11:12:20.533712Z",
     "shell.execute_reply": "2021-03-16T11:12:20.534129Z"
    }
   },
   "outputs": [],
   "source": [
    "df.columns = ['location','doses']"
   ]
  },
  {
   "cell_type": "markdown",
   "metadata": {},
   "source": [
    "Grab the overall California total"
   ]
  },
  {
   "cell_type": "code",
   "execution_count": 11,
   "metadata": {
    "execution": {
     "iopub.execute_input": "2021-03-16T11:12:20.538435Z",
     "iopub.status.busy": "2021-03-16T11:12:20.537262Z",
     "iopub.status.idle": "2021-03-16T11:12:20.539045Z",
     "shell.execute_reply": "2021-03-16T11:12:20.539463Z"
    }
   },
   "outputs": [],
   "source": [
    "add = {'location':'California','doses':dataJson[0]['dataValues'][2]}"
   ]
  },
  {
   "cell_type": "code",
   "execution_count": 12,
   "metadata": {
    "execution": {
     "iopub.execute_input": "2021-03-16T11:12:20.546450Z",
     "iopub.status.busy": "2021-03-16T11:12:20.545222Z",
     "iopub.status.idle": "2021-03-16T11:12:20.546997Z",
     "shell.execute_reply": "2021-03-16T11:12:20.547339Z"
    }
   },
   "outputs": [],
   "source": [
    "df = df.append(add, ignore_index=True)"
   ]
  },
  {
   "cell_type": "code",
   "execution_count": 13,
   "metadata": {
    "execution": {
     "iopub.execute_input": "2021-03-16T11:12:20.551885Z",
     "iopub.status.busy": "2021-03-16T11:12:20.550888Z",
     "iopub.status.idle": "2021-03-16T11:12:20.552604Z",
     "shell.execute_reply": "2021-03-16T11:12:20.552994Z"
    }
   },
   "outputs": [],
   "source": [
    "df = df.sort_values(by='location')"
   ]
  },
  {
   "cell_type": "code",
   "execution_count": 14,
   "metadata": {
    "execution": {
     "iopub.execute_input": "2021-03-16T11:12:20.559532Z",
     "iopub.status.busy": "2021-03-16T11:12:20.558280Z",
     "iopub.status.idle": "2021-03-16T11:12:20.560126Z",
     "shell.execute_reply": "2021-03-16T11:12:20.560559Z"
    }
   },
   "outputs": [],
   "source": [
    "df = df[df.location == 'California'].append(df[df.location != 'California']).reset_index(drop=True)"
   ]
  },
  {
   "cell_type": "code",
   "execution_count": null,
   "metadata": {},
   "outputs": [],
   "source": []
  },
  {
   "cell_type": "code",
   "execution_count": 15,
   "metadata": {
    "execution": {
     "iopub.execute_input": "2021-03-16T11:12:20.563771Z",
     "iopub.status.busy": "2021-03-16T11:12:20.563319Z",
     "iopub.status.idle": "2021-03-16T11:12:20.581023Z",
     "shell.execute_reply": "2021-03-16T11:12:20.580639Z"
    }
   },
   "outputs": [],
   "source": [
    "tz = pytz.timezone(\"America/New_York\")"
   ]
  },
  {
   "cell_type": "code",
   "execution_count": 16,
   "metadata": {
    "execution": {
     "iopub.execute_input": "2021-03-16T11:12:20.584852Z",
     "iopub.status.busy": "2021-03-16T11:12:20.583908Z",
     "iopub.status.idle": "2021-03-16T11:12:20.585569Z",
     "shell.execute_reply": "2021-03-16T11:12:20.585993Z"
    }
   },
   "outputs": [],
   "source": [
    "today = datetime.now(tz).date()"
   ]
  },
  {
   "cell_type": "code",
   "execution_count": 17,
   "metadata": {
    "execution": {
     "iopub.execute_input": "2021-03-16T11:12:20.591078Z",
     "iopub.status.busy": "2021-03-16T11:12:20.590183Z",
     "iopub.status.idle": "2021-03-16T11:12:20.592420Z",
     "shell.execute_reply": "2021-03-16T11:12:20.591984Z"
    }
   },
   "outputs": [],
   "source": [
    "data_dir = os.path.join(os.path.abspath(\"\"), \"data\")"
   ]
  },
  {
   "cell_type": "code",
   "execution_count": 18,
   "metadata": {
    "execution": {
     "iopub.execute_input": "2021-03-16T11:12:20.596833Z",
     "iopub.status.busy": "2021-03-16T11:12:20.595737Z",
     "iopub.status.idle": "2021-03-16T11:12:20.600369Z",
     "shell.execute_reply": "2021-03-16T11:12:20.599859Z"
    }
   },
   "outputs": [],
   "source": [
    "df.to_csv(os.path.join(data_dir, f\"{today}.csv\"), index=False)"
   ]
  },
  {
   "cell_type": "code",
   "execution_count": null,
   "metadata": {},
   "outputs": [],
   "source": []
  }
 ],
 "metadata": {
  "kernelspec": {
   "display_name": "Python 3",
   "language": "python",
   "name": "python3"
  },
  "language_info": {
   "codemirror_mode": {
    "name": "ipython",
    "version": 3
   },
   "file_extension": ".py",
   "mimetype": "text/x-python",
   "name": "python",
   "nbconvert_exporter": "python",
   "pygments_lexer": "ipython3",
   "version": "3.8.8"
  }
 },
 "nbformat": 4,
 "nbformat_minor": 4
}
