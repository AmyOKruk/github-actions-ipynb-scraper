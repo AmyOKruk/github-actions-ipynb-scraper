{
 "cells": [
  {
   "cell_type": "markdown",
   "metadata": {},
   "source": [
    "# California COVID vaccinations scrape"
   ]
  },
  {
   "cell_type": "markdown",
   "metadata": {},
   "source": [
    "By [Amy O'Kruk](https://twitter.com/amyokruk)"
   ]
  },
  {
   "cell_type": "markdown",
   "metadata": {},
   "source": [
    "Downloads data on vaccine doses administered by county and statewide from a Tableau-powered dashboard from the California Department of Public Health."
   ]
  },
  {
   "cell_type": "code",
   "execution_count": 1,
   "metadata": {
    "execution": {
     "iopub.execute_input": "2021-03-22T18:31:27.024430Z",
     "iopub.status.busy": "2021-03-22T18:31:27.023741Z",
     "iopub.status.idle": "2021-03-22T18:31:27.462815Z",
     "shell.execute_reply": "2021-03-22T18:31:27.462171Z"
    }
   },
   "outputs": [],
   "source": [
    "import pandas as pd\n",
    "import requests\n",
    "from bs4 import BeautifulSoup\n",
    "import json\n",
    "import re\n",
    "import time\n",
    "from time import gmtime, strftime \n",
    "import os\n",
    "import pytz\n",
    "from datetime import datetime"
   ]
  },
  {
   "cell_type": "markdown",
   "metadata": {},
   "source": [
    "Scrape the dashboard page"
   ]
  },
  {
   "cell_type": "code",
   "execution_count": 2,
   "metadata": {
    "execution": {
     "iopub.execute_input": "2021-03-22T18:31:27.469953Z",
     "iopub.status.busy": "2021-03-22T18:31:27.466236Z",
     "iopub.status.idle": "2021-03-22T18:31:27.715714Z",
     "shell.execute_reply": "2021-03-22T18:31:27.715142Z"
    }
   },
   "outputs": [],
   "source": [
    "url = \"https://public.tableau.com/interactive/views/COVID-19VaccineDashboardPublic/Vaccine?:embed=y&:showVizHome=n&:apiID=host0\"\n",
    "\n",
    "r = requests.get(url)\n",
    "soup = BeautifulSoup(r.text, \"html.parser\")"
   ]
  },
  {
   "cell_type": "code",
   "execution_count": 3,
   "metadata": {
    "execution": {
     "iopub.execute_input": "2021-03-22T18:31:27.720990Z",
     "iopub.status.busy": "2021-03-22T18:31:27.720399Z",
     "iopub.status.idle": "2021-03-22T18:31:27.723741Z",
     "shell.execute_reply": "2021-03-22T18:31:27.724214Z"
    }
   },
   "outputs": [],
   "source": [
    "tableauData = json.loads(soup.find(\"textarea\",{\"id\": \"tsConfigContainer\"}).text)"
   ]
  },
  {
   "cell_type": "markdown",
   "metadata": {},
   "source": [
    "Get the link to the Tableau data"
   ]
  },
  {
   "cell_type": "code",
   "execution_count": 4,
   "metadata": {
    "execution": {
     "iopub.execute_input": "2021-03-22T18:31:27.729755Z",
     "iopub.status.busy": "2021-03-22T18:31:27.729170Z",
     "iopub.status.idle": "2021-03-22T18:31:27.732487Z",
     "shell.execute_reply": "2021-03-22T18:31:27.732946Z"
    }
   },
   "outputs": [],
   "source": [
    "dataUrl = f'https://public.tableau.com{tableauData[\"vizql_root\"]}/bootstrapSession/sessions/{tableauData[\"sessionid\"]}'"
   ]
  },
  {
   "cell_type": "code",
   "execution_count": 5,
   "metadata": {
    "execution": {
     "iopub.execute_input": "2021-03-22T18:31:27.739836Z",
     "iopub.status.busy": "2021-03-22T18:31:27.739236Z",
     "iopub.status.idle": "2021-03-22T18:31:28.016732Z",
     "shell.execute_reply": "2021-03-22T18:31:28.015660Z"
    }
   },
   "outputs": [],
   "source": [
    "r = requests.post(dataUrl, data= {\n",
    "    \"sheet_id\": tableauData[\"sheetId\"],\n",
    "})\n",
    "\n",
    "dataReg = re.search('\\d+;({.*})\\d+;({.*})', r.text, re.MULTILINE)\n",
    "data1 = json.loads(dataReg.group(2))\n",
    "\n",
    "dataJson = data1[\"secondaryInfo\"][\"presModelMap\"][\"dataDictionary\"][\"presModelHolder\"][\"genDataDictionaryPresModel\"][\"dataSegments\"][\"0\"][\"dataColumns\"]"
   ]
  },
  {
   "cell_type": "markdown",
   "metadata": {},
   "source": [
    "Isolate what you want"
   ]
  },
  {
   "cell_type": "code",
   "execution_count": 6,
   "metadata": {
    "execution": {
     "iopub.execute_input": "2021-03-22T18:31:28.020918Z",
     "iopub.status.busy": "2021-03-22T18:31:28.020327Z",
     "iopub.status.idle": "2021-03-22T18:31:28.024150Z",
     "shell.execute_reply": "2021-03-22T18:31:28.023625Z"
    }
   },
   "outputs": [],
   "source": [
    "counties = dataJson[2]['dataValues'][:58]"
   ]
  },
  {
   "cell_type": "code",
   "execution_count": 7,
   "metadata": {
    "execution": {
     "iopub.execute_input": "2021-03-22T18:31:28.027954Z",
     "iopub.status.busy": "2021-03-22T18:31:28.027370Z",
     "iopub.status.idle": "2021-03-22T18:31:28.031429Z",
     "shell.execute_reply": "2021-03-22T18:31:28.030904Z"
    }
   },
   "outputs": [],
   "source": [
    "doses = dataJson[0]['dataValues'][3:61]"
   ]
  },
  {
   "cell_type": "markdown",
   "metadata": {},
   "source": [
    "Data formatting"
   ]
  },
  {
   "cell_type": "code",
   "execution_count": 8,
   "metadata": {
    "execution": {
     "iopub.execute_input": "2021-03-22T18:31:28.035320Z",
     "iopub.status.busy": "2021-03-22T18:31:28.034729Z",
     "iopub.status.idle": "2021-03-22T18:31:28.039006Z",
     "shell.execute_reply": "2021-03-22T18:31:28.038446Z"
    }
   },
   "outputs": [],
   "source": [
    "zipped = dict(zip(counties, doses))"
   ]
  },
  {
   "cell_type": "code",
   "execution_count": 9,
   "metadata": {
    "execution": {
     "iopub.execute_input": "2021-03-22T18:31:28.045230Z",
     "iopub.status.busy": "2021-03-22T18:31:28.044645Z",
     "iopub.status.idle": "2021-03-22T18:31:28.048597Z",
     "shell.execute_reply": "2021-03-22T18:31:28.048079Z"
    }
   },
   "outputs": [],
   "source": [
    "df = pd.Series(zipped).reset_index()"
   ]
  },
  {
   "cell_type": "code",
   "execution_count": 10,
   "metadata": {
    "execution": {
     "iopub.execute_input": "2021-03-22T18:31:28.055659Z",
     "iopub.status.busy": "2021-03-22T18:31:28.052142Z",
     "iopub.status.idle": "2021-03-22T18:31:28.061326Z",
     "shell.execute_reply": "2021-03-22T18:31:28.060824Z"
    }
   },
   "outputs": [],
   "source": [
    "df.columns = ['location','doses']"
   ]
  },
  {
   "cell_type": "markdown",
   "metadata": {},
   "source": [
    "Grab the overall California total"
   ]
  },
  {
   "cell_type": "code",
   "execution_count": 11,
   "metadata": {
    "execution": {
     "iopub.execute_input": "2021-03-22T18:31:28.065501Z",
     "iopub.status.busy": "2021-03-22T18:31:28.064907Z",
     "iopub.status.idle": "2021-03-22T18:31:28.069938Z",
     "shell.execute_reply": "2021-03-22T18:31:28.068213Z"
    }
   },
   "outputs": [],
   "source": [
    "add = {'location':'California','doses':dataJson[0]['dataValues'][2]}"
   ]
  },
  {
   "cell_type": "code",
   "execution_count": 12,
   "metadata": {
    "execution": {
     "iopub.execute_input": "2021-03-22T18:31:28.079559Z",
     "iopub.status.busy": "2021-03-22T18:31:28.078587Z",
     "iopub.status.idle": "2021-03-22T18:31:28.082866Z",
     "shell.execute_reply": "2021-03-22T18:31:28.082302Z"
    }
   },
   "outputs": [],
   "source": [
    "df = df.append(add, ignore_index=True)"
   ]
  },
  {
   "cell_type": "code",
   "execution_count": 13,
   "metadata": {
    "execution": {
     "iopub.execute_input": "2021-03-22T18:31:28.087944Z",
     "iopub.status.busy": "2021-03-22T18:31:28.087356Z",
     "iopub.status.idle": "2021-03-22T18:31:28.091434Z",
     "shell.execute_reply": "2021-03-22T18:31:28.090944Z"
    }
   },
   "outputs": [],
   "source": [
    "df = df.sort_values(by='location')"
   ]
  },
  {
   "cell_type": "code",
   "execution_count": 14,
   "metadata": {
    "execution": {
     "iopub.execute_input": "2021-03-22T18:31:28.097607Z",
     "iopub.status.busy": "2021-03-22T18:31:28.097022Z",
     "iopub.status.idle": "2021-03-22T18:31:28.100860Z",
     "shell.execute_reply": "2021-03-22T18:31:28.101359Z"
    }
   },
   "outputs": [],
   "source": [
    "df = df[df.location == 'California'].append(df[df.location != 'California']).reset_index(drop=True)"
   ]
  },
  {
   "cell_type": "code",
   "execution_count": null,
   "metadata": {},
   "outputs": [],
   "source": []
  },
  {
   "cell_type": "code",
   "execution_count": 15,
   "metadata": {
    "execution": {
     "iopub.execute_input": "2021-03-22T18:31:28.105489Z",
     "iopub.status.busy": "2021-03-22T18:31:28.104622Z",
     "iopub.status.idle": "2021-03-22T18:31:28.126913Z",
     "shell.execute_reply": "2021-03-22T18:31:28.126359Z"
    }
   },
   "outputs": [],
   "source": [
    "tz = pytz.timezone(\"America/New_York\")"
   ]
  },
  {
   "cell_type": "code",
   "execution_count": 16,
   "metadata": {
    "execution": {
     "iopub.execute_input": "2021-03-22T18:31:28.130577Z",
     "iopub.status.busy": "2021-03-22T18:31:28.129996Z",
     "iopub.status.idle": "2021-03-22T18:31:28.133433Z",
     "shell.execute_reply": "2021-03-22T18:31:28.133899Z"
    }
   },
   "outputs": [],
   "source": [
    "today = datetime.now(tz).date()"
   ]
  },
  {
   "cell_type": "code",
   "execution_count": 17,
   "metadata": {
    "execution": {
     "iopub.execute_input": "2021-03-22T18:31:28.138868Z",
     "iopub.status.busy": "2021-03-22T18:31:28.137449Z",
     "iopub.status.idle": "2021-03-22T18:31:28.139552Z",
     "shell.execute_reply": "2021-03-22T18:31:28.140049Z"
    }
   },
   "outputs": [],
   "source": [
    "data_dir = os.path.join(os.path.abspath(\"\"), \"data\")"
   ]
  },
  {
   "cell_type": "code",
   "execution_count": 18,
   "metadata": {
    "execution": {
     "iopub.execute_input": "2021-03-22T18:31:28.144667Z",
     "iopub.status.busy": "2021-03-22T18:31:28.143467Z",
     "iopub.status.idle": "2021-03-22T18:31:28.149181Z",
     "shell.execute_reply": "2021-03-22T18:31:28.148588Z"
    }
   },
   "outputs": [],
   "source": [
    "df.to_csv(os.path.join(data_dir, f\"{today}.csv\"), index=False)"
   ]
  },
  {
   "cell_type": "code",
   "execution_count": null,
   "metadata": {},
   "outputs": [],
   "source": []
  }
 ],
 "metadata": {
  "kernelspec": {
   "display_name": "Python 3",
   "language": "python",
   "name": "python3"
  },
  "language_info": {
   "codemirror_mode": {
    "name": "ipython",
    "version": 3
   },
   "file_extension": ".py",
   "mimetype": "text/x-python",
   "name": "python",
   "nbconvert_exporter": "python",
   "pygments_lexer": "ipython3",
   "version": "3.8.8"
  }
 },
 "nbformat": 4,
 "nbformat_minor": 4
}
