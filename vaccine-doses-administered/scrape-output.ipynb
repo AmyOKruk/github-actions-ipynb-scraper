{
 "cells": [
  {
   "cell_type": "markdown",
   "metadata": {},
   "source": [
    "# California COVID vaccinations scrape"
   ]
  },
  {
   "cell_type": "markdown",
   "metadata": {},
   "source": [
    "By [Amy O'Kruk](https://twitter.com/amyokruk)"
   ]
  },
  {
   "cell_type": "markdown",
   "metadata": {},
   "source": [
    "Downloads data on vaccine doses administered by county and statewide from a Tableau-powered dashboard from the California Department of Public Health."
   ]
  },
  {
   "cell_type": "code",
   "execution_count": 1,
   "metadata": {
    "execution": {
     "iopub.execute_input": "2021-03-22T06:52:45.038165Z",
     "iopub.status.busy": "2021-03-22T06:52:45.037421Z",
     "iopub.status.idle": "2021-03-22T06:52:45.433383Z",
     "shell.execute_reply": "2021-03-22T06:52:45.432466Z"
    }
   },
   "outputs": [],
   "source": [
    "import pandas as pd\n",
    "import requests\n",
    "from bs4 import BeautifulSoup\n",
    "import json\n",
    "import re\n",
    "import time\n",
    "from time import gmtime, strftime \n",
    "import os\n",
    "import pytz\n",
    "from datetime import datetime"
   ]
  },
  {
   "cell_type": "markdown",
   "metadata": {},
   "source": [
    "Scrape the dashboard page"
   ]
  },
  {
   "cell_type": "code",
   "execution_count": 2,
   "metadata": {
    "execution": {
     "iopub.execute_input": "2021-03-22T06:52:45.439664Z",
     "iopub.status.busy": "2021-03-22T06:52:45.437308Z",
     "iopub.status.idle": "2021-03-22T06:52:46.138286Z",
     "shell.execute_reply": "2021-03-22T06:52:46.137502Z"
    }
   },
   "outputs": [],
   "source": [
    "url = \"https://public.tableau.com/interactive/views/COVID-19VaccineDashboardPublic/Vaccine?:embed=y&:showVizHome=n&:apiID=host0\"\n",
    "\n",
    "r = requests.get(url)\n",
    "soup = BeautifulSoup(r.text, \"html.parser\")"
   ]
  },
  {
   "cell_type": "code",
   "execution_count": 3,
   "metadata": {
    "execution": {
     "iopub.execute_input": "2021-03-22T06:52:46.143188Z",
     "iopub.status.busy": "2021-03-22T06:52:46.142443Z",
     "iopub.status.idle": "2021-03-22T06:52:46.146400Z",
     "shell.execute_reply": "2021-03-22T06:52:46.145867Z"
    }
   },
   "outputs": [],
   "source": [
    "tableauData = json.loads(soup.find(\"textarea\",{\"id\": \"tsConfigContainer\"}).text)"
   ]
  },
  {
   "cell_type": "markdown",
   "metadata": {},
   "source": [
    "Get the link to the Tableau data"
   ]
  },
  {
   "cell_type": "code",
   "execution_count": 4,
   "metadata": {
    "execution": {
     "iopub.execute_input": "2021-03-22T06:52:46.150343Z",
     "iopub.status.busy": "2021-03-22T06:52:46.149630Z",
     "iopub.status.idle": "2021-03-22T06:52:46.152745Z",
     "shell.execute_reply": "2021-03-22T06:52:46.153353Z"
    }
   },
   "outputs": [],
   "source": [
    "dataUrl = f'https://public.tableau.com{tableauData[\"vizql_root\"]}/bootstrapSession/sessions/{tableauData[\"sessionid\"]}'"
   ]
  },
  {
   "cell_type": "code",
   "execution_count": 5,
   "metadata": {
    "execution": {
     "iopub.execute_input": "2021-03-22T06:52:46.159206Z",
     "iopub.status.busy": "2021-03-22T06:52:46.157108Z",
     "iopub.status.idle": "2021-03-22T06:52:46.811128Z",
     "shell.execute_reply": "2021-03-22T06:52:46.810364Z"
    }
   },
   "outputs": [],
   "source": [
    "r = requests.post(dataUrl, data= {\n",
    "    \"sheet_id\": tableauData[\"sheetId\"],\n",
    "})\n",
    "\n",
    "dataReg = re.search('\\d+;({.*})\\d+;({.*})', r.text, re.MULTILINE)\n",
    "data1 = json.loads(dataReg.group(2))\n",
    "\n",
    "dataJson = data1[\"secondaryInfo\"][\"presModelMap\"][\"dataDictionary\"][\"presModelHolder\"][\"genDataDictionaryPresModel\"][\"dataSegments\"][\"0\"][\"dataColumns\"]"
   ]
  },
  {
   "cell_type": "markdown",
   "metadata": {},
   "source": [
    "Isolate what you want"
   ]
  },
  {
   "cell_type": "code",
   "execution_count": 6,
   "metadata": {
    "execution": {
     "iopub.execute_input": "2021-03-22T06:52:46.815626Z",
     "iopub.status.busy": "2021-03-22T06:52:46.815122Z",
     "iopub.status.idle": "2021-03-22T06:52:46.818288Z",
     "shell.execute_reply": "2021-03-22T06:52:46.818707Z"
    }
   },
   "outputs": [],
   "source": [
    "counties = dataJson[2]['dataValues'][:58]"
   ]
  },
  {
   "cell_type": "code",
   "execution_count": 7,
   "metadata": {
    "execution": {
     "iopub.execute_input": "2021-03-22T06:52:46.821634Z",
     "iopub.status.busy": "2021-03-22T06:52:46.820593Z",
     "iopub.status.idle": "2021-03-22T06:52:46.823932Z",
     "shell.execute_reply": "2021-03-22T06:52:46.824343Z"
    }
   },
   "outputs": [],
   "source": [
    "doses = dataJson[0]['dataValues'][3:61]"
   ]
  },
  {
   "cell_type": "markdown",
   "metadata": {},
   "source": [
    "Data formatting"
   ]
  },
  {
   "cell_type": "code",
   "execution_count": 8,
   "metadata": {
    "execution": {
     "iopub.execute_input": "2021-03-22T06:52:46.829651Z",
     "iopub.status.busy": "2021-03-22T06:52:46.827933Z",
     "iopub.status.idle": "2021-03-22T06:52:46.830237Z",
     "shell.execute_reply": "2021-03-22T06:52:46.830672Z"
    }
   },
   "outputs": [],
   "source": [
    "zipped = dict(zip(counties, doses))"
   ]
  },
  {
   "cell_type": "code",
   "execution_count": 9,
   "metadata": {
    "execution": {
     "iopub.execute_input": "2021-03-22T06:52:46.837120Z",
     "iopub.status.busy": "2021-03-22T06:52:46.835965Z",
     "iopub.status.idle": "2021-03-22T06:52:46.837725Z",
     "shell.execute_reply": "2021-03-22T06:52:46.838272Z"
    }
   },
   "outputs": [],
   "source": [
    "df = pd.Series(zipped).reset_index()"
   ]
  },
  {
   "cell_type": "code",
   "execution_count": 10,
   "metadata": {
    "execution": {
     "iopub.execute_input": "2021-03-22T06:52:46.843768Z",
     "iopub.status.busy": "2021-03-22T06:52:46.842210Z",
     "iopub.status.idle": "2021-03-22T06:52:46.844614Z",
     "shell.execute_reply": "2021-03-22T06:52:46.845192Z"
    }
   },
   "outputs": [],
   "source": [
    "df.columns = ['location','doses']"
   ]
  },
  {
   "cell_type": "markdown",
   "metadata": {},
   "source": [
    "Grab the overall California total"
   ]
  },
  {
   "cell_type": "code",
   "execution_count": 11,
   "metadata": {
    "execution": {
     "iopub.execute_input": "2021-03-22T06:52:46.849842Z",
     "iopub.status.busy": "2021-03-22T06:52:46.848618Z",
     "iopub.status.idle": "2021-03-22T06:52:46.850459Z",
     "shell.execute_reply": "2021-03-22T06:52:46.850939Z"
    }
   },
   "outputs": [],
   "source": [
    "add = {'location':'California','doses':dataJson[0]['dataValues'][2]}"
   ]
  },
  {
   "cell_type": "code",
   "execution_count": 12,
   "metadata": {
    "execution": {
     "iopub.execute_input": "2021-03-22T06:52:46.860043Z",
     "iopub.status.busy": "2021-03-22T06:52:46.859426Z",
     "iopub.status.idle": "2021-03-22T06:52:46.861800Z",
     "shell.execute_reply": "2021-03-22T06:52:46.861402Z"
    }
   },
   "outputs": [],
   "source": [
    "df = df.append(add, ignore_index=True)"
   ]
  },
  {
   "cell_type": "code",
   "execution_count": 13,
   "metadata": {
    "execution": {
     "iopub.execute_input": "2021-03-22T06:52:46.866477Z",
     "iopub.status.busy": "2021-03-22T06:52:46.865640Z",
     "iopub.status.idle": "2021-03-22T06:52:46.868036Z",
     "shell.execute_reply": "2021-03-22T06:52:46.867414Z"
    }
   },
   "outputs": [],
   "source": [
    "df = df.sort_values(by='location')"
   ]
  },
  {
   "cell_type": "code",
   "execution_count": 14,
   "metadata": {
    "execution": {
     "iopub.execute_input": "2021-03-22T06:52:46.874734Z",
     "iopub.status.busy": "2021-03-22T06:52:46.873514Z",
     "iopub.status.idle": "2021-03-22T06:52:46.875371Z",
     "shell.execute_reply": "2021-03-22T06:52:46.875762Z"
    }
   },
   "outputs": [],
   "source": [
    "df = df[df.location == 'California'].append(df[df.location != 'California']).reset_index(drop=True)"
   ]
  },
  {
   "cell_type": "code",
   "execution_count": null,
   "metadata": {},
   "outputs": [],
   "source": []
  },
  {
   "cell_type": "code",
   "execution_count": 15,
   "metadata": {
    "execution": {
     "iopub.execute_input": "2021-03-22T06:52:46.879316Z",
     "iopub.status.busy": "2021-03-22T06:52:46.878748Z",
     "iopub.status.idle": "2021-03-22T06:52:46.899206Z",
     "shell.execute_reply": "2021-03-22T06:52:46.898718Z"
    }
   },
   "outputs": [],
   "source": [
    "tz = pytz.timezone(\"America/New_York\")"
   ]
  },
  {
   "cell_type": "code",
   "execution_count": 16,
   "metadata": {
    "execution": {
     "iopub.execute_input": "2021-03-22T06:52:46.902926Z",
     "iopub.status.busy": "2021-03-22T06:52:46.901974Z",
     "iopub.status.idle": "2021-03-22T06:52:46.904127Z",
     "shell.execute_reply": "2021-03-22T06:52:46.904508Z"
    }
   },
   "outputs": [],
   "source": [
    "today = datetime.now(tz).date()"
   ]
  },
  {
   "cell_type": "code",
   "execution_count": 17,
   "metadata": {
    "execution": {
     "iopub.execute_input": "2021-03-22T06:52:46.908541Z",
     "iopub.status.busy": "2021-03-22T06:52:46.907437Z",
     "iopub.status.idle": "2021-03-22T06:52:46.909670Z",
     "shell.execute_reply": "2021-03-22T06:52:46.910221Z"
    }
   },
   "outputs": [],
   "source": [
    "data_dir = os.path.join(os.path.abspath(\"\"), \"data\")"
   ]
  },
  {
   "cell_type": "code",
   "execution_count": 18,
   "metadata": {
    "execution": {
     "iopub.execute_input": "2021-03-22T06:52:46.914318Z",
     "iopub.status.busy": "2021-03-22T06:52:46.913337Z",
     "iopub.status.idle": "2021-03-22T06:52:46.961942Z",
     "shell.execute_reply": "2021-03-22T06:52:46.962425Z"
    }
   },
   "outputs": [],
   "source": [
    "df.to_csv(os.path.join(data_dir, f\"{today}.csv\"), index=False)"
   ]
  },
  {
   "cell_type": "code",
   "execution_count": null,
   "metadata": {},
   "outputs": [],
   "source": []
  }
 ],
 "metadata": {
  "kernelspec": {
   "display_name": "Python 3",
   "language": "python",
   "name": "python3"
  },
  "language_info": {
   "codemirror_mode": {
    "name": "ipython",
    "version": 3
   },
   "file_extension": ".py",
   "mimetype": "text/x-python",
   "name": "python",
   "nbconvert_exporter": "python",
   "pygments_lexer": "ipython3",
   "version": "3.8.8"
  }
 },
 "nbformat": 4,
 "nbformat_minor": 4
}
