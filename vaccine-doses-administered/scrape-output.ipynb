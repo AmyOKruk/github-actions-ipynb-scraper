{
 "cells": [
  {
   "cell_type": "markdown",
   "metadata": {},
   "source": [
    "# California COVID vaccinations scrape"
   ]
  },
  {
   "cell_type": "markdown",
   "metadata": {},
   "source": [
    "By [Amy O'Kruk](https://twitter.com/amyokruk)"
   ]
  },
  {
   "cell_type": "markdown",
   "metadata": {},
   "source": [
    "Downloads data on vaccine doses administered by county and statewide from a Tableau-powered dashboard from the California Department of Public Health."
   ]
  },
  {
   "cell_type": "code",
   "execution_count": 1,
   "metadata": {
    "execution": {
     "iopub.execute_input": "2021-03-13T07:40:17.354049Z",
     "iopub.status.busy": "2021-03-13T07:40:17.353407Z",
     "iopub.status.idle": "2021-03-13T07:40:17.801989Z",
     "shell.execute_reply": "2021-03-13T07:40:17.801320Z"
    }
   },
   "outputs": [],
   "source": [
    "import pandas as pd\n",
    "import requests\n",
    "from bs4 import BeautifulSoup\n",
    "import json\n",
    "import re\n",
    "import time\n",
    "from time import gmtime, strftime \n",
    "import os\n",
    "import pytz\n",
    "from datetime import datetime"
   ]
  },
  {
   "cell_type": "markdown",
   "metadata": {},
   "source": [
    "Scrape the dashboard page"
   ]
  },
  {
   "cell_type": "code",
   "execution_count": 2,
   "metadata": {
    "execution": {
     "iopub.execute_input": "2021-03-13T07:40:17.808663Z",
     "iopub.status.busy": "2021-03-13T07:40:17.808109Z",
     "iopub.status.idle": "2021-03-13T07:40:18.584466Z",
     "shell.execute_reply": "2021-03-13T07:40:18.583964Z"
    }
   },
   "outputs": [],
   "source": [
    "url = \"https://public.tableau.com/interactive/views/COVID-19VaccineDashboardPublic/Vaccine?:embed=y&:showVizHome=n&:apiID=host0\"\n",
    "\n",
    "r = requests.get(url)\n",
    "soup = BeautifulSoup(r.text, \"html.parser\")"
   ]
  },
  {
   "cell_type": "code",
   "execution_count": 3,
   "metadata": {
    "execution": {
     "iopub.execute_input": "2021-03-13T07:40:18.589467Z",
     "iopub.status.busy": "2021-03-13T07:40:18.588851Z",
     "iopub.status.idle": "2021-03-13T07:40:18.593220Z",
     "shell.execute_reply": "2021-03-13T07:40:18.592266Z"
    }
   },
   "outputs": [],
   "source": [
    "tableauData = json.loads(soup.find(\"textarea\",{\"id\": \"tsConfigContainer\"}).text)"
   ]
  },
  {
   "cell_type": "markdown",
   "metadata": {},
   "source": [
    "Get the link to the Tableau data"
   ]
  },
  {
   "cell_type": "code",
   "execution_count": 4,
   "metadata": {
    "execution": {
     "iopub.execute_input": "2021-03-13T07:40:18.596669Z",
     "iopub.status.busy": "2021-03-13T07:40:18.596092Z",
     "iopub.status.idle": "2021-03-13T07:40:18.600665Z",
     "shell.execute_reply": "2021-03-13T07:40:18.599819Z"
    }
   },
   "outputs": [],
   "source": [
    "dataUrl = f'https://public.tableau.com{tableauData[\"vizql_root\"]}/bootstrapSession/sessions/{tableauData[\"sessionid\"]}'"
   ]
  },
  {
   "cell_type": "code",
   "execution_count": 5,
   "metadata": {
    "execution": {
     "iopub.execute_input": "2021-03-13T07:40:18.607305Z",
     "iopub.status.busy": "2021-03-13T07:40:18.606681Z",
     "iopub.status.idle": "2021-03-13T07:40:19.036109Z",
     "shell.execute_reply": "2021-03-13T07:40:19.036636Z"
    }
   },
   "outputs": [],
   "source": [
    "r = requests.post(dataUrl, data= {\n",
    "    \"sheet_id\": tableauData[\"sheetId\"],\n",
    "})\n",
    "\n",
    "dataReg = re.search('\\d+;({.*})\\d+;({.*})', r.text, re.MULTILINE)\n",
    "data1 = json.loads(dataReg.group(2))\n",
    "\n",
    "dataJson = data1[\"secondaryInfo\"][\"presModelMap\"][\"dataDictionary\"][\"presModelHolder\"][\"genDataDictionaryPresModel\"][\"dataSegments\"][\"0\"][\"dataColumns\"]"
   ]
  },
  {
   "cell_type": "markdown",
   "metadata": {},
   "source": [
    "Isolate what you want"
   ]
  },
  {
   "cell_type": "code",
   "execution_count": 6,
   "metadata": {
    "execution": {
     "iopub.execute_input": "2021-03-13T07:40:19.040600Z",
     "iopub.status.busy": "2021-03-13T07:40:19.039958Z",
     "iopub.status.idle": "2021-03-13T07:40:19.042332Z",
     "shell.execute_reply": "2021-03-13T07:40:19.042749Z"
    }
   },
   "outputs": [],
   "source": [
    "counties = dataJson[2]['dataValues'][:58]"
   ]
  },
  {
   "cell_type": "code",
   "execution_count": 7,
   "metadata": {
    "execution": {
     "iopub.execute_input": "2021-03-13T07:40:19.046317Z",
     "iopub.status.busy": "2021-03-13T07:40:19.045609Z",
     "iopub.status.idle": "2021-03-13T07:40:19.049107Z",
     "shell.execute_reply": "2021-03-13T07:40:19.049665Z"
    }
   },
   "outputs": [],
   "source": [
    "doses = dataJson[0]['dataValues'][3:61]"
   ]
  },
  {
   "cell_type": "markdown",
   "metadata": {},
   "source": [
    "Data formatting"
   ]
  },
  {
   "cell_type": "code",
   "execution_count": 8,
   "metadata": {
    "execution": {
     "iopub.execute_input": "2021-03-13T07:40:19.053722Z",
     "iopub.status.busy": "2021-03-13T07:40:19.052271Z",
     "iopub.status.idle": "2021-03-13T07:40:19.056170Z",
     "shell.execute_reply": "2021-03-13T07:40:19.055666Z"
    }
   },
   "outputs": [],
   "source": [
    "zipped = dict(zip(counties, doses))"
   ]
  },
  {
   "cell_type": "code",
   "execution_count": 9,
   "metadata": {
    "execution": {
     "iopub.execute_input": "2021-03-13T07:40:19.063386Z",
     "iopub.status.busy": "2021-03-13T07:40:19.061875Z",
     "iopub.status.idle": "2021-03-13T07:40:19.063984Z",
     "shell.execute_reply": "2021-03-13T07:40:19.064411Z"
    }
   },
   "outputs": [],
   "source": [
    "df = pd.Series(zipped).reset_index()"
   ]
  },
  {
   "cell_type": "code",
   "execution_count": 10,
   "metadata": {
    "execution": {
     "iopub.execute_input": "2021-03-13T07:40:19.070210Z",
     "iopub.status.busy": "2021-03-13T07:40:19.068705Z",
     "iopub.status.idle": "2021-03-13T07:40:19.070846Z",
     "shell.execute_reply": "2021-03-13T07:40:19.071289Z"
    }
   },
   "outputs": [],
   "source": [
    "df.columns = ['location','doses']"
   ]
  },
  {
   "cell_type": "markdown",
   "metadata": {},
   "source": [
    "Grab the overall California total"
   ]
  },
  {
   "cell_type": "code",
   "execution_count": 11,
   "metadata": {
    "execution": {
     "iopub.execute_input": "2021-03-13T07:40:19.076040Z",
     "iopub.status.busy": "2021-03-13T07:40:19.074625Z",
     "iopub.status.idle": "2021-03-13T07:40:19.076659Z",
     "shell.execute_reply": "2021-03-13T07:40:19.077093Z"
    }
   },
   "outputs": [],
   "source": [
    "add = {'location':'California','doses':dataJson[0]['dataValues'][2]}"
   ]
  },
  {
   "cell_type": "code",
   "execution_count": 12,
   "metadata": {
    "execution": {
     "iopub.execute_input": "2021-03-13T07:40:19.082806Z",
     "iopub.status.busy": "2021-03-13T07:40:19.082027Z",
     "iopub.status.idle": "2021-03-13T07:40:19.086406Z",
     "shell.execute_reply": "2021-03-13T07:40:19.086820Z"
    }
   },
   "outputs": [],
   "source": [
    "df = df.append(add, ignore_index=True)"
   ]
  },
  {
   "cell_type": "code",
   "execution_count": 13,
   "metadata": {
    "execution": {
     "iopub.execute_input": "2021-03-13T07:40:19.092481Z",
     "iopub.status.busy": "2021-03-13T07:40:19.091192Z",
     "iopub.status.idle": "2021-03-13T07:40:19.093072Z",
     "shell.execute_reply": "2021-03-13T07:40:19.093498Z"
    }
   },
   "outputs": [],
   "source": [
    "df = df.sort_values(by='location')"
   ]
  },
  {
   "cell_type": "code",
   "execution_count": 14,
   "metadata": {
    "execution": {
     "iopub.execute_input": "2021-03-13T07:40:19.102699Z",
     "iopub.status.busy": "2021-03-13T07:40:19.102074Z",
     "iopub.status.idle": "2021-03-13T07:40:19.103829Z",
     "shell.execute_reply": "2021-03-13T07:40:19.103345Z"
    }
   },
   "outputs": [],
   "source": [
    "df = df[df.location == 'California'].append(df[df.location != 'California']).reset_index(drop=True)"
   ]
  },
  {
   "cell_type": "code",
   "execution_count": null,
   "metadata": {},
   "outputs": [],
   "source": []
  },
  {
   "cell_type": "code",
   "execution_count": 15,
   "metadata": {
    "execution": {
     "iopub.execute_input": "2021-03-13T07:40:19.107466Z",
     "iopub.status.busy": "2021-03-13T07:40:19.106943Z",
     "iopub.status.idle": "2021-03-13T07:40:19.124536Z",
     "shell.execute_reply": "2021-03-13T07:40:19.123997Z"
    }
   },
   "outputs": [],
   "source": [
    "tz = pytz.timezone(\"America/New_York\")"
   ]
  },
  {
   "cell_type": "code",
   "execution_count": 16,
   "metadata": {
    "execution": {
     "iopub.execute_input": "2021-03-13T07:40:19.129569Z",
     "iopub.status.busy": "2021-03-13T07:40:19.128142Z",
     "iopub.status.idle": "2021-03-13T07:40:19.130310Z",
     "shell.execute_reply": "2021-03-13T07:40:19.130735Z"
    }
   },
   "outputs": [],
   "source": [
    "today = datetime.now(tz).date()"
   ]
  },
  {
   "cell_type": "code",
   "execution_count": 17,
   "metadata": {
    "execution": {
     "iopub.execute_input": "2021-03-13T07:40:19.135079Z",
     "iopub.status.busy": "2021-03-13T07:40:19.133855Z",
     "iopub.status.idle": "2021-03-13T07:40:19.135744Z",
     "shell.execute_reply": "2021-03-13T07:40:19.136333Z"
    }
   },
   "outputs": [],
   "source": [
    "data_dir = os.path.join(os.path.abspath(\"\"), \"data\")"
   ]
  },
  {
   "cell_type": "code",
   "execution_count": 18,
   "metadata": {
    "execution": {
     "iopub.execute_input": "2021-03-13T07:40:19.140262Z",
     "iopub.status.busy": "2021-03-13T07:40:19.139708Z",
     "iopub.status.idle": "2021-03-13T07:40:19.144389Z",
     "shell.execute_reply": "2021-03-13T07:40:19.143899Z"
    }
   },
   "outputs": [],
   "source": [
    "df.to_csv(os.path.join(data_dir, f\"{today}.csv\"), index=False)"
   ]
  },
  {
   "cell_type": "code",
   "execution_count": null,
   "metadata": {},
   "outputs": [],
   "source": []
  }
 ],
 "metadata": {
  "kernelspec": {
   "display_name": "Python 3",
   "language": "python",
   "name": "python3"
  },
  "language_info": {
   "codemirror_mode": {
    "name": "ipython",
    "version": 3
   },
   "file_extension": ".py",
   "mimetype": "text/x-python",
   "name": "python",
   "nbconvert_exporter": "python",
   "pygments_lexer": "ipython3",
   "version": "3.8.8"
  }
 },
 "nbformat": 4,
 "nbformat_minor": 4
}
