{
 "cells": [
  {
   "cell_type": "markdown",
   "metadata": {},
   "source": [
    "# California COVID vaccinations scrape"
   ]
  },
  {
   "cell_type": "markdown",
   "metadata": {},
   "source": [
    "By [Amy O'Kruk](https://twitter.com/amyokruk)"
   ]
  },
  {
   "cell_type": "markdown",
   "metadata": {},
   "source": [
    "Downloads data on vaccine doses administered by county and statewide from a Tableau-powered dashboard from the California Department of Public Health."
   ]
  },
  {
   "cell_type": "code",
   "execution_count": 1,
   "metadata": {
    "execution": {
     "iopub.execute_input": "2021-03-20T05:43:29.351616Z",
     "iopub.status.busy": "2021-03-20T05:43:29.350975Z",
     "iopub.status.idle": "2021-03-20T05:43:29.763543Z",
     "shell.execute_reply": "2021-03-20T05:43:29.762564Z"
    }
   },
   "outputs": [],
   "source": [
    "import pandas as pd\n",
    "import requests\n",
    "from bs4 import BeautifulSoup\n",
    "import json\n",
    "import re\n",
    "import time\n",
    "from time import gmtime, strftime \n",
    "import os\n",
    "import pytz\n",
    "from datetime import datetime"
   ]
  },
  {
   "cell_type": "markdown",
   "metadata": {},
   "source": [
    "Scrape the dashboard page"
   ]
  },
  {
   "cell_type": "code",
   "execution_count": 2,
   "metadata": {
    "execution": {
     "iopub.execute_input": "2021-03-20T05:43:29.769861Z",
     "iopub.status.busy": "2021-03-20T05:43:29.769353Z",
     "iopub.status.idle": "2021-03-20T05:43:30.214872Z",
     "shell.execute_reply": "2021-03-20T05:43:30.215432Z"
    }
   },
   "outputs": [],
   "source": [
    "url = \"https://public.tableau.com/interactive/views/COVID-19VaccineDashboardPublic/Vaccine?:embed=y&:showVizHome=n&:apiID=host0\"\n",
    "\n",
    "r = requests.get(url)\n",
    "soup = BeautifulSoup(r.text, \"html.parser\")"
   ]
  },
  {
   "cell_type": "code",
   "execution_count": 3,
   "metadata": {
    "execution": {
     "iopub.execute_input": "2021-03-20T05:43:30.220517Z",
     "iopub.status.busy": "2021-03-20T05:43:30.219997Z",
     "iopub.status.idle": "2021-03-20T05:43:30.223453Z",
     "shell.execute_reply": "2021-03-20T05:43:30.223008Z"
    }
   },
   "outputs": [],
   "source": [
    "tableauData = json.loads(soup.find(\"textarea\",{\"id\": \"tsConfigContainer\"}).text)"
   ]
  },
  {
   "cell_type": "markdown",
   "metadata": {},
   "source": [
    "Get the link to the Tableau data"
   ]
  },
  {
   "cell_type": "code",
   "execution_count": 4,
   "metadata": {
    "execution": {
     "iopub.execute_input": "2021-03-20T05:43:30.228142Z",
     "iopub.status.busy": "2021-03-20T05:43:30.226970Z",
     "iopub.status.idle": "2021-03-20T05:43:30.228729Z",
     "shell.execute_reply": "2021-03-20T05:43:30.229156Z"
    }
   },
   "outputs": [],
   "source": [
    "dataUrl = f'https://public.tableau.com{tableauData[\"vizql_root\"]}/bootstrapSession/sessions/{tableauData[\"sessionid\"]}'"
   ]
  },
  {
   "cell_type": "code",
   "execution_count": 5,
   "metadata": {
    "execution": {
     "iopub.execute_input": "2021-03-20T05:43:30.235824Z",
     "iopub.status.busy": "2021-03-20T05:43:30.235255Z",
     "iopub.status.idle": "2021-03-20T05:43:30.406793Z",
     "shell.execute_reply": "2021-03-20T05:43:30.405953Z"
    }
   },
   "outputs": [],
   "source": [
    "r = requests.post(dataUrl, data= {\n",
    "    \"sheet_id\": tableauData[\"sheetId\"],\n",
    "})\n",
    "\n",
    "dataReg = re.search('\\d+;({.*})\\d+;({.*})', r.text, re.MULTILINE)\n",
    "data1 = json.loads(dataReg.group(2))\n",
    "\n",
    "dataJson = data1[\"secondaryInfo\"][\"presModelMap\"][\"dataDictionary\"][\"presModelHolder\"][\"genDataDictionaryPresModel\"][\"dataSegments\"][\"0\"][\"dataColumns\"]"
   ]
  },
  {
   "cell_type": "markdown",
   "metadata": {},
   "source": [
    "Isolate what you want"
   ]
  },
  {
   "cell_type": "code",
   "execution_count": 6,
   "metadata": {
    "execution": {
     "iopub.execute_input": "2021-03-20T05:43:30.411607Z",
     "iopub.status.busy": "2021-03-20T05:43:30.410560Z",
     "iopub.status.idle": "2021-03-20T05:43:30.412823Z",
     "shell.execute_reply": "2021-03-20T05:43:30.412370Z"
    }
   },
   "outputs": [],
   "source": [
    "counties = dataJson[2]['dataValues'][:58]"
   ]
  },
  {
   "cell_type": "code",
   "execution_count": 7,
   "metadata": {
    "execution": {
     "iopub.execute_input": "2021-03-20T05:43:30.417139Z",
     "iopub.status.busy": "2021-03-20T05:43:30.416043Z",
     "iopub.status.idle": "2021-03-20T05:43:30.417733Z",
     "shell.execute_reply": "2021-03-20T05:43:30.418160Z"
    }
   },
   "outputs": [],
   "source": [
    "doses = dataJson[0]['dataValues'][3:61]"
   ]
  },
  {
   "cell_type": "markdown",
   "metadata": {},
   "source": [
    "Data formatting"
   ]
  },
  {
   "cell_type": "code",
   "execution_count": 8,
   "metadata": {
    "execution": {
     "iopub.execute_input": "2021-03-20T05:43:30.422382Z",
     "iopub.status.busy": "2021-03-20T05:43:30.421210Z",
     "iopub.status.idle": "2021-03-20T05:43:30.423065Z",
     "shell.execute_reply": "2021-03-20T05:43:30.423515Z"
    }
   },
   "outputs": [],
   "source": [
    "zipped = dict(zip(counties, doses))"
   ]
  },
  {
   "cell_type": "code",
   "execution_count": 9,
   "metadata": {
    "execution": {
     "iopub.execute_input": "2021-03-20T05:43:30.429927Z",
     "iopub.status.busy": "2021-03-20T05:43:30.428993Z",
     "iopub.status.idle": "2021-03-20T05:43:30.430801Z",
     "shell.execute_reply": "2021-03-20T05:43:30.431231Z"
    }
   },
   "outputs": [],
   "source": [
    "df = pd.Series(zipped).reset_index()"
   ]
  },
  {
   "cell_type": "code",
   "execution_count": 10,
   "metadata": {
    "execution": {
     "iopub.execute_input": "2021-03-20T05:43:30.435492Z",
     "iopub.status.busy": "2021-03-20T05:43:30.434450Z",
     "iopub.status.idle": "2021-03-20T05:43:30.436791Z",
     "shell.execute_reply": "2021-03-20T05:43:30.436342Z"
    }
   },
   "outputs": [],
   "source": [
    "df.columns = ['location','doses']"
   ]
  },
  {
   "cell_type": "markdown",
   "metadata": {},
   "source": [
    "Grab the overall California total"
   ]
  },
  {
   "cell_type": "code",
   "execution_count": 11,
   "metadata": {
    "execution": {
     "iopub.execute_input": "2021-03-20T05:43:30.440792Z",
     "iopub.status.busy": "2021-03-20T05:43:30.439839Z",
     "iopub.status.idle": "2021-03-20T05:43:30.441698Z",
     "shell.execute_reply": "2021-03-20T05:43:30.442127Z"
    }
   },
   "outputs": [],
   "source": [
    "add = {'location':'California','doses':dataJson[0]['dataValues'][2]}"
   ]
  },
  {
   "cell_type": "code",
   "execution_count": 12,
   "metadata": {
    "execution": {
     "iopub.execute_input": "2021-03-20T05:43:30.450400Z",
     "iopub.status.busy": "2021-03-20T05:43:30.449168Z",
     "iopub.status.idle": "2021-03-20T05:43:30.450996Z",
     "shell.execute_reply": "2021-03-20T05:43:30.451423Z"
    }
   },
   "outputs": [],
   "source": [
    "df = df.append(add, ignore_index=True)"
   ]
  },
  {
   "cell_type": "code",
   "execution_count": 13,
   "metadata": {
    "execution": {
     "iopub.execute_input": "2021-03-20T05:43:30.456382Z",
     "iopub.status.busy": "2021-03-20T05:43:30.455185Z",
     "iopub.status.idle": "2021-03-20T05:43:30.456985Z",
     "shell.execute_reply": "2021-03-20T05:43:30.457413Z"
    }
   },
   "outputs": [],
   "source": [
    "df = df.sort_values(by='location')"
   ]
  },
  {
   "cell_type": "code",
   "execution_count": 14,
   "metadata": {
    "execution": {
     "iopub.execute_input": "2021-03-20T05:43:30.464008Z",
     "iopub.status.busy": "2021-03-20T05:43:30.462775Z",
     "iopub.status.idle": "2021-03-20T05:43:30.464610Z",
     "shell.execute_reply": "2021-03-20T05:43:30.465041Z"
    }
   },
   "outputs": [],
   "source": [
    "df = df[df.location == 'California'].append(df[df.location != 'California']).reset_index(drop=True)"
   ]
  },
  {
   "cell_type": "code",
   "execution_count": null,
   "metadata": {},
   "outputs": [],
   "source": []
  },
  {
   "cell_type": "code",
   "execution_count": 15,
   "metadata": {
    "execution": {
     "iopub.execute_input": "2021-03-20T05:43:30.468394Z",
     "iopub.status.busy": "2021-03-20T05:43:30.467875Z",
     "iopub.status.idle": "2021-03-20T05:43:30.485945Z",
     "shell.execute_reply": "2021-03-20T05:43:30.485454Z"
    }
   },
   "outputs": [],
   "source": [
    "tz = pytz.timezone(\"America/New_York\")"
   ]
  },
  {
   "cell_type": "code",
   "execution_count": 16,
   "metadata": {
    "execution": {
     "iopub.execute_input": "2021-03-20T05:43:30.490289Z",
     "iopub.status.busy": "2021-03-20T05:43:30.489079Z",
     "iopub.status.idle": "2021-03-20T05:43:30.490885Z",
     "shell.execute_reply": "2021-03-20T05:43:30.491315Z"
    }
   },
   "outputs": [],
   "source": [
    "today = datetime.now(tz).date()"
   ]
  },
  {
   "cell_type": "code",
   "execution_count": 17,
   "metadata": {
    "execution": {
     "iopub.execute_input": "2021-03-20T05:43:30.495525Z",
     "iopub.status.busy": "2021-03-20T05:43:30.494395Z",
     "iopub.status.idle": "2021-03-20T05:43:30.496119Z",
     "shell.execute_reply": "2021-03-20T05:43:30.496542Z"
    }
   },
   "outputs": [],
   "source": [
    "data_dir = os.path.join(os.path.abspath(\"\"), \"data\")"
   ]
  },
  {
   "cell_type": "code",
   "execution_count": 18,
   "metadata": {
    "execution": {
     "iopub.execute_input": "2021-03-20T05:43:30.500921Z",
     "iopub.status.busy": "2021-03-20T05:43:30.499835Z",
     "iopub.status.idle": "2021-03-20T05:43:30.504390Z",
     "shell.execute_reply": "2021-03-20T05:43:30.503847Z"
    }
   },
   "outputs": [],
   "source": [
    "df.to_csv(os.path.join(data_dir, f\"{today}.csv\"), index=False)"
   ]
  },
  {
   "cell_type": "code",
   "execution_count": null,
   "metadata": {},
   "outputs": [],
   "source": []
  }
 ],
 "metadata": {
  "kernelspec": {
   "display_name": "Python 3",
   "language": "python",
   "name": "python3"
  },
  "language_info": {
   "codemirror_mode": {
    "name": "ipython",
    "version": 3
   },
   "file_extension": ".py",
   "mimetype": "text/x-python",
   "name": "python",
   "nbconvert_exporter": "python",
   "pygments_lexer": "ipython3",
   "version": "3.8.8"
  }
 },
 "nbformat": 4,
 "nbformat_minor": 4
}
