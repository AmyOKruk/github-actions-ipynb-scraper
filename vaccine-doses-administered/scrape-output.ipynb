{
 "cells": [
  {
   "cell_type": "markdown",
   "metadata": {},
   "source": [
    "# California COVID vaccinations scrape"
   ]
  },
  {
   "cell_type": "markdown",
   "metadata": {},
   "source": [
    "By [Amy O'Kruk](https://twitter.com/amyokruk)"
   ]
  },
  {
   "cell_type": "markdown",
   "metadata": {},
   "source": [
    "Downloads data on vaccine doses administered by county and statewide from a Tableau-powered dashboard from the California Department of Public Health."
   ]
  },
  {
   "cell_type": "code",
   "execution_count": 1,
   "metadata": {
    "execution": {
     "iopub.execute_input": "2021-03-11T20:40:42.239100Z",
     "iopub.status.busy": "2021-03-11T20:40:42.238550Z",
     "iopub.status.idle": "2021-03-11T20:40:42.622653Z",
     "shell.execute_reply": "2021-03-11T20:40:42.621526Z"
    }
   },
   "outputs": [],
   "source": [
    "import pandas as pd\n",
    "import requests\n",
    "from bs4 import BeautifulSoup\n",
    "import json\n",
    "import re\n",
    "import time\n",
    "from time import gmtime, strftime \n",
    "import os\n",
    "import pytz\n",
    "from datetime import datetime"
   ]
  },
  {
   "cell_type": "markdown",
   "metadata": {},
   "source": [
    "Scrape the dashboard page"
   ]
  },
  {
   "cell_type": "code",
   "execution_count": 2,
   "metadata": {
    "execution": {
     "iopub.execute_input": "2021-03-11T20:40:42.628532Z",
     "iopub.status.busy": "2021-03-11T20:40:42.626599Z",
     "iopub.status.idle": "2021-03-11T20:40:43.261956Z",
     "shell.execute_reply": "2021-03-11T20:40:43.261151Z"
    }
   },
   "outputs": [],
   "source": [
    "url = \"https://public.tableau.com/interactive/views/COVID-19VaccineDashboardPublic/Vaccine?:embed=y&:showVizHome=n&:apiID=host0\"\n",
    "\n",
    "r = requests.get(url)\n",
    "soup = BeautifulSoup(r.text, \"html.parser\")"
   ]
  },
  {
   "cell_type": "code",
   "execution_count": 3,
   "metadata": {
    "execution": {
     "iopub.execute_input": "2021-03-11T20:40:43.266465Z",
     "iopub.status.busy": "2021-03-11T20:40:43.266077Z",
     "iopub.status.idle": "2021-03-11T20:40:43.269116Z",
     "shell.execute_reply": "2021-03-11T20:40:43.268679Z"
    }
   },
   "outputs": [],
   "source": [
    "tableauData = json.loads(soup.find(\"textarea\",{\"id\": \"tsConfigContainer\"}).text)"
   ]
  },
  {
   "cell_type": "markdown",
   "metadata": {},
   "source": [
    "Get the link to the Tableau data"
   ]
  },
  {
   "cell_type": "code",
   "execution_count": 4,
   "metadata": {
    "execution": {
     "iopub.execute_input": "2021-03-11T20:40:43.273360Z",
     "iopub.status.busy": "2021-03-11T20:40:43.272292Z",
     "iopub.status.idle": "2021-03-11T20:40:43.273954Z",
     "shell.execute_reply": "2021-03-11T20:40:43.274376Z"
    }
   },
   "outputs": [],
   "source": [
    "dataUrl = f'https://public.tableau.com{tableauData[\"vizql_root\"]}/bootstrapSession/sessions/{tableauData[\"sessionid\"]}'"
   ]
  },
  {
   "cell_type": "code",
   "execution_count": 5,
   "metadata": {
    "execution": {
     "iopub.execute_input": "2021-03-11T20:40:43.280875Z",
     "iopub.status.busy": "2021-03-11T20:40:43.280385Z",
     "iopub.status.idle": "2021-03-11T20:40:43.494750Z",
     "shell.execute_reply": "2021-03-11T20:40:43.493917Z"
    }
   },
   "outputs": [],
   "source": [
    "r = requests.post(dataUrl, data= {\n",
    "    \"sheet_id\": tableauData[\"sheetId\"],\n",
    "})\n",
    "\n",
    "dataReg = re.search('\\d+;({.*})\\d+;({.*})', r.text, re.MULTILINE)\n",
    "data1 = json.loads(dataReg.group(2))\n",
    "\n",
    "dataJson = data1[\"secondaryInfo\"][\"presModelMap\"][\"dataDictionary\"][\"presModelHolder\"][\"genDataDictionaryPresModel\"][\"dataSegments\"][\"0\"][\"dataColumns\"]"
   ]
  },
  {
   "cell_type": "markdown",
   "metadata": {},
   "source": [
    "Isolate what you want"
   ]
  },
  {
   "cell_type": "code",
   "execution_count": 6,
   "metadata": {
    "execution": {
     "iopub.execute_input": "2021-03-11T20:40:43.500500Z",
     "iopub.status.busy": "2021-03-11T20:40:43.499870Z",
     "iopub.status.idle": "2021-03-11T20:40:43.501376Z",
     "shell.execute_reply": "2021-03-11T20:40:43.500955Z"
    }
   },
   "outputs": [],
   "source": [
    "counties = dataJson[2]['dataValues'][:58]"
   ]
  },
  {
   "cell_type": "code",
   "execution_count": 7,
   "metadata": {
    "execution": {
     "iopub.execute_input": "2021-03-11T20:40:43.505472Z",
     "iopub.status.busy": "2021-03-11T20:40:43.504374Z",
     "iopub.status.idle": "2021-03-11T20:40:43.506026Z",
     "shell.execute_reply": "2021-03-11T20:40:43.506423Z"
    }
   },
   "outputs": [],
   "source": [
    "doses = dataJson[0]['dataValues'][3:61]"
   ]
  },
  {
   "cell_type": "markdown",
   "metadata": {},
   "source": [
    "Data formatting"
   ]
  },
  {
   "cell_type": "code",
   "execution_count": 8,
   "metadata": {
    "execution": {
     "iopub.execute_input": "2021-03-11T20:40:43.510626Z",
     "iopub.status.busy": "2021-03-11T20:40:43.509625Z",
     "iopub.status.idle": "2021-03-11T20:40:43.511176Z",
     "shell.execute_reply": "2021-03-11T20:40:43.511628Z"
    }
   },
   "outputs": [],
   "source": [
    "zipped = dict(zip(counties, doses))"
   ]
  },
  {
   "cell_type": "code",
   "execution_count": 9,
   "metadata": {
    "execution": {
     "iopub.execute_input": "2021-03-11T20:40:43.517388Z",
     "iopub.status.busy": "2021-03-11T20:40:43.516300Z",
     "iopub.status.idle": "2021-03-11T20:40:43.518018Z",
     "shell.execute_reply": "2021-03-11T20:40:43.518417Z"
    }
   },
   "outputs": [],
   "source": [
    "df = pd.Series(zipped).reset_index()"
   ]
  },
  {
   "cell_type": "code",
   "execution_count": 10,
   "metadata": {
    "execution": {
     "iopub.execute_input": "2021-03-11T20:40:43.522117Z",
     "iopub.status.busy": "2021-03-11T20:40:43.521329Z",
     "iopub.status.idle": "2021-03-11T20:40:43.522979Z",
     "shell.execute_reply": "2021-03-11T20:40:43.523373Z"
    }
   },
   "outputs": [],
   "source": [
    "df.columns = ['location','doses']"
   ]
  },
  {
   "cell_type": "markdown",
   "metadata": {},
   "source": [
    "Grab the overall California total"
   ]
  },
  {
   "cell_type": "code",
   "execution_count": 11,
   "metadata": {
    "execution": {
     "iopub.execute_input": "2021-03-11T20:40:43.527738Z",
     "iopub.status.busy": "2021-03-11T20:40:43.526489Z",
     "iopub.status.idle": "2021-03-11T20:40:43.528368Z",
     "shell.execute_reply": "2021-03-11T20:40:43.528762Z"
    }
   },
   "outputs": [],
   "source": [
    "add = {'location':'California','doses':dataJson[0]['dataValues'][2]}"
   ]
  },
  {
   "cell_type": "code",
   "execution_count": 12,
   "metadata": {
    "execution": {
     "iopub.execute_input": "2021-03-11T20:40:43.535079Z",
     "iopub.status.busy": "2021-03-11T20:40:43.533888Z",
     "iopub.status.idle": "2021-03-11T20:40:43.535712Z",
     "shell.execute_reply": "2021-03-11T20:40:43.536130Z"
    }
   },
   "outputs": [],
   "source": [
    "df = df.append(add, ignore_index=True)"
   ]
  },
  {
   "cell_type": "code",
   "execution_count": 13,
   "metadata": {
    "execution": {
     "iopub.execute_input": "2021-03-11T20:40:43.540612Z",
     "iopub.status.busy": "2021-03-11T20:40:43.539431Z",
     "iopub.status.idle": "2021-03-11T20:40:43.541270Z",
     "shell.execute_reply": "2021-03-11T20:40:43.541725Z"
    }
   },
   "outputs": [],
   "source": [
    "df = df.sort_values(by='location')"
   ]
  },
  {
   "cell_type": "code",
   "execution_count": 14,
   "metadata": {
    "execution": {
     "iopub.execute_input": "2021-03-11T20:40:43.547289Z",
     "iopub.status.busy": "2021-03-11T20:40:43.546448Z",
     "iopub.status.idle": "2021-03-11T20:40:43.548235Z",
     "shell.execute_reply": "2021-03-11T20:40:43.548610Z"
    }
   },
   "outputs": [],
   "source": [
    "df = df[df.location == 'California'].append(df[df.location != 'California']).reset_index(drop=True)"
   ]
  },
  {
   "cell_type": "code",
   "execution_count": null,
   "metadata": {},
   "outputs": [],
   "source": []
  },
  {
   "cell_type": "code",
   "execution_count": 15,
   "metadata": {
    "execution": {
     "iopub.execute_input": "2021-03-11T20:40:43.551692Z",
     "iopub.status.busy": "2021-03-11T20:40:43.551246Z",
     "iopub.status.idle": "2021-03-11T20:40:43.565840Z",
     "shell.execute_reply": "2021-03-11T20:40:43.566172Z"
    }
   },
   "outputs": [],
   "source": [
    "tz = pytz.timezone(\"America/New_York\")"
   ]
  },
  {
   "cell_type": "code",
   "execution_count": 16,
   "metadata": {
    "execution": {
     "iopub.execute_input": "2021-03-11T20:40:43.570014Z",
     "iopub.status.busy": "2021-03-11T20:40:43.568952Z",
     "iopub.status.idle": "2021-03-11T20:40:43.570625Z",
     "shell.execute_reply": "2021-03-11T20:40:43.571064Z"
    }
   },
   "outputs": [],
   "source": [
    "today = datetime.now(tz).date()"
   ]
  },
  {
   "cell_type": "code",
   "execution_count": 17,
   "metadata": {
    "execution": {
     "iopub.execute_input": "2021-03-11T20:40:43.574213Z",
     "iopub.status.busy": "2021-03-11T20:40:43.573728Z",
     "iopub.status.idle": "2021-03-11T20:40:43.575901Z",
     "shell.execute_reply": "2021-03-11T20:40:43.575464Z"
    }
   },
   "outputs": [],
   "source": [
    "data_dir = os.path.join(os.path.abspath(\"\"), \"data\")"
   ]
  },
  {
   "cell_type": "code",
   "execution_count": 18,
   "metadata": {
    "execution": {
     "iopub.execute_input": "2021-03-11T20:40:43.578999Z",
     "iopub.status.busy": "2021-03-11T20:40:43.578520Z",
     "iopub.status.idle": "2021-03-11T20:40:43.582490Z",
     "shell.execute_reply": "2021-03-11T20:40:43.582102Z"
    }
   },
   "outputs": [],
   "source": [
    "df.to_csv(os.path.join(data_dir, f\"{today}.csv\"), index=False)"
   ]
  },
  {
   "cell_type": "code",
   "execution_count": null,
   "metadata": {},
   "outputs": [],
   "source": []
  }
 ],
 "metadata": {
  "kernelspec": {
   "display_name": "Python 3",
   "language": "python",
   "name": "python3"
  },
  "language_info": {
   "codemirror_mode": {
    "name": "ipython",
    "version": 3
   },
   "file_extension": ".py",
   "mimetype": "text/x-python",
   "name": "python",
   "nbconvert_exporter": "python",
   "pygments_lexer": "ipython3",
   "version": "3.8.8"
  }
 },
 "nbformat": 4,
 "nbformat_minor": 4
}
