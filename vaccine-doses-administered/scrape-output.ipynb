{
 "cells": [
  {
   "cell_type": "markdown",
   "metadata": {},
   "source": [
    "# California COVID vaccinations scrape"
   ]
  },
  {
   "cell_type": "markdown",
   "metadata": {},
   "source": [
    "By [Amy O'Kruk](https://twitter.com/amyokruk)"
   ]
  },
  {
   "cell_type": "markdown",
   "metadata": {},
   "source": [
    "Downloads data on vaccine doses administered by county and statewide from a Tableau-powered dashboard from the California Department of Public Health."
   ]
  },
  {
   "cell_type": "code",
   "execution_count": 1,
   "metadata": {
    "execution": {
     "iopub.execute_input": "2021-03-14T06:46:22.102958Z",
     "iopub.status.busy": "2021-03-14T06:46:22.102342Z",
     "iopub.status.idle": "2021-03-14T06:46:22.456269Z",
     "shell.execute_reply": "2021-03-14T06:46:22.455228Z"
    }
   },
   "outputs": [],
   "source": [
    "import pandas as pd\n",
    "import requests\n",
    "from bs4 import BeautifulSoup\n",
    "import json\n",
    "import re\n",
    "import time\n",
    "from time import gmtime, strftime \n",
    "import os\n",
    "import pytz\n",
    "from datetime import datetime"
   ]
  },
  {
   "cell_type": "markdown",
   "metadata": {},
   "source": [
    "Scrape the dashboard page"
   ]
  },
  {
   "cell_type": "code",
   "execution_count": 2,
   "metadata": {
    "execution": {
     "iopub.execute_input": "2021-03-14T06:46:22.462335Z",
     "iopub.status.busy": "2021-03-14T06:46:22.459949Z",
     "iopub.status.idle": "2021-03-14T06:46:23.004350Z",
     "shell.execute_reply": "2021-03-14T06:46:23.003333Z"
    }
   },
   "outputs": [],
   "source": [
    "url = \"https://public.tableau.com/interactive/views/COVID-19VaccineDashboardPublic/Vaccine?:embed=y&:showVizHome=n&:apiID=host0\"\n",
    "\n",
    "r = requests.get(url)\n",
    "soup = BeautifulSoup(r.text, \"html.parser\")"
   ]
  },
  {
   "cell_type": "code",
   "execution_count": 3,
   "metadata": {
    "execution": {
     "iopub.execute_input": "2021-03-14T06:46:23.009029Z",
     "iopub.status.busy": "2021-03-14T06:46:23.008498Z",
     "iopub.status.idle": "2021-03-14T06:46:23.012268Z",
     "shell.execute_reply": "2021-03-14T06:46:23.012715Z"
    }
   },
   "outputs": [],
   "source": [
    "tableauData = json.loads(soup.find(\"textarea\",{\"id\": \"tsConfigContainer\"}).text)"
   ]
  },
  {
   "cell_type": "markdown",
   "metadata": {},
   "source": [
    "Get the link to the Tableau data"
   ]
  },
  {
   "cell_type": "code",
   "execution_count": 4,
   "metadata": {
    "execution": {
     "iopub.execute_input": "2021-03-14T06:46:23.015963Z",
     "iopub.status.busy": "2021-03-14T06:46:23.015486Z",
     "iopub.status.idle": "2021-03-14T06:46:23.019172Z",
     "shell.execute_reply": "2021-03-14T06:46:23.019550Z"
    }
   },
   "outputs": [],
   "source": [
    "dataUrl = f'https://public.tableau.com{tableauData[\"vizql_root\"]}/bootstrapSession/sessions/{tableauData[\"sessionid\"]}'"
   ]
  },
  {
   "cell_type": "code",
   "execution_count": 5,
   "metadata": {
    "execution": {
     "iopub.execute_input": "2021-03-14T06:46:23.026718Z",
     "iopub.status.busy": "2021-03-14T06:46:23.025776Z",
     "iopub.status.idle": "2021-03-14T06:46:23.451562Z",
     "shell.execute_reply": "2021-03-14T06:46:23.451127Z"
    }
   },
   "outputs": [],
   "source": [
    "r = requests.post(dataUrl, data= {\n",
    "    \"sheet_id\": tableauData[\"sheetId\"],\n",
    "})\n",
    "\n",
    "dataReg = re.search('\\d+;({.*})\\d+;({.*})', r.text, re.MULTILINE)\n",
    "data1 = json.loads(dataReg.group(2))\n",
    "\n",
    "dataJson = data1[\"secondaryInfo\"][\"presModelMap\"][\"dataDictionary\"][\"presModelHolder\"][\"genDataDictionaryPresModel\"][\"dataSegments\"][\"0\"][\"dataColumns\"]"
   ]
  },
  {
   "cell_type": "markdown",
   "metadata": {},
   "source": [
    "Isolate what you want"
   ]
  },
  {
   "cell_type": "code",
   "execution_count": 6,
   "metadata": {
    "execution": {
     "iopub.execute_input": "2021-03-14T06:46:23.455316Z",
     "iopub.status.busy": "2021-03-14T06:46:23.454879Z",
     "iopub.status.idle": "2021-03-14T06:46:23.458683Z",
     "shell.execute_reply": "2021-03-14T06:46:23.458250Z"
    }
   },
   "outputs": [],
   "source": [
    "counties = dataJson[2]['dataValues'][:58]"
   ]
  },
  {
   "cell_type": "code",
   "execution_count": 7,
   "metadata": {
    "execution": {
     "iopub.execute_input": "2021-03-14T06:46:23.462141Z",
     "iopub.status.busy": "2021-03-14T06:46:23.461667Z",
     "iopub.status.idle": "2021-03-14T06:46:23.465082Z",
     "shell.execute_reply": "2021-03-14T06:46:23.464685Z"
    }
   },
   "outputs": [],
   "source": [
    "doses = dataJson[0]['dataValues'][3:61]"
   ]
  },
  {
   "cell_type": "markdown",
   "metadata": {},
   "source": [
    "Data formatting"
   ]
  },
  {
   "cell_type": "code",
   "execution_count": 8,
   "metadata": {
    "execution": {
     "iopub.execute_input": "2021-03-14T06:46:23.468165Z",
     "iopub.status.busy": "2021-03-14T06:46:23.467751Z",
     "iopub.status.idle": "2021-03-14T06:46:23.472181Z",
     "shell.execute_reply": "2021-03-14T06:46:23.471268Z"
    }
   },
   "outputs": [],
   "source": [
    "zipped = dict(zip(counties, doses))"
   ]
  },
  {
   "cell_type": "code",
   "execution_count": 9,
   "metadata": {
    "execution": {
     "iopub.execute_input": "2021-03-14T06:46:23.476928Z",
     "iopub.status.busy": "2021-03-14T06:46:23.476411Z",
     "iopub.status.idle": "2021-03-14T06:46:23.479417Z",
     "shell.execute_reply": "2021-03-14T06:46:23.479051Z"
    }
   },
   "outputs": [],
   "source": [
    "df = pd.Series(zipped).reset_index()"
   ]
  },
  {
   "cell_type": "code",
   "execution_count": 10,
   "metadata": {
    "execution": {
     "iopub.execute_input": "2021-03-14T06:46:23.482239Z",
     "iopub.status.busy": "2021-03-14T06:46:23.481828Z",
     "iopub.status.idle": "2021-03-14T06:46:23.484786Z",
     "shell.execute_reply": "2021-03-14T06:46:23.484415Z"
    }
   },
   "outputs": [],
   "source": [
    "df.columns = ['location','doses']"
   ]
  },
  {
   "cell_type": "markdown",
   "metadata": {},
   "source": [
    "Grab the overall California total"
   ]
  },
  {
   "cell_type": "code",
   "execution_count": 11,
   "metadata": {
    "execution": {
     "iopub.execute_input": "2021-03-14T06:46:23.487896Z",
     "iopub.status.busy": "2021-03-14T06:46:23.487427Z",
     "iopub.status.idle": "2021-03-14T06:46:23.490129Z",
     "shell.execute_reply": "2021-03-14T06:46:23.490457Z"
    }
   },
   "outputs": [],
   "source": [
    "add = {'location':'California','doses':dataJson[0]['dataValues'][2]}"
   ]
  },
  {
   "cell_type": "code",
   "execution_count": 12,
   "metadata": {
    "execution": {
     "iopub.execute_input": "2021-03-14T06:46:23.496229Z",
     "iopub.status.busy": "2021-03-14T06:46:23.495712Z",
     "iopub.status.idle": "2021-03-14T06:46:23.499923Z",
     "shell.execute_reply": "2021-03-14T06:46:23.499459Z"
    }
   },
   "outputs": [],
   "source": [
    "df = df.append(add, ignore_index=True)"
   ]
  },
  {
   "cell_type": "code",
   "execution_count": 13,
   "metadata": {
    "execution": {
     "iopub.execute_input": "2021-03-14T06:46:23.503072Z",
     "iopub.status.busy": "2021-03-14T06:46:23.502675Z",
     "iopub.status.idle": "2021-03-14T06:46:23.505806Z",
     "shell.execute_reply": "2021-03-14T06:46:23.505485Z"
    }
   },
   "outputs": [],
   "source": [
    "df = df.sort_values(by='location')"
   ]
  },
  {
   "cell_type": "code",
   "execution_count": 14,
   "metadata": {
    "execution": {
     "iopub.execute_input": "2021-03-14T06:46:23.517586Z",
     "iopub.status.busy": "2021-03-14T06:46:23.517216Z",
     "iopub.status.idle": "2021-03-14T06:46:23.528166Z",
     "shell.execute_reply": "2021-03-14T06:46:23.527700Z"
    }
   },
   "outputs": [],
   "source": [
    "df = df[df.location == 'California'].append(df[df.location != 'California']).reset_index(drop=True)"
   ]
  },
  {
   "cell_type": "code",
   "execution_count": null,
   "metadata": {},
   "outputs": [],
   "source": []
  },
  {
   "cell_type": "code",
   "execution_count": 15,
   "metadata": {
    "execution": {
     "iopub.execute_input": "2021-03-14T06:46:23.531002Z",
     "iopub.status.busy": "2021-03-14T06:46:23.530529Z",
     "iopub.status.idle": "2021-03-14T06:46:23.546639Z",
     "shell.execute_reply": "2021-03-14T06:46:23.545912Z"
    }
   },
   "outputs": [],
   "source": [
    "tz = pytz.timezone(\"America/New_York\")"
   ]
  },
  {
   "cell_type": "code",
   "execution_count": 16,
   "metadata": {
    "execution": {
     "iopub.execute_input": "2021-03-14T06:46:23.549423Z",
     "iopub.status.busy": "2021-03-14T06:46:23.549010Z",
     "iopub.status.idle": "2021-03-14T06:46:23.552006Z",
     "shell.execute_reply": "2021-03-14T06:46:23.551427Z"
    }
   },
   "outputs": [],
   "source": [
    "today = datetime.now(tz).date()"
   ]
  },
  {
   "cell_type": "code",
   "execution_count": 17,
   "metadata": {
    "execution": {
     "iopub.execute_input": "2021-03-14T06:46:23.555313Z",
     "iopub.status.busy": "2021-03-14T06:46:23.554787Z",
     "iopub.status.idle": "2021-03-14T06:46:23.557680Z",
     "shell.execute_reply": "2021-03-14T06:46:23.558050Z"
    }
   },
   "outputs": [],
   "source": [
    "data_dir = os.path.join(os.path.abspath(\"\"), \"data\")"
   ]
  },
  {
   "cell_type": "code",
   "execution_count": 18,
   "metadata": {
    "execution": {
     "iopub.execute_input": "2021-03-14T06:46:23.561914Z",
     "iopub.status.busy": "2021-03-14T06:46:23.560970Z",
     "iopub.status.idle": "2021-03-14T06:46:23.565083Z",
     "shell.execute_reply": "2021-03-14T06:46:23.564687Z"
    }
   },
   "outputs": [],
   "source": [
    "df.to_csv(os.path.join(data_dir, f\"{today}.csv\"), index=False)"
   ]
  },
  {
   "cell_type": "code",
   "execution_count": null,
   "metadata": {},
   "outputs": [],
   "source": []
  }
 ],
 "metadata": {
  "kernelspec": {
   "display_name": "Python 3",
   "language": "python",
   "name": "python3"
  },
  "language_info": {
   "codemirror_mode": {
    "name": "ipython",
    "version": 3
   },
   "file_extension": ".py",
   "mimetype": "text/x-python",
   "name": "python",
   "nbconvert_exporter": "python",
   "pygments_lexer": "ipython3",
   "version": "3.8.8"
  }
 },
 "nbformat": 4,
 "nbformat_minor": 4
}
