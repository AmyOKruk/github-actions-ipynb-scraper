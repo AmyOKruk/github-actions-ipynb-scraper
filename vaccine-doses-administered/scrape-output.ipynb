{
 "cells": [
  {
   "cell_type": "markdown",
   "metadata": {},
   "source": [
    "# California COVID vaccinations scrape"
   ]
  },
  {
   "cell_type": "markdown",
   "metadata": {},
   "source": [
    "By [Amy O'Kruk](https://twitter.com/amyokruk)"
   ]
  },
  {
   "cell_type": "markdown",
   "metadata": {},
   "source": [
    "Downloads data on vaccine doses administered by county and statewide from a Tableau-powered dashboard from the California Department of Public Health."
   ]
  },
  {
   "cell_type": "code",
   "execution_count": 1,
   "metadata": {
    "execution": {
     "iopub.execute_input": "2021-03-10T22:13:38.335832Z",
     "iopub.status.busy": "2021-03-10T22:13:38.335201Z",
     "iopub.status.idle": "2021-03-10T22:13:38.732588Z",
     "shell.execute_reply": "2021-03-10T22:13:38.731617Z"
    }
   },
   "outputs": [],
   "source": [
    "import pandas as pd\n",
    "import requests\n",
    "from bs4 import BeautifulSoup\n",
    "import json\n",
    "import re\n",
    "import time\n",
    "from time import gmtime, strftime \n",
    "import os\n",
    "import pytz\n",
    "from datetime import datetime"
   ]
  },
  {
   "cell_type": "markdown",
   "metadata": {},
   "source": [
    "Scrape the dashboard page"
   ]
  },
  {
   "cell_type": "code",
   "execution_count": 2,
   "metadata": {
    "execution": {
     "iopub.execute_input": "2021-03-10T22:13:38.737859Z",
     "iopub.status.busy": "2021-03-10T22:13:38.736014Z",
     "iopub.status.idle": "2021-03-10T22:13:38.992108Z",
     "shell.execute_reply": "2021-03-10T22:13:38.991029Z"
    }
   },
   "outputs": [],
   "source": [
    "url = \"https://public.tableau.com/interactive/views/COVID-19VaccineDashboardPublic/Vaccine?:embed=y&:showVizHome=n&:apiID=host0\"\n",
    "\n",
    "r = requests.get(url)\n",
    "soup = BeautifulSoup(r.text, \"html.parser\")"
   ]
  },
  {
   "cell_type": "code",
   "execution_count": 3,
   "metadata": {
    "execution": {
     "iopub.execute_input": "2021-03-10T22:13:38.998557Z",
     "iopub.status.busy": "2021-03-10T22:13:38.996929Z",
     "iopub.status.idle": "2021-03-10T22:13:38.999253Z",
     "shell.execute_reply": "2021-03-10T22:13:38.999661Z"
    }
   },
   "outputs": [],
   "source": [
    "tableauData = json.loads(soup.find(\"textarea\",{\"id\": \"tsConfigContainer\"}).text)"
   ]
  },
  {
   "cell_type": "markdown",
   "metadata": {},
   "source": [
    "Get the link to the Tableau data"
   ]
  },
  {
   "cell_type": "code",
   "execution_count": 4,
   "metadata": {
    "execution": {
     "iopub.execute_input": "2021-03-10T22:13:39.003924Z",
     "iopub.status.busy": "2021-03-10T22:13:39.002714Z",
     "iopub.status.idle": "2021-03-10T22:13:39.004523Z",
     "shell.execute_reply": "2021-03-10T22:13:39.004948Z"
    }
   },
   "outputs": [],
   "source": [
    "dataUrl = f'https://public.tableau.com{tableauData[\"vizql_root\"]}/bootstrapSession/sessions/{tableauData[\"sessionid\"]}'"
   ]
  },
  {
   "cell_type": "code",
   "execution_count": 5,
   "metadata": {
    "execution": {
     "iopub.execute_input": "2021-03-10T22:13:39.011420Z",
     "iopub.status.busy": "2021-03-10T22:13:39.010905Z",
     "iopub.status.idle": "2021-03-10T22:13:39.169420Z",
     "shell.execute_reply": "2021-03-10T22:13:39.168621Z"
    }
   },
   "outputs": [],
   "source": [
    "r = requests.post(dataUrl, data= {\n",
    "    \"sheet_id\": tableauData[\"sheetId\"],\n",
    "})\n",
    "\n",
    "dataReg = re.search('\\d+;({.*})\\d+;({.*})', r.text, re.MULTILINE)\n",
    "data1 = json.loads(dataReg.group(2))\n",
    "\n",
    "dataJson = data1[\"secondaryInfo\"][\"presModelMap\"][\"dataDictionary\"][\"presModelHolder\"][\"genDataDictionaryPresModel\"][\"dataSegments\"][\"0\"][\"dataColumns\"]"
   ]
  },
  {
   "cell_type": "markdown",
   "metadata": {},
   "source": [
    "Isolate what you want"
   ]
  },
  {
   "cell_type": "code",
   "execution_count": 6,
   "metadata": {
    "execution": {
     "iopub.execute_input": "2021-03-10T22:13:39.174134Z",
     "iopub.status.busy": "2021-03-10T22:13:39.172873Z",
     "iopub.status.idle": "2021-03-10T22:13:39.174752Z",
     "shell.execute_reply": "2021-03-10T22:13:39.175181Z"
    }
   },
   "outputs": [],
   "source": [
    "counties = dataJson[2]['dataValues'][:58]"
   ]
  },
  {
   "cell_type": "code",
   "execution_count": 7,
   "metadata": {
    "execution": {
     "iopub.execute_input": "2021-03-10T22:13:39.179145Z",
     "iopub.status.busy": "2021-03-10T22:13:39.178008Z",
     "iopub.status.idle": "2021-03-10T22:13:39.179751Z",
     "shell.execute_reply": "2021-03-10T22:13:39.180191Z"
    }
   },
   "outputs": [],
   "source": [
    "doses = dataJson[0]['dataValues'][3:61]"
   ]
  },
  {
   "cell_type": "markdown",
   "metadata": {},
   "source": [
    "Data formatting"
   ]
  },
  {
   "cell_type": "code",
   "execution_count": 8,
   "metadata": {
    "execution": {
     "iopub.execute_input": "2021-03-10T22:13:39.183665Z",
     "iopub.status.busy": "2021-03-10T22:13:39.183177Z",
     "iopub.status.idle": "2021-03-10T22:13:39.185241Z",
     "shell.execute_reply": "2021-03-10T22:13:39.184818Z"
    }
   },
   "outputs": [],
   "source": [
    "zipped = dict(zip(counties, doses))"
   ]
  },
  {
   "cell_type": "code",
   "execution_count": 9,
   "metadata": {
    "execution": {
     "iopub.execute_input": "2021-03-10T22:13:39.191658Z",
     "iopub.status.busy": "2021-03-10T22:13:39.190532Z",
     "iopub.status.idle": "2021-03-10T22:13:39.192234Z",
     "shell.execute_reply": "2021-03-10T22:13:39.192628Z"
    }
   },
   "outputs": [],
   "source": [
    "df = pd.Series(zipped).reset_index()"
   ]
  },
  {
   "cell_type": "code",
   "execution_count": 10,
   "metadata": {
    "execution": {
     "iopub.execute_input": "2021-03-10T22:13:39.196962Z",
     "iopub.status.busy": "2021-03-10T22:13:39.195774Z",
     "iopub.status.idle": "2021-03-10T22:13:39.197564Z",
     "shell.execute_reply": "2021-03-10T22:13:39.197989Z"
    }
   },
   "outputs": [],
   "source": [
    "df.columns = ['location','doses']"
   ]
  },
  {
   "cell_type": "markdown",
   "metadata": {},
   "source": [
    "Grab the overall California total"
   ]
  },
  {
   "cell_type": "code",
   "execution_count": 11,
   "metadata": {
    "execution": {
     "iopub.execute_input": "2021-03-10T22:13:39.202112Z",
     "iopub.status.busy": "2021-03-10T22:13:39.201009Z",
     "iopub.status.idle": "2021-03-10T22:13:39.202751Z",
     "shell.execute_reply": "2021-03-10T22:13:39.203183Z"
    }
   },
   "outputs": [],
   "source": [
    "add = {'location':'California','doses':dataJson[0]['dataValues'][2]}"
   ]
  },
  {
   "cell_type": "code",
   "execution_count": 12,
   "metadata": {
    "execution": {
     "iopub.execute_input": "2021-03-10T22:13:39.210084Z",
     "iopub.status.busy": "2021-03-10T22:13:39.208822Z",
     "iopub.status.idle": "2021-03-10T22:13:39.210646Z",
     "shell.execute_reply": "2021-03-10T22:13:39.211079Z"
    }
   },
   "outputs": [],
   "source": [
    "df = df.append(add, ignore_index=True)"
   ]
  },
  {
   "cell_type": "code",
   "execution_count": 13,
   "metadata": {
    "execution": {
     "iopub.execute_input": "2021-03-10T22:13:39.215777Z",
     "iopub.status.busy": "2021-03-10T22:13:39.214620Z",
     "iopub.status.idle": "2021-03-10T22:13:39.216425Z",
     "shell.execute_reply": "2021-03-10T22:13:39.216878Z"
    }
   },
   "outputs": [],
   "source": [
    "df = df.sort_values(by='location')"
   ]
  },
  {
   "cell_type": "code",
   "execution_count": 14,
   "metadata": {
    "execution": {
     "iopub.execute_input": "2021-03-10T22:13:39.223208Z",
     "iopub.status.busy": "2021-03-10T22:13:39.222047Z",
     "iopub.status.idle": "2021-03-10T22:13:39.223761Z",
     "shell.execute_reply": "2021-03-10T22:13:39.224155Z"
    }
   },
   "outputs": [],
   "source": [
    "df = df[df.location == 'California'].append(df[df.location != 'California']).reset_index(drop=True)"
   ]
  },
  {
   "cell_type": "code",
   "execution_count": null,
   "metadata": {},
   "outputs": [],
   "source": []
  },
  {
   "cell_type": "code",
   "execution_count": 15,
   "metadata": {
    "execution": {
     "iopub.execute_input": "2021-03-10T22:13:39.227475Z",
     "iopub.status.busy": "2021-03-10T22:13:39.226989Z",
     "iopub.status.idle": "2021-03-10T22:13:39.243705Z",
     "shell.execute_reply": "2021-03-10T22:13:39.243195Z"
    }
   },
   "outputs": [],
   "source": [
    "tz = pytz.timezone(\"America/New_York\")"
   ]
  },
  {
   "cell_type": "code",
   "execution_count": 16,
   "metadata": {
    "execution": {
     "iopub.execute_input": "2021-03-10T22:13:39.247540Z",
     "iopub.status.busy": "2021-03-10T22:13:39.246444Z",
     "iopub.status.idle": "2021-03-10T22:13:39.248175Z",
     "shell.execute_reply": "2021-03-10T22:13:39.248576Z"
    }
   },
   "outputs": [],
   "source": [
    "today = datetime.now(tz).date()"
   ]
  },
  {
   "cell_type": "code",
   "execution_count": 17,
   "metadata": {
    "execution": {
     "iopub.execute_input": "2021-03-10T22:13:39.252810Z",
     "iopub.status.busy": "2021-03-10T22:13:39.251603Z",
     "iopub.status.idle": "2021-03-10T22:13:39.253407Z",
     "shell.execute_reply": "2021-03-10T22:13:39.253803Z"
    }
   },
   "outputs": [],
   "source": [
    "data_dir = os.path.join(os.path.abspath(\"\"), \"data\")"
   ]
  },
  {
   "cell_type": "code",
   "execution_count": 18,
   "metadata": {
    "execution": {
     "iopub.execute_input": "2021-03-10T22:13:39.257932Z",
     "iopub.status.busy": "2021-03-10T22:13:39.256845Z",
     "iopub.status.idle": "2021-03-10T22:13:39.261214Z",
     "shell.execute_reply": "2021-03-10T22:13:39.260697Z"
    }
   },
   "outputs": [],
   "source": [
    "df.to_csv(os.path.join(data_dir, f\"{today}.csv\"), index=False)"
   ]
  },
  {
   "cell_type": "code",
   "execution_count": null,
   "metadata": {},
   "outputs": [],
   "source": []
  }
 ],
 "metadata": {
  "kernelspec": {
   "display_name": "Python 3",
   "language": "python",
   "name": "python3"
  },
  "language_info": {
   "codemirror_mode": {
    "name": "ipython",
    "version": 3
   },
   "file_extension": ".py",
   "mimetype": "text/x-python",
   "name": "python",
   "nbconvert_exporter": "python",
   "pygments_lexer": "ipython3",
   "version": "3.8.8"
  }
 },
 "nbformat": 4,
 "nbformat_minor": 4
}
