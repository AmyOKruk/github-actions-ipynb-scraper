{
 "cells": [
  {
   "cell_type": "markdown",
   "metadata": {},
   "source": [
    "# California COVID vaccinations scrape"
   ]
  },
  {
   "cell_type": "markdown",
   "metadata": {},
   "source": [
    "By [Amy O'Kruk](https://twitter.com/amyokruk)"
   ]
  },
  {
   "cell_type": "markdown",
   "metadata": {},
   "source": [
    "Downloads data on vaccine doses administered by county and statewide from a Tableau-powered dashboard from the California Department of Public Health."
   ]
  },
  {
   "cell_type": "code",
   "execution_count": 1,
   "metadata": {
    "execution": {
     "iopub.execute_input": "2021-03-21T05:15:09.830532Z",
     "iopub.status.busy": "2021-03-21T05:15:09.829075Z",
     "iopub.status.idle": "2021-03-21T05:15:10.258795Z",
     "shell.execute_reply": "2021-03-21T05:15:10.259260Z"
    }
   },
   "outputs": [],
   "source": [
    "import pandas as pd\n",
    "import requests\n",
    "from bs4 import BeautifulSoup\n",
    "import json\n",
    "import re\n",
    "import time\n",
    "from time import gmtime, strftime \n",
    "import os\n",
    "import pytz\n",
    "from datetime import datetime"
   ]
  },
  {
   "cell_type": "markdown",
   "metadata": {},
   "source": [
    "Scrape the dashboard page"
   ]
  },
  {
   "cell_type": "code",
   "execution_count": 2,
   "metadata": {
    "execution": {
     "iopub.execute_input": "2021-03-21T05:15:10.266254Z",
     "iopub.status.busy": "2021-03-21T05:15:10.263171Z",
     "iopub.status.idle": "2021-03-21T05:15:10.820594Z",
     "shell.execute_reply": "2021-03-21T05:15:10.819628Z"
    }
   },
   "outputs": [],
   "source": [
    "url = \"https://public.tableau.com/interactive/views/COVID-19VaccineDashboardPublic/Vaccine?:embed=y&:showVizHome=n&:apiID=host0\"\n",
    "\n",
    "r = requests.get(url)\n",
    "soup = BeautifulSoup(r.text, \"html.parser\")"
   ]
  },
  {
   "cell_type": "code",
   "execution_count": 3,
   "metadata": {
    "execution": {
     "iopub.execute_input": "2021-03-21T05:15:10.828240Z",
     "iopub.status.busy": "2021-03-21T05:15:10.825093Z",
     "iopub.status.idle": "2021-03-21T05:15:10.833355Z",
     "shell.execute_reply": "2021-03-21T05:15:10.834418Z"
    }
   },
   "outputs": [],
   "source": [
    "tableauData = json.loads(soup.find(\"textarea\",{\"id\": \"tsConfigContainer\"}).text)"
   ]
  },
  {
   "cell_type": "markdown",
   "metadata": {},
   "source": [
    "Get the link to the Tableau data"
   ]
  },
  {
   "cell_type": "code",
   "execution_count": 4,
   "metadata": {
    "execution": {
     "iopub.execute_input": "2021-03-21T05:15:10.838237Z",
     "iopub.status.busy": "2021-03-21T05:15:10.837661Z",
     "iopub.status.idle": "2021-03-21T05:15:10.841759Z",
     "shell.execute_reply": "2021-03-21T05:15:10.841204Z"
    }
   },
   "outputs": [],
   "source": [
    "dataUrl = f'https://public.tableau.com{tableauData[\"vizql_root\"]}/bootstrapSession/sessions/{tableauData[\"sessionid\"]}'"
   ]
  },
  {
   "cell_type": "code",
   "execution_count": 5,
   "metadata": {
    "execution": {
     "iopub.execute_input": "2021-03-21T05:15:10.847991Z",
     "iopub.status.busy": "2021-03-21T05:15:10.846366Z",
     "iopub.status.idle": "2021-03-21T05:15:11.106241Z",
     "shell.execute_reply": "2021-03-21T05:15:11.106790Z"
    }
   },
   "outputs": [],
   "source": [
    "r = requests.post(dataUrl, data= {\n",
    "    \"sheet_id\": tableauData[\"sheetId\"],\n",
    "})\n",
    "\n",
    "dataReg = re.search('\\d+;({.*})\\d+;({.*})', r.text, re.MULTILINE)\n",
    "data1 = json.loads(dataReg.group(2))\n",
    "\n",
    "dataJson = data1[\"secondaryInfo\"][\"presModelMap\"][\"dataDictionary\"][\"presModelHolder\"][\"genDataDictionaryPresModel\"][\"dataSegments\"][\"0\"][\"dataColumns\"]"
   ]
  },
  {
   "cell_type": "markdown",
   "metadata": {},
   "source": [
    "Isolate what you want"
   ]
  },
  {
   "cell_type": "code",
   "execution_count": 6,
   "metadata": {
    "execution": {
     "iopub.execute_input": "2021-03-21T05:15:11.111319Z",
     "iopub.status.busy": "2021-03-21T05:15:11.110696Z",
     "iopub.status.idle": "2021-03-21T05:15:11.114491Z",
     "shell.execute_reply": "2021-03-21T05:15:11.115131Z"
    }
   },
   "outputs": [],
   "source": [
    "counties = dataJson[2]['dataValues'][:58]"
   ]
  },
  {
   "cell_type": "code",
   "execution_count": 7,
   "metadata": {
    "execution": {
     "iopub.execute_input": "2021-03-21T05:15:11.119535Z",
     "iopub.status.busy": "2021-03-21T05:15:11.118911Z",
     "iopub.status.idle": "2021-03-21T05:15:11.122214Z",
     "shell.execute_reply": "2021-03-21T05:15:11.122744Z"
    }
   },
   "outputs": [],
   "source": [
    "doses = dataJson[0]['dataValues'][3:61]"
   ]
  },
  {
   "cell_type": "markdown",
   "metadata": {},
   "source": [
    "Data formatting"
   ]
  },
  {
   "cell_type": "code",
   "execution_count": 8,
   "metadata": {
    "execution": {
     "iopub.execute_input": "2021-03-21T05:15:11.129875Z",
     "iopub.status.busy": "2021-03-21T05:15:11.128455Z",
     "iopub.status.idle": "2021-03-21T05:15:11.133568Z",
     "shell.execute_reply": "2021-03-21T05:15:11.134182Z"
    }
   },
   "outputs": [],
   "source": [
    "zipped = dict(zip(counties, doses))"
   ]
  },
  {
   "cell_type": "code",
   "execution_count": 9,
   "metadata": {
    "execution": {
     "iopub.execute_input": "2021-03-21T05:15:11.144218Z",
     "iopub.status.busy": "2021-03-21T05:15:11.136546Z",
     "iopub.status.idle": "2021-03-21T05:15:11.147965Z",
     "shell.execute_reply": "2021-03-21T05:15:11.147380Z"
    }
   },
   "outputs": [],
   "source": [
    "df = pd.Series(zipped).reset_index()"
   ]
  },
  {
   "cell_type": "code",
   "execution_count": 10,
   "metadata": {
    "execution": {
     "iopub.execute_input": "2021-03-21T05:15:11.152359Z",
     "iopub.status.busy": "2021-03-21T05:15:11.151738Z",
     "iopub.status.idle": "2021-03-21T05:15:11.155121Z",
     "shell.execute_reply": "2021-03-21T05:15:11.155646Z"
    }
   },
   "outputs": [],
   "source": [
    "df.columns = ['location','doses']"
   ]
  },
  {
   "cell_type": "markdown",
   "metadata": {},
   "source": [
    "Grab the overall California total"
   ]
  },
  {
   "cell_type": "code",
   "execution_count": 11,
   "metadata": {
    "execution": {
     "iopub.execute_input": "2021-03-21T05:15:11.160155Z",
     "iopub.status.busy": "2021-03-21T05:15:11.159469Z",
     "iopub.status.idle": "2021-03-21T05:15:11.164912Z",
     "shell.execute_reply": "2021-03-21T05:15:11.163855Z"
    }
   },
   "outputs": [],
   "source": [
    "add = {'location':'California','doses':dataJson[0]['dataValues'][2]}"
   ]
  },
  {
   "cell_type": "code",
   "execution_count": 12,
   "metadata": {
    "execution": {
     "iopub.execute_input": "2021-03-21T05:15:11.172201Z",
     "iopub.status.busy": "2021-03-21T05:15:11.171581Z",
     "iopub.status.idle": "2021-03-21T05:15:11.175504Z",
     "shell.execute_reply": "2021-03-21T05:15:11.174957Z"
    }
   },
   "outputs": [],
   "source": [
    "df = df.append(add, ignore_index=True)"
   ]
  },
  {
   "cell_type": "code",
   "execution_count": 13,
   "metadata": {
    "execution": {
     "iopub.execute_input": "2021-03-21T05:15:11.180443Z",
     "iopub.status.busy": "2021-03-21T05:15:11.179823Z",
     "iopub.status.idle": "2021-03-21T05:15:11.183773Z",
     "shell.execute_reply": "2021-03-21T05:15:11.183220Z"
    }
   },
   "outputs": [],
   "source": [
    "df = df.sort_values(by='location')"
   ]
  },
  {
   "cell_type": "code",
   "execution_count": 14,
   "metadata": {
    "execution": {
     "iopub.execute_input": "2021-03-21T05:15:11.190301Z",
     "iopub.status.busy": "2021-03-21T05:15:11.189679Z",
     "iopub.status.idle": "2021-03-21T05:15:11.194302Z",
     "shell.execute_reply": "2021-03-21T05:15:11.193779Z"
    }
   },
   "outputs": [],
   "source": [
    "df = df[df.location == 'California'].append(df[df.location != 'California']).reset_index(drop=True)"
   ]
  },
  {
   "cell_type": "code",
   "execution_count": null,
   "metadata": {},
   "outputs": [],
   "source": []
  },
  {
   "cell_type": "code",
   "execution_count": 15,
   "metadata": {
    "execution": {
     "iopub.execute_input": "2021-03-21T05:15:11.198165Z",
     "iopub.status.busy": "2021-03-21T05:15:11.197516Z",
     "iopub.status.idle": "2021-03-21T05:15:11.222882Z",
     "shell.execute_reply": "2021-03-21T05:15:11.222165Z"
    }
   },
   "outputs": [],
   "source": [
    "tz = pytz.timezone(\"America/New_York\")"
   ]
  },
  {
   "cell_type": "code",
   "execution_count": 16,
   "metadata": {
    "execution": {
     "iopub.execute_input": "2021-03-21T05:15:11.227021Z",
     "iopub.status.busy": "2021-03-21T05:15:11.226402Z",
     "iopub.status.idle": "2021-03-21T05:15:11.229808Z",
     "shell.execute_reply": "2021-03-21T05:15:11.230339Z"
    }
   },
   "outputs": [],
   "source": [
    "today = datetime.now(tz).date()"
   ]
  },
  {
   "cell_type": "code",
   "execution_count": 17,
   "metadata": {
    "execution": {
     "iopub.execute_input": "2021-03-21T05:15:11.234273Z",
     "iopub.status.busy": "2021-03-21T05:15:11.233647Z",
     "iopub.status.idle": "2021-03-21T05:15:11.237216Z",
     "shell.execute_reply": "2021-03-21T05:15:11.237773Z"
    }
   },
   "outputs": [],
   "source": [
    "data_dir = os.path.join(os.path.abspath(\"\"), \"data\")"
   ]
  },
  {
   "cell_type": "code",
   "execution_count": 18,
   "metadata": {
    "execution": {
     "iopub.execute_input": "2021-03-21T05:15:11.245218Z",
     "iopub.status.busy": "2021-03-21T05:15:11.244574Z",
     "iopub.status.idle": "2021-03-21T05:15:11.262896Z",
     "shell.execute_reply": "2021-03-21T05:15:11.262348Z"
    }
   },
   "outputs": [],
   "source": [
    "df.to_csv(os.path.join(data_dir, f\"{today}.csv\"), index=False)"
   ]
  },
  {
   "cell_type": "code",
   "execution_count": null,
   "metadata": {},
   "outputs": [],
   "source": []
  }
 ],
 "metadata": {
  "kernelspec": {
   "display_name": "Python 3",
   "language": "python",
   "name": "python3"
  },
  "language_info": {
   "codemirror_mode": {
    "name": "ipython",
    "version": 3
   },
   "file_extension": ".py",
   "mimetype": "text/x-python",
   "name": "python",
   "nbconvert_exporter": "python",
   "pygments_lexer": "ipython3",
   "version": "3.8.8"
  }
 },
 "nbformat": 4,
 "nbformat_minor": 4
}
