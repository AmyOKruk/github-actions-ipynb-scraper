{
 "cells": [
  {
   "cell_type": "markdown",
   "metadata": {},
   "source": [
    "# California COVID vaccinations scrape"
   ]
  },
  {
   "cell_type": "markdown",
   "metadata": {},
   "source": [
    "By [Amy O'Kruk](https://twitter.com/amyokruk)"
   ]
  },
  {
   "cell_type": "markdown",
   "metadata": {},
   "source": [
    "Downloads data on vaccine doses administered by county and statewide from a Tableau-powered dashboard from the California Department of Public Health."
   ]
  },
  {
   "cell_type": "code",
   "execution_count": 1,
   "metadata": {
    "execution": {
     "iopub.execute_input": "2021-03-18T08:46:23.174212Z",
     "iopub.status.busy": "2021-03-18T08:46:23.173257Z",
     "iopub.status.idle": "2021-03-18T08:46:23.702327Z",
     "shell.execute_reply": "2021-03-18T08:46:23.701741Z"
    }
   },
   "outputs": [],
   "source": [
    "import pandas as pd\n",
    "import requests\n",
    "from bs4 import BeautifulSoup\n",
    "import json\n",
    "import re\n",
    "import time\n",
    "from time import gmtime, strftime \n",
    "import os\n",
    "import pytz\n",
    "from datetime import datetime"
   ]
  },
  {
   "cell_type": "markdown",
   "metadata": {},
   "source": [
    "Scrape the dashboard page"
   ]
  },
  {
   "cell_type": "code",
   "execution_count": 2,
   "metadata": {
    "execution": {
     "iopub.execute_input": "2021-03-18T08:46:23.708724Z",
     "iopub.status.busy": "2021-03-18T08:46:23.708173Z",
     "iopub.status.idle": "2021-03-18T08:46:24.119338Z",
     "shell.execute_reply": "2021-03-18T08:46:24.118538Z"
    }
   },
   "outputs": [],
   "source": [
    "url = \"https://public.tableau.com/interactive/views/COVID-19VaccineDashboardPublic/Vaccine?:embed=y&:showVizHome=n&:apiID=host0\"\n",
    "\n",
    "r = requests.get(url)\n",
    "soup = BeautifulSoup(r.text, \"html.parser\")"
   ]
  },
  {
   "cell_type": "code",
   "execution_count": 3,
   "metadata": {
    "execution": {
     "iopub.execute_input": "2021-03-18T08:46:24.124384Z",
     "iopub.status.busy": "2021-03-18T08:46:24.123831Z",
     "iopub.status.idle": "2021-03-18T08:46:24.127395Z",
     "shell.execute_reply": "2021-03-18T08:46:24.126673Z"
    }
   },
   "outputs": [],
   "source": [
    "tableauData = json.loads(soup.find(\"textarea\",{\"id\": \"tsConfigContainer\"}).text)"
   ]
  },
  {
   "cell_type": "markdown",
   "metadata": {},
   "source": [
    "Get the link to the Tableau data"
   ]
  },
  {
   "cell_type": "code",
   "execution_count": 4,
   "metadata": {
    "execution": {
     "iopub.execute_input": "2021-03-18T08:46:24.131811Z",
     "iopub.status.busy": "2021-03-18T08:46:24.130661Z",
     "iopub.status.idle": "2021-03-18T08:46:24.132526Z",
     "shell.execute_reply": "2021-03-18T08:46:24.132955Z"
    }
   },
   "outputs": [],
   "source": [
    "dataUrl = f'https://public.tableau.com{tableauData[\"vizql_root\"]}/bootstrapSession/sessions/{tableauData[\"sessionid\"]}'"
   ]
  },
  {
   "cell_type": "code",
   "execution_count": 5,
   "metadata": {
    "execution": {
     "iopub.execute_input": "2021-03-18T08:46:24.139810Z",
     "iopub.status.busy": "2021-03-18T08:46:24.139277Z",
     "iopub.status.idle": "2021-03-18T08:46:24.824979Z",
     "shell.execute_reply": "2021-03-18T08:46:24.823882Z"
    }
   },
   "outputs": [],
   "source": [
    "r = requests.post(dataUrl, data= {\n",
    "    \"sheet_id\": tableauData[\"sheetId\"],\n",
    "})\n",
    "\n",
    "dataReg = re.search('\\d+;({.*})\\d+;({.*})', r.text, re.MULTILINE)\n",
    "data1 = json.loads(dataReg.group(2))\n",
    "\n",
    "dataJson = data1[\"secondaryInfo\"][\"presModelMap\"][\"dataDictionary\"][\"presModelHolder\"][\"genDataDictionaryPresModel\"][\"dataSegments\"][\"0\"][\"dataColumns\"]"
   ]
  },
  {
   "cell_type": "markdown",
   "metadata": {},
   "source": [
    "Isolate what you want"
   ]
  },
  {
   "cell_type": "code",
   "execution_count": 6,
   "metadata": {
    "execution": {
     "iopub.execute_input": "2021-03-18T08:46:24.828579Z",
     "iopub.status.busy": "2021-03-18T08:46:24.828051Z",
     "iopub.status.idle": "2021-03-18T08:46:24.830522Z",
     "shell.execute_reply": "2021-03-18T08:46:24.829753Z"
    }
   },
   "outputs": [],
   "source": [
    "counties = dataJson[2]['dataValues'][:58]"
   ]
  },
  {
   "cell_type": "code",
   "execution_count": 7,
   "metadata": {
    "execution": {
     "iopub.execute_input": "2021-03-18T08:46:24.835234Z",
     "iopub.status.busy": "2021-03-18T08:46:24.833867Z",
     "iopub.status.idle": "2021-03-18T08:46:24.835889Z",
     "shell.execute_reply": "2021-03-18T08:46:24.836418Z"
    }
   },
   "outputs": [],
   "source": [
    "doses = dataJson[0]['dataValues'][3:61]"
   ]
  },
  {
   "cell_type": "markdown",
   "metadata": {},
   "source": [
    "Data formatting"
   ]
  },
  {
   "cell_type": "code",
   "execution_count": 8,
   "metadata": {
    "execution": {
     "iopub.execute_input": "2021-03-18T08:46:24.840854Z",
     "iopub.status.busy": "2021-03-18T08:46:24.839622Z",
     "iopub.status.idle": "2021-03-18T08:46:24.841442Z",
     "shell.execute_reply": "2021-03-18T08:46:24.841872Z"
    }
   },
   "outputs": [],
   "source": [
    "zipped = dict(zip(counties, doses))"
   ]
  },
  {
   "cell_type": "code",
   "execution_count": 9,
   "metadata": {
    "execution": {
     "iopub.execute_input": "2021-03-18T08:46:24.848652Z",
     "iopub.status.busy": "2021-03-18T08:46:24.847103Z",
     "iopub.status.idle": "2021-03-18T08:46:24.849725Z",
     "shell.execute_reply": "2021-03-18T08:46:24.850480Z"
    }
   },
   "outputs": [],
   "source": [
    "df = pd.Series(zipped).reset_index()"
   ]
  },
  {
   "cell_type": "code",
   "execution_count": 10,
   "metadata": {
    "execution": {
     "iopub.execute_input": "2021-03-18T08:46:24.855917Z",
     "iopub.status.busy": "2021-03-18T08:46:24.855125Z",
     "iopub.status.idle": "2021-03-18T08:46:24.856481Z",
     "shell.execute_reply": "2021-03-18T08:46:24.856898Z"
    }
   },
   "outputs": [],
   "source": [
    "df.columns = ['location','doses']"
   ]
  },
  {
   "cell_type": "markdown",
   "metadata": {},
   "source": [
    "Grab the overall California total"
   ]
  },
  {
   "cell_type": "code",
   "execution_count": 11,
   "metadata": {
    "execution": {
     "iopub.execute_input": "2021-03-18T08:46:24.861204Z",
     "iopub.status.busy": "2021-03-18T08:46:24.860100Z",
     "iopub.status.idle": "2021-03-18T08:46:24.861793Z",
     "shell.execute_reply": "2021-03-18T08:46:24.862212Z"
    }
   },
   "outputs": [],
   "source": [
    "add = {'location':'California','doses':dataJson[0]['dataValues'][2]}"
   ]
  },
  {
   "cell_type": "code",
   "execution_count": 12,
   "metadata": {
    "execution": {
     "iopub.execute_input": "2021-03-18T08:46:24.869244Z",
     "iopub.status.busy": "2021-03-18T08:46:24.868078Z",
     "iopub.status.idle": "2021-03-18T08:46:24.869829Z",
     "shell.execute_reply": "2021-03-18T08:46:24.870261Z"
    }
   },
   "outputs": [],
   "source": [
    "df = df.append(add, ignore_index=True)"
   ]
  },
  {
   "cell_type": "code",
   "execution_count": 13,
   "metadata": {
    "execution": {
     "iopub.execute_input": "2021-03-18T08:46:24.875257Z",
     "iopub.status.busy": "2021-03-18T08:46:24.874095Z",
     "iopub.status.idle": "2021-03-18T08:46:24.875966Z",
     "shell.execute_reply": "2021-03-18T08:46:24.876399Z"
    }
   },
   "outputs": [],
   "source": [
    "df = df.sort_values(by='location')"
   ]
  },
  {
   "cell_type": "code",
   "execution_count": 14,
   "metadata": {
    "execution": {
     "iopub.execute_input": "2021-03-18T08:46:24.882687Z",
     "iopub.status.busy": "2021-03-18T08:46:24.881583Z",
     "iopub.status.idle": "2021-03-18T08:46:24.883275Z",
     "shell.execute_reply": "2021-03-18T08:46:24.883696Z"
    }
   },
   "outputs": [],
   "source": [
    "df = df[df.location == 'California'].append(df[df.location != 'California']).reset_index(drop=True)"
   ]
  },
  {
   "cell_type": "code",
   "execution_count": null,
   "metadata": {},
   "outputs": [],
   "source": []
  },
  {
   "cell_type": "code",
   "execution_count": 15,
   "metadata": {
    "execution": {
     "iopub.execute_input": "2021-03-18T08:46:24.886971Z",
     "iopub.status.busy": "2021-03-18T08:46:24.886465Z",
     "iopub.status.idle": "2021-03-18T08:46:24.905314Z",
     "shell.execute_reply": "2021-03-18T08:46:24.904813Z"
    }
   },
   "outputs": [],
   "source": [
    "tz = pytz.timezone(\"America/New_York\")"
   ]
  },
  {
   "cell_type": "code",
   "execution_count": 16,
   "metadata": {
    "execution": {
     "iopub.execute_input": "2021-03-18T08:46:24.909696Z",
     "iopub.status.busy": "2021-03-18T08:46:24.908466Z",
     "iopub.status.idle": "2021-03-18T08:46:24.910283Z",
     "shell.execute_reply": "2021-03-18T08:46:24.910757Z"
    }
   },
   "outputs": [],
   "source": [
    "today = datetime.now(tz).date()"
   ]
  },
  {
   "cell_type": "code",
   "execution_count": 17,
   "metadata": {
    "execution": {
     "iopub.execute_input": "2021-03-18T08:46:24.915321Z",
     "iopub.status.busy": "2021-03-18T08:46:24.914064Z",
     "iopub.status.idle": "2021-03-18T08:46:24.915924Z",
     "shell.execute_reply": "2021-03-18T08:46:24.916357Z"
    }
   },
   "outputs": [],
   "source": [
    "data_dir = os.path.join(os.path.abspath(\"\"), \"data\")"
   ]
  },
  {
   "cell_type": "code",
   "execution_count": 18,
   "metadata": {
    "execution": {
     "iopub.execute_input": "2021-03-18T08:46:24.920643Z",
     "iopub.status.busy": "2021-03-18T08:46:24.919471Z",
     "iopub.status.idle": "2021-03-18T08:46:24.924183Z",
     "shell.execute_reply": "2021-03-18T08:46:24.923624Z"
    }
   },
   "outputs": [],
   "source": [
    "df.to_csv(os.path.join(data_dir, f\"{today}.csv\"), index=False)"
   ]
  },
  {
   "cell_type": "code",
   "execution_count": null,
   "metadata": {},
   "outputs": [],
   "source": []
  }
 ],
 "metadata": {
  "kernelspec": {
   "display_name": "Python 3",
   "language": "python",
   "name": "python3"
  },
  "language_info": {
   "codemirror_mode": {
    "name": "ipython",
    "version": 3
   },
   "file_extension": ".py",
   "mimetype": "text/x-python",
   "name": "python",
   "nbconvert_exporter": "python",
   "pygments_lexer": "ipython3",
   "version": "3.8.8"
  }
 },
 "nbformat": 4,
 "nbformat_minor": 4
}
