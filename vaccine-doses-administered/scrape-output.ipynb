{
 "cells": [
  {
   "cell_type": "markdown",
   "metadata": {},
   "source": [
    "# California COVID vaccinations scrape"
   ]
  },
  {
   "cell_type": "markdown",
   "metadata": {},
   "source": [
    "By [Amy O'Kruk](https://twitter.com/amyokruk)"
   ]
  },
  {
   "cell_type": "markdown",
   "metadata": {},
   "source": [
    "Downloads data on vaccine doses administered by county and statewide from a Tableau-powered dashboard from the California Department of Public Health."
   ]
  },
  {
   "cell_type": "code",
   "execution_count": 1,
   "metadata": {
    "execution": {
     "iopub.execute_input": "2021-03-12T13:41:09.903272Z",
     "iopub.status.busy": "2021-03-12T13:41:09.902491Z",
     "iopub.status.idle": "2021-03-12T13:41:10.259465Z",
     "shell.execute_reply": "2021-03-12T13:41:10.258369Z"
    }
   },
   "outputs": [],
   "source": [
    "import pandas as pd\n",
    "import requests\n",
    "from bs4 import BeautifulSoup\n",
    "import json\n",
    "import re\n",
    "import time\n",
    "from time import gmtime, strftime \n",
    "import os\n",
    "import pytz\n",
    "from datetime import datetime"
   ]
  },
  {
   "cell_type": "markdown",
   "metadata": {},
   "source": [
    "Scrape the dashboard page"
   ]
  },
  {
   "cell_type": "code",
   "execution_count": 2,
   "metadata": {
    "execution": {
     "iopub.execute_input": "2021-03-12T13:41:10.265841Z",
     "iopub.status.busy": "2021-03-12T13:41:10.265300Z",
     "iopub.status.idle": "2021-03-12T13:41:10.642997Z",
     "shell.execute_reply": "2021-03-12T13:41:10.642178Z"
    }
   },
   "outputs": [],
   "source": [
    "url = \"https://public.tableau.com/interactive/views/COVID-19VaccineDashboardPublic/Vaccine?:embed=y&:showVizHome=n&:apiID=host0\"\n",
    "\n",
    "r = requests.get(url)\n",
    "soup = BeautifulSoup(r.text, \"html.parser\")"
   ]
  },
  {
   "cell_type": "code",
   "execution_count": 3,
   "metadata": {
    "execution": {
     "iopub.execute_input": "2021-03-12T13:41:10.647550Z",
     "iopub.status.busy": "2021-03-12T13:41:10.647065Z",
     "iopub.status.idle": "2021-03-12T13:41:10.650739Z",
     "shell.execute_reply": "2021-03-12T13:41:10.650308Z"
    }
   },
   "outputs": [],
   "source": [
    "tableauData = json.loads(soup.find(\"textarea\",{\"id\": \"tsConfigContainer\"}).text)"
   ]
  },
  {
   "cell_type": "markdown",
   "metadata": {},
   "source": [
    "Get the link to the Tableau data"
   ]
  },
  {
   "cell_type": "code",
   "execution_count": 4,
   "metadata": {
    "execution": {
     "iopub.execute_input": "2021-03-12T13:41:10.654405Z",
     "iopub.status.busy": "2021-03-12T13:41:10.653536Z",
     "iopub.status.idle": "2021-03-12T13:41:10.655117Z",
     "shell.execute_reply": "2021-03-12T13:41:10.655514Z"
    }
   },
   "outputs": [],
   "source": [
    "dataUrl = f'https://public.tableau.com{tableauData[\"vizql_root\"]}/bootstrapSession/sessions/{tableauData[\"sessionid\"]}'"
   ]
  },
  {
   "cell_type": "code",
   "execution_count": 5,
   "metadata": {
    "execution": {
     "iopub.execute_input": "2021-03-12T13:41:10.661028Z",
     "iopub.status.busy": "2021-03-12T13:41:10.660543Z",
     "iopub.status.idle": "2021-03-12T13:41:10.830553Z",
     "shell.execute_reply": "2021-03-12T13:41:10.830005Z"
    }
   },
   "outputs": [],
   "source": [
    "r = requests.post(dataUrl, data= {\n",
    "    \"sheet_id\": tableauData[\"sheetId\"],\n",
    "})\n",
    "\n",
    "dataReg = re.search('\\d+;({.*})\\d+;({.*})', r.text, re.MULTILINE)\n",
    "data1 = json.loads(dataReg.group(2))\n",
    "\n",
    "dataJson = data1[\"secondaryInfo\"][\"presModelMap\"][\"dataDictionary\"][\"presModelHolder\"][\"genDataDictionaryPresModel\"][\"dataSegments\"][\"0\"][\"dataColumns\"]"
   ]
  },
  {
   "cell_type": "markdown",
   "metadata": {},
   "source": [
    "Isolate what you want"
   ]
  },
  {
   "cell_type": "code",
   "execution_count": 6,
   "metadata": {
    "execution": {
     "iopub.execute_input": "2021-03-12T13:41:10.834301Z",
     "iopub.status.busy": "2021-03-12T13:41:10.833550Z",
     "iopub.status.idle": "2021-03-12T13:41:10.835431Z",
     "shell.execute_reply": "2021-03-12T13:41:10.835037Z"
    }
   },
   "outputs": [],
   "source": [
    "counties = dataJson[2]['dataValues'][:58]"
   ]
  },
  {
   "cell_type": "code",
   "execution_count": 7,
   "metadata": {
    "execution": {
     "iopub.execute_input": "2021-03-12T13:41:10.839491Z",
     "iopub.status.busy": "2021-03-12T13:41:10.838149Z",
     "iopub.status.idle": "2021-03-12T13:41:10.840073Z",
     "shell.execute_reply": "2021-03-12T13:41:10.840504Z"
    }
   },
   "outputs": [],
   "source": [
    "doses = dataJson[0]['dataValues'][3:61]"
   ]
  },
  {
   "cell_type": "markdown",
   "metadata": {},
   "source": [
    "Data formatting"
   ]
  },
  {
   "cell_type": "code",
   "execution_count": 8,
   "metadata": {
    "execution": {
     "iopub.execute_input": "2021-03-12T13:41:10.844029Z",
     "iopub.status.busy": "2021-03-12T13:41:10.843248Z",
     "iopub.status.idle": "2021-03-12T13:41:10.845338Z",
     "shell.execute_reply": "2021-03-12T13:41:10.844938Z"
    }
   },
   "outputs": [],
   "source": [
    "zipped = dict(zip(counties, doses))"
   ]
  },
  {
   "cell_type": "code",
   "execution_count": 9,
   "metadata": {
    "execution": {
     "iopub.execute_input": "2021-03-12T13:41:10.851634Z",
     "iopub.status.busy": "2021-03-12T13:41:10.850444Z",
     "iopub.status.idle": "2021-03-12T13:41:10.852189Z",
     "shell.execute_reply": "2021-03-12T13:41:10.852580Z"
    }
   },
   "outputs": [],
   "source": [
    "df = pd.Series(zipped).reset_index()"
   ]
  },
  {
   "cell_type": "code",
   "execution_count": 10,
   "metadata": {
    "execution": {
     "iopub.execute_input": "2021-03-12T13:41:10.856631Z",
     "iopub.status.busy": "2021-03-12T13:41:10.855703Z",
     "iopub.status.idle": "2021-03-12T13:41:10.857414Z",
     "shell.execute_reply": "2021-03-12T13:41:10.857830Z"
    }
   },
   "outputs": [],
   "source": [
    "df.columns = ['location','doses']"
   ]
  },
  {
   "cell_type": "markdown",
   "metadata": {},
   "source": [
    "Grab the overall California total"
   ]
  },
  {
   "cell_type": "code",
   "execution_count": 11,
   "metadata": {
    "execution": {
     "iopub.execute_input": "2021-03-12T13:41:10.861988Z",
     "iopub.status.busy": "2021-03-12T13:41:10.860902Z",
     "iopub.status.idle": "2021-03-12T13:41:10.862616Z",
     "shell.execute_reply": "2021-03-12T13:41:10.863012Z"
    }
   },
   "outputs": [],
   "source": [
    "add = {'location':'California','doses':dataJson[0]['dataValues'][2]}"
   ]
  },
  {
   "cell_type": "code",
   "execution_count": 12,
   "metadata": {
    "execution": {
     "iopub.execute_input": "2021-03-12T13:41:10.869705Z",
     "iopub.status.busy": "2021-03-12T13:41:10.868495Z",
     "iopub.status.idle": "2021-03-12T13:41:10.870310Z",
     "shell.execute_reply": "2021-03-12T13:41:10.870727Z"
    }
   },
   "outputs": [],
   "source": [
    "df = df.append(add, ignore_index=True)"
   ]
  },
  {
   "cell_type": "code",
   "execution_count": 13,
   "metadata": {
    "execution": {
     "iopub.execute_input": "2021-03-12T13:41:10.875226Z",
     "iopub.status.busy": "2021-03-12T13:41:10.874384Z",
     "iopub.status.idle": "2021-03-12T13:41:10.876068Z",
     "shell.execute_reply": "2021-03-12T13:41:10.876493Z"
    }
   },
   "outputs": [],
   "source": [
    "df = df.sort_values(by='location')"
   ]
  },
  {
   "cell_type": "code",
   "execution_count": 14,
   "metadata": {
    "execution": {
     "iopub.execute_input": "2021-03-12T13:41:10.882376Z",
     "iopub.status.busy": "2021-03-12T13:41:10.881375Z",
     "iopub.status.idle": "2021-03-12T13:41:10.883155Z",
     "shell.execute_reply": "2021-03-12T13:41:10.883551Z"
    }
   },
   "outputs": [],
   "source": [
    "df = df[df.location == 'California'].append(df[df.location != 'California']).reset_index(drop=True)"
   ]
  },
  {
   "cell_type": "code",
   "execution_count": null,
   "metadata": {},
   "outputs": [],
   "source": []
  },
  {
   "cell_type": "code",
   "execution_count": 15,
   "metadata": {
    "execution": {
     "iopub.execute_input": "2021-03-12T13:41:10.886787Z",
     "iopub.status.busy": "2021-03-12T13:41:10.886310Z",
     "iopub.status.idle": "2021-03-12T13:41:10.902616Z",
     "shell.execute_reply": "2021-03-12T13:41:10.902123Z"
    }
   },
   "outputs": [],
   "source": [
    "tz = pytz.timezone(\"America/New_York\")"
   ]
  },
  {
   "cell_type": "code",
   "execution_count": 16,
   "metadata": {
    "execution": {
     "iopub.execute_input": "2021-03-12T13:41:10.906688Z",
     "iopub.status.busy": "2021-03-12T13:41:10.905507Z",
     "iopub.status.idle": "2021-03-12T13:41:10.907268Z",
     "shell.execute_reply": "2021-03-12T13:41:10.907693Z"
    }
   },
   "outputs": [],
   "source": [
    "today = datetime.now(tz).date()"
   ]
  },
  {
   "cell_type": "code",
   "execution_count": 17,
   "metadata": {
    "execution": {
     "iopub.execute_input": "2021-03-12T13:41:10.911463Z",
     "iopub.status.busy": "2021-03-12T13:41:10.910702Z",
     "iopub.status.idle": "2021-03-12T13:41:10.912439Z",
     "shell.execute_reply": "2021-03-12T13:41:10.912837Z"
    }
   },
   "outputs": [],
   "source": [
    "data_dir = os.path.join(os.path.abspath(\"\"), \"data\")"
   ]
  },
  {
   "cell_type": "code",
   "execution_count": 18,
   "metadata": {
    "execution": {
     "iopub.execute_input": "2021-03-12T13:41:10.916709Z",
     "iopub.status.busy": "2021-03-12T13:41:10.915600Z",
     "iopub.status.idle": "2021-03-12T13:41:10.920670Z",
     "shell.execute_reply": "2021-03-12T13:41:10.920183Z"
    }
   },
   "outputs": [],
   "source": [
    "df.to_csv(os.path.join(data_dir, f\"{today}.csv\"), index=False)"
   ]
  },
  {
   "cell_type": "code",
   "execution_count": null,
   "metadata": {},
   "outputs": [],
   "source": []
  }
 ],
 "metadata": {
  "kernelspec": {
   "display_name": "Python 3",
   "language": "python",
   "name": "python3"
  },
  "language_info": {
   "codemirror_mode": {
    "name": "ipython",
    "version": 3
   },
   "file_extension": ".py",
   "mimetype": "text/x-python",
   "name": "python",
   "nbconvert_exporter": "python",
   "pygments_lexer": "ipython3",
   "version": "3.8.8"
  }
 },
 "nbformat": 4,
 "nbformat_minor": 4
}
