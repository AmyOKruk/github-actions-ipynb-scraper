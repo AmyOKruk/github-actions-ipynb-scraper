{
 "cells": [
  {
   "cell_type": "markdown",
   "metadata": {},
   "source": [
    "# California COVID vaccinations scrape"
   ]
  },
  {
   "cell_type": "markdown",
   "metadata": {},
   "source": [
    "By [Amy O'Kruk](https://twitter.com/amyokruk)"
   ]
  },
  {
   "cell_type": "markdown",
   "metadata": {},
   "source": [
    "Downloads data on vaccine doses administered by county and statewide from a Tableau-powered dashboard from the California Department of Public Health."
   ]
  },
  {
   "cell_type": "code",
   "execution_count": 1,
   "metadata": {
    "execution": {
     "iopub.execute_input": "2021-03-11T06:44:22.769322Z",
     "iopub.status.busy": "2021-03-11T06:44:22.768691Z",
     "iopub.status.idle": "2021-03-11T06:44:23.254397Z",
     "shell.execute_reply": "2021-03-11T06:44:23.253458Z"
    }
   },
   "outputs": [],
   "source": [
    "import pandas as pd\n",
    "import requests\n",
    "from bs4 import BeautifulSoup\n",
    "import json\n",
    "import re\n",
    "import time\n",
    "from time import gmtime, strftime \n",
    "import os\n",
    "import pytz\n",
    "from datetime import datetime"
   ]
  },
  {
   "cell_type": "markdown",
   "metadata": {},
   "source": [
    "Scrape the dashboard page"
   ]
  },
  {
   "cell_type": "code",
   "execution_count": 2,
   "metadata": {
    "execution": {
     "iopub.execute_input": "2021-03-11T06:44:23.262940Z",
     "iopub.status.busy": "2021-03-11T06:44:23.262383Z",
     "iopub.status.idle": "2021-03-11T06:44:23.548884Z",
     "shell.execute_reply": "2021-03-11T06:44:23.548392Z"
    }
   },
   "outputs": [],
   "source": [
    "url = \"https://public.tableau.com/interactive/views/COVID-19VaccineDashboardPublic/Vaccine?:embed=y&:showVizHome=n&:apiID=host0\"\n",
    "\n",
    "r = requests.get(url)\n",
    "soup = BeautifulSoup(r.text, \"html.parser\")"
   ]
  },
  {
   "cell_type": "code",
   "execution_count": 3,
   "metadata": {
    "execution": {
     "iopub.execute_input": "2021-03-11T06:44:23.554665Z",
     "iopub.status.busy": "2021-03-11T06:44:23.553380Z",
     "iopub.status.idle": "2021-03-11T06:44:23.555265Z",
     "shell.execute_reply": "2021-03-11T06:44:23.555729Z"
    }
   },
   "outputs": [],
   "source": [
    "tableauData = json.loads(soup.find(\"textarea\",{\"id\": \"tsConfigContainer\"}).text)"
   ]
  },
  {
   "cell_type": "markdown",
   "metadata": {},
   "source": [
    "Get the link to the Tableau data"
   ]
  },
  {
   "cell_type": "code",
   "execution_count": 4,
   "metadata": {
    "execution": {
     "iopub.execute_input": "2021-03-11T06:44:23.560150Z",
     "iopub.status.busy": "2021-03-11T06:44:23.558929Z",
     "iopub.status.idle": "2021-03-11T06:44:23.560812Z",
     "shell.execute_reply": "2021-03-11T06:44:23.561242Z"
    }
   },
   "outputs": [],
   "source": [
    "dataUrl = f'https://public.tableau.com{tableauData[\"vizql_root\"]}/bootstrapSession/sessions/{tableauData[\"sessionid\"]}'"
   ]
  },
  {
   "cell_type": "code",
   "execution_count": 5,
   "metadata": {
    "execution": {
     "iopub.execute_input": "2021-03-11T06:44:23.568226Z",
     "iopub.status.busy": "2021-03-11T06:44:23.567686Z",
     "iopub.status.idle": "2021-03-11T06:44:23.903915Z",
     "shell.execute_reply": "2021-03-11T06:44:23.903121Z"
    }
   },
   "outputs": [],
   "source": [
    "r = requests.post(dataUrl, data= {\n",
    "    \"sheet_id\": tableauData[\"sheetId\"],\n",
    "})\n",
    "\n",
    "dataReg = re.search('\\d+;({.*})\\d+;({.*})', r.text, re.MULTILINE)\n",
    "data1 = json.loads(dataReg.group(2))\n",
    "\n",
    "dataJson = data1[\"secondaryInfo\"][\"presModelMap\"][\"dataDictionary\"][\"presModelHolder\"][\"genDataDictionaryPresModel\"][\"dataSegments\"][\"0\"][\"dataColumns\"]"
   ]
  },
  {
   "cell_type": "markdown",
   "metadata": {},
   "source": [
    "Isolate what you want"
   ]
  },
  {
   "cell_type": "code",
   "execution_count": 6,
   "metadata": {
    "execution": {
     "iopub.execute_input": "2021-03-11T06:44:23.909938Z",
     "iopub.status.busy": "2021-03-11T06:44:23.907526Z",
     "iopub.status.idle": "2021-03-11T06:44:23.910668Z",
     "shell.execute_reply": "2021-03-11T06:44:23.911111Z"
    }
   },
   "outputs": [],
   "source": [
    "counties = dataJson[2]['dataValues'][:58]"
   ]
  },
  {
   "cell_type": "code",
   "execution_count": 7,
   "metadata": {
    "execution": {
     "iopub.execute_input": "2021-03-11T06:44:23.914920Z",
     "iopub.status.busy": "2021-03-11T06:44:23.914399Z",
     "iopub.status.idle": "2021-03-11T06:44:23.917009Z",
     "shell.execute_reply": "2021-03-11T06:44:23.916562Z"
    }
   },
   "outputs": [],
   "source": [
    "doses = dataJson[0]['dataValues'][3:61]"
   ]
  },
  {
   "cell_type": "markdown",
   "metadata": {},
   "source": [
    "Data formatting"
   ]
  },
  {
   "cell_type": "code",
   "execution_count": 8,
   "metadata": {
    "execution": {
     "iopub.execute_input": "2021-03-11T06:44:23.921049Z",
     "iopub.status.busy": "2021-03-11T06:44:23.920151Z",
     "iopub.status.idle": "2021-03-11T06:44:23.922474Z",
     "shell.execute_reply": "2021-03-11T06:44:23.921935Z"
    }
   },
   "outputs": [],
   "source": [
    "zipped = dict(zip(counties, doses))"
   ]
  },
  {
   "cell_type": "code",
   "execution_count": 9,
   "metadata": {
    "execution": {
     "iopub.execute_input": "2021-03-11T06:44:23.929357Z",
     "iopub.status.busy": "2021-03-11T06:44:23.928071Z",
     "iopub.status.idle": "2021-03-11T06:44:23.929968Z",
     "shell.execute_reply": "2021-03-11T06:44:23.930396Z"
    }
   },
   "outputs": [],
   "source": [
    "df = pd.Series(zipped).reset_index()"
   ]
  },
  {
   "cell_type": "code",
   "execution_count": 10,
   "metadata": {
    "execution": {
     "iopub.execute_input": "2021-03-11T06:44:23.934909Z",
     "iopub.status.busy": "2021-03-11T06:44:23.933738Z",
     "iopub.status.idle": "2021-03-11T06:44:23.935602Z",
     "shell.execute_reply": "2021-03-11T06:44:23.936044Z"
    }
   },
   "outputs": [],
   "source": [
    "df.columns = ['location','doses']"
   ]
  },
  {
   "cell_type": "markdown",
   "metadata": {},
   "source": [
    "Grab the overall California total"
   ]
  },
  {
   "cell_type": "code",
   "execution_count": 11,
   "metadata": {
    "execution": {
     "iopub.execute_input": "2021-03-11T06:44:23.939881Z",
     "iopub.status.busy": "2021-03-11T06:44:23.939338Z",
     "iopub.status.idle": "2021-03-11T06:44:23.941797Z",
     "shell.execute_reply": "2021-03-11T06:44:23.941348Z"
    }
   },
   "outputs": [],
   "source": [
    "add = {'location':'California','doses':dataJson[0]['dataValues'][2]}"
   ]
  },
  {
   "cell_type": "code",
   "execution_count": 12,
   "metadata": {
    "execution": {
     "iopub.execute_input": "2021-03-11T06:44:23.949355Z",
     "iopub.status.busy": "2021-03-11T06:44:23.947847Z",
     "iopub.status.idle": "2021-03-11T06:44:23.949941Z",
     "shell.execute_reply": "2021-03-11T06:44:23.950368Z"
    }
   },
   "outputs": [],
   "source": [
    "df = df.append(add, ignore_index=True)"
   ]
  },
  {
   "cell_type": "code",
   "execution_count": 13,
   "metadata": {
    "execution": {
     "iopub.execute_input": "2021-03-11T06:44:23.959493Z",
     "iopub.status.busy": "2021-03-11T06:44:23.954251Z",
     "iopub.status.idle": "2021-03-11T06:44:23.960275Z",
     "shell.execute_reply": "2021-03-11T06:44:23.960725Z"
    }
   },
   "outputs": [],
   "source": [
    "df = df.sort_values(by='location')"
   ]
  },
  {
   "cell_type": "code",
   "execution_count": 14,
   "metadata": {
    "execution": {
     "iopub.execute_input": "2021-03-11T06:44:23.967218Z",
     "iopub.status.busy": "2021-03-11T06:44:23.966119Z",
     "iopub.status.idle": "2021-03-11T06:44:23.967838Z",
     "shell.execute_reply": "2021-03-11T06:44:23.968271Z"
    }
   },
   "outputs": [],
   "source": [
    "df = df[df.location == 'California'].append(df[df.location != 'California']).reset_index(drop=True)"
   ]
  },
  {
   "cell_type": "code",
   "execution_count": null,
   "metadata": {},
   "outputs": [],
   "source": []
  },
  {
   "cell_type": "code",
   "execution_count": 15,
   "metadata": {
    "execution": {
     "iopub.execute_input": "2021-03-11T06:44:23.973963Z",
     "iopub.status.busy": "2021-03-11T06:44:23.973446Z",
     "iopub.status.idle": "2021-03-11T06:44:23.991396Z",
     "shell.execute_reply": "2021-03-11T06:44:23.990952Z"
    }
   },
   "outputs": [],
   "source": [
    "tz = pytz.timezone(\"America/New_York\")"
   ]
  },
  {
   "cell_type": "code",
   "execution_count": 16,
   "metadata": {
    "execution": {
     "iopub.execute_input": "2021-03-11T06:44:23.995679Z",
     "iopub.status.busy": "2021-03-11T06:44:23.994474Z",
     "iopub.status.idle": "2021-03-11T06:44:23.996352Z",
     "shell.execute_reply": "2021-03-11T06:44:23.996785Z"
    }
   },
   "outputs": [],
   "source": [
    "today = datetime.now(tz).date()"
   ]
  },
  {
   "cell_type": "code",
   "execution_count": 17,
   "metadata": {
    "execution": {
     "iopub.execute_input": "2021-03-11T06:44:24.001137Z",
     "iopub.status.busy": "2021-03-11T06:44:23.999913Z",
     "iopub.status.idle": "2021-03-11T06:44:24.002179Z",
     "shell.execute_reply": "2021-03-11T06:44:24.002633Z"
    }
   },
   "outputs": [],
   "source": [
    "data_dir = os.path.join(os.path.abspath(\"\"), \"data\")"
   ]
  },
  {
   "cell_type": "code",
   "execution_count": 18,
   "metadata": {
    "execution": {
     "iopub.execute_input": "2021-03-11T06:44:24.007005Z",
     "iopub.status.busy": "2021-03-11T06:44:24.005818Z",
     "iopub.status.idle": "2021-03-11T06:44:24.075405Z",
     "shell.execute_reply": "2021-03-11T06:44:24.075903Z"
    }
   },
   "outputs": [],
   "source": [
    "df.to_csv(os.path.join(data_dir, f\"{today}.csv\"), index=False)"
   ]
  },
  {
   "cell_type": "code",
   "execution_count": null,
   "metadata": {},
   "outputs": [],
   "source": []
  }
 ],
 "metadata": {
  "kernelspec": {
   "display_name": "Python 3",
   "language": "python",
   "name": "python3"
  },
  "language_info": {
   "codemirror_mode": {
    "name": "ipython",
    "version": 3
   },
   "file_extension": ".py",
   "mimetype": "text/x-python",
   "name": "python",
   "nbconvert_exporter": "python",
   "pygments_lexer": "ipython3",
   "version": "3.8.8"
  }
 },
 "nbformat": 4,
 "nbformat_minor": 4
}
