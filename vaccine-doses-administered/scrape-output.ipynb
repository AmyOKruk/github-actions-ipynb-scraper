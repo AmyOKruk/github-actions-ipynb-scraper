{
 "cells": [
  {
   "cell_type": "markdown",
   "metadata": {},
   "source": [
    "# California COVID vaccinations scrape"
   ]
  },
  {
   "cell_type": "markdown",
   "metadata": {},
   "source": [
    "By [Amy O'Kruk](https://twitter.com/amyokruk)"
   ]
  },
  {
   "cell_type": "markdown",
   "metadata": {},
   "source": [
    "Downloads data on vaccine doses administered by county and statewide from a Tableau-powered dashboard from the California Department of Public Health."
   ]
  },
  {
   "cell_type": "code",
   "execution_count": 1,
   "metadata": {
    "execution": {
     "iopub.execute_input": "2021-03-17T11:12:21.221786Z",
     "iopub.status.busy": "2021-03-17T11:12:21.220722Z",
     "iopub.status.idle": "2021-03-17T11:12:21.653659Z",
     "shell.execute_reply": "2021-03-17T11:12:21.652627Z"
    }
   },
   "outputs": [],
   "source": [
    "import pandas as pd\n",
    "import requests\n",
    "from bs4 import BeautifulSoup\n",
    "import json\n",
    "import re\n",
    "import time\n",
    "from time import gmtime, strftime \n",
    "import os\n",
    "import pytz\n",
    "from datetime import datetime"
   ]
  },
  {
   "cell_type": "markdown",
   "metadata": {},
   "source": [
    "Scrape the dashboard page"
   ]
  },
  {
   "cell_type": "code",
   "execution_count": 2,
   "metadata": {
    "execution": {
     "iopub.execute_input": "2021-03-17T11:12:21.660521Z",
     "iopub.status.busy": "2021-03-17T11:12:21.657644Z",
     "iopub.status.idle": "2021-03-17T11:12:21.966137Z",
     "shell.execute_reply": "2021-03-17T11:12:21.965595Z"
    }
   },
   "outputs": [],
   "source": [
    "url = \"https://public.tableau.com/interactive/views/COVID-19VaccineDashboardPublic/Vaccine?:embed=y&:showVizHome=n&:apiID=host0\"\n",
    "\n",
    "r = requests.get(url)\n",
    "soup = BeautifulSoup(r.text, \"html.parser\")"
   ]
  },
  {
   "cell_type": "code",
   "execution_count": 3,
   "metadata": {
    "execution": {
     "iopub.execute_input": "2021-03-17T11:12:21.971684Z",
     "iopub.status.busy": "2021-03-17T11:12:21.970670Z",
     "iopub.status.idle": "2021-03-17T11:12:21.974275Z",
     "shell.execute_reply": "2021-03-17T11:12:21.973744Z"
    }
   },
   "outputs": [],
   "source": [
    "tableauData = json.loads(soup.find(\"textarea\",{\"id\": \"tsConfigContainer\"}).text)"
   ]
  },
  {
   "cell_type": "markdown",
   "metadata": {},
   "source": [
    "Get the link to the Tableau data"
   ]
  },
  {
   "cell_type": "code",
   "execution_count": 4,
   "metadata": {
    "execution": {
     "iopub.execute_input": "2021-03-17T11:12:21.978207Z",
     "iopub.status.busy": "2021-03-17T11:12:21.977600Z",
     "iopub.status.idle": "2021-03-17T11:12:21.981708Z",
     "shell.execute_reply": "2021-03-17T11:12:21.981100Z"
    }
   },
   "outputs": [],
   "source": [
    "dataUrl = f'https://public.tableau.com{tableauData[\"vizql_root\"]}/bootstrapSession/sessions/{tableauData[\"sessionid\"]}'"
   ]
  },
  {
   "cell_type": "code",
   "execution_count": 5,
   "metadata": {
    "execution": {
     "iopub.execute_input": "2021-03-17T11:12:21.989139Z",
     "iopub.status.busy": "2021-03-17T11:12:21.988393Z",
     "iopub.status.idle": "2021-03-17T11:12:22.154599Z",
     "shell.execute_reply": "2021-03-17T11:12:22.153507Z"
    }
   },
   "outputs": [],
   "source": [
    "r = requests.post(dataUrl, data= {\n",
    "    \"sheet_id\": tableauData[\"sheetId\"],\n",
    "})\n",
    "\n",
    "dataReg = re.search('\\d+;({.*})\\d+;({.*})', r.text, re.MULTILINE)\n",
    "data1 = json.loads(dataReg.group(2))\n",
    "\n",
    "dataJson = data1[\"secondaryInfo\"][\"presModelMap\"][\"dataDictionary\"][\"presModelHolder\"][\"genDataDictionaryPresModel\"][\"dataSegments\"][\"0\"][\"dataColumns\"]"
   ]
  },
  {
   "cell_type": "markdown",
   "metadata": {},
   "source": [
    "Isolate what you want"
   ]
  },
  {
   "cell_type": "code",
   "execution_count": 6,
   "metadata": {
    "execution": {
     "iopub.execute_input": "2021-03-17T11:12:22.158980Z",
     "iopub.status.busy": "2021-03-17T11:12:22.158355Z",
     "iopub.status.idle": "2021-03-17T11:12:22.162618Z",
     "shell.execute_reply": "2021-03-17T11:12:22.162049Z"
    }
   },
   "outputs": [],
   "source": [
    "counties = dataJson[2]['dataValues'][:58]"
   ]
  },
  {
   "cell_type": "code",
   "execution_count": 7,
   "metadata": {
    "execution": {
     "iopub.execute_input": "2021-03-17T11:12:22.166756Z",
     "iopub.status.busy": "2021-03-17T11:12:22.166089Z",
     "iopub.status.idle": "2021-03-17T11:12:22.170626Z",
     "shell.execute_reply": "2021-03-17T11:12:22.169948Z"
    }
   },
   "outputs": [],
   "source": [
    "doses = dataJson[0]['dataValues'][3:61]"
   ]
  },
  {
   "cell_type": "markdown",
   "metadata": {},
   "source": [
    "Data formatting"
   ]
  },
  {
   "cell_type": "code",
   "execution_count": 8,
   "metadata": {
    "execution": {
     "iopub.execute_input": "2021-03-17T11:12:22.174748Z",
     "iopub.status.busy": "2021-03-17T11:12:22.174107Z",
     "iopub.status.idle": "2021-03-17T11:12:22.177660Z",
     "shell.execute_reply": "2021-03-17T11:12:22.178142Z"
    }
   },
   "outputs": [],
   "source": [
    "zipped = dict(zip(counties, doses))"
   ]
  },
  {
   "cell_type": "code",
   "execution_count": 9,
   "metadata": {
    "execution": {
     "iopub.execute_input": "2021-03-17T11:12:22.184899Z",
     "iopub.status.busy": "2021-03-17T11:12:22.184285Z",
     "iopub.status.idle": "2021-03-17T11:12:22.187787Z",
     "shell.execute_reply": "2021-03-17T11:12:22.188254Z"
    }
   },
   "outputs": [],
   "source": [
    "df = pd.Series(zipped).reset_index()"
   ]
  },
  {
   "cell_type": "code",
   "execution_count": 10,
   "metadata": {
    "execution": {
     "iopub.execute_input": "2021-03-17T11:12:22.192578Z",
     "iopub.status.busy": "2021-03-17T11:12:22.191985Z",
     "iopub.status.idle": "2021-03-17T11:12:22.196278Z",
     "shell.execute_reply": "2021-03-17T11:12:22.195707Z"
    }
   },
   "outputs": [],
   "source": [
    "df.columns = ['location','doses']"
   ]
  },
  {
   "cell_type": "markdown",
   "metadata": {},
   "source": [
    "Grab the overall California total"
   ]
  },
  {
   "cell_type": "code",
   "execution_count": 11,
   "metadata": {
    "execution": {
     "iopub.execute_input": "2021-03-17T11:12:22.201624Z",
     "iopub.status.busy": "2021-03-17T11:12:22.200165Z",
     "iopub.status.idle": "2021-03-17T11:12:22.202307Z",
     "shell.execute_reply": "2021-03-17T11:12:22.202857Z"
    }
   },
   "outputs": [],
   "source": [
    "add = {'location':'California','doses':dataJson[0]['dataValues'][2]}"
   ]
  },
  {
   "cell_type": "code",
   "execution_count": 12,
   "metadata": {
    "execution": {
     "iopub.execute_input": "2021-03-17T11:12:22.211469Z",
     "iopub.status.busy": "2021-03-17T11:12:22.209972Z",
     "iopub.status.idle": "2021-03-17T11:12:22.212195Z",
     "shell.execute_reply": "2021-03-17T11:12:22.212753Z"
    }
   },
   "outputs": [],
   "source": [
    "df = df.append(add, ignore_index=True)"
   ]
  },
  {
   "cell_type": "code",
   "execution_count": 13,
   "metadata": {
    "execution": {
     "iopub.execute_input": "2021-03-17T11:12:22.218362Z",
     "iopub.status.busy": "2021-03-17T11:12:22.217052Z",
     "iopub.status.idle": "2021-03-17T11:12:22.219054Z",
     "shell.execute_reply": "2021-03-17T11:12:22.219549Z"
    }
   },
   "outputs": [],
   "source": [
    "df = df.sort_values(by='location')"
   ]
  },
  {
   "cell_type": "code",
   "execution_count": 14,
   "metadata": {
    "execution": {
     "iopub.execute_input": "2021-03-17T11:12:22.227440Z",
     "iopub.status.busy": "2021-03-17T11:12:22.225982Z",
     "iopub.status.idle": "2021-03-17T11:12:22.228096Z",
     "shell.execute_reply": "2021-03-17T11:12:22.228594Z"
    }
   },
   "outputs": [],
   "source": [
    "df = df[df.location == 'California'].append(df[df.location != 'California']).reset_index(drop=True)"
   ]
  },
  {
   "cell_type": "code",
   "execution_count": null,
   "metadata": {},
   "outputs": [],
   "source": []
  },
  {
   "cell_type": "code",
   "execution_count": 15,
   "metadata": {
    "execution": {
     "iopub.execute_input": "2021-03-17T11:12:22.232554Z",
     "iopub.status.busy": "2021-03-17T11:12:22.231966Z",
     "iopub.status.idle": "2021-03-17T11:12:22.253797Z",
     "shell.execute_reply": "2021-03-17T11:12:22.253200Z"
    }
   },
   "outputs": [],
   "source": [
    "tz = pytz.timezone(\"America/New_York\")"
   ]
  },
  {
   "cell_type": "code",
   "execution_count": 16,
   "metadata": {
    "execution": {
     "iopub.execute_input": "2021-03-17T11:12:22.259351Z",
     "iopub.status.busy": "2021-03-17T11:12:22.257799Z",
     "iopub.status.idle": "2021-03-17T11:12:22.260026Z",
     "shell.execute_reply": "2021-03-17T11:12:22.260554Z"
    }
   },
   "outputs": [],
   "source": [
    "today = datetime.now(tz).date()"
   ]
  },
  {
   "cell_type": "code",
   "execution_count": 17,
   "metadata": {
    "execution": {
     "iopub.execute_input": "2021-03-17T11:12:22.265765Z",
     "iopub.status.busy": "2021-03-17T11:12:22.264247Z",
     "iopub.status.idle": "2021-03-17T11:12:22.266432Z",
     "shell.execute_reply": "2021-03-17T11:12:22.266964Z"
    }
   },
   "outputs": [],
   "source": [
    "data_dir = os.path.join(os.path.abspath(\"\"), \"data\")"
   ]
  },
  {
   "cell_type": "code",
   "execution_count": 18,
   "metadata": {
    "execution": {
     "iopub.execute_input": "2021-03-17T11:12:22.273465Z",
     "iopub.status.busy": "2021-03-17T11:12:22.270762Z",
     "iopub.status.idle": "2021-03-17T11:12:22.276404Z",
     "shell.execute_reply": "2021-03-17T11:12:22.275771Z"
    }
   },
   "outputs": [],
   "source": [
    "df.to_csv(os.path.join(data_dir, f\"{today}.csv\"), index=False)"
   ]
  },
  {
   "cell_type": "code",
   "execution_count": null,
   "metadata": {},
   "outputs": [],
   "source": []
  }
 ],
 "metadata": {
  "kernelspec": {
   "display_name": "Python 3",
   "language": "python",
   "name": "python3"
  },
  "language_info": {
   "codemirror_mode": {
    "name": "ipython",
    "version": 3
   },
   "file_extension": ".py",
   "mimetype": "text/x-python",
   "name": "python",
   "nbconvert_exporter": "python",
   "pygments_lexer": "ipython3",
   "version": "3.8.8"
  }
 },
 "nbformat": 4,
 "nbformat_minor": 4
}
