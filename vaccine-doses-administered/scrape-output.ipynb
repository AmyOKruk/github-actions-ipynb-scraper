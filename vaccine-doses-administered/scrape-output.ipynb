{
 "cells": [
  {
   "cell_type": "markdown",
   "metadata": {},
   "source": [
    "# California COVID vaccinations scrape"
   ]
  },
  {
   "cell_type": "markdown",
   "metadata": {},
   "source": [
    "By [Amy O'Kruk](https://twitter.com/amyokruk)"
   ]
  },
  {
   "cell_type": "markdown",
   "metadata": {},
   "source": [
    "Downloads data on vaccine doses administered by county and statewide from a Tableau-powered dashboard from the California Department of Public Health."
   ]
  },
  {
   "cell_type": "code",
   "execution_count": 1,
   "metadata": {
    "execution": {
     "iopub.execute_input": "2021-03-12T16:19:58.154325Z",
     "iopub.status.busy": "2021-03-12T16:19:58.152907Z",
     "iopub.status.idle": "2021-03-12T16:19:58.691209Z",
     "shell.execute_reply": "2021-03-12T16:19:58.691783Z"
    }
   },
   "outputs": [],
   "source": [
    "import pandas as pd\n",
    "import requests\n",
    "from bs4 import BeautifulSoup\n",
    "import json\n",
    "import re\n",
    "import time\n",
    "from time import gmtime, strftime \n",
    "import os\n",
    "import pytz\n",
    "from datetime import datetime"
   ]
  },
  {
   "cell_type": "markdown",
   "metadata": {},
   "source": [
    "Scrape the dashboard page"
   ]
  },
  {
   "cell_type": "code",
   "execution_count": 2,
   "metadata": {
    "execution": {
     "iopub.execute_input": "2021-03-12T16:19:58.699868Z",
     "iopub.status.busy": "2021-03-12T16:19:58.696966Z",
     "iopub.status.idle": "2021-03-12T16:19:59.003999Z",
     "shell.execute_reply": "2021-03-12T16:19:59.003420Z"
    }
   },
   "outputs": [],
   "source": [
    "url = \"https://public.tableau.com/interactive/views/COVID-19VaccineDashboardPublic/Vaccine?:embed=y&:showVizHome=n&:apiID=host0\"\n",
    "\n",
    "r = requests.get(url)\n",
    "soup = BeautifulSoup(r.text, \"html.parser\")"
   ]
  },
  {
   "cell_type": "code",
   "execution_count": 3,
   "metadata": {
    "execution": {
     "iopub.execute_input": "2021-03-12T16:19:59.009213Z",
     "iopub.status.busy": "2021-03-12T16:19:59.008630Z",
     "iopub.status.idle": "2021-03-12T16:19:59.012248Z",
     "shell.execute_reply": "2021-03-12T16:19:59.012747Z"
    }
   },
   "outputs": [],
   "source": [
    "tableauData = json.loads(soup.find(\"textarea\",{\"id\": \"tsConfigContainer\"}).text)"
   ]
  },
  {
   "cell_type": "markdown",
   "metadata": {},
   "source": [
    "Get the link to the Tableau data"
   ]
  },
  {
   "cell_type": "code",
   "execution_count": 4,
   "metadata": {
    "execution": {
     "iopub.execute_input": "2021-03-12T16:19:59.017620Z",
     "iopub.status.busy": "2021-03-12T16:19:59.016583Z",
     "iopub.status.idle": "2021-03-12T16:19:59.019387Z",
     "shell.execute_reply": "2021-03-12T16:19:59.018770Z"
    }
   },
   "outputs": [],
   "source": [
    "dataUrl = f'https://public.tableau.com{tableauData[\"vizql_root\"]}/bootstrapSession/sessions/{tableauData[\"sessionid\"]}'"
   ]
  },
  {
   "cell_type": "code",
   "execution_count": 5,
   "metadata": {
    "execution": {
     "iopub.execute_input": "2021-03-12T16:19:59.026846Z",
     "iopub.status.busy": "2021-03-12T16:19:59.026222Z",
     "iopub.status.idle": "2021-03-12T16:19:59.189485Z",
     "shell.execute_reply": "2021-03-12T16:19:59.188946Z"
    }
   },
   "outputs": [],
   "source": [
    "r = requests.post(dataUrl, data= {\n",
    "    \"sheet_id\": tableauData[\"sheetId\"],\n",
    "})\n",
    "\n",
    "dataReg = re.search('\\d+;({.*})\\d+;({.*})', r.text, re.MULTILINE)\n",
    "data1 = json.loads(dataReg.group(2))\n",
    "\n",
    "dataJson = data1[\"secondaryInfo\"][\"presModelMap\"][\"dataDictionary\"][\"presModelHolder\"][\"genDataDictionaryPresModel\"][\"dataSegments\"][\"0\"][\"dataColumns\"]"
   ]
  },
  {
   "cell_type": "markdown",
   "metadata": {},
   "source": [
    "Isolate what you want"
   ]
  },
  {
   "cell_type": "code",
   "execution_count": 6,
   "metadata": {
    "execution": {
     "iopub.execute_input": "2021-03-12T16:19:59.194573Z",
     "iopub.status.busy": "2021-03-12T16:19:59.193089Z",
     "iopub.status.idle": "2021-03-12T16:19:59.195289Z",
     "shell.execute_reply": "2021-03-12T16:19:59.195828Z"
    }
   },
   "outputs": [],
   "source": [
    "counties = dataJson[2]['dataValues'][:58]"
   ]
  },
  {
   "cell_type": "code",
   "execution_count": 7,
   "metadata": {
    "execution": {
     "iopub.execute_input": "2021-03-12T16:19:59.200639Z",
     "iopub.status.busy": "2021-03-12T16:19:59.199207Z",
     "iopub.status.idle": "2021-03-12T16:19:59.201263Z",
     "shell.execute_reply": "2021-03-12T16:19:59.201739Z"
    }
   },
   "outputs": [],
   "source": [
    "doses = dataJson[0]['dataValues'][3:61]"
   ]
  },
  {
   "cell_type": "markdown",
   "metadata": {},
   "source": [
    "Data formatting"
   ]
  },
  {
   "cell_type": "code",
   "execution_count": 8,
   "metadata": {
    "execution": {
     "iopub.execute_input": "2021-03-12T16:19:59.206289Z",
     "iopub.status.busy": "2021-03-12T16:19:59.205234Z",
     "iopub.status.idle": "2021-03-12T16:19:59.207308Z",
     "shell.execute_reply": "2021-03-12T16:19:59.207868Z"
    }
   },
   "outputs": [],
   "source": [
    "zipped = dict(zip(counties, doses))"
   ]
  },
  {
   "cell_type": "code",
   "execution_count": 9,
   "metadata": {
    "execution": {
     "iopub.execute_input": "2021-03-12T16:19:59.215925Z",
     "iopub.status.busy": "2021-03-12T16:19:59.214089Z",
     "iopub.status.idle": "2021-03-12T16:19:59.216633Z",
     "shell.execute_reply": "2021-03-12T16:19:59.217172Z"
    }
   },
   "outputs": [],
   "source": [
    "df = pd.Series(zipped).reset_index()"
   ]
  },
  {
   "cell_type": "code",
   "execution_count": 10,
   "metadata": {
    "execution": {
     "iopub.execute_input": "2021-03-12T16:19:59.221675Z",
     "iopub.status.busy": "2021-03-12T16:19:59.220986Z",
     "iopub.status.idle": "2021-03-12T16:19:59.230010Z",
     "shell.execute_reply": "2021-03-12T16:19:59.229460Z"
    }
   },
   "outputs": [],
   "source": [
    "df.columns = ['location','doses']"
   ]
  },
  {
   "cell_type": "markdown",
   "metadata": {},
   "source": [
    "Grab the overall California total"
   ]
  },
  {
   "cell_type": "code",
   "execution_count": 11,
   "metadata": {
    "execution": {
     "iopub.execute_input": "2021-03-12T16:19:59.234610Z",
     "iopub.status.busy": "2021-03-12T16:19:59.233276Z",
     "iopub.status.idle": "2021-03-12T16:19:59.235239Z",
     "shell.execute_reply": "2021-03-12T16:19:59.235719Z"
    }
   },
   "outputs": [],
   "source": [
    "add = {'location':'California','doses':dataJson[0]['dataValues'][2]}"
   ]
  },
  {
   "cell_type": "code",
   "execution_count": 12,
   "metadata": {
    "execution": {
     "iopub.execute_input": "2021-03-12T16:19:59.244127Z",
     "iopub.status.busy": "2021-03-12T16:19:59.242561Z",
     "iopub.status.idle": "2021-03-12T16:19:59.244801Z",
     "shell.execute_reply": "2021-03-12T16:19:59.245328Z"
    }
   },
   "outputs": [],
   "source": [
    "df = df.append(add, ignore_index=True)"
   ]
  },
  {
   "cell_type": "code",
   "execution_count": 13,
   "metadata": {
    "execution": {
     "iopub.execute_input": "2021-03-12T16:19:59.251007Z",
     "iopub.status.busy": "2021-03-12T16:19:59.249270Z",
     "iopub.status.idle": "2021-03-12T16:19:59.251697Z",
     "shell.execute_reply": "2021-03-12T16:19:59.252178Z"
    }
   },
   "outputs": [],
   "source": [
    "df = df.sort_values(by='location')"
   ]
  },
  {
   "cell_type": "code",
   "execution_count": 14,
   "metadata": {
    "execution": {
     "iopub.execute_input": "2021-03-12T16:19:59.258921Z",
     "iopub.status.busy": "2021-03-12T16:19:59.257619Z",
     "iopub.status.idle": "2021-03-12T16:19:59.259632Z",
     "shell.execute_reply": "2021-03-12T16:19:59.260084Z"
    }
   },
   "outputs": [],
   "source": [
    "df = df[df.location == 'California'].append(df[df.location != 'California']).reset_index(drop=True)"
   ]
  },
  {
   "cell_type": "code",
   "execution_count": null,
   "metadata": {},
   "outputs": [],
   "source": []
  },
  {
   "cell_type": "code",
   "execution_count": 15,
   "metadata": {
    "execution": {
     "iopub.execute_input": "2021-03-12T16:19:59.263812Z",
     "iopub.status.busy": "2021-03-12T16:19:59.263213Z",
     "iopub.status.idle": "2021-03-12T16:19:59.285001Z",
     "shell.execute_reply": "2021-03-12T16:19:59.284429Z"
    }
   },
   "outputs": [],
   "source": [
    "tz = pytz.timezone(\"America/New_York\")"
   ]
  },
  {
   "cell_type": "code",
   "execution_count": 16,
   "metadata": {
    "execution": {
     "iopub.execute_input": "2021-03-12T16:19:59.290594Z",
     "iopub.status.busy": "2021-03-12T16:19:59.289149Z",
     "iopub.status.idle": "2021-03-12T16:19:59.291248Z",
     "shell.execute_reply": "2021-03-12T16:19:59.291793Z"
    }
   },
   "outputs": [],
   "source": [
    "today = datetime.now(tz).date()"
   ]
  },
  {
   "cell_type": "code",
   "execution_count": 17,
   "metadata": {
    "execution": {
     "iopub.execute_input": "2021-03-12T16:19:59.296936Z",
     "iopub.status.busy": "2021-03-12T16:19:59.295336Z",
     "iopub.status.idle": "2021-03-12T16:19:59.297533Z",
     "shell.execute_reply": "2021-03-12T16:19:59.304269Z"
    }
   },
   "outputs": [],
   "source": [
    "data_dir = os.path.join(os.path.abspath(\"\"), \"data\")"
   ]
  },
  {
   "cell_type": "code",
   "execution_count": 18,
   "metadata": {
    "execution": {
     "iopub.execute_input": "2021-03-12T16:19:59.308371Z",
     "iopub.status.busy": "2021-03-12T16:19:59.307793Z",
     "iopub.status.idle": "2021-03-12T16:19:59.314436Z",
     "shell.execute_reply": "2021-03-12T16:19:59.313788Z"
    }
   },
   "outputs": [],
   "source": [
    "df.to_csv(os.path.join(data_dir, f\"{today}.csv\"), index=False)"
   ]
  },
  {
   "cell_type": "code",
   "execution_count": null,
   "metadata": {},
   "outputs": [],
   "source": []
  }
 ],
 "metadata": {
  "kernelspec": {
   "display_name": "Python 3",
   "language": "python",
   "name": "python3"
  },
  "language_info": {
   "codemirror_mode": {
    "name": "ipython",
    "version": 3
   },
   "file_extension": ".py",
   "mimetype": "text/x-python",
   "name": "python",
   "nbconvert_exporter": "python",
   "pygments_lexer": "ipython3",
   "version": "3.8.8"
  }
 },
 "nbformat": 4,
 "nbformat_minor": 4
}
