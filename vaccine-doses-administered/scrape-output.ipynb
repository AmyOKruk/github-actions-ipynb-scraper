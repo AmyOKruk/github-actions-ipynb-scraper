{
 "cells": [
  {
   "cell_type": "markdown",
   "metadata": {},
   "source": [
    "# California COVID vaccinations scrape"
   ]
  },
  {
   "cell_type": "markdown",
   "metadata": {},
   "source": [
    "By [Amy O'Kruk](https://twitter.com/amyokruk)"
   ]
  },
  {
   "cell_type": "markdown",
   "metadata": {},
   "source": [
    "Downloads data on vaccine doses administered by county and statewide from a Tableau-powered dashboard from the California Department of Public Health."
   ]
  },
  {
   "cell_type": "code",
   "execution_count": 1,
   "metadata": {
    "execution": {
     "iopub.execute_input": "2021-03-11T18:47:25.054096Z",
     "iopub.status.busy": "2021-03-11T18:47:25.053084Z",
     "iopub.status.idle": "2021-03-11T18:47:25.470421Z",
     "shell.execute_reply": "2021-03-11T18:47:25.470815Z"
    }
   },
   "outputs": [],
   "source": [
    "import pandas as pd\n",
    "import requests\n",
    "from bs4 import BeautifulSoup\n",
    "import json\n",
    "import re\n",
    "import time\n",
    "from time import gmtime, strftime \n",
    "import os\n",
    "import pytz\n",
    "from datetime import datetime"
   ]
  },
  {
   "cell_type": "markdown",
   "metadata": {},
   "source": [
    "Scrape the dashboard page"
   ]
  },
  {
   "cell_type": "code",
   "execution_count": 2,
   "metadata": {
    "execution": {
     "iopub.execute_input": "2021-03-11T18:47:25.476040Z",
     "iopub.status.busy": "2021-03-11T18:47:25.473939Z",
     "iopub.status.idle": "2021-03-11T18:47:25.776731Z",
     "shell.execute_reply": "2021-03-11T18:47:25.775929Z"
    }
   },
   "outputs": [],
   "source": [
    "url = \"https://public.tableau.com/interactive/views/COVID-19VaccineDashboardPublic/Vaccine?:embed=y&:showVizHome=n&:apiID=host0\"\n",
    "\n",
    "r = requests.get(url)\n",
    "soup = BeautifulSoup(r.text, \"html.parser\")"
   ]
  },
  {
   "cell_type": "code",
   "execution_count": 3,
   "metadata": {
    "execution": {
     "iopub.execute_input": "2021-03-11T18:47:25.781381Z",
     "iopub.status.busy": "2021-03-11T18:47:25.780766Z",
     "iopub.status.idle": "2021-03-11T18:47:25.783184Z",
     "shell.execute_reply": "2021-03-11T18:47:25.782716Z"
    }
   },
   "outputs": [],
   "source": [
    "tableauData = json.loads(soup.find(\"textarea\",{\"id\": \"tsConfigContainer\"}).text)"
   ]
  },
  {
   "cell_type": "markdown",
   "metadata": {},
   "source": [
    "Get the link to the Tableau data"
   ]
  },
  {
   "cell_type": "code",
   "execution_count": 4,
   "metadata": {
    "execution": {
     "iopub.execute_input": "2021-03-11T18:47:25.787227Z",
     "iopub.status.busy": "2021-03-11T18:47:25.786680Z",
     "iopub.status.idle": "2021-03-11T18:47:25.790403Z",
     "shell.execute_reply": "2021-03-11T18:47:25.789941Z"
    }
   },
   "outputs": [],
   "source": [
    "dataUrl = f'https://public.tableau.com{tableauData[\"vizql_root\"]}/bootstrapSession/sessions/{tableauData[\"sessionid\"]}'"
   ]
  },
  {
   "cell_type": "code",
   "execution_count": 5,
   "metadata": {
    "execution": {
     "iopub.execute_input": "2021-03-11T18:47:25.797399Z",
     "iopub.status.busy": "2021-03-11T18:47:25.796892Z",
     "iopub.status.idle": "2021-03-11T18:47:26.076702Z",
     "shell.execute_reply": "2021-03-11T18:47:26.077279Z"
    }
   },
   "outputs": [],
   "source": [
    "r = requests.post(dataUrl, data= {\n",
    "    \"sheet_id\": tableauData[\"sheetId\"],\n",
    "})\n",
    "\n",
    "dataReg = re.search('\\d+;({.*})\\d+;({.*})', r.text, re.MULTILINE)\n",
    "data1 = json.loads(dataReg.group(2))\n",
    "\n",
    "dataJson = data1[\"secondaryInfo\"][\"presModelMap\"][\"dataDictionary\"][\"presModelHolder\"][\"genDataDictionaryPresModel\"][\"dataSegments\"][\"0\"][\"dataColumns\"]"
   ]
  },
  {
   "cell_type": "markdown",
   "metadata": {},
   "source": [
    "Isolate what you want"
   ]
  },
  {
   "cell_type": "code",
   "execution_count": 6,
   "metadata": {
    "execution": {
     "iopub.execute_input": "2021-03-11T18:47:26.081959Z",
     "iopub.status.busy": "2021-03-11T18:47:26.080668Z",
     "iopub.status.idle": "2021-03-11T18:47:26.082666Z",
     "shell.execute_reply": "2021-03-11T18:47:26.083129Z"
    }
   },
   "outputs": [],
   "source": [
    "counties = dataJson[2]['dataValues'][:58]"
   ]
  },
  {
   "cell_type": "code",
   "execution_count": 7,
   "metadata": {
    "execution": {
     "iopub.execute_input": "2021-03-11T18:47:26.087412Z",
     "iopub.status.busy": "2021-03-11T18:47:26.086473Z",
     "iopub.status.idle": "2021-03-11T18:47:26.088514Z",
     "shell.execute_reply": "2021-03-11T18:47:26.089113Z"
    }
   },
   "outputs": [],
   "source": [
    "doses = dataJson[0]['dataValues'][3:61]"
   ]
  },
  {
   "cell_type": "markdown",
   "metadata": {},
   "source": [
    "Data formatting"
   ]
  },
  {
   "cell_type": "code",
   "execution_count": 8,
   "metadata": {
    "execution": {
     "iopub.execute_input": "2021-03-11T18:47:26.093920Z",
     "iopub.status.busy": "2021-03-11T18:47:26.092741Z",
     "iopub.status.idle": "2021-03-11T18:47:26.094906Z",
     "shell.execute_reply": "2021-03-11T18:47:26.095338Z"
    }
   },
   "outputs": [],
   "source": [
    "zipped = dict(zip(counties, doses))"
   ]
  },
  {
   "cell_type": "code",
   "execution_count": 9,
   "metadata": {
    "execution": {
     "iopub.execute_input": "2021-03-11T18:47:26.102427Z",
     "iopub.status.busy": "2021-03-11T18:47:26.101102Z",
     "iopub.status.idle": "2021-03-11T18:47:26.103140Z",
     "shell.execute_reply": "2021-03-11T18:47:26.103579Z"
    }
   },
   "outputs": [],
   "source": [
    "df = pd.Series(zipped).reset_index()"
   ]
  },
  {
   "cell_type": "code",
   "execution_count": 10,
   "metadata": {
    "execution": {
     "iopub.execute_input": "2021-03-11T18:47:26.108279Z",
     "iopub.status.busy": "2021-03-11T18:47:26.107127Z",
     "iopub.status.idle": "2021-03-11T18:47:26.108996Z",
     "shell.execute_reply": "2021-03-11T18:47:26.109538Z"
    }
   },
   "outputs": [],
   "source": [
    "df.columns = ['location','doses']"
   ]
  },
  {
   "cell_type": "markdown",
   "metadata": {},
   "source": [
    "Grab the overall California total"
   ]
  },
  {
   "cell_type": "code",
   "execution_count": 11,
   "metadata": {
    "execution": {
     "iopub.execute_input": "2021-03-11T18:47:26.114784Z",
     "iopub.status.busy": "2021-03-11T18:47:26.113267Z",
     "iopub.status.idle": "2021-03-11T18:47:26.115408Z",
     "shell.execute_reply": "2021-03-11T18:47:26.116458Z"
    }
   },
   "outputs": [],
   "source": [
    "add = {'location':'California','doses':dataJson[0]['dataValues'][2]}"
   ]
  },
  {
   "cell_type": "code",
   "execution_count": 12,
   "metadata": {
    "execution": {
     "iopub.execute_input": "2021-03-11T18:47:26.126300Z",
     "iopub.status.busy": "2021-03-11T18:47:26.125282Z",
     "iopub.status.idle": "2021-03-11T18:47:26.127461Z",
     "shell.execute_reply": "2021-03-11T18:47:26.127948Z"
    }
   },
   "outputs": [],
   "source": [
    "df = df.append(add, ignore_index=True)"
   ]
  },
  {
   "cell_type": "code",
   "execution_count": 13,
   "metadata": {
    "execution": {
     "iopub.execute_input": "2021-03-11T18:47:26.134120Z",
     "iopub.status.busy": "2021-03-11T18:47:26.132665Z",
     "iopub.status.idle": "2021-03-11T18:47:26.134884Z",
     "shell.execute_reply": "2021-03-11T18:47:26.135360Z"
    }
   },
   "outputs": [],
   "source": [
    "df = df.sort_values(by='location')"
   ]
  },
  {
   "cell_type": "code",
   "execution_count": 14,
   "metadata": {
    "execution": {
     "iopub.execute_input": "2021-03-11T18:47:26.142890Z",
     "iopub.status.busy": "2021-03-11T18:47:26.141447Z",
     "iopub.status.idle": "2021-03-11T18:47:26.143616Z",
     "shell.execute_reply": "2021-03-11T18:47:26.144106Z"
    }
   },
   "outputs": [],
   "source": [
    "df = df[df.location == 'California'].append(df[df.location != 'California']).reset_index(drop=True)"
   ]
  },
  {
   "cell_type": "code",
   "execution_count": null,
   "metadata": {},
   "outputs": [],
   "source": []
  },
  {
   "cell_type": "code",
   "execution_count": 15,
   "metadata": {
    "execution": {
     "iopub.execute_input": "2021-03-11T18:47:26.148323Z",
     "iopub.status.busy": "2021-03-11T18:47:26.147747Z",
     "iopub.status.idle": "2021-03-11T18:47:26.167373Z",
     "shell.execute_reply": "2021-03-11T18:47:26.167801Z"
    }
   },
   "outputs": [],
   "source": [
    "tz = pytz.timezone(\"America/New_York\")"
   ]
  },
  {
   "cell_type": "code",
   "execution_count": 16,
   "metadata": {
    "execution": {
     "iopub.execute_input": "2021-03-11T18:47:26.172667Z",
     "iopub.status.busy": "2021-03-11T18:47:26.171009Z",
     "iopub.status.idle": "2021-03-11T18:47:26.173305Z",
     "shell.execute_reply": "2021-03-11T18:47:26.173819Z"
    }
   },
   "outputs": [],
   "source": [
    "today = datetime.now(tz).date()"
   ]
  },
  {
   "cell_type": "code",
   "execution_count": 17,
   "metadata": {
    "execution": {
     "iopub.execute_input": "2021-03-11T18:47:26.179050Z",
     "iopub.status.busy": "2021-03-11T18:47:26.177420Z",
     "iopub.status.idle": "2021-03-11T18:47:26.179667Z",
     "shell.execute_reply": "2021-03-11T18:47:26.180133Z"
    }
   },
   "outputs": [],
   "source": [
    "data_dir = os.path.join(os.path.abspath(\"\"), \"data\")"
   ]
  },
  {
   "cell_type": "code",
   "execution_count": 18,
   "metadata": {
    "execution": {
     "iopub.execute_input": "2021-03-11T18:47:26.184863Z",
     "iopub.status.busy": "2021-03-11T18:47:26.183758Z",
     "iopub.status.idle": "2021-03-11T18:47:26.187977Z",
     "shell.execute_reply": "2021-03-11T18:47:26.188414Z"
    }
   },
   "outputs": [],
   "source": [
    "df.to_csv(os.path.join(data_dir, f\"{today}.csv\"), index=False)"
   ]
  },
  {
   "cell_type": "code",
   "execution_count": null,
   "metadata": {},
   "outputs": [],
   "source": []
  }
 ],
 "metadata": {
  "kernelspec": {
   "display_name": "Python 3",
   "language": "python",
   "name": "python3"
  },
  "language_info": {
   "codemirror_mode": {
    "name": "ipython",
    "version": 3
   },
   "file_extension": ".py",
   "mimetype": "text/x-python",
   "name": "python",
   "nbconvert_exporter": "python",
   "pygments_lexer": "ipython3",
   "version": "3.8.8"
  }
 },
 "nbformat": 4,
 "nbformat_minor": 4
}
