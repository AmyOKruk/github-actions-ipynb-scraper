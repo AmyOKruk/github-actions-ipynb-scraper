{
 "cells": [
  {
   "cell_type": "markdown",
   "metadata": {},
   "source": [
    "# California COVID vaccinations scrape"
   ]
  },
  {
   "cell_type": "markdown",
   "metadata": {},
   "source": [
    "By [Amy O'Kruk](https://twitter.com/amyokruk)"
   ]
  },
  {
   "cell_type": "markdown",
   "metadata": {},
   "source": [
    "Downloads data on vaccine doses administered by county and statewide from a Tableau-powered dashboard from the California Department of Public Health."
   ]
  },
  {
   "cell_type": "code",
   "execution_count": 1,
   "metadata": {
    "execution": {
     "iopub.execute_input": "2021-03-25T06:22:16.875969Z",
     "iopub.status.busy": "2021-03-25T06:22:16.874862Z",
     "iopub.status.idle": "2021-03-25T06:22:17.568526Z",
     "shell.execute_reply": "2021-03-25T06:22:17.567898Z"
    }
   },
   "outputs": [],
   "source": [
    "import pandas as pd\n",
    "import requests\n",
    "from bs4 import BeautifulSoup\n",
    "import json\n",
    "import re\n",
    "import time\n",
    "from time import gmtime, strftime \n",
    "import os\n",
    "import pytz\n",
    "from datetime import datetime"
   ]
  },
  {
   "cell_type": "markdown",
   "metadata": {},
   "source": [
    "Scrape the dashboard page"
   ]
  },
  {
   "cell_type": "code",
   "execution_count": 2,
   "metadata": {
    "execution": {
     "iopub.execute_input": "2021-03-25T06:22:17.575682Z",
     "iopub.status.busy": "2021-03-25T06:22:17.573015Z",
     "iopub.status.idle": "2021-03-25T06:22:17.938476Z",
     "shell.execute_reply": "2021-03-25T06:22:17.939020Z"
    }
   },
   "outputs": [],
   "source": [
    "url = \"https://public.tableau.com/interactive/views/COVID-19VaccineDashboardPublic/Vaccine?:embed=y&:showVizHome=n&:apiID=host0\"\n",
    "\n",
    "r = requests.get(url)\n",
    "soup = BeautifulSoup(r.text, \"html.parser\")"
   ]
  },
  {
   "cell_type": "code",
   "execution_count": 3,
   "metadata": {
    "execution": {
     "iopub.execute_input": "2021-03-25T06:22:17.945211Z",
     "iopub.status.busy": "2021-03-25T06:22:17.943848Z",
     "iopub.status.idle": "2021-03-25T06:22:17.946058Z",
     "shell.execute_reply": "2021-03-25T06:22:17.946735Z"
    }
   },
   "outputs": [],
   "source": [
    "tableauData = json.loads(soup.find(\"textarea\",{\"id\": \"tsConfigContainer\"}).text)"
   ]
  },
  {
   "cell_type": "markdown",
   "metadata": {},
   "source": [
    "Get the link to the Tableau data"
   ]
  },
  {
   "cell_type": "code",
   "execution_count": 4,
   "metadata": {
    "execution": {
     "iopub.execute_input": "2021-03-25T06:22:17.951677Z",
     "iopub.status.busy": "2021-03-25T06:22:17.950209Z",
     "iopub.status.idle": "2021-03-25T06:22:17.952496Z",
     "shell.execute_reply": "2021-03-25T06:22:17.953323Z"
    }
   },
   "outputs": [],
   "source": [
    "dataUrl = f'https://public.tableau.com{tableauData[\"vizql_root\"]}/bootstrapSession/sessions/{tableauData[\"sessionid\"]}'"
   ]
  },
  {
   "cell_type": "code",
   "execution_count": 5,
   "metadata": {
    "execution": {
     "iopub.execute_input": "2021-03-25T06:22:17.960719Z",
     "iopub.status.busy": "2021-03-25T06:22:17.960097Z",
     "iopub.status.idle": "2021-03-25T06:22:18.120522Z",
     "shell.execute_reply": "2021-03-25T06:22:18.119964Z"
    }
   },
   "outputs": [],
   "source": [
    "r = requests.post(dataUrl, data= {\n",
    "    \"sheet_id\": tableauData[\"sheetId\"],\n",
    "})\n",
    "\n",
    "dataReg = re.search('\\d+;({.*})\\d+;({.*})', r.text, re.MULTILINE)\n",
    "data1 = json.loads(dataReg.group(2))\n",
    "\n",
    "dataJson = data1[\"secondaryInfo\"][\"presModelMap\"][\"dataDictionary\"][\"presModelHolder\"][\"genDataDictionaryPresModel\"][\"dataSegments\"][\"0\"][\"dataColumns\"]"
   ]
  },
  {
   "cell_type": "markdown",
   "metadata": {},
   "source": [
    "Isolate what you want"
   ]
  },
  {
   "cell_type": "code",
   "execution_count": 6,
   "metadata": {
    "execution": {
     "iopub.execute_input": "2021-03-25T06:22:18.125741Z",
     "iopub.status.busy": "2021-03-25T06:22:18.124211Z",
     "iopub.status.idle": "2021-03-25T06:22:18.126446Z",
     "shell.execute_reply": "2021-03-25T06:22:18.126986Z"
    }
   },
   "outputs": [],
   "source": [
    "counties = dataJson[2]['dataValues'][:58]"
   ]
  },
  {
   "cell_type": "code",
   "execution_count": 7,
   "metadata": {
    "execution": {
     "iopub.execute_input": "2021-03-25T06:22:18.132081Z",
     "iopub.status.busy": "2021-03-25T06:22:18.130626Z",
     "iopub.status.idle": "2021-03-25T06:22:18.132733Z",
     "shell.execute_reply": "2021-03-25T06:22:18.133258Z"
    }
   },
   "outputs": [],
   "source": [
    "doses = dataJson[0]['dataValues'][3:61]"
   ]
  },
  {
   "cell_type": "markdown",
   "metadata": {},
   "source": [
    "Data formatting"
   ]
  },
  {
   "cell_type": "code",
   "execution_count": 8,
   "metadata": {
    "execution": {
     "iopub.execute_input": "2021-03-25T06:22:18.138242Z",
     "iopub.status.busy": "2021-03-25T06:22:18.136818Z",
     "iopub.status.idle": "2021-03-25T06:22:18.138932Z",
     "shell.execute_reply": "2021-03-25T06:22:18.139432Z"
    }
   },
   "outputs": [],
   "source": [
    "zipped = dict(zip(counties, doses))"
   ]
  },
  {
   "cell_type": "code",
   "execution_count": 9,
   "metadata": {
    "execution": {
     "iopub.execute_input": "2021-03-25T06:22:18.147069Z",
     "iopub.status.busy": "2021-03-25T06:22:18.145424Z",
     "iopub.status.idle": "2021-03-25T06:22:18.147740Z",
     "shell.execute_reply": "2021-03-25T06:22:18.148253Z"
    }
   },
   "outputs": [],
   "source": [
    "df = pd.Series(zipped).reset_index()"
   ]
  },
  {
   "cell_type": "code",
   "execution_count": 10,
   "metadata": {
    "execution": {
     "iopub.execute_input": "2021-03-25T06:22:18.153317Z",
     "iopub.status.busy": "2021-03-25T06:22:18.151867Z",
     "iopub.status.idle": "2021-03-25T06:22:18.153972Z",
     "shell.execute_reply": "2021-03-25T06:22:18.154455Z"
    }
   },
   "outputs": [],
   "source": [
    "df.columns = ['location','doses']"
   ]
  },
  {
   "cell_type": "markdown",
   "metadata": {},
   "source": [
    "Grab the overall California total"
   ]
  },
  {
   "cell_type": "code",
   "execution_count": 11,
   "metadata": {
    "execution": {
     "iopub.execute_input": "2021-03-25T06:22:18.159435Z",
     "iopub.status.busy": "2021-03-25T06:22:18.157908Z",
     "iopub.status.idle": "2021-03-25T06:22:18.160218Z",
     "shell.execute_reply": "2021-03-25T06:22:18.160676Z"
    }
   },
   "outputs": [],
   "source": [
    "add = {'location':'California','doses':dataJson[0]['dataValues'][2]}"
   ]
  },
  {
   "cell_type": "code",
   "execution_count": 12,
   "metadata": {
    "execution": {
     "iopub.execute_input": "2021-03-25T06:22:18.167633Z",
     "iopub.status.busy": "2021-03-25T06:22:18.167009Z",
     "iopub.status.idle": "2021-03-25T06:22:18.170064Z",
     "shell.execute_reply": "2021-03-25T06:22:18.169404Z"
    }
   },
   "outputs": [],
   "source": [
    "df = df.append(add, ignore_index=True)"
   ]
  },
  {
   "cell_type": "code",
   "execution_count": 13,
   "metadata": {
    "execution": {
     "iopub.execute_input": "2021-03-25T06:22:18.176218Z",
     "iopub.status.busy": "2021-03-25T06:22:18.174852Z",
     "iopub.status.idle": "2021-03-25T06:22:18.176842Z",
     "shell.execute_reply": "2021-03-25T06:22:18.177311Z"
    }
   },
   "outputs": [],
   "source": [
    "df = df.sort_values(by='location')"
   ]
  },
  {
   "cell_type": "code",
   "execution_count": 14,
   "metadata": {
    "execution": {
     "iopub.execute_input": "2021-03-25T06:22:18.184692Z",
     "iopub.status.busy": "2021-03-25T06:22:18.183205Z",
     "iopub.status.idle": "2021-03-25T06:22:18.185323Z",
     "shell.execute_reply": "2021-03-25T06:22:18.185812Z"
    }
   },
   "outputs": [],
   "source": [
    "df = df[df.location == 'California'].append(df[df.location != 'California']).reset_index(drop=True)"
   ]
  },
  {
   "cell_type": "code",
   "execution_count": null,
   "metadata": {},
   "outputs": [],
   "source": []
  },
  {
   "cell_type": "code",
   "execution_count": 15,
   "metadata": {
    "execution": {
     "iopub.execute_input": "2021-03-25T06:22:18.189996Z",
     "iopub.status.busy": "2021-03-25T06:22:18.189285Z",
     "iopub.status.idle": "2021-03-25T06:22:18.210458Z",
     "shell.execute_reply": "2021-03-25T06:22:18.209839Z"
    }
   },
   "outputs": [],
   "source": [
    "tz = pytz.timezone(\"America/New_York\")"
   ]
  },
  {
   "cell_type": "code",
   "execution_count": 16,
   "metadata": {
    "execution": {
     "iopub.execute_input": "2021-03-25T06:22:18.215218Z",
     "iopub.status.busy": "2021-03-25T06:22:18.213796Z",
     "iopub.status.idle": "2021-03-25T06:22:18.215871Z",
     "shell.execute_reply": "2021-03-25T06:22:18.216427Z"
    }
   },
   "outputs": [],
   "source": [
    "today = datetime.now(tz).date()"
   ]
  },
  {
   "cell_type": "code",
   "execution_count": 17,
   "metadata": {
    "execution": {
     "iopub.execute_input": "2021-03-25T06:22:18.221210Z",
     "iopub.status.busy": "2021-03-25T06:22:18.220000Z",
     "iopub.status.idle": "2021-03-25T06:22:18.222758Z",
     "shell.execute_reply": "2021-03-25T06:22:18.222222Z"
    }
   },
   "outputs": [],
   "source": [
    "data_dir = os.path.join(os.path.abspath(\"\"), \"data\")"
   ]
  },
  {
   "cell_type": "code",
   "execution_count": 18,
   "metadata": {
    "execution": {
     "iopub.execute_input": "2021-03-25T06:22:18.228048Z",
     "iopub.status.busy": "2021-03-25T06:22:18.226164Z",
     "iopub.status.idle": "2021-03-25T06:22:18.232022Z",
     "shell.execute_reply": "2021-03-25T06:22:18.231536Z"
    }
   },
   "outputs": [],
   "source": [
    "df.to_csv(os.path.join(data_dir, f\"{today}.csv\"), index=False)"
   ]
  },
  {
   "cell_type": "code",
   "execution_count": null,
   "metadata": {},
   "outputs": [],
   "source": []
  }
 ],
 "metadata": {
  "kernelspec": {
   "display_name": "Python 3",
   "language": "python",
   "name": "python3"
  },
  "language_info": {
   "codemirror_mode": {
    "name": "ipython",
    "version": 3
   },
   "file_extension": ".py",
   "mimetype": "text/x-python",
   "name": "python",
   "nbconvert_exporter": "python",
   "pygments_lexer": "ipython3",
   "version": "3.8.8"
  }
 },
 "nbformat": 4,
 "nbformat_minor": 4
}
