{
 "cells": [
  {
   "cell_type": "markdown",
   "metadata": {},
   "source": [
    "# California COVID vaccinations scrape"
   ]
  },
  {
   "cell_type": "markdown",
   "metadata": {},
   "source": [
    "By [Amy O'Kruk](https://twitter.com/amyokruk)"
   ]
  },
  {
   "cell_type": "markdown",
   "metadata": {},
   "source": [
    "Downloads data on vaccine doses administered by county and statewide from a Tableau-powered dashboard from the California Department of Public Health."
   ]
  },
  {
   "cell_type": "code",
   "execution_count": 1,
   "metadata": {
    "execution": {
     "iopub.execute_input": "2021-03-15T07:39:53.744024Z",
     "iopub.status.busy": "2021-03-15T07:39:53.743502Z",
     "iopub.status.idle": "2021-03-15T07:39:54.637050Z",
     "shell.execute_reply": "2021-03-15T07:39:54.637790Z"
    }
   },
   "outputs": [],
   "source": [
    "import pandas as pd\n",
    "import requests\n",
    "from bs4 import BeautifulSoup\n",
    "import json\n",
    "import re\n",
    "import time\n",
    "from time import gmtime, strftime \n",
    "import os\n",
    "import pytz\n",
    "from datetime import datetime"
   ]
  },
  {
   "cell_type": "markdown",
   "metadata": {},
   "source": [
    "Scrape the dashboard page"
   ]
  },
  {
   "cell_type": "code",
   "execution_count": 2,
   "metadata": {
    "execution": {
     "iopub.execute_input": "2021-03-15T07:39:54.644684Z",
     "iopub.status.busy": "2021-03-15T07:39:54.644275Z",
     "iopub.status.idle": "2021-03-15T07:39:54.971167Z",
     "shell.execute_reply": "2021-03-15T07:39:54.971604Z"
    }
   },
   "outputs": [],
   "source": [
    "url = \"https://public.tableau.com/interactive/views/COVID-19VaccineDashboardPublic/Vaccine?:embed=y&:showVizHome=n&:apiID=host0\"\n",
    "\n",
    "r = requests.get(url)\n",
    "soup = BeautifulSoup(r.text, \"html.parser\")"
   ]
  },
  {
   "cell_type": "code",
   "execution_count": 3,
   "metadata": {
    "execution": {
     "iopub.execute_input": "2021-03-15T07:39:54.980139Z",
     "iopub.status.busy": "2021-03-15T07:39:54.979724Z",
     "iopub.status.idle": "2021-03-15T07:39:54.983282Z",
     "shell.execute_reply": "2021-03-15T07:39:54.983596Z"
    }
   },
   "outputs": [],
   "source": [
    "tableauData = json.loads(soup.find(\"textarea\",{\"id\": \"tsConfigContainer\"}).text)"
   ]
  },
  {
   "cell_type": "markdown",
   "metadata": {},
   "source": [
    "Get the link to the Tableau data"
   ]
  },
  {
   "cell_type": "code",
   "execution_count": 4,
   "metadata": {
    "execution": {
     "iopub.execute_input": "2021-03-15T07:39:54.989486Z",
     "iopub.status.busy": "2021-03-15T07:39:54.989001Z",
     "iopub.status.idle": "2021-03-15T07:39:54.991844Z",
     "shell.execute_reply": "2021-03-15T07:39:54.991487Z"
    }
   },
   "outputs": [],
   "source": [
    "dataUrl = f'https://public.tableau.com{tableauData[\"vizql_root\"]}/bootstrapSession/sessions/{tableauData[\"sessionid\"]}'"
   ]
  },
  {
   "cell_type": "code",
   "execution_count": 5,
   "metadata": {
    "execution": {
     "iopub.execute_input": "2021-03-15T07:39:55.004150Z",
     "iopub.status.busy": "2021-03-15T07:39:54.999846Z",
     "iopub.status.idle": "2021-03-15T07:39:55.555836Z",
     "shell.execute_reply": "2021-03-15T07:39:55.556257Z"
    }
   },
   "outputs": [],
   "source": [
    "r = requests.post(dataUrl, data= {\n",
    "    \"sheet_id\": tableauData[\"sheetId\"],\n",
    "})\n",
    "\n",
    "dataReg = re.search('\\d+;({.*})\\d+;({.*})', r.text, re.MULTILINE)\n",
    "data1 = json.loads(dataReg.group(2))\n",
    "\n",
    "dataJson = data1[\"secondaryInfo\"][\"presModelMap\"][\"dataDictionary\"][\"presModelHolder\"][\"genDataDictionaryPresModel\"][\"dataSegments\"][\"0\"][\"dataColumns\"]"
   ]
  },
  {
   "cell_type": "markdown",
   "metadata": {},
   "source": [
    "Isolate what you want"
   ]
  },
  {
   "cell_type": "code",
   "execution_count": 6,
   "metadata": {
    "execution": {
     "iopub.execute_input": "2021-03-15T07:39:55.562674Z",
     "iopub.status.busy": "2021-03-15T07:39:55.562159Z",
     "iopub.status.idle": "2021-03-15T07:39:55.564686Z",
     "shell.execute_reply": "2021-03-15T07:39:55.564993Z"
    }
   },
   "outputs": [],
   "source": [
    "counties = dataJson[2]['dataValues'][:58]"
   ]
  },
  {
   "cell_type": "code",
   "execution_count": 7,
   "metadata": {
    "execution": {
     "iopub.execute_input": "2021-03-15T07:39:55.570792Z",
     "iopub.status.busy": "2021-03-15T07:39:55.570382Z",
     "iopub.status.idle": "2021-03-15T07:39:55.572767Z",
     "shell.execute_reply": "2021-03-15T07:39:55.573078Z"
    }
   },
   "outputs": [],
   "source": [
    "doses = dataJson[0]['dataValues'][3:61]"
   ]
  },
  {
   "cell_type": "markdown",
   "metadata": {},
   "source": [
    "Data formatting"
   ]
  },
  {
   "cell_type": "code",
   "execution_count": 8,
   "metadata": {
    "execution": {
     "iopub.execute_input": "2021-03-15T07:39:55.578690Z",
     "iopub.status.busy": "2021-03-15T07:39:55.578257Z",
     "iopub.status.idle": "2021-03-15T07:39:55.580586Z",
     "shell.execute_reply": "2021-03-15T07:39:55.580903Z"
    }
   },
   "outputs": [],
   "source": [
    "zipped = dict(zip(counties, doses))"
   ]
  },
  {
   "cell_type": "code",
   "execution_count": 9,
   "metadata": {
    "execution": {
     "iopub.execute_input": "2021-03-15T07:39:55.591497Z",
     "iopub.status.busy": "2021-03-15T07:39:55.591064Z",
     "iopub.status.idle": "2021-03-15T07:39:55.593321Z",
     "shell.execute_reply": "2021-03-15T07:39:55.593688Z"
    }
   },
   "outputs": [],
   "source": [
    "df = pd.Series(zipped).reset_index()"
   ]
  },
  {
   "cell_type": "code",
   "execution_count": 10,
   "metadata": {
    "execution": {
     "iopub.execute_input": "2021-03-15T07:39:55.599854Z",
     "iopub.status.busy": "2021-03-15T07:39:55.599422Z",
     "iopub.status.idle": "2021-03-15T07:39:55.601797Z",
     "shell.execute_reply": "2021-03-15T07:39:55.602108Z"
    }
   },
   "outputs": [],
   "source": [
    "df.columns = ['location','doses']"
   ]
  },
  {
   "cell_type": "markdown",
   "metadata": {},
   "source": [
    "Grab the overall California total"
   ]
  },
  {
   "cell_type": "code",
   "execution_count": 11,
   "metadata": {
    "execution": {
     "iopub.execute_input": "2021-03-15T07:39:55.608166Z",
     "iopub.status.busy": "2021-03-15T07:39:55.607764Z",
     "iopub.status.idle": "2021-03-15T07:39:55.610114Z",
     "shell.execute_reply": "2021-03-15T07:39:55.610424Z"
    }
   },
   "outputs": [],
   "source": [
    "add = {'location':'California','doses':dataJson[0]['dataValues'][2]}"
   ]
  },
  {
   "cell_type": "code",
   "execution_count": 12,
   "metadata": {
    "execution": {
     "iopub.execute_input": "2021-03-15T07:39:55.622577Z",
     "iopub.status.busy": "2021-03-15T07:39:55.622163Z",
     "iopub.status.idle": "2021-03-15T07:39:55.624534Z",
     "shell.execute_reply": "2021-03-15T07:39:55.624866Z"
    }
   },
   "outputs": [],
   "source": [
    "df = df.append(add, ignore_index=True)"
   ]
  },
  {
   "cell_type": "code",
   "execution_count": 13,
   "metadata": {
    "execution": {
     "iopub.execute_input": "2021-03-15T07:39:55.632069Z",
     "iopub.status.busy": "2021-03-15T07:39:55.631663Z",
     "iopub.status.idle": "2021-03-15T07:39:55.634611Z",
     "shell.execute_reply": "2021-03-15T07:39:55.634192Z"
    }
   },
   "outputs": [],
   "source": [
    "df = df.sort_values(by='location')"
   ]
  },
  {
   "cell_type": "code",
   "execution_count": 14,
   "metadata": {
    "execution": {
     "iopub.execute_input": "2021-03-15T07:39:55.645446Z",
     "iopub.status.busy": "2021-03-15T07:39:55.645014Z",
     "iopub.status.idle": "2021-03-15T07:39:55.647885Z",
     "shell.execute_reply": "2021-03-15T07:39:55.647529Z"
    }
   },
   "outputs": [],
   "source": [
    "df = df[df.location == 'California'].append(df[df.location != 'California']).reset_index(drop=True)"
   ]
  },
  {
   "cell_type": "code",
   "execution_count": null,
   "metadata": {},
   "outputs": [],
   "source": []
  },
  {
   "cell_type": "code",
   "execution_count": 15,
   "metadata": {
    "execution": {
     "iopub.execute_input": "2021-03-15T07:39:55.653112Z",
     "iopub.status.busy": "2021-03-15T07:39:55.652704Z",
     "iopub.status.idle": "2021-03-15T07:39:55.694539Z",
     "shell.execute_reply": "2021-03-15T07:39:55.694037Z"
    }
   },
   "outputs": [],
   "source": [
    "tz = pytz.timezone(\"America/New_York\")"
   ]
  },
  {
   "cell_type": "code",
   "execution_count": 16,
   "metadata": {
    "execution": {
     "iopub.execute_input": "2021-03-15T07:39:55.700515Z",
     "iopub.status.busy": "2021-03-15T07:39:55.700069Z",
     "iopub.status.idle": "2021-03-15T07:39:55.702941Z",
     "shell.execute_reply": "2021-03-15T07:39:55.702584Z"
    }
   },
   "outputs": [],
   "source": [
    "today = datetime.now(tz).date()"
   ]
  },
  {
   "cell_type": "code",
   "execution_count": 17,
   "metadata": {
    "execution": {
     "iopub.execute_input": "2021-03-15T07:39:55.708904Z",
     "iopub.status.busy": "2021-03-15T07:39:55.708504Z",
     "iopub.status.idle": "2021-03-15T07:39:55.711273Z",
     "shell.execute_reply": "2021-03-15T07:39:55.710932Z"
    }
   },
   "outputs": [],
   "source": [
    "data_dir = os.path.join(os.path.abspath(\"\"), \"data\")"
   ]
  },
  {
   "cell_type": "code",
   "execution_count": 18,
   "metadata": {
    "execution": {
     "iopub.execute_input": "2021-03-15T07:39:55.717538Z",
     "iopub.status.busy": "2021-03-15T07:39:55.717091Z",
     "iopub.status.idle": "2021-03-15T07:39:55.724150Z",
     "shell.execute_reply": "2021-03-15T07:39:55.724463Z"
    }
   },
   "outputs": [],
   "source": [
    "df.to_csv(os.path.join(data_dir, f\"{today}.csv\"), index=False)"
   ]
  },
  {
   "cell_type": "code",
   "execution_count": null,
   "metadata": {},
   "outputs": [],
   "source": []
  }
 ],
 "metadata": {
  "kernelspec": {
   "display_name": "Python 3",
   "language": "python",
   "name": "python3"
  },
  "language_info": {
   "codemirror_mode": {
    "name": "ipython",
    "version": 3
   },
   "file_extension": ".py",
   "mimetype": "text/x-python",
   "name": "python",
   "nbconvert_exporter": "python",
   "pygments_lexer": "ipython3",
   "version": "3.8.8"
  }
 },
 "nbformat": 4,
 "nbformat_minor": 4
}
