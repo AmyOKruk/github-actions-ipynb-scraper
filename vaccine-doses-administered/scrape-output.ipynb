{
 "cells": [
  {
   "cell_type": "markdown",
   "metadata": {},
   "source": [
    "# California COVID vaccinations scrape"
   ]
  },
  {
   "cell_type": "markdown",
   "metadata": {},
   "source": [
    "By [Amy O'Kruk](https://twitter.com/amyokruk)"
   ]
  },
  {
   "cell_type": "markdown",
   "metadata": {},
   "source": [
    "Downloads data on vaccine doses administered by county and statewide from a Tableau-powered dashboard from the California Department of Public Health."
   ]
  },
  {
   "cell_type": "code",
   "execution_count": 1,
   "metadata": {
    "execution": {
     "iopub.execute_input": "2021-03-20T17:58:42.759088Z",
     "iopub.status.busy": "2021-03-20T17:58:42.758346Z",
     "iopub.status.idle": "2021-03-20T17:58:43.262822Z",
     "shell.execute_reply": "2021-03-20T17:58:43.261926Z"
    }
   },
   "outputs": [],
   "source": [
    "import pandas as pd\n",
    "import requests\n",
    "from bs4 import BeautifulSoup\n",
    "import json\n",
    "import re\n",
    "import time\n",
    "from time import gmtime, strftime \n",
    "import os\n",
    "import pytz\n",
    "from datetime import datetime"
   ]
  },
  {
   "cell_type": "markdown",
   "metadata": {},
   "source": [
    "Scrape the dashboard page"
   ]
  },
  {
   "cell_type": "code",
   "execution_count": 2,
   "metadata": {
    "execution": {
     "iopub.execute_input": "2021-03-20T17:58:43.269545Z",
     "iopub.status.busy": "2021-03-20T17:58:43.266512Z",
     "iopub.status.idle": "2021-03-20T17:58:43.514322Z",
     "shell.execute_reply": "2021-03-20T17:58:43.514816Z"
    }
   },
   "outputs": [],
   "source": [
    "url = \"https://public.tableau.com/interactive/views/COVID-19VaccineDashboardPublic/Vaccine?:embed=y&:showVizHome=n&:apiID=host0\"\n",
    "\n",
    "r = requests.get(url)\n",
    "soup = BeautifulSoup(r.text, \"html.parser\")"
   ]
  },
  {
   "cell_type": "code",
   "execution_count": 3,
   "metadata": {
    "execution": {
     "iopub.execute_input": "2021-03-20T17:58:43.520878Z",
     "iopub.status.busy": "2021-03-20T17:58:43.519427Z",
     "iopub.status.idle": "2021-03-20T17:58:43.522268Z",
     "shell.execute_reply": "2021-03-20T17:58:43.522735Z"
    }
   },
   "outputs": [],
   "source": [
    "tableauData = json.loads(soup.find(\"textarea\",{\"id\": \"tsConfigContainer\"}).text)"
   ]
  },
  {
   "cell_type": "markdown",
   "metadata": {},
   "source": [
    "Get the link to the Tableau data"
   ]
  },
  {
   "cell_type": "code",
   "execution_count": 4,
   "metadata": {
    "execution": {
     "iopub.execute_input": "2021-03-20T17:58:43.527480Z",
     "iopub.status.busy": "2021-03-20T17:58:43.526153Z",
     "iopub.status.idle": "2021-03-20T17:58:43.528199Z",
     "shell.execute_reply": "2021-03-20T17:58:43.528662Z"
    }
   },
   "outputs": [],
   "source": [
    "dataUrl = f'https://public.tableau.com{tableauData[\"vizql_root\"]}/bootstrapSession/sessions/{tableauData[\"sessionid\"]}'"
   ]
  },
  {
   "cell_type": "code",
   "execution_count": 5,
   "metadata": {
    "execution": {
     "iopub.execute_input": "2021-03-20T17:58:43.536517Z",
     "iopub.status.busy": "2021-03-20T17:58:43.535344Z",
     "iopub.status.idle": "2021-03-20T17:58:43.697347Z",
     "shell.execute_reply": "2021-03-20T17:58:43.697787Z"
    }
   },
   "outputs": [],
   "source": [
    "r = requests.post(dataUrl, data= {\n",
    "    \"sheet_id\": tableauData[\"sheetId\"],\n",
    "})\n",
    "\n",
    "dataReg = re.search('\\d+;({.*})\\d+;({.*})', r.text, re.MULTILINE)\n",
    "data1 = json.loads(dataReg.group(2))\n",
    "\n",
    "dataJson = data1[\"secondaryInfo\"][\"presModelMap\"][\"dataDictionary\"][\"presModelHolder\"][\"genDataDictionaryPresModel\"][\"dataSegments\"][\"0\"][\"dataColumns\"]"
   ]
  },
  {
   "cell_type": "markdown",
   "metadata": {},
   "source": [
    "Isolate what you want"
   ]
  },
  {
   "cell_type": "code",
   "execution_count": 6,
   "metadata": {
    "execution": {
     "iopub.execute_input": "2021-03-20T17:58:43.703314Z",
     "iopub.status.busy": "2021-03-20T17:58:43.701875Z",
     "iopub.status.idle": "2021-03-20T17:58:43.704090Z",
     "shell.execute_reply": "2021-03-20T17:58:43.704565Z"
    }
   },
   "outputs": [],
   "source": [
    "counties = dataJson[2]['dataValues'][:58]"
   ]
  },
  {
   "cell_type": "code",
   "execution_count": 7,
   "metadata": {
    "execution": {
     "iopub.execute_input": "2021-03-20T17:58:43.711199Z",
     "iopub.status.busy": "2021-03-20T17:58:43.709648Z",
     "iopub.status.idle": "2021-03-20T17:58:43.711859Z",
     "shell.execute_reply": "2021-03-20T17:58:43.712354Z"
    }
   },
   "outputs": [],
   "source": [
    "doses = dataJson[0]['dataValues'][3:61]"
   ]
  },
  {
   "cell_type": "markdown",
   "metadata": {},
   "source": [
    "Data formatting"
   ]
  },
  {
   "cell_type": "code",
   "execution_count": 8,
   "metadata": {
    "execution": {
     "iopub.execute_input": "2021-03-20T17:58:43.719049Z",
     "iopub.status.busy": "2021-03-20T17:58:43.717578Z",
     "iopub.status.idle": "2021-03-20T17:58:43.719708Z",
     "shell.execute_reply": "2021-03-20T17:58:43.720183Z"
    }
   },
   "outputs": [],
   "source": [
    "zipped = dict(zip(counties, doses))"
   ]
  },
  {
   "cell_type": "code",
   "execution_count": 9,
   "metadata": {
    "execution": {
     "iopub.execute_input": "2021-03-20T17:58:43.728353Z",
     "iopub.status.busy": "2021-03-20T17:58:43.726880Z",
     "iopub.status.idle": "2021-03-20T17:58:43.729118Z",
     "shell.execute_reply": "2021-03-20T17:58:43.729582Z"
    }
   },
   "outputs": [],
   "source": [
    "df = pd.Series(zipped).reset_index()"
   ]
  },
  {
   "cell_type": "code",
   "execution_count": 10,
   "metadata": {
    "execution": {
     "iopub.execute_input": "2021-03-20T17:58:43.734529Z",
     "iopub.status.busy": "2021-03-20T17:58:43.733081Z",
     "iopub.status.idle": "2021-03-20T17:58:43.735188Z",
     "shell.execute_reply": "2021-03-20T17:58:43.735679Z"
    }
   },
   "outputs": [],
   "source": [
    "df.columns = ['location','doses']"
   ]
  },
  {
   "cell_type": "markdown",
   "metadata": {},
   "source": [
    "Grab the overall California total"
   ]
  },
  {
   "cell_type": "code",
   "execution_count": 11,
   "metadata": {
    "execution": {
     "iopub.execute_input": "2021-03-20T17:58:43.741110Z",
     "iopub.status.busy": "2021-03-20T17:58:43.739618Z",
     "iopub.status.idle": "2021-03-20T17:58:43.741759Z",
     "shell.execute_reply": "2021-03-20T17:58:43.742250Z"
    }
   },
   "outputs": [],
   "source": [
    "add = {'location':'California','doses':dataJson[0]['dataValues'][2]}"
   ]
  },
  {
   "cell_type": "code",
   "execution_count": 12,
   "metadata": {
    "execution": {
     "iopub.execute_input": "2021-03-20T17:58:43.750998Z",
     "iopub.status.busy": "2021-03-20T17:58:43.749630Z",
     "iopub.status.idle": "2021-03-20T17:58:43.751618Z",
     "shell.execute_reply": "2021-03-20T17:58:43.752089Z"
    }
   },
   "outputs": [],
   "source": [
    "df = df.append(add, ignore_index=True)"
   ]
  },
  {
   "cell_type": "code",
   "execution_count": 13,
   "metadata": {
    "execution": {
     "iopub.execute_input": "2021-03-20T17:58:43.758078Z",
     "iopub.status.busy": "2021-03-20T17:58:43.756495Z",
     "iopub.status.idle": "2021-03-20T17:58:43.758699Z",
     "shell.execute_reply": "2021-03-20T17:58:43.759164Z"
    }
   },
   "outputs": [],
   "source": [
    "df = df.sort_values(by='location')"
   ]
  },
  {
   "cell_type": "code",
   "execution_count": 14,
   "metadata": {
    "execution": {
     "iopub.execute_input": "2021-03-20T17:58:43.766529Z",
     "iopub.status.busy": "2021-03-20T17:58:43.765078Z",
     "iopub.status.idle": "2021-03-20T17:58:43.767140Z",
     "shell.execute_reply": "2021-03-20T17:58:43.767606Z"
    }
   },
   "outputs": [],
   "source": [
    "df = df[df.location == 'California'].append(df[df.location != 'California']).reset_index(drop=True)"
   ]
  },
  {
   "cell_type": "code",
   "execution_count": null,
   "metadata": {},
   "outputs": [],
   "source": []
  },
  {
   "cell_type": "code",
   "execution_count": 15,
   "metadata": {
    "execution": {
     "iopub.execute_input": "2021-03-20T17:58:43.771969Z",
     "iopub.status.busy": "2021-03-20T17:58:43.771366Z",
     "iopub.status.idle": "2021-03-20T17:58:43.792121Z",
     "shell.execute_reply": "2021-03-20T17:58:43.791537Z"
    }
   },
   "outputs": [],
   "source": [
    "tz = pytz.timezone(\"America/New_York\")"
   ]
  },
  {
   "cell_type": "code",
   "execution_count": 16,
   "metadata": {
    "execution": {
     "iopub.execute_input": "2021-03-20T17:58:43.796761Z",
     "iopub.status.busy": "2021-03-20T17:58:43.795403Z",
     "iopub.status.idle": "2021-03-20T17:58:43.797549Z",
     "shell.execute_reply": "2021-03-20T17:58:43.798193Z"
    }
   },
   "outputs": [],
   "source": [
    "today = datetime.now(tz).date()"
   ]
  },
  {
   "cell_type": "code",
   "execution_count": 17,
   "metadata": {
    "execution": {
     "iopub.execute_input": "2021-03-20T17:58:43.805232Z",
     "iopub.status.busy": "2021-03-20T17:58:43.804470Z",
     "iopub.status.idle": "2021-03-20T17:58:43.806322Z",
     "shell.execute_reply": "2021-03-20T17:58:43.805813Z"
    }
   },
   "outputs": [],
   "source": [
    "data_dir = os.path.join(os.path.abspath(\"\"), \"data\")"
   ]
  },
  {
   "cell_type": "code",
   "execution_count": 18,
   "metadata": {
    "execution": {
     "iopub.execute_input": "2021-03-20T17:58:43.810967Z",
     "iopub.status.busy": "2021-03-20T17:58:43.810255Z",
     "iopub.status.idle": "2021-03-20T17:58:43.815629Z",
     "shell.execute_reply": "2021-03-20T17:58:43.816115Z"
    }
   },
   "outputs": [],
   "source": [
    "df.to_csv(os.path.join(data_dir, f\"{today}.csv\"), index=False)"
   ]
  },
  {
   "cell_type": "code",
   "execution_count": null,
   "metadata": {},
   "outputs": [],
   "source": []
  }
 ],
 "metadata": {
  "kernelspec": {
   "display_name": "Python 3",
   "language": "python",
   "name": "python3"
  },
  "language_info": {
   "codemirror_mode": {
    "name": "ipython",
    "version": 3
   },
   "file_extension": ".py",
   "mimetype": "text/x-python",
   "name": "python",
   "nbconvert_exporter": "python",
   "pygments_lexer": "ipython3",
   "version": "3.8.8"
  }
 },
 "nbformat": 4,
 "nbformat_minor": 4
}
