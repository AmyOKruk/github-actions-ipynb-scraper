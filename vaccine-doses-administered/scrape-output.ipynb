{
 "cells": [
  {
   "cell_type": "markdown",
   "metadata": {},
   "source": [
    "# California COVID vaccinations scrape"
   ]
  },
  {
   "cell_type": "markdown",
   "metadata": {},
   "source": [
    "By [Amy O'Kruk](https://twitter.com/amyokruk)"
   ]
  },
  {
   "cell_type": "markdown",
   "metadata": {},
   "source": [
    "Downloads data on vaccine doses administered by county and statewide from a Tableau-powered dashboard from the California Department of Public Health."
   ]
  },
  {
   "cell_type": "code",
   "execution_count": 1,
   "metadata": {
    "execution": {
     "iopub.execute_input": "2021-03-18T09:44:13.299805Z",
     "iopub.status.busy": "2021-03-18T09:44:13.299114Z",
     "iopub.status.idle": "2021-03-18T09:44:13.718581Z",
     "shell.execute_reply": "2021-03-18T09:44:13.717709Z"
    }
   },
   "outputs": [],
   "source": [
    "import pandas as pd\n",
    "import requests\n",
    "from bs4 import BeautifulSoup\n",
    "import json\n",
    "import re\n",
    "import time\n",
    "from time import gmtime, strftime \n",
    "import os\n",
    "import pytz\n",
    "from datetime import datetime"
   ]
  },
  {
   "cell_type": "markdown",
   "metadata": {},
   "source": [
    "Scrape the dashboard page"
   ]
  },
  {
   "cell_type": "code",
   "execution_count": 2,
   "metadata": {
    "execution": {
     "iopub.execute_input": "2021-03-18T09:44:13.724434Z",
     "iopub.status.busy": "2021-03-18T09:44:13.722078Z",
     "iopub.status.idle": "2021-03-18T09:44:14.017914Z",
     "shell.execute_reply": "2021-03-18T09:44:14.017465Z"
    }
   },
   "outputs": [],
   "source": [
    "url = \"https://public.tableau.com/interactive/views/COVID-19VaccineDashboardPublic/Vaccine?:embed=y&:showVizHome=n&:apiID=host0\"\n",
    "\n",
    "r = requests.get(url)\n",
    "soup = BeautifulSoup(r.text, \"html.parser\")"
   ]
  },
  {
   "cell_type": "code",
   "execution_count": 3,
   "metadata": {
    "execution": {
     "iopub.execute_input": "2021-03-18T09:44:14.022022Z",
     "iopub.status.busy": "2021-03-18T09:44:14.021522Z",
     "iopub.status.idle": "2021-03-18T09:44:14.024985Z",
     "shell.execute_reply": "2021-03-18T09:44:14.024572Z"
    }
   },
   "outputs": [],
   "source": [
    "tableauData = json.loads(soup.find(\"textarea\",{\"id\": \"tsConfigContainer\"}).text)"
   ]
  },
  {
   "cell_type": "markdown",
   "metadata": {},
   "source": [
    "Get the link to the Tableau data"
   ]
  },
  {
   "cell_type": "code",
   "execution_count": 4,
   "metadata": {
    "execution": {
     "iopub.execute_input": "2021-03-18T09:44:14.028540Z",
     "iopub.status.busy": "2021-03-18T09:44:14.028072Z",
     "iopub.status.idle": "2021-03-18T09:44:14.031466Z",
     "shell.execute_reply": "2021-03-18T09:44:14.030975Z"
    }
   },
   "outputs": [],
   "source": [
    "dataUrl = f'https://public.tableau.com{tableauData[\"vizql_root\"]}/bootstrapSession/sessions/{tableauData[\"sessionid\"]}'"
   ]
  },
  {
   "cell_type": "code",
   "execution_count": 5,
   "metadata": {
    "execution": {
     "iopub.execute_input": "2021-03-18T09:44:14.037150Z",
     "iopub.status.busy": "2021-03-18T09:44:14.036601Z",
     "iopub.status.idle": "2021-03-18T09:44:14.379431Z",
     "shell.execute_reply": "2021-03-18T09:44:14.378863Z"
    }
   },
   "outputs": [],
   "source": [
    "r = requests.post(dataUrl, data= {\n",
    "    \"sheet_id\": tableauData[\"sheetId\"],\n",
    "})\n",
    "\n",
    "dataReg = re.search('\\d+;({.*})\\d+;({.*})', r.text, re.MULTILINE)\n",
    "data1 = json.loads(dataReg.group(2))\n",
    "\n",
    "dataJson = data1[\"secondaryInfo\"][\"presModelMap\"][\"dataDictionary\"][\"presModelHolder\"][\"genDataDictionaryPresModel\"][\"dataSegments\"][\"0\"][\"dataColumns\"]"
   ]
  },
  {
   "cell_type": "markdown",
   "metadata": {},
   "source": [
    "Isolate what you want"
   ]
  },
  {
   "cell_type": "code",
   "execution_count": 6,
   "metadata": {
    "execution": {
     "iopub.execute_input": "2021-03-18T09:44:14.384709Z",
     "iopub.status.busy": "2021-03-18T09:44:14.383294Z",
     "iopub.status.idle": "2021-03-18T09:44:14.385338Z",
     "shell.execute_reply": "2021-03-18T09:44:14.385764Z"
    }
   },
   "outputs": [],
   "source": [
    "counties = dataJson[2]['dataValues'][:58]"
   ]
  },
  {
   "cell_type": "code",
   "execution_count": 7,
   "metadata": {
    "execution": {
     "iopub.execute_input": "2021-03-18T09:44:14.389672Z",
     "iopub.status.busy": "2021-03-18T09:44:14.388051Z",
     "iopub.status.idle": "2021-03-18T09:44:14.391824Z",
     "shell.execute_reply": "2021-03-18T09:44:14.392419Z"
    }
   },
   "outputs": [],
   "source": [
    "doses = dataJson[0]['dataValues'][3:61]"
   ]
  },
  {
   "cell_type": "markdown",
   "metadata": {},
   "source": [
    "Data formatting"
   ]
  },
  {
   "cell_type": "code",
   "execution_count": 8,
   "metadata": {
    "execution": {
     "iopub.execute_input": "2021-03-18T09:44:14.397971Z",
     "iopub.status.busy": "2021-03-18T09:44:14.396211Z",
     "iopub.status.idle": "2021-03-18T09:44:14.398713Z",
     "shell.execute_reply": "2021-03-18T09:44:14.399273Z"
    }
   },
   "outputs": [],
   "source": [
    "zipped = dict(zip(counties, doses))"
   ]
  },
  {
   "cell_type": "code",
   "execution_count": 9,
   "metadata": {
    "execution": {
     "iopub.execute_input": "2021-03-18T09:44:14.406975Z",
     "iopub.status.busy": "2021-03-18T09:44:14.405644Z",
     "iopub.status.idle": "2021-03-18T09:44:14.407634Z",
     "shell.execute_reply": "2021-03-18T09:44:14.408092Z"
    }
   },
   "outputs": [],
   "source": [
    "df = pd.Series(zipped).reset_index()"
   ]
  },
  {
   "cell_type": "code",
   "execution_count": 10,
   "metadata": {
    "execution": {
     "iopub.execute_input": "2021-03-18T09:44:14.412609Z",
     "iopub.status.busy": "2021-03-18T09:44:14.411375Z",
     "iopub.status.idle": "2021-03-18T09:44:14.413388Z",
     "shell.execute_reply": "2021-03-18T09:44:14.413833Z"
    }
   },
   "outputs": [],
   "source": [
    "df.columns = ['location','doses']"
   ]
  },
  {
   "cell_type": "markdown",
   "metadata": {},
   "source": [
    "Grab the overall California total"
   ]
  },
  {
   "cell_type": "code",
   "execution_count": 11,
   "metadata": {
    "execution": {
     "iopub.execute_input": "2021-03-18T09:44:14.418276Z",
     "iopub.status.busy": "2021-03-18T09:44:14.416963Z",
     "iopub.status.idle": "2021-03-18T09:44:14.418953Z",
     "shell.execute_reply": "2021-03-18T09:44:14.419453Z"
    }
   },
   "outputs": [],
   "source": [
    "add = {'location':'California','doses':dataJson[0]['dataValues'][2]}"
   ]
  },
  {
   "cell_type": "code",
   "execution_count": 12,
   "metadata": {
    "execution": {
     "iopub.execute_input": "2021-03-18T09:44:14.427323Z",
     "iopub.status.busy": "2021-03-18T09:44:14.425981Z",
     "iopub.status.idle": "2021-03-18T09:44:14.427998Z",
     "shell.execute_reply": "2021-03-18T09:44:14.428685Z"
    }
   },
   "outputs": [],
   "source": [
    "df = df.append(add, ignore_index=True)"
   ]
  },
  {
   "cell_type": "code",
   "execution_count": 13,
   "metadata": {
    "execution": {
     "iopub.execute_input": "2021-03-18T09:44:14.433745Z",
     "iopub.status.busy": "2021-03-18T09:44:14.432541Z",
     "iopub.status.idle": "2021-03-18T09:44:14.434310Z",
     "shell.execute_reply": "2021-03-18T09:44:14.434734Z"
    }
   },
   "outputs": [],
   "source": [
    "df = df.sort_values(by='location')"
   ]
  },
  {
   "cell_type": "code",
   "execution_count": 14,
   "metadata": {
    "execution": {
     "iopub.execute_input": "2021-03-18T09:44:14.441483Z",
     "iopub.status.busy": "2021-03-18T09:44:14.440452Z",
     "iopub.status.idle": "2021-03-18T09:44:14.442151Z",
     "shell.execute_reply": "2021-03-18T09:44:14.442561Z"
    }
   },
   "outputs": [],
   "source": [
    "df = df[df.location == 'California'].append(df[df.location != 'California']).reset_index(drop=True)"
   ]
  },
  {
   "cell_type": "code",
   "execution_count": null,
   "metadata": {},
   "outputs": [],
   "source": []
  },
  {
   "cell_type": "code",
   "execution_count": 15,
   "metadata": {
    "execution": {
     "iopub.execute_input": "2021-03-18T09:44:14.446159Z",
     "iopub.status.busy": "2021-03-18T09:44:14.445589Z",
     "iopub.status.idle": "2021-03-18T09:44:14.466120Z",
     "shell.execute_reply": "2021-03-18T09:44:14.466598Z"
    }
   },
   "outputs": [],
   "source": [
    "tz = pytz.timezone(\"America/New_York\")"
   ]
  },
  {
   "cell_type": "code",
   "execution_count": 16,
   "metadata": {
    "execution": {
     "iopub.execute_input": "2021-03-18T09:44:14.471555Z",
     "iopub.status.busy": "2021-03-18T09:44:14.470328Z",
     "iopub.status.idle": "2021-03-18T09:44:14.472215Z",
     "shell.execute_reply": "2021-03-18T09:44:14.472671Z"
    }
   },
   "outputs": [],
   "source": [
    "today = datetime.now(tz).date()"
   ]
  },
  {
   "cell_type": "code",
   "execution_count": 17,
   "metadata": {
    "execution": {
     "iopub.execute_input": "2021-03-18T09:44:14.477232Z",
     "iopub.status.busy": "2021-03-18T09:44:14.475984Z",
     "iopub.status.idle": "2021-03-18T09:44:14.477860Z",
     "shell.execute_reply": "2021-03-18T09:44:14.478285Z"
    }
   },
   "outputs": [],
   "source": [
    "data_dir = os.path.join(os.path.abspath(\"\"), \"data\")"
   ]
  },
  {
   "cell_type": "code",
   "execution_count": 18,
   "metadata": {
    "execution": {
     "iopub.execute_input": "2021-03-18T09:44:14.482222Z",
     "iopub.status.busy": "2021-03-18T09:44:14.481172Z",
     "iopub.status.idle": "2021-03-18T09:44:14.485757Z",
     "shell.execute_reply": "2021-03-18T09:44:14.485253Z"
    }
   },
   "outputs": [],
   "source": [
    "df.to_csv(os.path.join(data_dir, f\"{today}.csv\"), index=False)"
   ]
  },
  {
   "cell_type": "code",
   "execution_count": null,
   "metadata": {},
   "outputs": [],
   "source": []
  }
 ],
 "metadata": {
  "kernelspec": {
   "display_name": "Python 3",
   "language": "python",
   "name": "python3"
  },
  "language_info": {
   "codemirror_mode": {
    "name": "ipython",
    "version": 3
   },
   "file_extension": ".py",
   "mimetype": "text/x-python",
   "name": "python",
   "nbconvert_exporter": "python",
   "pygments_lexer": "ipython3",
   "version": "3.8.8"
  }
 },
 "nbformat": 4,
 "nbformat_minor": 4
}
