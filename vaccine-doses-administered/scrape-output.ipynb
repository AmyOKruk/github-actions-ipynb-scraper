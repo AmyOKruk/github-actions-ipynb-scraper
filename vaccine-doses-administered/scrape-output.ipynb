{
 "cells": [
  {
   "cell_type": "markdown",
   "metadata": {},
   "source": [
    "# California COVID vaccinations scrape"
   ]
  },
  {
   "cell_type": "markdown",
   "metadata": {},
   "source": [
    "By [Amy O'Kruk](https://twitter.com/amyokruk)"
   ]
  },
  {
   "cell_type": "markdown",
   "metadata": {},
   "source": [
    "Downloads data on vaccine doses administered by county and statewide from a Tableau-powered dashboard from the California Department of Public Health."
   ]
  },
  {
   "cell_type": "code",
   "execution_count": 1,
   "metadata": {
    "execution": {
     "iopub.execute_input": "2021-03-17T13:42:18.320855Z",
     "iopub.status.busy": "2021-03-17T13:42:18.320129Z",
     "iopub.status.idle": "2021-03-17T13:42:18.824481Z",
     "shell.execute_reply": "2021-03-17T13:42:18.825093Z"
    }
   },
   "outputs": [],
   "source": [
    "import pandas as pd\n",
    "import requests\n",
    "from bs4 import BeautifulSoup\n",
    "import json\n",
    "import re\n",
    "import time\n",
    "from time import gmtime, strftime \n",
    "import os\n",
    "import pytz\n",
    "from datetime import datetime"
   ]
  },
  {
   "cell_type": "markdown",
   "metadata": {},
   "source": [
    "Scrape the dashboard page"
   ]
  },
  {
   "cell_type": "code",
   "execution_count": 2,
   "metadata": {
    "execution": {
     "iopub.execute_input": "2021-03-17T13:42:18.833724Z",
     "iopub.status.busy": "2021-03-17T13:42:18.830648Z",
     "iopub.status.idle": "2021-03-17T13:42:19.175681Z",
     "shell.execute_reply": "2021-03-17T13:42:19.175032Z"
    }
   },
   "outputs": [],
   "source": [
    "url = \"https://public.tableau.com/interactive/views/COVID-19VaccineDashboardPublic/Vaccine?:embed=y&:showVizHome=n&:apiID=host0\"\n",
    "\n",
    "r = requests.get(url)\n",
    "soup = BeautifulSoup(r.text, \"html.parser\")"
   ]
  },
  {
   "cell_type": "code",
   "execution_count": 3,
   "metadata": {
    "execution": {
     "iopub.execute_input": "2021-03-17T13:42:19.182179Z",
     "iopub.status.busy": "2021-03-17T13:42:19.180637Z",
     "iopub.status.idle": "2021-03-17T13:42:19.182864Z",
     "shell.execute_reply": "2021-03-17T13:42:19.183489Z"
    }
   },
   "outputs": [],
   "source": [
    "tableauData = json.loads(soup.find(\"textarea\",{\"id\": \"tsConfigContainer\"}).text)"
   ]
  },
  {
   "cell_type": "markdown",
   "metadata": {},
   "source": [
    "Get the link to the Tableau data"
   ]
  },
  {
   "cell_type": "code",
   "execution_count": 4,
   "metadata": {
    "execution": {
     "iopub.execute_input": "2021-03-17T13:42:19.188996Z",
     "iopub.status.busy": "2021-03-17T13:42:19.187355Z",
     "iopub.status.idle": "2021-03-17T13:42:19.189690Z",
     "shell.execute_reply": "2021-03-17T13:42:19.190210Z"
    }
   },
   "outputs": [],
   "source": [
    "dataUrl = f'https://public.tableau.com{tableauData[\"vizql_root\"]}/bootstrapSession/sessions/{tableauData[\"sessionid\"]}'"
   ]
  },
  {
   "cell_type": "code",
   "execution_count": 5,
   "metadata": {
    "execution": {
     "iopub.execute_input": "2021-03-17T13:42:19.198134Z",
     "iopub.status.busy": "2021-03-17T13:42:19.197403Z",
     "iopub.status.idle": "2021-03-17T13:42:19.510012Z",
     "shell.execute_reply": "2021-03-17T13:42:19.509465Z"
    }
   },
   "outputs": [],
   "source": [
    "r = requests.post(dataUrl, data= {\n",
    "    \"sheet_id\": tableauData[\"sheetId\"],\n",
    "})\n",
    "\n",
    "dataReg = re.search('\\d+;({.*})\\d+;({.*})', r.text, re.MULTILINE)\n",
    "data1 = json.loads(dataReg.group(2))\n",
    "\n",
    "dataJson = data1[\"secondaryInfo\"][\"presModelMap\"][\"dataDictionary\"][\"presModelHolder\"][\"genDataDictionaryPresModel\"][\"dataSegments\"][\"0\"][\"dataColumns\"]"
   ]
  },
  {
   "cell_type": "markdown",
   "metadata": {},
   "source": [
    "Isolate what you want"
   ]
  },
  {
   "cell_type": "code",
   "execution_count": 6,
   "metadata": {
    "execution": {
     "iopub.execute_input": "2021-03-17T13:42:19.515569Z",
     "iopub.status.busy": "2021-03-17T13:42:19.514124Z",
     "iopub.status.idle": "2021-03-17T13:42:19.516354Z",
     "shell.execute_reply": "2021-03-17T13:42:19.516895Z"
    }
   },
   "outputs": [],
   "source": [
    "counties = dataJson[2]['dataValues'][:58]"
   ]
  },
  {
   "cell_type": "code",
   "execution_count": 7,
   "metadata": {
    "execution": {
     "iopub.execute_input": "2021-03-17T13:42:19.521584Z",
     "iopub.status.busy": "2021-03-17T13:42:19.520895Z",
     "iopub.status.idle": "2021-03-17T13:42:19.523424Z",
     "shell.execute_reply": "2021-03-17T13:42:19.523904Z"
    }
   },
   "outputs": [],
   "source": [
    "doses = dataJson[0]['dataValues'][3:61]"
   ]
  },
  {
   "cell_type": "markdown",
   "metadata": {},
   "source": [
    "Data formatting"
   ]
  },
  {
   "cell_type": "code",
   "execution_count": 8,
   "metadata": {
    "execution": {
     "iopub.execute_input": "2021-03-17T13:42:19.529053Z",
     "iopub.status.busy": "2021-03-17T13:42:19.527505Z",
     "iopub.status.idle": "2021-03-17T13:42:19.529742Z",
     "shell.execute_reply": "2021-03-17T13:42:19.530259Z"
    }
   },
   "outputs": [],
   "source": [
    "zipped = dict(zip(counties, doses))"
   ]
  },
  {
   "cell_type": "code",
   "execution_count": 9,
   "metadata": {
    "execution": {
     "iopub.execute_input": "2021-03-17T13:42:19.538021Z",
     "iopub.status.busy": "2021-03-17T13:42:19.536505Z",
     "iopub.status.idle": "2021-03-17T13:42:19.538774Z",
     "shell.execute_reply": "2021-03-17T13:42:19.539270Z"
    }
   },
   "outputs": [],
   "source": [
    "df = pd.Series(zipped).reset_index()"
   ]
  },
  {
   "cell_type": "code",
   "execution_count": 10,
   "metadata": {
    "execution": {
     "iopub.execute_input": "2021-03-17T13:42:19.544520Z",
     "iopub.status.busy": "2021-03-17T13:42:19.543087Z",
     "iopub.status.idle": "2021-03-17T13:42:19.545189Z",
     "shell.execute_reply": "2021-03-17T13:42:19.545720Z"
    }
   },
   "outputs": [],
   "source": [
    "df.columns = ['location','doses']"
   ]
  },
  {
   "cell_type": "markdown",
   "metadata": {},
   "source": [
    "Grab the overall California total"
   ]
  },
  {
   "cell_type": "code",
   "execution_count": 11,
   "metadata": {
    "execution": {
     "iopub.execute_input": "2021-03-17T13:42:19.551162Z",
     "iopub.status.busy": "2021-03-17T13:42:19.549368Z",
     "iopub.status.idle": "2021-03-17T13:42:19.551864Z",
     "shell.execute_reply": "2021-03-17T13:42:19.552429Z"
    }
   },
   "outputs": [],
   "source": [
    "add = {'location':'California','doses':dataJson[0]['dataValues'][2]}"
   ]
  },
  {
   "cell_type": "code",
   "execution_count": 12,
   "metadata": {
    "execution": {
     "iopub.execute_input": "2021-03-17T13:42:19.561715Z",
     "iopub.status.busy": "2021-03-17T13:42:19.560078Z",
     "iopub.status.idle": "2021-03-17T13:42:19.562403Z",
     "shell.execute_reply": "2021-03-17T13:42:19.562927Z"
    }
   },
   "outputs": [],
   "source": [
    "df = df.append(add, ignore_index=True)"
   ]
  },
  {
   "cell_type": "code",
   "execution_count": 13,
   "metadata": {
    "execution": {
     "iopub.execute_input": "2021-03-17T13:42:19.569477Z",
     "iopub.status.busy": "2021-03-17T13:42:19.567823Z",
     "iopub.status.idle": "2021-03-17T13:42:19.570153Z",
     "shell.execute_reply": "2021-03-17T13:42:19.570681Z"
    }
   },
   "outputs": [],
   "source": [
    "df = df.sort_values(by='location')"
   ]
  },
  {
   "cell_type": "code",
   "execution_count": 14,
   "metadata": {
    "execution": {
     "iopub.execute_input": "2021-03-17T13:42:19.578715Z",
     "iopub.status.busy": "2021-03-17T13:42:19.577231Z",
     "iopub.status.idle": "2021-03-17T13:42:19.579422Z",
     "shell.execute_reply": "2021-03-17T13:42:19.579941Z"
    }
   },
   "outputs": [],
   "source": [
    "df = df[df.location == 'California'].append(df[df.location != 'California']).reset_index(drop=True)"
   ]
  },
  {
   "cell_type": "code",
   "execution_count": null,
   "metadata": {},
   "outputs": [],
   "source": []
  },
  {
   "cell_type": "code",
   "execution_count": 15,
   "metadata": {
    "execution": {
     "iopub.execute_input": "2021-03-17T13:42:19.584841Z",
     "iopub.status.busy": "2021-03-17T13:42:19.583802Z",
     "iopub.status.idle": "2021-03-17T13:42:19.618419Z",
     "shell.execute_reply": "2021-03-17T13:42:19.617840Z"
    }
   },
   "outputs": [],
   "source": [
    "tz = pytz.timezone(\"America/New_York\")"
   ]
  },
  {
   "cell_type": "code",
   "execution_count": 16,
   "metadata": {
    "execution": {
     "iopub.execute_input": "2021-03-17T13:42:19.623746Z",
     "iopub.status.busy": "2021-03-17T13:42:19.622283Z",
     "iopub.status.idle": "2021-03-17T13:42:19.624522Z",
     "shell.execute_reply": "2021-03-17T13:42:19.625018Z"
    }
   },
   "outputs": [],
   "source": [
    "today = datetime.now(tz).date()"
   ]
  },
  {
   "cell_type": "code",
   "execution_count": 17,
   "metadata": {
    "execution": {
     "iopub.execute_input": "2021-03-17T13:42:19.630335Z",
     "iopub.status.busy": "2021-03-17T13:42:19.628910Z",
     "iopub.status.idle": "2021-03-17T13:42:19.631018Z",
     "shell.execute_reply": "2021-03-17T13:42:19.631626Z"
    }
   },
   "outputs": [],
   "source": [
    "data_dir = os.path.join(os.path.abspath(\"\"), \"data\")"
   ]
  },
  {
   "cell_type": "code",
   "execution_count": 18,
   "metadata": {
    "execution": {
     "iopub.execute_input": "2021-03-17T13:42:19.636634Z",
     "iopub.status.busy": "2021-03-17T13:42:19.635910Z",
     "iopub.status.idle": "2021-03-17T13:42:19.641341Z",
     "shell.execute_reply": "2021-03-17T13:42:19.640749Z"
    }
   },
   "outputs": [],
   "source": [
    "df.to_csv(os.path.join(data_dir, f\"{today}.csv\"), index=False)"
   ]
  },
  {
   "cell_type": "code",
   "execution_count": null,
   "metadata": {},
   "outputs": [],
   "source": []
  }
 ],
 "metadata": {
  "kernelspec": {
   "display_name": "Python 3",
   "language": "python",
   "name": "python3"
  },
  "language_info": {
   "codemirror_mode": {
    "name": "ipython",
    "version": 3
   },
   "file_extension": ".py",
   "mimetype": "text/x-python",
   "name": "python",
   "nbconvert_exporter": "python",
   "pygments_lexer": "ipython3",
   "version": "3.8.8"
  }
 },
 "nbformat": 4,
 "nbformat_minor": 4
}
