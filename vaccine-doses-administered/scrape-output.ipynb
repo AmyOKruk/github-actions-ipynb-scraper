{
 "cells": [
  {
   "cell_type": "markdown",
   "metadata": {},
   "source": [
    "# California COVID vaccinations scrape"
   ]
  },
  {
   "cell_type": "markdown",
   "metadata": {},
   "source": [
    "By [Amy O'Kruk](https://twitter.com/amyokruk)"
   ]
  },
  {
   "cell_type": "markdown",
   "metadata": {},
   "source": [
    "Downloads data on vaccine doses administered by county and statewide from a Tableau-powered dashboard from the California Department of Public Health."
   ]
  },
  {
   "cell_type": "code",
   "execution_count": 1,
   "metadata": {
    "execution": {
     "iopub.execute_input": "2021-03-13T19:36:28.535894Z",
     "iopub.status.busy": "2021-03-13T19:36:28.535012Z",
     "iopub.status.idle": "2021-03-13T19:36:28.937864Z",
     "shell.execute_reply": "2021-03-13T19:36:28.938354Z"
    }
   },
   "outputs": [],
   "source": [
    "import pandas as pd\n",
    "import requests\n",
    "from bs4 import BeautifulSoup\n",
    "import json\n",
    "import re\n",
    "import time\n",
    "from time import gmtime, strftime \n",
    "import os\n",
    "import pytz\n",
    "from datetime import datetime"
   ]
  },
  {
   "cell_type": "markdown",
   "metadata": {},
   "source": [
    "Scrape the dashboard page"
   ]
  },
  {
   "cell_type": "code",
   "execution_count": 2,
   "metadata": {
    "execution": {
     "iopub.execute_input": "2021-03-13T19:36:28.944968Z",
     "iopub.status.busy": "2021-03-13T19:36:28.942268Z",
     "iopub.status.idle": "2021-03-13T19:36:29.322236Z",
     "shell.execute_reply": "2021-03-13T19:36:29.321714Z"
    }
   },
   "outputs": [],
   "source": [
    "url = \"https://public.tableau.com/interactive/views/COVID-19VaccineDashboardPublic/Vaccine?:embed=y&:showVizHome=n&:apiID=host0\"\n",
    "\n",
    "r = requests.get(url)\n",
    "soup = BeautifulSoup(r.text, \"html.parser\")"
   ]
  },
  {
   "cell_type": "code",
   "execution_count": 3,
   "metadata": {
    "execution": {
     "iopub.execute_input": "2021-03-13T19:36:29.328114Z",
     "iopub.status.busy": "2021-03-13T19:36:29.326810Z",
     "iopub.status.idle": "2021-03-13T19:36:29.328744Z",
     "shell.execute_reply": "2021-03-13T19:36:29.329237Z"
    }
   },
   "outputs": [],
   "source": [
    "tableauData = json.loads(soup.find(\"textarea\",{\"id\": \"tsConfigContainer\"}).text)"
   ]
  },
  {
   "cell_type": "markdown",
   "metadata": {},
   "source": [
    "Get the link to the Tableau data"
   ]
  },
  {
   "cell_type": "code",
   "execution_count": 4,
   "metadata": {
    "execution": {
     "iopub.execute_input": "2021-03-13T19:36:29.334094Z",
     "iopub.status.busy": "2021-03-13T19:36:29.332621Z",
     "iopub.status.idle": "2021-03-13T19:36:29.334739Z",
     "shell.execute_reply": "2021-03-13T19:36:29.335220Z"
    }
   },
   "outputs": [],
   "source": [
    "dataUrl = f'https://public.tableau.com{tableauData[\"vizql_root\"]}/bootstrapSession/sessions/{tableauData[\"sessionid\"]}'"
   ]
  },
  {
   "cell_type": "code",
   "execution_count": 5,
   "metadata": {
    "execution": {
     "iopub.execute_input": "2021-03-13T19:36:29.342416Z",
     "iopub.status.busy": "2021-03-13T19:36:29.341828Z",
     "iopub.status.idle": "2021-03-13T19:36:29.763935Z",
     "shell.execute_reply": "2021-03-13T19:36:29.763324Z"
    }
   },
   "outputs": [],
   "source": [
    "r = requests.post(dataUrl, data= {\n",
    "    \"sheet_id\": tableauData[\"sheetId\"],\n",
    "})\n",
    "\n",
    "dataReg = re.search('\\d+;({.*})\\d+;({.*})', r.text, re.MULTILINE)\n",
    "data1 = json.loads(dataReg.group(2))\n",
    "\n",
    "dataJson = data1[\"secondaryInfo\"][\"presModelMap\"][\"dataDictionary\"][\"presModelHolder\"][\"genDataDictionaryPresModel\"][\"dataSegments\"][\"0\"][\"dataColumns\"]"
   ]
  },
  {
   "cell_type": "markdown",
   "metadata": {},
   "source": [
    "Isolate what you want"
   ]
  },
  {
   "cell_type": "code",
   "execution_count": 6,
   "metadata": {
    "execution": {
     "iopub.execute_input": "2021-03-13T19:36:29.768887Z",
     "iopub.status.busy": "2021-03-13T19:36:29.767448Z",
     "iopub.status.idle": "2021-03-13T19:36:29.769538Z",
     "shell.execute_reply": "2021-03-13T19:36:29.770040Z"
    }
   },
   "outputs": [],
   "source": [
    "counties = dataJson[2]['dataValues'][:58]"
   ]
  },
  {
   "cell_type": "code",
   "execution_count": 7,
   "metadata": {
    "execution": {
     "iopub.execute_input": "2021-03-13T19:36:29.774863Z",
     "iopub.status.busy": "2021-03-13T19:36:29.773468Z",
     "iopub.status.idle": "2021-03-13T19:36:29.775527Z",
     "shell.execute_reply": "2021-03-13T19:36:29.776080Z"
    }
   },
   "outputs": [],
   "source": [
    "doses = dataJson[0]['dataValues'][3:61]"
   ]
  },
  {
   "cell_type": "markdown",
   "metadata": {},
   "source": [
    "Data formatting"
   ]
  },
  {
   "cell_type": "code",
   "execution_count": 8,
   "metadata": {
    "execution": {
     "iopub.execute_input": "2021-03-13T19:36:29.780732Z",
     "iopub.status.busy": "2021-03-13T19:36:29.779351Z",
     "iopub.status.idle": "2021-03-13T19:36:29.781376Z",
     "shell.execute_reply": "2021-03-13T19:36:29.781908Z"
    }
   },
   "outputs": [],
   "source": [
    "zipped = dict(zip(counties, doses))"
   ]
  },
  {
   "cell_type": "code",
   "execution_count": 9,
   "metadata": {
    "execution": {
     "iopub.execute_input": "2021-03-13T19:36:29.789065Z",
     "iopub.status.busy": "2021-03-13T19:36:29.787688Z",
     "iopub.status.idle": "2021-03-13T19:36:29.789737Z",
     "shell.execute_reply": "2021-03-13T19:36:29.790223Z"
    }
   },
   "outputs": [],
   "source": [
    "df = pd.Series(zipped).reset_index()"
   ]
  },
  {
   "cell_type": "code",
   "execution_count": 10,
   "metadata": {
    "execution": {
     "iopub.execute_input": "2021-03-13T19:36:29.794887Z",
     "iopub.status.busy": "2021-03-13T19:36:29.793618Z",
     "iopub.status.idle": "2021-03-13T19:36:29.795564Z",
     "shell.execute_reply": "2021-03-13T19:36:29.796086Z"
    }
   },
   "outputs": [],
   "source": [
    "df.columns = ['location','doses']"
   ]
  },
  {
   "cell_type": "markdown",
   "metadata": {},
   "source": [
    "Grab the overall California total"
   ]
  },
  {
   "cell_type": "code",
   "execution_count": 11,
   "metadata": {
    "execution": {
     "iopub.execute_input": "2021-03-13T19:36:29.800803Z",
     "iopub.status.busy": "2021-03-13T19:36:29.799533Z",
     "iopub.status.idle": "2021-03-13T19:36:29.801573Z",
     "shell.execute_reply": "2021-03-13T19:36:29.802096Z"
    }
   },
   "outputs": [],
   "source": [
    "add = {'location':'California','doses':dataJson[0]['dataValues'][2]}"
   ]
  },
  {
   "cell_type": "code",
   "execution_count": 12,
   "metadata": {
    "execution": {
     "iopub.execute_input": "2021-03-13T19:36:29.809638Z",
     "iopub.status.busy": "2021-03-13T19:36:29.808380Z",
     "iopub.status.idle": "2021-03-13T19:36:29.810276Z",
     "shell.execute_reply": "2021-03-13T19:36:29.810761Z"
    }
   },
   "outputs": [],
   "source": [
    "df = df.append(add, ignore_index=True)"
   ]
  },
  {
   "cell_type": "code",
   "execution_count": 13,
   "metadata": {
    "execution": {
     "iopub.execute_input": "2021-03-13T19:36:29.816087Z",
     "iopub.status.busy": "2021-03-13T19:36:29.814731Z",
     "iopub.status.idle": "2021-03-13T19:36:29.817332Z",
     "shell.execute_reply": "2021-03-13T19:36:29.817882Z"
    }
   },
   "outputs": [],
   "source": [
    "df = df.sort_values(by='location')"
   ]
  },
  {
   "cell_type": "code",
   "execution_count": 14,
   "metadata": {
    "execution": {
     "iopub.execute_input": "2021-03-13T19:36:29.824860Z",
     "iopub.status.busy": "2021-03-13T19:36:29.823452Z",
     "iopub.status.idle": "2021-03-13T19:36:29.825505Z",
     "shell.execute_reply": "2021-03-13T19:36:29.825989Z"
    }
   },
   "outputs": [],
   "source": [
    "df = df[df.location == 'California'].append(df[df.location != 'California']).reset_index(drop=True)"
   ]
  },
  {
   "cell_type": "code",
   "execution_count": null,
   "metadata": {},
   "outputs": [],
   "source": []
  },
  {
   "cell_type": "code",
   "execution_count": 15,
   "metadata": {
    "execution": {
     "iopub.execute_input": "2021-03-13T19:36:29.829502Z",
     "iopub.status.busy": "2021-03-13T19:36:29.828929Z",
     "iopub.status.idle": "2021-03-13T19:36:29.849927Z",
     "shell.execute_reply": "2021-03-13T19:36:29.849391Z"
    }
   },
   "outputs": [],
   "source": [
    "tz = pytz.timezone(\"America/New_York\")"
   ]
  },
  {
   "cell_type": "code",
   "execution_count": 16,
   "metadata": {
    "execution": {
     "iopub.execute_input": "2021-03-13T19:36:29.854682Z",
     "iopub.status.busy": "2021-03-13T19:36:29.853356Z",
     "iopub.status.idle": "2021-03-13T19:36:29.855319Z",
     "shell.execute_reply": "2021-03-13T19:36:29.855854Z"
    }
   },
   "outputs": [],
   "source": [
    "today = datetime.now(tz).date()"
   ]
  },
  {
   "cell_type": "code",
   "execution_count": 17,
   "metadata": {
    "execution": {
     "iopub.execute_input": "2021-03-13T19:36:29.860560Z",
     "iopub.status.busy": "2021-03-13T19:36:29.859164Z",
     "iopub.status.idle": "2021-03-13T19:36:29.861203Z",
     "shell.execute_reply": "2021-03-13T19:36:29.861685Z"
    }
   },
   "outputs": [],
   "source": [
    "data_dir = os.path.join(os.path.abspath(\"\"), \"data\")"
   ]
  },
  {
   "cell_type": "code",
   "execution_count": 18,
   "metadata": {
    "execution": {
     "iopub.execute_input": "2021-03-13T19:36:29.867191Z",
     "iopub.status.busy": "2021-03-13T19:36:29.866607Z",
     "iopub.status.idle": "2021-03-13T19:36:29.872151Z",
     "shell.execute_reply": "2021-03-13T19:36:29.871513Z"
    }
   },
   "outputs": [],
   "source": [
    "df.to_csv(os.path.join(data_dir, f\"{today}.csv\"), index=False)"
   ]
  },
  {
   "cell_type": "code",
   "execution_count": null,
   "metadata": {},
   "outputs": [],
   "source": []
  }
 ],
 "metadata": {
  "kernelspec": {
   "display_name": "Python 3",
   "language": "python",
   "name": "python3"
  },
  "language_info": {
   "codemirror_mode": {
    "name": "ipython",
    "version": 3
   },
   "file_extension": ".py",
   "mimetype": "text/x-python",
   "name": "python",
   "nbconvert_exporter": "python",
   "pygments_lexer": "ipython3",
   "version": "3.8.8"
  }
 },
 "nbformat": 4,
 "nbformat_minor": 4
}
