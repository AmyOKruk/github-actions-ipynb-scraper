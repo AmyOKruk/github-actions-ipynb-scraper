{
 "cells": [
  {
   "cell_type": "markdown",
   "metadata": {},
   "source": [
    "# California COVID vaccinations scrape"
   ]
  },
  {
   "cell_type": "markdown",
   "metadata": {},
   "source": [
    "By [Amy O'Kruk](https://twitter.com/amyokruk)"
   ]
  },
  {
   "cell_type": "markdown",
   "metadata": {},
   "source": [
    "Downloads data on vaccine doses administered by county and statewide from a Tableau-powered dashboard from the California Department of Public Health."
   ]
  },
  {
   "cell_type": "code",
   "execution_count": 1,
   "metadata": {
    "execution": {
     "iopub.execute_input": "2021-03-23T06:48:19.738063Z",
     "iopub.status.busy": "2021-03-23T06:48:19.737295Z",
     "iopub.status.idle": "2021-03-23T06:48:20.203765Z",
     "shell.execute_reply": "2021-03-23T06:48:20.202694Z"
    }
   },
   "outputs": [],
   "source": [
    "import pandas as pd\n",
    "import requests\n",
    "from bs4 import BeautifulSoup\n",
    "import json\n",
    "import re\n",
    "import time\n",
    "from time import gmtime, strftime \n",
    "import os\n",
    "import pytz\n",
    "from datetime import datetime"
   ]
  },
  {
   "cell_type": "markdown",
   "metadata": {},
   "source": [
    "Scrape the dashboard page"
   ]
  },
  {
   "cell_type": "code",
   "execution_count": 2,
   "metadata": {
    "execution": {
     "iopub.execute_input": "2021-03-23T06:48:20.210608Z",
     "iopub.status.busy": "2021-03-23T06:48:20.207665Z",
     "iopub.status.idle": "2021-03-23T06:48:21.093556Z",
     "shell.execute_reply": "2021-03-23T06:48:21.092986Z"
    }
   },
   "outputs": [],
   "source": [
    "url = \"https://public.tableau.com/interactive/views/COVID-19VaccineDashboardPublic/Vaccine?:embed=y&:showVizHome=n&:apiID=host0\"\n",
    "\n",
    "r = requests.get(url)\n",
    "soup = BeautifulSoup(r.text, \"html.parser\")"
   ]
  },
  {
   "cell_type": "code",
   "execution_count": 3,
   "metadata": {
    "execution": {
     "iopub.execute_input": "2021-03-23T06:48:21.100170Z",
     "iopub.status.busy": "2021-03-23T06:48:21.098824Z",
     "iopub.status.idle": "2021-03-23T06:48:21.100894Z",
     "shell.execute_reply": "2021-03-23T06:48:21.101377Z"
    }
   },
   "outputs": [],
   "source": [
    "tableauData = json.loads(soup.find(\"textarea\",{\"id\": \"tsConfigContainer\"}).text)"
   ]
  },
  {
   "cell_type": "markdown",
   "metadata": {},
   "source": [
    "Get the link to the Tableau data"
   ]
  },
  {
   "cell_type": "code",
   "execution_count": 4,
   "metadata": {
    "execution": {
     "iopub.execute_input": "2021-03-23T06:48:21.106356Z",
     "iopub.status.busy": "2021-03-23T06:48:21.105018Z",
     "iopub.status.idle": "2021-03-23T06:48:21.106937Z",
     "shell.execute_reply": "2021-03-23T06:48:21.107464Z"
    }
   },
   "outputs": [],
   "source": [
    "dataUrl = f'https://public.tableau.com{tableauData[\"vizql_root\"]}/bootstrapSession/sessions/{tableauData[\"sessionid\"]}'"
   ]
  },
  {
   "cell_type": "code",
   "execution_count": 5,
   "metadata": {
    "execution": {
     "iopub.execute_input": "2021-03-23T06:48:21.115705Z",
     "iopub.status.busy": "2021-03-23T06:48:21.115106Z",
     "iopub.status.idle": "2021-03-23T06:48:21.327341Z",
     "shell.execute_reply": "2021-03-23T06:48:21.326831Z"
    }
   },
   "outputs": [],
   "source": [
    "r = requests.post(dataUrl, data= {\n",
    "    \"sheet_id\": tableauData[\"sheetId\"],\n",
    "})\n",
    "\n",
    "dataReg = re.search('\\d+;({.*})\\d+;({.*})', r.text, re.MULTILINE)\n",
    "data1 = json.loads(dataReg.group(2))\n",
    "\n",
    "dataJson = data1[\"secondaryInfo\"][\"presModelMap\"][\"dataDictionary\"][\"presModelHolder\"][\"genDataDictionaryPresModel\"][\"dataSegments\"][\"0\"][\"dataColumns\"]"
   ]
  },
  {
   "cell_type": "markdown",
   "metadata": {},
   "source": [
    "Isolate what you want"
   ]
  },
  {
   "cell_type": "code",
   "execution_count": 6,
   "metadata": {
    "execution": {
     "iopub.execute_input": "2021-03-23T06:48:21.331950Z",
     "iopub.status.busy": "2021-03-23T06:48:21.331297Z",
     "iopub.status.idle": "2021-03-23T06:48:21.334871Z",
     "shell.execute_reply": "2021-03-23T06:48:21.335360Z"
    }
   },
   "outputs": [],
   "source": [
    "counties = dataJson[2]['dataValues'][:58]"
   ]
  },
  {
   "cell_type": "code",
   "execution_count": 7,
   "metadata": {
    "execution": {
     "iopub.execute_input": "2021-03-23T06:48:21.339369Z",
     "iopub.status.busy": "2021-03-23T06:48:21.338813Z",
     "iopub.status.idle": "2021-03-23T06:48:21.342828Z",
     "shell.execute_reply": "2021-03-23T06:48:21.342225Z"
    }
   },
   "outputs": [],
   "source": [
    "doses = dataJson[0]['dataValues'][3:61]"
   ]
  },
  {
   "cell_type": "markdown",
   "metadata": {},
   "source": [
    "Data formatting"
   ]
  },
  {
   "cell_type": "code",
   "execution_count": 8,
   "metadata": {
    "execution": {
     "iopub.execute_input": "2021-03-23T06:48:21.348428Z",
     "iopub.status.busy": "2021-03-23T06:48:21.346879Z",
     "iopub.status.idle": "2021-03-23T06:48:21.349283Z",
     "shell.execute_reply": "2021-03-23T06:48:21.349793Z"
    }
   },
   "outputs": [],
   "source": [
    "zipped = dict(zip(counties, doses))"
   ]
  },
  {
   "cell_type": "code",
   "execution_count": 9,
   "metadata": {
    "execution": {
     "iopub.execute_input": "2021-03-23T06:48:21.358375Z",
     "iopub.status.busy": "2021-03-23T06:48:21.356894Z",
     "iopub.status.idle": "2021-03-23T06:48:21.359011Z",
     "shell.execute_reply": "2021-03-23T06:48:21.359490Z"
    }
   },
   "outputs": [],
   "source": [
    "df = pd.Series(zipped).reset_index()"
   ]
  },
  {
   "cell_type": "code",
   "execution_count": 10,
   "metadata": {
    "execution": {
     "iopub.execute_input": "2021-03-23T06:48:21.364959Z",
     "iopub.status.busy": "2021-03-23T06:48:21.363543Z",
     "iopub.status.idle": "2021-03-23T06:48:21.365736Z",
     "shell.execute_reply": "2021-03-23T06:48:21.366264Z"
    }
   },
   "outputs": [],
   "source": [
    "df.columns = ['location','doses']"
   ]
  },
  {
   "cell_type": "markdown",
   "metadata": {},
   "source": [
    "Grab the overall California total"
   ]
  },
  {
   "cell_type": "code",
   "execution_count": 11,
   "metadata": {
    "execution": {
     "iopub.execute_input": "2021-03-23T06:48:21.373296Z",
     "iopub.status.busy": "2021-03-23T06:48:21.371929Z",
     "iopub.status.idle": "2021-03-23T06:48:21.373964Z",
     "shell.execute_reply": "2021-03-23T06:48:21.374451Z"
    }
   },
   "outputs": [],
   "source": [
    "add = {'location':'California','doses':dataJson[0]['dataValues'][2]}"
   ]
  },
  {
   "cell_type": "code",
   "execution_count": 12,
   "metadata": {
    "execution": {
     "iopub.execute_input": "2021-03-23T06:48:21.383642Z",
     "iopub.status.busy": "2021-03-23T06:48:21.382169Z",
     "iopub.status.idle": "2021-03-23T06:48:21.384257Z",
     "shell.execute_reply": "2021-03-23T06:48:21.384723Z"
    }
   },
   "outputs": [],
   "source": [
    "df = df.append(add, ignore_index=True)"
   ]
  },
  {
   "cell_type": "code",
   "execution_count": 13,
   "metadata": {
    "execution": {
     "iopub.execute_input": "2021-03-23T06:48:21.390827Z",
     "iopub.status.busy": "2021-03-23T06:48:21.389444Z",
     "iopub.status.idle": "2021-03-23T06:48:21.391551Z",
     "shell.execute_reply": "2021-03-23T06:48:21.392360Z"
    }
   },
   "outputs": [],
   "source": [
    "df = df.sort_values(by='location')"
   ]
  },
  {
   "cell_type": "code",
   "execution_count": 14,
   "metadata": {
    "execution": {
     "iopub.execute_input": "2021-03-23T06:48:21.401902Z",
     "iopub.status.busy": "2021-03-23T06:48:21.398518Z",
     "iopub.status.idle": "2021-03-23T06:48:21.402539Z",
     "shell.execute_reply": "2021-03-23T06:48:21.403033Z"
    }
   },
   "outputs": [],
   "source": [
    "df = df[df.location == 'California'].append(df[df.location != 'California']).reset_index(drop=True)"
   ]
  },
  {
   "cell_type": "code",
   "execution_count": null,
   "metadata": {},
   "outputs": [],
   "source": []
  },
  {
   "cell_type": "code",
   "execution_count": 15,
   "metadata": {
    "execution": {
     "iopub.execute_input": "2021-03-23T06:48:21.407000Z",
     "iopub.status.busy": "2021-03-23T06:48:21.406285Z",
     "iopub.status.idle": "2021-03-23T06:48:21.426696Z",
     "shell.execute_reply": "2021-03-23T06:48:21.426174Z"
    }
   },
   "outputs": [],
   "source": [
    "tz = pytz.timezone(\"America/New_York\")"
   ]
  },
  {
   "cell_type": "code",
   "execution_count": 16,
   "metadata": {
    "execution": {
     "iopub.execute_input": "2021-03-23T06:48:21.432085Z",
     "iopub.status.busy": "2021-03-23T06:48:21.430654Z",
     "iopub.status.idle": "2021-03-23T06:48:21.432810Z",
     "shell.execute_reply": "2021-03-23T06:48:21.433343Z"
    }
   },
   "outputs": [],
   "source": [
    "today = datetime.now(tz).date()"
   ]
  },
  {
   "cell_type": "code",
   "execution_count": 17,
   "metadata": {
    "execution": {
     "iopub.execute_input": "2021-03-23T06:48:21.439037Z",
     "iopub.status.busy": "2021-03-23T06:48:21.437021Z",
     "iopub.status.idle": "2021-03-23T06:48:21.439741Z",
     "shell.execute_reply": "2021-03-23T06:48:21.440247Z"
    }
   },
   "outputs": [],
   "source": [
    "data_dir = os.path.join(os.path.abspath(\"\"), \"data\")"
   ]
  },
  {
   "cell_type": "code",
   "execution_count": 18,
   "metadata": {
    "execution": {
     "iopub.execute_input": "2021-03-23T06:48:21.444898Z",
     "iopub.status.busy": "2021-03-23T06:48:21.444282Z",
     "iopub.status.idle": "2021-03-23T06:48:21.449677Z",
     "shell.execute_reply": "2021-03-23T06:48:21.448991Z"
    }
   },
   "outputs": [],
   "source": [
    "df.to_csv(os.path.join(data_dir, f\"{today}.csv\"), index=False)"
   ]
  },
  {
   "cell_type": "code",
   "execution_count": null,
   "metadata": {},
   "outputs": [],
   "source": []
  }
 ],
 "metadata": {
  "kernelspec": {
   "display_name": "Python 3",
   "language": "python",
   "name": "python3"
  },
  "language_info": {
   "codemirror_mode": {
    "name": "ipython",
    "version": 3
   },
   "file_extension": ".py",
   "mimetype": "text/x-python",
   "name": "python",
   "nbconvert_exporter": "python",
   "pygments_lexer": "ipython3",
   "version": "3.8.8"
  }
 },
 "nbformat": 4,
 "nbformat_minor": 4
}
