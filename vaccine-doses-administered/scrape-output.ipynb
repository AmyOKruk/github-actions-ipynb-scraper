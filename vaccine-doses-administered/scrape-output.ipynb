{
 "cells": [
  {
   "cell_type": "markdown",
   "metadata": {},
   "source": [
    "# California COVID vaccinations scrape"
   ]
  },
  {
   "cell_type": "markdown",
   "metadata": {},
   "source": [
    "By [Amy O'Kruk](https://twitter.com/amyokruk)"
   ]
  },
  {
   "cell_type": "markdown",
   "metadata": {},
   "source": [
    "Downloads data on vaccine doses administered by county and statewide from a Tableau-powered dashboard from the California Department of Public Health."
   ]
  },
  {
   "cell_type": "code",
   "execution_count": 1,
   "metadata": {
    "execution": {
     "iopub.execute_input": "2021-03-09T21:41:16.560993Z",
     "iopub.status.busy": "2021-03-09T21:41:16.560340Z",
     "iopub.status.idle": "2021-03-09T21:41:17.032839Z",
     "shell.execute_reply": "2021-03-09T21:41:17.031795Z"
    }
   },
   "outputs": [],
   "source": [
    "import pandas as pd\n",
    "import requests\n",
    "from bs4 import BeautifulSoup\n",
    "import json\n",
    "import re\n",
    "import time\n",
    "from time import gmtime, strftime \n",
    "import os\n",
    "import pytz\n",
    "from datetime import datetime"
   ]
  },
  {
   "cell_type": "markdown",
   "metadata": {},
   "source": [
    "Scrape the dashboard page"
   ]
  },
  {
   "cell_type": "code",
   "execution_count": 2,
   "metadata": {
    "execution": {
     "iopub.execute_input": "2021-03-09T21:41:17.039922Z",
     "iopub.status.busy": "2021-03-09T21:41:17.039323Z",
     "iopub.status.idle": "2021-03-09T21:41:17.558676Z",
     "shell.execute_reply": "2021-03-09T21:41:17.558157Z"
    }
   },
   "outputs": [],
   "source": [
    "url = \"https://public.tableau.com/interactive/views/COVID-19VaccineDashboardPublic/Vaccine?:embed=y&:showVizHome=n&:apiID=host0\"\n",
    "\n",
    "r = requests.get(url)\n",
    "soup = BeautifulSoup(r.text, \"html.parser\")"
   ]
  },
  {
   "cell_type": "code",
   "execution_count": 3,
   "metadata": {
    "execution": {
     "iopub.execute_input": "2021-03-09T21:41:17.563484Z",
     "iopub.status.busy": "2021-03-09T21:41:17.562954Z",
     "iopub.status.idle": "2021-03-09T21:41:17.567042Z",
     "shell.execute_reply": "2021-03-09T21:41:17.566492Z"
    }
   },
   "outputs": [],
   "source": [
    "tableauData = json.loads(soup.find(\"textarea\",{\"id\": \"tsConfigContainer\"}).text)"
   ]
  },
  {
   "cell_type": "markdown",
   "metadata": {},
   "source": [
    "Get the link to the Tableau data"
   ]
  },
  {
   "cell_type": "code",
   "execution_count": 4,
   "metadata": {
    "execution": {
     "iopub.execute_input": "2021-03-09T21:41:17.570689Z",
     "iopub.status.busy": "2021-03-09T21:41:17.570137Z",
     "iopub.status.idle": "2021-03-09T21:41:17.574127Z",
     "shell.execute_reply": "2021-03-09T21:41:17.573509Z"
    }
   },
   "outputs": [],
   "source": [
    "dataUrl = f'https://public.tableau.com{tableauData[\"vizql_root\"]}/bootstrapSession/sessions/{tableauData[\"sessionid\"]}'"
   ]
  },
  {
   "cell_type": "code",
   "execution_count": 5,
   "metadata": {
    "execution": {
     "iopub.execute_input": "2021-03-09T21:41:17.580744Z",
     "iopub.status.busy": "2021-03-09T21:41:17.580130Z",
     "iopub.status.idle": "2021-03-09T21:41:18.023492Z",
     "shell.execute_reply": "2021-03-09T21:41:18.022997Z"
    }
   },
   "outputs": [],
   "source": [
    "r = requests.post(dataUrl, data= {\n",
    "    \"sheet_id\": tableauData[\"sheetId\"],\n",
    "})\n",
    "\n",
    "dataReg = re.search('\\d+;({.*})\\d+;({.*})', r.text, re.MULTILINE)\n",
    "data1 = json.loads(dataReg.group(2))\n",
    "\n",
    "dataJson = data1[\"secondaryInfo\"][\"presModelMap\"][\"dataDictionary\"][\"presModelHolder\"][\"genDataDictionaryPresModel\"][\"dataSegments\"][\"0\"][\"dataColumns\"]"
   ]
  },
  {
   "cell_type": "markdown",
   "metadata": {},
   "source": [
    "Isolate what you want"
   ]
  },
  {
   "cell_type": "code",
   "execution_count": 6,
   "metadata": {
    "execution": {
     "iopub.execute_input": "2021-03-09T21:41:18.027402Z",
     "iopub.status.busy": "2021-03-09T21:41:18.026860Z",
     "iopub.status.idle": "2021-03-09T21:41:18.030613Z",
     "shell.execute_reply": "2021-03-09T21:41:18.030155Z"
    }
   },
   "outputs": [],
   "source": [
    "counties = dataJson[2]['dataValues'][:58]"
   ]
  },
  {
   "cell_type": "code",
   "execution_count": 7,
   "metadata": {
    "execution": {
     "iopub.execute_input": "2021-03-09T21:41:18.034018Z",
     "iopub.status.busy": "2021-03-09T21:41:18.033480Z",
     "iopub.status.idle": "2021-03-09T21:41:18.037940Z",
     "shell.execute_reply": "2021-03-09T21:41:18.037448Z"
    }
   },
   "outputs": [],
   "source": [
    "doses = dataJson[0]['dataValues'][3:61]"
   ]
  },
  {
   "cell_type": "markdown",
   "metadata": {},
   "source": [
    "Data formatting"
   ]
  },
  {
   "cell_type": "code",
   "execution_count": 8,
   "metadata": {
    "execution": {
     "iopub.execute_input": "2021-03-09T21:41:18.041570Z",
     "iopub.status.busy": "2021-03-09T21:41:18.041034Z",
     "iopub.status.idle": "2021-03-09T21:41:18.043747Z",
     "shell.execute_reply": "2021-03-09T21:41:18.043263Z"
    }
   },
   "outputs": [],
   "source": [
    "zipped = dict(zip(counties, doses))"
   ]
  },
  {
   "cell_type": "code",
   "execution_count": 9,
   "metadata": {
    "execution": {
     "iopub.execute_input": "2021-03-09T21:41:18.049596Z",
     "iopub.status.busy": "2021-03-09T21:41:18.048879Z",
     "iopub.status.idle": "2021-03-09T21:41:18.051683Z",
     "shell.execute_reply": "2021-03-09T21:41:18.051056Z"
    }
   },
   "outputs": [],
   "source": [
    "df = pd.Series(zipped).reset_index()"
   ]
  },
  {
   "cell_type": "code",
   "execution_count": 10,
   "metadata": {
    "execution": {
     "iopub.execute_input": "2021-03-09T21:41:18.055684Z",
     "iopub.status.busy": "2021-03-09T21:41:18.055132Z",
     "iopub.status.idle": "2021-03-09T21:41:18.057986Z",
     "shell.execute_reply": "2021-03-09T21:41:18.057307Z"
    }
   },
   "outputs": [],
   "source": [
    "df.columns = ['location','doses']"
   ]
  },
  {
   "cell_type": "markdown",
   "metadata": {},
   "source": [
    "Grab the overall California total"
   ]
  },
  {
   "cell_type": "code",
   "execution_count": 11,
   "metadata": {
    "execution": {
     "iopub.execute_input": "2021-03-09T21:41:18.061881Z",
     "iopub.status.busy": "2021-03-09T21:41:18.061331Z",
     "iopub.status.idle": "2021-03-09T21:41:18.063577Z",
     "shell.execute_reply": "2021-03-09T21:41:18.063038Z"
    }
   },
   "outputs": [],
   "source": [
    "add = {'location':'California','doses':dataJson[0]['dataValues'][2]}"
   ]
  },
  {
   "cell_type": "code",
   "execution_count": 12,
   "metadata": {
    "execution": {
     "iopub.execute_input": "2021-03-09T21:41:18.071102Z",
     "iopub.status.busy": "2021-03-09T21:41:18.069886Z",
     "iopub.status.idle": "2021-03-09T21:41:18.071792Z",
     "shell.execute_reply": "2021-03-09T21:41:18.072247Z"
    }
   },
   "outputs": [],
   "source": [
    "df = df.append(add, ignore_index=True)"
   ]
  },
  {
   "cell_type": "code",
   "execution_count": 13,
   "metadata": {
    "execution": {
     "iopub.execute_input": "2021-03-09T21:41:18.077791Z",
     "iopub.status.busy": "2021-03-09T21:41:18.076471Z",
     "iopub.status.idle": "2021-03-09T21:41:18.078432Z",
     "shell.execute_reply": "2021-03-09T21:41:18.078877Z"
    }
   },
   "outputs": [],
   "source": [
    "df = df.sort_values(by='location')"
   ]
  },
  {
   "cell_type": "code",
   "execution_count": 14,
   "metadata": {
    "execution": {
     "iopub.execute_input": "2021-03-09T21:41:18.086124Z",
     "iopub.status.busy": "2021-03-09T21:41:18.084829Z",
     "iopub.status.idle": "2021-03-09T21:41:18.086825Z",
     "shell.execute_reply": "2021-03-09T21:41:18.087259Z"
    }
   },
   "outputs": [],
   "source": [
    "df = df[df.location == 'California'].append(df[df.location != 'California']).reset_index(drop=True)"
   ]
  },
  {
   "cell_type": "code",
   "execution_count": null,
   "metadata": {},
   "outputs": [],
   "source": []
  },
  {
   "cell_type": "code",
   "execution_count": 15,
   "metadata": {
    "execution": {
     "iopub.execute_input": "2021-03-09T21:41:18.090991Z",
     "iopub.status.busy": "2021-03-09T21:41:18.090410Z",
     "iopub.status.idle": "2021-03-09T21:41:18.109238Z",
     "shell.execute_reply": "2021-03-09T21:41:18.108640Z"
    }
   },
   "outputs": [],
   "source": [
    "tz = pytz.timezone(\"America/New_York\")"
   ]
  },
  {
   "cell_type": "code",
   "execution_count": 16,
   "metadata": {
    "execution": {
     "iopub.execute_input": "2021-03-09T21:41:18.114048Z",
     "iopub.status.busy": "2021-03-09T21:41:18.112423Z",
     "iopub.status.idle": "2021-03-09T21:41:18.114895Z",
     "shell.execute_reply": "2021-03-09T21:41:18.115404Z"
    }
   },
   "outputs": [],
   "source": [
    "today = datetime.now(tz).date()"
   ]
  },
  {
   "cell_type": "code",
   "execution_count": 17,
   "metadata": {
    "execution": {
     "iopub.execute_input": "2021-03-09T21:41:18.120072Z",
     "iopub.status.busy": "2021-03-09T21:41:18.118676Z",
     "iopub.status.idle": "2021-03-09T21:41:18.120789Z",
     "shell.execute_reply": "2021-03-09T21:41:18.121339Z"
    }
   },
   "outputs": [],
   "source": [
    "data_dir = os.path.join(os.path.abspath(\"\"), \"data\")"
   ]
  },
  {
   "cell_type": "code",
   "execution_count": 18,
   "metadata": {
    "execution": {
     "iopub.execute_input": "2021-03-09T21:41:18.125594Z",
     "iopub.status.busy": "2021-03-09T21:41:18.124458Z",
     "iopub.status.idle": "2021-03-09T21:41:18.129748Z",
     "shell.execute_reply": "2021-03-09T21:41:18.130231Z"
    }
   },
   "outputs": [],
   "source": [
    "df.to_csv(os.path.join(data_dir, f\"{today}.csv\"), index=False)"
   ]
  },
  {
   "cell_type": "code",
   "execution_count": null,
   "metadata": {},
   "outputs": [],
   "source": []
  }
 ],
 "metadata": {
  "kernelspec": {
   "display_name": "Python 3",
   "language": "python",
   "name": "python3"
  },
  "language_info": {
   "codemirror_mode": {
    "name": "ipython",
    "version": 3
   },
   "file_extension": ".py",
   "mimetype": "text/x-python",
   "name": "python",
   "nbconvert_exporter": "python",
   "pygments_lexer": "ipython3",
   "version": "3.8.8"
  }
 },
 "nbformat": 4,
 "nbformat_minor": 4
}
