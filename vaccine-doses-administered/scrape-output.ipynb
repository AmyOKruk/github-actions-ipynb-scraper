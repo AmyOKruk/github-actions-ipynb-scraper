{
 "cells": [
  {
   "cell_type": "markdown",
   "metadata": {},
   "source": [
    "# California COVID vaccinations scrape"
   ]
  },
  {
   "cell_type": "markdown",
   "metadata": {},
   "source": [
    "By [Amy O'Kruk](https://twitter.com/amyokruk)"
   ]
  },
  {
   "cell_type": "markdown",
   "metadata": {},
   "source": [
    "Downloads data on vaccine doses administered by county and statewide from a Tableau-powered dashboard from the California Department of Public Health."
   ]
  },
  {
   "cell_type": "code",
   "execution_count": 1,
   "metadata": {
    "execution": {
     "iopub.execute_input": "2021-03-14T08:46:16.270894Z",
     "iopub.status.busy": "2021-03-14T08:46:16.270288Z",
     "iopub.status.idle": "2021-03-14T08:46:16.633912Z",
     "shell.execute_reply": "2021-03-14T08:46:16.632929Z"
    }
   },
   "outputs": [],
   "source": [
    "import pandas as pd\n",
    "import requests\n",
    "from bs4 import BeautifulSoup\n",
    "import json\n",
    "import re\n",
    "import time\n",
    "from time import gmtime, strftime \n",
    "import os\n",
    "import pytz\n",
    "from datetime import datetime"
   ]
  },
  {
   "cell_type": "markdown",
   "metadata": {},
   "source": [
    "Scrape the dashboard page"
   ]
  },
  {
   "cell_type": "code",
   "execution_count": 2,
   "metadata": {
    "execution": {
     "iopub.execute_input": "2021-03-14T08:46:16.640186Z",
     "iopub.status.busy": "2021-03-14T08:46:16.639635Z",
     "iopub.status.idle": "2021-03-14T08:46:17.028908Z",
     "shell.execute_reply": "2021-03-14T08:46:17.028342Z"
    }
   },
   "outputs": [],
   "source": [
    "url = \"https://public.tableau.com/interactive/views/COVID-19VaccineDashboardPublic/Vaccine?:embed=y&:showVizHome=n&:apiID=host0\"\n",
    "\n",
    "r = requests.get(url)\n",
    "soup = BeautifulSoup(r.text, \"html.parser\")"
   ]
  },
  {
   "cell_type": "code",
   "execution_count": 3,
   "metadata": {
    "execution": {
     "iopub.execute_input": "2021-03-14T08:46:17.033316Z",
     "iopub.status.busy": "2021-03-14T08:46:17.032831Z",
     "iopub.status.idle": "2021-03-14T08:46:17.034656Z",
     "shell.execute_reply": "2021-03-14T08:46:17.035057Z"
    }
   },
   "outputs": [],
   "source": [
    "tableauData = json.loads(soup.find(\"textarea\",{\"id\": \"tsConfigContainer\"}).text)"
   ]
  },
  {
   "cell_type": "markdown",
   "metadata": {},
   "source": [
    "Get the link to the Tableau data"
   ]
  },
  {
   "cell_type": "code",
   "execution_count": 4,
   "metadata": {
    "execution": {
     "iopub.execute_input": "2021-03-14T08:46:17.039399Z",
     "iopub.status.busy": "2021-03-14T08:46:17.038226Z",
     "iopub.status.idle": "2021-03-14T08:46:17.040054Z",
     "shell.execute_reply": "2021-03-14T08:46:17.040513Z"
    }
   },
   "outputs": [],
   "source": [
    "dataUrl = f'https://public.tableau.com{tableauData[\"vizql_root\"]}/bootstrapSession/sessions/{tableauData[\"sessionid\"]}'"
   ]
  },
  {
   "cell_type": "code",
   "execution_count": 5,
   "metadata": {
    "execution": {
     "iopub.execute_input": "2021-03-14T08:46:17.046829Z",
     "iopub.status.busy": "2021-03-14T08:46:17.046337Z",
     "iopub.status.idle": "2021-03-14T08:46:17.549278Z",
     "shell.execute_reply": "2021-03-14T08:46:17.548764Z"
    }
   },
   "outputs": [],
   "source": [
    "r = requests.post(dataUrl, data= {\n",
    "    \"sheet_id\": tableauData[\"sheetId\"],\n",
    "})\n",
    "\n",
    "dataReg = re.search('\\d+;({.*})\\d+;({.*})', r.text, re.MULTILINE)\n",
    "data1 = json.loads(dataReg.group(2))\n",
    "\n",
    "dataJson = data1[\"secondaryInfo\"][\"presModelMap\"][\"dataDictionary\"][\"presModelHolder\"][\"genDataDictionaryPresModel\"][\"dataSegments\"][\"0\"][\"dataColumns\"]"
   ]
  },
  {
   "cell_type": "markdown",
   "metadata": {},
   "source": [
    "Isolate what you want"
   ]
  },
  {
   "cell_type": "code",
   "execution_count": 6,
   "metadata": {
    "execution": {
     "iopub.execute_input": "2021-03-14T08:46:17.553995Z",
     "iopub.status.busy": "2021-03-14T08:46:17.552745Z",
     "iopub.status.idle": "2021-03-14T08:46:17.554612Z",
     "shell.execute_reply": "2021-03-14T08:46:17.555037Z"
    }
   },
   "outputs": [],
   "source": [
    "counties = dataJson[2]['dataValues'][:58]"
   ]
  },
  {
   "cell_type": "code",
   "execution_count": 7,
   "metadata": {
    "execution": {
     "iopub.execute_input": "2021-03-14T08:46:17.559495Z",
     "iopub.status.busy": "2021-03-14T08:46:17.558331Z",
     "iopub.status.idle": "2021-03-14T08:46:17.560212Z",
     "shell.execute_reply": "2021-03-14T08:46:17.560665Z"
    }
   },
   "outputs": [],
   "source": [
    "doses = dataJson[0]['dataValues'][3:61]"
   ]
  },
  {
   "cell_type": "markdown",
   "metadata": {},
   "source": [
    "Data formatting"
   ]
  },
  {
   "cell_type": "code",
   "execution_count": 8,
   "metadata": {
    "execution": {
     "iopub.execute_input": "2021-03-14T08:46:17.564908Z",
     "iopub.status.busy": "2021-03-14T08:46:17.563756Z",
     "iopub.status.idle": "2021-03-14T08:46:17.565480Z",
     "shell.execute_reply": "2021-03-14T08:46:17.565873Z"
    }
   },
   "outputs": [],
   "source": [
    "zipped = dict(zip(counties, doses))"
   ]
  },
  {
   "cell_type": "code",
   "execution_count": 9,
   "metadata": {
    "execution": {
     "iopub.execute_input": "2021-03-14T08:46:17.572174Z",
     "iopub.status.busy": "2021-03-14T08:46:17.571091Z",
     "iopub.status.idle": "2021-03-14T08:46:17.572864Z",
     "shell.execute_reply": "2021-03-14T08:46:17.573260Z"
    }
   },
   "outputs": [],
   "source": [
    "df = pd.Series(zipped).reset_index()"
   ]
  },
  {
   "cell_type": "code",
   "execution_count": 10,
   "metadata": {
    "execution": {
     "iopub.execute_input": "2021-03-14T08:46:17.577790Z",
     "iopub.status.busy": "2021-03-14T08:46:17.576538Z",
     "iopub.status.idle": "2021-03-14T08:46:17.578379Z",
     "shell.execute_reply": "2021-03-14T08:46:17.578803Z"
    }
   },
   "outputs": [],
   "source": [
    "df.columns = ['location','doses']"
   ]
  },
  {
   "cell_type": "markdown",
   "metadata": {},
   "source": [
    "Grab the overall California total"
   ]
  },
  {
   "cell_type": "code",
   "execution_count": 11,
   "metadata": {
    "execution": {
     "iopub.execute_input": "2021-03-14T08:46:17.582988Z",
     "iopub.status.busy": "2021-03-14T08:46:17.581815Z",
     "iopub.status.idle": "2021-03-14T08:46:17.583596Z",
     "shell.execute_reply": "2021-03-14T08:46:17.583989Z"
    }
   },
   "outputs": [],
   "source": [
    "add = {'location':'California','doses':dataJson[0]['dataValues'][2]}"
   ]
  },
  {
   "cell_type": "code",
   "execution_count": 12,
   "metadata": {
    "execution": {
     "iopub.execute_input": "2021-03-14T08:46:17.590952Z",
     "iopub.status.busy": "2021-03-14T08:46:17.589688Z",
     "iopub.status.idle": "2021-03-14T08:46:17.591547Z",
     "shell.execute_reply": "2021-03-14T08:46:17.591973Z"
    }
   },
   "outputs": [],
   "source": [
    "df = df.append(add, ignore_index=True)"
   ]
  },
  {
   "cell_type": "code",
   "execution_count": 13,
   "metadata": {
    "execution": {
     "iopub.execute_input": "2021-03-14T08:46:17.596277Z",
     "iopub.status.busy": "2021-03-14T08:46:17.595432Z",
     "iopub.status.idle": "2021-03-14T08:46:17.597178Z",
     "shell.execute_reply": "2021-03-14T08:46:17.597547Z"
    }
   },
   "outputs": [],
   "source": [
    "df = df.sort_values(by='location')"
   ]
  },
  {
   "cell_type": "code",
   "execution_count": 14,
   "metadata": {
    "execution": {
     "iopub.execute_input": "2021-03-14T08:46:17.603080Z",
     "iopub.status.busy": "2021-03-14T08:46:17.602624Z",
     "iopub.status.idle": "2021-03-14T08:46:17.606323Z",
     "shell.execute_reply": "2021-03-14T08:46:17.605378Z"
    }
   },
   "outputs": [],
   "source": [
    "df = df[df.location == 'California'].append(df[df.location != 'California']).reset_index(drop=True)"
   ]
  },
  {
   "cell_type": "code",
   "execution_count": null,
   "metadata": {},
   "outputs": [],
   "source": []
  },
  {
   "cell_type": "code",
   "execution_count": 15,
   "metadata": {
    "execution": {
     "iopub.execute_input": "2021-03-14T08:46:17.609480Z",
     "iopub.status.busy": "2021-03-14T08:46:17.608981Z",
     "iopub.status.idle": "2021-03-14T08:46:17.626471Z",
     "shell.execute_reply": "2021-03-14T08:46:17.626911Z"
    }
   },
   "outputs": [],
   "source": [
    "tz = pytz.timezone(\"America/New_York\")"
   ]
  },
  {
   "cell_type": "code",
   "execution_count": 16,
   "metadata": {
    "execution": {
     "iopub.execute_input": "2021-03-14T08:46:17.630746Z",
     "iopub.status.busy": "2021-03-14T08:46:17.630267Z",
     "iopub.status.idle": "2021-03-14T08:46:17.633459Z",
     "shell.execute_reply": "2021-03-14T08:46:17.633832Z"
    }
   },
   "outputs": [],
   "source": [
    "today = datetime.now(tz).date()"
   ]
  },
  {
   "cell_type": "code",
   "execution_count": 17,
   "metadata": {
    "execution": {
     "iopub.execute_input": "2021-03-14T08:46:17.637520Z",
     "iopub.status.busy": "2021-03-14T08:46:17.637002Z",
     "iopub.status.idle": "2021-03-14T08:46:17.640392Z",
     "shell.execute_reply": "2021-03-14T08:46:17.639926Z"
    }
   },
   "outputs": [],
   "source": [
    "data_dir = os.path.join(os.path.abspath(\"\"), \"data\")"
   ]
  },
  {
   "cell_type": "code",
   "execution_count": 18,
   "metadata": {
    "execution": {
     "iopub.execute_input": "2021-03-14T08:46:17.644621Z",
     "iopub.status.busy": "2021-03-14T08:46:17.643550Z",
     "iopub.status.idle": "2021-03-14T08:46:17.648026Z",
     "shell.execute_reply": "2021-03-14T08:46:17.647600Z"
    }
   },
   "outputs": [],
   "source": [
    "df.to_csv(os.path.join(data_dir, f\"{today}.csv\"), index=False)"
   ]
  },
  {
   "cell_type": "code",
   "execution_count": null,
   "metadata": {},
   "outputs": [],
   "source": []
  }
 ],
 "metadata": {
  "kernelspec": {
   "display_name": "Python 3",
   "language": "python",
   "name": "python3"
  },
  "language_info": {
   "codemirror_mode": {
    "name": "ipython",
    "version": 3
   },
   "file_extension": ".py",
   "mimetype": "text/x-python",
   "name": "python",
   "nbconvert_exporter": "python",
   "pygments_lexer": "ipython3",
   "version": "3.8.8"
  }
 },
 "nbformat": 4,
 "nbformat_minor": 4
}
