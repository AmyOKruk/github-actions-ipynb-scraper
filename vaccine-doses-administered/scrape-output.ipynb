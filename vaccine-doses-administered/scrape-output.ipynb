{
 "cells": [
  {
   "cell_type": "markdown",
   "metadata": {},
   "source": [
    "# California COVID vaccinations scrape"
   ]
  },
  {
   "cell_type": "markdown",
   "metadata": {},
   "source": [
    "By [Amy O'Kruk](https://twitter.com/amyokruk)"
   ]
  },
  {
   "cell_type": "markdown",
   "metadata": {},
   "source": [
    "Downloads data on vaccine doses administered by county and statewide from a Tableau-powered dashboard from the California Department of Public Health."
   ]
  },
  {
   "cell_type": "code",
   "execution_count": 1,
   "metadata": {
    "execution": {
     "iopub.execute_input": "2021-03-24T23:23:13.283344Z",
     "iopub.status.busy": "2021-03-24T23:23:13.282158Z",
     "iopub.status.idle": "2021-03-24T23:23:13.692553Z",
     "shell.execute_reply": "2021-03-24T23:23:13.691608Z"
    }
   },
   "outputs": [],
   "source": [
    "import pandas as pd\n",
    "import requests\n",
    "from bs4 import BeautifulSoup\n",
    "import json\n",
    "import re\n",
    "import time\n",
    "from time import gmtime, strftime \n",
    "import os\n",
    "import pytz\n",
    "from datetime import datetime"
   ]
  },
  {
   "cell_type": "markdown",
   "metadata": {},
   "source": [
    "Scrape the dashboard page"
   ]
  },
  {
   "cell_type": "code",
   "execution_count": 2,
   "metadata": {
    "execution": {
     "iopub.execute_input": "2021-03-24T23:23:13.699722Z",
     "iopub.status.busy": "2021-03-24T23:23:13.698697Z",
     "iopub.status.idle": "2021-03-24T23:23:13.981741Z",
     "shell.execute_reply": "2021-03-24T23:23:13.981260Z"
    }
   },
   "outputs": [],
   "source": [
    "url = \"https://public.tableau.com/interactive/views/COVID-19VaccineDashboardPublic/Vaccine?:embed=y&:showVizHome=n&:apiID=host0\"\n",
    "\n",
    "r = requests.get(url)\n",
    "soup = BeautifulSoup(r.text, \"html.parser\")"
   ]
  },
  {
   "cell_type": "code",
   "execution_count": 3,
   "metadata": {
    "execution": {
     "iopub.execute_input": "2021-03-24T23:23:13.986761Z",
     "iopub.status.busy": "2021-03-24T23:23:13.986075Z",
     "iopub.status.idle": "2021-03-24T23:23:13.989603Z",
     "shell.execute_reply": "2021-03-24T23:23:13.990028Z"
    }
   },
   "outputs": [],
   "source": [
    "tableauData = json.loads(soup.find(\"textarea\",{\"id\": \"tsConfigContainer\"}).text)"
   ]
  },
  {
   "cell_type": "markdown",
   "metadata": {},
   "source": [
    "Get the link to the Tableau data"
   ]
  },
  {
   "cell_type": "code",
   "execution_count": 4,
   "metadata": {
    "execution": {
     "iopub.execute_input": "2021-03-24T23:23:13.995311Z",
     "iopub.status.busy": "2021-03-24T23:23:13.993720Z",
     "iopub.status.idle": "2021-03-24T23:23:13.995960Z",
     "shell.execute_reply": "2021-03-24T23:23:13.996431Z"
    }
   },
   "outputs": [],
   "source": [
    "dataUrl = f'https://public.tableau.com{tableauData[\"vizql_root\"]}/bootstrapSession/sessions/{tableauData[\"sessionid\"]}'"
   ]
  },
  {
   "cell_type": "code",
   "execution_count": 5,
   "metadata": {
    "execution": {
     "iopub.execute_input": "2021-03-24T23:23:14.003510Z",
     "iopub.status.busy": "2021-03-24T23:23:14.002607Z",
     "iopub.status.idle": "2021-03-24T23:23:14.159556Z",
     "shell.execute_reply": "2021-03-24T23:23:14.159001Z"
    }
   },
   "outputs": [],
   "source": [
    "r = requests.post(dataUrl, data= {\n",
    "    \"sheet_id\": tableauData[\"sheetId\"],\n",
    "})\n",
    "\n",
    "dataReg = re.search('\\d+;({.*})\\d+;({.*})', r.text, re.MULTILINE)\n",
    "data1 = json.loads(dataReg.group(2))\n",
    "\n",
    "dataJson = data1[\"secondaryInfo\"][\"presModelMap\"][\"dataDictionary\"][\"presModelHolder\"][\"genDataDictionaryPresModel\"][\"dataSegments\"][\"0\"][\"dataColumns\"]"
   ]
  },
  {
   "cell_type": "markdown",
   "metadata": {},
   "source": [
    "Isolate what you want"
   ]
  },
  {
   "cell_type": "code",
   "execution_count": 6,
   "metadata": {
    "execution": {
     "iopub.execute_input": "2021-03-24T23:23:14.165257Z",
     "iopub.status.busy": "2021-03-24T23:23:14.163452Z",
     "iopub.status.idle": "2021-03-24T23:23:14.166012Z",
     "shell.execute_reply": "2021-03-24T23:23:14.166482Z"
    }
   },
   "outputs": [],
   "source": [
    "counties = dataJson[2]['dataValues'][:58]"
   ]
  },
  {
   "cell_type": "code",
   "execution_count": 7,
   "metadata": {
    "execution": {
     "iopub.execute_input": "2021-03-24T23:23:14.171747Z",
     "iopub.status.busy": "2021-03-24T23:23:14.169968Z",
     "iopub.status.idle": "2021-03-24T23:23:14.172382Z",
     "shell.execute_reply": "2021-03-24T23:23:14.172862Z"
    }
   },
   "outputs": [],
   "source": [
    "doses = dataJson[0]['dataValues'][3:61]"
   ]
  },
  {
   "cell_type": "markdown",
   "metadata": {},
   "source": [
    "Data formatting"
   ]
  },
  {
   "cell_type": "code",
   "execution_count": 8,
   "metadata": {
    "execution": {
     "iopub.execute_input": "2021-03-24T23:23:14.177881Z",
     "iopub.status.busy": "2021-03-24T23:23:14.176479Z",
     "iopub.status.idle": "2021-03-24T23:23:14.178508Z",
     "shell.execute_reply": "2021-03-24T23:23:14.179155Z"
    }
   },
   "outputs": [],
   "source": [
    "zipped = dict(zip(counties, doses))"
   ]
  },
  {
   "cell_type": "code",
   "execution_count": 9,
   "metadata": {
    "execution": {
     "iopub.execute_input": "2021-03-24T23:23:14.186458Z",
     "iopub.status.busy": "2021-03-24T23:23:14.184949Z",
     "iopub.status.idle": "2021-03-24T23:23:14.187197Z",
     "shell.execute_reply": "2021-03-24T23:23:14.187658Z"
    }
   },
   "outputs": [],
   "source": [
    "df = pd.Series(zipped).reset_index()"
   ]
  },
  {
   "cell_type": "code",
   "execution_count": 10,
   "metadata": {
    "execution": {
     "iopub.execute_input": "2021-03-24T23:23:14.192715Z",
     "iopub.status.busy": "2021-03-24T23:23:14.191244Z",
     "iopub.status.idle": "2021-03-24T23:23:14.193368Z",
     "shell.execute_reply": "2021-03-24T23:23:14.193881Z"
    }
   },
   "outputs": [],
   "source": [
    "df.columns = ['location','doses']"
   ]
  },
  {
   "cell_type": "markdown",
   "metadata": {},
   "source": [
    "Grab the overall California total"
   ]
  },
  {
   "cell_type": "code",
   "execution_count": 11,
   "metadata": {
    "execution": {
     "iopub.execute_input": "2021-03-24T23:23:14.198783Z",
     "iopub.status.busy": "2021-03-24T23:23:14.197368Z",
     "iopub.status.idle": "2021-03-24T23:23:14.199511Z",
     "shell.execute_reply": "2021-03-24T23:23:14.199979Z"
    }
   },
   "outputs": [],
   "source": [
    "add = {'location':'California','doses':dataJson[0]['dataValues'][2]}"
   ]
  },
  {
   "cell_type": "code",
   "execution_count": 12,
   "metadata": {
    "execution": {
     "iopub.execute_input": "2021-03-24T23:23:14.206473Z",
     "iopub.status.busy": "2021-03-24T23:23:14.204410Z",
     "iopub.status.idle": "2021-03-24T23:23:14.208461Z",
     "shell.execute_reply": "2021-03-24T23:23:14.208917Z"
    }
   },
   "outputs": [],
   "source": [
    "df = df.append(add, ignore_index=True)"
   ]
  },
  {
   "cell_type": "code",
   "execution_count": 13,
   "metadata": {
    "execution": {
     "iopub.execute_input": "2021-03-24T23:23:14.215459Z",
     "iopub.status.busy": "2021-03-24T23:23:14.213814Z",
     "iopub.status.idle": "2021-03-24T23:23:14.216167Z",
     "shell.execute_reply": "2021-03-24T23:23:14.216628Z"
    }
   },
   "outputs": [],
   "source": [
    "df = df.sort_values(by='location')"
   ]
  },
  {
   "cell_type": "code",
   "execution_count": 14,
   "metadata": {
    "execution": {
     "iopub.execute_input": "2021-03-24T23:23:14.223262Z",
     "iopub.status.busy": "2021-03-24T23:23:14.221848Z",
     "iopub.status.idle": "2021-03-24T23:23:14.223954Z",
     "shell.execute_reply": "2021-03-24T23:23:14.224379Z"
    }
   },
   "outputs": [],
   "source": [
    "df = df[df.location == 'California'].append(df[df.location != 'California']).reset_index(drop=True)"
   ]
  },
  {
   "cell_type": "code",
   "execution_count": null,
   "metadata": {},
   "outputs": [],
   "source": []
  },
  {
   "cell_type": "code",
   "execution_count": 15,
   "metadata": {
    "execution": {
     "iopub.execute_input": "2021-03-24T23:23:14.228434Z",
     "iopub.status.busy": "2021-03-24T23:23:14.227841Z",
     "iopub.status.idle": "2021-03-24T23:23:14.247603Z",
     "shell.execute_reply": "2021-03-24T23:23:14.248106Z"
    }
   },
   "outputs": [],
   "source": [
    "tz = pytz.timezone(\"America/New_York\")"
   ]
  },
  {
   "cell_type": "code",
   "execution_count": 16,
   "metadata": {
    "execution": {
     "iopub.execute_input": "2021-03-24T23:23:14.252998Z",
     "iopub.status.busy": "2021-03-24T23:23:14.251465Z",
     "iopub.status.idle": "2021-03-24T23:23:14.253735Z",
     "shell.execute_reply": "2021-03-24T23:23:14.254192Z"
    }
   },
   "outputs": [],
   "source": [
    "today = datetime.now(tz).date()"
   ]
  },
  {
   "cell_type": "code",
   "execution_count": 17,
   "metadata": {
    "execution": {
     "iopub.execute_input": "2021-03-24T23:23:14.259354Z",
     "iopub.status.busy": "2021-03-24T23:23:14.257866Z",
     "iopub.status.idle": "2021-03-24T23:23:14.260025Z",
     "shell.execute_reply": "2021-03-24T23:23:14.260483Z"
    }
   },
   "outputs": [],
   "source": [
    "data_dir = os.path.join(os.path.abspath(\"\"), \"data\")"
   ]
  },
  {
   "cell_type": "code",
   "execution_count": 18,
   "metadata": {
    "execution": {
     "iopub.execute_input": "2021-03-24T23:23:14.265501Z",
     "iopub.status.busy": "2021-03-24T23:23:14.264517Z",
     "iopub.status.idle": "2021-03-24T23:23:14.268728Z",
     "shell.execute_reply": "2021-03-24T23:23:14.269198Z"
    }
   },
   "outputs": [],
   "source": [
    "df.to_csv(os.path.join(data_dir, f\"{today}.csv\"), index=False)"
   ]
  },
  {
   "cell_type": "code",
   "execution_count": null,
   "metadata": {},
   "outputs": [],
   "source": []
  }
 ],
 "metadata": {
  "kernelspec": {
   "display_name": "Python 3",
   "language": "python",
   "name": "python3"
  },
  "language_info": {
   "codemirror_mode": {
    "name": "ipython",
    "version": 3
   },
   "file_extension": ".py",
   "mimetype": "text/x-python",
   "name": "python",
   "nbconvert_exporter": "python",
   "pygments_lexer": "ipython3",
   "version": "3.8.8"
  }
 },
 "nbformat": 4,
 "nbformat_minor": 4
}
