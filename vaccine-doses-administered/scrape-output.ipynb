{
 "cells": [
  {
   "cell_type": "markdown",
   "metadata": {},
   "source": [
    "# California COVID vaccinations scrape"
   ]
  },
  {
   "cell_type": "markdown",
   "metadata": {},
   "source": [
    "By [Amy O'Kruk](https://twitter.com/amyokruk)"
   ]
  },
  {
   "cell_type": "markdown",
   "metadata": {},
   "source": [
    "Downloads data on vaccine doses administered by county and statewide from a Tableau-powered dashboard from the California Department of Public Health."
   ]
  },
  {
   "cell_type": "code",
   "execution_count": 1,
   "metadata": {
    "execution": {
     "iopub.execute_input": "2021-03-11T22:13:58.476583Z",
     "iopub.status.busy": "2021-03-11T22:13:58.475887Z",
     "iopub.status.idle": "2021-03-11T22:13:58.944362Z",
     "shell.execute_reply": "2021-03-11T22:13:58.943677Z"
    }
   },
   "outputs": [],
   "source": [
    "import pandas as pd\n",
    "import requests\n",
    "from bs4 import BeautifulSoup\n",
    "import json\n",
    "import re\n",
    "import time\n",
    "from time import gmtime, strftime \n",
    "import os\n",
    "import pytz\n",
    "from datetime import datetime"
   ]
  },
  {
   "cell_type": "markdown",
   "metadata": {},
   "source": [
    "Scrape the dashboard page"
   ]
  },
  {
   "cell_type": "code",
   "execution_count": 2,
   "metadata": {
    "execution": {
     "iopub.execute_input": "2021-03-11T22:13:58.951442Z",
     "iopub.status.busy": "2021-03-11T22:13:58.948594Z",
     "iopub.status.idle": "2021-03-11T22:13:59.247419Z",
     "shell.execute_reply": "2021-03-11T22:13:59.247994Z"
    }
   },
   "outputs": [],
   "source": [
    "url = \"https://public.tableau.com/interactive/views/COVID-19VaccineDashboardPublic/Vaccine?:embed=y&:showVizHome=n&:apiID=host0\"\n",
    "\n",
    "r = requests.get(url)\n",
    "soup = BeautifulSoup(r.text, \"html.parser\")"
   ]
  },
  {
   "cell_type": "code",
   "execution_count": 3,
   "metadata": {
    "execution": {
     "iopub.execute_input": "2021-03-11T22:13:59.253416Z",
     "iopub.status.busy": "2021-03-11T22:13:59.252788Z",
     "iopub.status.idle": "2021-03-11T22:13:59.257035Z",
     "shell.execute_reply": "2021-03-11T22:13:59.256533Z"
    }
   },
   "outputs": [],
   "source": [
    "tableauData = json.loads(soup.find(\"textarea\",{\"id\": \"tsConfigContainer\"}).text)"
   ]
  },
  {
   "cell_type": "markdown",
   "metadata": {},
   "source": [
    "Get the link to the Tableau data"
   ]
  },
  {
   "cell_type": "code",
   "execution_count": 4,
   "metadata": {
    "execution": {
     "iopub.execute_input": "2021-03-11T22:13:59.262134Z",
     "iopub.status.busy": "2021-03-11T22:13:59.260701Z",
     "iopub.status.idle": "2021-03-11T22:13:59.262984Z",
     "shell.execute_reply": "2021-03-11T22:13:59.263526Z"
    }
   },
   "outputs": [],
   "source": [
    "dataUrl = f'https://public.tableau.com{tableauData[\"vizql_root\"]}/bootstrapSession/sessions/{tableauData[\"sessionid\"]}'"
   ]
  },
  {
   "cell_type": "code",
   "execution_count": 5,
   "metadata": {
    "execution": {
     "iopub.execute_input": "2021-03-11T22:13:59.271109Z",
     "iopub.status.busy": "2021-03-11T22:13:59.270427Z",
     "iopub.status.idle": "2021-03-11T22:13:59.491442Z",
     "shell.execute_reply": "2021-03-11T22:13:59.496281Z"
    }
   },
   "outputs": [],
   "source": [
    "r = requests.post(dataUrl, data= {\n",
    "    \"sheet_id\": tableauData[\"sheetId\"],\n",
    "})\n",
    "\n",
    "dataReg = re.search('\\d+;({.*})\\d+;({.*})', r.text, re.MULTILINE)\n",
    "data1 = json.loads(dataReg.group(2))\n",
    "\n",
    "dataJson = data1[\"secondaryInfo\"][\"presModelMap\"][\"dataDictionary\"][\"presModelHolder\"][\"genDataDictionaryPresModel\"][\"dataSegments\"][\"0\"][\"dataColumns\"]"
   ]
  },
  {
   "cell_type": "markdown",
   "metadata": {},
   "source": [
    "Isolate what you want"
   ]
  },
  {
   "cell_type": "code",
   "execution_count": 6,
   "metadata": {
    "execution": {
     "iopub.execute_input": "2021-03-11T22:13:59.501928Z",
     "iopub.status.busy": "2021-03-11T22:13:59.500437Z",
     "iopub.status.idle": "2021-03-11T22:13:59.502617Z",
     "shell.execute_reply": "2021-03-11T22:13:59.503119Z"
    }
   },
   "outputs": [],
   "source": [
    "counties = dataJson[2]['dataValues'][:58]"
   ]
  },
  {
   "cell_type": "code",
   "execution_count": 7,
   "metadata": {
    "execution": {
     "iopub.execute_input": "2021-03-11T22:13:59.508428Z",
     "iopub.status.busy": "2021-03-11T22:13:59.506800Z",
     "iopub.status.idle": "2021-03-11T22:13:59.509160Z",
     "shell.execute_reply": "2021-03-11T22:13:59.510033Z"
    }
   },
   "outputs": [],
   "source": [
    "doses = dataJson[0]['dataValues'][3:61]"
   ]
  },
  {
   "cell_type": "markdown",
   "metadata": {},
   "source": [
    "Data formatting"
   ]
  },
  {
   "cell_type": "code",
   "execution_count": 8,
   "metadata": {
    "execution": {
     "iopub.execute_input": "2021-03-11T22:13:59.515196Z",
     "iopub.status.busy": "2021-03-11T22:13:59.513685Z",
     "iopub.status.idle": "2021-03-11T22:13:59.515903Z",
     "shell.execute_reply": "2021-03-11T22:13:59.516420Z"
    }
   },
   "outputs": [],
   "source": [
    "zipped = dict(zip(counties, doses))"
   ]
  },
  {
   "cell_type": "code",
   "execution_count": 9,
   "metadata": {
    "execution": {
     "iopub.execute_input": "2021-03-11T22:13:59.524145Z",
     "iopub.status.busy": "2021-03-11T22:13:59.522620Z",
     "iopub.status.idle": "2021-03-11T22:13:59.524829Z",
     "shell.execute_reply": "2021-03-11T22:13:59.525493Z"
    }
   },
   "outputs": [],
   "source": [
    "df = pd.Series(zipped).reset_index()"
   ]
  },
  {
   "cell_type": "code",
   "execution_count": 10,
   "metadata": {
    "execution": {
     "iopub.execute_input": "2021-03-11T22:13:59.535076Z",
     "iopub.status.busy": "2021-03-11T22:13:59.533590Z",
     "iopub.status.idle": "2021-03-11T22:13:59.535745Z",
     "shell.execute_reply": "2021-03-11T22:13:59.536259Z"
    }
   },
   "outputs": [],
   "source": [
    "df.columns = ['location','doses']"
   ]
  },
  {
   "cell_type": "markdown",
   "metadata": {},
   "source": [
    "Grab the overall California total"
   ]
  },
  {
   "cell_type": "code",
   "execution_count": 11,
   "metadata": {
    "execution": {
     "iopub.execute_input": "2021-03-11T22:13:59.541703Z",
     "iopub.status.busy": "2021-03-11T22:13:59.540059Z",
     "iopub.status.idle": "2021-03-11T22:13:59.542374Z",
     "shell.execute_reply": "2021-03-11T22:13:59.542949Z"
    }
   },
   "outputs": [],
   "source": [
    "add = {'location':'California','doses':dataJson[0]['dataValues'][2]}"
   ]
  },
  {
   "cell_type": "code",
   "execution_count": 12,
   "metadata": {
    "execution": {
     "iopub.execute_input": "2021-03-11T22:13:59.551493Z",
     "iopub.status.busy": "2021-03-11T22:13:59.550003Z",
     "iopub.status.idle": "2021-03-11T22:13:59.552171Z",
     "shell.execute_reply": "2021-03-11T22:13:59.552687Z"
    }
   },
   "outputs": [],
   "source": [
    "df = df.append(add, ignore_index=True)"
   ]
  },
  {
   "cell_type": "code",
   "execution_count": 13,
   "metadata": {
    "execution": {
     "iopub.execute_input": "2021-03-11T22:13:59.558772Z",
     "iopub.status.busy": "2021-03-11T22:13:59.557351Z",
     "iopub.status.idle": "2021-03-11T22:13:59.559535Z",
     "shell.execute_reply": "2021-03-11T22:13:59.560039Z"
    }
   },
   "outputs": [],
   "source": [
    "df = df.sort_values(by='location')"
   ]
  },
  {
   "cell_type": "code",
   "execution_count": 14,
   "metadata": {
    "execution": {
     "iopub.execute_input": "2021-03-11T22:13:59.567686Z",
     "iopub.status.busy": "2021-03-11T22:13:59.567070Z",
     "iopub.status.idle": "2021-03-11T22:13:59.569909Z",
     "shell.execute_reply": "2021-03-11T22:13:59.569329Z"
    }
   },
   "outputs": [],
   "source": [
    "df = df[df.location == 'California'].append(df[df.location != 'California']).reset_index(drop=True)"
   ]
  },
  {
   "cell_type": "code",
   "execution_count": null,
   "metadata": {},
   "outputs": [],
   "source": []
  },
  {
   "cell_type": "code",
   "execution_count": 15,
   "metadata": {
    "execution": {
     "iopub.execute_input": "2021-03-11T22:13:59.574040Z",
     "iopub.status.busy": "2021-03-11T22:13:59.573415Z",
     "iopub.status.idle": "2021-03-11T22:13:59.594556Z",
     "shell.execute_reply": "2021-03-11T22:13:59.594016Z"
    }
   },
   "outputs": [],
   "source": [
    "tz = pytz.timezone(\"America/New_York\")"
   ]
  },
  {
   "cell_type": "code",
   "execution_count": 16,
   "metadata": {
    "execution": {
     "iopub.execute_input": "2021-03-11T22:13:59.599710Z",
     "iopub.status.busy": "2021-03-11T22:13:59.598273Z",
     "iopub.status.idle": "2021-03-11T22:13:59.600391Z",
     "shell.execute_reply": "2021-03-11T22:13:59.600899Z"
    }
   },
   "outputs": [],
   "source": [
    "today = datetime.now(tz).date()"
   ]
  },
  {
   "cell_type": "code",
   "execution_count": 17,
   "metadata": {
    "execution": {
     "iopub.execute_input": "2021-03-11T22:13:59.607340Z",
     "iopub.status.busy": "2021-03-11T22:13:59.605812Z",
     "iopub.status.idle": "2021-03-11T22:13:59.608011Z",
     "shell.execute_reply": "2021-03-11T22:13:59.608509Z"
    }
   },
   "outputs": [],
   "source": [
    "data_dir = os.path.join(os.path.abspath(\"\"), \"data\")"
   ]
  },
  {
   "cell_type": "code",
   "execution_count": 18,
   "metadata": {
    "execution": {
     "iopub.execute_input": "2021-03-11T22:13:59.613670Z",
     "iopub.status.busy": "2021-03-11T22:13:59.612273Z",
     "iopub.status.idle": "2021-03-11T22:13:59.617567Z",
     "shell.execute_reply": "2021-03-11T22:13:59.617023Z"
    }
   },
   "outputs": [],
   "source": [
    "df.to_csv(os.path.join(data_dir, f\"{today}.csv\"), index=False)"
   ]
  },
  {
   "cell_type": "code",
   "execution_count": null,
   "metadata": {},
   "outputs": [],
   "source": []
  }
 ],
 "metadata": {
  "kernelspec": {
   "display_name": "Python 3",
   "language": "python",
   "name": "python3"
  },
  "language_info": {
   "codemirror_mode": {
    "name": "ipython",
    "version": 3
   },
   "file_extension": ".py",
   "mimetype": "text/x-python",
   "name": "python",
   "nbconvert_exporter": "python",
   "pygments_lexer": "ipython3",
   "version": "3.8.8"
  }
 },
 "nbformat": 4,
 "nbformat_minor": 4
}
