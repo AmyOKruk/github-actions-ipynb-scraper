{
 "cells": [
  {
   "cell_type": "markdown",
   "metadata": {},
   "source": [
    "# California COVID vaccinations scrape"
   ]
  },
  {
   "cell_type": "markdown",
   "metadata": {},
   "source": [
    "By [Amy O'Kruk](https://twitter.com/amyokruk)"
   ]
  },
  {
   "cell_type": "markdown",
   "metadata": {},
   "source": [
    "Downloads data on vaccine doses administered by county and statewide from a Tableau-powered dashboard from the California Department of Public Health."
   ]
  },
  {
   "cell_type": "code",
   "execution_count": 1,
   "metadata": {
    "execution": {
     "iopub.execute_input": "2021-03-22T01:32:41.043144Z",
     "iopub.status.busy": "2021-03-22T01:32:41.042580Z",
     "iopub.status.idle": "2021-03-22T01:32:41.448160Z",
     "shell.execute_reply": "2021-03-22T01:32:41.447069Z"
    }
   },
   "outputs": [],
   "source": [
    "import pandas as pd\n",
    "import requests\n",
    "from bs4 import BeautifulSoup\n",
    "import json\n",
    "import re\n",
    "import time\n",
    "from time import gmtime, strftime \n",
    "import os\n",
    "import pytz\n",
    "from datetime import datetime"
   ]
  },
  {
   "cell_type": "markdown",
   "metadata": {},
   "source": [
    "Scrape the dashboard page"
   ]
  },
  {
   "cell_type": "code",
   "execution_count": 2,
   "metadata": {
    "execution": {
     "iopub.execute_input": "2021-03-22T01:32:41.454417Z",
     "iopub.status.busy": "2021-03-22T01:32:41.451598Z",
     "iopub.status.idle": "2021-03-22T01:32:41.706061Z",
     "shell.execute_reply": "2021-03-22T01:32:41.705253Z"
    }
   },
   "outputs": [],
   "source": [
    "url = \"https://public.tableau.com/interactive/views/COVID-19VaccineDashboardPublic/Vaccine?:embed=y&:showVizHome=n&:apiID=host0\"\n",
    "\n",
    "r = requests.get(url)\n",
    "soup = BeautifulSoup(r.text, \"html.parser\")"
   ]
  },
  {
   "cell_type": "code",
   "execution_count": 3,
   "metadata": {
    "execution": {
     "iopub.execute_input": "2021-03-22T01:32:41.711989Z",
     "iopub.status.busy": "2021-03-22T01:32:41.711448Z",
     "iopub.status.idle": "2021-03-22T01:32:41.714708Z",
     "shell.execute_reply": "2021-03-22T01:32:41.715101Z"
    }
   },
   "outputs": [],
   "source": [
    "tableauData = json.loads(soup.find(\"textarea\",{\"id\": \"tsConfigContainer\"}).text)"
   ]
  },
  {
   "cell_type": "markdown",
   "metadata": {},
   "source": [
    "Get the link to the Tableau data"
   ]
  },
  {
   "cell_type": "code",
   "execution_count": 4,
   "metadata": {
    "execution": {
     "iopub.execute_input": "2021-03-22T01:32:41.718568Z",
     "iopub.status.busy": "2021-03-22T01:32:41.717988Z",
     "iopub.status.idle": "2021-03-22T01:32:41.721695Z",
     "shell.execute_reply": "2021-03-22T01:32:41.722071Z"
    }
   },
   "outputs": [],
   "source": [
    "dataUrl = f'https://public.tableau.com{tableauData[\"vizql_root\"]}/bootstrapSession/sessions/{tableauData[\"sessionid\"]}'"
   ]
  },
  {
   "cell_type": "code",
   "execution_count": 5,
   "metadata": {
    "execution": {
     "iopub.execute_input": "2021-03-22T01:32:41.729244Z",
     "iopub.status.busy": "2021-03-22T01:32:41.728733Z",
     "iopub.status.idle": "2021-03-22T01:32:41.860629Z",
     "shell.execute_reply": "2021-03-22T01:32:41.860192Z"
    }
   },
   "outputs": [],
   "source": [
    "r = requests.post(dataUrl, data= {\n",
    "    \"sheet_id\": tableauData[\"sheetId\"],\n",
    "})\n",
    "\n",
    "dataReg = re.search('\\d+;({.*})\\d+;({.*})', r.text, re.MULTILINE)\n",
    "data1 = json.loads(dataReg.group(2))\n",
    "\n",
    "dataJson = data1[\"secondaryInfo\"][\"presModelMap\"][\"dataDictionary\"][\"presModelHolder\"][\"genDataDictionaryPresModel\"][\"dataSegments\"][\"0\"][\"dataColumns\"]"
   ]
  },
  {
   "cell_type": "markdown",
   "metadata": {},
   "source": [
    "Isolate what you want"
   ]
  },
  {
   "cell_type": "code",
   "execution_count": 6,
   "metadata": {
    "execution": {
     "iopub.execute_input": "2021-03-22T01:32:41.864099Z",
     "iopub.status.busy": "2021-03-22T01:32:41.863414Z",
     "iopub.status.idle": "2021-03-22T01:32:41.867466Z",
     "shell.execute_reply": "2021-03-22T01:32:41.866656Z"
    }
   },
   "outputs": [],
   "source": [
    "counties = dataJson[2]['dataValues'][:58]"
   ]
  },
  {
   "cell_type": "code",
   "execution_count": 7,
   "metadata": {
    "execution": {
     "iopub.execute_input": "2021-03-22T01:32:41.870299Z",
     "iopub.status.busy": "2021-03-22T01:32:41.869850Z",
     "iopub.status.idle": "2021-03-22T01:32:41.872833Z",
     "shell.execute_reply": "2021-03-22T01:32:41.873202Z"
    }
   },
   "outputs": [],
   "source": [
    "doses = dataJson[0]['dataValues'][3:61]"
   ]
  },
  {
   "cell_type": "markdown",
   "metadata": {},
   "source": [
    "Data formatting"
   ]
  },
  {
   "cell_type": "code",
   "execution_count": 8,
   "metadata": {
    "execution": {
     "iopub.execute_input": "2021-03-22T01:32:41.876243Z",
     "iopub.status.busy": "2021-03-22T01:32:41.875794Z",
     "iopub.status.idle": "2021-03-22T01:32:41.878991Z",
     "shell.execute_reply": "2021-03-22T01:32:41.878536Z"
    }
   },
   "outputs": [],
   "source": [
    "zipped = dict(zip(counties, doses))"
   ]
  },
  {
   "cell_type": "code",
   "execution_count": 9,
   "metadata": {
    "execution": {
     "iopub.execute_input": "2021-03-22T01:32:41.884286Z",
     "iopub.status.busy": "2021-03-22T01:32:41.883840Z",
     "iopub.status.idle": "2021-03-22T01:32:41.887105Z",
     "shell.execute_reply": "2021-03-22T01:32:41.887483Z"
    }
   },
   "outputs": [],
   "source": [
    "df = pd.Series(zipped).reset_index()"
   ]
  },
  {
   "cell_type": "code",
   "execution_count": 10,
   "metadata": {
    "execution": {
     "iopub.execute_input": "2021-03-22T01:32:41.890422Z",
     "iopub.status.busy": "2021-03-22T01:32:41.889973Z",
     "iopub.status.idle": "2021-03-22T01:32:41.893519Z",
     "shell.execute_reply": "2021-03-22T01:32:41.893141Z"
    }
   },
   "outputs": [],
   "source": [
    "df.columns = ['location','doses']"
   ]
  },
  {
   "cell_type": "markdown",
   "metadata": {},
   "source": [
    "Grab the overall California total"
   ]
  },
  {
   "cell_type": "code",
   "execution_count": 11,
   "metadata": {
    "execution": {
     "iopub.execute_input": "2021-03-22T01:32:41.896701Z",
     "iopub.status.busy": "2021-03-22T01:32:41.896252Z",
     "iopub.status.idle": "2021-03-22T01:32:41.899152Z",
     "shell.execute_reply": "2021-03-22T01:32:41.899535Z"
    }
   },
   "outputs": [],
   "source": [
    "add = {'location':'California','doses':dataJson[0]['dataValues'][2]}"
   ]
  },
  {
   "cell_type": "code",
   "execution_count": 12,
   "metadata": {
    "execution": {
     "iopub.execute_input": "2021-03-22T01:32:41.904835Z",
     "iopub.status.busy": "2021-03-22T01:32:41.904388Z",
     "iopub.status.idle": "2021-03-22T01:32:41.908412Z",
     "shell.execute_reply": "2021-03-22T01:32:41.907890Z"
    }
   },
   "outputs": [],
   "source": [
    "df = df.append(add, ignore_index=True)"
   ]
  },
  {
   "cell_type": "code",
   "execution_count": 13,
   "metadata": {
    "execution": {
     "iopub.execute_input": "2021-03-22T01:32:41.912922Z",
     "iopub.status.busy": "2021-03-22T01:32:41.912413Z",
     "iopub.status.idle": "2021-03-22T01:32:41.916058Z",
     "shell.execute_reply": "2021-03-22T01:32:41.915601Z"
    }
   },
   "outputs": [],
   "source": [
    "df = df.sort_values(by='location')"
   ]
  },
  {
   "cell_type": "code",
   "execution_count": 14,
   "metadata": {
    "execution": {
     "iopub.execute_input": "2021-03-22T01:32:41.921030Z",
     "iopub.status.busy": "2021-03-22T01:32:41.920572Z",
     "iopub.status.idle": "2021-03-22T01:32:41.924000Z",
     "shell.execute_reply": "2021-03-22T01:32:41.923604Z"
    }
   },
   "outputs": [],
   "source": [
    "df = df[df.location == 'California'].append(df[df.location != 'California']).reset_index(drop=True)"
   ]
  },
  {
   "cell_type": "code",
   "execution_count": null,
   "metadata": {},
   "outputs": [],
   "source": []
  },
  {
   "cell_type": "code",
   "execution_count": 15,
   "metadata": {
    "execution": {
     "iopub.execute_input": "2021-03-22T01:32:41.927622Z",
     "iopub.status.busy": "2021-03-22T01:32:41.926640Z",
     "iopub.status.idle": "2021-03-22T01:32:41.943762Z",
     "shell.execute_reply": "2021-03-22T01:32:41.944143Z"
    }
   },
   "outputs": [],
   "source": [
    "tz = pytz.timezone(\"America/New_York\")"
   ]
  },
  {
   "cell_type": "code",
   "execution_count": 16,
   "metadata": {
    "execution": {
     "iopub.execute_input": "2021-03-22T01:32:41.947303Z",
     "iopub.status.busy": "2021-03-22T01:32:41.946794Z",
     "iopub.status.idle": "2021-03-22T01:32:41.949080Z",
     "shell.execute_reply": "2021-03-22T01:32:41.948698Z"
    }
   },
   "outputs": [],
   "source": [
    "today = datetime.now(tz).date()"
   ]
  },
  {
   "cell_type": "code",
   "execution_count": 17,
   "metadata": {
    "execution": {
     "iopub.execute_input": "2021-03-22T01:32:41.952135Z",
     "iopub.status.busy": "2021-03-22T01:32:41.950690Z",
     "iopub.status.idle": "2021-03-22T01:32:41.955503Z",
     "shell.execute_reply": "2021-03-22T01:32:41.954960Z"
    }
   },
   "outputs": [],
   "source": [
    "data_dir = os.path.join(os.path.abspath(\"\"), \"data\")"
   ]
  },
  {
   "cell_type": "code",
   "execution_count": 18,
   "metadata": {
    "execution": {
     "iopub.execute_input": "2021-03-22T01:32:41.960251Z",
     "iopub.status.busy": "2021-03-22T01:32:41.958785Z",
     "iopub.status.idle": "2021-03-22T01:32:41.963784Z",
     "shell.execute_reply": "2021-03-22T01:32:41.964272Z"
    }
   },
   "outputs": [],
   "source": [
    "df.to_csv(os.path.join(data_dir, f\"{today}.csv\"), index=False)"
   ]
  },
  {
   "cell_type": "code",
   "execution_count": null,
   "metadata": {},
   "outputs": [],
   "source": []
  }
 ],
 "metadata": {
  "kernelspec": {
   "display_name": "Python 3",
   "language": "python",
   "name": "python3"
  },
  "language_info": {
   "codemirror_mode": {
    "name": "ipython",
    "version": 3
   },
   "file_extension": ".py",
   "mimetype": "text/x-python",
   "name": "python",
   "nbconvert_exporter": "python",
   "pygments_lexer": "ipython3",
   "version": "3.8.8"
  }
 },
 "nbformat": 4,
 "nbformat_minor": 4
}
