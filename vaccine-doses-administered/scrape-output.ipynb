{
 "cells": [
  {
   "cell_type": "markdown",
   "metadata": {},
   "source": [
    "# California COVID vaccinations scrape"
   ]
  },
  {
   "cell_type": "markdown",
   "metadata": {},
   "source": [
    "By [Amy O'Kruk](https://twitter.com/amyokruk)"
   ]
  },
  {
   "cell_type": "markdown",
   "metadata": {},
   "source": [
    "Downloads data on vaccine doses administered by county and statewide from a Tableau-powered dashboard from the California Department of Public Health."
   ]
  },
  {
   "cell_type": "code",
   "execution_count": 1,
   "metadata": {
    "execution": {
     "iopub.execute_input": "2021-03-24T12:33:42.445033Z",
     "iopub.status.busy": "2021-03-24T12:33:42.444377Z",
     "iopub.status.idle": "2021-03-24T12:33:42.962145Z",
     "shell.execute_reply": "2021-03-24T12:33:42.961277Z"
    }
   },
   "outputs": [],
   "source": [
    "import pandas as pd\n",
    "import requests\n",
    "from bs4 import BeautifulSoup\n",
    "import json\n",
    "import re\n",
    "import time\n",
    "from time import gmtime, strftime \n",
    "import os\n",
    "import pytz\n",
    "from datetime import datetime"
   ]
  },
  {
   "cell_type": "markdown",
   "metadata": {},
   "source": [
    "Scrape the dashboard page"
   ]
  },
  {
   "cell_type": "code",
   "execution_count": 2,
   "metadata": {
    "execution": {
     "iopub.execute_input": "2021-03-24T12:33:42.975147Z",
     "iopub.status.busy": "2021-03-24T12:33:42.966088Z",
     "iopub.status.idle": "2021-03-24T12:33:43.446802Z",
     "shell.execute_reply": "2021-03-24T12:33:43.446226Z"
    }
   },
   "outputs": [],
   "source": [
    "url = \"https://public.tableau.com/interactive/views/COVID-19VaccineDashboardPublic/Vaccine?:embed=y&:showVizHome=n&:apiID=host0\"\n",
    "\n",
    "r = requests.get(url)\n",
    "soup = BeautifulSoup(r.text, \"html.parser\")"
   ]
  },
  {
   "cell_type": "code",
   "execution_count": 3,
   "metadata": {
    "execution": {
     "iopub.execute_input": "2021-03-24T12:33:43.453425Z",
     "iopub.status.busy": "2021-03-24T12:33:43.451686Z",
     "iopub.status.idle": "2021-03-24T12:33:43.454005Z",
     "shell.execute_reply": "2021-03-24T12:33:43.454496Z"
    }
   },
   "outputs": [],
   "source": [
    "tableauData = json.loads(soup.find(\"textarea\",{\"id\": \"tsConfigContainer\"}).text)"
   ]
  },
  {
   "cell_type": "markdown",
   "metadata": {},
   "source": [
    "Get the link to the Tableau data"
   ]
  },
  {
   "cell_type": "code",
   "execution_count": 4,
   "metadata": {
    "execution": {
     "iopub.execute_input": "2021-03-24T12:33:43.460215Z",
     "iopub.status.busy": "2021-03-24T12:33:43.458520Z",
     "iopub.status.idle": "2021-03-24T12:33:43.460896Z",
     "shell.execute_reply": "2021-03-24T12:33:43.461417Z"
    }
   },
   "outputs": [],
   "source": [
    "dataUrl = f'https://public.tableau.com{tableauData[\"vizql_root\"]}/bootstrapSession/sessions/{tableauData[\"sessionid\"]}'"
   ]
  },
  {
   "cell_type": "code",
   "execution_count": 5,
   "metadata": {
    "execution": {
     "iopub.execute_input": "2021-03-24T12:33:43.469481Z",
     "iopub.status.busy": "2021-03-24T12:33:43.468827Z",
     "iopub.status.idle": "2021-03-24T12:33:43.613909Z",
     "shell.execute_reply": "2021-03-24T12:33:43.613435Z"
    }
   },
   "outputs": [],
   "source": [
    "r = requests.post(dataUrl, data= {\n",
    "    \"sheet_id\": tableauData[\"sheetId\"],\n",
    "})\n",
    "\n",
    "dataReg = re.search('\\d+;({.*})\\d+;({.*})', r.text, re.MULTILINE)\n",
    "data1 = json.loads(dataReg.group(2))\n",
    "\n",
    "dataJson = data1[\"secondaryInfo\"][\"presModelMap\"][\"dataDictionary\"][\"presModelHolder\"][\"genDataDictionaryPresModel\"][\"dataSegments\"][\"0\"][\"dataColumns\"]"
   ]
  },
  {
   "cell_type": "markdown",
   "metadata": {},
   "source": [
    "Isolate what you want"
   ]
  },
  {
   "cell_type": "code",
   "execution_count": 6,
   "metadata": {
    "execution": {
     "iopub.execute_input": "2021-03-24T12:33:43.618630Z",
     "iopub.status.busy": "2021-03-24T12:33:43.617323Z",
     "iopub.status.idle": "2021-03-24T12:33:43.619352Z",
     "shell.execute_reply": "2021-03-24T12:33:43.619837Z"
    }
   },
   "outputs": [],
   "source": [
    "counties = dataJson[2]['dataValues'][:58]"
   ]
  },
  {
   "cell_type": "code",
   "execution_count": 7,
   "metadata": {
    "execution": {
     "iopub.execute_input": "2021-03-24T12:33:43.626963Z",
     "iopub.status.busy": "2021-03-24T12:33:43.623579Z",
     "iopub.status.idle": "2021-03-24T12:33:43.627641Z",
     "shell.execute_reply": "2021-03-24T12:33:43.628119Z"
    }
   },
   "outputs": [],
   "source": [
    "doses = dataJson[0]['dataValues'][3:61]"
   ]
  },
  {
   "cell_type": "markdown",
   "metadata": {},
   "source": [
    "Data formatting"
   ]
  },
  {
   "cell_type": "code",
   "execution_count": 8,
   "metadata": {
    "execution": {
     "iopub.execute_input": "2021-03-24T12:33:43.633348Z",
     "iopub.status.busy": "2021-03-24T12:33:43.632003Z",
     "iopub.status.idle": "2021-03-24T12:33:43.634361Z",
     "shell.execute_reply": "2021-03-24T12:33:43.634781Z"
    }
   },
   "outputs": [],
   "source": [
    "zipped = dict(zip(counties, doses))"
   ]
  },
  {
   "cell_type": "code",
   "execution_count": 9,
   "metadata": {
    "execution": {
     "iopub.execute_input": "2021-03-24T12:33:43.642314Z",
     "iopub.status.busy": "2021-03-24T12:33:43.641430Z",
     "iopub.status.idle": "2021-03-24T12:33:43.645650Z",
     "shell.execute_reply": "2021-03-24T12:33:43.645199Z"
    }
   },
   "outputs": [],
   "source": [
    "df = pd.Series(zipped).reset_index()"
   ]
  },
  {
   "cell_type": "code",
   "execution_count": 10,
   "metadata": {
    "execution": {
     "iopub.execute_input": "2021-03-24T12:33:43.650547Z",
     "iopub.status.busy": "2021-03-24T12:33:43.649182Z",
     "iopub.status.idle": "2021-03-24T12:33:43.651469Z",
     "shell.execute_reply": "2021-03-24T12:33:43.652255Z"
    }
   },
   "outputs": [],
   "source": [
    "df.columns = ['location','doses']"
   ]
  },
  {
   "cell_type": "markdown",
   "metadata": {},
   "source": [
    "Grab the overall California total"
   ]
  },
  {
   "cell_type": "code",
   "execution_count": 11,
   "metadata": {
    "execution": {
     "iopub.execute_input": "2021-03-24T12:33:43.657761Z",
     "iopub.status.busy": "2021-03-24T12:33:43.656466Z",
     "iopub.status.idle": "2021-03-24T12:33:43.658648Z",
     "shell.execute_reply": "2021-03-24T12:33:43.659184Z"
    }
   },
   "outputs": [],
   "source": [
    "add = {'location':'California','doses':dataJson[0]['dataValues'][2]}"
   ]
  },
  {
   "cell_type": "code",
   "execution_count": 12,
   "metadata": {
    "execution": {
     "iopub.execute_input": "2021-03-24T12:33:43.666034Z",
     "iopub.status.busy": "2021-03-24T12:33:43.665449Z",
     "iopub.status.idle": "2021-03-24T12:33:43.667863Z",
     "shell.execute_reply": "2021-03-24T12:33:43.668333Z"
    }
   },
   "outputs": [],
   "source": [
    "df = df.append(add, ignore_index=True)"
   ]
  },
  {
   "cell_type": "code",
   "execution_count": 13,
   "metadata": {
    "execution": {
     "iopub.execute_input": "2021-03-24T12:33:43.673683Z",
     "iopub.status.busy": "2021-03-24T12:33:43.672496Z",
     "iopub.status.idle": "2021-03-24T12:33:43.674473Z",
     "shell.execute_reply": "2021-03-24T12:33:43.675021Z"
    }
   },
   "outputs": [],
   "source": [
    "df = df.sort_values(by='location')"
   ]
  },
  {
   "cell_type": "code",
   "execution_count": 14,
   "metadata": {
    "execution": {
     "iopub.execute_input": "2021-03-24T12:33:43.682417Z",
     "iopub.status.busy": "2021-03-24T12:33:43.680998Z",
     "iopub.status.idle": "2021-03-24T12:33:43.683131Z",
     "shell.execute_reply": "2021-03-24T12:33:43.683613Z"
    }
   },
   "outputs": [],
   "source": [
    "df = df[df.location == 'California'].append(df[df.location != 'California']).reset_index(drop=True)"
   ]
  },
  {
   "cell_type": "code",
   "execution_count": null,
   "metadata": {},
   "outputs": [],
   "source": []
  },
  {
   "cell_type": "code",
   "execution_count": 15,
   "metadata": {
    "execution": {
     "iopub.execute_input": "2021-03-24T12:33:43.687442Z",
     "iopub.status.busy": "2021-03-24T12:33:43.686839Z",
     "iopub.status.idle": "2021-03-24T12:33:43.707664Z",
     "shell.execute_reply": "2021-03-24T12:33:43.707032Z"
    }
   },
   "outputs": [],
   "source": [
    "tz = pytz.timezone(\"America/New_York\")"
   ]
  },
  {
   "cell_type": "code",
   "execution_count": 16,
   "metadata": {
    "execution": {
     "iopub.execute_input": "2021-03-24T12:33:43.712460Z",
     "iopub.status.busy": "2021-03-24T12:33:43.711086Z",
     "iopub.status.idle": "2021-03-24T12:33:43.713117Z",
     "shell.execute_reply": "2021-03-24T12:33:43.713610Z"
    }
   },
   "outputs": [],
   "source": [
    "today = datetime.now(tz).date()"
   ]
  },
  {
   "cell_type": "code",
   "execution_count": 17,
   "metadata": {
    "execution": {
     "iopub.execute_input": "2021-03-24T12:33:43.718390Z",
     "iopub.status.busy": "2021-03-24T12:33:43.716878Z",
     "iopub.status.idle": "2021-03-24T12:33:43.719114Z",
     "shell.execute_reply": "2021-03-24T12:33:43.719661Z"
    }
   },
   "outputs": [],
   "source": [
    "data_dir = os.path.join(os.path.abspath(\"\"), \"data\")"
   ]
  },
  {
   "cell_type": "code",
   "execution_count": 18,
   "metadata": {
    "execution": {
     "iopub.execute_input": "2021-03-24T12:33:43.724058Z",
     "iopub.status.busy": "2021-03-24T12:33:43.723171Z",
     "iopub.status.idle": "2021-03-24T12:33:43.728592Z",
     "shell.execute_reply": "2021-03-24T12:33:43.728027Z"
    }
   },
   "outputs": [],
   "source": [
    "df.to_csv(os.path.join(data_dir, f\"{today}.csv\"), index=False)"
   ]
  },
  {
   "cell_type": "code",
   "execution_count": null,
   "metadata": {},
   "outputs": [],
   "source": []
  }
 ],
 "metadata": {
  "kernelspec": {
   "display_name": "Python 3",
   "language": "python",
   "name": "python3"
  },
  "language_info": {
   "codemirror_mode": {
    "name": "ipython",
    "version": 3
   },
   "file_extension": ".py",
   "mimetype": "text/x-python",
   "name": "python",
   "nbconvert_exporter": "python",
   "pygments_lexer": "ipython3",
   "version": "3.8.8"
  }
 },
 "nbformat": 4,
 "nbformat_minor": 4
}
