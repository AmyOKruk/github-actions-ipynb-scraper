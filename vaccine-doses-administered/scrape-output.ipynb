{
 "cells": [
  {
   "cell_type": "markdown",
   "metadata": {},
   "source": [
    "# California COVID vaccinations scrape"
   ]
  },
  {
   "cell_type": "markdown",
   "metadata": {},
   "source": [
    "By [Amy O'Kruk](https://twitter.com/amyokruk)"
   ]
  },
  {
   "cell_type": "markdown",
   "metadata": {},
   "source": [
    "Downloads data on vaccine doses administered by county and statewide from a Tableau-powered dashboard from the California Department of Public Health."
   ]
  },
  {
   "cell_type": "code",
   "execution_count": 1,
   "metadata": {
    "execution": {
     "iopub.execute_input": "2021-03-15T22:16:32.018740Z",
     "iopub.status.busy": "2021-03-15T22:16:32.018085Z",
     "iopub.status.idle": "2021-03-15T22:16:32.448806Z",
     "shell.execute_reply": "2021-03-15T22:16:32.448211Z"
    }
   },
   "outputs": [],
   "source": [
    "import pandas as pd\n",
    "import requests\n",
    "from bs4 import BeautifulSoup\n",
    "import json\n",
    "import re\n",
    "import time\n",
    "from time import gmtime, strftime \n",
    "import os\n",
    "import pytz\n",
    "from datetime import datetime"
   ]
  },
  {
   "cell_type": "markdown",
   "metadata": {},
   "source": [
    "Scrape the dashboard page"
   ]
  },
  {
   "cell_type": "code",
   "execution_count": 2,
   "metadata": {
    "execution": {
     "iopub.execute_input": "2021-03-15T22:16:32.454914Z",
     "iopub.status.busy": "2021-03-15T22:16:32.452291Z",
     "iopub.status.idle": "2021-03-15T22:16:32.787192Z",
     "shell.execute_reply": "2021-03-15T22:16:32.786673Z"
    }
   },
   "outputs": [],
   "source": [
    "url = \"https://public.tableau.com/interactive/views/COVID-19VaccineDashboardPublic/Vaccine?:embed=y&:showVizHome=n&:apiID=host0\"\n",
    "\n",
    "r = requests.get(url)\n",
    "soup = BeautifulSoup(r.text, \"html.parser\")"
   ]
  },
  {
   "cell_type": "code",
   "execution_count": 3,
   "metadata": {
    "execution": {
     "iopub.execute_input": "2021-03-15T22:16:32.792168Z",
     "iopub.status.busy": "2021-03-15T22:16:32.791588Z",
     "iopub.status.idle": "2021-03-15T22:16:32.795463Z",
     "shell.execute_reply": "2021-03-15T22:16:32.794975Z"
    }
   },
   "outputs": [],
   "source": [
    "tableauData = json.loads(soup.find(\"textarea\",{\"id\": \"tsConfigContainer\"}).text)"
   ]
  },
  {
   "cell_type": "markdown",
   "metadata": {},
   "source": [
    "Get the link to the Tableau data"
   ]
  },
  {
   "cell_type": "code",
   "execution_count": 4,
   "metadata": {
    "execution": {
     "iopub.execute_input": "2021-03-15T22:16:32.799202Z",
     "iopub.status.busy": "2021-03-15T22:16:32.798626Z",
     "iopub.status.idle": "2021-03-15T22:16:32.801947Z",
     "shell.execute_reply": "2021-03-15T22:16:32.802409Z"
    }
   },
   "outputs": [],
   "source": [
    "dataUrl = f'https://public.tableau.com{tableauData[\"vizql_root\"]}/bootstrapSession/sessions/{tableauData[\"sessionid\"]}'"
   ]
  },
  {
   "cell_type": "code",
   "execution_count": 5,
   "metadata": {
    "execution": {
     "iopub.execute_input": "2021-03-15T22:16:32.809190Z",
     "iopub.status.busy": "2021-03-15T22:16:32.808579Z",
     "iopub.status.idle": "2021-03-15T22:16:32.945734Z",
     "shell.execute_reply": "2021-03-15T22:16:32.945219Z"
    }
   },
   "outputs": [],
   "source": [
    "r = requests.post(dataUrl, data= {\n",
    "    \"sheet_id\": tableauData[\"sheetId\"],\n",
    "})\n",
    "\n",
    "dataReg = re.search('\\d+;({.*})\\d+;({.*})', r.text, re.MULTILINE)\n",
    "data1 = json.loads(dataReg.group(2))\n",
    "\n",
    "dataJson = data1[\"secondaryInfo\"][\"presModelMap\"][\"dataDictionary\"][\"presModelHolder\"][\"genDataDictionaryPresModel\"][\"dataSegments\"][\"0\"][\"dataColumns\"]"
   ]
  },
  {
   "cell_type": "markdown",
   "metadata": {},
   "source": [
    "Isolate what you want"
   ]
  },
  {
   "cell_type": "code",
   "execution_count": 6,
   "metadata": {
    "execution": {
     "iopub.execute_input": "2021-03-15T22:16:32.950624Z",
     "iopub.status.busy": "2021-03-15T22:16:32.949234Z",
     "iopub.status.idle": "2021-03-15T22:16:32.951257Z",
     "shell.execute_reply": "2021-03-15T22:16:32.951738Z"
    }
   },
   "outputs": [],
   "source": [
    "counties = dataJson[2]['dataValues'][:58]"
   ]
  },
  {
   "cell_type": "code",
   "execution_count": 7,
   "metadata": {
    "execution": {
     "iopub.execute_input": "2021-03-15T22:16:32.955179Z",
     "iopub.status.busy": "2021-03-15T22:16:32.953738Z",
     "iopub.status.idle": "2021-03-15T22:16:32.956971Z",
     "shell.execute_reply": "2021-03-15T22:16:32.957452Z"
    }
   },
   "outputs": [],
   "source": [
    "doses = dataJson[0]['dataValues'][3:61]"
   ]
  },
  {
   "cell_type": "markdown",
   "metadata": {},
   "source": [
    "Data formatting"
   ]
  },
  {
   "cell_type": "code",
   "execution_count": 8,
   "metadata": {
    "execution": {
     "iopub.execute_input": "2021-03-15T22:16:32.961929Z",
     "iopub.status.busy": "2021-03-15T22:16:32.960633Z",
     "iopub.status.idle": "2021-03-15T22:16:32.962563Z",
     "shell.execute_reply": "2021-03-15T22:16:32.963055Z"
    }
   },
   "outputs": [],
   "source": [
    "zipped = dict(zip(counties, doses))"
   ]
  },
  {
   "cell_type": "code",
   "execution_count": 9,
   "metadata": {
    "execution": {
     "iopub.execute_input": "2021-03-15T22:16:32.969886Z",
     "iopub.status.busy": "2021-03-15T22:16:32.968431Z",
     "iopub.status.idle": "2021-03-15T22:16:32.970521Z",
     "shell.execute_reply": "2021-03-15T22:16:32.971000Z"
    }
   },
   "outputs": [],
   "source": [
    "df = pd.Series(zipped).reset_index()"
   ]
  },
  {
   "cell_type": "code",
   "execution_count": 10,
   "metadata": {
    "execution": {
     "iopub.execute_input": "2021-03-15T22:16:32.975699Z",
     "iopub.status.busy": "2021-03-15T22:16:32.974351Z",
     "iopub.status.idle": "2021-03-15T22:16:32.976331Z",
     "shell.execute_reply": "2021-03-15T22:16:32.976815Z"
    }
   },
   "outputs": [],
   "source": [
    "df.columns = ['location','doses']"
   ]
  },
  {
   "cell_type": "markdown",
   "metadata": {},
   "source": [
    "Grab the overall California total"
   ]
  },
  {
   "cell_type": "code",
   "execution_count": 11,
   "metadata": {
    "execution": {
     "iopub.execute_input": "2021-03-15T22:16:32.981482Z",
     "iopub.status.busy": "2021-03-15T22:16:32.980139Z",
     "iopub.status.idle": "2021-03-15T22:16:32.982120Z",
     "shell.execute_reply": "2021-03-15T22:16:32.982605Z"
    }
   },
   "outputs": [],
   "source": [
    "add = {'location':'California','doses':dataJson[0]['dataValues'][2]}"
   ]
  },
  {
   "cell_type": "code",
   "execution_count": 12,
   "metadata": {
    "execution": {
     "iopub.execute_input": "2021-03-15T22:16:32.990307Z",
     "iopub.status.busy": "2021-03-15T22:16:32.988959Z",
     "iopub.status.idle": "2021-03-15T22:16:32.990944Z",
     "shell.execute_reply": "2021-03-15T22:16:32.991426Z"
    }
   },
   "outputs": [],
   "source": [
    "df = df.append(add, ignore_index=True)"
   ]
  },
  {
   "cell_type": "code",
   "execution_count": 13,
   "metadata": {
    "execution": {
     "iopub.execute_input": "2021-03-15T22:16:32.996695Z",
     "iopub.status.busy": "2021-03-15T22:16:32.995353Z",
     "iopub.status.idle": "2021-03-15T22:16:32.997422Z",
     "shell.execute_reply": "2021-03-15T22:16:32.997907Z"
    }
   },
   "outputs": [],
   "source": [
    "df = df.sort_values(by='location')"
   ]
  },
  {
   "cell_type": "code",
   "execution_count": 14,
   "metadata": {
    "execution": {
     "iopub.execute_input": "2021-03-15T22:16:33.003729Z",
     "iopub.status.busy": "2021-03-15T22:16:33.003159Z",
     "iopub.status.idle": "2021-03-15T22:16:33.005831Z",
     "shell.execute_reply": "2021-03-15T22:16:33.005332Z"
    }
   },
   "outputs": [],
   "source": [
    "df = df[df.location == 'California'].append(df[df.location != 'California']).reset_index(drop=True)"
   ]
  },
  {
   "cell_type": "code",
   "execution_count": null,
   "metadata": {},
   "outputs": [],
   "source": []
  },
  {
   "cell_type": "code",
   "execution_count": 15,
   "metadata": {
    "execution": {
     "iopub.execute_input": "2021-03-15T22:16:33.009375Z",
     "iopub.status.busy": "2021-03-15T22:16:33.008787Z",
     "iopub.status.idle": "2021-03-15T22:16:33.028399Z",
     "shell.execute_reply": "2021-03-15T22:16:33.027921Z"
    }
   },
   "outputs": [],
   "source": [
    "tz = pytz.timezone(\"America/New_York\")"
   ]
  },
  {
   "cell_type": "code",
   "execution_count": 16,
   "metadata": {
    "execution": {
     "iopub.execute_input": "2021-03-15T22:16:33.033073Z",
     "iopub.status.busy": "2021-03-15T22:16:33.031614Z",
     "iopub.status.idle": "2021-03-15T22:16:33.033714Z",
     "shell.execute_reply": "2021-03-15T22:16:33.034190Z"
    }
   },
   "outputs": [],
   "source": [
    "today = datetime.now(tz).date()"
   ]
  },
  {
   "cell_type": "code",
   "execution_count": 17,
   "metadata": {
    "execution": {
     "iopub.execute_input": "2021-03-15T22:16:33.038802Z",
     "iopub.status.busy": "2021-03-15T22:16:33.037460Z",
     "iopub.status.idle": "2021-03-15T22:16:33.039427Z",
     "shell.execute_reply": "2021-03-15T22:16:33.039895Z"
    }
   },
   "outputs": [],
   "source": [
    "data_dir = os.path.join(os.path.abspath(\"\"), \"data\")"
   ]
  },
  {
   "cell_type": "code",
   "execution_count": 18,
   "metadata": {
    "execution": {
     "iopub.execute_input": "2021-03-15T22:16:33.044307Z",
     "iopub.status.busy": "2021-03-15T22:16:33.043093Z",
     "iopub.status.idle": "2021-03-15T22:16:33.048365Z",
     "shell.execute_reply": "2021-03-15T22:16:33.047819Z"
    }
   },
   "outputs": [],
   "source": [
    "df.to_csv(os.path.join(data_dir, f\"{today}.csv\"), index=False)"
   ]
  },
  {
   "cell_type": "code",
   "execution_count": null,
   "metadata": {},
   "outputs": [],
   "source": []
  }
 ],
 "metadata": {
  "kernelspec": {
   "display_name": "Python 3",
   "language": "python",
   "name": "python3"
  },
  "language_info": {
   "codemirror_mode": {
    "name": "ipython",
    "version": 3
   },
   "file_extension": ".py",
   "mimetype": "text/x-python",
   "name": "python",
   "nbconvert_exporter": "python",
   "pygments_lexer": "ipython3",
   "version": "3.8.8"
  }
 },
 "nbformat": 4,
 "nbformat_minor": 4
}
