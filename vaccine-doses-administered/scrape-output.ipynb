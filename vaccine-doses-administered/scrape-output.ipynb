{
 "cells": [
  {
   "cell_type": "markdown",
   "metadata": {},
   "source": [
    "# California COVID vaccinations scrape"
   ]
  },
  {
   "cell_type": "markdown",
   "metadata": {},
   "source": [
    "By [Amy O'Kruk](https://twitter.com/amyokruk)"
   ]
  },
  {
   "cell_type": "markdown",
   "metadata": {},
   "source": [
    "Downloads data on vaccine doses administered by county and statewide from a Tableau-powered dashboard from the California Department of Public Health."
   ]
  },
  {
   "cell_type": "code",
   "execution_count": 1,
   "metadata": {
    "execution": {
     "iopub.execute_input": "2021-03-10T14:40:27.157239Z",
     "iopub.status.busy": "2021-03-10T14:40:27.156122Z",
     "iopub.status.idle": "2021-03-10T14:40:27.604556Z",
     "shell.execute_reply": "2021-03-10T14:40:27.605081Z"
    }
   },
   "outputs": [],
   "source": [
    "import pandas as pd\n",
    "import requests\n",
    "from bs4 import BeautifulSoup\n",
    "import json\n",
    "import re\n",
    "import time\n",
    "from time import gmtime, strftime \n",
    "import os\n",
    "import pytz\n",
    "from datetime import datetime"
   ]
  },
  {
   "cell_type": "markdown",
   "metadata": {},
   "source": [
    "Scrape the dashboard page"
   ]
  },
  {
   "cell_type": "code",
   "execution_count": 2,
   "metadata": {
    "execution": {
     "iopub.execute_input": "2021-03-10T14:40:27.612233Z",
     "iopub.status.busy": "2021-03-10T14:40:27.609232Z",
     "iopub.status.idle": "2021-03-10T14:40:28.212621Z",
     "shell.execute_reply": "2021-03-10T14:40:28.211712Z"
    }
   },
   "outputs": [],
   "source": [
    "url = \"https://public.tableau.com/interactive/views/COVID-19VaccineDashboardPublic/Vaccine?:embed=y&:showVizHome=n&:apiID=host0\"\n",
    "\n",
    "r = requests.get(url)\n",
    "soup = BeautifulSoup(r.text, \"html.parser\")"
   ]
  },
  {
   "cell_type": "code",
   "execution_count": 3,
   "metadata": {
    "execution": {
     "iopub.execute_input": "2021-03-10T14:40:28.217791Z",
     "iopub.status.busy": "2021-03-10T14:40:28.217218Z",
     "iopub.status.idle": "2021-03-10T14:40:28.220548Z",
     "shell.execute_reply": "2021-03-10T14:40:28.221025Z"
    }
   },
   "outputs": [],
   "source": [
    "tableauData = json.loads(soup.find(\"textarea\",{\"id\": \"tsConfigContainer\"}).text)"
   ]
  },
  {
   "cell_type": "markdown",
   "metadata": {},
   "source": [
    "Get the link to the Tableau data"
   ]
  },
  {
   "cell_type": "code",
   "execution_count": 4,
   "metadata": {
    "execution": {
     "iopub.execute_input": "2021-03-10T14:40:28.225331Z",
     "iopub.status.busy": "2021-03-10T14:40:28.224675Z",
     "iopub.status.idle": "2021-03-10T14:40:28.229019Z",
     "shell.execute_reply": "2021-03-10T14:40:28.228558Z"
    }
   },
   "outputs": [],
   "source": [
    "dataUrl = f'https://public.tableau.com{tableauData[\"vizql_root\"]}/bootstrapSession/sessions/{tableauData[\"sessionid\"]}'"
   ]
  },
  {
   "cell_type": "code",
   "execution_count": 5,
   "metadata": {
    "execution": {
     "iopub.execute_input": "2021-03-10T14:40:28.235113Z",
     "iopub.status.busy": "2021-03-10T14:40:28.233219Z",
     "iopub.status.idle": "2021-03-10T14:40:28.714885Z",
     "shell.execute_reply": "2021-03-10T14:40:28.714001Z"
    }
   },
   "outputs": [],
   "source": [
    "r = requests.post(dataUrl, data= {\n",
    "    \"sheet_id\": tableauData[\"sheetId\"],\n",
    "})\n",
    "\n",
    "dataReg = re.search('\\d+;({.*})\\d+;({.*})', r.text, re.MULTILINE)\n",
    "data1 = json.loads(dataReg.group(2))\n",
    "\n",
    "dataJson = data1[\"secondaryInfo\"][\"presModelMap\"][\"dataDictionary\"][\"presModelHolder\"][\"genDataDictionaryPresModel\"][\"dataSegments\"][\"0\"][\"dataColumns\"]"
   ]
  },
  {
   "cell_type": "markdown",
   "metadata": {},
   "source": [
    "Isolate what you want"
   ]
  },
  {
   "cell_type": "code",
   "execution_count": 6,
   "metadata": {
    "execution": {
     "iopub.execute_input": "2021-03-10T14:40:28.718739Z",
     "iopub.status.busy": "2021-03-10T14:40:28.718170Z",
     "iopub.status.idle": "2021-03-10T14:40:28.720128Z",
     "shell.execute_reply": "2021-03-10T14:40:28.720494Z"
    }
   },
   "outputs": [],
   "source": [
    "counties = dataJson[2]['dataValues'][:58]"
   ]
  },
  {
   "cell_type": "code",
   "execution_count": 7,
   "metadata": {
    "execution": {
     "iopub.execute_input": "2021-03-10T14:40:28.724346Z",
     "iopub.status.busy": "2021-03-10T14:40:28.723561Z",
     "iopub.status.idle": "2021-03-10T14:40:28.726964Z",
     "shell.execute_reply": "2021-03-10T14:40:28.727398Z"
    }
   },
   "outputs": [],
   "source": [
    "doses = dataJson[0]['dataValues'][3:61]"
   ]
  },
  {
   "cell_type": "markdown",
   "metadata": {},
   "source": [
    "Data formatting"
   ]
  },
  {
   "cell_type": "code",
   "execution_count": 8,
   "metadata": {
    "execution": {
     "iopub.execute_input": "2021-03-10T14:40:28.731870Z",
     "iopub.status.busy": "2021-03-10T14:40:28.730773Z",
     "iopub.status.idle": "2021-03-10T14:40:28.732708Z",
     "shell.execute_reply": "2021-03-10T14:40:28.733101Z"
    }
   },
   "outputs": [],
   "source": [
    "zipped = dict(zip(counties, doses))"
   ]
  },
  {
   "cell_type": "code",
   "execution_count": 9,
   "metadata": {
    "execution": {
     "iopub.execute_input": "2021-03-10T14:40:28.739416Z",
     "iopub.status.busy": "2021-03-10T14:40:28.738353Z",
     "iopub.status.idle": "2021-03-10T14:40:28.741011Z",
     "shell.execute_reply": "2021-03-10T14:40:28.741553Z"
    }
   },
   "outputs": [],
   "source": [
    "df = pd.Series(zipped).reset_index()"
   ]
  },
  {
   "cell_type": "code",
   "execution_count": 10,
   "metadata": {
    "execution": {
     "iopub.execute_input": "2021-03-10T14:40:28.746643Z",
     "iopub.status.busy": "2021-03-10T14:40:28.745388Z",
     "iopub.status.idle": "2021-03-10T14:40:28.747290Z",
     "shell.execute_reply": "2021-03-10T14:40:28.747708Z"
    }
   },
   "outputs": [],
   "source": [
    "df.columns = ['location','doses']"
   ]
  },
  {
   "cell_type": "markdown",
   "metadata": {},
   "source": [
    "Grab the overall California total"
   ]
  },
  {
   "cell_type": "code",
   "execution_count": 11,
   "metadata": {
    "execution": {
     "iopub.execute_input": "2021-03-10T14:40:28.751928Z",
     "iopub.status.busy": "2021-03-10T14:40:28.750815Z",
     "iopub.status.idle": "2021-03-10T14:40:28.752573Z",
     "shell.execute_reply": "2021-03-10T14:40:28.753100Z"
    }
   },
   "outputs": [],
   "source": [
    "add = {'location':'California','doses':dataJson[0]['dataValues'][2]}"
   ]
  },
  {
   "cell_type": "code",
   "execution_count": 12,
   "metadata": {
    "execution": {
     "iopub.execute_input": "2021-03-10T14:40:28.759947Z",
     "iopub.status.busy": "2021-03-10T14:40:28.758907Z",
     "iopub.status.idle": "2021-03-10T14:40:28.761494Z",
     "shell.execute_reply": "2021-03-10T14:40:28.761039Z"
    }
   },
   "outputs": [],
   "source": [
    "df = df.append(add, ignore_index=True)"
   ]
  },
  {
   "cell_type": "code",
   "execution_count": 13,
   "metadata": {
    "execution": {
     "iopub.execute_input": "2021-03-10T14:40:28.766513Z",
     "iopub.status.busy": "2021-03-10T14:40:28.765289Z",
     "iopub.status.idle": "2021-03-10T14:40:28.767024Z",
     "shell.execute_reply": "2021-03-10T14:40:28.767572Z"
    }
   },
   "outputs": [],
   "source": [
    "df = df.sort_values(by='location')"
   ]
  },
  {
   "cell_type": "code",
   "execution_count": 14,
   "metadata": {
    "execution": {
     "iopub.execute_input": "2021-03-10T14:40:28.774618Z",
     "iopub.status.busy": "2021-03-10T14:40:28.773305Z",
     "iopub.status.idle": "2021-03-10T14:40:28.775342Z",
     "shell.execute_reply": "2021-03-10T14:40:28.775890Z"
    }
   },
   "outputs": [],
   "source": [
    "df = df[df.location == 'California'].append(df[df.location != 'California']).reset_index(drop=True)"
   ]
  },
  {
   "cell_type": "code",
   "execution_count": null,
   "metadata": {},
   "outputs": [],
   "source": []
  },
  {
   "cell_type": "code",
   "execution_count": 15,
   "metadata": {
    "execution": {
     "iopub.execute_input": "2021-03-10T14:40:28.779619Z",
     "iopub.status.busy": "2021-03-10T14:40:28.779055Z",
     "iopub.status.idle": "2021-03-10T14:40:28.798798Z",
     "shell.execute_reply": "2021-03-10T14:40:28.798329Z"
    }
   },
   "outputs": [],
   "source": [
    "tz = pytz.timezone(\"America/New_York\")"
   ]
  },
  {
   "cell_type": "code",
   "execution_count": 16,
   "metadata": {
    "execution": {
     "iopub.execute_input": "2021-03-10T14:40:28.802856Z",
     "iopub.status.busy": "2021-03-10T14:40:28.801925Z",
     "iopub.status.idle": "2021-03-10T14:40:28.805075Z",
     "shell.execute_reply": "2021-03-10T14:40:28.805532Z"
    }
   },
   "outputs": [],
   "source": [
    "today = datetime.now(tz).date()"
   ]
  },
  {
   "cell_type": "code",
   "execution_count": 17,
   "metadata": {
    "execution": {
     "iopub.execute_input": "2021-03-10T14:40:28.810650Z",
     "iopub.status.busy": "2021-03-10T14:40:28.809306Z",
     "iopub.status.idle": "2021-03-10T14:40:28.811305Z",
     "shell.execute_reply": "2021-03-10T14:40:28.811778Z"
    }
   },
   "outputs": [],
   "source": [
    "data_dir = os.path.join(os.path.abspath(\"\"), \"data\")"
   ]
  },
  {
   "cell_type": "code",
   "execution_count": 18,
   "metadata": {
    "execution": {
     "iopub.execute_input": "2021-03-10T14:40:28.816546Z",
     "iopub.status.busy": "2021-03-10T14:40:28.815087Z",
     "iopub.status.idle": "2021-03-10T14:40:28.820335Z",
     "shell.execute_reply": "2021-03-10T14:40:28.819824Z"
    }
   },
   "outputs": [],
   "source": [
    "df.to_csv(os.path.join(data_dir, f\"{today}.csv\"), index=False)"
   ]
  },
  {
   "cell_type": "code",
   "execution_count": null,
   "metadata": {},
   "outputs": [],
   "source": []
  }
 ],
 "metadata": {
  "kernelspec": {
   "display_name": "Python 3",
   "language": "python",
   "name": "python3"
  },
  "language_info": {
   "codemirror_mode": {
    "name": "ipython",
    "version": 3
   },
   "file_extension": ".py",
   "mimetype": "text/x-python",
   "name": "python",
   "nbconvert_exporter": "python",
   "pygments_lexer": "ipython3",
   "version": "3.8.8"
  }
 },
 "nbformat": 4,
 "nbformat_minor": 4
}
