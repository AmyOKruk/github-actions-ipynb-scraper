{
 "cells": [
  {
   "cell_type": "markdown",
   "metadata": {},
   "source": [
    "# California COVID vaccinations scrape"
   ]
  },
  {
   "cell_type": "markdown",
   "metadata": {},
   "source": [
    "By [Amy O'Kruk](https://twitter.com/amyokruk)"
   ]
  },
  {
   "cell_type": "markdown",
   "metadata": {},
   "source": [
    "Downloads data on vaccine doses administered by county and statewide from a Tableau-powered dashboard from the California Department of Public Health."
   ]
  },
  {
   "cell_type": "code",
   "execution_count": 1,
   "metadata": {
    "execution": {
     "iopub.execute_input": "2021-03-17T08:14:59.849772Z",
     "iopub.status.busy": "2021-03-17T08:14:59.849064Z",
     "iopub.status.idle": "2021-03-17T08:15:00.238363Z",
     "shell.execute_reply": "2021-03-17T08:15:00.237443Z"
    }
   },
   "outputs": [],
   "source": [
    "import pandas as pd\n",
    "import requests\n",
    "from bs4 import BeautifulSoup\n",
    "import json\n",
    "import re\n",
    "import time\n",
    "from time import gmtime, strftime \n",
    "import os\n",
    "import pytz\n",
    "from datetime import datetime"
   ]
  },
  {
   "cell_type": "markdown",
   "metadata": {},
   "source": [
    "Scrape the dashboard page"
   ]
  },
  {
   "cell_type": "code",
   "execution_count": 2,
   "metadata": {
    "execution": {
     "iopub.execute_input": "2021-03-17T08:15:00.244114Z",
     "iopub.status.busy": "2021-03-17T08:15:00.241783Z",
     "iopub.status.idle": "2021-03-17T08:15:00.607296Z",
     "shell.execute_reply": "2021-03-17T08:15:00.606374Z"
    }
   },
   "outputs": [],
   "source": [
    "url = \"https://public.tableau.com/interactive/views/COVID-19VaccineDashboardPublic/Vaccine?:embed=y&:showVizHome=n&:apiID=host0\"\n",
    "\n",
    "r = requests.get(url)\n",
    "soup = BeautifulSoup(r.text, \"html.parser\")"
   ]
  },
  {
   "cell_type": "code",
   "execution_count": 3,
   "metadata": {
    "execution": {
     "iopub.execute_input": "2021-03-17T08:15:00.612278Z",
     "iopub.status.busy": "2021-03-17T08:15:00.611705Z",
     "iopub.status.idle": "2021-03-17T08:15:00.615363Z",
     "shell.execute_reply": "2021-03-17T08:15:00.615902Z"
    }
   },
   "outputs": [],
   "source": [
    "tableauData = json.loads(soup.find(\"textarea\",{\"id\": \"tsConfigContainer\"}).text)"
   ]
  },
  {
   "cell_type": "markdown",
   "metadata": {},
   "source": [
    "Get the link to the Tableau data"
   ]
  },
  {
   "cell_type": "code",
   "execution_count": 4,
   "metadata": {
    "execution": {
     "iopub.execute_input": "2021-03-17T08:15:00.619476Z",
     "iopub.status.busy": "2021-03-17T08:15:00.618916Z",
     "iopub.status.idle": "2021-03-17T08:15:00.621015Z",
     "shell.execute_reply": "2021-03-17T08:15:00.621461Z"
    }
   },
   "outputs": [],
   "source": [
    "dataUrl = f'https://public.tableau.com{tableauData[\"vizql_root\"]}/bootstrapSession/sessions/{tableauData[\"sessionid\"]}'"
   ]
  },
  {
   "cell_type": "code",
   "execution_count": 5,
   "metadata": {
    "execution": {
     "iopub.execute_input": "2021-03-17T08:15:00.628757Z",
     "iopub.status.busy": "2021-03-17T08:15:00.628130Z",
     "iopub.status.idle": "2021-03-17T08:15:00.811231Z",
     "shell.execute_reply": "2021-03-17T08:15:00.810722Z"
    }
   },
   "outputs": [],
   "source": [
    "r = requests.post(dataUrl, data= {\n",
    "    \"sheet_id\": tableauData[\"sheetId\"],\n",
    "})\n",
    "\n",
    "dataReg = re.search('\\d+;({.*})\\d+;({.*})', r.text, re.MULTILINE)\n",
    "data1 = json.loads(dataReg.group(2))\n",
    "\n",
    "dataJson = data1[\"secondaryInfo\"][\"presModelMap\"][\"dataDictionary\"][\"presModelHolder\"][\"genDataDictionaryPresModel\"][\"dataSegments\"][\"0\"][\"dataColumns\"]"
   ]
  },
  {
   "cell_type": "markdown",
   "metadata": {},
   "source": [
    "Isolate what you want"
   ]
  },
  {
   "cell_type": "code",
   "execution_count": 6,
   "metadata": {
    "execution": {
     "iopub.execute_input": "2021-03-17T08:15:00.815736Z",
     "iopub.status.busy": "2021-03-17T08:15:00.815099Z",
     "iopub.status.idle": "2021-03-17T08:15:00.818441Z",
     "shell.execute_reply": "2021-03-17T08:15:00.818935Z"
    }
   },
   "outputs": [],
   "source": [
    "counties = dataJson[2]['dataValues'][:58]"
   ]
  },
  {
   "cell_type": "code",
   "execution_count": 7,
   "metadata": {
    "execution": {
     "iopub.execute_input": "2021-03-17T08:15:00.822778Z",
     "iopub.status.busy": "2021-03-17T08:15:00.822226Z",
     "iopub.status.idle": "2021-03-17T08:15:00.826197Z",
     "shell.execute_reply": "2021-03-17T08:15:00.825653Z"
    }
   },
   "outputs": [],
   "source": [
    "doses = dataJson[0]['dataValues'][3:61]"
   ]
  },
  {
   "cell_type": "markdown",
   "metadata": {},
   "source": [
    "Data formatting"
   ]
  },
  {
   "cell_type": "code",
   "execution_count": 8,
   "metadata": {
    "execution": {
     "iopub.execute_input": "2021-03-17T08:15:00.830051Z",
     "iopub.status.busy": "2021-03-17T08:15:00.829462Z",
     "iopub.status.idle": "2021-03-17T08:15:00.833413Z",
     "shell.execute_reply": "2021-03-17T08:15:00.832702Z"
    }
   },
   "outputs": [],
   "source": [
    "zipped = dict(zip(counties, doses))"
   ]
  },
  {
   "cell_type": "code",
   "execution_count": 9,
   "metadata": {
    "execution": {
     "iopub.execute_input": "2021-03-17T08:15:00.839688Z",
     "iopub.status.busy": "2021-03-17T08:15:00.839148Z",
     "iopub.status.idle": "2021-03-17T08:15:00.842856Z",
     "shell.execute_reply": "2021-03-17T08:15:00.842307Z"
    }
   },
   "outputs": [],
   "source": [
    "df = pd.Series(zipped).reset_index()"
   ]
  },
  {
   "cell_type": "code",
   "execution_count": 10,
   "metadata": {
    "execution": {
     "iopub.execute_input": "2021-03-17T08:15:00.849198Z",
     "iopub.status.busy": "2021-03-17T08:15:00.848686Z",
     "iopub.status.idle": "2021-03-17T08:15:00.851881Z",
     "shell.execute_reply": "2021-03-17T08:15:00.852289Z"
    }
   },
   "outputs": [],
   "source": [
    "df.columns = ['location','doses']"
   ]
  },
  {
   "cell_type": "markdown",
   "metadata": {},
   "source": [
    "Grab the overall California total"
   ]
  },
  {
   "cell_type": "code",
   "execution_count": 11,
   "metadata": {
    "execution": {
     "iopub.execute_input": "2021-03-17T08:15:00.855798Z",
     "iopub.status.busy": "2021-03-17T08:15:00.855262Z",
     "iopub.status.idle": "2021-03-17T08:15:00.857270Z",
     "shell.execute_reply": "2021-03-17T08:15:00.857727Z"
    }
   },
   "outputs": [],
   "source": [
    "add = {'location':'California','doses':dataJson[0]['dataValues'][2]}"
   ]
  },
  {
   "cell_type": "code",
   "execution_count": 12,
   "metadata": {
    "execution": {
     "iopub.execute_input": "2021-03-17T08:15:00.865050Z",
     "iopub.status.busy": "2021-03-17T08:15:00.864503Z",
     "iopub.status.idle": "2021-03-17T08:15:00.868264Z",
     "shell.execute_reply": "2021-03-17T08:15:00.867567Z"
    }
   },
   "outputs": [],
   "source": [
    "df = df.append(add, ignore_index=True)"
   ]
  },
  {
   "cell_type": "code",
   "execution_count": 13,
   "metadata": {
    "execution": {
     "iopub.execute_input": "2021-03-17T08:15:00.872479Z",
     "iopub.status.busy": "2021-03-17T08:15:00.871970Z",
     "iopub.status.idle": "2021-03-17T08:15:00.876670Z",
     "shell.execute_reply": "2021-03-17T08:15:00.875585Z"
    }
   },
   "outputs": [],
   "source": [
    "df = df.sort_values(by='location')"
   ]
  },
  {
   "cell_type": "code",
   "execution_count": 14,
   "metadata": {
    "execution": {
     "iopub.execute_input": "2021-03-17T08:15:00.883175Z",
     "iopub.status.busy": "2021-03-17T08:15:00.882666Z",
     "iopub.status.idle": "2021-03-17T08:15:00.886484Z",
     "shell.execute_reply": "2021-03-17T08:15:00.886016Z"
    }
   },
   "outputs": [],
   "source": [
    "df = df[df.location == 'California'].append(df[df.location != 'California']).reset_index(drop=True)"
   ]
  },
  {
   "cell_type": "code",
   "execution_count": null,
   "metadata": {},
   "outputs": [],
   "source": []
  },
  {
   "cell_type": "code",
   "execution_count": 15,
   "metadata": {
    "execution": {
     "iopub.execute_input": "2021-03-17T08:15:00.889802Z",
     "iopub.status.busy": "2021-03-17T08:15:00.889291Z",
     "iopub.status.idle": "2021-03-17T08:15:00.908284Z",
     "shell.execute_reply": "2021-03-17T08:15:00.908689Z"
    }
   },
   "outputs": [],
   "source": [
    "tz = pytz.timezone(\"America/New_York\")"
   ]
  },
  {
   "cell_type": "code",
   "execution_count": 16,
   "metadata": {
    "execution": {
     "iopub.execute_input": "2021-03-17T08:15:00.912231Z",
     "iopub.status.busy": "2021-03-17T08:15:00.911643Z",
     "iopub.status.idle": "2021-03-17T08:15:00.915187Z",
     "shell.execute_reply": "2021-03-17T08:15:00.914733Z"
    }
   },
   "outputs": [],
   "source": [
    "today = datetime.now(tz).date()"
   ]
  },
  {
   "cell_type": "code",
   "execution_count": 17,
   "metadata": {
    "execution": {
     "iopub.execute_input": "2021-03-17T08:15:00.918949Z",
     "iopub.status.busy": "2021-03-17T08:15:00.918436Z",
     "iopub.status.idle": "2021-03-17T08:15:00.922253Z",
     "shell.execute_reply": "2021-03-17T08:15:00.921596Z"
    }
   },
   "outputs": [],
   "source": [
    "data_dir = os.path.join(os.path.abspath(\"\"), \"data\")"
   ]
  },
  {
   "cell_type": "code",
   "execution_count": 18,
   "metadata": {
    "execution": {
     "iopub.execute_input": "2021-03-17T08:15:00.926291Z",
     "iopub.status.busy": "2021-03-17T08:15:00.925388Z",
     "iopub.status.idle": "2021-03-17T08:15:00.931142Z",
     "shell.execute_reply": "2021-03-17T08:15:00.931575Z"
    }
   },
   "outputs": [],
   "source": [
    "df.to_csv(os.path.join(data_dir, f\"{today}.csv\"), index=False)"
   ]
  },
  {
   "cell_type": "code",
   "execution_count": null,
   "metadata": {},
   "outputs": [],
   "source": []
  }
 ],
 "metadata": {
  "kernelspec": {
   "display_name": "Python 3",
   "language": "python",
   "name": "python3"
  },
  "language_info": {
   "codemirror_mode": {
    "name": "ipython",
    "version": 3
   },
   "file_extension": ".py",
   "mimetype": "text/x-python",
   "name": "python",
   "nbconvert_exporter": "python",
   "pygments_lexer": "ipython3",
   "version": "3.8.8"
  }
 },
 "nbformat": 4,
 "nbformat_minor": 4
}
