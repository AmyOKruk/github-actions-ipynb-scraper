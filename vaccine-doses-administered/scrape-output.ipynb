{
 "cells": [
  {
   "cell_type": "markdown",
   "metadata": {},
   "source": [
    "# California COVID vaccinations scrape"
   ]
  },
  {
   "cell_type": "markdown",
   "metadata": {},
   "source": [
    "By [Amy O'Kruk](https://twitter.com/amyokruk)"
   ]
  },
  {
   "cell_type": "markdown",
   "metadata": {},
   "source": [
    "Downloads data on vaccine doses administered by county and statewide from a Tableau-powered dashboard from the California Department of Public Health."
   ]
  },
  {
   "cell_type": "code",
   "execution_count": 1,
   "metadata": {
    "execution": {
     "iopub.execute_input": "2021-03-12T04:15:51.546857Z",
     "iopub.status.busy": "2021-03-12T04:15:51.546159Z",
     "iopub.status.idle": "2021-03-12T04:15:51.960185Z",
     "shell.execute_reply": "2021-03-12T04:15:51.959241Z"
    }
   },
   "outputs": [],
   "source": [
    "import pandas as pd\n",
    "import requests\n",
    "from bs4 import BeautifulSoup\n",
    "import json\n",
    "import re\n",
    "import time\n",
    "from time import gmtime, strftime \n",
    "import os\n",
    "import pytz\n",
    "from datetime import datetime"
   ]
  },
  {
   "cell_type": "markdown",
   "metadata": {},
   "source": [
    "Scrape the dashboard page"
   ]
  },
  {
   "cell_type": "code",
   "execution_count": 2,
   "metadata": {
    "execution": {
     "iopub.execute_input": "2021-03-12T04:15:51.966877Z",
     "iopub.status.busy": "2021-03-12T04:15:51.966332Z",
     "iopub.status.idle": "2021-03-12T04:15:52.261579Z",
     "shell.execute_reply": "2021-03-12T04:15:52.261098Z"
    }
   },
   "outputs": [],
   "source": [
    "url = \"https://public.tableau.com/interactive/views/COVID-19VaccineDashboardPublic/Vaccine?:embed=y&:showVizHome=n&:apiID=host0\"\n",
    "\n",
    "r = requests.get(url)\n",
    "soup = BeautifulSoup(r.text, \"html.parser\")"
   ]
  },
  {
   "cell_type": "code",
   "execution_count": 3,
   "metadata": {
    "execution": {
     "iopub.execute_input": "2021-03-12T04:15:52.267283Z",
     "iopub.status.busy": "2021-03-12T04:15:52.266005Z",
     "iopub.status.idle": "2021-03-12T04:15:52.267881Z",
     "shell.execute_reply": "2021-03-12T04:15:52.268307Z"
    }
   },
   "outputs": [],
   "source": [
    "tableauData = json.loads(soup.find(\"textarea\",{\"id\": \"tsConfigContainer\"}).text)"
   ]
  },
  {
   "cell_type": "markdown",
   "metadata": {},
   "source": [
    "Get the link to the Tableau data"
   ]
  },
  {
   "cell_type": "code",
   "execution_count": 4,
   "metadata": {
    "execution": {
     "iopub.execute_input": "2021-03-12T04:15:52.274279Z",
     "iopub.status.busy": "2021-03-12T04:15:52.272801Z",
     "iopub.status.idle": "2021-03-12T04:15:52.275923Z",
     "shell.execute_reply": "2021-03-12T04:15:52.275144Z"
    }
   },
   "outputs": [],
   "source": [
    "dataUrl = f'https://public.tableau.com{tableauData[\"vizql_root\"]}/bootstrapSession/sessions/{tableauData[\"sessionid\"]}'"
   ]
  },
  {
   "cell_type": "code",
   "execution_count": 5,
   "metadata": {
    "execution": {
     "iopub.execute_input": "2021-03-12T04:15:52.282611Z",
     "iopub.status.busy": "2021-03-12T04:15:52.282082Z",
     "iopub.status.idle": "2021-03-12T04:15:52.641266Z",
     "shell.execute_reply": "2021-03-12T04:15:52.640400Z"
    }
   },
   "outputs": [],
   "source": [
    "r = requests.post(dataUrl, data= {\n",
    "    \"sheet_id\": tableauData[\"sheetId\"],\n",
    "})\n",
    "\n",
    "dataReg = re.search('\\d+;({.*})\\d+;({.*})', r.text, re.MULTILINE)\n",
    "data1 = json.loads(dataReg.group(2))\n",
    "\n",
    "dataJson = data1[\"secondaryInfo\"][\"presModelMap\"][\"dataDictionary\"][\"presModelHolder\"][\"genDataDictionaryPresModel\"][\"dataSegments\"][\"0\"][\"dataColumns\"]"
   ]
  },
  {
   "cell_type": "markdown",
   "metadata": {},
   "source": [
    "Isolate what you want"
   ]
  },
  {
   "cell_type": "code",
   "execution_count": 6,
   "metadata": {
    "execution": {
     "iopub.execute_input": "2021-03-12T04:15:52.646367Z",
     "iopub.status.busy": "2021-03-12T04:15:52.644986Z",
     "iopub.status.idle": "2021-03-12T04:15:52.646970Z",
     "shell.execute_reply": "2021-03-12T04:15:52.647398Z"
    }
   },
   "outputs": [],
   "source": [
    "counties = dataJson[2]['dataValues'][:58]"
   ]
  },
  {
   "cell_type": "code",
   "execution_count": 7,
   "metadata": {
    "execution": {
     "iopub.execute_input": "2021-03-12T04:15:52.651710Z",
     "iopub.status.busy": "2021-03-12T04:15:52.650591Z",
     "iopub.status.idle": "2021-03-12T04:15:52.652306Z",
     "shell.execute_reply": "2021-03-12T04:15:52.652735Z"
    }
   },
   "outputs": [],
   "source": [
    "doses = dataJson[0]['dataValues'][3:61]"
   ]
  },
  {
   "cell_type": "markdown",
   "metadata": {},
   "source": [
    "Data formatting"
   ]
  },
  {
   "cell_type": "code",
   "execution_count": 8,
   "metadata": {
    "execution": {
     "iopub.execute_input": "2021-03-12T04:15:52.657082Z",
     "iopub.status.busy": "2021-03-12T04:15:52.655863Z",
     "iopub.status.idle": "2021-03-12T04:15:52.657725Z",
     "shell.execute_reply": "2021-03-12T04:15:52.658154Z"
    }
   },
   "outputs": [],
   "source": [
    "zipped = dict(zip(counties, doses))"
   ]
  },
  {
   "cell_type": "code",
   "execution_count": 9,
   "metadata": {
    "execution": {
     "iopub.execute_input": "2021-03-12T04:15:52.664598Z",
     "iopub.status.busy": "2021-03-12T04:15:52.663391Z",
     "iopub.status.idle": "2021-03-12T04:15:52.665265Z",
     "shell.execute_reply": "2021-03-12T04:15:52.665724Z"
    }
   },
   "outputs": [],
   "source": [
    "df = pd.Series(zipped).reset_index()"
   ]
  },
  {
   "cell_type": "code",
   "execution_count": 10,
   "metadata": {
    "execution": {
     "iopub.execute_input": "2021-03-12T04:15:52.670029Z",
     "iopub.status.busy": "2021-03-12T04:15:52.668924Z",
     "iopub.status.idle": "2021-03-12T04:15:52.670622Z",
     "shell.execute_reply": "2021-03-12T04:15:52.671047Z"
    }
   },
   "outputs": [],
   "source": [
    "df.columns = ['location','doses']"
   ]
  },
  {
   "cell_type": "markdown",
   "metadata": {},
   "source": [
    "Grab the overall California total"
   ]
  },
  {
   "cell_type": "code",
   "execution_count": 11,
   "metadata": {
    "execution": {
     "iopub.execute_input": "2021-03-12T04:15:52.675269Z",
     "iopub.status.busy": "2021-03-12T04:15:52.674187Z",
     "iopub.status.idle": "2021-03-12T04:15:52.676472Z",
     "shell.execute_reply": "2021-03-12T04:15:52.676015Z"
    }
   },
   "outputs": [],
   "source": [
    "add = {'location':'California','doses':dataJson[0]['dataValues'][2]}"
   ]
  },
  {
   "cell_type": "code",
   "execution_count": 12,
   "metadata": {
    "execution": {
     "iopub.execute_input": "2021-03-12T04:15:52.683506Z",
     "iopub.status.busy": "2021-03-12T04:15:52.682334Z",
     "iopub.status.idle": "2021-03-12T04:15:52.684105Z",
     "shell.execute_reply": "2021-03-12T04:15:52.684531Z"
    }
   },
   "outputs": [],
   "source": [
    "df = df.append(add, ignore_index=True)"
   ]
  },
  {
   "cell_type": "code",
   "execution_count": 13,
   "metadata": {
    "execution": {
     "iopub.execute_input": "2021-03-12T04:15:52.689321Z",
     "iopub.status.busy": "2021-03-12T04:15:52.688214Z",
     "iopub.status.idle": "2021-03-12T04:15:52.689944Z",
     "shell.execute_reply": "2021-03-12T04:15:52.690372Z"
    }
   },
   "outputs": [],
   "source": [
    "df = df.sort_values(by='location')"
   ]
  },
  {
   "cell_type": "code",
   "execution_count": 14,
   "metadata": {
    "execution": {
     "iopub.execute_input": "2021-03-12T04:15:52.696728Z",
     "iopub.status.busy": "2021-03-12T04:15:52.695566Z",
     "iopub.status.idle": "2021-03-12T04:15:52.697429Z",
     "shell.execute_reply": "2021-03-12T04:15:52.697879Z"
    }
   },
   "outputs": [],
   "source": [
    "df = df[df.location == 'California'].append(df[df.location != 'California']).reset_index(drop=True)"
   ]
  },
  {
   "cell_type": "code",
   "execution_count": null,
   "metadata": {},
   "outputs": [],
   "source": []
  },
  {
   "cell_type": "code",
   "execution_count": 15,
   "metadata": {
    "execution": {
     "iopub.execute_input": "2021-03-12T04:15:52.701183Z",
     "iopub.status.busy": "2021-03-12T04:15:52.700667Z",
     "iopub.status.idle": "2021-03-12T04:15:52.717042Z",
     "shell.execute_reply": "2021-03-12T04:15:52.717489Z"
    }
   },
   "outputs": [],
   "source": [
    "tz = pytz.timezone(\"America/New_York\")"
   ]
  },
  {
   "cell_type": "code",
   "execution_count": 16,
   "metadata": {
    "execution": {
     "iopub.execute_input": "2021-03-12T04:15:52.721639Z",
     "iopub.status.busy": "2021-03-12T04:15:52.720480Z",
     "iopub.status.idle": "2021-03-12T04:15:52.722240Z",
     "shell.execute_reply": "2021-03-12T04:15:52.722671Z"
    }
   },
   "outputs": [],
   "source": [
    "today = datetime.now(tz).date()"
   ]
  },
  {
   "cell_type": "code",
   "execution_count": 17,
   "metadata": {
    "execution": {
     "iopub.execute_input": "2021-03-12T04:15:52.726857Z",
     "iopub.status.busy": "2021-03-12T04:15:52.725712Z",
     "iopub.status.idle": "2021-03-12T04:15:52.727448Z",
     "shell.execute_reply": "2021-03-12T04:15:52.727871Z"
    }
   },
   "outputs": [],
   "source": [
    "data_dir = os.path.join(os.path.abspath(\"\"), \"data\")"
   ]
  },
  {
   "cell_type": "code",
   "execution_count": 18,
   "metadata": {
    "execution": {
     "iopub.execute_input": "2021-03-12T04:15:52.732171Z",
     "iopub.status.busy": "2021-03-12T04:15:52.731063Z",
     "iopub.status.idle": "2021-03-12T04:15:52.735571Z",
     "shell.execute_reply": "2021-03-12T04:15:52.735054Z"
    }
   },
   "outputs": [],
   "source": [
    "df.to_csv(os.path.join(data_dir, f\"{today}.csv\"), index=False)"
   ]
  },
  {
   "cell_type": "code",
   "execution_count": null,
   "metadata": {},
   "outputs": [],
   "source": []
  }
 ],
 "metadata": {
  "kernelspec": {
   "display_name": "Python 3",
   "language": "python",
   "name": "python3"
  },
  "language_info": {
   "codemirror_mode": {
    "name": "ipython",
    "version": 3
   },
   "file_extension": ".py",
   "mimetype": "text/x-python",
   "name": "python",
   "nbconvert_exporter": "python",
   "pygments_lexer": "ipython3",
   "version": "3.8.8"
  }
 },
 "nbformat": 4,
 "nbformat_minor": 4
}
