{
 "cells": [
  {
   "cell_type": "markdown",
   "metadata": {},
   "source": [
    "# California COVID vaccinations scrape"
   ]
  },
  {
   "cell_type": "markdown",
   "metadata": {},
   "source": [
    "By [Amy O'Kruk](https://twitter.com/amyokruk)"
   ]
  },
  {
   "cell_type": "markdown",
   "metadata": {},
   "source": [
    "Downloads data on vaccine doses administered by county and statewide from a Tableau-powered dashboard from the California Department of Public Health."
   ]
  },
  {
   "cell_type": "code",
   "execution_count": 1,
   "metadata": {
    "execution": {
     "iopub.execute_input": "2021-03-11T01:28:07.096965Z",
     "iopub.status.busy": "2021-03-11T01:28:07.096373Z",
     "iopub.status.idle": "2021-03-11T01:28:07.471392Z",
     "shell.execute_reply": "2021-03-11T01:28:07.470491Z"
    }
   },
   "outputs": [],
   "source": [
    "import pandas as pd\n",
    "import requests\n",
    "from bs4 import BeautifulSoup\n",
    "import json\n",
    "import re\n",
    "import time\n",
    "from time import gmtime, strftime \n",
    "import os\n",
    "import pytz\n",
    "from datetime import datetime"
   ]
  },
  {
   "cell_type": "markdown",
   "metadata": {},
   "source": [
    "Scrape the dashboard page"
   ]
  },
  {
   "cell_type": "code",
   "execution_count": 2,
   "metadata": {
    "execution": {
     "iopub.execute_input": "2021-03-11T01:28:07.477366Z",
     "iopub.status.busy": "2021-03-11T01:28:07.474863Z",
     "iopub.status.idle": "2021-03-11T01:28:07.798359Z",
     "shell.execute_reply": "2021-03-11T01:28:07.797297Z"
    }
   },
   "outputs": [],
   "source": [
    "url = \"https://public.tableau.com/interactive/views/COVID-19VaccineDashboardPublic/Vaccine?:embed=y&:showVizHome=n&:apiID=host0\"\n",
    "\n",
    "r = requests.get(url)\n",
    "soup = BeautifulSoup(r.text, \"html.parser\")"
   ]
  },
  {
   "cell_type": "code",
   "execution_count": 3,
   "metadata": {
    "execution": {
     "iopub.execute_input": "2021-03-11T01:28:07.803160Z",
     "iopub.status.busy": "2021-03-11T01:28:07.802635Z",
     "iopub.status.idle": "2021-03-11T01:28:07.805548Z",
     "shell.execute_reply": "2021-03-11T01:28:07.804815Z"
    }
   },
   "outputs": [],
   "source": [
    "tableauData = json.loads(soup.find(\"textarea\",{\"id\": \"tsConfigContainer\"}).text)"
   ]
  },
  {
   "cell_type": "markdown",
   "metadata": {},
   "source": [
    "Get the link to the Tableau data"
   ]
  },
  {
   "cell_type": "code",
   "execution_count": 4,
   "metadata": {
    "execution": {
     "iopub.execute_input": "2021-03-11T01:28:07.809085Z",
     "iopub.status.busy": "2021-03-11T01:28:07.808572Z",
     "iopub.status.idle": "2021-03-11T01:28:07.811870Z",
     "shell.execute_reply": "2021-03-11T01:28:07.811445Z"
    }
   },
   "outputs": [],
   "source": [
    "dataUrl = f'https://public.tableau.com{tableauData[\"vizql_root\"]}/bootstrapSession/sessions/{tableauData[\"sessionid\"]}'"
   ]
  },
  {
   "cell_type": "code",
   "execution_count": 5,
   "metadata": {
    "execution": {
     "iopub.execute_input": "2021-03-11T01:28:07.818278Z",
     "iopub.status.busy": "2021-03-11T01:28:07.817755Z",
     "iopub.status.idle": "2021-03-11T01:28:11.901873Z",
     "shell.execute_reply": "2021-03-11T01:28:11.901067Z"
    }
   },
   "outputs": [],
   "source": [
    "r = requests.post(dataUrl, data= {\n",
    "    \"sheet_id\": tableauData[\"sheetId\"],\n",
    "})\n",
    "\n",
    "dataReg = re.search('\\d+;({.*})\\d+;({.*})', r.text, re.MULTILINE)\n",
    "data1 = json.loads(dataReg.group(2))\n",
    "\n",
    "dataJson = data1[\"secondaryInfo\"][\"presModelMap\"][\"dataDictionary\"][\"presModelHolder\"][\"genDataDictionaryPresModel\"][\"dataSegments\"][\"0\"][\"dataColumns\"]"
   ]
  },
  {
   "cell_type": "markdown",
   "metadata": {},
   "source": [
    "Isolate what you want"
   ]
  },
  {
   "cell_type": "code",
   "execution_count": 6,
   "metadata": {
    "execution": {
     "iopub.execute_input": "2021-03-11T01:28:11.906614Z",
     "iopub.status.busy": "2021-03-11T01:28:11.905487Z",
     "iopub.status.idle": "2021-03-11T01:28:11.907198Z",
     "shell.execute_reply": "2021-03-11T01:28:11.907619Z"
    }
   },
   "outputs": [],
   "source": [
    "counties = dataJson[2]['dataValues'][:58]"
   ]
  },
  {
   "cell_type": "code",
   "execution_count": 7,
   "metadata": {
    "execution": {
     "iopub.execute_input": "2021-03-11T01:28:11.911905Z",
     "iopub.status.busy": "2021-03-11T01:28:11.910770Z",
     "iopub.status.idle": "2021-03-11T01:28:11.912530Z",
     "shell.execute_reply": "2021-03-11T01:28:11.912963Z"
    }
   },
   "outputs": [],
   "source": [
    "doses = dataJson[0]['dataValues'][3:61]"
   ]
  },
  {
   "cell_type": "markdown",
   "metadata": {},
   "source": [
    "Data formatting"
   ]
  },
  {
   "cell_type": "code",
   "execution_count": 8,
   "metadata": {
    "execution": {
     "iopub.execute_input": "2021-03-11T01:28:11.917228Z",
     "iopub.status.busy": "2021-03-11T01:28:11.916034Z",
     "iopub.status.idle": "2021-03-11T01:28:11.917875Z",
     "shell.execute_reply": "2021-03-11T01:28:11.918299Z"
    }
   },
   "outputs": [],
   "source": [
    "zipped = dict(zip(counties, doses))"
   ]
  },
  {
   "cell_type": "code",
   "execution_count": 9,
   "metadata": {
    "execution": {
     "iopub.execute_input": "2021-03-11T01:28:11.924762Z",
     "iopub.status.busy": "2021-03-11T01:28:11.923550Z",
     "iopub.status.idle": "2021-03-11T01:28:11.925351Z",
     "shell.execute_reply": "2021-03-11T01:28:11.925772Z"
    }
   },
   "outputs": [],
   "source": [
    "df = pd.Series(zipped).reset_index()"
   ]
  },
  {
   "cell_type": "code",
   "execution_count": 10,
   "metadata": {
    "execution": {
     "iopub.execute_input": "2021-03-11T01:28:11.930168Z",
     "iopub.status.busy": "2021-03-11T01:28:11.929005Z",
     "iopub.status.idle": "2021-03-11T01:28:11.930771Z",
     "shell.execute_reply": "2021-03-11T01:28:11.931197Z"
    }
   },
   "outputs": [],
   "source": [
    "df.columns = ['location','doses']"
   ]
  },
  {
   "cell_type": "markdown",
   "metadata": {},
   "source": [
    "Grab the overall California total"
   ]
  },
  {
   "cell_type": "code",
   "execution_count": 11,
   "metadata": {
    "execution": {
     "iopub.execute_input": "2021-03-11T01:28:11.935495Z",
     "iopub.status.busy": "2021-03-11T01:28:11.934330Z",
     "iopub.status.idle": "2021-03-11T01:28:11.936169Z",
     "shell.execute_reply": "2021-03-11T01:28:11.936599Z"
    }
   },
   "outputs": [],
   "source": [
    "add = {'location':'California','doses':dataJson[0]['dataValues'][2]}"
   ]
  },
  {
   "cell_type": "code",
   "execution_count": 12,
   "metadata": {
    "execution": {
     "iopub.execute_input": "2021-03-11T01:28:11.943401Z",
     "iopub.status.busy": "2021-03-11T01:28:11.942372Z",
     "iopub.status.idle": "2021-03-11T01:28:11.944261Z",
     "shell.execute_reply": "2021-03-11T01:28:11.944695Z"
    }
   },
   "outputs": [],
   "source": [
    "df = df.append(add, ignore_index=True)"
   ]
  },
  {
   "cell_type": "code",
   "execution_count": 13,
   "metadata": {
    "execution": {
     "iopub.execute_input": "2021-03-11T01:28:11.950006Z",
     "iopub.status.busy": "2021-03-11T01:28:11.948837Z",
     "iopub.status.idle": "2021-03-11T01:28:11.950598Z",
     "shell.execute_reply": "2021-03-11T01:28:11.951022Z"
    }
   },
   "outputs": [],
   "source": [
    "df = df.sort_values(by='location')"
   ]
  },
  {
   "cell_type": "code",
   "execution_count": 14,
   "metadata": {
    "execution": {
     "iopub.execute_input": "2021-03-11T01:28:11.957149Z",
     "iopub.status.busy": "2021-03-11T01:28:11.955972Z",
     "iopub.status.idle": "2021-03-11T01:28:11.957840Z",
     "shell.execute_reply": "2021-03-11T01:28:11.958267Z"
    }
   },
   "outputs": [],
   "source": [
    "df = df[df.location == 'California'].append(df[df.location != 'California']).reset_index(drop=True)"
   ]
  },
  {
   "cell_type": "code",
   "execution_count": null,
   "metadata": {},
   "outputs": [],
   "source": []
  },
  {
   "cell_type": "code",
   "execution_count": 15,
   "metadata": {
    "execution": {
     "iopub.execute_input": "2021-03-11T01:28:11.961527Z",
     "iopub.status.busy": "2021-03-11T01:28:11.961023Z",
     "iopub.status.idle": "2021-03-11T01:28:11.978160Z",
     "shell.execute_reply": "2021-03-11T01:28:11.977632Z"
    }
   },
   "outputs": [],
   "source": [
    "tz = pytz.timezone(\"America/New_York\")"
   ]
  },
  {
   "cell_type": "code",
   "execution_count": 16,
   "metadata": {
    "execution": {
     "iopub.execute_input": "2021-03-11T01:28:11.982369Z",
     "iopub.status.busy": "2021-03-11T01:28:11.981196Z",
     "iopub.status.idle": "2021-03-11T01:28:11.982996Z",
     "shell.execute_reply": "2021-03-11T01:28:11.983457Z"
    }
   },
   "outputs": [],
   "source": [
    "today = datetime.now(tz).date()"
   ]
  },
  {
   "cell_type": "code",
   "execution_count": 17,
   "metadata": {
    "execution": {
     "iopub.execute_input": "2021-03-11T01:28:11.987747Z",
     "iopub.status.busy": "2021-03-11T01:28:11.986563Z",
     "iopub.status.idle": "2021-03-11T01:28:11.988362Z",
     "shell.execute_reply": "2021-03-11T01:28:11.988791Z"
    }
   },
   "outputs": [],
   "source": [
    "data_dir = os.path.join(os.path.abspath(\"\"), \"data\")"
   ]
  },
  {
   "cell_type": "code",
   "execution_count": 18,
   "metadata": {
    "execution": {
     "iopub.execute_input": "2021-03-11T01:28:11.993674Z",
     "iopub.status.busy": "2021-03-11T01:28:11.992479Z",
     "iopub.status.idle": "2021-03-11T01:28:11.996872Z",
     "shell.execute_reply": "2021-03-11T01:28:11.996440Z"
    }
   },
   "outputs": [],
   "source": [
    "df.to_csv(os.path.join(data_dir, f\"{today}.csv\"), index=False)"
   ]
  },
  {
   "cell_type": "code",
   "execution_count": null,
   "metadata": {},
   "outputs": [],
   "source": []
  }
 ],
 "metadata": {
  "kernelspec": {
   "display_name": "Python 3",
   "language": "python",
   "name": "python3"
  },
  "language_info": {
   "codemirror_mode": {
    "name": "ipython",
    "version": 3
   },
   "file_extension": ".py",
   "mimetype": "text/x-python",
   "name": "python",
   "nbconvert_exporter": "python",
   "pygments_lexer": "ipython3",
   "version": "3.8.8"
  }
 },
 "nbformat": 4,
 "nbformat_minor": 4
}
