{
 "cells": [
  {
   "cell_type": "markdown",
   "metadata": {},
   "source": [
    "# California COVID vaccinations scrape"
   ]
  },
  {
   "cell_type": "markdown",
   "metadata": {},
   "source": [
    "By [Amy O'Kruk](https://twitter.com/amyokruk)"
   ]
  },
  {
   "cell_type": "markdown",
   "metadata": {},
   "source": [
    "Downloads data on vaccine doses administered by county and statewide from a Tableau-powered dashboard from the California Department of Public Health."
   ]
  },
  {
   "cell_type": "code",
   "execution_count": 1,
   "metadata": {
    "execution": {
     "iopub.execute_input": "2021-03-18T02:54:00.064421Z",
     "iopub.status.busy": "2021-03-18T02:54:00.063253Z",
     "iopub.status.idle": "2021-03-18T02:54:00.640102Z",
     "shell.execute_reply": "2021-03-18T02:54:00.639062Z"
    }
   },
   "outputs": [],
   "source": [
    "import pandas as pd\n",
    "import requests\n",
    "from bs4 import BeautifulSoup\n",
    "import json\n",
    "import re\n",
    "import time\n",
    "from time import gmtime, strftime \n",
    "import os\n",
    "import pytz\n",
    "from datetime import datetime"
   ]
  },
  {
   "cell_type": "markdown",
   "metadata": {},
   "source": [
    "Scrape the dashboard page"
   ]
  },
  {
   "cell_type": "code",
   "execution_count": 2,
   "metadata": {
    "execution": {
     "iopub.execute_input": "2021-03-18T02:54:00.644766Z",
     "iopub.status.busy": "2021-03-18T02:54:00.644181Z",
     "iopub.status.idle": "2021-03-18T02:54:01.085288Z",
     "shell.execute_reply": "2021-03-18T02:54:01.084226Z"
    }
   },
   "outputs": [],
   "source": [
    "url = \"https://public.tableau.com/interactive/views/COVID-19VaccineDashboardPublic/Vaccine?:embed=y&:showVizHome=n&:apiID=host0\"\n",
    "\n",
    "r = requests.get(url)\n",
    "soup = BeautifulSoup(r.text, \"html.parser\")"
   ]
  },
  {
   "cell_type": "code",
   "execution_count": 3,
   "metadata": {
    "execution": {
     "iopub.execute_input": "2021-03-18T02:54:01.090402Z",
     "iopub.status.busy": "2021-03-18T02:54:01.089787Z",
     "iopub.status.idle": "2021-03-18T02:54:01.094704Z",
     "shell.execute_reply": "2021-03-18T02:54:01.093835Z"
    }
   },
   "outputs": [],
   "source": [
    "tableauData = json.loads(soup.find(\"textarea\",{\"id\": \"tsConfigContainer\"}).text)"
   ]
  },
  {
   "cell_type": "markdown",
   "metadata": {},
   "source": [
    "Get the link to the Tableau data"
   ]
  },
  {
   "cell_type": "code",
   "execution_count": 4,
   "metadata": {
    "execution": {
     "iopub.execute_input": "2021-03-18T02:54:01.098958Z",
     "iopub.status.busy": "2021-03-18T02:54:01.098361Z",
     "iopub.status.idle": "2021-03-18T02:54:01.102221Z",
     "shell.execute_reply": "2021-03-18T02:54:01.101711Z"
    }
   },
   "outputs": [],
   "source": [
    "dataUrl = f'https://public.tableau.com{tableauData[\"vizql_root\"]}/bootstrapSession/sessions/{tableauData[\"sessionid\"]}'"
   ]
  },
  {
   "cell_type": "code",
   "execution_count": 5,
   "metadata": {
    "execution": {
     "iopub.execute_input": "2021-03-18T02:54:01.109641Z",
     "iopub.status.busy": "2021-03-18T02:54:01.109021Z",
     "iopub.status.idle": "2021-03-18T02:54:01.587202Z",
     "shell.execute_reply": "2021-03-18T02:54:01.587868Z"
    }
   },
   "outputs": [],
   "source": [
    "r = requests.post(dataUrl, data= {\n",
    "    \"sheet_id\": tableauData[\"sheetId\"],\n",
    "})\n",
    "\n",
    "dataReg = re.search('\\d+;({.*})\\d+;({.*})', r.text, re.MULTILINE)\n",
    "data1 = json.loads(dataReg.group(2))\n",
    "\n",
    "dataJson = data1[\"secondaryInfo\"][\"presModelMap\"][\"dataDictionary\"][\"presModelHolder\"][\"genDataDictionaryPresModel\"][\"dataSegments\"][\"0\"][\"dataColumns\"]"
   ]
  },
  {
   "cell_type": "markdown",
   "metadata": {},
   "source": [
    "Isolate what you want"
   ]
  },
  {
   "cell_type": "code",
   "execution_count": 6,
   "metadata": {
    "execution": {
     "iopub.execute_input": "2021-03-18T02:54:01.592072Z",
     "iopub.status.busy": "2021-03-18T02:54:01.591461Z",
     "iopub.status.idle": "2021-03-18T02:54:01.594418Z",
     "shell.execute_reply": "2021-03-18T02:54:01.593829Z"
    }
   },
   "outputs": [],
   "source": [
    "counties = dataJson[2]['dataValues'][:58]"
   ]
  },
  {
   "cell_type": "code",
   "execution_count": 7,
   "metadata": {
    "execution": {
     "iopub.execute_input": "2021-03-18T02:54:01.601111Z",
     "iopub.status.busy": "2021-03-18T02:54:01.600490Z",
     "iopub.status.idle": "2021-03-18T02:54:01.602341Z",
     "shell.execute_reply": "2021-03-18T02:54:01.603015Z"
    }
   },
   "outputs": [],
   "source": [
    "doses = dataJson[0]['dataValues'][3:61]"
   ]
  },
  {
   "cell_type": "markdown",
   "metadata": {},
   "source": [
    "Data formatting"
   ]
  },
  {
   "cell_type": "code",
   "execution_count": 8,
   "metadata": {
    "execution": {
     "iopub.execute_input": "2021-03-18T02:54:01.606950Z",
     "iopub.status.busy": "2021-03-18T02:54:01.606336Z",
     "iopub.status.idle": "2021-03-18T02:54:01.608795Z",
     "shell.execute_reply": "2021-03-18T02:54:01.608187Z"
    }
   },
   "outputs": [],
   "source": [
    "zipped = dict(zip(counties, doses))"
   ]
  },
  {
   "cell_type": "code",
   "execution_count": 9,
   "metadata": {
    "execution": {
     "iopub.execute_input": "2021-03-18T02:54:01.619194Z",
     "iopub.status.busy": "2021-03-18T02:54:01.618575Z",
     "iopub.status.idle": "2021-03-18T02:54:01.622547Z",
     "shell.execute_reply": "2021-03-18T02:54:01.621753Z"
    }
   },
   "outputs": [],
   "source": [
    "df = pd.Series(zipped).reset_index()"
   ]
  },
  {
   "cell_type": "code",
   "execution_count": 10,
   "metadata": {
    "execution": {
     "iopub.execute_input": "2021-03-18T02:54:01.626744Z",
     "iopub.status.busy": "2021-03-18T02:54:01.626163Z",
     "iopub.status.idle": "2021-03-18T02:54:01.629892Z",
     "shell.execute_reply": "2021-03-18T02:54:01.629406Z"
    }
   },
   "outputs": [],
   "source": [
    "df.columns = ['location','doses']"
   ]
  },
  {
   "cell_type": "markdown",
   "metadata": {},
   "source": [
    "Grab the overall California total"
   ]
  },
  {
   "cell_type": "code",
   "execution_count": 11,
   "metadata": {
    "execution": {
     "iopub.execute_input": "2021-03-18T02:54:01.634072Z",
     "iopub.status.busy": "2021-03-18T02:54:01.633495Z",
     "iopub.status.idle": "2021-03-18T02:54:01.636754Z",
     "shell.execute_reply": "2021-03-18T02:54:01.636218Z"
    }
   },
   "outputs": [],
   "source": [
    "add = {'location':'California','doses':dataJson[0]['dataValues'][2]}"
   ]
  },
  {
   "cell_type": "code",
   "execution_count": 12,
   "metadata": {
    "execution": {
     "iopub.execute_input": "2021-03-18T02:54:01.645692Z",
     "iopub.status.busy": "2021-03-18T02:54:01.644180Z",
     "iopub.status.idle": "2021-03-18T02:54:01.646409Z",
     "shell.execute_reply": "2021-03-18T02:54:01.646897Z"
    }
   },
   "outputs": [],
   "source": [
    "df = df.append(add, ignore_index=True)"
   ]
  },
  {
   "cell_type": "code",
   "execution_count": 13,
   "metadata": {
    "execution": {
     "iopub.execute_input": "2021-03-18T02:54:01.652731Z",
     "iopub.status.busy": "2021-03-18T02:54:01.651328Z",
     "iopub.status.idle": "2021-03-18T02:54:01.653441Z",
     "shell.execute_reply": "2021-03-18T02:54:01.653960Z"
    }
   },
   "outputs": [],
   "source": [
    "df = df.sort_values(by='location')"
   ]
  },
  {
   "cell_type": "code",
   "execution_count": 14,
   "metadata": {
    "execution": {
     "iopub.execute_input": "2021-03-18T02:54:01.662738Z",
     "iopub.status.busy": "2021-03-18T02:54:01.661323Z",
     "iopub.status.idle": "2021-03-18T02:54:01.663425Z",
     "shell.execute_reply": "2021-03-18T02:54:01.663923Z"
    }
   },
   "outputs": [],
   "source": [
    "df = df[df.location == 'California'].append(df[df.location != 'California']).reset_index(drop=True)"
   ]
  },
  {
   "cell_type": "code",
   "execution_count": null,
   "metadata": {},
   "outputs": [],
   "source": []
  },
  {
   "cell_type": "code",
   "execution_count": 15,
   "metadata": {
    "execution": {
     "iopub.execute_input": "2021-03-18T02:54:01.667936Z",
     "iopub.status.busy": "2021-03-18T02:54:01.667330Z",
     "iopub.status.idle": "2021-03-18T02:54:01.689252Z",
     "shell.execute_reply": "2021-03-18T02:54:01.688654Z"
    }
   },
   "outputs": [],
   "source": [
    "tz = pytz.timezone(\"America/New_York\")"
   ]
  },
  {
   "cell_type": "code",
   "execution_count": 16,
   "metadata": {
    "execution": {
     "iopub.execute_input": "2021-03-18T02:54:01.694263Z",
     "iopub.status.busy": "2021-03-18T02:54:01.692760Z",
     "iopub.status.idle": "2021-03-18T02:54:01.694915Z",
     "shell.execute_reply": "2021-03-18T02:54:01.695451Z"
    }
   },
   "outputs": [],
   "source": [
    "today = datetime.now(tz).date()"
   ]
  },
  {
   "cell_type": "code",
   "execution_count": 17,
   "metadata": {
    "execution": {
     "iopub.execute_input": "2021-03-18T02:54:01.699419Z",
     "iopub.status.busy": "2021-03-18T02:54:01.698806Z",
     "iopub.status.idle": "2021-03-18T02:54:01.701356Z",
     "shell.execute_reply": "2021-03-18T02:54:01.700769Z"
    }
   },
   "outputs": [],
   "source": [
    "data_dir = os.path.join(os.path.abspath(\"\"), \"data\")"
   ]
  },
  {
   "cell_type": "code",
   "execution_count": 18,
   "metadata": {
    "execution": {
     "iopub.execute_input": "2021-03-18T02:54:01.705531Z",
     "iopub.status.busy": "2021-03-18T02:54:01.704938Z",
     "iopub.status.idle": "2021-03-18T02:54:01.746750Z",
     "shell.execute_reply": "2021-03-18T02:54:01.747311Z"
    }
   },
   "outputs": [],
   "source": [
    "df.to_csv(os.path.join(data_dir, f\"{today}.csv\"), index=False)"
   ]
  },
  {
   "cell_type": "code",
   "execution_count": null,
   "metadata": {},
   "outputs": [],
   "source": []
  }
 ],
 "metadata": {
  "kernelspec": {
   "display_name": "Python 3",
   "language": "python",
   "name": "python3"
  },
  "language_info": {
   "codemirror_mode": {
    "name": "ipython",
    "version": 3
   },
   "file_extension": ".py",
   "mimetype": "text/x-python",
   "name": "python",
   "nbconvert_exporter": "python",
   "pygments_lexer": "ipython3",
   "version": "3.8.8"
  }
 },
 "nbformat": 4,
 "nbformat_minor": 4
}
