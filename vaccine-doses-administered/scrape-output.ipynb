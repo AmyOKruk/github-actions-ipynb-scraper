{
 "cells": [
  {
   "cell_type": "markdown",
   "metadata": {},
   "source": [
    "# California COVID vaccinations scrape"
   ]
  },
  {
   "cell_type": "markdown",
   "metadata": {},
   "source": [
    "By [Amy O'Kruk](https://twitter.com/amyokruk)"
   ]
  },
  {
   "cell_type": "markdown",
   "metadata": {},
   "source": [
    "Downloads data on vaccine doses administered by county and statewide from a Tableau-powered dashboard from the California Department of Public Health."
   ]
  },
  {
   "cell_type": "code",
   "execution_count": 1,
   "metadata": {
    "execution": {
     "iopub.execute_input": "2021-03-21T19:15:05.623940Z",
     "iopub.status.busy": "2021-03-21T19:15:05.623175Z",
     "iopub.status.idle": "2021-03-21T19:15:06.118187Z",
     "shell.execute_reply": "2021-03-21T19:15:06.117567Z"
    }
   },
   "outputs": [],
   "source": [
    "import pandas as pd\n",
    "import requests\n",
    "from bs4 import BeautifulSoup\n",
    "import json\n",
    "import re\n",
    "import time\n",
    "from time import gmtime, strftime \n",
    "import os\n",
    "import pytz\n",
    "from datetime import datetime"
   ]
  },
  {
   "cell_type": "markdown",
   "metadata": {},
   "source": [
    "Scrape the dashboard page"
   ]
  },
  {
   "cell_type": "code",
   "execution_count": 2,
   "metadata": {
    "execution": {
     "iopub.execute_input": "2021-03-21T19:15:06.126452Z",
     "iopub.status.busy": "2021-03-21T19:15:06.125750Z",
     "iopub.status.idle": "2021-03-21T19:15:06.539706Z",
     "shell.execute_reply": "2021-03-21T19:15:06.538994Z"
    }
   },
   "outputs": [],
   "source": [
    "url = \"https://public.tableau.com/interactive/views/COVID-19VaccineDashboardPublic/Vaccine?:embed=y&:showVizHome=n&:apiID=host0\"\n",
    "\n",
    "r = requests.get(url)\n",
    "soup = BeautifulSoup(r.text, \"html.parser\")"
   ]
  },
  {
   "cell_type": "code",
   "execution_count": 3,
   "metadata": {
    "execution": {
     "iopub.execute_input": "2021-03-21T19:15:06.546360Z",
     "iopub.status.busy": "2021-03-21T19:15:06.544786Z",
     "iopub.status.idle": "2021-03-21T19:15:06.547047Z",
     "shell.execute_reply": "2021-03-21T19:15:06.547567Z"
    }
   },
   "outputs": [],
   "source": [
    "tableauData = json.loads(soup.find(\"textarea\",{\"id\": \"tsConfigContainer\"}).text)"
   ]
  },
  {
   "cell_type": "markdown",
   "metadata": {},
   "source": [
    "Get the link to the Tableau data"
   ]
  },
  {
   "cell_type": "code",
   "execution_count": 4,
   "metadata": {
    "execution": {
     "iopub.execute_input": "2021-03-21T19:15:06.552963Z",
     "iopub.status.busy": "2021-03-21T19:15:06.551305Z",
     "iopub.status.idle": "2021-03-21T19:15:06.553777Z",
     "shell.execute_reply": "2021-03-21T19:15:06.554434Z"
    }
   },
   "outputs": [],
   "source": [
    "dataUrl = f'https://public.tableau.com{tableauData[\"vizql_root\"]}/bootstrapSession/sessions/{tableauData[\"sessionid\"]}'"
   ]
  },
  {
   "cell_type": "code",
   "execution_count": 5,
   "metadata": {
    "execution": {
     "iopub.execute_input": "2021-03-21T19:15:06.561775Z",
     "iopub.status.busy": "2021-03-21T19:15:06.561168Z",
     "iopub.status.idle": "2021-03-21T19:15:07.112043Z",
     "shell.execute_reply": "2021-03-21T19:15:07.111428Z"
    }
   },
   "outputs": [],
   "source": [
    "r = requests.post(dataUrl, data= {\n",
    "    \"sheet_id\": tableauData[\"sheetId\"],\n",
    "})\n",
    "\n",
    "dataReg = re.search('\\d+;({.*})\\d+;({.*})', r.text, re.MULTILINE)\n",
    "data1 = json.loads(dataReg.group(2))\n",
    "\n",
    "dataJson = data1[\"secondaryInfo\"][\"presModelMap\"][\"dataDictionary\"][\"presModelHolder\"][\"genDataDictionaryPresModel\"][\"dataSegments\"][\"0\"][\"dataColumns\"]"
   ]
  },
  {
   "cell_type": "markdown",
   "metadata": {},
   "source": [
    "Isolate what you want"
   ]
  },
  {
   "cell_type": "code",
   "execution_count": 6,
   "metadata": {
    "execution": {
     "iopub.execute_input": "2021-03-21T19:15:07.117439Z",
     "iopub.status.busy": "2021-03-21T19:15:07.115875Z",
     "iopub.status.idle": "2021-03-21T19:15:07.118121Z",
     "shell.execute_reply": "2021-03-21T19:15:07.118819Z"
    }
   },
   "outputs": [],
   "source": [
    "counties = dataJson[2]['dataValues'][:58]"
   ]
  },
  {
   "cell_type": "code",
   "execution_count": 7,
   "metadata": {
    "execution": {
     "iopub.execute_input": "2021-03-21T19:15:07.124052Z",
     "iopub.status.busy": "2021-03-21T19:15:07.122432Z",
     "iopub.status.idle": "2021-03-21T19:15:07.124678Z",
     "shell.execute_reply": "2021-03-21T19:15:07.125190Z"
    }
   },
   "outputs": [],
   "source": [
    "doses = dataJson[0]['dataValues'][3:61]"
   ]
  },
  {
   "cell_type": "markdown",
   "metadata": {},
   "source": [
    "Data formatting"
   ]
  },
  {
   "cell_type": "code",
   "execution_count": 8,
   "metadata": {
    "execution": {
     "iopub.execute_input": "2021-03-21T19:15:07.130560Z",
     "iopub.status.busy": "2021-03-21T19:15:07.128846Z",
     "iopub.status.idle": "2021-03-21T19:15:07.131310Z",
     "shell.execute_reply": "2021-03-21T19:15:07.131790Z"
    }
   },
   "outputs": [],
   "source": [
    "zipped = dict(zip(counties, doses))"
   ]
  },
  {
   "cell_type": "code",
   "execution_count": 9,
   "metadata": {
    "execution": {
     "iopub.execute_input": "2021-03-21T19:15:07.139948Z",
     "iopub.status.busy": "2021-03-21T19:15:07.137961Z",
     "iopub.status.idle": "2021-03-21T19:15:07.141019Z",
     "shell.execute_reply": "2021-03-21T19:15:07.141876Z"
    }
   },
   "outputs": [],
   "source": [
    "df = pd.Series(zipped).reset_index()"
   ]
  },
  {
   "cell_type": "code",
   "execution_count": 10,
   "metadata": {
    "execution": {
     "iopub.execute_input": "2021-03-21T19:15:07.148679Z",
     "iopub.status.busy": "2021-03-21T19:15:07.146462Z",
     "iopub.status.idle": "2021-03-21T19:15:07.149811Z",
     "shell.execute_reply": "2021-03-21T19:15:07.150516Z"
    }
   },
   "outputs": [],
   "source": [
    "df.columns = ['location','doses']"
   ]
  },
  {
   "cell_type": "markdown",
   "metadata": {},
   "source": [
    "Grab the overall California total"
   ]
  },
  {
   "cell_type": "code",
   "execution_count": 11,
   "metadata": {
    "execution": {
     "iopub.execute_input": "2021-03-21T19:15:07.155312Z",
     "iopub.status.busy": "2021-03-21T19:15:07.153968Z",
     "iopub.status.idle": "2021-03-21T19:15:07.155948Z",
     "shell.execute_reply": "2021-03-21T19:15:07.156431Z"
    }
   },
   "outputs": [],
   "source": [
    "add = {'location':'California','doses':dataJson[0]['dataValues'][2]}"
   ]
  },
  {
   "cell_type": "code",
   "execution_count": 12,
   "metadata": {
    "execution": {
     "iopub.execute_input": "2021-03-21T19:15:07.164497Z",
     "iopub.status.busy": "2021-03-21T19:15:07.163071Z",
     "iopub.status.idle": "2021-03-21T19:15:07.165347Z",
     "shell.execute_reply": "2021-03-21T19:15:07.166011Z"
    }
   },
   "outputs": [],
   "source": [
    "df = df.append(add, ignore_index=True)"
   ]
  },
  {
   "cell_type": "code",
   "execution_count": 13,
   "metadata": {
    "execution": {
     "iopub.execute_input": "2021-03-21T19:15:07.172335Z",
     "iopub.status.busy": "2021-03-21T19:15:07.170833Z",
     "iopub.status.idle": "2021-03-21T19:15:07.172977Z",
     "shell.execute_reply": "2021-03-21T19:15:07.173617Z"
    }
   },
   "outputs": [],
   "source": [
    "df = df.sort_values(by='location')"
   ]
  },
  {
   "cell_type": "code",
   "execution_count": 14,
   "metadata": {
    "execution": {
     "iopub.execute_input": "2021-03-21T19:15:07.181288Z",
     "iopub.status.busy": "2021-03-21T19:15:07.179908Z",
     "iopub.status.idle": "2021-03-21T19:15:07.182018Z",
     "shell.execute_reply": "2021-03-21T19:15:07.182599Z"
    }
   },
   "outputs": [],
   "source": [
    "df = df[df.location == 'California'].append(df[df.location != 'California']).reset_index(drop=True)"
   ]
  },
  {
   "cell_type": "code",
   "execution_count": null,
   "metadata": {},
   "outputs": [],
   "source": []
  },
  {
   "cell_type": "code",
   "execution_count": 15,
   "metadata": {
    "execution": {
     "iopub.execute_input": "2021-03-21T19:15:07.186216Z",
     "iopub.status.busy": "2021-03-21T19:15:07.185600Z",
     "iopub.status.idle": "2021-03-21T19:15:07.205603Z",
     "shell.execute_reply": "2021-03-21T19:15:07.206110Z"
    }
   },
   "outputs": [],
   "source": [
    "tz = pytz.timezone(\"America/New_York\")"
   ]
  },
  {
   "cell_type": "code",
   "execution_count": 16,
   "metadata": {
    "execution": {
     "iopub.execute_input": "2021-03-21T19:15:07.211156Z",
     "iopub.status.busy": "2021-03-21T19:15:07.209617Z",
     "iopub.status.idle": "2021-03-21T19:15:07.211917Z",
     "shell.execute_reply": "2021-03-21T19:15:07.212478Z"
    }
   },
   "outputs": [],
   "source": [
    "today = datetime.now(tz).date()"
   ]
  },
  {
   "cell_type": "code",
   "execution_count": 17,
   "metadata": {
    "execution": {
     "iopub.execute_input": "2021-03-21T19:15:07.217658Z",
     "iopub.status.busy": "2021-03-21T19:15:07.215978Z",
     "iopub.status.idle": "2021-03-21T19:15:07.218300Z",
     "shell.execute_reply": "2021-03-21T19:15:07.218793Z"
    }
   },
   "outputs": [],
   "source": [
    "data_dir = os.path.join(os.path.abspath(\"\"), \"data\")"
   ]
  },
  {
   "cell_type": "code",
   "execution_count": 18,
   "metadata": {
    "execution": {
     "iopub.execute_input": "2021-03-21T19:15:07.223661Z",
     "iopub.status.busy": "2021-03-21T19:15:07.222398Z",
     "iopub.status.idle": "2021-03-21T19:15:07.226960Z",
     "shell.execute_reply": "2021-03-21T19:15:07.227454Z"
    }
   },
   "outputs": [],
   "source": [
    "df.to_csv(os.path.join(data_dir, f\"{today}.csv\"), index=False)"
   ]
  },
  {
   "cell_type": "code",
   "execution_count": null,
   "metadata": {},
   "outputs": [],
   "source": []
  }
 ],
 "metadata": {
  "kernelspec": {
   "display_name": "Python 3",
   "language": "python",
   "name": "python3"
  },
  "language_info": {
   "codemirror_mode": {
    "name": "ipython",
    "version": 3
   },
   "file_extension": ".py",
   "mimetype": "text/x-python",
   "name": "python",
   "nbconvert_exporter": "python",
   "pygments_lexer": "ipython3",
   "version": "3.8.8"
  }
 },
 "nbformat": 4,
 "nbformat_minor": 4
}
