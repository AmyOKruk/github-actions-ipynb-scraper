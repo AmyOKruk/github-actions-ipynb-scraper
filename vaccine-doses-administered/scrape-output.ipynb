{
 "cells": [
  {
   "cell_type": "markdown",
   "metadata": {},
   "source": [
    "# California COVID vaccinations scrape"
   ]
  },
  {
   "cell_type": "markdown",
   "metadata": {},
   "source": [
    "By [Amy O'Kruk](https://twitter.com/amyokruk)"
   ]
  },
  {
   "cell_type": "markdown",
   "metadata": {},
   "source": [
    "Downloads data on vaccine doses administered by county and statewide from a Tableau-powered dashboard from the California Department of Public Health."
   ]
  },
  {
   "cell_type": "code",
   "execution_count": 1,
   "metadata": {
    "execution": {
     "iopub.execute_input": "2021-03-21T14:17:42.466373Z",
     "iopub.status.busy": "2021-03-21T14:17:42.465795Z",
     "iopub.status.idle": "2021-03-21T14:17:42.876067Z",
     "shell.execute_reply": "2021-03-21T14:17:42.874992Z"
    }
   },
   "outputs": [],
   "source": [
    "import pandas as pd\n",
    "import requests\n",
    "from bs4 import BeautifulSoup\n",
    "import json\n",
    "import re\n",
    "import time\n",
    "from time import gmtime, strftime \n",
    "import os\n",
    "import pytz\n",
    "from datetime import datetime"
   ]
  },
  {
   "cell_type": "markdown",
   "metadata": {},
   "source": [
    "Scrape the dashboard page"
   ]
  },
  {
   "cell_type": "code",
   "execution_count": 2,
   "metadata": {
    "execution": {
     "iopub.execute_input": "2021-03-21T14:17:42.881959Z",
     "iopub.status.busy": "2021-03-21T14:17:42.879939Z",
     "iopub.status.idle": "2021-03-21T14:17:43.180200Z",
     "shell.execute_reply": "2021-03-21T14:17:43.178954Z"
    }
   },
   "outputs": [],
   "source": [
    "url = \"https://public.tableau.com/interactive/views/COVID-19VaccineDashboardPublic/Vaccine?:embed=y&:showVizHome=n&:apiID=host0\"\n",
    "\n",
    "r = requests.get(url)\n",
    "soup = BeautifulSoup(r.text, \"html.parser\")"
   ]
  },
  {
   "cell_type": "code",
   "execution_count": 3,
   "metadata": {
    "execution": {
     "iopub.execute_input": "2021-03-21T14:17:43.186151Z",
     "iopub.status.busy": "2021-03-21T14:17:43.185257Z",
     "iopub.status.idle": "2021-03-21T14:17:43.188706Z",
     "shell.execute_reply": "2021-03-21T14:17:43.189087Z"
    }
   },
   "outputs": [],
   "source": [
    "tableauData = json.loads(soup.find(\"textarea\",{\"id\": \"tsConfigContainer\"}).text)"
   ]
  },
  {
   "cell_type": "markdown",
   "metadata": {},
   "source": [
    "Get the link to the Tableau data"
   ]
  },
  {
   "cell_type": "code",
   "execution_count": 4,
   "metadata": {
    "execution": {
     "iopub.execute_input": "2021-03-21T14:17:43.193065Z",
     "iopub.status.busy": "2021-03-21T14:17:43.191930Z",
     "iopub.status.idle": "2021-03-21T14:17:43.193716Z",
     "shell.execute_reply": "2021-03-21T14:17:43.194114Z"
    }
   },
   "outputs": [],
   "source": [
    "dataUrl = f'https://public.tableau.com{tableauData[\"vizql_root\"]}/bootstrapSession/sessions/{tableauData[\"sessionid\"]}'"
   ]
  },
  {
   "cell_type": "code",
   "execution_count": 5,
   "metadata": {
    "execution": {
     "iopub.execute_input": "2021-03-21T14:17:43.200642Z",
     "iopub.status.busy": "2021-03-21T14:17:43.200112Z",
     "iopub.status.idle": "2021-03-21T14:17:43.637042Z",
     "shell.execute_reply": "2021-03-21T14:17:43.636233Z"
    }
   },
   "outputs": [],
   "source": [
    "r = requests.post(dataUrl, data= {\n",
    "    \"sheet_id\": tableauData[\"sheetId\"],\n",
    "})\n",
    "\n",
    "dataReg = re.search('\\d+;({.*})\\d+;({.*})', r.text, re.MULTILINE)\n",
    "data1 = json.loads(dataReg.group(2))\n",
    "\n",
    "dataJson = data1[\"secondaryInfo\"][\"presModelMap\"][\"dataDictionary\"][\"presModelHolder\"][\"genDataDictionaryPresModel\"][\"dataSegments\"][\"0\"][\"dataColumns\"]"
   ]
  },
  {
   "cell_type": "markdown",
   "metadata": {},
   "source": [
    "Isolate what you want"
   ]
  },
  {
   "cell_type": "code",
   "execution_count": 6,
   "metadata": {
    "execution": {
     "iopub.execute_input": "2021-03-21T14:17:43.643194Z",
     "iopub.status.busy": "2021-03-21T14:17:43.642114Z",
     "iopub.status.idle": "2021-03-21T14:17:43.644097Z",
     "shell.execute_reply": "2021-03-21T14:17:43.643685Z"
    }
   },
   "outputs": [],
   "source": [
    "counties = dataJson[2]['dataValues'][:58]"
   ]
  },
  {
   "cell_type": "code",
   "execution_count": 7,
   "metadata": {
    "execution": {
     "iopub.execute_input": "2021-03-21T14:17:43.648436Z",
     "iopub.status.busy": "2021-03-21T14:17:43.647157Z",
     "iopub.status.idle": "2021-03-21T14:17:43.649053Z",
     "shell.execute_reply": "2021-03-21T14:17:43.649478Z"
    }
   },
   "outputs": [],
   "source": [
    "doses = dataJson[0]['dataValues'][3:61]"
   ]
  },
  {
   "cell_type": "markdown",
   "metadata": {},
   "source": [
    "Data formatting"
   ]
  },
  {
   "cell_type": "code",
   "execution_count": 8,
   "metadata": {
    "execution": {
     "iopub.execute_input": "2021-03-21T14:17:43.653683Z",
     "iopub.status.busy": "2021-03-21T14:17:43.652511Z",
     "iopub.status.idle": "2021-03-21T14:17:43.654275Z",
     "shell.execute_reply": "2021-03-21T14:17:43.654706Z"
    }
   },
   "outputs": [],
   "source": [
    "zipped = dict(zip(counties, doses))"
   ]
  },
  {
   "cell_type": "code",
   "execution_count": 9,
   "metadata": {
    "execution": {
     "iopub.execute_input": "2021-03-21T14:17:43.660640Z",
     "iopub.status.busy": "2021-03-21T14:17:43.659590Z",
     "iopub.status.idle": "2021-03-21T14:17:43.661191Z",
     "shell.execute_reply": "2021-03-21T14:17:43.661583Z"
    }
   },
   "outputs": [],
   "source": [
    "df = pd.Series(zipped).reset_index()"
   ]
  },
  {
   "cell_type": "code",
   "execution_count": 10,
   "metadata": {
    "execution": {
     "iopub.execute_input": "2021-03-21T14:17:43.665873Z",
     "iopub.status.busy": "2021-03-21T14:17:43.664680Z",
     "iopub.status.idle": "2021-03-21T14:17:43.666499Z",
     "shell.execute_reply": "2021-03-21T14:17:43.666928Z"
    }
   },
   "outputs": [],
   "source": [
    "df.columns = ['location','doses']"
   ]
  },
  {
   "cell_type": "markdown",
   "metadata": {},
   "source": [
    "Grab the overall California total"
   ]
  },
  {
   "cell_type": "code",
   "execution_count": 11,
   "metadata": {
    "execution": {
     "iopub.execute_input": "2021-03-21T14:17:43.670995Z",
     "iopub.status.busy": "2021-03-21T14:17:43.670057Z",
     "iopub.status.idle": "2021-03-21T14:17:43.672221Z",
     "shell.execute_reply": "2021-03-21T14:17:43.671827Z"
    }
   },
   "outputs": [],
   "source": [
    "add = {'location':'California','doses':dataJson[0]['dataValues'][2]}"
   ]
  },
  {
   "cell_type": "code",
   "execution_count": 12,
   "metadata": {
    "execution": {
     "iopub.execute_input": "2021-03-21T14:17:43.678471Z",
     "iopub.status.busy": "2021-03-21T14:17:43.677396Z",
     "iopub.status.idle": "2021-03-21T14:17:43.679201Z",
     "shell.execute_reply": "2021-03-21T14:17:43.679618Z"
    }
   },
   "outputs": [],
   "source": [
    "df = df.append(add, ignore_index=True)"
   ]
  },
  {
   "cell_type": "code",
   "execution_count": 13,
   "metadata": {
    "execution": {
     "iopub.execute_input": "2021-03-21T14:17:43.684430Z",
     "iopub.status.busy": "2021-03-21T14:17:43.683325Z",
     "iopub.status.idle": "2021-03-21T14:17:43.685055Z",
     "shell.execute_reply": "2021-03-21T14:17:43.685447Z"
    }
   },
   "outputs": [],
   "source": [
    "df = df.sort_values(by='location')"
   ]
  },
  {
   "cell_type": "code",
   "execution_count": 14,
   "metadata": {
    "execution": {
     "iopub.execute_input": "2021-03-21T14:17:43.691073Z",
     "iopub.status.busy": "2021-03-21T14:17:43.690295Z",
     "iopub.status.idle": "2021-03-21T14:17:43.692380Z",
     "shell.execute_reply": "2021-03-21T14:17:43.691985Z"
    }
   },
   "outputs": [],
   "source": [
    "df = df[df.location == 'California'].append(df[df.location != 'California']).reset_index(drop=True)"
   ]
  },
  {
   "cell_type": "code",
   "execution_count": null,
   "metadata": {},
   "outputs": [],
   "source": []
  },
  {
   "cell_type": "code",
   "execution_count": 15,
   "metadata": {
    "execution": {
     "iopub.execute_input": "2021-03-21T14:17:43.695637Z",
     "iopub.status.busy": "2021-03-21T14:17:43.695138Z",
     "iopub.status.idle": "2021-03-21T14:17:43.712221Z",
     "shell.execute_reply": "2021-03-21T14:17:43.711795Z"
    }
   },
   "outputs": [],
   "source": [
    "tz = pytz.timezone(\"America/New_York\")"
   ]
  },
  {
   "cell_type": "code",
   "execution_count": 16,
   "metadata": {
    "execution": {
     "iopub.execute_input": "2021-03-21T14:17:43.716500Z",
     "iopub.status.busy": "2021-03-21T14:17:43.715278Z",
     "iopub.status.idle": "2021-03-21T14:17:43.717094Z",
     "shell.execute_reply": "2021-03-21T14:17:43.717519Z"
    }
   },
   "outputs": [],
   "source": [
    "today = datetime.now(tz).date()"
   ]
  },
  {
   "cell_type": "code",
   "execution_count": 17,
   "metadata": {
    "execution": {
     "iopub.execute_input": "2021-03-21T14:17:43.721654Z",
     "iopub.status.busy": "2021-03-21T14:17:43.720488Z",
     "iopub.status.idle": "2021-03-21T14:17:43.722250Z",
     "shell.execute_reply": "2021-03-21T14:17:43.722701Z"
    }
   },
   "outputs": [],
   "source": [
    "data_dir = os.path.join(os.path.abspath(\"\"), \"data\")"
   ]
  },
  {
   "cell_type": "code",
   "execution_count": 18,
   "metadata": {
    "execution": {
     "iopub.execute_input": "2021-03-21T14:17:43.726415Z",
     "iopub.status.busy": "2021-03-21T14:17:43.725311Z",
     "iopub.status.idle": "2021-03-21T14:17:43.730142Z",
     "shell.execute_reply": "2021-03-21T14:17:43.729739Z"
    }
   },
   "outputs": [],
   "source": [
    "df.to_csv(os.path.join(data_dir, f\"{today}.csv\"), index=False)"
   ]
  },
  {
   "cell_type": "code",
   "execution_count": null,
   "metadata": {},
   "outputs": [],
   "source": []
  }
 ],
 "metadata": {
  "kernelspec": {
   "display_name": "Python 3",
   "language": "python",
   "name": "python3"
  },
  "language_info": {
   "codemirror_mode": {
    "name": "ipython",
    "version": 3
   },
   "file_extension": ".py",
   "mimetype": "text/x-python",
   "name": "python",
   "nbconvert_exporter": "python",
   "pygments_lexer": "ipython3",
   "version": "3.8.8"
  }
 },
 "nbformat": 4,
 "nbformat_minor": 4
}
