{
 "cells": [
  {
   "cell_type": "markdown",
   "metadata": {},
   "source": [
    "# California COVID vaccinations scrape"
   ]
  },
  {
   "cell_type": "markdown",
   "metadata": {},
   "source": [
    "By [Amy O'Kruk](https://twitter.com/amyokruk)"
   ]
  },
  {
   "cell_type": "markdown",
   "metadata": {},
   "source": [
    "Downloads data on vaccine doses administered by county and statewide from a Tableau-powered dashboard from the California Department of Public Health."
   ]
  },
  {
   "cell_type": "code",
   "execution_count": 1,
   "metadata": {
    "execution": {
     "iopub.execute_input": "2021-03-19T05:13:57.743623Z",
     "iopub.status.busy": "2021-03-19T05:13:57.742887Z",
     "iopub.status.idle": "2021-03-19T05:13:58.177942Z",
     "shell.execute_reply": "2021-03-19T05:13:58.178524Z"
    }
   },
   "outputs": [],
   "source": [
    "import pandas as pd\n",
    "import requests\n",
    "from bs4 import BeautifulSoup\n",
    "import json\n",
    "import re\n",
    "import time\n",
    "from time import gmtime, strftime \n",
    "import os\n",
    "import pytz\n",
    "from datetime import datetime"
   ]
  },
  {
   "cell_type": "markdown",
   "metadata": {},
   "source": [
    "Scrape the dashboard page"
   ]
  },
  {
   "cell_type": "code",
   "execution_count": 2,
   "metadata": {
    "execution": {
     "iopub.execute_input": "2021-03-19T05:13:58.185104Z",
     "iopub.status.busy": "2021-03-19T05:13:58.182342Z",
     "iopub.status.idle": "2021-03-19T05:13:58.387277Z",
     "shell.execute_reply": "2021-03-19T05:13:58.387697Z"
    }
   },
   "outputs": [],
   "source": [
    "url = \"https://public.tableau.com/interactive/views/COVID-19VaccineDashboardPublic/Vaccine?:embed=y&:showVizHome=n&:apiID=host0\"\n",
    "\n",
    "r = requests.get(url)\n",
    "soup = BeautifulSoup(r.text, \"html.parser\")"
   ]
  },
  {
   "cell_type": "code",
   "execution_count": 3,
   "metadata": {
    "execution": {
     "iopub.execute_input": "2021-03-19T05:13:58.393774Z",
     "iopub.status.busy": "2021-03-19T05:13:58.392216Z",
     "iopub.status.idle": "2021-03-19T05:13:58.394413Z",
     "shell.execute_reply": "2021-03-19T05:13:58.394898Z"
    }
   },
   "outputs": [],
   "source": [
    "tableauData = json.loads(soup.find(\"textarea\",{\"id\": \"tsConfigContainer\"}).text)"
   ]
  },
  {
   "cell_type": "markdown",
   "metadata": {},
   "source": [
    "Get the link to the Tableau data"
   ]
  },
  {
   "cell_type": "code",
   "execution_count": 4,
   "metadata": {
    "execution": {
     "iopub.execute_input": "2021-03-19T05:13:58.400171Z",
     "iopub.status.busy": "2021-03-19T05:13:58.398742Z",
     "iopub.status.idle": "2021-03-19T05:13:58.400830Z",
     "shell.execute_reply": "2021-03-19T05:13:58.401300Z"
    }
   },
   "outputs": [],
   "source": [
    "dataUrl = f'https://public.tableau.com{tableauData[\"vizql_root\"]}/bootstrapSession/sessions/{tableauData[\"sessionid\"]}'"
   ]
  },
  {
   "cell_type": "code",
   "execution_count": 5,
   "metadata": {
    "execution": {
     "iopub.execute_input": "2021-03-19T05:13:58.407900Z",
     "iopub.status.busy": "2021-03-19T05:13:58.407307Z",
     "iopub.status.idle": "2021-03-19T05:13:58.583869Z",
     "shell.execute_reply": "2021-03-19T05:13:58.583261Z"
    }
   },
   "outputs": [],
   "source": [
    "r = requests.post(dataUrl, data= {\n",
    "    \"sheet_id\": tableauData[\"sheetId\"],\n",
    "})\n",
    "\n",
    "dataReg = re.search('\\d+;({.*})\\d+;({.*})', r.text, re.MULTILINE)\n",
    "data1 = json.loads(dataReg.group(2))\n",
    "\n",
    "dataJson = data1[\"secondaryInfo\"][\"presModelMap\"][\"dataDictionary\"][\"presModelHolder\"][\"genDataDictionaryPresModel\"][\"dataSegments\"][\"0\"][\"dataColumns\"]"
   ]
  },
  {
   "cell_type": "markdown",
   "metadata": {},
   "source": [
    "Isolate what you want"
   ]
  },
  {
   "cell_type": "code",
   "execution_count": 6,
   "metadata": {
    "execution": {
     "iopub.execute_input": "2021-03-19T05:13:58.589632Z",
     "iopub.status.busy": "2021-03-19T05:13:58.588018Z",
     "iopub.status.idle": "2021-03-19T05:13:58.590333Z",
     "shell.execute_reply": "2021-03-19T05:13:58.590828Z"
    }
   },
   "outputs": [],
   "source": [
    "counties = dataJson[2]['dataValues'][:58]"
   ]
  },
  {
   "cell_type": "code",
   "execution_count": 7,
   "metadata": {
    "execution": {
     "iopub.execute_input": "2021-03-19T05:13:58.594854Z",
     "iopub.status.busy": "2021-03-19T05:13:58.593338Z",
     "iopub.status.idle": "2021-03-19T05:13:58.597470Z",
     "shell.execute_reply": "2021-03-19T05:13:58.596817Z"
    }
   },
   "outputs": [],
   "source": [
    "doses = dataJson[0]['dataValues'][3:61]"
   ]
  },
  {
   "cell_type": "markdown",
   "metadata": {},
   "source": [
    "Data formatting"
   ]
  },
  {
   "cell_type": "code",
   "execution_count": 8,
   "metadata": {
    "execution": {
     "iopub.execute_input": "2021-03-19T05:13:58.602257Z",
     "iopub.status.busy": "2021-03-19T05:13:58.601640Z",
     "iopub.status.idle": "2021-03-19T05:13:58.603704Z",
     "shell.execute_reply": "2021-03-19T05:13:58.604174Z"
    }
   },
   "outputs": [],
   "source": [
    "zipped = dict(zip(counties, doses))"
   ]
  },
  {
   "cell_type": "code",
   "execution_count": 9,
   "metadata": {
    "execution": {
     "iopub.execute_input": "2021-03-19T05:13:58.612162Z",
     "iopub.status.busy": "2021-03-19T05:13:58.610624Z",
     "iopub.status.idle": "2021-03-19T05:13:58.612845Z",
     "shell.execute_reply": "2021-03-19T05:13:58.613466Z"
    }
   },
   "outputs": [],
   "source": [
    "df = pd.Series(zipped).reset_index()"
   ]
  },
  {
   "cell_type": "code",
   "execution_count": 10,
   "metadata": {
    "execution": {
     "iopub.execute_input": "2021-03-19T05:13:58.619350Z",
     "iopub.status.busy": "2021-03-19T05:13:58.617562Z",
     "iopub.status.idle": "2021-03-19T05:13:58.620028Z",
     "shell.execute_reply": "2021-03-19T05:13:58.620531Z"
    }
   },
   "outputs": [],
   "source": [
    "df.columns = ['location','doses']"
   ]
  },
  {
   "cell_type": "markdown",
   "metadata": {},
   "source": [
    "Grab the overall California total"
   ]
  },
  {
   "cell_type": "code",
   "execution_count": 11,
   "metadata": {
    "execution": {
     "iopub.execute_input": "2021-03-19T05:13:58.626448Z",
     "iopub.status.busy": "2021-03-19T05:13:58.624920Z",
     "iopub.status.idle": "2021-03-19T05:13:58.627114Z",
     "shell.execute_reply": "2021-03-19T05:13:58.627684Z"
    }
   },
   "outputs": [],
   "source": [
    "add = {'location':'California','doses':dataJson[0]['dataValues'][2]}"
   ]
  },
  {
   "cell_type": "code",
   "execution_count": 12,
   "metadata": {
    "execution": {
     "iopub.execute_input": "2021-03-19T05:13:58.636252Z",
     "iopub.status.busy": "2021-03-19T05:13:58.634659Z",
     "iopub.status.idle": "2021-03-19T05:13:58.636951Z",
     "shell.execute_reply": "2021-03-19T05:13:58.637539Z"
    }
   },
   "outputs": [],
   "source": [
    "df = df.append(add, ignore_index=True)"
   ]
  },
  {
   "cell_type": "code",
   "execution_count": 13,
   "metadata": {
    "execution": {
     "iopub.execute_input": "2021-03-19T05:13:58.643511Z",
     "iopub.status.busy": "2021-03-19T05:13:58.642028Z",
     "iopub.status.idle": "2021-03-19T05:13:58.644361Z",
     "shell.execute_reply": "2021-03-19T05:13:58.644876Z"
    }
   },
   "outputs": [],
   "source": [
    "df = df.sort_values(by='location')"
   ]
  },
  {
   "cell_type": "code",
   "execution_count": 14,
   "metadata": {
    "execution": {
     "iopub.execute_input": "2021-03-19T05:13:58.653275Z",
     "iopub.status.busy": "2021-03-19T05:13:58.651519Z",
     "iopub.status.idle": "2021-03-19T05:13:58.653926Z",
     "shell.execute_reply": "2021-03-19T05:13:58.654441Z"
    }
   },
   "outputs": [],
   "source": [
    "df = df[df.location == 'California'].append(df[df.location != 'California']).reset_index(drop=True)"
   ]
  },
  {
   "cell_type": "code",
   "execution_count": null,
   "metadata": {},
   "outputs": [],
   "source": []
  },
  {
   "cell_type": "code",
   "execution_count": 15,
   "metadata": {
    "execution": {
     "iopub.execute_input": "2021-03-19T05:13:58.658550Z",
     "iopub.status.busy": "2021-03-19T05:13:58.657964Z",
     "iopub.status.idle": "2021-03-19T05:13:58.678407Z",
     "shell.execute_reply": "2021-03-19T05:13:58.678891Z"
    }
   },
   "outputs": [],
   "source": [
    "tz = pytz.timezone(\"America/New_York\")"
   ]
  },
  {
   "cell_type": "code",
   "execution_count": 16,
   "metadata": {
    "execution": {
     "iopub.execute_input": "2021-03-19T05:13:58.684355Z",
     "iopub.status.busy": "2021-03-19T05:13:58.682622Z",
     "iopub.status.idle": "2021-03-19T05:13:58.685045Z",
     "shell.execute_reply": "2021-03-19T05:13:58.685623Z"
    }
   },
   "outputs": [],
   "source": [
    "today = datetime.now(tz).date()"
   ]
  },
  {
   "cell_type": "code",
   "execution_count": 17,
   "metadata": {
    "execution": {
     "iopub.execute_input": "2021-03-19T05:13:58.691030Z",
     "iopub.status.busy": "2021-03-19T05:13:58.689440Z",
     "iopub.status.idle": "2021-03-19T05:13:58.691813Z",
     "shell.execute_reply": "2021-03-19T05:13:58.692320Z"
    }
   },
   "outputs": [],
   "source": [
    "data_dir = os.path.join(os.path.abspath(\"\"), \"data\")"
   ]
  },
  {
   "cell_type": "code",
   "execution_count": 18,
   "metadata": {
    "execution": {
     "iopub.execute_input": "2021-03-19T05:13:58.698638Z",
     "iopub.status.busy": "2021-03-19T05:13:58.696031Z",
     "iopub.status.idle": "2021-03-19T05:13:58.701496Z",
     "shell.execute_reply": "2021-03-19T05:13:58.700833Z"
    }
   },
   "outputs": [],
   "source": [
    "df.to_csv(os.path.join(data_dir, f\"{today}.csv\"), index=False)"
   ]
  },
  {
   "cell_type": "code",
   "execution_count": null,
   "metadata": {},
   "outputs": [],
   "source": []
  }
 ],
 "metadata": {
  "kernelspec": {
   "display_name": "Python 3",
   "language": "python",
   "name": "python3"
  },
  "language_info": {
   "codemirror_mode": {
    "name": "ipython",
    "version": 3
   },
   "file_extension": ".py",
   "mimetype": "text/x-python",
   "name": "python",
   "nbconvert_exporter": "python",
   "pygments_lexer": "ipython3",
   "version": "3.8.8"
  }
 },
 "nbformat": 4,
 "nbformat_minor": 4
}
