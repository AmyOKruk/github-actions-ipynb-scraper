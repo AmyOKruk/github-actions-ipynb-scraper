{
 "cells": [
  {
   "cell_type": "markdown",
   "metadata": {},
   "source": [
    "# California COVID vaccinations scrape"
   ]
  },
  {
   "cell_type": "markdown",
   "metadata": {},
   "source": [
    "By [Amy O'Kruk](https://twitter.com/amyokruk)"
   ]
  },
  {
   "cell_type": "markdown",
   "metadata": {},
   "source": [
    "Downloads data on vaccine doses administered by county and statewide from a Tableau-powered dashboard from the California Department of Public Health."
   ]
  },
  {
   "cell_type": "code",
   "execution_count": 1,
   "metadata": {
    "execution": {
     "iopub.execute_input": "2021-03-15T11:39:40.397404Z",
     "iopub.status.busy": "2021-03-15T11:39:40.396357Z",
     "iopub.status.idle": "2021-03-15T11:39:40.856172Z",
     "shell.execute_reply": "2021-03-15T11:39:40.855193Z"
    }
   },
   "outputs": [],
   "source": [
    "import pandas as pd\n",
    "import requests\n",
    "from bs4 import BeautifulSoup\n",
    "import json\n",
    "import re\n",
    "import time\n",
    "from time import gmtime, strftime \n",
    "import os\n",
    "import pytz\n",
    "from datetime import datetime"
   ]
  },
  {
   "cell_type": "markdown",
   "metadata": {},
   "source": [
    "Scrape the dashboard page"
   ]
  },
  {
   "cell_type": "code",
   "execution_count": 2,
   "metadata": {
    "execution": {
     "iopub.execute_input": "2021-03-15T11:39:40.862427Z",
     "iopub.status.busy": "2021-03-15T11:39:40.859831Z",
     "iopub.status.idle": "2021-03-15T11:39:41.221219Z",
     "shell.execute_reply": "2021-03-15T11:39:41.221689Z"
    }
   },
   "outputs": [],
   "source": [
    "url = \"https://public.tableau.com/interactive/views/COVID-19VaccineDashboardPublic/Vaccine?:embed=y&:showVizHome=n&:apiID=host0\"\n",
    "\n",
    "r = requests.get(url)\n",
    "soup = BeautifulSoup(r.text, \"html.parser\")"
   ]
  },
  {
   "cell_type": "code",
   "execution_count": 3,
   "metadata": {
    "execution": {
     "iopub.execute_input": "2021-03-15T11:39:41.227244Z",
     "iopub.status.busy": "2021-03-15T11:39:41.226634Z",
     "iopub.status.idle": "2021-03-15T11:39:41.230582Z",
     "shell.execute_reply": "2021-03-15T11:39:41.230101Z"
    }
   },
   "outputs": [],
   "source": [
    "tableauData = json.loads(soup.find(\"textarea\",{\"id\": \"tsConfigContainer\"}).text)"
   ]
  },
  {
   "cell_type": "markdown",
   "metadata": {},
   "source": [
    "Get the link to the Tableau data"
   ]
  },
  {
   "cell_type": "code",
   "execution_count": 4,
   "metadata": {
    "execution": {
     "iopub.execute_input": "2021-03-15T11:39:41.235691Z",
     "iopub.status.busy": "2021-03-15T11:39:41.234178Z",
     "iopub.status.idle": "2021-03-15T11:39:41.236422Z",
     "shell.execute_reply": "2021-03-15T11:39:41.236936Z"
    }
   },
   "outputs": [],
   "source": [
    "dataUrl = f'https://public.tableau.com{tableauData[\"vizql_root\"]}/bootstrapSession/sessions/{tableauData[\"sessionid\"]}'"
   ]
  },
  {
   "cell_type": "code",
   "execution_count": 5,
   "metadata": {
    "execution": {
     "iopub.execute_input": "2021-03-15T11:39:41.243822Z",
     "iopub.status.busy": "2021-03-15T11:39:41.243211Z",
     "iopub.status.idle": "2021-03-15T11:39:41.495668Z",
     "shell.execute_reply": "2021-03-15T11:39:41.495052Z"
    }
   },
   "outputs": [],
   "source": [
    "r = requests.post(dataUrl, data= {\n",
    "    \"sheet_id\": tableauData[\"sheetId\"],\n",
    "})\n",
    "\n",
    "dataReg = re.search('\\d+;({.*})\\d+;({.*})', r.text, re.MULTILINE)\n",
    "data1 = json.loads(dataReg.group(2))\n",
    "\n",
    "dataJson = data1[\"secondaryInfo\"][\"presModelMap\"][\"dataDictionary\"][\"presModelHolder\"][\"genDataDictionaryPresModel\"][\"dataSegments\"][\"0\"][\"dataColumns\"]"
   ]
  },
  {
   "cell_type": "markdown",
   "metadata": {},
   "source": [
    "Isolate what you want"
   ]
  },
  {
   "cell_type": "code",
   "execution_count": 6,
   "metadata": {
    "execution": {
     "iopub.execute_input": "2021-03-15T11:39:41.500835Z",
     "iopub.status.busy": "2021-03-15T11:39:41.499392Z",
     "iopub.status.idle": "2021-03-15T11:39:41.501608Z",
     "shell.execute_reply": "2021-03-15T11:39:41.502054Z"
    }
   },
   "outputs": [],
   "source": [
    "counties = dataJson[2]['dataValues'][:58]"
   ]
  },
  {
   "cell_type": "code",
   "execution_count": 7,
   "metadata": {
    "execution": {
     "iopub.execute_input": "2021-03-15T11:39:41.507017Z",
     "iopub.status.busy": "2021-03-15T11:39:41.505457Z",
     "iopub.status.idle": "2021-03-15T11:39:41.507657Z",
     "shell.execute_reply": "2021-03-15T11:39:41.508263Z"
    }
   },
   "outputs": [],
   "source": [
    "doses = dataJson[0]['dataValues'][3:61]"
   ]
  },
  {
   "cell_type": "markdown",
   "metadata": {},
   "source": [
    "Data formatting"
   ]
  },
  {
   "cell_type": "code",
   "execution_count": 8,
   "metadata": {
    "execution": {
     "iopub.execute_input": "2021-03-15T11:39:41.513208Z",
     "iopub.status.busy": "2021-03-15T11:39:41.511792Z",
     "iopub.status.idle": "2021-03-15T11:39:41.513922Z",
     "shell.execute_reply": "2021-03-15T11:39:41.514452Z"
    }
   },
   "outputs": [],
   "source": [
    "zipped = dict(zip(counties, doses))"
   ]
  },
  {
   "cell_type": "code",
   "execution_count": 9,
   "metadata": {
    "execution": {
     "iopub.execute_input": "2021-03-15T11:39:41.521962Z",
     "iopub.status.busy": "2021-03-15T11:39:41.520601Z",
     "iopub.status.idle": "2021-03-15T11:39:41.522662Z",
     "shell.execute_reply": "2021-03-15T11:39:41.523223Z"
    }
   },
   "outputs": [],
   "source": [
    "df = pd.Series(zipped).reset_index()"
   ]
  },
  {
   "cell_type": "code",
   "execution_count": 10,
   "metadata": {
    "execution": {
     "iopub.execute_input": "2021-03-15T11:39:41.528004Z",
     "iopub.status.busy": "2021-03-15T11:39:41.526663Z",
     "iopub.status.idle": "2021-03-15T11:39:41.528663Z",
     "shell.execute_reply": "2021-03-15T11:39:41.529203Z"
    }
   },
   "outputs": [],
   "source": [
    "df.columns = ['location','doses']"
   ]
  },
  {
   "cell_type": "markdown",
   "metadata": {},
   "source": [
    "Grab the overall California total"
   ]
  },
  {
   "cell_type": "code",
   "execution_count": 11,
   "metadata": {
    "execution": {
     "iopub.execute_input": "2021-03-15T11:39:41.534392Z",
     "iopub.status.busy": "2021-03-15T11:39:41.532900Z",
     "iopub.status.idle": "2021-03-15T11:39:41.535051Z",
     "shell.execute_reply": "2021-03-15T11:39:41.535504Z"
    }
   },
   "outputs": [],
   "source": [
    "add = {'location':'California','doses':dataJson[0]['dataValues'][2]}"
   ]
  },
  {
   "cell_type": "code",
   "execution_count": 12,
   "metadata": {
    "execution": {
     "iopub.execute_input": "2021-03-15T11:39:41.542110Z",
     "iopub.status.busy": "2021-03-15T11:39:41.540060Z",
     "iopub.status.idle": "2021-03-15T11:39:41.544515Z",
     "shell.execute_reply": "2021-03-15T11:39:41.544035Z"
    }
   },
   "outputs": [],
   "source": [
    "df = df.append(add, ignore_index=True)"
   ]
  },
  {
   "cell_type": "code",
   "execution_count": 13,
   "metadata": {
    "execution": {
     "iopub.execute_input": "2021-03-15T11:39:41.550051Z",
     "iopub.status.busy": "2021-03-15T11:39:41.548837Z",
     "iopub.status.idle": "2021-03-15T11:39:41.550701Z",
     "shell.execute_reply": "2021-03-15T11:39:41.551223Z"
    }
   },
   "outputs": [],
   "source": [
    "df = df.sort_values(by='location')"
   ]
  },
  {
   "cell_type": "code",
   "execution_count": 14,
   "metadata": {
    "execution": {
     "iopub.execute_input": "2021-03-15T11:39:41.558325Z",
     "iopub.status.busy": "2021-03-15T11:39:41.556901Z",
     "iopub.status.idle": "2021-03-15T11:39:41.559020Z",
     "shell.execute_reply": "2021-03-15T11:39:41.559559Z"
    }
   },
   "outputs": [],
   "source": [
    "df = df[df.location == 'California'].append(df[df.location != 'California']).reset_index(drop=True)"
   ]
  },
  {
   "cell_type": "code",
   "execution_count": null,
   "metadata": {},
   "outputs": [],
   "source": []
  },
  {
   "cell_type": "code",
   "execution_count": 15,
   "metadata": {
    "execution": {
     "iopub.execute_input": "2021-03-15T11:39:41.563416Z",
     "iopub.status.busy": "2021-03-15T11:39:41.562810Z",
     "iopub.status.idle": "2021-03-15T11:39:41.582580Z",
     "shell.execute_reply": "2021-03-15T11:39:41.581963Z"
    }
   },
   "outputs": [],
   "source": [
    "tz = pytz.timezone(\"America/New_York\")"
   ]
  },
  {
   "cell_type": "code",
   "execution_count": 16,
   "metadata": {
    "execution": {
     "iopub.execute_input": "2021-03-15T11:39:41.587367Z",
     "iopub.status.busy": "2021-03-15T11:39:41.585897Z",
     "iopub.status.idle": "2021-03-15T11:39:41.588061Z",
     "shell.execute_reply": "2021-03-15T11:39:41.588547Z"
    }
   },
   "outputs": [],
   "source": [
    "today = datetime.now(tz).date()"
   ]
  },
  {
   "cell_type": "code",
   "execution_count": 17,
   "metadata": {
    "execution": {
     "iopub.execute_input": "2021-03-15T11:39:41.593571Z",
     "iopub.status.busy": "2021-03-15T11:39:41.592085Z",
     "iopub.status.idle": "2021-03-15T11:39:41.594294Z",
     "shell.execute_reply": "2021-03-15T11:39:41.594939Z"
    }
   },
   "outputs": [],
   "source": [
    "data_dir = os.path.join(os.path.abspath(\"\"), \"data\")"
   ]
  },
  {
   "cell_type": "code",
   "execution_count": 18,
   "metadata": {
    "execution": {
     "iopub.execute_input": "2021-03-15T11:39:41.599870Z",
     "iopub.status.busy": "2021-03-15T11:39:41.598542Z",
     "iopub.status.idle": "2021-03-15T11:39:41.603075Z",
     "shell.execute_reply": "2021-03-15T11:39:41.603529Z"
    }
   },
   "outputs": [],
   "source": [
    "df.to_csv(os.path.join(data_dir, f\"{today}.csv\"), index=False)"
   ]
  },
  {
   "cell_type": "code",
   "execution_count": null,
   "metadata": {},
   "outputs": [],
   "source": []
  }
 ],
 "metadata": {
  "kernelspec": {
   "display_name": "Python 3",
   "language": "python",
   "name": "python3"
  },
  "language_info": {
   "codemirror_mode": {
    "name": "ipython",
    "version": 3
   },
   "file_extension": ".py",
   "mimetype": "text/x-python",
   "name": "python",
   "nbconvert_exporter": "python",
   "pygments_lexer": "ipython3",
   "version": "3.8.8"
  }
 },
 "nbformat": 4,
 "nbformat_minor": 4
}
