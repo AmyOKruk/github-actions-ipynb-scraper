{
 "cells": [
  {
   "cell_type": "markdown",
   "metadata": {},
   "source": [
    "# California COVID vaccinations scrape"
   ]
  },
  {
   "cell_type": "markdown",
   "metadata": {},
   "source": [
    "By [Amy O'Kruk](https://twitter.com/amyokruk)"
   ]
  },
  {
   "cell_type": "markdown",
   "metadata": {},
   "source": [
    "Downloads data on vaccine doses administered by county and statewide from a Tableau-powered dashboard from the California Department of Public Health."
   ]
  },
  {
   "cell_type": "code",
   "execution_count": 1,
   "metadata": {
    "execution": {
     "iopub.execute_input": "2021-03-23T18:30:51.086310Z",
     "iopub.status.busy": "2021-03-23T18:30:51.085761Z",
     "iopub.status.idle": "2021-03-23T18:30:51.538229Z",
     "shell.execute_reply": "2021-03-23T18:30:51.537286Z"
    }
   },
   "outputs": [],
   "source": [
    "import pandas as pd\n",
    "import requests\n",
    "from bs4 import BeautifulSoup\n",
    "import json\n",
    "import re\n",
    "import time\n",
    "from time import gmtime, strftime \n",
    "import os\n",
    "import pytz\n",
    "from datetime import datetime"
   ]
  },
  {
   "cell_type": "markdown",
   "metadata": {},
   "source": [
    "Scrape the dashboard page"
   ]
  },
  {
   "cell_type": "code",
   "execution_count": 2,
   "metadata": {
    "execution": {
     "iopub.execute_input": "2021-03-23T18:30:51.544388Z",
     "iopub.status.busy": "2021-03-23T18:30:51.541901Z",
     "iopub.status.idle": "2021-03-23T18:30:51.921092Z",
     "shell.execute_reply": "2021-03-23T18:30:51.920259Z"
    }
   },
   "outputs": [],
   "source": [
    "url = \"https://public.tableau.com/interactive/views/COVID-19VaccineDashboardPublic/Vaccine?:embed=y&:showVizHome=n&:apiID=host0\"\n",
    "\n",
    "r = requests.get(url)\n",
    "soup = BeautifulSoup(r.text, \"html.parser\")"
   ]
  },
  {
   "cell_type": "code",
   "execution_count": 3,
   "metadata": {
    "execution": {
     "iopub.execute_input": "2021-03-23T18:30:51.926792Z",
     "iopub.status.busy": "2021-03-23T18:30:51.926173Z",
     "iopub.status.idle": "2021-03-23T18:30:51.929671Z",
     "shell.execute_reply": "2021-03-23T18:30:51.929240Z"
    }
   },
   "outputs": [],
   "source": [
    "tableauData = json.loads(soup.find(\"textarea\",{\"id\": \"tsConfigContainer\"}).text)"
   ]
  },
  {
   "cell_type": "markdown",
   "metadata": {},
   "source": [
    "Get the link to the Tableau data"
   ]
  },
  {
   "cell_type": "code",
   "execution_count": 4,
   "metadata": {
    "execution": {
     "iopub.execute_input": "2021-03-23T18:30:51.933839Z",
     "iopub.status.busy": "2021-03-23T18:30:51.932654Z",
     "iopub.status.idle": "2021-03-23T18:30:51.934502Z",
     "shell.execute_reply": "2021-03-23T18:30:51.934896Z"
    }
   },
   "outputs": [],
   "source": [
    "dataUrl = f'https://public.tableau.com{tableauData[\"vizql_root\"]}/bootstrapSession/sessions/{tableauData[\"sessionid\"]}'"
   ]
  },
  {
   "cell_type": "code",
   "execution_count": 5,
   "metadata": {
    "execution": {
     "iopub.execute_input": "2021-03-23T18:30:51.941525Z",
     "iopub.status.busy": "2021-03-23T18:30:51.940995Z",
     "iopub.status.idle": "2021-03-23T18:30:52.242345Z",
     "shell.execute_reply": "2021-03-23T18:30:52.241830Z"
    }
   },
   "outputs": [],
   "source": [
    "r = requests.post(dataUrl, data= {\n",
    "    \"sheet_id\": tableauData[\"sheetId\"],\n",
    "})\n",
    "\n",
    "dataReg = re.search('\\d+;({.*})\\d+;({.*})', r.text, re.MULTILINE)\n",
    "data1 = json.loads(dataReg.group(2))\n",
    "\n",
    "dataJson = data1[\"secondaryInfo\"][\"presModelMap\"][\"dataDictionary\"][\"presModelHolder\"][\"genDataDictionaryPresModel\"][\"dataSegments\"][\"0\"][\"dataColumns\"]"
   ]
  },
  {
   "cell_type": "markdown",
   "metadata": {},
   "source": [
    "Isolate what you want"
   ]
  },
  {
   "cell_type": "code",
   "execution_count": 6,
   "metadata": {
    "execution": {
     "iopub.execute_input": "2021-03-23T18:30:52.247019Z",
     "iopub.status.busy": "2021-03-23T18:30:52.245725Z",
     "iopub.status.idle": "2021-03-23T18:30:52.247626Z",
     "shell.execute_reply": "2021-03-23T18:30:52.248214Z"
    }
   },
   "outputs": [],
   "source": [
    "counties = dataJson[2]['dataValues'][:58]"
   ]
  },
  {
   "cell_type": "code",
   "execution_count": 7,
   "metadata": {
    "execution": {
     "iopub.execute_input": "2021-03-23T18:30:52.252615Z",
     "iopub.status.busy": "2021-03-23T18:30:52.251433Z",
     "iopub.status.idle": "2021-03-23T18:30:52.253272Z",
     "shell.execute_reply": "2021-03-23T18:30:52.253699Z"
    }
   },
   "outputs": [],
   "source": [
    "doses = dataJson[0]['dataValues'][3:61]"
   ]
  },
  {
   "cell_type": "markdown",
   "metadata": {},
   "source": [
    "Data formatting"
   ]
  },
  {
   "cell_type": "code",
   "execution_count": 8,
   "metadata": {
    "execution": {
     "iopub.execute_input": "2021-03-23T18:30:52.258005Z",
     "iopub.status.busy": "2021-03-23T18:30:52.256845Z",
     "iopub.status.idle": "2021-03-23T18:30:52.258658Z",
     "shell.execute_reply": "2021-03-23T18:30:52.259109Z"
    }
   },
   "outputs": [],
   "source": [
    "zipped = dict(zip(counties, doses))"
   ]
  },
  {
   "cell_type": "code",
   "execution_count": 9,
   "metadata": {
    "execution": {
     "iopub.execute_input": "2021-03-23T18:30:52.266059Z",
     "iopub.status.busy": "2021-03-23T18:30:52.264690Z",
     "iopub.status.idle": "2021-03-23T18:30:52.266644Z",
     "shell.execute_reply": "2021-03-23T18:30:52.267180Z"
    }
   },
   "outputs": [],
   "source": [
    "df = pd.Series(zipped).reset_index()"
   ]
  },
  {
   "cell_type": "code",
   "execution_count": 10,
   "metadata": {
    "execution": {
     "iopub.execute_input": "2021-03-23T18:30:52.271629Z",
     "iopub.status.busy": "2021-03-23T18:30:52.270272Z",
     "iopub.status.idle": "2021-03-23T18:30:52.272225Z",
     "shell.execute_reply": "2021-03-23T18:30:52.272783Z"
    }
   },
   "outputs": [],
   "source": [
    "df.columns = ['location','doses']"
   ]
  },
  {
   "cell_type": "markdown",
   "metadata": {},
   "source": [
    "Grab the overall California total"
   ]
  },
  {
   "cell_type": "code",
   "execution_count": 11,
   "metadata": {
    "execution": {
     "iopub.execute_input": "2021-03-23T18:30:52.277349Z",
     "iopub.status.busy": "2021-03-23T18:30:52.275997Z",
     "iopub.status.idle": "2021-03-23T18:30:52.277929Z",
     "shell.execute_reply": "2021-03-23T18:30:52.278348Z"
    }
   },
   "outputs": [],
   "source": [
    "add = {'location':'California','doses':dataJson[0]['dataValues'][2]}"
   ]
  },
  {
   "cell_type": "code",
   "execution_count": 12,
   "metadata": {
    "execution": {
     "iopub.execute_input": "2021-03-23T18:30:52.285549Z",
     "iopub.status.busy": "2021-03-23T18:30:52.284141Z",
     "iopub.status.idle": "2021-03-23T18:30:52.286147Z",
     "shell.execute_reply": "2021-03-23T18:30:52.286697Z"
    }
   },
   "outputs": [],
   "source": [
    "df = df.append(add, ignore_index=True)"
   ]
  },
  {
   "cell_type": "code",
   "execution_count": 13,
   "metadata": {
    "execution": {
     "iopub.execute_input": "2021-03-23T18:30:52.291708Z",
     "iopub.status.busy": "2021-03-23T18:30:52.290564Z",
     "iopub.status.idle": "2021-03-23T18:30:52.292496Z",
     "shell.execute_reply": "2021-03-23T18:30:52.292935Z"
    }
   },
   "outputs": [],
   "source": [
    "df = df.sort_values(by='location')"
   ]
  },
  {
   "cell_type": "code",
   "execution_count": 14,
   "metadata": {
    "execution": {
     "iopub.execute_input": "2021-03-23T18:30:52.299443Z",
     "iopub.status.busy": "2021-03-23T18:30:52.298272Z",
     "iopub.status.idle": "2021-03-23T18:30:52.300035Z",
     "shell.execute_reply": "2021-03-23T18:30:52.300622Z"
    }
   },
   "outputs": [],
   "source": [
    "df = df[df.location == 'California'].append(df[df.location != 'California']).reset_index(drop=True)"
   ]
  },
  {
   "cell_type": "code",
   "execution_count": null,
   "metadata": {},
   "outputs": [],
   "source": []
  },
  {
   "cell_type": "code",
   "execution_count": 15,
   "metadata": {
    "execution": {
     "iopub.execute_input": "2021-03-23T18:30:52.304034Z",
     "iopub.status.busy": "2021-03-23T18:30:52.303528Z",
     "iopub.status.idle": "2021-03-23T18:30:52.320446Z",
     "shell.execute_reply": "2021-03-23T18:30:52.320989Z"
    }
   },
   "outputs": [],
   "source": [
    "tz = pytz.timezone(\"America/New_York\")"
   ]
  },
  {
   "cell_type": "code",
   "execution_count": 16,
   "metadata": {
    "execution": {
     "iopub.execute_input": "2021-03-23T18:30:52.325138Z",
     "iopub.status.busy": "2021-03-23T18:30:52.324021Z",
     "iopub.status.idle": "2021-03-23T18:30:52.325726Z",
     "shell.execute_reply": "2021-03-23T18:30:52.326252Z"
    }
   },
   "outputs": [],
   "source": [
    "today = datetime.now(tz).date()"
   ]
  },
  {
   "cell_type": "code",
   "execution_count": 17,
   "metadata": {
    "execution": {
     "iopub.execute_input": "2021-03-23T18:30:52.330442Z",
     "iopub.status.busy": "2021-03-23T18:30:52.329322Z",
     "iopub.status.idle": "2021-03-23T18:30:52.331055Z",
     "shell.execute_reply": "2021-03-23T18:30:52.331486Z"
    }
   },
   "outputs": [],
   "source": [
    "data_dir = os.path.join(os.path.abspath(\"\"), \"data\")"
   ]
  },
  {
   "cell_type": "code",
   "execution_count": 18,
   "metadata": {
    "execution": {
     "iopub.execute_input": "2021-03-23T18:30:52.337288Z",
     "iopub.status.busy": "2021-03-23T18:30:52.335580Z",
     "iopub.status.idle": "2021-03-23T18:30:52.340742Z",
     "shell.execute_reply": "2021-03-23T18:30:52.339927Z"
    }
   },
   "outputs": [],
   "source": [
    "df.to_csv(os.path.join(data_dir, f\"{today}.csv\"), index=False)"
   ]
  },
  {
   "cell_type": "code",
   "execution_count": null,
   "metadata": {},
   "outputs": [],
   "source": []
  }
 ],
 "metadata": {
  "kernelspec": {
   "display_name": "Python 3",
   "language": "python",
   "name": "python3"
  },
  "language_info": {
   "codemirror_mode": {
    "name": "ipython",
    "version": 3
   },
   "file_extension": ".py",
   "mimetype": "text/x-python",
   "name": "python",
   "nbconvert_exporter": "python",
   "pygments_lexer": "ipython3",
   "version": "3.8.8"
  }
 },
 "nbformat": 4,
 "nbformat_minor": 4
}
