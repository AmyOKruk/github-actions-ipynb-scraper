{
 "cells": [
  {
   "cell_type": "markdown",
   "metadata": {},
   "source": [
    "# California COVID vaccinations scrape"
   ]
  },
  {
   "cell_type": "markdown",
   "metadata": {},
   "source": [
    "By [Amy O'Kruk](https://twitter.com/amyokruk)"
   ]
  },
  {
   "cell_type": "markdown",
   "metadata": {},
   "source": [
    "Downloads data on vaccine doses administered by county and statewide from a Tableau-powered dashboard from the California Department of Public Health."
   ]
  },
  {
   "cell_type": "code",
   "execution_count": 1,
   "metadata": {
    "execution": {
     "iopub.execute_input": "2021-03-17T08:46:22.013691Z",
     "iopub.status.busy": "2021-03-17T08:46:22.013058Z",
     "iopub.status.idle": "2021-03-17T08:46:22.384148Z",
     "shell.execute_reply": "2021-03-17T08:46:22.383193Z"
    }
   },
   "outputs": [],
   "source": [
    "import pandas as pd\n",
    "import requests\n",
    "from bs4 import BeautifulSoup\n",
    "import json\n",
    "import re\n",
    "import time\n",
    "from time import gmtime, strftime \n",
    "import os\n",
    "import pytz\n",
    "from datetime import datetime"
   ]
  },
  {
   "cell_type": "markdown",
   "metadata": {},
   "source": [
    "Scrape the dashboard page"
   ]
  },
  {
   "cell_type": "code",
   "execution_count": 2,
   "metadata": {
    "execution": {
     "iopub.execute_input": "2021-03-17T08:46:22.389478Z",
     "iopub.status.busy": "2021-03-17T08:46:22.388633Z",
     "iopub.status.idle": "2021-03-17T08:46:22.968602Z",
     "shell.execute_reply": "2021-03-17T08:46:22.967635Z"
    }
   },
   "outputs": [],
   "source": [
    "url = \"https://public.tableau.com/interactive/views/COVID-19VaccineDashboardPublic/Vaccine?:embed=y&:showVizHome=n&:apiID=host0\"\n",
    "\n",
    "r = requests.get(url)\n",
    "soup = BeautifulSoup(r.text, \"html.parser\")"
   ]
  },
  {
   "cell_type": "code",
   "execution_count": 3,
   "metadata": {
    "execution": {
     "iopub.execute_input": "2021-03-17T08:46:22.973380Z",
     "iopub.status.busy": "2021-03-17T08:46:22.972856Z",
     "iopub.status.idle": "2021-03-17T08:46:22.976784Z",
     "shell.execute_reply": "2021-03-17T08:46:22.976162Z"
    }
   },
   "outputs": [],
   "source": [
    "tableauData = json.loads(soup.find(\"textarea\",{\"id\": \"tsConfigContainer\"}).text)"
   ]
  },
  {
   "cell_type": "markdown",
   "metadata": {},
   "source": [
    "Get the link to the Tableau data"
   ]
  },
  {
   "cell_type": "code",
   "execution_count": 4,
   "metadata": {
    "execution": {
     "iopub.execute_input": "2021-03-17T08:46:22.980153Z",
     "iopub.status.busy": "2021-03-17T08:46:22.979637Z",
     "iopub.status.idle": "2021-03-17T08:46:22.983069Z",
     "shell.execute_reply": "2021-03-17T08:46:22.982638Z"
    }
   },
   "outputs": [],
   "source": [
    "dataUrl = f'https://public.tableau.com{tableauData[\"vizql_root\"]}/bootstrapSession/sessions/{tableauData[\"sessionid\"]}'"
   ]
  },
  {
   "cell_type": "code",
   "execution_count": 5,
   "metadata": {
    "execution": {
     "iopub.execute_input": "2021-03-17T08:46:22.989486Z",
     "iopub.status.busy": "2021-03-17T08:46:22.988963Z",
     "iopub.status.idle": "2021-03-17T08:46:23.447490Z",
     "shell.execute_reply": "2021-03-17T08:46:23.446948Z"
    }
   },
   "outputs": [],
   "source": [
    "r = requests.post(dataUrl, data= {\n",
    "    \"sheet_id\": tableauData[\"sheetId\"],\n",
    "})\n",
    "\n",
    "dataReg = re.search('\\d+;({.*})\\d+;({.*})', r.text, re.MULTILINE)\n",
    "data1 = json.loads(dataReg.group(2))\n",
    "\n",
    "dataJson = data1[\"secondaryInfo\"][\"presModelMap\"][\"dataDictionary\"][\"presModelHolder\"][\"genDataDictionaryPresModel\"][\"dataSegments\"][\"0\"][\"dataColumns\"]"
   ]
  },
  {
   "cell_type": "markdown",
   "metadata": {},
   "source": [
    "Isolate what you want"
   ]
  },
  {
   "cell_type": "code",
   "execution_count": 6,
   "metadata": {
    "execution": {
     "iopub.execute_input": "2021-03-17T08:46:23.451563Z",
     "iopub.status.busy": "2021-03-17T08:46:23.451028Z",
     "iopub.status.idle": "2021-03-17T08:46:23.455097Z",
     "shell.execute_reply": "2021-03-17T08:46:23.454639Z"
    }
   },
   "outputs": [],
   "source": [
    "counties = dataJson[2]['dataValues'][:58]"
   ]
  },
  {
   "cell_type": "code",
   "execution_count": 7,
   "metadata": {
    "execution": {
     "iopub.execute_input": "2021-03-17T08:46:23.458716Z",
     "iopub.status.busy": "2021-03-17T08:46:23.458204Z",
     "iopub.status.idle": "2021-03-17T08:46:23.461134Z",
     "shell.execute_reply": "2021-03-17T08:46:23.461536Z"
    }
   },
   "outputs": [],
   "source": [
    "doses = dataJson[0]['dataValues'][3:61]"
   ]
  },
  {
   "cell_type": "markdown",
   "metadata": {},
   "source": [
    "Data formatting"
   ]
  },
  {
   "cell_type": "code",
   "execution_count": 8,
   "metadata": {
    "execution": {
     "iopub.execute_input": "2021-03-17T08:46:23.465014Z",
     "iopub.status.busy": "2021-03-17T08:46:23.464456Z",
     "iopub.status.idle": "2021-03-17T08:46:23.468014Z",
     "shell.execute_reply": "2021-03-17T08:46:23.467539Z"
    }
   },
   "outputs": [],
   "source": [
    "zipped = dict(zip(counties, doses))"
   ]
  },
  {
   "cell_type": "code",
   "execution_count": 9,
   "metadata": {
    "execution": {
     "iopub.execute_input": "2021-03-17T08:46:23.473666Z",
     "iopub.status.busy": "2021-03-17T08:46:23.473150Z",
     "iopub.status.idle": "2021-03-17T08:46:23.476734Z",
     "shell.execute_reply": "2021-03-17T08:46:23.476248Z"
    }
   },
   "outputs": [],
   "source": [
    "df = pd.Series(zipped).reset_index()"
   ]
  },
  {
   "cell_type": "code",
   "execution_count": 10,
   "metadata": {
    "execution": {
     "iopub.execute_input": "2021-03-17T08:46:23.480348Z",
     "iopub.status.busy": "2021-03-17T08:46:23.479810Z",
     "iopub.status.idle": "2021-03-17T08:46:23.485791Z",
     "shell.execute_reply": "2021-03-17T08:46:23.485264Z"
    }
   },
   "outputs": [],
   "source": [
    "df.columns = ['location','doses']"
   ]
  },
  {
   "cell_type": "markdown",
   "metadata": {},
   "source": [
    "Grab the overall California total"
   ]
  },
  {
   "cell_type": "code",
   "execution_count": 11,
   "metadata": {
    "execution": {
     "iopub.execute_input": "2021-03-17T08:46:23.489298Z",
     "iopub.status.busy": "2021-03-17T08:46:23.488778Z",
     "iopub.status.idle": "2021-03-17T08:46:23.492559Z",
     "shell.execute_reply": "2021-03-17T08:46:23.492106Z"
    }
   },
   "outputs": [],
   "source": [
    "add = {'location':'California','doses':dataJson[0]['dataValues'][2]}"
   ]
  },
  {
   "cell_type": "code",
   "execution_count": 12,
   "metadata": {
    "execution": {
     "iopub.execute_input": "2021-03-17T08:46:23.498536Z",
     "iopub.status.busy": "2021-03-17T08:46:23.498029Z",
     "iopub.status.idle": "2021-03-17T08:46:23.501458Z",
     "shell.execute_reply": "2021-03-17T08:46:23.501029Z"
    }
   },
   "outputs": [],
   "source": [
    "df = df.append(add, ignore_index=True)"
   ]
  },
  {
   "cell_type": "code",
   "execution_count": 13,
   "metadata": {
    "execution": {
     "iopub.execute_input": "2021-03-17T08:46:23.505559Z",
     "iopub.status.busy": "2021-03-17T08:46:23.505065Z",
     "iopub.status.idle": "2021-03-17T08:46:23.508362Z",
     "shell.execute_reply": "2021-03-17T08:46:23.507941Z"
    }
   },
   "outputs": [],
   "source": [
    "df = df.sort_values(by='location')"
   ]
  },
  {
   "cell_type": "code",
   "execution_count": 14,
   "metadata": {
    "execution": {
     "iopub.execute_input": "2021-03-17T08:46:23.513889Z",
     "iopub.status.busy": "2021-03-17T08:46:23.513378Z",
     "iopub.status.idle": "2021-03-17T08:46:23.516949Z",
     "shell.execute_reply": "2021-03-17T08:46:23.517351Z"
    }
   },
   "outputs": [],
   "source": [
    "df = df[df.location == 'California'].append(df[df.location != 'California']).reset_index(drop=True)"
   ]
  },
  {
   "cell_type": "code",
   "execution_count": null,
   "metadata": {},
   "outputs": [],
   "source": []
  },
  {
   "cell_type": "code",
   "execution_count": 15,
   "metadata": {
    "execution": {
     "iopub.execute_input": "2021-03-17T08:46:23.520849Z",
     "iopub.status.busy": "2021-03-17T08:46:23.520332Z",
     "iopub.status.idle": "2021-03-17T08:46:23.537688Z",
     "shell.execute_reply": "2021-03-17T08:46:23.537179Z"
    }
   },
   "outputs": [],
   "source": [
    "tz = pytz.timezone(\"America/New_York\")"
   ]
  },
  {
   "cell_type": "code",
   "execution_count": 16,
   "metadata": {
    "execution": {
     "iopub.execute_input": "2021-03-17T08:46:23.541987Z",
     "iopub.status.busy": "2021-03-17T08:46:23.540788Z",
     "iopub.status.idle": "2021-03-17T08:46:23.542595Z",
     "shell.execute_reply": "2021-03-17T08:46:23.543065Z"
    }
   },
   "outputs": [],
   "source": [
    "today = datetime.now(tz).date()"
   ]
  },
  {
   "cell_type": "code",
   "execution_count": 17,
   "metadata": {
    "execution": {
     "iopub.execute_input": "2021-03-17T08:46:23.547564Z",
     "iopub.status.busy": "2021-03-17T08:46:23.546306Z",
     "iopub.status.idle": "2021-03-17T08:46:23.548190Z",
     "shell.execute_reply": "2021-03-17T08:46:23.548652Z"
    }
   },
   "outputs": [],
   "source": [
    "data_dir = os.path.join(os.path.abspath(\"\"), \"data\")"
   ]
  },
  {
   "cell_type": "code",
   "execution_count": 18,
   "metadata": {
    "execution": {
     "iopub.execute_input": "2021-03-17T08:46:23.552460Z",
     "iopub.status.busy": "2021-03-17T08:46:23.551918Z",
     "iopub.status.idle": "2021-03-17T08:46:23.556430Z",
     "shell.execute_reply": "2021-03-17T08:46:23.555855Z"
    }
   },
   "outputs": [],
   "source": [
    "df.to_csv(os.path.join(data_dir, f\"{today}.csv\"), index=False)"
   ]
  },
  {
   "cell_type": "code",
   "execution_count": null,
   "metadata": {},
   "outputs": [],
   "source": []
  }
 ],
 "metadata": {
  "kernelspec": {
   "display_name": "Python 3",
   "language": "python",
   "name": "python3"
  },
  "language_info": {
   "codemirror_mode": {
    "name": "ipython",
    "version": 3
   },
   "file_extension": ".py",
   "mimetype": "text/x-python",
   "name": "python",
   "nbconvert_exporter": "python",
   "pygments_lexer": "ipython3",
   "version": "3.8.8"
  }
 },
 "nbformat": 4,
 "nbformat_minor": 4
}
