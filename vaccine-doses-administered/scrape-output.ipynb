{
 "cells": [
  {
   "cell_type": "markdown",
   "metadata": {},
   "source": [
    "# California COVID vaccinations scrape"
   ]
  },
  {
   "cell_type": "markdown",
   "metadata": {},
   "source": [
    "By [Amy O'Kruk](https://twitter.com/amyokruk)"
   ]
  },
  {
   "cell_type": "markdown",
   "metadata": {},
   "source": [
    "Downloads data on vaccine doses administered by county and statewide from a Tableau-powered dashboard from the California Department of Public Health."
   ]
  },
  {
   "cell_type": "code",
   "execution_count": 1,
   "metadata": {
    "execution": {
     "iopub.execute_input": "2021-03-19T11:39:57.822151Z",
     "iopub.status.busy": "2021-03-19T11:39:57.821464Z",
     "iopub.status.idle": "2021-03-19T11:39:58.245593Z",
     "shell.execute_reply": "2021-03-19T11:39:58.245051Z"
    }
   },
   "outputs": [],
   "source": [
    "import pandas as pd\n",
    "import requests\n",
    "from bs4 import BeautifulSoup\n",
    "import json\n",
    "import re\n",
    "import time\n",
    "from time import gmtime, strftime \n",
    "import os\n",
    "import pytz\n",
    "from datetime import datetime"
   ]
  },
  {
   "cell_type": "markdown",
   "metadata": {},
   "source": [
    "Scrape the dashboard page"
   ]
  },
  {
   "cell_type": "code",
   "execution_count": 2,
   "metadata": {
    "execution": {
     "iopub.execute_input": "2021-03-19T11:39:58.251501Z",
     "iopub.status.busy": "2021-03-19T11:39:58.248760Z",
     "iopub.status.idle": "2021-03-19T11:39:58.644640Z",
     "shell.execute_reply": "2021-03-19T11:39:58.643767Z"
    }
   },
   "outputs": [],
   "source": [
    "url = \"https://public.tableau.com/interactive/views/COVID-19VaccineDashboardPublic/Vaccine?:embed=y&:showVizHome=n&:apiID=host0\"\n",
    "\n",
    "r = requests.get(url)\n",
    "soup = BeautifulSoup(r.text, \"html.parser\")"
   ]
  },
  {
   "cell_type": "code",
   "execution_count": 3,
   "metadata": {
    "execution": {
     "iopub.execute_input": "2021-03-19T11:39:58.649241Z",
     "iopub.status.busy": "2021-03-19T11:39:58.648735Z",
     "iopub.status.idle": "2021-03-19T11:39:58.652003Z",
     "shell.execute_reply": "2021-03-19T11:39:58.652419Z"
    }
   },
   "outputs": [],
   "source": [
    "tableauData = json.loads(soup.find(\"textarea\",{\"id\": \"tsConfigContainer\"}).text)"
   ]
  },
  {
   "cell_type": "markdown",
   "metadata": {},
   "source": [
    "Get the link to the Tableau data"
   ]
  },
  {
   "cell_type": "code",
   "execution_count": 4,
   "metadata": {
    "execution": {
     "iopub.execute_input": "2021-03-19T11:39:58.655873Z",
     "iopub.status.busy": "2021-03-19T11:39:58.655403Z",
     "iopub.status.idle": "2021-03-19T11:39:58.658939Z",
     "shell.execute_reply": "2021-03-19T11:39:58.658458Z"
    }
   },
   "outputs": [],
   "source": [
    "dataUrl = f'https://public.tableau.com{tableauData[\"vizql_root\"]}/bootstrapSession/sessions/{tableauData[\"sessionid\"]}'"
   ]
  },
  {
   "cell_type": "code",
   "execution_count": 5,
   "metadata": {
    "execution": {
     "iopub.execute_input": "2021-03-19T11:39:58.665216Z",
     "iopub.status.busy": "2021-03-19T11:39:58.664742Z",
     "iopub.status.idle": "2021-03-19T11:39:58.945651Z",
     "shell.execute_reply": "2021-03-19T11:39:58.944842Z"
    }
   },
   "outputs": [],
   "source": [
    "r = requests.post(dataUrl, data= {\n",
    "    \"sheet_id\": tableauData[\"sheetId\"],\n",
    "})\n",
    "\n",
    "dataReg = re.search('\\d+;({.*})\\d+;({.*})', r.text, re.MULTILINE)\n",
    "data1 = json.loads(dataReg.group(2))\n",
    "\n",
    "dataJson = data1[\"secondaryInfo\"][\"presModelMap\"][\"dataDictionary\"][\"presModelHolder\"][\"genDataDictionaryPresModel\"][\"dataSegments\"][\"0\"][\"dataColumns\"]"
   ]
  },
  {
   "cell_type": "markdown",
   "metadata": {},
   "source": [
    "Isolate what you want"
   ]
  },
  {
   "cell_type": "code",
   "execution_count": 6,
   "metadata": {
    "execution": {
     "iopub.execute_input": "2021-03-19T11:39:58.949205Z",
     "iopub.status.busy": "2021-03-19T11:39:58.948703Z",
     "iopub.status.idle": "2021-03-19T11:39:58.952409Z",
     "shell.execute_reply": "2021-03-19T11:39:58.951922Z"
    }
   },
   "outputs": [],
   "source": [
    "counties = dataJson[2]['dataValues'][:58]"
   ]
  },
  {
   "cell_type": "code",
   "execution_count": 7,
   "metadata": {
    "execution": {
     "iopub.execute_input": "2021-03-19T11:39:58.956516Z",
     "iopub.status.busy": "2021-03-19T11:39:58.955973Z",
     "iopub.status.idle": "2021-03-19T11:39:58.959259Z",
     "shell.execute_reply": "2021-03-19T11:39:58.959890Z"
    }
   },
   "outputs": [],
   "source": [
    "doses = dataJson[0]['dataValues'][3:61]"
   ]
  },
  {
   "cell_type": "markdown",
   "metadata": {},
   "source": [
    "Data formatting"
   ]
  },
  {
   "cell_type": "code",
   "execution_count": 8,
   "metadata": {
    "execution": {
     "iopub.execute_input": "2021-03-19T11:39:58.963734Z",
     "iopub.status.busy": "2021-03-19T11:39:58.963112Z",
     "iopub.status.idle": "2021-03-19T11:39:58.967028Z",
     "shell.execute_reply": "2021-03-19T11:39:58.966603Z"
    }
   },
   "outputs": [],
   "source": [
    "zipped = dict(zip(counties, doses))"
   ]
  },
  {
   "cell_type": "code",
   "execution_count": 9,
   "metadata": {
    "execution": {
     "iopub.execute_input": "2021-03-19T11:39:58.972648Z",
     "iopub.status.busy": "2021-03-19T11:39:58.972053Z",
     "iopub.status.idle": "2021-03-19T11:39:58.974146Z",
     "shell.execute_reply": "2021-03-19T11:39:58.974551Z"
    }
   },
   "outputs": [],
   "source": [
    "df = pd.Series(zipped).reset_index()"
   ]
  },
  {
   "cell_type": "code",
   "execution_count": 10,
   "metadata": {
    "execution": {
     "iopub.execute_input": "2021-03-19T11:39:58.980871Z",
     "iopub.status.busy": "2021-03-19T11:39:58.980394Z",
     "iopub.status.idle": "2021-03-19T11:39:58.983942Z",
     "shell.execute_reply": "2021-03-19T11:39:58.984321Z"
    }
   },
   "outputs": [],
   "source": [
    "df.columns = ['location','doses']"
   ]
  },
  {
   "cell_type": "markdown",
   "metadata": {},
   "source": [
    "Grab the overall California total"
   ]
  },
  {
   "cell_type": "code",
   "execution_count": 11,
   "metadata": {
    "execution": {
     "iopub.execute_input": "2021-03-19T11:39:58.987679Z",
     "iopub.status.busy": "2021-03-19T11:39:58.987195Z",
     "iopub.status.idle": "2021-03-19T11:39:58.990235Z",
     "shell.execute_reply": "2021-03-19T11:39:58.990740Z"
    }
   },
   "outputs": [],
   "source": [
    "add = {'location':'California','doses':dataJson[0]['dataValues'][2]}"
   ]
  },
  {
   "cell_type": "code",
   "execution_count": 12,
   "metadata": {
    "execution": {
     "iopub.execute_input": "2021-03-19T11:39:58.998270Z",
     "iopub.status.busy": "2021-03-19T11:39:58.997310Z",
     "iopub.status.idle": "2021-03-19T11:39:58.999225Z",
     "shell.execute_reply": "2021-03-19T11:39:58.999687Z"
    }
   },
   "outputs": [],
   "source": [
    "df = df.append(add, ignore_index=True)"
   ]
  },
  {
   "cell_type": "code",
   "execution_count": 13,
   "metadata": {
    "execution": {
     "iopub.execute_input": "2021-03-19T11:39:59.005127Z",
     "iopub.status.busy": "2021-03-19T11:39:59.003889Z",
     "iopub.status.idle": "2021-03-19T11:39:59.005733Z",
     "shell.execute_reply": "2021-03-19T11:39:59.006195Z"
    }
   },
   "outputs": [],
   "source": [
    "df = df.sort_values(by='location')"
   ]
  },
  {
   "cell_type": "code",
   "execution_count": 14,
   "metadata": {
    "execution": {
     "iopub.execute_input": "2021-03-19T11:39:59.013013Z",
     "iopub.status.busy": "2021-03-19T11:39:59.011751Z",
     "iopub.status.idle": "2021-03-19T11:39:59.013672Z",
     "shell.execute_reply": "2021-03-19T11:39:59.014113Z"
    }
   },
   "outputs": [],
   "source": [
    "df = df[df.location == 'California'].append(df[df.location != 'California']).reset_index(drop=True)"
   ]
  },
  {
   "cell_type": "code",
   "execution_count": null,
   "metadata": {},
   "outputs": [],
   "source": []
  },
  {
   "cell_type": "code",
   "execution_count": 15,
   "metadata": {
    "execution": {
     "iopub.execute_input": "2021-03-19T11:39:59.018260Z",
     "iopub.status.busy": "2021-03-19T11:39:59.017751Z",
     "iopub.status.idle": "2021-03-19T11:39:59.034902Z",
     "shell.execute_reply": "2021-03-19T11:39:59.035299Z"
    }
   },
   "outputs": [],
   "source": [
    "tz = pytz.timezone(\"America/New_York\")"
   ]
  },
  {
   "cell_type": "code",
   "execution_count": 16,
   "metadata": {
    "execution": {
     "iopub.execute_input": "2021-03-19T11:39:59.039847Z",
     "iopub.status.busy": "2021-03-19T11:39:59.038563Z",
     "iopub.status.idle": "2021-03-19T11:39:59.040419Z",
     "shell.execute_reply": "2021-03-19T11:39:59.040860Z"
    }
   },
   "outputs": [],
   "source": [
    "today = datetime.now(tz).date()"
   ]
  },
  {
   "cell_type": "code",
   "execution_count": 17,
   "metadata": {
    "execution": {
     "iopub.execute_input": "2021-03-19T11:39:59.045350Z",
     "iopub.status.busy": "2021-03-19T11:39:59.044116Z",
     "iopub.status.idle": "2021-03-19T11:39:59.046022Z",
     "shell.execute_reply": "2021-03-19T11:39:59.046533Z"
    }
   },
   "outputs": [],
   "source": [
    "data_dir = os.path.join(os.path.abspath(\"\"), \"data\")"
   ]
  },
  {
   "cell_type": "code",
   "execution_count": 18,
   "metadata": {
    "execution": {
     "iopub.execute_input": "2021-03-19T11:39:59.050765Z",
     "iopub.status.busy": "2021-03-19T11:39:59.050098Z",
     "iopub.status.idle": "2021-03-19T11:39:59.057044Z",
     "shell.execute_reply": "2021-03-19T11:39:59.056436Z"
    }
   },
   "outputs": [],
   "source": [
    "df.to_csv(os.path.join(data_dir, f\"{today}.csv\"), index=False)"
   ]
  },
  {
   "cell_type": "code",
   "execution_count": null,
   "metadata": {},
   "outputs": [],
   "source": []
  }
 ],
 "metadata": {
  "kernelspec": {
   "display_name": "Python 3",
   "language": "python",
   "name": "python3"
  },
  "language_info": {
   "codemirror_mode": {
    "name": "ipython",
    "version": 3
   },
   "file_extension": ".py",
   "mimetype": "text/x-python",
   "name": "python",
   "nbconvert_exporter": "python",
   "pygments_lexer": "ipython3",
   "version": "3.8.8"
  }
 },
 "nbformat": 4,
 "nbformat_minor": 4
}
