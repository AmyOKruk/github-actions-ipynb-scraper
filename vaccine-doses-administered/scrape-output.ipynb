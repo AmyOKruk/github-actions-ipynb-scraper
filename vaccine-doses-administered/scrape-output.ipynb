{
 "cells": [
  {
   "cell_type": "markdown",
   "metadata": {},
   "source": [
    "# California COVID vaccinations scrape"
   ]
  },
  {
   "cell_type": "markdown",
   "metadata": {},
   "source": [
    "By [Amy O'Kruk](https://twitter.com/amyokruk)"
   ]
  },
  {
   "cell_type": "markdown",
   "metadata": {},
   "source": [
    "Downloads data on vaccine doses administered by county and statewide from a Tableau-powered dashboard from the California Department of Public Health."
   ]
  },
  {
   "cell_type": "code",
   "execution_count": 1,
   "metadata": {
    "execution": {
     "iopub.execute_input": "2021-03-15T12:53:38.021637Z",
     "iopub.status.busy": "2021-03-15T12:53:38.021015Z",
     "iopub.status.idle": "2021-03-15T12:53:38.433699Z",
     "shell.execute_reply": "2021-03-15T12:53:38.432757Z"
    }
   },
   "outputs": [],
   "source": [
    "import pandas as pd\n",
    "import requests\n",
    "from bs4 import BeautifulSoup\n",
    "import json\n",
    "import re\n",
    "import time\n",
    "from time import gmtime, strftime \n",
    "import os\n",
    "import pytz\n",
    "from datetime import datetime"
   ]
  },
  {
   "cell_type": "markdown",
   "metadata": {},
   "source": [
    "Scrape the dashboard page"
   ]
  },
  {
   "cell_type": "code",
   "execution_count": 2,
   "metadata": {
    "execution": {
     "iopub.execute_input": "2021-03-15T12:53:38.438997Z",
     "iopub.status.busy": "2021-03-15T12:53:38.438180Z",
     "iopub.status.idle": "2021-03-15T12:53:38.862319Z",
     "shell.execute_reply": "2021-03-15T12:53:38.861475Z"
    }
   },
   "outputs": [],
   "source": [
    "url = \"https://public.tableau.com/interactive/views/COVID-19VaccineDashboardPublic/Vaccine?:embed=y&:showVizHome=n&:apiID=host0\"\n",
    "\n",
    "r = requests.get(url)\n",
    "soup = BeautifulSoup(r.text, \"html.parser\")"
   ]
  },
  {
   "cell_type": "code",
   "execution_count": 3,
   "metadata": {
    "execution": {
     "iopub.execute_input": "2021-03-15T12:53:38.868210Z",
     "iopub.status.busy": "2021-03-15T12:53:38.866949Z",
     "iopub.status.idle": "2021-03-15T12:53:38.868808Z",
     "shell.execute_reply": "2021-03-15T12:53:38.869238Z"
    }
   },
   "outputs": [],
   "source": [
    "tableauData = json.loads(soup.find(\"textarea\",{\"id\": \"tsConfigContainer\"}).text)"
   ]
  },
  {
   "cell_type": "markdown",
   "metadata": {},
   "source": [
    "Get the link to the Tableau data"
   ]
  },
  {
   "cell_type": "code",
   "execution_count": 4,
   "metadata": {
    "execution": {
     "iopub.execute_input": "2021-03-15T12:53:38.873488Z",
     "iopub.status.busy": "2021-03-15T12:53:38.872354Z",
     "iopub.status.idle": "2021-03-15T12:53:38.874148Z",
     "shell.execute_reply": "2021-03-15T12:53:38.874558Z"
    }
   },
   "outputs": [],
   "source": [
    "dataUrl = f'https://public.tableau.com{tableauData[\"vizql_root\"]}/bootstrapSession/sessions/{tableauData[\"sessionid\"]}'"
   ]
  },
  {
   "cell_type": "code",
   "execution_count": 5,
   "metadata": {
    "execution": {
     "iopub.execute_input": "2021-03-15T12:53:38.882264Z",
     "iopub.status.busy": "2021-03-15T12:53:38.881704Z",
     "iopub.status.idle": "2021-03-15T12:53:39.115259Z",
     "shell.execute_reply": "2021-03-15T12:53:39.114417Z"
    }
   },
   "outputs": [],
   "source": [
    "r = requests.post(dataUrl, data= {\n",
    "    \"sheet_id\": tableauData[\"sheetId\"],\n",
    "})\n",
    "\n",
    "dataReg = re.search('\\d+;({.*})\\d+;({.*})', r.text, re.MULTILINE)\n",
    "data1 = json.loads(dataReg.group(2))\n",
    "\n",
    "dataJson = data1[\"secondaryInfo\"][\"presModelMap\"][\"dataDictionary\"][\"presModelHolder\"][\"genDataDictionaryPresModel\"][\"dataSegments\"][\"0\"][\"dataColumns\"]"
   ]
  },
  {
   "cell_type": "markdown",
   "metadata": {},
   "source": [
    "Isolate what you want"
   ]
  },
  {
   "cell_type": "code",
   "execution_count": 6,
   "metadata": {
    "execution": {
     "iopub.execute_input": "2021-03-15T12:53:39.120587Z",
     "iopub.status.busy": "2021-03-15T12:53:39.119504Z",
     "iopub.status.idle": "2021-03-15T12:53:39.121172Z",
     "shell.execute_reply": "2021-03-15T12:53:39.121596Z"
    }
   },
   "outputs": [],
   "source": [
    "counties = dataJson[2]['dataValues'][:58]"
   ]
  },
  {
   "cell_type": "code",
   "execution_count": 7,
   "metadata": {
    "execution": {
     "iopub.execute_input": "2021-03-15T12:53:39.126131Z",
     "iopub.status.busy": "2021-03-15T12:53:39.124877Z",
     "iopub.status.idle": "2021-03-15T12:53:39.126791Z",
     "shell.execute_reply": "2021-03-15T12:53:39.127222Z"
    }
   },
   "outputs": [],
   "source": [
    "doses = dataJson[0]['dataValues'][3:61]"
   ]
  },
  {
   "cell_type": "markdown",
   "metadata": {},
   "source": [
    "Data formatting"
   ]
  },
  {
   "cell_type": "code",
   "execution_count": 8,
   "metadata": {
    "execution": {
     "iopub.execute_input": "2021-03-15T12:53:39.131998Z",
     "iopub.status.busy": "2021-03-15T12:53:39.130792Z",
     "iopub.status.idle": "2021-03-15T12:53:39.132581Z",
     "shell.execute_reply": "2021-03-15T12:53:39.133008Z"
    }
   },
   "outputs": [],
   "source": [
    "zipped = dict(zip(counties, doses))"
   ]
  },
  {
   "cell_type": "code",
   "execution_count": 9,
   "metadata": {
    "execution": {
     "iopub.execute_input": "2021-03-15T12:53:39.139484Z",
     "iopub.status.busy": "2021-03-15T12:53:39.138269Z",
     "iopub.status.idle": "2021-03-15T12:53:39.140077Z",
     "shell.execute_reply": "2021-03-15T12:53:39.140508Z"
    }
   },
   "outputs": [],
   "source": [
    "df = pd.Series(zipped).reset_index()"
   ]
  },
  {
   "cell_type": "code",
   "execution_count": 10,
   "metadata": {
    "execution": {
     "iopub.execute_input": "2021-03-15T12:53:39.144897Z",
     "iopub.status.busy": "2021-03-15T12:53:39.143737Z",
     "iopub.status.idle": "2021-03-15T12:53:39.145500Z",
     "shell.execute_reply": "2021-03-15T12:53:39.145928Z"
    }
   },
   "outputs": [],
   "source": [
    "df.columns = ['location','doses']"
   ]
  },
  {
   "cell_type": "markdown",
   "metadata": {},
   "source": [
    "Grab the overall California total"
   ]
  },
  {
   "cell_type": "code",
   "execution_count": 11,
   "metadata": {
    "execution": {
     "iopub.execute_input": "2021-03-15T12:53:39.150111Z",
     "iopub.status.busy": "2021-03-15T12:53:39.149012Z",
     "iopub.status.idle": "2021-03-15T12:53:39.150822Z",
     "shell.execute_reply": "2021-03-15T12:53:39.151254Z"
    }
   },
   "outputs": [],
   "source": [
    "add = {'location':'California','doses':dataJson[0]['dataValues'][2]}"
   ]
  },
  {
   "cell_type": "code",
   "execution_count": 12,
   "metadata": {
    "execution": {
     "iopub.execute_input": "2021-03-15T12:53:39.158718Z",
     "iopub.status.busy": "2021-03-15T12:53:39.157465Z",
     "iopub.status.idle": "2021-03-15T12:53:39.159333Z",
     "shell.execute_reply": "2021-03-15T12:53:39.159762Z"
    }
   },
   "outputs": [],
   "source": [
    "df = df.append(add, ignore_index=True)"
   ]
  },
  {
   "cell_type": "code",
   "execution_count": 13,
   "metadata": {
    "execution": {
     "iopub.execute_input": "2021-03-15T12:53:39.164602Z",
     "iopub.status.busy": "2021-03-15T12:53:39.163454Z",
     "iopub.status.idle": "2021-03-15T12:53:39.165221Z",
     "shell.execute_reply": "2021-03-15T12:53:39.165655Z"
    }
   },
   "outputs": [],
   "source": [
    "df = df.sort_values(by='location')"
   ]
  },
  {
   "cell_type": "code",
   "execution_count": 14,
   "metadata": {
    "execution": {
     "iopub.execute_input": "2021-03-15T12:53:39.171890Z",
     "iopub.status.busy": "2021-03-15T12:53:39.170875Z",
     "iopub.status.idle": "2021-03-15T12:53:39.172710Z",
     "shell.execute_reply": "2021-03-15T12:53:39.173148Z"
    }
   },
   "outputs": [],
   "source": [
    "df = df[df.location == 'California'].append(df[df.location != 'California']).reset_index(drop=True)"
   ]
  },
  {
   "cell_type": "code",
   "execution_count": null,
   "metadata": {},
   "outputs": [],
   "source": []
  },
  {
   "cell_type": "code",
   "execution_count": 15,
   "metadata": {
    "execution": {
     "iopub.execute_input": "2021-03-15T12:53:39.176656Z",
     "iopub.status.busy": "2021-03-15T12:53:39.176139Z",
     "iopub.status.idle": "2021-03-15T12:53:39.194308Z",
     "shell.execute_reply": "2021-03-15T12:53:39.193670Z"
    }
   },
   "outputs": [],
   "source": [
    "tz = pytz.timezone(\"America/New_York\")"
   ]
  },
  {
   "cell_type": "code",
   "execution_count": 16,
   "metadata": {
    "execution": {
     "iopub.execute_input": "2021-03-15T12:53:39.198762Z",
     "iopub.status.busy": "2021-03-15T12:53:39.197438Z",
     "iopub.status.idle": "2021-03-15T12:53:39.199399Z",
     "shell.execute_reply": "2021-03-15T12:53:39.199852Z"
    }
   },
   "outputs": [],
   "source": [
    "today = datetime.now(tz).date()"
   ]
  },
  {
   "cell_type": "code",
   "execution_count": 17,
   "metadata": {
    "execution": {
     "iopub.execute_input": "2021-03-15T12:53:39.204240Z",
     "iopub.status.busy": "2021-03-15T12:53:39.203013Z",
     "iopub.status.idle": "2021-03-15T12:53:39.204839Z",
     "shell.execute_reply": "2021-03-15T12:53:39.205263Z"
    }
   },
   "outputs": [],
   "source": [
    "data_dir = os.path.join(os.path.abspath(\"\"), \"data\")"
   ]
  },
  {
   "cell_type": "code",
   "execution_count": 18,
   "metadata": {
    "execution": {
     "iopub.execute_input": "2021-03-15T12:53:39.209508Z",
     "iopub.status.busy": "2021-03-15T12:53:39.208976Z",
     "iopub.status.idle": "2021-03-15T12:53:39.213304Z",
     "shell.execute_reply": "2021-03-15T12:53:39.212861Z"
    }
   },
   "outputs": [],
   "source": [
    "df.to_csv(os.path.join(data_dir, f\"{today}.csv\"), index=False)"
   ]
  },
  {
   "cell_type": "code",
   "execution_count": null,
   "metadata": {},
   "outputs": [],
   "source": []
  }
 ],
 "metadata": {
  "kernelspec": {
   "display_name": "Python 3",
   "language": "python",
   "name": "python3"
  },
  "language_info": {
   "codemirror_mode": {
    "name": "ipython",
    "version": 3
   },
   "file_extension": ".py",
   "mimetype": "text/x-python",
   "name": "python",
   "nbconvert_exporter": "python",
   "pygments_lexer": "ipython3",
   "version": "3.8.8"
  }
 },
 "nbformat": 4,
 "nbformat_minor": 4
}
