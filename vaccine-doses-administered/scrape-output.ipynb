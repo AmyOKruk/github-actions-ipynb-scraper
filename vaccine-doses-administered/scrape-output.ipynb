{
 "cells": [
  {
   "cell_type": "markdown",
   "metadata": {},
   "source": [
    "# California COVID vaccinations scrape"
   ]
  },
  {
   "cell_type": "markdown",
   "metadata": {},
   "source": [
    "By [Amy O'Kruk](https://twitter.com/amyokruk)"
   ]
  },
  {
   "cell_type": "markdown",
   "metadata": {},
   "source": [
    "Downloads data on vaccine doses administered by county and statewide from a Tableau-powered dashboard from the California Department of Public Health."
   ]
  },
  {
   "cell_type": "code",
   "execution_count": 1,
   "metadata": {
    "execution": {
     "iopub.execute_input": "2021-03-11T21:41:35.946996Z",
     "iopub.status.busy": "2021-03-11T21:41:35.946275Z",
     "iopub.status.idle": "2021-03-11T21:41:36.867411Z",
     "shell.execute_reply": "2021-03-11T21:41:36.866768Z"
    }
   },
   "outputs": [],
   "source": [
    "import pandas as pd\n",
    "import requests\n",
    "from bs4 import BeautifulSoup\n",
    "import json\n",
    "import re\n",
    "import time\n",
    "from time import gmtime, strftime \n",
    "import os\n",
    "import pytz\n",
    "from datetime import datetime"
   ]
  },
  {
   "cell_type": "markdown",
   "metadata": {},
   "source": [
    "Scrape the dashboard page"
   ]
  },
  {
   "cell_type": "code",
   "execution_count": 2,
   "metadata": {
    "execution": {
     "iopub.execute_input": "2021-03-11T21:41:36.875819Z",
     "iopub.status.busy": "2021-03-11T21:41:36.875202Z",
     "iopub.status.idle": "2021-03-11T21:41:37.612679Z",
     "shell.execute_reply": "2021-03-11T21:41:37.613223Z"
    }
   },
   "outputs": [],
   "source": [
    "url = \"https://public.tableau.com/interactive/views/COVID-19VaccineDashboardPublic/Vaccine?:embed=y&:showVizHome=n&:apiID=host0\"\n",
    "\n",
    "r = requests.get(url)\n",
    "soup = BeautifulSoup(r.text, \"html.parser\")"
   ]
  },
  {
   "cell_type": "code",
   "execution_count": 3,
   "metadata": {
    "execution": {
     "iopub.execute_input": "2021-03-11T21:41:37.618642Z",
     "iopub.status.busy": "2021-03-11T21:41:37.617969Z",
     "iopub.status.idle": "2021-03-11T21:41:37.621359Z",
     "shell.execute_reply": "2021-03-11T21:41:37.621880Z"
    }
   },
   "outputs": [],
   "source": [
    "tableauData = json.loads(soup.find(\"textarea\",{\"id\": \"tsConfigContainer\"}).text)"
   ]
  },
  {
   "cell_type": "markdown",
   "metadata": {},
   "source": [
    "Get the link to the Tableau data"
   ]
  },
  {
   "cell_type": "code",
   "execution_count": 4,
   "metadata": {
    "execution": {
     "iopub.execute_input": "2021-03-11T21:41:37.627281Z",
     "iopub.status.busy": "2021-03-11T21:41:37.625712Z",
     "iopub.status.idle": "2021-03-11T21:41:37.627940Z",
     "shell.execute_reply": "2021-03-11T21:41:37.628414Z"
    }
   },
   "outputs": [],
   "source": [
    "dataUrl = f'https://public.tableau.com{tableauData[\"vizql_root\"]}/bootstrapSession/sessions/{tableauData[\"sessionid\"]}'"
   ]
  },
  {
   "cell_type": "code",
   "execution_count": 5,
   "metadata": {
    "execution": {
     "iopub.execute_input": "2021-03-11T21:41:37.636586Z",
     "iopub.status.busy": "2021-03-11T21:41:37.636017Z",
     "iopub.status.idle": "2021-03-11T21:41:37.920672Z",
     "shell.execute_reply": "2021-03-11T21:41:37.921241Z"
    }
   },
   "outputs": [],
   "source": [
    "r = requests.post(dataUrl, data= {\n",
    "    \"sheet_id\": tableauData[\"sheetId\"],\n",
    "})\n",
    "\n",
    "dataReg = re.search('\\d+;({.*})\\d+;({.*})', r.text, re.MULTILINE)\n",
    "data1 = json.loads(dataReg.group(2))\n",
    "\n",
    "dataJson = data1[\"secondaryInfo\"][\"presModelMap\"][\"dataDictionary\"][\"presModelHolder\"][\"genDataDictionaryPresModel\"][\"dataSegments\"][\"0\"][\"dataColumns\"]"
   ]
  },
  {
   "cell_type": "markdown",
   "metadata": {},
   "source": [
    "Isolate what you want"
   ]
  },
  {
   "cell_type": "code",
   "execution_count": 6,
   "metadata": {
    "execution": {
     "iopub.execute_input": "2021-03-11T21:41:37.926824Z",
     "iopub.status.busy": "2021-03-11T21:41:37.925298Z",
     "iopub.status.idle": "2021-03-11T21:41:37.927522Z",
     "shell.execute_reply": "2021-03-11T21:41:37.928028Z"
    }
   },
   "outputs": [],
   "source": [
    "counties = dataJson[2]['dataValues'][:58]"
   ]
  },
  {
   "cell_type": "code",
   "execution_count": 7,
   "metadata": {
    "execution": {
     "iopub.execute_input": "2021-03-11T21:41:37.933365Z",
     "iopub.status.busy": "2021-03-11T21:41:37.931520Z",
     "iopub.status.idle": "2021-03-11T21:41:37.934054Z",
     "shell.execute_reply": "2021-03-11T21:41:37.934968Z"
    }
   },
   "outputs": [],
   "source": [
    "doses = dataJson[0]['dataValues'][3:61]"
   ]
  },
  {
   "cell_type": "markdown",
   "metadata": {},
   "source": [
    "Data formatting"
   ]
  },
  {
   "cell_type": "code",
   "execution_count": 8,
   "metadata": {
    "execution": {
     "iopub.execute_input": "2021-03-11T21:41:37.939942Z",
     "iopub.status.busy": "2021-03-11T21:41:37.938517Z",
     "iopub.status.idle": "2021-03-11T21:41:37.940718Z",
     "shell.execute_reply": "2021-03-11T21:41:37.941231Z"
    }
   },
   "outputs": [],
   "source": [
    "zipped = dict(zip(counties, doses))"
   ]
  },
  {
   "cell_type": "code",
   "execution_count": 9,
   "metadata": {
    "execution": {
     "iopub.execute_input": "2021-03-11T21:41:37.948615Z",
     "iopub.status.busy": "2021-03-11T21:41:37.947501Z",
     "iopub.status.idle": "2021-03-11T21:41:37.950369Z",
     "shell.execute_reply": "2021-03-11T21:41:37.949825Z"
    }
   },
   "outputs": [],
   "source": [
    "df = pd.Series(zipped).reset_index()"
   ]
  },
  {
   "cell_type": "code",
   "execution_count": 10,
   "metadata": {
    "execution": {
     "iopub.execute_input": "2021-03-11T21:41:37.955591Z",
     "iopub.status.busy": "2021-03-11T21:41:37.954641Z",
     "iopub.status.idle": "2021-03-11T21:41:37.957762Z",
     "shell.execute_reply": "2021-03-11T21:41:37.957228Z"
    }
   },
   "outputs": [],
   "source": [
    "df.columns = ['location','doses']"
   ]
  },
  {
   "cell_type": "markdown",
   "metadata": {},
   "source": [
    "Grab the overall California total"
   ]
  },
  {
   "cell_type": "code",
   "execution_count": 11,
   "metadata": {
    "execution": {
     "iopub.execute_input": "2021-03-11T21:41:37.962586Z",
     "iopub.status.busy": "2021-03-11T21:41:37.961476Z",
     "iopub.status.idle": "2021-03-11T21:41:37.963715Z",
     "shell.execute_reply": "2021-03-11T21:41:37.964225Z"
    }
   },
   "outputs": [],
   "source": [
    "add = {'location':'California','doses':dataJson[0]['dataValues'][2]}"
   ]
  },
  {
   "cell_type": "code",
   "execution_count": 12,
   "metadata": {
    "execution": {
     "iopub.execute_input": "2021-03-11T21:41:37.973536Z",
     "iopub.status.busy": "2021-03-11T21:41:37.972116Z",
     "iopub.status.idle": "2021-03-11T21:41:37.974243Z",
     "shell.execute_reply": "2021-03-11T21:41:37.974760Z"
    }
   },
   "outputs": [],
   "source": [
    "df = df.append(add, ignore_index=True)"
   ]
  },
  {
   "cell_type": "code",
   "execution_count": 13,
   "metadata": {
    "execution": {
     "iopub.execute_input": "2021-03-11T21:41:37.980999Z",
     "iopub.status.busy": "2021-03-11T21:41:37.979598Z",
     "iopub.status.idle": "2021-03-11T21:41:37.981670Z",
     "shell.execute_reply": "2021-03-11T21:41:37.982181Z"
    }
   },
   "outputs": [],
   "source": [
    "df = df.sort_values(by='location')"
   ]
  },
  {
   "cell_type": "code",
   "execution_count": 14,
   "metadata": {
    "execution": {
     "iopub.execute_input": "2021-03-11T21:41:37.990156Z",
     "iopub.status.busy": "2021-03-11T21:41:37.988721Z",
     "iopub.status.idle": "2021-03-11T21:41:37.990850Z",
     "shell.execute_reply": "2021-03-11T21:41:37.991356Z"
    }
   },
   "outputs": [],
   "source": [
    "df = df[df.location == 'California'].append(df[df.location != 'California']).reset_index(drop=True)"
   ]
  },
  {
   "cell_type": "code",
   "execution_count": null,
   "metadata": {},
   "outputs": [],
   "source": []
  },
  {
   "cell_type": "code",
   "execution_count": 15,
   "metadata": {
    "execution": {
     "iopub.execute_input": "2021-03-11T21:41:37.995331Z",
     "iopub.status.busy": "2021-03-11T21:41:37.994720Z",
     "iopub.status.idle": "2021-03-11T21:41:38.020557Z",
     "shell.execute_reply": "2021-03-11T21:41:38.019912Z"
    }
   },
   "outputs": [],
   "source": [
    "tz = pytz.timezone(\"America/New_York\")"
   ]
  },
  {
   "cell_type": "code",
   "execution_count": 16,
   "metadata": {
    "execution": {
     "iopub.execute_input": "2021-03-11T21:41:38.029742Z",
     "iopub.status.busy": "2021-03-11T21:41:38.028290Z",
     "iopub.status.idle": "2021-03-11T21:41:38.030476Z",
     "shell.execute_reply": "2021-03-11T21:41:38.030982Z"
    }
   },
   "outputs": [],
   "source": [
    "today = datetime.now(tz).date()"
   ]
  },
  {
   "cell_type": "code",
   "execution_count": 17,
   "metadata": {
    "execution": {
     "iopub.execute_input": "2021-03-11T21:41:38.035969Z",
     "iopub.status.busy": "2021-03-11T21:41:38.034658Z",
     "iopub.status.idle": "2021-03-11T21:41:38.036634Z",
     "shell.execute_reply": "2021-03-11T21:41:38.037135Z"
    }
   },
   "outputs": [],
   "source": [
    "data_dir = os.path.join(os.path.abspath(\"\"), \"data\")"
   ]
  },
  {
   "cell_type": "code",
   "execution_count": 18,
   "metadata": {
    "execution": {
     "iopub.execute_input": "2021-03-11T21:41:38.042373Z",
     "iopub.status.busy": "2021-03-11T21:41:38.041733Z",
     "iopub.status.idle": "2021-03-11T21:41:38.047826Z",
     "shell.execute_reply": "2021-03-11T21:41:38.050226Z"
    }
   },
   "outputs": [],
   "source": [
    "df.to_csv(os.path.join(data_dir, f\"{today}.csv\"), index=False)"
   ]
  },
  {
   "cell_type": "code",
   "execution_count": null,
   "metadata": {},
   "outputs": [],
   "source": []
  }
 ],
 "metadata": {
  "kernelspec": {
   "display_name": "Python 3",
   "language": "python",
   "name": "python3"
  },
  "language_info": {
   "codemirror_mode": {
    "name": "ipython",
    "version": 3
   },
   "file_extension": ".py",
   "mimetype": "text/x-python",
   "name": "python",
   "nbconvert_exporter": "python",
   "pygments_lexer": "ipython3",
   "version": "3.8.8"
  }
 },
 "nbformat": 4,
 "nbformat_minor": 4
}
