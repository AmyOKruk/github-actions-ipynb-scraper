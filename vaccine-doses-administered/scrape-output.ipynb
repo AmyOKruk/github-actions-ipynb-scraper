{
 "cells": [
  {
   "cell_type": "markdown",
   "metadata": {},
   "source": [
    "# California COVID vaccinations scrape"
   ]
  },
  {
   "cell_type": "markdown",
   "metadata": {},
   "source": [
    "By [Amy O'Kruk](https://twitter.com/amyokruk)"
   ]
  },
  {
   "cell_type": "markdown",
   "metadata": {},
   "source": [
    "Downloads data on vaccine doses administered by county and statewide from a Tableau-powered dashboard from the California Department of Public Health."
   ]
  },
  {
   "cell_type": "code",
   "execution_count": 1,
   "metadata": {
    "execution": {
     "iopub.execute_input": "2021-03-22T10:14:06.644589Z",
     "iopub.status.busy": "2021-03-22T10:14:06.643918Z",
     "iopub.status.idle": "2021-03-22T10:14:07.186236Z",
     "shell.execute_reply": "2021-03-22T10:14:07.185540Z"
    }
   },
   "outputs": [],
   "source": [
    "import pandas as pd\n",
    "import requests\n",
    "from bs4 import BeautifulSoup\n",
    "import json\n",
    "import re\n",
    "import time\n",
    "from time import gmtime, strftime \n",
    "import os\n",
    "import pytz\n",
    "from datetime import datetime"
   ]
  },
  {
   "cell_type": "markdown",
   "metadata": {},
   "source": [
    "Scrape the dashboard page"
   ]
  },
  {
   "cell_type": "code",
   "execution_count": 2,
   "metadata": {
    "execution": {
     "iopub.execute_input": "2021-03-22T10:14:07.192450Z",
     "iopub.status.busy": "2021-03-22T10:14:07.189771Z",
     "iopub.status.idle": "2021-03-22T10:14:12.293189Z",
     "shell.execute_reply": "2021-03-22T10:14:12.292617Z"
    }
   },
   "outputs": [],
   "source": [
    "url = \"https://public.tableau.com/interactive/views/COVID-19VaccineDashboardPublic/Vaccine?:embed=y&:showVizHome=n&:apiID=host0\"\n",
    "\n",
    "r = requests.get(url)\n",
    "soup = BeautifulSoup(r.text, \"html.parser\")"
   ]
  },
  {
   "cell_type": "code",
   "execution_count": 3,
   "metadata": {
    "execution": {
     "iopub.execute_input": "2021-03-22T10:14:12.299807Z",
     "iopub.status.busy": "2021-03-22T10:14:12.298222Z",
     "iopub.status.idle": "2021-03-22T10:14:12.300418Z",
     "shell.execute_reply": "2021-03-22T10:14:12.303213Z"
    }
   },
   "outputs": [],
   "source": [
    "tableauData = json.loads(soup.find(\"textarea\",{\"id\": \"tsConfigContainer\"}).text)"
   ]
  },
  {
   "cell_type": "markdown",
   "metadata": {},
   "source": [
    "Get the link to the Tableau data"
   ]
  },
  {
   "cell_type": "code",
   "execution_count": 4,
   "metadata": {
    "execution": {
     "iopub.execute_input": "2021-03-22T10:14:12.308106Z",
     "iopub.status.busy": "2021-03-22T10:14:12.307021Z",
     "iopub.status.idle": "2021-03-22T10:14:12.309145Z",
     "shell.execute_reply": "2021-03-22T10:14:12.309577Z"
    }
   },
   "outputs": [],
   "source": [
    "dataUrl = f'https://public.tableau.com{tableauData[\"vizql_root\"]}/bootstrapSession/sessions/{tableauData[\"sessionid\"]}'"
   ]
  },
  {
   "cell_type": "code",
   "execution_count": 5,
   "metadata": {
    "execution": {
     "iopub.execute_input": "2021-03-22T10:14:12.317088Z",
     "iopub.status.busy": "2021-03-22T10:14:12.316517Z",
     "iopub.status.idle": "2021-03-22T10:14:12.656443Z",
     "shell.execute_reply": "2021-03-22T10:14:12.655912Z"
    }
   },
   "outputs": [],
   "source": [
    "r = requests.post(dataUrl, data= {\n",
    "    \"sheet_id\": tableauData[\"sheetId\"],\n",
    "})\n",
    "\n",
    "dataReg = re.search('\\d+;({.*})\\d+;({.*})', r.text, re.MULTILINE)\n",
    "data1 = json.loads(dataReg.group(2))\n",
    "\n",
    "dataJson = data1[\"secondaryInfo\"][\"presModelMap\"][\"dataDictionary\"][\"presModelHolder\"][\"genDataDictionaryPresModel\"][\"dataSegments\"][\"0\"][\"dataColumns\"]"
   ]
  },
  {
   "cell_type": "markdown",
   "metadata": {},
   "source": [
    "Isolate what you want"
   ]
  },
  {
   "cell_type": "code",
   "execution_count": 6,
   "metadata": {
    "execution": {
     "iopub.execute_input": "2021-03-22T10:14:12.661195Z",
     "iopub.status.busy": "2021-03-22T10:14:12.659947Z",
     "iopub.status.idle": "2021-03-22T10:14:12.662177Z",
     "shell.execute_reply": "2021-03-22T10:14:12.662588Z"
    }
   },
   "outputs": [],
   "source": [
    "counties = dataJson[2]['dataValues'][:58]"
   ]
  },
  {
   "cell_type": "code",
   "execution_count": 7,
   "metadata": {
    "execution": {
     "iopub.execute_input": "2021-03-22T10:14:12.667325Z",
     "iopub.status.busy": "2021-03-22T10:14:12.665900Z",
     "iopub.status.idle": "2021-03-22T10:14:12.668031Z",
     "shell.execute_reply": "2021-03-22T10:14:12.668478Z"
    }
   },
   "outputs": [],
   "source": [
    "doses = dataJson[0]['dataValues'][3:61]"
   ]
  },
  {
   "cell_type": "markdown",
   "metadata": {},
   "source": [
    "Data formatting"
   ]
  },
  {
   "cell_type": "code",
   "execution_count": 8,
   "metadata": {
    "execution": {
     "iopub.execute_input": "2021-03-22T10:14:12.672492Z",
     "iopub.status.busy": "2021-03-22T10:14:12.671597Z",
     "iopub.status.idle": "2021-03-22T10:14:12.673503Z",
     "shell.execute_reply": "2021-03-22T10:14:12.673963Z"
    }
   },
   "outputs": [],
   "source": [
    "zipped = dict(zip(counties, doses))"
   ]
  },
  {
   "cell_type": "code",
   "execution_count": 9,
   "metadata": {
    "execution": {
     "iopub.execute_input": "2021-03-22T10:14:12.680937Z",
     "iopub.status.busy": "2021-03-22T10:14:12.679648Z",
     "iopub.status.idle": "2021-03-22T10:14:12.681464Z",
     "shell.execute_reply": "2021-03-22T10:14:12.681856Z"
    }
   },
   "outputs": [],
   "source": [
    "df = pd.Series(zipped).reset_index()"
   ]
  },
  {
   "cell_type": "code",
   "execution_count": 10,
   "metadata": {
    "execution": {
     "iopub.execute_input": "2021-03-22T10:14:12.686100Z",
     "iopub.status.busy": "2021-03-22T10:14:12.685084Z",
     "iopub.status.idle": "2021-03-22T10:14:12.687152Z",
     "shell.execute_reply": "2021-03-22T10:14:12.687581Z"
    }
   },
   "outputs": [],
   "source": [
    "df.columns = ['location','doses']"
   ]
  },
  {
   "cell_type": "markdown",
   "metadata": {},
   "source": [
    "Grab the overall California total"
   ]
  },
  {
   "cell_type": "code",
   "execution_count": 11,
   "metadata": {
    "execution": {
     "iopub.execute_input": "2021-03-22T10:14:12.691740Z",
     "iopub.status.busy": "2021-03-22T10:14:12.690790Z",
     "iopub.status.idle": "2021-03-22T10:14:12.692880Z",
     "shell.execute_reply": "2021-03-22T10:14:12.693422Z"
    }
   },
   "outputs": [],
   "source": [
    "add = {'location':'California','doses':dataJson[0]['dataValues'][2]}"
   ]
  },
  {
   "cell_type": "code",
   "execution_count": 12,
   "metadata": {
    "execution": {
     "iopub.execute_input": "2021-03-22T10:14:12.700713Z",
     "iopub.status.busy": "2021-03-22T10:14:12.699475Z",
     "iopub.status.idle": "2021-03-22T10:14:12.701372Z",
     "shell.execute_reply": "2021-03-22T10:14:12.701859Z"
    }
   },
   "outputs": [],
   "source": [
    "df = df.append(add, ignore_index=True)"
   ]
  },
  {
   "cell_type": "code",
   "execution_count": 13,
   "metadata": {
    "execution": {
     "iopub.execute_input": "2021-03-22T10:14:12.707014Z",
     "iopub.status.busy": "2021-03-22T10:14:12.705788Z",
     "iopub.status.idle": "2021-03-22T10:14:12.707599Z",
     "shell.execute_reply": "2021-03-22T10:14:12.708061Z"
    }
   },
   "outputs": [],
   "source": [
    "df = df.sort_values(by='location')"
   ]
  },
  {
   "cell_type": "code",
   "execution_count": 14,
   "metadata": {
    "execution": {
     "iopub.execute_input": "2021-03-22T10:14:12.715069Z",
     "iopub.status.busy": "2021-03-22T10:14:12.713834Z",
     "iopub.status.idle": "2021-03-22T10:14:12.715627Z",
     "shell.execute_reply": "2021-03-22T10:14:12.716066Z"
    }
   },
   "outputs": [],
   "source": [
    "df = df[df.location == 'California'].append(df[df.location != 'California']).reset_index(drop=True)"
   ]
  },
  {
   "cell_type": "code",
   "execution_count": null,
   "metadata": {},
   "outputs": [],
   "source": []
  },
  {
   "cell_type": "code",
   "execution_count": 15,
   "metadata": {
    "execution": {
     "iopub.execute_input": "2021-03-22T10:14:12.719585Z",
     "iopub.status.busy": "2021-03-22T10:14:12.719102Z",
     "iopub.status.idle": "2021-03-22T10:14:12.736946Z",
     "shell.execute_reply": "2021-03-22T10:14:12.737407Z"
    }
   },
   "outputs": [],
   "source": [
    "tz = pytz.timezone(\"America/New_York\")"
   ]
  },
  {
   "cell_type": "code",
   "execution_count": 16,
   "metadata": {
    "execution": {
     "iopub.execute_input": "2021-03-22T10:14:12.742362Z",
     "iopub.status.busy": "2021-03-22T10:14:12.741069Z",
     "iopub.status.idle": "2021-03-22T10:14:12.743025Z",
     "shell.execute_reply": "2021-03-22T10:14:12.743533Z"
    }
   },
   "outputs": [],
   "source": [
    "today = datetime.now(tz).date()"
   ]
  },
  {
   "cell_type": "code",
   "execution_count": 17,
   "metadata": {
    "execution": {
     "iopub.execute_input": "2021-03-22T10:14:12.747879Z",
     "iopub.status.busy": "2021-03-22T10:14:12.746727Z",
     "iopub.status.idle": "2021-03-22T10:14:12.749132Z",
     "shell.execute_reply": "2021-03-22T10:14:12.748622Z"
    }
   },
   "outputs": [],
   "source": [
    "data_dir = os.path.join(os.path.abspath(\"\"), \"data\")"
   ]
  },
  {
   "cell_type": "code",
   "execution_count": 18,
   "metadata": {
    "execution": {
     "iopub.execute_input": "2021-03-22T10:14:12.752941Z",
     "iopub.status.busy": "2021-03-22T10:14:12.752173Z",
     "iopub.status.idle": "2021-03-22T10:14:12.757335Z",
     "shell.execute_reply": "2021-03-22T10:14:12.756812Z"
    }
   },
   "outputs": [],
   "source": [
    "df.to_csv(os.path.join(data_dir, f\"{today}.csv\"), index=False)"
   ]
  },
  {
   "cell_type": "code",
   "execution_count": null,
   "metadata": {},
   "outputs": [],
   "source": []
  }
 ],
 "metadata": {
  "kernelspec": {
   "display_name": "Python 3",
   "language": "python",
   "name": "python3"
  },
  "language_info": {
   "codemirror_mode": {
    "name": "ipython",
    "version": 3
   },
   "file_extension": ".py",
   "mimetype": "text/x-python",
   "name": "python",
   "nbconvert_exporter": "python",
   "pygments_lexer": "ipython3",
   "version": "3.8.8"
  }
 },
 "nbformat": 4,
 "nbformat_minor": 4
}
