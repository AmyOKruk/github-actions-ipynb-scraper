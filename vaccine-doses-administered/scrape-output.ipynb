{
 "cells": [
  {
   "cell_type": "markdown",
   "metadata": {},
   "source": [
    "# California COVID vaccinations scrape"
   ]
  },
  {
   "cell_type": "markdown",
   "metadata": {},
   "source": [
    "By [Amy O'Kruk](https://twitter.com/amyokruk)"
   ]
  },
  {
   "cell_type": "markdown",
   "metadata": {},
   "source": [
    "Downloads data on vaccine doses administered by county and statewide from a Tableau-powered dashboard from the California Department of Public Health."
   ]
  },
  {
   "cell_type": "code",
   "execution_count": 1,
   "metadata": {
    "execution": {
     "iopub.execute_input": "2021-03-09T20:40:31.935879Z",
     "iopub.status.busy": "2021-03-09T20:40:31.935411Z",
     "iopub.status.idle": "2021-03-09T20:40:32.368807Z",
     "shell.execute_reply": "2021-03-09T20:40:32.368253Z"
    }
   },
   "outputs": [],
   "source": [
    "import pandas as pd\n",
    "import requests\n",
    "from bs4 import BeautifulSoup\n",
    "import json\n",
    "import re\n",
    "import time\n",
    "from time import gmtime, strftime \n",
    "import os\n",
    "import pytz\n",
    "from datetime import datetime"
   ]
  },
  {
   "cell_type": "markdown",
   "metadata": {},
   "source": [
    "Scrape the dashboard page"
   ]
  },
  {
   "cell_type": "code",
   "execution_count": 2,
   "metadata": {
    "execution": {
     "iopub.execute_input": "2021-03-09T20:40:32.374626Z",
     "iopub.status.busy": "2021-03-09T20:40:32.374109Z",
     "iopub.status.idle": "2021-03-09T20:40:32.721794Z",
     "shell.execute_reply": "2021-03-09T20:40:32.721214Z"
    }
   },
   "outputs": [],
   "source": [
    "url = \"https://public.tableau.com/interactive/views/COVID-19VaccineDashboardPublic/Vaccine?:embed=y&:showVizHome=n&:apiID=host0\"\n",
    "\n",
    "r = requests.get(url)\n",
    "soup = BeautifulSoup(r.text, \"html.parser\")"
   ]
  },
  {
   "cell_type": "code",
   "execution_count": 3,
   "metadata": {
    "execution": {
     "iopub.execute_input": "2021-03-09T20:40:32.726602Z",
     "iopub.status.busy": "2021-03-09T20:40:32.726131Z",
     "iopub.status.idle": "2021-03-09T20:40:32.729536Z",
     "shell.execute_reply": "2021-03-09T20:40:32.729176Z"
    }
   },
   "outputs": [],
   "source": [
    "tableauData = json.loads(soup.find(\"textarea\",{\"id\": \"tsConfigContainer\"}).text)"
   ]
  },
  {
   "cell_type": "markdown",
   "metadata": {},
   "source": [
    "Get the link to the Tableau data"
   ]
  },
  {
   "cell_type": "code",
   "execution_count": 4,
   "metadata": {
    "execution": {
     "iopub.execute_input": "2021-03-09T20:40:32.732829Z",
     "iopub.status.busy": "2021-03-09T20:40:32.732306Z",
     "iopub.status.idle": "2021-03-09T20:40:32.735712Z",
     "shell.execute_reply": "2021-03-09T20:40:32.735274Z"
    }
   },
   "outputs": [],
   "source": [
    "dataUrl = f'https://public.tableau.com{tableauData[\"vizql_root\"]}/bootstrapSession/sessions/{tableauData[\"sessionid\"]}'"
   ]
  },
  {
   "cell_type": "code",
   "execution_count": 5,
   "metadata": {
    "execution": {
     "iopub.execute_input": "2021-03-09T20:40:32.741653Z",
     "iopub.status.busy": "2021-03-09T20:40:32.741214Z",
     "iopub.status.idle": "2021-03-09T20:40:32.934362Z",
     "shell.execute_reply": "2021-03-09T20:40:32.933233Z"
    }
   },
   "outputs": [],
   "source": [
    "r = requests.post(dataUrl, data= {\n",
    "    \"sheet_id\": tableauData[\"sheetId\"],\n",
    "})\n",
    "\n",
    "dataReg = re.search('\\d+;({.*})\\d+;({.*})', r.text, re.MULTILINE)\n",
    "data1 = json.loads(dataReg.group(2))\n",
    "\n",
    "dataJson = data1[\"secondaryInfo\"][\"presModelMap\"][\"dataDictionary\"][\"presModelHolder\"][\"genDataDictionaryPresModel\"][\"dataSegments\"][\"0\"][\"dataColumns\"]"
   ]
  },
  {
   "cell_type": "markdown",
   "metadata": {},
   "source": [
    "Isolate what you want"
   ]
  },
  {
   "cell_type": "code",
   "execution_count": 6,
   "metadata": {
    "execution": {
     "iopub.execute_input": "2021-03-09T20:40:32.937879Z",
     "iopub.status.busy": "2021-03-09T20:40:32.937419Z",
     "iopub.status.idle": "2021-03-09T20:40:32.940707Z",
     "shell.execute_reply": "2021-03-09T20:40:32.940326Z"
    }
   },
   "outputs": [],
   "source": [
    "counties = dataJson[2]['dataValues'][:58]"
   ]
  },
  {
   "cell_type": "code",
   "execution_count": 7,
   "metadata": {
    "execution": {
     "iopub.execute_input": "2021-03-09T20:40:32.944063Z",
     "iopub.status.busy": "2021-03-09T20:40:32.943633Z",
     "iopub.status.idle": "2021-03-09T20:40:32.946772Z",
     "shell.execute_reply": "2021-03-09T20:40:32.946407Z"
    }
   },
   "outputs": [],
   "source": [
    "doses = dataJson[0]['dataValues'][3:61]"
   ]
  },
  {
   "cell_type": "markdown",
   "metadata": {},
   "source": [
    "Data formatting"
   ]
  },
  {
   "cell_type": "code",
   "execution_count": 8,
   "metadata": {
    "execution": {
     "iopub.execute_input": "2021-03-09T20:40:32.949925Z",
     "iopub.status.busy": "2021-03-09T20:40:32.949411Z",
     "iopub.status.idle": "2021-03-09T20:40:32.952552Z",
     "shell.execute_reply": "2021-03-09T20:40:32.952933Z"
    }
   },
   "outputs": [],
   "source": [
    "zipped = dict(zip(counties, doses))"
   ]
  },
  {
   "cell_type": "code",
   "execution_count": 9,
   "metadata": {
    "execution": {
     "iopub.execute_input": "2021-03-09T20:40:32.958278Z",
     "iopub.status.busy": "2021-03-09T20:40:32.957754Z",
     "iopub.status.idle": "2021-03-09T20:40:32.961619Z",
     "shell.execute_reply": "2021-03-09T20:40:32.961207Z"
    }
   },
   "outputs": [],
   "source": [
    "df = pd.Series(zipped).reset_index()"
   ]
  },
  {
   "cell_type": "code",
   "execution_count": 10,
   "metadata": {
    "execution": {
     "iopub.execute_input": "2021-03-09T20:40:32.964848Z",
     "iopub.status.busy": "2021-03-09T20:40:32.964328Z",
     "iopub.status.idle": "2021-03-09T20:40:32.967982Z",
     "shell.execute_reply": "2021-03-09T20:40:32.967613Z"
    }
   },
   "outputs": [],
   "source": [
    "df.columns = ['location','doses']"
   ]
  },
  {
   "cell_type": "markdown",
   "metadata": {},
   "source": [
    "Grab the overall California total"
   ]
  },
  {
   "cell_type": "code",
   "execution_count": 11,
   "metadata": {
    "execution": {
     "iopub.execute_input": "2021-03-09T20:40:32.971061Z",
     "iopub.status.busy": "2021-03-09T20:40:32.970574Z",
     "iopub.status.idle": "2021-03-09T20:40:32.974750Z",
     "shell.execute_reply": "2021-03-09T20:40:32.974307Z"
    }
   },
   "outputs": [],
   "source": [
    "add = {'location':'California','doses':dataJson[0]['dataValues'][2]}"
   ]
  },
  {
   "cell_type": "code",
   "execution_count": 12,
   "metadata": {
    "execution": {
     "iopub.execute_input": "2021-03-09T20:40:32.980531Z",
     "iopub.status.busy": "2021-03-09T20:40:32.980108Z",
     "iopub.status.idle": "2021-03-09T20:40:32.983182Z",
     "shell.execute_reply": "2021-03-09T20:40:32.983633Z"
    }
   },
   "outputs": [],
   "source": [
    "df = df.append(add, ignore_index=True)"
   ]
  },
  {
   "cell_type": "code",
   "execution_count": 13,
   "metadata": {
    "execution": {
     "iopub.execute_input": "2021-03-09T20:40:32.987482Z",
     "iopub.status.busy": "2021-03-09T20:40:32.986956Z",
     "iopub.status.idle": "2021-03-09T20:40:32.990666Z",
     "shell.execute_reply": "2021-03-09T20:40:32.990232Z"
    }
   },
   "outputs": [],
   "source": [
    "df = df.sort_values(by='location')"
   ]
  },
  {
   "cell_type": "code",
   "execution_count": 14,
   "metadata": {
    "execution": {
     "iopub.execute_input": "2021-03-09T20:40:32.995876Z",
     "iopub.status.busy": "2021-03-09T20:40:32.995440Z",
     "iopub.status.idle": "2021-03-09T20:40:32.998689Z",
     "shell.execute_reply": "2021-03-09T20:40:32.998312Z"
    }
   },
   "outputs": [],
   "source": [
    "df = df[df.location == 'California'].append(df[df.location != 'California']).reset_index(drop=True)"
   ]
  },
  {
   "cell_type": "code",
   "execution_count": null,
   "metadata": {},
   "outputs": [],
   "source": []
  },
  {
   "cell_type": "code",
   "execution_count": 15,
   "metadata": {
    "execution": {
     "iopub.execute_input": "2021-03-09T20:40:33.001807Z",
     "iopub.status.busy": "2021-03-09T20:40:33.001381Z",
     "iopub.status.idle": "2021-03-09T20:40:33.019540Z",
     "shell.execute_reply": "2021-03-09T20:40:33.019076Z"
    }
   },
   "outputs": [],
   "source": [
    "tz = pytz.timezone(\"America/New_York\")"
   ]
  },
  {
   "cell_type": "code",
   "execution_count": 16,
   "metadata": {
    "execution": {
     "iopub.execute_input": "2021-03-09T20:40:33.023131Z",
     "iopub.status.busy": "2021-03-09T20:40:33.022624Z",
     "iopub.status.idle": "2021-03-09T20:40:33.026190Z",
     "shell.execute_reply": "2021-03-09T20:40:33.025834Z"
    }
   },
   "outputs": [],
   "source": [
    "today = datetime.now(tz).date()"
   ]
  },
  {
   "cell_type": "code",
   "execution_count": 17,
   "metadata": {
    "execution": {
     "iopub.execute_input": "2021-03-09T20:40:33.029593Z",
     "iopub.status.busy": "2021-03-09T20:40:33.029110Z",
     "iopub.status.idle": "2021-03-09T20:40:33.032782Z",
     "shell.execute_reply": "2021-03-09T20:40:33.032406Z"
    }
   },
   "outputs": [],
   "source": [
    "data_dir = os.path.join(os.path.abspath(\"\"), \"data\")"
   ]
  },
  {
   "cell_type": "code",
   "execution_count": 18,
   "metadata": {
    "execution": {
     "iopub.execute_input": "2021-03-09T20:40:33.038167Z",
     "iopub.status.busy": "2021-03-09T20:40:33.035869Z",
     "iopub.status.idle": "2021-03-09T20:40:33.041737Z",
     "shell.execute_reply": "2021-03-09T20:40:33.040919Z"
    }
   },
   "outputs": [],
   "source": [
    "df.to_csv(os.path.join(data_dir, f\"{today}.csv\"), index=False)"
   ]
  },
  {
   "cell_type": "code",
   "execution_count": null,
   "metadata": {},
   "outputs": [],
   "source": []
  }
 ],
 "metadata": {
  "kernelspec": {
   "display_name": "Python 3",
   "language": "python",
   "name": "python3"
  },
  "language_info": {
   "codemirror_mode": {
    "name": "ipython",
    "version": 3
   },
   "file_extension": ".py",
   "mimetype": "text/x-python",
   "name": "python",
   "nbconvert_exporter": "python",
   "pygments_lexer": "ipython3",
   "version": "3.8.8"
  }
 },
 "nbformat": 4,
 "nbformat_minor": 4
}
