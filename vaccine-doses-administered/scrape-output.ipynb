{
 "cells": [
  {
   "cell_type": "markdown",
   "metadata": {},
   "source": [
    "# California COVID vaccinations scrape"
   ]
  },
  {
   "cell_type": "markdown",
   "metadata": {},
   "source": [
    "By [Amy O'Kruk](https://twitter.com/amyokruk)"
   ]
  },
  {
   "cell_type": "markdown",
   "metadata": {},
   "source": [
    "Downloads data on vaccine doses administered by county and statewide from a Tableau-powered dashboard from the California Department of Public Health."
   ]
  },
  {
   "cell_type": "code",
   "execution_count": 1,
   "metadata": {
    "execution": {
     "iopub.execute_input": "2021-03-21T22:14:03.729436Z",
     "iopub.status.busy": "2021-03-21T22:14:03.728770Z",
     "iopub.status.idle": "2021-03-21T22:14:04.177388Z",
     "shell.execute_reply": "2021-03-21T22:14:04.176430Z"
    }
   },
   "outputs": [],
   "source": [
    "import pandas as pd\n",
    "import requests\n",
    "from bs4 import BeautifulSoup\n",
    "import json\n",
    "import re\n",
    "import time\n",
    "from time import gmtime, strftime \n",
    "import os\n",
    "import pytz\n",
    "from datetime import datetime"
   ]
  },
  {
   "cell_type": "markdown",
   "metadata": {},
   "source": [
    "Scrape the dashboard page"
   ]
  },
  {
   "cell_type": "code",
   "execution_count": 2,
   "metadata": {
    "execution": {
     "iopub.execute_input": "2021-03-21T22:14:04.182200Z",
     "iopub.status.busy": "2021-03-21T22:14:04.181226Z",
     "iopub.status.idle": "2021-03-21T22:14:04.650913Z",
     "shell.execute_reply": "2021-03-21T22:14:04.650384Z"
    }
   },
   "outputs": [],
   "source": [
    "url = \"https://public.tableau.com/interactive/views/COVID-19VaccineDashboardPublic/Vaccine?:embed=y&:showVizHome=n&:apiID=host0\"\n",
    "\n",
    "r = requests.get(url)\n",
    "soup = BeautifulSoup(r.text, \"html.parser\")"
   ]
  },
  {
   "cell_type": "code",
   "execution_count": 3,
   "metadata": {
    "execution": {
     "iopub.execute_input": "2021-03-21T22:14:04.656161Z",
     "iopub.status.busy": "2021-03-21T22:14:04.655522Z",
     "iopub.status.idle": "2021-03-21T22:14:04.660426Z",
     "shell.execute_reply": "2021-03-21T22:14:04.659838Z"
    }
   },
   "outputs": [],
   "source": [
    "tableauData = json.loads(soup.find(\"textarea\",{\"id\": \"tsConfigContainer\"}).text)"
   ]
  },
  {
   "cell_type": "markdown",
   "metadata": {},
   "source": [
    "Get the link to the Tableau data"
   ]
  },
  {
   "cell_type": "code",
   "execution_count": 4,
   "metadata": {
    "execution": {
     "iopub.execute_input": "2021-03-21T22:14:04.664079Z",
     "iopub.status.busy": "2021-03-21T22:14:04.663466Z",
     "iopub.status.idle": "2021-03-21T22:14:04.667390Z",
     "shell.execute_reply": "2021-03-21T22:14:04.666901Z"
    }
   },
   "outputs": [],
   "source": [
    "dataUrl = f'https://public.tableau.com{tableauData[\"vizql_root\"]}/bootstrapSession/sessions/{tableauData[\"sessionid\"]}'"
   ]
  },
  {
   "cell_type": "code",
   "execution_count": 5,
   "metadata": {
    "execution": {
     "iopub.execute_input": "2021-03-21T22:14:04.675757Z",
     "iopub.status.busy": "2021-03-21T22:14:04.674765Z",
     "iopub.status.idle": "2021-03-21T22:14:05.370583Z",
     "shell.execute_reply": "2021-03-21T22:14:05.370988Z"
    }
   },
   "outputs": [],
   "source": [
    "r = requests.post(dataUrl, data= {\n",
    "    \"sheet_id\": tableauData[\"sheetId\"],\n",
    "})\n",
    "\n",
    "dataReg = re.search('\\d+;({.*})\\d+;({.*})', r.text, re.MULTILINE)\n",
    "data1 = json.loads(dataReg.group(2))\n",
    "\n",
    "dataJson = data1[\"secondaryInfo\"][\"presModelMap\"][\"dataDictionary\"][\"presModelHolder\"][\"genDataDictionaryPresModel\"][\"dataSegments\"][\"0\"][\"dataColumns\"]"
   ]
  },
  {
   "cell_type": "markdown",
   "metadata": {},
   "source": [
    "Isolate what you want"
   ]
  },
  {
   "cell_type": "code",
   "execution_count": 6,
   "metadata": {
    "execution": {
     "iopub.execute_input": "2021-03-21T22:14:05.376621Z",
     "iopub.status.busy": "2021-03-21T22:14:05.374812Z",
     "iopub.status.idle": "2021-03-21T22:14:05.377444Z",
     "shell.execute_reply": "2021-03-21T22:14:05.377939Z"
    }
   },
   "outputs": [],
   "source": [
    "counties = dataJson[2]['dataValues'][:58]"
   ]
  },
  {
   "cell_type": "code",
   "execution_count": 7,
   "metadata": {
    "execution": {
     "iopub.execute_input": "2021-03-21T22:14:05.383254Z",
     "iopub.status.busy": "2021-03-21T22:14:05.382662Z",
     "iopub.status.idle": "2021-03-21T22:14:05.387274Z",
     "shell.execute_reply": "2021-03-21T22:14:05.386523Z"
    }
   },
   "outputs": [],
   "source": [
    "doses = dataJson[0]['dataValues'][3:61]"
   ]
  },
  {
   "cell_type": "markdown",
   "metadata": {},
   "source": [
    "Data formatting"
   ]
  },
  {
   "cell_type": "code",
   "execution_count": 8,
   "metadata": {
    "execution": {
     "iopub.execute_input": "2021-03-21T22:14:05.391170Z",
     "iopub.status.busy": "2021-03-21T22:14:05.390665Z",
     "iopub.status.idle": "2021-03-21T22:14:05.395358Z",
     "shell.execute_reply": "2021-03-21T22:14:05.394914Z"
    }
   },
   "outputs": [],
   "source": [
    "zipped = dict(zip(counties, doses))"
   ]
  },
  {
   "cell_type": "code",
   "execution_count": 9,
   "metadata": {
    "execution": {
     "iopub.execute_input": "2021-03-21T22:14:05.401188Z",
     "iopub.status.busy": "2021-03-21T22:14:05.400583Z",
     "iopub.status.idle": "2021-03-21T22:14:05.404082Z",
     "shell.execute_reply": "2021-03-21T22:14:05.404529Z"
    }
   },
   "outputs": [],
   "source": [
    "df = pd.Series(zipped).reset_index()"
   ]
  },
  {
   "cell_type": "code",
   "execution_count": 10,
   "metadata": {
    "execution": {
     "iopub.execute_input": "2021-03-21T22:14:05.409780Z",
     "iopub.status.busy": "2021-03-21T22:14:05.409201Z",
     "iopub.status.idle": "2021-03-21T22:14:05.413264Z",
     "shell.execute_reply": "2021-03-21T22:14:05.412767Z"
    }
   },
   "outputs": [],
   "source": [
    "df.columns = ['location','doses']"
   ]
  },
  {
   "cell_type": "markdown",
   "metadata": {},
   "source": [
    "Grab the overall California total"
   ]
  },
  {
   "cell_type": "code",
   "execution_count": 11,
   "metadata": {
    "execution": {
     "iopub.execute_input": "2021-03-21T22:14:05.418024Z",
     "iopub.status.busy": "2021-03-21T22:14:05.416599Z",
     "iopub.status.idle": "2021-03-21T22:14:05.418692Z",
     "shell.execute_reply": "2021-03-21T22:14:05.419159Z"
    }
   },
   "outputs": [],
   "source": [
    "add = {'location':'California','doses':dataJson[0]['dataValues'][2]}"
   ]
  },
  {
   "cell_type": "code",
   "execution_count": 12,
   "metadata": {
    "execution": {
     "iopub.execute_input": "2021-03-21T22:14:05.427176Z",
     "iopub.status.busy": "2021-03-21T22:14:05.425876Z",
     "iopub.status.idle": "2021-03-21T22:14:05.427921Z",
     "shell.execute_reply": "2021-03-21T22:14:05.428470Z"
    }
   },
   "outputs": [],
   "source": [
    "df = df.append(add, ignore_index=True)"
   ]
  },
  {
   "cell_type": "code",
   "execution_count": 13,
   "metadata": {
    "execution": {
     "iopub.execute_input": "2021-03-21T22:14:05.433847Z",
     "iopub.status.busy": "2021-03-21T22:14:05.432409Z",
     "iopub.status.idle": "2021-03-21T22:14:05.434476Z",
     "shell.execute_reply": "2021-03-21T22:14:05.434956Z"
    }
   },
   "outputs": [],
   "source": [
    "df = df.sort_values(by='location')"
   ]
  },
  {
   "cell_type": "code",
   "execution_count": 14,
   "metadata": {
    "execution": {
     "iopub.execute_input": "2021-03-21T22:14:05.440707Z",
     "iopub.status.busy": "2021-03-21T22:14:05.440190Z",
     "iopub.status.idle": "2021-03-21T22:14:05.442960Z",
     "shell.execute_reply": "2021-03-21T22:14:05.442423Z"
    }
   },
   "outputs": [],
   "source": [
    "df = df[df.location == 'California'].append(df[df.location != 'California']).reset_index(drop=True)"
   ]
  },
  {
   "cell_type": "code",
   "execution_count": null,
   "metadata": {},
   "outputs": [],
   "source": []
  },
  {
   "cell_type": "code",
   "execution_count": 15,
   "metadata": {
    "execution": {
     "iopub.execute_input": "2021-03-21T22:14:05.446293Z",
     "iopub.status.busy": "2021-03-21T22:14:05.445765Z",
     "iopub.status.idle": "2021-03-21T22:14:05.465025Z",
     "shell.execute_reply": "2021-03-21T22:14:05.464483Z"
    }
   },
   "outputs": [],
   "source": [
    "tz = pytz.timezone(\"America/New_York\")"
   ]
  },
  {
   "cell_type": "code",
   "execution_count": 16,
   "metadata": {
    "execution": {
     "iopub.execute_input": "2021-03-21T22:14:05.471877Z",
     "iopub.status.busy": "2021-03-21T22:14:05.471349Z",
     "iopub.status.idle": "2021-03-21T22:14:05.475259Z",
     "shell.execute_reply": "2021-03-21T22:14:05.474761Z"
    }
   },
   "outputs": [],
   "source": [
    "today = datetime.now(tz).date()"
   ]
  },
  {
   "cell_type": "code",
   "execution_count": 17,
   "metadata": {
    "execution": {
     "iopub.execute_input": "2021-03-21T22:14:05.478987Z",
     "iopub.status.busy": "2021-03-21T22:14:05.478420Z",
     "iopub.status.idle": "2021-03-21T22:14:05.482248Z",
     "shell.execute_reply": "2021-03-21T22:14:05.481761Z"
    }
   },
   "outputs": [],
   "source": [
    "data_dir = os.path.join(os.path.abspath(\"\"), \"data\")"
   ]
  },
  {
   "cell_type": "code",
   "execution_count": 18,
   "metadata": {
    "execution": {
     "iopub.execute_input": "2021-03-21T22:14:05.487862Z",
     "iopub.status.busy": "2021-03-21T22:14:05.487320Z",
     "iopub.status.idle": "2021-03-21T22:14:05.492711Z",
     "shell.execute_reply": "2021-03-21T22:14:05.491681Z"
    }
   },
   "outputs": [],
   "source": [
    "df.to_csv(os.path.join(data_dir, f\"{today}.csv\"), index=False)"
   ]
  },
  {
   "cell_type": "code",
   "execution_count": null,
   "metadata": {},
   "outputs": [],
   "source": []
  }
 ],
 "metadata": {
  "kernelspec": {
   "display_name": "Python 3",
   "language": "python",
   "name": "python3"
  },
  "language_info": {
   "codemirror_mode": {
    "name": "ipython",
    "version": 3
   },
   "file_extension": ".py",
   "mimetype": "text/x-python",
   "name": "python",
   "nbconvert_exporter": "python",
   "pygments_lexer": "ipython3",
   "version": "3.8.8"
  }
 },
 "nbformat": 4,
 "nbformat_minor": 4
}
