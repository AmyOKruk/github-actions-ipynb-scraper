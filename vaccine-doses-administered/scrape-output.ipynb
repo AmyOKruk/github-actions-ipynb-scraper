{
 "cells": [
  {
   "cell_type": "markdown",
   "metadata": {},
   "source": [
    "# California COVID vaccinations scrape"
   ]
  },
  {
   "cell_type": "markdown",
   "metadata": {},
   "source": [
    "By [Amy O'Kruk](https://twitter.com/amyokruk)"
   ]
  },
  {
   "cell_type": "markdown",
   "metadata": {},
   "source": [
    "Downloads data on vaccine doses administered by county and statewide from a Tableau-powered dashboard from the California Department of Public Health."
   ]
  },
  {
   "cell_type": "code",
   "execution_count": 1,
   "metadata": {
    "execution": {
     "iopub.execute_input": "2021-03-18T18:48:16.241617Z",
     "iopub.status.busy": "2021-03-18T18:48:16.240577Z",
     "iopub.status.idle": "2021-03-18T18:48:16.644033Z",
     "shell.execute_reply": "2021-03-18T18:48:16.644472Z"
    }
   },
   "outputs": [],
   "source": [
    "import pandas as pd\n",
    "import requests\n",
    "from bs4 import BeautifulSoup\n",
    "import json\n",
    "import re\n",
    "import time\n",
    "from time import gmtime, strftime \n",
    "import os\n",
    "import pytz\n",
    "from datetime import datetime"
   ]
  },
  {
   "cell_type": "markdown",
   "metadata": {},
   "source": [
    "Scrape the dashboard page"
   ]
  },
  {
   "cell_type": "code",
   "execution_count": 2,
   "metadata": {
    "execution": {
     "iopub.execute_input": "2021-03-18T18:48:16.650455Z",
     "iopub.status.busy": "2021-03-18T18:48:16.648190Z",
     "iopub.status.idle": "2021-03-18T18:48:16.959281Z",
     "shell.execute_reply": "2021-03-18T18:48:16.958477Z"
    }
   },
   "outputs": [],
   "source": [
    "url = \"https://public.tableau.com/interactive/views/COVID-19VaccineDashboardPublic/Vaccine?:embed=y&:showVizHome=n&:apiID=host0\"\n",
    "\n",
    "r = requests.get(url)\n",
    "soup = BeautifulSoup(r.text, \"html.parser\")"
   ]
  },
  {
   "cell_type": "code",
   "execution_count": 3,
   "metadata": {
    "execution": {
     "iopub.execute_input": "2021-03-18T18:48:16.964995Z",
     "iopub.status.busy": "2021-03-18T18:48:16.964456Z",
     "iopub.status.idle": "2021-03-18T18:48:16.966743Z",
     "shell.execute_reply": "2021-03-18T18:48:16.966339Z"
    }
   },
   "outputs": [],
   "source": [
    "tableauData = json.loads(soup.find(\"textarea\",{\"id\": \"tsConfigContainer\"}).text)"
   ]
  },
  {
   "cell_type": "markdown",
   "metadata": {},
   "source": [
    "Get the link to the Tableau data"
   ]
  },
  {
   "cell_type": "code",
   "execution_count": 4,
   "metadata": {
    "execution": {
     "iopub.execute_input": "2021-03-18T18:48:16.970869Z",
     "iopub.status.busy": "2021-03-18T18:48:16.969848Z",
     "iopub.status.idle": "2021-03-18T18:48:16.971613Z",
     "shell.execute_reply": "2021-03-18T18:48:16.972015Z"
    }
   },
   "outputs": [],
   "source": [
    "dataUrl = f'https://public.tableau.com{tableauData[\"vizql_root\"]}/bootstrapSession/sessions/{tableauData[\"sessionid\"]}'"
   ]
  },
  {
   "cell_type": "code",
   "execution_count": 5,
   "metadata": {
    "execution": {
     "iopub.execute_input": "2021-03-18T18:48:16.977791Z",
     "iopub.status.busy": "2021-03-18T18:48:16.977334Z",
     "iopub.status.idle": "2021-03-18T18:48:17.159485Z",
     "shell.execute_reply": "2021-03-18T18:48:17.158859Z"
    }
   },
   "outputs": [],
   "source": [
    "r = requests.post(dataUrl, data= {\n",
    "    \"sheet_id\": tableauData[\"sheetId\"],\n",
    "})\n",
    "\n",
    "dataReg = re.search('\\d+;({.*})\\d+;({.*})', r.text, re.MULTILINE)\n",
    "data1 = json.loads(dataReg.group(2))\n",
    "\n",
    "dataJson = data1[\"secondaryInfo\"][\"presModelMap\"][\"dataDictionary\"][\"presModelHolder\"][\"genDataDictionaryPresModel\"][\"dataSegments\"][\"0\"][\"dataColumns\"]"
   ]
  },
  {
   "cell_type": "markdown",
   "metadata": {},
   "source": [
    "Isolate what you want"
   ]
  },
  {
   "cell_type": "code",
   "execution_count": 6,
   "metadata": {
    "execution": {
     "iopub.execute_input": "2021-03-18T18:48:17.163356Z",
     "iopub.status.busy": "2021-03-18T18:48:17.162644Z",
     "iopub.status.idle": "2021-03-18T18:48:17.167300Z",
     "shell.execute_reply": "2021-03-18T18:48:17.166709Z"
    }
   },
   "outputs": [],
   "source": [
    "counties = dataJson[2]['dataValues'][:58]"
   ]
  },
  {
   "cell_type": "code",
   "execution_count": 7,
   "metadata": {
    "execution": {
     "iopub.execute_input": "2021-03-18T18:48:17.171343Z",
     "iopub.status.busy": "2021-03-18T18:48:17.170377Z",
     "iopub.status.idle": "2021-03-18T18:48:17.171910Z",
     "shell.execute_reply": "2021-03-18T18:48:17.172303Z"
    }
   },
   "outputs": [],
   "source": [
    "doses = dataJson[0]['dataValues'][3:61]"
   ]
  },
  {
   "cell_type": "markdown",
   "metadata": {},
   "source": [
    "Data formatting"
   ]
  },
  {
   "cell_type": "code",
   "execution_count": 8,
   "metadata": {
    "execution": {
     "iopub.execute_input": "2021-03-18T18:48:17.176411Z",
     "iopub.status.busy": "2021-03-18T18:48:17.175245Z",
     "iopub.status.idle": "2021-03-18T18:48:17.176960Z",
     "shell.execute_reply": "2021-03-18T18:48:17.177386Z"
    }
   },
   "outputs": [],
   "source": [
    "zipped = dict(zip(counties, doses))"
   ]
  },
  {
   "cell_type": "code",
   "execution_count": 9,
   "metadata": {
    "execution": {
     "iopub.execute_input": "2021-03-18T18:48:17.182664Z",
     "iopub.status.busy": "2021-03-18T18:48:17.181884Z",
     "iopub.status.idle": "2021-03-18T18:48:17.183561Z",
     "shell.execute_reply": "2021-03-18T18:48:17.184023Z"
    }
   },
   "outputs": [],
   "source": [
    "df = pd.Series(zipped).reset_index()"
   ]
  },
  {
   "cell_type": "code",
   "execution_count": 10,
   "metadata": {
    "execution": {
     "iopub.execute_input": "2021-03-18T18:48:17.188062Z",
     "iopub.status.busy": "2021-03-18T18:48:17.186952Z",
     "iopub.status.idle": "2021-03-18T18:48:17.188681Z",
     "shell.execute_reply": "2021-03-18T18:48:17.189105Z"
    }
   },
   "outputs": [],
   "source": [
    "df.columns = ['location','doses']"
   ]
  },
  {
   "cell_type": "markdown",
   "metadata": {},
   "source": [
    "Grab the overall California total"
   ]
  },
  {
   "cell_type": "code",
   "execution_count": 11,
   "metadata": {
    "execution": {
     "iopub.execute_input": "2021-03-18T18:48:17.193158Z",
     "iopub.status.busy": "2021-03-18T18:48:17.192239Z",
     "iopub.status.idle": "2021-03-18T18:48:17.194244Z",
     "shell.execute_reply": "2021-03-18T18:48:17.193803Z"
    }
   },
   "outputs": [],
   "source": [
    "add = {'location':'California','doses':dataJson[0]['dataValues'][2]}"
   ]
  },
  {
   "cell_type": "code",
   "execution_count": 12,
   "metadata": {
    "execution": {
     "iopub.execute_input": "2021-03-18T18:48:17.200311Z",
     "iopub.status.busy": "2021-03-18T18:48:17.199229Z",
     "iopub.status.idle": "2021-03-18T18:48:17.200946Z",
     "shell.execute_reply": "2021-03-18T18:48:17.201343Z"
    }
   },
   "outputs": [],
   "source": [
    "df = df.append(add, ignore_index=True)"
   ]
  },
  {
   "cell_type": "code",
   "execution_count": 13,
   "metadata": {
    "execution": {
     "iopub.execute_input": "2021-03-18T18:48:17.206115Z",
     "iopub.status.busy": "2021-03-18T18:48:17.204932Z",
     "iopub.status.idle": "2021-03-18T18:48:17.206722Z",
     "shell.execute_reply": "2021-03-18T18:48:17.207118Z"
    }
   },
   "outputs": [],
   "source": [
    "df = df.sort_values(by='location')"
   ]
  },
  {
   "cell_type": "code",
   "execution_count": 14,
   "metadata": {
    "execution": {
     "iopub.execute_input": "2021-03-18T18:48:17.212711Z",
     "iopub.status.busy": "2021-03-18T18:48:17.211636Z",
     "iopub.status.idle": "2021-03-18T18:48:17.213203Z",
     "shell.execute_reply": "2021-03-18T18:48:17.213549Z"
    }
   },
   "outputs": [],
   "source": [
    "df = df[df.location == 'California'].append(df[df.location != 'California']).reset_index(drop=True)"
   ]
  },
  {
   "cell_type": "code",
   "execution_count": null,
   "metadata": {},
   "outputs": [],
   "source": []
  },
  {
   "cell_type": "code",
   "execution_count": 15,
   "metadata": {
    "execution": {
     "iopub.execute_input": "2021-03-18T18:48:17.216368Z",
     "iopub.status.busy": "2021-03-18T18:48:17.215894Z",
     "iopub.status.idle": "2021-03-18T18:48:17.233248Z",
     "shell.execute_reply": "2021-03-18T18:48:17.232757Z"
    }
   },
   "outputs": [],
   "source": [
    "tz = pytz.timezone(\"America/New_York\")"
   ]
  },
  {
   "cell_type": "code",
   "execution_count": 16,
   "metadata": {
    "execution": {
     "iopub.execute_input": "2021-03-18T18:48:17.237244Z",
     "iopub.status.busy": "2021-03-18T18:48:17.236043Z",
     "iopub.status.idle": "2021-03-18T18:48:17.237841Z",
     "shell.execute_reply": "2021-03-18T18:48:17.238300Z"
    }
   },
   "outputs": [],
   "source": [
    "today = datetime.now(tz).date()"
   ]
  },
  {
   "cell_type": "code",
   "execution_count": 17,
   "metadata": {
    "execution": {
     "iopub.execute_input": "2021-03-18T18:48:17.242234Z",
     "iopub.status.busy": "2021-03-18T18:48:17.241082Z",
     "iopub.status.idle": "2021-03-18T18:48:17.242894Z",
     "shell.execute_reply": "2021-03-18T18:48:17.243289Z"
    }
   },
   "outputs": [],
   "source": [
    "data_dir = os.path.join(os.path.abspath(\"\"), \"data\")"
   ]
  },
  {
   "cell_type": "code",
   "execution_count": 18,
   "metadata": {
    "execution": {
     "iopub.execute_input": "2021-03-18T18:48:17.247103Z",
     "iopub.status.busy": "2021-03-18T18:48:17.246015Z",
     "iopub.status.idle": "2021-03-18T18:48:17.250632Z",
     "shell.execute_reply": "2021-03-18T18:48:17.250225Z"
    }
   },
   "outputs": [],
   "source": [
    "df.to_csv(os.path.join(data_dir, f\"{today}.csv\"), index=False)"
   ]
  },
  {
   "cell_type": "code",
   "execution_count": null,
   "metadata": {},
   "outputs": [],
   "source": []
  }
 ],
 "metadata": {
  "kernelspec": {
   "display_name": "Python 3",
   "language": "python",
   "name": "python3"
  },
  "language_info": {
   "codemirror_mode": {
    "name": "ipython",
    "version": 3
   },
   "file_extension": ".py",
   "mimetype": "text/x-python",
   "name": "python",
   "nbconvert_exporter": "python",
   "pygments_lexer": "ipython3",
   "version": "3.8.8"
  }
 },
 "nbformat": 4,
 "nbformat_minor": 4
}
