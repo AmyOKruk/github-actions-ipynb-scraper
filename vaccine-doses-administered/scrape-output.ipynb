{
 "cells": [
  {
   "cell_type": "markdown",
   "metadata": {},
   "source": [
    "# California COVID vaccinations scrape"
   ]
  },
  {
   "cell_type": "markdown",
   "metadata": {},
   "source": [
    "By [Amy O'Kruk](https://twitter.com/amyokruk)"
   ]
  },
  {
   "cell_type": "markdown",
   "metadata": {},
   "source": [
    "Downloads data on vaccine doses administered by county and statewide from a Tableau-powered dashboard from the California Department of Public Health."
   ]
  },
  {
   "cell_type": "code",
   "execution_count": 1,
   "metadata": {
    "execution": {
     "iopub.execute_input": "2021-03-09T09:44:06.445914Z",
     "iopub.status.busy": "2021-03-09T09:44:06.445226Z",
     "iopub.status.idle": "2021-03-09T09:44:06.866615Z",
     "shell.execute_reply": "2021-03-09T09:44:06.866030Z"
    }
   },
   "outputs": [],
   "source": [
    "import pandas as pd\n",
    "import requests\n",
    "from bs4 import BeautifulSoup\n",
    "import json\n",
    "import re\n",
    "import time\n",
    "from time import gmtime, strftime \n",
    "import os\n",
    "import pytz\n",
    "from datetime import datetime"
   ]
  },
  {
   "cell_type": "markdown",
   "metadata": {},
   "source": [
    "Scrape the dashboard page"
   ]
  },
  {
   "cell_type": "code",
   "execution_count": 2,
   "metadata": {
    "execution": {
     "iopub.execute_input": "2021-03-09T09:44:06.873976Z",
     "iopub.status.busy": "2021-03-09T09:44:06.870903Z",
     "iopub.status.idle": "2021-03-09T09:44:07.312299Z",
     "shell.execute_reply": "2021-03-09T09:44:07.311761Z"
    }
   },
   "outputs": [],
   "source": [
    "url = \"https://public.tableau.com/interactive/views/COVID-19VaccineDashboardPublic/Vaccine?:embed=y&:showVizHome=n&:apiID=host0\"\n",
    "\n",
    "r = requests.get(url)\n",
    "soup = BeautifulSoup(r.text, \"html.parser\")"
   ]
  },
  {
   "cell_type": "code",
   "execution_count": 3,
   "metadata": {
    "execution": {
     "iopub.execute_input": "2021-03-09T09:44:07.317341Z",
     "iopub.status.busy": "2021-03-09T09:44:07.316715Z",
     "iopub.status.idle": "2021-03-09T09:44:07.320513Z",
     "shell.execute_reply": "2021-03-09T09:44:07.320015Z"
    }
   },
   "outputs": [],
   "source": [
    "tableauData = json.loads(soup.find(\"textarea\",{\"id\": \"tsConfigContainer\"}).text)"
   ]
  },
  {
   "cell_type": "markdown",
   "metadata": {},
   "source": [
    "Get the link to the Tableau data"
   ]
  },
  {
   "cell_type": "code",
   "execution_count": 4,
   "metadata": {
    "execution": {
     "iopub.execute_input": "2021-03-09T09:44:07.324554Z",
     "iopub.status.busy": "2021-03-09T09:44:07.323858Z",
     "iopub.status.idle": "2021-03-09T09:44:07.326582Z",
     "shell.execute_reply": "2021-03-09T09:44:07.326107Z"
    }
   },
   "outputs": [],
   "source": [
    "dataUrl = f'https://public.tableau.com{tableauData[\"vizql_root\"]}/bootstrapSession/sessions/{tableauData[\"sessionid\"]}'"
   ]
  },
  {
   "cell_type": "code",
   "execution_count": 5,
   "metadata": {
    "execution": {
     "iopub.execute_input": "2021-03-09T09:44:07.333319Z",
     "iopub.status.busy": "2021-03-09T09:44:07.332687Z",
     "iopub.status.idle": "2021-03-09T09:44:07.516857Z",
     "shell.execute_reply": "2021-03-09T09:44:07.516310Z"
    }
   },
   "outputs": [],
   "source": [
    "r = requests.post(dataUrl, data= {\n",
    "    \"sheet_id\": tableauData[\"sheetId\"],\n",
    "})\n",
    "\n",
    "dataReg = re.search('\\d+;({.*})\\d+;({.*})', r.text, re.MULTILINE)\n",
    "data1 = json.loads(dataReg.group(2))\n",
    "\n",
    "dataJson = data1[\"secondaryInfo\"][\"presModelMap\"][\"dataDictionary\"][\"presModelHolder\"][\"genDataDictionaryPresModel\"][\"dataSegments\"][\"0\"][\"dataColumns\"]"
   ]
  },
  {
   "cell_type": "markdown",
   "metadata": {},
   "source": [
    "Isolate what you want"
   ]
  },
  {
   "cell_type": "code",
   "execution_count": 6,
   "metadata": {
    "execution": {
     "iopub.execute_input": "2021-03-09T09:44:07.522436Z",
     "iopub.status.busy": "2021-03-09T09:44:07.520479Z",
     "iopub.status.idle": "2021-03-09T09:44:07.523080Z",
     "shell.execute_reply": "2021-03-09T09:44:07.523572Z"
    }
   },
   "outputs": [],
   "source": [
    "counties = dataJson[2]['dataValues'][:58]"
   ]
  },
  {
   "cell_type": "code",
   "execution_count": 7,
   "metadata": {
    "execution": {
     "iopub.execute_input": "2021-03-09T09:44:07.528500Z",
     "iopub.status.busy": "2021-03-09T09:44:07.526922Z",
     "iopub.status.idle": "2021-03-09T09:44:07.529190Z",
     "shell.execute_reply": "2021-03-09T09:44:07.529688Z"
    }
   },
   "outputs": [],
   "source": [
    "doses = dataJson[0]['dataValues'][3:61]"
   ]
  },
  {
   "cell_type": "markdown",
   "metadata": {},
   "source": [
    "Data formatting"
   ]
  },
  {
   "cell_type": "code",
   "execution_count": 8,
   "metadata": {
    "execution": {
     "iopub.execute_input": "2021-03-09T09:44:07.534310Z",
     "iopub.status.busy": "2021-03-09T09:44:07.532957Z",
     "iopub.status.idle": "2021-03-09T09:44:07.535023Z",
     "shell.execute_reply": "2021-03-09T09:44:07.535513Z"
    }
   },
   "outputs": [],
   "source": [
    "zipped = dict(zip(counties, doses))"
   ]
  },
  {
   "cell_type": "code",
   "execution_count": 9,
   "metadata": {
    "execution": {
     "iopub.execute_input": "2021-03-09T09:44:07.542668Z",
     "iopub.status.busy": "2021-03-09T09:44:07.541248Z",
     "iopub.status.idle": "2021-03-09T09:44:07.543369Z",
     "shell.execute_reply": "2021-03-09T09:44:07.543860Z"
    }
   },
   "outputs": [],
   "source": [
    "df = pd.Series(zipped).reset_index()"
   ]
  },
  {
   "cell_type": "code",
   "execution_count": 10,
   "metadata": {
    "execution": {
     "iopub.execute_input": "2021-03-09T09:44:07.548625Z",
     "iopub.status.busy": "2021-03-09T09:44:07.547283Z",
     "iopub.status.idle": "2021-03-09T09:44:07.549291Z",
     "shell.execute_reply": "2021-03-09T09:44:07.549783Z"
    }
   },
   "outputs": [],
   "source": [
    "df.columns = ['location','doses']"
   ]
  },
  {
   "cell_type": "markdown",
   "metadata": {},
   "source": [
    "Grab the overall California total"
   ]
  },
  {
   "cell_type": "code",
   "execution_count": 11,
   "metadata": {
    "execution": {
     "iopub.execute_input": "2021-03-09T09:44:07.554501Z",
     "iopub.status.busy": "2021-03-09T09:44:07.553195Z",
     "iopub.status.idle": "2021-03-09T09:44:07.555143Z",
     "shell.execute_reply": "2021-03-09T09:44:07.555634Z"
    }
   },
   "outputs": [],
   "source": [
    "add = {'location':'California','doses':dataJson[0]['dataValues'][2]}"
   ]
  },
  {
   "cell_type": "code",
   "execution_count": 12,
   "metadata": {
    "execution": {
     "iopub.execute_input": "2021-03-09T09:44:07.563991Z",
     "iopub.status.busy": "2021-03-09T09:44:07.562629Z",
     "iopub.status.idle": "2021-03-09T09:44:07.564634Z",
     "shell.execute_reply": "2021-03-09T09:44:07.565151Z"
    }
   },
   "outputs": [],
   "source": [
    "df = df.append(add, ignore_index=True)"
   ]
  },
  {
   "cell_type": "code",
   "execution_count": 13,
   "metadata": {
    "execution": {
     "iopub.execute_input": "2021-03-09T09:44:07.570525Z",
     "iopub.status.busy": "2021-03-09T09:44:07.569175Z",
     "iopub.status.idle": "2021-03-09T09:44:07.571168Z",
     "shell.execute_reply": "2021-03-09T09:44:07.571657Z"
    }
   },
   "outputs": [],
   "source": [
    "df = df.sort_values(by='location')"
   ]
  },
  {
   "cell_type": "code",
   "execution_count": 14,
   "metadata": {
    "execution": {
     "iopub.execute_input": "2021-03-09T09:44:07.578788Z",
     "iopub.status.busy": "2021-03-09T09:44:07.577449Z",
     "iopub.status.idle": "2021-03-09T09:44:07.579429Z",
     "shell.execute_reply": "2021-03-09T09:44:07.579929Z"
    }
   },
   "outputs": [],
   "source": [
    "df = df[df.location == 'California'].append(df[df.location != 'California']).reset_index(drop=True)"
   ]
  },
  {
   "cell_type": "code",
   "execution_count": null,
   "metadata": {},
   "outputs": [],
   "source": []
  },
  {
   "cell_type": "code",
   "execution_count": 15,
   "metadata": {
    "execution": {
     "iopub.execute_input": "2021-03-09T09:44:07.583494Z",
     "iopub.status.busy": "2021-03-09T09:44:07.582916Z",
     "iopub.status.idle": "2021-03-09T09:44:07.604592Z",
     "shell.execute_reply": "2021-03-09T09:44:07.604058Z"
    }
   },
   "outputs": [],
   "source": [
    "tz = pytz.timezone(\"America/New_York\")"
   ]
  },
  {
   "cell_type": "code",
   "execution_count": 16,
   "metadata": {
    "execution": {
     "iopub.execute_input": "2021-03-09T09:44:07.610323Z",
     "iopub.status.busy": "2021-03-09T09:44:07.608870Z",
     "iopub.status.idle": "2021-03-09T09:44:07.610989Z",
     "shell.execute_reply": "2021-03-09T09:44:07.611482Z"
    }
   },
   "outputs": [],
   "source": [
    "today = datetime.now(tz).date()"
   ]
  },
  {
   "cell_type": "code",
   "execution_count": 17,
   "metadata": {
    "execution": {
     "iopub.execute_input": "2021-03-09T09:44:07.616253Z",
     "iopub.status.busy": "2021-03-09T09:44:07.614885Z",
     "iopub.status.idle": "2021-03-09T09:44:07.616893Z",
     "shell.execute_reply": "2021-03-09T09:44:07.617412Z"
    }
   },
   "outputs": [],
   "source": [
    "data_dir = os.path.join(os.path.abspath(\"\"), \"data\")"
   ]
  },
  {
   "cell_type": "code",
   "execution_count": 18,
   "metadata": {
    "execution": {
     "iopub.execute_input": "2021-03-09T09:44:07.626169Z",
     "iopub.status.busy": "2021-03-09T09:44:07.620769Z",
     "iopub.status.idle": "2021-03-09T09:44:07.629440Z",
     "shell.execute_reply": "2021-03-09T09:44:07.629900Z"
    }
   },
   "outputs": [],
   "source": [
    "df.to_csv(os.path.join(data_dir, f\"{today}.csv\"), index=False)"
   ]
  },
  {
   "cell_type": "code",
   "execution_count": null,
   "metadata": {},
   "outputs": [],
   "source": []
  }
 ],
 "metadata": {
  "kernelspec": {
   "display_name": "Python 3",
   "language": "python",
   "name": "python3"
  },
  "language_info": {
   "codemirror_mode": {
    "name": "ipython",
    "version": 3
   },
   "file_extension": ".py",
   "mimetype": "text/x-python",
   "name": "python",
   "nbconvert_exporter": "python",
   "pygments_lexer": "ipython3",
   "version": "3.8.8"
  }
 },
 "nbformat": 4,
 "nbformat_minor": 4
}
