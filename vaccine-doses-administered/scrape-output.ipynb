{
 "cells": [
  {
   "cell_type": "markdown",
   "metadata": {},
   "source": [
    "# California COVID vaccinations scrape"
   ]
  },
  {
   "cell_type": "markdown",
   "metadata": {},
   "source": [
    "By [Amy O'Kruk](https://twitter.com/amyokruk)"
   ]
  },
  {
   "cell_type": "markdown",
   "metadata": {},
   "source": [
    "Downloads data on vaccine doses administered by county and statewide from a Tableau-powered dashboard from the California Department of Public Health."
   ]
  },
  {
   "cell_type": "code",
   "execution_count": 1,
   "metadata": {
    "execution": {
     "iopub.execute_input": "2021-03-22T05:20:58.163162Z",
     "iopub.status.busy": "2021-03-22T05:20:58.162589Z",
     "iopub.status.idle": "2021-03-22T05:20:58.565750Z",
     "shell.execute_reply": "2021-03-22T05:20:58.564608Z"
    }
   },
   "outputs": [],
   "source": [
    "import pandas as pd\n",
    "import requests\n",
    "from bs4 import BeautifulSoup\n",
    "import json\n",
    "import re\n",
    "import time\n",
    "from time import gmtime, strftime \n",
    "import os\n",
    "import pytz\n",
    "from datetime import datetime"
   ]
  },
  {
   "cell_type": "markdown",
   "metadata": {},
   "source": [
    "Scrape the dashboard page"
   ]
  },
  {
   "cell_type": "code",
   "execution_count": 2,
   "metadata": {
    "execution": {
     "iopub.execute_input": "2021-03-22T05:20:58.571306Z",
     "iopub.status.busy": "2021-03-22T05:20:58.569107Z",
     "iopub.status.idle": "2021-03-22T05:20:58.924619Z",
     "shell.execute_reply": "2021-03-22T05:20:58.923917Z"
    }
   },
   "outputs": [],
   "source": [
    "url = \"https://public.tableau.com/interactive/views/COVID-19VaccineDashboardPublic/Vaccine?:embed=y&:showVizHome=n&:apiID=host0\"\n",
    "\n",
    "r = requests.get(url)\n",
    "soup = BeautifulSoup(r.text, \"html.parser\")"
   ]
  },
  {
   "cell_type": "code",
   "execution_count": 3,
   "metadata": {
    "execution": {
     "iopub.execute_input": "2021-03-22T05:20:58.930211Z",
     "iopub.status.busy": "2021-03-22T05:20:58.929368Z",
     "iopub.status.idle": "2021-03-22T05:20:58.942601Z",
     "shell.execute_reply": "2021-03-22T05:20:58.942983Z"
    }
   },
   "outputs": [],
   "source": [
    "tableauData = json.loads(soup.find(\"textarea\",{\"id\": \"tsConfigContainer\"}).text)"
   ]
  },
  {
   "cell_type": "markdown",
   "metadata": {},
   "source": [
    "Get the link to the Tableau data"
   ]
  },
  {
   "cell_type": "code",
   "execution_count": 4,
   "metadata": {
    "execution": {
     "iopub.execute_input": "2021-03-22T05:20:58.946988Z",
     "iopub.status.busy": "2021-03-22T05:20:58.946109Z",
     "iopub.status.idle": "2021-03-22T05:20:58.948734Z",
     "shell.execute_reply": "2021-03-22T05:20:58.948342Z"
    }
   },
   "outputs": [],
   "source": [
    "dataUrl = f'https://public.tableau.com{tableauData[\"vizql_root\"]}/bootstrapSession/sessions/{tableauData[\"sessionid\"]}'"
   ]
  },
  {
   "cell_type": "code",
   "execution_count": 5,
   "metadata": {
    "execution": {
     "iopub.execute_input": "2021-03-22T05:20:58.955678Z",
     "iopub.status.busy": "2021-03-22T05:20:58.955193Z",
     "iopub.status.idle": "2021-03-22T05:20:59.431238Z",
     "shell.execute_reply": "2021-03-22T05:20:59.430715Z"
    }
   },
   "outputs": [],
   "source": [
    "r = requests.post(dataUrl, data= {\n",
    "    \"sheet_id\": tableauData[\"sheetId\"],\n",
    "})\n",
    "\n",
    "dataReg = re.search('\\d+;({.*})\\d+;({.*})', r.text, re.MULTILINE)\n",
    "data1 = json.loads(dataReg.group(2))\n",
    "\n",
    "dataJson = data1[\"secondaryInfo\"][\"presModelMap\"][\"dataDictionary\"][\"presModelHolder\"][\"genDataDictionaryPresModel\"][\"dataSegments\"][\"0\"][\"dataColumns\"]"
   ]
  },
  {
   "cell_type": "markdown",
   "metadata": {},
   "source": [
    "Isolate what you want"
   ]
  },
  {
   "cell_type": "code",
   "execution_count": 6,
   "metadata": {
    "execution": {
     "iopub.execute_input": "2021-03-22T05:20:59.436794Z",
     "iopub.status.busy": "2021-03-22T05:20:59.436242Z",
     "iopub.status.idle": "2021-03-22T05:20:59.440795Z",
     "shell.execute_reply": "2021-03-22T05:20:59.441228Z"
    }
   },
   "outputs": [],
   "source": [
    "counties = dataJson[2]['dataValues'][:58]"
   ]
  },
  {
   "cell_type": "code",
   "execution_count": 7,
   "metadata": {
    "execution": {
     "iopub.execute_input": "2021-03-22T05:20:59.444543Z",
     "iopub.status.busy": "2021-03-22T05:20:59.444071Z",
     "iopub.status.idle": "2021-03-22T05:20:59.447399Z",
     "shell.execute_reply": "2021-03-22T05:20:59.446971Z"
    }
   },
   "outputs": [],
   "source": [
    "doses = dataJson[0]['dataValues'][3:61]"
   ]
  },
  {
   "cell_type": "markdown",
   "metadata": {},
   "source": [
    "Data formatting"
   ]
  },
  {
   "cell_type": "code",
   "execution_count": 8,
   "metadata": {
    "execution": {
     "iopub.execute_input": "2021-03-22T05:20:59.451131Z",
     "iopub.status.busy": "2021-03-22T05:20:59.450285Z",
     "iopub.status.idle": "2021-03-22T05:20:59.451982Z",
     "shell.execute_reply": "2021-03-22T05:20:59.452379Z"
    }
   },
   "outputs": [],
   "source": [
    "zipped = dict(zip(counties, doses))"
   ]
  },
  {
   "cell_type": "code",
   "execution_count": 9,
   "metadata": {
    "execution": {
     "iopub.execute_input": "2021-03-22T05:20:59.458373Z",
     "iopub.status.busy": "2021-03-22T05:20:59.457274Z",
     "iopub.status.idle": "2021-03-22T05:20:59.459000Z",
     "shell.execute_reply": "2021-03-22T05:20:59.459397Z"
    }
   },
   "outputs": [],
   "source": [
    "df = pd.Series(zipped).reset_index()"
   ]
  },
  {
   "cell_type": "code",
   "execution_count": 10,
   "metadata": {
    "execution": {
     "iopub.execute_input": "2021-03-22T05:20:59.463395Z",
     "iopub.status.busy": "2021-03-22T05:20:59.462490Z",
     "iopub.status.idle": "2021-03-22T05:20:59.464610Z",
     "shell.execute_reply": "2021-03-22T05:20:59.464223Z"
    }
   },
   "outputs": [],
   "source": [
    "df.columns = ['location','doses']"
   ]
  },
  {
   "cell_type": "markdown",
   "metadata": {},
   "source": [
    "Grab the overall California total"
   ]
  },
  {
   "cell_type": "code",
   "execution_count": 11,
   "metadata": {
    "execution": {
     "iopub.execute_input": "2021-03-22T05:20:59.468279Z",
     "iopub.status.busy": "2021-03-22T05:20:59.467437Z",
     "iopub.status.idle": "2021-03-22T05:20:59.469151Z",
     "shell.execute_reply": "2021-03-22T05:20:59.469546Z"
    }
   },
   "outputs": [],
   "source": [
    "add = {'location':'California','doses':dataJson[0]['dataValues'][2]}"
   ]
  },
  {
   "cell_type": "code",
   "execution_count": 12,
   "metadata": {
    "execution": {
     "iopub.execute_input": "2021-03-22T05:20:59.475985Z",
     "iopub.status.busy": "2021-03-22T05:20:59.474883Z",
     "iopub.status.idle": "2021-03-22T05:20:59.476580Z",
     "shell.execute_reply": "2021-03-22T05:20:59.477009Z"
    }
   },
   "outputs": [],
   "source": [
    "df = df.append(add, ignore_index=True)"
   ]
  },
  {
   "cell_type": "code",
   "execution_count": 13,
   "metadata": {
    "execution": {
     "iopub.execute_input": "2021-03-22T05:20:59.481836Z",
     "iopub.status.busy": "2021-03-22T05:20:59.480976Z",
     "iopub.status.idle": "2021-03-22T05:20:59.482719Z",
     "shell.execute_reply": "2021-03-22T05:20:59.483117Z"
    }
   },
   "outputs": [],
   "source": [
    "df = df.sort_values(by='location')"
   ]
  },
  {
   "cell_type": "code",
   "execution_count": 14,
   "metadata": {
    "execution": {
     "iopub.execute_input": "2021-03-22T05:20:59.488854Z",
     "iopub.status.busy": "2021-03-22T05:20:59.488013Z",
     "iopub.status.idle": "2021-03-22T05:20:59.489756Z",
     "shell.execute_reply": "2021-03-22T05:20:59.490160Z"
    }
   },
   "outputs": [],
   "source": [
    "df = df[df.location == 'California'].append(df[df.location != 'California']).reset_index(drop=True)"
   ]
  },
  {
   "cell_type": "code",
   "execution_count": null,
   "metadata": {},
   "outputs": [],
   "source": []
  },
  {
   "cell_type": "code",
   "execution_count": 15,
   "metadata": {
    "execution": {
     "iopub.execute_input": "2021-03-22T05:20:59.493335Z",
     "iopub.status.busy": "2021-03-22T05:20:59.492819Z",
     "iopub.status.idle": "2021-03-22T05:20:59.510068Z",
     "shell.execute_reply": "2021-03-22T05:20:59.509620Z"
    }
   },
   "outputs": [],
   "source": [
    "tz = pytz.timezone(\"America/New_York\")"
   ]
  },
  {
   "cell_type": "code",
   "execution_count": 16,
   "metadata": {
    "execution": {
     "iopub.execute_input": "2021-03-22T05:20:59.514053Z",
     "iopub.status.busy": "2021-03-22T05:20:59.512952Z",
     "iopub.status.idle": "2021-03-22T05:20:59.514639Z",
     "shell.execute_reply": "2021-03-22T05:20:59.515061Z"
    }
   },
   "outputs": [],
   "source": [
    "today = datetime.now(tz).date()"
   ]
  },
  {
   "cell_type": "code",
   "execution_count": 17,
   "metadata": {
    "execution": {
     "iopub.execute_input": "2021-03-22T05:20:59.519052Z",
     "iopub.status.busy": "2021-03-22T05:20:59.518035Z",
     "iopub.status.idle": "2021-03-22T05:20:59.519613Z",
     "shell.execute_reply": "2021-03-22T05:20:59.520010Z"
    }
   },
   "outputs": [],
   "source": [
    "data_dir = os.path.join(os.path.abspath(\"\"), \"data\")"
   ]
  },
  {
   "cell_type": "code",
   "execution_count": 18,
   "metadata": {
    "execution": {
     "iopub.execute_input": "2021-03-22T05:20:59.524124Z",
     "iopub.status.busy": "2021-03-22T05:20:59.523175Z",
     "iopub.status.idle": "2021-03-22T05:20:59.527521Z",
     "shell.execute_reply": "2021-03-22T05:20:59.527035Z"
    }
   },
   "outputs": [],
   "source": [
    "df.to_csv(os.path.join(data_dir, f\"{today}.csv\"), index=False)"
   ]
  },
  {
   "cell_type": "code",
   "execution_count": null,
   "metadata": {},
   "outputs": [],
   "source": []
  }
 ],
 "metadata": {
  "kernelspec": {
   "display_name": "Python 3",
   "language": "python",
   "name": "python3"
  },
  "language_info": {
   "codemirror_mode": {
    "name": "ipython",
    "version": 3
   },
   "file_extension": ".py",
   "mimetype": "text/x-python",
   "name": "python",
   "nbconvert_exporter": "python",
   "pygments_lexer": "ipython3",
   "version": "3.8.8"
  }
 },
 "nbformat": 4,
 "nbformat_minor": 4
}
