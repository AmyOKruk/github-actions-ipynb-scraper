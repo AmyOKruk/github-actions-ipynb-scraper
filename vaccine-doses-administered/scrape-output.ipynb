{
 "cells": [
  {
   "cell_type": "markdown",
   "metadata": {},
   "source": [
    "# California COVID vaccinations scrape"
   ]
  },
  {
   "cell_type": "markdown",
   "metadata": {},
   "source": [
    "By [Amy O'Kruk](https://twitter.com/amyokruk)"
   ]
  },
  {
   "cell_type": "markdown",
   "metadata": {},
   "source": [
    "Downloads data on vaccine doses administered by county and statewide from a Tableau-powered dashboard from the California Department of Public Health."
   ]
  },
  {
   "cell_type": "code",
   "execution_count": 1,
   "metadata": {
    "execution": {
     "iopub.execute_input": "2021-03-17T07:11:54.444803Z",
     "iopub.status.busy": "2021-03-17T07:11:54.444153Z",
     "iopub.status.idle": "2021-03-17T07:11:54.865526Z",
     "shell.execute_reply": "2021-03-17T07:11:54.864362Z"
    }
   },
   "outputs": [],
   "source": [
    "import pandas as pd\n",
    "import requests\n",
    "from bs4 import BeautifulSoup\n",
    "import json\n",
    "import re\n",
    "import time\n",
    "from time import gmtime, strftime \n",
    "import os\n",
    "import pytz\n",
    "from datetime import datetime"
   ]
  },
  {
   "cell_type": "markdown",
   "metadata": {},
   "source": [
    "Scrape the dashboard page"
   ]
  },
  {
   "cell_type": "code",
   "execution_count": 2,
   "metadata": {
    "execution": {
     "iopub.execute_input": "2021-03-17T07:11:54.871448Z",
     "iopub.status.busy": "2021-03-17T07:11:54.869008Z",
     "iopub.status.idle": "2021-03-17T07:11:55.310308Z",
     "shell.execute_reply": "2021-03-17T07:11:55.310749Z"
    }
   },
   "outputs": [],
   "source": [
    "url = \"https://public.tableau.com/interactive/views/COVID-19VaccineDashboardPublic/Vaccine?:embed=y&:showVizHome=n&:apiID=host0\"\n",
    "\n",
    "r = requests.get(url)\n",
    "soup = BeautifulSoup(r.text, \"html.parser\")"
   ]
  },
  {
   "cell_type": "code",
   "execution_count": 3,
   "metadata": {
    "execution": {
     "iopub.execute_input": "2021-03-17T07:11:55.315897Z",
     "iopub.status.busy": "2021-03-17T07:11:55.315348Z",
     "iopub.status.idle": "2021-03-17T07:11:55.318531Z",
     "shell.execute_reply": "2021-03-17T07:11:55.318051Z"
    }
   },
   "outputs": [],
   "source": [
    "tableauData = json.loads(soup.find(\"textarea\",{\"id\": \"tsConfigContainer\"}).text)"
   ]
  },
  {
   "cell_type": "markdown",
   "metadata": {},
   "source": [
    "Get the link to the Tableau data"
   ]
  },
  {
   "cell_type": "code",
   "execution_count": 4,
   "metadata": {
    "execution": {
     "iopub.execute_input": "2021-03-17T07:11:55.324044Z",
     "iopub.status.busy": "2021-03-17T07:11:55.322888Z",
     "iopub.status.idle": "2021-03-17T07:11:55.324622Z",
     "shell.execute_reply": "2021-03-17T07:11:55.325044Z"
    }
   },
   "outputs": [],
   "source": [
    "dataUrl = f'https://public.tableau.com{tableauData[\"vizql_root\"]}/bootstrapSession/sessions/{tableauData[\"sessionid\"]}'"
   ]
  },
  {
   "cell_type": "code",
   "execution_count": 5,
   "metadata": {
    "execution": {
     "iopub.execute_input": "2021-03-17T07:11:55.332431Z",
     "iopub.status.busy": "2021-03-17T07:11:55.331904Z",
     "iopub.status.idle": "2021-03-17T07:11:55.886534Z",
     "shell.execute_reply": "2021-03-17T07:11:55.885729Z"
    }
   },
   "outputs": [],
   "source": [
    "r = requests.post(dataUrl, data= {\n",
    "    \"sheet_id\": tableauData[\"sheetId\"],\n",
    "})\n",
    "\n",
    "dataReg = re.search('\\d+;({.*})\\d+;({.*})', r.text, re.MULTILINE)\n",
    "data1 = json.loads(dataReg.group(2))\n",
    "\n",
    "dataJson = data1[\"secondaryInfo\"][\"presModelMap\"][\"dataDictionary\"][\"presModelHolder\"][\"genDataDictionaryPresModel\"][\"dataSegments\"][\"0\"][\"dataColumns\"]"
   ]
  },
  {
   "cell_type": "markdown",
   "metadata": {},
   "source": [
    "Isolate what you want"
   ]
  },
  {
   "cell_type": "code",
   "execution_count": 6,
   "metadata": {
    "execution": {
     "iopub.execute_input": "2021-03-17T07:11:55.892442Z",
     "iopub.status.busy": "2021-03-17T07:11:55.891425Z",
     "iopub.status.idle": "2021-03-17T07:11:55.893970Z",
     "shell.execute_reply": "2021-03-17T07:11:55.893243Z"
    }
   },
   "outputs": [],
   "source": [
    "counties = dataJson[2]['dataValues'][:58]"
   ]
  },
  {
   "cell_type": "code",
   "execution_count": 7,
   "metadata": {
    "execution": {
     "iopub.execute_input": "2021-03-17T07:11:55.898390Z",
     "iopub.status.busy": "2021-03-17T07:11:55.897257Z",
     "iopub.status.idle": "2021-03-17T07:11:55.898954Z",
     "shell.execute_reply": "2021-03-17T07:11:55.899345Z"
    }
   },
   "outputs": [],
   "source": [
    "doses = dataJson[0]['dataValues'][3:61]"
   ]
  },
  {
   "cell_type": "markdown",
   "metadata": {},
   "source": [
    "Data formatting"
   ]
  },
  {
   "cell_type": "code",
   "execution_count": 8,
   "metadata": {
    "execution": {
     "iopub.execute_input": "2021-03-17T07:11:55.903636Z",
     "iopub.status.busy": "2021-03-17T07:11:55.902407Z",
     "iopub.status.idle": "2021-03-17T07:11:55.904244Z",
     "shell.execute_reply": "2021-03-17T07:11:55.904669Z"
    }
   },
   "outputs": [],
   "source": [
    "zipped = dict(zip(counties, doses))"
   ]
  },
  {
   "cell_type": "code",
   "execution_count": 9,
   "metadata": {
    "execution": {
     "iopub.execute_input": "2021-03-17T07:11:55.911343Z",
     "iopub.status.busy": "2021-03-17T07:11:55.910174Z",
     "iopub.status.idle": "2021-03-17T07:11:55.911945Z",
     "shell.execute_reply": "2021-03-17T07:11:55.912366Z"
    }
   },
   "outputs": [],
   "source": [
    "df = pd.Series(zipped).reset_index()"
   ]
  },
  {
   "cell_type": "code",
   "execution_count": 10,
   "metadata": {
    "execution": {
     "iopub.execute_input": "2021-03-17T07:11:55.916639Z",
     "iopub.status.busy": "2021-03-17T07:11:55.915470Z",
     "iopub.status.idle": "2021-03-17T07:11:55.917291Z",
     "shell.execute_reply": "2021-03-17T07:11:55.917712Z"
    }
   },
   "outputs": [],
   "source": [
    "df.columns = ['location','doses']"
   ]
  },
  {
   "cell_type": "markdown",
   "metadata": {},
   "source": [
    "Grab the overall California total"
   ]
  },
  {
   "cell_type": "code",
   "execution_count": 11,
   "metadata": {
    "execution": {
     "iopub.execute_input": "2021-03-17T07:11:55.921893Z",
     "iopub.status.busy": "2021-03-17T07:11:55.920803Z",
     "iopub.status.idle": "2021-03-17T07:11:55.922551Z",
     "shell.execute_reply": "2021-03-17T07:11:55.922965Z"
    }
   },
   "outputs": [],
   "source": [
    "add = {'location':'California','doses':dataJson[0]['dataValues'][2]}"
   ]
  },
  {
   "cell_type": "code",
   "execution_count": 12,
   "metadata": {
    "execution": {
     "iopub.execute_input": "2021-03-17T07:11:55.929724Z",
     "iopub.status.busy": "2021-03-17T07:11:55.928604Z",
     "iopub.status.idle": "2021-03-17T07:11:55.930341Z",
     "shell.execute_reply": "2021-03-17T07:11:55.930768Z"
    }
   },
   "outputs": [],
   "source": [
    "df = df.append(add, ignore_index=True)"
   ]
  },
  {
   "cell_type": "code",
   "execution_count": 13,
   "metadata": {
    "execution": {
     "iopub.execute_input": "2021-03-17T07:11:55.935620Z",
     "iopub.status.busy": "2021-03-17T07:11:55.934490Z",
     "iopub.status.idle": "2021-03-17T07:11:55.936294Z",
     "shell.execute_reply": "2021-03-17T07:11:55.936732Z"
    }
   },
   "outputs": [],
   "source": [
    "df = df.sort_values(by='location')"
   ]
  },
  {
   "cell_type": "code",
   "execution_count": 14,
   "metadata": {
    "execution": {
     "iopub.execute_input": "2021-03-17T07:11:55.943413Z",
     "iopub.status.busy": "2021-03-17T07:11:55.942220Z",
     "iopub.status.idle": "2021-03-17T07:11:55.944065Z",
     "shell.execute_reply": "2021-03-17T07:11:55.944487Z"
    }
   },
   "outputs": [],
   "source": [
    "df = df[df.location == 'California'].append(df[df.location != 'California']).reset_index(drop=True)"
   ]
  },
  {
   "cell_type": "code",
   "execution_count": null,
   "metadata": {},
   "outputs": [],
   "source": []
  },
  {
   "cell_type": "code",
   "execution_count": 15,
   "metadata": {
    "execution": {
     "iopub.execute_input": "2021-03-17T07:11:55.947843Z",
     "iopub.status.busy": "2021-03-17T07:11:55.947372Z",
     "iopub.status.idle": "2021-03-17T07:11:55.964429Z",
     "shell.execute_reply": "2021-03-17T07:11:55.963913Z"
    }
   },
   "outputs": [],
   "source": [
    "tz = pytz.timezone(\"America/New_York\")"
   ]
  },
  {
   "cell_type": "code",
   "execution_count": 16,
   "metadata": {
    "execution": {
     "iopub.execute_input": "2021-03-17T07:11:55.968636Z",
     "iopub.status.busy": "2021-03-17T07:11:55.967432Z",
     "iopub.status.idle": "2021-03-17T07:11:55.969291Z",
     "shell.execute_reply": "2021-03-17T07:11:55.969728Z"
    }
   },
   "outputs": [],
   "source": [
    "today = datetime.now(tz).date()"
   ]
  },
  {
   "cell_type": "code",
   "execution_count": 17,
   "metadata": {
    "execution": {
     "iopub.execute_input": "2021-03-17T07:11:55.974893Z",
     "iopub.status.busy": "2021-03-17T07:11:55.974355Z",
     "iopub.status.idle": "2021-03-17T07:11:55.976866Z",
     "shell.execute_reply": "2021-03-17T07:11:55.976445Z"
    }
   },
   "outputs": [],
   "source": [
    "data_dir = os.path.join(os.path.abspath(\"\"), \"data\")"
   ]
  },
  {
   "cell_type": "code",
   "execution_count": 18,
   "metadata": {
    "execution": {
     "iopub.execute_input": "2021-03-17T07:11:55.981056Z",
     "iopub.status.busy": "2021-03-17T07:11:55.979939Z",
     "iopub.status.idle": "2021-03-17T07:11:55.984665Z",
     "shell.execute_reply": "2021-03-17T07:11:55.984235Z"
    }
   },
   "outputs": [],
   "source": [
    "df.to_csv(os.path.join(data_dir, f\"{today}.csv\"), index=False)"
   ]
  },
  {
   "cell_type": "code",
   "execution_count": null,
   "metadata": {},
   "outputs": [],
   "source": []
  }
 ],
 "metadata": {
  "kernelspec": {
   "display_name": "Python 3",
   "language": "python",
   "name": "python3"
  },
  "language_info": {
   "codemirror_mode": {
    "name": "ipython",
    "version": 3
   },
   "file_extension": ".py",
   "mimetype": "text/x-python",
   "name": "python",
   "nbconvert_exporter": "python",
   "pygments_lexer": "ipython3",
   "version": "3.8.8"
  }
 },
 "nbformat": 4,
 "nbformat_minor": 4
}
