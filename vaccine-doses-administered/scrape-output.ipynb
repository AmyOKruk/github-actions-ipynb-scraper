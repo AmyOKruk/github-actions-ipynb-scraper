{
 "cells": [
  {
   "cell_type": "markdown",
   "metadata": {},
   "source": [
    "# California COVID vaccinations scrape"
   ]
  },
  {
   "cell_type": "markdown",
   "metadata": {},
   "source": [
    "By [Amy O'Kruk](https://twitter.com/amyokruk)"
   ]
  },
  {
   "cell_type": "markdown",
   "metadata": {},
   "source": [
    "Downloads data on vaccine doses administered by county and statewide from a Tableau-powered dashboard from the California Department of Public Health."
   ]
  },
  {
   "cell_type": "code",
   "execution_count": 1,
   "metadata": {
    "execution": {
     "iopub.execute_input": "2021-03-20T13:16:15.714009Z",
     "iopub.status.busy": "2021-03-20T13:16:15.713320Z",
     "iopub.status.idle": "2021-03-20T13:16:16.120058Z",
     "shell.execute_reply": "2021-03-20T13:16:16.119083Z"
    }
   },
   "outputs": [],
   "source": [
    "import pandas as pd\n",
    "import requests\n",
    "from bs4 import BeautifulSoup\n",
    "import json\n",
    "import re\n",
    "import time\n",
    "from time import gmtime, strftime \n",
    "import os\n",
    "import pytz\n",
    "from datetime import datetime"
   ]
  },
  {
   "cell_type": "markdown",
   "metadata": {},
   "source": [
    "Scrape the dashboard page"
   ]
  },
  {
   "cell_type": "code",
   "execution_count": 2,
   "metadata": {
    "execution": {
     "iopub.execute_input": "2021-03-20T13:16:16.126189Z",
     "iopub.status.busy": "2021-03-20T13:16:16.123799Z",
     "iopub.status.idle": "2021-03-20T13:16:16.447646Z",
     "shell.execute_reply": "2021-03-20T13:16:16.448416Z"
    }
   },
   "outputs": [],
   "source": [
    "url = \"https://public.tableau.com/interactive/views/COVID-19VaccineDashboardPublic/Vaccine?:embed=y&:showVizHome=n&:apiID=host0\"\n",
    "\n",
    "r = requests.get(url)\n",
    "soup = BeautifulSoup(r.text, \"html.parser\")"
   ]
  },
  {
   "cell_type": "code",
   "execution_count": 3,
   "metadata": {
    "execution": {
     "iopub.execute_input": "2021-03-20T13:16:16.452721Z",
     "iopub.status.busy": "2021-03-20T13:16:16.452252Z",
     "iopub.status.idle": "2021-03-20T13:16:16.455469Z",
     "shell.execute_reply": "2021-03-20T13:16:16.455844Z"
    }
   },
   "outputs": [],
   "source": [
    "tableauData = json.loads(soup.find(\"textarea\",{\"id\": \"tsConfigContainer\"}).text)"
   ]
  },
  {
   "cell_type": "markdown",
   "metadata": {},
   "source": [
    "Get the link to the Tableau data"
   ]
  },
  {
   "cell_type": "code",
   "execution_count": 4,
   "metadata": {
    "execution": {
     "iopub.execute_input": "2021-03-20T13:16:16.459863Z",
     "iopub.status.busy": "2021-03-20T13:16:16.458857Z",
     "iopub.status.idle": "2021-03-20T13:16:16.460796Z",
     "shell.execute_reply": "2021-03-20T13:16:16.461190Z"
    }
   },
   "outputs": [],
   "source": [
    "dataUrl = f'https://public.tableau.com{tableauData[\"vizql_root\"]}/bootstrapSession/sessions/{tableauData[\"sessionid\"]}'"
   ]
  },
  {
   "cell_type": "code",
   "execution_count": 5,
   "metadata": {
    "execution": {
     "iopub.execute_input": "2021-03-20T13:16:16.467892Z",
     "iopub.status.busy": "2021-03-20T13:16:16.467365Z",
     "iopub.status.idle": "2021-03-20T13:16:16.585057Z",
     "shell.execute_reply": "2021-03-20T13:16:16.585433Z"
    }
   },
   "outputs": [],
   "source": [
    "r = requests.post(dataUrl, data= {\n",
    "    \"sheet_id\": tableauData[\"sheetId\"],\n",
    "})\n",
    "\n",
    "dataReg = re.search('\\d+;({.*})\\d+;({.*})', r.text, re.MULTILINE)\n",
    "data1 = json.loads(dataReg.group(2))\n",
    "\n",
    "dataJson = data1[\"secondaryInfo\"][\"presModelMap\"][\"dataDictionary\"][\"presModelHolder\"][\"genDataDictionaryPresModel\"][\"dataSegments\"][\"0\"][\"dataColumns\"]"
   ]
  },
  {
   "cell_type": "markdown",
   "metadata": {},
   "source": [
    "Isolate what you want"
   ]
  },
  {
   "cell_type": "code",
   "execution_count": 6,
   "metadata": {
    "execution": {
     "iopub.execute_input": "2021-03-20T13:16:16.589931Z",
     "iopub.status.busy": "2021-03-20T13:16:16.588919Z",
     "iopub.status.idle": "2021-03-20T13:16:16.590928Z",
     "shell.execute_reply": "2021-03-20T13:16:16.591363Z"
    }
   },
   "outputs": [],
   "source": [
    "counties = dataJson[2]['dataValues'][:58]"
   ]
  },
  {
   "cell_type": "code",
   "execution_count": 7,
   "metadata": {
    "execution": {
     "iopub.execute_input": "2021-03-20T13:16:16.595299Z",
     "iopub.status.busy": "2021-03-20T13:16:16.594161Z",
     "iopub.status.idle": "2021-03-20T13:16:16.596103Z",
     "shell.execute_reply": "2021-03-20T13:16:16.596511Z"
    }
   },
   "outputs": [],
   "source": [
    "doses = dataJson[0]['dataValues'][3:61]"
   ]
  },
  {
   "cell_type": "markdown",
   "metadata": {},
   "source": [
    "Data formatting"
   ]
  },
  {
   "cell_type": "code",
   "execution_count": 8,
   "metadata": {
    "execution": {
     "iopub.execute_input": "2021-03-20T13:16:16.600409Z",
     "iopub.status.busy": "2021-03-20T13:16:16.599217Z",
     "iopub.status.idle": "2021-03-20T13:16:16.601186Z",
     "shell.execute_reply": "2021-03-20T13:16:16.601579Z"
    }
   },
   "outputs": [],
   "source": [
    "zipped = dict(zip(counties, doses))"
   ]
  },
  {
   "cell_type": "code",
   "execution_count": 9,
   "metadata": {
    "execution": {
     "iopub.execute_input": "2021-03-20T13:16:16.607257Z",
     "iopub.status.busy": "2021-03-20T13:16:16.606748Z",
     "iopub.status.idle": "2021-03-20T13:16:16.608742Z",
     "shell.execute_reply": "2021-03-20T13:16:16.609106Z"
    }
   },
   "outputs": [],
   "source": [
    "df = pd.Series(zipped).reset_index()"
   ]
  },
  {
   "cell_type": "code",
   "execution_count": 10,
   "metadata": {
    "execution": {
     "iopub.execute_input": "2021-03-20T13:16:16.612981Z",
     "iopub.status.busy": "2021-03-20T13:16:16.612143Z",
     "iopub.status.idle": "2021-03-20T13:16:16.613863Z",
     "shell.execute_reply": "2021-03-20T13:16:16.614283Z"
    }
   },
   "outputs": [],
   "source": [
    "df.columns = ['location','doses']"
   ]
  },
  {
   "cell_type": "markdown",
   "metadata": {},
   "source": [
    "Grab the overall California total"
   ]
  },
  {
   "cell_type": "code",
   "execution_count": 11,
   "metadata": {
    "execution": {
     "iopub.execute_input": "2021-03-20T13:16:16.618128Z",
     "iopub.status.busy": "2021-03-20T13:16:16.617127Z",
     "iopub.status.idle": "2021-03-20T13:16:16.619359Z",
     "shell.execute_reply": "2021-03-20T13:16:16.619950Z"
    }
   },
   "outputs": [],
   "source": [
    "add = {'location':'California','doses':dataJson[0]['dataValues'][2]}"
   ]
  },
  {
   "cell_type": "code",
   "execution_count": 12,
   "metadata": {
    "execution": {
     "iopub.execute_input": "2021-03-20T13:16:16.627439Z",
     "iopub.status.busy": "2021-03-20T13:16:16.626143Z",
     "iopub.status.idle": "2021-03-20T13:16:16.627998Z",
     "shell.execute_reply": "2021-03-20T13:16:16.628389Z"
    }
   },
   "outputs": [],
   "source": [
    "df = df.append(add, ignore_index=True)"
   ]
  },
  {
   "cell_type": "code",
   "execution_count": 13,
   "metadata": {
    "execution": {
     "iopub.execute_input": "2021-03-20T13:16:16.632975Z",
     "iopub.status.busy": "2021-03-20T13:16:16.632088Z",
     "iopub.status.idle": "2021-03-20T13:16:16.633819Z",
     "shell.execute_reply": "2021-03-20T13:16:16.634239Z"
    }
   },
   "outputs": [],
   "source": [
    "df = df.sort_values(by='location')"
   ]
  },
  {
   "cell_type": "code",
   "execution_count": 14,
   "metadata": {
    "execution": {
     "iopub.execute_input": "2021-03-20T13:16:16.641291Z",
     "iopub.status.busy": "2021-03-20T13:16:16.640054Z",
     "iopub.status.idle": "2021-03-20T13:16:16.641866Z",
     "shell.execute_reply": "2021-03-20T13:16:16.642258Z"
    }
   },
   "outputs": [],
   "source": [
    "df = df[df.location == 'California'].append(df[df.location != 'California']).reset_index(drop=True)"
   ]
  },
  {
   "cell_type": "code",
   "execution_count": null,
   "metadata": {},
   "outputs": [],
   "source": []
  },
  {
   "cell_type": "code",
   "execution_count": 15,
   "metadata": {
    "execution": {
     "iopub.execute_input": "2021-03-20T13:16:16.646451Z",
     "iopub.status.busy": "2021-03-20T13:16:16.645890Z",
     "iopub.status.idle": "2021-03-20T13:16:16.664221Z",
     "shell.execute_reply": "2021-03-20T13:16:16.664629Z"
    }
   },
   "outputs": [],
   "source": [
    "tz = pytz.timezone(\"America/New_York\")"
   ]
  },
  {
   "cell_type": "code",
   "execution_count": 16,
   "metadata": {
    "execution": {
     "iopub.execute_input": "2021-03-20T13:16:16.669481Z",
     "iopub.status.busy": "2021-03-20T13:16:16.668048Z",
     "iopub.status.idle": "2021-03-20T13:16:16.670243Z",
     "shell.execute_reply": "2021-03-20T13:16:16.670896Z"
    }
   },
   "outputs": [],
   "source": [
    "today = datetime.now(tz).date()"
   ]
  },
  {
   "cell_type": "code",
   "execution_count": 17,
   "metadata": {
    "execution": {
     "iopub.execute_input": "2021-03-20T13:16:16.676328Z",
     "iopub.status.busy": "2021-03-20T13:16:16.674568Z",
     "iopub.status.idle": "2021-03-20T13:16:16.676915Z",
     "shell.execute_reply": "2021-03-20T13:16:16.677329Z"
    }
   },
   "outputs": [],
   "source": [
    "data_dir = os.path.join(os.path.abspath(\"\"), \"data\")"
   ]
  },
  {
   "cell_type": "code",
   "execution_count": 18,
   "metadata": {
    "execution": {
     "iopub.execute_input": "2021-03-20T13:16:16.681711Z",
     "iopub.status.busy": "2021-03-20T13:16:16.680435Z",
     "iopub.status.idle": "2021-03-20T13:16:16.684643Z",
     "shell.execute_reply": "2021-03-20T13:16:16.685027Z"
    }
   },
   "outputs": [],
   "source": [
    "df.to_csv(os.path.join(data_dir, f\"{today}.csv\"), index=False)"
   ]
  },
  {
   "cell_type": "code",
   "execution_count": null,
   "metadata": {},
   "outputs": [],
   "source": []
  }
 ],
 "metadata": {
  "kernelspec": {
   "display_name": "Python 3",
   "language": "python",
   "name": "python3"
  },
  "language_info": {
   "codemirror_mode": {
    "name": "ipython",
    "version": 3
   },
   "file_extension": ".py",
   "mimetype": "text/x-python",
   "name": "python",
   "nbconvert_exporter": "python",
   "pygments_lexer": "ipython3",
   "version": "3.8.8"
  }
 },
 "nbformat": 4,
 "nbformat_minor": 4
}
