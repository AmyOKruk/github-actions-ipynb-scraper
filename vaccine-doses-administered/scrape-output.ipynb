{
 "cells": [
  {
   "cell_type": "markdown",
   "metadata": {},
   "source": [
    "# California COVID vaccinations scrape"
   ]
  },
  {
   "cell_type": "markdown",
   "metadata": {},
   "source": [
    "By [Amy O'Kruk](https://twitter.com/amyokruk)"
   ]
  },
  {
   "cell_type": "markdown",
   "metadata": {},
   "source": [
    "Downloads data on vaccine doses administered by county and statewide from a Tableau-powered dashboard from the California Department of Public Health."
   ]
  },
  {
   "cell_type": "code",
   "execution_count": 1,
   "metadata": {
    "execution": {
     "iopub.execute_input": "2021-03-11T12:54:31.791618Z",
     "iopub.status.busy": "2021-03-11T12:54:31.791062Z",
     "iopub.status.idle": "2021-03-11T12:54:32.113950Z",
     "shell.execute_reply": "2021-03-11T12:54:32.112943Z"
    }
   },
   "outputs": [],
   "source": [
    "import pandas as pd\n",
    "import requests\n",
    "from bs4 import BeautifulSoup\n",
    "import json\n",
    "import re\n",
    "import time\n",
    "from time import gmtime, strftime \n",
    "import os\n",
    "import pytz\n",
    "from datetime import datetime"
   ]
  },
  {
   "cell_type": "markdown",
   "metadata": {},
   "source": [
    "Scrape the dashboard page"
   ]
  },
  {
   "cell_type": "code",
   "execution_count": 2,
   "metadata": {
    "execution": {
     "iopub.execute_input": "2021-03-11T12:54:32.119367Z",
     "iopub.status.busy": "2021-03-11T12:54:32.117358Z",
     "iopub.status.idle": "2021-03-11T12:54:32.370393Z",
     "shell.execute_reply": "2021-03-11T12:54:32.369372Z"
    }
   },
   "outputs": [],
   "source": [
    "url = \"https://public.tableau.com/interactive/views/COVID-19VaccineDashboardPublic/Vaccine?:embed=y&:showVizHome=n&:apiID=host0\"\n",
    "\n",
    "r = requests.get(url)\n",
    "soup = BeautifulSoup(r.text, \"html.parser\")"
   ]
  },
  {
   "cell_type": "code",
   "execution_count": 3,
   "metadata": {
    "execution": {
     "iopub.execute_input": "2021-03-11T12:54:32.374927Z",
     "iopub.status.busy": "2021-03-11T12:54:32.374487Z",
     "iopub.status.idle": "2021-03-11T12:54:32.377241Z",
     "shell.execute_reply": "2021-03-11T12:54:32.376389Z"
    }
   },
   "outputs": [],
   "source": [
    "tableauData = json.loads(soup.find(\"textarea\",{\"id\": \"tsConfigContainer\"}).text)"
   ]
  },
  {
   "cell_type": "markdown",
   "metadata": {},
   "source": [
    "Get the link to the Tableau data"
   ]
  },
  {
   "cell_type": "code",
   "execution_count": 4,
   "metadata": {
    "execution": {
     "iopub.execute_input": "2021-03-11T12:54:32.380409Z",
     "iopub.status.busy": "2021-03-11T12:54:32.379891Z",
     "iopub.status.idle": "2021-03-11T12:54:32.382964Z",
     "shell.execute_reply": "2021-03-11T12:54:32.382605Z"
    }
   },
   "outputs": [],
   "source": [
    "dataUrl = f'https://public.tableau.com{tableauData[\"vizql_root\"]}/bootstrapSession/sessions/{tableauData[\"sessionid\"]}'"
   ]
  },
  {
   "cell_type": "code",
   "execution_count": 5,
   "metadata": {
    "execution": {
     "iopub.execute_input": "2021-03-11T12:54:32.388441Z",
     "iopub.status.busy": "2021-03-11T12:54:32.387647Z",
     "iopub.status.idle": "2021-03-11T12:54:32.866767Z",
     "shell.execute_reply": "2021-03-11T12:54:32.866301Z"
    }
   },
   "outputs": [],
   "source": [
    "r = requests.post(dataUrl, data= {\n",
    "    \"sheet_id\": tableauData[\"sheetId\"],\n",
    "})\n",
    "\n",
    "dataReg = re.search('\\d+;({.*})\\d+;({.*})', r.text, re.MULTILINE)\n",
    "data1 = json.loads(dataReg.group(2))\n",
    "\n",
    "dataJson = data1[\"secondaryInfo\"][\"presModelMap\"][\"dataDictionary\"][\"presModelHolder\"][\"genDataDictionaryPresModel\"][\"dataSegments\"][\"0\"][\"dataColumns\"]"
   ]
  },
  {
   "cell_type": "markdown",
   "metadata": {},
   "source": [
    "Isolate what you want"
   ]
  },
  {
   "cell_type": "code",
   "execution_count": 6,
   "metadata": {
    "execution": {
     "iopub.execute_input": "2021-03-11T12:54:32.871995Z",
     "iopub.status.busy": "2021-03-11T12:54:32.871513Z",
     "iopub.status.idle": "2021-03-11T12:54:32.874738Z",
     "shell.execute_reply": "2021-03-11T12:54:32.874124Z"
    }
   },
   "outputs": [],
   "source": [
    "counties = dataJson[2]['dataValues'][:58]"
   ]
  },
  {
   "cell_type": "code",
   "execution_count": 7,
   "metadata": {
    "execution": {
     "iopub.execute_input": "2021-03-11T12:54:32.878759Z",
     "iopub.status.busy": "2021-03-11T12:54:32.877595Z",
     "iopub.status.idle": "2021-03-11T12:54:32.879264Z",
     "shell.execute_reply": "2021-03-11T12:54:32.879675Z"
    }
   },
   "outputs": [],
   "source": [
    "doses = dataJson[0]['dataValues'][3:61]"
   ]
  },
  {
   "cell_type": "markdown",
   "metadata": {},
   "source": [
    "Data formatting"
   ]
  },
  {
   "cell_type": "code",
   "execution_count": 8,
   "metadata": {
    "execution": {
     "iopub.execute_input": "2021-03-11T12:54:32.883218Z",
     "iopub.status.busy": "2021-03-11T12:54:32.882421Z",
     "iopub.status.idle": "2021-03-11T12:54:32.884476Z",
     "shell.execute_reply": "2021-03-11T12:54:32.884074Z"
    }
   },
   "outputs": [],
   "source": [
    "zipped = dict(zip(counties, doses))"
   ]
  },
  {
   "cell_type": "code",
   "execution_count": 9,
   "metadata": {
    "execution": {
     "iopub.execute_input": "2021-03-11T12:54:32.889930Z",
     "iopub.status.busy": "2021-03-11T12:54:32.889123Z",
     "iopub.status.idle": "2021-03-11T12:54:32.890751Z",
     "shell.execute_reply": "2021-03-11T12:54:32.891108Z"
    }
   },
   "outputs": [],
   "source": [
    "df = pd.Series(zipped).reset_index()"
   ]
  },
  {
   "cell_type": "code",
   "execution_count": 10,
   "metadata": {
    "execution": {
     "iopub.execute_input": "2021-03-11T12:54:32.895161Z",
     "iopub.status.busy": "2021-03-11T12:54:32.894109Z",
     "iopub.status.idle": "2021-03-11T12:54:32.895719Z",
     "shell.execute_reply": "2021-03-11T12:54:32.896119Z"
    }
   },
   "outputs": [],
   "source": [
    "df.columns = ['location','doses']"
   ]
  },
  {
   "cell_type": "markdown",
   "metadata": {},
   "source": [
    "Grab the overall California total"
   ]
  },
  {
   "cell_type": "code",
   "execution_count": 11,
   "metadata": {
    "execution": {
     "iopub.execute_input": "2021-03-11T12:54:32.899652Z",
     "iopub.status.busy": "2021-03-11T12:54:32.898849Z",
     "iopub.status.idle": "2021-03-11T12:54:32.900907Z",
     "shell.execute_reply": "2021-03-11T12:54:32.900520Z"
    }
   },
   "outputs": [],
   "source": [
    "add = {'location':'California','doses':dataJson[0]['dataValues'][2]}"
   ]
  },
  {
   "cell_type": "code",
   "execution_count": 12,
   "metadata": {
    "execution": {
     "iopub.execute_input": "2021-03-11T12:54:32.907388Z",
     "iopub.status.busy": "2021-03-11T12:54:32.906162Z",
     "iopub.status.idle": "2021-03-11T12:54:32.908065Z",
     "shell.execute_reply": "2021-03-11T12:54:32.908530Z"
    }
   },
   "outputs": [],
   "source": [
    "df = df.append(add, ignore_index=True)"
   ]
  },
  {
   "cell_type": "code",
   "execution_count": 13,
   "metadata": {
    "execution": {
     "iopub.execute_input": "2021-03-11T12:54:32.913618Z",
     "iopub.status.busy": "2021-03-11T12:54:32.912322Z",
     "iopub.status.idle": "2021-03-11T12:54:32.914191Z",
     "shell.execute_reply": "2021-03-11T12:54:32.914629Z"
    }
   },
   "outputs": [],
   "source": [
    "df = df.sort_values(by='location')"
   ]
  },
  {
   "cell_type": "code",
   "execution_count": 14,
   "metadata": {
    "execution": {
     "iopub.execute_input": "2021-03-11T12:54:32.920939Z",
     "iopub.status.busy": "2021-03-11T12:54:32.919746Z",
     "iopub.status.idle": "2021-03-11T12:54:32.921586Z",
     "shell.execute_reply": "2021-03-11T12:54:32.922224Z"
    }
   },
   "outputs": [],
   "source": [
    "df = df[df.location == 'California'].append(df[df.location != 'California']).reset_index(drop=True)"
   ]
  },
  {
   "cell_type": "code",
   "execution_count": null,
   "metadata": {},
   "outputs": [],
   "source": []
  },
  {
   "cell_type": "code",
   "execution_count": 15,
   "metadata": {
    "execution": {
     "iopub.execute_input": "2021-03-11T12:54:32.925632Z",
     "iopub.status.busy": "2021-03-11T12:54:32.925211Z",
     "iopub.status.idle": "2021-03-11T12:54:32.940635Z",
     "shell.execute_reply": "2021-03-11T12:54:32.940077Z"
    }
   },
   "outputs": [],
   "source": [
    "tz = pytz.timezone(\"America/New_York\")"
   ]
  },
  {
   "cell_type": "code",
   "execution_count": 16,
   "metadata": {
    "execution": {
     "iopub.execute_input": "2021-03-11T12:54:32.944575Z",
     "iopub.status.busy": "2021-03-11T12:54:32.943478Z",
     "iopub.status.idle": "2021-03-11T12:54:32.945148Z",
     "shell.execute_reply": "2021-03-11T12:54:32.945557Z"
    }
   },
   "outputs": [],
   "source": [
    "today = datetime.now(tz).date()"
   ]
  },
  {
   "cell_type": "code",
   "execution_count": 17,
   "metadata": {
    "execution": {
     "iopub.execute_input": "2021-03-11T12:54:32.949730Z",
     "iopub.status.busy": "2021-03-11T12:54:32.948650Z",
     "iopub.status.idle": "2021-03-11T12:54:32.950335Z",
     "shell.execute_reply": "2021-03-11T12:54:32.950752Z"
    }
   },
   "outputs": [],
   "source": [
    "data_dir = os.path.join(os.path.abspath(\"\"), \"data\")"
   ]
  },
  {
   "cell_type": "code",
   "execution_count": 18,
   "metadata": {
    "execution": {
     "iopub.execute_input": "2021-03-11T12:54:32.954857Z",
     "iopub.status.busy": "2021-03-11T12:54:32.953815Z",
     "iopub.status.idle": "2021-03-11T12:54:32.958039Z",
     "shell.execute_reply": "2021-03-11T12:54:32.957627Z"
    }
   },
   "outputs": [],
   "source": [
    "df.to_csv(os.path.join(data_dir, f\"{today}.csv\"), index=False)"
   ]
  },
  {
   "cell_type": "code",
   "execution_count": null,
   "metadata": {},
   "outputs": [],
   "source": []
  }
 ],
 "metadata": {
  "kernelspec": {
   "display_name": "Python 3",
   "language": "python",
   "name": "python3"
  },
  "language_info": {
   "codemirror_mode": {
    "name": "ipython",
    "version": 3
   },
   "file_extension": ".py",
   "mimetype": "text/x-python",
   "name": "python",
   "nbconvert_exporter": "python",
   "pygments_lexer": "ipython3",
   "version": "3.8.8"
  }
 },
 "nbformat": 4,
 "nbformat_minor": 4
}
