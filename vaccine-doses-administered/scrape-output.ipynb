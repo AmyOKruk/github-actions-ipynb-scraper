{
 "cells": [
  {
   "cell_type": "markdown",
   "metadata": {},
   "source": [
    "# California COVID vaccinations scrape"
   ]
  },
  {
   "cell_type": "markdown",
   "metadata": {},
   "source": [
    "By [Amy O'Kruk](https://twitter.com/amyokruk)"
   ]
  },
  {
   "cell_type": "markdown",
   "metadata": {},
   "source": [
    "Downloads data on vaccine doses administered by county and statewide from a Tableau-powered dashboard from the California Department of Public Health."
   ]
  },
  {
   "cell_type": "code",
   "execution_count": 1,
   "metadata": {
    "execution": {
     "iopub.execute_input": "2021-03-18T06:14:24.170999Z",
     "iopub.status.busy": "2021-03-18T06:14:24.170454Z",
     "iopub.status.idle": "2021-03-18T06:14:24.488997Z",
     "shell.execute_reply": "2021-03-18T06:14:24.488132Z"
    }
   },
   "outputs": [],
   "source": [
    "import pandas as pd\n",
    "import requests\n",
    "from bs4 import BeautifulSoup\n",
    "import json\n",
    "import re\n",
    "import time\n",
    "from time import gmtime, strftime \n",
    "import os\n",
    "import pytz\n",
    "from datetime import datetime"
   ]
  },
  {
   "cell_type": "markdown",
   "metadata": {},
   "source": [
    "Scrape the dashboard page"
   ]
  },
  {
   "cell_type": "code",
   "execution_count": 2,
   "metadata": {
    "execution": {
     "iopub.execute_input": "2021-03-18T06:14:24.494765Z",
     "iopub.status.busy": "2021-03-18T06:14:24.492116Z",
     "iopub.status.idle": "2021-03-18T06:14:25.070914Z",
     "shell.execute_reply": "2021-03-18T06:14:25.070166Z"
    }
   },
   "outputs": [],
   "source": [
    "url = \"https://public.tableau.com/interactive/views/COVID-19VaccineDashboardPublic/Vaccine?:embed=y&:showVizHome=n&:apiID=host0\"\n",
    "\n",
    "r = requests.get(url)\n",
    "soup = BeautifulSoup(r.text, \"html.parser\")"
   ]
  },
  {
   "cell_type": "code",
   "execution_count": 3,
   "metadata": {
    "execution": {
     "iopub.execute_input": "2021-03-18T06:14:25.075256Z",
     "iopub.status.busy": "2021-03-18T06:14:25.074804Z",
     "iopub.status.idle": "2021-03-18T06:14:25.077980Z",
     "shell.execute_reply": "2021-03-18T06:14:25.077554Z"
    }
   },
   "outputs": [],
   "source": [
    "tableauData = json.loads(soup.find(\"textarea\",{\"id\": \"tsConfigContainer\"}).text)"
   ]
  },
  {
   "cell_type": "markdown",
   "metadata": {},
   "source": [
    "Get the link to the Tableau data"
   ]
  },
  {
   "cell_type": "code",
   "execution_count": 4,
   "metadata": {
    "execution": {
     "iopub.execute_input": "2021-03-18T06:14:25.081196Z",
     "iopub.status.busy": "2021-03-18T06:14:25.080757Z",
     "iopub.status.idle": "2021-03-18T06:14:25.083720Z",
     "shell.execute_reply": "2021-03-18T06:14:25.083349Z"
    }
   },
   "outputs": [],
   "source": [
    "dataUrl = f'https://public.tableau.com{tableauData[\"vizql_root\"]}/bootstrapSession/sessions/{tableauData[\"sessionid\"]}'"
   ]
  },
  {
   "cell_type": "code",
   "execution_count": 5,
   "metadata": {
    "execution": {
     "iopub.execute_input": "2021-03-18T06:14:25.089378Z",
     "iopub.status.busy": "2021-03-18T06:14:25.088936Z",
     "iopub.status.idle": "2021-03-18T06:14:25.598130Z",
     "shell.execute_reply": "2021-03-18T06:14:25.597182Z"
    }
   },
   "outputs": [],
   "source": [
    "r = requests.post(dataUrl, data= {\n",
    "    \"sheet_id\": tableauData[\"sheetId\"],\n",
    "})\n",
    "\n",
    "dataReg = re.search('\\d+;({.*})\\d+;({.*})', r.text, re.MULTILINE)\n",
    "data1 = json.loads(dataReg.group(2))\n",
    "\n",
    "dataJson = data1[\"secondaryInfo\"][\"presModelMap\"][\"dataDictionary\"][\"presModelHolder\"][\"genDataDictionaryPresModel\"][\"dataSegments\"][\"0\"][\"dataColumns\"]"
   ]
  },
  {
   "cell_type": "markdown",
   "metadata": {},
   "source": [
    "Isolate what you want"
   ]
  },
  {
   "cell_type": "code",
   "execution_count": 6,
   "metadata": {
    "execution": {
     "iopub.execute_input": "2021-03-18T06:14:25.601308Z",
     "iopub.status.busy": "2021-03-18T06:14:25.600855Z",
     "iopub.status.idle": "2021-03-18T06:14:25.603834Z",
     "shell.execute_reply": "2021-03-18T06:14:25.603448Z"
    }
   },
   "outputs": [],
   "source": [
    "counties = dataJson[2]['dataValues'][:58]"
   ]
  },
  {
   "cell_type": "code",
   "execution_count": 7,
   "metadata": {
    "execution": {
     "iopub.execute_input": "2021-03-18T06:14:25.606892Z",
     "iopub.status.busy": "2021-03-18T06:14:25.606458Z",
     "iopub.status.idle": "2021-03-18T06:14:25.609028Z",
     "shell.execute_reply": "2021-03-18T06:14:25.609400Z"
    }
   },
   "outputs": [],
   "source": [
    "doses = dataJson[0]['dataValues'][3:61]"
   ]
  },
  {
   "cell_type": "markdown",
   "metadata": {},
   "source": [
    "Data formatting"
   ]
  },
  {
   "cell_type": "code",
   "execution_count": 8,
   "metadata": {
    "execution": {
     "iopub.execute_input": "2021-03-18T06:14:25.612467Z",
     "iopub.status.busy": "2021-03-18T06:14:25.612029Z",
     "iopub.status.idle": "2021-03-18T06:14:25.614972Z",
     "shell.execute_reply": "2021-03-18T06:14:25.614602Z"
    }
   },
   "outputs": [],
   "source": [
    "zipped = dict(zip(counties, doses))"
   ]
  },
  {
   "cell_type": "code",
   "execution_count": 9,
   "metadata": {
    "execution": {
     "iopub.execute_input": "2021-03-18T06:14:25.619895Z",
     "iopub.status.busy": "2021-03-18T06:14:25.619460Z",
     "iopub.status.idle": "2021-03-18T06:14:25.622412Z",
     "shell.execute_reply": "2021-03-18T06:14:25.622046Z"
    }
   },
   "outputs": [],
   "source": [
    "df = pd.Series(zipped).reset_index()"
   ]
  },
  {
   "cell_type": "code",
   "execution_count": 10,
   "metadata": {
    "execution": {
     "iopub.execute_input": "2021-03-18T06:14:25.625549Z",
     "iopub.status.busy": "2021-03-18T06:14:25.625113Z",
     "iopub.status.idle": "2021-03-18T06:14:25.628056Z",
     "shell.execute_reply": "2021-03-18T06:14:25.627695Z"
    }
   },
   "outputs": [],
   "source": [
    "df.columns = ['location','doses']"
   ]
  },
  {
   "cell_type": "markdown",
   "metadata": {},
   "source": [
    "Grab the overall California total"
   ]
  },
  {
   "cell_type": "code",
   "execution_count": 11,
   "metadata": {
    "execution": {
     "iopub.execute_input": "2021-03-18T06:14:25.631117Z",
     "iopub.status.busy": "2021-03-18T06:14:25.630682Z",
     "iopub.status.idle": "2021-03-18T06:14:25.633701Z",
     "shell.execute_reply": "2021-03-18T06:14:25.633143Z"
    }
   },
   "outputs": [],
   "source": [
    "add = {'location':'California','doses':dataJson[0]['dataValues'][2]}"
   ]
  },
  {
   "cell_type": "code",
   "execution_count": 12,
   "metadata": {
    "execution": {
     "iopub.execute_input": "2021-03-18T06:14:25.639208Z",
     "iopub.status.busy": "2021-03-18T06:14:25.638775Z",
     "iopub.status.idle": "2021-03-18T06:14:25.641751Z",
     "shell.execute_reply": "2021-03-18T06:14:25.641349Z"
    }
   },
   "outputs": [],
   "source": [
    "df = df.append(add, ignore_index=True)"
   ]
  },
  {
   "cell_type": "code",
   "execution_count": 13,
   "metadata": {
    "execution": {
     "iopub.execute_input": "2021-03-18T06:14:25.645360Z",
     "iopub.status.busy": "2021-03-18T06:14:25.644927Z",
     "iopub.status.idle": "2021-03-18T06:14:25.647877Z",
     "shell.execute_reply": "2021-03-18T06:14:25.647483Z"
    }
   },
   "outputs": [],
   "source": [
    "df = df.sort_values(by='location')"
   ]
  },
  {
   "cell_type": "code",
   "execution_count": 14,
   "metadata": {
    "execution": {
     "iopub.execute_input": "2021-03-18T06:14:25.652855Z",
     "iopub.status.busy": "2021-03-18T06:14:25.652415Z",
     "iopub.status.idle": "2021-03-18T06:14:25.655373Z",
     "shell.execute_reply": "2021-03-18T06:14:25.654987Z"
    }
   },
   "outputs": [],
   "source": [
    "df = df[df.location == 'California'].append(df[df.location != 'California']).reset_index(drop=True)"
   ]
  },
  {
   "cell_type": "code",
   "execution_count": null,
   "metadata": {},
   "outputs": [],
   "source": []
  },
  {
   "cell_type": "code",
   "execution_count": 15,
   "metadata": {
    "execution": {
     "iopub.execute_input": "2021-03-18T06:14:25.658239Z",
     "iopub.status.busy": "2021-03-18T06:14:25.657790Z",
     "iopub.status.idle": "2021-03-18T06:14:25.674343Z",
     "shell.execute_reply": "2021-03-18T06:14:25.673933Z"
    }
   },
   "outputs": [],
   "source": [
    "tz = pytz.timezone(\"America/New_York\")"
   ]
  },
  {
   "cell_type": "code",
   "execution_count": 16,
   "metadata": {
    "execution": {
     "iopub.execute_input": "2021-03-18T06:14:25.677602Z",
     "iopub.status.busy": "2021-03-18T06:14:25.677164Z",
     "iopub.status.idle": "2021-03-18T06:14:25.680281Z",
     "shell.execute_reply": "2021-03-18T06:14:25.679895Z"
    }
   },
   "outputs": [],
   "source": [
    "today = datetime.now(tz).date()"
   ]
  },
  {
   "cell_type": "code",
   "execution_count": 17,
   "metadata": {
    "execution": {
     "iopub.execute_input": "2021-03-18T06:14:25.683445Z",
     "iopub.status.busy": "2021-03-18T06:14:25.683010Z",
     "iopub.status.idle": "2021-03-18T06:14:25.685611Z",
     "shell.execute_reply": "2021-03-18T06:14:25.686001Z"
    }
   },
   "outputs": [],
   "source": [
    "data_dir = os.path.join(os.path.abspath(\"\"), \"data\")"
   ]
  },
  {
   "cell_type": "code",
   "execution_count": 18,
   "metadata": {
    "execution": {
     "iopub.execute_input": "2021-03-18T06:14:25.690613Z",
     "iopub.status.busy": "2021-03-18T06:14:25.688978Z",
     "iopub.status.idle": "2021-03-18T06:14:25.693829Z",
     "shell.execute_reply": "2021-03-18T06:14:25.694202Z"
    }
   },
   "outputs": [],
   "source": [
    "df.to_csv(os.path.join(data_dir, f\"{today}.csv\"), index=False)"
   ]
  },
  {
   "cell_type": "code",
   "execution_count": null,
   "metadata": {},
   "outputs": [],
   "source": []
  }
 ],
 "metadata": {
  "kernelspec": {
   "display_name": "Python 3",
   "language": "python",
   "name": "python3"
  },
  "language_info": {
   "codemirror_mode": {
    "name": "ipython",
    "version": 3
   },
   "file_extension": ".py",
   "mimetype": "text/x-python",
   "name": "python",
   "nbconvert_exporter": "python",
   "pygments_lexer": "ipython3",
   "version": "3.8.8"
  }
 },
 "nbformat": 4,
 "nbformat_minor": 4
}
