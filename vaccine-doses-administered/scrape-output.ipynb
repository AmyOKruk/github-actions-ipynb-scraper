{
 "cells": [
  {
   "cell_type": "markdown",
   "metadata": {},
   "source": [
    "# California COVID vaccinations scrape"
   ]
  },
  {
   "cell_type": "markdown",
   "metadata": {},
   "source": [
    "By [Amy O'Kruk](https://twitter.com/amyokruk)"
   ]
  },
  {
   "cell_type": "markdown",
   "metadata": {},
   "source": [
    "Downloads data on vaccine doses administered by county and statewide from a Tableau-powered dashboard from the California Department of Public Health."
   ]
  },
  {
   "cell_type": "code",
   "execution_count": 1,
   "metadata": {
    "execution": {
     "iopub.execute_input": "2021-03-10T20:41:27.068215Z",
     "iopub.status.busy": "2021-03-10T20:41:27.067578Z",
     "iopub.status.idle": "2021-03-10T20:41:27.492790Z",
     "shell.execute_reply": "2021-03-10T20:41:27.492170Z"
    }
   },
   "outputs": [],
   "source": [
    "import pandas as pd\n",
    "import requests\n",
    "from bs4 import BeautifulSoup\n",
    "import json\n",
    "import re\n",
    "import time\n",
    "from time import gmtime, strftime \n",
    "import os\n",
    "import pytz\n",
    "from datetime import datetime"
   ]
  },
  {
   "cell_type": "markdown",
   "metadata": {},
   "source": [
    "Scrape the dashboard page"
   ]
  },
  {
   "cell_type": "code",
   "execution_count": 2,
   "metadata": {
    "execution": {
     "iopub.execute_input": "2021-03-10T20:41:27.498867Z",
     "iopub.status.busy": "2021-03-10T20:41:27.496069Z",
     "iopub.status.idle": "2021-03-10T20:41:28.135297Z",
     "shell.execute_reply": "2021-03-10T20:41:28.134714Z"
    }
   },
   "outputs": [],
   "source": [
    "url = \"https://public.tableau.com/interactive/views/COVID-19VaccineDashboardPublic/Vaccine?:embed=y&:showVizHome=n&:apiID=host0\"\n",
    "\n",
    "r = requests.get(url)\n",
    "soup = BeautifulSoup(r.text, \"html.parser\")"
   ]
  },
  {
   "cell_type": "code",
   "execution_count": 3,
   "metadata": {
    "execution": {
     "iopub.execute_input": "2021-03-10T20:41:28.141402Z",
     "iopub.status.busy": "2021-03-10T20:41:28.139855Z",
     "iopub.status.idle": "2021-03-10T20:41:28.142011Z",
     "shell.execute_reply": "2021-03-10T20:41:28.142480Z"
    }
   },
   "outputs": [],
   "source": [
    "tableauData = json.loads(soup.find(\"textarea\",{\"id\": \"tsConfigContainer\"}).text)"
   ]
  },
  {
   "cell_type": "markdown",
   "metadata": {},
   "source": [
    "Get the link to the Tableau data"
   ]
  },
  {
   "cell_type": "code",
   "execution_count": 4,
   "metadata": {
    "execution": {
     "iopub.execute_input": "2021-03-10T20:41:28.147711Z",
     "iopub.status.busy": "2021-03-10T20:41:28.146264Z",
     "iopub.status.idle": "2021-03-10T20:41:28.148388Z",
     "shell.execute_reply": "2021-03-10T20:41:28.148813Z"
    }
   },
   "outputs": [],
   "source": [
    "dataUrl = f'https://public.tableau.com{tableauData[\"vizql_root\"]}/bootstrapSession/sessions/{tableauData[\"sessionid\"]}'"
   ]
  },
  {
   "cell_type": "code",
   "execution_count": 5,
   "metadata": {
    "execution": {
     "iopub.execute_input": "2021-03-10T20:41:28.156221Z",
     "iopub.status.busy": "2021-03-10T20:41:28.155500Z",
     "iopub.status.idle": "2021-03-10T20:41:28.386229Z",
     "shell.execute_reply": "2021-03-10T20:41:28.385625Z"
    }
   },
   "outputs": [],
   "source": [
    "r = requests.post(dataUrl, data= {\n",
    "    \"sheet_id\": tableauData[\"sheetId\"],\n",
    "})\n",
    "\n",
    "dataReg = re.search('\\d+;({.*})\\d+;({.*})', r.text, re.MULTILINE)\n",
    "data1 = json.loads(dataReg.group(2))\n",
    "\n",
    "dataJson = data1[\"secondaryInfo\"][\"presModelMap\"][\"dataDictionary\"][\"presModelHolder\"][\"genDataDictionaryPresModel\"][\"dataSegments\"][\"0\"][\"dataColumns\"]"
   ]
  },
  {
   "cell_type": "markdown",
   "metadata": {},
   "source": [
    "Isolate what you want"
   ]
  },
  {
   "cell_type": "code",
   "execution_count": 6,
   "metadata": {
    "execution": {
     "iopub.execute_input": "2021-03-10T20:41:28.390423Z",
     "iopub.status.busy": "2021-03-10T20:41:28.389790Z",
     "iopub.status.idle": "2021-03-10T20:41:28.393223Z",
     "shell.execute_reply": "2021-03-10T20:41:28.393875Z"
    }
   },
   "outputs": [],
   "source": [
    "counties = dataJson[2]['dataValues'][:58]"
   ]
  },
  {
   "cell_type": "code",
   "execution_count": 7,
   "metadata": {
    "execution": {
     "iopub.execute_input": "2021-03-10T20:41:28.397858Z",
     "iopub.status.busy": "2021-03-10T20:41:28.397387Z",
     "iopub.status.idle": "2021-03-10T20:41:28.400812Z",
     "shell.execute_reply": "2021-03-10T20:41:28.401362Z"
    }
   },
   "outputs": [],
   "source": [
    "doses = dataJson[0]['dataValues'][3:61]"
   ]
  },
  {
   "cell_type": "markdown",
   "metadata": {},
   "source": [
    "Data formatting"
   ]
  },
  {
   "cell_type": "code",
   "execution_count": 8,
   "metadata": {
    "execution": {
     "iopub.execute_input": "2021-03-10T20:41:28.405171Z",
     "iopub.status.busy": "2021-03-10T20:41:28.404571Z",
     "iopub.status.idle": "2021-03-10T20:41:28.408828Z",
     "shell.execute_reply": "2021-03-10T20:41:28.408366Z"
    }
   },
   "outputs": [],
   "source": [
    "zipped = dict(zip(counties, doses))"
   ]
  },
  {
   "cell_type": "code",
   "execution_count": 9,
   "metadata": {
    "execution": {
     "iopub.execute_input": "2021-03-10T20:41:28.415253Z",
     "iopub.status.busy": "2021-03-10T20:41:28.414633Z",
     "iopub.status.idle": "2021-03-10T20:41:28.418465Z",
     "shell.execute_reply": "2021-03-10T20:41:28.418010Z"
    }
   },
   "outputs": [],
   "source": [
    "df = pd.Series(zipped).reset_index()"
   ]
  },
  {
   "cell_type": "code",
   "execution_count": 10,
   "metadata": {
    "execution": {
     "iopub.execute_input": "2021-03-10T20:41:28.422366Z",
     "iopub.status.busy": "2021-03-10T20:41:28.421895Z",
     "iopub.status.idle": "2021-03-10T20:41:28.429045Z",
     "shell.execute_reply": "2021-03-10T20:41:28.428434Z"
    }
   },
   "outputs": [],
   "source": [
    "df.columns = ['location','doses']"
   ]
  },
  {
   "cell_type": "markdown",
   "metadata": {},
   "source": [
    "Grab the overall California total"
   ]
  },
  {
   "cell_type": "code",
   "execution_count": 11,
   "metadata": {
    "execution": {
     "iopub.execute_input": "2021-03-10T20:41:28.433646Z",
     "iopub.status.busy": "2021-03-10T20:41:28.433048Z",
     "iopub.status.idle": "2021-03-10T20:41:28.436511Z",
     "shell.execute_reply": "2021-03-10T20:41:28.437042Z"
    }
   },
   "outputs": [],
   "source": [
    "add = {'location':'California','doses':dataJson[0]['dataValues'][2]}"
   ]
  },
  {
   "cell_type": "code",
   "execution_count": 12,
   "metadata": {
    "execution": {
     "iopub.execute_input": "2021-03-10T20:41:28.444491Z",
     "iopub.status.busy": "2021-03-10T20:41:28.443986Z",
     "iopub.status.idle": "2021-03-10T20:41:28.447276Z",
     "shell.execute_reply": "2021-03-10T20:41:28.447692Z"
    }
   },
   "outputs": [],
   "source": [
    "df = df.append(add, ignore_index=True)"
   ]
  },
  {
   "cell_type": "code",
   "execution_count": 13,
   "metadata": {
    "execution": {
     "iopub.execute_input": "2021-03-10T20:41:28.452185Z",
     "iopub.status.busy": "2021-03-10T20:41:28.451636Z",
     "iopub.status.idle": "2021-03-10T20:41:28.455081Z",
     "shell.execute_reply": "2021-03-10T20:41:28.454649Z"
    }
   },
   "outputs": [],
   "source": [
    "df = df.sort_values(by='location')"
   ]
  },
  {
   "cell_type": "code",
   "execution_count": 14,
   "metadata": {
    "execution": {
     "iopub.execute_input": "2021-03-10T20:41:28.461551Z",
     "iopub.status.busy": "2021-03-10T20:41:28.461042Z",
     "iopub.status.idle": "2021-03-10T20:41:28.464142Z",
     "shell.execute_reply": "2021-03-10T20:41:28.464578Z"
    }
   },
   "outputs": [],
   "source": [
    "df = df[df.location == 'California'].append(df[df.location != 'California']).reset_index(drop=True)"
   ]
  },
  {
   "cell_type": "code",
   "execution_count": null,
   "metadata": {},
   "outputs": [],
   "source": []
  },
  {
   "cell_type": "code",
   "execution_count": 15,
   "metadata": {
    "execution": {
     "iopub.execute_input": "2021-03-10T20:41:28.468879Z",
     "iopub.status.busy": "2021-03-10T20:41:28.467962Z",
     "iopub.status.idle": "2021-03-10T20:41:28.490045Z",
     "shell.execute_reply": "2021-03-10T20:41:28.490601Z"
    }
   },
   "outputs": [],
   "source": [
    "tz = pytz.timezone(\"America/New_York\")"
   ]
  },
  {
   "cell_type": "code",
   "execution_count": 16,
   "metadata": {
    "execution": {
     "iopub.execute_input": "2021-03-10T20:41:28.494658Z",
     "iopub.status.busy": "2021-03-10T20:41:28.494150Z",
     "iopub.status.idle": "2021-03-10T20:41:28.498056Z",
     "shell.execute_reply": "2021-03-10T20:41:28.497511Z"
    }
   },
   "outputs": [],
   "source": [
    "today = datetime.now(tz).date()"
   ]
  },
  {
   "cell_type": "code",
   "execution_count": 17,
   "metadata": {
    "execution": {
     "iopub.execute_input": "2021-03-10T20:41:28.502057Z",
     "iopub.status.busy": "2021-03-10T20:41:28.501449Z",
     "iopub.status.idle": "2021-03-10T20:41:28.505890Z",
     "shell.execute_reply": "2021-03-10T20:41:28.505113Z"
    }
   },
   "outputs": [],
   "source": [
    "data_dir = os.path.join(os.path.abspath(\"\"), \"data\")"
   ]
  },
  {
   "cell_type": "code",
   "execution_count": 18,
   "metadata": {
    "execution": {
     "iopub.execute_input": "2021-03-10T20:41:28.510640Z",
     "iopub.status.busy": "2021-03-10T20:41:28.509903Z",
     "iopub.status.idle": "2021-03-10T20:41:28.516386Z",
     "shell.execute_reply": "2021-03-10T20:41:28.515833Z"
    }
   },
   "outputs": [],
   "source": [
    "df.to_csv(os.path.join(data_dir, f\"{today}.csv\"), index=False)"
   ]
  },
  {
   "cell_type": "code",
   "execution_count": null,
   "metadata": {},
   "outputs": [],
   "source": []
  }
 ],
 "metadata": {
  "kernelspec": {
   "display_name": "Python 3",
   "language": "python",
   "name": "python3"
  },
  "language_info": {
   "codemirror_mode": {
    "name": "ipython",
    "version": 3
   },
   "file_extension": ".py",
   "mimetype": "text/x-python",
   "name": "python",
   "nbconvert_exporter": "python",
   "pygments_lexer": "ipython3",
   "version": "3.8.8"
  }
 },
 "nbformat": 4,
 "nbformat_minor": 4
}
