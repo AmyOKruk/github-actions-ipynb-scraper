{
 "cells": [
  {
   "cell_type": "markdown",
   "metadata": {},
   "source": [
    "# California COVID vaccinations scrape"
   ]
  },
  {
   "cell_type": "markdown",
   "metadata": {},
   "source": [
    "By [Amy O'Kruk](https://twitter.com/amyokruk)"
   ]
  },
  {
   "cell_type": "markdown",
   "metadata": {},
   "source": [
    "Downloads data on vaccine doses administered by county and statewide from a Tableau-powered dashboard from the California Department of Public Health."
   ]
  },
  {
   "cell_type": "code",
   "execution_count": 1,
   "metadata": {
    "execution": {
     "iopub.execute_input": "2021-03-23T10:14:11.966202Z",
     "iopub.status.busy": "2021-03-23T10:14:11.965779Z",
     "iopub.status.idle": "2021-03-23T10:14:12.267494Z",
     "shell.execute_reply": "2021-03-23T10:14:12.266791Z"
    }
   },
   "outputs": [],
   "source": [
    "import pandas as pd\n",
    "import requests\n",
    "from bs4 import BeautifulSoup\n",
    "import json\n",
    "import re\n",
    "import time\n",
    "from time import gmtime, strftime \n",
    "import os\n",
    "import pytz\n",
    "from datetime import datetime"
   ]
  },
  {
   "cell_type": "markdown",
   "metadata": {},
   "source": [
    "Scrape the dashboard page"
   ]
  },
  {
   "cell_type": "code",
   "execution_count": 2,
   "metadata": {
    "execution": {
     "iopub.execute_input": "2021-03-23T10:14:12.272135Z",
     "iopub.status.busy": "2021-03-23T10:14:12.270410Z",
     "iopub.status.idle": "2021-03-23T10:14:12.619909Z",
     "shell.execute_reply": "2021-03-23T10:14:12.620306Z"
    }
   },
   "outputs": [],
   "source": [
    "url = \"https://public.tableau.com/interactive/views/COVID-19VaccineDashboardPublic/Vaccine?:embed=y&:showVizHome=n&:apiID=host0\"\n",
    "\n",
    "r = requests.get(url)\n",
    "soup = BeautifulSoup(r.text, \"html.parser\")"
   ]
  },
  {
   "cell_type": "code",
   "execution_count": 3,
   "metadata": {
    "execution": {
     "iopub.execute_input": "2021-03-23T10:14:12.624932Z",
     "iopub.status.busy": "2021-03-23T10:14:12.624569Z",
     "iopub.status.idle": "2021-03-23T10:14:12.627198Z",
     "shell.execute_reply": "2021-03-23T10:14:12.627575Z"
    }
   },
   "outputs": [],
   "source": [
    "tableauData = json.loads(soup.find(\"textarea\",{\"id\": \"tsConfigContainer\"}).text)"
   ]
  },
  {
   "cell_type": "markdown",
   "metadata": {},
   "source": [
    "Get the link to the Tableau data"
   ]
  },
  {
   "cell_type": "code",
   "execution_count": 4,
   "metadata": {
    "execution": {
     "iopub.execute_input": "2021-03-23T10:14:12.630210Z",
     "iopub.status.busy": "2021-03-23T10:14:12.629794Z",
     "iopub.status.idle": "2021-03-23T10:14:12.633200Z",
     "shell.execute_reply": "2021-03-23T10:14:12.632851Z"
    }
   },
   "outputs": [],
   "source": [
    "dataUrl = f'https://public.tableau.com{tableauData[\"vizql_root\"]}/bootstrapSession/sessions/{tableauData[\"sessionid\"]}'"
   ]
  },
  {
   "cell_type": "code",
   "execution_count": 5,
   "metadata": {
    "execution": {
     "iopub.execute_input": "2021-03-23T10:14:12.638504Z",
     "iopub.status.busy": "2021-03-23T10:14:12.638090Z",
     "iopub.status.idle": "2021-03-23T10:14:12.760595Z",
     "shell.execute_reply": "2021-03-23T10:14:12.761069Z"
    }
   },
   "outputs": [],
   "source": [
    "r = requests.post(dataUrl, data= {\n",
    "    \"sheet_id\": tableauData[\"sheetId\"],\n",
    "})\n",
    "\n",
    "dataReg = re.search('\\d+;({.*})\\d+;({.*})', r.text, re.MULTILINE)\n",
    "data1 = json.loads(dataReg.group(2))\n",
    "\n",
    "dataJson = data1[\"secondaryInfo\"][\"presModelMap\"][\"dataDictionary\"][\"presModelHolder\"][\"genDataDictionaryPresModel\"][\"dataSegments\"][\"0\"][\"dataColumns\"]"
   ]
  },
  {
   "cell_type": "markdown",
   "metadata": {},
   "source": [
    "Isolate what you want"
   ]
  },
  {
   "cell_type": "code",
   "execution_count": 6,
   "metadata": {
    "execution": {
     "iopub.execute_input": "2021-03-23T10:14:12.764559Z",
     "iopub.status.busy": "2021-03-23T10:14:12.764010Z",
     "iopub.status.idle": "2021-03-23T10:14:12.767749Z",
     "shell.execute_reply": "2021-03-23T10:14:12.767341Z"
    }
   },
   "outputs": [],
   "source": [
    "counties = dataJson[2]['dataValues'][:58]"
   ]
  },
  {
   "cell_type": "code",
   "execution_count": 7,
   "metadata": {
    "execution": {
     "iopub.execute_input": "2021-03-23T10:14:12.770375Z",
     "iopub.status.busy": "2021-03-23T10:14:12.770021Z",
     "iopub.status.idle": "2021-03-23T10:14:12.772857Z",
     "shell.execute_reply": "2021-03-23T10:14:12.772493Z"
    }
   },
   "outputs": [],
   "source": [
    "doses = dataJson[0]['dataValues'][3:61]"
   ]
  },
  {
   "cell_type": "markdown",
   "metadata": {},
   "source": [
    "Data formatting"
   ]
  },
  {
   "cell_type": "code",
   "execution_count": 8,
   "metadata": {
    "execution": {
     "iopub.execute_input": "2021-03-23T10:14:12.776518Z",
     "iopub.status.busy": "2021-03-23T10:14:12.775430Z",
     "iopub.status.idle": "2021-03-23T10:14:12.776940Z",
     "shell.execute_reply": "2021-03-23T10:14:12.777239Z"
    }
   },
   "outputs": [],
   "source": [
    "zipped = dict(zip(counties, doses))"
   ]
  },
  {
   "cell_type": "code",
   "execution_count": 9,
   "metadata": {
    "execution": {
     "iopub.execute_input": "2021-03-23T10:14:12.781816Z",
     "iopub.status.busy": "2021-03-23T10:14:12.781452Z",
     "iopub.status.idle": "2021-03-23T10:14:12.783302Z",
     "shell.execute_reply": "2021-03-23T10:14:12.782911Z"
    }
   },
   "outputs": [],
   "source": [
    "df = pd.Series(zipped).reset_index()"
   ]
  },
  {
   "cell_type": "code",
   "execution_count": 10,
   "metadata": {
    "execution": {
     "iopub.execute_input": "2021-03-23T10:14:12.785973Z",
     "iopub.status.busy": "2021-03-23T10:14:12.785548Z",
     "iopub.status.idle": "2021-03-23T10:14:12.787465Z",
     "shell.execute_reply": "2021-03-23T10:14:12.787058Z"
    }
   },
   "outputs": [],
   "source": [
    "df.columns = ['location','doses']"
   ]
  },
  {
   "cell_type": "markdown",
   "metadata": {},
   "source": [
    "Grab the overall California total"
   ]
  },
  {
   "cell_type": "code",
   "execution_count": 11,
   "metadata": {
    "execution": {
     "iopub.execute_input": "2021-03-23T10:14:12.790676Z",
     "iopub.status.busy": "2021-03-23T10:14:12.789792Z",
     "iopub.status.idle": "2021-03-23T10:14:12.791508Z",
     "shell.execute_reply": "2021-03-23T10:14:12.791827Z"
    }
   },
   "outputs": [],
   "source": [
    "add = {'location':'California','doses':dataJson[0]['dataValues'][2]}"
   ]
  },
  {
   "cell_type": "code",
   "execution_count": 12,
   "metadata": {
    "execution": {
     "iopub.execute_input": "2021-03-23T10:14:12.796794Z",
     "iopub.status.busy": "2021-03-23T10:14:12.796433Z",
     "iopub.status.idle": "2021-03-23T10:14:12.798168Z",
     "shell.execute_reply": "2021-03-23T10:14:12.797793Z"
    }
   },
   "outputs": [],
   "source": [
    "df = df.append(add, ignore_index=True)"
   ]
  },
  {
   "cell_type": "code",
   "execution_count": 13,
   "metadata": {
    "execution": {
     "iopub.execute_input": "2021-03-23T10:14:12.801504Z",
     "iopub.status.busy": "2021-03-23T10:14:12.801130Z",
     "iopub.status.idle": "2021-03-23T10:14:12.802863Z",
     "shell.execute_reply": "2021-03-23T10:14:12.803188Z"
    }
   },
   "outputs": [],
   "source": [
    "df = df.sort_values(by='location')"
   ]
  },
  {
   "cell_type": "code",
   "execution_count": 14,
   "metadata": {
    "execution": {
     "iopub.execute_input": "2021-03-23T10:14:12.808033Z",
     "iopub.status.busy": "2021-03-23T10:14:12.807676Z",
     "iopub.status.idle": "2021-03-23T10:14:12.809463Z",
     "shell.execute_reply": "2021-03-23T10:14:12.809099Z"
    }
   },
   "outputs": [],
   "source": [
    "df = df[df.location == 'California'].append(df[df.location != 'California']).reset_index(drop=True)"
   ]
  },
  {
   "cell_type": "code",
   "execution_count": null,
   "metadata": {},
   "outputs": [],
   "source": []
  },
  {
   "cell_type": "code",
   "execution_count": 15,
   "metadata": {
    "execution": {
     "iopub.execute_input": "2021-03-23T10:14:12.812127Z",
     "iopub.status.busy": "2021-03-23T10:14:12.811767Z",
     "iopub.status.idle": "2021-03-23T10:14:12.826273Z",
     "shell.execute_reply": "2021-03-23T10:14:12.825762Z"
    }
   },
   "outputs": [],
   "source": [
    "tz = pytz.timezone(\"America/New_York\")"
   ]
  },
  {
   "cell_type": "code",
   "execution_count": 16,
   "metadata": {
    "execution": {
     "iopub.execute_input": "2021-03-23T10:14:12.830505Z",
     "iopub.status.busy": "2021-03-23T10:14:12.829132Z",
     "iopub.status.idle": "2021-03-23T10:14:12.831203Z",
     "shell.execute_reply": "2021-03-23T10:14:12.831708Z"
    }
   },
   "outputs": [],
   "source": [
    "today = datetime.now(tz).date()"
   ]
  },
  {
   "cell_type": "code",
   "execution_count": 17,
   "metadata": {
    "execution": {
     "iopub.execute_input": "2021-03-23T10:14:12.835573Z",
     "iopub.status.busy": "2021-03-23T10:14:12.834619Z",
     "iopub.status.idle": "2021-03-23T10:14:12.836031Z",
     "shell.execute_reply": "2021-03-23T10:14:12.836411Z"
    }
   },
   "outputs": [],
   "source": [
    "data_dir = os.path.join(os.path.abspath(\"\"), \"data\")"
   ]
  },
  {
   "cell_type": "code",
   "execution_count": 18,
   "metadata": {
    "execution": {
     "iopub.execute_input": "2021-03-23T10:14:12.839956Z",
     "iopub.status.busy": "2021-03-23T10:14:12.839120Z",
     "iopub.status.idle": "2021-03-23T10:14:12.843118Z",
     "shell.execute_reply": "2021-03-23T10:14:12.842726Z"
    }
   },
   "outputs": [],
   "source": [
    "df.to_csv(os.path.join(data_dir, f\"{today}.csv\"), index=False)"
   ]
  },
  {
   "cell_type": "code",
   "execution_count": null,
   "metadata": {},
   "outputs": [],
   "source": []
  }
 ],
 "metadata": {
  "kernelspec": {
   "display_name": "Python 3",
   "language": "python",
   "name": "python3"
  },
  "language_info": {
   "codemirror_mode": {
    "name": "ipython",
    "version": 3
   },
   "file_extension": ".py",
   "mimetype": "text/x-python",
   "name": "python",
   "nbconvert_exporter": "python",
   "pygments_lexer": "ipython3",
   "version": "3.8.8"
  }
 },
 "nbformat": 4,
 "nbformat_minor": 4
}
