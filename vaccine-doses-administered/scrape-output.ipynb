{
 "cells": [
  {
   "cell_type": "markdown",
   "metadata": {},
   "source": [
    "# California COVID vaccinations scrape"
   ]
  },
  {
   "cell_type": "markdown",
   "metadata": {},
   "source": [
    "By [Amy O'Kruk](https://twitter.com/amyokruk)"
   ]
  },
  {
   "cell_type": "markdown",
   "metadata": {},
   "source": [
    "Downloads data on vaccine doses administered by county and statewide from a Tableau-powered dashboard from the California Department of Public Health."
   ]
  },
  {
   "cell_type": "code",
   "execution_count": 1,
   "metadata": {
    "execution": {
     "iopub.execute_input": "2021-03-24T11:26:15.240762Z",
     "iopub.status.busy": "2021-03-24T11:26:15.240054Z",
     "iopub.status.idle": "2021-03-24T11:26:15.743567Z",
     "shell.execute_reply": "2021-03-24T11:26:15.742891Z"
    }
   },
   "outputs": [],
   "source": [
    "import pandas as pd\n",
    "import requests\n",
    "from bs4 import BeautifulSoup\n",
    "import json\n",
    "import re\n",
    "import time\n",
    "from time import gmtime, strftime \n",
    "import os\n",
    "import pytz\n",
    "from datetime import datetime"
   ]
  },
  {
   "cell_type": "markdown",
   "metadata": {},
   "source": [
    "Scrape the dashboard page"
   ]
  },
  {
   "cell_type": "code",
   "execution_count": 2,
   "metadata": {
    "execution": {
     "iopub.execute_input": "2021-03-24T11:26:15.750517Z",
     "iopub.status.busy": "2021-03-24T11:26:15.747433Z",
     "iopub.status.idle": "2021-03-24T11:26:16.003833Z",
     "shell.execute_reply": "2021-03-24T11:26:16.002857Z"
    }
   },
   "outputs": [],
   "source": [
    "url = \"https://public.tableau.com/interactive/views/COVID-19VaccineDashboardPublic/Vaccine?:embed=y&:showVizHome=n&:apiID=host0\"\n",
    "\n",
    "r = requests.get(url)\n",
    "soup = BeautifulSoup(r.text, \"html.parser\")"
   ]
  },
  {
   "cell_type": "code",
   "execution_count": 3,
   "metadata": {
    "execution": {
     "iopub.execute_input": "2021-03-24T11:26:16.009299Z",
     "iopub.status.busy": "2021-03-24T11:26:16.008687Z",
     "iopub.status.idle": "2021-03-24T11:26:16.012914Z",
     "shell.execute_reply": "2021-03-24T11:26:16.012371Z"
    }
   },
   "outputs": [],
   "source": [
    "tableauData = json.loads(soup.find(\"textarea\",{\"id\": \"tsConfigContainer\"}).text)"
   ]
  },
  {
   "cell_type": "markdown",
   "metadata": {},
   "source": [
    "Get the link to the Tableau data"
   ]
  },
  {
   "cell_type": "code",
   "execution_count": 4,
   "metadata": {
    "execution": {
     "iopub.execute_input": "2021-03-24T11:26:16.018561Z",
     "iopub.status.busy": "2021-03-24T11:26:16.017938Z",
     "iopub.status.idle": "2021-03-24T11:26:16.021800Z",
     "shell.execute_reply": "2021-03-24T11:26:16.021238Z"
    }
   },
   "outputs": [],
   "source": [
    "dataUrl = f'https://public.tableau.com{tableauData[\"vizql_root\"]}/bootstrapSession/sessions/{tableauData[\"sessionid\"]}'"
   ]
  },
  {
   "cell_type": "code",
   "execution_count": 5,
   "metadata": {
    "execution": {
     "iopub.execute_input": "2021-03-24T11:26:16.029862Z",
     "iopub.status.busy": "2021-03-24T11:26:16.029158Z",
     "iopub.status.idle": "2021-03-24T11:26:16.801306Z",
     "shell.execute_reply": "2021-03-24T11:26:16.800327Z"
    }
   },
   "outputs": [],
   "source": [
    "r = requests.post(dataUrl, data= {\n",
    "    \"sheet_id\": tableauData[\"sheetId\"],\n",
    "})\n",
    "\n",
    "dataReg = re.search('\\d+;({.*})\\d+;({.*})', r.text, re.MULTILINE)\n",
    "data1 = json.loads(dataReg.group(2))\n",
    "\n",
    "dataJson = data1[\"secondaryInfo\"][\"presModelMap\"][\"dataDictionary\"][\"presModelHolder\"][\"genDataDictionaryPresModel\"][\"dataSegments\"][\"0\"][\"dataColumns\"]"
   ]
  },
  {
   "cell_type": "markdown",
   "metadata": {},
   "source": [
    "Isolate what you want"
   ]
  },
  {
   "cell_type": "code",
   "execution_count": 6,
   "metadata": {
    "execution": {
     "iopub.execute_input": "2021-03-24T11:26:16.806763Z",
     "iopub.status.busy": "2021-03-24T11:26:16.805509Z",
     "iopub.status.idle": "2021-03-24T11:26:16.808343Z",
     "shell.execute_reply": "2021-03-24T11:26:16.807460Z"
    }
   },
   "outputs": [],
   "source": [
    "counties = dataJson[2]['dataValues'][:58]"
   ]
  },
  {
   "cell_type": "code",
   "execution_count": 7,
   "metadata": {
    "execution": {
     "iopub.execute_input": "2021-03-24T11:26:16.812245Z",
     "iopub.status.busy": "2021-03-24T11:26:16.811638Z",
     "iopub.status.idle": "2021-03-24T11:26:16.814695Z",
     "shell.execute_reply": "2021-03-24T11:26:16.814031Z"
    }
   },
   "outputs": [],
   "source": [
    "doses = dataJson[0]['dataValues'][3:61]"
   ]
  },
  {
   "cell_type": "markdown",
   "metadata": {},
   "source": [
    "Data formatting"
   ]
  },
  {
   "cell_type": "code",
   "execution_count": 8,
   "metadata": {
    "execution": {
     "iopub.execute_input": "2021-03-24T11:26:16.819687Z",
     "iopub.status.busy": "2021-03-24T11:26:16.818287Z",
     "iopub.status.idle": "2021-03-24T11:26:16.820390Z",
     "shell.execute_reply": "2021-03-24T11:26:16.821016Z"
    }
   },
   "outputs": [],
   "source": [
    "zipped = dict(zip(counties, doses))"
   ]
  },
  {
   "cell_type": "code",
   "execution_count": 9,
   "metadata": {
    "execution": {
     "iopub.execute_input": "2021-03-24T11:26:16.827411Z",
     "iopub.status.busy": "2021-03-24T11:26:16.826801Z",
     "iopub.status.idle": "2021-03-24T11:26:16.829487Z",
     "shell.execute_reply": "2021-03-24T11:26:16.828881Z"
    }
   },
   "outputs": [],
   "source": [
    "df = pd.Series(zipped).reset_index()"
   ]
  },
  {
   "cell_type": "code",
   "execution_count": 10,
   "metadata": {
    "execution": {
     "iopub.execute_input": "2021-03-24T11:26:16.834731Z",
     "iopub.status.busy": "2021-03-24T11:26:16.833363Z",
     "iopub.status.idle": "2021-03-24T11:26:16.835442Z",
     "shell.execute_reply": "2021-03-24T11:26:16.835913Z"
    }
   },
   "outputs": [],
   "source": [
    "df.columns = ['location','doses']"
   ]
  },
  {
   "cell_type": "markdown",
   "metadata": {},
   "source": [
    "Grab the overall California total"
   ]
  },
  {
   "cell_type": "code",
   "execution_count": 11,
   "metadata": {
    "execution": {
     "iopub.execute_input": "2021-03-24T11:26:16.841096Z",
     "iopub.status.busy": "2021-03-24T11:26:16.839673Z",
     "iopub.status.idle": "2021-03-24T11:26:16.841814Z",
     "shell.execute_reply": "2021-03-24T11:26:16.842337Z"
    }
   },
   "outputs": [],
   "source": [
    "add = {'location':'California','doses':dataJson[0]['dataValues'][2]}"
   ]
  },
  {
   "cell_type": "code",
   "execution_count": 12,
   "metadata": {
    "execution": {
     "iopub.execute_input": "2021-03-24T11:26:16.849333Z",
     "iopub.status.busy": "2021-03-24T11:26:16.848772Z",
     "iopub.status.idle": "2021-03-24T11:26:16.851650Z",
     "shell.execute_reply": "2021-03-24T11:26:16.851141Z"
    }
   },
   "outputs": [],
   "source": [
    "df = df.append(add, ignore_index=True)"
   ]
  },
  {
   "cell_type": "code",
   "execution_count": 13,
   "metadata": {
    "execution": {
     "iopub.execute_input": "2021-03-24T11:26:16.857351Z",
     "iopub.status.busy": "2021-03-24T11:26:16.855963Z",
     "iopub.status.idle": "2021-03-24T11:26:16.858098Z",
     "shell.execute_reply": "2021-03-24T11:26:16.858564Z"
    }
   },
   "outputs": [],
   "source": [
    "df = df.sort_values(by='location')"
   ]
  },
  {
   "cell_type": "code",
   "execution_count": 14,
   "metadata": {
    "execution": {
     "iopub.execute_input": "2021-03-24T11:26:16.866230Z",
     "iopub.status.busy": "2021-03-24T11:26:16.864875Z",
     "iopub.status.idle": "2021-03-24T11:26:16.866893Z",
     "shell.execute_reply": "2021-03-24T11:26:16.867383Z"
    }
   },
   "outputs": [],
   "source": [
    "df = df[df.location == 'California'].append(df[df.location != 'California']).reset_index(drop=True)"
   ]
  },
  {
   "cell_type": "code",
   "execution_count": null,
   "metadata": {},
   "outputs": [],
   "source": []
  },
  {
   "cell_type": "code",
   "execution_count": 15,
   "metadata": {
    "execution": {
     "iopub.execute_input": "2021-03-24T11:26:16.871263Z",
     "iopub.status.busy": "2021-03-24T11:26:16.870447Z",
     "iopub.status.idle": "2021-03-24T11:26:16.892753Z",
     "shell.execute_reply": "2021-03-24T11:26:16.892134Z"
    }
   },
   "outputs": [],
   "source": [
    "tz = pytz.timezone(\"America/New_York\")"
   ]
  },
  {
   "cell_type": "code",
   "execution_count": 16,
   "metadata": {
    "execution": {
     "iopub.execute_input": "2021-03-24T11:26:16.899552Z",
     "iopub.status.busy": "2021-03-24T11:26:16.898895Z",
     "iopub.status.idle": "2021-03-24T11:26:16.901714Z",
     "shell.execute_reply": "2021-03-24T11:26:16.901101Z"
    }
   },
   "outputs": [],
   "source": [
    "today = datetime.now(tz).date()"
   ]
  },
  {
   "cell_type": "code",
   "execution_count": 17,
   "metadata": {
    "execution": {
     "iopub.execute_input": "2021-03-24T11:26:16.907281Z",
     "iopub.status.busy": "2021-03-24T11:26:16.905280Z",
     "iopub.status.idle": "2021-03-24T11:26:16.908035Z",
     "shell.execute_reply": "2021-03-24T11:26:16.908925Z"
    }
   },
   "outputs": [],
   "source": [
    "data_dir = os.path.join(os.path.abspath(\"\"), \"data\")"
   ]
  },
  {
   "cell_type": "code",
   "execution_count": 18,
   "metadata": {
    "execution": {
     "iopub.execute_input": "2021-03-24T11:26:16.913186Z",
     "iopub.status.busy": "2021-03-24T11:26:16.912393Z",
     "iopub.status.idle": "2021-03-24T11:26:16.916913Z",
     "shell.execute_reply": "2021-03-24T11:26:16.917410Z"
    }
   },
   "outputs": [],
   "source": [
    "df.to_csv(os.path.join(data_dir, f\"{today}.csv\"), index=False)"
   ]
  },
  {
   "cell_type": "code",
   "execution_count": null,
   "metadata": {},
   "outputs": [],
   "source": []
  }
 ],
 "metadata": {
  "kernelspec": {
   "display_name": "Python 3",
   "language": "python",
   "name": "python3"
  },
  "language_info": {
   "codemirror_mode": {
    "name": "ipython",
    "version": 3
   },
   "file_extension": ".py",
   "mimetype": "text/x-python",
   "name": "python",
   "nbconvert_exporter": "python",
   "pygments_lexer": "ipython3",
   "version": "3.8.8"
  }
 },
 "nbformat": 4,
 "nbformat_minor": 4
}
