{
 "cells": [
  {
   "cell_type": "markdown",
   "metadata": {},
   "source": [
    "# California COVID vaccinations scrape"
   ]
  },
  {
   "cell_type": "markdown",
   "metadata": {},
   "source": [
    "By [Amy O'Kruk](https://twitter.com/amyokruk)"
   ]
  },
  {
   "cell_type": "markdown",
   "metadata": {},
   "source": [
    "Downloads data on vaccine doses administered by county and statewide from a Tableau-powered dashboard from the California Department of Public Health."
   ]
  },
  {
   "cell_type": "code",
   "execution_count": 1,
   "metadata": {
    "execution": {
     "iopub.execute_input": "2021-03-18T21:12:13.619314Z",
     "iopub.status.busy": "2021-03-18T21:12:13.618366Z",
     "iopub.status.idle": "2021-03-18T21:12:14.110487Z",
     "shell.execute_reply": "2021-03-18T21:12:14.109309Z"
    }
   },
   "outputs": [],
   "source": [
    "import pandas as pd\n",
    "import requests\n",
    "from bs4 import BeautifulSoup\n",
    "import json\n",
    "import re\n",
    "import time\n",
    "from time import gmtime, strftime \n",
    "import os\n",
    "import pytz\n",
    "from datetime import datetime"
   ]
  },
  {
   "cell_type": "markdown",
   "metadata": {},
   "source": [
    "Scrape the dashboard page"
   ]
  },
  {
   "cell_type": "code",
   "execution_count": 2,
   "metadata": {
    "execution": {
     "iopub.execute_input": "2021-03-18T21:12:14.115654Z",
     "iopub.status.busy": "2021-03-18T21:12:14.115110Z",
     "iopub.status.idle": "2021-03-18T21:12:14.500504Z",
     "shell.execute_reply": "2021-03-18T21:12:14.500033Z"
    }
   },
   "outputs": [],
   "source": [
    "url = \"https://public.tableau.com/interactive/views/COVID-19VaccineDashboardPublic/Vaccine?:embed=y&:showVizHome=n&:apiID=host0\"\n",
    "\n",
    "r = requests.get(url)\n",
    "soup = BeautifulSoup(r.text, \"html.parser\")"
   ]
  },
  {
   "cell_type": "code",
   "execution_count": 3,
   "metadata": {
    "execution": {
     "iopub.execute_input": "2021-03-18T21:12:14.505578Z",
     "iopub.status.busy": "2021-03-18T21:12:14.505049Z",
     "iopub.status.idle": "2021-03-18T21:12:14.508513Z",
     "shell.execute_reply": "2021-03-18T21:12:14.508056Z"
    }
   },
   "outputs": [],
   "source": [
    "tableauData = json.loads(soup.find(\"textarea\",{\"id\": \"tsConfigContainer\"}).text)"
   ]
  },
  {
   "cell_type": "markdown",
   "metadata": {},
   "source": [
    "Get the link to the Tableau data"
   ]
  },
  {
   "cell_type": "code",
   "execution_count": 4,
   "metadata": {
    "execution": {
     "iopub.execute_input": "2021-03-18T21:12:14.513683Z",
     "iopub.status.busy": "2021-03-18T21:12:14.512626Z",
     "iopub.status.idle": "2021-03-18T21:12:14.514775Z",
     "shell.execute_reply": "2021-03-18T21:12:14.515197Z"
    }
   },
   "outputs": [],
   "source": [
    "dataUrl = f'https://public.tableau.com{tableauData[\"vizql_root\"]}/bootstrapSession/sessions/{tableauData[\"sessionid\"]}'"
   ]
  },
  {
   "cell_type": "code",
   "execution_count": 5,
   "metadata": {
    "execution": {
     "iopub.execute_input": "2021-03-18T21:12:14.521933Z",
     "iopub.status.busy": "2021-03-18T21:12:14.521390Z",
     "iopub.status.idle": "2021-03-18T21:12:15.010932Z",
     "shell.execute_reply": "2021-03-18T21:12:15.010302Z"
    }
   },
   "outputs": [],
   "source": [
    "r = requests.post(dataUrl, data= {\n",
    "    \"sheet_id\": tableauData[\"sheetId\"],\n",
    "})\n",
    "\n",
    "dataReg = re.search('\\d+;({.*})\\d+;({.*})', r.text, re.MULTILINE)\n",
    "data1 = json.loads(dataReg.group(2))\n",
    "\n",
    "dataJson = data1[\"secondaryInfo\"][\"presModelMap\"][\"dataDictionary\"][\"presModelHolder\"][\"genDataDictionaryPresModel\"][\"dataSegments\"][\"0\"][\"dataColumns\"]"
   ]
  },
  {
   "cell_type": "markdown",
   "metadata": {},
   "source": [
    "Isolate what you want"
   ]
  },
  {
   "cell_type": "code",
   "execution_count": 6,
   "metadata": {
    "execution": {
     "iopub.execute_input": "2021-03-18T21:12:15.016503Z",
     "iopub.status.busy": "2021-03-18T21:12:15.014838Z",
     "iopub.status.idle": "2021-03-18T21:12:15.017283Z",
     "shell.execute_reply": "2021-03-18T21:12:15.017857Z"
    }
   },
   "outputs": [],
   "source": [
    "counties = dataJson[2]['dataValues'][:58]"
   ]
  },
  {
   "cell_type": "code",
   "execution_count": 7,
   "metadata": {
    "execution": {
     "iopub.execute_input": "2021-03-18T21:12:15.022021Z",
     "iopub.status.busy": "2021-03-18T21:12:15.021121Z",
     "iopub.status.idle": "2021-03-18T21:12:15.022861Z",
     "shell.execute_reply": "2021-03-18T21:12:15.023315Z"
    }
   },
   "outputs": [],
   "source": [
    "doses = dataJson[0]['dataValues'][3:61]"
   ]
  },
  {
   "cell_type": "markdown",
   "metadata": {},
   "source": [
    "Data formatting"
   ]
  },
  {
   "cell_type": "code",
   "execution_count": 8,
   "metadata": {
    "execution": {
     "iopub.execute_input": "2021-03-18T21:12:15.027453Z",
     "iopub.status.busy": "2021-03-18T21:12:15.026670Z",
     "iopub.status.idle": "2021-03-18T21:12:15.029464Z",
     "shell.execute_reply": "2021-03-18T21:12:15.029048Z"
    }
   },
   "outputs": [],
   "source": [
    "zipped = dict(zip(counties, doses))"
   ]
  },
  {
   "cell_type": "code",
   "execution_count": 9,
   "metadata": {
    "execution": {
     "iopub.execute_input": "2021-03-18T21:12:15.036377Z",
     "iopub.status.busy": "2021-03-18T21:12:15.035835Z",
     "iopub.status.idle": "2021-03-18T21:12:15.038216Z",
     "shell.execute_reply": "2021-03-18T21:12:15.037785Z"
    }
   },
   "outputs": [],
   "source": [
    "df = pd.Series(zipped).reset_index()"
   ]
  },
  {
   "cell_type": "code",
   "execution_count": 10,
   "metadata": {
    "execution": {
     "iopub.execute_input": "2021-03-18T21:12:15.042768Z",
     "iopub.status.busy": "2021-03-18T21:12:15.041851Z",
     "iopub.status.idle": "2021-03-18T21:12:15.043721Z",
     "shell.execute_reply": "2021-03-18T21:12:15.044147Z"
    }
   },
   "outputs": [],
   "source": [
    "df.columns = ['location','doses']"
   ]
  },
  {
   "cell_type": "markdown",
   "metadata": {},
   "source": [
    "Grab the overall California total"
   ]
  },
  {
   "cell_type": "code",
   "execution_count": 11,
   "metadata": {
    "execution": {
     "iopub.execute_input": "2021-03-18T21:12:15.048393Z",
     "iopub.status.busy": "2021-03-18T21:12:15.047350Z",
     "iopub.status.idle": "2021-03-18T21:12:15.049084Z",
     "shell.execute_reply": "2021-03-18T21:12:15.049503Z"
    }
   },
   "outputs": [],
   "source": [
    "add = {'location':'California','doses':dataJson[0]['dataValues'][2]}"
   ]
  },
  {
   "cell_type": "code",
   "execution_count": 12,
   "metadata": {
    "execution": {
     "iopub.execute_input": "2021-03-18T21:12:15.056641Z",
     "iopub.status.busy": "2021-03-18T21:12:15.055615Z",
     "iopub.status.idle": "2021-03-18T21:12:15.057997Z",
     "shell.execute_reply": "2021-03-18T21:12:15.058425Z"
    }
   },
   "outputs": [],
   "source": [
    "df = df.append(add, ignore_index=True)"
   ]
  },
  {
   "cell_type": "code",
   "execution_count": 13,
   "metadata": {
    "execution": {
     "iopub.execute_input": "2021-03-18T21:12:15.063638Z",
     "iopub.status.busy": "2021-03-18T21:12:15.062725Z",
     "iopub.status.idle": "2021-03-18T21:12:15.064999Z",
     "shell.execute_reply": "2021-03-18T21:12:15.064551Z"
    }
   },
   "outputs": [],
   "source": [
    "df = df.sort_values(by='location')"
   ]
  },
  {
   "cell_type": "code",
   "execution_count": 14,
   "metadata": {
    "execution": {
     "iopub.execute_input": "2021-03-18T21:12:15.072934Z",
     "iopub.status.busy": "2021-03-18T21:12:15.072017Z",
     "iopub.status.idle": "2021-03-18T21:12:15.074731Z",
     "shell.execute_reply": "2021-03-18T21:12:15.074198Z"
    }
   },
   "outputs": [],
   "source": [
    "df = df[df.location == 'California'].append(df[df.location != 'California']).reset_index(drop=True)"
   ]
  },
  {
   "cell_type": "code",
   "execution_count": null,
   "metadata": {},
   "outputs": [],
   "source": []
  },
  {
   "cell_type": "code",
   "execution_count": 15,
   "metadata": {
    "execution": {
     "iopub.execute_input": "2021-03-18T21:12:15.078114Z",
     "iopub.status.busy": "2021-03-18T21:12:15.077610Z",
     "iopub.status.idle": "2021-03-18T21:12:15.098700Z",
     "shell.execute_reply": "2021-03-18T21:12:15.098158Z"
    }
   },
   "outputs": [],
   "source": [
    "tz = pytz.timezone(\"America/New_York\")"
   ]
  },
  {
   "cell_type": "code",
   "execution_count": 16,
   "metadata": {
    "execution": {
     "iopub.execute_input": "2021-03-18T21:12:15.103104Z",
     "iopub.status.busy": "2021-03-18T21:12:15.102169Z",
     "iopub.status.idle": "2021-03-18T21:12:15.105290Z",
     "shell.execute_reply": "2021-03-18T21:12:15.104166Z"
    }
   },
   "outputs": [],
   "source": [
    "today = datetime.now(tz).date()"
   ]
  },
  {
   "cell_type": "code",
   "execution_count": 17,
   "metadata": {
    "execution": {
     "iopub.execute_input": "2021-03-18T21:12:15.110105Z",
     "iopub.status.busy": "2021-03-18T21:12:15.108822Z",
     "iopub.status.idle": "2021-03-18T21:12:15.110692Z",
     "shell.execute_reply": "2021-03-18T21:12:15.111172Z"
    }
   },
   "outputs": [],
   "source": [
    "data_dir = os.path.join(os.path.abspath(\"\"), \"data\")"
   ]
  },
  {
   "cell_type": "code",
   "execution_count": 18,
   "metadata": {
    "execution": {
     "iopub.execute_input": "2021-03-18T21:12:15.115588Z",
     "iopub.status.busy": "2021-03-18T21:12:15.114399Z",
     "iopub.status.idle": "2021-03-18T21:12:15.118537Z",
     "shell.execute_reply": "2021-03-18T21:12:15.118935Z"
    }
   },
   "outputs": [],
   "source": [
    "df.to_csv(os.path.join(data_dir, f\"{today}.csv\"), index=False)"
   ]
  },
  {
   "cell_type": "code",
   "execution_count": null,
   "metadata": {},
   "outputs": [],
   "source": []
  }
 ],
 "metadata": {
  "kernelspec": {
   "display_name": "Python 3",
   "language": "python",
   "name": "python3"
  },
  "language_info": {
   "codemirror_mode": {
    "name": "ipython",
    "version": 3
   },
   "file_extension": ".py",
   "mimetype": "text/x-python",
   "name": "python",
   "nbconvert_exporter": "python",
   "pygments_lexer": "ipython3",
   "version": "3.8.8"
  }
 },
 "nbformat": 4,
 "nbformat_minor": 4
}
