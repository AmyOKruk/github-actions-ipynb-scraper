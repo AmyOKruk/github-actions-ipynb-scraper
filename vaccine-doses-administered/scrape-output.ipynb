{
 "cells": [
  {
   "cell_type": "markdown",
   "metadata": {},
   "source": [
    "# California COVID vaccinations scrape"
   ]
  },
  {
   "cell_type": "markdown",
   "metadata": {},
   "source": [
    "By [Amy O'Kruk](https://twitter.com/amyokruk)"
   ]
  },
  {
   "cell_type": "markdown",
   "metadata": {},
   "source": [
    "Downloads data on vaccine doses administered by county and statewide from a Tableau-powered dashboard from the California Department of Public Health."
   ]
  },
  {
   "cell_type": "code",
   "execution_count": 1,
   "metadata": {
    "execution": {
     "iopub.execute_input": "2021-03-21T15:13:18.624031Z",
     "iopub.status.busy": "2021-03-21T15:13:18.623073Z",
     "iopub.status.idle": "2021-03-21T15:13:19.043534Z",
     "shell.execute_reply": "2021-03-21T15:13:19.042817Z"
    }
   },
   "outputs": [],
   "source": [
    "import pandas as pd\n",
    "import requests\n",
    "from bs4 import BeautifulSoup\n",
    "import json\n",
    "import re\n",
    "import time\n",
    "from time import gmtime, strftime \n",
    "import os\n",
    "import pytz\n",
    "from datetime import datetime"
   ]
  },
  {
   "cell_type": "markdown",
   "metadata": {},
   "source": [
    "Scrape the dashboard page"
   ]
  },
  {
   "cell_type": "code",
   "execution_count": 2,
   "metadata": {
    "execution": {
     "iopub.execute_input": "2021-03-21T15:13:19.050248Z",
     "iopub.status.busy": "2021-03-21T15:13:19.047525Z",
     "iopub.status.idle": "2021-03-21T15:13:19.393890Z",
     "shell.execute_reply": "2021-03-21T15:13:19.392994Z"
    }
   },
   "outputs": [],
   "source": [
    "url = \"https://public.tableau.com/interactive/views/COVID-19VaccineDashboardPublic/Vaccine?:embed=y&:showVizHome=n&:apiID=host0\"\n",
    "\n",
    "r = requests.get(url)\n",
    "soup = BeautifulSoup(r.text, \"html.parser\")"
   ]
  },
  {
   "cell_type": "code",
   "execution_count": 3,
   "metadata": {
    "execution": {
     "iopub.execute_input": "2021-03-21T15:13:19.398962Z",
     "iopub.status.busy": "2021-03-21T15:13:19.398389Z",
     "iopub.status.idle": "2021-03-21T15:13:19.402283Z",
     "shell.execute_reply": "2021-03-21T15:13:19.401603Z"
    }
   },
   "outputs": [],
   "source": [
    "tableauData = json.loads(soup.find(\"textarea\",{\"id\": \"tsConfigContainer\"}).text)"
   ]
  },
  {
   "cell_type": "markdown",
   "metadata": {},
   "source": [
    "Get the link to the Tableau data"
   ]
  },
  {
   "cell_type": "code",
   "execution_count": 4,
   "metadata": {
    "execution": {
     "iopub.execute_input": "2021-03-21T15:13:19.406289Z",
     "iopub.status.busy": "2021-03-21T15:13:19.405605Z",
     "iopub.status.idle": "2021-03-21T15:13:19.409281Z",
     "shell.execute_reply": "2021-03-21T15:13:19.409735Z"
    }
   },
   "outputs": [],
   "source": [
    "dataUrl = f'https://public.tableau.com{tableauData[\"vizql_root\"]}/bootstrapSession/sessions/{tableauData[\"sessionid\"]}'"
   ]
  },
  {
   "cell_type": "code",
   "execution_count": 5,
   "metadata": {
    "execution": {
     "iopub.execute_input": "2021-03-21T15:13:19.416953Z",
     "iopub.status.busy": "2021-03-21T15:13:19.416356Z",
     "iopub.status.idle": "2021-03-21T15:13:19.607915Z",
     "shell.execute_reply": "2021-03-21T15:13:19.607335Z"
    }
   },
   "outputs": [],
   "source": [
    "r = requests.post(dataUrl, data= {\n",
    "    \"sheet_id\": tableauData[\"sheetId\"],\n",
    "})\n",
    "\n",
    "dataReg = re.search('\\d+;({.*})\\d+;({.*})', r.text, re.MULTILINE)\n",
    "data1 = json.loads(dataReg.group(2))\n",
    "\n",
    "dataJson = data1[\"secondaryInfo\"][\"presModelMap\"][\"dataDictionary\"][\"presModelHolder\"][\"genDataDictionaryPresModel\"][\"dataSegments\"][\"0\"][\"dataColumns\"]"
   ]
  },
  {
   "cell_type": "markdown",
   "metadata": {},
   "source": [
    "Isolate what you want"
   ]
  },
  {
   "cell_type": "code",
   "execution_count": 6,
   "metadata": {
    "execution": {
     "iopub.execute_input": "2021-03-21T15:13:19.613040Z",
     "iopub.status.busy": "2021-03-21T15:13:19.611612Z",
     "iopub.status.idle": "2021-03-21T15:13:19.613649Z",
     "shell.execute_reply": "2021-03-21T15:13:19.614138Z"
    }
   },
   "outputs": [],
   "source": [
    "counties = dataJson[2]['dataValues'][:58]"
   ]
  },
  {
   "cell_type": "code",
   "execution_count": 7,
   "metadata": {
    "execution": {
     "iopub.execute_input": "2021-03-21T15:13:19.619214Z",
     "iopub.status.busy": "2021-03-21T15:13:19.617863Z",
     "iopub.status.idle": "2021-03-21T15:13:19.619893Z",
     "shell.execute_reply": "2021-03-21T15:13:19.620386Z"
    }
   },
   "outputs": [],
   "source": [
    "doses = dataJson[0]['dataValues'][3:61]"
   ]
  },
  {
   "cell_type": "markdown",
   "metadata": {},
   "source": [
    "Data formatting"
   ]
  },
  {
   "cell_type": "code",
   "execution_count": 8,
   "metadata": {
    "execution": {
     "iopub.execute_input": "2021-03-21T15:13:19.625782Z",
     "iopub.status.busy": "2021-03-21T15:13:19.624377Z",
     "iopub.status.idle": "2021-03-21T15:13:19.626405Z",
     "shell.execute_reply": "2021-03-21T15:13:19.626906Z"
    }
   },
   "outputs": [],
   "source": [
    "zipped = dict(zip(counties, doses))"
   ]
  },
  {
   "cell_type": "code",
   "execution_count": 9,
   "metadata": {
    "execution": {
     "iopub.execute_input": "2021-03-21T15:13:19.633655Z",
     "iopub.status.busy": "2021-03-21T15:13:19.632360Z",
     "iopub.status.idle": "2021-03-21T15:13:19.634328Z",
     "shell.execute_reply": "2021-03-21T15:13:19.634808Z"
    }
   },
   "outputs": [],
   "source": [
    "df = pd.Series(zipped).reset_index()"
   ]
  },
  {
   "cell_type": "code",
   "execution_count": 10,
   "metadata": {
    "execution": {
     "iopub.execute_input": "2021-03-21T15:13:19.640112Z",
     "iopub.status.busy": "2021-03-21T15:13:19.638734Z",
     "iopub.status.idle": "2021-03-21T15:13:19.640761Z",
     "shell.execute_reply": "2021-03-21T15:13:19.641242Z"
    }
   },
   "outputs": [],
   "source": [
    "df.columns = ['location','doses']"
   ]
  },
  {
   "cell_type": "markdown",
   "metadata": {},
   "source": [
    "Grab the overall California total"
   ]
  },
  {
   "cell_type": "code",
   "execution_count": 11,
   "metadata": {
    "execution": {
     "iopub.execute_input": "2021-03-21T15:13:19.649624Z",
     "iopub.status.busy": "2021-03-21T15:13:19.648574Z",
     "iopub.status.idle": "2021-03-21T15:13:19.650172Z",
     "shell.execute_reply": "2021-03-21T15:13:19.649079Z"
    }
   },
   "outputs": [],
   "source": [
    "add = {'location':'California','doses':dataJson[0]['dataValues'][2]}"
   ]
  },
  {
   "cell_type": "code",
   "execution_count": 12,
   "metadata": {
    "execution": {
     "iopub.execute_input": "2021-03-21T15:13:19.657376Z",
     "iopub.status.busy": "2021-03-21T15:13:19.656805Z",
     "iopub.status.idle": "2021-03-21T15:13:19.661112Z",
     "shell.execute_reply": "2021-03-21T15:13:19.660109Z"
    }
   },
   "outputs": [],
   "source": [
    "df = df.append(add, ignore_index=True)"
   ]
  },
  {
   "cell_type": "code",
   "execution_count": 13,
   "metadata": {
    "execution": {
     "iopub.execute_input": "2021-03-21T15:13:19.665797Z",
     "iopub.status.busy": "2021-03-21T15:13:19.665247Z",
     "iopub.status.idle": "2021-03-21T15:13:19.670496Z",
     "shell.execute_reply": "2021-03-21T15:13:19.670014Z"
    }
   },
   "outputs": [],
   "source": [
    "df = df.sort_values(by='location')"
   ]
  },
  {
   "cell_type": "code",
   "execution_count": 14,
   "metadata": {
    "execution": {
     "iopub.execute_input": "2021-03-21T15:13:19.677228Z",
     "iopub.status.busy": "2021-03-21T15:13:19.676656Z",
     "iopub.status.idle": "2021-03-21T15:13:19.680391Z",
     "shell.execute_reply": "2021-03-21T15:13:19.679900Z"
    }
   },
   "outputs": [],
   "source": [
    "df = df[df.location == 'California'].append(df[df.location != 'California']).reset_index(drop=True)"
   ]
  },
  {
   "cell_type": "code",
   "execution_count": null,
   "metadata": {},
   "outputs": [],
   "source": []
  },
  {
   "cell_type": "code",
   "execution_count": 15,
   "metadata": {
    "execution": {
     "iopub.execute_input": "2021-03-21T15:13:19.684422Z",
     "iopub.status.busy": "2021-03-21T15:13:19.683847Z",
     "iopub.status.idle": "2021-03-21T15:13:19.704333Z",
     "shell.execute_reply": "2021-03-21T15:13:19.703811Z"
    }
   },
   "outputs": [],
   "source": [
    "tz = pytz.timezone(\"America/New_York\")"
   ]
  },
  {
   "cell_type": "code",
   "execution_count": 16,
   "metadata": {
    "execution": {
     "iopub.execute_input": "2021-03-21T15:13:19.711590Z",
     "iopub.status.busy": "2021-03-21T15:13:19.710919Z",
     "iopub.status.idle": "2021-03-21T15:13:19.712659Z",
     "shell.execute_reply": "2021-03-21T15:13:19.712144Z"
    }
   },
   "outputs": [],
   "source": [
    "today = datetime.now(tz).date()"
   ]
  },
  {
   "cell_type": "code",
   "execution_count": 17,
   "metadata": {
    "execution": {
     "iopub.execute_input": "2021-03-21T15:13:19.717721Z",
     "iopub.status.busy": "2021-03-21T15:13:19.716328Z",
     "iopub.status.idle": "2021-03-21T15:13:19.718355Z",
     "shell.execute_reply": "2021-03-21T15:13:19.718833Z"
    }
   },
   "outputs": [],
   "source": [
    "data_dir = os.path.join(os.path.abspath(\"\"), \"data\")"
   ]
  },
  {
   "cell_type": "code",
   "execution_count": 18,
   "metadata": {
    "execution": {
     "iopub.execute_input": "2021-03-21T15:13:19.724456Z",
     "iopub.status.busy": "2021-03-21T15:13:19.723245Z",
     "iopub.status.idle": "2021-03-21T15:13:19.781141Z",
     "shell.execute_reply": "2021-03-21T15:13:19.781930Z"
    }
   },
   "outputs": [],
   "source": [
    "df.to_csv(os.path.join(data_dir, f\"{today}.csv\"), index=False)"
   ]
  },
  {
   "cell_type": "code",
   "execution_count": null,
   "metadata": {},
   "outputs": [],
   "source": []
  }
 ],
 "metadata": {
  "kernelspec": {
   "display_name": "Python 3",
   "language": "python",
   "name": "python3"
  },
  "language_info": {
   "codemirror_mode": {
    "name": "ipython",
    "version": 3
   },
   "file_extension": ".py",
   "mimetype": "text/x-python",
   "name": "python",
   "nbconvert_exporter": "python",
   "pygments_lexer": "ipython3",
   "version": "3.8.8"
  }
 },
 "nbformat": 4,
 "nbformat_minor": 4
}
