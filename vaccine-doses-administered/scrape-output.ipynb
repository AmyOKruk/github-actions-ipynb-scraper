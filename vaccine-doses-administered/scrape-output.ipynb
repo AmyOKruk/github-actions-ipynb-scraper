{
 "cells": [
  {
   "cell_type": "markdown",
   "metadata": {},
   "source": [
    "# California COVID vaccinations scrape"
   ]
  },
  {
   "cell_type": "markdown",
   "metadata": {},
   "source": [
    "By [Amy O'Kruk](https://twitter.com/amyokruk)"
   ]
  },
  {
   "cell_type": "markdown",
   "metadata": {},
   "source": [
    "Downloads data on vaccine doses administered by county and statewide from a Tableau-powered dashboard from the California Department of Public Health."
   ]
  },
  {
   "cell_type": "code",
   "execution_count": 1,
   "metadata": {
    "execution": {
     "iopub.execute_input": "2021-03-18T11:45:02.080524Z",
     "iopub.status.busy": "2021-03-18T11:45:02.079839Z",
     "iopub.status.idle": "2021-03-18T11:45:02.693345Z",
     "shell.execute_reply": "2021-03-18T11:45:02.692361Z"
    }
   },
   "outputs": [],
   "source": [
    "import pandas as pd\n",
    "import requests\n",
    "from bs4 import BeautifulSoup\n",
    "import json\n",
    "import re\n",
    "import time\n",
    "from time import gmtime, strftime \n",
    "import os\n",
    "import pytz\n",
    "from datetime import datetime"
   ]
  },
  {
   "cell_type": "markdown",
   "metadata": {},
   "source": [
    "Scrape the dashboard page"
   ]
  },
  {
   "cell_type": "code",
   "execution_count": 2,
   "metadata": {
    "execution": {
     "iopub.execute_input": "2021-03-18T11:45:02.699145Z",
     "iopub.status.busy": "2021-03-18T11:45:02.696935Z",
     "iopub.status.idle": "2021-03-18T11:45:03.563832Z",
     "shell.execute_reply": "2021-03-18T11:45:03.563033Z"
    }
   },
   "outputs": [],
   "source": [
    "url = \"https://public.tableau.com/interactive/views/COVID-19VaccineDashboardPublic/Vaccine?:embed=y&:showVizHome=n&:apiID=host0\"\n",
    "\n",
    "r = requests.get(url)\n",
    "soup = BeautifulSoup(r.text, \"html.parser\")"
   ]
  },
  {
   "cell_type": "code",
   "execution_count": 3,
   "metadata": {
    "execution": {
     "iopub.execute_input": "2021-03-18T11:45:03.568835Z",
     "iopub.status.busy": "2021-03-18T11:45:03.568314Z",
     "iopub.status.idle": "2021-03-18T11:45:03.571707Z",
     "shell.execute_reply": "2021-03-18T11:45:03.571250Z"
    }
   },
   "outputs": [],
   "source": [
    "tableauData = json.loads(soup.find(\"textarea\",{\"id\": \"tsConfigContainer\"}).text)"
   ]
  },
  {
   "cell_type": "markdown",
   "metadata": {},
   "source": [
    "Get the link to the Tableau data"
   ]
  },
  {
   "cell_type": "code",
   "execution_count": 4,
   "metadata": {
    "execution": {
     "iopub.execute_input": "2021-03-18T11:45:03.575492Z",
     "iopub.status.busy": "2021-03-18T11:45:03.574637Z",
     "iopub.status.idle": "2021-03-18T11:45:03.576226Z",
     "shell.execute_reply": "2021-03-18T11:45:03.576625Z"
    }
   },
   "outputs": [],
   "source": [
    "dataUrl = f'https://public.tableau.com{tableauData[\"vizql_root\"]}/bootstrapSession/sessions/{tableauData[\"sessionid\"]}'"
   ]
  },
  {
   "cell_type": "code",
   "execution_count": 5,
   "metadata": {
    "execution": {
     "iopub.execute_input": "2021-03-18T11:45:03.582808Z",
     "iopub.status.busy": "2021-03-18T11:45:03.582286Z",
     "iopub.status.idle": "2021-03-18T11:45:03.882399Z",
     "shell.execute_reply": "2021-03-18T11:45:03.881507Z"
    }
   },
   "outputs": [],
   "source": [
    "r = requests.post(dataUrl, data= {\n",
    "    \"sheet_id\": tableauData[\"sheetId\"],\n",
    "})\n",
    "\n",
    "dataReg = re.search('\\d+;({.*})\\d+;({.*})', r.text, re.MULTILINE)\n",
    "data1 = json.loads(dataReg.group(2))\n",
    "\n",
    "dataJson = data1[\"secondaryInfo\"][\"presModelMap\"][\"dataDictionary\"][\"presModelHolder\"][\"genDataDictionaryPresModel\"][\"dataSegments\"][\"0\"][\"dataColumns\"]"
   ]
  },
  {
   "cell_type": "markdown",
   "metadata": {},
   "source": [
    "Isolate what you want"
   ]
  },
  {
   "cell_type": "code",
   "execution_count": 6,
   "metadata": {
    "execution": {
     "iopub.execute_input": "2021-03-18T11:45:03.887106Z",
     "iopub.status.busy": "2021-03-18T11:45:03.885989Z",
     "iopub.status.idle": "2021-03-18T11:45:03.887695Z",
     "shell.execute_reply": "2021-03-18T11:45:03.888140Z"
    }
   },
   "outputs": [],
   "source": [
    "counties = dataJson[2]['dataValues'][:58]"
   ]
  },
  {
   "cell_type": "code",
   "execution_count": 7,
   "metadata": {
    "execution": {
     "iopub.execute_input": "2021-03-18T11:45:03.892285Z",
     "iopub.status.busy": "2021-03-18T11:45:03.891127Z",
     "iopub.status.idle": "2021-03-18T11:45:03.892887Z",
     "shell.execute_reply": "2021-03-18T11:45:03.893309Z"
    }
   },
   "outputs": [],
   "source": [
    "doses = dataJson[0]['dataValues'][3:61]"
   ]
  },
  {
   "cell_type": "markdown",
   "metadata": {},
   "source": [
    "Data formatting"
   ]
  },
  {
   "cell_type": "code",
   "execution_count": 8,
   "metadata": {
    "execution": {
     "iopub.execute_input": "2021-03-18T11:45:03.897231Z",
     "iopub.status.busy": "2021-03-18T11:45:03.896336Z",
     "iopub.status.idle": "2021-03-18T11:45:03.898179Z",
     "shell.execute_reply": "2021-03-18T11:45:03.898574Z"
    }
   },
   "outputs": [],
   "source": [
    "zipped = dict(zip(counties, doses))"
   ]
  },
  {
   "cell_type": "code",
   "execution_count": 9,
   "metadata": {
    "execution": {
     "iopub.execute_input": "2021-03-18T11:45:03.904841Z",
     "iopub.status.busy": "2021-03-18T11:45:03.903755Z",
     "iopub.status.idle": "2021-03-18T11:45:03.906040Z",
     "shell.execute_reply": "2021-03-18T11:45:03.905594Z"
    }
   },
   "outputs": [],
   "source": [
    "df = pd.Series(zipped).reset_index()"
   ]
  },
  {
   "cell_type": "code",
   "execution_count": 10,
   "metadata": {
    "execution": {
     "iopub.execute_input": "2021-03-18T11:45:03.909943Z",
     "iopub.status.busy": "2021-03-18T11:45:03.909098Z",
     "iopub.status.idle": "2021-03-18T11:45:03.910770Z",
     "shell.execute_reply": "2021-03-18T11:45:03.911166Z"
    }
   },
   "outputs": [],
   "source": [
    "df.columns = ['location','doses']"
   ]
  },
  {
   "cell_type": "markdown",
   "metadata": {},
   "source": [
    "Grab the overall California total"
   ]
  },
  {
   "cell_type": "code",
   "execution_count": 11,
   "metadata": {
    "execution": {
     "iopub.execute_input": "2021-03-18T11:45:03.915570Z",
     "iopub.status.busy": "2021-03-18T11:45:03.914444Z",
     "iopub.status.idle": "2021-03-18T11:45:03.916233Z",
     "shell.execute_reply": "2021-03-18T11:45:03.916655Z"
    }
   },
   "outputs": [],
   "source": [
    "add = {'location':'California','doses':dataJson[0]['dataValues'][2]}"
   ]
  },
  {
   "cell_type": "code",
   "execution_count": 12,
   "metadata": {
    "execution": {
     "iopub.execute_input": "2021-03-18T11:45:03.923391Z",
     "iopub.status.busy": "2021-03-18T11:45:03.922254Z",
     "iopub.status.idle": "2021-03-18T11:45:03.924000Z",
     "shell.execute_reply": "2021-03-18T11:45:03.924433Z"
    }
   },
   "outputs": [],
   "source": [
    "df = df.append(add, ignore_index=True)"
   ]
  },
  {
   "cell_type": "code",
   "execution_count": 13,
   "metadata": {
    "execution": {
     "iopub.execute_input": "2021-03-18T11:45:03.929217Z",
     "iopub.status.busy": "2021-03-18T11:45:03.928132Z",
     "iopub.status.idle": "2021-03-18T11:45:03.929811Z",
     "shell.execute_reply": "2021-03-18T11:45:03.930233Z"
    }
   },
   "outputs": [],
   "source": [
    "df = df.sort_values(by='location')"
   ]
  },
  {
   "cell_type": "code",
   "execution_count": 14,
   "metadata": {
    "execution": {
     "iopub.execute_input": "2021-03-18T11:45:03.935844Z",
     "iopub.status.busy": "2021-03-18T11:45:03.935335Z",
     "iopub.status.idle": "2021-03-18T11:45:03.938752Z",
     "shell.execute_reply": "2021-03-18T11:45:03.938304Z"
    }
   },
   "outputs": [],
   "source": [
    "df = df[df.location == 'California'].append(df[df.location != 'California']).reset_index(drop=True)"
   ]
  },
  {
   "cell_type": "code",
   "execution_count": null,
   "metadata": {},
   "outputs": [],
   "source": []
  },
  {
   "cell_type": "code",
   "execution_count": 15,
   "metadata": {
    "execution": {
     "iopub.execute_input": "2021-03-18T11:45:03.942116Z",
     "iopub.status.busy": "2021-03-18T11:45:03.941609Z",
     "iopub.status.idle": "2021-03-18T11:45:03.959919Z",
     "shell.execute_reply": "2021-03-18T11:45:03.959401Z"
    }
   },
   "outputs": [],
   "source": [
    "tz = pytz.timezone(\"America/New_York\")"
   ]
  },
  {
   "cell_type": "code",
   "execution_count": 16,
   "metadata": {
    "execution": {
     "iopub.execute_input": "2021-03-18T11:45:03.963676Z",
     "iopub.status.busy": "2021-03-18T11:45:03.963211Z",
     "iopub.status.idle": "2021-03-18T11:45:03.966652Z",
     "shell.execute_reply": "2021-03-18T11:45:03.966225Z"
    }
   },
   "outputs": [],
   "source": [
    "today = datetime.now(tz).date()"
   ]
  },
  {
   "cell_type": "code",
   "execution_count": 17,
   "metadata": {
    "execution": {
     "iopub.execute_input": "2021-03-18T11:45:03.970146Z",
     "iopub.status.busy": "2021-03-18T11:45:03.969624Z",
     "iopub.status.idle": "2021-03-18T11:45:03.972516Z",
     "shell.execute_reply": "2021-03-18T11:45:03.972904Z"
    }
   },
   "outputs": [],
   "source": [
    "data_dir = os.path.join(os.path.abspath(\"\"), \"data\")"
   ]
  },
  {
   "cell_type": "code",
   "execution_count": 18,
   "metadata": {
    "execution": {
     "iopub.execute_input": "2021-03-18T11:45:03.977799Z",
     "iopub.status.busy": "2021-03-18T11:45:03.976645Z",
     "iopub.status.idle": "2021-03-18T11:45:03.981007Z",
     "shell.execute_reply": "2021-03-18T11:45:03.980587Z"
    }
   },
   "outputs": [],
   "source": [
    "df.to_csv(os.path.join(data_dir, f\"{today}.csv\"), index=False)"
   ]
  },
  {
   "cell_type": "code",
   "execution_count": null,
   "metadata": {},
   "outputs": [],
   "source": []
  }
 ],
 "metadata": {
  "kernelspec": {
   "display_name": "Python 3",
   "language": "python",
   "name": "python3"
  },
  "language_info": {
   "codemirror_mode": {
    "name": "ipython",
    "version": 3
   },
   "file_extension": ".py",
   "mimetype": "text/x-python",
   "name": "python",
   "nbconvert_exporter": "python",
   "pygments_lexer": "ipython3",
   "version": "3.8.8"
  }
 },
 "nbformat": 4,
 "nbformat_minor": 4
}
