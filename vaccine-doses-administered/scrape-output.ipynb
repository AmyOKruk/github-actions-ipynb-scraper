{
 "cells": [
  {
   "cell_type": "markdown",
   "metadata": {},
   "source": [
    "# California COVID vaccinations scrape"
   ]
  },
  {
   "cell_type": "markdown",
   "metadata": {},
   "source": [
    "By [Amy O'Kruk](https://twitter.com/amyokruk)"
   ]
  },
  {
   "cell_type": "markdown",
   "metadata": {},
   "source": [
    "Downloads data on vaccine doses administered by county and statewide from a Tableau-powered dashboard from the California Department of Public Health."
   ]
  },
  {
   "cell_type": "code",
   "execution_count": 1,
   "metadata": {
    "execution": {
     "iopub.execute_input": "2021-03-13T21:41:17.369721Z",
     "iopub.status.busy": "2021-03-13T21:41:17.369089Z",
     "iopub.status.idle": "2021-03-13T21:41:17.767622Z",
     "shell.execute_reply": "2021-03-13T21:41:17.766524Z"
    }
   },
   "outputs": [],
   "source": [
    "import pandas as pd\n",
    "import requests\n",
    "from bs4 import BeautifulSoup\n",
    "import json\n",
    "import re\n",
    "import time\n",
    "from time import gmtime, strftime \n",
    "import os\n",
    "import pytz\n",
    "from datetime import datetime"
   ]
  },
  {
   "cell_type": "markdown",
   "metadata": {},
   "source": [
    "Scrape the dashboard page"
   ]
  },
  {
   "cell_type": "code",
   "execution_count": 2,
   "metadata": {
    "execution": {
     "iopub.execute_input": "2021-03-13T21:41:17.772214Z",
     "iopub.status.busy": "2021-03-13T21:41:17.771545Z",
     "iopub.status.idle": "2021-03-13T21:41:18.205734Z",
     "shell.execute_reply": "2021-03-13T21:41:18.204766Z"
    }
   },
   "outputs": [],
   "source": [
    "url = \"https://public.tableau.com/interactive/views/COVID-19VaccineDashboardPublic/Vaccine?:embed=y&:showVizHome=n&:apiID=host0\"\n",
    "\n",
    "r = requests.get(url)\n",
    "soup = BeautifulSoup(r.text, \"html.parser\")"
   ]
  },
  {
   "cell_type": "code",
   "execution_count": 3,
   "metadata": {
    "execution": {
     "iopub.execute_input": "2021-03-13T21:41:18.211101Z",
     "iopub.status.busy": "2021-03-13T21:41:18.210457Z",
     "iopub.status.idle": "2021-03-13T21:41:18.213966Z",
     "shell.execute_reply": "2021-03-13T21:41:18.214412Z"
    }
   },
   "outputs": [],
   "source": [
    "tableauData = json.loads(soup.find(\"textarea\",{\"id\": \"tsConfigContainer\"}).text)"
   ]
  },
  {
   "cell_type": "markdown",
   "metadata": {},
   "source": [
    "Get the link to the Tableau data"
   ]
  },
  {
   "cell_type": "code",
   "execution_count": 4,
   "metadata": {
    "execution": {
     "iopub.execute_input": "2021-03-13T21:41:18.217948Z",
     "iopub.status.busy": "2021-03-13T21:41:18.217454Z",
     "iopub.status.idle": "2021-03-13T21:41:18.220654Z",
     "shell.execute_reply": "2021-03-13T21:41:18.221104Z"
    }
   },
   "outputs": [],
   "source": [
    "dataUrl = f'https://public.tableau.com{tableauData[\"vizql_root\"]}/bootstrapSession/sessions/{tableauData[\"sessionid\"]}'"
   ]
  },
  {
   "cell_type": "code",
   "execution_count": 5,
   "metadata": {
    "execution": {
     "iopub.execute_input": "2021-03-13T21:41:18.227850Z",
     "iopub.status.busy": "2021-03-13T21:41:18.227290Z",
     "iopub.status.idle": "2021-03-13T21:41:18.458131Z",
     "shell.execute_reply": "2021-03-13T21:41:18.457493Z"
    }
   },
   "outputs": [],
   "source": [
    "r = requests.post(dataUrl, data= {\n",
    "    \"sheet_id\": tableauData[\"sheetId\"],\n",
    "})\n",
    "\n",
    "dataReg = re.search('\\d+;({.*})\\d+;({.*})', r.text, re.MULTILINE)\n",
    "data1 = json.loads(dataReg.group(2))\n",
    "\n",
    "dataJson = data1[\"secondaryInfo\"][\"presModelMap\"][\"dataDictionary\"][\"presModelHolder\"][\"genDataDictionaryPresModel\"][\"dataSegments\"][\"0\"][\"dataColumns\"]"
   ]
  },
  {
   "cell_type": "markdown",
   "metadata": {},
   "source": [
    "Isolate what you want"
   ]
  },
  {
   "cell_type": "code",
   "execution_count": 6,
   "metadata": {
    "execution": {
     "iopub.execute_input": "2021-03-13T21:41:18.463350Z",
     "iopub.status.busy": "2021-03-13T21:41:18.462033Z",
     "iopub.status.idle": "2021-03-13T21:41:18.464042Z",
     "shell.execute_reply": "2021-03-13T21:41:18.464631Z"
    }
   },
   "outputs": [],
   "source": [
    "counties = dataJson[2]['dataValues'][:58]"
   ]
  },
  {
   "cell_type": "code",
   "execution_count": 7,
   "metadata": {
    "execution": {
     "iopub.execute_input": "2021-03-13T21:41:18.469527Z",
     "iopub.status.busy": "2021-03-13T21:41:18.468101Z",
     "iopub.status.idle": "2021-03-13T21:41:18.470214Z",
     "shell.execute_reply": "2021-03-13T21:41:18.470719Z"
    }
   },
   "outputs": [],
   "source": [
    "doses = dataJson[0]['dataValues'][3:61]"
   ]
  },
  {
   "cell_type": "markdown",
   "metadata": {},
   "source": [
    "Data formatting"
   ]
  },
  {
   "cell_type": "code",
   "execution_count": 8,
   "metadata": {
    "execution": {
     "iopub.execute_input": "2021-03-13T21:41:18.475267Z",
     "iopub.status.busy": "2021-03-13T21:41:18.474218Z",
     "iopub.status.idle": "2021-03-13T21:41:18.476167Z",
     "shell.execute_reply": "2021-03-13T21:41:18.476627Z"
    }
   },
   "outputs": [],
   "source": [
    "zipped = dict(zip(counties, doses))"
   ]
  },
  {
   "cell_type": "code",
   "execution_count": 9,
   "metadata": {
    "execution": {
     "iopub.execute_input": "2021-03-13T21:41:18.483563Z",
     "iopub.status.busy": "2021-03-13T21:41:18.482258Z",
     "iopub.status.idle": "2021-03-13T21:41:18.484298Z",
     "shell.execute_reply": "2021-03-13T21:41:18.484871Z"
    }
   },
   "outputs": [],
   "source": [
    "df = pd.Series(zipped).reset_index()"
   ]
  },
  {
   "cell_type": "code",
   "execution_count": 10,
   "metadata": {
    "execution": {
     "iopub.execute_input": "2021-03-13T21:41:18.489999Z",
     "iopub.status.busy": "2021-03-13T21:41:18.488619Z",
     "iopub.status.idle": "2021-03-13T21:41:18.490742Z",
     "shell.execute_reply": "2021-03-13T21:41:18.491209Z"
    }
   },
   "outputs": [],
   "source": [
    "df.columns = ['location','doses']"
   ]
  },
  {
   "cell_type": "markdown",
   "metadata": {},
   "source": [
    "Grab the overall California total"
   ]
  },
  {
   "cell_type": "code",
   "execution_count": 11,
   "metadata": {
    "execution": {
     "iopub.execute_input": "2021-03-13T21:41:18.495978Z",
     "iopub.status.busy": "2021-03-13T21:41:18.494662Z",
     "iopub.status.idle": "2021-03-13T21:41:18.496675Z",
     "shell.execute_reply": "2021-03-13T21:41:18.497097Z"
    }
   },
   "outputs": [],
   "source": [
    "add = {'location':'California','doses':dataJson[0]['dataValues'][2]}"
   ]
  },
  {
   "cell_type": "code",
   "execution_count": 12,
   "metadata": {
    "execution": {
     "iopub.execute_input": "2021-03-13T21:41:18.505271Z",
     "iopub.status.busy": "2021-03-13T21:41:18.503704Z",
     "iopub.status.idle": "2021-03-13T21:41:18.505913Z",
     "shell.execute_reply": "2021-03-13T21:41:18.506350Z"
    }
   },
   "outputs": [],
   "source": [
    "df = df.append(add, ignore_index=True)"
   ]
  },
  {
   "cell_type": "code",
   "execution_count": 13,
   "metadata": {
    "execution": {
     "iopub.execute_input": "2021-03-13T21:41:18.511145Z",
     "iopub.status.busy": "2021-03-13T21:41:18.510224Z",
     "iopub.status.idle": "2021-03-13T21:41:18.512019Z",
     "shell.execute_reply": "2021-03-13T21:41:18.512512Z"
    }
   },
   "outputs": [],
   "source": [
    "df = df.sort_values(by='location')"
   ]
  },
  {
   "cell_type": "code",
   "execution_count": 14,
   "metadata": {
    "execution": {
     "iopub.execute_input": "2021-03-13T21:41:18.521484Z",
     "iopub.status.busy": "2021-03-13T21:41:18.518651Z",
     "iopub.status.idle": "2021-03-13T21:41:18.522558Z",
     "shell.execute_reply": "2021-03-13T21:41:18.523205Z"
    }
   },
   "outputs": [],
   "source": [
    "df = df[df.location == 'California'].append(df[df.location != 'California']).reset_index(drop=True)"
   ]
  },
  {
   "cell_type": "code",
   "execution_count": null,
   "metadata": {},
   "outputs": [],
   "source": []
  },
  {
   "cell_type": "code",
   "execution_count": 15,
   "metadata": {
    "execution": {
     "iopub.execute_input": "2021-03-13T21:41:18.527589Z",
     "iopub.status.busy": "2021-03-13T21:41:18.526895Z",
     "iopub.status.idle": "2021-03-13T21:41:18.545858Z",
     "shell.execute_reply": "2021-03-13T21:41:18.545374Z"
    }
   },
   "outputs": [],
   "source": [
    "tz = pytz.timezone(\"America/New_York\")"
   ]
  },
  {
   "cell_type": "code",
   "execution_count": 16,
   "metadata": {
    "execution": {
     "iopub.execute_input": "2021-03-13T21:41:18.550714Z",
     "iopub.status.busy": "2021-03-13T21:41:18.549279Z",
     "iopub.status.idle": "2021-03-13T21:41:18.551378Z",
     "shell.execute_reply": "2021-03-13T21:41:18.551833Z"
    }
   },
   "outputs": [],
   "source": [
    "today = datetime.now(tz).date()"
   ]
  },
  {
   "cell_type": "code",
   "execution_count": 17,
   "metadata": {
    "execution": {
     "iopub.execute_input": "2021-03-13T21:41:18.565678Z",
     "iopub.status.busy": "2021-03-13T21:41:18.564021Z",
     "iopub.status.idle": "2021-03-13T21:41:18.566496Z",
     "shell.execute_reply": "2021-03-13T21:41:18.567076Z"
    }
   },
   "outputs": [],
   "source": [
    "data_dir = os.path.join(os.path.abspath(\"\"), \"data\")"
   ]
  },
  {
   "cell_type": "code",
   "execution_count": 18,
   "metadata": {
    "execution": {
     "iopub.execute_input": "2021-03-13T21:41:18.574000Z",
     "iopub.status.busy": "2021-03-13T21:41:18.571309Z",
     "iopub.status.idle": "2021-03-13T21:41:18.576093Z",
     "shell.execute_reply": "2021-03-13T21:41:18.576603Z"
    }
   },
   "outputs": [],
   "source": [
    "df.to_csv(os.path.join(data_dir, f\"{today}.csv\"), index=False)"
   ]
  },
  {
   "cell_type": "code",
   "execution_count": null,
   "metadata": {},
   "outputs": [],
   "source": []
  }
 ],
 "metadata": {
  "kernelspec": {
   "display_name": "Python 3",
   "language": "python",
   "name": "python3"
  },
  "language_info": {
   "codemirror_mode": {
    "name": "ipython",
    "version": 3
   },
   "file_extension": ".py",
   "mimetype": "text/x-python",
   "name": "python",
   "nbconvert_exporter": "python",
   "pygments_lexer": "ipython3",
   "version": "3.8.8"
  }
 },
 "nbformat": 4,
 "nbformat_minor": 4
}
