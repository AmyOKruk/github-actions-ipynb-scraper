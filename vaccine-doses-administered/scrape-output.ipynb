{
 "cells": [
  {
   "cell_type": "markdown",
   "metadata": {},
   "source": [
    "# California COVID vaccinations scrape"
   ]
  },
  {
   "cell_type": "markdown",
   "metadata": {},
   "source": [
    "By [Amy O'Kruk](https://twitter.com/amyokruk)"
   ]
  },
  {
   "cell_type": "markdown",
   "metadata": {},
   "source": [
    "Downloads data on vaccine doses administered by county and statewide from a Tableau-powered dashboard from the California Department of Public Health."
   ]
  },
  {
   "cell_type": "code",
   "execution_count": 1,
   "metadata": {
    "execution": {
     "iopub.execute_input": "2021-03-14T11:12:07.024940Z",
     "iopub.status.busy": "2021-03-14T11:12:07.024206Z",
     "iopub.status.idle": "2021-03-14T11:12:07.433340Z",
     "shell.execute_reply": "2021-03-14T11:12:07.432698Z"
    }
   },
   "outputs": [],
   "source": [
    "import pandas as pd\n",
    "import requests\n",
    "from bs4 import BeautifulSoup\n",
    "import json\n",
    "import re\n",
    "import time\n",
    "from time import gmtime, strftime \n",
    "import os\n",
    "import pytz\n",
    "from datetime import datetime"
   ]
  },
  {
   "cell_type": "markdown",
   "metadata": {},
   "source": [
    "Scrape the dashboard page"
   ]
  },
  {
   "cell_type": "code",
   "execution_count": 2,
   "metadata": {
    "execution": {
     "iopub.execute_input": "2021-03-14T11:12:07.439481Z",
     "iopub.status.busy": "2021-03-14T11:12:07.437006Z",
     "iopub.status.idle": "2021-03-14T11:12:08.079207Z",
     "shell.execute_reply": "2021-03-14T11:12:08.079780Z"
    }
   },
   "outputs": [],
   "source": [
    "url = \"https://public.tableau.com/interactive/views/COVID-19VaccineDashboardPublic/Vaccine?:embed=y&:showVizHome=n&:apiID=host0\"\n",
    "\n",
    "r = requests.get(url)\n",
    "soup = BeautifulSoup(r.text, \"html.parser\")"
   ]
  },
  {
   "cell_type": "code",
   "execution_count": 3,
   "metadata": {
    "execution": {
     "iopub.execute_input": "2021-03-14T11:12:08.085117Z",
     "iopub.status.busy": "2021-03-14T11:12:08.084536Z",
     "iopub.status.idle": "2021-03-14T11:12:08.088862Z",
     "shell.execute_reply": "2021-03-14T11:12:08.087949Z"
    }
   },
   "outputs": [],
   "source": [
    "tableauData = json.loads(soup.find(\"textarea\",{\"id\": \"tsConfigContainer\"}).text)"
   ]
  },
  {
   "cell_type": "markdown",
   "metadata": {},
   "source": [
    "Get the link to the Tableau data"
   ]
  },
  {
   "cell_type": "code",
   "execution_count": 4,
   "metadata": {
    "execution": {
     "iopub.execute_input": "2021-03-14T11:12:08.093410Z",
     "iopub.status.busy": "2021-03-14T11:12:08.092032Z",
     "iopub.status.idle": "2021-03-14T11:12:08.094045Z",
     "shell.execute_reply": "2021-03-14T11:12:08.094548Z"
    }
   },
   "outputs": [],
   "source": [
    "dataUrl = f'https://public.tableau.com{tableauData[\"vizql_root\"]}/bootstrapSession/sessions/{tableauData[\"sessionid\"]}'"
   ]
  },
  {
   "cell_type": "code",
   "execution_count": 5,
   "metadata": {
    "execution": {
     "iopub.execute_input": "2021-03-14T11:12:08.101113Z",
     "iopub.status.busy": "2021-03-14T11:12:08.100529Z",
     "iopub.status.idle": "2021-03-14T11:12:08.331061Z",
     "shell.execute_reply": "2021-03-14T11:12:08.330347Z"
    }
   },
   "outputs": [],
   "source": [
    "r = requests.post(dataUrl, data= {\n",
    "    \"sheet_id\": tableauData[\"sheetId\"],\n",
    "})\n",
    "\n",
    "dataReg = re.search('\\d+;({.*})\\d+;({.*})', r.text, re.MULTILINE)\n",
    "data1 = json.loads(dataReg.group(2))\n",
    "\n",
    "dataJson = data1[\"secondaryInfo\"][\"presModelMap\"][\"dataDictionary\"][\"presModelHolder\"][\"genDataDictionaryPresModel\"][\"dataSegments\"][\"0\"][\"dataColumns\"]"
   ]
  },
  {
   "cell_type": "markdown",
   "metadata": {},
   "source": [
    "Isolate what you want"
   ]
  },
  {
   "cell_type": "code",
   "execution_count": 6,
   "metadata": {
    "execution": {
     "iopub.execute_input": "2021-03-14T11:12:08.336373Z",
     "iopub.status.busy": "2021-03-14T11:12:08.334849Z",
     "iopub.status.idle": "2021-03-14T11:12:08.337060Z",
     "shell.execute_reply": "2021-03-14T11:12:08.337584Z"
    }
   },
   "outputs": [],
   "source": [
    "counties = dataJson[2]['dataValues'][:58]"
   ]
  },
  {
   "cell_type": "code",
   "execution_count": 7,
   "metadata": {
    "execution": {
     "iopub.execute_input": "2021-03-14T11:12:08.342696Z",
     "iopub.status.busy": "2021-03-14T11:12:08.341117Z",
     "iopub.status.idle": "2021-03-14T11:12:08.343377Z",
     "shell.execute_reply": "2021-03-14T11:12:08.343896Z"
    }
   },
   "outputs": [],
   "source": [
    "doses = dataJson[0]['dataValues'][3:61]"
   ]
  },
  {
   "cell_type": "markdown",
   "metadata": {},
   "source": [
    "Data formatting"
   ]
  },
  {
   "cell_type": "code",
   "execution_count": 8,
   "metadata": {
    "execution": {
     "iopub.execute_input": "2021-03-14T11:12:08.348933Z",
     "iopub.status.busy": "2021-03-14T11:12:08.347470Z",
     "iopub.status.idle": "2021-03-14T11:12:08.349619Z",
     "shell.execute_reply": "2021-03-14T11:12:08.350138Z"
    }
   },
   "outputs": [],
   "source": [
    "zipped = dict(zip(counties, doses))"
   ]
  },
  {
   "cell_type": "code",
   "execution_count": 9,
   "metadata": {
    "execution": {
     "iopub.execute_input": "2021-03-14T11:12:08.357592Z",
     "iopub.status.busy": "2021-03-14T11:12:08.356085Z",
     "iopub.status.idle": "2021-03-14T11:12:08.358267Z",
     "shell.execute_reply": "2021-03-14T11:12:08.358828Z"
    }
   },
   "outputs": [],
   "source": [
    "df = pd.Series(zipped).reset_index()"
   ]
  },
  {
   "cell_type": "code",
   "execution_count": 10,
   "metadata": {
    "execution": {
     "iopub.execute_input": "2021-03-14T11:12:08.364525Z",
     "iopub.status.busy": "2021-03-14T11:12:08.363051Z",
     "iopub.status.idle": "2021-03-14T11:12:08.365204Z",
     "shell.execute_reply": "2021-03-14T11:12:08.365714Z"
    }
   },
   "outputs": [],
   "source": [
    "df.columns = ['location','doses']"
   ]
  },
  {
   "cell_type": "markdown",
   "metadata": {},
   "source": [
    "Grab the overall California total"
   ]
  },
  {
   "cell_type": "code",
   "execution_count": 11,
   "metadata": {
    "execution": {
     "iopub.execute_input": "2021-03-14T11:12:08.370489Z",
     "iopub.status.busy": "2021-03-14T11:12:08.369168Z",
     "iopub.status.idle": "2021-03-14T11:12:08.371175Z",
     "shell.execute_reply": "2021-03-14T11:12:08.371684Z"
    }
   },
   "outputs": [],
   "source": [
    "add = {'location':'California','doses':dataJson[0]['dataValues'][2]}"
   ]
  },
  {
   "cell_type": "code",
   "execution_count": 12,
   "metadata": {
    "execution": {
     "iopub.execute_input": "2021-03-14T11:12:08.378453Z",
     "iopub.status.busy": "2021-03-14T11:12:08.377842Z",
     "iopub.status.idle": "2021-03-14T11:12:08.380626Z",
     "shell.execute_reply": "2021-03-14T11:12:08.380112Z"
    }
   },
   "outputs": [],
   "source": [
    "df = df.append(add, ignore_index=True)"
   ]
  },
  {
   "cell_type": "code",
   "execution_count": 13,
   "metadata": {
    "execution": {
     "iopub.execute_input": "2021-03-14T11:12:08.386116Z",
     "iopub.status.busy": "2021-03-14T11:12:08.384664Z",
     "iopub.status.idle": "2021-03-14T11:12:08.386813Z",
     "shell.execute_reply": "2021-03-14T11:12:08.387315Z"
    }
   },
   "outputs": [],
   "source": [
    "df = df.sort_values(by='location')"
   ]
  },
  {
   "cell_type": "code",
   "execution_count": 14,
   "metadata": {
    "execution": {
     "iopub.execute_input": "2021-03-14T11:12:08.394366Z",
     "iopub.status.busy": "2021-03-14T11:12:08.393085Z",
     "iopub.status.idle": "2021-03-14T11:12:08.395042Z",
     "shell.execute_reply": "2021-03-14T11:12:08.395536Z"
    }
   },
   "outputs": [],
   "source": [
    "df = df[df.location == 'California'].append(df[df.location != 'California']).reset_index(drop=True)"
   ]
  },
  {
   "cell_type": "code",
   "execution_count": null,
   "metadata": {},
   "outputs": [],
   "source": []
  },
  {
   "cell_type": "code",
   "execution_count": 15,
   "metadata": {
    "execution": {
     "iopub.execute_input": "2021-03-14T11:12:08.399111Z",
     "iopub.status.busy": "2021-03-14T11:12:08.398500Z",
     "iopub.status.idle": "2021-03-14T11:12:08.417529Z",
     "shell.execute_reply": "2021-03-14T11:12:08.417991Z"
    }
   },
   "outputs": [],
   "source": [
    "tz = pytz.timezone(\"America/New_York\")"
   ]
  },
  {
   "cell_type": "code",
   "execution_count": 16,
   "metadata": {
    "execution": {
     "iopub.execute_input": "2021-03-14T11:12:08.422633Z",
     "iopub.status.busy": "2021-03-14T11:12:08.421213Z",
     "iopub.status.idle": "2021-03-14T11:12:08.424003Z",
     "shell.execute_reply": "2021-03-14T11:12:08.424510Z"
    }
   },
   "outputs": [],
   "source": [
    "today = datetime.now(tz).date()"
   ]
  },
  {
   "cell_type": "code",
   "execution_count": 17,
   "metadata": {
    "execution": {
     "iopub.execute_input": "2021-03-14T11:12:08.429172Z",
     "iopub.status.busy": "2021-03-14T11:12:08.427831Z",
     "iopub.status.idle": "2021-03-14T11:12:08.429810Z",
     "shell.execute_reply": "2021-03-14T11:12:08.430296Z"
    }
   },
   "outputs": [],
   "source": [
    "data_dir = os.path.join(os.path.abspath(\"\"), \"data\")"
   ]
  },
  {
   "cell_type": "code",
   "execution_count": 18,
   "metadata": {
    "execution": {
     "iopub.execute_input": "2021-03-14T11:12:08.434242Z",
     "iopub.status.busy": "2021-03-14T11:12:08.433651Z",
     "iopub.status.idle": "2021-03-14T11:12:08.437803Z",
     "shell.execute_reply": "2021-03-14T11:12:08.438352Z"
    }
   },
   "outputs": [],
   "source": [
    "df.to_csv(os.path.join(data_dir, f\"{today}.csv\"), index=False)"
   ]
  },
  {
   "cell_type": "code",
   "execution_count": null,
   "metadata": {},
   "outputs": [],
   "source": []
  }
 ],
 "metadata": {
  "kernelspec": {
   "display_name": "Python 3",
   "language": "python",
   "name": "python3"
  },
  "language_info": {
   "codemirror_mode": {
    "name": "ipython",
    "version": 3
   },
   "file_extension": ".py",
   "mimetype": "text/x-python",
   "name": "python",
   "nbconvert_exporter": "python",
   "pygments_lexer": "ipython3",
   "version": "3.8.8"
  }
 },
 "nbformat": 4,
 "nbformat_minor": 4
}
