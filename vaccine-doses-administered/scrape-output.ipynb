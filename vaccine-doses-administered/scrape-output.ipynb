{
 "cells": [
  {
   "cell_type": "markdown",
   "metadata": {},
   "source": [
    "# California COVID vaccinations scrape"
   ]
  },
  {
   "cell_type": "markdown",
   "metadata": {},
   "source": [
    "By [Amy O'Kruk](https://twitter.com/amyokruk)"
   ]
  },
  {
   "cell_type": "markdown",
   "metadata": {},
   "source": [
    "Downloads data on vaccine doses administered by county and statewide from a Tableau-powered dashboard from the California Department of Public Health."
   ]
  },
  {
   "cell_type": "code",
   "execution_count": 1,
   "metadata": {
    "execution": {
     "iopub.execute_input": "2021-03-12T05:42:50.717298Z",
     "iopub.status.busy": "2021-03-12T05:42:50.716653Z",
     "iopub.status.idle": "2021-03-12T05:42:51.142501Z",
     "shell.execute_reply": "2021-03-12T05:42:51.141520Z"
    }
   },
   "outputs": [],
   "source": [
    "import pandas as pd\n",
    "import requests\n",
    "from bs4 import BeautifulSoup\n",
    "import json\n",
    "import re\n",
    "import time\n",
    "from time import gmtime, strftime \n",
    "import os\n",
    "import pytz\n",
    "from datetime import datetime"
   ]
  },
  {
   "cell_type": "markdown",
   "metadata": {},
   "source": [
    "Scrape the dashboard page"
   ]
  },
  {
   "cell_type": "code",
   "execution_count": 2,
   "metadata": {
    "execution": {
     "iopub.execute_input": "2021-03-12T05:42:51.149435Z",
     "iopub.status.busy": "2021-03-12T05:42:51.146306Z",
     "iopub.status.idle": "2021-03-12T05:42:51.681810Z",
     "shell.execute_reply": "2021-03-12T05:42:51.681282Z"
    }
   },
   "outputs": [],
   "source": [
    "url = \"https://public.tableau.com/interactive/views/COVID-19VaccineDashboardPublic/Vaccine?:embed=y&:showVizHome=n&:apiID=host0\"\n",
    "\n",
    "r = requests.get(url)\n",
    "soup = BeautifulSoup(r.text, \"html.parser\")"
   ]
  },
  {
   "cell_type": "code",
   "execution_count": 3,
   "metadata": {
    "execution": {
     "iopub.execute_input": "2021-03-12T05:42:51.687189Z",
     "iopub.status.busy": "2021-03-12T05:42:51.686537Z",
     "iopub.status.idle": "2021-03-12T05:42:51.690284Z",
     "shell.execute_reply": "2021-03-12T05:42:51.690770Z"
    }
   },
   "outputs": [],
   "source": [
    "tableauData = json.loads(soup.find(\"textarea\",{\"id\": \"tsConfigContainer\"}).text)"
   ]
  },
  {
   "cell_type": "markdown",
   "metadata": {},
   "source": [
    "Get the link to the Tableau data"
   ]
  },
  {
   "cell_type": "code",
   "execution_count": 4,
   "metadata": {
    "execution": {
     "iopub.execute_input": "2021-03-12T05:42:51.694750Z",
     "iopub.status.busy": "2021-03-12T05:42:51.694162Z",
     "iopub.status.idle": "2021-03-12T05:42:51.696890Z",
     "shell.execute_reply": "2021-03-12T05:42:51.696423Z"
    }
   },
   "outputs": [],
   "source": [
    "dataUrl = f'https://public.tableau.com{tableauData[\"vizql_root\"]}/bootstrapSession/sessions/{tableauData[\"sessionid\"]}'"
   ]
  },
  {
   "cell_type": "code",
   "execution_count": 5,
   "metadata": {
    "execution": {
     "iopub.execute_input": "2021-03-12T05:42:51.703476Z",
     "iopub.status.busy": "2021-03-12T05:42:51.702939Z",
     "iopub.status.idle": "2021-03-12T05:42:51.988025Z",
     "shell.execute_reply": "2021-03-12T05:42:51.986777Z"
    }
   },
   "outputs": [],
   "source": [
    "r = requests.post(dataUrl, data= {\n",
    "    \"sheet_id\": tableauData[\"sheetId\"],\n",
    "})\n",
    "\n",
    "dataReg = re.search('\\d+;({.*})\\d+;({.*})', r.text, re.MULTILINE)\n",
    "data1 = json.loads(dataReg.group(2))\n",
    "\n",
    "dataJson = data1[\"secondaryInfo\"][\"presModelMap\"][\"dataDictionary\"][\"presModelHolder\"][\"genDataDictionaryPresModel\"][\"dataSegments\"][\"0\"][\"dataColumns\"]"
   ]
  },
  {
   "cell_type": "markdown",
   "metadata": {},
   "source": [
    "Isolate what you want"
   ]
  },
  {
   "cell_type": "code",
   "execution_count": 6,
   "metadata": {
    "execution": {
     "iopub.execute_input": "2021-03-12T05:42:51.992146Z",
     "iopub.status.busy": "2021-03-12T05:42:51.991492Z",
     "iopub.status.idle": "2021-03-12T05:42:51.995162Z",
     "shell.execute_reply": "2021-03-12T05:42:51.995628Z"
    }
   },
   "outputs": [],
   "source": [
    "counties = dataJson[2]['dataValues'][:58]"
   ]
  },
  {
   "cell_type": "code",
   "execution_count": 7,
   "metadata": {
    "execution": {
     "iopub.execute_input": "2021-03-12T05:42:51.999345Z",
     "iopub.status.busy": "2021-03-12T05:42:51.998787Z",
     "iopub.status.idle": "2021-03-12T05:42:52.003049Z",
     "shell.execute_reply": "2021-03-12T05:42:52.002478Z"
    }
   },
   "outputs": [],
   "source": [
    "doses = dataJson[0]['dataValues'][3:61]"
   ]
  },
  {
   "cell_type": "markdown",
   "metadata": {},
   "source": [
    "Data formatting"
   ]
  },
  {
   "cell_type": "code",
   "execution_count": 8,
   "metadata": {
    "execution": {
     "iopub.execute_input": "2021-03-12T05:42:52.007032Z",
     "iopub.status.busy": "2021-03-12T05:42:52.006375Z",
     "iopub.status.idle": "2021-03-12T05:42:52.010443Z",
     "shell.execute_reply": "2021-03-12T05:42:52.009948Z"
    }
   },
   "outputs": [],
   "source": [
    "zipped = dict(zip(counties, doses))"
   ]
  },
  {
   "cell_type": "code",
   "execution_count": 9,
   "metadata": {
    "execution": {
     "iopub.execute_input": "2021-03-12T05:42:52.017121Z",
     "iopub.status.busy": "2021-03-12T05:42:52.016486Z",
     "iopub.status.idle": "2021-03-12T05:42:52.020381Z",
     "shell.execute_reply": "2021-03-12T05:42:52.019871Z"
    }
   },
   "outputs": [],
   "source": [
    "df = pd.Series(zipped).reset_index()"
   ]
  },
  {
   "cell_type": "code",
   "execution_count": 10,
   "metadata": {
    "execution": {
     "iopub.execute_input": "2021-03-12T05:42:52.024132Z",
     "iopub.status.busy": "2021-03-12T05:42:52.023552Z",
     "iopub.status.idle": "2021-03-12T05:42:52.027487Z",
     "shell.execute_reply": "2021-03-12T05:42:52.027006Z"
    }
   },
   "outputs": [],
   "source": [
    "df.columns = ['location','doses']"
   ]
  },
  {
   "cell_type": "markdown",
   "metadata": {},
   "source": [
    "Grab the overall California total"
   ]
  },
  {
   "cell_type": "code",
   "execution_count": 11,
   "metadata": {
    "execution": {
     "iopub.execute_input": "2021-03-12T05:42:52.031183Z",
     "iopub.status.busy": "2021-03-12T05:42:52.030625Z",
     "iopub.status.idle": "2021-03-12T05:42:52.034651Z",
     "shell.execute_reply": "2021-03-12T05:42:52.034035Z"
    }
   },
   "outputs": [],
   "source": [
    "add = {'location':'California','doses':dataJson[0]['dataValues'][2]}"
   ]
  },
  {
   "cell_type": "code",
   "execution_count": 12,
   "metadata": {
    "execution": {
     "iopub.execute_input": "2021-03-12T05:42:52.041740Z",
     "iopub.status.busy": "2021-03-12T05:42:52.041170Z",
     "iopub.status.idle": "2021-03-12T05:42:52.045023Z",
     "shell.execute_reply": "2021-03-12T05:42:52.044573Z"
    }
   },
   "outputs": [],
   "source": [
    "df = df.append(add, ignore_index=True)"
   ]
  },
  {
   "cell_type": "code",
   "execution_count": 13,
   "metadata": {
    "execution": {
     "iopub.execute_input": "2021-03-12T05:42:52.049808Z",
     "iopub.status.busy": "2021-03-12T05:42:52.049132Z",
     "iopub.status.idle": "2021-03-12T05:42:52.052692Z",
     "shell.execute_reply": "2021-03-12T05:42:52.053168Z"
    }
   },
   "outputs": [],
   "source": [
    "df = df.sort_values(by='location')"
   ]
  },
  {
   "cell_type": "code",
   "execution_count": 14,
   "metadata": {
    "execution": {
     "iopub.execute_input": "2021-03-12T05:42:52.058836Z",
     "iopub.status.busy": "2021-03-12T05:42:52.058279Z",
     "iopub.status.idle": "2021-03-12T05:42:52.061905Z",
     "shell.execute_reply": "2021-03-12T05:42:52.061453Z"
    }
   },
   "outputs": [],
   "source": [
    "df = df[df.location == 'California'].append(df[df.location != 'California']).reset_index(drop=True)"
   ]
  },
  {
   "cell_type": "code",
   "execution_count": null,
   "metadata": {},
   "outputs": [],
   "source": []
  },
  {
   "cell_type": "code",
   "execution_count": 15,
   "metadata": {
    "execution": {
     "iopub.execute_input": "2021-03-12T05:42:52.065785Z",
     "iopub.status.busy": "2021-03-12T05:42:52.064773Z",
     "iopub.status.idle": "2021-03-12T05:42:52.085272Z",
     "shell.execute_reply": "2021-03-12T05:42:52.084823Z"
    }
   },
   "outputs": [],
   "source": [
    "tz = pytz.timezone(\"America/New_York\")"
   ]
  },
  {
   "cell_type": "code",
   "execution_count": 16,
   "metadata": {
    "execution": {
     "iopub.execute_input": "2021-03-12T05:42:52.088757Z",
     "iopub.status.busy": "2021-03-12T05:42:52.088208Z",
     "iopub.status.idle": "2021-03-12T05:42:52.091943Z",
     "shell.execute_reply": "2021-03-12T05:42:52.091280Z"
    }
   },
   "outputs": [],
   "source": [
    "today = datetime.now(tz).date()"
   ]
  },
  {
   "cell_type": "code",
   "execution_count": 17,
   "metadata": {
    "execution": {
     "iopub.execute_input": "2021-03-12T05:42:52.095568Z",
     "iopub.status.busy": "2021-03-12T05:42:52.095018Z",
     "iopub.status.idle": "2021-03-12T05:42:52.099292Z",
     "shell.execute_reply": "2021-03-12T05:42:52.098573Z"
    }
   },
   "outputs": [],
   "source": [
    "data_dir = os.path.join(os.path.abspath(\"\"), \"data\")"
   ]
  },
  {
   "cell_type": "code",
   "execution_count": 18,
   "metadata": {
    "execution": {
     "iopub.execute_input": "2021-03-12T05:42:52.103549Z",
     "iopub.status.busy": "2021-03-12T05:42:52.102779Z",
     "iopub.status.idle": "2021-03-12T05:42:52.108033Z",
     "shell.execute_reply": "2021-03-12T05:42:52.108496Z"
    }
   },
   "outputs": [],
   "source": [
    "df.to_csv(os.path.join(data_dir, f\"{today}.csv\"), index=False)"
   ]
  },
  {
   "cell_type": "code",
   "execution_count": null,
   "metadata": {},
   "outputs": [],
   "source": []
  }
 ],
 "metadata": {
  "kernelspec": {
   "display_name": "Python 3",
   "language": "python",
   "name": "python3"
  },
  "language_info": {
   "codemirror_mode": {
    "name": "ipython",
    "version": 3
   },
   "file_extension": ".py",
   "mimetype": "text/x-python",
   "name": "python",
   "nbconvert_exporter": "python",
   "pygments_lexer": "ipython3",
   "version": "3.8.8"
  }
 },
 "nbformat": 4,
 "nbformat_minor": 4
}
