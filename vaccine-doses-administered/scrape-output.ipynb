{
 "cells": [
  {
   "cell_type": "markdown",
   "metadata": {},
   "source": [
    "# California COVID vaccinations scrape"
   ]
  },
  {
   "cell_type": "markdown",
   "metadata": {},
   "source": [
    "By [Amy O'Kruk](https://twitter.com/amyokruk)"
   ]
  },
  {
   "cell_type": "markdown",
   "metadata": {},
   "source": [
    "Downloads data on vaccine doses administered by county and statewide from a Tableau-powered dashboard from the California Department of Public Health."
   ]
  },
  {
   "cell_type": "code",
   "execution_count": 1,
   "metadata": {
    "execution": {
     "iopub.execute_input": "2021-03-11T19:09:51.320617Z",
     "iopub.status.busy": "2021-03-11T19:09:51.320013Z",
     "iopub.status.idle": "2021-03-11T19:09:51.738219Z",
     "shell.execute_reply": "2021-03-11T19:09:51.737194Z"
    }
   },
   "outputs": [],
   "source": [
    "import pandas as pd\n",
    "import requests\n",
    "from bs4 import BeautifulSoup\n",
    "import json\n",
    "import re\n",
    "import time\n",
    "from time import gmtime, strftime \n",
    "import os\n",
    "import pytz\n",
    "from datetime import datetime"
   ]
  },
  {
   "cell_type": "markdown",
   "metadata": {},
   "source": [
    "Scrape the dashboard page"
   ]
  },
  {
   "cell_type": "code",
   "execution_count": 2,
   "metadata": {
    "execution": {
     "iopub.execute_input": "2021-03-11T19:09:51.744753Z",
     "iopub.status.busy": "2021-03-11T19:09:51.742027Z",
     "iopub.status.idle": "2021-03-11T19:09:52.393269Z",
     "shell.execute_reply": "2021-03-11T19:09:52.392242Z"
    }
   },
   "outputs": [],
   "source": [
    "url = \"https://public.tableau.com/interactive/views/COVID-19VaccineDashboardPublic/Vaccine?:embed=y&:showVizHome=n&:apiID=host0\"\n",
    "\n",
    "r = requests.get(url)\n",
    "soup = BeautifulSoup(r.text, \"html.parser\")"
   ]
  },
  {
   "cell_type": "code",
   "execution_count": 3,
   "metadata": {
    "execution": {
     "iopub.execute_input": "2021-03-11T19:09:52.398116Z",
     "iopub.status.busy": "2021-03-11T19:09:52.397608Z",
     "iopub.status.idle": "2021-03-11T19:09:52.401544Z",
     "shell.execute_reply": "2021-03-11T19:09:52.401000Z"
    }
   },
   "outputs": [],
   "source": [
    "tableauData = json.loads(soup.find(\"textarea\",{\"id\": \"tsConfigContainer\"}).text)"
   ]
  },
  {
   "cell_type": "markdown",
   "metadata": {},
   "source": [
    "Get the link to the Tableau data"
   ]
  },
  {
   "cell_type": "code",
   "execution_count": 4,
   "metadata": {
    "execution": {
     "iopub.execute_input": "2021-03-11T19:09:52.405298Z",
     "iopub.status.busy": "2021-03-11T19:09:52.404820Z",
     "iopub.status.idle": "2021-03-11T19:09:52.407874Z",
     "shell.execute_reply": "2021-03-11T19:09:52.408274Z"
    }
   },
   "outputs": [],
   "source": [
    "dataUrl = f'https://public.tableau.com{tableauData[\"vizql_root\"]}/bootstrapSession/sessions/{tableauData[\"sessionid\"]}'"
   ]
  },
  {
   "cell_type": "code",
   "execution_count": 5,
   "metadata": {
    "execution": {
     "iopub.execute_input": "2021-03-11T19:09:52.415796Z",
     "iopub.status.busy": "2021-03-11T19:09:52.415278Z",
     "iopub.status.idle": "2021-03-11T19:09:54.363700Z",
     "shell.execute_reply": "2021-03-11T19:09:54.362827Z"
    }
   },
   "outputs": [],
   "source": [
    "r = requests.post(dataUrl, data= {\n",
    "    \"sheet_id\": tableauData[\"sheetId\"],\n",
    "})\n",
    "\n",
    "dataReg = re.search('\\d+;({.*})\\d+;({.*})', r.text, re.MULTILINE)\n",
    "data1 = json.loads(dataReg.group(2))\n",
    "\n",
    "dataJson = data1[\"secondaryInfo\"][\"presModelMap\"][\"dataDictionary\"][\"presModelHolder\"][\"genDataDictionaryPresModel\"][\"dataSegments\"][\"0\"][\"dataColumns\"]"
   ]
  },
  {
   "cell_type": "markdown",
   "metadata": {},
   "source": [
    "Isolate what you want"
   ]
  },
  {
   "cell_type": "code",
   "execution_count": 6,
   "metadata": {
    "execution": {
     "iopub.execute_input": "2021-03-11T19:09:54.367195Z",
     "iopub.status.busy": "2021-03-11T19:09:54.366718Z",
     "iopub.status.idle": "2021-03-11T19:09:54.370417Z",
     "shell.execute_reply": "2021-03-11T19:09:54.369901Z"
    }
   },
   "outputs": [],
   "source": [
    "counties = dataJson[2]['dataValues'][:58]"
   ]
  },
  {
   "cell_type": "code",
   "execution_count": 7,
   "metadata": {
    "execution": {
     "iopub.execute_input": "2021-03-11T19:09:54.373772Z",
     "iopub.status.busy": "2021-03-11T19:09:54.373299Z",
     "iopub.status.idle": "2021-03-11T19:09:54.376471Z",
     "shell.execute_reply": "2021-03-11T19:09:54.376012Z"
    }
   },
   "outputs": [],
   "source": [
    "doses = dataJson[0]['dataValues'][3:61]"
   ]
  },
  {
   "cell_type": "markdown",
   "metadata": {},
   "source": [
    "Data formatting"
   ]
  },
  {
   "cell_type": "code",
   "execution_count": 8,
   "metadata": {
    "execution": {
     "iopub.execute_input": "2021-03-11T19:09:54.379772Z",
     "iopub.status.busy": "2021-03-11T19:09:54.379299Z",
     "iopub.status.idle": "2021-03-11T19:09:54.382436Z",
     "shell.execute_reply": "2021-03-11T19:09:54.382013Z"
    }
   },
   "outputs": [],
   "source": [
    "zipped = dict(zip(counties, doses))"
   ]
  },
  {
   "cell_type": "code",
   "execution_count": 9,
   "metadata": {
    "execution": {
     "iopub.execute_input": "2021-03-11T19:09:54.387875Z",
     "iopub.status.busy": "2021-03-11T19:09:54.387403Z",
     "iopub.status.idle": "2021-03-11T19:09:54.390077Z",
     "shell.execute_reply": "2021-03-11T19:09:54.390681Z"
    }
   },
   "outputs": [],
   "source": [
    "df = pd.Series(zipped).reset_index()"
   ]
  },
  {
   "cell_type": "code",
   "execution_count": 10,
   "metadata": {
    "execution": {
     "iopub.execute_input": "2021-03-11T19:09:54.394138Z",
     "iopub.status.busy": "2021-03-11T19:09:54.393639Z",
     "iopub.status.idle": "2021-03-11T19:09:54.396341Z",
     "shell.execute_reply": "2021-03-11T19:09:54.396937Z"
    }
   },
   "outputs": [],
   "source": [
    "df.columns = ['location','doses']"
   ]
  },
  {
   "cell_type": "markdown",
   "metadata": {},
   "source": [
    "Grab the overall California total"
   ]
  },
  {
   "cell_type": "code",
   "execution_count": 11,
   "metadata": {
    "execution": {
     "iopub.execute_input": "2021-03-11T19:09:54.400842Z",
     "iopub.status.busy": "2021-03-11T19:09:54.400334Z",
     "iopub.status.idle": "2021-03-11T19:09:54.403721Z",
     "shell.execute_reply": "2021-03-11T19:09:54.403304Z"
    }
   },
   "outputs": [],
   "source": [
    "add = {'location':'California','doses':dataJson[0]['dataValues'][2]}"
   ]
  },
  {
   "cell_type": "code",
   "execution_count": 12,
   "metadata": {
    "execution": {
     "iopub.execute_input": "2021-03-11T19:09:54.409567Z",
     "iopub.status.busy": "2021-03-11T19:09:54.409094Z",
     "iopub.status.idle": "2021-03-11T19:09:54.411818Z",
     "shell.execute_reply": "2021-03-11T19:09:54.412218Z"
    }
   },
   "outputs": [],
   "source": [
    "df = df.append(add, ignore_index=True)"
   ]
  },
  {
   "cell_type": "code",
   "execution_count": 13,
   "metadata": {
    "execution": {
     "iopub.execute_input": "2021-03-11T19:09:54.416796Z",
     "iopub.status.busy": "2021-03-11T19:09:54.415867Z",
     "iopub.status.idle": "2021-03-11T19:09:54.419341Z",
     "shell.execute_reply": "2021-03-11T19:09:54.419781Z"
    }
   },
   "outputs": [],
   "source": [
    "df = df.sort_values(by='location')"
   ]
  },
  {
   "cell_type": "code",
   "execution_count": 14,
   "metadata": {
    "execution": {
     "iopub.execute_input": "2021-03-11T19:09:54.426252Z",
     "iopub.status.busy": "2021-03-11T19:09:54.425365Z",
     "iopub.status.idle": "2021-03-11T19:09:54.430861Z",
     "shell.execute_reply": "2021-03-11T19:09:54.429863Z"
    }
   },
   "outputs": [],
   "source": [
    "df = df[df.location == 'California'].append(df[df.location != 'California']).reset_index(drop=True)"
   ]
  },
  {
   "cell_type": "code",
   "execution_count": null,
   "metadata": {},
   "outputs": [],
   "source": []
  },
  {
   "cell_type": "code",
   "execution_count": 15,
   "metadata": {
    "execution": {
     "iopub.execute_input": "2021-03-11T19:09:54.435212Z",
     "iopub.status.busy": "2021-03-11T19:09:54.434422Z",
     "iopub.status.idle": "2021-03-11T19:09:54.451931Z",
     "shell.execute_reply": "2021-03-11T19:09:54.451267Z"
    }
   },
   "outputs": [],
   "source": [
    "tz = pytz.timezone(\"America/New_York\")"
   ]
  },
  {
   "cell_type": "code",
   "execution_count": 16,
   "metadata": {
    "execution": {
     "iopub.execute_input": "2021-03-11T19:09:54.455231Z",
     "iopub.status.busy": "2021-03-11T19:09:54.454759Z",
     "iopub.status.idle": "2021-03-11T19:09:54.457475Z",
     "shell.execute_reply": "2021-03-11T19:09:54.458220Z"
    }
   },
   "outputs": [],
   "source": [
    "today = datetime.now(tz).date()"
   ]
  },
  {
   "cell_type": "code",
   "execution_count": 17,
   "metadata": {
    "execution": {
     "iopub.execute_input": "2021-03-11T19:09:54.461629Z",
     "iopub.status.busy": "2021-03-11T19:09:54.461084Z",
     "iopub.status.idle": "2021-03-11T19:09:54.464558Z",
     "shell.execute_reply": "2021-03-11T19:09:54.463922Z"
    }
   },
   "outputs": [],
   "source": [
    "data_dir = os.path.join(os.path.abspath(\"\"), \"data\")"
   ]
  },
  {
   "cell_type": "code",
   "execution_count": 18,
   "metadata": {
    "execution": {
     "iopub.execute_input": "2021-03-11T19:09:54.468574Z",
     "iopub.status.busy": "2021-03-11T19:09:54.467663Z",
     "iopub.status.idle": "2021-03-11T19:09:54.473890Z",
     "shell.execute_reply": "2021-03-11T19:09:54.473235Z"
    }
   },
   "outputs": [],
   "source": [
    "df.to_csv(os.path.join(data_dir, f\"{today}.csv\"), index=False)"
   ]
  },
  {
   "cell_type": "code",
   "execution_count": null,
   "metadata": {},
   "outputs": [],
   "source": []
  }
 ],
 "metadata": {
  "kernelspec": {
   "display_name": "Python 3",
   "language": "python",
   "name": "python3"
  },
  "language_info": {
   "codemirror_mode": {
    "name": "ipython",
    "version": 3
   },
   "file_extension": ".py",
   "mimetype": "text/x-python",
   "name": "python",
   "nbconvert_exporter": "python",
   "pygments_lexer": "ipython3",
   "version": "3.8.8"
  }
 },
 "nbformat": 4,
 "nbformat_minor": 4
}
