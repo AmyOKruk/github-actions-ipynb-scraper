{
 "cells": [
  {
   "cell_type": "markdown",
   "metadata": {},
   "source": [
    "# California COVID vaccinations scrape"
   ]
  },
  {
   "cell_type": "markdown",
   "metadata": {},
   "source": [
    "By [Amy O'Kruk](https://twitter.com/amyokruk)"
   ]
  },
  {
   "cell_type": "markdown",
   "metadata": {},
   "source": [
    "Downloads data on vaccine doses administered by county and statewide from a Tableau-powered dashboard from the California Department of Public Health."
   ]
  },
  {
   "cell_type": "code",
   "execution_count": 1,
   "metadata": {
    "execution": {
     "iopub.execute_input": "2021-03-24T09:01:44.916628Z",
     "iopub.status.busy": "2021-03-24T09:01:44.916021Z",
     "iopub.status.idle": "2021-03-24T09:01:45.368720Z",
     "shell.execute_reply": "2021-03-24T09:01:45.367758Z"
    }
   },
   "outputs": [],
   "source": [
    "import pandas as pd\n",
    "import requests\n",
    "from bs4 import BeautifulSoup\n",
    "import json\n",
    "import re\n",
    "import time\n",
    "from time import gmtime, strftime \n",
    "import os\n",
    "import pytz\n",
    "from datetime import datetime"
   ]
  },
  {
   "cell_type": "markdown",
   "metadata": {},
   "source": [
    "Scrape the dashboard page"
   ]
  },
  {
   "cell_type": "code",
   "execution_count": 2,
   "metadata": {
    "execution": {
     "iopub.execute_input": "2021-03-24T09:01:45.374511Z",
     "iopub.status.busy": "2021-03-24T09:01:45.372310Z",
     "iopub.status.idle": "2021-03-24T09:01:46.471834Z",
     "shell.execute_reply": "2021-03-24T09:01:46.471026Z"
    }
   },
   "outputs": [],
   "source": [
    "url = \"https://public.tableau.com/interactive/views/COVID-19VaccineDashboardPublic/Vaccine?:embed=y&:showVizHome=n&:apiID=host0\"\n",
    "\n",
    "r = requests.get(url)\n",
    "soup = BeautifulSoup(r.text, \"html.parser\")"
   ]
  },
  {
   "cell_type": "code",
   "execution_count": 3,
   "metadata": {
    "execution": {
     "iopub.execute_input": "2021-03-24T09:01:46.477005Z",
     "iopub.status.busy": "2021-03-24T09:01:46.476553Z",
     "iopub.status.idle": "2021-03-24T09:01:46.479600Z",
     "shell.execute_reply": "2021-03-24T09:01:46.480009Z"
    }
   },
   "outputs": [],
   "source": [
    "tableauData = json.loads(soup.find(\"textarea\",{\"id\": \"tsConfigContainer\"}).text)"
   ]
  },
  {
   "cell_type": "markdown",
   "metadata": {},
   "source": [
    "Get the link to the Tableau data"
   ]
  },
  {
   "cell_type": "code",
   "execution_count": 4,
   "metadata": {
    "execution": {
     "iopub.execute_input": "2021-03-24T09:01:46.485007Z",
     "iopub.status.busy": "2021-03-24T09:01:46.483877Z",
     "iopub.status.idle": "2021-03-24T09:01:46.485690Z",
     "shell.execute_reply": "2021-03-24T09:01:46.486118Z"
    }
   },
   "outputs": [],
   "source": [
    "dataUrl = f'https://public.tableau.com{tableauData[\"vizql_root\"]}/bootstrapSession/sessions/{tableauData[\"sessionid\"]}'"
   ]
  },
  {
   "cell_type": "code",
   "execution_count": 5,
   "metadata": {
    "execution": {
     "iopub.execute_input": "2021-03-24T09:01:46.492135Z",
     "iopub.status.busy": "2021-03-24T09:01:46.491621Z",
     "iopub.status.idle": "2021-03-24T09:01:46.908049Z",
     "shell.execute_reply": "2021-03-24T09:01:46.907578Z"
    }
   },
   "outputs": [],
   "source": [
    "r = requests.post(dataUrl, data= {\n",
    "    \"sheet_id\": tableauData[\"sheetId\"],\n",
    "})\n",
    "\n",
    "dataReg = re.search('\\d+;({.*})\\d+;({.*})', r.text, re.MULTILINE)\n",
    "data1 = json.loads(dataReg.group(2))\n",
    "\n",
    "dataJson = data1[\"secondaryInfo\"][\"presModelMap\"][\"dataDictionary\"][\"presModelHolder\"][\"genDataDictionaryPresModel\"][\"dataSegments\"][\"0\"][\"dataColumns\"]"
   ]
  },
  {
   "cell_type": "markdown",
   "metadata": {},
   "source": [
    "Isolate what you want"
   ]
  },
  {
   "cell_type": "code",
   "execution_count": 6,
   "metadata": {
    "execution": {
     "iopub.execute_input": "2021-03-24T09:01:46.912537Z",
     "iopub.status.busy": "2021-03-24T09:01:46.912012Z",
     "iopub.status.idle": "2021-03-24T09:01:46.915437Z",
     "shell.execute_reply": "2021-03-24T09:01:46.914999Z"
    }
   },
   "outputs": [],
   "source": [
    "counties = dataJson[2]['dataValues'][:58]"
   ]
  },
  {
   "cell_type": "code",
   "execution_count": 7,
   "metadata": {
    "execution": {
     "iopub.execute_input": "2021-03-24T09:01:46.919331Z",
     "iopub.status.busy": "2021-03-24T09:01:46.918475Z",
     "iopub.status.idle": "2021-03-24T09:01:46.920051Z",
     "shell.execute_reply": "2021-03-24T09:01:46.920458Z"
    }
   },
   "outputs": [],
   "source": [
    "doses = dataJson[0]['dataValues'][3:61]"
   ]
  },
  {
   "cell_type": "markdown",
   "metadata": {},
   "source": [
    "Data formatting"
   ]
  },
  {
   "cell_type": "code",
   "execution_count": 8,
   "metadata": {
    "execution": {
     "iopub.execute_input": "2021-03-24T09:01:46.923872Z",
     "iopub.status.busy": "2021-03-24T09:01:46.923138Z",
     "iopub.status.idle": "2021-03-24T09:01:46.925224Z",
     "shell.execute_reply": "2021-03-24T09:01:46.924697Z"
    }
   },
   "outputs": [],
   "source": [
    "zipped = dict(zip(counties, doses))"
   ]
  },
  {
   "cell_type": "code",
   "execution_count": 9,
   "metadata": {
    "execution": {
     "iopub.execute_input": "2021-03-24T09:01:46.930952Z",
     "iopub.status.busy": "2021-03-24T09:01:46.929862Z",
     "iopub.status.idle": "2021-03-24T09:01:46.931669Z",
     "shell.execute_reply": "2021-03-24T09:01:46.932116Z"
    }
   },
   "outputs": [],
   "source": [
    "df = pd.Series(zipped).reset_index()"
   ]
  },
  {
   "cell_type": "code",
   "execution_count": 10,
   "metadata": {
    "execution": {
     "iopub.execute_input": "2021-03-24T09:01:46.936050Z",
     "iopub.status.busy": "2021-03-24T09:01:46.935136Z",
     "iopub.status.idle": "2021-03-24T09:01:46.937418Z",
     "shell.execute_reply": "2021-03-24T09:01:46.936990Z"
    }
   },
   "outputs": [],
   "source": [
    "df.columns = ['location','doses']"
   ]
  },
  {
   "cell_type": "markdown",
   "metadata": {},
   "source": [
    "Grab the overall California total"
   ]
  },
  {
   "cell_type": "code",
   "execution_count": 11,
   "metadata": {
    "execution": {
     "iopub.execute_input": "2021-03-24T09:01:46.941359Z",
     "iopub.status.busy": "2021-03-24T09:01:46.940254Z",
     "iopub.status.idle": "2021-03-24T09:01:46.941921Z",
     "shell.execute_reply": "2021-03-24T09:01:46.942304Z"
    }
   },
   "outputs": [],
   "source": [
    "add = {'location':'California','doses':dataJson[0]['dataValues'][2]}"
   ]
  },
  {
   "cell_type": "code",
   "execution_count": 12,
   "metadata": {
    "execution": {
     "iopub.execute_input": "2021-03-24T09:01:46.948293Z",
     "iopub.status.busy": "2021-03-24T09:01:46.947390Z",
     "iopub.status.idle": "2021-03-24T09:01:46.949714Z",
     "shell.execute_reply": "2021-03-24T09:01:46.949282Z"
    }
   },
   "outputs": [],
   "source": [
    "df = df.append(add, ignore_index=True)"
   ]
  },
  {
   "cell_type": "code",
   "execution_count": 13,
   "metadata": {
    "execution": {
     "iopub.execute_input": "2021-03-24T09:01:46.954461Z",
     "iopub.status.busy": "2021-03-24T09:01:46.953334Z",
     "iopub.status.idle": "2021-03-24T09:01:46.955029Z",
     "shell.execute_reply": "2021-03-24T09:01:46.955438Z"
    }
   },
   "outputs": [],
   "source": [
    "df = df.sort_values(by='location')"
   ]
  },
  {
   "cell_type": "code",
   "execution_count": 14,
   "metadata": {
    "execution": {
     "iopub.execute_input": "2021-03-24T09:01:46.961036Z",
     "iopub.status.busy": "2021-03-24T09:01:46.960297Z",
     "iopub.status.idle": "2021-03-24T09:01:46.961970Z",
     "shell.execute_reply": "2021-03-24T09:01:46.962378Z"
    }
   },
   "outputs": [],
   "source": [
    "df = df[df.location == 'California'].append(df[df.location != 'California']).reset_index(drop=True)"
   ]
  },
  {
   "cell_type": "code",
   "execution_count": null,
   "metadata": {},
   "outputs": [],
   "source": []
  },
  {
   "cell_type": "code",
   "execution_count": 15,
   "metadata": {
    "execution": {
     "iopub.execute_input": "2021-03-24T09:01:46.965490Z",
     "iopub.status.busy": "2021-03-24T09:01:46.964955Z",
     "iopub.status.idle": "2021-03-24T09:01:46.980707Z",
     "shell.execute_reply": "2021-03-24T09:01:46.980252Z"
    }
   },
   "outputs": [],
   "source": [
    "tz = pytz.timezone(\"America/New_York\")"
   ]
  },
  {
   "cell_type": "code",
   "execution_count": 16,
   "metadata": {
    "execution": {
     "iopub.execute_input": "2021-03-24T09:01:46.984640Z",
     "iopub.status.busy": "2021-03-24T09:01:46.983510Z",
     "iopub.status.idle": "2021-03-24T09:01:46.985321Z",
     "shell.execute_reply": "2021-03-24T09:01:46.985695Z"
    }
   },
   "outputs": [],
   "source": [
    "today = datetime.now(tz).date()"
   ]
  },
  {
   "cell_type": "code",
   "execution_count": 17,
   "metadata": {
    "execution": {
     "iopub.execute_input": "2021-03-24T09:01:46.989372Z",
     "iopub.status.busy": "2021-03-24T09:01:46.988498Z",
     "iopub.status.idle": "2021-03-24T09:01:46.990590Z",
     "shell.execute_reply": "2021-03-24T09:01:46.990217Z"
    }
   },
   "outputs": [],
   "source": [
    "data_dir = os.path.join(os.path.abspath(\"\"), \"data\")"
   ]
  },
  {
   "cell_type": "code",
   "execution_count": 18,
   "metadata": {
    "execution": {
     "iopub.execute_input": "2021-03-24T09:01:46.994917Z",
     "iopub.status.busy": "2021-03-24T09:01:46.993559Z",
     "iopub.status.idle": "2021-03-24T09:01:47.003729Z",
     "shell.execute_reply": "2021-03-24T09:01:47.004136Z"
    }
   },
   "outputs": [],
   "source": [
    "df.to_csv(os.path.join(data_dir, f\"{today}.csv\"), index=False)"
   ]
  },
  {
   "cell_type": "code",
   "execution_count": null,
   "metadata": {},
   "outputs": [],
   "source": []
  }
 ],
 "metadata": {
  "kernelspec": {
   "display_name": "Python 3",
   "language": "python",
   "name": "python3"
  },
  "language_info": {
   "codemirror_mode": {
    "name": "ipython",
    "version": 3
   },
   "file_extension": ".py",
   "mimetype": "text/x-python",
   "name": "python",
   "nbconvert_exporter": "python",
   "pygments_lexer": "ipython3",
   "version": "3.8.8"
  }
 },
 "nbformat": 4,
 "nbformat_minor": 4
}
