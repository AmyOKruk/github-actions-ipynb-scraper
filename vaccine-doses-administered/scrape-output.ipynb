{
 "cells": [
  {
   "cell_type": "markdown",
   "metadata": {},
   "source": [
    "# California COVID vaccinations scrape"
   ]
  },
  {
   "cell_type": "markdown",
   "metadata": {},
   "source": [
    "By [Amy O'Kruk](https://twitter.com/amyokruk)"
   ]
  },
  {
   "cell_type": "markdown",
   "metadata": {},
   "source": [
    "Downloads data on vaccine doses administered by county and statewide from a Tableau-powered dashboard from the California Department of Public Health."
   ]
  },
  {
   "cell_type": "code",
   "execution_count": 1,
   "metadata": {
    "execution": {
     "iopub.execute_input": "2021-03-16T06:46:35.725056Z",
     "iopub.status.busy": "2021-03-16T06:46:35.724304Z",
     "iopub.status.idle": "2021-03-16T06:46:36.766249Z",
     "shell.execute_reply": "2021-03-16T06:46:36.765227Z"
    }
   },
   "outputs": [],
   "source": [
    "import pandas as pd\n",
    "import requests\n",
    "from bs4 import BeautifulSoup\n",
    "import json\n",
    "import re\n",
    "import time\n",
    "from time import gmtime, strftime \n",
    "import os\n",
    "import pytz\n",
    "from datetime import datetime"
   ]
  },
  {
   "cell_type": "markdown",
   "metadata": {},
   "source": [
    "Scrape the dashboard page"
   ]
  },
  {
   "cell_type": "code",
   "execution_count": 2,
   "metadata": {
    "execution": {
     "iopub.execute_input": "2021-03-16T06:46:36.771834Z",
     "iopub.status.busy": "2021-03-16T06:46:36.771219Z",
     "iopub.status.idle": "2021-03-16T06:46:37.286020Z",
     "shell.execute_reply": "2021-03-16T06:46:37.284864Z"
    }
   },
   "outputs": [],
   "source": [
    "url = \"https://public.tableau.com/interactive/views/COVID-19VaccineDashboardPublic/Vaccine?:embed=y&:showVizHome=n&:apiID=host0\"\n",
    "\n",
    "r = requests.get(url)\n",
    "soup = BeautifulSoup(r.text, \"html.parser\")"
   ]
  },
  {
   "cell_type": "code",
   "execution_count": 3,
   "metadata": {
    "execution": {
     "iopub.execute_input": "2021-03-16T06:46:37.290694Z",
     "iopub.status.busy": "2021-03-16T06:46:37.290162Z",
     "iopub.status.idle": "2021-03-16T06:46:37.294007Z",
     "shell.execute_reply": "2021-03-16T06:46:37.293447Z"
    }
   },
   "outputs": [],
   "source": [
    "tableauData = json.loads(soup.find(\"textarea\",{\"id\": \"tsConfigContainer\"}).text)"
   ]
  },
  {
   "cell_type": "markdown",
   "metadata": {},
   "source": [
    "Get the link to the Tableau data"
   ]
  },
  {
   "cell_type": "code",
   "execution_count": 4,
   "metadata": {
    "execution": {
     "iopub.execute_input": "2021-03-16T06:46:37.297938Z",
     "iopub.status.busy": "2021-03-16T06:46:37.297403Z",
     "iopub.status.idle": "2021-03-16T06:46:37.300640Z",
     "shell.execute_reply": "2021-03-16T06:46:37.301084Z"
    }
   },
   "outputs": [],
   "source": [
    "dataUrl = f'https://public.tableau.com{tableauData[\"vizql_root\"]}/bootstrapSession/sessions/{tableauData[\"sessionid\"]}'"
   ]
  },
  {
   "cell_type": "code",
   "execution_count": 5,
   "metadata": {
    "execution": {
     "iopub.execute_input": "2021-03-16T06:46:37.308861Z",
     "iopub.status.busy": "2021-03-16T06:46:37.308125Z",
     "iopub.status.idle": "2021-03-16T06:46:37.841491Z",
     "shell.execute_reply": "2021-03-16T06:46:37.840545Z"
    }
   },
   "outputs": [],
   "source": [
    "r = requests.post(dataUrl, data= {\n",
    "    \"sheet_id\": tableauData[\"sheetId\"],\n",
    "})\n",
    "\n",
    "dataReg = re.search('\\d+;({.*})\\d+;({.*})', r.text, re.MULTILINE)\n",
    "data1 = json.loads(dataReg.group(2))\n",
    "\n",
    "dataJson = data1[\"secondaryInfo\"][\"presModelMap\"][\"dataDictionary\"][\"presModelHolder\"][\"genDataDictionaryPresModel\"][\"dataSegments\"][\"0\"][\"dataColumns\"]"
   ]
  },
  {
   "cell_type": "markdown",
   "metadata": {},
   "source": [
    "Isolate what you want"
   ]
  },
  {
   "cell_type": "code",
   "execution_count": 6,
   "metadata": {
    "execution": {
     "iopub.execute_input": "2021-03-16T06:46:37.846288Z",
     "iopub.status.busy": "2021-03-16T06:46:37.845713Z",
     "iopub.status.idle": "2021-03-16T06:46:37.849928Z",
     "shell.execute_reply": "2021-03-16T06:46:37.849382Z"
    }
   },
   "outputs": [],
   "source": [
    "counties = dataJson[2]['dataValues'][:58]"
   ]
  },
  {
   "cell_type": "code",
   "execution_count": 7,
   "metadata": {
    "execution": {
     "iopub.execute_input": "2021-03-16T06:46:37.855453Z",
     "iopub.status.busy": "2021-03-16T06:46:37.854016Z",
     "iopub.status.idle": "2021-03-16T06:46:37.856114Z",
     "shell.execute_reply": "2021-03-16T06:46:37.856612Z"
    }
   },
   "outputs": [],
   "source": [
    "doses = dataJson[0]['dataValues'][3:61]"
   ]
  },
  {
   "cell_type": "markdown",
   "metadata": {},
   "source": [
    "Data formatting"
   ]
  },
  {
   "cell_type": "code",
   "execution_count": 8,
   "metadata": {
    "execution": {
     "iopub.execute_input": "2021-03-16T06:46:37.861763Z",
     "iopub.status.busy": "2021-03-16T06:46:37.860164Z",
     "iopub.status.idle": "2021-03-16T06:46:37.862392Z",
     "shell.execute_reply": "2021-03-16T06:46:37.862874Z"
    }
   },
   "outputs": [],
   "source": [
    "zipped = dict(zip(counties, doses))"
   ]
  },
  {
   "cell_type": "code",
   "execution_count": 9,
   "metadata": {
    "execution": {
     "iopub.execute_input": "2021-03-16T06:46:37.870246Z",
     "iopub.status.busy": "2021-03-16T06:46:37.868644Z",
     "iopub.status.idle": "2021-03-16T06:46:37.870876Z",
     "shell.execute_reply": "2021-03-16T06:46:37.871336Z"
    }
   },
   "outputs": [],
   "source": [
    "df = pd.Series(zipped).reset_index()"
   ]
  },
  {
   "cell_type": "code",
   "execution_count": 10,
   "metadata": {
    "execution": {
     "iopub.execute_input": "2021-03-16T06:46:37.881874Z",
     "iopub.status.busy": "2021-03-16T06:46:37.874783Z",
     "iopub.status.idle": "2021-03-16T06:46:37.882688Z",
     "shell.execute_reply": "2021-03-16T06:46:37.883163Z"
    }
   },
   "outputs": [],
   "source": [
    "df.columns = ['location','doses']"
   ]
  },
  {
   "cell_type": "markdown",
   "metadata": {},
   "source": [
    "Grab the overall California total"
   ]
  },
  {
   "cell_type": "code",
   "execution_count": 11,
   "metadata": {
    "execution": {
     "iopub.execute_input": "2021-03-16T06:46:37.887888Z",
     "iopub.status.busy": "2021-03-16T06:46:37.886951Z",
     "iopub.status.idle": "2021-03-16T06:46:37.889033Z",
     "shell.execute_reply": "2021-03-16T06:46:37.889550Z"
    }
   },
   "outputs": [],
   "source": [
    "add = {'location':'California','doses':dataJson[0]['dataValues'][2]}"
   ]
  },
  {
   "cell_type": "code",
   "execution_count": 12,
   "metadata": {
    "execution": {
     "iopub.execute_input": "2021-03-16T06:46:37.896696Z",
     "iopub.status.busy": "2021-03-16T06:46:37.896066Z",
     "iopub.status.idle": "2021-03-16T06:46:37.898629Z",
     "shell.execute_reply": "2021-03-16T06:46:37.899167Z"
    }
   },
   "outputs": [],
   "source": [
    "df = df.append(add, ignore_index=True)"
   ]
  },
  {
   "cell_type": "code",
   "execution_count": 13,
   "metadata": {
    "execution": {
     "iopub.execute_input": "2021-03-16T06:46:37.905016Z",
     "iopub.status.busy": "2021-03-16T06:46:37.903605Z",
     "iopub.status.idle": "2021-03-16T06:46:37.905924Z",
     "shell.execute_reply": "2021-03-16T06:46:37.908219Z"
    }
   },
   "outputs": [],
   "source": [
    "df = df.sort_values(by='location')"
   ]
  },
  {
   "cell_type": "code",
   "execution_count": 14,
   "metadata": {
    "execution": {
     "iopub.execute_input": "2021-03-16T06:46:37.919059Z",
     "iopub.status.busy": "2021-03-16T06:46:37.915029Z",
     "iopub.status.idle": "2021-03-16T06:46:37.919773Z",
     "shell.execute_reply": "2021-03-16T06:46:37.920284Z"
    }
   },
   "outputs": [],
   "source": [
    "df = df[df.location == 'California'].append(df[df.location != 'California']).reset_index(drop=True)"
   ]
  },
  {
   "cell_type": "code",
   "execution_count": null,
   "metadata": {},
   "outputs": [],
   "source": []
  },
  {
   "cell_type": "code",
   "execution_count": 15,
   "metadata": {
    "execution": {
     "iopub.execute_input": "2021-03-16T06:46:37.925261Z",
     "iopub.status.busy": "2021-03-16T06:46:37.924717Z",
     "iopub.status.idle": "2021-03-16T06:46:37.947505Z",
     "shell.execute_reply": "2021-03-16T06:46:37.946944Z"
    }
   },
   "outputs": [],
   "source": [
    "tz = pytz.timezone(\"America/New_York\")"
   ]
  },
  {
   "cell_type": "code",
   "execution_count": 16,
   "metadata": {
    "execution": {
     "iopub.execute_input": "2021-03-16T06:46:37.955944Z",
     "iopub.status.busy": "2021-03-16T06:46:37.954660Z",
     "iopub.status.idle": "2021-03-16T06:46:37.956817Z",
     "shell.execute_reply": "2021-03-16T06:46:37.957324Z"
    }
   },
   "outputs": [],
   "source": [
    "today = datetime.now(tz).date()"
   ]
  },
  {
   "cell_type": "code",
   "execution_count": 17,
   "metadata": {
    "execution": {
     "iopub.execute_input": "2021-03-16T06:46:37.962633Z",
     "iopub.status.busy": "2021-03-16T06:46:37.961151Z",
     "iopub.status.idle": "2021-03-16T06:46:37.963271Z",
     "shell.execute_reply": "2021-03-16T06:46:37.963778Z"
    }
   },
   "outputs": [],
   "source": [
    "data_dir = os.path.join(os.path.abspath(\"\"), \"data\")"
   ]
  },
  {
   "cell_type": "code",
   "execution_count": 18,
   "metadata": {
    "execution": {
     "iopub.execute_input": "2021-03-16T06:46:37.970957Z",
     "iopub.status.busy": "2021-03-16T06:46:37.967576Z",
     "iopub.status.idle": "2021-03-16T06:46:37.973398Z",
     "shell.execute_reply": "2021-03-16T06:46:37.973837Z"
    }
   },
   "outputs": [],
   "source": [
    "df.to_csv(os.path.join(data_dir, f\"{today}.csv\"), index=False)"
   ]
  },
  {
   "cell_type": "code",
   "execution_count": null,
   "metadata": {},
   "outputs": [],
   "source": []
  }
 ],
 "metadata": {
  "kernelspec": {
   "display_name": "Python 3",
   "language": "python",
   "name": "python3"
  },
  "language_info": {
   "codemirror_mode": {
    "name": "ipython",
    "version": 3
   },
   "file_extension": ".py",
   "mimetype": "text/x-python",
   "name": "python",
   "nbconvert_exporter": "python",
   "pygments_lexer": "ipython3",
   "version": "3.8.8"
  }
 },
 "nbformat": 4,
 "nbformat_minor": 4
}
