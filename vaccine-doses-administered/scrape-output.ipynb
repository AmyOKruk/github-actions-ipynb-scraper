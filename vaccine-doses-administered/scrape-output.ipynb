{
 "cells": [
  {
   "cell_type": "markdown",
   "metadata": {},
   "source": [
    "# California COVID vaccinations scrape"
   ]
  },
  {
   "cell_type": "markdown",
   "metadata": {},
   "source": [
    "By [Amy O'Kruk](https://twitter.com/amyokruk)"
   ]
  },
  {
   "cell_type": "markdown",
   "metadata": {},
   "source": [
    "Downloads data on vaccine doses administered by county and statewide from a Tableau-powered dashboard from the California Department of Public Health."
   ]
  },
  {
   "cell_type": "code",
   "execution_count": 1,
   "metadata": {
    "execution": {
     "iopub.execute_input": "2021-03-22T12:17:23.144701Z",
     "iopub.status.busy": "2021-03-22T12:17:23.144039Z",
     "iopub.status.idle": "2021-03-22T12:17:23.563509Z",
     "shell.execute_reply": "2021-03-22T12:17:23.562386Z"
    }
   },
   "outputs": [],
   "source": [
    "import pandas as pd\n",
    "import requests\n",
    "from bs4 import BeautifulSoup\n",
    "import json\n",
    "import re\n",
    "import time\n",
    "from time import gmtime, strftime \n",
    "import os\n",
    "import pytz\n",
    "from datetime import datetime"
   ]
  },
  {
   "cell_type": "markdown",
   "metadata": {},
   "source": [
    "Scrape the dashboard page"
   ]
  },
  {
   "cell_type": "code",
   "execution_count": 2,
   "metadata": {
    "execution": {
     "iopub.execute_input": "2021-03-22T12:17:23.571104Z",
     "iopub.status.busy": "2021-03-22T12:17:23.569965Z",
     "iopub.status.idle": "2021-03-22T12:17:23.982606Z",
     "shell.execute_reply": "2021-03-22T12:17:23.981572Z"
    }
   },
   "outputs": [],
   "source": [
    "url = \"https://public.tableau.com/interactive/views/COVID-19VaccineDashboardPublic/Vaccine?:embed=y&:showVizHome=n&:apiID=host0\"\n",
    "\n",
    "r = requests.get(url)\n",
    "soup = BeautifulSoup(r.text, \"html.parser\")"
   ]
  },
  {
   "cell_type": "code",
   "execution_count": 3,
   "metadata": {
    "execution": {
     "iopub.execute_input": "2021-03-22T12:17:23.987384Z",
     "iopub.status.busy": "2021-03-22T12:17:23.986871Z",
     "iopub.status.idle": "2021-03-22T12:17:23.989898Z",
     "shell.execute_reply": "2021-03-22T12:17:23.990264Z"
    }
   },
   "outputs": [],
   "source": [
    "tableauData = json.loads(soup.find(\"textarea\",{\"id\": \"tsConfigContainer\"}).text)"
   ]
  },
  {
   "cell_type": "markdown",
   "metadata": {},
   "source": [
    "Get the link to the Tableau data"
   ]
  },
  {
   "cell_type": "code",
   "execution_count": 4,
   "metadata": {
    "execution": {
     "iopub.execute_input": "2021-03-22T12:17:23.993884Z",
     "iopub.status.busy": "2021-03-22T12:17:23.993363Z",
     "iopub.status.idle": "2021-03-22T12:17:23.996590Z",
     "shell.execute_reply": "2021-03-22T12:17:23.996159Z"
    }
   },
   "outputs": [],
   "source": [
    "dataUrl = f'https://public.tableau.com{tableauData[\"vizql_root\"]}/bootstrapSession/sessions/{tableauData[\"sessionid\"]}'"
   ]
  },
  {
   "cell_type": "code",
   "execution_count": 5,
   "metadata": {
    "execution": {
     "iopub.execute_input": "2021-03-22T12:17:24.002921Z",
     "iopub.status.busy": "2021-03-22T12:17:24.002405Z",
     "iopub.status.idle": "2021-03-22T12:17:24.274040Z",
     "shell.execute_reply": "2021-03-22T12:17:24.273175Z"
    }
   },
   "outputs": [],
   "source": [
    "r = requests.post(dataUrl, data= {\n",
    "    \"sheet_id\": tableauData[\"sheetId\"],\n",
    "})\n",
    "\n",
    "dataReg = re.search('\\d+;({.*})\\d+;({.*})', r.text, re.MULTILINE)\n",
    "data1 = json.loads(dataReg.group(2))\n",
    "\n",
    "dataJson = data1[\"secondaryInfo\"][\"presModelMap\"][\"dataDictionary\"][\"presModelHolder\"][\"genDataDictionaryPresModel\"][\"dataSegments\"][\"0\"][\"dataColumns\"]"
   ]
  },
  {
   "cell_type": "markdown",
   "metadata": {},
   "source": [
    "Isolate what you want"
   ]
  },
  {
   "cell_type": "code",
   "execution_count": 6,
   "metadata": {
    "execution": {
     "iopub.execute_input": "2021-03-22T12:17:24.278952Z",
     "iopub.status.busy": "2021-03-22T12:17:24.277714Z",
     "iopub.status.idle": "2021-03-22T12:17:24.279508Z",
     "shell.execute_reply": "2021-03-22T12:17:24.279941Z"
    }
   },
   "outputs": [],
   "source": [
    "counties = dataJson[2]['dataValues'][:58]"
   ]
  },
  {
   "cell_type": "code",
   "execution_count": 7,
   "metadata": {
    "execution": {
     "iopub.execute_input": "2021-03-22T12:17:24.284214Z",
     "iopub.status.busy": "2021-03-22T12:17:24.283042Z",
     "iopub.status.idle": "2021-03-22T12:17:24.284831Z",
     "shell.execute_reply": "2021-03-22T12:17:24.285246Z"
    }
   },
   "outputs": [],
   "source": [
    "doses = dataJson[0]['dataValues'][3:61]"
   ]
  },
  {
   "cell_type": "markdown",
   "metadata": {},
   "source": [
    "Data formatting"
   ]
  },
  {
   "cell_type": "code",
   "execution_count": 8,
   "metadata": {
    "execution": {
     "iopub.execute_input": "2021-03-22T12:17:24.289823Z",
     "iopub.status.busy": "2021-03-22T12:17:24.288353Z",
     "iopub.status.idle": "2021-03-22T12:17:24.290395Z",
     "shell.execute_reply": "2021-03-22T12:17:24.290809Z"
    }
   },
   "outputs": [],
   "source": [
    "zipped = dict(zip(counties, doses))"
   ]
  },
  {
   "cell_type": "code",
   "execution_count": 9,
   "metadata": {
    "execution": {
     "iopub.execute_input": "2021-03-22T12:17:24.297033Z",
     "iopub.status.busy": "2021-03-22T12:17:24.295821Z",
     "iopub.status.idle": "2021-03-22T12:17:24.297627Z",
     "shell.execute_reply": "2021-03-22T12:17:24.298044Z"
    }
   },
   "outputs": [],
   "source": [
    "df = pd.Series(zipped).reset_index()"
   ]
  },
  {
   "cell_type": "code",
   "execution_count": 10,
   "metadata": {
    "execution": {
     "iopub.execute_input": "2021-03-22T12:17:24.302159Z",
     "iopub.status.busy": "2021-03-22T12:17:24.301307Z",
     "iopub.status.idle": "2021-03-22T12:17:24.302977Z",
     "shell.execute_reply": "2021-03-22T12:17:24.303398Z"
    }
   },
   "outputs": [],
   "source": [
    "df.columns = ['location','doses']"
   ]
  },
  {
   "cell_type": "markdown",
   "metadata": {},
   "source": [
    "Grab the overall California total"
   ]
  },
  {
   "cell_type": "code",
   "execution_count": 11,
   "metadata": {
    "execution": {
     "iopub.execute_input": "2021-03-22T12:17:24.307712Z",
     "iopub.status.busy": "2021-03-22T12:17:24.306519Z",
     "iopub.status.idle": "2021-03-22T12:17:24.308884Z",
     "shell.execute_reply": "2021-03-22T12:17:24.308459Z"
    }
   },
   "outputs": [],
   "source": [
    "add = {'location':'California','doses':dataJson[0]['dataValues'][2]}"
   ]
  },
  {
   "cell_type": "code",
   "execution_count": 12,
   "metadata": {
    "execution": {
     "iopub.execute_input": "2021-03-22T12:17:24.315324Z",
     "iopub.status.busy": "2021-03-22T12:17:24.314258Z",
     "iopub.status.idle": "2021-03-22T12:17:24.316024Z",
     "shell.execute_reply": "2021-03-22T12:17:24.316609Z"
    }
   },
   "outputs": [],
   "source": [
    "df = df.append(add, ignore_index=True)"
   ]
  },
  {
   "cell_type": "code",
   "execution_count": 13,
   "metadata": {
    "execution": {
     "iopub.execute_input": "2021-03-22T12:17:24.321551Z",
     "iopub.status.busy": "2021-03-22T12:17:24.320310Z",
     "iopub.status.idle": "2021-03-22T12:17:24.322132Z",
     "shell.execute_reply": "2021-03-22T12:17:24.322550Z"
    }
   },
   "outputs": [],
   "source": [
    "df = df.sort_values(by='location')"
   ]
  },
  {
   "cell_type": "code",
   "execution_count": 14,
   "metadata": {
    "execution": {
     "iopub.execute_input": "2021-03-22T12:17:24.328962Z",
     "iopub.status.busy": "2021-03-22T12:17:24.327806Z",
     "iopub.status.idle": "2021-03-22T12:17:24.329549Z",
     "shell.execute_reply": "2021-03-22T12:17:24.329964Z"
    }
   },
   "outputs": [],
   "source": [
    "df = df[df.location == 'California'].append(df[df.location != 'California']).reset_index(drop=True)"
   ]
  },
  {
   "cell_type": "code",
   "execution_count": null,
   "metadata": {},
   "outputs": [],
   "source": []
  },
  {
   "cell_type": "code",
   "execution_count": 15,
   "metadata": {
    "execution": {
     "iopub.execute_input": "2021-03-22T12:17:24.333176Z",
     "iopub.status.busy": "2021-03-22T12:17:24.332672Z",
     "iopub.status.idle": "2021-03-22T12:17:24.349963Z",
     "shell.execute_reply": "2021-03-22T12:17:24.349469Z"
    }
   },
   "outputs": [],
   "source": [
    "tz = pytz.timezone(\"America/New_York\")"
   ]
  },
  {
   "cell_type": "code",
   "execution_count": 16,
   "metadata": {
    "execution": {
     "iopub.execute_input": "2021-03-22T12:17:24.354315Z",
     "iopub.status.busy": "2021-03-22T12:17:24.353088Z",
     "iopub.status.idle": "2021-03-22T12:17:24.354895Z",
     "shell.execute_reply": "2021-03-22T12:17:24.355333Z"
    }
   },
   "outputs": [],
   "source": [
    "today = datetime.now(tz).date()"
   ]
  },
  {
   "cell_type": "code",
   "execution_count": 17,
   "metadata": {
    "execution": {
     "iopub.execute_input": "2021-03-22T12:17:24.359450Z",
     "iopub.status.busy": "2021-03-22T12:17:24.358349Z",
     "iopub.status.idle": "2021-03-22T12:17:24.360081Z",
     "shell.execute_reply": "2021-03-22T12:17:24.360497Z"
    }
   },
   "outputs": [],
   "source": [
    "data_dir = os.path.join(os.path.abspath(\"\"), \"data\")"
   ]
  },
  {
   "cell_type": "code",
   "execution_count": 18,
   "metadata": {
    "execution": {
     "iopub.execute_input": "2021-03-22T12:17:24.364778Z",
     "iopub.status.busy": "2021-03-22T12:17:24.363641Z",
     "iopub.status.idle": "2021-03-22T12:17:24.368113Z",
     "shell.execute_reply": "2021-03-22T12:17:24.368598Z"
    }
   },
   "outputs": [],
   "source": [
    "df.to_csv(os.path.join(data_dir, f\"{today}.csv\"), index=False)"
   ]
  },
  {
   "cell_type": "code",
   "execution_count": null,
   "metadata": {},
   "outputs": [],
   "source": []
  }
 ],
 "metadata": {
  "kernelspec": {
   "display_name": "Python 3",
   "language": "python",
   "name": "python3"
  },
  "language_info": {
   "codemirror_mode": {
    "name": "ipython",
    "version": 3
   },
   "file_extension": ".py",
   "mimetype": "text/x-python",
   "name": "python",
   "nbconvert_exporter": "python",
   "pygments_lexer": "ipython3",
   "version": "3.8.8"
  }
 },
 "nbformat": 4,
 "nbformat_minor": 4
}
