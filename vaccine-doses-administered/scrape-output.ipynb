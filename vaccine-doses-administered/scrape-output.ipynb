{
 "cells": [
  {
   "cell_type": "markdown",
   "metadata": {},
   "source": [
    "# California COVID vaccinations scrape"
   ]
  },
  {
   "cell_type": "markdown",
   "metadata": {},
   "source": [
    "By [Amy O'Kruk](https://twitter.com/amyokruk)"
   ]
  },
  {
   "cell_type": "markdown",
   "metadata": {},
   "source": [
    "Downloads data on vaccine doses administered by county and statewide from a Tableau-powered dashboard from the California Department of Public Health."
   ]
  },
  {
   "cell_type": "code",
   "execution_count": 1,
   "metadata": {
    "execution": {
     "iopub.execute_input": "2021-03-19T16:20:46.297426Z",
     "iopub.status.busy": "2021-03-19T16:20:46.289224Z",
     "iopub.status.idle": "2021-03-19T16:20:46.768991Z",
     "shell.execute_reply": "2021-03-19T16:20:46.768386Z"
    }
   },
   "outputs": [],
   "source": [
    "import pandas as pd\n",
    "import requests\n",
    "from bs4 import BeautifulSoup\n",
    "import json\n",
    "import re\n",
    "import time\n",
    "from time import gmtime, strftime \n",
    "import os\n",
    "import pytz\n",
    "from datetime import datetime"
   ]
  },
  {
   "cell_type": "markdown",
   "metadata": {},
   "source": [
    "Scrape the dashboard page"
   ]
  },
  {
   "cell_type": "code",
   "execution_count": 2,
   "metadata": {
    "execution": {
     "iopub.execute_input": "2021-03-19T16:20:46.779233Z",
     "iopub.status.busy": "2021-03-19T16:20:46.774740Z",
     "iopub.status.idle": "2021-03-19T16:20:47.254319Z",
     "shell.execute_reply": "2021-03-19T16:20:47.253805Z"
    }
   },
   "outputs": [],
   "source": [
    "url = \"https://public.tableau.com/interactive/views/COVID-19VaccineDashboardPublic/Vaccine?:embed=y&:showVizHome=n&:apiID=host0\"\n",
    "\n",
    "r = requests.get(url)\n",
    "soup = BeautifulSoup(r.text, \"html.parser\")"
   ]
  },
  {
   "cell_type": "code",
   "execution_count": 3,
   "metadata": {
    "execution": {
     "iopub.execute_input": "2021-03-19T16:20:47.262758Z",
     "iopub.status.busy": "2021-03-19T16:20:47.260494Z",
     "iopub.status.idle": "2021-03-19T16:20:47.263376Z",
     "shell.execute_reply": "2021-03-19T16:20:47.263821Z"
    }
   },
   "outputs": [],
   "source": [
    "tableauData = json.loads(soup.find(\"textarea\",{\"id\": \"tsConfigContainer\"}).text)"
   ]
  },
  {
   "cell_type": "markdown",
   "metadata": {},
   "source": [
    "Get the link to the Tableau data"
   ]
  },
  {
   "cell_type": "code",
   "execution_count": 4,
   "metadata": {
    "execution": {
     "iopub.execute_input": "2021-03-19T16:20:47.268205Z",
     "iopub.status.busy": "2021-03-19T16:20:47.267052Z",
     "iopub.status.idle": "2021-03-19T16:20:47.268799Z",
     "shell.execute_reply": "2021-03-19T16:20:47.269224Z"
    }
   },
   "outputs": [],
   "source": [
    "dataUrl = f'https://public.tableau.com{tableauData[\"vizql_root\"]}/bootstrapSession/sessions/{tableauData[\"sessionid\"]}'"
   ]
  },
  {
   "cell_type": "code",
   "execution_count": 5,
   "metadata": {
    "execution": {
     "iopub.execute_input": "2021-03-19T16:20:47.275811Z",
     "iopub.status.busy": "2021-03-19T16:20:47.275224Z",
     "iopub.status.idle": "2021-03-19T16:20:47.512700Z",
     "shell.execute_reply": "2021-03-19T16:20:47.512140Z"
    }
   },
   "outputs": [],
   "source": [
    "r = requests.post(dataUrl, data= {\n",
    "    \"sheet_id\": tableauData[\"sheetId\"],\n",
    "})\n",
    "\n",
    "dataReg = re.search('\\d+;({.*})\\d+;({.*})', r.text, re.MULTILINE)\n",
    "data1 = json.loads(dataReg.group(2))\n",
    "\n",
    "dataJson = data1[\"secondaryInfo\"][\"presModelMap\"][\"dataDictionary\"][\"presModelHolder\"][\"genDataDictionaryPresModel\"][\"dataSegments\"][\"0\"][\"dataColumns\"]"
   ]
  },
  {
   "cell_type": "markdown",
   "metadata": {},
   "source": [
    "Isolate what you want"
   ]
  },
  {
   "cell_type": "code",
   "execution_count": 6,
   "metadata": {
    "execution": {
     "iopub.execute_input": "2021-03-19T16:20:47.516954Z",
     "iopub.status.busy": "2021-03-19T16:20:47.516421Z",
     "iopub.status.idle": "2021-03-19T16:20:47.519714Z",
     "shell.execute_reply": "2021-03-19T16:20:47.520158Z"
    }
   },
   "outputs": [],
   "source": [
    "counties = dataJson[2]['dataValues'][:58]"
   ]
  },
  {
   "cell_type": "code",
   "execution_count": 7,
   "metadata": {
    "execution": {
     "iopub.execute_input": "2021-03-19T16:20:47.524342Z",
     "iopub.status.busy": "2021-03-19T16:20:47.523821Z",
     "iopub.status.idle": "2021-03-19T16:20:47.527859Z",
     "shell.execute_reply": "2021-03-19T16:20:47.526883Z"
    }
   },
   "outputs": [],
   "source": [
    "doses = dataJson[0]['dataValues'][3:61]"
   ]
  },
  {
   "cell_type": "markdown",
   "metadata": {},
   "source": [
    "Data formatting"
   ]
  },
  {
   "cell_type": "code",
   "execution_count": 8,
   "metadata": {
    "execution": {
     "iopub.execute_input": "2021-03-19T16:20:47.531531Z",
     "iopub.status.busy": "2021-03-19T16:20:47.530974Z",
     "iopub.status.idle": "2021-03-19T16:20:47.534390Z",
     "shell.execute_reply": "2021-03-19T16:20:47.533956Z"
    }
   },
   "outputs": [],
   "source": [
    "zipped = dict(zip(counties, doses))"
   ]
  },
  {
   "cell_type": "code",
   "execution_count": 9,
   "metadata": {
    "execution": {
     "iopub.execute_input": "2021-03-19T16:20:47.540257Z",
     "iopub.status.busy": "2021-03-19T16:20:47.539684Z",
     "iopub.status.idle": "2021-03-19T16:20:47.542933Z",
     "shell.execute_reply": "2021-03-19T16:20:47.543359Z"
    }
   },
   "outputs": [],
   "source": [
    "df = pd.Series(zipped).reset_index()"
   ]
  },
  {
   "cell_type": "code",
   "execution_count": 10,
   "metadata": {
    "execution": {
     "iopub.execute_input": "2021-03-19T16:20:47.547173Z",
     "iopub.status.busy": "2021-03-19T16:20:47.546662Z",
     "iopub.status.idle": "2021-03-19T16:20:47.550080Z",
     "shell.execute_reply": "2021-03-19T16:20:47.549655Z"
    }
   },
   "outputs": [],
   "source": [
    "df.columns = ['location','doses']"
   ]
  },
  {
   "cell_type": "markdown",
   "metadata": {},
   "source": [
    "Grab the overall California total"
   ]
  },
  {
   "cell_type": "code",
   "execution_count": 11,
   "metadata": {
    "execution": {
     "iopub.execute_input": "2021-03-19T16:20:47.553772Z",
     "iopub.status.busy": "2021-03-19T16:20:47.553268Z",
     "iopub.status.idle": "2021-03-19T16:20:47.561980Z",
     "shell.execute_reply": "2021-03-19T16:20:47.561510Z"
    }
   },
   "outputs": [],
   "source": [
    "add = {'location':'California','doses':dataJson[0]['dataValues'][2]}"
   ]
  },
  {
   "cell_type": "code",
   "execution_count": 12,
   "metadata": {
    "execution": {
     "iopub.execute_input": "2021-03-19T16:20:47.574619Z",
     "iopub.status.busy": "2021-03-19T16:20:47.573306Z",
     "iopub.status.idle": "2021-03-19T16:20:47.575222Z",
     "shell.execute_reply": "2021-03-19T16:20:47.575684Z"
    }
   },
   "outputs": [],
   "source": [
    "df = df.append(add, ignore_index=True)"
   ]
  },
  {
   "cell_type": "code",
   "execution_count": 13,
   "metadata": {
    "execution": {
     "iopub.execute_input": "2021-03-19T16:20:47.581179Z",
     "iopub.status.busy": "2021-03-19T16:20:47.580008Z",
     "iopub.status.idle": "2021-03-19T16:20:47.581774Z",
     "shell.execute_reply": "2021-03-19T16:20:47.582201Z"
    }
   },
   "outputs": [],
   "source": [
    "df = df.sort_values(by='location')"
   ]
  },
  {
   "cell_type": "code",
   "execution_count": 14,
   "metadata": {
    "execution": {
     "iopub.execute_input": "2021-03-19T16:20:47.589467Z",
     "iopub.status.busy": "2021-03-19T16:20:47.588282Z",
     "iopub.status.idle": "2021-03-19T16:20:47.590065Z",
     "shell.execute_reply": "2021-03-19T16:20:47.590600Z"
    }
   },
   "outputs": [],
   "source": [
    "df = df[df.location == 'California'].append(df[df.location != 'California']).reset_index(drop=True)"
   ]
  },
  {
   "cell_type": "code",
   "execution_count": null,
   "metadata": {},
   "outputs": [],
   "source": []
  },
  {
   "cell_type": "code",
   "execution_count": 15,
   "metadata": {
    "execution": {
     "iopub.execute_input": "2021-03-19T16:20:47.594785Z",
     "iopub.status.busy": "2021-03-19T16:20:47.594274Z",
     "iopub.status.idle": "2021-03-19T16:20:47.611887Z",
     "shell.execute_reply": "2021-03-19T16:20:47.612324Z"
    }
   },
   "outputs": [],
   "source": [
    "tz = pytz.timezone(\"America/New_York\")"
   ]
  },
  {
   "cell_type": "code",
   "execution_count": 16,
   "metadata": {
    "execution": {
     "iopub.execute_input": "2021-03-19T16:20:47.616971Z",
     "iopub.status.busy": "2021-03-19T16:20:47.615817Z",
     "iopub.status.idle": "2021-03-19T16:20:47.617562Z",
     "shell.execute_reply": "2021-03-19T16:20:47.618000Z"
    }
   },
   "outputs": [],
   "source": [
    "today = datetime.now(tz).date()"
   ]
  },
  {
   "cell_type": "code",
   "execution_count": 17,
   "metadata": {
    "execution": {
     "iopub.execute_input": "2021-03-19T16:20:47.622006Z",
     "iopub.status.busy": "2021-03-19T16:20:47.621458Z",
     "iopub.status.idle": "2021-03-19T16:20:47.623546Z",
     "shell.execute_reply": "2021-03-19T16:20:47.623055Z"
    }
   },
   "outputs": [],
   "source": [
    "data_dir = os.path.join(os.path.abspath(\"\"), \"data\")"
   ]
  },
  {
   "cell_type": "code",
   "execution_count": 18,
   "metadata": {
    "execution": {
     "iopub.execute_input": "2021-03-19T16:20:47.627521Z",
     "iopub.status.busy": "2021-03-19T16:20:47.626960Z",
     "iopub.status.idle": "2021-03-19T16:20:47.700678Z",
     "shell.execute_reply": "2021-03-19T16:20:47.701134Z"
    }
   },
   "outputs": [],
   "source": [
    "df.to_csv(os.path.join(data_dir, f\"{today}.csv\"), index=False)"
   ]
  },
  {
   "cell_type": "code",
   "execution_count": null,
   "metadata": {},
   "outputs": [],
   "source": []
  }
 ],
 "metadata": {
  "kernelspec": {
   "display_name": "Python 3",
   "language": "python",
   "name": "python3"
  },
  "language_info": {
   "codemirror_mode": {
    "name": "ipython",
    "version": 3
   },
   "file_extension": ".py",
   "mimetype": "text/x-python",
   "name": "python",
   "nbconvert_exporter": "python",
   "pygments_lexer": "ipython3",
   "version": "3.8.8"
  }
 },
 "nbformat": 4,
 "nbformat_minor": 4
}
