{
 "cells": [
  {
   "cell_type": "markdown",
   "metadata": {},
   "source": [
    "# California COVID vaccinations scrape"
   ]
  },
  {
   "cell_type": "markdown",
   "metadata": {},
   "source": [
    "By [Amy O'Kruk](https://twitter.com/amyokruk)"
   ]
  },
  {
   "cell_type": "markdown",
   "metadata": {},
   "source": [
    "Downloads data on vaccine doses administered by county and statewide from a Tableau-powered dashboard from the California Department of Public Health."
   ]
  },
  {
   "cell_type": "code",
   "execution_count": 1,
   "metadata": {
    "execution": {
     "iopub.execute_input": "2021-03-19T02:18:49.295885Z",
     "iopub.status.busy": "2021-03-19T02:18:49.295255Z",
     "iopub.status.idle": "2021-03-19T02:18:49.783481Z",
     "shell.execute_reply": "2021-03-19T02:18:49.782905Z"
    }
   },
   "outputs": [],
   "source": [
    "import pandas as pd\n",
    "import requests\n",
    "from bs4 import BeautifulSoup\n",
    "import json\n",
    "import re\n",
    "import time\n",
    "from time import gmtime, strftime \n",
    "import os\n",
    "import pytz\n",
    "from datetime import datetime"
   ]
  },
  {
   "cell_type": "markdown",
   "metadata": {},
   "source": [
    "Scrape the dashboard page"
   ]
  },
  {
   "cell_type": "code",
   "execution_count": 2,
   "metadata": {
    "execution": {
     "iopub.execute_input": "2021-03-19T02:18:49.788445Z",
     "iopub.status.busy": "2021-03-19T02:18:49.786472Z",
     "iopub.status.idle": "2021-03-19T02:18:50.247606Z",
     "shell.execute_reply": "2021-03-19T02:18:50.246769Z"
    }
   },
   "outputs": [],
   "source": [
    "url = \"https://public.tableau.com/interactive/views/COVID-19VaccineDashboardPublic/Vaccine?:embed=y&:showVizHome=n&:apiID=host0\"\n",
    "\n",
    "r = requests.get(url)\n",
    "soup = BeautifulSoup(r.text, \"html.parser\")"
   ]
  },
  {
   "cell_type": "code",
   "execution_count": 3,
   "metadata": {
    "execution": {
     "iopub.execute_input": "2021-03-19T02:18:50.252006Z",
     "iopub.status.busy": "2021-03-19T02:18:50.251552Z",
     "iopub.status.idle": "2021-03-19T02:18:50.254534Z",
     "shell.execute_reply": "2021-03-19T02:18:50.254160Z"
    }
   },
   "outputs": [],
   "source": [
    "tableauData = json.loads(soup.find(\"textarea\",{\"id\": \"tsConfigContainer\"}).text)"
   ]
  },
  {
   "cell_type": "markdown",
   "metadata": {},
   "source": [
    "Get the link to the Tableau data"
   ]
  },
  {
   "cell_type": "code",
   "execution_count": 4,
   "metadata": {
    "execution": {
     "iopub.execute_input": "2021-03-19T02:18:50.257477Z",
     "iopub.status.busy": "2021-03-19T02:18:50.257044Z",
     "iopub.status.idle": "2021-03-19T02:18:50.259989Z",
     "shell.execute_reply": "2021-03-19T02:18:50.259622Z"
    }
   },
   "outputs": [],
   "source": [
    "dataUrl = f'https://public.tableau.com{tableauData[\"vizql_root\"]}/bootstrapSession/sessions/{tableauData[\"sessionid\"]}'"
   ]
  },
  {
   "cell_type": "code",
   "execution_count": 5,
   "metadata": {
    "execution": {
     "iopub.execute_input": "2021-03-19T02:18:50.265437Z",
     "iopub.status.busy": "2021-03-19T02:18:50.264982Z",
     "iopub.status.idle": "2021-03-19T02:18:50.810532Z",
     "shell.execute_reply": "2021-03-19T02:18:50.810031Z"
    }
   },
   "outputs": [],
   "source": [
    "r = requests.post(dataUrl, data= {\n",
    "    \"sheet_id\": tableauData[\"sheetId\"],\n",
    "})\n",
    "\n",
    "dataReg = re.search('\\d+;({.*})\\d+;({.*})', r.text, re.MULTILINE)\n",
    "data1 = json.loads(dataReg.group(2))\n",
    "\n",
    "dataJson = data1[\"secondaryInfo\"][\"presModelMap\"][\"dataDictionary\"][\"presModelHolder\"][\"genDataDictionaryPresModel\"][\"dataSegments\"][\"0\"][\"dataColumns\"]"
   ]
  },
  {
   "cell_type": "markdown",
   "metadata": {},
   "source": [
    "Isolate what you want"
   ]
  },
  {
   "cell_type": "code",
   "execution_count": 6,
   "metadata": {
    "execution": {
     "iopub.execute_input": "2021-03-19T02:18:50.814161Z",
     "iopub.status.busy": "2021-03-19T02:18:50.813711Z",
     "iopub.status.idle": "2021-03-19T02:18:50.816749Z",
     "shell.execute_reply": "2021-03-19T02:18:50.816372Z"
    }
   },
   "outputs": [],
   "source": [
    "counties = dataJson[2]['dataValues'][:58]"
   ]
  },
  {
   "cell_type": "code",
   "execution_count": 7,
   "metadata": {
    "execution": {
     "iopub.execute_input": "2021-03-19T02:18:50.819750Z",
     "iopub.status.busy": "2021-03-19T02:18:50.819277Z",
     "iopub.status.idle": "2021-03-19T02:18:50.822252Z",
     "shell.execute_reply": "2021-03-19T02:18:50.821867Z"
    }
   },
   "outputs": [],
   "source": [
    "doses = dataJson[0]['dataValues'][3:61]"
   ]
  },
  {
   "cell_type": "markdown",
   "metadata": {},
   "source": [
    "Data formatting"
   ]
  },
  {
   "cell_type": "code",
   "execution_count": 8,
   "metadata": {
    "execution": {
     "iopub.execute_input": "2021-03-19T02:18:50.825087Z",
     "iopub.status.busy": "2021-03-19T02:18:50.824654Z",
     "iopub.status.idle": "2021-03-19T02:18:50.827571Z",
     "shell.execute_reply": "2021-03-19T02:18:50.827186Z"
    }
   },
   "outputs": [],
   "source": [
    "zipped = dict(zip(counties, doses))"
   ]
  },
  {
   "cell_type": "code",
   "execution_count": 9,
   "metadata": {
    "execution": {
     "iopub.execute_input": "2021-03-19T02:18:50.832881Z",
     "iopub.status.busy": "2021-03-19T02:18:50.832083Z",
     "iopub.status.idle": "2021-03-19T02:18:50.833939Z",
     "shell.execute_reply": "2021-03-19T02:18:50.833581Z"
    }
   },
   "outputs": [],
   "source": [
    "df = pd.Series(zipped).reset_index()"
   ]
  },
  {
   "cell_type": "code",
   "execution_count": 10,
   "metadata": {
    "execution": {
     "iopub.execute_input": "2021-03-19T02:18:50.837376Z",
     "iopub.status.busy": "2021-03-19T02:18:50.836581Z",
     "iopub.status.idle": "2021-03-19T02:18:50.838135Z",
     "shell.execute_reply": "2021-03-19T02:18:50.838497Z"
    }
   },
   "outputs": [],
   "source": [
    "df.columns = ['location','doses']"
   ]
  },
  {
   "cell_type": "markdown",
   "metadata": {},
   "source": [
    "Grab the overall California total"
   ]
  },
  {
   "cell_type": "code",
   "execution_count": 11,
   "metadata": {
    "execution": {
     "iopub.execute_input": "2021-03-19T02:18:50.841875Z",
     "iopub.status.busy": "2021-03-19T02:18:50.841105Z",
     "iopub.status.idle": "2021-03-19T02:18:50.843008Z",
     "shell.execute_reply": "2021-03-19T02:18:50.842627Z"
    }
   },
   "outputs": [],
   "source": [
    "add = {'location':'California','doses':dataJson[0]['dataValues'][2]}"
   ]
  },
  {
   "cell_type": "code",
   "execution_count": 12,
   "metadata": {
    "execution": {
     "iopub.execute_input": "2021-03-19T02:18:50.848730Z",
     "iopub.status.busy": "2021-03-19T02:18:50.847950Z",
     "iopub.status.idle": "2021-03-19T02:18:50.849561Z",
     "shell.execute_reply": "2021-03-19T02:18:50.849927Z"
    }
   },
   "outputs": [],
   "source": [
    "df = df.append(add, ignore_index=True)"
   ]
  },
  {
   "cell_type": "code",
   "execution_count": 13,
   "metadata": {
    "execution": {
     "iopub.execute_input": "2021-03-19T02:18:50.853851Z",
     "iopub.status.busy": "2021-03-19T02:18:50.853076Z",
     "iopub.status.idle": "2021-03-19T02:18:50.854660Z",
     "shell.execute_reply": "2021-03-19T02:18:50.854996Z"
    }
   },
   "outputs": [],
   "source": [
    "df = df.sort_values(by='location')"
   ]
  },
  {
   "cell_type": "code",
   "execution_count": 14,
   "metadata": {
    "execution": {
     "iopub.execute_input": "2021-03-19T02:18:50.860197Z",
     "iopub.status.busy": "2021-03-19T02:18:50.859414Z",
     "iopub.status.idle": "2021-03-19T02:18:50.860933Z",
     "shell.execute_reply": "2021-03-19T02:18:50.861294Z"
    }
   },
   "outputs": [],
   "source": [
    "df = df[df.location == 'California'].append(df[df.location != 'California']).reset_index(drop=True)"
   ]
  },
  {
   "cell_type": "code",
   "execution_count": null,
   "metadata": {},
   "outputs": [],
   "source": []
  },
  {
   "cell_type": "code",
   "execution_count": 15,
   "metadata": {
    "execution": {
     "iopub.execute_input": "2021-03-19T02:18:50.863982Z",
     "iopub.status.busy": "2021-03-19T02:18:50.863545Z",
     "iopub.status.idle": "2021-03-19T02:18:50.878905Z",
     "shell.execute_reply": "2021-03-19T02:18:50.878488Z"
    }
   },
   "outputs": [],
   "source": [
    "tz = pytz.timezone(\"America/New_York\")"
   ]
  },
  {
   "cell_type": "code",
   "execution_count": 16,
   "metadata": {
    "execution": {
     "iopub.execute_input": "2021-03-19T02:18:50.882195Z",
     "iopub.status.busy": "2021-03-19T02:18:50.881403Z",
     "iopub.status.idle": "2021-03-19T02:18:50.883281Z",
     "shell.execute_reply": "2021-03-19T02:18:50.882912Z"
    }
   },
   "outputs": [],
   "source": [
    "today = datetime.now(tz).date()"
   ]
  },
  {
   "cell_type": "code",
   "execution_count": 17,
   "metadata": {
    "execution": {
     "iopub.execute_input": "2021-03-19T02:18:50.886665Z",
     "iopub.status.busy": "2021-03-19T02:18:50.885887Z",
     "iopub.status.idle": "2021-03-19T02:18:50.887501Z",
     "shell.execute_reply": "2021-03-19T02:18:50.887875Z"
    }
   },
   "outputs": [],
   "source": [
    "data_dir = os.path.join(os.path.abspath(\"\"), \"data\")"
   ]
  },
  {
   "cell_type": "code",
   "execution_count": 18,
   "metadata": {
    "execution": {
     "iopub.execute_input": "2021-03-19T02:18:50.891135Z",
     "iopub.status.busy": "2021-03-19T02:18:50.890528Z",
     "iopub.status.idle": "2021-03-19T02:18:50.894442Z",
     "shell.execute_reply": "2021-03-19T02:18:50.894081Z"
    }
   },
   "outputs": [],
   "source": [
    "df.to_csv(os.path.join(data_dir, f\"{today}.csv\"), index=False)"
   ]
  },
  {
   "cell_type": "code",
   "execution_count": null,
   "metadata": {},
   "outputs": [],
   "source": []
  }
 ],
 "metadata": {
  "kernelspec": {
   "display_name": "Python 3",
   "language": "python",
   "name": "python3"
  },
  "language_info": {
   "codemirror_mode": {
    "name": "ipython",
    "version": 3
   },
   "file_extension": ".py",
   "mimetype": "text/x-python",
   "name": "python",
   "nbconvert_exporter": "python",
   "pygments_lexer": "ipython3",
   "version": "3.8.8"
  }
 },
 "nbformat": 4,
 "nbformat_minor": 4
}
