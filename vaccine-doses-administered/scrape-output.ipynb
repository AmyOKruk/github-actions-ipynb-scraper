{
 "cells": [
  {
   "cell_type": "markdown",
   "metadata": {},
   "source": [
    "# California COVID vaccinations scrape"
   ]
  },
  {
   "cell_type": "markdown",
   "metadata": {},
   "source": [
    "By [Amy O'Kruk](https://twitter.com/amyokruk)"
   ]
  },
  {
   "cell_type": "markdown",
   "metadata": {},
   "source": [
    "Downloads data on vaccine doses administered by county and statewide from a Tableau-powered dashboard from the California Department of Public Health."
   ]
  },
  {
   "cell_type": "code",
   "execution_count": 1,
   "metadata": {
    "execution": {
     "iopub.execute_input": "2021-03-19T08:49:00.708204Z",
     "iopub.status.busy": "2021-03-19T08:49:00.706967Z",
     "iopub.status.idle": "2021-03-19T08:49:01.251169Z",
     "shell.execute_reply": "2021-03-19T08:49:01.249740Z"
    }
   },
   "outputs": [],
   "source": [
    "import pandas as pd\n",
    "import requests\n",
    "from bs4 import BeautifulSoup\n",
    "import json\n",
    "import re\n",
    "import time\n",
    "from time import gmtime, strftime \n",
    "import os\n",
    "import pytz\n",
    "from datetime import datetime"
   ]
  },
  {
   "cell_type": "markdown",
   "metadata": {},
   "source": [
    "Scrape the dashboard page"
   ]
  },
  {
   "cell_type": "code",
   "execution_count": 2,
   "metadata": {
    "execution": {
     "iopub.execute_input": "2021-03-19T08:49:01.257834Z",
     "iopub.status.busy": "2021-03-19T08:49:01.257303Z",
     "iopub.status.idle": "2021-03-19T08:49:01.642772Z",
     "shell.execute_reply": "2021-03-19T08:49:01.641849Z"
    }
   },
   "outputs": [],
   "source": [
    "url = \"https://public.tableau.com/interactive/views/COVID-19VaccineDashboardPublic/Vaccine?:embed=y&:showVizHome=n&:apiID=host0\"\n",
    "\n",
    "r = requests.get(url)\n",
    "soup = BeautifulSoup(r.text, \"html.parser\")"
   ]
  },
  {
   "cell_type": "code",
   "execution_count": 3,
   "metadata": {
    "execution": {
     "iopub.execute_input": "2021-03-19T08:49:01.648041Z",
     "iopub.status.busy": "2021-03-19T08:49:01.647520Z",
     "iopub.status.idle": "2021-03-19T08:49:01.650441Z",
     "shell.execute_reply": "2021-03-19T08:49:01.650902Z"
    }
   },
   "outputs": [],
   "source": [
    "tableauData = json.loads(soup.find(\"textarea\",{\"id\": \"tsConfigContainer\"}).text)"
   ]
  },
  {
   "cell_type": "markdown",
   "metadata": {},
   "source": [
    "Get the link to the Tableau data"
   ]
  },
  {
   "cell_type": "code",
   "execution_count": 4,
   "metadata": {
    "execution": {
     "iopub.execute_input": "2021-03-19T08:49:01.654608Z",
     "iopub.status.busy": "2021-03-19T08:49:01.654082Z",
     "iopub.status.idle": "2021-03-19T08:49:01.657380Z",
     "shell.execute_reply": "2021-03-19T08:49:01.656930Z"
    }
   },
   "outputs": [],
   "source": [
    "dataUrl = f'https://public.tableau.com{tableauData[\"vizql_root\"]}/bootstrapSession/sessions/{tableauData[\"sessionid\"]}'"
   ]
  },
  {
   "cell_type": "code",
   "execution_count": 5,
   "metadata": {
    "execution": {
     "iopub.execute_input": "2021-03-19T08:49:01.665042Z",
     "iopub.status.busy": "2021-03-19T08:49:01.664021Z",
     "iopub.status.idle": "2021-03-19T08:49:01.943020Z",
     "shell.execute_reply": "2021-03-19T08:49:01.941976Z"
    }
   },
   "outputs": [],
   "source": [
    "r = requests.post(dataUrl, data= {\n",
    "    \"sheet_id\": tableauData[\"sheetId\"],\n",
    "})\n",
    "\n",
    "dataReg = re.search('\\d+;({.*})\\d+;({.*})', r.text, re.MULTILINE)\n",
    "data1 = json.loads(dataReg.group(2))\n",
    "\n",
    "dataJson = data1[\"secondaryInfo\"][\"presModelMap\"][\"dataDictionary\"][\"presModelHolder\"][\"genDataDictionaryPresModel\"][\"dataSegments\"][\"0\"][\"dataColumns\"]"
   ]
  },
  {
   "cell_type": "markdown",
   "metadata": {},
   "source": [
    "Isolate what you want"
   ]
  },
  {
   "cell_type": "code",
   "execution_count": 6,
   "metadata": {
    "execution": {
     "iopub.execute_input": "2021-03-19T08:49:01.946955Z",
     "iopub.status.busy": "2021-03-19T08:49:01.946405Z",
     "iopub.status.idle": "2021-03-19T08:49:01.949765Z",
     "shell.execute_reply": "2021-03-19T08:49:01.949338Z"
    }
   },
   "outputs": [],
   "source": [
    "counties = dataJson[2]['dataValues'][:58]"
   ]
  },
  {
   "cell_type": "code",
   "execution_count": 7,
   "metadata": {
    "execution": {
     "iopub.execute_input": "2021-03-19T08:49:01.954096Z",
     "iopub.status.busy": "2021-03-19T08:49:01.952899Z",
     "iopub.status.idle": "2021-03-19T08:49:01.954736Z",
     "shell.execute_reply": "2021-03-19T08:49:01.955171Z"
    }
   },
   "outputs": [],
   "source": [
    "doses = dataJson[0]['dataValues'][3:61]"
   ]
  },
  {
   "cell_type": "markdown",
   "metadata": {},
   "source": [
    "Data formatting"
   ]
  },
  {
   "cell_type": "code",
   "execution_count": 8,
   "metadata": {
    "execution": {
     "iopub.execute_input": "2021-03-19T08:49:01.959477Z",
     "iopub.status.busy": "2021-03-19T08:49:01.958238Z",
     "iopub.status.idle": "2021-03-19T08:49:01.960071Z",
     "shell.execute_reply": "2021-03-19T08:49:01.960493Z"
    }
   },
   "outputs": [],
   "source": [
    "zipped = dict(zip(counties, doses))"
   ]
  },
  {
   "cell_type": "code",
   "execution_count": 9,
   "metadata": {
    "execution": {
     "iopub.execute_input": "2021-03-19T08:49:01.967071Z",
     "iopub.status.busy": "2021-03-19T08:49:01.965827Z",
     "iopub.status.idle": "2021-03-19T08:49:01.967665Z",
     "shell.execute_reply": "2021-03-19T08:49:01.968087Z"
    }
   },
   "outputs": [],
   "source": [
    "df = pd.Series(zipped).reset_index()"
   ]
  },
  {
   "cell_type": "code",
   "execution_count": 10,
   "metadata": {
    "execution": {
     "iopub.execute_input": "2021-03-19T08:49:01.972592Z",
     "iopub.status.busy": "2021-03-19T08:49:01.971400Z",
     "iopub.status.idle": "2021-03-19T08:49:01.973186Z",
     "shell.execute_reply": "2021-03-19T08:49:01.973847Z"
    }
   },
   "outputs": [],
   "source": [
    "df.columns = ['location','doses']"
   ]
  },
  {
   "cell_type": "markdown",
   "metadata": {},
   "source": [
    "Grab the overall California total"
   ]
  },
  {
   "cell_type": "code",
   "execution_count": 11,
   "metadata": {
    "execution": {
     "iopub.execute_input": "2021-03-19T08:49:01.978129Z",
     "iopub.status.busy": "2021-03-19T08:49:01.977018Z",
     "iopub.status.idle": "2021-03-19T08:49:01.978787Z",
     "shell.execute_reply": "2021-03-19T08:49:01.979216Z"
    }
   },
   "outputs": [],
   "source": [
    "add = {'location':'California','doses':dataJson[0]['dataValues'][2]}"
   ]
  },
  {
   "cell_type": "code",
   "execution_count": 12,
   "metadata": {
    "execution": {
     "iopub.execute_input": "2021-03-19T08:49:01.986275Z",
     "iopub.status.busy": "2021-03-19T08:49:01.985076Z",
     "iopub.status.idle": "2021-03-19T08:49:01.986894Z",
     "shell.execute_reply": "2021-03-19T08:49:01.987324Z"
    }
   },
   "outputs": [],
   "source": [
    "df = df.append(add, ignore_index=True)"
   ]
  },
  {
   "cell_type": "code",
   "execution_count": 13,
   "metadata": {
    "execution": {
     "iopub.execute_input": "2021-03-19T08:49:01.992310Z",
     "iopub.status.busy": "2021-03-19T08:49:01.991147Z",
     "iopub.status.idle": "2021-03-19T08:49:01.992920Z",
     "shell.execute_reply": "2021-03-19T08:49:01.993346Z"
    }
   },
   "outputs": [],
   "source": [
    "df = df.sort_values(by='location')"
   ]
  },
  {
   "cell_type": "code",
   "execution_count": 14,
   "metadata": {
    "execution": {
     "iopub.execute_input": "2021-03-19T08:49:01.999424Z",
     "iopub.status.busy": "2021-03-19T08:49:01.998471Z",
     "iopub.status.idle": "2021-03-19T08:49:02.000418Z",
     "shell.execute_reply": "2021-03-19T08:49:02.001046Z"
    }
   },
   "outputs": [],
   "source": [
    "df = df[df.location == 'California'].append(df[df.location != 'California']).reset_index(drop=True)"
   ]
  },
  {
   "cell_type": "code",
   "execution_count": null,
   "metadata": {},
   "outputs": [],
   "source": []
  },
  {
   "cell_type": "code",
   "execution_count": 15,
   "metadata": {
    "execution": {
     "iopub.execute_input": "2021-03-19T08:49:02.004473Z",
     "iopub.status.busy": "2021-03-19T08:49:02.003964Z",
     "iopub.status.idle": "2021-03-19T08:49:02.028372Z",
     "shell.execute_reply": "2021-03-19T08:49:02.027877Z"
    }
   },
   "outputs": [],
   "source": [
    "tz = pytz.timezone(\"America/New_York\")"
   ]
  },
  {
   "cell_type": "code",
   "execution_count": 16,
   "metadata": {
    "execution": {
     "iopub.execute_input": "2021-03-19T08:49:02.032895Z",
     "iopub.status.busy": "2021-03-19T08:49:02.031469Z",
     "iopub.status.idle": "2021-03-19T08:49:02.033471Z",
     "shell.execute_reply": "2021-03-19T08:49:02.033895Z"
    }
   },
   "outputs": [],
   "source": [
    "today = datetime.now(tz).date()"
   ]
  },
  {
   "cell_type": "code",
   "execution_count": 17,
   "metadata": {
    "execution": {
     "iopub.execute_input": "2021-03-19T08:49:02.038294Z",
     "iopub.status.busy": "2021-03-19T08:49:02.037129Z",
     "iopub.status.idle": "2021-03-19T08:49:02.038963Z",
     "shell.execute_reply": "2021-03-19T08:49:02.039389Z"
    }
   },
   "outputs": [],
   "source": [
    "data_dir = os.path.join(os.path.abspath(\"\"), \"data\")"
   ]
  },
  {
   "cell_type": "code",
   "execution_count": 18,
   "metadata": {
    "execution": {
     "iopub.execute_input": "2021-03-19T08:49:02.043710Z",
     "iopub.status.busy": "2021-03-19T08:49:02.042482Z",
     "iopub.status.idle": "2021-03-19T08:49:02.046991Z",
     "shell.execute_reply": "2021-03-19T08:49:02.046540Z"
    }
   },
   "outputs": [],
   "source": [
    "df.to_csv(os.path.join(data_dir, f\"{today}.csv\"), index=False)"
   ]
  },
  {
   "cell_type": "code",
   "execution_count": null,
   "metadata": {},
   "outputs": [],
   "source": []
  }
 ],
 "metadata": {
  "kernelspec": {
   "display_name": "Python 3",
   "language": "python",
   "name": "python3"
  },
  "language_info": {
   "codemirror_mode": {
    "name": "ipython",
    "version": 3
   },
   "file_extension": ".py",
   "mimetype": "text/x-python",
   "name": "python",
   "nbconvert_exporter": "python",
   "pygments_lexer": "ipython3",
   "version": "3.8.8"
  }
 },
 "nbformat": 4,
 "nbformat_minor": 4
}
