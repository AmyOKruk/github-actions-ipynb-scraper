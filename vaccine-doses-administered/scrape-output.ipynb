{
 "cells": [
  {
   "cell_type": "markdown",
   "metadata": {},
   "source": [
    "# California COVID vaccinations scrape"
   ]
  },
  {
   "cell_type": "markdown",
   "metadata": {},
   "source": [
    "By [Amy O'Kruk](https://twitter.com/amyokruk)"
   ]
  },
  {
   "cell_type": "markdown",
   "metadata": {},
   "source": [
    "Downloads data on vaccine doses administered by county and statewide from a Tableau-powered dashboard from the California Department of Public Health."
   ]
  },
  {
   "cell_type": "code",
   "execution_count": 1,
   "metadata": {
    "execution": {
     "iopub.execute_input": "2021-03-09T07:40:07.333323Z",
     "iopub.status.busy": "2021-03-09T07:40:07.332673Z",
     "iopub.status.idle": "2021-03-09T07:40:07.746277Z",
     "shell.execute_reply": "2021-03-09T07:40:07.745698Z"
    }
   },
   "outputs": [],
   "source": [
    "import pandas as pd\n",
    "import requests\n",
    "from bs4 import BeautifulSoup\n",
    "import json\n",
    "import re\n",
    "import time\n",
    "from time import gmtime, strftime \n",
    "import os\n",
    "import pytz\n",
    "from datetime import datetime"
   ]
  },
  {
   "cell_type": "markdown",
   "metadata": {},
   "source": [
    "Scrape the dashboard page"
   ]
  },
  {
   "cell_type": "code",
   "execution_count": 2,
   "metadata": {
    "execution": {
     "iopub.execute_input": "2021-03-09T07:40:07.751946Z",
     "iopub.status.busy": "2021-03-09T07:40:07.751075Z",
     "iopub.status.idle": "2021-03-09T07:40:08.527367Z",
     "shell.execute_reply": "2021-03-09T07:40:08.526840Z"
    }
   },
   "outputs": [],
   "source": [
    "url = \"https://public.tableau.com/interactive/views/COVID-19VaccineDashboardPublic/Vaccine?:embed=y&:showVizHome=n&:apiID=host0\"\n",
    "\n",
    "r = requests.get(url)\n",
    "soup = BeautifulSoup(r.text, \"html.parser\")"
   ]
  },
  {
   "cell_type": "code",
   "execution_count": 3,
   "metadata": {
    "execution": {
     "iopub.execute_input": "2021-03-09T07:40:08.532269Z",
     "iopub.status.busy": "2021-03-09T07:40:08.531723Z",
     "iopub.status.idle": "2021-03-09T07:40:08.535386Z",
     "shell.execute_reply": "2021-03-09T07:40:08.534833Z"
    }
   },
   "outputs": [],
   "source": [
    "tableauData = json.loads(soup.find(\"textarea\",{\"id\": \"tsConfigContainer\"}).text)"
   ]
  },
  {
   "cell_type": "markdown",
   "metadata": {},
   "source": [
    "Get the link to the Tableau data"
   ]
  },
  {
   "cell_type": "code",
   "execution_count": 4,
   "metadata": {
    "execution": {
     "iopub.execute_input": "2021-03-09T07:40:08.539310Z",
     "iopub.status.busy": "2021-03-09T07:40:08.538762Z",
     "iopub.status.idle": "2021-03-09T07:40:08.542051Z",
     "shell.execute_reply": "2021-03-09T07:40:08.542508Z"
    }
   },
   "outputs": [],
   "source": [
    "dataUrl = f'https://public.tableau.com{tableauData[\"vizql_root\"]}/bootstrapSession/sessions/{tableauData[\"sessionid\"]}'"
   ]
  },
  {
   "cell_type": "code",
   "execution_count": 5,
   "metadata": {
    "execution": {
     "iopub.execute_input": "2021-03-09T07:40:08.549647Z",
     "iopub.status.busy": "2021-03-09T07:40:08.548951Z",
     "iopub.status.idle": "2021-03-09T07:40:09.044924Z",
     "shell.execute_reply": "2021-03-09T07:40:09.043852Z"
    }
   },
   "outputs": [],
   "source": [
    "r = requests.post(dataUrl, data= {\n",
    "    \"sheet_id\": tableauData[\"sheetId\"],\n",
    "})\n",
    "\n",
    "dataReg = re.search('\\d+;({.*})\\d+;({.*})', r.text, re.MULTILINE)\n",
    "data1 = json.loads(dataReg.group(2))\n",
    "\n",
    "dataJson = data1[\"secondaryInfo\"][\"presModelMap\"][\"dataDictionary\"][\"presModelHolder\"][\"genDataDictionaryPresModel\"][\"dataSegments\"][\"0\"][\"dataColumns\"]"
   ]
  },
  {
   "cell_type": "markdown",
   "metadata": {},
   "source": [
    "Isolate what you want"
   ]
  },
  {
   "cell_type": "code",
   "execution_count": 6,
   "metadata": {
    "execution": {
     "iopub.execute_input": "2021-03-09T07:40:09.049541Z",
     "iopub.status.busy": "2021-03-09T07:40:09.048971Z",
     "iopub.status.idle": "2021-03-09T07:40:09.052700Z",
     "shell.execute_reply": "2021-03-09T07:40:09.053120Z"
    }
   },
   "outputs": [],
   "source": [
    "counties = dataJson[2]['dataValues'][:58]"
   ]
  },
  {
   "cell_type": "code",
   "execution_count": 7,
   "metadata": {
    "execution": {
     "iopub.execute_input": "2021-03-09T07:40:09.058535Z",
     "iopub.status.busy": "2021-03-09T07:40:09.057178Z",
     "iopub.status.idle": "2021-03-09T07:40:09.059248Z",
     "shell.execute_reply": "2021-03-09T07:40:09.059696Z"
    }
   },
   "outputs": [],
   "source": [
    "doses = dataJson[0]['dataValues'][3:61]"
   ]
  },
  {
   "cell_type": "markdown",
   "metadata": {},
   "source": [
    "Data formatting"
   ]
  },
  {
   "cell_type": "code",
   "execution_count": 8,
   "metadata": {
    "execution": {
     "iopub.execute_input": "2021-03-09T07:40:09.064211Z",
     "iopub.status.busy": "2021-03-09T07:40:09.062900Z",
     "iopub.status.idle": "2021-03-09T07:40:09.064927Z",
     "shell.execute_reply": "2021-03-09T07:40:09.065376Z"
    }
   },
   "outputs": [],
   "source": [
    "zipped = dict(zip(counties, doses))"
   ]
  },
  {
   "cell_type": "code",
   "execution_count": 9,
   "metadata": {
    "execution": {
     "iopub.execute_input": "2021-03-09T07:40:09.072457Z",
     "iopub.status.busy": "2021-03-09T07:40:09.070981Z",
     "iopub.status.idle": "2021-03-09T07:40:09.073076Z",
     "shell.execute_reply": "2021-03-09T07:40:09.073529Z"
    }
   },
   "outputs": [],
   "source": [
    "df = pd.Series(zipped).reset_index()"
   ]
  },
  {
   "cell_type": "code",
   "execution_count": 10,
   "metadata": {
    "execution": {
     "iopub.execute_input": "2021-03-09T07:40:09.077850Z",
     "iopub.status.busy": "2021-03-09T07:40:09.076709Z",
     "iopub.status.idle": "2021-03-09T07:40:09.078692Z",
     "shell.execute_reply": "2021-03-09T07:40:09.079171Z"
    }
   },
   "outputs": [],
   "source": [
    "df.columns = ['location','doses']"
   ]
  },
  {
   "cell_type": "markdown",
   "metadata": {},
   "source": [
    "Grab the overall California total"
   ]
  },
  {
   "cell_type": "code",
   "execution_count": 11,
   "metadata": {
    "execution": {
     "iopub.execute_input": "2021-03-09T07:40:09.083529Z",
     "iopub.status.busy": "2021-03-09T07:40:09.082338Z",
     "iopub.status.idle": "2021-03-09T07:40:09.084204Z",
     "shell.execute_reply": "2021-03-09T07:40:09.084765Z"
    }
   },
   "outputs": [],
   "source": [
    "add = {'location':'California','doses':dataJson[0]['dataValues'][2]}"
   ]
  },
  {
   "cell_type": "code",
   "execution_count": 12,
   "metadata": {
    "execution": {
     "iopub.execute_input": "2021-03-09T07:40:09.092829Z",
     "iopub.status.busy": "2021-03-09T07:40:09.091323Z",
     "iopub.status.idle": "2021-03-09T07:40:09.093406Z",
     "shell.execute_reply": "2021-03-09T07:40:09.093841Z"
    }
   },
   "outputs": [],
   "source": [
    "df = df.append(add, ignore_index=True)"
   ]
  },
  {
   "cell_type": "code",
   "execution_count": 13,
   "metadata": {
    "execution": {
     "iopub.execute_input": "2021-03-09T07:40:09.099014Z",
     "iopub.status.busy": "2021-03-09T07:40:09.097676Z",
     "iopub.status.idle": "2021-03-09T07:40:09.099806Z",
     "shell.execute_reply": "2021-03-09T07:40:09.100936Z"
    }
   },
   "outputs": [],
   "source": [
    "df = df.sort_values(by='location')"
   ]
  },
  {
   "cell_type": "code",
   "execution_count": 14,
   "metadata": {
    "execution": {
     "iopub.execute_input": "2021-03-09T07:40:09.107356Z",
     "iopub.status.busy": "2021-03-09T07:40:09.106827Z",
     "iopub.status.idle": "2021-03-09T07:40:09.113710Z",
     "shell.execute_reply": "2021-03-09T07:40:09.114165Z"
    }
   },
   "outputs": [],
   "source": [
    "df = df[df.location == 'California'].append(df[df.location != 'California']).reset_index(drop=True)"
   ]
  },
  {
   "cell_type": "code",
   "execution_count": null,
   "metadata": {},
   "outputs": [],
   "source": []
  },
  {
   "cell_type": "code",
   "execution_count": 15,
   "metadata": {
    "execution": {
     "iopub.execute_input": "2021-03-09T07:40:09.117822Z",
     "iopub.status.busy": "2021-03-09T07:40:09.117262Z",
     "iopub.status.idle": "2021-03-09T07:40:09.136866Z",
     "shell.execute_reply": "2021-03-09T07:40:09.136314Z"
    }
   },
   "outputs": [],
   "source": [
    "tz = pytz.timezone(\"America/New_York\")"
   ]
  },
  {
   "cell_type": "code",
   "execution_count": 16,
   "metadata": {
    "execution": {
     "iopub.execute_input": "2021-03-09T07:40:09.141353Z",
     "iopub.status.busy": "2021-03-09T07:40:09.140018Z",
     "iopub.status.idle": "2021-03-09T07:40:09.141979Z",
     "shell.execute_reply": "2021-03-09T07:40:09.142481Z"
    }
   },
   "outputs": [],
   "source": [
    "today = datetime.now(tz).date()"
   ]
  },
  {
   "cell_type": "code",
   "execution_count": 17,
   "metadata": {
    "execution": {
     "iopub.execute_input": "2021-03-09T07:40:09.147576Z",
     "iopub.status.busy": "2021-03-09T07:40:09.145663Z",
     "iopub.status.idle": "2021-03-09T07:40:09.148265Z",
     "shell.execute_reply": "2021-03-09T07:40:09.148693Z"
    }
   },
   "outputs": [],
   "source": [
    "data_dir = os.path.join(os.path.abspath(\"\"), \"data\")"
   ]
  },
  {
   "cell_type": "code",
   "execution_count": 18,
   "metadata": {
    "execution": {
     "iopub.execute_input": "2021-03-09T07:40:09.152570Z",
     "iopub.status.busy": "2021-03-09T07:40:09.151936Z",
     "iopub.status.idle": "2021-03-09T07:40:09.166732Z",
     "shell.execute_reply": "2021-03-09T07:40:09.167270Z"
    }
   },
   "outputs": [],
   "source": [
    "df.to_csv(os.path.join(data_dir, f\"{today}.csv\"), index=False)"
   ]
  },
  {
   "cell_type": "code",
   "execution_count": null,
   "metadata": {},
   "outputs": [],
   "source": []
  }
 ],
 "metadata": {
  "kernelspec": {
   "display_name": "Python 3",
   "language": "python",
   "name": "python3"
  },
  "language_info": {
   "codemirror_mode": {
    "name": "ipython",
    "version": 3
   },
   "file_extension": ".py",
   "mimetype": "text/x-python",
   "name": "python",
   "nbconvert_exporter": "python",
   "pygments_lexer": "ipython3",
   "version": "3.8.8"
  }
 },
 "nbformat": 4,
 "nbformat_minor": 4
}
