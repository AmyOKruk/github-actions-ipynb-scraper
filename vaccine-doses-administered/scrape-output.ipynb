{
 "cells": [
  {
   "cell_type": "markdown",
   "metadata": {},
   "source": [
    "# California COVID vaccinations scrape"
   ]
  },
  {
   "cell_type": "markdown",
   "metadata": {},
   "source": [
    "By [Amy O'Kruk](https://twitter.com/amyokruk)"
   ]
  },
  {
   "cell_type": "markdown",
   "metadata": {},
   "source": [
    "Downloads data on vaccine doses administered by county and statewide from a Tableau-powered dashboard from the California Department of Public Health."
   ]
  },
  {
   "cell_type": "code",
   "execution_count": 1,
   "metadata": {
    "execution": {
     "iopub.execute_input": "2021-03-13T07:11:59.015625Z",
     "iopub.status.busy": "2021-03-13T07:11:59.014993Z",
     "iopub.status.idle": "2021-03-13T07:11:59.414279Z",
     "shell.execute_reply": "2021-03-13T07:11:59.414717Z"
    }
   },
   "outputs": [],
   "source": [
    "import pandas as pd\n",
    "import requests\n",
    "from bs4 import BeautifulSoup\n",
    "import json\n",
    "import re\n",
    "import time\n",
    "from time import gmtime, strftime \n",
    "import os\n",
    "import pytz\n",
    "from datetime import datetime"
   ]
  },
  {
   "cell_type": "markdown",
   "metadata": {},
   "source": [
    "Scrape the dashboard page"
   ]
  },
  {
   "cell_type": "code",
   "execution_count": 2,
   "metadata": {
    "execution": {
     "iopub.execute_input": "2021-03-13T07:11:59.420581Z",
     "iopub.status.busy": "2021-03-13T07:11:59.418381Z",
     "iopub.status.idle": "2021-03-13T07:11:59.754047Z",
     "shell.execute_reply": "2021-03-13T07:11:59.753449Z"
    }
   },
   "outputs": [],
   "source": [
    "url = \"https://public.tableau.com/interactive/views/COVID-19VaccineDashboardPublic/Vaccine?:embed=y&:showVizHome=n&:apiID=host0\"\n",
    "\n",
    "r = requests.get(url)\n",
    "soup = BeautifulSoup(r.text, \"html.parser\")"
   ]
  },
  {
   "cell_type": "code",
   "execution_count": 3,
   "metadata": {
    "execution": {
     "iopub.execute_input": "2021-03-13T07:11:59.759062Z",
     "iopub.status.busy": "2021-03-13T07:11:59.758517Z",
     "iopub.status.idle": "2021-03-13T07:11:59.762084Z",
     "shell.execute_reply": "2021-03-13T07:11:59.761605Z"
    }
   },
   "outputs": [],
   "source": [
    "tableauData = json.loads(soup.find(\"textarea\",{\"id\": \"tsConfigContainer\"}).text)"
   ]
  },
  {
   "cell_type": "markdown",
   "metadata": {},
   "source": [
    "Get the link to the Tableau data"
   ]
  },
  {
   "cell_type": "code",
   "execution_count": 4,
   "metadata": {
    "execution": {
     "iopub.execute_input": "2021-03-13T07:11:59.765380Z",
     "iopub.status.busy": "2021-03-13T07:11:59.764842Z",
     "iopub.status.idle": "2021-03-13T07:11:59.768187Z",
     "shell.execute_reply": "2021-03-13T07:11:59.768675Z"
    }
   },
   "outputs": [],
   "source": [
    "dataUrl = f'https://public.tableau.com{tableauData[\"vizql_root\"]}/bootstrapSession/sessions/{tableauData[\"sessionid\"]}'"
   ]
  },
  {
   "cell_type": "code",
   "execution_count": 5,
   "metadata": {
    "execution": {
     "iopub.execute_input": "2021-03-13T07:11:59.776224Z",
     "iopub.status.busy": "2021-03-13T07:11:59.775582Z",
     "iopub.status.idle": "2021-03-13T07:12:00.116568Z",
     "shell.execute_reply": "2021-03-13T07:12:00.117133Z"
    }
   },
   "outputs": [],
   "source": [
    "r = requests.post(dataUrl, data= {\n",
    "    \"sheet_id\": tableauData[\"sheetId\"],\n",
    "})\n",
    "\n",
    "dataReg = re.search('\\d+;({.*})\\d+;({.*})', r.text, re.MULTILINE)\n",
    "data1 = json.loads(dataReg.group(2))\n",
    "\n",
    "dataJson = data1[\"secondaryInfo\"][\"presModelMap\"][\"dataDictionary\"][\"presModelHolder\"][\"genDataDictionaryPresModel\"][\"dataSegments\"][\"0\"][\"dataColumns\"]"
   ]
  },
  {
   "cell_type": "markdown",
   "metadata": {},
   "source": [
    "Isolate what you want"
   ]
  },
  {
   "cell_type": "code",
   "execution_count": 6,
   "metadata": {
    "execution": {
     "iopub.execute_input": "2021-03-13T07:12:00.122432Z",
     "iopub.status.busy": "2021-03-13T07:12:00.120919Z",
     "iopub.status.idle": "2021-03-13T07:12:00.123080Z",
     "shell.execute_reply": "2021-03-13T07:12:00.123563Z"
    }
   },
   "outputs": [],
   "source": [
    "counties = dataJson[2]['dataValues'][:58]"
   ]
  },
  {
   "cell_type": "code",
   "execution_count": 7,
   "metadata": {
    "execution": {
     "iopub.execute_input": "2021-03-13T07:12:00.128715Z",
     "iopub.status.busy": "2021-03-13T07:12:00.126981Z",
     "iopub.status.idle": "2021-03-13T07:12:00.129357Z",
     "shell.execute_reply": "2021-03-13T07:12:00.129888Z"
    }
   },
   "outputs": [],
   "source": [
    "doses = dataJson[0]['dataValues'][3:61]"
   ]
  },
  {
   "cell_type": "markdown",
   "metadata": {},
   "source": [
    "Data formatting"
   ]
  },
  {
   "cell_type": "code",
   "execution_count": 8,
   "metadata": {
    "execution": {
     "iopub.execute_input": "2021-03-13T07:12:00.135666Z",
     "iopub.status.busy": "2021-03-13T07:12:00.134454Z",
     "iopub.status.idle": "2021-03-13T07:12:00.136411Z",
     "shell.execute_reply": "2021-03-13T07:12:00.136888Z"
    }
   },
   "outputs": [],
   "source": [
    "zipped = dict(zip(counties, doses))"
   ]
  },
  {
   "cell_type": "code",
   "execution_count": 9,
   "metadata": {
    "execution": {
     "iopub.execute_input": "2021-03-13T07:12:00.143920Z",
     "iopub.status.busy": "2021-03-13T07:12:00.142375Z",
     "iopub.status.idle": "2021-03-13T07:12:00.144567Z",
     "shell.execute_reply": "2021-03-13T07:12:00.145049Z"
    }
   },
   "outputs": [],
   "source": [
    "df = pd.Series(zipped).reset_index()"
   ]
  },
  {
   "cell_type": "code",
   "execution_count": 10,
   "metadata": {
    "execution": {
     "iopub.execute_input": "2021-03-13T07:12:00.151174Z",
     "iopub.status.busy": "2021-03-13T07:12:00.148617Z",
     "iopub.status.idle": "2021-03-13T07:12:00.151870Z",
     "shell.execute_reply": "2021-03-13T07:12:00.152523Z"
    }
   },
   "outputs": [],
   "source": [
    "df.columns = ['location','doses']"
   ]
  },
  {
   "cell_type": "markdown",
   "metadata": {},
   "source": [
    "Grab the overall California total"
   ]
  },
  {
   "cell_type": "code",
   "execution_count": 11,
   "metadata": {
    "execution": {
     "iopub.execute_input": "2021-03-13T07:12:00.157610Z",
     "iopub.status.busy": "2021-03-13T07:12:00.156125Z",
     "iopub.status.idle": "2021-03-13T07:12:00.158437Z",
     "shell.execute_reply": "2021-03-13T07:12:00.158923Z"
    }
   },
   "outputs": [],
   "source": [
    "add = {'location':'California','doses':dataJson[0]['dataValues'][2]}"
   ]
  },
  {
   "cell_type": "code",
   "execution_count": 12,
   "metadata": {
    "execution": {
     "iopub.execute_input": "2021-03-13T07:12:00.166892Z",
     "iopub.status.busy": "2021-03-13T07:12:00.166070Z",
     "iopub.status.idle": "2021-03-13T07:12:00.170944Z",
     "shell.execute_reply": "2021-03-13T07:12:00.170347Z"
    }
   },
   "outputs": [],
   "source": [
    "df = df.append(add, ignore_index=True)"
   ]
  },
  {
   "cell_type": "code",
   "execution_count": 13,
   "metadata": {
    "execution": {
     "iopub.execute_input": "2021-03-13T07:12:00.176110Z",
     "iopub.status.busy": "2021-03-13T07:12:00.174809Z",
     "iopub.status.idle": "2021-03-13T07:12:00.176738Z",
     "shell.execute_reply": "2021-03-13T07:12:00.177478Z"
    }
   },
   "outputs": [],
   "source": [
    "df = df.sort_values(by='location')"
   ]
  },
  {
   "cell_type": "code",
   "execution_count": 14,
   "metadata": {
    "execution": {
     "iopub.execute_input": "2021-03-13T07:12:00.184166Z",
     "iopub.status.busy": "2021-03-13T07:12:00.182919Z",
     "iopub.status.idle": "2021-03-13T07:12:00.184821Z",
     "shell.execute_reply": "2021-03-13T07:12:00.185293Z"
    }
   },
   "outputs": [],
   "source": [
    "df = df[df.location == 'California'].append(df[df.location != 'California']).reset_index(drop=True)"
   ]
  },
  {
   "cell_type": "code",
   "execution_count": null,
   "metadata": {},
   "outputs": [],
   "source": []
  },
  {
   "cell_type": "code",
   "execution_count": 15,
   "metadata": {
    "execution": {
     "iopub.execute_input": "2021-03-13T07:12:00.188830Z",
     "iopub.status.busy": "2021-03-13T07:12:00.188249Z",
     "iopub.status.idle": "2021-03-13T07:12:00.212681Z",
     "shell.execute_reply": "2021-03-13T07:12:00.213145Z"
    }
   },
   "outputs": [],
   "source": [
    "tz = pytz.timezone(\"America/New_York\")"
   ]
  },
  {
   "cell_type": "code",
   "execution_count": 16,
   "metadata": {
    "execution": {
     "iopub.execute_input": "2021-03-13T07:12:00.217597Z",
     "iopub.status.busy": "2021-03-13T07:12:00.216321Z",
     "iopub.status.idle": "2021-03-13T07:12:00.218240Z",
     "shell.execute_reply": "2021-03-13T07:12:00.218729Z"
    }
   },
   "outputs": [],
   "source": [
    "today = datetime.now(tz).date()"
   ]
  },
  {
   "cell_type": "code",
   "execution_count": 17,
   "metadata": {
    "execution": {
     "iopub.execute_input": "2021-03-13T07:12:00.223301Z",
     "iopub.status.busy": "2021-03-13T07:12:00.221968Z",
     "iopub.status.idle": "2021-03-13T07:12:00.224064Z",
     "shell.execute_reply": "2021-03-13T07:12:00.224574Z"
    }
   },
   "outputs": [],
   "source": [
    "data_dir = os.path.join(os.path.abspath(\"\"), \"data\")"
   ]
  },
  {
   "cell_type": "code",
   "execution_count": 18,
   "metadata": {
    "execution": {
     "iopub.execute_input": "2021-03-13T07:12:00.230412Z",
     "iopub.status.busy": "2021-03-13T07:12:00.227921Z",
     "iopub.status.idle": "2021-03-13T07:12:00.234755Z",
     "shell.execute_reply": "2021-03-13T07:12:00.234158Z"
    }
   },
   "outputs": [],
   "source": [
    "df.to_csv(os.path.join(data_dir, f\"{today}.csv\"), index=False)"
   ]
  },
  {
   "cell_type": "code",
   "execution_count": null,
   "metadata": {},
   "outputs": [],
   "source": []
  }
 ],
 "metadata": {
  "kernelspec": {
   "display_name": "Python 3",
   "language": "python",
   "name": "python3"
  },
  "language_info": {
   "codemirror_mode": {
    "name": "ipython",
    "version": 3
   },
   "file_extension": ".py",
   "mimetype": "text/x-python",
   "name": "python",
   "nbconvert_exporter": "python",
   "pygments_lexer": "ipython3",
   "version": "3.8.8"
  }
 },
 "nbformat": 4,
 "nbformat_minor": 4
}
