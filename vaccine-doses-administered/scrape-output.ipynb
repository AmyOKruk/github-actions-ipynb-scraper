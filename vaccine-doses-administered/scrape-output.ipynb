{
 "cells": [
  {
   "cell_type": "markdown",
   "metadata": {},
   "source": [
    "# California COVID vaccinations scrape"
   ]
  },
  {
   "cell_type": "markdown",
   "metadata": {},
   "source": [
    "By [Amy O'Kruk](https://twitter.com/amyokruk)"
   ]
  },
  {
   "cell_type": "markdown",
   "metadata": {},
   "source": [
    "Downloads data on vaccine doses administered by county and statewide from a Tableau-powered dashboard from the California Department of Public Health."
   ]
  },
  {
   "cell_type": "code",
   "execution_count": 1,
   "metadata": {
    "execution": {
     "iopub.execute_input": "2021-03-09T18:48:28.901043Z",
     "iopub.status.busy": "2021-03-09T18:48:28.900526Z",
     "iopub.status.idle": "2021-03-09T18:48:29.279652Z",
     "shell.execute_reply": "2021-03-09T18:48:29.279076Z"
    }
   },
   "outputs": [],
   "source": [
    "import pandas as pd\n",
    "import requests\n",
    "from bs4 import BeautifulSoup\n",
    "import json\n",
    "import re\n",
    "import time\n",
    "from time import gmtime, strftime \n",
    "import os\n",
    "import pytz\n",
    "from datetime import datetime"
   ]
  },
  {
   "cell_type": "markdown",
   "metadata": {},
   "source": [
    "Scrape the dashboard page"
   ]
  },
  {
   "cell_type": "code",
   "execution_count": 2,
   "metadata": {
    "execution": {
     "iopub.execute_input": "2021-03-09T18:48:29.285315Z",
     "iopub.status.busy": "2021-03-09T18:48:29.282980Z",
     "iopub.status.idle": "2021-03-09T18:48:29.639601Z",
     "shell.execute_reply": "2021-03-09T18:48:29.639125Z"
    }
   },
   "outputs": [],
   "source": [
    "url = \"https://public.tableau.com/interactive/views/COVID-19VaccineDashboardPublic/Vaccine?:embed=y&:showVizHome=n&:apiID=host0\"\n",
    "\n",
    "r = requests.get(url)\n",
    "soup = BeautifulSoup(r.text, \"html.parser\")"
   ]
  },
  {
   "cell_type": "code",
   "execution_count": 3,
   "metadata": {
    "execution": {
     "iopub.execute_input": "2021-03-09T18:48:29.644848Z",
     "iopub.status.busy": "2021-03-09T18:48:29.643870Z",
     "iopub.status.idle": "2021-03-09T18:48:29.645368Z",
     "shell.execute_reply": "2021-03-09T18:48:29.645734Z"
    }
   },
   "outputs": [],
   "source": [
    "tableauData = json.loads(soup.find(\"textarea\",{\"id\": \"tsConfigContainer\"}).text)"
   ]
  },
  {
   "cell_type": "markdown",
   "metadata": {},
   "source": [
    "Get the link to the Tableau data"
   ]
  },
  {
   "cell_type": "code",
   "execution_count": 4,
   "metadata": {
    "execution": {
     "iopub.execute_input": "2021-03-09T18:48:29.649202Z",
     "iopub.status.busy": "2021-03-09T18:48:29.648428Z",
     "iopub.status.idle": "2021-03-09T18:48:29.650303Z",
     "shell.execute_reply": "2021-03-09T18:48:29.649940Z"
    }
   },
   "outputs": [],
   "source": [
    "dataUrl = f'https://public.tableau.com{tableauData[\"vizql_root\"]}/bootstrapSession/sessions/{tableauData[\"sessionid\"]}'"
   ]
  },
  {
   "cell_type": "code",
   "execution_count": 5,
   "metadata": {
    "execution": {
     "iopub.execute_input": "2021-03-09T18:48:29.656100Z",
     "iopub.status.busy": "2021-03-09T18:48:29.655648Z",
     "iopub.status.idle": "2021-03-09T18:48:29.811361Z",
     "shell.execute_reply": "2021-03-09T18:48:29.810887Z"
    }
   },
   "outputs": [],
   "source": [
    "r = requests.post(dataUrl, data= {\n",
    "    \"sheet_id\": tableauData[\"sheetId\"],\n",
    "})\n",
    "\n",
    "dataReg = re.search('\\d+;({.*})\\d+;({.*})', r.text, re.MULTILINE)\n",
    "data1 = json.loads(dataReg.group(2))\n",
    "\n",
    "dataJson = data1[\"secondaryInfo\"][\"presModelMap\"][\"dataDictionary\"][\"presModelHolder\"][\"genDataDictionaryPresModel\"][\"dataSegments\"][\"0\"][\"dataColumns\"]"
   ]
  },
  {
   "cell_type": "markdown",
   "metadata": {},
   "source": [
    "Isolate what you want"
   ]
  },
  {
   "cell_type": "code",
   "execution_count": 6,
   "metadata": {
    "execution": {
     "iopub.execute_input": "2021-03-09T18:48:29.815733Z",
     "iopub.status.busy": "2021-03-09T18:48:29.814648Z",
     "iopub.status.idle": "2021-03-09T18:48:29.816257Z",
     "shell.execute_reply": "2021-03-09T18:48:29.816623Z"
    }
   },
   "outputs": [],
   "source": [
    "counties = dataJson[2]['dataValues'][:58]"
   ]
  },
  {
   "cell_type": "code",
   "execution_count": 7,
   "metadata": {
    "execution": {
     "iopub.execute_input": "2021-03-09T18:48:29.820508Z",
     "iopub.status.busy": "2021-03-09T18:48:29.819614Z",
     "iopub.status.idle": "2021-03-09T18:48:29.821118Z",
     "shell.execute_reply": "2021-03-09T18:48:29.821483Z"
    }
   },
   "outputs": [],
   "source": [
    "doses = dataJson[0]['dataValues'][3:61]"
   ]
  },
  {
   "cell_type": "markdown",
   "metadata": {},
   "source": [
    "Data formatting"
   ]
  },
  {
   "cell_type": "code",
   "execution_count": 8,
   "metadata": {
    "execution": {
     "iopub.execute_input": "2021-03-09T18:48:29.824962Z",
     "iopub.status.busy": "2021-03-09T18:48:29.824191Z",
     "iopub.status.idle": "2021-03-09T18:48:29.826060Z",
     "shell.execute_reply": "2021-03-09T18:48:29.825693Z"
    }
   },
   "outputs": [],
   "source": [
    "zipped = dict(zip(counties, doses))"
   ]
  },
  {
   "cell_type": "code",
   "execution_count": 9,
   "metadata": {
    "execution": {
     "iopub.execute_input": "2021-03-09T18:48:29.831588Z",
     "iopub.status.busy": "2021-03-09T18:48:29.830705Z",
     "iopub.status.idle": "2021-03-09T18:48:29.832272Z",
     "shell.execute_reply": "2021-03-09T18:48:29.832636Z"
    }
   },
   "outputs": [],
   "source": [
    "df = pd.Series(zipped).reset_index()"
   ]
  },
  {
   "cell_type": "code",
   "execution_count": 10,
   "metadata": {
    "execution": {
     "iopub.execute_input": "2021-03-09T18:48:29.836151Z",
     "iopub.status.busy": "2021-03-09T18:48:29.835367Z",
     "iopub.status.idle": "2021-03-09T18:48:29.837378Z",
     "shell.execute_reply": "2021-03-09T18:48:29.837012Z"
    }
   },
   "outputs": [],
   "source": [
    "df.columns = ['location','doses']"
   ]
  },
  {
   "cell_type": "markdown",
   "metadata": {},
   "source": [
    "Grab the overall California total"
   ]
  },
  {
   "cell_type": "code",
   "execution_count": 11,
   "metadata": {
    "execution": {
     "iopub.execute_input": "2021-03-09T18:48:29.840816Z",
     "iopub.status.busy": "2021-03-09T18:48:29.840031Z",
     "iopub.status.idle": "2021-03-09T18:48:29.841925Z",
     "shell.execute_reply": "2021-03-09T18:48:29.841545Z"
    }
   },
   "outputs": [],
   "source": [
    "add = {'location':'California','doses':dataJson[0]['dataValues'][2]}"
   ]
  },
  {
   "cell_type": "code",
   "execution_count": 12,
   "metadata": {
    "execution": {
     "iopub.execute_input": "2021-03-09T18:48:29.847925Z",
     "iopub.status.busy": "2021-03-09T18:48:29.847128Z",
     "iopub.status.idle": "2021-03-09T18:48:29.848751Z",
     "shell.execute_reply": "2021-03-09T18:48:29.849118Z"
    }
   },
   "outputs": [],
   "source": [
    "df = df.append(add, ignore_index=True)"
   ]
  },
  {
   "cell_type": "code",
   "execution_count": 13,
   "metadata": {
    "execution": {
     "iopub.execute_input": "2021-03-09T18:48:29.853159Z",
     "iopub.status.busy": "2021-03-09T18:48:29.852385Z",
     "iopub.status.idle": "2021-03-09T18:48:29.854275Z",
     "shell.execute_reply": "2021-03-09T18:48:29.853890Z"
    }
   },
   "outputs": [],
   "source": [
    "df = df.sort_values(by='location')"
   ]
  },
  {
   "cell_type": "code",
   "execution_count": 14,
   "metadata": {
    "execution": {
     "iopub.execute_input": "2021-03-09T18:48:29.859617Z",
     "iopub.status.busy": "2021-03-09T18:48:29.858818Z",
     "iopub.status.idle": "2021-03-09T18:48:29.860421Z",
     "shell.execute_reply": "2021-03-09T18:48:29.860791Z"
    }
   },
   "outputs": [],
   "source": [
    "df = df[df.location == 'California'].append(df[df.location != 'California']).reset_index(drop=True)"
   ]
  },
  {
   "cell_type": "code",
   "execution_count": null,
   "metadata": {},
   "outputs": [],
   "source": []
  },
  {
   "cell_type": "code",
   "execution_count": 15,
   "metadata": {
    "execution": {
     "iopub.execute_input": "2021-03-09T18:48:29.863607Z",
     "iopub.status.busy": "2021-03-09T18:48:29.863174Z",
     "iopub.status.idle": "2021-03-09T18:48:29.878921Z",
     "shell.execute_reply": "2021-03-09T18:48:29.878480Z"
    }
   },
   "outputs": [],
   "source": [
    "tz = pytz.timezone(\"America/New_York\")"
   ]
  },
  {
   "cell_type": "code",
   "execution_count": 16,
   "metadata": {
    "execution": {
     "iopub.execute_input": "2021-03-09T18:48:29.882604Z",
     "iopub.status.busy": "2021-03-09T18:48:29.881663Z",
     "iopub.status.idle": "2021-03-09T18:48:29.883632Z",
     "shell.execute_reply": "2021-03-09T18:48:29.883254Z"
    }
   },
   "outputs": [],
   "source": [
    "today = datetime.now(tz).date()"
   ]
  },
  {
   "cell_type": "code",
   "execution_count": 17,
   "metadata": {
    "execution": {
     "iopub.execute_input": "2021-03-09T18:48:29.887349Z",
     "iopub.status.busy": "2021-03-09T18:48:29.886441Z",
     "iopub.status.idle": "2021-03-09T18:48:29.887956Z",
     "shell.execute_reply": "2021-03-09T18:48:29.888320Z"
    }
   },
   "outputs": [],
   "source": [
    "data_dir = os.path.join(os.path.abspath(\"\"), \"data\")"
   ]
  },
  {
   "cell_type": "code",
   "execution_count": 18,
   "metadata": {
    "execution": {
     "iopub.execute_input": "2021-03-09T18:48:29.892233Z",
     "iopub.status.busy": "2021-03-09T18:48:29.891117Z",
     "iopub.status.idle": "2021-03-09T18:48:29.895258Z",
     "shell.execute_reply": "2021-03-09T18:48:29.894892Z"
    }
   },
   "outputs": [],
   "source": [
    "df.to_csv(os.path.join(data_dir, f\"{today}.csv\"), index=False)"
   ]
  },
  {
   "cell_type": "code",
   "execution_count": null,
   "metadata": {},
   "outputs": [],
   "source": []
  }
 ],
 "metadata": {
  "kernelspec": {
   "display_name": "Python 3",
   "language": "python",
   "name": "python3"
  },
  "language_info": {
   "codemirror_mode": {
    "name": "ipython",
    "version": 3
   },
   "file_extension": ".py",
   "mimetype": "text/x-python",
   "name": "python",
   "nbconvert_exporter": "python",
   "pygments_lexer": "ipython3",
   "version": "3.8.8"
  }
 },
 "nbformat": 4,
 "nbformat_minor": 4
}
