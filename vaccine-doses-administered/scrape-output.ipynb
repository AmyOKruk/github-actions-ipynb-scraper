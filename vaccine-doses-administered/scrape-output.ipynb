{
 "cells": [
  {
   "cell_type": "markdown",
   "metadata": {},
   "source": [
    "# California COVID vaccinations scrape"
   ]
  },
  {
   "cell_type": "markdown",
   "metadata": {},
   "source": [
    "By [Amy O'Kruk](https://twitter.com/amyokruk)"
   ]
  },
  {
   "cell_type": "markdown",
   "metadata": {},
   "source": [
    "Downloads data on vaccine doses administered by county and statewide from a Tableau-powered dashboard from the California Department of Public Health."
   ]
  },
  {
   "cell_type": "code",
   "execution_count": 1,
   "metadata": {
    "execution": {
     "iopub.execute_input": "2021-03-20T06:13:56.848304Z",
     "iopub.status.busy": "2021-03-20T06:13:56.847746Z",
     "iopub.status.idle": "2021-03-20T06:13:57.318149Z",
     "shell.execute_reply": "2021-03-20T06:13:57.317285Z"
    }
   },
   "outputs": [],
   "source": [
    "import pandas as pd\n",
    "import requests\n",
    "from bs4 import BeautifulSoup\n",
    "import json\n",
    "import re\n",
    "import time\n",
    "from time import gmtime, strftime \n",
    "import os\n",
    "import pytz\n",
    "from datetime import datetime"
   ]
  },
  {
   "cell_type": "markdown",
   "metadata": {},
   "source": [
    "Scrape the dashboard page"
   ]
  },
  {
   "cell_type": "code",
   "execution_count": 2,
   "metadata": {
    "execution": {
     "iopub.execute_input": "2021-03-20T06:13:57.324860Z",
     "iopub.status.busy": "2021-03-20T06:13:57.321561Z",
     "iopub.status.idle": "2021-03-20T06:13:57.647972Z",
     "shell.execute_reply": "2021-03-20T06:13:57.647424Z"
    }
   },
   "outputs": [],
   "source": [
    "url = \"https://public.tableau.com/interactive/views/COVID-19VaccineDashboardPublic/Vaccine?:embed=y&:showVizHome=n&:apiID=host0\"\n",
    "\n",
    "r = requests.get(url)\n",
    "soup = BeautifulSoup(r.text, \"html.parser\")"
   ]
  },
  {
   "cell_type": "code",
   "execution_count": 3,
   "metadata": {
    "execution": {
     "iopub.execute_input": "2021-03-20T06:13:57.653334Z",
     "iopub.status.busy": "2021-03-20T06:13:57.652803Z",
     "iopub.status.idle": "2021-03-20T06:13:57.656571Z",
     "shell.execute_reply": "2021-03-20T06:13:57.656058Z"
    }
   },
   "outputs": [],
   "source": [
    "tableauData = json.loads(soup.find(\"textarea\",{\"id\": \"tsConfigContainer\"}).text)"
   ]
  },
  {
   "cell_type": "markdown",
   "metadata": {},
   "source": [
    "Get the link to the Tableau data"
   ]
  },
  {
   "cell_type": "code",
   "execution_count": 4,
   "metadata": {
    "execution": {
     "iopub.execute_input": "2021-03-20T06:13:57.660180Z",
     "iopub.status.busy": "2021-03-20T06:13:57.659632Z",
     "iopub.status.idle": "2021-03-20T06:13:57.662869Z",
     "shell.execute_reply": "2021-03-20T06:13:57.663295Z"
    }
   },
   "outputs": [],
   "source": [
    "dataUrl = f'https://public.tableau.com{tableauData[\"vizql_root\"]}/bootstrapSession/sessions/{tableauData[\"sessionid\"]}'"
   ]
  },
  {
   "cell_type": "code",
   "execution_count": 5,
   "metadata": {
    "execution": {
     "iopub.execute_input": "2021-03-20T06:13:57.670311Z",
     "iopub.status.busy": "2021-03-20T06:13:57.669693Z",
     "iopub.status.idle": "2021-03-20T06:13:57.796236Z",
     "shell.execute_reply": "2021-03-20T06:13:57.795775Z"
    }
   },
   "outputs": [],
   "source": [
    "r = requests.post(dataUrl, data= {\n",
    "    \"sheet_id\": tableauData[\"sheetId\"],\n",
    "})\n",
    "\n",
    "dataReg = re.search('\\d+;({.*})\\d+;({.*})', r.text, re.MULTILINE)\n",
    "data1 = json.loads(dataReg.group(2))\n",
    "\n",
    "dataJson = data1[\"secondaryInfo\"][\"presModelMap\"][\"dataDictionary\"][\"presModelHolder\"][\"genDataDictionaryPresModel\"][\"dataSegments\"][\"0\"][\"dataColumns\"]"
   ]
  },
  {
   "cell_type": "markdown",
   "metadata": {},
   "source": [
    "Isolate what you want"
   ]
  },
  {
   "cell_type": "code",
   "execution_count": 6,
   "metadata": {
    "execution": {
     "iopub.execute_input": "2021-03-20T06:13:57.799848Z",
     "iopub.status.busy": "2021-03-20T06:13:57.799337Z",
     "iopub.status.idle": "2021-03-20T06:13:57.803112Z",
     "shell.execute_reply": "2021-03-20T06:13:57.802636Z"
    }
   },
   "outputs": [],
   "source": [
    "counties = dataJson[2]['dataValues'][:58]"
   ]
  },
  {
   "cell_type": "code",
   "execution_count": 7,
   "metadata": {
    "execution": {
     "iopub.execute_input": "2021-03-20T06:13:57.806988Z",
     "iopub.status.busy": "2021-03-20T06:13:57.806430Z",
     "iopub.status.idle": "2021-03-20T06:13:57.809978Z",
     "shell.execute_reply": "2021-03-20T06:13:57.810507Z"
    }
   },
   "outputs": [],
   "source": [
    "doses = dataJson[0]['dataValues'][3:61]"
   ]
  },
  {
   "cell_type": "markdown",
   "metadata": {},
   "source": [
    "Data formatting"
   ]
  },
  {
   "cell_type": "code",
   "execution_count": 8,
   "metadata": {
    "execution": {
     "iopub.execute_input": "2021-03-20T06:13:57.814109Z",
     "iopub.status.busy": "2021-03-20T06:13:57.813606Z",
     "iopub.status.idle": "2021-03-20T06:13:57.817218Z",
     "shell.execute_reply": "2021-03-20T06:13:57.816779Z"
    }
   },
   "outputs": [],
   "source": [
    "zipped = dict(zip(counties, doses))"
   ]
  },
  {
   "cell_type": "code",
   "execution_count": 9,
   "metadata": {
    "execution": {
     "iopub.execute_input": "2021-03-20T06:13:57.823112Z",
     "iopub.status.busy": "2021-03-20T06:13:57.822469Z",
     "iopub.status.idle": "2021-03-20T06:13:57.826688Z",
     "shell.execute_reply": "2021-03-20T06:13:57.826136Z"
    }
   },
   "outputs": [],
   "source": [
    "df = pd.Series(zipped).reset_index()"
   ]
  },
  {
   "cell_type": "code",
   "execution_count": 10,
   "metadata": {
    "execution": {
     "iopub.execute_input": "2021-03-20T06:13:57.830302Z",
     "iopub.status.busy": "2021-03-20T06:13:57.829791Z",
     "iopub.status.idle": "2021-03-20T06:13:57.833431Z",
     "shell.execute_reply": "2021-03-20T06:13:57.832951Z"
    }
   },
   "outputs": [],
   "source": [
    "df.columns = ['location','doses']"
   ]
  },
  {
   "cell_type": "markdown",
   "metadata": {},
   "source": [
    "Grab the overall California total"
   ]
  },
  {
   "cell_type": "code",
   "execution_count": 11,
   "metadata": {
    "execution": {
     "iopub.execute_input": "2021-03-20T06:13:57.837135Z",
     "iopub.status.busy": "2021-03-20T06:13:57.836526Z",
     "iopub.status.idle": "2021-03-20T06:13:57.840623Z",
     "shell.execute_reply": "2021-03-20T06:13:57.840114Z"
    }
   },
   "outputs": [],
   "source": [
    "add = {'location':'California','doses':dataJson[0]['dataValues'][2]}"
   ]
  },
  {
   "cell_type": "code",
   "execution_count": 12,
   "metadata": {
    "execution": {
     "iopub.execute_input": "2021-03-20T06:13:57.847546Z",
     "iopub.status.busy": "2021-03-20T06:13:57.846890Z",
     "iopub.status.idle": "2021-03-20T06:13:57.851054Z",
     "shell.execute_reply": "2021-03-20T06:13:57.850542Z"
    }
   },
   "outputs": [],
   "source": [
    "df = df.append(add, ignore_index=True)"
   ]
  },
  {
   "cell_type": "code",
   "execution_count": 13,
   "metadata": {
    "execution": {
     "iopub.execute_input": "2021-03-20T06:13:57.855962Z",
     "iopub.status.busy": "2021-03-20T06:13:57.855263Z",
     "iopub.status.idle": "2021-03-20T06:13:57.858831Z",
     "shell.execute_reply": "2021-03-20T06:13:57.859267Z"
    }
   },
   "outputs": [],
   "source": [
    "df = df.sort_values(by='location')"
   ]
  },
  {
   "cell_type": "code",
   "execution_count": 14,
   "metadata": {
    "execution": {
     "iopub.execute_input": "2021-03-20T06:13:57.864924Z",
     "iopub.status.busy": "2021-03-20T06:13:57.864397Z",
     "iopub.status.idle": "2021-03-20T06:13:57.867710Z",
     "shell.execute_reply": "2021-03-20T06:13:57.868260Z"
    }
   },
   "outputs": [],
   "source": [
    "df = df[df.location == 'California'].append(df[df.location != 'California']).reset_index(drop=True)"
   ]
  },
  {
   "cell_type": "code",
   "execution_count": null,
   "metadata": {},
   "outputs": [],
   "source": []
  },
  {
   "cell_type": "code",
   "execution_count": 15,
   "metadata": {
    "execution": {
     "iopub.execute_input": "2021-03-20T06:13:57.872545Z",
     "iopub.status.busy": "2021-03-20T06:13:57.871866Z",
     "iopub.status.idle": "2021-03-20T06:13:57.891292Z",
     "shell.execute_reply": "2021-03-20T06:13:57.890795Z"
    }
   },
   "outputs": [],
   "source": [
    "tz = pytz.timezone(\"America/New_York\")"
   ]
  },
  {
   "cell_type": "code",
   "execution_count": 16,
   "metadata": {
    "execution": {
     "iopub.execute_input": "2021-03-20T06:13:57.895139Z",
     "iopub.status.busy": "2021-03-20T06:13:57.894504Z",
     "iopub.status.idle": "2021-03-20T06:13:57.897917Z",
     "shell.execute_reply": "2021-03-20T06:13:57.898485Z"
    }
   },
   "outputs": [],
   "source": [
    "today = datetime.now(tz).date()"
   ]
  },
  {
   "cell_type": "code",
   "execution_count": 17,
   "metadata": {
    "execution": {
     "iopub.execute_input": "2021-03-20T06:13:57.902891Z",
     "iopub.status.busy": "2021-03-20T06:13:57.902201Z",
     "iopub.status.idle": "2021-03-20T06:13:57.905676Z",
     "shell.execute_reply": "2021-03-20T06:13:57.906169Z"
    }
   },
   "outputs": [],
   "source": [
    "data_dir = os.path.join(os.path.abspath(\"\"), \"data\")"
   ]
  },
  {
   "cell_type": "code",
   "execution_count": 18,
   "metadata": {
    "execution": {
     "iopub.execute_input": "2021-03-20T06:13:57.910428Z",
     "iopub.status.busy": "2021-03-20T06:13:57.909866Z",
     "iopub.status.idle": "2021-03-20T06:13:57.915349Z",
     "shell.execute_reply": "2021-03-20T06:13:57.915849Z"
    }
   },
   "outputs": [],
   "source": [
    "df.to_csv(os.path.join(data_dir, f\"{today}.csv\"), index=False)"
   ]
  },
  {
   "cell_type": "code",
   "execution_count": null,
   "metadata": {},
   "outputs": [],
   "source": []
  }
 ],
 "metadata": {
  "kernelspec": {
   "display_name": "Python 3",
   "language": "python",
   "name": "python3"
  },
  "language_info": {
   "codemirror_mode": {
    "name": "ipython",
    "version": 3
   },
   "file_extension": ".py",
   "mimetype": "text/x-python",
   "name": "python",
   "nbconvert_exporter": "python",
   "pygments_lexer": "ipython3",
   "version": "3.8.8"
  }
 },
 "nbformat": 4,
 "nbformat_minor": 4
}
