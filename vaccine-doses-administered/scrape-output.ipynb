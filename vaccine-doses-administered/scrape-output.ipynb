{
 "cells": [
  {
   "cell_type": "markdown",
   "metadata": {},
   "source": [
    "# California COVID vaccinations scrape"
   ]
  },
  {
   "cell_type": "markdown",
   "metadata": {},
   "source": [
    "By [Amy O'Kruk](https://twitter.com/amyokruk)"
   ]
  },
  {
   "cell_type": "markdown",
   "metadata": {},
   "source": [
    "Downloads data on vaccine doses administered by county and statewide from a Tableau-powered dashboard from the California Department of Public Health."
   ]
  },
  {
   "cell_type": "code",
   "execution_count": 1,
   "metadata": {
    "execution": {
     "iopub.execute_input": "2021-03-19T08:16:47.051220Z",
     "iopub.status.busy": "2021-03-19T08:16:47.050495Z",
     "iopub.status.idle": "2021-03-19T08:16:47.619817Z",
     "shell.execute_reply": "2021-03-19T08:16:47.619191Z"
    }
   },
   "outputs": [],
   "source": [
    "import pandas as pd\n",
    "import requests\n",
    "from bs4 import BeautifulSoup\n",
    "import json\n",
    "import re\n",
    "import time\n",
    "from time import gmtime, strftime \n",
    "import os\n",
    "import pytz\n",
    "from datetime import datetime"
   ]
  },
  {
   "cell_type": "markdown",
   "metadata": {},
   "source": [
    "Scrape the dashboard page"
   ]
  },
  {
   "cell_type": "code",
   "execution_count": 2,
   "metadata": {
    "execution": {
     "iopub.execute_input": "2021-03-19T08:16:47.624393Z",
     "iopub.status.busy": "2021-03-19T08:16:47.623693Z",
     "iopub.status.idle": "2021-03-19T08:16:48.083513Z",
     "shell.execute_reply": "2021-03-19T08:16:48.083041Z"
    }
   },
   "outputs": [],
   "source": [
    "url = \"https://public.tableau.com/interactive/views/COVID-19VaccineDashboardPublic/Vaccine?:embed=y&:showVizHome=n&:apiID=host0\"\n",
    "\n",
    "r = requests.get(url)\n",
    "soup = BeautifulSoup(r.text, \"html.parser\")"
   ]
  },
  {
   "cell_type": "code",
   "execution_count": 3,
   "metadata": {
    "execution": {
     "iopub.execute_input": "2021-03-19T08:16:48.089392Z",
     "iopub.status.busy": "2021-03-19T08:16:48.088357Z",
     "iopub.status.idle": "2021-03-19T08:16:48.090899Z",
     "shell.execute_reply": "2021-03-19T08:16:48.090406Z"
    }
   },
   "outputs": [],
   "source": [
    "tableauData = json.loads(soup.find(\"textarea\",{\"id\": \"tsConfigContainer\"}).text)"
   ]
  },
  {
   "cell_type": "markdown",
   "metadata": {},
   "source": [
    "Get the link to the Tableau data"
   ]
  },
  {
   "cell_type": "code",
   "execution_count": 4,
   "metadata": {
    "execution": {
     "iopub.execute_input": "2021-03-19T08:16:48.095730Z",
     "iopub.status.busy": "2021-03-19T08:16:48.094419Z",
     "iopub.status.idle": "2021-03-19T08:16:48.096695Z",
     "shell.execute_reply": "2021-03-19T08:16:48.097157Z"
    }
   },
   "outputs": [],
   "source": [
    "dataUrl = f'https://public.tableau.com{tableauData[\"vizql_root\"]}/bootstrapSession/sessions/{tableauData[\"sessionid\"]}'"
   ]
  },
  {
   "cell_type": "code",
   "execution_count": 5,
   "metadata": {
    "execution": {
     "iopub.execute_input": "2021-03-19T08:16:48.105026Z",
     "iopub.status.busy": "2021-03-19T08:16:48.104358Z",
     "iopub.status.idle": "2021-03-19T08:16:48.345687Z",
     "shell.execute_reply": "2021-03-19T08:16:48.345124Z"
    }
   },
   "outputs": [],
   "source": [
    "r = requests.post(dataUrl, data= {\n",
    "    \"sheet_id\": tableauData[\"sheetId\"],\n",
    "})\n",
    "\n",
    "dataReg = re.search('\\d+;({.*})\\d+;({.*})', r.text, re.MULTILINE)\n",
    "data1 = json.loads(dataReg.group(2))\n",
    "\n",
    "dataJson = data1[\"secondaryInfo\"][\"presModelMap\"][\"dataDictionary\"][\"presModelHolder\"][\"genDataDictionaryPresModel\"][\"dataSegments\"][\"0\"][\"dataColumns\"]"
   ]
  },
  {
   "cell_type": "markdown",
   "metadata": {},
   "source": [
    "Isolate what you want"
   ]
  },
  {
   "cell_type": "code",
   "execution_count": 6,
   "metadata": {
    "execution": {
     "iopub.execute_input": "2021-03-19T08:16:48.351507Z",
     "iopub.status.busy": "2021-03-19T08:16:48.350053Z",
     "iopub.status.idle": "2021-03-19T08:16:48.352114Z",
     "shell.execute_reply": "2021-03-19T08:16:48.352611Z"
    }
   },
   "outputs": [],
   "source": [
    "counties = dataJson[2]['dataValues'][:58]"
   ]
  },
  {
   "cell_type": "code",
   "execution_count": 7,
   "metadata": {
    "execution": {
     "iopub.execute_input": "2021-03-19T08:16:48.357649Z",
     "iopub.status.busy": "2021-03-19T08:16:48.356225Z",
     "iopub.status.idle": "2021-03-19T08:16:48.358323Z",
     "shell.execute_reply": "2021-03-19T08:16:48.358788Z"
    }
   },
   "outputs": [],
   "source": [
    "doses = dataJson[0]['dataValues'][3:61]"
   ]
  },
  {
   "cell_type": "markdown",
   "metadata": {},
   "source": [
    "Data formatting"
   ]
  },
  {
   "cell_type": "code",
   "execution_count": 8,
   "metadata": {
    "execution": {
     "iopub.execute_input": "2021-03-19T08:16:48.363883Z",
     "iopub.status.busy": "2021-03-19T08:16:48.362532Z",
     "iopub.status.idle": "2021-03-19T08:16:48.364532Z",
     "shell.execute_reply": "2021-03-19T08:16:48.365148Z"
    }
   },
   "outputs": [],
   "source": [
    "zipped = dict(zip(counties, doses))"
   ]
  },
  {
   "cell_type": "code",
   "execution_count": 9,
   "metadata": {
    "execution": {
     "iopub.execute_input": "2021-03-19T08:16:48.372282Z",
     "iopub.status.busy": "2021-03-19T08:16:48.370926Z",
     "iopub.status.idle": "2021-03-19T08:16:48.373013Z",
     "shell.execute_reply": "2021-03-19T08:16:48.373615Z"
    }
   },
   "outputs": [],
   "source": [
    "df = pd.Series(zipped).reset_index()"
   ]
  },
  {
   "cell_type": "code",
   "execution_count": 10,
   "metadata": {
    "execution": {
     "iopub.execute_input": "2021-03-19T08:16:48.378902Z",
     "iopub.status.busy": "2021-03-19T08:16:48.377442Z",
     "iopub.status.idle": "2021-03-19T08:16:48.379632Z",
     "shell.execute_reply": "2021-03-19T08:16:48.380104Z"
    }
   },
   "outputs": [],
   "source": [
    "df.columns = ['location','doses']"
   ]
  },
  {
   "cell_type": "markdown",
   "metadata": {},
   "source": [
    "Grab the overall California total"
   ]
  },
  {
   "cell_type": "code",
   "execution_count": 11,
   "metadata": {
    "execution": {
     "iopub.execute_input": "2021-03-19T08:16:48.385277Z",
     "iopub.status.busy": "2021-03-19T08:16:48.384006Z",
     "iopub.status.idle": "2021-03-19T08:16:48.385938Z",
     "shell.execute_reply": "2021-03-19T08:16:48.386400Z"
    }
   },
   "outputs": [],
   "source": [
    "add = {'location':'California','doses':dataJson[0]['dataValues'][2]}"
   ]
  },
  {
   "cell_type": "code",
   "execution_count": 12,
   "metadata": {
    "execution": {
     "iopub.execute_input": "2021-03-19T08:16:48.395077Z",
     "iopub.status.busy": "2021-03-19T08:16:48.393660Z",
     "iopub.status.idle": "2021-03-19T08:16:48.395777Z",
     "shell.execute_reply": "2021-03-19T08:16:48.396604Z"
    }
   },
   "outputs": [],
   "source": [
    "df = df.append(add, ignore_index=True)"
   ]
  },
  {
   "cell_type": "code",
   "execution_count": 13,
   "metadata": {
    "execution": {
     "iopub.execute_input": "2021-03-19T08:16:48.403288Z",
     "iopub.status.busy": "2021-03-19T08:16:48.401914Z",
     "iopub.status.idle": "2021-03-19T08:16:48.403921Z",
     "shell.execute_reply": "2021-03-19T08:16:48.404437Z"
    }
   },
   "outputs": [],
   "source": [
    "df = df.sort_values(by='location')"
   ]
  },
  {
   "cell_type": "code",
   "execution_count": 14,
   "metadata": {
    "execution": {
     "iopub.execute_input": "2021-03-19T08:16:48.412646Z",
     "iopub.status.busy": "2021-03-19T08:16:48.411116Z",
     "iopub.status.idle": "2021-03-19T08:16:48.413321Z",
     "shell.execute_reply": "2021-03-19T08:16:48.413855Z"
    }
   },
   "outputs": [],
   "source": [
    "df = df[df.location == 'California'].append(df[df.location != 'California']).reset_index(drop=True)"
   ]
  },
  {
   "cell_type": "code",
   "execution_count": null,
   "metadata": {},
   "outputs": [],
   "source": []
  },
  {
   "cell_type": "code",
   "execution_count": 15,
   "metadata": {
    "execution": {
     "iopub.execute_input": "2021-03-19T08:16:48.417952Z",
     "iopub.status.busy": "2021-03-19T08:16:48.417394Z",
     "iopub.status.idle": "2021-03-19T08:16:48.438789Z",
     "shell.execute_reply": "2021-03-19T08:16:48.438280Z"
    }
   },
   "outputs": [],
   "source": [
    "tz = pytz.timezone(\"America/New_York\")"
   ]
  },
  {
   "cell_type": "code",
   "execution_count": 16,
   "metadata": {
    "execution": {
     "iopub.execute_input": "2021-03-19T08:16:48.444193Z",
     "iopub.status.busy": "2021-03-19T08:16:48.442492Z",
     "iopub.status.idle": "2021-03-19T08:16:48.444915Z",
     "shell.execute_reply": "2021-03-19T08:16:48.445526Z"
    }
   },
   "outputs": [],
   "source": [
    "today = datetime.now(tz).date()"
   ]
  },
  {
   "cell_type": "code",
   "execution_count": 17,
   "metadata": {
    "execution": {
     "iopub.execute_input": "2021-03-19T08:16:48.450875Z",
     "iopub.status.busy": "2021-03-19T08:16:48.449298Z",
     "iopub.status.idle": "2021-03-19T08:16:48.451650Z",
     "shell.execute_reply": "2021-03-19T08:16:48.452210Z"
    }
   },
   "outputs": [],
   "source": [
    "data_dir = os.path.join(os.path.abspath(\"\"), \"data\")"
   ]
  },
  {
   "cell_type": "code",
   "execution_count": 18,
   "metadata": {
    "execution": {
     "iopub.execute_input": "2021-03-19T08:16:48.456918Z",
     "iopub.status.busy": "2021-03-19T08:16:48.456140Z",
     "iopub.status.idle": "2021-03-19T08:16:48.461889Z",
     "shell.execute_reply": "2021-03-19T08:16:48.462392Z"
    }
   },
   "outputs": [],
   "source": [
    "df.to_csv(os.path.join(data_dir, f\"{today}.csv\"), index=False)"
   ]
  },
  {
   "cell_type": "code",
   "execution_count": null,
   "metadata": {},
   "outputs": [],
   "source": []
  }
 ],
 "metadata": {
  "kernelspec": {
   "display_name": "Python 3",
   "language": "python",
   "name": "python3"
  },
  "language_info": {
   "codemirror_mode": {
    "name": "ipython",
    "version": 3
   },
   "file_extension": ".py",
   "mimetype": "text/x-python",
   "name": "python",
   "nbconvert_exporter": "python",
   "pygments_lexer": "ipython3",
   "version": "3.8.8"
  }
 },
 "nbformat": 4,
 "nbformat_minor": 4
}
