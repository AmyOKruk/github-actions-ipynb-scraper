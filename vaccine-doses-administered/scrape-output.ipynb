{
 "cells": [
  {
   "cell_type": "markdown",
   "metadata": {},
   "source": [
    "# California COVID vaccinations scrape"
   ]
  },
  {
   "cell_type": "markdown",
   "metadata": {},
   "source": [
    "By [Amy O'Kruk](https://twitter.com/amyokruk)"
   ]
  },
  {
   "cell_type": "markdown",
   "metadata": {},
   "source": [
    "Downloads data on vaccine doses administered by county and statewide from a Tableau-powered dashboard from the California Department of Public Health."
   ]
  },
  {
   "cell_type": "code",
   "execution_count": 1,
   "metadata": {
    "execution": {
     "iopub.execute_input": "2021-03-23T01:32:15.000084Z",
     "iopub.status.busy": "2021-03-23T01:32:14.999388Z",
     "iopub.status.idle": "2021-03-23T01:32:15.401895Z",
     "shell.execute_reply": "2021-03-23T01:32:15.401283Z"
    }
   },
   "outputs": [],
   "source": [
    "import pandas as pd\n",
    "import requests\n",
    "from bs4 import BeautifulSoup\n",
    "import json\n",
    "import re\n",
    "import time\n",
    "from time import gmtime, strftime \n",
    "import os\n",
    "import pytz\n",
    "from datetime import datetime"
   ]
  },
  {
   "cell_type": "markdown",
   "metadata": {},
   "source": [
    "Scrape the dashboard page"
   ]
  },
  {
   "cell_type": "code",
   "execution_count": 2,
   "metadata": {
    "execution": {
     "iopub.execute_input": "2021-03-23T01:32:15.407958Z",
     "iopub.status.busy": "2021-03-23T01:32:15.405629Z",
     "iopub.status.idle": "2021-03-23T01:32:15.711126Z",
     "shell.execute_reply": "2021-03-23T01:32:15.710607Z"
    }
   },
   "outputs": [],
   "source": [
    "url = \"https://public.tableau.com/interactive/views/COVID-19VaccineDashboardPublic/Vaccine?:embed=y&:showVizHome=n&:apiID=host0\"\n",
    "\n",
    "r = requests.get(url)\n",
    "soup = BeautifulSoup(r.text, \"html.parser\")"
   ]
  },
  {
   "cell_type": "code",
   "execution_count": 3,
   "metadata": {
    "execution": {
     "iopub.execute_input": "2021-03-23T01:32:15.715793Z",
     "iopub.status.busy": "2021-03-23T01:32:15.715161Z",
     "iopub.status.idle": "2021-03-23T01:32:15.719076Z",
     "shell.execute_reply": "2021-03-23T01:32:15.718581Z"
    }
   },
   "outputs": [],
   "source": [
    "tableauData = json.loads(soup.find(\"textarea\",{\"id\": \"tsConfigContainer\"}).text)"
   ]
  },
  {
   "cell_type": "markdown",
   "metadata": {},
   "source": [
    "Get the link to the Tableau data"
   ]
  },
  {
   "cell_type": "code",
   "execution_count": 4,
   "metadata": {
    "execution": {
     "iopub.execute_input": "2021-03-23T01:32:15.724740Z",
     "iopub.status.busy": "2021-03-23T01:32:15.723282Z",
     "iopub.status.idle": "2021-03-23T01:32:15.725653Z",
     "shell.execute_reply": "2021-03-23T01:32:15.726145Z"
    }
   },
   "outputs": [],
   "source": [
    "dataUrl = f'https://public.tableau.com{tableauData[\"vizql_root\"]}/bootstrapSession/sessions/{tableauData[\"sessionid\"]}'"
   ]
  },
  {
   "cell_type": "code",
   "execution_count": 5,
   "metadata": {
    "execution": {
     "iopub.execute_input": "2021-03-23T01:32:15.735071Z",
     "iopub.status.busy": "2021-03-23T01:32:15.734465Z",
     "iopub.status.idle": "2021-03-23T01:32:16.419663Z",
     "shell.execute_reply": "2021-03-23T01:32:16.420136Z"
    }
   },
   "outputs": [],
   "source": [
    "r = requests.post(dataUrl, data= {\n",
    "    \"sheet_id\": tableauData[\"sheetId\"],\n",
    "})\n",
    "\n",
    "dataReg = re.search('\\d+;({.*})\\d+;({.*})', r.text, re.MULTILINE)\n",
    "data1 = json.loads(dataReg.group(2))\n",
    "\n",
    "dataJson = data1[\"secondaryInfo\"][\"presModelMap\"][\"dataDictionary\"][\"presModelHolder\"][\"genDataDictionaryPresModel\"][\"dataSegments\"][\"0\"][\"dataColumns\"]"
   ]
  },
  {
   "cell_type": "markdown",
   "metadata": {},
   "source": [
    "Isolate what you want"
   ]
  },
  {
   "cell_type": "code",
   "execution_count": 6,
   "metadata": {
    "execution": {
     "iopub.execute_input": "2021-03-23T01:32:16.425163Z",
     "iopub.status.busy": "2021-03-23T01:32:16.423763Z",
     "iopub.status.idle": "2021-03-23T01:32:16.425883Z",
     "shell.execute_reply": "2021-03-23T01:32:16.426389Z"
    }
   },
   "outputs": [],
   "source": [
    "counties = dataJson[2]['dataValues'][:58]"
   ]
  },
  {
   "cell_type": "code",
   "execution_count": 7,
   "metadata": {
    "execution": {
     "iopub.execute_input": "2021-03-23T01:32:16.431935Z",
     "iopub.status.busy": "2021-03-23T01:32:16.430485Z",
     "iopub.status.idle": "2021-03-23T01:32:16.432611Z",
     "shell.execute_reply": "2021-03-23T01:32:16.433119Z"
    }
   },
   "outputs": [],
   "source": [
    "doses = dataJson[0]['dataValues'][3:61]"
   ]
  },
  {
   "cell_type": "markdown",
   "metadata": {},
   "source": [
    "Data formatting"
   ]
  },
  {
   "cell_type": "code",
   "execution_count": 8,
   "metadata": {
    "execution": {
     "iopub.execute_input": "2021-03-23T01:32:16.438925Z",
     "iopub.status.busy": "2021-03-23T01:32:16.437901Z",
     "iopub.status.idle": "2021-03-23T01:32:16.439568Z",
     "shell.execute_reply": "2021-03-23T01:32:16.440062Z"
    }
   },
   "outputs": [],
   "source": [
    "zipped = dict(zip(counties, doses))"
   ]
  },
  {
   "cell_type": "code",
   "execution_count": 9,
   "metadata": {
    "execution": {
     "iopub.execute_input": "2021-03-23T01:32:16.447143Z",
     "iopub.status.busy": "2021-03-23T01:32:16.446562Z",
     "iopub.status.idle": "2021-03-23T01:32:16.450587Z",
     "shell.execute_reply": "2021-03-23T01:32:16.450096Z"
    }
   },
   "outputs": [],
   "source": [
    "df = pd.Series(zipped).reset_index()"
   ]
  },
  {
   "cell_type": "code",
   "execution_count": 10,
   "metadata": {
    "execution": {
     "iopub.execute_input": "2021-03-23T01:32:16.455429Z",
     "iopub.status.busy": "2021-03-23T01:32:16.454135Z",
     "iopub.status.idle": "2021-03-23T01:32:16.456068Z",
     "shell.execute_reply": "2021-03-23T01:32:16.456575Z"
    }
   },
   "outputs": [],
   "source": [
    "df.columns = ['location','doses']"
   ]
  },
  {
   "cell_type": "markdown",
   "metadata": {},
   "source": [
    "Grab the overall California total"
   ]
  },
  {
   "cell_type": "code",
   "execution_count": 11,
   "metadata": {
    "execution": {
     "iopub.execute_input": "2021-03-23T01:32:16.461471Z",
     "iopub.status.busy": "2021-03-23T01:32:16.460118Z",
     "iopub.status.idle": "2021-03-23T01:32:16.462110Z",
     "shell.execute_reply": "2021-03-23T01:32:16.462614Z"
    }
   },
   "outputs": [],
   "source": [
    "add = {'location':'California','doses':dataJson[0]['dataValues'][2]}"
   ]
  },
  {
   "cell_type": "code",
   "execution_count": 12,
   "metadata": {
    "execution": {
     "iopub.execute_input": "2021-03-23T01:32:16.470270Z",
     "iopub.status.busy": "2021-03-23T01:32:16.468956Z",
     "iopub.status.idle": "2021-03-23T01:32:16.470904Z",
     "shell.execute_reply": "2021-03-23T01:32:16.471392Z"
    }
   },
   "outputs": [],
   "source": [
    "df = df.append(add, ignore_index=True)"
   ]
  },
  {
   "cell_type": "code",
   "execution_count": 13,
   "metadata": {
    "execution": {
     "iopub.execute_input": "2021-03-23T01:32:16.476739Z",
     "iopub.status.busy": "2021-03-23T01:32:16.475417Z",
     "iopub.status.idle": "2021-03-23T01:32:16.477378Z",
     "shell.execute_reply": "2021-03-23T01:32:16.477898Z"
    }
   },
   "outputs": [],
   "source": [
    "df = df.sort_values(by='location')"
   ]
  },
  {
   "cell_type": "code",
   "execution_count": 14,
   "metadata": {
    "execution": {
     "iopub.execute_input": "2021-03-23T01:32:16.485086Z",
     "iopub.status.busy": "2021-03-23T01:32:16.483767Z",
     "iopub.status.idle": "2021-03-23T01:32:16.485723Z",
     "shell.execute_reply": "2021-03-23T01:32:16.486224Z"
    }
   },
   "outputs": [],
   "source": [
    "df = df[df.location == 'California'].append(df[df.location != 'California']).reset_index(drop=True)"
   ]
  },
  {
   "cell_type": "code",
   "execution_count": null,
   "metadata": {},
   "outputs": [],
   "source": []
  },
  {
   "cell_type": "code",
   "execution_count": 15,
   "metadata": {
    "execution": {
     "iopub.execute_input": "2021-03-23T01:32:16.493106Z",
     "iopub.status.busy": "2021-03-23T01:32:16.492478Z",
     "iopub.status.idle": "2021-03-23T01:32:16.513308Z",
     "shell.execute_reply": "2021-03-23T01:32:16.512783Z"
    }
   },
   "outputs": [],
   "source": [
    "tz = pytz.timezone(\"America/New_York\")"
   ]
  },
  {
   "cell_type": "code",
   "execution_count": 16,
   "metadata": {
    "execution": {
     "iopub.execute_input": "2021-03-23T01:32:16.518316Z",
     "iopub.status.busy": "2021-03-23T01:32:16.517010Z",
     "iopub.status.idle": "2021-03-23T01:32:16.518958Z",
     "shell.execute_reply": "2021-03-23T01:32:16.519451Z"
    }
   },
   "outputs": [],
   "source": [
    "today = datetime.now(tz).date()"
   ]
  },
  {
   "cell_type": "code",
   "execution_count": 17,
   "metadata": {
    "execution": {
     "iopub.execute_input": "2021-03-23T01:32:16.524715Z",
     "iopub.status.busy": "2021-03-23T01:32:16.523316Z",
     "iopub.status.idle": "2021-03-23T01:32:16.525358Z",
     "shell.execute_reply": "2021-03-23T01:32:16.525859Z"
    }
   },
   "outputs": [],
   "source": [
    "data_dir = os.path.join(os.path.abspath(\"\"), \"data\")"
   ]
  },
  {
   "cell_type": "code",
   "execution_count": 18,
   "metadata": {
    "execution": {
     "iopub.execute_input": "2021-03-23T01:32:16.530647Z",
     "iopub.status.busy": "2021-03-23T01:32:16.529275Z",
     "iopub.status.idle": "2021-03-23T01:32:16.535421Z",
     "shell.execute_reply": "2021-03-23T01:32:16.534688Z"
    }
   },
   "outputs": [],
   "source": [
    "df.to_csv(os.path.join(data_dir, f\"{today}.csv\"), index=False)"
   ]
  },
  {
   "cell_type": "code",
   "execution_count": null,
   "metadata": {},
   "outputs": [],
   "source": []
  }
 ],
 "metadata": {
  "kernelspec": {
   "display_name": "Python 3",
   "language": "python",
   "name": "python3"
  },
  "language_info": {
   "codemirror_mode": {
    "name": "ipython",
    "version": 3
   },
   "file_extension": ".py",
   "mimetype": "text/x-python",
   "name": "python",
   "nbconvert_exporter": "python",
   "pygments_lexer": "ipython3",
   "version": "3.8.8"
  }
 },
 "nbformat": 4,
 "nbformat_minor": 4
}
