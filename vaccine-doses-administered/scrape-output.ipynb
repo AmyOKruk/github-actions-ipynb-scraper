{
 "cells": [
  {
   "cell_type": "markdown",
   "metadata": {},
   "source": [
    "# California COVID vaccinations scrape"
   ]
  },
  {
   "cell_type": "markdown",
   "metadata": {},
   "source": [
    "By [Amy O'Kruk](https://twitter.com/amyokruk)"
   ]
  },
  {
   "cell_type": "markdown",
   "metadata": {},
   "source": [
    "Downloads data on vaccine doses administered by county and statewide from a Tableau-powered dashboard from the California Department of Public Health."
   ]
  },
  {
   "cell_type": "code",
   "execution_count": 1,
   "metadata": {
    "execution": {
     "iopub.execute_input": "2021-03-24T13:57:16.044083Z",
     "iopub.status.busy": "2021-03-24T13:57:16.043556Z",
     "iopub.status.idle": "2021-03-24T13:57:16.511375Z",
     "shell.execute_reply": "2021-03-24T13:57:16.510829Z"
    }
   },
   "outputs": [],
   "source": [
    "import pandas as pd\n",
    "import requests\n",
    "from bs4 import BeautifulSoup\n",
    "import json\n",
    "import re\n",
    "import time\n",
    "from time import gmtime, strftime \n",
    "import os\n",
    "import pytz\n",
    "from datetime import datetime"
   ]
  },
  {
   "cell_type": "markdown",
   "metadata": {},
   "source": [
    "Scrape the dashboard page"
   ]
  },
  {
   "cell_type": "code",
   "execution_count": 2,
   "metadata": {
    "execution": {
     "iopub.execute_input": "2021-03-24T13:57:16.516306Z",
     "iopub.status.busy": "2021-03-24T13:57:16.514465Z",
     "iopub.status.idle": "2021-03-24T13:57:16.852947Z",
     "shell.execute_reply": "2021-03-24T13:57:16.853318Z"
    }
   },
   "outputs": [],
   "source": [
    "url = \"https://public.tableau.com/interactive/views/COVID-19VaccineDashboardPublic/Vaccine?:embed=y&:showVizHome=n&:apiID=host0\"\n",
    "\n",
    "r = requests.get(url)\n",
    "soup = BeautifulSoup(r.text, \"html.parser\")"
   ]
  },
  {
   "cell_type": "code",
   "execution_count": 3,
   "metadata": {
    "execution": {
     "iopub.execute_input": "2021-03-24T13:57:16.857144Z",
     "iopub.status.busy": "2021-03-24T13:57:16.856677Z",
     "iopub.status.idle": "2021-03-24T13:57:16.860548Z",
     "shell.execute_reply": "2021-03-24T13:57:16.859822Z"
    }
   },
   "outputs": [],
   "source": [
    "tableauData = json.loads(soup.find(\"textarea\",{\"id\": \"tsConfigContainer\"}).text)"
   ]
  },
  {
   "cell_type": "markdown",
   "metadata": {},
   "source": [
    "Get the link to the Tableau data"
   ]
  },
  {
   "cell_type": "code",
   "execution_count": 4,
   "metadata": {
    "execution": {
     "iopub.execute_input": "2021-03-24T13:57:16.863673Z",
     "iopub.status.busy": "2021-03-24T13:57:16.863198Z",
     "iopub.status.idle": "2021-03-24T13:57:16.866672Z",
     "shell.execute_reply": "2021-03-24T13:57:16.866232Z"
    }
   },
   "outputs": [],
   "source": [
    "dataUrl = f'https://public.tableau.com{tableauData[\"vizql_root\"]}/bootstrapSession/sessions/{tableauData[\"sessionid\"]}'"
   ]
  },
  {
   "cell_type": "code",
   "execution_count": 5,
   "metadata": {
    "execution": {
     "iopub.execute_input": "2021-03-24T13:57:16.871921Z",
     "iopub.status.busy": "2021-03-24T13:57:16.871446Z",
     "iopub.status.idle": "2021-03-24T13:57:17.075299Z",
     "shell.execute_reply": "2021-03-24T13:57:17.075703Z"
    }
   },
   "outputs": [],
   "source": [
    "r = requests.post(dataUrl, data= {\n",
    "    \"sheet_id\": tableauData[\"sheetId\"],\n",
    "})\n",
    "\n",
    "dataReg = re.search('\\d+;({.*})\\d+;({.*})', r.text, re.MULTILINE)\n",
    "data1 = json.loads(dataReg.group(2))\n",
    "\n",
    "dataJson = data1[\"secondaryInfo\"][\"presModelMap\"][\"dataDictionary\"][\"presModelHolder\"][\"genDataDictionaryPresModel\"][\"dataSegments\"][\"0\"][\"dataColumns\"]"
   ]
  },
  {
   "cell_type": "markdown",
   "metadata": {},
   "source": [
    "Isolate what you want"
   ]
  },
  {
   "cell_type": "code",
   "execution_count": 6,
   "metadata": {
    "execution": {
     "iopub.execute_input": "2021-03-24T13:57:17.078993Z",
     "iopub.status.busy": "2021-03-24T13:57:17.078526Z",
     "iopub.status.idle": "2021-03-24T13:57:17.082389Z",
     "shell.execute_reply": "2021-03-24T13:57:17.081669Z"
    }
   },
   "outputs": [],
   "source": [
    "counties = dataJson[2]['dataValues'][:58]"
   ]
  },
  {
   "cell_type": "code",
   "execution_count": 7,
   "metadata": {
    "execution": {
     "iopub.execute_input": "2021-03-24T13:57:17.085317Z",
     "iopub.status.busy": "2021-03-24T13:57:17.084856Z",
     "iopub.status.idle": "2021-03-24T13:57:17.087439Z",
     "shell.execute_reply": "2021-03-24T13:57:17.086673Z"
    }
   },
   "outputs": [],
   "source": [
    "doses = dataJson[0]['dataValues'][3:61]"
   ]
  },
  {
   "cell_type": "markdown",
   "metadata": {},
   "source": [
    "Data formatting"
   ]
  },
  {
   "cell_type": "code",
   "execution_count": 8,
   "metadata": {
    "execution": {
     "iopub.execute_input": "2021-03-24T13:57:17.090642Z",
     "iopub.status.busy": "2021-03-24T13:57:17.090170Z",
     "iopub.status.idle": "2021-03-24T13:57:17.093252Z",
     "shell.execute_reply": "2021-03-24T13:57:17.093657Z"
    }
   },
   "outputs": [],
   "source": [
    "zipped = dict(zip(counties, doses))"
   ]
  },
  {
   "cell_type": "code",
   "execution_count": 9,
   "metadata": {
    "execution": {
     "iopub.execute_input": "2021-03-24T13:57:17.099450Z",
     "iopub.status.busy": "2021-03-24T13:57:17.098604Z",
     "iopub.status.idle": "2021-03-24T13:57:17.100317Z",
     "shell.execute_reply": "2021-03-24T13:57:17.100683Z"
    }
   },
   "outputs": [],
   "source": [
    "df = pd.Series(zipped).reset_index()"
   ]
  },
  {
   "cell_type": "code",
   "execution_count": 10,
   "metadata": {
    "execution": {
     "iopub.execute_input": "2021-03-24T13:57:17.104559Z",
     "iopub.status.busy": "2021-03-24T13:57:17.103487Z",
     "iopub.status.idle": "2021-03-24T13:57:17.105865Z",
     "shell.execute_reply": "2021-03-24T13:57:17.106319Z"
    }
   },
   "outputs": [],
   "source": [
    "df.columns = ['location','doses']"
   ]
  },
  {
   "cell_type": "markdown",
   "metadata": {},
   "source": [
    "Grab the overall California total"
   ]
  },
  {
   "cell_type": "code",
   "execution_count": 11,
   "metadata": {
    "execution": {
     "iopub.execute_input": "2021-03-24T13:57:17.110354Z",
     "iopub.status.busy": "2021-03-24T13:57:17.109408Z",
     "iopub.status.idle": "2021-03-24T13:57:17.111253Z",
     "shell.execute_reply": "2021-03-24T13:57:17.111815Z"
    }
   },
   "outputs": [],
   "source": [
    "add = {'location':'California','doses':dataJson[0]['dataValues'][2]}"
   ]
  },
  {
   "cell_type": "code",
   "execution_count": 12,
   "metadata": {
    "execution": {
     "iopub.execute_input": "2021-03-24T13:57:17.118251Z",
     "iopub.status.busy": "2021-03-24T13:57:17.117363Z",
     "iopub.status.idle": "2021-03-24T13:57:17.119082Z",
     "shell.execute_reply": "2021-03-24T13:57:17.119476Z"
    }
   },
   "outputs": [],
   "source": [
    "df = df.append(add, ignore_index=True)"
   ]
  },
  {
   "cell_type": "code",
   "execution_count": 13,
   "metadata": {
    "execution": {
     "iopub.execute_input": "2021-03-24T13:57:17.124417Z",
     "iopub.status.busy": "2021-03-24T13:57:17.123143Z",
     "iopub.status.idle": "2021-03-24T13:57:17.124996Z",
     "shell.execute_reply": "2021-03-24T13:57:17.125387Z"
    }
   },
   "outputs": [],
   "source": [
    "df = df.sort_values(by='location')"
   ]
  },
  {
   "cell_type": "code",
   "execution_count": 14,
   "metadata": {
    "execution": {
     "iopub.execute_input": "2021-03-24T13:57:17.131801Z",
     "iopub.status.busy": "2021-03-24T13:57:17.130691Z",
     "iopub.status.idle": "2021-03-24T13:57:17.132340Z",
     "shell.execute_reply": "2021-03-24T13:57:17.132733Z"
    }
   },
   "outputs": [],
   "source": [
    "df = df[df.location == 'California'].append(df[df.location != 'California']).reset_index(drop=True)"
   ]
  },
  {
   "cell_type": "code",
   "execution_count": null,
   "metadata": {},
   "outputs": [],
   "source": []
  },
  {
   "cell_type": "code",
   "execution_count": 15,
   "metadata": {
    "execution": {
     "iopub.execute_input": "2021-03-24T13:57:17.135921Z",
     "iopub.status.busy": "2021-03-24T13:57:17.135351Z",
     "iopub.status.idle": "2021-03-24T13:57:17.150923Z",
     "shell.execute_reply": "2021-03-24T13:57:17.151297Z"
    }
   },
   "outputs": [],
   "source": [
    "tz = pytz.timezone(\"America/New_York\")"
   ]
  },
  {
   "cell_type": "code",
   "execution_count": 16,
   "metadata": {
    "execution": {
     "iopub.execute_input": "2021-03-24T13:57:17.155282Z",
     "iopub.status.busy": "2021-03-24T13:57:17.154156Z",
     "iopub.status.idle": "2021-03-24T13:57:17.155885Z",
     "shell.execute_reply": "2021-03-24T13:57:17.156281Z"
    }
   },
   "outputs": [],
   "source": [
    "today = datetime.now(tz).date()"
   ]
  },
  {
   "cell_type": "code",
   "execution_count": 17,
   "metadata": {
    "execution": {
     "iopub.execute_input": "2021-03-24T13:57:17.160398Z",
     "iopub.status.busy": "2021-03-24T13:57:17.159270Z",
     "iopub.status.idle": "2021-03-24T13:57:17.161031Z",
     "shell.execute_reply": "2021-03-24T13:57:17.161431Z"
    }
   },
   "outputs": [],
   "source": [
    "data_dir = os.path.join(os.path.abspath(\"\"), \"data\")"
   ]
  },
  {
   "cell_type": "code",
   "execution_count": 18,
   "metadata": {
    "execution": {
     "iopub.execute_input": "2021-03-24T13:57:17.166113Z",
     "iopub.status.busy": "2021-03-24T13:57:17.165069Z",
     "iopub.status.idle": "2021-03-24T13:57:17.167917Z",
     "shell.execute_reply": "2021-03-24T13:57:17.168296Z"
    }
   },
   "outputs": [],
   "source": [
    "df.to_csv(os.path.join(data_dir, f\"{today}.csv\"), index=False)"
   ]
  },
  {
   "cell_type": "code",
   "execution_count": null,
   "metadata": {},
   "outputs": [],
   "source": []
  }
 ],
 "metadata": {
  "kernelspec": {
   "display_name": "Python 3",
   "language": "python",
   "name": "python3"
  },
  "language_info": {
   "codemirror_mode": {
    "name": "ipython",
    "version": 3
   },
   "file_extension": ".py",
   "mimetype": "text/x-python",
   "name": "python",
   "nbconvert_exporter": "python",
   "pygments_lexer": "ipython3",
   "version": "3.8.8"
  }
 },
 "nbformat": 4,
 "nbformat_minor": 4
}
