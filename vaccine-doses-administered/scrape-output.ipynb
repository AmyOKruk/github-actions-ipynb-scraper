{
 "cells": [
  {
   "cell_type": "markdown",
   "metadata": {},
   "source": [
    "# California COVID vaccinations scrape"
   ]
  },
  {
   "cell_type": "markdown",
   "metadata": {},
   "source": [
    "By [Amy O'Kruk](https://twitter.com/amyokruk)"
   ]
  },
  {
   "cell_type": "markdown",
   "metadata": {},
   "source": [
    "Downloads data on vaccine doses administered by county and statewide from a Tableau-powered dashboard from the California Department of Public Health."
   ]
  },
  {
   "cell_type": "code",
   "execution_count": 1,
   "metadata": {
    "execution": {
     "iopub.execute_input": "2021-03-15T21:23:06.003037Z",
     "iopub.status.busy": "2021-03-15T21:23:06.002553Z",
     "iopub.status.idle": "2021-03-15T21:23:06.390252Z",
     "shell.execute_reply": "2021-03-15T21:23:06.389240Z"
    }
   },
   "outputs": [],
   "source": [
    "import pandas as pd\n",
    "import requests\n",
    "from bs4 import BeautifulSoup\n",
    "import json\n",
    "import re\n",
    "import time\n",
    "from time import gmtime, strftime \n",
    "import os\n",
    "import pytz\n",
    "from datetime import datetime"
   ]
  },
  {
   "cell_type": "markdown",
   "metadata": {},
   "source": [
    "Scrape the dashboard page"
   ]
  },
  {
   "cell_type": "code",
   "execution_count": 2,
   "metadata": {
    "execution": {
     "iopub.execute_input": "2021-03-15T21:23:06.398748Z",
     "iopub.status.busy": "2021-03-15T21:23:06.395958Z",
     "iopub.status.idle": "2021-03-15T21:23:06.802179Z",
     "shell.execute_reply": "2021-03-15T21:23:06.801336Z"
    }
   },
   "outputs": [],
   "source": [
    "url = \"https://public.tableau.com/interactive/views/COVID-19VaccineDashboardPublic/Vaccine?:embed=y&:showVizHome=n&:apiID=host0\"\n",
    "\n",
    "r = requests.get(url)\n",
    "soup = BeautifulSoup(r.text, \"html.parser\")"
   ]
  },
  {
   "cell_type": "code",
   "execution_count": 3,
   "metadata": {
    "execution": {
     "iopub.execute_input": "2021-03-15T21:23:06.806971Z",
     "iopub.status.busy": "2021-03-15T21:23:06.806487Z",
     "iopub.status.idle": "2021-03-15T21:23:06.809862Z",
     "shell.execute_reply": "2021-03-15T21:23:06.809457Z"
    }
   },
   "outputs": [],
   "source": [
    "tableauData = json.loads(soup.find(\"textarea\",{\"id\": \"tsConfigContainer\"}).text)"
   ]
  },
  {
   "cell_type": "markdown",
   "metadata": {},
   "source": [
    "Get the link to the Tableau data"
   ]
  },
  {
   "cell_type": "code",
   "execution_count": 4,
   "metadata": {
    "execution": {
     "iopub.execute_input": "2021-03-15T21:23:06.813042Z",
     "iopub.status.busy": "2021-03-15T21:23:06.812476Z",
     "iopub.status.idle": "2021-03-15T21:23:06.815986Z",
     "shell.execute_reply": "2021-03-15T21:23:06.815556Z"
    }
   },
   "outputs": [],
   "source": [
    "dataUrl = f'https://public.tableau.com{tableauData[\"vizql_root\"]}/bootstrapSession/sessions/{tableauData[\"sessionid\"]}'"
   ]
  },
  {
   "cell_type": "code",
   "execution_count": 5,
   "metadata": {
    "execution": {
     "iopub.execute_input": "2021-03-15T21:23:06.822257Z",
     "iopub.status.busy": "2021-03-15T21:23:06.821771Z",
     "iopub.status.idle": "2021-03-15T21:23:07.262601Z",
     "shell.execute_reply": "2021-03-15T21:23:07.261707Z"
    }
   },
   "outputs": [],
   "source": [
    "r = requests.post(dataUrl, data= {\n",
    "    \"sheet_id\": tableauData[\"sheetId\"],\n",
    "})\n",
    "\n",
    "dataReg = re.search('\\d+;({.*})\\d+;({.*})', r.text, re.MULTILINE)\n",
    "data1 = json.loads(dataReg.group(2))\n",
    "\n",
    "dataJson = data1[\"secondaryInfo\"][\"presModelMap\"][\"dataDictionary\"][\"presModelHolder\"][\"genDataDictionaryPresModel\"][\"dataSegments\"][\"0\"][\"dataColumns\"]"
   ]
  },
  {
   "cell_type": "markdown",
   "metadata": {},
   "source": [
    "Isolate what you want"
   ]
  },
  {
   "cell_type": "code",
   "execution_count": 6,
   "metadata": {
    "execution": {
     "iopub.execute_input": "2021-03-15T21:23:07.268554Z",
     "iopub.status.busy": "2021-03-15T21:23:07.267649Z",
     "iopub.status.idle": "2021-03-15T21:23:07.271662Z",
     "shell.execute_reply": "2021-03-15T21:23:07.271223Z"
    }
   },
   "outputs": [],
   "source": [
    "counties = dataJson[2]['dataValues'][:58]"
   ]
  },
  {
   "cell_type": "code",
   "execution_count": 7,
   "metadata": {
    "execution": {
     "iopub.execute_input": "2021-03-15T21:23:07.275098Z",
     "iopub.status.busy": "2021-03-15T21:23:07.274675Z",
     "iopub.status.idle": "2021-03-15T21:23:07.277664Z",
     "shell.execute_reply": "2021-03-15T21:23:07.277293Z"
    }
   },
   "outputs": [],
   "source": [
    "doses = dataJson[0]['dataValues'][3:61]"
   ]
  },
  {
   "cell_type": "markdown",
   "metadata": {},
   "source": [
    "Data formatting"
   ]
  },
  {
   "cell_type": "code",
   "execution_count": 8,
   "metadata": {
    "execution": {
     "iopub.execute_input": "2021-03-15T21:23:07.280951Z",
     "iopub.status.busy": "2021-03-15T21:23:07.280120Z",
     "iopub.status.idle": "2021-03-15T21:23:07.282229Z",
     "shell.execute_reply": "2021-03-15T21:23:07.281803Z"
    }
   },
   "outputs": [],
   "source": [
    "zipped = dict(zip(counties, doses))"
   ]
  },
  {
   "cell_type": "code",
   "execution_count": 9,
   "metadata": {
    "execution": {
     "iopub.execute_input": "2021-03-15T21:23:07.288743Z",
     "iopub.status.busy": "2021-03-15T21:23:07.287547Z",
     "iopub.status.idle": "2021-03-15T21:23:07.289300Z",
     "shell.execute_reply": "2021-03-15T21:23:07.289672Z"
    }
   },
   "outputs": [],
   "source": [
    "df = pd.Series(zipped).reset_index()"
   ]
  },
  {
   "cell_type": "code",
   "execution_count": 10,
   "metadata": {
    "execution": {
     "iopub.execute_input": "2021-03-15T21:23:07.293314Z",
     "iopub.status.busy": "2021-03-15T21:23:07.292539Z",
     "iopub.status.idle": "2021-03-15T21:23:07.294487Z",
     "shell.execute_reply": "2021-03-15T21:23:07.294053Z"
    }
   },
   "outputs": [],
   "source": [
    "df.columns = ['location','doses']"
   ]
  },
  {
   "cell_type": "markdown",
   "metadata": {},
   "source": [
    "Grab the overall California total"
   ]
  },
  {
   "cell_type": "code",
   "execution_count": 11,
   "metadata": {
    "execution": {
     "iopub.execute_input": "2021-03-15T21:23:07.297970Z",
     "iopub.status.busy": "2021-03-15T21:23:07.297111Z",
     "iopub.status.idle": "2021-03-15T21:23:07.298944Z",
     "shell.execute_reply": "2021-03-15T21:23:07.299340Z"
    }
   },
   "outputs": [],
   "source": [
    "add = {'location':'California','doses':dataJson[0]['dataValues'][2]}"
   ]
  },
  {
   "cell_type": "code",
   "execution_count": 12,
   "metadata": {
    "execution": {
     "iopub.execute_input": "2021-03-15T21:23:07.307692Z",
     "iopub.status.busy": "2021-03-15T21:23:07.306244Z",
     "iopub.status.idle": "2021-03-15T21:23:07.309274Z",
     "shell.execute_reply": "2021-03-15T21:23:07.308496Z"
    }
   },
   "outputs": [],
   "source": [
    "df = df.append(add, ignore_index=True)"
   ]
  },
  {
   "cell_type": "code",
   "execution_count": 13,
   "metadata": {
    "execution": {
     "iopub.execute_input": "2021-03-15T21:23:07.314113Z",
     "iopub.status.busy": "2021-03-15T21:23:07.312759Z",
     "iopub.status.idle": "2021-03-15T21:23:07.314784Z",
     "shell.execute_reply": "2021-03-15T21:23:07.315211Z"
    }
   },
   "outputs": [],
   "source": [
    "df = df.sort_values(by='location')"
   ]
  },
  {
   "cell_type": "code",
   "execution_count": 14,
   "metadata": {
    "execution": {
     "iopub.execute_input": "2021-03-15T21:23:07.321003Z",
     "iopub.status.busy": "2021-03-15T21:23:07.320181Z",
     "iopub.status.idle": "2021-03-15T21:23:07.322320Z",
     "shell.execute_reply": "2021-03-15T21:23:07.321904Z"
    }
   },
   "outputs": [],
   "source": [
    "df = df[df.location == 'California'].append(df[df.location != 'California']).reset_index(drop=True)"
   ]
  },
  {
   "cell_type": "code",
   "execution_count": null,
   "metadata": {},
   "outputs": [],
   "source": []
  },
  {
   "cell_type": "code",
   "execution_count": 15,
   "metadata": {
    "execution": {
     "iopub.execute_input": "2021-03-15T21:23:07.325269Z",
     "iopub.status.busy": "2021-03-15T21:23:07.324851Z",
     "iopub.status.idle": "2021-03-15T21:23:07.341223Z",
     "shell.execute_reply": "2021-03-15T21:23:07.340758Z"
    }
   },
   "outputs": [],
   "source": [
    "tz = pytz.timezone(\"America/New_York\")"
   ]
  },
  {
   "cell_type": "code",
   "execution_count": 16,
   "metadata": {
    "execution": {
     "iopub.execute_input": "2021-03-15T21:23:07.347366Z",
     "iopub.status.busy": "2021-03-15T21:23:07.344005Z",
     "iopub.status.idle": "2021-03-15T21:23:07.347977Z",
     "shell.execute_reply": "2021-03-15T21:23:07.348407Z"
    }
   },
   "outputs": [],
   "source": [
    "today = datetime.now(tz).date()"
   ]
  },
  {
   "cell_type": "code",
   "execution_count": 17,
   "metadata": {
    "execution": {
     "iopub.execute_input": "2021-03-15T21:23:07.352400Z",
     "iopub.status.busy": "2021-03-15T21:23:07.351369Z",
     "iopub.status.idle": "2021-03-15T21:23:07.352978Z",
     "shell.execute_reply": "2021-03-15T21:23:07.353526Z"
    }
   },
   "outputs": [],
   "source": [
    "data_dir = os.path.join(os.path.abspath(\"\"), \"data\")"
   ]
  },
  {
   "cell_type": "code",
   "execution_count": 18,
   "metadata": {
    "execution": {
     "iopub.execute_input": "2021-03-15T21:23:07.357627Z",
     "iopub.status.busy": "2021-03-15T21:23:07.356571Z",
     "iopub.status.idle": "2021-03-15T21:23:07.361039Z",
     "shell.execute_reply": "2021-03-15T21:23:07.360497Z"
    }
   },
   "outputs": [],
   "source": [
    "df.to_csv(os.path.join(data_dir, f\"{today}.csv\"), index=False)"
   ]
  },
  {
   "cell_type": "code",
   "execution_count": null,
   "metadata": {},
   "outputs": [],
   "source": []
  }
 ],
 "metadata": {
  "kernelspec": {
   "display_name": "Python 3",
   "language": "python",
   "name": "python3"
  },
  "language_info": {
   "codemirror_mode": {
    "name": "ipython",
    "version": 3
   },
   "file_extension": ".py",
   "mimetype": "text/x-python",
   "name": "python",
   "nbconvert_exporter": "python",
   "pygments_lexer": "ipython3",
   "version": "3.8.8"
  }
 },
 "nbformat": 4,
 "nbformat_minor": 4
}
