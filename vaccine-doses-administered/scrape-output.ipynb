{
 "cells": [
  {
   "cell_type": "markdown",
   "metadata": {},
   "source": [
    "# California COVID vaccinations scrape"
   ]
  },
  {
   "cell_type": "markdown",
   "metadata": {},
   "source": [
    "By [Amy O'Kruk](https://twitter.com/amyokruk)"
   ]
  },
  {
   "cell_type": "markdown",
   "metadata": {},
   "source": [
    "Downloads data on vaccine doses administered by county and statewide from a Tableau-powered dashboard from the California Department of Public Health."
   ]
  },
  {
   "cell_type": "code",
   "execution_count": 1,
   "metadata": {
    "execution": {
     "iopub.execute_input": "2021-03-19T22:46:10.484376Z",
     "iopub.status.busy": "2021-03-19T22:46:10.483468Z",
     "iopub.status.idle": "2021-03-19T22:46:11.055482Z",
     "shell.execute_reply": "2021-03-19T22:46:11.054973Z"
    }
   },
   "outputs": [],
   "source": [
    "import pandas as pd\n",
    "import requests\n",
    "from bs4 import BeautifulSoup\n",
    "import json\n",
    "import re\n",
    "import time\n",
    "from time import gmtime, strftime \n",
    "import os\n",
    "import pytz\n",
    "from datetime import datetime"
   ]
  },
  {
   "cell_type": "markdown",
   "metadata": {},
   "source": [
    "Scrape the dashboard page"
   ]
  },
  {
   "cell_type": "code",
   "execution_count": 2,
   "metadata": {
    "execution": {
     "iopub.execute_input": "2021-03-19T22:46:11.060653Z",
     "iopub.status.busy": "2021-03-19T22:46:11.060127Z",
     "iopub.status.idle": "2021-03-19T22:46:11.458781Z",
     "shell.execute_reply": "2021-03-19T22:46:11.458251Z"
    }
   },
   "outputs": [],
   "source": [
    "url = \"https://public.tableau.com/interactive/views/COVID-19VaccineDashboardPublic/Vaccine?:embed=y&:showVizHome=n&:apiID=host0\"\n",
    "\n",
    "r = requests.get(url)\n",
    "soup = BeautifulSoup(r.text, \"html.parser\")"
   ]
  },
  {
   "cell_type": "code",
   "execution_count": 3,
   "metadata": {
    "execution": {
     "iopub.execute_input": "2021-03-19T22:46:11.463553Z",
     "iopub.status.busy": "2021-03-19T22:46:11.462979Z",
     "iopub.status.idle": "2021-03-19T22:46:11.466451Z",
     "shell.execute_reply": "2021-03-19T22:46:11.466909Z"
    }
   },
   "outputs": [],
   "source": [
    "tableauData = json.loads(soup.find(\"textarea\",{\"id\": \"tsConfigContainer\"}).text)"
   ]
  },
  {
   "cell_type": "markdown",
   "metadata": {},
   "source": [
    "Get the link to the Tableau data"
   ]
  },
  {
   "cell_type": "code",
   "execution_count": 4,
   "metadata": {
    "execution": {
     "iopub.execute_input": "2021-03-19T22:46:11.470918Z",
     "iopub.status.busy": "2021-03-19T22:46:11.470368Z",
     "iopub.status.idle": "2021-03-19T22:46:11.473942Z",
     "shell.execute_reply": "2021-03-19T22:46:11.474378Z"
    }
   },
   "outputs": [],
   "source": [
    "dataUrl = f'https://public.tableau.com{tableauData[\"vizql_root\"]}/bootstrapSession/sessions/{tableauData[\"sessionid\"]}'"
   ]
  },
  {
   "cell_type": "code",
   "execution_count": 5,
   "metadata": {
    "execution": {
     "iopub.execute_input": "2021-03-19T22:46:11.480639Z",
     "iopub.status.busy": "2021-03-19T22:46:11.480002Z",
     "iopub.status.idle": "2021-03-19T22:46:11.716759Z",
     "shell.execute_reply": "2021-03-19T22:46:11.716205Z"
    }
   },
   "outputs": [],
   "source": [
    "r = requests.post(dataUrl, data= {\n",
    "    \"sheet_id\": tableauData[\"sheetId\"],\n",
    "})\n",
    "\n",
    "dataReg = re.search('\\d+;({.*})\\d+;({.*})', r.text, re.MULTILINE)\n",
    "data1 = json.loads(dataReg.group(2))\n",
    "\n",
    "dataJson = data1[\"secondaryInfo\"][\"presModelMap\"][\"dataDictionary\"][\"presModelHolder\"][\"genDataDictionaryPresModel\"][\"dataSegments\"][\"0\"][\"dataColumns\"]"
   ]
  },
  {
   "cell_type": "markdown",
   "metadata": {},
   "source": [
    "Isolate what you want"
   ]
  },
  {
   "cell_type": "code",
   "execution_count": 6,
   "metadata": {
    "execution": {
     "iopub.execute_input": "2021-03-19T22:46:11.722494Z",
     "iopub.status.busy": "2021-03-19T22:46:11.720943Z",
     "iopub.status.idle": "2021-03-19T22:46:11.723144Z",
     "shell.execute_reply": "2021-03-19T22:46:11.723632Z"
    }
   },
   "outputs": [],
   "source": [
    "counties = dataJson[2]['dataValues'][:58]"
   ]
  },
  {
   "cell_type": "code",
   "execution_count": 7,
   "metadata": {
    "execution": {
     "iopub.execute_input": "2021-03-19T22:46:11.728696Z",
     "iopub.status.busy": "2021-03-19T22:46:11.727198Z",
     "iopub.status.idle": "2021-03-19T22:46:11.729319Z",
     "shell.execute_reply": "2021-03-19T22:46:11.729800Z"
    }
   },
   "outputs": [],
   "source": [
    "doses = dataJson[0]['dataValues'][3:61]"
   ]
  },
  {
   "cell_type": "markdown",
   "metadata": {},
   "source": [
    "Data formatting"
   ]
  },
  {
   "cell_type": "code",
   "execution_count": 8,
   "metadata": {
    "execution": {
     "iopub.execute_input": "2021-03-19T22:46:11.734911Z",
     "iopub.status.busy": "2021-03-19T22:46:11.733202Z",
     "iopub.status.idle": "2021-03-19T22:46:11.735808Z",
     "shell.execute_reply": "2021-03-19T22:46:11.736301Z"
    }
   },
   "outputs": [],
   "source": [
    "zipped = dict(zip(counties, doses))"
   ]
  },
  {
   "cell_type": "code",
   "execution_count": 9,
   "metadata": {
    "execution": {
     "iopub.execute_input": "2021-03-19T22:46:11.743396Z",
     "iopub.status.busy": "2021-03-19T22:46:11.742058Z",
     "iopub.status.idle": "2021-03-19T22:46:11.744208Z",
     "shell.execute_reply": "2021-03-19T22:46:11.744680Z"
    }
   },
   "outputs": [],
   "source": [
    "df = pd.Series(zipped).reset_index()"
   ]
  },
  {
   "cell_type": "code",
   "execution_count": 10,
   "metadata": {
    "execution": {
     "iopub.execute_input": "2021-03-19T22:46:11.749347Z",
     "iopub.status.busy": "2021-03-19T22:46:11.748033Z",
     "iopub.status.idle": "2021-03-19T22:46:11.750641Z",
     "shell.execute_reply": "2021-03-19T22:46:11.751217Z"
    }
   },
   "outputs": [],
   "source": [
    "df.columns = ['location','doses']"
   ]
  },
  {
   "cell_type": "markdown",
   "metadata": {},
   "source": [
    "Grab the overall California total"
   ]
  },
  {
   "cell_type": "code",
   "execution_count": 11,
   "metadata": {
    "execution": {
     "iopub.execute_input": "2021-03-19T22:46:11.756308Z",
     "iopub.status.busy": "2021-03-19T22:46:11.754990Z",
     "iopub.status.idle": "2021-03-19T22:46:11.756911Z",
     "shell.execute_reply": "2021-03-19T22:46:11.757354Z"
    }
   },
   "outputs": [],
   "source": [
    "add = {'location':'California','doses':dataJson[0]['dataValues'][2]}"
   ]
  },
  {
   "cell_type": "code",
   "execution_count": 12,
   "metadata": {
    "execution": {
     "iopub.execute_input": "2021-03-19T22:46:11.764049Z",
     "iopub.status.busy": "2021-03-19T22:46:11.763500Z",
     "iopub.status.idle": "2021-03-19T22:46:11.766822Z",
     "shell.execute_reply": "2021-03-19T22:46:11.766222Z"
    }
   },
   "outputs": [],
   "source": [
    "df = df.append(add, ignore_index=True)"
   ]
  },
  {
   "cell_type": "code",
   "execution_count": 13,
   "metadata": {
    "execution": {
     "iopub.execute_input": "2021-03-19T22:46:11.771829Z",
     "iopub.status.busy": "2021-03-19T22:46:11.770635Z",
     "iopub.status.idle": "2021-03-19T22:46:11.772444Z",
     "shell.execute_reply": "2021-03-19T22:46:11.772880Z"
    }
   },
   "outputs": [],
   "source": [
    "df = df.sort_values(by='location')"
   ]
  },
  {
   "cell_type": "code",
   "execution_count": 14,
   "metadata": {
    "execution": {
     "iopub.execute_input": "2021-03-19T22:46:11.779856Z",
     "iopub.status.busy": "2021-03-19T22:46:11.778531Z",
     "iopub.status.idle": "2021-03-19T22:46:11.780576Z",
     "shell.execute_reply": "2021-03-19T22:46:11.781322Z"
    }
   },
   "outputs": [],
   "source": [
    "df = df[df.location == 'California'].append(df[df.location != 'California']).reset_index(drop=True)"
   ]
  },
  {
   "cell_type": "code",
   "execution_count": null,
   "metadata": {},
   "outputs": [],
   "source": []
  },
  {
   "cell_type": "code",
   "execution_count": 15,
   "metadata": {
    "execution": {
     "iopub.execute_input": "2021-03-19T22:46:11.785025Z",
     "iopub.status.busy": "2021-03-19T22:46:11.784510Z",
     "iopub.status.idle": "2021-03-19T22:46:11.802020Z",
     "shell.execute_reply": "2021-03-19T22:46:11.801546Z"
    }
   },
   "outputs": [],
   "source": [
    "tz = pytz.timezone(\"America/New_York\")"
   ]
  },
  {
   "cell_type": "code",
   "execution_count": 16,
   "metadata": {
    "execution": {
     "iopub.execute_input": "2021-03-19T22:46:11.806587Z",
     "iopub.status.busy": "2021-03-19T22:46:11.804894Z",
     "iopub.status.idle": "2021-03-19T22:46:11.807143Z",
     "shell.execute_reply": "2021-03-19T22:46:11.807569Z"
    }
   },
   "outputs": [],
   "source": [
    "today = datetime.now(tz).date()"
   ]
  },
  {
   "cell_type": "code",
   "execution_count": 17,
   "metadata": {
    "execution": {
     "iopub.execute_input": "2021-03-19T22:46:11.812337Z",
     "iopub.status.busy": "2021-03-19T22:46:11.810957Z",
     "iopub.status.idle": "2021-03-19T22:46:11.812960Z",
     "shell.execute_reply": "2021-03-19T22:46:11.813366Z"
    }
   },
   "outputs": [],
   "source": [
    "data_dir = os.path.join(os.path.abspath(\"\"), \"data\")"
   ]
  },
  {
   "cell_type": "code",
   "execution_count": 18,
   "metadata": {
    "execution": {
     "iopub.execute_input": "2021-03-19T22:46:11.817406Z",
     "iopub.status.busy": "2021-03-19T22:46:11.816913Z",
     "iopub.status.idle": "2021-03-19T22:46:11.821108Z",
     "shell.execute_reply": "2021-03-19T22:46:11.821483Z"
    }
   },
   "outputs": [],
   "source": [
    "df.to_csv(os.path.join(data_dir, f\"{today}.csv\"), index=False)"
   ]
  },
  {
   "cell_type": "code",
   "execution_count": null,
   "metadata": {},
   "outputs": [],
   "source": []
  }
 ],
 "metadata": {
  "kernelspec": {
   "display_name": "Python 3",
   "language": "python",
   "name": "python3"
  },
  "language_info": {
   "codemirror_mode": {
    "name": "ipython",
    "version": 3
   },
   "file_extension": ".py",
   "mimetype": "text/x-python",
   "name": "python",
   "nbconvert_exporter": "python",
   "pygments_lexer": "ipython3",
   "version": "3.8.8"
  }
 },
 "nbformat": 4,
 "nbformat_minor": 4
}
