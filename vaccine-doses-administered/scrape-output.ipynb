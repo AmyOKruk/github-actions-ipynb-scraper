{
 "cells": [
  {
   "cell_type": "markdown",
   "metadata": {},
   "source": [
    "# California COVID vaccinations scrape"
   ]
  },
  {
   "cell_type": "markdown",
   "metadata": {},
   "source": [
    "By [Amy O'Kruk](https://twitter.com/amyokruk)"
   ]
  },
  {
   "cell_type": "markdown",
   "metadata": {},
   "source": [
    "Downloads data on vaccine doses administered by county and statewide from a Tableau-powered dashboard from the California Department of Public Health."
   ]
  },
  {
   "cell_type": "code",
   "execution_count": 1,
   "metadata": {
    "execution": {
     "iopub.execute_input": "2021-03-16T14:41:24.862827Z",
     "iopub.status.busy": "2021-03-16T14:41:24.862191Z",
     "iopub.status.idle": "2021-03-16T14:41:25.248008Z",
     "shell.execute_reply": "2021-03-16T14:41:25.246830Z"
    }
   },
   "outputs": [],
   "source": [
    "import pandas as pd\n",
    "import requests\n",
    "from bs4 import BeautifulSoup\n",
    "import json\n",
    "import re\n",
    "import time\n",
    "from time import gmtime, strftime \n",
    "import os\n",
    "import pytz\n",
    "from datetime import datetime"
   ]
  },
  {
   "cell_type": "markdown",
   "metadata": {},
   "source": [
    "Scrape the dashboard page"
   ]
  },
  {
   "cell_type": "code",
   "execution_count": 2,
   "metadata": {
    "execution": {
     "iopub.execute_input": "2021-03-16T14:41:25.253864Z",
     "iopub.status.busy": "2021-03-16T14:41:25.252088Z",
     "iopub.status.idle": "2021-03-16T14:41:26.000885Z",
     "shell.execute_reply": "2021-03-16T14:41:25.999855Z"
    }
   },
   "outputs": [],
   "source": [
    "url = \"https://public.tableau.com/interactive/views/COVID-19VaccineDashboardPublic/Vaccine?:embed=y&:showVizHome=n&:apiID=host0\"\n",
    "\n",
    "r = requests.get(url)\n",
    "soup = BeautifulSoup(r.text, \"html.parser\")"
   ]
  },
  {
   "cell_type": "code",
   "execution_count": 3,
   "metadata": {
    "execution": {
     "iopub.execute_input": "2021-03-16T14:41:26.005573Z",
     "iopub.status.busy": "2021-03-16T14:41:26.005046Z",
     "iopub.status.idle": "2021-03-16T14:41:26.008458Z",
     "shell.execute_reply": "2021-03-16T14:41:26.008025Z"
    }
   },
   "outputs": [],
   "source": [
    "tableauData = json.loads(soup.find(\"textarea\",{\"id\": \"tsConfigContainer\"}).text)"
   ]
  },
  {
   "cell_type": "markdown",
   "metadata": {},
   "source": [
    "Get the link to the Tableau data"
   ]
  },
  {
   "cell_type": "code",
   "execution_count": 4,
   "metadata": {
    "execution": {
     "iopub.execute_input": "2021-03-16T14:41:26.012675Z",
     "iopub.status.busy": "2021-03-16T14:41:26.011546Z",
     "iopub.status.idle": "2021-03-16T14:41:26.013359Z",
     "shell.execute_reply": "2021-03-16T14:41:26.013812Z"
    }
   },
   "outputs": [],
   "source": [
    "dataUrl = f'https://public.tableau.com{tableauData[\"vizql_root\"]}/bootstrapSession/sessions/{tableauData[\"sessionid\"]}'"
   ]
  },
  {
   "cell_type": "code",
   "execution_count": 5,
   "metadata": {
    "execution": {
     "iopub.execute_input": "2021-03-16T14:41:26.019930Z",
     "iopub.status.busy": "2021-03-16T14:41:26.019390Z",
     "iopub.status.idle": "2021-03-16T14:41:26.332426Z",
     "shell.execute_reply": "2021-03-16T14:41:26.331968Z"
    }
   },
   "outputs": [],
   "source": [
    "r = requests.post(dataUrl, data= {\n",
    "    \"sheet_id\": tableauData[\"sheetId\"],\n",
    "})\n",
    "\n",
    "dataReg = re.search('\\d+;({.*})\\d+;({.*})', r.text, re.MULTILINE)\n",
    "data1 = json.loads(dataReg.group(2))\n",
    "\n",
    "dataJson = data1[\"secondaryInfo\"][\"presModelMap\"][\"dataDictionary\"][\"presModelHolder\"][\"genDataDictionaryPresModel\"][\"dataSegments\"][\"0\"][\"dataColumns\"]"
   ]
  },
  {
   "cell_type": "markdown",
   "metadata": {},
   "source": [
    "Isolate what you want"
   ]
  },
  {
   "cell_type": "code",
   "execution_count": 6,
   "metadata": {
    "execution": {
     "iopub.execute_input": "2021-03-16T14:41:26.336149Z",
     "iopub.status.busy": "2021-03-16T14:41:26.335632Z",
     "iopub.status.idle": "2021-03-16T14:41:26.338608Z",
     "shell.execute_reply": "2021-03-16T14:41:26.339014Z"
    }
   },
   "outputs": [],
   "source": [
    "counties = dataJson[2]['dataValues'][:58]"
   ]
  },
  {
   "cell_type": "code",
   "execution_count": 7,
   "metadata": {
    "execution": {
     "iopub.execute_input": "2021-03-16T14:41:26.342518Z",
     "iopub.status.busy": "2021-03-16T14:41:26.342020Z",
     "iopub.status.idle": "2021-03-16T14:41:26.345405Z",
     "shell.execute_reply": "2021-03-16T14:41:26.344906Z"
    }
   },
   "outputs": [],
   "source": [
    "doses = dataJson[0]['dataValues'][3:61]"
   ]
  },
  {
   "cell_type": "markdown",
   "metadata": {},
   "source": [
    "Data formatting"
   ]
  },
  {
   "cell_type": "code",
   "execution_count": 8,
   "metadata": {
    "execution": {
     "iopub.execute_input": "2021-03-16T14:41:26.348606Z",
     "iopub.status.busy": "2021-03-16T14:41:26.348182Z",
     "iopub.status.idle": "2021-03-16T14:41:26.351347Z",
     "shell.execute_reply": "2021-03-16T14:41:26.350896Z"
    }
   },
   "outputs": [],
   "source": [
    "zipped = dict(zip(counties, doses))"
   ]
  },
  {
   "cell_type": "code",
   "execution_count": 9,
   "metadata": {
    "execution": {
     "iopub.execute_input": "2021-03-16T14:41:26.356893Z",
     "iopub.status.busy": "2021-03-16T14:41:26.356412Z",
     "iopub.status.idle": "2021-03-16T14:41:26.359505Z",
     "shell.execute_reply": "2021-03-16T14:41:26.359084Z"
    }
   },
   "outputs": [],
   "source": [
    "df = pd.Series(zipped).reset_index()"
   ]
  },
  {
   "cell_type": "code",
   "execution_count": 10,
   "metadata": {
    "execution": {
     "iopub.execute_input": "2021-03-16T14:41:26.362725Z",
     "iopub.status.busy": "2021-03-16T14:41:26.362286Z",
     "iopub.status.idle": "2021-03-16T14:41:26.364894Z",
     "shell.execute_reply": "2021-03-16T14:41:26.365294Z"
    }
   },
   "outputs": [],
   "source": [
    "df.columns = ['location','doses']"
   ]
  },
  {
   "cell_type": "markdown",
   "metadata": {},
   "source": [
    "Grab the overall California total"
   ]
  },
  {
   "cell_type": "code",
   "execution_count": 11,
   "metadata": {
    "execution": {
     "iopub.execute_input": "2021-03-16T14:41:26.368976Z",
     "iopub.status.busy": "2021-03-16T14:41:26.368467Z",
     "iopub.status.idle": "2021-03-16T14:41:26.372162Z",
     "shell.execute_reply": "2021-03-16T14:41:26.371704Z"
    }
   },
   "outputs": [],
   "source": [
    "add = {'location':'California','doses':dataJson[0]['dataValues'][2]}"
   ]
  },
  {
   "cell_type": "code",
   "execution_count": 12,
   "metadata": {
    "execution": {
     "iopub.execute_input": "2021-03-16T14:41:26.378145Z",
     "iopub.status.busy": "2021-03-16T14:41:26.377662Z",
     "iopub.status.idle": "2021-03-16T14:41:26.380820Z",
     "shell.execute_reply": "2021-03-16T14:41:26.380217Z"
    }
   },
   "outputs": [],
   "source": [
    "df = df.append(add, ignore_index=True)"
   ]
  },
  {
   "cell_type": "code",
   "execution_count": 13,
   "metadata": {
    "execution": {
     "iopub.execute_input": "2021-03-16T14:41:26.384961Z",
     "iopub.status.busy": "2021-03-16T14:41:26.384500Z",
     "iopub.status.idle": "2021-03-16T14:41:26.387584Z",
     "shell.execute_reply": "2021-03-16T14:41:26.387208Z"
    }
   },
   "outputs": [],
   "source": [
    "df = df.sort_values(by='location')"
   ]
  },
  {
   "cell_type": "code",
   "execution_count": 14,
   "metadata": {
    "execution": {
     "iopub.execute_input": "2021-03-16T14:41:26.392389Z",
     "iopub.status.busy": "2021-03-16T14:41:26.391913Z",
     "iopub.status.idle": "2021-03-16T14:41:26.394914Z",
     "shell.execute_reply": "2021-03-16T14:41:26.394535Z"
    }
   },
   "outputs": [],
   "source": [
    "df = df[df.location == 'California'].append(df[df.location != 'California']).reset_index(drop=True)"
   ]
  },
  {
   "cell_type": "code",
   "execution_count": null,
   "metadata": {},
   "outputs": [],
   "source": []
  },
  {
   "cell_type": "code",
   "execution_count": 15,
   "metadata": {
    "execution": {
     "iopub.execute_input": "2021-03-16T14:41:26.397843Z",
     "iopub.status.busy": "2021-03-16T14:41:26.397321Z",
     "iopub.status.idle": "2021-03-16T14:41:26.414755Z",
     "shell.execute_reply": "2021-03-16T14:41:26.415160Z"
    }
   },
   "outputs": [],
   "source": [
    "tz = pytz.timezone(\"America/New_York\")"
   ]
  },
  {
   "cell_type": "code",
   "execution_count": 16,
   "metadata": {
    "execution": {
     "iopub.execute_input": "2021-03-16T14:41:26.418694Z",
     "iopub.status.busy": "2021-03-16T14:41:26.418221Z",
     "iopub.status.idle": "2021-03-16T14:41:26.421527Z",
     "shell.execute_reply": "2021-03-16T14:41:26.421147Z"
    }
   },
   "outputs": [],
   "source": [
    "today = datetime.now(tz).date()"
   ]
  },
  {
   "cell_type": "code",
   "execution_count": 17,
   "metadata": {
    "execution": {
     "iopub.execute_input": "2021-03-16T14:41:26.424749Z",
     "iopub.status.busy": "2021-03-16T14:41:26.424272Z",
     "iopub.status.idle": "2021-03-16T14:41:26.427510Z",
     "shell.execute_reply": "2021-03-16T14:41:26.427088Z"
    }
   },
   "outputs": [],
   "source": [
    "data_dir = os.path.join(os.path.abspath(\"\"), \"data\")"
   ]
  },
  {
   "cell_type": "code",
   "execution_count": 18,
   "metadata": {
    "execution": {
     "iopub.execute_input": "2021-03-16T14:41:26.432575Z",
     "iopub.status.busy": "2021-03-16T14:41:26.430790Z",
     "iopub.status.idle": "2021-03-16T14:41:26.436621Z",
     "shell.execute_reply": "2021-03-16T14:41:26.435949Z"
    }
   },
   "outputs": [],
   "source": [
    "df.to_csv(os.path.join(data_dir, f\"{today}.csv\"), index=False)"
   ]
  },
  {
   "cell_type": "code",
   "execution_count": null,
   "metadata": {},
   "outputs": [],
   "source": []
  }
 ],
 "metadata": {
  "kernelspec": {
   "display_name": "Python 3",
   "language": "python",
   "name": "python3"
  },
  "language_info": {
   "codemirror_mode": {
    "name": "ipython",
    "version": 3
   },
   "file_extension": ".py",
   "mimetype": "text/x-python",
   "name": "python",
   "nbconvert_exporter": "python",
   "pygments_lexer": "ipython3",
   "version": "3.8.8"
  }
 },
 "nbformat": 4,
 "nbformat_minor": 4
}
