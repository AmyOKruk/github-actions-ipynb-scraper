{
 "cells": [
  {
   "cell_type": "markdown",
   "metadata": {},
   "source": [
    "# California COVID vaccinations scrape"
   ]
  },
  {
   "cell_type": "markdown",
   "metadata": {},
   "source": [
    "By [Amy O'Kruk](https://twitter.com/amyokruk)"
   ]
  },
  {
   "cell_type": "markdown",
   "metadata": {},
   "source": [
    "Downloads data on vaccine doses administered by county and statewide from a Tableau-powered dashboard from the California Department of Public Health."
   ]
  },
  {
   "cell_type": "code",
   "execution_count": 1,
   "metadata": {
    "execution": {
     "iopub.execute_input": "2021-03-20T03:45:04.906402Z",
     "iopub.status.busy": "2021-03-20T03:45:04.905787Z",
     "iopub.status.idle": "2021-03-20T03:45:05.340363Z",
     "shell.execute_reply": "2021-03-20T03:45:05.339340Z"
    }
   },
   "outputs": [],
   "source": [
    "import pandas as pd\n",
    "import requests\n",
    "from bs4 import BeautifulSoup\n",
    "import json\n",
    "import re\n",
    "import time\n",
    "from time import gmtime, strftime \n",
    "import os\n",
    "import pytz\n",
    "from datetime import datetime"
   ]
  },
  {
   "cell_type": "markdown",
   "metadata": {},
   "source": [
    "Scrape the dashboard page"
   ]
  },
  {
   "cell_type": "code",
   "execution_count": 2,
   "metadata": {
    "execution": {
     "iopub.execute_input": "2021-03-20T03:45:05.345834Z",
     "iopub.status.busy": "2021-03-20T03:45:05.343526Z",
     "iopub.status.idle": "2021-03-20T03:45:05.925279Z",
     "shell.execute_reply": "2021-03-20T03:45:05.924190Z"
    }
   },
   "outputs": [],
   "source": [
    "url = \"https://public.tableau.com/interactive/views/COVID-19VaccineDashboardPublic/Vaccine?:embed=y&:showVizHome=n&:apiID=host0\"\n",
    "\n",
    "r = requests.get(url)\n",
    "soup = BeautifulSoup(r.text, \"html.parser\")"
   ]
  },
  {
   "cell_type": "code",
   "execution_count": 3,
   "metadata": {
    "execution": {
     "iopub.execute_input": "2021-03-20T03:45:05.930000Z",
     "iopub.status.busy": "2021-03-20T03:45:05.929481Z",
     "iopub.status.idle": "2021-03-20T03:45:05.932716Z",
     "shell.execute_reply": "2021-03-20T03:45:05.933150Z"
    }
   },
   "outputs": [],
   "source": [
    "tableauData = json.loads(soup.find(\"textarea\",{\"id\": \"tsConfigContainer\"}).text)"
   ]
  },
  {
   "cell_type": "markdown",
   "metadata": {},
   "source": [
    "Get the link to the Tableau data"
   ]
  },
  {
   "cell_type": "code",
   "execution_count": 4,
   "metadata": {
    "execution": {
     "iopub.execute_input": "2021-03-20T03:45:05.936852Z",
     "iopub.status.busy": "2021-03-20T03:45:05.936329Z",
     "iopub.status.idle": "2021-03-20T03:45:05.939866Z",
     "shell.execute_reply": "2021-03-20T03:45:05.939413Z"
    }
   },
   "outputs": [],
   "source": [
    "dataUrl = f'https://public.tableau.com{tableauData[\"vizql_root\"]}/bootstrapSession/sessions/{tableauData[\"sessionid\"]}'"
   ]
  },
  {
   "cell_type": "code",
   "execution_count": 5,
   "metadata": {
    "execution": {
     "iopub.execute_input": "2021-03-20T03:45:05.946149Z",
     "iopub.status.busy": "2021-03-20T03:45:05.945669Z",
     "iopub.status.idle": "2021-03-20T03:45:06.281467Z",
     "shell.execute_reply": "2021-03-20T03:45:06.280666Z"
    }
   },
   "outputs": [],
   "source": [
    "r = requests.post(dataUrl, data= {\n",
    "    \"sheet_id\": tableauData[\"sheetId\"],\n",
    "})\n",
    "\n",
    "dataReg = re.search('\\d+;({.*})\\d+;({.*})', r.text, re.MULTILINE)\n",
    "data1 = json.loads(dataReg.group(2))\n",
    "\n",
    "dataJson = data1[\"secondaryInfo\"][\"presModelMap\"][\"dataDictionary\"][\"presModelHolder\"][\"genDataDictionaryPresModel\"][\"dataSegments\"][\"0\"][\"dataColumns\"]"
   ]
  },
  {
   "cell_type": "markdown",
   "metadata": {},
   "source": [
    "Isolate what you want"
   ]
  },
  {
   "cell_type": "code",
   "execution_count": 6,
   "metadata": {
    "execution": {
     "iopub.execute_input": "2021-03-20T03:45:06.285317Z",
     "iopub.status.busy": "2021-03-20T03:45:06.284793Z",
     "iopub.status.idle": "2021-03-20T03:45:06.287061Z",
     "shell.execute_reply": "2021-03-20T03:45:06.286610Z"
    }
   },
   "outputs": [],
   "source": [
    "counties = dataJson[2]['dataValues'][:58]"
   ]
  },
  {
   "cell_type": "code",
   "execution_count": 7,
   "metadata": {
    "execution": {
     "iopub.execute_input": "2021-03-20T03:45:06.290469Z",
     "iopub.status.busy": "2021-03-20T03:45:06.289927Z",
     "iopub.status.idle": "2021-03-20T03:45:06.292073Z",
     "shell.execute_reply": "2021-03-20T03:45:06.291625Z"
    }
   },
   "outputs": [],
   "source": [
    "doses = dataJson[0]['dataValues'][3:61]"
   ]
  },
  {
   "cell_type": "markdown",
   "metadata": {},
   "source": [
    "Data formatting"
   ]
  },
  {
   "cell_type": "code",
   "execution_count": 8,
   "metadata": {
    "execution": {
     "iopub.execute_input": "2021-03-20T03:45:06.295358Z",
     "iopub.status.busy": "2021-03-20T03:45:06.294854Z",
     "iopub.status.idle": "2021-03-20T03:45:06.297062Z",
     "shell.execute_reply": "2021-03-20T03:45:06.296613Z"
    }
   },
   "outputs": [],
   "source": [
    "zipped = dict(zip(counties, doses))"
   ]
  },
  {
   "cell_type": "code",
   "execution_count": 9,
   "metadata": {
    "execution": {
     "iopub.execute_input": "2021-03-20T03:45:06.302652Z",
     "iopub.status.busy": "2021-03-20T03:45:06.302111Z",
     "iopub.status.idle": "2021-03-20T03:45:06.304266Z",
     "shell.execute_reply": "2021-03-20T03:45:06.303819Z"
    }
   },
   "outputs": [],
   "source": [
    "df = pd.Series(zipped).reset_index()"
   ]
  },
  {
   "cell_type": "code",
   "execution_count": 10,
   "metadata": {
    "execution": {
     "iopub.execute_input": "2021-03-20T03:45:06.307852Z",
     "iopub.status.busy": "2021-03-20T03:45:06.307348Z",
     "iopub.status.idle": "2021-03-20T03:45:06.309568Z",
     "shell.execute_reply": "2021-03-20T03:45:06.309118Z"
    }
   },
   "outputs": [],
   "source": [
    "df.columns = ['location','doses']"
   ]
  },
  {
   "cell_type": "markdown",
   "metadata": {},
   "source": [
    "Grab the overall California total"
   ]
  },
  {
   "cell_type": "code",
   "execution_count": 11,
   "metadata": {
    "execution": {
     "iopub.execute_input": "2021-03-20T03:45:06.313022Z",
     "iopub.status.busy": "2021-03-20T03:45:06.312519Z",
     "iopub.status.idle": "2021-03-20T03:45:06.314696Z",
     "shell.execute_reply": "2021-03-20T03:45:06.314275Z"
    }
   },
   "outputs": [],
   "source": [
    "add = {'location':'California','doses':dataJson[0]['dataValues'][2]}"
   ]
  },
  {
   "cell_type": "code",
   "execution_count": 12,
   "metadata": {
    "execution": {
     "iopub.execute_input": "2021-03-20T03:45:06.320413Z",
     "iopub.status.busy": "2021-03-20T03:45:06.319909Z",
     "iopub.status.idle": "2021-03-20T03:45:06.321774Z",
     "shell.execute_reply": "2021-03-20T03:45:06.322170Z"
    }
   },
   "outputs": [],
   "source": [
    "df = df.append(add, ignore_index=True)"
   ]
  },
  {
   "cell_type": "code",
   "execution_count": 13,
   "metadata": {
    "execution": {
     "iopub.execute_input": "2021-03-20T03:45:06.326106Z",
     "iopub.status.busy": "2021-03-20T03:45:06.325637Z",
     "iopub.status.idle": "2021-03-20T03:45:06.327794Z",
     "shell.execute_reply": "2021-03-20T03:45:06.327380Z"
    }
   },
   "outputs": [],
   "source": [
    "df = df.sort_values(by='location')"
   ]
  },
  {
   "cell_type": "code",
   "execution_count": 14,
   "metadata": {
    "execution": {
     "iopub.execute_input": "2021-03-20T03:45:06.333223Z",
     "iopub.status.busy": "2021-03-20T03:45:06.332694Z",
     "iopub.status.idle": "2021-03-20T03:45:06.334969Z",
     "shell.execute_reply": "2021-03-20T03:45:06.334523Z"
    }
   },
   "outputs": [],
   "source": [
    "df = df[df.location == 'California'].append(df[df.location != 'California']).reset_index(drop=True)"
   ]
  },
  {
   "cell_type": "code",
   "execution_count": null,
   "metadata": {},
   "outputs": [],
   "source": []
  },
  {
   "cell_type": "code",
   "execution_count": 15,
   "metadata": {
    "execution": {
     "iopub.execute_input": "2021-03-20T03:45:06.337813Z",
     "iopub.status.busy": "2021-03-20T03:45:06.337310Z",
     "iopub.status.idle": "2021-03-20T03:45:06.353754Z",
     "shell.execute_reply": "2021-03-20T03:45:06.353295Z"
    }
   },
   "outputs": [],
   "source": [
    "tz = pytz.timezone(\"America/New_York\")"
   ]
  },
  {
   "cell_type": "code",
   "execution_count": 16,
   "metadata": {
    "execution": {
     "iopub.execute_input": "2021-03-20T03:45:06.357818Z",
     "iopub.status.busy": "2021-03-20T03:45:06.356682Z",
     "iopub.status.idle": "2021-03-20T03:45:06.358442Z",
     "shell.execute_reply": "2021-03-20T03:45:06.358881Z"
    }
   },
   "outputs": [],
   "source": [
    "today = datetime.now(tz).date()"
   ]
  },
  {
   "cell_type": "code",
   "execution_count": 17,
   "metadata": {
    "execution": {
     "iopub.execute_input": "2021-03-20T03:45:06.362562Z",
     "iopub.status.busy": "2021-03-20T03:45:06.361687Z",
     "iopub.status.idle": "2021-03-20T03:45:06.363583Z",
     "shell.execute_reply": "2021-03-20T03:45:06.363985Z"
    }
   },
   "outputs": [],
   "source": [
    "data_dir = os.path.join(os.path.abspath(\"\"), \"data\")"
   ]
  },
  {
   "cell_type": "code",
   "execution_count": 18,
   "metadata": {
    "execution": {
     "iopub.execute_input": "2021-03-20T03:45:06.367951Z",
     "iopub.status.busy": "2021-03-20T03:45:06.366854Z",
     "iopub.status.idle": "2021-03-20T03:45:06.371293Z",
     "shell.execute_reply": "2021-03-20T03:45:06.370814Z"
    }
   },
   "outputs": [],
   "source": [
    "df.to_csv(os.path.join(data_dir, f\"{today}.csv\"), index=False)"
   ]
  },
  {
   "cell_type": "code",
   "execution_count": null,
   "metadata": {},
   "outputs": [],
   "source": []
  }
 ],
 "metadata": {
  "kernelspec": {
   "display_name": "Python 3",
   "language": "python",
   "name": "python3"
  },
  "language_info": {
   "codemirror_mode": {
    "name": "ipython",
    "version": 3
   },
   "file_extension": ".py",
   "mimetype": "text/x-python",
   "name": "python",
   "nbconvert_exporter": "python",
   "pygments_lexer": "ipython3",
   "version": "3.8.8"
  }
 },
 "nbformat": 4,
 "nbformat_minor": 4
}
