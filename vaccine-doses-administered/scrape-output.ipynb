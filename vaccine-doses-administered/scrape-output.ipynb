{
 "cells": [
  {
   "cell_type": "markdown",
   "metadata": {},
   "source": [
    "# California COVID vaccinations scrape"
   ]
  },
  {
   "cell_type": "markdown",
   "metadata": {},
   "source": [
    "By [Amy O'Kruk](https://twitter.com/amyokruk)"
   ]
  },
  {
   "cell_type": "markdown",
   "metadata": {},
   "source": [
    "Downloads data on vaccine doses administered by county and statewide from a Tableau-powered dashboard from the California Department of Public Health."
   ]
  },
  {
   "cell_type": "code",
   "execution_count": 1,
   "metadata": {
    "execution": {
     "iopub.execute_input": "2021-03-23T02:31:55.793178Z",
     "iopub.status.busy": "2021-03-23T02:31:55.791009Z",
     "iopub.status.idle": "2021-03-23T02:31:56.201043Z",
     "shell.execute_reply": "2021-03-23T02:31:56.200001Z"
    }
   },
   "outputs": [],
   "source": [
    "import pandas as pd\n",
    "import requests\n",
    "from bs4 import BeautifulSoup\n",
    "import json\n",
    "import re\n",
    "import time\n",
    "from time import gmtime, strftime \n",
    "import os\n",
    "import pytz\n",
    "from datetime import datetime"
   ]
  },
  {
   "cell_type": "markdown",
   "metadata": {},
   "source": [
    "Scrape the dashboard page"
   ]
  },
  {
   "cell_type": "code",
   "execution_count": 2,
   "metadata": {
    "execution": {
     "iopub.execute_input": "2021-03-23T02:31:56.207392Z",
     "iopub.status.busy": "2021-03-23T02:31:56.204762Z",
     "iopub.status.idle": "2021-03-23T02:31:58.844586Z",
     "shell.execute_reply": "2021-03-23T02:31:58.845035Z"
    }
   },
   "outputs": [],
   "source": [
    "url = \"https://public.tableau.com/interactive/views/COVID-19VaccineDashboardPublic/Vaccine?:embed=y&:showVizHome=n&:apiID=host0\"\n",
    "\n",
    "r = requests.get(url)\n",
    "soup = BeautifulSoup(r.text, \"html.parser\")"
   ]
  },
  {
   "cell_type": "code",
   "execution_count": 3,
   "metadata": {
    "execution": {
     "iopub.execute_input": "2021-03-23T02:31:58.852637Z",
     "iopub.status.busy": "2021-03-23T02:31:58.850267Z",
     "iopub.status.idle": "2021-03-23T02:31:58.857370Z",
     "shell.execute_reply": "2021-03-23T02:31:58.856871Z"
    }
   },
   "outputs": [],
   "source": [
    "tableauData = json.loads(soup.find(\"textarea\",{\"id\": \"tsConfigContainer\"}).text)"
   ]
  },
  {
   "cell_type": "markdown",
   "metadata": {},
   "source": [
    "Get the link to the Tableau data"
   ]
  },
  {
   "cell_type": "code",
   "execution_count": 4,
   "metadata": {
    "execution": {
     "iopub.execute_input": "2021-03-23T02:31:58.862440Z",
     "iopub.status.busy": "2021-03-23T02:31:58.861780Z",
     "iopub.status.idle": "2021-03-23T02:31:58.863940Z",
     "shell.execute_reply": "2021-03-23T02:31:58.864532Z"
    }
   },
   "outputs": [],
   "source": [
    "dataUrl = f'https://public.tableau.com{tableauData[\"vizql_root\"]}/bootstrapSession/sessions/{tableauData[\"sessionid\"]}'"
   ]
  },
  {
   "cell_type": "code",
   "execution_count": 5,
   "metadata": {
    "execution": {
     "iopub.execute_input": "2021-03-23T02:31:58.872843Z",
     "iopub.status.busy": "2021-03-23T02:31:58.872225Z",
     "iopub.status.idle": "2021-03-23T02:32:24.013833Z",
     "shell.execute_reply": "2021-03-23T02:32:24.012830Z"
    }
   },
   "outputs": [],
   "source": [
    "r = requests.post(dataUrl, data= {\n",
    "    \"sheet_id\": tableauData[\"sheetId\"],\n",
    "})\n",
    "\n",
    "dataReg = re.search('\\d+;({.*})\\d+;({.*})', r.text, re.MULTILINE)\n",
    "data1 = json.loads(dataReg.group(2))\n",
    "\n",
    "dataJson = data1[\"secondaryInfo\"][\"presModelMap\"][\"dataDictionary\"][\"presModelHolder\"][\"genDataDictionaryPresModel\"][\"dataSegments\"][\"0\"][\"dataColumns\"]"
   ]
  },
  {
   "cell_type": "markdown",
   "metadata": {},
   "source": [
    "Isolate what you want"
   ]
  },
  {
   "cell_type": "code",
   "execution_count": 6,
   "metadata": {
    "execution": {
     "iopub.execute_input": "2021-03-23T02:32:24.017694Z",
     "iopub.status.busy": "2021-03-23T02:32:24.017173Z",
     "iopub.status.idle": "2021-03-23T02:32:24.021067Z",
     "shell.execute_reply": "2021-03-23T02:32:24.020112Z"
    }
   },
   "outputs": [],
   "source": [
    "counties = dataJson[2]['dataValues'][:58]"
   ]
  },
  {
   "cell_type": "code",
   "execution_count": 7,
   "metadata": {
    "execution": {
     "iopub.execute_input": "2021-03-23T02:32:24.024733Z",
     "iopub.status.busy": "2021-03-23T02:32:24.024178Z",
     "iopub.status.idle": "2021-03-23T02:32:24.027504Z",
     "shell.execute_reply": "2021-03-23T02:32:24.027015Z"
    }
   },
   "outputs": [],
   "source": [
    "doses = dataJson[0]['dataValues'][3:61]"
   ]
  },
  {
   "cell_type": "markdown",
   "metadata": {},
   "source": [
    "Data formatting"
   ]
  },
  {
   "cell_type": "code",
   "execution_count": 8,
   "metadata": {
    "execution": {
     "iopub.execute_input": "2021-03-23T02:32:24.031026Z",
     "iopub.status.busy": "2021-03-23T02:32:24.030509Z",
     "iopub.status.idle": "2021-03-23T02:32:24.034005Z",
     "shell.execute_reply": "2021-03-23T02:32:24.033545Z"
    }
   },
   "outputs": [],
   "source": [
    "zipped = dict(zip(counties, doses))"
   ]
  },
  {
   "cell_type": "code",
   "execution_count": 9,
   "metadata": {
    "execution": {
     "iopub.execute_input": "2021-03-23T02:32:24.040098Z",
     "iopub.status.busy": "2021-03-23T02:32:24.039579Z",
     "iopub.status.idle": "2021-03-23T02:32:24.043044Z",
     "shell.execute_reply": "2021-03-23T02:32:24.042556Z"
    }
   },
   "outputs": [],
   "source": [
    "df = pd.Series(zipped).reset_index()"
   ]
  },
  {
   "cell_type": "code",
   "execution_count": 10,
   "metadata": {
    "execution": {
     "iopub.execute_input": "2021-03-23T02:32:24.046659Z",
     "iopub.status.busy": "2021-03-23T02:32:24.046136Z",
     "iopub.status.idle": "2021-03-23T02:32:24.049621Z",
     "shell.execute_reply": "2021-03-23T02:32:24.049164Z"
    }
   },
   "outputs": [],
   "source": [
    "df.columns = ['location','doses']"
   ]
  },
  {
   "cell_type": "markdown",
   "metadata": {},
   "source": [
    "Grab the overall California total"
   ]
  },
  {
   "cell_type": "code",
   "execution_count": 11,
   "metadata": {
    "execution": {
     "iopub.execute_input": "2021-03-23T02:32:24.053267Z",
     "iopub.status.busy": "2021-03-23T02:32:24.052750Z",
     "iopub.status.idle": "2021-03-23T02:32:24.056193Z",
     "shell.execute_reply": "2021-03-23T02:32:24.055733Z"
    }
   },
   "outputs": [],
   "source": [
    "add = {'location':'California','doses':dataJson[0]['dataValues'][2]}"
   ]
  },
  {
   "cell_type": "code",
   "execution_count": 12,
   "metadata": {
    "execution": {
     "iopub.execute_input": "2021-03-23T02:32:24.062598Z",
     "iopub.status.busy": "2021-03-23T02:32:24.062081Z",
     "iopub.status.idle": "2021-03-23T02:32:24.065663Z",
     "shell.execute_reply": "2021-03-23T02:32:24.065149Z"
    }
   },
   "outputs": [],
   "source": [
    "df = df.append(add, ignore_index=True)"
   ]
  },
  {
   "cell_type": "code",
   "execution_count": 13,
   "metadata": {
    "execution": {
     "iopub.execute_input": "2021-03-23T02:32:24.070395Z",
     "iopub.status.busy": "2021-03-23T02:32:24.069875Z",
     "iopub.status.idle": "2021-03-23T02:32:24.073288Z",
     "shell.execute_reply": "2021-03-23T02:32:24.072832Z"
    }
   },
   "outputs": [],
   "source": [
    "df = df.sort_values(by='location')"
   ]
  },
  {
   "cell_type": "code",
   "execution_count": 14,
   "metadata": {
    "execution": {
     "iopub.execute_input": "2021-03-23T02:32:24.079309Z",
     "iopub.status.busy": "2021-03-23T02:32:24.078790Z",
     "iopub.status.idle": "2021-03-23T02:32:24.082456Z",
     "shell.execute_reply": "2021-03-23T02:32:24.081775Z"
    }
   },
   "outputs": [],
   "source": [
    "df = df[df.location == 'California'].append(df[df.location != 'California']).reset_index(drop=True)"
   ]
  },
  {
   "cell_type": "code",
   "execution_count": null,
   "metadata": {},
   "outputs": [],
   "source": []
  },
  {
   "cell_type": "code",
   "execution_count": 15,
   "metadata": {
    "execution": {
     "iopub.execute_input": "2021-03-23T02:32:24.086634Z",
     "iopub.status.busy": "2021-03-23T02:32:24.085755Z",
     "iopub.status.idle": "2021-03-23T02:32:24.108545Z",
     "shell.execute_reply": "2021-03-23T02:32:24.107966Z"
    }
   },
   "outputs": [],
   "source": [
    "tz = pytz.timezone(\"America/New_York\")"
   ]
  },
  {
   "cell_type": "code",
   "execution_count": 16,
   "metadata": {
    "execution": {
     "iopub.execute_input": "2021-03-23T02:32:24.112338Z",
     "iopub.status.busy": "2021-03-23T02:32:24.111815Z",
     "iopub.status.idle": "2021-03-23T02:32:24.115198Z",
     "shell.execute_reply": "2021-03-23T02:32:24.114728Z"
    }
   },
   "outputs": [],
   "source": [
    "today = datetime.now(tz).date()"
   ]
  },
  {
   "cell_type": "code",
   "execution_count": 17,
   "metadata": {
    "execution": {
     "iopub.execute_input": "2021-03-23T02:32:24.120539Z",
     "iopub.status.busy": "2021-03-23T02:32:24.119893Z",
     "iopub.status.idle": "2021-03-23T02:32:24.122852Z",
     "shell.execute_reply": "2021-03-23T02:32:24.123265Z"
    }
   },
   "outputs": [],
   "source": [
    "data_dir = os.path.join(os.path.abspath(\"\"), \"data\")"
   ]
  },
  {
   "cell_type": "code",
   "execution_count": 18,
   "metadata": {
    "execution": {
     "iopub.execute_input": "2021-03-23T02:32:24.127937Z",
     "iopub.status.busy": "2021-03-23T02:32:24.126834Z",
     "iopub.status.idle": "2021-03-23T02:32:24.131039Z",
     "shell.execute_reply": "2021-03-23T02:32:24.131442Z"
    }
   },
   "outputs": [],
   "source": [
    "df.to_csv(os.path.join(data_dir, f\"{today}.csv\"), index=False)"
   ]
  },
  {
   "cell_type": "code",
   "execution_count": null,
   "metadata": {},
   "outputs": [],
   "source": []
  }
 ],
 "metadata": {
  "kernelspec": {
   "display_name": "Python 3",
   "language": "python",
   "name": "python3"
  },
  "language_info": {
   "codemirror_mode": {
    "name": "ipython",
    "version": 3
   },
   "file_extension": ".py",
   "mimetype": "text/x-python",
   "name": "python",
   "nbconvert_exporter": "python",
   "pygments_lexer": "ipython3",
   "version": "3.8.8"
  }
 },
 "nbformat": 4,
 "nbformat_minor": 4
}
