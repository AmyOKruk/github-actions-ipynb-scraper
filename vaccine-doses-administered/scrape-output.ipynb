{
 "cells": [
  {
   "cell_type": "markdown",
   "metadata": {},
   "source": [
    "# California COVID vaccinations scrape"
   ]
  },
  {
   "cell_type": "markdown",
   "metadata": {},
   "source": [
    "By [Amy O'Kruk](https://twitter.com/amyokruk)"
   ]
  },
  {
   "cell_type": "markdown",
   "metadata": {},
   "source": [
    "Downloads data on vaccine doses administered by county and statewide from a Tableau-powered dashboard from the California Department of Public Health."
   ]
  },
  {
   "cell_type": "code",
   "execution_count": 1,
   "metadata": {
    "execution": {
     "iopub.execute_input": "2021-03-15T08:15:27.601791Z",
     "iopub.status.busy": "2021-03-15T08:15:27.601127Z",
     "iopub.status.idle": "2021-03-15T08:15:28.026113Z",
     "shell.execute_reply": "2021-03-15T08:15:28.024987Z"
    }
   },
   "outputs": [],
   "source": [
    "import pandas as pd\n",
    "import requests\n",
    "from bs4 import BeautifulSoup\n",
    "import json\n",
    "import re\n",
    "import time\n",
    "from time import gmtime, strftime \n",
    "import os\n",
    "import pytz\n",
    "from datetime import datetime"
   ]
  },
  {
   "cell_type": "markdown",
   "metadata": {},
   "source": [
    "Scrape the dashboard page"
   ]
  },
  {
   "cell_type": "code",
   "execution_count": 2,
   "metadata": {
    "execution": {
     "iopub.execute_input": "2021-03-15T08:15:28.032311Z",
     "iopub.status.busy": "2021-03-15T08:15:28.030143Z",
     "iopub.status.idle": "2021-03-15T08:15:28.918595Z",
     "shell.execute_reply": "2021-03-15T08:15:28.917947Z"
    }
   },
   "outputs": [],
   "source": [
    "url = \"https://public.tableau.com/interactive/views/COVID-19VaccineDashboardPublic/Vaccine?:embed=y&:showVizHome=n&:apiID=host0\"\n",
    "\n",
    "r = requests.get(url)\n",
    "soup = BeautifulSoup(r.text, \"html.parser\")"
   ]
  },
  {
   "cell_type": "code",
   "execution_count": 3,
   "metadata": {
    "execution": {
     "iopub.execute_input": "2021-03-15T08:15:28.923525Z",
     "iopub.status.busy": "2021-03-15T08:15:28.922995Z",
     "iopub.status.idle": "2021-03-15T08:15:28.927034Z",
     "shell.execute_reply": "2021-03-15T08:15:28.926548Z"
    }
   },
   "outputs": [],
   "source": [
    "tableauData = json.loads(soup.find(\"textarea\",{\"id\": \"tsConfigContainer\"}).text)"
   ]
  },
  {
   "cell_type": "markdown",
   "metadata": {},
   "source": [
    "Get the link to the Tableau data"
   ]
  },
  {
   "cell_type": "code",
   "execution_count": 4,
   "metadata": {
    "execution": {
     "iopub.execute_input": "2021-03-15T08:15:28.931256Z",
     "iopub.status.busy": "2021-03-15T08:15:28.930293Z",
     "iopub.status.idle": "2021-03-15T08:15:28.932409Z",
     "shell.execute_reply": "2021-03-15T08:15:28.932849Z"
    }
   },
   "outputs": [],
   "source": [
    "dataUrl = f'https://public.tableau.com{tableauData[\"vizql_root\"]}/bootstrapSession/sessions/{tableauData[\"sessionid\"]}'"
   ]
  },
  {
   "cell_type": "code",
   "execution_count": 5,
   "metadata": {
    "execution": {
     "iopub.execute_input": "2021-03-15T08:15:28.939691Z",
     "iopub.status.busy": "2021-03-15T08:15:28.938949Z",
     "iopub.status.idle": "2021-03-15T08:15:29.154513Z",
     "shell.execute_reply": "2021-03-15T08:15:29.153989Z"
    }
   },
   "outputs": [],
   "source": [
    "r = requests.post(dataUrl, data= {\n",
    "    \"sheet_id\": tableauData[\"sheetId\"],\n",
    "})\n",
    "\n",
    "dataReg = re.search('\\d+;({.*})\\d+;({.*})', r.text, re.MULTILINE)\n",
    "data1 = json.loads(dataReg.group(2))\n",
    "\n",
    "dataJson = data1[\"secondaryInfo\"][\"presModelMap\"][\"dataDictionary\"][\"presModelHolder\"][\"genDataDictionaryPresModel\"][\"dataSegments\"][\"0\"][\"dataColumns\"]"
   ]
  },
  {
   "cell_type": "markdown",
   "metadata": {},
   "source": [
    "Isolate what you want"
   ]
  },
  {
   "cell_type": "code",
   "execution_count": 6,
   "metadata": {
    "execution": {
     "iopub.execute_input": "2021-03-15T08:15:29.160929Z",
     "iopub.status.busy": "2021-03-15T08:15:29.159986Z",
     "iopub.status.idle": "2021-03-15T08:15:29.162592Z",
     "shell.execute_reply": "2021-03-15T08:15:29.162050Z"
    }
   },
   "outputs": [],
   "source": [
    "counties = dataJson[2]['dataValues'][:58]"
   ]
  },
  {
   "cell_type": "code",
   "execution_count": 7,
   "metadata": {
    "execution": {
     "iopub.execute_input": "2021-03-15T08:15:29.168194Z",
     "iopub.status.busy": "2021-03-15T08:15:29.166982Z",
     "iopub.status.idle": "2021-03-15T08:15:29.168895Z",
     "shell.execute_reply": "2021-03-15T08:15:29.169330Z"
    }
   },
   "outputs": [],
   "source": [
    "doses = dataJson[0]['dataValues'][3:61]"
   ]
  },
  {
   "cell_type": "markdown",
   "metadata": {},
   "source": [
    "Data formatting"
   ]
  },
  {
   "cell_type": "code",
   "execution_count": 8,
   "metadata": {
    "execution": {
     "iopub.execute_input": "2021-03-15T08:15:29.173402Z",
     "iopub.status.busy": "2021-03-15T08:15:29.172479Z",
     "iopub.status.idle": "2021-03-15T08:15:29.174640Z",
     "shell.execute_reply": "2021-03-15T08:15:29.175041Z"
    }
   },
   "outputs": [],
   "source": [
    "zipped = dict(zip(counties, doses))"
   ]
  },
  {
   "cell_type": "code",
   "execution_count": 9,
   "metadata": {
    "execution": {
     "iopub.execute_input": "2021-03-15T08:15:29.181552Z",
     "iopub.status.busy": "2021-03-15T08:15:29.180241Z",
     "iopub.status.idle": "2021-03-15T08:15:29.182153Z",
     "shell.execute_reply": "2021-03-15T08:15:29.182583Z"
    }
   },
   "outputs": [],
   "source": [
    "df = pd.Series(zipped).reset_index()"
   ]
  },
  {
   "cell_type": "code",
   "execution_count": 10,
   "metadata": {
    "execution": {
     "iopub.execute_input": "2021-03-15T08:15:29.187006Z",
     "iopub.status.busy": "2021-03-15T08:15:29.185822Z",
     "iopub.status.idle": "2021-03-15T08:15:29.187663Z",
     "shell.execute_reply": "2021-03-15T08:15:29.188092Z"
    }
   },
   "outputs": [],
   "source": [
    "df.columns = ['location','doses']"
   ]
  },
  {
   "cell_type": "markdown",
   "metadata": {},
   "source": [
    "Grab the overall California total"
   ]
  },
  {
   "cell_type": "code",
   "execution_count": 11,
   "metadata": {
    "execution": {
     "iopub.execute_input": "2021-03-15T08:15:29.192920Z",
     "iopub.status.busy": "2021-03-15T08:15:29.192393Z",
     "iopub.status.idle": "2021-03-15T08:15:29.195254Z",
     "shell.execute_reply": "2021-03-15T08:15:29.194818Z"
    }
   },
   "outputs": [],
   "source": [
    "add = {'location':'California','doses':dataJson[0]['dataValues'][2]}"
   ]
  },
  {
   "cell_type": "code",
   "execution_count": 12,
   "metadata": {
    "execution": {
     "iopub.execute_input": "2021-03-15T08:15:29.202256Z",
     "iopub.status.busy": "2021-03-15T08:15:29.201006Z",
     "iopub.status.idle": "2021-03-15T08:15:29.202869Z",
     "shell.execute_reply": "2021-03-15T08:15:29.203299Z"
    }
   },
   "outputs": [],
   "source": [
    "df = df.append(add, ignore_index=True)"
   ]
  },
  {
   "cell_type": "code",
   "execution_count": 13,
   "metadata": {
    "execution": {
     "iopub.execute_input": "2021-03-15T08:15:29.208371Z",
     "iopub.status.busy": "2021-03-15T08:15:29.207222Z",
     "iopub.status.idle": "2021-03-15T08:15:29.208971Z",
     "shell.execute_reply": "2021-03-15T08:15:29.209396Z"
    }
   },
   "outputs": [],
   "source": [
    "df = df.sort_values(by='location')"
   ]
  },
  {
   "cell_type": "code",
   "execution_count": 14,
   "metadata": {
    "execution": {
     "iopub.execute_input": "2021-03-15T08:15:29.215767Z",
     "iopub.status.busy": "2021-03-15T08:15:29.214586Z",
     "iopub.status.idle": "2021-03-15T08:15:29.216461Z",
     "shell.execute_reply": "2021-03-15T08:15:29.216899Z"
    }
   },
   "outputs": [],
   "source": [
    "df = df[df.location == 'California'].append(df[df.location != 'California']).reset_index(drop=True)"
   ]
  },
  {
   "cell_type": "code",
   "execution_count": null,
   "metadata": {},
   "outputs": [],
   "source": []
  },
  {
   "cell_type": "code",
   "execution_count": 15,
   "metadata": {
    "execution": {
     "iopub.execute_input": "2021-03-15T08:15:29.220232Z",
     "iopub.status.busy": "2021-03-15T08:15:29.219716Z",
     "iopub.status.idle": "2021-03-15T08:15:29.239669Z",
     "shell.execute_reply": "2021-03-15T08:15:29.239210Z"
    }
   },
   "outputs": [],
   "source": [
    "tz = pytz.timezone(\"America/New_York\")"
   ]
  },
  {
   "cell_type": "code",
   "execution_count": 16,
   "metadata": {
    "execution": {
     "iopub.execute_input": "2021-03-15T08:15:29.244163Z",
     "iopub.status.busy": "2021-03-15T08:15:29.242867Z",
     "iopub.status.idle": "2021-03-15T08:15:29.244788Z",
     "shell.execute_reply": "2021-03-15T08:15:29.245218Z"
    }
   },
   "outputs": [],
   "source": [
    "today = datetime.now(tz).date()"
   ]
  },
  {
   "cell_type": "code",
   "execution_count": 17,
   "metadata": {
    "execution": {
     "iopub.execute_input": "2021-03-15T08:15:29.249613Z",
     "iopub.status.busy": "2021-03-15T08:15:29.248498Z",
     "iopub.status.idle": "2021-03-15T08:15:29.250209Z",
     "shell.execute_reply": "2021-03-15T08:15:29.250633Z"
    }
   },
   "outputs": [],
   "source": [
    "data_dir = os.path.join(os.path.abspath(\"\"), \"data\")"
   ]
  },
  {
   "cell_type": "code",
   "execution_count": 18,
   "metadata": {
    "execution": {
     "iopub.execute_input": "2021-03-15T08:15:29.254565Z",
     "iopub.status.busy": "2021-03-15T08:15:29.254037Z",
     "iopub.status.idle": "2021-03-15T08:15:29.270988Z",
     "shell.execute_reply": "2021-03-15T08:15:29.272070Z"
    }
   },
   "outputs": [],
   "source": [
    "df.to_csv(os.path.join(data_dir, f\"{today}.csv\"), index=False)"
   ]
  },
  {
   "cell_type": "code",
   "execution_count": null,
   "metadata": {},
   "outputs": [],
   "source": []
  }
 ],
 "metadata": {
  "kernelspec": {
   "display_name": "Python 3",
   "language": "python",
   "name": "python3"
  },
  "language_info": {
   "codemirror_mode": {
    "name": "ipython",
    "version": 3
   },
   "file_extension": ".py",
   "mimetype": "text/x-python",
   "name": "python",
   "nbconvert_exporter": "python",
   "pygments_lexer": "ipython3",
   "version": "3.8.8"
  }
 },
 "nbformat": 4,
 "nbformat_minor": 4
}
