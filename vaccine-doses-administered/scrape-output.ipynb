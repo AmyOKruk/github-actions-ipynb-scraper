{
 "cells": [
  {
   "cell_type": "markdown",
   "metadata": {},
   "source": [
    "# California COVID vaccinations scrape"
   ]
  },
  {
   "cell_type": "markdown",
   "metadata": {},
   "source": [
    "By [Amy O'Kruk](https://twitter.com/amyokruk)"
   ]
  },
  {
   "cell_type": "markdown",
   "metadata": {},
   "source": [
    "Downloads data on vaccine doses administered by county and statewide from a Tableau-powered dashboard from the California Department of Public Health."
   ]
  },
  {
   "cell_type": "code",
   "execution_count": 1,
   "metadata": {
    "execution": {
     "iopub.execute_input": "2021-03-10T06:14:18.481501Z",
     "iopub.status.busy": "2021-03-10T06:14:18.480842Z",
     "iopub.status.idle": "2021-03-10T06:14:18.917531Z",
     "shell.execute_reply": "2021-03-10T06:14:18.916925Z"
    }
   },
   "outputs": [],
   "source": [
    "import pandas as pd\n",
    "import requests\n",
    "from bs4 import BeautifulSoup\n",
    "import json\n",
    "import re\n",
    "import time\n",
    "from time import gmtime, strftime \n",
    "import os\n",
    "import pytz\n",
    "from datetime import datetime"
   ]
  },
  {
   "cell_type": "markdown",
   "metadata": {},
   "source": [
    "Scrape the dashboard page"
   ]
  },
  {
   "cell_type": "code",
   "execution_count": 2,
   "metadata": {
    "execution": {
     "iopub.execute_input": "2021-03-10T06:14:18.923260Z",
     "iopub.status.busy": "2021-03-10T06:14:18.921410Z",
     "iopub.status.idle": "2021-03-10T06:14:19.360763Z",
     "shell.execute_reply": "2021-03-10T06:14:19.360247Z"
    }
   },
   "outputs": [],
   "source": [
    "url = \"https://public.tableau.com/interactive/views/COVID-19VaccineDashboardPublic/Vaccine?:embed=y&:showVizHome=n&:apiID=host0\"\n",
    "\n",
    "r = requests.get(url)\n",
    "soup = BeautifulSoup(r.text, \"html.parser\")"
   ]
  },
  {
   "cell_type": "code",
   "execution_count": 3,
   "metadata": {
    "execution": {
     "iopub.execute_input": "2021-03-10T06:14:19.365830Z",
     "iopub.status.busy": "2021-03-10T06:14:19.365224Z",
     "iopub.status.idle": "2021-03-10T06:14:19.371203Z",
     "shell.execute_reply": "2021-03-10T06:14:19.371662Z"
    }
   },
   "outputs": [],
   "source": [
    "tableauData = json.loads(soup.find(\"textarea\",{\"id\": \"tsConfigContainer\"}).text)"
   ]
  },
  {
   "cell_type": "markdown",
   "metadata": {},
   "source": [
    "Get the link to the Tableau data"
   ]
  },
  {
   "cell_type": "code",
   "execution_count": 4,
   "metadata": {
    "execution": {
     "iopub.execute_input": "2021-03-10T06:14:19.376154Z",
     "iopub.status.busy": "2021-03-10T06:14:19.374887Z",
     "iopub.status.idle": "2021-03-10T06:14:19.376789Z",
     "shell.execute_reply": "2021-03-10T06:14:19.377274Z"
    }
   },
   "outputs": [],
   "source": [
    "dataUrl = f'https://public.tableau.com{tableauData[\"vizql_root\"]}/bootstrapSession/sessions/{tableauData[\"sessionid\"]}'"
   ]
  },
  {
   "cell_type": "code",
   "execution_count": 5,
   "metadata": {
    "execution": {
     "iopub.execute_input": "2021-03-10T06:14:19.385157Z",
     "iopub.status.busy": "2021-03-10T06:14:19.384531Z",
     "iopub.status.idle": "2021-03-10T06:14:19.906994Z",
     "shell.execute_reply": "2021-03-10T06:14:19.906060Z"
    }
   },
   "outputs": [],
   "source": [
    "r = requests.post(dataUrl, data= {\n",
    "    \"sheet_id\": tableauData[\"sheetId\"],\n",
    "})\n",
    "\n",
    "dataReg = re.search('\\d+;({.*})\\d+;({.*})', r.text, re.MULTILINE)\n",
    "data1 = json.loads(dataReg.group(2))\n",
    "\n",
    "dataJson = data1[\"secondaryInfo\"][\"presModelMap\"][\"dataDictionary\"][\"presModelHolder\"][\"genDataDictionaryPresModel\"][\"dataSegments\"][\"0\"][\"dataColumns\"]"
   ]
  },
  {
   "cell_type": "markdown",
   "metadata": {},
   "source": [
    "Isolate what you want"
   ]
  },
  {
   "cell_type": "code",
   "execution_count": 6,
   "metadata": {
    "execution": {
     "iopub.execute_input": "2021-03-10T06:14:19.912366Z",
     "iopub.status.busy": "2021-03-10T06:14:19.910424Z",
     "iopub.status.idle": "2021-03-10T06:14:19.913073Z",
     "shell.execute_reply": "2021-03-10T06:14:19.913564Z"
    }
   },
   "outputs": [],
   "source": [
    "counties = dataJson[2]['dataValues'][:58]"
   ]
  },
  {
   "cell_type": "code",
   "execution_count": 7,
   "metadata": {
    "execution": {
     "iopub.execute_input": "2021-03-10T06:14:19.918130Z",
     "iopub.status.busy": "2021-03-10T06:14:19.916770Z",
     "iopub.status.idle": "2021-03-10T06:14:19.918765Z",
     "shell.execute_reply": "2021-03-10T06:14:19.919254Z"
    }
   },
   "outputs": [],
   "source": [
    "doses = dataJson[0]['dataValues'][3:61]"
   ]
  },
  {
   "cell_type": "markdown",
   "metadata": {},
   "source": [
    "Data formatting"
   ]
  },
  {
   "cell_type": "code",
   "execution_count": 8,
   "metadata": {
    "execution": {
     "iopub.execute_input": "2021-03-10T06:14:19.923829Z",
     "iopub.status.busy": "2021-03-10T06:14:19.922415Z",
     "iopub.status.idle": "2021-03-10T06:14:19.924465Z",
     "shell.execute_reply": "2021-03-10T06:14:19.924960Z"
    }
   },
   "outputs": [],
   "source": [
    "zipped = dict(zip(counties, doses))"
   ]
  },
  {
   "cell_type": "code",
   "execution_count": 9,
   "metadata": {
    "execution": {
     "iopub.execute_input": "2021-03-10T06:14:19.931996Z",
     "iopub.status.busy": "2021-03-10T06:14:19.930577Z",
     "iopub.status.idle": "2021-03-10T06:14:19.932636Z",
     "shell.execute_reply": "2021-03-10T06:14:19.933122Z"
    }
   },
   "outputs": [],
   "source": [
    "df = pd.Series(zipped).reset_index()"
   ]
  },
  {
   "cell_type": "code",
   "execution_count": 10,
   "metadata": {
    "execution": {
     "iopub.execute_input": "2021-03-10T06:14:19.937680Z",
     "iopub.status.busy": "2021-03-10T06:14:19.936384Z",
     "iopub.status.idle": "2021-03-10T06:14:19.938337Z",
     "shell.execute_reply": "2021-03-10T06:14:19.938825Z"
    }
   },
   "outputs": [],
   "source": [
    "df.columns = ['location','doses']"
   ]
  },
  {
   "cell_type": "markdown",
   "metadata": {},
   "source": [
    "Grab the overall California total"
   ]
  },
  {
   "cell_type": "code",
   "execution_count": 11,
   "metadata": {
    "execution": {
     "iopub.execute_input": "2021-03-10T06:14:19.943471Z",
     "iopub.status.busy": "2021-03-10T06:14:19.942085Z",
     "iopub.status.idle": "2021-03-10T06:14:19.944108Z",
     "shell.execute_reply": "2021-03-10T06:14:19.944595Z"
    }
   },
   "outputs": [],
   "source": [
    "add = {'location':'California','doses':dataJson[0]['dataValues'][2]}"
   ]
  },
  {
   "cell_type": "code",
   "execution_count": 12,
   "metadata": {
    "execution": {
     "iopub.execute_input": "2021-03-10T06:14:19.951890Z",
     "iopub.status.busy": "2021-03-10T06:14:19.950611Z",
     "iopub.status.idle": "2021-03-10T06:14:19.952525Z",
     "shell.execute_reply": "2021-03-10T06:14:19.953010Z"
    }
   },
   "outputs": [],
   "source": [
    "df = df.append(add, ignore_index=True)"
   ]
  },
  {
   "cell_type": "code",
   "execution_count": 13,
   "metadata": {
    "execution": {
     "iopub.execute_input": "2021-03-10T06:14:19.958141Z",
     "iopub.status.busy": "2021-03-10T06:14:19.956861Z",
     "iopub.status.idle": "2021-03-10T06:14:19.959817Z",
     "shell.execute_reply": "2021-03-10T06:14:19.960315Z"
    }
   },
   "outputs": [],
   "source": [
    "df = df.sort_values(by='location')"
   ]
  },
  {
   "cell_type": "code",
   "execution_count": 14,
   "metadata": {
    "execution": {
     "iopub.execute_input": "2021-03-10T06:14:19.967787Z",
     "iopub.status.busy": "2021-03-10T06:14:19.966429Z",
     "iopub.status.idle": "2021-03-10T06:14:19.968491Z",
     "shell.execute_reply": "2021-03-10T06:14:19.968977Z"
    }
   },
   "outputs": [],
   "source": [
    "df = df[df.location == 'California'].append(df[df.location != 'California']).reset_index(drop=True)"
   ]
  },
  {
   "cell_type": "code",
   "execution_count": null,
   "metadata": {},
   "outputs": [],
   "source": []
  },
  {
   "cell_type": "code",
   "execution_count": 15,
   "metadata": {
    "execution": {
     "iopub.execute_input": "2021-03-10T06:14:19.972708Z",
     "iopub.status.busy": "2021-03-10T06:14:19.972125Z",
     "iopub.status.idle": "2021-03-10T06:14:19.991493Z",
     "shell.execute_reply": "2021-03-10T06:14:19.990898Z"
    }
   },
   "outputs": [],
   "source": [
    "tz = pytz.timezone(\"America/New_York\")"
   ]
  },
  {
   "cell_type": "code",
   "execution_count": 16,
   "metadata": {
    "execution": {
     "iopub.execute_input": "2021-03-10T06:14:19.996071Z",
     "iopub.status.busy": "2021-03-10T06:14:19.994674Z",
     "iopub.status.idle": "2021-03-10T06:14:19.996717Z",
     "shell.execute_reply": "2021-03-10T06:14:19.997204Z"
    }
   },
   "outputs": [],
   "source": [
    "today = datetime.now(tz).date()"
   ]
  },
  {
   "cell_type": "code",
   "execution_count": 17,
   "metadata": {
    "execution": {
     "iopub.execute_input": "2021-03-10T06:14:20.001957Z",
     "iopub.status.busy": "2021-03-10T06:14:20.000582Z",
     "iopub.status.idle": "2021-03-10T06:14:20.002590Z",
     "shell.execute_reply": "2021-03-10T06:14:20.003072Z"
    }
   },
   "outputs": [],
   "source": [
    "data_dir = os.path.join(os.path.abspath(\"\"), \"data\")"
   ]
  },
  {
   "cell_type": "code",
   "execution_count": 18,
   "metadata": {
    "execution": {
     "iopub.execute_input": "2021-03-10T06:14:20.008141Z",
     "iopub.status.busy": "2021-03-10T06:14:20.006994Z",
     "iopub.status.idle": "2021-03-10T06:14:20.011686Z",
     "shell.execute_reply": "2021-03-10T06:14:20.011205Z"
    }
   },
   "outputs": [],
   "source": [
    "df.to_csv(os.path.join(data_dir, f\"{today}.csv\"), index=False)"
   ]
  },
  {
   "cell_type": "code",
   "execution_count": null,
   "metadata": {},
   "outputs": [],
   "source": []
  }
 ],
 "metadata": {
  "kernelspec": {
   "display_name": "Python 3",
   "language": "python",
   "name": "python3"
  },
  "language_info": {
   "codemirror_mode": {
    "name": "ipython",
    "version": 3
   },
   "file_extension": ".py",
   "mimetype": "text/x-python",
   "name": "python",
   "nbconvert_exporter": "python",
   "pygments_lexer": "ipython3",
   "version": "3.8.8"
  }
 },
 "nbformat": 4,
 "nbformat_minor": 4
}
