{
 "cells": [
  {
   "cell_type": "markdown",
   "metadata": {},
   "source": [
    "# California COVID vaccinations scrape"
   ]
  },
  {
   "cell_type": "markdown",
   "metadata": {},
   "source": [
    "By [Amy O'Kruk](https://twitter.com/amyokruk)"
   ]
  },
  {
   "cell_type": "markdown",
   "metadata": {},
   "source": [
    "Downloads data on vaccine doses administered by county and statewide from a Tableau-powered dashboard from the California Department of Public Health."
   ]
  },
  {
   "cell_type": "code",
   "execution_count": 1,
   "metadata": {
    "execution": {
     "iopub.execute_input": "2021-03-16T14:13:30.975173Z",
     "iopub.status.busy": "2021-03-16T14:13:30.974467Z",
     "iopub.status.idle": "2021-03-16T14:13:32.802352Z",
     "shell.execute_reply": "2021-03-16T14:13:32.800903Z"
    }
   },
   "outputs": [],
   "source": [
    "import pandas as pd\n",
    "import requests\n",
    "from bs4 import BeautifulSoup\n",
    "import json\n",
    "import re\n",
    "import time\n",
    "from time import gmtime, strftime \n",
    "import os\n",
    "import pytz\n",
    "from datetime import datetime"
   ]
  },
  {
   "cell_type": "markdown",
   "metadata": {},
   "source": [
    "Scrape the dashboard page"
   ]
  },
  {
   "cell_type": "code",
   "execution_count": 2,
   "metadata": {
    "execution": {
     "iopub.execute_input": "2021-03-16T14:13:32.809824Z",
     "iopub.status.busy": "2021-03-16T14:13:32.809110Z",
     "iopub.status.idle": "2021-03-16T14:13:33.129198Z",
     "shell.execute_reply": "2021-03-16T14:13:33.128651Z"
    }
   },
   "outputs": [],
   "source": [
    "url = \"https://public.tableau.com/interactive/views/COVID-19VaccineDashboardPublic/Vaccine?:embed=y&:showVizHome=n&:apiID=host0\"\n",
    "\n",
    "r = requests.get(url)\n",
    "soup = BeautifulSoup(r.text, \"html.parser\")"
   ]
  },
  {
   "cell_type": "code",
   "execution_count": 3,
   "metadata": {
    "execution": {
     "iopub.execute_input": "2021-03-16T14:13:33.135595Z",
     "iopub.status.busy": "2021-03-16T14:13:33.134072Z",
     "iopub.status.idle": "2021-03-16T14:13:33.136411Z",
     "shell.execute_reply": "2021-03-16T14:13:33.136921Z"
    }
   },
   "outputs": [],
   "source": [
    "tableauData = json.loads(soup.find(\"textarea\",{\"id\": \"tsConfigContainer\"}).text)"
   ]
  },
  {
   "cell_type": "markdown",
   "metadata": {},
   "source": [
    "Get the link to the Tableau data"
   ]
  },
  {
   "cell_type": "code",
   "execution_count": 4,
   "metadata": {
    "execution": {
     "iopub.execute_input": "2021-03-16T14:13:33.142064Z",
     "iopub.status.busy": "2021-03-16T14:13:33.140571Z",
     "iopub.status.idle": "2021-03-16T14:13:33.143016Z",
     "shell.execute_reply": "2021-03-16T14:13:33.143539Z"
    }
   },
   "outputs": [],
   "source": [
    "dataUrl = f'https://public.tableau.com{tableauData[\"vizql_root\"]}/bootstrapSession/sessions/{tableauData[\"sessionid\"]}'"
   ]
  },
  {
   "cell_type": "code",
   "execution_count": 5,
   "metadata": {
    "execution": {
     "iopub.execute_input": "2021-03-16T14:13:33.151982Z",
     "iopub.status.busy": "2021-03-16T14:13:33.151368Z",
     "iopub.status.idle": "2021-03-16T14:13:33.439143Z",
     "shell.execute_reply": "2021-03-16T14:13:33.439832Z"
    }
   },
   "outputs": [],
   "source": [
    "r = requests.post(dataUrl, data= {\n",
    "    \"sheet_id\": tableauData[\"sheetId\"],\n",
    "})\n",
    "\n",
    "dataReg = re.search('\\d+;({.*})\\d+;({.*})', r.text, re.MULTILINE)\n",
    "data1 = json.loads(dataReg.group(2))\n",
    "\n",
    "dataJson = data1[\"secondaryInfo\"][\"presModelMap\"][\"dataDictionary\"][\"presModelHolder\"][\"genDataDictionaryPresModel\"][\"dataSegments\"][\"0\"][\"dataColumns\"]"
   ]
  },
  {
   "cell_type": "markdown",
   "metadata": {},
   "source": [
    "Isolate what you want"
   ]
  },
  {
   "cell_type": "code",
   "execution_count": 6,
   "metadata": {
    "execution": {
     "iopub.execute_input": "2021-03-16T14:13:33.445853Z",
     "iopub.status.busy": "2021-03-16T14:13:33.444064Z",
     "iopub.status.idle": "2021-03-16T14:13:33.446599Z",
     "shell.execute_reply": "2021-03-16T14:13:33.447146Z"
    }
   },
   "outputs": [],
   "source": [
    "counties = dataJson[2]['dataValues'][:58]"
   ]
  },
  {
   "cell_type": "code",
   "execution_count": 7,
   "metadata": {
    "execution": {
     "iopub.execute_input": "2021-03-16T14:13:33.452869Z",
     "iopub.status.busy": "2021-03-16T14:13:33.451482Z",
     "iopub.status.idle": "2021-03-16T14:13:33.453506Z",
     "shell.execute_reply": "2021-03-16T14:13:33.454035Z"
    }
   },
   "outputs": [],
   "source": [
    "doses = dataJson[0]['dataValues'][3:61]"
   ]
  },
  {
   "cell_type": "markdown",
   "metadata": {},
   "source": [
    "Data formatting"
   ]
  },
  {
   "cell_type": "code",
   "execution_count": 8,
   "metadata": {
    "execution": {
     "iopub.execute_input": "2021-03-16T14:13:33.459065Z",
     "iopub.status.busy": "2021-03-16T14:13:33.457621Z",
     "iopub.status.idle": "2021-03-16T14:13:33.459763Z",
     "shell.execute_reply": "2021-03-16T14:13:33.460250Z"
    }
   },
   "outputs": [],
   "source": [
    "zipped = dict(zip(counties, doses))"
   ]
  },
  {
   "cell_type": "code",
   "execution_count": 9,
   "metadata": {
    "execution": {
     "iopub.execute_input": "2021-03-16T14:13:33.467733Z",
     "iopub.status.busy": "2021-03-16T14:13:33.466265Z",
     "iopub.status.idle": "2021-03-16T14:13:33.468357Z",
     "shell.execute_reply": "2021-03-16T14:13:33.468820Z"
    }
   },
   "outputs": [],
   "source": [
    "df = pd.Series(zipped).reset_index()"
   ]
  },
  {
   "cell_type": "code",
   "execution_count": 10,
   "metadata": {
    "execution": {
     "iopub.execute_input": "2021-03-16T14:13:33.474651Z",
     "iopub.status.busy": "2021-03-16T14:13:33.473022Z",
     "iopub.status.idle": "2021-03-16T14:13:33.475663Z",
     "shell.execute_reply": "2021-03-16T14:13:33.476129Z"
    }
   },
   "outputs": [],
   "source": [
    "df.columns = ['location','doses']"
   ]
  },
  {
   "cell_type": "markdown",
   "metadata": {},
   "source": [
    "Grab the overall California total"
   ]
  },
  {
   "cell_type": "code",
   "execution_count": 11,
   "metadata": {
    "execution": {
     "iopub.execute_input": "2021-03-16T14:13:33.482874Z",
     "iopub.status.busy": "2021-03-16T14:13:33.481236Z",
     "iopub.status.idle": "2021-03-16T14:13:33.483709Z",
     "shell.execute_reply": "2021-03-16T14:13:33.484222Z"
    }
   },
   "outputs": [],
   "source": [
    "add = {'location':'California','doses':dataJson[0]['dataValues'][2]}"
   ]
  },
  {
   "cell_type": "code",
   "execution_count": 12,
   "metadata": {
    "execution": {
     "iopub.execute_input": "2021-03-16T14:13:33.500517Z",
     "iopub.status.busy": "2021-03-16T14:13:33.499756Z",
     "iopub.status.idle": "2021-03-16T14:13:33.501666Z",
     "shell.execute_reply": "2021-03-16T14:13:33.501111Z"
    }
   },
   "outputs": [],
   "source": [
    "df = df.append(add, ignore_index=True)"
   ]
  },
  {
   "cell_type": "code",
   "execution_count": 13,
   "metadata": {
    "execution": {
     "iopub.execute_input": "2021-03-16T14:13:33.506934Z",
     "iopub.status.busy": "2021-03-16T14:13:33.506195Z",
     "iopub.status.idle": "2021-03-16T14:13:33.510082Z",
     "shell.execute_reply": "2021-03-16T14:13:33.509514Z"
    }
   },
   "outputs": [],
   "source": [
    "df = df.sort_values(by='location')"
   ]
  },
  {
   "cell_type": "code",
   "execution_count": 14,
   "metadata": {
    "execution": {
     "iopub.execute_input": "2021-03-16T14:13:33.517515Z",
     "iopub.status.busy": "2021-03-16T14:13:33.516226Z",
     "iopub.status.idle": "2021-03-16T14:13:33.518157Z",
     "shell.execute_reply": "2021-03-16T14:13:33.518672Z"
    }
   },
   "outputs": [],
   "source": [
    "df = df[df.location == 'California'].append(df[df.location != 'California']).reset_index(drop=True)"
   ]
  },
  {
   "cell_type": "code",
   "execution_count": null,
   "metadata": {},
   "outputs": [],
   "source": []
  },
  {
   "cell_type": "code",
   "execution_count": 15,
   "metadata": {
    "execution": {
     "iopub.execute_input": "2021-03-16T14:13:33.524009Z",
     "iopub.status.busy": "2021-03-16T14:13:33.523360Z",
     "iopub.status.idle": "2021-03-16T14:13:33.545500Z",
     "shell.execute_reply": "2021-03-16T14:13:33.545982Z"
    }
   },
   "outputs": [],
   "source": [
    "tz = pytz.timezone(\"America/New_York\")"
   ]
  },
  {
   "cell_type": "code",
   "execution_count": 16,
   "metadata": {
    "execution": {
     "iopub.execute_input": "2021-03-16T14:13:33.549802Z",
     "iopub.status.busy": "2021-03-16T14:13:33.549235Z",
     "iopub.status.idle": "2021-03-16T14:13:33.553015Z",
     "shell.execute_reply": "2021-03-16T14:13:33.553604Z"
    }
   },
   "outputs": [],
   "source": [
    "today = datetime.now(tz).date()"
   ]
  },
  {
   "cell_type": "code",
   "execution_count": 17,
   "metadata": {
    "execution": {
     "iopub.execute_input": "2021-03-16T14:13:33.558204Z",
     "iopub.status.busy": "2021-03-16T14:13:33.557492Z",
     "iopub.status.idle": "2021-03-16T14:13:33.561362Z",
     "shell.execute_reply": "2021-03-16T14:13:33.561987Z"
    }
   },
   "outputs": [],
   "source": [
    "data_dir = os.path.join(os.path.abspath(\"\"), \"data\")"
   ]
  },
  {
   "cell_type": "code",
   "execution_count": 18,
   "metadata": {
    "execution": {
     "iopub.execute_input": "2021-03-16T14:13:33.566461Z",
     "iopub.status.busy": "2021-03-16T14:13:33.565837Z",
     "iopub.status.idle": "2021-03-16T14:13:33.570265Z",
     "shell.execute_reply": "2021-03-16T14:13:33.571036Z"
    }
   },
   "outputs": [],
   "source": [
    "df.to_csv(os.path.join(data_dir, f\"{today}.csv\"), index=False)"
   ]
  },
  {
   "cell_type": "code",
   "execution_count": null,
   "metadata": {},
   "outputs": [],
   "source": []
  }
 ],
 "metadata": {
  "kernelspec": {
   "display_name": "Python 3",
   "language": "python",
   "name": "python3"
  },
  "language_info": {
   "codemirror_mode": {
    "name": "ipython",
    "version": 3
   },
   "file_extension": ".py",
   "mimetype": "text/x-python",
   "name": "python",
   "nbconvert_exporter": "python",
   "pygments_lexer": "ipython3",
   "version": "3.8.8"
  }
 },
 "nbformat": 4,
 "nbformat_minor": 4
}
