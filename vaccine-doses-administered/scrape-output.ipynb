{
 "cells": [
  {
   "cell_type": "markdown",
   "metadata": {},
   "source": [
    "# California COVID vaccinations scrape"
   ]
  },
  {
   "cell_type": "markdown",
   "metadata": {},
   "source": [
    "By [Amy O'Kruk](https://twitter.com/amyokruk)"
   ]
  },
  {
   "cell_type": "markdown",
   "metadata": {},
   "source": [
    "Downloads data on vaccine doses administered by county and statewide from a Tableau-powered dashboard from the California Department of Public Health."
   ]
  },
  {
   "cell_type": "code",
   "execution_count": 1,
   "metadata": {
    "execution": {
     "iopub.execute_input": "2021-03-10T06:46:41.099921Z",
     "iopub.status.busy": "2021-03-10T06:46:41.099310Z",
     "iopub.status.idle": "2021-03-10T06:46:41.472509Z",
     "shell.execute_reply": "2021-03-10T06:46:41.471966Z"
    }
   },
   "outputs": [],
   "source": [
    "import pandas as pd\n",
    "import requests\n",
    "from bs4 import BeautifulSoup\n",
    "import json\n",
    "import re\n",
    "import time\n",
    "from time import gmtime, strftime \n",
    "import os\n",
    "import pytz\n",
    "from datetime import datetime"
   ]
  },
  {
   "cell_type": "markdown",
   "metadata": {},
   "source": [
    "Scrape the dashboard page"
   ]
  },
  {
   "cell_type": "code",
   "execution_count": 2,
   "metadata": {
    "execution": {
     "iopub.execute_input": "2021-03-10T06:46:41.477814Z",
     "iopub.status.busy": "2021-03-10T06:46:41.475706Z",
     "iopub.status.idle": "2021-03-10T06:46:41.872864Z",
     "shell.execute_reply": "2021-03-10T06:46:41.872393Z"
    }
   },
   "outputs": [],
   "source": [
    "url = \"https://public.tableau.com/interactive/views/COVID-19VaccineDashboardPublic/Vaccine?:embed=y&:showVizHome=n&:apiID=host0\"\n",
    "\n",
    "r = requests.get(url)\n",
    "soup = BeautifulSoup(r.text, \"html.parser\")"
   ]
  },
  {
   "cell_type": "code",
   "execution_count": 3,
   "metadata": {
    "execution": {
     "iopub.execute_input": "2021-03-10T06:46:41.877445Z",
     "iopub.status.busy": "2021-03-10T06:46:41.876833Z",
     "iopub.status.idle": "2021-03-10T06:46:41.880043Z",
     "shell.execute_reply": "2021-03-10T06:46:41.880518Z"
    }
   },
   "outputs": [],
   "source": [
    "tableauData = json.loads(soup.find(\"textarea\",{\"id\": \"tsConfigContainer\"}).text)"
   ]
  },
  {
   "cell_type": "markdown",
   "metadata": {},
   "source": [
    "Get the link to the Tableau data"
   ]
  },
  {
   "cell_type": "code",
   "execution_count": 4,
   "metadata": {
    "execution": {
     "iopub.execute_input": "2021-03-10T06:46:41.884165Z",
     "iopub.status.busy": "2021-03-10T06:46:41.883643Z",
     "iopub.status.idle": "2021-03-10T06:46:41.887485Z",
     "shell.execute_reply": "2021-03-10T06:46:41.886981Z"
    }
   },
   "outputs": [],
   "source": [
    "dataUrl = f'https://public.tableau.com{tableauData[\"vizql_root\"]}/bootstrapSession/sessions/{tableauData[\"sessionid\"]}'"
   ]
  },
  {
   "cell_type": "code",
   "execution_count": 5,
   "metadata": {
    "execution": {
     "iopub.execute_input": "2021-03-10T06:46:41.893907Z",
     "iopub.status.busy": "2021-03-10T06:46:41.893287Z",
     "iopub.status.idle": "2021-03-10T06:46:42.335701Z",
     "shell.execute_reply": "2021-03-10T06:46:42.335158Z"
    }
   },
   "outputs": [],
   "source": [
    "r = requests.post(dataUrl, data= {\n",
    "    \"sheet_id\": tableauData[\"sheetId\"],\n",
    "})\n",
    "\n",
    "dataReg = re.search('\\d+;({.*})\\d+;({.*})', r.text, re.MULTILINE)\n",
    "data1 = json.loads(dataReg.group(2))\n",
    "\n",
    "dataJson = data1[\"secondaryInfo\"][\"presModelMap\"][\"dataDictionary\"][\"presModelHolder\"][\"genDataDictionaryPresModel\"][\"dataSegments\"][\"0\"][\"dataColumns\"]"
   ]
  },
  {
   "cell_type": "markdown",
   "metadata": {},
   "source": [
    "Isolate what you want"
   ]
  },
  {
   "cell_type": "code",
   "execution_count": 6,
   "metadata": {
    "execution": {
     "iopub.execute_input": "2021-03-10T06:46:42.340096Z",
     "iopub.status.busy": "2021-03-10T06:46:42.338958Z",
     "iopub.status.idle": "2021-03-10T06:46:42.340782Z",
     "shell.execute_reply": "2021-03-10T06:46:42.341276Z"
    }
   },
   "outputs": [],
   "source": [
    "counties = dataJson[2]['dataValues'][:58]"
   ]
  },
  {
   "cell_type": "code",
   "execution_count": 7,
   "metadata": {
    "execution": {
     "iopub.execute_input": "2021-03-10T06:46:42.345726Z",
     "iopub.status.busy": "2021-03-10T06:46:42.344254Z",
     "iopub.status.idle": "2021-03-10T06:46:42.346284Z",
     "shell.execute_reply": "2021-03-10T06:46:42.346729Z"
    }
   },
   "outputs": [],
   "source": [
    "doses = dataJson[0]['dataValues'][3:61]"
   ]
  },
  {
   "cell_type": "markdown",
   "metadata": {},
   "source": [
    "Data formatting"
   ]
  },
  {
   "cell_type": "code",
   "execution_count": 8,
   "metadata": {
    "execution": {
     "iopub.execute_input": "2021-03-10T06:46:42.350864Z",
     "iopub.status.busy": "2021-03-10T06:46:42.349865Z",
     "iopub.status.idle": "2021-03-10T06:46:42.351811Z",
     "shell.execute_reply": "2021-03-10T06:46:42.352333Z"
    }
   },
   "outputs": [],
   "source": [
    "zipped = dict(zip(counties, doses))"
   ]
  },
  {
   "cell_type": "code",
   "execution_count": 9,
   "metadata": {
    "execution": {
     "iopub.execute_input": "2021-03-10T06:46:42.359109Z",
     "iopub.status.busy": "2021-03-10T06:46:42.357849Z",
     "iopub.status.idle": "2021-03-10T06:46:42.359829Z",
     "shell.execute_reply": "2021-03-10T06:46:42.360476Z"
    }
   },
   "outputs": [],
   "source": [
    "df = pd.Series(zipped).reset_index()"
   ]
  },
  {
   "cell_type": "code",
   "execution_count": 10,
   "metadata": {
    "execution": {
     "iopub.execute_input": "2021-03-10T06:46:42.364859Z",
     "iopub.status.busy": "2021-03-10T06:46:42.363686Z",
     "iopub.status.idle": "2021-03-10T06:46:42.365448Z",
     "shell.execute_reply": "2021-03-10T06:46:42.365878Z"
    }
   },
   "outputs": [],
   "source": [
    "df.columns = ['location','doses']"
   ]
  },
  {
   "cell_type": "markdown",
   "metadata": {},
   "source": [
    "Grab the overall California total"
   ]
  },
  {
   "cell_type": "code",
   "execution_count": 11,
   "metadata": {
    "execution": {
     "iopub.execute_input": "2021-03-10T06:46:42.370283Z",
     "iopub.status.busy": "2021-03-10T06:46:42.369134Z",
     "iopub.status.idle": "2021-03-10T06:46:42.370848Z",
     "shell.execute_reply": "2021-03-10T06:46:42.371280Z"
    }
   },
   "outputs": [],
   "source": [
    "add = {'location':'California','doses':dataJson[0]['dataValues'][2]}"
   ]
  },
  {
   "cell_type": "code",
   "execution_count": 12,
   "metadata": {
    "execution": {
     "iopub.execute_input": "2021-03-10T06:46:42.378862Z",
     "iopub.status.busy": "2021-03-10T06:46:42.377477Z",
     "iopub.status.idle": "2021-03-10T06:46:42.379451Z",
     "shell.execute_reply": "2021-03-10T06:46:42.379880Z"
    }
   },
   "outputs": [],
   "source": [
    "df = df.append(add, ignore_index=True)"
   ]
  },
  {
   "cell_type": "code",
   "execution_count": 13,
   "metadata": {
    "execution": {
     "iopub.execute_input": "2021-03-10T06:46:42.385142Z",
     "iopub.status.busy": "2021-03-10T06:46:42.383952Z",
     "iopub.status.idle": "2021-03-10T06:46:42.385708Z",
     "shell.execute_reply": "2021-03-10T06:46:42.386140Z"
    }
   },
   "outputs": [],
   "source": [
    "df = df.sort_values(by='location')"
   ]
  },
  {
   "cell_type": "code",
   "execution_count": 14,
   "metadata": {
    "execution": {
     "iopub.execute_input": "2021-03-10T06:46:42.392701Z",
     "iopub.status.busy": "2021-03-10T06:46:42.391440Z",
     "iopub.status.idle": "2021-03-10T06:46:42.393316Z",
     "shell.execute_reply": "2021-03-10T06:46:42.393746Z"
    }
   },
   "outputs": [],
   "source": [
    "df = df[df.location == 'California'].append(df[df.location != 'California']).reset_index(drop=True)"
   ]
  },
  {
   "cell_type": "code",
   "execution_count": null,
   "metadata": {},
   "outputs": [],
   "source": []
  },
  {
   "cell_type": "code",
   "execution_count": 15,
   "metadata": {
    "execution": {
     "iopub.execute_input": "2021-03-10T06:46:42.396939Z",
     "iopub.status.busy": "2021-03-10T06:46:42.396405Z",
     "iopub.status.idle": "2021-03-10T06:46:42.415096Z",
     "shell.execute_reply": "2021-03-10T06:46:42.414663Z"
    }
   },
   "outputs": [],
   "source": [
    "tz = pytz.timezone(\"America/New_York\")"
   ]
  },
  {
   "cell_type": "code",
   "execution_count": 16,
   "metadata": {
    "execution": {
     "iopub.execute_input": "2021-03-10T06:46:42.419151Z",
     "iopub.status.busy": "2021-03-10T06:46:42.417979Z",
     "iopub.status.idle": "2021-03-10T06:46:42.419796Z",
     "shell.execute_reply": "2021-03-10T06:46:42.420227Z"
    }
   },
   "outputs": [],
   "source": [
    "today = datetime.now(tz).date()"
   ]
  },
  {
   "cell_type": "code",
   "execution_count": 17,
   "metadata": {
    "execution": {
     "iopub.execute_input": "2021-03-10T06:46:42.424792Z",
     "iopub.status.busy": "2021-03-10T06:46:42.423516Z",
     "iopub.status.idle": "2021-03-10T06:46:42.425542Z",
     "shell.execute_reply": "2021-03-10T06:46:42.425976Z"
    }
   },
   "outputs": [],
   "source": [
    "data_dir = os.path.join(os.path.abspath(\"\"), \"data\")"
   ]
  },
  {
   "cell_type": "code",
   "execution_count": 18,
   "metadata": {
    "execution": {
     "iopub.execute_input": "2021-03-10T06:46:42.429595Z",
     "iopub.status.busy": "2021-03-10T06:46:42.429087Z",
     "iopub.status.idle": "2021-03-10T06:46:42.433312Z",
     "shell.execute_reply": "2021-03-10T06:46:42.432768Z"
    }
   },
   "outputs": [],
   "source": [
    "df.to_csv(os.path.join(data_dir, f\"{today}.csv\"), index=False)"
   ]
  },
  {
   "cell_type": "code",
   "execution_count": null,
   "metadata": {},
   "outputs": [],
   "source": []
  }
 ],
 "metadata": {
  "kernelspec": {
   "display_name": "Python 3",
   "language": "python",
   "name": "python3"
  },
  "language_info": {
   "codemirror_mode": {
    "name": "ipython",
    "version": 3
   },
   "file_extension": ".py",
   "mimetype": "text/x-python",
   "name": "python",
   "nbconvert_exporter": "python",
   "pygments_lexer": "ipython3",
   "version": "3.8.8"
  }
 },
 "nbformat": 4,
 "nbformat_minor": 4
}
