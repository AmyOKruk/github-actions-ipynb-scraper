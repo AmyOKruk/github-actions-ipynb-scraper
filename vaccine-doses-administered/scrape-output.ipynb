{
 "cells": [
  {
   "cell_type": "markdown",
   "metadata": {},
   "source": [
    "# California COVID vaccinations scrape"
   ]
  },
  {
   "cell_type": "markdown",
   "metadata": {},
   "source": [
    "By [Amy O'Kruk](https://twitter.com/amyokruk)"
   ]
  },
  {
   "cell_type": "markdown",
   "metadata": {},
   "source": [
    "Downloads data on vaccine doses administered by county and statewide from a Tableau-powered dashboard from the California Department of Public Health."
   ]
  },
  {
   "cell_type": "code",
   "execution_count": 1,
   "metadata": {
    "execution": {
     "iopub.execute_input": "2021-03-22T20:14:23.461008Z",
     "iopub.status.busy": "2021-03-22T20:14:23.460342Z",
     "iopub.status.idle": "2021-03-22T20:14:23.868686Z",
     "shell.execute_reply": "2021-03-22T20:14:23.867539Z"
    }
   },
   "outputs": [],
   "source": [
    "import pandas as pd\n",
    "import requests\n",
    "from bs4 import BeautifulSoup\n",
    "import json\n",
    "import re\n",
    "import time\n",
    "from time import gmtime, strftime \n",
    "import os\n",
    "import pytz\n",
    "from datetime import datetime"
   ]
  },
  {
   "cell_type": "markdown",
   "metadata": {},
   "source": [
    "Scrape the dashboard page"
   ]
  },
  {
   "cell_type": "code",
   "execution_count": 2,
   "metadata": {
    "execution": {
     "iopub.execute_input": "2021-03-22T20:14:23.874666Z",
     "iopub.status.busy": "2021-03-22T20:14:23.872382Z",
     "iopub.status.idle": "2021-03-22T20:14:24.319887Z",
     "shell.execute_reply": "2021-03-22T20:14:24.319369Z"
    }
   },
   "outputs": [],
   "source": [
    "url = \"https://public.tableau.com/interactive/views/COVID-19VaccineDashboardPublic/Vaccine?:embed=y&:showVizHome=n&:apiID=host0\"\n",
    "\n",
    "r = requests.get(url)\n",
    "soup = BeautifulSoup(r.text, \"html.parser\")"
   ]
  },
  {
   "cell_type": "code",
   "execution_count": 3,
   "metadata": {
    "execution": {
     "iopub.execute_input": "2021-03-22T20:14:24.324944Z",
     "iopub.status.busy": "2021-03-22T20:14:24.324396Z",
     "iopub.status.idle": "2021-03-22T20:14:24.327841Z",
     "shell.execute_reply": "2021-03-22T20:14:24.327375Z"
    }
   },
   "outputs": [],
   "source": [
    "tableauData = json.loads(soup.find(\"textarea\",{\"id\": \"tsConfigContainer\"}).text)"
   ]
  },
  {
   "cell_type": "markdown",
   "metadata": {},
   "source": [
    "Get the link to the Tableau data"
   ]
  },
  {
   "cell_type": "code",
   "execution_count": 4,
   "metadata": {
    "execution": {
     "iopub.execute_input": "2021-03-22T20:14:24.331177Z",
     "iopub.status.busy": "2021-03-22T20:14:24.330666Z",
     "iopub.status.idle": "2021-03-22T20:14:24.333924Z",
     "shell.execute_reply": "2021-03-22T20:14:24.333506Z"
    }
   },
   "outputs": [],
   "source": [
    "dataUrl = f'https://public.tableau.com{tableauData[\"vizql_root\"]}/bootstrapSession/sessions/{tableauData[\"sessionid\"]}'"
   ]
  },
  {
   "cell_type": "code",
   "execution_count": 5,
   "metadata": {
    "execution": {
     "iopub.execute_input": "2021-03-22T20:14:24.340290Z",
     "iopub.status.busy": "2021-03-22T20:14:24.339767Z",
     "iopub.status.idle": "2021-03-22T20:14:24.761877Z",
     "shell.execute_reply": "2021-03-22T20:14:24.760848Z"
    }
   },
   "outputs": [],
   "source": [
    "r = requests.post(dataUrl, data= {\n",
    "    \"sheet_id\": tableauData[\"sheetId\"],\n",
    "})\n",
    "\n",
    "dataReg = re.search('\\d+;({.*})\\d+;({.*})', r.text, re.MULTILINE)\n",
    "data1 = json.loads(dataReg.group(2))\n",
    "\n",
    "dataJson = data1[\"secondaryInfo\"][\"presModelMap\"][\"dataDictionary\"][\"presModelHolder\"][\"genDataDictionaryPresModel\"][\"dataSegments\"][\"0\"][\"dataColumns\"]"
   ]
  },
  {
   "cell_type": "markdown",
   "metadata": {},
   "source": [
    "Isolate what you want"
   ]
  },
  {
   "cell_type": "code",
   "execution_count": 6,
   "metadata": {
    "execution": {
     "iopub.execute_input": "2021-03-22T20:14:24.765747Z",
     "iopub.status.busy": "2021-03-22T20:14:24.765222Z",
     "iopub.status.idle": "2021-03-22T20:14:24.774025Z",
     "shell.execute_reply": "2021-03-22T20:14:24.768291Z"
    }
   },
   "outputs": [],
   "source": [
    "counties = dataJson[2]['dataValues'][:58]"
   ]
  },
  {
   "cell_type": "code",
   "execution_count": 7,
   "metadata": {
    "execution": {
     "iopub.execute_input": "2021-03-22T20:14:24.777533Z",
     "iopub.status.busy": "2021-03-22T20:14:24.777014Z",
     "iopub.status.idle": "2021-03-22T20:14:24.780253Z",
     "shell.execute_reply": "2021-03-22T20:14:24.779716Z"
    }
   },
   "outputs": [],
   "source": [
    "doses = dataJson[0]['dataValues'][3:61]"
   ]
  },
  {
   "cell_type": "markdown",
   "metadata": {},
   "source": [
    "Data formatting"
   ]
  },
  {
   "cell_type": "code",
   "execution_count": 8,
   "metadata": {
    "execution": {
     "iopub.execute_input": "2021-03-22T20:14:24.784863Z",
     "iopub.status.busy": "2021-03-22T20:14:24.783762Z",
     "iopub.status.idle": "2021-03-22T20:14:24.785448Z",
     "shell.execute_reply": "2021-03-22T20:14:24.785867Z"
    }
   },
   "outputs": [],
   "source": [
    "zipped = dict(zip(counties, doses))"
   ]
  },
  {
   "cell_type": "code",
   "execution_count": 9,
   "metadata": {
    "execution": {
     "iopub.execute_input": "2021-03-22T20:14:24.792357Z",
     "iopub.status.busy": "2021-03-22T20:14:24.791153Z",
     "iopub.status.idle": "2021-03-22T20:14:24.793009Z",
     "shell.execute_reply": "2021-03-22T20:14:24.793440Z"
    }
   },
   "outputs": [],
   "source": [
    "df = pd.Series(zipped).reset_index()"
   ]
  },
  {
   "cell_type": "code",
   "execution_count": 10,
   "metadata": {
    "execution": {
     "iopub.execute_input": "2021-03-22T20:14:24.797570Z",
     "iopub.status.busy": "2021-03-22T20:14:24.796679Z",
     "iopub.status.idle": "2021-03-22T20:14:24.807608Z",
     "shell.execute_reply": "2021-03-22T20:14:24.807034Z"
    }
   },
   "outputs": [],
   "source": [
    "df.columns = ['location','doses']"
   ]
  },
  {
   "cell_type": "markdown",
   "metadata": {},
   "source": [
    "Grab the overall California total"
   ]
  },
  {
   "cell_type": "code",
   "execution_count": 11,
   "metadata": {
    "execution": {
     "iopub.execute_input": "2021-03-22T20:14:24.811750Z",
     "iopub.status.busy": "2021-03-22T20:14:24.810723Z",
     "iopub.status.idle": "2021-03-22T20:14:24.812542Z",
     "shell.execute_reply": "2021-03-22T20:14:24.812965Z"
    }
   },
   "outputs": [],
   "source": [
    "add = {'location':'California','doses':dataJson[0]['dataValues'][2]}"
   ]
  },
  {
   "cell_type": "code",
   "execution_count": 12,
   "metadata": {
    "execution": {
     "iopub.execute_input": "2021-03-22T20:14:24.818984Z",
     "iopub.status.busy": "2021-03-22T20:14:24.817183Z",
     "iopub.status.idle": "2021-03-22T20:14:24.821175Z",
     "shell.execute_reply": "2021-03-22T20:14:24.820653Z"
    }
   },
   "outputs": [],
   "source": [
    "df = df.append(add, ignore_index=True)"
   ]
  },
  {
   "cell_type": "code",
   "execution_count": 13,
   "metadata": {
    "execution": {
     "iopub.execute_input": "2021-03-22T20:14:24.826085Z",
     "iopub.status.busy": "2021-03-22T20:14:24.824910Z",
     "iopub.status.idle": "2021-03-22T20:14:24.826677Z",
     "shell.execute_reply": "2021-03-22T20:14:24.827099Z"
    }
   },
   "outputs": [],
   "source": [
    "df = df.sort_values(by='location')"
   ]
  },
  {
   "cell_type": "code",
   "execution_count": 14,
   "metadata": {
    "execution": {
     "iopub.execute_input": "2021-03-22T20:14:24.833775Z",
     "iopub.status.busy": "2021-03-22T20:14:24.832599Z",
     "iopub.status.idle": "2021-03-22T20:14:24.834371Z",
     "shell.execute_reply": "2021-03-22T20:14:24.834793Z"
    }
   },
   "outputs": [],
   "source": [
    "df = df[df.location == 'California'].append(df[df.location != 'California']).reset_index(drop=True)"
   ]
  },
  {
   "cell_type": "code",
   "execution_count": null,
   "metadata": {},
   "outputs": [],
   "source": []
  },
  {
   "cell_type": "code",
   "execution_count": 15,
   "metadata": {
    "execution": {
     "iopub.execute_input": "2021-03-22T20:14:24.838370Z",
     "iopub.status.busy": "2021-03-22T20:14:24.837863Z",
     "iopub.status.idle": "2021-03-22T20:14:24.855187Z",
     "shell.execute_reply": "2021-03-22T20:14:24.855629Z"
    }
   },
   "outputs": [],
   "source": [
    "tz = pytz.timezone(\"America/New_York\")"
   ]
  },
  {
   "cell_type": "code",
   "execution_count": 16,
   "metadata": {
    "execution": {
     "iopub.execute_input": "2021-03-22T20:14:24.859722Z",
     "iopub.status.busy": "2021-03-22T20:14:24.858619Z",
     "iopub.status.idle": "2021-03-22T20:14:24.860315Z",
     "shell.execute_reply": "2021-03-22T20:14:24.860740Z"
    }
   },
   "outputs": [],
   "source": [
    "today = datetime.now(tz).date()"
   ]
  },
  {
   "cell_type": "code",
   "execution_count": 17,
   "metadata": {
    "execution": {
     "iopub.execute_input": "2021-03-22T20:14:24.864873Z",
     "iopub.status.busy": "2021-03-22T20:14:24.863775Z",
     "iopub.status.idle": "2021-03-22T20:14:24.865461Z",
     "shell.execute_reply": "2021-03-22T20:14:24.865880Z"
    }
   },
   "outputs": [],
   "source": [
    "data_dir = os.path.join(os.path.abspath(\"\"), \"data\")"
   ]
  },
  {
   "cell_type": "code",
   "execution_count": 18,
   "metadata": {
    "execution": {
     "iopub.execute_input": "2021-03-22T20:14:24.869747Z",
     "iopub.status.busy": "2021-03-22T20:14:24.869236Z",
     "iopub.status.idle": "2021-03-22T20:14:24.873690Z",
     "shell.execute_reply": "2021-03-22T20:14:24.873185Z"
    }
   },
   "outputs": [],
   "source": [
    "df.to_csv(os.path.join(data_dir, f\"{today}.csv\"), index=False)"
   ]
  },
  {
   "cell_type": "code",
   "execution_count": null,
   "metadata": {},
   "outputs": [],
   "source": []
  }
 ],
 "metadata": {
  "kernelspec": {
   "display_name": "Python 3",
   "language": "python",
   "name": "python3"
  },
  "language_info": {
   "codemirror_mode": {
    "name": "ipython",
    "version": 3
   },
   "file_extension": ".py",
   "mimetype": "text/x-python",
   "name": "python",
   "nbconvert_exporter": "python",
   "pygments_lexer": "ipython3",
   "version": "3.8.8"
  }
 },
 "nbformat": 4,
 "nbformat_minor": 4
}
