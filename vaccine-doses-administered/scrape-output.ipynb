{
 "cells": [
  {
   "cell_type": "markdown",
   "metadata": {},
   "source": [
    "# California COVID vaccinations scrape"
   ]
  },
  {
   "cell_type": "markdown",
   "metadata": {},
   "source": [
    "By [Amy O'Kruk](https://twitter.com/amyokruk)"
   ]
  },
  {
   "cell_type": "markdown",
   "metadata": {},
   "source": [
    "Downloads data on vaccine doses administered by county and statewide from a Tableau-powered dashboard from the California Department of Public Health."
   ]
  },
  {
   "cell_type": "code",
   "execution_count": 1,
   "metadata": {
    "execution": {
     "iopub.execute_input": "2021-03-23T18:00:18.071048Z",
     "iopub.status.busy": "2021-03-23T18:00:18.070449Z",
     "iopub.status.idle": "2021-03-23T18:00:18.446240Z",
     "shell.execute_reply": "2021-03-23T18:00:18.444951Z"
    }
   },
   "outputs": [],
   "source": [
    "import pandas as pd\n",
    "import requests\n",
    "from bs4 import BeautifulSoup\n",
    "import json\n",
    "import re\n",
    "import time\n",
    "from time import gmtime, strftime \n",
    "import os\n",
    "import pytz\n",
    "from datetime import datetime"
   ]
  },
  {
   "cell_type": "markdown",
   "metadata": {},
   "source": [
    "Scrape the dashboard page"
   ]
  },
  {
   "cell_type": "code",
   "execution_count": 2,
   "metadata": {
    "execution": {
     "iopub.execute_input": "2021-03-23T18:00:18.452514Z",
     "iopub.status.busy": "2021-03-23T18:00:18.450162Z",
     "iopub.status.idle": "2021-03-23T18:00:18.851850Z",
     "shell.execute_reply": "2021-03-23T18:00:18.851258Z"
    }
   },
   "outputs": [],
   "source": [
    "url = \"https://public.tableau.com/interactive/views/COVID-19VaccineDashboardPublic/Vaccine?:embed=y&:showVizHome=n&:apiID=host0\"\n",
    "\n",
    "r = requests.get(url)\n",
    "soup = BeautifulSoup(r.text, \"html.parser\")"
   ]
  },
  {
   "cell_type": "code",
   "execution_count": 3,
   "metadata": {
    "execution": {
     "iopub.execute_input": "2021-03-23T18:00:18.857554Z",
     "iopub.status.busy": "2021-03-23T18:00:18.856832Z",
     "iopub.status.idle": "2021-03-23T18:00:18.860664Z",
     "shell.execute_reply": "2021-03-23T18:00:18.860222Z"
    }
   },
   "outputs": [],
   "source": [
    "tableauData = json.loads(soup.find(\"textarea\",{\"id\": \"tsConfigContainer\"}).text)"
   ]
  },
  {
   "cell_type": "markdown",
   "metadata": {},
   "source": [
    "Get the link to the Tableau data"
   ]
  },
  {
   "cell_type": "code",
   "execution_count": 4,
   "metadata": {
    "execution": {
     "iopub.execute_input": "2021-03-23T18:00:18.864569Z",
     "iopub.status.busy": "2021-03-23T18:00:18.864056Z",
     "iopub.status.idle": "2021-03-23T18:00:18.867411Z",
     "shell.execute_reply": "2021-03-23T18:00:18.866964Z"
    }
   },
   "outputs": [],
   "source": [
    "dataUrl = f'https://public.tableau.com{tableauData[\"vizql_root\"]}/bootstrapSession/sessions/{tableauData[\"sessionid\"]}'"
   ]
  },
  {
   "cell_type": "code",
   "execution_count": 5,
   "metadata": {
    "execution": {
     "iopub.execute_input": "2021-03-23T18:00:18.874013Z",
     "iopub.status.busy": "2021-03-23T18:00:18.873484Z",
     "iopub.status.idle": "2021-03-23T18:00:19.128560Z",
     "shell.execute_reply": "2021-03-23T18:00:19.127705Z"
    }
   },
   "outputs": [],
   "source": [
    "r = requests.post(dataUrl, data= {\n",
    "    \"sheet_id\": tableauData[\"sheetId\"],\n",
    "})\n",
    "\n",
    "dataReg = re.search('\\d+;({.*})\\d+;({.*})', r.text, re.MULTILINE)\n",
    "data1 = json.loads(dataReg.group(2))\n",
    "\n",
    "dataJson = data1[\"secondaryInfo\"][\"presModelMap\"][\"dataDictionary\"][\"presModelHolder\"][\"genDataDictionaryPresModel\"][\"dataSegments\"][\"0\"][\"dataColumns\"]"
   ]
  },
  {
   "cell_type": "markdown",
   "metadata": {},
   "source": [
    "Isolate what you want"
   ]
  },
  {
   "cell_type": "code",
   "execution_count": 6,
   "metadata": {
    "execution": {
     "iopub.execute_input": "2021-03-23T18:00:19.134072Z",
     "iopub.status.busy": "2021-03-23T18:00:19.133173Z",
     "iopub.status.idle": "2021-03-23T18:00:19.134641Z",
     "shell.execute_reply": "2021-03-23T18:00:19.135028Z"
    }
   },
   "outputs": [],
   "source": [
    "counties = dataJson[2]['dataValues'][:58]"
   ]
  },
  {
   "cell_type": "code",
   "execution_count": 7,
   "metadata": {
    "execution": {
     "iopub.execute_input": "2021-03-23T18:00:19.138857Z",
     "iopub.status.busy": "2021-03-23T18:00:19.137945Z",
     "iopub.status.idle": "2021-03-23T18:00:19.139511Z",
     "shell.execute_reply": "2021-03-23T18:00:19.139864Z"
    }
   },
   "outputs": [],
   "source": [
    "doses = dataJson[0]['dataValues'][3:61]"
   ]
  },
  {
   "cell_type": "markdown",
   "metadata": {},
   "source": [
    "Data formatting"
   ]
  },
  {
   "cell_type": "code",
   "execution_count": 8,
   "metadata": {
    "execution": {
     "iopub.execute_input": "2021-03-23T18:00:19.143523Z",
     "iopub.status.busy": "2021-03-23T18:00:19.142373Z",
     "iopub.status.idle": "2021-03-23T18:00:19.144116Z",
     "shell.execute_reply": "2021-03-23T18:00:19.144542Z"
    }
   },
   "outputs": [],
   "source": [
    "zipped = dict(zip(counties, doses))"
   ]
  },
  {
   "cell_type": "code",
   "execution_count": 9,
   "metadata": {
    "execution": {
     "iopub.execute_input": "2021-03-23T18:00:19.150946Z",
     "iopub.status.busy": "2021-03-23T18:00:19.149747Z",
     "iopub.status.idle": "2021-03-23T18:00:19.151620Z",
     "shell.execute_reply": "2021-03-23T18:00:19.152051Z"
    }
   },
   "outputs": [],
   "source": [
    "df = pd.Series(zipped).reset_index()"
   ]
  },
  {
   "cell_type": "code",
   "execution_count": 10,
   "metadata": {
    "execution": {
     "iopub.execute_input": "2021-03-23T18:00:19.156106Z",
     "iopub.status.busy": "2021-03-23T18:00:19.155079Z",
     "iopub.status.idle": "2021-03-23T18:00:19.156779Z",
     "shell.execute_reply": "2021-03-23T18:00:19.157173Z"
    }
   },
   "outputs": [],
   "source": [
    "df.columns = ['location','doses']"
   ]
  },
  {
   "cell_type": "markdown",
   "metadata": {},
   "source": [
    "Grab the overall California total"
   ]
  },
  {
   "cell_type": "code",
   "execution_count": 11,
   "metadata": {
    "execution": {
     "iopub.execute_input": "2021-03-23T18:00:19.161075Z",
     "iopub.status.busy": "2021-03-23T18:00:19.160025Z",
     "iopub.status.idle": "2021-03-23T18:00:19.161621Z",
     "shell.execute_reply": "2021-03-23T18:00:19.162012Z"
    }
   },
   "outputs": [],
   "source": [
    "add = {'location':'California','doses':dataJson[0]['dataValues'][2]}"
   ]
  },
  {
   "cell_type": "code",
   "execution_count": 12,
   "metadata": {
    "execution": {
     "iopub.execute_input": "2021-03-23T18:00:19.168506Z",
     "iopub.status.busy": "2021-03-23T18:00:19.167473Z",
     "iopub.status.idle": "2021-03-23T18:00:19.169048Z",
     "shell.execute_reply": "2021-03-23T18:00:19.169441Z"
    }
   },
   "outputs": [],
   "source": [
    "df = df.append(add, ignore_index=True)"
   ]
  },
  {
   "cell_type": "code",
   "execution_count": 13,
   "metadata": {
    "execution": {
     "iopub.execute_input": "2021-03-23T18:00:19.173393Z",
     "iopub.status.busy": "2021-03-23T18:00:19.172651Z",
     "iopub.status.idle": "2021-03-23T18:00:19.174766Z",
     "shell.execute_reply": "2021-03-23T18:00:19.174320Z"
    }
   },
   "outputs": [],
   "source": [
    "df = df.sort_values(by='location')"
   ]
  },
  {
   "cell_type": "code",
   "execution_count": 14,
   "metadata": {
    "execution": {
     "iopub.execute_input": "2021-03-23T18:00:19.181125Z",
     "iopub.status.busy": "2021-03-23T18:00:19.179993Z",
     "iopub.status.idle": "2021-03-23T18:00:19.181717Z",
     "shell.execute_reply": "2021-03-23T18:00:19.182140Z"
    }
   },
   "outputs": [],
   "source": [
    "df = df[df.location == 'California'].append(df[df.location != 'California']).reset_index(drop=True)"
   ]
  },
  {
   "cell_type": "code",
   "execution_count": null,
   "metadata": {},
   "outputs": [],
   "source": []
  },
  {
   "cell_type": "code",
   "execution_count": 15,
   "metadata": {
    "execution": {
     "iopub.execute_input": "2021-03-23T18:00:19.185119Z",
     "iopub.status.busy": "2021-03-23T18:00:19.184649Z",
     "iopub.status.idle": "2021-03-23T18:00:19.201399Z",
     "shell.execute_reply": "2021-03-23T18:00:19.200962Z"
    }
   },
   "outputs": [],
   "source": [
    "tz = pytz.timezone(\"America/New_York\")"
   ]
  },
  {
   "cell_type": "code",
   "execution_count": 16,
   "metadata": {
    "execution": {
     "iopub.execute_input": "2021-03-23T18:00:19.205457Z",
     "iopub.status.busy": "2021-03-23T18:00:19.204230Z",
     "iopub.status.idle": "2021-03-23T18:00:19.206048Z",
     "shell.execute_reply": "2021-03-23T18:00:19.206476Z"
    }
   },
   "outputs": [],
   "source": [
    "today = datetime.now(tz).date()"
   ]
  },
  {
   "cell_type": "code",
   "execution_count": 17,
   "metadata": {
    "execution": {
     "iopub.execute_input": "2021-03-23T18:00:19.210798Z",
     "iopub.status.busy": "2021-03-23T18:00:19.209624Z",
     "iopub.status.idle": "2021-03-23T18:00:19.211479Z",
     "shell.execute_reply": "2021-03-23T18:00:19.211908Z"
    }
   },
   "outputs": [],
   "source": [
    "data_dir = os.path.join(os.path.abspath(\"\"), \"data\")"
   ]
  },
  {
   "cell_type": "code",
   "execution_count": 18,
   "metadata": {
    "execution": {
     "iopub.execute_input": "2021-03-23T18:00:19.216186Z",
     "iopub.status.busy": "2021-03-23T18:00:19.215058Z",
     "iopub.status.idle": "2021-03-23T18:00:19.219590Z",
     "shell.execute_reply": "2021-03-23T18:00:19.219053Z"
    }
   },
   "outputs": [],
   "source": [
    "df.to_csv(os.path.join(data_dir, f\"{today}.csv\"), index=False)"
   ]
  },
  {
   "cell_type": "code",
   "execution_count": null,
   "metadata": {},
   "outputs": [],
   "source": []
  }
 ],
 "metadata": {
  "kernelspec": {
   "display_name": "Python 3",
   "language": "python",
   "name": "python3"
  },
  "language_info": {
   "codemirror_mode": {
    "name": "ipython",
    "version": 3
   },
   "file_extension": ".py",
   "mimetype": "text/x-python",
   "name": "python",
   "nbconvert_exporter": "python",
   "pygments_lexer": "ipython3",
   "version": "3.8.8"
  }
 },
 "nbformat": 4,
 "nbformat_minor": 4
}
