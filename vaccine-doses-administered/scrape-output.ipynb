{
 "cells": [
  {
   "cell_type": "markdown",
   "metadata": {},
   "source": [
    "# California COVID vaccinations scrape"
   ]
  },
  {
   "cell_type": "markdown",
   "metadata": {},
   "source": [
    "By [Amy O'Kruk](https://twitter.com/amyokruk)"
   ]
  },
  {
   "cell_type": "markdown",
   "metadata": {},
   "source": [
    "Downloads data on vaccine doses administered by county and statewide from a Tableau-powered dashboard from the California Department of Public Health."
   ]
  },
  {
   "cell_type": "code",
   "execution_count": 1,
   "metadata": {
    "execution": {
     "iopub.execute_input": "2021-03-17T18:14:45.507716Z",
     "iopub.status.busy": "2021-03-17T18:14:45.507049Z",
     "iopub.status.idle": "2021-03-17T18:14:45.878599Z",
     "shell.execute_reply": "2021-03-17T18:14:45.878030Z"
    }
   },
   "outputs": [],
   "source": [
    "import pandas as pd\n",
    "import requests\n",
    "from bs4 import BeautifulSoup\n",
    "import json\n",
    "import re\n",
    "import time\n",
    "from time import gmtime, strftime \n",
    "import os\n",
    "import pytz\n",
    "from datetime import datetime"
   ]
  },
  {
   "cell_type": "markdown",
   "metadata": {},
   "source": [
    "Scrape the dashboard page"
   ]
  },
  {
   "cell_type": "code",
   "execution_count": 2,
   "metadata": {
    "execution": {
     "iopub.execute_input": "2021-03-17T18:14:45.884650Z",
     "iopub.status.busy": "2021-03-17T18:14:45.883769Z",
     "iopub.status.idle": "2021-03-17T18:14:46.287233Z",
     "shell.execute_reply": "2021-03-17T18:14:46.287999Z"
    }
   },
   "outputs": [],
   "source": [
    "url = \"https://public.tableau.com/interactive/views/COVID-19VaccineDashboardPublic/Vaccine?:embed=y&:showVizHome=n&:apiID=host0\"\n",
    "\n",
    "r = requests.get(url)\n",
    "soup = BeautifulSoup(r.text, \"html.parser\")"
   ]
  },
  {
   "cell_type": "code",
   "execution_count": 3,
   "metadata": {
    "execution": {
     "iopub.execute_input": "2021-03-17T18:14:46.298790Z",
     "iopub.status.busy": "2021-03-17T18:14:46.297849Z",
     "iopub.status.idle": "2021-03-17T18:14:46.299253Z",
     "shell.execute_reply": "2021-03-17T18:14:46.298279Z"
    }
   },
   "outputs": [],
   "source": [
    "tableauData = json.loads(soup.find(\"textarea\",{\"id\": \"tsConfigContainer\"}).text)"
   ]
  },
  {
   "cell_type": "markdown",
   "metadata": {},
   "source": [
    "Get the link to the Tableau data"
   ]
  },
  {
   "cell_type": "code",
   "execution_count": 4,
   "metadata": {
    "execution": {
     "iopub.execute_input": "2021-03-17T18:14:46.301669Z",
     "iopub.status.busy": "2021-03-17T18:14:46.301153Z",
     "iopub.status.idle": "2021-03-17T18:14:46.304822Z",
     "shell.execute_reply": "2021-03-17T18:14:46.304409Z"
    }
   },
   "outputs": [],
   "source": [
    "dataUrl = f'https://public.tableau.com{tableauData[\"vizql_root\"]}/bootstrapSession/sessions/{tableauData[\"sessionid\"]}'"
   ]
  },
  {
   "cell_type": "code",
   "execution_count": 5,
   "metadata": {
    "execution": {
     "iopub.execute_input": "2021-03-17T18:14:46.310548Z",
     "iopub.status.busy": "2021-03-17T18:14:46.310009Z",
     "iopub.status.idle": "2021-03-17T18:14:46.582459Z",
     "shell.execute_reply": "2021-03-17T18:14:46.581915Z"
    }
   },
   "outputs": [],
   "source": [
    "r = requests.post(dataUrl, data= {\n",
    "    \"sheet_id\": tableauData[\"sheetId\"],\n",
    "})\n",
    "\n",
    "dataReg = re.search('\\d+;({.*})\\d+;({.*})', r.text, re.MULTILINE)\n",
    "data1 = json.loads(dataReg.group(2))\n",
    "\n",
    "dataJson = data1[\"secondaryInfo\"][\"presModelMap\"][\"dataDictionary\"][\"presModelHolder\"][\"genDataDictionaryPresModel\"][\"dataSegments\"][\"0\"][\"dataColumns\"]"
   ]
  },
  {
   "cell_type": "markdown",
   "metadata": {},
   "source": [
    "Isolate what you want"
   ]
  },
  {
   "cell_type": "code",
   "execution_count": 6,
   "metadata": {
    "execution": {
     "iopub.execute_input": "2021-03-17T18:14:46.586274Z",
     "iopub.status.busy": "2021-03-17T18:14:46.585737Z",
     "iopub.status.idle": "2021-03-17T18:14:46.589979Z",
     "shell.execute_reply": "2021-03-17T18:14:46.589328Z"
    }
   },
   "outputs": [],
   "source": [
    "counties = dataJson[2]['dataValues'][:58]"
   ]
  },
  {
   "cell_type": "code",
   "execution_count": 7,
   "metadata": {
    "execution": {
     "iopub.execute_input": "2021-03-17T18:14:46.593092Z",
     "iopub.status.busy": "2021-03-17T18:14:46.592623Z",
     "iopub.status.idle": "2021-03-17T18:14:46.595619Z",
     "shell.execute_reply": "2021-03-17T18:14:46.595995Z"
    }
   },
   "outputs": [],
   "source": [
    "doses = dataJson[0]['dataValues'][3:61]"
   ]
  },
  {
   "cell_type": "markdown",
   "metadata": {},
   "source": [
    "Data formatting"
   ]
  },
  {
   "cell_type": "code",
   "execution_count": 8,
   "metadata": {
    "execution": {
     "iopub.execute_input": "2021-03-17T18:14:46.600140Z",
     "iopub.status.busy": "2021-03-17T18:14:46.599080Z",
     "iopub.status.idle": "2021-03-17T18:14:46.600747Z",
     "shell.execute_reply": "2021-03-17T18:14:46.601176Z"
    }
   },
   "outputs": [],
   "source": [
    "zipped = dict(zip(counties, doses))"
   ]
  },
  {
   "cell_type": "code",
   "execution_count": 9,
   "metadata": {
    "execution": {
     "iopub.execute_input": "2021-03-17T18:14:46.607284Z",
     "iopub.status.busy": "2021-03-17T18:14:46.606194Z",
     "iopub.status.idle": "2021-03-17T18:14:46.607832Z",
     "shell.execute_reply": "2021-03-17T18:14:46.608222Z"
    }
   },
   "outputs": [],
   "source": [
    "df = pd.Series(zipped).reset_index()"
   ]
  },
  {
   "cell_type": "code",
   "execution_count": 10,
   "metadata": {
    "execution": {
     "iopub.execute_input": "2021-03-17T18:14:46.617860Z",
     "iopub.status.busy": "2021-03-17T18:14:46.617383Z",
     "iopub.status.idle": "2021-03-17T18:14:46.624016Z",
     "shell.execute_reply": "2021-03-17T18:14:46.623528Z"
    }
   },
   "outputs": [],
   "source": [
    "df.columns = ['location','doses']"
   ]
  },
  {
   "cell_type": "markdown",
   "metadata": {},
   "source": [
    "Grab the overall California total"
   ]
  },
  {
   "cell_type": "code",
   "execution_count": 11,
   "metadata": {
    "execution": {
     "iopub.execute_input": "2021-03-17T18:14:46.628263Z",
     "iopub.status.busy": "2021-03-17T18:14:46.627144Z",
     "iopub.status.idle": "2021-03-17T18:14:46.628809Z",
     "shell.execute_reply": "2021-03-17T18:14:46.629365Z"
    }
   },
   "outputs": [],
   "source": [
    "add = {'location':'California','doses':dataJson[0]['dataValues'][2]}"
   ]
  },
  {
   "cell_type": "code",
   "execution_count": 12,
   "metadata": {
    "execution": {
     "iopub.execute_input": "2021-03-17T18:14:46.635888Z",
     "iopub.status.busy": "2021-03-17T18:14:46.634934Z",
     "iopub.status.idle": "2021-03-17T18:14:46.636658Z",
     "shell.execute_reply": "2021-03-17T18:14:46.637056Z"
    }
   },
   "outputs": [],
   "source": [
    "df = df.append(add, ignore_index=True)"
   ]
  },
  {
   "cell_type": "code",
   "execution_count": 13,
   "metadata": {
    "execution": {
     "iopub.execute_input": "2021-03-17T18:14:46.641419Z",
     "iopub.status.busy": "2021-03-17T18:14:46.640564Z",
     "iopub.status.idle": "2021-03-17T18:14:46.642226Z",
     "shell.execute_reply": "2021-03-17T18:14:46.642650Z"
    }
   },
   "outputs": [],
   "source": [
    "df = df.sort_values(by='location')"
   ]
  },
  {
   "cell_type": "code",
   "execution_count": 14,
   "metadata": {
    "execution": {
     "iopub.execute_input": "2021-03-17T18:14:46.648735Z",
     "iopub.status.busy": "2021-03-17T18:14:46.647639Z",
     "iopub.status.idle": "2021-03-17T18:14:46.649287Z",
     "shell.execute_reply": "2021-03-17T18:14:46.649681Z"
    }
   },
   "outputs": [],
   "source": [
    "df = df[df.location == 'California'].append(df[df.location != 'California']).reset_index(drop=True)"
   ]
  },
  {
   "cell_type": "code",
   "execution_count": null,
   "metadata": {},
   "outputs": [],
   "source": []
  },
  {
   "cell_type": "code",
   "execution_count": 15,
   "metadata": {
    "execution": {
     "iopub.execute_input": "2021-03-17T18:14:46.653012Z",
     "iopub.status.busy": "2021-03-17T18:14:46.652521Z",
     "iopub.status.idle": "2021-03-17T18:14:46.668483Z",
     "shell.execute_reply": "2021-03-17T18:14:46.668854Z"
    }
   },
   "outputs": [],
   "source": [
    "tz = pytz.timezone(\"America/New_York\")"
   ]
  },
  {
   "cell_type": "code",
   "execution_count": 16,
   "metadata": {
    "execution": {
     "iopub.execute_input": "2021-03-17T18:14:46.672676Z",
     "iopub.status.busy": "2021-03-17T18:14:46.671735Z",
     "iopub.status.idle": "2021-03-17T18:14:46.673455Z",
     "shell.execute_reply": "2021-03-17T18:14:46.673850Z"
    }
   },
   "outputs": [],
   "source": [
    "today = datetime.now(tz).date()"
   ]
  },
  {
   "cell_type": "code",
   "execution_count": 17,
   "metadata": {
    "execution": {
     "iopub.execute_input": "2021-03-17T18:14:46.678110Z",
     "iopub.status.busy": "2021-03-17T18:14:46.677030Z",
     "iopub.status.idle": "2021-03-17T18:14:46.678807Z",
     "shell.execute_reply": "2021-03-17T18:14:46.679234Z"
    }
   },
   "outputs": [],
   "source": [
    "data_dir = os.path.join(os.path.abspath(\"\"), \"data\")"
   ]
  },
  {
   "cell_type": "code",
   "execution_count": 18,
   "metadata": {
    "execution": {
     "iopub.execute_input": "2021-03-17T18:14:46.683252Z",
     "iopub.status.busy": "2021-03-17T18:14:46.682110Z",
     "iopub.status.idle": "2021-03-17T18:14:46.686566Z",
     "shell.execute_reply": "2021-03-17T18:14:46.686063Z"
    }
   },
   "outputs": [],
   "source": [
    "df.to_csv(os.path.join(data_dir, f\"{today}.csv\"), index=False)"
   ]
  },
  {
   "cell_type": "code",
   "execution_count": null,
   "metadata": {},
   "outputs": [],
   "source": []
  }
 ],
 "metadata": {
  "kernelspec": {
   "display_name": "Python 3",
   "language": "python",
   "name": "python3"
  },
  "language_info": {
   "codemirror_mode": {
    "name": "ipython",
    "version": 3
   },
   "file_extension": ".py",
   "mimetype": "text/x-python",
   "name": "python",
   "nbconvert_exporter": "python",
   "pygments_lexer": "ipython3",
   "version": "3.8.8"
  }
 },
 "nbformat": 4,
 "nbformat_minor": 4
}
