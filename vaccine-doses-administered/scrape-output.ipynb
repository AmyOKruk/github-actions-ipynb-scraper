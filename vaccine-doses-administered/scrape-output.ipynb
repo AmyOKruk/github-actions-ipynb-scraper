{
 "cells": [
  {
   "cell_type": "markdown",
   "metadata": {},
   "source": [
    "# California COVID vaccinations scrape"
   ]
  },
  {
   "cell_type": "markdown",
   "metadata": {},
   "source": [
    "By [Amy O'Kruk](https://twitter.com/amyokruk)"
   ]
  },
  {
   "cell_type": "markdown",
   "metadata": {},
   "source": [
    "Downloads data on vaccine doses administered by county and statewide from a Tableau-powered dashboard from the California Department of Public Health."
   ]
  },
  {
   "cell_type": "code",
   "execution_count": 1,
   "metadata": {
    "execution": {
     "iopub.execute_input": "2021-03-13T08:46:00.519489Z",
     "iopub.status.busy": "2021-03-13T08:46:00.518514Z",
     "iopub.status.idle": "2021-03-13T08:46:00.866204Z",
     "shell.execute_reply": "2021-03-13T08:46:00.865322Z"
    }
   },
   "outputs": [],
   "source": [
    "import pandas as pd\n",
    "import requests\n",
    "from bs4 import BeautifulSoup\n",
    "import json\n",
    "import re\n",
    "import time\n",
    "from time import gmtime, strftime \n",
    "import os\n",
    "import pytz\n",
    "from datetime import datetime"
   ]
  },
  {
   "cell_type": "markdown",
   "metadata": {},
   "source": [
    "Scrape the dashboard page"
   ]
  },
  {
   "cell_type": "code",
   "execution_count": 2,
   "metadata": {
    "execution": {
     "iopub.execute_input": "2021-03-13T08:46:00.872603Z",
     "iopub.status.busy": "2021-03-13T08:46:00.871704Z",
     "iopub.status.idle": "2021-03-13T08:46:01.248775Z",
     "shell.execute_reply": "2021-03-13T08:46:01.247910Z"
    }
   },
   "outputs": [],
   "source": [
    "url = \"https://public.tableau.com/interactive/views/COVID-19VaccineDashboardPublic/Vaccine?:embed=y&:showVizHome=n&:apiID=host0\"\n",
    "\n",
    "r = requests.get(url)\n",
    "soup = BeautifulSoup(r.text, \"html.parser\")"
   ]
  },
  {
   "cell_type": "code",
   "execution_count": 3,
   "metadata": {
    "execution": {
     "iopub.execute_input": "2021-03-13T08:46:01.253335Z",
     "iopub.status.busy": "2021-03-13T08:46:01.252814Z",
     "iopub.status.idle": "2021-03-13T08:46:01.256197Z",
     "shell.execute_reply": "2021-03-13T08:46:01.255745Z"
    }
   },
   "outputs": [],
   "source": [
    "tableauData = json.loads(soup.find(\"textarea\",{\"id\": \"tsConfigContainer\"}).text)"
   ]
  },
  {
   "cell_type": "markdown",
   "metadata": {},
   "source": [
    "Get the link to the Tableau data"
   ]
  },
  {
   "cell_type": "code",
   "execution_count": 4,
   "metadata": {
    "execution": {
     "iopub.execute_input": "2021-03-13T08:46:01.260117Z",
     "iopub.status.busy": "2021-03-13T08:46:01.259273Z",
     "iopub.status.idle": "2021-03-13T08:46:01.261028Z",
     "shell.execute_reply": "2021-03-13T08:46:01.261469Z"
    }
   },
   "outputs": [],
   "source": [
    "dataUrl = f'https://public.tableau.com{tableauData[\"vizql_root\"]}/bootstrapSession/sessions/{tableauData[\"sessionid\"]}'"
   ]
  },
  {
   "cell_type": "code",
   "execution_count": 5,
   "metadata": {
    "execution": {
     "iopub.execute_input": "2021-03-13T08:46:01.267580Z",
     "iopub.status.busy": "2021-03-13T08:46:01.267136Z",
     "iopub.status.idle": "2021-03-13T08:46:01.470214Z",
     "shell.execute_reply": "2021-03-13T08:46:01.470947Z"
    }
   },
   "outputs": [],
   "source": [
    "r = requests.post(dataUrl, data= {\n",
    "    \"sheet_id\": tableauData[\"sheetId\"],\n",
    "})\n",
    "\n",
    "dataReg = re.search('\\d+;({.*})\\d+;({.*})', r.text, re.MULTILINE)\n",
    "data1 = json.loads(dataReg.group(2))\n",
    "\n",
    "dataJson = data1[\"secondaryInfo\"][\"presModelMap\"][\"dataDictionary\"][\"presModelHolder\"][\"genDataDictionaryPresModel\"][\"dataSegments\"][\"0\"][\"dataColumns\"]"
   ]
  },
  {
   "cell_type": "markdown",
   "metadata": {},
   "source": [
    "Isolate what you want"
   ]
  },
  {
   "cell_type": "code",
   "execution_count": 6,
   "metadata": {
    "execution": {
     "iopub.execute_input": "2021-03-13T08:46:01.475877Z",
     "iopub.status.busy": "2021-03-13T08:46:01.474638Z",
     "iopub.status.idle": "2021-03-13T08:46:01.476520Z",
     "shell.execute_reply": "2021-03-13T08:46:01.476926Z"
    }
   },
   "outputs": [],
   "source": [
    "counties = dataJson[2]['dataValues'][:58]"
   ]
  },
  {
   "cell_type": "code",
   "execution_count": 7,
   "metadata": {
    "execution": {
     "iopub.execute_input": "2021-03-13T08:46:01.481199Z",
     "iopub.status.busy": "2021-03-13T08:46:01.479986Z",
     "iopub.status.idle": "2021-03-13T08:46:01.481773Z",
     "shell.execute_reply": "2021-03-13T08:46:01.482203Z"
    }
   },
   "outputs": [],
   "source": [
    "doses = dataJson[0]['dataValues'][3:61]"
   ]
  },
  {
   "cell_type": "markdown",
   "metadata": {},
   "source": [
    "Data formatting"
   ]
  },
  {
   "cell_type": "code",
   "execution_count": 8,
   "metadata": {
    "execution": {
     "iopub.execute_input": "2021-03-13T08:46:01.486350Z",
     "iopub.status.busy": "2021-03-13T08:46:01.485300Z",
     "iopub.status.idle": "2021-03-13T08:46:01.486910Z",
     "shell.execute_reply": "2021-03-13T08:46:01.487329Z"
    }
   },
   "outputs": [],
   "source": [
    "zipped = dict(zip(counties, doses))"
   ]
  },
  {
   "cell_type": "code",
   "execution_count": 9,
   "metadata": {
    "execution": {
     "iopub.execute_input": "2021-03-13T08:46:01.493727Z",
     "iopub.status.busy": "2021-03-13T08:46:01.492671Z",
     "iopub.status.idle": "2021-03-13T08:46:01.494284Z",
     "shell.execute_reply": "2021-03-13T08:46:01.494682Z"
    }
   },
   "outputs": [],
   "source": [
    "df = pd.Series(zipped).reset_index()"
   ]
  },
  {
   "cell_type": "code",
   "execution_count": 10,
   "metadata": {
    "execution": {
     "iopub.execute_input": "2021-03-13T08:46:01.498615Z",
     "iopub.status.busy": "2021-03-13T08:46:01.497768Z",
     "iopub.status.idle": "2021-03-13T08:46:01.500052Z",
     "shell.execute_reply": "2021-03-13T08:46:01.499511Z"
    }
   },
   "outputs": [],
   "source": [
    "df.columns = ['location','doses']"
   ]
  },
  {
   "cell_type": "markdown",
   "metadata": {},
   "source": [
    "Grab the overall California total"
   ]
  },
  {
   "cell_type": "code",
   "execution_count": 11,
   "metadata": {
    "execution": {
     "iopub.execute_input": "2021-03-13T08:46:01.504327Z",
     "iopub.status.busy": "2021-03-13T08:46:01.503252Z",
     "iopub.status.idle": "2021-03-13T08:46:01.505569Z",
     "shell.execute_reply": "2021-03-13T08:46:01.505107Z"
    }
   },
   "outputs": [],
   "source": [
    "add = {'location':'California','doses':dataJson[0]['dataValues'][2]}"
   ]
  },
  {
   "cell_type": "code",
   "execution_count": 12,
   "metadata": {
    "execution": {
     "iopub.execute_input": "2021-03-13T08:46:01.512880Z",
     "iopub.status.busy": "2021-03-13T08:46:01.511557Z",
     "iopub.status.idle": "2021-03-13T08:46:01.513494Z",
     "shell.execute_reply": "2021-03-13T08:46:01.513894Z"
    }
   },
   "outputs": [],
   "source": [
    "df = df.append(add, ignore_index=True)"
   ]
  },
  {
   "cell_type": "code",
   "execution_count": 13,
   "metadata": {
    "execution": {
     "iopub.execute_input": "2021-03-13T08:46:01.518946Z",
     "iopub.status.busy": "2021-03-13T08:46:01.517766Z",
     "iopub.status.idle": "2021-03-13T08:46:01.519577Z",
     "shell.execute_reply": "2021-03-13T08:46:01.520006Z"
    }
   },
   "outputs": [],
   "source": [
    "df = df.sort_values(by='location')"
   ]
  },
  {
   "cell_type": "code",
   "execution_count": 14,
   "metadata": {
    "execution": {
     "iopub.execute_input": "2021-03-13T08:46:01.526403Z",
     "iopub.status.busy": "2021-03-13T08:46:01.525302Z",
     "iopub.status.idle": "2021-03-13T08:46:01.526998Z",
     "shell.execute_reply": "2021-03-13T08:46:01.527427Z"
    }
   },
   "outputs": [],
   "source": [
    "df = df[df.location == 'California'].append(df[df.location != 'California']).reset_index(drop=True)"
   ]
  },
  {
   "cell_type": "code",
   "execution_count": null,
   "metadata": {},
   "outputs": [],
   "source": []
  },
  {
   "cell_type": "code",
   "execution_count": 15,
   "metadata": {
    "execution": {
     "iopub.execute_input": "2021-03-13T08:46:01.530808Z",
     "iopub.status.busy": "2021-03-13T08:46:01.530295Z",
     "iopub.status.idle": "2021-03-13T08:46:01.546457Z",
     "shell.execute_reply": "2021-03-13T08:46:01.546871Z"
    }
   },
   "outputs": [],
   "source": [
    "tz = pytz.timezone(\"America/New_York\")"
   ]
  },
  {
   "cell_type": "code",
   "execution_count": 16,
   "metadata": {
    "execution": {
     "iopub.execute_input": "2021-03-13T08:46:01.551133Z",
     "iopub.status.busy": "2021-03-13T08:46:01.549961Z",
     "iopub.status.idle": "2021-03-13T08:46:01.551790Z",
     "shell.execute_reply": "2021-03-13T08:46:01.552222Z"
    }
   },
   "outputs": [],
   "source": [
    "today = datetime.now(tz).date()"
   ]
  },
  {
   "cell_type": "code",
   "execution_count": 17,
   "metadata": {
    "execution": {
     "iopub.execute_input": "2021-03-13T08:46:01.556617Z",
     "iopub.status.busy": "2021-03-13T08:46:01.555341Z",
     "iopub.status.idle": "2021-03-13T08:46:01.557388Z",
     "shell.execute_reply": "2021-03-13T08:46:01.557830Z"
    }
   },
   "outputs": [],
   "source": [
    "data_dir = os.path.join(os.path.abspath(\"\"), \"data\")"
   ]
  },
  {
   "cell_type": "code",
   "execution_count": 18,
   "metadata": {
    "execution": {
     "iopub.execute_input": "2021-03-13T08:46:01.563251Z",
     "iopub.status.busy": "2021-03-13T08:46:01.561044Z",
     "iopub.status.idle": "2021-03-13T08:46:01.565524Z",
     "shell.execute_reply": "2021-03-13T08:46:01.564990Z"
    }
   },
   "outputs": [],
   "source": [
    "df.to_csv(os.path.join(data_dir, f\"{today}.csv\"), index=False)"
   ]
  },
  {
   "cell_type": "code",
   "execution_count": null,
   "metadata": {},
   "outputs": [],
   "source": []
  }
 ],
 "metadata": {
  "kernelspec": {
   "display_name": "Python 3",
   "language": "python",
   "name": "python3"
  },
  "language_info": {
   "codemirror_mode": {
    "name": "ipython",
    "version": 3
   },
   "file_extension": ".py",
   "mimetype": "text/x-python",
   "name": "python",
   "nbconvert_exporter": "python",
   "pygments_lexer": "ipython3",
   "version": "3.8.8"
  }
 },
 "nbformat": 4,
 "nbformat_minor": 4
}
