{
 "cells": [
  {
   "cell_type": "markdown",
   "metadata": {},
   "source": [
    "# California COVID vaccinations scrape"
   ]
  },
  {
   "cell_type": "markdown",
   "metadata": {},
   "source": [
    "By [Amy O'Kruk](https://twitter.com/amyokruk)"
   ]
  },
  {
   "cell_type": "markdown",
   "metadata": {},
   "source": [
    "Downloads data on vaccine doses administered by county and statewide from a Tableau-powered dashboard from the California Department of Public Health."
   ]
  },
  {
   "cell_type": "code",
   "execution_count": 1,
   "metadata": {
    "execution": {
     "iopub.execute_input": "2021-03-10T17:12:57.524699Z",
     "iopub.status.busy": "2021-03-10T17:12:57.524044Z",
     "iopub.status.idle": "2021-03-10T17:12:57.951108Z",
     "shell.execute_reply": "2021-03-10T17:12:57.950183Z"
    }
   },
   "outputs": [],
   "source": [
    "import pandas as pd\n",
    "import requests\n",
    "from bs4 import BeautifulSoup\n",
    "import json\n",
    "import re\n",
    "import time\n",
    "from time import gmtime, strftime \n",
    "import os\n",
    "import pytz\n",
    "from datetime import datetime"
   ]
  },
  {
   "cell_type": "markdown",
   "metadata": {},
   "source": [
    "Scrape the dashboard page"
   ]
  },
  {
   "cell_type": "code",
   "execution_count": 2,
   "metadata": {
    "execution": {
     "iopub.execute_input": "2021-03-10T17:12:57.956888Z",
     "iopub.status.busy": "2021-03-10T17:12:57.954486Z",
     "iopub.status.idle": "2021-03-10T17:12:58.417136Z",
     "shell.execute_reply": "2021-03-10T17:12:58.416137Z"
    }
   },
   "outputs": [],
   "source": [
    "url = \"https://public.tableau.com/interactive/views/COVID-19VaccineDashboardPublic/Vaccine?:embed=y&:showVizHome=n&:apiID=host0\"\n",
    "\n",
    "r = requests.get(url)\n",
    "soup = BeautifulSoup(r.text, \"html.parser\")"
   ]
  },
  {
   "cell_type": "code",
   "execution_count": 3,
   "metadata": {
    "execution": {
     "iopub.execute_input": "2021-03-10T17:12:58.421589Z",
     "iopub.status.busy": "2021-03-10T17:12:58.421102Z",
     "iopub.status.idle": "2021-03-10T17:12:58.424315Z",
     "shell.execute_reply": "2021-03-10T17:12:58.423880Z"
    }
   },
   "outputs": [],
   "source": [
    "tableauData = json.loads(soup.find(\"textarea\",{\"id\": \"tsConfigContainer\"}).text)"
   ]
  },
  {
   "cell_type": "markdown",
   "metadata": {},
   "source": [
    "Get the link to the Tableau data"
   ]
  },
  {
   "cell_type": "code",
   "execution_count": 4,
   "metadata": {
    "execution": {
     "iopub.execute_input": "2021-03-10T17:12:58.427604Z",
     "iopub.status.busy": "2021-03-10T17:12:58.427094Z",
     "iopub.status.idle": "2021-03-10T17:12:58.430327Z",
     "shell.execute_reply": "2021-03-10T17:12:58.429929Z"
    }
   },
   "outputs": [],
   "source": [
    "dataUrl = f'https://public.tableau.com{tableauData[\"vizql_root\"]}/bootstrapSession/sessions/{tableauData[\"sessionid\"]}'"
   ]
  },
  {
   "cell_type": "code",
   "execution_count": 5,
   "metadata": {
    "execution": {
     "iopub.execute_input": "2021-03-10T17:12:58.436702Z",
     "iopub.status.busy": "2021-03-10T17:12:58.435897Z",
     "iopub.status.idle": "2021-03-10T17:12:58.905030Z",
     "shell.execute_reply": "2021-03-10T17:12:58.904503Z"
    }
   },
   "outputs": [],
   "source": [
    "r = requests.post(dataUrl, data= {\n",
    "    \"sheet_id\": tableauData[\"sheetId\"],\n",
    "})\n",
    "\n",
    "dataReg = re.search('\\d+;({.*})\\d+;({.*})', r.text, re.MULTILINE)\n",
    "data1 = json.loads(dataReg.group(2))\n",
    "\n",
    "dataJson = data1[\"secondaryInfo\"][\"presModelMap\"][\"dataDictionary\"][\"presModelHolder\"][\"genDataDictionaryPresModel\"][\"dataSegments\"][\"0\"][\"dataColumns\"]"
   ]
  },
  {
   "cell_type": "markdown",
   "metadata": {},
   "source": [
    "Isolate what you want"
   ]
  },
  {
   "cell_type": "code",
   "execution_count": 6,
   "metadata": {
    "execution": {
     "iopub.execute_input": "2021-03-10T17:12:58.909650Z",
     "iopub.status.busy": "2021-03-10T17:12:58.908485Z",
     "iopub.status.idle": "2021-03-10T17:12:58.910257Z",
     "shell.execute_reply": "2021-03-10T17:12:58.910701Z"
    }
   },
   "outputs": [],
   "source": [
    "counties = dataJson[2]['dataValues'][:58]"
   ]
  },
  {
   "cell_type": "code",
   "execution_count": 7,
   "metadata": {
    "execution": {
     "iopub.execute_input": "2021-03-10T17:12:58.915004Z",
     "iopub.status.busy": "2021-03-10T17:12:58.913941Z",
     "iopub.status.idle": "2021-03-10T17:12:58.915618Z",
     "shell.execute_reply": "2021-03-10T17:12:58.916050Z"
    }
   },
   "outputs": [],
   "source": [
    "doses = dataJson[0]['dataValues'][3:61]"
   ]
  },
  {
   "cell_type": "markdown",
   "metadata": {},
   "source": [
    "Data formatting"
   ]
  },
  {
   "cell_type": "code",
   "execution_count": 8,
   "metadata": {
    "execution": {
     "iopub.execute_input": "2021-03-10T17:12:58.920136Z",
     "iopub.status.busy": "2021-03-10T17:12:58.919000Z",
     "iopub.status.idle": "2021-03-10T17:12:58.920778Z",
     "shell.execute_reply": "2021-03-10T17:12:58.921182Z"
    }
   },
   "outputs": [],
   "source": [
    "zipped = dict(zip(counties, doses))"
   ]
  },
  {
   "cell_type": "code",
   "execution_count": 9,
   "metadata": {
    "execution": {
     "iopub.execute_input": "2021-03-10T17:12:58.927320Z",
     "iopub.status.busy": "2021-03-10T17:12:58.926238Z",
     "iopub.status.idle": "2021-03-10T17:12:58.928002Z",
     "shell.execute_reply": "2021-03-10T17:12:58.928459Z"
    }
   },
   "outputs": [],
   "source": [
    "df = pd.Series(zipped).reset_index()"
   ]
  },
  {
   "cell_type": "code",
   "execution_count": 10,
   "metadata": {
    "execution": {
     "iopub.execute_input": "2021-03-10T17:12:58.932940Z",
     "iopub.status.busy": "2021-03-10T17:12:58.931731Z",
     "iopub.status.idle": "2021-03-10T17:12:58.933540Z",
     "shell.execute_reply": "2021-03-10T17:12:58.933971Z"
    }
   },
   "outputs": [],
   "source": [
    "df.columns = ['location','doses']"
   ]
  },
  {
   "cell_type": "markdown",
   "metadata": {},
   "source": [
    "Grab the overall California total"
   ]
  },
  {
   "cell_type": "code",
   "execution_count": 11,
   "metadata": {
    "execution": {
     "iopub.execute_input": "2021-03-10T17:12:58.938106Z",
     "iopub.status.busy": "2021-03-10T17:12:58.937064Z",
     "iopub.status.idle": "2021-03-10T17:12:58.938656Z",
     "shell.execute_reply": "2021-03-10T17:12:58.939052Z"
    }
   },
   "outputs": [],
   "source": [
    "add = {'location':'California','doses':dataJson[0]['dataValues'][2]}"
   ]
  },
  {
   "cell_type": "code",
   "execution_count": 12,
   "metadata": {
    "execution": {
     "iopub.execute_input": "2021-03-10T17:12:58.945862Z",
     "iopub.status.busy": "2021-03-10T17:12:58.944726Z",
     "iopub.status.idle": "2021-03-10T17:12:58.946412Z",
     "shell.execute_reply": "2021-03-10T17:12:58.946808Z"
    }
   },
   "outputs": [],
   "source": [
    "df = df.append(add, ignore_index=True)"
   ]
  },
  {
   "cell_type": "code",
   "execution_count": 13,
   "metadata": {
    "execution": {
     "iopub.execute_input": "2021-03-10T17:12:58.951226Z",
     "iopub.status.busy": "2021-03-10T17:12:58.950283Z",
     "iopub.status.idle": "2021-03-10T17:12:58.951860Z",
     "shell.execute_reply": "2021-03-10T17:12:58.952294Z"
    }
   },
   "outputs": [],
   "source": [
    "df = df.sort_values(by='location')"
   ]
  },
  {
   "cell_type": "code",
   "execution_count": 14,
   "metadata": {
    "execution": {
     "iopub.execute_input": "2021-03-10T17:12:58.958064Z",
     "iopub.status.busy": "2021-03-10T17:12:58.957139Z",
     "iopub.status.idle": "2021-03-10T17:12:58.958841Z",
     "shell.execute_reply": "2021-03-10T17:12:58.959275Z"
    }
   },
   "outputs": [],
   "source": [
    "df = df[df.location == 'California'].append(df[df.location != 'California']).reset_index(drop=True)"
   ]
  },
  {
   "cell_type": "code",
   "execution_count": null,
   "metadata": {},
   "outputs": [],
   "source": []
  },
  {
   "cell_type": "code",
   "execution_count": 15,
   "metadata": {
    "execution": {
     "iopub.execute_input": "2021-03-10T17:12:58.962455Z",
     "iopub.status.busy": "2021-03-10T17:12:58.961979Z",
     "iopub.status.idle": "2021-03-10T17:12:58.977446Z",
     "shell.execute_reply": "2021-03-10T17:12:58.977828Z"
    }
   },
   "outputs": [],
   "source": [
    "tz = pytz.timezone(\"America/New_York\")"
   ]
  },
  {
   "cell_type": "code",
   "execution_count": 16,
   "metadata": {
    "execution": {
     "iopub.execute_input": "2021-03-10T17:12:58.981752Z",
     "iopub.status.busy": "2021-03-10T17:12:58.980659Z",
     "iopub.status.idle": "2021-03-10T17:12:58.982394Z",
     "shell.execute_reply": "2021-03-10T17:12:58.982798Z"
    }
   },
   "outputs": [],
   "source": [
    "today = datetime.now(tz).date()"
   ]
  },
  {
   "cell_type": "code",
   "execution_count": 17,
   "metadata": {
    "execution": {
     "iopub.execute_input": "2021-03-10T17:12:58.986684Z",
     "iopub.status.busy": "2021-03-10T17:12:58.985692Z",
     "iopub.status.idle": "2021-03-10T17:12:58.987247Z",
     "shell.execute_reply": "2021-03-10T17:12:58.987643Z"
    }
   },
   "outputs": [],
   "source": [
    "data_dir = os.path.join(os.path.abspath(\"\"), \"data\")"
   ]
  },
  {
   "cell_type": "code",
   "execution_count": 18,
   "metadata": {
    "execution": {
     "iopub.execute_input": "2021-03-10T17:12:58.991848Z",
     "iopub.status.busy": "2021-03-10T17:12:58.990572Z",
     "iopub.status.idle": "2021-03-10T17:12:58.994945Z",
     "shell.execute_reply": "2021-03-10T17:12:58.994537Z"
    }
   },
   "outputs": [],
   "source": [
    "df.to_csv(os.path.join(data_dir, f\"{today}.csv\"), index=False)"
   ]
  },
  {
   "cell_type": "code",
   "execution_count": null,
   "metadata": {},
   "outputs": [],
   "source": []
  }
 ],
 "metadata": {
  "kernelspec": {
   "display_name": "Python 3",
   "language": "python",
   "name": "python3"
  },
  "language_info": {
   "codemirror_mode": {
    "name": "ipython",
    "version": 3
   },
   "file_extension": ".py",
   "mimetype": "text/x-python",
   "name": "python",
   "nbconvert_exporter": "python",
   "pygments_lexer": "ipython3",
   "version": "3.8.8"
  }
 },
 "nbformat": 4,
 "nbformat_minor": 4
}
