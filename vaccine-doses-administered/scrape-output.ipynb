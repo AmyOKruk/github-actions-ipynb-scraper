{
 "cells": [
  {
   "cell_type": "markdown",
   "metadata": {},
   "source": [
    "# California COVID vaccinations scrape"
   ]
  },
  {
   "cell_type": "markdown",
   "metadata": {},
   "source": [
    "By [Amy O'Kruk](https://twitter.com/amyokruk)"
   ]
  },
  {
   "cell_type": "markdown",
   "metadata": {},
   "source": [
    "Downloads data on vaccine doses administered by county and statewide from a Tableau-powered dashboard from the California Department of Public Health."
   ]
  },
  {
   "cell_type": "code",
   "execution_count": 1,
   "metadata": {
    "execution": {
     "iopub.execute_input": "2021-03-18T10:14:12.624322Z",
     "iopub.status.busy": "2021-03-18T10:14:12.623732Z",
     "iopub.status.idle": "2021-03-18T10:14:13.076831Z",
     "shell.execute_reply": "2021-03-18T10:14:13.075702Z"
    }
   },
   "outputs": [],
   "source": [
    "import pandas as pd\n",
    "import requests\n",
    "from bs4 import BeautifulSoup\n",
    "import json\n",
    "import re\n",
    "import time\n",
    "from time import gmtime, strftime \n",
    "import os\n",
    "import pytz\n",
    "from datetime import datetime"
   ]
  },
  {
   "cell_type": "markdown",
   "metadata": {},
   "source": [
    "Scrape the dashboard page"
   ]
  },
  {
   "cell_type": "code",
   "execution_count": 2,
   "metadata": {
    "execution": {
     "iopub.execute_input": "2021-03-18T10:14:13.081442Z",
     "iopub.status.busy": "2021-03-18T10:14:13.079685Z",
     "iopub.status.idle": "2021-03-18T10:14:18.441543Z",
     "shell.execute_reply": "2021-03-18T10:14:18.440434Z"
    }
   },
   "outputs": [],
   "source": [
    "url = \"https://public.tableau.com/interactive/views/COVID-19VaccineDashboardPublic/Vaccine?:embed=y&:showVizHome=n&:apiID=host0\"\n",
    "\n",
    "r = requests.get(url)\n",
    "soup = BeautifulSoup(r.text, \"html.parser\")"
   ]
  },
  {
   "cell_type": "code",
   "execution_count": 3,
   "metadata": {
    "execution": {
     "iopub.execute_input": "2021-03-18T10:14:18.447442Z",
     "iopub.status.busy": "2021-03-18T10:14:18.446638Z",
     "iopub.status.idle": "2021-03-18T10:14:18.450497Z",
     "shell.execute_reply": "2021-03-18T10:14:18.450016Z"
    }
   },
   "outputs": [],
   "source": [
    "tableauData = json.loads(soup.find(\"textarea\",{\"id\": \"tsConfigContainer\"}).text)"
   ]
  },
  {
   "cell_type": "markdown",
   "metadata": {},
   "source": [
    "Get the link to the Tableau data"
   ]
  },
  {
   "cell_type": "code",
   "execution_count": 4,
   "metadata": {
    "execution": {
     "iopub.execute_input": "2021-03-18T10:14:18.455002Z",
     "iopub.status.busy": "2021-03-18T10:14:18.454431Z",
     "iopub.status.idle": "2021-03-18T10:14:18.458020Z",
     "shell.execute_reply": "2021-03-18T10:14:18.457495Z"
    }
   },
   "outputs": [],
   "source": [
    "dataUrl = f'https://public.tableau.com{tableauData[\"vizql_root\"]}/bootstrapSession/sessions/{tableauData[\"sessionid\"]}'"
   ]
  },
  {
   "cell_type": "code",
   "execution_count": 5,
   "metadata": {
    "execution": {
     "iopub.execute_input": "2021-03-18T10:14:18.465428Z",
     "iopub.status.busy": "2021-03-18T10:14:18.464878Z",
     "iopub.status.idle": "2021-03-18T10:14:22.157121Z",
     "shell.execute_reply": "2021-03-18T10:14:22.156047Z"
    }
   },
   "outputs": [],
   "source": [
    "r = requests.post(dataUrl, data= {\n",
    "    \"sheet_id\": tableauData[\"sheetId\"],\n",
    "})\n",
    "\n",
    "dataReg = re.search('\\d+;({.*})\\d+;({.*})', r.text, re.MULTILINE)\n",
    "data1 = json.loads(dataReg.group(2))\n",
    "\n",
    "dataJson = data1[\"secondaryInfo\"][\"presModelMap\"][\"dataDictionary\"][\"presModelHolder\"][\"genDataDictionaryPresModel\"][\"dataSegments\"][\"0\"][\"dataColumns\"]"
   ]
  },
  {
   "cell_type": "markdown",
   "metadata": {},
   "source": [
    "Isolate what you want"
   ]
  },
  {
   "cell_type": "code",
   "execution_count": 6,
   "metadata": {
    "execution": {
     "iopub.execute_input": "2021-03-18T10:14:22.160922Z",
     "iopub.status.busy": "2021-03-18T10:14:22.160435Z",
     "iopub.status.idle": "2021-03-18T10:14:22.164307Z",
     "shell.execute_reply": "2021-03-18T10:14:22.163529Z"
    }
   },
   "outputs": [],
   "source": [
    "counties = dataJson[2]['dataValues'][:58]"
   ]
  },
  {
   "cell_type": "code",
   "execution_count": 7,
   "metadata": {
    "execution": {
     "iopub.execute_input": "2021-03-18T10:14:22.167926Z",
     "iopub.status.busy": "2021-03-18T10:14:22.167409Z",
     "iopub.status.idle": "2021-03-18T10:14:22.171122Z",
     "shell.execute_reply": "2021-03-18T10:14:22.170694Z"
    }
   },
   "outputs": [],
   "source": [
    "doses = dataJson[0]['dataValues'][3:61]"
   ]
  },
  {
   "cell_type": "markdown",
   "metadata": {},
   "source": [
    "Data formatting"
   ]
  },
  {
   "cell_type": "code",
   "execution_count": 8,
   "metadata": {
    "execution": {
     "iopub.execute_input": "2021-03-18T10:14:22.174558Z",
     "iopub.status.busy": "2021-03-18T10:14:22.174037Z",
     "iopub.status.idle": "2021-03-18T10:14:22.177010Z",
     "shell.execute_reply": "2021-03-18T10:14:22.177407Z"
    }
   },
   "outputs": [],
   "source": [
    "zipped = dict(zip(counties, doses))"
   ]
  },
  {
   "cell_type": "code",
   "execution_count": 9,
   "metadata": {
    "execution": {
     "iopub.execute_input": "2021-03-18T10:14:22.183672Z",
     "iopub.status.busy": "2021-03-18T10:14:22.182536Z",
     "iopub.status.idle": "2021-03-18T10:14:22.184360Z",
     "shell.execute_reply": "2021-03-18T10:14:22.184817Z"
    }
   },
   "outputs": [],
   "source": [
    "df = pd.Series(zipped).reset_index()"
   ]
  },
  {
   "cell_type": "code",
   "execution_count": 10,
   "metadata": {
    "execution": {
     "iopub.execute_input": "2021-03-18T10:14:22.189177Z",
     "iopub.status.busy": "2021-03-18T10:14:22.188094Z",
     "iopub.status.idle": "2021-03-18T10:14:22.189793Z",
     "shell.execute_reply": "2021-03-18T10:14:22.190225Z"
    }
   },
   "outputs": [],
   "source": [
    "df.columns = ['location','doses']"
   ]
  },
  {
   "cell_type": "markdown",
   "metadata": {},
   "source": [
    "Grab the overall California total"
   ]
  },
  {
   "cell_type": "code",
   "execution_count": 11,
   "metadata": {
    "execution": {
     "iopub.execute_input": "2021-03-18T10:14:22.194543Z",
     "iopub.status.busy": "2021-03-18T10:14:22.193360Z",
     "iopub.status.idle": "2021-03-18T10:14:22.195151Z",
     "shell.execute_reply": "2021-03-18T10:14:22.195579Z"
    }
   },
   "outputs": [],
   "source": [
    "add = {'location':'California','doses':dataJson[0]['dataValues'][2]}"
   ]
  },
  {
   "cell_type": "code",
   "execution_count": 12,
   "metadata": {
    "execution": {
     "iopub.execute_input": "2021-03-18T10:14:22.202530Z",
     "iopub.status.busy": "2021-03-18T10:14:22.201379Z",
     "iopub.status.idle": "2021-03-18T10:14:22.203124Z",
     "shell.execute_reply": "2021-03-18T10:14:22.203546Z"
    }
   },
   "outputs": [],
   "source": [
    "df = df.append(add, ignore_index=True)"
   ]
  },
  {
   "cell_type": "code",
   "execution_count": 13,
   "metadata": {
    "execution": {
     "iopub.execute_input": "2021-03-18T10:14:22.208280Z",
     "iopub.status.busy": "2021-03-18T10:14:22.207186Z",
     "iopub.status.idle": "2021-03-18T10:14:22.208875Z",
     "shell.execute_reply": "2021-03-18T10:14:22.209297Z"
    }
   },
   "outputs": [],
   "source": [
    "df = df.sort_values(by='location')"
   ]
  },
  {
   "cell_type": "code",
   "execution_count": 14,
   "metadata": {
    "execution": {
     "iopub.execute_input": "2021-03-18T10:14:22.215557Z",
     "iopub.status.busy": "2021-03-18T10:14:22.214352Z",
     "iopub.status.idle": "2021-03-18T10:14:22.216152Z",
     "shell.execute_reply": "2021-03-18T10:14:22.216575Z"
    }
   },
   "outputs": [],
   "source": [
    "df = df[df.location == 'California'].append(df[df.location != 'California']).reset_index(drop=True)"
   ]
  },
  {
   "cell_type": "code",
   "execution_count": null,
   "metadata": {},
   "outputs": [],
   "source": []
  },
  {
   "cell_type": "code",
   "execution_count": 15,
   "metadata": {
    "execution": {
     "iopub.execute_input": "2021-03-18T10:14:22.219850Z",
     "iopub.status.busy": "2021-03-18T10:14:22.219343Z",
     "iopub.status.idle": "2021-03-18T10:14:22.236128Z",
     "shell.execute_reply": "2021-03-18T10:14:22.235696Z"
    }
   },
   "outputs": [],
   "source": [
    "tz = pytz.timezone(\"America/New_York\")"
   ]
  },
  {
   "cell_type": "code",
   "execution_count": 16,
   "metadata": {
    "execution": {
     "iopub.execute_input": "2021-03-18T10:14:22.240188Z",
     "iopub.status.busy": "2021-03-18T10:14:22.239117Z",
     "iopub.status.idle": "2021-03-18T10:14:22.240728Z",
     "shell.execute_reply": "2021-03-18T10:14:22.241124Z"
    }
   },
   "outputs": [],
   "source": [
    "today = datetime.now(tz).date()"
   ]
  },
  {
   "cell_type": "code",
   "execution_count": 17,
   "metadata": {
    "execution": {
     "iopub.execute_input": "2021-03-18T10:14:22.245434Z",
     "iopub.status.busy": "2021-03-18T10:14:22.244239Z",
     "iopub.status.idle": "2021-03-18T10:14:22.246083Z",
     "shell.execute_reply": "2021-03-18T10:14:22.246487Z"
    }
   },
   "outputs": [],
   "source": [
    "data_dir = os.path.join(os.path.abspath(\"\"), \"data\")"
   ]
  },
  {
   "cell_type": "code",
   "execution_count": 18,
   "metadata": {
    "execution": {
     "iopub.execute_input": "2021-03-18T10:14:22.251747Z",
     "iopub.status.busy": "2021-03-18T10:14:22.249589Z",
     "iopub.status.idle": "2021-03-18T10:14:22.253617Z",
     "shell.execute_reply": "2021-03-18T10:14:22.254066Z"
    }
   },
   "outputs": [],
   "source": [
    "df.to_csv(os.path.join(data_dir, f\"{today}.csv\"), index=False)"
   ]
  },
  {
   "cell_type": "code",
   "execution_count": null,
   "metadata": {},
   "outputs": [],
   "source": []
  }
 ],
 "metadata": {
  "kernelspec": {
   "display_name": "Python 3",
   "language": "python",
   "name": "python3"
  },
  "language_info": {
   "codemirror_mode": {
    "name": "ipython",
    "version": 3
   },
   "file_extension": ".py",
   "mimetype": "text/x-python",
   "name": "python",
   "nbconvert_exporter": "python",
   "pygments_lexer": "ipython3",
   "version": "3.8.8"
  }
 },
 "nbformat": 4,
 "nbformat_minor": 4
}
