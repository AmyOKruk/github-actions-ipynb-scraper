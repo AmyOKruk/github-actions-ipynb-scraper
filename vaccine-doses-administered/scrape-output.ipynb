{
 "cells": [
  {
   "cell_type": "markdown",
   "metadata": {},
   "source": [
    "# California COVID vaccinations scrape"
   ]
  },
  {
   "cell_type": "markdown",
   "metadata": {},
   "source": [
    "By [Amy O'Kruk](https://twitter.com/amyokruk)"
   ]
  },
  {
   "cell_type": "markdown",
   "metadata": {},
   "source": [
    "Downloads data on vaccine doses administered by county and statewide from a Tableau-powered dashboard from the California Department of Public Health."
   ]
  },
  {
   "cell_type": "code",
   "execution_count": 1,
   "metadata": {
    "execution": {
     "iopub.execute_input": "2021-03-24T10:00:59.842376Z",
     "iopub.status.busy": "2021-03-24T10:00:59.841109Z",
     "iopub.status.idle": "2021-03-24T10:01:00.417737Z",
     "shell.execute_reply": "2021-03-24T10:01:00.416925Z"
    }
   },
   "outputs": [],
   "source": [
    "import pandas as pd\n",
    "import requests\n",
    "from bs4 import BeautifulSoup\n",
    "import json\n",
    "import re\n",
    "import time\n",
    "from time import gmtime, strftime \n",
    "import os\n",
    "import pytz\n",
    "from datetime import datetime"
   ]
  },
  {
   "cell_type": "markdown",
   "metadata": {},
   "source": [
    "Scrape the dashboard page"
   ]
  },
  {
   "cell_type": "code",
   "execution_count": 2,
   "metadata": {
    "execution": {
     "iopub.execute_input": "2021-03-24T10:01:00.422453Z",
     "iopub.status.busy": "2021-03-24T10:01:00.421811Z",
     "iopub.status.idle": "2021-03-24T10:01:01.099407Z",
     "shell.execute_reply": "2021-03-24T10:01:01.098464Z"
    }
   },
   "outputs": [],
   "source": [
    "url = \"https://public.tableau.com/interactive/views/COVID-19VaccineDashboardPublic/Vaccine?:embed=y&:showVizHome=n&:apiID=host0\"\n",
    "\n",
    "r = requests.get(url)\n",
    "soup = BeautifulSoup(r.text, \"html.parser\")"
   ]
  },
  {
   "cell_type": "code",
   "execution_count": 3,
   "metadata": {
    "execution": {
     "iopub.execute_input": "2021-03-24T10:01:01.105027Z",
     "iopub.status.busy": "2021-03-24T10:01:01.104503Z",
     "iopub.status.idle": "2021-03-24T10:01:01.108355Z",
     "shell.execute_reply": "2021-03-24T10:01:01.107891Z"
    }
   },
   "outputs": [],
   "source": [
    "tableauData = json.loads(soup.find(\"textarea\",{\"id\": \"tsConfigContainer\"}).text)"
   ]
  },
  {
   "cell_type": "markdown",
   "metadata": {},
   "source": [
    "Get the link to the Tableau data"
   ]
  },
  {
   "cell_type": "code",
   "execution_count": 4,
   "metadata": {
    "execution": {
     "iopub.execute_input": "2021-03-24T10:01:01.111953Z",
     "iopub.status.busy": "2021-03-24T10:01:01.111438Z",
     "iopub.status.idle": "2021-03-24T10:01:01.115181Z",
     "shell.execute_reply": "2021-03-24T10:01:01.114689Z"
    }
   },
   "outputs": [],
   "source": [
    "dataUrl = f'https://public.tableau.com{tableauData[\"vizql_root\"]}/bootstrapSession/sessions/{tableauData[\"sessionid\"]}'"
   ]
  },
  {
   "cell_type": "code",
   "execution_count": 5,
   "metadata": {
    "execution": {
     "iopub.execute_input": "2021-03-24T10:01:01.122609Z",
     "iopub.status.busy": "2021-03-24T10:01:01.122061Z",
     "iopub.status.idle": "2021-03-24T10:01:01.766178Z",
     "shell.execute_reply": "2021-03-24T10:01:01.765698Z"
    }
   },
   "outputs": [],
   "source": [
    "r = requests.post(dataUrl, data= {\n",
    "    \"sheet_id\": tableauData[\"sheetId\"],\n",
    "})\n",
    "\n",
    "dataReg = re.search('\\d+;({.*})\\d+;({.*})', r.text, re.MULTILINE)\n",
    "data1 = json.loads(dataReg.group(2))\n",
    "\n",
    "dataJson = data1[\"secondaryInfo\"][\"presModelMap\"][\"dataDictionary\"][\"presModelHolder\"][\"genDataDictionaryPresModel\"][\"dataSegments\"][\"0\"][\"dataColumns\"]"
   ]
  },
  {
   "cell_type": "markdown",
   "metadata": {},
   "source": [
    "Isolate what you want"
   ]
  },
  {
   "cell_type": "code",
   "execution_count": 6,
   "metadata": {
    "execution": {
     "iopub.execute_input": "2021-03-24T10:01:01.770116Z",
     "iopub.status.busy": "2021-03-24T10:01:01.769581Z",
     "iopub.status.idle": "2021-03-24T10:01:01.773117Z",
     "shell.execute_reply": "2021-03-24T10:01:01.772630Z"
    }
   },
   "outputs": [],
   "source": [
    "counties = dataJson[2]['dataValues'][:58]"
   ]
  },
  {
   "cell_type": "code",
   "execution_count": 7,
   "metadata": {
    "execution": {
     "iopub.execute_input": "2021-03-24T10:01:01.777855Z",
     "iopub.status.busy": "2021-03-24T10:01:01.776480Z",
     "iopub.status.idle": "2021-03-24T10:01:01.778555Z",
     "shell.execute_reply": "2021-03-24T10:01:01.779101Z"
    }
   },
   "outputs": [],
   "source": [
    "doses = dataJson[0]['dataValues'][3:61]"
   ]
  },
  {
   "cell_type": "markdown",
   "metadata": {},
   "source": [
    "Data formatting"
   ]
  },
  {
   "cell_type": "code",
   "execution_count": 8,
   "metadata": {
    "execution": {
     "iopub.execute_input": "2021-03-24T10:01:01.783505Z",
     "iopub.status.busy": "2021-03-24T10:01:01.782307Z",
     "iopub.status.idle": "2021-03-24T10:01:01.784277Z",
     "shell.execute_reply": "2021-03-24T10:01:01.784731Z"
    }
   },
   "outputs": [],
   "source": [
    "zipped = dict(zip(counties, doses))"
   ]
  },
  {
   "cell_type": "code",
   "execution_count": 9,
   "metadata": {
    "execution": {
     "iopub.execute_input": "2021-03-24T10:01:01.791373Z",
     "iopub.status.busy": "2021-03-24T10:01:01.790092Z",
     "iopub.status.idle": "2021-03-24T10:01:01.791969Z",
     "shell.execute_reply": "2021-03-24T10:01:01.792405Z"
    }
   },
   "outputs": [],
   "source": [
    "df = pd.Series(zipped).reset_index()"
   ]
  },
  {
   "cell_type": "code",
   "execution_count": 10,
   "metadata": {
    "execution": {
     "iopub.execute_input": "2021-03-24T10:01:01.796956Z",
     "iopub.status.busy": "2021-03-24T10:01:01.795768Z",
     "iopub.status.idle": "2021-03-24T10:01:01.797552Z",
     "shell.execute_reply": "2021-03-24T10:01:01.797977Z"
    }
   },
   "outputs": [],
   "source": [
    "df.columns = ['location','doses']"
   ]
  },
  {
   "cell_type": "markdown",
   "metadata": {},
   "source": [
    "Grab the overall California total"
   ]
  },
  {
   "cell_type": "code",
   "execution_count": 11,
   "metadata": {
    "execution": {
     "iopub.execute_input": "2021-03-24T10:01:01.804068Z",
     "iopub.status.busy": "2021-03-24T10:01:01.802577Z",
     "iopub.status.idle": "2021-03-24T10:01:01.805585Z",
     "shell.execute_reply": "2021-03-24T10:01:01.804797Z"
    }
   },
   "outputs": [],
   "source": [
    "add = {'location':'California','doses':dataJson[0]['dataValues'][2]}"
   ]
  },
  {
   "cell_type": "code",
   "execution_count": 12,
   "metadata": {
    "execution": {
     "iopub.execute_input": "2021-03-24T10:01:01.812669Z",
     "iopub.status.busy": "2021-03-24T10:01:01.811562Z",
     "iopub.status.idle": "2021-03-24T10:01:01.813262Z",
     "shell.execute_reply": "2021-03-24T10:01:01.813685Z"
    }
   },
   "outputs": [],
   "source": [
    "df = df.append(add, ignore_index=True)"
   ]
  },
  {
   "cell_type": "code",
   "execution_count": 13,
   "metadata": {
    "execution": {
     "iopub.execute_input": "2021-03-24T10:01:01.818634Z",
     "iopub.status.busy": "2021-03-24T10:01:01.817589Z",
     "iopub.status.idle": "2021-03-24T10:01:01.819502Z",
     "shell.execute_reply": "2021-03-24T10:01:01.819950Z"
    }
   },
   "outputs": [],
   "source": [
    "df = df.sort_values(by='location')"
   ]
  },
  {
   "cell_type": "code",
   "execution_count": 14,
   "metadata": {
    "execution": {
     "iopub.execute_input": "2021-03-24T10:01:01.826530Z",
     "iopub.status.busy": "2021-03-24T10:01:01.825333Z",
     "iopub.status.idle": "2021-03-24T10:01:01.827159Z",
     "shell.execute_reply": "2021-03-24T10:01:01.827593Z"
    }
   },
   "outputs": [],
   "source": [
    "df = df[df.location == 'California'].append(df[df.location != 'California']).reset_index(drop=True)"
   ]
  },
  {
   "cell_type": "code",
   "execution_count": null,
   "metadata": {},
   "outputs": [],
   "source": []
  },
  {
   "cell_type": "code",
   "execution_count": 15,
   "metadata": {
    "execution": {
     "iopub.execute_input": "2021-03-24T10:01:01.830861Z",
     "iopub.status.busy": "2021-03-24T10:01:01.830354Z",
     "iopub.status.idle": "2021-03-24T10:01:01.848048Z",
     "shell.execute_reply": "2021-03-24T10:01:01.848467Z"
    }
   },
   "outputs": [],
   "source": [
    "tz = pytz.timezone(\"America/New_York\")"
   ]
  },
  {
   "cell_type": "code",
   "execution_count": 16,
   "metadata": {
    "execution": {
     "iopub.execute_input": "2021-03-24T10:01:01.852907Z",
     "iopub.status.busy": "2021-03-24T10:01:01.851783Z",
     "iopub.status.idle": "2021-03-24T10:01:01.853502Z",
     "shell.execute_reply": "2021-03-24T10:01:01.853939Z"
    }
   },
   "outputs": [],
   "source": [
    "today = datetime.now(tz).date()"
   ]
  },
  {
   "cell_type": "code",
   "execution_count": 17,
   "metadata": {
    "execution": {
     "iopub.execute_input": "2021-03-24T10:01:01.858382Z",
     "iopub.status.busy": "2021-03-24T10:01:01.857156Z",
     "iopub.status.idle": "2021-03-24T10:01:01.859006Z",
     "shell.execute_reply": "2021-03-24T10:01:01.859438Z"
    }
   },
   "outputs": [],
   "source": [
    "data_dir = os.path.join(os.path.abspath(\"\"), \"data\")"
   ]
  },
  {
   "cell_type": "code",
   "execution_count": 18,
   "metadata": {
    "execution": {
     "iopub.execute_input": "2021-03-24T10:01:01.863842Z",
     "iopub.status.busy": "2021-03-24T10:01:01.862637Z",
     "iopub.status.idle": "2021-03-24T10:01:01.867562Z",
     "shell.execute_reply": "2021-03-24T10:01:01.867078Z"
    }
   },
   "outputs": [],
   "source": [
    "df.to_csv(os.path.join(data_dir, f\"{today}.csv\"), index=False)"
   ]
  },
  {
   "cell_type": "code",
   "execution_count": null,
   "metadata": {},
   "outputs": [],
   "source": []
  }
 ],
 "metadata": {
  "kernelspec": {
   "display_name": "Python 3",
   "language": "python",
   "name": "python3"
  },
  "language_info": {
   "codemirror_mode": {
    "name": "ipython",
    "version": 3
   },
   "file_extension": ".py",
   "mimetype": "text/x-python",
   "name": "python",
   "nbconvert_exporter": "python",
   "pygments_lexer": "ipython3",
   "version": "3.8.8"
  }
 },
 "nbformat": 4,
 "nbformat_minor": 4
}
