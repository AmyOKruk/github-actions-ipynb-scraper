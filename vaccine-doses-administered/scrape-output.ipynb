{
 "cells": [
  {
   "cell_type": "markdown",
   "metadata": {},
   "source": [
    "# California COVID vaccinations scrape"
   ]
  },
  {
   "cell_type": "markdown",
   "metadata": {},
   "source": [
    "By [Amy O'Kruk](https://twitter.com/amyokruk)"
   ]
  },
  {
   "cell_type": "markdown",
   "metadata": {},
   "source": [
    "Downloads data on vaccine doses administered by county and statewide from a Tableau-powered dashboard from the California Department of Public Health."
   ]
  },
  {
   "cell_type": "code",
   "execution_count": 1,
   "metadata": {
    "execution": {
     "iopub.execute_input": "2021-03-11T02:52:17.269325Z",
     "iopub.status.busy": "2021-03-11T02:52:17.268806Z",
     "iopub.status.idle": "2021-03-11T02:52:17.599993Z",
     "shell.execute_reply": "2021-03-11T02:52:17.598932Z"
    }
   },
   "outputs": [],
   "source": [
    "import pandas as pd\n",
    "import requests\n",
    "from bs4 import BeautifulSoup\n",
    "import json\n",
    "import re\n",
    "import time\n",
    "from time import gmtime, strftime \n",
    "import os\n",
    "import pytz\n",
    "from datetime import datetime"
   ]
  },
  {
   "cell_type": "markdown",
   "metadata": {},
   "source": [
    "Scrape the dashboard page"
   ]
  },
  {
   "cell_type": "code",
   "execution_count": 2,
   "metadata": {
    "execution": {
     "iopub.execute_input": "2021-03-11T02:52:17.604308Z",
     "iopub.status.busy": "2021-03-11T02:52:17.602913Z",
     "iopub.status.idle": "2021-03-11T02:52:18.557606Z",
     "shell.execute_reply": "2021-03-11T02:52:18.556756Z"
    }
   },
   "outputs": [],
   "source": [
    "url = \"https://public.tableau.com/interactive/views/COVID-19VaccineDashboardPublic/Vaccine?:embed=y&:showVizHome=n&:apiID=host0\"\n",
    "\n",
    "r = requests.get(url)\n",
    "soup = BeautifulSoup(r.text, \"html.parser\")"
   ]
  },
  {
   "cell_type": "code",
   "execution_count": 3,
   "metadata": {
    "execution": {
     "iopub.execute_input": "2021-03-11T02:52:18.564175Z",
     "iopub.status.busy": "2021-03-11T02:52:18.563295Z",
     "iopub.status.idle": "2021-03-11T02:52:18.564986Z",
     "shell.execute_reply": "2021-03-11T02:52:18.564627Z"
    }
   },
   "outputs": [],
   "source": [
    "tableauData = json.loads(soup.find(\"textarea\",{\"id\": \"tsConfigContainer\"}).text)"
   ]
  },
  {
   "cell_type": "markdown",
   "metadata": {},
   "source": [
    "Get the link to the Tableau data"
   ]
  },
  {
   "cell_type": "code",
   "execution_count": 4,
   "metadata": {
    "execution": {
     "iopub.execute_input": "2021-03-11T02:52:18.568467Z",
     "iopub.status.busy": "2021-03-11T02:52:18.567312Z",
     "iopub.status.idle": "2021-03-11T02:52:18.569152Z",
     "shell.execute_reply": "2021-03-11T02:52:18.569570Z"
    }
   },
   "outputs": [],
   "source": [
    "dataUrl = f'https://public.tableau.com{tableauData[\"vizql_root\"]}/bootstrapSession/sessions/{tableauData[\"sessionid\"]}'"
   ]
  },
  {
   "cell_type": "code",
   "execution_count": 5,
   "metadata": {
    "execution": {
     "iopub.execute_input": "2021-03-11T02:52:18.575809Z",
     "iopub.status.busy": "2021-03-11T02:52:18.575315Z",
     "iopub.status.idle": "2021-03-11T02:52:18.747951Z",
     "shell.execute_reply": "2021-03-11T02:52:18.747416Z"
    }
   },
   "outputs": [],
   "source": [
    "r = requests.post(dataUrl, data= {\n",
    "    \"sheet_id\": tableauData[\"sheetId\"],\n",
    "})\n",
    "\n",
    "dataReg = re.search('\\d+;({.*})\\d+;({.*})', r.text, re.MULTILINE)\n",
    "data1 = json.loads(dataReg.group(2))\n",
    "\n",
    "dataJson = data1[\"secondaryInfo\"][\"presModelMap\"][\"dataDictionary\"][\"presModelHolder\"][\"genDataDictionaryPresModel\"][\"dataSegments\"][\"0\"][\"dataColumns\"]"
   ]
  },
  {
   "cell_type": "markdown",
   "metadata": {},
   "source": [
    "Isolate what you want"
   ]
  },
  {
   "cell_type": "code",
   "execution_count": 6,
   "metadata": {
    "execution": {
     "iopub.execute_input": "2021-03-11T02:52:18.752698Z",
     "iopub.status.busy": "2021-03-11T02:52:18.751314Z",
     "iopub.status.idle": "2021-03-11T02:52:18.753401Z",
     "shell.execute_reply": "2021-03-11T02:52:18.753904Z"
    }
   },
   "outputs": [],
   "source": [
    "counties = dataJson[2]['dataValues'][:58]"
   ]
  },
  {
   "cell_type": "code",
   "execution_count": 7,
   "metadata": {
    "execution": {
     "iopub.execute_input": "2021-03-11T02:52:18.757359Z",
     "iopub.status.busy": "2021-03-11T02:52:18.756794Z",
     "iopub.status.idle": "2021-03-11T02:52:18.759232Z",
     "shell.execute_reply": "2021-03-11T02:52:18.758709Z"
    }
   },
   "outputs": [],
   "source": [
    "doses = dataJson[0]['dataValues'][3:61]"
   ]
  },
  {
   "cell_type": "markdown",
   "metadata": {},
   "source": [
    "Data formatting"
   ]
  },
  {
   "cell_type": "code",
   "execution_count": 8,
   "metadata": {
    "execution": {
     "iopub.execute_input": "2021-03-11T02:52:18.762074Z",
     "iopub.status.busy": "2021-03-11T02:52:18.761500Z",
     "iopub.status.idle": "2021-03-11T02:52:18.763434Z",
     "shell.execute_reply": "2021-03-11T02:52:18.763044Z"
    }
   },
   "outputs": [],
   "source": [
    "zipped = dict(zip(counties, doses))"
   ]
  },
  {
   "cell_type": "code",
   "execution_count": 9,
   "metadata": {
    "execution": {
     "iopub.execute_input": "2021-03-11T02:52:18.768617Z",
     "iopub.status.busy": "2021-03-11T02:52:18.767758Z",
     "iopub.status.idle": "2021-03-11T02:52:18.769308Z",
     "shell.execute_reply": "2021-03-11T02:52:18.769701Z"
    }
   },
   "outputs": [],
   "source": [
    "df = pd.Series(zipped).reset_index()"
   ]
  },
  {
   "cell_type": "code",
   "execution_count": 10,
   "metadata": {
    "execution": {
     "iopub.execute_input": "2021-03-11T02:52:18.773930Z",
     "iopub.status.busy": "2021-03-11T02:52:18.772758Z",
     "iopub.status.idle": "2021-03-11T02:52:18.774527Z",
     "shell.execute_reply": "2021-03-11T02:52:18.774956Z"
    }
   },
   "outputs": [],
   "source": [
    "df.columns = ['location','doses']"
   ]
  },
  {
   "cell_type": "markdown",
   "metadata": {},
   "source": [
    "Grab the overall California total"
   ]
  },
  {
   "cell_type": "code",
   "execution_count": 11,
   "metadata": {
    "execution": {
     "iopub.execute_input": "2021-03-11T02:52:18.779179Z",
     "iopub.status.busy": "2021-03-11T02:52:18.778095Z",
     "iopub.status.idle": "2021-03-11T02:52:18.779727Z",
     "shell.execute_reply": "2021-03-11T02:52:18.780120Z"
    }
   },
   "outputs": [],
   "source": [
    "add = {'location':'California','doses':dataJson[0]['dataValues'][2]}"
   ]
  },
  {
   "cell_type": "code",
   "execution_count": 12,
   "metadata": {
    "execution": {
     "iopub.execute_input": "2021-03-11T02:52:18.786970Z",
     "iopub.status.busy": "2021-03-11T02:52:18.785792Z",
     "iopub.status.idle": "2021-03-11T02:52:18.787560Z",
     "shell.execute_reply": "2021-03-11T02:52:18.787983Z"
    }
   },
   "outputs": [],
   "source": [
    "df = df.append(add, ignore_index=True)"
   ]
  },
  {
   "cell_type": "code",
   "execution_count": 13,
   "metadata": {
    "execution": {
     "iopub.execute_input": "2021-03-11T02:52:18.791900Z",
     "iopub.status.busy": "2021-03-11T02:52:18.791373Z",
     "iopub.status.idle": "2021-03-11T02:52:18.793680Z",
     "shell.execute_reply": "2021-03-11T02:52:18.793257Z"
    }
   },
   "outputs": [],
   "source": [
    "df = df.sort_values(by='location')"
   ]
  },
  {
   "cell_type": "code",
   "execution_count": 14,
   "metadata": {
    "execution": {
     "iopub.execute_input": "2021-03-11T02:52:18.797823Z",
     "iopub.status.busy": "2021-03-11T02:52:18.797452Z",
     "iopub.status.idle": "2021-03-11T02:52:18.799145Z",
     "shell.execute_reply": "2021-03-11T02:52:18.798825Z"
    }
   },
   "outputs": [],
   "source": [
    "df = df[df.location == 'California'].append(df[df.location != 'California']).reset_index(drop=True)"
   ]
  },
  {
   "cell_type": "code",
   "execution_count": null,
   "metadata": {},
   "outputs": [],
   "source": []
  },
  {
   "cell_type": "code",
   "execution_count": 15,
   "metadata": {
    "execution": {
     "iopub.execute_input": "2021-03-11T02:52:18.801871Z",
     "iopub.status.busy": "2021-03-11T02:52:18.801360Z",
     "iopub.status.idle": "2021-03-11T02:52:18.817710Z",
     "shell.execute_reply": "2021-03-11T02:52:18.817274Z"
    }
   },
   "outputs": [],
   "source": [
    "tz = pytz.timezone(\"America/New_York\")"
   ]
  },
  {
   "cell_type": "code",
   "execution_count": 16,
   "metadata": {
    "execution": {
     "iopub.execute_input": "2021-03-11T02:52:18.821877Z",
     "iopub.status.busy": "2021-03-11T02:52:18.820615Z",
     "iopub.status.idle": "2021-03-11T02:52:18.822434Z",
     "shell.execute_reply": "2021-03-11T02:52:18.822828Z"
    }
   },
   "outputs": [],
   "source": [
    "today = datetime.now(tz).date()"
   ]
  },
  {
   "cell_type": "code",
   "execution_count": 17,
   "metadata": {
    "execution": {
     "iopub.execute_input": "2021-03-11T02:52:18.826760Z",
     "iopub.status.busy": "2021-03-11T02:52:18.825641Z",
     "iopub.status.idle": "2021-03-11T02:52:18.827320Z",
     "shell.execute_reply": "2021-03-11T02:52:18.827711Z"
    }
   },
   "outputs": [],
   "source": [
    "data_dir = os.path.join(os.path.abspath(\"\"), \"data\")"
   ]
  },
  {
   "cell_type": "code",
   "execution_count": 18,
   "metadata": {
    "execution": {
     "iopub.execute_input": "2021-03-11T02:52:18.831781Z",
     "iopub.status.busy": "2021-03-11T02:52:18.830722Z",
     "iopub.status.idle": "2021-03-11T02:52:18.834858Z",
     "shell.execute_reply": "2021-03-11T02:52:18.834421Z"
    }
   },
   "outputs": [],
   "source": [
    "df.to_csv(os.path.join(data_dir, f\"{today}.csv\"), index=False)"
   ]
  },
  {
   "cell_type": "code",
   "execution_count": null,
   "metadata": {},
   "outputs": [],
   "source": []
  }
 ],
 "metadata": {
  "kernelspec": {
   "display_name": "Python 3",
   "language": "python",
   "name": "python3"
  },
  "language_info": {
   "codemirror_mode": {
    "name": "ipython",
    "version": 3
   },
   "file_extension": ".py",
   "mimetype": "text/x-python",
   "name": "python",
   "nbconvert_exporter": "python",
   "pygments_lexer": "ipython3",
   "version": "3.8.8"
  }
 },
 "nbformat": 4,
 "nbformat_minor": 4
}
