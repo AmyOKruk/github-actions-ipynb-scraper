{
 "cells": [
  {
   "cell_type": "markdown",
   "metadata": {},
   "source": [
    "# California COVID vaccinations scrape"
   ]
  },
  {
   "cell_type": "markdown",
   "metadata": {},
   "source": [
    "By [Amy O'Kruk](https://twitter.com/amyokruk)"
   ]
  },
  {
   "cell_type": "markdown",
   "metadata": {},
   "source": [
    "Downloads data on vaccine doses administered by county and statewide from a Tableau-powered dashboard from the California Department of Public Health."
   ]
  },
  {
   "cell_type": "code",
   "execution_count": 1,
   "metadata": {
    "execution": {
     "iopub.execute_input": "2021-03-20T08:46:24.070695Z",
     "iopub.status.busy": "2021-03-20T08:46:24.069983Z",
     "iopub.status.idle": "2021-03-20T08:46:24.465896Z",
     "shell.execute_reply": "2021-03-20T08:46:24.465216Z"
    }
   },
   "outputs": [],
   "source": [
    "import pandas as pd\n",
    "import requests\n",
    "from bs4 import BeautifulSoup\n",
    "import json\n",
    "import re\n",
    "import time\n",
    "from time import gmtime, strftime \n",
    "import os\n",
    "import pytz\n",
    "from datetime import datetime"
   ]
  },
  {
   "cell_type": "markdown",
   "metadata": {},
   "source": [
    "Scrape the dashboard page"
   ]
  },
  {
   "cell_type": "code",
   "execution_count": 2,
   "metadata": {
    "execution": {
     "iopub.execute_input": "2021-03-20T08:46:24.472410Z",
     "iopub.status.busy": "2021-03-20T08:46:24.469758Z",
     "iopub.status.idle": "2021-03-20T08:46:25.816285Z",
     "shell.execute_reply": "2021-03-20T08:46:25.814791Z"
    }
   },
   "outputs": [],
   "source": [
    "url = \"https://public.tableau.com/interactive/views/COVID-19VaccineDashboardPublic/Vaccine?:embed=y&:showVizHome=n&:apiID=host0\"\n",
    "\n",
    "r = requests.get(url)\n",
    "soup = BeautifulSoup(r.text, \"html.parser\")"
   ]
  },
  {
   "cell_type": "code",
   "execution_count": 3,
   "metadata": {
    "execution": {
     "iopub.execute_input": "2021-03-20T08:46:25.824187Z",
     "iopub.status.busy": "2021-03-20T08:46:25.822691Z",
     "iopub.status.idle": "2021-03-20T08:46:25.828443Z",
     "shell.execute_reply": "2021-03-20T08:46:25.827358Z"
    }
   },
   "outputs": [],
   "source": [
    "tableauData = json.loads(soup.find(\"textarea\",{\"id\": \"tsConfigContainer\"}).text)"
   ]
  },
  {
   "cell_type": "markdown",
   "metadata": {},
   "source": [
    "Get the link to the Tableau data"
   ]
  },
  {
   "cell_type": "code",
   "execution_count": 4,
   "metadata": {
    "execution": {
     "iopub.execute_input": "2021-03-20T08:46:25.832872Z",
     "iopub.status.busy": "2021-03-20T08:46:25.832315Z",
     "iopub.status.idle": "2021-03-20T08:46:25.835990Z",
     "shell.execute_reply": "2021-03-20T08:46:25.836396Z"
    }
   },
   "outputs": [],
   "source": [
    "dataUrl = f'https://public.tableau.com{tableauData[\"vizql_root\"]}/bootstrapSession/sessions/{tableauData[\"sessionid\"]}'"
   ]
  },
  {
   "cell_type": "code",
   "execution_count": 5,
   "metadata": {
    "execution": {
     "iopub.execute_input": "2021-03-20T08:46:25.843516Z",
     "iopub.status.busy": "2021-03-20T08:46:25.842957Z",
     "iopub.status.idle": "2021-03-20T08:46:26.340255Z",
     "shell.execute_reply": "2021-03-20T08:46:26.339323Z"
    }
   },
   "outputs": [],
   "source": [
    "r = requests.post(dataUrl, data= {\n",
    "    \"sheet_id\": tableauData[\"sheetId\"],\n",
    "})\n",
    "\n",
    "dataReg = re.search('\\d+;({.*})\\d+;({.*})', r.text, re.MULTILINE)\n",
    "data1 = json.loads(dataReg.group(2))\n",
    "\n",
    "dataJson = data1[\"secondaryInfo\"][\"presModelMap\"][\"dataDictionary\"][\"presModelHolder\"][\"genDataDictionaryPresModel\"][\"dataSegments\"][\"0\"][\"dataColumns\"]"
   ]
  },
  {
   "cell_type": "markdown",
   "metadata": {},
   "source": [
    "Isolate what you want"
   ]
  },
  {
   "cell_type": "code",
   "execution_count": 6,
   "metadata": {
    "execution": {
     "iopub.execute_input": "2021-03-20T08:46:26.344796Z",
     "iopub.status.busy": "2021-03-20T08:46:26.344271Z",
     "iopub.status.idle": "2021-03-20T08:46:26.346599Z",
     "shell.execute_reply": "2021-03-20T08:46:26.345885Z"
    }
   },
   "outputs": [],
   "source": [
    "counties = dataJson[2]['dataValues'][:58]"
   ]
  },
  {
   "cell_type": "code",
   "execution_count": 7,
   "metadata": {
    "execution": {
     "iopub.execute_input": "2021-03-20T08:46:26.350163Z",
     "iopub.status.busy": "2021-03-20T08:46:26.349647Z",
     "iopub.status.idle": "2021-03-20T08:46:26.352753Z",
     "shell.execute_reply": "2021-03-20T08:46:26.353196Z"
    }
   },
   "outputs": [],
   "source": [
    "doses = dataJson[0]['dataValues'][3:61]"
   ]
  },
  {
   "cell_type": "markdown",
   "metadata": {},
   "source": [
    "Data formatting"
   ]
  },
  {
   "cell_type": "code",
   "execution_count": 8,
   "metadata": {
    "execution": {
     "iopub.execute_input": "2021-03-20T08:46:26.357544Z",
     "iopub.status.busy": "2021-03-20T08:46:26.356424Z",
     "iopub.status.idle": "2021-03-20T08:46:26.358161Z",
     "shell.execute_reply": "2021-03-20T08:46:26.358590Z"
    }
   },
   "outputs": [],
   "source": [
    "zipped = dict(zip(counties, doses))"
   ]
  },
  {
   "cell_type": "code",
   "execution_count": 9,
   "metadata": {
    "execution": {
     "iopub.execute_input": "2021-03-20T08:46:26.365646Z",
     "iopub.status.busy": "2021-03-20T08:46:26.364757Z",
     "iopub.status.idle": "2021-03-20T08:46:26.366709Z",
     "shell.execute_reply": "2021-03-20T08:46:26.367114Z"
    }
   },
   "outputs": [],
   "source": [
    "df = pd.Series(zipped).reset_index()"
   ]
  },
  {
   "cell_type": "code",
   "execution_count": 10,
   "metadata": {
    "execution": {
     "iopub.execute_input": "2021-03-20T08:46:26.370895Z",
     "iopub.status.busy": "2021-03-20T08:46:26.370387Z",
     "iopub.status.idle": "2021-03-20T08:46:26.371987Z",
     "shell.execute_reply": "2021-03-20T08:46:26.372549Z"
    }
   },
   "outputs": [],
   "source": [
    "df.columns = ['location','doses']"
   ]
  },
  {
   "cell_type": "markdown",
   "metadata": {},
   "source": [
    "Grab the overall California total"
   ]
  },
  {
   "cell_type": "code",
   "execution_count": 11,
   "metadata": {
    "execution": {
     "iopub.execute_input": "2021-03-20T08:46:26.377066Z",
     "iopub.status.busy": "2021-03-20T08:46:26.375955Z",
     "iopub.status.idle": "2021-03-20T08:46:26.377656Z",
     "shell.execute_reply": "2021-03-20T08:46:26.378081Z"
    }
   },
   "outputs": [],
   "source": [
    "add = {'location':'California','doses':dataJson[0]['dataValues'][2]}"
   ]
  },
  {
   "cell_type": "code",
   "execution_count": 12,
   "metadata": {
    "execution": {
     "iopub.execute_input": "2021-03-20T08:46:26.386685Z",
     "iopub.status.busy": "2021-03-20T08:46:26.385485Z",
     "iopub.status.idle": "2021-03-20T08:46:26.387316Z",
     "shell.execute_reply": "2021-03-20T08:46:26.387751Z"
    }
   },
   "outputs": [],
   "source": [
    "df = df.append(add, ignore_index=True)"
   ]
  },
  {
   "cell_type": "code",
   "execution_count": 13,
   "metadata": {
    "execution": {
     "iopub.execute_input": "2021-03-20T08:46:26.392620Z",
     "iopub.status.busy": "2021-03-20T08:46:26.391709Z",
     "iopub.status.idle": "2021-03-20T08:46:26.393556Z",
     "shell.execute_reply": "2021-03-20T08:46:26.393986Z"
    }
   },
   "outputs": [],
   "source": [
    "df = df.sort_values(by='location')"
   ]
  },
  {
   "cell_type": "code",
   "execution_count": 14,
   "metadata": {
    "execution": {
     "iopub.execute_input": "2021-03-20T08:46:26.403187Z",
     "iopub.status.busy": "2021-03-20T08:46:26.402204Z",
     "iopub.status.idle": "2021-03-20T08:46:26.404176Z",
     "shell.execute_reply": "2021-03-20T08:46:26.403717Z"
    }
   },
   "outputs": [],
   "source": [
    "df = df[df.location == 'California'].append(df[df.location != 'California']).reset_index(drop=True)"
   ]
  },
  {
   "cell_type": "code",
   "execution_count": null,
   "metadata": {},
   "outputs": [],
   "source": []
  },
  {
   "cell_type": "code",
   "execution_count": 15,
   "metadata": {
    "execution": {
     "iopub.execute_input": "2021-03-20T08:46:26.408063Z",
     "iopub.status.busy": "2021-03-20T08:46:26.407547Z",
     "iopub.status.idle": "2021-03-20T08:46:26.427953Z",
     "shell.execute_reply": "2021-03-20T08:46:26.427486Z"
    }
   },
   "outputs": [],
   "source": [
    "tz = pytz.timezone(\"America/New_York\")"
   ]
  },
  {
   "cell_type": "code",
   "execution_count": 16,
   "metadata": {
    "execution": {
     "iopub.execute_input": "2021-03-20T08:46:26.432436Z",
     "iopub.status.busy": "2021-03-20T08:46:26.431160Z",
     "iopub.status.idle": "2021-03-20T08:46:26.433041Z",
     "shell.execute_reply": "2021-03-20T08:46:26.433472Z"
    }
   },
   "outputs": [],
   "source": [
    "today = datetime.now(tz).date()"
   ]
  },
  {
   "cell_type": "code",
   "execution_count": 17,
   "metadata": {
    "execution": {
     "iopub.execute_input": "2021-03-20T08:46:26.438558Z",
     "iopub.status.busy": "2021-03-20T08:46:26.437133Z",
     "iopub.status.idle": "2021-03-20T08:46:26.439331Z",
     "shell.execute_reply": "2021-03-20T08:46:26.439777Z"
    }
   },
   "outputs": [],
   "source": [
    "data_dir = os.path.join(os.path.abspath(\"\"), \"data\")"
   ]
  },
  {
   "cell_type": "code",
   "execution_count": 18,
   "metadata": {
    "execution": {
     "iopub.execute_input": "2021-03-20T08:46:26.445472Z",
     "iopub.status.busy": "2021-03-20T08:46:26.443457Z",
     "iopub.status.idle": "2021-03-20T08:46:26.449176Z",
     "shell.execute_reply": "2021-03-20T08:46:26.448655Z"
    }
   },
   "outputs": [],
   "source": [
    "df.to_csv(os.path.join(data_dir, f\"{today}.csv\"), index=False)"
   ]
  },
  {
   "cell_type": "code",
   "execution_count": null,
   "metadata": {},
   "outputs": [],
   "source": []
  }
 ],
 "metadata": {
  "kernelspec": {
   "display_name": "Python 3",
   "language": "python",
   "name": "python3"
  },
  "language_info": {
   "codemirror_mode": {
    "name": "ipython",
    "version": 3
   },
   "file_extension": ".py",
   "mimetype": "text/x-python",
   "name": "python",
   "nbconvert_exporter": "python",
   "pygments_lexer": "ipython3",
   "version": "3.8.8"
  }
 },
 "nbformat": 4,
 "nbformat_minor": 4
}
