{
 "cells": [
  {
   "cell_type": "markdown",
   "metadata": {},
   "source": [
    "# California COVID vaccinations scrape"
   ]
  },
  {
   "cell_type": "markdown",
   "metadata": {},
   "source": [
    "By [Amy O'Kruk](https://twitter.com/amyokruk)"
   ]
  },
  {
   "cell_type": "markdown",
   "metadata": {},
   "source": [
    "Downloads data on vaccine doses administered by county and statewide from a Tableau-powered dashboard from the California Department of Public Health."
   ]
  },
  {
   "cell_type": "code",
   "execution_count": 1,
   "metadata": {
    "execution": {
     "iopub.execute_input": "2021-03-14T21:11:24.315254Z",
     "iopub.status.busy": "2021-03-14T21:11:24.314591Z",
     "iopub.status.idle": "2021-03-14T21:11:24.672764Z",
     "shell.execute_reply": "2021-03-14T21:11:24.671894Z"
    }
   },
   "outputs": [],
   "source": [
    "import pandas as pd\n",
    "import requests\n",
    "from bs4 import BeautifulSoup\n",
    "import json\n",
    "import re\n",
    "import time\n",
    "from time import gmtime, strftime \n",
    "import os\n",
    "import pytz\n",
    "from datetime import datetime"
   ]
  },
  {
   "cell_type": "markdown",
   "metadata": {},
   "source": [
    "Scrape the dashboard page"
   ]
  },
  {
   "cell_type": "code",
   "execution_count": 2,
   "metadata": {
    "execution": {
     "iopub.execute_input": "2021-03-14T21:11:24.677899Z",
     "iopub.status.busy": "2021-03-14T21:11:24.677029Z",
     "iopub.status.idle": "2021-03-14T21:11:24.961118Z",
     "shell.execute_reply": "2021-03-14T21:11:24.961525Z"
    }
   },
   "outputs": [],
   "source": [
    "url = \"https://public.tableau.com/interactive/views/COVID-19VaccineDashboardPublic/Vaccine?:embed=y&:showVizHome=n&:apiID=host0\"\n",
    "\n",
    "r = requests.get(url)\n",
    "soup = BeautifulSoup(r.text, \"html.parser\")"
   ]
  },
  {
   "cell_type": "code",
   "execution_count": 3,
   "metadata": {
    "execution": {
     "iopub.execute_input": "2021-03-14T21:11:24.967089Z",
     "iopub.status.busy": "2021-03-14T21:11:24.965901Z",
     "iopub.status.idle": "2021-03-14T21:11:24.967651Z",
     "shell.execute_reply": "2021-03-14T21:11:24.968049Z"
    }
   },
   "outputs": [],
   "source": [
    "tableauData = json.loads(soup.find(\"textarea\",{\"id\": \"tsConfigContainer\"}).text)"
   ]
  },
  {
   "cell_type": "markdown",
   "metadata": {},
   "source": [
    "Get the link to the Tableau data"
   ]
  },
  {
   "cell_type": "code",
   "execution_count": 4,
   "metadata": {
    "execution": {
     "iopub.execute_input": "2021-03-14T21:11:24.972192Z",
     "iopub.status.busy": "2021-03-14T21:11:24.971022Z",
     "iopub.status.idle": "2021-03-14T21:11:24.972753Z",
     "shell.execute_reply": "2021-03-14T21:11:24.973151Z"
    }
   },
   "outputs": [],
   "source": [
    "dataUrl = f'https://public.tableau.com{tableauData[\"vizql_root\"]}/bootstrapSession/sessions/{tableauData[\"sessionid\"]}'"
   ]
  },
  {
   "cell_type": "code",
   "execution_count": 5,
   "metadata": {
    "execution": {
     "iopub.execute_input": "2021-03-14T21:11:24.979128Z",
     "iopub.status.busy": "2021-03-14T21:11:24.978570Z",
     "iopub.status.idle": "2021-03-14T21:11:25.126046Z",
     "shell.execute_reply": "2021-03-14T21:11:25.125202Z"
    }
   },
   "outputs": [],
   "source": [
    "r = requests.post(dataUrl, data= {\n",
    "    \"sheet_id\": tableauData[\"sheetId\"],\n",
    "})\n",
    "\n",
    "dataReg = re.search('\\d+;({.*})\\d+;({.*})', r.text, re.MULTILINE)\n",
    "data1 = json.loads(dataReg.group(2))\n",
    "\n",
    "dataJson = data1[\"secondaryInfo\"][\"presModelMap\"][\"dataDictionary\"][\"presModelHolder\"][\"genDataDictionaryPresModel\"][\"dataSegments\"][\"0\"][\"dataColumns\"]"
   ]
  },
  {
   "cell_type": "markdown",
   "metadata": {},
   "source": [
    "Isolate what you want"
   ]
  },
  {
   "cell_type": "code",
   "execution_count": 6,
   "metadata": {
    "execution": {
     "iopub.execute_input": "2021-03-14T21:11:25.130919Z",
     "iopub.status.busy": "2021-03-14T21:11:25.129629Z",
     "iopub.status.idle": "2021-03-14T21:11:25.131520Z",
     "shell.execute_reply": "2021-03-14T21:11:25.131948Z"
    }
   },
   "outputs": [],
   "source": [
    "counties = dataJson[2]['dataValues'][:58]"
   ]
  },
  {
   "cell_type": "code",
   "execution_count": 7,
   "metadata": {
    "execution": {
     "iopub.execute_input": "2021-03-14T21:11:25.136357Z",
     "iopub.status.busy": "2021-03-14T21:11:25.135139Z",
     "iopub.status.idle": "2021-03-14T21:11:25.136910Z",
     "shell.execute_reply": "2021-03-14T21:11:25.137313Z"
    }
   },
   "outputs": [],
   "source": [
    "doses = dataJson[0]['dataValues'][3:61]"
   ]
  },
  {
   "cell_type": "markdown",
   "metadata": {},
   "source": [
    "Data formatting"
   ]
  },
  {
   "cell_type": "code",
   "execution_count": 8,
   "metadata": {
    "execution": {
     "iopub.execute_input": "2021-03-14T21:11:25.141404Z",
     "iopub.status.busy": "2021-03-14T21:11:25.140197Z",
     "iopub.status.idle": "2021-03-14T21:11:25.142005Z",
     "shell.execute_reply": "2021-03-14T21:11:25.142432Z"
    }
   },
   "outputs": [],
   "source": [
    "zipped = dict(zip(counties, doses))"
   ]
  },
  {
   "cell_type": "code",
   "execution_count": 9,
   "metadata": {
    "execution": {
     "iopub.execute_input": "2021-03-14T21:11:25.148705Z",
     "iopub.status.busy": "2021-03-14T21:11:25.147572Z",
     "iopub.status.idle": "2021-03-14T21:11:25.149298Z",
     "shell.execute_reply": "2021-03-14T21:11:25.149725Z"
    }
   },
   "outputs": [],
   "source": [
    "df = pd.Series(zipped).reset_index()"
   ]
  },
  {
   "cell_type": "code",
   "execution_count": 10,
   "metadata": {
    "execution": {
     "iopub.execute_input": "2021-03-14T21:11:25.154031Z",
     "iopub.status.busy": "2021-03-14T21:11:25.152947Z",
     "iopub.status.idle": "2021-03-14T21:11:25.154586Z",
     "shell.execute_reply": "2021-03-14T21:11:25.155019Z"
    }
   },
   "outputs": [],
   "source": [
    "df.columns = ['location','doses']"
   ]
  },
  {
   "cell_type": "markdown",
   "metadata": {},
   "source": [
    "Grab the overall California total"
   ]
  },
  {
   "cell_type": "code",
   "execution_count": 11,
   "metadata": {
    "execution": {
     "iopub.execute_input": "2021-03-14T21:11:25.159112Z",
     "iopub.status.busy": "2021-03-14T21:11:25.157949Z",
     "iopub.status.idle": "2021-03-14T21:11:25.159717Z",
     "shell.execute_reply": "2021-03-14T21:11:25.160146Z"
    }
   },
   "outputs": [],
   "source": [
    "add = {'location':'California','doses':dataJson[0]['dataValues'][2]}"
   ]
  },
  {
   "cell_type": "code",
   "execution_count": 12,
   "metadata": {
    "execution": {
     "iopub.execute_input": "2021-03-14T21:11:25.167051Z",
     "iopub.status.busy": "2021-03-14T21:11:25.165858Z",
     "iopub.status.idle": "2021-03-14T21:11:25.167664Z",
     "shell.execute_reply": "2021-03-14T21:11:25.168064Z"
    }
   },
   "outputs": [],
   "source": [
    "df = df.append(add, ignore_index=True)"
   ]
  },
  {
   "cell_type": "code",
   "execution_count": 13,
   "metadata": {
    "execution": {
     "iopub.execute_input": "2021-03-14T21:11:25.172665Z",
     "iopub.status.busy": "2021-03-14T21:11:25.171597Z",
     "iopub.status.idle": "2021-03-14T21:11:25.173273Z",
     "shell.execute_reply": "2021-03-14T21:11:25.173706Z"
    }
   },
   "outputs": [],
   "source": [
    "df = df.sort_values(by='location')"
   ]
  },
  {
   "cell_type": "code",
   "execution_count": 14,
   "metadata": {
    "execution": {
     "iopub.execute_input": "2021-03-14T21:11:25.180009Z",
     "iopub.status.busy": "2021-03-14T21:11:25.178837Z",
     "iopub.status.idle": "2021-03-14T21:11:25.180677Z",
     "shell.execute_reply": "2021-03-14T21:11:25.181080Z"
    }
   },
   "outputs": [],
   "source": [
    "df = df[df.location == 'California'].append(df[df.location != 'California']).reset_index(drop=True)"
   ]
  },
  {
   "cell_type": "code",
   "execution_count": null,
   "metadata": {},
   "outputs": [],
   "source": []
  },
  {
   "cell_type": "code",
   "execution_count": 15,
   "metadata": {
    "execution": {
     "iopub.execute_input": "2021-03-14T21:11:25.184308Z",
     "iopub.status.busy": "2021-03-14T21:11:25.183829Z",
     "iopub.status.idle": "2021-03-14T21:11:25.199616Z",
     "shell.execute_reply": "2021-03-14T21:11:25.199992Z"
    }
   },
   "outputs": [],
   "source": [
    "tz = pytz.timezone(\"America/New_York\")"
   ]
  },
  {
   "cell_type": "code",
   "execution_count": 16,
   "metadata": {
    "execution": {
     "iopub.execute_input": "2021-03-14T21:11:25.204263Z",
     "iopub.status.busy": "2021-03-14T21:11:25.202954Z",
     "iopub.status.idle": "2021-03-14T21:11:25.204859Z",
     "shell.execute_reply": "2021-03-14T21:11:25.205287Z"
    }
   },
   "outputs": [],
   "source": [
    "today = datetime.now(tz).date()"
   ]
  },
  {
   "cell_type": "code",
   "execution_count": 17,
   "metadata": {
    "execution": {
     "iopub.execute_input": "2021-03-14T21:11:25.209542Z",
     "iopub.status.busy": "2021-03-14T21:11:25.208421Z",
     "iopub.status.idle": "2021-03-14T21:11:25.210135Z",
     "shell.execute_reply": "2021-03-14T21:11:25.210569Z"
    }
   },
   "outputs": [],
   "source": [
    "data_dir = os.path.join(os.path.abspath(\"\"), \"data\")"
   ]
  },
  {
   "cell_type": "code",
   "execution_count": 18,
   "metadata": {
    "execution": {
     "iopub.execute_input": "2021-03-14T21:11:25.214782Z",
     "iopub.status.busy": "2021-03-14T21:11:25.213684Z",
     "iopub.status.idle": "2021-03-14T21:11:25.218116Z",
     "shell.execute_reply": "2021-03-14T21:11:25.217593Z"
    }
   },
   "outputs": [],
   "source": [
    "df.to_csv(os.path.join(data_dir, f\"{today}.csv\"), index=False)"
   ]
  },
  {
   "cell_type": "code",
   "execution_count": null,
   "metadata": {},
   "outputs": [],
   "source": []
  }
 ],
 "metadata": {
  "kernelspec": {
   "display_name": "Python 3",
   "language": "python",
   "name": "python3"
  },
  "language_info": {
   "codemirror_mode": {
    "name": "ipython",
    "version": 3
   },
   "file_extension": ".py",
   "mimetype": "text/x-python",
   "name": "python",
   "nbconvert_exporter": "python",
   "pygments_lexer": "ipython3",
   "version": "3.8.8"
  }
 },
 "nbformat": 4,
 "nbformat_minor": 4
}
