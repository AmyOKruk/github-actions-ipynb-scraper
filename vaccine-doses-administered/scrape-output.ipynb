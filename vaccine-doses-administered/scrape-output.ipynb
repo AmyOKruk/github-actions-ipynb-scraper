{
 "cells": [
  {
   "cell_type": "markdown",
   "metadata": {},
   "source": [
    "# California COVID vaccinations scrape"
   ]
  },
  {
   "cell_type": "markdown",
   "metadata": {},
   "source": [
    "By [Amy O'Kruk](https://twitter.com/amyokruk)"
   ]
  },
  {
   "cell_type": "markdown",
   "metadata": {},
   "source": [
    "Downloads data on vaccine doses administered by county and statewide from a Tableau-powered dashboard from the California Department of Public Health."
   ]
  },
  {
   "cell_type": "code",
   "execution_count": 1,
   "metadata": {
    "execution": {
     "iopub.execute_input": "2021-03-16T20:40:25.162139Z",
     "iopub.status.busy": "2021-03-16T20:40:25.161523Z",
     "iopub.status.idle": "2021-03-16T20:40:25.602943Z",
     "shell.execute_reply": "2021-03-16T20:40:25.601982Z"
    }
   },
   "outputs": [],
   "source": [
    "import pandas as pd\n",
    "import requests\n",
    "from bs4 import BeautifulSoup\n",
    "import json\n",
    "import re\n",
    "import time\n",
    "from time import gmtime, strftime \n",
    "import os\n",
    "import pytz\n",
    "from datetime import datetime"
   ]
  },
  {
   "cell_type": "markdown",
   "metadata": {},
   "source": [
    "Scrape the dashboard page"
   ]
  },
  {
   "cell_type": "code",
   "execution_count": 2,
   "metadata": {
    "execution": {
     "iopub.execute_input": "2021-03-16T20:40:25.610110Z",
     "iopub.status.busy": "2021-03-16T20:40:25.609469Z",
     "iopub.status.idle": "2021-03-16T20:40:25.936883Z",
     "shell.execute_reply": "2021-03-16T20:40:25.937324Z"
    }
   },
   "outputs": [],
   "source": [
    "url = \"https://public.tableau.com/interactive/views/COVID-19VaccineDashboardPublic/Vaccine?:embed=y&:showVizHome=n&:apiID=host0\"\n",
    "\n",
    "r = requests.get(url)\n",
    "soup = BeautifulSoup(r.text, \"html.parser\")"
   ]
  },
  {
   "cell_type": "code",
   "execution_count": 3,
   "metadata": {
    "execution": {
     "iopub.execute_input": "2021-03-16T20:40:25.942519Z",
     "iopub.status.busy": "2021-03-16T20:40:25.941967Z",
     "iopub.status.idle": "2021-03-16T20:40:25.946683Z",
     "shell.execute_reply": "2021-03-16T20:40:25.946133Z"
    }
   },
   "outputs": [],
   "source": [
    "tableauData = json.loads(soup.find(\"textarea\",{\"id\": \"tsConfigContainer\"}).text)"
   ]
  },
  {
   "cell_type": "markdown",
   "metadata": {},
   "source": [
    "Get the link to the Tableau data"
   ]
  },
  {
   "cell_type": "code",
   "execution_count": 4,
   "metadata": {
    "execution": {
     "iopub.execute_input": "2021-03-16T20:40:25.950303Z",
     "iopub.status.busy": "2021-03-16T20:40:25.949764Z",
     "iopub.status.idle": "2021-03-16T20:40:25.953102Z",
     "shell.execute_reply": "2021-03-16T20:40:25.953522Z"
    }
   },
   "outputs": [],
   "source": [
    "dataUrl = f'https://public.tableau.com{tableauData[\"vizql_root\"]}/bootstrapSession/sessions/{tableauData[\"sessionid\"]}'"
   ]
  },
  {
   "cell_type": "code",
   "execution_count": 5,
   "metadata": {
    "execution": {
     "iopub.execute_input": "2021-03-16T20:40:25.960167Z",
     "iopub.status.busy": "2021-03-16T20:40:25.959586Z",
     "iopub.status.idle": "2021-03-16T20:40:26.427104Z",
     "shell.execute_reply": "2021-03-16T20:40:26.426490Z"
    }
   },
   "outputs": [],
   "source": [
    "r = requests.post(dataUrl, data= {\n",
    "    \"sheet_id\": tableauData[\"sheetId\"],\n",
    "})\n",
    "\n",
    "dataReg = re.search('\\d+;({.*})\\d+;({.*})', r.text, re.MULTILINE)\n",
    "data1 = json.loads(dataReg.group(2))\n",
    "\n",
    "dataJson = data1[\"secondaryInfo\"][\"presModelMap\"][\"dataDictionary\"][\"presModelHolder\"][\"genDataDictionaryPresModel\"][\"dataSegments\"][\"0\"][\"dataColumns\"]"
   ]
  },
  {
   "cell_type": "markdown",
   "metadata": {},
   "source": [
    "Isolate what you want"
   ]
  },
  {
   "cell_type": "code",
   "execution_count": 6,
   "metadata": {
    "execution": {
     "iopub.execute_input": "2021-03-16T20:40:26.431418Z",
     "iopub.status.busy": "2021-03-16T20:40:26.430869Z",
     "iopub.status.idle": "2021-03-16T20:40:26.433921Z",
     "shell.execute_reply": "2021-03-16T20:40:26.434687Z"
    }
   },
   "outputs": [],
   "source": [
    "counties = dataJson[2]['dataValues'][:58]"
   ]
  },
  {
   "cell_type": "code",
   "execution_count": 7,
   "metadata": {
    "execution": {
     "iopub.execute_input": "2021-03-16T20:40:26.437918Z",
     "iopub.status.busy": "2021-03-16T20:40:26.436880Z",
     "iopub.status.idle": "2021-03-16T20:40:26.441156Z",
     "shell.execute_reply": "2021-03-16T20:40:26.441854Z"
    }
   },
   "outputs": [],
   "source": [
    "doses = dataJson[0]['dataValues'][3:61]"
   ]
  },
  {
   "cell_type": "markdown",
   "metadata": {},
   "source": [
    "Data formatting"
   ]
  },
  {
   "cell_type": "code",
   "execution_count": 8,
   "metadata": {
    "execution": {
     "iopub.execute_input": "2021-03-16T20:40:26.445007Z",
     "iopub.status.busy": "2021-03-16T20:40:26.443907Z",
     "iopub.status.idle": "2021-03-16T20:40:26.449616Z",
     "shell.execute_reply": "2021-03-16T20:40:26.448665Z"
    }
   },
   "outputs": [],
   "source": [
    "zipped = dict(zip(counties, doses))"
   ]
  },
  {
   "cell_type": "code",
   "execution_count": 9,
   "metadata": {
    "execution": {
     "iopub.execute_input": "2021-03-16T20:40:26.455329Z",
     "iopub.status.busy": "2021-03-16T20:40:26.454800Z",
     "iopub.status.idle": "2021-03-16T20:40:26.458781Z",
     "shell.execute_reply": "2021-03-16T20:40:26.458311Z"
    }
   },
   "outputs": [],
   "source": [
    "df = pd.Series(zipped).reset_index()"
   ]
  },
  {
   "cell_type": "code",
   "execution_count": 10,
   "metadata": {
    "execution": {
     "iopub.execute_input": "2021-03-16T20:40:26.463012Z",
     "iopub.status.busy": "2021-03-16T20:40:26.462481Z",
     "iopub.status.idle": "2021-03-16T20:40:26.466307Z",
     "shell.execute_reply": "2021-03-16T20:40:26.465366Z"
    }
   },
   "outputs": [],
   "source": [
    "df.columns = ['location','doses']"
   ]
  },
  {
   "cell_type": "markdown",
   "metadata": {},
   "source": [
    "Grab the overall California total"
   ]
  },
  {
   "cell_type": "code",
   "execution_count": 11,
   "metadata": {
    "execution": {
     "iopub.execute_input": "2021-03-16T20:40:26.469910Z",
     "iopub.status.busy": "2021-03-16T20:40:26.469378Z",
     "iopub.status.idle": "2021-03-16T20:40:26.472523Z",
     "shell.execute_reply": "2021-03-16T20:40:26.472972Z"
    }
   },
   "outputs": [],
   "source": [
    "add = {'location':'California','doses':dataJson[0]['dataValues'][2]}"
   ]
  },
  {
   "cell_type": "code",
   "execution_count": 12,
   "metadata": {
    "execution": {
     "iopub.execute_input": "2021-03-16T20:40:26.479525Z",
     "iopub.status.busy": "2021-03-16T20:40:26.478991Z",
     "iopub.status.idle": "2021-03-16T20:40:26.482962Z",
     "shell.execute_reply": "2021-03-16T20:40:26.482510Z"
    }
   },
   "outputs": [],
   "source": [
    "df = df.append(add, ignore_index=True)"
   ]
  },
  {
   "cell_type": "code",
   "execution_count": 13,
   "metadata": {
    "execution": {
     "iopub.execute_input": "2021-03-16T20:40:26.486945Z",
     "iopub.status.busy": "2021-03-16T20:40:26.486420Z",
     "iopub.status.idle": "2021-03-16T20:40:26.490021Z",
     "shell.execute_reply": "2021-03-16T20:40:26.489557Z"
    }
   },
   "outputs": [],
   "source": [
    "df = df.sort_values(by='location')"
   ]
  },
  {
   "cell_type": "code",
   "execution_count": 14,
   "metadata": {
    "execution": {
     "iopub.execute_input": "2021-03-16T20:40:26.495556Z",
     "iopub.status.busy": "2021-03-16T20:40:26.495020Z",
     "iopub.status.idle": "2021-03-16T20:40:26.498222Z",
     "shell.execute_reply": "2021-03-16T20:40:26.498638Z"
    }
   },
   "outputs": [],
   "source": [
    "df = df[df.location == 'California'].append(df[df.location != 'California']).reset_index(drop=True)"
   ]
  },
  {
   "cell_type": "code",
   "execution_count": null,
   "metadata": {},
   "outputs": [],
   "source": []
  },
  {
   "cell_type": "code",
   "execution_count": 15,
   "metadata": {
    "execution": {
     "iopub.execute_input": "2021-03-16T20:40:26.513485Z",
     "iopub.status.busy": "2021-03-16T20:40:26.512946Z",
     "iopub.status.idle": "2021-03-16T20:40:26.520997Z",
     "shell.execute_reply": "2021-03-16T20:40:26.520548Z"
    }
   },
   "outputs": [],
   "source": [
    "tz = pytz.timezone(\"America/New_York\")"
   ]
  },
  {
   "cell_type": "code",
   "execution_count": 16,
   "metadata": {
    "execution": {
     "iopub.execute_input": "2021-03-16T20:40:26.524717Z",
     "iopub.status.busy": "2021-03-16T20:40:26.524177Z",
     "iopub.status.idle": "2021-03-16T20:40:26.534344Z",
     "shell.execute_reply": "2021-03-16T20:40:26.527214Z"
    }
   },
   "outputs": [],
   "source": [
    "today = datetime.now(tz).date()"
   ]
  },
  {
   "cell_type": "code",
   "execution_count": 17,
   "metadata": {
    "execution": {
     "iopub.execute_input": "2021-03-16T20:40:26.537813Z",
     "iopub.status.busy": "2021-03-16T20:40:26.537285Z",
     "iopub.status.idle": "2021-03-16T20:40:26.541082Z",
     "shell.execute_reply": "2021-03-16T20:40:26.540615Z"
    }
   },
   "outputs": [],
   "source": [
    "data_dir = os.path.join(os.path.abspath(\"\"), \"data\")"
   ]
  },
  {
   "cell_type": "code",
   "execution_count": 18,
   "metadata": {
    "execution": {
     "iopub.execute_input": "2021-03-16T20:40:26.545455Z",
     "iopub.status.busy": "2021-03-16T20:40:26.544270Z",
     "iopub.status.idle": "2021-03-16T20:40:26.548980Z",
     "shell.execute_reply": "2021-03-16T20:40:26.548251Z"
    }
   },
   "outputs": [],
   "source": [
    "df.to_csv(os.path.join(data_dir, f\"{today}.csv\"), index=False)"
   ]
  },
  {
   "cell_type": "code",
   "execution_count": null,
   "metadata": {},
   "outputs": [],
   "source": []
  }
 ],
 "metadata": {
  "kernelspec": {
   "display_name": "Python 3",
   "language": "python",
   "name": "python3"
  },
  "language_info": {
   "codemirror_mode": {
    "name": "ipython",
    "version": 3
   },
   "file_extension": ".py",
   "mimetype": "text/x-python",
   "name": "python",
   "nbconvert_exporter": "python",
   "pygments_lexer": "ipython3",
   "version": "3.8.8"
  }
 },
 "nbformat": 4,
 "nbformat_minor": 4
}
