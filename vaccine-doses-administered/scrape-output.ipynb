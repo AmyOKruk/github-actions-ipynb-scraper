{
 "cells": [
  {
   "cell_type": "markdown",
   "metadata": {},
   "source": [
    "# California COVID vaccinations scrape"
   ]
  },
  {
   "cell_type": "markdown",
   "metadata": {},
   "source": [
    "By [Amy O'Kruk](https://twitter.com/amyokruk)"
   ]
  },
  {
   "cell_type": "markdown",
   "metadata": {},
   "source": [
    "Downloads data on vaccine doses administered by county and statewide from a Tableau-powered dashboard from the California Department of Public Health."
   ]
  },
  {
   "cell_type": "code",
   "execution_count": 1,
   "metadata": {
    "execution": {
     "iopub.execute_input": "2021-03-18T08:15:04.783912Z",
     "iopub.status.busy": "2021-03-18T08:15:04.782839Z",
     "iopub.status.idle": "2021-03-18T08:15:05.139023Z",
     "shell.execute_reply": "2021-03-18T08:15:05.137932Z"
    }
   },
   "outputs": [],
   "source": [
    "import pandas as pd\n",
    "import requests\n",
    "from bs4 import BeautifulSoup\n",
    "import json\n",
    "import re\n",
    "import time\n",
    "from time import gmtime, strftime \n",
    "import os\n",
    "import pytz\n",
    "from datetime import datetime"
   ]
  },
  {
   "cell_type": "markdown",
   "metadata": {},
   "source": [
    "Scrape the dashboard page"
   ]
  },
  {
   "cell_type": "code",
   "execution_count": 2,
   "metadata": {
    "execution": {
     "iopub.execute_input": "2021-03-18T08:15:05.145290Z",
     "iopub.status.busy": "2021-03-18T08:15:05.142408Z",
     "iopub.status.idle": "2021-03-18T08:15:05.726846Z",
     "shell.execute_reply": "2021-03-18T08:15:05.725917Z"
    }
   },
   "outputs": [],
   "source": [
    "url = \"https://public.tableau.com/interactive/views/COVID-19VaccineDashboardPublic/Vaccine?:embed=y&:showVizHome=n&:apiID=host0\"\n",
    "\n",
    "r = requests.get(url)\n",
    "soup = BeautifulSoup(r.text, \"html.parser\")"
   ]
  },
  {
   "cell_type": "code",
   "execution_count": 3,
   "metadata": {
    "execution": {
     "iopub.execute_input": "2021-03-18T08:15:05.731342Z",
     "iopub.status.busy": "2021-03-18T08:15:05.730834Z",
     "iopub.status.idle": "2021-03-18T08:15:05.734135Z",
     "shell.execute_reply": "2021-03-18T08:15:05.733699Z"
    }
   },
   "outputs": [],
   "source": [
    "tableauData = json.loads(soup.find(\"textarea\",{\"id\": \"tsConfigContainer\"}).text)"
   ]
  },
  {
   "cell_type": "markdown",
   "metadata": {},
   "source": [
    "Get the link to the Tableau data"
   ]
  },
  {
   "cell_type": "code",
   "execution_count": 4,
   "metadata": {
    "execution": {
     "iopub.execute_input": "2021-03-18T08:15:05.737497Z",
     "iopub.status.busy": "2021-03-18T08:15:05.737020Z",
     "iopub.status.idle": "2021-03-18T08:15:05.740301Z",
     "shell.execute_reply": "2021-03-18T08:15:05.739860Z"
    }
   },
   "outputs": [],
   "source": [
    "dataUrl = f'https://public.tableau.com{tableauData[\"vizql_root\"]}/bootstrapSession/sessions/{tableauData[\"sessionid\"]}'"
   ]
  },
  {
   "cell_type": "code",
   "execution_count": 5,
   "metadata": {
    "execution": {
     "iopub.execute_input": "2021-03-18T08:15:05.746833Z",
     "iopub.status.busy": "2021-03-18T08:15:05.746347Z",
     "iopub.status.idle": "2021-03-18T08:15:06.442216Z",
     "shell.execute_reply": "2021-03-18T08:15:06.441231Z"
    }
   },
   "outputs": [],
   "source": [
    "r = requests.post(dataUrl, data= {\n",
    "    \"sheet_id\": tableauData[\"sheetId\"],\n",
    "})\n",
    "\n",
    "dataReg = re.search('\\d+;({.*})\\d+;({.*})', r.text, re.MULTILINE)\n",
    "data1 = json.loads(dataReg.group(2))\n",
    "\n",
    "dataJson = data1[\"secondaryInfo\"][\"presModelMap\"][\"dataDictionary\"][\"presModelHolder\"][\"genDataDictionaryPresModel\"][\"dataSegments\"][\"0\"][\"dataColumns\"]"
   ]
  },
  {
   "cell_type": "markdown",
   "metadata": {},
   "source": [
    "Isolate what you want"
   ]
  },
  {
   "cell_type": "code",
   "execution_count": 6,
   "metadata": {
    "execution": {
     "iopub.execute_input": "2021-03-18T08:15:06.446030Z",
     "iopub.status.busy": "2021-03-18T08:15:06.445547Z",
     "iopub.status.idle": "2021-03-18T08:15:06.449007Z",
     "shell.execute_reply": "2021-03-18T08:15:06.448585Z"
    }
   },
   "outputs": [],
   "source": [
    "counties = dataJson[2]['dataValues'][:58]"
   ]
  },
  {
   "cell_type": "code",
   "execution_count": 7,
   "metadata": {
    "execution": {
     "iopub.execute_input": "2021-03-18T08:15:06.452286Z",
     "iopub.status.busy": "2021-03-18T08:15:06.451812Z",
     "iopub.status.idle": "2021-03-18T08:15:06.454951Z",
     "shell.execute_reply": "2021-03-18T08:15:06.454528Z"
    }
   },
   "outputs": [],
   "source": [
    "doses = dataJson[0]['dataValues'][3:61]"
   ]
  },
  {
   "cell_type": "markdown",
   "metadata": {},
   "source": [
    "Data formatting"
   ]
  },
  {
   "cell_type": "code",
   "execution_count": 8,
   "metadata": {
    "execution": {
     "iopub.execute_input": "2021-03-18T08:15:06.458226Z",
     "iopub.status.busy": "2021-03-18T08:15:06.457699Z",
     "iopub.status.idle": "2021-03-18T08:15:06.461179Z",
     "shell.execute_reply": "2021-03-18T08:15:06.460725Z"
    }
   },
   "outputs": [],
   "source": [
    "zipped = dict(zip(counties, doses))"
   ]
  },
  {
   "cell_type": "code",
   "execution_count": 9,
   "metadata": {
    "execution": {
     "iopub.execute_input": "2021-03-18T08:15:06.466711Z",
     "iopub.status.busy": "2021-03-18T08:15:06.466195Z",
     "iopub.status.idle": "2021-03-18T08:15:06.469718Z",
     "shell.execute_reply": "2021-03-18T08:15:06.469253Z"
    }
   },
   "outputs": [],
   "source": [
    "df = pd.Series(zipped).reset_index()"
   ]
  },
  {
   "cell_type": "code",
   "execution_count": 10,
   "metadata": {
    "execution": {
     "iopub.execute_input": "2021-03-18T08:15:06.473944Z",
     "iopub.status.busy": "2021-03-18T08:15:06.473379Z",
     "iopub.status.idle": "2021-03-18T08:15:06.476985Z",
     "shell.execute_reply": "2021-03-18T08:15:06.476503Z"
    }
   },
   "outputs": [],
   "source": [
    "df.columns = ['location','doses']"
   ]
  },
  {
   "cell_type": "markdown",
   "metadata": {},
   "source": [
    "Grab the overall California total"
   ]
  },
  {
   "cell_type": "code",
   "execution_count": 11,
   "metadata": {
    "execution": {
     "iopub.execute_input": "2021-03-18T08:15:06.480512Z",
     "iopub.status.busy": "2021-03-18T08:15:06.479984Z",
     "iopub.status.idle": "2021-03-18T08:15:06.483489Z",
     "shell.execute_reply": "2021-03-18T08:15:06.483007Z"
    }
   },
   "outputs": [],
   "source": [
    "add = {'location':'California','doses':dataJson[0]['dataValues'][2]}"
   ]
  },
  {
   "cell_type": "code",
   "execution_count": 12,
   "metadata": {
    "execution": {
     "iopub.execute_input": "2021-03-18T08:15:06.489537Z",
     "iopub.status.busy": "2021-03-18T08:15:06.489061Z",
     "iopub.status.idle": "2021-03-18T08:15:06.492278Z",
     "shell.execute_reply": "2021-03-18T08:15:06.491860Z"
    }
   },
   "outputs": [],
   "source": [
    "df = df.append(add, ignore_index=True)"
   ]
  },
  {
   "cell_type": "code",
   "execution_count": 13,
   "metadata": {
    "execution": {
     "iopub.execute_input": "2021-03-18T08:15:06.496225Z",
     "iopub.status.busy": "2021-03-18T08:15:06.495749Z",
     "iopub.status.idle": "2021-03-18T08:15:06.499672Z",
     "shell.execute_reply": "2021-03-18T08:15:06.498996Z"
    }
   },
   "outputs": [],
   "source": [
    "df = df.sort_values(by='location')"
   ]
  },
  {
   "cell_type": "code",
   "execution_count": 14,
   "metadata": {
    "execution": {
     "iopub.execute_input": "2021-03-18T08:15:06.505291Z",
     "iopub.status.busy": "2021-03-18T08:15:06.504813Z",
     "iopub.status.idle": "2021-03-18T08:15:06.507551Z",
     "shell.execute_reply": "2021-03-18T08:15:06.507959Z"
    }
   },
   "outputs": [],
   "source": [
    "df = df[df.location == 'California'].append(df[df.location != 'California']).reset_index(drop=True)"
   ]
  },
  {
   "cell_type": "code",
   "execution_count": null,
   "metadata": {},
   "outputs": [],
   "source": []
  },
  {
   "cell_type": "code",
   "execution_count": 15,
   "metadata": {
    "execution": {
     "iopub.execute_input": "2021-03-18T08:15:06.511496Z",
     "iopub.status.busy": "2021-03-18T08:15:06.510629Z",
     "iopub.status.idle": "2021-03-18T08:15:06.527419Z",
     "shell.execute_reply": "2021-03-18T08:15:06.526971Z"
    }
   },
   "outputs": [],
   "source": [
    "tz = pytz.timezone(\"America/New_York\")"
   ]
  },
  {
   "cell_type": "code",
   "execution_count": 16,
   "metadata": {
    "execution": {
     "iopub.execute_input": "2021-03-18T08:15:06.530624Z",
     "iopub.status.busy": "2021-03-18T08:15:06.530146Z",
     "iopub.status.idle": "2021-03-18T08:15:06.532873Z",
     "shell.execute_reply": "2021-03-18T08:15:06.533273Z"
    }
   },
   "outputs": [],
   "source": [
    "today = datetime.now(tz).date()"
   ]
  },
  {
   "cell_type": "code",
   "execution_count": 17,
   "metadata": {
    "execution": {
     "iopub.execute_input": "2021-03-18T08:15:06.536574Z",
     "iopub.status.busy": "2021-03-18T08:15:06.536096Z",
     "iopub.status.idle": "2021-03-18T08:15:06.539226Z",
     "shell.execute_reply": "2021-03-18T08:15:06.538803Z"
    }
   },
   "outputs": [],
   "source": [
    "data_dir = os.path.join(os.path.abspath(\"\"), \"data\")"
   ]
  },
  {
   "cell_type": "code",
   "execution_count": 18,
   "metadata": {
    "execution": {
     "iopub.execute_input": "2021-03-18T08:15:06.543066Z",
     "iopub.status.busy": "2021-03-18T08:15:06.542593Z",
     "iopub.status.idle": "2021-03-18T08:15:06.547750Z",
     "shell.execute_reply": "2021-03-18T08:15:06.547316Z"
    }
   },
   "outputs": [],
   "source": [
    "df.to_csv(os.path.join(data_dir, f\"{today}.csv\"), index=False)"
   ]
  },
  {
   "cell_type": "code",
   "execution_count": null,
   "metadata": {},
   "outputs": [],
   "source": []
  }
 ],
 "metadata": {
  "kernelspec": {
   "display_name": "Python 3",
   "language": "python",
   "name": "python3"
  },
  "language_info": {
   "codemirror_mode": {
    "name": "ipython",
    "version": 3
   },
   "file_extension": ".py",
   "mimetype": "text/x-python",
   "name": "python",
   "nbconvert_exporter": "python",
   "pygments_lexer": "ipython3",
   "version": "3.8.8"
  }
 },
 "nbformat": 4,
 "nbformat_minor": 4
}
