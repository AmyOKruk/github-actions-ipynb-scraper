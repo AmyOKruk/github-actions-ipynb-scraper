{
 "cells": [
  {
   "cell_type": "markdown",
   "metadata": {},
   "source": [
    "# California COVID vaccinations scrape"
   ]
  },
  {
   "cell_type": "markdown",
   "metadata": {},
   "source": [
    "By [Amy O'Kruk](https://twitter.com/amyokruk)"
   ]
  },
  {
   "cell_type": "markdown",
   "metadata": {},
   "source": [
    "Downloads data on vaccine doses administered by county and statewide from a Tableau-powered dashboard from the California Department of Public Health."
   ]
  },
  {
   "cell_type": "code",
   "execution_count": 1,
   "metadata": {
    "execution": {
     "iopub.execute_input": "2021-03-16T02:15:00.303921Z",
     "iopub.status.busy": "2021-03-16T02:15:00.303349Z",
     "iopub.status.idle": "2021-03-16T02:15:00.684457Z",
     "shell.execute_reply": "2021-03-16T02:15:00.683849Z"
    }
   },
   "outputs": [],
   "source": [
    "import pandas as pd\n",
    "import requests\n",
    "from bs4 import BeautifulSoup\n",
    "import json\n",
    "import re\n",
    "import time\n",
    "from time import gmtime, strftime \n",
    "import os\n",
    "import pytz\n",
    "from datetime import datetime"
   ]
  },
  {
   "cell_type": "markdown",
   "metadata": {},
   "source": [
    "Scrape the dashboard page"
   ]
  },
  {
   "cell_type": "code",
   "execution_count": 2,
   "metadata": {
    "execution": {
     "iopub.execute_input": "2021-03-16T02:15:00.690324Z",
     "iopub.status.busy": "2021-03-16T02:15:00.688034Z",
     "iopub.status.idle": "2021-03-16T02:15:01.182620Z",
     "shell.execute_reply": "2021-03-16T02:15:01.182108Z"
    }
   },
   "outputs": [],
   "source": [
    "url = \"https://public.tableau.com/interactive/views/COVID-19VaccineDashboardPublic/Vaccine?:embed=y&:showVizHome=n&:apiID=host0\"\n",
    "\n",
    "r = requests.get(url)\n",
    "soup = BeautifulSoup(r.text, \"html.parser\")"
   ]
  },
  {
   "cell_type": "code",
   "execution_count": 3,
   "metadata": {
    "execution": {
     "iopub.execute_input": "2021-03-16T02:15:01.187433Z",
     "iopub.status.busy": "2021-03-16T02:15:01.186912Z",
     "iopub.status.idle": "2021-03-16T02:15:01.190809Z",
     "shell.execute_reply": "2021-03-16T02:15:01.190262Z"
    }
   },
   "outputs": [],
   "source": [
    "tableauData = json.loads(soup.find(\"textarea\",{\"id\": \"tsConfigContainer\"}).text)"
   ]
  },
  {
   "cell_type": "markdown",
   "metadata": {},
   "source": [
    "Get the link to the Tableau data"
   ]
  },
  {
   "cell_type": "code",
   "execution_count": 4,
   "metadata": {
    "execution": {
     "iopub.execute_input": "2021-03-16T02:15:01.195479Z",
     "iopub.status.busy": "2021-03-16T02:15:01.194264Z",
     "iopub.status.idle": "2021-03-16T02:15:01.196190Z",
     "shell.execute_reply": "2021-03-16T02:15:01.196625Z"
    }
   },
   "outputs": [],
   "source": [
    "dataUrl = f'https://public.tableau.com{tableauData[\"vizql_root\"]}/bootstrapSession/sessions/{tableauData[\"sessionid\"]}'"
   ]
  },
  {
   "cell_type": "code",
   "execution_count": 5,
   "metadata": {
    "execution": {
     "iopub.execute_input": "2021-03-16T02:15:01.203248Z",
     "iopub.status.busy": "2021-03-16T02:15:01.202704Z",
     "iopub.status.idle": "2021-03-16T02:15:01.704318Z",
     "shell.execute_reply": "2021-03-16T02:15:01.703708Z"
    }
   },
   "outputs": [],
   "source": [
    "r = requests.post(dataUrl, data= {\n",
    "    \"sheet_id\": tableauData[\"sheetId\"],\n",
    "})\n",
    "\n",
    "dataReg = re.search('\\d+;({.*})\\d+;({.*})', r.text, re.MULTILINE)\n",
    "data1 = json.loads(dataReg.group(2))\n",
    "\n",
    "dataJson = data1[\"secondaryInfo\"][\"presModelMap\"][\"dataDictionary\"][\"presModelHolder\"][\"genDataDictionaryPresModel\"][\"dataSegments\"][\"0\"][\"dataColumns\"]"
   ]
  },
  {
   "cell_type": "markdown",
   "metadata": {},
   "source": [
    "Isolate what you want"
   ]
  },
  {
   "cell_type": "code",
   "execution_count": 6,
   "metadata": {
    "execution": {
     "iopub.execute_input": "2021-03-16T02:15:01.708716Z",
     "iopub.status.busy": "2021-03-16T02:15:01.708213Z",
     "iopub.status.idle": "2021-03-16T02:15:01.711294Z",
     "shell.execute_reply": "2021-03-16T02:15:01.711684Z"
    }
   },
   "outputs": [],
   "source": [
    "counties = dataJson[2]['dataValues'][:58]"
   ]
  },
  {
   "cell_type": "code",
   "execution_count": 7,
   "metadata": {
    "execution": {
     "iopub.execute_input": "2021-03-16T02:15:01.715020Z",
     "iopub.status.busy": "2021-03-16T02:15:01.714505Z",
     "iopub.status.idle": "2021-03-16T02:15:01.718001Z",
     "shell.execute_reply": "2021-03-16T02:15:01.718468Z"
    }
   },
   "outputs": [],
   "source": [
    "doses = dataJson[0]['dataValues'][3:61]"
   ]
  },
  {
   "cell_type": "markdown",
   "metadata": {},
   "source": [
    "Data formatting"
   ]
  },
  {
   "cell_type": "code",
   "execution_count": 8,
   "metadata": {
    "execution": {
     "iopub.execute_input": "2021-03-16T02:15:01.722094Z",
     "iopub.status.busy": "2021-03-16T02:15:01.721441Z",
     "iopub.status.idle": "2021-03-16T02:15:01.725234Z",
     "shell.execute_reply": "2021-03-16T02:15:01.724808Z"
    }
   },
   "outputs": [],
   "source": [
    "zipped = dict(zip(counties, doses))"
   ]
  },
  {
   "cell_type": "code",
   "execution_count": 9,
   "metadata": {
    "execution": {
     "iopub.execute_input": "2021-03-16T02:15:01.732005Z",
     "iopub.status.busy": "2021-03-16T02:15:01.730693Z",
     "iopub.status.idle": "2021-03-16T02:15:01.732918Z",
     "shell.execute_reply": "2021-03-16T02:15:01.733346Z"
    }
   },
   "outputs": [],
   "source": [
    "df = pd.Series(zipped).reset_index()"
   ]
  },
  {
   "cell_type": "code",
   "execution_count": 10,
   "metadata": {
    "execution": {
     "iopub.execute_input": "2021-03-16T02:15:01.741449Z",
     "iopub.status.busy": "2021-03-16T02:15:01.736989Z",
     "iopub.status.idle": "2021-03-16T02:15:01.743424Z",
     "shell.execute_reply": "2021-03-16T02:15:01.742940Z"
    }
   },
   "outputs": [],
   "source": [
    "df.columns = ['location','doses']"
   ]
  },
  {
   "cell_type": "markdown",
   "metadata": {},
   "source": [
    "Grab the overall California total"
   ]
  },
  {
   "cell_type": "code",
   "execution_count": 11,
   "metadata": {
    "execution": {
     "iopub.execute_input": "2021-03-16T02:15:01.748369Z",
     "iopub.status.busy": "2021-03-16T02:15:01.747066Z",
     "iopub.status.idle": "2021-03-16T02:15:01.749068Z",
     "shell.execute_reply": "2021-03-16T02:15:01.749531Z"
    }
   },
   "outputs": [],
   "source": [
    "add = {'location':'California','doses':dataJson[0]['dataValues'][2]}"
   ]
  },
  {
   "cell_type": "code",
   "execution_count": 12,
   "metadata": {
    "execution": {
     "iopub.execute_input": "2021-03-16T02:15:01.757123Z",
     "iopub.status.busy": "2021-03-16T02:15:01.756071Z",
     "iopub.status.idle": "2021-03-16T02:15:01.757794Z",
     "shell.execute_reply": "2021-03-16T02:15:01.758293Z"
    }
   },
   "outputs": [],
   "source": [
    "df = df.append(add, ignore_index=True)"
   ]
  },
  {
   "cell_type": "code",
   "execution_count": 13,
   "metadata": {
    "execution": {
     "iopub.execute_input": "2021-03-16T02:15:01.763468Z",
     "iopub.status.busy": "2021-03-16T02:15:01.762332Z",
     "iopub.status.idle": "2021-03-16T02:15:01.764118Z",
     "shell.execute_reply": "2021-03-16T02:15:01.764568Z"
    }
   },
   "outputs": [],
   "source": [
    "df = df.sort_values(by='location')"
   ]
  },
  {
   "cell_type": "code",
   "execution_count": 14,
   "metadata": {
    "execution": {
     "iopub.execute_input": "2021-03-16T02:15:01.771457Z",
     "iopub.status.busy": "2021-03-16T02:15:01.770206Z",
     "iopub.status.idle": "2021-03-16T02:15:01.772043Z",
     "shell.execute_reply": "2021-03-16T02:15:01.772472Z"
    }
   },
   "outputs": [],
   "source": [
    "df = df[df.location == 'California'].append(df[df.location != 'California']).reset_index(drop=True)"
   ]
  },
  {
   "cell_type": "code",
   "execution_count": null,
   "metadata": {},
   "outputs": [],
   "source": []
  },
  {
   "cell_type": "code",
   "execution_count": 15,
   "metadata": {
    "execution": {
     "iopub.execute_input": "2021-03-16T02:15:01.775765Z",
     "iopub.status.busy": "2021-03-16T02:15:01.775244Z",
     "iopub.status.idle": "2021-03-16T02:15:01.794368Z",
     "shell.execute_reply": "2021-03-16T02:15:01.793883Z"
    }
   },
   "outputs": [],
   "source": [
    "tz = pytz.timezone(\"America/New_York\")"
   ]
  },
  {
   "cell_type": "code",
   "execution_count": 16,
   "metadata": {
    "execution": {
     "iopub.execute_input": "2021-03-16T02:15:01.799040Z",
     "iopub.status.busy": "2021-03-16T02:15:01.797590Z",
     "iopub.status.idle": "2021-03-16T02:15:01.799664Z",
     "shell.execute_reply": "2021-03-16T02:15:01.800365Z"
    }
   },
   "outputs": [],
   "source": [
    "today = datetime.now(tz).date()"
   ]
  },
  {
   "cell_type": "code",
   "execution_count": 17,
   "metadata": {
    "execution": {
     "iopub.execute_input": "2021-03-16T02:15:01.805477Z",
     "iopub.status.busy": "2021-03-16T02:15:01.804261Z",
     "iopub.status.idle": "2021-03-16T02:15:01.806115Z",
     "shell.execute_reply": "2021-03-16T02:15:01.806533Z"
    }
   },
   "outputs": [],
   "source": [
    "data_dir = os.path.join(os.path.abspath(\"\"), \"data\")"
   ]
  },
  {
   "cell_type": "code",
   "execution_count": 18,
   "metadata": {
    "execution": {
     "iopub.execute_input": "2021-03-16T02:15:01.812839Z",
     "iopub.status.busy": "2021-03-16T02:15:01.811809Z",
     "iopub.status.idle": "2021-03-16T02:15:01.815466Z",
     "shell.execute_reply": "2021-03-16T02:15:01.814957Z"
    }
   },
   "outputs": [],
   "source": [
    "df.to_csv(os.path.join(data_dir, f\"{today}.csv\"), index=False)"
   ]
  },
  {
   "cell_type": "code",
   "execution_count": null,
   "metadata": {},
   "outputs": [],
   "source": []
  }
 ],
 "metadata": {
  "kernelspec": {
   "display_name": "Python 3",
   "language": "python",
   "name": "python3"
  },
  "language_info": {
   "codemirror_mode": {
    "name": "ipython",
    "version": 3
   },
   "file_extension": ".py",
   "mimetype": "text/x-python",
   "name": "python",
   "nbconvert_exporter": "python",
   "pygments_lexer": "ipython3",
   "version": "3.8.8"
  }
 },
 "nbformat": 4,
 "nbformat_minor": 4
}
