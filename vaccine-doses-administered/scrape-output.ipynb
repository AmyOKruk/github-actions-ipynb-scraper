{
 "cells": [
  {
   "cell_type": "markdown",
   "metadata": {},
   "source": [
    "# California COVID vaccinations scrape"
   ]
  },
  {
   "cell_type": "markdown",
   "metadata": {},
   "source": [
    "By [Amy O'Kruk](https://twitter.com/amyokruk)"
   ]
  },
  {
   "cell_type": "markdown",
   "metadata": {},
   "source": [
    "Downloads data on vaccine doses administered by county and statewide from a Tableau-powered dashboard from the California Department of Public Health."
   ]
  },
  {
   "cell_type": "code",
   "execution_count": 1,
   "metadata": {
    "execution": {
     "iopub.execute_input": "2021-03-22T00:31:25.132823Z",
     "iopub.status.busy": "2021-03-22T00:31:25.132129Z",
     "iopub.status.idle": "2021-03-22T00:31:25.525313Z",
     "shell.execute_reply": "2021-03-22T00:31:25.524722Z"
    }
   },
   "outputs": [],
   "source": [
    "import pandas as pd\n",
    "import requests\n",
    "from bs4 import BeautifulSoup\n",
    "import json\n",
    "import re\n",
    "import time\n",
    "from time import gmtime, strftime \n",
    "import os\n",
    "import pytz\n",
    "from datetime import datetime"
   ]
  },
  {
   "cell_type": "markdown",
   "metadata": {},
   "source": [
    "Scrape the dashboard page"
   ]
  },
  {
   "cell_type": "code",
   "execution_count": 2,
   "metadata": {
    "execution": {
     "iopub.execute_input": "2021-03-22T00:31:25.531403Z",
     "iopub.status.busy": "2021-03-22T00:31:25.528757Z",
     "iopub.status.idle": "2021-03-22T00:31:25.908516Z",
     "shell.execute_reply": "2021-03-22T00:31:25.906145Z"
    }
   },
   "outputs": [],
   "source": [
    "url = \"https://public.tableau.com/interactive/views/COVID-19VaccineDashboardPublic/Vaccine?:embed=y&:showVizHome=n&:apiID=host0\"\n",
    "\n",
    "r = requests.get(url)\n",
    "soup = BeautifulSoup(r.text, \"html.parser\")"
   ]
  },
  {
   "cell_type": "code",
   "execution_count": 3,
   "metadata": {
    "execution": {
     "iopub.execute_input": "2021-03-22T00:31:25.911774Z",
     "iopub.status.busy": "2021-03-22T00:31:25.911082Z",
     "iopub.status.idle": "2021-03-22T00:31:25.915422Z",
     "shell.execute_reply": "2021-03-22T00:31:25.915903Z"
    }
   },
   "outputs": [],
   "source": [
    "tableauData = json.loads(soup.find(\"textarea\",{\"id\": \"tsConfigContainer\"}).text)"
   ]
  },
  {
   "cell_type": "markdown",
   "metadata": {},
   "source": [
    "Get the link to the Tableau data"
   ]
  },
  {
   "cell_type": "code",
   "execution_count": 4,
   "metadata": {
    "execution": {
     "iopub.execute_input": "2021-03-22T00:31:25.920383Z",
     "iopub.status.busy": "2021-03-22T00:31:25.919054Z",
     "iopub.status.idle": "2021-03-22T00:31:25.921008Z",
     "shell.execute_reply": "2021-03-22T00:31:25.921486Z"
    }
   },
   "outputs": [],
   "source": [
    "dataUrl = f'https://public.tableau.com{tableauData[\"vizql_root\"]}/bootstrapSession/sessions/{tableauData[\"sessionid\"]}'"
   ]
  },
  {
   "cell_type": "code",
   "execution_count": 5,
   "metadata": {
    "execution": {
     "iopub.execute_input": "2021-03-22T00:31:25.928574Z",
     "iopub.status.busy": "2021-03-22T00:31:25.927762Z",
     "iopub.status.idle": "2021-03-22T00:31:26.166824Z",
     "shell.execute_reply": "2021-03-22T00:31:26.166152Z"
    }
   },
   "outputs": [],
   "source": [
    "r = requests.post(dataUrl, data= {\n",
    "    \"sheet_id\": tableauData[\"sheetId\"],\n",
    "})\n",
    "\n",
    "dataReg = re.search('\\d+;({.*})\\d+;({.*})', r.text, re.MULTILINE)\n",
    "data1 = json.loads(dataReg.group(2))\n",
    "\n",
    "dataJson = data1[\"secondaryInfo\"][\"presModelMap\"][\"dataDictionary\"][\"presModelHolder\"][\"genDataDictionaryPresModel\"][\"dataSegments\"][\"0\"][\"dataColumns\"]"
   ]
  },
  {
   "cell_type": "markdown",
   "metadata": {},
   "source": [
    "Isolate what you want"
   ]
  },
  {
   "cell_type": "code",
   "execution_count": 6,
   "metadata": {
    "execution": {
     "iopub.execute_input": "2021-03-22T00:31:26.170861Z",
     "iopub.status.busy": "2021-03-22T00:31:26.170299Z",
     "iopub.status.idle": "2021-03-22T00:31:26.174155Z",
     "shell.execute_reply": "2021-03-22T00:31:26.173330Z"
    }
   },
   "outputs": [],
   "source": [
    "counties = dataJson[2]['dataValues'][:58]"
   ]
  },
  {
   "cell_type": "code",
   "execution_count": 7,
   "metadata": {
    "execution": {
     "iopub.execute_input": "2021-03-22T00:31:26.178261Z",
     "iopub.status.busy": "2021-03-22T00:31:26.177701Z",
     "iopub.status.idle": "2021-03-22T00:31:26.181201Z",
     "shell.execute_reply": "2021-03-22T00:31:26.181686Z"
    }
   },
   "outputs": [],
   "source": [
    "doses = dataJson[0]['dataValues'][3:61]"
   ]
  },
  {
   "cell_type": "markdown",
   "metadata": {},
   "source": [
    "Data formatting"
   ]
  },
  {
   "cell_type": "code",
   "execution_count": 8,
   "metadata": {
    "execution": {
     "iopub.execute_input": "2021-03-22T00:31:26.185451Z",
     "iopub.status.busy": "2021-03-22T00:31:26.184893Z",
     "iopub.status.idle": "2021-03-22T00:31:26.188649Z",
     "shell.execute_reply": "2021-03-22T00:31:26.188149Z"
    }
   },
   "outputs": [],
   "source": [
    "zipped = dict(zip(counties, doses))"
   ]
  },
  {
   "cell_type": "code",
   "execution_count": 9,
   "metadata": {
    "execution": {
     "iopub.execute_input": "2021-03-22T00:31:26.194694Z",
     "iopub.status.busy": "2021-03-22T00:31:26.194140Z",
     "iopub.status.idle": "2021-03-22T00:31:26.197769Z",
     "shell.execute_reply": "2021-03-22T00:31:26.197248Z"
    }
   },
   "outputs": [],
   "source": [
    "df = pd.Series(zipped).reset_index()"
   ]
  },
  {
   "cell_type": "code",
   "execution_count": 10,
   "metadata": {
    "execution": {
     "iopub.execute_input": "2021-03-22T00:31:26.201778Z",
     "iopub.status.busy": "2021-03-22T00:31:26.201228Z",
     "iopub.status.idle": "2021-03-22T00:31:26.205253Z",
     "shell.execute_reply": "2021-03-22T00:31:26.204762Z"
    }
   },
   "outputs": [],
   "source": [
    "df.columns = ['location','doses']"
   ]
  },
  {
   "cell_type": "markdown",
   "metadata": {},
   "source": [
    "Grab the overall California total"
   ]
  },
  {
   "cell_type": "code",
   "execution_count": 11,
   "metadata": {
    "execution": {
     "iopub.execute_input": "2021-03-22T00:31:26.209062Z",
     "iopub.status.busy": "2021-03-22T00:31:26.208507Z",
     "iopub.status.idle": "2021-03-22T00:31:26.212460Z",
     "shell.execute_reply": "2021-03-22T00:31:26.211946Z"
    }
   },
   "outputs": [],
   "source": [
    "add = {'location':'California','doses':dataJson[0]['dataValues'][2]}"
   ]
  },
  {
   "cell_type": "code",
   "execution_count": 12,
   "metadata": {
    "execution": {
     "iopub.execute_input": "2021-03-22T00:31:26.219496Z",
     "iopub.status.busy": "2021-03-22T00:31:26.218920Z",
     "iopub.status.idle": "2021-03-22T00:31:26.222793Z",
     "shell.execute_reply": "2021-03-22T00:31:26.222216Z"
    }
   },
   "outputs": [],
   "source": [
    "df = df.append(add, ignore_index=True)"
   ]
  },
  {
   "cell_type": "code",
   "execution_count": 13,
   "metadata": {
    "execution": {
     "iopub.execute_input": "2021-03-22T00:31:26.227944Z",
     "iopub.status.busy": "2021-03-22T00:31:26.227236Z",
     "iopub.status.idle": "2021-03-22T00:31:26.231132Z",
     "shell.execute_reply": "2021-03-22T00:31:26.230579Z"
    }
   },
   "outputs": [],
   "source": [
    "df = df.sort_values(by='location')"
   ]
  },
  {
   "cell_type": "code",
   "execution_count": 14,
   "metadata": {
    "execution": {
     "iopub.execute_input": "2021-03-22T00:31:26.237270Z",
     "iopub.status.busy": "2021-03-22T00:31:26.236715Z",
     "iopub.status.idle": "2021-03-22T00:31:26.240165Z",
     "shell.execute_reply": "2021-03-22T00:31:26.240640Z"
    }
   },
   "outputs": [],
   "source": [
    "df = df[df.location == 'California'].append(df[df.location != 'California']).reset_index(drop=True)"
   ]
  },
  {
   "cell_type": "code",
   "execution_count": null,
   "metadata": {},
   "outputs": [],
   "source": []
  },
  {
   "cell_type": "code",
   "execution_count": 15,
   "metadata": {
    "execution": {
     "iopub.execute_input": "2021-03-22T00:31:26.244320Z",
     "iopub.status.busy": "2021-03-22T00:31:26.243760Z",
     "iopub.status.idle": "2021-03-22T00:31:26.266061Z",
     "shell.execute_reply": "2021-03-22T00:31:26.265104Z"
    }
   },
   "outputs": [],
   "source": [
    "tz = pytz.timezone(\"America/New_York\")"
   ]
  },
  {
   "cell_type": "code",
   "execution_count": 16,
   "metadata": {
    "execution": {
     "iopub.execute_input": "2021-03-22T00:31:26.269846Z",
     "iopub.status.busy": "2021-03-22T00:31:26.269286Z",
     "iopub.status.idle": "2021-03-22T00:31:26.272650Z",
     "shell.execute_reply": "2021-03-22T00:31:26.273092Z"
    }
   },
   "outputs": [],
   "source": [
    "today = datetime.now(tz).date()"
   ]
  },
  {
   "cell_type": "code",
   "execution_count": 17,
   "metadata": {
    "execution": {
     "iopub.execute_input": "2021-03-22T00:31:26.276951Z",
     "iopub.status.busy": "2021-03-22T00:31:26.276381Z",
     "iopub.status.idle": "2021-03-22T00:31:26.280131Z",
     "shell.execute_reply": "2021-03-22T00:31:26.279625Z"
    }
   },
   "outputs": [],
   "source": [
    "data_dir = os.path.join(os.path.abspath(\"\"), \"data\")"
   ]
  },
  {
   "cell_type": "code",
   "execution_count": 18,
   "metadata": {
    "execution": {
     "iopub.execute_input": "2021-03-22T00:31:26.286566Z",
     "iopub.status.busy": "2021-03-22T00:31:26.283782Z",
     "iopub.status.idle": "2021-03-22T00:31:26.290662Z",
     "shell.execute_reply": "2021-03-22T00:31:26.290021Z"
    }
   },
   "outputs": [],
   "source": [
    "df.to_csv(os.path.join(data_dir, f\"{today}.csv\"), index=False)"
   ]
  },
  {
   "cell_type": "code",
   "execution_count": null,
   "metadata": {},
   "outputs": [],
   "source": []
  }
 ],
 "metadata": {
  "kernelspec": {
   "display_name": "Python 3",
   "language": "python",
   "name": "python3"
  },
  "language_info": {
   "codemirror_mode": {
    "name": "ipython",
    "version": 3
   },
   "file_extension": ".py",
   "mimetype": "text/x-python",
   "name": "python",
   "nbconvert_exporter": "python",
   "pygments_lexer": "ipython3",
   "version": "3.8.8"
  }
 },
 "nbformat": 4,
 "nbformat_minor": 4
}
