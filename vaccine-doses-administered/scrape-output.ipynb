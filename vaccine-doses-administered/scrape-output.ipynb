{
 "cells": [
  {
   "cell_type": "markdown",
   "metadata": {},
   "source": [
    "# California COVID vaccinations scrape"
   ]
  },
  {
   "cell_type": "markdown",
   "metadata": {},
   "source": [
    "By [Amy O'Kruk](https://twitter.com/amyokruk)"
   ]
  },
  {
   "cell_type": "markdown",
   "metadata": {},
   "source": [
    "Downloads data on vaccine doses administered by county and statewide from a Tableau-powered dashboard from the California Department of Public Health."
   ]
  },
  {
   "cell_type": "code",
   "execution_count": 1,
   "metadata": {
    "execution": {
     "iopub.execute_input": "2021-03-13T05:42:20.855784Z",
     "iopub.status.busy": "2021-03-13T05:42:20.854843Z",
     "iopub.status.idle": "2021-03-13T05:42:21.276933Z",
     "shell.execute_reply": "2021-03-13T05:42:21.275811Z"
    }
   },
   "outputs": [],
   "source": [
    "import pandas as pd\n",
    "import requests\n",
    "from bs4 import BeautifulSoup\n",
    "import json\n",
    "import re\n",
    "import time\n",
    "from time import gmtime, strftime \n",
    "import os\n",
    "import pytz\n",
    "from datetime import datetime"
   ]
  },
  {
   "cell_type": "markdown",
   "metadata": {},
   "source": [
    "Scrape the dashboard page"
   ]
  },
  {
   "cell_type": "code",
   "execution_count": 2,
   "metadata": {
    "execution": {
     "iopub.execute_input": "2021-03-13T05:42:21.283059Z",
     "iopub.status.busy": "2021-03-13T05:42:21.281170Z",
     "iopub.status.idle": "2021-03-13T05:42:21.767650Z",
     "shell.execute_reply": "2021-03-13T05:42:21.766846Z"
    }
   },
   "outputs": [],
   "source": [
    "url = \"https://public.tableau.com/interactive/views/COVID-19VaccineDashboardPublic/Vaccine?:embed=y&:showVizHome=n&:apiID=host0\"\n",
    "\n",
    "r = requests.get(url)\n",
    "soup = BeautifulSoup(r.text, \"html.parser\")"
   ]
  },
  {
   "cell_type": "code",
   "execution_count": 3,
   "metadata": {
    "execution": {
     "iopub.execute_input": "2021-03-13T05:42:21.772652Z",
     "iopub.status.busy": "2021-03-13T05:42:21.772134Z",
     "iopub.status.idle": "2021-03-13T05:42:21.775123Z",
     "shell.execute_reply": "2021-03-13T05:42:21.775524Z"
    }
   },
   "outputs": [],
   "source": [
    "tableauData = json.loads(soup.find(\"textarea\",{\"id\": \"tsConfigContainer\"}).text)"
   ]
  },
  {
   "cell_type": "markdown",
   "metadata": {},
   "source": [
    "Get the link to the Tableau data"
   ]
  },
  {
   "cell_type": "code",
   "execution_count": 4,
   "metadata": {
    "execution": {
     "iopub.execute_input": "2021-03-13T05:42:21.779867Z",
     "iopub.status.busy": "2021-03-13T05:42:21.778718Z",
     "iopub.status.idle": "2021-03-13T05:42:21.780521Z",
     "shell.execute_reply": "2021-03-13T05:42:21.780945Z"
    }
   },
   "outputs": [],
   "source": [
    "dataUrl = f'https://public.tableau.com{tableauData[\"vizql_root\"]}/bootstrapSession/sessions/{tableauData[\"sessionid\"]}'"
   ]
  },
  {
   "cell_type": "code",
   "execution_count": 5,
   "metadata": {
    "execution": {
     "iopub.execute_input": "2021-03-13T05:42:21.787687Z",
     "iopub.status.busy": "2021-03-13T05:42:21.787158Z",
     "iopub.status.idle": "2021-03-13T05:42:22.344691Z",
     "shell.execute_reply": "2021-03-13T05:42:22.343898Z"
    }
   },
   "outputs": [],
   "source": [
    "r = requests.post(dataUrl, data= {\n",
    "    \"sheet_id\": tableauData[\"sheetId\"],\n",
    "})\n",
    "\n",
    "dataReg = re.search('\\d+;({.*})\\d+;({.*})', r.text, re.MULTILINE)\n",
    "data1 = json.loads(dataReg.group(2))\n",
    "\n",
    "dataJson = data1[\"secondaryInfo\"][\"presModelMap\"][\"dataDictionary\"][\"presModelHolder\"][\"genDataDictionaryPresModel\"][\"dataSegments\"][\"0\"][\"dataColumns\"]"
   ]
  },
  {
   "cell_type": "markdown",
   "metadata": {},
   "source": [
    "Isolate what you want"
   ]
  },
  {
   "cell_type": "code",
   "execution_count": 6,
   "metadata": {
    "execution": {
     "iopub.execute_input": "2021-03-13T05:42:22.350509Z",
     "iopub.status.busy": "2021-03-13T05:42:22.349561Z",
     "iopub.status.idle": "2021-03-13T05:42:22.351481Z",
     "shell.execute_reply": "2021-03-13T05:42:22.351007Z"
    }
   },
   "outputs": [],
   "source": [
    "counties = dataJson[2]['dataValues'][:58]"
   ]
  },
  {
   "cell_type": "code",
   "execution_count": 7,
   "metadata": {
    "execution": {
     "iopub.execute_input": "2021-03-13T05:42:22.355890Z",
     "iopub.status.busy": "2021-03-13T05:42:22.354690Z",
     "iopub.status.idle": "2021-03-13T05:42:22.356536Z",
     "shell.execute_reply": "2021-03-13T05:42:22.356962Z"
    }
   },
   "outputs": [],
   "source": [
    "doses = dataJson[0]['dataValues'][3:61]"
   ]
  },
  {
   "cell_type": "markdown",
   "metadata": {},
   "source": [
    "Data formatting"
   ]
  },
  {
   "cell_type": "code",
   "execution_count": 8,
   "metadata": {
    "execution": {
     "iopub.execute_input": "2021-03-13T05:42:22.361256Z",
     "iopub.status.busy": "2021-03-13T05:42:22.360025Z",
     "iopub.status.idle": "2021-03-13T05:42:22.361858Z",
     "shell.execute_reply": "2021-03-13T05:42:22.362285Z"
    }
   },
   "outputs": [],
   "source": [
    "zipped = dict(zip(counties, doses))"
   ]
  },
  {
   "cell_type": "code",
   "execution_count": 9,
   "metadata": {
    "execution": {
     "iopub.execute_input": "2021-03-13T05:42:22.368848Z",
     "iopub.status.busy": "2021-03-13T05:42:22.367626Z",
     "iopub.status.idle": "2021-03-13T05:42:22.369479Z",
     "shell.execute_reply": "2021-03-13T05:42:22.369907Z"
    }
   },
   "outputs": [],
   "source": [
    "df = pd.Series(zipped).reset_index()"
   ]
  },
  {
   "cell_type": "code",
   "execution_count": 10,
   "metadata": {
    "execution": {
     "iopub.execute_input": "2021-03-13T05:42:22.374276Z",
     "iopub.status.busy": "2021-03-13T05:42:22.373143Z",
     "iopub.status.idle": "2021-03-13T05:42:22.374863Z",
     "shell.execute_reply": "2021-03-13T05:42:22.375283Z"
    }
   },
   "outputs": [],
   "source": [
    "df.columns = ['location','doses']"
   ]
  },
  {
   "cell_type": "markdown",
   "metadata": {},
   "source": [
    "Grab the overall California total"
   ]
  },
  {
   "cell_type": "code",
   "execution_count": 11,
   "metadata": {
    "execution": {
     "iopub.execute_input": "2021-03-13T05:42:22.379623Z",
     "iopub.status.busy": "2021-03-13T05:42:22.378470Z",
     "iopub.status.idle": "2021-03-13T05:42:22.380314Z",
     "shell.execute_reply": "2021-03-13T05:42:22.380749Z"
    }
   },
   "outputs": [],
   "source": [
    "add = {'location':'California','doses':dataJson[0]['dataValues'][2]}"
   ]
  },
  {
   "cell_type": "code",
   "execution_count": 12,
   "metadata": {
    "execution": {
     "iopub.execute_input": "2021-03-13T05:42:22.387733Z",
     "iopub.status.busy": "2021-03-13T05:42:22.386541Z",
     "iopub.status.idle": "2021-03-13T05:42:22.388323Z",
     "shell.execute_reply": "2021-03-13T05:42:22.388746Z"
    }
   },
   "outputs": [],
   "source": [
    "df = df.append(add, ignore_index=True)"
   ]
  },
  {
   "cell_type": "code",
   "execution_count": 13,
   "metadata": {
    "execution": {
     "iopub.execute_input": "2021-03-13T05:42:22.393424Z",
     "iopub.status.busy": "2021-03-13T05:42:22.392434Z",
     "iopub.status.idle": "2021-03-13T05:42:22.394096Z",
     "shell.execute_reply": "2021-03-13T05:42:22.394522Z"
    }
   },
   "outputs": [],
   "source": [
    "df = df.sort_values(by='location')"
   ]
  },
  {
   "cell_type": "code",
   "execution_count": 14,
   "metadata": {
    "execution": {
     "iopub.execute_input": "2021-03-13T05:42:22.400614Z",
     "iopub.status.busy": "2021-03-13T05:42:22.399750Z",
     "iopub.status.idle": "2021-03-13T05:42:22.401484Z",
     "shell.execute_reply": "2021-03-13T05:42:22.401913Z"
    }
   },
   "outputs": [],
   "source": [
    "df = df[df.location == 'California'].append(df[df.location != 'California']).reset_index(drop=True)"
   ]
  },
  {
   "cell_type": "code",
   "execution_count": null,
   "metadata": {},
   "outputs": [],
   "source": []
  },
  {
   "cell_type": "code",
   "execution_count": 15,
   "metadata": {
    "execution": {
     "iopub.execute_input": "2021-03-13T05:42:22.405128Z",
     "iopub.status.busy": "2021-03-13T05:42:22.404627Z",
     "iopub.status.idle": "2021-03-13T05:42:22.421253Z",
     "shell.execute_reply": "2021-03-13T05:42:22.420778Z"
    }
   },
   "outputs": [],
   "source": [
    "tz = pytz.timezone(\"America/New_York\")"
   ]
  },
  {
   "cell_type": "code",
   "execution_count": 16,
   "metadata": {
    "execution": {
     "iopub.execute_input": "2021-03-13T05:42:22.425382Z",
     "iopub.status.busy": "2021-03-13T05:42:22.424150Z",
     "iopub.status.idle": "2021-03-13T05:42:22.425978Z",
     "shell.execute_reply": "2021-03-13T05:42:22.426405Z"
    }
   },
   "outputs": [],
   "source": [
    "today = datetime.now(tz).date()"
   ]
  },
  {
   "cell_type": "code",
   "execution_count": 17,
   "metadata": {
    "execution": {
     "iopub.execute_input": "2021-03-13T05:42:22.430696Z",
     "iopub.status.busy": "2021-03-13T05:42:22.429486Z",
     "iopub.status.idle": "2021-03-13T05:42:22.431287Z",
     "shell.execute_reply": "2021-03-13T05:42:22.431713Z"
    }
   },
   "outputs": [],
   "source": [
    "data_dir = os.path.join(os.path.abspath(\"\"), \"data\")"
   ]
  },
  {
   "cell_type": "code",
   "execution_count": 18,
   "metadata": {
    "execution": {
     "iopub.execute_input": "2021-03-13T05:42:22.436061Z",
     "iopub.status.busy": "2021-03-13T05:42:22.434940Z",
     "iopub.status.idle": "2021-03-13T05:42:22.439261Z",
     "shell.execute_reply": "2021-03-13T05:42:22.438828Z"
    }
   },
   "outputs": [],
   "source": [
    "df.to_csv(os.path.join(data_dir, f\"{today}.csv\"), index=False)"
   ]
  },
  {
   "cell_type": "code",
   "execution_count": null,
   "metadata": {},
   "outputs": [],
   "source": []
  }
 ],
 "metadata": {
  "kernelspec": {
   "display_name": "Python 3",
   "language": "python",
   "name": "python3"
  },
  "language_info": {
   "codemirror_mode": {
    "name": "ipython",
    "version": 3
   },
   "file_extension": ".py",
   "mimetype": "text/x-python",
   "name": "python",
   "nbconvert_exporter": "python",
   "pygments_lexer": "ipython3",
   "version": "3.8.8"
  }
 },
 "nbformat": 4,
 "nbformat_minor": 4
}
