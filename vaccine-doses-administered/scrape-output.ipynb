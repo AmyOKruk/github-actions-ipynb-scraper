{
 "cells": [
  {
   "cell_type": "markdown",
   "metadata": {},
   "source": [
    "# California COVID vaccinations scrape"
   ]
  },
  {
   "cell_type": "markdown",
   "metadata": {},
   "source": [
    "By [Amy O'Kruk](https://twitter.com/amyokruk)"
   ]
  },
  {
   "cell_type": "markdown",
   "metadata": {},
   "source": [
    "Downloads data on vaccine doses administered by county and statewide from a Tableau-powered dashboard from the California Department of Public Health."
   ]
  },
  {
   "cell_type": "code",
   "execution_count": 1,
   "metadata": {
    "execution": {
     "iopub.execute_input": "2021-03-16T05:12:33.245366Z",
     "iopub.status.busy": "2021-03-16T05:12:33.244830Z",
     "iopub.status.idle": "2021-03-16T05:12:33.752332Z",
     "shell.execute_reply": "2021-03-16T05:12:33.751786Z"
    }
   },
   "outputs": [],
   "source": [
    "import pandas as pd\n",
    "import requests\n",
    "from bs4 import BeautifulSoup\n",
    "import json\n",
    "import re\n",
    "import time\n",
    "from time import gmtime, strftime \n",
    "import os\n",
    "import pytz\n",
    "from datetime import datetime"
   ]
  },
  {
   "cell_type": "markdown",
   "metadata": {},
   "source": [
    "Scrape the dashboard page"
   ]
  },
  {
   "cell_type": "code",
   "execution_count": 2,
   "metadata": {
    "execution": {
     "iopub.execute_input": "2021-03-16T05:12:33.758098Z",
     "iopub.status.busy": "2021-03-16T05:12:33.757605Z",
     "iopub.status.idle": "2021-03-16T05:12:34.345737Z",
     "shell.execute_reply": "2021-03-16T05:12:34.346258Z"
    }
   },
   "outputs": [],
   "source": [
    "url = \"https://public.tableau.com/interactive/views/COVID-19VaccineDashboardPublic/Vaccine?:embed=y&:showVizHome=n&:apiID=host0\"\n",
    "\n",
    "r = requests.get(url)\n",
    "soup = BeautifulSoup(r.text, \"html.parser\")"
   ]
  },
  {
   "cell_type": "code",
   "execution_count": 3,
   "metadata": {
    "execution": {
     "iopub.execute_input": "2021-03-16T05:12:34.352435Z",
     "iopub.status.busy": "2021-03-16T05:12:34.351970Z",
     "iopub.status.idle": "2021-03-16T05:12:34.355327Z",
     "shell.execute_reply": "2021-03-16T05:12:34.354931Z"
    }
   },
   "outputs": [],
   "source": [
    "tableauData = json.loads(soup.find(\"textarea\",{\"id\": \"tsConfigContainer\"}).text)"
   ]
  },
  {
   "cell_type": "markdown",
   "metadata": {},
   "source": [
    "Get the link to the Tableau data"
   ]
  },
  {
   "cell_type": "code",
   "execution_count": 4,
   "metadata": {
    "execution": {
     "iopub.execute_input": "2021-03-16T05:12:34.358377Z",
     "iopub.status.busy": "2021-03-16T05:12:34.357912Z",
     "iopub.status.idle": "2021-03-16T05:12:34.361973Z",
     "shell.execute_reply": "2021-03-16T05:12:34.362360Z"
    }
   },
   "outputs": [],
   "source": [
    "dataUrl = f'https://public.tableau.com{tableauData[\"vizql_root\"]}/bootstrapSession/sessions/{tableauData[\"sessionid\"]}'"
   ]
  },
  {
   "cell_type": "code",
   "execution_count": 5,
   "metadata": {
    "execution": {
     "iopub.execute_input": "2021-03-16T05:12:34.368275Z",
     "iopub.status.busy": "2021-03-16T05:12:34.367733Z",
     "iopub.status.idle": "2021-03-16T05:12:34.534988Z",
     "shell.execute_reply": "2021-03-16T05:12:34.534462Z"
    }
   },
   "outputs": [],
   "source": [
    "r = requests.post(dataUrl, data= {\n",
    "    \"sheet_id\": tableauData[\"sheetId\"],\n",
    "})\n",
    "\n",
    "dataReg = re.search('\\d+;({.*})\\d+;({.*})', r.text, re.MULTILINE)\n",
    "data1 = json.loads(dataReg.group(2))\n",
    "\n",
    "dataJson = data1[\"secondaryInfo\"][\"presModelMap\"][\"dataDictionary\"][\"presModelHolder\"][\"genDataDictionaryPresModel\"][\"dataSegments\"][\"0\"][\"dataColumns\"]"
   ]
  },
  {
   "cell_type": "markdown",
   "metadata": {},
   "source": [
    "Isolate what you want"
   ]
  },
  {
   "cell_type": "code",
   "execution_count": 6,
   "metadata": {
    "execution": {
     "iopub.execute_input": "2021-03-16T05:12:34.539416Z",
     "iopub.status.busy": "2021-03-16T05:12:34.538208Z",
     "iopub.status.idle": "2021-03-16T05:12:34.540025Z",
     "shell.execute_reply": "2021-03-16T05:12:34.540468Z"
    }
   },
   "outputs": [],
   "source": [
    "counties = dataJson[2]['dataValues'][:58]"
   ]
  },
  {
   "cell_type": "code",
   "execution_count": 7,
   "metadata": {
    "execution": {
     "iopub.execute_input": "2021-03-16T05:12:34.544259Z",
     "iopub.status.busy": "2021-03-16T05:12:34.543334Z",
     "iopub.status.idle": "2021-03-16T05:12:34.545127Z",
     "shell.execute_reply": "2021-03-16T05:12:34.545526Z"
    }
   },
   "outputs": [],
   "source": [
    "doses = dataJson[0]['dataValues'][3:61]"
   ]
  },
  {
   "cell_type": "markdown",
   "metadata": {},
   "source": [
    "Data formatting"
   ]
  },
  {
   "cell_type": "code",
   "execution_count": 8,
   "metadata": {
    "execution": {
     "iopub.execute_input": "2021-03-16T05:12:34.551364Z",
     "iopub.status.busy": "2021-03-16T05:12:34.549962Z",
     "iopub.status.idle": "2021-03-16T05:12:34.551945Z",
     "shell.execute_reply": "2021-03-16T05:12:34.552413Z"
    }
   },
   "outputs": [],
   "source": [
    "zipped = dict(zip(counties, doses))"
   ]
  },
  {
   "cell_type": "code",
   "execution_count": 9,
   "metadata": {
    "execution": {
     "iopub.execute_input": "2021-03-16T05:12:34.558956Z",
     "iopub.status.busy": "2021-03-16T05:12:34.557534Z",
     "iopub.status.idle": "2021-03-16T05:12:34.559644Z",
     "shell.execute_reply": "2021-03-16T05:12:34.560104Z"
    }
   },
   "outputs": [],
   "source": [
    "df = pd.Series(zipped).reset_index()"
   ]
  },
  {
   "cell_type": "code",
   "execution_count": 10,
   "metadata": {
    "execution": {
     "iopub.execute_input": "2021-03-16T05:12:34.564844Z",
     "iopub.status.busy": "2021-03-16T05:12:34.563573Z",
     "iopub.status.idle": "2021-03-16T05:12:34.565387Z",
     "shell.execute_reply": "2021-03-16T05:12:34.565802Z"
    }
   },
   "outputs": [],
   "source": [
    "df.columns = ['location','doses']"
   ]
  },
  {
   "cell_type": "markdown",
   "metadata": {},
   "source": [
    "Grab the overall California total"
   ]
  },
  {
   "cell_type": "code",
   "execution_count": 11,
   "metadata": {
    "execution": {
     "iopub.execute_input": "2021-03-16T05:12:34.570066Z",
     "iopub.status.busy": "2021-03-16T05:12:34.568915Z",
     "iopub.status.idle": "2021-03-16T05:12:34.570672Z",
     "shell.execute_reply": "2021-03-16T05:12:34.571068Z"
    }
   },
   "outputs": [],
   "source": [
    "add = {'location':'California','doses':dataJson[0]['dataValues'][2]}"
   ]
  },
  {
   "cell_type": "code",
   "execution_count": 12,
   "metadata": {
    "execution": {
     "iopub.execute_input": "2021-03-16T05:12:34.577547Z",
     "iopub.status.busy": "2021-03-16T05:12:34.576487Z",
     "iopub.status.idle": "2021-03-16T05:12:34.579398Z",
     "shell.execute_reply": "2021-03-16T05:12:34.578710Z"
    }
   },
   "outputs": [],
   "source": [
    "df = df.append(add, ignore_index=True)"
   ]
  },
  {
   "cell_type": "code",
   "execution_count": 13,
   "metadata": {
    "execution": {
     "iopub.execute_input": "2021-03-16T05:12:34.584729Z",
     "iopub.status.busy": "2021-03-16T05:12:34.583413Z",
     "iopub.status.idle": "2021-03-16T05:12:34.585291Z",
     "shell.execute_reply": "2021-03-16T05:12:34.585744Z"
    }
   },
   "outputs": [],
   "source": [
    "df = df.sort_values(by='location')"
   ]
  },
  {
   "cell_type": "code",
   "execution_count": 14,
   "metadata": {
    "execution": {
     "iopub.execute_input": "2021-03-16T05:12:34.592371Z",
     "iopub.status.busy": "2021-03-16T05:12:34.591199Z",
     "iopub.status.idle": "2021-03-16T05:12:34.593157Z",
     "shell.execute_reply": "2021-03-16T05:12:34.593727Z"
    }
   },
   "outputs": [],
   "source": [
    "df = df[df.location == 'California'].append(df[df.location != 'California']).reset_index(drop=True)"
   ]
  },
  {
   "cell_type": "code",
   "execution_count": null,
   "metadata": {},
   "outputs": [],
   "source": []
  },
  {
   "cell_type": "code",
   "execution_count": 15,
   "metadata": {
    "execution": {
     "iopub.execute_input": "2021-03-16T05:12:34.597290Z",
     "iopub.status.busy": "2021-03-16T05:12:34.596776Z",
     "iopub.status.idle": "2021-03-16T05:12:34.613693Z",
     "shell.execute_reply": "2021-03-16T05:12:34.613224Z"
    }
   },
   "outputs": [],
   "source": [
    "tz = pytz.timezone(\"America/New_York\")"
   ]
  },
  {
   "cell_type": "code",
   "execution_count": 16,
   "metadata": {
    "execution": {
     "iopub.execute_input": "2021-03-16T05:12:34.617905Z",
     "iopub.status.busy": "2021-03-16T05:12:34.616641Z",
     "iopub.status.idle": "2021-03-16T05:12:34.618756Z",
     "shell.execute_reply": "2021-03-16T05:12:34.619320Z"
    }
   },
   "outputs": [],
   "source": [
    "today = datetime.now(tz).date()"
   ]
  },
  {
   "cell_type": "code",
   "execution_count": 17,
   "metadata": {
    "execution": {
     "iopub.execute_input": "2021-03-16T05:12:34.623413Z",
     "iopub.status.busy": "2021-03-16T05:12:34.622325Z",
     "iopub.status.idle": "2021-03-16T05:12:34.624243Z",
     "shell.execute_reply": "2021-03-16T05:12:34.624787Z"
    }
   },
   "outputs": [],
   "source": [
    "data_dir = os.path.join(os.path.abspath(\"\"), \"data\")"
   ]
  },
  {
   "cell_type": "code",
   "execution_count": 18,
   "metadata": {
    "execution": {
     "iopub.execute_input": "2021-03-16T05:12:34.628904Z",
     "iopub.status.busy": "2021-03-16T05:12:34.627996Z",
     "iopub.status.idle": "2021-03-16T05:12:34.632179Z",
     "shell.execute_reply": "2021-03-16T05:12:34.631763Z"
    }
   },
   "outputs": [],
   "source": [
    "df.to_csv(os.path.join(data_dir, f\"{today}.csv\"), index=False)"
   ]
  },
  {
   "cell_type": "code",
   "execution_count": null,
   "metadata": {},
   "outputs": [],
   "source": []
  }
 ],
 "metadata": {
  "kernelspec": {
   "display_name": "Python 3",
   "language": "python",
   "name": "python3"
  },
  "language_info": {
   "codemirror_mode": {
    "name": "ipython",
    "version": 3
   },
   "file_extension": ".py",
   "mimetype": "text/x-python",
   "name": "python",
   "nbconvert_exporter": "python",
   "pygments_lexer": "ipython3",
   "version": "3.8.8"
  }
 },
 "nbformat": 4,
 "nbformat_minor": 4
}
