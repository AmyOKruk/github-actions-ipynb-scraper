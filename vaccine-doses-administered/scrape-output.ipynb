{
 "cells": [
  {
   "cell_type": "markdown",
   "metadata": {},
   "source": [
    "# California COVID vaccinations scrape"
   ]
  },
  {
   "cell_type": "markdown",
   "metadata": {},
   "source": [
    "By [Amy O'Kruk](https://twitter.com/amyokruk)"
   ]
  },
  {
   "cell_type": "markdown",
   "metadata": {},
   "source": [
    "Downloads data on vaccine doses administered by county and statewide from a Tableau-powered dashboard from the California Department of Public Health."
   ]
  },
  {
   "cell_type": "code",
   "execution_count": 1,
   "metadata": {
    "execution": {
     "iopub.execute_input": "2021-03-10T10:43:33.062587Z",
     "iopub.status.busy": "2021-03-10T10:43:33.061555Z",
     "iopub.status.idle": "2021-03-10T10:43:33.506932Z",
     "shell.execute_reply": "2021-03-10T10:43:33.505992Z"
    }
   },
   "outputs": [],
   "source": [
    "import pandas as pd\n",
    "import requests\n",
    "from bs4 import BeautifulSoup\n",
    "import json\n",
    "import re\n",
    "import time\n",
    "from time import gmtime, strftime \n",
    "import os\n",
    "import pytz\n",
    "from datetime import datetime"
   ]
  },
  {
   "cell_type": "markdown",
   "metadata": {},
   "source": [
    "Scrape the dashboard page"
   ]
  },
  {
   "cell_type": "code",
   "execution_count": 2,
   "metadata": {
    "execution": {
     "iopub.execute_input": "2021-03-10T10:43:33.514008Z",
     "iopub.status.busy": "2021-03-10T10:43:33.513466Z",
     "iopub.status.idle": "2021-03-10T10:43:34.022476Z",
     "shell.execute_reply": "2021-03-10T10:43:34.021669Z"
    }
   },
   "outputs": [],
   "source": [
    "url = \"https://public.tableau.com/interactive/views/COVID-19VaccineDashboardPublic/Vaccine?:embed=y&:showVizHome=n&:apiID=host0\"\n",
    "\n",
    "r = requests.get(url)\n",
    "soup = BeautifulSoup(r.text, \"html.parser\")"
   ]
  },
  {
   "cell_type": "code",
   "execution_count": 3,
   "metadata": {
    "execution": {
     "iopub.execute_input": "2021-03-10T10:43:34.027577Z",
     "iopub.status.busy": "2021-03-10T10:43:34.027051Z",
     "iopub.status.idle": "2021-03-10T10:43:34.030464Z",
     "shell.execute_reply": "2021-03-10T10:43:34.030032Z"
    }
   },
   "outputs": [],
   "source": [
    "tableauData = json.loads(soup.find(\"textarea\",{\"id\": \"tsConfigContainer\"}).text)"
   ]
  },
  {
   "cell_type": "markdown",
   "metadata": {},
   "source": [
    "Get the link to the Tableau data"
   ]
  },
  {
   "cell_type": "code",
   "execution_count": 4,
   "metadata": {
    "execution": {
     "iopub.execute_input": "2021-03-10T10:43:34.034795Z",
     "iopub.status.busy": "2021-03-10T10:43:34.033589Z",
     "iopub.status.idle": "2021-03-10T10:43:34.035461Z",
     "shell.execute_reply": "2021-03-10T10:43:34.035887Z"
    }
   },
   "outputs": [],
   "source": [
    "dataUrl = f'https://public.tableau.com{tableauData[\"vizql_root\"]}/bootstrapSession/sessions/{tableauData[\"sessionid\"]}'"
   ]
  },
  {
   "cell_type": "code",
   "execution_count": 5,
   "metadata": {
    "execution": {
     "iopub.execute_input": "2021-03-10T10:43:34.042453Z",
     "iopub.status.busy": "2021-03-10T10:43:34.041928Z",
     "iopub.status.idle": "2021-03-10T10:43:34.257572Z",
     "shell.execute_reply": "2021-03-10T10:43:34.257049Z"
    }
   },
   "outputs": [],
   "source": [
    "r = requests.post(dataUrl, data= {\n",
    "    \"sheet_id\": tableauData[\"sheetId\"],\n",
    "})\n",
    "\n",
    "dataReg = re.search('\\d+;({.*})\\d+;({.*})', r.text, re.MULTILINE)\n",
    "data1 = json.loads(dataReg.group(2))\n",
    "\n",
    "dataJson = data1[\"secondaryInfo\"][\"presModelMap\"][\"dataDictionary\"][\"presModelHolder\"][\"genDataDictionaryPresModel\"][\"dataSegments\"][\"0\"][\"dataColumns\"]"
   ]
  },
  {
   "cell_type": "markdown",
   "metadata": {},
   "source": [
    "Isolate what you want"
   ]
  },
  {
   "cell_type": "code",
   "execution_count": 6,
   "metadata": {
    "execution": {
     "iopub.execute_input": "2021-03-10T10:43:34.262419Z",
     "iopub.status.busy": "2021-03-10T10:43:34.261148Z",
     "iopub.status.idle": "2021-03-10T10:43:34.263000Z",
     "shell.execute_reply": "2021-03-10T10:43:34.263421Z"
    }
   },
   "outputs": [],
   "source": [
    "counties = dataJson[2]['dataValues'][:58]"
   ]
  },
  {
   "cell_type": "code",
   "execution_count": 7,
   "metadata": {
    "execution": {
     "iopub.execute_input": "2021-03-10T10:43:34.267926Z",
     "iopub.status.busy": "2021-03-10T10:43:34.266750Z",
     "iopub.status.idle": "2021-03-10T10:43:34.268623Z",
     "shell.execute_reply": "2021-03-10T10:43:34.269053Z"
    }
   },
   "outputs": [],
   "source": [
    "doses = dataJson[0]['dataValues'][3:61]"
   ]
  },
  {
   "cell_type": "markdown",
   "metadata": {},
   "source": [
    "Data formatting"
   ]
  },
  {
   "cell_type": "code",
   "execution_count": 8,
   "metadata": {
    "execution": {
     "iopub.execute_input": "2021-03-10T10:43:34.273211Z",
     "iopub.status.busy": "2021-03-10T10:43:34.272077Z",
     "iopub.status.idle": "2021-03-10T10:43:34.273796Z",
     "shell.execute_reply": "2021-03-10T10:43:34.274218Z"
    }
   },
   "outputs": [],
   "source": [
    "zipped = dict(zip(counties, doses))"
   ]
  },
  {
   "cell_type": "code",
   "execution_count": 9,
   "metadata": {
    "execution": {
     "iopub.execute_input": "2021-03-10T10:43:34.280563Z",
     "iopub.status.busy": "2021-03-10T10:43:34.279421Z",
     "iopub.status.idle": "2021-03-10T10:43:34.281152Z",
     "shell.execute_reply": "2021-03-10T10:43:34.281577Z"
    }
   },
   "outputs": [],
   "source": [
    "df = pd.Series(zipped).reset_index()"
   ]
  },
  {
   "cell_type": "code",
   "execution_count": 10,
   "metadata": {
    "execution": {
     "iopub.execute_input": "2021-03-10T10:43:34.285985Z",
     "iopub.status.busy": "2021-03-10T10:43:34.284808Z",
     "iopub.status.idle": "2021-03-10T10:43:34.286577Z",
     "shell.execute_reply": "2021-03-10T10:43:34.287001Z"
    }
   },
   "outputs": [],
   "source": [
    "df.columns = ['location','doses']"
   ]
  },
  {
   "cell_type": "markdown",
   "metadata": {},
   "source": [
    "Grab the overall California total"
   ]
  },
  {
   "cell_type": "code",
   "execution_count": 11,
   "metadata": {
    "execution": {
     "iopub.execute_input": "2021-03-10T10:43:34.291463Z",
     "iopub.status.busy": "2021-03-10T10:43:34.290165Z",
     "iopub.status.idle": "2021-03-10T10:43:34.292045Z",
     "shell.execute_reply": "2021-03-10T10:43:34.292494Z"
    }
   },
   "outputs": [],
   "source": [
    "add = {'location':'California','doses':dataJson[0]['dataValues'][2]}"
   ]
  },
  {
   "cell_type": "code",
   "execution_count": 12,
   "metadata": {
    "execution": {
     "iopub.execute_input": "2021-03-10T10:43:34.299564Z",
     "iopub.status.busy": "2021-03-10T10:43:34.298358Z",
     "iopub.status.idle": "2021-03-10T10:43:34.300175Z",
     "shell.execute_reply": "2021-03-10T10:43:34.300609Z"
    }
   },
   "outputs": [],
   "source": [
    "df = df.append(add, ignore_index=True)"
   ]
  },
  {
   "cell_type": "code",
   "execution_count": 13,
   "metadata": {
    "execution": {
     "iopub.execute_input": "2021-03-10T10:43:34.305430Z",
     "iopub.status.busy": "2021-03-10T10:43:34.304218Z",
     "iopub.status.idle": "2021-03-10T10:43:34.306120Z",
     "shell.execute_reply": "2021-03-10T10:43:34.306568Z"
    }
   },
   "outputs": [],
   "source": [
    "df = df.sort_values(by='location')"
   ]
  },
  {
   "cell_type": "code",
   "execution_count": 14,
   "metadata": {
    "execution": {
     "iopub.execute_input": "2021-03-10T10:43:34.312810Z",
     "iopub.status.busy": "2021-03-10T10:43:34.311677Z",
     "iopub.status.idle": "2021-03-10T10:43:34.313410Z",
     "shell.execute_reply": "2021-03-10T10:43:34.313834Z"
    }
   },
   "outputs": [],
   "source": [
    "df = df[df.location == 'California'].append(df[df.location != 'California']).reset_index(drop=True)"
   ]
  },
  {
   "cell_type": "code",
   "execution_count": null,
   "metadata": {},
   "outputs": [],
   "source": []
  },
  {
   "cell_type": "code",
   "execution_count": 15,
   "metadata": {
    "execution": {
     "iopub.execute_input": "2021-03-10T10:43:34.317098Z",
     "iopub.status.busy": "2021-03-10T10:43:34.316589Z",
     "iopub.status.idle": "2021-03-10T10:43:34.333433Z",
     "shell.execute_reply": "2021-03-10T10:43:34.333886Z"
    }
   },
   "outputs": [],
   "source": [
    "tz = pytz.timezone(\"America/New_York\")"
   ]
  },
  {
   "cell_type": "code",
   "execution_count": 16,
   "metadata": {
    "execution": {
     "iopub.execute_input": "2021-03-10T10:43:34.338234Z",
     "iopub.status.busy": "2021-03-10T10:43:34.336822Z",
     "iopub.status.idle": "2021-03-10T10:43:34.338846Z",
     "shell.execute_reply": "2021-03-10T10:43:34.339293Z"
    }
   },
   "outputs": [],
   "source": [
    "today = datetime.now(tz).date()"
   ]
  },
  {
   "cell_type": "code",
   "execution_count": 17,
   "metadata": {
    "execution": {
     "iopub.execute_input": "2021-03-10T10:43:34.343634Z",
     "iopub.status.busy": "2021-03-10T10:43:34.342369Z",
     "iopub.status.idle": "2021-03-10T10:43:34.344251Z",
     "shell.execute_reply": "2021-03-10T10:43:34.344684Z"
    }
   },
   "outputs": [],
   "source": [
    "data_dir = os.path.join(os.path.abspath(\"\"), \"data\")"
   ]
  },
  {
   "cell_type": "code",
   "execution_count": 18,
   "metadata": {
    "execution": {
     "iopub.execute_input": "2021-03-10T10:43:34.348975Z",
     "iopub.status.busy": "2021-03-10T10:43:34.347714Z",
     "iopub.status.idle": "2021-03-10T10:43:34.352297Z",
     "shell.execute_reply": "2021-03-10T10:43:34.351738Z"
    }
   },
   "outputs": [],
   "source": [
    "df.to_csv(os.path.join(data_dir, f\"{today}.csv\"), index=False)"
   ]
  },
  {
   "cell_type": "code",
   "execution_count": null,
   "metadata": {},
   "outputs": [],
   "source": []
  }
 ],
 "metadata": {
  "kernelspec": {
   "display_name": "Python 3",
   "language": "python",
   "name": "python3"
  },
  "language_info": {
   "codemirror_mode": {
    "name": "ipython",
    "version": 3
   },
   "file_extension": ".py",
   "mimetype": "text/x-python",
   "name": "python",
   "nbconvert_exporter": "python",
   "pygments_lexer": "ipython3",
   "version": "3.8.8"
  }
 },
 "nbformat": 4,
 "nbformat_minor": 4
}
