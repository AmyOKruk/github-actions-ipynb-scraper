{
 "cells": [
  {
   "cell_type": "markdown",
   "metadata": {},
   "source": [
    "# California COVID vaccinations scrape"
   ]
  },
  {
   "cell_type": "markdown",
   "metadata": {},
   "source": [
    "By [Amy O'Kruk](https://twitter.com/amyokruk)"
   ]
  },
  {
   "cell_type": "markdown",
   "metadata": {},
   "source": [
    "Downloads data on vaccine doses administered by county and statewide from a Tableau-powered dashboard from the California Department of Public Health."
   ]
  },
  {
   "cell_type": "code",
   "execution_count": 1,
   "metadata": {
    "execution": {
     "iopub.execute_input": "2021-03-20T15:17:49.871399Z",
     "iopub.status.busy": "2021-03-20T15:17:49.870703Z",
     "iopub.status.idle": "2021-03-20T15:17:50.271658Z",
     "shell.execute_reply": "2021-03-20T15:17:50.272077Z"
    }
   },
   "outputs": [],
   "source": [
    "import pandas as pd\n",
    "import requests\n",
    "from bs4 import BeautifulSoup\n",
    "import json\n",
    "import re\n",
    "import time\n",
    "from time import gmtime, strftime \n",
    "import os\n",
    "import pytz\n",
    "from datetime import datetime"
   ]
  },
  {
   "cell_type": "markdown",
   "metadata": {},
   "source": [
    "Scrape the dashboard page"
   ]
  },
  {
   "cell_type": "code",
   "execution_count": 2,
   "metadata": {
    "execution": {
     "iopub.execute_input": "2021-03-20T15:17:50.278873Z",
     "iopub.status.busy": "2021-03-20T15:17:50.276210Z",
     "iopub.status.idle": "2021-03-20T15:17:50.615518Z",
     "shell.execute_reply": "2021-03-20T15:17:50.615990Z"
    }
   },
   "outputs": [],
   "source": [
    "url = \"https://public.tableau.com/interactive/views/COVID-19VaccineDashboardPublic/Vaccine?:embed=y&:showVizHome=n&:apiID=host0\"\n",
    "\n",
    "r = requests.get(url)\n",
    "soup = BeautifulSoup(r.text, \"html.parser\")"
   ]
  },
  {
   "cell_type": "code",
   "execution_count": 3,
   "metadata": {
    "execution": {
     "iopub.execute_input": "2021-03-20T15:17:50.622193Z",
     "iopub.status.busy": "2021-03-20T15:17:50.620588Z",
     "iopub.status.idle": "2021-03-20T15:17:50.622889Z",
     "shell.execute_reply": "2021-03-20T15:17:50.623314Z"
    }
   },
   "outputs": [],
   "source": [
    "tableauData = json.loads(soup.find(\"textarea\",{\"id\": \"tsConfigContainer\"}).text)"
   ]
  },
  {
   "cell_type": "markdown",
   "metadata": {},
   "source": [
    "Get the link to the Tableau data"
   ]
  },
  {
   "cell_type": "code",
   "execution_count": 4,
   "metadata": {
    "execution": {
     "iopub.execute_input": "2021-03-20T15:17:50.627793Z",
     "iopub.status.busy": "2021-03-20T15:17:50.626420Z",
     "iopub.status.idle": "2021-03-20T15:17:50.628361Z",
     "shell.execute_reply": "2021-03-20T15:17:50.628786Z"
    }
   },
   "outputs": [],
   "source": [
    "dataUrl = f'https://public.tableau.com{tableauData[\"vizql_root\"]}/bootstrapSession/sessions/{tableauData[\"sessionid\"]}'"
   ]
  },
  {
   "cell_type": "code",
   "execution_count": 5,
   "metadata": {
    "execution": {
     "iopub.execute_input": "2021-03-20T15:17:50.636111Z",
     "iopub.status.busy": "2021-03-20T15:17:50.635550Z",
     "iopub.status.idle": "2021-03-20T15:17:50.960428Z",
     "shell.execute_reply": "2021-03-20T15:17:50.959961Z"
    }
   },
   "outputs": [],
   "source": [
    "r = requests.post(dataUrl, data= {\n",
    "    \"sheet_id\": tableauData[\"sheetId\"],\n",
    "})\n",
    "\n",
    "dataReg = re.search('\\d+;({.*})\\d+;({.*})', r.text, re.MULTILINE)\n",
    "data1 = json.loads(dataReg.group(2))\n",
    "\n",
    "dataJson = data1[\"secondaryInfo\"][\"presModelMap\"][\"dataDictionary\"][\"presModelHolder\"][\"genDataDictionaryPresModel\"][\"dataSegments\"][\"0\"][\"dataColumns\"]"
   ]
  },
  {
   "cell_type": "markdown",
   "metadata": {},
   "source": [
    "Isolate what you want"
   ]
  },
  {
   "cell_type": "code",
   "execution_count": 6,
   "metadata": {
    "execution": {
     "iopub.execute_input": "2021-03-20T15:17:50.965427Z",
     "iopub.status.busy": "2021-03-20T15:17:50.964096Z",
     "iopub.status.idle": "2021-03-20T15:17:50.966083Z",
     "shell.execute_reply": "2021-03-20T15:17:50.966517Z"
    }
   },
   "outputs": [],
   "source": [
    "counties = dataJson[2]['dataValues'][:58]"
   ]
  },
  {
   "cell_type": "code",
   "execution_count": 7,
   "metadata": {
    "execution": {
     "iopub.execute_input": "2021-03-20T15:17:50.971024Z",
     "iopub.status.busy": "2021-03-20T15:17:50.969942Z",
     "iopub.status.idle": "2021-03-20T15:17:50.971955Z",
     "shell.execute_reply": "2021-03-20T15:17:50.972360Z"
    }
   },
   "outputs": [],
   "source": [
    "doses = dataJson[0]['dataValues'][3:61]"
   ]
  },
  {
   "cell_type": "markdown",
   "metadata": {},
   "source": [
    "Data formatting"
   ]
  },
  {
   "cell_type": "code",
   "execution_count": 8,
   "metadata": {
    "execution": {
     "iopub.execute_input": "2021-03-20T15:17:50.976672Z",
     "iopub.status.busy": "2021-03-20T15:17:50.975693Z",
     "iopub.status.idle": "2021-03-20T15:17:50.978330Z",
     "shell.execute_reply": "2021-03-20T15:17:50.977798Z"
    }
   },
   "outputs": [],
   "source": [
    "zipped = dict(zip(counties, doses))"
   ]
  },
  {
   "cell_type": "code",
   "execution_count": 9,
   "metadata": {
    "execution": {
     "iopub.execute_input": "2021-03-20T15:17:50.985082Z",
     "iopub.status.busy": "2021-03-20T15:17:50.984122Z",
     "iopub.status.idle": "2021-03-20T15:17:50.986153Z",
     "shell.execute_reply": "2021-03-20T15:17:50.986596Z"
    }
   },
   "outputs": [],
   "source": [
    "df = pd.Series(zipped).reset_index()"
   ]
  },
  {
   "cell_type": "code",
   "execution_count": 10,
   "metadata": {
    "execution": {
     "iopub.execute_input": "2021-03-20T15:17:50.990650Z",
     "iopub.status.busy": "2021-03-20T15:17:50.989656Z",
     "iopub.status.idle": "2021-03-20T15:17:50.991587Z",
     "shell.execute_reply": "2021-03-20T15:17:50.991988Z"
    }
   },
   "outputs": [],
   "source": [
    "df.columns = ['location','doses']"
   ]
  },
  {
   "cell_type": "markdown",
   "metadata": {},
   "source": [
    "Grab the overall California total"
   ]
  },
  {
   "cell_type": "code",
   "execution_count": 11,
   "metadata": {
    "execution": {
     "iopub.execute_input": "2021-03-20T15:17:50.996859Z",
     "iopub.status.busy": "2021-03-20T15:17:50.995427Z",
     "iopub.status.idle": "2021-03-20T15:17:50.997448Z",
     "shell.execute_reply": "2021-03-20T15:17:50.997882Z"
    }
   },
   "outputs": [],
   "source": [
    "add = {'location':'California','doses':dataJson[0]['dataValues'][2]}"
   ]
  },
  {
   "cell_type": "code",
   "execution_count": 12,
   "metadata": {
    "execution": {
     "iopub.execute_input": "2021-03-20T15:17:51.004979Z",
     "iopub.status.busy": "2021-03-20T15:17:51.004054Z",
     "iopub.status.idle": "2021-03-20T15:17:51.005936Z",
     "shell.execute_reply": "2021-03-20T15:17:51.006427Z"
    }
   },
   "outputs": [],
   "source": [
    "df = df.append(add, ignore_index=True)"
   ]
  },
  {
   "cell_type": "code",
   "execution_count": 13,
   "metadata": {
    "execution": {
     "iopub.execute_input": "2021-03-20T15:17:51.012434Z",
     "iopub.status.busy": "2021-03-20T15:17:51.010913Z",
     "iopub.status.idle": "2021-03-20T15:17:51.013021Z",
     "shell.execute_reply": "2021-03-20T15:17:51.013432Z"
    }
   },
   "outputs": [],
   "source": [
    "df = df.sort_values(by='location')"
   ]
  },
  {
   "cell_type": "code",
   "execution_count": 14,
   "metadata": {
    "execution": {
     "iopub.execute_input": "2021-03-20T15:17:51.020056Z",
     "iopub.status.busy": "2021-03-20T15:17:51.018919Z",
     "iopub.status.idle": "2021-03-20T15:17:51.020964Z",
     "shell.execute_reply": "2021-03-20T15:17:51.021422Z"
    }
   },
   "outputs": [],
   "source": [
    "df = df[df.location == 'California'].append(df[df.location != 'California']).reset_index(drop=True)"
   ]
  },
  {
   "cell_type": "code",
   "execution_count": null,
   "metadata": {},
   "outputs": [],
   "source": []
  },
  {
   "cell_type": "code",
   "execution_count": 15,
   "metadata": {
    "execution": {
     "iopub.execute_input": "2021-03-20T15:17:51.025711Z",
     "iopub.status.busy": "2021-03-20T15:17:51.025091Z",
     "iopub.status.idle": "2021-03-20T15:17:51.044414Z",
     "shell.execute_reply": "2021-03-20T15:17:51.044811Z"
    }
   },
   "outputs": [],
   "source": [
    "tz = pytz.timezone(\"America/New_York\")"
   ]
  },
  {
   "cell_type": "code",
   "execution_count": 16,
   "metadata": {
    "execution": {
     "iopub.execute_input": "2021-03-20T15:17:51.049669Z",
     "iopub.status.busy": "2021-03-20T15:17:51.048316Z",
     "iopub.status.idle": "2021-03-20T15:17:51.050413Z",
     "shell.execute_reply": "2021-03-20T15:17:51.050974Z"
    }
   },
   "outputs": [],
   "source": [
    "today = datetime.now(tz).date()"
   ]
  },
  {
   "cell_type": "code",
   "execution_count": 17,
   "metadata": {
    "execution": {
     "iopub.execute_input": "2021-03-20T15:17:51.055327Z",
     "iopub.status.busy": "2021-03-20T15:17:51.054092Z",
     "iopub.status.idle": "2021-03-20T15:17:51.057695Z",
     "shell.execute_reply": "2021-03-20T15:17:51.057042Z"
    }
   },
   "outputs": [],
   "source": [
    "data_dir = os.path.join(os.path.abspath(\"\"), \"data\")"
   ]
  },
  {
   "cell_type": "code",
   "execution_count": 18,
   "metadata": {
    "execution": {
     "iopub.execute_input": "2021-03-20T15:17:51.062203Z",
     "iopub.status.busy": "2021-03-20T15:17:51.060985Z",
     "iopub.status.idle": "2021-03-20T15:17:51.065918Z",
     "shell.execute_reply": "2021-03-20T15:17:51.065477Z"
    }
   },
   "outputs": [],
   "source": [
    "df.to_csv(os.path.join(data_dir, f\"{today}.csv\"), index=False)"
   ]
  },
  {
   "cell_type": "code",
   "execution_count": null,
   "metadata": {},
   "outputs": [],
   "source": []
  }
 ],
 "metadata": {
  "kernelspec": {
   "display_name": "Python 3",
   "language": "python",
   "name": "python3"
  },
  "language_info": {
   "codemirror_mode": {
    "name": "ipython",
    "version": 3
   },
   "file_extension": ".py",
   "mimetype": "text/x-python",
   "name": "python",
   "nbconvert_exporter": "python",
   "pygments_lexer": "ipython3",
   "version": "3.8.8"
  }
 },
 "nbformat": 4,
 "nbformat_minor": 4
}
