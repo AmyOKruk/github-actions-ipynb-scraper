{
 "cells": [
  {
   "cell_type": "markdown",
   "metadata": {},
   "source": [
    "# California COVID vaccinations scrape"
   ]
  },
  {
   "cell_type": "markdown",
   "metadata": {},
   "source": [
    "By [Amy O'Kruk](https://twitter.com/amyokruk)"
   ]
  },
  {
   "cell_type": "markdown",
   "metadata": {},
   "source": [
    "Downloads data on vaccine doses administered by county and statewide from a Tableau-powered dashboard from the California Department of Public Health."
   ]
  },
  {
   "cell_type": "code",
   "execution_count": 1,
   "metadata": {
    "execution": {
     "iopub.execute_input": "2021-03-14T19:09:41.422283Z",
     "iopub.status.busy": "2021-03-14T19:09:41.421850Z",
     "iopub.status.idle": "2021-03-14T19:09:41.754610Z",
     "shell.execute_reply": "2021-03-14T19:09:41.753680Z"
    }
   },
   "outputs": [],
   "source": [
    "import pandas as pd\n",
    "import requests\n",
    "from bs4 import BeautifulSoup\n",
    "import json\n",
    "import re\n",
    "import time\n",
    "from time import gmtime, strftime \n",
    "import os\n",
    "import pytz\n",
    "from datetime import datetime"
   ]
  },
  {
   "cell_type": "markdown",
   "metadata": {},
   "source": [
    "Scrape the dashboard page"
   ]
  },
  {
   "cell_type": "code",
   "execution_count": 2,
   "metadata": {
    "execution": {
     "iopub.execute_input": "2021-03-14T19:09:41.760161Z",
     "iopub.status.busy": "2021-03-14T19:09:41.759725Z",
     "iopub.status.idle": "2021-03-14T19:09:42.311435Z",
     "shell.execute_reply": "2021-03-14T19:09:42.311935Z"
    }
   },
   "outputs": [],
   "source": [
    "url = \"https://public.tableau.com/interactive/views/COVID-19VaccineDashboardPublic/Vaccine?:embed=y&:showVizHome=n&:apiID=host0\"\n",
    "\n",
    "r = requests.get(url)\n",
    "soup = BeautifulSoup(r.text, \"html.parser\")"
   ]
  },
  {
   "cell_type": "code",
   "execution_count": 3,
   "metadata": {
    "execution": {
     "iopub.execute_input": "2021-03-14T19:09:42.315920Z",
     "iopub.status.busy": "2021-03-14T19:09:42.315495Z",
     "iopub.status.idle": "2021-03-14T19:09:42.319275Z",
     "shell.execute_reply": "2021-03-14T19:09:42.318901Z"
    }
   },
   "outputs": [],
   "source": [
    "tableauData = json.loads(soup.find(\"textarea\",{\"id\": \"tsConfigContainer\"}).text)"
   ]
  },
  {
   "cell_type": "markdown",
   "metadata": {},
   "source": [
    "Get the link to the Tableau data"
   ]
  },
  {
   "cell_type": "code",
   "execution_count": 4,
   "metadata": {
    "execution": {
     "iopub.execute_input": "2021-03-14T19:09:42.322004Z",
     "iopub.status.busy": "2021-03-14T19:09:42.321643Z",
     "iopub.status.idle": "2021-03-14T19:09:42.324953Z",
     "shell.execute_reply": "2021-03-14T19:09:42.324651Z"
    }
   },
   "outputs": [],
   "source": [
    "dataUrl = f'https://public.tableau.com{tableauData[\"vizql_root\"]}/bootstrapSession/sessions/{tableauData[\"sessionid\"]}'"
   ]
  },
  {
   "cell_type": "code",
   "execution_count": 5,
   "metadata": {
    "execution": {
     "iopub.execute_input": "2021-03-14T19:09:42.329350Z",
     "iopub.status.busy": "2021-03-14T19:09:42.328969Z",
     "iopub.status.idle": "2021-03-14T19:09:42.503192Z",
     "shell.execute_reply": "2021-03-14T19:09:42.502333Z"
    }
   },
   "outputs": [],
   "source": [
    "r = requests.post(dataUrl, data= {\n",
    "    \"sheet_id\": tableauData[\"sheetId\"],\n",
    "})\n",
    "\n",
    "dataReg = re.search('\\d+;({.*})\\d+;({.*})', r.text, re.MULTILINE)\n",
    "data1 = json.loads(dataReg.group(2))\n",
    "\n",
    "dataJson = data1[\"secondaryInfo\"][\"presModelMap\"][\"dataDictionary\"][\"presModelHolder\"][\"genDataDictionaryPresModel\"][\"dataSegments\"][\"0\"][\"dataColumns\"]"
   ]
  },
  {
   "cell_type": "markdown",
   "metadata": {},
   "source": [
    "Isolate what you want"
   ]
  },
  {
   "cell_type": "code",
   "execution_count": 6,
   "metadata": {
    "execution": {
     "iopub.execute_input": "2021-03-14T19:09:42.507539Z",
     "iopub.status.busy": "2021-03-14T19:09:42.506420Z",
     "iopub.status.idle": "2021-03-14T19:09:42.508091Z",
     "shell.execute_reply": "2021-03-14T19:09:42.508479Z"
    }
   },
   "outputs": [],
   "source": [
    "counties = dataJson[2]['dataValues'][:58]"
   ]
  },
  {
   "cell_type": "code",
   "execution_count": 7,
   "metadata": {
    "execution": {
     "iopub.execute_input": "2021-03-14T19:09:42.512114Z",
     "iopub.status.busy": "2021-03-14T19:09:42.511373Z",
     "iopub.status.idle": "2021-03-14T19:09:42.512909Z",
     "shell.execute_reply": "2021-03-14T19:09:42.513236Z"
    }
   },
   "outputs": [],
   "source": [
    "doses = dataJson[0]['dataValues'][3:61]"
   ]
  },
  {
   "cell_type": "markdown",
   "metadata": {},
   "source": [
    "Data formatting"
   ]
  },
  {
   "cell_type": "code",
   "execution_count": 8,
   "metadata": {
    "execution": {
     "iopub.execute_input": "2021-03-14T19:09:42.516368Z",
     "iopub.status.busy": "2021-03-14T19:09:42.515638Z",
     "iopub.status.idle": "2021-03-14T19:09:42.517462Z",
     "shell.execute_reply": "2021-03-14T19:09:42.517095Z"
    }
   },
   "outputs": [],
   "source": [
    "zipped = dict(zip(counties, doses))"
   ]
  },
  {
   "cell_type": "code",
   "execution_count": 9,
   "metadata": {
    "execution": {
     "iopub.execute_input": "2021-03-14T19:09:42.522788Z",
     "iopub.status.busy": "2021-03-14T19:09:42.522010Z",
     "iopub.status.idle": "2021-03-14T19:09:42.523950Z",
     "shell.execute_reply": "2021-03-14T19:09:42.523554Z"
    }
   },
   "outputs": [],
   "source": [
    "df = pd.Series(zipped).reset_index()"
   ]
  },
  {
   "cell_type": "code",
   "execution_count": 10,
   "metadata": {
    "execution": {
     "iopub.execute_input": "2021-03-14T19:09:42.527971Z",
     "iopub.status.busy": "2021-03-14T19:09:42.526851Z",
     "iopub.status.idle": "2021-03-14T19:09:42.528536Z",
     "shell.execute_reply": "2021-03-14T19:09:42.528920Z"
    }
   },
   "outputs": [],
   "source": [
    "df.columns = ['location','doses']"
   ]
  },
  {
   "cell_type": "markdown",
   "metadata": {},
   "source": [
    "Grab the overall California total"
   ]
  },
  {
   "cell_type": "code",
   "execution_count": 11,
   "metadata": {
    "execution": {
     "iopub.execute_input": "2021-03-14T19:09:42.531884Z",
     "iopub.status.busy": "2021-03-14T19:09:42.531520Z",
     "iopub.status.idle": "2021-03-14T19:09:42.533026Z",
     "shell.execute_reply": "2021-03-14T19:09:42.533349Z"
    }
   },
   "outputs": [],
   "source": [
    "add = {'location':'California','doses':dataJson[0]['dataValues'][2]}"
   ]
  },
  {
   "cell_type": "code",
   "execution_count": 12,
   "metadata": {
    "execution": {
     "iopub.execute_input": "2021-03-14T19:09:42.539242Z",
     "iopub.status.busy": "2021-03-14T19:09:42.538368Z",
     "iopub.status.idle": "2021-03-14T19:09:42.540083Z",
     "shell.execute_reply": "2021-03-14T19:09:42.540460Z"
    }
   },
   "outputs": [],
   "source": [
    "df = df.append(add, ignore_index=True)"
   ]
  },
  {
   "cell_type": "code",
   "execution_count": 13,
   "metadata": {
    "execution": {
     "iopub.execute_input": "2021-03-14T19:09:42.544405Z",
     "iopub.status.busy": "2021-03-14T19:09:42.543669Z",
     "iopub.status.idle": "2021-03-14T19:09:42.545563Z",
     "shell.execute_reply": "2021-03-14T19:09:42.545141Z"
    }
   },
   "outputs": [],
   "source": [
    "df = df.sort_values(by='location')"
   ]
  },
  {
   "cell_type": "code",
   "execution_count": 14,
   "metadata": {
    "execution": {
     "iopub.execute_input": "2021-03-14T19:09:42.550482Z",
     "iopub.status.busy": "2021-03-14T19:09:42.550002Z",
     "iopub.status.idle": "2021-03-14T19:09:42.551959Z",
     "shell.execute_reply": "2021-03-14T19:09:42.552293Z"
    }
   },
   "outputs": [],
   "source": [
    "df = df[df.location == 'California'].append(df[df.location != 'California']).reset_index(drop=True)"
   ]
  },
  {
   "cell_type": "code",
   "execution_count": null,
   "metadata": {},
   "outputs": [],
   "source": []
  },
  {
   "cell_type": "code",
   "execution_count": 15,
   "metadata": {
    "execution": {
     "iopub.execute_input": "2021-03-14T19:09:42.555318Z",
     "iopub.status.busy": "2021-03-14T19:09:42.554843Z",
     "iopub.status.idle": "2021-03-14T19:09:42.568450Z",
     "shell.execute_reply": "2021-03-14T19:09:42.567993Z"
    }
   },
   "outputs": [],
   "source": [
    "tz = pytz.timezone(\"America/New_York\")"
   ]
  },
  {
   "cell_type": "code",
   "execution_count": 16,
   "metadata": {
    "execution": {
     "iopub.execute_input": "2021-03-14T19:09:42.572131Z",
     "iopub.status.busy": "2021-03-14T19:09:42.571076Z",
     "iopub.status.idle": "2021-03-14T19:09:42.572761Z",
     "shell.execute_reply": "2021-03-14T19:09:42.573108Z"
    }
   },
   "outputs": [],
   "source": [
    "today = datetime.now(tz).date()"
   ]
  },
  {
   "cell_type": "code",
   "execution_count": 17,
   "metadata": {
    "execution": {
     "iopub.execute_input": "2021-03-14T19:09:42.576980Z",
     "iopub.status.busy": "2021-03-14T19:09:42.575992Z",
     "iopub.status.idle": "2021-03-14T19:09:42.577498Z",
     "shell.execute_reply": "2021-03-14T19:09:42.577891Z"
    }
   },
   "outputs": [],
   "source": [
    "data_dir = os.path.join(os.path.abspath(\"\"), \"data\")"
   ]
  },
  {
   "cell_type": "code",
   "execution_count": 18,
   "metadata": {
    "execution": {
     "iopub.execute_input": "2021-03-14T19:09:42.581379Z",
     "iopub.status.busy": "2021-03-14T19:09:42.580483Z",
     "iopub.status.idle": "2021-03-14T19:09:42.584605Z",
     "shell.execute_reply": "2021-03-14T19:09:42.584163Z"
    }
   },
   "outputs": [],
   "source": [
    "df.to_csv(os.path.join(data_dir, f\"{today}.csv\"), index=False)"
   ]
  },
  {
   "cell_type": "code",
   "execution_count": null,
   "metadata": {},
   "outputs": [],
   "source": []
  }
 ],
 "metadata": {
  "kernelspec": {
   "display_name": "Python 3",
   "language": "python",
   "name": "python3"
  },
  "language_info": {
   "codemirror_mode": {
    "name": "ipython",
    "version": 3
   },
   "file_extension": ".py",
   "mimetype": "text/x-python",
   "name": "python",
   "nbconvert_exporter": "python",
   "pygments_lexer": "ipython3",
   "version": "3.8.8"
  }
 },
 "nbformat": 4,
 "nbformat_minor": 4
}
