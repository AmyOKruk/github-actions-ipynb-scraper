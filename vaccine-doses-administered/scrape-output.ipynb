{
 "cells": [
  {
   "cell_type": "markdown",
   "metadata": {},
   "source": [
    "# California COVID vaccinations scrape"
   ]
  },
  {
   "cell_type": "markdown",
   "metadata": {},
   "source": [
    "By [Amy O'Kruk](https://twitter.com/amyokruk)"
   ]
  },
  {
   "cell_type": "markdown",
   "metadata": {},
   "source": [
    "Downloads data on vaccine doses administered by county and statewide from a Tableau-powered dashboard from the California Department of Public Health."
   ]
  },
  {
   "cell_type": "code",
   "execution_count": 1,
   "metadata": {
    "execution": {
     "iopub.execute_input": "2021-03-17T22:46:41.039203Z",
     "iopub.status.busy": "2021-03-17T22:46:41.038444Z",
     "iopub.status.idle": "2021-03-17T22:46:41.482747Z",
     "shell.execute_reply": "2021-03-17T22:46:41.482154Z"
    }
   },
   "outputs": [],
   "source": [
    "import pandas as pd\n",
    "import requests\n",
    "from bs4 import BeautifulSoup\n",
    "import json\n",
    "import re\n",
    "import time\n",
    "from time import gmtime, strftime \n",
    "import os\n",
    "import pytz\n",
    "from datetime import datetime"
   ]
  },
  {
   "cell_type": "markdown",
   "metadata": {},
   "source": [
    "Scrape the dashboard page"
   ]
  },
  {
   "cell_type": "code",
   "execution_count": 2,
   "metadata": {
    "execution": {
     "iopub.execute_input": "2021-03-17T22:46:41.486242Z",
     "iopub.status.busy": "2021-03-17T22:46:41.484810Z",
     "iopub.status.idle": "2021-03-17T22:46:41.769466Z",
     "shell.execute_reply": "2021-03-17T22:46:41.768898Z"
    }
   },
   "outputs": [],
   "source": [
    "url = \"https://public.tableau.com/interactive/views/COVID-19VaccineDashboardPublic/Vaccine?:embed=y&:showVizHome=n&:apiID=host0\"\n",
    "\n",
    "r = requests.get(url)\n",
    "soup = BeautifulSoup(r.text, \"html.parser\")"
   ]
  },
  {
   "cell_type": "code",
   "execution_count": 3,
   "metadata": {
    "execution": {
     "iopub.execute_input": "2021-03-17T22:46:41.776212Z",
     "iopub.status.busy": "2021-03-17T22:46:41.775001Z",
     "iopub.status.idle": "2021-03-17T22:46:41.777598Z",
     "shell.execute_reply": "2021-03-17T22:46:41.777059Z"
    }
   },
   "outputs": [],
   "source": [
    "tableauData = json.loads(soup.find(\"textarea\",{\"id\": \"tsConfigContainer\"}).text)"
   ]
  },
  {
   "cell_type": "markdown",
   "metadata": {},
   "source": [
    "Get the link to the Tableau data"
   ]
  },
  {
   "cell_type": "code",
   "execution_count": 4,
   "metadata": {
    "execution": {
     "iopub.execute_input": "2021-03-17T22:46:41.782290Z",
     "iopub.status.busy": "2021-03-17T22:46:41.780970Z",
     "iopub.status.idle": "2021-03-17T22:46:41.782953Z",
     "shell.execute_reply": "2021-03-17T22:46:41.783403Z"
    }
   },
   "outputs": [],
   "source": [
    "dataUrl = f'https://public.tableau.com{tableauData[\"vizql_root\"]}/bootstrapSession/sessions/{tableauData[\"sessionid\"]}'"
   ]
  },
  {
   "cell_type": "code",
   "execution_count": 5,
   "metadata": {
    "execution": {
     "iopub.execute_input": "2021-03-17T22:46:41.790889Z",
     "iopub.status.busy": "2021-03-17T22:46:41.790295Z",
     "iopub.status.idle": "2021-03-17T22:46:42.149082Z",
     "shell.execute_reply": "2021-03-17T22:46:42.148539Z"
    }
   },
   "outputs": [],
   "source": [
    "r = requests.post(dataUrl, data= {\n",
    "    \"sheet_id\": tableauData[\"sheetId\"],\n",
    "})\n",
    "\n",
    "dataReg = re.search('\\d+;({.*})\\d+;({.*})', r.text, re.MULTILINE)\n",
    "data1 = json.loads(dataReg.group(2))\n",
    "\n",
    "dataJson = data1[\"secondaryInfo\"][\"presModelMap\"][\"dataDictionary\"][\"presModelHolder\"][\"genDataDictionaryPresModel\"][\"dataSegments\"][\"0\"][\"dataColumns\"]"
   ]
  },
  {
   "cell_type": "markdown",
   "metadata": {},
   "source": [
    "Isolate what you want"
   ]
  },
  {
   "cell_type": "code",
   "execution_count": 6,
   "metadata": {
    "execution": {
     "iopub.execute_input": "2021-03-17T22:46:42.154512Z",
     "iopub.status.busy": "2021-03-17T22:46:42.153152Z",
     "iopub.status.idle": "2021-03-17T22:46:42.159711Z",
     "shell.execute_reply": "2021-03-17T22:46:42.160328Z"
    }
   },
   "outputs": [],
   "source": [
    "counties = dataJson[2]['dataValues'][:58]"
   ]
  },
  {
   "cell_type": "code",
   "execution_count": 7,
   "metadata": {
    "execution": {
     "iopub.execute_input": "2021-03-17T22:46:42.164762Z",
     "iopub.status.busy": "2021-03-17T22:46:42.164134Z",
     "iopub.status.idle": "2021-03-17T22:46:42.165870Z",
     "shell.execute_reply": "2021-03-17T22:46:42.166274Z"
    }
   },
   "outputs": [],
   "source": [
    "doses = dataJson[0]['dataValues'][3:61]"
   ]
  },
  {
   "cell_type": "markdown",
   "metadata": {},
   "source": [
    "Data formatting"
   ]
  },
  {
   "cell_type": "code",
   "execution_count": 8,
   "metadata": {
    "execution": {
     "iopub.execute_input": "2021-03-17T22:46:42.171494Z",
     "iopub.status.busy": "2021-03-17T22:46:42.169845Z",
     "iopub.status.idle": "2021-03-17T22:46:42.172104Z",
     "shell.execute_reply": "2021-03-17T22:46:42.172540Z"
    }
   },
   "outputs": [],
   "source": [
    "zipped = dict(zip(counties, doses))"
   ]
  },
  {
   "cell_type": "code",
   "execution_count": 9,
   "metadata": {
    "execution": {
     "iopub.execute_input": "2021-03-17T22:46:42.179277Z",
     "iopub.status.busy": "2021-03-17T22:46:42.177906Z",
     "iopub.status.idle": "2021-03-17T22:46:42.179920Z",
     "shell.execute_reply": "2021-03-17T22:46:42.180348Z"
    }
   },
   "outputs": [],
   "source": [
    "df = pd.Series(zipped).reset_index()"
   ]
  },
  {
   "cell_type": "code",
   "execution_count": 10,
   "metadata": {
    "execution": {
     "iopub.execute_input": "2021-03-17T22:46:42.185529Z",
     "iopub.status.busy": "2021-03-17T22:46:42.184174Z",
     "iopub.status.idle": "2021-03-17T22:46:42.186205Z",
     "shell.execute_reply": "2021-03-17T22:46:42.186748Z"
    }
   },
   "outputs": [],
   "source": [
    "df.columns = ['location','doses']"
   ]
  },
  {
   "cell_type": "markdown",
   "metadata": {},
   "source": [
    "Grab the overall California total"
   ]
  },
  {
   "cell_type": "code",
   "execution_count": 11,
   "metadata": {
    "execution": {
     "iopub.execute_input": "2021-03-17T22:46:42.191194Z",
     "iopub.status.busy": "2021-03-17T22:46:42.190072Z",
     "iopub.status.idle": "2021-03-17T22:46:42.192187Z",
     "shell.execute_reply": "2021-03-17T22:46:42.192607Z"
    }
   },
   "outputs": [],
   "source": [
    "add = {'location':'California','doses':dataJson[0]['dataValues'][2]}"
   ]
  },
  {
   "cell_type": "code",
   "execution_count": 12,
   "metadata": {
    "execution": {
     "iopub.execute_input": "2021-03-17T22:46:42.200079Z",
     "iopub.status.busy": "2021-03-17T22:46:42.197617Z",
     "iopub.status.idle": "2021-03-17T22:46:42.206066Z",
     "shell.execute_reply": "2021-03-17T22:46:42.206542Z"
    }
   },
   "outputs": [],
   "source": [
    "df = df.append(add, ignore_index=True)"
   ]
  },
  {
   "cell_type": "code",
   "execution_count": 13,
   "metadata": {
    "execution": {
     "iopub.execute_input": "2021-03-17T22:46:42.212075Z",
     "iopub.status.busy": "2021-03-17T22:46:42.210800Z",
     "iopub.status.idle": "2021-03-17T22:46:42.212669Z",
     "shell.execute_reply": "2021-03-17T22:46:42.213120Z"
    }
   },
   "outputs": [],
   "source": [
    "df = df.sort_values(by='location')"
   ]
  },
  {
   "cell_type": "code",
   "execution_count": 14,
   "metadata": {
    "execution": {
     "iopub.execute_input": "2021-03-17T22:46:42.220178Z",
     "iopub.status.busy": "2021-03-17T22:46:42.218990Z",
     "iopub.status.idle": "2021-03-17T22:46:42.220746Z",
     "shell.execute_reply": "2021-03-17T22:46:42.221202Z"
    }
   },
   "outputs": [],
   "source": [
    "df = df[df.location == 'California'].append(df[df.location != 'California']).reset_index(drop=True)"
   ]
  },
  {
   "cell_type": "code",
   "execution_count": null,
   "metadata": {},
   "outputs": [],
   "source": []
  },
  {
   "cell_type": "code",
   "execution_count": 15,
   "metadata": {
    "execution": {
     "iopub.execute_input": "2021-03-17T22:46:42.224743Z",
     "iopub.status.busy": "2021-03-17T22:46:42.224202Z",
     "iopub.status.idle": "2021-03-17T22:46:42.245372Z",
     "shell.execute_reply": "2021-03-17T22:46:42.244845Z"
    }
   },
   "outputs": [],
   "source": [
    "tz = pytz.timezone(\"America/New_York\")"
   ]
  },
  {
   "cell_type": "code",
   "execution_count": 16,
   "metadata": {
    "execution": {
     "iopub.execute_input": "2021-03-17T22:46:42.251247Z",
     "iopub.status.busy": "2021-03-17T22:46:42.249548Z",
     "iopub.status.idle": "2021-03-17T22:46:42.252174Z",
     "shell.execute_reply": "2021-03-17T22:46:42.253157Z"
    }
   },
   "outputs": [],
   "source": [
    "today = datetime.now(tz).date()"
   ]
  },
  {
   "cell_type": "code",
   "execution_count": 17,
   "metadata": {
    "execution": {
     "iopub.execute_input": "2021-03-17T22:46:42.257971Z",
     "iopub.status.busy": "2021-03-17T22:46:42.256757Z",
     "iopub.status.idle": "2021-03-17T22:46:42.258708Z",
     "shell.execute_reply": "2021-03-17T22:46:42.259158Z"
    }
   },
   "outputs": [],
   "source": [
    "data_dir = os.path.join(os.path.abspath(\"\"), \"data\")"
   ]
  },
  {
   "cell_type": "code",
   "execution_count": 18,
   "metadata": {
    "execution": {
     "iopub.execute_input": "2021-03-17T22:46:42.264351Z",
     "iopub.status.busy": "2021-03-17T22:46:42.262740Z",
     "iopub.status.idle": "2021-03-17T22:46:42.315130Z",
     "shell.execute_reply": "2021-03-17T22:46:42.316667Z"
    }
   },
   "outputs": [],
   "source": [
    "df.to_csv(os.path.join(data_dir, f\"{today}.csv\"), index=False)"
   ]
  },
  {
   "cell_type": "code",
   "execution_count": null,
   "metadata": {},
   "outputs": [],
   "source": []
  }
 ],
 "metadata": {
  "kernelspec": {
   "display_name": "Python 3",
   "language": "python",
   "name": "python3"
  },
  "language_info": {
   "codemirror_mode": {
    "name": "ipython",
    "version": 3
   },
   "file_extension": ".py",
   "mimetype": "text/x-python",
   "name": "python",
   "nbconvert_exporter": "python",
   "pygments_lexer": "ipython3",
   "version": "3.8.8"
  }
 },
 "nbformat": 4,
 "nbformat_minor": 4
}
