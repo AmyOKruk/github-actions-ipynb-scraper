{
 "cells": [
  {
   "cell_type": "markdown",
   "metadata": {},
   "source": [
    "# California COVID vaccinations scrape"
   ]
  },
  {
   "cell_type": "markdown",
   "metadata": {},
   "source": [
    "By [Amy O'Kruk](https://twitter.com/amyokruk)"
   ]
  },
  {
   "cell_type": "markdown",
   "metadata": {},
   "source": [
    "Downloads data on vaccine doses administered by county and statewide from a Tableau-powered dashboard from the California Department of Public Health."
   ]
  },
  {
   "cell_type": "code",
   "execution_count": 1,
   "metadata": {
    "execution": {
     "iopub.execute_input": "2021-03-18T21:41:39.614253Z",
     "iopub.status.busy": "2021-03-18T21:41:39.613662Z",
     "iopub.status.idle": "2021-03-18T21:41:40.089105Z",
     "shell.execute_reply": "2021-03-18T21:41:40.088516Z"
    }
   },
   "outputs": [],
   "source": [
    "import pandas as pd\n",
    "import requests\n",
    "from bs4 import BeautifulSoup\n",
    "import json\n",
    "import re\n",
    "import time\n",
    "from time import gmtime, strftime \n",
    "import os\n",
    "import pytz\n",
    "from datetime import datetime"
   ]
  },
  {
   "cell_type": "markdown",
   "metadata": {},
   "source": [
    "Scrape the dashboard page"
   ]
  },
  {
   "cell_type": "code",
   "execution_count": 2,
   "metadata": {
    "execution": {
     "iopub.execute_input": "2021-03-18T21:41:40.095462Z",
     "iopub.status.busy": "2021-03-18T21:41:40.094900Z",
     "iopub.status.idle": "2021-03-18T21:41:40.418292Z",
     "shell.execute_reply": "2021-03-18T21:41:40.417474Z"
    }
   },
   "outputs": [],
   "source": [
    "url = \"https://public.tableau.com/interactive/views/COVID-19VaccineDashboardPublic/Vaccine?:embed=y&:showVizHome=n&:apiID=host0\"\n",
    "\n",
    "r = requests.get(url)\n",
    "soup = BeautifulSoup(r.text, \"html.parser\")"
   ]
  },
  {
   "cell_type": "code",
   "execution_count": 3,
   "metadata": {
    "execution": {
     "iopub.execute_input": "2021-03-18T21:41:40.423365Z",
     "iopub.status.busy": "2021-03-18T21:41:40.422811Z",
     "iopub.status.idle": "2021-03-18T21:41:40.426237Z",
     "shell.execute_reply": "2021-03-18T21:41:40.425811Z"
    }
   },
   "outputs": [],
   "source": [
    "tableauData = json.loads(soup.find(\"textarea\",{\"id\": \"tsConfigContainer\"}).text)"
   ]
  },
  {
   "cell_type": "markdown",
   "metadata": {},
   "source": [
    "Get the link to the Tableau data"
   ]
  },
  {
   "cell_type": "code",
   "execution_count": 4,
   "metadata": {
    "execution": {
     "iopub.execute_input": "2021-03-18T21:41:40.430578Z",
     "iopub.status.busy": "2021-03-18T21:41:40.429392Z",
     "iopub.status.idle": "2021-03-18T21:41:40.431261Z",
     "shell.execute_reply": "2021-03-18T21:41:40.431688Z"
    }
   },
   "outputs": [],
   "source": [
    "dataUrl = f'https://public.tableau.com{tableauData[\"vizql_root\"]}/bootstrapSession/sessions/{tableauData[\"sessionid\"]}'"
   ]
  },
  {
   "cell_type": "code",
   "execution_count": 5,
   "metadata": {
    "execution": {
     "iopub.execute_input": "2021-03-18T21:41:40.438338Z",
     "iopub.status.busy": "2021-03-18T21:41:40.437809Z",
     "iopub.status.idle": "2021-03-18T21:41:40.919747Z",
     "shell.execute_reply": "2021-03-18T21:41:40.919209Z"
    }
   },
   "outputs": [],
   "source": [
    "r = requests.post(dataUrl, data= {\n",
    "    \"sheet_id\": tableauData[\"sheetId\"],\n",
    "})\n",
    "\n",
    "dataReg = re.search('\\d+;({.*})\\d+;({.*})', r.text, re.MULTILINE)\n",
    "data1 = json.loads(dataReg.group(2))\n",
    "\n",
    "dataJson = data1[\"secondaryInfo\"][\"presModelMap\"][\"dataDictionary\"][\"presModelHolder\"][\"genDataDictionaryPresModel\"][\"dataSegments\"][\"0\"][\"dataColumns\"]"
   ]
  },
  {
   "cell_type": "markdown",
   "metadata": {},
   "source": [
    "Isolate what you want"
   ]
  },
  {
   "cell_type": "code",
   "execution_count": 6,
   "metadata": {
    "execution": {
     "iopub.execute_input": "2021-03-18T21:41:40.924290Z",
     "iopub.status.busy": "2021-03-18T21:41:40.923151Z",
     "iopub.status.idle": "2021-03-18T21:41:40.924871Z",
     "shell.execute_reply": "2021-03-18T21:41:40.925291Z"
    }
   },
   "outputs": [],
   "source": [
    "counties = dataJson[2]['dataValues'][:58]"
   ]
  },
  {
   "cell_type": "code",
   "execution_count": 7,
   "metadata": {
    "execution": {
     "iopub.execute_input": "2021-03-18T21:41:40.929679Z",
     "iopub.status.busy": "2021-03-18T21:41:40.928476Z",
     "iopub.status.idle": "2021-03-18T21:41:40.930282Z",
     "shell.execute_reply": "2021-03-18T21:41:40.930682Z"
    }
   },
   "outputs": [],
   "source": [
    "doses = dataJson[0]['dataValues'][3:61]"
   ]
  },
  {
   "cell_type": "markdown",
   "metadata": {},
   "source": [
    "Data formatting"
   ]
  },
  {
   "cell_type": "code",
   "execution_count": 8,
   "metadata": {
    "execution": {
     "iopub.execute_input": "2021-03-18T21:41:40.934583Z",
     "iopub.status.busy": "2021-03-18T21:41:40.933569Z",
     "iopub.status.idle": "2021-03-18T21:41:40.935201Z",
     "shell.execute_reply": "2021-03-18T21:41:40.935628Z"
    }
   },
   "outputs": [],
   "source": [
    "zipped = dict(zip(counties, doses))"
   ]
  },
  {
   "cell_type": "code",
   "execution_count": 9,
   "metadata": {
    "execution": {
     "iopub.execute_input": "2021-03-18T21:41:40.941377Z",
     "iopub.status.busy": "2021-03-18T21:41:40.940283Z",
     "iopub.status.idle": "2021-03-18T21:41:40.941943Z",
     "shell.execute_reply": "2021-03-18T21:41:40.942357Z"
    }
   },
   "outputs": [],
   "source": [
    "df = pd.Series(zipped).reset_index()"
   ]
  },
  {
   "cell_type": "code",
   "execution_count": 10,
   "metadata": {
    "execution": {
     "iopub.execute_input": "2021-03-18T21:41:40.946715Z",
     "iopub.status.busy": "2021-03-18T21:41:40.945548Z",
     "iopub.status.idle": "2021-03-18T21:41:40.947337Z",
     "shell.execute_reply": "2021-03-18T21:41:40.947760Z"
    }
   },
   "outputs": [],
   "source": [
    "df.columns = ['location','doses']"
   ]
  },
  {
   "cell_type": "markdown",
   "metadata": {},
   "source": [
    "Grab the overall California total"
   ]
  },
  {
   "cell_type": "code",
   "execution_count": 11,
   "metadata": {
    "execution": {
     "iopub.execute_input": "2021-03-18T21:41:40.952052Z",
     "iopub.status.busy": "2021-03-18T21:41:40.950943Z",
     "iopub.status.idle": "2021-03-18T21:41:40.952640Z",
     "shell.execute_reply": "2021-03-18T21:41:40.953060Z"
    }
   },
   "outputs": [],
   "source": [
    "add = {'location':'California','doses':dataJson[0]['dataValues'][2]}"
   ]
  },
  {
   "cell_type": "code",
   "execution_count": 12,
   "metadata": {
    "execution": {
     "iopub.execute_input": "2021-03-18T21:41:40.959807Z",
     "iopub.status.busy": "2021-03-18T21:41:40.958687Z",
     "iopub.status.idle": "2021-03-18T21:41:40.960446Z",
     "shell.execute_reply": "2021-03-18T21:41:40.960872Z"
    }
   },
   "outputs": [],
   "source": [
    "df = df.append(add, ignore_index=True)"
   ]
  },
  {
   "cell_type": "code",
   "execution_count": 13,
   "metadata": {
    "execution": {
     "iopub.execute_input": "2021-03-18T21:41:40.965299Z",
     "iopub.status.busy": "2021-03-18T21:41:40.964448Z",
     "iopub.status.idle": "2021-03-18T21:41:40.966159Z",
     "shell.execute_reply": "2021-03-18T21:41:40.966512Z"
    }
   },
   "outputs": [],
   "source": [
    "df = df.sort_values(by='location')"
   ]
  },
  {
   "cell_type": "code",
   "execution_count": 14,
   "metadata": {
    "execution": {
     "iopub.execute_input": "2021-03-18T21:41:40.971950Z",
     "iopub.status.busy": "2021-03-18T21:41:40.971157Z",
     "iopub.status.idle": "2021-03-18T21:41:40.973143Z",
     "shell.execute_reply": "2021-03-18T21:41:40.972701Z"
    }
   },
   "outputs": [],
   "source": [
    "df = df[df.location == 'California'].append(df[df.location != 'California']).reset_index(drop=True)"
   ]
  },
  {
   "cell_type": "code",
   "execution_count": null,
   "metadata": {},
   "outputs": [],
   "source": []
  },
  {
   "cell_type": "code",
   "execution_count": 15,
   "metadata": {
    "execution": {
     "iopub.execute_input": "2021-03-18T21:41:40.976387Z",
     "iopub.status.busy": "2021-03-18T21:41:40.975851Z",
     "iopub.status.idle": "2021-03-18T21:41:40.992887Z",
     "shell.execute_reply": "2021-03-18T21:41:40.992413Z"
    }
   },
   "outputs": [],
   "source": [
    "tz = pytz.timezone(\"America/New_York\")"
   ]
  },
  {
   "cell_type": "code",
   "execution_count": 16,
   "metadata": {
    "execution": {
     "iopub.execute_input": "2021-03-18T21:41:40.997145Z",
     "iopub.status.busy": "2021-03-18T21:41:40.995944Z",
     "iopub.status.idle": "2021-03-18T21:41:40.997773Z",
     "shell.execute_reply": "2021-03-18T21:41:40.998230Z"
    }
   },
   "outputs": [],
   "source": [
    "today = datetime.now(tz).date()"
   ]
  },
  {
   "cell_type": "code",
   "execution_count": 17,
   "metadata": {
    "execution": {
     "iopub.execute_input": "2021-03-18T21:41:41.002436Z",
     "iopub.status.busy": "2021-03-18T21:41:41.001286Z",
     "iopub.status.idle": "2021-03-18T21:41:41.003047Z",
     "shell.execute_reply": "2021-03-18T21:41:41.003476Z"
    }
   },
   "outputs": [],
   "source": [
    "data_dir = os.path.join(os.path.abspath(\"\"), \"data\")"
   ]
  },
  {
   "cell_type": "code",
   "execution_count": 18,
   "metadata": {
    "execution": {
     "iopub.execute_input": "2021-03-18T21:41:41.007731Z",
     "iopub.status.busy": "2021-03-18T21:41:41.006610Z",
     "iopub.status.idle": "2021-03-18T21:41:41.011040Z",
     "shell.execute_reply": "2021-03-18T21:41:41.010576Z"
    }
   },
   "outputs": [],
   "source": [
    "df.to_csv(os.path.join(data_dir, f\"{today}.csv\"), index=False)"
   ]
  },
  {
   "cell_type": "code",
   "execution_count": null,
   "metadata": {},
   "outputs": [],
   "source": []
  }
 ],
 "metadata": {
  "kernelspec": {
   "display_name": "Python 3",
   "language": "python",
   "name": "python3"
  },
  "language_info": {
   "codemirror_mode": {
    "name": "ipython",
    "version": 3
   },
   "file_extension": ".py",
   "mimetype": "text/x-python",
   "name": "python",
   "nbconvert_exporter": "python",
   "pygments_lexer": "ipython3",
   "version": "3.8.8"
  }
 },
 "nbformat": 4,
 "nbformat_minor": 4
}
