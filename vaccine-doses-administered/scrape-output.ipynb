{
 "cells": [
  {
   "cell_type": "markdown",
   "metadata": {},
   "source": [
    "# California COVID vaccinations scrape"
   ]
  },
  {
   "cell_type": "markdown",
   "metadata": {},
   "source": [
    "By [Amy O'Kruk](https://twitter.com/amyokruk)"
   ]
  },
  {
   "cell_type": "markdown",
   "metadata": {},
   "source": [
    "Downloads data on vaccine doses administered by county and statewide from a Tableau-powered dashboard from the California Department of Public Health."
   ]
  },
  {
   "cell_type": "code",
   "execution_count": 1,
   "metadata": {
    "execution": {
     "iopub.execute_input": "2021-03-19T10:44:24.541911Z",
     "iopub.status.busy": "2021-03-19T10:44:24.541304Z",
     "iopub.status.idle": "2021-03-19T10:44:24.994534Z",
     "shell.execute_reply": "2021-03-19T10:44:24.993939Z"
    }
   },
   "outputs": [],
   "source": [
    "import pandas as pd\n",
    "import requests\n",
    "from bs4 import BeautifulSoup\n",
    "import json\n",
    "import re\n",
    "import time\n",
    "from time import gmtime, strftime \n",
    "import os\n",
    "import pytz\n",
    "from datetime import datetime"
   ]
  },
  {
   "cell_type": "markdown",
   "metadata": {},
   "source": [
    "Scrape the dashboard page"
   ]
  },
  {
   "cell_type": "code",
   "execution_count": 2,
   "metadata": {
    "execution": {
     "iopub.execute_input": "2021-03-19T10:44:25.000479Z",
     "iopub.status.busy": "2021-03-19T10:44:24.998067Z",
     "iopub.status.idle": "2021-03-19T10:44:25.524398Z",
     "shell.execute_reply": "2021-03-19T10:44:25.524837Z"
    }
   },
   "outputs": [],
   "source": [
    "url = \"https://public.tableau.com/interactive/views/COVID-19VaccineDashboardPublic/Vaccine?:embed=y&:showVizHome=n&:apiID=host0\"\n",
    "\n",
    "r = requests.get(url)\n",
    "soup = BeautifulSoup(r.text, \"html.parser\")"
   ]
  },
  {
   "cell_type": "code",
   "execution_count": 3,
   "metadata": {
    "execution": {
     "iopub.execute_input": "2021-03-19T10:44:25.530019Z",
     "iopub.status.busy": "2021-03-19T10:44:25.529490Z",
     "iopub.status.idle": "2021-03-19T10:44:25.532536Z",
     "shell.execute_reply": "2021-03-19T10:44:25.532949Z"
    }
   },
   "outputs": [],
   "source": [
    "tableauData = json.loads(soup.find(\"textarea\",{\"id\": \"tsConfigContainer\"}).text)"
   ]
  },
  {
   "cell_type": "markdown",
   "metadata": {},
   "source": [
    "Get the link to the Tableau data"
   ]
  },
  {
   "cell_type": "code",
   "execution_count": 4,
   "metadata": {
    "execution": {
     "iopub.execute_input": "2021-03-19T10:44:25.537697Z",
     "iopub.status.busy": "2021-03-19T10:44:25.536498Z",
     "iopub.status.idle": "2021-03-19T10:44:25.538360Z",
     "shell.execute_reply": "2021-03-19T10:44:25.538793Z"
    }
   },
   "outputs": [],
   "source": [
    "dataUrl = f'https://public.tableau.com{tableauData[\"vizql_root\"]}/bootstrapSession/sessions/{tableauData[\"sessionid\"]}'"
   ]
  },
  {
   "cell_type": "code",
   "execution_count": 5,
   "metadata": {
    "execution": {
     "iopub.execute_input": "2021-03-19T10:44:25.545459Z",
     "iopub.status.busy": "2021-03-19T10:44:25.544923Z",
     "iopub.status.idle": "2021-03-19T10:44:26.990238Z",
     "shell.execute_reply": "2021-03-19T10:44:26.990681Z"
    }
   },
   "outputs": [],
   "source": [
    "r = requests.post(dataUrl, data= {\n",
    "    \"sheet_id\": tableauData[\"sheetId\"],\n",
    "})\n",
    "\n",
    "dataReg = re.search('\\d+;({.*})\\d+;({.*})', r.text, re.MULTILINE)\n",
    "data1 = json.loads(dataReg.group(2))\n",
    "\n",
    "dataJson = data1[\"secondaryInfo\"][\"presModelMap\"][\"dataDictionary\"][\"presModelHolder\"][\"genDataDictionaryPresModel\"][\"dataSegments\"][\"0\"][\"dataColumns\"]"
   ]
  },
  {
   "cell_type": "markdown",
   "metadata": {},
   "source": [
    "Isolate what you want"
   ]
  },
  {
   "cell_type": "code",
   "execution_count": 6,
   "metadata": {
    "execution": {
     "iopub.execute_input": "2021-03-19T10:44:26.994762Z",
     "iopub.status.busy": "2021-03-19T10:44:26.994226Z",
     "iopub.status.idle": "2021-03-19T10:44:26.997695Z",
     "shell.execute_reply": "2021-03-19T10:44:26.997193Z"
    }
   },
   "outputs": [],
   "source": [
    "counties = dataJson[2]['dataValues'][:58]"
   ]
  },
  {
   "cell_type": "code",
   "execution_count": 7,
   "metadata": {
    "execution": {
     "iopub.execute_input": "2021-03-19T10:44:27.001993Z",
     "iopub.status.busy": "2021-03-19T10:44:27.000887Z",
     "iopub.status.idle": "2021-03-19T10:44:27.002595Z",
     "shell.execute_reply": "2021-03-19T10:44:27.003029Z"
    }
   },
   "outputs": [],
   "source": [
    "doses = dataJson[0]['dataValues'][3:61]"
   ]
  },
  {
   "cell_type": "markdown",
   "metadata": {},
   "source": [
    "Data formatting"
   ]
  },
  {
   "cell_type": "code",
   "execution_count": 8,
   "metadata": {
    "execution": {
     "iopub.execute_input": "2021-03-19T10:44:27.009573Z",
     "iopub.status.busy": "2021-03-19T10:44:27.008967Z",
     "iopub.status.idle": "2021-03-19T10:44:27.010508Z",
     "shell.execute_reply": "2021-03-19T10:44:27.010061Z"
    }
   },
   "outputs": [],
   "source": [
    "zipped = dict(zip(counties, doses))"
   ]
  },
  {
   "cell_type": "code",
   "execution_count": 9,
   "metadata": {
    "execution": {
     "iopub.execute_input": "2021-03-19T10:44:27.016939Z",
     "iopub.status.busy": "2021-03-19T10:44:27.015818Z",
     "iopub.status.idle": "2021-03-19T10:44:27.017537Z",
     "shell.execute_reply": "2021-03-19T10:44:27.017969Z"
    }
   },
   "outputs": [],
   "source": [
    "df = pd.Series(zipped).reset_index()"
   ]
  },
  {
   "cell_type": "code",
   "execution_count": 10,
   "metadata": {
    "execution": {
     "iopub.execute_input": "2021-03-19T10:44:27.022557Z",
     "iopub.status.busy": "2021-03-19T10:44:27.021348Z",
     "iopub.status.idle": "2021-03-19T10:44:27.023155Z",
     "shell.execute_reply": "2021-03-19T10:44:27.023614Z"
    }
   },
   "outputs": [],
   "source": [
    "df.columns = ['location','doses']"
   ]
  },
  {
   "cell_type": "markdown",
   "metadata": {},
   "source": [
    "Grab the overall California total"
   ]
  },
  {
   "cell_type": "code",
   "execution_count": 11,
   "metadata": {
    "execution": {
     "iopub.execute_input": "2021-03-19T10:44:27.027960Z",
     "iopub.status.busy": "2021-03-19T10:44:27.026777Z",
     "iopub.status.idle": "2021-03-19T10:44:27.028564Z",
     "shell.execute_reply": "2021-03-19T10:44:27.028994Z"
    }
   },
   "outputs": [],
   "source": [
    "add = {'location':'California','doses':dataJson[0]['dataValues'][2]}"
   ]
  },
  {
   "cell_type": "code",
   "execution_count": 12,
   "metadata": {
    "execution": {
     "iopub.execute_input": "2021-03-19T10:44:27.036041Z",
     "iopub.status.busy": "2021-03-19T10:44:27.034902Z",
     "iopub.status.idle": "2021-03-19T10:44:27.036751Z",
     "shell.execute_reply": "2021-03-19T10:44:27.037196Z"
    }
   },
   "outputs": [],
   "source": [
    "df = df.append(add, ignore_index=True)"
   ]
  },
  {
   "cell_type": "code",
   "execution_count": 13,
   "metadata": {
    "execution": {
     "iopub.execute_input": "2021-03-19T10:44:27.042249Z",
     "iopub.status.busy": "2021-03-19T10:44:27.041082Z",
     "iopub.status.idle": "2021-03-19T10:44:27.042846Z",
     "shell.execute_reply": "2021-03-19T10:44:27.043299Z"
    }
   },
   "outputs": [],
   "source": [
    "df = df.sort_values(by='location')"
   ]
  },
  {
   "cell_type": "code",
   "execution_count": 14,
   "metadata": {
    "execution": {
     "iopub.execute_input": "2021-03-19T10:44:27.049846Z",
     "iopub.status.busy": "2021-03-19T10:44:27.048653Z",
     "iopub.status.idle": "2021-03-19T10:44:27.050446Z",
     "shell.execute_reply": "2021-03-19T10:44:27.050876Z"
    }
   },
   "outputs": [],
   "source": [
    "df = df[df.location == 'California'].append(df[df.location != 'California']).reset_index(drop=True)"
   ]
  },
  {
   "cell_type": "code",
   "execution_count": null,
   "metadata": {},
   "outputs": [],
   "source": []
  },
  {
   "cell_type": "code",
   "execution_count": 15,
   "metadata": {
    "execution": {
     "iopub.execute_input": "2021-03-19T10:44:27.054276Z",
     "iopub.status.busy": "2021-03-19T10:44:27.053760Z",
     "iopub.status.idle": "2021-03-19T10:44:27.071976Z",
     "shell.execute_reply": "2021-03-19T10:44:27.071437Z"
    }
   },
   "outputs": [],
   "source": [
    "tz = pytz.timezone(\"America/New_York\")"
   ]
  },
  {
   "cell_type": "code",
   "execution_count": 16,
   "metadata": {
    "execution": {
     "iopub.execute_input": "2021-03-19T10:44:27.076499Z",
     "iopub.status.busy": "2021-03-19T10:44:27.075351Z",
     "iopub.status.idle": "2021-03-19T10:44:27.077094Z",
     "shell.execute_reply": "2021-03-19T10:44:27.077529Z"
    }
   },
   "outputs": [],
   "source": [
    "today = datetime.now(tz).date()"
   ]
  },
  {
   "cell_type": "code",
   "execution_count": 17,
   "metadata": {
    "execution": {
     "iopub.execute_input": "2021-03-19T10:44:27.082053Z",
     "iopub.status.busy": "2021-03-19T10:44:27.080921Z",
     "iopub.status.idle": "2021-03-19T10:44:27.082652Z",
     "shell.execute_reply": "2021-03-19T10:44:27.083083Z"
    }
   },
   "outputs": [],
   "source": [
    "data_dir = os.path.join(os.path.abspath(\"\"), \"data\")"
   ]
  },
  {
   "cell_type": "code",
   "execution_count": 18,
   "metadata": {
    "execution": {
     "iopub.execute_input": "2021-03-19T10:44:27.088862Z",
     "iopub.status.busy": "2021-03-19T10:44:27.086396Z",
     "iopub.status.idle": "2021-03-19T10:44:27.091346Z",
     "shell.execute_reply": "2021-03-19T10:44:27.090795Z"
    }
   },
   "outputs": [],
   "source": [
    "df.to_csv(os.path.join(data_dir, f\"{today}.csv\"), index=False)"
   ]
  },
  {
   "cell_type": "code",
   "execution_count": null,
   "metadata": {},
   "outputs": [],
   "source": []
  }
 ],
 "metadata": {
  "kernelspec": {
   "display_name": "Python 3",
   "language": "python",
   "name": "python3"
  },
  "language_info": {
   "codemirror_mode": {
    "name": "ipython",
    "version": 3
   },
   "file_extension": ".py",
   "mimetype": "text/x-python",
   "name": "python",
   "nbconvert_exporter": "python",
   "pygments_lexer": "ipython3",
   "version": "3.8.8"
  }
 },
 "nbformat": 4,
 "nbformat_minor": 4
}
