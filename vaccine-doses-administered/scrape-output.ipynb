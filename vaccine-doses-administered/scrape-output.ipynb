{
 "cells": [
  {
   "cell_type": "markdown",
   "metadata": {},
   "source": [
    "# California COVID vaccinations scrape"
   ]
  },
  {
   "cell_type": "markdown",
   "metadata": {},
   "source": [
    "By [Amy O'Kruk](https://twitter.com/amyokruk)"
   ]
  },
  {
   "cell_type": "markdown",
   "metadata": {},
   "source": [
    "Downloads data on vaccine doses administered by county and statewide from a Tableau-powered dashboard from the California Department of Public Health."
   ]
  },
  {
   "cell_type": "code",
   "execution_count": 1,
   "metadata": {
    "execution": {
     "iopub.execute_input": "2021-03-19T07:11:35.953383Z",
     "iopub.status.busy": "2021-03-19T07:11:35.952198Z",
     "iopub.status.idle": "2021-03-19T07:11:36.318496Z",
     "shell.execute_reply": "2021-03-19T07:11:36.317954Z"
    }
   },
   "outputs": [],
   "source": [
    "import pandas as pd\n",
    "import requests\n",
    "from bs4 import BeautifulSoup\n",
    "import json\n",
    "import re\n",
    "import time\n",
    "from time import gmtime, strftime \n",
    "import os\n",
    "import pytz\n",
    "from datetime import datetime"
   ]
  },
  {
   "cell_type": "markdown",
   "metadata": {},
   "source": [
    "Scrape the dashboard page"
   ]
  },
  {
   "cell_type": "code",
   "execution_count": 2,
   "metadata": {
    "execution": {
     "iopub.execute_input": "2021-03-19T07:11:36.324065Z",
     "iopub.status.busy": "2021-03-19T07:11:36.321758Z",
     "iopub.status.idle": "2021-03-19T07:11:36.930709Z",
     "shell.execute_reply": "2021-03-19T07:11:36.930132Z"
    }
   },
   "outputs": [],
   "source": [
    "url = \"https://public.tableau.com/interactive/views/COVID-19VaccineDashboardPublic/Vaccine?:embed=y&:showVizHome=n&:apiID=host0\"\n",
    "\n",
    "r = requests.get(url)\n",
    "soup = BeautifulSoup(r.text, \"html.parser\")"
   ]
  },
  {
   "cell_type": "code",
   "execution_count": 3,
   "metadata": {
    "execution": {
     "iopub.execute_input": "2021-03-19T07:11:36.935949Z",
     "iopub.status.busy": "2021-03-19T07:11:36.935331Z",
     "iopub.status.idle": "2021-03-19T07:11:36.940998Z",
     "shell.execute_reply": "2021-03-19T07:11:36.940457Z"
    }
   },
   "outputs": [],
   "source": [
    "tableauData = json.loads(soup.find(\"textarea\",{\"id\": \"tsConfigContainer\"}).text)"
   ]
  },
  {
   "cell_type": "markdown",
   "metadata": {},
   "source": [
    "Get the link to the Tableau data"
   ]
  },
  {
   "cell_type": "code",
   "execution_count": 4,
   "metadata": {
    "execution": {
     "iopub.execute_input": "2021-03-19T07:11:36.946466Z",
     "iopub.status.busy": "2021-03-19T07:11:36.944876Z",
     "iopub.status.idle": "2021-03-19T07:11:36.947191Z",
     "shell.execute_reply": "2021-03-19T07:11:36.947722Z"
    }
   },
   "outputs": [],
   "source": [
    "dataUrl = f'https://public.tableau.com{tableauData[\"vizql_root\"]}/bootstrapSession/sessions/{tableauData[\"sessionid\"]}'"
   ]
  },
  {
   "cell_type": "code",
   "execution_count": 5,
   "metadata": {
    "execution": {
     "iopub.execute_input": "2021-03-19T07:11:36.955503Z",
     "iopub.status.busy": "2021-03-19T07:11:36.954767Z",
     "iopub.status.idle": "2021-03-19T07:11:37.264154Z",
     "shell.execute_reply": "2021-03-19T07:11:37.264581Z"
    }
   },
   "outputs": [],
   "source": [
    "r = requests.post(dataUrl, data= {\n",
    "    \"sheet_id\": tableauData[\"sheetId\"],\n",
    "})\n",
    "\n",
    "dataReg = re.search('\\d+;({.*})\\d+;({.*})', r.text, re.MULTILINE)\n",
    "data1 = json.loads(dataReg.group(2))\n",
    "\n",
    "dataJson = data1[\"secondaryInfo\"][\"presModelMap\"][\"dataDictionary\"][\"presModelHolder\"][\"genDataDictionaryPresModel\"][\"dataSegments\"][\"0\"][\"dataColumns\"]"
   ]
  },
  {
   "cell_type": "markdown",
   "metadata": {},
   "source": [
    "Isolate what you want"
   ]
  },
  {
   "cell_type": "code",
   "execution_count": 6,
   "metadata": {
    "execution": {
     "iopub.execute_input": "2021-03-19T07:11:37.269869Z",
     "iopub.status.busy": "2021-03-19T07:11:37.268450Z",
     "iopub.status.idle": "2021-03-19T07:11:37.270472Z",
     "shell.execute_reply": "2021-03-19T07:11:37.270949Z"
    }
   },
   "outputs": [],
   "source": [
    "counties = dataJson[2]['dataValues'][:58]"
   ]
  },
  {
   "cell_type": "code",
   "execution_count": 7,
   "metadata": {
    "execution": {
     "iopub.execute_input": "2021-03-19T07:11:37.275538Z",
     "iopub.status.busy": "2021-03-19T07:11:37.274173Z",
     "iopub.status.idle": "2021-03-19T07:11:37.276151Z",
     "shell.execute_reply": "2021-03-19T07:11:37.276589Z"
    }
   },
   "outputs": [],
   "source": [
    "doses = dataJson[0]['dataValues'][3:61]"
   ]
  },
  {
   "cell_type": "markdown",
   "metadata": {},
   "source": [
    "Data formatting"
   ]
  },
  {
   "cell_type": "code",
   "execution_count": 8,
   "metadata": {
    "execution": {
     "iopub.execute_input": "2021-03-19T07:11:37.281115Z",
     "iopub.status.busy": "2021-03-19T07:11:37.279701Z",
     "iopub.status.idle": "2021-03-19T07:11:37.281794Z",
     "shell.execute_reply": "2021-03-19T07:11:37.282230Z"
    }
   },
   "outputs": [],
   "source": [
    "zipped = dict(zip(counties, doses))"
   ]
  },
  {
   "cell_type": "code",
   "execution_count": 9,
   "metadata": {
    "execution": {
     "iopub.execute_input": "2021-03-19T07:11:37.288944Z",
     "iopub.status.busy": "2021-03-19T07:11:37.287613Z",
     "iopub.status.idle": "2021-03-19T07:11:37.289550Z",
     "shell.execute_reply": "2021-03-19T07:11:37.289983Z"
    }
   },
   "outputs": [],
   "source": [
    "df = pd.Series(zipped).reset_index()"
   ]
  },
  {
   "cell_type": "code",
   "execution_count": 10,
   "metadata": {
    "execution": {
     "iopub.execute_input": "2021-03-19T07:11:37.294368Z",
     "iopub.status.busy": "2021-03-19T07:11:37.293174Z",
     "iopub.status.idle": "2021-03-19T07:11:37.295082Z",
     "shell.execute_reply": "2021-03-19T07:11:37.295513Z"
    }
   },
   "outputs": [],
   "source": [
    "df.columns = ['location','doses']"
   ]
  },
  {
   "cell_type": "markdown",
   "metadata": {},
   "source": [
    "Grab the overall California total"
   ]
  },
  {
   "cell_type": "code",
   "execution_count": 11,
   "metadata": {
    "execution": {
     "iopub.execute_input": "2021-03-19T07:11:37.300013Z",
     "iopub.status.busy": "2021-03-19T07:11:37.298771Z",
     "iopub.status.idle": "2021-03-19T07:11:37.300680Z",
     "shell.execute_reply": "2021-03-19T07:11:37.301107Z"
    }
   },
   "outputs": [],
   "source": [
    "add = {'location':'California','doses':dataJson[0]['dataValues'][2]}"
   ]
  },
  {
   "cell_type": "code",
   "execution_count": 12,
   "metadata": {
    "execution": {
     "iopub.execute_input": "2021-03-19T07:11:37.308215Z",
     "iopub.status.busy": "2021-03-19T07:11:37.306944Z",
     "iopub.status.idle": "2021-03-19T07:11:37.308868Z",
     "shell.execute_reply": "2021-03-19T07:11:37.309294Z"
    }
   },
   "outputs": [],
   "source": [
    "df = df.append(add, ignore_index=True)"
   ]
  },
  {
   "cell_type": "code",
   "execution_count": 13,
   "metadata": {
    "execution": {
     "iopub.execute_input": "2021-03-19T07:11:37.314523Z",
     "iopub.status.busy": "2021-03-19T07:11:37.313311Z",
     "iopub.status.idle": "2021-03-19T07:11:37.315138Z",
     "shell.execute_reply": "2021-03-19T07:11:37.315587Z"
    }
   },
   "outputs": [],
   "source": [
    "df = df.sort_values(by='location')"
   ]
  },
  {
   "cell_type": "code",
   "execution_count": 14,
   "metadata": {
    "execution": {
     "iopub.execute_input": "2021-03-19T07:11:37.322016Z",
     "iopub.status.busy": "2021-03-19T07:11:37.320827Z",
     "iopub.status.idle": "2021-03-19T07:11:37.322610Z",
     "shell.execute_reply": "2021-03-19T07:11:37.323088Z"
    }
   },
   "outputs": [],
   "source": [
    "df = df[df.location == 'California'].append(df[df.location != 'California']).reset_index(drop=True)"
   ]
  },
  {
   "cell_type": "code",
   "execution_count": null,
   "metadata": {},
   "outputs": [],
   "source": []
  },
  {
   "cell_type": "code",
   "execution_count": 15,
   "metadata": {
    "execution": {
     "iopub.execute_input": "2021-03-19T07:11:37.326253Z",
     "iopub.status.busy": "2021-03-19T07:11:37.325721Z",
     "iopub.status.idle": "2021-03-19T07:11:37.344243Z",
     "shell.execute_reply": "2021-03-19T07:11:37.343703Z"
    }
   },
   "outputs": [],
   "source": [
    "tz = pytz.timezone(\"America/New_York\")"
   ]
  },
  {
   "cell_type": "code",
   "execution_count": 16,
   "metadata": {
    "execution": {
     "iopub.execute_input": "2021-03-19T07:11:37.348502Z",
     "iopub.status.busy": "2021-03-19T07:11:37.347188Z",
     "iopub.status.idle": "2021-03-19T07:11:37.349097Z",
     "shell.execute_reply": "2021-03-19T07:11:37.349553Z"
    }
   },
   "outputs": [],
   "source": [
    "today = datetime.now(tz).date()"
   ]
  },
  {
   "cell_type": "code",
   "execution_count": 17,
   "metadata": {
    "execution": {
     "iopub.execute_input": "2021-03-19T07:11:37.353932Z",
     "iopub.status.busy": "2021-03-19T07:11:37.352730Z",
     "iopub.status.idle": "2021-03-19T07:11:37.354523Z",
     "shell.execute_reply": "2021-03-19T07:11:37.355004Z"
    }
   },
   "outputs": [],
   "source": [
    "data_dir = os.path.join(os.path.abspath(\"\"), \"data\")"
   ]
  },
  {
   "cell_type": "code",
   "execution_count": 18,
   "metadata": {
    "execution": {
     "iopub.execute_input": "2021-03-19T07:11:37.359270Z",
     "iopub.status.busy": "2021-03-19T07:11:37.358029Z",
     "iopub.status.idle": "2021-03-19T07:11:37.362145Z",
     "shell.execute_reply": "2021-03-19T07:11:37.362565Z"
    }
   },
   "outputs": [],
   "source": [
    "df.to_csv(os.path.join(data_dir, f\"{today}.csv\"), index=False)"
   ]
  },
  {
   "cell_type": "code",
   "execution_count": null,
   "metadata": {},
   "outputs": [],
   "source": []
  }
 ],
 "metadata": {
  "kernelspec": {
   "display_name": "Python 3",
   "language": "python",
   "name": "python3"
  },
  "language_info": {
   "codemirror_mode": {
    "name": "ipython",
    "version": 3
   },
   "file_extension": ".py",
   "mimetype": "text/x-python",
   "name": "python",
   "nbconvert_exporter": "python",
   "pygments_lexer": "ipython3",
   "version": "3.8.8"
  }
 },
 "nbformat": 4,
 "nbformat_minor": 4
}
