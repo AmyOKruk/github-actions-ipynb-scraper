{
 "cells": [
  {
   "cell_type": "markdown",
   "metadata": {},
   "source": [
    "# California COVID vaccinations scrape"
   ]
  },
  {
   "cell_type": "markdown",
   "metadata": {},
   "source": [
    "By [Amy O'Kruk](https://twitter.com/amyokruk)"
   ]
  },
  {
   "cell_type": "markdown",
   "metadata": {},
   "source": [
    "Downloads data on vaccine doses administered by county and statewide from a Tableau-powered dashboard from the California Department of Public Health."
   ]
  },
  {
   "cell_type": "code",
   "execution_count": 1,
   "metadata": {
    "execution": {
     "iopub.execute_input": "2021-03-24T05:54:06.816236Z",
     "iopub.status.busy": "2021-03-24T05:54:06.815524Z",
     "iopub.status.idle": "2021-03-24T05:54:07.259375Z",
     "shell.execute_reply": "2021-03-24T05:54:07.258422Z"
    }
   },
   "outputs": [],
   "source": [
    "import pandas as pd\n",
    "import requests\n",
    "from bs4 import BeautifulSoup\n",
    "import json\n",
    "import re\n",
    "import time\n",
    "from time import gmtime, strftime \n",
    "import os\n",
    "import pytz\n",
    "from datetime import datetime"
   ]
  },
  {
   "cell_type": "markdown",
   "metadata": {},
   "source": [
    "Scrape the dashboard page"
   ]
  },
  {
   "cell_type": "code",
   "execution_count": 2,
   "metadata": {
    "execution": {
     "iopub.execute_input": "2021-03-24T05:54:07.265821Z",
     "iopub.status.busy": "2021-03-24T05:54:07.263042Z",
     "iopub.status.idle": "2021-03-24T05:54:07.951178Z",
     "shell.execute_reply": "2021-03-24T05:54:07.950358Z"
    }
   },
   "outputs": [],
   "source": [
    "url = \"https://public.tableau.com/interactive/views/COVID-19VaccineDashboardPublic/Vaccine?:embed=y&:showVizHome=n&:apiID=host0\"\n",
    "\n",
    "r = requests.get(url)\n",
    "soup = BeautifulSoup(r.text, \"html.parser\")"
   ]
  },
  {
   "cell_type": "code",
   "execution_count": 3,
   "metadata": {
    "execution": {
     "iopub.execute_input": "2021-03-24T05:54:07.956940Z",
     "iopub.status.busy": "2021-03-24T05:54:07.956362Z",
     "iopub.status.idle": "2021-03-24T05:54:07.960551Z",
     "shell.execute_reply": "2021-03-24T05:54:07.959831Z"
    }
   },
   "outputs": [],
   "source": [
    "tableauData = json.loads(soup.find(\"textarea\",{\"id\": \"tsConfigContainer\"}).text)"
   ]
  },
  {
   "cell_type": "markdown",
   "metadata": {},
   "source": [
    "Get the link to the Tableau data"
   ]
  },
  {
   "cell_type": "code",
   "execution_count": 4,
   "metadata": {
    "execution": {
     "iopub.execute_input": "2021-03-24T05:54:07.965264Z",
     "iopub.status.busy": "2021-03-24T05:54:07.963843Z",
     "iopub.status.idle": "2021-03-24T05:54:07.965907Z",
     "shell.execute_reply": "2021-03-24T05:54:07.966395Z"
    }
   },
   "outputs": [],
   "source": [
    "dataUrl = f'https://public.tableau.com{tableauData[\"vizql_root\"]}/bootstrapSession/sessions/{tableauData[\"sessionid\"]}'"
   ]
  },
  {
   "cell_type": "code",
   "execution_count": 5,
   "metadata": {
    "execution": {
     "iopub.execute_input": "2021-03-24T05:54:07.973409Z",
     "iopub.status.busy": "2021-03-24T05:54:07.972822Z",
     "iopub.status.idle": "2021-03-24T05:54:08.321676Z",
     "shell.execute_reply": "2021-03-24T05:54:08.321106Z"
    }
   },
   "outputs": [],
   "source": [
    "r = requests.post(dataUrl, data= {\n",
    "    \"sheet_id\": tableauData[\"sheetId\"],\n",
    "})\n",
    "\n",
    "dataReg = re.search('\\d+;({.*})\\d+;({.*})', r.text, re.MULTILINE)\n",
    "data1 = json.loads(dataReg.group(2))\n",
    "\n",
    "dataJson = data1[\"secondaryInfo\"][\"presModelMap\"][\"dataDictionary\"][\"presModelHolder\"][\"genDataDictionaryPresModel\"][\"dataSegments\"][\"0\"][\"dataColumns\"]"
   ]
  },
  {
   "cell_type": "markdown",
   "metadata": {},
   "source": [
    "Isolate what you want"
   ]
  },
  {
   "cell_type": "code",
   "execution_count": 6,
   "metadata": {
    "execution": {
     "iopub.execute_input": "2021-03-24T05:54:08.326466Z",
     "iopub.status.busy": "2021-03-24T05:54:08.325057Z",
     "iopub.status.idle": "2021-03-24T05:54:08.327104Z",
     "shell.execute_reply": "2021-03-24T05:54:08.327587Z"
    }
   },
   "outputs": [],
   "source": [
    "counties = dataJson[2]['dataValues'][:58]"
   ]
  },
  {
   "cell_type": "code",
   "execution_count": 7,
   "metadata": {
    "execution": {
     "iopub.execute_input": "2021-03-24T05:54:08.332230Z",
     "iopub.status.busy": "2021-03-24T05:54:08.330808Z",
     "iopub.status.idle": "2021-03-24T05:54:08.332882Z",
     "shell.execute_reply": "2021-03-24T05:54:08.333373Z"
    }
   },
   "outputs": [],
   "source": [
    "doses = dataJson[0]['dataValues'][3:61]"
   ]
  },
  {
   "cell_type": "markdown",
   "metadata": {},
   "source": [
    "Data formatting"
   ]
  },
  {
   "cell_type": "code",
   "execution_count": 8,
   "metadata": {
    "execution": {
     "iopub.execute_input": "2021-03-24T05:54:08.337906Z",
     "iopub.status.busy": "2021-03-24T05:54:08.336558Z",
     "iopub.status.idle": "2021-03-24T05:54:08.338538Z",
     "shell.execute_reply": "2021-03-24T05:54:08.339018Z"
    }
   },
   "outputs": [],
   "source": [
    "zipped = dict(zip(counties, doses))"
   ]
  },
  {
   "cell_type": "code",
   "execution_count": 9,
   "metadata": {
    "execution": {
     "iopub.execute_input": "2021-03-24T05:54:08.346208Z",
     "iopub.status.busy": "2021-03-24T05:54:08.344787Z",
     "iopub.status.idle": "2021-03-24T05:54:08.346850Z",
     "shell.execute_reply": "2021-03-24T05:54:08.347332Z"
    }
   },
   "outputs": [],
   "source": [
    "df = pd.Series(zipped).reset_index()"
   ]
  },
  {
   "cell_type": "code",
   "execution_count": 10,
   "metadata": {
    "execution": {
     "iopub.execute_input": "2021-03-24T05:54:08.352252Z",
     "iopub.status.busy": "2021-03-24T05:54:08.350851Z",
     "iopub.status.idle": "2021-03-24T05:54:08.352896Z",
     "shell.execute_reply": "2021-03-24T05:54:08.353381Z"
    }
   },
   "outputs": [],
   "source": [
    "df.columns = ['location','doses']"
   ]
  },
  {
   "cell_type": "markdown",
   "metadata": {},
   "source": [
    "Grab the overall California total"
   ]
  },
  {
   "cell_type": "code",
   "execution_count": 11,
   "metadata": {
    "execution": {
     "iopub.execute_input": "2021-03-24T05:54:08.358112Z",
     "iopub.status.busy": "2021-03-24T05:54:08.356781Z",
     "iopub.status.idle": "2021-03-24T05:54:08.358750Z",
     "shell.execute_reply": "2021-03-24T05:54:08.359234Z"
    }
   },
   "outputs": [],
   "source": [
    "add = {'location':'California','doses':dataJson[0]['dataValues'][2]}"
   ]
  },
  {
   "cell_type": "code",
   "execution_count": 12,
   "metadata": {
    "execution": {
     "iopub.execute_input": "2021-03-24T05:54:08.365941Z",
     "iopub.status.busy": "2021-03-24T05:54:08.365323Z",
     "iopub.status.idle": "2021-03-24T05:54:08.368077Z",
     "shell.execute_reply": "2021-03-24T05:54:08.367549Z"
    }
   },
   "outputs": [],
   "source": [
    "df = df.append(add, ignore_index=True)"
   ]
  },
  {
   "cell_type": "code",
   "execution_count": 13,
   "metadata": {
    "execution": {
     "iopub.execute_input": "2021-03-24T05:54:08.373432Z",
     "iopub.status.busy": "2021-03-24T05:54:08.372030Z",
     "iopub.status.idle": "2021-03-24T05:54:08.374070Z",
     "shell.execute_reply": "2021-03-24T05:54:08.374552Z"
    }
   },
   "outputs": [],
   "source": [
    "df = df.sort_values(by='location')"
   ]
  },
  {
   "cell_type": "code",
   "execution_count": 14,
   "metadata": {
    "execution": {
     "iopub.execute_input": "2021-03-24T05:54:08.381906Z",
     "iopub.status.busy": "2021-03-24T05:54:08.380560Z",
     "iopub.status.idle": "2021-03-24T05:54:08.382552Z",
     "shell.execute_reply": "2021-03-24T05:54:08.383036Z"
    }
   },
   "outputs": [],
   "source": [
    "df = df[df.location == 'California'].append(df[df.location != 'California']).reset_index(drop=True)"
   ]
  },
  {
   "cell_type": "code",
   "execution_count": null,
   "metadata": {},
   "outputs": [],
   "source": []
  },
  {
   "cell_type": "code",
   "execution_count": 15,
   "metadata": {
    "execution": {
     "iopub.execute_input": "2021-03-24T05:54:08.386692Z",
     "iopub.status.busy": "2021-03-24T05:54:08.386120Z",
     "iopub.status.idle": "2021-03-24T05:54:08.407579Z",
     "shell.execute_reply": "2021-03-24T05:54:08.407013Z"
    }
   },
   "outputs": [],
   "source": [
    "tz = pytz.timezone(\"America/New_York\")"
   ]
  },
  {
   "cell_type": "code",
   "execution_count": 16,
   "metadata": {
    "execution": {
     "iopub.execute_input": "2021-03-24T05:54:08.412382Z",
     "iopub.status.busy": "2021-03-24T05:54:08.411000Z",
     "iopub.status.idle": "2021-03-24T05:54:08.413020Z",
     "shell.execute_reply": "2021-03-24T05:54:08.413520Z"
    }
   },
   "outputs": [],
   "source": [
    "today = datetime.now(tz).date()"
   ]
  },
  {
   "cell_type": "code",
   "execution_count": 17,
   "metadata": {
    "execution": {
     "iopub.execute_input": "2021-03-24T05:54:08.418407Z",
     "iopub.status.busy": "2021-03-24T05:54:08.416991Z",
     "iopub.status.idle": "2021-03-24T05:54:08.419050Z",
     "shell.execute_reply": "2021-03-24T05:54:08.419533Z"
    }
   },
   "outputs": [],
   "source": [
    "data_dir = os.path.join(os.path.abspath(\"\"), \"data\")"
   ]
  },
  {
   "cell_type": "code",
   "execution_count": 18,
   "metadata": {
    "execution": {
     "iopub.execute_input": "2021-03-24T05:54:08.423781Z",
     "iopub.status.busy": "2021-03-24T05:54:08.423176Z",
     "iopub.status.idle": "2021-03-24T05:54:08.428803Z",
     "shell.execute_reply": "2021-03-24T05:54:08.428224Z"
    }
   },
   "outputs": [],
   "source": [
    "df.to_csv(os.path.join(data_dir, f\"{today}.csv\"), index=False)"
   ]
  },
  {
   "cell_type": "code",
   "execution_count": null,
   "metadata": {},
   "outputs": [],
   "source": []
  }
 ],
 "metadata": {
  "kernelspec": {
   "display_name": "Python 3",
   "language": "python",
   "name": "python3"
  },
  "language_info": {
   "codemirror_mode": {
    "name": "ipython",
    "version": 3
   },
   "file_extension": ".py",
   "mimetype": "text/x-python",
   "name": "python",
   "nbconvert_exporter": "python",
   "pygments_lexer": "ipython3",
   "version": "3.8.8"
  }
 },
 "nbformat": 4,
 "nbformat_minor": 4
}
