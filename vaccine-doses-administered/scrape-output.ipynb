{
 "cells": [
  {
   "cell_type": "markdown",
   "metadata": {},
   "source": [
    "# California COVID vaccinations scrape"
   ]
  },
  {
   "cell_type": "markdown",
   "metadata": {},
   "source": [
    "By [Amy O'Kruk](https://twitter.com/amyokruk)"
   ]
  },
  {
   "cell_type": "markdown",
   "metadata": {},
   "source": [
    "Downloads data on vaccine doses administered by county and statewide from a Tableau-powered dashboard from the California Department of Public Health."
   ]
  },
  {
   "cell_type": "code",
   "execution_count": 1,
   "metadata": {
    "execution": {
     "iopub.execute_input": "2021-03-15T23:00:50.419640Z",
     "iopub.status.busy": "2021-03-15T23:00:50.419085Z",
     "iopub.status.idle": "2021-03-15T23:00:50.951519Z",
     "shell.execute_reply": "2021-03-15T23:00:50.950902Z"
    }
   },
   "outputs": [],
   "source": [
    "import pandas as pd\n",
    "import requests\n",
    "from bs4 import BeautifulSoup\n",
    "import json\n",
    "import re\n",
    "import time\n",
    "from time import gmtime, strftime \n",
    "import os\n",
    "import pytz\n",
    "from datetime import datetime"
   ]
  },
  {
   "cell_type": "markdown",
   "metadata": {},
   "source": [
    "Scrape the dashboard page"
   ]
  },
  {
   "cell_type": "code",
   "execution_count": 2,
   "metadata": {
    "execution": {
     "iopub.execute_input": "2021-03-15T23:00:50.956905Z",
     "iopub.status.busy": "2021-03-15T23:00:50.954571Z",
     "iopub.status.idle": "2021-03-15T23:00:51.445095Z",
     "shell.execute_reply": "2021-03-15T23:00:51.444274Z"
    }
   },
   "outputs": [],
   "source": [
    "url = \"https://public.tableau.com/interactive/views/COVID-19VaccineDashboardPublic/Vaccine?:embed=y&:showVizHome=n&:apiID=host0\"\n",
    "\n",
    "r = requests.get(url)\n",
    "soup = BeautifulSoup(r.text, \"html.parser\")"
   ]
  },
  {
   "cell_type": "code",
   "execution_count": 3,
   "metadata": {
    "execution": {
     "iopub.execute_input": "2021-03-15T23:00:51.449686Z",
     "iopub.status.busy": "2021-03-15T23:00:51.449219Z",
     "iopub.status.idle": "2021-03-15T23:00:51.452121Z",
     "shell.execute_reply": "2021-03-15T23:00:51.452494Z"
    }
   },
   "outputs": [],
   "source": [
    "tableauData = json.loads(soup.find(\"textarea\",{\"id\": \"tsConfigContainer\"}).text)"
   ]
  },
  {
   "cell_type": "markdown",
   "metadata": {},
   "source": [
    "Get the link to the Tableau data"
   ]
  },
  {
   "cell_type": "code",
   "execution_count": 4,
   "metadata": {
    "execution": {
     "iopub.execute_input": "2021-03-15T23:00:51.455762Z",
     "iopub.status.busy": "2021-03-15T23:00:51.455298Z",
     "iopub.status.idle": "2021-03-15T23:00:51.458302Z",
     "shell.execute_reply": "2021-03-15T23:00:51.457909Z"
    }
   },
   "outputs": [],
   "source": [
    "dataUrl = f'https://public.tableau.com{tableauData[\"vizql_root\"]}/bootstrapSession/sessions/{tableauData[\"sessionid\"]}'"
   ]
  },
  {
   "cell_type": "code",
   "execution_count": 5,
   "metadata": {
    "execution": {
     "iopub.execute_input": "2021-03-15T23:00:51.463829Z",
     "iopub.status.busy": "2021-03-15T23:00:51.463352Z",
     "iopub.status.idle": "2021-03-15T23:00:51.775116Z",
     "shell.execute_reply": "2021-03-15T23:00:51.774347Z"
    }
   },
   "outputs": [],
   "source": [
    "r = requests.post(dataUrl, data= {\n",
    "    \"sheet_id\": tableauData[\"sheetId\"],\n",
    "})\n",
    "\n",
    "dataReg = re.search('\\d+;({.*})\\d+;({.*})', r.text, re.MULTILINE)\n",
    "data1 = json.loads(dataReg.group(2))\n",
    "\n",
    "dataJson = data1[\"secondaryInfo\"][\"presModelMap\"][\"dataDictionary\"][\"presModelHolder\"][\"genDataDictionaryPresModel\"][\"dataSegments\"][\"0\"][\"dataColumns\"]"
   ]
  },
  {
   "cell_type": "markdown",
   "metadata": {},
   "source": [
    "Isolate what you want"
   ]
  },
  {
   "cell_type": "code",
   "execution_count": 6,
   "metadata": {
    "execution": {
     "iopub.execute_input": "2021-03-15T23:00:51.781280Z",
     "iopub.status.busy": "2021-03-15T23:00:51.780821Z",
     "iopub.status.idle": "2021-03-15T23:00:51.784037Z",
     "shell.execute_reply": "2021-03-15T23:00:51.783635Z"
    }
   },
   "outputs": [],
   "source": [
    "counties = dataJson[2]['dataValues'][:58]"
   ]
  },
  {
   "cell_type": "code",
   "execution_count": 7,
   "metadata": {
    "execution": {
     "iopub.execute_input": "2021-03-15T23:00:51.787115Z",
     "iopub.status.busy": "2021-03-15T23:00:51.786679Z",
     "iopub.status.idle": "2021-03-15T23:00:51.788709Z",
     "shell.execute_reply": "2021-03-15T23:00:51.789066Z"
    }
   },
   "outputs": [],
   "source": [
    "doses = dataJson[0]['dataValues'][3:61]"
   ]
  },
  {
   "cell_type": "markdown",
   "metadata": {},
   "source": [
    "Data formatting"
   ]
  },
  {
   "cell_type": "code",
   "execution_count": 8,
   "metadata": {
    "execution": {
     "iopub.execute_input": "2021-03-15T23:00:51.793076Z",
     "iopub.status.busy": "2021-03-15T23:00:51.792629Z",
     "iopub.status.idle": "2021-03-15T23:00:51.796024Z",
     "shell.execute_reply": "2021-03-15T23:00:51.795567Z"
    }
   },
   "outputs": [],
   "source": [
    "zipped = dict(zip(counties, doses))"
   ]
  },
  {
   "cell_type": "code",
   "execution_count": 9,
   "metadata": {
    "execution": {
     "iopub.execute_input": "2021-03-15T23:00:51.800921Z",
     "iopub.status.busy": "2021-03-15T23:00:51.800481Z",
     "iopub.status.idle": "2021-03-15T23:00:51.803852Z",
     "shell.execute_reply": "2021-03-15T23:00:51.803435Z"
    }
   },
   "outputs": [],
   "source": [
    "df = pd.Series(zipped).reset_index()"
   ]
  },
  {
   "cell_type": "code",
   "execution_count": 10,
   "metadata": {
    "execution": {
     "iopub.execute_input": "2021-03-15T23:00:51.808439Z",
     "iopub.status.busy": "2021-03-15T23:00:51.808001Z",
     "iopub.status.idle": "2021-03-15T23:00:51.810895Z",
     "shell.execute_reply": "2021-03-15T23:00:51.810530Z"
    }
   },
   "outputs": [],
   "source": [
    "df.columns = ['location','doses']"
   ]
  },
  {
   "cell_type": "markdown",
   "metadata": {},
   "source": [
    "Grab the overall California total"
   ]
  },
  {
   "cell_type": "code",
   "execution_count": 11,
   "metadata": {
    "execution": {
     "iopub.execute_input": "2021-03-15T23:00:51.813644Z",
     "iopub.status.busy": "2021-03-15T23:00:51.812769Z",
     "iopub.status.idle": "2021-03-15T23:00:51.817207Z",
     "shell.execute_reply": "2021-03-15T23:00:51.816816Z"
    }
   },
   "outputs": [],
   "source": [
    "add = {'location':'California','doses':dataJson[0]['dataValues'][2]}"
   ]
  },
  {
   "cell_type": "code",
   "execution_count": 12,
   "metadata": {
    "execution": {
     "iopub.execute_input": "2021-03-15T23:00:51.822651Z",
     "iopub.status.busy": "2021-03-15T23:00:51.822216Z",
     "iopub.status.idle": "2021-03-15T23:00:51.825218Z",
     "shell.execute_reply": "2021-03-15T23:00:51.824834Z"
    }
   },
   "outputs": [],
   "source": [
    "df = df.append(add, ignore_index=True)"
   ]
  },
  {
   "cell_type": "code",
   "execution_count": 13,
   "metadata": {
    "execution": {
     "iopub.execute_input": "2021-03-15T23:00:51.828887Z",
     "iopub.status.busy": "2021-03-15T23:00:51.828452Z",
     "iopub.status.idle": "2021-03-15T23:00:51.831402Z",
     "shell.execute_reply": "2021-03-15T23:00:51.831019Z"
    }
   },
   "outputs": [],
   "source": [
    "df = df.sort_values(by='location')"
   ]
  },
  {
   "cell_type": "code",
   "execution_count": 14,
   "metadata": {
    "execution": {
     "iopub.execute_input": "2021-03-15T23:00:51.836286Z",
     "iopub.status.busy": "2021-03-15T23:00:51.835847Z",
     "iopub.status.idle": "2021-03-15T23:00:51.838870Z",
     "shell.execute_reply": "2021-03-15T23:00:51.838483Z"
    }
   },
   "outputs": [],
   "source": [
    "df = df[df.location == 'California'].append(df[df.location != 'California']).reset_index(drop=True)"
   ]
  },
  {
   "cell_type": "code",
   "execution_count": null,
   "metadata": {},
   "outputs": [],
   "source": []
  },
  {
   "cell_type": "code",
   "execution_count": 15,
   "metadata": {
    "execution": {
     "iopub.execute_input": "2021-03-15T23:00:51.842115Z",
     "iopub.status.busy": "2021-03-15T23:00:51.841433Z",
     "iopub.status.idle": "2021-03-15T23:00:51.857597Z",
     "shell.execute_reply": "2021-03-15T23:00:51.857968Z"
    }
   },
   "outputs": [],
   "source": [
    "tz = pytz.timezone(\"America/New_York\")"
   ]
  },
  {
   "cell_type": "code",
   "execution_count": 16,
   "metadata": {
    "execution": {
     "iopub.execute_input": "2021-03-15T23:00:51.861170Z",
     "iopub.status.busy": "2021-03-15T23:00:51.860732Z",
     "iopub.status.idle": "2021-03-15T23:00:51.863327Z",
     "shell.execute_reply": "2021-03-15T23:00:51.863719Z"
    }
   },
   "outputs": [],
   "source": [
    "today = datetime.now(tz).date()"
   ]
  },
  {
   "cell_type": "code",
   "execution_count": 17,
   "metadata": {
    "execution": {
     "iopub.execute_input": "2021-03-15T23:00:51.866770Z",
     "iopub.status.busy": "2021-03-15T23:00:51.866333Z",
     "iopub.status.idle": "2021-03-15T23:00:51.869341Z",
     "shell.execute_reply": "2021-03-15T23:00:51.868784Z"
    }
   },
   "outputs": [],
   "source": [
    "data_dir = os.path.join(os.path.abspath(\"\"), \"data\")"
   ]
  },
  {
   "cell_type": "code",
   "execution_count": 18,
   "metadata": {
    "execution": {
     "iopub.execute_input": "2021-03-15T23:00:51.873797Z",
     "iopub.status.busy": "2021-03-15T23:00:51.872268Z",
     "iopub.status.idle": "2021-03-15T23:00:51.877624Z",
     "shell.execute_reply": "2021-03-15T23:00:51.876807Z"
    }
   },
   "outputs": [],
   "source": [
    "df.to_csv(os.path.join(data_dir, f\"{today}.csv\"), index=False)"
   ]
  },
  {
   "cell_type": "code",
   "execution_count": null,
   "metadata": {},
   "outputs": [],
   "source": []
  }
 ],
 "metadata": {
  "kernelspec": {
   "display_name": "Python 3",
   "language": "python",
   "name": "python3"
  },
  "language_info": {
   "codemirror_mode": {
    "name": "ipython",
    "version": 3
   },
   "file_extension": ".py",
   "mimetype": "text/x-python",
   "name": "python",
   "nbconvert_exporter": "python",
   "pygments_lexer": "ipython3",
   "version": "3.8.8"
  }
 },
 "nbformat": 4,
 "nbformat_minor": 4
}
