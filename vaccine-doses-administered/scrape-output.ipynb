{
 "cells": [
  {
   "cell_type": "markdown",
   "metadata": {},
   "source": [
    "# California COVID vaccinations scrape"
   ]
  },
  {
   "cell_type": "markdown",
   "metadata": {},
   "source": [
    "By [Amy O'Kruk](https://twitter.com/amyokruk)"
   ]
  },
  {
   "cell_type": "markdown",
   "metadata": {},
   "source": [
    "Downloads data on vaccine doses administered by county and statewide from a Tableau-powered dashboard from the California Department of Public Health."
   ]
  },
  {
   "cell_type": "code",
   "execution_count": 1,
   "metadata": {
    "execution": {
     "iopub.execute_input": "2021-03-17T09:44:09.051573Z",
     "iopub.status.busy": "2021-03-17T09:44:09.050879Z",
     "iopub.status.idle": "2021-03-17T09:44:09.467228Z",
     "shell.execute_reply": "2021-03-17T09:44:09.466094Z"
    }
   },
   "outputs": [],
   "source": [
    "import pandas as pd\n",
    "import requests\n",
    "from bs4 import BeautifulSoup\n",
    "import json\n",
    "import re\n",
    "import time\n",
    "from time import gmtime, strftime \n",
    "import os\n",
    "import pytz\n",
    "from datetime import datetime"
   ]
  },
  {
   "cell_type": "markdown",
   "metadata": {},
   "source": [
    "Scrape the dashboard page"
   ]
  },
  {
   "cell_type": "code",
   "execution_count": 2,
   "metadata": {
    "execution": {
     "iopub.execute_input": "2021-03-17T09:44:09.473186Z",
     "iopub.status.busy": "2021-03-17T09:44:09.470876Z",
     "iopub.status.idle": "2021-03-17T09:44:10.058627Z",
     "shell.execute_reply": "2021-03-17T09:44:10.058097Z"
    }
   },
   "outputs": [],
   "source": [
    "url = \"https://public.tableau.com/interactive/views/COVID-19VaccineDashboardPublic/Vaccine?:embed=y&:showVizHome=n&:apiID=host0\"\n",
    "\n",
    "r = requests.get(url)\n",
    "soup = BeautifulSoup(r.text, \"html.parser\")"
   ]
  },
  {
   "cell_type": "code",
   "execution_count": 3,
   "metadata": {
    "execution": {
     "iopub.execute_input": "2021-03-17T09:44:10.063835Z",
     "iopub.status.busy": "2021-03-17T09:44:10.063254Z",
     "iopub.status.idle": "2021-03-17T09:44:10.076559Z",
     "shell.execute_reply": "2021-03-17T09:44:10.076112Z"
    }
   },
   "outputs": [],
   "source": [
    "tableauData = json.loads(soup.find(\"textarea\",{\"id\": \"tsConfigContainer\"}).text)"
   ]
  },
  {
   "cell_type": "markdown",
   "metadata": {},
   "source": [
    "Get the link to the Tableau data"
   ]
  },
  {
   "cell_type": "code",
   "execution_count": 4,
   "metadata": {
    "execution": {
     "iopub.execute_input": "2021-03-17T09:44:10.080098Z",
     "iopub.status.busy": "2021-03-17T09:44:10.079550Z",
     "iopub.status.idle": "2021-03-17T09:44:10.083204Z",
     "shell.execute_reply": "2021-03-17T09:44:10.082778Z"
    }
   },
   "outputs": [],
   "source": [
    "dataUrl = f'https://public.tableau.com{tableauData[\"vizql_root\"]}/bootstrapSession/sessions/{tableauData[\"sessionid\"]}'"
   ]
  },
  {
   "cell_type": "code",
   "execution_count": 5,
   "metadata": {
    "execution": {
     "iopub.execute_input": "2021-03-17T09:44:10.090170Z",
     "iopub.status.busy": "2021-03-17T09:44:10.089425Z",
     "iopub.status.idle": "2021-03-17T09:44:10.652601Z",
     "shell.execute_reply": "2021-03-17T09:44:10.651483Z"
    }
   },
   "outputs": [],
   "source": [
    "r = requests.post(dataUrl, data= {\n",
    "    \"sheet_id\": tableauData[\"sheetId\"],\n",
    "})\n",
    "\n",
    "dataReg = re.search('\\d+;({.*})\\d+;({.*})', r.text, re.MULTILINE)\n",
    "data1 = json.loads(dataReg.group(2))\n",
    "\n",
    "dataJson = data1[\"secondaryInfo\"][\"presModelMap\"][\"dataDictionary\"][\"presModelHolder\"][\"genDataDictionaryPresModel\"][\"dataSegments\"][\"0\"][\"dataColumns\"]"
   ]
  },
  {
   "cell_type": "markdown",
   "metadata": {},
   "source": [
    "Isolate what you want"
   ]
  },
  {
   "cell_type": "code",
   "execution_count": 6,
   "metadata": {
    "execution": {
     "iopub.execute_input": "2021-03-17T09:44:10.657173Z",
     "iopub.status.busy": "2021-03-17T09:44:10.656539Z",
     "iopub.status.idle": "2021-03-17T09:44:10.660700Z",
     "shell.execute_reply": "2021-03-17T09:44:10.661123Z"
    }
   },
   "outputs": [],
   "source": [
    "counties = dataJson[2]['dataValues'][:58]"
   ]
  },
  {
   "cell_type": "code",
   "execution_count": 7,
   "metadata": {
    "execution": {
     "iopub.execute_input": "2021-03-17T09:44:10.665524Z",
     "iopub.status.busy": "2021-03-17T09:44:10.664964Z",
     "iopub.status.idle": "2021-03-17T09:44:10.668433Z",
     "shell.execute_reply": "2021-03-17T09:44:10.668002Z"
    }
   },
   "outputs": [],
   "source": [
    "doses = dataJson[0]['dataValues'][3:61]"
   ]
  },
  {
   "cell_type": "markdown",
   "metadata": {},
   "source": [
    "Data formatting"
   ]
  },
  {
   "cell_type": "code",
   "execution_count": 8,
   "metadata": {
    "execution": {
     "iopub.execute_input": "2021-03-17T09:44:10.672289Z",
     "iopub.status.busy": "2021-03-17T09:44:10.671761Z",
     "iopub.status.idle": "2021-03-17T09:44:10.673763Z",
     "shell.execute_reply": "2021-03-17T09:44:10.674161Z"
    }
   },
   "outputs": [],
   "source": [
    "zipped = dict(zip(counties, doses))"
   ]
  },
  {
   "cell_type": "code",
   "execution_count": 9,
   "metadata": {
    "execution": {
     "iopub.execute_input": "2021-03-17T09:44:10.681645Z",
     "iopub.status.busy": "2021-03-17T09:44:10.680049Z",
     "iopub.status.idle": "2021-03-17T09:44:10.682592Z",
     "shell.execute_reply": "2021-03-17T09:44:10.683233Z"
    }
   },
   "outputs": [],
   "source": [
    "df = pd.Series(zipped).reset_index()"
   ]
  },
  {
   "cell_type": "code",
   "execution_count": 10,
   "metadata": {
    "execution": {
     "iopub.execute_input": "2021-03-17T09:44:10.688845Z",
     "iopub.status.busy": "2021-03-17T09:44:10.687388Z",
     "iopub.status.idle": "2021-03-17T09:44:10.689599Z",
     "shell.execute_reply": "2021-03-17T09:44:10.690106Z"
    }
   },
   "outputs": [],
   "source": [
    "df.columns = ['location','doses']"
   ]
  },
  {
   "cell_type": "markdown",
   "metadata": {},
   "source": [
    "Grab the overall California total"
   ]
  },
  {
   "cell_type": "code",
   "execution_count": 11,
   "metadata": {
    "execution": {
     "iopub.execute_input": "2021-03-17T09:44:10.694931Z",
     "iopub.status.busy": "2021-03-17T09:44:10.693586Z",
     "iopub.status.idle": "2021-03-17T09:44:10.695519Z",
     "shell.execute_reply": "2021-03-17T09:44:10.696162Z"
    }
   },
   "outputs": [],
   "source": [
    "add = {'location':'California','doses':dataJson[0]['dataValues'][2]}"
   ]
  },
  {
   "cell_type": "code",
   "execution_count": 12,
   "metadata": {
    "execution": {
     "iopub.execute_input": "2021-03-17T09:44:10.704085Z",
     "iopub.status.busy": "2021-03-17T09:44:10.702684Z",
     "iopub.status.idle": "2021-03-17T09:44:10.704806Z",
     "shell.execute_reply": "2021-03-17T09:44:10.705245Z"
    }
   },
   "outputs": [],
   "source": [
    "df = df.append(add, ignore_index=True)"
   ]
  },
  {
   "cell_type": "code",
   "execution_count": 13,
   "metadata": {
    "execution": {
     "iopub.execute_input": "2021-03-17T09:44:10.710730Z",
     "iopub.status.busy": "2021-03-17T09:44:10.709314Z",
     "iopub.status.idle": "2021-03-17T09:44:10.711637Z",
     "shell.execute_reply": "2021-03-17T09:44:10.712221Z"
    }
   },
   "outputs": [],
   "source": [
    "df = df.sort_values(by='location')"
   ]
  },
  {
   "cell_type": "code",
   "execution_count": 14,
   "metadata": {
    "execution": {
     "iopub.execute_input": "2021-03-17T09:44:10.720210Z",
     "iopub.status.busy": "2021-03-17T09:44:10.718488Z",
     "iopub.status.idle": "2021-03-17T09:44:10.721108Z",
     "shell.execute_reply": "2021-03-17T09:44:10.721566Z"
    }
   },
   "outputs": [],
   "source": [
    "df = df[df.location == 'California'].append(df[df.location != 'California']).reset_index(drop=True)"
   ]
  },
  {
   "cell_type": "code",
   "execution_count": null,
   "metadata": {},
   "outputs": [],
   "source": []
  },
  {
   "cell_type": "code",
   "execution_count": 15,
   "metadata": {
    "execution": {
     "iopub.execute_input": "2021-03-17T09:44:10.725818Z",
     "iopub.status.busy": "2021-03-17T09:44:10.725158Z",
     "iopub.status.idle": "2021-03-17T09:44:10.743421Z",
     "shell.execute_reply": "2021-03-17T09:44:10.742956Z"
    }
   },
   "outputs": [],
   "source": [
    "tz = pytz.timezone(\"America/New_York\")"
   ]
  },
  {
   "cell_type": "code",
   "execution_count": 16,
   "metadata": {
    "execution": {
     "iopub.execute_input": "2021-03-17T09:44:10.747938Z",
     "iopub.status.busy": "2021-03-17T09:44:10.747171Z",
     "iopub.status.idle": "2021-03-17T09:44:10.749826Z",
     "shell.execute_reply": "2021-03-17T09:44:10.749280Z"
    }
   },
   "outputs": [],
   "source": [
    "today = datetime.now(tz).date()"
   ]
  },
  {
   "cell_type": "code",
   "execution_count": 17,
   "metadata": {
    "execution": {
     "iopub.execute_input": "2021-03-17T09:44:10.754320Z",
     "iopub.status.busy": "2021-03-17T09:44:10.753789Z",
     "iopub.status.idle": "2021-03-17T09:44:10.756254Z",
     "shell.execute_reply": "2021-03-17T09:44:10.755812Z"
    }
   },
   "outputs": [],
   "source": [
    "data_dir = os.path.join(os.path.abspath(\"\"), \"data\")"
   ]
  },
  {
   "cell_type": "code",
   "execution_count": 18,
   "metadata": {
    "execution": {
     "iopub.execute_input": "2021-03-17T09:44:10.760671Z",
     "iopub.status.busy": "2021-03-17T09:44:10.759491Z",
     "iopub.status.idle": "2021-03-17T09:44:10.764120Z",
     "shell.execute_reply": "2021-03-17T09:44:10.763566Z"
    }
   },
   "outputs": [],
   "source": [
    "df.to_csv(os.path.join(data_dir, f\"{today}.csv\"), index=False)"
   ]
  },
  {
   "cell_type": "code",
   "execution_count": null,
   "metadata": {},
   "outputs": [],
   "source": []
  }
 ],
 "metadata": {
  "kernelspec": {
   "display_name": "Python 3",
   "language": "python",
   "name": "python3"
  },
  "language_info": {
   "codemirror_mode": {
    "name": "ipython",
    "version": 3
   },
   "file_extension": ".py",
   "mimetype": "text/x-python",
   "name": "python",
   "nbconvert_exporter": "python",
   "pygments_lexer": "ipython3",
   "version": "3.8.8"
  }
 },
 "nbformat": 4,
 "nbformat_minor": 4
}
