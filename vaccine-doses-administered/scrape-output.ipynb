{
 "cells": [
  {
   "cell_type": "markdown",
   "metadata": {},
   "source": [
    "# California COVID vaccinations scrape"
   ]
  },
  {
   "cell_type": "markdown",
   "metadata": {},
   "source": [
    "By [Amy O'Kruk](https://twitter.com/amyokruk)"
   ]
  },
  {
   "cell_type": "markdown",
   "metadata": {},
   "source": [
    "Downloads data on vaccine doses administered by county and statewide from a Tableau-powered dashboard from the California Department of Public Health."
   ]
  },
  {
   "cell_type": "code",
   "execution_count": 1,
   "metadata": {
    "execution": {
     "iopub.execute_input": "2021-03-20T23:13:10.642557Z",
     "iopub.status.busy": "2021-03-20T23:13:10.641935Z",
     "iopub.status.idle": "2021-03-20T23:13:10.987986Z",
     "shell.execute_reply": "2021-03-20T23:13:10.987192Z"
    }
   },
   "outputs": [],
   "source": [
    "import pandas as pd\n",
    "import requests\n",
    "from bs4 import BeautifulSoup\n",
    "import json\n",
    "import re\n",
    "import time\n",
    "from time import gmtime, strftime \n",
    "import os\n",
    "import pytz\n",
    "from datetime import datetime"
   ]
  },
  {
   "cell_type": "markdown",
   "metadata": {},
   "source": [
    "Scrape the dashboard page"
   ]
  },
  {
   "cell_type": "code",
   "execution_count": 2,
   "metadata": {
    "execution": {
     "iopub.execute_input": "2021-03-20T23:13:10.993505Z",
     "iopub.status.busy": "2021-03-20T23:13:10.993039Z",
     "iopub.status.idle": "2021-03-20T23:13:11.497901Z",
     "shell.execute_reply": "2021-03-20T23:13:11.497093Z"
    }
   },
   "outputs": [],
   "source": [
    "url = \"https://public.tableau.com/interactive/views/COVID-19VaccineDashboardPublic/Vaccine?:embed=y&:showVizHome=n&:apiID=host0\"\n",
    "\n",
    "r = requests.get(url)\n",
    "soup = BeautifulSoup(r.text, \"html.parser\")"
   ]
  },
  {
   "cell_type": "code",
   "execution_count": 3,
   "metadata": {
    "execution": {
     "iopub.execute_input": "2021-03-20T23:13:11.502056Z",
     "iopub.status.busy": "2021-03-20T23:13:11.501609Z",
     "iopub.status.idle": "2021-03-20T23:13:11.504738Z",
     "shell.execute_reply": "2021-03-20T23:13:11.505173Z"
    }
   },
   "outputs": [],
   "source": [
    "tableauData = json.loads(soup.find(\"textarea\",{\"id\": \"tsConfigContainer\"}).text)"
   ]
  },
  {
   "cell_type": "markdown",
   "metadata": {},
   "source": [
    "Get the link to the Tableau data"
   ]
  },
  {
   "cell_type": "code",
   "execution_count": 4,
   "metadata": {
    "execution": {
     "iopub.execute_input": "2021-03-20T23:13:11.508093Z",
     "iopub.status.busy": "2021-03-20T23:13:11.507645Z",
     "iopub.status.idle": "2021-03-20T23:13:11.510859Z",
     "shell.execute_reply": "2021-03-20T23:13:11.510436Z"
    }
   },
   "outputs": [],
   "source": [
    "dataUrl = f'https://public.tableau.com{tableauData[\"vizql_root\"]}/bootstrapSession/sessions/{tableauData[\"sessionid\"]}'"
   ]
  },
  {
   "cell_type": "code",
   "execution_count": 5,
   "metadata": {
    "execution": {
     "iopub.execute_input": "2021-03-20T23:13:11.516834Z",
     "iopub.status.busy": "2021-03-20T23:13:11.516144Z",
     "iopub.status.idle": "2021-03-20T23:13:11.994215Z",
     "shell.execute_reply": "2021-03-20T23:13:11.993812Z"
    }
   },
   "outputs": [],
   "source": [
    "r = requests.post(dataUrl, data= {\n",
    "    \"sheet_id\": tableauData[\"sheetId\"],\n",
    "})\n",
    "\n",
    "dataReg = re.search('\\d+;({.*})\\d+;({.*})', r.text, re.MULTILINE)\n",
    "data1 = json.loads(dataReg.group(2))\n",
    "\n",
    "dataJson = data1[\"secondaryInfo\"][\"presModelMap\"][\"dataDictionary\"][\"presModelHolder\"][\"genDataDictionaryPresModel\"][\"dataSegments\"][\"0\"][\"dataColumns\"]"
   ]
  },
  {
   "cell_type": "markdown",
   "metadata": {},
   "source": [
    "Isolate what you want"
   ]
  },
  {
   "cell_type": "code",
   "execution_count": 6,
   "metadata": {
    "execution": {
     "iopub.execute_input": "2021-03-20T23:13:11.997962Z",
     "iopub.status.busy": "2021-03-20T23:13:11.997515Z",
     "iopub.status.idle": "2021-03-20T23:13:12.000478Z",
     "shell.execute_reply": "2021-03-20T23:13:12.001011Z"
    }
   },
   "outputs": [],
   "source": [
    "counties = dataJson[2]['dataValues'][:58]"
   ]
  },
  {
   "cell_type": "code",
   "execution_count": 7,
   "metadata": {
    "execution": {
     "iopub.execute_input": "2021-03-20T23:13:12.004801Z",
     "iopub.status.busy": "2021-03-20T23:13:12.003935Z",
     "iopub.status.idle": "2021-03-20T23:13:12.005808Z",
     "shell.execute_reply": "2021-03-20T23:13:12.006203Z"
    }
   },
   "outputs": [],
   "source": [
    "doses = dataJson[0]['dataValues'][3:61]"
   ]
  },
  {
   "cell_type": "markdown",
   "metadata": {},
   "source": [
    "Data formatting"
   ]
  },
  {
   "cell_type": "code",
   "execution_count": 8,
   "metadata": {
    "execution": {
     "iopub.execute_input": "2021-03-20T23:13:12.009210Z",
     "iopub.status.busy": "2021-03-20T23:13:12.008114Z",
     "iopub.status.idle": "2021-03-20T23:13:12.011419Z",
     "shell.execute_reply": "2021-03-20T23:13:12.011023Z"
    }
   },
   "outputs": [],
   "source": [
    "zipped = dict(zip(counties, doses))"
   ]
  },
  {
   "cell_type": "code",
   "execution_count": 9,
   "metadata": {
    "execution": {
     "iopub.execute_input": "2021-03-20T23:13:12.018767Z",
     "iopub.status.busy": "2021-03-20T23:13:12.017545Z",
     "iopub.status.idle": "2021-03-20T23:13:12.019923Z",
     "shell.execute_reply": "2021-03-20T23:13:12.020356Z"
    }
   },
   "outputs": [],
   "source": [
    "df = pd.Series(zipped).reset_index()"
   ]
  },
  {
   "cell_type": "code",
   "execution_count": 10,
   "metadata": {
    "execution": {
     "iopub.execute_input": "2021-03-20T23:13:12.024333Z",
     "iopub.status.busy": "2021-03-20T23:13:12.023447Z",
     "iopub.status.idle": "2021-03-20T23:13:12.025597Z",
     "shell.execute_reply": "2021-03-20T23:13:12.025152Z"
    }
   },
   "outputs": [],
   "source": [
    "df.columns = ['location','doses']"
   ]
  },
  {
   "cell_type": "markdown",
   "metadata": {},
   "source": [
    "Grab the overall California total"
   ]
  },
  {
   "cell_type": "code",
   "execution_count": 11,
   "metadata": {
    "execution": {
     "iopub.execute_input": "2021-03-20T23:13:12.030042Z",
     "iopub.status.busy": "2021-03-20T23:13:12.028645Z",
     "iopub.status.idle": "2021-03-20T23:13:12.030758Z",
     "shell.execute_reply": "2021-03-20T23:13:12.031230Z"
    }
   },
   "outputs": [],
   "source": [
    "add = {'location':'California','doses':dataJson[0]['dataValues'][2]}"
   ]
  },
  {
   "cell_type": "code",
   "execution_count": 12,
   "metadata": {
    "execution": {
     "iopub.execute_input": "2021-03-20T23:13:12.037805Z",
     "iopub.status.busy": "2021-03-20T23:13:12.036963Z",
     "iopub.status.idle": "2021-03-20T23:13:12.038987Z",
     "shell.execute_reply": "2021-03-20T23:13:12.038617Z"
    }
   },
   "outputs": [],
   "source": [
    "df = df.append(add, ignore_index=True)"
   ]
  },
  {
   "cell_type": "code",
   "execution_count": 13,
   "metadata": {
    "execution": {
     "iopub.execute_input": "2021-03-20T23:13:12.043272Z",
     "iopub.status.busy": "2021-03-20T23:13:12.042434Z",
     "iopub.status.idle": "2021-03-20T23:13:12.044097Z",
     "shell.execute_reply": "2021-03-20T23:13:12.044472Z"
    }
   },
   "outputs": [],
   "source": [
    "df = df.sort_values(by='location')"
   ]
  },
  {
   "cell_type": "code",
   "execution_count": 14,
   "metadata": {
    "execution": {
     "iopub.execute_input": "2021-03-20T23:13:12.051260Z",
     "iopub.status.busy": "2021-03-20T23:13:12.050297Z",
     "iopub.status.idle": "2021-03-20T23:13:12.052129Z",
     "shell.execute_reply": "2021-03-20T23:13:12.052523Z"
    }
   },
   "outputs": [],
   "source": [
    "df = df[df.location == 'California'].append(df[df.location != 'California']).reset_index(drop=True)"
   ]
  },
  {
   "cell_type": "code",
   "execution_count": null,
   "metadata": {},
   "outputs": [],
   "source": []
  },
  {
   "cell_type": "code",
   "execution_count": 15,
   "metadata": {
    "execution": {
     "iopub.execute_input": "2021-03-20T23:13:12.055252Z",
     "iopub.status.busy": "2021-03-20T23:13:12.054815Z",
     "iopub.status.idle": "2021-03-20T23:13:12.074950Z",
     "shell.execute_reply": "2021-03-20T23:13:12.074310Z"
    }
   },
   "outputs": [],
   "source": [
    "tz = pytz.timezone(\"America/New_York\")"
   ]
  },
  {
   "cell_type": "code",
   "execution_count": 16,
   "metadata": {
    "execution": {
     "iopub.execute_input": "2021-03-20T23:13:12.079906Z",
     "iopub.status.busy": "2021-03-20T23:13:12.078516Z",
     "iopub.status.idle": "2021-03-20T23:13:12.080540Z",
     "shell.execute_reply": "2021-03-20T23:13:12.080998Z"
    }
   },
   "outputs": [],
   "source": [
    "today = datetime.now(tz).date()"
   ]
  },
  {
   "cell_type": "code",
   "execution_count": 17,
   "metadata": {
    "execution": {
     "iopub.execute_input": "2021-03-20T23:13:12.085594Z",
     "iopub.status.busy": "2021-03-20T23:13:12.084077Z",
     "iopub.status.idle": "2021-03-20T23:13:12.086372Z",
     "shell.execute_reply": "2021-03-20T23:13:12.086897Z"
    }
   },
   "outputs": [],
   "source": [
    "data_dir = os.path.join(os.path.abspath(\"\"), \"data\")"
   ]
  },
  {
   "cell_type": "code",
   "execution_count": 18,
   "metadata": {
    "execution": {
     "iopub.execute_input": "2021-03-20T23:13:12.091498Z",
     "iopub.status.busy": "2021-03-20T23:13:12.090910Z",
     "iopub.status.idle": "2021-03-20T23:13:12.095430Z",
     "shell.execute_reply": "2021-03-20T23:13:12.094998Z"
    }
   },
   "outputs": [],
   "source": [
    "df.to_csv(os.path.join(data_dir, f\"{today}.csv\"), index=False)"
   ]
  },
  {
   "cell_type": "code",
   "execution_count": null,
   "metadata": {},
   "outputs": [],
   "source": []
  }
 ],
 "metadata": {
  "kernelspec": {
   "display_name": "Python 3",
   "language": "python",
   "name": "python3"
  },
  "language_info": {
   "codemirror_mode": {
    "name": "ipython",
    "version": 3
   },
   "file_extension": ".py",
   "mimetype": "text/x-python",
   "name": "python",
   "nbconvert_exporter": "python",
   "pygments_lexer": "ipython3",
   "version": "3.8.8"
  }
 },
 "nbformat": 4,
 "nbformat_minor": 4
}
