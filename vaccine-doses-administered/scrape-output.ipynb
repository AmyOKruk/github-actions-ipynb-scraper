{
 "cells": [
  {
   "cell_type": "markdown",
   "metadata": {},
   "source": [
    "# California COVID vaccinations scrape"
   ]
  },
  {
   "cell_type": "markdown",
   "metadata": {},
   "source": [
    "By [Amy O'Kruk](https://twitter.com/amyokruk)"
   ]
  },
  {
   "cell_type": "markdown",
   "metadata": {},
   "source": [
    "Downloads data on vaccine doses administered by county and statewide from a Tableau-powered dashboard from the California Department of Public Health."
   ]
  },
  {
   "cell_type": "code",
   "execution_count": 1,
   "metadata": {
    "execution": {
     "iopub.execute_input": "2021-03-10T09:44:02.876149Z",
     "iopub.status.busy": "2021-03-10T09:44:02.875390Z",
     "iopub.status.idle": "2021-03-10T09:44:03.304504Z",
     "shell.execute_reply": "2021-03-10T09:44:03.305027Z"
    }
   },
   "outputs": [],
   "source": [
    "import pandas as pd\n",
    "import requests\n",
    "from bs4 import BeautifulSoup\n",
    "import json\n",
    "import re\n",
    "import time\n",
    "from time import gmtime, strftime \n",
    "import os\n",
    "import pytz\n",
    "from datetime import datetime"
   ]
  },
  {
   "cell_type": "markdown",
   "metadata": {},
   "source": [
    "Scrape the dashboard page"
   ]
  },
  {
   "cell_type": "code",
   "execution_count": 2,
   "metadata": {
    "execution": {
     "iopub.execute_input": "2021-03-10T09:44:03.313255Z",
     "iopub.status.busy": "2021-03-10T09:44:03.310110Z",
     "iopub.status.idle": "2021-03-10T09:44:03.637789Z",
     "shell.execute_reply": "2021-03-10T09:44:03.636770Z"
    }
   },
   "outputs": [],
   "source": [
    "url = \"https://public.tableau.com/interactive/views/COVID-19VaccineDashboardPublic/Vaccine?:embed=y&:showVizHome=n&:apiID=host0\"\n",
    "\n",
    "r = requests.get(url)\n",
    "soup = BeautifulSoup(r.text, \"html.parser\")"
   ]
  },
  {
   "cell_type": "code",
   "execution_count": 3,
   "metadata": {
    "execution": {
     "iopub.execute_input": "2021-03-10T09:44:03.642883Z",
     "iopub.status.busy": "2021-03-10T09:44:03.642300Z",
     "iopub.status.idle": "2021-03-10T09:44:03.645665Z",
     "shell.execute_reply": "2021-03-10T09:44:03.646077Z"
    }
   },
   "outputs": [],
   "source": [
    "tableauData = json.loads(soup.find(\"textarea\",{\"id\": \"tsConfigContainer\"}).text)"
   ]
  },
  {
   "cell_type": "markdown",
   "metadata": {},
   "source": [
    "Get the link to the Tableau data"
   ]
  },
  {
   "cell_type": "code",
   "execution_count": 4,
   "metadata": {
    "execution": {
     "iopub.execute_input": "2021-03-10T09:44:03.650053Z",
     "iopub.status.busy": "2021-03-10T09:44:03.649281Z",
     "iopub.status.idle": "2021-03-10T09:44:03.654133Z",
     "shell.execute_reply": "2021-03-10T09:44:03.653627Z"
    }
   },
   "outputs": [],
   "source": [
    "dataUrl = f'https://public.tableau.com{tableauData[\"vizql_root\"]}/bootstrapSession/sessions/{tableauData[\"sessionid\"]}'"
   ]
  },
  {
   "cell_type": "code",
   "execution_count": 5,
   "metadata": {
    "execution": {
     "iopub.execute_input": "2021-03-10T09:44:03.661225Z",
     "iopub.status.busy": "2021-03-10T09:44:03.660659Z",
     "iopub.status.idle": "2021-03-10T09:44:04.183724Z",
     "shell.execute_reply": "2021-03-10T09:44:04.182435Z"
    }
   },
   "outputs": [],
   "source": [
    "r = requests.post(dataUrl, data= {\n",
    "    \"sheet_id\": tableauData[\"sheetId\"],\n",
    "})\n",
    "\n",
    "dataReg = re.search('\\d+;({.*})\\d+;({.*})', r.text, re.MULTILINE)\n",
    "data1 = json.loads(dataReg.group(2))\n",
    "\n",
    "dataJson = data1[\"secondaryInfo\"][\"presModelMap\"][\"dataDictionary\"][\"presModelHolder\"][\"genDataDictionaryPresModel\"][\"dataSegments\"][\"0\"][\"dataColumns\"]"
   ]
  },
  {
   "cell_type": "markdown",
   "metadata": {},
   "source": [
    "Isolate what you want"
   ]
  },
  {
   "cell_type": "code",
   "execution_count": 6,
   "metadata": {
    "execution": {
     "iopub.execute_input": "2021-03-10T09:44:04.188185Z",
     "iopub.status.busy": "2021-03-10T09:44:04.187511Z",
     "iopub.status.idle": "2021-03-10T09:44:04.191364Z",
     "shell.execute_reply": "2021-03-10T09:44:04.190432Z"
    }
   },
   "outputs": [],
   "source": [
    "counties = dataJson[2]['dataValues'][:58]"
   ]
  },
  {
   "cell_type": "code",
   "execution_count": 7,
   "metadata": {
    "execution": {
     "iopub.execute_input": "2021-03-10T09:44:04.195522Z",
     "iopub.status.busy": "2021-03-10T09:44:04.194898Z",
     "iopub.status.idle": "2021-03-10T09:44:04.199109Z",
     "shell.execute_reply": "2021-03-10T09:44:04.198498Z"
    }
   },
   "outputs": [],
   "source": [
    "doses = dataJson[0]['dataValues'][3:61]"
   ]
  },
  {
   "cell_type": "markdown",
   "metadata": {},
   "source": [
    "Data formatting"
   ]
  },
  {
   "cell_type": "code",
   "execution_count": 8,
   "metadata": {
    "execution": {
     "iopub.execute_input": "2021-03-10T09:44:04.203136Z",
     "iopub.status.busy": "2021-03-10T09:44:04.202547Z",
     "iopub.status.idle": "2021-03-10T09:44:04.206583Z",
     "shell.execute_reply": "2021-03-10T09:44:04.206051Z"
    }
   },
   "outputs": [],
   "source": [
    "zipped = dict(zip(counties, doses))"
   ]
  },
  {
   "cell_type": "code",
   "execution_count": 9,
   "metadata": {
    "execution": {
     "iopub.execute_input": "2021-03-10T09:44:04.213713Z",
     "iopub.status.busy": "2021-03-10T09:44:04.213013Z",
     "iopub.status.idle": "2021-03-10T09:44:04.217314Z",
     "shell.execute_reply": "2021-03-10T09:44:04.216764Z"
    }
   },
   "outputs": [],
   "source": [
    "df = pd.Series(zipped).reset_index()"
   ]
  },
  {
   "cell_type": "code",
   "execution_count": 10,
   "metadata": {
    "execution": {
     "iopub.execute_input": "2021-03-10T09:44:04.221812Z",
     "iopub.status.busy": "2021-03-10T09:44:04.221237Z",
     "iopub.status.idle": "2021-03-10T09:44:04.225213Z",
     "shell.execute_reply": "2021-03-10T09:44:04.224701Z"
    }
   },
   "outputs": [],
   "source": [
    "df.columns = ['location','doses']"
   ]
  },
  {
   "cell_type": "markdown",
   "metadata": {},
   "source": [
    "Grab the overall California total"
   ]
  },
  {
   "cell_type": "code",
   "execution_count": 11,
   "metadata": {
    "execution": {
     "iopub.execute_input": "2021-03-10T09:44:04.229666Z",
     "iopub.status.busy": "2021-03-10T09:44:04.229096Z",
     "iopub.status.idle": "2021-03-10T09:44:04.233180Z",
     "shell.execute_reply": "2021-03-10T09:44:04.232623Z"
    }
   },
   "outputs": [],
   "source": [
    "add = {'location':'California','doses':dataJson[0]['dataValues'][2]}"
   ]
  },
  {
   "cell_type": "code",
   "execution_count": 12,
   "metadata": {
    "execution": {
     "iopub.execute_input": "2021-03-10T09:44:04.240721Z",
     "iopub.status.busy": "2021-03-10T09:44:04.240122Z",
     "iopub.status.idle": "2021-03-10T09:44:04.244234Z",
     "shell.execute_reply": "2021-03-10T09:44:04.243704Z"
    }
   },
   "outputs": [],
   "source": [
    "df = df.append(add, ignore_index=True)"
   ]
  },
  {
   "cell_type": "code",
   "execution_count": 13,
   "metadata": {
    "execution": {
     "iopub.execute_input": "2021-03-10T09:44:04.249006Z",
     "iopub.status.busy": "2021-03-10T09:44:04.248416Z",
     "iopub.status.idle": "2021-03-10T09:44:04.252474Z",
     "shell.execute_reply": "2021-03-10T09:44:04.251929Z"
    }
   },
   "outputs": [],
   "source": [
    "df = df.sort_values(by='location')"
   ]
  },
  {
   "cell_type": "code",
   "execution_count": 14,
   "metadata": {
    "execution": {
     "iopub.execute_input": "2021-03-10T09:44:04.258709Z",
     "iopub.status.busy": "2021-03-10T09:44:04.258182Z",
     "iopub.status.idle": "2021-03-10T09:44:04.262783Z",
     "shell.execute_reply": "2021-03-10T09:44:04.261765Z"
    }
   },
   "outputs": [],
   "source": [
    "df = df[df.location == 'California'].append(df[df.location != 'California']).reset_index(drop=True)"
   ]
  },
  {
   "cell_type": "code",
   "execution_count": null,
   "metadata": {},
   "outputs": [],
   "source": []
  },
  {
   "cell_type": "code",
   "execution_count": 15,
   "metadata": {
    "execution": {
     "iopub.execute_input": "2021-03-10T09:44:04.266752Z",
     "iopub.status.busy": "2021-03-10T09:44:04.266161Z",
     "iopub.status.idle": "2021-03-10T09:44:04.288248Z",
     "shell.execute_reply": "2021-03-10T09:44:04.287704Z"
    }
   },
   "outputs": [],
   "source": [
    "tz = pytz.timezone(\"America/New_York\")"
   ]
  },
  {
   "cell_type": "code",
   "execution_count": 16,
   "metadata": {
    "execution": {
     "iopub.execute_input": "2021-03-10T09:44:04.292885Z",
     "iopub.status.busy": "2021-03-10T09:44:04.291788Z",
     "iopub.status.idle": "2021-03-10T09:44:04.296391Z",
     "shell.execute_reply": "2021-03-10T09:44:04.295844Z"
    }
   },
   "outputs": [],
   "source": [
    "today = datetime.now(tz).date()"
   ]
  },
  {
   "cell_type": "code",
   "execution_count": 17,
   "metadata": {
    "execution": {
     "iopub.execute_input": "2021-03-10T09:44:04.300843Z",
     "iopub.status.busy": "2021-03-10T09:44:04.299736Z",
     "iopub.status.idle": "2021-03-10T09:44:04.304378Z",
     "shell.execute_reply": "2021-03-10T09:44:04.303768Z"
    }
   },
   "outputs": [],
   "source": [
    "data_dir = os.path.join(os.path.abspath(\"\"), \"data\")"
   ]
  },
  {
   "cell_type": "code",
   "execution_count": 18,
   "metadata": {
    "execution": {
     "iopub.execute_input": "2021-03-10T09:44:04.309636Z",
     "iopub.status.busy": "2021-03-10T09:44:04.308981Z",
     "iopub.status.idle": "2021-03-10T09:44:04.315809Z",
     "shell.execute_reply": "2021-03-10T09:44:04.314971Z"
    }
   },
   "outputs": [],
   "source": [
    "df.to_csv(os.path.join(data_dir, f\"{today}.csv\"), index=False)"
   ]
  },
  {
   "cell_type": "code",
   "execution_count": null,
   "metadata": {},
   "outputs": [],
   "source": []
  }
 ],
 "metadata": {
  "kernelspec": {
   "display_name": "Python 3",
   "language": "python",
   "name": "python3"
  },
  "language_info": {
   "codemirror_mode": {
    "name": "ipython",
    "version": 3
   },
   "file_extension": ".py",
   "mimetype": "text/x-python",
   "name": "python",
   "nbconvert_exporter": "python",
   "pygments_lexer": "ipython3",
   "version": "3.8.8"
  }
 },
 "nbformat": 4,
 "nbformat_minor": 4
}
