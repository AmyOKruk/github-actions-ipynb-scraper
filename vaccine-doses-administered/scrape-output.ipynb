{
 "cells": [
  {
   "cell_type": "markdown",
   "metadata": {},
   "source": [
    "# California COVID vaccinations scrape"
   ]
  },
  {
   "cell_type": "markdown",
   "metadata": {},
   "source": [
    "By [Amy O'Kruk](https://twitter.com/amyokruk)"
   ]
  },
  {
   "cell_type": "markdown",
   "metadata": {},
   "source": [
    "Downloads data on vaccine doses administered by county and statewide from a Tableau-powered dashboard from the California Department of Public Health."
   ]
  },
  {
   "cell_type": "code",
   "execution_count": 1,
   "metadata": {
    "execution": {
     "iopub.execute_input": "2021-03-13T02:54:08.831061Z",
     "iopub.status.busy": "2021-03-13T02:54:08.830455Z",
     "iopub.status.idle": "2021-03-13T02:54:09.205058Z",
     "shell.execute_reply": "2021-03-13T02:54:09.204016Z"
    }
   },
   "outputs": [],
   "source": [
    "import pandas as pd\n",
    "import requests\n",
    "from bs4 import BeautifulSoup\n",
    "import json\n",
    "import re\n",
    "import time\n",
    "from time import gmtime, strftime \n",
    "import os\n",
    "import pytz\n",
    "from datetime import datetime"
   ]
  },
  {
   "cell_type": "markdown",
   "metadata": {},
   "source": [
    "Scrape the dashboard page"
   ]
  },
  {
   "cell_type": "code",
   "execution_count": 2,
   "metadata": {
    "execution": {
     "iopub.execute_input": "2021-03-13T02:54:09.212340Z",
     "iopub.status.busy": "2021-03-13T02:54:09.211558Z",
     "iopub.status.idle": "2021-03-13T02:54:09.766821Z",
     "shell.execute_reply": "2021-03-13T02:54:09.766215Z"
    }
   },
   "outputs": [],
   "source": [
    "url = \"https://public.tableau.com/interactive/views/COVID-19VaccineDashboardPublic/Vaccine?:embed=y&:showVizHome=n&:apiID=host0\"\n",
    "\n",
    "r = requests.get(url)\n",
    "soup = BeautifulSoup(r.text, \"html.parser\")"
   ]
  },
  {
   "cell_type": "code",
   "execution_count": 3,
   "metadata": {
    "execution": {
     "iopub.execute_input": "2021-03-13T02:54:09.771814Z",
     "iopub.status.busy": "2021-03-13T02:54:09.771199Z",
     "iopub.status.idle": "2021-03-13T02:54:09.774827Z",
     "shell.execute_reply": "2021-03-13T02:54:09.774132Z"
    }
   },
   "outputs": [],
   "source": [
    "tableauData = json.loads(soup.find(\"textarea\",{\"id\": \"tsConfigContainer\"}).text)"
   ]
  },
  {
   "cell_type": "markdown",
   "metadata": {},
   "source": [
    "Get the link to the Tableau data"
   ]
  },
  {
   "cell_type": "code",
   "execution_count": 4,
   "metadata": {
    "execution": {
     "iopub.execute_input": "2021-03-13T02:54:09.779141Z",
     "iopub.status.busy": "2021-03-13T02:54:09.777815Z",
     "iopub.status.idle": "2021-03-13T02:54:09.779773Z",
     "shell.execute_reply": "2021-03-13T02:54:09.780234Z"
    }
   },
   "outputs": [],
   "source": [
    "dataUrl = f'https://public.tableau.com{tableauData[\"vizql_root\"]}/bootstrapSession/sessions/{tableauData[\"sessionid\"]}'"
   ]
  },
  {
   "cell_type": "code",
   "execution_count": 5,
   "metadata": {
    "execution": {
     "iopub.execute_input": "2021-03-13T02:54:09.786836Z",
     "iopub.status.busy": "2021-03-13T02:54:09.786311Z",
     "iopub.status.idle": "2021-03-13T02:54:10.028467Z",
     "shell.execute_reply": "2021-03-13T02:54:10.027954Z"
    }
   },
   "outputs": [],
   "source": [
    "r = requests.post(dataUrl, data= {\n",
    "    \"sheet_id\": tableauData[\"sheetId\"],\n",
    "})\n",
    "\n",
    "dataReg = re.search('\\d+;({.*})\\d+;({.*})', r.text, re.MULTILINE)\n",
    "data1 = json.loads(dataReg.group(2))\n",
    "\n",
    "dataJson = data1[\"secondaryInfo\"][\"presModelMap\"][\"dataDictionary\"][\"presModelHolder\"][\"genDataDictionaryPresModel\"][\"dataSegments\"][\"0\"][\"dataColumns\"]"
   ]
  },
  {
   "cell_type": "markdown",
   "metadata": {},
   "source": [
    "Isolate what you want"
   ]
  },
  {
   "cell_type": "code",
   "execution_count": 6,
   "metadata": {
    "execution": {
     "iopub.execute_input": "2021-03-13T02:54:10.033260Z",
     "iopub.status.busy": "2021-03-13T02:54:10.031990Z",
     "iopub.status.idle": "2021-03-13T02:54:10.033859Z",
     "shell.execute_reply": "2021-03-13T02:54:10.034290Z"
    }
   },
   "outputs": [],
   "source": [
    "counties = dataJson[2]['dataValues'][:58]"
   ]
  },
  {
   "cell_type": "code",
   "execution_count": 7,
   "metadata": {
    "execution": {
     "iopub.execute_input": "2021-03-13T02:54:10.038828Z",
     "iopub.status.busy": "2021-03-13T02:54:10.037618Z",
     "iopub.status.idle": "2021-03-13T02:54:10.039450Z",
     "shell.execute_reply": "2021-03-13T02:54:10.039896Z"
    }
   },
   "outputs": [],
   "source": [
    "doses = dataJson[0]['dataValues'][3:61]"
   ]
  },
  {
   "cell_type": "markdown",
   "metadata": {},
   "source": [
    "Data formatting"
   ]
  },
  {
   "cell_type": "code",
   "execution_count": 8,
   "metadata": {
    "execution": {
     "iopub.execute_input": "2021-03-13T02:54:10.044236Z",
     "iopub.status.busy": "2021-03-13T02:54:10.042991Z",
     "iopub.status.idle": "2021-03-13T02:54:10.045009Z",
     "shell.execute_reply": "2021-03-13T02:54:10.045460Z"
    }
   },
   "outputs": [],
   "source": [
    "zipped = dict(zip(counties, doses))"
   ]
  },
  {
   "cell_type": "code",
   "execution_count": 9,
   "metadata": {
    "execution": {
     "iopub.execute_input": "2021-03-13T02:54:10.052243Z",
     "iopub.status.busy": "2021-03-13T02:54:10.050931Z",
     "iopub.status.idle": "2021-03-13T02:54:10.052858Z",
     "shell.execute_reply": "2021-03-13T02:54:10.053293Z"
    }
   },
   "outputs": [],
   "source": [
    "df = pd.Series(zipped).reset_index()"
   ]
  },
  {
   "cell_type": "code",
   "execution_count": 10,
   "metadata": {
    "execution": {
     "iopub.execute_input": "2021-03-13T02:54:10.057970Z",
     "iopub.status.busy": "2021-03-13T02:54:10.056802Z",
     "iopub.status.idle": "2021-03-13T02:54:10.058647Z",
     "shell.execute_reply": "2021-03-13T02:54:10.059081Z"
    }
   },
   "outputs": [],
   "source": [
    "df.columns = ['location','doses']"
   ]
  },
  {
   "cell_type": "markdown",
   "metadata": {},
   "source": [
    "Grab the overall California total"
   ]
  },
  {
   "cell_type": "code",
   "execution_count": 11,
   "metadata": {
    "execution": {
     "iopub.execute_input": "2021-03-13T02:54:10.063678Z",
     "iopub.status.busy": "2021-03-13T02:54:10.062413Z",
     "iopub.status.idle": "2021-03-13T02:54:10.064272Z",
     "shell.execute_reply": "2021-03-13T02:54:10.064758Z"
    }
   },
   "outputs": [],
   "source": [
    "add = {'location':'California','doses':dataJson[0]['dataValues'][2]}"
   ]
  },
  {
   "cell_type": "code",
   "execution_count": 12,
   "metadata": {
    "execution": {
     "iopub.execute_input": "2021-03-13T02:54:10.071969Z",
     "iopub.status.busy": "2021-03-13T02:54:10.070811Z",
     "iopub.status.idle": "2021-03-13T02:54:10.072560Z",
     "shell.execute_reply": "2021-03-13T02:54:10.072988Z"
    }
   },
   "outputs": [],
   "source": [
    "df = df.append(add, ignore_index=True)"
   ]
  },
  {
   "cell_type": "code",
   "execution_count": 13,
   "metadata": {
    "execution": {
     "iopub.execute_input": "2021-03-13T02:54:10.078027Z",
     "iopub.status.busy": "2021-03-13T02:54:10.077127Z",
     "iopub.status.idle": "2021-03-13T02:54:10.078961Z",
     "shell.execute_reply": "2021-03-13T02:54:10.079403Z"
    }
   },
   "outputs": [],
   "source": [
    "df = df.sort_values(by='location')"
   ]
  },
  {
   "cell_type": "code",
   "execution_count": 14,
   "metadata": {
    "execution": {
     "iopub.execute_input": "2021-03-13T02:54:10.085788Z",
     "iopub.status.busy": "2021-03-13T02:54:10.084581Z",
     "iopub.status.idle": "2021-03-13T02:54:10.086480Z",
     "shell.execute_reply": "2021-03-13T02:54:10.086912Z"
    }
   },
   "outputs": [],
   "source": [
    "df = df[df.location == 'California'].append(df[df.location != 'California']).reset_index(drop=True)"
   ]
  },
  {
   "cell_type": "code",
   "execution_count": null,
   "metadata": {},
   "outputs": [],
   "source": []
  },
  {
   "cell_type": "code",
   "execution_count": 15,
   "metadata": {
    "execution": {
     "iopub.execute_input": "2021-03-13T02:54:10.090154Z",
     "iopub.status.busy": "2021-03-13T02:54:10.089644Z",
     "iopub.status.idle": "2021-03-13T02:54:10.106840Z",
     "shell.execute_reply": "2021-03-13T02:54:10.106386Z"
    }
   },
   "outputs": [],
   "source": [
    "tz = pytz.timezone(\"America/New_York\")"
   ]
  },
  {
   "cell_type": "code",
   "execution_count": 16,
   "metadata": {
    "execution": {
     "iopub.execute_input": "2021-03-13T02:54:10.111126Z",
     "iopub.status.busy": "2021-03-13T02:54:10.109887Z",
     "iopub.status.idle": "2021-03-13T02:54:10.111789Z",
     "shell.execute_reply": "2021-03-13T02:54:10.112233Z"
    }
   },
   "outputs": [],
   "source": [
    "today = datetime.now(tz).date()"
   ]
  },
  {
   "cell_type": "code",
   "execution_count": 17,
   "metadata": {
    "execution": {
     "iopub.execute_input": "2021-03-13T02:54:10.116153Z",
     "iopub.status.busy": "2021-03-13T02:54:10.115220Z",
     "iopub.status.idle": "2021-03-13T02:54:10.117507Z",
     "shell.execute_reply": "2021-03-13T02:54:10.117071Z"
    }
   },
   "outputs": [],
   "source": [
    "data_dir = os.path.join(os.path.abspath(\"\"), \"data\")"
   ]
  },
  {
   "cell_type": "code",
   "execution_count": 18,
   "metadata": {
    "execution": {
     "iopub.execute_input": "2021-03-13T02:54:10.121481Z",
     "iopub.status.busy": "2021-03-13T02:54:10.120754Z",
     "iopub.status.idle": "2021-03-13T02:54:10.125232Z",
     "shell.execute_reply": "2021-03-13T02:54:10.124792Z"
    }
   },
   "outputs": [],
   "source": [
    "df.to_csv(os.path.join(data_dir, f\"{today}.csv\"), index=False)"
   ]
  },
  {
   "cell_type": "code",
   "execution_count": null,
   "metadata": {},
   "outputs": [],
   "source": []
  }
 ],
 "metadata": {
  "kernelspec": {
   "display_name": "Python 3",
   "language": "python",
   "name": "python3"
  },
  "language_info": {
   "codemirror_mode": {
    "name": "ipython",
    "version": 3
   },
   "file_extension": ".py",
   "mimetype": "text/x-python",
   "name": "python",
   "nbconvert_exporter": "python",
   "pygments_lexer": "ipython3",
   "version": "3.8.8"
  }
 },
 "nbformat": 4,
 "nbformat_minor": 4
}
