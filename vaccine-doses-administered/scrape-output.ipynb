{
 "cells": [
  {
   "cell_type": "markdown",
   "metadata": {},
   "source": [
    "# California COVID vaccinations scrape"
   ]
  },
  {
   "cell_type": "markdown",
   "metadata": {},
   "source": [
    "By [Amy O'Kruk](https://twitter.com/amyokruk)"
   ]
  },
  {
   "cell_type": "markdown",
   "metadata": {},
   "source": [
    "Downloads data on vaccine doses administered by county and statewide from a Tableau-powered dashboard from the California Department of Public Health."
   ]
  },
  {
   "cell_type": "code",
   "execution_count": 1,
   "metadata": {
    "execution": {
     "iopub.execute_input": "2021-03-14T20:40:09.720504Z",
     "iopub.status.busy": "2021-03-14T20:40:09.719308Z",
     "iopub.status.idle": "2021-03-14T20:40:10.102150Z",
     "shell.execute_reply": "2021-03-14T20:40:10.101452Z"
    }
   },
   "outputs": [],
   "source": [
    "import pandas as pd\n",
    "import requests\n",
    "from bs4 import BeautifulSoup\n",
    "import json\n",
    "import re\n",
    "import time\n",
    "from time import gmtime, strftime \n",
    "import os\n",
    "import pytz\n",
    "from datetime import datetime"
   ]
  },
  {
   "cell_type": "markdown",
   "metadata": {},
   "source": [
    "Scrape the dashboard page"
   ]
  },
  {
   "cell_type": "code",
   "execution_count": 2,
   "metadata": {
    "execution": {
     "iopub.execute_input": "2021-03-14T20:40:10.109085Z",
     "iopub.status.busy": "2021-03-14T20:40:10.106278Z",
     "iopub.status.idle": "2021-03-14T20:40:10.558182Z",
     "shell.execute_reply": "2021-03-14T20:40:10.558624Z"
    }
   },
   "outputs": [],
   "source": [
    "url = \"https://public.tableau.com/interactive/views/COVID-19VaccineDashboardPublic/Vaccine?:embed=y&:showVizHome=n&:apiID=host0\"\n",
    "\n",
    "r = requests.get(url)\n",
    "soup = BeautifulSoup(r.text, \"html.parser\")"
   ]
  },
  {
   "cell_type": "code",
   "execution_count": 3,
   "metadata": {
    "execution": {
     "iopub.execute_input": "2021-03-14T20:40:10.564367Z",
     "iopub.status.busy": "2021-03-14T20:40:10.563164Z",
     "iopub.status.idle": "2021-03-14T20:40:10.564966Z",
     "shell.execute_reply": "2021-03-14T20:40:10.565395Z"
    }
   },
   "outputs": [],
   "source": [
    "tableauData = json.loads(soup.find(\"textarea\",{\"id\": \"tsConfigContainer\"}).text)"
   ]
  },
  {
   "cell_type": "markdown",
   "metadata": {},
   "source": [
    "Get the link to the Tableau data"
   ]
  },
  {
   "cell_type": "code",
   "execution_count": 4,
   "metadata": {
    "execution": {
     "iopub.execute_input": "2021-03-14T20:40:10.570073Z",
     "iopub.status.busy": "2021-03-14T20:40:10.568800Z",
     "iopub.status.idle": "2021-03-14T20:40:10.570685Z",
     "shell.execute_reply": "2021-03-14T20:40:10.571113Z"
    }
   },
   "outputs": [],
   "source": [
    "dataUrl = f'https://public.tableau.com{tableauData[\"vizql_root\"]}/bootstrapSession/sessions/{tableauData[\"sessionid\"]}'"
   ]
  },
  {
   "cell_type": "code",
   "execution_count": 5,
   "metadata": {
    "execution": {
     "iopub.execute_input": "2021-03-14T20:40:10.577736Z",
     "iopub.status.busy": "2021-03-14T20:40:10.577205Z",
     "iopub.status.idle": "2021-03-14T20:40:11.366485Z",
     "shell.execute_reply": "2021-03-14T20:40:11.365987Z"
    }
   },
   "outputs": [],
   "source": [
    "r = requests.post(dataUrl, data= {\n",
    "    \"sheet_id\": tableauData[\"sheetId\"],\n",
    "})\n",
    "\n",
    "dataReg = re.search('\\d+;({.*})\\d+;({.*})', r.text, re.MULTILINE)\n",
    "data1 = json.loads(dataReg.group(2))\n",
    "\n",
    "dataJson = data1[\"secondaryInfo\"][\"presModelMap\"][\"dataDictionary\"][\"presModelHolder\"][\"genDataDictionaryPresModel\"][\"dataSegments\"][\"0\"][\"dataColumns\"]"
   ]
  },
  {
   "cell_type": "markdown",
   "metadata": {},
   "source": [
    "Isolate what you want"
   ]
  },
  {
   "cell_type": "code",
   "execution_count": 6,
   "metadata": {
    "execution": {
     "iopub.execute_input": "2021-03-14T20:40:11.371284Z",
     "iopub.status.busy": "2021-03-14T20:40:11.370048Z",
     "iopub.status.idle": "2021-03-14T20:40:11.371917Z",
     "shell.execute_reply": "2021-03-14T20:40:11.372353Z"
    }
   },
   "outputs": [],
   "source": [
    "counties = dataJson[2]['dataValues'][:58]"
   ]
  },
  {
   "cell_type": "code",
   "execution_count": 7,
   "metadata": {
    "execution": {
     "iopub.execute_input": "2021-03-14T20:40:11.376619Z",
     "iopub.status.busy": "2021-03-14T20:40:11.375465Z",
     "iopub.status.idle": "2021-03-14T20:40:11.377216Z",
     "shell.execute_reply": "2021-03-14T20:40:11.377641Z"
    }
   },
   "outputs": [],
   "source": [
    "doses = dataJson[0]['dataValues'][3:61]"
   ]
  },
  {
   "cell_type": "markdown",
   "metadata": {},
   "source": [
    "Data formatting"
   ]
  },
  {
   "cell_type": "code",
   "execution_count": 8,
   "metadata": {
    "execution": {
     "iopub.execute_input": "2021-03-14T20:40:11.382096Z",
     "iopub.status.busy": "2021-03-14T20:40:11.380850Z",
     "iopub.status.idle": "2021-03-14T20:40:11.382699Z",
     "shell.execute_reply": "2021-03-14T20:40:11.383129Z"
    }
   },
   "outputs": [],
   "source": [
    "zipped = dict(zip(counties, doses))"
   ]
  },
  {
   "cell_type": "code",
   "execution_count": 9,
   "metadata": {
    "execution": {
     "iopub.execute_input": "2021-03-14T20:40:11.389688Z",
     "iopub.status.busy": "2021-03-14T20:40:11.388553Z",
     "iopub.status.idle": "2021-03-14T20:40:11.390286Z",
     "shell.execute_reply": "2021-03-14T20:40:11.390713Z"
    }
   },
   "outputs": [],
   "source": [
    "df = pd.Series(zipped).reset_index()"
   ]
  },
  {
   "cell_type": "code",
   "execution_count": 10,
   "metadata": {
    "execution": {
     "iopub.execute_input": "2021-03-14T20:40:11.395258Z",
     "iopub.status.busy": "2021-03-14T20:40:11.393950Z",
     "iopub.status.idle": "2021-03-14T20:40:11.395891Z",
     "shell.execute_reply": "2021-03-14T20:40:11.396327Z"
    }
   },
   "outputs": [],
   "source": [
    "df.columns = ['location','doses']"
   ]
  },
  {
   "cell_type": "markdown",
   "metadata": {},
   "source": [
    "Grab the overall California total"
   ]
  },
  {
   "cell_type": "code",
   "execution_count": 11,
   "metadata": {
    "execution": {
     "iopub.execute_input": "2021-03-14T20:40:11.400590Z",
     "iopub.status.busy": "2021-03-14T20:40:11.399384Z",
     "iopub.status.idle": "2021-03-14T20:40:11.401188Z",
     "shell.execute_reply": "2021-03-14T20:40:11.401613Z"
    }
   },
   "outputs": [],
   "source": [
    "add = {'location':'California','doses':dataJson[0]['dataValues'][2]}"
   ]
  },
  {
   "cell_type": "code",
   "execution_count": 12,
   "metadata": {
    "execution": {
     "iopub.execute_input": "2021-03-14T20:40:11.410421Z",
     "iopub.status.busy": "2021-03-14T20:40:11.409040Z",
     "iopub.status.idle": "2021-03-14T20:40:11.411012Z",
     "shell.execute_reply": "2021-03-14T20:40:11.411437Z"
    }
   },
   "outputs": [],
   "source": [
    "df = df.append(add, ignore_index=True)"
   ]
  },
  {
   "cell_type": "code",
   "execution_count": 13,
   "metadata": {
    "execution": {
     "iopub.execute_input": "2021-03-14T20:40:11.416486Z",
     "iopub.status.busy": "2021-03-14T20:40:11.415291Z",
     "iopub.status.idle": "2021-03-14T20:40:11.417090Z",
     "shell.execute_reply": "2021-03-14T20:40:11.417520Z"
    }
   },
   "outputs": [],
   "source": [
    "df = df.sort_values(by='location')"
   ]
  },
  {
   "cell_type": "code",
   "execution_count": 14,
   "metadata": {
    "execution": {
     "iopub.execute_input": "2021-03-14T20:40:11.424746Z",
     "iopub.status.busy": "2021-03-14T20:40:11.423466Z",
     "iopub.status.idle": "2021-03-14T20:40:11.425432Z",
     "shell.execute_reply": "2021-03-14T20:40:11.425886Z"
    }
   },
   "outputs": [],
   "source": [
    "df = df[df.location == 'California'].append(df[df.location != 'California']).reset_index(drop=True)"
   ]
  },
  {
   "cell_type": "code",
   "execution_count": null,
   "metadata": {},
   "outputs": [],
   "source": []
  },
  {
   "cell_type": "code",
   "execution_count": 15,
   "metadata": {
    "execution": {
     "iopub.execute_input": "2021-03-14T20:40:11.429262Z",
     "iopub.status.busy": "2021-03-14T20:40:11.428749Z",
     "iopub.status.idle": "2021-03-14T20:40:11.447874Z",
     "shell.execute_reply": "2021-03-14T20:40:11.447344Z"
    }
   },
   "outputs": [],
   "source": [
    "tz = pytz.timezone(\"America/New_York\")"
   ]
  },
  {
   "cell_type": "code",
   "execution_count": 16,
   "metadata": {
    "execution": {
     "iopub.execute_input": "2021-03-14T20:40:11.452115Z",
     "iopub.status.busy": "2021-03-14T20:40:11.450917Z",
     "iopub.status.idle": "2021-03-14T20:40:11.452799Z",
     "shell.execute_reply": "2021-03-14T20:40:11.453233Z"
    }
   },
   "outputs": [],
   "source": [
    "today = datetime.now(tz).date()"
   ]
  },
  {
   "cell_type": "code",
   "execution_count": 17,
   "metadata": {
    "execution": {
     "iopub.execute_input": "2021-03-14T20:40:11.458801Z",
     "iopub.status.busy": "2021-03-14T20:40:11.457600Z",
     "iopub.status.idle": "2021-03-14T20:40:11.459393Z",
     "shell.execute_reply": "2021-03-14T20:40:11.459859Z"
    }
   },
   "outputs": [],
   "source": [
    "data_dir = os.path.join(os.path.abspath(\"\"), \"data\")"
   ]
  },
  {
   "cell_type": "code",
   "execution_count": 18,
   "metadata": {
    "execution": {
     "iopub.execute_input": "2021-03-14T20:40:11.464214Z",
     "iopub.status.busy": "2021-03-14T20:40:11.462984Z",
     "iopub.status.idle": "2021-03-14T20:40:11.467827Z",
     "shell.execute_reply": "2021-03-14T20:40:11.467278Z"
    }
   },
   "outputs": [],
   "source": [
    "df.to_csv(os.path.join(data_dir, f\"{today}.csv\"), index=False)"
   ]
  },
  {
   "cell_type": "code",
   "execution_count": null,
   "metadata": {},
   "outputs": [],
   "source": []
  }
 ],
 "metadata": {
  "kernelspec": {
   "display_name": "Python 3",
   "language": "python",
   "name": "python3"
  },
  "language_info": {
   "codemirror_mode": {
    "name": "ipython",
    "version": 3
   },
   "file_extension": ".py",
   "mimetype": "text/x-python",
   "name": "python",
   "nbconvert_exporter": "python",
   "pygments_lexer": "ipython3",
   "version": "3.8.8"
  }
 },
 "nbformat": 4,
 "nbformat_minor": 4
}
