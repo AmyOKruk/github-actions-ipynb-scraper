{
 "cells": [
  {
   "cell_type": "markdown",
   "metadata": {},
   "source": [
    "# California COVID vaccinations scrape"
   ]
  },
  {
   "cell_type": "markdown",
   "metadata": {},
   "source": [
    "By [Amy O'Kruk](https://twitter.com/amyokruk)"
   ]
  },
  {
   "cell_type": "markdown",
   "metadata": {},
   "source": [
    "Downloads data on vaccine doses administered by county and statewide from a Tableau-powered dashboard from the California Department of Public Health."
   ]
  },
  {
   "cell_type": "code",
   "execution_count": 1,
   "metadata": {
    "execution": {
     "iopub.execute_input": "2021-03-17T23:12:58.687560Z",
     "iopub.status.busy": "2021-03-17T23:12:58.686943Z",
     "iopub.status.idle": "2021-03-17T23:12:59.134232Z",
     "shell.execute_reply": "2021-03-17T23:12:59.133576Z"
    }
   },
   "outputs": [],
   "source": [
    "import pandas as pd\n",
    "import requests\n",
    "from bs4 import BeautifulSoup\n",
    "import json\n",
    "import re\n",
    "import time\n",
    "from time import gmtime, strftime \n",
    "import os\n",
    "import pytz\n",
    "from datetime import datetime"
   ]
  },
  {
   "cell_type": "markdown",
   "metadata": {},
   "source": [
    "Scrape the dashboard page"
   ]
  },
  {
   "cell_type": "code",
   "execution_count": 2,
   "metadata": {
    "execution": {
     "iopub.execute_input": "2021-03-17T23:12:59.138498Z",
     "iopub.status.busy": "2021-03-17T23:12:59.137824Z",
     "iopub.status.idle": "2021-03-17T23:12:59.617891Z",
     "shell.execute_reply": "2021-03-17T23:12:59.617140Z"
    }
   },
   "outputs": [],
   "source": [
    "url = \"https://public.tableau.com/interactive/views/COVID-19VaccineDashboardPublic/Vaccine?:embed=y&:showVizHome=n&:apiID=host0\"\n",
    "\n",
    "r = requests.get(url)\n",
    "soup = BeautifulSoup(r.text, \"html.parser\")"
   ]
  },
  {
   "cell_type": "code",
   "execution_count": 3,
   "metadata": {
    "execution": {
     "iopub.execute_input": "2021-03-17T23:12:59.622222Z",
     "iopub.status.busy": "2021-03-17T23:12:59.621747Z",
     "iopub.status.idle": "2021-03-17T23:12:59.625099Z",
     "shell.execute_reply": "2021-03-17T23:12:59.624660Z"
    }
   },
   "outputs": [],
   "source": [
    "tableauData = json.loads(soup.find(\"textarea\",{\"id\": \"tsConfigContainer\"}).text)"
   ]
  },
  {
   "cell_type": "markdown",
   "metadata": {},
   "source": [
    "Get the link to the Tableau data"
   ]
  },
  {
   "cell_type": "code",
   "execution_count": 4,
   "metadata": {
    "execution": {
     "iopub.execute_input": "2021-03-17T23:12:59.629504Z",
     "iopub.status.busy": "2021-03-17T23:12:59.628366Z",
     "iopub.status.idle": "2021-03-17T23:12:59.630057Z",
     "shell.execute_reply": "2021-03-17T23:12:59.630448Z"
    }
   },
   "outputs": [],
   "source": [
    "dataUrl = f'https://public.tableau.com{tableauData[\"vizql_root\"]}/bootstrapSession/sessions/{tableauData[\"sessionid\"]}'"
   ]
  },
  {
   "cell_type": "code",
   "execution_count": 5,
   "metadata": {
    "execution": {
     "iopub.execute_input": "2021-03-17T23:12:59.636727Z",
     "iopub.status.busy": "2021-03-17T23:12:59.636207Z",
     "iopub.status.idle": "2021-03-17T23:13:00.116941Z",
     "shell.execute_reply": "2021-03-17T23:13:00.116437Z"
    }
   },
   "outputs": [],
   "source": [
    "r = requests.post(dataUrl, data= {\n",
    "    \"sheet_id\": tableauData[\"sheetId\"],\n",
    "})\n",
    "\n",
    "dataReg = re.search('\\d+;({.*})\\d+;({.*})', r.text, re.MULTILINE)\n",
    "data1 = json.loads(dataReg.group(2))\n",
    "\n",
    "dataJson = data1[\"secondaryInfo\"][\"presModelMap\"][\"dataDictionary\"][\"presModelHolder\"][\"genDataDictionaryPresModel\"][\"dataSegments\"][\"0\"][\"dataColumns\"]"
   ]
  },
  {
   "cell_type": "markdown",
   "metadata": {},
   "source": [
    "Isolate what you want"
   ]
  },
  {
   "cell_type": "code",
   "execution_count": 6,
   "metadata": {
    "execution": {
     "iopub.execute_input": "2021-03-17T23:13:00.120806Z",
     "iopub.status.busy": "2021-03-17T23:13:00.120299Z",
     "iopub.status.idle": "2021-03-17T23:13:00.124054Z",
     "shell.execute_reply": "2021-03-17T23:13:00.123267Z"
    }
   },
   "outputs": [],
   "source": [
    "counties = dataJson[2]['dataValues'][:58]"
   ]
  },
  {
   "cell_type": "code",
   "execution_count": 7,
   "metadata": {
    "execution": {
     "iopub.execute_input": "2021-03-17T23:13:00.128514Z",
     "iopub.status.busy": "2021-03-17T23:13:00.127978Z",
     "iopub.status.idle": "2021-03-17T23:13:00.132231Z",
     "shell.execute_reply": "2021-03-17T23:13:00.131795Z"
    }
   },
   "outputs": [],
   "source": [
    "doses = dataJson[0]['dataValues'][3:61]"
   ]
  },
  {
   "cell_type": "markdown",
   "metadata": {},
   "source": [
    "Data formatting"
   ]
  },
  {
   "cell_type": "code",
   "execution_count": 8,
   "metadata": {
    "execution": {
     "iopub.execute_input": "2021-03-17T23:13:00.135766Z",
     "iopub.status.busy": "2021-03-17T23:13:00.135208Z",
     "iopub.status.idle": "2021-03-17T23:13:00.138557Z",
     "shell.execute_reply": "2021-03-17T23:13:00.138080Z"
    }
   },
   "outputs": [],
   "source": [
    "zipped = dict(zip(counties, doses))"
   ]
  },
  {
   "cell_type": "code",
   "execution_count": 9,
   "metadata": {
    "execution": {
     "iopub.execute_input": "2021-03-17T23:13:00.144284Z",
     "iopub.status.busy": "2021-03-17T23:13:00.143721Z",
     "iopub.status.idle": "2021-03-17T23:13:00.147386Z",
     "shell.execute_reply": "2021-03-17T23:13:00.146908Z"
    }
   },
   "outputs": [],
   "source": [
    "df = pd.Series(zipped).reset_index()"
   ]
  },
  {
   "cell_type": "code",
   "execution_count": 10,
   "metadata": {
    "execution": {
     "iopub.execute_input": "2021-03-17T23:13:00.153513Z",
     "iopub.status.busy": "2021-03-17T23:13:00.151695Z",
     "iopub.status.idle": "2021-03-17T23:13:00.154967Z",
     "shell.execute_reply": "2021-03-17T23:13:00.155389Z"
    }
   },
   "outputs": [],
   "source": [
    "df.columns = ['location','doses']"
   ]
  },
  {
   "cell_type": "markdown",
   "metadata": {},
   "source": [
    "Grab the overall California total"
   ]
  },
  {
   "cell_type": "code",
   "execution_count": 11,
   "metadata": {
    "execution": {
     "iopub.execute_input": "2021-03-17T23:13:00.160104Z",
     "iopub.status.busy": "2021-03-17T23:13:00.159577Z",
     "iopub.status.idle": "2021-03-17T23:13:00.162063Z",
     "shell.execute_reply": "2021-03-17T23:13:00.161587Z"
    }
   },
   "outputs": [],
   "source": [
    "add = {'location':'California','doses':dataJson[0]['dataValues'][2]}"
   ]
  },
  {
   "cell_type": "code",
   "execution_count": 12,
   "metadata": {
    "execution": {
     "iopub.execute_input": "2021-03-17T23:13:00.169124Z",
     "iopub.status.busy": "2021-03-17T23:13:00.167995Z",
     "iopub.status.idle": "2021-03-17T23:13:00.169718Z",
     "shell.execute_reply": "2021-03-17T23:13:00.170141Z"
    }
   },
   "outputs": [],
   "source": [
    "df = df.append(add, ignore_index=True)"
   ]
  },
  {
   "cell_type": "code",
   "execution_count": 13,
   "metadata": {
    "execution": {
     "iopub.execute_input": "2021-03-17T23:13:00.174867Z",
     "iopub.status.busy": "2021-03-17T23:13:00.173778Z",
     "iopub.status.idle": "2021-03-17T23:13:00.175482Z",
     "shell.execute_reply": "2021-03-17T23:13:00.175913Z"
    }
   },
   "outputs": [],
   "source": [
    "df = df.sort_values(by='location')"
   ]
  },
  {
   "cell_type": "code",
   "execution_count": 14,
   "metadata": {
    "execution": {
     "iopub.execute_input": "2021-03-17T23:13:00.181050Z",
     "iopub.status.busy": "2021-03-17T23:13:00.178698Z",
     "iopub.status.idle": "2021-03-17T23:13:00.182693Z",
     "shell.execute_reply": "2021-03-17T23:13:00.183092Z"
    }
   },
   "outputs": [],
   "source": [
    "df = df[df.location == 'California'].append(df[df.location != 'California']).reset_index(drop=True)"
   ]
  },
  {
   "cell_type": "code",
   "execution_count": null,
   "metadata": {},
   "outputs": [],
   "source": []
  },
  {
   "cell_type": "code",
   "execution_count": 15,
   "metadata": {
    "execution": {
     "iopub.execute_input": "2021-03-17T23:13:00.186351Z",
     "iopub.status.busy": "2021-03-17T23:13:00.185878Z",
     "iopub.status.idle": "2021-03-17T23:13:00.202908Z",
     "shell.execute_reply": "2021-03-17T23:13:00.202428Z"
    }
   },
   "outputs": [],
   "source": [
    "tz = pytz.timezone(\"America/New_York\")"
   ]
  },
  {
   "cell_type": "code",
   "execution_count": 16,
   "metadata": {
    "execution": {
     "iopub.execute_input": "2021-03-17T23:13:00.207079Z",
     "iopub.status.busy": "2021-03-17T23:13:00.205982Z",
     "iopub.status.idle": "2021-03-17T23:13:00.207692Z",
     "shell.execute_reply": "2021-03-17T23:13:00.208126Z"
    }
   },
   "outputs": [],
   "source": [
    "today = datetime.now(tz).date()"
   ]
  },
  {
   "cell_type": "code",
   "execution_count": 17,
   "metadata": {
    "execution": {
     "iopub.execute_input": "2021-03-17T23:13:00.212079Z",
     "iopub.status.busy": "2021-03-17T23:13:00.211192Z",
     "iopub.status.idle": "2021-03-17T23:13:00.213292Z",
     "shell.execute_reply": "2021-03-17T23:13:00.212865Z"
    }
   },
   "outputs": [],
   "source": [
    "data_dir = os.path.join(os.path.abspath(\"\"), \"data\")"
   ]
  },
  {
   "cell_type": "code",
   "execution_count": 18,
   "metadata": {
    "execution": {
     "iopub.execute_input": "2021-03-17T23:13:00.217480Z",
     "iopub.status.busy": "2021-03-17T23:13:00.216336Z",
     "iopub.status.idle": "2021-03-17T23:13:00.220951Z",
     "shell.execute_reply": "2021-03-17T23:13:00.220440Z"
    }
   },
   "outputs": [],
   "source": [
    "df.to_csv(os.path.join(data_dir, f\"{today}.csv\"), index=False)"
   ]
  },
  {
   "cell_type": "code",
   "execution_count": null,
   "metadata": {},
   "outputs": [],
   "source": []
  }
 ],
 "metadata": {
  "kernelspec": {
   "display_name": "Python 3",
   "language": "python",
   "name": "python3"
  },
  "language_info": {
   "codemirror_mode": {
    "name": "ipython",
    "version": 3
   },
   "file_extension": ".py",
   "mimetype": "text/x-python",
   "name": "python",
   "nbconvert_exporter": "python",
   "pygments_lexer": "ipython3",
   "version": "3.8.8"
  }
 },
 "nbformat": 4,
 "nbformat_minor": 4
}
