{
 "cells": [
  {
   "cell_type": "markdown",
   "metadata": {},
   "source": [
    "# California COVID vaccinations scrape"
   ]
  },
  {
   "cell_type": "markdown",
   "metadata": {},
   "source": [
    "By [Amy O'Kruk](https://twitter.com/amyokruk)"
   ]
  },
  {
   "cell_type": "markdown",
   "metadata": {},
   "source": [
    "Downloads data on vaccine doses administered by county and statewide from a Tableau-powered dashboard from the California Department of Public Health."
   ]
  },
  {
   "cell_type": "code",
   "execution_count": 1,
   "metadata": {
    "execution": {
     "iopub.execute_input": "2021-03-14T13:40:18.482733Z",
     "iopub.status.busy": "2021-03-14T13:40:18.481211Z",
     "iopub.status.idle": "2021-03-14T13:40:18.877359Z",
     "shell.execute_reply": "2021-03-14T13:40:18.876337Z"
    }
   },
   "outputs": [],
   "source": [
    "import pandas as pd\n",
    "import requests\n",
    "from bs4 import BeautifulSoup\n",
    "import json\n",
    "import re\n",
    "import time\n",
    "from time import gmtime, strftime \n",
    "import os\n",
    "import pytz\n",
    "from datetime import datetime"
   ]
  },
  {
   "cell_type": "markdown",
   "metadata": {},
   "source": [
    "Scrape the dashboard page"
   ]
  },
  {
   "cell_type": "code",
   "execution_count": 2,
   "metadata": {
    "execution": {
     "iopub.execute_input": "2021-03-14T13:40:18.884292Z",
     "iopub.status.busy": "2021-03-14T13:40:18.883706Z",
     "iopub.status.idle": "2021-03-14T13:40:19.265378Z",
     "shell.execute_reply": "2021-03-14T13:40:19.264467Z"
    }
   },
   "outputs": [],
   "source": [
    "url = \"https://public.tableau.com/interactive/views/COVID-19VaccineDashboardPublic/Vaccine?:embed=y&:showVizHome=n&:apiID=host0\"\n",
    "\n",
    "r = requests.get(url)\n",
    "soup = BeautifulSoup(r.text, \"html.parser\")"
   ]
  },
  {
   "cell_type": "code",
   "execution_count": 3,
   "metadata": {
    "execution": {
     "iopub.execute_input": "2021-03-14T13:40:19.270287Z",
     "iopub.status.busy": "2021-03-14T13:40:19.269764Z",
     "iopub.status.idle": "2021-03-14T13:40:19.272817Z",
     "shell.execute_reply": "2021-03-14T13:40:19.273225Z"
    }
   },
   "outputs": [],
   "source": [
    "tableauData = json.loads(soup.find(\"textarea\",{\"id\": \"tsConfigContainer\"}).text)"
   ]
  },
  {
   "cell_type": "markdown",
   "metadata": {},
   "source": [
    "Get the link to the Tableau data"
   ]
  },
  {
   "cell_type": "code",
   "execution_count": 4,
   "metadata": {
    "execution": {
     "iopub.execute_input": "2021-03-14T13:40:19.276804Z",
     "iopub.status.busy": "2021-03-14T13:40:19.276290Z",
     "iopub.status.idle": "2021-03-14T13:40:19.279751Z",
     "shell.execute_reply": "2021-03-14T13:40:19.279300Z"
    }
   },
   "outputs": [],
   "source": [
    "dataUrl = f'https://public.tableau.com{tableauData[\"vizql_root\"]}/bootstrapSession/sessions/{tableauData[\"sessionid\"]}'"
   ]
  },
  {
   "cell_type": "code",
   "execution_count": 5,
   "metadata": {
    "execution": {
     "iopub.execute_input": "2021-03-14T13:40:19.286647Z",
     "iopub.status.busy": "2021-03-14T13:40:19.285804Z",
     "iopub.status.idle": "2021-03-14T13:40:19.496008Z",
     "shell.execute_reply": "2021-03-14T13:40:19.495434Z"
    }
   },
   "outputs": [],
   "source": [
    "r = requests.post(dataUrl, data= {\n",
    "    \"sheet_id\": tableauData[\"sheetId\"],\n",
    "})\n",
    "\n",
    "dataReg = re.search('\\d+;({.*})\\d+;({.*})', r.text, re.MULTILINE)\n",
    "data1 = json.loads(dataReg.group(2))\n",
    "\n",
    "dataJson = data1[\"secondaryInfo\"][\"presModelMap\"][\"dataDictionary\"][\"presModelHolder\"][\"genDataDictionaryPresModel\"][\"dataSegments\"][\"0\"][\"dataColumns\"]"
   ]
  },
  {
   "cell_type": "markdown",
   "metadata": {},
   "source": [
    "Isolate what you want"
   ]
  },
  {
   "cell_type": "code",
   "execution_count": 6,
   "metadata": {
    "execution": {
     "iopub.execute_input": "2021-03-14T13:40:19.500035Z",
     "iopub.status.busy": "2021-03-14T13:40:19.499477Z",
     "iopub.status.idle": "2021-03-14T13:40:19.503094Z",
     "shell.execute_reply": "2021-03-14T13:40:19.502624Z"
    }
   },
   "outputs": [],
   "source": [
    "counties = dataJson[2]['dataValues'][:58]"
   ]
  },
  {
   "cell_type": "code",
   "execution_count": 7,
   "metadata": {
    "execution": {
     "iopub.execute_input": "2021-03-14T13:40:19.506888Z",
     "iopub.status.busy": "2021-03-14T13:40:19.506374Z",
     "iopub.status.idle": "2021-03-14T13:40:19.509999Z",
     "shell.execute_reply": "2021-03-14T13:40:19.509528Z"
    }
   },
   "outputs": [],
   "source": [
    "doses = dataJson[0]['dataValues'][3:61]"
   ]
  },
  {
   "cell_type": "markdown",
   "metadata": {},
   "source": [
    "Data formatting"
   ]
  },
  {
   "cell_type": "code",
   "execution_count": 8,
   "metadata": {
    "execution": {
     "iopub.execute_input": "2021-03-14T13:40:19.513611Z",
     "iopub.status.busy": "2021-03-14T13:40:19.513096Z",
     "iopub.status.idle": "2021-03-14T13:40:19.516612Z",
     "shell.execute_reply": "2021-03-14T13:40:19.516154Z"
    }
   },
   "outputs": [],
   "source": [
    "zipped = dict(zip(counties, doses))"
   ]
  },
  {
   "cell_type": "code",
   "execution_count": 9,
   "metadata": {
    "execution": {
     "iopub.execute_input": "2021-03-14T13:40:19.522450Z",
     "iopub.status.busy": "2021-03-14T13:40:19.521938Z",
     "iopub.status.idle": "2021-03-14T13:40:19.525316Z",
     "shell.execute_reply": "2021-03-14T13:40:19.524882Z"
    }
   },
   "outputs": [],
   "source": [
    "df = pd.Series(zipped).reset_index()"
   ]
  },
  {
   "cell_type": "code",
   "execution_count": 10,
   "metadata": {
    "execution": {
     "iopub.execute_input": "2021-03-14T13:40:19.529021Z",
     "iopub.status.busy": "2021-03-14T13:40:19.528509Z",
     "iopub.status.idle": "2021-03-14T13:40:19.531397Z",
     "shell.execute_reply": "2021-03-14T13:40:19.531860Z"
    }
   },
   "outputs": [],
   "source": [
    "df.columns = ['location','doses']"
   ]
  },
  {
   "cell_type": "markdown",
   "metadata": {},
   "source": [
    "Grab the overall California total"
   ]
  },
  {
   "cell_type": "code",
   "execution_count": 11,
   "metadata": {
    "execution": {
     "iopub.execute_input": "2021-03-14T13:40:19.535568Z",
     "iopub.status.busy": "2021-03-14T13:40:19.535053Z",
     "iopub.status.idle": "2021-03-14T13:40:19.538425Z",
     "shell.execute_reply": "2021-03-14T13:40:19.537941Z"
    }
   },
   "outputs": [],
   "source": [
    "add = {'location':'California','doses':dataJson[0]['dataValues'][2]}"
   ]
  },
  {
   "cell_type": "code",
   "execution_count": 12,
   "metadata": {
    "execution": {
     "iopub.execute_input": "2021-03-14T13:40:19.544888Z",
     "iopub.status.busy": "2021-03-14T13:40:19.544368Z",
     "iopub.status.idle": "2021-03-14T13:40:19.548033Z",
     "shell.execute_reply": "2021-03-14T13:40:19.547482Z"
    }
   },
   "outputs": [],
   "source": [
    "df = df.append(add, ignore_index=True)"
   ]
  },
  {
   "cell_type": "code",
   "execution_count": 13,
   "metadata": {
    "execution": {
     "iopub.execute_input": "2021-03-14T13:40:19.552502Z",
     "iopub.status.busy": "2021-03-14T13:40:19.551980Z",
     "iopub.status.idle": "2021-03-14T13:40:19.555367Z",
     "shell.execute_reply": "2021-03-14T13:40:19.554902Z"
    }
   },
   "outputs": [],
   "source": [
    "df = df.sort_values(by='location')"
   ]
  },
  {
   "cell_type": "code",
   "execution_count": 14,
   "metadata": {
    "execution": {
     "iopub.execute_input": "2021-03-14T13:40:19.561344Z",
     "iopub.status.busy": "2021-03-14T13:40:19.560828Z",
     "iopub.status.idle": "2021-03-14T13:40:19.564396Z",
     "shell.execute_reply": "2021-03-14T13:40:19.563932Z"
    }
   },
   "outputs": [],
   "source": [
    "df = df[df.location == 'California'].append(df[df.location != 'California']).reset_index(drop=True)"
   ]
  },
  {
   "cell_type": "code",
   "execution_count": null,
   "metadata": {},
   "outputs": [],
   "source": []
  },
  {
   "cell_type": "code",
   "execution_count": 15,
   "metadata": {
    "execution": {
     "iopub.execute_input": "2021-03-14T13:40:19.568122Z",
     "iopub.status.busy": "2021-03-14T13:40:19.567350Z",
     "iopub.status.idle": "2021-03-14T13:40:19.586137Z",
     "shell.execute_reply": "2021-03-14T13:40:19.585624Z"
    }
   },
   "outputs": [],
   "source": [
    "tz = pytz.timezone(\"America/New_York\")"
   ]
  },
  {
   "cell_type": "code",
   "execution_count": 16,
   "metadata": {
    "execution": {
     "iopub.execute_input": "2021-03-14T13:40:19.590016Z",
     "iopub.status.busy": "2021-03-14T13:40:19.589490Z",
     "iopub.status.idle": "2021-03-14T13:40:19.593260Z",
     "shell.execute_reply": "2021-03-14T13:40:19.592571Z"
    }
   },
   "outputs": [],
   "source": [
    "today = datetime.now(tz).date()"
   ]
  },
  {
   "cell_type": "code",
   "execution_count": 17,
   "metadata": {
    "execution": {
     "iopub.execute_input": "2021-03-14T13:40:19.597127Z",
     "iopub.status.busy": "2021-03-14T13:40:19.596606Z",
     "iopub.status.idle": "2021-03-14T13:40:19.599709Z",
     "shell.execute_reply": "2021-03-14T13:40:19.600179Z"
    }
   },
   "outputs": [],
   "source": [
    "data_dir = os.path.join(os.path.abspath(\"\"), \"data\")"
   ]
  },
  {
   "cell_type": "code",
   "execution_count": 18,
   "metadata": {
    "execution": {
     "iopub.execute_input": "2021-03-14T13:40:19.605534Z",
     "iopub.status.busy": "2021-03-14T13:40:19.603709Z",
     "iopub.status.idle": "2021-03-14T13:40:19.609841Z",
     "shell.execute_reply": "2021-03-14T13:40:19.609118Z"
    }
   },
   "outputs": [],
   "source": [
    "df.to_csv(os.path.join(data_dir, f\"{today}.csv\"), index=False)"
   ]
  },
  {
   "cell_type": "code",
   "execution_count": null,
   "metadata": {},
   "outputs": [],
   "source": []
  }
 ],
 "metadata": {
  "kernelspec": {
   "display_name": "Python 3",
   "language": "python",
   "name": "python3"
  },
  "language_info": {
   "codemirror_mode": {
    "name": "ipython",
    "version": 3
   },
   "file_extension": ".py",
   "mimetype": "text/x-python",
   "name": "python",
   "nbconvert_exporter": "python",
   "pygments_lexer": "ipython3",
   "version": "3.8.8"
  }
 },
 "nbformat": 4,
 "nbformat_minor": 4
}
