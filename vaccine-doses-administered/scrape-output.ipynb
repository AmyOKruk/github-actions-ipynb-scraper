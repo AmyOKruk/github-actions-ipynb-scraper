{
 "cells": [
  {
   "cell_type": "markdown",
   "metadata": {},
   "source": [
    "# California COVID vaccinations scrape"
   ]
  },
  {
   "cell_type": "markdown",
   "metadata": {},
   "source": [
    "By [Amy O'Kruk](https://twitter.com/amyokruk)"
   ]
  },
  {
   "cell_type": "markdown",
   "metadata": {},
   "source": [
    "Downloads data on vaccine doses administered by county and statewide from a Tableau-powered dashboard from the California Department of Public Health."
   ]
  },
  {
   "cell_type": "code",
   "execution_count": 1,
   "metadata": {
    "execution": {
     "iopub.execute_input": "2021-03-24T02:33:05.236544Z",
     "iopub.status.busy": "2021-03-24T02:33:05.235931Z",
     "iopub.status.idle": "2021-03-24T02:33:05.674629Z",
     "shell.execute_reply": "2021-03-24T02:33:05.671472Z"
    }
   },
   "outputs": [],
   "source": [
    "import pandas as pd\n",
    "import requests\n",
    "from bs4 import BeautifulSoup\n",
    "import json\n",
    "import re\n",
    "import time\n",
    "from time import gmtime, strftime \n",
    "import os\n",
    "import pytz\n",
    "from datetime import datetime"
   ]
  },
  {
   "cell_type": "markdown",
   "metadata": {},
   "source": [
    "Scrape the dashboard page"
   ]
  },
  {
   "cell_type": "code",
   "execution_count": 2,
   "metadata": {
    "execution": {
     "iopub.execute_input": "2021-03-24T02:33:05.678948Z",
     "iopub.status.busy": "2021-03-24T02:33:05.678412Z",
     "iopub.status.idle": "2021-03-24T02:33:06.217759Z",
     "shell.execute_reply": "2021-03-24T02:33:06.216952Z"
    }
   },
   "outputs": [],
   "source": [
    "url = \"https://public.tableau.com/interactive/views/COVID-19VaccineDashboardPublic/Vaccine?:embed=y&:showVizHome=n&:apiID=host0\"\n",
    "\n",
    "r = requests.get(url)\n",
    "soup = BeautifulSoup(r.text, \"html.parser\")"
   ]
  },
  {
   "cell_type": "code",
   "execution_count": 3,
   "metadata": {
    "execution": {
     "iopub.execute_input": "2021-03-24T02:33:06.224651Z",
     "iopub.status.busy": "2021-03-24T02:33:06.223484Z",
     "iopub.status.idle": "2021-03-24T02:33:06.225250Z",
     "shell.execute_reply": "2021-03-24T02:33:06.225680Z"
    }
   },
   "outputs": [],
   "source": [
    "tableauData = json.loads(soup.find(\"textarea\",{\"id\": \"tsConfigContainer\"}).text)"
   ]
  },
  {
   "cell_type": "markdown",
   "metadata": {},
   "source": [
    "Get the link to the Tableau data"
   ]
  },
  {
   "cell_type": "code",
   "execution_count": 4,
   "metadata": {
    "execution": {
     "iopub.execute_input": "2021-03-24T02:33:06.229996Z",
     "iopub.status.busy": "2021-03-24T02:33:06.228803Z",
     "iopub.status.idle": "2021-03-24T02:33:06.230638Z",
     "shell.execute_reply": "2021-03-24T02:33:06.231066Z"
    }
   },
   "outputs": [],
   "source": [
    "dataUrl = f'https://public.tableau.com{tableauData[\"vizql_root\"]}/bootstrapSession/sessions/{tableauData[\"sessionid\"]}'"
   ]
  },
  {
   "cell_type": "code",
   "execution_count": 5,
   "metadata": {
    "execution": {
     "iopub.execute_input": "2021-03-24T02:33:06.238583Z",
     "iopub.status.busy": "2021-03-24T02:33:06.238028Z",
     "iopub.status.idle": "2021-03-24T02:33:06.807159Z",
     "shell.execute_reply": "2021-03-24T02:33:06.807587Z"
    }
   },
   "outputs": [],
   "source": [
    "r = requests.post(dataUrl, data= {\n",
    "    \"sheet_id\": tableauData[\"sheetId\"],\n",
    "})\n",
    "\n",
    "dataReg = re.search('\\d+;({.*})\\d+;({.*})', r.text, re.MULTILINE)\n",
    "data1 = json.loads(dataReg.group(2))\n",
    "\n",
    "dataJson = data1[\"secondaryInfo\"][\"presModelMap\"][\"dataDictionary\"][\"presModelHolder\"][\"genDataDictionaryPresModel\"][\"dataSegments\"][\"0\"][\"dataColumns\"]"
   ]
  },
  {
   "cell_type": "markdown",
   "metadata": {},
   "source": [
    "Isolate what you want"
   ]
  },
  {
   "cell_type": "code",
   "execution_count": 6,
   "metadata": {
    "execution": {
     "iopub.execute_input": "2021-03-24T02:33:06.812415Z",
     "iopub.status.busy": "2021-03-24T02:33:06.811131Z",
     "iopub.status.idle": "2021-03-24T02:33:06.813121Z",
     "shell.execute_reply": "2021-03-24T02:33:06.819805Z"
    }
   },
   "outputs": [],
   "source": [
    "counties = dataJson[2]['dataValues'][:58]"
   ]
  },
  {
   "cell_type": "code",
   "execution_count": 7,
   "metadata": {
    "execution": {
     "iopub.execute_input": "2021-03-24T02:33:06.823422Z",
     "iopub.status.busy": "2021-03-24T02:33:06.822894Z",
     "iopub.status.idle": "2021-03-24T02:33:06.825410Z",
     "shell.execute_reply": "2021-03-24T02:33:06.824971Z"
    }
   },
   "outputs": [],
   "source": [
    "doses = dataJson[0]['dataValues'][3:61]"
   ]
  },
  {
   "cell_type": "markdown",
   "metadata": {},
   "source": [
    "Data formatting"
   ]
  },
  {
   "cell_type": "code",
   "execution_count": 8,
   "metadata": {
    "execution": {
     "iopub.execute_input": "2021-03-24T02:33:06.828954Z",
     "iopub.status.busy": "2021-03-24T02:33:06.828439Z",
     "iopub.status.idle": "2021-03-24T02:33:06.830683Z",
     "shell.execute_reply": "2021-03-24T02:33:06.830247Z"
    }
   },
   "outputs": [],
   "source": [
    "zipped = dict(zip(counties, doses))"
   ]
  },
  {
   "cell_type": "code",
   "execution_count": 9,
   "metadata": {
    "execution": {
     "iopub.execute_input": "2021-03-24T02:33:06.836585Z",
     "iopub.status.busy": "2021-03-24T02:33:06.836037Z",
     "iopub.status.idle": "2021-03-24T02:33:06.838025Z",
     "shell.execute_reply": "2021-03-24T02:33:06.837574Z"
    }
   },
   "outputs": [],
   "source": [
    "df = pd.Series(zipped).reset_index()"
   ]
  },
  {
   "cell_type": "code",
   "execution_count": 10,
   "metadata": {
    "execution": {
     "iopub.execute_input": "2021-03-24T02:33:06.842411Z",
     "iopub.status.busy": "2021-03-24T02:33:06.841249Z",
     "iopub.status.idle": "2021-03-24T02:33:06.843019Z",
     "shell.execute_reply": "2021-03-24T02:33:06.843449Z"
    }
   },
   "outputs": [],
   "source": [
    "df.columns = ['location','doses']"
   ]
  },
  {
   "cell_type": "markdown",
   "metadata": {},
   "source": [
    "Grab the overall California total"
   ]
  },
  {
   "cell_type": "code",
   "execution_count": 11,
   "metadata": {
    "execution": {
     "iopub.execute_input": "2021-03-24T02:33:06.847724Z",
     "iopub.status.busy": "2021-03-24T02:33:06.846617Z",
     "iopub.status.idle": "2021-03-24T02:33:06.848321Z",
     "shell.execute_reply": "2021-03-24T02:33:06.848750Z"
    }
   },
   "outputs": [],
   "source": [
    "add = {'location':'California','doses':dataJson[0]['dataValues'][2]}"
   ]
  },
  {
   "cell_type": "code",
   "execution_count": 12,
   "metadata": {
    "execution": {
     "iopub.execute_input": "2021-03-24T02:33:06.855775Z",
     "iopub.status.busy": "2021-03-24T02:33:06.854605Z",
     "iopub.status.idle": "2021-03-24T02:33:06.856450Z",
     "shell.execute_reply": "2021-03-24T02:33:06.856880Z"
    }
   },
   "outputs": [],
   "source": [
    "df = df.append(add, ignore_index=True)"
   ]
  },
  {
   "cell_type": "code",
   "execution_count": 13,
   "metadata": {
    "execution": {
     "iopub.execute_input": "2021-03-24T02:33:06.861816Z",
     "iopub.status.busy": "2021-03-24T02:33:06.860673Z",
     "iopub.status.idle": "2021-03-24T02:33:06.862547Z",
     "shell.execute_reply": "2021-03-24T02:33:06.862980Z"
    }
   },
   "outputs": [],
   "source": [
    "df = df.sort_values(by='location')"
   ]
  },
  {
   "cell_type": "code",
   "execution_count": 14,
   "metadata": {
    "execution": {
     "iopub.execute_input": "2021-03-24T02:33:06.869522Z",
     "iopub.status.busy": "2021-03-24T02:33:06.868349Z",
     "iopub.status.idle": "2021-03-24T02:33:06.870175Z",
     "shell.execute_reply": "2021-03-24T02:33:06.870612Z"
    }
   },
   "outputs": [],
   "source": [
    "df = df[df.location == 'California'].append(df[df.location != 'California']).reset_index(drop=True)"
   ]
  },
  {
   "cell_type": "code",
   "execution_count": null,
   "metadata": {},
   "outputs": [],
   "source": []
  },
  {
   "cell_type": "code",
   "execution_count": 15,
   "metadata": {
    "execution": {
     "iopub.execute_input": "2021-03-24T02:33:06.873893Z",
     "iopub.status.busy": "2021-03-24T02:33:06.873381Z",
     "iopub.status.idle": "2021-03-24T02:33:06.890911Z",
     "shell.execute_reply": "2021-03-24T02:33:06.890392Z"
    }
   },
   "outputs": [],
   "source": [
    "tz = pytz.timezone(\"America/New_York\")"
   ]
  },
  {
   "cell_type": "code",
   "execution_count": 16,
   "metadata": {
    "execution": {
     "iopub.execute_input": "2021-03-24T02:33:06.895318Z",
     "iopub.status.busy": "2021-03-24T02:33:06.894019Z",
     "iopub.status.idle": "2021-03-24T02:33:06.895926Z",
     "shell.execute_reply": "2021-03-24T02:33:06.896358Z"
    }
   },
   "outputs": [],
   "source": [
    "today = datetime.now(tz).date()"
   ]
  },
  {
   "cell_type": "code",
   "execution_count": 17,
   "metadata": {
    "execution": {
     "iopub.execute_input": "2021-03-24T02:33:06.900763Z",
     "iopub.status.busy": "2021-03-24T02:33:06.899574Z",
     "iopub.status.idle": "2021-03-24T02:33:06.901361Z",
     "shell.execute_reply": "2021-03-24T02:33:06.901785Z"
    }
   },
   "outputs": [],
   "source": [
    "data_dir = os.path.join(os.path.abspath(\"\"), \"data\")"
   ]
  },
  {
   "cell_type": "code",
   "execution_count": 18,
   "metadata": {
    "execution": {
     "iopub.execute_input": "2021-03-24T02:33:06.905624Z",
     "iopub.status.busy": "2021-03-24T02:33:06.905097Z",
     "iopub.status.idle": "2021-03-24T02:33:06.909686Z",
     "shell.execute_reply": "2021-03-24T02:33:06.909154Z"
    }
   },
   "outputs": [],
   "source": [
    "df.to_csv(os.path.join(data_dir, f\"{today}.csv\"), index=False)"
   ]
  },
  {
   "cell_type": "code",
   "execution_count": null,
   "metadata": {},
   "outputs": [],
   "source": []
  }
 ],
 "metadata": {
  "kernelspec": {
   "display_name": "Python 3",
   "language": "python",
   "name": "python3"
  },
  "language_info": {
   "codemirror_mode": {
    "name": "ipython",
    "version": 3
   },
   "file_extension": ".py",
   "mimetype": "text/x-python",
   "name": "python",
   "nbconvert_exporter": "python",
   "pygments_lexer": "ipython3",
   "version": "3.8.8"
  }
 },
 "nbformat": 4,
 "nbformat_minor": 4
}
