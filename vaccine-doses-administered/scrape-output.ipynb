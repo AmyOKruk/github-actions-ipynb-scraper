{
 "cells": [
  {
   "cell_type": "markdown",
   "metadata": {},
   "source": [
    "# California COVID vaccinations scrape"
   ]
  },
  {
   "cell_type": "markdown",
   "metadata": {},
   "source": [
    "By [Amy O'Kruk](https://twitter.com/amyokruk)"
   ]
  },
  {
   "cell_type": "markdown",
   "metadata": {},
   "source": [
    "Downloads data on vaccine doses administered by county and statewide from a Tableau-powered dashboard from the California Department of Public Health."
   ]
  },
  {
   "cell_type": "code",
   "execution_count": 1,
   "metadata": {
    "execution": {
     "iopub.execute_input": "2021-03-20T02:56:21.387717Z",
     "iopub.status.busy": "2021-03-20T02:56:21.387056Z",
     "iopub.status.idle": "2021-03-20T02:56:21.822703Z",
     "shell.execute_reply": "2021-03-20T02:56:21.822099Z"
    }
   },
   "outputs": [],
   "source": [
    "import pandas as pd\n",
    "import requests\n",
    "from bs4 import BeautifulSoup\n",
    "import json\n",
    "import re\n",
    "import time\n",
    "from time import gmtime, strftime \n",
    "import os\n",
    "import pytz\n",
    "from datetime import datetime"
   ]
  },
  {
   "cell_type": "markdown",
   "metadata": {},
   "source": [
    "Scrape the dashboard page"
   ]
  },
  {
   "cell_type": "code",
   "execution_count": 2,
   "metadata": {
    "execution": {
     "iopub.execute_input": "2021-03-20T02:56:21.828384Z",
     "iopub.status.busy": "2021-03-20T02:56:21.826112Z",
     "iopub.status.idle": "2021-03-20T02:56:22.731904Z",
     "shell.execute_reply": "2021-03-20T02:56:22.731387Z"
    }
   },
   "outputs": [],
   "source": [
    "url = \"https://public.tableau.com/interactive/views/COVID-19VaccineDashboardPublic/Vaccine?:embed=y&:showVizHome=n&:apiID=host0\"\n",
    "\n",
    "r = requests.get(url)\n",
    "soup = BeautifulSoup(r.text, \"html.parser\")"
   ]
  },
  {
   "cell_type": "code",
   "execution_count": 3,
   "metadata": {
    "execution": {
     "iopub.execute_input": "2021-03-20T02:56:22.736615Z",
     "iopub.status.busy": "2021-03-20T02:56:22.736039Z",
     "iopub.status.idle": "2021-03-20T02:56:22.740997Z",
     "shell.execute_reply": "2021-03-20T02:56:22.740512Z"
    }
   },
   "outputs": [],
   "source": [
    "tableauData = json.loads(soup.find(\"textarea\",{\"id\": \"tsConfigContainer\"}).text)"
   ]
  },
  {
   "cell_type": "markdown",
   "metadata": {},
   "source": [
    "Get the link to the Tableau data"
   ]
  },
  {
   "cell_type": "code",
   "execution_count": 4,
   "metadata": {
    "execution": {
     "iopub.execute_input": "2021-03-20T02:56:22.744887Z",
     "iopub.status.busy": "2021-03-20T02:56:22.744311Z",
     "iopub.status.idle": "2021-03-20T02:56:22.748136Z",
     "shell.execute_reply": "2021-03-20T02:56:22.748590Z"
    }
   },
   "outputs": [],
   "source": [
    "dataUrl = f'https://public.tableau.com{tableauData[\"vizql_root\"]}/bootstrapSession/sessions/{tableauData[\"sessionid\"]}'"
   ]
  },
  {
   "cell_type": "code",
   "execution_count": 5,
   "metadata": {
    "execution": {
     "iopub.execute_input": "2021-03-20T02:56:22.757240Z",
     "iopub.status.busy": "2021-03-20T02:56:22.756587Z",
     "iopub.status.idle": "2021-03-20T02:56:23.014670Z",
     "shell.execute_reply": "2021-03-20T02:56:23.014118Z"
    }
   },
   "outputs": [],
   "source": [
    "r = requests.post(dataUrl, data= {\n",
    "    \"sheet_id\": tableauData[\"sheetId\"],\n",
    "})\n",
    "\n",
    "dataReg = re.search('\\d+;({.*})\\d+;({.*})', r.text, re.MULTILINE)\n",
    "data1 = json.loads(dataReg.group(2))\n",
    "\n",
    "dataJson = data1[\"secondaryInfo\"][\"presModelMap\"][\"dataDictionary\"][\"presModelHolder\"][\"genDataDictionaryPresModel\"][\"dataSegments\"][\"0\"][\"dataColumns\"]"
   ]
  },
  {
   "cell_type": "markdown",
   "metadata": {},
   "source": [
    "Isolate what you want"
   ]
  },
  {
   "cell_type": "code",
   "execution_count": 6,
   "metadata": {
    "execution": {
     "iopub.execute_input": "2021-03-20T02:56:23.019731Z",
     "iopub.status.busy": "2021-03-20T02:56:23.018137Z",
     "iopub.status.idle": "2021-03-20T02:56:23.020455Z",
     "shell.execute_reply": "2021-03-20T02:56:23.020945Z"
    }
   },
   "outputs": [],
   "source": [
    "counties = dataJson[2]['dataValues'][:58]"
   ]
  },
  {
   "cell_type": "code",
   "execution_count": 7,
   "metadata": {
    "execution": {
     "iopub.execute_input": "2021-03-20T02:56:23.026468Z",
     "iopub.status.busy": "2021-03-20T02:56:23.025047Z",
     "iopub.status.idle": "2021-03-20T02:56:23.027117Z",
     "shell.execute_reply": "2021-03-20T02:56:23.027602Z"
    }
   },
   "outputs": [],
   "source": [
    "doses = dataJson[0]['dataValues'][3:61]"
   ]
  },
  {
   "cell_type": "markdown",
   "metadata": {},
   "source": [
    "Data formatting"
   ]
  },
  {
   "cell_type": "code",
   "execution_count": 8,
   "metadata": {
    "execution": {
     "iopub.execute_input": "2021-03-20T02:56:23.032216Z",
     "iopub.status.busy": "2021-03-20T02:56:23.030795Z",
     "iopub.status.idle": "2021-03-20T02:56:23.032855Z",
     "shell.execute_reply": "2021-03-20T02:56:23.033342Z"
    }
   },
   "outputs": [],
   "source": [
    "zipped = dict(zip(counties, doses))"
   ]
  },
  {
   "cell_type": "code",
   "execution_count": 9,
   "metadata": {
    "execution": {
     "iopub.execute_input": "2021-03-20T02:56:23.041555Z",
     "iopub.status.busy": "2021-03-20T02:56:23.040097Z",
     "iopub.status.idle": "2021-03-20T02:56:23.042332Z",
     "shell.execute_reply": "2021-03-20T02:56:23.042822Z"
    }
   },
   "outputs": [],
   "source": [
    "df = pd.Series(zipped).reset_index()"
   ]
  },
  {
   "cell_type": "code",
   "execution_count": 10,
   "metadata": {
    "execution": {
     "iopub.execute_input": "2021-03-20T02:56:23.047508Z",
     "iopub.status.busy": "2021-03-20T02:56:23.046151Z",
     "iopub.status.idle": "2021-03-20T02:56:23.048146Z",
     "shell.execute_reply": "2021-03-20T02:56:23.048630Z"
    }
   },
   "outputs": [],
   "source": [
    "df.columns = ['location','doses']"
   ]
  },
  {
   "cell_type": "markdown",
   "metadata": {},
   "source": [
    "Grab the overall California total"
   ]
  },
  {
   "cell_type": "code",
   "execution_count": 11,
   "metadata": {
    "execution": {
     "iopub.execute_input": "2021-03-20T02:56:23.055373Z",
     "iopub.status.busy": "2021-03-20T02:56:23.054003Z",
     "iopub.status.idle": "2021-03-20T02:56:23.056092Z",
     "shell.execute_reply": "2021-03-20T02:56:23.056606Z"
    }
   },
   "outputs": [],
   "source": [
    "add = {'location':'California','doses':dataJson[0]['dataValues'][2]}"
   ]
  },
  {
   "cell_type": "code",
   "execution_count": 12,
   "metadata": {
    "execution": {
     "iopub.execute_input": "2021-03-20T02:56:23.065479Z",
     "iopub.status.busy": "2021-03-20T02:56:23.064108Z",
     "iopub.status.idle": "2021-03-20T02:56:23.066297Z",
     "shell.execute_reply": "2021-03-20T02:56:23.066864Z"
    }
   },
   "outputs": [],
   "source": [
    "df = df.append(add, ignore_index=True)"
   ]
  },
  {
   "cell_type": "code",
   "execution_count": 13,
   "metadata": {
    "execution": {
     "iopub.execute_input": "2021-03-20T02:56:23.072883Z",
     "iopub.status.busy": "2021-03-20T02:56:23.071573Z",
     "iopub.status.idle": "2021-03-20T02:56:23.073517Z",
     "shell.execute_reply": "2021-03-20T02:56:23.074627Z"
    }
   },
   "outputs": [],
   "source": [
    "df = df.sort_values(by='location')"
   ]
  },
  {
   "cell_type": "code",
   "execution_count": 14,
   "metadata": {
    "execution": {
     "iopub.execute_input": "2021-03-20T02:56:23.081418Z",
     "iopub.status.busy": "2021-03-20T02:56:23.080073Z",
     "iopub.status.idle": "2021-03-20T02:56:23.082300Z",
     "shell.execute_reply": "2021-03-20T02:56:23.082790Z"
    }
   },
   "outputs": [],
   "source": [
    "df = df[df.location == 'California'].append(df[df.location != 'California']).reset_index(drop=True)"
   ]
  },
  {
   "cell_type": "code",
   "execution_count": null,
   "metadata": {},
   "outputs": [],
   "source": []
  },
  {
   "cell_type": "code",
   "execution_count": 15,
   "metadata": {
    "execution": {
     "iopub.execute_input": "2021-03-20T02:56:23.086649Z",
     "iopub.status.busy": "2021-03-20T02:56:23.086076Z",
     "iopub.status.idle": "2021-03-20T02:56:23.106602Z",
     "shell.execute_reply": "2021-03-20T02:56:23.106104Z"
    }
   },
   "outputs": [],
   "source": [
    "tz = pytz.timezone(\"America/New_York\")"
   ]
  },
  {
   "cell_type": "code",
   "execution_count": 16,
   "metadata": {
    "execution": {
     "iopub.execute_input": "2021-03-20T02:56:23.111240Z",
     "iopub.status.busy": "2021-03-20T02:56:23.109773Z",
     "iopub.status.idle": "2021-03-20T02:56:23.111876Z",
     "shell.execute_reply": "2021-03-20T02:56:23.112360Z"
    }
   },
   "outputs": [],
   "source": [
    "today = datetime.now(tz).date()"
   ]
  },
  {
   "cell_type": "code",
   "execution_count": 17,
   "metadata": {
    "execution": {
     "iopub.execute_input": "2021-03-20T02:56:23.117197Z",
     "iopub.status.busy": "2021-03-20T02:56:23.115733Z",
     "iopub.status.idle": "2021-03-20T02:56:23.117871Z",
     "shell.execute_reply": "2021-03-20T02:56:23.118360Z"
    }
   },
   "outputs": [],
   "source": [
    "data_dir = os.path.join(os.path.abspath(\"\"), \"data\")"
   ]
  },
  {
   "cell_type": "code",
   "execution_count": 18,
   "metadata": {
    "execution": {
     "iopub.execute_input": "2021-03-20T02:56:23.123386Z",
     "iopub.status.busy": "2021-03-20T02:56:23.121557Z",
     "iopub.status.idle": "2021-03-20T02:56:23.246035Z",
     "shell.execute_reply": "2021-03-20T02:56:23.245461Z"
    }
   },
   "outputs": [],
   "source": [
    "df.to_csv(os.path.join(data_dir, f\"{today}.csv\"), index=False)"
   ]
  },
  {
   "cell_type": "code",
   "execution_count": null,
   "metadata": {},
   "outputs": [],
   "source": []
  }
 ],
 "metadata": {
  "kernelspec": {
   "display_name": "Python 3",
   "language": "python",
   "name": "python3"
  },
  "language_info": {
   "codemirror_mode": {
    "name": "ipython",
    "version": 3
   },
   "file_extension": ".py",
   "mimetype": "text/x-python",
   "name": "python",
   "nbconvert_exporter": "python",
   "pygments_lexer": "ipython3",
   "version": "3.8.8"
  }
 },
 "nbformat": 4,
 "nbformat_minor": 4
}
