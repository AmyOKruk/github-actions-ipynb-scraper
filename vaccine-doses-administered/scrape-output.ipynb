{
 "cells": [
  {
   "cell_type": "markdown",
   "metadata": {},
   "source": [
    "# California COVID vaccinations scrape"
   ]
  },
  {
   "cell_type": "markdown",
   "metadata": {},
   "source": [
    "By [Amy O'Kruk](https://twitter.com/amyokruk)"
   ]
  },
  {
   "cell_type": "markdown",
   "metadata": {},
   "source": [
    "Downloads data on vaccine doses administered by county and statewide from a Tableau-powered dashboard from the California Department of Public Health."
   ]
  },
  {
   "cell_type": "code",
   "execution_count": 1,
   "metadata": {
    "execution": {
     "iopub.execute_input": "2021-03-17T19:09:50.367536Z",
     "iopub.status.busy": "2021-03-17T19:09:50.366819Z",
     "iopub.status.idle": "2021-03-17T19:09:51.969514Z",
     "shell.execute_reply": "2021-03-17T19:09:51.968509Z"
    }
   },
   "outputs": [],
   "source": [
    "import pandas as pd\n",
    "import requests\n",
    "from bs4 import BeautifulSoup\n",
    "import json\n",
    "import re\n",
    "import time\n",
    "from time import gmtime, strftime \n",
    "import os\n",
    "import pytz\n",
    "from datetime import datetime"
   ]
  },
  {
   "cell_type": "markdown",
   "metadata": {},
   "source": [
    "Scrape the dashboard page"
   ]
  },
  {
   "cell_type": "code",
   "execution_count": 2,
   "metadata": {
    "execution": {
     "iopub.execute_input": "2021-03-17T19:09:51.976017Z",
     "iopub.status.busy": "2021-03-17T19:09:51.973285Z",
     "iopub.status.idle": "2021-03-17T19:09:52.665074Z",
     "shell.execute_reply": "2021-03-17T19:09:52.664537Z"
    }
   },
   "outputs": [],
   "source": [
    "url = \"https://public.tableau.com/interactive/views/COVID-19VaccineDashboardPublic/Vaccine?:embed=y&:showVizHome=n&:apiID=host0\"\n",
    "\n",
    "r = requests.get(url)\n",
    "soup = BeautifulSoup(r.text, \"html.parser\")"
   ]
  },
  {
   "cell_type": "code",
   "execution_count": 3,
   "metadata": {
    "execution": {
     "iopub.execute_input": "2021-03-17T19:09:52.670488Z",
     "iopub.status.busy": "2021-03-17T19:09:52.669867Z",
     "iopub.status.idle": "2021-03-17T19:09:52.674257Z",
     "shell.execute_reply": "2021-03-17T19:09:52.673254Z"
    }
   },
   "outputs": [],
   "source": [
    "tableauData = json.loads(soup.find(\"textarea\",{\"id\": \"tsConfigContainer\"}).text)"
   ]
  },
  {
   "cell_type": "markdown",
   "metadata": {},
   "source": [
    "Get the link to the Tableau data"
   ]
  },
  {
   "cell_type": "code",
   "execution_count": 4,
   "metadata": {
    "execution": {
     "iopub.execute_input": "2021-03-17T19:09:52.678677Z",
     "iopub.status.busy": "2021-03-17T19:09:52.678097Z",
     "iopub.status.idle": "2021-03-17T19:09:52.680618Z",
     "shell.execute_reply": "2021-03-17T19:09:52.680130Z"
    }
   },
   "outputs": [],
   "source": [
    "dataUrl = f'https://public.tableau.com{tableauData[\"vizql_root\"]}/bootstrapSession/sessions/{tableauData[\"sessionid\"]}'"
   ]
  },
  {
   "cell_type": "code",
   "execution_count": 5,
   "metadata": {
    "execution": {
     "iopub.execute_input": "2021-03-17T19:09:52.688173Z",
     "iopub.status.busy": "2021-03-17T19:09:52.687545Z",
     "iopub.status.idle": "2021-03-17T19:09:52.925494Z",
     "shell.execute_reply": "2021-03-17T19:09:52.926132Z"
    }
   },
   "outputs": [],
   "source": [
    "r = requests.post(dataUrl, data= {\n",
    "    \"sheet_id\": tableauData[\"sheetId\"],\n",
    "})\n",
    "\n",
    "dataReg = re.search('\\d+;({.*})\\d+;({.*})', r.text, re.MULTILINE)\n",
    "data1 = json.loads(dataReg.group(2))\n",
    "\n",
    "dataJson = data1[\"secondaryInfo\"][\"presModelMap\"][\"dataDictionary\"][\"presModelHolder\"][\"genDataDictionaryPresModel\"][\"dataSegments\"][\"0\"][\"dataColumns\"]"
   ]
  },
  {
   "cell_type": "markdown",
   "metadata": {},
   "source": [
    "Isolate what you want"
   ]
  },
  {
   "cell_type": "code",
   "execution_count": 6,
   "metadata": {
    "execution": {
     "iopub.execute_input": "2021-03-17T19:09:52.930588Z",
     "iopub.status.busy": "2021-03-17T19:09:52.929485Z",
     "iopub.status.idle": "2021-03-17T19:09:52.937234Z",
     "shell.execute_reply": "2021-03-17T19:09:52.938387Z"
    }
   },
   "outputs": [],
   "source": [
    "counties = dataJson[2]['dataValues'][:58]"
   ]
  },
  {
   "cell_type": "code",
   "execution_count": 7,
   "metadata": {
    "execution": {
     "iopub.execute_input": "2021-03-17T19:09:52.941772Z",
     "iopub.status.busy": "2021-03-17T19:09:52.940700Z",
     "iopub.status.idle": "2021-03-17T19:09:52.946239Z",
     "shell.execute_reply": "2021-03-17T19:09:52.945677Z"
    }
   },
   "outputs": [],
   "source": [
    "doses = dataJson[0]['dataValues'][3:61]"
   ]
  },
  {
   "cell_type": "markdown",
   "metadata": {},
   "source": [
    "Data formatting"
   ]
  },
  {
   "cell_type": "code",
   "execution_count": 8,
   "metadata": {
    "execution": {
     "iopub.execute_input": "2021-03-17T19:09:52.950319Z",
     "iopub.status.busy": "2021-03-17T19:09:52.949724Z",
     "iopub.status.idle": "2021-03-17T19:09:52.953453Z",
     "shell.execute_reply": "2021-03-17T19:09:52.952907Z"
    }
   },
   "outputs": [],
   "source": [
    "zipped = dict(zip(counties, doses))"
   ]
  },
  {
   "cell_type": "code",
   "execution_count": 9,
   "metadata": {
    "execution": {
     "iopub.execute_input": "2021-03-17T19:09:52.960531Z",
     "iopub.status.busy": "2021-03-17T19:09:52.959947Z",
     "iopub.status.idle": "2021-03-17T19:09:52.963246Z",
     "shell.execute_reply": "2021-03-17T19:09:52.963754Z"
    }
   },
   "outputs": [],
   "source": [
    "df = pd.Series(zipped).reset_index()"
   ]
  },
  {
   "cell_type": "code",
   "execution_count": 10,
   "metadata": {
    "execution": {
     "iopub.execute_input": "2021-03-17T19:09:52.968222Z",
     "iopub.status.busy": "2021-03-17T19:09:52.967646Z",
     "iopub.status.idle": "2021-03-17T19:09:52.971591Z",
     "shell.execute_reply": "2021-03-17T19:09:52.971103Z"
    }
   },
   "outputs": [],
   "source": [
    "df.columns = ['location','doses']"
   ]
  },
  {
   "cell_type": "markdown",
   "metadata": {},
   "source": [
    "Grab the overall California total"
   ]
  },
  {
   "cell_type": "code",
   "execution_count": 11,
   "metadata": {
    "execution": {
     "iopub.execute_input": "2021-03-17T19:09:52.975491Z",
     "iopub.status.busy": "2021-03-17T19:09:52.974920Z",
     "iopub.status.idle": "2021-03-17T19:09:52.978941Z",
     "shell.execute_reply": "2021-03-17T19:09:52.978144Z"
    }
   },
   "outputs": [],
   "source": [
    "add = {'location':'California','doses':dataJson[0]['dataValues'][2]}"
   ]
  },
  {
   "cell_type": "code",
   "execution_count": 12,
   "metadata": {
    "execution": {
     "iopub.execute_input": "2021-03-17T19:09:52.986741Z",
     "iopub.status.busy": "2021-03-17T19:09:52.985830Z",
     "iopub.status.idle": "2021-03-17T19:09:52.989468Z",
     "shell.execute_reply": "2021-03-17T19:09:52.988956Z"
    }
   },
   "outputs": [],
   "source": [
    "df = df.append(add, ignore_index=True)"
   ]
  },
  {
   "cell_type": "code",
   "execution_count": 13,
   "metadata": {
    "execution": {
     "iopub.execute_input": "2021-03-17T19:09:52.999439Z",
     "iopub.status.busy": "2021-03-17T19:09:52.998856Z",
     "iopub.status.idle": "2021-03-17T19:09:53.002558Z",
     "shell.execute_reply": "2021-03-17T19:09:53.002061Z"
    }
   },
   "outputs": [],
   "source": [
    "df = df.sort_values(by='location')"
   ]
  },
  {
   "cell_type": "code",
   "execution_count": 14,
   "metadata": {
    "execution": {
     "iopub.execute_input": "2021-03-17T19:09:53.011033Z",
     "iopub.status.busy": "2021-03-17T19:09:53.009424Z",
     "iopub.status.idle": "2021-03-17T19:09:53.011689Z",
     "shell.execute_reply": "2021-03-17T19:09:53.012185Z"
    }
   },
   "outputs": [],
   "source": [
    "df = df[df.location == 'California'].append(df[df.location != 'California']).reset_index(drop=True)"
   ]
  },
  {
   "cell_type": "code",
   "execution_count": null,
   "metadata": {},
   "outputs": [],
   "source": []
  },
  {
   "cell_type": "code",
   "execution_count": 15,
   "metadata": {
    "execution": {
     "iopub.execute_input": "2021-03-17T19:09:53.016486Z",
     "iopub.status.busy": "2021-03-17T19:09:53.015897Z",
     "iopub.status.idle": "2021-03-17T19:09:53.036683Z",
     "shell.execute_reply": "2021-03-17T19:09:53.036143Z"
    }
   },
   "outputs": [],
   "source": [
    "tz = pytz.timezone(\"America/New_York\")"
   ]
  },
  {
   "cell_type": "code",
   "execution_count": 16,
   "metadata": {
    "execution": {
     "iopub.execute_input": "2021-03-17T19:09:53.048371Z",
     "iopub.status.busy": "2021-03-17T19:09:53.047415Z",
     "iopub.status.idle": "2021-03-17T19:09:53.053368Z",
     "shell.execute_reply": "2021-03-17T19:09:53.053840Z"
    }
   },
   "outputs": [],
   "source": [
    "today = datetime.now(tz).date()"
   ]
  },
  {
   "cell_type": "code",
   "execution_count": 17,
   "metadata": {
    "execution": {
     "iopub.execute_input": "2021-03-17T19:09:53.059186Z",
     "iopub.status.busy": "2021-03-17T19:09:53.058603Z",
     "iopub.status.idle": "2021-03-17T19:09:53.062000Z",
     "shell.execute_reply": "2021-03-17T19:09:53.062521Z"
    }
   },
   "outputs": [],
   "source": [
    "data_dir = os.path.join(os.path.abspath(\"\"), \"data\")"
   ]
  },
  {
   "cell_type": "code",
   "execution_count": 18,
   "metadata": {
    "execution": {
     "iopub.execute_input": "2021-03-17T19:09:53.069640Z",
     "iopub.status.busy": "2021-03-17T19:09:53.066980Z",
     "iopub.status.idle": "2021-03-17T19:09:53.072654Z",
     "shell.execute_reply": "2021-03-17T19:09:53.071752Z"
    }
   },
   "outputs": [],
   "source": [
    "df.to_csv(os.path.join(data_dir, f\"{today}.csv\"), index=False)"
   ]
  },
  {
   "cell_type": "code",
   "execution_count": null,
   "metadata": {},
   "outputs": [],
   "source": []
  }
 ],
 "metadata": {
  "kernelspec": {
   "display_name": "Python 3",
   "language": "python",
   "name": "python3"
  },
  "language_info": {
   "codemirror_mode": {
    "name": "ipython",
    "version": 3
   },
   "file_extension": ".py",
   "mimetype": "text/x-python",
   "name": "python",
   "nbconvert_exporter": "python",
   "pygments_lexer": "ipython3",
   "version": "3.8.8"
  }
 },
 "nbformat": 4,
 "nbformat_minor": 4
}
