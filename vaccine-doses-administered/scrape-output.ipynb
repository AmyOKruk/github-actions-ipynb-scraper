{
 "cells": [
  {
   "cell_type": "markdown",
   "metadata": {},
   "source": [
    "# California COVID vaccinations scrape"
   ]
  },
  {
   "cell_type": "markdown",
   "metadata": {},
   "source": [
    "By [Amy O'Kruk](https://twitter.com/amyokruk)"
   ]
  },
  {
   "cell_type": "markdown",
   "metadata": {},
   "source": [
    "Downloads data on vaccine doses administered by county and statewide from a Tableau-powered dashboard from the California Department of Public Health."
   ]
  },
  {
   "cell_type": "code",
   "execution_count": 1,
   "metadata": {
    "execution": {
     "iopub.execute_input": "2021-03-19T03:16:01.999275Z",
     "iopub.status.busy": "2021-03-19T03:16:01.998599Z",
     "iopub.status.idle": "2021-03-19T03:16:02.425488Z",
     "shell.execute_reply": "2021-03-19T03:16:02.424889Z"
    }
   },
   "outputs": [],
   "source": [
    "import pandas as pd\n",
    "import requests\n",
    "from bs4 import BeautifulSoup\n",
    "import json\n",
    "import re\n",
    "import time\n",
    "from time import gmtime, strftime \n",
    "import os\n",
    "import pytz\n",
    "from datetime import datetime"
   ]
  },
  {
   "cell_type": "markdown",
   "metadata": {},
   "source": [
    "Scrape the dashboard page"
   ]
  },
  {
   "cell_type": "code",
   "execution_count": 2,
   "metadata": {
    "execution": {
     "iopub.execute_input": "2021-03-19T03:16:02.436287Z",
     "iopub.status.busy": "2021-03-19T03:16:02.433611Z",
     "iopub.status.idle": "2021-03-19T03:16:02.763678Z",
     "shell.execute_reply": "2021-03-19T03:16:02.764171Z"
    }
   },
   "outputs": [],
   "source": [
    "url = \"https://public.tableau.com/interactive/views/COVID-19VaccineDashboardPublic/Vaccine?:embed=y&:showVizHome=n&:apiID=host0\"\n",
    "\n",
    "r = requests.get(url)\n",
    "soup = BeautifulSoup(r.text, \"html.parser\")"
   ]
  },
  {
   "cell_type": "code",
   "execution_count": 3,
   "metadata": {
    "execution": {
     "iopub.execute_input": "2021-03-19T03:16:02.769510Z",
     "iopub.status.busy": "2021-03-19T03:16:02.768860Z",
     "iopub.status.idle": "2021-03-19T03:16:02.773113Z",
     "shell.execute_reply": "2021-03-19T03:16:02.772590Z"
    }
   },
   "outputs": [],
   "source": [
    "tableauData = json.loads(soup.find(\"textarea\",{\"id\": \"tsConfigContainer\"}).text)"
   ]
  },
  {
   "cell_type": "markdown",
   "metadata": {},
   "source": [
    "Get the link to the Tableau data"
   ]
  },
  {
   "cell_type": "code",
   "execution_count": 4,
   "metadata": {
    "execution": {
     "iopub.execute_input": "2021-03-19T03:16:02.778068Z",
     "iopub.status.busy": "2021-03-19T03:16:02.777009Z",
     "iopub.status.idle": "2021-03-19T03:16:02.779570Z",
     "shell.execute_reply": "2021-03-19T03:16:02.779092Z"
    }
   },
   "outputs": [],
   "source": [
    "dataUrl = f'https://public.tableau.com{tableauData[\"vizql_root\"]}/bootstrapSession/sessions/{tableauData[\"sessionid\"]}'"
   ]
  },
  {
   "cell_type": "code",
   "execution_count": 5,
   "metadata": {
    "execution": {
     "iopub.execute_input": "2021-03-19T03:16:02.792570Z",
     "iopub.status.busy": "2021-03-19T03:16:02.791959Z",
     "iopub.status.idle": "2021-03-19T03:16:21.649149Z",
     "shell.execute_reply": "2021-03-19T03:16:21.648551Z"
    }
   },
   "outputs": [],
   "source": [
    "r = requests.post(dataUrl, data= {\n",
    "    \"sheet_id\": tableauData[\"sheetId\"],\n",
    "})\n",
    "\n",
    "dataReg = re.search('\\d+;({.*})\\d+;({.*})', r.text, re.MULTILINE)\n",
    "data1 = json.loads(dataReg.group(2))\n",
    "\n",
    "dataJson = data1[\"secondaryInfo\"][\"presModelMap\"][\"dataDictionary\"][\"presModelHolder\"][\"genDataDictionaryPresModel\"][\"dataSegments\"][\"0\"][\"dataColumns\"]"
   ]
  },
  {
   "cell_type": "markdown",
   "metadata": {},
   "source": [
    "Isolate what you want"
   ]
  },
  {
   "cell_type": "code",
   "execution_count": 6,
   "metadata": {
    "execution": {
     "iopub.execute_input": "2021-03-19T03:16:21.654189Z",
     "iopub.status.busy": "2021-03-19T03:16:21.653381Z",
     "iopub.status.idle": "2021-03-19T03:16:21.657611Z",
     "shell.execute_reply": "2021-03-19T03:16:21.658114Z"
    }
   },
   "outputs": [],
   "source": [
    "counties = dataJson[2]['dataValues'][:58]"
   ]
  },
  {
   "cell_type": "code",
   "execution_count": 7,
   "metadata": {
    "execution": {
     "iopub.execute_input": "2021-03-19T03:16:21.663590Z",
     "iopub.status.busy": "2021-03-19T03:16:21.661958Z",
     "iopub.status.idle": "2021-03-19T03:16:21.664251Z",
     "shell.execute_reply": "2021-03-19T03:16:21.664897Z"
    }
   },
   "outputs": [],
   "source": [
    "doses = dataJson[0]['dataValues'][3:61]"
   ]
  },
  {
   "cell_type": "markdown",
   "metadata": {},
   "source": [
    "Data formatting"
   ]
  },
  {
   "cell_type": "code",
   "execution_count": 8,
   "metadata": {
    "execution": {
     "iopub.execute_input": "2021-03-19T03:16:21.674614Z",
     "iopub.status.busy": "2021-03-19T03:16:21.673332Z",
     "iopub.status.idle": "2021-03-19T03:16:21.675722Z",
     "shell.execute_reply": "2021-03-19T03:16:21.675178Z"
    }
   },
   "outputs": [],
   "source": [
    "zipped = dict(zip(counties, doses))"
   ]
  },
  {
   "cell_type": "code",
   "execution_count": 9,
   "metadata": {
    "execution": {
     "iopub.execute_input": "2021-03-19T03:16:21.681404Z",
     "iopub.status.busy": "2021-03-19T03:16:21.680832Z",
     "iopub.status.idle": "2021-03-19T03:16:21.682965Z",
     "shell.execute_reply": "2021-03-19T03:16:21.683408Z"
    }
   },
   "outputs": [],
   "source": [
    "df = pd.Series(zipped).reset_index()"
   ]
  },
  {
   "cell_type": "code",
   "execution_count": 10,
   "metadata": {
    "execution": {
     "iopub.execute_input": "2021-03-19T03:16:21.688532Z",
     "iopub.status.busy": "2021-03-19T03:16:21.687040Z",
     "iopub.status.idle": "2021-03-19T03:16:21.689217Z",
     "shell.execute_reply": "2021-03-19T03:16:21.689691Z"
    }
   },
   "outputs": [],
   "source": [
    "df.columns = ['location','doses']"
   ]
  },
  {
   "cell_type": "markdown",
   "metadata": {},
   "source": [
    "Grab the overall California total"
   ]
  },
  {
   "cell_type": "code",
   "execution_count": 11,
   "metadata": {
    "execution": {
     "iopub.execute_input": "2021-03-19T03:16:21.694960Z",
     "iopub.status.busy": "2021-03-19T03:16:21.693632Z",
     "iopub.status.idle": "2021-03-19T03:16:21.699559Z",
     "shell.execute_reply": "2021-03-19T03:16:21.700094Z"
    }
   },
   "outputs": [],
   "source": [
    "add = {'location':'California','doses':dataJson[0]['dataValues'][2]}"
   ]
  },
  {
   "cell_type": "code",
   "execution_count": 12,
   "metadata": {
    "execution": {
     "iopub.execute_input": "2021-03-19T03:16:21.707692Z",
     "iopub.status.busy": "2021-03-19T03:16:21.707111Z",
     "iopub.status.idle": "2021-03-19T03:16:21.710673Z",
     "shell.execute_reply": "2021-03-19T03:16:21.710070Z"
    }
   },
   "outputs": [],
   "source": [
    "df = df.append(add, ignore_index=True)"
   ]
  },
  {
   "cell_type": "code",
   "execution_count": 13,
   "metadata": {
    "execution": {
     "iopub.execute_input": "2021-03-19T03:16:21.716201Z",
     "iopub.status.busy": "2021-03-19T03:16:21.714883Z",
     "iopub.status.idle": "2021-03-19T03:16:21.716851Z",
     "shell.execute_reply": "2021-03-19T03:16:21.717335Z"
    }
   },
   "outputs": [],
   "source": [
    "df = df.sort_values(by='location')"
   ]
  },
  {
   "cell_type": "code",
   "execution_count": 14,
   "metadata": {
    "execution": {
     "iopub.execute_input": "2021-03-19T03:16:21.724624Z",
     "iopub.status.busy": "2021-03-19T03:16:21.723396Z",
     "iopub.status.idle": "2021-03-19T03:16:21.725346Z",
     "shell.execute_reply": "2021-03-19T03:16:21.725845Z"
    }
   },
   "outputs": [],
   "source": [
    "df = df[df.location == 'California'].append(df[df.location != 'California']).reset_index(drop=True)"
   ]
  },
  {
   "cell_type": "code",
   "execution_count": null,
   "metadata": {},
   "outputs": [],
   "source": []
  },
  {
   "cell_type": "code",
   "execution_count": 15,
   "metadata": {
    "execution": {
     "iopub.execute_input": "2021-03-19T03:16:21.729684Z",
     "iopub.status.busy": "2021-03-19T03:16:21.729105Z",
     "iopub.status.idle": "2021-03-19T03:16:21.749296Z",
     "shell.execute_reply": "2021-03-19T03:16:21.748728Z"
    }
   },
   "outputs": [],
   "source": [
    "tz = pytz.timezone(\"America/New_York\")"
   ]
  },
  {
   "cell_type": "code",
   "execution_count": 16,
   "metadata": {
    "execution": {
     "iopub.execute_input": "2021-03-19T03:16:21.762066Z",
     "iopub.status.busy": "2021-03-19T03:16:21.761448Z",
     "iopub.status.idle": "2021-03-19T03:16:21.771527Z",
     "shell.execute_reply": "2021-03-19T03:16:21.770954Z"
    }
   },
   "outputs": [],
   "source": [
    "today = datetime.now(tz).date()"
   ]
  },
  {
   "cell_type": "code",
   "execution_count": 17,
   "metadata": {
    "execution": {
     "iopub.execute_input": "2021-03-19T03:16:21.776704Z",
     "iopub.status.busy": "2021-03-19T03:16:21.775273Z",
     "iopub.status.idle": "2021-03-19T03:16:21.777394Z",
     "shell.execute_reply": "2021-03-19T03:16:21.777879Z"
    }
   },
   "outputs": [],
   "source": [
    "data_dir = os.path.join(os.path.abspath(\"\"), \"data\")"
   ]
  },
  {
   "cell_type": "code",
   "execution_count": 18,
   "metadata": {
    "execution": {
     "iopub.execute_input": "2021-03-19T03:16:21.782314Z",
     "iopub.status.busy": "2021-03-19T03:16:21.781391Z",
     "iopub.status.idle": "2021-03-19T03:16:21.786140Z",
     "shell.execute_reply": "2021-03-19T03:16:21.786611Z"
    }
   },
   "outputs": [],
   "source": [
    "df.to_csv(os.path.join(data_dir, f\"{today}.csv\"), index=False)"
   ]
  },
  {
   "cell_type": "code",
   "execution_count": null,
   "metadata": {},
   "outputs": [],
   "source": []
  }
 ],
 "metadata": {
  "kernelspec": {
   "display_name": "Python 3",
   "language": "python",
   "name": "python3"
  },
  "language_info": {
   "codemirror_mode": {
    "name": "ipython",
    "version": 3
   },
   "file_extension": ".py",
   "mimetype": "text/x-python",
   "name": "python",
   "nbconvert_exporter": "python",
   "pygments_lexer": "ipython3",
   "version": "3.8.8"
  }
 },
 "nbformat": 4,
 "nbformat_minor": 4
}
