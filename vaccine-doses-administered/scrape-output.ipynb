{
 "cells": [
  {
   "cell_type": "markdown",
   "metadata": {},
   "source": [
    "# California COVID vaccinations scrape"
   ]
  },
  {
   "cell_type": "markdown",
   "metadata": {},
   "source": [
    "By [Amy O'Kruk](https://twitter.com/amyokruk)"
   ]
  },
  {
   "cell_type": "markdown",
   "metadata": {},
   "source": [
    "Downloads data on vaccine doses administered by county and statewide from a Tableau-powered dashboard from the California Department of Public Health."
   ]
  },
  {
   "cell_type": "code",
   "execution_count": 1,
   "metadata": {
    "execution": {
     "iopub.execute_input": "2021-03-18T20:41:03.754706Z",
     "iopub.status.busy": "2021-03-18T20:41:03.753920Z",
     "iopub.status.idle": "2021-03-18T20:41:04.214839Z",
     "shell.execute_reply": "2021-03-18T20:41:04.213916Z"
    }
   },
   "outputs": [],
   "source": [
    "import pandas as pd\n",
    "import requests\n",
    "from bs4 import BeautifulSoup\n",
    "import json\n",
    "import re\n",
    "import time\n",
    "from time import gmtime, strftime \n",
    "import os\n",
    "import pytz\n",
    "from datetime import datetime"
   ]
  },
  {
   "cell_type": "markdown",
   "metadata": {},
   "source": [
    "Scrape the dashboard page"
   ]
  },
  {
   "cell_type": "code",
   "execution_count": 2,
   "metadata": {
    "execution": {
     "iopub.execute_input": "2021-03-18T20:41:04.221225Z",
     "iopub.status.busy": "2021-03-18T20:41:04.220626Z",
     "iopub.status.idle": "2021-03-18T20:41:04.631784Z",
     "shell.execute_reply": "2021-03-18T20:41:04.630976Z"
    }
   },
   "outputs": [],
   "source": [
    "url = \"https://public.tableau.com/interactive/views/COVID-19VaccineDashboardPublic/Vaccine?:embed=y&:showVizHome=n&:apiID=host0\"\n",
    "\n",
    "r = requests.get(url)\n",
    "soup = BeautifulSoup(r.text, \"html.parser\")"
   ]
  },
  {
   "cell_type": "code",
   "execution_count": 3,
   "metadata": {
    "execution": {
     "iopub.execute_input": "2021-03-18T20:41:04.636751Z",
     "iopub.status.busy": "2021-03-18T20:41:04.636237Z",
     "iopub.status.idle": "2021-03-18T20:41:04.639166Z",
     "shell.execute_reply": "2021-03-18T20:41:04.639591Z"
    }
   },
   "outputs": [],
   "source": [
    "tableauData = json.loads(soup.find(\"textarea\",{\"id\": \"tsConfigContainer\"}).text)"
   ]
  },
  {
   "cell_type": "markdown",
   "metadata": {},
   "source": [
    "Get the link to the Tableau data"
   ]
  },
  {
   "cell_type": "code",
   "execution_count": 4,
   "metadata": {
    "execution": {
     "iopub.execute_input": "2021-03-18T20:41:04.643930Z",
     "iopub.status.busy": "2021-03-18T20:41:04.642792Z",
     "iopub.status.idle": "2021-03-18T20:41:04.644581Z",
     "shell.execute_reply": "2021-03-18T20:41:04.645045Z"
    }
   },
   "outputs": [],
   "source": [
    "dataUrl = f'https://public.tableau.com{tableauData[\"vizql_root\"]}/bootstrapSession/sessions/{tableauData[\"sessionid\"]}'"
   ]
  },
  {
   "cell_type": "code",
   "execution_count": 5,
   "metadata": {
    "execution": {
     "iopub.execute_input": "2021-03-18T20:41:04.651518Z",
     "iopub.status.busy": "2021-03-18T20:41:04.650980Z",
     "iopub.status.idle": "2021-03-18T20:41:05.010144Z",
     "shell.execute_reply": "2021-03-18T20:41:05.009455Z"
    }
   },
   "outputs": [],
   "source": [
    "r = requests.post(dataUrl, data= {\n",
    "    \"sheet_id\": tableauData[\"sheetId\"],\n",
    "})\n",
    "\n",
    "dataReg = re.search('\\d+;({.*})\\d+;({.*})', r.text, re.MULTILINE)\n",
    "data1 = json.loads(dataReg.group(2))\n",
    "\n",
    "dataJson = data1[\"secondaryInfo\"][\"presModelMap\"][\"dataDictionary\"][\"presModelHolder\"][\"genDataDictionaryPresModel\"][\"dataSegments\"][\"0\"][\"dataColumns\"]"
   ]
  },
  {
   "cell_type": "markdown",
   "metadata": {},
   "source": [
    "Isolate what you want"
   ]
  },
  {
   "cell_type": "code",
   "execution_count": 6,
   "metadata": {
    "execution": {
     "iopub.execute_input": "2021-03-18T20:41:05.014719Z",
     "iopub.status.busy": "2021-03-18T20:41:05.013549Z",
     "iopub.status.idle": "2021-03-18T20:41:05.015313Z",
     "shell.execute_reply": "2021-03-18T20:41:05.015740Z"
    }
   },
   "outputs": [],
   "source": [
    "counties = dataJson[2]['dataValues'][:58]"
   ]
  },
  {
   "cell_type": "code",
   "execution_count": 7,
   "metadata": {
    "execution": {
     "iopub.execute_input": "2021-03-18T20:41:05.020086Z",
     "iopub.status.busy": "2021-03-18T20:41:05.018915Z",
     "iopub.status.idle": "2021-03-18T20:41:05.020713Z",
     "shell.execute_reply": "2021-03-18T20:41:05.021160Z"
    }
   },
   "outputs": [],
   "source": [
    "doses = dataJson[0]['dataValues'][3:61]"
   ]
  },
  {
   "cell_type": "markdown",
   "metadata": {},
   "source": [
    "Data formatting"
   ]
  },
  {
   "cell_type": "code",
   "execution_count": 8,
   "metadata": {
    "execution": {
     "iopub.execute_input": "2021-03-18T20:41:05.025222Z",
     "iopub.status.busy": "2021-03-18T20:41:05.024064Z",
     "iopub.status.idle": "2021-03-18T20:41:05.025811Z",
     "shell.execute_reply": "2021-03-18T20:41:05.026244Z"
    }
   },
   "outputs": [],
   "source": [
    "zipped = dict(zip(counties, doses))"
   ]
  },
  {
   "cell_type": "code",
   "execution_count": 9,
   "metadata": {
    "execution": {
     "iopub.execute_input": "2021-03-18T20:41:05.032610Z",
     "iopub.status.busy": "2021-03-18T20:41:05.031474Z",
     "iopub.status.idle": "2021-03-18T20:41:05.033182Z",
     "shell.execute_reply": "2021-03-18T20:41:05.033620Z"
    }
   },
   "outputs": [],
   "source": [
    "df = pd.Series(zipped).reset_index()"
   ]
  },
  {
   "cell_type": "code",
   "execution_count": 10,
   "metadata": {
    "execution": {
     "iopub.execute_input": "2021-03-18T20:41:05.038073Z",
     "iopub.status.busy": "2021-03-18T20:41:05.036861Z",
     "iopub.status.idle": "2021-03-18T20:41:05.038690Z",
     "shell.execute_reply": "2021-03-18T20:41:05.039121Z"
    }
   },
   "outputs": [],
   "source": [
    "df.columns = ['location','doses']"
   ]
  },
  {
   "cell_type": "markdown",
   "metadata": {},
   "source": [
    "Grab the overall California total"
   ]
  },
  {
   "cell_type": "code",
   "execution_count": 11,
   "metadata": {
    "execution": {
     "iopub.execute_input": "2021-03-18T20:41:05.043374Z",
     "iopub.status.busy": "2021-03-18T20:41:05.042273Z",
     "iopub.status.idle": "2021-03-18T20:41:05.043968Z",
     "shell.execute_reply": "2021-03-18T20:41:05.044390Z"
    }
   },
   "outputs": [],
   "source": [
    "add = {'location':'California','doses':dataJson[0]['dataValues'][2]}"
   ]
  },
  {
   "cell_type": "code",
   "execution_count": 12,
   "metadata": {
    "execution": {
     "iopub.execute_input": "2021-03-18T20:41:05.051273Z",
     "iopub.status.busy": "2021-03-18T20:41:05.050084Z",
     "iopub.status.idle": "2021-03-18T20:41:05.051826Z",
     "shell.execute_reply": "2021-03-18T20:41:05.052222Z"
    }
   },
   "outputs": [],
   "source": [
    "df = df.append(add, ignore_index=True)"
   ]
  },
  {
   "cell_type": "code",
   "execution_count": 13,
   "metadata": {
    "execution": {
     "iopub.execute_input": "2021-03-18T20:41:05.056642Z",
     "iopub.status.busy": "2021-03-18T20:41:05.055788Z",
     "iopub.status.idle": "2021-03-18T20:41:05.057434Z",
     "shell.execute_reply": "2021-03-18T20:41:05.057831Z"
    }
   },
   "outputs": [],
   "source": [
    "df = df.sort_values(by='location')"
   ]
  },
  {
   "cell_type": "code",
   "execution_count": 14,
   "metadata": {
    "execution": {
     "iopub.execute_input": "2021-03-18T20:41:05.063977Z",
     "iopub.status.busy": "2021-03-18T20:41:05.062837Z",
     "iopub.status.idle": "2021-03-18T20:41:05.064569Z",
     "shell.execute_reply": "2021-03-18T20:41:05.065022Z"
    }
   },
   "outputs": [],
   "source": [
    "df = df[df.location == 'California'].append(df[df.location != 'California']).reset_index(drop=True)"
   ]
  },
  {
   "cell_type": "code",
   "execution_count": null,
   "metadata": {},
   "outputs": [],
   "source": []
  },
  {
   "cell_type": "code",
   "execution_count": 15,
   "metadata": {
    "execution": {
     "iopub.execute_input": "2021-03-18T20:41:05.068398Z",
     "iopub.status.busy": "2021-03-18T20:41:05.067885Z",
     "iopub.status.idle": "2021-03-18T20:41:05.084675Z",
     "shell.execute_reply": "2021-03-18T20:41:05.085184Z"
    }
   },
   "outputs": [],
   "source": [
    "tz = pytz.timezone(\"America/New_York\")"
   ]
  },
  {
   "cell_type": "code",
   "execution_count": 16,
   "metadata": {
    "execution": {
     "iopub.execute_input": "2021-03-18T20:41:05.089671Z",
     "iopub.status.busy": "2021-03-18T20:41:05.088282Z",
     "iopub.status.idle": "2021-03-18T20:41:05.090327Z",
     "shell.execute_reply": "2021-03-18T20:41:05.090810Z"
    }
   },
   "outputs": [],
   "source": [
    "today = datetime.now(tz).date()"
   ]
  },
  {
   "cell_type": "code",
   "execution_count": 17,
   "metadata": {
    "execution": {
     "iopub.execute_input": "2021-03-18T20:41:05.095122Z",
     "iopub.status.busy": "2021-03-18T20:41:05.093911Z",
     "iopub.status.idle": "2021-03-18T20:41:05.095717Z",
     "shell.execute_reply": "2021-03-18T20:41:05.096141Z"
    }
   },
   "outputs": [],
   "source": [
    "data_dir = os.path.join(os.path.abspath(\"\"), \"data\")"
   ]
  },
  {
   "cell_type": "code",
   "execution_count": 18,
   "metadata": {
    "execution": {
     "iopub.execute_input": "2021-03-18T20:41:05.100451Z",
     "iopub.status.busy": "2021-03-18T20:41:05.099225Z",
     "iopub.status.idle": "2021-03-18T20:41:05.103686Z",
     "shell.execute_reply": "2021-03-18T20:41:05.103165Z"
    }
   },
   "outputs": [],
   "source": [
    "df.to_csv(os.path.join(data_dir, f\"{today}.csv\"), index=False)"
   ]
  },
  {
   "cell_type": "code",
   "execution_count": null,
   "metadata": {},
   "outputs": [],
   "source": []
  }
 ],
 "metadata": {
  "kernelspec": {
   "display_name": "Python 3",
   "language": "python",
   "name": "python3"
  },
  "language_info": {
   "codemirror_mode": {
    "name": "ipython",
    "version": 3
   },
   "file_extension": ".py",
   "mimetype": "text/x-python",
   "name": "python",
   "nbconvert_exporter": "python",
   "pygments_lexer": "ipython3",
   "version": "3.8.8"
  }
 },
 "nbformat": 4,
 "nbformat_minor": 4
}
