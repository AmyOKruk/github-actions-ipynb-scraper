{
 "cells": [
  {
   "cell_type": "markdown",
   "metadata": {},
   "source": [
    "# California COVID vaccinations scrape"
   ]
  },
  {
   "cell_type": "markdown",
   "metadata": {},
   "source": [
    "By [Amy O'Kruk](https://twitter.com/amyokruk)"
   ]
  },
  {
   "cell_type": "markdown",
   "metadata": {},
   "source": [
    "Downloads data on vaccine doses administered by county and statewide from a Tableau-powered dashboard from the California Department of Public Health."
   ]
  },
  {
   "cell_type": "code",
   "execution_count": 1,
   "metadata": {
    "execution": {
     "iopub.execute_input": "2021-03-11T05:42:32.557715Z",
     "iopub.status.busy": "2021-03-11T05:42:32.556997Z",
     "iopub.status.idle": "2021-03-11T05:42:33.014166Z",
     "shell.execute_reply": "2021-03-11T05:42:33.012892Z"
    }
   },
   "outputs": [],
   "source": [
    "import pandas as pd\n",
    "import requests\n",
    "from bs4 import BeautifulSoup\n",
    "import json\n",
    "import re\n",
    "import time\n",
    "from time import gmtime, strftime \n",
    "import os\n",
    "import pytz\n",
    "from datetime import datetime"
   ]
  },
  {
   "cell_type": "markdown",
   "metadata": {},
   "source": [
    "Scrape the dashboard page"
   ]
  },
  {
   "cell_type": "code",
   "execution_count": 2,
   "metadata": {
    "execution": {
     "iopub.execute_input": "2021-03-11T05:42:33.021399Z",
     "iopub.status.busy": "2021-03-11T05:42:33.018160Z",
     "iopub.status.idle": "2021-03-11T05:42:33.263087Z",
     "shell.execute_reply": "2021-03-11T05:42:33.261984Z"
    }
   },
   "outputs": [],
   "source": [
    "url = \"https://public.tableau.com/interactive/views/COVID-19VaccineDashboardPublic/Vaccine?:embed=y&:showVizHome=n&:apiID=host0\"\n",
    "\n",
    "r = requests.get(url)\n",
    "soup = BeautifulSoup(r.text, \"html.parser\")"
   ]
  },
  {
   "cell_type": "code",
   "execution_count": 3,
   "metadata": {
    "execution": {
     "iopub.execute_input": "2021-03-11T05:42:33.268427Z",
     "iopub.status.busy": "2021-03-11T05:42:33.267746Z",
     "iopub.status.idle": "2021-03-11T05:42:33.271570Z",
     "shell.execute_reply": "2021-03-11T05:42:33.272135Z"
    }
   },
   "outputs": [],
   "source": [
    "tableauData = json.loads(soup.find(\"textarea\",{\"id\": \"tsConfigContainer\"}).text)"
   ]
  },
  {
   "cell_type": "markdown",
   "metadata": {},
   "source": [
    "Get the link to the Tableau data"
   ]
  },
  {
   "cell_type": "code",
   "execution_count": 4,
   "metadata": {
    "execution": {
     "iopub.execute_input": "2021-03-11T05:42:33.276431Z",
     "iopub.status.busy": "2021-03-11T05:42:33.275810Z",
     "iopub.status.idle": "2021-03-11T05:42:33.279532Z",
     "shell.execute_reply": "2021-03-11T05:42:33.280095Z"
    }
   },
   "outputs": [],
   "source": [
    "dataUrl = f'https://public.tableau.com{tableauData[\"vizql_root\"]}/bootstrapSession/sessions/{tableauData[\"sessionid\"]}'"
   ]
  },
  {
   "cell_type": "code",
   "execution_count": 5,
   "metadata": {
    "execution": {
     "iopub.execute_input": "2021-03-11T05:42:33.287969Z",
     "iopub.status.busy": "2021-03-11T05:42:33.287272Z",
     "iopub.status.idle": "2021-03-11T05:42:33.532911Z",
     "shell.execute_reply": "2021-03-11T05:42:33.533391Z"
    }
   },
   "outputs": [],
   "source": [
    "r = requests.post(dataUrl, data= {\n",
    "    \"sheet_id\": tableauData[\"sheetId\"],\n",
    "})\n",
    "\n",
    "dataReg = re.search('\\d+;({.*})\\d+;({.*})', r.text, re.MULTILINE)\n",
    "data1 = json.loads(dataReg.group(2))\n",
    "\n",
    "dataJson = data1[\"secondaryInfo\"][\"presModelMap\"][\"dataDictionary\"][\"presModelHolder\"][\"genDataDictionaryPresModel\"][\"dataSegments\"][\"0\"][\"dataColumns\"]"
   ]
  },
  {
   "cell_type": "markdown",
   "metadata": {},
   "source": [
    "Isolate what you want"
   ]
  },
  {
   "cell_type": "code",
   "execution_count": 6,
   "metadata": {
    "execution": {
     "iopub.execute_input": "2021-03-11T05:42:33.537715Z",
     "iopub.status.busy": "2021-03-11T05:42:33.537139Z",
     "iopub.status.idle": "2021-03-11T05:42:33.540896Z",
     "shell.execute_reply": "2021-03-11T05:42:33.540413Z"
    }
   },
   "outputs": [],
   "source": [
    "counties = dataJson[2]['dataValues'][:58]"
   ]
  },
  {
   "cell_type": "code",
   "execution_count": 7,
   "metadata": {
    "execution": {
     "iopub.execute_input": "2021-03-11T05:42:33.545897Z",
     "iopub.status.busy": "2021-03-11T05:42:33.544231Z",
     "iopub.status.idle": "2021-03-11T05:42:33.546565Z",
     "shell.execute_reply": "2021-03-11T05:42:33.547017Z"
    }
   },
   "outputs": [],
   "source": [
    "doses = dataJson[0]['dataValues'][3:61]"
   ]
  },
  {
   "cell_type": "markdown",
   "metadata": {},
   "source": [
    "Data formatting"
   ]
  },
  {
   "cell_type": "code",
   "execution_count": 8,
   "metadata": {
    "execution": {
     "iopub.execute_input": "2021-03-11T05:42:33.551381Z",
     "iopub.status.busy": "2021-03-11T05:42:33.550043Z",
     "iopub.status.idle": "2021-03-11T05:42:33.552164Z",
     "shell.execute_reply": "2021-03-11T05:42:33.552621Z"
    }
   },
   "outputs": [],
   "source": [
    "zipped = dict(zip(counties, doses))"
   ]
  },
  {
   "cell_type": "code",
   "execution_count": 9,
   "metadata": {
    "execution": {
     "iopub.execute_input": "2021-03-11T05:42:33.559730Z",
     "iopub.status.busy": "2021-03-11T05:42:33.558235Z",
     "iopub.status.idle": "2021-03-11T05:42:33.560461Z",
     "shell.execute_reply": "2021-03-11T05:42:33.560959Z"
    }
   },
   "outputs": [],
   "source": [
    "df = pd.Series(zipped).reset_index()"
   ]
  },
  {
   "cell_type": "code",
   "execution_count": 10,
   "metadata": {
    "execution": {
     "iopub.execute_input": "2021-03-11T05:42:33.565498Z",
     "iopub.status.busy": "2021-03-11T05:42:33.564494Z",
     "iopub.status.idle": "2021-03-11T05:42:33.566375Z",
     "shell.execute_reply": "2021-03-11T05:42:33.566975Z"
    }
   },
   "outputs": [],
   "source": [
    "df.columns = ['location','doses']"
   ]
  },
  {
   "cell_type": "markdown",
   "metadata": {},
   "source": [
    "Grab the overall California total"
   ]
  },
  {
   "cell_type": "code",
   "execution_count": 11,
   "metadata": {
    "execution": {
     "iopub.execute_input": "2021-03-11T05:42:33.571049Z",
     "iopub.status.busy": "2021-03-11T05:42:33.570136Z",
     "iopub.status.idle": "2021-03-11T05:42:33.572076Z",
     "shell.execute_reply": "2021-03-11T05:42:33.572538Z"
    }
   },
   "outputs": [],
   "source": [
    "add = {'location':'California','doses':dataJson[0]['dataValues'][2]}"
   ]
  },
  {
   "cell_type": "code",
   "execution_count": 12,
   "metadata": {
    "execution": {
     "iopub.execute_input": "2021-03-11T05:42:33.580387Z",
     "iopub.status.busy": "2021-03-11T05:42:33.579079Z",
     "iopub.status.idle": "2021-03-11T05:42:33.580959Z",
     "shell.execute_reply": "2021-03-11T05:42:33.581368Z"
    }
   },
   "outputs": [],
   "source": [
    "df = df.append(add, ignore_index=True)"
   ]
  },
  {
   "cell_type": "code",
   "execution_count": 13,
   "metadata": {
    "execution": {
     "iopub.execute_input": "2021-03-11T05:42:33.587099Z",
     "iopub.status.busy": "2021-03-11T05:42:33.585776Z",
     "iopub.status.idle": "2021-03-11T05:42:33.587718Z",
     "shell.execute_reply": "2021-03-11T05:42:33.588123Z"
    }
   },
   "outputs": [],
   "source": [
    "df = df.sort_values(by='location')"
   ]
  },
  {
   "cell_type": "code",
   "execution_count": 14,
   "metadata": {
    "execution": {
     "iopub.execute_input": "2021-03-11T05:42:33.595206Z",
     "iopub.status.busy": "2021-03-11T05:42:33.593996Z",
     "iopub.status.idle": "2021-03-11T05:42:33.596265Z",
     "shell.execute_reply": "2021-03-11T05:42:33.596712Z"
    }
   },
   "outputs": [],
   "source": [
    "df = df[df.location == 'California'].append(df[df.location != 'California']).reset_index(drop=True)"
   ]
  },
  {
   "cell_type": "code",
   "execution_count": null,
   "metadata": {},
   "outputs": [],
   "source": []
  },
  {
   "cell_type": "code",
   "execution_count": 15,
   "metadata": {
    "execution": {
     "iopub.execute_input": "2021-03-11T05:42:33.600355Z",
     "iopub.status.busy": "2021-03-11T05:42:33.599806Z",
     "iopub.status.idle": "2021-03-11T05:42:33.619208Z",
     "shell.execute_reply": "2021-03-11T05:42:33.618769Z"
    }
   },
   "outputs": [],
   "source": [
    "tz = pytz.timezone(\"America/New_York\")"
   ]
  },
  {
   "cell_type": "code",
   "execution_count": 16,
   "metadata": {
    "execution": {
     "iopub.execute_input": "2021-03-11T05:42:33.624283Z",
     "iopub.status.busy": "2021-03-11T05:42:33.622834Z",
     "iopub.status.idle": "2021-03-11T05:42:33.624924Z",
     "shell.execute_reply": "2021-03-11T05:42:33.625436Z"
    }
   },
   "outputs": [],
   "source": [
    "today = datetime.now(tz).date()"
   ]
  },
  {
   "cell_type": "code",
   "execution_count": 17,
   "metadata": {
    "execution": {
     "iopub.execute_input": "2021-03-11T05:42:33.629952Z",
     "iopub.status.busy": "2021-03-11T05:42:33.628543Z",
     "iopub.status.idle": "2021-03-11T05:42:33.630589Z",
     "shell.execute_reply": "2021-03-11T05:42:33.631157Z"
    }
   },
   "outputs": [],
   "source": [
    "data_dir = os.path.join(os.path.abspath(\"\"), \"data\")"
   ]
  },
  {
   "cell_type": "code",
   "execution_count": 18,
   "metadata": {
    "execution": {
     "iopub.execute_input": "2021-03-11T05:42:33.636209Z",
     "iopub.status.busy": "2021-03-11T05:42:33.634741Z",
     "iopub.status.idle": "2021-03-11T05:42:33.639968Z",
     "shell.execute_reply": "2021-03-11T05:42:33.640382Z"
    }
   },
   "outputs": [],
   "source": [
    "df.to_csv(os.path.join(data_dir, f\"{today}.csv\"), index=False)"
   ]
  },
  {
   "cell_type": "code",
   "execution_count": null,
   "metadata": {},
   "outputs": [],
   "source": []
  }
 ],
 "metadata": {
  "kernelspec": {
   "display_name": "Python 3",
   "language": "python",
   "name": "python3"
  },
  "language_info": {
   "codemirror_mode": {
    "name": "ipython",
    "version": 3
   },
   "file_extension": ".py",
   "mimetype": "text/x-python",
   "name": "python",
   "nbconvert_exporter": "python",
   "pygments_lexer": "ipython3",
   "version": "3.8.8"
  }
 },
 "nbformat": 4,
 "nbformat_minor": 4
}
