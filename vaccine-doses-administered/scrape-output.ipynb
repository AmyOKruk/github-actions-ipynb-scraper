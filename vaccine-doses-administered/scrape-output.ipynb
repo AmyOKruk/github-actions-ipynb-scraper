{
 "cells": [
  {
   "cell_type": "markdown",
   "metadata": {},
   "source": [
    "# California COVID vaccinations scrape"
   ]
  },
  {
   "cell_type": "markdown",
   "metadata": {},
   "source": [
    "By [Amy O'Kruk](https://twitter.com/amyokruk)"
   ]
  },
  {
   "cell_type": "markdown",
   "metadata": {},
   "source": [
    "Downloads data on vaccine doses administered by county and statewide from a Tableau-powered dashboard from the California Department of Public Health."
   ]
  },
  {
   "cell_type": "code",
   "execution_count": 1,
   "metadata": {
    "execution": {
     "iopub.execute_input": "2021-03-24T19:47:00.489833Z",
     "iopub.status.busy": "2021-03-24T19:47:00.488973Z",
     "iopub.status.idle": "2021-03-24T19:47:00.929671Z",
     "shell.execute_reply": "2021-03-24T19:47:00.929035Z"
    }
   },
   "outputs": [],
   "source": [
    "import pandas as pd\n",
    "import requests\n",
    "from bs4 import BeautifulSoup\n",
    "import json\n",
    "import re\n",
    "import time\n",
    "from time import gmtime, strftime \n",
    "import os\n",
    "import pytz\n",
    "from datetime import datetime"
   ]
  },
  {
   "cell_type": "markdown",
   "metadata": {},
   "source": [
    "Scrape the dashboard page"
   ]
  },
  {
   "cell_type": "code",
   "execution_count": 2,
   "metadata": {
    "execution": {
     "iopub.execute_input": "2021-03-24T19:47:00.936680Z",
     "iopub.status.busy": "2021-03-24T19:47:00.933277Z",
     "iopub.status.idle": "2021-03-24T19:47:01.268213Z",
     "shell.execute_reply": "2021-03-24T19:47:01.267234Z"
    }
   },
   "outputs": [],
   "source": [
    "url = \"https://public.tableau.com/interactive/views/COVID-19VaccineDashboardPublic/Vaccine?:embed=y&:showVizHome=n&:apiID=host0\"\n",
    "\n",
    "r = requests.get(url)\n",
    "soup = BeautifulSoup(r.text, \"html.parser\")"
   ]
  },
  {
   "cell_type": "code",
   "execution_count": 3,
   "metadata": {
    "execution": {
     "iopub.execute_input": "2021-03-24T19:47:01.273203Z",
     "iopub.status.busy": "2021-03-24T19:47:01.272607Z",
     "iopub.status.idle": "2021-03-24T19:47:01.275944Z",
     "shell.execute_reply": "2021-03-24T19:47:01.276457Z"
    }
   },
   "outputs": [],
   "source": [
    "tableauData = json.loads(soup.find(\"textarea\",{\"id\": \"tsConfigContainer\"}).text)"
   ]
  },
  {
   "cell_type": "markdown",
   "metadata": {},
   "source": [
    "Get the link to the Tableau data"
   ]
  },
  {
   "cell_type": "code",
   "execution_count": 4,
   "metadata": {
    "execution": {
     "iopub.execute_input": "2021-03-24T19:47:01.282233Z",
     "iopub.status.busy": "2021-03-24T19:47:01.280619Z",
     "iopub.status.idle": "2021-03-24T19:47:01.282898Z",
     "shell.execute_reply": "2021-03-24T19:47:01.283432Z"
    }
   },
   "outputs": [],
   "source": [
    "dataUrl = f'https://public.tableau.com{tableauData[\"vizql_root\"]}/bootstrapSession/sessions/{tableauData[\"sessionid\"]}'"
   ]
  },
  {
   "cell_type": "code",
   "execution_count": 5,
   "metadata": {
    "execution": {
     "iopub.execute_input": "2021-03-24T19:47:01.290073Z",
     "iopub.status.busy": "2021-03-24T19:47:01.287535Z",
     "iopub.status.idle": "2021-03-24T19:47:01.399615Z",
     "shell.execute_reply": "2021-03-24T19:47:01.400125Z"
    }
   },
   "outputs": [],
   "source": [
    "r = requests.post(dataUrl, data= {\n",
    "    \"sheet_id\": tableauData[\"sheetId\"],\n",
    "})\n",
    "\n",
    "dataReg = re.search('\\d+;({.*})\\d+;({.*})', r.text, re.MULTILINE)\n",
    "data1 = json.loads(dataReg.group(2))\n",
    "\n",
    "dataJson = data1[\"secondaryInfo\"][\"presModelMap\"][\"dataDictionary\"][\"presModelHolder\"][\"genDataDictionaryPresModel\"][\"dataSegments\"][\"0\"][\"dataColumns\"]"
   ]
  },
  {
   "cell_type": "markdown",
   "metadata": {},
   "source": [
    "Isolate what you want"
   ]
  },
  {
   "cell_type": "code",
   "execution_count": 6,
   "metadata": {
    "execution": {
     "iopub.execute_input": "2021-03-24T19:47:01.404623Z",
     "iopub.status.busy": "2021-03-24T19:47:01.403971Z",
     "iopub.status.idle": "2021-03-24T19:47:01.407769Z",
     "shell.execute_reply": "2021-03-24T19:47:01.407212Z"
    }
   },
   "outputs": [],
   "source": [
    "counties = dataJson[2]['dataValues'][:58]"
   ]
  },
  {
   "cell_type": "code",
   "execution_count": 7,
   "metadata": {
    "execution": {
     "iopub.execute_input": "2021-03-24T19:47:01.411664Z",
     "iopub.status.busy": "2021-03-24T19:47:01.411074Z",
     "iopub.status.idle": "2021-03-24T19:47:01.414920Z",
     "shell.execute_reply": "2021-03-24T19:47:01.414402Z"
    }
   },
   "outputs": [],
   "source": [
    "doses = dataJson[0]['dataValues'][3:61]"
   ]
  },
  {
   "cell_type": "markdown",
   "metadata": {},
   "source": [
    "Data formatting"
   ]
  },
  {
   "cell_type": "code",
   "execution_count": 8,
   "metadata": {
    "execution": {
     "iopub.execute_input": "2021-03-24T19:47:01.419059Z",
     "iopub.status.busy": "2021-03-24T19:47:01.418253Z",
     "iopub.status.idle": "2021-03-24T19:47:01.422295Z",
     "shell.execute_reply": "2021-03-24T19:47:01.421751Z"
    }
   },
   "outputs": [],
   "source": [
    "zipped = dict(zip(counties, doses))"
   ]
  },
  {
   "cell_type": "code",
   "execution_count": 9,
   "metadata": {
    "execution": {
     "iopub.execute_input": "2021-03-24T19:47:01.428617Z",
     "iopub.status.busy": "2021-03-24T19:47:01.427993Z",
     "iopub.status.idle": "2021-03-24T19:47:01.431811Z",
     "shell.execute_reply": "2021-03-24T19:47:01.431265Z"
    }
   },
   "outputs": [],
   "source": [
    "df = pd.Series(zipped).reset_index()"
   ]
  },
  {
   "cell_type": "code",
   "execution_count": 10,
   "metadata": {
    "execution": {
     "iopub.execute_input": "2021-03-24T19:47:01.436661Z",
     "iopub.status.busy": "2021-03-24T19:47:01.436032Z",
     "iopub.status.idle": "2021-03-24T19:47:01.439832Z",
     "shell.execute_reply": "2021-03-24T19:47:01.439316Z"
    }
   },
   "outputs": [],
   "source": [
    "df.columns = ['location','doses']"
   ]
  },
  {
   "cell_type": "markdown",
   "metadata": {},
   "source": [
    "Grab the overall California total"
   ]
  },
  {
   "cell_type": "code",
   "execution_count": 11,
   "metadata": {
    "execution": {
     "iopub.execute_input": "2021-03-24T19:47:01.443833Z",
     "iopub.status.busy": "2021-03-24T19:47:01.443246Z",
     "iopub.status.idle": "2021-03-24T19:47:01.447113Z",
     "shell.execute_reply": "2021-03-24T19:47:01.446597Z"
    }
   },
   "outputs": [],
   "source": [
    "add = {'location':'California','doses':dataJson[0]['dataValues'][2]}"
   ]
  },
  {
   "cell_type": "code",
   "execution_count": 12,
   "metadata": {
    "execution": {
     "iopub.execute_input": "2021-03-24T19:47:01.454319Z",
     "iopub.status.busy": "2021-03-24T19:47:01.453734Z",
     "iopub.status.idle": "2021-03-24T19:47:01.457131Z",
     "shell.execute_reply": "2021-03-24T19:47:01.457592Z"
    }
   },
   "outputs": [],
   "source": [
    "df = df.append(add, ignore_index=True)"
   ]
  },
  {
   "cell_type": "code",
   "execution_count": 13,
   "metadata": {
    "execution": {
     "iopub.execute_input": "2021-03-24T19:47:01.462400Z",
     "iopub.status.busy": "2021-03-24T19:47:01.461810Z",
     "iopub.status.idle": "2021-03-24T19:47:01.465744Z",
     "shell.execute_reply": "2021-03-24T19:47:01.465150Z"
    }
   },
   "outputs": [],
   "source": [
    "df = df.sort_values(by='location')"
   ]
  },
  {
   "cell_type": "code",
   "execution_count": 14,
   "metadata": {
    "execution": {
     "iopub.execute_input": "2021-03-24T19:47:01.472067Z",
     "iopub.status.busy": "2021-03-24T19:47:01.471463Z",
     "iopub.status.idle": "2021-03-24T19:47:01.474800Z",
     "shell.execute_reply": "2021-03-24T19:47:01.475264Z"
    }
   },
   "outputs": [],
   "source": [
    "df = df[df.location == 'California'].append(df[df.location != 'California']).reset_index(drop=True)"
   ]
  },
  {
   "cell_type": "code",
   "execution_count": null,
   "metadata": {},
   "outputs": [],
   "source": []
  },
  {
   "cell_type": "code",
   "execution_count": 15,
   "metadata": {
    "execution": {
     "iopub.execute_input": "2021-03-24T19:47:01.479109Z",
     "iopub.status.busy": "2021-03-24T19:47:01.478520Z",
     "iopub.status.idle": "2021-03-24T19:47:01.502070Z",
     "shell.execute_reply": "2021-03-24T19:47:01.500963Z"
    }
   },
   "outputs": [],
   "source": [
    "tz = pytz.timezone(\"America/New_York\")"
   ]
  },
  {
   "cell_type": "code",
   "execution_count": 16,
   "metadata": {
    "execution": {
     "iopub.execute_input": "2021-03-24T19:47:01.505780Z",
     "iopub.status.busy": "2021-03-24T19:47:01.505194Z",
     "iopub.status.idle": "2021-03-24T19:47:01.509059Z",
     "shell.execute_reply": "2021-03-24T19:47:01.508523Z"
    }
   },
   "outputs": [],
   "source": [
    "today = datetime.now(tz).date()"
   ]
  },
  {
   "cell_type": "code",
   "execution_count": 17,
   "metadata": {
    "execution": {
     "iopub.execute_input": "2021-03-24T19:47:01.513074Z",
     "iopub.status.busy": "2021-03-24T19:47:01.512474Z",
     "iopub.status.idle": "2021-03-24T19:47:01.516377Z",
     "shell.execute_reply": "2021-03-24T19:47:01.515707Z"
    }
   },
   "outputs": [],
   "source": [
    "data_dir = os.path.join(os.path.abspath(\"\"), \"data\")"
   ]
  },
  {
   "cell_type": "code",
   "execution_count": 18,
   "metadata": {
    "execution": {
     "iopub.execute_input": "2021-03-24T19:47:01.522552Z",
     "iopub.status.busy": "2021-03-24T19:47:01.520699Z",
     "iopub.status.idle": "2021-03-24T19:47:01.526726Z",
     "shell.execute_reply": "2021-03-24T19:47:01.527187Z"
    }
   },
   "outputs": [],
   "source": [
    "df.to_csv(os.path.join(data_dir, f\"{today}.csv\"), index=False)"
   ]
  },
  {
   "cell_type": "code",
   "execution_count": null,
   "metadata": {},
   "outputs": [],
   "source": []
  }
 ],
 "metadata": {
  "kernelspec": {
   "display_name": "Python 3",
   "language": "python",
   "name": "python3"
  },
  "language_info": {
   "codemirror_mode": {
    "name": "ipython",
    "version": 3
   },
   "file_extension": ".py",
   "mimetype": "text/x-python",
   "name": "python",
   "nbconvert_exporter": "python",
   "pygments_lexer": "ipython3",
   "version": "3.8.8"
  }
 },
 "nbformat": 4,
 "nbformat_minor": 4
}
