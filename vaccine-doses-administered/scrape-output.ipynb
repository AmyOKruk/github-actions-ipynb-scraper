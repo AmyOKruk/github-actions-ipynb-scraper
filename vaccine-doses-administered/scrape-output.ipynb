{
 "cells": [
  {
   "cell_type": "markdown",
   "metadata": {},
   "source": [
    "# California COVID vaccinations scrape"
   ]
  },
  {
   "cell_type": "markdown",
   "metadata": {},
   "source": [
    "By [Amy O'Kruk](https://twitter.com/amyokruk)"
   ]
  },
  {
   "cell_type": "markdown",
   "metadata": {},
   "source": [
    "Downloads data on vaccine doses administered by county and statewide from a Tableau-powered dashboard from the California Department of Public Health."
   ]
  },
  {
   "cell_type": "code",
   "execution_count": 1,
   "metadata": {
    "execution": {
     "iopub.execute_input": "2021-03-15T17:11:57.056642Z",
     "iopub.status.busy": "2021-03-15T17:11:57.055978Z",
     "iopub.status.idle": "2021-03-15T17:11:57.615673Z",
     "shell.execute_reply": "2021-03-15T17:11:57.614745Z"
    }
   },
   "outputs": [],
   "source": [
    "import pandas as pd\n",
    "import requests\n",
    "from bs4 import BeautifulSoup\n",
    "import json\n",
    "import re\n",
    "import time\n",
    "from time import gmtime, strftime \n",
    "import os\n",
    "import pytz\n",
    "from datetime import datetime"
   ]
  },
  {
   "cell_type": "markdown",
   "metadata": {},
   "source": [
    "Scrape the dashboard page"
   ]
  },
  {
   "cell_type": "code",
   "execution_count": 2,
   "metadata": {
    "execution": {
     "iopub.execute_input": "2021-03-15T17:11:57.622544Z",
     "iopub.status.busy": "2021-03-15T17:11:57.619320Z",
     "iopub.status.idle": "2021-03-15T17:11:58.002116Z",
     "shell.execute_reply": "2021-03-15T17:11:58.000329Z"
    }
   },
   "outputs": [],
   "source": [
    "url = \"https://public.tableau.com/interactive/views/COVID-19VaccineDashboardPublic/Vaccine?:embed=y&:showVizHome=n&:apiID=host0\"\n",
    "\n",
    "r = requests.get(url)\n",
    "soup = BeautifulSoup(r.text, \"html.parser\")"
   ]
  },
  {
   "cell_type": "code",
   "execution_count": 3,
   "metadata": {
    "execution": {
     "iopub.execute_input": "2021-03-15T17:11:58.007696Z",
     "iopub.status.busy": "2021-03-15T17:11:58.007104Z",
     "iopub.status.idle": "2021-03-15T17:11:58.010903Z",
     "shell.execute_reply": "2021-03-15T17:11:58.010393Z"
    }
   },
   "outputs": [],
   "source": [
    "tableauData = json.loads(soup.find(\"textarea\",{\"id\": \"tsConfigContainer\"}).text)"
   ]
  },
  {
   "cell_type": "markdown",
   "metadata": {},
   "source": [
    "Get the link to the Tableau data"
   ]
  },
  {
   "cell_type": "code",
   "execution_count": 4,
   "metadata": {
    "execution": {
     "iopub.execute_input": "2021-03-15T17:11:58.014667Z",
     "iopub.status.busy": "2021-03-15T17:11:58.014093Z",
     "iopub.status.idle": "2021-03-15T17:11:58.018033Z",
     "shell.execute_reply": "2021-03-15T17:11:58.017545Z"
    }
   },
   "outputs": [],
   "source": [
    "dataUrl = f'https://public.tableau.com{tableauData[\"vizql_root\"]}/bootstrapSession/sessions/{tableauData[\"sessionid\"]}'"
   ]
  },
  {
   "cell_type": "code",
   "execution_count": 5,
   "metadata": {
    "execution": {
     "iopub.execute_input": "2021-03-15T17:11:58.025467Z",
     "iopub.status.busy": "2021-03-15T17:11:58.024879Z",
     "iopub.status.idle": "2021-03-15T17:11:58.277120Z",
     "shell.execute_reply": "2021-03-15T17:11:58.276539Z"
    }
   },
   "outputs": [],
   "source": [
    "r = requests.post(dataUrl, data= {\n",
    "    \"sheet_id\": tableauData[\"sheetId\"],\n",
    "})\n",
    "\n",
    "dataReg = re.search('\\d+;({.*})\\d+;({.*})', r.text, re.MULTILINE)\n",
    "data1 = json.loads(dataReg.group(2))\n",
    "\n",
    "dataJson = data1[\"secondaryInfo\"][\"presModelMap\"][\"dataDictionary\"][\"presModelHolder\"][\"genDataDictionaryPresModel\"][\"dataSegments\"][\"0\"][\"dataColumns\"]"
   ]
  },
  {
   "cell_type": "markdown",
   "metadata": {},
   "source": [
    "Isolate what you want"
   ]
  },
  {
   "cell_type": "code",
   "execution_count": 6,
   "metadata": {
    "execution": {
     "iopub.execute_input": "2021-03-15T17:11:58.281381Z",
     "iopub.status.busy": "2021-03-15T17:11:58.280811Z",
     "iopub.status.idle": "2021-03-15T17:11:58.284609Z",
     "shell.execute_reply": "2021-03-15T17:11:58.285124Z"
    }
   },
   "outputs": [],
   "source": [
    "counties = dataJson[2]['dataValues'][:58]"
   ]
  },
  {
   "cell_type": "code",
   "execution_count": 7,
   "metadata": {
    "execution": {
     "iopub.execute_input": "2021-03-15T17:11:58.290169Z",
     "iopub.status.busy": "2021-03-15T17:11:58.289344Z",
     "iopub.status.idle": "2021-03-15T17:11:58.293537Z",
     "shell.execute_reply": "2021-03-15T17:11:58.294345Z"
    }
   },
   "outputs": [],
   "source": [
    "doses = dataJson[0]['dataValues'][3:61]"
   ]
  },
  {
   "cell_type": "markdown",
   "metadata": {},
   "source": [
    "Data formatting"
   ]
  },
  {
   "cell_type": "code",
   "execution_count": 8,
   "metadata": {
    "execution": {
     "iopub.execute_input": "2021-03-15T17:11:58.301101Z",
     "iopub.status.busy": "2021-03-15T17:11:58.300430Z",
     "iopub.status.idle": "2021-03-15T17:11:58.304978Z",
     "shell.execute_reply": "2021-03-15T17:11:58.304111Z"
    }
   },
   "outputs": [],
   "source": [
    "zipped = dict(zip(counties, doses))"
   ]
  },
  {
   "cell_type": "code",
   "execution_count": 9,
   "metadata": {
    "execution": {
     "iopub.execute_input": "2021-03-15T17:11:58.311107Z",
     "iopub.status.busy": "2021-03-15T17:11:58.310534Z",
     "iopub.status.idle": "2021-03-15T17:11:58.313902Z",
     "shell.execute_reply": "2021-03-15T17:11:58.314346Z"
    }
   },
   "outputs": [],
   "source": [
    "df = pd.Series(zipped).reset_index()"
   ]
  },
  {
   "cell_type": "code",
   "execution_count": 10,
   "metadata": {
    "execution": {
     "iopub.execute_input": "2021-03-15T17:11:58.318271Z",
     "iopub.status.busy": "2021-03-15T17:11:58.317709Z",
     "iopub.status.idle": "2021-03-15T17:11:58.320902Z",
     "shell.execute_reply": "2021-03-15T17:11:58.321382Z"
    }
   },
   "outputs": [],
   "source": [
    "df.columns = ['location','doses']"
   ]
  },
  {
   "cell_type": "markdown",
   "metadata": {},
   "source": [
    "Grab the overall California total"
   ]
  },
  {
   "cell_type": "code",
   "execution_count": 11,
   "metadata": {
    "execution": {
     "iopub.execute_input": "2021-03-15T17:11:58.325322Z",
     "iopub.status.busy": "2021-03-15T17:11:58.324758Z",
     "iopub.status.idle": "2021-03-15T17:11:58.327970Z",
     "shell.execute_reply": "2021-03-15T17:11:58.328414Z"
    }
   },
   "outputs": [],
   "source": [
    "add = {'location':'California','doses':dataJson[0]['dataValues'][2]}"
   ]
  },
  {
   "cell_type": "code",
   "execution_count": 12,
   "metadata": {
    "execution": {
     "iopub.execute_input": "2021-03-15T17:11:58.336113Z",
     "iopub.status.busy": "2021-03-15T17:11:58.333920Z",
     "iopub.status.idle": "2021-03-15T17:11:58.340821Z",
     "shell.execute_reply": "2021-03-15T17:11:58.341271Z"
    }
   },
   "outputs": [],
   "source": [
    "df = df.append(add, ignore_index=True)"
   ]
  },
  {
   "cell_type": "code",
   "execution_count": 13,
   "metadata": {
    "execution": {
     "iopub.execute_input": "2021-03-15T17:11:58.345948Z",
     "iopub.status.busy": "2021-03-15T17:11:58.345382Z",
     "iopub.status.idle": "2021-03-15T17:11:58.349043Z",
     "shell.execute_reply": "2021-03-15T17:11:58.349488Z"
    }
   },
   "outputs": [],
   "source": [
    "df = df.sort_values(by='location')"
   ]
  },
  {
   "cell_type": "code",
   "execution_count": 14,
   "metadata": {
    "execution": {
     "iopub.execute_input": "2021-03-15T17:11:58.355750Z",
     "iopub.status.busy": "2021-03-15T17:11:58.355185Z",
     "iopub.status.idle": "2021-03-15T17:11:58.358513Z",
     "shell.execute_reply": "2021-03-15T17:11:58.358997Z"
    }
   },
   "outputs": [],
   "source": [
    "df = df[df.location == 'California'].append(df[df.location != 'California']).reset_index(drop=True)"
   ]
  },
  {
   "cell_type": "code",
   "execution_count": null,
   "metadata": {},
   "outputs": [],
   "source": []
  },
  {
   "cell_type": "code",
   "execution_count": 15,
   "metadata": {
    "execution": {
     "iopub.execute_input": "2021-03-15T17:11:58.362834Z",
     "iopub.status.busy": "2021-03-15T17:11:58.361859Z",
     "iopub.status.idle": "2021-03-15T17:11:58.383237Z",
     "shell.execute_reply": "2021-03-15T17:11:58.382725Z"
    }
   },
   "outputs": [],
   "source": [
    "tz = pytz.timezone(\"America/New_York\")"
   ]
  },
  {
   "cell_type": "code",
   "execution_count": 16,
   "metadata": {
    "execution": {
     "iopub.execute_input": "2021-03-15T17:11:58.387155Z",
     "iopub.status.busy": "2021-03-15T17:11:58.386583Z",
     "iopub.status.idle": "2021-03-15T17:11:58.390290Z",
     "shell.execute_reply": "2021-03-15T17:11:58.389816Z"
    }
   },
   "outputs": [],
   "source": [
    "today = datetime.now(tz).date()"
   ]
  },
  {
   "cell_type": "code",
   "execution_count": 17,
   "metadata": {
    "execution": {
     "iopub.execute_input": "2021-03-15T17:11:58.399933Z",
     "iopub.status.busy": "2021-03-15T17:11:58.399262Z",
     "iopub.status.idle": "2021-03-15T17:11:58.404572Z",
     "shell.execute_reply": "2021-03-15T17:11:58.403989Z"
    }
   },
   "outputs": [],
   "source": [
    "data_dir = os.path.join(os.path.abspath(\"\"), \"data\")"
   ]
  },
  {
   "cell_type": "code",
   "execution_count": 18,
   "metadata": {
    "execution": {
     "iopub.execute_input": "2021-03-15T17:11:58.412322Z",
     "iopub.status.busy": "2021-03-15T17:11:58.411734Z",
     "iopub.status.idle": "2021-03-15T17:11:58.500950Z",
     "shell.execute_reply": "2021-03-15T17:11:58.500383Z"
    }
   },
   "outputs": [],
   "source": [
    "df.to_csv(os.path.join(data_dir, f\"{today}.csv\"), index=False)"
   ]
  },
  {
   "cell_type": "code",
   "execution_count": null,
   "metadata": {},
   "outputs": [],
   "source": []
  }
 ],
 "metadata": {
  "kernelspec": {
   "display_name": "Python 3",
   "language": "python",
   "name": "python3"
  },
  "language_info": {
   "codemirror_mode": {
    "name": "ipython",
    "version": 3
   },
   "file_extension": ".py",
   "mimetype": "text/x-python",
   "name": "python",
   "nbconvert_exporter": "python",
   "pygments_lexer": "ipython3",
   "version": "3.8.8"
  }
 },
 "nbformat": 4,
 "nbformat_minor": 4
}
