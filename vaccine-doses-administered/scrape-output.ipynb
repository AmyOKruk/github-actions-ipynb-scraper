{
 "cells": [
  {
   "cell_type": "markdown",
   "metadata": {},
   "source": [
    "# California COVID vaccinations scrape"
   ]
  },
  {
   "cell_type": "markdown",
   "metadata": {},
   "source": [
    "By [Amy O'Kruk](https://twitter.com/amyokruk)"
   ]
  },
  {
   "cell_type": "markdown",
   "metadata": {},
   "source": [
    "Downloads data on vaccine doses administered by county and statewide from a Tableau-powered dashboard from the California Department of Public Health."
   ]
  },
  {
   "cell_type": "code",
   "execution_count": 1,
   "metadata": {
    "execution": {
     "iopub.execute_input": "2021-03-18T07:40:16.434461Z",
     "iopub.status.busy": "2021-03-18T07:40:16.433840Z",
     "iopub.status.idle": "2021-03-18T07:40:16.850229Z",
     "shell.execute_reply": "2021-03-18T07:40:16.849105Z"
    }
   },
   "outputs": [],
   "source": [
    "import pandas as pd\n",
    "import requests\n",
    "from bs4 import BeautifulSoup\n",
    "import json\n",
    "import re\n",
    "import time\n",
    "from time import gmtime, strftime \n",
    "import os\n",
    "import pytz\n",
    "from datetime import datetime"
   ]
  },
  {
   "cell_type": "markdown",
   "metadata": {},
   "source": [
    "Scrape the dashboard page"
   ]
  },
  {
   "cell_type": "code",
   "execution_count": 2,
   "metadata": {
    "execution": {
     "iopub.execute_input": "2021-03-18T07:40:16.856230Z",
     "iopub.status.busy": "2021-03-18T07:40:16.854257Z",
     "iopub.status.idle": "2021-03-18T07:40:17.303802Z",
     "shell.execute_reply": "2021-03-18T07:40:17.303273Z"
    }
   },
   "outputs": [],
   "source": [
    "url = \"https://public.tableau.com/interactive/views/COVID-19VaccineDashboardPublic/Vaccine?:embed=y&:showVizHome=n&:apiID=host0\"\n",
    "\n",
    "r = requests.get(url)\n",
    "soup = BeautifulSoup(r.text, \"html.parser\")"
   ]
  },
  {
   "cell_type": "code",
   "execution_count": 3,
   "metadata": {
    "execution": {
     "iopub.execute_input": "2021-03-18T07:40:17.309822Z",
     "iopub.status.busy": "2021-03-18T07:40:17.308950Z",
     "iopub.status.idle": "2021-03-18T07:40:17.313381Z",
     "shell.execute_reply": "2021-03-18T07:40:17.312939Z"
    }
   },
   "outputs": [],
   "source": [
    "tableauData = json.loads(soup.find(\"textarea\",{\"id\": \"tsConfigContainer\"}).text)"
   ]
  },
  {
   "cell_type": "markdown",
   "metadata": {},
   "source": [
    "Get the link to the Tableau data"
   ]
  },
  {
   "cell_type": "code",
   "execution_count": 4,
   "metadata": {
    "execution": {
     "iopub.execute_input": "2021-03-18T07:40:17.316983Z",
     "iopub.status.busy": "2021-03-18T07:40:17.316440Z",
     "iopub.status.idle": "2021-03-18T07:40:17.319886Z",
     "shell.execute_reply": "2021-03-18T07:40:17.319465Z"
    }
   },
   "outputs": [],
   "source": [
    "dataUrl = f'https://public.tableau.com{tableauData[\"vizql_root\"]}/bootstrapSession/sessions/{tableauData[\"sessionid\"]}'"
   ]
  },
  {
   "cell_type": "code",
   "execution_count": 5,
   "metadata": {
    "execution": {
     "iopub.execute_input": "2021-03-18T07:40:17.326316Z",
     "iopub.status.busy": "2021-03-18T07:40:17.325792Z",
     "iopub.status.idle": "2021-03-18T07:40:17.621620Z",
     "shell.execute_reply": "2021-03-18T07:40:17.620731Z"
    }
   },
   "outputs": [],
   "source": [
    "r = requests.post(dataUrl, data= {\n",
    "    \"sheet_id\": tableauData[\"sheetId\"],\n",
    "})\n",
    "\n",
    "dataReg = re.search('\\d+;({.*})\\d+;({.*})', r.text, re.MULTILINE)\n",
    "data1 = json.loads(dataReg.group(2))\n",
    "\n",
    "dataJson = data1[\"secondaryInfo\"][\"presModelMap\"][\"dataDictionary\"][\"presModelHolder\"][\"genDataDictionaryPresModel\"][\"dataSegments\"][\"0\"][\"dataColumns\"]"
   ]
  },
  {
   "cell_type": "markdown",
   "metadata": {},
   "source": [
    "Isolate what you want"
   ]
  },
  {
   "cell_type": "code",
   "execution_count": 6,
   "metadata": {
    "execution": {
     "iopub.execute_input": "2021-03-18T07:40:17.627509Z",
     "iopub.status.busy": "2021-03-18T07:40:17.626688Z",
     "iopub.status.idle": "2021-03-18T07:40:17.628449Z",
     "shell.execute_reply": "2021-03-18T07:40:17.627994Z"
    }
   },
   "outputs": [],
   "source": [
    "counties = dataJson[2]['dataValues'][:58]"
   ]
  },
  {
   "cell_type": "code",
   "execution_count": 7,
   "metadata": {
    "execution": {
     "iopub.execute_input": "2021-03-18T07:40:17.632747Z",
     "iopub.status.busy": "2021-03-18T07:40:17.631528Z",
     "iopub.status.idle": "2021-03-18T07:40:17.633366Z",
     "shell.execute_reply": "2021-03-18T07:40:17.633767Z"
    }
   },
   "outputs": [],
   "source": [
    "doses = dataJson[0]['dataValues'][3:61]"
   ]
  },
  {
   "cell_type": "markdown",
   "metadata": {},
   "source": [
    "Data formatting"
   ]
  },
  {
   "cell_type": "code",
   "execution_count": 8,
   "metadata": {
    "execution": {
     "iopub.execute_input": "2021-03-18T07:40:17.638008Z",
     "iopub.status.busy": "2021-03-18T07:40:17.636846Z",
     "iopub.status.idle": "2021-03-18T07:40:17.638593Z",
     "shell.execute_reply": "2021-03-18T07:40:17.639023Z"
    }
   },
   "outputs": [],
   "source": [
    "zipped = dict(zip(counties, doses))"
   ]
  },
  {
   "cell_type": "code",
   "execution_count": 9,
   "metadata": {
    "execution": {
     "iopub.execute_input": "2021-03-18T07:40:17.645412Z",
     "iopub.status.busy": "2021-03-18T07:40:17.644163Z",
     "iopub.status.idle": "2021-03-18T07:40:17.645969Z",
     "shell.execute_reply": "2021-03-18T07:40:17.646362Z"
    }
   },
   "outputs": [],
   "source": [
    "df = pd.Series(zipped).reset_index()"
   ]
  },
  {
   "cell_type": "code",
   "execution_count": 10,
   "metadata": {
    "execution": {
     "iopub.execute_input": "2021-03-18T07:40:17.650628Z",
     "iopub.status.busy": "2021-03-18T07:40:17.649553Z",
     "iopub.status.idle": "2021-03-18T07:40:17.651181Z",
     "shell.execute_reply": "2021-03-18T07:40:17.651574Z"
    }
   },
   "outputs": [],
   "source": [
    "df.columns = ['location','doses']"
   ]
  },
  {
   "cell_type": "markdown",
   "metadata": {},
   "source": [
    "Grab the overall California total"
   ]
  },
  {
   "cell_type": "code",
   "execution_count": 11,
   "metadata": {
    "execution": {
     "iopub.execute_input": "2021-03-18T07:40:17.655814Z",
     "iopub.status.busy": "2021-03-18T07:40:17.654703Z",
     "iopub.status.idle": "2021-03-18T07:40:17.656420Z",
     "shell.execute_reply": "2021-03-18T07:40:17.656843Z"
    }
   },
   "outputs": [],
   "source": [
    "add = {'location':'California','doses':dataJson[0]['dataValues'][2]}"
   ]
  },
  {
   "cell_type": "code",
   "execution_count": 12,
   "metadata": {
    "execution": {
     "iopub.execute_input": "2021-03-18T07:40:17.663907Z",
     "iopub.status.busy": "2021-03-18T07:40:17.662722Z",
     "iopub.status.idle": "2021-03-18T07:40:17.664515Z",
     "shell.execute_reply": "2021-03-18T07:40:17.664979Z"
    }
   },
   "outputs": [],
   "source": [
    "df = df.append(add, ignore_index=True)"
   ]
  },
  {
   "cell_type": "code",
   "execution_count": 13,
   "metadata": {
    "execution": {
     "iopub.execute_input": "2021-03-18T07:40:17.669693Z",
     "iopub.status.busy": "2021-03-18T07:40:17.668535Z",
     "iopub.status.idle": "2021-03-18T07:40:17.670240Z",
     "shell.execute_reply": "2021-03-18T07:40:17.670587Z"
    }
   },
   "outputs": [],
   "source": [
    "df = df.sort_values(by='location')"
   ]
  },
  {
   "cell_type": "code",
   "execution_count": 14,
   "metadata": {
    "execution": {
     "iopub.execute_input": "2021-03-18T07:40:17.676842Z",
     "iopub.status.busy": "2021-03-18T07:40:17.675714Z",
     "iopub.status.idle": "2021-03-18T07:40:17.677410Z",
     "shell.execute_reply": "2021-03-18T07:40:17.677753Z"
    }
   },
   "outputs": [],
   "source": [
    "df = df[df.location == 'California'].append(df[df.location != 'California']).reset_index(drop=True)"
   ]
  },
  {
   "cell_type": "code",
   "execution_count": null,
   "metadata": {},
   "outputs": [],
   "source": []
  },
  {
   "cell_type": "code",
   "execution_count": 15,
   "metadata": {
    "execution": {
     "iopub.execute_input": "2021-03-18T07:40:17.681096Z",
     "iopub.status.busy": "2021-03-18T07:40:17.680548Z",
     "iopub.status.idle": "2021-03-18T07:40:17.697660Z",
     "shell.execute_reply": "2021-03-18T07:40:17.697204Z"
    }
   },
   "outputs": [],
   "source": [
    "tz = pytz.timezone(\"America/New_York\")"
   ]
  },
  {
   "cell_type": "code",
   "execution_count": 16,
   "metadata": {
    "execution": {
     "iopub.execute_input": "2021-03-18T07:40:17.701809Z",
     "iopub.status.busy": "2021-03-18T07:40:17.700617Z",
     "iopub.status.idle": "2021-03-18T07:40:17.702376Z",
     "shell.execute_reply": "2021-03-18T07:40:17.702772Z"
    }
   },
   "outputs": [],
   "source": [
    "today = datetime.now(tz).date()"
   ]
  },
  {
   "cell_type": "code",
   "execution_count": 17,
   "metadata": {
    "execution": {
     "iopub.execute_input": "2021-03-18T07:40:17.707112Z",
     "iopub.status.busy": "2021-03-18T07:40:17.705898Z",
     "iopub.status.idle": "2021-03-18T07:40:17.707662Z",
     "shell.execute_reply": "2021-03-18T07:40:17.708103Z"
    }
   },
   "outputs": [],
   "source": [
    "data_dir = os.path.join(os.path.abspath(\"\"), \"data\")"
   ]
  },
  {
   "cell_type": "code",
   "execution_count": 18,
   "metadata": {
    "execution": {
     "iopub.execute_input": "2021-03-18T07:40:17.713391Z",
     "iopub.status.busy": "2021-03-18T07:40:17.712441Z",
     "iopub.status.idle": "2021-03-18T07:40:17.715762Z",
     "shell.execute_reply": "2021-03-18T07:40:17.715237Z"
    }
   },
   "outputs": [],
   "source": [
    "df.to_csv(os.path.join(data_dir, f\"{today}.csv\"), index=False)"
   ]
  },
  {
   "cell_type": "code",
   "execution_count": null,
   "metadata": {},
   "outputs": [],
   "source": []
  }
 ],
 "metadata": {
  "kernelspec": {
   "display_name": "Python 3",
   "language": "python",
   "name": "python3"
  },
  "language_info": {
   "codemirror_mode": {
    "name": "ipython",
    "version": 3
   },
   "file_extension": ".py",
   "mimetype": "text/x-python",
   "name": "python",
   "nbconvert_exporter": "python",
   "pygments_lexer": "ipython3",
   "version": "3.8.8"
  }
 },
 "nbformat": 4,
 "nbformat_minor": 4
}
