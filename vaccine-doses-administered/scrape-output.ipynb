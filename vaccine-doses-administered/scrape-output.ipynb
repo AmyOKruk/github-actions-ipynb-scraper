{
 "cells": [
  {
   "cell_type": "markdown",
   "metadata": {},
   "source": [
    "# California COVID vaccinations scrape"
   ]
  },
  {
   "cell_type": "markdown",
   "metadata": {},
   "source": [
    "By [Amy O'Kruk](https://twitter.com/amyokruk)"
   ]
  },
  {
   "cell_type": "markdown",
   "metadata": {},
   "source": [
    "Downloads data on vaccine doses administered by county and statewide from a Tableau-powered dashboard from the California Department of Public Health."
   ]
  },
  {
   "cell_type": "code",
   "execution_count": 1,
   "metadata": {
    "execution": {
     "iopub.execute_input": "2021-03-23T13:03:16.355367Z",
     "iopub.status.busy": "2021-03-23T13:03:16.354549Z",
     "iopub.status.idle": "2021-03-23T13:03:16.895229Z",
     "shell.execute_reply": "2021-03-23T13:03:16.894554Z"
    }
   },
   "outputs": [],
   "source": [
    "import pandas as pd\n",
    "import requests\n",
    "from bs4 import BeautifulSoup\n",
    "import json\n",
    "import re\n",
    "import time\n",
    "from time import gmtime, strftime \n",
    "import os\n",
    "import pytz\n",
    "from datetime import datetime"
   ]
  },
  {
   "cell_type": "markdown",
   "metadata": {},
   "source": [
    "Scrape the dashboard page"
   ]
  },
  {
   "cell_type": "code",
   "execution_count": 2,
   "metadata": {
    "execution": {
     "iopub.execute_input": "2021-03-23T13:03:16.903277Z",
     "iopub.status.busy": "2021-03-23T13:03:16.899229Z",
     "iopub.status.idle": "2021-03-23T13:03:17.441288Z",
     "shell.execute_reply": "2021-03-23T13:03:17.440258Z"
    }
   },
   "outputs": [],
   "source": [
    "url = \"https://public.tableau.com/interactive/views/COVID-19VaccineDashboardPublic/Vaccine?:embed=y&:showVizHome=n&:apiID=host0\"\n",
    "\n",
    "r = requests.get(url)\n",
    "soup = BeautifulSoup(r.text, \"html.parser\")"
   ]
  },
  {
   "cell_type": "code",
   "execution_count": 3,
   "metadata": {
    "execution": {
     "iopub.execute_input": "2021-03-23T13:03:17.451312Z",
     "iopub.status.busy": "2021-03-23T13:03:17.450326Z",
     "iopub.status.idle": "2021-03-23T13:03:17.453087Z",
     "shell.execute_reply": "2021-03-23T13:03:17.454130Z"
    }
   },
   "outputs": [],
   "source": [
    "tableauData = json.loads(soup.find(\"textarea\",{\"id\": \"tsConfigContainer\"}).text)"
   ]
  },
  {
   "cell_type": "markdown",
   "metadata": {},
   "source": [
    "Get the link to the Tableau data"
   ]
  },
  {
   "cell_type": "code",
   "execution_count": 4,
   "metadata": {
    "execution": {
     "iopub.execute_input": "2021-03-23T13:03:17.460301Z",
     "iopub.status.busy": "2021-03-23T13:03:17.459687Z",
     "iopub.status.idle": "2021-03-23T13:03:17.463621Z",
     "shell.execute_reply": "2021-03-23T13:03:17.464172Z"
    }
   },
   "outputs": [],
   "source": [
    "dataUrl = f'https://public.tableau.com{tableauData[\"vizql_root\"]}/bootstrapSession/sessions/{tableauData[\"sessionid\"]}'"
   ]
  },
  {
   "cell_type": "code",
   "execution_count": 5,
   "metadata": {
    "execution": {
     "iopub.execute_input": "2021-03-23T13:03:17.472604Z",
     "iopub.status.busy": "2021-03-23T13:03:17.471881Z",
     "iopub.status.idle": "2021-03-23T13:03:17.788504Z",
     "shell.execute_reply": "2021-03-23T13:03:17.787897Z"
    }
   },
   "outputs": [],
   "source": [
    "r = requests.post(dataUrl, data= {\n",
    "    \"sheet_id\": tableauData[\"sheetId\"],\n",
    "})\n",
    "\n",
    "dataReg = re.search('\\d+;({.*})\\d+;({.*})', r.text, re.MULTILINE)\n",
    "data1 = json.loads(dataReg.group(2))\n",
    "\n",
    "dataJson = data1[\"secondaryInfo\"][\"presModelMap\"][\"dataDictionary\"][\"presModelHolder\"][\"genDataDictionaryPresModel\"][\"dataSegments\"][\"0\"][\"dataColumns\"]"
   ]
  },
  {
   "cell_type": "markdown",
   "metadata": {},
   "source": [
    "Isolate what you want"
   ]
  },
  {
   "cell_type": "code",
   "execution_count": 6,
   "metadata": {
    "execution": {
     "iopub.execute_input": "2021-03-23T13:03:17.793086Z",
     "iopub.status.busy": "2021-03-23T13:03:17.792484Z",
     "iopub.status.idle": "2021-03-23T13:03:17.797516Z",
     "shell.execute_reply": "2021-03-23T13:03:17.796983Z"
    }
   },
   "outputs": [],
   "source": [
    "counties = dataJson[2]['dataValues'][:58]"
   ]
  },
  {
   "cell_type": "code",
   "execution_count": 7,
   "metadata": {
    "execution": {
     "iopub.execute_input": "2021-03-23T13:03:17.802772Z",
     "iopub.status.busy": "2021-03-23T13:03:17.802129Z",
     "iopub.status.idle": "2021-03-23T13:03:17.806284Z",
     "shell.execute_reply": "2021-03-23T13:03:17.805683Z"
    }
   },
   "outputs": [],
   "source": [
    "doses = dataJson[0]['dataValues'][3:61]"
   ]
  },
  {
   "cell_type": "markdown",
   "metadata": {},
   "source": [
    "Data formatting"
   ]
  },
  {
   "cell_type": "code",
   "execution_count": 8,
   "metadata": {
    "execution": {
     "iopub.execute_input": "2021-03-23T13:03:17.810492Z",
     "iopub.status.busy": "2021-03-23T13:03:17.809777Z",
     "iopub.status.idle": "2021-03-23T13:03:17.816361Z",
     "shell.execute_reply": "2021-03-23T13:03:17.815785Z"
    }
   },
   "outputs": [],
   "source": [
    "zipped = dict(zip(counties, doses))"
   ]
  },
  {
   "cell_type": "code",
   "execution_count": 9,
   "metadata": {
    "execution": {
     "iopub.execute_input": "2021-03-23T13:03:17.824537Z",
     "iopub.status.busy": "2021-03-23T13:03:17.823022Z",
     "iopub.status.idle": "2021-03-23T13:03:17.825221Z",
     "shell.execute_reply": "2021-03-23T13:03:17.825728Z"
    }
   },
   "outputs": [],
   "source": [
    "df = pd.Series(zipped).reset_index()"
   ]
  },
  {
   "cell_type": "code",
   "execution_count": 10,
   "metadata": {
    "execution": {
     "iopub.execute_input": "2021-03-23T13:03:17.834029Z",
     "iopub.status.busy": "2021-03-23T13:03:17.832520Z",
     "iopub.status.idle": "2021-03-23T13:03:17.834742Z",
     "shell.execute_reply": "2021-03-23T13:03:17.835247Z"
    }
   },
   "outputs": [],
   "source": [
    "df.columns = ['location','doses']"
   ]
  },
  {
   "cell_type": "markdown",
   "metadata": {},
   "source": [
    "Grab the overall California total"
   ]
  },
  {
   "cell_type": "code",
   "execution_count": 11,
   "metadata": {
    "execution": {
     "iopub.execute_input": "2021-03-23T13:03:17.840750Z",
     "iopub.status.busy": "2021-03-23T13:03:17.839344Z",
     "iopub.status.idle": "2021-03-23T13:03:17.841419Z",
     "shell.execute_reply": "2021-03-23T13:03:17.841920Z"
    }
   },
   "outputs": [],
   "source": [
    "add = {'location':'California','doses':dataJson[0]['dataValues'][2]}"
   ]
  },
  {
   "cell_type": "code",
   "execution_count": 12,
   "metadata": {
    "execution": {
     "iopub.execute_input": "2021-03-23T13:03:17.850726Z",
     "iopub.status.busy": "2021-03-23T13:03:17.849257Z",
     "iopub.status.idle": "2021-03-23T13:03:17.851409Z",
     "shell.execute_reply": "2021-03-23T13:03:17.851909Z"
    }
   },
   "outputs": [],
   "source": [
    "df = df.append(add, ignore_index=True)"
   ]
  },
  {
   "cell_type": "code",
   "execution_count": 13,
   "metadata": {
    "execution": {
     "iopub.execute_input": "2021-03-23T13:03:17.858240Z",
     "iopub.status.busy": "2021-03-23T13:03:17.856782Z",
     "iopub.status.idle": "2021-03-23T13:03:17.858950Z",
     "shell.execute_reply": "2021-03-23T13:03:17.859455Z"
    }
   },
   "outputs": [],
   "source": [
    "df = df.sort_values(by='location')"
   ]
  },
  {
   "cell_type": "code",
   "execution_count": 14,
   "metadata": {
    "execution": {
     "iopub.execute_input": "2021-03-23T13:03:17.867299Z",
     "iopub.status.busy": "2021-03-23T13:03:17.866166Z",
     "iopub.status.idle": "2021-03-23T13:03:17.868469Z",
     "shell.execute_reply": "2021-03-23T13:03:17.868985Z"
    }
   },
   "outputs": [],
   "source": [
    "df = df[df.location == 'California'].append(df[df.location != 'California']).reset_index(drop=True)"
   ]
  },
  {
   "cell_type": "code",
   "execution_count": null,
   "metadata": {},
   "outputs": [],
   "source": []
  },
  {
   "cell_type": "code",
   "execution_count": 15,
   "metadata": {
    "execution": {
     "iopub.execute_input": "2021-03-23T13:03:17.873525Z",
     "iopub.status.busy": "2021-03-23T13:03:17.872889Z",
     "iopub.status.idle": "2021-03-23T13:03:17.897465Z",
     "shell.execute_reply": "2021-03-23T13:03:17.896831Z"
    }
   },
   "outputs": [],
   "source": [
    "tz = pytz.timezone(\"America/New_York\")"
   ]
  },
  {
   "cell_type": "code",
   "execution_count": 16,
   "metadata": {
    "execution": {
     "iopub.execute_input": "2021-03-23T13:03:17.903924Z",
     "iopub.status.busy": "2021-03-23T13:03:17.902393Z",
     "iopub.status.idle": "2021-03-23T13:03:17.904748Z",
     "shell.execute_reply": "2021-03-23T13:03:17.905276Z"
    }
   },
   "outputs": [],
   "source": [
    "today = datetime.now(tz).date()"
   ]
  },
  {
   "cell_type": "code",
   "execution_count": 17,
   "metadata": {
    "execution": {
     "iopub.execute_input": "2021-03-23T13:03:17.910900Z",
     "iopub.status.busy": "2021-03-23T13:03:17.909544Z",
     "iopub.status.idle": "2021-03-23T13:03:17.911815Z",
     "shell.execute_reply": "2021-03-23T13:03:17.912353Z"
    }
   },
   "outputs": [],
   "source": [
    "data_dir = os.path.join(os.path.abspath(\"\"), \"data\")"
   ]
  },
  {
   "cell_type": "code",
   "execution_count": 18,
   "metadata": {
    "execution": {
     "iopub.execute_input": "2021-03-23T13:03:17.917564Z",
     "iopub.status.busy": "2021-03-23T13:03:17.916947Z",
     "iopub.status.idle": "2021-03-23T13:03:17.922541Z",
     "shell.execute_reply": "2021-03-23T13:03:17.921776Z"
    }
   },
   "outputs": [],
   "source": [
    "df.to_csv(os.path.join(data_dir, f\"{today}.csv\"), index=False)"
   ]
  },
  {
   "cell_type": "code",
   "execution_count": null,
   "metadata": {},
   "outputs": [],
   "source": []
  }
 ],
 "metadata": {
  "kernelspec": {
   "display_name": "Python 3",
   "language": "python",
   "name": "python3"
  },
  "language_info": {
   "codemirror_mode": {
    "name": "ipython",
    "version": 3
   },
   "file_extension": ".py",
   "mimetype": "text/x-python",
   "name": "python",
   "nbconvert_exporter": "python",
   "pygments_lexer": "ipython3",
   "version": "3.8.8"
  }
 },
 "nbformat": 4,
 "nbformat_minor": 4
}
