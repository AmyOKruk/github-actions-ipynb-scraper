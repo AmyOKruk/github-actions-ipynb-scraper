{
 "cells": [
  {
   "cell_type": "markdown",
   "metadata": {},
   "source": [
    "# California COVID vaccinations scrape"
   ]
  },
  {
   "cell_type": "markdown",
   "metadata": {},
   "source": [
    "By [Amy O'Kruk](https://twitter.com/amyokruk)"
   ]
  },
  {
   "cell_type": "markdown",
   "metadata": {},
   "source": [
    "Downloads data on vaccine doses administered by county and statewide from a Tableau-powered dashboard from the California Department of Public Health."
   ]
  },
  {
   "cell_type": "code",
   "execution_count": 1,
   "metadata": {
    "execution": {
     "iopub.execute_input": "2021-03-14T10:14:13.394189Z",
     "iopub.status.busy": "2021-03-14T10:14:13.393577Z",
     "iopub.status.idle": "2021-03-14T10:14:13.767068Z",
     "shell.execute_reply": "2021-03-14T10:14:13.766036Z"
    }
   },
   "outputs": [],
   "source": [
    "import pandas as pd\n",
    "import requests\n",
    "from bs4 import BeautifulSoup\n",
    "import json\n",
    "import re\n",
    "import time\n",
    "from time import gmtime, strftime \n",
    "import os\n",
    "import pytz\n",
    "from datetime import datetime"
   ]
  },
  {
   "cell_type": "markdown",
   "metadata": {},
   "source": [
    "Scrape the dashboard page"
   ]
  },
  {
   "cell_type": "code",
   "execution_count": 2,
   "metadata": {
    "execution": {
     "iopub.execute_input": "2021-03-14T10:14:13.770955Z",
     "iopub.status.busy": "2021-03-14T10:14:13.770440Z",
     "iopub.status.idle": "2021-03-14T10:14:14.286426Z",
     "shell.execute_reply": "2021-03-14T10:14:14.285937Z"
    }
   },
   "outputs": [],
   "source": [
    "url = \"https://public.tableau.com/interactive/views/COVID-19VaccineDashboardPublic/Vaccine?:embed=y&:showVizHome=n&:apiID=host0\"\n",
    "\n",
    "r = requests.get(url)\n",
    "soup = BeautifulSoup(r.text, \"html.parser\")"
   ]
  },
  {
   "cell_type": "code",
   "execution_count": 3,
   "metadata": {
    "execution": {
     "iopub.execute_input": "2021-03-14T10:14:14.291371Z",
     "iopub.status.busy": "2021-03-14T10:14:14.290844Z",
     "iopub.status.idle": "2021-03-14T10:14:14.294464Z",
     "shell.execute_reply": "2021-03-14T10:14:14.294031Z"
    }
   },
   "outputs": [],
   "source": [
    "tableauData = json.loads(soup.find(\"textarea\",{\"id\": \"tsConfigContainer\"}).text)"
   ]
  },
  {
   "cell_type": "markdown",
   "metadata": {},
   "source": [
    "Get the link to the Tableau data"
   ]
  },
  {
   "cell_type": "code",
   "execution_count": 4,
   "metadata": {
    "execution": {
     "iopub.execute_input": "2021-03-14T10:14:14.298947Z",
     "iopub.status.busy": "2021-03-14T10:14:14.297456Z",
     "iopub.status.idle": "2021-03-14T10:14:14.299546Z",
     "shell.execute_reply": "2021-03-14T10:14:14.299974Z"
    }
   },
   "outputs": [],
   "source": [
    "dataUrl = f'https://public.tableau.com{tableauData[\"vizql_root\"]}/bootstrapSession/sessions/{tableauData[\"sessionid\"]}'"
   ]
  },
  {
   "cell_type": "code",
   "execution_count": 5,
   "metadata": {
    "execution": {
     "iopub.execute_input": "2021-03-14T10:14:14.307049Z",
     "iopub.status.busy": "2021-03-14T10:14:14.306527Z",
     "iopub.status.idle": "2021-03-14T10:14:14.574333Z",
     "shell.execute_reply": "2021-03-14T10:14:14.573448Z"
    }
   },
   "outputs": [],
   "source": [
    "r = requests.post(dataUrl, data= {\n",
    "    \"sheet_id\": tableauData[\"sheetId\"],\n",
    "})\n",
    "\n",
    "dataReg = re.search('\\d+;({.*})\\d+;({.*})', r.text, re.MULTILINE)\n",
    "data1 = json.loads(dataReg.group(2))\n",
    "\n",
    "dataJson = data1[\"secondaryInfo\"][\"presModelMap\"][\"dataDictionary\"][\"presModelHolder\"][\"genDataDictionaryPresModel\"][\"dataSegments\"][\"0\"][\"dataColumns\"]"
   ]
  },
  {
   "cell_type": "markdown",
   "metadata": {},
   "source": [
    "Isolate what you want"
   ]
  },
  {
   "cell_type": "code",
   "execution_count": 6,
   "metadata": {
    "execution": {
     "iopub.execute_input": "2021-03-14T10:14:14.579391Z",
     "iopub.status.busy": "2021-03-14T10:14:14.578165Z",
     "iopub.status.idle": "2021-03-14T10:14:14.579977Z",
     "shell.execute_reply": "2021-03-14T10:14:14.580402Z"
    }
   },
   "outputs": [],
   "source": [
    "counties = dataJson[2]['dataValues'][:58]"
   ]
  },
  {
   "cell_type": "code",
   "execution_count": 7,
   "metadata": {
    "execution": {
     "iopub.execute_input": "2021-03-14T10:14:14.584645Z",
     "iopub.status.busy": "2021-03-14T10:14:14.583525Z",
     "iopub.status.idle": "2021-03-14T10:14:14.585609Z",
     "shell.execute_reply": "2021-03-14T10:14:14.586053Z"
    }
   },
   "outputs": [],
   "source": [
    "doses = dataJson[0]['dataValues'][3:61]"
   ]
  },
  {
   "cell_type": "markdown",
   "metadata": {},
   "source": [
    "Data formatting"
   ]
  },
  {
   "cell_type": "code",
   "execution_count": 8,
   "metadata": {
    "execution": {
     "iopub.execute_input": "2021-03-14T10:14:14.590194Z",
     "iopub.status.busy": "2021-03-14T10:14:14.589282Z",
     "iopub.status.idle": "2021-03-14T10:14:14.591487Z",
     "shell.execute_reply": "2021-03-14T10:14:14.591056Z"
    }
   },
   "outputs": [],
   "source": [
    "zipped = dict(zip(counties, doses))"
   ]
  },
  {
   "cell_type": "code",
   "execution_count": 9,
   "metadata": {
    "execution": {
     "iopub.execute_input": "2021-03-14T10:14:14.598151Z",
     "iopub.status.busy": "2021-03-14T10:14:14.597230Z",
     "iopub.status.idle": "2021-03-14T10:14:14.599077Z",
     "shell.execute_reply": "2021-03-14T10:14:14.599510Z"
    }
   },
   "outputs": [],
   "source": [
    "df = pd.Series(zipped).reset_index()"
   ]
  },
  {
   "cell_type": "code",
   "execution_count": 10,
   "metadata": {
    "execution": {
     "iopub.execute_input": "2021-03-14T10:14:14.606154Z",
     "iopub.status.busy": "2021-03-14T10:14:14.605030Z",
     "iopub.status.idle": "2021-03-14T10:14:14.606749Z",
     "shell.execute_reply": "2021-03-14T10:14:14.607175Z"
    }
   },
   "outputs": [],
   "source": [
    "df.columns = ['location','doses']"
   ]
  },
  {
   "cell_type": "markdown",
   "metadata": {},
   "source": [
    "Grab the overall California total"
   ]
  },
  {
   "cell_type": "code",
   "execution_count": 11,
   "metadata": {
    "execution": {
     "iopub.execute_input": "2021-03-14T10:14:14.611324Z",
     "iopub.status.busy": "2021-03-14T10:14:14.610431Z",
     "iopub.status.idle": "2021-03-14T10:14:14.612697Z",
     "shell.execute_reply": "2021-03-14T10:14:14.612241Z"
    }
   },
   "outputs": [],
   "source": [
    "add = {'location':'California','doses':dataJson[0]['dataValues'][2]}"
   ]
  },
  {
   "cell_type": "code",
   "execution_count": 12,
   "metadata": {
    "execution": {
     "iopub.execute_input": "2021-03-14T10:14:14.619913Z",
     "iopub.status.busy": "2021-03-14T10:14:14.619013Z",
     "iopub.status.idle": "2021-03-14T10:14:14.621226Z",
     "shell.execute_reply": "2021-03-14T10:14:14.620802Z"
    }
   },
   "outputs": [],
   "source": [
    "df = df.append(add, ignore_index=True)"
   ]
  },
  {
   "cell_type": "code",
   "execution_count": 13,
   "metadata": {
    "execution": {
     "iopub.execute_input": "2021-03-14T10:14:14.626169Z",
     "iopub.status.busy": "2021-03-14T10:14:14.625248Z",
     "iopub.status.idle": "2021-03-14T10:14:14.627515Z",
     "shell.execute_reply": "2021-03-14T10:14:14.627067Z"
    }
   },
   "outputs": [],
   "source": [
    "df = df.sort_values(by='location')"
   ]
  },
  {
   "cell_type": "code",
   "execution_count": 14,
   "metadata": {
    "execution": {
     "iopub.execute_input": "2021-03-14T10:14:14.634246Z",
     "iopub.status.busy": "2021-03-14T10:14:14.633302Z",
     "iopub.status.idle": "2021-03-14T10:14:14.635162Z",
     "shell.execute_reply": "2021-03-14T10:14:14.635596Z"
    }
   },
   "outputs": [],
   "source": [
    "df = df[df.location == 'California'].append(df[df.location != 'California']).reset_index(drop=True)"
   ]
  },
  {
   "cell_type": "code",
   "execution_count": null,
   "metadata": {},
   "outputs": [],
   "source": []
  },
  {
   "cell_type": "code",
   "execution_count": 15,
   "metadata": {
    "execution": {
     "iopub.execute_input": "2021-03-14T10:14:14.639191Z",
     "iopub.status.busy": "2021-03-14T10:14:14.638673Z",
     "iopub.status.idle": "2021-03-14T10:14:14.656463Z",
     "shell.execute_reply": "2021-03-14T10:14:14.655955Z"
    }
   },
   "outputs": [],
   "source": [
    "tz = pytz.timezone(\"America/New_York\")"
   ]
  },
  {
   "cell_type": "code",
   "execution_count": 16,
   "metadata": {
    "execution": {
     "iopub.execute_input": "2021-03-14T10:14:14.660534Z",
     "iopub.status.busy": "2021-03-14T10:14:14.659345Z",
     "iopub.status.idle": "2021-03-14T10:14:14.661191Z",
     "shell.execute_reply": "2021-03-14T10:14:14.661645Z"
    }
   },
   "outputs": [],
   "source": [
    "today = datetime.now(tz).date()"
   ]
  },
  {
   "cell_type": "code",
   "execution_count": 17,
   "metadata": {
    "execution": {
     "iopub.execute_input": "2021-03-14T10:14:14.665949Z",
     "iopub.status.busy": "2021-03-14T10:14:14.664740Z",
     "iopub.status.idle": "2021-03-14T10:14:14.666604Z",
     "shell.execute_reply": "2021-03-14T10:14:14.667037Z"
    }
   },
   "outputs": [],
   "source": [
    "data_dir = os.path.join(os.path.abspath(\"\"), \"data\")"
   ]
  },
  {
   "cell_type": "code",
   "execution_count": 18,
   "metadata": {
    "execution": {
     "iopub.execute_input": "2021-03-14T10:14:14.671371Z",
     "iopub.status.busy": "2021-03-14T10:14:14.670078Z",
     "iopub.status.idle": "2021-03-14T10:14:14.674692Z",
     "shell.execute_reply": "2021-03-14T10:14:14.674177Z"
    }
   },
   "outputs": [],
   "source": [
    "df.to_csv(os.path.join(data_dir, f\"{today}.csv\"), index=False)"
   ]
  },
  {
   "cell_type": "code",
   "execution_count": null,
   "metadata": {},
   "outputs": [],
   "source": []
  }
 ],
 "metadata": {
  "kernelspec": {
   "display_name": "Python 3",
   "language": "python",
   "name": "python3"
  },
  "language_info": {
   "codemirror_mode": {
    "name": "ipython",
    "version": 3
   },
   "file_extension": ".py",
   "mimetype": "text/x-python",
   "name": "python",
   "nbconvert_exporter": "python",
   "pygments_lexer": "ipython3",
   "version": "3.8.8"
  }
 },
 "nbformat": 4,
 "nbformat_minor": 4
}
