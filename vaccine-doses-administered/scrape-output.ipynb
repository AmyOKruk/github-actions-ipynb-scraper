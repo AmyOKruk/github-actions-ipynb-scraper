{
 "cells": [
  {
   "cell_type": "markdown",
   "metadata": {},
   "source": [
    "# California COVID vaccinations scrape"
   ]
  },
  {
   "cell_type": "markdown",
   "metadata": {},
   "source": [
    "By [Amy O'Kruk](https://twitter.com/amyokruk)"
   ]
  },
  {
   "cell_type": "markdown",
   "metadata": {},
   "source": [
    "Downloads data on vaccine doses administered by county and statewide from a Tableau-powered dashboard from the California Department of Public Health."
   ]
  },
  {
   "cell_type": "code",
   "execution_count": 1,
   "metadata": {
    "execution": {
     "iopub.execute_input": "2021-03-16T00:29:51.005634Z",
     "iopub.status.busy": "2021-03-16T00:29:51.004602Z",
     "iopub.status.idle": "2021-03-16T00:29:51.407492Z",
     "shell.execute_reply": "2021-03-16T00:29:51.406522Z"
    }
   },
   "outputs": [],
   "source": [
    "import pandas as pd\n",
    "import requests\n",
    "from bs4 import BeautifulSoup\n",
    "import json\n",
    "import re\n",
    "import time\n",
    "from time import gmtime, strftime \n",
    "import os\n",
    "import pytz\n",
    "from datetime import datetime"
   ]
  },
  {
   "cell_type": "markdown",
   "metadata": {},
   "source": [
    "Scrape the dashboard page"
   ]
  },
  {
   "cell_type": "code",
   "execution_count": 2,
   "metadata": {
    "execution": {
     "iopub.execute_input": "2021-03-16T00:29:51.413620Z",
     "iopub.status.busy": "2021-03-16T00:29:51.411786Z",
     "iopub.status.idle": "2021-03-16T00:29:51.904245Z",
     "shell.execute_reply": "2021-03-16T00:29:51.903334Z"
    }
   },
   "outputs": [],
   "source": [
    "url = \"https://public.tableau.com/interactive/views/COVID-19VaccineDashboardPublic/Vaccine?:embed=y&:showVizHome=n&:apiID=host0\"\n",
    "\n",
    "r = requests.get(url)\n",
    "soup = BeautifulSoup(r.text, \"html.parser\")"
   ]
  },
  {
   "cell_type": "code",
   "execution_count": 3,
   "metadata": {
    "execution": {
     "iopub.execute_input": "2021-03-16T00:29:51.910195Z",
     "iopub.status.busy": "2021-03-16T00:29:51.909409Z",
     "iopub.status.idle": "2021-03-16T00:29:51.913069Z",
     "shell.execute_reply": "2021-03-16T00:29:51.912634Z"
    }
   },
   "outputs": [],
   "source": [
    "tableauData = json.loads(soup.find(\"textarea\",{\"id\": \"tsConfigContainer\"}).text)"
   ]
  },
  {
   "cell_type": "markdown",
   "metadata": {},
   "source": [
    "Get the link to the Tableau data"
   ]
  },
  {
   "cell_type": "code",
   "execution_count": 4,
   "metadata": {
    "execution": {
     "iopub.execute_input": "2021-03-16T00:29:51.917337Z",
     "iopub.status.busy": "2021-03-16T00:29:51.916216Z",
     "iopub.status.idle": "2021-03-16T00:29:51.917935Z",
     "shell.execute_reply": "2021-03-16T00:29:51.918360Z"
    }
   },
   "outputs": [],
   "source": [
    "dataUrl = f'https://public.tableau.com{tableauData[\"vizql_root\"]}/bootstrapSession/sessions/{tableauData[\"sessionid\"]}'"
   ]
  },
  {
   "cell_type": "code",
   "execution_count": 5,
   "metadata": {
    "execution": {
     "iopub.execute_input": "2021-03-16T00:29:51.925073Z",
     "iopub.status.busy": "2021-03-16T00:29:51.924538Z",
     "iopub.status.idle": "2021-03-16T00:29:52.181479Z",
     "shell.execute_reply": "2021-03-16T00:29:52.182221Z"
    }
   },
   "outputs": [],
   "source": [
    "r = requests.post(dataUrl, data= {\n",
    "    \"sheet_id\": tableauData[\"sheetId\"],\n",
    "})\n",
    "\n",
    "dataReg = re.search('\\d+;({.*})\\d+;({.*})', r.text, re.MULTILINE)\n",
    "data1 = json.loads(dataReg.group(2))\n",
    "\n",
    "dataJson = data1[\"secondaryInfo\"][\"presModelMap\"][\"dataDictionary\"][\"presModelHolder\"][\"genDataDictionaryPresModel\"][\"dataSegments\"][\"0\"][\"dataColumns\"]"
   ]
  },
  {
   "cell_type": "markdown",
   "metadata": {},
   "source": [
    "Isolate what you want"
   ]
  },
  {
   "cell_type": "code",
   "execution_count": 6,
   "metadata": {
    "execution": {
     "iopub.execute_input": "2021-03-16T00:29:52.187170Z",
     "iopub.status.busy": "2021-03-16T00:29:52.186005Z",
     "iopub.status.idle": "2021-03-16T00:29:52.187789Z",
     "shell.execute_reply": "2021-03-16T00:29:52.188228Z"
    }
   },
   "outputs": [],
   "source": [
    "counties = dataJson[2]['dataValues'][:58]"
   ]
  },
  {
   "cell_type": "code",
   "execution_count": 7,
   "metadata": {
    "execution": {
     "iopub.execute_input": "2021-03-16T00:29:52.192871Z",
     "iopub.status.busy": "2021-03-16T00:29:52.191609Z",
     "iopub.status.idle": "2021-03-16T00:29:52.193461Z",
     "shell.execute_reply": "2021-03-16T00:29:52.193888Z"
    }
   },
   "outputs": [],
   "source": [
    "doses = dataJson[0]['dataValues'][3:61]"
   ]
  },
  {
   "cell_type": "markdown",
   "metadata": {},
   "source": [
    "Data formatting"
   ]
  },
  {
   "cell_type": "code",
   "execution_count": 8,
   "metadata": {
    "execution": {
     "iopub.execute_input": "2021-03-16T00:29:52.198187Z",
     "iopub.status.busy": "2021-03-16T00:29:52.196995Z",
     "iopub.status.idle": "2021-03-16T00:29:52.198850Z",
     "shell.execute_reply": "2021-03-16T00:29:52.199283Z"
    }
   },
   "outputs": [],
   "source": [
    "zipped = dict(zip(counties, doses))"
   ]
  },
  {
   "cell_type": "code",
   "execution_count": 9,
   "metadata": {
    "execution": {
     "iopub.execute_input": "2021-03-16T00:29:52.205846Z",
     "iopub.status.busy": "2021-03-16T00:29:52.204591Z",
     "iopub.status.idle": "2021-03-16T00:29:52.206447Z",
     "shell.execute_reply": "2021-03-16T00:29:52.206878Z"
    }
   },
   "outputs": [],
   "source": [
    "df = pd.Series(zipped).reset_index()"
   ]
  },
  {
   "cell_type": "code",
   "execution_count": 10,
   "metadata": {
    "execution": {
     "iopub.execute_input": "2021-03-16T00:29:52.211221Z",
     "iopub.status.busy": "2021-03-16T00:29:52.210115Z",
     "iopub.status.idle": "2021-03-16T00:29:52.211838Z",
     "shell.execute_reply": "2021-03-16T00:29:52.212265Z"
    }
   },
   "outputs": [],
   "source": [
    "df.columns = ['location','doses']"
   ]
  },
  {
   "cell_type": "markdown",
   "metadata": {},
   "source": [
    "Grab the overall California total"
   ]
  },
  {
   "cell_type": "code",
   "execution_count": 11,
   "metadata": {
    "execution": {
     "iopub.execute_input": "2021-03-16T00:29:52.216541Z",
     "iopub.status.busy": "2021-03-16T00:29:52.215384Z",
     "iopub.status.idle": "2021-03-16T00:29:52.217144Z",
     "shell.execute_reply": "2021-03-16T00:29:52.217572Z"
    }
   },
   "outputs": [],
   "source": [
    "add = {'location':'California','doses':dataJson[0]['dataValues'][2]}"
   ]
  },
  {
   "cell_type": "code",
   "execution_count": 12,
   "metadata": {
    "execution": {
     "iopub.execute_input": "2021-03-16T00:29:52.225081Z",
     "iopub.status.busy": "2021-03-16T00:29:52.223792Z",
     "iopub.status.idle": "2021-03-16T00:29:52.225683Z",
     "shell.execute_reply": "2021-03-16T00:29:52.226112Z"
    }
   },
   "outputs": [],
   "source": [
    "df = df.append(add, ignore_index=True)"
   ]
  },
  {
   "cell_type": "code",
   "execution_count": 13,
   "metadata": {
    "execution": {
     "iopub.execute_input": "2021-03-16T00:29:52.231375Z",
     "iopub.status.busy": "2021-03-16T00:29:52.230464Z",
     "iopub.status.idle": "2021-03-16T00:29:52.232348Z",
     "shell.execute_reply": "2021-03-16T00:29:52.232757Z"
    }
   },
   "outputs": [],
   "source": [
    "df = df.sort_values(by='location')"
   ]
  },
  {
   "cell_type": "code",
   "execution_count": 14,
   "metadata": {
    "execution": {
     "iopub.execute_input": "2021-03-16T00:29:52.239100Z",
     "iopub.status.busy": "2021-03-16T00:29:52.237984Z",
     "iopub.status.idle": "2021-03-16T00:29:52.239721Z",
     "shell.execute_reply": "2021-03-16T00:29:52.240156Z"
    }
   },
   "outputs": [],
   "source": [
    "df = df[df.location == 'California'].append(df[df.location != 'California']).reset_index(drop=True)"
   ]
  },
  {
   "cell_type": "code",
   "execution_count": null,
   "metadata": {},
   "outputs": [],
   "source": []
  },
  {
   "cell_type": "code",
   "execution_count": 15,
   "metadata": {
    "execution": {
     "iopub.execute_input": "2021-03-16T00:29:52.243448Z",
     "iopub.status.busy": "2021-03-16T00:29:52.242932Z",
     "iopub.status.idle": "2021-03-16T00:29:52.260739Z",
     "shell.execute_reply": "2021-03-16T00:29:52.261191Z"
    }
   },
   "outputs": [],
   "source": [
    "tz = pytz.timezone(\"America/New_York\")"
   ]
  },
  {
   "cell_type": "code",
   "execution_count": 16,
   "metadata": {
    "execution": {
     "iopub.execute_input": "2021-03-16T00:29:52.264934Z",
     "iopub.status.busy": "2021-03-16T00:29:52.264411Z",
     "iopub.status.idle": "2021-03-16T00:29:52.266478Z",
     "shell.execute_reply": "2021-03-16T00:29:52.266017Z"
    }
   },
   "outputs": [],
   "source": [
    "today = datetime.now(tz).date()"
   ]
  },
  {
   "cell_type": "code",
   "execution_count": 17,
   "metadata": {
    "execution": {
     "iopub.execute_input": "2021-03-16T00:29:52.270786Z",
     "iopub.status.busy": "2021-03-16T00:29:52.269675Z",
     "iopub.status.idle": "2021-03-16T00:29:52.271421Z",
     "shell.execute_reply": "2021-03-16T00:29:52.271899Z"
    }
   },
   "outputs": [],
   "source": [
    "data_dir = os.path.join(os.path.abspath(\"\"), \"data\")"
   ]
  },
  {
   "cell_type": "code",
   "execution_count": 18,
   "metadata": {
    "execution": {
     "iopub.execute_input": "2021-03-16T00:29:52.277300Z",
     "iopub.status.busy": "2021-03-16T00:29:52.275158Z",
     "iopub.status.idle": "2021-03-16T00:29:52.279808Z",
     "shell.execute_reply": "2021-03-16T00:29:52.279182Z"
    }
   },
   "outputs": [],
   "source": [
    "df.to_csv(os.path.join(data_dir, f\"{today}.csv\"), index=False)"
   ]
  },
  {
   "cell_type": "code",
   "execution_count": null,
   "metadata": {},
   "outputs": [],
   "source": []
  }
 ],
 "metadata": {
  "kernelspec": {
   "display_name": "Python 3",
   "language": "python",
   "name": "python3"
  },
  "language_info": {
   "codemirror_mode": {
    "name": "ipython",
    "version": 3
   },
   "file_extension": ".py",
   "mimetype": "text/x-python",
   "name": "python",
   "nbconvert_exporter": "python",
   "pygments_lexer": "ipython3",
   "version": "3.8.8"
  }
 },
 "nbformat": 4,
 "nbformat_minor": 4
}
