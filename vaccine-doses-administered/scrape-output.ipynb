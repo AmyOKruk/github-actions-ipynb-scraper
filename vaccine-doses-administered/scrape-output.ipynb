{
 "cells": [
  {
   "cell_type": "markdown",
   "metadata": {},
   "source": [
    "# California COVID vaccinations scrape"
   ]
  },
  {
   "cell_type": "markdown",
   "metadata": {},
   "source": [
    "By [Amy O'Kruk](https://twitter.com/amyokruk)"
   ]
  },
  {
   "cell_type": "markdown",
   "metadata": {},
   "source": [
    "Downloads data on vaccine doses administered by county and statewide from a Tableau-powered dashboard from the California Department of Public Health."
   ]
  },
  {
   "cell_type": "code",
   "execution_count": 1,
   "metadata": {
    "execution": {
     "iopub.execute_input": "2021-03-11T08:45:33.674280Z",
     "iopub.status.busy": "2021-03-11T08:45:33.673391Z",
     "iopub.status.idle": "2021-03-11T08:45:34.214530Z",
     "shell.execute_reply": "2021-03-11T08:45:34.213543Z"
    }
   },
   "outputs": [],
   "source": [
    "import pandas as pd\n",
    "import requests\n",
    "from bs4 import BeautifulSoup\n",
    "import json\n",
    "import re\n",
    "import time\n",
    "from time import gmtime, strftime \n",
    "import os\n",
    "import pytz\n",
    "from datetime import datetime"
   ]
  },
  {
   "cell_type": "markdown",
   "metadata": {},
   "source": [
    "Scrape the dashboard page"
   ]
  },
  {
   "cell_type": "code",
   "execution_count": 2,
   "metadata": {
    "execution": {
     "iopub.execute_input": "2021-03-11T08:45:34.223970Z",
     "iopub.status.busy": "2021-03-11T08:45:34.223393Z",
     "iopub.status.idle": "2021-03-11T08:45:34.611744Z",
     "shell.execute_reply": "2021-03-11T08:45:34.610775Z"
    }
   },
   "outputs": [],
   "source": [
    "url = \"https://public.tableau.com/interactive/views/COVID-19VaccineDashboardPublic/Vaccine?:embed=y&:showVizHome=n&:apiID=host0\"\n",
    "\n",
    "r = requests.get(url)\n",
    "soup = BeautifulSoup(r.text, \"html.parser\")"
   ]
  },
  {
   "cell_type": "code",
   "execution_count": 3,
   "metadata": {
    "execution": {
     "iopub.execute_input": "2021-03-11T08:45:34.617207Z",
     "iopub.status.busy": "2021-03-11T08:45:34.616638Z",
     "iopub.status.idle": "2021-03-11T08:45:34.621192Z",
     "shell.execute_reply": "2021-03-11T08:45:34.620113Z"
    }
   },
   "outputs": [],
   "source": [
    "tableauData = json.loads(soup.find(\"textarea\",{\"id\": \"tsConfigContainer\"}).text)"
   ]
  },
  {
   "cell_type": "markdown",
   "metadata": {},
   "source": [
    "Get the link to the Tableau data"
   ]
  },
  {
   "cell_type": "code",
   "execution_count": 4,
   "metadata": {
    "execution": {
     "iopub.execute_input": "2021-03-11T08:45:34.625546Z",
     "iopub.status.busy": "2021-03-11T08:45:34.624804Z",
     "iopub.status.idle": "2021-03-11T08:45:34.629176Z",
     "shell.execute_reply": "2021-03-11T08:45:34.628152Z"
    }
   },
   "outputs": [],
   "source": [
    "dataUrl = f'https://public.tableau.com{tableauData[\"vizql_root\"]}/bootstrapSession/sessions/{tableauData[\"sessionid\"]}'"
   ]
  },
  {
   "cell_type": "code",
   "execution_count": 5,
   "metadata": {
    "execution": {
     "iopub.execute_input": "2021-03-11T08:45:34.636500Z",
     "iopub.status.busy": "2021-03-11T08:45:34.635941Z",
     "iopub.status.idle": "2021-03-11T08:45:35.034529Z",
     "shell.execute_reply": "2021-03-11T08:45:35.033428Z"
    }
   },
   "outputs": [],
   "source": [
    "r = requests.post(dataUrl, data= {\n",
    "    \"sheet_id\": tableauData[\"sheetId\"],\n",
    "})\n",
    "\n",
    "dataReg = re.search('\\d+;({.*})\\d+;({.*})', r.text, re.MULTILINE)\n",
    "data1 = json.loads(dataReg.group(2))\n",
    "\n",
    "dataJson = data1[\"secondaryInfo\"][\"presModelMap\"][\"dataDictionary\"][\"presModelHolder\"][\"genDataDictionaryPresModel\"][\"dataSegments\"][\"0\"][\"dataColumns\"]"
   ]
  },
  {
   "cell_type": "markdown",
   "metadata": {},
   "source": [
    "Isolate what you want"
   ]
  },
  {
   "cell_type": "code",
   "execution_count": 6,
   "metadata": {
    "execution": {
     "iopub.execute_input": "2021-03-11T08:45:35.038695Z",
     "iopub.status.busy": "2021-03-11T08:45:35.038139Z",
     "iopub.status.idle": "2021-03-11T08:45:35.041509Z",
     "shell.execute_reply": "2021-03-11T08:45:35.042244Z"
    }
   },
   "outputs": [],
   "source": [
    "counties = dataJson[2]['dataValues'][:58]"
   ]
  },
  {
   "cell_type": "code",
   "execution_count": 7,
   "metadata": {
    "execution": {
     "iopub.execute_input": "2021-03-11T08:45:35.046463Z",
     "iopub.status.busy": "2021-03-11T08:45:35.045919Z",
     "iopub.status.idle": "2021-03-11T08:45:35.049645Z",
     "shell.execute_reply": "2021-03-11T08:45:35.049145Z"
    }
   },
   "outputs": [],
   "source": [
    "doses = dataJson[0]['dataValues'][3:61]"
   ]
  },
  {
   "cell_type": "markdown",
   "metadata": {},
   "source": [
    "Data formatting"
   ]
  },
  {
   "cell_type": "code",
   "execution_count": 8,
   "metadata": {
    "execution": {
     "iopub.execute_input": "2021-03-11T08:45:35.053828Z",
     "iopub.status.busy": "2021-03-11T08:45:35.053285Z",
     "iopub.status.idle": "2021-03-11T08:45:35.057550Z",
     "shell.execute_reply": "2021-03-11T08:45:35.057052Z"
    }
   },
   "outputs": [],
   "source": [
    "zipped = dict(zip(counties, doses))"
   ]
  },
  {
   "cell_type": "code",
   "execution_count": 9,
   "metadata": {
    "execution": {
     "iopub.execute_input": "2021-03-11T08:45:35.064208Z",
     "iopub.status.busy": "2021-03-11T08:45:35.063639Z",
     "iopub.status.idle": "2021-03-11T08:45:35.067504Z",
     "shell.execute_reply": "2021-03-11T08:45:35.067010Z"
    }
   },
   "outputs": [],
   "source": [
    "df = pd.Series(zipped).reset_index()"
   ]
  },
  {
   "cell_type": "code",
   "execution_count": 10,
   "metadata": {
    "execution": {
     "iopub.execute_input": "2021-03-11T08:45:35.072279Z",
     "iopub.status.busy": "2021-03-11T08:45:35.071446Z",
     "iopub.status.idle": "2021-03-11T08:45:35.076142Z",
     "shell.execute_reply": "2021-03-11T08:45:35.075050Z"
    }
   },
   "outputs": [],
   "source": [
    "df.columns = ['location','doses']"
   ]
  },
  {
   "cell_type": "markdown",
   "metadata": {},
   "source": [
    "Grab the overall California total"
   ]
  },
  {
   "cell_type": "code",
   "execution_count": 11,
   "metadata": {
    "execution": {
     "iopub.execute_input": "2021-03-11T08:45:35.080323Z",
     "iopub.status.busy": "2021-03-11T08:45:35.079786Z",
     "iopub.status.idle": "2021-03-11T08:45:35.083566Z",
     "shell.execute_reply": "2021-03-11T08:45:35.083080Z"
    }
   },
   "outputs": [],
   "source": [
    "add = {'location':'California','doses':dataJson[0]['dataValues'][2]}"
   ]
  },
  {
   "cell_type": "code",
   "execution_count": 12,
   "metadata": {
    "execution": {
     "iopub.execute_input": "2021-03-11T08:45:35.091617Z",
     "iopub.status.busy": "2021-03-11T08:45:35.091042Z",
     "iopub.status.idle": "2021-03-11T08:45:35.095111Z",
     "shell.execute_reply": "2021-03-11T08:45:35.094618Z"
    }
   },
   "outputs": [],
   "source": [
    "df = df.append(add, ignore_index=True)"
   ]
  },
  {
   "cell_type": "code",
   "execution_count": 13,
   "metadata": {
    "execution": {
     "iopub.execute_input": "2021-03-11T08:45:35.100333Z",
     "iopub.status.busy": "2021-03-11T08:45:35.099789Z",
     "iopub.status.idle": "2021-03-11T08:45:35.103932Z",
     "shell.execute_reply": "2021-03-11T08:45:35.103170Z"
    }
   },
   "outputs": [],
   "source": [
    "df = df.sort_values(by='location')"
   ]
  },
  {
   "cell_type": "code",
   "execution_count": 14,
   "metadata": {
    "execution": {
     "iopub.execute_input": "2021-03-11T08:45:35.110785Z",
     "iopub.status.busy": "2021-03-11T08:45:35.110229Z",
     "iopub.status.idle": "2021-03-11T08:45:35.114085Z",
     "shell.execute_reply": "2021-03-11T08:45:35.113601Z"
    }
   },
   "outputs": [],
   "source": [
    "df = df[df.location == 'California'].append(df[df.location != 'California']).reset_index(drop=True)"
   ]
  },
  {
   "cell_type": "code",
   "execution_count": null,
   "metadata": {},
   "outputs": [],
   "source": []
  },
  {
   "cell_type": "code",
   "execution_count": 15,
   "metadata": {
    "execution": {
     "iopub.execute_input": "2021-03-11T08:45:35.118106Z",
     "iopub.status.busy": "2021-03-11T08:45:35.117573Z",
     "iopub.status.idle": "2021-03-11T08:45:35.137811Z",
     "shell.execute_reply": "2021-03-11T08:45:35.137297Z"
    }
   },
   "outputs": [],
   "source": [
    "tz = pytz.timezone(\"America/New_York\")"
   ]
  },
  {
   "cell_type": "code",
   "execution_count": 16,
   "metadata": {
    "execution": {
     "iopub.execute_input": "2021-03-11T08:45:35.142769Z",
     "iopub.status.busy": "2021-03-11T08:45:35.142221Z",
     "iopub.status.idle": "2021-03-11T08:45:35.147339Z",
     "shell.execute_reply": "2021-03-11T08:45:35.146303Z"
    }
   },
   "outputs": [],
   "source": [
    "today = datetime.now(tz).date()"
   ]
  },
  {
   "cell_type": "code",
   "execution_count": 17,
   "metadata": {
    "execution": {
     "iopub.execute_input": "2021-03-11T08:45:35.152411Z",
     "iopub.status.busy": "2021-03-11T08:45:35.151869Z",
     "iopub.status.idle": "2021-03-11T08:45:35.156201Z",
     "shell.execute_reply": "2021-03-11T08:45:35.155722Z"
    }
   },
   "outputs": [],
   "source": [
    "data_dir = os.path.join(os.path.abspath(\"\"), \"data\")"
   ]
  },
  {
   "cell_type": "code",
   "execution_count": 18,
   "metadata": {
    "execution": {
     "iopub.execute_input": "2021-03-11T08:45:35.161145Z",
     "iopub.status.busy": "2021-03-11T08:45:35.159890Z",
     "iopub.status.idle": "2021-03-11T08:45:35.165938Z",
     "shell.execute_reply": "2021-03-11T08:45:35.165274Z"
    }
   },
   "outputs": [],
   "source": [
    "df.to_csv(os.path.join(data_dir, f\"{today}.csv\"), index=False)"
   ]
  },
  {
   "cell_type": "code",
   "execution_count": null,
   "metadata": {},
   "outputs": [],
   "source": []
  }
 ],
 "metadata": {
  "kernelspec": {
   "display_name": "Python 3",
   "language": "python",
   "name": "python3"
  },
  "language_info": {
   "codemirror_mode": {
    "name": "ipython",
    "version": 3
   },
   "file_extension": ".py",
   "mimetype": "text/x-python",
   "name": "python",
   "nbconvert_exporter": "python",
   "pygments_lexer": "ipython3",
   "version": "3.8.8"
  }
 },
 "nbformat": 4,
 "nbformat_minor": 4
}
