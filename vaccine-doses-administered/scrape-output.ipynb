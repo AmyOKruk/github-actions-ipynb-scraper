{
 "cells": [
  {
   "cell_type": "markdown",
   "metadata": {},
   "source": [
    "# California COVID vaccinations scrape"
   ]
  },
  {
   "cell_type": "markdown",
   "metadata": {},
   "source": [
    "By [Amy O'Kruk](https://twitter.com/amyokruk)"
   ]
  },
  {
   "cell_type": "markdown",
   "metadata": {},
   "source": [
    "Downloads data on vaccine doses administered by county and statewide from a Tableau-powered dashboard from the California Department of Public Health."
   ]
  },
  {
   "cell_type": "code",
   "execution_count": 1,
   "metadata": {
    "execution": {
     "iopub.execute_input": "2021-03-14T01:47:11.189226Z",
     "iopub.status.busy": "2021-03-14T01:47:11.188549Z",
     "iopub.status.idle": "2021-03-14T01:47:11.604895Z",
     "shell.execute_reply": "2021-03-14T01:47:11.603913Z"
    }
   },
   "outputs": [],
   "source": [
    "import pandas as pd\n",
    "import requests\n",
    "from bs4 import BeautifulSoup\n",
    "import json\n",
    "import re\n",
    "import time\n",
    "from time import gmtime, strftime \n",
    "import os\n",
    "import pytz\n",
    "from datetime import datetime"
   ]
  },
  {
   "cell_type": "markdown",
   "metadata": {},
   "source": [
    "Scrape the dashboard page"
   ]
  },
  {
   "cell_type": "code",
   "execution_count": 2,
   "metadata": {
    "execution": {
     "iopub.execute_input": "2021-03-14T01:47:11.611218Z",
     "iopub.status.busy": "2021-03-14T01:47:11.608662Z",
     "iopub.status.idle": "2021-03-14T01:47:11.983131Z",
     "shell.execute_reply": "2021-03-14T01:47:11.982578Z"
    }
   },
   "outputs": [],
   "source": [
    "url = \"https://public.tableau.com/interactive/views/COVID-19VaccineDashboardPublic/Vaccine?:embed=y&:showVizHome=n&:apiID=host0\"\n",
    "\n",
    "r = requests.get(url)\n",
    "soup = BeautifulSoup(r.text, \"html.parser\")"
   ]
  },
  {
   "cell_type": "code",
   "execution_count": 3,
   "metadata": {
    "execution": {
     "iopub.execute_input": "2021-03-14T01:47:11.988376Z",
     "iopub.status.busy": "2021-03-14T01:47:11.987554Z",
     "iopub.status.idle": "2021-03-14T01:47:11.991838Z",
     "shell.execute_reply": "2021-03-14T01:47:11.990983Z"
    }
   },
   "outputs": [],
   "source": [
    "tableauData = json.loads(soup.find(\"textarea\",{\"id\": \"tsConfigContainer\"}).text)"
   ]
  },
  {
   "cell_type": "markdown",
   "metadata": {},
   "source": [
    "Get the link to the Tableau data"
   ]
  },
  {
   "cell_type": "code",
   "execution_count": 4,
   "metadata": {
    "execution": {
     "iopub.execute_input": "2021-03-14T01:47:11.995527Z",
     "iopub.status.busy": "2021-03-14T01:47:11.994940Z",
     "iopub.status.idle": "2021-03-14T01:47:11.998582Z",
     "shell.execute_reply": "2021-03-14T01:47:11.999041Z"
    }
   },
   "outputs": [],
   "source": [
    "dataUrl = f'https://public.tableau.com{tableauData[\"vizql_root\"]}/bootstrapSession/sessions/{tableauData[\"sessionid\"]}'"
   ]
  },
  {
   "cell_type": "code",
   "execution_count": 5,
   "metadata": {
    "execution": {
     "iopub.execute_input": "2021-03-14T01:47:12.006312Z",
     "iopub.status.busy": "2021-03-14T01:47:12.005645Z",
     "iopub.status.idle": "2021-03-14T01:47:12.203411Z",
     "shell.execute_reply": "2021-03-14T01:47:12.203879Z"
    }
   },
   "outputs": [],
   "source": [
    "r = requests.post(dataUrl, data= {\n",
    "    \"sheet_id\": tableauData[\"sheetId\"],\n",
    "})\n",
    "\n",
    "dataReg = re.search('\\d+;({.*})\\d+;({.*})', r.text, re.MULTILINE)\n",
    "data1 = json.loads(dataReg.group(2))\n",
    "\n",
    "dataJson = data1[\"secondaryInfo\"][\"presModelMap\"][\"dataDictionary\"][\"presModelHolder\"][\"genDataDictionaryPresModel\"][\"dataSegments\"][\"0\"][\"dataColumns\"]"
   ]
  },
  {
   "cell_type": "markdown",
   "metadata": {},
   "source": [
    "Isolate what you want"
   ]
  },
  {
   "cell_type": "code",
   "execution_count": 6,
   "metadata": {
    "execution": {
     "iopub.execute_input": "2021-03-14T01:47:12.211204Z",
     "iopub.status.busy": "2021-03-14T01:47:12.208071Z",
     "iopub.status.idle": "2021-03-14T01:47:12.211843Z",
     "shell.execute_reply": "2021-03-14T01:47:12.212325Z"
    }
   },
   "outputs": [],
   "source": [
    "counties = dataJson[2]['dataValues'][:58]"
   ]
  },
  {
   "cell_type": "code",
   "execution_count": 7,
   "metadata": {
    "execution": {
     "iopub.execute_input": "2021-03-14T01:47:12.216938Z",
     "iopub.status.busy": "2021-03-14T01:47:12.215632Z",
     "iopub.status.idle": "2021-03-14T01:47:12.217580Z",
     "shell.execute_reply": "2021-03-14T01:47:12.218068Z"
    }
   },
   "outputs": [],
   "source": [
    "doses = dataJson[0]['dataValues'][3:61]"
   ]
  },
  {
   "cell_type": "markdown",
   "metadata": {},
   "source": [
    "Data formatting"
   ]
  },
  {
   "cell_type": "code",
   "execution_count": 8,
   "metadata": {
    "execution": {
     "iopub.execute_input": "2021-03-14T01:47:12.222592Z",
     "iopub.status.busy": "2021-03-14T01:47:12.221179Z",
     "iopub.status.idle": "2021-03-14T01:47:12.223233Z",
     "shell.execute_reply": "2021-03-14T01:47:12.223729Z"
    }
   },
   "outputs": [],
   "source": [
    "zipped = dict(zip(counties, doses))"
   ]
  },
  {
   "cell_type": "code",
   "execution_count": 9,
   "metadata": {
    "execution": {
     "iopub.execute_input": "2021-03-14T01:47:12.230646Z",
     "iopub.status.busy": "2021-03-14T01:47:12.229259Z",
     "iopub.status.idle": "2021-03-14T01:47:12.231283Z",
     "shell.execute_reply": "2021-03-14T01:47:12.231763Z"
    }
   },
   "outputs": [],
   "source": [
    "df = pd.Series(zipped).reset_index()"
   ]
  },
  {
   "cell_type": "code",
   "execution_count": 10,
   "metadata": {
    "execution": {
     "iopub.execute_input": "2021-03-14T01:47:12.236446Z",
     "iopub.status.busy": "2021-03-14T01:47:12.235139Z",
     "iopub.status.idle": "2021-03-14T01:47:12.237205Z",
     "shell.execute_reply": "2021-03-14T01:47:12.237687Z"
    }
   },
   "outputs": [],
   "source": [
    "df.columns = ['location','doses']"
   ]
  },
  {
   "cell_type": "markdown",
   "metadata": {},
   "source": [
    "Grab the overall California total"
   ]
  },
  {
   "cell_type": "code",
   "execution_count": 11,
   "metadata": {
    "execution": {
     "iopub.execute_input": "2021-03-14T01:47:12.242456Z",
     "iopub.status.busy": "2021-03-14T01:47:12.241043Z",
     "iopub.status.idle": "2021-03-14T01:47:12.243096Z",
     "shell.execute_reply": "2021-03-14T01:47:12.243579Z"
    }
   },
   "outputs": [],
   "source": [
    "add = {'location':'California','doses':dataJson[0]['dataValues'][2]}"
   ]
  },
  {
   "cell_type": "code",
   "execution_count": 12,
   "metadata": {
    "execution": {
     "iopub.execute_input": "2021-03-14T01:47:12.250698Z",
     "iopub.status.busy": "2021-03-14T01:47:12.249662Z",
     "iopub.status.idle": "2021-03-14T01:47:12.252246Z",
     "shell.execute_reply": "2021-03-14T01:47:12.252727Z"
    }
   },
   "outputs": [],
   "source": [
    "df = df.append(add, ignore_index=True)"
   ]
  },
  {
   "cell_type": "code",
   "execution_count": 13,
   "metadata": {
    "execution": {
     "iopub.execute_input": "2021-03-14T01:47:12.259215Z",
     "iopub.status.busy": "2021-03-14T01:47:12.257867Z",
     "iopub.status.idle": "2021-03-14T01:47:12.259849Z",
     "shell.execute_reply": "2021-03-14T01:47:12.260331Z"
    }
   },
   "outputs": [],
   "source": [
    "df = df.sort_values(by='location')"
   ]
  },
  {
   "cell_type": "code",
   "execution_count": 14,
   "metadata": {
    "execution": {
     "iopub.execute_input": "2021-03-14T01:47:12.267424Z",
     "iopub.status.busy": "2021-03-14T01:47:12.266034Z",
     "iopub.status.idle": "2021-03-14T01:47:12.268069Z",
     "shell.execute_reply": "2021-03-14T01:47:12.268582Z"
    }
   },
   "outputs": [],
   "source": [
    "df = df[df.location == 'California'].append(df[df.location != 'California']).reset_index(drop=True)"
   ]
  },
  {
   "cell_type": "code",
   "execution_count": null,
   "metadata": {},
   "outputs": [],
   "source": []
  },
  {
   "cell_type": "code",
   "execution_count": 15,
   "metadata": {
    "execution": {
     "iopub.execute_input": "2021-03-14T01:47:12.272287Z",
     "iopub.status.busy": "2021-03-14T01:47:12.271714Z",
     "iopub.status.idle": "2021-03-14T01:47:12.290046Z",
     "shell.execute_reply": "2021-03-14T01:47:12.290502Z"
    }
   },
   "outputs": [],
   "source": [
    "tz = pytz.timezone(\"America/New_York\")"
   ]
  },
  {
   "cell_type": "code",
   "execution_count": 16,
   "metadata": {
    "execution": {
     "iopub.execute_input": "2021-03-14T01:47:12.295132Z",
     "iopub.status.busy": "2021-03-14T01:47:12.293713Z",
     "iopub.status.idle": "2021-03-14T01:47:12.295767Z",
     "shell.execute_reply": "2021-03-14T01:47:12.296252Z"
    }
   },
   "outputs": [],
   "source": [
    "today = datetime.now(tz).date()"
   ]
  },
  {
   "cell_type": "code",
   "execution_count": 17,
   "metadata": {
    "execution": {
     "iopub.execute_input": "2021-03-14T01:47:12.300809Z",
     "iopub.status.busy": "2021-03-14T01:47:12.299576Z",
     "iopub.status.idle": "2021-03-14T01:47:12.302063Z",
     "shell.execute_reply": "2021-03-14T01:47:12.301580Z"
    }
   },
   "outputs": [],
   "source": [
    "data_dir = os.path.join(os.path.abspath(\"\"), \"data\")"
   ]
  },
  {
   "cell_type": "code",
   "execution_count": 18,
   "metadata": {
    "execution": {
     "iopub.execute_input": "2021-03-14T01:47:12.306484Z",
     "iopub.status.busy": "2021-03-14T01:47:12.305395Z",
     "iopub.status.idle": "2021-03-14T01:47:12.309943Z",
     "shell.execute_reply": "2021-03-14T01:47:12.309466Z"
    }
   },
   "outputs": [],
   "source": [
    "df.to_csv(os.path.join(data_dir, f\"{today}.csv\"), index=False)"
   ]
  },
  {
   "cell_type": "code",
   "execution_count": null,
   "metadata": {},
   "outputs": [],
   "source": []
  }
 ],
 "metadata": {
  "kernelspec": {
   "display_name": "Python 3",
   "language": "python",
   "name": "python3"
  },
  "language_info": {
   "codemirror_mode": {
    "name": "ipython",
    "version": 3
   },
   "file_extension": ".py",
   "mimetype": "text/x-python",
   "name": "python",
   "nbconvert_exporter": "python",
   "pygments_lexer": "ipython3",
   "version": "3.8.8"
  }
 },
 "nbformat": 4,
 "nbformat_minor": 4
}
