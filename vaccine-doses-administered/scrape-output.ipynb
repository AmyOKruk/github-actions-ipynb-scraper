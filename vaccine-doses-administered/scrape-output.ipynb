{
 "cells": [
  {
   "cell_type": "markdown",
   "metadata": {},
   "source": [
    "# California COVID vaccinations scrape"
   ]
  },
  {
   "cell_type": "markdown",
   "metadata": {},
   "source": [
    "By [Amy O'Kruk](https://twitter.com/amyokruk)"
   ]
  },
  {
   "cell_type": "markdown",
   "metadata": {},
   "source": [
    "Downloads data on vaccine doses administered by county and statewide from a Tableau-powered dashboard from the California Department of Public Health."
   ]
  },
  {
   "cell_type": "code",
   "execution_count": 1,
   "metadata": {
    "execution": {
     "iopub.execute_input": "2021-03-22T14:41:45.958022Z",
     "iopub.status.busy": "2021-03-22T14:41:45.957407Z",
     "iopub.status.idle": "2021-03-22T14:41:46.390233Z",
     "shell.execute_reply": "2021-03-22T14:41:46.389212Z"
    }
   },
   "outputs": [],
   "source": [
    "import pandas as pd\n",
    "import requests\n",
    "from bs4 import BeautifulSoup\n",
    "import json\n",
    "import re\n",
    "import time\n",
    "from time import gmtime, strftime \n",
    "import os\n",
    "import pytz\n",
    "from datetime import datetime"
   ]
  },
  {
   "cell_type": "markdown",
   "metadata": {},
   "source": [
    "Scrape the dashboard page"
   ]
  },
  {
   "cell_type": "code",
   "execution_count": 2,
   "metadata": {
    "execution": {
     "iopub.execute_input": "2021-03-22T14:41:46.396181Z",
     "iopub.status.busy": "2021-03-22T14:41:46.393874Z",
     "iopub.status.idle": "2021-03-22T14:41:46.804578Z",
     "shell.execute_reply": "2021-03-22T14:41:46.803789Z"
    }
   },
   "outputs": [],
   "source": [
    "url = \"https://public.tableau.com/interactive/views/COVID-19VaccineDashboardPublic/Vaccine?:embed=y&:showVizHome=n&:apiID=host0\"\n",
    "\n",
    "r = requests.get(url)\n",
    "soup = BeautifulSoup(r.text, \"html.parser\")"
   ]
  },
  {
   "cell_type": "code",
   "execution_count": 3,
   "metadata": {
    "execution": {
     "iopub.execute_input": "2021-03-22T14:41:46.809593Z",
     "iopub.status.busy": "2021-03-22T14:41:46.809076Z",
     "iopub.status.idle": "2021-03-22T14:41:46.812467Z",
     "shell.execute_reply": "2021-03-22T14:41:46.812028Z"
    }
   },
   "outputs": [],
   "source": [
    "tableauData = json.loads(soup.find(\"textarea\",{\"id\": \"tsConfigContainer\"}).text)"
   ]
  },
  {
   "cell_type": "markdown",
   "metadata": {},
   "source": [
    "Get the link to the Tableau data"
   ]
  },
  {
   "cell_type": "code",
   "execution_count": 4,
   "metadata": {
    "execution": {
     "iopub.execute_input": "2021-03-22T14:41:46.816857Z",
     "iopub.status.busy": "2021-03-22T14:41:46.815687Z",
     "iopub.status.idle": "2021-03-22T14:41:46.817528Z",
     "shell.execute_reply": "2021-03-22T14:41:46.817971Z"
    }
   },
   "outputs": [],
   "source": [
    "dataUrl = f'https://public.tableau.com{tableauData[\"vizql_root\"]}/bootstrapSession/sessions/{tableauData[\"sessionid\"]}'"
   ]
  },
  {
   "cell_type": "code",
   "execution_count": 5,
   "metadata": {
    "execution": {
     "iopub.execute_input": "2021-03-22T14:41:46.824726Z",
     "iopub.status.busy": "2021-03-22T14:41:46.824203Z",
     "iopub.status.idle": "2021-03-22T14:41:47.133605Z",
     "shell.execute_reply": "2021-03-22T14:41:47.132789Z"
    }
   },
   "outputs": [],
   "source": [
    "r = requests.post(dataUrl, data= {\n",
    "    \"sheet_id\": tableauData[\"sheetId\"],\n",
    "})\n",
    "\n",
    "dataReg = re.search('\\d+;({.*})\\d+;({.*})', r.text, re.MULTILINE)\n",
    "data1 = json.loads(dataReg.group(2))\n",
    "\n",
    "dataJson = data1[\"secondaryInfo\"][\"presModelMap\"][\"dataDictionary\"][\"presModelHolder\"][\"genDataDictionaryPresModel\"][\"dataSegments\"][\"0\"][\"dataColumns\"]"
   ]
  },
  {
   "cell_type": "markdown",
   "metadata": {},
   "source": [
    "Isolate what you want"
   ]
  },
  {
   "cell_type": "code",
   "execution_count": 6,
   "metadata": {
    "execution": {
     "iopub.execute_input": "2021-03-22T14:41:47.139418Z",
     "iopub.status.busy": "2021-03-22T14:41:47.138395Z",
     "iopub.status.idle": "2021-03-22T14:41:47.140347Z",
     "shell.execute_reply": "2021-03-22T14:41:47.139904Z"
    }
   },
   "outputs": [],
   "source": [
    "counties = dataJson[2]['dataValues'][:58]"
   ]
  },
  {
   "cell_type": "code",
   "execution_count": 7,
   "metadata": {
    "execution": {
     "iopub.execute_input": "2021-03-22T14:41:47.144678Z",
     "iopub.status.busy": "2021-03-22T14:41:47.143525Z",
     "iopub.status.idle": "2021-03-22T14:41:47.145347Z",
     "shell.execute_reply": "2021-03-22T14:41:47.145769Z"
    }
   },
   "outputs": [],
   "source": [
    "doses = dataJson[0]['dataValues'][3:61]"
   ]
  },
  {
   "cell_type": "markdown",
   "metadata": {},
   "source": [
    "Data formatting"
   ]
  },
  {
   "cell_type": "code",
   "execution_count": 8,
   "metadata": {
    "execution": {
     "iopub.execute_input": "2021-03-22T14:41:47.149877Z",
     "iopub.status.busy": "2021-03-22T14:41:47.148721Z",
     "iopub.status.idle": "2021-03-22T14:41:47.150550Z",
     "shell.execute_reply": "2021-03-22T14:41:47.150971Z"
    }
   },
   "outputs": [],
   "source": [
    "zipped = dict(zip(counties, doses))"
   ]
  },
  {
   "cell_type": "code",
   "execution_count": 9,
   "metadata": {
    "execution": {
     "iopub.execute_input": "2021-03-22T14:41:47.157429Z",
     "iopub.status.busy": "2021-03-22T14:41:47.156243Z",
     "iopub.status.idle": "2021-03-22T14:41:47.158113Z",
     "shell.execute_reply": "2021-03-22T14:41:47.158544Z"
    }
   },
   "outputs": [],
   "source": [
    "df = pd.Series(zipped).reset_index()"
   ]
  },
  {
   "cell_type": "code",
   "execution_count": 10,
   "metadata": {
    "execution": {
     "iopub.execute_input": "2021-03-22T14:41:47.162728Z",
     "iopub.status.busy": "2021-03-22T14:41:47.161627Z",
     "iopub.status.idle": "2021-03-22T14:41:47.163320Z",
     "shell.execute_reply": "2021-03-22T14:41:47.163740Z"
    }
   },
   "outputs": [],
   "source": [
    "df.columns = ['location','doses']"
   ]
  },
  {
   "cell_type": "markdown",
   "metadata": {},
   "source": [
    "Grab the overall California total"
   ]
  },
  {
   "cell_type": "code",
   "execution_count": 11,
   "metadata": {
    "execution": {
     "iopub.execute_input": "2021-03-22T14:41:47.168050Z",
     "iopub.status.busy": "2021-03-22T14:41:47.166901Z",
     "iopub.status.idle": "2021-03-22T14:41:47.168652Z",
     "shell.execute_reply": "2021-03-22T14:41:47.169072Z"
    }
   },
   "outputs": [],
   "source": [
    "add = {'location':'California','doses':dataJson[0]['dataValues'][2]}"
   ]
  },
  {
   "cell_type": "code",
   "execution_count": 12,
   "metadata": {
    "execution": {
     "iopub.execute_input": "2021-03-22T14:41:47.175982Z",
     "iopub.status.busy": "2021-03-22T14:41:47.174817Z",
     "iopub.status.idle": "2021-03-22T14:41:47.176633Z",
     "shell.execute_reply": "2021-03-22T14:41:47.177052Z"
    }
   },
   "outputs": [],
   "source": [
    "df = df.append(add, ignore_index=True)"
   ]
  },
  {
   "cell_type": "code",
   "execution_count": 13,
   "metadata": {
    "execution": {
     "iopub.execute_input": "2021-03-22T14:41:47.181949Z",
     "iopub.status.busy": "2021-03-22T14:41:47.180825Z",
     "iopub.status.idle": "2021-03-22T14:41:47.182645Z",
     "shell.execute_reply": "2021-03-22T14:41:47.183067Z"
    }
   },
   "outputs": [],
   "source": [
    "df = df.sort_values(by='location')"
   ]
  },
  {
   "cell_type": "code",
   "execution_count": 14,
   "metadata": {
    "execution": {
     "iopub.execute_input": "2021-03-22T14:41:47.189546Z",
     "iopub.status.busy": "2021-03-22T14:41:47.188418Z",
     "iopub.status.idle": "2021-03-22T14:41:47.190166Z",
     "shell.execute_reply": "2021-03-22T14:41:47.190599Z"
    }
   },
   "outputs": [],
   "source": [
    "df = df[df.location == 'California'].append(df[df.location != 'California']).reset_index(drop=True)"
   ]
  },
  {
   "cell_type": "code",
   "execution_count": null,
   "metadata": {},
   "outputs": [],
   "source": []
  },
  {
   "cell_type": "code",
   "execution_count": 15,
   "metadata": {
    "execution": {
     "iopub.execute_input": "2021-03-22T14:41:47.193863Z",
     "iopub.status.busy": "2021-03-22T14:41:47.193357Z",
     "iopub.status.idle": "2021-03-22T14:41:47.210741Z",
     "shell.execute_reply": "2021-03-22T14:41:47.210250Z"
    }
   },
   "outputs": [],
   "source": [
    "tz = pytz.timezone(\"America/New_York\")"
   ]
  },
  {
   "cell_type": "code",
   "execution_count": 16,
   "metadata": {
    "execution": {
     "iopub.execute_input": "2021-03-22T14:41:47.214931Z",
     "iopub.status.busy": "2021-03-22T14:41:47.213699Z",
     "iopub.status.idle": "2021-03-22T14:41:47.215521Z",
     "shell.execute_reply": "2021-03-22T14:41:47.215944Z"
    }
   },
   "outputs": [],
   "source": [
    "today = datetime.now(tz).date()"
   ]
  },
  {
   "cell_type": "code",
   "execution_count": 17,
   "metadata": {
    "execution": {
     "iopub.execute_input": "2021-03-22T14:41:47.220128Z",
     "iopub.status.busy": "2021-03-22T14:41:47.219023Z",
     "iopub.status.idle": "2021-03-22T14:41:47.220719Z",
     "shell.execute_reply": "2021-03-22T14:41:47.221142Z"
    }
   },
   "outputs": [],
   "source": [
    "data_dir = os.path.join(os.path.abspath(\"\"), \"data\")"
   ]
  },
  {
   "cell_type": "code",
   "execution_count": 18,
   "metadata": {
    "execution": {
     "iopub.execute_input": "2021-03-22T14:41:47.226480Z",
     "iopub.status.busy": "2021-03-22T14:41:47.224253Z",
     "iopub.status.idle": "2021-03-22T14:41:47.228787Z",
     "shell.execute_reply": "2021-03-22T14:41:47.228280Z"
    }
   },
   "outputs": [],
   "source": [
    "df.to_csv(os.path.join(data_dir, f\"{today}.csv\"), index=False)"
   ]
  },
  {
   "cell_type": "code",
   "execution_count": null,
   "metadata": {},
   "outputs": [],
   "source": []
  }
 ],
 "metadata": {
  "kernelspec": {
   "display_name": "Python 3",
   "language": "python",
   "name": "python3"
  },
  "language_info": {
   "codemirror_mode": {
    "name": "ipython",
    "version": 3
   },
   "file_extension": ".py",
   "mimetype": "text/x-python",
   "name": "python",
   "nbconvert_exporter": "python",
   "pygments_lexer": "ipython3",
   "version": "3.8.8"
  }
 },
 "nbformat": 4,
 "nbformat_minor": 4
}
