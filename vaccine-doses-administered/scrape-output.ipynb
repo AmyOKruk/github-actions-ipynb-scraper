{
 "cells": [
  {
   "cell_type": "markdown",
   "metadata": {},
   "source": [
    "# California COVID vaccinations scrape"
   ]
  },
  {
   "cell_type": "markdown",
   "metadata": {},
   "source": [
    "By [Amy O'Kruk](https://twitter.com/amyokruk)"
   ]
  },
  {
   "cell_type": "markdown",
   "metadata": {},
   "source": [
    "Downloads data on vaccine doses administered by county and statewide from a Tableau-powered dashboard from the California Department of Public Health."
   ]
  },
  {
   "cell_type": "code",
   "execution_count": 1,
   "metadata": {
    "execution": {
     "iopub.execute_input": "2021-03-11T04:49:06.752158Z",
     "iopub.status.busy": "2021-03-11T04:49:06.751559Z",
     "iopub.status.idle": "2021-03-11T04:49:07.174449Z",
     "shell.execute_reply": "2021-03-11T04:49:07.173835Z"
    }
   },
   "outputs": [],
   "source": [
    "import pandas as pd\n",
    "import requests\n",
    "from bs4 import BeautifulSoup\n",
    "import json\n",
    "import re\n",
    "import time\n",
    "from time import gmtime, strftime \n",
    "import os\n",
    "import pytz\n",
    "from datetime import datetime"
   ]
  },
  {
   "cell_type": "markdown",
   "metadata": {},
   "source": [
    "Scrape the dashboard page"
   ]
  },
  {
   "cell_type": "code",
   "execution_count": 2,
   "metadata": {
    "execution": {
     "iopub.execute_input": "2021-03-11T04:49:07.180543Z",
     "iopub.status.busy": "2021-03-11T04:49:07.178155Z",
     "iopub.status.idle": "2021-03-11T04:49:07.617416Z",
     "shell.execute_reply": "2021-03-11T04:49:07.616930Z"
    }
   },
   "outputs": [],
   "source": [
    "url = \"https://public.tableau.com/interactive/views/COVID-19VaccineDashboardPublic/Vaccine?:embed=y&:showVizHome=n&:apiID=host0\"\n",
    "\n",
    "r = requests.get(url)\n",
    "soup = BeautifulSoup(r.text, \"html.parser\")"
   ]
  },
  {
   "cell_type": "code",
   "execution_count": 3,
   "metadata": {
    "execution": {
     "iopub.execute_input": "2021-03-11T04:49:07.622269Z",
     "iopub.status.busy": "2021-03-11T04:49:07.621744Z",
     "iopub.status.idle": "2021-03-11T04:49:07.625348Z",
     "shell.execute_reply": "2021-03-11T04:49:07.624879Z"
    }
   },
   "outputs": [],
   "source": [
    "tableauData = json.loads(soup.find(\"textarea\",{\"id\": \"tsConfigContainer\"}).text)"
   ]
  },
  {
   "cell_type": "markdown",
   "metadata": {},
   "source": [
    "Get the link to the Tableau data"
   ]
  },
  {
   "cell_type": "code",
   "execution_count": 4,
   "metadata": {
    "execution": {
     "iopub.execute_input": "2021-03-11T04:49:07.629716Z",
     "iopub.status.busy": "2021-03-11T04:49:07.628629Z",
     "iopub.status.idle": "2021-03-11T04:49:07.630313Z",
     "shell.execute_reply": "2021-03-11T04:49:07.631161Z"
    }
   },
   "outputs": [],
   "source": [
    "dataUrl = f'https://public.tableau.com{tableauData[\"vizql_root\"]}/bootstrapSession/sessions/{tableauData[\"sessionid\"]}'"
   ]
  },
  {
   "cell_type": "code",
   "execution_count": 5,
   "metadata": {
    "execution": {
     "iopub.execute_input": "2021-03-11T04:49:07.638221Z",
     "iopub.status.busy": "2021-03-11T04:49:07.637600Z",
     "iopub.status.idle": "2021-03-11T04:49:07.948344Z",
     "shell.execute_reply": "2021-03-11T04:49:07.947835Z"
    }
   },
   "outputs": [],
   "source": [
    "r = requests.post(dataUrl, data= {\n",
    "    \"sheet_id\": tableauData[\"sheetId\"],\n",
    "})\n",
    "\n",
    "dataReg = re.search('\\d+;({.*})\\d+;({.*})', r.text, re.MULTILINE)\n",
    "data1 = json.loads(dataReg.group(2))\n",
    "\n",
    "dataJson = data1[\"secondaryInfo\"][\"presModelMap\"][\"dataDictionary\"][\"presModelHolder\"][\"genDataDictionaryPresModel\"][\"dataSegments\"][\"0\"][\"dataColumns\"]"
   ]
  },
  {
   "cell_type": "markdown",
   "metadata": {},
   "source": [
    "Isolate what you want"
   ]
  },
  {
   "cell_type": "code",
   "execution_count": 6,
   "metadata": {
    "execution": {
     "iopub.execute_input": "2021-03-11T04:49:07.953117Z",
     "iopub.status.busy": "2021-03-11T04:49:07.951831Z",
     "iopub.status.idle": "2021-03-11T04:49:07.953725Z",
     "shell.execute_reply": "2021-03-11T04:49:07.954152Z"
    }
   },
   "outputs": [],
   "source": [
    "counties = dataJson[2]['dataValues'][:58]"
   ]
  },
  {
   "cell_type": "code",
   "execution_count": 7,
   "metadata": {
    "execution": {
     "iopub.execute_input": "2021-03-11T04:49:07.958669Z",
     "iopub.status.busy": "2021-03-11T04:49:07.957473Z",
     "iopub.status.idle": "2021-03-11T04:49:07.959377Z",
     "shell.execute_reply": "2021-03-11T04:49:07.959829Z"
    }
   },
   "outputs": [],
   "source": [
    "doses = dataJson[0]['dataValues'][3:61]"
   ]
  },
  {
   "cell_type": "markdown",
   "metadata": {},
   "source": [
    "Data formatting"
   ]
  },
  {
   "cell_type": "code",
   "execution_count": 8,
   "metadata": {
    "execution": {
     "iopub.execute_input": "2021-03-11T04:49:07.963955Z",
     "iopub.status.busy": "2021-03-11T04:49:07.962846Z",
     "iopub.status.idle": "2021-03-11T04:49:07.964552Z",
     "shell.execute_reply": "2021-03-11T04:49:07.964984Z"
    }
   },
   "outputs": [],
   "source": [
    "zipped = dict(zip(counties, doses))"
   ]
  },
  {
   "cell_type": "code",
   "execution_count": 9,
   "metadata": {
    "execution": {
     "iopub.execute_input": "2021-03-11T04:49:07.971530Z",
     "iopub.status.busy": "2021-03-11T04:49:07.970319Z",
     "iopub.status.idle": "2021-03-11T04:49:07.972133Z",
     "shell.execute_reply": "2021-03-11T04:49:07.972561Z"
    }
   },
   "outputs": [],
   "source": [
    "df = pd.Series(zipped).reset_index()"
   ]
  },
  {
   "cell_type": "code",
   "execution_count": 10,
   "metadata": {
    "execution": {
     "iopub.execute_input": "2021-03-11T04:49:07.978072Z",
     "iopub.status.busy": "2021-03-11T04:49:07.976900Z",
     "iopub.status.idle": "2021-03-11T04:49:07.978734Z",
     "shell.execute_reply": "2021-03-11T04:49:07.979165Z"
    }
   },
   "outputs": [],
   "source": [
    "df.columns = ['location','doses']"
   ]
  },
  {
   "cell_type": "markdown",
   "metadata": {},
   "source": [
    "Grab the overall California total"
   ]
  },
  {
   "cell_type": "code",
   "execution_count": 11,
   "metadata": {
    "execution": {
     "iopub.execute_input": "2021-03-11T04:49:07.983686Z",
     "iopub.status.busy": "2021-03-11T04:49:07.982465Z",
     "iopub.status.idle": "2021-03-11T04:49:07.984291Z",
     "shell.execute_reply": "2021-03-11T04:49:07.984723Z"
    }
   },
   "outputs": [],
   "source": [
    "add = {'location':'California','doses':dataJson[0]['dataValues'][2]}"
   ]
  },
  {
   "cell_type": "code",
   "execution_count": 12,
   "metadata": {
    "execution": {
     "iopub.execute_input": "2021-03-11T04:49:07.992172Z",
     "iopub.status.busy": "2021-03-11T04:49:07.990886Z",
     "iopub.status.idle": "2021-03-11T04:49:07.992774Z",
     "shell.execute_reply": "2021-03-11T04:49:07.993216Z"
    }
   },
   "outputs": [],
   "source": [
    "df = df.append(add, ignore_index=True)"
   ]
  },
  {
   "cell_type": "code",
   "execution_count": 13,
   "metadata": {
    "execution": {
     "iopub.execute_input": "2021-03-11T04:49:07.998387Z",
     "iopub.status.busy": "2021-03-11T04:49:07.997207Z",
     "iopub.status.idle": "2021-03-11T04:49:07.998994Z",
     "shell.execute_reply": "2021-03-11T04:49:07.999451Z"
    }
   },
   "outputs": [],
   "source": [
    "df = df.sort_values(by='location')"
   ]
  },
  {
   "cell_type": "code",
   "execution_count": 14,
   "metadata": {
    "execution": {
     "iopub.execute_input": "2021-03-11T04:49:08.006201Z",
     "iopub.status.busy": "2021-03-11T04:49:08.004939Z",
     "iopub.status.idle": "2021-03-11T04:49:08.006799Z",
     "shell.execute_reply": "2021-03-11T04:49:08.007253Z"
    }
   },
   "outputs": [],
   "source": [
    "df = df[df.location == 'California'].append(df[df.location != 'California']).reset_index(drop=True)"
   ]
  },
  {
   "cell_type": "code",
   "execution_count": null,
   "metadata": {},
   "outputs": [],
   "source": []
  },
  {
   "cell_type": "code",
   "execution_count": 15,
   "metadata": {
    "execution": {
     "iopub.execute_input": "2021-03-11T04:49:08.010702Z",
     "iopub.status.busy": "2021-03-11T04:49:08.010181Z",
     "iopub.status.idle": "2021-03-11T04:49:08.027714Z",
     "shell.execute_reply": "2021-03-11T04:49:08.027201Z"
    }
   },
   "outputs": [],
   "source": [
    "tz = pytz.timezone(\"America/New_York\")"
   ]
  },
  {
   "cell_type": "code",
   "execution_count": 16,
   "metadata": {
    "execution": {
     "iopub.execute_input": "2021-03-11T04:49:08.032204Z",
     "iopub.status.busy": "2021-03-11T04:49:08.031002Z",
     "iopub.status.idle": "2021-03-11T04:49:08.032822Z",
     "shell.execute_reply": "2021-03-11T04:49:08.033269Z"
    }
   },
   "outputs": [],
   "source": [
    "today = datetime.now(tz).date()"
   ]
  },
  {
   "cell_type": "code",
   "execution_count": 17,
   "metadata": {
    "execution": {
     "iopub.execute_input": "2021-03-11T04:49:08.037700Z",
     "iopub.status.busy": "2021-03-11T04:49:08.036574Z",
     "iopub.status.idle": "2021-03-11T04:49:08.038314Z",
     "shell.execute_reply": "2021-03-11T04:49:08.038752Z"
    }
   },
   "outputs": [],
   "source": [
    "data_dir = os.path.join(os.path.abspath(\"\"), \"data\")"
   ]
  },
  {
   "cell_type": "code",
   "execution_count": 18,
   "metadata": {
    "execution": {
     "iopub.execute_input": "2021-03-11T04:49:08.042645Z",
     "iopub.status.busy": "2021-03-11T04:49:08.042114Z",
     "iopub.status.idle": "2021-03-11T04:49:08.046694Z",
     "shell.execute_reply": "2021-03-11T04:49:08.046156Z"
    }
   },
   "outputs": [],
   "source": [
    "df.to_csv(os.path.join(data_dir, f\"{today}.csv\"), index=False)"
   ]
  },
  {
   "cell_type": "code",
   "execution_count": null,
   "metadata": {},
   "outputs": [],
   "source": []
  }
 ],
 "metadata": {
  "kernelspec": {
   "display_name": "Python 3",
   "language": "python",
   "name": "python3"
  },
  "language_info": {
   "codemirror_mode": {
    "name": "ipython",
    "version": 3
   },
   "file_extension": ".py",
   "mimetype": "text/x-python",
   "name": "python",
   "nbconvert_exporter": "python",
   "pygments_lexer": "ipython3",
   "version": "3.8.8"
  }
 },
 "nbformat": 4,
 "nbformat_minor": 4
}
