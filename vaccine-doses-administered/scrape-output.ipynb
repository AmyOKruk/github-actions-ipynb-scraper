{
 "cells": [
  {
   "cell_type": "markdown",
   "metadata": {},
   "source": [
    "# California COVID vaccinations scrape"
   ]
  },
  {
   "cell_type": "markdown",
   "metadata": {},
   "source": [
    "By [Amy O'Kruk](https://twitter.com/amyokruk)"
   ]
  },
  {
   "cell_type": "markdown",
   "metadata": {},
   "source": [
    "Downloads data on vaccine doses administered by county and statewide from a Tableau-powered dashboard from the California Department of Public Health."
   ]
  },
  {
   "cell_type": "code",
   "execution_count": 1,
   "metadata": {
    "execution": {
     "iopub.execute_input": "2021-03-15T19:36:24.601431Z",
     "iopub.status.busy": "2021-03-15T19:36:24.600787Z",
     "iopub.status.idle": "2021-03-15T19:36:25.020388Z",
     "shell.execute_reply": "2021-03-15T19:36:25.019831Z"
    }
   },
   "outputs": [],
   "source": [
    "import pandas as pd\n",
    "import requests\n",
    "from bs4 import BeautifulSoup\n",
    "import json\n",
    "import re\n",
    "import time\n",
    "from time import gmtime, strftime \n",
    "import os\n",
    "import pytz\n",
    "from datetime import datetime"
   ]
  },
  {
   "cell_type": "markdown",
   "metadata": {},
   "source": [
    "Scrape the dashboard page"
   ]
  },
  {
   "cell_type": "code",
   "execution_count": 2,
   "metadata": {
    "execution": {
     "iopub.execute_input": "2021-03-15T19:36:25.024802Z",
     "iopub.status.busy": "2021-03-15T19:36:25.024271Z",
     "iopub.status.idle": "2021-03-15T19:36:25.449980Z",
     "shell.execute_reply": "2021-03-15T19:36:25.449175Z"
    }
   },
   "outputs": [],
   "source": [
    "url = \"https://public.tableau.com/interactive/views/COVID-19VaccineDashboardPublic/Vaccine?:embed=y&:showVizHome=n&:apiID=host0\"\n",
    "\n",
    "r = requests.get(url)\n",
    "soup = BeautifulSoup(r.text, \"html.parser\")"
   ]
  },
  {
   "cell_type": "code",
   "execution_count": 3,
   "metadata": {
    "execution": {
     "iopub.execute_input": "2021-03-15T19:36:25.456140Z",
     "iopub.status.busy": "2021-03-15T19:36:25.455235Z",
     "iopub.status.idle": "2021-03-15T19:36:25.459098Z",
     "shell.execute_reply": "2021-03-15T19:36:25.458661Z"
    }
   },
   "outputs": [],
   "source": [
    "tableauData = json.loads(soup.find(\"textarea\",{\"id\": \"tsConfigContainer\"}).text)"
   ]
  },
  {
   "cell_type": "markdown",
   "metadata": {},
   "source": [
    "Get the link to the Tableau data"
   ]
  },
  {
   "cell_type": "code",
   "execution_count": 4,
   "metadata": {
    "execution": {
     "iopub.execute_input": "2021-03-15T19:36:25.463378Z",
     "iopub.status.busy": "2021-03-15T19:36:25.462257Z",
     "iopub.status.idle": "2021-03-15T19:36:25.463971Z",
     "shell.execute_reply": "2021-03-15T19:36:25.464392Z"
    }
   },
   "outputs": [],
   "source": [
    "dataUrl = f'https://public.tableau.com{tableauData[\"vizql_root\"]}/bootstrapSession/sessions/{tableauData[\"sessionid\"]}'"
   ]
  },
  {
   "cell_type": "code",
   "execution_count": 5,
   "metadata": {
    "execution": {
     "iopub.execute_input": "2021-03-15T19:36:25.471051Z",
     "iopub.status.busy": "2021-03-15T19:36:25.470501Z",
     "iopub.status.idle": "2021-03-15T19:36:26.169333Z",
     "shell.execute_reply": "2021-03-15T19:36:26.168533Z"
    }
   },
   "outputs": [],
   "source": [
    "r = requests.post(dataUrl, data= {\n",
    "    \"sheet_id\": tableauData[\"sheetId\"],\n",
    "})\n",
    "\n",
    "dataReg = re.search('\\d+;({.*})\\d+;({.*})', r.text, re.MULTILINE)\n",
    "data1 = json.loads(dataReg.group(2))\n",
    "\n",
    "dataJson = data1[\"secondaryInfo\"][\"presModelMap\"][\"dataDictionary\"][\"presModelHolder\"][\"genDataDictionaryPresModel\"][\"dataSegments\"][\"0\"][\"dataColumns\"]"
   ]
  },
  {
   "cell_type": "markdown",
   "metadata": {},
   "source": [
    "Isolate what you want"
   ]
  },
  {
   "cell_type": "code",
   "execution_count": 6,
   "metadata": {
    "execution": {
     "iopub.execute_input": "2021-03-15T19:36:26.175717Z",
     "iopub.status.busy": "2021-03-15T19:36:26.174343Z",
     "iopub.status.idle": "2021-03-15T19:36:26.176784Z",
     "shell.execute_reply": "2021-03-15T19:36:26.176337Z"
    }
   },
   "outputs": [],
   "source": [
    "counties = dataJson[2]['dataValues'][:58]"
   ]
  },
  {
   "cell_type": "code",
   "execution_count": 7,
   "metadata": {
    "execution": {
     "iopub.execute_input": "2021-03-15T19:36:26.180295Z",
     "iopub.status.busy": "2021-03-15T19:36:26.179792Z",
     "iopub.status.idle": "2021-03-15T19:36:26.182189Z",
     "shell.execute_reply": "2021-03-15T19:36:26.181679Z"
    }
   },
   "outputs": [],
   "source": [
    "doses = dataJson[0]['dataValues'][3:61]"
   ]
  },
  {
   "cell_type": "markdown",
   "metadata": {},
   "source": [
    "Data formatting"
   ]
  },
  {
   "cell_type": "code",
   "execution_count": 8,
   "metadata": {
    "execution": {
     "iopub.execute_input": "2021-03-15T19:36:26.186396Z",
     "iopub.status.busy": "2021-03-15T19:36:26.185305Z",
     "iopub.status.idle": "2021-03-15T19:36:26.187024Z",
     "shell.execute_reply": "2021-03-15T19:36:26.187447Z"
    }
   },
   "outputs": [],
   "source": [
    "zipped = dict(zip(counties, doses))"
   ]
  },
  {
   "cell_type": "code",
   "execution_count": 9,
   "metadata": {
    "execution": {
     "iopub.execute_input": "2021-03-15T19:36:26.194003Z",
     "iopub.status.busy": "2021-03-15T19:36:26.192878Z",
     "iopub.status.idle": "2021-03-15T19:36:26.194615Z",
     "shell.execute_reply": "2021-03-15T19:36:26.195047Z"
    }
   },
   "outputs": [],
   "source": [
    "df = pd.Series(zipped).reset_index()"
   ]
  },
  {
   "cell_type": "code",
   "execution_count": 10,
   "metadata": {
    "execution": {
     "iopub.execute_input": "2021-03-15T19:36:26.199540Z",
     "iopub.status.busy": "2021-03-15T19:36:26.198335Z",
     "iopub.status.idle": "2021-03-15T19:36:26.200139Z",
     "shell.execute_reply": "2021-03-15T19:36:26.200558Z"
    }
   },
   "outputs": [],
   "source": [
    "df.columns = ['location','doses']"
   ]
  },
  {
   "cell_type": "markdown",
   "metadata": {},
   "source": [
    "Grab the overall California total"
   ]
  },
  {
   "cell_type": "code",
   "execution_count": 11,
   "metadata": {
    "execution": {
     "iopub.execute_input": "2021-03-15T19:36:26.204714Z",
     "iopub.status.busy": "2021-03-15T19:36:26.203803Z",
     "iopub.status.idle": "2021-03-15T19:36:26.205481Z",
     "shell.execute_reply": "2021-03-15T19:36:26.205899Z"
    }
   },
   "outputs": [],
   "source": [
    "add = {'location':'California','doses':dataJson[0]['dataValues'][2]}"
   ]
  },
  {
   "cell_type": "code",
   "execution_count": 12,
   "metadata": {
    "execution": {
     "iopub.execute_input": "2021-03-15T19:36:26.212989Z",
     "iopub.status.busy": "2021-03-15T19:36:26.211769Z",
     "iopub.status.idle": "2021-03-15T19:36:26.213581Z",
     "shell.execute_reply": "2021-03-15T19:36:26.214000Z"
    }
   },
   "outputs": [],
   "source": [
    "df = df.append(add, ignore_index=True)"
   ]
  },
  {
   "cell_type": "code",
   "execution_count": 13,
   "metadata": {
    "execution": {
     "iopub.execute_input": "2021-03-15T19:36:26.218953Z",
     "iopub.status.busy": "2021-03-15T19:36:26.217832Z",
     "iopub.status.idle": "2021-03-15T19:36:26.219651Z",
     "shell.execute_reply": "2021-03-15T19:36:26.220077Z"
    }
   },
   "outputs": [],
   "source": [
    "df = df.sort_values(by='location')"
   ]
  },
  {
   "cell_type": "code",
   "execution_count": 14,
   "metadata": {
    "execution": {
     "iopub.execute_input": "2021-03-15T19:36:26.226544Z",
     "iopub.status.busy": "2021-03-15T19:36:26.225414Z",
     "iopub.status.idle": "2021-03-15T19:36:26.227146Z",
     "shell.execute_reply": "2021-03-15T19:36:26.227567Z"
    }
   },
   "outputs": [],
   "source": [
    "df = df[df.location == 'California'].append(df[df.location != 'California']).reset_index(drop=True)"
   ]
  },
  {
   "cell_type": "code",
   "execution_count": null,
   "metadata": {},
   "outputs": [],
   "source": []
  },
  {
   "cell_type": "code",
   "execution_count": 15,
   "metadata": {
    "execution": {
     "iopub.execute_input": "2021-03-15T19:36:26.230915Z",
     "iopub.status.busy": "2021-03-15T19:36:26.230379Z",
     "iopub.status.idle": "2021-03-15T19:36:26.248308Z",
     "shell.execute_reply": "2021-03-15T19:36:26.247814Z"
    }
   },
   "outputs": [],
   "source": [
    "tz = pytz.timezone(\"America/New_York\")"
   ]
  },
  {
   "cell_type": "code",
   "execution_count": 16,
   "metadata": {
    "execution": {
     "iopub.execute_input": "2021-03-15T19:36:26.252720Z",
     "iopub.status.busy": "2021-03-15T19:36:26.251584Z",
     "iopub.status.idle": "2021-03-15T19:36:26.253312Z",
     "shell.execute_reply": "2021-03-15T19:36:26.253740Z"
    }
   },
   "outputs": [],
   "source": [
    "today = datetime.now(tz).date()"
   ]
  },
  {
   "cell_type": "code",
   "execution_count": 17,
   "metadata": {
    "execution": {
     "iopub.execute_input": "2021-03-15T19:36:26.258030Z",
     "iopub.status.busy": "2021-03-15T19:36:26.256939Z",
     "iopub.status.idle": "2021-03-15T19:36:26.258648Z",
     "shell.execute_reply": "2021-03-15T19:36:26.259077Z"
    }
   },
   "outputs": [],
   "source": [
    "data_dir = os.path.join(os.path.abspath(\"\"), \"data\")"
   ]
  },
  {
   "cell_type": "code",
   "execution_count": 18,
   "metadata": {
    "execution": {
     "iopub.execute_input": "2021-03-15T19:36:26.263472Z",
     "iopub.status.busy": "2021-03-15T19:36:26.262316Z",
     "iopub.status.idle": "2021-03-15T19:36:26.266948Z",
     "shell.execute_reply": "2021-03-15T19:36:26.266392Z"
    }
   },
   "outputs": [],
   "source": [
    "df.to_csv(os.path.join(data_dir, f\"{today}.csv\"), index=False)"
   ]
  },
  {
   "cell_type": "code",
   "execution_count": null,
   "metadata": {},
   "outputs": [],
   "source": []
  }
 ],
 "metadata": {
  "kernelspec": {
   "display_name": "Python 3",
   "language": "python",
   "name": "python3"
  },
  "language_info": {
   "codemirror_mode": {
    "name": "ipython",
    "version": 3
   },
   "file_extension": ".py",
   "mimetype": "text/x-python",
   "name": "python",
   "nbconvert_exporter": "python",
   "pygments_lexer": "ipython3",
   "version": "3.8.8"
  }
 },
 "nbformat": 4,
 "nbformat_minor": 4
}
