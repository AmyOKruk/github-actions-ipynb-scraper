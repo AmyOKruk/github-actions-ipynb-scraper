{
 "cells": [
  {
   "cell_type": "markdown",
   "metadata": {},
   "source": [
    "# California COVID vaccinations scrape"
   ]
  },
  {
   "cell_type": "markdown",
   "metadata": {},
   "source": [
    "By [Amy O'Kruk](https://twitter.com/amyokruk)"
   ]
  },
  {
   "cell_type": "markdown",
   "metadata": {},
   "source": [
    "Downloads data on vaccine doses administered by county and statewide from a Tableau-powered dashboard from the California Department of Public Health."
   ]
  },
  {
   "cell_type": "code",
   "execution_count": 1,
   "metadata": {
    "execution": {
     "iopub.execute_input": "2021-03-25T09:51:23.790085Z",
     "iopub.status.busy": "2021-03-25T09:51:23.788667Z",
     "iopub.status.idle": "2021-03-25T09:51:24.229132Z",
     "shell.execute_reply": "2021-03-25T09:51:24.228148Z"
    }
   },
   "outputs": [],
   "source": [
    "import pandas as pd\n",
    "import requests\n",
    "from bs4 import BeautifulSoup\n",
    "import json\n",
    "import re\n",
    "import time\n",
    "from time import gmtime, strftime \n",
    "import os\n",
    "import pytz\n",
    "from datetime import datetime"
   ]
  },
  {
   "cell_type": "markdown",
   "metadata": {},
   "source": [
    "Scrape the dashboard page"
   ]
  },
  {
   "cell_type": "code",
   "execution_count": 2,
   "metadata": {
    "execution": {
     "iopub.execute_input": "2021-03-25T09:51:24.236914Z",
     "iopub.status.busy": "2021-03-25T09:51:24.234143Z",
     "iopub.status.idle": "2021-03-25T09:51:24.918263Z",
     "shell.execute_reply": "2021-03-25T09:51:24.917775Z"
    }
   },
   "outputs": [],
   "source": [
    "url = \"https://public.tableau.com/interactive/views/COVID-19VaccineDashboardPublic/Vaccine?:embed=y&:showVizHome=n&:apiID=host0\"\n",
    "\n",
    "r = requests.get(url)\n",
    "soup = BeautifulSoup(r.text, \"html.parser\")"
   ]
  },
  {
   "cell_type": "code",
   "execution_count": 3,
   "metadata": {
    "execution": {
     "iopub.execute_input": "2021-03-25T09:51:24.923661Z",
     "iopub.status.busy": "2021-03-25T09:51:24.923134Z",
     "iopub.status.idle": "2021-03-25T09:51:24.926602Z",
     "shell.execute_reply": "2021-03-25T09:51:24.926142Z"
    }
   },
   "outputs": [],
   "source": [
    "tableauData = json.loads(soup.find(\"textarea\",{\"id\": \"tsConfigContainer\"}).text)"
   ]
  },
  {
   "cell_type": "markdown",
   "metadata": {},
   "source": [
    "Get the link to the Tableau data"
   ]
  },
  {
   "cell_type": "code",
   "execution_count": 4,
   "metadata": {
    "execution": {
     "iopub.execute_input": "2021-03-25T09:51:24.931180Z",
     "iopub.status.busy": "2021-03-25T09:51:24.930064Z",
     "iopub.status.idle": "2021-03-25T09:51:24.931782Z",
     "shell.execute_reply": "2021-03-25T09:51:24.932209Z"
    }
   },
   "outputs": [],
   "source": [
    "dataUrl = f'https://public.tableau.com{tableauData[\"vizql_root\"]}/bootstrapSession/sessions/{tableauData[\"sessionid\"]}'"
   ]
  },
  {
   "cell_type": "code",
   "execution_count": 5,
   "metadata": {
    "execution": {
     "iopub.execute_input": "2021-03-25T09:51:24.939089Z",
     "iopub.status.busy": "2021-03-25T09:51:24.938558Z",
     "iopub.status.idle": "2021-03-25T09:51:25.535834Z",
     "shell.execute_reply": "2021-03-25T09:51:25.534778Z"
    }
   },
   "outputs": [],
   "source": [
    "r = requests.post(dataUrl, data= {\n",
    "    \"sheet_id\": tableauData[\"sheetId\"],\n",
    "})\n",
    "\n",
    "dataReg = re.search('\\d+;({.*})\\d+;({.*})', r.text, re.MULTILINE)\n",
    "data1 = json.loads(dataReg.group(2))\n",
    "\n",
    "dataJson = data1[\"secondaryInfo\"][\"presModelMap\"][\"dataDictionary\"][\"presModelHolder\"][\"genDataDictionaryPresModel\"][\"dataSegments\"][\"0\"][\"dataColumns\"]"
   ]
  },
  {
   "cell_type": "markdown",
   "metadata": {},
   "source": [
    "Isolate what you want"
   ]
  },
  {
   "cell_type": "code",
   "execution_count": 6,
   "metadata": {
    "execution": {
     "iopub.execute_input": "2021-03-25T09:51:25.540040Z",
     "iopub.status.busy": "2021-03-25T09:51:25.539513Z",
     "iopub.status.idle": "2021-03-25T09:51:25.543072Z",
     "shell.execute_reply": "2021-03-25T09:51:25.542603Z"
    }
   },
   "outputs": [],
   "source": [
    "counties = dataJson[2]['dataValues'][:58]"
   ]
  },
  {
   "cell_type": "code",
   "execution_count": 7,
   "metadata": {
    "execution": {
     "iopub.execute_input": "2021-03-25T09:51:25.546772Z",
     "iopub.status.busy": "2021-03-25T09:51:25.546256Z",
     "iopub.status.idle": "2021-03-25T09:51:25.549734Z",
     "shell.execute_reply": "2021-03-25T09:51:25.549204Z"
    }
   },
   "outputs": [],
   "source": [
    "doses = dataJson[0]['dataValues'][3:61]"
   ]
  },
  {
   "cell_type": "markdown",
   "metadata": {},
   "source": [
    "Data formatting"
   ]
  },
  {
   "cell_type": "code",
   "execution_count": 8,
   "metadata": {
    "execution": {
     "iopub.execute_input": "2021-03-25T09:51:25.553428Z",
     "iopub.status.busy": "2021-03-25T09:51:25.552869Z",
     "iopub.status.idle": "2021-03-25T09:51:25.556379Z",
     "shell.execute_reply": "2021-03-25T09:51:25.555895Z"
    }
   },
   "outputs": [],
   "source": [
    "zipped = dict(zip(counties, doses))"
   ]
  },
  {
   "cell_type": "code",
   "execution_count": 9,
   "metadata": {
    "execution": {
     "iopub.execute_input": "2021-03-25T09:51:25.562683Z",
     "iopub.status.busy": "2021-03-25T09:51:25.562168Z",
     "iopub.status.idle": "2021-03-25T09:51:25.565821Z",
     "shell.execute_reply": "2021-03-25T09:51:25.565364Z"
    }
   },
   "outputs": [],
   "source": [
    "df = pd.Series(zipped).reset_index()"
   ]
  },
  {
   "cell_type": "code",
   "execution_count": 10,
   "metadata": {
    "execution": {
     "iopub.execute_input": "2021-03-25T09:51:25.569583Z",
     "iopub.status.busy": "2021-03-25T09:51:25.569061Z",
     "iopub.status.idle": "2021-03-25T09:51:25.572440Z",
     "shell.execute_reply": "2021-03-25T09:51:25.571989Z"
    }
   },
   "outputs": [],
   "source": [
    "df.columns = ['location','doses']"
   ]
  },
  {
   "cell_type": "markdown",
   "metadata": {},
   "source": [
    "Grab the overall California total"
   ]
  },
  {
   "cell_type": "code",
   "execution_count": 11,
   "metadata": {
    "execution": {
     "iopub.execute_input": "2021-03-25T09:51:25.576054Z",
     "iopub.status.busy": "2021-03-25T09:51:25.575542Z",
     "iopub.status.idle": "2021-03-25T09:51:25.578971Z",
     "shell.execute_reply": "2021-03-25T09:51:25.578518Z"
    }
   },
   "outputs": [],
   "source": [
    "add = {'location':'California','doses':dataJson[0]['dataValues'][2]}"
   ]
  },
  {
   "cell_type": "code",
   "execution_count": 12,
   "metadata": {
    "execution": {
     "iopub.execute_input": "2021-03-25T09:51:25.585396Z",
     "iopub.status.busy": "2021-03-25T09:51:25.584848Z",
     "iopub.status.idle": "2021-03-25T09:51:25.587819Z",
     "shell.execute_reply": "2021-03-25T09:51:25.588255Z"
    }
   },
   "outputs": [],
   "source": [
    "df = df.append(add, ignore_index=True)"
   ]
  },
  {
   "cell_type": "code",
   "execution_count": 13,
   "metadata": {
    "execution": {
     "iopub.execute_input": "2021-03-25T09:51:25.592587Z",
     "iopub.status.busy": "2021-03-25T09:51:25.592072Z",
     "iopub.status.idle": "2021-03-25T09:51:25.595463Z",
     "shell.execute_reply": "2021-03-25T09:51:25.595009Z"
    }
   },
   "outputs": [],
   "source": [
    "df = df.sort_values(by='location')"
   ]
  },
  {
   "cell_type": "code",
   "execution_count": 14,
   "metadata": {
    "execution": {
     "iopub.execute_input": "2021-03-25T09:51:25.601244Z",
     "iopub.status.busy": "2021-03-25T09:51:25.600694Z",
     "iopub.status.idle": "2021-03-25T09:51:25.604102Z",
     "shell.execute_reply": "2021-03-25T09:51:25.603648Z"
    }
   },
   "outputs": [],
   "source": [
    "df = df[df.location == 'California'].append(df[df.location != 'California']).reset_index(drop=True)"
   ]
  },
  {
   "cell_type": "code",
   "execution_count": null,
   "metadata": {},
   "outputs": [],
   "source": []
  },
  {
   "cell_type": "code",
   "execution_count": 15,
   "metadata": {
    "execution": {
     "iopub.execute_input": "2021-03-25T09:51:25.608037Z",
     "iopub.status.busy": "2021-03-25T09:51:25.607097Z",
     "iopub.status.idle": "2021-03-25T09:51:25.626452Z",
     "shell.execute_reply": "2021-03-25T09:51:25.625988Z"
    }
   },
   "outputs": [],
   "source": [
    "tz = pytz.timezone(\"America/New_York\")"
   ]
  },
  {
   "cell_type": "code",
   "execution_count": 16,
   "metadata": {
    "execution": {
     "iopub.execute_input": "2021-03-25T09:51:25.630147Z",
     "iopub.status.busy": "2021-03-25T09:51:25.629636Z",
     "iopub.status.idle": "2021-03-25T09:51:25.633150Z",
     "shell.execute_reply": "2021-03-25T09:51:25.632460Z"
    }
   },
   "outputs": [],
   "source": [
    "today = datetime.now(tz).date()"
   ]
  },
  {
   "cell_type": "code",
   "execution_count": 17,
   "metadata": {
    "execution": {
     "iopub.execute_input": "2021-03-25T09:51:25.637222Z",
     "iopub.status.busy": "2021-03-25T09:51:25.636104Z",
     "iopub.status.idle": "2021-03-25T09:51:25.640694Z",
     "shell.execute_reply": "2021-03-25T09:51:25.639761Z"
    }
   },
   "outputs": [],
   "source": [
    "data_dir = os.path.join(os.path.abspath(\"\"), \"data\")"
   ]
  },
  {
   "cell_type": "code",
   "execution_count": 18,
   "metadata": {
    "execution": {
     "iopub.execute_input": "2021-03-25T09:51:25.645733Z",
     "iopub.status.busy": "2021-03-25T09:51:25.645199Z",
     "iopub.status.idle": "2021-03-25T09:51:25.652208Z",
     "shell.execute_reply": "2021-03-25T09:51:25.652646Z"
    }
   },
   "outputs": [],
   "source": [
    "df.to_csv(os.path.join(data_dir, f\"{today}.csv\"), index=False)"
   ]
  },
  {
   "cell_type": "code",
   "execution_count": null,
   "metadata": {},
   "outputs": [],
   "source": []
  }
 ],
 "metadata": {
  "kernelspec": {
   "display_name": "Python 3",
   "language": "python",
   "name": "python3"
  },
  "language_info": {
   "codemirror_mode": {
    "name": "ipython",
    "version": 3
   },
   "file_extension": ".py",
   "mimetype": "text/x-python",
   "name": "python",
   "nbconvert_exporter": "python",
   "pygments_lexer": "ipython3",
   "version": "3.8.8"
  }
 },
 "nbformat": 4,
 "nbformat_minor": 4
}
