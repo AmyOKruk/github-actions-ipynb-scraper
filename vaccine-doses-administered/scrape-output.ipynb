{
 "cells": [
  {
   "cell_type": "markdown",
   "metadata": {},
   "source": [
    "# California COVID vaccinations scrape"
   ]
  },
  {
   "cell_type": "markdown",
   "metadata": {},
   "source": [
    "By [Amy O'Kruk](https://twitter.com/amyokruk)"
   ]
  },
  {
   "cell_type": "markdown",
   "metadata": {},
   "source": [
    "Downloads data on vaccine doses administered by county and statewide from a Tableau-powered dashboard from the California Department of Public Health."
   ]
  },
  {
   "cell_type": "code",
   "execution_count": 1,
   "metadata": {
    "execution": {
     "iopub.execute_input": "2021-03-25T10:40:16.224289Z",
     "iopub.status.busy": "2021-03-25T10:40:16.223699Z",
     "iopub.status.idle": "2021-03-25T10:40:16.745942Z",
     "shell.execute_reply": "2021-03-25T10:40:16.746483Z"
    }
   },
   "outputs": [],
   "source": [
    "import pandas as pd\n",
    "import requests\n",
    "from bs4 import BeautifulSoup\n",
    "import json\n",
    "import re\n",
    "import time\n",
    "from time import gmtime, strftime \n",
    "import os\n",
    "import pytz\n",
    "from datetime import datetime"
   ]
  },
  {
   "cell_type": "markdown",
   "metadata": {},
   "source": [
    "Scrape the dashboard page"
   ]
  },
  {
   "cell_type": "code",
   "execution_count": 2,
   "metadata": {
    "execution": {
     "iopub.execute_input": "2021-03-25T10:40:16.754654Z",
     "iopub.status.busy": "2021-03-25T10:40:16.753897Z",
     "iopub.status.idle": "2021-03-25T10:40:17.177771Z",
     "shell.execute_reply": "2021-03-25T10:40:17.177295Z"
    }
   },
   "outputs": [],
   "source": [
    "url = \"https://public.tableau.com/interactive/views/COVID-19VaccineDashboardPublic/Vaccine?:embed=y&:showVizHome=n&:apiID=host0\"\n",
    "\n",
    "r = requests.get(url)\n",
    "soup = BeautifulSoup(r.text, \"html.parser\")"
   ]
  },
  {
   "cell_type": "code",
   "execution_count": 3,
   "metadata": {
    "execution": {
     "iopub.execute_input": "2021-03-25T10:40:17.191446Z",
     "iopub.status.busy": "2021-03-25T10:40:17.182600Z",
     "iopub.status.idle": "2021-03-25T10:40:17.194158Z",
     "shell.execute_reply": "2021-03-25T10:40:17.193507Z"
    }
   },
   "outputs": [],
   "source": [
    "tableauData = json.loads(soup.find(\"textarea\",{\"id\": \"tsConfigContainer\"}).text)"
   ]
  },
  {
   "cell_type": "markdown",
   "metadata": {},
   "source": [
    "Get the link to the Tableau data"
   ]
  },
  {
   "cell_type": "code",
   "execution_count": 4,
   "metadata": {
    "execution": {
     "iopub.execute_input": "2021-03-25T10:40:17.198993Z",
     "iopub.status.busy": "2021-03-25T10:40:17.197549Z",
     "iopub.status.idle": "2021-03-25T10:40:17.199683Z",
     "shell.execute_reply": "2021-03-25T10:40:17.200181Z"
    }
   },
   "outputs": [],
   "source": [
    "dataUrl = f'https://public.tableau.com{tableauData[\"vizql_root\"]}/bootstrapSession/sessions/{tableauData[\"sessionid\"]}'"
   ]
  },
  {
   "cell_type": "code",
   "execution_count": 5,
   "metadata": {
    "execution": {
     "iopub.execute_input": "2021-03-25T10:40:17.207484Z",
     "iopub.status.busy": "2021-03-25T10:40:17.206858Z",
     "iopub.status.idle": "2021-03-25T10:40:17.758844Z",
     "shell.execute_reply": "2021-03-25T10:40:17.758326Z"
    }
   },
   "outputs": [],
   "source": [
    "r = requests.post(dataUrl, data= {\n",
    "    \"sheet_id\": tableauData[\"sheetId\"],\n",
    "})\n",
    "\n",
    "dataReg = re.search('\\d+;({.*})\\d+;({.*})', r.text, re.MULTILINE)\n",
    "data1 = json.loads(dataReg.group(2))\n",
    "\n",
    "dataJson = data1[\"secondaryInfo\"][\"presModelMap\"][\"dataDictionary\"][\"presModelHolder\"][\"genDataDictionaryPresModel\"][\"dataSegments\"][\"0\"][\"dataColumns\"]"
   ]
  },
  {
   "cell_type": "markdown",
   "metadata": {},
   "source": [
    "Isolate what you want"
   ]
  },
  {
   "cell_type": "code",
   "execution_count": 6,
   "metadata": {
    "execution": {
     "iopub.execute_input": "2021-03-25T10:40:17.763396Z",
     "iopub.status.busy": "2021-03-25T10:40:17.762283Z",
     "iopub.status.idle": "2021-03-25T10:40:17.764016Z",
     "shell.execute_reply": "2021-03-25T10:40:17.764441Z"
    }
   },
   "outputs": [],
   "source": [
    "counties = dataJson[2]['dataValues'][:58]"
   ]
  },
  {
   "cell_type": "code",
   "execution_count": 7,
   "metadata": {
    "execution": {
     "iopub.execute_input": "2021-03-25T10:40:17.768907Z",
     "iopub.status.busy": "2021-03-25T10:40:17.767696Z",
     "iopub.status.idle": "2021-03-25T10:40:17.769510Z",
     "shell.execute_reply": "2021-03-25T10:40:17.769936Z"
    }
   },
   "outputs": [],
   "source": [
    "doses = dataJson[0]['dataValues'][3:61]"
   ]
  },
  {
   "cell_type": "markdown",
   "metadata": {},
   "source": [
    "Data formatting"
   ]
  },
  {
   "cell_type": "code",
   "execution_count": 8,
   "metadata": {
    "execution": {
     "iopub.execute_input": "2021-03-25T10:40:17.773921Z",
     "iopub.status.busy": "2021-03-25T10:40:17.773008Z",
     "iopub.status.idle": "2021-03-25T10:40:17.774874Z",
     "shell.execute_reply": "2021-03-25T10:40:17.775267Z"
    }
   },
   "outputs": [],
   "source": [
    "zipped = dict(zip(counties, doses))"
   ]
  },
  {
   "cell_type": "code",
   "execution_count": 9,
   "metadata": {
    "execution": {
     "iopub.execute_input": "2021-03-25T10:40:17.782079Z",
     "iopub.status.busy": "2021-03-25T10:40:17.780954Z",
     "iopub.status.idle": "2021-03-25T10:40:17.782695Z",
     "shell.execute_reply": "2021-03-25T10:40:17.783119Z"
    }
   },
   "outputs": [],
   "source": [
    "df = pd.Series(zipped).reset_index()"
   ]
  },
  {
   "cell_type": "code",
   "execution_count": 10,
   "metadata": {
    "execution": {
     "iopub.execute_input": "2021-03-25T10:40:17.787527Z",
     "iopub.status.busy": "2021-03-25T10:40:17.786431Z",
     "iopub.status.idle": "2021-03-25T10:40:17.788121Z",
     "shell.execute_reply": "2021-03-25T10:40:17.788541Z"
    }
   },
   "outputs": [],
   "source": [
    "df.columns = ['location','doses']"
   ]
  },
  {
   "cell_type": "markdown",
   "metadata": {},
   "source": [
    "Grab the overall California total"
   ]
  },
  {
   "cell_type": "code",
   "execution_count": 11,
   "metadata": {
    "execution": {
     "iopub.execute_input": "2021-03-25T10:40:17.792861Z",
     "iopub.status.busy": "2021-03-25T10:40:17.791824Z",
     "iopub.status.idle": "2021-03-25T10:40:17.793646Z",
     "shell.execute_reply": "2021-03-25T10:40:17.794069Z"
    }
   },
   "outputs": [],
   "source": [
    "add = {'location':'California','doses':dataJson[0]['dataValues'][2]}"
   ]
  },
  {
   "cell_type": "code",
   "execution_count": 12,
   "metadata": {
    "execution": {
     "iopub.execute_input": "2021-03-25T10:40:17.801245Z",
     "iopub.status.busy": "2021-03-25T10:40:17.799967Z",
     "iopub.status.idle": "2021-03-25T10:40:17.801848Z",
     "shell.execute_reply": "2021-03-25T10:40:17.802291Z"
    }
   },
   "outputs": [],
   "source": [
    "df = df.append(add, ignore_index=True)"
   ]
  },
  {
   "cell_type": "code",
   "execution_count": 13,
   "metadata": {
    "execution": {
     "iopub.execute_input": "2021-03-25T10:40:17.807732Z",
     "iopub.status.busy": "2021-03-25T10:40:17.806498Z",
     "iopub.status.idle": "2021-03-25T10:40:17.808327Z",
     "shell.execute_reply": "2021-03-25T10:40:17.808747Z"
    }
   },
   "outputs": [],
   "source": [
    "df = df.sort_values(by='location')"
   ]
  },
  {
   "cell_type": "code",
   "execution_count": 14,
   "metadata": {
    "execution": {
     "iopub.execute_input": "2021-03-25T10:40:17.815773Z",
     "iopub.status.busy": "2021-03-25T10:40:17.814565Z",
     "iopub.status.idle": "2021-03-25T10:40:17.816438Z",
     "shell.execute_reply": "2021-03-25T10:40:17.816873Z"
    }
   },
   "outputs": [],
   "source": [
    "df = df[df.location == 'California'].append(df[df.location != 'California']).reset_index(drop=True)"
   ]
  },
  {
   "cell_type": "code",
   "execution_count": null,
   "metadata": {},
   "outputs": [],
   "source": []
  },
  {
   "cell_type": "code",
   "execution_count": 15,
   "metadata": {
    "execution": {
     "iopub.execute_input": "2021-03-25T10:40:17.820778Z",
     "iopub.status.busy": "2021-03-25T10:40:17.820271Z",
     "iopub.status.idle": "2021-03-25T10:40:17.840147Z",
     "shell.execute_reply": "2021-03-25T10:40:17.839191Z"
    }
   },
   "outputs": [],
   "source": [
    "tz = pytz.timezone(\"America/New_York\")"
   ]
  },
  {
   "cell_type": "code",
   "execution_count": 16,
   "metadata": {
    "execution": {
     "iopub.execute_input": "2021-03-25T10:40:17.845176Z",
     "iopub.status.busy": "2021-03-25T10:40:17.843893Z",
     "iopub.status.idle": "2021-03-25T10:40:17.845891Z",
     "shell.execute_reply": "2021-03-25T10:40:17.846365Z"
    }
   },
   "outputs": [],
   "source": [
    "today = datetime.now(tz).date()"
   ]
  },
  {
   "cell_type": "code",
   "execution_count": 17,
   "metadata": {
    "execution": {
     "iopub.execute_input": "2021-03-25T10:40:17.850644Z",
     "iopub.status.busy": "2021-03-25T10:40:17.849696Z",
     "iopub.status.idle": "2021-03-25T10:40:17.851455Z",
     "shell.execute_reply": "2021-03-25T10:40:17.851876Z"
    }
   },
   "outputs": [],
   "source": [
    "data_dir = os.path.join(os.path.abspath(\"\"), \"data\")"
   ]
  },
  {
   "cell_type": "code",
   "execution_count": 18,
   "metadata": {
    "execution": {
     "iopub.execute_input": "2021-03-25T10:40:17.856405Z",
     "iopub.status.busy": "2021-03-25T10:40:17.855030Z",
     "iopub.status.idle": "2021-03-25T10:40:17.859437Z",
     "shell.execute_reply": "2021-03-25T10:40:17.859835Z"
    }
   },
   "outputs": [],
   "source": [
    "df.to_csv(os.path.join(data_dir, f\"{today}.csv\"), index=False)"
   ]
  },
  {
   "cell_type": "code",
   "execution_count": null,
   "metadata": {},
   "outputs": [],
   "source": []
  }
 ],
 "metadata": {
  "kernelspec": {
   "display_name": "Python 3",
   "language": "python",
   "name": "python3"
  },
  "language_info": {
   "codemirror_mode": {
    "name": "ipython",
    "version": 3
   },
   "file_extension": ".py",
   "mimetype": "text/x-python",
   "name": "python",
   "nbconvert_exporter": "python",
   "pygments_lexer": "ipython3",
   "version": "3.8.8"
  }
 },
 "nbformat": 4,
 "nbformat_minor": 4
}
