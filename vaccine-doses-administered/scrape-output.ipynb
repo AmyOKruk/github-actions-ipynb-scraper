{
 "cells": [
  {
   "cell_type": "markdown",
   "metadata": {},
   "source": [
    "# California COVID vaccinations scrape"
   ]
  },
  {
   "cell_type": "markdown",
   "metadata": {},
   "source": [
    "By [Amy O'Kruk](https://twitter.com/amyokruk)"
   ]
  },
  {
   "cell_type": "markdown",
   "metadata": {},
   "source": [
    "Downloads data on vaccine doses administered by county and statewide from a Tableau-powered dashboard from the California Department of Public Health."
   ]
  },
  {
   "cell_type": "code",
   "execution_count": 1,
   "metadata": {
    "execution": {
     "iopub.execute_input": "2021-03-15T14:13:22.800854Z",
     "iopub.status.busy": "2021-03-15T14:13:22.800253Z",
     "iopub.status.idle": "2021-03-15T14:13:23.399843Z",
     "shell.execute_reply": "2021-03-15T14:13:23.399263Z"
    }
   },
   "outputs": [],
   "source": [
    "import pandas as pd\n",
    "import requests\n",
    "from bs4 import BeautifulSoup\n",
    "import json\n",
    "import re\n",
    "import time\n",
    "from time import gmtime, strftime \n",
    "import os\n",
    "import pytz\n",
    "from datetime import datetime"
   ]
  },
  {
   "cell_type": "markdown",
   "metadata": {},
   "source": [
    "Scrape the dashboard page"
   ]
  },
  {
   "cell_type": "code",
   "execution_count": 2,
   "metadata": {
    "execution": {
     "iopub.execute_input": "2021-03-15T14:13:23.407787Z",
     "iopub.status.busy": "2021-03-15T14:13:23.403478Z",
     "iopub.status.idle": "2021-03-15T14:13:23.987411Z",
     "shell.execute_reply": "2021-03-15T14:13:23.987847Z"
    }
   },
   "outputs": [],
   "source": [
    "url = \"https://public.tableau.com/interactive/views/COVID-19VaccineDashboardPublic/Vaccine?:embed=y&:showVizHome=n&:apiID=host0\"\n",
    "\n",
    "r = requests.get(url)\n",
    "soup = BeautifulSoup(r.text, \"html.parser\")"
   ]
  },
  {
   "cell_type": "code",
   "execution_count": 3,
   "metadata": {
    "execution": {
     "iopub.execute_input": "2021-03-15T14:13:23.993295Z",
     "iopub.status.busy": "2021-03-15T14:13:23.992737Z",
     "iopub.status.idle": "2021-03-15T14:13:23.996931Z",
     "shell.execute_reply": "2021-03-15T14:13:23.996468Z"
    }
   },
   "outputs": [],
   "source": [
    "tableauData = json.loads(soup.find(\"textarea\",{\"id\": \"tsConfigContainer\"}).text)"
   ]
  },
  {
   "cell_type": "markdown",
   "metadata": {},
   "source": [
    "Get the link to the Tableau data"
   ]
  },
  {
   "cell_type": "code",
   "execution_count": 4,
   "metadata": {
    "execution": {
     "iopub.execute_input": "2021-03-15T14:13:24.001679Z",
     "iopub.status.busy": "2021-03-15T14:13:24.000533Z",
     "iopub.status.idle": "2021-03-15T14:13:24.002314Z",
     "shell.execute_reply": "2021-03-15T14:13:24.002748Z"
    }
   },
   "outputs": [],
   "source": [
    "dataUrl = f'https://public.tableau.com{tableauData[\"vizql_root\"]}/bootstrapSession/sessions/{tableauData[\"sessionid\"]}'"
   ]
  },
  {
   "cell_type": "code",
   "execution_count": 5,
   "metadata": {
    "execution": {
     "iopub.execute_input": "2021-03-15T14:13:24.008754Z",
     "iopub.status.busy": "2021-03-15T14:13:24.006789Z",
     "iopub.status.idle": "2021-03-15T14:13:24.220235Z",
     "shell.execute_reply": "2021-03-15T14:13:24.219733Z"
    }
   },
   "outputs": [],
   "source": [
    "r = requests.post(dataUrl, data= {\n",
    "    \"sheet_id\": tableauData[\"sheetId\"],\n",
    "})\n",
    "\n",
    "dataReg = re.search('\\d+;({.*})\\d+;({.*})', r.text, re.MULTILINE)\n",
    "data1 = json.loads(dataReg.group(2))\n",
    "\n",
    "dataJson = data1[\"secondaryInfo\"][\"presModelMap\"][\"dataDictionary\"][\"presModelHolder\"][\"genDataDictionaryPresModel\"][\"dataSegments\"][\"0\"][\"dataColumns\"]"
   ]
  },
  {
   "cell_type": "markdown",
   "metadata": {},
   "source": [
    "Isolate what you want"
   ]
  },
  {
   "cell_type": "code",
   "execution_count": 6,
   "metadata": {
    "execution": {
     "iopub.execute_input": "2021-03-15T14:13:24.224717Z",
     "iopub.status.busy": "2021-03-15T14:13:24.223612Z",
     "iopub.status.idle": "2021-03-15T14:13:24.225921Z",
     "shell.execute_reply": "2021-03-15T14:13:24.225468Z"
    }
   },
   "outputs": [],
   "source": [
    "counties = dataJson[2]['dataValues'][:58]"
   ]
  },
  {
   "cell_type": "code",
   "execution_count": 7,
   "metadata": {
    "execution": {
     "iopub.execute_input": "2021-03-15T14:13:24.230861Z",
     "iopub.status.busy": "2021-03-15T14:13:24.229571Z",
     "iopub.status.idle": "2021-03-15T14:13:24.231459Z",
     "shell.execute_reply": "2021-03-15T14:13:24.231891Z"
    }
   },
   "outputs": [],
   "source": [
    "doses = dataJson[0]['dataValues'][3:61]"
   ]
  },
  {
   "cell_type": "markdown",
   "metadata": {},
   "source": [
    "Data formatting"
   ]
  },
  {
   "cell_type": "code",
   "execution_count": 8,
   "metadata": {
    "execution": {
     "iopub.execute_input": "2021-03-15T14:13:24.236408Z",
     "iopub.status.busy": "2021-03-15T14:13:24.235213Z",
     "iopub.status.idle": "2021-03-15T14:13:24.237072Z",
     "shell.execute_reply": "2021-03-15T14:13:24.237503Z"
    }
   },
   "outputs": [],
   "source": [
    "zipped = dict(zip(counties, doses))"
   ]
  },
  {
   "cell_type": "code",
   "execution_count": 9,
   "metadata": {
    "execution": {
     "iopub.execute_input": "2021-03-15T14:13:24.244145Z",
     "iopub.status.busy": "2021-03-15T14:13:24.242856Z",
     "iopub.status.idle": "2021-03-15T14:13:24.250098Z",
     "shell.execute_reply": "2021-03-15T14:13:24.251325Z"
    }
   },
   "outputs": [],
   "source": [
    "df = pd.Series(zipped).reset_index()"
   ]
  },
  {
   "cell_type": "code",
   "execution_count": 10,
   "metadata": {
    "execution": {
     "iopub.execute_input": "2021-03-15T14:13:24.255325Z",
     "iopub.status.busy": "2021-03-15T14:13:24.254790Z",
     "iopub.status.idle": "2021-03-15T14:13:24.257292Z",
     "shell.execute_reply": "2021-03-15T14:13:24.256742Z"
    }
   },
   "outputs": [],
   "source": [
    "df.columns = ['location','doses']"
   ]
  },
  {
   "cell_type": "markdown",
   "metadata": {},
   "source": [
    "Grab the overall California total"
   ]
  },
  {
   "cell_type": "code",
   "execution_count": 11,
   "metadata": {
    "execution": {
     "iopub.execute_input": "2021-03-15T14:13:24.261502Z",
     "iopub.status.busy": "2021-03-15T14:13:24.260957Z",
     "iopub.status.idle": "2021-03-15T14:13:24.271758Z",
     "shell.execute_reply": "2021-03-15T14:13:24.272197Z"
    }
   },
   "outputs": [],
   "source": [
    "add = {'location':'California','doses':dataJson[0]['dataValues'][2]}"
   ]
  },
  {
   "cell_type": "code",
   "execution_count": 12,
   "metadata": {
    "execution": {
     "iopub.execute_input": "2021-03-15T14:13:24.287141Z",
     "iopub.status.busy": "2021-03-15T14:13:24.286583Z",
     "iopub.status.idle": "2021-03-15T14:13:24.295243Z",
     "shell.execute_reply": "2021-03-15T14:13:24.295697Z"
    }
   },
   "outputs": [],
   "source": [
    "df = df.append(add, ignore_index=True)"
   ]
  },
  {
   "cell_type": "code",
   "execution_count": 13,
   "metadata": {
    "execution": {
     "iopub.execute_input": "2021-03-15T14:13:24.305990Z",
     "iopub.status.busy": "2021-03-15T14:13:24.305438Z",
     "iopub.status.idle": "2021-03-15T14:13:24.310327Z",
     "shell.execute_reply": "2021-03-15T14:13:24.309802Z"
    }
   },
   "outputs": [],
   "source": [
    "df = df.sort_values(by='location')"
   ]
  },
  {
   "cell_type": "code",
   "execution_count": 14,
   "metadata": {
    "execution": {
     "iopub.execute_input": "2021-03-15T14:13:24.316724Z",
     "iopub.status.busy": "2021-03-15T14:13:24.316198Z",
     "iopub.status.idle": "2021-03-15T14:13:24.319921Z",
     "shell.execute_reply": "2021-03-15T14:13:24.319475Z"
    }
   },
   "outputs": [],
   "source": [
    "df = df[df.location == 'California'].append(df[df.location != 'California']).reset_index(drop=True)"
   ]
  },
  {
   "cell_type": "code",
   "execution_count": null,
   "metadata": {},
   "outputs": [],
   "source": []
  },
  {
   "cell_type": "code",
   "execution_count": 15,
   "metadata": {
    "execution": {
     "iopub.execute_input": "2021-03-15T14:13:24.323963Z",
     "iopub.status.busy": "2021-03-15T14:13:24.323061Z",
     "iopub.status.idle": "2021-03-15T14:13:24.343647Z",
     "shell.execute_reply": "2021-03-15T14:13:24.342600Z"
    }
   },
   "outputs": [],
   "source": [
    "tz = pytz.timezone(\"America/New_York\")"
   ]
  },
  {
   "cell_type": "code",
   "execution_count": 16,
   "metadata": {
    "execution": {
     "iopub.execute_input": "2021-03-15T14:13:24.347385Z",
     "iopub.status.busy": "2021-03-15T14:13:24.346870Z",
     "iopub.status.idle": "2021-03-15T14:13:24.350352Z",
     "shell.execute_reply": "2021-03-15T14:13:24.349878Z"
    }
   },
   "outputs": [],
   "source": [
    "today = datetime.now(tz).date()"
   ]
  },
  {
   "cell_type": "code",
   "execution_count": 17,
   "metadata": {
    "execution": {
     "iopub.execute_input": "2021-03-15T14:13:24.355186Z",
     "iopub.status.busy": "2021-03-15T14:13:24.353531Z",
     "iopub.status.idle": "2021-03-15T14:13:24.357850Z",
     "shell.execute_reply": "2021-03-15T14:13:24.358293Z"
    }
   },
   "outputs": [],
   "source": [
    "data_dir = os.path.join(os.path.abspath(\"\"), \"data\")"
   ]
  },
  {
   "cell_type": "code",
   "execution_count": 18,
   "metadata": {
    "execution": {
     "iopub.execute_input": "2021-03-15T14:13:24.362962Z",
     "iopub.status.busy": "2021-03-15T14:13:24.361780Z",
     "iopub.status.idle": "2021-03-15T14:13:24.366043Z",
     "shell.execute_reply": "2021-03-15T14:13:24.366465Z"
    }
   },
   "outputs": [],
   "source": [
    "df.to_csv(os.path.join(data_dir, f\"{today}.csv\"), index=False)"
   ]
  },
  {
   "cell_type": "code",
   "execution_count": null,
   "metadata": {},
   "outputs": [],
   "source": []
  }
 ],
 "metadata": {
  "kernelspec": {
   "display_name": "Python 3",
   "language": "python",
   "name": "python3"
  },
  "language_info": {
   "codemirror_mode": {
    "name": "ipython",
    "version": 3
   },
   "file_extension": ".py",
   "mimetype": "text/x-python",
   "name": "python",
   "nbconvert_exporter": "python",
   "pygments_lexer": "ipython3",
   "version": "3.8.8"
  }
 },
 "nbformat": 4,
 "nbformat_minor": 4
}
