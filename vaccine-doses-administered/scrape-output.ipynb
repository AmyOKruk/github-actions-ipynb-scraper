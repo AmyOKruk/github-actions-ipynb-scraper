{
 "cells": [
  {
   "cell_type": "markdown",
   "metadata": {},
   "source": [
    "# California COVID vaccinations scrape"
   ]
  },
  {
   "cell_type": "markdown",
   "metadata": {},
   "source": [
    "By [Amy O'Kruk](https://twitter.com/amyokruk)"
   ]
  },
  {
   "cell_type": "markdown",
   "metadata": {},
   "source": [
    "Downloads data on vaccine doses administered by county and statewide from a Tableau-powered dashboard from the California Department of Public Health."
   ]
  },
  {
   "cell_type": "code",
   "execution_count": 1,
   "metadata": {
    "execution": {
     "iopub.execute_input": "2021-03-20T23:43:37.567892Z",
     "iopub.status.busy": "2021-03-20T23:43:37.567206Z",
     "iopub.status.idle": "2021-03-20T23:43:37.981252Z",
     "shell.execute_reply": "2021-03-20T23:43:37.980614Z"
    }
   },
   "outputs": [],
   "source": [
    "import pandas as pd\n",
    "import requests\n",
    "from bs4 import BeautifulSoup\n",
    "import json\n",
    "import re\n",
    "import time\n",
    "from time import gmtime, strftime \n",
    "import os\n",
    "import pytz\n",
    "from datetime import datetime"
   ]
  },
  {
   "cell_type": "markdown",
   "metadata": {},
   "source": [
    "Scrape the dashboard page"
   ]
  },
  {
   "cell_type": "code",
   "execution_count": 2,
   "metadata": {
    "execution": {
     "iopub.execute_input": "2021-03-20T23:43:37.987977Z",
     "iopub.status.busy": "2021-03-20T23:43:37.984959Z",
     "iopub.status.idle": "2021-03-20T23:43:38.470314Z",
     "shell.execute_reply": "2021-03-20T23:43:38.469790Z"
    }
   },
   "outputs": [],
   "source": [
    "url = \"https://public.tableau.com/interactive/views/COVID-19VaccineDashboardPublic/Vaccine?:embed=y&:showVizHome=n&:apiID=host0\"\n",
    "\n",
    "r = requests.get(url)\n",
    "soup = BeautifulSoup(r.text, \"html.parser\")"
   ]
  },
  {
   "cell_type": "code",
   "execution_count": 3,
   "metadata": {
    "execution": {
     "iopub.execute_input": "2021-03-20T23:43:38.476925Z",
     "iopub.status.busy": "2021-03-20T23:43:38.475430Z",
     "iopub.status.idle": "2021-03-20T23:43:38.477671Z",
     "shell.execute_reply": "2021-03-20T23:43:38.478177Z"
    }
   },
   "outputs": [],
   "source": [
    "tableauData = json.loads(soup.find(\"textarea\",{\"id\": \"tsConfigContainer\"}).text)"
   ]
  },
  {
   "cell_type": "markdown",
   "metadata": {},
   "source": [
    "Get the link to the Tableau data"
   ]
  },
  {
   "cell_type": "code",
   "execution_count": 4,
   "metadata": {
    "execution": {
     "iopub.execute_input": "2021-03-20T23:43:38.483419Z",
     "iopub.status.busy": "2021-03-20T23:43:38.482164Z",
     "iopub.status.idle": "2021-03-20T23:43:38.484393Z",
     "shell.execute_reply": "2021-03-20T23:43:38.484878Z"
    }
   },
   "outputs": [],
   "source": [
    "dataUrl = f'https://public.tableau.com{tableauData[\"vizql_root\"]}/bootstrapSession/sessions/{tableauData[\"sessionid\"]}'"
   ]
  },
  {
   "cell_type": "code",
   "execution_count": 5,
   "metadata": {
    "execution": {
     "iopub.execute_input": "2021-03-20T23:43:38.494168Z",
     "iopub.status.busy": "2021-03-20T23:43:38.493148Z",
     "iopub.status.idle": "2021-03-20T23:43:38.918698Z",
     "shell.execute_reply": "2021-03-20T23:43:38.918210Z"
    }
   },
   "outputs": [],
   "source": [
    "r = requests.post(dataUrl, data= {\n",
    "    \"sheet_id\": tableauData[\"sheetId\"],\n",
    "})\n",
    "\n",
    "dataReg = re.search('\\d+;({.*})\\d+;({.*})', r.text, re.MULTILINE)\n",
    "data1 = json.loads(dataReg.group(2))\n",
    "\n",
    "dataJson = data1[\"secondaryInfo\"][\"presModelMap\"][\"dataDictionary\"][\"presModelHolder\"][\"genDataDictionaryPresModel\"][\"dataSegments\"][\"0\"][\"dataColumns\"]"
   ]
  },
  {
   "cell_type": "markdown",
   "metadata": {},
   "source": [
    "Isolate what you want"
   ]
  },
  {
   "cell_type": "code",
   "execution_count": 6,
   "metadata": {
    "execution": {
     "iopub.execute_input": "2021-03-20T23:43:38.924153Z",
     "iopub.status.busy": "2021-03-20T23:43:38.922945Z",
     "iopub.status.idle": "2021-03-20T23:43:38.925957Z",
     "shell.execute_reply": "2021-03-20T23:43:38.925402Z"
    }
   },
   "outputs": [],
   "source": [
    "counties = dataJson[2]['dataValues'][:58]"
   ]
  },
  {
   "cell_type": "code",
   "execution_count": 7,
   "metadata": {
    "execution": {
     "iopub.execute_input": "2021-03-20T23:43:38.930632Z",
     "iopub.status.busy": "2021-03-20T23:43:38.929313Z",
     "iopub.status.idle": "2021-03-20T23:43:38.931312Z",
     "shell.execute_reply": "2021-03-20T23:43:38.931825Z"
    }
   },
   "outputs": [],
   "source": [
    "doses = dataJson[0]['dataValues'][3:61]"
   ]
  },
  {
   "cell_type": "markdown",
   "metadata": {},
   "source": [
    "Data formatting"
   ]
  },
  {
   "cell_type": "code",
   "execution_count": 8,
   "metadata": {
    "execution": {
     "iopub.execute_input": "2021-03-20T23:43:38.937497Z",
     "iopub.status.busy": "2021-03-20T23:43:38.935426Z",
     "iopub.status.idle": "2021-03-20T23:43:38.938276Z",
     "shell.execute_reply": "2021-03-20T23:43:38.938740Z"
    }
   },
   "outputs": [],
   "source": [
    "zipped = dict(zip(counties, doses))"
   ]
  },
  {
   "cell_type": "code",
   "execution_count": 9,
   "metadata": {
    "execution": {
     "iopub.execute_input": "2021-03-20T23:43:38.948536Z",
     "iopub.status.busy": "2021-03-20T23:43:38.946998Z",
     "iopub.status.idle": "2021-03-20T23:43:38.949325Z",
     "shell.execute_reply": "2021-03-20T23:43:38.949764Z"
    }
   },
   "outputs": [],
   "source": [
    "df = pd.Series(zipped).reset_index()"
   ]
  },
  {
   "cell_type": "code",
   "execution_count": 10,
   "metadata": {
    "execution": {
     "iopub.execute_input": "2021-03-20T23:43:38.954749Z",
     "iopub.status.busy": "2021-03-20T23:43:38.953405Z",
     "iopub.status.idle": "2021-03-20T23:43:38.955421Z",
     "shell.execute_reply": "2021-03-20T23:43:38.955952Z"
    }
   },
   "outputs": [],
   "source": [
    "df.columns = ['location','doses']"
   ]
  },
  {
   "cell_type": "markdown",
   "metadata": {},
   "source": [
    "Grab the overall California total"
   ]
  },
  {
   "cell_type": "code",
   "execution_count": 11,
   "metadata": {
    "execution": {
     "iopub.execute_input": "2021-03-20T23:43:38.961177Z",
     "iopub.status.busy": "2021-03-20T23:43:38.959784Z",
     "iopub.status.idle": "2021-03-20T23:43:38.961805Z",
     "shell.execute_reply": "2021-03-20T23:43:38.962279Z"
    }
   },
   "outputs": [],
   "source": [
    "add = {'location':'California','doses':dataJson[0]['dataValues'][2]}"
   ]
  },
  {
   "cell_type": "code",
   "execution_count": 12,
   "metadata": {
    "execution": {
     "iopub.execute_input": "2021-03-20T23:43:38.970339Z",
     "iopub.status.busy": "2021-03-20T23:43:38.968990Z",
     "iopub.status.idle": "2021-03-20T23:43:38.970953Z",
     "shell.execute_reply": "2021-03-20T23:43:38.971425Z"
    }
   },
   "outputs": [],
   "source": [
    "df = df.append(add, ignore_index=True)"
   ]
  },
  {
   "cell_type": "code",
   "execution_count": 13,
   "metadata": {
    "execution": {
     "iopub.execute_input": "2021-03-20T23:43:38.976568Z",
     "iopub.status.busy": "2021-03-20T23:43:38.975449Z",
     "iopub.status.idle": "2021-03-20T23:43:38.977392Z",
     "shell.execute_reply": "2021-03-20T23:43:38.977855Z"
    }
   },
   "outputs": [],
   "source": [
    "df = df.sort_values(by='location')"
   ]
  },
  {
   "cell_type": "code",
   "execution_count": 14,
   "metadata": {
    "execution": {
     "iopub.execute_input": "2021-03-20T23:43:38.985271Z",
     "iopub.status.busy": "2021-03-20T23:43:38.984243Z",
     "iopub.status.idle": "2021-03-20T23:43:38.987108Z",
     "shell.execute_reply": "2021-03-20T23:43:38.987553Z"
    }
   },
   "outputs": [],
   "source": [
    "df = df[df.location == 'California'].append(df[df.location != 'California']).reset_index(drop=True)"
   ]
  },
  {
   "cell_type": "code",
   "execution_count": null,
   "metadata": {},
   "outputs": [],
   "source": []
  },
  {
   "cell_type": "code",
   "execution_count": 15,
   "metadata": {
    "execution": {
     "iopub.execute_input": "2021-03-20T23:43:38.991204Z",
     "iopub.status.busy": "2021-03-20T23:43:38.990570Z",
     "iopub.status.idle": "2021-03-20T23:43:39.011384Z",
     "shell.execute_reply": "2021-03-20T23:43:39.011858Z"
    }
   },
   "outputs": [],
   "source": [
    "tz = pytz.timezone(\"America/New_York\")"
   ]
  },
  {
   "cell_type": "code",
   "execution_count": 16,
   "metadata": {
    "execution": {
     "iopub.execute_input": "2021-03-20T23:43:39.017394Z",
     "iopub.status.busy": "2021-03-20T23:43:39.016163Z",
     "iopub.status.idle": "2021-03-20T23:43:39.018001Z",
     "shell.execute_reply": "2021-03-20T23:43:39.018469Z"
    }
   },
   "outputs": [],
   "source": [
    "today = datetime.now(tz).date()"
   ]
  },
  {
   "cell_type": "code",
   "execution_count": 17,
   "metadata": {
    "execution": {
     "iopub.execute_input": "2021-03-20T23:43:39.023239Z",
     "iopub.status.busy": "2021-03-20T23:43:39.021862Z",
     "iopub.status.idle": "2021-03-20T23:43:39.023930Z",
     "shell.execute_reply": "2021-03-20T23:43:39.024439Z"
    }
   },
   "outputs": [],
   "source": [
    "data_dir = os.path.join(os.path.abspath(\"\"), \"data\")"
   ]
  },
  {
   "cell_type": "code",
   "execution_count": 18,
   "metadata": {
    "execution": {
     "iopub.execute_input": "2021-03-20T23:43:39.029791Z",
     "iopub.status.busy": "2021-03-20T23:43:39.028897Z",
     "iopub.status.idle": "2021-03-20T23:43:39.098330Z",
     "shell.execute_reply": "2021-03-20T23:43:39.097822Z"
    }
   },
   "outputs": [],
   "source": [
    "df.to_csv(os.path.join(data_dir, f\"{today}.csv\"), index=False)"
   ]
  },
  {
   "cell_type": "code",
   "execution_count": null,
   "metadata": {},
   "outputs": [],
   "source": []
  }
 ],
 "metadata": {
  "kernelspec": {
   "display_name": "Python 3",
   "language": "python",
   "name": "python3"
  },
  "language_info": {
   "codemirror_mode": {
    "name": "ipython",
    "version": 3
   },
   "file_extension": ".py",
   "mimetype": "text/x-python",
   "name": "python",
   "nbconvert_exporter": "python",
   "pygments_lexer": "ipython3",
   "version": "3.8.8"
  }
 },
 "nbformat": 4,
 "nbformat_minor": 4
}
