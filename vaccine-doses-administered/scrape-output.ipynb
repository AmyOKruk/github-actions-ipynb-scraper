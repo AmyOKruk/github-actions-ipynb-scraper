{
 "cells": [
  {
   "cell_type": "markdown",
   "metadata": {},
   "source": [
    "# California COVID vaccinations scrape"
   ]
  },
  {
   "cell_type": "markdown",
   "metadata": {},
   "source": [
    "By [Amy O'Kruk](https://twitter.com/amyokruk)"
   ]
  },
  {
   "cell_type": "markdown",
   "metadata": {},
   "source": [
    "Downloads data on vaccine doses administered by county and statewide from a Tableau-powered dashboard from the California Department of Public Health."
   ]
  },
  {
   "cell_type": "code",
   "execution_count": 1,
   "metadata": {
    "execution": {
     "iopub.execute_input": "2021-03-23T10:45:41.283367Z",
     "iopub.status.busy": "2021-03-23T10:45:41.282360Z",
     "iopub.status.idle": "2021-03-23T10:45:41.712756Z",
     "shell.execute_reply": "2021-03-23T10:45:41.711387Z"
    }
   },
   "outputs": [],
   "source": [
    "import pandas as pd\n",
    "import requests\n",
    "from bs4 import BeautifulSoup\n",
    "import json\n",
    "import re\n",
    "import time\n",
    "from time import gmtime, strftime \n",
    "import os\n",
    "import pytz\n",
    "from datetime import datetime"
   ]
  },
  {
   "cell_type": "markdown",
   "metadata": {},
   "source": [
    "Scrape the dashboard page"
   ]
  },
  {
   "cell_type": "code",
   "execution_count": 2,
   "metadata": {
    "execution": {
     "iopub.execute_input": "2021-03-23T10:45:41.718416Z",
     "iopub.status.busy": "2021-03-23T10:45:41.717768Z",
     "iopub.status.idle": "2021-03-23T10:45:42.187380Z",
     "shell.execute_reply": "2021-03-23T10:45:42.186382Z"
    }
   },
   "outputs": [],
   "source": [
    "url = \"https://public.tableau.com/interactive/views/COVID-19VaccineDashboardPublic/Vaccine?:embed=y&:showVizHome=n&:apiID=host0\"\n",
    "\n",
    "r = requests.get(url)\n",
    "soup = BeautifulSoup(r.text, \"html.parser\")"
   ]
  },
  {
   "cell_type": "code",
   "execution_count": 3,
   "metadata": {
    "execution": {
     "iopub.execute_input": "2021-03-23T10:45:42.192359Z",
     "iopub.status.busy": "2021-03-23T10:45:42.191789Z",
     "iopub.status.idle": "2021-03-23T10:45:42.195570Z",
     "shell.execute_reply": "2021-03-23T10:45:42.195116Z"
    }
   },
   "outputs": [],
   "source": [
    "tableauData = json.loads(soup.find(\"textarea\",{\"id\": \"tsConfigContainer\"}).text)"
   ]
  },
  {
   "cell_type": "markdown",
   "metadata": {},
   "source": [
    "Get the link to the Tableau data"
   ]
  },
  {
   "cell_type": "code",
   "execution_count": 4,
   "metadata": {
    "execution": {
     "iopub.execute_input": "2021-03-23T10:45:42.200238Z",
     "iopub.status.busy": "2021-03-23T10:45:42.198863Z",
     "iopub.status.idle": "2021-03-23T10:45:42.203683Z",
     "shell.execute_reply": "2021-03-23T10:45:42.204091Z"
    }
   },
   "outputs": [],
   "source": [
    "dataUrl = f'https://public.tableau.com{tableauData[\"vizql_root\"]}/bootstrapSession/sessions/{tableauData[\"sessionid\"]}'"
   ]
  },
  {
   "cell_type": "code",
   "execution_count": 5,
   "metadata": {
    "execution": {
     "iopub.execute_input": "2021-03-23T10:45:42.210796Z",
     "iopub.status.busy": "2021-03-23T10:45:42.209918Z",
     "iopub.status.idle": "2021-03-23T10:45:42.536139Z",
     "shell.execute_reply": "2021-03-23T10:45:42.536595Z"
    }
   },
   "outputs": [],
   "source": [
    "r = requests.post(dataUrl, data= {\n",
    "    \"sheet_id\": tableauData[\"sheetId\"],\n",
    "})\n",
    "\n",
    "dataReg = re.search('\\d+;({.*})\\d+;({.*})', r.text, re.MULTILINE)\n",
    "data1 = json.loads(dataReg.group(2))\n",
    "\n",
    "dataJson = data1[\"secondaryInfo\"][\"presModelMap\"][\"dataDictionary\"][\"presModelHolder\"][\"genDataDictionaryPresModel\"][\"dataSegments\"][\"0\"][\"dataColumns\"]"
   ]
  },
  {
   "cell_type": "markdown",
   "metadata": {},
   "source": [
    "Isolate what you want"
   ]
  },
  {
   "cell_type": "code",
   "execution_count": 6,
   "metadata": {
    "execution": {
     "iopub.execute_input": "2021-03-23T10:45:42.541089Z",
     "iopub.status.busy": "2021-03-23T10:45:42.539241Z",
     "iopub.status.idle": "2021-03-23T10:45:42.544662Z",
     "shell.execute_reply": "2021-03-23T10:45:42.552886Z"
    }
   },
   "outputs": [],
   "source": [
    "counties = dataJson[2]['dataValues'][:58]"
   ]
  },
  {
   "cell_type": "code",
   "execution_count": 7,
   "metadata": {
    "execution": {
     "iopub.execute_input": "2021-03-23T10:45:42.556525Z",
     "iopub.status.busy": "2021-03-23T10:45:42.556031Z",
     "iopub.status.idle": "2021-03-23T10:45:42.559691Z",
     "shell.execute_reply": "2021-03-23T10:45:42.559252Z"
    }
   },
   "outputs": [],
   "source": [
    "doses = dataJson[0]['dataValues'][3:61]"
   ]
  },
  {
   "cell_type": "markdown",
   "metadata": {},
   "source": [
    "Data formatting"
   ]
  },
  {
   "cell_type": "code",
   "execution_count": 8,
   "metadata": {
    "execution": {
     "iopub.execute_input": "2021-03-23T10:45:42.563399Z",
     "iopub.status.busy": "2021-03-23T10:45:42.562876Z",
     "iopub.status.idle": "2021-03-23T10:45:42.566103Z",
     "shell.execute_reply": "2021-03-23T10:45:42.566477Z"
    }
   },
   "outputs": [],
   "source": [
    "zipped = dict(zip(counties, doses))"
   ]
  },
  {
   "cell_type": "code",
   "execution_count": 9,
   "metadata": {
    "execution": {
     "iopub.execute_input": "2021-03-23T10:45:42.572514Z",
     "iopub.status.busy": "2021-03-23T10:45:42.571985Z",
     "iopub.status.idle": "2021-03-23T10:45:42.575875Z",
     "shell.execute_reply": "2021-03-23T10:45:42.575445Z"
    }
   },
   "outputs": [],
   "source": [
    "df = pd.Series(zipped).reset_index()"
   ]
  },
  {
   "cell_type": "code",
   "execution_count": 10,
   "metadata": {
    "execution": {
     "iopub.execute_input": "2021-03-23T10:45:42.580541Z",
     "iopub.status.busy": "2021-03-23T10:45:42.579334Z",
     "iopub.status.idle": "2021-03-23T10:45:42.581242Z",
     "shell.execute_reply": "2021-03-23T10:45:42.581681Z"
    }
   },
   "outputs": [],
   "source": [
    "df.columns = ['location','doses']"
   ]
  },
  {
   "cell_type": "markdown",
   "metadata": {},
   "source": [
    "Grab the overall California total"
   ]
  },
  {
   "cell_type": "code",
   "execution_count": 11,
   "metadata": {
    "execution": {
     "iopub.execute_input": "2021-03-23T10:45:42.586191Z",
     "iopub.status.busy": "2021-03-23T10:45:42.585059Z",
     "iopub.status.idle": "2021-03-23T10:45:42.586805Z",
     "shell.execute_reply": "2021-03-23T10:45:42.587232Z"
    }
   },
   "outputs": [],
   "source": [
    "add = {'location':'California','doses':dataJson[0]['dataValues'][2]}"
   ]
  },
  {
   "cell_type": "code",
   "execution_count": 12,
   "metadata": {
    "execution": {
     "iopub.execute_input": "2021-03-23T10:45:42.594995Z",
     "iopub.status.busy": "2021-03-23T10:45:42.593664Z",
     "iopub.status.idle": "2021-03-23T10:45:42.595566Z",
     "shell.execute_reply": "2021-03-23T10:45:42.595943Z"
    }
   },
   "outputs": [],
   "source": [
    "df = df.append(add, ignore_index=True)"
   ]
  },
  {
   "cell_type": "code",
   "execution_count": 13,
   "metadata": {
    "execution": {
     "iopub.execute_input": "2021-03-23T10:45:42.600739Z",
     "iopub.status.busy": "2021-03-23T10:45:42.599855Z",
     "iopub.status.idle": "2021-03-23T10:45:42.601703Z",
     "shell.execute_reply": "2021-03-23T10:45:42.602103Z"
    }
   },
   "outputs": [],
   "source": [
    "df = df.sort_values(by='location')"
   ]
  },
  {
   "cell_type": "code",
   "execution_count": 14,
   "metadata": {
    "execution": {
     "iopub.execute_input": "2021-03-23T10:45:42.609068Z",
     "iopub.status.busy": "2021-03-23T10:45:42.607841Z",
     "iopub.status.idle": "2021-03-23T10:45:42.609660Z",
     "shell.execute_reply": "2021-03-23T10:45:42.610079Z"
    }
   },
   "outputs": [],
   "source": [
    "df = df[df.location == 'California'].append(df[df.location != 'California']).reset_index(drop=True)"
   ]
  },
  {
   "cell_type": "code",
   "execution_count": null,
   "metadata": {},
   "outputs": [],
   "source": []
  },
  {
   "cell_type": "code",
   "execution_count": 15,
   "metadata": {
    "execution": {
     "iopub.execute_input": "2021-03-23T10:45:42.613619Z",
     "iopub.status.busy": "2021-03-23T10:45:42.613182Z",
     "iopub.status.idle": "2021-03-23T10:45:42.633383Z",
     "shell.execute_reply": "2021-03-23T10:45:42.632914Z"
    }
   },
   "outputs": [],
   "source": [
    "tz = pytz.timezone(\"America/New_York\")"
   ]
  },
  {
   "cell_type": "code",
   "execution_count": 16,
   "metadata": {
    "execution": {
     "iopub.execute_input": "2021-03-23T10:45:42.637222Z",
     "iopub.status.busy": "2021-03-23T10:45:42.636270Z",
     "iopub.status.idle": "2021-03-23T10:45:42.638557Z",
     "shell.execute_reply": "2021-03-23T10:45:42.638964Z"
    }
   },
   "outputs": [],
   "source": [
    "today = datetime.now(tz).date()"
   ]
  },
  {
   "cell_type": "code",
   "execution_count": 17,
   "metadata": {
    "execution": {
     "iopub.execute_input": "2021-03-23T10:45:42.642827Z",
     "iopub.status.busy": "2021-03-23T10:45:42.642013Z",
     "iopub.status.idle": "2021-03-23T10:45:42.643749Z",
     "shell.execute_reply": "2021-03-23T10:45:42.644144Z"
    }
   },
   "outputs": [],
   "source": [
    "data_dir = os.path.join(os.path.abspath(\"\"), \"data\")"
   ]
  },
  {
   "cell_type": "code",
   "execution_count": 18,
   "metadata": {
    "execution": {
     "iopub.execute_input": "2021-03-23T10:45:42.647975Z",
     "iopub.status.busy": "2021-03-23T10:45:42.646894Z",
     "iopub.status.idle": "2021-03-23T10:45:42.651364Z",
     "shell.execute_reply": "2021-03-23T10:45:42.650881Z"
    }
   },
   "outputs": [],
   "source": [
    "df.to_csv(os.path.join(data_dir, f\"{today}.csv\"), index=False)"
   ]
  },
  {
   "cell_type": "code",
   "execution_count": null,
   "metadata": {},
   "outputs": [],
   "source": []
  }
 ],
 "metadata": {
  "kernelspec": {
   "display_name": "Python 3",
   "language": "python",
   "name": "python3"
  },
  "language_info": {
   "codemirror_mode": {
    "name": "ipython",
    "version": 3
   },
   "file_extension": ".py",
   "mimetype": "text/x-python",
   "name": "python",
   "nbconvert_exporter": "python",
   "pygments_lexer": "ipython3",
   "version": "3.8.8"
  }
 },
 "nbformat": 4,
 "nbformat_minor": 4
}
