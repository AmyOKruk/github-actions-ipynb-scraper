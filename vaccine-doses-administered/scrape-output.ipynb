{
 "cells": [
  {
   "cell_type": "markdown",
   "metadata": {},
   "source": [
    "# California COVID vaccinations scrape"
   ]
  },
  {
   "cell_type": "markdown",
   "metadata": {},
   "source": [
    "By [Amy O'Kruk](https://twitter.com/amyokruk)"
   ]
  },
  {
   "cell_type": "markdown",
   "metadata": {},
   "source": [
    "Downloads data on vaccine doses administered by county and statewide from a Tableau-powered dashboard from the California Department of Public Health."
   ]
  },
  {
   "cell_type": "code",
   "execution_count": 1,
   "metadata": {
    "execution": {
     "iopub.execute_input": "2021-03-21T11:17:45.469579Z",
     "iopub.status.busy": "2021-03-21T11:17:45.468847Z",
     "iopub.status.idle": "2021-03-21T11:17:45.876450Z",
     "shell.execute_reply": "2021-03-21T11:17:45.875378Z"
    }
   },
   "outputs": [],
   "source": [
    "import pandas as pd\n",
    "import requests\n",
    "from bs4 import BeautifulSoup\n",
    "import json\n",
    "import re\n",
    "import time\n",
    "from time import gmtime, strftime \n",
    "import os\n",
    "import pytz\n",
    "from datetime import datetime"
   ]
  },
  {
   "cell_type": "markdown",
   "metadata": {},
   "source": [
    "Scrape the dashboard page"
   ]
  },
  {
   "cell_type": "code",
   "execution_count": 2,
   "metadata": {
    "execution": {
     "iopub.execute_input": "2021-03-21T11:17:45.883203Z",
     "iopub.status.busy": "2021-03-21T11:17:45.880279Z",
     "iopub.status.idle": "2021-03-21T11:17:46.076994Z",
     "shell.execute_reply": "2021-03-21T11:17:46.075959Z"
    }
   },
   "outputs": [],
   "source": [
    "url = \"https://public.tableau.com/interactive/views/COVID-19VaccineDashboardPublic/Vaccine?:embed=y&:showVizHome=n&:apiID=host0\"\n",
    "\n",
    "r = requests.get(url)\n",
    "soup = BeautifulSoup(r.text, \"html.parser\")"
   ]
  },
  {
   "cell_type": "code",
   "execution_count": 3,
   "metadata": {
    "execution": {
     "iopub.execute_input": "2021-03-21T11:17:46.082770Z",
     "iopub.status.busy": "2021-03-21T11:17:46.082054Z",
     "iopub.status.idle": "2021-03-21T11:17:46.085736Z",
     "shell.execute_reply": "2021-03-21T11:17:46.086153Z"
    }
   },
   "outputs": [],
   "source": [
    "tableauData = json.loads(soup.find(\"textarea\",{\"id\": \"tsConfigContainer\"}).text)"
   ]
  },
  {
   "cell_type": "markdown",
   "metadata": {},
   "source": [
    "Get the link to the Tableau data"
   ]
  },
  {
   "cell_type": "code",
   "execution_count": 4,
   "metadata": {
    "execution": {
     "iopub.execute_input": "2021-03-21T11:17:46.089622Z",
     "iopub.status.busy": "2021-03-21T11:17:46.089094Z",
     "iopub.status.idle": "2021-03-21T11:17:46.093205Z",
     "shell.execute_reply": "2021-03-21T11:17:46.092761Z"
    }
   },
   "outputs": [],
   "source": [
    "dataUrl = f'https://public.tableau.com{tableauData[\"vizql_root\"]}/bootstrapSession/sessions/{tableauData[\"sessionid\"]}'"
   ]
  },
  {
   "cell_type": "code",
   "execution_count": 5,
   "metadata": {
    "execution": {
     "iopub.execute_input": "2021-03-21T11:17:46.100695Z",
     "iopub.status.busy": "2021-03-21T11:17:46.099961Z",
     "iopub.status.idle": "2021-03-21T11:17:46.225135Z",
     "shell.execute_reply": "2021-03-21T11:17:46.224595Z"
    }
   },
   "outputs": [],
   "source": [
    "r = requests.post(dataUrl, data= {\n",
    "    \"sheet_id\": tableauData[\"sheetId\"],\n",
    "})\n",
    "\n",
    "dataReg = re.search('\\d+;({.*})\\d+;({.*})', r.text, re.MULTILINE)\n",
    "data1 = json.loads(dataReg.group(2))\n",
    "\n",
    "dataJson = data1[\"secondaryInfo\"][\"presModelMap\"][\"dataDictionary\"][\"presModelHolder\"][\"genDataDictionaryPresModel\"][\"dataSegments\"][\"0\"][\"dataColumns\"]"
   ]
  },
  {
   "cell_type": "markdown",
   "metadata": {},
   "source": [
    "Isolate what you want"
   ]
  },
  {
   "cell_type": "code",
   "execution_count": 6,
   "metadata": {
    "execution": {
     "iopub.execute_input": "2021-03-21T11:17:46.229143Z",
     "iopub.status.busy": "2021-03-21T11:17:46.228574Z",
     "iopub.status.idle": "2021-03-21T11:17:46.232503Z",
     "shell.execute_reply": "2021-03-21T11:17:46.231679Z"
    }
   },
   "outputs": [],
   "source": [
    "counties = dataJson[2]['dataValues'][:58]"
   ]
  },
  {
   "cell_type": "code",
   "execution_count": 7,
   "metadata": {
    "execution": {
     "iopub.execute_input": "2021-03-21T11:17:46.236492Z",
     "iopub.status.busy": "2021-03-21T11:17:46.235950Z",
     "iopub.status.idle": "2021-03-21T11:17:46.240017Z",
     "shell.execute_reply": "2021-03-21T11:17:46.239050Z"
    }
   },
   "outputs": [],
   "source": [
    "doses = dataJson[0]['dataValues'][3:61]"
   ]
  },
  {
   "cell_type": "markdown",
   "metadata": {},
   "source": [
    "Data formatting"
   ]
  },
  {
   "cell_type": "code",
   "execution_count": 8,
   "metadata": {
    "execution": {
     "iopub.execute_input": "2021-03-21T11:17:46.243813Z",
     "iopub.status.busy": "2021-03-21T11:17:46.243263Z",
     "iopub.status.idle": "2021-03-21T11:17:46.246985Z",
     "shell.execute_reply": "2021-03-21T11:17:46.246430Z"
    }
   },
   "outputs": [],
   "source": [
    "zipped = dict(zip(counties, doses))"
   ]
  },
  {
   "cell_type": "code",
   "execution_count": 9,
   "metadata": {
    "execution": {
     "iopub.execute_input": "2021-03-21T11:17:46.254321Z",
     "iopub.status.busy": "2021-03-21T11:17:46.252986Z",
     "iopub.status.idle": "2021-03-21T11:17:46.255061Z",
     "shell.execute_reply": "2021-03-21T11:17:46.255522Z"
    }
   },
   "outputs": [],
   "source": [
    "df = pd.Series(zipped).reset_index()"
   ]
  },
  {
   "cell_type": "code",
   "execution_count": 10,
   "metadata": {
    "execution": {
     "iopub.execute_input": "2021-03-21T11:17:46.260510Z",
     "iopub.status.busy": "2021-03-21T11:17:46.259042Z",
     "iopub.status.idle": "2021-03-21T11:17:46.261263Z",
     "shell.execute_reply": "2021-03-21T11:17:46.261755Z"
    }
   },
   "outputs": [],
   "source": [
    "df.columns = ['location','doses']"
   ]
  },
  {
   "cell_type": "markdown",
   "metadata": {},
   "source": [
    "Grab the overall California total"
   ]
  },
  {
   "cell_type": "code",
   "execution_count": 11,
   "metadata": {
    "execution": {
     "iopub.execute_input": "2021-03-21T11:17:46.265970Z",
     "iopub.status.busy": "2021-03-21T11:17:46.264998Z",
     "iopub.status.idle": "2021-03-21T11:17:46.268127Z",
     "shell.execute_reply": "2021-03-21T11:17:46.267577Z"
    }
   },
   "outputs": [],
   "source": [
    "add = {'location':'California','doses':dataJson[0]['dataValues'][2]}"
   ]
  },
  {
   "cell_type": "code",
   "execution_count": 12,
   "metadata": {
    "execution": {
     "iopub.execute_input": "2021-03-21T11:17:46.276354Z",
     "iopub.status.busy": "2021-03-21T11:17:46.274944Z",
     "iopub.status.idle": "2021-03-21T11:17:46.277038Z",
     "shell.execute_reply": "2021-03-21T11:17:46.277518Z"
    }
   },
   "outputs": [],
   "source": [
    "df = df.append(add, ignore_index=True)"
   ]
  },
  {
   "cell_type": "code",
   "execution_count": 13,
   "metadata": {
    "execution": {
     "iopub.execute_input": "2021-03-21T11:17:46.283474Z",
     "iopub.status.busy": "2021-03-21T11:17:46.282000Z",
     "iopub.status.idle": "2021-03-21T11:17:46.284159Z",
     "shell.execute_reply": "2021-03-21T11:17:46.284684Z"
    }
   },
   "outputs": [],
   "source": [
    "df = df.sort_values(by='location')"
   ]
  },
  {
   "cell_type": "code",
   "execution_count": 14,
   "metadata": {
    "execution": {
     "iopub.execute_input": "2021-03-21T11:17:46.290946Z",
     "iopub.status.busy": "2021-03-21T11:17:46.290295Z",
     "iopub.status.idle": "2021-03-21T11:17:46.292849Z",
     "shell.execute_reply": "2021-03-21T11:17:46.292363Z"
    }
   },
   "outputs": [],
   "source": [
    "df = df[df.location == 'California'].append(df[df.location != 'California']).reset_index(drop=True)"
   ]
  },
  {
   "cell_type": "code",
   "execution_count": null,
   "metadata": {},
   "outputs": [],
   "source": []
  },
  {
   "cell_type": "code",
   "execution_count": 15,
   "metadata": {
    "execution": {
     "iopub.execute_input": "2021-03-21T11:17:46.296466Z",
     "iopub.status.busy": "2021-03-21T11:17:46.295894Z",
     "iopub.status.idle": "2021-03-21T11:17:46.317195Z",
     "shell.execute_reply": "2021-03-21T11:17:46.317757Z"
    }
   },
   "outputs": [],
   "source": [
    "tz = pytz.timezone(\"America/New_York\")"
   ]
  },
  {
   "cell_type": "code",
   "execution_count": 16,
   "metadata": {
    "execution": {
     "iopub.execute_input": "2021-03-21T11:17:46.322852Z",
     "iopub.status.busy": "2021-03-21T11:17:46.321535Z",
     "iopub.status.idle": "2021-03-21T11:17:46.323419Z",
     "shell.execute_reply": "2021-03-21T11:17:46.323849Z"
    }
   },
   "outputs": [],
   "source": [
    "today = datetime.now(tz).date()"
   ]
  },
  {
   "cell_type": "code",
   "execution_count": 17,
   "metadata": {
    "execution": {
     "iopub.execute_input": "2021-03-21T11:17:46.328718Z",
     "iopub.status.busy": "2021-03-21T11:17:46.327173Z",
     "iopub.status.idle": "2021-03-21T11:17:46.330036Z",
     "shell.execute_reply": "2021-03-21T11:17:46.330617Z"
    }
   },
   "outputs": [],
   "source": [
    "data_dir = os.path.join(os.path.abspath(\"\"), \"data\")"
   ]
  },
  {
   "cell_type": "code",
   "execution_count": 18,
   "metadata": {
    "execution": {
     "iopub.execute_input": "2021-03-21T11:17:46.336751Z",
     "iopub.status.busy": "2021-03-21T11:17:46.334101Z",
     "iopub.status.idle": "2021-03-21T11:17:46.338891Z",
     "shell.execute_reply": "2021-03-21T11:17:46.339414Z"
    }
   },
   "outputs": [],
   "source": [
    "df.to_csv(os.path.join(data_dir, f\"{today}.csv\"), index=False)"
   ]
  },
  {
   "cell_type": "code",
   "execution_count": null,
   "metadata": {},
   "outputs": [],
   "source": []
  }
 ],
 "metadata": {
  "kernelspec": {
   "display_name": "Python 3",
   "language": "python",
   "name": "python3"
  },
  "language_info": {
   "codemirror_mode": {
    "name": "ipython",
    "version": 3
   },
   "file_extension": ".py",
   "mimetype": "text/x-python",
   "name": "python",
   "nbconvert_exporter": "python",
   "pygments_lexer": "ipython3",
   "version": "3.8.8"
  }
 },
 "nbformat": 4,
 "nbformat_minor": 4
}
