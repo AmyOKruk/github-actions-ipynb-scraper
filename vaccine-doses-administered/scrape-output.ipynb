{
 "cells": [
  {
   "cell_type": "markdown",
   "metadata": {},
   "source": [
    "# California COVID vaccinations scrape"
   ]
  },
  {
   "cell_type": "markdown",
   "metadata": {},
   "source": [
    "By [Amy O'Kruk](https://twitter.com/amyokruk)"
   ]
  },
  {
   "cell_type": "markdown",
   "metadata": {},
   "source": [
    "Downloads data on vaccine doses administered by county and statewide from a Tableau-powered dashboard from the California Department of Public Health."
   ]
  },
  {
   "cell_type": "code",
   "execution_count": 1,
   "metadata": {
    "execution": {
     "iopub.execute_input": "2021-03-18T23:42:54.467054Z",
     "iopub.status.busy": "2021-03-18T23:42:54.466472Z",
     "iopub.status.idle": "2021-03-18T23:42:54.788501Z",
     "shell.execute_reply": "2021-03-18T23:42:54.787924Z"
    }
   },
   "outputs": [],
   "source": [
    "import pandas as pd\n",
    "import requests\n",
    "from bs4 import BeautifulSoup\n",
    "import json\n",
    "import re\n",
    "import time\n",
    "from time import gmtime, strftime \n",
    "import os\n",
    "import pytz\n",
    "from datetime import datetime"
   ]
  },
  {
   "cell_type": "markdown",
   "metadata": {},
   "source": [
    "Scrape the dashboard page"
   ]
  },
  {
   "cell_type": "code",
   "execution_count": 2,
   "metadata": {
    "execution": {
     "iopub.execute_input": "2021-03-18T23:42:54.793673Z",
     "iopub.status.busy": "2021-03-18T23:42:54.791679Z",
     "iopub.status.idle": "2021-03-18T23:42:55.133652Z",
     "shell.execute_reply": "2021-03-18T23:42:55.133177Z"
    }
   },
   "outputs": [],
   "source": [
    "url = \"https://public.tableau.com/interactive/views/COVID-19VaccineDashboardPublic/Vaccine?:embed=y&:showVizHome=n&:apiID=host0\"\n",
    "\n",
    "r = requests.get(url)\n",
    "soup = BeautifulSoup(r.text, \"html.parser\")"
   ]
  },
  {
   "cell_type": "code",
   "execution_count": 3,
   "metadata": {
    "execution": {
     "iopub.execute_input": "2021-03-18T23:42:55.137871Z",
     "iopub.status.busy": "2021-03-18T23:42:55.137433Z",
     "iopub.status.idle": "2021-03-18T23:42:55.140488Z",
     "shell.execute_reply": "2021-03-18T23:42:55.140121Z"
    }
   },
   "outputs": [],
   "source": [
    "tableauData = json.loads(soup.find(\"textarea\",{\"id\": \"tsConfigContainer\"}).text)"
   ]
  },
  {
   "cell_type": "markdown",
   "metadata": {},
   "source": [
    "Get the link to the Tableau data"
   ]
  },
  {
   "cell_type": "code",
   "execution_count": 4,
   "metadata": {
    "execution": {
     "iopub.execute_input": "2021-03-18T23:42:55.143429Z",
     "iopub.status.busy": "2021-03-18T23:42:55.142970Z",
     "iopub.status.idle": "2021-03-18T23:42:55.145918Z",
     "shell.execute_reply": "2021-03-18T23:42:55.145541Z"
    }
   },
   "outputs": [],
   "source": [
    "dataUrl = f'https://public.tableau.com{tableauData[\"vizql_root\"]}/bootstrapSession/sessions/{tableauData[\"sessionid\"]}'"
   ]
  },
  {
   "cell_type": "code",
   "execution_count": 5,
   "metadata": {
    "execution": {
     "iopub.execute_input": "2021-03-18T23:42:55.151663Z",
     "iopub.status.busy": "2021-03-18T23:42:55.151189Z",
     "iopub.status.idle": "2021-03-18T23:42:55.369006Z",
     "shell.execute_reply": "2021-03-18T23:42:55.368568Z"
    }
   },
   "outputs": [],
   "source": [
    "r = requests.post(dataUrl, data= {\n",
    "    \"sheet_id\": tableauData[\"sheetId\"],\n",
    "})\n",
    "\n",
    "dataReg = re.search('\\d+;({.*})\\d+;({.*})', r.text, re.MULTILINE)\n",
    "data1 = json.loads(dataReg.group(2))\n",
    "\n",
    "dataJson = data1[\"secondaryInfo\"][\"presModelMap\"][\"dataDictionary\"][\"presModelHolder\"][\"genDataDictionaryPresModel\"][\"dataSegments\"][\"0\"][\"dataColumns\"]"
   ]
  },
  {
   "cell_type": "markdown",
   "metadata": {},
   "source": [
    "Isolate what you want"
   ]
  },
  {
   "cell_type": "code",
   "execution_count": 6,
   "metadata": {
    "execution": {
     "iopub.execute_input": "2021-03-18T23:42:55.372608Z",
     "iopub.status.busy": "2021-03-18T23:42:55.372156Z",
     "iopub.status.idle": "2021-03-18T23:42:55.375140Z",
     "shell.execute_reply": "2021-03-18T23:42:55.374768Z"
    }
   },
   "outputs": [],
   "source": [
    "counties = dataJson[2]['dataValues'][:58]"
   ]
  },
  {
   "cell_type": "code",
   "execution_count": 7,
   "metadata": {
    "execution": {
     "iopub.execute_input": "2021-03-18T23:42:55.378088Z",
     "iopub.status.busy": "2021-03-18T23:42:55.377650Z",
     "iopub.status.idle": "2021-03-18T23:42:55.381018Z",
     "shell.execute_reply": "2021-03-18T23:42:55.380636Z"
    }
   },
   "outputs": [],
   "source": [
    "doses = dataJson[0]['dataValues'][3:61]"
   ]
  },
  {
   "cell_type": "markdown",
   "metadata": {},
   "source": [
    "Data formatting"
   ]
  },
  {
   "cell_type": "code",
   "execution_count": 8,
   "metadata": {
    "execution": {
     "iopub.execute_input": "2021-03-18T23:42:55.383860Z",
     "iopub.status.busy": "2021-03-18T23:42:55.383417Z",
     "iopub.status.idle": "2021-03-18T23:42:55.386350Z",
     "shell.execute_reply": "2021-03-18T23:42:55.385970Z"
    }
   },
   "outputs": [],
   "source": [
    "zipped = dict(zip(counties, doses))"
   ]
  },
  {
   "cell_type": "code",
   "execution_count": 9,
   "metadata": {
    "execution": {
     "iopub.execute_input": "2021-03-18T23:42:55.391848Z",
     "iopub.status.busy": "2021-03-18T23:42:55.390861Z",
     "iopub.status.idle": "2021-03-18T23:42:55.392464Z",
     "shell.execute_reply": "2021-03-18T23:42:55.392827Z"
    }
   },
   "outputs": [],
   "source": [
    "df = pd.Series(zipped).reset_index()"
   ]
  },
  {
   "cell_type": "code",
   "execution_count": 10,
   "metadata": {
    "execution": {
     "iopub.execute_input": "2021-03-18T23:42:55.396291Z",
     "iopub.status.busy": "2021-03-18T23:42:55.395501Z",
     "iopub.status.idle": "2021-03-18T23:42:55.397158Z",
     "shell.execute_reply": "2021-03-18T23:42:55.397493Z"
    }
   },
   "outputs": [],
   "source": [
    "df.columns = ['location','doses']"
   ]
  },
  {
   "cell_type": "markdown",
   "metadata": {},
   "source": [
    "Grab the overall California total"
   ]
  },
  {
   "cell_type": "code",
   "execution_count": 11,
   "metadata": {
    "execution": {
     "iopub.execute_input": "2021-03-18T23:42:55.400897Z",
     "iopub.status.busy": "2021-03-18T23:42:55.400122Z",
     "iopub.status.idle": "2021-03-18T23:42:55.401759Z",
     "shell.execute_reply": "2021-03-18T23:42:55.402093Z"
    }
   },
   "outputs": [],
   "source": [
    "add = {'location':'California','doses':dataJson[0]['dataValues'][2]}"
   ]
  },
  {
   "cell_type": "code",
   "execution_count": 12,
   "metadata": {
    "execution": {
     "iopub.execute_input": "2021-03-18T23:42:55.408000Z",
     "iopub.status.busy": "2021-03-18T23:42:55.407097Z",
     "iopub.status.idle": "2021-03-18T23:42:55.409006Z",
     "shell.execute_reply": "2021-03-18T23:42:55.408646Z"
    }
   },
   "outputs": [],
   "source": [
    "df = df.append(add, ignore_index=True)"
   ]
  },
  {
   "cell_type": "code",
   "execution_count": 13,
   "metadata": {
    "execution": {
     "iopub.execute_input": "2021-03-18T23:42:55.413169Z",
     "iopub.status.busy": "2021-03-18T23:42:55.412116Z",
     "iopub.status.idle": "2021-03-18T23:42:55.413902Z",
     "shell.execute_reply": "2021-03-18T23:42:55.414265Z"
    }
   },
   "outputs": [],
   "source": [
    "df = df.sort_values(by='location')"
   ]
  },
  {
   "cell_type": "code",
   "execution_count": 14,
   "metadata": {
    "execution": {
     "iopub.execute_input": "2021-03-18T23:42:55.419496Z",
     "iopub.status.busy": "2021-03-18T23:42:55.418715Z",
     "iopub.status.idle": "2021-03-18T23:42:55.420317Z",
     "shell.execute_reply": "2021-03-18T23:42:55.420657Z"
    }
   },
   "outputs": [],
   "source": [
    "df = df[df.location == 'California'].append(df[df.location != 'California']).reset_index(drop=True)"
   ]
  },
  {
   "cell_type": "code",
   "execution_count": null,
   "metadata": {},
   "outputs": [],
   "source": []
  },
  {
   "cell_type": "code",
   "execution_count": 15,
   "metadata": {
    "execution": {
     "iopub.execute_input": "2021-03-18T23:42:55.423588Z",
     "iopub.status.busy": "2021-03-18T23:42:55.423131Z",
     "iopub.status.idle": "2021-03-18T23:42:55.438402Z",
     "shell.execute_reply": "2021-03-18T23:42:55.438015Z"
    }
   },
   "outputs": [],
   "source": [
    "tz = pytz.timezone(\"America/New_York\")"
   ]
  },
  {
   "cell_type": "code",
   "execution_count": 16,
   "metadata": {
    "execution": {
     "iopub.execute_input": "2021-03-18T23:42:55.441803Z",
     "iopub.status.busy": "2021-03-18T23:42:55.441011Z",
     "iopub.status.idle": "2021-03-18T23:42:55.442914Z",
     "shell.execute_reply": "2021-03-18T23:42:55.442528Z"
    }
   },
   "outputs": [],
   "source": [
    "today = datetime.now(tz).date()"
   ]
  },
  {
   "cell_type": "code",
   "execution_count": 17,
   "metadata": {
    "execution": {
     "iopub.execute_input": "2021-03-18T23:42:55.446344Z",
     "iopub.status.busy": "2021-03-18T23:42:55.445563Z",
     "iopub.status.idle": "2021-03-18T23:42:55.447605Z",
     "shell.execute_reply": "2021-03-18T23:42:55.447188Z"
    }
   },
   "outputs": [],
   "source": [
    "data_dir = os.path.join(os.path.abspath(\"\"), \"data\")"
   ]
  },
  {
   "cell_type": "code",
   "execution_count": 18,
   "metadata": {
    "execution": {
     "iopub.execute_input": "2021-03-18T23:42:55.450822Z",
     "iopub.status.busy": "2021-03-18T23:42:55.450387Z",
     "iopub.status.idle": "2021-03-18T23:42:55.453867Z",
     "shell.execute_reply": "2021-03-18T23:42:55.454203Z"
    }
   },
   "outputs": [],
   "source": [
    "df.to_csv(os.path.join(data_dir, f\"{today}.csv\"), index=False)"
   ]
  },
  {
   "cell_type": "code",
   "execution_count": null,
   "metadata": {},
   "outputs": [],
   "source": []
  }
 ],
 "metadata": {
  "kernelspec": {
   "display_name": "Python 3",
   "language": "python",
   "name": "python3"
  },
  "language_info": {
   "codemirror_mode": {
    "name": "ipython",
    "version": 3
   },
   "file_extension": ".py",
   "mimetype": "text/x-python",
   "name": "python",
   "nbconvert_exporter": "python",
   "pygments_lexer": "ipython3",
   "version": "3.8.8"
  }
 },
 "nbformat": 4,
 "nbformat_minor": 4
}
