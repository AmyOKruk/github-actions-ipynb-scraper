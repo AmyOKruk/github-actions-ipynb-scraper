{
 "cells": [
  {
   "cell_type": "markdown",
   "metadata": {},
   "source": [
    "# California COVID vaccinations scrape"
   ]
  },
  {
   "cell_type": "markdown",
   "metadata": {},
   "source": [
    "By [Amy O'Kruk](https://twitter.com/amyokruk)"
   ]
  },
  {
   "cell_type": "markdown",
   "metadata": {},
   "source": [
    "Downloads data on vaccine doses administered by county and statewide from a Tableau-powered dashboard from the California Department of Public Health."
   ]
  },
  {
   "cell_type": "code",
   "execution_count": 1,
   "metadata": {
    "execution": {
     "iopub.execute_input": "2021-03-23T18:55:38.223273Z",
     "iopub.status.busy": "2021-03-23T18:55:38.222388Z",
     "iopub.status.idle": "2021-03-23T18:55:38.665613Z",
     "shell.execute_reply": "2021-03-23T18:55:38.664669Z"
    }
   },
   "outputs": [],
   "source": [
    "import pandas as pd\n",
    "import requests\n",
    "from bs4 import BeautifulSoup\n",
    "import json\n",
    "import re\n",
    "import time\n",
    "from time import gmtime, strftime \n",
    "import os\n",
    "import pytz\n",
    "from datetime import datetime"
   ]
  },
  {
   "cell_type": "markdown",
   "metadata": {},
   "source": [
    "Scrape the dashboard page"
   ]
  },
  {
   "cell_type": "code",
   "execution_count": 2,
   "metadata": {
    "execution": {
     "iopub.execute_input": "2021-03-23T18:55:38.672097Z",
     "iopub.status.busy": "2021-03-23T18:55:38.669288Z",
     "iopub.status.idle": "2021-03-23T18:55:39.169118Z",
     "shell.execute_reply": "2021-03-23T18:55:39.169527Z"
    }
   },
   "outputs": [],
   "source": [
    "url = \"https://public.tableau.com/interactive/views/COVID-19VaccineDashboardPublic/Vaccine?:embed=y&:showVizHome=n&:apiID=host0\"\n",
    "\n",
    "r = requests.get(url)\n",
    "soup = BeautifulSoup(r.text, \"html.parser\")"
   ]
  },
  {
   "cell_type": "code",
   "execution_count": 3,
   "metadata": {
    "execution": {
     "iopub.execute_input": "2021-03-23T18:55:39.176666Z",
     "iopub.status.busy": "2021-03-23T18:55:39.174834Z",
     "iopub.status.idle": "2021-03-23T18:55:39.177511Z",
     "shell.execute_reply": "2021-03-23T18:55:39.178015Z"
    }
   },
   "outputs": [],
   "source": [
    "tableauData = json.loads(soup.find(\"textarea\",{\"id\": \"tsConfigContainer\"}).text)"
   ]
  },
  {
   "cell_type": "markdown",
   "metadata": {},
   "source": [
    "Get the link to the Tableau data"
   ]
  },
  {
   "cell_type": "code",
   "execution_count": 4,
   "metadata": {
    "execution": {
     "iopub.execute_input": "2021-03-23T18:55:39.182541Z",
     "iopub.status.busy": "2021-03-23T18:55:39.181151Z",
     "iopub.status.idle": "2021-03-23T18:55:39.183239Z",
     "shell.execute_reply": "2021-03-23T18:55:39.183694Z"
    }
   },
   "outputs": [],
   "source": [
    "dataUrl = f'https://public.tableau.com{tableauData[\"vizql_root\"]}/bootstrapSession/sessions/{tableauData[\"sessionid\"]}'"
   ]
  },
  {
   "cell_type": "code",
   "execution_count": 5,
   "metadata": {
    "execution": {
     "iopub.execute_input": "2021-03-23T18:55:39.190844Z",
     "iopub.status.busy": "2021-03-23T18:55:39.190310Z",
     "iopub.status.idle": "2021-03-23T18:55:39.415512Z",
     "shell.execute_reply": "2021-03-23T18:55:39.414376Z"
    }
   },
   "outputs": [],
   "source": [
    "r = requests.post(dataUrl, data= {\n",
    "    \"sheet_id\": tableauData[\"sheetId\"],\n",
    "})\n",
    "\n",
    "dataReg = re.search('\\d+;({.*})\\d+;({.*})', r.text, re.MULTILINE)\n",
    "data1 = json.loads(dataReg.group(2))\n",
    "\n",
    "dataJson = data1[\"secondaryInfo\"][\"presModelMap\"][\"dataDictionary\"][\"presModelHolder\"][\"genDataDictionaryPresModel\"][\"dataSegments\"][\"0\"][\"dataColumns\"]"
   ]
  },
  {
   "cell_type": "markdown",
   "metadata": {},
   "source": [
    "Isolate what you want"
   ]
  },
  {
   "cell_type": "code",
   "execution_count": 6,
   "metadata": {
    "execution": {
     "iopub.execute_input": "2021-03-23T18:55:39.419770Z",
     "iopub.status.busy": "2021-03-23T18:55:39.419084Z",
     "iopub.status.idle": "2021-03-23T18:55:39.423200Z",
     "shell.execute_reply": "2021-03-23T18:55:39.422575Z"
    }
   },
   "outputs": [],
   "source": [
    "counties = dataJson[2]['dataValues'][:58]"
   ]
  },
  {
   "cell_type": "code",
   "execution_count": 7,
   "metadata": {
    "execution": {
     "iopub.execute_input": "2021-03-23T18:55:39.427530Z",
     "iopub.status.busy": "2021-03-23T18:55:39.426817Z",
     "iopub.status.idle": "2021-03-23T18:55:39.431313Z",
     "shell.execute_reply": "2021-03-23T18:55:39.430274Z"
    }
   },
   "outputs": [],
   "source": [
    "doses = dataJson[0]['dataValues'][3:61]"
   ]
  },
  {
   "cell_type": "markdown",
   "metadata": {},
   "source": [
    "Data formatting"
   ]
  },
  {
   "cell_type": "code",
   "execution_count": 8,
   "metadata": {
    "execution": {
     "iopub.execute_input": "2021-03-23T18:55:39.434880Z",
     "iopub.status.busy": "2021-03-23T18:55:39.434320Z",
     "iopub.status.idle": "2021-03-23T18:55:39.438285Z",
     "shell.execute_reply": "2021-03-23T18:55:39.438797Z"
    }
   },
   "outputs": [],
   "source": [
    "zipped = dict(zip(counties, doses))"
   ]
  },
  {
   "cell_type": "code",
   "execution_count": 9,
   "metadata": {
    "execution": {
     "iopub.execute_input": "2021-03-23T18:55:39.445325Z",
     "iopub.status.busy": "2021-03-23T18:55:39.444274Z",
     "iopub.status.idle": "2021-03-23T18:55:39.446285Z",
     "shell.execute_reply": "2021-03-23T18:55:39.446728Z"
    }
   },
   "outputs": [],
   "source": [
    "df = pd.Series(zipped).reset_index()"
   ]
  },
  {
   "cell_type": "code",
   "execution_count": 10,
   "metadata": {
    "execution": {
     "iopub.execute_input": "2021-03-23T18:55:39.451515Z",
     "iopub.status.busy": "2021-03-23T18:55:39.450126Z",
     "iopub.status.idle": "2021-03-23T18:55:39.452104Z",
     "shell.execute_reply": "2021-03-23T18:55:39.452621Z"
    }
   },
   "outputs": [],
   "source": [
    "df.columns = ['location','doses']"
   ]
  },
  {
   "cell_type": "markdown",
   "metadata": {},
   "source": [
    "Grab the overall California total"
   ]
  },
  {
   "cell_type": "code",
   "execution_count": 11,
   "metadata": {
    "execution": {
     "iopub.execute_input": "2021-03-23T18:55:39.457838Z",
     "iopub.status.busy": "2021-03-23T18:55:39.456508Z",
     "iopub.status.idle": "2021-03-23T18:55:39.458532Z",
     "shell.execute_reply": "2021-03-23T18:55:39.459010Z"
    }
   },
   "outputs": [],
   "source": [
    "add = {'location':'California','doses':dataJson[0]['dataValues'][2]}"
   ]
  },
  {
   "cell_type": "code",
   "execution_count": 12,
   "metadata": {
    "execution": {
     "iopub.execute_input": "2021-03-23T18:55:39.466475Z",
     "iopub.status.busy": "2021-03-23T18:55:39.464957Z",
     "iopub.status.idle": "2021-03-23T18:55:39.467130Z",
     "shell.execute_reply": "2021-03-23T18:55:39.467593Z"
    }
   },
   "outputs": [],
   "source": [
    "df = df.append(add, ignore_index=True)"
   ]
  },
  {
   "cell_type": "code",
   "execution_count": 13,
   "metadata": {
    "execution": {
     "iopub.execute_input": "2021-03-23T18:55:39.473399Z",
     "iopub.status.busy": "2021-03-23T18:55:39.471929Z",
     "iopub.status.idle": "2021-03-23T18:55:39.474188Z",
     "shell.execute_reply": "2021-03-23T18:55:39.474661Z"
    }
   },
   "outputs": [],
   "source": [
    "df = df.sort_values(by='location')"
   ]
  },
  {
   "cell_type": "code",
   "execution_count": 14,
   "metadata": {
    "execution": {
     "iopub.execute_input": "2021-03-23T18:55:39.481941Z",
     "iopub.status.busy": "2021-03-23T18:55:39.480583Z",
     "iopub.status.idle": "2021-03-23T18:55:39.482523Z",
     "shell.execute_reply": "2021-03-23T18:55:39.482980Z"
    }
   },
   "outputs": [],
   "source": [
    "df = df[df.location == 'California'].append(df[df.location != 'California']).reset_index(drop=True)"
   ]
  },
  {
   "cell_type": "code",
   "execution_count": null,
   "metadata": {},
   "outputs": [],
   "source": []
  },
  {
   "cell_type": "code",
   "execution_count": 15,
   "metadata": {
    "execution": {
     "iopub.execute_input": "2021-03-23T18:55:39.486962Z",
     "iopub.status.busy": "2021-03-23T18:55:39.486419Z",
     "iopub.status.idle": "2021-03-23T18:55:39.506786Z",
     "shell.execute_reply": "2021-03-23T18:55:39.506142Z"
    }
   },
   "outputs": [],
   "source": [
    "tz = pytz.timezone(\"America/New_York\")"
   ]
  },
  {
   "cell_type": "code",
   "execution_count": 16,
   "metadata": {
    "execution": {
     "iopub.execute_input": "2021-03-23T18:55:39.511340Z",
     "iopub.status.busy": "2021-03-23T18:55:39.509984Z",
     "iopub.status.idle": "2021-03-23T18:55:39.512093Z",
     "shell.execute_reply": "2021-03-23T18:55:39.512661Z"
    }
   },
   "outputs": [],
   "source": [
    "today = datetime.now(tz).date()"
   ]
  },
  {
   "cell_type": "code",
   "execution_count": 17,
   "metadata": {
    "execution": {
     "iopub.execute_input": "2021-03-23T18:55:39.517889Z",
     "iopub.status.busy": "2021-03-23T18:55:39.516188Z",
     "iopub.status.idle": "2021-03-23T18:55:39.518509Z",
     "shell.execute_reply": "2021-03-23T18:55:39.518970Z"
    }
   },
   "outputs": [],
   "source": [
    "data_dir = os.path.join(os.path.abspath(\"\"), \"data\")"
   ]
  },
  {
   "cell_type": "code",
   "execution_count": 18,
   "metadata": {
    "execution": {
     "iopub.execute_input": "2021-03-23T18:55:39.523057Z",
     "iopub.status.busy": "2021-03-23T18:55:39.522461Z",
     "iopub.status.idle": "2021-03-23T18:55:39.527393Z",
     "shell.execute_reply": "2021-03-23T18:55:39.526855Z"
    }
   },
   "outputs": [],
   "source": [
    "df.to_csv(os.path.join(data_dir, f\"{today}.csv\"), index=False)"
   ]
  },
  {
   "cell_type": "code",
   "execution_count": null,
   "metadata": {},
   "outputs": [],
   "source": []
  }
 ],
 "metadata": {
  "kernelspec": {
   "display_name": "Python 3",
   "language": "python",
   "name": "python3"
  },
  "language_info": {
   "codemirror_mode": {
    "name": "ipython",
    "version": 3
   },
   "file_extension": ".py",
   "mimetype": "text/x-python",
   "name": "python",
   "nbconvert_exporter": "python",
   "pygments_lexer": "ipython3",
   "version": "3.8.8"
  }
 },
 "nbformat": 4,
 "nbformat_minor": 4
}
