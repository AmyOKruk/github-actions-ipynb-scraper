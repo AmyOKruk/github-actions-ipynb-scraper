{
 "cells": [
  {
   "cell_type": "markdown",
   "metadata": {},
   "source": [
    "# California COVID vaccinations scrape"
   ]
  },
  {
   "cell_type": "markdown",
   "metadata": {},
   "source": [
    "By [Amy O'Kruk](https://twitter.com/amyokruk)"
   ]
  },
  {
   "cell_type": "markdown",
   "metadata": {},
   "source": [
    "Downloads data on vaccine doses administered by county and statewide from a Tableau-powered dashboard from the California Department of Public Health."
   ]
  },
  {
   "cell_type": "code",
   "execution_count": 1,
   "metadata": {
    "execution": {
     "iopub.execute_input": "2021-03-10T12:54:13.847497Z",
     "iopub.status.busy": "2021-03-10T12:54:13.846842Z",
     "iopub.status.idle": "2021-03-10T12:54:14.311151Z",
     "shell.execute_reply": "2021-03-10T12:54:14.310149Z"
    }
   },
   "outputs": [],
   "source": [
    "import pandas as pd\n",
    "import requests\n",
    "from bs4 import BeautifulSoup\n",
    "import json\n",
    "import re\n",
    "import time\n",
    "from time import gmtime, strftime \n",
    "import os\n",
    "import pytz\n",
    "from datetime import datetime"
   ]
  },
  {
   "cell_type": "markdown",
   "metadata": {},
   "source": [
    "Scrape the dashboard page"
   ]
  },
  {
   "cell_type": "code",
   "execution_count": 2,
   "metadata": {
    "execution": {
     "iopub.execute_input": "2021-03-10T12:54:14.315349Z",
     "iopub.status.busy": "2021-03-10T12:54:14.314826Z",
     "iopub.status.idle": "2021-03-10T12:54:14.816637Z",
     "shell.execute_reply": "2021-03-10T12:54:14.815725Z"
    }
   },
   "outputs": [],
   "source": [
    "url = \"https://public.tableau.com/interactive/views/COVID-19VaccineDashboardPublic/Vaccine?:embed=y&:showVizHome=n&:apiID=host0\"\n",
    "\n",
    "r = requests.get(url)\n",
    "soup = BeautifulSoup(r.text, \"html.parser\")"
   ]
  },
  {
   "cell_type": "code",
   "execution_count": 3,
   "metadata": {
    "execution": {
     "iopub.execute_input": "2021-03-10T12:54:14.821559Z",
     "iopub.status.busy": "2021-03-10T12:54:14.821036Z",
     "iopub.status.idle": "2021-03-10T12:54:14.824466Z",
     "shell.execute_reply": "2021-03-10T12:54:14.823982Z"
    }
   },
   "outputs": [],
   "source": [
    "tableauData = json.loads(soup.find(\"textarea\",{\"id\": \"tsConfigContainer\"}).text)"
   ]
  },
  {
   "cell_type": "markdown",
   "metadata": {},
   "source": [
    "Get the link to the Tableau data"
   ]
  },
  {
   "cell_type": "code",
   "execution_count": 4,
   "metadata": {
    "execution": {
     "iopub.execute_input": "2021-03-10T12:54:14.828332Z",
     "iopub.status.busy": "2021-03-10T12:54:14.827814Z",
     "iopub.status.idle": "2021-03-10T12:54:14.835673Z",
     "shell.execute_reply": "2021-03-10T12:54:14.833977Z"
    }
   },
   "outputs": [],
   "source": [
    "dataUrl = f'https://public.tableau.com{tableauData[\"vizql_root\"]}/bootstrapSession/sessions/{tableauData[\"sessionid\"]}'"
   ]
  },
  {
   "cell_type": "code",
   "execution_count": 5,
   "metadata": {
    "execution": {
     "iopub.execute_input": "2021-03-10T12:54:14.842605Z",
     "iopub.status.busy": "2021-03-10T12:54:14.841734Z",
     "iopub.status.idle": "2021-03-10T12:54:15.325622Z",
     "shell.execute_reply": "2021-03-10T12:54:15.324817Z"
    }
   },
   "outputs": [],
   "source": [
    "r = requests.post(dataUrl, data= {\n",
    "    \"sheet_id\": tableauData[\"sheetId\"],\n",
    "})\n",
    "\n",
    "dataReg = re.search('\\d+;({.*})\\d+;({.*})', r.text, re.MULTILINE)\n",
    "data1 = json.loads(dataReg.group(2))\n",
    "\n",
    "dataJson = data1[\"secondaryInfo\"][\"presModelMap\"][\"dataDictionary\"][\"presModelHolder\"][\"genDataDictionaryPresModel\"][\"dataSegments\"][\"0\"][\"dataColumns\"]"
   ]
  },
  {
   "cell_type": "markdown",
   "metadata": {},
   "source": [
    "Isolate what you want"
   ]
  },
  {
   "cell_type": "code",
   "execution_count": 6,
   "metadata": {
    "execution": {
     "iopub.execute_input": "2021-03-10T12:54:15.329538Z",
     "iopub.status.busy": "2021-03-10T12:54:15.329017Z",
     "iopub.status.idle": "2021-03-10T12:54:15.332374Z",
     "shell.execute_reply": "2021-03-10T12:54:15.331923Z"
    }
   },
   "outputs": [],
   "source": [
    "counties = dataJson[2]['dataValues'][:58]"
   ]
  },
  {
   "cell_type": "code",
   "execution_count": 7,
   "metadata": {
    "execution": {
     "iopub.execute_input": "2021-03-10T12:54:15.336782Z",
     "iopub.status.busy": "2021-03-10T12:54:15.336068Z",
     "iopub.status.idle": "2021-03-10T12:54:15.338546Z",
     "shell.execute_reply": "2021-03-10T12:54:15.337977Z"
    }
   },
   "outputs": [],
   "source": [
    "doses = dataJson[0]['dataValues'][3:61]"
   ]
  },
  {
   "cell_type": "markdown",
   "metadata": {},
   "source": [
    "Data formatting"
   ]
  },
  {
   "cell_type": "code",
   "execution_count": 8,
   "metadata": {
    "execution": {
     "iopub.execute_input": "2021-03-10T12:54:15.342019Z",
     "iopub.status.busy": "2021-03-10T12:54:15.341510Z",
     "iopub.status.idle": "2021-03-10T12:54:15.344697Z",
     "shell.execute_reply": "2021-03-10T12:54:15.344257Z"
    }
   },
   "outputs": [],
   "source": [
    "zipped = dict(zip(counties, doses))"
   ]
  },
  {
   "cell_type": "code",
   "execution_count": 9,
   "metadata": {
    "execution": {
     "iopub.execute_input": "2021-03-10T12:54:15.352189Z",
     "iopub.status.busy": "2021-03-10T12:54:15.349867Z",
     "iopub.status.idle": "2021-03-10T12:54:15.353598Z",
     "shell.execute_reply": "2021-03-10T12:54:15.354705Z"
    }
   },
   "outputs": [],
   "source": [
    "df = pd.Series(zipped).reset_index()"
   ]
  },
  {
   "cell_type": "code",
   "execution_count": 10,
   "metadata": {
    "execution": {
     "iopub.execute_input": "2021-03-10T12:54:15.359032Z",
     "iopub.status.busy": "2021-03-10T12:54:15.357905Z",
     "iopub.status.idle": "2021-03-10T12:54:15.359625Z",
     "shell.execute_reply": "2021-03-10T12:54:15.360051Z"
    }
   },
   "outputs": [],
   "source": [
    "df.columns = ['location','doses']"
   ]
  },
  {
   "cell_type": "markdown",
   "metadata": {},
   "source": [
    "Grab the overall California total"
   ]
  },
  {
   "cell_type": "code",
   "execution_count": 11,
   "metadata": {
    "execution": {
     "iopub.execute_input": "2021-03-10T12:54:15.365210Z",
     "iopub.status.busy": "2021-03-10T12:54:15.363239Z",
     "iopub.status.idle": "2021-03-10T12:54:15.366905Z",
     "shell.execute_reply": "2021-03-10T12:54:15.367440Z"
    }
   },
   "outputs": [],
   "source": [
    "add = {'location':'California','doses':dataJson[0]['dataValues'][2]}"
   ]
  },
  {
   "cell_type": "code",
   "execution_count": 12,
   "metadata": {
    "execution": {
     "iopub.execute_input": "2021-03-10T12:54:15.374671Z",
     "iopub.status.busy": "2021-03-10T12:54:15.373483Z",
     "iopub.status.idle": "2021-03-10T12:54:15.375259Z",
     "shell.execute_reply": "2021-03-10T12:54:15.375683Z"
    }
   },
   "outputs": [],
   "source": [
    "df = df.append(add, ignore_index=True)"
   ]
  },
  {
   "cell_type": "code",
   "execution_count": 13,
   "metadata": {
    "execution": {
     "iopub.execute_input": "2021-03-10T12:54:15.380584Z",
     "iopub.status.busy": "2021-03-10T12:54:15.379497Z",
     "iopub.status.idle": "2021-03-10T12:54:15.381177Z",
     "shell.execute_reply": "2021-03-10T12:54:15.381781Z"
    }
   },
   "outputs": [],
   "source": [
    "df = df.sort_values(by='location')"
   ]
  },
  {
   "cell_type": "code",
   "execution_count": 14,
   "metadata": {
    "execution": {
     "iopub.execute_input": "2021-03-10T12:54:15.388330Z",
     "iopub.status.busy": "2021-03-10T12:54:15.387095Z",
     "iopub.status.idle": "2021-03-10T12:54:15.388919Z",
     "shell.execute_reply": "2021-03-10T12:54:15.389341Z"
    }
   },
   "outputs": [],
   "source": [
    "df = df[df.location == 'California'].append(df[df.location != 'California']).reset_index(drop=True)"
   ]
  },
  {
   "cell_type": "code",
   "execution_count": null,
   "metadata": {},
   "outputs": [],
   "source": []
  },
  {
   "cell_type": "code",
   "execution_count": 15,
   "metadata": {
    "execution": {
     "iopub.execute_input": "2021-03-10T12:54:15.392746Z",
     "iopub.status.busy": "2021-03-10T12:54:15.392174Z",
     "iopub.status.idle": "2021-03-10T12:54:15.409848Z",
     "shell.execute_reply": "2021-03-10T12:54:15.409334Z"
    }
   },
   "outputs": [],
   "source": [
    "tz = pytz.timezone(\"America/New_York\")"
   ]
  },
  {
   "cell_type": "code",
   "execution_count": 16,
   "metadata": {
    "execution": {
     "iopub.execute_input": "2021-03-10T12:54:15.414498Z",
     "iopub.status.busy": "2021-03-10T12:54:15.413349Z",
     "iopub.status.idle": "2021-03-10T12:54:15.415081Z",
     "shell.execute_reply": "2021-03-10T12:54:15.415507Z"
    }
   },
   "outputs": [],
   "source": [
    "today = datetime.now(tz).date()"
   ]
  },
  {
   "cell_type": "code",
   "execution_count": 17,
   "metadata": {
    "execution": {
     "iopub.execute_input": "2021-03-10T12:54:15.419808Z",
     "iopub.status.busy": "2021-03-10T12:54:15.418670Z",
     "iopub.status.idle": "2021-03-10T12:54:15.420401Z",
     "shell.execute_reply": "2021-03-10T12:54:15.420829Z"
    }
   },
   "outputs": [],
   "source": [
    "data_dir = os.path.join(os.path.abspath(\"\"), \"data\")"
   ]
  },
  {
   "cell_type": "code",
   "execution_count": 18,
   "metadata": {
    "execution": {
     "iopub.execute_input": "2021-03-10T12:54:15.425234Z",
     "iopub.status.busy": "2021-03-10T12:54:15.424033Z",
     "iopub.status.idle": "2021-03-10T12:54:15.429199Z",
     "shell.execute_reply": "2021-03-10T12:54:15.428133Z"
    }
   },
   "outputs": [],
   "source": [
    "df.to_csv(os.path.join(data_dir, f\"{today}.csv\"), index=False)"
   ]
  },
  {
   "cell_type": "code",
   "execution_count": null,
   "metadata": {},
   "outputs": [],
   "source": []
  }
 ],
 "metadata": {
  "kernelspec": {
   "display_name": "Python 3",
   "language": "python",
   "name": "python3"
  },
  "language_info": {
   "codemirror_mode": {
    "name": "ipython",
    "version": 3
   },
   "file_extension": ".py",
   "mimetype": "text/x-python",
   "name": "python",
   "nbconvert_exporter": "python",
   "pygments_lexer": "ipython3",
   "version": "3.8.8"
  }
 },
 "nbformat": 4,
 "nbformat_minor": 4
}
