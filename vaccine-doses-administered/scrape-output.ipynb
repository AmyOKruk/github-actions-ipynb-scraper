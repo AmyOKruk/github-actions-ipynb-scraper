{
 "cells": [
  {
   "cell_type": "markdown",
   "metadata": {},
   "source": [
    "# California COVID vaccinations scrape"
   ]
  },
  {
   "cell_type": "markdown",
   "metadata": {},
   "source": [
    "By [Amy O'Kruk](https://twitter.com/amyokruk)"
   ]
  },
  {
   "cell_type": "markdown",
   "metadata": {},
   "source": [
    "Downloads data on vaccine doses administered by county and statewide from a Tableau-powered dashboard from the California Department of Public Health."
   ]
  },
  {
   "cell_type": "code",
   "execution_count": 1,
   "metadata": {
    "execution": {
     "iopub.execute_input": "2021-03-12T04:49:39.902228Z",
     "iopub.status.busy": "2021-03-12T04:49:39.901454Z",
     "iopub.status.idle": "2021-03-12T04:49:40.340366Z",
     "shell.execute_reply": "2021-03-12T04:49:40.340844Z"
    }
   },
   "outputs": [],
   "source": [
    "import pandas as pd\n",
    "import requests\n",
    "from bs4 import BeautifulSoup\n",
    "import json\n",
    "import re\n",
    "import time\n",
    "from time import gmtime, strftime \n",
    "import os\n",
    "import pytz\n",
    "from datetime import datetime"
   ]
  },
  {
   "cell_type": "markdown",
   "metadata": {},
   "source": [
    "Scrape the dashboard page"
   ]
  },
  {
   "cell_type": "code",
   "execution_count": 2,
   "metadata": {
    "execution": {
     "iopub.execute_input": "2021-03-12T04:49:40.347085Z",
     "iopub.status.busy": "2021-03-12T04:49:40.344419Z",
     "iopub.status.idle": "2021-03-12T04:49:40.806681Z",
     "shell.execute_reply": "2021-03-12T04:49:40.805735Z"
    }
   },
   "outputs": [],
   "source": [
    "url = \"https://public.tableau.com/interactive/views/COVID-19VaccineDashboardPublic/Vaccine?:embed=y&:showVizHome=n&:apiID=host0\"\n",
    "\n",
    "r = requests.get(url)\n",
    "soup = BeautifulSoup(r.text, \"html.parser\")"
   ]
  },
  {
   "cell_type": "code",
   "execution_count": 3,
   "metadata": {
    "execution": {
     "iopub.execute_input": "2021-03-12T04:49:40.813039Z",
     "iopub.status.busy": "2021-03-12T04:49:40.811478Z",
     "iopub.status.idle": "2021-03-12T04:49:40.813734Z",
     "shell.execute_reply": "2021-03-12T04:49:40.814322Z"
    }
   },
   "outputs": [],
   "source": [
    "tableauData = json.loads(soup.find(\"textarea\",{\"id\": \"tsConfigContainer\"}).text)"
   ]
  },
  {
   "cell_type": "markdown",
   "metadata": {},
   "source": [
    "Get the link to the Tableau data"
   ]
  },
  {
   "cell_type": "code",
   "execution_count": 4,
   "metadata": {
    "execution": {
     "iopub.execute_input": "2021-03-12T04:49:40.819613Z",
     "iopub.status.busy": "2021-03-12T04:49:40.817882Z",
     "iopub.status.idle": "2021-03-12T04:49:40.820316Z",
     "shell.execute_reply": "2021-03-12T04:49:40.820841Z"
    }
   },
   "outputs": [],
   "source": [
    "dataUrl = f'https://public.tableau.com{tableauData[\"vizql_root\"]}/bootstrapSession/sessions/{tableauData[\"sessionid\"]}'"
   ]
  },
  {
   "cell_type": "code",
   "execution_count": 5,
   "metadata": {
    "execution": {
     "iopub.execute_input": "2021-03-12T04:49:40.827907Z",
     "iopub.status.busy": "2021-03-12T04:49:40.827259Z",
     "iopub.status.idle": "2021-03-12T04:49:41.466668Z",
     "shell.execute_reply": "2021-03-12T04:49:41.465982Z"
    }
   },
   "outputs": [],
   "source": [
    "r = requests.post(dataUrl, data= {\n",
    "    \"sheet_id\": tableauData[\"sheetId\"],\n",
    "})\n",
    "\n",
    "dataReg = re.search('\\d+;({.*})\\d+;({.*})', r.text, re.MULTILINE)\n",
    "data1 = json.loads(dataReg.group(2))\n",
    "\n",
    "dataJson = data1[\"secondaryInfo\"][\"presModelMap\"][\"dataDictionary\"][\"presModelHolder\"][\"genDataDictionaryPresModel\"][\"dataSegments\"][\"0\"][\"dataColumns\"]"
   ]
  },
  {
   "cell_type": "markdown",
   "metadata": {},
   "source": [
    "Isolate what you want"
   ]
  },
  {
   "cell_type": "code",
   "execution_count": 6,
   "metadata": {
    "execution": {
     "iopub.execute_input": "2021-03-12T04:49:41.471548Z",
     "iopub.status.busy": "2021-03-12T04:49:41.470874Z",
     "iopub.status.idle": "2021-03-12T04:49:41.475354Z",
     "shell.execute_reply": "2021-03-12T04:49:41.474410Z"
    }
   },
   "outputs": [],
   "source": [
    "counties = dataJson[2]['dataValues'][:58]"
   ]
  },
  {
   "cell_type": "code",
   "execution_count": 7,
   "metadata": {
    "execution": {
     "iopub.execute_input": "2021-03-12T04:49:41.480144Z",
     "iopub.status.busy": "2021-03-12T04:49:41.479488Z",
     "iopub.status.idle": "2021-03-12T04:49:41.483627Z",
     "shell.execute_reply": "2021-03-12T04:49:41.483070Z"
    }
   },
   "outputs": [],
   "source": [
    "doses = dataJson[0]['dataValues'][3:61]"
   ]
  },
  {
   "cell_type": "markdown",
   "metadata": {},
   "source": [
    "Data formatting"
   ]
  },
  {
   "cell_type": "code",
   "execution_count": 8,
   "metadata": {
    "execution": {
     "iopub.execute_input": "2021-03-12T04:49:41.487883Z",
     "iopub.status.busy": "2021-03-12T04:49:41.487245Z",
     "iopub.status.idle": "2021-03-12T04:49:41.491572Z",
     "shell.execute_reply": "2021-03-12T04:49:41.490708Z"
    }
   },
   "outputs": [],
   "source": [
    "zipped = dict(zip(counties, doses))"
   ]
  },
  {
   "cell_type": "code",
   "execution_count": 9,
   "metadata": {
    "execution": {
     "iopub.execute_input": "2021-03-12T04:49:41.498122Z",
     "iopub.status.busy": "2021-03-12T04:49:41.497462Z",
     "iopub.status.idle": "2021-03-12T04:49:41.501561Z",
     "shell.execute_reply": "2021-03-12T04:49:41.501035Z"
    }
   },
   "outputs": [],
   "source": [
    "df = pd.Series(zipped).reset_index()"
   ]
  },
  {
   "cell_type": "code",
   "execution_count": 10,
   "metadata": {
    "execution": {
     "iopub.execute_input": "2021-03-12T04:49:41.507069Z",
     "iopub.status.busy": "2021-03-12T04:49:41.505547Z",
     "iopub.status.idle": "2021-03-12T04:49:41.507763Z",
     "shell.execute_reply": "2021-03-12T04:49:41.508289Z"
    }
   },
   "outputs": [],
   "source": [
    "df.columns = ['location','doses']"
   ]
  },
  {
   "cell_type": "markdown",
   "metadata": {},
   "source": [
    "Grab the overall California total"
   ]
  },
  {
   "cell_type": "code",
   "execution_count": 11,
   "metadata": {
    "execution": {
     "iopub.execute_input": "2021-03-12T04:49:41.513375Z",
     "iopub.status.busy": "2021-03-12T04:49:41.511956Z",
     "iopub.status.idle": "2021-03-12T04:49:41.514101Z",
     "shell.execute_reply": "2021-03-12T04:49:41.514626Z"
    }
   },
   "outputs": [],
   "source": [
    "add = {'location':'California','doses':dataJson[0]['dataValues'][2]}"
   ]
  },
  {
   "cell_type": "code",
   "execution_count": 12,
   "metadata": {
    "execution": {
     "iopub.execute_input": "2021-03-12T04:49:41.522568Z",
     "iopub.status.busy": "2021-03-12T04:49:41.521176Z",
     "iopub.status.idle": "2021-03-12T04:49:41.523248Z",
     "shell.execute_reply": "2021-03-12T04:49:41.523783Z"
    }
   },
   "outputs": [],
   "source": [
    "df = df.append(add, ignore_index=True)"
   ]
  },
  {
   "cell_type": "code",
   "execution_count": 13,
   "metadata": {
    "execution": {
     "iopub.execute_input": "2021-03-12T04:49:41.530612Z",
     "iopub.status.busy": "2021-03-12T04:49:41.529119Z",
     "iopub.status.idle": "2021-03-12T04:49:41.531281Z",
     "shell.execute_reply": "2021-03-12T04:49:41.531795Z"
    }
   },
   "outputs": [],
   "source": [
    "df = df.sort_values(by='location')"
   ]
  },
  {
   "cell_type": "code",
   "execution_count": 14,
   "metadata": {
    "execution": {
     "iopub.execute_input": "2021-03-12T04:49:41.539068Z",
     "iopub.status.busy": "2021-03-12T04:49:41.537665Z",
     "iopub.status.idle": "2021-03-12T04:49:41.539727Z",
     "shell.execute_reply": "2021-03-12T04:49:41.540244Z"
    }
   },
   "outputs": [],
   "source": [
    "df = df[df.location == 'California'].append(df[df.location != 'California']).reset_index(drop=True)"
   ]
  },
  {
   "cell_type": "code",
   "execution_count": null,
   "metadata": {},
   "outputs": [],
   "source": []
  },
  {
   "cell_type": "code",
   "execution_count": 15,
   "metadata": {
    "execution": {
     "iopub.execute_input": "2021-03-12T04:49:41.544429Z",
     "iopub.status.busy": "2021-03-12T04:49:41.543830Z",
     "iopub.status.idle": "2021-03-12T04:49:41.565610Z",
     "shell.execute_reply": "2021-03-12T04:49:41.566102Z"
    }
   },
   "outputs": [],
   "source": [
    "tz = pytz.timezone(\"America/New_York\")"
   ]
  },
  {
   "cell_type": "code",
   "execution_count": 16,
   "metadata": {
    "execution": {
     "iopub.execute_input": "2021-03-12T04:49:41.570664Z",
     "iopub.status.busy": "2021-03-12T04:49:41.569296Z",
     "iopub.status.idle": "2021-03-12T04:49:41.571399Z",
     "shell.execute_reply": "2021-03-12T04:49:41.571904Z"
    }
   },
   "outputs": [],
   "source": [
    "today = datetime.now(tz).date()"
   ]
  },
  {
   "cell_type": "code",
   "execution_count": 17,
   "metadata": {
    "execution": {
     "iopub.execute_input": "2021-03-12T04:49:41.576490Z",
     "iopub.status.busy": "2021-03-12T04:49:41.575455Z",
     "iopub.status.idle": "2021-03-12T04:49:41.577449Z",
     "shell.execute_reply": "2021-03-12T04:49:41.577941Z"
    }
   },
   "outputs": [],
   "source": [
    "data_dir = os.path.join(os.path.abspath(\"\"), \"data\")"
   ]
  },
  {
   "cell_type": "code",
   "execution_count": 18,
   "metadata": {
    "execution": {
     "iopub.execute_input": "2021-03-12T04:49:41.582085Z",
     "iopub.status.busy": "2021-03-12T04:49:41.581292Z",
     "iopub.status.idle": "2021-03-12T04:49:41.586155Z",
     "shell.execute_reply": "2021-03-12T04:49:41.585543Z"
    }
   },
   "outputs": [],
   "source": [
    "df.to_csv(os.path.join(data_dir, f\"{today}.csv\"), index=False)"
   ]
  },
  {
   "cell_type": "code",
   "execution_count": null,
   "metadata": {},
   "outputs": [],
   "source": []
  }
 ],
 "metadata": {
  "kernelspec": {
   "display_name": "Python 3",
   "language": "python",
   "name": "python3"
  },
  "language_info": {
   "codemirror_mode": {
    "name": "ipython",
    "version": 3
   },
   "file_extension": ".py",
   "mimetype": "text/x-python",
   "name": "python",
   "nbconvert_exporter": "python",
   "pygments_lexer": "ipython3",
   "version": "3.8.8"
  }
 },
 "nbformat": 4,
 "nbformat_minor": 4
}
