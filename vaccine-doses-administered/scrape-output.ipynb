{
 "cells": [
  {
   "cell_type": "markdown",
   "metadata": {},
   "source": [
    "# California COVID vaccinations scrape"
   ]
  },
  {
   "cell_type": "markdown",
   "metadata": {},
   "source": [
    "By [Amy O'Kruk](https://twitter.com/amyokruk)"
   ]
  },
  {
   "cell_type": "markdown",
   "metadata": {},
   "source": [
    "Downloads data on vaccine doses administered by county and statewide from a Tableau-powered dashboard from the California Department of Public Health."
   ]
  },
  {
   "cell_type": "code",
   "execution_count": 1,
   "metadata": {
    "execution": {
     "iopub.execute_input": "2021-03-14T04:49:33.321848Z",
     "iopub.status.busy": "2021-03-14T04:49:33.320800Z",
     "iopub.status.idle": "2021-03-14T04:49:33.726162Z",
     "shell.execute_reply": "2021-03-14T04:49:33.725167Z"
    }
   },
   "outputs": [],
   "source": [
    "import pandas as pd\n",
    "import requests\n",
    "from bs4 import BeautifulSoup\n",
    "import json\n",
    "import re\n",
    "import time\n",
    "from time import gmtime, strftime \n",
    "import os\n",
    "import pytz\n",
    "from datetime import datetime"
   ]
  },
  {
   "cell_type": "markdown",
   "metadata": {},
   "source": [
    "Scrape the dashboard page"
   ]
  },
  {
   "cell_type": "code",
   "execution_count": 2,
   "metadata": {
    "execution": {
     "iopub.execute_input": "2021-03-14T04:49:33.733178Z",
     "iopub.status.busy": "2021-03-14T04:49:33.730672Z",
     "iopub.status.idle": "2021-03-14T04:49:34.291654Z",
     "shell.execute_reply": "2021-03-14T04:49:34.289834Z"
    }
   },
   "outputs": [],
   "source": [
    "url = \"https://public.tableau.com/interactive/views/COVID-19VaccineDashboardPublic/Vaccine?:embed=y&:showVizHome=n&:apiID=host0\"\n",
    "\n",
    "r = requests.get(url)\n",
    "soup = BeautifulSoup(r.text, \"html.parser\")"
   ]
  },
  {
   "cell_type": "code",
   "execution_count": 3,
   "metadata": {
    "execution": {
     "iopub.execute_input": "2021-03-14T04:49:34.297187Z",
     "iopub.status.busy": "2021-03-14T04:49:34.296500Z",
     "iopub.status.idle": "2021-03-14T04:49:34.301380Z",
     "shell.execute_reply": "2021-03-14T04:49:34.300434Z"
    }
   },
   "outputs": [],
   "source": [
    "tableauData = json.loads(soup.find(\"textarea\",{\"id\": \"tsConfigContainer\"}).text)"
   ]
  },
  {
   "cell_type": "markdown",
   "metadata": {},
   "source": [
    "Get the link to the Tableau data"
   ]
  },
  {
   "cell_type": "code",
   "execution_count": 4,
   "metadata": {
    "execution": {
     "iopub.execute_input": "2021-03-14T04:49:34.305521Z",
     "iopub.status.busy": "2021-03-14T04:49:34.304804Z",
     "iopub.status.idle": "2021-03-14T04:49:34.308669Z",
     "shell.execute_reply": "2021-03-14T04:49:34.309276Z"
    }
   },
   "outputs": [],
   "source": [
    "dataUrl = f'https://public.tableau.com{tableauData[\"vizql_root\"]}/bootstrapSession/sessions/{tableauData[\"sessionid\"]}'"
   ]
  },
  {
   "cell_type": "code",
   "execution_count": 5,
   "metadata": {
    "execution": {
     "iopub.execute_input": "2021-03-14T04:49:34.316843Z",
     "iopub.status.busy": "2021-03-14T04:49:34.315627Z",
     "iopub.status.idle": "2021-03-14T04:49:34.545727Z",
     "shell.execute_reply": "2021-03-14T04:49:34.545058Z"
    }
   },
   "outputs": [],
   "source": [
    "r = requests.post(dataUrl, data= {\n",
    "    \"sheet_id\": tableauData[\"sheetId\"],\n",
    "})\n",
    "\n",
    "dataReg = re.search('\\d+;({.*})\\d+;({.*})', r.text, re.MULTILINE)\n",
    "data1 = json.loads(dataReg.group(2))\n",
    "\n",
    "dataJson = data1[\"secondaryInfo\"][\"presModelMap\"][\"dataDictionary\"][\"presModelHolder\"][\"genDataDictionaryPresModel\"][\"dataSegments\"][\"0\"][\"dataColumns\"]"
   ]
  },
  {
   "cell_type": "markdown",
   "metadata": {},
   "source": [
    "Isolate what you want"
   ]
  },
  {
   "cell_type": "code",
   "execution_count": 6,
   "metadata": {
    "execution": {
     "iopub.execute_input": "2021-03-14T04:49:34.550340Z",
     "iopub.status.busy": "2021-03-14T04:49:34.549674Z",
     "iopub.status.idle": "2021-03-14T04:49:34.553327Z",
     "shell.execute_reply": "2021-03-14T04:49:34.553893Z"
    }
   },
   "outputs": [],
   "source": [
    "counties = dataJson[2]['dataValues'][:58]"
   ]
  },
  {
   "cell_type": "code",
   "execution_count": 7,
   "metadata": {
    "execution": {
     "iopub.execute_input": "2021-03-14T04:49:34.559412Z",
     "iopub.status.busy": "2021-03-14T04:49:34.558742Z",
     "iopub.status.idle": "2021-03-14T04:49:34.562954Z",
     "shell.execute_reply": "2021-03-14T04:49:34.562337Z"
    }
   },
   "outputs": [],
   "source": [
    "doses = dataJson[0]['dataValues'][3:61]"
   ]
  },
  {
   "cell_type": "markdown",
   "metadata": {},
   "source": [
    "Data formatting"
   ]
  },
  {
   "cell_type": "code",
   "execution_count": 8,
   "metadata": {
    "execution": {
     "iopub.execute_input": "2021-03-14T04:49:34.567402Z",
     "iopub.status.busy": "2021-03-14T04:49:34.566740Z",
     "iopub.status.idle": "2021-03-14T04:49:34.570924Z",
     "shell.execute_reply": "2021-03-14T04:49:34.570322Z"
    }
   },
   "outputs": [],
   "source": [
    "zipped = dict(zip(counties, doses))"
   ]
  },
  {
   "cell_type": "code",
   "execution_count": 9,
   "metadata": {
    "execution": {
     "iopub.execute_input": "2021-03-14T04:49:34.578124Z",
     "iopub.status.busy": "2021-03-14T04:49:34.577483Z",
     "iopub.status.idle": "2021-03-14T04:49:34.581735Z",
     "shell.execute_reply": "2021-03-14T04:49:34.581157Z"
    }
   },
   "outputs": [],
   "source": [
    "df = pd.Series(zipped).reset_index()"
   ]
  },
  {
   "cell_type": "code",
   "execution_count": 10,
   "metadata": {
    "execution": {
     "iopub.execute_input": "2021-03-14T04:49:34.585898Z",
     "iopub.status.busy": "2021-03-14T04:49:34.585257Z",
     "iopub.status.idle": "2021-03-14T04:49:34.590134Z",
     "shell.execute_reply": "2021-03-14T04:49:34.589577Z"
    }
   },
   "outputs": [],
   "source": [
    "df.columns = ['location','doses']"
   ]
  },
  {
   "cell_type": "markdown",
   "metadata": {},
   "source": [
    "Grab the overall California total"
   ]
  },
  {
   "cell_type": "code",
   "execution_count": 11,
   "metadata": {
    "execution": {
     "iopub.execute_input": "2021-03-14T04:49:34.594298Z",
     "iopub.status.busy": "2021-03-14T04:49:34.593675Z",
     "iopub.status.idle": "2021-03-14T04:49:34.597754Z",
     "shell.execute_reply": "2021-03-14T04:49:34.597171Z"
    }
   },
   "outputs": [],
   "source": [
    "add = {'location':'California','doses':dataJson[0]['dataValues'][2]}"
   ]
  },
  {
   "cell_type": "code",
   "execution_count": 12,
   "metadata": {
    "execution": {
     "iopub.execute_input": "2021-03-14T04:49:34.604990Z",
     "iopub.status.busy": "2021-03-14T04:49:34.604371Z",
     "iopub.status.idle": "2021-03-14T04:49:34.607709Z",
     "shell.execute_reply": "2021-03-14T04:49:34.608439Z"
    }
   },
   "outputs": [],
   "source": [
    "df = df.append(add, ignore_index=True)"
   ]
  },
  {
   "cell_type": "code",
   "execution_count": 13,
   "metadata": {
    "execution": {
     "iopub.execute_input": "2021-03-14T04:49:34.613259Z",
     "iopub.status.busy": "2021-03-14T04:49:34.612616Z",
     "iopub.status.idle": "2021-03-14T04:49:34.616022Z",
     "shell.execute_reply": "2021-03-14T04:49:34.616543Z"
    }
   },
   "outputs": [],
   "source": [
    "df = df.sort_values(by='location')"
   ]
  },
  {
   "cell_type": "code",
   "execution_count": 14,
   "metadata": {
    "execution": {
     "iopub.execute_input": "2021-03-14T04:49:34.623046Z",
     "iopub.status.busy": "2021-03-14T04:49:34.622443Z",
     "iopub.status.idle": "2021-03-14T04:49:34.625714Z",
     "shell.execute_reply": "2021-03-14T04:49:34.626433Z"
    }
   },
   "outputs": [],
   "source": [
    "df = df[df.location == 'California'].append(df[df.location != 'California']).reset_index(drop=True)"
   ]
  },
  {
   "cell_type": "code",
   "execution_count": null,
   "metadata": {},
   "outputs": [],
   "source": []
  },
  {
   "cell_type": "code",
   "execution_count": 15,
   "metadata": {
    "execution": {
     "iopub.execute_input": "2021-03-14T04:49:34.630242Z",
     "iopub.status.busy": "2021-03-14T04:49:34.629635Z",
     "iopub.status.idle": "2021-03-14T04:49:34.651375Z",
     "shell.execute_reply": "2021-03-14T04:49:34.650850Z"
    }
   },
   "outputs": [],
   "source": [
    "tz = pytz.timezone(\"America/New_York\")"
   ]
  },
  {
   "cell_type": "code",
   "execution_count": 16,
   "metadata": {
    "execution": {
     "iopub.execute_input": "2021-03-14T04:49:34.655161Z",
     "iopub.status.busy": "2021-03-14T04:49:34.654571Z",
     "iopub.status.idle": "2021-03-14T04:49:34.657885Z",
     "shell.execute_reply": "2021-03-14T04:49:34.658620Z"
    }
   },
   "outputs": [],
   "source": [
    "today = datetime.now(tz).date()"
   ]
  },
  {
   "cell_type": "code",
   "execution_count": 17,
   "metadata": {
    "execution": {
     "iopub.execute_input": "2021-03-14T04:49:34.662582Z",
     "iopub.status.busy": "2021-03-14T04:49:34.661987Z",
     "iopub.status.idle": "2021-03-14T04:49:34.666016Z",
     "shell.execute_reply": "2021-03-14T04:49:34.665478Z"
    }
   },
   "outputs": [],
   "source": [
    "data_dir = os.path.join(os.path.abspath(\"\"), \"data\")"
   ]
  },
  {
   "cell_type": "code",
   "execution_count": 18,
   "metadata": {
    "execution": {
     "iopub.execute_input": "2021-03-14T04:49:34.670236Z",
     "iopub.status.busy": "2021-03-14T04:49:34.669624Z",
     "iopub.status.idle": "2021-03-14T04:49:34.675680Z",
     "shell.execute_reply": "2021-03-14T04:49:34.675144Z"
    }
   },
   "outputs": [],
   "source": [
    "df.to_csv(os.path.join(data_dir, f\"{today}.csv\"), index=False)"
   ]
  },
  {
   "cell_type": "code",
   "execution_count": null,
   "metadata": {},
   "outputs": [],
   "source": []
  }
 ],
 "metadata": {
  "kernelspec": {
   "display_name": "Python 3",
   "language": "python",
   "name": "python3"
  },
  "language_info": {
   "codemirror_mode": {
    "name": "ipython",
    "version": 3
   },
   "file_extension": ".py",
   "mimetype": "text/x-python",
   "name": "python",
   "nbconvert_exporter": "python",
   "pygments_lexer": "ipython3",
   "version": "3.8.8"
  }
 },
 "nbformat": 4,
 "nbformat_minor": 4
}
