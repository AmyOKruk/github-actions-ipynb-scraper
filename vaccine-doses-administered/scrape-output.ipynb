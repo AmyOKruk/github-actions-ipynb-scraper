{
 "cells": [
  {
   "cell_type": "markdown",
   "metadata": {},
   "source": [
    "# California COVID vaccinations scrape"
   ]
  },
  {
   "cell_type": "markdown",
   "metadata": {},
   "source": [
    "By [Amy O'Kruk](https://twitter.com/amyokruk)"
   ]
  },
  {
   "cell_type": "markdown",
   "metadata": {},
   "source": [
    "Downloads data on vaccine doses administered by county and statewide from a Tableau-powered dashboard from the California Department of Public Health."
   ]
  },
  {
   "cell_type": "code",
   "execution_count": 1,
   "metadata": {
    "execution": {
     "iopub.execute_input": "2021-03-22T22:14:17.648932Z",
     "iopub.status.busy": "2021-03-22T22:14:17.648302Z",
     "iopub.status.idle": "2021-03-22T22:14:18.062468Z",
     "shell.execute_reply": "2021-03-22T22:14:18.061440Z"
    }
   },
   "outputs": [],
   "source": [
    "import pandas as pd\n",
    "import requests\n",
    "from bs4 import BeautifulSoup\n",
    "import json\n",
    "import re\n",
    "import time\n",
    "from time import gmtime, strftime \n",
    "import os\n",
    "import pytz\n",
    "from datetime import datetime"
   ]
  },
  {
   "cell_type": "markdown",
   "metadata": {},
   "source": [
    "Scrape the dashboard page"
   ]
  },
  {
   "cell_type": "code",
   "execution_count": 2,
   "metadata": {
    "execution": {
     "iopub.execute_input": "2021-03-22T22:14:18.068102Z",
     "iopub.status.busy": "2021-03-22T22:14:18.066133Z",
     "iopub.status.idle": "2021-03-22T22:14:18.581145Z",
     "shell.execute_reply": "2021-03-22T22:14:18.581543Z"
    }
   },
   "outputs": [],
   "source": [
    "url = \"https://public.tableau.com/interactive/views/COVID-19VaccineDashboardPublic/Vaccine?:embed=y&:showVizHome=n&:apiID=host0\"\n",
    "\n",
    "r = requests.get(url)\n",
    "soup = BeautifulSoup(r.text, \"html.parser\")"
   ]
  },
  {
   "cell_type": "code",
   "execution_count": 3,
   "metadata": {
    "execution": {
     "iopub.execute_input": "2021-03-22T22:14:18.585727Z",
     "iopub.status.busy": "2021-03-22T22:14:18.585252Z",
     "iopub.status.idle": "2021-03-22T22:14:18.588870Z",
     "shell.execute_reply": "2021-03-22T22:14:18.588333Z"
    }
   },
   "outputs": [],
   "source": [
    "tableauData = json.loads(soup.find(\"textarea\",{\"id\": \"tsConfigContainer\"}).text)"
   ]
  },
  {
   "cell_type": "markdown",
   "metadata": {},
   "source": [
    "Get the link to the Tableau data"
   ]
  },
  {
   "cell_type": "code",
   "execution_count": 4,
   "metadata": {
    "execution": {
     "iopub.execute_input": "2021-03-22T22:14:18.591962Z",
     "iopub.status.busy": "2021-03-22T22:14:18.591494Z",
     "iopub.status.idle": "2021-03-22T22:14:18.595118Z",
     "shell.execute_reply": "2021-03-22T22:14:18.594452Z"
    }
   },
   "outputs": [],
   "source": [
    "dataUrl = f'https://public.tableau.com{tableauData[\"vizql_root\"]}/bootstrapSession/sessions/{tableauData[\"sessionid\"]}'"
   ]
  },
  {
   "cell_type": "code",
   "execution_count": 5,
   "metadata": {
    "execution": {
     "iopub.execute_input": "2021-03-22T22:14:18.601314Z",
     "iopub.status.busy": "2021-03-22T22:14:18.600642Z",
     "iopub.status.idle": "2021-03-22T22:14:18.967486Z",
     "shell.execute_reply": "2021-03-22T22:14:18.966977Z"
    }
   },
   "outputs": [],
   "source": [
    "r = requests.post(dataUrl, data= {\n",
    "    \"sheet_id\": tableauData[\"sheetId\"],\n",
    "})\n",
    "\n",
    "dataReg = re.search('\\d+;({.*})\\d+;({.*})', r.text, re.MULTILINE)\n",
    "data1 = json.loads(dataReg.group(2))\n",
    "\n",
    "dataJson = data1[\"secondaryInfo\"][\"presModelMap\"][\"dataDictionary\"][\"presModelHolder\"][\"genDataDictionaryPresModel\"][\"dataSegments\"][\"0\"][\"dataColumns\"]"
   ]
  },
  {
   "cell_type": "markdown",
   "metadata": {},
   "source": [
    "Isolate what you want"
   ]
  },
  {
   "cell_type": "code",
   "execution_count": 6,
   "metadata": {
    "execution": {
     "iopub.execute_input": "2021-03-22T22:14:18.972017Z",
     "iopub.status.busy": "2021-03-22T22:14:18.970959Z",
     "iopub.status.idle": "2021-03-22T22:14:18.973090Z",
     "shell.execute_reply": "2021-03-22T22:14:18.973475Z"
    }
   },
   "outputs": [],
   "source": [
    "counties = dataJson[2]['dataValues'][:58]"
   ]
  },
  {
   "cell_type": "code",
   "execution_count": 7,
   "metadata": {
    "execution": {
     "iopub.execute_input": "2021-03-22T22:14:18.977557Z",
     "iopub.status.busy": "2021-03-22T22:14:18.976371Z",
     "iopub.status.idle": "2021-03-22T22:14:18.978225Z",
     "shell.execute_reply": "2021-03-22T22:14:18.978627Z"
    }
   },
   "outputs": [],
   "source": [
    "doses = dataJson[0]['dataValues'][3:61]"
   ]
  },
  {
   "cell_type": "markdown",
   "metadata": {},
   "source": [
    "Data formatting"
   ]
  },
  {
   "cell_type": "code",
   "execution_count": 8,
   "metadata": {
    "execution": {
     "iopub.execute_input": "2021-03-22T22:14:18.982147Z",
     "iopub.status.busy": "2021-03-22T22:14:18.981271Z",
     "iopub.status.idle": "2021-03-22T22:14:18.982985Z",
     "shell.execute_reply": "2021-03-22T22:14:18.983350Z"
    }
   },
   "outputs": [],
   "source": [
    "zipped = dict(zip(counties, doses))"
   ]
  },
  {
   "cell_type": "code",
   "execution_count": 9,
   "metadata": {
    "execution": {
     "iopub.execute_input": "2021-03-22T22:14:18.989336Z",
     "iopub.status.busy": "2021-03-22T22:14:18.988330Z",
     "iopub.status.idle": "2021-03-22T22:14:18.990022Z",
     "shell.execute_reply": "2021-03-22T22:14:18.990417Z"
    }
   },
   "outputs": [],
   "source": [
    "df = pd.Series(zipped).reset_index()"
   ]
  },
  {
   "cell_type": "code",
   "execution_count": 10,
   "metadata": {
    "execution": {
     "iopub.execute_input": "2021-03-22T22:14:18.994477Z",
     "iopub.status.busy": "2021-03-22T22:14:18.993334Z",
     "iopub.status.idle": "2021-03-22T22:14:18.995056Z",
     "shell.execute_reply": "2021-03-22T22:14:18.995445Z"
    }
   },
   "outputs": [],
   "source": [
    "df.columns = ['location','doses']"
   ]
  },
  {
   "cell_type": "markdown",
   "metadata": {},
   "source": [
    "Grab the overall California total"
   ]
  },
  {
   "cell_type": "code",
   "execution_count": 11,
   "metadata": {
    "execution": {
     "iopub.execute_input": "2021-03-22T22:14:18.999169Z",
     "iopub.status.busy": "2021-03-22T22:14:18.998323Z",
     "iopub.status.idle": "2021-03-22T22:14:18.999946Z",
     "shell.execute_reply": "2021-03-22T22:14:19.000362Z"
    }
   },
   "outputs": [],
   "source": [
    "add = {'location':'California','doses':dataJson[0]['dataValues'][2]}"
   ]
  },
  {
   "cell_type": "code",
   "execution_count": 12,
   "metadata": {
    "execution": {
     "iopub.execute_input": "2021-03-22T22:14:19.006832Z",
     "iopub.status.busy": "2021-03-22T22:14:19.005979Z",
     "iopub.status.idle": "2021-03-22T22:14:19.007717Z",
     "shell.execute_reply": "2021-03-22T22:14:19.008080Z"
    }
   },
   "outputs": [],
   "source": [
    "df = df.append(add, ignore_index=True)"
   ]
  },
  {
   "cell_type": "code",
   "execution_count": 13,
   "metadata": {
    "execution": {
     "iopub.execute_input": "2021-03-22T22:14:19.012262Z",
     "iopub.status.busy": "2021-03-22T22:14:19.011423Z",
     "iopub.status.idle": "2021-03-22T22:14:19.013093Z",
     "shell.execute_reply": "2021-03-22T22:14:19.013456Z"
    }
   },
   "outputs": [],
   "source": [
    "df = df.sort_values(by='location')"
   ]
  },
  {
   "cell_type": "code",
   "execution_count": 14,
   "metadata": {
    "execution": {
     "iopub.execute_input": "2021-03-22T22:14:19.019491Z",
     "iopub.status.busy": "2021-03-22T22:14:19.018648Z",
     "iopub.status.idle": "2021-03-22T22:14:19.020269Z",
     "shell.execute_reply": "2021-03-22T22:14:19.020668Z"
    }
   },
   "outputs": [],
   "source": [
    "df = df[df.location == 'California'].append(df[df.location != 'California']).reset_index(drop=True)"
   ]
  },
  {
   "cell_type": "code",
   "execution_count": null,
   "metadata": {},
   "outputs": [],
   "source": []
  },
  {
   "cell_type": "code",
   "execution_count": 15,
   "metadata": {
    "execution": {
     "iopub.execute_input": "2021-03-22T22:14:19.023781Z",
     "iopub.status.busy": "2021-03-22T22:14:19.023244Z",
     "iopub.status.idle": "2021-03-22T22:14:19.041239Z",
     "shell.execute_reply": "2021-03-22T22:14:19.040817Z"
    }
   },
   "outputs": [],
   "source": [
    "tz = pytz.timezone(\"America/New_York\")"
   ]
  },
  {
   "cell_type": "code",
   "execution_count": 16,
   "metadata": {
    "execution": {
     "iopub.execute_input": "2021-03-22T22:14:19.044970Z",
     "iopub.status.busy": "2021-03-22T22:14:19.044075Z",
     "iopub.status.idle": "2021-03-22T22:14:19.045803Z",
     "shell.execute_reply": "2021-03-22T22:14:19.046240Z"
    }
   },
   "outputs": [],
   "source": [
    "today = datetime.now(tz).date()"
   ]
  },
  {
   "cell_type": "code",
   "execution_count": 17,
   "metadata": {
    "execution": {
     "iopub.execute_input": "2021-03-22T22:14:19.050324Z",
     "iopub.status.busy": "2021-03-22T22:14:19.049690Z",
     "iopub.status.idle": "2021-03-22T22:14:19.053262Z",
     "shell.execute_reply": "2021-03-22T22:14:19.052813Z"
    }
   },
   "outputs": [],
   "source": [
    "data_dir = os.path.join(os.path.abspath(\"\"), \"data\")"
   ]
  },
  {
   "cell_type": "code",
   "execution_count": 18,
   "metadata": {
    "execution": {
     "iopub.execute_input": "2021-03-22T22:14:19.056578Z",
     "iopub.status.busy": "2021-03-22T22:14:19.056078Z",
     "iopub.status.idle": "2021-03-22T22:14:19.060077Z",
     "shell.execute_reply": "2021-03-22T22:14:19.059682Z"
    }
   },
   "outputs": [],
   "source": [
    "df.to_csv(os.path.join(data_dir, f\"{today}.csv\"), index=False)"
   ]
  },
  {
   "cell_type": "code",
   "execution_count": null,
   "metadata": {},
   "outputs": [],
   "source": []
  }
 ],
 "metadata": {
  "kernelspec": {
   "display_name": "Python 3",
   "language": "python",
   "name": "python3"
  },
  "language_info": {
   "codemirror_mode": {
    "name": "ipython",
    "version": 3
   },
   "file_extension": ".py",
   "mimetype": "text/x-python",
   "name": "python",
   "nbconvert_exporter": "python",
   "pygments_lexer": "ipython3",
   "version": "3.8.8"
  }
 },
 "nbformat": 4,
 "nbformat_minor": 4
}
