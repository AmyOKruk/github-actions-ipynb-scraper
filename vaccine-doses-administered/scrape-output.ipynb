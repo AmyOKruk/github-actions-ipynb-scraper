{
 "cells": [
  {
   "cell_type": "markdown",
   "metadata": {},
   "source": [
    "# California COVID vaccinations scrape"
   ]
  },
  {
   "cell_type": "markdown",
   "metadata": {},
   "source": [
    "By [Amy O'Kruk](https://twitter.com/amyokruk)"
   ]
  },
  {
   "cell_type": "markdown",
   "metadata": {},
   "source": [
    "Downloads data on vaccine doses administered by county and statewide from a Tableau-powered dashboard from the California Department of Public Health."
   ]
  },
  {
   "cell_type": "code",
   "execution_count": 1,
   "metadata": {
    "execution": {
     "iopub.execute_input": "2021-03-12T17:13:01.978827Z",
     "iopub.status.busy": "2021-03-12T17:13:01.978240Z",
     "iopub.status.idle": "2021-03-12T17:13:02.339098Z",
     "shell.execute_reply": "2021-03-12T17:13:02.338164Z"
    }
   },
   "outputs": [],
   "source": [
    "import pandas as pd\n",
    "import requests\n",
    "from bs4 import BeautifulSoup\n",
    "import json\n",
    "import re\n",
    "import time\n",
    "from time import gmtime, strftime \n",
    "import os\n",
    "import pytz\n",
    "from datetime import datetime"
   ]
  },
  {
   "cell_type": "markdown",
   "metadata": {},
   "source": [
    "Scrape the dashboard page"
   ]
  },
  {
   "cell_type": "code",
   "execution_count": 2,
   "metadata": {
    "execution": {
     "iopub.execute_input": "2021-03-12T17:13:02.344073Z",
     "iopub.status.busy": "2021-03-12T17:13:02.343348Z",
     "iopub.status.idle": "2021-03-12T17:13:02.656530Z",
     "shell.execute_reply": "2021-03-12T17:13:02.657313Z"
    }
   },
   "outputs": [],
   "source": [
    "url = \"https://public.tableau.com/interactive/views/COVID-19VaccineDashboardPublic/Vaccine?:embed=y&:showVizHome=n&:apiID=host0\"\n",
    "\n",
    "r = requests.get(url)\n",
    "soup = BeautifulSoup(r.text, \"html.parser\")"
   ]
  },
  {
   "cell_type": "code",
   "execution_count": 3,
   "metadata": {
    "execution": {
     "iopub.execute_input": "2021-03-12T17:13:02.662185Z",
     "iopub.status.busy": "2021-03-12T17:13:02.661665Z",
     "iopub.status.idle": "2021-03-12T17:13:02.665608Z",
     "shell.execute_reply": "2021-03-12T17:13:02.665169Z"
    }
   },
   "outputs": [],
   "source": [
    "tableauData = json.loads(soup.find(\"textarea\",{\"id\": \"tsConfigContainer\"}).text)"
   ]
  },
  {
   "cell_type": "markdown",
   "metadata": {},
   "source": [
    "Get the link to the Tableau data"
   ]
  },
  {
   "cell_type": "code",
   "execution_count": 4,
   "metadata": {
    "execution": {
     "iopub.execute_input": "2021-03-12T17:13:02.670012Z",
     "iopub.status.busy": "2021-03-12T17:13:02.668746Z",
     "iopub.status.idle": "2021-03-12T17:13:02.670606Z",
     "shell.execute_reply": "2021-03-12T17:13:02.671028Z"
    }
   },
   "outputs": [],
   "source": [
    "dataUrl = f'https://public.tableau.com{tableauData[\"vizql_root\"]}/bootstrapSession/sessions/{tableauData[\"sessionid\"]}'"
   ]
  },
  {
   "cell_type": "code",
   "execution_count": 5,
   "metadata": {
    "execution": {
     "iopub.execute_input": "2021-03-12T17:13:02.677313Z",
     "iopub.status.busy": "2021-03-12T17:13:02.676764Z",
     "iopub.status.idle": "2021-03-12T17:13:02.888546Z",
     "shell.execute_reply": "2021-03-12T17:13:02.887722Z"
    }
   },
   "outputs": [],
   "source": [
    "r = requests.post(dataUrl, data= {\n",
    "    \"sheet_id\": tableauData[\"sheetId\"],\n",
    "})\n",
    "\n",
    "dataReg = re.search('\\d+;({.*})\\d+;({.*})', r.text, re.MULTILINE)\n",
    "data1 = json.loads(dataReg.group(2))\n",
    "\n",
    "dataJson = data1[\"secondaryInfo\"][\"presModelMap\"][\"dataDictionary\"][\"presModelHolder\"][\"genDataDictionaryPresModel\"][\"dataSegments\"][\"0\"][\"dataColumns\"]"
   ]
  },
  {
   "cell_type": "markdown",
   "metadata": {},
   "source": [
    "Isolate what you want"
   ]
  },
  {
   "cell_type": "code",
   "execution_count": 6,
   "metadata": {
    "execution": {
     "iopub.execute_input": "2021-03-12T17:13:02.892112Z",
     "iopub.status.busy": "2021-03-12T17:13:02.891630Z",
     "iopub.status.idle": "2021-03-12T17:13:02.894721Z",
     "shell.execute_reply": "2021-03-12T17:13:02.895094Z"
    }
   },
   "outputs": [],
   "source": [
    "counties = dataJson[2]['dataValues'][:58]"
   ]
  },
  {
   "cell_type": "code",
   "execution_count": 7,
   "metadata": {
    "execution": {
     "iopub.execute_input": "2021-03-12T17:13:02.898531Z",
     "iopub.status.busy": "2021-03-12T17:13:02.898012Z",
     "iopub.status.idle": "2021-03-12T17:13:02.901480Z",
     "shell.execute_reply": "2021-03-12T17:13:02.901045Z"
    }
   },
   "outputs": [],
   "source": [
    "doses = dataJson[0]['dataValues'][3:61]"
   ]
  },
  {
   "cell_type": "markdown",
   "metadata": {},
   "source": [
    "Data formatting"
   ]
  },
  {
   "cell_type": "code",
   "execution_count": 8,
   "metadata": {
    "execution": {
     "iopub.execute_input": "2021-03-12T17:13:02.904943Z",
     "iopub.status.busy": "2021-03-12T17:13:02.904467Z",
     "iopub.status.idle": "2021-03-12T17:13:02.906389Z",
     "shell.execute_reply": "2021-03-12T17:13:02.905972Z"
    }
   },
   "outputs": [],
   "source": [
    "zipped = dict(zip(counties, doses))"
   ]
  },
  {
   "cell_type": "code",
   "execution_count": 9,
   "metadata": {
    "execution": {
     "iopub.execute_input": "2021-03-12T17:13:02.911355Z",
     "iopub.status.busy": "2021-03-12T17:13:02.910877Z",
     "iopub.status.idle": "2021-03-12T17:13:02.913070Z",
     "shell.execute_reply": "2021-03-12T17:13:02.912654Z"
    }
   },
   "outputs": [],
   "source": [
    "df = pd.Series(zipped).reset_index()"
   ]
  },
  {
   "cell_type": "code",
   "execution_count": 10,
   "metadata": {
    "execution": {
     "iopub.execute_input": "2021-03-12T17:13:02.916391Z",
     "iopub.status.busy": "2021-03-12T17:13:02.915919Z",
     "iopub.status.idle": "2021-03-12T17:13:02.917378Z",
     "shell.execute_reply": "2021-03-12T17:13:02.917788Z"
    }
   },
   "outputs": [],
   "source": [
    "df.columns = ['location','doses']"
   ]
  },
  {
   "cell_type": "markdown",
   "metadata": {},
   "source": [
    "Grab the overall California total"
   ]
  },
  {
   "cell_type": "code",
   "execution_count": 11,
   "metadata": {
    "execution": {
     "iopub.execute_input": "2021-03-12T17:13:02.921547Z",
     "iopub.status.busy": "2021-03-12T17:13:02.921064Z",
     "iopub.status.idle": "2021-03-12T17:13:02.923160Z",
     "shell.execute_reply": "2021-03-12T17:13:02.922744Z"
    }
   },
   "outputs": [],
   "source": [
    "add = {'location':'California','doses':dataJson[0]['dataValues'][2]}"
   ]
  },
  {
   "cell_type": "code",
   "execution_count": 12,
   "metadata": {
    "execution": {
     "iopub.execute_input": "2021-03-12T17:13:02.929233Z",
     "iopub.status.busy": "2021-03-12T17:13:02.928457Z",
     "iopub.status.idle": "2021-03-12T17:13:02.930003Z",
     "shell.execute_reply": "2021-03-12T17:13:02.930401Z"
    }
   },
   "outputs": [],
   "source": [
    "df = df.append(add, ignore_index=True)"
   ]
  },
  {
   "cell_type": "code",
   "execution_count": 13,
   "metadata": {
    "execution": {
     "iopub.execute_input": "2021-03-12T17:13:02.934855Z",
     "iopub.status.busy": "2021-03-12T17:13:02.933788Z",
     "iopub.status.idle": "2021-03-12T17:13:02.935548Z",
     "shell.execute_reply": "2021-03-12T17:13:02.935981Z"
    }
   },
   "outputs": [],
   "source": [
    "df = df.sort_values(by='location')"
   ]
  },
  {
   "cell_type": "code",
   "execution_count": 14,
   "metadata": {
    "execution": {
     "iopub.execute_input": "2021-03-12T17:13:02.941991Z",
     "iopub.status.busy": "2021-03-12T17:13:02.940955Z",
     "iopub.status.idle": "2021-03-12T17:13:02.942547Z",
     "shell.execute_reply": "2021-03-12T17:13:02.942944Z"
    }
   },
   "outputs": [],
   "source": [
    "df = df[df.location == 'California'].append(df[df.location != 'California']).reset_index(drop=True)"
   ]
  },
  {
   "cell_type": "code",
   "execution_count": null,
   "metadata": {},
   "outputs": [],
   "source": []
  },
  {
   "cell_type": "code",
   "execution_count": 15,
   "metadata": {
    "execution": {
     "iopub.execute_input": "2021-03-12T17:13:02.945906Z",
     "iopub.status.busy": "2021-03-12T17:13:02.945383Z",
     "iopub.status.idle": "2021-03-12T17:13:02.961611Z",
     "shell.execute_reply": "2021-03-12T17:13:02.961197Z"
    }
   },
   "outputs": [],
   "source": [
    "tz = pytz.timezone(\"America/New_York\")"
   ]
  },
  {
   "cell_type": "code",
   "execution_count": 16,
   "metadata": {
    "execution": {
     "iopub.execute_input": "2021-03-12T17:13:02.964894Z",
     "iopub.status.busy": "2021-03-12T17:13:02.964388Z",
     "iopub.status.idle": "2021-03-12T17:13:02.966780Z",
     "shell.execute_reply": "2021-03-12T17:13:02.966344Z"
    }
   },
   "outputs": [],
   "source": [
    "today = datetime.now(tz).date()"
   ]
  },
  {
   "cell_type": "code",
   "execution_count": 17,
   "metadata": {
    "execution": {
     "iopub.execute_input": "2021-03-12T17:13:02.971364Z",
     "iopub.status.busy": "2021-03-12T17:13:02.970264Z",
     "iopub.status.idle": "2021-03-12T17:13:02.971956Z",
     "shell.execute_reply": "2021-03-12T17:13:02.972380Z"
    }
   },
   "outputs": [],
   "source": [
    "data_dir = os.path.join(os.path.abspath(\"\"), \"data\")"
   ]
  },
  {
   "cell_type": "code",
   "execution_count": 18,
   "metadata": {
    "execution": {
     "iopub.execute_input": "2021-03-12T17:13:02.976553Z",
     "iopub.status.busy": "2021-03-12T17:13:02.975334Z",
     "iopub.status.idle": "2021-03-12T17:13:02.979679Z",
     "shell.execute_reply": "2021-03-12T17:13:02.979205Z"
    }
   },
   "outputs": [],
   "source": [
    "df.to_csv(os.path.join(data_dir, f\"{today}.csv\"), index=False)"
   ]
  },
  {
   "cell_type": "code",
   "execution_count": null,
   "metadata": {},
   "outputs": [],
   "source": []
  }
 ],
 "metadata": {
  "kernelspec": {
   "display_name": "Python 3",
   "language": "python",
   "name": "python3"
  },
  "language_info": {
   "codemirror_mode": {
    "name": "ipython",
    "version": 3
   },
   "file_extension": ".py",
   "mimetype": "text/x-python",
   "name": "python",
   "nbconvert_exporter": "python",
   "pygments_lexer": "ipython3",
   "version": "3.8.8"
  }
 },
 "nbformat": 4,
 "nbformat_minor": 4
}
